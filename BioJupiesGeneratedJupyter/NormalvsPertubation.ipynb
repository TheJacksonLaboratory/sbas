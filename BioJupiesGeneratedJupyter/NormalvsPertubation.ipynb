taset=dataset)

# Run analysis
results['pca'] = analyze(dataset=dataset, tool='pca', normalization='logCPM', nr_genes=2500, plot_type='interactive', z_score=True)

# Display results
plot(results['pca'])

# Run analysis
results['clustergrammer'] = analyze(dataset=dataset, tool='clustergrammer', normalization='logCPM', nr_genes=2500, z_score=True)

# Display results
plot(results['clustergrammer'])

# Run analysis
results['library_size_analysis'] = analyze(dataset=dataset, tool='library_size_analysis', plot_type='interactive')

# Display results
plot(results['library_size_analysis'])

# Initialize results
results['signature_table'] = {}

# Loop through signatures
for label, signature in signatures.items():

    # Run analysis
        results['signature_table'][label] = analyze(signature=signature, tool='signature_table', signature_label=label)

    # Display results
        plot(results['signature_table'][label])

# Initialize results
results['volcano_plot'] = {}

# Loop through signatures
for label, signature in signatures.items():

    # Run analysis
        results['volcano_plot'][label] = analyze(signature=signature, tool='volcano_plot', signature_label=label, logfc_threshold=1.5, plot_type='interactive', pvalue_threshold=0.05)

    # Display results
        plot(results['volcano_plot'][label])

# Initialize results
results['ma_plot'] = {}

# Loop through signatures
for label, signature in signatures.items():

    # Run analysis
        results['ma_plot'][label] = analyze(signature=signature, tool='ma_plot', signature_label=label, logfc_threshold=1.5, plot_type='interactive', pvalue_threshold=0.05)

    # Display results
        plot(results['ma_plot'][label])

# Initialize results
results['enrichr'] = {}

# Loop through signatures
for label, signature in signatures.items():

    # Run analysis
        results['enrichr'][label] = analyze(signature=signature, tool='enrichr', signature_label=label, geneset_size=500, sort_genes_by='t')

    # Display results
        plot(results['enrichr'][label])

# Initialize results
results['go_enrichment'] = {}

# Loop through results
for label, enrichr_results in results['enrichr'].items():

    # Run analysis
        results['go_enrichment'][label] = analyze(enrichr_results=enrichr_results['results'], tool='go_enrichment', signature_label=label, go_version=2018, plot_type='interactive', sort_results_by='pvalue')

    # Display results
        plot(results['go_enrichment'][label])

# Initialize results
results['pathway_enrichment'] = {}

# Loop through results
for label, enrichr_results in results['enrichr'].items():

    # Run analysis
        results['pathway_enrichment'][label] = analyze(enrichr_results=enrichr_results['results'], tool='pathway_enrichment', signature_label=label, plot_type='interactive', sort_results_by='pvalue')

    # Display results
        plot(results['pathway_enrichment'][label])

# Initialize results
results['tf_enrichment'] = {}

# Loop through results
for label, enrichr_results in results['enrichr'].items():

    # Run analysis
        results['tf_enrichment'][label] = analyze(enrichr_results=enrichr_results['results'], tool='tf_enrichment', signature_label=label)

    # Display results
        plot(results['tf_enrichment'][label])

# Initialize results
results['kinase_enrichment'] = {}

# Loop through results
for label, enrichr_results in results['enrichr'].items():

    # Run analysis
        results['kinase_enrichment'][label] = analyze(enrichr_results=enrichr_results['results'], tool='kinase_enrichment', signature_label=label)

    # Display results
        plot(results['kinase_enrichment'][label])

# Initialize results
results['mirna_enrichment'] = {}

# Loop through results
for label, enrichr_results in results['enrichr'].items():

    # Run analysis
        results['mirna_enrichment'][label] = analyze(enrichr_results=enrichr_results['results'], tool='mirna_enrichment', signature_label=label)

    # Display results
        plot(results['mirna_enrichment'][label])

