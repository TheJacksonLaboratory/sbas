{
 "cells": [
  {
   "cell_type": "markdown",
   "metadata": {},
   "source": [
    "# Analysis pre-processing by Diogo Veiga"
   ]
  },
  {
   "cell_type": "markdown",
   "metadata": {},
   "source": [
    "These scripts take the output of in some cases the differential analysis and other cases the output of the rMATS processing, to create the input files for each of the figures for the paper, \"The Impact of Sex on Alternative Splicing\""
   ]
  },
  {
   "cell_type": "markdown",
   "metadata": {},
   "source": [
    "## **NOTE**:\n",
    "\n",
    "We assume that you have cloned the analysis repository and have `cd` into the parent directory. Before starting with the analysis make sure you have first completed the dependencies set up by following the instructions described in the **`dependencies/README.md`** document. All paths defined in this Notebook are relative to the parent directory (repository). Please close this Notebook and start again by following the above guidelines if you have not completed the aforementioned steps."
   ]
  },
  {
   "cell_type": "markdown",
   "metadata": {},
   "source": [
    "## Loading dependencies"
   ]
  },
  {
   "cell_type": "code",
   "execution_count": 7,
   "metadata": {},
   "outputs": [],
   "source": [
    "library(dplyr)\n",
    "library(ggplot2)\n",
    "\n",
    "Sys.setenv(TAR = \"/bin/tar\") # for gzfile"
   ]
  },
  {
   "cell_type": "markdown",
   "metadata": {},
   "source": [
    "## Download the files\n",
    "for testing, in a new launcher window, open a terminal.\n",
    "\n",
    "cd sbas/data\n",
    "mkdir significant_events\n",
    "wget wget https://github.com/adeslatt/sbas_test/releases/download/GTExV6SignificantASTissueEvents.v1/significant_events.tar\n",
    "tar xvf significant_events.tar\n",
    "\n",
    "## after getting the significant_events files -- get the gencode specific files.\n",
    "\n",
    "wget https://github.com/adeslatt/sbas_test/releases/download/rmats_final.gencode.v30/fromGTF.SE.txt\n",
    "wget https://github.com/adeslatt/sbas_test/releases/download/rmats_final.gencode.v30/fromGTF.RI.txt\n",
    "wget https://github.com/adeslatt/sbas_test/releases/download/rmats_final.gencode.v30/fromGTF.A3SS.txt\n",
    "wget https://github.com/adeslatt/sbas_test/releases/download/rmats_final.gencode.v30/fromGTF.A5SS.txt\n",
    "wget https://github.com/adeslatt/sbas_test/releases/download/rmats_final.gencode.v30/fromGTF.MXE.txt\n"
   ]
  },
  {
   "cell_type": "code",
   "execution_count": 13,
   "metadata": {},
   "outputs": [],
   "source": [
    "setwd('jupyter')"
   ]
  },
  {
   "cell_type": "markdown",
   "metadata": {},
   "source": [
    "Some text for describing what is going to be executed and what it will produce"
   ]
  },
  {
   "cell_type": "code",
   "execution_count": 22,
   "metadata": {},
   "outputs": [
    {
     "data": {
      "text/html": [
       "'/mnt/shared/ec2-user/session_data/sbas'"
      ],
      "text/latex": [
       "'/mnt/shared/ec2-user/session\\_data/sbas'"
      ],
      "text/markdown": [
       "'/mnt/shared/ec2-user/session_data/sbas'"
      ],
      "text/plain": [
       "[1] \"/mnt/shared/ec2-user/session_data/sbas\""
      ]
     },
     "metadata": {},
     "output_type": "display_data"
    },
    {
     "data": {
      "text/html": [
       "'/mnt/shared/ec2-user/session_data/sbas'"
      ],
      "text/latex": [
       "'/mnt/shared/ec2-user/session\\_data/sbas'"
      ],
      "text/markdown": [
       "'/mnt/shared/ec2-user/session_data/sbas'"
      ],
      "text/plain": [
       "[1] \"/mnt/shared/ec2-user/session_data/sbas\""
      ]
     },
     "metadata": {},
     "output_type": "display_data"
    }
   ],
   "source": [
    "# verify current working directory, likely it is sbas/jupyter - lets move up a directory.\n",
    "getwd()\n",
    "#setwd('../')\n",
    "getwd()"
   ]
  },
  {
   "cell_type": "code",
   "execution_count": 23,
   "metadata": {},
   "outputs": [
    {
     "data": {
      "text/html": [
       "<style>\n",
       ".list-inline {list-style: none; margin:0; padding: 0}\n",
       ".list-inline>li {display: inline-block}\n",
       ".list-inline>li:not(:last-child)::after {content: \"\\00b7\"; padding: 0 .5ex}\n",
       "</style>\n",
       "<ol class=list-inline><li>'Adipose - Subcutaneousa3ss.txt'</li><li>'Adipose - Subcutaneousa5ss.txt'</li><li>'Adipose - Subcutaneousmxe.txt'</li><li>'Adipose - Subcutaneousri.txt'</li><li>'Adipose - Subcutaneousse.txt'</li><li>'Adipose - Visceral (Omentum)a3ss.txt'</li></ol>\n"
      ],
      "text/latex": [
       "\\begin{enumerate*}\n",
       "\\item 'Adipose - Subcutaneousa3ss.txt'\n",
       "\\item 'Adipose - Subcutaneousa5ss.txt'\n",
       "\\item 'Adipose - Subcutaneousmxe.txt'\n",
       "\\item 'Adipose - Subcutaneousri.txt'\n",
       "\\item 'Adipose - Subcutaneousse.txt'\n",
       "\\item 'Adipose - Visceral (Omentum)a3ss.txt'\n",
       "\\end{enumerate*}\n"
      ],
      "text/markdown": [
       "1. 'Adipose - Subcutaneousa3ss.txt'\n",
       "2. 'Adipose - Subcutaneousa5ss.txt'\n",
       "3. 'Adipose - Subcutaneousmxe.txt'\n",
       "4. 'Adipose - Subcutaneousri.txt'\n",
       "5. 'Adipose - Subcutaneousse.txt'\n",
       "6. 'Adipose - Visceral (Omentum)a3ss.txt'\n",
       "\n",
       "\n"
      ],
      "text/plain": [
       "[1] \"Adipose - Subcutaneousa3ss.txt\"      \n",
       "[2] \"Adipose - Subcutaneousa5ss.txt\"      \n",
       "[3] \"Adipose - Subcutaneousmxe.txt\"       \n",
       "[4] \"Adipose - Subcutaneousri.txt\"        \n",
       "[5] \"Adipose - Subcutaneousse.txt\"        \n",
       "[6] \"Adipose - Visceral (Omentum)a3ss.txt\""
      ]
     },
     "metadata": {},
     "output_type": "display_data"
    },
    {
     "data": {
      "text/html": [
       "<style>\n",
       ".list-inline {list-style: none; margin:0; padding: 0}\n",
       ".list-inline>li {display: inline-block}\n",
       ".list-inline>li:not(:last-child)::after {content: \"\\00b7\"; padding: 0 .5ex}\n",
       "</style>\n",
       "<ol class=list-inline><li>'a3ss'</li><li>'a5ss'</li><li>'mxe'</li><li>'ri'</li><li>'se'</li></ol>\n"
      ],
      "text/latex": [
       "\\begin{enumerate*}\n",
       "\\item 'a3ss'\n",
       "\\item 'a5ss'\n",
       "\\item 'mxe'\n",
       "\\item 'ri'\n",
       "\\item 'se'\n",
       "\\end{enumerate*}\n"
      ],
      "text/markdown": [
       "1. 'a3ss'\n",
       "2. 'a5ss'\n",
       "3. 'mxe'\n",
       "4. 'ri'\n",
       "5. 'se'\n",
       "\n",
       "\n"
      ],
      "text/plain": [
       "[1] \"a3ss\" \"a5ss\" \"mxe\"  \"ri\"   \"se\"  "
      ]
     },
     "metadata": {},
     "output_type": "display_data"
    }
   ],
   "source": [
    "#Parse files to create a data frame with counts\n",
    "\n",
    "files <- list.files(path = \"data/significant_events/\", pattern = \"*.txt\")\n",
    "as_types <- c(\"a3ss\", \"a5ss\", \"mxe\", \"ri\", \"se\")\n",
    "head (files)\n",
    "as_types"
   ]
  },
  {
   "cell_type": "code",
   "execution_count": 24,
   "metadata": {},
   "outputs": [
    {
     "data": {
      "text/html": [
       "<style>\n",
       ".list-inline {list-style: none; margin:0; padding: 0}\n",
       ".list-inline>li {display: inline-block}\n",
       ".list-inline>li:not(:last-child)::after {content: \"\\00b7\"; padding: 0 .5ex}\n",
       "</style>\n",
       "<ol class=list-inline><li>'Adipose - Subcutaneous'</li><li>'Adipose - Subcutaneous'</li><li>'Adipose - Subcutaneous'</li><li>'Adipose - Subcutaneous'</li><li>'Adipose - Subcutaneous'</li><li>'Adipose - Visceral (Omentum)'</li></ol>\n"
      ],
      "text/latex": [
       "\\begin{enumerate*}\n",
       "\\item 'Adipose - Subcutaneous'\n",
       "\\item 'Adipose - Subcutaneous'\n",
       "\\item 'Adipose - Subcutaneous'\n",
       "\\item 'Adipose - Subcutaneous'\n",
       "\\item 'Adipose - Subcutaneous'\n",
       "\\item 'Adipose - Visceral (Omentum)'\n",
       "\\end{enumerate*}\n"
      ],
      "text/markdown": [
       "1. 'Adipose - Subcutaneous'\n",
       "2. 'Adipose - Subcutaneous'\n",
       "3. 'Adipose - Subcutaneous'\n",
       "4. 'Adipose - Subcutaneous'\n",
       "5. 'Adipose - Subcutaneous'\n",
       "6. 'Adipose - Visceral (Omentum)'\n",
       "\n",
       "\n"
      ],
      "text/plain": [
       "[1] \"Adipose - Subcutaneous\"       \"Adipose - Subcutaneous\"      \n",
       "[3] \"Adipose - Subcutaneous\"       \"Adipose - Subcutaneous\"      \n",
       "[5] \"Adipose - Subcutaneous\"       \"Adipose - Visceral (Omentum)\""
      ]
     },
     "metadata": {},
     "output_type": "display_data"
    }
   ],
   "source": [
    "files_aux <- gsub(pattern = \".txt\", replacement = \"\", x = files)\n",
    "files_aux <- gsub(pattern = \"a3ss$|a5ss$|mxe$|ri$|se$\", replacement = \"\", files_aux)\n",
    "head(files_aux)"
   ]
  },
  {
   "cell_type": "code",
   "execution_count": 27,
   "metadata": {},
   "outputs": [
    {
     "data": {
      "text/html": [
       "<table>\n",
       "<caption>A data.frame: 6 × 11</caption>\n",
       "<thead>\n",
       "\t<tr><th></th><th scope=col>ID</th><th scope=col>GeneID</th><th scope=col>geneSymbol</th><th scope=col>chr</th><th scope=col>strand</th><th scope=col>exonStart_0base</th><th scope=col>exonEnd</th><th scope=col>upstreamES</th><th scope=col>upstreamEE</th><th scope=col>downstreamES</th><th scope=col>downstreamEE</th></tr>\n",
       "\t<tr><th></th><th scope=col>&lt;int&gt;</th><th scope=col>&lt;chr&gt;</th><th scope=col>&lt;chr&gt;</th><th scope=col>&lt;chr&gt;</th><th scope=col>&lt;chr&gt;</th><th scope=col>&lt;int&gt;</th><th scope=col>&lt;int&gt;</th><th scope=col>&lt;int&gt;</th><th scope=col>&lt;int&gt;</th><th scope=col>&lt;int&gt;</th><th scope=col>&lt;int&gt;</th></tr>\n",
       "</thead>\n",
       "<tbody>\n",
       "\t<tr><th scope=row>1</th><td>1</td><td>ENSG00000034152.18</td><td>MAP2K3</td><td>chr17</td><td>+</td><td>21287990</td><td>21288091</td><td>21284709</td><td>21284969</td><td>21295674</td><td>21295769</td></tr>\n",
       "\t<tr><th scope=row>2</th><td>2</td><td>ENSG00000034152.18</td><td>MAP2K3</td><td>chr17</td><td>+</td><td>21303182</td><td>21303234</td><td>21302142</td><td>21302259</td><td>21304425</td><td>21304553</td></tr>\n",
       "\t<tr><th scope=row>3</th><td>3</td><td>ENSG00000034152.18</td><td>MAP2K3</td><td>chr17</td><td>+</td><td>21295674</td><td>21295769</td><td>21287990</td><td>21288091</td><td>21296085</td><td>21296143</td></tr>\n",
       "\t<tr><th scope=row>4</th><td>4</td><td>ENSG00000034152.18</td><td>MAP2K3</td><td>chr17</td><td>+</td><td>21295674</td><td>21295769</td><td>21287990</td><td>21288091</td><td>21298412</td><td>21298479</td></tr>\n",
       "\t<tr><th scope=row>5</th><td>5</td><td>ENSG00000034152.18</td><td>MAP2K3</td><td>chr17</td><td>+</td><td>21295674</td><td>21295769</td><td>21284710</td><td>21284969</td><td>21296085</td><td>21296143</td></tr>\n",
       "\t<tr><th scope=row>6</th><td>6</td><td>ENSG00000034152.18</td><td>MAP2K3</td><td>chr17</td><td>+</td><td>21295674</td><td>21295769</td><td>21284710</td><td>21284969</td><td>21298412</td><td>21298479</td></tr>\n",
       "</tbody>\n",
       "</table>\n"
      ],
      "text/latex": [
       "A data.frame: 6 × 11\n",
       "\\begin{tabular}{r|lllllllllll}\n",
       "  & ID & GeneID & geneSymbol & chr & strand & exonStart\\_0base & exonEnd & upstreamES & upstreamEE & downstreamES & downstreamEE\\\\\n",
       "  & <int> & <chr> & <chr> & <chr> & <chr> & <int> & <int> & <int> & <int> & <int> & <int>\\\\\n",
       "\\hline\n",
       "\t1 & 1 & ENSG00000034152.18 & MAP2K3 & chr17 & + & 21287990 & 21288091 & 21284709 & 21284969 & 21295674 & 21295769\\\\\n",
       "\t2 & 2 & ENSG00000034152.18 & MAP2K3 & chr17 & + & 21303182 & 21303234 & 21302142 & 21302259 & 21304425 & 21304553\\\\\n",
       "\t3 & 3 & ENSG00000034152.18 & MAP2K3 & chr17 & + & 21295674 & 21295769 & 21287990 & 21288091 & 21296085 & 21296143\\\\\n",
       "\t4 & 4 & ENSG00000034152.18 & MAP2K3 & chr17 & + & 21295674 & 21295769 & 21287990 & 21288091 & 21298412 & 21298479\\\\\n",
       "\t5 & 5 & ENSG00000034152.18 & MAP2K3 & chr17 & + & 21295674 & 21295769 & 21284710 & 21284969 & 21296085 & 21296143\\\\\n",
       "\t6 & 6 & ENSG00000034152.18 & MAP2K3 & chr17 & + & 21295674 & 21295769 & 21284710 & 21284969 & 21298412 & 21298479\\\\\n",
       "\\end{tabular}\n"
      ],
      "text/markdown": [
       "\n",
       "A data.frame: 6 × 11\n",
       "\n",
       "| <!--/--> | ID &lt;int&gt; | GeneID &lt;chr&gt; | geneSymbol &lt;chr&gt; | chr &lt;chr&gt; | strand &lt;chr&gt; | exonStart_0base &lt;int&gt; | exonEnd &lt;int&gt; | upstreamES &lt;int&gt; | upstreamEE &lt;int&gt; | downstreamES &lt;int&gt; | downstreamEE &lt;int&gt; |\n",
       "|---|---|---|---|---|---|---|---|---|---|---|---|\n",
       "| 1 | 1 | ENSG00000034152.18 | MAP2K3 | chr17 | + | 21287990 | 21288091 | 21284709 | 21284969 | 21295674 | 21295769 |\n",
       "| 2 | 2 | ENSG00000034152.18 | MAP2K3 | chr17 | + | 21303182 | 21303234 | 21302142 | 21302259 | 21304425 | 21304553 |\n",
       "| 3 | 3 | ENSG00000034152.18 | MAP2K3 | chr17 | + | 21295674 | 21295769 | 21287990 | 21288091 | 21296085 | 21296143 |\n",
       "| 4 | 4 | ENSG00000034152.18 | MAP2K3 | chr17 | + | 21295674 | 21295769 | 21287990 | 21288091 | 21298412 | 21298479 |\n",
       "| 5 | 5 | ENSG00000034152.18 | MAP2K3 | chr17 | + | 21295674 | 21295769 | 21284710 | 21284969 | 21296085 | 21296143 |\n",
       "| 6 | 6 | ENSG00000034152.18 | MAP2K3 | chr17 | + | 21295674 | 21295769 | 21284710 | 21284969 | 21298412 | 21298479 |\n",
       "\n"
      ],
      "text/plain": [
       "  ID GeneID             geneSymbol chr   strand exonStart_0base exonEnd \n",
       "1 1  ENSG00000034152.18 MAP2K3     chr17 +      21287990        21288091\n",
       "2 2  ENSG00000034152.18 MAP2K3     chr17 +      21303182        21303234\n",
       "3 3  ENSG00000034152.18 MAP2K3     chr17 +      21295674        21295769\n",
       "4 4  ENSG00000034152.18 MAP2K3     chr17 +      21295674        21295769\n",
       "5 5  ENSG00000034152.18 MAP2K3     chr17 +      21295674        21295769\n",
       "6 6  ENSG00000034152.18 MAP2K3     chr17 +      21295674        21295769\n",
       "  upstreamES upstreamEE downstreamES downstreamEE\n",
       "1 21284709   21284969   21295674     21295769    \n",
       "2 21302142   21302259   21304425     21304553    \n",
       "3 21287990   21288091   21296085     21296143    \n",
       "4 21287990   21288091   21298412     21298479    \n",
       "5 21284710   21284969   21296085     21296143    \n",
       "6 21284710   21284969   21298412     21298479    "
      ]
     },
     "metadata": {},
     "output_type": "display_data"
    },
    {
     "data": {
      "text/html": [
       "<table>\n",
       "<caption>A data.frame: 6 × 11</caption>\n",
       "<thead>\n",
       "\t<tr><th></th><th scope=col>ID</th><th scope=col>GeneID</th><th scope=col>geneSymbol</th><th scope=col>chr</th><th scope=col>strand</th><th scope=col>longExonStart_0base</th><th scope=col>longExonEnd</th><th scope=col>shortES</th><th scope=col>shortEE</th><th scope=col>flankingES</th><th scope=col>flankingEE</th></tr>\n",
       "\t<tr><th></th><th scope=col>&lt;int&gt;</th><th scope=col>&lt;chr&gt;</th><th scope=col>&lt;chr&gt;</th><th scope=col>&lt;chr&gt;</th><th scope=col>&lt;chr&gt;</th><th scope=col>&lt;int&gt;</th><th scope=col>&lt;int&gt;</th><th scope=col>&lt;int&gt;</th><th scope=col>&lt;int&gt;</th><th scope=col>&lt;int&gt;</th><th scope=col>&lt;int&gt;</th></tr>\n",
       "</thead>\n",
       "<tbody>\n",
       "\t<tr><th scope=row>1</th><td>1</td><td>ENSG00000034152.18</td><td>MAP2K3</td><td>chr17</td><td>+</td><td> 21300470</td><td> 21300658</td><td> 21300544</td><td> 21300658</td><td> 21298877</td><td> 21298926</td></tr>\n",
       "\t<tr><th scope=row>2</th><td>2</td><td>ENSG00000160223.17</td><td>ICOSLG</td><td>chr21</td><td>-</td><td> 44222990</td><td> 44229044</td><td> 44222990</td><td> 44223078</td><td> 44230053</td><td> 44230089</td></tr>\n",
       "\t<tr><th scope=row>3</th><td>3</td><td>ENSG00000143257.11</td><td>NR1I3 </td><td>chr1 </td><td>-</td><td>161230812</td><td>161230933</td><td>161230812</td><td>161230918</td><td>161231116</td><td>161231245</td></tr>\n",
       "\t<tr><th scope=row>4</th><td>4</td><td>ENSG00000143257.11</td><td>NR1I3 </td><td>chr1 </td><td>-</td><td>161230812</td><td>161231245</td><td>161230812</td><td>161230918</td><td>161231328</td><td>161231474</td></tr>\n",
       "\t<tr><th scope=row>5</th><td>5</td><td>ENSG00000143257.11</td><td>NR1I3 </td><td>chr1 </td><td>-</td><td>161230812</td><td>161230933</td><td>161230812</td><td>161230918</td><td>161231328</td><td>161231474</td></tr>\n",
       "\t<tr><th scope=row>6</th><td>6</td><td>ENSG00000143257.11</td><td>NR1I3 </td><td>chr1 </td><td>-</td><td>161230812</td><td>161231245</td><td>161230812</td><td>161230933</td><td>161231328</td><td>161231474</td></tr>\n",
       "</tbody>\n",
       "</table>\n"
      ],
      "text/latex": [
       "A data.frame: 6 × 11\n",
       "\\begin{tabular}{r|lllllllllll}\n",
       "  & ID & GeneID & geneSymbol & chr & strand & longExonStart\\_0base & longExonEnd & shortES & shortEE & flankingES & flankingEE\\\\\n",
       "  & <int> & <chr> & <chr> & <chr> & <chr> & <int> & <int> & <int> & <int> & <int> & <int>\\\\\n",
       "\\hline\n",
       "\t1 & 1 & ENSG00000034152.18 & MAP2K3 & chr17 & + &  21300470 &  21300658 &  21300544 &  21300658 &  21298877 &  21298926\\\\\n",
       "\t2 & 2 & ENSG00000160223.17 & ICOSLG & chr21 & - &  44222990 &  44229044 &  44222990 &  44223078 &  44230053 &  44230089\\\\\n",
       "\t3 & 3 & ENSG00000143257.11 & NR1I3  & chr1  & - & 161230812 & 161230933 & 161230812 & 161230918 & 161231116 & 161231245\\\\\n",
       "\t4 & 4 & ENSG00000143257.11 & NR1I3  & chr1  & - & 161230812 & 161231245 & 161230812 & 161230918 & 161231328 & 161231474\\\\\n",
       "\t5 & 5 & ENSG00000143257.11 & NR1I3  & chr1  & - & 161230812 & 161230933 & 161230812 & 161230918 & 161231328 & 161231474\\\\\n",
       "\t6 & 6 & ENSG00000143257.11 & NR1I3  & chr1  & - & 161230812 & 161231245 & 161230812 & 161230933 & 161231328 & 161231474\\\\\n",
       "\\end{tabular}\n"
      ],
      "text/markdown": [
       "\n",
       "A data.frame: 6 × 11\n",
       "\n",
       "| <!--/--> | ID &lt;int&gt; | GeneID &lt;chr&gt; | geneSymbol &lt;chr&gt; | chr &lt;chr&gt; | strand &lt;chr&gt; | longExonStart_0base &lt;int&gt; | longExonEnd &lt;int&gt; | shortES &lt;int&gt; | shortEE &lt;int&gt; | flankingES &lt;int&gt; | flankingEE &lt;int&gt; |\n",
       "|---|---|---|---|---|---|---|---|---|---|---|---|\n",
       "| 1 | 1 | ENSG00000034152.18 | MAP2K3 | chr17 | + |  21300470 |  21300658 |  21300544 |  21300658 |  21298877 |  21298926 |\n",
       "| 2 | 2 | ENSG00000160223.17 | ICOSLG | chr21 | - |  44222990 |  44229044 |  44222990 |  44223078 |  44230053 |  44230089 |\n",
       "| 3 | 3 | ENSG00000143257.11 | NR1I3  | chr1  | - | 161230812 | 161230933 | 161230812 | 161230918 | 161231116 | 161231245 |\n",
       "| 4 | 4 | ENSG00000143257.11 | NR1I3  | chr1  | - | 161230812 | 161231245 | 161230812 | 161230918 | 161231328 | 161231474 |\n",
       "| 5 | 5 | ENSG00000143257.11 | NR1I3  | chr1  | - | 161230812 | 161230933 | 161230812 | 161230918 | 161231328 | 161231474 |\n",
       "| 6 | 6 | ENSG00000143257.11 | NR1I3  | chr1  | - | 161230812 | 161231245 | 161230812 | 161230933 | 161231328 | 161231474 |\n",
       "\n"
      ],
      "text/plain": [
       "  ID GeneID             geneSymbol chr   strand longExonStart_0base longExonEnd\n",
       "1 1  ENSG00000034152.18 MAP2K3     chr17 +       21300470            21300658  \n",
       "2 2  ENSG00000160223.17 ICOSLG     chr21 -       44222990            44229044  \n",
       "3 3  ENSG00000143257.11 NR1I3      chr1  -      161230812           161230933  \n",
       "4 4  ENSG00000143257.11 NR1I3      chr1  -      161230812           161231245  \n",
       "5 5  ENSG00000143257.11 NR1I3      chr1  -      161230812           161230933  \n",
       "6 6  ENSG00000143257.11 NR1I3      chr1  -      161230812           161231245  \n",
       "  shortES   shortEE   flankingES flankingEE\n",
       "1  21300544  21300658  21298877   21298926 \n",
       "2  44222990  44223078  44230053   44230089 \n",
       "3 161230812 161230918 161231116  161231245 \n",
       "4 161230812 161230918 161231328  161231474 \n",
       "5 161230812 161230918 161231328  161231474 \n",
       "6 161230812 161230933 161231328  161231474 "
      ]
     },
     "metadata": {},
     "output_type": "display_data"
    },
    {
     "data": {
      "text/html": [
       "<table>\n",
       "<caption>A data.frame: 6 × 11</caption>\n",
       "<thead>\n",
       "\t<tr><th></th><th scope=col>ID</th><th scope=col>GeneID</th><th scope=col>geneSymbol</th><th scope=col>chr</th><th scope=col>strand</th><th scope=col>longExonStart_0base</th><th scope=col>longExonEnd</th><th scope=col>shortES</th><th scope=col>shortEE</th><th scope=col>flankingES</th><th scope=col>flankingEE</th></tr>\n",
       "\t<tr><th></th><th scope=col>&lt;int&gt;</th><th scope=col>&lt;chr&gt;</th><th scope=col>&lt;chr&gt;</th><th scope=col>&lt;chr&gt;</th><th scope=col>&lt;chr&gt;</th><th scope=col>&lt;int&gt;</th><th scope=col>&lt;int&gt;</th><th scope=col>&lt;int&gt;</th><th scope=col>&lt;int&gt;</th><th scope=col>&lt;int&gt;</th><th scope=col>&lt;int&gt;</th></tr>\n",
       "</thead>\n",
       "<tbody>\n",
       "\t<tr><th scope=row>1</th><td>1</td><td>ENSG00000125166.13</td><td>GOT2   </td><td>chr16</td><td>-</td><td> 58722118</td><td> 58722278</td><td> 58722149</td><td> 58722278</td><td> 58719195</td><td> 58719255</td></tr>\n",
       "\t<tr><th scope=row>2</th><td>2</td><td>ENSG00000130182.8 </td><td>ZSCAN10</td><td>chr16</td><td>-</td><td>  3092541</td><td>  3093004</td><td>  3092676</td><td>  3093004</td><td>  3091763</td><td>  3091828</td></tr>\n",
       "\t<tr><th scope=row>3</th><td>3</td><td>ENSG00000143257.11</td><td>NR1I3  </td><td>chr1 </td><td>-</td><td>161236458</td><td>161236598</td><td>161236529</td><td>161236598</td><td>161235846</td><td>161235977</td></tr>\n",
       "\t<tr><th scope=row>4</th><td>4</td><td>ENSG00000154265.16</td><td>ABCA5  </td><td>chr17</td><td>-</td><td> 69273942</td><td> 69274128</td><td> 69273958</td><td> 69274128</td><td> 69271161</td><td> 69271289</td></tr>\n",
       "\t<tr><th scope=row>5</th><td>5</td><td>ENSG00000035928.16</td><td>RFC1   </td><td>chr4 </td><td>-</td><td> 39351347</td><td> 39351476</td><td> 39351431</td><td> 39351476</td><td> 39345400</td><td> 39345476</td></tr>\n",
       "\t<tr><th scope=row>6</th><td>6</td><td>ENSG00000127249.15</td><td>ATP13A4</td><td>chr3 </td><td>-</td><td>193440489</td><td>193440637</td><td>193440557</td><td>193440637</td><td>193439022</td><td>193439065</td></tr>\n",
       "</tbody>\n",
       "</table>\n"
      ],
      "text/latex": [
       "A data.frame: 6 × 11\n",
       "\\begin{tabular}{r|lllllllllll}\n",
       "  & ID & GeneID & geneSymbol & chr & strand & longExonStart\\_0base & longExonEnd & shortES & shortEE & flankingES & flankingEE\\\\\n",
       "  & <int> & <chr> & <chr> & <chr> & <chr> & <int> & <int> & <int> & <int> & <int> & <int>\\\\\n",
       "\\hline\n",
       "\t1 & 1 & ENSG00000125166.13 & GOT2    & chr16 & - &  58722118 &  58722278 &  58722149 &  58722278 &  58719195 &  58719255\\\\\n",
       "\t2 & 2 & ENSG00000130182.8  & ZSCAN10 & chr16 & - &   3092541 &   3093004 &   3092676 &   3093004 &   3091763 &   3091828\\\\\n",
       "\t3 & 3 & ENSG00000143257.11 & NR1I3   & chr1  & - & 161236458 & 161236598 & 161236529 & 161236598 & 161235846 & 161235977\\\\\n",
       "\t4 & 4 & ENSG00000154265.16 & ABCA5   & chr17 & - &  69273942 &  69274128 &  69273958 &  69274128 &  69271161 &  69271289\\\\\n",
       "\t5 & 5 & ENSG00000035928.16 & RFC1    & chr4  & - &  39351347 &  39351476 &  39351431 &  39351476 &  39345400 &  39345476\\\\\n",
       "\t6 & 6 & ENSG00000127249.15 & ATP13A4 & chr3  & - & 193440489 & 193440637 & 193440557 & 193440637 & 193439022 & 193439065\\\\\n",
       "\\end{tabular}\n"
      ],
      "text/markdown": [
       "\n",
       "A data.frame: 6 × 11\n",
       "\n",
       "| <!--/--> | ID &lt;int&gt; | GeneID &lt;chr&gt; | geneSymbol &lt;chr&gt; | chr &lt;chr&gt; | strand &lt;chr&gt; | longExonStart_0base &lt;int&gt; | longExonEnd &lt;int&gt; | shortES &lt;int&gt; | shortEE &lt;int&gt; | flankingES &lt;int&gt; | flankingEE &lt;int&gt; |\n",
       "|---|---|---|---|---|---|---|---|---|---|---|---|\n",
       "| 1 | 1 | ENSG00000125166.13 | GOT2    | chr16 | - |  58722118 |  58722278 |  58722149 |  58722278 |  58719195 |  58719255 |\n",
       "| 2 | 2 | ENSG00000130182.8  | ZSCAN10 | chr16 | - |   3092541 |   3093004 |   3092676 |   3093004 |   3091763 |   3091828 |\n",
       "| 3 | 3 | ENSG00000143257.11 | NR1I3   | chr1  | - | 161236458 | 161236598 | 161236529 | 161236598 | 161235846 | 161235977 |\n",
       "| 4 | 4 | ENSG00000154265.16 | ABCA5   | chr17 | - |  69273942 |  69274128 |  69273958 |  69274128 |  69271161 |  69271289 |\n",
       "| 5 | 5 | ENSG00000035928.16 | RFC1    | chr4  | - |  39351347 |  39351476 |  39351431 |  39351476 |  39345400 |  39345476 |\n",
       "| 6 | 6 | ENSG00000127249.15 | ATP13A4 | chr3  | - | 193440489 | 193440637 | 193440557 | 193440637 | 193439022 | 193439065 |\n",
       "\n"
      ],
      "text/plain": [
       "  ID GeneID             geneSymbol chr   strand longExonStart_0base longExonEnd\n",
       "1 1  ENSG00000125166.13 GOT2       chr16 -       58722118            58722278  \n",
       "2 2  ENSG00000130182.8  ZSCAN10    chr16 -        3092541             3093004  \n",
       "3 3  ENSG00000143257.11 NR1I3      chr1  -      161236458           161236598  \n",
       "4 4  ENSG00000154265.16 ABCA5      chr17 -       69273942            69274128  \n",
       "5 5  ENSG00000035928.16 RFC1       chr4  -       39351347            39351476  \n",
       "6 6  ENSG00000127249.15 ATP13A4    chr3  -      193440489           193440637  \n",
       "  shortES   shortEE   flankingES flankingEE\n",
       "1  58722149  58722278  58719195   58719255 \n",
       "2   3092676   3093004   3091763    3091828 \n",
       "3 161236529 161236598 161235846  161235977 \n",
       "4  69273958  69274128  69271161   69271289 \n",
       "5  39351431  39351476  39345400   39345476 \n",
       "6 193440557 193440637 193439022  193439065 "
      ]
     },
     "metadata": {},
     "output_type": "display_data"
    },
    {
     "data": {
      "text/html": [
       "<table>\n",
       "<caption>A data.frame: 6 × 11</caption>\n",
       "<thead>\n",
       "\t<tr><th></th><th scope=col>ID</th><th scope=col>GeneID</th><th scope=col>geneSymbol</th><th scope=col>chr</th><th scope=col>strand</th><th scope=col>riExonStart_0base</th><th scope=col>riExonEnd</th><th scope=col>upstreamES</th><th scope=col>upstreamEE</th><th scope=col>downstreamES</th><th scope=col>downstreamEE</th></tr>\n",
       "\t<tr><th></th><th scope=col>&lt;int&gt;</th><th scope=col>&lt;chr&gt;</th><th scope=col>&lt;chr&gt;</th><th scope=col>&lt;chr&gt;</th><th scope=col>&lt;chr&gt;</th><th scope=col>&lt;int&gt;</th><th scope=col>&lt;int&gt;</th><th scope=col>&lt;int&gt;</th><th scope=col>&lt;int&gt;</th><th scope=col>&lt;int&gt;</th><th scope=col>&lt;int&gt;</th></tr>\n",
       "</thead>\n",
       "<tbody>\n",
       "\t<tr><th scope=row>1</th><td>1</td><td>ENSG00000160223.17</td><td>ICOSLG</td><td>chr21</td><td>-</td><td> 44226833</td><td> 44230089</td><td> 44226833</td><td> 44229044</td><td> 44230053</td><td> 44230089</td></tr>\n",
       "\t<tr><th scope=row>2</th><td>2</td><td>ENSG00000143257.11</td><td>NR1I3 </td><td>chr1 </td><td>-</td><td>161230812</td><td>161231245</td><td>161230812</td><td>161230933</td><td>161231116</td><td>161231245</td></tr>\n",
       "\t<tr><th scope=row>3</th><td>3</td><td>ENSG00000143257.11</td><td>NR1I3 </td><td>chr1 </td><td>-</td><td>161230812</td><td>161231245</td><td>161230812</td><td>161230918</td><td>161231116</td><td>161231245</td></tr>\n",
       "\t<tr><th scope=row>4</th><td>4</td><td>ENSG00000114062.19</td><td>UBE3A </td><td>chr15</td><td>-</td><td> 25333727</td><td> 25340228</td><td> 25333727</td><td> 25339257</td><td> 25340084</td><td> 25340228</td></tr>\n",
       "\t<tr><th scope=row>5</th><td>5</td><td>ENSG00000100359.21</td><td>SGSM3 </td><td>chr22</td><td>+</td><td> 40408932</td><td> 40409372</td><td> 40408932</td><td> 40409018</td><td> 40409249</td><td> 40409372</td></tr>\n",
       "\t<tr><th scope=row>6</th><td>6</td><td>ENSG00000100359.21</td><td>SGSM3 </td><td>chr22</td><td>+</td><td> 40408932</td><td> 40409372</td><td> 40408932</td><td> 40409018</td><td> 40409339</td><td> 40409372</td></tr>\n",
       "</tbody>\n",
       "</table>\n"
      ],
      "text/latex": [
       "A data.frame: 6 × 11\n",
       "\\begin{tabular}{r|lllllllllll}\n",
       "  & ID & GeneID & geneSymbol & chr & strand & riExonStart\\_0base & riExonEnd & upstreamES & upstreamEE & downstreamES & downstreamEE\\\\\n",
       "  & <int> & <chr> & <chr> & <chr> & <chr> & <int> & <int> & <int> & <int> & <int> & <int>\\\\\n",
       "\\hline\n",
       "\t1 & 1 & ENSG00000160223.17 & ICOSLG & chr21 & - &  44226833 &  44230089 &  44226833 &  44229044 &  44230053 &  44230089\\\\\n",
       "\t2 & 2 & ENSG00000143257.11 & NR1I3  & chr1  & - & 161230812 & 161231245 & 161230812 & 161230933 & 161231116 & 161231245\\\\\n",
       "\t3 & 3 & ENSG00000143257.11 & NR1I3  & chr1  & - & 161230812 & 161231245 & 161230812 & 161230918 & 161231116 & 161231245\\\\\n",
       "\t4 & 4 & ENSG00000114062.19 & UBE3A  & chr15 & - &  25333727 &  25340228 &  25333727 &  25339257 &  25340084 &  25340228\\\\\n",
       "\t5 & 5 & ENSG00000100359.21 & SGSM3  & chr22 & + &  40408932 &  40409372 &  40408932 &  40409018 &  40409249 &  40409372\\\\\n",
       "\t6 & 6 & ENSG00000100359.21 & SGSM3  & chr22 & + &  40408932 &  40409372 &  40408932 &  40409018 &  40409339 &  40409372\\\\\n",
       "\\end{tabular}\n"
      ],
      "text/markdown": [
       "\n",
       "A data.frame: 6 × 11\n",
       "\n",
       "| <!--/--> | ID &lt;int&gt; | GeneID &lt;chr&gt; | geneSymbol &lt;chr&gt; | chr &lt;chr&gt; | strand &lt;chr&gt; | riExonStart_0base &lt;int&gt; | riExonEnd &lt;int&gt; | upstreamES &lt;int&gt; | upstreamEE &lt;int&gt; | downstreamES &lt;int&gt; | downstreamEE &lt;int&gt; |\n",
       "|---|---|---|---|---|---|---|---|---|---|---|---|\n",
       "| 1 | 1 | ENSG00000160223.17 | ICOSLG | chr21 | - |  44226833 |  44230089 |  44226833 |  44229044 |  44230053 |  44230089 |\n",
       "| 2 | 2 | ENSG00000143257.11 | NR1I3  | chr1  | - | 161230812 | 161231245 | 161230812 | 161230933 | 161231116 | 161231245 |\n",
       "| 3 | 3 | ENSG00000143257.11 | NR1I3  | chr1  | - | 161230812 | 161231245 | 161230812 | 161230918 | 161231116 | 161231245 |\n",
       "| 4 | 4 | ENSG00000114062.19 | UBE3A  | chr15 | - |  25333727 |  25340228 |  25333727 |  25339257 |  25340084 |  25340228 |\n",
       "| 5 | 5 | ENSG00000100359.21 | SGSM3  | chr22 | + |  40408932 |  40409372 |  40408932 |  40409018 |  40409249 |  40409372 |\n",
       "| 6 | 6 | ENSG00000100359.21 | SGSM3  | chr22 | + |  40408932 |  40409372 |  40408932 |  40409018 |  40409339 |  40409372 |\n",
       "\n"
      ],
      "text/plain": [
       "  ID GeneID             geneSymbol chr   strand riExonStart_0base riExonEnd\n",
       "1 1  ENSG00000160223.17 ICOSLG     chr21 -       44226833          44230089\n",
       "2 2  ENSG00000143257.11 NR1I3      chr1  -      161230812         161231245\n",
       "3 3  ENSG00000143257.11 NR1I3      chr1  -      161230812         161231245\n",
       "4 4  ENSG00000114062.19 UBE3A      chr15 -       25333727          25340228\n",
       "5 5  ENSG00000100359.21 SGSM3      chr22 +       40408932          40409372\n",
       "6 6  ENSG00000100359.21 SGSM3      chr22 +       40408932          40409372\n",
       "  upstreamES upstreamEE downstreamES downstreamEE\n",
       "1  44226833   44229044   44230053     44230089   \n",
       "2 161230812  161230933  161231116    161231245   \n",
       "3 161230812  161230918  161231116    161231245   \n",
       "4  25333727   25339257   25340084     25340228   \n",
       "5  40408932   40409018   40409249     40409372   \n",
       "6  40408932   40409018   40409339     40409372   "
      ]
     },
     "metadata": {},
     "output_type": "display_data"
    },
    {
     "data": {
      "text/html": [
       "<table>\n",
       "<caption>A data.frame: 6 × 13</caption>\n",
       "<thead>\n",
       "\t<tr><th></th><th scope=col>ID</th><th scope=col>GeneID</th><th scope=col>geneSymbol</th><th scope=col>chr</th><th scope=col>strand</th><th scope=col>X1stExonStart_0base</th><th scope=col>X1stExonEnd</th><th scope=col>X2ndExonStart_0base</th><th scope=col>X2ndExonEnd</th><th scope=col>upstreamES</th><th scope=col>upstreamEE</th><th scope=col>downstreamES</th><th scope=col>downstreamEE</th></tr>\n",
       "\t<tr><th></th><th scope=col>&lt;int&gt;</th><th scope=col>&lt;chr&gt;</th><th scope=col>&lt;chr&gt;</th><th scope=col>&lt;chr&gt;</th><th scope=col>&lt;chr&gt;</th><th scope=col>&lt;int&gt;</th><th scope=col>&lt;int&gt;</th><th scope=col>&lt;int&gt;</th><th scope=col>&lt;int&gt;</th><th scope=col>&lt;int&gt;</th><th scope=col>&lt;int&gt;</th><th scope=col>&lt;int&gt;</th><th scope=col>&lt;int&gt;</th></tr>\n",
       "</thead>\n",
       "<tbody>\n",
       "\t<tr><th scope=row>1</th><td>1</td><td>ENSG00000114062.19</td><td>UBE3A  </td><td>chr15</td><td>-</td><td> 25407066</td><td> 25407262</td><td> 25408619</td><td> 25408684</td><td> 25405460</td><td> 25405502</td><td> 25409087</td><td> 25409207</td></tr>\n",
       "\t<tr><th scope=row>2</th><td>2</td><td>ENSG00000181790.11</td><td>ADGRB1 </td><td>chr8 </td><td>+</td><td>142524237</td><td>142524304</td><td>142526541</td><td>142526627</td><td>142522640</td><td>142522710</td><td>142533294</td><td>142533466</td></tr>\n",
       "\t<tr><th scope=row>3</th><td>3</td><td>ENSG00000159256.13</td><td>MORC3  </td><td>chr21</td><td>+</td><td> 36380230</td><td> 36380318</td><td> 36380625</td><td> 36380682</td><td> 36377409</td><td> 36377507</td><td> 36384729</td><td> 36384829</td></tr>\n",
       "\t<tr><th scope=row>4</th><td>4</td><td>ENSG00000077232.18</td><td>DNAJC10</td><td>chr2 </td><td>+</td><td>182752548</td><td>182752623</td><td>182754702</td><td>182754805</td><td>182752071</td><td>182752188</td><td>182755002</td><td>182755104</td></tr>\n",
       "\t<tr><th scope=row>5</th><td>5</td><td>ENSG00000149809.14</td><td>TM7SF2 </td><td>chr11</td><td>+</td><td> 65113219</td><td> 65113414</td><td> 65113490</td><td> 65113594</td><td> 65112810</td><td> 65112865</td><td> 65114712</td><td> 65114832</td></tr>\n",
       "\t<tr><th scope=row>6</th><td>6</td><td>ENSG00000149809.14</td><td>TM7SF2 </td><td>chr11</td><td>+</td><td> 65112810</td><td> 65112865</td><td> 65113219</td><td> 65113414</td><td> 65112514</td><td> 65112711</td><td> 65113490</td><td> 65113594</td></tr>\n",
       "</tbody>\n",
       "</table>\n"
      ],
      "text/latex": [
       "A data.frame: 6 × 13\n",
       "\\begin{tabular}{r|lllllllllllll}\n",
       "  & ID & GeneID & geneSymbol & chr & strand & X1stExonStart\\_0base & X1stExonEnd & X2ndExonStart\\_0base & X2ndExonEnd & upstreamES & upstreamEE & downstreamES & downstreamEE\\\\\n",
       "  & <int> & <chr> & <chr> & <chr> & <chr> & <int> & <int> & <int> & <int> & <int> & <int> & <int> & <int>\\\\\n",
       "\\hline\n",
       "\t1 & 1 & ENSG00000114062.19 & UBE3A   & chr15 & - &  25407066 &  25407262 &  25408619 &  25408684 &  25405460 &  25405502 &  25409087 &  25409207\\\\\n",
       "\t2 & 2 & ENSG00000181790.11 & ADGRB1  & chr8  & + & 142524237 & 142524304 & 142526541 & 142526627 & 142522640 & 142522710 & 142533294 & 142533466\\\\\n",
       "\t3 & 3 & ENSG00000159256.13 & MORC3   & chr21 & + &  36380230 &  36380318 &  36380625 &  36380682 &  36377409 &  36377507 &  36384729 &  36384829\\\\\n",
       "\t4 & 4 & ENSG00000077232.18 & DNAJC10 & chr2  & + & 182752548 & 182752623 & 182754702 & 182754805 & 182752071 & 182752188 & 182755002 & 182755104\\\\\n",
       "\t5 & 5 & ENSG00000149809.14 & TM7SF2  & chr11 & + &  65113219 &  65113414 &  65113490 &  65113594 &  65112810 &  65112865 &  65114712 &  65114832\\\\\n",
       "\t6 & 6 & ENSG00000149809.14 & TM7SF2  & chr11 & + &  65112810 &  65112865 &  65113219 &  65113414 &  65112514 &  65112711 &  65113490 &  65113594\\\\\n",
       "\\end{tabular}\n"
      ],
      "text/markdown": [
       "\n",
       "A data.frame: 6 × 13\n",
       "\n",
       "| <!--/--> | ID &lt;int&gt; | GeneID &lt;chr&gt; | geneSymbol &lt;chr&gt; | chr &lt;chr&gt; | strand &lt;chr&gt; | X1stExonStart_0base &lt;int&gt; | X1stExonEnd &lt;int&gt; | X2ndExonStart_0base &lt;int&gt; | X2ndExonEnd &lt;int&gt; | upstreamES &lt;int&gt; | upstreamEE &lt;int&gt; | downstreamES &lt;int&gt; | downstreamEE &lt;int&gt; |\n",
       "|---|---|---|---|---|---|---|---|---|---|---|---|---|---|\n",
       "| 1 | 1 | ENSG00000114062.19 | UBE3A   | chr15 | - |  25407066 |  25407262 |  25408619 |  25408684 |  25405460 |  25405502 |  25409087 |  25409207 |\n",
       "| 2 | 2 | ENSG00000181790.11 | ADGRB1  | chr8  | + | 142524237 | 142524304 | 142526541 | 142526627 | 142522640 | 142522710 | 142533294 | 142533466 |\n",
       "| 3 | 3 | ENSG00000159256.13 | MORC3   | chr21 | + |  36380230 |  36380318 |  36380625 |  36380682 |  36377409 |  36377507 |  36384729 |  36384829 |\n",
       "| 4 | 4 | ENSG00000077232.18 | DNAJC10 | chr2  | + | 182752548 | 182752623 | 182754702 | 182754805 | 182752071 | 182752188 | 182755002 | 182755104 |\n",
       "| 5 | 5 | ENSG00000149809.14 | TM7SF2  | chr11 | + |  65113219 |  65113414 |  65113490 |  65113594 |  65112810 |  65112865 |  65114712 |  65114832 |\n",
       "| 6 | 6 | ENSG00000149809.14 | TM7SF2  | chr11 | + |  65112810 |  65112865 |  65113219 |  65113414 |  65112514 |  65112711 |  65113490 |  65113594 |\n",
       "\n"
      ],
      "text/plain": [
       "  ID GeneID             geneSymbol chr   strand X1stExonStart_0base X1stExonEnd\n",
       "1 1  ENSG00000114062.19 UBE3A      chr15 -       25407066            25407262  \n",
       "2 2  ENSG00000181790.11 ADGRB1     chr8  +      142524237           142524304  \n",
       "3 3  ENSG00000159256.13 MORC3      chr21 +       36380230            36380318  \n",
       "4 4  ENSG00000077232.18 DNAJC10    chr2  +      182752548           182752623  \n",
       "5 5  ENSG00000149809.14 TM7SF2     chr11 +       65113219            65113414  \n",
       "6 6  ENSG00000149809.14 TM7SF2     chr11 +       65112810            65112865  \n",
       "  X2ndExonStart_0base X2ndExonEnd upstreamES upstreamEE downstreamES\n",
       "1  25408619            25408684    25405460   25405502   25409087   \n",
       "2 142526541           142526627   142522640  142522710  142533294   \n",
       "3  36380625            36380682    36377409   36377507   36384729   \n",
       "4 182754702           182754805   182752071  182752188  182755002   \n",
       "5  65113490            65113594    65112810   65112865   65114712   \n",
       "6  65113219            65113414    65112514   65112711   65113490   \n",
       "  downstreamEE\n",
       "1  25409207   \n",
       "2 142533466   \n",
       "3  36384829   \n",
       "4 182755104   \n",
       "5  65114832   \n",
       "6  65113594   "
      ]
     },
     "metadata": {},
     "output_type": "display_data"
    }
   ],
   "source": [
    "a3ss_annot <- read.table(file = \"data/fromGTF.A3SS.txt\", sep = \"\\t\", quote = \"\\\"\", header = T, stringsAsFactors = F)\n",
    "a5ss_annot <- read.table(file = \"data/fromGTF.A5SS.txt\", sep = \"\\t\", quote = \"\\\"\", header = T, stringsAsFactors = F)\n",
    "mxe_annot  <- read.table(file = \"data/fromGTF.MXE.txt\", sep = \"\\t\", quote = \"\\\"\", header = T, stringsAsFactors = F)\n",
    "ri_annot   <- read.table(file = \"data/fromGTF.RI.txt\", sep = \"\\t\", quote = \"\\\"\", header = T, stringsAsFactors = F)\n",
    "se_annot   <- read.table(file = \"data/fromGTF.SE.txt\", sep = \"\\t\", quote = \"\\\"\", header = T, stringsAsFactors = F)\n",
    "\n",
    "head(se_annot)\n",
    "head(a3ss_annot)\n",
    "head(a5ss_annot)\n",
    "head(ri_annot)\n",
    "head(mxe_annot)"
   ]
  },
  {
   "cell_type": "code",
   "execution_count": 28,
   "metadata": {},
   "outputs": [
    {
     "data": {
      "text/html": [
       "<table>\n",
       "<caption>A data.frame: 6 × 4</caption>\n",
       "<thead>\n",
       "\t<tr><th></th><th scope=col>Tissue</th><th scope=col>ASE</th><th scope=col>GeneSymbol</th><th scope=col>chr</th></tr>\n",
       "\t<tr><th></th><th scope=col>&lt;fct&gt;</th><th scope=col>&lt;fct&gt;</th><th scope=col>&lt;fct&gt;</th><th scope=col>&lt;fct&gt;</th></tr>\n",
       "</thead>\n",
       "<tbody>\n",
       "\t<tr><th scope=row>1</th><td>Adipose - Subcutaneous</td><td>A3SS</td><td>SLC25A36</td><td>chr3 </td></tr>\n",
       "\t<tr><th scope=row>2</th><td>Adipose - Subcutaneous</td><td>A3SS</td><td>MYO15A  </td><td>chr17</td></tr>\n",
       "\t<tr><th scope=row>3</th><td>Adipose - Subcutaneous</td><td>A5SS</td><td>THOC5   </td><td>chr22</td></tr>\n",
       "\t<tr><th scope=row>4</th><td>Adipose - Subcutaneous</td><td>A5SS</td><td>NCMAP   </td><td>chr1 </td></tr>\n",
       "\t<tr><th scope=row>5</th><td>Adipose - Subcutaneous</td><td>A5SS</td><td>C6orf136</td><td>chr6 </td></tr>\n",
       "\t<tr><th scope=row>6</th><td>Adipose - Subcutaneous</td><td>A5SS</td><td>APEH    </td><td>chr3 </td></tr>\n",
       "</tbody>\n",
       "</table>\n"
      ],
      "text/latex": [
       "A data.frame: 6 × 4\n",
       "\\begin{tabular}{r|llll}\n",
       "  & Tissue & ASE & GeneSymbol & chr\\\\\n",
       "  & <fct> & <fct> & <fct> & <fct>\\\\\n",
       "\\hline\n",
       "\t1 & Adipose - Subcutaneous & A3SS & SLC25A36 & chr3 \\\\\n",
       "\t2 & Adipose - Subcutaneous & A3SS & MYO15A   & chr17\\\\\n",
       "\t3 & Adipose - Subcutaneous & A5SS & THOC5    & chr22\\\\\n",
       "\t4 & Adipose - Subcutaneous & A5SS & NCMAP    & chr1 \\\\\n",
       "\t5 & Adipose - Subcutaneous & A5SS & C6orf136 & chr6 \\\\\n",
       "\t6 & Adipose - Subcutaneous & A5SS & APEH     & chr3 \\\\\n",
       "\\end{tabular}\n"
      ],
      "text/markdown": [
       "\n",
       "A data.frame: 6 × 4\n",
       "\n",
       "| <!--/--> | Tissue &lt;fct&gt; | ASE &lt;fct&gt; | GeneSymbol &lt;fct&gt; | chr &lt;fct&gt; |\n",
       "|---|---|---|---|---|\n",
       "| 1 | Adipose - Subcutaneous | A3SS | SLC25A36 | chr3  |\n",
       "| 2 | Adipose - Subcutaneous | A3SS | MYO15A   | chr17 |\n",
       "| 3 | Adipose - Subcutaneous | A5SS | THOC5    | chr22 |\n",
       "| 4 | Adipose - Subcutaneous | A5SS | NCMAP    | chr1  |\n",
       "| 5 | Adipose - Subcutaneous | A5SS | C6orf136 | chr6  |\n",
       "| 6 | Adipose - Subcutaneous | A5SS | APEH     | chr3  |\n",
       "\n"
      ],
      "text/plain": [
       "  Tissue                 ASE  GeneSymbol chr  \n",
       "1 Adipose - Subcutaneous A3SS SLC25A36   chr3 \n",
       "2 Adipose - Subcutaneous A3SS MYO15A     chr17\n",
       "3 Adipose - Subcutaneous A5SS THOC5      chr22\n",
       "4 Adipose - Subcutaneous A5SS NCMAP      chr1 \n",
       "5 Adipose - Subcutaneous A5SS C6orf136   chr6 \n",
       "6 Adipose - Subcutaneous A5SS APEH       chr3 "
      ]
     },
     "metadata": {},
     "output_type": "display_data"
    },
    {
     "data": {
      "text/html": [
       "<table>\n",
       "<caption>A data.frame: 1 × 4</caption>\n",
       "<thead>\n",
       "\t<tr><th></th><th scope=col>Tissue</th><th scope=col>ASE</th><th scope=col>GeneSymbol</th><th scope=col>chr</th></tr>\n",
       "\t<tr><th></th><th scope=col>&lt;fct&gt;</th><th scope=col>&lt;fct&gt;</th><th scope=col>&lt;fct&gt;</th><th scope=col>&lt;fct&gt;</th></tr>\n",
       "</thead>\n",
       "<tbody>\n",
       "\t<tr><th scope=row>1</th><td>Whole Blood</td><td>SE</td><td>LINC00671</td><td>chr17</td></tr>\n",
       "</tbody>\n",
       "</table>\n"
      ],
      "text/latex": [
       "A data.frame: 1 × 4\n",
       "\\begin{tabular}{r|llll}\n",
       "  & Tissue & ASE & GeneSymbol & chr\\\\\n",
       "  & <fct> & <fct> & <fct> & <fct>\\\\\n",
       "\\hline\n",
       "\t1 & Whole Blood & SE & LINC00671 & chr17\\\\\n",
       "\\end{tabular}\n"
      ],
      "text/markdown": [
       "\n",
       "A data.frame: 1 × 4\n",
       "\n",
       "| <!--/--> | Tissue &lt;fct&gt; | ASE &lt;fct&gt; | GeneSymbol &lt;fct&gt; | chr &lt;fct&gt; |\n",
       "|---|---|---|---|---|\n",
       "| 1 | Whole Blood | SE | LINC00671 | chr17 |\n",
       "\n"
      ],
      "text/plain": [
       "  Tissue      ASE GeneSymbol chr  \n",
       "1 Whole Blood SE  LINC00671  chr17"
      ]
     },
     "metadata": {},
     "output_type": "display_data"
    }
   ],
   "source": [
    "gene_as <- data.frame()\n",
    "\n",
    "for (i in 1:length(files)) {\n",
    "\n",
    "  lines <- readLines(paste0(\"data/significant_events/\", files[i]))\n",
    "\n",
    "  if(length(lines) > 1){ #has significant events\n",
    "    events <- read.table(paste0(\"data/significant_events/\", files[i]), sep = \"\\t\", skip = 1)\n",
    "\n",
    "    if(grepl(\"a3ss.txt$\", files[i])){\n",
    "      idx <- match(events$V1, a3ss_annot$ID)\n",
    "      res <- data.frame(Tissue = files_aux[i], ASE = \"A3SS\",\n",
    "                        GeneSymbol = a3ss_annot$geneSymbol[idx],\n",
    "                        chr = a3ss_annot$chr[idx])\n",
    "    }\n",
    "    if(grepl(\"a5ss.txt$\", files[i])){\n",
    "      idx <- match(events$V1, a5ss_annot$ID)\n",
    "      res <- data.frame(Tissue = files_aux[i], ASE = \"A5SS\",\n",
    "                        GeneSymbol = a5ss_annot$geneSymbol[idx],\n",
    "                        chr = a5ss_annot$chr[idx])\n",
    "    }\n",
    "    if(grepl(\"mxe.txt$\", files[i])){\n",
    "      idx <- match(events$V1, mxe_annot$ID)\n",
    "      res <- data.frame(Tissue = files_aux[i], ASE = \"MXE\",\n",
    "                        GeneSymbol = mxe_annot$geneSymbol[idx],\n",
    "                        chr = mxe_annot$chr[idx])\n",
    "    }\n",
    "    if(grepl(\"se.txt$\", files[i])){\n",
    "      idx <- match(events$V1, se_annot$ID)\n",
    "      res <- data.frame(Tissue = files_aux[i], ASE = \"SE\",\n",
    "                        GeneSymbol = se_annot$geneSymbol[idx],\n",
    "                        chr = se_annot$chr[idx])\n",
    "    }\n",
    "    if(grepl(\"ri.txt$\", files[i])){\n",
    "      idx <- match(events$V1, ri_annot$ID)\n",
    "      res <- data.frame(Tissue = files_aux[i], ASE = \"RI\",\n",
    "                        GeneSymbol = ri_annot$geneSymbol[idx],\n",
    "                        chr = ri_annot$chr[idx])\n",
    "    }\n",
    "\n",
    "    gene_as <- rbind(gene_as, res)\n",
    "\n",
    "  } #if has sig. events\n",
    "\n",
    "} #for all files\n",
    "\n",
    "head(gene_as)\n",
    "head(res)"
   ]
  },
  {
   "cell_type": "code",
   "execution_count": 29,
   "metadata": {},
   "outputs": [
    {
     "data": {
      "text/html": [
       "4228"
      ],
      "text/latex": [
       "4228"
      ],
      "text/markdown": [
       "4228"
      ],
      "text/plain": [
       "[1] 4228"
      ]
     },
     "metadata": {},
     "output_type": "display_data"
    },
    {
     "data": {
      "text/html": [
       "<table>\n",
       "<caption>A data.frame: 6 × 2</caption>\n",
       "<thead>\n",
       "\t<tr><th></th><th scope=col>GeneSymbol</th><th scope=col>n</th></tr>\n",
       "\t<tr><th></th><th scope=col>&lt;fct&gt;</th><th scope=col>&lt;int&gt;</th></tr>\n",
       "</thead>\n",
       "<tbody>\n",
       "\t<tr><th scope=row>1</th><td>SLC25A36 </td><td>33</td></tr>\n",
       "\t<tr><th scope=row>2</th><td>TEX41    </td><td>28</td></tr>\n",
       "\t<tr><th scope=row>3</th><td>PPIEL    </td><td>23</td></tr>\n",
       "\t<tr><th scope=row>4</th><td>THOC5    </td><td>21</td></tr>\n",
       "\t<tr><th scope=row>5</th><td>PCBP1-AS1</td><td>20</td></tr>\n",
       "\t<tr><th scope=row>6</th><td>GSTM1    </td><td>18</td></tr>\n",
       "</tbody>\n",
       "</table>\n"
      ],
      "text/latex": [
       "A data.frame: 6 × 2\n",
       "\\begin{tabular}{r|ll}\n",
       "  & GeneSymbol & n\\\\\n",
       "  & <fct> & <int>\\\\\n",
       "\\hline\n",
       "\t1 & SLC25A36  & 33\\\\\n",
       "\t2 & TEX41     & 28\\\\\n",
       "\t3 & PPIEL     & 23\\\\\n",
       "\t4 & THOC5     & 21\\\\\n",
       "\t5 & PCBP1-AS1 & 20\\\\\n",
       "\t6 & GSTM1     & 18\\\\\n",
       "\\end{tabular}\n"
      ],
      "text/markdown": [
       "\n",
       "A data.frame: 6 × 2\n",
       "\n",
       "| <!--/--> | GeneSymbol &lt;fct&gt; | n &lt;int&gt; |\n",
       "|---|---|---|\n",
       "| 1 | SLC25A36  | 33 |\n",
       "| 2 | TEX41     | 28 |\n",
       "| 3 | PPIEL     | 23 |\n",
       "| 4 | THOC5     | 21 |\n",
       "| 5 | PCBP1-AS1 | 20 |\n",
       "| 6 | GSTM1     | 18 |\n",
       "\n"
      ],
      "text/plain": [
       "  GeneSymbol n \n",
       "1 SLC25A36   33\n",
       "2 TEX41      28\n",
       "3 PPIEL      23\n",
       "4 THOC5      21\n",
       "5 PCBP1-AS1  20\n",
       "6 GSTM1      18"
      ]
     },
     "metadata": {},
     "output_type": "display_data"
    }
   ],
   "source": [
    "# Count most frequent spliced genes\n",
    "res <- gene_as %>% group_by(GeneSymbol) %>% count(GeneSymbol) %>% arrange(desc(n)) %>% as.data.frame()\n",
    "res$GeneSymbol <- factor(res$GeneSymbol, levels = res$GeneSymbol)\n",
    "length(res$GeneSymbol)\n",
    "head(res)"
   ]
  },
  {
   "cell_type": "code",
   "execution_count": 30,
   "metadata": {},
   "outputs": [
    {
     "data": {
      "text/html": [
       "<table>\n",
       "<caption>A grouped_df: 6 × 4</caption>\n",
       "<thead>\n",
       "\t<tr><th scope=col>Tissue</th><th scope=col>ASE</th><th scope=col>GeneSymbol</th><th scope=col>chr</th></tr>\n",
       "\t<tr><th scope=col>&lt;fct&gt;</th><th scope=col>&lt;fct&gt;</th><th scope=col>&lt;fct&gt;</th><th scope=col>&lt;fct&gt;</th></tr>\n",
       "</thead>\n",
       "<tbody>\n",
       "\t<tr><td>Adipose - Subcutaneous</td><td>A3SS</td><td>SLC25A36</td><td>chr3 </td></tr>\n",
       "\t<tr><td>Adipose - Subcutaneous</td><td>A3SS</td><td>MYO15A  </td><td>chr17</td></tr>\n",
       "\t<tr><td>Adipose - Subcutaneous</td><td>A5SS</td><td>THOC5   </td><td>chr22</td></tr>\n",
       "\t<tr><td>Adipose - Subcutaneous</td><td>A5SS</td><td>NCMAP   </td><td>chr1 </td></tr>\n",
       "\t<tr><td>Adipose - Subcutaneous</td><td>A5SS</td><td>C6orf136</td><td>chr6 </td></tr>\n",
       "\t<tr><td>Adipose - Subcutaneous</td><td>A5SS</td><td>APEH    </td><td>chr3 </td></tr>\n",
       "</tbody>\n",
       "</table>\n"
      ],
      "text/latex": [
       "A grouped\\_df: 6 × 4\n",
       "\\begin{tabular}{llll}\n",
       " Tissue & ASE & GeneSymbol & chr\\\\\n",
       " <fct> & <fct> & <fct> & <fct>\\\\\n",
       "\\hline\n",
       "\t Adipose - Subcutaneous & A3SS & SLC25A36 & chr3 \\\\\n",
       "\t Adipose - Subcutaneous & A3SS & MYO15A   & chr17\\\\\n",
       "\t Adipose - Subcutaneous & A5SS & THOC5    & chr22\\\\\n",
       "\t Adipose - Subcutaneous & A5SS & NCMAP    & chr1 \\\\\n",
       "\t Adipose - Subcutaneous & A5SS & C6orf136 & chr6 \\\\\n",
       "\t Adipose - Subcutaneous & A5SS & APEH     & chr3 \\\\\n",
       "\\end{tabular}\n"
      ],
      "text/markdown": [
       "\n",
       "A grouped_df: 6 × 4\n",
       "\n",
       "| Tissue &lt;fct&gt; | ASE &lt;fct&gt; | GeneSymbol &lt;fct&gt; | chr &lt;fct&gt; |\n",
       "|---|---|---|---|\n",
       "| Adipose - Subcutaneous | A3SS | SLC25A36 | chr3  |\n",
       "| Adipose - Subcutaneous | A3SS | MYO15A   | chr17 |\n",
       "| Adipose - Subcutaneous | A5SS | THOC5    | chr22 |\n",
       "| Adipose - Subcutaneous | A5SS | NCMAP    | chr1  |\n",
       "| Adipose - Subcutaneous | A5SS | C6orf136 | chr6  |\n",
       "| Adipose - Subcutaneous | A5SS | APEH     | chr3  |\n",
       "\n"
      ],
      "text/plain": [
       "  Tissue                 ASE  GeneSymbol chr  \n",
       "1 Adipose - Subcutaneous A3SS SLC25A36   chr3 \n",
       "2 Adipose - Subcutaneous A3SS MYO15A     chr17\n",
       "3 Adipose - Subcutaneous A5SS THOC5      chr22\n",
       "4 Adipose - Subcutaneous A5SS NCMAP      chr1 \n",
       "5 Adipose - Subcutaneous A5SS C6orf136   chr6 \n",
       "6 Adipose - Subcutaneous A5SS APEH       chr3 "
      ]
     },
     "metadata": {},
     "output_type": "display_data"
    }
   ],
   "source": [
    "test <- gene_as%>% group_by(GeneSymbol)\n",
    "head(test)"
   ]
  },
  {
   "cell_type": "markdown",
   "metadata": {},
   "source": [
    "## Metadata\n",
    "\n",
    "For replicability and reproducibility purposes, we also print the following metadata:\n",
    "\n",
    "1. Checksums of **'artefacts'**, files generated during the analysis and stored in the folder directory **`data`**\n",
    "2. List of environment metadata, dependencies, versions of libraries using `utils::sessionInfo()` and [`devtools::session_info()`](https://devtools.r-lib.org/reference/session_info.html)"
   ]
  },
  {
   "cell_type": "markdown",
   "metadata": {},
   "source": [
    "## Metadata\n",
    "\n",
    "For replicability and reproducibility purposes, we also print the following metadata:\n",
    "\n",
    "1. Checksums of **'artefacts'**, files generated during the analysis and stored in the folder directory **`data`**\n",
    "2. List of environment metadata, dependencies, versions of libraries using `utils::sessionInfo()` and [`devtools::session_info()`](https://devtools.r-lib.org/reference/session_info.html)"
   ]
  },
  {
   "cell_type": "markdown",
   "metadata": {},
   "source": [
    "### 1. Checksums with the sha256 algorithm"
   ]
  },
  {
   "cell_type": "code",
   "execution_count": null,
   "metadata": {},
   "outputs": [],
   "source": [
    "figure_id   = \"<the-figure-i-am-working-on>\"\n",
    "\n",
    "message(\"Generating sha256 checksums of the artefacts in the `..data/` directory .. \")\n",
    "system(paste0(\"cd ../data/ && sha256sum * > ../metadata/\", figure_id, \"_sha256sums.txt\"), intern = TRUE)\n",
    "message(\"Done!\\n\")\n",
    "\n",
    "data.table::fread(paste0(\"../metadata/\", figure_id, \"_sha256sums.txt\"), header = FALSE, col.names = c(\"sha256sum\", \"file\"))"
   ]
  },
  {
   "cell_type": "markdown",
   "metadata": {},
   "source": [
    "### 2. Libraries metadata"
   ]
  },
  {
   "cell_type": "code",
   "execution_count": null,
   "metadata": {},
   "outputs": [],
   "source": [
    "figure_id   = \"<the-figure-i-am-working-on>\"\n",
    "\n",
    "dev_session_info   <- devtools::session_info()\n",
    "utils_session_info <- utils::sessionInfo()\n",
    "\n",
    "message(\"Saving `devtools::session_info()` objects in ../metadata/devtools_session_info.rds  ..\")\n",
    "saveRDS(dev_session_info, file = paste0(\"../metadata/\", figure_id, \"_devtools_session_info.rds\"))\n",
    "message(\"Done!\\n\")\n",
    "\n",
    "message(\"Saving `utils::sessionInfo()` objects in ../metadata/utils_session_info.rds  ..\")\n",
    "saveRDS(utils_session_info, file = paste0(\"../metadata/\", figure_id ,\"_utils_info.rds\"))\n",
    "message(\"Done!\\n\")\n",
    "\n",
    "dev_session_info$platform\n",
    "dev_session_info$packages[dev_session_info$packages$attached==TRUE, ]"
   ]
  }
 ],
 "metadata": {
  "kernelspec": {
   "display_name": "R",
   "language": "R",
   "name": "ir"
  },
  "language_info": {
   "codemirror_mode": "r",
   "file_extension": ".r",
   "mimetype": "text/x-r-source",
   "name": "R",
   "pygments_lexer": "r",
   "version": "3.6.1"
  }
 },
 "nbformat": 4,
 "nbformat_minor": 4
}
