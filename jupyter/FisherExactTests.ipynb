{
 "cells": [
  {
   "cell_type": "markdown",
   "metadata": {},
   "source": [
    "# Analysis Notebook - Fisher exact test\n",
    "\n",
    "This notebook looks at specific Genes and Gene Subcategories"
   ]
  },
  {
   "cell_type": "code",
   "execution_count": 2,
   "metadata": {},
   "outputs": [],
   "source": [
    "suppressWarnings({suppressMessages({\n",
    "options(warn = -1) \n",
    "library(dplyr)\n",
    "library(multtest)\n",
    "library(R.utils)\n",
    "})})"
   ]
  },
  {
   "cell_type": "markdown",
   "metadata": {},
   "source": [
    "### 1  Read in all and significant alternative splicing and differential gene expression results\n",
    "\n",
    "The summary data captured in the now saved **all_gene_as_gene_names.tsv**, **all_genes_dge_data** and significant results captured in **gene_as.tsv** and **gene_dge.tsv**"
   ]
  },
  {
   "cell_type": "code",
   "execution_count": 3,
   "metadata": {},
   "outputs": [
    {
     "data": {
      "text/html": [
       "<table>\n",
       "<caption>A data.frame: 2 × 15</caption>\n",
       "<thead>\n",
       "\t<tr><th></th><th scope=col>GeneJunction</th><th scope=col>ASE</th><th scope=col>ASE_IDX</th><th scope=col>Tissue</th><th scope=col>counts</th><th scope=col>Display</th><th scope=col>GeneSymbol</th><th scope=col>GeneID</th><th scope=col>chr</th><th scope=col>logFC</th><th scope=col>AveExpr</th><th scope=col>t</th><th scope=col>PValue</th><th scope=col>AdjPVal</th><th scope=col>B</th></tr>\n",
       "\t<tr><th></th><th scope=col>&lt;chr&gt;</th><th scope=col>&lt;chr&gt;</th><th scope=col>&lt;int&gt;</th><th scope=col>&lt;chr&gt;</th><th scope=col>&lt;int&gt;</th><th scope=col>&lt;chr&gt;</th><th scope=col>&lt;chr&gt;</th><th scope=col>&lt;chr&gt;</th><th scope=col>&lt;chr&gt;</th><th scope=col>&lt;dbl&gt;</th><th scope=col>&lt;dbl&gt;</th><th scope=col>&lt;dbl&gt;</th><th scope=col>&lt;dbl&gt;</th><th scope=col>&lt;dbl&gt;</th><th scope=col>&lt;dbl&gt;</th></tr>\n",
       "</thead>\n",
       "<tbody>\n",
       "\t<tr><th scope=row>1</th><td>XIST-2253</td><td>A3SS</td><td>2253</td><td>adipose_subcutaneous</td><td>4</td><td>Adipose (sc)</td><td>XIST</td><td>ENSG00000229807.11</td><td>chrX</td><td>-4.408605</td><td>3.196317</td><td>-36.48897</td><td>4.635568e-154</td><td>3.893877e-150</td><td>310.0160</td></tr>\n",
       "\t<tr><th scope=row>2</th><td>XIST-2252</td><td>A3SS</td><td>2252</td><td>adipose_subcutaneous</td><td>4</td><td>Adipose (sc)</td><td>XIST</td><td>ENSG00000229807.11</td><td>chrX</td><td>-2.414713</td><td>3.647690</td><td>-21.92106</td><td> 1.444102e-78</td><td> 6.065229e-75</td><td>160.0282</td></tr>\n",
       "</tbody>\n",
       "</table>\n"
      ],
      "text/latex": [
       "A data.frame: 2 × 15\n",
       "\\begin{tabular}{r|lllllllllllllll}\n",
       "  & GeneJunction & ASE & ASE\\_IDX & Tissue & counts & Display & GeneSymbol & GeneID & chr & logFC & AveExpr & t & PValue & AdjPVal & B\\\\\n",
       "  & <chr> & <chr> & <int> & <chr> & <int> & <chr> & <chr> & <chr> & <chr> & <dbl> & <dbl> & <dbl> & <dbl> & <dbl> & <dbl>\\\\\n",
       "\\hline\n",
       "\t1 & XIST-2253 & A3SS & 2253 & adipose\\_subcutaneous & 4 & Adipose (sc) & XIST & ENSG00000229807.11 & chrX & -4.408605 & 3.196317 & -36.48897 & 4.635568e-154 & 3.893877e-150 & 310.0160\\\\\n",
       "\t2 & XIST-2252 & A3SS & 2252 & adipose\\_subcutaneous & 4 & Adipose (sc) & XIST & ENSG00000229807.11 & chrX & -2.414713 & 3.647690 & -21.92106 &  1.444102e-78 &  6.065229e-75 & 160.0282\\\\\n",
       "\\end{tabular}\n"
      ],
      "text/markdown": [
       "\n",
       "A data.frame: 2 × 15\n",
       "\n",
       "| <!--/--> | GeneJunction &lt;chr&gt; | ASE &lt;chr&gt; | ASE_IDX &lt;int&gt; | Tissue &lt;chr&gt; | counts &lt;int&gt; | Display &lt;chr&gt; | GeneSymbol &lt;chr&gt; | GeneID &lt;chr&gt; | chr &lt;chr&gt; | logFC &lt;dbl&gt; | AveExpr &lt;dbl&gt; | t &lt;dbl&gt; | PValue &lt;dbl&gt; | AdjPVal &lt;dbl&gt; | B &lt;dbl&gt; |\n",
       "|---|---|---|---|---|---|---|---|---|---|---|---|---|---|---|---|\n",
       "| 1 | XIST-2253 | A3SS | 2253 | adipose_subcutaneous | 4 | Adipose (sc) | XIST | ENSG00000229807.11 | chrX | -4.408605 | 3.196317 | -36.48897 | 4.635568e-154 | 3.893877e-150 | 310.0160 |\n",
       "| 2 | XIST-2252 | A3SS | 2252 | adipose_subcutaneous | 4 | Adipose (sc) | XIST | ENSG00000229807.11 | chrX | -2.414713 | 3.647690 | -21.92106 |  1.444102e-78 |  6.065229e-75 | 160.0282 |\n",
       "\n"
      ],
      "text/plain": [
       "  GeneJunction ASE  ASE_IDX Tissue               counts Display      GeneSymbol\n",
       "1 XIST-2253    A3SS 2253    adipose_subcutaneous 4      Adipose (sc) XIST      \n",
       "2 XIST-2252    A3SS 2252    adipose_subcutaneous 4      Adipose (sc) XIST      \n",
       "  GeneID             chr  logFC     AveExpr  t         PValue       \n",
       "1 ENSG00000229807.11 chrX -4.408605 3.196317 -36.48897 4.635568e-154\n",
       "2 ENSG00000229807.11 chrX -2.414713 3.647690 -21.92106  1.444102e-78\n",
       "  AdjPVal       B       \n",
       "1 3.893877e-150 310.0160\n",
       "2  6.065229e-75 160.0282"
      ]
     },
     "metadata": {},
     "output_type": "display_data"
    },
    {
     "data": {
      "text/html": [
       "<table>\n",
       "<caption>A data.frame: 2 × 13</caption>\n",
       "<thead>\n",
       "\t<tr><th></th><th scope=col>Tissue</th><th scope=col>ENSG_ver</th><th scope=col>ENSG_no_ver</th><th scope=col>GeneSymbol</th><th scope=col>counts</th><th scope=col>Display</th><th scope=col>logFC</th><th scope=col>AveExpr</th><th scope=col>t</th><th scope=col>PValue</th><th scope=col>AdjPVal</th><th scope=col>B</th><th scope=col>chr</th></tr>\n",
       "\t<tr><th></th><th scope=col>&lt;chr&gt;</th><th scope=col>&lt;chr&gt;</th><th scope=col>&lt;chr&gt;</th><th scope=col>&lt;chr&gt;</th><th scope=col>&lt;int&gt;</th><th scope=col>&lt;chr&gt;</th><th scope=col>&lt;dbl&gt;</th><th scope=col>&lt;dbl&gt;</th><th scope=col>&lt;dbl&gt;</th><th scope=col>&lt;dbl&gt;</th><th scope=col>&lt;dbl&gt;</th><th scope=col>&lt;dbl&gt;</th><th scope=col>&lt;chr&gt;</th></tr>\n",
       "</thead>\n",
       "<tbody>\n",
       "\t<tr><th scope=row>1</th><td>adipose_subcutaneous</td><td>ENSG00000176728.7</td><td>ENSG00000176728</td><td>TTTY14   </td><td>765</td><td>Adipose (sc)</td><td>-7.982166</td><td>-0.9288129</td><td>-139.8230</td><td>0</td><td>0</td><td>1107.423</td><td>chrY</td></tr>\n",
       "\t<tr><th scope=row>2</th><td>adipose_subcutaneous</td><td>ENSG00000231535.5</td><td>ENSG00000231535</td><td>LINC00278</td><td>765</td><td>Adipose (sc)</td><td>-6.095420</td><td>-2.7765638</td><td>-126.9138</td><td>0</td><td>0</td><td>1050.366</td><td>chrY</td></tr>\n",
       "</tbody>\n",
       "</table>\n"
      ],
      "text/latex": [
       "A data.frame: 2 × 13\n",
       "\\begin{tabular}{r|lllllllllllll}\n",
       "  & Tissue & ENSG\\_ver & ENSG\\_no\\_ver & GeneSymbol & counts & Display & logFC & AveExpr & t & PValue & AdjPVal & B & chr\\\\\n",
       "  & <chr> & <chr> & <chr> & <chr> & <int> & <chr> & <dbl> & <dbl> & <dbl> & <dbl> & <dbl> & <dbl> & <chr>\\\\\n",
       "\\hline\n",
       "\t1 & adipose\\_subcutaneous & ENSG00000176728.7 & ENSG00000176728 & TTTY14    & 765 & Adipose (sc) & -7.982166 & -0.9288129 & -139.8230 & 0 & 0 & 1107.423 & chrY\\\\\n",
       "\t2 & adipose\\_subcutaneous & ENSG00000231535.5 & ENSG00000231535 & LINC00278 & 765 & Adipose (sc) & -6.095420 & -2.7765638 & -126.9138 & 0 & 0 & 1050.366 & chrY\\\\\n",
       "\\end{tabular}\n"
      ],
      "text/markdown": [
       "\n",
       "A data.frame: 2 × 13\n",
       "\n",
       "| <!--/--> | Tissue &lt;chr&gt; | ENSG_ver &lt;chr&gt; | ENSG_no_ver &lt;chr&gt; | GeneSymbol &lt;chr&gt; | counts &lt;int&gt; | Display &lt;chr&gt; | logFC &lt;dbl&gt; | AveExpr &lt;dbl&gt; | t &lt;dbl&gt; | PValue &lt;dbl&gt; | AdjPVal &lt;dbl&gt; | B &lt;dbl&gt; | chr &lt;chr&gt; |\n",
       "|---|---|---|---|---|---|---|---|---|---|---|---|---|---|\n",
       "| 1 | adipose_subcutaneous | ENSG00000176728.7 | ENSG00000176728 | TTTY14    | 765 | Adipose (sc) | -7.982166 | -0.9288129 | -139.8230 | 0 | 0 | 1107.423 | chrY |\n",
       "| 2 | adipose_subcutaneous | ENSG00000231535.5 | ENSG00000231535 | LINC00278 | 765 | Adipose (sc) | -6.095420 | -2.7765638 | -126.9138 | 0 | 0 | 1050.366 | chrY |\n",
       "\n"
      ],
      "text/plain": [
       "  Tissue               ENSG_ver          ENSG_no_ver     GeneSymbol counts\n",
       "1 adipose_subcutaneous ENSG00000176728.7 ENSG00000176728 TTTY14     765   \n",
       "2 adipose_subcutaneous ENSG00000231535.5 ENSG00000231535 LINC00278  765   \n",
       "  Display      logFC     AveExpr    t         PValue AdjPVal B        chr \n",
       "1 Adipose (sc) -7.982166 -0.9288129 -139.8230 0      0       1107.423 chrY\n",
       "2 Adipose (sc) -6.095420 -2.7765638 -126.9138 0      0       1050.366 chrY"
      ]
     },
     "metadata": {},
     "output_type": "display_data"
    },
    {
     "data": {
      "text/html": [
       "<table>\n",
       "<caption>A data.frame: 2 × 2</caption>\n",
       "<thead>\n",
       "\t<tr><th></th><th scope=col>GeneSymbol</th><th scope=col>ensg</th></tr>\n",
       "\t<tr><th></th><th scope=col>&lt;chr&gt;</th><th scope=col>&lt;chr&gt;</th></tr>\n",
       "</thead>\n",
       "<tbody>\n",
       "\t<tr><th scope=row>1</th><td>A1BG</td><td>ENSG00000121410.11</td></tr>\n",
       "\t<tr><th scope=row>2</th><td>A1CF</td><td>ENSG00000148584.15</td></tr>\n",
       "</tbody>\n",
       "</table>\n"
      ],
      "text/latex": [
       "A data.frame: 2 × 2\n",
       "\\begin{tabular}{r|ll}\n",
       "  & GeneSymbol & ensg\\\\\n",
       "  & <chr> & <chr>\\\\\n",
       "\\hline\n",
       "\t1 & A1BG & ENSG00000121410.11\\\\\n",
       "\t2 & A1CF & ENSG00000148584.15\\\\\n",
       "\\end{tabular}\n"
      ],
      "text/markdown": [
       "\n",
       "A data.frame: 2 × 2\n",
       "\n",
       "| <!--/--> | GeneSymbol &lt;chr&gt; | ensg &lt;chr&gt; |\n",
       "|---|---|---|\n",
       "| 1 | A1BG | ENSG00000121410.11 |\n",
       "| 2 | A1CF | ENSG00000148584.15 |\n",
       "\n"
      ],
      "text/plain": [
       "  GeneSymbol ensg              \n",
       "1 A1BG       ENSG00000121410.11\n",
       "2 A1CF       ENSG00000148584.15"
      ]
     },
     "metadata": {},
     "output_type": "display_data"
    },
    {
     "data": {
      "text/html": [
       "<table>\n",
       "<caption>A data.frame: 2 × 4</caption>\n",
       "<thead>\n",
       "\t<tr><th></th><th scope=col>ENSG_ver</th><th scope=col>ENSG_no_ver</th><th scope=col>GeneSymbol</th><th scope=col>chr</th></tr>\n",
       "\t<tr><th></th><th scope=col>&lt;chr&gt;</th><th scope=col>&lt;chr&gt;</th><th scope=col>&lt;chr&gt;</th><th scope=col>&lt;chr&gt;</th></tr>\n",
       "</thead>\n",
       "<tbody>\n",
       "\t<tr><th scope=row>1</th><td>ENSG00000183878.15</td><td>ENSG00000183878</td><td>UTY   </td><td>chrY</td></tr>\n",
       "\t<tr><th scope=row>2</th><td>ENSG00000129824.15</td><td>ENSG00000129824</td><td>RPS4Y1</td><td>chrY</td></tr>\n",
       "</tbody>\n",
       "</table>\n"
      ],
      "text/latex": [
       "A data.frame: 2 × 4\n",
       "\\begin{tabular}{r|llll}\n",
       "  & ENSG\\_ver & ENSG\\_no\\_ver & GeneSymbol & chr\\\\\n",
       "  & <chr> & <chr> & <chr> & <chr>\\\\\n",
       "\\hline\n",
       "\t1 & ENSG00000183878.15 & ENSG00000183878 & UTY    & chrY\\\\\n",
       "\t2 & ENSG00000129824.15 & ENSG00000129824 & RPS4Y1 & chrY\\\\\n",
       "\\end{tabular}\n"
      ],
      "text/markdown": [
       "\n",
       "A data.frame: 2 × 4\n",
       "\n",
       "| <!--/--> | ENSG_ver &lt;chr&gt; | ENSG_no_ver &lt;chr&gt; | GeneSymbol &lt;chr&gt; | chr &lt;chr&gt; |\n",
       "|---|---|---|---|---|\n",
       "| 1 | ENSG00000183878.15 | ENSG00000183878 | UTY    | chrY |\n",
       "| 2 | ENSG00000129824.15 | ENSG00000129824 | RPS4Y1 | chrY |\n",
       "\n"
      ],
      "text/plain": [
       "  ENSG_ver           ENSG_no_ver     GeneSymbol chr \n",
       "1 ENSG00000183878.15 ENSG00000183878 UTY        chrY\n",
       "2 ENSG00000129824.15 ENSG00000129824 RPS4Y1     chrY"
      ]
     },
     "metadata": {},
     "output_type": "display_data"
    }
   ],
   "source": [
    "results_dir  <- \"../data/\"\n",
    "all_genes_as_data  <- read.table(\"../assets/all_gene_as_gene_names.tsv\", header=TRUE, sep=\"\\t\",\n",
    "                               skipNul=FALSE, stringsAsFactors = FALSE)\n",
    "names(all_genes_as_data) <- c(\"GeneSymbol\", \"ensg\")\n",
    "all_genes_dge_data <- read.table(\"../assets/all_gene_dge_gene_names.tsv\", header=TRUE, sep=\"\\t\",\n",
    "                               skipNul=FALSE, stringsAsFactors = FALSE)\n",
    "sig_gene_as  <- read.table(file=\"../data/gene_as.tsv\", header=TRUE, sep=\"\\t\",\n",
    "                               skipNul=FALSE, stringsAsFactors = FALSE)\n",
    "sig_gene_dge  <- read.table(file=\"../data/gene_dge.tsv\", header=TRUE, sep=\"\\t\",\n",
    "                               skipNul=FALSE, stringsAsFactors = FALSE)\n",
    "head(sig_gene_as,2)\n",
    "head(sig_gene_dge,2)\n",
    "head(all_genes_as_data,2)\n",
    "head(all_genes_dge_data,2)"
   ]
  },
  {
   "cell_type": "markdown",
   "metadata": {},
   "source": [
    "### 2  Count up genes\n",
    "About 250 genes were found in the splicing data but not in the gene expression data, presumably related to the different processing pipelines used. We can therefore not make an assessment of whether these genes were differentially expressed or not, and thus we remove the genes prior to further analysis.\n"
   ]
  },
  {
   "cell_type": "code",
   "execution_count": 9,
   "metadata": {},
   "outputs": [
    {
     "name": "stderr",
     "output_type": "stream",
     "text": [
      "All expression genes n=41705; all splicing genes n=14694; splicing genes not represented in expression set n=256\n",
      "\n",
      "Note that we expect to find genes in the expression set that are not in the splicing set\n",
      "\n",
      "After removing the orphan splicing genes, we are left with  14438 genes in the splicing dataset\n",
      "\n"
     ]
    }
   ],
   "source": [
    "# all genes identified in the gene expression data\n",
    "allExpressionGenes <- unique(sort(all_genes_dge_data$GeneSymbol))\n",
    "# all genes identified in the splicing data\n",
    "allSplicingGenes  <- unique(sort(all_genes_as_data$GeneSymbol))\n",
    "# Genes found in splicing data but not in expression data\n",
    "orphanSplicingGenes <- setdiff(allSplicingGenes,allExpressionGenes)\n",
    "message(\"All expression genes n=\", length(allExpressionGenes),\"; all splicing genes n=\", length(allSplicingGenes), \"; splicing genes not represented in expression set n=\", length(orphanSplicingGenes))\n",
    "correctedSplicing <- setdiff(allSplicingGenes, orphanSplicingGenes)\n",
    "message(\"Note that we expect to find genes in the expression set that are not in the splicing set\")\n",
    "message(\"After removing the orphan splicing genes, we are left with  \", length(correctedSplicing), \" genes in the splicing dataset\")\n",
    "universe <- allExpressionGenes"
   ]
  },
  {
   "cell_type": "markdown",
   "metadata": {},
   "source": [
    "# Create the sets of differentially expressed/spliced genes\n",
    "Note that we also need to correct the set of differentially spliced genes as above"
   ]
  },
  {
   "cell_type": "code",
   "execution_count": 14,
   "metadata": {},
   "outputs": [
    {
     "name": "stderr",
     "output_type": "stream",
     "text": [
      "total AS (uncorrected) n=2887; corrected n=2851\n",
      "\n",
      "significant differentially expresssed genes: n=7417/41705: 17.7844383167486%\n",
      "\n",
      "significant differentially spliced genes: n=2851/41705: 6.83611077808416%\n",
      "\n"
     ]
    }
   ],
   "source": [
    "sigDGEGenes <- unique(sort(sig_gene_dge$GeneSymbol))\n",
    "sigASGenes  <- unique(sort(sig_gene_as$GeneSymbol))\n",
    "correctedSigASGenes <- setdiff(sigASGenes, orphanSplicingGenes)\n",
    "message(\"total AS (uncorrected) n=\", length(sigASGenes), \"; corrected n=\", length(correctedSigASGenes))\n",
    "total <- length(universe)\n",
    "n_dge <- length(sigDGEGenes)\n",
    "n_das <- length(correctedSigASGenes)\n",
    "message(\"significant differentially expresssed genes: n=\", n_dge, \"/\", total, \": \", 100*n_dge/total,\"%\")\n",
    "message(\"significant differentially spliced genes: n=\", n_das, \"/\", total, \": \", 100*n_das/total,\"%\")"
   ]
  },
  {
   "cell_type": "code",
   "execution_count": 19,
   "metadata": {},
   "outputs": [
    {
     "name": "stderr",
     "output_type": "stream",
     "text": [
      "Differentially expressed but not differentially spliced: n=6270: 84.5355264931913% of all DGE genes\n",
      "\n",
      "Differentially spliced but not differentially spliced: n=1704: 59.7685022799018% of all DAS genes\n",
      "\n",
      "DGE and DAS: 1147; 2.75026975182832% of all genes\n",
      "\n",
      "By chance we would expect 507.034336410502, or 1.21576390459298%\n",
      "\n",
      "Number of genes with neighther DGE nor DAS 32883\n",
      "\n"
     ]
    }
   ],
   "source": [
    "dge_but_not_das <- setdiff(sigDGEGenes, correctedSigASGenes)\n",
    "das_but_not_dge <- setdiff(correctedSigASGenes, sigDGEGenes)\n",
    "dge_and_das <- intersect(sigDGEGenes, correctedSigASGenes)\n",
    "neither_dge_nor_das <- setdiff(setdiff(universe,sigDGEGenes), correctedSigASGenes)\n",
    "n_dge_but_not_das <- length(dge_but_not_das)\n",
    "n_das_but_not_dge <- length(das_but_not_dge)\n",
    "n_dge_and_das <- length(dge_and_das)\n",
    "n_neither_dge_nor_das <- length(neither_dge_nor_das)\n",
    "message(\"Differentially expressed but not differentially spliced: n=\", n_dge_but_not_das, \": \", 100*n_dge_but_not_das/n_dge, \"% of all DGE genes\")\n",
    "message(\"Differentially spliced but not differentially spliced: n=\", n_das_but_not_dge, \": \", 100*n_das_but_not_dge/n_das, \"% of all DAS genes\")\n",
    "message(\"DGE and DAS: \", n_dge_and_das,\"; \", 100*n_dge_and_das/total,\"% of all genes\")\n",
    "expected_proportion <- (n_dge/total)*(n_das/total)\n",
    "message(\"By chance we would expect \", expected_proportion*total,\", or \", 100*expected_proportion, \"%\")\n",
    "message(\"Number of genes with neighther DGE nor DAS \", n_neither_dge_nor_das)"
   ]
  },
  {
   "cell_type": "markdown",
   "metadata": {},
   "source": [
    "# 2.1 Check whether the increased proportion is statistically significant\n",
    "\n",
    "Comparing differentially expressed genes with differentially alternatively spliced:\n",
    "\n",
    "|  \t|  DGE+| DGE-|\n",
    "|-\t|-\t|-\t|\n",
    "| DAS+|  a|  b|\n",
    "| DAS-|  c| d|"
   ]
  },
  {
   "cell_type": "code",
   "execution_count": 21,
   "metadata": {},
   "outputs": [
    {
     "data": {
      "text/html": [
       "<table>\n",
       "<caption>A matrix: 2 × 2 of type int</caption>\n",
       "<tbody>\n",
       "\t<tr><td>1147</td><td> 1704</td></tr>\n",
       "\t<tr><td>6270</td><td>32883</td></tr>\n",
       "</tbody>\n",
       "</table>\n"
      ],
      "text/latex": [
       "A matrix: 2 × 2 of type int\n",
       "\\begin{tabular}{ll}\n",
       "\t 1147 &  1704\\\\\n",
       "\t 6270 & 32883\\\\\n",
       "\\end{tabular}\n"
      ],
      "text/markdown": [
       "\n",
       "A matrix: 2 × 2 of type int\n",
       "\n",
       "| 1147 |  1704 |\n",
       "| 6270 | 32883 |\n",
       "\n"
      ],
      "text/plain": [
       "     [,1] [,2] \n",
       "[1,] 1147  1704\n",
       "[2,] 6270 32883"
      ]
     },
     "metadata": {},
     "output_type": "display_data"
    }
   ],
   "source": [
    "a <- n_dge_and_das\n",
    "b <- n_das_but_not_dge\n",
    "c <- n_dge_but_not_das\n",
    "d <- n_neither_dge_nor_das\n",
    "m <- matrix(c(a,b,c,d), nrow=2,byrow = TRUE)\n",
    "m"
   ]
  },
  {
   "cell_type": "code",
   "execution_count": 22,
   "metadata": {},
   "outputs": [
    {
     "data": {
      "text/plain": [
       "\n",
       "\tFisher's Exact Test for Count Data\n",
       "\n",
       "data:  m\n",
       "p-value < 2.2e-16\n",
       "alternative hypothesis: true odds ratio is not equal to 1\n",
       "95 percent confidence interval:\n",
       " 3.256777 3.825200\n",
       "sample estimates:\n",
       "odds ratio \n",
       "   3.53005 \n"
      ]
     },
     "metadata": {},
     "output_type": "display_data"
    }
   ],
   "source": [
    "fisher.test(m)"
   ]
  },
  {
   "cell_type": "markdown",
   "metadata": {},
   "source": [
    "\n"
   ]
  },
  {
   "cell_type": "markdown",
   "metadata": {},
   "source": [
    "### Appendix - Metadata\n",
    "\n",
    "For replicability and reproducibility purposes, we also print the following metadata:\n",
    "\n",
    "1. Checksums of **'artefacts'**, files generated during the analysis and stored in the folder directory **`data`**\n",
    "2. List of environment metadata, dependencies, versions of libraries using `utils::sessionInfo()` and [`devtools::session_info()`](https://devtools.r-lib.org/reference/session_info.html)"
   ]
  },
  {
   "cell_type": "markdown",
   "metadata": {},
   "source": [
    "### Appendix 1. Checksums with the sha256 algorithm"
   ]
  },
  {
   "cell_type": "code",
   "execution_count": 24,
   "metadata": {},
   "outputs": [],
   "source": [
    "notebookid   = \"FisherExactTests\""
   ]
  },
  {
   "cell_type": "markdown",
   "metadata": {},
   "source": [
    "### Appendix 2. Libraries metadata"
   ]
  },
  {
   "cell_type": "code",
   "execution_count": 25,
   "metadata": {},
   "outputs": [
    {
     "name": "stderr",
     "output_type": "stream",
     "text": [
      "Saving `devtools::session_info()` objects in ../metadata/devtools_session_info.rds  ..\n",
      "\n",
      "Done!\n",
      "\n",
      "\n",
      "Saving `utils::sessionInfo()` objects in ../metadata/utils_session_info.rds  ..\n",
      "\n",
      "Done!\n",
      "\n",
      "\n"
     ]
    },
    {
     "data": {
      "text/plain": [
       " setting  value                       \n",
       " version  R version 3.6.1 (2019-07-05)\n",
       " os       Ubuntu 18.04.4 LTS          \n",
       " system   x86_64, linux-gnu           \n",
       " ui       X11                         \n",
       " language en_US.UTF-8                 \n",
       " collate  en_US.UTF-8                 \n",
       " ctype    en_US.UTF-8                 \n",
       " tz       Etc/UTC                     \n",
       " date     2020-07-23                  "
      ]
     },
     "metadata": {},
     "output_type": "display_data"
    },
    {
     "data": {
      "text/html": [
       "<table>\n",
       "<caption>A packages_info: 2 × 11</caption>\n",
       "<thead>\n",
       "\t<tr><th></th><th scope=col>package</th><th scope=col>ondiskversion</th><th scope=col>loadedversion</th><th scope=col>path</th><th scope=col>loadedpath</th><th scope=col>attached</th><th scope=col>is_base</th><th scope=col>date</th><th scope=col>source</th><th scope=col>md5ok</th><th scope=col>library</th></tr>\n",
       "\t<tr><th></th><th scope=col>&lt;chr&gt;</th><th scope=col>&lt;chr&gt;</th><th scope=col>&lt;chr&gt;</th><th scope=col>&lt;chr&gt;</th><th scope=col>&lt;chr&gt;</th><th scope=col>&lt;lgl&gt;</th><th scope=col>&lt;lgl&gt;</th><th scope=col>&lt;chr&gt;</th><th scope=col>&lt;chr&gt;</th><th scope=col>&lt;lgl&gt;</th><th scope=col>&lt;fct&gt;</th></tr>\n",
       "</thead>\n",
       "<tbody>\n",
       "\t<tr><th scope=row>dplyr</th><td>dplyr</td><td>1.0.0</td><td>1.0.0</td><td>/opt/conda/lib/R/library/dplyr</td><td>/opt/conda/lib/R/library/dplyr</td><td>TRUE</td><td>FALSE</td><td>2020-05-29</td><td>CRAN (R 3.6.1)</td><td>NA</td><td>/opt/conda/lib/R/library</td></tr>\n",
       "\t<tr><th scope=row>repr</th><td>repr </td><td>1.1.0</td><td>1.1.0</td><td>/opt/conda/lib/R/library/repr </td><td>/opt/conda/lib/R/library/repr </td><td>TRUE</td><td>FALSE</td><td>2020-01-28</td><td>CRAN (R 3.6.3)</td><td>NA</td><td>/opt/conda/lib/R/library</td></tr>\n",
       "</tbody>\n",
       "</table>\n"
      ],
      "text/latex": [
       "A packages\\_info: 2 × 11\n",
       "\\begin{tabular}{r|lllllllllll}\n",
       "  & package & ondiskversion & loadedversion & path & loadedpath & attached & is\\_base & date & source & md5ok & library\\\\\n",
       "  & <chr> & <chr> & <chr> & <chr> & <chr> & <lgl> & <lgl> & <chr> & <chr> & <lgl> & <fct>\\\\\n",
       "\\hline\n",
       "\tdplyr & dplyr & 1.0.0 & 1.0.0 & /opt/conda/lib/R/library/dplyr & /opt/conda/lib/R/library/dplyr & TRUE & FALSE & 2020-05-29 & CRAN (R 3.6.1) & NA & /opt/conda/lib/R/library\\\\\n",
       "\trepr & repr  & 1.1.0 & 1.1.0 & /opt/conda/lib/R/library/repr  & /opt/conda/lib/R/library/repr  & TRUE & FALSE & 2020-01-28 & CRAN (R 3.6.3) & NA & /opt/conda/lib/R/library\\\\\n",
       "\\end{tabular}\n"
      ],
      "text/markdown": [
       "\n",
       "A packages_info: 2 × 11\n",
       "\n",
       "| <!--/--> | package &lt;chr&gt; | ondiskversion &lt;chr&gt; | loadedversion &lt;chr&gt; | path &lt;chr&gt; | loadedpath &lt;chr&gt; | attached &lt;lgl&gt; | is_base &lt;lgl&gt; | date &lt;chr&gt; | source &lt;chr&gt; | md5ok &lt;lgl&gt; | library &lt;fct&gt; |\n",
       "|---|---|---|---|---|---|---|---|---|---|---|---|\n",
       "| dplyr | dplyr | 1.0.0 | 1.0.0 | /opt/conda/lib/R/library/dplyr | /opt/conda/lib/R/library/dplyr | TRUE | FALSE | 2020-05-29 | CRAN (R 3.6.1) | NA | /opt/conda/lib/R/library |\n",
       "| repr | repr  | 1.1.0 | 1.1.0 | /opt/conda/lib/R/library/repr  | /opt/conda/lib/R/library/repr  | TRUE | FALSE | 2020-01-28 | CRAN (R 3.6.3) | NA | /opt/conda/lib/R/library |\n",
       "\n"
      ],
      "text/plain": [
       "      package ondiskversion loadedversion path                          \n",
       "dplyr dplyr   1.0.0         1.0.0         /opt/conda/lib/R/library/dplyr\n",
       "repr  repr    1.1.0         1.1.0         /opt/conda/lib/R/library/repr \n",
       "      loadedpath                     attached is_base date       source        \n",
       "dplyr /opt/conda/lib/R/library/dplyr TRUE     FALSE   2020-05-29 CRAN (R 3.6.1)\n",
       "repr  /opt/conda/lib/R/library/repr  TRUE     FALSE   2020-01-28 CRAN (R 3.6.3)\n",
       "      md5ok library                 \n",
       "dplyr NA    /opt/conda/lib/R/library\n",
       "repr  NA    /opt/conda/lib/R/library"
      ]
     },
     "metadata": {},
     "output_type": "display_data"
    }
   ],
   "source": [
    "dev_session_info   <- devtools::session_info()\n",
    "utils_session_info <- utils::sessionInfo()\n",
    "\n",
    "message(\"Saving `devtools::session_info()` objects in ../metadata/devtools_session_info.rds  ..\")\n",
    "saveRDS(dev_session_info, file = paste0(\"../metadata/\", notebookid, \"_devtools_session_info.rds\"))\n",
    "message(\"Done!\\n\")\n",
    "\n",
    "message(\"Saving `utils::sessionInfo()` objects in ../metadata/utils_session_info.rds  ..\")\n",
    "saveRDS(utils_session_info, file = paste0(\"../metadata/\", notebookid ,\"_utils_info.rds\"))\n",
    "message(\"Done!\\n\")\n",
    "\n",
    "dev_session_info$platform\n",
    "dev_session_info$packages[dev_session_info$packages$attached==TRUE, ]"
   ]
  }
 ],
 "metadata": {
  "jupytext": {
   "cell_metadata_filter": "-all",
   "main_language": "R",
   "notebook_metadata_filter": "-all"
  },
  "kernelspec": {
   "display_name": "R",
   "language": "R",
   "name": "ir"
  },
  "language_info": {
   "codemirror_mode": "r",
   "file_extension": ".r",
   "mimetype": "text/x-r-source",
   "name": "R",
   "pygments_lexer": "r",
   "version": "3.6.1"
  }
 },
 "nbformat": 4,
 "nbformat_minor": 4
}
