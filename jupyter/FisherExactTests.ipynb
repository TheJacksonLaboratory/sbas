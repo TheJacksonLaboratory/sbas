{
 "cells": [
  {
   "cell_type": "markdown",
   "metadata": {},
   "source": [
    "# Analysis Notebook - Fisher exact test\n",
    "\n",
    "This notebook looks at specific Genes and Gene Subcategories"
   ]
  },
  {
   "cell_type": "code",
   "execution_count": 2,
   "metadata": {},
   "outputs": [],
   "source": [
    "suppressWarnings({suppressMessages({\n",
    "options(warn = -1) \n",
    "library(dplyr)\n",
    "library(multtest)\n",
    "library(R.utils)\n",
    "})})"
   ]
  },
  {
   "cell_type": "markdown",
   "metadata": {},
   "source": [
    "### 1  Read in all and significant alternative splicing and differential gene expression results\n",
    "\n",
    "The summary data captured in the now saved **all_gene_as_gene_names.tsv**, **all_genes_dge_data** and significant results captured in **gene_as.tsv** and **gene_dge.tsv**"
   ]
  },
  {
   "cell_type": "code",
   "execution_count": 3,
   "metadata": {},
   "outputs": [
    {
     "data": {
      "text/html": [
       "<table>\n",
       "<caption>A data.frame: 2 × 15</caption>\n",
       "<thead>\n",
       "\t<tr><th></th><th scope=col>GeneJunction</th><th scope=col>ASE</th><th scope=col>ASE_IDX</th><th scope=col>Tissue</th><th scope=col>counts</th><th scope=col>Display</th><th scope=col>GeneSymbol</th><th scope=col>GeneID</th><th scope=col>chr</th><th scope=col>logFC</th><th scope=col>AveExpr</th><th scope=col>t</th><th scope=col>PValue</th><th scope=col>AdjPVal</th><th scope=col>B</th></tr>\n",
       "\t<tr><th></th><th scope=col>&lt;chr&gt;</th><th scope=col>&lt;chr&gt;</th><th scope=col>&lt;int&gt;</th><th scope=col>&lt;chr&gt;</th><th scope=col>&lt;int&gt;</th><th scope=col>&lt;chr&gt;</th><th scope=col>&lt;chr&gt;</th><th scope=col>&lt;chr&gt;</th><th scope=col>&lt;chr&gt;</th><th scope=col>&lt;dbl&gt;</th><th scope=col>&lt;dbl&gt;</th><th scope=col>&lt;dbl&gt;</th><th scope=col>&lt;dbl&gt;</th><th scope=col>&lt;dbl&gt;</th><th scope=col>&lt;dbl&gt;</th></tr>\n",
       "</thead>\n",
       "<tbody>\n",
       "\t<tr><th scope=row>1</th><td>XIST-2253</td><td>A3SS</td><td>2253</td><td>adipose_subcutaneous</td><td>4</td><td>Adipose (sc)</td><td>XIST</td><td>ENSG00000229807.11</td><td>chrX</td><td>-4.408605</td><td>3.196317</td><td>-36.48897</td><td>4.635568e-154</td><td>3.893877e-150</td><td>310.0160</td></tr>\n",
       "\t<tr><th scope=row>2</th><td>XIST-2252</td><td>A3SS</td><td>2252</td><td>adipose_subcutaneous</td><td>4</td><td>Adipose (sc)</td><td>XIST</td><td>ENSG00000229807.11</td><td>chrX</td><td>-2.414713</td><td>3.647690</td><td>-21.92106</td><td> 1.444102e-78</td><td> 6.065229e-75</td><td>160.0282</td></tr>\n",
       "</tbody>\n",
       "</table>\n"
      ],
      "text/latex": [
       "A data.frame: 2 × 15\n",
       "\\begin{tabular}{r|lllllllllllllll}\n",
       "  & GeneJunction & ASE & ASE\\_IDX & Tissue & counts & Display & GeneSymbol & GeneID & chr & logFC & AveExpr & t & PValue & AdjPVal & B\\\\\n",
       "  & <chr> & <chr> & <int> & <chr> & <int> & <chr> & <chr> & <chr> & <chr> & <dbl> & <dbl> & <dbl> & <dbl> & <dbl> & <dbl>\\\\\n",
       "\\hline\n",
       "\t1 & XIST-2253 & A3SS & 2253 & adipose\\_subcutaneous & 4 & Adipose (sc) & XIST & ENSG00000229807.11 & chrX & -4.408605 & 3.196317 & -36.48897 & 4.635568e-154 & 3.893877e-150 & 310.0160\\\\\n",
       "\t2 & XIST-2252 & A3SS & 2252 & adipose\\_subcutaneous & 4 & Adipose (sc) & XIST & ENSG00000229807.11 & chrX & -2.414713 & 3.647690 & -21.92106 &  1.444102e-78 &  6.065229e-75 & 160.0282\\\\\n",
       "\\end{tabular}\n"
      ],
      "text/markdown": [
       "\n",
       "A data.frame: 2 × 15\n",
       "\n",
       "| <!--/--> | GeneJunction &lt;chr&gt; | ASE &lt;chr&gt; | ASE_IDX &lt;int&gt; | Tissue &lt;chr&gt; | counts &lt;int&gt; | Display &lt;chr&gt; | GeneSymbol &lt;chr&gt; | GeneID &lt;chr&gt; | chr &lt;chr&gt; | logFC &lt;dbl&gt; | AveExpr &lt;dbl&gt; | t &lt;dbl&gt; | PValue &lt;dbl&gt; | AdjPVal &lt;dbl&gt; | B &lt;dbl&gt; |\n",
       "|---|---|---|---|---|---|---|---|---|---|---|---|---|---|---|---|\n",
       "| 1 | XIST-2253 | A3SS | 2253 | adipose_subcutaneous | 4 | Adipose (sc) | XIST | ENSG00000229807.11 | chrX | -4.408605 | 3.196317 | -36.48897 | 4.635568e-154 | 3.893877e-150 | 310.0160 |\n",
       "| 2 | XIST-2252 | A3SS | 2252 | adipose_subcutaneous | 4 | Adipose (sc) | XIST | ENSG00000229807.11 | chrX | -2.414713 | 3.647690 | -21.92106 |  1.444102e-78 |  6.065229e-75 | 160.0282 |\n",
       "\n"
      ],
      "text/plain": [
       "  GeneJunction ASE  ASE_IDX Tissue               counts Display      GeneSymbol\n",
       "1 XIST-2253    A3SS 2253    adipose_subcutaneous 4      Adipose (sc) XIST      \n",
       "2 XIST-2252    A3SS 2252    adipose_subcutaneous 4      Adipose (sc) XIST      \n",
       "  GeneID             chr  logFC     AveExpr  t         PValue       \n",
       "1 ENSG00000229807.11 chrX -4.408605 3.196317 -36.48897 4.635568e-154\n",
       "2 ENSG00000229807.11 chrX -2.414713 3.647690 -21.92106  1.444102e-78\n",
       "  AdjPVal       B       \n",
       "1 3.893877e-150 310.0160\n",
       "2  6.065229e-75 160.0282"
      ]
     },
     "metadata": {},
     "output_type": "display_data"
    },
    {
     "data": {
      "text/html": [
       "<table>\n",
       "<caption>A data.frame: 2 × 13</caption>\n",
       "<thead>\n",
       "\t<tr><th></th><th scope=col>Tissue</th><th scope=col>ENSG_ver</th><th scope=col>ENSG_no_ver</th><th scope=col>GeneSymbol</th><th scope=col>counts</th><th scope=col>Display</th><th scope=col>logFC</th><th scope=col>AveExpr</th><th scope=col>t</th><th scope=col>PValue</th><th scope=col>AdjPVal</th><th scope=col>B</th><th scope=col>chr</th></tr>\n",
       "\t<tr><th></th><th scope=col>&lt;chr&gt;</th><th scope=col>&lt;chr&gt;</th><th scope=col>&lt;chr&gt;</th><th scope=col>&lt;chr&gt;</th><th scope=col>&lt;int&gt;</th><th scope=col>&lt;chr&gt;</th><th scope=col>&lt;dbl&gt;</th><th scope=col>&lt;dbl&gt;</th><th scope=col>&lt;dbl&gt;</th><th scope=col>&lt;dbl&gt;</th><th scope=col>&lt;dbl&gt;</th><th scope=col>&lt;dbl&gt;</th><th scope=col>&lt;chr&gt;</th></tr>\n",
       "</thead>\n",
       "<tbody>\n",
       "\t<tr><th scope=row>1</th><td>adipose_subcutaneous</td><td>ENSG00000176728.7</td><td>ENSG00000176728</td><td>TTTY14   </td><td>765</td><td>Adipose (sc)</td><td>-7.982166</td><td>-0.9288129</td><td>-139.8230</td><td>0</td><td>0</td><td>1107.423</td><td>chrY</td></tr>\n",
       "\t<tr><th scope=row>2</th><td>adipose_subcutaneous</td><td>ENSG00000231535.5</td><td>ENSG00000231535</td><td>LINC00278</td><td>765</td><td>Adipose (sc)</td><td>-6.095420</td><td>-2.7765638</td><td>-126.9138</td><td>0</td><td>0</td><td>1050.366</td><td>chrY</td></tr>\n",
       "</tbody>\n",
       "</table>\n"
      ],
      "text/latex": [
       "A data.frame: 2 × 13\n",
       "\\begin{tabular}{r|lllllllllllll}\n",
       "  & Tissue & ENSG\\_ver & ENSG\\_no\\_ver & GeneSymbol & counts & Display & logFC & AveExpr & t & PValue & AdjPVal & B & chr\\\\\n",
       "  & <chr> & <chr> & <chr> & <chr> & <int> & <chr> & <dbl> & <dbl> & <dbl> & <dbl> & <dbl> & <dbl> & <chr>\\\\\n",
       "\\hline\n",
       "\t1 & adipose\\_subcutaneous & ENSG00000176728.7 & ENSG00000176728 & TTTY14    & 765 & Adipose (sc) & -7.982166 & -0.9288129 & -139.8230 & 0 & 0 & 1107.423 & chrY\\\\\n",
       "\t2 & adipose\\_subcutaneous & ENSG00000231535.5 & ENSG00000231535 & LINC00278 & 765 & Adipose (sc) & -6.095420 & -2.7765638 & -126.9138 & 0 & 0 & 1050.366 & chrY\\\\\n",
       "\\end{tabular}\n"
      ],
      "text/markdown": [
       "\n",
       "A data.frame: 2 × 13\n",
       "\n",
       "| <!--/--> | Tissue &lt;chr&gt; | ENSG_ver &lt;chr&gt; | ENSG_no_ver &lt;chr&gt; | GeneSymbol &lt;chr&gt; | counts &lt;int&gt; | Display &lt;chr&gt; | logFC &lt;dbl&gt; | AveExpr &lt;dbl&gt; | t &lt;dbl&gt; | PValue &lt;dbl&gt; | AdjPVal &lt;dbl&gt; | B &lt;dbl&gt; | chr &lt;chr&gt; |\n",
       "|---|---|---|---|---|---|---|---|---|---|---|---|---|---|\n",
       "| 1 | adipose_subcutaneous | ENSG00000176728.7 | ENSG00000176728 | TTTY14    | 765 | Adipose (sc) | -7.982166 | -0.9288129 | -139.8230 | 0 | 0 | 1107.423 | chrY |\n",
       "| 2 | adipose_subcutaneous | ENSG00000231535.5 | ENSG00000231535 | LINC00278 | 765 | Adipose (sc) | -6.095420 | -2.7765638 | -126.9138 | 0 | 0 | 1050.366 | chrY |\n",
       "\n"
      ],
      "text/plain": [
       "  Tissue               ENSG_ver          ENSG_no_ver     GeneSymbol counts\n",
       "1 adipose_subcutaneous ENSG00000176728.7 ENSG00000176728 TTTY14     765   \n",
       "2 adipose_subcutaneous ENSG00000231535.5 ENSG00000231535 LINC00278  765   \n",
       "  Display      logFC     AveExpr    t         PValue AdjPVal B        chr \n",
       "1 Adipose (sc) -7.982166 -0.9288129 -139.8230 0      0       1107.423 chrY\n",
       "2 Adipose (sc) -6.095420 -2.7765638 -126.9138 0      0       1050.366 chrY"
      ]
     },
     "metadata": {},
     "output_type": "display_data"
    },
    {
     "data": {
      "text/html": [
       "<table>\n",
       "<caption>A data.frame: 2 × 2</caption>\n",
       "<thead>\n",
       "\t<tr><th></th><th scope=col>GeneSymbol</th><th scope=col>ensg</th></tr>\n",
       "\t<tr><th></th><th scope=col>&lt;chr&gt;</th><th scope=col>&lt;chr&gt;</th></tr>\n",
       "</thead>\n",
       "<tbody>\n",
       "\t<tr><th scope=row>1</th><td>A1BG</td><td>ENSG00000121410.11</td></tr>\n",
       "\t<tr><th scope=row>2</th><td>A1CF</td><td>ENSG00000148584.15</td></tr>\n",
       "</tbody>\n",
       "</table>\n"
      ],
      "text/latex": [
       "A data.frame: 2 × 2\n",
       "\\begin{tabular}{r|ll}\n",
       "  & GeneSymbol & ensg\\\\\n",
       "  & <chr> & <chr>\\\\\n",
       "\\hline\n",
       "\t1 & A1BG & ENSG00000121410.11\\\\\n",
       "\t2 & A1CF & ENSG00000148584.15\\\\\n",
       "\\end{tabular}\n"
      ],
      "text/markdown": [
       "\n",
       "A data.frame: 2 × 2\n",
       "\n",
       "| <!--/--> | GeneSymbol &lt;chr&gt; | ensg &lt;chr&gt; |\n",
       "|---|---|---|\n",
       "| 1 | A1BG | ENSG00000121410.11 |\n",
       "| 2 | A1CF | ENSG00000148584.15 |\n",
       "\n"
      ],
      "text/plain": [
       "  GeneSymbol ensg              \n",
       "1 A1BG       ENSG00000121410.11\n",
       "2 A1CF       ENSG00000148584.15"
      ]
     },
     "metadata": {},
     "output_type": "display_data"
    },
    {
     "data": {
      "text/html": [
       "<table>\n",
       "<caption>A data.frame: 2 × 4</caption>\n",
       "<thead>\n",
       "\t<tr><th></th><th scope=col>ENSG_ver</th><th scope=col>ENSG_no_ver</th><th scope=col>GeneSymbol</th><th scope=col>chr</th></tr>\n",
       "\t<tr><th></th><th scope=col>&lt;chr&gt;</th><th scope=col>&lt;chr&gt;</th><th scope=col>&lt;chr&gt;</th><th scope=col>&lt;chr&gt;</th></tr>\n",
       "</thead>\n",
       "<tbody>\n",
       "\t<tr><th scope=row>1</th><td>ENSG00000183878.15</td><td>ENSG00000183878</td><td>UTY   </td><td>chrY</td></tr>\n",
       "\t<tr><th scope=row>2</th><td>ENSG00000129824.15</td><td>ENSG00000129824</td><td>RPS4Y1</td><td>chrY</td></tr>\n",
       "</tbody>\n",
       "</table>\n"
      ],
      "text/latex": [
       "A data.frame: 2 × 4\n",
       "\\begin{tabular}{r|llll}\n",
       "  & ENSG\\_ver & ENSG\\_no\\_ver & GeneSymbol & chr\\\\\n",
       "  & <chr> & <chr> & <chr> & <chr>\\\\\n",
       "\\hline\n",
       "\t1 & ENSG00000183878.15 & ENSG00000183878 & UTY    & chrY\\\\\n",
       "\t2 & ENSG00000129824.15 & ENSG00000129824 & RPS4Y1 & chrY\\\\\n",
       "\\end{tabular}\n"
      ],
      "text/markdown": [
       "\n",
       "A data.frame: 2 × 4\n",
       "\n",
       "| <!--/--> | ENSG_ver &lt;chr&gt; | ENSG_no_ver &lt;chr&gt; | GeneSymbol &lt;chr&gt; | chr &lt;chr&gt; |\n",
       "|---|---|---|---|---|\n",
       "| 1 | ENSG00000183878.15 | ENSG00000183878 | UTY    | chrY |\n",
       "| 2 | ENSG00000129824.15 | ENSG00000129824 | RPS4Y1 | chrY |\n",
       "\n"
      ],
      "text/plain": [
       "  ENSG_ver           ENSG_no_ver     GeneSymbol chr \n",
       "1 ENSG00000183878.15 ENSG00000183878 UTY        chrY\n",
       "2 ENSG00000129824.15 ENSG00000129824 RPS4Y1     chrY"
      ]
     },
     "metadata": {},
     "output_type": "display_data"
    }
   ],
   "source": [
    "results_dir  <- \"../data/\"\n",
    "all_genes_as_data  <- read.table(\"../assets/all_gene_as_gene_names.tsv\", header=TRUE, sep=\"\\t\",\n",
    "                               skipNul=FALSE, stringsAsFactors = FALSE)\n",
    "names(all_genes_as_data) <- c(\"GeneSymbol\", \"ensg\")\n",
    "all_genes_dge_data <- read.table(\"../assets/all_gene_dge_gene_names.tsv\", header=TRUE, sep=\"\\t\",\n",
    "                               skipNul=FALSE, stringsAsFactors = FALSE)\n",
    "sig_gene_as  <- read.table(file=\"../data/gene_as.tsv\", header=TRUE, sep=\"\\t\",\n",
    "                               skipNul=FALSE, stringsAsFactors = FALSE)\n",
    "sig_gene_dge  <- read.table(file=\"../data/gene_dge.tsv\", header=TRUE, sep=\"\\t\",\n",
    "                               skipNul=FALSE, stringsAsFactors = FALSE)\n",
    "head(sig_gene_as,2)\n",
    "head(sig_gene_dge,2)\n",
    "head(all_genes_as_data,2)\n",
    "head(all_genes_dge_data,2)"
   ]
  },
  {
   "cell_type": "markdown",
   "metadata": {},
   "source": [
    "### 2  We then do a hypergeometric/Fisher test to look for overrepresentation\n"
   ]
  },
  {
   "cell_type": "markdown",
   "metadata": {},
   "source": [
    "### 2.1 DGE vs DAS\n",
    "\n",
    "Comparing differentially expressed genes with differentially alternatively spliced:\n",
    "\n",
    "|  \t|  DGE+| DGE-|\n",
    "|-\t|-\t|-\t|\n",
    "| DAS+|  a|  b|\n",
    "| DAS-|  c| d|"
   ]
  },
  {
   "cell_type": "code",
   "execution_count": 4,
   "metadata": {},
   "outputs": [],
   "source": [
    "sigASGenes  <- unique(sort(sig_gene_as$GeneSymbol))\n",
    "sigDGEGenes <- unique(sort(sig_gene_dge$GeneSymbol))\n",
    "allASGenes  <- unique(sort(all_genes_as_data$GeneSymbol))\n",
    "allDGEGenes <- unique(sort(all_genes_dge_data$GeneSymbol))"
   ]
  },
  {
   "cell_type": "code",
   "execution_count": 18,
   "metadata": {},
   "outputs": [
    {
     "name": "stderr",
     "output_type": "stream",
     "text": [
      "Union of both Alternatively Spliced Genes and Gene Expression genes\n",
      "41961\n",
      "\n",
      "Shared Alternatively Spliced Genes and Gene Expression genes\n",
      "14438\n",
      "\n",
      "Genes alternatively spliced but not found in gene expression (not significantly)\n",
      "256\n",
      "\n",
      "Genes gene expressed but not found in alternative splicing events\n",
      "27267\n",
      "\n",
      "Number of genes that are alternatively spliced\n",
      "14694\n",
      "\n",
      "Number of genes that are expressed\n",
      "41705\n",
      "\n"
     ]
    }
   ],
   "source": [
    "totalASGEGenes <- union(allASGenes, allDGEGenes)\n",
    "message(\"Union of both Alternatively Spliced Genes and Gene Expression genes\\n\", length(totalASGEGenes))\n",
    "intersectASDEGenes <- intersect(allASGenes, allDGEGenes)\n",
    "message(\"Shared Alternatively Spliced Genes and Gene Expression genes\\n\", length(intersectASDEGenes))\n",
    "notASGenes <- setdiff(allASGenes,  allDGEGenes)\n",
    "notGEGenes <- setdiff(allDGEGenes, allASGenes)\n",
    "message(\"Genes alternatively spliced but not found in gene expression (not significantly)\\n\", length(notASGenes))\n",
    "message(\"Genes gene expressed but not found in alternative splicing events\\n\", length(notGEGenes))\n",
    "message(\"Number of genes that are alternatively spliced\\n\",length(allASGenes))\n",
    "message(\"Number of genes that are expressed\\n\", length(allDGEGenes))"
   ]
  },
  {
   "cell_type": "code",
   "execution_count": 5,
   "metadata": {},
   "outputs": [
    {
     "name": "stderr",
     "output_type": "stream",
     "text": [
      "Number of sigASGenes 2874\n",
      "\n",
      "Number of genes that are NOT sigAS 11820\n",
      "\n",
      "Number of sigDGEgenes 7417\n",
      "\n",
      "Number of genes that are NOT DGE 34587\n",
      "\n",
      "a: 1141; b: 1697; c: 11600; d: 10004\n",
      "\n"
     ]
    }
   ],
   "source": [
    "message(\"Number of sigASGenes \", length(sigASGenes))\n",
    "notSigAS <- setdiff(allASGenes,sigASGenes)\n",
    "message(\"Number of genes that are NOT sigAS \", length(notSigAS))\n",
    "message(\"Number of sigDGEgenes \", length(sigDGEGenes))\n",
    "notDGE <- setdiff(allDGEGenes,sigDGEGenes)\n",
    "message(\"Number of genes that are NOT DGE \", length(notDGE))\n",
    "a <- intersect(sigASGenes, sigDGEGenes)\n",
    "b <- intersect(sigASGenes, notDGE)\n",
    "c <- intersect(notSigAS, allDGEGenes)\n",
    "d <- intersect(notSigAS, notDGE)\n",
    "message(\"a: \", length(a), \"; b: \",  length(b), \"; c: \",  length(c), \"; d: \",  length(d))"
   ]
  },
  {
   "cell_type": "code",
   "execution_count": 21,
   "metadata": {},
   "outputs": [
    {
     "data": {
      "text/plain": [
       "\n",
       "\tFisher's Exact Test for Count Data\n",
       "\n",
       "data:  m\n",
       "p-value < 2.2e-16\n",
       "alternative hypothesis: true odds ratio is not equal to 1\n",
       "95 percent confidence interval:\n",
       " 0.5358716 0.6292555\n",
       "sample estimates:\n",
       "odds ratio \n",
       " 0.5807765 \n"
      ]
     },
     "metadata": {},
     "output_type": "display_data"
    }
   ],
   "source": [
    "m <- matrix(c(length(a),length(b),length(c),length(d)), nrow=2,byrow = TRUE)\n",
    "fisher.test(m)"
   ]
  },
  {
   "cell_type": "markdown",
   "metadata": {},
   "source": [
    "### 2.2 IGH vs DGE\n",
    "\n",
    "It was noted that there are a number of immune genes showing up disproportionally in DGE\n",
    "\n",
    "\n",
    "\n",
    "|  \t| IGH+ DGE+| IGH- DGE+|\n",
    "|-\t|-\t|-\t|\n",
    "| IGH+ DAS+ |  a|  b|\n",
    "| IGH- DAS- |  c| d|"
   ]
  },
  {
   "cell_type": "code",
   "execution_count": 22,
   "metadata": {},
   "outputs": [
    {
     "data": {
      "text/html": [
       "134"
      ],
      "text/latex": [
       "134"
      ],
      "text/markdown": [
       "134"
      ],
      "text/plain": [
       "[1] 134"
      ]
     },
     "metadata": {},
     "output_type": "display_data"
    },
    {
     "data": {
      "text/html": [
       "2"
      ],
      "text/latex": [
       "2"
      ],
      "text/markdown": [
       "2"
      ],
      "text/plain": [
       "[1] 2"
      ]
     },
     "metadata": {},
     "output_type": "display_data"
    },
    {
     "data": {
      "text/html": [
       "7417"
      ],
      "text/latex": [
       "7417"
      ],
      "text/markdown": [
       "7417"
      ],
      "text/plain": [
       "[1] 7417"
      ]
     },
     "metadata": {},
     "output_type": "display_data"
    },
    {
     "data": {
      "text/html": [
       "2887"
      ],
      "text/latex": [
       "2887"
      ],
      "text/markdown": [
       "2887"
      ],
      "text/plain": [
       "[1] 2887"
      ]
     },
     "metadata": {},
     "output_type": "display_data"
    }
   ],
   "source": [
    "IGHDGE      <- sig_gene_dge$GeneSymbol[grepl(\"IGH\",sig_gene_dge$GeneSymbol)]\n",
    "IGHDGE      <- unique(sort(IGHDGE))\n",
    "IGHDAS      <- sig_gene_as$GeneSymbol[grepl(\"IGH\",sig_gene_as$GeneSymbol)]\n",
    "IGHDAS      <- unique(sort(IGHDAS))\n",
    "sigDGEGenes <- unique(sort(sig_gene_dge$GeneSymbol))\n",
    "sigDASGenes <- unique(sort(sig_gene_as$GeneSymbol))\n",
    "length(IGHDGE)\n",
    "length(IGHDAS)\n",
    "length(sigDGEGenes)\n",
    "length(sigASGenes)"
   ]
  },
  {
   "cell_type": "code",
   "execution_count": 23,
   "metadata": {},
   "outputs": [
    {
     "name": "stderr",
     "output_type": "stream",
     "text": [
      "Number of DGE genes that are IGH 134\n",
      "\n",
      "Number of DGE genes that are NOT IGH 7283\n",
      "\n",
      "Number of DAS genes that are IGH 2\n",
      "\n",
      "Number of DAS genes that are NOT IGH 2885\n",
      "\n",
      "a: 1; b: 0; c: 0; d: 1146\n",
      "\n"
     ]
    }
   ],
   "source": [
    "message(\"Number of DGE genes that are IGH \", length(IGHDGE))\n",
    "notIGHDGE <- setdiff(sigDGEGenes,IGHDGE)\n",
    "message(\"Number of DGE genes that are NOT IGH \", length(notIGHDGE))\n",
    "message(\"Number of DAS genes that are IGH \", length(IGHDAS))\n",
    "notIGHDAS <- setdiff(sigASGenes,IGHDAS)\n",
    "message(\"Number of DAS genes that are NOT IGH \", length(notIGHDAS))\n",
    "a <- intersect(IGHDAS, IGHDGE)\n",
    "b <- intersect(IGHDAS, notIGHDGE)\n",
    "c <- intersect(notIGHDAS, IGHDGE)\n",
    "d <- intersect(notIGHDAS, notIGHDGE) \n",
    "message(\"a: \", length(a), \"; b: \",  length(b), \"; c: \",  length(c), \"; d: \",  length(d))"
   ]
  },
  {
   "cell_type": "code",
   "execution_count": 24,
   "metadata": {},
   "outputs": [
    {
     "data": {
      "text/plain": [
       "\n",
       "\tFisher's Exact Test for Count Data\n",
       "\n",
       "data:  m\n",
       "p-value = 1.359e-05\n",
       "alternative hypothesis: true odds ratio is not equal to 1\n",
       "95 percent confidence interval:\n",
       " 5.07942e+01 4.50360e+15\n",
       "sample estimates:\n",
       "odds ratio \n",
       "  1538.091 \n"
      ]
     },
     "metadata": {},
     "output_type": "display_data"
    }
   ],
   "source": [
    "m <- matrix(c(length(a) + 1,\n",
    "              length(b) + 1,\n",
    "              length(c) + 1,\n",
    "              length(d) + 1), \n",
    "            nrow=2,byrow = TRUE)\n",
    "fisher.test(m)"
   ]
  },
  {
   "cell_type": "markdown",
   "metadata": {},
   "source": [
    "### 2.2 TLR8 vs DGE\n",
    "\n",
    "It was noted that there are a number of immune genes showing up disproportionally in DGE\n",
    "\n",
    "\n",
    "\n",
    "|  \t| TLR8+ DGE+| TLR8- DGE+|\n",
    "|-\t|-\t|-\t|\n",
    "| TLR8+ DAS+ |  a|  b|\n",
    "| TLR8- DAS- |  c| d|"
   ]
  },
  {
   "cell_type": "code",
   "execution_count": 25,
   "metadata": {},
   "outputs": [
    {
     "data": {
      "text/html": [
       "1"
      ],
      "text/latex": [
       "1"
      ],
      "text/markdown": [
       "1"
      ],
      "text/plain": [
       "[1] 1"
      ]
     },
     "metadata": {},
     "output_type": "display_data"
    },
    {
     "data": {
      "text/html": [
       "0"
      ],
      "text/latex": [
       "0"
      ],
      "text/markdown": [
       "0"
      ],
      "text/plain": [
       "[1] 0"
      ]
     },
     "metadata": {},
     "output_type": "display_data"
    },
    {
     "data": {
      "text/html": [
       "7417"
      ],
      "text/latex": [
       "7417"
      ],
      "text/markdown": [
       "7417"
      ],
      "text/plain": [
       "[1] 7417"
      ]
     },
     "metadata": {},
     "output_type": "display_data"
    },
    {
     "data": {
      "text/html": [
       "2887"
      ],
      "text/latex": [
       "2887"
      ],
      "text/markdown": [
       "2887"
      ],
      "text/plain": [
       "[1] 2887"
      ]
     },
     "metadata": {},
     "output_type": "display_data"
    }
   ],
   "source": [
    "TLR8DGE      <- sig_gene_dge$GeneSymbol[grepl(\"TLR8\",sig_gene_dge$GeneSymbol)]\n",
    "TLR8DGE      <- unique(sort(TLR8DGE))\n",
    "TLR8DAS      <- sig_gene_as$GeneSymbol[grepl(\"TLR8\",sig_gene_as$GeneSymbol)]\n",
    "TLR8DAS      <- unique(sort(TLR8DAS))\n",
    "sigDGEGenes <- unique(sort(sig_gene_dge$GeneSymbol))\n",
    "sigDASGenes <- unique(sort(sig_gene_as$GeneSymbol))\n",
    "length(TLR8DGE)\n",
    "length(TLR8DAS)\n",
    "length(sigDGEGenes)\n",
    "length(sigASGenes)"
   ]
  },
  {
   "cell_type": "code",
   "execution_count": 26,
   "metadata": {},
   "outputs": [
    {
     "name": "stderr",
     "output_type": "stream",
     "text": [
      "Number of DGE genes that are TLR8 1\n",
      "\n",
      "Number of DGE genes that are NOT TLR8 7416\n",
      "\n",
      "Number of DAS genes that are TLR8 0\n",
      "\n",
      "Number of DAS genes that are NOT TLR8 2887\n",
      "\n",
      "a: 0; b: 0; c: 0; d: 1147\n",
      "\n"
     ]
    }
   ],
   "source": [
    "message(\"Number of DGE genes that are TLR8 \", length(TLR8DGE))\n",
    "notTLR8DGE <- setdiff(sigDGEGenes,TLR8DGE)\n",
    "message(\"Number of DGE genes that are NOT TLR8 \", length(notTLR8DGE))\n",
    "message(\"Number of DAS genes that are TLR8 \", length(TLR8DAS))\n",
    "notTLR8DAS <- setdiff(sigASGenes,TLR8DAS)\n",
    "message(\"Number of DAS genes that are NOT TLR8 \", length(notTLR8DAS))\n",
    "a <- intersect(TLR8DAS, TLR8DGE)\n",
    "b <- intersect(TLR8DAS, notTLR8DGE)\n",
    "c <- intersect(notTLR8DAS, TLR8DGE)\n",
    "d <- intersect(notTLR8DAS, notTLR8DGE) \n",
    "message(\"a: \", length(a), \"; b: \",  length(b), \"; c: \",  length(c), \"; d: \",  length(d))"
   ]
  },
  {
   "cell_type": "code",
   "execution_count": 27,
   "metadata": {
    "lines_to_next_cell": 0
   },
   "outputs": [
    {
     "data": {
      "text/plain": [
       "\n",
       "\tFisher's Exact Test for Count Data\n",
       "\n",
       "data:  m\n",
       "p-value = 0.003474\n",
       "alternative hypothesis: true odds ratio is not equal to 1\n",
       "95 percent confidence interval:\n",
       " 7.336022e+00 4.503600e+15\n",
       "sample estimates:\n",
       "odds ratio \n",
       "  807.1171 \n"
      ]
     },
     "metadata": {},
     "output_type": "display_data"
    }
   ],
   "source": [
    "m <- matrix(c(length(a) + 1,\n",
    "              length(b) + 1,\n",
    "              length(c) + 1,\n",
    "              length(d) + 1), \n",
    "            nrow=2,byrow = TRUE)\n",
    "fisher.test(m)"
   ]
  },
  {
   "cell_type": "markdown",
   "metadata": {},
   "source": [
    "\n"
   ]
  },
  {
   "cell_type": "markdown",
   "metadata": {},
   "source": [
    "### 3.0 Extract TLR8 isoforms"
   ]
  },
  {
   "cell_type": "code",
   "execution_count": 33,
   "metadata": {},
   "outputs": [
    {
     "data": {
      "text/html": [
       "<table>\n",
       "<caption>A data.frame: 2 × 13</caption>\n",
       "<thead>\n",
       "\t<tr><th></th><th scope=col>Tissue</th><th scope=col>ENSG_ver</th><th scope=col>ENSG_no_ver</th><th scope=col>GeneSymbol</th><th scope=col>counts</th><th scope=col>Display</th><th scope=col>logFC</th><th scope=col>AveExpr</th><th scope=col>t</th><th scope=col>PValue</th><th scope=col>AdjPVal</th><th scope=col>B</th><th scope=col>chr</th></tr>\n",
       "\t<tr><th></th><th scope=col>&lt;chr&gt;</th><th scope=col>&lt;chr&gt;</th><th scope=col>&lt;chr&gt;</th><th scope=col>&lt;chr&gt;</th><th scope=col>&lt;int&gt;</th><th scope=col>&lt;chr&gt;</th><th scope=col>&lt;dbl&gt;</th><th scope=col>&lt;dbl&gt;</th><th scope=col>&lt;dbl&gt;</th><th scope=col>&lt;dbl&gt;</th><th scope=col>&lt;dbl&gt;</th><th scope=col>&lt;dbl&gt;</th><th scope=col>&lt;chr&gt;</th></tr>\n",
       "</thead>\n",
       "<tbody>\n",
       "\t<tr><th scope=row>3405</th><td>breast_mammary_tissue</td><td>ENSG00000009790.14</td><td>ENSG00000009790</td><td>TRAF3IP3</td><td>5433</td><td>Breast</td><td>0.9137457</td><td>0.5676736</td><td>11.88221</td><td>1.350093e-28</td><td>6.968226e-27</td><td>53.76519</td><td>chr1 </td></tr>\n",
       "\t<tr><th scope=row>4989</th><td>breast_mammary_tissue</td><td>ENSG00000076604.14</td><td>ENSG00000076604</td><td>TRAF4   </td><td>5433</td><td>Breast</td><td>0.8732736</td><td>4.8298281</td><td> 7.91071</td><td>1.923433e-14</td><td>2.926761e-13</td><td>20.92178</td><td>chr17</td></tr>\n",
       "</tbody>\n",
       "</table>\n"
      ],
      "text/latex": [
       "A data.frame: 2 × 13\n",
       "\\begin{tabular}{r|lllllllllllll}\n",
       "  & Tissue & ENSG\\_ver & ENSG\\_no\\_ver & GeneSymbol & counts & Display & logFC & AveExpr & t & PValue & AdjPVal & B & chr\\\\\n",
       "  & <chr> & <chr> & <chr> & <chr> & <int> & <chr> & <dbl> & <dbl> & <dbl> & <dbl> & <dbl> & <dbl> & <chr>\\\\\n",
       "\\hline\n",
       "\t3405 & breast\\_mammary\\_tissue & ENSG00000009790.14 & ENSG00000009790 & TRAF3IP3 & 5433 & Breast & 0.9137457 & 0.5676736 & 11.88221 & 1.350093e-28 & 6.968226e-27 & 53.76519 & chr1 \\\\\n",
       "\t4989 & breast\\_mammary\\_tissue & ENSG00000076604.14 & ENSG00000076604 & TRAF4    & 5433 & Breast & 0.8732736 & 4.8298281 &  7.91071 & 1.923433e-14 & 2.926761e-13 & 20.92178 & chr17\\\\\n",
       "\\end{tabular}\n"
      ],
      "text/markdown": [
       "\n",
       "A data.frame: 2 × 13\n",
       "\n",
       "| <!--/--> | Tissue &lt;chr&gt; | ENSG_ver &lt;chr&gt; | ENSG_no_ver &lt;chr&gt; | GeneSymbol &lt;chr&gt; | counts &lt;int&gt; | Display &lt;chr&gt; | logFC &lt;dbl&gt; | AveExpr &lt;dbl&gt; | t &lt;dbl&gt; | PValue &lt;dbl&gt; | AdjPVal &lt;dbl&gt; | B &lt;dbl&gt; | chr &lt;chr&gt; |\n",
       "|---|---|---|---|---|---|---|---|---|---|---|---|---|---|\n",
       "| 3405 | breast_mammary_tissue | ENSG00000009790.14 | ENSG00000009790 | TRAF3IP3 | 5433 | Breast | 0.9137457 | 0.5676736 | 11.88221 | 1.350093e-28 | 6.968226e-27 | 53.76519 | chr1  |\n",
       "| 4989 | breast_mammary_tissue | ENSG00000076604.14 | ENSG00000076604 | TRAF4    | 5433 | Breast | 0.8732736 | 4.8298281 |  7.91071 | 1.923433e-14 | 2.926761e-13 | 20.92178 | chr17 |\n",
       "\n"
      ],
      "text/plain": [
       "     Tissue                ENSG_ver           ENSG_no_ver     GeneSymbol counts\n",
       "3405 breast_mammary_tissue ENSG00000009790.14 ENSG00000009790 TRAF3IP3   5433  \n",
       "4989 breast_mammary_tissue ENSG00000076604.14 ENSG00000076604 TRAF4      5433  \n",
       "     Display logFC     AveExpr   t        PValue       AdjPVal      B       \n",
       "3405 Breast  0.9137457 0.5676736 11.88221 1.350093e-28 6.968226e-27 53.76519\n",
       "4989 Breast  0.8732736 4.8298281  7.91071 1.923433e-14 2.926761e-13 20.92178\n",
       "     chr  \n",
       "3405 chr1 \n",
       "4989 chr17"
      ]
     },
     "metadata": {},
     "output_type": "display_data"
    },
    {
     "data": {
      "text/html": [
       "<table>\n",
       "<caption>A data.frame: 2 × 15</caption>\n",
       "<thead>\n",
       "\t<tr><th></th><th scope=col>GeneJunction</th><th scope=col>ASE</th><th scope=col>ASE_IDX</th><th scope=col>Tissue</th><th scope=col>counts</th><th scope=col>Display</th><th scope=col>GeneSymbol</th><th scope=col>GeneID</th><th scope=col>chr</th><th scope=col>logFC</th><th scope=col>AveExpr</th><th scope=col>t</th><th scope=col>PValue</th><th scope=col>AdjPVal</th><th scope=col>B</th></tr>\n",
       "\t<tr><th></th><th scope=col>&lt;chr&gt;</th><th scope=col>&lt;chr&gt;</th><th scope=col>&lt;int&gt;</th><th scope=col>&lt;chr&gt;</th><th scope=col>&lt;int&gt;</th><th scope=col>&lt;chr&gt;</th><th scope=col>&lt;chr&gt;</th><th scope=col>&lt;chr&gt;</th><th scope=col>&lt;chr&gt;</th><th scope=col>&lt;dbl&gt;</th><th scope=col>&lt;dbl&gt;</th><th scope=col>&lt;dbl&gt;</th><th scope=col>&lt;dbl&gt;</th><th scope=col>&lt;dbl&gt;</th><th scope=col>&lt;dbl&gt;</th></tr>\n",
       "</thead>\n",
       "<tbody>\n",
       "\t<tr><th scope=row>175</th><td>TRAF3IP3-2737</td><td>A3SS</td><td>2737</td><td>breast_mammary_tissue</td><td>462</td><td>Breast</td><td>TRAF3IP3</td><td>ENSG00000009790.15</td><td>chr1 </td><td>-1.0894857</td><td>1.947695</td><td>-6.653225</td><td>1.058022e-10</td><td>1.110581e-08</td><td>13.925927</td></tr>\n",
       "\t<tr><th scope=row>873</th><td>TRAF4-2634   </td><td>A5SS</td><td>2634</td><td>breast_mammary_tissue</td><td>306</td><td>Breast</td><td>TRAF4   </td><td>ENSG00000076604.15</td><td>chr17</td><td>-0.9610208</td><td>4.837136</td><td>-4.698929</td><td>3.724633e-06</td><td>1.316037e-04</td><td> 3.837966</td></tr>\n",
       "</tbody>\n",
       "</table>\n"
      ],
      "text/latex": [
       "A data.frame: 2 × 15\n",
       "\\begin{tabular}{r|lllllllllllllll}\n",
       "  & GeneJunction & ASE & ASE\\_IDX & Tissue & counts & Display & GeneSymbol & GeneID & chr & logFC & AveExpr & t & PValue & AdjPVal & B\\\\\n",
       "  & <chr> & <chr> & <int> & <chr> & <int> & <chr> & <chr> & <chr> & <chr> & <dbl> & <dbl> & <dbl> & <dbl> & <dbl> & <dbl>\\\\\n",
       "\\hline\n",
       "\t175 & TRAF3IP3-2737 & A3SS & 2737 & breast\\_mammary\\_tissue & 462 & Breast & TRAF3IP3 & ENSG00000009790.15 & chr1  & -1.0894857 & 1.947695 & -6.653225 & 1.058022e-10 & 1.110581e-08 & 13.925927\\\\\n",
       "\t873 & TRAF4-2634    & A5SS & 2634 & breast\\_mammary\\_tissue & 306 & Breast & TRAF4    & ENSG00000076604.15 & chr17 & -0.9610208 & 4.837136 & -4.698929 & 3.724633e-06 & 1.316037e-04 &  3.837966\\\\\n",
       "\\end{tabular}\n"
      ],
      "text/markdown": [
       "\n",
       "A data.frame: 2 × 15\n",
       "\n",
       "| <!--/--> | GeneJunction &lt;chr&gt; | ASE &lt;chr&gt; | ASE_IDX &lt;int&gt; | Tissue &lt;chr&gt; | counts &lt;int&gt; | Display &lt;chr&gt; | GeneSymbol &lt;chr&gt; | GeneID &lt;chr&gt; | chr &lt;chr&gt; | logFC &lt;dbl&gt; | AveExpr &lt;dbl&gt; | t &lt;dbl&gt; | PValue &lt;dbl&gt; | AdjPVal &lt;dbl&gt; | B &lt;dbl&gt; |\n",
       "|---|---|---|---|---|---|---|---|---|---|---|---|---|---|---|---|\n",
       "| 175 | TRAF3IP3-2737 | A3SS | 2737 | breast_mammary_tissue | 462 | Breast | TRAF3IP3 | ENSG00000009790.15 | chr1  | -1.0894857 | 1.947695 | -6.653225 | 1.058022e-10 | 1.110581e-08 | 13.925927 |\n",
       "| 873 | TRAF4-2634    | A5SS | 2634 | breast_mammary_tissue | 306 | Breast | TRAF4    | ENSG00000076604.15 | chr17 | -0.9610208 | 4.837136 | -4.698929 | 3.724633e-06 | 1.316037e-04 |  3.837966 |\n",
       "\n"
      ],
      "text/plain": [
       "    GeneJunction  ASE  ASE_IDX Tissue                counts Display GeneSymbol\n",
       "175 TRAF3IP3-2737 A3SS 2737    breast_mammary_tissue 462    Breast  TRAF3IP3  \n",
       "873 TRAF4-2634    A5SS 2634    breast_mammary_tissue 306    Breast  TRAF4     \n",
       "    GeneID             chr   logFC      AveExpr  t         PValue      \n",
       "175 ENSG00000009790.15 chr1  -1.0894857 1.947695 -6.653225 1.058022e-10\n",
       "873 ENSG00000076604.15 chr17 -0.9610208 4.837136 -4.698929 3.724633e-06\n",
       "    AdjPVal      B        \n",
       "175 1.110581e-08 13.925927\n",
       "873 1.316037e-04  3.837966"
      ]
     },
     "metadata": {},
     "output_type": "display_data"
    }
   ],
   "source": [
    "TRAFDGE     <- sig_gene_dge[grepl(\"TRAF\",sig_gene_dge$GeneSymbol),]\n",
    "TRAFDAS     <- sig_gene_as[grepl(\"TRAF\",sig_gene_as$GeneSymbol),]\n",
    "head(TRAFDGE,2)\n",
    "head(TRAFDAS,2)\n",
    "write.table (TRAFDGE,\"../data/trafdge.tsv\", sep=\"\\t\")\n",
    "write.table (TRAFDAS,\"../data/trafdas.tsv\", sep=\"\\t\")"
   ]
  },
  {
   "cell_type": "markdown",
   "metadata": {},
   "source": [
    "### Appendix - Metadata\n",
    "\n",
    "For replicability and reproducibility purposes, we also print the following metadata:\n",
    "\n",
    "1. Checksums of **'artefacts'**, files generated during the analysis and stored in the folder directory **`data`**\n",
    "2. List of environment metadata, dependencies, versions of libraries using `utils::sessionInfo()` and [`devtools::session_info()`](https://devtools.r-lib.org/reference/session_info.html)"
   ]
  },
  {
   "cell_type": "markdown",
   "metadata": {},
   "source": [
    "### Appendix 1. Checksums with the sha256 algorithm"
   ]
  },
  {
   "cell_type": "code",
   "execution_count": null,
   "metadata": {},
   "outputs": [],
   "source": [
    "notebookid   = \"FisherExactTests\"\n",
    "notebookid\n"
   ]
  },
  {
   "cell_type": "markdown",
   "metadata": {},
   "source": [
    "### Appendix 2. Libraries metadata"
   ]
  },
  {
   "cell_type": "code",
   "execution_count": null,
   "metadata": {},
   "outputs": [],
   "source": [
    "dev_session_info   <- devtools::session_info()\n",
    "utils_session_info <- utils::sessionInfo()\n",
    "\n",
    "message(\"Saving `devtools::session_info()` objects in ../metadata/devtools_session_info.rds  ..\")\n",
    "saveRDS(dev_session_info, file = paste0(\"../metadata/\", notebookid, \"_devtools_session_info.rds\"))\n",
    "message(\"Done!\\n\")\n",
    "\n",
    "message(\"Saving `utils::sessionInfo()` objects in ../metadata/utils_session_info.rds  ..\")\n",
    "saveRDS(utils_session_info, file = paste0(\"../metadata/\", notebookid ,\"_utils_info.rds\"))\n",
    "message(\"Done!\\n\")\n",
    "\n",
    "dev_session_info$platform\n",
    "dev_session_info$packages[dev_session_info$packages$attached==TRUE, ]"
   ]
  },
  {
   "cell_type": "code",
   "execution_count": null,
   "metadata": {},
   "outputs": [],
   "source": []
  }
 ],
 "metadata": {
  "jupytext": {
   "cell_metadata_filter": "-all",
   "main_language": "R",
   "notebook_metadata_filter": "-all"
  },
  "kernelspec": {
   "display_name": "R",
   "language": "R",
   "name": "ir"
  },
  "language_info": {
   "codemirror_mode": "r",
   "file_extension": ".r",
   "mimetype": "text/x-r-source",
   "name": "R",
   "pygments_lexer": "r",
   "version": "3.6.2"
  }
 },
 "nbformat": 4,
 "nbformat_minor": 4
}
