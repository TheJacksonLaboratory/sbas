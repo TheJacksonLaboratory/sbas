{
 "cells": [
  {
   "cell_type": "markdown",
   "metadata": {},
   "source": [
    "# Analysis Notebook - Fisher exact test\n",
    "\n",
    "This notebook looks at specific Genes and Gene Subcategories"
   ]
  },
  {
   "cell_type": "code",
   "execution_count": 1,
   "metadata": {},
   "outputs": [
    {
     "name": "stderr",
     "output_type": "stream",
     "text": [
      "\n",
      "Attaching package: ‘dplyr’\n",
      "\n",
      "\n",
      "The following objects are masked from ‘package:stats’:\n",
      "\n",
      "    filter, lag\n",
      "\n",
      "\n",
      "The following objects are masked from ‘package:base’:\n",
      "\n",
      "    intersect, setdiff, setequal, union\n",
      "\n",
      "\n",
      "Loading required package: BiocGenerics\n",
      "\n",
      "Loading required package: parallel\n",
      "\n",
      "\n",
      "Attaching package: ‘BiocGenerics’\n",
      "\n",
      "\n",
      "The following objects are masked from ‘package:parallel’:\n",
      "\n",
      "    clusterApply, clusterApplyLB, clusterCall, clusterEvalQ,\n",
      "    clusterExport, clusterMap, parApply, parCapply, parLapply,\n",
      "    parLapplyLB, parRapply, parSapply, parSapplyLB\n",
      "\n",
      "\n",
      "The following objects are masked from ‘package:dplyr’:\n",
      "\n",
      "    combine, intersect, setdiff, union\n",
      "\n",
      "\n",
      "The following objects are masked from ‘package:stats’:\n",
      "\n",
      "    IQR, mad, sd, var, xtabs\n",
      "\n",
      "\n",
      "The following objects are masked from ‘package:base’:\n",
      "\n",
      "    anyDuplicated, append, as.data.frame, basename, cbind, colnames,\n",
      "    dirname, do.call, duplicated, eval, evalq, Filter, Find, get, grep,\n",
      "    grepl, intersect, is.unsorted, lapply, Map, mapply, match, mget,\n",
      "    order, paste, pmax, pmax.int, pmin, pmin.int, Position, rank,\n",
      "    rbind, Reduce, rownames, sapply, setdiff, sort, table, tapply,\n",
      "    union, unique, unsplit, which, which.max, which.min\n",
      "\n",
      "\n",
      "Loading required package: Biobase\n",
      "\n",
      "Welcome to Bioconductor\n",
      "\n",
      "    Vignettes contain introductory material; view with\n",
      "    'browseVignettes()'. To cite Bioconductor, see\n",
      "    'citation(\"Biobase\")', and for packages 'citation(\"pkgname\")'.\n",
      "\n",
      "\n",
      "Loading required package: R.oo\n",
      "\n",
      "Loading required package: R.methodsS3\n",
      "\n",
      "R.methodsS3 v1.8.0 (2020-02-14 07:10:20 UTC) successfully loaded. See ?R.methodsS3 for help.\n",
      "\n",
      "R.oo v1.23.0 successfully loaded. See ?R.oo for help.\n",
      "\n",
      "\n",
      "Attaching package: ‘R.oo’\n",
      "\n",
      "\n",
      "The following object is masked from ‘package:R.methodsS3’:\n",
      "\n",
      "    throw\n",
      "\n",
      "\n",
      "The following objects are masked from ‘package:methods’:\n",
      "\n",
      "    getClasses, getMethods\n",
      "\n",
      "\n",
      "The following objects are masked from ‘package:base’:\n",
      "\n",
      "    attach, detach, load, save\n",
      "\n",
      "\n",
      "R.utils v2.9.2 successfully loaded. See ?R.utils for help.\n",
      "\n",
      "\n",
      "Attaching package: ‘R.utils’\n",
      "\n",
      "\n",
      "The following object is masked from ‘package:utils’:\n",
      "\n",
      "    timestamp\n",
      "\n",
      "\n",
      "The following objects are masked from ‘package:base’:\n",
      "\n",
      "    cat, commandArgs, getOption, inherits, isOpen, nullfile, parse,\n",
      "    warnings\n",
      "\n",
      "\n"
     ]
    }
   ],
   "source": [
    "defaultW <- getOption(\"warn\")  # suppress warnings for this cell\n",
    "options(warn = -1) \n",
    "library(dplyr)\n",
    "library(multtest)\n",
    "library(R.utils)\n",
    "\n",
    "options(warn = defaultW)"
   ]
  },
  {
   "cell_type": "markdown",
   "metadata": {},
   "source": [
    "### 1  Read in all and significant alternative splicing and differential gene expression results\n",
    "\n",
    "The summary data captured in the now saved **all_gene_as_gene_names.tsv**, **all_genes_dge_data** and significant results captured in **gene_as.tsv** and **gene_dge.tsv**"
   ]
  },
  {
   "cell_type": "code",
   "execution_count": 2,
   "metadata": {},
   "outputs": [
    {
     "data": {
      "text/html": [
       "<table>\n",
       "<caption>A data.frame: 2 × 15</caption>\n",
       "<thead>\n",
       "\t<tr><th></th><th scope=col>GeneJunction</th><th scope=col>ASE</th><th scope=col>ASE_IDX</th><th scope=col>Tissue</th><th scope=col>counts</th><th scope=col>Display</th><th scope=col>GeneSymbol</th><th scope=col>GeneID</th><th scope=col>chr</th><th scope=col>logFC</th><th scope=col>AveExpr</th><th scope=col>t</th><th scope=col>PValue</th><th scope=col>AdjPVal</th><th scope=col>B</th></tr>\n",
       "\t<tr><th></th><th scope=col>&lt;chr&gt;</th><th scope=col>&lt;chr&gt;</th><th scope=col>&lt;int&gt;</th><th scope=col>&lt;chr&gt;</th><th scope=col>&lt;int&gt;</th><th scope=col>&lt;chr&gt;</th><th scope=col>&lt;chr&gt;</th><th scope=col>&lt;chr&gt;</th><th scope=col>&lt;chr&gt;</th><th scope=col>&lt;dbl&gt;</th><th scope=col>&lt;dbl&gt;</th><th scope=col>&lt;dbl&gt;</th><th scope=col>&lt;dbl&gt;</th><th scope=col>&lt;dbl&gt;</th><th scope=col>&lt;dbl&gt;</th></tr>\n",
       "</thead>\n",
       "<tbody>\n",
       "\t<tr><th scope=row>1</th><td>XIST-2253</td><td>A3SS</td><td>2253</td><td>adipose_subcutaneous</td><td>4</td><td>Adipose (sc)</td><td>XIST</td><td>ENSG00000229807.11</td><td>chrX</td><td>-4.408605</td><td>3.196317</td><td>-36.48897</td><td>4.635568e-154</td><td>3.893877e-150</td><td>310.0160</td></tr>\n",
       "\t<tr><th scope=row>2</th><td>XIST-2252</td><td>A3SS</td><td>2252</td><td>adipose_subcutaneous</td><td>4</td><td>Adipose (sc)</td><td>XIST</td><td>ENSG00000229807.11</td><td>chrX</td><td>-2.414713</td><td>3.647690</td><td>-21.92106</td><td> 1.444102e-78</td><td> 6.065229e-75</td><td>160.0282</td></tr>\n",
       "</tbody>\n",
       "</table>\n"
      ],
      "text/latex": [
       "A data.frame: 2 × 15\n",
       "\\begin{tabular}{r|lllllllllllllll}\n",
       "  & GeneJunction & ASE & ASE\\_IDX & Tissue & counts & Display & GeneSymbol & GeneID & chr & logFC & AveExpr & t & PValue & AdjPVal & B\\\\\n",
       "  & <chr> & <chr> & <int> & <chr> & <int> & <chr> & <chr> & <chr> & <chr> & <dbl> & <dbl> & <dbl> & <dbl> & <dbl> & <dbl>\\\\\n",
       "\\hline\n",
       "\t1 & XIST-2253 & A3SS & 2253 & adipose\\_subcutaneous & 4 & Adipose (sc) & XIST & ENSG00000229807.11 & chrX & -4.408605 & 3.196317 & -36.48897 & 4.635568e-154 & 3.893877e-150 & 310.0160\\\\\n",
       "\t2 & XIST-2252 & A3SS & 2252 & adipose\\_subcutaneous & 4 & Adipose (sc) & XIST & ENSG00000229807.11 & chrX & -2.414713 & 3.647690 & -21.92106 &  1.444102e-78 &  6.065229e-75 & 160.0282\\\\\n",
       "\\end{tabular}\n"
      ],
      "text/markdown": [
       "\n",
       "A data.frame: 2 × 15\n",
       "\n",
       "| <!--/--> | GeneJunction &lt;chr&gt; | ASE &lt;chr&gt; | ASE_IDX &lt;int&gt; | Tissue &lt;chr&gt; | counts &lt;int&gt; | Display &lt;chr&gt; | GeneSymbol &lt;chr&gt; | GeneID &lt;chr&gt; | chr &lt;chr&gt; | logFC &lt;dbl&gt; | AveExpr &lt;dbl&gt; | t &lt;dbl&gt; | PValue &lt;dbl&gt; | AdjPVal &lt;dbl&gt; | B &lt;dbl&gt; |\n",
       "|---|---|---|---|---|---|---|---|---|---|---|---|---|---|---|---|\n",
       "| 1 | XIST-2253 | A3SS | 2253 | adipose_subcutaneous | 4 | Adipose (sc) | XIST | ENSG00000229807.11 | chrX | -4.408605 | 3.196317 | -36.48897 | 4.635568e-154 | 3.893877e-150 | 310.0160 |\n",
       "| 2 | XIST-2252 | A3SS | 2252 | adipose_subcutaneous | 4 | Adipose (sc) | XIST | ENSG00000229807.11 | chrX | -2.414713 | 3.647690 | -21.92106 |  1.444102e-78 |  6.065229e-75 | 160.0282 |\n",
       "\n"
      ],
      "text/plain": [
       "  GeneJunction ASE  ASE_IDX Tissue               counts Display      GeneSymbol\n",
       "1 XIST-2253    A3SS 2253    adipose_subcutaneous 4      Adipose (sc) XIST      \n",
       "2 XIST-2252    A3SS 2252    adipose_subcutaneous 4      Adipose (sc) XIST      \n",
       "  GeneID             chr  logFC     AveExpr  t         PValue       \n",
       "1 ENSG00000229807.11 chrX -4.408605 3.196317 -36.48897 4.635568e-154\n",
       "2 ENSG00000229807.11 chrX -2.414713 3.647690 -21.92106  1.444102e-78\n",
       "  AdjPVal       B       \n",
       "1 3.893877e-150 310.0160\n",
       "2  6.065229e-75 160.0282"
      ]
     },
     "metadata": {},
     "output_type": "display_data"
    },
    {
     "data": {
      "text/html": [
       "<table>\n",
       "<caption>A data.frame: 2 × 13</caption>\n",
       "<thead>\n",
       "\t<tr><th></th><th scope=col>Tissue</th><th scope=col>ENSG_ver</th><th scope=col>ENSG_no_ver</th><th scope=col>GeneSymbol</th><th scope=col>counts</th><th scope=col>Display</th><th scope=col>logFC</th><th scope=col>AveExpr</th><th scope=col>t</th><th scope=col>PValue</th><th scope=col>AdjPVal</th><th scope=col>B</th><th scope=col>chr</th></tr>\n",
       "\t<tr><th></th><th scope=col>&lt;chr&gt;</th><th scope=col>&lt;chr&gt;</th><th scope=col>&lt;chr&gt;</th><th scope=col>&lt;chr&gt;</th><th scope=col>&lt;int&gt;</th><th scope=col>&lt;chr&gt;</th><th scope=col>&lt;dbl&gt;</th><th scope=col>&lt;dbl&gt;</th><th scope=col>&lt;dbl&gt;</th><th scope=col>&lt;dbl&gt;</th><th scope=col>&lt;dbl&gt;</th><th scope=col>&lt;dbl&gt;</th><th scope=col>&lt;chr&gt;</th></tr>\n",
       "</thead>\n",
       "<tbody>\n",
       "\t<tr><th scope=row>1</th><td>adipose_subcutaneous</td><td>ENSG00000176728.7</td><td>ENSG00000176728</td><td>TTTY14   </td><td>765</td><td>Adipose (sc)</td><td>-7.982166</td><td>-0.9288129</td><td>-139.8230</td><td>0</td><td>0</td><td>1107.423</td><td>chrY</td></tr>\n",
       "\t<tr><th scope=row>2</th><td>adipose_subcutaneous</td><td>ENSG00000231535.5</td><td>ENSG00000231535</td><td>LINC00278</td><td>765</td><td>Adipose (sc)</td><td>-6.095420</td><td>-2.7765638</td><td>-126.9138</td><td>0</td><td>0</td><td>1050.366</td><td>chrY</td></tr>\n",
       "</tbody>\n",
       "</table>\n"
      ],
      "text/latex": [
       "A data.frame: 2 × 13\n",
       "\\begin{tabular}{r|lllllllllllll}\n",
       "  & Tissue & ENSG\\_ver & ENSG\\_no\\_ver & GeneSymbol & counts & Display & logFC & AveExpr & t & PValue & AdjPVal & B & chr\\\\\n",
       "  & <chr> & <chr> & <chr> & <chr> & <int> & <chr> & <dbl> & <dbl> & <dbl> & <dbl> & <dbl> & <dbl> & <chr>\\\\\n",
       "\\hline\n",
       "\t1 & adipose\\_subcutaneous & ENSG00000176728.7 & ENSG00000176728 & TTTY14    & 765 & Adipose (sc) & -7.982166 & -0.9288129 & -139.8230 & 0 & 0 & 1107.423 & chrY\\\\\n",
       "\t2 & adipose\\_subcutaneous & ENSG00000231535.5 & ENSG00000231535 & LINC00278 & 765 & Adipose (sc) & -6.095420 & -2.7765638 & -126.9138 & 0 & 0 & 1050.366 & chrY\\\\\n",
       "\\end{tabular}\n"
      ],
      "text/markdown": [
       "\n",
       "A data.frame: 2 × 13\n",
       "\n",
       "| <!--/--> | Tissue &lt;chr&gt; | ENSG_ver &lt;chr&gt; | ENSG_no_ver &lt;chr&gt; | GeneSymbol &lt;chr&gt; | counts &lt;int&gt; | Display &lt;chr&gt; | logFC &lt;dbl&gt; | AveExpr &lt;dbl&gt; | t &lt;dbl&gt; | PValue &lt;dbl&gt; | AdjPVal &lt;dbl&gt; | B &lt;dbl&gt; | chr &lt;chr&gt; |\n",
       "|---|---|---|---|---|---|---|---|---|---|---|---|---|---|\n",
       "| 1 | adipose_subcutaneous | ENSG00000176728.7 | ENSG00000176728 | TTTY14    | 765 | Adipose (sc) | -7.982166 | -0.9288129 | -139.8230 | 0 | 0 | 1107.423 | chrY |\n",
       "| 2 | adipose_subcutaneous | ENSG00000231535.5 | ENSG00000231535 | LINC00278 | 765 | Adipose (sc) | -6.095420 | -2.7765638 | -126.9138 | 0 | 0 | 1050.366 | chrY |\n",
       "\n"
      ],
      "text/plain": [
       "  Tissue               ENSG_ver          ENSG_no_ver     GeneSymbol counts\n",
       "1 adipose_subcutaneous ENSG00000176728.7 ENSG00000176728 TTTY14     765   \n",
       "2 adipose_subcutaneous ENSG00000231535.5 ENSG00000231535 LINC00278  765   \n",
       "  Display      logFC     AveExpr    t         PValue AdjPVal B        chr \n",
       "1 Adipose (sc) -7.982166 -0.9288129 -139.8230 0      0       1107.423 chrY\n",
       "2 Adipose (sc) -6.095420 -2.7765638 -126.9138 0      0       1050.366 chrY"
      ]
     },
     "metadata": {},
     "output_type": "display_data"
    },
    {
     "data": {
      "text/html": [
       "<table>\n",
       "<caption>A data.frame: 2 × 2</caption>\n",
       "<thead>\n",
       "\t<tr><th></th><th scope=col>GeneSymbol</th><th scope=col>ensg</th></tr>\n",
       "\t<tr><th></th><th scope=col>&lt;chr&gt;</th><th scope=col>&lt;chr&gt;</th></tr>\n",
       "</thead>\n",
       "<tbody>\n",
       "\t<tr><th scope=row>1</th><td>A1BG</td><td>ENSG00000121410.11</td></tr>\n",
       "\t<tr><th scope=row>2</th><td>A1CF</td><td>ENSG00000148584.15</td></tr>\n",
       "</tbody>\n",
       "</table>\n"
      ],
      "text/latex": [
       "A data.frame: 2 × 2\n",
       "\\begin{tabular}{r|ll}\n",
       "  & GeneSymbol & ensg\\\\\n",
       "  & <chr> & <chr>\\\\\n",
       "\\hline\n",
       "\t1 & A1BG & ENSG00000121410.11\\\\\n",
       "\t2 & A1CF & ENSG00000148584.15\\\\\n",
       "\\end{tabular}\n"
      ],
      "text/markdown": [
       "\n",
       "A data.frame: 2 × 2\n",
       "\n",
       "| <!--/--> | GeneSymbol &lt;chr&gt; | ensg &lt;chr&gt; |\n",
       "|---|---|---|\n",
       "| 1 | A1BG | ENSG00000121410.11 |\n",
       "| 2 | A1CF | ENSG00000148584.15 |\n",
       "\n"
      ],
      "text/plain": [
       "  GeneSymbol ensg              \n",
       "1 A1BG       ENSG00000121410.11\n",
       "2 A1CF       ENSG00000148584.15"
      ]
     },
     "metadata": {},
     "output_type": "display_data"
    },
    {
     "data": {
      "text/html": [
       "<table>\n",
       "<caption>A data.frame: 2 × 4</caption>\n",
       "<thead>\n",
       "\t<tr><th></th><th scope=col>ENSG_ver</th><th scope=col>ENSG_no_ver</th><th scope=col>GeneSymbol</th><th scope=col>chr</th></tr>\n",
       "\t<tr><th></th><th scope=col>&lt;chr&gt;</th><th scope=col>&lt;chr&gt;</th><th scope=col>&lt;chr&gt;</th><th scope=col>&lt;chr&gt;</th></tr>\n",
       "</thead>\n",
       "<tbody>\n",
       "\t<tr><th scope=row>1</th><td>ENSG00000183878.15</td><td>ENSG00000183878</td><td>UTY   </td><td>chrY</td></tr>\n",
       "\t<tr><th scope=row>2</th><td>ENSG00000129824.15</td><td>ENSG00000129824</td><td>RPS4Y1</td><td>chrY</td></tr>\n",
       "</tbody>\n",
       "</table>\n"
      ],
      "text/latex": [
       "A data.frame: 2 × 4\n",
       "\\begin{tabular}{r|llll}\n",
       "  & ENSG\\_ver & ENSG\\_no\\_ver & GeneSymbol & chr\\\\\n",
       "  & <chr> & <chr> & <chr> & <chr>\\\\\n",
       "\\hline\n",
       "\t1 & ENSG00000183878.15 & ENSG00000183878 & UTY    & chrY\\\\\n",
       "\t2 & ENSG00000129824.15 & ENSG00000129824 & RPS4Y1 & chrY\\\\\n",
       "\\end{tabular}\n"
      ],
      "text/markdown": [
       "\n",
       "A data.frame: 2 × 4\n",
       "\n",
       "| <!--/--> | ENSG_ver &lt;chr&gt; | ENSG_no_ver &lt;chr&gt; | GeneSymbol &lt;chr&gt; | chr &lt;chr&gt; |\n",
       "|---|---|---|---|---|\n",
       "| 1 | ENSG00000183878.15 | ENSG00000183878 | UTY    | chrY |\n",
       "| 2 | ENSG00000129824.15 | ENSG00000129824 | RPS4Y1 | chrY |\n",
       "\n"
      ],
      "text/plain": [
       "  ENSG_ver           ENSG_no_ver     GeneSymbol chr \n",
       "1 ENSG00000183878.15 ENSG00000183878 UTY        chrY\n",
       "2 ENSG00000129824.15 ENSG00000129824 RPS4Y1     chrY"
      ]
     },
     "metadata": {},
     "output_type": "display_data"
    }
   ],
   "source": [
    "results_dir  <- \"../data/\"\n",
    "all_genes_as_data  <- read.table(\"../assets/all_gene_as_gene_names.tsv\", header=TRUE, sep=\"\\t\",\n",
    "                               skipNul=FALSE, stringsAsFactors = FALSE)\n",
    "names(all_genes_as_data) <- c(\"GeneSymbol\", \"ensg\")\n",
    "all_genes_dge_data <- read.table(\"../assets/all_gene_dge_gene_names.tsv\", header=TRUE, sep=\"\\t\",\n",
    "                               skipNul=FALSE, stringsAsFactors = FALSE)\n",
    "sig_gene_as  <- read.table(file=\"../data/gene_as.tsv\", header=TRUE, sep=\"\\t\",\n",
    "                               skipNul=FALSE, stringsAsFactors = FALSE)\n",
    "sig_gene_dge  <- read.table(file=\"../data/gene_dge.tsv\", header=TRUE, sep=\"\\t\",\n",
    "                               skipNul=FALSE, stringsAsFactors = FALSE)\n",
    "head(sig_gene_as,2)\n",
    "head(sig_gene_dge,2)\n",
    "head(all_genes_as_data,2)\n",
    "head(all_genes_dge_data,2)"
   ]
  },
  {
   "cell_type": "markdown",
   "metadata": {},
   "source": [
    "### 2  We then do a hypergeometric/Fisher test to look for overrepresentation\n"
   ]
  },
  {
   "cell_type": "markdown",
   "metadata": {},
   "source": [
    "### 2.1 DGE vs DAS\n",
    "\n",
    "Comparing differentially expressed genes with differentially alternatively spliced:\n",
    "\n",
    "|  \t|  DGE+| DGE-|\n",
    "|-\t|-\t|-\t|\n",
    "| DAS+|  a|  b|\n",
    "| DAS-|  c| d|"
   ]
  },
  {
   "cell_type": "code",
   "execution_count": 3,
   "metadata": {},
   "outputs": [],
   "source": [
    "sigASGenes  <- unique(sort(sig_gene_as$GeneSymbol))\n",
    "sigDGEGenes <- unique(sort(sig_gene_dge$GeneSymbol))\n",
    "allASGenes  <- unique(sort(all_genes_as_data$GeneSymbol))\n",
    "allDGEGenes <- unique(sort(all_genes_dge_data$GeneSymbol))"
   ]
  },
  {
   "cell_type": "code",
   "execution_count": 4,
   "metadata": {},
   "outputs": [
    {
     "name": "stderr",
     "output_type": "stream",
     "text": [
      "Number of sigASGenes 2887\n",
      "\n",
      "Number of genes that are NOT sigAS 11807\n",
      "\n",
      "Number of sigDGEgenes 7417\n",
      "\n",
      "Number of genes that are NOT DGE 34587\n",
      "\n",
      "a: 1147; b: 1704; c: 11587; d: 9997\n",
      "\n"
     ]
    }
   ],
   "source": [
    "message(\"Number of sigASGenes \", length(sigASGenes))\n",
    "notSigAS <- setdiff(allASGenes,sigASGenes)\n",
    "message(\"Number of genes that are NOT sigAS \", length(notSigAS))\n",
    "message(\"Number of sigDGEgenes \", length(sigDGEGenes))\n",
    "notDGE <- setdiff(allDGEGenes,sigDGEGenes)\n",
    "message(\"Number of genes that are NOT DGE \", length(notDGE))\n",
    "a <- intersect(sigASGenes, sigDGEGenes)\n",
    "b <- intersect(sigASGenes, notDGE)\n",
    "c <- intersect(notSigAS, allDGEGenes)\n",
    "d <- intersect(notSigAS, notDGE)\n",
    "message(\"a: \", length(a), \"; b: \",  length(b), \"; c: \",  length(c), \"; d: \",  length(d))"
   ]
  },
  {
   "cell_type": "code",
   "execution_count": 5,
   "metadata": {},
   "outputs": [
    {
     "data": {
      "text/plain": [
       "\n",
       "\tFisher's Exact Test for Count Data\n",
       "\n",
       "data:  m\n",
       "p-value < 2.2e-16\n",
       "alternative hypothesis: true odds ratio is not equal to 1\n",
       "95 percent confidence interval:\n",
       " 0.5358716 0.6292555\n",
       "sample estimates:\n",
       "odds ratio \n",
       " 0.5807765 \n"
      ]
     },
     "metadata": {},
     "output_type": "display_data"
    }
   ],
   "source": [
    "m <- matrix(c(length(a),length(b),length(c),length(d)), nrow=2,byrow = TRUE)\n",
    "fisher.test(m)"
   ]
  },
  {
   "cell_type": "markdown",
   "metadata": {},
   "source": [
    "### 2.2 IGH vs DGE\n",
    "\n",
    "It was noted that there are a number of immune genes showing up disproportionally in DGE\n",
    "\n",
    "\n",
    "\n",
    "|  \t| DGE+| DGE-|\n",
    "|-\t|-\t|-\t|\n",
    "| IGH+ |  a|  b|\n",
    "| IGH- |  c| d|"
   ]
  },
  {
   "cell_type": "code",
   "execution_count": 6,
   "metadata": {},
   "outputs": [
    {
     "data": {
      "text/html": [
       "152"
      ],
      "text/latex": [
       "152"
      ],
      "text/markdown": [
       "152"
      ],
      "text/plain": [
       "[1] 152"
      ]
     },
     "metadata": {},
     "output_type": "display_data"
    },
    {
     "data": {
      "text/html": [
       "41705"
      ],
      "text/latex": [
       "41705"
      ],
      "text/markdown": [
       "41705"
      ],
      "text/plain": [
       "[1] 41705"
      ]
     },
     "metadata": {},
     "output_type": "display_data"
    },
    {
     "data": {
      "text/html": [
       "7417"
      ],
      "text/latex": [
       "7417"
      ],
      "text/markdown": [
       "7417"
      ],
      "text/plain": [
       "[1] 7417"
      ]
     },
     "metadata": {},
     "output_type": "display_data"
    }
   ],
   "source": [
    "IGH         <- all_genes_dge_data[grepl(\"IGH\",all_genes_dge_data$GeneSymbol ),]\n",
    "sigDGEGenes <- unique(sort(sig_gene_dge$GeneSymbol))\n",
    "IGHGenes    <- unique(sort(IGH$GeneSymbol))\n",
    "AllGenes    <- unique(sort(all_genes_dge_data$GeneSymbol))\n",
    "length(IGHGenes)\n",
    "length(AllGenes)\n",
    "length(sigDGEGenes)"
   ]
  },
  {
   "cell_type": "code",
   "execution_count": 7,
   "metadata": {},
   "outputs": [
    {
     "name": "stderr",
     "output_type": "stream",
     "text": [
      "Number of IGH genes 152\n",
      "\n",
      "Number of genes that are NOT IGH 41553\n",
      "\n",
      "Number of sigDGEgenes 7417\n",
      "\n",
      "Number of genes that are NOT DGE 34587\n",
      "\n",
      "a: 133; b: 19; c: 6985; d: 34568\n",
      "\n"
     ]
    }
   ],
   "source": [
    "message(\"Number of IGH genes \", length(IGHGenes))\n",
    "notIGH <- setdiff(AllGenes,IGHGenes)\n",
    "message(\"Number of genes that are NOT IGH \", length(notIGH))\n",
    "message(\"Number of sigDGEgenes \", length(sigDGEGenes))\n",
    "notDGE <- setdiff(AllGenes,sigDGEGenes)\n",
    "message(\"Number of genes that are NOT DGE \", length(notDGE))\n",
    "a <- intersect(IGHGenes, sigDGEGenes)\n",
    "b <- intersect(IGHGenes, notDGE)\n",
    "c <- intersect(notIGH,   sigDGEGenes)\n",
    "d <- intersect(notIGH,   notDGE)\n",
    "message(\"a: \", length(a), \"; b: \",  length(b), \"; c: \",  length(c), \"; d: \",  length(d))"
   ]
  },
  {
   "cell_type": "code",
   "execution_count": 8,
   "metadata": {},
   "outputs": [
    {
     "data": {
      "text/plain": [
       "\n",
       "\tFisher's Exact Test for Count Data\n",
       "\n",
       "data:  m\n",
       "p-value < 2.2e-16\n",
       "alternative hypothesis: true odds ratio is not equal to 1\n",
       "95 percent confidence interval:\n",
       " 21.30914 59.42851\n",
       "sample estimates:\n",
       "odds ratio \n",
       "  34.65803 \n"
      ]
     },
     "metadata": {},
     "output_type": "display_data"
    }
   ],
   "source": [
    "m <- matrix(c(length(a),length(b),length(c),length(d)), nrow=2,byrow = TRUE)\n",
    "fisher.test(m)"
   ]
  },
  {
   "cell_type": "markdown",
   "metadata": {},
   "source": [
    "### Appendix - Metadata\n",
    "\n",
    "For replicability and reproducibility purposes, we also print the following metadata:\n",
    "\n",
    "1. Checksums of **'artefacts'**, files generated during the analysis and stored in the folder directory **`data`**\n",
    "2. List of environment metadata, dependencies, versions of libraries using `utils::sessionInfo()` and [`devtools::session_info()`](https://devtools.r-lib.org/reference/session_info.html)"
   ]
  },
  {
   "cell_type": "markdown",
   "metadata": {},
   "source": [
    "### Appendix 1. Checksums with the sha256 algorithm"
   ]
  },
  {
   "cell_type": "code",
   "execution_count": 9,
   "metadata": {},
   "outputs": [
    {
     "data": {
      "text/html": [
       "'FisherExactTests'"
      ],
      "text/latex": [
       "'FisherExactTests'"
      ],
      "text/markdown": [
       "'FisherExactTests'"
      ],
      "text/plain": [
       "[1] \"FisherExactTests\""
      ]
     },
     "metadata": {},
     "output_type": "display_data"
    }
   ],
   "source": [
    "notebookid   = \"FisherExactTests\"\n",
    "notebookid\n"
   ]
  },
  {
   "cell_type": "markdown",
   "metadata": {},
   "source": [
    "### Appendix 2. Libraries metadata"
   ]
  },
  {
   "cell_type": "code",
   "execution_count": 10,
   "metadata": {},
   "outputs": [
    {
     "name": "stderr",
     "output_type": "stream",
     "text": [
      "Saving `devtools::session_info()` objects in ../metadata/devtools_session_info.rds  ..\n",
      "\n",
      "Done!\n",
      "\n",
      "\n",
      "Saving `utils::sessionInfo()` objects in ../metadata/utils_session_info.rds  ..\n",
      "\n",
      "Done!\n",
      "\n",
      "\n"
     ]
    },
    {
     "data": {
      "text/plain": [
       " setting  value                       \n",
       " version  R version 3.6.2 (2019-12-12)\n",
       " os       Ubuntu 18.04.3 LTS          \n",
       " system   x86_64, linux-gnu           \n",
       " ui       X11                         \n",
       " language en_US.UTF-8                 \n",
       " collate  en_US.UTF-8                 \n",
       " ctype    en_US.UTF-8                 \n",
       " tz       Etc/UTC                     \n",
       " date     2020-06-22                  "
      ]
     },
     "metadata": {},
     "output_type": "display_data"
    },
    {
     "data": {
      "text/html": [
       "<table>\n",
       "<caption>A packages_info: 7 × 11</caption>\n",
       "<thead>\n",
       "\t<tr><th></th><th scope=col>package</th><th scope=col>ondiskversion</th><th scope=col>loadedversion</th><th scope=col>path</th><th scope=col>loadedpath</th><th scope=col>attached</th><th scope=col>is_base</th><th scope=col>date</th><th scope=col>source</th><th scope=col>md5ok</th><th scope=col>library</th></tr>\n",
       "\t<tr><th></th><th scope=col>&lt;chr&gt;</th><th scope=col>&lt;chr&gt;</th><th scope=col>&lt;chr&gt;</th><th scope=col>&lt;chr&gt;</th><th scope=col>&lt;chr&gt;</th><th scope=col>&lt;lgl&gt;</th><th scope=col>&lt;lgl&gt;</th><th scope=col>&lt;chr&gt;</th><th scope=col>&lt;chr&gt;</th><th scope=col>&lt;lgl&gt;</th><th scope=col>&lt;fct&gt;</th></tr>\n",
       "</thead>\n",
       "<tbody>\n",
       "\t<tr><th scope=row>Biobase</th><td>Biobase     </td><td>2.46.0</td><td>2.46.0</td><td>/opt/conda/lib/R/library/Biobase     </td><td>/opt/conda/lib/R/library/Biobase     </td><td>TRUE</td><td>FALSE</td><td>2019-10-29</td><td>Bioconductor  </td><td>NA</td><td>/opt/conda/lib/R/library</td></tr>\n",
       "\t<tr><th scope=row>BiocGenerics</th><td>BiocGenerics</td><td>0.32.0</td><td>0.32.0</td><td>/opt/conda/lib/R/library/BiocGenerics</td><td>/opt/conda/lib/R/library/BiocGenerics</td><td>TRUE</td><td>FALSE</td><td>2019-10-29</td><td>Bioconductor  </td><td>NA</td><td>/opt/conda/lib/R/library</td></tr>\n",
       "\t<tr><th scope=row>dplyr</th><td>dplyr       </td><td>0.8.4 </td><td>0.8.4 </td><td>/opt/conda/lib/R/library/dplyr       </td><td>/opt/conda/lib/R/library/dplyr       </td><td>TRUE</td><td>FALSE</td><td>2020-01-31</td><td>CRAN (R 3.6.2)</td><td>NA</td><td>/opt/conda/lib/R/library</td></tr>\n",
       "\t<tr><th scope=row>multtest</th><td>multtest    </td><td>2.42.0</td><td>2.42.0</td><td>/opt/conda/lib/R/library/multtest    </td><td>/opt/conda/lib/R/library/multtest    </td><td>TRUE</td><td>FALSE</td><td>2019-10-29</td><td>Bioconductor  </td><td>NA</td><td>/opt/conda/lib/R/library</td></tr>\n",
       "\t<tr><th scope=row>R.methodsS3</th><td>R.methodsS3 </td><td>1.8.0 </td><td>1.8.0 </td><td>/opt/conda/lib/R/library/R.methodsS3 </td><td>/opt/conda/lib/R/library/R.methodsS3 </td><td>TRUE</td><td>FALSE</td><td>2020-02-14</td><td>CRAN (R 3.6.3)</td><td>NA</td><td>/opt/conda/lib/R/library</td></tr>\n",
       "\t<tr><th scope=row>R.oo</th><td>R.oo        </td><td>1.23.0</td><td>1.23.0</td><td>/opt/conda/lib/R/library/R.oo        </td><td>/opt/conda/lib/R/library/R.oo        </td><td>TRUE</td><td>FALSE</td><td>2019-11-03</td><td>CRAN (R 3.6.3)</td><td>NA</td><td>/opt/conda/lib/R/library</td></tr>\n",
       "\t<tr><th scope=row>R.utils</th><td>R.utils     </td><td>2.9.2 </td><td>2.9.2 </td><td>/opt/conda/lib/R/library/R.utils     </td><td>/opt/conda/lib/R/library/R.utils     </td><td>TRUE</td><td>FALSE</td><td>2019-12-08</td><td>CRAN (R 3.6.3)</td><td>NA</td><td>/opt/conda/lib/R/library</td></tr>\n",
       "</tbody>\n",
       "</table>\n"
      ],
      "text/latex": [
       "A packages\\_info: 7 × 11\n",
       "\\begin{tabular}{r|lllllllllll}\n",
       "  & package & ondiskversion & loadedversion & path & loadedpath & attached & is\\_base & date & source & md5ok & library\\\\\n",
       "  & <chr> & <chr> & <chr> & <chr> & <chr> & <lgl> & <lgl> & <chr> & <chr> & <lgl> & <fct>\\\\\n",
       "\\hline\n",
       "\tBiobase & Biobase      & 2.46.0 & 2.46.0 & /opt/conda/lib/R/library/Biobase      & /opt/conda/lib/R/library/Biobase      & TRUE & FALSE & 2019-10-29 & Bioconductor   & NA & /opt/conda/lib/R/library\\\\\n",
       "\tBiocGenerics & BiocGenerics & 0.32.0 & 0.32.0 & /opt/conda/lib/R/library/BiocGenerics & /opt/conda/lib/R/library/BiocGenerics & TRUE & FALSE & 2019-10-29 & Bioconductor   & NA & /opt/conda/lib/R/library\\\\\n",
       "\tdplyr & dplyr        & 0.8.4  & 0.8.4  & /opt/conda/lib/R/library/dplyr        & /opt/conda/lib/R/library/dplyr        & TRUE & FALSE & 2020-01-31 & CRAN (R 3.6.2) & NA & /opt/conda/lib/R/library\\\\\n",
       "\tmulttest & multtest     & 2.42.0 & 2.42.0 & /opt/conda/lib/R/library/multtest     & /opt/conda/lib/R/library/multtest     & TRUE & FALSE & 2019-10-29 & Bioconductor   & NA & /opt/conda/lib/R/library\\\\\n",
       "\tR.methodsS3 & R.methodsS3  & 1.8.0  & 1.8.0  & /opt/conda/lib/R/library/R.methodsS3  & /opt/conda/lib/R/library/R.methodsS3  & TRUE & FALSE & 2020-02-14 & CRAN (R 3.6.3) & NA & /opt/conda/lib/R/library\\\\\n",
       "\tR.oo & R.oo         & 1.23.0 & 1.23.0 & /opt/conda/lib/R/library/R.oo         & /opt/conda/lib/R/library/R.oo         & TRUE & FALSE & 2019-11-03 & CRAN (R 3.6.3) & NA & /opt/conda/lib/R/library\\\\\n",
       "\tR.utils & R.utils      & 2.9.2  & 2.9.2  & /opt/conda/lib/R/library/R.utils      & /opt/conda/lib/R/library/R.utils      & TRUE & FALSE & 2019-12-08 & CRAN (R 3.6.3) & NA & /opt/conda/lib/R/library\\\\\n",
       "\\end{tabular}\n"
      ],
      "text/markdown": [
       "\n",
       "A packages_info: 7 × 11\n",
       "\n",
       "| <!--/--> | package &lt;chr&gt; | ondiskversion &lt;chr&gt; | loadedversion &lt;chr&gt; | path &lt;chr&gt; | loadedpath &lt;chr&gt; | attached &lt;lgl&gt; | is_base &lt;lgl&gt; | date &lt;chr&gt; | source &lt;chr&gt; | md5ok &lt;lgl&gt; | library &lt;fct&gt; |\n",
       "|---|---|---|---|---|---|---|---|---|---|---|---|\n",
       "| Biobase | Biobase      | 2.46.0 | 2.46.0 | /opt/conda/lib/R/library/Biobase      | /opt/conda/lib/R/library/Biobase      | TRUE | FALSE | 2019-10-29 | Bioconductor   | NA | /opt/conda/lib/R/library |\n",
       "| BiocGenerics | BiocGenerics | 0.32.0 | 0.32.0 | /opt/conda/lib/R/library/BiocGenerics | /opt/conda/lib/R/library/BiocGenerics | TRUE | FALSE | 2019-10-29 | Bioconductor   | NA | /opt/conda/lib/R/library |\n",
       "| dplyr | dplyr        | 0.8.4  | 0.8.4  | /opt/conda/lib/R/library/dplyr        | /opt/conda/lib/R/library/dplyr        | TRUE | FALSE | 2020-01-31 | CRAN (R 3.6.2) | NA | /opt/conda/lib/R/library |\n",
       "| multtest | multtest     | 2.42.0 | 2.42.0 | /opt/conda/lib/R/library/multtest     | /opt/conda/lib/R/library/multtest     | TRUE | FALSE | 2019-10-29 | Bioconductor   | NA | /opt/conda/lib/R/library |\n",
       "| R.methodsS3 | R.methodsS3  | 1.8.0  | 1.8.0  | /opt/conda/lib/R/library/R.methodsS3  | /opt/conda/lib/R/library/R.methodsS3  | TRUE | FALSE | 2020-02-14 | CRAN (R 3.6.3) | NA | /opt/conda/lib/R/library |\n",
       "| R.oo | R.oo         | 1.23.0 | 1.23.0 | /opt/conda/lib/R/library/R.oo         | /opt/conda/lib/R/library/R.oo         | TRUE | FALSE | 2019-11-03 | CRAN (R 3.6.3) | NA | /opt/conda/lib/R/library |\n",
       "| R.utils | R.utils      | 2.9.2  | 2.9.2  | /opt/conda/lib/R/library/R.utils      | /opt/conda/lib/R/library/R.utils      | TRUE | FALSE | 2019-12-08 | CRAN (R 3.6.3) | NA | /opt/conda/lib/R/library |\n",
       "\n"
      ],
      "text/plain": [
       "             package      ondiskversion loadedversion\n",
       "Biobase      Biobase      2.46.0        2.46.0       \n",
       "BiocGenerics BiocGenerics 0.32.0        0.32.0       \n",
       "dplyr        dplyr        0.8.4         0.8.4        \n",
       "multtest     multtest     2.42.0        2.42.0       \n",
       "R.methodsS3  R.methodsS3  1.8.0         1.8.0        \n",
       "R.oo         R.oo         1.23.0        1.23.0       \n",
       "R.utils      R.utils      2.9.2         2.9.2        \n",
       "             path                                 \n",
       "Biobase      /opt/conda/lib/R/library/Biobase     \n",
       "BiocGenerics /opt/conda/lib/R/library/BiocGenerics\n",
       "dplyr        /opt/conda/lib/R/library/dplyr       \n",
       "multtest     /opt/conda/lib/R/library/multtest    \n",
       "R.methodsS3  /opt/conda/lib/R/library/R.methodsS3 \n",
       "R.oo         /opt/conda/lib/R/library/R.oo        \n",
       "R.utils      /opt/conda/lib/R/library/R.utils     \n",
       "             loadedpath                            attached is_base date      \n",
       "Biobase      /opt/conda/lib/R/library/Biobase      TRUE     FALSE   2019-10-29\n",
       "BiocGenerics /opt/conda/lib/R/library/BiocGenerics TRUE     FALSE   2019-10-29\n",
       "dplyr        /opt/conda/lib/R/library/dplyr        TRUE     FALSE   2020-01-31\n",
       "multtest     /opt/conda/lib/R/library/multtest     TRUE     FALSE   2019-10-29\n",
       "R.methodsS3  /opt/conda/lib/R/library/R.methodsS3  TRUE     FALSE   2020-02-14\n",
       "R.oo         /opt/conda/lib/R/library/R.oo         TRUE     FALSE   2019-11-03\n",
       "R.utils      /opt/conda/lib/R/library/R.utils      TRUE     FALSE   2019-12-08\n",
       "             source         md5ok library                 \n",
       "Biobase      Bioconductor   NA    /opt/conda/lib/R/library\n",
       "BiocGenerics Bioconductor   NA    /opt/conda/lib/R/library\n",
       "dplyr        CRAN (R 3.6.2) NA    /opt/conda/lib/R/library\n",
       "multtest     Bioconductor   NA    /opt/conda/lib/R/library\n",
       "R.methodsS3  CRAN (R 3.6.3) NA    /opt/conda/lib/R/library\n",
       "R.oo         CRAN (R 3.6.3) NA    /opt/conda/lib/R/library\n",
       "R.utils      CRAN (R 3.6.3) NA    /opt/conda/lib/R/library"
      ]
     },
     "metadata": {},
     "output_type": "display_data"
    }
   ],
   "source": [
    "dev_session_info   <- devtools::session_info()\n",
    "utils_session_info <- utils::sessionInfo()\n",
    "\n",
    "message(\"Saving `devtools::session_info()` objects in ../metadata/devtools_session_info.rds  ..\")\n",
    "saveRDS(dev_session_info, file = paste0(\"../metadata/\", notebookid, \"_devtools_session_info.rds\"))\n",
    "message(\"Done!\\n\")\n",
    "\n",
    "message(\"Saving `utils::sessionInfo()` objects in ../metadata/utils_session_info.rds  ..\")\n",
    "saveRDS(utils_session_info, file = paste0(\"../metadata/\", notebookid ,\"_utils_info.rds\"))\n",
    "message(\"Done!\\n\")\n",
    "\n",
    "dev_session_info$platform\n",
    "dev_session_info$packages[dev_session_info$packages$attached==TRUE, ]"
   ]
  },
  {
   "cell_type": "code",
   "execution_count": null,
   "metadata": {},
   "outputs": [],
   "source": []
  }
 ],
 "metadata": {
  "jupytext": {
   "cell_metadata_filter": "-all",
   "main_language": "R",
   "notebook_metadata_filter": "-all"
  },
  "kernelspec": {
   "display_name": "R",
   "language": "R",
   "name": "ir"
  },
  "language_info": {
   "codemirror_mode": "r",
   "file_extension": ".r",
   "mimetype": "text/x-r-source",
   "name": "R",
   "pygments_lexer": "r",
   "version": "3.6.2"
  }
 },
 "nbformat": 4,
 "nbformat_minor": 4
}
