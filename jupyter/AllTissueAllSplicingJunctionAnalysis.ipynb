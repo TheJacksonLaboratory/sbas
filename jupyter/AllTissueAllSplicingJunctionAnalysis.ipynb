{
 "cells": [
  {
   "cell_type": "markdown",
   "metadata": {},
   "source": [
    "# AllTissueAllSplicingJunctionAnalysis as a Notebook \n",
    "\n",
    "rMATS 3.2.5 was run on controlled access RNASeq files retrieved experiments stored in the Sequence Read Archive with controlled access managed by dbGaP.   The data were generated under the Gene Tissue Expression.\n",
    "\n",
    "## rMATS RNASeq-MATS.py produces 10 different output types which get assembled into as type junction ID by sample ID matrices\n",
    "\n",
    "### Alternative Splice Site Types are: (se, a3ss, a5ss, mxe, ri)\n",
    "\n",
    " This is input as ARGV1 into variable 'astype'\n",
    "\n",
    "  * Skipped Exon events (se),\n",
    "  * Alternative 3' splice site (a3ss),\n",
    "  * Alternative 5' splice site (a5ss),\n",
    "  * Mutually exclusive exon (mxe),\n",
    "  * and retention intron (ri)\n",
    "\n",
    "### There are two different kinds of junction counts\n",
    "\n",
    "  * jc = junction counts - reads that cross the junction\n",
    "  * jcec = junction counts plus reads on the target (such as included exon\n",
    "\n",
    "### And the count type -- there are 5 types\n",
    "\n",
    "  * inclusion levels (percent spliced in)\n",
    "  * included junction counts (ijc)\n",
    "  * skipped junction counts (sjc)\n",
    "  * inclusion length (inclen)\n",
    "  * skipped length (skiplen)\n",
    "\n",
    "### function: fit_iso_tissue \n",
    "\n",
    "fit_iso_tissue expects the following input:\n",
    "\n",
    "  * the tissue of interest (SMSTD) \n",
    "  * an ordered_merged_rmats -- which will be ordered to fit the count matrix\n",
    "  * count matrix (inc or ijc & sjc merged)\n",
    "  * splice type (a3ss, a5ss, mxe, ri or se)\n",
    "  * junction_count type (jc or jcec)\n",
    "  * count type (inc or the merged ijc,sjc)\n",
    "  \n",
    "### reordering to match annotations between count matrix and annotation matrix\n",
    "\n",
    "Common problem is to match specifically the rows of an annotation matrix with the columns of a count matrix\n",
    "`match` is the function that gives the re-ordering index required to accomplish this\n"
   ]
  },
  {
   "cell_type": "markdown",
   "metadata": {},
   "source": [
    "## **NOTE**:\n",
    "\n",
    "We assume that you have cloned the analysis repository and have `cd` into the parent directory. Before starting with the analysis make sure you have first completed the dependencies set up by following the instructions described in the **`dependencies/README.md`** document. All paths defined in this Notebook are relative to the parent directory (repository). Please close this Notebook and start again by following the above guidelines if you have not completed the aforementioned steps.\n",
    "\n",
    "## rMATS-final-merged\n",
    "the rmats-nf NextFlow was executed and the results released here:"
   ]
  },
  {
   "cell_type": "markdown",
   "metadata": {},
   "source": [
    "## Loading dependencies"
   ]
  },
  {
   "cell_type": "code",
   "execution_count": 1,
   "metadata": {},
   "outputs": [
    {
     "name": "stderr",
     "output_type": "stream",
     "text": [
      "Loading required package: BiocGenerics\n",
      "Loading required package: parallel\n",
      "\n",
      "Attaching package: ‘BiocGenerics’\n",
      "\n",
      "The following objects are masked from ‘package:parallel’:\n",
      "\n",
      "    clusterApply, clusterApplyLB, clusterCall, clusterEvalQ,\n",
      "    clusterExport, clusterMap, parApply, parCapply, parLapply,\n",
      "    parLapplyLB, parRapply, parSapply, parSapplyLB\n",
      "\n",
      "The following object is masked from ‘package:limma’:\n",
      "\n",
      "    plotMA\n",
      "\n",
      "The following objects are masked from ‘package:stats’:\n",
      "\n",
      "    IQR, mad, sd, var, xtabs\n",
      "\n",
      "The following objects are masked from ‘package:base’:\n",
      "\n",
      "    anyDuplicated, append, as.data.frame, basename, cbind, colnames,\n",
      "    dirname, do.call, duplicated, eval, evalq, Filter, Find, get, grep,\n",
      "    grepl, intersect, is.unsorted, lapply, Map, mapply, match, mget,\n",
      "    order, paste, pmax, pmax.int, pmin, pmin.int, Position, rank,\n",
      "    rbind, Reduce, rownames, sapply, setdiff, sort, table, tapply,\n",
      "    union, unique, unsplit, which, which.max, which.min\n",
      "\n",
      "Loading required package: Biobase\n",
      "Welcome to Bioconductor\n",
      "\n",
      "    Vignettes contain introductory material; view with\n",
      "    'browseVignettes()'. To cite Bioconductor, see\n",
      "    'citation(\"Biobase\")', and for packages 'citation(\"pkgname\")'.\n",
      "\n",
      "Loading required package: R.oo\n",
      "Loading required package: R.methodsS3\n",
      "R.methodsS3 v1.8.0 (2020-02-14 07:10:20 UTC) successfully loaded. See ?R.methodsS3 for help.\n",
      "R.oo v1.23.0 successfully loaded. See ?R.oo for help.\n",
      "\n",
      "Attaching package: ‘R.oo’\n",
      "\n",
      "The following object is masked from ‘package:R.methodsS3’:\n",
      "\n",
      "    throw\n",
      "\n",
      "The following objects are masked from ‘package:methods’:\n",
      "\n",
      "    getClasses, getMethods\n",
      "\n",
      "The following objects are masked from ‘package:base’:\n",
      "\n",
      "    attach, detach, load, save\n",
      "\n",
      "R.utils v2.9.2 successfully loaded. See ?R.utils for help.\n",
      "\n",
      "Attaching package: ‘R.utils’\n",
      "\n",
      "The following object is masked from ‘package:utils’:\n",
      "\n",
      "    timestamp\n",
      "\n",
      "The following objects are masked from ‘package:base’:\n",
      "\n",
      "    cat, commandArgs, getOption, inherits, isOpen, nullfile, parse,\n",
      "    warnings\n",
      "\n"
     ]
    }
   ],
   "source": [
    "library(limma)\n",
    "library(piggyback)\n",
    "library(multtest)\n",
    "library(Biobase)\n",
    "library(edgeR)\n",
    "library(tibble)\n",
    "#install.packages('R.utils')\n",
    "library(R.utils)"
   ]
  },
  {
   "cell_type": "markdown",
   "metadata": {},
   "source": [
    "## Analysis \n",
    "\n",
    "This analysis uses edgeR.  Normalization takes the form of correction factors computed internally by edgeR functions, but it is also possible for a user to supply them. The correction factors may take the form of scaling factors for the library sizes, such as computed by calcNormFactors, which are then used to compute the effective library sizes. \n",
    "\n",
    "In this analysis, we are using the raw counts as provided by rMATS 3.2.5.  The raw counts we are using in the model are `ijc` and `sjc`, the sample specific raw read counts as they align to the junctions of the `included exon (ijc)` and the junctions of the `excluded or skipped exon (sjc)` respectively.\n",
    "\n",
    "\n",
    "Be sure to set your GITHUB_TOKEN, prior to downloading files\n",
    "\n",
    "One suggestion is change it to your token and then run it then immediately change it back to this:\n",
    "\n",
    "Sys.setenv(GITHUB_TOKEN = \"your-very-own-github-token\")"
   ]
  },
  {
   "cell_type": "markdown",
   "metadata": {},
   "source": [
    "### Did you remember?\n",
    "Did you remember to delete your private github token?  Now is a good time to do so, before you save your work and checkit in inadvertantly...."
   ]
  },
  {
   "cell_type": "code",
   "execution_count": 2,
   "metadata": {},
   "outputs": [],
   "source": [
    "if (!(\"rmats_final.se.jc.ijc.txt.gz\" %in% list.files(\"../data/\"))) {    \n",
    "    # SE\n",
    "    piggyback::pb_download(\n",
    "        show_progress = TRUE,\n",
    "        repo = \"adeslatt/sbas_test\", \n",
    "        file = \"rmats_final.se.jc.ijc.txt.gz\",\n",
    "        tag  = \"rMATS.3.2.5.GTEx.V8.final_matrices\", \n",
    "        dest = \"../data/\")\n",
    "    piggyback::pb_download(\n",
    "        show_progress = TRUE,\n",
    "        repo = \"adeslatt/sbas_test\", \n",
    "        file = \"rmats_final.se.jc.sjc.txt.gz\",\n",
    "        tag  = \"rMATS.3.2.5.GTEx.V8.final_matrices\", \n",
    "        dest = \"../data/\")\n",
    "    piggyback::pb_download(\n",
    "        show_progress = TRUE,\n",
    "        repo = \"adeslatt/sbas_test\", \n",
    "        file = \"rmats_final.se.jc.inc.txt.gz\",\n",
    "        tag  = \"rMATS.3.2.5.GTEx.V8.final_matrices\", \n",
    "        dest = \"../data/\")\n",
    "    piggyback::pb_download(\n",
    "        show_progress = TRUE,\n",
    "        repo = \"adeslatt/sbas_test\", \n",
    "        file = \"rmats_final.se.jc.inclen.txt.gz\",\n",
    "        tag  = \"rMATS.3.2.5.GTEx.V8.final_matrices\", \n",
    "        dest = \"../data/\")\n",
    "    piggyback::pb_download(\n",
    "        show_progress = TRUE,\n",
    "        repo = \"adeslatt/sbas_test\", \n",
    "        file = \"rmats_final.se.jc.skiplen.txt.gz\",\n",
    "        tag  = \"rMATS.3.2.5.GTEx.V8.final_matrices\", \n",
    "        dest = \"../data/\")\n",
    "    # RI\n",
    "    piggyback::pb_download(\n",
    "        show_progress = TRUE,\n",
    "        repo = \"adeslatt/sbas_test\", \n",
    "        file = \"rmats_final.ri.jc.ijc.txt.gz\",\n",
    "        tag  = \"rMATS.3.2.5.GTEx.V8.final_matrices\", \n",
    "        dest = \"../data/\")\n",
    "    piggyback::pb_download(\n",
    "        show_progress = TRUE,\n",
    "        repo = \"adeslatt/sbas_test\", \n",
    "        file = \"rmats_final.ri.jc.sjc.txt.gz\",\n",
    "        tag  = \"rMATS.3.2.5.GTEx.V8.final_matrices\", \n",
    "        dest = \"../data/\")\n",
    "    piggyback::pb_download(\n",
    "        show_progress = TRUE,\n",
    "        repo = \"adeslatt/sbas_test\", \n",
    "        file = \"rmats_final.ri.jc.inc.txt.gz\",\n",
    "        tag  = \"rMATS.3.2.5.GTEx.V8.final_matrices\", \n",
    "        dest = \"../data/\")\n",
    "    piggyback::pb_download(\n",
    "        show_progress = TRUE,\n",
    "        repo = \"adeslatt/sbas_test\", \n",
    "        file = \"rmats_final.ri.jc.inclen.txt.gz\",\n",
    "        tag  = \"rMATS.3.2.5.GTEx.V8.final_matrices\", \n",
    "        dest = \"../data/\")\n",
    "    piggyback::pb_download(\n",
    "        show_progress = TRUE,\n",
    "        repo = \"adeslatt/sbas_test\", \n",
    "        file = \"rmats_final.ri.jc.skiplen.txt.gz\",\n",
    "        tag  = \"rMATS.3.2.5.GTEx.V8.final_matrices\", \n",
    "        dest = \"../data/\")\n",
    "    # MXE\n",
    "    piggyback::pb_download(\n",
    "        show_progress = TRUE,\n",
    "        repo = \"adeslatt/sbas_test\", \n",
    "        file = \"rmats_final.mxe.jc.ijc.txt.gz\",\n",
    "        tag  = \"rMATS.3.2.5.GTEx.V8.final_matrices\", \n",
    "        dest = \"../data/\")\n",
    "    piggyback::pb_download(\n",
    "        show_progress = TRUE,\n",
    "        repo = \"adeslatt/sbas_test\", \n",
    "        file = \"rmats_final.mxe.jc.sjc.txt.gz\",\n",
    "        tag  = \"rMATS.3.2.5.GTEx.V8.final_matrices\", \n",
    "        dest = \"../data/\")\n",
    "    piggyback::pb_download(\n",
    "        show_progress = TRUE,\n",
    "        repo = \"adeslatt/sbas_test\", \n",
    "        file = \"rmats_final.mxe.jc.inc.txt.gz\",\n",
    "        tag  = \"rMATS.3.2.5.GTEx.V8.final_matrices\", \n",
    "        dest = \"../data/\")\n",
    "    piggyback::pb_download(\n",
    "        show_progress = TRUE,\n",
    "        repo = \"adeslatt/sbas_test\", \n",
    "        file = \"rmats_final.mxe.jc.inclen.txt.gz\",\n",
    "        tag  = \"rMATS.3.2.5.GTEx.V8.final_matrices\", \n",
    "        dest = \"../data/\")\n",
    "    piggyback::pb_download(\n",
    "        show_progress = TRUE,\n",
    "        repo = \"adeslatt/sbas_test\", \n",
    "        file = \"rmats_final.mxe.jc.skiplen.txt.gz\",\n",
    "        tag  = \"rMATS.3.2.5.GTEx.V8.final_matrices\", \n",
    "        dest = \"../data/\")\n",
    "    # A3SS\n",
    "    piggyback::pb_download(\n",
    "        show_progress = TRUE,\n",
    "        repo = \"adeslatt/sbas_test\", \n",
    "        file = \"rmats_final.a3ss.jc.ijc.txt.gz\",\n",
    "        tag  = \"rMATS.3.2.5.GTEx.V8.final_matrices\", \n",
    "        dest = \"../data/\")\n",
    "    piggyback::pb_download(\n",
    "        show_progress = TRUE,\n",
    "        repo = \"adeslatt/sbas_test\", \n",
    "        file = \"rmats_final.a3ss.jc.sjc.txt.gz\",\n",
    "        tag  = \"rMATS.3.2.5.GTEx.V8.final_matrices\", \n",
    "        dest = \"../data/\")\n",
    "    piggyback::pb_download(\n",
    "        show_progress = TRUE,\n",
    "        repo = \"adeslatt/sbas_test\", \n",
    "        file = \"rmats_final.a3ss.jc.inc.txt.gz\",\n",
    "        tag  = \"rMATS.3.2.5.GTEx.V8.final_matrices\", \n",
    "        dest = \"../data/\")\n",
    "    piggyback::pb_download(\n",
    "        show_progress = TRUE,\n",
    "        repo = \"adeslatt/sbas_test\", \n",
    "        file = \"rmats_final.a3ss.jc.inclen.txt.gz\",\n",
    "        tag  = \"rMATS.3.2.5.GTEx.V8.final_matrices\", \n",
    "        dest = \"../data/\")\n",
    "    piggyback::pb_download(\n",
    "        show_progress = TRUE,\n",
    "        repo = \"adeslatt/sbas_test\", \n",
    "        file = \"rmats_final.a3ss.jc.skiplen.txt.gz\",\n",
    "        tag  = \"rMATS.3.2.5.GTEx.V8.final_matrices\", \n",
    "        dest = \"../data/\")\n",
    "     # A5SS\n",
    "    piggyback::pb_download(\n",
    "        show_progress = TRUE,\n",
    "        repo = \"adeslatt/sbas_test\", \n",
    "        file = \"rmats_final.a5ss.jc.ijc.txt.gz\",\n",
    "        tag  = \"rMATS.3.2.5.GTEx.V8.final_matrices\", \n",
    "        dest = \"../data/\")\n",
    "    piggyback::pb_download(\n",
    "        show_progress = TRUE,\n",
    "        repo = \"adeslatt/sbas_test\", \n",
    "        file = \"rmats_final.a5ss.jc.sjc.txt.gz\",\n",
    "        tag  = \"rMATS.3.2.5.GTEx.V8.final_matrices\", \n",
    "        dest = \"../data/\")\n",
    "    piggyback::pb_download(\n",
    "        show_progress = TRUE,\n",
    "        repo = \"adeslatt/sbas_test\", \n",
    "        file = \"rmats_final.a5ss.jc.inc.txt.gz\",\n",
    "        tag  = \"rMATS.3.2.5.GTEx.V8.final_matrices\", \n",
    "        dest = \"../data/\")\n",
    "    piggyback::pb_download(\n",
    "        show_progress = TRUE,\n",
    "        repo = \"adeslatt/sbas_test\", \n",
    "        file = \"rmats_final.a5ss.jc.inclen.txt.gz\",\n",
    "        tag  = \"rMATS.3.2.5.GTEx.V8.final_matrices\", \n",
    "        dest = \"../data/\")\n",
    "    piggyback::pb_download(\n",
    "        show_progress = TRUE,\n",
    "        repo = \"adeslatt/sbas_test\", \n",
    "        file = \"rmats_final.a5ss.jc.skiplen.txt.gz\",\n",
    "        tag  = \"rMATS.3.2.5.GTEx.V8.final_matrices\", \n",
    "        dest = \"../data/\")\n",
    "} "
   ]
  },
  {
   "cell_type": "markdown",
   "metadata": {},
   "source": [
    "## Read in the count data"
   ]
  },
  {
   "cell_type": "code",
   "execution_count": 3,
   "metadata": {},
   "outputs": [
    {
     "name": "stderr",
     "output_type": "stream",
     "text": [
      "loading a3ss.jc.ijc rMATS 3.2.5 counts\n",
      "\n",
      "done!\n",
      "\n",
      "loading a3ss.jc.sjc rMATS 3.2.5 counts\n",
      "\n",
      "done!\n",
      "\n",
      "loading a5ss.jc.ijc rMATS 3.2.5 counts\n",
      "\n",
      "done!\n",
      "\n",
      "loading a5ss.jc.sjc rMATS 3.2.5 counts\n",
      "\n",
      "done!\n",
      "\n",
      "loading mxe.jc.ijc rMATS 3.2.5 counts\n",
      "\n",
      "done!\n",
      "\n",
      "loading mxe.jc.sjc rMATS 3.2.5 counts\n",
      "\n",
      "done!\n",
      "\n",
      "loading ri.jc.ijc rMATS 3.2.5 counts\n",
      "\n",
      "done!\n",
      "\n",
      "loading ri.jc.sjc rMATS 3.2.5 counts\n",
      "\n",
      "done!\n",
      "\n",
      "loading se.jc.ijc rMATS 3.2.5 counts\n",
      "\n",
      "done!\n",
      "\n",
      "loading se.jc.sjc rMATS 3.2.5 counts\n",
      "\n",
      "done!\n",
      "\n"
     ]
    },
    {
     "data": {
      "text/html": [
       "<table>\n",
       "<caption>A data.table: 5 × 5</caption>\n",
       "<thead>\n",
       "\t<tr><th scope=col>ID</th><th scope=col>SRR1068788</th><th scope=col>SRR1068808</th><th scope=col>SRR1068832</th><th scope=col>SRR1068855</th></tr>\n",
       "\t<tr><th scope=col>&lt;int&gt;</th><th scope=col>&lt;int&gt;</th><th scope=col>&lt;int&gt;</th><th scope=col>&lt;int&gt;</th><th scope=col>&lt;int&gt;</th></tr>\n",
       "</thead>\n",
       "<tbody>\n",
       "\t<tr><td>1</td><td>0</td><td>0</td><td> 2</td><td>0</td></tr>\n",
       "\t<tr><td>2</td><td>0</td><td>0</td><td>10</td><td>0</td></tr>\n",
       "\t<tr><td>3</td><td>0</td><td>0</td><td> 0</td><td>0</td></tr>\n",
       "\t<tr><td>4</td><td>2</td><td>0</td><td> 0</td><td>0</td></tr>\n",
       "\t<tr><td>5</td><td>1</td><td>0</td><td> 0</td><td>0</td></tr>\n",
       "</tbody>\n",
       "</table>\n"
      ],
      "text/latex": [
       "A data.table: 5 × 5\n",
       "\\begin{tabular}{lllll}\n",
       " ID & SRR1068788 & SRR1068808 & SRR1068832 & SRR1068855\\\\\n",
       " <int> & <int> & <int> & <int> & <int>\\\\\n",
       "\\hline\n",
       "\t 1 & 0 & 0 &  2 & 0\\\\\n",
       "\t 2 & 0 & 0 & 10 & 0\\\\\n",
       "\t 3 & 0 & 0 &  0 & 0\\\\\n",
       "\t 4 & 2 & 0 &  0 & 0\\\\\n",
       "\t 5 & 1 & 0 &  0 & 0\\\\\n",
       "\\end{tabular}\n"
      ],
      "text/markdown": [
       "\n",
       "A data.table: 5 × 5\n",
       "\n",
       "| ID &lt;int&gt; | SRR1068788 &lt;int&gt; | SRR1068808 &lt;int&gt; | SRR1068832 &lt;int&gt; | SRR1068855 &lt;int&gt; |\n",
       "|---|---|---|---|---|\n",
       "| 1 | 0 | 0 |  2 | 0 |\n",
       "| 2 | 0 | 0 | 10 | 0 |\n",
       "| 3 | 0 | 0 |  0 | 0 |\n",
       "| 4 | 2 | 0 |  0 | 0 |\n",
       "| 5 | 1 | 0 |  0 | 0 |\n",
       "\n"
      ],
      "text/plain": [
       "  ID SRR1068788 SRR1068808 SRR1068832 SRR1068855\n",
       "1 1  0          0           2         0         \n",
       "2 2  0          0          10         0         \n",
       "3 3  0          0           0         0         \n",
       "4 4  2          0           0         0         \n",
       "5 5  1          0           0         0         "
      ]
     },
     "metadata": {},
     "output_type": "display_data"
    },
    {
     "data": {
      "text/html": [
       "<table>\n",
       "<caption>A data.table: 5 × 5</caption>\n",
       "<thead>\n",
       "\t<tr><th scope=col>ID</th><th scope=col>SRR1068788</th><th scope=col>SRR1068808</th><th scope=col>SRR1068832</th><th scope=col>SRR1068855</th></tr>\n",
       "\t<tr><th scope=col>&lt;int&gt;</th><th scope=col>&lt;int&gt;</th><th scope=col>&lt;int&gt;</th><th scope=col>&lt;int&gt;</th><th scope=col>&lt;int&gt;</th></tr>\n",
       "</thead>\n",
       "<tbody>\n",
       "\t<tr><td>1</td><td>9</td><td>151</td><td>51</td><td>263</td></tr>\n",
       "\t<tr><td>2</td><td>0</td><td>  0</td><td> 0</td><td>  0</td></tr>\n",
       "\t<tr><td>3</td><td>2</td><td>  0</td><td> 0</td><td>  0</td></tr>\n",
       "\t<tr><td>4</td><td>0</td><td>  0</td><td> 0</td><td>  0</td></tr>\n",
       "\t<tr><td>5</td><td>0</td><td>  0</td><td> 0</td><td>  0</td></tr>\n",
       "</tbody>\n",
       "</table>\n"
      ],
      "text/latex": [
       "A data.table: 5 × 5\n",
       "\\begin{tabular}{lllll}\n",
       " ID & SRR1068788 & SRR1068808 & SRR1068832 & SRR1068855\\\\\n",
       " <int> & <int> & <int> & <int> & <int>\\\\\n",
       "\\hline\n",
       "\t 1 & 9 & 151 & 51 & 263\\\\\n",
       "\t 2 & 0 &   0 &  0 &   0\\\\\n",
       "\t 3 & 2 &   0 &  0 &   0\\\\\n",
       "\t 4 & 0 &   0 &  0 &   0\\\\\n",
       "\t 5 & 0 &   0 &  0 &   0\\\\\n",
       "\\end{tabular}\n"
      ],
      "text/markdown": [
       "\n",
       "A data.table: 5 × 5\n",
       "\n",
       "| ID &lt;int&gt; | SRR1068788 &lt;int&gt; | SRR1068808 &lt;int&gt; | SRR1068832 &lt;int&gt; | SRR1068855 &lt;int&gt; |\n",
       "|---|---|---|---|---|\n",
       "| 1 | 9 | 151 | 51 | 263 |\n",
       "| 2 | 0 |   0 |  0 |   0 |\n",
       "| 3 | 2 |   0 |  0 |   0 |\n",
       "| 4 | 0 |   0 |  0 |   0 |\n",
       "| 5 | 0 |   0 |  0 |   0 |\n",
       "\n"
      ],
      "text/plain": [
       "  ID SRR1068788 SRR1068808 SRR1068832 SRR1068855\n",
       "1 1  9          151        51         263       \n",
       "2 2  0            0         0           0       \n",
       "3 3  2            0         0           0       \n",
       "4 4  0            0         0           0       \n",
       "5 5  0            0         0           0       "
      ]
     },
     "metadata": {},
     "output_type": "display_data"
    },
    {
     "data": {
      "text/html": [
       "<table>\n",
       "<caption>A data.table: 5 × 5</caption>\n",
       "<thead>\n",
       "\t<tr><th scope=col>ID</th><th scope=col>SRR1068788</th><th scope=col>SRR1068808</th><th scope=col>SRR1068832</th><th scope=col>SRR1068855</th></tr>\n",
       "\t<tr><th scope=col>&lt;int&gt;</th><th scope=col>&lt;int&gt;</th><th scope=col>&lt;int&gt;</th><th scope=col>&lt;int&gt;</th><th scope=col>&lt;int&gt;</th></tr>\n",
       "</thead>\n",
       "<tbody>\n",
       "\t<tr><td>1</td><td> 0</td><td> 0</td><td> 0</td><td> 2</td></tr>\n",
       "\t<tr><td>2</td><td> 0</td><td> 0</td><td> 0</td><td> 1</td></tr>\n",
       "\t<tr><td>3</td><td> 1</td><td> 0</td><td> 0</td><td> 1</td></tr>\n",
       "\t<tr><td>4</td><td>14</td><td>14</td><td> 3</td><td> 9</td></tr>\n",
       "\t<tr><td>5</td><td>22</td><td>67</td><td>10</td><td>20</td></tr>\n",
       "</tbody>\n",
       "</table>\n"
      ],
      "text/latex": [
       "A data.table: 5 × 5\n",
       "\\begin{tabular}{lllll}\n",
       " ID & SRR1068788 & SRR1068808 & SRR1068832 & SRR1068855\\\\\n",
       " <int> & <int> & <int> & <int> & <int>\\\\\n",
       "\\hline\n",
       "\t 1 &  0 &  0 &  0 &  2\\\\\n",
       "\t 2 &  0 &  0 &  0 &  1\\\\\n",
       "\t 3 &  1 &  0 &  0 &  1\\\\\n",
       "\t 4 & 14 & 14 &  3 &  9\\\\\n",
       "\t 5 & 22 & 67 & 10 & 20\\\\\n",
       "\\end{tabular}\n"
      ],
      "text/markdown": [
       "\n",
       "A data.table: 5 × 5\n",
       "\n",
       "| ID &lt;int&gt; | SRR1068788 &lt;int&gt; | SRR1068808 &lt;int&gt; | SRR1068832 &lt;int&gt; | SRR1068855 &lt;int&gt; |\n",
       "|---|---|---|---|---|\n",
       "| 1 |  0 |  0 |  0 |  2 |\n",
       "| 2 |  0 |  0 |  0 |  1 |\n",
       "| 3 |  1 |  0 |  0 |  1 |\n",
       "| 4 | 14 | 14 |  3 |  9 |\n",
       "| 5 | 22 | 67 | 10 | 20 |\n",
       "\n"
      ],
      "text/plain": [
       "  ID SRR1068788 SRR1068808 SRR1068832 SRR1068855\n",
       "1 1   0          0          0          2        \n",
       "2 2   0          0          0          1        \n",
       "3 3   1          0          0          1        \n",
       "4 4  14         14          3          9        \n",
       "5 5  22         67         10         20        "
      ]
     },
     "metadata": {},
     "output_type": "display_data"
    },
    {
     "data": {
      "text/html": [
       "<table>\n",
       "<caption>A data.table: 5 × 5</caption>\n",
       "<thead>\n",
       "\t<tr><th scope=col>ID</th><th scope=col>SRR1068788</th><th scope=col>SRR1068808</th><th scope=col>SRR1068832</th><th scope=col>SRR1068855</th></tr>\n",
       "\t<tr><th scope=col>&lt;int&gt;</th><th scope=col>&lt;int&gt;</th><th scope=col>&lt;int&gt;</th><th scope=col>&lt;int&gt;</th><th scope=col>&lt;int&gt;</th></tr>\n",
       "</thead>\n",
       "<tbody>\n",
       "\t<tr><td>1</td><td>56</td><td>79</td><td>30</td><td>778</td></tr>\n",
       "\t<tr><td>2</td><td> 0</td><td> 0</td><td> 0</td><td>  0</td></tr>\n",
       "\t<tr><td>3</td><td> 0</td><td> 0</td><td> 0</td><td>  0</td></tr>\n",
       "\t<tr><td>4</td><td>25</td><td>13</td><td>12</td><td> 74</td></tr>\n",
       "\t<tr><td>5</td><td> 0</td><td> 0</td><td> 0</td><td>  0</td></tr>\n",
       "</tbody>\n",
       "</table>\n"
      ],
      "text/latex": [
       "A data.table: 5 × 5\n",
       "\\begin{tabular}{lllll}\n",
       " ID & SRR1068788 & SRR1068808 & SRR1068832 & SRR1068855\\\\\n",
       " <int> & <int> & <int> & <int> & <int>\\\\\n",
       "\\hline\n",
       "\t 1 & 56 & 79 & 30 & 778\\\\\n",
       "\t 2 &  0 &  0 &  0 &   0\\\\\n",
       "\t 3 &  0 &  0 &  0 &   0\\\\\n",
       "\t 4 & 25 & 13 & 12 &  74\\\\\n",
       "\t 5 &  0 &  0 &  0 &   0\\\\\n",
       "\\end{tabular}\n"
      ],
      "text/markdown": [
       "\n",
       "A data.table: 5 × 5\n",
       "\n",
       "| ID &lt;int&gt; | SRR1068788 &lt;int&gt; | SRR1068808 &lt;int&gt; | SRR1068832 &lt;int&gt; | SRR1068855 &lt;int&gt; |\n",
       "|---|---|---|---|---|\n",
       "| 1 | 56 | 79 | 30 | 778 |\n",
       "| 2 |  0 |  0 |  0 |   0 |\n",
       "| 3 |  0 |  0 |  0 |   0 |\n",
       "| 4 | 25 | 13 | 12 |  74 |\n",
       "| 5 |  0 |  0 |  0 |   0 |\n",
       "\n"
      ],
      "text/plain": [
       "  ID SRR1068788 SRR1068808 SRR1068832 SRR1068855\n",
       "1 1  56         79         30         778       \n",
       "2 2   0          0          0           0       \n",
       "3 3   0          0          0           0       \n",
       "4 4  25         13         12          74       \n",
       "5 5   0          0          0           0       "
      ]
     },
     "metadata": {},
     "output_type": "display_data"
    },
    {
     "data": {
      "text/html": [
       "<table>\n",
       "<caption>A data.table: 5 × 5</caption>\n",
       "<thead>\n",
       "\t<tr><th scope=col>ID</th><th scope=col>SRR1068788</th><th scope=col>SRR1068808</th><th scope=col>SRR1068832</th><th scope=col>SRR1068855</th></tr>\n",
       "\t<tr><th scope=col>&lt;int&gt;</th><th scope=col>&lt;int&gt;</th><th scope=col>&lt;int&gt;</th><th scope=col>&lt;int&gt;</th><th scope=col>&lt;int&gt;</th></tr>\n",
       "</thead>\n",
       "<tbody>\n",
       "\t<tr><td>1</td><td> 6</td><td>5</td><td>3</td><td> 9</td></tr>\n",
       "\t<tr><td>2</td><td>13</td><td>0</td><td>0</td><td> 0</td></tr>\n",
       "\t<tr><td>3</td><td>10</td><td>0</td><td>0</td><td> 0</td></tr>\n",
       "\t<tr><td>4</td><td> 1</td><td>1</td><td>0</td><td> 1</td></tr>\n",
       "\t<tr><td>5</td><td> 8</td><td>0</td><td>0</td><td>17</td></tr>\n",
       "</tbody>\n",
       "</table>\n"
      ],
      "text/latex": [
       "A data.table: 5 × 5\n",
       "\\begin{tabular}{lllll}\n",
       " ID & SRR1068788 & SRR1068808 & SRR1068832 & SRR1068855\\\\\n",
       " <int> & <int> & <int> & <int> & <int>\\\\\n",
       "\\hline\n",
       "\t 1 &  6 & 5 & 3 &  9\\\\\n",
       "\t 2 & 13 & 0 & 0 &  0\\\\\n",
       "\t 3 & 10 & 0 & 0 &  0\\\\\n",
       "\t 4 &  1 & 1 & 0 &  1\\\\\n",
       "\t 5 &  8 & 0 & 0 & 17\\\\\n",
       "\\end{tabular}\n"
      ],
      "text/markdown": [
       "\n",
       "A data.table: 5 × 5\n",
       "\n",
       "| ID &lt;int&gt; | SRR1068788 &lt;int&gt; | SRR1068808 &lt;int&gt; | SRR1068832 &lt;int&gt; | SRR1068855 &lt;int&gt; |\n",
       "|---|---|---|---|---|\n",
       "| 1 |  6 | 5 | 3 |  9 |\n",
       "| 2 | 13 | 0 | 0 |  0 |\n",
       "| 3 | 10 | 0 | 0 |  0 |\n",
       "| 4 |  1 | 1 | 0 |  1 |\n",
       "| 5 |  8 | 0 | 0 | 17 |\n",
       "\n"
      ],
      "text/plain": [
       "  ID SRR1068788 SRR1068808 SRR1068832 SRR1068855\n",
       "1 1   6         5          3           9        \n",
       "2 2  13         0          0           0        \n",
       "3 3  10         0          0           0        \n",
       "4 4   1         1          0           1        \n",
       "5 5   8         0          0          17        "
      ]
     },
     "metadata": {},
     "output_type": "display_data"
    },
    {
     "data": {
      "text/html": [
       "<table>\n",
       "<caption>A data.table: 5 × 5</caption>\n",
       "<thead>\n",
       "\t<tr><th scope=col>ID</th><th scope=col>SRR1068788</th><th scope=col>SRR1068808</th><th scope=col>SRR1068832</th><th scope=col>SRR1068855</th></tr>\n",
       "\t<tr><th scope=col>&lt;int&gt;</th><th scope=col>&lt;int&gt;</th><th scope=col>&lt;int&gt;</th><th scope=col>&lt;int&gt;</th><th scope=col>&lt;int&gt;</th></tr>\n",
       "</thead>\n",
       "<tbody>\n",
       "\t<tr><td>1</td><td>22</td><td>36</td><td>7</td><td>40</td></tr>\n",
       "\t<tr><td>2</td><td>10</td><td> 0</td><td>4</td><td> 0</td></tr>\n",
       "\t<tr><td>3</td><td> 1</td><td> 0</td><td>0</td><td> 0</td></tr>\n",
       "\t<tr><td>4</td><td> 4</td><td> 0</td><td>2</td><td> 0</td></tr>\n",
       "\t<tr><td>5</td><td>51</td><td> 4</td><td>8</td><td>24</td></tr>\n",
       "</tbody>\n",
       "</table>\n"
      ],
      "text/latex": [
       "A data.table: 5 × 5\n",
       "\\begin{tabular}{lllll}\n",
       " ID & SRR1068788 & SRR1068808 & SRR1068832 & SRR1068855\\\\\n",
       " <int> & <int> & <int> & <int> & <int>\\\\\n",
       "\\hline\n",
       "\t 1 & 22 & 36 & 7 & 40\\\\\n",
       "\t 2 & 10 &  0 & 4 &  0\\\\\n",
       "\t 3 &  1 &  0 & 0 &  0\\\\\n",
       "\t 4 &  4 &  0 & 2 &  0\\\\\n",
       "\t 5 & 51 &  4 & 8 & 24\\\\\n",
       "\\end{tabular}\n"
      ],
      "text/markdown": [
       "\n",
       "A data.table: 5 × 5\n",
       "\n",
       "| ID &lt;int&gt; | SRR1068788 &lt;int&gt; | SRR1068808 &lt;int&gt; | SRR1068832 &lt;int&gt; | SRR1068855 &lt;int&gt; |\n",
       "|---|---|---|---|---|\n",
       "| 1 | 22 | 36 | 7 | 40 |\n",
       "| 2 | 10 |  0 | 4 |  0 |\n",
       "| 3 |  1 |  0 | 0 |  0 |\n",
       "| 4 |  4 |  0 | 2 |  0 |\n",
       "| 5 | 51 |  4 | 8 | 24 |\n",
       "\n"
      ],
      "text/plain": [
       "  ID SRR1068788 SRR1068808 SRR1068832 SRR1068855\n",
       "1 1  22         36         7          40        \n",
       "2 2  10          0         4           0        \n",
       "3 3   1          0         0           0        \n",
       "4 4   4          0         2           0        \n",
       "5 5  51          4         8          24        "
      ]
     },
     "metadata": {},
     "output_type": "display_data"
    },
    {
     "data": {
      "text/html": [
       "<table>\n",
       "<caption>A data.table: 5 × 5</caption>\n",
       "<thead>\n",
       "\t<tr><th scope=col>ID</th><th scope=col>SRR1068788</th><th scope=col>SRR1068808</th><th scope=col>SRR1068832</th><th scope=col>SRR1068855</th></tr>\n",
       "\t<tr><th scope=col>&lt;int&gt;</th><th scope=col>&lt;int&gt;</th><th scope=col>&lt;int&gt;</th><th scope=col>&lt;int&gt;</th><th scope=col>&lt;int&gt;</th></tr>\n",
       "</thead>\n",
       "<tbody>\n",
       "\t<tr><td>1</td><td>  0</td><td> 0</td><td>  5</td><td> 0</td></tr>\n",
       "\t<tr><td>2</td><td>  3</td><td> 0</td><td>  1</td><td> 6</td></tr>\n",
       "\t<tr><td>3</td><td>  2</td><td> 0</td><td>  0</td><td> 6</td></tr>\n",
       "\t<tr><td>4</td><td>  9</td><td> 0</td><td>  4</td><td>15</td></tr>\n",
       "\t<tr><td>5</td><td>112</td><td>64</td><td>113</td><td>59</td></tr>\n",
       "</tbody>\n",
       "</table>\n"
      ],
      "text/latex": [
       "A data.table: 5 × 5\n",
       "\\begin{tabular}{lllll}\n",
       " ID & SRR1068788 & SRR1068808 & SRR1068832 & SRR1068855\\\\\n",
       " <int> & <int> & <int> & <int> & <int>\\\\\n",
       "\\hline\n",
       "\t 1 &   0 &  0 &   5 &  0\\\\\n",
       "\t 2 &   3 &  0 &   1 &  6\\\\\n",
       "\t 3 &   2 &  0 &   0 &  6\\\\\n",
       "\t 4 &   9 &  0 &   4 & 15\\\\\n",
       "\t 5 & 112 & 64 & 113 & 59\\\\\n",
       "\\end{tabular}\n"
      ],
      "text/markdown": [
       "\n",
       "A data.table: 5 × 5\n",
       "\n",
       "| ID &lt;int&gt; | SRR1068788 &lt;int&gt; | SRR1068808 &lt;int&gt; | SRR1068832 &lt;int&gt; | SRR1068855 &lt;int&gt; |\n",
       "|---|---|---|---|---|\n",
       "| 1 |   0 |  0 |   5 |  0 |\n",
       "| 2 |   3 |  0 |   1 |  6 |\n",
       "| 3 |   2 |  0 |   0 |  6 |\n",
       "| 4 |   9 |  0 |   4 | 15 |\n",
       "| 5 | 112 | 64 | 113 | 59 |\n",
       "\n"
      ],
      "text/plain": [
       "  ID SRR1068788 SRR1068808 SRR1068832 SRR1068855\n",
       "1 1    0         0           5         0        \n",
       "2 2    3         0           1         6        \n",
       "3 3    2         0           0         6        \n",
       "4 4    9         0           4        15        \n",
       "5 5  112        64         113        59        "
      ]
     },
     "metadata": {},
     "output_type": "display_data"
    },
    {
     "data": {
      "text/html": [
       "<table>\n",
       "<caption>A data.table: 5 × 5</caption>\n",
       "<thead>\n",
       "\t<tr><th scope=col>ID</th><th scope=col>SRR1068788</th><th scope=col>SRR1068808</th><th scope=col>SRR1068832</th><th scope=col>SRR1068855</th></tr>\n",
       "\t<tr><th scope=col>&lt;int&gt;</th><th scope=col>&lt;int&gt;</th><th scope=col>&lt;int&gt;</th><th scope=col>&lt;int&gt;</th><th scope=col>&lt;int&gt;</th></tr>\n",
       "</thead>\n",
       "<tbody>\n",
       "\t<tr><td>1</td><td> 0</td><td> 0</td><td> 0</td><td>  0</td></tr>\n",
       "\t<tr><td>2</td><td> 0</td><td> 0</td><td> 0</td><td>  0</td></tr>\n",
       "\t<tr><td>3</td><td> 2</td><td> 0</td><td> 0</td><td>  0</td></tr>\n",
       "\t<tr><td>4</td><td>88</td><td>98</td><td>25</td><td>206</td></tr>\n",
       "\t<tr><td>5</td><td>70</td><td>11</td><td>34</td><td> 37</td></tr>\n",
       "</tbody>\n",
       "</table>\n"
      ],
      "text/latex": [
       "A data.table: 5 × 5\n",
       "\\begin{tabular}{lllll}\n",
       " ID & SRR1068788 & SRR1068808 & SRR1068832 & SRR1068855\\\\\n",
       " <int> & <int> & <int> & <int> & <int>\\\\\n",
       "\\hline\n",
       "\t 1 &  0 &  0 &  0 &   0\\\\\n",
       "\t 2 &  0 &  0 &  0 &   0\\\\\n",
       "\t 3 &  2 &  0 &  0 &   0\\\\\n",
       "\t 4 & 88 & 98 & 25 & 206\\\\\n",
       "\t 5 & 70 & 11 & 34 &  37\\\\\n",
       "\\end{tabular}\n"
      ],
      "text/markdown": [
       "\n",
       "A data.table: 5 × 5\n",
       "\n",
       "| ID &lt;int&gt; | SRR1068788 &lt;int&gt; | SRR1068808 &lt;int&gt; | SRR1068832 &lt;int&gt; | SRR1068855 &lt;int&gt; |\n",
       "|---|---|---|---|---|\n",
       "| 1 |  0 |  0 |  0 |   0 |\n",
       "| 2 |  0 |  0 |  0 |   0 |\n",
       "| 3 |  2 |  0 |  0 |   0 |\n",
       "| 4 | 88 | 98 | 25 | 206 |\n",
       "| 5 | 70 | 11 | 34 |  37 |\n",
       "\n"
      ],
      "text/plain": [
       "  ID SRR1068788 SRR1068808 SRR1068832 SRR1068855\n",
       "1 1   0          0          0           0       \n",
       "2 2   0          0          0           0       \n",
       "3 3   2          0          0           0       \n",
       "4 4  88         98         25         206       \n",
       "5 5  70         11         34          37       "
      ]
     },
     "metadata": {},
     "output_type": "display_data"
    },
    {
     "data": {
      "text/html": [
       "<table>\n",
       "<caption>A data.table: 5 × 5</caption>\n",
       "<thead>\n",
       "\t<tr><th scope=col>ID</th><th scope=col>SRR1068788</th><th scope=col>SRR1068808</th><th scope=col>SRR1068832</th><th scope=col>SRR1068855</th></tr>\n",
       "\t<tr><th scope=col>&lt;int&gt;</th><th scope=col>&lt;int&gt;</th><th scope=col>&lt;int&gt;</th><th scope=col>&lt;int&gt;</th><th scope=col>&lt;int&gt;</th></tr>\n",
       "</thead>\n",
       "<tbody>\n",
       "\t<tr><td>1</td><td> 0</td><td>  0</td><td>  0</td><td>  0</td></tr>\n",
       "\t<tr><td>2</td><td>26</td><td>247</td><td>103</td><td>620</td></tr>\n",
       "\t<tr><td>3</td><td> 1</td><td>  0</td><td>  1</td><td>  0</td></tr>\n",
       "\t<tr><td>4</td><td> 0</td><td>  1</td><td>  1</td><td>  2</td></tr>\n",
       "\t<tr><td>5</td><td> 3</td><td>  0</td><td>  2</td><td>  3</td></tr>\n",
       "</tbody>\n",
       "</table>\n"
      ],
      "text/latex": [
       "A data.table: 5 × 5\n",
       "\\begin{tabular}{lllll}\n",
       " ID & SRR1068788 & SRR1068808 & SRR1068832 & SRR1068855\\\\\n",
       " <int> & <int> & <int> & <int> & <int>\\\\\n",
       "\\hline\n",
       "\t 1 &  0 &   0 &   0 &   0\\\\\n",
       "\t 2 & 26 & 247 & 103 & 620\\\\\n",
       "\t 3 &  1 &   0 &   1 &   0\\\\\n",
       "\t 4 &  0 &   1 &   1 &   2\\\\\n",
       "\t 5 &  3 &   0 &   2 &   3\\\\\n",
       "\\end{tabular}\n"
      ],
      "text/markdown": [
       "\n",
       "A data.table: 5 × 5\n",
       "\n",
       "| ID &lt;int&gt; | SRR1068788 &lt;int&gt; | SRR1068808 &lt;int&gt; | SRR1068832 &lt;int&gt; | SRR1068855 &lt;int&gt; |\n",
       "|---|---|---|---|---|\n",
       "| 1 |  0 |   0 |   0 |   0 |\n",
       "| 2 | 26 | 247 | 103 | 620 |\n",
       "| 3 |  1 |   0 |   1 |   0 |\n",
       "| 4 |  0 |   1 |   1 |   2 |\n",
       "| 5 |  3 |   0 |   2 |   3 |\n",
       "\n"
      ],
      "text/plain": [
       "  ID SRR1068788 SRR1068808 SRR1068832 SRR1068855\n",
       "1 1   0           0          0          0       \n",
       "2 2  26         247        103        620       \n",
       "3 3   1           0          1          0       \n",
       "4 4   0           1          1          2       \n",
       "5 5   3           0          2          3       "
      ]
     },
     "metadata": {},
     "output_type": "display_data"
    },
    {
     "data": {
      "text/html": [
       "<table>\n",
       "<caption>A data.table: 5 × 5</caption>\n",
       "<thead>\n",
       "\t<tr><th scope=col>ID</th><th scope=col>SRR1068788</th><th scope=col>SRR1068808</th><th scope=col>SRR1068832</th><th scope=col>SRR1068855</th></tr>\n",
       "\t<tr><th scope=col>&lt;int&gt;</th><th scope=col>&lt;int&gt;</th><th scope=col>&lt;int&gt;</th><th scope=col>&lt;int&gt;</th><th scope=col>&lt;int&gt;</th></tr>\n",
       "</thead>\n",
       "<tbody>\n",
       "\t<tr><td>1</td><td>2</td><td>0</td><td>1</td><td>3</td></tr>\n",
       "\t<tr><td>2</td><td>0</td><td>0</td><td>0</td><td>1</td></tr>\n",
       "\t<tr><td>3</td><td>0</td><td>0</td><td>0</td><td>1</td></tr>\n",
       "\t<tr><td>4</td><td>0</td><td>0</td><td>0</td><td>1</td></tr>\n",
       "\t<tr><td>5</td><td>0</td><td>5</td><td>3</td><td>8</td></tr>\n",
       "</tbody>\n",
       "</table>\n"
      ],
      "text/latex": [
       "A data.table: 5 × 5\n",
       "\\begin{tabular}{lllll}\n",
       " ID & SRR1068788 & SRR1068808 & SRR1068832 & SRR1068855\\\\\n",
       " <int> & <int> & <int> & <int> & <int>\\\\\n",
       "\\hline\n",
       "\t 1 & 2 & 0 & 1 & 3\\\\\n",
       "\t 2 & 0 & 0 & 0 & 1\\\\\n",
       "\t 3 & 0 & 0 & 0 & 1\\\\\n",
       "\t 4 & 0 & 0 & 0 & 1\\\\\n",
       "\t 5 & 0 & 5 & 3 & 8\\\\\n",
       "\\end{tabular}\n"
      ],
      "text/markdown": [
       "\n",
       "A data.table: 5 × 5\n",
       "\n",
       "| ID &lt;int&gt; | SRR1068788 &lt;int&gt; | SRR1068808 &lt;int&gt; | SRR1068832 &lt;int&gt; | SRR1068855 &lt;int&gt; |\n",
       "|---|---|---|---|---|\n",
       "| 1 | 2 | 0 | 1 | 3 |\n",
       "| 2 | 0 | 0 | 0 | 1 |\n",
       "| 3 | 0 | 0 | 0 | 1 |\n",
       "| 4 | 0 | 0 | 0 | 1 |\n",
       "| 5 | 0 | 5 | 3 | 8 |\n",
       "\n"
      ],
      "text/plain": [
       "  ID SRR1068788 SRR1068808 SRR1068832 SRR1068855\n",
       "1 1  2          0          1          3         \n",
       "2 2  0          0          0          1         \n",
       "3 3  0          0          0          1         \n",
       "4 4  0          0          0          1         \n",
       "5 5  0          5          3          8         "
      ]
     },
     "metadata": {},
     "output_type": "display_data"
    }
   ],
   "source": [
    "message(\"loading a3ss.jc.ijc rMATS 3.2.5 counts\\n\")\n",
    "a3ss.jc.ijc <- data.table::fread(\"../data/rmats_final.a3ss.jc.ijc.txt.gz\")\n",
    "message(\"done!\\n\")\n",
    "message(\"loading a3ss.jc.sjc rMATS 3.2.5 counts\\n\")\n",
    "a3ss.jc.sjc <- data.table::fread(\"../data/rmats_final.a3ss.jc.sjc.txt.gz\")    \n",
    "message(\"done!\\n\")\n",
    "\n",
    "message(\"loading a5ss.jc.ijc rMATS 3.2.5 counts\\n\")\n",
    "a5ss.jc.ijc <- data.table::fread(\"../data/rmats_final.a5ss.jc.ijc.txt.gz\")    \n",
    "message(\"done!\\n\")\n",
    "message(\"loading a5ss.jc.sjc rMATS 3.2.5 counts\\n\")\n",
    "a5ss.jc.sjc <- data.table::fread(\"../data/rmats_final.a5ss.jc.sjc.txt.gz\")    \n",
    "message(\"done!\\n\")\n",
    "\n",
    "message(\"loading mxe.jc.ijc rMATS 3.2.5 counts\\n\")\n",
    "mxe.jc.ijc  <- data.table::fread(\"../data/rmats_final.mxe.jc.ijc.txt.gz\")    \n",
    "message(\"done!\\n\")\n",
    "message(\"loading mxe.jc.sjc rMATS 3.2.5 counts\\n\")\n",
    "mxe.jc.sjc  <- data.table::fread(\"../data/rmats_final.mxe.jc.sjc.txt.gz\")    \n",
    "message(\"done!\\n\")\n",
    "\n",
    "message(\"loading ri.jc.ijc rMATS 3.2.5 counts\\n\")\n",
    "ri.jc.ijc   <- data.table::fread(\"../data/rmats_final.ri.jc.ijc.txt.gz\")    \n",
    "message(\"done!\\n\")\n",
    "message(\"loading ri.jc.sjc rMATS 3.2.5 counts\\n\")\n",
    "ri.jc.sjc   <- data.table::fread(\"../data/rmats_final.ri.jc.sjc.txt.gz\")    \n",
    "message(\"done!\\n\")\n",
    "\n",
    "message(\"loading se.jc.ijc rMATS 3.2.5 counts\\n\")\n",
    "se.jc.ijc   <- data.table::fread(\"../data/rmats_final.se.jc.ijc.txt.gz\")    \n",
    "message(\"done!\\n\")\n",
    "message(\"loading se.jc.sjc rMATS 3.2.5 counts\\n\")\n",
    "se.jc.sjc   <- data.table::fread(\"../data/rmats_final.se.jc.sjc.txt.gz\")\n",
    "message(\"done!\\n\")\n",
    "\n",
    "a3ss.jc.ijc[1:5,1:5]\n",
    "a3ss.jc.sjc[1:5,1:5]\n",
    "\n",
    "a5ss.jc.ijc[1:5,1:5]\n",
    "a5ss.jc.sjc[1:5,1:5]\n",
    "\n",
    "mxe.jc.ijc[1:5,1:5]\n",
    "mxe.jc.sjc[1:5,1:5]\n",
    "\n",
    "ri.jc.ijc[1:5,1:5]\n",
    "ri.jc.sjc[1:5,1:5]\n",
    "\n",
    "se.jc.ijc[1:5,1:5]\n",
    "se.jc.sjc[1:5,1:5]"
   ]
  },
  {
   "cell_type": "markdown",
   "metadata": {},
   "source": [
    "## Read in metadata \n",
    "\n",
    "- `Sequence Read Archive (SRA)` Accession Data, `SRR` numbers\n",
    "- `Genome Tissue Expression (GTEx)` Clinical Annotation"
   ]
  },
  {
   "cell_type": "code",
   "execution_count": 4,
   "metadata": {},
   "outputs": [
    {
     "name": "stderr",
     "output_type": "stream",
     "text": [
      "Loading metadata from SraRunTable.txt.gz ../data/gtex.rds ..\n",
      "\n",
      "done!\n",
      "\n",
      "Loading obj GTEx v8 rds object with readRDS from ../data/gtex.rds ..\n",
      "\n",
      "Done!\n",
      "\n",
      "Generating sha256sum for gtex.rds ..\n",
      "\n",
      "c3c81a2b5b1f17811d2ab828edf1d4c65e8e4a6632964db73555c4b5737fadf0  ../data/gtex.rds\n",
      "Done!\n",
      "\n"
     ]
    }
   ],
   "source": [
    "if (!(\"SraRunTable.txt.gz\" %in% list.files(\"../data/\"))) {\n",
    "    piggyback::pb_download(\n",
    "        show_progress = TRUE,\n",
    "        repo = \"TheJacksonLaboratory/sbas\", \n",
    "        file = \"SraRunTable.txt.gz\",\n",
    "        tag  = \"GTExV8.v1.0\", \n",
    "        dest = \"../data/\")\n",
    "    \n",
    "    message(\"Loading metadata from SraRunTable.txt.gz ../data/gtex.rds ..\\n\")   \n",
    "    metadata <- data.table::fread(\"../data/SraRunTable.txt.gz\")\n",
    "    message(\"done!\")\n",
    "} else {\n",
    "    message(\"Loading metadata from SraRunTable.txt.gz ../data/gtex.rds ..\\n\")   \n",
    "    metadata <- data.table::fread(\"../data/SraRunTable.txt.gz\")\n",
    "    message(\"done!\\n\")\n",
    "}\n",
    "\n",
    "if (!(\"gtex.rds\" %in% list.files(\"../data/\"))) {\n",
    "    message(\"Downloading and loading obj with GTEx v8 with 'yarn::downloadGTExV8()'\\n\")\n",
    "    obj <- yarn::downloadGTExV8(type='genes',file='../data/gtex.rds')\n",
    "    message(\"Done!\\n\")\n",
    "\n",
    "} else {\n",
    "# Load with readRDS() if gtex.rds available in data/\n",
    "    message(\"Loading obj GTEx v8 rds object with readRDS from ../data/gtex.rds ..\\n\")   \n",
    "    obj <- readRDS(file = \"../data/gtex.rds\")\n",
    "    message(\"Done!\\n\")\n",
    "    message(\"Generating sha256sum for gtex.rds ..\\n\")    \n",
    "    message(system(\"sha256sum ../data/gtex.rds\", intern = TRUE))\n",
    "    message(\"Done!\\n\")\n",
    "} \n",
    "if (! (file.exists(\"../data/fromGTF.tar.gz\"))) {\n",
    "    system(\"mkdir -p ../data\", intern = TRUE)\n",
    "    message(\"Fetching fromGTF.tar.gz from GitHub ..\")\n",
    "    # Download archive from GitHub release with tag \"dge\"\n",
    "    piggyback::pb_download(file = \"fromGTF.tar.gz\",\n",
    "                           dest = \"../data\",\n",
    "                           repo = \"adeslatt/sbas_gtf\",\n",
    "                           tag  = \"rMATS.3.2.5.gencode.v30\",\n",
    "                           show_progress = TRUE)\n",
    "    message(\"Done!\\n\")\n",
    "    message(\"Decompressing fromGTF.tar.gz into ../data\")\n",
    "    system(\"mkdir -p ../data && tar xvfz ../data/fromGTF.tar.gz -C ../data\", intern = TRUE)\n",
    "    message(\"Done!\\n\")\n",
    "    message(\"Decompressing fromGTF.*.txt.gz into ../data\")\n",
    "    system(\"gunzip  ../data/fromGTF*.txt.gz \", intern = TRUE)\n",
    "    message(\"Done!\\n\")\n",
    "    message(\"Reading fromGTF.SE.txt into fromGTF.SE\")    \n",
    "    fromGTF.SE <- read.table(\"../data/fromGTF.SE.txt\", header=TRUE)\n",
    "    message(\"Done!\\n\") \n",
    "}"
   ]
  },
  {
   "cell_type": "markdown",
   "metadata": {},
   "source": [
    "## Quality control, preprocessing of data \n",
    "\n",
    "We observed above that our phenotype data have 2 more observations than our expression data. Let's inspect what these samples are:"
   ]
  },
  {
   "cell_type": "code",
   "execution_count": 5,
   "metadata": {},
   "outputs": [
    {
     "data": {
      "text/html": [
       "<table>\n",
       "<caption>A data.frame: 2 × 67</caption>\n",
       "<thead>\n",
       "\t<tr><th></th><th scope=col>SAMPID</th><th scope=col>SMATSSCR</th><th scope=col>SMCENTER</th><th scope=col>SMPTHNTS</th><th scope=col>SMRIN</th><th scope=col>SMTS</th><th scope=col>SMTSD</th><th scope=col>SMUBRID</th><th scope=col>SMTSISCH</th><th scope=col>SMTSPAX</th><th scope=col>⋯</th><th scope=col>SME1PCTS</th><th scope=col>SMRRNART</th><th scope=col>SME1MPRT</th><th scope=col>SMNUM5CD</th><th scope=col>SMDPMPRT</th><th scope=col>SME2PCTS</th><th scope=col>SUBJID</th><th scope=col>SEX</th><th scope=col>AGE</th><th scope=col>DTHHRDY</th></tr>\n",
       "\t<tr><th></th><th scope=col>&lt;fct&gt;</th><th scope=col>&lt;fct&gt;</th><th scope=col>&lt;fct&gt;</th><th scope=col>&lt;fct&gt;</th><th scope=col>&lt;fct&gt;</th><th scope=col>&lt;fct&gt;</th><th scope=col>&lt;fct&gt;</th><th scope=col>&lt;fct&gt;</th><th scope=col>&lt;fct&gt;</th><th scope=col>&lt;fct&gt;</th><th scope=col>⋯</th><th scope=col>&lt;fct&gt;</th><th scope=col>&lt;fct&gt;</th><th scope=col>&lt;fct&gt;</th><th scope=col>&lt;fct&gt;</th><th scope=col>&lt;fct&gt;</th><th scope=col>&lt;fct&gt;</th><th scope=col>&lt;fct&gt;</th><th scope=col>&lt;fct&gt;</th><th scope=col>&lt;fct&gt;</th><th scope=col>&lt;fct&gt;</th></tr>\n",
       "</thead>\n",
       "<tbody>\n",
       "\t<tr><th scope=row>GTEX-YF7O-2326-101833-SM-5CVN9</th><td>NA</td><td>NA</td><td>NA</td><td>NA</td><td>NA</td><td>Skin   </td><td>NA</td><td>NA</td><td>NA</td><td>NA</td><td>⋯</td><td>NA</td><td>NA</td><td>NA</td><td>NA</td><td>NA</td><td>NA</td><td>NA</td><td>NA</td><td>NA</td><td>NA</td></tr>\n",
       "\t<tr><th scope=row>GTEX-YEC3-1426-101806-SM-5PNXX</th><td>NA</td><td>NA</td><td>NA</td><td>NA</td><td>NA</td><td>Stomach</td><td>NA</td><td>NA</td><td>NA</td><td>NA</td><td>⋯</td><td>NA</td><td>NA</td><td>NA</td><td>NA</td><td>NA</td><td>NA</td><td>NA</td><td>NA</td><td>NA</td><td>NA</td></tr>\n",
       "</tbody>\n",
       "</table>\n"
      ],
      "text/latex": [
       "A data.frame: 2 × 67\n",
       "\\begin{tabular}{r|lllllllllllllllllllll}\n",
       "  & SAMPID & SMATSSCR & SMCENTER & SMPTHNTS & SMRIN & SMTS & SMTSD & SMUBRID & SMTSISCH & SMTSPAX & ⋯ & SME1PCTS & SMRRNART & SME1MPRT & SMNUM5CD & SMDPMPRT & SME2PCTS & SUBJID & SEX & AGE & DTHHRDY\\\\\n",
       "  & <fct> & <fct> & <fct> & <fct> & <fct> & <fct> & <fct> & <fct> & <fct> & <fct> & ⋯ & <fct> & <fct> & <fct> & <fct> & <fct> & <fct> & <fct> & <fct> & <fct> & <fct>\\\\\n",
       "\\hline\n",
       "\tGTEX-YF7O-2326-101833-SM-5CVN9 & NA & NA & NA & NA & NA & Skin    & NA & NA & NA & NA & ⋯ & NA & NA & NA & NA & NA & NA & NA & NA & NA & NA\\\\\n",
       "\tGTEX-YEC3-1426-101806-SM-5PNXX & NA & NA & NA & NA & NA & Stomach & NA & NA & NA & NA & ⋯ & NA & NA & NA & NA & NA & NA & NA & NA & NA & NA\\\\\n",
       "\\end{tabular}\n"
      ],
      "text/markdown": [
       "\n",
       "A data.frame: 2 × 67\n",
       "\n",
       "| <!--/--> | SAMPID &lt;fct&gt; | SMATSSCR &lt;fct&gt; | SMCENTER &lt;fct&gt; | SMPTHNTS &lt;fct&gt; | SMRIN &lt;fct&gt; | SMTS &lt;fct&gt; | SMTSD &lt;fct&gt; | SMUBRID &lt;fct&gt; | SMTSISCH &lt;fct&gt; | SMTSPAX &lt;fct&gt; | ⋯ ⋯ | SME1PCTS &lt;fct&gt; | SMRRNART &lt;fct&gt; | SME1MPRT &lt;fct&gt; | SMNUM5CD &lt;fct&gt; | SMDPMPRT &lt;fct&gt; | SME2PCTS &lt;fct&gt; | SUBJID &lt;fct&gt; | SEX &lt;fct&gt; | AGE &lt;fct&gt; | DTHHRDY &lt;fct&gt; |\n",
       "|---|---|---|---|---|---|---|---|---|---|---|---|---|---|---|---|---|---|---|---|---|---|\n",
       "| GTEX-YF7O-2326-101833-SM-5CVN9 | NA | NA | NA | NA | NA | Skin    | NA | NA | NA | NA | ⋯ | NA | NA | NA | NA | NA | NA | NA | NA | NA | NA |\n",
       "| GTEX-YEC3-1426-101806-SM-5PNXX | NA | NA | NA | NA | NA | Stomach | NA | NA | NA | NA | ⋯ | NA | NA | NA | NA | NA | NA | NA | NA | NA | NA |\n",
       "\n"
      ],
      "text/plain": [
       "                               SAMPID SMATSSCR SMCENTER SMPTHNTS SMRIN SMTS   \n",
       "GTEX-YF7O-2326-101833-SM-5CVN9 NA     NA       NA       NA       NA    Skin   \n",
       "GTEX-YEC3-1426-101806-SM-5PNXX NA     NA       NA       NA       NA    Stomach\n",
       "                               SMTSD SMUBRID SMTSISCH SMTSPAX ⋯ SME1PCTS\n",
       "GTEX-YF7O-2326-101833-SM-5CVN9 NA    NA      NA       NA      ⋯ NA      \n",
       "GTEX-YEC3-1426-101806-SM-5PNXX NA    NA      NA       NA      ⋯ NA      \n",
       "                               SMRRNART SME1MPRT SMNUM5CD SMDPMPRT SME2PCTS\n",
       "GTEX-YF7O-2326-101833-SM-5CVN9 NA       NA       NA       NA       NA      \n",
       "GTEX-YEC3-1426-101806-SM-5PNXX NA       NA       NA       NA       NA      \n",
       "                               SUBJID SEX AGE DTHHRDY\n",
       "GTEX-YF7O-2326-101833-SM-5CVN9 NA     NA  NA  NA     \n",
       "GTEX-YEC3-1426-101806-SM-5PNXX NA     NA  NA  NA     "
      ]
     },
     "metadata": {},
     "output_type": "display_data"
    },
    {
     "data": {
      "text/html": [
       "<style>\n",
       ".list-inline {list-style: none; margin:0; padding: 0}\n",
       ".list-inline>li {display: inline-block}\n",
       ".list-inline>li:not(:last-child)::after {content: \"\\00b7\"; padding: 0 .5ex}\n",
       "</style>\n",
       "<ol class=list-inline><li>17384</li><li>67</li></ol>\n"
      ],
      "text/latex": [
       "\\begin{enumerate*}\n",
       "\\item 17384\n",
       "\\item 67\n",
       "\\end{enumerate*}\n"
      ],
      "text/markdown": [
       "1. 17384\n",
       "2. 67\n",
       "\n",
       "\n"
      ],
      "text/plain": [
       "[1] 17384    67"
      ]
     },
     "metadata": {},
     "output_type": "display_data"
    },
    {
     "data": {
      "text/html": [
       "<style>\n",
       ".list-inline {list-style: none; margin:0; padding: 0}\n",
       ".list-inline>li {display: inline-block}\n",
       ".list-inline>li:not(:last-child)::after {content: \"\\00b7\"; padding: 0 .5ex}\n",
       "</style>\n",
       "<ol class=list-inline><li>55878</li><li>17382</li></ol>\n"
      ],
      "text/latex": [
       "\\begin{enumerate*}\n",
       "\\item 55878\n",
       "\\item 17382\n",
       "\\end{enumerate*}\n"
      ],
      "text/markdown": [
       "1. 55878\n",
       "2. 17382\n",
       "\n",
       "\n"
      ],
      "text/plain": [
       "[1] 55878 17382"
      ]
     },
     "metadata": {},
     "output_type": "display_data"
    },
    {
     "data": {
      "text/html": [
       "<style>\n",
       ".dl-inline {width: auto; margin:0; padding: 0}\n",
       ".dl-inline>dt, .dl-inline>dd {float: none; width: auto; display: inline-block}\n",
       ".dl-inline>dt::after {content: \":\\0020\"; padding-right: .5ex}\n",
       ".dl-inline>dt:not(:first-of-type) {padding-left: .5ex}\n",
       "</style><dl class=dl-inline><dt>Features</dt><dd>55878</dd><dt>Samples</dt><dd>17382</dd></dl>\n"
      ],
      "text/latex": [
       "\\begin{description*}\n",
       "\\item[Features] 55878\n",
       "\\item[Samples] 17382\n",
       "\\end{description*}\n"
      ],
      "text/markdown": [
       "Features\n",
       ":   55878Samples\n",
       ":   17382\n",
       "\n"
      ],
      "text/plain": [
       "Features  Samples \n",
       "   55878    17382 "
      ]
     },
     "metadata": {},
     "output_type": "display_data"
    },
    {
     "data": {
      "text/html": [
       "17384"
      ],
      "text/latex": [
       "17384"
      ],
      "text/markdown": [
       "17384"
      ],
      "text/plain": [
       "[1] 17384"
      ]
     },
     "metadata": {},
     "output_type": "display_data"
    },
    {
     "data": {
      "text/html": [
       "17382"
      ],
      "text/latex": [
       "17382"
      ],
      "text/markdown": [
       "17382"
      ],
      "text/plain": [
       "[1] 17382"
      ]
     },
     "metadata": {},
     "output_type": "display_data"
    },
    {
     "name": "stderr",
     "output_type": "stream",
     "text": [
      "The non-overlapping IDs between pheno and count data are:\n",
      "GTEX-YF7O-2326-101833-SM-5CVN9\n",
      "GTEX-YEC3-1426-101806-SM-5PNXX\n"
     ]
    },
    {
     "data": {
      "text/html": [
       "17384"
      ],
      "text/latex": [
       "17384"
      ],
      "text/markdown": [
       "17384"
      ],
      "text/plain": [
       "[1] 17384"
      ]
     },
     "metadata": {},
     "output_type": "display_data"
    },
    {
     "data": {
      "text/plain": [
       "logical_match_names\n",
       "FALSE  TRUE \n",
       "    2 17382 "
      ]
     },
     "metadata": {},
     "output_type": "display_data"
    },
    {
     "data": {
      "text/html": [
       "<table>\n",
       "<caption>A data.frame: 2 × 67</caption>\n",
       "<thead>\n",
       "\t<tr><th></th><th scope=col>SAMPID</th><th scope=col>SMATSSCR</th><th scope=col>SMCENTER</th><th scope=col>SMPTHNTS</th><th scope=col>SMRIN</th><th scope=col>SMTS</th><th scope=col>SMTSD</th><th scope=col>SMUBRID</th><th scope=col>SMTSISCH</th><th scope=col>SMTSPAX</th><th scope=col>⋯</th><th scope=col>SME1PCTS</th><th scope=col>SMRRNART</th><th scope=col>SME1MPRT</th><th scope=col>SMNUM5CD</th><th scope=col>SMDPMPRT</th><th scope=col>SME2PCTS</th><th scope=col>SUBJID</th><th scope=col>SEX</th><th scope=col>AGE</th><th scope=col>DTHHRDY</th></tr>\n",
       "\t<tr><th></th><th scope=col>&lt;fct&gt;</th><th scope=col>&lt;fct&gt;</th><th scope=col>&lt;fct&gt;</th><th scope=col>&lt;fct&gt;</th><th scope=col>&lt;fct&gt;</th><th scope=col>&lt;fct&gt;</th><th scope=col>&lt;fct&gt;</th><th scope=col>&lt;fct&gt;</th><th scope=col>&lt;fct&gt;</th><th scope=col>&lt;fct&gt;</th><th scope=col>⋯</th><th scope=col>&lt;fct&gt;</th><th scope=col>&lt;fct&gt;</th><th scope=col>&lt;fct&gt;</th><th scope=col>&lt;fct&gt;</th><th scope=col>&lt;fct&gt;</th><th scope=col>&lt;fct&gt;</th><th scope=col>&lt;fct&gt;</th><th scope=col>&lt;fct&gt;</th><th scope=col>&lt;fct&gt;</th><th scope=col>&lt;fct&gt;</th></tr>\n",
       "</thead>\n",
       "<tbody>\n",
       "\t<tr><th scope=row>GTEX-ZZPU-2626-SM-5E45Y</th><td>GTEX-ZZPU-2626-SM-5E45Y</td><td> 1</td><td>B1</td><td>2 pieces, includes internal fat (up to 20%) and tendon</td><td> 8.50000</td><td>Muscle        </td><td>Muscle - Skeletal     </td><td>0011907</td><td>  248</td><td> 428</td><td>⋯</td><td>50.6647</td><td>0.010466900</td><td>0.9956840</td><td>NA</td><td> 0</td><td>49.6941</td><td>GTEX-ZZPU</td><td>2</td><td>50-59</td><td> 0</td></tr>\n",
       "\t<tr><th scope=row>GTEX-ZZPU-2726-SM-5NQ8O</th><td>GTEX-ZZPU-2726-SM-5NQ8O</td><td> 1</td><td>B1</td><td>2 pieces                                              </td><td> 6.80000</td><td>Adipose Tissue</td><td>Adipose - Subcutaneous</td><td>0002190</td><td>  249</td><td> 427</td><td>⋯</td><td>50.3168</td><td>0.005856410</td><td>0.9958590</td><td>NA</td><td> 0</td><td>50.0760</td><td>GTEX-ZZPU</td><td>2</td><td>50-59</td><td> 0</td></tr>\n",
       "</tbody>\n",
       "</table>\n"
      ],
      "text/latex": [
       "A data.frame: 2 × 67\n",
       "\\begin{tabular}{r|lllllllllllllllllllll}\n",
       "  & SAMPID & SMATSSCR & SMCENTER & SMPTHNTS & SMRIN & SMTS & SMTSD & SMUBRID & SMTSISCH & SMTSPAX & ⋯ & SME1PCTS & SMRRNART & SME1MPRT & SMNUM5CD & SMDPMPRT & SME2PCTS & SUBJID & SEX & AGE & DTHHRDY\\\\\n",
       "  & <fct> & <fct> & <fct> & <fct> & <fct> & <fct> & <fct> & <fct> & <fct> & <fct> & ⋯ & <fct> & <fct> & <fct> & <fct> & <fct> & <fct> & <fct> & <fct> & <fct> & <fct>\\\\\n",
       "\\hline\n",
       "\tGTEX-ZZPU-2626-SM-5E45Y & GTEX-ZZPU-2626-SM-5E45Y &  1 & B1 & 2 pieces, includes internal fat (up to 20\\%) and tendon &  8.50000 & Muscle         & Muscle - Skeletal      & 0011907 &   248 &  428 & ⋯ & 50.6647 & 0.010466900 & 0.9956840 & NA &  0 & 49.6941 & GTEX-ZZPU & 2 & 50-59 &  0\\\\\n",
       "\tGTEX-ZZPU-2726-SM-5NQ8O & GTEX-ZZPU-2726-SM-5NQ8O &  1 & B1 & 2 pieces                                               &  6.80000 & Adipose Tissue & Adipose - Subcutaneous & 0002190 &   249 &  427 & ⋯ & 50.3168 & 0.005856410 & 0.9958590 & NA &  0 & 50.0760 & GTEX-ZZPU & 2 & 50-59 &  0\\\\\n",
       "\\end{tabular}\n"
      ],
      "text/markdown": [
       "\n",
       "A data.frame: 2 × 67\n",
       "\n",
       "| <!--/--> | SAMPID &lt;fct&gt; | SMATSSCR &lt;fct&gt; | SMCENTER &lt;fct&gt; | SMPTHNTS &lt;fct&gt; | SMRIN &lt;fct&gt; | SMTS &lt;fct&gt; | SMTSD &lt;fct&gt; | SMUBRID &lt;fct&gt; | SMTSISCH &lt;fct&gt; | SMTSPAX &lt;fct&gt; | ⋯ ⋯ | SME1PCTS &lt;fct&gt; | SMRRNART &lt;fct&gt; | SME1MPRT &lt;fct&gt; | SMNUM5CD &lt;fct&gt; | SMDPMPRT &lt;fct&gt; | SME2PCTS &lt;fct&gt; | SUBJID &lt;fct&gt; | SEX &lt;fct&gt; | AGE &lt;fct&gt; | DTHHRDY &lt;fct&gt; |\n",
       "|---|---|---|---|---|---|---|---|---|---|---|---|---|---|---|---|---|---|---|---|---|---|\n",
       "| GTEX-ZZPU-2626-SM-5E45Y | GTEX-ZZPU-2626-SM-5E45Y |  1 | B1 | 2 pieces, includes internal fat (up to 20%) and tendon |  8.50000 | Muscle         | Muscle - Skeletal      | 0011907 |   248 |  428 | ⋯ | 50.6647 | 0.010466900 | 0.9956840 | NA |  0 | 49.6941 | GTEX-ZZPU | 2 | 50-59 |  0 |\n",
       "| GTEX-ZZPU-2726-SM-5NQ8O | GTEX-ZZPU-2726-SM-5NQ8O |  1 | B1 | 2 pieces                                               |  6.80000 | Adipose Tissue | Adipose - Subcutaneous | 0002190 |   249 |  427 | ⋯ | 50.3168 | 0.005856410 | 0.9958590 | NA |  0 | 50.0760 | GTEX-ZZPU | 2 | 50-59 |  0 |\n",
       "\n"
      ],
      "text/plain": [
       "                        SAMPID                  SMATSSCR SMCENTER\n",
       "GTEX-ZZPU-2626-SM-5E45Y GTEX-ZZPU-2626-SM-5E45Y  1       B1      \n",
       "GTEX-ZZPU-2726-SM-5NQ8O GTEX-ZZPU-2726-SM-5NQ8O  1       B1      \n",
       "                        SMPTHNTS                                              \n",
       "GTEX-ZZPU-2626-SM-5E45Y 2 pieces, includes internal fat (up to 20%) and tendon\n",
       "GTEX-ZZPU-2726-SM-5NQ8O 2 pieces                                              \n",
       "                        SMRIN    SMTS           SMTSD                  SMUBRID\n",
       "GTEX-ZZPU-2626-SM-5E45Y  8.50000 Muscle         Muscle - Skeletal      0011907\n",
       "GTEX-ZZPU-2726-SM-5NQ8O  6.80000 Adipose Tissue Adipose - Subcutaneous 0002190\n",
       "                        SMTSISCH SMTSPAX ⋯ SME1PCTS SMRRNART    SME1MPRT \n",
       "GTEX-ZZPU-2626-SM-5E45Y   248     428    ⋯ 50.6647  0.010466900 0.9956840\n",
       "GTEX-ZZPU-2726-SM-5NQ8O   249     427    ⋯ 50.3168  0.005856410 0.9958590\n",
       "                        SMNUM5CD SMDPMPRT SME2PCTS SUBJID    SEX AGE   DTHHRDY\n",
       "GTEX-ZZPU-2626-SM-5E45Y NA        0       49.6941  GTEX-ZZPU 2   50-59  0     \n",
       "GTEX-ZZPU-2726-SM-5NQ8O NA        0       50.0760  GTEX-ZZPU 2   50-59  0     "
      ]
     },
     "metadata": {},
     "output_type": "display_data"
    },
    {
     "data": {
      "text/html": [
       "<style>\n",
       ".list-inline {list-style: none; margin:0; padding: 0}\n",
       ".list-inline>li {display: inline-block}\n",
       ".list-inline>li:not(:last-child)::after {content: \"\\00b7\"; padding: 0 .5ex}\n",
       "</style>\n",
       "<ol class=list-inline><li>17382</li><li>67</li></ol>\n"
      ],
      "text/latex": [
       "\\begin{enumerate*}\n",
       "\\item 17382\n",
       "\\item 67\n",
       "\\end{enumerate*}\n"
      ],
      "text/markdown": [
       "1. 17382\n",
       "2. 67\n",
       "\n",
       "\n"
      ],
      "text/plain": [
       "[1] 17382    67"
      ]
     },
     "metadata": {},
     "output_type": "display_data"
    },
    {
     "data": {
      "text/html": [
       "<style>\n",
       ".list-inline {list-style: none; margin:0; padding: 0}\n",
       ".list-inline>li {display: inline-block}\n",
       ".list-inline>li:not(:last-child)::after {content: \"\\00b7\"; padding: 0 .5ex}\n",
       "</style>\n",
       "<ol class=list-inline><li>55872</li><li>17382</li></ol>\n"
      ],
      "text/latex": [
       "\\begin{enumerate*}\n",
       "\\item 55872\n",
       "\\item 17382\n",
       "\\end{enumerate*}\n"
      ],
      "text/markdown": [
       "1. 55872\n",
       "2. 17382\n",
       "\n",
       "\n"
      ],
      "text/plain": [
       "[1] 55872 17382"
      ]
     },
     "metadata": {},
     "output_type": "display_data"
    },
    {
     "data": {
      "text/html": [
       "<style>\n",
       ".dl-inline {width: auto; margin:0; padding: 0}\n",
       ".dl-inline>dt, .dl-inline>dd {float: none; width: auto; display: inline-block}\n",
       ".dl-inline>dt::after {content: \":\\0020\"; padding-right: .5ex}\n",
       ".dl-inline>dt:not(:first-of-type) {padding-left: .5ex}\n",
       "</style><dl class=dl-inline><dt>Features</dt><dd>55872</dd><dt>Samples</dt><dd>17382</dd></dl>\n"
      ],
      "text/latex": [
       "\\begin{description*}\n",
       "\\item[Features] 55872\n",
       "\\item[Samples] 17382\n",
       "\\end{description*}\n"
      ],
      "text/markdown": [
       "Features\n",
       ":   55872Samples\n",
       ":   17382\n",
       "\n"
      ],
      "text/plain": [
       "Features  Samples \n",
       "   55872    17382 "
      ]
     },
     "metadata": {},
     "output_type": "display_data"
    }
   ],
   "source": [
    "tail (pData(obj),2)\n",
    "dim(pData(obj))\n",
    "dim(exprs(obj))\n",
    "dim(obj)\n",
    "sample_names=as.vector(as.character(colnames(exprs(obj))))\n",
    "pheno_sample_names=as.vector(as.character(rownames(pData(obj))))\n",
    "length(pheno_sample_names)\n",
    "length(sample_names)\n",
    "\n",
    "if (length(pheno_sample_names) > length(sample_names)) {\n",
    "    superset <- pheno_sample_names\n",
    "    subset   <- sample_names    \n",
    "} \n",
    "\n",
    "if (length(pheno_sample_names) < length(sample_names)) {\n",
    "    superset <- sample_names\n",
    "    subset   <- pheno_sample_names   \n",
    "} \n",
    "\n",
    "non_overlaps <- setdiff( superset, subset)\n",
    "\n",
    "message(\"The non-overlapping IDs between pheno and count data are:\\n\", \n",
    "        paste(non_overlaps, collapse = \"\\n\") )\n",
    "logical_match_names=superset %in% subset\n",
    "length(logical_match_names)\n",
    "table(logical_match_names)\n",
    "obj        <- obj       [logical_match_names==TRUE,]\n",
    "pData(obj) <- pData(obj)[logical_match_names==TRUE,]\n",
    "\n",
    "tail (pData(obj),2)\n",
    "dim(pData(obj))\n",
    "dim(exprs(obj))\n",
    "dim(obj)\n"
   ]
  },
  {
   "cell_type": "markdown",
   "metadata": {},
   "source": [
    "## Read in junction Annotation Data"
   ]
  },
  {
   "cell_type": "code",
   "execution_count": 6,
   "metadata": {},
   "outputs": [
    {
     "name": "stderr",
     "output_type": "stream",
     "text": [
      "Reading fromGTF.A3SS.txt into fromGTF.A3SS\n",
      "Done!\n",
      "\n",
      "Reading fromGTF.A5SS.txt into fromGTF.A5SS\n",
      "Done!\n",
      "\n",
      "Reading fromGTF.MXE.txt into fromGTF.MXE\n",
      "Done!\n",
      "\n",
      "Reading fromGTF.RI.txt into fromGTF.RI\n",
      "Done!\n",
      "\n",
      "Reading fromGTF.SE.txt into fromGTF.SE\n",
      "Done!\n",
      "\n"
     ]
    }
   ],
   "source": [
    "message(\"Reading fromGTF.A3SS.txt into fromGTF.A3SS\")    \n",
    "fromGTF.A3SS <- read.table(\"../data/fromGTF.A3SS.txt\", header=TRUE)\n",
    "message(\"Done!\\n\")\n",
    "\n",
    "message(\"Reading fromGTF.A5SS.txt into fromGTF.A5SS\")    \n",
    "fromGTF.A5SS <- read.table(\"../data/fromGTF.A5SS.txt\", header=TRUE)\n",
    "message(\"Done!\\n\")\n",
    "\n",
    "message(\"Reading fromGTF.MXE.txt into fromGTF.MXE\")    \n",
    "fromGTF.MXE <- read.table(\"../data/fromGTF.MXE.txt\", header=TRUE)\n",
    "message(\"Done!\\n\")\n",
    "\n",
    "message(\"Reading fromGTF.RI.txt into fromGTF.RI\")    \n",
    "fromGTF.RI <- read.table(\"../data/fromGTF.RI.txt\", header=TRUE)\n",
    "message(\"Done!\\n\")\n",
    "\n",
    "message(\"Reading fromGTF.SE.txt into fromGTF.SE\")    \n",
    "fromGTF.SE <- read.table(\"../data/fromGTF.SE.txt\", header=TRUE)\n",
    "message(\"Done!\\n\")\n"
   ]
  },
  {
   "cell_type": "markdown",
   "metadata": {},
   "source": [
    "## Preparing our Data\n",
    "### Aligning Annotations with Run Data and with Count Data\n",
    "\n",
    "A description of the GTEx V8 release may be found here https://www.gtexportal.org/home/datasets.   To facilitate the analysis, the Quackenbush lab's Joe Paulson's Yarn Package, https://github.com/jnpaulson/yarn, forked and upgraded to GTEx V8 here https://github.com/TheJacksonLaboratory/yarn/tree/annes-changes.  \n",
    "\n",
    "The sequences we used for our analysis with rMATS are specified by their SRR number and were obtained from dbGaP, with our application to the controlled access human data.  Beginning with these raw unfiltered fastq files, we ran them through the NextFlow workflow rmats-nf https://github.com/lifebit-ai/rmats-nf. The accession data was downloaded with a repository key from the google cloud bucket (g3).\n",
    "\n",
    "- `obj`      : GTEx V8 expressionSet \n",
    "- `metadata` : SraRunTable.txt holds the SRR accession numbers used to extract samples from dbGaP SRA\n",
    "- `ijc`      : inclusion junction counts as reported by `rMATS 3.2.5`\n",
    "- `sjc`      : skipped junction counts as reported by `rMATS 3.2.5`  \n",
    "\n",
    "For each of the splicing events:\n",
    "\n",
    "- `a3ss`     : alternative 3` splice site\n",
    "- `a5ss`     : alternative 5` splice site\n",
    "- `mxe`      : mutually exclusive exon\n",
    "- `ri`       : retention intron\n",
    "- `se`       : skipped exon\n",
    "\n",
    "In `rMATS 3.2.5`, each junction is encoded in a unique `ID` that is immutable regardless of comparison.  \n",
    "This `ID` is different for each of the differing splicing events."
   ]
  },
  {
   "cell_type": "markdown",
   "metadata": {},
   "source": [
    "### Move Junction ID to Row definition"
   ]
  },
  {
   "cell_type": "code",
   "execution_count": 7,
   "metadata": {},
   "outputs": [
    {
     "data": {
      "text/html": [
       "<style>\n",
       ".list-inline {list-style: none; margin:0; padding: 0}\n",
       ".list-inline>li {display: inline-block}\n",
       ".list-inline>li:not(:last-child)::after {content: \"\\00b7\"; padding: 0 .5ex}\n",
       "</style>\n",
       "<ol class=list-inline><li>8920</li><li>8673</li></ol>\n"
      ],
      "text/latex": [
       "\\begin{enumerate*}\n",
       "\\item 8920\n",
       "\\item 8673\n",
       "\\end{enumerate*}\n"
      ],
      "text/markdown": [
       "1. 8920\n",
       "2. 8673\n",
       "\n",
       "\n"
      ],
      "text/plain": [
       "[1] 8920 8673"
      ]
     },
     "metadata": {},
     "output_type": "display_data"
    },
    {
     "data": {
      "text/html": [
       "<style>\n",
       ".list-inline {list-style: none; margin:0; padding: 0}\n",
       ".list-inline>li {display: inline-block}\n",
       ".list-inline>li:not(:last-child)::after {content: \"\\00b7\"; padding: 0 .5ex}\n",
       "</style>\n",
       "<ol class=list-inline><li>8920</li><li>8673</li></ol>\n"
      ],
      "text/latex": [
       "\\begin{enumerate*}\n",
       "\\item 8920\n",
       "\\item 8673\n",
       "\\end{enumerate*}\n"
      ],
      "text/markdown": [
       "1. 8920\n",
       "2. 8673\n",
       "\n",
       "\n"
      ],
      "text/plain": [
       "[1] 8920 8673"
      ]
     },
     "metadata": {},
     "output_type": "display_data"
    },
    {
     "data": {
      "text/html": [
       "<style>\n",
       ".list-inline {list-style: none; margin:0; padding: 0}\n",
       ".list-inline>li {display: inline-block}\n",
       ".list-inline>li:not(:last-child)::after {content: \"\\00b7\"; padding: 0 .5ex}\n",
       "</style>\n",
       "<ol class=list-inline><li>5584</li><li>8673</li></ol>\n"
      ],
      "text/latex": [
       "\\begin{enumerate*}\n",
       "\\item 5584\n",
       "\\item 8673\n",
       "\\end{enumerate*}\n"
      ],
      "text/markdown": [
       "1. 5584\n",
       "2. 8673\n",
       "\n",
       "\n"
      ],
      "text/plain": [
       "[1] 5584 8673"
      ]
     },
     "metadata": {},
     "output_type": "display_data"
    },
    {
     "data": {
      "text/html": [
       "<style>\n",
       ".list-inline {list-style: none; margin:0; padding: 0}\n",
       ".list-inline>li {display: inline-block}\n",
       ".list-inline>li:not(:last-child)::after {content: \"\\00b7\"; padding: 0 .5ex}\n",
       "</style>\n",
       "<ol class=list-inline><li>5584</li><li>8673</li></ol>\n"
      ],
      "text/latex": [
       "\\begin{enumerate*}\n",
       "\\item 5584\n",
       "\\item 8673\n",
       "\\end{enumerate*}\n"
      ],
      "text/markdown": [
       "1. 5584\n",
       "2. 8673\n",
       "\n",
       "\n"
      ],
      "text/plain": [
       "[1] 5584 8673"
      ]
     },
     "metadata": {},
     "output_type": "display_data"
    },
    {
     "data": {
      "text/html": [
       "<style>\n",
       ".list-inline {list-style: none; margin:0; padding: 0}\n",
       ".list-inline>li {display: inline-block}\n",
       ".list-inline>li:not(:last-child)::after {content: \"\\00b7\"; padding: 0 .5ex}\n",
       "</style>\n",
       "<ol class=list-inline><li>2979</li><li>8673</li></ol>\n"
      ],
      "text/latex": [
       "\\begin{enumerate*}\n",
       "\\item 2979\n",
       "\\item 8673\n",
       "\\end{enumerate*}\n"
      ],
      "text/markdown": [
       "1. 2979\n",
       "2. 8673\n",
       "\n",
       "\n"
      ],
      "text/plain": [
       "[1] 2979 8673"
      ]
     },
     "metadata": {},
     "output_type": "display_data"
    },
    {
     "data": {
      "text/html": [
       "<style>\n",
       ".list-inline {list-style: none; margin:0; padding: 0}\n",
       ".list-inline>li {display: inline-block}\n",
       ".list-inline>li:not(:last-child)::after {content: \"\\00b7\"; padding: 0 .5ex}\n",
       "</style>\n",
       "<ol class=list-inline><li>2979</li><li>8673</li></ol>\n"
      ],
      "text/latex": [
       "\\begin{enumerate*}\n",
       "\\item 2979\n",
       "\\item 8673\n",
       "\\end{enumerate*}\n"
      ],
      "text/markdown": [
       "1. 2979\n",
       "2. 8673\n",
       "\n",
       "\n"
      ],
      "text/plain": [
       "[1] 2979 8673"
      ]
     },
     "metadata": {},
     "output_type": "display_data"
    },
    {
     "data": {
      "text/html": [
       "<style>\n",
       ".list-inline {list-style: none; margin:0; padding: 0}\n",
       ".list-inline>li {display: inline-block}\n",
       ".list-inline>li:not(:last-child)::after {content: \"\\00b7\"; padding: 0 .5ex}\n",
       "</style>\n",
       "<ol class=list-inline><li>6312</li><li>8673</li></ol>\n"
      ],
      "text/latex": [
       "\\begin{enumerate*}\n",
       "\\item 6312\n",
       "\\item 8673\n",
       "\\end{enumerate*}\n"
      ],
      "text/markdown": [
       "1. 6312\n",
       "2. 8673\n",
       "\n",
       "\n"
      ],
      "text/plain": [
       "[1] 6312 8673"
      ]
     },
     "metadata": {},
     "output_type": "display_data"
    },
    {
     "data": {
      "text/html": [
       "<style>\n",
       ".list-inline {list-style: none; margin:0; padding: 0}\n",
       ".list-inline>li {display: inline-block}\n",
       ".list-inline>li:not(:last-child)::after {content: \"\\00b7\"; padding: 0 .5ex}\n",
       "</style>\n",
       "<ol class=list-inline><li>6312</li><li>8673</li></ol>\n"
      ],
      "text/latex": [
       "\\begin{enumerate*}\n",
       "\\item 6312\n",
       "\\item 8673\n",
       "\\end{enumerate*}\n"
      ],
      "text/markdown": [
       "1. 6312\n",
       "2. 8673\n",
       "\n",
       "\n"
      ],
      "text/plain": [
       "[1] 6312 8673"
      ]
     },
     "metadata": {},
     "output_type": "display_data"
    },
    {
     "data": {
      "text/html": [
       "<style>\n",
       ".list-inline {list-style: none; margin:0; padding: 0}\n",
       ".list-inline>li {display: inline-block}\n",
       ".list-inline>li:not(:last-child)::after {content: \"\\00b7\"; padding: 0 .5ex}\n",
       "</style>\n",
       "<ol class=list-inline><li>42611</li><li>8673</li></ol>\n"
      ],
      "text/latex": [
       "\\begin{enumerate*}\n",
       "\\item 42611\n",
       "\\item 8673\n",
       "\\end{enumerate*}\n"
      ],
      "text/markdown": [
       "1. 42611\n",
       "2. 8673\n",
       "\n",
       "\n"
      ],
      "text/plain": [
       "[1] 42611  8673"
      ]
     },
     "metadata": {},
     "output_type": "display_data"
    },
    {
     "data": {
      "text/html": [
       "<style>\n",
       ".list-inline {list-style: none; margin:0; padding: 0}\n",
       ".list-inline>li {display: inline-block}\n",
       ".list-inline>li:not(:last-child)::after {content: \"\\00b7\"; padding: 0 .5ex}\n",
       "</style>\n",
       "<ol class=list-inline><li>42611</li><li>8673</li></ol>\n"
      ],
      "text/latex": [
       "\\begin{enumerate*}\n",
       "\\item 42611\n",
       "\\item 8673\n",
       "\\end{enumerate*}\n"
      ],
      "text/markdown": [
       "1. 42611\n",
       "2. 8673\n",
       "\n",
       "\n"
      ],
      "text/plain": [
       "[1] 42611  8673"
      ]
     },
     "metadata": {},
     "output_type": "display_data"
    },
    {
     "data": {
      "text/html": [
       "<table>\n",
       "<caption>A data.table: 5 × 5</caption>\n",
       "<thead>\n",
       "\t<tr><th scope=col>SRR1068788</th><th scope=col>SRR1068808</th><th scope=col>SRR1068832</th><th scope=col>SRR1068855</th><th scope=col>SRR1068880</th></tr>\n",
       "\t<tr><th scope=col>&lt;int&gt;</th><th scope=col>&lt;int&gt;</th><th scope=col>&lt;int&gt;</th><th scope=col>&lt;int&gt;</th><th scope=col>&lt;int&gt;</th></tr>\n",
       "</thead>\n",
       "<tbody>\n",
       "\t<tr><td>0</td><td>0</td><td> 2</td><td>0</td><td>2</td></tr>\n",
       "\t<tr><td>0</td><td>0</td><td>10</td><td>0</td><td>0</td></tr>\n",
       "\t<tr><td>0</td><td>0</td><td> 0</td><td>0</td><td>1</td></tr>\n",
       "\t<tr><td>2</td><td>0</td><td> 0</td><td>0</td><td>2</td></tr>\n",
       "\t<tr><td>1</td><td>0</td><td> 0</td><td>0</td><td>1</td></tr>\n",
       "</tbody>\n",
       "</table>\n"
      ],
      "text/latex": [
       "A data.table: 5 × 5\n",
       "\\begin{tabular}{lllll}\n",
       " SRR1068788 & SRR1068808 & SRR1068832 & SRR1068855 & SRR1068880\\\\\n",
       " <int> & <int> & <int> & <int> & <int>\\\\\n",
       "\\hline\n",
       "\t 0 & 0 &  2 & 0 & 2\\\\\n",
       "\t 0 & 0 & 10 & 0 & 0\\\\\n",
       "\t 0 & 0 &  0 & 0 & 1\\\\\n",
       "\t 2 & 0 &  0 & 0 & 2\\\\\n",
       "\t 1 & 0 &  0 & 0 & 1\\\\\n",
       "\\end{tabular}\n"
      ],
      "text/markdown": [
       "\n",
       "A data.table: 5 × 5\n",
       "\n",
       "| SRR1068788 &lt;int&gt; | SRR1068808 &lt;int&gt; | SRR1068832 &lt;int&gt; | SRR1068855 &lt;int&gt; | SRR1068880 &lt;int&gt; |\n",
       "|---|---|---|---|---|\n",
       "| 0 | 0 |  2 | 0 | 2 |\n",
       "| 0 | 0 | 10 | 0 | 0 |\n",
       "| 0 | 0 |  0 | 0 | 1 |\n",
       "| 2 | 0 |  0 | 0 | 2 |\n",
       "| 1 | 0 |  0 | 0 | 1 |\n",
       "\n"
      ],
      "text/plain": [
       "  SRR1068788 SRR1068808 SRR1068832 SRR1068855 SRR1068880\n",
       "1 0          0           2         0          2         \n",
       "2 0          0          10         0          0         \n",
       "3 0          0           0         0          1         \n",
       "4 2          0           0         0          2         \n",
       "5 1          0           0         0          1         "
      ]
     },
     "metadata": {},
     "output_type": "display_data"
    },
    {
     "data": {
      "text/html": [
       "<table>\n",
       "<caption>A data.table: 5 × 5</caption>\n",
       "<thead>\n",
       "\t<tr><th scope=col>SRR1068788</th><th scope=col>SRR1068808</th><th scope=col>SRR1068832</th><th scope=col>SRR1068855</th><th scope=col>SRR1068880</th></tr>\n",
       "\t<tr><th scope=col>&lt;int&gt;</th><th scope=col>&lt;int&gt;</th><th scope=col>&lt;int&gt;</th><th scope=col>&lt;int&gt;</th><th scope=col>&lt;int&gt;</th></tr>\n",
       "</thead>\n",
       "<tbody>\n",
       "\t<tr><td>9</td><td>151</td><td>51</td><td>263</td><td>292</td></tr>\n",
       "\t<tr><td>0</td><td>  0</td><td> 0</td><td>  0</td><td>  0</td></tr>\n",
       "\t<tr><td>2</td><td>  0</td><td> 0</td><td>  0</td><td>  0</td></tr>\n",
       "\t<tr><td>0</td><td>  0</td><td> 0</td><td>  0</td><td>  0</td></tr>\n",
       "\t<tr><td>0</td><td>  0</td><td> 0</td><td>  0</td><td>  0</td></tr>\n",
       "</tbody>\n",
       "</table>\n"
      ],
      "text/latex": [
       "A data.table: 5 × 5\n",
       "\\begin{tabular}{lllll}\n",
       " SRR1068788 & SRR1068808 & SRR1068832 & SRR1068855 & SRR1068880\\\\\n",
       " <int> & <int> & <int> & <int> & <int>\\\\\n",
       "\\hline\n",
       "\t 9 & 151 & 51 & 263 & 292\\\\\n",
       "\t 0 &   0 &  0 &   0 &   0\\\\\n",
       "\t 2 &   0 &  0 &   0 &   0\\\\\n",
       "\t 0 &   0 &  0 &   0 &   0\\\\\n",
       "\t 0 &   0 &  0 &   0 &   0\\\\\n",
       "\\end{tabular}\n"
      ],
      "text/markdown": [
       "\n",
       "A data.table: 5 × 5\n",
       "\n",
       "| SRR1068788 &lt;int&gt; | SRR1068808 &lt;int&gt; | SRR1068832 &lt;int&gt; | SRR1068855 &lt;int&gt; | SRR1068880 &lt;int&gt; |\n",
       "|---|---|---|---|---|\n",
       "| 9 | 151 | 51 | 263 | 292 |\n",
       "| 0 |   0 |  0 |   0 |   0 |\n",
       "| 2 |   0 |  0 |   0 |   0 |\n",
       "| 0 |   0 |  0 |   0 |   0 |\n",
       "| 0 |   0 |  0 |   0 |   0 |\n",
       "\n"
      ],
      "text/plain": [
       "  SRR1068788 SRR1068808 SRR1068832 SRR1068855 SRR1068880\n",
       "1 9          151        51         263        292       \n",
       "2 0            0         0           0          0       \n",
       "3 2            0         0           0          0       \n",
       "4 0            0         0           0          0       \n",
       "5 0            0         0           0          0       "
      ]
     },
     "metadata": {},
     "output_type": "display_data"
    },
    {
     "data": {
      "text/html": [
       "<table>\n",
       "<caption>A data.table: 5 × 5</caption>\n",
       "<thead>\n",
       "\t<tr><th scope=col>SRR1068788</th><th scope=col>SRR1068808</th><th scope=col>SRR1068832</th><th scope=col>SRR1068855</th><th scope=col>SRR1068880</th></tr>\n",
       "\t<tr><th scope=col>&lt;int&gt;</th><th scope=col>&lt;int&gt;</th><th scope=col>&lt;int&gt;</th><th scope=col>&lt;int&gt;</th><th scope=col>&lt;int&gt;</th></tr>\n",
       "</thead>\n",
       "<tbody>\n",
       "\t<tr><td> 0</td><td> 0</td><td> 0</td><td> 2</td><td>  1</td></tr>\n",
       "\t<tr><td> 0</td><td> 0</td><td> 0</td><td> 1</td><td>  0</td></tr>\n",
       "\t<tr><td> 1</td><td> 0</td><td> 0</td><td> 1</td><td>  0</td></tr>\n",
       "\t<tr><td>14</td><td>14</td><td> 3</td><td> 9</td><td>  4</td></tr>\n",
       "\t<tr><td>22</td><td>67</td><td>10</td><td>20</td><td>167</td></tr>\n",
       "</tbody>\n",
       "</table>\n"
      ],
      "text/latex": [
       "A data.table: 5 × 5\n",
       "\\begin{tabular}{lllll}\n",
       " SRR1068788 & SRR1068808 & SRR1068832 & SRR1068855 & SRR1068880\\\\\n",
       " <int> & <int> & <int> & <int> & <int>\\\\\n",
       "\\hline\n",
       "\t  0 &  0 &  0 &  2 &   1\\\\\n",
       "\t  0 &  0 &  0 &  1 &   0\\\\\n",
       "\t  1 &  0 &  0 &  1 &   0\\\\\n",
       "\t 14 & 14 &  3 &  9 &   4\\\\\n",
       "\t 22 & 67 & 10 & 20 & 167\\\\\n",
       "\\end{tabular}\n"
      ],
      "text/markdown": [
       "\n",
       "A data.table: 5 × 5\n",
       "\n",
       "| SRR1068788 &lt;int&gt; | SRR1068808 &lt;int&gt; | SRR1068832 &lt;int&gt; | SRR1068855 &lt;int&gt; | SRR1068880 &lt;int&gt; |\n",
       "|---|---|---|---|---|\n",
       "|  0 |  0 |  0 |  2 |   1 |\n",
       "|  0 |  0 |  0 |  1 |   0 |\n",
       "|  1 |  0 |  0 |  1 |   0 |\n",
       "| 14 | 14 |  3 |  9 |   4 |\n",
       "| 22 | 67 | 10 | 20 | 167 |\n",
       "\n"
      ],
      "text/plain": [
       "  SRR1068788 SRR1068808 SRR1068832 SRR1068855 SRR1068880\n",
       "1  0          0          0          2           1       \n",
       "2  0          0          0          1           0       \n",
       "3  1          0          0          1           0       \n",
       "4 14         14          3          9           4       \n",
       "5 22         67         10         20         167       "
      ]
     },
     "metadata": {},
     "output_type": "display_data"
    },
    {
     "data": {
      "text/html": [
       "<table>\n",
       "<caption>A data.table: 5 × 5</caption>\n",
       "<thead>\n",
       "\t<tr><th scope=col>SRR1068788</th><th scope=col>SRR1068808</th><th scope=col>SRR1068832</th><th scope=col>SRR1068855</th><th scope=col>SRR1068880</th></tr>\n",
       "\t<tr><th scope=col>&lt;int&gt;</th><th scope=col>&lt;int&gt;</th><th scope=col>&lt;int&gt;</th><th scope=col>&lt;int&gt;</th><th scope=col>&lt;int&gt;</th></tr>\n",
       "</thead>\n",
       "<tbody>\n",
       "\t<tr><td>56</td><td>79</td><td>30</td><td>778</td><td>293</td></tr>\n",
       "\t<tr><td> 0</td><td> 0</td><td> 0</td><td>  0</td><td>  0</td></tr>\n",
       "\t<tr><td> 0</td><td> 0</td><td> 0</td><td>  0</td><td>  0</td></tr>\n",
       "\t<tr><td>25</td><td>13</td><td>12</td><td> 74</td><td> 10</td></tr>\n",
       "\t<tr><td> 0</td><td> 0</td><td> 0</td><td>  0</td><td>  0</td></tr>\n",
       "</tbody>\n",
       "</table>\n"
      ],
      "text/latex": [
       "A data.table: 5 × 5\n",
       "\\begin{tabular}{lllll}\n",
       " SRR1068788 & SRR1068808 & SRR1068832 & SRR1068855 & SRR1068880\\\\\n",
       " <int> & <int> & <int> & <int> & <int>\\\\\n",
       "\\hline\n",
       "\t 56 & 79 & 30 & 778 & 293\\\\\n",
       "\t  0 &  0 &  0 &   0 &   0\\\\\n",
       "\t  0 &  0 &  0 &   0 &   0\\\\\n",
       "\t 25 & 13 & 12 &  74 &  10\\\\\n",
       "\t  0 &  0 &  0 &   0 &   0\\\\\n",
       "\\end{tabular}\n"
      ],
      "text/markdown": [
       "\n",
       "A data.table: 5 × 5\n",
       "\n",
       "| SRR1068788 &lt;int&gt; | SRR1068808 &lt;int&gt; | SRR1068832 &lt;int&gt; | SRR1068855 &lt;int&gt; | SRR1068880 &lt;int&gt; |\n",
       "|---|---|---|---|---|\n",
       "| 56 | 79 | 30 | 778 | 293 |\n",
       "|  0 |  0 |  0 |   0 |   0 |\n",
       "|  0 |  0 |  0 |   0 |   0 |\n",
       "| 25 | 13 | 12 |  74 |  10 |\n",
       "|  0 |  0 |  0 |   0 |   0 |\n",
       "\n"
      ],
      "text/plain": [
       "  SRR1068788 SRR1068808 SRR1068832 SRR1068855 SRR1068880\n",
       "1 56         79         30         778        293       \n",
       "2  0          0          0           0          0       \n",
       "3  0          0          0           0          0       \n",
       "4 25         13         12          74         10       \n",
       "5  0          0          0           0          0       "
      ]
     },
     "metadata": {},
     "output_type": "display_data"
    },
    {
     "data": {
      "text/html": [
       "<table>\n",
       "<caption>A data.table: 5 × 5</caption>\n",
       "<thead>\n",
       "\t<tr><th scope=col>SRR1068788</th><th scope=col>SRR1068808</th><th scope=col>SRR1068832</th><th scope=col>SRR1068855</th><th scope=col>SRR1068880</th></tr>\n",
       "\t<tr><th scope=col>&lt;int&gt;</th><th scope=col>&lt;int&gt;</th><th scope=col>&lt;int&gt;</th><th scope=col>&lt;int&gt;</th><th scope=col>&lt;int&gt;</th></tr>\n",
       "</thead>\n",
       "<tbody>\n",
       "\t<tr><td> 6</td><td>5</td><td>3</td><td> 9</td><td>4</td></tr>\n",
       "\t<tr><td>13</td><td>0</td><td>0</td><td> 0</td><td>0</td></tr>\n",
       "\t<tr><td>10</td><td>0</td><td>0</td><td> 0</td><td>0</td></tr>\n",
       "\t<tr><td> 1</td><td>1</td><td>0</td><td> 1</td><td>0</td></tr>\n",
       "\t<tr><td> 8</td><td>0</td><td>0</td><td>17</td><td>0</td></tr>\n",
       "</tbody>\n",
       "</table>\n"
      ],
      "text/latex": [
       "A data.table: 5 × 5\n",
       "\\begin{tabular}{lllll}\n",
       " SRR1068788 & SRR1068808 & SRR1068832 & SRR1068855 & SRR1068880\\\\\n",
       " <int> & <int> & <int> & <int> & <int>\\\\\n",
       "\\hline\n",
       "\t  6 & 5 & 3 &  9 & 4\\\\\n",
       "\t 13 & 0 & 0 &  0 & 0\\\\\n",
       "\t 10 & 0 & 0 &  0 & 0\\\\\n",
       "\t  1 & 1 & 0 &  1 & 0\\\\\n",
       "\t  8 & 0 & 0 & 17 & 0\\\\\n",
       "\\end{tabular}\n"
      ],
      "text/markdown": [
       "\n",
       "A data.table: 5 × 5\n",
       "\n",
       "| SRR1068788 &lt;int&gt; | SRR1068808 &lt;int&gt; | SRR1068832 &lt;int&gt; | SRR1068855 &lt;int&gt; | SRR1068880 &lt;int&gt; |\n",
       "|---|---|---|---|---|\n",
       "|  6 | 5 | 3 |  9 | 4 |\n",
       "| 13 | 0 | 0 |  0 | 0 |\n",
       "| 10 | 0 | 0 |  0 | 0 |\n",
       "|  1 | 1 | 0 |  1 | 0 |\n",
       "|  8 | 0 | 0 | 17 | 0 |\n",
       "\n"
      ],
      "text/plain": [
       "  SRR1068788 SRR1068808 SRR1068832 SRR1068855 SRR1068880\n",
       "1  6         5          3           9         4         \n",
       "2 13         0          0           0         0         \n",
       "3 10         0          0           0         0         \n",
       "4  1         1          0           1         0         \n",
       "5  8         0          0          17         0         "
      ]
     },
     "metadata": {},
     "output_type": "display_data"
    },
    {
     "data": {
      "text/html": [
       "<table>\n",
       "<caption>A data.table: 5 × 5</caption>\n",
       "<thead>\n",
       "\t<tr><th scope=col>SRR1068788</th><th scope=col>SRR1068808</th><th scope=col>SRR1068832</th><th scope=col>SRR1068855</th><th scope=col>SRR1068880</th></tr>\n",
       "\t<tr><th scope=col>&lt;int&gt;</th><th scope=col>&lt;int&gt;</th><th scope=col>&lt;int&gt;</th><th scope=col>&lt;int&gt;</th><th scope=col>&lt;int&gt;</th></tr>\n",
       "</thead>\n",
       "<tbody>\n",
       "\t<tr><td>22</td><td>36</td><td>7</td><td>40</td><td>10</td></tr>\n",
       "\t<tr><td>10</td><td> 0</td><td>4</td><td> 0</td><td> 1</td></tr>\n",
       "\t<tr><td> 1</td><td> 0</td><td>0</td><td> 0</td><td> 0</td></tr>\n",
       "\t<tr><td> 4</td><td> 0</td><td>2</td><td> 0</td><td> 1</td></tr>\n",
       "\t<tr><td>51</td><td> 4</td><td>8</td><td>24</td><td> 2</td></tr>\n",
       "</tbody>\n",
       "</table>\n"
      ],
      "text/latex": [
       "A data.table: 5 × 5\n",
       "\\begin{tabular}{lllll}\n",
       " SRR1068788 & SRR1068808 & SRR1068832 & SRR1068855 & SRR1068880\\\\\n",
       " <int> & <int> & <int> & <int> & <int>\\\\\n",
       "\\hline\n",
       "\t 22 & 36 & 7 & 40 & 10\\\\\n",
       "\t 10 &  0 & 4 &  0 &  1\\\\\n",
       "\t  1 &  0 & 0 &  0 &  0\\\\\n",
       "\t  4 &  0 & 2 &  0 &  1\\\\\n",
       "\t 51 &  4 & 8 & 24 &  2\\\\\n",
       "\\end{tabular}\n"
      ],
      "text/markdown": [
       "\n",
       "A data.table: 5 × 5\n",
       "\n",
       "| SRR1068788 &lt;int&gt; | SRR1068808 &lt;int&gt; | SRR1068832 &lt;int&gt; | SRR1068855 &lt;int&gt; | SRR1068880 &lt;int&gt; |\n",
       "|---|---|---|---|---|\n",
       "| 22 | 36 | 7 | 40 | 10 |\n",
       "| 10 |  0 | 4 |  0 |  1 |\n",
       "|  1 |  0 | 0 |  0 |  0 |\n",
       "|  4 |  0 | 2 |  0 |  1 |\n",
       "| 51 |  4 | 8 | 24 |  2 |\n",
       "\n"
      ],
      "text/plain": [
       "  SRR1068788 SRR1068808 SRR1068832 SRR1068855 SRR1068880\n",
       "1 22         36         7          40         10        \n",
       "2 10          0         4           0          1        \n",
       "3  1          0         0           0          0        \n",
       "4  4          0         2           0          1        \n",
       "5 51          4         8          24          2        "
      ]
     },
     "metadata": {},
     "output_type": "display_data"
    },
    {
     "data": {
      "text/html": [
       "<table>\n",
       "<caption>A data.table: 5 × 5</caption>\n",
       "<thead>\n",
       "\t<tr><th scope=col>SRR1068788</th><th scope=col>SRR1068808</th><th scope=col>SRR1068832</th><th scope=col>SRR1068855</th><th scope=col>SRR1068880</th></tr>\n",
       "\t<tr><th scope=col>&lt;int&gt;</th><th scope=col>&lt;int&gt;</th><th scope=col>&lt;int&gt;</th><th scope=col>&lt;int&gt;</th><th scope=col>&lt;int&gt;</th></tr>\n",
       "</thead>\n",
       "<tbody>\n",
       "\t<tr><td>  0</td><td> 0</td><td>  5</td><td> 0</td><td> 0</td></tr>\n",
       "\t<tr><td>  3</td><td> 0</td><td>  1</td><td> 6</td><td> 1</td></tr>\n",
       "\t<tr><td>  2</td><td> 0</td><td>  0</td><td> 6</td><td> 2</td></tr>\n",
       "\t<tr><td>  9</td><td> 0</td><td>  4</td><td>15</td><td> 7</td></tr>\n",
       "\t<tr><td>112</td><td>64</td><td>113</td><td>59</td><td>43</td></tr>\n",
       "</tbody>\n",
       "</table>\n"
      ],
      "text/latex": [
       "A data.table: 5 × 5\n",
       "\\begin{tabular}{lllll}\n",
       " SRR1068788 & SRR1068808 & SRR1068832 & SRR1068855 & SRR1068880\\\\\n",
       " <int> & <int> & <int> & <int> & <int>\\\\\n",
       "\\hline\n",
       "\t   0 &  0 &   5 &  0 &  0\\\\\n",
       "\t   3 &  0 &   1 &  6 &  1\\\\\n",
       "\t   2 &  0 &   0 &  6 &  2\\\\\n",
       "\t   9 &  0 &   4 & 15 &  7\\\\\n",
       "\t 112 & 64 & 113 & 59 & 43\\\\\n",
       "\\end{tabular}\n"
      ],
      "text/markdown": [
       "\n",
       "A data.table: 5 × 5\n",
       "\n",
       "| SRR1068788 &lt;int&gt; | SRR1068808 &lt;int&gt; | SRR1068832 &lt;int&gt; | SRR1068855 &lt;int&gt; | SRR1068880 &lt;int&gt; |\n",
       "|---|---|---|---|---|\n",
       "|   0 |  0 |   5 |  0 |  0 |\n",
       "|   3 |  0 |   1 |  6 |  1 |\n",
       "|   2 |  0 |   0 |  6 |  2 |\n",
       "|   9 |  0 |   4 | 15 |  7 |\n",
       "| 112 | 64 | 113 | 59 | 43 |\n",
       "\n"
      ],
      "text/plain": [
       "  SRR1068788 SRR1068808 SRR1068832 SRR1068855 SRR1068880\n",
       "1   0         0           5         0          0        \n",
       "2   3         0           1         6          1        \n",
       "3   2         0           0         6          2        \n",
       "4   9         0           4        15          7        \n",
       "5 112        64         113        59         43        "
      ]
     },
     "metadata": {},
     "output_type": "display_data"
    },
    {
     "data": {
      "text/html": [
       "<table>\n",
       "<caption>A data.table: 5 × 5</caption>\n",
       "<thead>\n",
       "\t<tr><th scope=col>SRR1068788</th><th scope=col>SRR1068808</th><th scope=col>SRR1068832</th><th scope=col>SRR1068855</th><th scope=col>SRR1068880</th></tr>\n",
       "\t<tr><th scope=col>&lt;int&gt;</th><th scope=col>&lt;int&gt;</th><th scope=col>&lt;int&gt;</th><th scope=col>&lt;int&gt;</th><th scope=col>&lt;int&gt;</th></tr>\n",
       "</thead>\n",
       "<tbody>\n",
       "\t<tr><td> 0</td><td> 0</td><td> 0</td><td>  0</td><td>  0</td></tr>\n",
       "\t<tr><td> 0</td><td> 0</td><td> 0</td><td>  0</td><td>  0</td></tr>\n",
       "\t<tr><td> 2</td><td> 0</td><td> 0</td><td>  0</td><td>  0</td></tr>\n",
       "\t<tr><td>88</td><td>98</td><td>25</td><td>206</td><td>150</td></tr>\n",
       "\t<tr><td>70</td><td>11</td><td>34</td><td> 37</td><td> 56</td></tr>\n",
       "</tbody>\n",
       "</table>\n"
      ],
      "text/latex": [
       "A data.table: 5 × 5\n",
       "\\begin{tabular}{lllll}\n",
       " SRR1068788 & SRR1068808 & SRR1068832 & SRR1068855 & SRR1068880\\\\\n",
       " <int> & <int> & <int> & <int> & <int>\\\\\n",
       "\\hline\n",
       "\t  0 &  0 &  0 &   0 &   0\\\\\n",
       "\t  0 &  0 &  0 &   0 &   0\\\\\n",
       "\t  2 &  0 &  0 &   0 &   0\\\\\n",
       "\t 88 & 98 & 25 & 206 & 150\\\\\n",
       "\t 70 & 11 & 34 &  37 &  56\\\\\n",
       "\\end{tabular}\n"
      ],
      "text/markdown": [
       "\n",
       "A data.table: 5 × 5\n",
       "\n",
       "| SRR1068788 &lt;int&gt; | SRR1068808 &lt;int&gt; | SRR1068832 &lt;int&gt; | SRR1068855 &lt;int&gt; | SRR1068880 &lt;int&gt; |\n",
       "|---|---|---|---|---|\n",
       "|  0 |  0 |  0 |   0 |   0 |\n",
       "|  0 |  0 |  0 |   0 |   0 |\n",
       "|  2 |  0 |  0 |   0 |   0 |\n",
       "| 88 | 98 | 25 | 206 | 150 |\n",
       "| 70 | 11 | 34 |  37 |  56 |\n",
       "\n"
      ],
      "text/plain": [
       "  SRR1068788 SRR1068808 SRR1068832 SRR1068855 SRR1068880\n",
       "1  0          0          0           0          0       \n",
       "2  0          0          0           0          0       \n",
       "3  2          0          0           0          0       \n",
       "4 88         98         25         206        150       \n",
       "5 70         11         34          37         56       "
      ]
     },
     "metadata": {},
     "output_type": "display_data"
    },
    {
     "data": {
      "text/html": [
       "<table>\n",
       "<caption>A data.table: 5 × 5</caption>\n",
       "<thead>\n",
       "\t<tr><th scope=col>SRR1068788</th><th scope=col>SRR1068808</th><th scope=col>SRR1068832</th><th scope=col>SRR1068855</th><th scope=col>SRR1068880</th></tr>\n",
       "\t<tr><th scope=col>&lt;int&gt;</th><th scope=col>&lt;int&gt;</th><th scope=col>&lt;int&gt;</th><th scope=col>&lt;int&gt;</th><th scope=col>&lt;int&gt;</th></tr>\n",
       "</thead>\n",
       "<tbody>\n",
       "\t<tr><td> 0</td><td>  0</td><td>  0</td><td>  0</td><td>  1</td></tr>\n",
       "\t<tr><td>26</td><td>247</td><td>103</td><td>620</td><td>494</td></tr>\n",
       "\t<tr><td> 1</td><td>  0</td><td>  1</td><td>  0</td><td>  0</td></tr>\n",
       "\t<tr><td> 0</td><td>  1</td><td>  1</td><td>  2</td><td>  0</td></tr>\n",
       "\t<tr><td> 3</td><td>  0</td><td>  2</td><td>  3</td><td>  6</td></tr>\n",
       "</tbody>\n",
       "</table>\n"
      ],
      "text/latex": [
       "A data.table: 5 × 5\n",
       "\\begin{tabular}{lllll}\n",
       " SRR1068788 & SRR1068808 & SRR1068832 & SRR1068855 & SRR1068880\\\\\n",
       " <int> & <int> & <int> & <int> & <int>\\\\\n",
       "\\hline\n",
       "\t  0 &   0 &   0 &   0 &   1\\\\\n",
       "\t 26 & 247 & 103 & 620 & 494\\\\\n",
       "\t  1 &   0 &   1 &   0 &   0\\\\\n",
       "\t  0 &   1 &   1 &   2 &   0\\\\\n",
       "\t  3 &   0 &   2 &   3 &   6\\\\\n",
       "\\end{tabular}\n"
      ],
      "text/markdown": [
       "\n",
       "A data.table: 5 × 5\n",
       "\n",
       "| SRR1068788 &lt;int&gt; | SRR1068808 &lt;int&gt; | SRR1068832 &lt;int&gt; | SRR1068855 &lt;int&gt; | SRR1068880 &lt;int&gt; |\n",
       "|---|---|---|---|---|\n",
       "|  0 |   0 |   0 |   0 |   1 |\n",
       "| 26 | 247 | 103 | 620 | 494 |\n",
       "|  1 |   0 |   1 |   0 |   0 |\n",
       "|  0 |   1 |   1 |   2 |   0 |\n",
       "|  3 |   0 |   2 |   3 |   6 |\n",
       "\n"
      ],
      "text/plain": [
       "  SRR1068788 SRR1068808 SRR1068832 SRR1068855 SRR1068880\n",
       "1  0           0          0          0          1       \n",
       "2 26         247        103        620        494       \n",
       "3  1           0          1          0          0       \n",
       "4  0           1          1          2          0       \n",
       "5  3           0          2          3          6       "
      ]
     },
     "metadata": {},
     "output_type": "display_data"
    },
    {
     "data": {
      "text/html": [
       "<table>\n",
       "<caption>A data.table: 5 × 5</caption>\n",
       "<thead>\n",
       "\t<tr><th scope=col>SRR1068788</th><th scope=col>SRR1068808</th><th scope=col>SRR1068832</th><th scope=col>SRR1068855</th><th scope=col>SRR1068880</th></tr>\n",
       "\t<tr><th scope=col>&lt;int&gt;</th><th scope=col>&lt;int&gt;</th><th scope=col>&lt;int&gt;</th><th scope=col>&lt;int&gt;</th><th scope=col>&lt;int&gt;</th></tr>\n",
       "</thead>\n",
       "<tbody>\n",
       "\t<tr><td>2</td><td>0</td><td>1</td><td>3</td><td>6</td></tr>\n",
       "\t<tr><td>0</td><td>0</td><td>0</td><td>1</td><td>0</td></tr>\n",
       "\t<tr><td>0</td><td>0</td><td>0</td><td>1</td><td>0</td></tr>\n",
       "\t<tr><td>0</td><td>0</td><td>0</td><td>1</td><td>0</td></tr>\n",
       "\t<tr><td>0</td><td>5</td><td>3</td><td>8</td><td>4</td></tr>\n",
       "</tbody>\n",
       "</table>\n"
      ],
      "text/latex": [
       "A data.table: 5 × 5\n",
       "\\begin{tabular}{lllll}\n",
       " SRR1068788 & SRR1068808 & SRR1068832 & SRR1068855 & SRR1068880\\\\\n",
       " <int> & <int> & <int> & <int> & <int>\\\\\n",
       "\\hline\n",
       "\t 2 & 0 & 1 & 3 & 6\\\\\n",
       "\t 0 & 0 & 0 & 1 & 0\\\\\n",
       "\t 0 & 0 & 0 & 1 & 0\\\\\n",
       "\t 0 & 0 & 0 & 1 & 0\\\\\n",
       "\t 0 & 5 & 3 & 8 & 4\\\\\n",
       "\\end{tabular}\n"
      ],
      "text/markdown": [
       "\n",
       "A data.table: 5 × 5\n",
       "\n",
       "| SRR1068788 &lt;int&gt; | SRR1068808 &lt;int&gt; | SRR1068832 &lt;int&gt; | SRR1068855 &lt;int&gt; | SRR1068880 &lt;int&gt; |\n",
       "|---|---|---|---|---|\n",
       "| 2 | 0 | 1 | 3 | 6 |\n",
       "| 0 | 0 | 0 | 1 | 0 |\n",
       "| 0 | 0 | 0 | 1 | 0 |\n",
       "| 0 | 0 | 0 | 1 | 0 |\n",
       "| 0 | 5 | 3 | 8 | 4 |\n",
       "\n"
      ],
      "text/plain": [
       "  SRR1068788 SRR1068808 SRR1068832 SRR1068855 SRR1068880\n",
       "1 2          0          1          3          6         \n",
       "2 0          0          0          1          0         \n",
       "3 0          0          0          1          0         \n",
       "4 0          0          0          1          0         \n",
       "5 0          5          3          8          4         "
      ]
     },
     "metadata": {},
     "output_type": "display_data"
    }
   ],
   "source": [
    "rownames(a3ss.jc.ijc) <- a3ss.jc.ijc$ID\n",
    "rownames(a3ss.jc.sjc) <- a3ss.jc.sjc$ID\n",
    "a3ss.jc.ijc <- a3ss.jc.ijc[,-1]\n",
    "a3ss.jc.sjc <- a3ss.jc.sjc[,-1]\n",
    "\n",
    "rownames(a5ss.jc.ijc) <- a3ss.jc.ijc$ID\n",
    "rownames(a5ss.jc.sjc) <- a3ss.jc.sjc$ID\n",
    "a5ss.jc.ijc <- a5ss.jc.ijc[,-1]\n",
    "a5ss.jc.sjc <- a5ss.jc.sjc[,-1]\n",
    "\n",
    "rownames(mxe.jc.ijc)  <- mxe.jc.ijc$ID\n",
    "rownames(mxe.jc.sjc)  <- mxe.jc.sjc$ID\n",
    "mxe.jc.ijc <- mxe.jc.ijc[,-1]\n",
    "mxe.jc.sjc <- mxe.jc.sjc[,-1]\n",
    "\n",
    "rownames(ri.jc.ijc)   <- ri.jc.ijc$ID\n",
    "rownames(ri.jc.sjc)   <- ri.jc.sjc$ID\n",
    "ri.jc.ijc <- ri.jc.ijc[,-1]\n",
    "ri.jc.sjc <- ri.jc.sjc[,-1]\n",
    "\n",
    "rownames(se.jc.ijc)   <- se.jc.ijc$ID\n",
    "rownames(se.jc.sjc)   <- se.jc.sjc$ID\n",
    "se.jc.ijc <- se.jc.ijc[,-1]\n",
    "se.jc.sjc <- se.jc.sjc[,-1]\n",
    "\n",
    "dim(a3ss.jc.ijc)\n",
    "dim(a3ss.jc.sjc)\n",
    "dim(a5ss.jc.ijc)\n",
    "dim(a5ss.jc.sjc)\n",
    "dim(mxe.jc.ijc)\n",
    "dim(mxe.jc.sjc)\n",
    "dim(ri.jc.ijc)\n",
    "dim(ri.jc.sjc)\n",
    "dim(se.jc.ijc)\n",
    "dim(se.jc.sjc)\n",
    "\n",
    "a3ss.jc.ijc[1:5,1:5]\n",
    "a3ss.jc.sjc[1:5,1:5]\n",
    "\n",
    "a5ss.jc.ijc[1:5,1:5]\n",
    "a5ss.jc.sjc[1:5,1:5]\n",
    "\n",
    "mxe.jc.ijc[1:5,1:5]\n",
    "mxe.jc.sjc[1:5,1:5]\n",
    "\n",
    "ri.jc.ijc[1:5,1:5]\n",
    "ri.jc.sjc[1:5,1:5]\n",
    "\n",
    "se.jc.ijc[1:5,1:5]\n",
    "se.jc.sjc[1:5,1:5]\n",
    "\n"
   ]
  },
  {
   "cell_type": "markdown",
   "metadata": {},
   "source": [
    "### Synchronize Clinical Annotations and Accession Run, reducing to only tissues of interest\n",
    "\n",
    "Join the yarn metadata with the metadata we have (there are redundant samples that have been sequenced multiple times). We want to be sure that we can obtain all required Clinical Annotation information from the YARN GTEx Annotation information, as the SRA metadata is not as reliable.    This will be a one-to-many mapping, as there are multiple sequence runs per 69 samples -- expanding our data set.  There are only a handful of annotations we require: SEX, AGE, DTHHRDY (which is cause of death), SMCENTER.\n",
    "\n",
    "Note that the numbers in specific age groups expand because of the one to many relationship from sample to sequencing runs. \n",
    "\n",
    "#### Using results from analysis of number of samples stored in `tissues.tsv` we keep only those that are members of this reduced tissue list."
   ]
  },
  {
   "cell_type": "code",
   "execution_count": 8,
   "metadata": {},
   "outputs": [
    {
     "name": "stderr",
     "output_type": "stream",
     "text": [
      "\n",
      "size tissue_reduction\n",
      "50 5\n",
      "\n",
      "size obj\n",
      "5587217382\n",
      "\n",
      "\n",
      "size pData(obj)\n",
      "17382 67\n"
     ]
    },
    {
     "data": {
      "text/plain": [
       "\n",
       " 0  1 \n",
       "11 39 "
      ]
     },
     "metadata": {},
     "output_type": "display_data"
    },
    {
     "name": "stderr",
     "output_type": "stream",
     "text": [
      "\n",
      "TEST: how many to keep of obj in breast_mammary_tissue\n",
      "17382\n",
      "\n",
      "TEST: size breast_mammary_tissue obj:tobj\n",
      "55872 0\n",
      "\n",
      "TEST: size phenotype object pData(tobj)\n",
      "0 67\n"
     ]
    },
    {
     "data": {
      "text/html": [
       "<table>\n",
       "<caption>A data.frame: 1 × 67</caption>\n",
       "<thead>\n",
       "\t<tr><th></th><th scope=col>SAMPID</th><th scope=col>SMATSSCR</th><th scope=col>SMCENTER</th><th scope=col>SMPTHNTS</th><th scope=col>SMRIN</th><th scope=col>SMTS</th><th scope=col>SMTSD</th><th scope=col>SMUBRID</th><th scope=col>SMTSISCH</th><th scope=col>SMTSPAX</th><th scope=col>⋯</th><th scope=col>SME1PCTS</th><th scope=col>SMRRNART</th><th scope=col>SME1MPRT</th><th scope=col>SMNUM5CD</th><th scope=col>SMDPMPRT</th><th scope=col>SME2PCTS</th><th scope=col>SUBJID</th><th scope=col>SEX</th><th scope=col>AGE</th><th scope=col>DTHHRDY</th></tr>\n",
       "\t<tr><th></th><th scope=col>&lt;fct&gt;</th><th scope=col>&lt;fct&gt;</th><th scope=col>&lt;fct&gt;</th><th scope=col>&lt;fct&gt;</th><th scope=col>&lt;fct&gt;</th><th scope=col>&lt;fct&gt;</th><th scope=col>&lt;fct&gt;</th><th scope=col>&lt;fct&gt;</th><th scope=col>&lt;fct&gt;</th><th scope=col>&lt;fct&gt;</th><th scope=col>⋯</th><th scope=col>&lt;fct&gt;</th><th scope=col>&lt;fct&gt;</th><th scope=col>&lt;fct&gt;</th><th scope=col>&lt;fct&gt;</th><th scope=col>&lt;fct&gt;</th><th scope=col>&lt;fct&gt;</th><th scope=col>&lt;fct&gt;</th><th scope=col>&lt;fct&gt;</th><th scope=col>&lt;fct&gt;</th><th scope=col>&lt;fct&gt;</th></tr>\n",
       "</thead>\n",
       "<tbody>\n",
       "\t<tr><th scope=row>NA</th><td>NA</td><td>NA</td><td>NA</td><td>NA</td><td>NA</td><td>NA</td><td>NA</td><td>NA</td><td>NA</td><td>NA</td><td>⋯</td><td>NA</td><td>NA</td><td>NA</td><td>NA</td><td>NA</td><td>NA</td><td>NA</td><td>NA</td><td>NA</td><td>NA</td></tr>\n",
       "</tbody>\n",
       "</table>\n"
      ],
      "text/latex": [
       "A data.frame: 1 × 67\n",
       "\\begin{tabular}{r|lllllllllllllllllllll}\n",
       "  & SAMPID & SMATSSCR & SMCENTER & SMPTHNTS & SMRIN & SMTS & SMTSD & SMUBRID & SMTSISCH & SMTSPAX & ⋯ & SME1PCTS & SMRRNART & SME1MPRT & SMNUM5CD & SMDPMPRT & SME2PCTS & SUBJID & SEX & AGE & DTHHRDY\\\\\n",
       "  & <fct> & <fct> & <fct> & <fct> & <fct> & <fct> & <fct> & <fct> & <fct> & <fct> & ⋯ & <fct> & <fct> & <fct> & <fct> & <fct> & <fct> & <fct> & <fct> & <fct> & <fct>\\\\\n",
       "\\hline\n",
       "\tNA & NA & NA & NA & NA & NA & NA & NA & NA & NA & NA & ⋯ & NA & NA & NA & NA & NA & NA & NA & NA & NA & NA\\\\\n",
       "\\end{tabular}\n"
      ],
      "text/markdown": [
       "\n",
       "A data.frame: 1 × 67\n",
       "\n",
       "| <!--/--> | SAMPID &lt;fct&gt; | SMATSSCR &lt;fct&gt; | SMCENTER &lt;fct&gt; | SMPTHNTS &lt;fct&gt; | SMRIN &lt;fct&gt; | SMTS &lt;fct&gt; | SMTSD &lt;fct&gt; | SMUBRID &lt;fct&gt; | SMTSISCH &lt;fct&gt; | SMTSPAX &lt;fct&gt; | ⋯ ⋯ | SME1PCTS &lt;fct&gt; | SMRRNART &lt;fct&gt; | SME1MPRT &lt;fct&gt; | SMNUM5CD &lt;fct&gt; | SMDPMPRT &lt;fct&gt; | SME2PCTS &lt;fct&gt; | SUBJID &lt;fct&gt; | SEX &lt;fct&gt; | AGE &lt;fct&gt; | DTHHRDY &lt;fct&gt; |\n",
       "|---|---|---|---|---|---|---|---|---|---|---|---|---|---|---|---|---|---|---|---|---|---|\n",
       "| NA | NA | NA | NA | NA | NA | NA | NA | NA | NA | NA | ⋯ | NA | NA | NA | NA | NA | NA | NA | NA | NA | NA |\n",
       "\n"
      ],
      "text/plain": [
       "   SAMPID SMATSSCR SMCENTER SMPTHNTS SMRIN SMTS SMTSD SMUBRID SMTSISCH SMTSPAX\n",
       "NA NA     NA       NA       NA       NA    NA   NA    NA      NA       NA     \n",
       "   ⋯ SME1PCTS SMRRNART SME1MPRT SMNUM5CD SMDPMPRT SME2PCTS SUBJID SEX AGE\n",
       "NA ⋯ NA       NA       NA       NA       NA       NA       NA     NA  NA \n",
       "   DTHHRDY\n",
       "NA NA     "
      ]
     },
     "metadata": {},
     "output_type": "display_data"
    },
    {
     "name": "stderr",
     "output_type": "stream",
     "text": [
      "\n",
      "length tissues in phenotype data\n",
      "54\n",
      "\n",
      "length tissues in tissue_reduction data\n",
      "39\n",
      "\n",
      "length tissue in samples phenotype data\n",
      "17382\n",
      "\n",
      "length keep obj \n",
      "17382\n",
      "\n",
      "how many to keep in phenotype data\n",
      "1851 15531\n",
      "\n",
      "size reduced_obj\n",
      "5587215531 \n",
      "\n",
      "size pData(reduced_obj)\n",
      "15531 67\n",
      "\n",
      "length tissues in phenotype data\n",
      "54\n",
      "\n",
      "TEST: how many to keep in to have only breast_mammary_tissue\n",
      "15072 459\n",
      "\n",
      "TEST: size breast_mammary_tissue obj:tobj\n",
      "55872 459\n",
      "\n",
      "TEST: size phenotype object pData(tobj)\n",
      "459 67\n"
     ]
    },
    {
     "data": {
      "text/html": [
       "<table>\n",
       "<caption>A data.frame: 1 × 67</caption>\n",
       "<thead>\n",
       "\t<tr><th></th><th scope=col>SAMPID</th><th scope=col>SMATSSCR</th><th scope=col>SMCENTER</th><th scope=col>SMPTHNTS</th><th scope=col>SMRIN</th><th scope=col>SMTS</th><th scope=col>SMTSD</th><th scope=col>SMUBRID</th><th scope=col>SMTSISCH</th><th scope=col>SMTSPAX</th><th scope=col>⋯</th><th scope=col>SME1PCTS</th><th scope=col>SMRRNART</th><th scope=col>SME1MPRT</th><th scope=col>SMNUM5CD</th><th scope=col>SMDPMPRT</th><th scope=col>SME2PCTS</th><th scope=col>SUBJID</th><th scope=col>SEX</th><th scope=col>AGE</th><th scope=col>DTHHRDY</th></tr>\n",
       "\t<tr><th></th><th scope=col>&lt;fct&gt;</th><th scope=col>&lt;fct&gt;</th><th scope=col>&lt;fct&gt;</th><th scope=col>&lt;fct&gt;</th><th scope=col>&lt;fct&gt;</th><th scope=col>&lt;fct&gt;</th><th scope=col>&lt;fct&gt;</th><th scope=col>&lt;fct&gt;</th><th scope=col>&lt;fct&gt;</th><th scope=col>&lt;fct&gt;</th><th scope=col>⋯</th><th scope=col>&lt;fct&gt;</th><th scope=col>&lt;fct&gt;</th><th scope=col>&lt;fct&gt;</th><th scope=col>&lt;fct&gt;</th><th scope=col>&lt;fct&gt;</th><th scope=col>&lt;fct&gt;</th><th scope=col>&lt;fct&gt;</th><th scope=col>&lt;fct&gt;</th><th scope=col>&lt;fct&gt;</th><th scope=col>&lt;fct&gt;</th></tr>\n",
       "</thead>\n",
       "<tbody>\n",
       "\t<tr><th scope=row>GTEX-1117F-2826-SM-5GZXL</th><td>GTEX-1117F-2826-SM-5GZXL</td><td> 1</td><td>B1</td><td>2 pieces, fibrocystic changes, rep ductal/lobular elements delineated</td><td> 5.80000</td><td>Breast</td><td>breast_mammary_tissue</td><td>0008367</td><td> 1340</td><td>1008</td><td>⋯</td><td>50.2455</td><td>0.015023200</td><td>0.9943150</td><td>NA</td><td> 0</td><td>50.0068</td><td>GTEX-1117F</td><td>2</td><td>60-69</td><td> 4</td></tr>\n",
       "</tbody>\n",
       "</table>\n"
      ],
      "text/latex": [
       "A data.frame: 1 × 67\n",
       "\\begin{tabular}{r|lllllllllllllllllllll}\n",
       "  & SAMPID & SMATSSCR & SMCENTER & SMPTHNTS & SMRIN & SMTS & SMTSD & SMUBRID & SMTSISCH & SMTSPAX & ⋯ & SME1PCTS & SMRRNART & SME1MPRT & SMNUM5CD & SMDPMPRT & SME2PCTS & SUBJID & SEX & AGE & DTHHRDY\\\\\n",
       "  & <fct> & <fct> & <fct> & <fct> & <fct> & <fct> & <fct> & <fct> & <fct> & <fct> & ⋯ & <fct> & <fct> & <fct> & <fct> & <fct> & <fct> & <fct> & <fct> & <fct> & <fct>\\\\\n",
       "\\hline\n",
       "\tGTEX-1117F-2826-SM-5GZXL & GTEX-1117F-2826-SM-5GZXL &  1 & B1 & 2 pieces, fibrocystic changes, rep ductal/lobular elements delineated &  5.80000 & Breast & breast\\_mammary\\_tissue & 0008367 &  1340 & 1008 & ⋯ & 50.2455 & 0.015023200 & 0.9943150 & NA &  0 & 50.0068 & GTEX-1117F & 2 & 60-69 &  4\\\\\n",
       "\\end{tabular}\n"
      ],
      "text/markdown": [
       "\n",
       "A data.frame: 1 × 67\n",
       "\n",
       "| <!--/--> | SAMPID &lt;fct&gt; | SMATSSCR &lt;fct&gt; | SMCENTER &lt;fct&gt; | SMPTHNTS &lt;fct&gt; | SMRIN &lt;fct&gt; | SMTS &lt;fct&gt; | SMTSD &lt;fct&gt; | SMUBRID &lt;fct&gt; | SMTSISCH &lt;fct&gt; | SMTSPAX &lt;fct&gt; | ⋯ ⋯ | SME1PCTS &lt;fct&gt; | SMRRNART &lt;fct&gt; | SME1MPRT &lt;fct&gt; | SMNUM5CD &lt;fct&gt; | SMDPMPRT &lt;fct&gt; | SME2PCTS &lt;fct&gt; | SUBJID &lt;fct&gt; | SEX &lt;fct&gt; | AGE &lt;fct&gt; | DTHHRDY &lt;fct&gt; |\n",
       "|---|---|---|---|---|---|---|---|---|---|---|---|---|---|---|---|---|---|---|---|---|---|\n",
       "| GTEX-1117F-2826-SM-5GZXL | GTEX-1117F-2826-SM-5GZXL |  1 | B1 | 2 pieces, fibrocystic changes, rep ductal/lobular elements delineated |  5.80000 | Breast | breast_mammary_tissue | 0008367 |  1340 | 1008 | ⋯ | 50.2455 | 0.015023200 | 0.9943150 | NA |  0 | 50.0068 | GTEX-1117F | 2 | 60-69 |  4 |\n",
       "\n"
      ],
      "text/plain": [
       "                         SAMPID                   SMATSSCR SMCENTER\n",
       "GTEX-1117F-2826-SM-5GZXL GTEX-1117F-2826-SM-5GZXL  1       B1      \n",
       "                         SMPTHNTS                                                             \n",
       "GTEX-1117F-2826-SM-5GZXL 2 pieces, fibrocystic changes, rep ductal/lobular elements delineated\n",
       "                         SMRIN    SMTS   SMTSD                 SMUBRID SMTSISCH\n",
       "GTEX-1117F-2826-SM-5GZXL  5.80000 Breast breast_mammary_tissue 0008367  1340   \n",
       "                         SMTSPAX ⋯ SME1PCTS SMRRNART    SME1MPRT  SMNUM5CD\n",
       "GTEX-1117F-2826-SM-5GZXL 1008    ⋯ 50.2455  0.015023200 0.9943150 NA      \n",
       "                         SMDPMPRT SME2PCTS SUBJID     SEX AGE   DTHHRDY\n",
       "GTEX-1117F-2826-SM-5GZXL  0       50.0068  GTEX-1117F 2   60-69  4     "
      ]
     },
     "metadata": {},
     "output_type": "display_data"
    }
   ],
   "source": [
    "# read in all requirements so that the stage is properly set -- \n",
    "# if it is clear here -- it will remain clear for the rest of the time\n",
    "# tissues.tsv contains the subset of files desired for analysis.\n",
    "tissue_reduction <- read.table(file=\"../assets/tissues.tsv\", header=TRUE, sep=\"\\t\",\n",
    "                               skipNul=FALSE, stringsAsFactors = FALSE)\n",
    "colnames(tissue_reduction)  <- c(\"SMTSD\",\"female\",\"male\",\"include\",\"display_name\")\n",
    "\n",
    "message(\"\\nsize tissue_reduction\\n\",\n",
    "        paste(dim(tissue_reduction), collapse=\" \"))\n",
    "message(\"\\nsize obj\\n\",\n",
    "        paste(dim(obj)), collapse=\"\\n\")\n",
    "message(\"\\nsize pData(obj)\\n\",\n",
    "        paste(dim(pData(obj)), collapse=\" \"))\n",
    "\n",
    "# only include those tissues we wish to continue with\n",
    "table(tissue_reduction$include)\n",
    "tissue_reduction <- tissue_reduction[tissue_reduction$include==1,]\n",
    "\n",
    "# test to make sure we don't have nonsense\n",
    "keep <- (pData(obj)$SMTSD== \"breast_mammary_tissue\")\n",
    "message(\"\\nTEST: how many to keep of obj in breast_mammary_tissue\\n\",\n",
    "        paste(table(keep), collapse = \" \"))\n",
    "tobj        = obj      [,keep]\n",
    "pData(tobj) = pData(obj[,keep])\n",
    "message(\"\\nTEST: size breast_mammary_tissue obj:tobj\\n\",\n",
    "        paste(dim(tobj), collapse=\" \"))\n",
    "message(\"\\nTEST: size phenotype object pData(tobj)\\n\",\n",
    "        paste(dim(pData(tobj)), collapse=\" \"))\n",
    "pData(tobj)[1,]\n",
    "rm(keep)\n",
    "# end test\n",
    "\n",
    "# create a matching tissue name to go with the expressionSet phenotype object\n",
    "pData(obj)$SMTSD       <- factor(snakecase::to_snake_case(as.character(pData(obj)$SMTSD)))\n",
    "tissue_reduction$SMTSD <- factor(snakecase::to_snake_case(as.character(tissue_reduction$SMTSD)))\n",
    "\n",
    "message(\"\\nlength tissues in phenotype data\\n\",\n",
    "        paste(length(levels(pData(obj)$SMTSD)), collapse = \" \"))\n",
    "message(\"\\nlength tissues in tissue_reduction data\\n\",\n",
    "        paste(length(tissue_reduction$SMTSD), collapse = \" \"))\n",
    "\n",
    "keep <- pData(obj)$SMTSD %in% tissue_reduction$SMTSD\n",
    "message(\"\\nlength tissue in samples phenotype data\\n\",\n",
    "        paste(length(pData(obj)$SMTSD), collapse = \" \"))\n",
    "message(\"\\nlength keep obj \\n\",\n",
    "        paste(length(keep), collapse = \" \"))\n",
    "message(\"\\nhow many to keep in phenotype data\\n\",\n",
    "        paste(table(keep), collapse = \" \"))\n",
    "\n",
    "# both obj and pData(obj) need to be adjusted\n",
    "reduced_obj        <- obj       [          ,keep==TRUE]\n",
    "pData(reduced_obj) <- pData(obj)[keep==TRUE,          ]\n",
    "rm(keep)\n",
    "message(\"\\nsize reduced_obj\\n\",\n",
    "        paste(dim(reduced_obj)), collapse=\" \")\n",
    "message(\"\\nsize pData(reduced_obj)\\n\",\n",
    "        paste(dim(pData(reduced_obj)), collapse=\" \"))\n",
    "message(\"\\nlength tissues in phenotype data\\n\",\n",
    "        paste(length(levels(pData(reduced_obj)$SMTSD)), collapse = \" \"))\n",
    "\n",
    "# test to make sure we don't have nonsense\n",
    "keep = pData(reduced_obj)$SMTSD== \"breast_mammary_tissue\"\n",
    "message(\"\\nTEST: how many to keep in to have only breast_mammary_tissue\\n\",\n",
    "        paste(table(keep), collapse = \" \"))\n",
    "tobj        = reduced_obj       [          ,keep==TRUE]\n",
    "pData(tobj) = pData(reduced_obj)[keep==TRUE,          ]\n",
    "message(\"\\nTEST: size breast_mammary_tissue obj:tobj\\n\",\n",
    "        paste(dim(tobj), collapse=\" \"))\n",
    "message(\"\\nTEST: size phenotype object pData(tobj)\\n\",\n",
    "        paste(dim(pData(tobj)), collapse=\" \"))\n",
    "pData(tobj)[1,]\n",
    "rm(keep)\n",
    "# end test"
   ]
  },
  {
   "cell_type": "markdown",
   "metadata": {},
   "source": [
    "#### Synchronize accession metadata and phenotype data\n",
    "A kind of transitive closure.   Metadata links the count data to the phenotype data.\n",
    "Begin with synchronizing accession metadata and phenotype data - which has been reduced - `reduced_obj` inputs here "
   ]
  },
  {
   "cell_type": "code",
   "execution_count": 9,
   "metadata": {},
   "outputs": [
    {
     "name": "stderr",
     "output_type": "stream",
     "text": [
      "\n",
      "size accession SraRunTable \n",
      "24667 80\n",
      "\n",
      "size reduced_obj\n",
      "55872 15531\n",
      "\n",
      "size pData(reduced_obj)\n",
      "15531 67\n",
      "\n",
      " any undefined (NA) sample names?\n",
      "0\n",
      "\n",
      " any undefined (NA) sample names?\n",
      "0\n",
      "\n",
      "length keep metadata samples in phenotype samples \n",
      "15531\n",
      "\n",
      "how many to keep in phenotype obj\n",
      "5159 10372\n",
      "\n",
      "size reduced_obj2\n",
      "55872 10372\n",
      "\n",
      "size pData(reduced_obj2)\n",
      "10372 67\n",
      "\n",
      "TEST: how many to keep in to have only breast_mammary_tissue\n",
      "10086 286\n",
      "\n",
      "TEST: size breast_mammary_tissue obj:tobj\n",
      "55872 286\n",
      "\n",
      "TEST: size phenotype object pData(tobj)\n",
      "286 67\n"
     ]
    },
    {
     "data": {
      "text/html": [
       "<table>\n",
       "<caption>A data.frame: 1 × 67</caption>\n",
       "<thead>\n",
       "\t<tr><th></th><th scope=col>SAMPID</th><th scope=col>SMATSSCR</th><th scope=col>SMCENTER</th><th scope=col>SMPTHNTS</th><th scope=col>SMRIN</th><th scope=col>SMTS</th><th scope=col>SMTSD</th><th scope=col>SMUBRID</th><th scope=col>SMTSISCH</th><th scope=col>SMTSPAX</th><th scope=col>⋯</th><th scope=col>SME1PCTS</th><th scope=col>SMRRNART</th><th scope=col>SME1MPRT</th><th scope=col>SMNUM5CD</th><th scope=col>SMDPMPRT</th><th scope=col>SME2PCTS</th><th scope=col>SUBJID</th><th scope=col>SEX</th><th scope=col>AGE</th><th scope=col>DTHHRDY</th></tr>\n",
       "\t<tr><th></th><th scope=col>&lt;chr&gt;</th><th scope=col>&lt;fct&gt;</th><th scope=col>&lt;fct&gt;</th><th scope=col>&lt;fct&gt;</th><th scope=col>&lt;fct&gt;</th><th scope=col>&lt;fct&gt;</th><th scope=col>&lt;fct&gt;</th><th scope=col>&lt;fct&gt;</th><th scope=col>&lt;fct&gt;</th><th scope=col>&lt;fct&gt;</th><th scope=col>⋯</th><th scope=col>&lt;fct&gt;</th><th scope=col>&lt;fct&gt;</th><th scope=col>&lt;fct&gt;</th><th scope=col>&lt;fct&gt;</th><th scope=col>&lt;fct&gt;</th><th scope=col>&lt;fct&gt;</th><th scope=col>&lt;fct&gt;</th><th scope=col>&lt;fct&gt;</th><th scope=col>&lt;fct&gt;</th><th scope=col>&lt;fct&gt;</th></tr>\n",
       "</thead>\n",
       "<tbody>\n",
       "\t<tr><th scope=row>GTEX.1117F.2826.SM.5GZXL</th><td>GTEX.1117F.2826.SM.5GZXL</td><td> 1</td><td>B1</td><td>2 pieces, fibrocystic changes, rep ductal/lobular elements delineated</td><td> 5.80000</td><td>Breast</td><td>breast_mammary_tissue</td><td>0008367</td><td> 1340</td><td>1008</td><td>⋯</td><td>50.2455</td><td>0.015023200</td><td>0.9943150</td><td>NA</td><td> 0</td><td>50.0068</td><td>GTEX-1117F</td><td>2</td><td>60-69</td><td> 4</td></tr>\n",
       "</tbody>\n",
       "</table>\n"
      ],
      "text/latex": [
       "A data.frame: 1 × 67\n",
       "\\begin{tabular}{r|lllllllllllllllllllll}\n",
       "  & SAMPID & SMATSSCR & SMCENTER & SMPTHNTS & SMRIN & SMTS & SMTSD & SMUBRID & SMTSISCH & SMTSPAX & ⋯ & SME1PCTS & SMRRNART & SME1MPRT & SMNUM5CD & SMDPMPRT & SME2PCTS & SUBJID & SEX & AGE & DTHHRDY\\\\\n",
       "  & <chr> & <fct> & <fct> & <fct> & <fct> & <fct> & <fct> & <fct> & <fct> & <fct> & ⋯ & <fct> & <fct> & <fct> & <fct> & <fct> & <fct> & <fct> & <fct> & <fct> & <fct>\\\\\n",
       "\\hline\n",
       "\tGTEX.1117F.2826.SM.5GZXL & GTEX.1117F.2826.SM.5GZXL &  1 & B1 & 2 pieces, fibrocystic changes, rep ductal/lobular elements delineated &  5.80000 & Breast & breast\\_mammary\\_tissue & 0008367 &  1340 & 1008 & ⋯ & 50.2455 & 0.015023200 & 0.9943150 & NA &  0 & 50.0068 & GTEX-1117F & 2 & 60-69 &  4\\\\\n",
       "\\end{tabular}\n"
      ],
      "text/markdown": [
       "\n",
       "A data.frame: 1 × 67\n",
       "\n",
       "| <!--/--> | SAMPID &lt;chr&gt; | SMATSSCR &lt;fct&gt; | SMCENTER &lt;fct&gt; | SMPTHNTS &lt;fct&gt; | SMRIN &lt;fct&gt; | SMTS &lt;fct&gt; | SMTSD &lt;fct&gt; | SMUBRID &lt;fct&gt; | SMTSISCH &lt;fct&gt; | SMTSPAX &lt;fct&gt; | ⋯ ⋯ | SME1PCTS &lt;fct&gt; | SMRRNART &lt;fct&gt; | SME1MPRT &lt;fct&gt; | SMNUM5CD &lt;fct&gt; | SMDPMPRT &lt;fct&gt; | SME2PCTS &lt;fct&gt; | SUBJID &lt;fct&gt; | SEX &lt;fct&gt; | AGE &lt;fct&gt; | DTHHRDY &lt;fct&gt; |\n",
       "|---|---|---|---|---|---|---|---|---|---|---|---|---|---|---|---|---|---|---|---|---|---|\n",
       "| GTEX.1117F.2826.SM.5GZXL | GTEX.1117F.2826.SM.5GZXL |  1 | B1 | 2 pieces, fibrocystic changes, rep ductal/lobular elements delineated |  5.80000 | Breast | breast_mammary_tissue | 0008367 |  1340 | 1008 | ⋯ | 50.2455 | 0.015023200 | 0.9943150 | NA |  0 | 50.0068 | GTEX-1117F | 2 | 60-69 |  4 |\n",
       "\n"
      ],
      "text/plain": [
       "                         SAMPID                   SMATSSCR SMCENTER\n",
       "GTEX.1117F.2826.SM.5GZXL GTEX.1117F.2826.SM.5GZXL  1       B1      \n",
       "                         SMPTHNTS                                                             \n",
       "GTEX.1117F.2826.SM.5GZXL 2 pieces, fibrocystic changes, rep ductal/lobular elements delineated\n",
       "                         SMRIN    SMTS   SMTSD                 SMUBRID SMTSISCH\n",
       "GTEX.1117F.2826.SM.5GZXL  5.80000 Breast breast_mammary_tissue 0008367  1340   \n",
       "                         SMTSPAX ⋯ SME1PCTS SMRRNART    SME1MPRT  SMNUM5CD\n",
       "GTEX.1117F.2826.SM.5GZXL 1008    ⋯ 50.2455  0.015023200 0.9943150 NA      \n",
       "                         SMDPMPRT SME2PCTS SUBJID     SEX AGE   DTHHRDY\n",
       "GTEX.1117F.2826.SM.5GZXL  0       50.0068  GTEX-1117F 2   60-69  4     "
      ]
     },
     "metadata": {},
     "output_type": "display_data"
    },
    {
     "name": "stderr",
     "output_type": "stream",
     "text": [
      "\n",
      "length of metadata_samples\n",
      "24667\n",
      "\n",
      "length of phenotype_samples\n",
      "10372\n",
      "\n",
      "dimension of metadata\n",
      "24667 80\n",
      "\n",
      "length keep phenotype samples in metadata samples \n",
      "24667\n",
      "\n",
      "how many to keep in metadata samples\n",
      "\n",
      "\n",
      "dimension of reduced_metadata\n",
      "18214 80\n",
      "\n",
      "TEST: how many to keep in to have only breast_mammary_tissue\n",
      "10086 286\n",
      "\n",
      "TEST: size breast_mammary_tissue obj:tobj\n",
      "55872 286\n",
      "\n",
      "TEST: size phenotype object pData(tobj)\n",
      "286 67\n"
     ]
    },
    {
     "data": {
      "text/html": [
       "<table>\n",
       "<caption>A data.frame: 1 × 67</caption>\n",
       "<thead>\n",
       "\t<tr><th></th><th scope=col>SAMPID</th><th scope=col>SMATSSCR</th><th scope=col>SMCENTER</th><th scope=col>SMPTHNTS</th><th scope=col>SMRIN</th><th scope=col>SMTS</th><th scope=col>SMTSD</th><th scope=col>SMUBRID</th><th scope=col>SMTSISCH</th><th scope=col>SMTSPAX</th><th scope=col>⋯</th><th scope=col>SME1PCTS</th><th scope=col>SMRRNART</th><th scope=col>SME1MPRT</th><th scope=col>SMNUM5CD</th><th scope=col>SMDPMPRT</th><th scope=col>SME2PCTS</th><th scope=col>SUBJID</th><th scope=col>SEX</th><th scope=col>AGE</th><th scope=col>DTHHRDY</th></tr>\n",
       "\t<tr><th></th><th scope=col>&lt;chr&gt;</th><th scope=col>&lt;fct&gt;</th><th scope=col>&lt;fct&gt;</th><th scope=col>&lt;fct&gt;</th><th scope=col>&lt;fct&gt;</th><th scope=col>&lt;fct&gt;</th><th scope=col>&lt;fct&gt;</th><th scope=col>&lt;fct&gt;</th><th scope=col>&lt;fct&gt;</th><th scope=col>&lt;fct&gt;</th><th scope=col>⋯</th><th scope=col>&lt;fct&gt;</th><th scope=col>&lt;fct&gt;</th><th scope=col>&lt;fct&gt;</th><th scope=col>&lt;fct&gt;</th><th scope=col>&lt;fct&gt;</th><th scope=col>&lt;fct&gt;</th><th scope=col>&lt;fct&gt;</th><th scope=col>&lt;fct&gt;</th><th scope=col>&lt;fct&gt;</th><th scope=col>&lt;fct&gt;</th></tr>\n",
       "</thead>\n",
       "<tbody>\n",
       "\t<tr><th scope=row>GTEX.1117F.2826.SM.5GZXL</th><td>GTEX.1117F.2826.SM.5GZXL</td><td> 1</td><td>B1</td><td>2 pieces, fibrocystic changes, rep ductal/lobular elements delineated</td><td> 5.80000</td><td>Breast</td><td>breast_mammary_tissue</td><td>0008367</td><td> 1340</td><td>1008</td><td>⋯</td><td>50.2455</td><td>0.015023200</td><td>0.9943150</td><td>NA</td><td> 0</td><td>50.0068</td><td>GTEX-1117F</td><td>2</td><td>60-69</td><td> 4</td></tr>\n",
       "</tbody>\n",
       "</table>\n"
      ],
      "text/latex": [
       "A data.frame: 1 × 67\n",
       "\\begin{tabular}{r|lllllllllllllllllllll}\n",
       "  & SAMPID & SMATSSCR & SMCENTER & SMPTHNTS & SMRIN & SMTS & SMTSD & SMUBRID & SMTSISCH & SMTSPAX & ⋯ & SME1PCTS & SMRRNART & SME1MPRT & SMNUM5CD & SMDPMPRT & SME2PCTS & SUBJID & SEX & AGE & DTHHRDY\\\\\n",
       "  & <chr> & <fct> & <fct> & <fct> & <fct> & <fct> & <fct> & <fct> & <fct> & <fct> & ⋯ & <fct> & <fct> & <fct> & <fct> & <fct> & <fct> & <fct> & <fct> & <fct> & <fct>\\\\\n",
       "\\hline\n",
       "\tGTEX.1117F.2826.SM.5GZXL & GTEX.1117F.2826.SM.5GZXL &  1 & B1 & 2 pieces, fibrocystic changes, rep ductal/lobular elements delineated &  5.80000 & Breast & breast\\_mammary\\_tissue & 0008367 &  1340 & 1008 & ⋯ & 50.2455 & 0.015023200 & 0.9943150 & NA &  0 & 50.0068 & GTEX-1117F & 2 & 60-69 &  4\\\\\n",
       "\\end{tabular}\n"
      ],
      "text/markdown": [
       "\n",
       "A data.frame: 1 × 67\n",
       "\n",
       "| <!--/--> | SAMPID &lt;chr&gt; | SMATSSCR &lt;fct&gt; | SMCENTER &lt;fct&gt; | SMPTHNTS &lt;fct&gt; | SMRIN &lt;fct&gt; | SMTS &lt;fct&gt; | SMTSD &lt;fct&gt; | SMUBRID &lt;fct&gt; | SMTSISCH &lt;fct&gt; | SMTSPAX &lt;fct&gt; | ⋯ ⋯ | SME1PCTS &lt;fct&gt; | SMRRNART &lt;fct&gt; | SME1MPRT &lt;fct&gt; | SMNUM5CD &lt;fct&gt; | SMDPMPRT &lt;fct&gt; | SME2PCTS &lt;fct&gt; | SUBJID &lt;fct&gt; | SEX &lt;fct&gt; | AGE &lt;fct&gt; | DTHHRDY &lt;fct&gt; |\n",
       "|---|---|---|---|---|---|---|---|---|---|---|---|---|---|---|---|---|---|---|---|---|---|\n",
       "| GTEX.1117F.2826.SM.5GZXL | GTEX.1117F.2826.SM.5GZXL |  1 | B1 | 2 pieces, fibrocystic changes, rep ductal/lobular elements delineated |  5.80000 | Breast | breast_mammary_tissue | 0008367 |  1340 | 1008 | ⋯ | 50.2455 | 0.015023200 | 0.9943150 | NA |  0 | 50.0068 | GTEX-1117F | 2 | 60-69 |  4 |\n",
       "\n"
      ],
      "text/plain": [
       "                         SAMPID                   SMATSSCR SMCENTER\n",
       "GTEX.1117F.2826.SM.5GZXL GTEX.1117F.2826.SM.5GZXL  1       B1      \n",
       "                         SMPTHNTS                                                             \n",
       "GTEX.1117F.2826.SM.5GZXL 2 pieces, fibrocystic changes, rep ductal/lobular elements delineated\n",
       "                         SMRIN    SMTS   SMTSD                 SMUBRID SMTSISCH\n",
       "GTEX.1117F.2826.SM.5GZXL  5.80000 Breast breast_mammary_tissue 0008367  1340   \n",
       "                         SMTSPAX ⋯ SME1PCTS SMRRNART    SME1MPRT  SMNUM5CD\n",
       "GTEX.1117F.2826.SM.5GZXL 1008    ⋯ 50.2455  0.015023200 0.9943150 NA      \n",
       "                         SMDPMPRT SME2PCTS SUBJID     SEX AGE   DTHHRDY\n",
       "GTEX.1117F.2826.SM.5GZXL  0       50.0068  GTEX-1117F 2   60-69  4     "
      ]
     },
     "metadata": {},
     "output_type": "display_data"
    },
    {
     "data": {
      "text/plain": [
       "keep\n",
       "FALSE  TRUE \n",
       "17722   492 "
      ]
     },
     "metadata": {},
     "output_type": "display_data"
    },
    {
     "name": "stderr",
     "output_type": "stream",
     "text": [
      "\n",
      "TEST: how many breast_mammary_tissue samples in reduced_metadata\n",
      "17722 492\n",
      "\n",
      "TEST: number reduced_metadata breast_samples\n",
      "492\n",
      "\n",
      "TEST: number phenotype obj breast_samples\n",
      "286\n"
     ]
    },
    {
     "data": {
      "text/html": [
       "<table>\n",
       "<caption>A data.table: 1 × 80</caption>\n",
       "<thead>\n",
       "\t<tr><th scope=col>Run</th><th scope=col>analyte_type</th><th scope=col>Assay Type</th><th scope=col>AvgSpotLen</th><th scope=col>Bases</th><th scope=col>BioProject</th><th scope=col>BioSample</th><th scope=col>biospecimen_repository</th><th scope=col>biospecimen_repository_sample_id</th><th scope=col>body_site</th><th scope=col>⋯</th><th scope=col>product_part_number (exp)</th><th scope=col>product_part_number (run)</th><th scope=col>sample_barcode (exp)</th><th scope=col>sample_barcode (run)</th><th scope=col>is_technical_control</th><th scope=col>target_set (exp)</th><th scope=col>primary_disease (exp)</th><th scope=col>secondary_accessions (run)</th><th scope=col>Alignment_Provider (run)</th><th scope=col>SAMPID</th></tr>\n",
       "\t<tr><th scope=col>&lt;chr&gt;</th><th scope=col>&lt;chr&gt;</th><th scope=col>&lt;chr&gt;</th><th scope=col>&lt;int&gt;</th><th scope=col>&lt;int64&gt;</th><th scope=col>&lt;chr&gt;</th><th scope=col>&lt;chr&gt;</th><th scope=col>&lt;chr&gt;</th><th scope=col>&lt;chr&gt;</th><th scope=col>&lt;chr&gt;</th><th scope=col>⋯</th><th scope=col>&lt;chr&gt;</th><th scope=col>&lt;chr&gt;</th><th scope=col>&lt;dbl&gt;</th><th scope=col>&lt;dbl&gt;</th><th scope=col>&lt;chr&gt;</th><th scope=col>&lt;chr&gt;</th><th scope=col>&lt;chr&gt;</th><th scope=col>&lt;chr&gt;</th><th scope=col>&lt;chr&gt;</th><th scope=col>&lt;chr&gt;</th></tr>\n",
       "</thead>\n",
       "<tbody>\n",
       "\t<tr><td>SRR821498</td><td>RNA:Total RNA</td><td>RNA-Seq</td><td>152</td><td>7879119272</td><td>PRJNA75899</td><td>SAMN01994192</td><td>GTEx</td><td>GTEX-WI4N-1426-SM-3LK7H</td><td>Breast - Mammary Tissue</td><td>⋯</td><td></td><td></td><td>NA</td><td>NA</td><td></td><td></td><td></td><td></td><td></td><td>GTEX.WI4N.1426.SM.3LK7H</td></tr>\n",
       "</tbody>\n",
       "</table>\n"
      ],
      "text/latex": [
       "A data.table: 1 × 80\n",
       "\\begin{tabular}{lllllllllllllllllllll}\n",
       " Run & analyte\\_type & Assay Type & AvgSpotLen & Bases & BioProject & BioSample & biospecimen\\_repository & biospecimen\\_repository\\_sample\\_id & body\\_site & ⋯ & product\\_part\\_number (exp) & product\\_part\\_number (run) & sample\\_barcode (exp) & sample\\_barcode (run) & is\\_technical\\_control & target\\_set (exp) & primary\\_disease (exp) & secondary\\_accessions (run) & Alignment\\_Provider (run) & SAMPID\\\\\n",
       " <chr> & <chr> & <chr> & <int> & <int64> & <chr> & <chr> & <chr> & <chr> & <chr> & ⋯ & <chr> & <chr> & <dbl> & <dbl> & <chr> & <chr> & <chr> & <chr> & <chr> & <chr>\\\\\n",
       "\\hline\n",
       "\t SRR821498 & RNA:Total RNA & RNA-Seq & 152 & 7879119272 & PRJNA75899 & SAMN01994192 & GTEx & GTEX-WI4N-1426-SM-3LK7H & Breast - Mammary Tissue & ⋯ &  &  & NA & NA &  &  &  &  &  & GTEX.WI4N.1426.SM.3LK7H\\\\\n",
       "\\end{tabular}\n"
      ],
      "text/markdown": [
       "\n",
       "A data.table: 1 × 80\n",
       "\n",
       "| Run &lt;chr&gt; | analyte_type &lt;chr&gt; | Assay Type &lt;chr&gt; | AvgSpotLen &lt;int&gt; | Bases &lt;int64&gt; | BioProject &lt;chr&gt; | BioSample &lt;chr&gt; | biospecimen_repository &lt;chr&gt; | biospecimen_repository_sample_id &lt;chr&gt; | body_site &lt;chr&gt; | ⋯ ⋯ | product_part_number (exp) &lt;chr&gt; | product_part_number (run) &lt;chr&gt; | sample_barcode (exp) &lt;dbl&gt; | sample_barcode (run) &lt;dbl&gt; | is_technical_control &lt;chr&gt; | target_set (exp) &lt;chr&gt; | primary_disease (exp) &lt;chr&gt; | secondary_accessions (run) &lt;chr&gt; | Alignment_Provider (run) &lt;chr&gt; | SAMPID &lt;chr&gt; |\n",
       "|---|---|---|---|---|---|---|---|---|---|---|---|---|---|---|---|---|---|---|---|---|\n",
       "| SRR821498 | RNA:Total RNA | RNA-Seq | 152 | 7879119272 | PRJNA75899 | SAMN01994192 | GTEx | GTEX-WI4N-1426-SM-3LK7H | Breast - Mammary Tissue | ⋯ | <!----> | <!----> | NA | NA | <!----> | <!----> | <!----> | <!----> | <!----> | GTEX.WI4N.1426.SM.3LK7H |\n",
       "\n"
      ],
      "text/plain": [
       "  Run       analyte_type  Assay Type AvgSpotLen Bases      BioProject\n",
       "1 SRR821498 RNA:Total RNA RNA-Seq    152        7879119272 PRJNA75899\n",
       "  BioSample    biospecimen_repository biospecimen_repository_sample_id\n",
       "1 SAMN01994192 GTEx                   GTEX-WI4N-1426-SM-3LK7H         \n",
       "  body_site               ⋯ product_part_number (exp) product_part_number (run)\n",
       "1 Breast - Mammary Tissue ⋯                                                    \n",
       "  sample_barcode (exp) sample_barcode (run) is_technical_control\n",
       "1 NA                   NA                                       \n",
       "  target_set (exp) primary_disease (exp) secondary_accessions (run)\n",
       "1                                                                  \n",
       "  Alignment_Provider (run) SAMPID                 \n",
       "1                          GTEX.WI4N.1426.SM.3LK7H"
      ]
     },
     "metadata": {},
     "output_type": "display_data"
    }
   ],
   "source": [
    "# let's limit the phenotype object and then align the metadata file\n",
    "metadata <- data.table::fread(\"../data/SraRunTable.txt.gz\")\n",
    "metadata$SAMPID           <- gsub('-','\\\\.',metadata$'Sample Name')\n",
    "pData(reduced_obj)$SAMPID <- gsub('-','\\\\.',pData(reduced_obj)$SAMPID)\n",
    "\n",
    "message(\"\\nsize accession SraRunTable \\n\",\n",
    "        paste(dim(metadata), collapse=\" \"))\n",
    "message(\"\\nsize reduced_obj\\n\",\n",
    "        paste(dim(reduced_obj), collapse=\" \"))\n",
    "message(\"\\nsize pData(reduced_obj)\\n\",\n",
    "        paste(dim(pData(reduced_obj)), collapse=\" \"))\n",
    "rownames(pData(reduced_obj))<- pData(reduced_obj)$SAMPID\n",
    "\n",
    "# keep only those runs (as epitomized by the metadata_samples) in the phenotype set\n",
    "metadata_samples   <- as.character(metadata$SAMPID)\n",
    "phenotype_samples  <- as.character(pData(reduced_obj)$SAMPID)\n",
    "\n",
    "# any undefined (N/A) sample names? These results will be zero\n",
    "message(\"\\n any undefined (NA) sample names?\\n\",\n",
    "        paste(sum(is.na(metadata_samples)), collapse=\" \"))\n",
    "message(\"\\n any undefined (NA) sample names?\\n\",\n",
    "        paste(sum(is.na(phenotype_samples)), collapse=\" \"))\n",
    "\n",
    "keep <- phenotype_samples %in% metadata_samples\n",
    "message(\"\\nlength keep metadata samples in phenotype samples \\n\",\n",
    "        paste(length(keep), collapse = \" \"))\n",
    "message(\"\\nhow many to keep in phenotype obj\\n\",\n",
    "        paste(table(keep), collapse = \" \"))\n",
    "\n",
    "reduced_obj2        <- reduced_obj       [          ,keep==TRUE]\n",
    "pData(reduced_obj2) <- pData(reduced_obj)[keep==TRUE,          ]\n",
    "message(\"\\nsize reduced_obj2\\n\",\n",
    "        paste(dim(reduced_obj2), collapse=\" \"))\n",
    "message(\"\\nsize pData(reduced_obj2)\\n\",\n",
    "        paste(dim(pData(reduced_obj2)), collapse=\" \"))\n",
    "\n",
    "# test to make sure we don't have nonsense\n",
    "keep = pData(reduced_obj2)$SMTSD == \"breast_mammary_tissue\"\n",
    "message(\"\\nTEST: how many to keep in to have only breast_mammary_tissue\\n\",\n",
    "        paste(table(keep), collapse = \" \"))\n",
    "tobj        = reduced_obj2       [          ,keep==TRUE]\n",
    "pData(tobj) = pData(reduced_obj2)[keep==TRUE,          ]\n",
    "message(\"\\nTEST: size breast_mammary_tissue obj:tobj\\n\",\n",
    "        paste(dim(tobj), collapse=\" \"))\n",
    "message(\"\\nTEST: size phenotype object pData(tobj)\\n\",\n",
    "        paste(dim(pData(tobj)), collapse=\" \"))\n",
    "pData(tobj)[1,]\n",
    "rm(keep)\n",
    "# end test\n",
    "\n",
    "# now go the other way - make sure the metadata samples are in sync with the phenotype samples\n",
    "# note that we are now with `reduced_obj2`\n",
    "metadata_samples   <- as.character(metadata$SAMPID)\n",
    "phenotype_samples  <- as.character(pData(reduced_obj2)$SAMPID)\n",
    "message(\"\\nlength of metadata_samples\\n\",\n",
    "        paste(length(metadata_samples), collapse=\" \"))\n",
    "message(\"\\nlength of phenotype_samples\\n\",\n",
    "        paste(length(phenotype_samples), collapse=\" \"))\n",
    "message(\"\\ndimension of metadata\\n\",\n",
    "        paste(dim(metadata), collapse=\" \"))\n",
    "keep <- metadata_samples %in% phenotype_samples\n",
    "message(\"\\nlength keep phenotype samples in metadata samples \\n\",\n",
    "        paste(length(keep), collapse = \" \"))\n",
    "message(\"\\nhow many to keep in metadata samples\\n\")\n",
    "\n",
    "reduced_metadata <- metadata[keep==TRUE,]\n",
    "message(\"\\ndimension of reduced_metadata\\n\",\n",
    "        paste(dim(reduced_metadata), collapse=\" \"))\n",
    "rm(keep)\n",
    "\n",
    "# test to make sure we don't have nonsense\n",
    "keep = pData(reduced_obj2)$SMTSD== \"breast_mammary_tissue\"\n",
    "message(\"\\nTEST: how many to keep in to have only breast_mammary_tissue\\n\",\n",
    "        paste(table(keep), collapse = \" \"))\n",
    "tobj        = reduced_obj2       [          ,keep==TRUE]\n",
    "pData(tobj) = pData(reduced_obj2)[keep==TRUE,          ]\n",
    "message(\"\\nTEST: size breast_mammary_tissue obj:tobj\\n\",\n",
    "        paste(dim(tobj), collapse=\" \"))\n",
    "message(\"\\nTEST: size phenotype object pData(tobj)\\n\",\n",
    "        paste(dim(pData(tobj)), collapse=\" \"))\n",
    "pData(tobj)[1,]\n",
    "rm(keep)\n",
    "\n",
    "breast_metadata_samples   <- as.character(reduced_metadata$SAMPID)\n",
    "breast_phenotype_samples  <- as.character(pData(tobj)$SAMPID)\n",
    "keep = breast_metadata_samples %in% breast_phenotype_samples\n",
    "table(keep)\n",
    "message(\"\\nTEST: how many breast_mammary_tissue samples in reduced_metadata\\n\",\n",
    "        paste(table(keep), collapse = \" \"))\n",
    "breast_samples <- reduced_metadata[keep,]\n",
    "message(\"\\nTEST: number reduced_metadata breast_samples\\n\",\n",
    "        paste(length(breast_samples$SAMPID), collapse=\" \"))\n",
    "message(\"\\nTEST: number phenotype obj breast_samples\\n\",\n",
    "        paste(length(pData(tobj)$SAMPID), collapse=\" \"))\n",
    "breast_samples[1,]\n",
    "# end test\n"
   ]
  },
  {
   "cell_type": "markdown",
   "metadata": {},
   "source": [
    "###  Limit obj and metadata to size of the ijc and sjc columns \n",
    "\n",
    "Things are complicated and can easily lead to data disaster.\n",
    "We need to go forward and backwards with these data - and see how to have them arranged.  \n",
    "Things we know to be true:\n",
    "1. Run numbers are unique\n",
    "2. Samples (which are Donor and Tissue combined) have been sequenced more than once.\n",
    "\n",
    "We need to keep this clear as the metadata are used to sort out tissues, sex, and other factors - and these are based upon a Donor.  Relationships are as follows:\n",
    "\n",
    "* One Donor can have many tissues (one donor has as many as 54 tissues)\n",
    "* One Tissue may have many sequencing runs (One Tissue has been as of this writing sequenced as many as 3 times)\n",
    "\n",
    "The analyst must keep this information in mind as manipulations occur.\n",
    "\n",
    "Here we use `se.jc.ijc` as exemplar as well as model for all subsequent matrices.  Arrangements of `se.jc.ijc` will ripple to all other matrices because sample order is the same between all samples.\n",
    "\n",
    "Entering into this step we have for our phenotype object:\n",
    "1. reduced_obj2\n",
    "2. reduced_metadata"
   ]
  },
  {
   "cell_type": "code",
   "execution_count": 10,
   "metadata": {},
   "outputs": [
    {
     "data": {
      "text/plain": [
       "metadata_for_counts\n",
       "FALSE  TRUE \n",
       " 1653  7020 "
      ]
     },
     "metadata": {},
     "output_type": "display_data"
    },
    {
     "data": {
      "text/plain": [
       "counts_for_metadata\n",
       "FALSE  TRUE \n",
       "11194  7020 "
      ]
     },
     "metadata": {},
     "output_type": "display_data"
    },
    {
     "data": {
      "text/html": [
       "<style>\n",
       ".list-inline {list-style: none; margin:0; padding: 0}\n",
       ".list-inline>li {display: inline-block}\n",
       ".list-inline>li:not(:last-child)::after {content: \"\\00b7\"; padding: 0 .5ex}\n",
       "</style>\n",
       "<ol class=list-inline><li>42611</li><li>8673</li></ol>\n"
      ],
      "text/latex": [
       "\\begin{enumerate*}\n",
       "\\item 42611\n",
       "\\item 8673\n",
       "\\end{enumerate*}\n"
      ],
      "text/markdown": [
       "1. 42611\n",
       "2. 8673\n",
       "\n",
       "\n"
      ],
      "text/plain": [
       "[1] 42611  8673"
      ]
     },
     "metadata": {},
     "output_type": "display_data"
    },
    {
     "data": {
      "text/html": [
       "<style>\n",
       ".list-inline {list-style: none; margin:0; padding: 0}\n",
       ".list-inline>li {display: inline-block}\n",
       ".list-inline>li:not(:last-child)::after {content: \"\\00b7\"; padding: 0 .5ex}\n",
       "</style>\n",
       "<ol class=list-inline><li>18214</li><li>80</li></ol>\n"
      ],
      "text/latex": [
       "\\begin{enumerate*}\n",
       "\\item 18214\n",
       "\\item 80\n",
       "\\end{enumerate*}\n"
      ],
      "text/markdown": [
       "1. 18214\n",
       "2. 80\n",
       "\n",
       "\n"
      ],
      "text/plain": [
       "[1] 18214    80"
      ]
     },
     "metadata": {},
     "output_type": "display_data"
    },
    {
     "data": {
      "text/html": [
       "<style>\n",
       ".list-inline {list-style: none; margin:0; padding: 0}\n",
       ".list-inline>li {display: inline-block}\n",
       ".list-inline>li:not(:last-child)::after {content: \"\\00b7\"; padding: 0 .5ex}\n",
       "</style>\n",
       "<ol class=list-inline><li>'SRR821653'</li><li>'SRR821690'</li><li>'SRR821715'</li></ol>\n"
      ],
      "text/latex": [
       "\\begin{enumerate*}\n",
       "\\item 'SRR821653'\n",
       "\\item 'SRR821690'\n",
       "\\item 'SRR821715'\n",
       "\\end{enumerate*}\n"
      ],
      "text/markdown": [
       "1. 'SRR821653'\n",
       "2. 'SRR821690'\n",
       "3. 'SRR821715'\n",
       "\n",
       "\n"
      ],
      "text/plain": [
       "[1] \"SRR821653\" \"SRR821690\" \"SRR821715\""
      ]
     },
     "metadata": {},
     "output_type": "display_data"
    },
    {
     "data": {
      "text/html": [
       "<style>\n",
       ".list-inline {list-style: none; margin:0; padding: 0}\n",
       ".list-inline>li {display: inline-block}\n",
       ".list-inline>li:not(:last-child)::after {content: \"\\00b7\"; padding: 0 .5ex}\n",
       "</style>\n",
       "<ol class=list-inline><li>'SRR821653'</li><li>'SRR821690'</li><li>'SRR821715'</li></ol>\n"
      ],
      "text/latex": [
       "\\begin{enumerate*}\n",
       "\\item 'SRR821653'\n",
       "\\item 'SRR821690'\n",
       "\\item 'SRR821715'\n",
       "\\end{enumerate*}\n"
      ],
      "text/markdown": [
       "1. 'SRR821653'\n",
       "2. 'SRR821690'\n",
       "3. 'SRR821715'\n",
       "\n",
       "\n"
      ],
      "text/plain": [
       "[1] \"SRR821653\" \"SRR821690\" \"SRR821715\""
      ]
     },
     "metadata": {},
     "output_type": "display_data"
    },
    {
     "data": {
      "text/html": [
       "<style>\n",
       ".list-inline {list-style: none; margin:0; padding: 0}\n",
       ".list-inline>li {display: inline-block}\n",
       ".list-inline>li:not(:last-child)::after {content: \"\\00b7\"; padding: 0 .5ex}\n",
       "</style>\n",
       "<ol class=list-inline><li>'GTEX.WOFL.0006.SM.3TW8K'</li><li>'GTEX.NPJ8.0011.R1a.SM.33HCB'</li><li>'GTEX.OHPK.0226.SM.3MJH6'</li></ol>\n"
      ],
      "text/latex": [
       "\\begin{enumerate*}\n",
       "\\item 'GTEX.WOFL.0006.SM.3TW8K'\n",
       "\\item 'GTEX.NPJ8.0011.R1a.SM.33HCB'\n",
       "\\item 'GTEX.OHPK.0226.SM.3MJH6'\n",
       "\\end{enumerate*}\n"
      ],
      "text/markdown": [
       "1. 'GTEX.WOFL.0006.SM.3TW8K'\n",
       "2. 'GTEX.NPJ8.0011.R1a.SM.33HCB'\n",
       "3. 'GTEX.OHPK.0226.SM.3MJH6'\n",
       "\n",
       "\n"
      ],
      "text/plain": [
       "[1] \"GTEX.WOFL.0006.SM.3TW8K\"     \"GTEX.NPJ8.0011.R1a.SM.33HCB\"\n",
       "[3] \"GTEX.OHPK.0226.SM.3MJH6\"    "
      ]
     },
     "metadata": {},
     "output_type": "display_data"
    },
    {
     "data": {
      "text/html": [
       "<style>\n",
       ".list-inline {list-style: none; margin:0; padding: 0}\n",
       ".list-inline>li {display: inline-block}\n",
       ".list-inline>li:not(:last-child)::after {content: \"\\00b7\"; padding: 0 .5ex}\n",
       "</style>\n",
       "<ol class=list-inline><li>'GTEX.WOFL.0006.SM.3TW8K'</li><li>'GTEX.NPJ8.0011.R1a.SM.33HCB'</li><li>'GTEX.OHPK.0226.SM.3MJH6'</li></ol>\n"
      ],
      "text/latex": [
       "\\begin{enumerate*}\n",
       "\\item 'GTEX.WOFL.0006.SM.3TW8K'\n",
       "\\item 'GTEX.NPJ8.0011.R1a.SM.33HCB'\n",
       "\\item 'GTEX.OHPK.0226.SM.3MJH6'\n",
       "\\end{enumerate*}\n"
      ],
      "text/markdown": [
       "1. 'GTEX.WOFL.0006.SM.3TW8K'\n",
       "2. 'GTEX.NPJ8.0011.R1a.SM.33HCB'\n",
       "3. 'GTEX.OHPK.0226.SM.3MJH6'\n",
       "\n",
       "\n"
      ],
      "text/plain": [
       "[1] \"GTEX.WOFL.0006.SM.3TW8K\"     \"GTEX.NPJ8.0011.R1a.SM.33HCB\"\n",
       "[3] \"GTEX.OHPK.0226.SM.3MJH6\"    "
      ]
     },
     "metadata": {},
     "output_type": "display_data"
    },
    {
     "data": {
      "text/html": [
       "6891"
      ],
      "text/latex": [
       "6891"
      ],
      "text/markdown": [
       "6891"
      ],
      "text/plain": [
       "[1] 6891"
      ]
     },
     "metadata": {},
     "output_type": "display_data"
    },
    {
     "data": {
      "text/html": [
       "15"
      ],
      "text/latex": [
       "15"
      ],
      "text/markdown": [
       "15"
      ],
      "text/plain": [
       "[1] 15"
      ]
     },
     "metadata": {},
     "output_type": "display_data"
    },
    {
     "data": {
      "text/html": [
       "33"
      ],
      "text/latex": [
       "33"
      ],
      "text/markdown": [
       "33"
      ],
      "text/plain": [
       "[1] 33"
      ]
     },
     "metadata": {},
     "output_type": "display_data"
    },
    {
     "data": {
      "text/html": [
       "0"
      ],
      "text/latex": [
       "0"
      ],
      "text/markdown": [
       "0"
      ],
      "text/plain": [
       "[1] 0"
      ]
     },
     "metadata": {},
     "output_type": "display_data"
    },
    {
     "data": {
      "text/html": [
       "<style>\n",
       ".list-inline {list-style: none; margin:0; padding: 0}\n",
       ".list-inline>li {display: inline-block}\n",
       ".list-inline>li:not(:last-child)::after {content: \"\\00b7\"; padding: 0 .5ex}\n",
       "</style>\n",
       "<ol class=list-inline><li>42611</li><li>7020</li></ol>\n"
      ],
      "text/latex": [
       "\\begin{enumerate*}\n",
       "\\item 42611\n",
       "\\item 7020\n",
       "\\end{enumerate*}\n"
      ],
      "text/markdown": [
       "1. 42611\n",
       "2. 7020\n",
       "\n",
       "\n"
      ],
      "text/plain": [
       "[1] 42611  7020"
      ]
     },
     "metadata": {},
     "output_type": "display_data"
    }
   ],
   "source": [
    "metadata_for_counts = colnames(se.jc.ijc)%in% reduced_metadata$Run\n",
    "counts_for_metadata = reduced_metadata$Run %in% colnames(se.jc.ijc)\n",
    "table(metadata_for_counts)\n",
    "table(counts_for_metadata)\n",
    "\n",
    "counts          <- data.matrix(se.jc.ijc)\n",
    "counts_metadata <- reduced_metadata\n",
    "dim(counts)\n",
    "dim(counts_metadata)\n",
    "\n",
    "counts          <- counts         [                         ,metadata_for_counts==TRUE]\n",
    "counts_metadata <- counts_metadata[counts_for_metadata==TRUE,                         ]\n",
    "\n",
    "# now we arrange metadata and counts to be in the same order\n",
    "# Run numbers are unique, but we will replace the columns with SAMPID as metadata is by SAMPID\n",
    "i = order(colnames(counts))\n",
    "j = order(counts_metadata$Run)\n",
    "\n",
    "ose.jc.ijc       = counts[,i]\n",
    "ocounts_metadata = counts_metadata[j,]\n",
    "\n",
    "tail(colnames(ose.jc.ijc),3)\n",
    "tail(ocounts_metadata$Run,3)\n",
    "\n",
    "colnames(ose.jc.ijc) = as.character(ocounts_metadata$SAMPID)\n",
    "tail(colnames(ose.jc.ijc),3)\n",
    "tail(ocounts_metadata$SAMPID,3)\n",
    "sum(table(colnames(ose.jc.ijc))==1)\n",
    "sum(table(colnames(ose.jc.ijc))==2)\n",
    "sum(table(colnames(ose.jc.ijc))==3)\n",
    "sum(table(colnames(ose.jc.ijc))==4)\n",
    "dim(ose.jc.ijc)"
   ]
  },
  {
   "cell_type": "markdown",
   "metadata": {},
   "source": [
    "## Now extend this organization to all count matrices\n",
    "now that the data are organized and accounted for, extend to the rest of the splicing factors and their count matrices"
   ]
  },
  {
   "cell_type": "code",
   "execution_count": 11,
   "metadata": {},
   "outputs": [
    {
     "data": {
      "text/html": [
       "<table>\n",
       "<caption>A matrix: 5 × 5 of type int</caption>\n",
       "<thead>\n",
       "\t<tr><th scope=col>SRR1068808</th><th scope=col>SRR1068832</th><th scope=col>SRR1068880</th><th scope=col>SRR1068929</th><th scope=col>SRR1068953</th></tr>\n",
       "</thead>\n",
       "<tbody>\n",
       "\t<tr><td>0</td><td> 2</td><td>2</td><td>0</td><td>0</td></tr>\n",
       "\t<tr><td>0</td><td>10</td><td>0</td><td>4</td><td>4</td></tr>\n",
       "\t<tr><td>0</td><td> 0</td><td>1</td><td>0</td><td>1</td></tr>\n",
       "\t<tr><td>0</td><td> 0</td><td>2</td><td>0</td><td>1</td></tr>\n",
       "\t<tr><td>0</td><td> 0</td><td>1</td><td>0</td><td>1</td></tr>\n",
       "</tbody>\n",
       "</table>\n"
      ],
      "text/latex": [
       "A matrix: 5 × 5 of type int\n",
       "\\begin{tabular}{lllll}\n",
       " SRR1068808 & SRR1068832 & SRR1068880 & SRR1068929 & SRR1068953\\\\\n",
       "\\hline\n",
       "\t 0 &  2 & 2 & 0 & 0\\\\\n",
       "\t 0 & 10 & 0 & 4 & 4\\\\\n",
       "\t 0 &  0 & 1 & 0 & 1\\\\\n",
       "\t 0 &  0 & 2 & 0 & 1\\\\\n",
       "\t 0 &  0 & 1 & 0 & 1\\\\\n",
       "\\end{tabular}\n"
      ],
      "text/markdown": [
       "\n",
       "A matrix: 5 × 5 of type int\n",
       "\n",
       "| SRR1068808 | SRR1068832 | SRR1068880 | SRR1068929 | SRR1068953 |\n",
       "|---|---|---|---|---|\n",
       "| 0 |  2 | 2 | 0 | 0 |\n",
       "| 0 | 10 | 0 | 4 | 4 |\n",
       "| 0 |  0 | 1 | 0 | 1 |\n",
       "| 0 |  0 | 2 | 0 | 1 |\n",
       "| 0 |  0 | 1 | 0 | 1 |\n",
       "\n"
      ],
      "text/plain": [
       "     SRR1068808 SRR1068832 SRR1068880 SRR1068929 SRR1068953\n",
       "[1,] 0           2         2          0          0         \n",
       "[2,] 0          10         0          4          4         \n",
       "[3,] 0           0         1          0          1         \n",
       "[4,] 0           0         2          0          1         \n",
       "[5,] 0           0         1          0          1         "
      ]
     },
     "metadata": {},
     "output_type": "display_data"
    },
    {
     "data": {
      "text/html": [
       "<table>\n",
       "<caption>A matrix: 5 × 5 of type int</caption>\n",
       "<thead>\n",
       "\t<tr><th scope=col>SRR1068808</th><th scope=col>SRR1068832</th><th scope=col>SRR1068880</th><th scope=col>SRR1068929</th><th scope=col>SRR1068953</th></tr>\n",
       "</thead>\n",
       "<tbody>\n",
       "\t<tr><td>151</td><td>51</td><td>292</td><td>59</td><td>91</td></tr>\n",
       "\t<tr><td>  0</td><td> 0</td><td>  0</td><td> 0</td><td> 0</td></tr>\n",
       "\t<tr><td>  0</td><td> 0</td><td>  0</td><td> 0</td><td> 0</td></tr>\n",
       "\t<tr><td>  0</td><td> 0</td><td>  0</td><td> 0</td><td> 0</td></tr>\n",
       "\t<tr><td>  0</td><td> 0</td><td>  0</td><td> 0</td><td> 0</td></tr>\n",
       "</tbody>\n",
       "</table>\n"
      ],
      "text/latex": [
       "A matrix: 5 × 5 of type int\n",
       "\\begin{tabular}{lllll}\n",
       " SRR1068808 & SRR1068832 & SRR1068880 & SRR1068929 & SRR1068953\\\\\n",
       "\\hline\n",
       "\t 151 & 51 & 292 & 59 & 91\\\\\n",
       "\t   0 &  0 &   0 &  0 &  0\\\\\n",
       "\t   0 &  0 &   0 &  0 &  0\\\\\n",
       "\t   0 &  0 &   0 &  0 &  0\\\\\n",
       "\t   0 &  0 &   0 &  0 &  0\\\\\n",
       "\\end{tabular}\n"
      ],
      "text/markdown": [
       "\n",
       "A matrix: 5 × 5 of type int\n",
       "\n",
       "| SRR1068808 | SRR1068832 | SRR1068880 | SRR1068929 | SRR1068953 |\n",
       "|---|---|---|---|---|\n",
       "| 151 | 51 | 292 | 59 | 91 |\n",
       "|   0 |  0 |   0 |  0 |  0 |\n",
       "|   0 |  0 |   0 |  0 |  0 |\n",
       "|   0 |  0 |   0 |  0 |  0 |\n",
       "|   0 |  0 |   0 |  0 |  0 |\n",
       "\n"
      ],
      "text/plain": [
       "     SRR1068808 SRR1068832 SRR1068880 SRR1068929 SRR1068953\n",
       "[1,] 151        51         292        59         91        \n",
       "[2,]   0         0           0         0          0        \n",
       "[3,]   0         0           0         0          0        \n",
       "[4,]   0         0           0         0          0        \n",
       "[5,]   0         0           0         0          0        "
      ]
     },
     "metadata": {},
     "output_type": "display_data"
    },
    {
     "data": {
      "text/html": [
       "<table>\n",
       "<caption>A matrix: 5 × 5 of type int</caption>\n",
       "<thead>\n",
       "\t<tr><th scope=col>SRR1068808</th><th scope=col>SRR1068832</th><th scope=col>SRR1068880</th><th scope=col>SRR1068929</th><th scope=col>SRR1068953</th></tr>\n",
       "</thead>\n",
       "<tbody>\n",
       "\t<tr><td> 0</td><td> 0</td><td>  1</td><td> 2</td><td> 0</td></tr>\n",
       "\t<tr><td> 0</td><td> 0</td><td>  0</td><td> 0</td><td> 0</td></tr>\n",
       "\t<tr><td> 0</td><td> 0</td><td>  0</td><td> 1</td><td> 0</td></tr>\n",
       "\t<tr><td>14</td><td> 3</td><td>  4</td><td> 3</td><td>11</td></tr>\n",
       "\t<tr><td>67</td><td>10</td><td>167</td><td>26</td><td>31</td></tr>\n",
       "</tbody>\n",
       "</table>\n"
      ],
      "text/latex": [
       "A matrix: 5 × 5 of type int\n",
       "\\begin{tabular}{lllll}\n",
       " SRR1068808 & SRR1068832 & SRR1068880 & SRR1068929 & SRR1068953\\\\\n",
       "\\hline\n",
       "\t  0 &  0 &   1 &  2 &  0\\\\\n",
       "\t  0 &  0 &   0 &  0 &  0\\\\\n",
       "\t  0 &  0 &   0 &  1 &  0\\\\\n",
       "\t 14 &  3 &   4 &  3 & 11\\\\\n",
       "\t 67 & 10 & 167 & 26 & 31\\\\\n",
       "\\end{tabular}\n"
      ],
      "text/markdown": [
       "\n",
       "A matrix: 5 × 5 of type int\n",
       "\n",
       "| SRR1068808 | SRR1068832 | SRR1068880 | SRR1068929 | SRR1068953 |\n",
       "|---|---|---|---|---|\n",
       "|  0 |  0 |   1 |  2 |  0 |\n",
       "|  0 |  0 |   0 |  0 |  0 |\n",
       "|  0 |  0 |   0 |  1 |  0 |\n",
       "| 14 |  3 |   4 |  3 | 11 |\n",
       "| 67 | 10 | 167 | 26 | 31 |\n",
       "\n"
      ],
      "text/plain": [
       "     SRR1068808 SRR1068832 SRR1068880 SRR1068929 SRR1068953\n",
       "[1,]  0          0           1         2          0        \n",
       "[2,]  0          0           0         0          0        \n",
       "[3,]  0          0           0         1          0        \n",
       "[4,] 14          3           4         3         11        \n",
       "[5,] 67         10         167        26         31        "
      ]
     },
     "metadata": {},
     "output_type": "display_data"
    },
    {
     "data": {
      "text/html": [
       "<table>\n",
       "<caption>A matrix: 5 × 5 of type int</caption>\n",
       "<thead>\n",
       "\t<tr><th scope=col>SRR1068808</th><th scope=col>SRR1068832</th><th scope=col>SRR1068880</th><th scope=col>SRR1068929</th><th scope=col>SRR1068953</th></tr>\n",
       "</thead>\n",
       "<tbody>\n",
       "\t<tr><td>79</td><td>30</td><td>293</td><td>120</td><td>107</td></tr>\n",
       "\t<tr><td> 0</td><td> 0</td><td>  0</td><td>  0</td><td>  0</td></tr>\n",
       "\t<tr><td> 0</td><td> 0</td><td>  0</td><td>  0</td><td>  0</td></tr>\n",
       "\t<tr><td>13</td><td>12</td><td> 10</td><td>  8</td><td> 18</td></tr>\n",
       "\t<tr><td> 0</td><td> 0</td><td>  0</td><td>  0</td><td>  0</td></tr>\n",
       "</tbody>\n",
       "</table>\n"
      ],
      "text/latex": [
       "A matrix: 5 × 5 of type int\n",
       "\\begin{tabular}{lllll}\n",
       " SRR1068808 & SRR1068832 & SRR1068880 & SRR1068929 & SRR1068953\\\\\n",
       "\\hline\n",
       "\t 79 & 30 & 293 & 120 & 107\\\\\n",
       "\t  0 &  0 &   0 &   0 &   0\\\\\n",
       "\t  0 &  0 &   0 &   0 &   0\\\\\n",
       "\t 13 & 12 &  10 &   8 &  18\\\\\n",
       "\t  0 &  0 &   0 &   0 &   0\\\\\n",
       "\\end{tabular}\n"
      ],
      "text/markdown": [
       "\n",
       "A matrix: 5 × 5 of type int\n",
       "\n",
       "| SRR1068808 | SRR1068832 | SRR1068880 | SRR1068929 | SRR1068953 |\n",
       "|---|---|---|---|---|\n",
       "| 79 | 30 | 293 | 120 | 107 |\n",
       "|  0 |  0 |   0 |   0 |   0 |\n",
       "|  0 |  0 |   0 |   0 |   0 |\n",
       "| 13 | 12 |  10 |   8 |  18 |\n",
       "|  0 |  0 |   0 |   0 |   0 |\n",
       "\n"
      ],
      "text/plain": [
       "     SRR1068808 SRR1068832 SRR1068880 SRR1068929 SRR1068953\n",
       "[1,] 79         30         293        120        107       \n",
       "[2,]  0          0           0          0          0       \n",
       "[3,]  0          0           0          0          0       \n",
       "[4,] 13         12          10          8         18       \n",
       "[5,]  0          0           0          0          0       "
      ]
     },
     "metadata": {},
     "output_type": "display_data"
    },
    {
     "data": {
      "text/html": [
       "<table>\n",
       "<caption>A matrix: 5 × 5 of type int</caption>\n",
       "<thead>\n",
       "\t<tr><th scope=col>SRR1068808</th><th scope=col>SRR1068832</th><th scope=col>SRR1068880</th><th scope=col>SRR1068929</th><th scope=col>SRR1068953</th></tr>\n",
       "</thead>\n",
       "<tbody>\n",
       "\t<tr><td>5</td><td>3</td><td>4</td><td>1</td><td> 4</td></tr>\n",
       "\t<tr><td>0</td><td>0</td><td>0</td><td>1</td><td> 0</td></tr>\n",
       "\t<tr><td>0</td><td>0</td><td>0</td><td>0</td><td> 0</td></tr>\n",
       "\t<tr><td>1</td><td>0</td><td>0</td><td>3</td><td> 2</td></tr>\n",
       "\t<tr><td>0</td><td>0</td><td>0</td><td>7</td><td>32</td></tr>\n",
       "</tbody>\n",
       "</table>\n"
      ],
      "text/latex": [
       "A matrix: 5 × 5 of type int\n",
       "\\begin{tabular}{lllll}\n",
       " SRR1068808 & SRR1068832 & SRR1068880 & SRR1068929 & SRR1068953\\\\\n",
       "\\hline\n",
       "\t 5 & 3 & 4 & 1 &  4\\\\\n",
       "\t 0 & 0 & 0 & 1 &  0\\\\\n",
       "\t 0 & 0 & 0 & 0 &  0\\\\\n",
       "\t 1 & 0 & 0 & 3 &  2\\\\\n",
       "\t 0 & 0 & 0 & 7 & 32\\\\\n",
       "\\end{tabular}\n"
      ],
      "text/markdown": [
       "\n",
       "A matrix: 5 × 5 of type int\n",
       "\n",
       "| SRR1068808 | SRR1068832 | SRR1068880 | SRR1068929 | SRR1068953 |\n",
       "|---|---|---|---|---|\n",
       "| 5 | 3 | 4 | 1 |  4 |\n",
       "| 0 | 0 | 0 | 1 |  0 |\n",
       "| 0 | 0 | 0 | 0 |  0 |\n",
       "| 1 | 0 | 0 | 3 |  2 |\n",
       "| 0 | 0 | 0 | 7 | 32 |\n",
       "\n"
      ],
      "text/plain": [
       "     SRR1068808 SRR1068832 SRR1068880 SRR1068929 SRR1068953\n",
       "[1,] 5          3          4          1           4        \n",
       "[2,] 0          0          0          1           0        \n",
       "[3,] 0          0          0          0           0        \n",
       "[4,] 1          0          0          3           2        \n",
       "[5,] 0          0          0          7          32        "
      ]
     },
     "metadata": {},
     "output_type": "display_data"
    },
    {
     "data": {
      "text/html": [
       "<table>\n",
       "<caption>A matrix: 5 × 5 of type int</caption>\n",
       "<thead>\n",
       "\t<tr><th scope=col>SRR1068808</th><th scope=col>SRR1068832</th><th scope=col>SRR1068880</th><th scope=col>SRR1068929</th><th scope=col>SRR1068953</th></tr>\n",
       "</thead>\n",
       "<tbody>\n",
       "\t<tr><td>36</td><td>7</td><td>10</td><td>15</td><td> 1</td></tr>\n",
       "\t<tr><td> 0</td><td>4</td><td> 1</td><td> 2</td><td> 2</td></tr>\n",
       "\t<tr><td> 0</td><td>0</td><td> 0</td><td> 0</td><td> 0</td></tr>\n",
       "\t<tr><td> 0</td><td>2</td><td> 1</td><td> 0</td><td> 0</td></tr>\n",
       "\t<tr><td> 4</td><td>8</td><td> 2</td><td>25</td><td>74</td></tr>\n",
       "</tbody>\n",
       "</table>\n"
      ],
      "text/latex": [
       "A matrix: 5 × 5 of type int\n",
       "\\begin{tabular}{lllll}\n",
       " SRR1068808 & SRR1068832 & SRR1068880 & SRR1068929 & SRR1068953\\\\\n",
       "\\hline\n",
       "\t 36 & 7 & 10 & 15 &  1\\\\\n",
       "\t  0 & 4 &  1 &  2 &  2\\\\\n",
       "\t  0 & 0 &  0 &  0 &  0\\\\\n",
       "\t  0 & 2 &  1 &  0 &  0\\\\\n",
       "\t  4 & 8 &  2 & 25 & 74\\\\\n",
       "\\end{tabular}\n"
      ],
      "text/markdown": [
       "\n",
       "A matrix: 5 × 5 of type int\n",
       "\n",
       "| SRR1068808 | SRR1068832 | SRR1068880 | SRR1068929 | SRR1068953 |\n",
       "|---|---|---|---|---|\n",
       "| 36 | 7 | 10 | 15 |  1 |\n",
       "|  0 | 4 |  1 |  2 |  2 |\n",
       "|  0 | 0 |  0 |  0 |  0 |\n",
       "|  0 | 2 |  1 |  0 |  0 |\n",
       "|  4 | 8 |  2 | 25 | 74 |\n",
       "\n"
      ],
      "text/plain": [
       "     SRR1068808 SRR1068832 SRR1068880 SRR1068929 SRR1068953\n",
       "[1,] 36         7          10         15          1        \n",
       "[2,]  0         4           1          2          2        \n",
       "[3,]  0         0           0          0          0        \n",
       "[4,]  0         2           1          0          0        \n",
       "[5,]  4         8           2         25         74        "
      ]
     },
     "metadata": {},
     "output_type": "display_data"
    },
    {
     "data": {
      "text/html": [
       "<table>\n",
       "<caption>A matrix: 5 × 5 of type int</caption>\n",
       "<thead>\n",
       "\t<tr><th scope=col>SRR1068808</th><th scope=col>SRR1068832</th><th scope=col>SRR1068880</th><th scope=col>SRR1068929</th><th scope=col>SRR1068953</th></tr>\n",
       "</thead>\n",
       "<tbody>\n",
       "\t<tr><td> 0</td><td>  5</td><td> 0</td><td> 1</td><td>  1</td></tr>\n",
       "\t<tr><td> 0</td><td>  1</td><td> 1</td><td> 0</td><td>  0</td></tr>\n",
       "\t<tr><td> 0</td><td>  0</td><td> 2</td><td> 0</td><td>  1</td></tr>\n",
       "\t<tr><td> 0</td><td>  4</td><td> 7</td><td> 4</td><td>  2</td></tr>\n",
       "\t<tr><td>64</td><td>113</td><td>43</td><td>40</td><td>247</td></tr>\n",
       "</tbody>\n",
       "</table>\n"
      ],
      "text/latex": [
       "A matrix: 5 × 5 of type int\n",
       "\\begin{tabular}{lllll}\n",
       " SRR1068808 & SRR1068832 & SRR1068880 & SRR1068929 & SRR1068953\\\\\n",
       "\\hline\n",
       "\t  0 &   5 &  0 &  1 &   1\\\\\n",
       "\t  0 &   1 &  1 &  0 &   0\\\\\n",
       "\t  0 &   0 &  2 &  0 &   1\\\\\n",
       "\t  0 &   4 &  7 &  4 &   2\\\\\n",
       "\t 64 & 113 & 43 & 40 & 247\\\\\n",
       "\\end{tabular}\n"
      ],
      "text/markdown": [
       "\n",
       "A matrix: 5 × 5 of type int\n",
       "\n",
       "| SRR1068808 | SRR1068832 | SRR1068880 | SRR1068929 | SRR1068953 |\n",
       "|---|---|---|---|---|\n",
       "|  0 |   5 |  0 |  1 |   1 |\n",
       "|  0 |   1 |  1 |  0 |   0 |\n",
       "|  0 |   0 |  2 |  0 |   1 |\n",
       "|  0 |   4 |  7 |  4 |   2 |\n",
       "| 64 | 113 | 43 | 40 | 247 |\n",
       "\n"
      ],
      "text/plain": [
       "     SRR1068808 SRR1068832 SRR1068880 SRR1068929 SRR1068953\n",
       "[1,]  0           5         0          1           1       \n",
       "[2,]  0           1         1          0           0       \n",
       "[3,]  0           0         2          0           1       \n",
       "[4,]  0           4         7          4           2       \n",
       "[5,] 64         113        43         40         247       "
      ]
     },
     "metadata": {},
     "output_type": "display_data"
    },
    {
     "data": {
      "text/html": [
       "<table>\n",
       "<caption>A matrix: 5 × 5 of type int</caption>\n",
       "<thead>\n",
       "\t<tr><th scope=col>SRR1068808</th><th scope=col>SRR1068832</th><th scope=col>SRR1068880</th><th scope=col>SRR1068929</th><th scope=col>SRR1068953</th></tr>\n",
       "</thead>\n",
       "<tbody>\n",
       "\t<tr><td> 0</td><td> 0</td><td>  0</td><td> 1</td><td>  1</td></tr>\n",
       "\t<tr><td> 0</td><td> 0</td><td>  0</td><td> 0</td><td>  0</td></tr>\n",
       "\t<tr><td> 0</td><td> 0</td><td>  0</td><td> 0</td><td>  0</td></tr>\n",
       "\t<tr><td>98</td><td>25</td><td>150</td><td>64</td><td> 37</td></tr>\n",
       "\t<tr><td>11</td><td>34</td><td> 56</td><td>38</td><td>125</td></tr>\n",
       "</tbody>\n",
       "</table>\n"
      ],
      "text/latex": [
       "A matrix: 5 × 5 of type int\n",
       "\\begin{tabular}{lllll}\n",
       " SRR1068808 & SRR1068832 & SRR1068880 & SRR1068929 & SRR1068953\\\\\n",
       "\\hline\n",
       "\t  0 &  0 &   0 &  1 &   1\\\\\n",
       "\t  0 &  0 &   0 &  0 &   0\\\\\n",
       "\t  0 &  0 &   0 &  0 &   0\\\\\n",
       "\t 98 & 25 & 150 & 64 &  37\\\\\n",
       "\t 11 & 34 &  56 & 38 & 125\\\\\n",
       "\\end{tabular}\n"
      ],
      "text/markdown": [
       "\n",
       "A matrix: 5 × 5 of type int\n",
       "\n",
       "| SRR1068808 | SRR1068832 | SRR1068880 | SRR1068929 | SRR1068953 |\n",
       "|---|---|---|---|---|\n",
       "|  0 |  0 |   0 |  1 |   1 |\n",
       "|  0 |  0 |   0 |  0 |   0 |\n",
       "|  0 |  0 |   0 |  0 |   0 |\n",
       "| 98 | 25 | 150 | 64 |  37 |\n",
       "| 11 | 34 |  56 | 38 | 125 |\n",
       "\n"
      ],
      "text/plain": [
       "     SRR1068808 SRR1068832 SRR1068880 SRR1068929 SRR1068953\n",
       "[1,]  0          0           0         1           1       \n",
       "[2,]  0          0           0         0           0       \n",
       "[3,]  0          0           0         0           0       \n",
       "[4,] 98         25         150        64          37       \n",
       "[5,] 11         34          56        38         125       "
      ]
     },
     "metadata": {},
     "output_type": "display_data"
    },
    {
     "data": {
      "text/html": [
       "<table>\n",
       "<caption>A matrix: 5 × 5 of type int</caption>\n",
       "<thead>\n",
       "\t<tr><th scope=col>SRR1068808</th><th scope=col>SRR1068832</th><th scope=col>SRR1068880</th><th scope=col>SRR1068929</th><th scope=col>SRR1068953</th></tr>\n",
       "</thead>\n",
       "<tbody>\n",
       "\t<tr><td>  0</td><td>  0</td><td>  1</td><td>  0</td><td>  0</td></tr>\n",
       "\t<tr><td>247</td><td>103</td><td>494</td><td>145</td><td>145</td></tr>\n",
       "\t<tr><td>  0</td><td>  1</td><td>  0</td><td>  0</td><td>  1</td></tr>\n",
       "\t<tr><td>  1</td><td>  1</td><td>  0</td><td>  0</td><td>  1</td></tr>\n",
       "\t<tr><td>  0</td><td>  2</td><td>  6</td><td>  1</td><td>  1</td></tr>\n",
       "</tbody>\n",
       "</table>\n"
      ],
      "text/latex": [
       "A matrix: 5 × 5 of type int\n",
       "\\begin{tabular}{lllll}\n",
       " SRR1068808 & SRR1068832 & SRR1068880 & SRR1068929 & SRR1068953\\\\\n",
       "\\hline\n",
       "\t   0 &   0 &   1 &   0 &   0\\\\\n",
       "\t 247 & 103 & 494 & 145 & 145\\\\\n",
       "\t   0 &   1 &   0 &   0 &   1\\\\\n",
       "\t   1 &   1 &   0 &   0 &   1\\\\\n",
       "\t   0 &   2 &   6 &   1 &   1\\\\\n",
       "\\end{tabular}\n"
      ],
      "text/markdown": [
       "\n",
       "A matrix: 5 × 5 of type int\n",
       "\n",
       "| SRR1068808 | SRR1068832 | SRR1068880 | SRR1068929 | SRR1068953 |\n",
       "|---|---|---|---|---|\n",
       "|   0 |   0 |   1 |   0 |   0 |\n",
       "| 247 | 103 | 494 | 145 | 145 |\n",
       "|   0 |   1 |   0 |   0 |   1 |\n",
       "|   1 |   1 |   0 |   0 |   1 |\n",
       "|   0 |   2 |   6 |   1 |   1 |\n",
       "\n"
      ],
      "text/plain": [
       "     SRR1068808 SRR1068832 SRR1068880 SRR1068929 SRR1068953\n",
       "[1,]   0          0          1          0          0       \n",
       "[2,] 247        103        494        145        145       \n",
       "[3,]   0          1          0          0          1       \n",
       "[4,]   1          1          0          0          1       \n",
       "[5,]   0          2          6          1          1       "
      ]
     },
     "metadata": {},
     "output_type": "display_data"
    },
    {
     "data": {
      "text/html": [
       "<table>\n",
       "<caption>A matrix: 5 × 5 of type int</caption>\n",
       "<thead>\n",
       "\t<tr><th scope=col>SRR1068808</th><th scope=col>SRR1068832</th><th scope=col>SRR1068880</th><th scope=col>SRR1068929</th><th scope=col>SRR1068953</th></tr>\n",
       "</thead>\n",
       "<tbody>\n",
       "\t<tr><td>0</td><td>1</td><td>6</td><td>1</td><td>0</td></tr>\n",
       "\t<tr><td>0</td><td>0</td><td>0</td><td>0</td><td>1</td></tr>\n",
       "\t<tr><td>0</td><td>0</td><td>0</td><td>0</td><td>0</td></tr>\n",
       "\t<tr><td>0</td><td>0</td><td>0</td><td>0</td><td>0</td></tr>\n",
       "\t<tr><td>5</td><td>3</td><td>4</td><td>0</td><td>3</td></tr>\n",
       "</tbody>\n",
       "</table>\n"
      ],
      "text/latex": [
       "A matrix: 5 × 5 of type int\n",
       "\\begin{tabular}{lllll}\n",
       " SRR1068808 & SRR1068832 & SRR1068880 & SRR1068929 & SRR1068953\\\\\n",
       "\\hline\n",
       "\t 0 & 1 & 6 & 1 & 0\\\\\n",
       "\t 0 & 0 & 0 & 0 & 1\\\\\n",
       "\t 0 & 0 & 0 & 0 & 0\\\\\n",
       "\t 0 & 0 & 0 & 0 & 0\\\\\n",
       "\t 5 & 3 & 4 & 0 & 3\\\\\n",
       "\\end{tabular}\n"
      ],
      "text/markdown": [
       "\n",
       "A matrix: 5 × 5 of type int\n",
       "\n",
       "| SRR1068808 | SRR1068832 | SRR1068880 | SRR1068929 | SRR1068953 |\n",
       "|---|---|---|---|---|\n",
       "| 0 | 1 | 6 | 1 | 0 |\n",
       "| 0 | 0 | 0 | 0 | 1 |\n",
       "| 0 | 0 | 0 | 0 | 0 |\n",
       "| 0 | 0 | 0 | 0 | 0 |\n",
       "| 5 | 3 | 4 | 0 | 3 |\n",
       "\n"
      ],
      "text/plain": [
       "     SRR1068808 SRR1068832 SRR1068880 SRR1068929 SRR1068953\n",
       "[1,] 0          1          6          1          0         \n",
       "[2,] 0          0          0          0          1         \n",
       "[3,] 0          0          0          0          0         \n",
       "[4,] 0          0          0          0          0         \n",
       "[5,] 5          3          4          0          3         "
      ]
     },
     "metadata": {},
     "output_type": "display_data"
    },
    {
     "data": {
      "text/html": [
       "<style>\n",
       ".list-inline {list-style: none; margin:0; padding: 0}\n",
       ".list-inline>li {display: inline-block}\n",
       ".list-inline>li:not(:last-child)::after {content: \"\\00b7\"; padding: 0 .5ex}\n",
       "</style>\n",
       "<ol class=list-inline><li>'GTEX.WOFL.0006.SM.3TW8K'</li><li>'GTEX.NPJ8.0011.R1a.SM.33HCB'</li><li>'GTEX.OHPK.0226.SM.3MJH6'</li></ol>\n"
      ],
      "text/latex": [
       "\\begin{enumerate*}\n",
       "\\item 'GTEX.WOFL.0006.SM.3TW8K'\n",
       "\\item 'GTEX.NPJ8.0011.R1a.SM.33HCB'\n",
       "\\item 'GTEX.OHPK.0226.SM.3MJH6'\n",
       "\\end{enumerate*}\n"
      ],
      "text/markdown": [
       "1. 'GTEX.WOFL.0006.SM.3TW8K'\n",
       "2. 'GTEX.NPJ8.0011.R1a.SM.33HCB'\n",
       "3. 'GTEX.OHPK.0226.SM.3MJH6'\n",
       "\n",
       "\n"
      ],
      "text/plain": [
       "[1] \"GTEX.WOFL.0006.SM.3TW8K\"     \"GTEX.NPJ8.0011.R1a.SM.33HCB\"\n",
       "[3] \"GTEX.OHPK.0226.SM.3MJH6\"    "
      ]
     },
     "metadata": {},
     "output_type": "display_data"
    },
    {
     "data": {
      "text/html": [
       "<style>\n",
       ".list-inline {list-style: none; margin:0; padding: 0}\n",
       ".list-inline>li {display: inline-block}\n",
       ".list-inline>li:not(:last-child)::after {content: \"\\00b7\"; padding: 0 .5ex}\n",
       "</style>\n",
       "<ol class=list-inline><li>'GTEX.WOFL.0006.SM.3TW8K'</li><li>'GTEX.NPJ8.0011.R1a.SM.33HCB'</li><li>'GTEX.OHPK.0226.SM.3MJH6'</li></ol>\n"
      ],
      "text/latex": [
       "\\begin{enumerate*}\n",
       "\\item 'GTEX.WOFL.0006.SM.3TW8K'\n",
       "\\item 'GTEX.NPJ8.0011.R1a.SM.33HCB'\n",
       "\\item 'GTEX.OHPK.0226.SM.3MJH6'\n",
       "\\end{enumerate*}\n"
      ],
      "text/markdown": [
       "1. 'GTEX.WOFL.0006.SM.3TW8K'\n",
       "2. 'GTEX.NPJ8.0011.R1a.SM.33HCB'\n",
       "3. 'GTEX.OHPK.0226.SM.3MJH6'\n",
       "\n",
       "\n"
      ],
      "text/plain": [
       "[1] \"GTEX.WOFL.0006.SM.3TW8K\"     \"GTEX.NPJ8.0011.R1a.SM.33HCB\"\n",
       "[3] \"GTEX.OHPK.0226.SM.3MJH6\"    "
      ]
     },
     "metadata": {},
     "output_type": "display_data"
    },
    {
     "data": {
      "text/html": [
       "<style>\n",
       ".list-inline {list-style: none; margin:0; padding: 0}\n",
       ".list-inline>li {display: inline-block}\n",
       ".list-inline>li:not(:last-child)::after {content: \"\\00b7\"; padding: 0 .5ex}\n",
       "</style>\n",
       "<ol class=list-inline><li>'GTEX.WOFL.0006.SM.3TW8K'</li><li>'GTEX.NPJ8.0011.R1a.SM.33HCB'</li><li>'GTEX.OHPK.0226.SM.3MJH6'</li></ol>\n"
      ],
      "text/latex": [
       "\\begin{enumerate*}\n",
       "\\item 'GTEX.WOFL.0006.SM.3TW8K'\n",
       "\\item 'GTEX.NPJ8.0011.R1a.SM.33HCB'\n",
       "\\item 'GTEX.OHPK.0226.SM.3MJH6'\n",
       "\\end{enumerate*}\n"
      ],
      "text/markdown": [
       "1. 'GTEX.WOFL.0006.SM.3TW8K'\n",
       "2. 'GTEX.NPJ8.0011.R1a.SM.33HCB'\n",
       "3. 'GTEX.OHPK.0226.SM.3MJH6'\n",
       "\n",
       "\n"
      ],
      "text/plain": [
       "[1] \"GTEX.WOFL.0006.SM.3TW8K\"     \"GTEX.NPJ8.0011.R1a.SM.33HCB\"\n",
       "[3] \"GTEX.OHPK.0226.SM.3MJH6\"    "
      ]
     },
     "metadata": {},
     "output_type": "display_data"
    },
    {
     "data": {
      "text/html": [
       "<style>\n",
       ".list-inline {list-style: none; margin:0; padding: 0}\n",
       ".list-inline>li {display: inline-block}\n",
       ".list-inline>li:not(:last-child)::after {content: \"\\00b7\"; padding: 0 .5ex}\n",
       "</style>\n",
       "<ol class=list-inline><li>'GTEX.WOFL.0006.SM.3TW8K'</li><li>'GTEX.NPJ8.0011.R1a.SM.33HCB'</li><li>'GTEX.OHPK.0226.SM.3MJH6'</li></ol>\n"
      ],
      "text/latex": [
       "\\begin{enumerate*}\n",
       "\\item 'GTEX.WOFL.0006.SM.3TW8K'\n",
       "\\item 'GTEX.NPJ8.0011.R1a.SM.33HCB'\n",
       "\\item 'GTEX.OHPK.0226.SM.3MJH6'\n",
       "\\end{enumerate*}\n"
      ],
      "text/markdown": [
       "1. 'GTEX.WOFL.0006.SM.3TW8K'\n",
       "2. 'GTEX.NPJ8.0011.R1a.SM.33HCB'\n",
       "3. 'GTEX.OHPK.0226.SM.3MJH6'\n",
       "\n",
       "\n"
      ],
      "text/plain": [
       "[1] \"GTEX.WOFL.0006.SM.3TW8K\"     \"GTEX.NPJ8.0011.R1a.SM.33HCB\"\n",
       "[3] \"GTEX.OHPK.0226.SM.3MJH6\"    "
      ]
     },
     "metadata": {},
     "output_type": "display_data"
    },
    {
     "data": {
      "text/html": [
       "<style>\n",
       ".list-inline {list-style: none; margin:0; padding: 0}\n",
       ".list-inline>li {display: inline-block}\n",
       ".list-inline>li:not(:last-child)::after {content: \"\\00b7\"; padding: 0 .5ex}\n",
       "</style>\n",
       "<ol class=list-inline><li>'GTEX.WOFL.0006.SM.3TW8K'</li><li>'GTEX.NPJ8.0011.R1a.SM.33HCB'</li><li>'GTEX.OHPK.0226.SM.3MJH6'</li></ol>\n"
      ],
      "text/latex": [
       "\\begin{enumerate*}\n",
       "\\item 'GTEX.WOFL.0006.SM.3TW8K'\n",
       "\\item 'GTEX.NPJ8.0011.R1a.SM.33HCB'\n",
       "\\item 'GTEX.OHPK.0226.SM.3MJH6'\n",
       "\\end{enumerate*}\n"
      ],
      "text/markdown": [
       "1. 'GTEX.WOFL.0006.SM.3TW8K'\n",
       "2. 'GTEX.NPJ8.0011.R1a.SM.33HCB'\n",
       "3. 'GTEX.OHPK.0226.SM.3MJH6'\n",
       "\n",
       "\n"
      ],
      "text/plain": [
       "[1] \"GTEX.WOFL.0006.SM.3TW8K\"     \"GTEX.NPJ8.0011.R1a.SM.33HCB\"\n",
       "[3] \"GTEX.OHPK.0226.SM.3MJH6\"    "
      ]
     },
     "metadata": {},
     "output_type": "display_data"
    },
    {
     "data": {
      "text/html": [
       "<style>\n",
       ".list-inline {list-style: none; margin:0; padding: 0}\n",
       ".list-inline>li {display: inline-block}\n",
       ".list-inline>li:not(:last-child)::after {content: \"\\00b7\"; padding: 0 .5ex}\n",
       "</style>\n",
       "<ol class=list-inline><li>'GTEX.WOFL.0006.SM.3TW8K'</li><li>'GTEX.NPJ8.0011.R1a.SM.33HCB'</li><li>'GTEX.OHPK.0226.SM.3MJH6'</li></ol>\n"
      ],
      "text/latex": [
       "\\begin{enumerate*}\n",
       "\\item 'GTEX.WOFL.0006.SM.3TW8K'\n",
       "\\item 'GTEX.NPJ8.0011.R1a.SM.33HCB'\n",
       "\\item 'GTEX.OHPK.0226.SM.3MJH6'\n",
       "\\end{enumerate*}\n"
      ],
      "text/markdown": [
       "1. 'GTEX.WOFL.0006.SM.3TW8K'\n",
       "2. 'GTEX.NPJ8.0011.R1a.SM.33HCB'\n",
       "3. 'GTEX.OHPK.0226.SM.3MJH6'\n",
       "\n",
       "\n"
      ],
      "text/plain": [
       "[1] \"GTEX.WOFL.0006.SM.3TW8K\"     \"GTEX.NPJ8.0011.R1a.SM.33HCB\"\n",
       "[3] \"GTEX.OHPK.0226.SM.3MJH6\"    "
      ]
     },
     "metadata": {},
     "output_type": "display_data"
    },
    {
     "data": {
      "text/html": [
       "<style>\n",
       ".list-inline {list-style: none; margin:0; padding: 0}\n",
       ".list-inline>li {display: inline-block}\n",
       ".list-inline>li:not(:last-child)::after {content: \"\\00b7\"; padding: 0 .5ex}\n",
       "</style>\n",
       "<ol class=list-inline><li>'GTEX.WOFL.0006.SM.3TW8K'</li><li>'GTEX.NPJ8.0011.R1a.SM.33HCB'</li><li>'GTEX.OHPK.0226.SM.3MJH6'</li></ol>\n"
      ],
      "text/latex": [
       "\\begin{enumerate*}\n",
       "\\item 'GTEX.WOFL.0006.SM.3TW8K'\n",
       "\\item 'GTEX.NPJ8.0011.R1a.SM.33HCB'\n",
       "\\item 'GTEX.OHPK.0226.SM.3MJH6'\n",
       "\\end{enumerate*}\n"
      ],
      "text/markdown": [
       "1. 'GTEX.WOFL.0006.SM.3TW8K'\n",
       "2. 'GTEX.NPJ8.0011.R1a.SM.33HCB'\n",
       "3. 'GTEX.OHPK.0226.SM.3MJH6'\n",
       "\n",
       "\n"
      ],
      "text/plain": [
       "[1] \"GTEX.WOFL.0006.SM.3TW8K\"     \"GTEX.NPJ8.0011.R1a.SM.33HCB\"\n",
       "[3] \"GTEX.OHPK.0226.SM.3MJH6\"    "
      ]
     },
     "metadata": {},
     "output_type": "display_data"
    },
    {
     "data": {
      "text/html": [
       "<style>\n",
       ".list-inline {list-style: none; margin:0; padding: 0}\n",
       ".list-inline>li {display: inline-block}\n",
       ".list-inline>li:not(:last-child)::after {content: \"\\00b7\"; padding: 0 .5ex}\n",
       "</style>\n",
       "<ol class=list-inline><li>'GTEX.WOFL.0006.SM.3TW8K'</li><li>'GTEX.NPJ8.0011.R1a.SM.33HCB'</li><li>'GTEX.OHPK.0226.SM.3MJH6'</li></ol>\n"
      ],
      "text/latex": [
       "\\begin{enumerate*}\n",
       "\\item 'GTEX.WOFL.0006.SM.3TW8K'\n",
       "\\item 'GTEX.NPJ8.0011.R1a.SM.33HCB'\n",
       "\\item 'GTEX.OHPK.0226.SM.3MJH6'\n",
       "\\end{enumerate*}\n"
      ],
      "text/markdown": [
       "1. 'GTEX.WOFL.0006.SM.3TW8K'\n",
       "2. 'GTEX.NPJ8.0011.R1a.SM.33HCB'\n",
       "3. 'GTEX.OHPK.0226.SM.3MJH6'\n",
       "\n",
       "\n"
      ],
      "text/plain": [
       "[1] \"GTEX.WOFL.0006.SM.3TW8K\"     \"GTEX.NPJ8.0011.R1a.SM.33HCB\"\n",
       "[3] \"GTEX.OHPK.0226.SM.3MJH6\"    "
      ]
     },
     "metadata": {},
     "output_type": "display_data"
    },
    {
     "data": {
      "text/html": [
       "<style>\n",
       ".list-inline {list-style: none; margin:0; padding: 0}\n",
       ".list-inline>li {display: inline-block}\n",
       ".list-inline>li:not(:last-child)::after {content: \"\\00b7\"; padding: 0 .5ex}\n",
       "</style>\n",
       "<ol class=list-inline><li>'GTEX.WOFL.0006.SM.3TW8K'</li><li>'GTEX.NPJ8.0011.R1a.SM.33HCB'</li><li>'GTEX.OHPK.0226.SM.3MJH6'</li></ol>\n"
      ],
      "text/latex": [
       "\\begin{enumerate*}\n",
       "\\item 'GTEX.WOFL.0006.SM.3TW8K'\n",
       "\\item 'GTEX.NPJ8.0011.R1a.SM.33HCB'\n",
       "\\item 'GTEX.OHPK.0226.SM.3MJH6'\n",
       "\\end{enumerate*}\n"
      ],
      "text/markdown": [
       "1. 'GTEX.WOFL.0006.SM.3TW8K'\n",
       "2. 'GTEX.NPJ8.0011.R1a.SM.33HCB'\n",
       "3. 'GTEX.OHPK.0226.SM.3MJH6'\n",
       "\n",
       "\n"
      ],
      "text/plain": [
       "[1] \"GTEX.WOFL.0006.SM.3TW8K\"     \"GTEX.NPJ8.0011.R1a.SM.33HCB\"\n",
       "[3] \"GTEX.OHPK.0226.SM.3MJH6\"    "
      ]
     },
     "metadata": {},
     "output_type": "display_data"
    },
    {
     "data": {
      "text/html": [
       "<style>\n",
       ".list-inline {list-style: none; margin:0; padding: 0}\n",
       ".list-inline>li {display: inline-block}\n",
       ".list-inline>li:not(:last-child)::after {content: \"\\00b7\"; padding: 0 .5ex}\n",
       "</style>\n",
       "<ol class=list-inline><li>'GTEX.WOFL.0006.SM.3TW8K'</li><li>'GTEX.NPJ8.0011.R1a.SM.33HCB'</li><li>'GTEX.OHPK.0226.SM.3MJH6'</li></ol>\n"
      ],
      "text/latex": [
       "\\begin{enumerate*}\n",
       "\\item 'GTEX.WOFL.0006.SM.3TW8K'\n",
       "\\item 'GTEX.NPJ8.0011.R1a.SM.33HCB'\n",
       "\\item 'GTEX.OHPK.0226.SM.3MJH6'\n",
       "\\end{enumerate*}\n"
      ],
      "text/markdown": [
       "1. 'GTEX.WOFL.0006.SM.3TW8K'\n",
       "2. 'GTEX.NPJ8.0011.R1a.SM.33HCB'\n",
       "3. 'GTEX.OHPK.0226.SM.3MJH6'\n",
       "\n",
       "\n"
      ],
      "text/plain": [
       "[1] \"GTEX.WOFL.0006.SM.3TW8K\"     \"GTEX.NPJ8.0011.R1a.SM.33HCB\"\n",
       "[3] \"GTEX.OHPK.0226.SM.3MJH6\"    "
      ]
     },
     "metadata": {},
     "output_type": "display_data"
    }
   ],
   "source": [
    "oa3ss.jc.ijc  <- data.matrix(a3ss.jc.ijc)\n",
    "oa3ss.jc.sjc  <- data.matrix(a3ss.jc.sjc)\n",
    "oa3ss.jc.ijc  <- oa3ss.jc.ijc[,metadata_for_counts==TRUE]\n",
    "oa3ss.jc.sjc  <- oa3ss.jc.sjc[,metadata_for_counts==TRUE]\n",
    "\n",
    "oa5ss.jc.ijc  <- data.matrix(a5ss.jc.ijc)\n",
    "oa5ss.jc.sjc  <- data.matrix(a5ss.jc.sjc)\n",
    "oa5ss.jc.ijc  <- oa5ss.jc.ijc[,metadata_for_counts==TRUE]\n",
    "oa5ss.jc.sjc  <- oa5ss.jc.sjc[,metadata_for_counts==TRUE]\n",
    "\n",
    "omxe.jc.ijc   <- data.matrix(mxe.jc.ijc)\n",
    "omxe.jc.sjc   <- data.matrix(mxe.jc.sjc)\n",
    "omxe.jc.ijc   <- omxe.jc.ijc[,metadata_for_counts==TRUE]\n",
    "omxe.jc.sjc   <- omxe.jc.sjc[,metadata_for_counts==TRUE]\n",
    "\n",
    "ori.jc.ijc    <- data.matrix(ri.jc.ijc)\n",
    "ori.jc.sjc    <- data.matrix(ri.jc.sjc)\n",
    "ori.jc.ijc    <- ori.jc.ijc[,metadata_for_counts==TRUE]\n",
    "ori.jc.sjc    <- ori.jc.sjc[,metadata_for_counts==TRUE]\n",
    "\n",
    "ose.jc.ijc    <- data.matrix(se.jc.ijc)\n",
    "ose.jc.sjc    <- data.matrix(se.jc.sjc)\n",
    "ose.jc.ijc    <- ose.jc.ijc[,metadata_for_counts==TRUE]\n",
    "ose.jc.sjc    <- ose.jc.sjc[,metadata_for_counts==TRUE]\n",
    "\n",
    "oa3ss.jc.ijc  <- oa3ss.jc.ijc[,i]\n",
    "oa3ss.jc.sjc  <- oa3ss.jc.sjc[,i]\n",
    "\n",
    "oa5ss.jc.ijc  <- oa5ss.jc.ijc[,i]\n",
    "oa5ss.jc.sjc  <- oa5ss.jc.sjc[,i]\n",
    "\n",
    "omxe.jc.ijc   <- omxe.jc.ijc[,i]\n",
    "omxe.jc.sjc   <- omxe.jc.sjc[,i]\n",
    "\n",
    "ori.jc.ijc    <- ori.jc.ijc[,i]\n",
    "ori.jc.sjc    <- ori.jc.sjc[,i]\n",
    "\n",
    "ose.jc.ijc    <- ose.jc.ijc  [,i]\n",
    "ose.jc.sjc    <- ose.jc.sjc  [,i]\n",
    "\n",
    "oa3ss.jc.ijc[1:5,1:5]\n",
    "oa3ss.jc.sjc[1:5,1:5]\n",
    "\n",
    "oa5ss.jc.ijc[1:5,1:5]\n",
    "oa5ss.jc.sjc[1:5,1:5]\n",
    "\n",
    "omxe.jc.ijc[1:5,1:5]\n",
    "omxe.jc.sjc[1:5,1:5]\n",
    "\n",
    "ori.jc.ijc[1:5,1:5]\n",
    "ori.jc.sjc[1:5,1:5]\n",
    "\n",
    "ose.jc.ijc[1:5,1:5]\n",
    "ose.jc.sjc[1:5,1:5]\n",
    "\n",
    "colnames(oa3ss.jc.ijc) = as.character(ocounts_metadata$SAMPID)\n",
    "colnames(oa3ss.jc.sjc) = as.character(ocounts_metadata$SAMPID)\n",
    "\n",
    "colnames(oa5ss.jc.ijc) = as.character(ocounts_metadata$SAMPID)\n",
    "colnames(oa5ss.jc.sjc) = as.character(ocounts_metadata$SAMPID)\n",
    "\n",
    "colnames(omxe.jc.ijc) = as.character(ocounts_metadata$SAMPID)\n",
    "colnames(omxe.jc.sjc) = as.character(ocounts_metadata$SAMPID)\n",
    "\n",
    "colnames(ori.jc.ijc) = as.character(ocounts_metadata$SAMPID)\n",
    "colnames(ori.jc.sjc) = as.character(ocounts_metadata$SAMPID)\n",
    "\n",
    "colnames(ose.jc.ijc) = as.character(ocounts_metadata$SAMPID)\n",
    "colnames(ose.jc.sjc) = as.character(ocounts_metadata$SAMPID)\n",
    "\n",
    "tail(colnames(oa3ss.jc.ijc),3)\n",
    "tail(colnames(oa3ss.jc.sjc),3)\n",
    "\n",
    "tail(colnames(oa5ss.jc.ijc),3)\n",
    "tail(colnames(oa5ss.jc.sjc),3)\n",
    "\n",
    "tail(colnames(omxe.jc.ijc),3)\n",
    "tail(colnames(omxe.jc.sjc),3)\n",
    "\n",
    "tail(colnames(ori.jc.ijc),3)\n",
    "tail(colnames(ori.jc.sjc),3)\n",
    "\n",
    "tail(colnames(ose.jc.ijc),3)\n",
    "tail(colnames(ose.jc.sjc),3)\n"
   ]
  },
  {
   "cell_type": "markdown",
   "metadata": {},
   "source": [
    "### Sanity Check\n",
    "\n",
    "Spot check one tissue and make sure there isn't nonsense\n",
    "Our current matrices are:\n",
    "1. ocounts_metadata for the connection from counts to phenotype via the Run and SAMPID\n",
    "2. pData(reduced_obj2)"
   ]
  },
  {
   "cell_type": "code",
   "execution_count": 12,
   "metadata": {},
   "outputs": [
    {
     "data": {
      "text/plain": [
       "keep\n",
       "FALSE  TRUE \n",
       "10086   286 "
      ]
     },
     "metadata": {},
     "output_type": "display_data"
    },
    {
     "data": {
      "text/html": [
       "<style>\n",
       ".dl-inline {width: auto; margin:0; padding: 0}\n",
       ".dl-inline>dt, .dl-inline>dd {float: none; width: auto; display: inline-block}\n",
       ".dl-inline>dt::after {content: \":\\0020\"; padding-right: .5ex}\n",
       ".dl-inline>dt:not(:first-of-type) {padding-left: .5ex}\n",
       "</style><dl class=dl-inline><dt>Features</dt><dd>55872</dd><dt>Samples</dt><dd>286</dd></dl>\n"
      ],
      "text/latex": [
       "\\begin{description*}\n",
       "\\item[Features] 55872\n",
       "\\item[Samples] 286\n",
       "\\end{description*}\n"
      ],
      "text/markdown": [
       "Features\n",
       ":   55872Samples\n",
       ":   286\n",
       "\n"
      ],
      "text/plain": [
       "Features  Samples \n",
       "   55872      286 "
      ]
     },
     "metadata": {},
     "output_type": "display_data"
    },
    {
     "data": {
      "text/html": [
       "<style>\n",
       ".list-inline {list-style: none; margin:0; padding: 0}\n",
       ".list-inline>li {display: inline-block}\n",
       ".list-inline>li:not(:last-child)::after {content: \"\\00b7\"; padding: 0 .5ex}\n",
       "</style>\n",
       "<ol class=list-inline><li>286</li><li>67</li></ol>\n"
      ],
      "text/latex": [
       "\\begin{enumerate*}\n",
       "\\item 286\n",
       "\\item 67\n",
       "\\end{enumerate*}\n"
      ],
      "text/markdown": [
       "1. 286\n",
       "2. 67\n",
       "\n",
       "\n"
      ],
      "text/plain": [
       "[1] 286  67"
      ]
     },
     "metadata": {},
     "output_type": "display_data"
    },
    {
     "data": {
      "text/plain": [
       "keep\n",
       "FALSE  TRUE \n",
       " 6842   178 "
      ]
     },
     "metadata": {},
     "output_type": "display_data"
    },
    {
     "data": {
      "text/html": [
       "178"
      ],
      "text/latex": [
       "178"
      ],
      "text/markdown": [
       "178"
      ],
      "text/plain": [
       "[1] 178"
      ]
     },
     "metadata": {},
     "output_type": "display_data"
    },
    {
     "data": {
      "text/html": [
       "286"
      ],
      "text/latex": [
       "286"
      ],
      "text/markdown": [
       "286"
      ],
      "text/plain": [
       "[1] 286"
      ]
     },
     "metadata": {},
     "output_type": "display_data"
    },
    {
     "data": {
      "text/html": [
       "<table>\n",
       "<caption>A data.table: 1 × 80</caption>\n",
       "<thead>\n",
       "\t<tr><th scope=col>Run</th><th scope=col>analyte_type</th><th scope=col>Assay Type</th><th scope=col>AvgSpotLen</th><th scope=col>Bases</th><th scope=col>BioProject</th><th scope=col>BioSample</th><th scope=col>biospecimen_repository</th><th scope=col>biospecimen_repository_sample_id</th><th scope=col>body_site</th><th scope=col>⋯</th><th scope=col>product_part_number (exp)</th><th scope=col>product_part_number (run)</th><th scope=col>sample_barcode (exp)</th><th scope=col>sample_barcode (run)</th><th scope=col>is_technical_control</th><th scope=col>target_set (exp)</th><th scope=col>primary_disease (exp)</th><th scope=col>secondary_accessions (run)</th><th scope=col>Alignment_Provider (run)</th><th scope=col>SAMPID</th></tr>\n",
       "\t<tr><th scope=col>&lt;chr&gt;</th><th scope=col>&lt;chr&gt;</th><th scope=col>&lt;chr&gt;</th><th scope=col>&lt;int&gt;</th><th scope=col>&lt;int64&gt;</th><th scope=col>&lt;chr&gt;</th><th scope=col>&lt;chr&gt;</th><th scope=col>&lt;chr&gt;</th><th scope=col>&lt;chr&gt;</th><th scope=col>&lt;chr&gt;</th><th scope=col>⋯</th><th scope=col>&lt;chr&gt;</th><th scope=col>&lt;chr&gt;</th><th scope=col>&lt;dbl&gt;</th><th scope=col>&lt;dbl&gt;</th><th scope=col>&lt;chr&gt;</th><th scope=col>&lt;chr&gt;</th><th scope=col>&lt;chr&gt;</th><th scope=col>&lt;chr&gt;</th><th scope=col>&lt;chr&gt;</th><th scope=col>&lt;chr&gt;</th></tr>\n",
       "</thead>\n",
       "<tbody>\n",
       "\t<tr><td>SRR1068977</td><td>RNA:Total RNA</td><td>RNA-Seq</td><td>152</td><td>6706681864</td><td>PRJNA75899</td><td>SAMN02465522</td><td>GTEx</td><td>GTEX-XBED-1626-SM-47JYN</td><td>Breast - Mammary Tissue</td><td>⋯</td><td>P-RNA-0002</td><td>P-RNA-0002</td><td>NA</td><td>NA</td><td></td><td></td><td></td><td></td><td></td><td>GTEX.XBED.1626.SM.47JYN</td></tr>\n",
       "</tbody>\n",
       "</table>\n"
      ],
      "text/latex": [
       "A data.table: 1 × 80\n",
       "\\begin{tabular}{lllllllllllllllllllll}\n",
       " Run & analyte\\_type & Assay Type & AvgSpotLen & Bases & BioProject & BioSample & biospecimen\\_repository & biospecimen\\_repository\\_sample\\_id & body\\_site & ⋯ & product\\_part\\_number (exp) & product\\_part\\_number (run) & sample\\_barcode (exp) & sample\\_barcode (run) & is\\_technical\\_control & target\\_set (exp) & primary\\_disease (exp) & secondary\\_accessions (run) & Alignment\\_Provider (run) & SAMPID\\\\\n",
       " <chr> & <chr> & <chr> & <int> & <int64> & <chr> & <chr> & <chr> & <chr> & <chr> & ⋯ & <chr> & <chr> & <dbl> & <dbl> & <chr> & <chr> & <chr> & <chr> & <chr> & <chr>\\\\\n",
       "\\hline\n",
       "\t SRR1068977 & RNA:Total RNA & RNA-Seq & 152 & 6706681864 & PRJNA75899 & SAMN02465522 & GTEx & GTEX-XBED-1626-SM-47JYN & Breast - Mammary Tissue & ⋯ & P-RNA-0002 & P-RNA-0002 & NA & NA &  &  &  &  &  & GTEX.XBED.1626.SM.47JYN\\\\\n",
       "\\end{tabular}\n"
      ],
      "text/markdown": [
       "\n",
       "A data.table: 1 × 80\n",
       "\n",
       "| Run &lt;chr&gt; | analyte_type &lt;chr&gt; | Assay Type &lt;chr&gt; | AvgSpotLen &lt;int&gt; | Bases &lt;int64&gt; | BioProject &lt;chr&gt; | BioSample &lt;chr&gt; | biospecimen_repository &lt;chr&gt; | biospecimen_repository_sample_id &lt;chr&gt; | body_site &lt;chr&gt; | ⋯ ⋯ | product_part_number (exp) &lt;chr&gt; | product_part_number (run) &lt;chr&gt; | sample_barcode (exp) &lt;dbl&gt; | sample_barcode (run) &lt;dbl&gt; | is_technical_control &lt;chr&gt; | target_set (exp) &lt;chr&gt; | primary_disease (exp) &lt;chr&gt; | secondary_accessions (run) &lt;chr&gt; | Alignment_Provider (run) &lt;chr&gt; | SAMPID &lt;chr&gt; |\n",
       "|---|---|---|---|---|---|---|---|---|---|---|---|---|---|---|---|---|---|---|---|---|\n",
       "| SRR1068977 | RNA:Total RNA | RNA-Seq | 152 | 6706681864 | PRJNA75899 | SAMN02465522 | GTEx | GTEX-XBED-1626-SM-47JYN | Breast - Mammary Tissue | ⋯ | P-RNA-0002 | P-RNA-0002 | NA | NA | <!----> | <!----> | <!----> | <!----> | <!----> | GTEX.XBED.1626.SM.47JYN |\n",
       "\n"
      ],
      "text/plain": [
       "  Run        analyte_type  Assay Type AvgSpotLen Bases      BioProject\n",
       "1 SRR1068977 RNA:Total RNA RNA-Seq    152        6706681864 PRJNA75899\n",
       "  BioSample    biospecimen_repository biospecimen_repository_sample_id\n",
       "1 SAMN02465522 GTEx                   GTEX-XBED-1626-SM-47JYN         \n",
       "  body_site               ⋯ product_part_number (exp) product_part_number (run)\n",
       "1 Breast - Mammary Tissue ⋯ P-RNA-0002                P-RNA-0002               \n",
       "  sample_barcode (exp) sample_barcode (run) is_technical_control\n",
       "1 NA                   NA                                       \n",
       "  target_set (exp) primary_disease (exp) secondary_accessions (run)\n",
       "1                                                                  \n",
       "  Alignment_Provider (run) SAMPID                 \n",
       "1                          GTEX.XBED.1626.SM.47JYN"
      ]
     },
     "metadata": {},
     "output_type": "display_data"
    }
   ],
   "source": [
    "# test to make sure we don't have nonsense\n",
    "rm(keep)\n",
    "keep = pData(reduced_obj2)$SMTSD == \"breast_mammary_tissue\"\n",
    "table(keep)\n",
    "tobj = reduced_obj2[,keep]\n",
    "dim(tobj)\n",
    "dim(pData(tobj))\n",
    "breast_metadata_samples   <- as.character(ocounts_metadata$SAMPID)\n",
    "breast_phenotype_samples  <- as.character(pData(tobj)$SAMPID)\n",
    "rm(keep)\n",
    "keep = breast_metadata_samples %in% breast_phenotype_samples\n",
    "table(keep)\n",
    "breast_samples <- ocounts_metadata[keep,]\n",
    "length(breast_samples$SAMPID)\n",
    "length(pData(tobj)$SAMPID)\n",
    "breast_samples[1,]\n",
    "# end test"
   ]
  },
  {
   "cell_type": "markdown",
   "metadata": {},
   "source": [
    "### which metadata shall we use?\n",
    "There is a lack of correspondeence between the metadata in the Sequence Read Archive table as obtained from dbGaP SRR Run Explorer and the GTEx V8 Release.   Not sure which one to use!  "
   ]
  },
  {
   "cell_type": "code",
   "execution_count": 13,
   "metadata": {},
   "outputs": [
    {
     "data": {
      "text/plain": [
       "\n",
       "20-29 30-39 40-49 50-59 60-69 70-79 \n",
       "  760   771  1729  3484  3312   316 "
      ]
     },
     "metadata": {},
     "output_type": "display_data"
    },
    {
     "data": {
      "text/plain": [
       "\n",
       "   0    1    2    3    4 \n",
       "5523  467 2738  466 1082 "
      ]
     },
     "metadata": {},
     "output_type": "display_data"
    },
    {
     "data": {
      "text/plain": [
       "\n",
       "        B1     B1, A1         C1     C1, A1 C1, B1, A1         D1     D1, A1 \n",
       "      6154        377       3110        603          3         70         55 "
      ]
     },
     "metadata": {},
     "output_type": "display_data"
    },
    {
     "data": {
      "text/plain": [
       "\n",
       "   1    2 \n",
       "6796 3576 "
      ]
     },
     "metadata": {},
     "output_type": "display_data"
    },
    {
     "data": {
      "text/plain": [
       "\n",
       "female   male \n",
       "  2501   4519 "
      ]
     },
     "metadata": {},
     "output_type": "display_data"
    }
   ],
   "source": [
    "table(pData(reduced_obj2)$AGE)\n",
    "table(pData(reduced_obj2)$DTHHRDY)\n",
    "table(pData(reduced_obj2)$SMCENTER)\n",
    "table(pData(reduced_obj2)$SEX)\n",
    "table(ocounts_metadata$sex)"
   ]
  },
  {
   "cell_type": "markdown",
   "metadata": {},
   "source": [
    "#### Exploring the ijc and sjc Count data \n",
    "\n",
    "For each sample, we have ijc and sjc count data, for each alternative splicing type, we have the following number of alternative splicing events:\n",
    "\n",
    "* `A3SS`: ` 8,920`\n",
    "* `A5SS`: ` 5,584`\n",
    "* `MXE `: ` 2,979`\n",
    "* `RI`  : ` 6,312`\n",
    "* `SE  `: `42,611`\n",
    "\n",
    "For exon skipping events (SE), we have 42,611 non-zero junction IDs the (first dimension of the ijc and sjc cout table) for the skipped exon event for breast-Mammary Tissue, 191 individuals.  These are healthy individuals, and we are studying the impact of sex on the occurrence or non-occurance of specific alternative splicing events.   We explore the information we ahve about these junctions and create a construct, as_event, which accounts for the junction under exploration.\n",
    "\n",
    "The `IJC` and `SJC` counts are in many ways two sides of the same coin.  Both our the observational output and we wish to see how robust each are in their ability to separate out the samples to provide for us differentially expressed isoform events as measured by their counts.   Each junction is in a manner a specific marker to specific isoform events that may or may not be shared between the genders.   If there is significant results, then this is indicative of the separation achieved by isoform specific differentiation.   In our model we will use these in combination, it is important to see if they will yield the results we are looking for.\n"
   ]
  },
  {
   "cell_type": "markdown",
   "metadata": {},
   "source": [
    "### Reduce count matrices based upon the reduced tissue information - count matrix by column adjustment\n",
    "\n",
    "We wish to keep only those samples (columns) in our count data that are a member of the reduced tissue set."
   ]
  },
  {
   "cell_type": "code",
   "execution_count": 14,
   "metadata": {},
   "outputs": [
    {
     "data": {
      "text/plain": [
       "keep\n",
       "TRUE \n",
       "7020 "
      ]
     },
     "metadata": {},
     "output_type": "display_data"
    },
    {
     "data": {
      "text/html": [
       "7020"
      ],
      "text/latex": [
       "7020"
      ],
      "text/markdown": [
       "7020"
      ],
      "text/plain": [
       "[1] 7020"
      ]
     },
     "metadata": {},
     "output_type": "display_data"
    },
    {
     "data": {
      "text/html": [
       "7020"
      ],
      "text/latex": [
       "7020"
      ],
      "text/markdown": [
       "7020"
      ],
      "text/plain": [
       "[1] 7020"
      ]
     },
     "metadata": {},
     "output_type": "display_data"
    },
    {
     "data": {
      "text/html": [
       "7020"
      ],
      "text/latex": [
       "7020"
      ],
      "text/markdown": [
       "7020"
      ],
      "text/plain": [
       "[1] 7020"
      ]
     },
     "metadata": {},
     "output_type": "display_data"
    },
    {
     "data": {
      "text/html": [
       "<style>\n",
       ".list-inline {list-style: none; margin:0; padding: 0}\n",
       ".list-inline>li {display: inline-block}\n",
       ".list-inline>li:not(:last-child)::after {content: \"\\00b7\"; padding: 0 .5ex}\n",
       "</style>\n",
       "<ol class=list-inline><li>8920</li><li>7020</li></ol>\n"
      ],
      "text/latex": [
       "\\begin{enumerate*}\n",
       "\\item 8920\n",
       "\\item 7020\n",
       "\\end{enumerate*}\n"
      ],
      "text/markdown": [
       "1. 8920\n",
       "2. 7020\n",
       "\n",
       "\n"
      ],
      "text/plain": [
       "[1] 8920 7020"
      ]
     },
     "metadata": {},
     "output_type": "display_data"
    },
    {
     "data": {
      "text/html": [
       "<style>\n",
       ".list-inline {list-style: none; margin:0; padding: 0}\n",
       ".list-inline>li {display: inline-block}\n",
       ".list-inline>li:not(:last-child)::after {content: \"\\00b7\"; padding: 0 .5ex}\n",
       "</style>\n",
       "<ol class=list-inline><li>8920</li><li>7020</li></ol>\n"
      ],
      "text/latex": [
       "\\begin{enumerate*}\n",
       "\\item 8920\n",
       "\\item 7020\n",
       "\\end{enumerate*}\n"
      ],
      "text/markdown": [
       "1. 8920\n",
       "2. 7020\n",
       "\n",
       "\n"
      ],
      "text/plain": [
       "[1] 8920 7020"
      ]
     },
     "metadata": {},
     "output_type": "display_data"
    },
    {
     "data": {
      "text/html": [
       "<style>\n",
       ".list-inline {list-style: none; margin:0; padding: 0}\n",
       ".list-inline>li {display: inline-block}\n",
       ".list-inline>li:not(:last-child)::after {content: \"\\00b7\"; padding: 0 .5ex}\n",
       "</style>\n",
       "<ol class=list-inline><li>5584</li><li>7020</li></ol>\n"
      ],
      "text/latex": [
       "\\begin{enumerate*}\n",
       "\\item 5584\n",
       "\\item 7020\n",
       "\\end{enumerate*}\n"
      ],
      "text/markdown": [
       "1. 5584\n",
       "2. 7020\n",
       "\n",
       "\n"
      ],
      "text/plain": [
       "[1] 5584 7020"
      ]
     },
     "metadata": {},
     "output_type": "display_data"
    },
    {
     "data": {
      "text/html": [
       "<style>\n",
       ".list-inline {list-style: none; margin:0; padding: 0}\n",
       ".list-inline>li {display: inline-block}\n",
       ".list-inline>li:not(:last-child)::after {content: \"\\00b7\"; padding: 0 .5ex}\n",
       "</style>\n",
       "<ol class=list-inline><li>5584</li><li>7020</li></ol>\n"
      ],
      "text/latex": [
       "\\begin{enumerate*}\n",
       "\\item 5584\n",
       "\\item 7020\n",
       "\\end{enumerate*}\n"
      ],
      "text/markdown": [
       "1. 5584\n",
       "2. 7020\n",
       "\n",
       "\n"
      ],
      "text/plain": [
       "[1] 5584 7020"
      ]
     },
     "metadata": {},
     "output_type": "display_data"
    },
    {
     "data": {
      "text/html": [
       "<style>\n",
       ".list-inline {list-style: none; margin:0; padding: 0}\n",
       ".list-inline>li {display: inline-block}\n",
       ".list-inline>li:not(:last-child)::after {content: \"\\00b7\"; padding: 0 .5ex}\n",
       "</style>\n",
       "<ol class=list-inline><li>2979</li><li>7020</li></ol>\n"
      ],
      "text/latex": [
       "\\begin{enumerate*}\n",
       "\\item 2979\n",
       "\\item 7020\n",
       "\\end{enumerate*}\n"
      ],
      "text/markdown": [
       "1. 2979\n",
       "2. 7020\n",
       "\n",
       "\n"
      ],
      "text/plain": [
       "[1] 2979 7020"
      ]
     },
     "metadata": {},
     "output_type": "display_data"
    },
    {
     "data": {
      "text/html": [
       "<style>\n",
       ".list-inline {list-style: none; margin:0; padding: 0}\n",
       ".list-inline>li {display: inline-block}\n",
       ".list-inline>li:not(:last-child)::after {content: \"\\00b7\"; padding: 0 .5ex}\n",
       "</style>\n",
       "<ol class=list-inline><li>2979</li><li>7020</li></ol>\n"
      ],
      "text/latex": [
       "\\begin{enumerate*}\n",
       "\\item 2979\n",
       "\\item 7020\n",
       "\\end{enumerate*}\n"
      ],
      "text/markdown": [
       "1. 2979\n",
       "2. 7020\n",
       "\n",
       "\n"
      ],
      "text/plain": [
       "[1] 2979 7020"
      ]
     },
     "metadata": {},
     "output_type": "display_data"
    },
    {
     "data": {
      "text/html": [
       "<style>\n",
       ".list-inline {list-style: none; margin:0; padding: 0}\n",
       ".list-inline>li {display: inline-block}\n",
       ".list-inline>li:not(:last-child)::after {content: \"\\00b7\"; padding: 0 .5ex}\n",
       "</style>\n",
       "<ol class=list-inline><li>6312</li><li>7020</li></ol>\n"
      ],
      "text/latex": [
       "\\begin{enumerate*}\n",
       "\\item 6312\n",
       "\\item 7020\n",
       "\\end{enumerate*}\n"
      ],
      "text/markdown": [
       "1. 6312\n",
       "2. 7020\n",
       "\n",
       "\n"
      ],
      "text/plain": [
       "[1] 6312 7020"
      ]
     },
     "metadata": {},
     "output_type": "display_data"
    },
    {
     "data": {
      "text/html": [
       "<style>\n",
       ".list-inline {list-style: none; margin:0; padding: 0}\n",
       ".list-inline>li {display: inline-block}\n",
       ".list-inline>li:not(:last-child)::after {content: \"\\00b7\"; padding: 0 .5ex}\n",
       "</style>\n",
       "<ol class=list-inline><li>6312</li><li>7020</li></ol>\n"
      ],
      "text/latex": [
       "\\begin{enumerate*}\n",
       "\\item 6312\n",
       "\\item 7020\n",
       "\\end{enumerate*}\n"
      ],
      "text/markdown": [
       "1. 6312\n",
       "2. 7020\n",
       "\n",
       "\n"
      ],
      "text/plain": [
       "[1] 6312 7020"
      ]
     },
     "metadata": {},
     "output_type": "display_data"
    },
    {
     "data": {
      "text/html": [
       "<style>\n",
       ".list-inline {list-style: none; margin:0; padding: 0}\n",
       ".list-inline>li {display: inline-block}\n",
       ".list-inline>li:not(:last-child)::after {content: \"\\00b7\"; padding: 0 .5ex}\n",
       "</style>\n",
       "<ol class=list-inline><li>42611</li><li>7020</li></ol>\n"
      ],
      "text/latex": [
       "\\begin{enumerate*}\n",
       "\\item 42611\n",
       "\\item 7020\n",
       "\\end{enumerate*}\n"
      ],
      "text/markdown": [
       "1. 42611\n",
       "2. 7020\n",
       "\n",
       "\n"
      ],
      "text/plain": [
       "[1] 42611  7020"
      ]
     },
     "metadata": {},
     "output_type": "display_data"
    },
    {
     "data": {
      "text/html": [
       "<style>\n",
       ".list-inline {list-style: none; margin:0; padding: 0}\n",
       ".list-inline>li {display: inline-block}\n",
       ".list-inline>li:not(:last-child)::after {content: \"\\00b7\"; padding: 0 .5ex}\n",
       "</style>\n",
       "<ol class=list-inline><li>42611</li><li>7020</li></ol>\n"
      ],
      "text/latex": [
       "\\begin{enumerate*}\n",
       "\\item 42611\n",
       "\\item 7020\n",
       "\\end{enumerate*}\n"
      ],
      "text/markdown": [
       "1. 42611\n",
       "2. 7020\n",
       "\n",
       "\n"
      ],
      "text/plain": [
       "[1] 42611  7020"
      ]
     },
     "metadata": {},
     "output_type": "display_data"
    },
    {
     "data": {
      "text/html": [
       "<table>\n",
       "<caption>A matrix: 5 × 5 of type int</caption>\n",
       "<thead>\n",
       "\t<tr><th scope=col>GTEX.QV44.0008.SM.447AX</th><th scope=col>GTEX.UJMC.0426.SM.4IHJF</th><th scope=col>GTEX.O5YT.0008.SM.4E3IQ</th><th scope=col>GTEX.PWN1.0726.SM.48TDR</th><th scope=col>GTEX.PWN1.1526.SM.48TDA</th></tr>\n",
       "</thead>\n",
       "<tbody>\n",
       "\t<tr><td>0</td><td> 2</td><td>2</td><td>0</td><td>0</td></tr>\n",
       "\t<tr><td>0</td><td>10</td><td>0</td><td>4</td><td>4</td></tr>\n",
       "\t<tr><td>0</td><td> 0</td><td>1</td><td>0</td><td>1</td></tr>\n",
       "\t<tr><td>0</td><td> 0</td><td>2</td><td>0</td><td>1</td></tr>\n",
       "\t<tr><td>0</td><td> 0</td><td>1</td><td>0</td><td>1</td></tr>\n",
       "</tbody>\n",
       "</table>\n"
      ],
      "text/latex": [
       "A matrix: 5 × 5 of type int\n",
       "\\begin{tabular}{lllll}\n",
       " GTEX.QV44.0008.SM.447AX & GTEX.UJMC.0426.SM.4IHJF & GTEX.O5YT.0008.SM.4E3IQ & GTEX.PWN1.0726.SM.48TDR & GTEX.PWN1.1526.SM.48TDA\\\\\n",
       "\\hline\n",
       "\t 0 &  2 & 2 & 0 & 0\\\\\n",
       "\t 0 & 10 & 0 & 4 & 4\\\\\n",
       "\t 0 &  0 & 1 & 0 & 1\\\\\n",
       "\t 0 &  0 & 2 & 0 & 1\\\\\n",
       "\t 0 &  0 & 1 & 0 & 1\\\\\n",
       "\\end{tabular}\n"
      ],
      "text/markdown": [
       "\n",
       "A matrix: 5 × 5 of type int\n",
       "\n",
       "| GTEX.QV44.0008.SM.447AX | GTEX.UJMC.0426.SM.4IHJF | GTEX.O5YT.0008.SM.4E3IQ | GTEX.PWN1.0726.SM.48TDR | GTEX.PWN1.1526.SM.48TDA |\n",
       "|---|---|---|---|---|\n",
       "| 0 |  2 | 2 | 0 | 0 |\n",
       "| 0 | 10 | 0 | 4 | 4 |\n",
       "| 0 |  0 | 1 | 0 | 1 |\n",
       "| 0 |  0 | 2 | 0 | 1 |\n",
       "| 0 |  0 | 1 | 0 | 1 |\n",
       "\n"
      ],
      "text/plain": [
       "     GTEX.QV44.0008.SM.447AX GTEX.UJMC.0426.SM.4IHJF GTEX.O5YT.0008.SM.4E3IQ\n",
       "[1,] 0                        2                      2                      \n",
       "[2,] 0                       10                      0                      \n",
       "[3,] 0                        0                      1                      \n",
       "[4,] 0                        0                      2                      \n",
       "[5,] 0                        0                      1                      \n",
       "     GTEX.PWN1.0726.SM.48TDR GTEX.PWN1.1526.SM.48TDA\n",
       "[1,] 0                       0                      \n",
       "[2,] 4                       4                      \n",
       "[3,] 0                       1                      \n",
       "[4,] 0                       1                      \n",
       "[5,] 0                       1                      "
      ]
     },
     "metadata": {},
     "output_type": "display_data"
    },
    {
     "data": {
      "text/html": [
       "<table>\n",
       "<caption>A matrix: 5 × 5 of type int</caption>\n",
       "<thead>\n",
       "\t<tr><th scope=col>GTEX.QV44.0008.SM.447AX</th><th scope=col>GTEX.UJMC.0426.SM.4IHJF</th><th scope=col>GTEX.O5YT.0008.SM.4E3IQ</th><th scope=col>GTEX.PWN1.0726.SM.48TDR</th><th scope=col>GTEX.PWN1.1526.SM.48TDA</th></tr>\n",
       "</thead>\n",
       "<tbody>\n",
       "\t<tr><td>151</td><td>51</td><td>292</td><td>59</td><td>91</td></tr>\n",
       "\t<tr><td>  0</td><td> 0</td><td>  0</td><td> 0</td><td> 0</td></tr>\n",
       "\t<tr><td>  0</td><td> 0</td><td>  0</td><td> 0</td><td> 0</td></tr>\n",
       "\t<tr><td>  0</td><td> 0</td><td>  0</td><td> 0</td><td> 0</td></tr>\n",
       "\t<tr><td>  0</td><td> 0</td><td>  0</td><td> 0</td><td> 0</td></tr>\n",
       "</tbody>\n",
       "</table>\n"
      ],
      "text/latex": [
       "A matrix: 5 × 5 of type int\n",
       "\\begin{tabular}{lllll}\n",
       " GTEX.QV44.0008.SM.447AX & GTEX.UJMC.0426.SM.4IHJF & GTEX.O5YT.0008.SM.4E3IQ & GTEX.PWN1.0726.SM.48TDR & GTEX.PWN1.1526.SM.48TDA\\\\\n",
       "\\hline\n",
       "\t 151 & 51 & 292 & 59 & 91\\\\\n",
       "\t   0 &  0 &   0 &  0 &  0\\\\\n",
       "\t   0 &  0 &   0 &  0 &  0\\\\\n",
       "\t   0 &  0 &   0 &  0 &  0\\\\\n",
       "\t   0 &  0 &   0 &  0 &  0\\\\\n",
       "\\end{tabular}\n"
      ],
      "text/markdown": [
       "\n",
       "A matrix: 5 × 5 of type int\n",
       "\n",
       "| GTEX.QV44.0008.SM.447AX | GTEX.UJMC.0426.SM.4IHJF | GTEX.O5YT.0008.SM.4E3IQ | GTEX.PWN1.0726.SM.48TDR | GTEX.PWN1.1526.SM.48TDA |\n",
       "|---|---|---|---|---|\n",
       "| 151 | 51 | 292 | 59 | 91 |\n",
       "|   0 |  0 |   0 |  0 |  0 |\n",
       "|   0 |  0 |   0 |  0 |  0 |\n",
       "|   0 |  0 |   0 |  0 |  0 |\n",
       "|   0 |  0 |   0 |  0 |  0 |\n",
       "\n"
      ],
      "text/plain": [
       "     GTEX.QV44.0008.SM.447AX GTEX.UJMC.0426.SM.4IHJF GTEX.O5YT.0008.SM.4E3IQ\n",
       "[1,] 151                     51                      292                    \n",
       "[2,]   0                      0                        0                    \n",
       "[3,]   0                      0                        0                    \n",
       "[4,]   0                      0                        0                    \n",
       "[5,]   0                      0                        0                    \n",
       "     GTEX.PWN1.0726.SM.48TDR GTEX.PWN1.1526.SM.48TDA\n",
       "[1,] 59                      91                     \n",
       "[2,]  0                       0                     \n",
       "[3,]  0                       0                     \n",
       "[4,]  0                       0                     \n",
       "[5,]  0                       0                     "
      ]
     },
     "metadata": {},
     "output_type": "display_data"
    },
    {
     "data": {
      "text/html": [
       "<table>\n",
       "<caption>A matrix: 5 × 5 of type int</caption>\n",
       "<thead>\n",
       "\t<tr><th scope=col>GTEX.QV44.0008.SM.447AX</th><th scope=col>GTEX.UJMC.0426.SM.4IHJF</th><th scope=col>GTEX.O5YT.0008.SM.4E3IQ</th><th scope=col>GTEX.PWN1.0726.SM.48TDR</th><th scope=col>GTEX.PWN1.1526.SM.48TDA</th></tr>\n",
       "</thead>\n",
       "<tbody>\n",
       "\t<tr><td> 0</td><td> 0</td><td>  1</td><td> 2</td><td> 0</td></tr>\n",
       "\t<tr><td> 0</td><td> 0</td><td>  0</td><td> 0</td><td> 0</td></tr>\n",
       "\t<tr><td> 0</td><td> 0</td><td>  0</td><td> 1</td><td> 0</td></tr>\n",
       "\t<tr><td>14</td><td> 3</td><td>  4</td><td> 3</td><td>11</td></tr>\n",
       "\t<tr><td>67</td><td>10</td><td>167</td><td>26</td><td>31</td></tr>\n",
       "</tbody>\n",
       "</table>\n"
      ],
      "text/latex": [
       "A matrix: 5 × 5 of type int\n",
       "\\begin{tabular}{lllll}\n",
       " GTEX.QV44.0008.SM.447AX & GTEX.UJMC.0426.SM.4IHJF & GTEX.O5YT.0008.SM.4E3IQ & GTEX.PWN1.0726.SM.48TDR & GTEX.PWN1.1526.SM.48TDA\\\\\n",
       "\\hline\n",
       "\t  0 &  0 &   1 &  2 &  0\\\\\n",
       "\t  0 &  0 &   0 &  0 &  0\\\\\n",
       "\t  0 &  0 &   0 &  1 &  0\\\\\n",
       "\t 14 &  3 &   4 &  3 & 11\\\\\n",
       "\t 67 & 10 & 167 & 26 & 31\\\\\n",
       "\\end{tabular}\n"
      ],
      "text/markdown": [
       "\n",
       "A matrix: 5 × 5 of type int\n",
       "\n",
       "| GTEX.QV44.0008.SM.447AX | GTEX.UJMC.0426.SM.4IHJF | GTEX.O5YT.0008.SM.4E3IQ | GTEX.PWN1.0726.SM.48TDR | GTEX.PWN1.1526.SM.48TDA |\n",
       "|---|---|---|---|---|\n",
       "|  0 |  0 |   1 |  2 |  0 |\n",
       "|  0 |  0 |   0 |  0 |  0 |\n",
       "|  0 |  0 |   0 |  1 |  0 |\n",
       "| 14 |  3 |   4 |  3 | 11 |\n",
       "| 67 | 10 | 167 | 26 | 31 |\n",
       "\n"
      ],
      "text/plain": [
       "     GTEX.QV44.0008.SM.447AX GTEX.UJMC.0426.SM.4IHJF GTEX.O5YT.0008.SM.4E3IQ\n",
       "[1,]  0                       0                        1                    \n",
       "[2,]  0                       0                        0                    \n",
       "[3,]  0                       0                        0                    \n",
       "[4,] 14                       3                        4                    \n",
       "[5,] 67                      10                      167                    \n",
       "     GTEX.PWN1.0726.SM.48TDR GTEX.PWN1.1526.SM.48TDA\n",
       "[1,]  2                       0                     \n",
       "[2,]  0                       0                     \n",
       "[3,]  1                       0                     \n",
       "[4,]  3                      11                     \n",
       "[5,] 26                      31                     "
      ]
     },
     "metadata": {},
     "output_type": "display_data"
    },
    {
     "data": {
      "text/html": [
       "<table>\n",
       "<caption>A matrix: 5 × 5 of type int</caption>\n",
       "<thead>\n",
       "\t<tr><th scope=col>GTEX.QV44.0008.SM.447AX</th><th scope=col>GTEX.UJMC.0426.SM.4IHJF</th><th scope=col>GTEX.O5YT.0008.SM.4E3IQ</th><th scope=col>GTEX.PWN1.0726.SM.48TDR</th><th scope=col>GTEX.PWN1.1526.SM.48TDA</th></tr>\n",
       "</thead>\n",
       "<tbody>\n",
       "\t<tr><td>79</td><td>30</td><td>293</td><td>120</td><td>107</td></tr>\n",
       "\t<tr><td> 0</td><td> 0</td><td>  0</td><td>  0</td><td>  0</td></tr>\n",
       "\t<tr><td> 0</td><td> 0</td><td>  0</td><td>  0</td><td>  0</td></tr>\n",
       "\t<tr><td>13</td><td>12</td><td> 10</td><td>  8</td><td> 18</td></tr>\n",
       "\t<tr><td> 0</td><td> 0</td><td>  0</td><td>  0</td><td>  0</td></tr>\n",
       "</tbody>\n",
       "</table>\n"
      ],
      "text/latex": [
       "A matrix: 5 × 5 of type int\n",
       "\\begin{tabular}{lllll}\n",
       " GTEX.QV44.0008.SM.447AX & GTEX.UJMC.0426.SM.4IHJF & GTEX.O5YT.0008.SM.4E3IQ & GTEX.PWN1.0726.SM.48TDR & GTEX.PWN1.1526.SM.48TDA\\\\\n",
       "\\hline\n",
       "\t 79 & 30 & 293 & 120 & 107\\\\\n",
       "\t  0 &  0 &   0 &   0 &   0\\\\\n",
       "\t  0 &  0 &   0 &   0 &   0\\\\\n",
       "\t 13 & 12 &  10 &   8 &  18\\\\\n",
       "\t  0 &  0 &   0 &   0 &   0\\\\\n",
       "\\end{tabular}\n"
      ],
      "text/markdown": [
       "\n",
       "A matrix: 5 × 5 of type int\n",
       "\n",
       "| GTEX.QV44.0008.SM.447AX | GTEX.UJMC.0426.SM.4IHJF | GTEX.O5YT.0008.SM.4E3IQ | GTEX.PWN1.0726.SM.48TDR | GTEX.PWN1.1526.SM.48TDA |\n",
       "|---|---|---|---|---|\n",
       "| 79 | 30 | 293 | 120 | 107 |\n",
       "|  0 |  0 |   0 |   0 |   0 |\n",
       "|  0 |  0 |   0 |   0 |   0 |\n",
       "| 13 | 12 |  10 |   8 |  18 |\n",
       "|  0 |  0 |   0 |   0 |   0 |\n",
       "\n"
      ],
      "text/plain": [
       "     GTEX.QV44.0008.SM.447AX GTEX.UJMC.0426.SM.4IHJF GTEX.O5YT.0008.SM.4E3IQ\n",
       "[1,] 79                      30                      293                    \n",
       "[2,]  0                       0                        0                    \n",
       "[3,]  0                       0                        0                    \n",
       "[4,] 13                      12                       10                    \n",
       "[5,]  0                       0                        0                    \n",
       "     GTEX.PWN1.0726.SM.48TDR GTEX.PWN1.1526.SM.48TDA\n",
       "[1,] 120                     107                    \n",
       "[2,]   0                       0                    \n",
       "[3,]   0                       0                    \n",
       "[4,]   8                      18                    \n",
       "[5,]   0                       0                    "
      ]
     },
     "metadata": {},
     "output_type": "display_data"
    },
    {
     "data": {
      "text/html": [
       "<table>\n",
       "<caption>A matrix: 5 × 5 of type int</caption>\n",
       "<thead>\n",
       "\t<tr><th scope=col>GTEX.QV44.0008.SM.447AX</th><th scope=col>GTEX.UJMC.0426.SM.4IHJF</th><th scope=col>GTEX.O5YT.0008.SM.4E3IQ</th><th scope=col>GTEX.PWN1.0726.SM.48TDR</th><th scope=col>GTEX.PWN1.1526.SM.48TDA</th></tr>\n",
       "</thead>\n",
       "<tbody>\n",
       "\t<tr><td>5</td><td>3</td><td>4</td><td>1</td><td> 4</td></tr>\n",
       "\t<tr><td>0</td><td>0</td><td>0</td><td>1</td><td> 0</td></tr>\n",
       "\t<tr><td>0</td><td>0</td><td>0</td><td>0</td><td> 0</td></tr>\n",
       "\t<tr><td>1</td><td>0</td><td>0</td><td>3</td><td> 2</td></tr>\n",
       "\t<tr><td>0</td><td>0</td><td>0</td><td>7</td><td>32</td></tr>\n",
       "</tbody>\n",
       "</table>\n"
      ],
      "text/latex": [
       "A matrix: 5 × 5 of type int\n",
       "\\begin{tabular}{lllll}\n",
       " GTEX.QV44.0008.SM.447AX & GTEX.UJMC.0426.SM.4IHJF & GTEX.O5YT.0008.SM.4E3IQ & GTEX.PWN1.0726.SM.48TDR & GTEX.PWN1.1526.SM.48TDA\\\\\n",
       "\\hline\n",
       "\t 5 & 3 & 4 & 1 &  4\\\\\n",
       "\t 0 & 0 & 0 & 1 &  0\\\\\n",
       "\t 0 & 0 & 0 & 0 &  0\\\\\n",
       "\t 1 & 0 & 0 & 3 &  2\\\\\n",
       "\t 0 & 0 & 0 & 7 & 32\\\\\n",
       "\\end{tabular}\n"
      ],
      "text/markdown": [
       "\n",
       "A matrix: 5 × 5 of type int\n",
       "\n",
       "| GTEX.QV44.0008.SM.447AX | GTEX.UJMC.0426.SM.4IHJF | GTEX.O5YT.0008.SM.4E3IQ | GTEX.PWN1.0726.SM.48TDR | GTEX.PWN1.1526.SM.48TDA |\n",
       "|---|---|---|---|---|\n",
       "| 5 | 3 | 4 | 1 |  4 |\n",
       "| 0 | 0 | 0 | 1 |  0 |\n",
       "| 0 | 0 | 0 | 0 |  0 |\n",
       "| 1 | 0 | 0 | 3 |  2 |\n",
       "| 0 | 0 | 0 | 7 | 32 |\n",
       "\n"
      ],
      "text/plain": [
       "     GTEX.QV44.0008.SM.447AX GTEX.UJMC.0426.SM.4IHJF GTEX.O5YT.0008.SM.4E3IQ\n",
       "[1,] 5                       3                       4                      \n",
       "[2,] 0                       0                       0                      \n",
       "[3,] 0                       0                       0                      \n",
       "[4,] 1                       0                       0                      \n",
       "[5,] 0                       0                       0                      \n",
       "     GTEX.PWN1.0726.SM.48TDR GTEX.PWN1.1526.SM.48TDA\n",
       "[1,] 1                        4                     \n",
       "[2,] 1                        0                     \n",
       "[3,] 0                        0                     \n",
       "[4,] 3                        2                     \n",
       "[5,] 7                       32                     "
      ]
     },
     "metadata": {},
     "output_type": "display_data"
    },
    {
     "data": {
      "text/html": [
       "<table>\n",
       "<caption>A matrix: 5 × 5 of type int</caption>\n",
       "<thead>\n",
       "\t<tr><th scope=col>GTEX.QV44.0008.SM.447AX</th><th scope=col>GTEX.UJMC.0426.SM.4IHJF</th><th scope=col>GTEX.O5YT.0008.SM.4E3IQ</th><th scope=col>GTEX.PWN1.0726.SM.48TDR</th><th scope=col>GTEX.PWN1.1526.SM.48TDA</th></tr>\n",
       "</thead>\n",
       "<tbody>\n",
       "\t<tr><td>36</td><td>7</td><td>10</td><td>15</td><td> 1</td></tr>\n",
       "\t<tr><td> 0</td><td>4</td><td> 1</td><td> 2</td><td> 2</td></tr>\n",
       "\t<tr><td> 0</td><td>0</td><td> 0</td><td> 0</td><td> 0</td></tr>\n",
       "\t<tr><td> 0</td><td>2</td><td> 1</td><td> 0</td><td> 0</td></tr>\n",
       "\t<tr><td> 4</td><td>8</td><td> 2</td><td>25</td><td>74</td></tr>\n",
       "</tbody>\n",
       "</table>\n"
      ],
      "text/latex": [
       "A matrix: 5 × 5 of type int\n",
       "\\begin{tabular}{lllll}\n",
       " GTEX.QV44.0008.SM.447AX & GTEX.UJMC.0426.SM.4IHJF & GTEX.O5YT.0008.SM.4E3IQ & GTEX.PWN1.0726.SM.48TDR & GTEX.PWN1.1526.SM.48TDA\\\\\n",
       "\\hline\n",
       "\t 36 & 7 & 10 & 15 &  1\\\\\n",
       "\t  0 & 4 &  1 &  2 &  2\\\\\n",
       "\t  0 & 0 &  0 &  0 &  0\\\\\n",
       "\t  0 & 2 &  1 &  0 &  0\\\\\n",
       "\t  4 & 8 &  2 & 25 & 74\\\\\n",
       "\\end{tabular}\n"
      ],
      "text/markdown": [
       "\n",
       "A matrix: 5 × 5 of type int\n",
       "\n",
       "| GTEX.QV44.0008.SM.447AX | GTEX.UJMC.0426.SM.4IHJF | GTEX.O5YT.0008.SM.4E3IQ | GTEX.PWN1.0726.SM.48TDR | GTEX.PWN1.1526.SM.48TDA |\n",
       "|---|---|---|---|---|\n",
       "| 36 | 7 | 10 | 15 |  1 |\n",
       "|  0 | 4 |  1 |  2 |  2 |\n",
       "|  0 | 0 |  0 |  0 |  0 |\n",
       "|  0 | 2 |  1 |  0 |  0 |\n",
       "|  4 | 8 |  2 | 25 | 74 |\n",
       "\n"
      ],
      "text/plain": [
       "     GTEX.QV44.0008.SM.447AX GTEX.UJMC.0426.SM.4IHJF GTEX.O5YT.0008.SM.4E3IQ\n",
       "[1,] 36                      7                       10                     \n",
       "[2,]  0                      4                        1                     \n",
       "[3,]  0                      0                        0                     \n",
       "[4,]  0                      2                        1                     \n",
       "[5,]  4                      8                        2                     \n",
       "     GTEX.PWN1.0726.SM.48TDR GTEX.PWN1.1526.SM.48TDA\n",
       "[1,] 15                       1                     \n",
       "[2,]  2                       2                     \n",
       "[3,]  0                       0                     \n",
       "[4,]  0                       0                     \n",
       "[5,] 25                      74                     "
      ]
     },
     "metadata": {},
     "output_type": "display_data"
    },
    {
     "data": {
      "text/html": [
       "<table>\n",
       "<caption>A matrix: 5 × 5 of type int</caption>\n",
       "<thead>\n",
       "\t<tr><th scope=col>GTEX.QV44.0008.SM.447AX</th><th scope=col>GTEX.UJMC.0426.SM.4IHJF</th><th scope=col>GTEX.O5YT.0008.SM.4E3IQ</th><th scope=col>GTEX.PWN1.0726.SM.48TDR</th><th scope=col>GTEX.PWN1.1526.SM.48TDA</th></tr>\n",
       "</thead>\n",
       "<tbody>\n",
       "\t<tr><td> 0</td><td>  5</td><td> 0</td><td> 1</td><td>  1</td></tr>\n",
       "\t<tr><td> 0</td><td>  1</td><td> 1</td><td> 0</td><td>  0</td></tr>\n",
       "\t<tr><td> 0</td><td>  0</td><td> 2</td><td> 0</td><td>  1</td></tr>\n",
       "\t<tr><td> 0</td><td>  4</td><td> 7</td><td> 4</td><td>  2</td></tr>\n",
       "\t<tr><td>64</td><td>113</td><td>43</td><td>40</td><td>247</td></tr>\n",
       "</tbody>\n",
       "</table>\n"
      ],
      "text/latex": [
       "A matrix: 5 × 5 of type int\n",
       "\\begin{tabular}{lllll}\n",
       " GTEX.QV44.0008.SM.447AX & GTEX.UJMC.0426.SM.4IHJF & GTEX.O5YT.0008.SM.4E3IQ & GTEX.PWN1.0726.SM.48TDR & GTEX.PWN1.1526.SM.48TDA\\\\\n",
       "\\hline\n",
       "\t  0 &   5 &  0 &  1 &   1\\\\\n",
       "\t  0 &   1 &  1 &  0 &   0\\\\\n",
       "\t  0 &   0 &  2 &  0 &   1\\\\\n",
       "\t  0 &   4 &  7 &  4 &   2\\\\\n",
       "\t 64 & 113 & 43 & 40 & 247\\\\\n",
       "\\end{tabular}\n"
      ],
      "text/markdown": [
       "\n",
       "A matrix: 5 × 5 of type int\n",
       "\n",
       "| GTEX.QV44.0008.SM.447AX | GTEX.UJMC.0426.SM.4IHJF | GTEX.O5YT.0008.SM.4E3IQ | GTEX.PWN1.0726.SM.48TDR | GTEX.PWN1.1526.SM.48TDA |\n",
       "|---|---|---|---|---|\n",
       "|  0 |   5 |  0 |  1 |   1 |\n",
       "|  0 |   1 |  1 |  0 |   0 |\n",
       "|  0 |   0 |  2 |  0 |   1 |\n",
       "|  0 |   4 |  7 |  4 |   2 |\n",
       "| 64 | 113 | 43 | 40 | 247 |\n",
       "\n"
      ],
      "text/plain": [
       "     GTEX.QV44.0008.SM.447AX GTEX.UJMC.0426.SM.4IHJF GTEX.O5YT.0008.SM.4E3IQ\n",
       "[1,]  0                        5                      0                     \n",
       "[2,]  0                        1                      1                     \n",
       "[3,]  0                        0                      2                     \n",
       "[4,]  0                        4                      7                     \n",
       "[5,] 64                      113                     43                     \n",
       "     GTEX.PWN1.0726.SM.48TDR GTEX.PWN1.1526.SM.48TDA\n",
       "[1,]  1                        1                    \n",
       "[2,]  0                        0                    \n",
       "[3,]  0                        1                    \n",
       "[4,]  4                        2                    \n",
       "[5,] 40                      247                    "
      ]
     },
     "metadata": {},
     "output_type": "display_data"
    },
    {
     "data": {
      "text/html": [
       "<table>\n",
       "<caption>A matrix: 5 × 5 of type int</caption>\n",
       "<thead>\n",
       "\t<tr><th scope=col>GTEX.QV44.0008.SM.447AX</th><th scope=col>GTEX.UJMC.0426.SM.4IHJF</th><th scope=col>GTEX.O5YT.0008.SM.4E3IQ</th><th scope=col>GTEX.PWN1.0726.SM.48TDR</th><th scope=col>GTEX.PWN1.1526.SM.48TDA</th></tr>\n",
       "</thead>\n",
       "<tbody>\n",
       "\t<tr><td> 0</td><td> 0</td><td>  0</td><td> 1</td><td>  1</td></tr>\n",
       "\t<tr><td> 0</td><td> 0</td><td>  0</td><td> 0</td><td>  0</td></tr>\n",
       "\t<tr><td> 0</td><td> 0</td><td>  0</td><td> 0</td><td>  0</td></tr>\n",
       "\t<tr><td>98</td><td>25</td><td>150</td><td>64</td><td> 37</td></tr>\n",
       "\t<tr><td>11</td><td>34</td><td> 56</td><td>38</td><td>125</td></tr>\n",
       "</tbody>\n",
       "</table>\n"
      ],
      "text/latex": [
       "A matrix: 5 × 5 of type int\n",
       "\\begin{tabular}{lllll}\n",
       " GTEX.QV44.0008.SM.447AX & GTEX.UJMC.0426.SM.4IHJF & GTEX.O5YT.0008.SM.4E3IQ & GTEX.PWN1.0726.SM.48TDR & GTEX.PWN1.1526.SM.48TDA\\\\\n",
       "\\hline\n",
       "\t  0 &  0 &   0 &  1 &   1\\\\\n",
       "\t  0 &  0 &   0 &  0 &   0\\\\\n",
       "\t  0 &  0 &   0 &  0 &   0\\\\\n",
       "\t 98 & 25 & 150 & 64 &  37\\\\\n",
       "\t 11 & 34 &  56 & 38 & 125\\\\\n",
       "\\end{tabular}\n"
      ],
      "text/markdown": [
       "\n",
       "A matrix: 5 × 5 of type int\n",
       "\n",
       "| GTEX.QV44.0008.SM.447AX | GTEX.UJMC.0426.SM.4IHJF | GTEX.O5YT.0008.SM.4E3IQ | GTEX.PWN1.0726.SM.48TDR | GTEX.PWN1.1526.SM.48TDA |\n",
       "|---|---|---|---|---|\n",
       "|  0 |  0 |   0 |  1 |   1 |\n",
       "|  0 |  0 |   0 |  0 |   0 |\n",
       "|  0 |  0 |   0 |  0 |   0 |\n",
       "| 98 | 25 | 150 | 64 |  37 |\n",
       "| 11 | 34 |  56 | 38 | 125 |\n",
       "\n"
      ],
      "text/plain": [
       "     GTEX.QV44.0008.SM.447AX GTEX.UJMC.0426.SM.4IHJF GTEX.O5YT.0008.SM.4E3IQ\n",
       "[1,]  0                       0                        0                    \n",
       "[2,]  0                       0                        0                    \n",
       "[3,]  0                       0                        0                    \n",
       "[4,] 98                      25                      150                    \n",
       "[5,] 11                      34                       56                    \n",
       "     GTEX.PWN1.0726.SM.48TDR GTEX.PWN1.1526.SM.48TDA\n",
       "[1,]  1                        1                    \n",
       "[2,]  0                        0                    \n",
       "[3,]  0                        0                    \n",
       "[4,] 64                       37                    \n",
       "[5,] 38                      125                    "
      ]
     },
     "metadata": {},
     "output_type": "display_data"
    },
    {
     "data": {
      "text/html": [
       "<table>\n",
       "<caption>A matrix: 5 × 5 of type int</caption>\n",
       "<thead>\n",
       "\t<tr><th scope=col>GTEX.QV44.0008.SM.447AX</th><th scope=col>GTEX.UJMC.0426.SM.4IHJF</th><th scope=col>GTEX.O5YT.0008.SM.4E3IQ</th><th scope=col>GTEX.PWN1.0726.SM.48TDR</th><th scope=col>GTEX.PWN1.1526.SM.48TDA</th></tr>\n",
       "</thead>\n",
       "<tbody>\n",
       "\t<tr><td>  0</td><td>  0</td><td>  1</td><td>  0</td><td>  0</td></tr>\n",
       "\t<tr><td>247</td><td>103</td><td>494</td><td>145</td><td>145</td></tr>\n",
       "\t<tr><td>  0</td><td>  1</td><td>  0</td><td>  0</td><td>  1</td></tr>\n",
       "\t<tr><td>  1</td><td>  1</td><td>  0</td><td>  0</td><td>  1</td></tr>\n",
       "\t<tr><td>  0</td><td>  2</td><td>  6</td><td>  1</td><td>  1</td></tr>\n",
       "</tbody>\n",
       "</table>\n"
      ],
      "text/latex": [
       "A matrix: 5 × 5 of type int\n",
       "\\begin{tabular}{lllll}\n",
       " GTEX.QV44.0008.SM.447AX & GTEX.UJMC.0426.SM.4IHJF & GTEX.O5YT.0008.SM.4E3IQ & GTEX.PWN1.0726.SM.48TDR & GTEX.PWN1.1526.SM.48TDA\\\\\n",
       "\\hline\n",
       "\t   0 &   0 &   1 &   0 &   0\\\\\n",
       "\t 247 & 103 & 494 & 145 & 145\\\\\n",
       "\t   0 &   1 &   0 &   0 &   1\\\\\n",
       "\t   1 &   1 &   0 &   0 &   1\\\\\n",
       "\t   0 &   2 &   6 &   1 &   1\\\\\n",
       "\\end{tabular}\n"
      ],
      "text/markdown": [
       "\n",
       "A matrix: 5 × 5 of type int\n",
       "\n",
       "| GTEX.QV44.0008.SM.447AX | GTEX.UJMC.0426.SM.4IHJF | GTEX.O5YT.0008.SM.4E3IQ | GTEX.PWN1.0726.SM.48TDR | GTEX.PWN1.1526.SM.48TDA |\n",
       "|---|---|---|---|---|\n",
       "|   0 |   0 |   1 |   0 |   0 |\n",
       "| 247 | 103 | 494 | 145 | 145 |\n",
       "|   0 |   1 |   0 |   0 |   1 |\n",
       "|   1 |   1 |   0 |   0 |   1 |\n",
       "|   0 |   2 |   6 |   1 |   1 |\n",
       "\n"
      ],
      "text/plain": [
       "     GTEX.QV44.0008.SM.447AX GTEX.UJMC.0426.SM.4IHJF GTEX.O5YT.0008.SM.4E3IQ\n",
       "[1,]   0                       0                       1                    \n",
       "[2,] 247                     103                     494                    \n",
       "[3,]   0                       1                       0                    \n",
       "[4,]   1                       1                       0                    \n",
       "[5,]   0                       2                       6                    \n",
       "     GTEX.PWN1.0726.SM.48TDR GTEX.PWN1.1526.SM.48TDA\n",
       "[1,]   0                       0                    \n",
       "[2,] 145                     145                    \n",
       "[3,]   0                       1                    \n",
       "[4,]   0                       1                    \n",
       "[5,]   1                       1                    "
      ]
     },
     "metadata": {},
     "output_type": "display_data"
    },
    {
     "data": {
      "text/html": [
       "<table>\n",
       "<caption>A matrix: 5 × 5 of type int</caption>\n",
       "<thead>\n",
       "\t<tr><th scope=col>GTEX.QV44.0008.SM.447AX</th><th scope=col>GTEX.UJMC.0426.SM.4IHJF</th><th scope=col>GTEX.O5YT.0008.SM.4E3IQ</th><th scope=col>GTEX.PWN1.0726.SM.48TDR</th><th scope=col>GTEX.PWN1.1526.SM.48TDA</th></tr>\n",
       "</thead>\n",
       "<tbody>\n",
       "\t<tr><td>0</td><td>1</td><td>6</td><td>1</td><td>0</td></tr>\n",
       "\t<tr><td>0</td><td>0</td><td>0</td><td>0</td><td>1</td></tr>\n",
       "\t<tr><td>0</td><td>0</td><td>0</td><td>0</td><td>0</td></tr>\n",
       "\t<tr><td>0</td><td>0</td><td>0</td><td>0</td><td>0</td></tr>\n",
       "\t<tr><td>5</td><td>3</td><td>4</td><td>0</td><td>3</td></tr>\n",
       "</tbody>\n",
       "</table>\n"
      ],
      "text/latex": [
       "A matrix: 5 × 5 of type int\n",
       "\\begin{tabular}{lllll}\n",
       " GTEX.QV44.0008.SM.447AX & GTEX.UJMC.0426.SM.4IHJF & GTEX.O5YT.0008.SM.4E3IQ & GTEX.PWN1.0726.SM.48TDR & GTEX.PWN1.1526.SM.48TDA\\\\\n",
       "\\hline\n",
       "\t 0 & 1 & 6 & 1 & 0\\\\\n",
       "\t 0 & 0 & 0 & 0 & 1\\\\\n",
       "\t 0 & 0 & 0 & 0 & 0\\\\\n",
       "\t 0 & 0 & 0 & 0 & 0\\\\\n",
       "\t 5 & 3 & 4 & 0 & 3\\\\\n",
       "\\end{tabular}\n"
      ],
      "text/markdown": [
       "\n",
       "A matrix: 5 × 5 of type int\n",
       "\n",
       "| GTEX.QV44.0008.SM.447AX | GTEX.UJMC.0426.SM.4IHJF | GTEX.O5YT.0008.SM.4E3IQ | GTEX.PWN1.0726.SM.48TDR | GTEX.PWN1.1526.SM.48TDA |\n",
       "|---|---|---|---|---|\n",
       "| 0 | 1 | 6 | 1 | 0 |\n",
       "| 0 | 0 | 0 | 0 | 1 |\n",
       "| 0 | 0 | 0 | 0 | 0 |\n",
       "| 0 | 0 | 0 | 0 | 0 |\n",
       "| 5 | 3 | 4 | 0 | 3 |\n",
       "\n"
      ],
      "text/plain": [
       "     GTEX.QV44.0008.SM.447AX GTEX.UJMC.0426.SM.4IHJF GTEX.O5YT.0008.SM.4E3IQ\n",
       "[1,] 0                       1                       6                      \n",
       "[2,] 0                       0                       0                      \n",
       "[3,] 0                       0                       0                      \n",
       "[4,] 0                       0                       0                      \n",
       "[5,] 5                       3                       4                      \n",
       "     GTEX.PWN1.0726.SM.48TDR GTEX.PWN1.1526.SM.48TDA\n",
       "[1,] 1                       0                      \n",
       "[2,] 0                       1                      \n",
       "[3,] 0                       0                      \n",
       "[4,] 0                       0                      \n",
       "[5,] 0                       3                      "
      ]
     },
     "metadata": {},
     "output_type": "display_data"
    }
   ],
   "source": [
    "metadata_names <- as.character(ocounts_metadata$SAMPID)\n",
    "count_names    <- as.character(colnames(ose.jc.ijc))\n",
    "\n",
    "keep  <- count_names %in% metadata_names\n",
    "\n",
    "table(keep)\n",
    "length(keep)\n",
    "length(metadata_names)\n",
    "length(count_names)\n",
    "\n",
    "a3ss.jc.ijc2 = oa3ss.jc.ijc[,keep==TRUE] \n",
    "a3ss.jc.sjc2 = oa3ss.jc.sjc[,keep==TRUE] \n",
    "\n",
    "a5ss.jc.ijc2 = oa5ss.jc.ijc[,keep==TRUE] \n",
    "a5ss.jc.sjc2 = oa5ss.jc.sjc[,keep==TRUE] \n",
    "\n",
    "mxe.jc.ijc2 = omxe.jc.ijc[,keep==TRUE] \n",
    "mxe.jc.sjc2 = omxe.jc.sjc[,keep==TRUE] \n",
    "\n",
    "ri.jc.ijc2 = ori.jc.ijc[,keep==TRUE] \n",
    "ri.jc.sjc2 = ori.jc.sjc[,keep==TRUE] \n",
    "\n",
    "se.jc.ijc2 = ose.jc.ijc[,keep==TRUE] \n",
    "se.jc.sjc2 = ose.jc.sjc[,keep==TRUE] \n",
    "\n",
    "dim(a3ss.jc.ijc2)\n",
    "dim(a3ss.jc.sjc2)\n",
    "dim(a5ss.jc.ijc2)\n",
    "dim(a5ss.jc.sjc2)\n",
    "dim(mxe.jc.ijc2)\n",
    "dim(mxe.jc.sjc2)\n",
    "dim(ri.jc.ijc2)\n",
    "dim(ri.jc.sjc2)\n",
    "dim(se.jc.ijc2)\n",
    "dim(se.jc.sjc2)\n",
    "\n",
    "a3ss.jc.ijc2[1:5,1:5]\n",
    "a3ss.jc.sjc2[1:5,1:5]\n",
    "\n",
    "a5ss.jc.ijc2[1:5,1:5]\n",
    "a5ss.jc.sjc2[1:5,1:5]\n",
    "\n",
    "mxe.jc.ijc2[1:5,1:5]\n",
    "mxe.jc.sjc2[1:5,1:5]\n",
    "\n",
    "ri.jc.ijc2[1:5,1:5]\n",
    "ri.jc.sjc2[1:5,1:5]\n",
    "\n",
    "se.jc.ijc2[1:5,1:5]\n",
    "se.jc.sjc2[1:5,1:5]\n"
   ]
  },
  {
   "cell_type": "markdown",
   "metadata": {},
   "source": [
    "### Keeping only chromosomes shared male female - count matrix by junction row adjustment \n",
    "\n",
    "The Y chromosome spans more than 59 million base pairs of DNA and represents almost 2 percent of the total DNA in cells. Each person normally has one pair of sex chromosomes in each cell. The Y chromosome is present in males, who have one X and one Y chromosome, while females have two X chromosomes. Since our analysis is on the comparative differences, we must eliminate chrY from our analyses.\n",
    "\n",
    "To do so, we grab the annotation from the GTF file and remove those junctions that correspond to the genes on this chromosome.\n",
    "\n",
    "So this is a count matrix row adjustment."
   ]
  },
  {
   "cell_type": "code",
   "execution_count": 15,
   "metadata": {},
   "outputs": [
    {
     "data": {
      "text/html": [
       "<style>\n",
       ".list-inline {list-style: none; margin:0; padding: 0}\n",
       ".list-inline>li {display: inline-block}\n",
       ".list-inline>li:not(:last-child)::after {content: \"\\00b7\"; padding: 0 .5ex}\n",
       "</style>\n",
       "<ol class=list-inline><li>8920</li><li>11</li></ol>\n"
      ],
      "text/latex": [
       "\\begin{enumerate*}\n",
       "\\item 8920\n",
       "\\item 11\n",
       "\\end{enumerate*}\n"
      ],
      "text/markdown": [
       "1. 8920\n",
       "2. 11\n",
       "\n",
       "\n"
      ],
      "text/plain": [
       "[1] 8920   11"
      ]
     },
     "metadata": {},
     "output_type": "display_data"
    },
    {
     "data": {
      "text/html": [
       "<style>\n",
       ".list-inline {list-style: none; margin:0; padding: 0}\n",
       ".list-inline>li {display: inline-block}\n",
       ".list-inline>li:not(:last-child)::after {content: \"\\00b7\"; padding: 0 .5ex}\n",
       "</style>\n",
       "<ol class=list-inline><li>5584</li><li>11</li></ol>\n"
      ],
      "text/latex": [
       "\\begin{enumerate*}\n",
       "\\item 5584\n",
       "\\item 11\n",
       "\\end{enumerate*}\n"
      ],
      "text/markdown": [
       "1. 5584\n",
       "2. 11\n",
       "\n",
       "\n"
      ],
      "text/plain": [
       "[1] 5584   11"
      ]
     },
     "metadata": {},
     "output_type": "display_data"
    },
    {
     "data": {
      "text/html": [
       "<style>\n",
       ".list-inline {list-style: none; margin:0; padding: 0}\n",
       ".list-inline>li {display: inline-block}\n",
       ".list-inline>li:not(:last-child)::after {content: \"\\00b7\"; padding: 0 .5ex}\n",
       "</style>\n",
       "<ol class=list-inline><li>2979</li><li>13</li></ol>\n"
      ],
      "text/latex": [
       "\\begin{enumerate*}\n",
       "\\item 2979\n",
       "\\item 13\n",
       "\\end{enumerate*}\n"
      ],
      "text/markdown": [
       "1. 2979\n",
       "2. 13\n",
       "\n",
       "\n"
      ],
      "text/plain": [
       "[1] 2979   13"
      ]
     },
     "metadata": {},
     "output_type": "display_data"
    },
    {
     "data": {
      "text/html": [
       "<style>\n",
       ".list-inline {list-style: none; margin:0; padding: 0}\n",
       ".list-inline>li {display: inline-block}\n",
       ".list-inline>li:not(:last-child)::after {content: \"\\00b7\"; padding: 0 .5ex}\n",
       "</style>\n",
       "<ol class=list-inline><li>6312</li><li>11</li></ol>\n"
      ],
      "text/latex": [
       "\\begin{enumerate*}\n",
       "\\item 6312\n",
       "\\item 11\n",
       "\\end{enumerate*}\n"
      ],
      "text/markdown": [
       "1. 6312\n",
       "2. 11\n",
       "\n",
       "\n"
      ],
      "text/plain": [
       "[1] 6312   11"
      ]
     },
     "metadata": {},
     "output_type": "display_data"
    },
    {
     "data": {
      "text/html": [
       "<style>\n",
       ".list-inline {list-style: none; margin:0; padding: 0}\n",
       ".list-inline>li {display: inline-block}\n",
       ".list-inline>li:not(:last-child)::after {content: \"\\00b7\"; padding: 0 .5ex}\n",
       "</style>\n",
       "<ol class=list-inline><li>42611</li><li>11</li></ol>\n"
      ],
      "text/latex": [
       "\\begin{enumerate*}\n",
       "\\item 42611\n",
       "\\item 11\n",
       "\\end{enumerate*}\n"
      ],
      "text/markdown": [
       "1. 42611\n",
       "2. 11\n",
       "\n",
       "\n"
      ],
      "text/plain": [
       "[1] 42611    11"
      ]
     },
     "metadata": {},
     "output_type": "display_data"
    },
    {
     "data": {
      "text/html": [
       "5177"
      ],
      "text/latex": [
       "5177"
      ],
      "text/markdown": [
       "5177"
      ],
      "text/plain": [
       "[1] 5177"
      ]
     },
     "metadata": {},
     "output_type": "display_data"
    },
    {
     "data": {
      "text/html": [
       "3824"
      ],
      "text/latex": [
       "3824"
      ],
      "text/markdown": [
       "3824"
      ],
      "text/plain": [
       "[1] 3824"
      ]
     },
     "metadata": {},
     "output_type": "display_data"
    },
    {
     "data": {
      "text/html": [
       "1619"
      ],
      "text/latex": [
       "1619"
      ],
      "text/markdown": [
       "1619"
      ],
      "text/plain": [
       "[1] 1619"
      ]
     },
     "metadata": {},
     "output_type": "display_data"
    },
    {
     "data": {
      "text/html": [
       "3617"
      ],
      "text/latex": [
       "3617"
      ],
      "text/markdown": [
       "3617"
      ],
      "text/plain": [
       "[1] 3617"
      ]
     },
     "metadata": {},
     "output_type": "display_data"
    },
    {
     "data": {
      "text/html": [
       "13390"
      ],
      "text/latex": [
       "13390"
      ],
      "text/markdown": [
       "13390"
      ],
      "text/plain": [
       "[1] 13390"
      ]
     },
     "metadata": {},
     "output_type": "display_data"
    },
    {
     "data": {
      "text/plain": [
       "\n",
       " chr1 chr10 chr11 chr12 chr13 chr14 chr15 chr16 chr17 chr18 chr19  chr2 chr20 \n",
       "  862   230   643   552   108   304   326   537   626   118   783   578   241 \n",
       "chr21 chr22  chr3  chr4  chr5  chr6  chr7  chr8  chr9  chrX  chrY \n",
       "   85   246   514   260   337   388   377   255   264   269    17 "
      ]
     },
     "metadata": {},
     "output_type": "display_data"
    },
    {
     "data": {
      "text/plain": [
       "\n",
       " chr1 chr10 chr11 chr12 chr13 chr14 chr15 chr16 chr17 chr18 chr19  chr2 chr20 \n",
       "  496   155   386   354    59   212   188   348   410    74   400   387   135 \n",
       "chr21 chr22  chr3  chr4  chr5  chr6  chr7  chr8  chr9  chrX  chrY \n",
       "   60   129   368   184   210   216   284   166   162   191    10 "
      ]
     },
     "metadata": {},
     "output_type": "display_data"
    },
    {
     "data": {
      "text/plain": [
       "\n",
       " chr1 chr10 chr11 chr12 chr13 chr14 chr15 chr16 chr17 chr18 chr19  chr2 chr20 \n",
       "  286   120   152   166    46   109    97   137   154    70   116   386    67 \n",
       "chr21 chr22  chr3  chr4  chr5  chr6  chr7  chr8  chr9  chrX  chrY \n",
       "   40    49   205   144   127   155   106   104    74    61     8 "
      ]
     },
     "metadata": {},
     "output_type": "display_data"
    },
    {
     "data": {
      "text/plain": [
       "\n",
       " chr1 chr10 chr11 chr12 chr13 chr14 chr15 chr16 chr17 chr18 chr19  chr2 chr20 \n",
       "  604   117   475   423    46   241   191   441   541    40   637   327   153 \n",
       "chr21 chr22  chr3  chr4  chr5  chr6  chr7  chr8  chr9  chrX  chrY \n",
       "   64   194   371   133   181   284   250   185   192   207    15 "
      ]
     },
     "metadata": {},
     "output_type": "display_data"
    },
    {
     "data": {
      "text/plain": [
       "\n",
       " chr1 chr10 chr11 chr12 chr13 chr14 chr15 chr16 chr17 chr18 chr19  chr2 chr20 \n",
       " 3812  1458  2541  2540   663  1551  1544  2039  2538   742  2552  3547   939 \n",
       "chr21 chr22  chr3  chr4  chr5  chr6  chr7  chr8  chr9  chrX  chrY \n",
       "  493   895  2938  1803  1863  1890  2053  1636  1313  1134   127 "
      ]
     },
     "metadata": {},
     "output_type": "display_data"
    },
    {
     "data": {
      "text/plain": [
       "A3SS.keepAllJunctionsButChrY\n",
       "FALSE  TRUE \n",
       "   17  8903 "
      ]
     },
     "metadata": {},
     "output_type": "display_data"
    },
    {
     "data": {
      "text/html": [
       "8920"
      ],
      "text/latex": [
       "8920"
      ],
      "text/markdown": [
       "8920"
      ],
      "text/plain": [
       "[1] 8920"
      ]
     },
     "metadata": {},
     "output_type": "display_data"
    },
    {
     "data": {
      "text/plain": [
       "A5SS.keepAllJunctionsButChrY\n",
       "FALSE  TRUE \n",
       "   10  5574 "
      ]
     },
     "metadata": {},
     "output_type": "display_data"
    },
    {
     "data": {
      "text/html": [
       "5584"
      ],
      "text/latex": [
       "5584"
      ],
      "text/markdown": [
       "5584"
      ],
      "text/plain": [
       "[1] 5584"
      ]
     },
     "metadata": {},
     "output_type": "display_data"
    },
    {
     "data": {
      "text/plain": [
       "MXE.keepAllJunctionsButChrY\n",
       "FALSE  TRUE \n",
       "    8  2971 "
      ]
     },
     "metadata": {},
     "output_type": "display_data"
    },
    {
     "data": {
      "text/html": [
       "2979"
      ],
      "text/latex": [
       "2979"
      ],
      "text/markdown": [
       "2979"
      ],
      "text/plain": [
       "[1] 2979"
      ]
     },
     "metadata": {},
     "output_type": "display_data"
    },
    {
     "data": {
      "text/plain": [
       "RI.keepAllJunctionsButChrY\n",
       "FALSE  TRUE \n",
       "   15  6297 "
      ]
     },
     "metadata": {},
     "output_type": "display_data"
    },
    {
     "data": {
      "text/html": [
       "6312"
      ],
      "text/latex": [
       "6312"
      ],
      "text/markdown": [
       "6312"
      ],
      "text/plain": [
       "[1] 6312"
      ]
     },
     "metadata": {},
     "output_type": "display_data"
    },
    {
     "data": {
      "text/plain": [
       "SE.keepAllJunctionsButChrY\n",
       "FALSE  TRUE \n",
       "  127 42484 "
      ]
     },
     "metadata": {},
     "output_type": "display_data"
    },
    {
     "data": {
      "text/html": [
       "42611"
      ],
      "text/latex": [
       "42611"
      ],
      "text/markdown": [
       "42611"
      ],
      "text/plain": [
       "[1] 42611"
      ]
     },
     "metadata": {},
     "output_type": "display_data"
    },
    {
     "data": {
      "text/html": [
       "<style>\n",
       ".list-inline {list-style: none; margin:0; padding: 0}\n",
       ".list-inline>li {display: inline-block}\n",
       ".list-inline>li:not(:last-child)::after {content: \"\\00b7\"; padding: 0 .5ex}\n",
       "</style>\n",
       "<ol class=list-inline><li>8903</li><li>11</li></ol>\n"
      ],
      "text/latex": [
       "\\begin{enumerate*}\n",
       "\\item 8903\n",
       "\\item 11\n",
       "\\end{enumerate*}\n"
      ],
      "text/markdown": [
       "1. 8903\n",
       "2. 11\n",
       "\n",
       "\n"
      ],
      "text/plain": [
       "[1] 8903   11"
      ]
     },
     "metadata": {},
     "output_type": "display_data"
    },
    {
     "data": {
      "text/html": [
       "<style>\n",
       ".list-inline {list-style: none; margin:0; padding: 0}\n",
       ".list-inline>li {display: inline-block}\n",
       ".list-inline>li:not(:last-child)::after {content: \"\\00b7\"; padding: 0 .5ex}\n",
       "</style>\n",
       "<ol class=list-inline><li>5574</li><li>11</li></ol>\n"
      ],
      "text/latex": [
       "\\begin{enumerate*}\n",
       "\\item 5574\n",
       "\\item 11\n",
       "\\end{enumerate*}\n"
      ],
      "text/markdown": [
       "1. 5574\n",
       "2. 11\n",
       "\n",
       "\n"
      ],
      "text/plain": [
       "[1] 5574   11"
      ]
     },
     "metadata": {},
     "output_type": "display_data"
    },
    {
     "data": {
      "text/html": [
       "<style>\n",
       ".list-inline {list-style: none; margin:0; padding: 0}\n",
       ".list-inline>li {display: inline-block}\n",
       ".list-inline>li:not(:last-child)::after {content: \"\\00b7\"; padding: 0 .5ex}\n",
       "</style>\n",
       "<ol class=list-inline><li>2971</li><li>13</li></ol>\n"
      ],
      "text/latex": [
       "\\begin{enumerate*}\n",
       "\\item 2971\n",
       "\\item 13\n",
       "\\end{enumerate*}\n"
      ],
      "text/markdown": [
       "1. 2971\n",
       "2. 13\n",
       "\n",
       "\n"
      ],
      "text/plain": [
       "[1] 2971   13"
      ]
     },
     "metadata": {},
     "output_type": "display_data"
    },
    {
     "data": {
      "text/html": [
       "<style>\n",
       ".list-inline {list-style: none; margin:0; padding: 0}\n",
       ".list-inline>li {display: inline-block}\n",
       ".list-inline>li:not(:last-child)::after {content: \"\\00b7\"; padding: 0 .5ex}\n",
       "</style>\n",
       "<ol class=list-inline><li>6297</li><li>11</li></ol>\n"
      ],
      "text/latex": [
       "\\begin{enumerate*}\n",
       "\\item 6297\n",
       "\\item 11\n",
       "\\end{enumerate*}\n"
      ],
      "text/markdown": [
       "1. 6297\n",
       "2. 11\n",
       "\n",
       "\n"
      ],
      "text/plain": [
       "[1] 6297   11"
      ]
     },
     "metadata": {},
     "output_type": "display_data"
    },
    {
     "data": {
      "text/html": [
       "<style>\n",
       ".list-inline {list-style: none; margin:0; padding: 0}\n",
       ".list-inline>li {display: inline-block}\n",
       ".list-inline>li:not(:last-child)::after {content: \"\\00b7\"; padding: 0 .5ex}\n",
       "</style>\n",
       "<ol class=list-inline><li>42484</li><li>11</li></ol>\n"
      ],
      "text/latex": [
       "\\begin{enumerate*}\n",
       "\\item 42484\n",
       "\\item 11\n",
       "\\end{enumerate*}\n"
      ],
      "text/markdown": [
       "1. 42484\n",
       "2. 11\n",
       "\n",
       "\n"
      ],
      "text/plain": [
       "[1] 42484    11"
      ]
     },
     "metadata": {},
     "output_type": "display_data"
    },
    {
     "data": {
      "text/html": [
       "<style>\n",
       ".list-inline {list-style: none; margin:0; padding: 0}\n",
       ".list-inline>li {display: inline-block}\n",
       ".list-inline>li:not(:last-child)::after {content: \"\\00b7\"; padding: 0 .5ex}\n",
       "</style>\n",
       "<ol class=list-inline><li>8903</li><li>7020</li></ol>\n"
      ],
      "text/latex": [
       "\\begin{enumerate*}\n",
       "\\item 8903\n",
       "\\item 7020\n",
       "\\end{enumerate*}\n"
      ],
      "text/markdown": [
       "1. 8903\n",
       "2. 7020\n",
       "\n",
       "\n"
      ],
      "text/plain": [
       "[1] 8903 7020"
      ]
     },
     "metadata": {},
     "output_type": "display_data"
    },
    {
     "data": {
      "text/html": [
       "<style>\n",
       ".list-inline {list-style: none; margin:0; padding: 0}\n",
       ".list-inline>li {display: inline-block}\n",
       ".list-inline>li:not(:last-child)::after {content: \"\\00b7\"; padding: 0 .5ex}\n",
       "</style>\n",
       "<ol class=list-inline><li>8903</li><li>7020</li></ol>\n"
      ],
      "text/latex": [
       "\\begin{enumerate*}\n",
       "\\item 8903\n",
       "\\item 7020\n",
       "\\end{enumerate*}\n"
      ],
      "text/markdown": [
       "1. 8903\n",
       "2. 7020\n",
       "\n",
       "\n"
      ],
      "text/plain": [
       "[1] 8903 7020"
      ]
     },
     "metadata": {},
     "output_type": "display_data"
    },
    {
     "data": {
      "text/html": [
       "<style>\n",
       ".list-inline {list-style: none; margin:0; padding: 0}\n",
       ".list-inline>li {display: inline-block}\n",
       ".list-inline>li:not(:last-child)::after {content: \"\\00b7\"; padding: 0 .5ex}\n",
       "</style>\n",
       "<ol class=list-inline><li>5574</li><li>7020</li></ol>\n"
      ],
      "text/latex": [
       "\\begin{enumerate*}\n",
       "\\item 5574\n",
       "\\item 7020\n",
       "\\end{enumerate*}\n"
      ],
      "text/markdown": [
       "1. 5574\n",
       "2. 7020\n",
       "\n",
       "\n"
      ],
      "text/plain": [
       "[1] 5574 7020"
      ]
     },
     "metadata": {},
     "output_type": "display_data"
    },
    {
     "data": {
      "text/html": [
       "<style>\n",
       ".list-inline {list-style: none; margin:0; padding: 0}\n",
       ".list-inline>li {display: inline-block}\n",
       ".list-inline>li:not(:last-child)::after {content: \"\\00b7\"; padding: 0 .5ex}\n",
       "</style>\n",
       "<ol class=list-inline><li>5574</li><li>7020</li></ol>\n"
      ],
      "text/latex": [
       "\\begin{enumerate*}\n",
       "\\item 5574\n",
       "\\item 7020\n",
       "\\end{enumerate*}\n"
      ],
      "text/markdown": [
       "1. 5574\n",
       "2. 7020\n",
       "\n",
       "\n"
      ],
      "text/plain": [
       "[1] 5574 7020"
      ]
     },
     "metadata": {},
     "output_type": "display_data"
    },
    {
     "data": {
      "text/html": [
       "<style>\n",
       ".list-inline {list-style: none; margin:0; padding: 0}\n",
       ".list-inline>li {display: inline-block}\n",
       ".list-inline>li:not(:last-child)::after {content: \"\\00b7\"; padding: 0 .5ex}\n",
       "</style>\n",
       "<ol class=list-inline><li>2971</li><li>7020</li></ol>\n"
      ],
      "text/latex": [
       "\\begin{enumerate*}\n",
       "\\item 2971\n",
       "\\item 7020\n",
       "\\end{enumerate*}\n"
      ],
      "text/markdown": [
       "1. 2971\n",
       "2. 7020\n",
       "\n",
       "\n"
      ],
      "text/plain": [
       "[1] 2971 7020"
      ]
     },
     "metadata": {},
     "output_type": "display_data"
    },
    {
     "data": {
      "text/html": [
       "<style>\n",
       ".list-inline {list-style: none; margin:0; padding: 0}\n",
       ".list-inline>li {display: inline-block}\n",
       ".list-inline>li:not(:last-child)::after {content: \"\\00b7\"; padding: 0 .5ex}\n",
       "</style>\n",
       "<ol class=list-inline><li>2971</li><li>7020</li></ol>\n"
      ],
      "text/latex": [
       "\\begin{enumerate*}\n",
       "\\item 2971\n",
       "\\item 7020\n",
       "\\end{enumerate*}\n"
      ],
      "text/markdown": [
       "1. 2971\n",
       "2. 7020\n",
       "\n",
       "\n"
      ],
      "text/plain": [
       "[1] 2971 7020"
      ]
     },
     "metadata": {},
     "output_type": "display_data"
    },
    {
     "data": {
      "text/html": [
       "<style>\n",
       ".list-inline {list-style: none; margin:0; padding: 0}\n",
       ".list-inline>li {display: inline-block}\n",
       ".list-inline>li:not(:last-child)::after {content: \"\\00b7\"; padding: 0 .5ex}\n",
       "</style>\n",
       "<ol class=list-inline><li>6297</li><li>7020</li></ol>\n"
      ],
      "text/latex": [
       "\\begin{enumerate*}\n",
       "\\item 6297\n",
       "\\item 7020\n",
       "\\end{enumerate*}\n"
      ],
      "text/markdown": [
       "1. 6297\n",
       "2. 7020\n",
       "\n",
       "\n"
      ],
      "text/plain": [
       "[1] 6297 7020"
      ]
     },
     "metadata": {},
     "output_type": "display_data"
    },
    {
     "data": {
      "text/html": [
       "<style>\n",
       ".list-inline {list-style: none; margin:0; padding: 0}\n",
       ".list-inline>li {display: inline-block}\n",
       ".list-inline>li:not(:last-child)::after {content: \"\\00b7\"; padding: 0 .5ex}\n",
       "</style>\n",
       "<ol class=list-inline><li>6297</li><li>7020</li></ol>\n"
      ],
      "text/latex": [
       "\\begin{enumerate*}\n",
       "\\item 6297\n",
       "\\item 7020\n",
       "\\end{enumerate*}\n"
      ],
      "text/markdown": [
       "1. 6297\n",
       "2. 7020\n",
       "\n",
       "\n"
      ],
      "text/plain": [
       "[1] 6297 7020"
      ]
     },
     "metadata": {},
     "output_type": "display_data"
    },
    {
     "data": {
      "text/html": [
       "<style>\n",
       ".list-inline {list-style: none; margin:0; padding: 0}\n",
       ".list-inline>li {display: inline-block}\n",
       ".list-inline>li:not(:last-child)::after {content: \"\\00b7\"; padding: 0 .5ex}\n",
       "</style>\n",
       "<ol class=list-inline><li>42484</li><li>7020</li></ol>\n"
      ],
      "text/latex": [
       "\\begin{enumerate*}\n",
       "\\item 42484\n",
       "\\item 7020\n",
       "\\end{enumerate*}\n"
      ],
      "text/markdown": [
       "1. 42484\n",
       "2. 7020\n",
       "\n",
       "\n"
      ],
      "text/plain": [
       "[1] 42484  7020"
      ]
     },
     "metadata": {},
     "output_type": "display_data"
    },
    {
     "data": {
      "text/html": [
       "<style>\n",
       ".list-inline {list-style: none; margin:0; padding: 0}\n",
       ".list-inline>li {display: inline-block}\n",
       ".list-inline>li:not(:last-child)::after {content: \"\\00b7\"; padding: 0 .5ex}\n",
       "</style>\n",
       "<ol class=list-inline><li>42484</li><li>7020</li></ol>\n"
      ],
      "text/latex": [
       "\\begin{enumerate*}\n",
       "\\item 42484\n",
       "\\item 7020\n",
       "\\end{enumerate*}\n"
      ],
      "text/markdown": [
       "1. 42484\n",
       "2. 7020\n",
       "\n",
       "\n"
      ],
      "text/plain": [
       "[1] 42484  7020"
      ]
     },
     "metadata": {},
     "output_type": "display_data"
    }
   ],
   "source": [
    "dim(fromGTF.A3SS)\n",
    "dim(fromGTF.A5SS)\n",
    "dim(fromGTF.MXE)\n",
    "dim(fromGTF.RI)\n",
    "dim(fromGTF.SE)\n",
    "\n",
    "A3SS.genes <- factor(fromGTF.A3SS$geneSymbol)\n",
    "A5SS.genes <- factor(fromGTF.A5SS$geneSymbol)\n",
    "MXE.genes  <- factor(fromGTF.MXE$geneSymbol)\n",
    "RI.genes   <- factor(fromGTF.RI$geneSymbol)\n",
    "SE.genes   <- factor(fromGTF.SE$geneSymbol)\n",
    "\n",
    "length(levels(A3SS.genes))    \n",
    "length(levels(A5SS.genes))    \n",
    "length(levels(MXE.genes))    \n",
    "length(levels(RI.genes))    \n",
    "length(levels(SE.genes))    \n",
    "\n",
    "table(fromGTF.A3SS$chr)\n",
    "table(fromGTF.A5SS$chr)\n",
    "table(fromGTF.MXE$chr)\n",
    "table(fromGTF.RI$chr)\n",
    "table(fromGTF.SE$chr)\n",
    "\n",
    "A3SS.keepAllJunctionsButChrY <- (fromGTF.A3SS$chr != \"chrY\")\n",
    "A5SS.keepAllJunctionsButChrY <- (fromGTF.A5SS$chr != \"chrY\")\n",
    "MXE.keepAllJunctionsButChrY  <- (fromGTF.MXE$chr  != \"chrY\")\n",
    "RI.keepAllJunctionsButChrY   <- (fromGTF.RI$chr   != \"chrY\")\n",
    "SE.keepAllJunctionsButChrY   <- (fromGTF.SE$chr   != \"chrY\")\n",
    "\n",
    "table(A3SS.keepAllJunctionsButChrY)\n",
    "sum(table(A3SS.keepAllJunctionsButChrY))\n",
    "\n",
    "table(A5SS.keepAllJunctionsButChrY)\n",
    "sum(table(A5SS.keepAllJunctionsButChrY))\n",
    "\n",
    "table(MXE.keepAllJunctionsButChrY)\n",
    "sum(table(MXE.keepAllJunctionsButChrY))\n",
    "\n",
    "table(RI.keepAllJunctionsButChrY)\n",
    "sum(table(RI.keepAllJunctionsButChrY))\n",
    "\n",
    "table(SE.keepAllJunctionsButChrY)\n",
    "sum(table(SE.keepAllJunctionsButChrY))\n",
    "\n",
    "a3ss_fromGTF_no_chrY          <- fromGTF.A3SS[A3SS.keepAllJunctionsButChrY,]\n",
    "a3ss_jc_ijc_no_chrY           <- a3ss.jc.ijc2[A3SS.keepAllJunctionsButChrY,]\n",
    "a3ss_jc_sjc_no_chrY           <- a3ss.jc.sjc2[A3SS.keepAllJunctionsButChrY,]\n",
    "rownames(a3ss_jc_ijc_no_chrY) <- rownames(a3ss_fromGTF_no_chrY)\n",
    "rownames(a3ss_jc_sjc_no_chrY) <- rownames(a3ss_fromGTF_no_chrY)\n",
    "\n",
    "a5ss_fromGTF_no_chrY          <- fromGTF.A5SS[A5SS.keepAllJunctionsButChrY,]\n",
    "a5ss_jc_ijc_no_chrY           <- a5ss.jc.ijc2[A5SS.keepAllJunctionsButChrY,]\n",
    "a5ss_jc_sjc_no_chrY           <- a5ss.jc.sjc2[A5SS.keepAllJunctionsButChrY,]\n",
    "rownames(a5ss_jc_ijc_no_chrY) <- rownames(a5ss_fromGTF_no_chrY)\n",
    "rownames(a5ss_jc_sjc_no_chrY) <- rownames(a5ss_fromGTF_no_chrY)\n",
    "\n",
    "mxe_fromGTF_no_chrY          <- fromGTF.MXE[MXE.keepAllJunctionsButChrY,]\n",
    "mxe_jc_ijc_no_chrY           <- mxe.jc.ijc2[MXE.keepAllJunctionsButChrY,]\n",
    "mxe_jc_sjc_no_chrY           <- mxe.jc.sjc2[MXE.keepAllJunctionsButChrY,]\n",
    "rownames(mxe_jc_ijc_no_chrY) <- rownames(mxe_fromGTF_no_chrY)\n",
    "rownames(mxe_jc_sjc_no_chrY) <- rownames(mxe_fromGTF_no_chrY)\n",
    "\n",
    "ri_fromGTF_no_chrY          <- fromGTF.RI[RI.keepAllJunctionsButChrY,]\n",
    "ri_jc_ijc_no_chrY           <- ri.jc.ijc2[RI.keepAllJunctionsButChrY,]\n",
    "ri_jc_sjc_no_chrY           <- ri.jc.sjc2[RI.keepAllJunctionsButChrY,]\n",
    "rownames(ri_jc_ijc_no_chrY) <- rownames(ri_fromGTF_no_chrY)\n",
    "rownames(ri_jc_sjc_no_chrY) <- rownames(ri_fromGTF_no_chrY)\n",
    "\n",
    "se_fromGTF_no_chrY          <- fromGTF.SE[SE.keepAllJunctionsButChrY,]\n",
    "se_jc_ijc_no_chrY           <- se.jc.ijc2[SE.keepAllJunctionsButChrY,]\n",
    "se_jc_sjc_no_chrY           <- se.jc.sjc2[SE.keepAllJunctionsButChrY,]\n",
    "rownames(se_jc_ijc_no_chrY) <- rownames(se_fromGTF_no_chrY)\n",
    "rownames(se_jc_sjc_no_chrY) <- rownames(se_fromGTF_no_chrY)\n",
    "\n",
    "dim(a3ss_fromGTF_no_chrY)\n",
    "dim(a5ss_fromGTF_no_chrY)\n",
    "dim(mxe_fromGTF_no_chrY)\n",
    "dim(ri_fromGTF_no_chrY)\n",
    "dim(se_fromGTF_no_chrY)\n",
    "\n",
    "dim(a3ss_jc_ijc_no_chrY)\n",
    "dim(a3ss_jc_sjc_no_chrY)\n",
    "\n",
    "dim(a5ss_jc_ijc_no_chrY)\n",
    "dim(a5ss_jc_sjc_no_chrY)\n",
    "\n",
    "dim(mxe_jc_ijc_no_chrY)\n",
    "dim(mxe_jc_sjc_no_chrY)\n",
    "\n",
    "dim(ri_jc_ijc_no_chrY)\n",
    "dim(ri_jc_sjc_no_chrY)\n",
    "\n",
    "dim(se_jc_ijc_no_chrY)\n",
    "dim(se_jc_sjc_no_chrY)"
   ]
  },
  {
   "cell_type": "markdown",
   "metadata": {},
   "source": [
    "## Exploratory and Differential analysis as_event:ijc, sjc \n",
    "\n",
    "Differential Analysis (DE) was performed using voom (Law et.al., 2014) to transform junction counts (reads that were aligned to junctions when an exon is included - ijc, and reads that were aligned to junctions when the exon is excluded - sjc) with associated precision weights, followed by linear modeling and empirical Bayes procedure using limma.    In each tissue, the following linear regression model was used to detec secually dimorphic alternative splicing event expression: \n",
    "\n",
    "           y = B0 + B1 sex + epsilon (error)\n",
    "           \n",
    "\n",
    "where y is the included exon junction count expression; sex denotes the reported sex of the subject\n",
    "\n",
    "## Differential analysis as_event (combined ijc and sjc)\n",
    "\n",
    "Differential Analysis (DE) was performed using voom (Law et.al., 2014) to transform junction counts (reads that were aligned to junctions when an exon is included - ijc, and reads that were aligned to junctions when the exon is excluded - sjc) with associated precision weights, followed by linear modeling and empirical Bayes procedure using limma.    In each tissue, the following linear regression model was used to detec secually dimorphic alternative splicing event expression: \n",
    "\n",
    "           y = B0 + B1 sex + B2 as_event + B3 sex*as_event + epsilon (error)\n",
    "           \n",
    "\n",
    "where y is the alternative splicing event expression; sex denotes the reported sex of the subject, as_event represents the specific alternative splicing event - either included exon junction counts or skipped exon junction counts and their interaction terms.   Donor is added to our model as a blocking variable used in both the calculation of duplicate correlation as well as in the linear fit.\n",
    "\n",
    "### Voom, limma's lmFit and eBayes\n",
    "\n",
    "Using sample as a blocking variable, we are able to model the effects of the donor on the results, which improves the power.  This topic is discussed in biostars https://www.biostars.org/p/54565/.  And Gordon Smyth answers the question here https://mailman.stat.ethz.ch/pipermail/bioconductor/2014-February/057887.html.  The method of modeling is a random effects approach in which the intra-donor correlation is incorporated into the covariance matrix instead of the linear predictor.   And though as Gordon Smyth states both are good method and the twoway anova approach makes fewer assumptions, the random effects approach is statistically more powerful.  \n",
    "\n",
    "We have a balanced design in which all donors receive all stimuli (which is really in healthy human donors, life and all of its factors!) Our measurement has so many points -- we are measuring in the skipped exon approach, 42,611 junctions!   It is not possible to encorporate those measurements into the linear predictor.  A two-way ANOVA approach is virtually as powerful as the random effects approach \n",
    "and hence is preferable as it makes fewer assumptions.\n",
    "\n",
    "For an unbalanced design in which each donor receives only a subset of the stimula, the random effects approach is more powerful.\n",
    "\n",
    "Random effects approach is equivalent to The first method is twoway anova, a generalization of a paired analysis.\n"
   ]
  },
  {
   "cell_type": "code",
   "execution_count": 27,
   "metadata": {},
   "outputs": [],
   "source": [
    "print_exploratory_plots <- function (plot, dup, tissue_of_interest, splice_type, fromGTF, tissue_list, ijc, sjc, obj, metadata ) {\n",
    "\n",
    "    fromGTF           <- fromGTF\n",
    "    tissue_true       <- tissue_list == tissue_of_interest\n",
    "\n",
    "    # test to make sure we don't have nonsense\n",
    "    # like proteins - this process moves in one direction\n",
    "    # tissue will get us the phenotype selection \n",
    "    # from the phenotype SAMPID we get the metadata SAMPID\n",
    "    # which leads us to counts - it goes in this direction.\n",
    "    # first phenotype obj subsetting for the tissue_of_interest\n",
    "\n",
    "    message(\"\\nLimiting phenotype data to tissue of interest\\n\",\n",
    "           paste(tissue_of_interest),collapse=\" \")    \n",
    "    keep = pData(obj)$SMTSD== tissue_of_interest\n",
    "    message(\"\\nkeep\\n\",\n",
    "           paste(table(keep)),collapse=\" \")    \n",
    "    tissue_obj<- obj[,keep]\n",
    "    message(\"\\ntissue_obj now reduced to the tissue of interest\\n\",\n",
    "            paste(dim(pData(tissue_obj)), collapse=\" \"))\n",
    "    message(\"\\nsample value\\n\",\n",
    "            paste(   pData(tissue_obj)[1,], collapse=\" \"))\n",
    "\n",
    "    # now we get the runs via the metadata matrix via SAMPID\n",
    "    # limit the phenotype info to just the samples we care about\n",
    "    metadata_samples          <- as.character(metadata$SAMPID)\n",
    "    tissue_phenotype_samples  <- as.character(pData(tissue_obj)$SAMPID)\n",
    "\n",
    "    rm(keep)\n",
    "    keep = tissue_phenotype_samples %in% metadata_samples\n",
    "    message(\"\\nLimit the phenotypes to those we have samples for\\n\", \n",
    "        paste(table(keep), collapse = \" \") )\n",
    "    message(\"\\ntissue_count_obj now has these count specific phenotypes\")    \n",
    "    tissue_count_obj        <- tissue_obj[keep,]\n",
    "    pData(tissue_count_obj) <- pData(tissue_obj)[keep,]\n",
    "    message(\"\\nDimensions of tissue_count_obj\\n\", \n",
    "        paste(dim(pData(tissue_count_obj)), collapse = \" \") )\n",
    "    message(\"\\nDimensions of tissue_count_obj \\n\", \n",
    "        paste( dim(tissue_count_obj), collapse = \" \") )\n",
    "\n",
    "    # and vice-versa, limit our samples to the ones we have phenotype for\n",
    "    rm(keep)\n",
    "    metadata_samples       <- as.character(metadata$SAMPID)\n",
    "    phenotype_samples      <- as.character(pData(tissue_count_obj)$SAMPID)\n",
    "    keep = metadata_samples %in% phenotype_samples\n",
    "    message(\"\\nLimit the counts now has these count specific phenotypes \\n\", \n",
    "        paste( table(keep), collapse = \" \") )\n",
    "    table(keep)\n",
    "\n",
    "    ijc_tissue        <- ijc     [          ,keep==TRUE]\n",
    "    sjc_tissue        <- sjc     [          ,keep==TRUE]\n",
    "    metadata_tissue   <- metadata[keep==TRUE,          ]\n",
    "\n",
    "    message(\"\\ndimensions of the ijc_tissue \\n\", \n",
    "        paste(  dim(ijc_tissue), collapse = \" \") )\n",
    "    message(\"\\ndimensions of the ijc_tissue \\n\", \n",
    "        paste(  dim(sjc_tissue), collapse = \" \") )\n",
    "    message(\"\\ndimensions of the metadata_tissue \\n\", \n",
    "        paste(  dim(metadata_tissue), collapse = \" \") )\n",
    "   \n",
    "    metadata_samples       <- as.character(metadata_tissue$SAMPID)\n",
    "    phenotype_samples      <- as.character(pData(tissue_count_obj)$SAMPID)\n",
    "\n",
    "    length(metadata_samples)\n",
    "    length(phenotype_samples)\n",
    "    non_overlaps <- setdiff( metadata_samples, phenotype_samples)\n",
    "    message(\"\\nThe non-overlapping IDs between pheno and count data are:\\n\", \n",
    "        paste(length(non_overlaps), collapse = \" \") )\n",
    "\n",
    "    ijc.dm            <- data.matrix(ijc_tissue)\n",
    "    sjc.dm            <- data.matrix(sjc_tissue)    \n",
    "\n",
    "    ## remove features (junctions) that have zero sums\n",
    "    ijc.rs <- rowSums(ijc.dm) \n",
    "    keep.ijc.rs <- (ijc.rs > 10)\n",
    "    sjc.rs <- rowSums(sjc.dm) \n",
    "    keep.sjc.rs <- (sjc.rs > 10)\n",
    "    keep <- keep.ijc.rs | keep.sjc.rs\n",
    "    message(\"\\nijc.rs > 10 \\n\", \n",
    "        paste(table(keep.ijc.rs), collapse = \" \") )                    \n",
    "    message(\"\\nsjc.rs > 10 \\n\", \n",
    "        paste(table(keep.sjc.rs), collapse = \" \") )\n",
    "    message(\"\\nkeep combined ijc | sjc \\n\", \n",
    "        paste(table(keep), collapse = \" \") )                    \n",
    "    \n",
    "    # ensure the matrices do not have too many zeros\n",
    "    ijc.dm <- ijc.dm[keep,]\n",
    "    sjc.dm <- sjc.dm[keep,]\n",
    "    message(\"\\ndim(ijc.dm)\\n\", \n",
    "        paste(dim(ijc.dm), collapse = \" \") )                    \n",
    "    message(\"\\ndim(sjc.dm)\\n\", \n",
    "        paste(dim(sjc.dm), collapse = \" \") )\n",
    "    message(\"\\n\")\n",
    "    \n",
    "    for (i in (1:length(metadata_samples))) {\n",
    "        sample = metadata_tissue[i,]$SAMPID\n",
    "        sample_sex = pData(tissue_count_obj)$SEX[pData(tissue_count_obj)$SAMPID == sample]\n",
    "        if (i==1) {\n",
    "            sex = sample_sex\n",
    "        } else {\n",
    "            sex = c(sex,sample_sex)\n",
    "        }\n",
    "    }\n",
    "    message(\"\\nsex samples:\\n\",\n",
    "        paste0(table(sex), collapse=\"\\n\"))\n",
    "    sex      <- ifelse(sex == 1,\"male\",\"female\")\n",
    "    sex      <- factor(sex,levels=c(\"male\",\"female\"))\n",
    "    message(\"\\nsex samples:\\n\",\n",
    "        paste0(table(sex), collapse=\" \"))\n",
    "\n",
    "    design    <- model.matrix ( ~ sex)\n",
    "    message(\"\\ndesign matrix ijc, alone:\\n\",\n",
    "        paste0(head(design), collapse=\"\\n\"))\n",
    "\n",
    "    colnames(design) <- c(\"intercept\",\"sex\")\n",
    "\n",
    "    y_ijc <- DGEList(counts=ijc.dm, group = sex)\n",
    "    y_ijc <- calcNormFactors(y_ijc, method=\"RLE\")\n",
    "    y_ijc_voom <- voom (y_ijc, design=design, plot=plot)\n",
    "\n",
    "    Gender <- substring(sex,1,1)\n",
    "    pdf_sub_directory = '../pdf/'\n",
    "    csv_sub_directory = '../data/'\n",
    "    \n",
    "    filename <- paste0(paste0(paste0(pdf_sub_directory, splice_type),\n",
    "                                     snakecase::to_snake_case(tissue_of_interest)),\"-ijc-MDSplot-100.pdf\")\n",
    "    pdf (filename)\n",
    "        plotMDS(y_ijc, labels=Gender, top=100, col=ifelse(Gender==\"m\",\"blue\",\"red\"), \n",
    "                gene.selection=\"common\")\n",
    "    dev.off()\n",
    "    filename <- paste0(paste0(paste0(pdf_sub_directory, splice_type),\n",
    "                                     snakecase::to_snake_case(tissue_of_interest)),\"-ijc-voom-MDSplot-100.pdf\")\n",
    "    pdf (filename)    \n",
    "        plotMDS(y_ijc_voom, labels=Gender, top=100, col=ifelse(Gender==\"m\",\"blue\",\"red\"), \n",
    "                gene.selection=\"common\")\n",
    "    dev.off()\n",
    " \n",
    "    fit_ijc <- lmFit(y_ijc_voom, design)\n",
    "    fit_ijc <- eBayes(fit_ijc)\n",
    "\n",
    "    ijc_sex_results                    <- topTable(fit_ijc, coef='sex', number=nrow(y_ijc_voom))\n",
    "    ijc_sex_results_refined            <- ijc_sex_results$adj.P.Val <= 0.05 & abs(ijc_sex_results$logFC) >= abs(log2(1.5))\n",
    "    ijc_sex_rnResults                  <- rownames(ijc_sex_results)\n",
    "    ijc_sex_resultsAnnotations         <- fromGTF[ijc_sex_rnResults,]\n",
    "\n",
    "    ijc_sex_results_refinedAnnotations <- ijc_sex_resultsAnnotations[ijc_sex_results_refined      ==TRUE,]\n",
    "    message(\"\\ndimensions of the ijc_sex_results_refined_annotations \\n\", \n",
    "        paste(dim (ijc_sex_results_refinedAnnotations), collapse = \" \") )\n",
    "\n",
    "    # geneSymbols are in the annotations \n",
    "    ijc_sex_geneSymbols               <- ijc_sex_resultsAnnotations$geneSymbol\n",
    "    ijc_sex_refined_geneSymbols       <- ijc_sex_results_refinedAnnotations$geneSymbol\n",
    "    message(\"\\nlength ijc_sex_results_refined_geneSymbols\\n\", \n",
    "        paste(length(ijc_sex_refined_geneSymbols), collapse = \" \") )\n",
    "\n",
    "    # adjust the rownames to be the geneSymbols rather than junction IDs\n",
    "    ijc_sex_results_rn         <- paste(ijc_sex_geneSymbols,       ijc_sex_rnResults, sep=\"-\")\n",
    "    rownames(ijc_sex_results)  <- ijc_sex_results_rn    \n",
    "\n",
    "    ijc_sex_filename               = paste0(paste0(paste0(csv_sub_directory, splice_type),\n",
    "                                                   snakecase::to_snake_case(tissue_of_interest)),'_DGE_ijc_sex.csv',sep='')\n",
    "    ijc_sex_refined_filename       = paste0(paste0(paste0(csv_sub_directory, splice_type),\n",
    "                                                   snakecase::to_snake_case(tissue_of_interest)),'_DGE_ijc_sex_refined.csv',sep='')\n",
    "    ijc_sex_genesFilename          = paste0(paste0(paste0(csv_sub_directory, splice_type),\n",
    "                                                   snakecase::to_snake_case(tissue_of_interest)),'_ijc_sex_universe.txt',sep='')\n",
    "    ijc_sex_refined_genesFilename  = paste0(paste0(paste0(csv_sub_directory, splice_type),\n",
    "                                                   snakecase::to_snake_case(tissue_of_interest)),'_ijc_sex_gene_set.txt',sep='')\n",
    "    write.table(ijc_sex_results, \n",
    "                file = ijc_sex_filename        , row.names = T, col.names = T, quote = F, sep = \",\")\n",
    "    write.table(ijc_sex_results [ijc_sex_results_refined      ,], \n",
    "                file = ijc_sex_refined_filename, row.names = T, col.names = T, quote = F, sep = \",\")\n",
    "    write.table(ijc_sex_geneSymbols,        \n",
    "                file = ijc_sex_genesFilename        , row.names = F, col.names = F, quote = F, sep = \",\")\n",
    "    write.table(ijc_sex_refined_geneSymbols,\n",
    "                file = ijc_sex_refined_genesFilename, row.names = F, col.names = F, quote = F, sep = \",\")\n",
    "   \n",
    "    message(\"\\nstarting sjc\\n\")\n",
    "\n",
    "    y_sjc <- DGEList(counts=sjc.dm, group = sex)\n",
    "    y_sjc <- calcNormFactors(y_sjc, method=\"RLE\")\n",
    "    y_sjc_voom <- voom (y_sjc, design=design, plot=plot)\n",
    "\n",
    "    Gender <- substring(sex,1,1)\n",
    "    filename <- paste0(paste0(paste0(pdf_sub_directory, splice_type),\n",
    "                                     snakecase::to_snake_case(tissue_of_interest)),\"-sjc-MDSplot-100.pdf\")\n",
    "    pdf (filename)\n",
    "        plotMDS(y_sjc, labels=Gender, top=100, col=ifelse(Gender==\"m\",\"blue\",\"red\"), \n",
    "                gene.selection=\"common\")\n",
    "    dev.off()\n",
    "    filename <- paste0(paste0(paste0(pdf_sub_directory, splice_type),\n",
    "                                     snakecase::to_snake_case(tissue_of_interest)),\"-sjc-voom-MDSplot-100.pdf\")\n",
    "    pdf (filename)    \n",
    "        plotMDS(y_sjc_voom, labels=Gender, top=100, col=ifelse(Gender==\"m\",\"blue\",\"red\"), \n",
    "                gene.selection=\"common\")\n",
    "    dev.off()\n",
    " \n",
    "    fit_sjc <- lmFit(y_sjc_voom, design)\n",
    "    fit_sjc <- eBayes(fit_sjc)\n",
    "\n",
    "    sjc_sex_results                    <- topTable(fit_sjc, coef='sex', number=nrow(y_sjc_voom))\n",
    "    sjc_sex_results_refined            <- sjc_sex_results$adj.P.Val <= 0.05 & abs(sjc_sex_results$logFC) >= abs(log2(1.5))\n",
    "    sjc_sex_rnResults                  <- rownames(sjc_sex_results)\n",
    "    sjc_sex_resultsAnnotations         <- fromGTF[sjc_sex_rnResults,]\n",
    "\n",
    "    sjc_sex_results_refinedAnnotations <- sjc_sex_resultsAnnotations[sjc_sex_results_refined      ==TRUE,]\n",
    "    message(\"\\ndimensions of the sjc_sex_results_refined_annotations \\n\", \n",
    "        paste(dim (sjc_sex_results_refinedAnnotations), collapse = \" \") )\n",
    "\n",
    "    # geneSymbols are in the annotations \n",
    "    sjc_sex_geneSymbols               <- sjc_sex_resultsAnnotations$geneSymbol\n",
    "    sjc_sex_refined_geneSymbols       <- sjc_sex_results_refinedAnnotations$geneSymbol\n",
    "    message(\"\\nlength sjc_sex_results_refined_geneSymbols\\n\", \n",
    "        paste(length(sjc_sex_refined_geneSymbols), collapse = \" \") )\n",
    "\n",
    "    # adjust the rownames to be the geneSymbols rather than junction IDs\n",
    "    sjc_sex_results_rn         <- paste(sjc_sex_geneSymbols, sjc_sex_rnResults, sep=\"-\")\n",
    "    rownames(sjc_sex_results)  <- sjc_sex_results_rn    \n",
    "\n",
    "    sjc_sex_filename               = paste0(paste0(paste0(csv_sub_directory, splice_type),\n",
    "                                                   snakecase::to_snake_case(tissue_of_interest)),'_DGE_sjc_sex.csv',sep='')\n",
    "    sjc_sex_refined_filename       = paste0(paste0(paste0(csv_sub_directory, splice_type),\n",
    "                                                   snakecase::to_snake_case(tissue_of_interest)),'_DGE_sjc_sex_refined.csv',sep='')\n",
    "    sjc_sex_genesFilename          = paste0(paste0(paste0(csv_sub_directory, splice_type),\n",
    "                                                   snakecase::to_snake_case(tissue_of_interest)),'_sjc_sex_universe.txt',sep='')\n",
    "    sjc_sex_refined_genesFilename  = paste0(paste0(paste0(csv_sub_directory, splice_type),\n",
    "                                                   snakecase::to_snake_case(tissue_of_interest)),'_sjc_sex_gene_set.txt',sep='')\n",
    "    write.table(sjc_sex_results, \n",
    "                file = sjc_sex_filename        , row.names = T, col.names = T, quote = F, sep = \",\")\n",
    "    write.table(sjc_sex_results [sjc_sex_results_refined      ,], \n",
    "                file = sjc_sex_refined_filename, row.names = T, col.names = T, quote = F, sep = \",\")\n",
    "    write.table(sjc_sex_geneSymbols,        \n",
    "                file = sjc_sex_genesFilename        , row.names = F, col.names = F, quote = F, sep = \",\")\n",
    "    write.table(sjc_sex_refined_geneSymbols,\n",
    "                file = sjc_sex_refined_genesFilename, row.names = F, col.names = F, quote = F, sep = \",\")\n",
    "    \n",
    "   \n",
    "    message(\"starting the y prediction\\n\")\n",
    "    sample_names <- as.character(colnames(ijc.dm))\n",
    "    # we will add donor as a blocking parameter\n",
    "    # rather than sample name -- we should use donor for real\n",
    "    sample     <- factor(sample_names)\n",
    "    \n",
    "    donor    <- rep(sample, 2)\n",
    "    message(\"\\ndonor size\", \n",
    "        paste(length(donor), collapse = \" \") )\n",
    "    \n",
    "    ijc_names <- as.character(colnames(ijc.dm))\n",
    "    sjc_names <- as.character(colnames(sjc.dm))\n",
    "    sjc_names <- paste0(sjc_names,\"-sjc\")\n",
    "    ijc_names <- paste0(ijc_names,\"-ijc\")\n",
    "\n",
    "    colnames(ijc.dm) <- ijc_names\n",
    "    colnames(sjc.dm) <- sjc_names\n",
    "\n",
    "    as_matrix <- cbind(ijc.dm,sjc.dm)\n",
    "    message(\"\\ndim as_matrix\", \n",
    "        paste(dim(as_matrix), collapse = \" \")) \n",
    "            \n",
    "    for (i in (1:length(metadata_samples))) {\n",
    "        sample = metadata_tissue[i,]$SAMPID\n",
    "        sample_sex = pData(tissue_count_obj)$SEX[pData(tissue_count_obj)$SAMPID == sample]\n",
    "        if (i==1) {\n",
    "            sex = sample_sex\n",
    "        } else {\n",
    "            sex = c(sex,sample_sex)\n",
    "        }\n",
    "    }\n",
    "    message(\"sex samples:\\n\",\n",
    "        paste0(table(sex), collapse=\"\\n\"))\n",
    "    sex      <- ifelse(sex == 1,\"male\",\"female\")\n",
    "    sex      <- factor(sex,levels=c(\"male\",\"female\"))\n",
    "    message(\"\\nsex samples:\\n\",\n",
    "        paste0(table(sex), collapse=\" \"))\n",
    "    sex2      <- c(rep(sex,2))\n",
    "    table(sex2)\n",
    "    message(\"\\nlength sex2\\n\", \n",
    "        paste(length(sex2), collapse = \" \") )\n",
    "    message(\"table sex2\\n\", \n",
    "        paste(table(sex2), collapse = \"\\n\") )\n",
    "    as_event  <- c(rep(\"ijc\",dim(ijc.dm)[2]), rep(\"sjc\", dim(sjc.dm)[2]))\n",
    "    as_event  <- factor(as_event, levels=c(\"ijc\", \"sjc\"))\n",
    "    message(\"\\nlength as_event\\n\", \n",
    "        paste(length(as_event), collapse = \" \") )\n",
    "\n",
    "    design    <- model.matrix( ~ sex2 + as_event + sex2*as_event)\n",
    "    dim(design)\n",
    "    colnames(design) <- c(\"intercept\",\"sex\", \"as_event\",\"sex*as_event\")\n",
    "    message(\"\\ndim design <- model.matrix( ~sex + as_event + sex*as_event)\\n\", \n",
    "        paste(head(design), collapse = \"\\n\") )\n",
    "\n",
    "    y <- DGEList(counts=as_matrix, group = sex2)\n",
    "    y <- calcNormFactors(y, method=\"RLE\")\n",
    "    y_voom <- voom (y, design=design, plot = plot)\n",
    "\n",
    "    if (dup==TRUE) {\n",
    "        dup_cor <- duplicateCorrelation(y_voom$E, design=design, ndups=2, block=donor, weights=y$samples$norm.factors)\n",
    "        dup_cor$consensus.correlation \n",
    "        y_dup_voom <- voom (y, design=design, plot = plot, block = donor, correlation = dup_cor$consensus.correlation) \n",
    "    }\n",
    "    \n",
    "    Gender <- substring(sex[1:dim(ijc.dm)[2]],1,1)\n",
    "    message(\"\\nGenders new size\\n\", \n",
    "        paste(length(Gender), collapse = \" \") )\n",
    "    message(\"\\nplotting y for ijc portion of design <- model.matrix( ~sex + as_event + sex*as_event\\n\")\n",
    "     # print the combined exploratory plot\n",
    "    filename <- paste0(paste0(paste0(pdf_sub_directory, splice_type),\n",
    "                              snakecase::to_snake_case(tissue_of_interest)),\"-y-ijc-MDSplot-100.pdf\")\n",
    "    pdf (filename)\n",
    "        plotMDS(y[,c(1:dim(ijc.dm)[2])], labels=Gender, top=100, col=ifelse(Gender==\"m\",\"blue\",\"red\"), \n",
    "            gene.selection=\"common\")\n",
    "    dev.off()\n",
    "    message(\"\\nplotting y_voom for ijc portion of design <- model.matrix( ~sex + as_event + sex*as_event\\n\")\n",
    "    filename <- paste0(paste0(paste0(pdf_sub_directory, splice_type),\n",
    "                              snakecase::to_snake_case(tissue_of_interest)),\"-y-voom-ijc-MDSplot-100.pdf\")\n",
    "    pdf (filename)\n",
    "        plotMDS(y_voom[,c(1:dim(ijc.dm)[2])], labels=Gender, top=100, col=ifelse(Gender==\"m\",\"blue\",\"red\"), \n",
    "            gene.selection=\"common\")\n",
    "    dev.off()\n",
    "    if (dup == TRUE) {\n",
    "        filename <- paste0(paste0(paste0(pdf_sub_directory, splice_type),\n",
    "                           snakecase::to_snake_case(tissue_of_interest)),\"-y-dup-voom-ijc-MDSplot-100.pdf\")\n",
    "        pdf (filename)\n",
    "            plotMDS(y_dup_voom[,c(1:dim(ijc.dm)[2])], labels=Gender, top=100, col=ifelse(Gender==\"m\",\"blue\",\"red\"), \n",
    "                gene.selection=\"common\")\n",
    "        dev.off()\n",
    "    }\n",
    "    message(\"\\nplotting y for sjc portion of design <- model.matrix( ~sex + as_event + sex*as_event\\n\")\n",
    "    filename <- paste0(paste0(paste0(pdf_sub_directory, splice_type),\n",
    "                              snakecase::to_snake_case(tissue_of_interest)),\"-y-sjc-MDSplot-100.pdf\")\n",
    "    pdf (filename)\n",
    "        plotMDS(y[,c((dim(ijc.dm)[2]+1)):(dim(ijc.dm)[2]+dim(sjc.dm)[2])], labels=Gender, top=100, col=ifelse(Gender==\"m\",\"blue\",\"red\"), \n",
    "            gene.selection=\"common\")\n",
    "    dev.off()\n",
    "    \n",
    "    if (dup == TRUE) {\n",
    "        message(\"\\nplotting y_voom for sjc portion of design <- model.matrix( ~sex + as_event + sex*as_event\\n\")    \n",
    "        filename <- paste0(paste0(paste0(pdf_sub_directory, splice_type),\n",
    "                              snakecase::to_snake_case(tissue_of_interest)),\"-y-voom-sjc-MDSplot-100.pdf\")\n",
    "        pdf (filename)\n",
    "            plotMDS(y_voom[,c((dim(ijc.dm)[2]+1)):(dim(ijc.dm)[2]+dim(sjc.dm)[2])], labels=Gender, top=100, col=ifelse(Gender==\"m\",\"blue\",\"red\"), \n",
    "                gene.selection=\"common\")\n",
    "        dev.off()\n",
    "        filename <- paste0(paste0(paste0(pdf_sub_directory, splice_type),\n",
    "                              snakecase::to_snake_case(tissue_of_interest)),\"-y-dup-voom-sjc-MDSplot-100.pdf\")\n",
    "        pdf (filename)\n",
    "            plotMDS(y_dup_voom[,c((dim(ijc.dm)[2]+1)):(dim(ijc.dm)[2]+dim(sjc.dm)[2])], labels=Gender, top=100, col=ifelse(Gender==\"m\",\"blue\",\"red\"), \n",
    "                gene.selection=\"common\")\n",
    "        dev.off()\n",
    "        \n",
    "        fit <- lmFit(y_dup_voom, design=design, block=donor, correlation = dup_cor$consensus.correlation)\n",
    "    } else {\n",
    "        fit <- lmFit(y_voom, design=design)\n",
    "    }\n",
    "        \n",
    "    fit <- eBayes(fit, robust=TRUE)\n",
    "    \n",
    "    sex_as_events_results         <- topTable(fit, coef=\"sex*as_event\", number=nrow(y_voom))\n",
    "    sex_as_events_results_refined <- sex_as_events_results$adj.P.Val <= 0.05 & abs(sex_as_events_results$logFC) >= abs(log2(1.5))\n",
    "\n",
    "    sex_results                   <- topTable(fit, coef=\"sex\", number=nrow(y_voom))\n",
    "    sex_results_refined           <- sex_results$adj.P.Val <= 0.05 & abs(sex_results$logFC) >= abs(log2(1.5))\n",
    "\n",
    "    sex_as_events_rnResults <- rownames(sex_as_events_results)\n",
    "    sex_rnResults           <- rownames(sex_results)\n",
    "    head(sex_as_events_rnResults)\n",
    "    head(ijc_sex_rnResults)\n",
    "    head(sex_rnResults)\n",
    "    head(fromGTF[sex_as_events_rnResults,])\n",
    "\n",
    "    # use the junctionIDs to get the annotations\n",
    "    sex_as_events_resultsAnnotations      <- fromGTF[sex_as_events_rnResults,]\n",
    "    sex_resultsAnnotations                <- fromGTF[sex_rnResults,]\n",
    "    ijc_sex_resultsAnnotations            <- fromGTF[ijc_sex_rnResults,]\n",
    "    head(sex_as_events_resultsAnnotations)\n",
    "    head(sex_resultsAnnotations)\n",
    "    head(ijc_sex_resultsAnnotations)\n",
    "    \n",
    "    sex_as_events_results_refinedAnnotations<- sex_as_events_resultsAnnotations[sex_as_events_results_refined==TRUE,]\n",
    "    sex_results_refinedAnnotations          <- sex_resultsAnnotations          [sex_results_refined          ==TRUE,]\n",
    "    sjc_sex_results_refinedAnnotations       <- sjc_sex_resultsAnnotations      [sjc_sex_results_refined      ==TRUE,]\n",
    "    head(sex_as_events_results_refinedAnnotations)\n",
    "    head(sex_results_refinedAnnotations)\n",
    "    head(sjc_sex_results_refinedAnnotations)\n",
    "\n",
    "    # geneSymbols are in the annotations \n",
    "    sex_as_events_geneSymbols         <- sex_as_events_resultsAnnotations$geneSymbol\n",
    "    sex_as_events_refined_geneSymbols <- sex_as_events_results_refinedAnnotations$geneSymbol\n",
    "    sex_geneSymbols                   <- sex_resultsAnnotations$geneSymbol\n",
    "    sex_refined_geneSymbols           <- sex_results_refinedAnnotations$geneSymbol\n",
    "    ijc_sex_geneSymbols               <- ijc_sex_resultsAnnotations$geneSymbol\n",
    "    ijc_sex_refined_geneSymbols       <- ijc_sex_results_refinedAnnotations$geneSymbol\n",
    "    sjc_sex_geneSymbols               <- sjc_sex_resultsAnnotations$geneSymbol\n",
    "    sjc_sex_refined_geneSymbols       <- sjc_sex_results_refinedAnnotations$geneSymbol\n",
    "\n",
    "\n",
    "    # adjust the rownames to be the geneSymbols rather than junction IDs\n",
    "    sex_as_events_results_rn   <- paste(sex_as_events_geneSymbols, sex_as_events_rnResults, sep=\"-\")\n",
    "    sex_results_rn             <- paste(sex_geneSymbols,           sex_rnResults, sep=\"-\")\n",
    "    ijc_sex_results_rn         <- paste(ijc_sex_geneSymbols,       ijc_sex_rnResults, sep=\"-\")\n",
    "    sjc_sex_results_rn         <- paste(sjc_sex_geneSymbols,       sjc_sex_rnResults, sep=\"-\")\n",
    "    message(\"\\n sex_as_events\\n\", \n",
    "        paste(head(sex_as_events_results_rn), collapse = \" \") )\n",
    "    message(\"\\n ijc_sex_results\\n\", \n",
    "        paste(head(ijc_sex_results_rn), collapse = \" \") )\n",
    "    message(\"\\n sjc_sex_results\\n\", \n",
    "        paste(head(sjc_sex_results_rn), collapse = \" \") )\n",
    "    rownames(sex_as_events_results) <- sex_as_events_results_rn\n",
    "    rownames(sex_results)           <- sex_results_rn\n",
    "    rownames(ijc_sex_results)       <- ijc_sex_results_rn\n",
    "    rownames(sjc_sex_results)       <- sjc_sex_results_rn\n",
    "\n",
    "    sex_as_events_filename         = paste0(paste0(paste0(csv_sub_directory, splice_type),\n",
    "                                                   snakecase::to_snake_case(tissue_of_interest)),'_DGE_sex_as_events.csv')\n",
    "    sex_as_events_refined_filename = paste0(paste0(paste0(csv_sub_directory, splice_type),\n",
    "                                                   snakecase::to_snake_case(tissue_of_interest)),'_DGE_sex_as_events_refined.csv',sep='')\n",
    "    sex_filename                   = paste0(paste0(paste0(csv_sub_directory, splice_type),\n",
    "                                                   snakecase::to_snake_case(tissue_of_interest)),'_DGE_sex.csv',sep='')\n",
    "    sex_refined_filename           = paste0(paste0(paste0(csv_sub_directory, splice_type),\n",
    "                                                   snakecase::to_snake_case(tissue_of_interest)),'_DGE_sex_refined.csv',sep='')\n",
    "    sex_as_events_genesFilename    = paste0(paste0(paste0(csv_sub_directory, splice_type),\n",
    "                                                   snakecase::to_snake_case(tissue_of_interest)),'_sex_as_events_universe.txt',sep='')\n",
    "    sex_as_events_refined_genesFilename = paste0(paste0(paste0(csv_sub_directory, splice_type),\n",
    "                                                   snakecase::to_snake_case(tissue_of_interest)),'_sex_as_events_gene_set.txt',sep='')\n",
    "    sex_genesFilename              = paste0(paste0(paste0(csv_sub_directory, splice_type),\n",
    "                                                   snakecase::to_snake_case(tissue_of_interest)),'_sex_universe.txt',sep='')\n",
    "    sex_refined_genesFilename      = paste0(paste0(paste0(csv_sub_directory, splice_type),\n",
    "                                                   snakecase::to_snake_case(tissue_of_interest)),'_sex_gene_set.txt',sep='')\n",
    "\n",
    "    write.table(sex_as_events_results, file = sex_as_events_filename, \n",
    "                row.names = T, col.names = T, quote = F, sep = \",\")\n",
    "    write.table(sex_as_events_results[sex_as_events_results_refined,], \n",
    "                file = sex_as_events_refined_filename, row.names = T, col.names = T, quote = F, sep = \",\")\n",
    "    write.table(sex_results,           file = sex_filename          , \n",
    "                row.names = T, col.names = T, quote = F, sep = \",\")\n",
    "    write.table(sex_results [sex_results_refined          ,], file = sex_refined_filename, \n",
    "                row.names = T, col.names = T, quote = F, sep = \",\")\n",
    "    write.table(sex_as_events_geneSymbols, file = sex_as_events_genesFilename, \n",
    "                row.names = F, col.names = F, quote = F, sep = \",\")\n",
    "    write.table(sex_as_events_refined_geneSymbols,file = sex_as_events_refined_genesFilename, \n",
    "                row.names = F, col.names = F, quote = F, sep = \",\")\n",
    "    write.table(sex_geneSymbols,           file = sex_genesFilename          , \n",
    "                row.names = F, col.names = F, quote = F, sep = \",\")\n",
    "    write.table(sex_refined_geneSymbols,          file = sex_refined_genesFilename          , \n",
    "                row.names = F, col.names = F, quote = F, sep = \",\")\n",
    "\n",
    "    return(0)\n",
    "}"
   ]
  },
  {
   "cell_type": "markdown",
   "metadata": {},
   "source": [
    "#### Testing Snippet\n",
    "\n",
    "To use this snippet - set *test = `TRUE`*.\n",
    "To play with using or not using duplicate correlation, set *dup = `TRUE`* accordingly."
   ]
  },
  {
   "cell_type": "markdown",
   "metadata": {},
   "source": [
    "## Execution of All Tissues and All Splicing Variants\n",
    "\n",
    "Additional values set to enable this notebook to be executed as a nextflow workflow or to run in place with appropriate settings.\n",
    "\n",
    "### parameters Setting\n",
    "\n",
    "1. Setting `dup=TRUE` causes lengthy execution times.\n",
    "\n",
    "2. Setting `plot=TRUE` can overwhelm the saving capacity within a jupyter-lab notebook - \n",
    "   this sets to print all the voom plots.\n",
    "   \n",
    "3. Adjusting `splice_type` will allow you to play with a variety of results\n",
    "\n",
    "   a. all splice types desired to be run:\n",
    "    \n",
    "    `splice_list       = c(\"a3ss_\",\"a5ss_\",\"mxe_\",\"ri_\",\"se_\")`\n",
    "    \n",
    "   b. a subset (leaving out say `splice_type = \"se_\"` since it is the largest, for example)\n",
    "    \n",
    "    `splice_list       = c(\"a3ss_\",\"a5ss_\",\"mxe_\",\"ri_\")`\n",
    "    "
   ]
  },
  {
   "cell_type": "code",
   "execution_count": 23,
   "metadata": {},
   "outputs": [
    {
     "data": {
      "text/html": [
       "<style>\n",
       ".list-inline {list-style: none; margin:0; padding: 0}\n",
       ".list-inline>li {display: inline-block}\n",
       ".list-inline>li:not(:last-child)::after {content: \"\\00b7\"; padding: 0 .5ex}\n",
       "</style>\n",
       "<ol class=list-inline><li>adipose_subcutaneous</li><li>adipose_visceral_omentum</li><li>adrenal_gland</li><li>artery_aorta</li><li>artery_coronary</li><li>artery_tibial</li><li>brain_caudate_basal_ganglia</li><li>brain_cerebellar_hemisphere</li><li>brain_cerebellum</li><li>brain_cortex</li><li>brain_frontal_cortex_ba_9</li><li>brain_hippocampus</li><li>brain_hypothalamus</li><li>brain_nucleus_accumbens_basal_ganglia</li><li>brain_putamen_basal_ganglia</li><li>brain_spinal_cord_cervical_c_1</li><li>breast_mammary_tissue</li><li>cells_cultured_fibroblasts</li><li>cells_ebv_transformed_lymphocytes</li><li>colon_sigmoid</li><li>colon_transverse</li><li>esophagus_gastroesophageal_junction</li><li>esophagus_mucosa</li><li>esophagus_muscularis</li><li>heart_atrial_appendage</li><li>heart_left_ventricle</li><li>liver</li><li>lung</li><li>muscle_skeletal</li><li>nerve_tibial</li><li>pancreas</li><li>pituitary</li><li>skin_not_sun_exposed_suprapubic</li><li>skin_sun_exposed_lower_leg</li><li>small_intestine_terminal_ileum</li><li>spleen</li><li>stomach</li><li>thyroid</li><li>whole_blood</li></ol>\n",
       "\n",
       "<details>\n",
       "\t<summary style=display:list-item;cursor:pointer>\n",
       "\t\t<strong>Levels</strong>:\n",
       "\t</summary>\n",
       "\t<style>\n",
       "\t.list-inline {list-style: none; margin:0; padding: 0}\n",
       "\t.list-inline>li {display: inline-block}\n",
       "\t.list-inline>li:not(:last-child)::after {content: \"\\00b7\"; padding: 0 .5ex}\n",
       "\t</style>\n",
       "\t<ol class=list-inline><li>'adipose_subcutaneous'</li><li>'adipose_visceral_omentum'</li><li>'adrenal_gland'</li><li>'artery_aorta'</li><li>'artery_coronary'</li><li>'artery_tibial'</li><li>'brain_caudate_basal_ganglia'</li><li>'brain_cerebellar_hemisphere'</li><li>'brain_cerebellum'</li><li>'brain_cortex'</li><li>'brain_frontal_cortex_ba_9'</li><li>'brain_hippocampus'</li><li>'brain_hypothalamus'</li><li>'brain_nucleus_accumbens_basal_ganglia'</li><li>'brain_putamen_basal_ganglia'</li><li>'brain_spinal_cord_cervical_c_1'</li><li>'breast_mammary_tissue'</li><li>'cells_cultured_fibroblasts'</li><li>'cells_ebv_transformed_lymphocytes'</li><li>'colon_sigmoid'</li><li>'colon_transverse'</li><li>'esophagus_gastroesophageal_junction'</li><li>'esophagus_mucosa'</li><li>'esophagus_muscularis'</li><li>'heart_atrial_appendage'</li><li>'heart_left_ventricle'</li><li>'liver'</li><li>'lung'</li><li>'muscle_skeletal'</li><li>'nerve_tibial'</li><li>'pancreas'</li><li>'pituitary'</li><li>'skin_not_sun_exposed_suprapubic'</li><li>'skin_sun_exposed_lower_leg'</li><li>'small_intestine_terminal_ileum'</li><li>'spleen'</li><li>'stomach'</li><li>'thyroid'</li><li>'whole_blood'</li></ol>\n",
       "</details>"
      ],
      "text/latex": [
       "\\begin{enumerate*}\n",
       "\\item adipose\\_subcutaneous\n",
       "\\item adipose\\_visceral\\_omentum\n",
       "\\item adrenal\\_gland\n",
       "\\item artery\\_aorta\n",
       "\\item artery\\_coronary\n",
       "\\item artery\\_tibial\n",
       "\\item brain\\_caudate\\_basal\\_ganglia\n",
       "\\item brain\\_cerebellar\\_hemisphere\n",
       "\\item brain\\_cerebellum\n",
       "\\item brain\\_cortex\n",
       "\\item brain\\_frontal\\_cortex\\_ba\\_9\n",
       "\\item brain\\_hippocampus\n",
       "\\item brain\\_hypothalamus\n",
       "\\item brain\\_nucleus\\_accumbens\\_basal\\_ganglia\n",
       "\\item brain\\_putamen\\_basal\\_ganglia\n",
       "\\item brain\\_spinal\\_cord\\_cervical\\_c\\_1\n",
       "\\item breast\\_mammary\\_tissue\n",
       "\\item cells\\_cultured\\_fibroblasts\n",
       "\\item cells\\_ebv\\_transformed\\_lymphocytes\n",
       "\\item colon\\_sigmoid\n",
       "\\item colon\\_transverse\n",
       "\\item esophagus\\_gastroesophageal\\_junction\n",
       "\\item esophagus\\_mucosa\n",
       "\\item esophagus\\_muscularis\n",
       "\\item heart\\_atrial\\_appendage\n",
       "\\item heart\\_left\\_ventricle\n",
       "\\item liver\n",
       "\\item lung\n",
       "\\item muscle\\_skeletal\n",
       "\\item nerve\\_tibial\n",
       "\\item pancreas\n",
       "\\item pituitary\n",
       "\\item skin\\_not\\_sun\\_exposed\\_suprapubic\n",
       "\\item skin\\_sun\\_exposed\\_lower\\_leg\n",
       "\\item small\\_intestine\\_terminal\\_ileum\n",
       "\\item spleen\n",
       "\\item stomach\n",
       "\\item thyroid\n",
       "\\item whole\\_blood\n",
       "\\end{enumerate*}\n",
       "\n",
       "\\emph{Levels}: \\begin{enumerate*}\n",
       "\\item 'adipose\\_subcutaneous'\n",
       "\\item 'adipose\\_visceral\\_omentum'\n",
       "\\item 'adrenal\\_gland'\n",
       "\\item 'artery\\_aorta'\n",
       "\\item 'artery\\_coronary'\n",
       "\\item 'artery\\_tibial'\n",
       "\\item 'brain\\_caudate\\_basal\\_ganglia'\n",
       "\\item 'brain\\_cerebellar\\_hemisphere'\n",
       "\\item 'brain\\_cerebellum'\n",
       "\\item 'brain\\_cortex'\n",
       "\\item 'brain\\_frontal\\_cortex\\_ba\\_9'\n",
       "\\item 'brain\\_hippocampus'\n",
       "\\item 'brain\\_hypothalamus'\n",
       "\\item 'brain\\_nucleus\\_accumbens\\_basal\\_ganglia'\n",
       "\\item 'brain\\_putamen\\_basal\\_ganglia'\n",
       "\\item 'brain\\_spinal\\_cord\\_cervical\\_c\\_1'\n",
       "\\item 'breast\\_mammary\\_tissue'\n",
       "\\item 'cells\\_cultured\\_fibroblasts'\n",
       "\\item 'cells\\_ebv\\_transformed\\_lymphocytes'\n",
       "\\item 'colon\\_sigmoid'\n",
       "\\item 'colon\\_transverse'\n",
       "\\item 'esophagus\\_gastroesophageal\\_junction'\n",
       "\\item 'esophagus\\_mucosa'\n",
       "\\item 'esophagus\\_muscularis'\n",
       "\\item 'heart\\_atrial\\_appendage'\n",
       "\\item 'heart\\_left\\_ventricle'\n",
       "\\item 'liver'\n",
       "\\item 'lung'\n",
       "\\item 'muscle\\_skeletal'\n",
       "\\item 'nerve\\_tibial'\n",
       "\\item 'pancreas'\n",
       "\\item 'pituitary'\n",
       "\\item 'skin\\_not\\_sun\\_exposed\\_suprapubic'\n",
       "\\item 'skin\\_sun\\_exposed\\_lower\\_leg'\n",
       "\\item 'small\\_intestine\\_terminal\\_ileum'\n",
       "\\item 'spleen'\n",
       "\\item 'stomach'\n",
       "\\item 'thyroid'\n",
       "\\item 'whole\\_blood'\n",
       "\\end{enumerate*}\n"
      ],
      "text/markdown": [
       "1. adipose_subcutaneous\n",
       "2. adipose_visceral_omentum\n",
       "3. adrenal_gland\n",
       "4. artery_aorta\n",
       "5. artery_coronary\n",
       "6. artery_tibial\n",
       "7. brain_caudate_basal_ganglia\n",
       "8. brain_cerebellar_hemisphere\n",
       "9. brain_cerebellum\n",
       "10. brain_cortex\n",
       "11. brain_frontal_cortex_ba_9\n",
       "12. brain_hippocampus\n",
       "13. brain_hypothalamus\n",
       "14. brain_nucleus_accumbens_basal_ganglia\n",
       "15. brain_putamen_basal_ganglia\n",
       "16. brain_spinal_cord_cervical_c_1\n",
       "17. breast_mammary_tissue\n",
       "18. cells_cultured_fibroblasts\n",
       "19. cells_ebv_transformed_lymphocytes\n",
       "20. colon_sigmoid\n",
       "21. colon_transverse\n",
       "22. esophagus_gastroesophageal_junction\n",
       "23. esophagus_mucosa\n",
       "24. esophagus_muscularis\n",
       "25. heart_atrial_appendage\n",
       "26. heart_left_ventricle\n",
       "27. liver\n",
       "28. lung\n",
       "29. muscle_skeletal\n",
       "30. nerve_tibial\n",
       "31. pancreas\n",
       "32. pituitary\n",
       "33. skin_not_sun_exposed_suprapubic\n",
       "34. skin_sun_exposed_lower_leg\n",
       "35. small_intestine_terminal_ileum\n",
       "36. spleen\n",
       "37. stomach\n",
       "38. thyroid\n",
       "39. whole_blood\n",
       "\n",
       "\n",
       "\n",
       "**Levels**: 1. 'adipose_subcutaneous'\n",
       "2. 'adipose_visceral_omentum'\n",
       "3. 'adrenal_gland'\n",
       "4. 'artery_aorta'\n",
       "5. 'artery_coronary'\n",
       "6. 'artery_tibial'\n",
       "7. 'brain_caudate_basal_ganglia'\n",
       "8. 'brain_cerebellar_hemisphere'\n",
       "9. 'brain_cerebellum'\n",
       "10. 'brain_cortex'\n",
       "11. 'brain_frontal_cortex_ba_9'\n",
       "12. 'brain_hippocampus'\n",
       "13. 'brain_hypothalamus'\n",
       "14. 'brain_nucleus_accumbens_basal_ganglia'\n",
       "15. 'brain_putamen_basal_ganglia'\n",
       "16. 'brain_spinal_cord_cervical_c_1'\n",
       "17. 'breast_mammary_tissue'\n",
       "18. 'cells_cultured_fibroblasts'\n",
       "19. 'cells_ebv_transformed_lymphocytes'\n",
       "20. 'colon_sigmoid'\n",
       "21. 'colon_transverse'\n",
       "22. 'esophagus_gastroesophageal_junction'\n",
       "23. 'esophagus_mucosa'\n",
       "24. 'esophagus_muscularis'\n",
       "25. 'heart_atrial_appendage'\n",
       "26. 'heart_left_ventricle'\n",
       "27. 'liver'\n",
       "28. 'lung'\n",
       "29. 'muscle_skeletal'\n",
       "30. 'nerve_tibial'\n",
       "31. 'pancreas'\n",
       "32. 'pituitary'\n",
       "33. 'skin_not_sun_exposed_suprapubic'\n",
       "34. 'skin_sun_exposed_lower_leg'\n",
       "35. 'small_intestine_terminal_ileum'\n",
       "36. 'spleen'\n",
       "37. 'stomach'\n",
       "38. 'thyroid'\n",
       "39. 'whole_blood'\n",
       "\n",
       "\n"
      ],
      "text/plain": [
       " [1] adipose_subcutaneous                  adipose_visceral_omentum             \n",
       " [3] adrenal_gland                         artery_aorta                         \n",
       " [5] artery_coronary                       artery_tibial                        \n",
       " [7] brain_caudate_basal_ganglia           brain_cerebellar_hemisphere          \n",
       " [9] brain_cerebellum                      brain_cortex                         \n",
       "[11] brain_frontal_cortex_ba_9             brain_hippocampus                    \n",
       "[13] brain_hypothalamus                    brain_nucleus_accumbens_basal_ganglia\n",
       "[15] brain_putamen_basal_ganglia           brain_spinal_cord_cervical_c_1       \n",
       "[17] breast_mammary_tissue                 cells_cultured_fibroblasts           \n",
       "[19] cells_ebv_transformed_lymphocytes     colon_sigmoid                        \n",
       "[21] colon_transverse                      esophagus_gastroesophageal_junction  \n",
       "[23] esophagus_mucosa                      esophagus_muscularis                 \n",
       "[25] heart_atrial_appendage                heart_left_ventricle                 \n",
       "[27] liver                                 lung                                 \n",
       "[29] muscle_skeletal                       nerve_tibial                         \n",
       "[31] pancreas                              pituitary                            \n",
       "[33] skin_not_sun_exposed_suprapubic       skin_sun_exposed_lower_leg           \n",
       "[35] small_intestine_terminal_ileum        spleen                               \n",
       "[37] stomach                               thyroid                              \n",
       "[39] whole_blood                          \n",
       "39 Levels: adipose_subcutaneous adipose_visceral_omentum ... whole_blood"
      ]
     },
     "metadata": {},
     "output_type": "display_data"
    },
    {
     "data": {
      "text/html": [
       "39"
      ],
      "text/latex": [
       "39"
      ],
      "text/markdown": [
       "39"
      ],
      "text/plain": [
       "[1] 39"
      ]
     },
     "metadata": {},
     "output_type": "display_data"
    },
    {
     "data": {
      "text/html": [
       "<style>\n",
       ".list-inline {list-style: none; margin:0; padding: 0}\n",
       ".list-inline>li {display: inline-block}\n",
       ".list-inline>li:not(:last-child)::after {content: \"\\00b7\"; padding: 0 .5ex}\n",
       "</style>\n",
       "<ol class=list-inline><li>'adipose_subcutaneous'</li><li>'adipose_visceral_omentum'</li><li>'adrenal_gland'</li><li>'artery_aorta'</li><li>'artery_coronary'</li><li>'artery_tibial'</li><li>'brain_caudate_basal_ganglia'</li><li>'brain_cerebellar_hemisphere'</li><li>'brain_cerebellum'</li><li>'brain_cortex'</li><li>'brain_frontal_cortex_ba_9'</li><li>'brain_hippocampus'</li><li>'brain_hypothalamus'</li><li>'brain_nucleus_accumbens_basal_ganglia'</li><li>'brain_putamen_basal_ganglia'</li><li>'brain_spinal_cord_cervical_c_1'</li><li>'breast_mammary_tissue'</li><li>'cells_cultured_fibroblasts'</li><li>'cells_ebv_transformed_lymphocytes'</li><li>'colon_sigmoid'</li><li>'colon_transverse'</li><li>'esophagus_gastroesophageal_junction'</li><li>'esophagus_mucosa'</li><li>'esophagus_muscularis'</li><li>'heart_atrial_appendage'</li><li>'heart_left_ventricle'</li><li>'liver'</li><li>'lung'</li><li>'muscle_skeletal'</li><li>'nerve_tibial'</li><li>'pancreas'</li><li>'pituitary'</li><li>'skin_not_sun_exposed_suprapubic'</li><li>'skin_sun_exposed_lower_leg'</li><li>'small_intestine_terminal_ileum'</li><li>'spleen'</li><li>'stomach'</li><li>'thyroid'</li><li>'whole_blood'</li></ol>\n"
      ],
      "text/latex": [
       "\\begin{enumerate*}\n",
       "\\item 'adipose\\_subcutaneous'\n",
       "\\item 'adipose\\_visceral\\_omentum'\n",
       "\\item 'adrenal\\_gland'\n",
       "\\item 'artery\\_aorta'\n",
       "\\item 'artery\\_coronary'\n",
       "\\item 'artery\\_tibial'\n",
       "\\item 'brain\\_caudate\\_basal\\_ganglia'\n",
       "\\item 'brain\\_cerebellar\\_hemisphere'\n",
       "\\item 'brain\\_cerebellum'\n",
       "\\item 'brain\\_cortex'\n",
       "\\item 'brain\\_frontal\\_cortex\\_ba\\_9'\n",
       "\\item 'brain\\_hippocampus'\n",
       "\\item 'brain\\_hypothalamus'\n",
       "\\item 'brain\\_nucleus\\_accumbens\\_basal\\_ganglia'\n",
       "\\item 'brain\\_putamen\\_basal\\_ganglia'\n",
       "\\item 'brain\\_spinal\\_cord\\_cervical\\_c\\_1'\n",
       "\\item 'breast\\_mammary\\_tissue'\n",
       "\\item 'cells\\_cultured\\_fibroblasts'\n",
       "\\item 'cells\\_ebv\\_transformed\\_lymphocytes'\n",
       "\\item 'colon\\_sigmoid'\n",
       "\\item 'colon\\_transverse'\n",
       "\\item 'esophagus\\_gastroesophageal\\_junction'\n",
       "\\item 'esophagus\\_mucosa'\n",
       "\\item 'esophagus\\_muscularis'\n",
       "\\item 'heart\\_atrial\\_appendage'\n",
       "\\item 'heart\\_left\\_ventricle'\n",
       "\\item 'liver'\n",
       "\\item 'lung'\n",
       "\\item 'muscle\\_skeletal'\n",
       "\\item 'nerve\\_tibial'\n",
       "\\item 'pancreas'\n",
       "\\item 'pituitary'\n",
       "\\item 'skin\\_not\\_sun\\_exposed\\_suprapubic'\n",
       "\\item 'skin\\_sun\\_exposed\\_lower\\_leg'\n",
       "\\item 'small\\_intestine\\_terminal\\_ileum'\n",
       "\\item 'spleen'\n",
       "\\item 'stomach'\n",
       "\\item 'thyroid'\n",
       "\\item 'whole\\_blood'\n",
       "\\end{enumerate*}\n"
      ],
      "text/markdown": [
       "1. 'adipose_subcutaneous'\n",
       "2. 'adipose_visceral_omentum'\n",
       "3. 'adrenal_gland'\n",
       "4. 'artery_aorta'\n",
       "5. 'artery_coronary'\n",
       "6. 'artery_tibial'\n",
       "7. 'brain_caudate_basal_ganglia'\n",
       "8. 'brain_cerebellar_hemisphere'\n",
       "9. 'brain_cerebellum'\n",
       "10. 'brain_cortex'\n",
       "11. 'brain_frontal_cortex_ba_9'\n",
       "12. 'brain_hippocampus'\n",
       "13. 'brain_hypothalamus'\n",
       "14. 'brain_nucleus_accumbens_basal_ganglia'\n",
       "15. 'brain_putamen_basal_ganglia'\n",
       "16. 'brain_spinal_cord_cervical_c_1'\n",
       "17. 'breast_mammary_tissue'\n",
       "18. 'cells_cultured_fibroblasts'\n",
       "19. 'cells_ebv_transformed_lymphocytes'\n",
       "20. 'colon_sigmoid'\n",
       "21. 'colon_transverse'\n",
       "22. 'esophagus_gastroesophageal_junction'\n",
       "23. 'esophagus_mucosa'\n",
       "24. 'esophagus_muscularis'\n",
       "25. 'heart_atrial_appendage'\n",
       "26. 'heart_left_ventricle'\n",
       "27. 'liver'\n",
       "28. 'lung'\n",
       "29. 'muscle_skeletal'\n",
       "30. 'nerve_tibial'\n",
       "31. 'pancreas'\n",
       "32. 'pituitary'\n",
       "33. 'skin_not_sun_exposed_suprapubic'\n",
       "34. 'skin_sun_exposed_lower_leg'\n",
       "35. 'small_intestine_terminal_ileum'\n",
       "36. 'spleen'\n",
       "37. 'stomach'\n",
       "38. 'thyroid'\n",
       "39. 'whole_blood'\n",
       "\n",
       "\n"
      ],
      "text/plain": [
       " [1] \"adipose_subcutaneous\"                 \n",
       " [2] \"adipose_visceral_omentum\"             \n",
       " [3] \"adrenal_gland\"                        \n",
       " [4] \"artery_aorta\"                         \n",
       " [5] \"artery_coronary\"                      \n",
       " [6] \"artery_tibial\"                        \n",
       " [7] \"brain_caudate_basal_ganglia\"          \n",
       " [8] \"brain_cerebellar_hemisphere\"          \n",
       " [9] \"brain_cerebellum\"                     \n",
       "[10] \"brain_cortex\"                         \n",
       "[11] \"brain_frontal_cortex_ba_9\"            \n",
       "[12] \"brain_hippocampus\"                    \n",
       "[13] \"brain_hypothalamus\"                   \n",
       "[14] \"brain_nucleus_accumbens_basal_ganglia\"\n",
       "[15] \"brain_putamen_basal_ganglia\"          \n",
       "[16] \"brain_spinal_cord_cervical_c_1\"       \n",
       "[17] \"breast_mammary_tissue\"                \n",
       "[18] \"cells_cultured_fibroblasts\"           \n",
       "[19] \"cells_ebv_transformed_lymphocytes\"    \n",
       "[20] \"colon_sigmoid\"                        \n",
       "[21] \"colon_transverse\"                     \n",
       "[22] \"esophagus_gastroesophageal_junction\"  \n",
       "[23] \"esophagus_mucosa\"                     \n",
       "[24] \"esophagus_muscularis\"                 \n",
       "[25] \"heart_atrial_appendage\"               \n",
       "[26] \"heart_left_ventricle\"                 \n",
       "[27] \"liver\"                                \n",
       "[28] \"lung\"                                 \n",
       "[29] \"muscle_skeletal\"                      \n",
       "[30] \"nerve_tibial\"                         \n",
       "[31] \"pancreas\"                             \n",
       "[32] \"pituitary\"                            \n",
       "[33] \"skin_not_sun_exposed_suprapubic\"      \n",
       "[34] \"skin_sun_exposed_lower_leg\"           \n",
       "[35] \"small_intestine_terminal_ileum\"       \n",
       "[36] \"spleen\"                               \n",
       "[37] \"stomach\"                              \n",
       "[38] \"thyroid\"                              \n",
       "[39] \"whole_blood\"                          "
      ]
     },
     "metadata": {},
     "output_type": "display_data"
    },
    {
     "data": {
      "text/html": [
       "39"
      ],
      "text/latex": [
       "39"
      ],
      "text/markdown": [
       "39"
      ],
      "text/plain": [
       "[1] 39"
      ]
     },
     "metadata": {},
     "output_type": "display_data"
    }
   ],
   "source": [
    "tissue_list  <- factor(snakecase::to_snake_case(as.character(tissue_reduction$SMTSD)))\n",
    "tissue_list\n",
    "length(tissue_list)\n",
    "pdata_tissue_list <- factor(snakecase::to_snake_case(as.character(pData(reduced_obj2)$SMTSD)))\n",
    "levels(pdata_tissue_list)\n",
    "length(levels(pdata_tissue_list))\n"
   ]
  },
  {
   "cell_type": "code",
   "execution_count": 28,
   "metadata": {},
   "outputs": [
    {
     "data": {
      "text/html": [
       "<style>\n",
       ".list-inline {list-style: none; margin:0; padding: 0}\n",
       ".list-inline>li {display: inline-block}\n",
       ".list-inline>li:not(:last-child)::after {content: \"\\00b7\"; padding: 0 .5ex}\n",
       "</style>\n",
       "<ol class=list-inline><li>adipose_subcutaneous</li><li>adipose_visceral_omentum</li><li>adrenal_gland</li><li>artery_aorta</li><li>artery_coronary</li><li>artery_tibial</li><li>brain_caudate_basal_ganglia</li><li>brain_cerebellar_hemisphere</li><li>brain_cerebellum</li><li>brain_cortex</li><li>brain_frontal_cortex_ba_9</li><li>brain_hippocampus</li><li>brain_hypothalamus</li><li>brain_nucleus_accumbens_basal_ganglia</li><li>brain_putamen_basal_ganglia</li><li>brain_spinal_cord_cervical_c_1</li><li>breast_mammary_tissue</li><li>cells_cultured_fibroblasts</li><li>cells_ebv_transformed_lymphocytes</li><li>colon_sigmoid</li><li>colon_transverse</li><li>esophagus_gastroesophageal_junction</li><li>esophagus_mucosa</li><li>esophagus_muscularis</li><li>heart_atrial_appendage</li><li>heart_left_ventricle</li><li>liver</li><li>lung</li><li>muscle_skeletal</li><li>nerve_tibial</li><li>pancreas</li><li>pituitary</li><li>skin_not_sun_exposed_suprapubic</li><li>skin_sun_exposed_lower_leg</li><li>small_intestine_terminal_ileum</li><li>spleen</li><li>stomach</li><li>thyroid</li><li>whole_blood</li></ol>\n",
       "\n",
       "<details>\n",
       "\t<summary style=display:list-item;cursor:pointer>\n",
       "\t\t<strong>Levels</strong>:\n",
       "\t</summary>\n",
       "\t<style>\n",
       "\t.list-inline {list-style: none; margin:0; padding: 0}\n",
       "\t.list-inline>li {display: inline-block}\n",
       "\t.list-inline>li:not(:last-child)::after {content: \"\\00b7\"; padding: 0 .5ex}\n",
       "\t</style>\n",
       "\t<ol class=list-inline><li>'adipose_subcutaneous'</li><li>'adipose_visceral_omentum'</li><li>'adrenal_gland'</li><li>'artery_aorta'</li><li>'artery_coronary'</li><li>'artery_tibial'</li><li>'brain_caudate_basal_ganglia'</li><li>'brain_cerebellar_hemisphere'</li><li>'brain_cerebellum'</li><li>'brain_cortex'</li><li>'brain_frontal_cortex_ba_9'</li><li>'brain_hippocampus'</li><li>'brain_hypothalamus'</li><li>'brain_nucleus_accumbens_basal_ganglia'</li><li>'brain_putamen_basal_ganglia'</li><li>'brain_spinal_cord_cervical_c_1'</li><li>'breast_mammary_tissue'</li><li>'cells_cultured_fibroblasts'</li><li>'cells_ebv_transformed_lymphocytes'</li><li>'colon_sigmoid'</li><li>'colon_transverse'</li><li>'esophagus_gastroesophageal_junction'</li><li>'esophagus_mucosa'</li><li>'esophagus_muscularis'</li><li>'heart_atrial_appendage'</li><li>'heart_left_ventricle'</li><li>'liver'</li><li>'lung'</li><li>'muscle_skeletal'</li><li>'nerve_tibial'</li><li>'pancreas'</li><li>'pituitary'</li><li>'skin_not_sun_exposed_suprapubic'</li><li>'skin_sun_exposed_lower_leg'</li><li>'small_intestine_terminal_ileum'</li><li>'spleen'</li><li>'stomach'</li><li>'thyroid'</li><li>'whole_blood'</li></ol>\n",
       "</details>"
      ],
      "text/latex": [
       "\\begin{enumerate*}\n",
       "\\item adipose\\_subcutaneous\n",
       "\\item adipose\\_visceral\\_omentum\n",
       "\\item adrenal\\_gland\n",
       "\\item artery\\_aorta\n",
       "\\item artery\\_coronary\n",
       "\\item artery\\_tibial\n",
       "\\item brain\\_caudate\\_basal\\_ganglia\n",
       "\\item brain\\_cerebellar\\_hemisphere\n",
       "\\item brain\\_cerebellum\n",
       "\\item brain\\_cortex\n",
       "\\item brain\\_frontal\\_cortex\\_ba\\_9\n",
       "\\item brain\\_hippocampus\n",
       "\\item brain\\_hypothalamus\n",
       "\\item brain\\_nucleus\\_accumbens\\_basal\\_ganglia\n",
       "\\item brain\\_putamen\\_basal\\_ganglia\n",
       "\\item brain\\_spinal\\_cord\\_cervical\\_c\\_1\n",
       "\\item breast\\_mammary\\_tissue\n",
       "\\item cells\\_cultured\\_fibroblasts\n",
       "\\item cells\\_ebv\\_transformed\\_lymphocytes\n",
       "\\item colon\\_sigmoid\n",
       "\\item colon\\_transverse\n",
       "\\item esophagus\\_gastroesophageal\\_junction\n",
       "\\item esophagus\\_mucosa\n",
       "\\item esophagus\\_muscularis\n",
       "\\item heart\\_atrial\\_appendage\n",
       "\\item heart\\_left\\_ventricle\n",
       "\\item liver\n",
       "\\item lung\n",
       "\\item muscle\\_skeletal\n",
       "\\item nerve\\_tibial\n",
       "\\item pancreas\n",
       "\\item pituitary\n",
       "\\item skin\\_not\\_sun\\_exposed\\_suprapubic\n",
       "\\item skin\\_sun\\_exposed\\_lower\\_leg\n",
       "\\item small\\_intestine\\_terminal\\_ileum\n",
       "\\item spleen\n",
       "\\item stomach\n",
       "\\item thyroid\n",
       "\\item whole\\_blood\n",
       "\\end{enumerate*}\n",
       "\n",
       "\\emph{Levels}: \\begin{enumerate*}\n",
       "\\item 'adipose\\_subcutaneous'\n",
       "\\item 'adipose\\_visceral\\_omentum'\n",
       "\\item 'adrenal\\_gland'\n",
       "\\item 'artery\\_aorta'\n",
       "\\item 'artery\\_coronary'\n",
       "\\item 'artery\\_tibial'\n",
       "\\item 'brain\\_caudate\\_basal\\_ganglia'\n",
       "\\item 'brain\\_cerebellar\\_hemisphere'\n",
       "\\item 'brain\\_cerebellum'\n",
       "\\item 'brain\\_cortex'\n",
       "\\item 'brain\\_frontal\\_cortex\\_ba\\_9'\n",
       "\\item 'brain\\_hippocampus'\n",
       "\\item 'brain\\_hypothalamus'\n",
       "\\item 'brain\\_nucleus\\_accumbens\\_basal\\_ganglia'\n",
       "\\item 'brain\\_putamen\\_basal\\_ganglia'\n",
       "\\item 'brain\\_spinal\\_cord\\_cervical\\_c\\_1'\n",
       "\\item 'breast\\_mammary\\_tissue'\n",
       "\\item 'cells\\_cultured\\_fibroblasts'\n",
       "\\item 'cells\\_ebv\\_transformed\\_lymphocytes'\n",
       "\\item 'colon\\_sigmoid'\n",
       "\\item 'colon\\_transverse'\n",
       "\\item 'esophagus\\_gastroesophageal\\_junction'\n",
       "\\item 'esophagus\\_mucosa'\n",
       "\\item 'esophagus\\_muscularis'\n",
       "\\item 'heart\\_atrial\\_appendage'\n",
       "\\item 'heart\\_left\\_ventricle'\n",
       "\\item 'liver'\n",
       "\\item 'lung'\n",
       "\\item 'muscle\\_skeletal'\n",
       "\\item 'nerve\\_tibial'\n",
       "\\item 'pancreas'\n",
       "\\item 'pituitary'\n",
       "\\item 'skin\\_not\\_sun\\_exposed\\_suprapubic'\n",
       "\\item 'skin\\_sun\\_exposed\\_lower\\_leg'\n",
       "\\item 'small\\_intestine\\_terminal\\_ileum'\n",
       "\\item 'spleen'\n",
       "\\item 'stomach'\n",
       "\\item 'thyroid'\n",
       "\\item 'whole\\_blood'\n",
       "\\end{enumerate*}\n"
      ],
      "text/markdown": [
       "1. adipose_subcutaneous\n",
       "2. adipose_visceral_omentum\n",
       "3. adrenal_gland\n",
       "4. artery_aorta\n",
       "5. artery_coronary\n",
       "6. artery_tibial\n",
       "7. brain_caudate_basal_ganglia\n",
       "8. brain_cerebellar_hemisphere\n",
       "9. brain_cerebellum\n",
       "10. brain_cortex\n",
       "11. brain_frontal_cortex_ba_9\n",
       "12. brain_hippocampus\n",
       "13. brain_hypothalamus\n",
       "14. brain_nucleus_accumbens_basal_ganglia\n",
       "15. brain_putamen_basal_ganglia\n",
       "16. brain_spinal_cord_cervical_c_1\n",
       "17. breast_mammary_tissue\n",
       "18. cells_cultured_fibroblasts\n",
       "19. cells_ebv_transformed_lymphocytes\n",
       "20. colon_sigmoid\n",
       "21. colon_transverse\n",
       "22. esophagus_gastroesophageal_junction\n",
       "23. esophagus_mucosa\n",
       "24. esophagus_muscularis\n",
       "25. heart_atrial_appendage\n",
       "26. heart_left_ventricle\n",
       "27. liver\n",
       "28. lung\n",
       "29. muscle_skeletal\n",
       "30. nerve_tibial\n",
       "31. pancreas\n",
       "32. pituitary\n",
       "33. skin_not_sun_exposed_suprapubic\n",
       "34. skin_sun_exposed_lower_leg\n",
       "35. small_intestine_terminal_ileum\n",
       "36. spleen\n",
       "37. stomach\n",
       "38. thyroid\n",
       "39. whole_blood\n",
       "\n",
       "\n",
       "\n",
       "**Levels**: 1. 'adipose_subcutaneous'\n",
       "2. 'adipose_visceral_omentum'\n",
       "3. 'adrenal_gland'\n",
       "4. 'artery_aorta'\n",
       "5. 'artery_coronary'\n",
       "6. 'artery_tibial'\n",
       "7. 'brain_caudate_basal_ganglia'\n",
       "8. 'brain_cerebellar_hemisphere'\n",
       "9. 'brain_cerebellum'\n",
       "10. 'brain_cortex'\n",
       "11. 'brain_frontal_cortex_ba_9'\n",
       "12. 'brain_hippocampus'\n",
       "13. 'brain_hypothalamus'\n",
       "14. 'brain_nucleus_accumbens_basal_ganglia'\n",
       "15. 'brain_putamen_basal_ganglia'\n",
       "16. 'brain_spinal_cord_cervical_c_1'\n",
       "17. 'breast_mammary_tissue'\n",
       "18. 'cells_cultured_fibroblasts'\n",
       "19. 'cells_ebv_transformed_lymphocytes'\n",
       "20. 'colon_sigmoid'\n",
       "21. 'colon_transverse'\n",
       "22. 'esophagus_gastroesophageal_junction'\n",
       "23. 'esophagus_mucosa'\n",
       "24. 'esophagus_muscularis'\n",
       "25. 'heart_atrial_appendage'\n",
       "26. 'heart_left_ventricle'\n",
       "27. 'liver'\n",
       "28. 'lung'\n",
       "29. 'muscle_skeletal'\n",
       "30. 'nerve_tibial'\n",
       "31. 'pancreas'\n",
       "32. 'pituitary'\n",
       "33. 'skin_not_sun_exposed_suprapubic'\n",
       "34. 'skin_sun_exposed_lower_leg'\n",
       "35. 'small_intestine_terminal_ileum'\n",
       "36. 'spleen'\n",
       "37. 'stomach'\n",
       "38. 'thyroid'\n",
       "39. 'whole_blood'\n",
       "\n",
       "\n"
      ],
      "text/plain": [
       " [1] adipose_subcutaneous                  adipose_visceral_omentum             \n",
       " [3] adrenal_gland                         artery_aorta                         \n",
       " [5] artery_coronary                       artery_tibial                        \n",
       " [7] brain_caudate_basal_ganglia           brain_cerebellar_hemisphere          \n",
       " [9] brain_cerebellum                      brain_cortex                         \n",
       "[11] brain_frontal_cortex_ba_9             brain_hippocampus                    \n",
       "[13] brain_hypothalamus                    brain_nucleus_accumbens_basal_ganglia\n",
       "[15] brain_putamen_basal_ganglia           brain_spinal_cord_cervical_c_1       \n",
       "[17] breast_mammary_tissue                 cells_cultured_fibroblasts           \n",
       "[19] cells_ebv_transformed_lymphocytes     colon_sigmoid                        \n",
       "[21] colon_transverse                      esophagus_gastroesophageal_junction  \n",
       "[23] esophagus_mucosa                      esophagus_muscularis                 \n",
       "[25] heart_atrial_appendage                heart_left_ventricle                 \n",
       "[27] liver                                 lung                                 \n",
       "[29] muscle_skeletal                       nerve_tibial                         \n",
       "[31] pancreas                              pituitary                            \n",
       "[33] skin_not_sun_exposed_suprapubic       skin_sun_exposed_lower_leg           \n",
       "[35] small_intestine_terminal_ileum        spleen                               \n",
       "[37] stomach                               thyroid                              \n",
       "[39] whole_blood                          \n",
       "39 Levels: adipose_subcutaneous adipose_visceral_omentum ... whole_blood"
      ]
     },
     "metadata": {},
     "output_type": "display_data"
    },
    {
     "data": {
      "text/html": [
       "39"
      ],
      "text/latex": [
       "39"
      ],
      "text/markdown": [
       "39"
      ],
      "text/plain": [
       "[1] 39"
      ]
     },
     "metadata": {},
     "output_type": "display_data"
    },
    {
     "name": "stderr",
     "output_type": "stream",
     "text": [
      "processing adipose_subcutaneous \n",
      "\n",
      "splice_list does contain\n",
      "se_ continuing with processing\n",
      "\n",
      "\n",
      "Limiting phenotype data to tissue of interest\n",
      "adipose_subcutaneous \n",
      "\n",
      "keep\n",
      "9945427 \n",
      "\n",
      "tissue_obj now reduced to the tissue of interest\n",
      "427 67\n",
      "\n",
      "sample value\n",
      "GTEX.1117F.0226.SM.5GZZ7 c(`GTEX-1117F-0226-SM-5GZZ7` = 1) c(`GTEX-1117F-0226-SM-5GZZ7` = 1) c(`GTEX-1117F-0226-SM-5GZZ7` = 1657) c(`GTEX-1117F-0226-SM-5GZZ7` = 23) c(`GTEX-1117F-0226-SM-5GZZ7` = 1) 1 c(`GTEX-1117F-0226-SM-5GZZ7` = 30) c(`GTEX-1117F-0226-SM-5GZZ7` = 1393) c(`GTEX-1117F-0226-SM-5GZZ7` = 812) c(`GTEX-1117F-0226-SM-5GZZ7` = 1045) c(`GTEX-1117F-0226-SM-5GZZ7` = 6) c(`GTEX-1117F-0226-SM-5GZZ7` = 595) c(`GTEX-1117F-0226-SM-5GZZ7` = 261) c(`GTEX-1117F-0226-SM-5GZZ7` = 79) c(`GTEX-1117F-0226-SM-5GZZ7` = 18) c(`GTEX-1117F-0226-SM-5GZZ7` = 3) c(`GTEX-1117F-0226-SM-5GZZ7` = NA) c(`GTEX-1117F-0226-SM-5GZZ7` = 4430) c(`GTEX-1117F-0226-SM-5GZZ7` = 10620) c(`GTEX-1117F-0226-SM-5GZZ7` = 5305) c(`GTEX-1117F-0226-SM-5GZZ7` = NA) c(`GTEX-1117F-0226-SM-5GZZ7` = 5255) c(`GTEX-1117F-0226-SM-5GZZ7` = 3092) c(`GTEX-1117F-0226-SM-5GZZ7` = NA) c(`GTEX-1117F-0226-SM-5GZZ7` = 4350) c(`GTEX-1117F-0226-SM-5GZZ7` = 1) c(`GTEX-1117F-0226-SM-5GZZ7` = NA) c(`GTEX-1117F-0226-SM-5GZZ7` = 1) c(`GTEX-1117F-0226-SM-5GZZ7` = NA) c(`GTEX-1117F-0226-SM-5GZZ7` = 7872) c(`GTEX-1117F-0226-SM-5GZZ7` = 68) c(`GTEX-1117F-0226-SM-5GZZ7` = 1) c(`GTEX-1117F-0226-SM-5GZZ7` = 3866) c(`GTEX-1117F-0226-SM-5GZZ7` = 12372) c(`GTEX-1117F-0226-SM-5GZZ7` = 1693) c(`GTEX-1117F-0226-SM-5GZZ7` = 3547) c(`GTEX-1117F-0226-SM-5GZZ7` = 11684) c(`GTEX-1117F-0226-SM-5GZZ7` = NA) c(`GTEX-1117F-0226-SM-5GZZ7` = 4365) c(`GTEX-1117F-0226-SM-5GZZ7` = 3764) c(`GTEX-1117F-0226-SM-5GZZ7` = NA) c(`GTEX-1117F-0226-SM-5GZZ7` = NA) c(`GTEX-1117F-0226-SM-5GZZ7` = 1) c(`GTEX-1117F-0226-SM-5GZZ7` = 14999) c(`GTEX-1117F-0226-SM-5GZZ7` = 5255) c(`GTEX-1117F-0226-SM-5GZZ7` = 3804) c(`GTEX-1117F-0226-SM-5GZZ7` = 3866) c(`GTEX-1117F-0226-SM-5GZZ7` = 11023) c(`GTEX-1117F-0226-SM-5GZZ7` = 3493) c(`GTEX-1117F-0226-SM-5GZZ7` = 6574) c(`GTEX-1117F-0226-SM-5GZZ7` = 3501) c(`GTEX-1117F-0226-SM-5GZZ7` = 56) c(`GTEX-1117F-0226-SM-5GZZ7` = 3540) c(`GTEX-1117F-0226-SM-5GZZ7` = 7254) c(`GTEX-1117F-0226-SM-5GZZ7` = 9437) c(`GTEX-1117F-0226-SM-5GZZ7` = 3556) c(`GTEX-1117F-0226-SM-5GZZ7` = 4463) c(`GTEX-1117F-0226-SM-5GZZ7` = 2569) c(`GTEX-1117F-0226-SM-5GZZ7` = 6540) c(`GTEX-1117F-0226-SM-5GZZ7` = NA) c(`GTEX-1117F-0226-SM-5GZZ7` = 1) c(`GTEX-1117F-0226-SM-5GZZ7` = 3039) c(`GTEX-1117F-0226-SM-5GZZ7` = 1) c(`GTEX-1117F-0226-SM-5GZZ7` = 2) c(`GTEX-1117F-0226-SM-5GZZ7` = 5) c(`GTEX-1117F-0226-SM-5GZZ7` = 5)\n",
      "\n",
      "Limit the phenotypes to those we have samples for\n",
      "133 294\n",
      "\n",
      "tissue_count_obj now has these count specific phenotypes\n",
      "\n",
      "Dimensions of tissue_count_obj\n",
      "294 67\n",
      "\n",
      "Dimensions of tissue_count_obj \n",
      "38458 427\n",
      "\n",
      "Limit the counts now has these count specific phenotypes \n",
      "6726 294\n",
      "\n",
      "dimensions of the ijc_tissue \n",
      "42484 294\n",
      "\n",
      "dimensions of the ijc_tissue \n",
      "42484 294\n",
      "\n",
      "dimensions of the metadata_tissue \n",
      "294 80\n",
      "\n",
      "The non-overlapping IDs between pheno and count data are:\n",
      "0\n",
      "\n",
      "ijc.rs > 10 \n",
      "6157 36327\n",
      "\n",
      "sjc.rs > 10 \n",
      "9131 33353\n",
      "\n",
      "keep combined ijc | sjc \n",
      "3855 38629\n",
      "\n",
      "dim(ijc.dm)\n",
      "38629 294\n",
      "\n",
      "dim(sjc.dm)\n",
      "38629 294\n",
      "\n",
      "\n",
      "\n",
      "sex samples:\n",
      "190\n",
      "104\n",
      "\n",
      "sex samples:\n",
      "190 104\n",
      "\n",
      "design matrix ijc, alone:\n",
      "1\n",
      "1\n",
      "1\n",
      "1\n",
      "1\n",
      "1\n",
      "1\n",
      "1\n",
      "0\n",
      "0\n",
      "1\n",
      "0\n",
      "\n",
      "dimensions of the ijc_sex_results_refined_annotations \n",
      "99 11\n",
      "\n",
      "length ijc_sex_results_refined_geneSymbols\n",
      "99\n",
      "Warning message in file(file, ifelse(append, \"a\", \"w\")):\n",
      "“cannot open file '../csv/se_adipose_subcutaneous_DGE_ijc_sex.csv': No such file or directory”"
     ]
    },
    {
     "ename": "ERROR",
     "evalue": "Error in file(file, ifelse(append, \"a\", \"w\")): cannot open the connection\n",
     "output_type": "error",
     "traceback": [
      "Error in file(file, ifelse(append, \"a\", \"w\")): cannot open the connection\nTraceback:\n",
      "1. print_exploratory_plots(plot, dup, tissue_of_interest, splice_type, \n .     fromGTF, tissue_list, ijc, sjc, obj, metadata)",
      "2. write.table(ijc_sex_results, file = ijc_sex_filename, row.names = T, \n .     col.names = T, quote = F, sep = \",\")   # at line 168-169 of file <text>",
      "3. file(file, ifelse(append, \"a\", \"w\"))"
     ]
    },
    {
     "data": {
      "image/png": "[encoded data removed]",
      "text/plain": [
       "Plot with title “voom: Mean-variance trend”"
      ]
     },
     "metadata": {},
     "output_type": "display_data"
    }
   ],
   "source": [
    "# splice_list <- c(\"a3ss_\",\"a5ss_\",\"mxe_\",\"ri_\",\"se_\")\n",
    "\n",
    "splice_list  <- c( \"se_\")\n",
    "\n",
    "# parameters that do not change with splice_type\n",
    "tissue_list  <- factor(snakecase::to_snake_case(as.character(tissue_reduction$SMTSD)))\n",
    "tissue_list\n",
    "length(tissue_list)\n",
    "\n",
    "metadata     <- ocounts_metadata\n",
    "plot         <- TRUE\n",
    "dup          <- FALSE\n",
    "obj          <- reduced_obj2\n",
    "\n",
    "# parameters that change with each splice type (3)\n",
    "# fromGTF\n",
    "# ijc\n",
    "# sjc\n",
    "\n",
    "for (tissue_index in 1:length(tissue_list)) {\n",
    "\n",
    "    # a3ss\n",
    "    splice_type = \"a3ss_\"\n",
    "    res = splice_list %in% splice_type\n",
    "    tissue_of_interest  = as.vector(as.character(tissue_list[tissue_index]))\n",
    "    message (\"processing \",\n",
    "             paste(tissue_of_interest), \" \\n\")\n",
    "    \n",
    "    if (sum(res) == 1) {\n",
    "        message (\"splice_list does contain\\n\",\n",
    "             paste(splice_type), \" continuing with processing\\n\")\n",
    "        fromGTF             = a3ss_fromGTF_no_chrY\n",
    "        ijc                 = a3ss_jc_ijc_no_chrY\n",
    "        sjc                 = a3ss_jc_sjc_no_chrY\n",
    "        print_exploratory_plots (plot, \n",
    "                             dup,\n",
    "                             tissue_of_interest, \n",
    "                             splice_type, \n",
    "                             fromGTF, \n",
    "                             tissue_list, \n",
    "                             ijc, \n",
    "                             sjc, \n",
    "                             obj, \n",
    "                             metadata )\n",
    "    }\n",
    "    # a5ss\n",
    "    splice_type = \"a5ss_\"\n",
    "    res = splice_list %in% splice_type\n",
    "    if (sum(res) == 1) {\n",
    "        message (\"splice_list does contain\\n\",\n",
    "             paste(splice_type), \" continuing with processing\\n\")\n",
    "        fromGTF             = a5ss_fromGTF_no_chrY\n",
    "        ijc                 = a5ss_jc_ijc_no_chrY\n",
    "        sjc                 = a5ss_jc_sjc_no_chrY\n",
    "        print_exploratory_plots (plot, \n",
    "                             dup,\n",
    "                             tissue_of_interest, \n",
    "                             splice_type, \n",
    "                             fromGTF, \n",
    "                             tissue_list, \n",
    "                             ijc, \n",
    "                             sjc, \n",
    "                             obj, \n",
    "                             metadata )\n",
    "    }\n",
    "    # mxe\n",
    "    splice_type = \"mxe_\"\n",
    "    res = splice_list %in% splice_type\n",
    "    if (sum(res) == 1) {\n",
    "        message (\"splice_list does contain\\n\",\n",
    "             paste(splice_type), \" continuing with processing\\n\")\n",
    "        fromGTF             = mxe_fromGTF_no_chrY\n",
    "        ijc                 = mxe_jc_ijc_no_chrY\n",
    "        sjc                 = mxe_jc_sjc_no_chrY\n",
    "        print_exploratory_plots (plot, \n",
    "                             dup,\n",
    "                             tissue_of_interest, \n",
    "                             splice_type, \n",
    "                             fromGTF, \n",
    "                             tissue_list, \n",
    "                             ijc, \n",
    "                             sjc, \n",
    "                             obj, \n",
    "                             metadata )\n",
    "    }\n",
    "    # ri\n",
    "    splice_type = \"ri_\"\n",
    "    res = splice_list %in% splice_type\n",
    "    if (sum(res) == 1) {\n",
    "        message (\"splice_list does contain\\n\",\n",
    "             paste(splice_type), \" continuing with processing\\n\")\n",
    "        fromGTF             = ri_fromGTF_no_chrY\n",
    "        ijc                 = ri_jc_ijc_no_chrY\n",
    "        sjc                 = ri_jc_sjc_no_chrY\n",
    "        print_exploratory_plots (plot, \n",
    "                             dup,\n",
    "                             tissue_of_interest, \n",
    "                             splice_type, \n",
    "                             fromGTF, \n",
    "                             tissue_list, \n",
    "                             ijc, \n",
    "                             sjc, \n",
    "                             obj, \n",
    "                             metadata )\n",
    "    }\n",
    "    # se\n",
    "    splice_type = \"se_\"\n",
    "    res = splice_list %in% splice_type\n",
    "    if (sum(res) == 1) {\n",
    "        message (\"splice_list does contain\\n\",\n",
    "             paste(splice_type), \" continuing with processing\\n\")\n",
    "        fromGTF             = se_fromGTF_no_chrY\n",
    "        ijc                 = se_jc_ijc_no_chrY\n",
    "        sjc                 = se_jc_sjc_no_chrY\n",
    "        print_exploratory_plots (plot, \n",
    "                              dup,\n",
    "                              tissue_of_interest, \n",
    "                              splice_type, \n",
    "                              fromGTF, \n",
    "                              tissue_list, \n",
    "                              ijc, \n",
    "                              sjc, \n",
    "                              obj, \n",
    "                              metadata )\n",
    "    }\n",
    "}"
   ]
  },
  {
   "cell_type": "markdown",
   "metadata": {},
   "source": [
    "## Metadata\n",
    "\n",
    "For replicability and reproducibility purposes, we also print the following metadata:\n",
    "\n",
    "1. Checksums of **'artefacts'**, files generated during the analysis and stored in the folder directory **`data`**\n",
    "2. List of environment metadata, dependencies, versions of libraries using `utils::sessionInfo()` and [`devtools::session_info()`](https://devtools.r-lib.org/reference/session_info.html)"
   ]
  },
  {
   "cell_type": "markdown",
   "metadata": {},
   "source": [
    "### 1. Checksums with the sha256 algorithm"
   ]
  },
  {
   "cell_type": "code",
   "execution_count": null,
   "metadata": {},
   "outputs": [],
   "source": [
    "rm (notebookid)\n",
    "notebookid   = \"AllTissueAllSplicingJunctionAnalysis\"\n",
    "notebookid\n",
    "\n",
    "message(\"Generating sha256 checksums of the artefacts in the `..data/` directory .. \")\n",
    "system(paste0(\"cd ../data && find . -type f -exec sha256sum {} \\\\;  >  ../metadata/\", notebookid, \"_sha256sums.txt\"), intern = TRUE)\n",
    "message(\"Done!\\n\")\n",
    "\n",
    "paste0(\"../metadata/\", notebookid, \"_sha256sums.txt\")\n",
    "\n",
    "data.table::fread(paste0(\"../metadata/\", notebookid, \"_sha256sums.txt\"), header = FALSE, col.names = c(\"sha256sum\", \"file\"))"
   ]
  },
  {
   "cell_type": "markdown",
   "metadata": {},
   "source": [
    "### 2. Libraries metadata"
   ]
  },
  {
   "cell_type": "code",
   "execution_count": null,
   "metadata": {},
   "outputs": [],
   "source": [
    "dev_session_info   <- devtools::session_info()\n",
    "utils_session_info <- utils::sessionInfo()\n",
    "\n",
    "message(\"Saving `devtools::session_info()` objects in ../metadata/devtools_session_info.rds  ..\")\n",
    "saveRDS(dev_session_info, file = paste0(\"../metadata/\", notebookid, \"_devtools_session_info.rds\"))\n",
    "message(\"Done!\\n\")\n",
    "\n",
    "message(\"Saving `utils::sessionInfo()` objects in ../metadata/utils_session_info.rds  ..\")\n",
    "saveRDS(utils_session_info, file = paste0(\"../metadata/\", notebookid ,\"_utils_info.rds\"))\n",
    "message(\"Done!\\n\")\n",
    "\n",
    "dev_session_info$platform\n",
    "dev_session_info$packages[dev_session_info$packages$attached==TRUE, ]"
   ]
  },
  {
   "cell_type": "code",
   "execution_count": null,
   "metadata": {},
   "outputs": [],
   "source": []
  }
 ],
 "metadata": {
  "kernelspec": {
   "display_name": "R",
   "language": "R",
   "name": "ir"
  },
  "language_info": {
   "codemirror_mode": "r",
   "file_extension": ".r",
   "mimetype": "text/x-r-source",
   "name": "R",
   "pygments_lexer": "r",
   "version": "3.6.1"
  }
 },
 "nbformat": 4,
 "nbformat_minor": 4
}
