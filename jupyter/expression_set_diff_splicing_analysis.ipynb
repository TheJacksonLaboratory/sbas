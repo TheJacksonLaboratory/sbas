{
 "cells": [
  {
   "cell_type": "markdown",
   "metadata": {},
   "source": [
    "# BreastMammaryTissueJunctionAnalysis as a Notebook \n",
    "\n",
    "rMATS 3.2.5 was run on controlled access RNASeq files retrieved experiments stored in the Sequence Read Archive with controlled access managed by dbGaP.   The data were generated under the Gene Tissue Expression.\n",
    "\n",
    "## rMATS RNASeq-MATS.py produces 10 different output types which get assembled into as type junction ID by sample ID matrices\n",
    "\n",
    "### Alternative Splice Site Types are: (se, a3ss, a5ss, mxe, ri)\n",
    "\n",
    " This is input as ARGV1 into variable 'astype'\n",
    "\n",
    "  * Skipped Exon events (se),\n",
    "  * Alternative 3' splice site (a3ss),\n",
    "  * Alternative 5' splice site (a5ss),\n",
    "  * Mutually exclusive exon (mxe),\n",
    "  * and retention intron (ri)\n",
    "\n",
    "### There are two different kinds of junction counts\n",
    "\n",
    "  * jc = junction counts - reads that cross the junction\n",
    "  * jcec = junction counts plus reads on the target (such as included exon\n",
    "\n",
    "### And the count type -- there are 5 types\n",
    "\n",
    "  * inclusion levels (percent spliced in)\n",
    "  * included junction counts (ijc)\n",
    "  * skipped junction counts (sjc)\n",
    "  * inclusion length (inclen)\n",
    "  * skipped length (skiplen)\n",
    "\n",
    "### function: fit_iso_tissue \n",
    "\n",
    "fit_iso_tissue expects the following input:\n",
    "\n",
    "  * the tissue of interest (SMSTD) \n",
    "  * an ordered_merged_rmats -- which will be ordered to fit the count matrix\n",
    "  * count matrix (inc or ijc & sjc merged)\n",
    "  * splice type (a3ss, a5ss, mxe, ri or se)\n",
    "  * junction_count type (jc or jcec)\n",
    "  * count type (inc or the merged ijc,sjc)\n",
    "  \n",
    "### reordering to match annotations between count matrix and annotation matrix\n",
    "\n",
    "Common problem is to match specifically the rows of an annotation matrix with the columns of a count matrix\n",
    "`match` is the function that gives the re-ordering index required to accomplish this\n"
   ]
  },
  {
   "cell_type": "markdown",
   "metadata": {},
   "source": [
    "## **NOTE**:\n",
    "\n",
    "We assume that you have cloned the analysis repository and have `cd` into the parent directory. Before starting with the analysis make sure you have first completed the dependencies set up by following the instructions described in the **`dependencies/README.md`** document. All paths defined in this Notebook are relative to the parent directory (repository). Please close this Notebook and start again by following the above guidelines if you have not completed the aforementioned steps."
   ]
  },
  {
   "cell_type": "markdown",
   "metadata": {},
   "source": [
    "# Loading dependencies"
   ]
  },
  {
   "cell_type": "code",
   "execution_count": 1,
   "metadata": {},
   "outputs": [],
   "source": [
    "Sys.setenv(GITHUB_TOKEN = \"a55d8f37680eddbb60d55f917282b397cd7c92c5\")"
   ]
  },
  {
   "cell_type": "code",
   "execution_count": 2,
   "metadata": {},
   "outputs": [
    {
     "name": "stderr",
     "output_type": "stream",
     "text": [
      "Loading required package: BiocGenerics\n",
      "\n",
      "Loading required package: parallel\n",
      "\n",
      "\n",
      "Attaching package: ‘BiocGenerics’\n",
      "\n",
      "\n",
      "The following objects are masked from ‘package:parallel’:\n",
      "\n",
      "    clusterApply, clusterApplyLB, clusterCall, clusterEvalQ,\n",
      "    clusterExport, clusterMap, parApply, parCapply, parLapply,\n",
      "    parLapplyLB, parRapply, parSapply, parSapplyLB\n",
      "\n",
      "\n",
      "The following object is masked from ‘package:limma’:\n",
      "\n",
      "    plotMA\n",
      "\n",
      "\n",
      "The following objects are masked from ‘package:stats’:\n",
      "\n",
      "    IQR, mad, sd, var, xtabs\n",
      "\n",
      "\n",
      "The following objects are masked from ‘package:base’:\n",
      "\n",
      "    anyDuplicated, append, as.data.frame, basename, cbind, colnames,\n",
      "    dirname, do.call, duplicated, eval, evalq, Filter, Find, get, grep,\n",
      "    grepl, intersect, is.unsorted, lapply, Map, mapply, match, mget,\n",
      "    order, paste, pmax, pmax.int, pmin, pmin.int, Position, rank,\n",
      "    rbind, Reduce, rownames, sapply, setdiff, sort, table, tapply,\n",
      "    union, unique, unsplit, which, which.max, which.min\n",
      "\n",
      "\n",
      "Loading required package: Biobase\n",
      "\n",
      "Welcome to Bioconductor\n",
      "\n",
      "    Vignettes contain introductory material; view with\n",
      "    'browseVignettes()'. To cite Bioconductor, see\n",
      "    'citation(\"Biobase\")', and for packages 'citation(\"pkgname\")'.\n",
      "\n",
      "\n",
      "Loading required package: R.oo\n",
      "\n",
      "Loading required package: R.methodsS3\n",
      "\n",
      "R.methodsS3 v1.7.1 (2016-02-15) successfully loaded. See ?R.methodsS3 for help.\n",
      "\n",
      "Registered S3 method overwritten by 'R.oo':\n",
      "  method        from       \n",
      "  throw.default R.methodsS3\n",
      "\n",
      "R.oo v1.22.0 (2018-04-21) successfully loaded. See ?R.oo for help.\n",
      "\n",
      "\n",
      "Attaching package: ‘R.oo’\n",
      "\n",
      "\n",
      "The following objects are masked from ‘package:methods’:\n",
      "\n",
      "    getClasses, getMethods\n",
      "\n",
      "\n",
      "The following objects are masked from ‘package:base’:\n",
      "\n",
      "    attach, detach, gc, load, save\n",
      "\n",
      "\n",
      "R.utils v2.8.0 successfully loaded. See ?R.utils for help.\n",
      "\n",
      "\n",
      "Attaching package: ‘R.utils’\n",
      "\n",
      "\n",
      "The following object is masked from ‘package:utils’:\n",
      "\n",
      "    timestamp\n",
      "\n",
      "\n",
      "The following objects are masked from ‘package:base’:\n",
      "\n",
      "    cat, commandArgs, getOption, inherits, isOpen, nullfile, parse,\n",
      "    warnings\n",
      "\n",
      "\n"
     ]
    }
   ],
   "source": [
    "library(limma)\n",
    "library(multtest)\n",
    "library(Biobase)\n",
    "library(edgeR)\n",
    "library(tibble)\n",
    "library(R.utils)\n",
    "# Install this version: > devtools::install_github(\"ropensci/piggyback@87f71e8\", upgrade=\"never\")\n",
    "library(piggyback)\n",
    "library(statmod)"
   ]
  },
  {
   "cell_type": "markdown",
   "metadata": {},
   "source": [
    "# Sourcing functions"
   ]
  },
  {
   "cell_type": "code",
   "execution_count": 3,
   "metadata": {},
   "outputs": [],
   "source": [
    "source(\"../src/createExpressionSet.R\")"
   ]
  },
  {
   "cell_type": "markdown",
   "metadata": {},
   "source": [
    "# Fetching required input data\n",
    "Retrieving the results from the rMATS analysis using [`ropensci/piggyback`](https://github.com/ropensci/piggyback)\n",
    "\n",
    "This notebook requires as input data the aggregated matrices from rMATS. We have archived the results from the Nextflow pipeline that generates the results using the method described by the author of the R package [`ropensci/piggyback`](https://github.com/ropensci/piggyback). We use the release named `rMATS.3.2.5.GTEx.V8.final_matrices` which can be accessed at [adeslatt/sbas_test/releases/tag/rMATS.3.2.5.GTEx.V8.final_matrices](https://github.com/adeslatt/sbas_test/releases/tag/rMATS.3.2.5.GTEx.V8.final_matrices). \n",
    "\n",
    "For using the [`ropensci/piggyback`](https://github.com/ropensci/piggyback) with private repositories, it is required that a `GITHUB_TOKEN` is stored as a variable in the R environment in which one is working. To generate such a token with sensible default permissions, the R package [usethis]() has a convenient function \n",
    "\n",
    "```R\n",
    "# intall.packages(\"usethis\")\n",
    "usethis::browse_github_token()\n",
    "```\n",
    "\n",
    "This will redirect you to GitHub to create your own GitHub token. Once you have the token, you can use it to set up `.Renviron` by typing the following:\n",
    "\n",
    "```R\n",
    "Sys.setenv(GITHUB_TOKEN = \"youractualtokenindoublequotes\")\n",
    "```\n",
    "\n",
    "Then you are ready to use the function [`piggyback::pb_download()`](https://docs.ropensci.org/piggyback/reference/pb_download.html) to retrieve the `dge.tar.gz` that contains the topTable objects written as .csv file for all 46 examined GTEX tissue cohorts.\n",
    "\n",
    "---\n",
    "\n",
    "***NOTE***\n",
    "\n",
    "Avoid using the `.token` argument to share your token directly in the function as you might forget and push your code, along with your private GITHUB_TOKEN to GitHub. If that happens by mistake, it is advised you invalidate the token that has been exposed by accessing [this link](https://github.com/settings/tokens) and clicking `Delete`.\n",
    "\n",
    "---\n"
   ]
  },
  {
   "cell_type": "code",
   "execution_count": 4,
   "metadata": {},
   "outputs": [
    {
     "name": "stderr",
     "output_type": "stream",
     "text": [
      "File SraRunTable.noCram.noExome.noWGS.totalRNA.txt.gz already available in ../data/ !\n",
      "\n",
      "\n",
      "File pData_yarn_downloadGTExV8.csv already available in ../data/ !\n",
      "\n",
      "\n",
      "File fromGTF.tar.gz already available in ../data/ !\n",
      "\n",
      "\n",
      "Fetching rmats_final.se.jc.ijc.txt.gz from GitHub ..\n",
      "\n",
      "downloading rmats_final.se.jc.ijc.txt.gz ...\n",
      "\n"
     ]
    },
    {
     "name": "stdout",
     "output_type": "stream",
     "text": [
      "  |======================================================================| 100%\n"
     ]
    },
    {
     "name": "stderr",
     "output_type": "stream",
     "text": [
      "Done!\n",
      "\n",
      "\n",
      "Fetching rmats_final.se.jc.sjc.txt.gz from GitHub ..\n",
      "\n",
      "downloading rmats_final.se.jc.sjc.txt.gz ...\n",
      "\n"
     ]
    },
    {
     "name": "stdout",
     "output_type": "stream",
     "text": [
      "  |======================================================================| 100%\n"
     ]
    },
    {
     "name": "stderr",
     "output_type": "stream",
     "text": [
      "Done!\n",
      "\n",
      "\n",
      "Fetching rmats_final.se.jc.inc.txt.gz from GitHub ..\n",
      "\n",
      "downloading rmats_final.se.jc.inc.txt.gz ...\n",
      "\n"
     ]
    },
    {
     "name": "stdout",
     "output_type": "stream",
     "text": [
      "  |======================================================================| 100%\n"
     ]
    },
    {
     "name": "stderr",
     "output_type": "stream",
     "text": [
      "Done!\n",
      "\n",
      "\n"
     ]
    }
   ],
   "source": [
    "# ijc\n",
    "if (file.exists(\"../data/rmats_final.se.jc.ijc.txt.gz\")) {\n",
    "    message(\"File rmats_final.se.jc.ijc.txt.gz already available in ../data/ !\\n\")\n",
    "    }\n",
    "# sjc\n",
    "if (file.exists(\"../data/rmats_final.se.jc.sjc.txt.gz\")) {\n",
    "    message(\"File rmats_final.se.jc.sjc.txt.gz already available in ../data/ !\\n\")\n",
    "    }\n",
    "# inc\n",
    "if (file.exists(\"../data/rmats_final.se.jc.inc.txt.gz\")) {\n",
    "    message(\"File rmats_final.se.jc.inc.txt.gz already available in ../data/ !\\n\")\n",
    "    }\n",
    "# SraRunTable.noCram.noExome.noWGS.totalRNA.txt.gz\n",
    "if (file.exists(\"../data/SraRunTable.noCram.noExome.noWGS.totalRNA.txt.gz\")) {\n",
    "    message(\"File SraRunTable.noCram.noExome.noWGS.totalRNA.txt.gz already available in ../data/ !\\n\")\n",
    "    }\n",
    "# pData_yarn_downloadGTExV8.csv\n",
    "if (file.exists(\"../data/pData_yarn_downloadGTExV8.csv\")) {\n",
    "    message(\"File pData_yarn_downloadGTExV8.csv already available in ../data/ !\\n\")\n",
    "    }\n",
    "# fromGTF.tar.gz\n",
    "if (file.exists(\"../data/fromGTF.tar.gz\")) {\n",
    "    message(\"File fromGTF.tar.gz already available in ../data/ !\\n\")\n",
    "}\n",
    "# ijc\n",
    "if (! (file.exists(\"../data/rmats_final.se.jc.ijc.txt.gz\"))) {\n",
    "    system(\"mkdir -p ../data\", intern = TRUE)\n",
    "    message(\"Fetching rmats_final.se.jc.ijc.txt.gz from GitHub ..\")\n",
    "    # Download archive from GitHub release with tag \"dge\"\n",
    "    piggyback::pb_download(file = \"rmats_final.se.jc.ijc.txt.gz\",\n",
    "                           dest = \"../data\",\n",
    "                           repo = \"adeslatt/sbas_test\",\n",
    "                           tag  = \"rMATS.3.2.5.GTEx.V8.final_matrices\",\n",
    "                           show_progress = TRUE)\n",
    "    message(\"Done!\\n\")\n",
    "}\n",
    "\n",
    "\n",
    "\n",
    "# sjc\n",
    "if (! (file.exists(\"../data/rmats_final.se.jc.sjc.txt.gz\"))) {\n",
    "    system(\"mkdir -p ../data\", intern = TRUE)\n",
    "    message(\"Fetching rmats_final.se.jc.sjc.txt.gz from GitHub ..\")\n",
    "    # Download archive from GitHub release with tag \"dge\"\n",
    "    piggyback::pb_download(file = \"rmats_final.se.jc.sjc.txt.gz\",\n",
    "                           dest = \"../data\",\n",
    "                           repo = \"adeslatt/sbas_test\",\n",
    "                           tag  = \"rMATS.3.2.5.GTEx.V8.final_matrices\",\n",
    "                           show_progress = TRUE)\n",
    "    message(\"Done!\\n\")\n",
    "}\n",
    "\n",
    "#inc\n",
    "if (! (file.exists(\"../data/rmats_final.se.jc.inc.txt.gz\"))) {\n",
    "    system(\"mkdir -p ../data\", intern = TRUE)\n",
    "    message(\"Fetching rmats_final.se.jc.inc.txt.gz from GitHub ..\")\n",
    "    # Download archive from GitHub release with tag \"dge\"\n",
    "    piggyback::pb_download(file = \"rmats_final.se.jc.inc.txt.gz\",\n",
    "                           dest = \"../data\",\n",
    "                           repo = \"adeslatt/sbas_test\",\n",
    "                           tag  = \"rMATS.3.2.5.GTEx.V8.final_matrices\",\n",
    "                           show_progress = TRUE)\n",
    "    message(\"Done!\\n\")\n",
    "}\n",
    "\n",
    "# SraRunTable.noCram.noExome.noWGS.totalRNA.txt\n",
    "if (! (file.exists(\"../data/SraRunTable.noCram.noExome.noWGS.totalRNA.txt.gz\"))) {\n",
    "    system(\"mkdir -p ../data\", intern = TRUE)\n",
    "    message(\"Fetching SraRunTable.noCram.noExome.noWGS.totalRNA.txt.gz from GitHub ..\")\n",
    "    # Download archive from GitHub release with tag \"dge\"\n",
    "    piggyback::pb_download(file = \"SraRunTable.noCram.noExome.noWGS.totalRNA.txt.gz\",\n",
    "                           dest = \"../data\",\n",
    "                           repo = \"TheJacksonLaboratory/sbas\",\n",
    "                           tag  = \"GTExV8.v1.0\",\n",
    "                           show_progress = TRUE)\n",
    "    message(\"Done!\\n\")\n",
    "    message(\"Decompressing SraRunTable.noCram.noExome.noWGS.totalRNA.txt.gz into ../data\")\n",
    "    system(\"gunzip  ../data/SraRunTable.noCram.noExome.noWGS.totalRNA.txt.gz\", intern = TRUE)\n",
    "    message(\"Done!\\n\")\n",
    "}\n",
    "\n",
    "# pData_yarn_downloadGTExV8.csv\n",
    "if (! (file.exists(\"../data/pData_yarn_downloadGTExV8.csv\"))) {\n",
    "    system(\"mkdir -p ../data\", intern = TRUE)\n",
    "    message(\"Fetching pData_yarn_downloadGTExV8.csv from GitHub ..\")\n",
    "    # Download archive from GitHub release with tag \"dge\"\n",
    "    piggyback::pb_download(file = \"pData_yarn_downloadGTExV8.csv\",\n",
    "                           dest = \"../data\",\n",
    "                           repo = \"TheJacksonLaboratory/sbas\",\n",
    "                           tag  = \"GTExV8.v1.0\",\n",
    "                           show_progress = TRUE)\n",
    "    message(\"Done!\\n\")\n",
    "}\n",
    "\n",
    "# fromGTF.tar.gz\n",
    "if (! (file.exists(\"../data/fromGTF.tar.gz\"))) {\n",
    "    system(\"mkdir -p ../data\", intern = TRUE)\n",
    "    message(\"Fetching fromGTF.tar.gz from GitHub ..\")\n",
    "    # Download archive from GitHub release with tag \"dge\"\n",
    "    piggyback::pb_download(file = \"fromGTF.tar.gz\",\n",
    "                           dest = \"../data\",\n",
    "                           repo = \"adeslatt/sbas_gtf\",\n",
    "                           tag  = \"rMATS.3.2.5.gencode.v30\",\n",
    "                           show_progress = TRUE)\n",
    "    message(\"Done!\\n\")\n",
    "    message(\"Decompressing fromGTF.tar.gz into ../data\")\n",
    "    system(\"mkdir -p ../data && tar xvfz ../data/fromGTF.tar.gz -C ../data\", intern = TRUE)\n",
    "    message(\"Done!\\n\")\n",
    "    message(\"Decompressing fromGTF.*.txt.gz into ../data\")\n",
    "    system(\"gunzip  ../data/fromGTF*.txt.gz \", intern = TRUE)\n",
    "    message(\"Done!\\n\")\n",
    "}"
   ]
  },
  {
   "cell_type": "markdown",
   "metadata": {},
   "source": [
    "## Modeling\n",
    "\n",
    "This analysis uses edgeR.  From the documentation, it is important to note that normalization takes the form of correction factors that enter into the statistical model. Such correction factors are usually computed internally by edgeR functions, but it is also possible for a user to supply them. The correction factors may take the form of scaling factors for the library sizes, such as computed by calcNormFactors, which are then used to compute the effective library sizes. \n",
    "\n",
    "Alternatively, gene-specific correction factors can be entered into the glm functions of edgeR as offsets. In the latter case, the offset matrix will be assumed to account for all normalization issues, including sequencing depth and RNA composition.\n",
    "\n",
    "Note that normalization in edgeR is model-based, and the original read counts are not themselves transformed. This means that users should not transform the read counts in any way before inputing them to edgeR. For example, users should not enter RPKM or FPKM val- ues to edgeR in place of read counts. Such quantities will prevent edgeR from correctly estimating the mean-variance relationship in the data, which is a crucial to the statistical strategies underlying edgeR. Similarly, users should not add artificial values to the counts before inputing them to edgeR.\n",
    "\n",
    "edgeR is not designed to work with estimated expression levels, for example as might be output by Cufflinks. \n",
    "edgeR can work with expected counts as output by RSEM, but raw counts are still preferred. \n",
    "\n",
    "As instructed by the software, we are using the raw counts as provided by rMATS.  The raw counts we are using in the model are `ijc` and `sjc`, the sample specific raw read counts as they align to the junctions of the `included exon (ijc)` and the junctions of the `excluded or skipped exon (sjc)` respectively.\n",
    "\n"
   ]
  },
  {
   "cell_type": "code",
   "execution_count": 5,
   "metadata": {},
   "outputs": [],
   "source": [
    "ijc.iso.counts.mem <- as.data.frame(data.table::fread(\"../data/rmats_final.se.jc.ijc.txt.gz\"))\n",
    "sjc.iso.counts.mem <- as.data.frame(data.table::fread(\"../data/rmats_final.se.jc.sjc.txt.gz\"))\n",
    "inc.iso.counts.mem <- as.data.frame(data.table::fread(\"../data/rmats_final.se.jc.inc.txt.gz\"))\n",
    "meta.data          <- read.csv('../data/SraRunTable.noCram.noExome.noWGS.totalRNA.txt', header=TRUE, stringsAsFactors=FALSE)\n",
    "fromGTF.SE         <- as.data.frame(data.table::fread(\"../data/fromGTF.SE.txt\", header=TRUE))\n",
    "AS_site_type       <- \"SE\""
   ]
  },
  {
   "cell_type": "markdown",
   "metadata": {},
   "source": [
    "# Prepare ExpressionSet object\n",
    "\n",
    "- `assayData`: matrix, `colnames(assayData)` must be same as `rownames(phenoData)`\n",
    "- `featureData`: data.frame, `rownames(featureData)` must be same as `rownames(assayData)`\n",
    "- `phenoData`: data.frame, `colnames(phenoData)` must be same as `colnames(assay_data)`\n",
    "\n",
    "\n",
    "\n",
    "|object|rownames|colnames|\n",
    "|--|--|--|\n",
    "|assayData|`ID` | `Run` from `phenoData` |\n",
    "|featureData|`ID` | could be *any* feature metadata column|\n",
    "|phenoData|`Run` from `phenoData` | could be *any* sample metadata column |\n",
    "\n",
    "`ID` : (unique id for features)\n",
    "`Run` : (unique id for observations aka individuals SRR id)"
   ]
  },
  {
   "cell_type": "code",
   "execution_count": 6,
   "metadata": {},
   "outputs": [
    {
     "data": {
      "text/html": [
       "<style>\n",
       ".list-inline {list-style: none; margin:0; padding: 0}\n",
       ".list-inline>li {display: inline-block}\n",
       ".list-inline>li:not(:last-child)::after {content: \"\\00b7\"; padding: 0 .5ex}\n",
       "</style>\n",
       "<ol class=list-inline><li>42611</li><li>8673</li></ol>\n"
      ],
      "text/latex": [
       "\\begin{enumerate*}\n",
       "\\item 42611\n",
       "\\item 8673\n",
       "\\end{enumerate*}\n"
      ],
      "text/markdown": [
       "1. 42611\n",
       "2. 8673\n",
       "\n",
       "\n"
      ],
      "text/plain": [
       "[1] 42611  8673"
      ]
     },
     "metadata": {},
     "output_type": "display_data"
    },
    {
     "data": {
      "text/html": [
       "<style>\n",
       ".list-inline {list-style: none; margin:0; padding: 0}\n",
       ".list-inline>li {display: inline-block}\n",
       ".list-inline>li:not(:last-child)::after {content: \"\\00b7\"; padding: 0 .5ex}\n",
       "</style>\n",
       "<ol class=list-inline><li>42611</li><li>8673</li></ol>\n"
      ],
      "text/latex": [
       "\\begin{enumerate*}\n",
       "\\item 42611\n",
       "\\item 8673\n",
       "\\end{enumerate*}\n"
      ],
      "text/markdown": [
       "1. 42611\n",
       "2. 8673\n",
       "\n",
       "\n"
      ],
      "text/plain": [
       "[1] 42611  8673"
      ]
     },
     "metadata": {},
     "output_type": "display_data"
    }
   ],
   "source": [
    "ijc_eSet <- createExpressionSet(assay_dataframe   = ijc.iso.counts.mem, \n",
    "                                features_metadata = fromGTF.SE, \n",
    "                                pheno_metadata    = meta.data, \n",
    "                                assay_data_feature_id_variable = \"ID\", \n",
    "                                pheno_data_sample_id_variable  = \"Run\" )\n",
    "\n",
    "sjc_eSet <- createExpressionSet(assay_dataframe   = sjc.iso.counts.mem, \n",
    "                                features_metadata = fromGTF.SE, \n",
    "                                pheno_metadata    = meta.data, \n",
    "                                assay_data_feature_id_variable = \"ID\", \n",
    "                                pheno_data_sample_id_variable  = \"Run\" )\n",
    "\n",
    "dim(exprs(ijc_eSet))\n",
    "dim(exprs(sjc_eSet))\n"
   ]
  },
  {
   "cell_type": "markdown",
   "metadata": {},
   "source": [
    "# Remove 11ILO SRR entries\n",
    "There are 12 from the different tissues\n"
   ]
  },
  {
   "cell_type": "code",
   "execution_count": 7,
   "metadata": {},
   "outputs": [
    {
     "data": {
      "text/html": [
       "<style>\n",
       ".list-inline {list-style: none; margin:0; padding: 0}\n",
       ".list-inline>li {display: inline-block}\n",
       ".list-inline>li:not(:last-child)::after {content: \"\\00b7\"; padding: 0 .5ex}\n",
       "</style>\n",
       "<ol class=list-inline><li>42611</li><li>8661</li></ol>\n"
      ],
      "text/latex": [
       "\\begin{enumerate*}\n",
       "\\item 42611\n",
       "\\item 8661\n",
       "\\end{enumerate*}\n"
      ],
      "text/markdown": [
       "1. 42611\n",
       "2. 8661\n",
       "\n",
       "\n"
      ],
      "text/plain": [
       "[1] 42611  8661"
      ]
     },
     "metadata": {},
     "output_type": "display_data"
    },
    {
     "data": {
      "text/html": [
       "<style>\n",
       ".list-inline {list-style: none; margin:0; padding: 0}\n",
       ".list-inline>li {display: inline-block}\n",
       ".list-inline>li:not(:last-child)::after {content: \"\\00b7\"; padding: 0 .5ex}\n",
       "</style>\n",
       "<ol class=list-inline><li>42611</li><li>8661</li></ol>\n"
      ],
      "text/latex": [
       "\\begin{enumerate*}\n",
       "\\item 42611\n",
       "\\item 8661\n",
       "\\end{enumerate*}\n"
      ],
      "text/markdown": [
       "1. 42611\n",
       "2. 8661\n",
       "\n",
       "\n"
      ],
      "text/plain": [
       "[1] 42611  8661"
      ]
     },
     "metadata": {},
     "output_type": "display_data"
    }
   ],
   "source": [
    "toRemove <- colnames(ijc_eSet)[grepl('11ILO',ijc_eSet@phenoData@data$biospecimen_repository_sample_id)]\n",
    "toKeep   <- colnames(ijc_eSet)[!grepl('11ILO',ijc_eSet@phenoData@data$biospecimen_repository_sample_id)]\n",
    "\n",
    "ijc_eSet <- ijc_eSet[, toKeep]\n",
    "sjc_eSet <- ijc_eSet[, toKeep]\n",
    "\n",
    "dim(exprs(ijc_eSet))\n",
    "dim(exprs(sjc_eSet))"
   ]
  },
  {
   "cell_type": "markdown",
   "metadata": {},
   "source": [
    "# Remove exons in chromosome Y"
   ]
  },
  {
   "cell_type": "code",
   "execution_count": 8,
   "metadata": {},
   "outputs": [
    {
     "name": "stderr",
     "output_type": "stream",
     "text": [
      "not Y: 42484, Y: 127, total: 42611\n",
      "\n"
     ]
    }
   ],
   "source": [
    "not_Y <- length(rownames(ijc_eSet)[ ijc_eSet@featureData@data$chr != \"chrY\" ])\n",
    "Y     <- length(rownames(ijc_eSet)[ ijc_eSet@featureData@data$chr == \"chrY\" ])\n",
    "\n",
    "message( \"not Y: \",  not_Y, \", Y: \", Y,\", total: \", sum(not_Y + Y) )\n"
   ]
  },
  {
   "cell_type": "code",
   "execution_count": 9,
   "metadata": {},
   "outputs": [
    {
     "data": {
      "text/html": [
       "<style>\n",
       ".list-inline {list-style: none; margin:0; padding: 0}\n",
       ".list-inline>li {display: inline-block}\n",
       ".list-inline>li:not(:last-child)::after {content: \"\\00b7\"; padding: 0 .5ex}\n",
       "</style>\n",
       "<ol class=list-inline><li>42484</li><li>8661</li></ol>\n"
      ],
      "text/latex": [
       "\\begin{enumerate*}\n",
       "\\item 42484\n",
       "\\item 8661\n",
       "\\end{enumerate*}\n"
      ],
      "text/markdown": [
       "1. 42484\n",
       "2. 8661\n",
       "\n",
       "\n"
      ],
      "text/plain": [
       "[1] 42484  8661"
      ]
     },
     "metadata": {},
     "output_type": "display_data"
    },
    {
     "data": {
      "text/html": [
       "<style>\n",
       ".list-inline {list-style: none; margin:0; padding: 0}\n",
       ".list-inline>li {display: inline-block}\n",
       ".list-inline>li:not(:last-child)::after {content: \"\\00b7\"; padding: 0 .5ex}\n",
       "</style>\n",
       "<ol class=list-inline><li>42484</li><li>8661</li></ol>\n"
      ],
      "text/latex": [
       "\\begin{enumerate*}\n",
       "\\item 42484\n",
       "\\item 8661\n",
       "\\end{enumerate*}\n"
      ],
      "text/markdown": [
       "1. 42484\n",
       "2. 8661\n",
       "\n",
       "\n"
      ],
      "text/plain": [
       "[1] 42484  8661"
      ]
     },
     "metadata": {},
     "output_type": "display_data"
    }
   ],
   "source": [
    "toKeep   <- rownames(ijc_eSet)[ ijc_eSet@featureData@data$chr != \"chrY\" ]\n",
    "\n",
    "ijc_eSet <- ijc_eSet[toKeep, ]\n",
    "sjc_eSet <- ijc_eSet[toKeep, ]\n",
    "\n",
    "dim(exprs(ijc_eSet))\n",
    "dim(exprs(sjc_eSet))"
   ]
  },
  {
   "cell_type": "markdown",
   "metadata": {},
   "source": [
    "# Subset the `ExpressionSet` objects by tissue"
   ]
  },
  {
   "cell_type": "code",
   "execution_count": 10,
   "metadata": {},
   "outputs": [
    {
     "data": {
      "text/html": [
       "<style>\n",
       ".list-inline {list-style: none; margin:0; padding: 0}\n",
       ".list-inline>li {display: inline-block}\n",
       ".list-inline>li:not(:last-child)::after {content: \"\\00b7\"; padding: 0 .5ex}\n",
       "</style>\n",
       "<ol class=list-inline><li>'SRR821498'</li><li>'SRR808428'</li><li>'SRR808942'</li></ol>\n"
      ],
      "text/latex": [
       "\\begin{enumerate*}\n",
       "\\item 'SRR821498'\n",
       "\\item 'SRR808428'\n",
       "\\item 'SRR808942'\n",
       "\\end{enumerate*}\n"
      ],
      "text/markdown": [
       "1. 'SRR821498'\n",
       "2. 'SRR808428'\n",
       "3. 'SRR808942'\n",
       "\n",
       "\n"
      ],
      "text/plain": [
       "[1] \"SRR821498\" \"SRR808428\" \"SRR808942\""
      ]
     },
     "metadata": {},
     "output_type": "display_data"
    }
   ],
   "source": [
    "# Select tissue\n",
    "tissue <- \"Breast - Mammary Tissue\"\n",
    "tissue_sample_ids_ijc  <- colnames(ijc_eSet)[ijc_eSet@phenoData@data$body_site == tissue ] \n",
    "tissue_sample_ids_sjc  <- colnames(ijc_eSet)[ijc_eSet@phenoData@data$body_site == tissue ] \n",
    "\n",
    "# Sanity check even if ijc and sjc are supposed to have the same ids\n",
    "tissue_sample_ids      <- intersect(tissue_sample_ids_ijc, tissue_sample_ids_sjc)\n",
    "tissue_sample_ids[1:3]"
   ]
  },
  {
   "cell_type": "code",
   "execution_count": 11,
   "metadata": {},
   "outputs": [],
   "source": [
    "ijc_eSet_tissue <- ijc_eSet[, tissue_sample_ids]\n",
    "sjc_eSet_tissue <- ijc_eSet[, tissue_sample_ids]"
   ]
  },
  {
   "cell_type": "code",
   "execution_count": 12,
   "metadata": {},
   "outputs": [
    {
     "data": {
      "text/html": [
       "<style>\n",
       ".list-inline {list-style: none; margin:0; padding: 0}\n",
       ".list-inline>li {display: inline-block}\n",
       ".list-inline>li:not(:last-child)::after {content: \"\\00b7\"; padding: 0 .5ex}\n",
       "</style>\n",
       "<ol class=list-inline><li>42484</li><li>191</li></ol>\n"
      ],
      "text/latex": [
       "\\begin{enumerate*}\n",
       "\\item 42484\n",
       "\\item 191\n",
       "\\end{enumerate*}\n"
      ],
      "text/markdown": [
       "1. 42484\n",
       "2. 191\n",
       "\n",
       "\n"
      ],
      "text/plain": [
       "[1] 42484   191"
      ]
     },
     "metadata": {},
     "output_type": "display_data"
    },
    {
     "data": {
      "text/html": [
       "<style>\n",
       ".list-inline {list-style: none; margin:0; padding: 0}\n",
       ".list-inline>li {display: inline-block}\n",
       ".list-inline>li:not(:last-child)::after {content: \"\\00b7\"; padding: 0 .5ex}\n",
       "</style>\n",
       "<ol class=list-inline><li>42484</li><li>191</li></ol>\n"
      ],
      "text/latex": [
       "\\begin{enumerate*}\n",
       "\\item 42484\n",
       "\\item 191\n",
       "\\end{enumerate*}\n"
      ],
      "text/markdown": [
       "1. 42484\n",
       "2. 191\n",
       "\n",
       "\n"
      ],
      "text/plain": [
       "[1] 42484   191"
      ]
     },
     "metadata": {},
     "output_type": "display_data"
    }
   ],
   "source": [
    "dim(exprs(ijc_eSet_tissue))\n",
    "dim(exprs(sjc_eSet_tissue))"
   ]
  },
  {
   "cell_type": "markdown",
   "metadata": {},
   "source": [
    "## Synchronize metadata samples with ijc, sjc and inc samples\n",
    "\n",
    "Keep only the runs that are in the `ijc` count list (assuming `ijc` and `sjc` are the same).  As well, name the rows with the junction id column and then make the matrix just about the counts."
   ]
  },
  {
   "cell_type": "code",
   "execution_count": 13,
   "metadata": {},
   "outputs": [
    {
     "data": {
      "text/html": [
       "<style>\n",
       ".list-inline {list-style: none; margin:0; padding: 0}\n",
       ".list-inline>li {display: inline-block}\n",
       ".list-inline>li:not(:last-child)::after {content: \"\\00b7\"; padding: 0 .5ex}\n",
       "</style>\n",
       "<ol class=list-inline><li>42611</li><li>8674</li></ol>\n"
      ],
      "text/latex": [
       "\\begin{enumerate*}\n",
       "\\item 42611\n",
       "\\item 8674\n",
       "\\end{enumerate*}\n"
      ],
      "text/markdown": [
       "1. 42611\n",
       "2. 8674\n",
       "\n",
       "\n"
      ],
      "text/plain": [
       "[1] 42611  8674"
      ]
     },
     "metadata": {},
     "output_type": "display_data"
    },
    {
     "data": {
      "text/html": [
       "<style>\n",
       ".list-inline {list-style: none; margin:0; padding: 0}\n",
       ".list-inline>li {display: inline-block}\n",
       ".list-inline>li:not(:last-child)::after {content: \"\\00b7\"; padding: 0 .5ex}\n",
       "</style>\n",
       "<ol class=list-inline><li>42611</li><li>8674</li></ol>\n"
      ],
      "text/latex": [
       "\\begin{enumerate*}\n",
       "\\item 42611\n",
       "\\item 8674\n",
       "\\end{enumerate*}\n"
      ],
      "text/markdown": [
       "1. 42611\n",
       "2. 8674\n",
       "\n",
       "\n"
      ],
      "text/plain": [
       "[1] 42611  8674"
      ]
     },
     "metadata": {},
     "output_type": "display_data"
    },
    {
     "data": {
      "text/html": [
       "<style>\n",
       ".list-inline {list-style: none; margin:0; padding: 0}\n",
       ".list-inline>li {display: inline-block}\n",
       ".list-inline>li:not(:last-child)::after {content: \"\\00b7\"; padding: 0 .5ex}\n",
       "</style>\n",
       "<ol class=list-inline><li>42611</li><li>8674</li></ol>\n"
      ],
      "text/latex": [
       "\\begin{enumerate*}\n",
       "\\item 42611\n",
       "\\item 8674\n",
       "\\end{enumerate*}\n"
      ],
      "text/markdown": [
       "1. 42611\n",
       "2. 8674\n",
       "\n",
       "\n"
      ],
      "text/plain": [
       "[1] 42611  8674"
      ]
     },
     "metadata": {},
     "output_type": "display_data"
    },
    {
     "data": {
      "text/html": [
       "<style>\n",
       ".list-inline {list-style: none; margin:0; padding: 0}\n",
       ".list-inline>li {display: inline-block}\n",
       ".list-inline>li:not(:last-child)::after {content: \"\\00b7\"; padding: 0 .5ex}\n",
       "</style>\n",
       "<ol class=list-inline><li>9784</li><li>79</li></ol>\n"
      ],
      "text/latex": [
       "\\begin{enumerate*}\n",
       "\\item 9784\n",
       "\\item 79\n",
       "\\end{enumerate*}\n"
      ],
      "text/markdown": [
       "1. 9784\n",
       "2. 79\n",
       "\n",
       "\n"
      ],
      "text/plain": [
       "[1] 9784   79"
      ]
     },
     "metadata": {},
     "output_type": "display_data"
    },
    {
     "data": {
      "text/html": [
       "<style>\n",
       ".list-inline {list-style: none; margin:0; padding: 0}\n",
       ".list-inline>li {display: inline-block}\n",
       ".list-inline>li:not(:last-child)::after {content: \"\\00b7\"; padding: 0 .5ex}\n",
       "</style>\n",
       "<ol class=list-inline><li>42611</li><li>11</li></ol>\n"
      ],
      "text/latex": [
       "\\begin{enumerate*}\n",
       "\\item 42611\n",
       "\\item 11\n",
       "\\end{enumerate*}\n"
      ],
      "text/markdown": [
       "1. 42611\n",
       "2. 11\n",
       "\n",
       "\n"
      ],
      "text/plain": [
       "[1] 42611    11"
      ]
     },
     "metadata": {},
     "output_type": "display_data"
    }
   ],
   "source": [
    "#dimensions before we make the changes.\n",
    "dim(ijc.iso.counts.mem)\n",
    "dim(sjc.iso.counts.mem)\n",
    "dim(inc.iso.counts.mem)\n",
    "dim(meta.data)\n",
    "dim(fromGTF.SE)"
   ]
  },
  {
   "cell_type": "code",
   "execution_count": 14,
   "metadata": {},
   "outputs": [
    {
     "data": {
      "text/plain": [
       "keep.meta.data\n",
       "FALSE  TRUE \n",
       " 1111  8673 "
      ]
     },
     "metadata": {},
     "output_type": "display_data"
    }
   ],
   "source": [
    "# the sample names are in the columns of both the ijc and the sjc matrices, these matrices have the identical column order)\n",
    "keep.meta.data <- meta.data$Run %in% colnames(ijc.iso.counts.mem)\n",
    "table(keep.meta.data)\n",
    "reduced.meta.data <- meta.data[keep.meta.data==TRUE,]"
   ]
  },
  {
   "cell_type": "markdown",
   "metadata": {},
   "source": [
    "## Construct the ijc, sjc and inc as data matrices\n",
    "The Junction ID is encoded in the first column of the matrix.  We need to both preserve it (and it is unique) as well as remove it so we may do our calculations."
   ]
  },
  {
   "cell_type": "code",
   "execution_count": 15,
   "metadata": {},
   "outputs": [
    {
     "data": {
      "text/html": [
       "<style>\n",
       ".list-inline {list-style: none; margin:0; padding: 0}\n",
       ".list-inline>li {display: inline-block}\n",
       ".list-inline>li:not(:last-child)::after {content: \"\\00b7\"; padding: 0 .5ex}\n",
       "</style>\n",
       "<ol class=list-inline><li>42611</li><li>8673</li></ol>\n"
      ],
      "text/latex": [
       "\\begin{enumerate*}\n",
       "\\item 42611\n",
       "\\item 8673\n",
       "\\end{enumerate*}\n"
      ],
      "text/markdown": [
       "1. 42611\n",
       "2. 8673\n",
       "\n",
       "\n"
      ],
      "text/plain": [
       "[1] 42611  8673"
      ]
     },
     "metadata": {},
     "output_type": "display_data"
    },
    {
     "data": {
      "text/html": [
       "<style>\n",
       ".list-inline {list-style: none; margin:0; padding: 0}\n",
       ".list-inline>li {display: inline-block}\n",
       ".list-inline>li:not(:last-child)::after {content: \"\\00b7\"; padding: 0 .5ex}\n",
       "</style>\n",
       "<ol class=list-inline><li>42611</li><li>8673</li></ol>\n"
      ],
      "text/latex": [
       "\\begin{enumerate*}\n",
       "\\item 42611\n",
       "\\item 8673\n",
       "\\end{enumerate*}\n"
      ],
      "text/markdown": [
       "1. 42611\n",
       "2. 8673\n",
       "\n",
       "\n"
      ],
      "text/plain": [
       "[1] 42611  8673"
      ]
     },
     "metadata": {},
     "output_type": "display_data"
    },
    {
     "data": {
      "text/html": [
       "<style>\n",
       ".list-inline {list-style: none; margin:0; padding: 0}\n",
       ".list-inline>li {display: inline-block}\n",
       ".list-inline>li:not(:last-child)::after {content: \"\\00b7\"; padding: 0 .5ex}\n",
       "</style>\n",
       "<ol class=list-inline><li>42611</li><li>8673</li></ol>\n"
      ],
      "text/latex": [
       "\\begin{enumerate*}\n",
       "\\item 42611\n",
       "\\item 8673\n",
       "\\end{enumerate*}\n"
      ],
      "text/markdown": [
       "1. 42611\n",
       "2. 8673\n",
       "\n",
       "\n"
      ],
      "text/plain": [
       "[1] 42611  8673"
      ]
     },
     "metadata": {},
     "output_type": "display_data"
    },
    {
     "data": {
      "text/html": [
       "<style>\n",
       ".list-inline {list-style: none; margin:0; padding: 0}\n",
       ".list-inline>li {display: inline-block}\n",
       ".list-inline>li:not(:last-child)::after {content: \"\\00b7\"; padding: 0 .5ex}\n",
       "</style>\n",
       "<ol class=list-inline><li>8673</li><li>79</li></ol>\n"
      ],
      "text/latex": [
       "\\begin{enumerate*}\n",
       "\\item 8673\n",
       "\\item 79\n",
       "\\end{enumerate*}\n"
      ],
      "text/markdown": [
       "1. 8673\n",
       "2. 79\n",
       "\n",
       "\n"
      ],
      "text/plain": [
       "[1] 8673   79"
      ]
     },
     "metadata": {},
     "output_type": "display_data"
    }
   ],
   "source": [
    "# preserve junction id as rowname\n",
    "rownames(ijc.iso.counts.mem) <- ijc.iso.counts.mem$ID\n",
    "rownames(sjc.iso.counts.mem) <- sjc.iso.counts.mem$ID\n",
    "rownames(inc.iso.counts.mem) <- inc.iso.counts.mem$ID\n",
    "\n",
    "# and remove the id to have a data matrix\n",
    "ijc.iso.counts.mem  <- ijc.iso.counts.mem[,-1]\n",
    "sjc.iso.counts.mem  <- sjc.iso.counts.mem[,-1]\n",
    "inc.iso.counts.mem  <- inc.iso.counts.mem[,-1]\n",
    "dim(ijc.iso.counts.mem)\n",
    "dim(sjc.iso.counts.mem)\n",
    "dim(inc.iso.counts.mem)\n",
    "dim(reduced.meta.data)"
   ]
  },
  {
   "cell_type": "markdown",
   "metadata": {},
   "source": [
    "## Order ijc and sjc columns in the same order as the metadata Run order\n",
    "\n",
    "Using tibble library, we can rearrange the columns as the column name.  "
   ]
  },
  {
   "cell_type": "code",
   "execution_count": 16,
   "metadata": {},
   "outputs": [],
   "source": [
    "meta.data.run.names  <- as.character(reduced.meta.data$Run)\n",
    "ijc.iso.counts.mem2  <- as_tibble(ijc.iso.counts.mem)\n",
    "sjc.iso.counts.mem2  <- as_tibble(sjc.iso.counts.mem)\n",
    "inc.iso.counts.mem2  <- as_tibble(inc.iso.counts.mem)\n",
    "\n",
    "ijc.iso.counts.mem2  <- ijc.iso.counts.mem2[,c(meta.data.run.names)]\n",
    "sjc.iso.counts.mem2  <- sjc.iso.counts.mem2[,c(meta.data.run.names)]\n",
    "inc.iso.counts.mem2  <- inc.iso.counts.mem2[,c(meta.data.run.names)]"
   ]
  },
  {
   "cell_type": "code",
   "execution_count": 17,
   "metadata": {},
   "outputs": [
    {
     "data": {
      "text/html": [
       "<style>\n",
       ".list-inline {list-style: none; margin:0; padding: 0}\n",
       ".list-inline>li {display: inline-block}\n",
       ".list-inline>li:not(:last-child)::after {content: \"\\00b7\"; padding: 0 .5ex}\n",
       "</style>\n",
       "<ol class=list-inline><li>42611</li><li>8673</li></ol>\n"
      ],
      "text/latex": [
       "\\begin{enumerate*}\n",
       "\\item 42611\n",
       "\\item 8673\n",
       "\\end{enumerate*}\n"
      ],
      "text/markdown": [
       "1. 42611\n",
       "2. 8673\n",
       "\n",
       "\n"
      ],
      "text/plain": [
       "[1] 42611  8673"
      ]
     },
     "metadata": {},
     "output_type": "display_data"
    },
    {
     "data": {
      "text/html": [
       "<style>\n",
       ".list-inline {list-style: none; margin:0; padding: 0}\n",
       ".list-inline>li {display: inline-block}\n",
       ".list-inline>li:not(:last-child)::after {content: \"\\00b7\"; padding: 0 .5ex}\n",
       "</style>\n",
       "<ol class=list-inline><li>42611</li><li>8673</li></ol>\n"
      ],
      "text/latex": [
       "\\begin{enumerate*}\n",
       "\\item 42611\n",
       "\\item 8673\n",
       "\\end{enumerate*}\n"
      ],
      "text/markdown": [
       "1. 42611\n",
       "2. 8673\n",
       "\n",
       "\n"
      ],
      "text/plain": [
       "[1] 42611  8673"
      ]
     },
     "metadata": {},
     "output_type": "display_data"
    },
    {
     "data": {
      "text/html": [
       "<style>\n",
       ".list-inline {list-style: none; margin:0; padding: 0}\n",
       ".list-inline>li {display: inline-block}\n",
       ".list-inline>li:not(:last-child)::after {content: \"\\00b7\"; padding: 0 .5ex}\n",
       "</style>\n",
       "<ol class=list-inline><li>42611</li><li>8673</li></ol>\n"
      ],
      "text/latex": [
       "\\begin{enumerate*}\n",
       "\\item 42611\n",
       "\\item 8673\n",
       "\\end{enumerate*}\n"
      ],
      "text/markdown": [
       "1. 42611\n",
       "2. 8673\n",
       "\n",
       "\n"
      ],
      "text/plain": [
       "[1] 42611  8673"
      ]
     },
     "metadata": {},
     "output_type": "display_data"
    }
   ],
   "source": [
    "dim(ijc.iso.counts.mem2)\n",
    "dim(sjc.iso.counts.mem2)\n",
    "dim(inc.iso.counts.mem2)"
   ]
  },
  {
   "cell_type": "markdown",
   "metadata": {},
   "source": [
    "Remove samples that match '11IL0' from the ijc, sjc and metadata files"
   ]
  },
  {
   "cell_type": "code",
   "execution_count": 18,
   "metadata": {},
   "outputs": [
    {
     "data": {
      "text/html": [
       "8673"
      ],
      "text/latex": [
       "8673"
      ],
      "text/markdown": [
       "8673"
      ],
      "text/plain": [
       "[1] 8673"
      ]
     },
     "metadata": {},
     "output_type": "display_data"
    }
   ],
   "source": [
    "keep.meta.data <- (!grepl('11ILO', reduced.meta.data$biospecimen_repository_sample_id))\n",
    "length(reduced.meta.data$Sample.Name)"
   ]
  },
  {
   "cell_type": "code",
   "execution_count": 19,
   "metadata": {},
   "outputs": [
    {
     "data": {
      "text/plain": [
       "keep.meta.data\n",
       "FALSE  TRUE \n",
       "   12  8661 "
      ]
     },
     "metadata": {},
     "output_type": "display_data"
    },
    {
     "data": {
      "text/html": [
       "<style>\n",
       ".list-inline {list-style: none; margin:0; padding: 0}\n",
       ".list-inline>li {display: inline-block}\n",
       ".list-inline>li:not(:last-child)::after {content: \"\\00b7\"; padding: 0 .5ex}\n",
       "</style>\n",
       "<ol class=list-inline><li>42611</li><li>8661</li></ol>\n"
      ],
      "text/latex": [
       "\\begin{enumerate*}\n",
       "\\item 42611\n",
       "\\item 8661\n",
       "\\end{enumerate*}\n"
      ],
      "text/markdown": [
       "1. 42611\n",
       "2. 8661\n",
       "\n",
       "\n"
      ],
      "text/plain": [
       "[1] 42611  8661"
      ]
     },
     "metadata": {},
     "output_type": "display_data"
    },
    {
     "data": {
      "text/html": [
       "<style>\n",
       ".list-inline {list-style: none; margin:0; padding: 0}\n",
       ".list-inline>li {display: inline-block}\n",
       ".list-inline>li:not(:last-child)::after {content: \"\\00b7\"; padding: 0 .5ex}\n",
       "</style>\n",
       "<ol class=list-inline><li>42611</li><li>8661</li></ol>\n"
      ],
      "text/latex": [
       "\\begin{enumerate*}\n",
       "\\item 42611\n",
       "\\item 8661\n",
       "\\end{enumerate*}\n"
      ],
      "text/markdown": [
       "1. 42611\n",
       "2. 8661\n",
       "\n",
       "\n"
      ],
      "text/plain": [
       "[1] 42611  8661"
      ]
     },
     "metadata": {},
     "output_type": "display_data"
    },
    {
     "data": {
      "text/html": [
       "<style>\n",
       ".list-inline {list-style: none; margin:0; padding: 0}\n",
       ".list-inline>li {display: inline-block}\n",
       ".list-inline>li:not(:last-child)::after {content: \"\\00b7\"; padding: 0 .5ex}\n",
       "</style>\n",
       "<ol class=list-inline><li>42611</li><li>8661</li></ol>\n"
      ],
      "text/latex": [
       "\\begin{enumerate*}\n",
       "\\item 42611\n",
       "\\item 8661\n",
       "\\end{enumerate*}\n"
      ],
      "text/markdown": [
       "1. 42611\n",
       "2. 8661\n",
       "\n",
       "\n"
      ],
      "text/plain": [
       "[1] 42611  8661"
      ]
     },
     "metadata": {},
     "output_type": "display_data"
    }
   ],
   "source": [
    "keep.meta.data <- (!grepl('11ILO',reduced.meta.data$Sample.Name))\n",
    "table(keep.meta.data)\n",
    "ijc.iso.counts.mem2 <-ijc.iso.counts.mem2 [                    ,keep.meta.data==TRUE]\n",
    "sjc.iso.counts.mem2 <-sjc.iso.counts.mem2 [                    ,keep.meta.data==TRUE]\n",
    "inc.iso.counts.mem2 <-inc.iso.counts.mem2 [                    ,keep.meta.data==TRUE]\n",
    "reduced.meta.data   <-reduced.meta.data   [keep.meta.data==TRUE,                    ]\n",
    "dim(ijc.iso.counts.mem2)\n",
    "dim(sjc.iso.counts.mem2)\n",
    "dim(inc.iso.counts.mem2)"
   ]
  },
  {
   "cell_type": "markdown",
   "metadata": {},
   "source": [
    "### and focus on a single tissue\n",
    "\n",
    "this will become a function so we can proceed on all the tissues"
   ]
  },
  {
   "cell_type": "code",
   "execution_count": 20,
   "metadata": {},
   "outputs": [
    {
     "data": {
      "text/plain": [
       "tissue\n",
       "FALSE  TRUE \n",
       " 8470   191 "
      ]
     },
     "metadata": {},
     "output_type": "display_data"
    },
    {
     "data": {
      "text/html": [
       "<style>\n",
       ".list-inline {list-style: none; margin:0; padding: 0}\n",
       ".list-inline>li {display: inline-block}\n",
       ".list-inline>li:not(:last-child)::after {content: \"\\00b7\"; padding: 0 .5ex}\n",
       "</style>\n",
       "<ol class=list-inline><li>42611</li><li>191</li></ol>\n"
      ],
      "text/latex": [
       "\\begin{enumerate*}\n",
       "\\item 42611\n",
       "\\item 191\n",
       "\\end{enumerate*}\n"
      ],
      "text/markdown": [
       "1. 42611\n",
       "2. 191\n",
       "\n",
       "\n"
      ],
      "text/plain": [
       "[1] 42611   191"
      ]
     },
     "metadata": {},
     "output_type": "display_data"
    },
    {
     "data": {
      "text/html": [
       "<style>\n",
       ".list-inline {list-style: none; margin:0; padding: 0}\n",
       ".list-inline>li {display: inline-block}\n",
       ".list-inline>li:not(:last-child)::after {content: \"\\00b7\"; padding: 0 .5ex}\n",
       "</style>\n",
       "<ol class=list-inline><li>42611</li><li>191</li></ol>\n"
      ],
      "text/latex": [
       "\\begin{enumerate*}\n",
       "\\item 42611\n",
       "\\item 191\n",
       "\\end{enumerate*}\n"
      ],
      "text/markdown": [
       "1. 42611\n",
       "2. 191\n",
       "\n",
       "\n"
      ],
      "text/plain": [
       "[1] 42611   191"
      ]
     },
     "metadata": {},
     "output_type": "display_data"
    },
    {
     "data": {
      "text/html": [
       "<style>\n",
       ".list-inline {list-style: none; margin:0; padding: 0}\n",
       ".list-inline>li {display: inline-block}\n",
       ".list-inline>li:not(:last-child)::after {content: \"\\00b7\"; padding: 0 .5ex}\n",
       "</style>\n",
       "<ol class=list-inline><li>42611</li><li>191</li></ol>\n"
      ],
      "text/latex": [
       "\\begin{enumerate*}\n",
       "\\item 42611\n",
       "\\item 191\n",
       "\\end{enumerate*}\n"
      ],
      "text/markdown": [
       "1. 42611\n",
       "2. 191\n",
       "\n",
       "\n"
      ],
      "text/plain": [
       "[1] 42611   191"
      ]
     },
     "metadata": {},
     "output_type": "display_data"
    }
   ],
   "source": [
    "tissue <- reduced.meta.data$body_site %in% 'Breast - Mammary Tissue'\n",
    "table(tissue)\n",
    "\n",
    "ijc.iso.counts.mem2 <-ijc.iso.counts.mem2 [                    ,tissue==TRUE]\n",
    "sjc.iso.counts.mem2 <-sjc.iso.counts.mem2 [                    ,tissue==TRUE]\n",
    "inc.iso.counts.mem2 <-inc.iso.counts.mem2 [                    ,tissue==TRUE]\n",
    "reduced.meta.data   <-reduced.meta.data   [tissue==TRUE,                    ]\n",
    "dim(ijc.iso.counts.mem2)\n",
    "dim(sjc.iso.counts.mem2)\n",
    "dim(inc.iso.counts.mem2)\n"
   ]
  },
  {
   "cell_type": "markdown",
   "metadata": {},
   "source": [
    "### exploration of the details\n",
    "\n",
    "For each sample, we have ijc and sjc count data and demographics of gender.\n",
    "Our question is regarding the sex biased differences.\n",
    "For each junction we have 8,000 samples with these count data.   The way to think about the model is that we have in fact for all of these junctions, these are our co-variates in this global transcriptomic model. \n",
    "For exon skipping events (SE), we have 42,611 non-zero junction IDs the (first dimension of the ijc and sjc cout table) for the skipped exon event for breast-Mammary Tissue, 191 individuals.  These are healthy individuals, and we are studying the impact of sex on the occurrence or non-occurance of specific alternative splicing events.   We explore the information we ahve about these junctions and create a construct, as_event, which accounts for the junction under exploration."
   ]
  },
  {
   "cell_type": "code",
   "execution_count": 21,
   "metadata": {},
   "outputs": [],
   "source": [
    "ijc      <- as.data.frame(ijc.iso.counts.mem2)\n",
    "sjc      <- as.data.frame(sjc.iso.counts.mem2)\n",
    "ijc      <- data.matrix(ijc)\n",
    "sjc      <- data.matrix(sjc)"
   ]
  },
  {
   "cell_type": "markdown",
   "metadata": {},
   "source": [
    "## Exploring the ijc and sjc Count data \n",
    "\n",
    "We have two counts that are in many ways two sides of the same coin.  Both our the observational output and we wish to see how robust each are in their ability to separate out the samples to provide for us differentially expressed isoform events as measured by their counts.   Each junction is in a manner a specific marker to specific isoform events that may or may not be shared between the genders.   If there is significant results, then this is indicative of the separation achieved by isoform specific differentiation.   In our model we will use these in combination, it is important to see if they will yield the results we are looking for.\n",
    "\n",
    "### IJC\n",
    "\n",
    "Exon included junction counts -- duplicate correlation is actually 2 (there are 2 exons for each included exon) the results provide robust separation up until around 550.  Also important to filter low expression counts"
   ]
  },
  {
   "cell_type": "code",
   "execution_count": 22,
   "metadata": {},
   "outputs": [
    {
     "data": {
      "text/html": [
       "'factor'"
      ],
      "text/latex": [
       "'factor'"
      ],
      "text/markdown": [
       "'factor'"
      ],
      "text/plain": [
       "[1] \"factor\""
      ]
     },
     "metadata": {},
     "output_type": "display_data"
    },
    {
     "data": {
      "text/html": [
       "<style>\n",
       ".list-inline {list-style: none; margin:0; padding: 0}\n",
       ".list-inline>li {display: inline-block}\n",
       ".list-inline>li:not(:last-child)::after {content: \"\\00b7\"; padding: 0 .5ex}\n",
       "</style>\n",
       "<ol class=list-inline><li>'male'</li><li>'female'</li></ol>\n"
      ],
      "text/latex": [
       "\\begin{enumerate*}\n",
       "\\item 'male'\n",
       "\\item 'female'\n",
       "\\end{enumerate*}\n"
      ],
      "text/markdown": [
       "1. 'male'\n",
       "2. 'female'\n",
       "\n",
       "\n"
      ],
      "text/plain": [
       "[1] \"male\"   \"female\""
      ]
     },
     "metadata": {},
     "output_type": "display_data"
    },
    {
     "data": {
      "text/html": [
       "<table>\n",
       "<caption>A matrix: 191 × 2 of type dbl</caption>\n",
       "<thead>\n",
       "\t<tr><th></th><th scope=col>(Intercept)</th><th scope=col>ijc_eSet_tissue@phenoData@data$sexfemale</th></tr>\n",
       "</thead>\n",
       "<tbody>\n",
       "\t<tr><th scope=row>1</th><td>1</td><td>1</td></tr>\n",
       "\t<tr><th scope=row>2</th><td>1</td><td>1</td></tr>\n",
       "\t<tr><th scope=row>3</th><td>1</td><td>1</td></tr>\n",
       "\t<tr><th scope=row>4</th><td>1</td><td>1</td></tr>\n",
       "\t<tr><th scope=row>5</th><td>1</td><td>0</td></tr>\n",
       "\t<tr><th scope=row>6</th><td>1</td><td>0</td></tr>\n",
       "\t<tr><th scope=row>7</th><td>1</td><td>1</td></tr>\n",
       "\t<tr><th scope=row>8</th><td>1</td><td>1</td></tr>\n",
       "\t<tr><th scope=row>9</th><td>1</td><td>1</td></tr>\n",
       "\t<tr><th scope=row>10</th><td>1</td><td>1</td></tr>\n",
       "\t<tr><th scope=row>11</th><td>1</td><td>1</td></tr>\n",
       "\t<tr><th scope=row>12</th><td>1</td><td>1</td></tr>\n",
       "\t<tr><th scope=row>13</th><td>1</td><td>1</td></tr>\n",
       "\t<tr><th scope=row>14</th><td>1</td><td>1</td></tr>\n",
       "\t<tr><th scope=row>15</th><td>1</td><td>1</td></tr>\n",
       "\t<tr><th scope=row>16</th><td>1</td><td>1</td></tr>\n",
       "\t<tr><th scope=row>17</th><td>1</td><td>0</td></tr>\n",
       "\t<tr><th scope=row>18</th><td>1</td><td>0</td></tr>\n",
       "\t<tr><th scope=row>19</th><td>1</td><td>1</td></tr>\n",
       "\t<tr><th scope=row>20</th><td>1</td><td>0</td></tr>\n",
       "\t<tr><th scope=row>21</th><td>1</td><td>0</td></tr>\n",
       "\t<tr><th scope=row>22</th><td>1</td><td>1</td></tr>\n",
       "\t<tr><th scope=row>23</th><td>1</td><td>0</td></tr>\n",
       "\t<tr><th scope=row>24</th><td>1</td><td>1</td></tr>\n",
       "\t<tr><th scope=row>25</th><td>1</td><td>1</td></tr>\n",
       "\t<tr><th scope=row>26</th><td>1</td><td>0</td></tr>\n",
       "\t<tr><th scope=row>27</th><td>1</td><td>1</td></tr>\n",
       "\t<tr><th scope=row>28</th><td>1</td><td>0</td></tr>\n",
       "\t<tr><th scope=row>29</th><td>1</td><td>1</td></tr>\n",
       "\t<tr><th scope=row>30</th><td>1</td><td>1</td></tr>\n",
       "\t<tr><th scope=row>⋮</th><td>⋮</td><td>⋮</td></tr>\n",
       "\t<tr><th scope=row>162</th><td>1</td><td>0</td></tr>\n",
       "\t<tr><th scope=row>163</th><td>1</td><td>0</td></tr>\n",
       "\t<tr><th scope=row>164</th><td>1</td><td>1</td></tr>\n",
       "\t<tr><th scope=row>165</th><td>1</td><td>0</td></tr>\n",
       "\t<tr><th scope=row>166</th><td>1</td><td>0</td></tr>\n",
       "\t<tr><th scope=row>167</th><td>1</td><td>1</td></tr>\n",
       "\t<tr><th scope=row>168</th><td>1</td><td>1</td></tr>\n",
       "\t<tr><th scope=row>169</th><td>1</td><td>1</td></tr>\n",
       "\t<tr><th scope=row>170</th><td>1</td><td>0</td></tr>\n",
       "\t<tr><th scope=row>171</th><td>1</td><td>0</td></tr>\n",
       "\t<tr><th scope=row>172</th><td>1</td><td>1</td></tr>\n",
       "\t<tr><th scope=row>173</th><td>1</td><td>0</td></tr>\n",
       "\t<tr><th scope=row>174</th><td>1</td><td>0</td></tr>\n",
       "\t<tr><th scope=row>175</th><td>1</td><td>1</td></tr>\n",
       "\t<tr><th scope=row>176</th><td>1</td><td>0</td></tr>\n",
       "\t<tr><th scope=row>177</th><td>1</td><td>1</td></tr>\n",
       "\t<tr><th scope=row>178</th><td>1</td><td>0</td></tr>\n",
       "\t<tr><th scope=row>179</th><td>1</td><td>0</td></tr>\n",
       "\t<tr><th scope=row>180</th><td>1</td><td>0</td></tr>\n",
       "\t<tr><th scope=row>181</th><td>1</td><td>1</td></tr>\n",
       "\t<tr><th scope=row>182</th><td>1</td><td>0</td></tr>\n",
       "\t<tr><th scope=row>183</th><td>1</td><td>1</td></tr>\n",
       "\t<tr><th scope=row>184</th><td>1</td><td>0</td></tr>\n",
       "\t<tr><th scope=row>185</th><td>1</td><td>0</td></tr>\n",
       "\t<tr><th scope=row>186</th><td>1</td><td>0</td></tr>\n",
       "\t<tr><th scope=row>187</th><td>1</td><td>1</td></tr>\n",
       "\t<tr><th scope=row>188</th><td>1</td><td>0</td></tr>\n",
       "\t<tr><th scope=row>189</th><td>1</td><td>0</td></tr>\n",
       "\t<tr><th scope=row>190</th><td>1</td><td>0</td></tr>\n",
       "\t<tr><th scope=row>191</th><td>1</td><td>0</td></tr>\n",
       "</tbody>\n",
       "</table>\n"
      ],
      "text/latex": [
       "A matrix: 191 × 2 of type dbl\n",
       "\\begin{tabular}{r|ll}\n",
       "  & (Intercept) & ijc\\_eSet\\_tissue@phenoData@data\\$sexfemale\\\\\n",
       "\\hline\n",
       "\t1 & 1 & 1\\\\\n",
       "\t2 & 1 & 1\\\\\n",
       "\t3 & 1 & 1\\\\\n",
       "\t4 & 1 & 1\\\\\n",
       "\t5 & 1 & 0\\\\\n",
       "\t6 & 1 & 0\\\\\n",
       "\t7 & 1 & 1\\\\\n",
       "\t8 & 1 & 1\\\\\n",
       "\t9 & 1 & 1\\\\\n",
       "\t10 & 1 & 1\\\\\n",
       "\t11 & 1 & 1\\\\\n",
       "\t12 & 1 & 1\\\\\n",
       "\t13 & 1 & 1\\\\\n",
       "\t14 & 1 & 1\\\\\n",
       "\t15 & 1 & 1\\\\\n",
       "\t16 & 1 & 1\\\\\n",
       "\t17 & 1 & 0\\\\\n",
       "\t18 & 1 & 0\\\\\n",
       "\t19 & 1 & 1\\\\\n",
       "\t20 & 1 & 0\\\\\n",
       "\t21 & 1 & 0\\\\\n",
       "\t22 & 1 & 1\\\\\n",
       "\t23 & 1 & 0\\\\\n",
       "\t24 & 1 & 1\\\\\n",
       "\t25 & 1 & 1\\\\\n",
       "\t26 & 1 & 0\\\\\n",
       "\t27 & 1 & 1\\\\\n",
       "\t28 & 1 & 0\\\\\n",
       "\t29 & 1 & 1\\\\\n",
       "\t30 & 1 & 1\\\\\n",
       "\t⋮ & ⋮ & ⋮\\\\\n",
       "\t162 & 1 & 0\\\\\n",
       "\t163 & 1 & 0\\\\\n",
       "\t164 & 1 & 1\\\\\n",
       "\t165 & 1 & 0\\\\\n",
       "\t166 & 1 & 0\\\\\n",
       "\t167 & 1 & 1\\\\\n",
       "\t168 & 1 & 1\\\\\n",
       "\t169 & 1 & 1\\\\\n",
       "\t170 & 1 & 0\\\\\n",
       "\t171 & 1 & 0\\\\\n",
       "\t172 & 1 & 1\\\\\n",
       "\t173 & 1 & 0\\\\\n",
       "\t174 & 1 & 0\\\\\n",
       "\t175 & 1 & 1\\\\\n",
       "\t176 & 1 & 0\\\\\n",
       "\t177 & 1 & 1\\\\\n",
       "\t178 & 1 & 0\\\\\n",
       "\t179 & 1 & 0\\\\\n",
       "\t180 & 1 & 0\\\\\n",
       "\t181 & 1 & 1\\\\\n",
       "\t182 & 1 & 0\\\\\n",
       "\t183 & 1 & 1\\\\\n",
       "\t184 & 1 & 0\\\\\n",
       "\t185 & 1 & 0\\\\\n",
       "\t186 & 1 & 0\\\\\n",
       "\t187 & 1 & 1\\\\\n",
       "\t188 & 1 & 0\\\\\n",
       "\t189 & 1 & 0\\\\\n",
       "\t190 & 1 & 0\\\\\n",
       "\t191 & 1 & 0\\\\\n",
       "\\end{tabular}\n"
      ],
      "text/markdown": [
       "\n",
       "A matrix: 191 × 2 of type dbl\n",
       "\n",
       "| <!--/--> | (Intercept) | ijc_eSet_tissue@phenoData@data$sexfemale |\n",
       "|---|---|---|\n",
       "| 1 | 1 | 1 |\n",
       "| 2 | 1 | 1 |\n",
       "| 3 | 1 | 1 |\n",
       "| 4 | 1 | 1 |\n",
       "| 5 | 1 | 0 |\n",
       "| 6 | 1 | 0 |\n",
       "| 7 | 1 | 1 |\n",
       "| 8 | 1 | 1 |\n",
       "| 9 | 1 | 1 |\n",
       "| 10 | 1 | 1 |\n",
       "| 11 | 1 | 1 |\n",
       "| 12 | 1 | 1 |\n",
       "| 13 | 1 | 1 |\n",
       "| 14 | 1 | 1 |\n",
       "| 15 | 1 | 1 |\n",
       "| 16 | 1 | 1 |\n",
       "| 17 | 1 | 0 |\n",
       "| 18 | 1 | 0 |\n",
       "| 19 | 1 | 1 |\n",
       "| 20 | 1 | 0 |\n",
       "| 21 | 1 | 0 |\n",
       "| 22 | 1 | 1 |\n",
       "| 23 | 1 | 0 |\n",
       "| 24 | 1 | 1 |\n",
       "| 25 | 1 | 1 |\n",
       "| 26 | 1 | 0 |\n",
       "| 27 | 1 | 1 |\n",
       "| 28 | 1 | 0 |\n",
       "| 29 | 1 | 1 |\n",
       "| 30 | 1 | 1 |\n",
       "| ⋮ | ⋮ | ⋮ |\n",
       "| 162 | 1 | 0 |\n",
       "| 163 | 1 | 0 |\n",
       "| 164 | 1 | 1 |\n",
       "| 165 | 1 | 0 |\n",
       "| 166 | 1 | 0 |\n",
       "| 167 | 1 | 1 |\n",
       "| 168 | 1 | 1 |\n",
       "| 169 | 1 | 1 |\n",
       "| 170 | 1 | 0 |\n",
       "| 171 | 1 | 0 |\n",
       "| 172 | 1 | 1 |\n",
       "| 173 | 1 | 0 |\n",
       "| 174 | 1 | 0 |\n",
       "| 175 | 1 | 1 |\n",
       "| 176 | 1 | 0 |\n",
       "| 177 | 1 | 1 |\n",
       "| 178 | 1 | 0 |\n",
       "| 179 | 1 | 0 |\n",
       "| 180 | 1 | 0 |\n",
       "| 181 | 1 | 1 |\n",
       "| 182 | 1 | 0 |\n",
       "| 183 | 1 | 1 |\n",
       "| 184 | 1 | 0 |\n",
       "| 185 | 1 | 0 |\n",
       "| 186 | 1 | 0 |\n",
       "| 187 | 1 | 1 |\n",
       "| 188 | 1 | 0 |\n",
       "| 189 | 1 | 0 |\n",
       "| 190 | 1 | 0 |\n",
       "| 191 | 1 | 0 |\n",
       "\n"
      ],
      "text/plain": [
       "    (Intercept) ijc_eSet_tissue@phenoData@data$sexfemale\n",
       "1   1           1                                       \n",
       "2   1           1                                       \n",
       "3   1           1                                       \n",
       "4   1           1                                       \n",
       "5   1           0                                       \n",
       "6   1           0                                       \n",
       "7   1           1                                       \n",
       "8   1           1                                       \n",
       "9   1           1                                       \n",
       "10  1           1                                       \n",
       "11  1           1                                       \n",
       "12  1           1                                       \n",
       "13  1           1                                       \n",
       "14  1           1                                       \n",
       "15  1           1                                       \n",
       "16  1           1                                       \n",
       "17  1           0                                       \n",
       "18  1           0                                       \n",
       "19  1           1                                       \n",
       "20  1           0                                       \n",
       "21  1           0                                       \n",
       "22  1           1                                       \n",
       "23  1           0                                       \n",
       "24  1           1                                       \n",
       "25  1           1                                       \n",
       "26  1           0                                       \n",
       "27  1           1                                       \n",
       "28  1           0                                       \n",
       "29  1           1                                       \n",
       "30  1           1                                       \n",
       "⋮   ⋮           ⋮                                       \n",
       "162 1           0                                       \n",
       "163 1           0                                       \n",
       "164 1           1                                       \n",
       "165 1           0                                       \n",
       "166 1           0                                       \n",
       "167 1           1                                       \n",
       "168 1           1                                       \n",
       "169 1           1                                       \n",
       "170 1           0                                       \n",
       "171 1           0                                       \n",
       "172 1           1                                       \n",
       "173 1           0                                       \n",
       "174 1           0                                       \n",
       "175 1           1                                       \n",
       "176 1           0                                       \n",
       "177 1           1                                       \n",
       "178 1           0                                       \n",
       "179 1           0                                       \n",
       "180 1           0                                       \n",
       "181 1           1                                       \n",
       "182 1           0                                       \n",
       "183 1           1                                       \n",
       "184 1           0                                       \n",
       "185 1           0                                       \n",
       "186 1           0                                       \n",
       "187 1           1                                       \n",
       "188 1           0                                       \n",
       "189 1           0                                       \n",
       "190 1           0                                       \n",
       "191 1           0                                       "
      ]
     },
     "metadata": {},
     "output_type": "display_data"
    }
   ],
   "source": [
    "ijc_eSet_tissue@phenoData@data$sex <- factor(ijc_eSet_tissue@phenoData@data$sex, levels=c('male','female'))\n",
    "class(ijc_eSet_tissue@phenoData@data$sex)\n",
    "levels(ijc_eSet_tissue@phenoData@data$sex)\n",
    "\n",
    "model.matrix(~ ijc_eSet_tissue@phenoData@data$sex)"
   ]
  },
  {
   "cell_type": "code",
   "execution_count": 23,
   "metadata": {},
   "outputs": [
    {
     "data": {
      "image/png": "[encoded data removed]",
      "text/plain": [
       "Plot with title “voom: Mean-variance trend”"
      ]
     },
     "metadata": {
      "image/png": {
       "height": 420,
       "width": 420
      },
      "text/plain": {
       "height": 420,
       "width": 420
      }
     },
     "output_type": "display_data"
    },
    {
     "data": {
      "image/png": "[encoded data removed]",
      "text/plain": [
       "plot without title"
      ]
     },
     "metadata": {
      "image/png": {
       "height": 420,
       "width": 420
      },
      "text/plain": {
       "height": 420,
       "width": 420
      }
     },
     "output_type": "display_data"
    },
    {
     "data": {
      "image/png": "[encoded data removed]",
      "text/plain": [
       "plot without title"
      ]
     },
     "metadata": {
      "image/png": {
       "height": 420,
       "width": 420
      },
      "text/plain": {
       "height": 420,
       "width": 420
      }
     },
     "output_type": "display_data"
    },
    {
     "data": {
      "image/png": "[encoded data removed]",
      "text/plain": [
       "plot without title"
      ]
     },
     "metadata": {
      "image/png": {
       "height": 420,
       "width": 420
      },
      "text/plain": {
       "height": 420,
       "width": 420
      }
     },
     "output_type": "display_data"
    },
    {
     "data": {
      "image/png": "[encoded data removed]",
      "text/plain": [
       "plot without title"
      ]
     },
     "metadata": {
      "image/png": {
       "height": 420,
       "width": 420
      },
      "text/plain": {
       "height": 420,
       "width": 420
      }
     },
     "output_type": "display_data"
    }
   ],
   "source": [
    "sex    <- factor(reduced.meta.data$sex,levels=c('male','female'))\n",
    "y <- DGEList(counts=ijc, group = sex)\n",
    "y <- calcNormFactors(y, method=\"upperquartile\")\n",
    "sex    <- factor(reduced.meta.data$sex,levels=c('male','female'))\n",
    "design <- model.matrix ( ~ sex)\n",
    "y_voom <- voom (y, design=design, plot=TRUE )\n",
    "Gender <- substring(sex,1,1)\n",
    "\n",
    "plotMDS(y, labels=Gender, top=500, col=ifelse(Gender==\"m\",\"blue\",\"red\"), \n",
    "        gene.selection=\"common\")\n",
    "plotMDS(y_voom, labels=Gender, top=500, col=ifelse(Gender==\"m\",\"blue\",\"red\"), \n",
    "        gene.selection=\"common\")\n",
    "plotMDS(y, labels=Gender, top=1500, col=ifelse(Gender==\"m\",\"blue\",\"red\"), \n",
    "        gene.selection=\"common\")\n",
    "plotMDS(y_voom, labels=Gender, top=1500, col=ifelse(Gender==\"m\",\"blue\",\"red\"), \n",
    "        gene.selection=\"common\")"
   ]
  },
  {
   "cell_type": "code",
   "execution_count": 24,
   "metadata": {},
   "outputs": [
    {
     "data": {
      "image/png": "[encoded data removed]",
      "text/plain": [
       "Plot with title “voom: Mean-variance trend”"
      ]
     },
     "metadata": {
      "image/png": {
       "height": 420,
       "width": 420
      },
      "text/plain": {
       "height": 420,
       "width": 420
      }
     },
     "output_type": "display_data"
    },
    {
     "data": {
      "image/png": "[encoded data removed]",
      "text/plain": [
       "plot without title"
      ]
     },
     "metadata": {
      "image/png": {
       "height": 420,
       "width": 420
      },
      "text/plain": {
       "height": 420,
       "width": 420
      }
     },
     "output_type": "display_data"
    },
    {
     "data": {
      "image/png": "[encoded data removed]",
      "text/plain": [
       "plot without title"
      ]
     },
     "metadata": {
      "image/png": {
       "height": 420,
       "width": 420
      },
      "text/plain": {
       "height": 420,
       "width": 420
      }
     },
     "output_type": "display_data"
    },
    {
     "data": {
      "image/png": "[encoded data removed]",
      "text/plain": [
       "plot without title"
      ]
     },
     "metadata": {
      "image/png": {
       "height": 420,
       "width": 420
      },
      "text/plain": {
       "height": 420,
       "width": 420
      }
     },
     "output_type": "display_data"
    },
    {
     "data": {
      "image/png": "[encoded data removed]",
      "text/plain": [
       "plot without title"
      ]
     },
     "metadata": {
      "image/png": {
       "height": 420,
       "width": 420
      },
      "text/plain": {
       "height": 420,
       "width": 420
      }
     },
     "output_type": "display_data"
    }
   ],
   "source": [
    "sex       <- factor(reduced.meta.data$sex,levels=c('male','female'))\n",
    "design    <- model.matrix ( ~ sex)\n",
    "y <- DGEList(counts=ijc, group = sex)\n",
    "y <- calcNormFactors(y, method=\"upperquartile\")\n",
    "sex       <- factor(reduced.meta.data$sex,levels=c('male','female'))\n",
    "design    <- model.matrix ( ~ sex)\n",
    "y_voom <- voom (y, design=design, plot=TRUE )\n",
    "Gender <- substring(sex,1,1)\n",
    "\n",
    "plotMDS(y, labels=Gender, top=500, col=ifelse(Gender==\"m\",\"blue\",\"red\"), \n",
    "        gene.selection=\"common\")\n",
    "plotMDS(y_voom, labels=Gender, top=500, col=ifelse(Gender==\"m\",\"blue\",\"red\"), \n",
    "        gene.selection=\"common\")\n",
    "plotMDS(y, labels=Gender, top=1500, col=ifelse(Gender==\"m\",\"blue\",\"red\"), \n",
    "        gene.selection=\"common\")\n",
    "plotMDS(y_voom, labels=Gender, top=1500, col=ifelse(Gender==\"m\",\"blue\",\"red\"), \n",
    "        gene.selection=\"common\")\n"
   ]
  },
  {
   "cell_type": "markdown",
   "metadata": {},
   "source": [
    "### IJC Plots saved as PDFs"
   ]
  },
  {
   "cell_type": "code",
   "execution_count": 25,
   "metadata": {},
   "outputs": [
    {
     "data": {
      "text/html": [
       "<strong>png:</strong> 2"
      ],
      "text/latex": [
       "\\textbf{png:} 2"
      ],
      "text/markdown": [
       "**png:** 2"
      ],
      "text/plain": [
       "png \n",
       "  2 "
      ]
     },
     "metadata": {},
     "output_type": "display_data"
    },
    {
     "data": {
      "text/html": [
       "<strong>png:</strong> 2"
      ],
      "text/latex": [
       "\\textbf{png:} 2"
      ],
      "text/markdown": [
       "**png:** 2"
      ],
      "text/plain": [
       "png \n",
       "  2 "
      ]
     },
     "metadata": {},
     "output_type": "display_data"
    },
    {
     "data": {
      "text/html": [
       "<strong>png:</strong> 2"
      ],
      "text/latex": [
       "\\textbf{png:} 2"
      ],
      "text/markdown": [
       "**png:** 2"
      ],
      "text/plain": [
       "png \n",
       "  2 "
      ]
     },
     "metadata": {},
     "output_type": "display_data"
    },
    {
     "data": {
      "text/html": [
       "<strong>png:</strong> 2"
      ],
      "text/latex": [
       "\\textbf{png:} 2"
      ],
      "text/markdown": [
       "**png:** 2"
      ],
      "text/plain": [
       "png \n",
       "  2 "
      ]
     },
     "metadata": {},
     "output_type": "display_data"
    },
    {
     "data": {
      "text/html": [
       "<strong>png:</strong> 2"
      ],
      "text/latex": [
       "\\textbf{png:} 2"
      ],
      "text/markdown": [
       "**png:** 2"
      ],
      "text/plain": [
       "png \n",
       "  2 "
      ]
     },
     "metadata": {},
     "output_type": "display_data"
    }
   ],
   "source": [
    "pdf(\"../pdf/BreastMammaryTissue_ijc_voom.pdf\")\n",
    "y_voom <- voom (y, design=design, plot = TRUE, save.plot = TRUE)\n",
    "dev.off()\n",
    "\n",
    "Gender <- substring(sex,1,1)\n",
    "\n",
    "pdf(\"../pdf/BreastMammaryTissue_ijc_MDSplot_top500.pdf\")\n",
    "plotMDS(y, labels=Gender, top=500, col=ifelse(Gender==\"m\",\"blue\",\"red\"), \n",
    "        gene.selection=\"common\")\n",
    "dev.off()\n",
    "\n",
    "pdf(\"../pdf/BreastMammaryTissue_ijc_voom_MDSplot_top500.pdf\")\n",
    "plotMDS(y_voom, labels=Gender, top=500, col=ifelse(Gender==\"m\",\"blue\",\"red\"), \n",
    "        gene.selection=\"common\")\n",
    "dev.off()\n",
    "\n",
    "pdf(\"../pdf/BreastMammaryTissue_ijc_MDSplot_top1500.pdf\")\n",
    "plotMDS(y, labels=Gender, top=1500, col=ifelse(Gender==\"m\",\"blue\",\"red\"), \n",
    "        gene.selection=\"common\")\n",
    "dev.off()\n",
    "\n",
    "pdf(\"../pdf/BreastMammaryTissue_ijc_voom_MDSplot_top1500.pdf\")\n",
    "plotMDS(y_voom, labels=Gender, top=1500, col=ifelse(Gender==\"m\",\"blue\",\"red\"), \n",
    "        gene.selection=\"common\")\n",
    "dev.off()\n",
    "\n"
   ]
  },
  {
   "cell_type": "markdown",
   "metadata": {},
   "source": [
    "### SJC\n",
    "sjc counts are skipped exon junction counts -- ijc counts hold together for the top 1000, the skipped exon junction counts fall appart\n",
    "at a lower number -- around 200!  separation fails between the genders at 250"
   ]
  },
  {
   "cell_type": "code",
   "execution_count": 26,
   "metadata": {},
   "outputs": [],
   "source": [
    "library(patchwork)\n",
    "options(repr.plot.width=4.5, repr.plot.height=4)\n",
    "\n",
    "sex       <- factor(reduced.meta.data$sex,levels=c('male','female'))\n",
    "design    <- model.matrix(~ sex)\n",
    "y <- DGEList(counts=sjc, group = sex)\n",
    "y <- calcNormFactors(y, method=\"upperquartile\")\n",
    "sex <- factor(reduced.meta.data$sex,levels=c('male','female'))\n",
    "design <- model.matrix ( ~ sex)"
   ]
  },
  {
   "cell_type": "markdown",
   "metadata": {},
   "source": [
    "## Differential analysis as_event:ijc \n",
    "\n",
    "Differential Analysis (DE) was performed using voom (Law et.al., 2014) to transform junction counts (reads that were aligned to junctions when an exon is included - ijc, and reads that were aligned to junctions when the exon is excluded - sjc) with associated precision weights, followed by linear modeling and empirical Bayes procedure using limma.    In each tissue, the following linear regression model was used to detec secually dimorphic alternative splicing event expression: \n",
    "\n",
    "           y = B0 + B1 sex + epsilon (error)\n",
    "           \n",
    "\n",
    "where y is the included exon junction count expression; sex denotes the reported sex of the subject."
   ]
  },
  {
   "cell_type": "code",
   "execution_count": 27,
   "metadata": {},
   "outputs": [
    {
     "data": {
      "text/plain": [
       "ijc_sex_results_refined\n",
       "FALSE  TRUE \n",
       "42208   403 "
      ]
     },
     "metadata": {},
     "output_type": "display_data"
    },
    {
     "data": {
      "text/html": [
       "<table>\n",
       "<caption>A data.frame: 2 × 18</caption>\n",
       "<thead>\n",
       "\t<tr><th></th><th scope=col>logFC</th><th scope=col>AveExpr</th><th scope=col>t</th><th scope=col>P.Value</th><th scope=col>adj.P.Val</th><th scope=col>B</th><th scope=col>ID</th><th scope=col>AS_site_type</th><th scope=col>GeneID</th><th scope=col>geneSymbol</th><th scope=col>chr</th><th scope=col>strand</th><th scope=col>exonStart_0base</th><th scope=col>exonEnd</th><th scope=col>upstreamES</th><th scope=col>upstreamEE</th><th scope=col>downstreamES</th><th scope=col>downstreamEE</th></tr>\n",
       "\t<tr><th></th><th scope=col>&lt;dbl&gt;</th><th scope=col>&lt;dbl&gt;</th><th scope=col>&lt;dbl&gt;</th><th scope=col>&lt;dbl&gt;</th><th scope=col>&lt;dbl&gt;</th><th scope=col>&lt;dbl&gt;</th><th scope=col>&lt;int&gt;</th><th scope=col>&lt;chr&gt;</th><th scope=col>&lt;fct&gt;</th><th scope=col>&lt;fct&gt;</th><th scope=col>&lt;fct&gt;</th><th scope=col>&lt;fct&gt;</th><th scope=col>&lt;int&gt;</th><th scope=col>&lt;int&gt;</th><th scope=col>&lt;int&gt;</th><th scope=col>&lt;int&gt;</th><th scope=col>&lt;int&gt;</th><th scope=col>&lt;int&gt;</th></tr>\n",
       "</thead>\n",
       "<tbody>\n",
       "\t<tr><th scope=row>1</th><td>5.779693</td><td>1.257300</td><td>88.63095</td><td>5.555877e-160</td><td>2.367415e-155</td><td>341.1244</td><td>19070</td><td>SE</td><td>ENSG00000183878.15</td><td>UTY</td><td>chrY</td><td>-</td><td>13251016</td><td>13251187</td><td>13248378</td><td>13249882</td><td>13260277</td><td>13260404</td></tr>\n",
       "\t<tr><th scope=row>2</th><td>6.220433</td><td>1.489752</td><td>84.06363</td><td>1.346018e-155</td><td>2.867758e-151</td><td>333.4615</td><td>19076</td><td>SE</td><td>ENSG00000183878.15</td><td>UTY</td><td>chrY</td><td>-</td><td>13306037</td><td>13306112</td><td>13305398</td><td>13305547</td><td>13306185</td><td>13306250</td></tr>\n",
       "</tbody>\n",
       "</table>\n"
      ],
      "text/latex": [
       "A data.frame: 2 × 18\n",
       "\\begin{tabular}{r|llllllllllllllllll}\n",
       "  & logFC & AveExpr & t & P.Value & adj.P.Val & B & ID & AS\\_site\\_type & GeneID & geneSymbol & chr & strand & exonStart\\_0base & exonEnd & upstreamES & upstreamEE & downstreamES & downstreamEE\\\\\n",
       "  & <dbl> & <dbl> & <dbl> & <dbl> & <dbl> & <dbl> & <int> & <chr> & <fct> & <fct> & <fct> & <fct> & <int> & <int> & <int> & <int> & <int> & <int>\\\\\n",
       "\\hline\n",
       "\t1 & 5.779693 & 1.257300 & 88.63095 & 5.555877e-160 & 2.367415e-155 & 341.1244 & 19070 & SE & ENSG00000183878.15 & UTY & chrY & - & 13251016 & 13251187 & 13248378 & 13249882 & 13260277 & 13260404\\\\\n",
       "\t2 & 6.220433 & 1.489752 & 84.06363 & 1.346018e-155 & 2.867758e-151 & 333.4615 & 19076 & SE & ENSG00000183878.15 & UTY & chrY & - & 13306037 & 13306112 & 13305398 & 13305547 & 13306185 & 13306250\\\\\n",
       "\\end{tabular}\n"
      ],
      "text/markdown": [
       "\n",
       "A data.frame: 2 × 18\n",
       "\n",
       "| <!--/--> | logFC &lt;dbl&gt; | AveExpr &lt;dbl&gt; | t &lt;dbl&gt; | P.Value &lt;dbl&gt; | adj.P.Val &lt;dbl&gt; | B &lt;dbl&gt; | ID &lt;int&gt; | AS_site_type &lt;chr&gt; | GeneID &lt;fct&gt; | geneSymbol &lt;fct&gt; | chr &lt;fct&gt; | strand &lt;fct&gt; | exonStart_0base &lt;int&gt; | exonEnd &lt;int&gt; | upstreamES &lt;int&gt; | upstreamEE &lt;int&gt; | downstreamES &lt;int&gt; | downstreamEE &lt;int&gt; |\n",
       "|---|---|---|---|---|---|---|---|---|---|---|---|---|---|---|---|---|---|---|\n",
       "| 1 | 5.779693 | 1.257300 | 88.63095 | 5.555877e-160 | 2.367415e-155 | 341.1244 | 19070 | SE | ENSG00000183878.15 | UTY | chrY | - | 13251016 | 13251187 | 13248378 | 13249882 | 13260277 | 13260404 |\n",
       "| 2 | 6.220433 | 1.489752 | 84.06363 | 1.346018e-155 | 2.867758e-151 | 333.4615 | 19076 | SE | ENSG00000183878.15 | UTY | chrY | - | 13306037 | 13306112 | 13305398 | 13305547 | 13306185 | 13306250 |\n",
       "\n"
      ],
      "text/plain": [
       "  logFC    AveExpr  t        P.Value       adj.P.Val     B        ID   \n",
       "1 5.779693 1.257300 88.63095 5.555877e-160 2.367415e-155 341.1244 19070\n",
       "2 6.220433 1.489752 84.06363 1.346018e-155 2.867758e-151 333.4615 19076\n",
       "  AS_site_type GeneID             geneSymbol chr  strand exonStart_0base\n",
       "1 SE           ENSG00000183878.15 UTY        chrY -      13251016       \n",
       "2 SE           ENSG00000183878.15 UTY        chrY -      13306037       \n",
       "  exonEnd  upstreamES upstreamEE downstreamES downstreamEE\n",
       "1 13251187 13248378   13249882   13260277     13260404    \n",
       "2 13306112 13305398   13305547   13306185     13306250    "
      ]
     },
     "metadata": {},
     "output_type": "display_data"
    }
   ],
   "source": [
    "sex       <- reduced.meta.data$sex\n",
    "design    <- model.matrix( ~ sex )\n",
    "colnames(design) <- c(\"intercept\",\"sex\")\n",
    "\n",
    "y_ijc <- DGEList(counts=ijc, group = sex)\n",
    "y_ijc <- calcNormFactors(y_ijc, method=\"upperquartile\")\n",
    "y_ijc_voom <- voom (y_ijc, design=design)\n",
    "\n",
    "Gender <- substring(sex,1,1)\n",
    "\n",
    "fit_ijc <- lmFit(y_ijc_voom, design)\n",
    "fit_ijc <- eBayes(fit_ijc)\n",
    "\n",
    "ijc_sex_results          <- topTable(fit_ijc, coef='sex', number=nrow(y_voom))\n",
    "ijc_sex_results[[\"ID\"]]  <- as.integer(rownames(ijc_sex_results))\n",
    "ijc_sex_results[[\"AS_site_type\"]]  <- AS_site_type\n",
    "fromGTF.SE <- read.table(\"../data/fromGTF.SE.txt\", header=TRUE)\n",
    "ijc_sex_results          <- dplyr::left_join(ijc_sex_results, fromGTF.SE, by = \"ID\")\n",
    "ijc_sex_results_refined  <- ijc_sex_results$adj.P.Val < 0.05 & abs(ijc_sex_results$logFC) > 1.5\n",
    "\n",
    "table(ijc_sex_results_refined)\n",
    "head(ijc_sex_results, 2)"
   ]
  },
  {
   "cell_type": "markdown",
   "metadata": {},
   "source": [
    "## Differential analysis as_event:sjc \n",
    "\n",
    "Differential Analysis (DE) was performed using voom (Law et.al., 2014) to transform junction counts (reads that were aligned to junctions when an exon is included - ijc, and reads that were aligned to junctions when the exon is excluded - sjc) with associated precision weights, followed by linear modeling and empirical Bayes procedure using limma.    In each tissue, the following linear regression model was used to detec secually dimorphic alternative splicing event expression: \n",
    "\n",
    "           y = B0 + B1 sex + epsilon (error)\n",
    "           \n",
    "\n",
    "where y is the excluded exon junction count (sjc) expression; sex denotes the reported sex of the subject."
   ]
  },
  {
   "cell_type": "code",
   "execution_count": 28,
   "metadata": {},
   "outputs": [
    {
     "data": {
      "text/html": [
       "<style>\n",
       ".list-inline {list-style: none; margin:0; padding: 0}\n",
       ".list-inline>li {display: inline-block}\n",
       ".list-inline>li:not(:last-child)::after {content: \"\\00b7\"; padding: 0 .5ex}\n",
       "</style>\n",
       "<ol class=list-inline><li>42611</li><li>191</li></ol>\n"
      ],
      "text/latex": [
       "\\begin{enumerate*}\n",
       "\\item 42611\n",
       "\\item 191\n",
       "\\end{enumerate*}\n"
      ],
      "text/markdown": [
       "1. 42611\n",
       "2. 191\n",
       "\n",
       "\n"
      ],
      "text/plain": [
       "[1] 42611   191"
      ]
     },
     "metadata": {},
     "output_type": "display_data"
    },
    {
     "data": {
      "text/plain": [
       "sex\n",
       "female   male \n",
       "    81    110 "
      ]
     },
     "metadata": {},
     "output_type": "display_data"
    },
    {
     "data": {
      "text/html": [
       "<table>\n",
       "<caption>A matrix: 6 × 2 of type dbl</caption>\n",
       "<thead>\n",
       "\t<tr><th></th><th scope=col>intercept</th><th scope=col>sex</th></tr>\n",
       "</thead>\n",
       "<tbody>\n",
       "\t<tr><th scope=row>1</th><td>1</td><td>0</td></tr>\n",
       "\t<tr><th scope=row>2</th><td>1</td><td>0</td></tr>\n",
       "\t<tr><th scope=row>3</th><td>1</td><td>0</td></tr>\n",
       "\t<tr><th scope=row>4</th><td>1</td><td>0</td></tr>\n",
       "\t<tr><th scope=row>5</th><td>1</td><td>1</td></tr>\n",
       "\t<tr><th scope=row>6</th><td>1</td><td>1</td></tr>\n",
       "</tbody>\n",
       "</table>\n"
      ],
      "text/latex": [
       "A matrix: 6 × 2 of type dbl\n",
       "\\begin{tabular}{r|ll}\n",
       "  & intercept & sex\\\\\n",
       "\\hline\n",
       "\t1 & 1 & 0\\\\\n",
       "\t2 & 1 & 0\\\\\n",
       "\t3 & 1 & 0\\\\\n",
       "\t4 & 1 & 0\\\\\n",
       "\t5 & 1 & 1\\\\\n",
       "\t6 & 1 & 1\\\\\n",
       "\\end{tabular}\n"
      ],
      "text/markdown": [
       "\n",
       "A matrix: 6 × 2 of type dbl\n",
       "\n",
       "| <!--/--> | intercept | sex |\n",
       "|---|---|---|\n",
       "| 1 | 1 | 0 |\n",
       "| 2 | 1 | 0 |\n",
       "| 3 | 1 | 0 |\n",
       "| 4 | 1 | 0 |\n",
       "| 5 | 1 | 1 |\n",
       "| 6 | 1 | 1 |\n",
       "\n"
      ],
      "text/plain": [
       "  intercept sex\n",
       "1 1         0  \n",
       "2 1         0  \n",
       "3 1         0  \n",
       "4 1         0  \n",
       "5 1         1  \n",
       "6 1         1  "
      ]
     },
     "metadata": {},
     "output_type": "display_data"
    },
    {
     "data": {
      "image/png": "[encoded data removed]",
      "text/plain": [
       "plot without title"
      ]
     },
     "metadata": {
      "image/png": {
       "height": 240,
       "width": 270
      },
      "text/plain": {
       "height": 240,
       "width": 270
      }
     },
     "output_type": "display_data"
    },
    {
     "data": {
      "text/plain": [
       "sjc_sex_results_refined\n",
       "FALSE  TRUE \n",
       "42208   403 "
      ]
     },
     "metadata": {},
     "output_type": "display_data"
    },
    {
     "data": {
      "image/png": "[encoded data removed]",
      "text/plain": [
       "plot without title"
      ]
     },
     "metadata": {
      "image/png": {
       "height": 240,
       "width": 270
      },
      "text/plain": {
       "height": 240,
       "width": 270
      }
     },
     "output_type": "display_data"
    }
   ],
   "source": [
    "sex       <- reduced.meta.data$sex\n",
    "design    <- model.matrix( ~ sex )\n",
    "\n",
    "colnames(design) <- c(\"intercept\",\"sex\")\n",
    "\n",
    "dim(sjc)\n",
    "table(sex)\n",
    "head(design)\n",
    "\n",
    "y_sjc <- DGEList(counts=sjc, group = sex)\n",
    "y_sjc <- calcNormFactors(y_sjc, method=\"upperquartile\")\n",
    "\n",
    "y_sjc_voom <- voom (y_sjc, design=design)\n",
    "\n",
    "Gender <- substring(sex,1,1)\n",
    "\n",
    "plotMDS(y_sjc, labels=Gender, top=500, col=ifelse(Gender==\"m\",\"blue\",\"red\"), \n",
    "        gene.selection=\"common\")\n",
    "\n",
    "plotMDS(y_sjc_voom, labels=Gender, top=500, col=ifelse(Gender==\"m\",\"blue\",\"red\"), \n",
    "        gene.selection=\"common\")\n",
    "\n",
    "fit_sjc <- lmFit(y_sjc_voom, design)\n",
    "fit_sjc <- eBayes(fit_sjc)\n",
    "\n",
    "sjc_sex_results          <- topTable(fit_sjc, coef='sex', number=nrow(y_voom))\n",
    "sjc_sex_results[[\"ID\"]]  <- as.integer(rownames(ijc_sex_results))\n",
    "sjc_sex_results[[\"AS_site_type\"]]  <- AS_site_type\n",
    "sjc_sex_results          <- dplyr::left_join(ijc_sex_results, fromGTF.SE, by = \"ID\")\n",
    "\n",
    "sjc_sex_results_refined  <- sjc_sex_results$adj.P.Val < 0.05 & abs(sjc_sex_results$logFC) > 1.5\n",
    "\n",
    "table(sjc_sex_results_refined)"
   ]
  },
  {
   "cell_type": "markdown",
   "metadata": {},
   "source": [
    "## Differential analysis as_event (combined ijc and sjc)\n",
    "\n",
    "Differential Analysis (DE) was performed using voom (Law et.al., 2014) to transform junction counts (reads that were aligned to junctions when an exon is included - ijc, and reads that were aligned to junctions when the exon is excluded - sjc) with associated precision weights, followed by linear modeling and empirical Bayes procedure using limma.    In each tissue, the following linear regression model was used to detec secually dimorphic alternative splicing event expression: \n",
    "\n",
    "           y = B0 + B1 sex + B2 as_event + B3 sex*as_event + epsilon (error)\n",
    "           \n",
    "         alt_y = B0 + B1 sample + B2 sex + B3 as_event + B4 sex*as_event + epsilon (error)\n",
    "\n",
    "where y is the alternative splicing event expression; sex denotes the reported sex of the subject, as_event represents the specific alternative splicing event - either included exon junction counts or skipped exon junction counts and their interaction terms.  Modeling the donor and tissue effect as a random effect, for simplicity, we call this sample.\n"
   ]
  },
  {
   "cell_type": "code",
   "execution_count": 29,
   "metadata": {},
   "outputs": [
    {
     "data": {
      "text/html": [
       "<style>\n",
       ".list-inline {list-style: none; margin:0; padding: 0}\n",
       ".list-inline>li {display: inline-block}\n",
       ".list-inline>li:not(:last-child)::after {content: \"\\00b7\"; padding: 0 .5ex}\n",
       "</style>\n",
       "<ol class=list-inline><li>'SRR821498'</li><li>'SRR808428'</li></ol>\n"
      ],
      "text/latex": [
       "\\begin{enumerate*}\n",
       "\\item 'SRR821498'\n",
       "\\item 'SRR808428'\n",
       "\\end{enumerate*}\n"
      ],
      "text/markdown": [
       "1. 'SRR821498'\n",
       "2. 'SRR808428'\n",
       "\n",
       "\n"
      ],
      "text/plain": [
       "[1] \"SRR821498\" \"SRR808428\""
      ]
     },
     "metadata": {},
     "output_type": "display_data"
    }
   ],
   "source": [
    "sample    <- c(rep(colnames(ijc.iso.counts.mem2),2))\n",
    "sample[1:2]"
   ]
  },
  {
   "cell_type": "code",
   "execution_count": 30,
   "metadata": {},
   "outputs": [
    {
     "data": {
      "text/html": [
       "<style>\n",
       ".list-inline {list-style: none; margin:0; padding: 0}\n",
       ".list-inline>li {display: inline-block}\n",
       ".list-inline>li:not(:last-child)::after {content: \"\\00b7\"; padding: 0 .5ex}\n",
       "</style>\n",
       "<ol class=list-inline><li>'SRR821498'</li><li>'SRR808428'</li></ol>\n"
      ],
      "text/latex": [
       "\\begin{enumerate*}\n",
       "\\item 'SRR821498'\n",
       "\\item 'SRR808428'\n",
       "\\end{enumerate*}\n"
      ],
      "text/markdown": [
       "1. 'SRR821498'\n",
       "2. 'SRR808428'\n",
       "\n",
       "\n"
      ],
      "text/plain": [
       "[1] \"SRR821498\" \"SRR808428\""
      ]
     },
     "metadata": {},
     "output_type": "display_data"
    }
   ],
   "source": [
    "ijc_names <- as.character(colnames(ijc))\n",
    "sjc_names <- as.character(colnames(sjc))\n",
    "sjc_names[1:2]"
   ]
  },
  {
   "cell_type": "code",
   "execution_count": 31,
   "metadata": {},
   "outputs": [
    {
     "data": {
      "text/html": [
       "<style>\n",
       ".list-inline {list-style: none; margin:0; padding: 0}\n",
       ".list-inline>li {display: inline-block}\n",
       ".list-inline>li:not(:last-child)::after {content: \"\\00b7\"; padding: 0 .5ex}\n",
       "</style>\n",
       "<ol class=list-inline><li>'SRR821498-sjc'</li><li>'SRR808428-sjc'</li></ol>\n"
      ],
      "text/latex": [
       "\\begin{enumerate*}\n",
       "\\item 'SRR821498-sjc'\n",
       "\\item 'SRR808428-sjc'\n",
       "\\end{enumerate*}\n"
      ],
      "text/markdown": [
       "1. 'SRR821498-sjc'\n",
       "2. 'SRR808428-sjc'\n",
       "\n",
       "\n"
      ],
      "text/plain": [
       "[1] \"SRR821498-sjc\" \"SRR808428-sjc\""
      ]
     },
     "metadata": {},
     "output_type": "display_data"
    }
   ],
   "source": [
    "ijc_names <- paste0(ijc_names,\"-ijc\")\n",
    "sjc_names <- paste0(sjc_names,\"-sjc\")\n",
    "sjc_names[1:2]"
   ]
  },
  {
   "cell_type": "code",
   "execution_count": 32,
   "metadata": {},
   "outputs": [
    {
     "data": {
      "text/html": [
       "<style>\n",
       ".list-inline {list-style: none; margin:0; padding: 0}\n",
       ".list-inline>li {display: inline-block}\n",
       ".list-inline>li:not(:last-child)::after {content: \"\\00b7\"; padding: 0 .5ex}\n",
       "</style>\n",
       "<ol class=list-inline><li>'SRR821498-sjc'</li><li>'SRR808428-sjc'</li></ol>\n"
      ],
      "text/latex": [
       "\\begin{enumerate*}\n",
       "\\item 'SRR821498-sjc'\n",
       "\\item 'SRR808428-sjc'\n",
       "\\end{enumerate*}\n"
      ],
      "text/markdown": [
       "1. 'SRR821498-sjc'\n",
       "2. 'SRR808428-sjc'\n",
       "\n",
       "\n"
      ],
      "text/plain": [
       "[1] \"SRR821498-sjc\" \"SRR808428-sjc\""
      ]
     },
     "metadata": {},
     "output_type": "display_data"
    }
   ],
   "source": [
    "colnames(ijc) <- ijc_names\n",
    "colnames(sjc) <- sjc_names\n",
    "colnames(sjc)[1:2]"
   ]
  },
  {
   "cell_type": "code",
   "execution_count": 33,
   "metadata": {},
   "outputs": [
    {
     "data": {
      "text/html": [
       "<table>\n",
       "<caption>A matrix: 2 × 191 of type int</caption>\n",
       "<thead>\n",
       "\t<tr><th scope=col>SRR821498-ijc</th><th scope=col>SRR808428-ijc</th><th scope=col>SRR808942-ijc</th><th scope=col>SRR1090046-ijc</th><th scope=col>SRR1090674-ijc</th><th scope=col>SRR1090791-ijc</th><th scope=col>SRR1091097-ijc</th><th scope=col>SRR1091791-ijc</th><th scope=col>SRR1095816-ijc</th><th scope=col>SRR1096547-ijc</th><th scope=col>⋯</th><th scope=col>SRR1420517-ijc</th><th scope=col>SRR1458335-ijc</th><th scope=col>SRR1498951-ijc</th><th scope=col>SRR1489803-ijc</th><th scope=col>SRR1436990-ijc</th><th scope=col>SRR1331267-ijc</th><th scope=col>SRR1100893-ijc</th><th scope=col>SRR1388281-ijc</th><th scope=col>SRR1389432-ijc</th><th scope=col>SRR1310158-ijc</th></tr>\n",
       "</thead>\n",
       "<tbody>\n",
       "\t<tr><td>  0</td><td>  0</td><td>  0</td><td>  1</td><td>  0</td><td>  0</td><td>  0</td><td> 0</td><td> 0</td><td> 0</td><td>⋯</td><td>  0</td><td> 0</td><td> 0</td><td>  0</td><td>  0</td><td>  0</td><td>  0</td><td> 0</td><td>  0</td><td>  0</td></tr>\n",
       "\t<tr><td>203</td><td>202</td><td>396</td><td>126</td><td>130</td><td>185</td><td>110</td><td>87</td><td>82</td><td>90</td><td>⋯</td><td>111</td><td>91</td><td>90</td><td>144</td><td>145</td><td>140</td><td>170</td><td>49</td><td>174</td><td>189</td></tr>\n",
       "</tbody>\n",
       "</table>\n"
      ],
      "text/latex": [
       "A matrix: 2 × 191 of type int\n",
       "\\begin{tabular}{lllllllllllllllllllll}\n",
       " SRR821498-ijc & SRR808428-ijc & SRR808942-ijc & SRR1090046-ijc & SRR1090674-ijc & SRR1090791-ijc & SRR1091097-ijc & SRR1091791-ijc & SRR1095816-ijc & SRR1096547-ijc & ⋯ & SRR1420517-ijc & SRR1458335-ijc & SRR1498951-ijc & SRR1489803-ijc & SRR1436990-ijc & SRR1331267-ijc & SRR1100893-ijc & SRR1388281-ijc & SRR1389432-ijc & SRR1310158-ijc\\\\\n",
       "\\hline\n",
       "\t   0 &   0 &   0 &   1 &   0 &   0 &   0 &  0 &  0 &  0 & ⋯ &   0 &  0 &  0 &   0 &   0 &   0 &   0 &  0 &   0 &   0\\\\\n",
       "\t 203 & 202 & 396 & 126 & 130 & 185 & 110 & 87 & 82 & 90 & ⋯ & 111 & 91 & 90 & 144 & 145 & 140 & 170 & 49 & 174 & 189\\\\\n",
       "\\end{tabular}\n"
      ],
      "text/markdown": [
       "\n",
       "A matrix: 2 × 191 of type int\n",
       "\n",
       "| SRR821498-ijc | SRR808428-ijc | SRR808942-ijc | SRR1090046-ijc | SRR1090674-ijc | SRR1090791-ijc | SRR1091097-ijc | SRR1091791-ijc | SRR1095816-ijc | SRR1096547-ijc | ⋯ | SRR1420517-ijc | SRR1458335-ijc | SRR1498951-ijc | SRR1489803-ijc | SRR1436990-ijc | SRR1331267-ijc | SRR1100893-ijc | SRR1388281-ijc | SRR1389432-ijc | SRR1310158-ijc |\n",
       "|---|---|---|---|---|---|---|---|---|---|---|---|---|---|---|---|---|---|---|---|---|\n",
       "|   0 |   0 |   0 |   1 |   0 |   0 |   0 |  0 |  0 |  0 | ⋯ |   0 |  0 |  0 |   0 |   0 |   0 |   0 |  0 |   0 |   0 |\n",
       "| 203 | 202 | 396 | 126 | 130 | 185 | 110 | 87 | 82 | 90 | ⋯ | 111 | 91 | 90 | 144 | 145 | 140 | 170 | 49 | 174 | 189 |\n",
       "\n"
      ],
      "text/plain": [
       "     SRR821498-ijc SRR808428-ijc SRR808942-ijc SRR1090046-ijc SRR1090674-ijc\n",
       "[1,]   0             0             0             1              0           \n",
       "[2,] 203           202           396           126            130           \n",
       "     SRR1090791-ijc SRR1091097-ijc SRR1091791-ijc SRR1095816-ijc SRR1096547-ijc\n",
       "[1,]   0              0             0              0              0            \n",
       "[2,] 185            110            87             82             90            \n",
       "     ⋯ SRR1420517-ijc SRR1458335-ijc SRR1498951-ijc SRR1489803-ijc\n",
       "[1,] ⋯   0             0              0               0           \n",
       "[2,] ⋯ 111            91             90             144           \n",
       "     SRR1436990-ijc SRR1331267-ijc SRR1100893-ijc SRR1388281-ijc SRR1389432-ijc\n",
       "[1,]   0              0              0             0               0           \n",
       "[2,] 145            140            170            49             174           \n",
       "     SRR1310158-ijc\n",
       "[1,]   0           \n",
       "[2,] 189           "
      ]
     },
     "metadata": {},
     "output_type": "display_data"
    }
   ],
   "source": [
    "head(ijc,2)"
   ]
  },
  {
   "cell_type": "code",
   "execution_count": 34,
   "metadata": {},
   "outputs": [
    {
     "data": {
      "text/html": [
       "<table>\n",
       "<caption>A matrix: 2 × 382 of type int</caption>\n",
       "<thead>\n",
       "\t<tr><th scope=col>SRR821498-ijc</th><th scope=col>SRR808428-ijc</th><th scope=col>SRR808942-ijc</th><th scope=col>SRR1090046-ijc</th><th scope=col>SRR1090674-ijc</th><th scope=col>SRR1090791-ijc</th><th scope=col>SRR1091097-ijc</th><th scope=col>SRR1091791-ijc</th><th scope=col>SRR1095816-ijc</th><th scope=col>SRR1096547-ijc</th><th scope=col>⋯</th><th scope=col>SRR1420517-sjc</th><th scope=col>SRR1458335-sjc</th><th scope=col>SRR1498951-sjc</th><th scope=col>SRR1489803-sjc</th><th scope=col>SRR1436990-sjc</th><th scope=col>SRR1331267-sjc</th><th scope=col>SRR1100893-sjc</th><th scope=col>SRR1388281-sjc</th><th scope=col>SRR1389432-sjc</th><th scope=col>SRR1310158-sjc</th></tr>\n",
       "</thead>\n",
       "<tbody>\n",
       "\t<tr><td>  0</td><td>  0</td><td>  0</td><td>  1</td><td>  0</td><td>  0</td><td>  0</td><td> 0</td><td> 0</td><td> 0</td><td>⋯</td><td>0</td><td>1</td><td>1</td><td>0</td><td>2</td><td>0</td><td>0</td><td>0</td><td>0</td><td>0</td></tr>\n",
       "\t<tr><td>203</td><td>202</td><td>396</td><td>126</td><td>130</td><td>185</td><td>110</td><td>87</td><td>82</td><td>90</td><td>⋯</td><td>0</td><td>0</td><td>0</td><td>0</td><td>0</td><td>0</td><td>0</td><td>0</td><td>0</td><td>0</td></tr>\n",
       "</tbody>\n",
       "</table>\n"
      ],
      "text/latex": [
       "A matrix: 2 × 382 of type int\n",
       "\\begin{tabular}{lllllllllllllllllllll}\n",
       " SRR821498-ijc & SRR808428-ijc & SRR808942-ijc & SRR1090046-ijc & SRR1090674-ijc & SRR1090791-ijc & SRR1091097-ijc & SRR1091791-ijc & SRR1095816-ijc & SRR1096547-ijc & ⋯ & SRR1420517-sjc & SRR1458335-sjc & SRR1498951-sjc & SRR1489803-sjc & SRR1436990-sjc & SRR1331267-sjc & SRR1100893-sjc & SRR1388281-sjc & SRR1389432-sjc & SRR1310158-sjc\\\\\n",
       "\\hline\n",
       "\t   0 &   0 &   0 &   1 &   0 &   0 &   0 &  0 &  0 &  0 & ⋯ & 0 & 1 & 1 & 0 & 2 & 0 & 0 & 0 & 0 & 0\\\\\n",
       "\t 203 & 202 & 396 & 126 & 130 & 185 & 110 & 87 & 82 & 90 & ⋯ & 0 & 0 & 0 & 0 & 0 & 0 & 0 & 0 & 0 & 0\\\\\n",
       "\\end{tabular}\n"
      ],
      "text/markdown": [
       "\n",
       "A matrix: 2 × 382 of type int\n",
       "\n",
       "| SRR821498-ijc | SRR808428-ijc | SRR808942-ijc | SRR1090046-ijc | SRR1090674-ijc | SRR1090791-ijc | SRR1091097-ijc | SRR1091791-ijc | SRR1095816-ijc | SRR1096547-ijc | ⋯ | SRR1420517-sjc | SRR1458335-sjc | SRR1498951-sjc | SRR1489803-sjc | SRR1436990-sjc | SRR1331267-sjc | SRR1100893-sjc | SRR1388281-sjc | SRR1389432-sjc | SRR1310158-sjc |\n",
       "|---|---|---|---|---|---|---|---|---|---|---|---|---|---|---|---|---|---|---|---|---|\n",
       "|   0 |   0 |   0 |   1 |   0 |   0 |   0 |  0 |  0 |  0 | ⋯ | 0 | 1 | 1 | 0 | 2 | 0 | 0 | 0 | 0 | 0 |\n",
       "| 203 | 202 | 396 | 126 | 130 | 185 | 110 | 87 | 82 | 90 | ⋯ | 0 | 0 | 0 | 0 | 0 | 0 | 0 | 0 | 0 | 0 |\n",
       "\n"
      ],
      "text/plain": [
       "     SRR821498-ijc SRR808428-ijc SRR808942-ijc SRR1090046-ijc SRR1090674-ijc\n",
       "[1,]   0             0             0             1              0           \n",
       "[2,] 203           202           396           126            130           \n",
       "     SRR1090791-ijc SRR1091097-ijc SRR1091791-ijc SRR1095816-ijc SRR1096547-ijc\n",
       "[1,]   0              0             0              0              0            \n",
       "[2,] 185            110            87             82             90            \n",
       "     ⋯ SRR1420517-sjc SRR1458335-sjc SRR1498951-sjc SRR1489803-sjc\n",
       "[1,] ⋯ 0              1              1              0             \n",
       "[2,] ⋯ 0              0              0              0             \n",
       "     SRR1436990-sjc SRR1331267-sjc SRR1100893-sjc SRR1388281-sjc SRR1389432-sjc\n",
       "[1,] 2              0              0              0              0             \n",
       "[2,] 0              0              0              0              0             \n",
       "     SRR1310158-sjc\n",
       "[1,] 0             \n",
       "[2,] 0             "
      ]
     },
     "metadata": {},
     "output_type": "display_data"
    },
    {
     "data": {
      "text/html": [
       "<style>\n",
       ".list-inline {list-style: none; margin:0; padding: 0}\n",
       ".list-inline>li {display: inline-block}\n",
       ".list-inline>li:not(:last-child)::after {content: \"\\00b7\"; padding: 0 .5ex}\n",
       "</style>\n",
       "<ol class=list-inline><li>42611</li><li>382</li></ol>\n"
      ],
      "text/latex": [
       "\\begin{enumerate*}\n",
       "\\item 42611\n",
       "\\item 382\n",
       "\\end{enumerate*}\n"
      ],
      "text/markdown": [
       "1. 42611\n",
       "2. 382\n",
       "\n",
       "\n"
      ],
      "text/plain": [
       "[1] 42611   382"
      ]
     },
     "metadata": {},
     "output_type": "display_data"
    }
   ],
   "source": [
    "as_matrix <- cbind(ijc,sjc)\n",
    "head(as_matrix, 2)\n",
    "dim(as_matrix)"
   ]
  },
  {
   "cell_type": "code",
   "execution_count": 35,
   "metadata": {},
   "outputs": [
    {
     "data": {
      "text/html": [
       "<style>\n",
       ".list-inline {list-style: none; margin:0; padding: 0}\n",
       ".list-inline>li {display: inline-block}\n",
       ".list-inline>li:not(:last-child)::after {content: \"\\00b7\"; padding: 0 .5ex}\n",
       "</style>\n",
       "<ol class=list-inline><li>female</li><li>female</li></ol>\n",
       "\n",
       "<details>\n",
       "\t<summary style=display:list-item;cursor:pointer>\n",
       "\t\t<strong>Levels</strong>:\n",
       "\t</summary>\n",
       "\t<style>\n",
       "\t.list-inline {list-style: none; margin:0; padding: 0}\n",
       "\t.list-inline>li {display: inline-block}\n",
       "\t.list-inline>li:not(:last-child)::after {content: \"\\00b7\"; padding: 0 .5ex}\n",
       "\t</style>\n",
       "\t<ol class=list-inline><li>'male'</li><li>'female'</li></ol>\n",
       "</details>"
      ],
      "text/latex": [
       "\\begin{enumerate*}\n",
       "\\item female\n",
       "\\item female\n",
       "\\end{enumerate*}\n",
       "\n",
       "\\emph{Levels}: \\begin{enumerate*}\n",
       "\\item 'male'\n",
       "\\item 'female'\n",
       "\\end{enumerate*}\n"
      ],
      "text/markdown": [
       "1. female\n",
       "2. female\n",
       "\n",
       "\n",
       "\n",
       "**Levels**: 1. 'male'\n",
       "2. 'female'\n",
       "\n",
       "\n"
      ],
      "text/plain": [
       "[1] female female\n",
       "Levels: male female"
      ]
     },
     "metadata": {},
     "output_type": "display_data"
    },
    {
     "data": {
      "text/html": [
       "382"
      ],
      "text/latex": [
       "382"
      ],
      "text/markdown": [
       "382"
      ],
      "text/plain": [
       "[1] 382"
      ]
     },
     "metadata": {},
     "output_type": "display_data"
    }
   ],
   "source": [
    "sex       <- c(rep(reduced.meta.data$sex,2))\n",
    "sex       <- factor(sex, levels=c('male','female'))\n",
    "sex[1:2]\n",
    "length(sex)"
   ]
  },
  {
   "cell_type": "code",
   "execution_count": 36,
   "metadata": {},
   "outputs": [
    {
     "data": {
      "text/html": [
       "382"
      ],
      "text/latex": [
       "382"
      ],
      "text/markdown": [
       "382"
      ],
      "text/plain": [
       "[1] 382"
      ]
     },
     "metadata": {},
     "output_type": "display_data"
    },
    {
     "data": {
      "text/html": [
       "<style>\n",
       ".list-inline {list-style: none; margin:0; padding: 0}\n",
       ".list-inline>li {display: inline-block}\n",
       ".list-inline>li:not(:last-child)::after {content: \"\\00b7\"; padding: 0 .5ex}\n",
       "</style>\n",
       "<ol class=list-inline><li>'ijc'</li><li>'ijc'</li></ol>\n"
      ],
      "text/latex": [
       "\\begin{enumerate*}\n",
       "\\item 'ijc'\n",
       "\\item 'ijc'\n",
       "\\end{enumerate*}\n"
      ],
      "text/markdown": [
       "1. 'ijc'\n",
       "2. 'ijc'\n",
       "\n",
       "\n"
      ],
      "text/plain": [
       "[1] \"ijc\" \"ijc\""
      ]
     },
     "metadata": {},
     "output_type": "display_data"
    }
   ],
   "source": [
    "as_event  <- c(rep(\"ijc\", dim(ijc)[2]), \n",
    "               rep(\"sjc\", dim(sjc)[2]))\n",
    "length(as_event)\n",
    "as_event[1:2]"
   ]
  },
  {
   "cell_type": "code",
   "execution_count": 37,
   "metadata": {},
   "outputs": [
    {
     "data": {
      "text/html": [
       "382"
      ],
      "text/latex": [
       "382"
      ],
      "text/markdown": [
       "382"
      ],
      "text/plain": [
       "[1] 382"
      ]
     },
     "metadata": {},
     "output_type": "display_data"
    },
    {
     "data": {
      "text/html": [
       "<style>\n",
       ".list-inline {list-style: none; margin:0; padding: 0}\n",
       ".list-inline>li {display: inline-block}\n",
       ".list-inline>li:not(:last-child)::after {content: \"\\00b7\"; padding: 0 .5ex}\n",
       "</style>\n",
       "<ol class=list-inline><li>ijc</li><li>ijc</li></ol>\n",
       "\n",
       "<details>\n",
       "\t<summary style=display:list-item;cursor:pointer>\n",
       "\t\t<strong>Levels</strong>:\n",
       "\t</summary>\n",
       "\t<style>\n",
       "\t.list-inline {list-style: none; margin:0; padding: 0}\n",
       "\t.list-inline>li {display: inline-block}\n",
       "\t.list-inline>li:not(:last-child)::after {content: \"\\00b7\"; padding: 0 .5ex}\n",
       "\t</style>\n",
       "\t<ol class=list-inline><li>'ijc'</li><li>'sjc'</li></ol>\n",
       "</details>"
      ],
      "text/latex": [
       "\\begin{enumerate*}\n",
       "\\item ijc\n",
       "\\item ijc\n",
       "\\end{enumerate*}\n",
       "\n",
       "\\emph{Levels}: \\begin{enumerate*}\n",
       "\\item 'ijc'\n",
       "\\item 'sjc'\n",
       "\\end{enumerate*}\n"
      ],
      "text/markdown": [
       "1. ijc\n",
       "2. ijc\n",
       "\n",
       "\n",
       "\n",
       "**Levels**: 1. 'ijc'\n",
       "2. 'sjc'\n",
       "\n",
       "\n"
      ],
      "text/plain": [
       "[1] ijc ijc\n",
       "Levels: ijc sjc"
      ]
     },
     "metadata": {},
     "output_type": "display_data"
    }
   ],
   "source": [
    "as_event  <- factor(as_event, levels=c(\"ijc\", \"sjc\"))\n",
    "length(as_event)\n",
    "as_event[1:2]"
   ]
  },
  {
   "cell_type": "markdown",
   "metadata": {},
   "source": [
    "In this design, we are modeling sample as a random effect - but we could also model it in the design"
   ]
  },
  {
   "cell_type": "code",
   "execution_count": 38,
   "metadata": {},
   "outputs": [
    {
     "data": {
      "text/html": [
       "<table>\n",
       "<caption>A matrix: 2 × 4 of type dbl</caption>\n",
       "<thead>\n",
       "\t<tr><th></th><th scope=col>(Intercept)</th><th scope=col>sexfemale</th><th scope=col>as_eventsjc</th><th scope=col>sexfemale:as_eventsjc</th></tr>\n",
       "</thead>\n",
       "<tbody>\n",
       "\t<tr><th scope=row>1</th><td>1</td><td>1</td><td>0</td><td>0</td></tr>\n",
       "\t<tr><th scope=row>2</th><td>1</td><td>1</td><td>0</td><td>0</td></tr>\n",
       "</tbody>\n",
       "</table>\n"
      ],
      "text/latex": [
       "A matrix: 2 × 4 of type dbl\n",
       "\\begin{tabular}{r|llll}\n",
       "  & (Intercept) & sexfemale & as\\_eventsjc & sexfemale:as\\_eventsjc\\\\\n",
       "\\hline\n",
       "\t1 & 1 & 1 & 0 & 0\\\\\n",
       "\t2 & 1 & 1 & 0 & 0\\\\\n",
       "\\end{tabular}\n"
      ],
      "text/markdown": [
       "\n",
       "A matrix: 2 × 4 of type dbl\n",
       "\n",
       "| <!--/--> | (Intercept) | sexfemale | as_eventsjc | sexfemale:as_eventsjc |\n",
       "|---|---|---|---|---|\n",
       "| 1 | 1 | 1 | 0 | 0 |\n",
       "| 2 | 1 | 1 | 0 | 0 |\n",
       "\n"
      ],
      "text/plain": [
       "  (Intercept) sexfemale as_eventsjc sexfemale:as_eventsjc\n",
       "1 1           1         0           0                    \n",
       "2 1           1         0           0                    "
      ]
     },
     "metadata": {},
     "output_type": "display_data"
    },
    {
     "data": {
      "text/html": [
       "<style>\n",
       ".list-inline {list-style: none; margin:0; padding: 0}\n",
       ".list-inline>li {display: inline-block}\n",
       ".list-inline>li:not(:last-child)::after {content: \"\\00b7\"; padding: 0 .5ex}\n",
       "</style>\n",
       "<ol class=list-inline><li>382</li><li>4</li></ol>\n"
      ],
      "text/latex": [
       "\\begin{enumerate*}\n",
       "\\item 382\n",
       "\\item 4\n",
       "\\end{enumerate*}\n"
      ],
      "text/markdown": [
       "1. 382\n",
       "2. 4\n",
       "\n",
       "\n"
      ],
      "text/plain": [
       "[1] 382   4"
      ]
     },
     "metadata": {},
     "output_type": "display_data"
    }
   ],
   "source": [
    "design    <- model.matrix( ~ sex + as_event + sex*as_event)\n",
    "head(design,2)\n",
    "dim(design)"
   ]
  },
  {
   "cell_type": "code",
   "execution_count": 39,
   "metadata": {},
   "outputs": [
    {
     "data": {
      "text/html": [
       "382"
      ],
      "text/latex": [
       "382"
      ],
      "text/markdown": [
       "382"
      ],
      "text/plain": [
       "[1] 382"
      ]
     },
     "metadata": {},
     "output_type": "display_data"
    },
    {
     "data": {
      "text/html": [
       "<style>\n",
       ".list-inline {list-style: none; margin:0; padding: 0}\n",
       ".list-inline>li {display: inline-block}\n",
       ".list-inline>li:not(:last-child)::after {content: \"\\00b7\"; padding: 0 .5ex}\n",
       "</style>\n",
       "<ol class=list-inline><li>42611</li><li>382</li></ol>\n"
      ],
      "text/latex": [
       "\\begin{enumerate*}\n",
       "\\item 42611\n",
       "\\item 382\n",
       "\\end{enumerate*}\n"
      ],
      "text/markdown": [
       "1. 42611\n",
       "2. 382\n",
       "\n",
       "\n"
      ],
      "text/plain": [
       "[1] 42611   382"
      ]
     },
     "metadata": {},
     "output_type": "display_data"
    },
    {
     "data": {
      "text/html": [
       "<table>\n",
       "<caption>A matrix: 2 × 382 of type int</caption>\n",
       "<thead>\n",
       "\t<tr><th scope=col>SRR821498-ijc</th><th scope=col>SRR808428-ijc</th><th scope=col>SRR808942-ijc</th><th scope=col>SRR1090046-ijc</th><th scope=col>SRR1090674-ijc</th><th scope=col>SRR1090791-ijc</th><th scope=col>SRR1091097-ijc</th><th scope=col>SRR1091791-ijc</th><th scope=col>SRR1095816-ijc</th><th scope=col>SRR1096547-ijc</th><th scope=col>⋯</th><th scope=col>SRR1420517-sjc</th><th scope=col>SRR1458335-sjc</th><th scope=col>SRR1498951-sjc</th><th scope=col>SRR1489803-sjc</th><th scope=col>SRR1436990-sjc</th><th scope=col>SRR1331267-sjc</th><th scope=col>SRR1100893-sjc</th><th scope=col>SRR1388281-sjc</th><th scope=col>SRR1389432-sjc</th><th scope=col>SRR1310158-sjc</th></tr>\n",
       "</thead>\n",
       "<tbody>\n",
       "\t<tr><td>  0</td><td>  0</td><td>  0</td><td>  1</td><td>  0</td><td>  0</td><td>  0</td><td> 0</td><td> 0</td><td> 0</td><td>⋯</td><td>0</td><td>1</td><td>1</td><td>0</td><td>2</td><td>0</td><td>0</td><td>0</td><td>0</td><td>0</td></tr>\n",
       "\t<tr><td>203</td><td>202</td><td>396</td><td>126</td><td>130</td><td>185</td><td>110</td><td>87</td><td>82</td><td>90</td><td>⋯</td><td>0</td><td>0</td><td>0</td><td>0</td><td>0</td><td>0</td><td>0</td><td>0</td><td>0</td><td>0</td></tr>\n",
       "</tbody>\n",
       "</table>\n"
      ],
      "text/latex": [
       "A matrix: 2 × 382 of type int\n",
       "\\begin{tabular}{lllllllllllllllllllll}\n",
       " SRR821498-ijc & SRR808428-ijc & SRR808942-ijc & SRR1090046-ijc & SRR1090674-ijc & SRR1090791-ijc & SRR1091097-ijc & SRR1091791-ijc & SRR1095816-ijc & SRR1096547-ijc & ⋯ & SRR1420517-sjc & SRR1458335-sjc & SRR1498951-sjc & SRR1489803-sjc & SRR1436990-sjc & SRR1331267-sjc & SRR1100893-sjc & SRR1388281-sjc & SRR1389432-sjc & SRR1310158-sjc\\\\\n",
       "\\hline\n",
       "\t   0 &   0 &   0 &   1 &   0 &   0 &   0 &  0 &  0 &  0 & ⋯ & 0 & 1 & 1 & 0 & 2 & 0 & 0 & 0 & 0 & 0\\\\\n",
       "\t 203 & 202 & 396 & 126 & 130 & 185 & 110 & 87 & 82 & 90 & ⋯ & 0 & 0 & 0 & 0 & 0 & 0 & 0 & 0 & 0 & 0\\\\\n",
       "\\end{tabular}\n"
      ],
      "text/markdown": [
       "\n",
       "A matrix: 2 × 382 of type int\n",
       "\n",
       "| SRR821498-ijc | SRR808428-ijc | SRR808942-ijc | SRR1090046-ijc | SRR1090674-ijc | SRR1090791-ijc | SRR1091097-ijc | SRR1091791-ijc | SRR1095816-ijc | SRR1096547-ijc | ⋯ | SRR1420517-sjc | SRR1458335-sjc | SRR1498951-sjc | SRR1489803-sjc | SRR1436990-sjc | SRR1331267-sjc | SRR1100893-sjc | SRR1388281-sjc | SRR1389432-sjc | SRR1310158-sjc |\n",
       "|---|---|---|---|---|---|---|---|---|---|---|---|---|---|---|---|---|---|---|---|---|\n",
       "|   0 |   0 |   0 |   1 |   0 |   0 |   0 |  0 |  0 |  0 | ⋯ | 0 | 1 | 1 | 0 | 2 | 0 | 0 | 0 | 0 | 0 |\n",
       "| 203 | 202 | 396 | 126 | 130 | 185 | 110 | 87 | 82 | 90 | ⋯ | 0 | 0 | 0 | 0 | 0 | 0 | 0 | 0 | 0 | 0 |\n",
       "\n"
      ],
      "text/plain": [
       "     SRR821498-ijc SRR808428-ijc SRR808942-ijc SRR1090046-ijc SRR1090674-ijc\n",
       "[1,]   0             0             0             1              0           \n",
       "[2,] 203           202           396           126            130           \n",
       "     SRR1090791-ijc SRR1091097-ijc SRR1091791-ijc SRR1095816-ijc SRR1096547-ijc\n",
       "[1,]   0              0             0              0              0            \n",
       "[2,] 185            110            87             82             90            \n",
       "     ⋯ SRR1420517-sjc SRR1458335-sjc SRR1498951-sjc SRR1489803-sjc\n",
       "[1,] ⋯ 0              1              1              0             \n",
       "[2,] ⋯ 0              0              0              0             \n",
       "     SRR1436990-sjc SRR1331267-sjc SRR1100893-sjc SRR1388281-sjc SRR1389432-sjc\n",
       "[1,] 2              0              0              0              0             \n",
       "[2,] 0              0              0              0              0             \n",
       "     SRR1310158-sjc\n",
       "[1,] 0             \n",
       "[2,] 0             "
      ]
     },
     "metadata": {},
     "output_type": "display_data"
    },
    {
     "data": {
      "text/plain": [
       "sex\n",
       "  male female \n",
       "   220    162 "
      ]
     },
     "metadata": {},
     "output_type": "display_data"
    },
    {
     "data": {
      "text/plain": [
       "as_event\n",
       "ijc sjc \n",
       "191 191 "
      ]
     },
     "metadata": {},
     "output_type": "display_data"
    },
    {
     "data": {
      "text/html": [
       "<table>\n",
       "<caption>A matrix: 2 × 4 of type dbl</caption>\n",
       "<thead>\n",
       "\t<tr><th></th><th scope=col>intercept</th><th scope=col>sex</th><th scope=col>as_event</th><th scope=col>sex*as_event</th></tr>\n",
       "</thead>\n",
       "<tbody>\n",
       "\t<tr><th scope=row>1</th><td>1</td><td>1</td><td>0</td><td>0</td></tr>\n",
       "\t<tr><th scope=row>2</th><td>1</td><td>1</td><td>0</td><td>0</td></tr>\n",
       "</tbody>\n",
       "</table>\n"
      ],
      "text/latex": [
       "A matrix: 2 × 4 of type dbl\n",
       "\\begin{tabular}{r|llll}\n",
       "  & intercept & sex & as\\_event & sex*as\\_event\\\\\n",
       "\\hline\n",
       "\t1 & 1 & 1 & 0 & 0\\\\\n",
       "\t2 & 1 & 1 & 0 & 0\\\\\n",
       "\\end{tabular}\n"
      ],
      "text/markdown": [
       "\n",
       "A matrix: 2 × 4 of type dbl\n",
       "\n",
       "| <!--/--> | intercept | sex | as_event | sex*as_event |\n",
       "|---|---|---|---|---|\n",
       "| 1 | 1 | 1 | 0 | 0 |\n",
       "| 2 | 1 | 1 | 0 | 0 |\n",
       "\n"
      ],
      "text/plain": [
       "  intercept sex as_event sex*as_event\n",
       "1 1         1   0        0           \n",
       "2 1         1   0        0           "
      ]
     },
     "metadata": {},
     "output_type": "display_data"
    }
   ],
   "source": [
    "colnames(design) <- c(\"intercept\",\"sex\",\"as_event\",\"sex*as_event\")\n",
    "\n",
    "length(sample)\n",
    "dim(as_matrix)\n",
    "head(as_matrix,2)\n",
    "table(sex)\n",
    "table(as_event)\n",
    "head(design, 2)"
   ]
  },
  {
   "cell_type": "markdown",
   "metadata": {},
   "source": [
    "### Voom, limma's lmFit and eBayes\n",
    "\n",
    "The final factor to model is to capture the impact of the sample (which is a combination of the donor and the tissue - in this single tissue analysis -- it is just the donor) - given that we have so many "
   ]
  },
  {
   "cell_type": "code",
   "execution_count": 40,
   "metadata": {},
   "outputs": [
    {
     "data": {
      "text/html": [
       "0.185977569902876"
      ],
      "text/latex": [
       "0.185977569902876"
      ],
      "text/markdown": [
       "0.185977569902876"
      ],
      "text/plain": [
       "[1] 0.1859776"
      ]
     },
     "metadata": {},
     "output_type": "display_data"
    },
    {
     "data": {
      "image/png": "[encoded data removed]",
      "text/plain": [
       "Plot with title “voom: Mean-variance trend”"
      ]
     },
     "metadata": {
      "image/png": {
       "height": 240,
       "width": 270
      },
      "text/plain": {
       "height": 240,
       "width": 270
      }
     },
     "output_type": "display_data"
    }
   ],
   "source": [
    "y <- DGEList(counts=as_matrix, group = sex)\n",
    "y <- calcNormFactors(y, method=\"upperquartile\")\n",
    "y_no_dup_voom <- voom (y, design=design)\n",
    "dup_cor <- duplicateCorrelation(y_no_dup_voom$E, \n",
    "                                design=design, \n",
    "                                ndups=2, \n",
    "                                block=sample,\n",
    "                                weights=y$samples$norm.factors)\n",
    "dup_cor$consensus.correlation\n",
    "\n",
    "y_dup_voom <- voom (y, design=design, plot = TRUE, correlation = dup_cor$consensus_correlation)"
   ]
  },
  {
   "cell_type": "code",
   "execution_count": 41,
   "metadata": {},
   "outputs": [
    {
     "data": {
      "text/html": [
       "<style>\n",
       ".list-inline {list-style: none; margin:0; padding: 0}\n",
       ".list-inline>li {display: inline-block}\n",
       ".list-inline>li:not(:last-child)::after {content: \"\\00b7\"; padding: 0 .5ex}\n",
       "</style>\n",
       "<ol class=list-inline><li>'SRR821498'</li><li>'SRR808428'</li><li>'SRR808942'</li><li>'SRR1090046'</li><li>'SRR1090674'</li><li>'SRR1090791'</li><li>'SRR1091097'</li><li>'SRR1091791'</li><li>'SRR1095816'</li><li>'SRR1096547'</li><li>'SRR1096987'</li><li>'SRR1098264'</li><li>'SRR1357826'</li><li>'SRR1359147'</li><li>'SRR1361499'</li><li>'SRR1364871'</li><li>'SRR1365534'</li><li>'SRR1365622'</li><li>'SRR1367024'</li><li>'SRR1429181'</li><li>'SRR1430615'</li><li>'SRR1433374'</li><li>'SRR1352457'</li><li>'SRR1353994'</li><li>'SRR1356746'</li><li>'SRR1357166'</li><li>'SRR1079948'</li><li>'SRR1081023'</li><li>'SRR1082859'</li><li>'SRR1083052'</li><li>'SRR1083959'</li><li>'SRR1084079'</li><li>'SRR1084674'</li><li>'SRR1086538'</li><li>'SRR1086772'</li><li>'SRR811285'</li><li>'SRR812198'</li><li>'SRR815208'</li><li>'SRR820571'</li><li>'SRR655852'</li><li>'SRR656911'</li><li>'SRR657528'</li><li>'SRR1341100'</li><li>'SRR1341539'</li><li>'SRR1342873'</li><li>'SRR1343818'</li><li>'SRR1345953'</li><li>'SRR1339236'</li><li>'SRR1339431'</li><li>'SRR615910'</li><li>'SRR1378903'</li><li>'SRR658105'</li><li>'SRR658319'</li><li>'SRR658409'</li><li>'SRR659223'</li><li>'SRR660248'</li><li>'SRR660283'</li><li>'SRR662306'</li><li>'SRR662378'</li><li>'SRR662811'</li><li>'SRR1368050'</li><li>'SRR1369088'</li><li>'SRR1369584'</li><li>'SRR1370308'</li><li>'SRR1378284'</li><li>'SRR1378948'</li><li>'SRR1380460'</li><li>'SRR1068977'</li><li>'SRR1068999'</li><li>'SRR1070208'</li><li>'SRR1071084'</li><li>'SRR1071905'</li><li>'SRR1074860'</li><li>'SRR1075484'</li><li>'SRR1076219'</li><li>'SRR1076441'</li><li>'SRR1077139'</li><li>'SRR1077920'</li><li>'SRR1078258'</li><li>'SRR5125544'</li><li>'SRR5125545'</li><li>'SRR1437073'</li><li>'SRR1420936'</li><li>'SRR1464702'</li><li>'SRR1473124'</li><li>'SRR1473403'</li><li>'SRR1481128'</li><li>'SRR1488586'</li><li>'SRR1455807'</li><li>'SRR1469681'</li><li>'SRR1467522'</li><li>'SRR1475408'</li><li>'SRR1455861'</li><li>'SRR1469279'</li><li>'SRR1485398'</li><li>'SRR1415257'</li><li>'SRR1328577'</li><li>'SRR1488694'</li><li>'SRR1472415'</li><li>'SRR1472506'</li><li>'SRR1472907'</li><li>'SRR1418729'</li><li>'SRR1472704'</li><li>'SRR1475824'</li><li>'SRR1500709'</li><li>'SRR1413392'</li><li>'SRR1476950'</li><li>'SRR1486457'</li><li>'SRR1404887'</li><li>'SRR1406224'</li><li>'SRR1439915'</li><li>'SRR1417894'</li><li>'SRR1414661'</li><li>'SRR1455391'</li><li>'SRR1456010'</li><li>'SRR1459561'</li><li>'SRR1459866'</li><li>'SRR1322249'</li><li>'SRR1415792'</li><li>'SRR1417725'</li><li>'SRR1419656'</li><li>'SRR1406621'</li><li>'SRR1386945'</li><li>'SRR1391511'</li><li>'SRR1335212'</li><li>'SRR1335917'</li><li>'SRR1391575'</li><li>'SRR1336181'</li><li>'SRR1314092'</li><li>'SRR1323829'</li><li>'SRR1327896'</li><li>'SRR1403814'</li><li>'SRR1457705'</li><li>'SRR1408574'</li><li>'SRR1102949'</li><li>'SRR1381799'</li><li>'SRR1317282'</li><li>'SRR1318774'</li><li>'SRR1388399'</li><li>'SRR1393026'</li><li>'SRR1477273'</li><li>'SRR1409421'</li><li>'SRR1415420'</li><li>'SRR1420238'</li><li>'SRR1407648'</li><li>'SRR1498416'</li><li>'SRR1417422'</li><li>'SRR1489589'</li><li>'SRR1099981'</li><li>'SRR1324206'</li><li>'SRR1469237'</li><li>'SRR1465693'</li><li>'SRR1435946'</li><li>'SRR1328941'</li><li>'SRR1498997'</li><li>'SRR1434955'</li><li>'SRR1409620'</li><li>'SRR1481297'</li><li>'SRR1310667'</li><li>'SRR1420296'</li><li>'SRR1410765'</li><li>'SRR1334587'</li><li>'SRR1488196'</li><li>'SRR1458090'</li><li>'SRR1454158'</li><li>'SRR1454009'</li><li>'SRR1469547'</li><li>'SRR1490246'</li><li>'SRR1481315'</li><li>'SRR1477671'</li><li>'SRR1446354'</li><li>'SRR1386775'</li><li>'SRR1394912'</li><li>'SRR1409397'</li><li>'SRR1486262'</li><li>'SRR1100472'</li><li>'SRR1105009'</li><li>'SRR1456818'</li><li>'SRR1396682'</li><li>'SRR1455902'</li><li>'SRR1312822'</li><li>'SRR1420517'</li><li>'SRR1458335'</li><li>'SRR1498951'</li><li>'SRR1489803'</li><li>'SRR1436990'</li><li>'SRR1331267'</li><li>'SRR1100893'</li><li>'SRR1388281'</li><li>'SRR1389432'</li><li>'SRR1310158'</li><li>'SRR821498'</li><li>'SRR808428'</li><li>'SRR808942'</li><li>'SRR1090046'</li><li>'SRR1090674'</li><li>'SRR1090791'</li><li>'SRR1091097'</li><li>'SRR1091791'</li><li>'SRR1095816'</li><li>'SRR1096547'</li><li>'SRR1096987'</li><li>'SRR1098264'</li><li>'SRR1357826'</li><li>'SRR1359147'</li><li>'SRR1361499'</li><li>'SRR1364871'</li><li>'SRR1365534'</li><li>'SRR1365622'</li><li>'SRR1367024'</li><li>'SRR1429181'</li><li>'SRR1430615'</li><li>'SRR1433374'</li><li>'SRR1352457'</li><li>'SRR1353994'</li><li>'SRR1356746'</li><li>'SRR1357166'</li><li>'SRR1079948'</li><li>'SRR1081023'</li><li>'SRR1082859'</li><li>'SRR1083052'</li><li>'SRR1083959'</li><li>'SRR1084079'</li><li>'SRR1084674'</li><li>'SRR1086538'</li><li>'SRR1086772'</li><li>'SRR811285'</li><li>'SRR812198'</li><li>'SRR815208'</li><li>'SRR820571'</li><li>'SRR655852'</li><li>'SRR656911'</li><li>'SRR657528'</li><li>'SRR1341100'</li><li>'SRR1341539'</li><li>'SRR1342873'</li><li>'SRR1343818'</li><li>'SRR1345953'</li><li>'SRR1339236'</li><li>'SRR1339431'</li><li>'SRR615910'</li><li>'SRR1378903'</li><li>'SRR658105'</li><li>'SRR658319'</li><li>'SRR658409'</li><li>'SRR659223'</li><li>'SRR660248'</li><li>'SRR660283'</li><li>'SRR662306'</li><li>'SRR662378'</li><li>'SRR662811'</li><li>'SRR1368050'</li><li>'SRR1369088'</li><li>'SRR1369584'</li><li>'SRR1370308'</li><li>'SRR1378284'</li><li>'SRR1378948'</li><li>'SRR1380460'</li><li>'SRR1068977'</li><li>'SRR1068999'</li><li>'SRR1070208'</li><li>'SRR1071084'</li><li>'SRR1071905'</li><li>'SRR1074860'</li><li>'SRR1075484'</li><li>'SRR1076219'</li><li>'SRR1076441'</li><li>'SRR1077139'</li><li>'SRR1077920'</li><li>'SRR1078258'</li><li>'SRR5125544'</li><li>'SRR5125545'</li><li>'SRR1437073'</li><li>'SRR1420936'</li><li>'SRR1464702'</li><li>'SRR1473124'</li><li>'SRR1473403'</li><li>'SRR1481128'</li><li>'SRR1488586'</li><li>'SRR1455807'</li><li>'SRR1469681'</li><li>'SRR1467522'</li><li>'SRR1475408'</li><li>'SRR1455861'</li><li>'SRR1469279'</li><li>'SRR1485398'</li><li>'SRR1415257'</li><li>'SRR1328577'</li><li>'SRR1488694'</li><li>'SRR1472415'</li><li>'SRR1472506'</li><li>'SRR1472907'</li><li>'SRR1418729'</li><li>'SRR1472704'</li><li>'SRR1475824'</li><li>'SRR1500709'</li><li>'SRR1413392'</li><li>'SRR1476950'</li><li>'SRR1486457'</li><li>'SRR1404887'</li><li>'SRR1406224'</li><li>'SRR1439915'</li><li>'SRR1417894'</li><li>'SRR1414661'</li><li>'SRR1455391'</li><li>'SRR1456010'</li><li>'SRR1459561'</li><li>'SRR1459866'</li><li>'SRR1322249'</li><li>'SRR1415792'</li><li>'SRR1417725'</li><li>'SRR1419656'</li><li>'SRR1406621'</li><li>'SRR1386945'</li><li>'SRR1391511'</li><li>'SRR1335212'</li><li>'SRR1335917'</li><li>'SRR1391575'</li><li>'SRR1336181'</li><li>'SRR1314092'</li><li>'SRR1323829'</li><li>'SRR1327896'</li><li>'SRR1403814'</li><li>'SRR1457705'</li><li>'SRR1408574'</li><li>'SRR1102949'</li><li>'SRR1381799'</li><li>'SRR1317282'</li><li>'SRR1318774'</li><li>'SRR1388399'</li><li>'SRR1393026'</li><li>'SRR1477273'</li><li>'SRR1409421'</li><li>'SRR1415420'</li><li>'SRR1420238'</li><li>'SRR1407648'</li><li>'SRR1498416'</li><li>'SRR1417422'</li><li>'SRR1489589'</li><li>'SRR1099981'</li><li>'SRR1324206'</li><li>'SRR1469237'</li><li>'SRR1465693'</li><li>'SRR1435946'</li><li>'SRR1328941'</li><li>'SRR1498997'</li><li>'SRR1434955'</li><li>'SRR1409620'</li><li>'SRR1481297'</li><li>'SRR1310667'</li><li>'SRR1420296'</li><li>'SRR1410765'</li><li>'SRR1334587'</li><li>'SRR1488196'</li><li>'SRR1458090'</li><li>'SRR1454158'</li><li>'SRR1454009'</li><li>'SRR1469547'</li><li>'SRR1490246'</li><li>'SRR1481315'</li><li>'SRR1477671'</li><li>'SRR1446354'</li><li>'SRR1386775'</li><li>'SRR1394912'</li><li>'SRR1409397'</li><li>'SRR1486262'</li><li>'SRR1100472'</li><li>'SRR1105009'</li><li>'SRR1456818'</li><li>'SRR1396682'</li><li>'SRR1455902'</li><li>'SRR1312822'</li><li>'SRR1420517'</li><li>'SRR1458335'</li><li>'SRR1498951'</li><li>'SRR1489803'</li><li>'SRR1436990'</li><li>'SRR1331267'</li><li>'SRR1100893'</li><li>'SRR1388281'</li><li>'SRR1389432'</li><li>'SRR1310158'</li></ol>\n"
      ],
      "text/latex": [
       "\\begin{enumerate*}\n",
       "\\item 'SRR821498'\n",
       "\\item 'SRR808428'\n",
       "\\item 'SRR808942'\n",
       "\\item 'SRR1090046'\n",
       "\\item 'SRR1090674'\n",
       "\\item 'SRR1090791'\n",
       "\\item 'SRR1091097'\n",
       "\\item 'SRR1091791'\n",
       "\\item 'SRR1095816'\n",
       "\\item 'SRR1096547'\n",
       "\\item 'SRR1096987'\n",
       "\\item 'SRR1098264'\n",
       "\\item 'SRR1357826'\n",
       "\\item 'SRR1359147'\n",
       "\\item 'SRR1361499'\n",
       "\\item 'SRR1364871'\n",
       "\\item 'SRR1365534'\n",
       "\\item 'SRR1365622'\n",
       "\\item 'SRR1367024'\n",
       "\\item 'SRR1429181'\n",
       "\\item 'SRR1430615'\n",
       "\\item 'SRR1433374'\n",
       "\\item 'SRR1352457'\n",
       "\\item 'SRR1353994'\n",
       "\\item 'SRR1356746'\n",
       "\\item 'SRR1357166'\n",
       "\\item 'SRR1079948'\n",
       "\\item 'SRR1081023'\n",
       "\\item 'SRR1082859'\n",
       "\\item 'SRR1083052'\n",
       "\\item 'SRR1083959'\n",
       "\\item 'SRR1084079'\n",
       "\\item 'SRR1084674'\n",
       "\\item 'SRR1086538'\n",
       "\\item 'SRR1086772'\n",
       "\\item 'SRR811285'\n",
       "\\item 'SRR812198'\n",
       "\\item 'SRR815208'\n",
       "\\item 'SRR820571'\n",
       "\\item 'SRR655852'\n",
       "\\item 'SRR656911'\n",
       "\\item 'SRR657528'\n",
       "\\item 'SRR1341100'\n",
       "\\item 'SRR1341539'\n",
       "\\item 'SRR1342873'\n",
       "\\item 'SRR1343818'\n",
       "\\item 'SRR1345953'\n",
       "\\item 'SRR1339236'\n",
       "\\item 'SRR1339431'\n",
       "\\item 'SRR615910'\n",
       "\\item 'SRR1378903'\n",
       "\\item 'SRR658105'\n",
       "\\item 'SRR658319'\n",
       "\\item 'SRR658409'\n",
       "\\item 'SRR659223'\n",
       "\\item 'SRR660248'\n",
       "\\item 'SRR660283'\n",
       "\\item 'SRR662306'\n",
       "\\item 'SRR662378'\n",
       "\\item 'SRR662811'\n",
       "\\item 'SRR1368050'\n",
       "\\item 'SRR1369088'\n",
       "\\item 'SRR1369584'\n",
       "\\item 'SRR1370308'\n",
       "\\item 'SRR1378284'\n",
       "\\item 'SRR1378948'\n",
       "\\item 'SRR1380460'\n",
       "\\item 'SRR1068977'\n",
       "\\item 'SRR1068999'\n",
       "\\item 'SRR1070208'\n",
       "\\item 'SRR1071084'\n",
       "\\item 'SRR1071905'\n",
       "\\item 'SRR1074860'\n",
       "\\item 'SRR1075484'\n",
       "\\item 'SRR1076219'\n",
       "\\item 'SRR1076441'\n",
       "\\item 'SRR1077139'\n",
       "\\item 'SRR1077920'\n",
       "\\item 'SRR1078258'\n",
       "\\item 'SRR5125544'\n",
       "\\item 'SRR5125545'\n",
       "\\item 'SRR1437073'\n",
       "\\item 'SRR1420936'\n",
       "\\item 'SRR1464702'\n",
       "\\item 'SRR1473124'\n",
       "\\item 'SRR1473403'\n",
       "\\item 'SRR1481128'\n",
       "\\item 'SRR1488586'\n",
       "\\item 'SRR1455807'\n",
       "\\item 'SRR1469681'\n",
       "\\item 'SRR1467522'\n",
       "\\item 'SRR1475408'\n",
       "\\item 'SRR1455861'\n",
       "\\item 'SRR1469279'\n",
       "\\item 'SRR1485398'\n",
       "\\item 'SRR1415257'\n",
       "\\item 'SRR1328577'\n",
       "\\item 'SRR1488694'\n",
       "\\item 'SRR1472415'\n",
       "\\item 'SRR1472506'\n",
       "\\item 'SRR1472907'\n",
       "\\item 'SRR1418729'\n",
       "\\item 'SRR1472704'\n",
       "\\item 'SRR1475824'\n",
       "\\item 'SRR1500709'\n",
       "\\item 'SRR1413392'\n",
       "\\item 'SRR1476950'\n",
       "\\item 'SRR1486457'\n",
       "\\item 'SRR1404887'\n",
       "\\item 'SRR1406224'\n",
       "\\item 'SRR1439915'\n",
       "\\item 'SRR1417894'\n",
       "\\item 'SRR1414661'\n",
       "\\item 'SRR1455391'\n",
       "\\item 'SRR1456010'\n",
       "\\item 'SRR1459561'\n",
       "\\item 'SRR1459866'\n",
       "\\item 'SRR1322249'\n",
       "\\item 'SRR1415792'\n",
       "\\item 'SRR1417725'\n",
       "\\item 'SRR1419656'\n",
       "\\item 'SRR1406621'\n",
       "\\item 'SRR1386945'\n",
       "\\item 'SRR1391511'\n",
       "\\item 'SRR1335212'\n",
       "\\item 'SRR1335917'\n",
       "\\item 'SRR1391575'\n",
       "\\item 'SRR1336181'\n",
       "\\item 'SRR1314092'\n",
       "\\item 'SRR1323829'\n",
       "\\item 'SRR1327896'\n",
       "\\item 'SRR1403814'\n",
       "\\item 'SRR1457705'\n",
       "\\item 'SRR1408574'\n",
       "\\item 'SRR1102949'\n",
       "\\item 'SRR1381799'\n",
       "\\item 'SRR1317282'\n",
       "\\item 'SRR1318774'\n",
       "\\item 'SRR1388399'\n",
       "\\item 'SRR1393026'\n",
       "\\item 'SRR1477273'\n",
       "\\item 'SRR1409421'\n",
       "\\item 'SRR1415420'\n",
       "\\item 'SRR1420238'\n",
       "\\item 'SRR1407648'\n",
       "\\item 'SRR1498416'\n",
       "\\item 'SRR1417422'\n",
       "\\item 'SRR1489589'\n",
       "\\item 'SRR1099981'\n",
       "\\item 'SRR1324206'\n",
       "\\item 'SRR1469237'\n",
       "\\item 'SRR1465693'\n",
       "\\item 'SRR1435946'\n",
       "\\item 'SRR1328941'\n",
       "\\item 'SRR1498997'\n",
       "\\item 'SRR1434955'\n",
       "\\item 'SRR1409620'\n",
       "\\item 'SRR1481297'\n",
       "\\item 'SRR1310667'\n",
       "\\item 'SRR1420296'\n",
       "\\item 'SRR1410765'\n",
       "\\item 'SRR1334587'\n",
       "\\item 'SRR1488196'\n",
       "\\item 'SRR1458090'\n",
       "\\item 'SRR1454158'\n",
       "\\item 'SRR1454009'\n",
       "\\item 'SRR1469547'\n",
       "\\item 'SRR1490246'\n",
       "\\item 'SRR1481315'\n",
       "\\item 'SRR1477671'\n",
       "\\item 'SRR1446354'\n",
       "\\item 'SRR1386775'\n",
       "\\item 'SRR1394912'\n",
       "\\item 'SRR1409397'\n",
       "\\item 'SRR1486262'\n",
       "\\item 'SRR1100472'\n",
       "\\item 'SRR1105009'\n",
       "\\item 'SRR1456818'\n",
       "\\item 'SRR1396682'\n",
       "\\item 'SRR1455902'\n",
       "\\item 'SRR1312822'\n",
       "\\item 'SRR1420517'\n",
       "\\item 'SRR1458335'\n",
       "\\item 'SRR1498951'\n",
       "\\item 'SRR1489803'\n",
       "\\item 'SRR1436990'\n",
       "\\item 'SRR1331267'\n",
       "\\item 'SRR1100893'\n",
       "\\item 'SRR1388281'\n",
       "\\item 'SRR1389432'\n",
       "\\item 'SRR1310158'\n",
       "\\item 'SRR821498'\n",
       "\\item 'SRR808428'\n",
       "\\item 'SRR808942'\n",
       "\\item 'SRR1090046'\n",
       "\\item 'SRR1090674'\n",
       "\\item 'SRR1090791'\n",
       "\\item 'SRR1091097'\n",
       "\\item 'SRR1091791'\n",
       "\\item 'SRR1095816'\n",
       "\\item 'SRR1096547'\n",
       "\\item 'SRR1096987'\n",
       "\\item 'SRR1098264'\n",
       "\\item 'SRR1357826'\n",
       "\\item 'SRR1359147'\n",
       "\\item 'SRR1361499'\n",
       "\\item 'SRR1364871'\n",
       "\\item 'SRR1365534'\n",
       "\\item 'SRR1365622'\n",
       "\\item 'SRR1367024'\n",
       "\\item 'SRR1429181'\n",
       "\\item 'SRR1430615'\n",
       "\\item 'SRR1433374'\n",
       "\\item 'SRR1352457'\n",
       "\\item 'SRR1353994'\n",
       "\\item 'SRR1356746'\n",
       "\\item 'SRR1357166'\n",
       "\\item 'SRR1079948'\n",
       "\\item 'SRR1081023'\n",
       "\\item 'SRR1082859'\n",
       "\\item 'SRR1083052'\n",
       "\\item 'SRR1083959'\n",
       "\\item 'SRR1084079'\n",
       "\\item 'SRR1084674'\n",
       "\\item 'SRR1086538'\n",
       "\\item 'SRR1086772'\n",
       "\\item 'SRR811285'\n",
       "\\item 'SRR812198'\n",
       "\\item 'SRR815208'\n",
       "\\item 'SRR820571'\n",
       "\\item 'SRR655852'\n",
       "\\item 'SRR656911'\n",
       "\\item 'SRR657528'\n",
       "\\item 'SRR1341100'\n",
       "\\item 'SRR1341539'\n",
       "\\item 'SRR1342873'\n",
       "\\item 'SRR1343818'\n",
       "\\item 'SRR1345953'\n",
       "\\item 'SRR1339236'\n",
       "\\item 'SRR1339431'\n",
       "\\item 'SRR615910'\n",
       "\\item 'SRR1378903'\n",
       "\\item 'SRR658105'\n",
       "\\item 'SRR658319'\n",
       "\\item 'SRR658409'\n",
       "\\item 'SRR659223'\n",
       "\\item 'SRR660248'\n",
       "\\item 'SRR660283'\n",
       "\\item 'SRR662306'\n",
       "\\item 'SRR662378'\n",
       "\\item 'SRR662811'\n",
       "\\item 'SRR1368050'\n",
       "\\item 'SRR1369088'\n",
       "\\item 'SRR1369584'\n",
       "\\item 'SRR1370308'\n",
       "\\item 'SRR1378284'\n",
       "\\item 'SRR1378948'\n",
       "\\item 'SRR1380460'\n",
       "\\item 'SRR1068977'\n",
       "\\item 'SRR1068999'\n",
       "\\item 'SRR1070208'\n",
       "\\item 'SRR1071084'\n",
       "\\item 'SRR1071905'\n",
       "\\item 'SRR1074860'\n",
       "\\item 'SRR1075484'\n",
       "\\item 'SRR1076219'\n",
       "\\item 'SRR1076441'\n",
       "\\item 'SRR1077139'\n",
       "\\item 'SRR1077920'\n",
       "\\item 'SRR1078258'\n",
       "\\item 'SRR5125544'\n",
       "\\item 'SRR5125545'\n",
       "\\item 'SRR1437073'\n",
       "\\item 'SRR1420936'\n",
       "\\item 'SRR1464702'\n",
       "\\item 'SRR1473124'\n",
       "\\item 'SRR1473403'\n",
       "\\item 'SRR1481128'\n",
       "\\item 'SRR1488586'\n",
       "\\item 'SRR1455807'\n",
       "\\item 'SRR1469681'\n",
       "\\item 'SRR1467522'\n",
       "\\item 'SRR1475408'\n",
       "\\item 'SRR1455861'\n",
       "\\item 'SRR1469279'\n",
       "\\item 'SRR1485398'\n",
       "\\item 'SRR1415257'\n",
       "\\item 'SRR1328577'\n",
       "\\item 'SRR1488694'\n",
       "\\item 'SRR1472415'\n",
       "\\item 'SRR1472506'\n",
       "\\item 'SRR1472907'\n",
       "\\item 'SRR1418729'\n",
       "\\item 'SRR1472704'\n",
       "\\item 'SRR1475824'\n",
       "\\item 'SRR1500709'\n",
       "\\item 'SRR1413392'\n",
       "\\item 'SRR1476950'\n",
       "\\item 'SRR1486457'\n",
       "\\item 'SRR1404887'\n",
       "\\item 'SRR1406224'\n",
       "\\item 'SRR1439915'\n",
       "\\item 'SRR1417894'\n",
       "\\item 'SRR1414661'\n",
       "\\item 'SRR1455391'\n",
       "\\item 'SRR1456010'\n",
       "\\item 'SRR1459561'\n",
       "\\item 'SRR1459866'\n",
       "\\item 'SRR1322249'\n",
       "\\item 'SRR1415792'\n",
       "\\item 'SRR1417725'\n",
       "\\item 'SRR1419656'\n",
       "\\item 'SRR1406621'\n",
       "\\item 'SRR1386945'\n",
       "\\item 'SRR1391511'\n",
       "\\item 'SRR1335212'\n",
       "\\item 'SRR1335917'\n",
       "\\item 'SRR1391575'\n",
       "\\item 'SRR1336181'\n",
       "\\item 'SRR1314092'\n",
       "\\item 'SRR1323829'\n",
       "\\item 'SRR1327896'\n",
       "\\item 'SRR1403814'\n",
       "\\item 'SRR1457705'\n",
       "\\item 'SRR1408574'\n",
       "\\item 'SRR1102949'\n",
       "\\item 'SRR1381799'\n",
       "\\item 'SRR1317282'\n",
       "\\item 'SRR1318774'\n",
       "\\item 'SRR1388399'\n",
       "\\item 'SRR1393026'\n",
       "\\item 'SRR1477273'\n",
       "\\item 'SRR1409421'\n",
       "\\item 'SRR1415420'\n",
       "\\item 'SRR1420238'\n",
       "\\item 'SRR1407648'\n",
       "\\item 'SRR1498416'\n",
       "\\item 'SRR1417422'\n",
       "\\item 'SRR1489589'\n",
       "\\item 'SRR1099981'\n",
       "\\item 'SRR1324206'\n",
       "\\item 'SRR1469237'\n",
       "\\item 'SRR1465693'\n",
       "\\item 'SRR1435946'\n",
       "\\item 'SRR1328941'\n",
       "\\item 'SRR1498997'\n",
       "\\item 'SRR1434955'\n",
       "\\item 'SRR1409620'\n",
       "\\item 'SRR1481297'\n",
       "\\item 'SRR1310667'\n",
       "\\item 'SRR1420296'\n",
       "\\item 'SRR1410765'\n",
       "\\item 'SRR1334587'\n",
       "\\item 'SRR1488196'\n",
       "\\item 'SRR1458090'\n",
       "\\item 'SRR1454158'\n",
       "\\item 'SRR1454009'\n",
       "\\item 'SRR1469547'\n",
       "\\item 'SRR1490246'\n",
       "\\item 'SRR1481315'\n",
       "\\item 'SRR1477671'\n",
       "\\item 'SRR1446354'\n",
       "\\item 'SRR1386775'\n",
       "\\item 'SRR1394912'\n",
       "\\item 'SRR1409397'\n",
       "\\item 'SRR1486262'\n",
       "\\item 'SRR1100472'\n",
       "\\item 'SRR1105009'\n",
       "\\item 'SRR1456818'\n",
       "\\item 'SRR1396682'\n",
       "\\item 'SRR1455902'\n",
       "\\item 'SRR1312822'\n",
       "\\item 'SRR1420517'\n",
       "\\item 'SRR1458335'\n",
       "\\item 'SRR1498951'\n",
       "\\item 'SRR1489803'\n",
       "\\item 'SRR1436990'\n",
       "\\item 'SRR1331267'\n",
       "\\item 'SRR1100893'\n",
       "\\item 'SRR1388281'\n",
       "\\item 'SRR1389432'\n",
       "\\item 'SRR1310158'\n",
       "\\end{enumerate*}\n"
      ],
      "text/markdown": [
       "1. 'SRR821498'\n",
       "2. 'SRR808428'\n",
       "3. 'SRR808942'\n",
       "4. 'SRR1090046'\n",
       "5. 'SRR1090674'\n",
       "6. 'SRR1090791'\n",
       "7. 'SRR1091097'\n",
       "8. 'SRR1091791'\n",
       "9. 'SRR1095816'\n",
       "10. 'SRR1096547'\n",
       "11. 'SRR1096987'\n",
       "12. 'SRR1098264'\n",
       "13. 'SRR1357826'\n",
       "14. 'SRR1359147'\n",
       "15. 'SRR1361499'\n",
       "16. 'SRR1364871'\n",
       "17. 'SRR1365534'\n",
       "18. 'SRR1365622'\n",
       "19. 'SRR1367024'\n",
       "20. 'SRR1429181'\n",
       "21. 'SRR1430615'\n",
       "22. 'SRR1433374'\n",
       "23. 'SRR1352457'\n",
       "24. 'SRR1353994'\n",
       "25. 'SRR1356746'\n",
       "26. 'SRR1357166'\n",
       "27. 'SRR1079948'\n",
       "28. 'SRR1081023'\n",
       "29. 'SRR1082859'\n",
       "30. 'SRR1083052'\n",
       "31. 'SRR1083959'\n",
       "32. 'SRR1084079'\n",
       "33. 'SRR1084674'\n",
       "34. 'SRR1086538'\n",
       "35. 'SRR1086772'\n",
       "36. 'SRR811285'\n",
       "37. 'SRR812198'\n",
       "38. 'SRR815208'\n",
       "39. 'SRR820571'\n",
       "40. 'SRR655852'\n",
       "41. 'SRR656911'\n",
       "42. 'SRR657528'\n",
       "43. 'SRR1341100'\n",
       "44. 'SRR1341539'\n",
       "45. 'SRR1342873'\n",
       "46. 'SRR1343818'\n",
       "47. 'SRR1345953'\n",
       "48. 'SRR1339236'\n",
       "49. 'SRR1339431'\n",
       "50. 'SRR615910'\n",
       "51. 'SRR1378903'\n",
       "52. 'SRR658105'\n",
       "53. 'SRR658319'\n",
       "54. 'SRR658409'\n",
       "55. 'SRR659223'\n",
       "56. 'SRR660248'\n",
       "57. 'SRR660283'\n",
       "58. 'SRR662306'\n",
       "59. 'SRR662378'\n",
       "60. 'SRR662811'\n",
       "61. 'SRR1368050'\n",
       "62. 'SRR1369088'\n",
       "63. 'SRR1369584'\n",
       "64. 'SRR1370308'\n",
       "65. 'SRR1378284'\n",
       "66. 'SRR1378948'\n",
       "67. 'SRR1380460'\n",
       "68. 'SRR1068977'\n",
       "69. 'SRR1068999'\n",
       "70. 'SRR1070208'\n",
       "71. 'SRR1071084'\n",
       "72. 'SRR1071905'\n",
       "73. 'SRR1074860'\n",
       "74. 'SRR1075484'\n",
       "75. 'SRR1076219'\n",
       "76. 'SRR1076441'\n",
       "77. 'SRR1077139'\n",
       "78. 'SRR1077920'\n",
       "79. 'SRR1078258'\n",
       "80. 'SRR5125544'\n",
       "81. 'SRR5125545'\n",
       "82. 'SRR1437073'\n",
       "83. 'SRR1420936'\n",
       "84. 'SRR1464702'\n",
       "85. 'SRR1473124'\n",
       "86. 'SRR1473403'\n",
       "87. 'SRR1481128'\n",
       "88. 'SRR1488586'\n",
       "89. 'SRR1455807'\n",
       "90. 'SRR1469681'\n",
       "91. 'SRR1467522'\n",
       "92. 'SRR1475408'\n",
       "93. 'SRR1455861'\n",
       "94. 'SRR1469279'\n",
       "95. 'SRR1485398'\n",
       "96. 'SRR1415257'\n",
       "97. 'SRR1328577'\n",
       "98. 'SRR1488694'\n",
       "99. 'SRR1472415'\n",
       "100. 'SRR1472506'\n",
       "101. 'SRR1472907'\n",
       "102. 'SRR1418729'\n",
       "103. 'SRR1472704'\n",
       "104. 'SRR1475824'\n",
       "105. 'SRR1500709'\n",
       "106. 'SRR1413392'\n",
       "107. 'SRR1476950'\n",
       "108. 'SRR1486457'\n",
       "109. 'SRR1404887'\n",
       "110. 'SRR1406224'\n",
       "111. 'SRR1439915'\n",
       "112. 'SRR1417894'\n",
       "113. 'SRR1414661'\n",
       "114. 'SRR1455391'\n",
       "115. 'SRR1456010'\n",
       "116. 'SRR1459561'\n",
       "117. 'SRR1459866'\n",
       "118. 'SRR1322249'\n",
       "119. 'SRR1415792'\n",
       "120. 'SRR1417725'\n",
       "121. 'SRR1419656'\n",
       "122. 'SRR1406621'\n",
       "123. 'SRR1386945'\n",
       "124. 'SRR1391511'\n",
       "125. 'SRR1335212'\n",
       "126. 'SRR1335917'\n",
       "127. 'SRR1391575'\n",
       "128. 'SRR1336181'\n",
       "129. 'SRR1314092'\n",
       "130. 'SRR1323829'\n",
       "131. 'SRR1327896'\n",
       "132. 'SRR1403814'\n",
       "133. 'SRR1457705'\n",
       "134. 'SRR1408574'\n",
       "135. 'SRR1102949'\n",
       "136. 'SRR1381799'\n",
       "137. 'SRR1317282'\n",
       "138. 'SRR1318774'\n",
       "139. 'SRR1388399'\n",
       "140. 'SRR1393026'\n",
       "141. 'SRR1477273'\n",
       "142. 'SRR1409421'\n",
       "143. 'SRR1415420'\n",
       "144. 'SRR1420238'\n",
       "145. 'SRR1407648'\n",
       "146. 'SRR1498416'\n",
       "147. 'SRR1417422'\n",
       "148. 'SRR1489589'\n",
       "149. 'SRR1099981'\n",
       "150. 'SRR1324206'\n",
       "151. 'SRR1469237'\n",
       "152. 'SRR1465693'\n",
       "153. 'SRR1435946'\n",
       "154. 'SRR1328941'\n",
       "155. 'SRR1498997'\n",
       "156. 'SRR1434955'\n",
       "157. 'SRR1409620'\n",
       "158. 'SRR1481297'\n",
       "159. 'SRR1310667'\n",
       "160. 'SRR1420296'\n",
       "161. 'SRR1410765'\n",
       "162. 'SRR1334587'\n",
       "163. 'SRR1488196'\n",
       "164. 'SRR1458090'\n",
       "165. 'SRR1454158'\n",
       "166. 'SRR1454009'\n",
       "167. 'SRR1469547'\n",
       "168. 'SRR1490246'\n",
       "169. 'SRR1481315'\n",
       "170. 'SRR1477671'\n",
       "171. 'SRR1446354'\n",
       "172. 'SRR1386775'\n",
       "173. 'SRR1394912'\n",
       "174. 'SRR1409397'\n",
       "175. 'SRR1486262'\n",
       "176. 'SRR1100472'\n",
       "177. 'SRR1105009'\n",
       "178. 'SRR1456818'\n",
       "179. 'SRR1396682'\n",
       "180. 'SRR1455902'\n",
       "181. 'SRR1312822'\n",
       "182. 'SRR1420517'\n",
       "183. 'SRR1458335'\n",
       "184. 'SRR1498951'\n",
       "185. 'SRR1489803'\n",
       "186. 'SRR1436990'\n",
       "187. 'SRR1331267'\n",
       "188. 'SRR1100893'\n",
       "189. 'SRR1388281'\n",
       "190. 'SRR1389432'\n",
       "191. 'SRR1310158'\n",
       "192. 'SRR821498'\n",
       "193. 'SRR808428'\n",
       "194. 'SRR808942'\n",
       "195. 'SRR1090046'\n",
       "196. 'SRR1090674'\n",
       "197. 'SRR1090791'\n",
       "198. 'SRR1091097'\n",
       "199. 'SRR1091791'\n",
       "200. 'SRR1095816'\n",
       "201. 'SRR1096547'\n",
       "202. 'SRR1096987'\n",
       "203. 'SRR1098264'\n",
       "204. 'SRR1357826'\n",
       "205. 'SRR1359147'\n",
       "206. 'SRR1361499'\n",
       "207. 'SRR1364871'\n",
       "208. 'SRR1365534'\n",
       "209. 'SRR1365622'\n",
       "210. 'SRR1367024'\n",
       "211. 'SRR1429181'\n",
       "212. 'SRR1430615'\n",
       "213. 'SRR1433374'\n",
       "214. 'SRR1352457'\n",
       "215. 'SRR1353994'\n",
       "216. 'SRR1356746'\n",
       "217. 'SRR1357166'\n",
       "218. 'SRR1079948'\n",
       "219. 'SRR1081023'\n",
       "220. 'SRR1082859'\n",
       "221. 'SRR1083052'\n",
       "222. 'SRR1083959'\n",
       "223. 'SRR1084079'\n",
       "224. 'SRR1084674'\n",
       "225. 'SRR1086538'\n",
       "226. 'SRR1086772'\n",
       "227. 'SRR811285'\n",
       "228. 'SRR812198'\n",
       "229. 'SRR815208'\n",
       "230. 'SRR820571'\n",
       "231. 'SRR655852'\n",
       "232. 'SRR656911'\n",
       "233. 'SRR657528'\n",
       "234. 'SRR1341100'\n",
       "235. 'SRR1341539'\n",
       "236. 'SRR1342873'\n",
       "237. 'SRR1343818'\n",
       "238. 'SRR1345953'\n",
       "239. 'SRR1339236'\n",
       "240. 'SRR1339431'\n",
       "241. 'SRR615910'\n",
       "242. 'SRR1378903'\n",
       "243. 'SRR658105'\n",
       "244. 'SRR658319'\n",
       "245. 'SRR658409'\n",
       "246. 'SRR659223'\n",
       "247. 'SRR660248'\n",
       "248. 'SRR660283'\n",
       "249. 'SRR662306'\n",
       "250. 'SRR662378'\n",
       "251. 'SRR662811'\n",
       "252. 'SRR1368050'\n",
       "253. 'SRR1369088'\n",
       "254. 'SRR1369584'\n",
       "255. 'SRR1370308'\n",
       "256. 'SRR1378284'\n",
       "257. 'SRR1378948'\n",
       "258. 'SRR1380460'\n",
       "259. 'SRR1068977'\n",
       "260. 'SRR1068999'\n",
       "261. 'SRR1070208'\n",
       "262. 'SRR1071084'\n",
       "263. 'SRR1071905'\n",
       "264. 'SRR1074860'\n",
       "265. 'SRR1075484'\n",
       "266. 'SRR1076219'\n",
       "267. 'SRR1076441'\n",
       "268. 'SRR1077139'\n",
       "269. 'SRR1077920'\n",
       "270. 'SRR1078258'\n",
       "271. 'SRR5125544'\n",
       "272. 'SRR5125545'\n",
       "273. 'SRR1437073'\n",
       "274. 'SRR1420936'\n",
       "275. 'SRR1464702'\n",
       "276. 'SRR1473124'\n",
       "277. 'SRR1473403'\n",
       "278. 'SRR1481128'\n",
       "279. 'SRR1488586'\n",
       "280. 'SRR1455807'\n",
       "281. 'SRR1469681'\n",
       "282. 'SRR1467522'\n",
       "283. 'SRR1475408'\n",
       "284. 'SRR1455861'\n",
       "285. 'SRR1469279'\n",
       "286. 'SRR1485398'\n",
       "287. 'SRR1415257'\n",
       "288. 'SRR1328577'\n",
       "289. 'SRR1488694'\n",
       "290. 'SRR1472415'\n",
       "291. 'SRR1472506'\n",
       "292. 'SRR1472907'\n",
       "293. 'SRR1418729'\n",
       "294. 'SRR1472704'\n",
       "295. 'SRR1475824'\n",
       "296. 'SRR1500709'\n",
       "297. 'SRR1413392'\n",
       "298. 'SRR1476950'\n",
       "299. 'SRR1486457'\n",
       "300. 'SRR1404887'\n",
       "301. 'SRR1406224'\n",
       "302. 'SRR1439915'\n",
       "303. 'SRR1417894'\n",
       "304. 'SRR1414661'\n",
       "305. 'SRR1455391'\n",
       "306. 'SRR1456010'\n",
       "307. 'SRR1459561'\n",
       "308. 'SRR1459866'\n",
       "309. 'SRR1322249'\n",
       "310. 'SRR1415792'\n",
       "311. 'SRR1417725'\n",
       "312. 'SRR1419656'\n",
       "313. 'SRR1406621'\n",
       "314. 'SRR1386945'\n",
       "315. 'SRR1391511'\n",
       "316. 'SRR1335212'\n",
       "317. 'SRR1335917'\n",
       "318. 'SRR1391575'\n",
       "319. 'SRR1336181'\n",
       "320. 'SRR1314092'\n",
       "321. 'SRR1323829'\n",
       "322. 'SRR1327896'\n",
       "323. 'SRR1403814'\n",
       "324. 'SRR1457705'\n",
       "325. 'SRR1408574'\n",
       "326. 'SRR1102949'\n",
       "327. 'SRR1381799'\n",
       "328. 'SRR1317282'\n",
       "329. 'SRR1318774'\n",
       "330. 'SRR1388399'\n",
       "331. 'SRR1393026'\n",
       "332. 'SRR1477273'\n",
       "333. 'SRR1409421'\n",
       "334. 'SRR1415420'\n",
       "335. 'SRR1420238'\n",
       "336. 'SRR1407648'\n",
       "337. 'SRR1498416'\n",
       "338. 'SRR1417422'\n",
       "339. 'SRR1489589'\n",
       "340. 'SRR1099981'\n",
       "341. 'SRR1324206'\n",
       "342. 'SRR1469237'\n",
       "343. 'SRR1465693'\n",
       "344. 'SRR1435946'\n",
       "345. 'SRR1328941'\n",
       "346. 'SRR1498997'\n",
       "347. 'SRR1434955'\n",
       "348. 'SRR1409620'\n",
       "349. 'SRR1481297'\n",
       "350. 'SRR1310667'\n",
       "351. 'SRR1420296'\n",
       "352. 'SRR1410765'\n",
       "353. 'SRR1334587'\n",
       "354. 'SRR1488196'\n",
       "355. 'SRR1458090'\n",
       "356. 'SRR1454158'\n",
       "357. 'SRR1454009'\n",
       "358. 'SRR1469547'\n",
       "359. 'SRR1490246'\n",
       "360. 'SRR1481315'\n",
       "361. 'SRR1477671'\n",
       "362. 'SRR1446354'\n",
       "363. 'SRR1386775'\n",
       "364. 'SRR1394912'\n",
       "365. 'SRR1409397'\n",
       "366. 'SRR1486262'\n",
       "367. 'SRR1100472'\n",
       "368. 'SRR1105009'\n",
       "369. 'SRR1456818'\n",
       "370. 'SRR1396682'\n",
       "371. 'SRR1455902'\n",
       "372. 'SRR1312822'\n",
       "373. 'SRR1420517'\n",
       "374. 'SRR1458335'\n",
       "375. 'SRR1498951'\n",
       "376. 'SRR1489803'\n",
       "377. 'SRR1436990'\n",
       "378. 'SRR1331267'\n",
       "379. 'SRR1100893'\n",
       "380. 'SRR1388281'\n",
       "381. 'SRR1389432'\n",
       "382. 'SRR1310158'\n",
       "\n",
       "\n"
      ],
      "text/plain": [
       "  [1] \"SRR821498\"  \"SRR808428\"  \"SRR808942\"  \"SRR1090046\" \"SRR1090674\"\n",
       "  [6] \"SRR1090791\" \"SRR1091097\" \"SRR1091791\" \"SRR1095816\" \"SRR1096547\"\n",
       " [11] \"SRR1096987\" \"SRR1098264\" \"SRR1357826\" \"SRR1359147\" \"SRR1361499\"\n",
       " [16] \"SRR1364871\" \"SRR1365534\" \"SRR1365622\" \"SRR1367024\" \"SRR1429181\"\n",
       " [21] \"SRR1430615\" \"SRR1433374\" \"SRR1352457\" \"SRR1353994\" \"SRR1356746\"\n",
       " [26] \"SRR1357166\" \"SRR1079948\" \"SRR1081023\" \"SRR1082859\" \"SRR1083052\"\n",
       " [31] \"SRR1083959\" \"SRR1084079\" \"SRR1084674\" \"SRR1086538\" \"SRR1086772\"\n",
       " [36] \"SRR811285\"  \"SRR812198\"  \"SRR815208\"  \"SRR820571\"  \"SRR655852\" \n",
       " [41] \"SRR656911\"  \"SRR657528\"  \"SRR1341100\" \"SRR1341539\" \"SRR1342873\"\n",
       " [46] \"SRR1343818\" \"SRR1345953\" \"SRR1339236\" \"SRR1339431\" \"SRR615910\" \n",
       " [51] \"SRR1378903\" \"SRR658105\"  \"SRR658319\"  \"SRR658409\"  \"SRR659223\" \n",
       " [56] \"SRR660248\"  \"SRR660283\"  \"SRR662306\"  \"SRR662378\"  \"SRR662811\" \n",
       " [61] \"SRR1368050\" \"SRR1369088\" \"SRR1369584\" \"SRR1370308\" \"SRR1378284\"\n",
       " [66] \"SRR1378948\" \"SRR1380460\" \"SRR1068977\" \"SRR1068999\" \"SRR1070208\"\n",
       " [71] \"SRR1071084\" \"SRR1071905\" \"SRR1074860\" \"SRR1075484\" \"SRR1076219\"\n",
       " [76] \"SRR1076441\" \"SRR1077139\" \"SRR1077920\" \"SRR1078258\" \"SRR5125544\"\n",
       " [81] \"SRR5125545\" \"SRR1437073\" \"SRR1420936\" \"SRR1464702\" \"SRR1473124\"\n",
       " [86] \"SRR1473403\" \"SRR1481128\" \"SRR1488586\" \"SRR1455807\" \"SRR1469681\"\n",
       " [91] \"SRR1467522\" \"SRR1475408\" \"SRR1455861\" \"SRR1469279\" \"SRR1485398\"\n",
       " [96] \"SRR1415257\" \"SRR1328577\" \"SRR1488694\" \"SRR1472415\" \"SRR1472506\"\n",
       "[101] \"SRR1472907\" \"SRR1418729\" \"SRR1472704\" \"SRR1475824\" \"SRR1500709\"\n",
       "[106] \"SRR1413392\" \"SRR1476950\" \"SRR1486457\" \"SRR1404887\" \"SRR1406224\"\n",
       "[111] \"SRR1439915\" \"SRR1417894\" \"SRR1414661\" \"SRR1455391\" \"SRR1456010\"\n",
       "[116] \"SRR1459561\" \"SRR1459866\" \"SRR1322249\" \"SRR1415792\" \"SRR1417725\"\n",
       "[121] \"SRR1419656\" \"SRR1406621\" \"SRR1386945\" \"SRR1391511\" \"SRR1335212\"\n",
       "[126] \"SRR1335917\" \"SRR1391575\" \"SRR1336181\" \"SRR1314092\" \"SRR1323829\"\n",
       "[131] \"SRR1327896\" \"SRR1403814\" \"SRR1457705\" \"SRR1408574\" \"SRR1102949\"\n",
       "[136] \"SRR1381799\" \"SRR1317282\" \"SRR1318774\" \"SRR1388399\" \"SRR1393026\"\n",
       "[141] \"SRR1477273\" \"SRR1409421\" \"SRR1415420\" \"SRR1420238\" \"SRR1407648\"\n",
       "[146] \"SRR1498416\" \"SRR1417422\" \"SRR1489589\" \"SRR1099981\" \"SRR1324206\"\n",
       "[151] \"SRR1469237\" \"SRR1465693\" \"SRR1435946\" \"SRR1328941\" \"SRR1498997\"\n",
       "[156] \"SRR1434955\" \"SRR1409620\" \"SRR1481297\" \"SRR1310667\" \"SRR1420296\"\n",
       "[161] \"SRR1410765\" \"SRR1334587\" \"SRR1488196\" \"SRR1458090\" \"SRR1454158\"\n",
       "[166] \"SRR1454009\" \"SRR1469547\" \"SRR1490246\" \"SRR1481315\" \"SRR1477671\"\n",
       "[171] \"SRR1446354\" \"SRR1386775\" \"SRR1394912\" \"SRR1409397\" \"SRR1486262\"\n",
       "[176] \"SRR1100472\" \"SRR1105009\" \"SRR1456818\" \"SRR1396682\" \"SRR1455902\"\n",
       "[181] \"SRR1312822\" \"SRR1420517\" \"SRR1458335\" \"SRR1498951\" \"SRR1489803\"\n",
       "[186] \"SRR1436990\" \"SRR1331267\" \"SRR1100893\" \"SRR1388281\" \"SRR1389432\"\n",
       "[191] \"SRR1310158\" \"SRR821498\"  \"SRR808428\"  \"SRR808942\"  \"SRR1090046\"\n",
       "[196] \"SRR1090674\" \"SRR1090791\" \"SRR1091097\" \"SRR1091791\" \"SRR1095816\"\n",
       "[201] \"SRR1096547\" \"SRR1096987\" \"SRR1098264\" \"SRR1357826\" \"SRR1359147\"\n",
       "[206] \"SRR1361499\" \"SRR1364871\" \"SRR1365534\" \"SRR1365622\" \"SRR1367024\"\n",
       "[211] \"SRR1429181\" \"SRR1430615\" \"SRR1433374\" \"SRR1352457\" \"SRR1353994\"\n",
       "[216] \"SRR1356746\" \"SRR1357166\" \"SRR1079948\" \"SRR1081023\" \"SRR1082859\"\n",
       "[221] \"SRR1083052\" \"SRR1083959\" \"SRR1084079\" \"SRR1084674\" \"SRR1086538\"\n",
       "[226] \"SRR1086772\" \"SRR811285\"  \"SRR812198\"  \"SRR815208\"  \"SRR820571\" \n",
       "[231] \"SRR655852\"  \"SRR656911\"  \"SRR657528\"  \"SRR1341100\" \"SRR1341539\"\n",
       "[236] \"SRR1342873\" \"SRR1343818\" \"SRR1345953\" \"SRR1339236\" \"SRR1339431\"\n",
       "[241] \"SRR615910\"  \"SRR1378903\" \"SRR658105\"  \"SRR658319\"  \"SRR658409\" \n",
       "[246] \"SRR659223\"  \"SRR660248\"  \"SRR660283\"  \"SRR662306\"  \"SRR662378\" \n",
       "[251] \"SRR662811\"  \"SRR1368050\" \"SRR1369088\" \"SRR1369584\" \"SRR1370308\"\n",
       "[256] \"SRR1378284\" \"SRR1378948\" \"SRR1380460\" \"SRR1068977\" \"SRR1068999\"\n",
       "[261] \"SRR1070208\" \"SRR1071084\" \"SRR1071905\" \"SRR1074860\" \"SRR1075484\"\n",
       "[266] \"SRR1076219\" \"SRR1076441\" \"SRR1077139\" \"SRR1077920\" \"SRR1078258\"\n",
       "[271] \"SRR5125544\" \"SRR5125545\" \"SRR1437073\" \"SRR1420936\" \"SRR1464702\"\n",
       "[276] \"SRR1473124\" \"SRR1473403\" \"SRR1481128\" \"SRR1488586\" \"SRR1455807\"\n",
       "[281] \"SRR1469681\" \"SRR1467522\" \"SRR1475408\" \"SRR1455861\" \"SRR1469279\"\n",
       "[286] \"SRR1485398\" \"SRR1415257\" \"SRR1328577\" \"SRR1488694\" \"SRR1472415\"\n",
       "[291] \"SRR1472506\" \"SRR1472907\" \"SRR1418729\" \"SRR1472704\" \"SRR1475824\"\n",
       "[296] \"SRR1500709\" \"SRR1413392\" \"SRR1476950\" \"SRR1486457\" \"SRR1404887\"\n",
       "[301] \"SRR1406224\" \"SRR1439915\" \"SRR1417894\" \"SRR1414661\" \"SRR1455391\"\n",
       "[306] \"SRR1456010\" \"SRR1459561\" \"SRR1459866\" \"SRR1322249\" \"SRR1415792\"\n",
       "[311] \"SRR1417725\" \"SRR1419656\" \"SRR1406621\" \"SRR1386945\" \"SRR1391511\"\n",
       "[316] \"SRR1335212\" \"SRR1335917\" \"SRR1391575\" \"SRR1336181\" \"SRR1314092\"\n",
       "[321] \"SRR1323829\" \"SRR1327896\" \"SRR1403814\" \"SRR1457705\" \"SRR1408574\"\n",
       "[326] \"SRR1102949\" \"SRR1381799\" \"SRR1317282\" \"SRR1318774\" \"SRR1388399\"\n",
       "[331] \"SRR1393026\" \"SRR1477273\" \"SRR1409421\" \"SRR1415420\" \"SRR1420238\"\n",
       "[336] \"SRR1407648\" \"SRR1498416\" \"SRR1417422\" \"SRR1489589\" \"SRR1099981\"\n",
       "[341] \"SRR1324206\" \"SRR1469237\" \"SRR1465693\" \"SRR1435946\" \"SRR1328941\"\n",
       "[346] \"SRR1498997\" \"SRR1434955\" \"SRR1409620\" \"SRR1481297\" \"SRR1310667\"\n",
       "[351] \"SRR1420296\" \"SRR1410765\" \"SRR1334587\" \"SRR1488196\" \"SRR1458090\"\n",
       "[356] \"SRR1454158\" \"SRR1454009\" \"SRR1469547\" \"SRR1490246\" \"SRR1481315\"\n",
       "[361] \"SRR1477671\" \"SRR1446354\" \"SRR1386775\" \"SRR1394912\" \"SRR1409397\"\n",
       "[366] \"SRR1486262\" \"SRR1100472\" \"SRR1105009\" \"SRR1456818\" \"SRR1396682\"\n",
       "[371] \"SRR1455902\" \"SRR1312822\" \"SRR1420517\" \"SRR1458335\" \"SRR1498951\"\n",
       "[376] \"SRR1489803\" \"SRR1436990\" \"SRR1331267\" \"SRR1100893\" \"SRR1388281\"\n",
       "[381] \"SRR1389432\" \"SRR1310158\""
      ]
     },
     "metadata": {},
     "output_type": "display_data"
    }
   ],
   "source": [
    "sample"
   ]
  },
  {
   "cell_type": "code",
   "execution_count": 42,
   "metadata": {},
   "outputs": [
    {
     "data": {
      "text/html": [
       "0.185977569902876"
      ],
      "text/latex": [
       "0.185977569902876"
      ],
      "text/markdown": [
       "0.185977569902876"
      ],
      "text/plain": [
       "[1] 0.1859776"
      ]
     },
     "metadata": {},
     "output_type": "display_data"
    }
   ],
   "source": [
    "dup_cor <- duplicateCorrelation(y_no_dup_voom$E, design=design, ndups=2, block=sample, weights=y$samples$norm.factors)\n",
    "dup_cor$consensus.correlation"
   ]
  },
  {
   "cell_type": "code",
   "execution_count": null,
   "metadata": {},
   "outputs": [],
   "source": [
    "y_dup_voom <- voom (y, design=design, plot = TRUE, correlation = dup_cor$consensus_correlation)"
   ]
  },
  {
   "cell_type": "code",
   "execution_count": null,
   "metadata": {},
   "outputs": [],
   "source": [
    "Gender <- substring(sex[1:191],1,1)\n",
    "\n",
    "plotMDS(y_no_dup_voom[,c(1:191)], labels=Gender, top=500, col=ifelse(Gender==\"m\",\"blue\",\"red\"), \n",
    "        gene.selection=\"common\")"
   ]
  },
  {
   "cell_type": "code",
   "execution_count": null,
   "metadata": {},
   "outputs": [],
   "source": [
    "plotMDS(y_dup_voom[,c(1:191)], labels=Gender, top=500, col=ifelse(Gender==\"m\",\"blue\",\"red\"), \n",
    "        gene.selection=\"common\")"
   ]
  },
  {
   "cell_type": "code",
   "execution_count": null,
   "metadata": {},
   "outputs": [],
   "source": [
    "pdf (\"../pdf/BreastMammaryTissue_y_no_dup_voom_top_500.pdf\")\n",
    "plotMDS(y_no_dup_voom[,c(1:191)], labels=Gender, top=500, col=ifelse(Gender==\"m\",\"blue\",\"red\"), \n",
    "        gene.selection=\"common\")\n",
    "dev.off()\n",
    "pdf (\"../pdf/BreastMammaryTissue_y_dup_voom_top_500.pdf\")\n",
    "plotMDS(y_dup_voom[,c(1:191)], labels=Gender, top=500, col=ifelse(Gender==\"m\",\"blue\",\"red\"), \n",
    "        gene.selection=\"common\")\n",
    "dev.off()"
   ]
  },
  {
   "cell_type": "markdown",
   "metadata": {},
   "source": [
    "### linear fit with eBayes\n",
    "\n",
    "With a correlation of 0.19 the two measures ijc and sjc are weakly correlated per donor. Which is to be expected, as for any single donor one would expect that the inclusion of an exon would result in the increase in the inclusion junction counts (reads aligned to the junctions associated with the included exon) and not expect that that same donor would have also evidence of excluded exon (where the counts would be to the junction revealed by the exon being excluded).   However, some amount of correlation might be here because of a haplotype affect and the location being on one allele maternally inherited versions another allele paternally inherited. \n",
    "\n",
    "Nevertheless, we include the duplicate correlation as calculated in our analysis."
   ]
  },
  {
   "cell_type": "code",
   "execution_count": null,
   "metadata": {},
   "outputs": [],
   "source": [
    "fit <- lmFit(y_dup_voom, design)\n",
    "fit <- eBayes(fit, robust = TRUE)"
   ]
  },
  {
   "cell_type": "code",
   "execution_count": null,
   "metadata": {},
   "outputs": [],
   "source": [
    "sex_as_events_results         <- topTable(fit, coef=\"sex*as_event\", number=nrow(y_no_dup_voom))\n",
    "sex_as_events_results[[\"ID\"]] <- as.integer(rownames(ijc_sex_results))\n",
    "sex_as_events_results[[\"AS_site_type\"]]  <- AS_site_type\n",
    "sex_as_events_results[[\"featurespace\"]] <- \"sex*as_event\"\n",
    "sex_as_events_results         <- dplyr::left_join(sex_as_events_results, fromGTF.SE, by = \"ID\")\n",
    "\n",
    "sex_as_events_results_refined <- sex_as_events_results$adj.P.Val < 0.05 & abs(sex_as_events_results$logFC) > 1.5\n",
    "\n",
    "sex_results                   <- topTable(fit, coef=\"sex\", number=nrow(y_no_dup_voom))\n",
    "sex_results[[\"ID\"]]           <- as.integer(rownames(sex_results))\n",
    "sex_results[[\"AS_site_type\"]] <- AS_site_type\n",
    "sex_results[[\"featurespace\"]] <- \"sex\"\n",
    "sex_results                   <- dplyr::left_join(sex_results, fromGTF.SE, by = \"ID\")\n",
    "\n",
    "sex_results_refined           <- sex_results$adj.P.Val < 0.05 & abs(sex_results$logFC) > 1.5\n",
    "\n",
    "table(sex_as_events_results_refined)\n",
    "table(sex_results_refined)"
   ]
  },
  {
   "cell_type": "markdown",
   "metadata": {},
   "source": [
    "#### fromGTF\n",
    "\n",
    "rMATS analyzes the gtf file and determines the junctions, identifying 10 matrices in all.  The fromGTF.SE.txt contains the annotation information and we can use this information to estimate the duplicate correlation effect from counting based upon the same gene with our ijc counts.  we will use this information, to obtain the gene information.\n"
   ]
  },
  {
   "cell_type": "code",
   "execution_count": null,
   "metadata": {},
   "outputs": [],
   "source": [
    "ijc_sex_results          <- topTable(fit_ijc, coef='sex', number=nrow(y_ijc_voom))\n",
    "ijc_sex_results[[\"ID\"]]           <- as.integer(rownames(ijc_sex_results))\n",
    "ijc_sex_results[[\"AS_site_type\"]] <- AS_site_type\n",
    "ijc_sex_results[[\"featurespace\"]] <- \"ijc\"\n",
    "ijc_sex_results                   <- dplyr::left_join(ijc_sex_results, fromGTF.SE, by = \"ID\")\n",
    "\n",
    "sjc_sex_results                   <- topTable(fit_sjc, coef='sex', number=nrow(y_sjc_voom))\n",
    "sjc_sex_results[[\"ID\"]]           <- as.integer(rownames(sjc_sex_results))\n",
    "sjc_sex_results[[\"AS_site_type\"]] <- AS_site_type\n",
    "sjc_sex_results[[\"featurespace\"]] <- \"sjc\"\n",
    "sjc_sex_results                   <- dplyr::left_join(sjc_sex_results, fromGTF.SE, by = \"ID\")"
   ]
  },
  {
   "cell_type": "code",
   "execution_count": null,
   "metadata": {},
   "outputs": [],
   "source": [
    "head(ijc_sex_results,2)\n",
    "head(sjc_sex_results,2)\n",
    "head(sex_as_events_results, 2)\n",
    "head(sex_results, 2)"
   ]
  },
  {
   "cell_type": "code",
   "execution_count": null,
   "metadata": {},
   "outputs": [],
   "source": [
    "dim(sex_as_events_results)\n",
    "dim(sex_results)"
   ]
  },
  {
   "cell_type": "code",
   "execution_count": null,
   "metadata": {},
   "outputs": [],
   "source": [
    "sex_as_events_filename         = paste(paste('../data/BreastMammaryTissue',collapse='.'),'_DGE_sex_as_events.csv',sep='')\n",
    "sex_filename                   = paste(paste('../data/BreastMammaryTissue',collapse='.'),'_DGE_sex.csv',sep='')\n",
    "ijc_sex_filename               = paste(paste('../data/BreastMammaryTissue',collapse='.'),'_DGE_ijc_sex.csv',sep='')\n",
    "sjc_sex_filename               = paste(paste('../data/BreastMammaryTissue',collapse='.'),'_DGE_sjc_sex.csv',sep='')"
   ]
  },
  {
   "cell_type": "code",
   "execution_count": null,
   "metadata": {},
   "outputs": [],
   "source": [
    "data.table::fwrite(sex_as_events_results, file = sex_as_events_filename, sep = \",\")\n",
    "data.table::fwrite(sex_results,           file = sex_filename          , sep = \",\")\n",
    "data.table::fwrite(ijc_sex_results,       file = ijc_sex_filename      , sep = \",\")\n",
    "data.table::fwrite(sjc_sex_results,       file = sjc_sex_filename      , sep = \",\")"
   ]
  },
  {
   "cell_type": "markdown",
   "metadata": {},
   "source": [
    "## Metadata\n",
    "\n",
    "For replicability and reproducibility purposes, we also print the following metadata:\n",
    "\n",
    "1. Checksums of **'artefacts'**, files generated during the analysis and stored in the folder directory **`data`**\n",
    "2. List of environment metadata, dependencies, versions of libraries using `utils::sessionInfo()` and [`devtools::session_info()`](https://devtools.r-lib.org/reference/session_info.html)"
   ]
  },
  {
   "cell_type": "markdown",
   "metadata": {},
   "source": [
    "### 1. Checksums with the sha256 algorithm"
   ]
  },
  {
   "cell_type": "code",
   "execution_count": null,
   "metadata": {},
   "outputs": [],
   "source": [
    "notebookid   = \"BreastMammaryTissueJunctionAnalysis\"\n",
    "\n",
    "message(\"Generating sha256 checksums of the artefacts in the `..data/` directory .. \")\n",
    "system(paste0(\"cd ../data && find . -type f -exec sha256sum {} \\\\;  >  ../metadata/\", notebookid, \"_sha256sums.txt\"), intern = TRUE)\n",
    "message(\"Done!\\n\")\n",
    "\n",
    "data.table::fread(paste0(\"../metadata/\", notebookid, \"_sha256sums.txt\"), header = FALSE, col.names = c(\"sha256sum\", \"file\"))"
   ]
  },
  {
   "cell_type": "markdown",
   "metadata": {},
   "source": [
    "### 2. Libraries metadata"
   ]
  },
  {
   "cell_type": "code",
   "execution_count": null,
   "metadata": {},
   "outputs": [],
   "source": [
    "dev_session_info   <- devtools::session_info()\n",
    "utils_session_info <- utils::sessionInfo()\n",
    "\n",
    "message(\"Saving `devtools::session_info()` objects in ../metadata/devtools_session_info.rds  ..\")\n",
    "saveRDS(dev_session_info, file = paste0(\"../metadata/\", notebookid, \"_devtools_session_info.rds\"))\n",
    "message(\"Done!\\n\")\n",
    "\n",
    "message(\"Saving `utils::sessionInfo()` objects in ../metadata/utils_session_info.rds  ..\")\n",
    "saveRDS(utils_session_info, file = paste0(\"../metadata/\", notebookid ,\"_utils_info.rds\"))\n",
    "message(\"Done!\\n\")\n",
    "\n",
    "dev_session_info$platform\n",
    "dev_session_info$packages[dev_session_info$packages$attached==TRUE, ]"
   ]
  }
 ],
 "metadata": {
  "kernelspec": {
   "display_name": "R",
   "language": "R",
   "name": "ir"
  },
  "language_info": {
   "codemirror_mode": "r",
   "file_extension": ".r",
   "mimetype": "text/x-r-source",
   "name": "R",
   "pygments_lexer": "r",
   "version": "3.6.2"
  }
 },
 "nbformat": 4,
 "nbformat_minor": 4
}
