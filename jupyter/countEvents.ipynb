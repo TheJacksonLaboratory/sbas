{
 "cells": [
  {
   "cell_type": "code",
   "execution_count": null,
   "metadata": {},
   "outputs": [],
   "source": [
    "library(dplyr)"
   ]
  },
  {
   "cell_type": "markdown",
   "metadata": {},
   "source": [
    "Parse files to create a data frame with counts"
   ]
  },
  {
   "cell_type": "code",
   "execution_count": null,
   "metadata": {},
   "outputs": [],
   "source": [
    "files <- list.files(path = \"significant_events/\", pattern = \"*.txt\")\n",
    "as_types <- c(\"a3ss\", \"a5ss\", \"mxe\", \"ri\", \"se\")"
   ]
  },
  {
   "cell_type": "code",
   "execution_count": null,
   "metadata": {},
   "outputs": [],
   "source": [
    "files_aux <- gsub(pattern = \".txt\", replacement = \"\", x = files)\n",
    "files_aux <- gsub(pattern = \"a3ss$|a5ss$|mxe$|ri$|se$\", replacement = \"\", files_aux)"
   ]
  },
  {
   "cell_type": "code",
   "execution_count": null,
   "metadata": {
    "lines_to_next_cell": 2
   },
   "outputs": [],
   "source": [
    "x <- table(files_aux)\n",
    "tissues <- names(x)"
   ]
  },
  {
   "cell_type": "code",
   "execution_count": null,
   "metadata": {},
   "outputs": [],
   "source": [
    "counts <- rep(NA, length(files))\n",
    "for (i in 1:length(files)) {\n",
    "  #events <- read.table(paste0(\"./significant_events/\", files[i]), sep = \"\\t\", skip = 1)\n",
    "  events <- readLines(paste0(\"./significant_events/\", files[i]))\n",
    "  counts[i] <- length(events) - 1 #header\n",
    "}"
   ]
  },
  {
   "cell_type": "code",
   "execution_count": null,
   "metadata": {},
   "outputs": [],
   "source": [
    "ASE <- rep(\"NA\", length(files))\n",
    "for (i in 1:length(files)) {\n",
    "  \n",
    "  if(grepl(\"a3ss.txt$\", files[i])){\n",
    "    ASE[i] <- \"A3SS\"\n",
    "  }\n",
    "  if(grepl(\"a5ss.txt$\", files[i])){\n",
    "    ASE[i] <- \"A5SS\"\n",
    "  }\n",
    "  if(grepl(\"mxe.txt$\", files[i])){\n",
    "    ASE[i] <- \"MXE\"\n",
    "  }\n",
    "  if(grepl(\"se.txt$\", files[i])){\n",
    "    ASE[i] <- \"SE\"\n",
    "  }\n",
    "  if(grepl(\"ri.txt$\", files[i])){\n",
    "    ASE[i] <- \"RI\"\n",
    "  }"
   ]
  },
  {
   "cell_type": "code",
   "execution_count": null,
   "metadata": {},
   "outputs": [],
   "source": [
    "}"
   ]
  },
  {
   "cell_type": "code",
   "execution_count": null,
   "metadata": {},
   "outputs": [],
   "source": [
    "data <- data.frame(Tissue = files_aux, ASE = ASE, Counts = counts)"
   ]
  },
  {
   "cell_type": "code",
   "execution_count": null,
   "metadata": {},
   "outputs": [],
   "source": [
    "head(data)"
   ]
  },
  {
   "cell_type": "code",
   "execution_count": null,
   "metadata": {},
   "outputs": [],
   "source": [
    "res <- data %>% group_by(Tissue) %>% \n",
    "    summarise(Total = sum(Counts)) %>%\n",
    "    arrange(desc(Total)) %>%\n",
    "    as.data.frame()"
   ]
  },
  {
   "cell_type": "code",
   "execution_count": null,
   "metadata": {},
   "outputs": [],
   "source": [
    "res"
   ]
  },
  {
   "cell_type": "code",
   "execution_count": null,
   "metadata": {},
   "outputs": [],
   "source": [
    "write.table(res, file = \"Totals_by_tissue.tsv\", sep = \"\\t\", row.names = F)\n",
    "write.table(data, file = \"Significant_events.tsv\", sep = \"\\t\", row.names = F, quote = F)"
   ]
  },
  {
   "cell_type": "code",
   "execution_count": null,
   "metadata": {},
   "outputs": [],
   "source": []
  }
 ],
 "metadata": {
  "jupytext": {
   "cell_metadata_filter": "-all",
   "main_language": "R",
   "notebook_metadata_filter": "-all"
  }
 },
 "nbformat": 4,
 "nbformat_minor": 4
}
