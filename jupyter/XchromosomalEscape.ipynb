{
 "cells": [
  {
   "cell_type": "markdown",
   "metadata": {
    "papermill": {
     "duration": 0.01305,
     "end_time": "2021-05-21T02:48:16.052852",
     "exception": false,
     "start_time": "2021-05-21T02:48:16.039802",
     "status": "completed"
    },
    "tags": []
   },
   "source": [
    "# **AS events vs X chromosomal escape**\n"
   ]
  },
  {
   "cell_type": "markdown",
   "metadata": {
    "papermill": {
     "duration": 0.011583,
     "end_time": "2021-05-21T02:48:16.076722",
     "exception": false,
     "start_time": "2021-05-21T02:48:16.065139",
     "status": "completed"
    },
    "tags": []
   },
   "source": [
    "It has been reported that differentially expressed sex-biased genes are likely to be \n",
    "linked to escape from X chromosome inactivation ([Landscape of X chromosome inactivation across human tissues.\n",
    "Tukiainen T, et al. Nature 2017;550:244-248](https://pubmed.ncbi.nlm.nih.gov/29022598/)). \n",
    "\n",
    "Because of the observed overlap between sex-biased differential expression and AS, we hypothesized that AS events might be more commonly observed in X chromosomal genes that escape inactivation. "
   ]
  },
  {
   "cell_type": "markdown",
   "metadata": {
    "papermill": {
     "duration": 0.011508,
     "end_time": "2021-05-21T02:48:16.099490",
     "exception": false,
     "start_time": "2021-05-21T02:48:16.087982",
     "status": "completed"
    },
    "tags": []
   },
   "source": [
    "## Retrieve data about X chromosomal escape\n",
    "This data was extracted from the supplemental material of the Tukiainen paper. Genes are characterized as\n",
    "\n",
    "1. Escape\n",
    "2. Inactive\n",
    "3. Variable\n",
    "4. Unknown\n",
    "\n",
    "We examine here the hypothesis that alternatively spliced genes are more likely to escape X inactivation than one would expect\n",
    "from the X chromosomal average. We compare the proportions of genes labeled ``Escape`` and ``non-Escape`` (everything else) using a Fisher exact test."
   ]
  },
  {
   "cell_type": "code",
   "execution_count": 1,
   "metadata": {
    "execution": {
     "iopub.execute_input": "2021-05-21T02:48:16.199659Z",
     "iopub.status.busy": "2021-05-21T02:48:16.197053Z",
     "iopub.status.idle": "2021-05-21T02:48:16.623171Z",
     "shell.execute_reply": "2021-05-21T02:48:16.621970Z"
    },
    "papermill": {
     "duration": 0.512632,
     "end_time": "2021-05-21T02:48:16.623369",
     "exception": false,
     "start_time": "2021-05-21T02:48:16.110737",
     "status": "completed"
    },
    "tags": []
   },
   "outputs": [],
   "source": [
    "suppressMessages({\n",
    "    options(warn = -1) \n",
    "    library(ggplot2)\n",
    "})"
   ]
  },
  {
   "cell_type": "code",
   "execution_count": 2,
   "metadata": {
    "execution": {
     "iopub.execute_input": "2021-05-21T02:48:16.682926Z",
     "iopub.status.busy": "2021-05-21T02:48:16.651745Z",
     "iopub.status.idle": "2021-05-21T02:48:16.697588Z",
     "shell.execute_reply": "2021-05-21T02:48:16.696273Z"
    },
    "papermill": {
     "duration": 0.062173,
     "end_time": "2021-05-21T02:48:16.697761",
     "exception": false,
     "start_time": "2021-05-21T02:48:16.635588",
     "status": "completed"
    },
    "tags": []
   },
   "outputs": [],
   "source": [
    "xchromgenetable <- read.table(file=\"../assets/TukiainenSuppFig2extract.tsv\", header=FALSE, sep=\"\\t\",\n",
    "                               skipNul=FALSE, stringsAsFactors = FALSE)\n",
    "colnames(xchromgenetable)  <- c(\"ENSG.id\",\"symbol\",\"escape.status\",\"par.status\")"
   ]
  },
  {
   "cell_type": "markdown",
   "metadata": {
    "papermill": {
     "duration": 0.011738,
     "end_time": "2021-05-21T02:48:16.721332",
     "exception": false,
     "start_time": "2021-05-21T02:48:16.709594",
     "status": "completed"
    },
    "tags": []
   },
   "source": [
    "# Collect set of X chromosomal genes from the Tukiainen paper"
   ]
  },
  {
   "cell_type": "code",
   "execution_count": 3,
   "metadata": {
    "execution": {
     "iopub.execute_input": "2021-05-21T02:48:16.749294Z",
     "iopub.status.busy": "2021-05-21T02:48:16.748103Z",
     "iopub.status.idle": "2021-05-21T02:48:16.772991Z",
     "shell.execute_reply": "2021-05-21T02:48:16.771885Z"
    },
    "papermill": {
     "duration": 0.040406,
     "end_time": "2021-05-21T02:48:16.773121",
     "exception": false,
     "start_time": "2021-05-21T02:48:16.732715",
     "status": "completed"
    },
    "tags": []
   },
   "outputs": [
    {
     "data": {
      "text/html": [
       "<table class=\"dataframe\">\n",
       "<caption>A data.frame: 6 × 4</caption>\n",
       "<thead>\n",
       "\t<tr><th></th><th scope=col>ENSG.id</th><th scope=col>symbol</th><th scope=col>escape.status</th><th scope=col>par.status</th></tr>\n",
       "\t<tr><th></th><th scope=col>&lt;chr&gt;</th><th scope=col>&lt;chr&gt;</th><th scope=col>&lt;chr&gt;</th><th scope=col>&lt;chr&gt;</th></tr>\n",
       "</thead>\n",
       "<tbody>\n",
       "\t<tr><th scope=row>1</th><td>ENSG00000000003.10</td><td>TSPAN6</td><td>Variable</td><td>nonPAR</td></tr>\n",
       "\t<tr><th scope=row>2</th><td>ENSG00000000005.5 </td><td>TNMD  </td><td>Unknown </td><td>nonPAR</td></tr>\n",
       "\t<tr><th scope=row>3</th><td>ENSG00000001497.12</td><td>LAS1L </td><td>Inactive</td><td>nonPAR</td></tr>\n",
       "\t<tr><th scope=row>4</th><td>ENSG00000002586.13</td><td>CD99  </td><td>Escape  </td><td>PAR   </td></tr>\n",
       "\t<tr><th scope=row>5</th><td>ENSG00000003096.9 </td><td>KLHL13</td><td>Inactive</td><td>nonPAR</td></tr>\n",
       "\t<tr><th scope=row>6</th><td>ENSG00000004848.6 </td><td>ARX   </td><td>Unknown </td><td>nonPAR</td></tr>\n",
       "</tbody>\n",
       "</table>\n"
      ],
      "text/latex": [
       "A data.frame: 6 × 4\n",
       "\\begin{tabular}{r|llll}\n",
       "  & ENSG.id & symbol & escape.status & par.status\\\\\n",
       "  & <chr> & <chr> & <chr> & <chr>\\\\\n",
       "\\hline\n",
       "\t1 & ENSG00000000003.10 & TSPAN6 & Variable & nonPAR\\\\\n",
       "\t2 & ENSG00000000005.5  & TNMD   & Unknown  & nonPAR\\\\\n",
       "\t3 & ENSG00000001497.12 & LAS1L  & Inactive & nonPAR\\\\\n",
       "\t4 & ENSG00000002586.13 & CD99   & Escape   & PAR   \\\\\n",
       "\t5 & ENSG00000003096.9  & KLHL13 & Inactive & nonPAR\\\\\n",
       "\t6 & ENSG00000004848.6  & ARX    & Unknown  & nonPAR\\\\\n",
       "\\end{tabular}\n"
      ],
      "text/markdown": [
       "\n",
       "A data.frame: 6 × 4\n",
       "\n",
       "| <!--/--> | ENSG.id &lt;chr&gt; | symbol &lt;chr&gt; | escape.status &lt;chr&gt; | par.status &lt;chr&gt; |\n",
       "|---|---|---|---|---|\n",
       "| 1 | ENSG00000000003.10 | TSPAN6 | Variable | nonPAR |\n",
       "| 2 | ENSG00000000005.5  | TNMD   | Unknown  | nonPAR |\n",
       "| 3 | ENSG00000001497.12 | LAS1L  | Inactive | nonPAR |\n",
       "| 4 | ENSG00000002586.13 | CD99   | Escape   | PAR    |\n",
       "| 5 | ENSG00000003096.9  | KLHL13 | Inactive | nonPAR |\n",
       "| 6 | ENSG00000004848.6  | ARX    | Unknown  | nonPAR |\n",
       "\n"
      ],
      "text/plain": [
       "  ENSG.id            symbol escape.status par.status\n",
       "1 ENSG00000000003.10 TSPAN6 Variable      nonPAR    \n",
       "2 ENSG00000000005.5  TNMD   Unknown       nonPAR    \n",
       "3 ENSG00000001497.12 LAS1L  Inactive      nonPAR    \n",
       "4 ENSG00000002586.13 CD99   Escape        PAR       \n",
       "5 ENSG00000003096.9  KLHL13 Inactive      nonPAR    \n",
       "6 ENSG00000004848.6  ARX    Unknown       nonPAR    "
      ]
     },
     "metadata": {},
     "output_type": "display_data"
    }
   ],
   "source": [
    "head(xchromgenetable)"
   ]
  },
  {
   "cell_type": "code",
   "execution_count": 4,
   "metadata": {
    "execution": {
     "iopub.execute_input": "2021-05-21T02:48:16.802772Z",
     "iopub.status.busy": "2021-05-21T02:48:16.801520Z",
     "iopub.status.idle": "2021-05-21T02:48:16.819878Z",
     "shell.execute_reply": "2021-05-21T02:48:16.818848Z"
    },
    "papermill": {
     "duration": 0.034594,
     "end_time": "2021-05-21T02:48:16.820036",
     "exception": false,
     "start_time": "2021-05-21T02:48:16.785442",
     "status": "completed"
    },
    "tags": []
   },
   "outputs": [
    {
     "name": "stderr",
     "output_type": "stream",
     "text": [
      "Number of X chromosomal genes from Tukiainen paper: 959\n",
      "\n"
     ]
    }
   ],
   "source": [
    "XchromGenes <- sort(xchromgenetable$symbol)\n",
    "n_xchrom_genes <- length(XchromGenes)\n",
    "message(\"Number of X chromosomal genes from Tukiainen paper: \", n_xchrom_genes)"
   ]
  },
  {
   "cell_type": "code",
   "execution_count": 5,
   "metadata": {
    "execution": {
     "iopub.execute_input": "2021-05-21T02:48:16.850697Z",
     "iopub.status.busy": "2021-05-21T02:48:16.849496Z",
     "iopub.status.idle": "2021-05-21T02:48:16.883629Z",
     "shell.execute_reply": "2021-05-21T02:48:16.882644Z"
    },
    "papermill": {
     "duration": 0.050616,
     "end_time": "2021-05-21T02:48:16.883756",
     "exception": false,
     "start_time": "2021-05-21T02:48:16.833140",
     "status": "completed"
    },
    "tags": []
   },
   "outputs": [
    {
     "name": "stderr",
     "output_type": "stream",
     "text": [
      "X chromosomal genes from Tukiainen et al n=959\n",
      "\n",
      "Escaped X chromomosal genes: 94 of a total of 959 X-chromosomal genes:  9.8%\n",
      "\n",
      "Non-Escaped X chromomosal genes: 865 of a total of 865 X-chromosomal genes: 90.2%\n",
      "\n"
     ]
    }
   ],
   "source": [
    "xchrom_escaped <- sort(xchromgenetable[xchromgenetable$escape.status=='Escape',]$symbol)\n",
    "n_xchrom_escaped <-length(xchrom_escaped)\n",
    "xchrom_non_escaped <- sort(xchromgenetable[xchromgenetable$escape.status!='Escape',]$symbol)\n",
    "n_xchrom_non_escaped <- length(xchrom_non_escaped)\n",
    "if (n_xchrom_genes != (n_xchrom_escaped + n_xchrom_non_escaped)) {\n",
    "    stop(\"Problems extracting correct number of X chromosomal genes\")\n",
    "}\n",
    "\n",
    "message(\"X chromosomal genes from Tukiainen et al n=\", n_xchrom_genes)\n",
    "message(\"Escaped X chromomosal genes: \", n_xchrom_escaped, \" of a total of \",n_xchrom_genes, \" X-chromosomal genes: \", formatC((100*n_xchrom_escaped/n_xchrom_genes), digits=3),\"%\")\n",
    "message(\"Non-Escaped X chromomosal genes: \", n_xchrom_non_escaped, \" of a total of \", n_xchrom_non_escaped, \" X-chromosomal genes: \", formatC((100*n_xchrom_non_escaped/n_xchrom_genes), digits=3),\"%\")"
   ]
  },
  {
   "cell_type": "markdown",
   "metadata": {
    "papermill": {
     "duration": 0.013141,
     "end_time": "2021-05-21T02:48:16.910414",
     "exception": false,
     "start_time": "2021-05-21T02:48:16.897273",
     "status": "completed"
    },
    "tags": []
   },
   "source": [
    "# Check overlap of differentially spliced genes with X-chromosomal escaped genes\n",
    "First we retrieve significantly differentially alternatively spliced (DAS) genes"
   ]
  },
  {
   "cell_type": "code",
   "execution_count": 6,
   "metadata": {
    "execution": {
     "iopub.execute_input": "2021-05-21T02:48:16.941490Z",
     "iopub.status.busy": "2021-05-21T02:48:16.940252Z",
     "iopub.status.idle": "2021-05-21T02:48:16.952496Z",
     "shell.execute_reply": "2021-05-21T02:48:16.951380Z"
    },
    "papermill": {
     "duration": 0.029309,
     "end_time": "2021-05-21T02:48:16.952702",
     "exception": false,
     "start_time": "2021-05-21T02:48:16.923393",
     "status": "completed"
    },
    "tags": []
   },
   "outputs": [],
   "source": [
    "total_AS_Genes <- read.table(file=\"../data/Total_AS_by_geneSymbol.tsv\", header=TRUE, sep=\"\\t\", skipNul=FALSE, stringsAsFactors = FALSE)"
   ]
  },
  {
   "cell_type": "code",
   "execution_count": 7,
   "metadata": {
    "execution": {
     "iopub.execute_input": "2021-05-21T02:48:16.984067Z",
     "iopub.status.busy": "2021-05-21T02:48:16.982920Z",
     "iopub.status.idle": "2021-05-21T02:48:17.003093Z",
     "shell.execute_reply": "2021-05-21T02:48:17.001716Z"
    },
    "papermill": {
     "duration": 0.037456,
     "end_time": "2021-05-21T02:48:17.003224",
     "exception": false,
     "start_time": "2021-05-21T02:48:16.965768",
     "status": "completed"
    },
    "tags": []
   },
   "outputs": [
    {
     "data": {
      "text/html": [
       "<table class=\"dataframe\">\n",
       "<caption>A data.frame: 6 × 2</caption>\n",
       "<thead>\n",
       "\t<tr><th></th><th scope=col>GeneSymbol</th><th scope=col>n</th></tr>\n",
       "\t<tr><th></th><th scope=col>&lt;chr&gt;</th><th scope=col>&lt;int&gt;</th></tr>\n",
       "</thead>\n",
       "<tbody>\n",
       "\t<tr><th scope=row>1</th><td>KDM5C </td><td>8</td></tr>\n",
       "\t<tr><th scope=row>2</th><td>SORBS2</td><td>5</td></tr>\n",
       "\t<tr><th scope=row>3</th><td>ABCD4 </td><td>3</td></tr>\n",
       "\t<tr><th scope=row>4</th><td>BNIP2 </td><td>3</td></tr>\n",
       "\t<tr><th scope=row>5</th><td>FGFR2 </td><td>3</td></tr>\n",
       "\t<tr><th scope=row>6</th><td>MLH1  </td><td>3</td></tr>\n",
       "</tbody>\n",
       "</table>\n"
      ],
      "text/latex": [
       "A data.frame: 6 × 2\n",
       "\\begin{tabular}{r|ll}\n",
       "  & GeneSymbol & n\\\\\n",
       "  & <chr> & <int>\\\\\n",
       "\\hline\n",
       "\t1 & KDM5C  & 8\\\\\n",
       "\t2 & SORBS2 & 5\\\\\n",
       "\t3 & ABCD4  & 3\\\\\n",
       "\t4 & BNIP2  & 3\\\\\n",
       "\t5 & FGFR2  & 3\\\\\n",
       "\t6 & MLH1   & 3\\\\\n",
       "\\end{tabular}\n"
      ],
      "text/markdown": [
       "\n",
       "A data.frame: 6 × 2\n",
       "\n",
       "| <!--/--> | GeneSymbol &lt;chr&gt; | n &lt;int&gt; |\n",
       "|---|---|---|\n",
       "| 1 | KDM5C  | 8 |\n",
       "| 2 | SORBS2 | 5 |\n",
       "| 3 | ABCD4  | 3 |\n",
       "| 4 | BNIP2  | 3 |\n",
       "| 5 | FGFR2  | 3 |\n",
       "| 6 | MLH1   | 3 |\n",
       "\n"
      ],
      "text/plain": [
       "  GeneSymbol n\n",
       "1 KDM5C      8\n",
       "2 SORBS2     5\n",
       "3 ABCD4      3\n",
       "4 BNIP2      3\n",
       "5 FGFR2      3\n",
       "6 MLH1       3"
      ]
     },
     "metadata": {},
     "output_type": "display_data"
    }
   ],
   "source": [
    "head(total_AS_Genes)"
   ]
  },
  {
   "cell_type": "code",
   "execution_count": 8,
   "metadata": {
    "execution": {
     "iopub.execute_input": "2021-05-21T02:48:17.035692Z",
     "iopub.status.busy": "2021-05-21T02:48:17.034593Z",
     "iopub.status.idle": "2021-05-21T02:48:17.054808Z",
     "shell.execute_reply": "2021-05-21T02:48:17.050063Z"
    },
    "papermill": {
     "duration": 0.037956,
     "end_time": "2021-05-21T02:48:17.054946",
     "exception": false,
     "start_time": "2021-05-21T02:48:17.016990",
     "status": "completed"
    },
    "tags": []
   },
   "outputs": [
    {
     "name": "stderr",
     "output_type": "stream",
     "text": [
      "Total X chromosomal genes showing alternative splicing: 9\n",
      "\n"
     ]
    }
   ],
   "source": [
    "sigAsGenes <- sort(total_AS_Genes$GeneSymbol)\n",
    "xchromosomalSigAsGenes <- intersect(sigAsGenes,XchromGenes)\n",
    "message(\"Total X chromosomal genes showing alternative splicing: \", length(xchromosomalSigAsGenes))"
   ]
  },
  {
   "cell_type": "code",
   "execution_count": 9,
   "metadata": {
    "execution": {
     "iopub.execute_input": "2021-05-21T02:48:17.088157Z",
     "iopub.status.busy": "2021-05-21T02:48:17.087070Z",
     "iopub.status.idle": "2021-05-21T02:48:17.137841Z",
     "shell.execute_reply": "2021-05-21T02:48:17.136711Z"
    },
    "papermill": {
     "duration": 0.069083,
     "end_time": "2021-05-21T02:48:17.137976",
     "exception": false,
     "start_time": "2021-05-21T02:48:17.068893",
     "status": "completed"
    },
    "tags": []
   },
   "outputs": [
    {
     "name": "stderr",
     "output_type": "stream",
     "text": [
      "nondas_xchrom: 949\n",
      "\n",
      "n_das_xchrom_escape: 3 n_das_xchrom_non_escape: 6\n",
      "\n",
      "n_nondas_xchrom_escape: 91 n_nondas_xchrom_non_escape: 858\n",
      "\n",
      "n_xchrom_genes: 959\n",
      "\n",
      "but we were expecting 958\n",
      "\n"
     ]
    },
    {
     "data": {
      "text/html": [
       "<table class=\"dataframe\">\n",
       "<caption>A matrix: 2 × 2 of type int</caption>\n",
       "<tbody>\n",
       "\t<tr><td>3</td><td> 91</td></tr>\n",
       "\t<tr><td>6</td><td>858</td></tr>\n",
       "</tbody>\n",
       "</table>\n"
      ],
      "text/latex": [
       "A matrix: 2 × 2 of type int\n",
       "\\begin{tabular}{ll}\n",
       "\t 3 &  91\\\\\n",
       "\t 6 & 858\\\\\n",
       "\\end{tabular}\n"
      ],
      "text/markdown": [
       "\n",
       "A matrix: 2 × 2 of type int\n",
       "\n",
       "| 3 |  91 |\n",
       "| 6 | 858 |\n",
       "\n"
      ],
      "text/plain": [
       "     [,1] [,2]\n",
       "[1,] 3     91 \n",
       "[2,] 6    858 "
      ]
     },
     "metadata": {},
     "output_type": "display_data"
    },
    {
     "data": {
      "text/plain": [
       "\n",
       "\tFisher's Exact Test for Count Data\n",
       "\n",
       "data:  x_vs_as\n",
       "p-value = 0.04965\n",
       "alternative hypothesis: true odds ratio is not equal to 1\n",
       "95 percent confidence interval:\n",
       "  0.7483015 22.4553802\n",
       "sample estimates:\n",
       "odds ratio \n",
       "  4.701109 \n"
      ]
     },
     "metadata": {},
     "output_type": "display_data"
    }
   ],
   "source": [
    "# First collect the numbers\n",
    "das_xchrom_escape <- intersect(xchrom_escaped, xchromosomalSigAsGenes)\n",
    "das_xchrom_non_escape <- setdiff(xchromosomalSigAsGenes, das_xchrom_escape)\n",
    "n_das_xchrom_escape <- length(das_xchrom_escape)\n",
    "n_das_xchrom_non_escape <- length(das_xchrom_non_escape)\n",
    "\n",
    "# Non-DAS X chromosomal\n",
    "nondas_xchrom <- setdiff(XchromGenes, xchromosomalSigAsGenes)\n",
    "nondas_xchrom_escape <- intersect(nondas_xchrom, xchrom_escaped)\n",
    "nondas_xchrom_non_escape <- intersect(nondas_xchrom, xchrom_non_escaped)\n",
    "n_nondas_xchrom_escape <- length(nondas_xchrom_escape)\n",
    "n_nondas_xchrom_non_escape <- length(nondas_xchrom_non_escape)\n",
    "# sanity check\n",
    "if (n_xchrom_genes != (n_das_xchrom_escape + n_das_xchrom_non_escape + n_nondas_xchrom_escape + n_nondas_xchrom_non_escape)) {\n",
    "    message(\"nondas_xchrom: \", length(nondas_xchrom))\n",
    "    message(\"n_das_xchrom_escape: \", n_das_xchrom_escape, \" n_das_xchrom_non_escape: \", n_das_xchrom_non_escape)\n",
    "    message(\"n_nondas_xchrom_escape: \", n_nondas_xchrom_escape, \" n_nondas_xchrom_non_escape: \", n_nondas_xchrom_non_escape)\n",
    "    message(\"n_xchrom_genes: \",n_xchrom_genes)\n",
    "    mysum <- n_das_xchrom_escape + n_das_xchrom_non_escape + n_nondas_xchrom_escape + n_nondas_xchrom_non_escape\n",
    "    message(\"but we were expecting \", mysum)\n",
    "    #stop(\"Problems extracting correct number of X chromosomal genes\")\n",
    "}\n",
    "\n",
    "x_vs_as  <- matrix(c(n_das_xchrom_escape, n_nondas_xchrom_escape,n_das_xchrom_non_escape, n_nondas_xchrom_non_escape), nrow=2,byrow = TRUE)\n",
    "x_vs_as\n",
    "fisher.test(x_vs_as)"
   ]
  },
  {
   "cell_type": "markdown",
   "metadata": {
    "papermill": {
     "duration": 0.015538,
     "end_time": "2021-05-21T02:48:17.169378",
     "exception": false,
     "start_time": "2021-05-21T02:48:17.153840",
     "status": "completed"
    },
    "tags": []
   },
   "source": [
    "# Get set of genes that show significant differential expression in at least one tissue\n",
    "Note that one of the column headers is blank and so we just skip one line to avoid a parse error."
   ]
  },
  {
   "cell_type": "code",
   "execution_count": 10,
   "metadata": {
    "execution": {
     "iopub.execute_input": "2021-05-21T02:48:17.205987Z",
     "iopub.status.busy": "2021-05-21T02:48:17.204634Z",
     "iopub.status.idle": "2021-05-21T02:48:17.254216Z",
     "shell.execute_reply": "2021-05-21T02:48:17.253076Z"
    },
    "papermill": {
     "duration": 0.069543,
     "end_time": "2021-05-21T02:48:17.254633",
     "exception": false,
     "start_time": "2021-05-21T02:48:17.185090",
     "status": "completed"
    },
    "tags": []
   },
   "outputs": [],
   "source": [
    "dge <- read.table(\"../data/gene_dge.tsv\", sep = \"\\t\", header = FALSE, row.names=1, skip = 1)"
   ]
  },
  {
   "cell_type": "code",
   "execution_count": 11,
   "metadata": {
    "execution": {
     "iopub.execute_input": "2021-05-21T02:48:17.298048Z",
     "iopub.status.busy": "2021-05-21T02:48:17.296953Z",
     "iopub.status.idle": "2021-05-21T02:48:17.321686Z",
     "shell.execute_reply": "2021-05-21T02:48:17.320389Z"
    },
    "papermill": {
     "duration": 0.050984,
     "end_time": "2021-05-21T02:48:17.321821",
     "exception": false,
     "start_time": "2021-05-21T02:48:17.270837",
     "status": "completed"
    },
    "tags": []
   },
   "outputs": [
    {
     "data": {
      "text/html": [
       "<table class=\"dataframe\">\n",
       "<caption>A data.frame: 6 × 13</caption>\n",
       "<thead>\n",
       "\t<tr><th></th><th scope=col>V2</th><th scope=col>V3</th><th scope=col>V4</th><th scope=col>V5</th><th scope=col>V6</th><th scope=col>V7</th><th scope=col>V8</th><th scope=col>V9</th><th scope=col>V10</th><th scope=col>V11</th><th scope=col>V12</th><th scope=col>V13</th><th scope=col>V14</th></tr>\n",
       "\t<tr><th></th><th scope=col>&lt;chr&gt;</th><th scope=col>&lt;chr&gt;</th><th scope=col>&lt;chr&gt;</th><th scope=col>&lt;chr&gt;</th><th scope=col>&lt;int&gt;</th><th scope=col>&lt;chr&gt;</th><th scope=col>&lt;dbl&gt;</th><th scope=col>&lt;dbl&gt;</th><th scope=col>&lt;dbl&gt;</th><th scope=col>&lt;dbl&gt;</th><th scope=col>&lt;dbl&gt;</th><th scope=col>&lt;dbl&gt;</th><th scope=col>&lt;chr&gt;</th></tr>\n",
       "</thead>\n",
       "<tbody>\n",
       "\t<tr><th scope=row>1</th><td>adipose_subcutaneous</td><td>ENSG00000147050.14</td><td>ENSG00000147050</td><td>KDM6A     </td><td>247</td><td>Adipose (sc)</td><td> 0.6133494</td><td> 5.0308617</td><td> 35.85874</td><td>3.150846e-157</td><td>5.079794e-153</td><td>347.77639</td><td>chrX </td></tr>\n",
       "\t<tr><th scope=row>2</th><td>adipose_subcutaneous</td><td>ENSG00000115041.12</td><td>ENSG00000115041</td><td>KCNIP3    </td><td>247</td><td>Adipose (sc)</td><td>-0.9458500</td><td> 3.4532379</td><td>-15.42637</td><td> 4.374046e-46</td><td> 6.410760e-43</td><td> 93.87157</td><td>chr2 </td></tr>\n",
       "\t<tr><th scope=row>3</th><td>adipose_subcutaneous</td><td>ENSG00000224525.2 </td><td>ENSG00000224525</td><td>AL591686.1</td><td>247</td><td>Adipose (sc)</td><td> 2.2244583</td><td>-1.4641204</td><td> 14.45808</td><td> 2.280549e-41</td><td> 2.828232e-38</td><td> 81.34529</td><td>chr1 </td></tr>\n",
       "\t<tr><th scope=row>4</th><td>adipose_subcutaneous</td><td>ENSG00000141449.14</td><td>ENSG00000141449</td><td>GREB1L    </td><td>247</td><td>Adipose (sc)</td><td>-1.4860060</td><td> 2.7133806</td><td>-13.23114</td><td> 1.272824e-35</td><td> 1.207086e-32</td><td> 69.99979</td><td>chr18</td></tr>\n",
       "\t<tr><th scope=row>5</th><td>adipose_subcutaneous</td><td>ENSG00000258484.3 </td><td>ENSG00000258484</td><td>SPESP1    </td><td>247</td><td>Adipose (sc)</td><td>-0.8885441</td><td> 0.9410518</td><td>-13.02960</td><td> 1.047185e-34</td><td> 8.441355e-32</td><td> 67.50586</td><td>chr15</td></tr>\n",
       "\t<tr><th scope=row>6</th><td>adipose_subcutaneous</td><td>ENSG00000134339.8 </td><td>ENSG00000134339</td><td>SAA2      </td><td>247</td><td>Adipose (sc)</td><td> 2.9752333</td><td> 2.7856727</td><td> 12.82938</td><td> 8.397650e-34</td><td> 6.260957e-31</td><td> 65.94905</td><td>chr11</td></tr>\n",
       "</tbody>\n",
       "</table>\n"
      ],
      "text/latex": [
       "A data.frame: 6 × 13\n",
       "\\begin{tabular}{r|lllllllllllll}\n",
       "  & V2 & V3 & V4 & V5 & V6 & V7 & V8 & V9 & V10 & V11 & V12 & V13 & V14\\\\\n",
       "  & <chr> & <chr> & <chr> & <chr> & <int> & <chr> & <dbl> & <dbl> & <dbl> & <dbl> & <dbl> & <dbl> & <chr>\\\\\n",
       "\\hline\n",
       "\t1 & adipose\\_subcutaneous & ENSG00000147050.14 & ENSG00000147050 & KDM6A      & 247 & Adipose (sc) &  0.6133494 &  5.0308617 &  35.85874 & 3.150846e-157 & 5.079794e-153 & 347.77639 & chrX \\\\\n",
       "\t2 & adipose\\_subcutaneous & ENSG00000115041.12 & ENSG00000115041 & KCNIP3     & 247 & Adipose (sc) & -0.9458500 &  3.4532379 & -15.42637 &  4.374046e-46 &  6.410760e-43 &  93.87157 & chr2 \\\\\n",
       "\t3 & adipose\\_subcutaneous & ENSG00000224525.2  & ENSG00000224525 & AL591686.1 & 247 & Adipose (sc) &  2.2244583 & -1.4641204 &  14.45808 &  2.280549e-41 &  2.828232e-38 &  81.34529 & chr1 \\\\\n",
       "\t4 & adipose\\_subcutaneous & ENSG00000141449.14 & ENSG00000141449 & GREB1L     & 247 & Adipose (sc) & -1.4860060 &  2.7133806 & -13.23114 &  1.272824e-35 &  1.207086e-32 &  69.99979 & chr18\\\\\n",
       "\t5 & adipose\\_subcutaneous & ENSG00000258484.3  & ENSG00000258484 & SPESP1     & 247 & Adipose (sc) & -0.8885441 &  0.9410518 & -13.02960 &  1.047185e-34 &  8.441355e-32 &  67.50586 & chr15\\\\\n",
       "\t6 & adipose\\_subcutaneous & ENSG00000134339.8  & ENSG00000134339 & SAA2       & 247 & Adipose (sc) &  2.9752333 &  2.7856727 &  12.82938 &  8.397650e-34 &  6.260957e-31 &  65.94905 & chr11\\\\\n",
       "\\end{tabular}\n"
      ],
      "text/markdown": [
       "\n",
       "A data.frame: 6 × 13\n",
       "\n",
       "| <!--/--> | V2 &lt;chr&gt; | V3 &lt;chr&gt; | V4 &lt;chr&gt; | V5 &lt;chr&gt; | V6 &lt;int&gt; | V7 &lt;chr&gt; | V8 &lt;dbl&gt; | V9 &lt;dbl&gt; | V10 &lt;dbl&gt; | V11 &lt;dbl&gt; | V12 &lt;dbl&gt; | V13 &lt;dbl&gt; | V14 &lt;chr&gt; |\n",
       "|---|---|---|---|---|---|---|---|---|---|---|---|---|---|\n",
       "| 1 | adipose_subcutaneous | ENSG00000147050.14 | ENSG00000147050 | KDM6A      | 247 | Adipose (sc) |  0.6133494 |  5.0308617 |  35.85874 | 3.150846e-157 | 5.079794e-153 | 347.77639 | chrX  |\n",
       "| 2 | adipose_subcutaneous | ENSG00000115041.12 | ENSG00000115041 | KCNIP3     | 247 | Adipose (sc) | -0.9458500 |  3.4532379 | -15.42637 |  4.374046e-46 |  6.410760e-43 |  93.87157 | chr2  |\n",
       "| 3 | adipose_subcutaneous | ENSG00000224525.2  | ENSG00000224525 | AL591686.1 | 247 | Adipose (sc) |  2.2244583 | -1.4641204 |  14.45808 |  2.280549e-41 |  2.828232e-38 |  81.34529 | chr1  |\n",
       "| 4 | adipose_subcutaneous | ENSG00000141449.14 | ENSG00000141449 | GREB1L     | 247 | Adipose (sc) | -1.4860060 |  2.7133806 | -13.23114 |  1.272824e-35 |  1.207086e-32 |  69.99979 | chr18 |\n",
       "| 5 | adipose_subcutaneous | ENSG00000258484.3  | ENSG00000258484 | SPESP1     | 247 | Adipose (sc) | -0.8885441 |  0.9410518 | -13.02960 |  1.047185e-34 |  8.441355e-32 |  67.50586 | chr15 |\n",
       "| 6 | adipose_subcutaneous | ENSG00000134339.8  | ENSG00000134339 | SAA2       | 247 | Adipose (sc) |  2.9752333 |  2.7856727 |  12.82938 |  8.397650e-34 |  6.260957e-31 |  65.94905 | chr11 |\n",
       "\n"
      ],
      "text/plain": [
       "  V2                   V3                 V4              V5         V6 \n",
       "1 adipose_subcutaneous ENSG00000147050.14 ENSG00000147050 KDM6A      247\n",
       "2 adipose_subcutaneous ENSG00000115041.12 ENSG00000115041 KCNIP3     247\n",
       "3 adipose_subcutaneous ENSG00000224525.2  ENSG00000224525 AL591686.1 247\n",
       "4 adipose_subcutaneous ENSG00000141449.14 ENSG00000141449 GREB1L     247\n",
       "5 adipose_subcutaneous ENSG00000258484.3  ENSG00000258484 SPESP1     247\n",
       "6 adipose_subcutaneous ENSG00000134339.8  ENSG00000134339 SAA2       247\n",
       "  V7           V8         V9         V10       V11           V12          \n",
       "1 Adipose (sc)  0.6133494  5.0308617  35.85874 3.150846e-157 5.079794e-153\n",
       "2 Adipose (sc) -0.9458500  3.4532379 -15.42637  4.374046e-46  6.410760e-43\n",
       "3 Adipose (sc)  2.2244583 -1.4641204  14.45808  2.280549e-41  2.828232e-38\n",
       "4 Adipose (sc) -1.4860060  2.7133806 -13.23114  1.272824e-35  1.207086e-32\n",
       "5 Adipose (sc) -0.8885441  0.9410518 -13.02960  1.047185e-34  8.441355e-32\n",
       "6 Adipose (sc)  2.9752333  2.7856727  12.82938  8.397650e-34  6.260957e-31\n",
       "  V13       V14  \n",
       "1 347.77639 chrX \n",
       "2  93.87157 chr2 \n",
       "3  81.34529 chr1 \n",
       "4  69.99979 chr18\n",
       "5  67.50586 chr15\n",
       "6  65.94905 chr11"
      ]
     },
     "metadata": {},
     "output_type": "display_data"
    }
   ],
   "source": [
    "head(dge)"
   ]
  },
  {
   "cell_type": "code",
   "execution_count": 12,
   "metadata": {
    "execution": {
     "iopub.execute_input": "2021-05-21T02:48:17.359916Z",
     "iopub.status.busy": "2021-05-21T02:48:17.358761Z",
     "iopub.status.idle": "2021-05-21T02:48:17.421081Z",
     "shell.execute_reply": "2021-05-21T02:48:17.419974Z"
    },
    "papermill": {
     "duration": 0.082949,
     "end_time": "2021-05-21T02:48:17.421211",
     "exception": false,
     "start_time": "2021-05-21T02:48:17.338262",
     "status": "completed"
    },
    "tags": []
   },
   "outputs": [
    {
     "name": "stderr",
     "output_type": "stream",
     "text": [
      "nondge_xchrom: 848\n",
      "\n",
      "n_dge_xchrom_escape: 36 n_dge_xchrom_non_escape: 74\n",
      "\n",
      "n_nondge_xchrom_escape: 58 n_nondge_xchrom_non_escape: 790\n",
      "\n",
      "n_xchrom_genes: 959\n",
      "\n"
     ]
    }
   ],
   "source": [
    "dge_genes <- sort(dge$V5)\n",
    "xchromosomalDiffGenes <- intersect(dge_genes, XchromGenes)\n",
    "xchromosomalDiffGenes <- sort(xchromosomalDiffGenes)\n",
    "dge_xchrom_escape <- intersect(xchrom_escaped, xchromosomalDiffGenes)\n",
    "dge_xchrom_nonescape <- setdiff(xchromosomalDiffGenes, xchrom_escaped)\n",
    "n_dge_xchrom <- length(xchromosomalDiffGenes)\n",
    "n_dge_xchrom_escape <- length(dge_xchrom_escape)\n",
    "n_dge_xchrom_nonescape <- length(dge_xchrom_nonescape)\n",
    "\n",
    "# Non-DGE X chromosomal\n",
    "nondge_xchrom <- setdiff(XchromGenes, xchromosomalDiffGenes)\n",
    "n_nondge_xchrom <- length(nondge_xchrom)\n",
    "nondge_xchrom_escape <- intersect(nondge_xchrom, xchrom_escaped)\n",
    "nondge_xchrom_non_escape <- intersect(nondge_xchrom, xchrom_non_escaped)\n",
    "n_nondge_xchrom_escape <- length(nondge_xchrom_escape)\n",
    "n_nondge_xchrom_non_escape <- length(nondge_xchrom_non_escape)\n",
    "\n",
    "subtotal <- n_dge_xchrom_escape + n_dge_xchrom_nonescape + n_nondge_xchrom_escape + n_nondge_xchrom_non_escape\n",
    "\n",
    "\n",
    "message(\"nondge_xchrom: \", n_nondge_xchrom)\n",
    "message(\"n_dge_xchrom_escape: \", n_dge_xchrom_escape, \" n_dge_xchrom_non_escape: \", n_dge_xchrom_nonescape)\n",
    "message(\"n_nondge_xchrom_escape: \", n_nondge_xchrom_escape, \" n_nondge_xchrom_non_escape: \", n_nondge_xchrom_non_escape)\n",
    "message(\"n_xchrom_genes: \",n_xchrom_genes)"
   ]
  },
  {
   "cell_type": "code",
   "execution_count": 13,
   "metadata": {
    "execution": {
     "iopub.execute_input": "2021-05-21T02:48:17.461907Z",
     "iopub.status.busy": "2021-05-21T02:48:17.460602Z",
     "iopub.status.idle": "2021-05-21T02:48:17.483840Z",
     "shell.execute_reply": "2021-05-21T02:48:17.482733Z"
    },
    "papermill": {
     "duration": 0.045372,
     "end_time": "2021-05-21T02:48:17.483975",
     "exception": false,
     "start_time": "2021-05-21T02:48:17.438603",
     "status": "completed"
    },
    "tags": []
   },
   "outputs": [
    {
     "data": {
      "text/html": [
       "<table class=\"dataframe\">\n",
       "<caption>A matrix: 2 × 2 of type int</caption>\n",
       "<tbody>\n",
       "\t<tr><td>36</td><td> 74</td></tr>\n",
       "\t<tr><td>58</td><td>790</td></tr>\n",
       "</tbody>\n",
       "</table>\n"
      ],
      "text/latex": [
       "A matrix: 2 × 2 of type int\n",
       "\\begin{tabular}{ll}\n",
       "\t 36 &  74\\\\\n",
       "\t 58 & 790\\\\\n",
       "\\end{tabular}\n"
      ],
      "text/markdown": [
       "\n",
       "A matrix: 2 × 2 of type int\n",
       "\n",
       "| 36 |  74 |\n",
       "| 58 | 790 |\n",
       "\n"
      ],
      "text/plain": [
       "     [,1] [,2]\n",
       "[1,] 36    74 \n",
       "[2,] 58   790 "
      ]
     },
     "metadata": {},
     "output_type": "display_data"
    },
    {
     "data": {
      "text/plain": [
       "\n",
       "\tFisher's Exact Test for Count Data\n",
       "\n",
       "data:  x_vs_dge\n",
       "p-value = 4.224e-13\n",
       "alternative hypothesis: true odds ratio is not equal to 1\n",
       "95 percent confidence interval:\n",
       "  3.960246 10.948040\n",
       "sample estimates:\n",
       "odds ratio \n",
       "   6.60328 \n"
      ]
     },
     "metadata": {},
     "output_type": "display_data"
    }
   ],
   "source": [
    "x_vs_dge <- matrix(c(n_dge_xchrom_escape, n_dge_xchrom_nonescape, n_nondge_xchrom_escape, n_nondge_xchrom_non_escape), nrow=2,byrow = TRUE)\n",
    "x_vs_dge\n",
    "fisher.test(x_vs_dge)"
   ]
  },
  {
   "cell_type": "markdown",
   "metadata": {
    "papermill": {
     "duration": 0.01802,
     "end_time": "2021-05-21T02:48:17.519642",
     "exception": false,
     "start_time": "2021-05-21T02:48:17.501622",
     "status": "completed"
    },
    "tags": []
   },
   "source": [
    "# **Make grouped bar plot**\n",
    "### First collect the counts of escape/inactive/variable X chromosomal, AS, and DGE genes"
   ]
  },
  {
   "cell_type": "code",
   "execution_count": 14,
   "metadata": {
    "execution": {
     "iopub.execute_input": "2021-05-21T02:48:17.562530Z",
     "iopub.status.busy": "2021-05-21T02:48:17.561153Z",
     "iopub.status.idle": "2021-05-21T02:48:17.582614Z",
     "shell.execute_reply": "2021-05-21T02:48:17.581340Z"
    },
    "lines_to_next_cell": 2,
    "papermill": {
     "duration": 0.043823,
     "end_time": "2021-05-21T02:48:17.582755",
     "exception": false,
     "start_time": "2021-05-21T02:48:17.538932",
     "status": "completed"
    },
    "tags": []
   },
   "outputs": [],
   "source": [
    "# Colors for uniformity\n",
    "# Let's use the following colors for uniformity\n",
    "darkblue <- \"#3c5488\"\n",
    "blue <- \"#4BDDB5\"\n",
    "red <- \"#e64b35\"\n",
    "nearlyblack <- \"#040C04\"\n",
    "purple <- \"#790079\"\n",
    "orange = \"#ff9900\"\n",
    "green <- \"#00A087\""
   ]
  },
  {
   "cell_type": "markdown",
   "metadata": {
    "papermill": {
     "duration": 0.01771,
     "end_time": "2021-05-21T02:48:17.618736",
     "exception": false,
     "start_time": "2021-05-21T02:48:17.601026",
     "status": "completed"
    },
    "tags": []
   },
   "source": [
    "### Transform counts into percentages"
   ]
  },
  {
   "cell_type": "code",
   "execution_count": 15,
   "metadata": {
    "execution": {
     "iopub.execute_input": "2021-05-21T02:48:17.661570Z",
     "iopub.status.busy": "2021-05-21T02:48:17.660163Z",
     "iopub.status.idle": "2021-05-21T02:48:17.698271Z",
     "shell.execute_reply": "2021-05-21T02:48:17.696993Z"
    },
    "papermill": {
     "duration": 0.062343,
     "end_time": "2021-05-21T02:48:17.698405",
     "exception": false,
     "start_time": "2021-05-21T02:48:17.636062",
     "status": "completed"
    },
    "tags": []
   },
   "outputs": [
    {
     "name": "stderr",
     "output_type": "stream",
     "text": [
      "AS escape: 3 (33.3%) AS non-escape: 6 (66.6666666666667%)\n",
      "\n",
      "X chr escape: 94 ( 9.8%) X chr nonescape: 865 (90.2%)\n",
      "\n",
      "DGE escape: 36 (32.7%) DGE inactive: 0.672727272727273 (67.3%)\n",
      "\n"
     ]
    }
   ],
   "source": [
    "# as.total <- as.escape.len + as.non_escape.len\n",
    "n_das_total <- n_das_xchrom_escape + n_das_xchrom_non_escape\n",
    "\n",
    "\n",
    " \n",
    "\n",
    "as.escape.per <-  n_das_xchrom_escape/n_das_total\n",
    "as.nonescape.per <-  n_das_xchrom_non_escape/n_das_total\n",
    "x.total <- n_xchrom_escaped + n_xchrom_non_escaped\n",
    "x.escape.per <-  n_xchrom_escaped/x.total\n",
    "x.nonescape.per <- n_xchrom_non_escaped/x.total\n",
    "dge.total <-n_dge_xchrom_escape +n_dge_xchrom_nonescape\n",
    "dge.escape.per <-  n_dge_xchrom_escape/dge.total\n",
    "dge.nonescape.per <-  n_dge_xchrom_nonescape/dge.total\n",
    "message(\"AS escape: \", n_das_xchrom_escape, \" (\", formatC(100*as.escape.per, digits=3), \"%) AS non-escape: \", n_das_xchrom_non_escape , \" (\",100*as.nonescape.per ,\"%)\")\n",
    "message(\"X chr escape: \", n_xchrom_escaped, \" (\",formatC(100*x.escape.per,digits=3), \"%) X chr nonescape: \",n_xchrom_non_escaped, \" (\", formatC(100*x.nonescape.per,digits=3),\"%)\")\n",
    "message(\"DGE escape: \",  n_dge_xchrom_escape, \" (\", formatC(100*dge.escape.per,digits=3), \"%) DGE inactive: \", dge.nonescape.per,\" (\", formatC(100*dge.nonescape.per,digits=3),\"%)\")"
   ]
  },
  {
   "cell_type": "code",
   "execution_count": 16,
   "metadata": {
    "execution": {
     "iopub.execute_input": "2021-05-21T02:48:17.740631Z",
     "iopub.status.busy": "2021-05-21T02:48:17.739359Z",
     "iopub.status.idle": "2021-05-21T02:48:18.278954Z",
     "shell.execute_reply": "2021-05-21T02:48:18.277742Z"
    },
    "papermill": {
     "duration": 0.56201,
     "end_time": "2021-05-21T02:48:18.279154",
     "exception": false,
     "start_time": "2021-05-21T02:48:17.717144",
     "status": "completed"
    },
    "tags": []
   },
   "outputs": [
    {
     "name": "stderr",
     "output_type": "stream",
     "text": [
      "Saving 6.67 x 6.67 in image\n",
      "\n",
      "Saved plot as ../pdf/XchromosomalEscape.pdf\n",
      "\n"
     ]
    },
    {
     "data": {
      "image/png": "[encoded data removed]",
      "text/plain": [
       "plot without title"
      ]
     },
     "metadata": {
      "image/png": {
       "height": 420,
       "width": 420
      }
     },
     "output_type": "display_data"
    }
   ],
   "source": [
    "library(ggplot2)\n",
    " \n",
    "# create a dataset\n",
    "category <- c(rep(\"DAS\" , 2) , rep(\"chr X\" , 2) , rep(\"DGE\" , 2) )\n",
    "condition <- rep(c(\"escape\" , \"inactive\") , 3)\n",
    "value <- c(as.escape.per, as.nonescape.per,x.escape.per, x.nonescape.per,dge.escape.per, dge.nonescape.per)\n",
    "data <- data.frame(category,condition,value)\n",
    "\n",
    "\n",
    "# Grouped\n",
    "g <- ggplot(data, aes(fill=condition, y=value, x=category), color=barcolors) + \n",
    "    geom_bar(position=\"dodge\", stat=\"identity\") +\n",
    "    theme_bw() +\n",
    "    scale_y_continuous(labels = scales::percent) +\n",
    "    scale_fill_manual(values=c(red, darkblue)) +\n",
    "    theme(axis.text = element_text(size=32),\n",
    "          axis.title = element_blank(),\n",
    "          legend.title = element_blank(),\n",
    "          legend.text = element_text(size = 32),\n",
    "          legend.position = c(0.82,0.9)\n",
    "          )\n",
    "ggsave(\"../pdf/XchromosomalEscape.pdf\",g)\n",
    "message(\"Saved plot as ../pdf/XchromosomalEscape.pdf\")\n",
    "g"
   ]
  }
 ],
 "metadata": {
  "kernelspec": {
   "display_name": "R",
   "language": "R",
   "name": "ir"
  },
  "language_info": {
   "codemirror_mode": "r",
   "file_extension": ".r",
   "mimetype": "text/x-r-source",
   "name": "R",
   "pygments_lexer": "r",
   "version": "3.6.1"
  },
  "papermill": {
   "duration": 3.226438,
   "end_time": "2021-05-21T02:48:18.409118",
   "environment_variables": {},
   "exception": null,
   "input_path": "XchromosomalEscape.ipynb",
   "output_path": "XchromosomalEscape.ipynb",
   "parameters": {},
   "start_time": "2021-05-21T02:48:15.182680",
   "version": "2.1.2"
  }
 },
 "nbformat": 4,
 "nbformat_minor": 5
}
