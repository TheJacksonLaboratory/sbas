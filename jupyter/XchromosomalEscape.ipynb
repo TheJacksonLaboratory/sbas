{
 "cells": [
  {
   "cell_type": "markdown",
   "id": "67b57be2",
   "metadata": {
    "papermill": {
     "duration": 0.01252,
     "end_time": "2021-06-28T12:32:49.368856",
     "exception": false,
     "start_time": "2021-06-28T12:32:49.356336",
     "status": "completed"
    },
    "tags": []
   },
   "source": [
    "# **AS events vs X chromosomal escape**\n"
   ]
  },
  {
   "cell_type": "markdown",
   "id": "363a92e2",
   "metadata": {
    "papermill": {
     "duration": 0.010716,
     "end_time": "2021-06-28T12:32:49.390935",
     "exception": false,
     "start_time": "2021-06-28T12:32:49.380219",
     "status": "completed"
    },
    "tags": []
   },
   "source": [
    "It has been reported that differentially expressed sex-biased genes are likely to be \n",
    "linked to escape from X chromosome inactivation ([Landscape of X chromosome inactivation across human tissues.\n",
    "Tukiainen T, et al. Nature 2017;550:244-248](https://pubmed.ncbi.nlm.nih.gov/29022598/)). \n",
    "\n",
    "Because of the observed overlap between sex-biased differential expression and AS, we hypothesized that AS events might be more commonly observed in X chromosomal genes that escape inactivation. "
   ]
  },
  {
   "cell_type": "markdown",
   "id": "a6cc3637",
   "metadata": {
    "papermill": {
     "duration": 0.010613,
     "end_time": "2021-06-28T12:32:49.412317",
     "exception": false,
     "start_time": "2021-06-28T12:32:49.401704",
     "status": "completed"
    },
    "tags": []
   },
   "source": [
    "## Retrieve data about X chromosomal escape\n",
    "This data was extracted from the supplemental material of the Tukiainen paper. Genes are characterized as\n",
    "\n",
    "1. Escape\n",
    "2. Inactive\n",
    "3. Variable\n",
    "4. Unknown\n",
    "\n",
    "We examine here the hypothesis that alternatively spliced genes are more likely to escape X inactivation than one would expect\n",
    "from the X chromosomal average. We compare the proportions of genes labeled ``Escape`` and ``non-Escape`` (everything else) using a Fisher exact test."
   ]
  },
  {
   "cell_type": "code",
   "execution_count": 1,
   "id": "389eea46",
   "metadata": {
    "execution": {
     "iopub.execute_input": "2021-06-28T12:32:49.556644Z",
     "iopub.status.busy": "2021-06-28T12:32:49.553224Z",
     "iopub.status.idle": "2021-06-28T12:32:49.968261Z",
     "shell.execute_reply": "2021-06-28T12:32:49.966783Z"
    },
    "papermill": {
     "duration": 0.54542,
     "end_time": "2021-06-28T12:32:49.968492",
     "exception": false,
     "start_time": "2021-06-28T12:32:49.423072",
     "status": "completed"
    },
    "tags": []
   },
   "outputs": [],
   "source": [
    "suppressMessages({\n",
    "    options(warn = -1) \n",
    "    library(ggplot2)\n",
    "})"
   ]
  },
  {
   "cell_type": "code",
   "execution_count": 2,
   "id": "092ddb35",
   "metadata": {
    "execution": {
     "iopub.execute_input": "2021-06-28T12:32:50.024320Z",
     "iopub.status.busy": "2021-06-28T12:32:49.995471Z",
     "iopub.status.idle": "2021-06-28T12:32:50.044607Z",
     "shell.execute_reply": "2021-06-28T12:32:50.043281Z"
    },
    "papermill": {
     "duration": 0.064247,
     "end_time": "2021-06-28T12:32:50.044733",
     "exception": false,
     "start_time": "2021-06-28T12:32:49.980486",
     "status": "completed"
    },
    "tags": []
   },
   "outputs": [],
   "source": [
    "xchromgenetable <- read.table(file=\"../assets/TukiainenSuppFig2extract.tsv\", header=FALSE, sep=\"\\t\",\n",
    "                               skipNul=FALSE, stringsAsFactors = FALSE)\n",
    "colnames(xchromgenetable)  <- c(\"ENSG.id\",\"symbol\",\"escape.status\",\"par.status\")"
   ]
  },
  {
   "cell_type": "markdown",
   "id": "51687247",
   "metadata": {
    "papermill": {
     "duration": 0.010879,
     "end_time": "2021-06-28T12:32:50.066356",
     "exception": false,
     "start_time": "2021-06-28T12:32:50.055477",
     "status": "completed"
    },
    "tags": []
   },
   "source": [
    "# Collect set of X chromosomal genes from the Tukiainen paper"
   ]
  },
  {
   "cell_type": "code",
   "execution_count": 3,
   "id": "7ef30411",
   "metadata": {
    "execution": {
     "iopub.execute_input": "2021-06-28T12:32:50.094775Z",
     "iopub.status.busy": "2021-06-28T12:32:50.093004Z",
     "iopub.status.idle": "2021-06-28T12:32:50.119264Z",
     "shell.execute_reply": "2021-06-28T12:32:50.117794Z"
    },
    "papermill": {
     "duration": 0.04222,
     "end_time": "2021-06-28T12:32:50.119391",
     "exception": false,
     "start_time": "2021-06-28T12:32:50.077171",
     "status": "completed"
    },
    "tags": []
   },
   "outputs": [
    {
     "data": {
      "text/html": [
       "<table class=\"dataframe\">\n",
       "<caption>A data.frame: 6 × 4</caption>\n",
       "<thead>\n",
       "\t<tr><th></th><th scope=col>ENSG.id</th><th scope=col>symbol</th><th scope=col>escape.status</th><th scope=col>par.status</th></tr>\n",
       "\t<tr><th></th><th scope=col>&lt;chr&gt;</th><th scope=col>&lt;chr&gt;</th><th scope=col>&lt;chr&gt;</th><th scope=col>&lt;chr&gt;</th></tr>\n",
       "</thead>\n",
       "<tbody>\n",
       "\t<tr><th scope=row>1</th><td>ENSG00000000003.10</td><td>TSPAN6</td><td>Variable</td><td>nonPAR</td></tr>\n",
       "\t<tr><th scope=row>2</th><td>ENSG00000000005.5 </td><td>TNMD  </td><td>Unknown </td><td>nonPAR</td></tr>\n",
       "\t<tr><th scope=row>3</th><td>ENSG00000001497.12</td><td>LAS1L </td><td>Inactive</td><td>nonPAR</td></tr>\n",
       "\t<tr><th scope=row>4</th><td>ENSG00000002586.13</td><td>CD99  </td><td>Escape  </td><td>PAR   </td></tr>\n",
       "\t<tr><th scope=row>5</th><td>ENSG00000003096.9 </td><td>KLHL13</td><td>Inactive</td><td>nonPAR</td></tr>\n",
       "\t<tr><th scope=row>6</th><td>ENSG00000004848.6 </td><td>ARX   </td><td>Unknown </td><td>nonPAR</td></tr>\n",
       "</tbody>\n",
       "</table>\n"
      ],
      "text/latex": [
       "A data.frame: 6 × 4\n",
       "\\begin{tabular}{r|llll}\n",
       "  & ENSG.id & symbol & escape.status & par.status\\\\\n",
       "  & <chr> & <chr> & <chr> & <chr>\\\\\n",
       "\\hline\n",
       "\t1 & ENSG00000000003.10 & TSPAN6 & Variable & nonPAR\\\\\n",
       "\t2 & ENSG00000000005.5  & TNMD   & Unknown  & nonPAR\\\\\n",
       "\t3 & ENSG00000001497.12 & LAS1L  & Inactive & nonPAR\\\\\n",
       "\t4 & ENSG00000002586.13 & CD99   & Escape   & PAR   \\\\\n",
       "\t5 & ENSG00000003096.9  & KLHL13 & Inactive & nonPAR\\\\\n",
       "\t6 & ENSG00000004848.6  & ARX    & Unknown  & nonPAR\\\\\n",
       "\\end{tabular}\n"
      ],
      "text/markdown": [
       "\n",
       "A data.frame: 6 × 4\n",
       "\n",
       "| <!--/--> | ENSG.id &lt;chr&gt; | symbol &lt;chr&gt; | escape.status &lt;chr&gt; | par.status &lt;chr&gt; |\n",
       "|---|---|---|---|---|\n",
       "| 1 | ENSG00000000003.10 | TSPAN6 | Variable | nonPAR |\n",
       "| 2 | ENSG00000000005.5  | TNMD   | Unknown  | nonPAR |\n",
       "| 3 | ENSG00000001497.12 | LAS1L  | Inactive | nonPAR |\n",
       "| 4 | ENSG00000002586.13 | CD99   | Escape   | PAR    |\n",
       "| 5 | ENSG00000003096.9  | KLHL13 | Inactive | nonPAR |\n",
       "| 6 | ENSG00000004848.6  | ARX    | Unknown  | nonPAR |\n",
       "\n"
      ],
      "text/plain": [
       "  ENSG.id            symbol escape.status par.status\n",
       "1 ENSG00000000003.10 TSPAN6 Variable      nonPAR    \n",
       "2 ENSG00000000005.5  TNMD   Unknown       nonPAR    \n",
       "3 ENSG00000001497.12 LAS1L  Inactive      nonPAR    \n",
       "4 ENSG00000002586.13 CD99   Escape        PAR       \n",
       "5 ENSG00000003096.9  KLHL13 Inactive      nonPAR    \n",
       "6 ENSG00000004848.6  ARX    Unknown       nonPAR    "
      ]
     },
     "metadata": {},
     "output_type": "display_data"
    }
   ],
   "source": [
    "head(xchromgenetable)"
   ]
  },
  {
   "cell_type": "code",
   "execution_count": 4,
   "id": "e86e14b8",
   "metadata": {
    "execution": {
     "iopub.execute_input": "2021-06-28T12:32:50.148444Z",
     "iopub.status.busy": "2021-06-28T12:32:50.146625Z",
     "iopub.status.idle": "2021-06-28T12:32:50.166747Z",
     "shell.execute_reply": "2021-06-28T12:32:50.165524Z"
    },
    "papermill": {
     "duration": 0.035909,
     "end_time": "2021-06-28T12:32:50.166940",
     "exception": false,
     "start_time": "2021-06-28T12:32:50.131031",
     "status": "completed"
    },
    "tags": []
   },
   "outputs": [
    {
     "name": "stderr",
     "output_type": "stream",
     "text": [
      "Number of X chromosomal genes from Tukiainen paper: 959\n",
      "\n"
     ]
    }
   ],
   "source": [
    "XchromGenes <- sort(xchromgenetable$symbol)\n",
    "n_xchrom_genes <- length(XchromGenes)\n",
    "message(\"Number of X chromosomal genes from Tukiainen paper: \", n_xchrom_genes)"
   ]
  },
  {
   "cell_type": "code",
   "execution_count": 5,
   "id": "c27d2796",
   "metadata": {
    "execution": {
     "iopub.execute_input": "2021-06-28T12:32:50.195329Z",
     "iopub.status.busy": "2021-06-28T12:32:50.194167Z",
     "iopub.status.idle": "2021-06-28T12:32:50.226157Z",
     "shell.execute_reply": "2021-06-28T12:32:50.224900Z"
    },
    "papermill": {
     "duration": 0.047512,
     "end_time": "2021-06-28T12:32:50.226281",
     "exception": false,
     "start_time": "2021-06-28T12:32:50.178769",
     "status": "completed"
    },
    "tags": []
   },
   "outputs": [
    {
     "name": "stderr",
     "output_type": "stream",
     "text": [
      "X chromosomal genes from Tukiainen et al n=959\n",
      "\n"
     ]
    },
    {
     "name": "stderr",
     "output_type": "stream",
     "text": [
      "Escaped X chromomosal genes: 94 of a total of 959 X-chromosomal genes:  9.8%\n",
      "\n"
     ]
    },
    {
     "name": "stderr",
     "output_type": "stream",
     "text": [
      "Non-Escaped X chromomosal genes: 865 of a total of 865 X-chromosomal genes: 90.2%\n",
      "\n"
     ]
    }
   ],
   "source": [
    "xchrom_escaped <- sort(xchromgenetable[xchromgenetable$escape.status=='Escape',]$symbol)\n",
    "n_xchrom_escaped <-length(xchrom_escaped)\n",
    "xchrom_non_escaped <- sort(xchromgenetable[xchromgenetable$escape.status!='Escape',]$symbol)\n",
    "n_xchrom_non_escaped <- length(xchrom_non_escaped)\n",
    "if (n_xchrom_genes != (n_xchrom_escaped + n_xchrom_non_escaped)) {\n",
    "    stop(\"Problems extracting correct number of X chromosomal genes\")\n",
    "}\n",
    "\n",
    "message(\"X chromosomal genes from Tukiainen et al n=\", n_xchrom_genes)\n",
    "message(\"Escaped X chromomosal genes: \", n_xchrom_escaped, \" of a total of \",n_xchrom_genes, \" X-chromosomal genes: \", formatC((100*n_xchrom_escaped/n_xchrom_genes), digits=3),\"%\")\n",
    "message(\"Non-Escaped X chromomosal genes: \", n_xchrom_non_escaped, \" of a total of \", n_xchrom_non_escaped, \" X-chromosomal genes: \", formatC((100*n_xchrom_non_escaped/n_xchrom_genes), digits=3),\"%\")"
   ]
  },
  {
   "cell_type": "markdown",
   "id": "bb6593a6",
   "metadata": {
    "papermill": {
     "duration": 0.012101,
     "end_time": "2021-06-28T12:32:50.250726",
     "exception": false,
     "start_time": "2021-06-28T12:32:50.238625",
     "status": "completed"
    },
    "tags": []
   },
   "source": [
    "# Check overlap of differentially spliced genes with X-chromosomal escaped genes\n",
    "First we retrieve significantly differentially alternatively spliced (DAS) genes"
   ]
  },
  {
   "cell_type": "code",
   "execution_count": 6,
   "id": "56321948",
   "metadata": {
    "execution": {
     "iopub.execute_input": "2021-06-28T12:32:50.285342Z",
     "iopub.status.busy": "2021-06-28T12:32:50.283755Z",
     "iopub.status.idle": "2021-06-28T12:32:50.295829Z",
     "shell.execute_reply": "2021-06-28T12:32:50.294693Z"
    },
    "papermill": {
     "duration": 0.032226,
     "end_time": "2021-06-28T12:32:50.295962",
     "exception": false,
     "start_time": "2021-06-28T12:32:50.263736",
     "status": "completed"
    },
    "tags": []
   },
   "outputs": [],
   "source": [
    "total_AS_Genes <- read.table(file=\"../data/Total_AS_by_geneSymbol.tsv\", header=TRUE, sep=\"\\t\", skipNul=FALSE, stringsAsFactors = FALSE)"
   ]
  },
  {
   "cell_type": "code",
   "execution_count": 7,
   "id": "3a35eec6",
   "metadata": {
    "execution": {
     "iopub.execute_input": "2021-06-28T12:32:50.326078Z",
     "iopub.status.busy": "2021-06-28T12:32:50.324732Z",
     "iopub.status.idle": "2021-06-28T12:32:50.345258Z",
     "shell.execute_reply": "2021-06-28T12:32:50.343979Z"
    },
    "papermill": {
     "duration": 0.036815,
     "end_time": "2021-06-28T12:32:50.345402",
     "exception": false,
     "start_time": "2021-06-28T12:32:50.308587",
     "status": "completed"
    },
    "tags": []
   },
   "outputs": [
    {
     "data": {
      "text/html": [
       "<table class=\"dataframe\">\n",
       "<caption>A data.frame: 6 × 2</caption>\n",
       "<thead>\n",
       "\t<tr><th></th><th scope=col>GeneSymbol</th><th scope=col>n</th></tr>\n",
       "\t<tr><th></th><th scope=col>&lt;chr&gt;</th><th scope=col>&lt;int&gt;</th></tr>\n",
       "</thead>\n",
       "<tbody>\n",
       "\t<tr><th scope=row>1</th><td>XIST  </td><td>25</td></tr>\n",
       "\t<tr><th scope=row>2</th><td>KDM5C </td><td>14</td></tr>\n",
       "\t<tr><th scope=row>3</th><td>MUC1  </td><td> 6</td></tr>\n",
       "\t<tr><th scope=row>4</th><td>SORBS2</td><td> 6</td></tr>\n",
       "\t<tr><th scope=row>5</th><td>DDX3X </td><td> 5</td></tr>\n",
       "\t<tr><th scope=row>6</th><td>CELSR2</td><td> 4</td></tr>\n",
       "</tbody>\n",
       "</table>\n"
      ],
      "text/latex": [
       "A data.frame: 6 × 2\n",
       "\\begin{tabular}{r|ll}\n",
       "  & GeneSymbol & n\\\\\n",
       "  & <chr> & <int>\\\\\n",
       "\\hline\n",
       "\t1 & XIST   & 25\\\\\n",
       "\t2 & KDM5C  & 14\\\\\n",
       "\t3 & MUC1   &  6\\\\\n",
       "\t4 & SORBS2 &  6\\\\\n",
       "\t5 & DDX3X  &  5\\\\\n",
       "\t6 & CELSR2 &  4\\\\\n",
       "\\end{tabular}\n"
      ],
      "text/markdown": [
       "\n",
       "A data.frame: 6 × 2\n",
       "\n",
       "| <!--/--> | GeneSymbol &lt;chr&gt; | n &lt;int&gt; |\n",
       "|---|---|---|\n",
       "| 1 | XIST   | 25 |\n",
       "| 2 | KDM5C  | 14 |\n",
       "| 3 | MUC1   |  6 |\n",
       "| 4 | SORBS2 |  6 |\n",
       "| 5 | DDX3X  |  5 |\n",
       "| 6 | CELSR2 |  4 |\n",
       "\n"
      ],
      "text/plain": [
       "  GeneSymbol n \n",
       "1 XIST       25\n",
       "2 KDM5C      14\n",
       "3 MUC1        6\n",
       "4 SORBS2      6\n",
       "5 DDX3X       5\n",
       "6 CELSR2      4"
      ]
     },
     "metadata": {},
     "output_type": "display_data"
    }
   ],
   "source": [
    "head(total_AS_Genes)"
   ]
  },
  {
   "cell_type": "code",
   "execution_count": 8,
   "id": "a45da2ea",
   "metadata": {
    "execution": {
     "iopub.execute_input": "2021-06-28T12:32:50.376743Z",
     "iopub.status.busy": "2021-06-28T12:32:50.375354Z",
     "iopub.status.idle": "2021-06-28T12:32:50.393404Z",
     "shell.execute_reply": "2021-06-28T12:32:50.391730Z"
    },
    "papermill": {
     "duration": 0.034862,
     "end_time": "2021-06-28T12:32:50.393540",
     "exception": false,
     "start_time": "2021-06-28T12:32:50.358678",
     "status": "completed"
    },
    "tags": []
   },
   "outputs": [
    {
     "name": "stderr",
     "output_type": "stream",
     "text": [
      "Total X chromosomal genes showing alternative splicing: 20\n",
      "\n"
     ]
    }
   ],
   "source": [
    "sigAsGenes <- sort(total_AS_Genes$GeneSymbol)\n",
    "xchromosomalSigAsGenes <- intersect(sigAsGenes,XchromGenes)\n",
    "message(\"Total X chromosomal genes showing alternative splicing: \", length(xchromosomalSigAsGenes))"
   ]
  },
  {
   "cell_type": "code",
   "execution_count": 9,
   "id": "57148a98",
   "metadata": {
    "execution": {
     "iopub.execute_input": "2021-06-28T12:32:50.424702Z",
     "iopub.status.busy": "2021-06-28T12:32:50.423402Z",
     "iopub.status.idle": "2021-06-28T12:32:50.478683Z",
     "shell.execute_reply": "2021-06-28T12:32:50.477497Z"
    },
    "papermill": {
     "duration": 0.072372,
     "end_time": "2021-06-28T12:32:50.478806",
     "exception": false,
     "start_time": "2021-06-28T12:32:50.406434",
     "status": "completed"
    },
    "tags": []
   },
   "outputs": [
    {
     "name": "stderr",
     "output_type": "stream",
     "text": [
      "nondas_xchrom: 938\n",
      "\n"
     ]
    },
    {
     "name": "stderr",
     "output_type": "stream",
     "text": [
      "n_das_xchrom_escape: 6 n_das_xchrom_non_escape: 14\n",
      "\n"
     ]
    },
    {
     "name": "stderr",
     "output_type": "stream",
     "text": [
      "n_nondas_xchrom_escape: 88 n_nondas_xchrom_non_escape: 850\n",
      "\n"
     ]
    },
    {
     "name": "stderr",
     "output_type": "stream",
     "text": [
      "n_xchrom_genes: 959\n",
      "\n"
     ]
    },
    {
     "name": "stderr",
     "output_type": "stream",
     "text": [
      "but we were expecting 958\n",
      "\n"
     ]
    },
    {
     "data": {
      "text/html": [
       "<table class=\"dataframe\">\n",
       "<caption>A matrix: 2 × 2 of type int</caption>\n",
       "<tbody>\n",
       "\t<tr><td> 6</td><td> 88</td></tr>\n",
       "\t<tr><td>14</td><td>850</td></tr>\n",
       "</tbody>\n",
       "</table>\n"
      ],
      "text/latex": [
       "A matrix: 2 × 2 of type int\n",
       "\\begin{tabular}{ll}\n",
       "\t  6 &  88\\\\\n",
       "\t 14 & 850\\\\\n",
       "\\end{tabular}\n"
      ],
      "text/markdown": [
       "\n",
       "A matrix: 2 × 2 of type int\n",
       "\n",
       "|  6 |  88 |\n",
       "| 14 | 850 |\n",
       "\n"
      ],
      "text/plain": [
       "     [,1] [,2]\n",
       "[1,]  6    88 \n",
       "[2,] 14   850 "
      ]
     },
     "metadata": {},
     "output_type": "display_data"
    },
    {
     "data": {
      "text/plain": [
       "\n",
       "\tFisher's Exact Test for Count Data\n",
       "\n",
       "data:  x_vs_as\n",
       "p-value = 0.009478\n",
       "alternative hypothesis: true odds ratio is not equal to 1\n",
       "95 percent confidence interval:\n",
       "  1.267836 11.797110\n",
       "sample estimates:\n",
       "odds ratio \n",
       "  4.129784 \n"
      ]
     },
     "metadata": {},
     "output_type": "display_data"
    }
   ],
   "source": [
    "# First collect the numbers\n",
    "das_xchrom_escape <- intersect(xchrom_escaped, xchromosomalSigAsGenes)\n",
    "das_xchrom_non_escape <- setdiff(xchromosomalSigAsGenes, das_xchrom_escape)\n",
    "n_das_xchrom_escape <- length(das_xchrom_escape)\n",
    "n_das_xchrom_non_escape <- length(das_xchrom_non_escape)\n",
    "\n",
    "# Non-DAS X chromosomal\n",
    "nondas_xchrom <- setdiff(XchromGenes, xchromosomalSigAsGenes)\n",
    "nondas_xchrom_escape <- intersect(nondas_xchrom, xchrom_escaped)\n",
    "nondas_xchrom_non_escape <- intersect(nondas_xchrom, xchrom_non_escaped)\n",
    "n_nondas_xchrom_escape <- length(nondas_xchrom_escape)\n",
    "n_nondas_xchrom_non_escape <- length(nondas_xchrom_non_escape)\n",
    "# sanity check\n",
    "if (n_xchrom_genes != (n_das_xchrom_escape + n_das_xchrom_non_escape + n_nondas_xchrom_escape + n_nondas_xchrom_non_escape)) {\n",
    "    message(\"nondas_xchrom: \", length(nondas_xchrom))\n",
    "    message(\"n_das_xchrom_escape: \", n_das_xchrom_escape, \" n_das_xchrom_non_escape: \", n_das_xchrom_non_escape)\n",
    "    message(\"n_nondas_xchrom_escape: \", n_nondas_xchrom_escape, \" n_nondas_xchrom_non_escape: \", n_nondas_xchrom_non_escape)\n",
    "    message(\"n_xchrom_genes: \",n_xchrom_genes)\n",
    "    mysum <- n_das_xchrom_escape + n_das_xchrom_non_escape + n_nondas_xchrom_escape + n_nondas_xchrom_non_escape\n",
    "    message(\"but we were expecting \", mysum)\n",
    "    #stop(\"Problems extracting correct number of X chromosomal genes\")\n",
    "}\n",
    "\n",
    "x_vs_as  <- matrix(c(n_das_xchrom_escape, n_nondas_xchrom_escape,n_das_xchrom_non_escape, n_nondas_xchrom_non_escape), nrow=2,byrow = TRUE)\n",
    "x_vs_as\n",
    "fisher.test(x_vs_as)"
   ]
  },
  {
   "cell_type": "markdown",
   "id": "440dcedd",
   "metadata": {
    "papermill": {
     "duration": 0.014557,
     "end_time": "2021-06-28T12:32:50.507999",
     "exception": false,
     "start_time": "2021-06-28T12:32:50.493442",
     "status": "completed"
    },
    "tags": []
   },
   "source": [
    "# Get set of genes that show significant differential expression in at least one tissue\n",
    "Note that one of the column headers is blank and so we just skip one line to avoid a parse error."
   ]
  },
  {
   "cell_type": "code",
   "execution_count": 10,
   "id": "89259694",
   "metadata": {
    "execution": {
     "iopub.execute_input": "2021-06-28T12:32:50.542164Z",
     "iopub.status.busy": "2021-06-28T12:32:50.540791Z",
     "iopub.status.idle": "2021-06-28T12:32:50.596588Z",
     "shell.execute_reply": "2021-06-28T12:32:50.595282Z"
    },
    "papermill": {
     "duration": 0.074387,
     "end_time": "2021-06-28T12:32:50.596754",
     "exception": false,
     "start_time": "2021-06-28T12:32:50.522367",
     "status": "completed"
    },
    "tags": []
   },
   "outputs": [],
   "source": [
    "dge <- read.table(\"../data/gene_dge.tsv\", sep = \"\\t\", header = FALSE, row.names=1, skip = 1)"
   ]
  },
  {
   "cell_type": "code",
   "execution_count": 11,
   "id": "fde4adf7",
   "metadata": {
    "execution": {
     "iopub.execute_input": "2021-06-28T12:32:50.631732Z",
     "iopub.status.busy": "2021-06-28T12:32:50.630411Z",
     "iopub.status.idle": "2021-06-28T12:32:50.656101Z",
     "shell.execute_reply": "2021-06-28T12:32:50.654817Z"
    },
    "papermill": {
     "duration": 0.04431,
     "end_time": "2021-06-28T12:32:50.656240",
     "exception": false,
     "start_time": "2021-06-28T12:32:50.611930",
     "status": "completed"
    },
    "tags": []
   },
   "outputs": [
    {
     "data": {
      "text/html": [
       "<table class=\"dataframe\">\n",
       "<caption>A data.frame: 6 × 13</caption>\n",
       "<thead>\n",
       "\t<tr><th></th><th scope=col>V2</th><th scope=col>V3</th><th scope=col>V4</th><th scope=col>V5</th><th scope=col>V6</th><th scope=col>V7</th><th scope=col>V8</th><th scope=col>V9</th><th scope=col>V10</th><th scope=col>V11</th><th scope=col>V12</th><th scope=col>V13</th><th scope=col>V14</th></tr>\n",
       "\t<tr><th></th><th scope=col>&lt;chr&gt;</th><th scope=col>&lt;chr&gt;</th><th scope=col>&lt;chr&gt;</th><th scope=col>&lt;chr&gt;</th><th scope=col>&lt;int&gt;</th><th scope=col>&lt;chr&gt;</th><th scope=col>&lt;dbl&gt;</th><th scope=col>&lt;dbl&gt;</th><th scope=col>&lt;dbl&gt;</th><th scope=col>&lt;dbl&gt;</th><th scope=col>&lt;dbl&gt;</th><th scope=col>&lt;dbl&gt;</th><th scope=col>&lt;chr&gt;</th></tr>\n",
       "</thead>\n",
       "<tbody>\n",
       "\t<tr><th scope=row>1</th><td>adipose_subcutaneous</td><td>ENSG00000147050.14</td><td>ENSG00000147050</td><td>KDM6A     </td><td>272</td><td>Adipose (sc)</td><td> 0.6119682</td><td> 5.0308617</td><td> 35.53259</td><td>9.295961e-156</td><td>1.498695e-151</td><td>344.27452</td><td>chrX </td></tr>\n",
       "\t<tr><th scope=row>2</th><td>adipose_subcutaneous</td><td>ENSG00000224525.2 </td><td>ENSG00000224525</td><td>AL591686.1</td><td>272</td><td>Adipose (sc)</td><td> 2.2810767</td><td>-1.4641204</td><td> 14.44699</td><td> 2.450714e-41</td><td> 3.591855e-38</td><td> 81.05687</td><td>chr1 </td></tr>\n",
       "\t<tr><th scope=row>3</th><td>adipose_subcutaneous</td><td>ENSG00000115041.12</td><td>ENSG00000115041</td><td>KCNIP3    </td><td>272</td><td>Adipose (sc)</td><td>-0.9052185</td><td> 3.4532379</td><td>-13.70790</td><td> 7.695915e-38</td><td> 8.862395e-35</td><td> 75.10723</td><td>chr2 </td></tr>\n",
       "\t<tr><th scope=row>4</th><td>adipose_subcutaneous</td><td>ENSG00000258484.3 </td><td>ENSG00000258484</td><td>SPESP1    </td><td>272</td><td>Adipose (sc)</td><td>-0.8918130</td><td> 0.9410518</td><td>-13.10456</td><td> 4.615796e-35</td><td> 4.650991e-32</td><td> 68.23064</td><td>chr15</td></tr>\n",
       "\t<tr><th scope=row>5</th><td>adipose_subcutaneous</td><td>ENSG00000134339.8 </td><td>ENSG00000134339</td><td>SAA2      </td><td>272</td><td>Adipose (sc)</td><td> 3.1082279</td><td> 2.7856727</td><td> 12.87586</td><td> 5.017765e-34</td><td> 4.257705e-31</td><td> 66.45132</td><td>chr11</td></tr>\n",
       "\t<tr><th scope=row>6</th><td>adipose_subcutaneous</td><td>ENSG00000103449.11</td><td>ENSG00000103449</td><td>SALL1     </td><td>272</td><td>Adipose (sc)</td><td> 1.2692252</td><td>-0.2424580</td><td> 12.72143</td><td> 2.470418e-33</td><td> 1.991404e-30</td><td> 64.14054</td><td>chr16</td></tr>\n",
       "</tbody>\n",
       "</table>\n"
      ],
      "text/latex": [
       "A data.frame: 6 × 13\n",
       "\\begin{tabular}{r|lllllllllllll}\n",
       "  & V2 & V3 & V4 & V5 & V6 & V7 & V8 & V9 & V10 & V11 & V12 & V13 & V14\\\\\n",
       "  & <chr> & <chr> & <chr> & <chr> & <int> & <chr> & <dbl> & <dbl> & <dbl> & <dbl> & <dbl> & <dbl> & <chr>\\\\\n",
       "\\hline\n",
       "\t1 & adipose\\_subcutaneous & ENSG00000147050.14 & ENSG00000147050 & KDM6A      & 272 & Adipose (sc) &  0.6119682 &  5.0308617 &  35.53259 & 9.295961e-156 & 1.498695e-151 & 344.27452 & chrX \\\\\n",
       "\t2 & adipose\\_subcutaneous & ENSG00000224525.2  & ENSG00000224525 & AL591686.1 & 272 & Adipose (sc) &  2.2810767 & -1.4641204 &  14.44699 &  2.450714e-41 &  3.591855e-38 &  81.05687 & chr1 \\\\\n",
       "\t3 & adipose\\_subcutaneous & ENSG00000115041.12 & ENSG00000115041 & KCNIP3     & 272 & Adipose (sc) & -0.9052185 &  3.4532379 & -13.70790 &  7.695915e-38 &  8.862395e-35 &  75.10723 & chr2 \\\\\n",
       "\t4 & adipose\\_subcutaneous & ENSG00000258484.3  & ENSG00000258484 & SPESP1     & 272 & Adipose (sc) & -0.8918130 &  0.9410518 & -13.10456 &  4.615796e-35 &  4.650991e-32 &  68.23064 & chr15\\\\\n",
       "\t5 & adipose\\_subcutaneous & ENSG00000134339.8  & ENSG00000134339 & SAA2       & 272 & Adipose (sc) &  3.1082279 &  2.7856727 &  12.87586 &  5.017765e-34 &  4.257705e-31 &  66.45132 & chr11\\\\\n",
       "\t6 & adipose\\_subcutaneous & ENSG00000103449.11 & ENSG00000103449 & SALL1      & 272 & Adipose (sc) &  1.2692252 & -0.2424580 &  12.72143 &  2.470418e-33 &  1.991404e-30 &  64.14054 & chr16\\\\\n",
       "\\end{tabular}\n"
      ],
      "text/markdown": [
       "\n",
       "A data.frame: 6 × 13\n",
       "\n",
       "| <!--/--> | V2 &lt;chr&gt; | V3 &lt;chr&gt; | V4 &lt;chr&gt; | V5 &lt;chr&gt; | V6 &lt;int&gt; | V7 &lt;chr&gt; | V8 &lt;dbl&gt; | V9 &lt;dbl&gt; | V10 &lt;dbl&gt; | V11 &lt;dbl&gt; | V12 &lt;dbl&gt; | V13 &lt;dbl&gt; | V14 &lt;chr&gt; |\n",
       "|---|---|---|---|---|---|---|---|---|---|---|---|---|---|\n",
       "| 1 | adipose_subcutaneous | ENSG00000147050.14 | ENSG00000147050 | KDM6A      | 272 | Adipose (sc) |  0.6119682 |  5.0308617 |  35.53259 | 9.295961e-156 | 1.498695e-151 | 344.27452 | chrX  |\n",
       "| 2 | adipose_subcutaneous | ENSG00000224525.2  | ENSG00000224525 | AL591686.1 | 272 | Adipose (sc) |  2.2810767 | -1.4641204 |  14.44699 |  2.450714e-41 |  3.591855e-38 |  81.05687 | chr1  |\n",
       "| 3 | adipose_subcutaneous | ENSG00000115041.12 | ENSG00000115041 | KCNIP3     | 272 | Adipose (sc) | -0.9052185 |  3.4532379 | -13.70790 |  7.695915e-38 |  8.862395e-35 |  75.10723 | chr2  |\n",
       "| 4 | adipose_subcutaneous | ENSG00000258484.3  | ENSG00000258484 | SPESP1     | 272 | Adipose (sc) | -0.8918130 |  0.9410518 | -13.10456 |  4.615796e-35 |  4.650991e-32 |  68.23064 | chr15 |\n",
       "| 5 | adipose_subcutaneous | ENSG00000134339.8  | ENSG00000134339 | SAA2       | 272 | Adipose (sc) |  3.1082279 |  2.7856727 |  12.87586 |  5.017765e-34 |  4.257705e-31 |  66.45132 | chr11 |\n",
       "| 6 | adipose_subcutaneous | ENSG00000103449.11 | ENSG00000103449 | SALL1      | 272 | Adipose (sc) |  1.2692252 | -0.2424580 |  12.72143 |  2.470418e-33 |  1.991404e-30 |  64.14054 | chr16 |\n",
       "\n"
      ],
      "text/plain": [
       "  V2                   V3                 V4              V5         V6 \n",
       "1 adipose_subcutaneous ENSG00000147050.14 ENSG00000147050 KDM6A      272\n",
       "2 adipose_subcutaneous ENSG00000224525.2  ENSG00000224525 AL591686.1 272\n",
       "3 adipose_subcutaneous ENSG00000115041.12 ENSG00000115041 KCNIP3     272\n",
       "4 adipose_subcutaneous ENSG00000258484.3  ENSG00000258484 SPESP1     272\n",
       "5 adipose_subcutaneous ENSG00000134339.8  ENSG00000134339 SAA2       272\n",
       "6 adipose_subcutaneous ENSG00000103449.11 ENSG00000103449 SALL1      272\n",
       "  V7           V8         V9         V10       V11           V12          \n",
       "1 Adipose (sc)  0.6119682  5.0308617  35.53259 9.295961e-156 1.498695e-151\n",
       "2 Adipose (sc)  2.2810767 -1.4641204  14.44699  2.450714e-41  3.591855e-38\n",
       "3 Adipose (sc) -0.9052185  3.4532379 -13.70790  7.695915e-38  8.862395e-35\n",
       "4 Adipose (sc) -0.8918130  0.9410518 -13.10456  4.615796e-35  4.650991e-32\n",
       "5 Adipose (sc)  3.1082279  2.7856727  12.87586  5.017765e-34  4.257705e-31\n",
       "6 Adipose (sc)  1.2692252 -0.2424580  12.72143  2.470418e-33  1.991404e-30\n",
       "  V13       V14  \n",
       "1 344.27452 chrX \n",
       "2  81.05687 chr1 \n",
       "3  75.10723 chr2 \n",
       "4  68.23064 chr15\n",
       "5  66.45132 chr11\n",
       "6  64.14054 chr16"
      ]
     },
     "metadata": {},
     "output_type": "display_data"
    }
   ],
   "source": [
    "head(dge)"
   ]
  },
  {
   "cell_type": "code",
   "execution_count": 12,
   "id": "f2159752",
   "metadata": {
    "execution": {
     "iopub.execute_input": "2021-06-28T12:32:50.700260Z",
     "iopub.status.busy": "2021-06-28T12:32:50.690756Z",
     "iopub.status.idle": "2021-06-28T12:32:50.759813Z",
     "shell.execute_reply": "2021-06-28T12:32:50.758454Z"
    },
    "papermill": {
     "duration": 0.08842,
     "end_time": "2021-06-28T12:32:50.759943",
     "exception": false,
     "start_time": "2021-06-28T12:32:50.671523",
     "status": "completed"
    },
    "tags": []
   },
   "outputs": [
    {
     "name": "stderr",
     "output_type": "stream",
     "text": [
      "nondge_xchrom: 846\n",
      "\n"
     ]
    },
    {
     "name": "stderr",
     "output_type": "stream",
     "text": [
      "n_dge_xchrom_escape: 38 n_dge_xchrom_non_escape: 74\n",
      "\n"
     ]
    },
    {
     "name": "stderr",
     "output_type": "stream",
     "text": [
      "n_nondge_xchrom_escape: 56 n_nondge_xchrom_non_escape: 790\n",
      "\n"
     ]
    },
    {
     "name": "stderr",
     "output_type": "stream",
     "text": [
      "n_xchrom_genes: 959\n",
      "\n"
     ]
    }
   ],
   "source": [
    "dge_genes <- sort(dge$V5)\n",
    "xchromosomalDiffGenes <- intersect(dge_genes, XchromGenes)\n",
    "xchromosomalDiffGenes <- sort(xchromosomalDiffGenes)\n",
    "dge_xchrom_escape <- intersect(xchrom_escaped, xchromosomalDiffGenes)\n",
    "dge_xchrom_nonescape <- setdiff(xchromosomalDiffGenes, xchrom_escaped)\n",
    "n_dge_xchrom <- length(xchromosomalDiffGenes)\n",
    "n_dge_xchrom_escape <- length(dge_xchrom_escape)\n",
    "n_dge_xchrom_nonescape <- length(dge_xchrom_nonescape)\n",
    "\n",
    "# Non-DGE X chromosomal\n",
    "nondge_xchrom <- setdiff(XchromGenes, xchromosomalDiffGenes)\n",
    "n_nondge_xchrom <- length(nondge_xchrom)\n",
    "nondge_xchrom_escape <- intersect(nondge_xchrom, xchrom_escaped)\n",
    "nondge_xchrom_non_escape <- intersect(nondge_xchrom, xchrom_non_escaped)\n",
    "n_nondge_xchrom_escape <- length(nondge_xchrom_escape)\n",
    "n_nondge_xchrom_non_escape <- length(nondge_xchrom_non_escape)\n",
    "\n",
    "subtotal <- n_dge_xchrom_escape + n_dge_xchrom_nonescape + n_nondge_xchrom_escape + n_nondge_xchrom_non_escape\n",
    "\n",
    "\n",
    "message(\"nondge_xchrom: \", n_nondge_xchrom)\n",
    "message(\"n_dge_xchrom_escape: \", n_dge_xchrom_escape, \" n_dge_xchrom_non_escape: \", n_dge_xchrom_nonescape)\n",
    "message(\"n_nondge_xchrom_escape: \", n_nondge_xchrom_escape, \" n_nondge_xchrom_non_escape: \", n_nondge_xchrom_non_escape)\n",
    "message(\"n_xchrom_genes: \",n_xchrom_genes)"
   ]
  },
  {
   "cell_type": "code",
   "execution_count": 13,
   "id": "39b9b0a3",
   "metadata": {
    "execution": {
     "iopub.execute_input": "2021-06-28T12:32:50.797450Z",
     "iopub.status.busy": "2021-06-28T12:32:50.795983Z",
     "iopub.status.idle": "2021-06-28T12:32:50.824430Z",
     "shell.execute_reply": "2021-06-28T12:32:50.823115Z"
    },
    "papermill": {
     "duration": 0.048346,
     "end_time": "2021-06-28T12:32:50.824567",
     "exception": false,
     "start_time": "2021-06-28T12:32:50.776221",
     "status": "completed"
    },
    "tags": []
   },
   "outputs": [
    {
     "data": {
      "text/html": [
       "<table class=\"dataframe\">\n",
       "<caption>A matrix: 2 × 2 of type int</caption>\n",
       "<tbody>\n",
       "\t<tr><td>38</td><td> 74</td></tr>\n",
       "\t<tr><td>56</td><td>790</td></tr>\n",
       "</tbody>\n",
       "</table>\n"
      ],
      "text/latex": [
       "A matrix: 2 × 2 of type int\n",
       "\\begin{tabular}{ll}\n",
       "\t 38 &  74\\\\\n",
       "\t 56 & 790\\\\\n",
       "\\end{tabular}\n"
      ],
      "text/markdown": [
       "\n",
       "A matrix: 2 × 2 of type int\n",
       "\n",
       "| 38 |  74 |\n",
       "| 56 | 790 |\n",
       "\n"
      ],
      "text/plain": [
       "     [,1] [,2]\n",
       "[1,] 38    74 \n",
       "[2,] 56   790 "
      ]
     },
     "metadata": {},
     "output_type": "display_data"
    },
    {
     "data": {
      "text/plain": [
       "\n",
       "\tFisher's Exact Test for Count Data\n",
       "\n",
       "data:  x_vs_dge\n",
       "p-value = 1.695e-14\n",
       "alternative hypothesis: true odds ratio is not equal to 1\n",
       "95 percent confidence interval:\n",
       "  4.349811 11.932203\n",
       "sample estimates:\n",
       "odds ratio \n",
       "  7.218687 \n"
      ]
     },
     "metadata": {},
     "output_type": "display_data"
    }
   ],
   "source": [
    "x_vs_dge <- matrix(c(n_dge_xchrom_escape, n_dge_xchrom_nonescape, n_nondge_xchrom_escape, n_nondge_xchrom_non_escape), nrow=2,byrow = TRUE)\n",
    "x_vs_dge\n",
    "fisher.test(x_vs_dge)"
   ]
  },
  {
   "cell_type": "markdown",
   "id": "b4040980",
   "metadata": {
    "papermill": {
     "duration": 0.016429,
     "end_time": "2021-06-28T12:32:50.857721",
     "exception": false,
     "start_time": "2021-06-28T12:32:50.841292",
     "status": "completed"
    },
    "tags": []
   },
   "source": [
    "# **Make grouped bar plot**\n",
    "### First collect the counts of escape/inactive/variable X chromosomal, AS, and DGE genes"
   ]
  },
  {
   "cell_type": "code",
   "execution_count": 14,
   "id": "61b2adba",
   "metadata": {
    "execution": {
     "iopub.execute_input": "2021-06-28T12:32:50.895912Z",
     "iopub.status.busy": "2021-06-28T12:32:50.894492Z",
     "iopub.status.idle": "2021-06-28T12:32:50.915967Z",
     "shell.execute_reply": "2021-06-28T12:32:50.914724Z"
    },
    "lines_to_next_cell": 2,
    "papermill": {
     "duration": 0.041921,
     "end_time": "2021-06-28T12:32:50.916136",
     "exception": false,
     "start_time": "2021-06-28T12:32:50.874215",
     "status": "completed"
    },
    "tags": []
   },
   "outputs": [],
   "source": [
    "# Colors for uniformity\n",
    "# Let's use the following colors for uniformity\n",
    "darkblue <- \"#3c5488\"\n",
    "blue <- \"#4BDDB5\"\n",
    "red <- \"#e64b35\"\n",
    "nearlyblack <- \"#040C04\"\n",
    "purple <- \"#790079\"\n",
    "orange = \"#ff9900\"\n",
    "green <- \"#00A087\""
   ]
  },
  {
   "cell_type": "markdown",
   "id": "047b1b41",
   "metadata": {
    "papermill": {
     "duration": 0.018078,
     "end_time": "2021-06-28T12:32:50.951586",
     "exception": false,
     "start_time": "2021-06-28T12:32:50.933508",
     "status": "completed"
    },
    "tags": []
   },
   "source": [
    "### Transform counts into percentages"
   ]
  },
  {
   "cell_type": "code",
   "execution_count": 15,
   "id": "37c2d590",
   "metadata": {
    "execution": {
     "iopub.execute_input": "2021-06-28T12:32:50.990810Z",
     "iopub.status.busy": "2021-06-28T12:32:50.989278Z",
     "iopub.status.idle": "2021-06-28T12:32:51.024669Z",
     "shell.execute_reply": "2021-06-28T12:32:51.023435Z"
    },
    "papermill": {
     "duration": 0.056461,
     "end_time": "2021-06-28T12:32:51.024793",
     "exception": false,
     "start_time": "2021-06-28T12:32:50.968332",
     "status": "completed"
    },
    "tags": []
   },
   "outputs": [
    {
     "name": "stderr",
     "output_type": "stream",
     "text": [
      "AS escape: 6 (  30%) AS non-escape: 14 (70%)\n",
      "\n"
     ]
    },
    {
     "name": "stderr",
     "output_type": "stream",
     "text": [
      "X chr escape: 94 ( 9.8%) X chr nonescape: 865 (90.2%)\n",
      "\n"
     ]
    },
    {
     "name": "stderr",
     "output_type": "stream",
     "text": [
      "DGE escape: 38 (33.9%) DGE inactive: 0.660714285714286 (66.1%)\n",
      "\n"
     ]
    }
   ],
   "source": [
    "# as.total <- as.escape.len + as.non_escape.len\n",
    "n_das_total <- n_das_xchrom_escape + n_das_xchrom_non_escape\n",
    "\n",
    "\n",
    " \n",
    "\n",
    "as.escape.per <-  n_das_xchrom_escape/n_das_total\n",
    "as.nonescape.per <-  n_das_xchrom_non_escape/n_das_total\n",
    "x.total <- n_xchrom_escaped + n_xchrom_non_escaped\n",
    "x.escape.per <-  n_xchrom_escaped/x.total\n",
    "x.nonescape.per <- n_xchrom_non_escaped/x.total\n",
    "dge.total <-n_dge_xchrom_escape +n_dge_xchrom_nonescape\n",
    "dge.escape.per <-  n_dge_xchrom_escape/dge.total\n",
    "dge.nonescape.per <-  n_dge_xchrom_nonescape/dge.total\n",
    "message(\"AS escape: \", n_das_xchrom_escape, \" (\", formatC(100*as.escape.per, digits=3), \"%) AS non-escape: \", n_das_xchrom_non_escape , \" (\",100*as.nonescape.per ,\"%)\")\n",
    "message(\"X chr escape: \", n_xchrom_escaped, \" (\",formatC(100*x.escape.per,digits=3), \"%) X chr nonescape: \",n_xchrom_non_escaped, \" (\", formatC(100*x.nonescape.per,digits=3),\"%)\")\n",
    "message(\"DGE escape: \",  n_dge_xchrom_escape, \" (\", formatC(100*dge.escape.per,digits=3), \"%) DGE inactive: \", dge.nonescape.per,\" (\", formatC(100*dge.nonescape.per,digits=3),\"%)\")"
   ]
  },
  {
   "cell_type": "code",
   "execution_count": 16,
   "id": "ed783e14",
   "metadata": {
    "execution": {
     "iopub.execute_input": "2021-06-28T12:32:51.065765Z",
     "iopub.status.busy": "2021-06-28T12:32:51.064301Z",
     "iopub.status.idle": "2021-06-28T12:32:51.587497Z",
     "shell.execute_reply": "2021-06-28T12:32:51.586424Z"
    },
    "papermill": {
     "duration": 0.545351,
     "end_time": "2021-06-28T12:32:51.587637",
     "exception": false,
     "start_time": "2021-06-28T12:32:51.042286",
     "status": "completed"
    },
    "tags": []
   },
   "outputs": [
    {
     "name": "stderr",
     "output_type": "stream",
     "text": [
      "Saving 6.67 x 6.67 in image\n",
      "\n"
     ]
    },
    {
     "name": "stderr",
     "output_type": "stream",
     "text": [
      "Saved plot as ../pdf/XchromosomalEscape.pdf\n",
      "\n"
     ]
    },
    {
     "data": {
      "image/png": "[encoded data removed]",
      "text/plain": [
       "plot without title"
      ]
     },
     "metadata": {
      "image/png": {
       "height": 420,
       "width": 420
      }
     },
     "output_type": "display_data"
    }
   ],
   "source": [
    "library(ggplot2)\n",
    " \n",
    "# create a dataset\n",
    "category <- c(rep(\"DAS\" , 2) , rep(\"chr X\" , 2) , rep(\"DGE\" , 2) )\n",
    "condition <- rep(c(\"escape\" , \"inactive\") , 3)\n",
    "value <- c(as.escape.per, as.nonescape.per,x.escape.per, x.nonescape.per,dge.escape.per, dge.nonescape.per)\n",
    "data <- data.frame(category,condition,value)\n",
    "\n",
    "\n",
    "# Grouped\n",
    "g <- ggplot(data, aes(fill=condition, y=value, x=category), color=barcolors) + \n",
    "    geom_bar(position=\"dodge\", stat=\"identity\") +\n",
    "    theme_bw() +\n",
    "    scale_y_continuous(labels = scales::percent) +\n",
    "    scale_fill_manual(values=c(red, darkblue)) +\n",
    "    theme(axis.text = element_text(size=32),\n",
    "          axis.title = element_blank(),\n",
    "          legend.title = element_blank(),\n",
    "          legend.text = element_text(size = 32),\n",
    "          legend.position = c(0.82,0.9)\n",
    "          )\n",
    "ggsave(\"../pdf/XchromosomalEscape.pdf\",g)\n",
    "message(\"Saved plot as ../pdf/XchromosomalEscape.pdf\")\n",
    "g"
   ]
  }
 ],
 "metadata": {
  "kernelspec": {
   "display_name": "R",
   "language": "R",
   "name": "ir"
  },
  "language_info": {
   "codemirror_mode": "r",
   "file_extension": ".r",
   "mimetype": "text/x-r-source",
   "name": "R",
   "pygments_lexer": "r",
   "version": "4.1.0"
  },
  "papermill": {
   "duration": 3.387615,
   "end_time": "2021-06-28T12:32:51.717465",
   "environment_variables": {},
   "exception": null,
   "input_path": "XchromosomalEscape.ipynb",
   "output_path": "XchromosomalEscape.ipynb",
   "parameters": {},
   "start_time": "2021-06-28T12:32:48.329850",
   "version": "2.1.2"
  }
 },
 "nbformat": 4,
 "nbformat_minor": 5
}