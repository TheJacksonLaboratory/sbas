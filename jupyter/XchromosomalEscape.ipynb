{
 "cells": [
  {
   "cell_type": "markdown",
   "metadata": {},
   "source": [
    "# **AS events vs X chromosomal escape**\n"
   ]
  },
  {
   "cell_type": "markdown",
   "metadata": {},
   "source": [
    "It has been reported that differentially expressed sex-biased genes are likely to be \n",
    "linked to escape from X chromosome inactivation ([Landscape of X chromosome inactivation across human tissues.\n",
    "Tukiainen T, et al. Nature 2017;550:244-248](https://pubmed.ncbi.nlm.nih.gov/29022598/)). \n",
    "\n",
    "Because of the observed overlap between sex-biased differential expression and AS, we hypothesized that AS events might be more commonly observed in X chromosomal genes that escape inactivation. "
   ]
  },
  {
   "cell_type": "markdown",
   "metadata": {},
   "source": [
    "## Retrieve data about X chromosomal escape\n",
    "This data was extracted from the supplemental material of the Tukiainen paper. Genes are characterized as\n",
    "\n",
    "1. Escape\n",
    "2. Inactive\n",
    "3. Variable\n",
    "4. Unknown\n",
    "\n",
    "We examine here the hypothesis that alternatively spliced genes are more likely to escape X inactivation than one would expect\n",
    "from the X chromosomal average. We compare the proportions of genes labeled ``Escape`` and ``Inactive`` using a Fisher exact test."
   ]
  },
  {
   "cell_type": "code",
   "execution_count": 1,
   "metadata": {},
   "outputs": [],
   "source": [
    "suppressMessages({\n",
    "    options(warn = -1) \n",
    "    library(ggplot2)\n",
    "})"
   ]
  },
  {
   "cell_type": "code",
   "execution_count": 2,
   "metadata": {},
   "outputs": [],
   "source": [
    "xchromgenetable <- read.table(file=\"../assets/TukiainenSuppFig2extract.tsv\", header=FALSE, sep=\"\\t\",\n",
    "                               skipNul=FALSE, stringsAsFactors = FALSE)\n",
    "colnames(xchromgenetable)  <- c(\"ENSG.id\",\"symbol\",\"escape.status\",\"par.status\")"
   ]
  },
  {
   "cell_type": "code",
   "execution_count": 3,
   "metadata": {},
   "outputs": [
    {
     "data": {
      "text/html": [
       "<table>\n",
       "<caption>A data.frame: 6 × 4</caption>\n",
       "<thead>\n",
       "\t<tr><th></th><th scope=col>ENSG.id</th><th scope=col>symbol</th><th scope=col>escape.status</th><th scope=col>par.status</th></tr>\n",
       "\t<tr><th></th><th scope=col>&lt;chr&gt;</th><th scope=col>&lt;chr&gt;</th><th scope=col>&lt;chr&gt;</th><th scope=col>&lt;chr&gt;</th></tr>\n",
       "</thead>\n",
       "<tbody>\n",
       "\t<tr><th scope=row>1</th><td>ENSG00000000003.10</td><td>TSPAN6</td><td>Variable</td><td>nonPAR</td></tr>\n",
       "\t<tr><th scope=row>2</th><td>ENSG00000000005.5 </td><td>TNMD  </td><td>Unknown </td><td>nonPAR</td></tr>\n",
       "\t<tr><th scope=row>3</th><td>ENSG00000001497.12</td><td>LAS1L </td><td>Inactive</td><td>nonPAR</td></tr>\n",
       "\t<tr><th scope=row>4</th><td>ENSG00000002586.13</td><td>CD99  </td><td>Escape  </td><td>PAR   </td></tr>\n",
       "\t<tr><th scope=row>5</th><td>ENSG00000003096.9 </td><td>KLHL13</td><td>Inactive</td><td>nonPAR</td></tr>\n",
       "\t<tr><th scope=row>6</th><td>ENSG00000004848.6 </td><td>ARX   </td><td>Unknown </td><td>nonPAR</td></tr>\n",
       "</tbody>\n",
       "</table>\n"
      ],
      "text/latex": [
       "A data.frame: 6 × 4\n",
       "\\begin{tabular}{r|llll}\n",
       "  & ENSG.id & symbol & escape.status & par.status\\\\\n",
       "  & <chr> & <chr> & <chr> & <chr>\\\\\n",
       "\\hline\n",
       "\t1 & ENSG00000000003.10 & TSPAN6 & Variable & nonPAR\\\\\n",
       "\t2 & ENSG00000000005.5  & TNMD   & Unknown  & nonPAR\\\\\n",
       "\t3 & ENSG00000001497.12 & LAS1L  & Inactive & nonPAR\\\\\n",
       "\t4 & ENSG00000002586.13 & CD99   & Escape   & PAR   \\\\\n",
       "\t5 & ENSG00000003096.9  & KLHL13 & Inactive & nonPAR\\\\\n",
       "\t6 & ENSG00000004848.6  & ARX    & Unknown  & nonPAR\\\\\n",
       "\\end{tabular}\n"
      ],
      "text/markdown": [
       "\n",
       "A data.frame: 6 × 4\n",
       "\n",
       "| <!--/--> | ENSG.id &lt;chr&gt; | symbol &lt;chr&gt; | escape.status &lt;chr&gt; | par.status &lt;chr&gt; |\n",
       "|---|---|---|---|---|\n",
       "| 1 | ENSG00000000003.10 | TSPAN6 | Variable | nonPAR |\n",
       "| 2 | ENSG00000000005.5  | TNMD   | Unknown  | nonPAR |\n",
       "| 3 | ENSG00000001497.12 | LAS1L  | Inactive | nonPAR |\n",
       "| 4 | ENSG00000002586.13 | CD99   | Escape   | PAR    |\n",
       "| 5 | ENSG00000003096.9  | KLHL13 | Inactive | nonPAR |\n",
       "| 6 | ENSG00000004848.6  | ARX    | Unknown  | nonPAR |\n",
       "\n"
      ],
      "text/plain": [
       "  ENSG.id            symbol escape.status par.status\n",
       "1 ENSG00000000003.10 TSPAN6 Variable      nonPAR    \n",
       "2 ENSG00000000005.5  TNMD   Unknown       nonPAR    \n",
       "3 ENSG00000001497.12 LAS1L  Inactive      nonPAR    \n",
       "4 ENSG00000002586.13 CD99   Escape        PAR       \n",
       "5 ENSG00000003096.9  KLHL13 Inactive      nonPAR    \n",
       "6 ENSG00000004848.6  ARX    Unknown       nonPAR    "
      ]
     },
     "metadata": {},
     "output_type": "display_data"
    }
   ],
   "source": [
    "head(xchromgenetable)"
   ]
  },
  {
   "cell_type": "code",
   "execution_count": 4,
   "metadata": {},
   "outputs": [],
   "source": [
    "XchromGenes <- sort(xchromgenetable$symbol)"
   ]
  },
  {
   "cell_type": "code",
   "execution_count": 5,
   "metadata": {},
   "outputs": [
    {
     "name": "stderr",
     "output_type": "stream",
     "text": [
      "Escaped X chromomosal genes: 94 of a total of 959 X-chromosomal genes: 9.80187695516163%\n",
      "\n"
     ]
    }
   ],
   "source": [
    "escaped <- sort(xchromgenetable[xchromgenetable$escape.status=='Escape',]$symbol)\n",
    "n_escaped <-length(escaped)\n",
    "n_total <-length(XchromGenes)\n",
    "message(\"Escaped X chromomosal genes: \", n_escaped, \" of a total of \", n_total, \" X-chromosomal genes: \", (100*n_escaped/n_total),\"%\")"
   ]
  },
  {
   "cell_type": "code",
   "execution_count": 6,
   "metadata": {},
   "outputs": [
    {
     "name": "stderr",
     "output_type": "stream",
     "text": [
      "Inactive X chromomosal genes: 408 - 42.5443169968717%\n",
      "\n"
     ]
    }
   ],
   "source": [
    "inactive <- sort(xchromgenetable[xchromgenetable$escape.status=='Inactive',]$symbol)\n",
    "n_inactive <- length(inactive)\n",
    "message(\"Inactive X chromomosal genes: \", length(inactive), \" - \", (100*n_inactive/n_total),\"%\")"
   ]
  },
  {
   "cell_type": "code",
   "execution_count": 7,
   "metadata": {},
   "outputs": [
    {
     "name": "stderr",
     "output_type": "stream",
     "text": [
      "X chr escape: 94 X chr  inactive: 408\n",
      "\n"
     ]
    }
   ],
   "source": [
    "x.escape.len <- length(escaped)\n",
    "x.inactive.len <- length(inactive)\n",
    "message(\"X chr escape: \", x.escape.len, \" X chr  inactive: \", x.inactive.len)"
   ]
  },
  {
   "cell_type": "markdown",
   "metadata": {},
   "source": [
    "# Get set of genes that show significant alternative splicing in at least one tissue"
   ]
  },
  {
   "cell_type": "code",
   "execution_count": 8,
   "metadata": {},
   "outputs": [],
   "source": [
    "total_AS_Genes <- read.table(file=\"../data/Total_AS_by_geneSymbol.tsv\", header=TRUE, sep=\"\\t\",\n",
    "                               skipNul=FALSE, stringsAsFactors = FALSE)"
   ]
  },
  {
   "cell_type": "code",
   "execution_count": 9,
   "metadata": {},
   "outputs": [
    {
     "data": {
      "text/html": [
       "<table>\n",
       "<caption>A data.frame: 6 × 2</caption>\n",
       "<thead>\n",
       "\t<tr><th></th><th scope=col>GeneSymbol</th><th scope=col>n</th></tr>\n",
       "\t<tr><th></th><th scope=col>&lt;chr&gt;</th><th scope=col>&lt;int&gt;</th></tr>\n",
       "</thead>\n",
       "<tbody>\n",
       "\t<tr><th scope=row>1</th><td>XIST </td><td>229</td></tr>\n",
       "\t<tr><th scope=row>2</th><td>DDX3X</td><td> 70</td></tr>\n",
       "\t<tr><th scope=row>3</th><td>KDM5C</td><td> 44</td></tr>\n",
       "\t<tr><th scope=row>4</th><td>ZFX  </td><td> 41</td></tr>\n",
       "\t<tr><th scope=row>5</th><td>KDM6A</td><td> 25</td></tr>\n",
       "\t<tr><th scope=row>6</th><td>MYB  </td><td> 20</td></tr>\n",
       "</tbody>\n",
       "</table>\n"
      ],
      "text/latex": [
       "A data.frame: 6 × 2\n",
       "\\begin{tabular}{r|ll}\n",
       "  & GeneSymbol & n\\\\\n",
       "  & <chr> & <int>\\\\\n",
       "\\hline\n",
       "\t1 & XIST  & 229\\\\\n",
       "\t2 & DDX3X &  70\\\\\n",
       "\t3 & KDM5C &  44\\\\\n",
       "\t4 & ZFX   &  41\\\\\n",
       "\t5 & KDM6A &  25\\\\\n",
       "\t6 & MYB   &  20\\\\\n",
       "\\end{tabular}\n"
      ],
      "text/markdown": [
       "\n",
       "A data.frame: 6 × 2\n",
       "\n",
       "| <!--/--> | GeneSymbol &lt;chr&gt; | n &lt;int&gt; |\n",
       "|---|---|---|\n",
       "| 1 | XIST  | 229 |\n",
       "| 2 | DDX3X |  70 |\n",
       "| 3 | KDM5C |  44 |\n",
       "| 4 | ZFX   |  41 |\n",
       "| 5 | KDM6A |  25 |\n",
       "| 6 | MYB   |  20 |\n",
       "\n"
      ],
      "text/plain": [
       "  GeneSymbol n  \n",
       "1 XIST       229\n",
       "2 DDX3X       70\n",
       "3 KDM5C       44\n",
       "4 ZFX         41\n",
       "5 KDM6A       25\n",
       "6 MYB         20"
      ]
     },
     "metadata": {},
     "output_type": "display_data"
    }
   ],
   "source": [
    "head(total_AS_Genes)"
   ]
  },
  {
   "cell_type": "code",
   "execution_count": 10,
   "metadata": {},
   "outputs": [],
   "source": [
    "sigAsGenes <- sort(total_AS_Genes$GeneSymbol)"
   ]
  },
  {
   "cell_type": "code",
   "execution_count": 11,
   "metadata": {},
   "outputs": [
    {
     "name": "stderr",
     "output_type": "stream",
     "text": [
      "AS escape: 19 AS inactive: 46\n",
      "\n"
     ]
    }
   ],
   "source": [
    "# First collect the numbers\n",
    "as.escape <- intersect(escaped, sigAsGenes)\n",
    "as.inactive <- intersect(inactive, sigAsGenes)\n",
    "as.escape.len <- length(as.escape)\n",
    "as.inactive.len <- length(as.inactive)\n",
    "message(\"AS escape: \", as.escape.len, \" AS inactive: \", as.inactive.len)"
   ]
  },
  {
   "cell_type": "markdown",
   "metadata": {},
   "source": [
    "# Get set of genes that show significant differential expression in at least one tissue\n",
    "Note that one of the column headers is blank and so we just skip one line to avoid a parse error."
   ]
  },
  {
   "cell_type": "code",
   "execution_count": 12,
   "metadata": {},
   "outputs": [],
   "source": [
    "dge <- read.table(\"../data/gene_dge.tsv\", sep = \"\\t\", header = FALSE, row.names=1, skip = 1)"
   ]
  },
  {
   "cell_type": "code",
   "execution_count": 13,
   "metadata": {},
   "outputs": [
    {
     "data": {
      "text/html": [
       "<table>\n",
       "<caption>A data.frame: 6 × 13</caption>\n",
       "<thead>\n",
       "\t<tr><th></th><th scope=col>V2</th><th scope=col>V3</th><th scope=col>V4</th><th scope=col>V5</th><th scope=col>V6</th><th scope=col>V7</th><th scope=col>V8</th><th scope=col>V9</th><th scope=col>V10</th><th scope=col>V11</th><th scope=col>V12</th><th scope=col>V13</th><th scope=col>V14</th></tr>\n",
       "\t<tr><th></th><th scope=col>&lt;fct&gt;</th><th scope=col>&lt;fct&gt;</th><th scope=col>&lt;fct&gt;</th><th scope=col>&lt;fct&gt;</th><th scope=col>&lt;int&gt;</th><th scope=col>&lt;fct&gt;</th><th scope=col>&lt;dbl&gt;</th><th scope=col>&lt;dbl&gt;</th><th scope=col>&lt;dbl&gt;</th><th scope=col>&lt;dbl&gt;</th><th scope=col>&lt;dbl&gt;</th><th scope=col>&lt;dbl&gt;</th><th scope=col>&lt;fct&gt;</th></tr>\n",
       "</thead>\n",
       "<tbody>\n",
       "\t<tr><th scope=row>1</th><td>adipose_subcutaneous</td><td>ENSG00000176728.7 </td><td>ENSG00000176728</td><td>TTTY14   </td><td>765</td><td>Adipose (sc)</td><td>-7.982166</td><td>-0.9288129</td><td>-139.8230</td><td>0</td><td>0</td><td>1107.423</td><td>chrY</td></tr>\n",
       "\t<tr><th scope=row>2</th><td>adipose_subcutaneous</td><td>ENSG00000231535.5 </td><td>ENSG00000231535</td><td>LINC00278</td><td>765</td><td>Adipose (sc)</td><td>-6.095420</td><td>-2.7765638</td><td>-126.9138</td><td>0</td><td>0</td><td>1050.366</td><td>chrY</td></tr>\n",
       "\t<tr><th scope=row>3</th><td>adipose_subcutaneous</td><td>ENSG00000129824.15</td><td>ENSG00000129824</td><td>RPS4Y1   </td><td>765</td><td>Adipose (sc)</td><td>-9.664190</td><td> 4.6352877</td><td>-125.8271</td><td>0</td><td>0</td><td>1041.877</td><td>chrY</td></tr>\n",
       "\t<tr><th scope=row>4</th><td>adipose_subcutaneous</td><td>ENSG00000067646.11</td><td>ENSG00000067646</td><td>ZFY      </td><td>765</td><td>Adipose (sc)</td><td>-9.504590</td><td> 0.6727555</td><td>-125.0371</td><td>0</td><td>0</td><td>1033.611</td><td>chrY</td></tr>\n",
       "\t<tr><th scope=row>5</th><td>adipose_subcutaneous</td><td>ENSG00000229807.10</td><td>ENSG00000229807</td><td>XIST     </td><td>765</td><td>Adipose (sc)</td><td> 9.892810</td><td> 1.2375604</td><td> 121.6969</td><td>0</td><td>0</td><td>1030.178</td><td>chrX</td></tr>\n",
       "\t<tr><th scope=row>6</th><td>adipose_subcutaneous</td><td>ENSG00000229236.1 </td><td>ENSG00000229236</td><td>TTTY10   </td><td>765</td><td>Adipose (sc)</td><td>-6.209013</td><td>-2.7452436</td><td>-122.5403</td><td>0</td><td>0</td><td>1029.414</td><td>chrY</td></tr>\n",
       "</tbody>\n",
       "</table>\n"
      ],
      "text/latex": [
       "A data.frame: 6 × 13\n",
       "\\begin{tabular}{r|lllllllllllll}\n",
       "  & V2 & V3 & V4 & V5 & V6 & V7 & V8 & V9 & V10 & V11 & V12 & V13 & V14\\\\\n",
       "  & <fct> & <fct> & <fct> & <fct> & <int> & <fct> & <dbl> & <dbl> & <dbl> & <dbl> & <dbl> & <dbl> & <fct>\\\\\n",
       "\\hline\n",
       "\t1 & adipose\\_subcutaneous & ENSG00000176728.7  & ENSG00000176728 & TTTY14    & 765 & Adipose (sc) & -7.982166 & -0.9288129 & -139.8230 & 0 & 0 & 1107.423 & chrY\\\\\n",
       "\t2 & adipose\\_subcutaneous & ENSG00000231535.5  & ENSG00000231535 & LINC00278 & 765 & Adipose (sc) & -6.095420 & -2.7765638 & -126.9138 & 0 & 0 & 1050.366 & chrY\\\\\n",
       "\t3 & adipose\\_subcutaneous & ENSG00000129824.15 & ENSG00000129824 & RPS4Y1    & 765 & Adipose (sc) & -9.664190 &  4.6352877 & -125.8271 & 0 & 0 & 1041.877 & chrY\\\\\n",
       "\t4 & adipose\\_subcutaneous & ENSG00000067646.11 & ENSG00000067646 & ZFY       & 765 & Adipose (sc) & -9.504590 &  0.6727555 & -125.0371 & 0 & 0 & 1033.611 & chrY\\\\\n",
       "\t5 & adipose\\_subcutaneous & ENSG00000229807.10 & ENSG00000229807 & XIST      & 765 & Adipose (sc) &  9.892810 &  1.2375604 &  121.6969 & 0 & 0 & 1030.178 & chrX\\\\\n",
       "\t6 & adipose\\_subcutaneous & ENSG00000229236.1  & ENSG00000229236 & TTTY10    & 765 & Adipose (sc) & -6.209013 & -2.7452436 & -122.5403 & 0 & 0 & 1029.414 & chrY\\\\\n",
       "\\end{tabular}\n"
      ],
      "text/markdown": [
       "\n",
       "A data.frame: 6 × 13\n",
       "\n",
       "| <!--/--> | V2 &lt;fct&gt; | V3 &lt;fct&gt; | V4 &lt;fct&gt; | V5 &lt;fct&gt; | V6 &lt;int&gt; | V7 &lt;fct&gt; | V8 &lt;dbl&gt; | V9 &lt;dbl&gt; | V10 &lt;dbl&gt; | V11 &lt;dbl&gt; | V12 &lt;dbl&gt; | V13 &lt;dbl&gt; | V14 &lt;fct&gt; |\n",
       "|---|---|---|---|---|---|---|---|---|---|---|---|---|---|\n",
       "| 1 | adipose_subcutaneous | ENSG00000176728.7  | ENSG00000176728 | TTTY14    | 765 | Adipose (sc) | -7.982166 | -0.9288129 | -139.8230 | 0 | 0 | 1107.423 | chrY |\n",
       "| 2 | adipose_subcutaneous | ENSG00000231535.5  | ENSG00000231535 | LINC00278 | 765 | Adipose (sc) | -6.095420 | -2.7765638 | -126.9138 | 0 | 0 | 1050.366 | chrY |\n",
       "| 3 | adipose_subcutaneous | ENSG00000129824.15 | ENSG00000129824 | RPS4Y1    | 765 | Adipose (sc) | -9.664190 |  4.6352877 | -125.8271 | 0 | 0 | 1041.877 | chrY |\n",
       "| 4 | adipose_subcutaneous | ENSG00000067646.11 | ENSG00000067646 | ZFY       | 765 | Adipose (sc) | -9.504590 |  0.6727555 | -125.0371 | 0 | 0 | 1033.611 | chrY |\n",
       "| 5 | adipose_subcutaneous | ENSG00000229807.10 | ENSG00000229807 | XIST      | 765 | Adipose (sc) |  9.892810 |  1.2375604 |  121.6969 | 0 | 0 | 1030.178 | chrX |\n",
       "| 6 | adipose_subcutaneous | ENSG00000229236.1  | ENSG00000229236 | TTTY10    | 765 | Adipose (sc) | -6.209013 | -2.7452436 | -122.5403 | 0 | 0 | 1029.414 | chrY |\n",
       "\n"
      ],
      "text/plain": [
       "  V2                   V3                 V4              V5        V6 \n",
       "1 adipose_subcutaneous ENSG00000176728.7  ENSG00000176728 TTTY14    765\n",
       "2 adipose_subcutaneous ENSG00000231535.5  ENSG00000231535 LINC00278 765\n",
       "3 adipose_subcutaneous ENSG00000129824.15 ENSG00000129824 RPS4Y1    765\n",
       "4 adipose_subcutaneous ENSG00000067646.11 ENSG00000067646 ZFY       765\n",
       "5 adipose_subcutaneous ENSG00000229807.10 ENSG00000229807 XIST      765\n",
       "6 adipose_subcutaneous ENSG00000229236.1  ENSG00000229236 TTTY10    765\n",
       "  V7           V8        V9         V10       V11 V12 V13      V14 \n",
       "1 Adipose (sc) -7.982166 -0.9288129 -139.8230 0   0   1107.423 chrY\n",
       "2 Adipose (sc) -6.095420 -2.7765638 -126.9138 0   0   1050.366 chrY\n",
       "3 Adipose (sc) -9.664190  4.6352877 -125.8271 0   0   1041.877 chrY\n",
       "4 Adipose (sc) -9.504590  0.6727555 -125.0371 0   0   1033.611 chrY\n",
       "5 Adipose (sc)  9.892810  1.2375604  121.6969 0   0   1030.178 chrX\n",
       "6 Adipose (sc) -6.209013 -2.7452436 -122.5403 0   0   1029.414 chrY"
      ]
     },
     "metadata": {},
     "output_type": "display_data"
    }
   ],
   "source": [
    "head(dge)"
   ]
  },
  {
   "cell_type": "code",
   "execution_count": 14,
   "metadata": {},
   "outputs": [
    {
     "name": "stderr",
     "output_type": "stream",
     "text": [
      "DGE escape: 41 DGE  inactive: 60\n",
      "\n"
     ]
    }
   ],
   "source": [
    "dge_genes <- sort(dge$V5)\n",
    "dge_genes <- sort(dge_genes)\n",
    "dge.escape <- intersect(escaped, dge_genes)\n",
    "dge.inactive <- intersect(inactive, dge_genes)\n",
    "dge.escape.len <- length(dge.escape)\n",
    "dge.inactive.len <- length(dge.inactive)\n",
    "message(\"DGE escape: \", dge.escape.len, \" DGE  inactive: \", dge.inactive.len)"
   ]
  },
  {
   "cell_type": "markdown",
   "metadata": {},
   "source": [
    "# **Make grouped bar plot**\n",
    "### First collect the counts of escape/inactive/variable X chromosomal, AS, and DGE genes"
   ]
  },
  {
   "cell_type": "code",
   "execution_count": 15,
   "metadata": {},
   "outputs": [],
   "source": [
    "# Colors for uniformity\n",
    "# Let's use the following colors for uniformity\n",
    "darkblue <- \"#3c5488\"\n",
    "blue <- \"#4BDDB5\"\n",
    "red <- \"#e64b35\"\n",
    "nearlyblack <- \"#040C04\"\n",
    "purple <- \"#790079\"\n",
    "orange = \"#ff9900\"\n",
    "green <- \"#00A087\"\n"
   ]
  },
  {
   "cell_type": "markdown",
   "metadata": {},
   "source": [
    "### Transform counts into percentages"
   ]
  },
  {
   "cell_type": "code",
   "execution_count": 16,
   "metadata": {},
   "outputs": [
    {
     "name": "stderr",
     "output_type": "stream",
     "text": [
      "AS escape: 19 (29.2307692307692%) AS inactive: 46 (70.7692307692308%)\n",
      "\n",
      "X chr escape: 94 (18.7250996015936%) X chr inactive: 408 (81.2749003984064%)\n",
      "\n",
      "DGE escape: 41 (40.5940594059406%) DGE inactive: 60 (59.4059405940594%)\n",
      "\n"
     ]
    }
   ],
   "source": [
    "as.total <- as.escape.len + as.inactive.len\n",
    "as.escape.per <-  as.escape.len/as.total\n",
    "as.inactive.per <-  as.inactive.len/as.total\n",
    "x.total <- x.escape.len + x.inactive.len\n",
    "x.escape.per <-  x.escape.len/x.total\n",
    "x.inactive.per <- x.inactive.len/x.total\n",
    "dge.total <- dge.escape.len + dge.inactive.len\n",
    "dge.escape.per <-  dge.escape.len/dge.total\n",
    "dge.inactive.per <-  dge.inactive.len/dge.total\n",
    "message(\"AS escape: \", as.escape.len, \" (\", 100*as.escape.per, \"%) AS inactive: \", as.inactive.len, \" (\",100*as.inactive.per,\"%)\")\n",
    "message(\"X chr escape: \", x.escape.len, \" (\", 100*x.escape.per, \"%) X chr inactive: \", x.inactive.len, \" (\", 100*x.inactive.per,\"%)\")\n",
    "message(\"DGE escape: \",  dge.escape.len, \" (\", 100*dge.escape.per, \"%) DGE inactive: \", dge.inactive.len,\" (\", 100*dge.inactive.per,\"%)\")"
   ]
  },
  {
   "cell_type": "code",
   "execution_count": 17,
   "metadata": {},
   "outputs": [
    {
     "name": "stderr",
     "output_type": "stream",
     "text": [
      "Saving 6.67 x 6.67 in image\n",
      "\n",
      "Saved plot as ../pdf/XchromosomalEscape.pdf\n",
      "\n"
     ]
    },
    {
     "data": {
      "image/png": "[encoded data removed]",
      "text/plain": [
       "plot without title"
      ]
     },
     "metadata": {
      "image/png": {
       "height": 420,
       "width": 420
      },
      "text/plain": {
       "height": 420,
       "width": 420
      }
     },
     "output_type": "display_data"
    }
   ],
   "source": [
    "library(ggplot2)\n",
    " \n",
    "# create a dataset\n",
    "category <- c(rep(\"AS\" , 2) , rep(\"chr X\" , 2) , rep(\"DE\" , 2) )\n",
    "condition <- rep(c(\"escape\" , \"inactive\") , 3)\n",
    "value <- c(as.escape.per, as.inactive.per,x.escape.per, x.inactive.per,dge.escape.per, dge.inactive.per)\n",
    "data <- data.frame(category,condition,value)\n",
    "\n",
    "\n",
    "# Grouped\n",
    "g <- ggplot(data, aes(fill=condition, y=value, x=category), color=barcolors) + \n",
    "    geom_bar(position=\"dodge\", stat=\"identity\") +\n",
    "    theme_bw() +\n",
    "    scale_y_continuous(labels = scales::percent) +\n",
    "    scale_fill_manual(values=c(red, darkblue)) +\n",
    "    theme(axis.text = element_text(size=32),\n",
    "          axis.title = element_blank(),\n",
    "          legend.title = element_blank(),\n",
    "          legend.text = element_text(size = 32),\n",
    "          legend.position = c(0.82,0.9)\n",
    "          )\n",
    "ggsave(\"../pdf/XchromosomalEscape.pdf\",g)\n",
    "message(\"Saved plot as ../pdf/XchromosomalEscape.pdf\")\n",
    "g"
   ]
  },
  {
   "cell_type": "markdown",
   "metadata": {},
   "source": [
    "# Chi2 test"
   ]
  },
  {
   "cell_type": "code",
   "execution_count": 18,
   "metadata": {},
   "outputs": [
    {
     "data": {
      "text/html": [
       "<table>\n",
       "<caption>A matrix: 2 × 2 of type int</caption>\n",
       "<tbody>\n",
       "\t<tr><td>94</td><td>408</td></tr>\n",
       "\t<tr><td>41</td><td> 60</td></tr>\n",
       "</tbody>\n",
       "</table>\n"
      ],
      "text/latex": [
       "A matrix: 2 × 2 of type int\n",
       "\\begin{tabular}{ll}\n",
       "\t 94 & 408\\\\\n",
       "\t 41 &  60\\\\\n",
       "\\end{tabular}\n"
      ],
      "text/markdown": [
       "\n",
       "A matrix: 2 × 2 of type int\n",
       "\n",
       "| 94 | 408 |\n",
       "| 41 |  60 |\n",
       "\n"
      ],
      "text/plain": [
       "     [,1] [,2]\n",
       "[1,] 94   408 \n",
       "[2,] 41    60 "
      ]
     },
     "metadata": {},
     "output_type": "display_data"
    }
   ],
   "source": [
    "# compare chr X against DGE\n",
    "x_vs_dge <- matrix(c(x.escape.len, x.inactive.len,dge.escape.len, dge.inactive.len), nrow=2,byrow = TRUE)\n",
    "x_vs_dge"
   ]
  },
  {
   "cell_type": "code",
   "execution_count": 19,
   "metadata": {},
   "outputs": [
    {
     "data": {
      "text/plain": [
       "\n",
       "\tFisher's Exact Test for Count Data\n",
       "\n",
       "data:  x_vs_dge\n",
       "p-value = 5.838e-06\n",
       "alternative hypothesis: true odds ratio is not equal to 1\n",
       "95 percent confidence interval:\n",
       " 0.2090518 0.5486638\n",
       "sample estimates:\n",
       "odds ratio \n",
       " 0.3378635 \n"
      ]
     },
     "metadata": {},
     "output_type": "display_data"
    }
   ],
   "source": [
    "fisher.test(x_vs_dge)"
   ]
  },
  {
   "cell_type": "code",
   "execution_count": 20,
   "metadata": {},
   "outputs": [
    {
     "data": {
      "text/html": [
       "<table>\n",
       "<caption>A matrix: 2 × 2 of type int</caption>\n",
       "<tbody>\n",
       "\t<tr><td>94</td><td>408</td></tr>\n",
       "\t<tr><td>19</td><td> 46</td></tr>\n",
       "</tbody>\n",
       "</table>\n"
      ],
      "text/latex": [
       "A matrix: 2 × 2 of type int\n",
       "\\begin{tabular}{ll}\n",
       "\t 94 & 408\\\\\n",
       "\t 19 &  46\\\\\n",
       "\\end{tabular}\n"
      ],
      "text/markdown": [
       "\n",
       "A matrix: 2 × 2 of type int\n",
       "\n",
       "| 94 | 408 |\n",
       "| 19 |  46 |\n",
       "\n"
      ],
      "text/plain": [
       "     [,1] [,2]\n",
       "[1,] 94   408 \n",
       "[2,] 19    46 "
      ]
     },
     "metadata": {},
     "output_type": "display_data"
    }
   ],
   "source": [
    "# compare chr X against AS\n",
    "x_vs_as  <- matrix(c(x.escape.len, x.inactive.len, as.escape.len, as.inactive.len), nrow=2,byrow = TRUE)\n",
    "x_vs_as"
   ]
  },
  {
   "cell_type": "code",
   "execution_count": 21,
   "metadata": {},
   "outputs": [
    {
     "data": {
      "text/plain": [
       "\n",
       "\tFisher's Exact Test for Count Data\n",
       "\n",
       "data:  x_vs_as\n",
       "p-value = 0.06779\n",
       "alternative hypothesis: true odds ratio is not equal to 1\n",
       "95 percent confidence interval:\n",
       " 0.3041614 1.0579304\n",
       "sample estimates:\n",
       "odds ratio \n",
       "  0.558468 \n"
      ]
     },
     "metadata": {},
     "output_type": "display_data"
    }
   ],
   "source": [
    "fisher.test(x_vs_as)"
   ]
  }
 ],
 "metadata": {
  "kernelspec": {
   "display_name": "R",
   "language": "R",
   "name": "ir"
  },
  "language_info": {
   "codemirror_mode": "r",
   "file_extension": ".r",
   "mimetype": "text/x-r-source",
   "name": "R",
   "pygments_lexer": "r",
   "version": "3.6.1"
  }
 },
 "nbformat": 4,
 "nbformat_minor": 4
}
