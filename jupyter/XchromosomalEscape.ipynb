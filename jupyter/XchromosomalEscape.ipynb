{
 "cells": [
  {
   "cell_type": "markdown",
   "metadata": {},
   "source": [
    "# **AS events vs X chromosomal escape**\n"
   ]
  },
  {
   "cell_type": "markdown",
   "metadata": {},
   "source": [
    "It has been reported that differentially expressed sex-biased genes are likely to be \n",
    "linked to escape from X chromosome inactivation ([Landscape of X chromosome inactivation across human tissues.\n",
    "Tukiainen T, et al. Nature 2017;550:244-248](https://pubmed.ncbi.nlm.nih.gov/29022598/)). \n",
    "\n",
    "Because of the observed overlap between sex-biased differential expression and AS, we hypothesized that AS events might be more commonly observed in X chromosomal genes that escape inactivation. "
   ]
  },
  {
   "cell_type": "markdown",
   "metadata": {},
   "source": [
    "## Retrieve data about X chromosomal escape\n",
    "This data was extracted from the supplemental material of the Tukiainen paper. Genes are characterized as\n",
    "\n",
    "1. Escape\n",
    "2. Inactive\n",
    "3. Variable\n",
    "4. Unknown\n",
    "\n",
    "We examine here the hypothesis that alternatively spliced genes are more likely to escape X inactivation than one would expect\n",
    "from the X chromosomal average. We compare the proportions of genes labeled ``Escape`` and ``non-Escape`` (everything else) using a Fisher exact test."
   ]
  },
  {
   "cell_type": "code",
   "execution_count": null,
   "metadata": {},
   "outputs": [],
   "source": [
    "suppressMessages({\n",
    "    options(warn = -1) \n",
    "    library(ggplot2)\n",
    "})"
   ]
  },
  {
   "cell_type": "code",
   "execution_count": null,
   "metadata": {},
   "outputs": [],
   "source": [
    "xchromgenetable <- read.table(file=\"../assets/TukiainenSuppFig2extract.tsv\", header=FALSE, sep=\"\\t\",\n",
    "                               skipNul=FALSE, stringsAsFactors = FALSE)\n",
    "colnames(xchromgenetable)  <- c(\"ENSG.id\",\"symbol\",\"escape.status\",\"par.status\")"
   ]
  },
  {
   "cell_type": "markdown",
   "metadata": {},
   "source": [
    "# Collect set of X chromosomal genes from the Tukiainen paper"
   ]
  },
  {
   "cell_type": "code",
   "execution_count": null,
   "metadata": {},
   "outputs": [],
   "source": [
    "head(xchromgenetable)"
   ]
  },
  {
   "cell_type": "code",
   "execution_count": null,
   "metadata": {},
   "outputs": [],
   "source": [
    "XchromGenes <- sort(xchromgenetable$symbol)\n",
    "n_xchrom_genes <- length(XchromGenes)\n",
    "message(\"Number of X chromosomal genes from Tukiainen paper: \", n_xchrom_genes)"
   ]
  },
  {
   "cell_type": "code",
   "execution_count": null,
   "metadata": {},
   "outputs": [],
   "source": [
    "xchrom_escaped <- sort(xchromgenetable[xchromgenetable$escape.status=='Escape',]$symbol)\n",
    "n_xchrom_escaped <-length(xchrom_escaped)\n",
    "xchrom_non_escaped <- sort(xchromgenetable[xchromgenetable$escape.status!='Escape',]$symbol)\n",
    "n_xchrom_non_escaped <- length(xchrom_non_escaped)\n",
    "if (n_xchrom_genes != (n_xchrom_escaped + n_xchrom_non_escaped)) {\n",
    "    stop(\"Problems extracting correct number of X chromosomal genes\")\n",
    "}\n",
    "\n",
    "message(\"X chromosomal genes from Tukiainen et al n=\", n_xchrom_genes)\n",
    "message(\"Escaped X chromomosal genes: \", n_xchrom_escaped, \" of a total of \",n_xchrom_genes, \" X-chromosomal genes: \", formatC((100*n_xchrom_escaped/n_xchrom_genes), digits=3),\"%\")\n",
    "message(\"Non-Escaped X chromomosal genes: \", n_xchrom_non_escaped, \" of a total of \", n_xchrom_non_escaped, \" X-chromosomal genes: \", formatC((100*n_xchrom_non_escaped/n_xchrom_genes), digits=3),\"%\")"
   ]
  },
  {
   "cell_type": "markdown",
   "metadata": {},
   "source": [
    "# Check overlap of differentially spliced genes with X-chromosomal escaped genes\n",
    "First we retrieve significantly differentially alternatively spliced (DAS) genes"
   ]
  },
  {
   "cell_type": "code",
   "execution_count": null,
   "metadata": {},
   "outputs": [],
   "source": [
    "total_AS_Genes <- read.table(file=\"../data/Total_AS_by_geneSymbol.tsv\", header=TRUE, sep=\"\\t\", skipNul=FALSE, stringsAsFactors = FALSE)"
   ]
  },
  {
   "cell_type": "code",
   "execution_count": null,
   "metadata": {},
   "outputs": [],
   "source": [
    "head(total_AS_Genes)"
   ]
  },
  {
   "cell_type": "code",
   "execution_count": null,
   "metadata": {},
   "outputs": [],
   "source": [
    "sigAsGenes <- sort(total_AS_Genes$GeneSymbol)\n",
    "xchromosomalSigAsGenes <- intersect(sigAsGenes,XchromGenes)\n",
    "message(\"Total X chromosomal genes showing alternative splicing: \", length(xchromosomalSigAsGenes))"
   ]
  },
  {
   "cell_type": "code",
   "execution_count": null,
   "metadata": {},
   "outputs": [],
   "source": [
    "# First collect the numbers\n",
    "das_xchrom_escape <- intersect(xchrom_escaped, xchromosomalSigAsGenes)\n",
    "das_xchrom_non_escape <- setdiff(xchromosomalSigAsGenes, das_xchrom_escape)\n",
    "n_das_xchrom_escape <- length(das_xchrom_escape)\n",
    "n_das_xchrom_non_escape <- length(das_xchrom_non_escape)\n",
    "\n",
    "# Non-DAS X chromosomal\n",
    "nondas_xchrom <- setdiff(XchromGenes, xchromosomalSigAsGenes)\n",
    "nondas_xchrom_escape <- intersect(nondas_xchrom, xchrom_escaped)\n",
    "nondas_xchrom_non_escape <- intersect(nondas_xchrom, xchrom_non_escaped)\n",
    "n_nondas_xchrom_escape <- length(nondas_xchrom_escape)\n",
    "n_nondas_xchrom_non_escape <- length(nondas_xchrom_non_escape)\n",
    "# sanity check\n",
    "if (n_xchrom_genes != (n_das_xchrom_escape + n_das_xchrom_non_escape + n_nondas_xchrom_escape + n_nondas_xchrom_non_escape)) {\n",
    "    message(\"nondas_xchrom: \", length(nondas_xchrom))\n",
    "    message(\"n_das_xchrom_escape: \", n_das_xchrom_escape, \" n_das_xchrom_non_escape: \", n_das_xchrom_non_escape)\n",
    "    message(\"n_nondas_xchrom_escape: \", n_nondas_xchrom_escape, \" n_nondas_xchrom_non_escape: \", n_nondas_xchrom_non_escape)\n",
    "    message(\"n_xchrom_genes: \",n_xchrom_genes)\n",
    "    mysum <- n_das_xchrom_escape + n_das_xchrom_non_escape + n_nondas_xchrom_escape + n_nondas_xchrom_non_escape\n",
    "    message(\"but we were expecting \", mysum)\n",
    "    #stop(\"Problems extracting correct number of X chromosomal genes\")\n",
    "}\n",
    "\n",
    "x_vs_as  <- matrix(c(n_das_xchrom_escape, n_nondas_xchrom_escape,n_das_xchrom_non_escape, n_nondas_xchrom_non_escape), nrow=2,byrow = TRUE)\n",
    "x_vs_as\n",
    "fisher.test(x_vs_as)"
   ]
  },
  {
   "cell_type": "markdown",
   "metadata": {},
   "source": [
    "# Get set of genes that show significant differential expression in at least one tissue\n",
    "Note that one of the column headers is blank and so we just skip one line to avoid a parse error."
   ]
  },
  {
   "cell_type": "code",
   "execution_count": null,
   "metadata": {},
   "outputs": [],
   "source": [
    "dge <- read.table(\"../data/gene_dge.tsv\", sep = \"\\t\", header = FALSE, row.names=1, skip = 1)"
   ]
  },
  {
   "cell_type": "code",
   "execution_count": null,
   "metadata": {},
   "outputs": [],
   "source": [
    "head(dge)"
   ]
  },
  {
   "cell_type": "code",
   "execution_count": null,
   "metadata": {},
   "outputs": [],
   "source": [
    "dge_genes <- sort(dge$V5)\n",
    "xchromosomalDiffGenes <- intersect(dge_genes, XchromGenes)\n",
    "xchromosomalDiffGenes <- sort(xchromosomalDiffGenes)\n",
    "dge_xchrom_escape <- intersect(xchrom_escaped, xchromosomalDiffGenes)\n",
    "dge_xchrom_nonescape <- setdiff(xchromosomalDiffGenes, xchrom_escaped)\n",
    "n_dge_xchrom <- length(xchromosomalDiffGenes)\n",
    "n_dge_xchrom_escape <- length(dge_xchrom_escape)\n",
    "n_dge_xchrom_nonescape <- length(dge_xchrom_nonescape)\n",
    "\n",
    "# Non-DGE X chromosomal\n",
    "nondge_xchrom <- setdiff(XchromGenes, xchromosomalDiffGenes)\n",
    "n_nondge_xchrom <- length(nondge_xchrom)\n",
    "nondge_xchrom_escape <- intersect(nondge_xchrom, xchrom_escaped)\n",
    "nondge_xchrom_non_escape <- intersect(nondge_xchrom, xchrom_non_escaped)\n",
    "n_nondge_xchrom_escape <- length(nondge_xchrom_escape)\n",
    "n_nondge_xchrom_non_escape <- length(nondge_xchrom_non_escape)\n",
    "\n",
    "subtotal <- n_dge_xchrom_escape + n_dge_xchrom_nonescape + n_nondge_xchrom_escape + n_nondge_xchrom_non_escape\n",
    "\n",
    "\n",
    "message(\"nondge_xchrom: \", n_nondge_xchrom)\n",
    "message(\"n_dge_xchrom_escape: \", n_dge_xchrom_escape, \" n_dge_xchrom_non_escape: \", n_dge_xchrom_nonescape)\n",
    "message(\"n_nondge_xchrom_escape: \", n_nondge_xchrom_escape, \" n_nondge_xchrom_non_escape: \", n_nondge_xchrom_non_escape)\n",
    "message(\"n_xchrom_genes: \",n_xchrom_genes)"
   ]
  },
  {
   "cell_type": "code",
   "execution_count": null,
   "metadata": {},
   "outputs": [],
   "source": [
    "x_vs_dge <- matrix(c(n_dge_xchrom_escape, n_dge_xchrom_nonescape, n_nondge_xchrom_escape, n_nondge_xchrom_non_escape), nrow=2,byrow = TRUE)\n",
    "x_vs_dge\n",
    "fisher.test(x_vs_dge)"
   ]
  },
  {
   "cell_type": "markdown",
   "metadata": {},
   "source": [
    "# **Make grouped bar plot**\n",
    "### First collect the counts of escape/inactive/variable X chromosomal, AS, and DGE genes"
   ]
  },
  {
   "cell_type": "code",
   "execution_count": null,
   "metadata": {
    "lines_to_next_cell": 2
   },
   "outputs": [],
   "source": [
    "# Colors for uniformity\n",
    "# Let's use the following colors for uniformity\n",
    "darkblue <- \"#3c5488\"\n",
    "blue <- \"#4BDDB5\"\n",
    "red <- \"#e64b35\"\n",
    "nearlyblack <- \"#040C04\"\n",
    "purple <- \"#790079\"\n",
    "orange = \"#ff9900\"\n",
    "green <- \"#00A087\""
   ]
  },
  {
   "cell_type": "markdown",
   "metadata": {},
   "source": [
    "### Transform counts into percentages"
   ]
  },
  {
   "cell_type": "code",
   "execution_count": null,
   "metadata": {},
   "outputs": [],
   "source": [
    "# as.total <- as.escape.len + as.non_escape.len\n",
    "n_das_total <- n_das_xchrom_escape + n_das_xchrom_non_escape\n",
    "\n",
    "\n",
    " \n",
    "\n",
    "as.escape.per <-  n_das_xchrom_escape/n_das_total\n",
    "as.nonescape.per <-  n_das_xchrom_non_escape/n_das_total\n",
    "x.total <- n_xchrom_escaped + n_xchrom_non_escaped\n",
    "x.escape.per <-  n_xchrom_escaped/x.total\n",
    "x.nonescape.per <- n_xchrom_non_escaped/x.total\n",
    "dge.total <-n_dge_xchrom_escape +n_dge_xchrom_nonescape\n",
    "dge.escape.per <-  n_dge_xchrom_escape/dge.total\n",
    "dge.nonescape.per <-  n_dge_xchrom_nonescape/dge.total\n",
    "message(\"AS escape: \", n_das_xchrom_escape, \" (\", formatC(100*as.escape.per, digits=3), \"%) AS non-escape: \", n_das_xchrom_non_escape , \" (\",100*as.nonescape.per ,\"%)\")\n",
    "message(\"X chr escape: \", n_xchrom_escaped, \" (\",formatC(100*x.escape.per,digits=3), \"%) X chr nonescape: \",n_xchrom_non_escaped, \" (\", formatC(100*x.nonescape.per,digits=3),\"%)\")\n",
    "message(\"DGE escape: \",  n_dge_xchrom_escape, \" (\", formatC(100*dge.escape.per,digits=3), \"%) DGE inactive: \", dge.nonescape.per,\" (\", formatC(100*dge.nonescape.per,digits=3),\"%)\")"
   ]
  },
  {
   "cell_type": "code",
   "execution_count": null,
   "metadata": {},
   "outputs": [],
   "source": [
    "library(ggplot2)\n",
    " \n",
    "# create a dataset\n",
    "category <- c(rep(\"DAS\" , 2) , rep(\"chr X\" , 2) , rep(\"DGE\" , 2) )\n",
    "condition <- rep(c(\"escape\" , \"inactive\") , 3)\n",
    "value <- c(as.escape.per, as.nonescape.per,x.escape.per, x.nonescape.per,dge.escape.per, dge.nonescape.per)\n",
    "data <- data.frame(category,condition,value)\n",
    "\n",
    "\n",
    "# Grouped\n",
    "g <- ggplot(data, aes(fill=condition, y=value, x=category), color=barcolors) + \n",
    "    geom_bar(position=\"dodge\", stat=\"identity\") +\n",
    "    theme_bw() +\n",
    "    scale_y_continuous(labels = scales::percent) +\n",
    "    scale_fill_manual(values=c(red, darkblue)) +\n",
    "    theme(axis.text = element_text(size=32),\n",
    "          axis.title = element_blank(),\n",
    "          legend.title = element_blank(),\n",
    "          legend.text = element_text(size = 32),\n",
    "          legend.position = c(0.82,0.9)\n",
    "          )\n",
    "ggsave(\"../pdf/XchromosomalEscape.pdf\",g)\n",
    "message(\"Saved plot as ../pdf/XchromosomalEscape.pdf\")\n",
    "g"
   ]
  }
 ],
 "metadata": {
  "kernelspec": {
   "display_name": "R",
   "language": "R",
   "name": "ir"
  }
 },
 "nbformat": 4,
 "nbformat_minor": 4
}
