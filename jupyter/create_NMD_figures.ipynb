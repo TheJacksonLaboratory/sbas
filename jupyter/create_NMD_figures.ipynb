{
 "cells": [
  {
   "cell_type": "markdown",
   "metadata": {},
   "source": [
    "# create_NMD_figures notebook"
   ]
  },
  {
   "cell_type": "markdown",
   "metadata": {},
   "source": [
    "A small description for the analysis, the metrics and how to interpret the figure."
   ]
  },
  {
   "cell_type": "markdown",
   "metadata": {},
   "source": [
    "## **NOTE**:\n",
    "\n",
    "We assume that you have cloned the analysis repository and have `cd` into the parent directory. Before starting with the analysis make sure you have first completed the dependencies set up by following the instructions described in the **`dependencies/README.md`** document. All paths defined in this Notebook are relative to the parent directory (repository). Please close this Notebook and start again by following the above guidelines if you have not completed the aforementioned steps."
   ]
  },
  {
   "cell_type": "markdown",
   "metadata": {},
   "source": [
    "## 1.0 Loading dependencies"
   ]
  },
  {
   "cell_type": "code",
   "execution_count": 1,
   "metadata": {},
   "outputs": [],
   "source": [
    "suppressWarnings({suppressMessages({\n",
    "library(Biostrings)\n",
    "library(rtracklayer)\n",
    "})})"
   ]
  },
  {
   "cell_type": "markdown",
   "metadata": {},
   "source": [
    "2 Unpack the data.tar file if necessary\n",
    "To run this script, we need to import three compressed files and unpack them.\n",
    "\n",
    "| file | sha256 | filename  |\n",
    "|------|------  |-----------|\n",
    "|  1   | b0c4bb23b96d77aba7e731fa2a15dc74a34daf490312478aca94443f9a6d4e90 | results/data_as_dge.tar.gz |\n",
    "|  2   | a0c2c5a7d7cfa0a89c8a39e2f7a4c6c3ac8c6a860f721077c087614505d869cf | rmats_and_annotation.tar.gz |\n",
    "|  3   | 005d6096bff744ca6aaf41e58a7cef57dce7d8763a523856a4c50fe19a452471 | NMD_summary.txt.gz |"
   ]
  },
  {
   "cell_type": "code",
   "execution_count": 2,
   "metadata": {},
   "outputs": [
    {
     "data": {
      "text/html": [
       "<style>\n",
       ".list-inline {list-style: none; margin:0; padding: 0}\n",
       ".list-inline>li {display: inline-block}\n",
       ".list-inline>li:not(:last-child)::after {content: \"\\00b7\"; padding: 0 .5ex}\n",
       "</style>\n",
       "<ol class=list-inline><li>'5ef252b5143fa0011321ec40-data_as_dge.tar.gz-5ef252b5143fa0011321ec40'</li><li>'5efcad5d143fa001136374c1-data_as_dge.tar.gz-5efcad5d143fa001136374c1'</li></ol>\n"
      ],
      "text/latex": [
       "\\begin{enumerate*}\n",
       "\\item '5ef252b5143fa0011321ec40-data\\_as\\_dge.tar.gz-5ef252b5143fa0011321ec40'\n",
       "\\item '5efcad5d143fa001136374c1-data\\_as\\_dge.tar.gz-5efcad5d143fa001136374c1'\n",
       "\\end{enumerate*}\n"
      ],
      "text/markdown": [
       "1. '5ef252b5143fa0011321ec40-data_as_dge.tar.gz-5ef252b5143fa0011321ec40'\n",
       "2. '5efcad5d143fa001136374c1-data_as_dge.tar.gz-5efcad5d143fa001136374c1'\n",
       "\n",
       "\n"
      ],
      "text/plain": [
       "[1] \"5ef252b5143fa0011321ec40-data_as_dge.tar.gz-5ef252b5143fa0011321ec40\"\n",
       "[2] \"5efcad5d143fa001136374c1-data_as_dge.tar.gz-5efcad5d143fa001136374c1\""
      ]
     },
     "metadata": {},
     "output_type": "display_data"
    },
    {
     "data": {
      "text/html": [
       "<style>\n",
       ".list-inline {list-style: none; margin:0; padding: 0}\n",
       ".list-inline>li {display: inline-block}\n",
       ".list-inline>li:not(:last-child)::after {content: \"\\00b7\"; padding: 0 .5ex}\n",
       "</style>\n",
       "<ol class=list-inline><li>'5ef252a9143fa0011321ec01-rmats_and_annotation.tar.gz-5ef252a9143fa0011321ec01'</li><li>'5efcad49143fa0011363740b-rmats_and_annotation.tar.gz-5efcad49143fa0011363740b'</li></ol>\n"
      ],
      "text/latex": [
       "\\begin{enumerate*}\n",
       "\\item '5ef252a9143fa0011321ec01-rmats\\_and\\_annotation.tar.gz-5ef252a9143fa0011321ec01'\n",
       "\\item '5efcad49143fa0011363740b-rmats\\_and\\_annotation.tar.gz-5efcad49143fa0011363740b'\n",
       "\\end{enumerate*}\n"
      ],
      "text/markdown": [
       "1. '5ef252a9143fa0011321ec01-rmats_and_annotation.tar.gz-5ef252a9143fa0011321ec01'\n",
       "2. '5efcad49143fa0011363740b-rmats_and_annotation.tar.gz-5efcad49143fa0011363740b'\n",
       "\n",
       "\n"
      ],
      "text/plain": [
       "[1] \"5ef252a9143fa0011321ec01-rmats_and_annotation.tar.gz-5ef252a9143fa0011321ec01\"\n",
       "[2] \"5efcad49143fa0011363740b-rmats_and_annotation.tar.gz-5efcad49143fa0011363740b\""
      ]
     },
     "metadata": {},
     "output_type": "display_data"
    },
    {
     "data": {
      "text/html": [
       "<style>\n",
       ".list-inline {list-style: none; margin:0; padding: 0}\n",
       ".list-inline>li {display: inline-block}\n",
       ".list-inline>li:not(:last-child)::after {content: \"\\00b7\"; padding: 0 .5ex}\n",
       "</style>\n",
       "<ol class=list-inline><li>'5ef252a9143fa0011321ec01-rmats_and_annotation.tar.gz-5ef252a9143fa0011321ec01'</li><li>'5efcad49143fa0011363740b-rmats_and_annotation.tar.gz-5efcad49143fa0011363740b'</li></ol>\n"
      ],
      "text/latex": [
       "\\begin{enumerate*}\n",
       "\\item '5ef252a9143fa0011321ec01-rmats\\_and\\_annotation.tar.gz-5ef252a9143fa0011321ec01'\n",
       "\\item '5efcad49143fa0011363740b-rmats\\_and\\_annotation.tar.gz-5efcad49143fa0011363740b'\n",
       "\\end{enumerate*}\n"
      ],
      "text/markdown": [
       "1. '5ef252a9143fa0011321ec01-rmats_and_annotation.tar.gz-5ef252a9143fa0011321ec01'\n",
       "2. '5efcad49143fa0011363740b-rmats_and_annotation.tar.gz-5efcad49143fa0011363740b'\n",
       "\n",
       "\n"
      ],
      "text/plain": [
       "[1] \"5ef252a9143fa0011321ec01-rmats_and_annotation.tar.gz-5ef252a9143fa0011321ec01\"\n",
       "[2] \"5efcad49143fa0011363740b-rmats_and_annotation.tar.gz-5efcad49143fa0011363740b\""
      ]
     },
     "metadata": {},
     "output_type": "display_data"
    }
   ],
   "source": [
    "data_as_dge_file_dir <- list.files(\"../../mounted-data\", pattern='data_as_dge.tar.gz')\n",
    "data_as_dge_file_dir\n",
    "rmats_and_annotation_dir <- list.files(\"../../mounted-data\", pattern='rmats_and_annotation.tar.gz')\n",
    "rmats_and_annotation_dir\n",
    "NMD_summary_dir <- list.files(\"../../mounted-data\", pattern='NMD_summary.txt.gz')\n",
    "rmats_and_annotation_dir"
   ]
  },
  {
   "cell_type": "code",
   "execution_count": 3,
   "metadata": {},
   "outputs": [
    {
     "name": "stderr",
     "output_type": "stream",
     "text": [
      "In order to unpack the necessary files, execute the following commands on the shell.\n",
      "\n",
      "data_as_dge.tar.gz\n",
      "\n",
      "tar xvfz  ../../mounted-data/5ef252b5143fa0011321ec40-data_as_dge.tar.gz-5ef252b5143fa0011321ec40/robinson-bucket/notebooks/data_as_dge.tar.gz -C ../datatar xvfz  ../../mounted-data/5efcad5d143fa001136374c1-data_as_dge.tar.gz-5efcad5d143fa001136374c1/robinson-bucket/notebooks/data_as_dge.tar.gz -C ../data\n",
      "\n",
      "checking sha256sum\n",
      "\n",
      "sha256sum ../../mounted-data/5ef252b5143fa0011321ec40-data_as_dge.tar.gz-5ef252b5143fa0011321ec40/robinson-bucket/notebooks/data_as_dge.tar.gzsha256sum ../../mounted-data/5efcad5d143fa001136374c1-data_as_dge.tar.gz-5efcad5d143fa001136374c1/robinson-bucket/notebooks/data_as_dge.tar.gz\n",
      "\n",
      "In order to unpack the necessary files, execute the following commands on the shell.\n",
      "\n",
      "rmats_and_annotation.tar.gz\n",
      "\n",
      "tar xvfz  ../../mounted-data/5ef252a9143fa0011321ec01-rmats_and_annotation.tar.gz-5ef252a9143fa0011321ec01/robinson-bucket/notebooks/rmats_and_annotation.tar.gz -C ../datatar xvfz  ../../mounted-data/5efcad49143fa0011363740b-rmats_and_annotation.tar.gz-5efcad49143fa0011363740b/robinson-bucket/notebooks/rmats_and_annotation.tar.gz -C ../data\n",
      "\n",
      "checking sha256sum\n",
      "\n",
      "sha256sum ../../mounted-data/5ef252a9143fa0011321ec01-rmats_and_annotation.tar.gz-5ef252a9143fa0011321ec01/robinson-bucket/notebooks/rmats_and_annotation.tar.gzsha256sum ../../mounted-data/5efcad49143fa0011363740b-rmats_and_annotation.tar.gz-5efcad49143fa0011363740b/robinson-bucket/notebooks/rmats_and_annotation.tar.gz\n",
      "\n",
      "In order to unpack the necessary files, execute the following commands on the shell.\n",
      "\n",
      "NMD_summary_file_gz\n",
      "\n",
      "gunzip  ../../mounted-data/5efcad36143fa00113637380-NMD_summary.txt.gz-5efcad36143fa00113637380/robinson-bucket/notebooks/NMD_summary.txt.gz -C ../data\n",
      "\n",
      "checking sha256sum\n",
      "\n",
      "sha256sum ../../mounted-data/5efcad36143fa00113637380-NMD_summary.txt.gz-5efcad36143fa00113637380/robinson-bucket/notebooks/NMD_summary.txt.gz\n",
      "\n"
     ]
    }
   ],
   "source": [
    "data_as_dge_file_dir <- list.files(\"../../mounted-data\", pattern='data_as_dge.tar.gz')\n",
    "data_as_dge_file <- paste(\"../../mounted-data\", data_as_dge_file_dir, 'robinson-bucket/notebooks/data_as_dge', sep='/')\n",
    "data_as_dge_file_tar_gz <- paste(data_as_dge_file, '.tar.gz', sep='')\n",
    "message(\"In order to unpack the necessary files, execute the following commands on the shell.\")\n",
    "message(\"data_as_dge.tar.gz\")\n",
    "mycommand = paste(\"tar xvfz \",data_as_dge_file_tar_gz, \"-C ../data\", sep=\" \")\n",
    "message(mycommand)\n",
    "system(mycommand)\n",
    "message(\"checking sha256sum\")\n",
    "mycommand = paste(\"sha256sum\", data_as_dge_file_tar_gz, sep = \" \")\n",
    "message(mycommand)\n",
    "system(mycommand)\n",
    "rmats_annot_file_dir <- list.files(\"../../mounted-data\", pattern='rmats_and_annotation.tar.gz')\n",
    "rmats_annot_file <- paste(\"../../mounted-data\", rmats_annot_file_dir, 'robinson-bucket/notebooks/rmats_and_annotation', sep='/')\n",
    "rmats_annot_file_tar_gz <- paste(rmats_annot_file, '.tar.gz', sep='')\n",
    "message(\"In order to unpack the necessary files, execute the following commands on the shell.\")\n",
    "message(\"rmats_and_annotation.tar.gz\")\n",
    "mycommand = paste(\"tar xvfz \",rmats_annot_file_tar_gz, \"-C ../data\", sep=\" \")\n",
    "message(mycommand)\n",
    "system(mycommand)\n",
    "message(\"checking sha256sum\")\n",
    "mycommand = paste(\"sha256sum\", rmats_annot_file_tar_gz, sep = \" \")\n",
    "message(mycommand)\n",
    "system(mycommand)\n",
    "NMD_summary_dir <- list.files(\"../../mounted-data\", pattern='NMD_summary.txt.gz')\n",
    "NMD_summary_file <- paste(\"../../mounted-data\", NMD_summary_dir, 'robinson-bucket/notebooks/NMD_summary.txt', sep='/')\n",
    "NMD_summary_file_gz <- paste(NMD_summary_file, '.gz', sep='')\n",
    "message(\"In order to unpack the necessary files, execute the following commands on the shell.\")\n",
    "message(\"NMD_summary_file_gz\")\n",
    "mycommand = paste(\"gunzip \",NMD_summary_file_gz, \"-C ../data\", sep=\" \")\n",
    "message(mycommand)\n",
    "system(mycommand)\n",
    "message(\"checking sha256sum\")\n",
    "mycommand = paste(\"sha256sum\", NMD_summary_file_gz, sep = \" \")\n",
    "message(mycommand)\n",
    "system(mycommand)"
   ]
  },
  {
   "cell_type": "markdown",
   "metadata": {},
   "source": [
    "## 2.0 preprocessing"
   ]
  },
  {
   "cell_type": "markdown",
   "metadata": {},
   "source": [
    "Some text for describing what is going to be executed and what it will produce"
   ]
  },
  {
   "cell_type": "code",
   "execution_count": null,
   "metadata": {},
   "outputs": [],
   "source": []
  },
  {
   "cell_type": "markdown",
   "metadata": {},
   "source": [
    "## 3.0 make figure"
   ]
  },
  {
   "cell_type": "markdown",
   "metadata": {},
   "source": [
    "## ... \n",
    "more of the above sequence"
   ]
  },
  {
   "cell_type": "markdown",
   "metadata": {},
   "source": [
    "## Metadata\n",
    "\n",
    "For replicability and reproducibility purposes, we also print the following metadata:\n",
    "\n",
    "1. Checksums of **'artefacts'**, files generated during the analysis and stored in the folder directory **`data`**\n",
    "2. List of environment metadata, dependencies, versions of libraries using `utils::sessionInfo()` and [`devtools::session_info()`](https://devtools.r-lib.org/reference/session_info.html)"
   ]
  },
  {
   "cell_type": "markdown",
   "metadata": {},
   "source": [
    "## Appendix"
   ]
  },
  {
   "cell_type": "markdown",
   "metadata": {},
   "source": [
    "### Appendix 1. Checksums with the sha256 algorithm"
   ]
  },
  {
   "cell_type": "code",
   "execution_count": null,
   "metadata": {},
   "outputs": [],
   "source": [
    "notebook_id   = \"create_NMD_figures\"\n",
    "\n",
    "message(\"Generating sha256 checksums of the artefacts in the `..data/` directory .. \")\n",
    "system(paste0(\"cd ../data/ && sha256sum * > ../metadata/\", notebook_id, \"_sha256sums.txt\"), intern = TRUE)\n",
    "message(\"Done!\\n\")\n",
    "\n",
    "data.table::fread(paste0(\"../metadata/\", figure_id, \"_sha256sums.txt\"), header = FALSE, col.names = c(\"sha256sum\", \"file\"))"
   ]
  },
  {
   "cell_type": "markdown",
   "metadata": {},
   "source": [
    "### Appendix 2. Library Metadata"
   ]
  },
  {
   "cell_type": "code",
   "execution_count": null,
   "metadata": {},
   "outputs": [],
   "source": [
    "dev_session_info   <- devtools::session_info()\n",
    "utils_session_info <- utils::sessionInfo()\n",
    "\n",
    "message(\"Saving `devtools::session_info()` objects in ../metadata/devtools_session_info.rds  ..\")\n",
    "saveRDS(dev_session_info, file = paste0(\"../metadata/\", notebook_id, \"_devtools_session_info.rds\"))\n",
    "message(\"Done!\\n\")\n",
    "\n",
    "message(\"Saving `utils::sessionInfo()` objects in ../metadata/utils_session_info.rds  ..\")\n",
    "saveRDS(utils_session_info, file = paste0(\"../metadata/\", notebook_id ,\"_utils_info.rds\"))\n",
    "message(\"Done!\\n\")\n",
    "\n",
    "dev_session_info$platform\n",
    "dev_session_info$packages[dev_session_info$packages$attached==TRUE, ]"
   ]
  }
 ],
 "metadata": {
  "kernelspec": {
   "display_name": "R",
   "language": "R",
   "name": "ir"
  },
  "language_info": {
   "codemirror_mode": "r",
   "file_extension": ".r",
   "mimetype": "text/x-r-source",
   "name": "R",
   "pygments_lexer": "r",
   "version": "3.6.2"
  }
 },
 "nbformat": 4,
 "nbformat_minor": 4
}
