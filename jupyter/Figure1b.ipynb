{
 "cells": [
  {
   "cell_type": "markdown",
   "metadata": {},
   "source": [
    "# Figure 1b\n",
    "This notebook reads in the data produced by the figure1 notebook, counts the number of differential gene expression events per sex, and plots a bar chart."
   ]
  },
  {
   "cell_type": "code",
   "execution_count": 3,
   "metadata": {},
   "outputs": [],
   "source": [
    "import os\n",
    "from os import listdir\n",
    "from os.path import isfile, join\n",
    "import csv\n",
    "from collections import defaultdict"
   ]
  },
  {
   "cell_type": "code",
   "execution_count": 8,
   "metadata": {},
   "outputs": [
    {
     "name": "stdout",
     "output_type": "stream",
     "text": [
      "Found 46 csvfiles\n"
     ]
    }
   ],
   "source": [
    "dirpath = '../data/'\n",
    "csvfiles = [f for f in listdir(dirpath) if isfile(join(dirpath, f)) and f.endswith('csv')]\n",
    "print(\"Found %d csvfiles\" % len(csvfiles))"
   ]
  },
  {
   "cell_type": "code",
   "execution_count": 41,
   "metadata": {},
   "outputs": [],
   "source": [
    "def parse_male_female_significantly_de_gene_counts(path, degenes):\n",
    "    \"\"\"\n",
    "    Assumption -- if the log fold change is positive the gene is more highly expressed in females\n",
    "    We count the numbers of genes significantly differential according to sex\n",
    "    @param path -- path to a CSV file\n",
    "    @param degenes -- a set with differentially expressed genes\n",
    "    \"\"\"\n",
    "    n_male_sig = 0\n",
    "    n_female_sig = 0\n",
    "    with open(path) as csvfile:\n",
    "        creader = csv.reader(csvfile, delimiter=',')\n",
    "        next(creader)\n",
    "        for row in creader:\n",
    "            #print(row)\n",
    "            if len(row) != 7:\n",
    "                raise ValueError(\"Malformed row with %d fields - expected 7: %s\" % (len(row), join(\",\", row)))\n",
    "            #print(\",\".join(row))\n",
    "            logFC = float(row[1])\n",
    "            adjpval = float(row[5])\n",
    "            if adjpval <= 0.05:\n",
    "                gene = row[0]\n",
    "                degenes.add(gene)\n",
    "                if logFC > 0:\n",
    "                    n_female_sig += 1\n",
    "                else:\n",
    "                    n_male_sig += 1\n",
    "    return n_female_sig, n_male_sig"
   ]
  },
  {
   "cell_type": "code",
   "execution_count": 43,
   "metadata": {},
   "outputs": [
    {
     "name": "stdout",
     "output_type": "stream",
     "text": [
      "Cells-EBV-transformedlymphocytes_DGE.csv male:27 female:27\n",
      "Total unique DE genes: 54\n",
      "Brain-CerebellarHemisphere_DGE.csv male:298 female:271\n",
      "Total unique DE genes: 585\n",
      "Breast-MammaryTissue_DGE.csv male:4949 female:5423\n",
      "Total unique DE genes: 10532\n",
      "Esophagus-Mucosa_DGE.csv male:166 female:71\n",
      "Total unique DE genes: 10572\n",
      "Heart-AtrialAppendage_DGE.csv male:403 female:489\n",
      "Total unique DE genes: 10811\n",
      "Liver_DGE.csv male:109 female:124\n",
      "Total unique DE genes: 10865\n",
      "Nerve-Tibial_DGE.csv male:300 female:432\n",
      "Total unique DE genes: 11019\n",
      "Brain-Anteriorcingulatecortex(BA24)_DGE.csv male:15 female:27\n",
      "Total unique DE genes: 11019\n",
      "Brain-Nucleusaccumbens(basalganglia)_DGE.csv male:82 female:177\n",
      "Total unique DE genes: 11071\n",
      "Pancreas_DGE.csv male:237 female:164\n",
      "Total unique DE genes: 11150\n",
      "Pituitary_DGE.csv male:516 female:646\n",
      "Total unique DE genes: 11395\n",
      "Skin-SunExposed(Lowerleg)_DGE.csv male:2199 female:1713\n",
      "Total unique DE genes: 12329\n",
      "Adipose-Visceral(Omentum)_DGE.csv male:813 female:709\n",
      "Total unique DE genes: 12595\n",
      "AdrenalGland_DGE.csv male:76 female:86\n",
      "Total unique DE genes: 12605\n",
      "Brain-FrontalCortex(BA9)_DGE.csv male:315 female:149\n",
      "Total unique DE genes: 12651\n",
      "Brain-Cerebellum_DGE.csv male:276 female:703\n",
      "Total unique DE genes: 12818\n",
      "Kidney-Cortex_DGE.csv male:12 female:20\n",
      "Total unique DE genes: 12818\n",
      "Brain-Putamen(basalganglia)_DGE.csv male:74 female:58\n",
      "Total unique DE genes: 12830\n",
      "Brain-Amygdala_DGE.csv male:14 female:25\n",
      "Total unique DE genes: 12830\n",
      "Brain-Caudate(basalganglia)_DGE.csv male:33 female:43\n",
      "Total unique DE genes: 12830\n",
      "MinorSalivaryGland_DGE.csv male:36 female:41\n",
      "Total unique DE genes: 12832\n",
      "Heart-LeftVentricle_DGE.csv male:1666 female:1352\n",
      "Total unique DE genes: 13297\n",
      "Artery-Aorta_DGE.csv male:444 female:402\n",
      "Total unique DE genes: 13370\n",
      "Brain-Spinalcord(cervicalc-1)_DGE.csv male:20 female:25\n",
      "Total unique DE genes: 13370\n",
      "Thyroid_DGE.csv male:1999 female:1736\n",
      "Total unique DE genes: 13838\n",
      "Skin-NotSunExposed(Suprapubic)_DGE.csv male:2237 female:2089\n",
      "Total unique DE genes: 14135\n",
      "Stomach_DGE.csv male:45 female:34\n",
      "Total unique DE genes: 14138\n",
      "SmallIntestine-TerminalIleum_DGE.csv male:27 female:24\n",
      "Total unique DE genes: 14138\n",
      "Spleen_DGE.csv male:162 female:191\n",
      "Total unique DE genes: 14170\n",
      "Brain-Cortex_DGE.csv male:31 female:29\n",
      "Total unique DE genes: 14170\n",
      "Kidney-Medulla_DGE.csv male:0 female:0\n",
      "Total unique DE genes: 14170\n",
      "Brain-Substantianigra_DGE.csv male:13 female:23\n",
      "Total unique DE genes: 14170\n",
      "WholeBlood_DGE.csv male:1872 female:1345\n",
      "Total unique DE genes: 14510\n",
      "Artery-Tibial_DGE.csv male:1077 female:1128\n",
      "Total unique DE genes: 14601\n",
      "Esophagus-GastroesophagealJunction_DGE.csv male:1488 female:1391\n",
      "Total unique DE genes: 14811\n",
      "Muscle-Skeletal_DGE.csv male:2083 female:2054\n",
      "Total unique DE genes: 15048\n",
      "Colon-Sigmoid_DGE.csv male:29 female:42\n",
      "Total unique DE genes: 15048\n",
      "Esophagus-Muscularis_DGE.csv male:996 female:899\n",
      "Total unique DE genes: 15088\n",
      "Lung_DGE.csv male:67 female:64\n",
      "Total unique DE genes: 15088\n",
      "Cells-Culturedfibroblasts_DGE.csv male:516 female:440\n",
      "Total unique DE genes: 15103\n",
      "Adipose-Subcutaneous_DGE.csv male:2574 female:2982\n",
      "Total unique DE genes: 15305\n",
      "Colon-Transverse_DGE.csv male:37 female:31\n",
      "Total unique DE genes: 15305\n",
      "Artery-Coronary_DGE.csv male:50 female:64\n",
      "Total unique DE genes: 15305\n",
      "Brain-Hypothalamus_DGE.csv male:23 female:29\n",
      "Total unique DE genes: 15305\n",
      "Brain-Hippocampus_DGE.csv male:20 female:28\n",
      "Total unique DE genes: 15305\n",
      "Bladder_DGE.csv male:1 female:14\n",
      "Total unique DE genes: 15305\n"
     ]
    }
   ],
   "source": [
    "degenes = set()\n",
    "for f in csvfiles:\n",
    "    path = os.path.join(dirpath, f)\n",
    "    n_female_sig, n_male_sig = parse_male_female_significantly_de_gene_counts(path, degenes)\n",
    "    print(\"%s male:%d female:%d\" % (f, n_female_sig, n_male_sig))\n",
    "    print(\"Total unique DE genes: %d\" % len(degenes))"
   ]
  },
  {
   "cell_type": "code",
   "execution_count": null,
   "metadata": {},
   "outputs": [],
   "source": []
  }
 ],
 "metadata": {
  "kernelspec": {
   "display_name": "Python 3",
   "language": "python",
   "name": "python3"
  },
  "language_info": {
   "codemirror_mode": {
    "name": "ipython",
    "version": 3
   },
   "file_extension": ".py",
   "mimetype": "text/x-python",
   "name": "python",
   "nbconvert_exporter": "python",
   "pygments_lexer": "ipython3",
   "version": "3.7.3"
  }
 },
 "nbformat": 4,
 "nbformat_minor": 4
}
