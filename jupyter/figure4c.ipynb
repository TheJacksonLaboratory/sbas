{
 "cells": [
  {
   "cell_type": "markdown",
   "metadata": {},
   "source": [
    "# Figure 4c - `Nonsense-mediated decay in sex-biased alternative splicing`"
   ]
  },
  {
   "cell_type": "markdown",
   "metadata": {},
   "source": [
    "A small description for the analysis, the metrics and how to interpret the figure.\n",
    "This notebook generates an interactive HTML plot for Figure 4c. This notebook is seperated from the other Figure 4 notebooks because a python kernel is required whereas the other plots require an R kernel."
   ]
  },
  {
   "cell_type": "markdown",
   "metadata": {},
   "source": [
    "## **NOTE**:\n",
    "\n",
    "We assume that you have cloned the analysis repository and have `cd` into the parent directory. Before starting with the analysis make sure you have first completed the dependencies set up by following the instructions described in the **`dependencies/README.md`** document. All paths defined in this Notebook are relative to the parent directory (repository). Please close this Notebook and start again by following the above guidelines if you have not completed the aforementioned steps."
   ]
  },
  {
   "cell_type": "markdown",
   "metadata": {},
   "source": [
    "## Loading dependencies"
   ]
  },
  {
   "cell_type": "code",
   "execution_count": 1,
   "metadata": {},
   "outputs": [],
   "source": [
    "import pandas as pd\n",
    "\n",
    "from plotly.offline import iplot, init_notebook_mode\n",
    "import plotly.offline as offline\n",
    "import plotly.graph_objs as go\n",
    "import plotly.io as pio\n",
    "\n",
    "import os\n",
    "import numpy as np"
   ]
  },
  {
   "cell_type": "markdown",
   "metadata": {},
   "source": [
    "## Figure 4c\n",
    "3-dimensional plot illustrating the relationship between  gene  expression  and  inclusion  and  exclusion  counts  for  an  exon  skipping  event  in  CDKN2A  in  mammary  tissue.  Females  show  both  higher  gene  expression  as  well  as  higher  skip  counts  than  males.  The  skipped  exon  is  present in isoform 5 of CDKN2A (NM_001195132.1) and causes a frameshift that is predicted to induce NMD."
   ]
  },
  {
   "cell_type": "markdown",
   "metadata": {},
   "source": [
    "### Load the input data"
   ]
  },
  {
   "cell_type": "code",
   "execution_count": 2,
   "metadata": {},
   "outputs": [],
   "source": [
    "data3d = pd.read_csv('../dimorphAS/figures/figure3/3dtable.txt',sep='\\t',dtype='object')"
   ]
  },
  {
   "cell_type": "markdown",
   "metadata": {},
   "source": [
    "### Produce the HTML scatter plot"
   ]
  },
  {
   "cell_type": "code",
   "execution_count": 3,
   "metadata": {},
   "outputs": [
    {
     "name": "stderr",
     "output_type": "stream",
     "text": [
      "/opt/conda/lib/python3.7/site-packages/plotly/offline/offline.py:563: UserWarning:\n",
      "\n",
      "Your filename `basic-scatter` didn't end with .html. Adding .html to the end of your file.\n",
      "\n"
     ]
    },
    {
     "data": {
      "text/plain": [
       "'basic-scatter.html'"
      ]
     },
     "execution_count": 3,
     "metadata": {},
     "output_type": "execute_result"
    }
   ],
   "source": [
    "#init_notebook_mode(connected=True)\n",
    "\n",
    "Male = go.Scatter3d(\n",
    "    x = data3d.loc[data3d['Sex']=='male',data3d.columns[0]],\n",
    "    y = data3d.loc[data3d['Sex']=='male',data3d.columns[1]],\n",
    "    z=  data3d.loc[data3d['Sex']=='male',data3d.columns[2]],\n",
    "    mode = 'markers',name='Male', marker=dict(\n",
    "        size=12,color='rgba(60,84,136,1)',\n",
    "\n",
    "        opacity=0.8\n",
    "    )\n",
    ")\n",
    "\n",
    "Female = go.Scatter3d(\n",
    "    x = data3d.loc[data3d['Sex']=='female',data3d.columns[0]],\n",
    "    y = data3d.loc[data3d['Sex']=='female',data3d.columns[1]],\n",
    "    z=  data3d.loc[data3d['Sex']=='female',data3d.columns[2]],\n",
    "    mode = 'markers',name='Female', marker=dict(\n",
    "        size=12,color='rgba(220,0,0,1)',\n",
    "        opacity=0.8\n",
    "    )\n",
    ")\n",
    "\n",
    "\n",
    "layout = go.Layout(\n",
    "    autosize=True,\n",
    "    font=dict(family='Courier New, monospace',size=18,color='black'),\n",
    "    scene = dict(\n",
    "        xaxis = dict(\n",
    "            title=list(data3d.columns.values)[0]),\n",
    "        yaxis = dict(\n",
    "            title=list(data3d.columns.values)[1]),\n",
    "        zaxis = dict(\n",
    "            title=list(data3d.columns.values)[2]),),\n",
    "    width=2000,\n",
    "    height=1000,\n",
    "    legend=dict(x=0.45,y=0.3,font=dict(\n",
    "            family='sans-serif',\n",
    "            size=36)\n",
    "    ),\n",
    "    margin=dict(r=50, b=25,l=25, t=30),\n",
    ")\n",
    "\n",
    "data = [Male,Female]\n",
    "\n",
    "fig = go.Figure(data=data, layout=layout)\n",
    "\n",
    "offline.plot(fig, filename='basic-scatter')\n",
    "\n",
    "#init_notebook_mode(connected=True)\n",
    "#pio.write_image(fig, 'fig3d.pdf')\n",
    "\n",
    "#pio.write_image(fig, '3d-scatter-colorscale.pdf')"
   ]
  },
  {
   "cell_type": "markdown",
   "metadata": {},
   "source": [
    "## Metadata\n",
    "\n",
    "For replicability and reproducibility purposes, we also print the following metadata:\n",
    "\n",
    "1. Checksums of **'artefacts'**, files generated during the analysis and stored in the folder directory **`data`**\n",
    "2. List of environment metadata, dependencies, versions of libraries using `utils::sessionInfo()` and [`devtools::session_info()`](https://devtools.r-lib.org/reference/session_info.html)"
   ]
  },
  {
   "cell_type": "markdown",
   "metadata": {},
   "source": [
    "### 1. Checksums with the sha256 algorithm"
   ]
  },
  {
   "cell_type": "code",
   "execution_count": 4,
   "metadata": {},
   "outputs": [
    {
     "name": "stdout",
     "output_type": "stream",
     "text": [
      "Generating sha256 checksums of the artefacts in the `..data/` directory .. \n",
      "Done!\n",
      "\n"
     ]
    }
   ],
   "source": [
    "figure_id   = \"figure3d\"\n",
    "os.system(\"echo true\")\n",
    "\n",
    "print(\"Generating sha256 checksums of the artefacts in the `..data/` directory .. \")\n",
    "os.system(f\"cd ../data/ && sha256sum * > ../metadata/{figure_id}_sha256sums.txt\")\n",
    "print(\"Done!\\n\")\n",
    "\n",
    "# TODO: read with pandas & print metadata file\n",
    "# if no data print \"No data downloaded for this notebook\"\n",
    "# data.table::fread(paste0(\"../metadata/\", figure_id, \"_sha256sums.txt\"), header = FALSE, col.names = c(\"sha256sum\", \"file\"))"
   ]
  },
  {
   "cell_type": "markdown",
   "metadata": {},
   "source": [
    "### 2. Libraries metadata"
   ]
  },
  {
   "cell_type": "code",
   "execution_count": 5,
   "metadata": {},
   "outputs": [],
   "source": [
    "# TODO: replace with `conda list`\n",
    "# figure_id   = \"<the-figure-i-am-working-on>\"\n",
    "\n",
    "# dev_session_info   <- devtools::session_info()\n",
    "# utils_session_info <- utils::sessionInfo()\n",
    "\n",
    "# message(\"Saving `devtools::session_info()` objects in ../metadata/devtools_session_info.rds  ..\")\n",
    "# saveRDS(dev_session_info, file = paste0(\"../metadata/\", figure_id, \"_devtools_session_info.rds\"))\n",
    "# message(\"Done!\\n\")\n",
    "\n",
    "# message(\"Saving `utils::sessionInfo()` objects in ../metadata/utils_session_info.rds  ..\")\n",
    "# saveRDS(utils_session_info, file = paste0(\"../metadata/\", figure_id ,\"_utils_info.rds\"))\n",
    "# message(\"Done!\\n\")\n",
    "\n",
    "# session_info$platform\n",
    "# session_info$packages[session_info$packages$attached==TRUE, ]"
   ]
  }
 ],
 "metadata": {
  "kernelspec": {
   "display_name": "Python 3",
   "language": "python",
   "name": "python3"
  },
  "language_info": {
   "codemirror_mode": {
    "name": "ipython",
    "version": 3
   },
   "file_extension": ".py",
   "mimetype": "text/x-python",
   "name": "python",
   "nbconvert_exporter": "python",
   "pygments_lexer": "ipython3",
   "version": "3.7.3"
  }
 },
 "nbformat": 4,
 "nbformat_minor": 4
}
