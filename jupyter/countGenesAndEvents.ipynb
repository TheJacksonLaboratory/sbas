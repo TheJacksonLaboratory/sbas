{
 "cells": [
  {
   "cell_type": "markdown",
   "metadata": {},
   "source": [
    "# Analysis Notebook - Count Genes and Events - `CountGenesAndEvents`\n",
    "\n",
    "As instructed by the software, we are using the raw counts as provided by rMATS.  The raw counts we are using in the model are `ijc` and `sjc`, the sample specific raw read counts as they align to the junctions of the `included exon (ijc)` and the junctions of the `excluded or skipped exon (sjc)` respectively.\n",
    "\n",
    "\n",
    "Be sure to set your GITHUB_TOKEN, prior to downloading files\n",
    "\n",
    "One suggestion is change it to your token and then run it then immediately change it back to this:\n",
    "\n",
    "Sys.setenv(GITHUB_TOKEN = \"your-very-own-github-token\")"
   ]
  },
  {
   "cell_type": "code",
   "execution_count": 1,
   "metadata": {},
   "outputs": [],
   "source": [
    "# Sys.setenv(GITHUB_TOKEN=\"your-very-own-github-token\")"
   ]
  },
  {
   "cell_type": "code",
   "execution_count": 2,
   "metadata": {},
   "outputs": [
    {
     "name": "stderr",
     "output_type": "stream",
     "text": [
      "\n",
      "Attaching package: ‘dplyr’\n",
      "\n",
      "\n",
      "The following objects are masked from ‘package:stats’:\n",
      "\n",
      "    filter, lag\n",
      "\n",
      "\n",
      "The following objects are masked from ‘package:base’:\n",
      "\n",
      "    intersect, setdiff, setequal, union\n",
      "\n",
      "\n",
      "Loading required package: BiocGenerics\n",
      "\n",
      "Loading required package: parallel\n",
      "\n",
      "\n",
      "Attaching package: ‘BiocGenerics’\n",
      "\n",
      "\n",
      "The following objects are masked from ‘package:parallel’:\n",
      "\n",
      "    clusterApply, clusterApplyLB, clusterCall, clusterEvalQ,\n",
      "    clusterExport, clusterMap, parApply, parCapply, parLapply,\n",
      "    parLapplyLB, parRapply, parSapply, parSapplyLB\n",
      "\n",
      "\n",
      "The following object is masked from ‘package:limma’:\n",
      "\n",
      "    plotMA\n",
      "\n",
      "\n",
      "The following objects are masked from ‘package:dplyr’:\n",
      "\n",
      "    combine, intersect, setdiff, union\n",
      "\n",
      "\n",
      "The following objects are masked from ‘package:stats’:\n",
      "\n",
      "    IQR, mad, sd, var, xtabs\n",
      "\n",
      "\n",
      "The following objects are masked from ‘package:base’:\n",
      "\n",
      "    anyDuplicated, append, as.data.frame, basename, cbind, colnames,\n",
      "    dirname, do.call, duplicated, eval, evalq, Filter, Find, get, grep,\n",
      "    grepl, intersect, is.unsorted, lapply, Map, mapply, match, mget,\n",
      "    order, paste, pmax, pmax.int, pmin, pmin.int, Position, rank,\n",
      "    rbind, Reduce, rownames, sapply, setdiff, sort, table, tapply,\n",
      "    union, unique, unsplit, which, which.max, which.min\n",
      "\n",
      "\n",
      "Loading required package: Biobase\n",
      "\n",
      "Welcome to Bioconductor\n",
      "\n",
      "    Vignettes contain introductory material; view with\n",
      "    'browseVignettes()'. To cite Bioconductor, see\n",
      "    'citation(\"Biobase\")', and for packages 'citation(\"pkgname\")'.\n",
      "\n",
      "\n",
      "Loading required package: R.oo\n",
      "\n",
      "Warning message:\n",
      "“package ‘R.oo’ was built under R version 3.6.3”\n",
      "Loading required package: R.methodsS3\n",
      "\n",
      "Warning message:\n",
      "“package ‘R.methodsS3’ was built under R version 3.6.3”\n",
      "R.methodsS3 v1.8.0 (2020-02-14 07:10:20 UTC) successfully loaded. See ?R.methodsS3 for help.\n",
      "\n",
      "R.oo v1.23.0 successfully loaded. See ?R.oo for help.\n",
      "\n",
      "\n",
      "Attaching package: ‘R.oo’\n",
      "\n",
      "\n",
      "The following object is masked from ‘package:R.methodsS3’:\n",
      "\n",
      "    throw\n",
      "\n",
      "\n",
      "The following objects are masked from ‘package:methods’:\n",
      "\n",
      "    getClasses, getMethods\n",
      "\n",
      "\n",
      "The following objects are masked from ‘package:base’:\n",
      "\n",
      "    attach, detach, load, save\n",
      "\n",
      "\n",
      "R.utils v2.9.2 successfully loaded. See ?R.utils for help.\n",
      "\n",
      "\n",
      "Attaching package: ‘R.utils’\n",
      "\n",
      "\n",
      "The following object is masked from ‘package:utils’:\n",
      "\n",
      "    timestamp\n",
      "\n",
      "\n",
      "The following objects are masked from ‘package:base’:\n",
      "\n",
      "    cat, commandArgs, getOption, inherits, isOpen, nullfile, parse,\n",
      "    warnings\n",
      "\n",
      "\n"
     ]
    }
   ],
   "source": [
    "library(dplyr)\n",
    "library(ggplot2)\n",
    "library(limma)\n",
    "library(piggyback)\n",
    "library(multtest)\n",
    "library(Biobase)\n",
    "library(edgeR)\n",
    "library(tibble)\n",
    "#install.packages('R.utils')\n",
    "library(R.utils)"
   ]
  },
  {
   "cell_type": "markdown",
   "metadata": {},
   "source": [
    "## Download all the rMATS results\n",
    "\n",
    "Each of the alternative splicing output files are downloaded here:"
   ]
  },
  {
   "cell_type": "code",
   "execution_count": 3,
   "metadata": {},
   "outputs": [],
   "source": [
    "#\n",
    "# refined results (FC > 1.5 and pVal < 0.05)\n",
    "# for the sex*as_event coefficient result for the linear model\n",
    "#\n",
    "significant_results_dir = \"../data/\"\n",
    "pattern = \"DGE_sex_as_events_refined.csv\"\n",
    "files <- list.files(path = significant_results_dir, pattern = pattern)\n",
    "as_types <- c(\"a3ss\", \"a5ss\", \"mxe\", \"ri\", \"se\")"
   ]
  },
  {
   "cell_type": "code",
   "execution_count": 4,
   "metadata": {},
   "outputs": [
    {
     "name": "stderr",
     "output_type": "stream",
     "text": [
      "Warning message in file(file, \"rt\"):\n",
      "“cannot open file '../data/fromGTF.A3SS.txt': No such file or directory”\n"
     ]
    },
    {
     "ename": "ERROR",
     "evalue": "Error in file(file, \"rt\"): cannot open the connection\n",
     "output_type": "error",
     "traceback": [
      "Error in file(file, \"rt\"): cannot open the connection\nTraceback:\n",
      "1. read.table(file = \"../data/fromGTF.A3SS.txt\", sep = \"\\t\", quote = \"\\\"\", \n .     header = T, stringsAsFactors = F)",
      "2. file(file, \"rt\")"
     ]
    }
   ],
   "source": [
    "a3ss_annot <- read.table(file = \"../data/fromGTF.A3SS.txt\", sep = \"\\t\", quote = \"\\\"\", header = T, stringsAsFactors = F)\n",
    "a5ss_annot <- read.table(file = \"../data/fromGTF.A5SS.txt\", sep = \"\\t\", quote = \"\\\"\", header = T, stringsAsFactors = F)\n",
    "mxe_annot <- read.table(file = \"../data/fromGTF.MXE.txt\", sep = \"\\t\", quote = \"\\\"\", header = T, stringsAsFactors = F)\n",
    "ri_annot <- read.table(file = \"../data/fromGTF.RI.txt\", sep = \"\\t\", quote = \"\\\"\", header = T, stringsAsFactors = F)\n",
    "se_annot <- read.table(file = \"../data/fromGTF.SE.txt\", sep = \"\\t\", quote = \"\\\"\", header = T, stringsAsFactors = F)"
   ]
  },
  {
   "cell_type": "code",
   "execution_count": null,
   "metadata": {},
   "outputs": [],
   "source": [
    "message (\"\\nReading significant events for each splicing factor\\n\")\n",
    "gene_as = data.frame()\n",
    "counts <- rep(NA, length(files))\n",
    "ASE <- rep(\"NA\", length(files))\n",
    "Tissue <- rep(\"NA\", length(files))\n",
    "\n",
    "for (i in 1:length(files)) {\n",
    "    lines <- read.csv(paste0(significant_results_dir, files[i]),header = TRUE)\n",
    "    event     <- as.vector(as.character(rownames(lines)))\n",
    "    tissue <- gsub(\"_DGE_sex_as_events_refined.csv\",\"\", files[i], fixed = TRUE)\n",
    "\n",
    "    counts[i] <- dim(lines)[1]\n",
    "    \n",
    "    if (dim(lines)[1] > 0) { #has significant events\n",
    "        # rownames of the significant results file are a combination of gene-symbol and junction name\n",
    "        # using a regular expression - extract the last numbers that then are the index to the annotation table\n",
    "        event_idx <- substring(event, regexpr(\"[0-9]+$\", event))\n",
    "        \n",
    "        if (grepl(\"a3ss_\", files[i])) {\n",
    "            tissue <- gsub(\"a3ss_\",\"\", tissue, fixed = TRUE)\n",
    "            ASE[i] <- \"A3SS\"\n",
    "            Tissue[i] <- tissue\n",
    "            idx <- match(event_idx, a3ss_annot$ID)\n",
    "            res <- data.frame(GeneJunction = event,\n",
    "                              ASE = \"A3SS\", \n",
    "                              ASE_IDX = idx,\n",
    "                              Tissue = tissue, \n",
    "                              GeneSymbol = a3ss_annot$geneSymbol[idx],\n",
    "                              chr = a3ss_annot$chr[idx])\n",
    "        }\n",
    "        if (grepl(\"a5ss_\", files[i])) {\n",
    "            tissue <- gsub(\"a5ss_\",\"\", tissue, fixed = TRUE)\n",
    "            ASE[i] <- \"A5SS\"\n",
    "            Tissue[i] <- tissue\n",
    "            idx <- match(event_idx, a5ss_annot$ID)\n",
    "            res <- data.frame(GeneJunction = event,\n",
    "                              ASE = \"A5SS\", \n",
    "                              ASE_IDX = idx,\n",
    "                              Tissue = tissue, \n",
    "                              GeneSymbol = a5ss_annot$geneSymbol[idx],\n",
    "                              chr = a5ss_annot$chr[idx])\n",
    "        }\n",
    "        if (grepl(\"mxe_\", files[i])) {\n",
    "            ASE[i] <- \"MXE\"\n",
    "            tissue <- gsub(\"mxe_\",\"\", tissue, fixed = TRUE)\n",
    "            Tissue[i] <- tissue\n",
    "            idx <- match(event_idx, a3ss_annot$ID)\n",
    "            res <- data.frame(GeneJunction = event,\n",
    "                              ASE = \"MXE\", \n",
    "                              ASE_IDX = idx,\n",
    "                              Tissue = tissue, \n",
    "                              GeneSymbol = mxe_annot$geneSymbol[idx],\n",
    "                              chr = mxe_annot$chr[idx])\n",
    "        }\n",
    "        if (grepl(\"se_\", files[i])) {\n",
    "            ASE[i] <- \"SE\"\n",
    "            tissue <- gsub(\"se_\",\"\", tissue, fixed = TRUE)\n",
    "            Tissue[i] <- tissue\n",
    "            idx <- match(event_idx, se_annot$ID)\n",
    "            res <- data.frame(GeneJunction = event,\n",
    "                              ASE = \"SE\", \n",
    "                              ASE_IDX = idx,\n",
    "                              Tissue = tissue, \n",
    "                              GeneSymbol = se_annot$geneSymbol[idx],\n",
    "                              chr = se_annot$chr[idx])\n",
    "        }\n",
    "        if (grepl(\"ri_\", files[i])){\n",
    "            ASE[i] <- \"RI\"\n",
    "            tissue <- gsub(\"ri_\",\"\", tissue, fixed = TRUE)\n",
    "            Tissue[i] <- tissue\n",
    "            idx <- match(event_idx, ri_annot$ID)\n",
    "            res <- data.frame(GeneJunction = event,\n",
    "                              ASE = \"RI\", \n",
    "                              ASE_IDX = idx,\n",
    "                              Tissue = tissue, \n",
    "                              GeneSymbol = ri_annot$geneSymbol[idx],\n",
    "                              chr = a3ss_annot$chr[idx])\n",
    "        }\n",
    "        gene_as <- rbind(gene_as, res)\n",
    "        \n",
    "    } #if has sig. events\n",
    "    \n",
    "} #for all files    \n",
    "message (\"\\nDone reading significant events!\\n\")"
   ]
  },
  {
   "cell_type": "markdown",
   "metadata": {},
   "source": [
    "### Glimpse into what we have"
   ]
  },
  {
   "cell_type": "code",
   "execution_count": null,
   "metadata": {},
   "outputs": [],
   "source": [
    "glimpse(gene_as)\n",
    "table(is.na(gene_as$Tissue))\n",
    "colnames(gene_as)\n",
    "write.table(gene_as, \"../data/gene_as.tsv\", quote=FALSE, sep=\"\\t\")\n",
    "head(gene_as)"
   ]
  },
  {
   "cell_type": "markdown",
   "metadata": {},
   "source": [
    "### Count splicing event by chromosome"
   ]
  },
  {
   "cell_type": "code",
   "execution_count": null,
   "metadata": {},
   "outputs": [],
   "source": [
    "res <- gene_as          %>% \n",
    "       group_by(chr)    %>% \n",
    "       count(chr)       %>% \n",
    "       arrange(desc(n)) %>% \n",
    "       as.data.frame()\n",
    "res$chr <- factor(res$chr, levels = res$chr)\n",
    "length(res$chr)\n",
    "res\n",
    "glimpse(res)\n",
    "write.table(res, file= \"../data/Totals_by_chr.tsv\", sep=\"\\t\", quote = FALSE, row.names=F)"
   ]
  },
  {
   "cell_type": "markdown",
   "metadata": {},
   "source": [
    "###  Count most frequent spliced genes "
   ]
  },
  {
   "cell_type": "code",
   "execution_count": null,
   "metadata": {},
   "outputs": [],
   "source": [
    "res <- gene_as %>% \n",
    "       group_by(GeneSymbol) %>% count(GeneSymbol) %>% arrange(desc(n)) %>% as.data.frame()\n",
    "res$GeneSymbol <- factor(res$GeneSymbol, levels = res$GeneSymbol)\n",
    "length(res$GeneSymbol)\n",
    "head(res)\n",
    "write.table(res, file = \"../data/Totals_by_geneSymbol.tsv\", sep = \"\\t\", quote=FALSE, row.names = F)"
   ]
  },
  {
   "cell_type": "code",
   "execution_count": null,
   "metadata": {},
   "outputs": [],
   "source": []
  },
  {
   "cell_type": "markdown",
   "metadata": {},
   "source": []
  },
  {
   "cell_type": "markdown",
   "metadata": {},
   "source": [
    "### Count most frequent splicing by tissue"
   ]
  },
  {
   "cell_type": "code",
   "execution_count": null,
   "metadata": {},
   "outputs": [],
   "source": [
    "res <- gene_as %>% \n",
    "       group_by(Tissue) %>% \n",
    "       count(Tissue) %>% \n",
    "       arrange(desc(n)) %>% \n",
    "       as.data.frame()\n",
    "res$Tissue <- factor(res$Tissue, levels = res$Tissue)\n",
    "length(res$Tissue)\n",
    "res\n",
    "write.table(res, file = \"../data/Totals_by_tissue.tsv\", sep = \"\\t\", row.names = F)"
   ]
  },
  {
   "cell_type": "markdown",
   "metadata": {},
   "source": [
    "###  Significant Count by splicing type (significant == FC > 1.5 and pVal < 0.05)\n",
    "\n",
    "Our starting values were the significant events, all meeting the criteria FC > 1.5 and pVal < 0.05\n"
   ]
  },
  {
   "cell_type": "code",
   "execution_count": null,
   "metadata": {},
   "outputs": [],
   "source": [
    "res <- gene_as %>% group_by(ASE) %>% count(ASE) %>% arrange(desc(n)) %>% as.data.frame()\n",
    "res$ASE <- factor(res$ASE, levels = res$ASE)\n",
    "head(res)\n",
    "write.table(res, file= \"../data/Totals_by_splicingtype.tsv\")"
   ]
  },
  {
   "cell_type": "markdown",
   "metadata": {},
   "source": [
    "###  Significant Count by splicing type (significant == FC > 1.5 and pVal < 0.05)"
   ]
  },
  {
   "cell_type": "code",
   "execution_count": null,
   "metadata": {},
   "outputs": [],
   "source": [
    "A3SS_keep <- as.character(gene_as$ASE) %in% \"A3SS\"\n",
    "table(A3SS_keep)\n",
    "A3SS.gene_as <- data.frame(A3SS.gene_as[A3SS_keep == TRUE,])\n",
    "\n",
    "A5SS_keep <- as.character(gene_as$ASE) %in% \"A5SS\"\n",
    "table(A5SS_keep)\n",
    "A5SS.gene_as <- data.frame(A5SS.gene_as[A5SS_keep == TRUE,])\n",
    "\n",
    "MXE_keep  <- as.character(gene_as$ASE) %in% \"MXE\"\n",
    "table(MXE_keep)\n",
    "MXE.gene_as <- data.frame(MXE.gene_as[MXE_keep == TRUE,])\n",
    "\n",
    "SE_keep   <- as.character(gene_as$ASE) %in% \"SE\"\n",
    "table(SE_keep)\n",
    "SE.gene_as <- data.frame(SE.gene_as[SE_keep == TRUE,])\n",
    "\n",
    "RI_keep   <- as.character(gene_as$ASE) %in% \"RI\"\n",
    "table(RI_keep)\n",
    "RI.gene_as <- data.frame(RI.gene_as[RI_keep == TRUE,])\n",
    "\n",
    "dim(A3SS.gene_as)\n",
    "dim(A5SS.gene_as)\n",
    "dim(MXE.gene_as)\n",
    "dim(SE.gene_as)\n",
    "dim(RI.gene_as)\n"
   ]
  },
  {
   "cell_type": "code",
   "execution_count": null,
   "metadata": {},
   "outputs": [],
   "source": [
    "A3SS.res <- A3SS.gene_as %>% group_by(GeneSymbol) %>% count(GeneSymbol) %>% arrange(desc(n)) %>% as.data.frame()\n",
    "A3SS.res$GeneSymbol <- factor(A3SS.res$GeneSymbol, levels = A3SS.res$GeneSymbol)\n",
    "length(res$GeneSymbol)\n",
    "head(res)\n",
    "\n",
    "#A3SS.res <- A3SS.gene_as %>% group_by(GeneSymbol) %>% count(GeneSymbol) %>% arrange(desc(n)) %>% as.data.frame()\n",
    "#A3SS.res$GeneSymbol <- factor(A3SS.res$GeneSymbol, levels = A3SS.res$GeneSymbol)\n",
    "head(A3SS.res)"
   ]
  },
  {
   "cell_type": "code",
   "execution_count": null,
   "metadata": {},
   "outputs": [],
   "source": [
    "glimpse(data)\n",
    "\n",
    "res2 <- data             %>% \n",
    "        group_by(Tissue) %>% \n",
    "        summarise(Total = sum(Counts)) %>% \n",
    "        arrange(desc(Total)) %>% as.data.frame()\n",
    "glimpse(res2)"
   ]
  },
  {
   "cell_type": "code",
   "execution_count": null,
   "metadata": {},
   "outputs": [],
   "source": [
    "#Add number of tissues\n",
    "nTissues <- rep(NA, length(res))\n",
    "for (i in 1:nrow(res)) {\n",
    "  df_gene <- gene_as %>% filter(GeneSymbol == res$GeneSymbol[i])\n",
    "  nTissues[i] <- length(unique(df_gene$Tissue))\n",
    "}\n",
    "res$Tissues <- nTissues"
   ]
  },
  {
   "cell_type": "code",
   "execution_count": null,
   "metadata": {},
   "outputs": [],
   "source": [
    "# Genes with more than 10 splicing events\n",
    "ggplot(res[res$n > 10, ], aes(x = GeneSymbol, y = n)) +\n",
    "  geom_point(size = 4, aes(fill = Tissues, color = Tissues)) +\n",
    "  theme_bw() +\n",
    "  theme(axis.text.x = element_text(size=10, angle = 270, hjust = 0.0, vjust = 0.5),\n",
    "        axis.text.y = element_text(size=16),\n",
    "        axis.title.x = element_text(face=\"plain\", colour=\"black\", \n",
    "                                    size=14),\n",
    "        axis.title.y = element_text(face=\"plain\", colour=\"black\", \n",
    "                                    size=14),\n",
    "        legend.title=element_blank(),\n",
    "        legend.text = element_text(face=\"plain\", colour=\"black\", \n",
    "                                   size=12)) +\n",
    "  scale_fill_viridis_c(aesthetics = c(\"colour\", \"fill\"),\n",
    "                       option = \"plasma\",\n",
    "                       limits = c(1, 30), breaks = c(10, 20, 30)) +\n",
    "  ylab(paste(\"Number of sex-biased splicing events\")) +\n",
    "  xlab(\"Genes\")"
   ]
  },
  {
   "cell_type": "markdown",
   "metadata": {},
   "source": [
    "Pie chart"
   ]
  },
  {
   "cell_type": "markdown",
   "metadata": {},
   "source": [
    "Tissue specific 1 tissue\n",
    "Tissue group 2-5 tissues\n",
    "Recurrent > 5 tissues"
   ]
  },
  {
   "cell_type": "code",
   "execution_count": null,
   "metadata": {},
   "outputs": [],
   "source": [
    "#Pie chart - Number of patients with 0, 1, >1 events\n",
    "counts <- c(res %>% filter(Tissues == 1) %>% count() %>% as.numeric(),\n",
    "            res %>% filter(Tissues > 1 & Tissues < 5) %>% count() %>% as.numeric(),\n",
    "            res %>% filter(Tissues > 5) %>% count() %>% as.numeric())"
   ]
  },
  {
   "cell_type": "code",
   "execution_count": null,
   "metadata": {},
   "outputs": [],
   "source": [
    "# Define some colors ideal for black & white print\n",
    "colors <- c(\"white\",\"grey70\",\"grey90\",\"grey50\",\"black\")\n",
    "colors <- c(\"grey90\",\"grey50\", \"black\")"
   ]
  },
  {
   "cell_type": "markdown",
   "metadata": {},
   "source": [
    "Calculate the percentage for each category"
   ]
  },
  {
   "cell_type": "code",
   "execution_count": null,
   "metadata": {
    "lines_to_next_cell": 2
   },
   "outputs": [],
   "source": [
    "counts_labels <- round(counts/sum(counts) * 100, 1)\n",
    "counts_labels <- paste(counts_labels, \"%\", sep=\"\")\n",
    "counts_labels <- paste(counts_labels, counts, sep =\" \")"
   ]
  },
  {
   "cell_type": "code",
   "execution_count": null,
   "metadata": {},
   "outputs": [],
   "source": [
    "# Create a pie chart with defined heading and custom colors\n",
    "# and labels\n",
    "pie(counts, main=\"\", col=colors, labels=counts_labels,\n",
    "    cex=1.2)\n",
    "# Create a legend at the right   \n",
    "legend(1.5, 0.5, c(\"1 tissue\",\"2-5 tissues\",\"> 5 tissues\"), cex=1.2, \n",
    "       fill=colors)"
   ]
  },
  {
   "cell_type": "markdown",
   "metadata": {},
   "source": [
    "### Count most frequent spliced chromosomes\n",
    "To get an indication of which chromosome has the most frequent slicing event (regardless of type)\n",
    "We create an index based upon the number of exons per chromosome.\n",
    "\n",
    "get the annotation file, at this writing, gencode.v30.annotation.gtf\n",
    "The information as to the number of exons within the chromosome may be found there"
   ]
  },
  {
   "cell_type": "code",
   "execution_count": null,
   "metadata": {},
   "outputs": [],
   "source": [
    "message(\"getting the annotation file used in the analysis\\n\")\n",
    "setwd(\"../data\")\n",
    "system(\"wget ftp://ftp.ebi.ac.uk/pub/databases/gencode/Gencode_human/release_30/gencode.v30.annotation.gtf.gz\")\n",
    "system(\"gunzip gencode.v30.annotation.gtf.gz\")\n",
    "setwd(\"../jupyter\")\n",
    "message(\"done\\n\")"
   ]
  },
  {
   "cell_type": "markdown",
   "metadata": {},
   "source": [
    "Import the gencode annotation file and extract the exon information"
   ]
  },
  {
   "cell_type": "code",
   "execution_count": null,
   "metadata": {},
   "outputs": [],
   "source": [
    "# Number of splicing events normalized per chromosome\n",
    "library(rtracklayer)\n",
    "gencode <- import.gff(\"../data/gencode.v30.annotation.gtf\")\n",
    "exons <- gencode[ gencode$type == \"exon\", ]\n",
    "exons <- as.data.frame(exons)"
   ]
  },
  {
   "cell_type": "markdown",
   "metadata": {},
   "source": [
    "Obtain chromosomes we have splicing information for (recall we did not use chr Y in our analysis"
   ]
  },
  {
   "cell_type": "code",
   "execution_count": null,
   "metadata": {},
   "outputs": [],
   "source": [
    "all_chr <- as.character(unique(gene_as$chr))\n",
    "chr_counts <- rep(0, length(all_chr))\n",
    "exon_counts <- data.frame(chr = all_chr, counts = chr_counts)"
   ]
  },
  {
   "cell_type": "markdown",
   "metadata": {},
   "source": []
  },
  {
   "cell_type": "code",
   "execution_count": null,
   "metadata": {},
   "outputs": [],
   "source": [
    "for (i in 1:length(all_chr)) {\n",
    "  chr_counts[i] <- nrow(exons[exons$seqnames == all_chr[i], ])\n",
    "}\n",
    "glimpse (chr_counts)"
   ]
  },
  {
   "cell_type": "code",
   "execution_count": null,
   "metadata": {},
   "outputs": [],
   "source": [
    "res <- gene_as %>% group_by(chr) %>% count(chr) %>% arrange(desc(n)) %>% as.data.frame()\n",
    "glimpse(res)\n",
    "res$chr <- factor(res$chr, levels = res$chr)\n",
    "idx <- match(res$chr, exon_counts$chr)\n",
    "res$ExonCounts <- exon_counts$counts[idx]\n",
    "res$Index <- res$n / res$ExonCounts) * 1000\n",
    "res_sorted <- res %>% arrange(desc(Index))"
   ]
  },
  {
   "cell_type": "code",
   "execution_count": null,
   "metadata": {},
   "outputs": [],
   "source": []
  },
  {
   "cell_type": "code",
   "execution_count": null,
   "metadata": {},
   "outputs": [],
   "source": []
  },
  {
   "cell_type": "code",
   "execution_count": null,
   "metadata": {},
   "outputs": [],
   "source": [
    "idx <- match(res$chr, exon_counts$chr)"
   ]
  },
  {
   "cell_type": "code",
   "execution_count": null,
   "metadata": {},
   "outputs": [],
   "source": [
    "res$ExonCounts <- exon_counts$counts[idx]"
   ]
  },
  {
   "cell_type": "code",
   "execution_count": null,
   "metadata": {},
   "outputs": [],
   "source": [
    "res$Index <- (res$n / res$ExonCounts) * 1000"
   ]
  },
  {
   "cell_type": "code",
   "execution_count": null,
   "metadata": {},
   "outputs": [],
   "source": [
    "res_sorted <- res %>% arrange(desc(Index))\n",
    "res_sorted$chr <- factor(res_sorted$chr, levels = res_sorted$chr)"
   ]
  },
  {
   "cell_type": "code",
   "execution_count": null,
   "metadata": {},
   "outputs": [],
   "source": [
    "ggplot(res_sorted, aes(x = chr, y = Index, size = n)) +\n",
    "  geom_point(color = \"red\") +\n",
    "  theme_bw() +\n",
    "  theme(axis.text.x = element_text(size=10, angle = 270, hjust = 0.0, vjust = 0.5),\n",
    "        axis.text.y = element_text(size=16),\n",
    "        axis.title.x = element_text(face=\"plain\", colour=\"black\", \n",
    "                                    size=14),\n",
    "        axis.title.y = element_text(face=\"plain\", colour=\"black\", \n",
    "                                    size=14),\n",
    "        legend.title=element_blank(),\n",
    "        legend.text = element_text(face=\"plain\", colour=\"black\", \n",
    "                                   size=12)) +\n",
    "  scale_fill_viridis_c(aesthetics = c(\"colour\", \"fill\"),\n",
    "                       option = \"plasma\",\n",
    "                       limits = c(1, 650)) +\n",
    "  ylab(paste(\"Normalized Number of sex-biased ASE\")) +\n",
    "  xlab(\"Chromosomes\") +\n",
    "  guides(size = guide_legend(title = \"Number of ASE\"))"
   ]
  },
  {
   "cell_type": "code",
   "execution_count": null,
   "metadata": {},
   "outputs": [],
   "source": [
    "write.table(data,       file = \"../data/Significant_events.tsv\", sep = \"\\t\", row.names = F, quote = F)\n",
    "write.table(res_sorted, file = \"../data/SplicingIndex_chr.tsv\", sep = \"\\t\", quote = F, row.names = F)"
   ]
  },
  {
   "cell_type": "markdown",
   "metadata": {},
   "source": [
    "## Metadata\n",
    "\n",
    "For replicability and reproducibility purposes, we also print the following metadata:\n",
    "\n",
    "1. Checksums of **'artefacts'**, files generated during the analysis and stored in the folder directory **`data`**\n",
    "2. List of environment metadata, dependencies, versions of libraries using `utils::sessionInfo()` and [`devtools::session_info()`](https://devtools.r-lib.org/reference/session_info.html)"
   ]
  },
  {
   "cell_type": "markdown",
   "metadata": {},
   "source": [
    "### 1. Checksums with the sha256 algorithm"
   ]
  },
  {
   "cell_type": "code",
   "execution_count": null,
   "metadata": {},
   "outputs": [],
   "source": [
    "rm (notebookid)\n",
    "notebookid   = \"countGenesAndEvents\"\n",
    "notebookid\n",
    "\n",
    "message(\"Generating sha256 checksums of the file `../data/Totals_by_tissue.tsv` directory .. \")\n",
    "system(paste0(\"cd ../data && find . -name SplicingIndex_chr.tsv -exec sha256sum {} \\\\;  >  ../metadata/\", notebookid, \"_sha256sums.txt\"), intern = TRUE)\n",
    "message(\"Done!\\n\")\n",
    "\n",
    "message(\"Generating sha256 checksums of the file `../data/Significant_events.tsv` directory .. \")\n",
    "system(paste0(\"cd ../data && find . -name SplicingIndex_chr.tsv -exec sha256sum {} \\\\;  >  ../metadata/\", notebookid, \"_sha256sums.txt\"), intern = TRUE)\n",
    "message(\"Done!\\n\")\n",
    "\n",
    "message(\"Generating sha256 checksums of the file `../data/Significant_events.tsv` directory .. \")\n",
    "system(paste0(\"cd ../data && find . -name SplicingIndex_chr.tsv -exec sha256sum {} \\\\;  >  ../metadata/\", notebookid, \"_sha256sums.txt\"), intern = TRUE)\n",
    "message(\"Done!\\n\")\n",
    "\n",
    "\n",
    "paste0(\"../metadata/\", notebookid, \"_sha256sums.txt\")\n",
    "\n",
    "data.table::fread(paste0(\"../metadata/\", notebookid, \"_sha256sums.txt\"), header = FALSE, col.names = c(\"sha256sum\", \"file\"))"
   ]
  },
  {
   "cell_type": "markdown",
   "metadata": {},
   "source": [
    "### 2. Libraries metadata"
   ]
  },
  {
   "cell_type": "code",
   "execution_count": null,
   "metadata": {},
   "outputs": [],
   "source": [
    "dev_session_info   <- devtools::session_info()\n",
    "utils_session_info <- utils::sessionInfo()\n",
    "\n",
    "message(\"Saving `devtools::session_info()` objects in ../metadata/devtools_session_info.rds  ..\")\n",
    "saveRDS(dev_session_info, file = paste0(\"../metadata/\", notebookid, \"_devtools_session_info.rds\"))\n",
    "message(\"Done!\\n\")\n",
    "\n",
    "message(\"Saving `utils::sessionInfo()` objects in ../metadata/utils_session_info.rds  ..\")\n",
    "saveRDS(utils_session_info, file = paste0(\"../metadata/\", notebookid ,\"_utils_info.rds\"))\n",
    "message(\"Done!\\n\")\n",
    "\n",
    "dev_session_info$platform\n",
    "dev_session_info$packages[dev_session_info$packages$attached==TRUE, ]"
   ]
  },
  {
   "cell_type": "code",
   "execution_count": null,
   "metadata": {},
   "outputs": [],
   "source": []
  }
 ],
 "metadata": {
  "jupytext": {
   "cell_metadata_filter": "-all",
   "main_language": "R",
   "notebook_metadata_filter": "-all"
  },
  "kernelspec": {
   "display_name": "R",
   "language": "R",
   "name": "ir"
  },
  "language_info": {
   "codemirror_mode": "r",
   "file_extension": ".r",
   "mimetype": "text/x-r-source",
   "name": "R",
   "pygments_lexer": "r",
   "version": "3.6.1"
  }
 },
 "nbformat": 4,
 "nbformat_minor": 4
}
