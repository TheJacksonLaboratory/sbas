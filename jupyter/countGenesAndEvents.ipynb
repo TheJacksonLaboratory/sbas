{
 "cells": [
  {
   "cell_type": "markdown",
   "metadata": {},
   "source": [
    "# Analysis Notebook - Count Genes and Events\n",
    "\n",
    "This notebook processes the raw counts as provided by rMATS and performs some descriptive statistical analysis. It is used to produce the following outputs. \n",
    "\n",
    "## Data files created by this notebook\n",
    "Output text files are written to the ``data/`` directory (at the same level as the ``jupyter`` directory). \n",
    "\n",
    "1. **gene_as.tsv**: Alternative splicing events per gene, adjusted p-value <= 0.05, fold change >= 1.5.\n",
    "2. **all_gene_as.tsv**: all alternative splicing events\n",
    "3. **gene_dge.tsv**: Differential gene expression, adjusted p-value <= 0.05, fold change >= 1.5\n",
    "4. **genesWithCommonAS.tsv**: genes (as geneSymbol, the number of splicing events, and the number of tissues the event occurs in)\n",
    "5. **Total_AS_by_chr.tsv**: Total alternative splicing events per chromosome\n",
    "6. **Total_AS_by_geneSymbol.tsv**: Count the number of tissues in which specific genes show significant alternative splicing\n",
    "7. **DGE_by_geneSymbol.tsv***: Most highly expressed genes by tissue\n",
    "5. **Total_AS_by_tissue.tsv**: Count the number of significant splicing events per tissue\n",
    "6. **Total_AS_by_splicingtype.tsv**: Count number of significant splicing events for each of the 5' alternative splicing categories\n",
    "7. **SplicingIndex_chr.tsv**: Splicing index by chr (number of sigificant AS events per 1000 exons)"
   ]
  },
  {
   "cell_type": "code",
   "execution_count": null,
   "metadata": {},
   "outputs": [],
   "source": [
    "suppressMessages({\n",
    "    options(warn = -1) \n",
    "    library(dplyr)\n",
    "    library(ggplot2)\n",
    "    library(limma)\n",
    "    library(multtest)\n",
    "    library(Biobase)\n",
    "    library(edgeR)\n",
    "    library(tibble)\n",
    "    library(R.utils)\n",
    "    library(rtracklayer)\n",
    "})"
   ]
  },
  {
   "cell_type": "markdown",
   "metadata": {},
   "source": [
    "## 1. Download all the rMATS results\n",
    "\n",
    "Each of the alternative splicing output files are downloaded here:"
   ]
  },
  {
   "cell_type": "markdown",
   "metadata": {},
   "source": [
    "### 1.1 get released rMATS GTF annotations\n",
    "\n",
    "For each splicing type, the junctions are defined, so we have 5 specific annotated splicing specific junction ID annotation files:\n",
    "\n",
    "1. **fromGTF.A3SS.txt**: annotations for the alternative 3' splice site junctions\n",
    "2. **fromGTF.A5SS.txt**: annotations for the alternative 5' splice site junctions\n",
    "3. **fromGTF.MXE.txt**: annotations for the mutually exclusive exon junctions\n",
    "4. **fromGTF.RI.txt**: annotations for the retained introns junctions\n",
    "5. **fromGTF.SE.txt**: annotations for the skipped exon junctions"
   ]
  },
  {
   "cell_type": "markdown",
   "metadata": {},
   "source": [
    "### 1.2 Unpack the data.tar file if necessary\n",
    "To run this script, we need to import three compressed files and unpack them.\n",
    "\n",
    "| file | sha256 | filename  |\n",
    "|------|------  |-----------|\n",
    "|  1   | b0c4bb23b96d77aba7e731fa2a15dc74a34daf490312478aca94443f9a6d4e90 | results/data_as_dge.tar.gz |\n",
    "|  2   | a0c2c5a7d7cfa0a89c8a39e2f7a4c6c3ac8c6a860f721077c087614505d869cf | rmats_and_annotation.tar.gz |\n"
   ]
  },
  {
   "cell_type": "code",
   "execution_count": 2,
   "metadata": {},
   "outputs": [
    {
     "data": {
      "text/html": [],
      "text/latex": [],
      "text/markdown": [],
      "text/plain": [
       "character(0)"
      ]
     },
     "metadata": {},
     "output_type": "display_data"
    },
    {
     "data": {
      "text/html": [],
      "text/latex": [],
      "text/markdown": [],
      "text/plain": [
       "character(0)"
      ]
     },
     "metadata": {},
     "output_type": "display_data"
    }
   ],
   "source": [
    "data_as_dge_file_dir <- list.files(\"../../mounted-data\", pattern='data_as_dge.tar.gz')\n",
    "data_as_dge_file_dir\n",
    "rmats_and_annotation_dir <- list.files(\"../../mounted-data\", pattern='rmats_and_annotation.tar.gz')\n",
    "rmats_and_annotation_dir"
   ]
  },
  {
   "cell_type": "code",
   "execution_count": 3,
   "metadata": {},
   "outputs": [
    {
     "name": "stderr",
     "output_type": "stream",
     "text": [
      "In order to unpack the necessary files, execute the following commands on the shell.\n",
      "\n",
      "data_as_dge.tar.gz\n",
      "\n",
      "tar xvfz  ../../mounted-data//robinson-bucket/notebooks/data_as_dge.tar.gz -C ../data\n",
      "\n",
      "checking sha256sum\n",
      "\n",
      "sha256sum ../../mounted-data//robinson-bucket/notebooks/data_as_dge.tar.gz\n",
      "\n",
      "In order to unpack the necessary files, execute the following commands on the shell.\n",
      "\n",
      "rmats_and_annotation.tar.gz\n",
      "\n",
      "tar xvfz  ../../mounted-data//robinson-bucket/notebooks/rmats_and_annotation.tar.gz -C ../data\n",
      "\n",
      "checking sha256sum\n",
      "\n",
      "sha256sum ../../mounted-data//robinson-bucket/notebooks/rmats_and_annotation.tar.gz\n",
      "\n"
     ]
    }
   ],
   "source": [
    "data_as_dge_file_dir <- list.files(\"../../mounted-data\", pattern='data_as_dge.tar.gz')\n",
    "data_as_dge_file <- paste(\"../../mounted-data\", data_as_dge_file_dir, 'robinson-bucket/notebooks/data_as_dge', sep='/')\n",
    "data_as_dge_file_tar_gz <- paste(data_as_dge_file, '.tar.gz', sep='')\n",
    "message(\"In order to unpack the necessary files, execute the following commands on the shell.\")\n",
    "message(\"data_as_dge.tar.gz\")\n",
    "mycommand = paste(\"tar xvfz \",data_as_dge_file_tar_gz, \"-C ../data\", sep=\" \")\n",
    "message(mycommand)\n",
    "system(mycommand)\n",
    "message(\"checking sha256sum\")\n",
    "mycommand = paste(\"sha256sum\", data_as_dge_file_tar_gz, sep = \" \")\n",
    "message(mycommand)\n",
    "system(mycommand)\n",
    "rmats_annot_file_dir <- list.files(\"../../mounted-data\", pattern='rmats_and_annotation.tar.gz')\n",
    "rmats_annot_file <- paste(\"../../mounted-data\", rmats_annot_file_dir, 'robinson-bucket/notebooks/rmats_and_annotation', sep='/')\n",
    "rmats_annot_file_tar_gz <- paste(rmats_annot_file, '.tar.gz', sep='')\n",
    "message(\"In order to unpack the necessary files, execute the following commands on the shell.\")\n",
    "message(\"rmats_and_annotation.tar.gz\")\n",
    "mycommand = paste(\"tar xvfz \",rmats_annot_file_tar_gz, \"-C ../data\", sep=\" \")\n",
    "message(mycommand)\n",
    "system(mycommand)\n",
    "message(\"checking sha256sum\")\n",
    "mycommand = paste(\"sha256sum\", rmats_annot_file_tar_gz, sep = \" \")\n",
    "message(mycommand)\n",
    "system(mycommand)"
   ]
  },
  {
   "cell_type": "code",
   "execution_count": 4,
   "metadata": {},
   "outputs": [
    {
     "name": "stderr",
     "output_type": "stream",
     "text": [
      "Decompressing fromGTF.tar.gz into ../data\n",
      "\n",
      "Warning message in system(\"mkdir -p ../data && tar xvfz ../data/fromGTF.tar.gz -C ../data\", :\n",
      "“running command 'mkdir -p ../data && tar xvfz ../data/fromGTF.tar.gz -C ../data' had status 2”\n"
     ]
    },
    {
     "data": {
      "text/html": [],
      "text/latex": [],
      "text/markdown": [],
      "text/plain": [
       "character(0)\n",
       "attr(,\"status\")\n",
       "[1] 2\n",
       "attr(,\"errmsg\")\n",
       "[1] \"Resource temporarily unavailable\""
      ]
     },
     "metadata": {},
     "output_type": "display_data"
    },
    {
     "name": "stderr",
     "output_type": "stream",
     "text": [
      "Warning message in system(\"gunzip ../data/fromGTF.*txt.gz\", intern = TRUE):\n",
      "“running command 'gunzip ../data/fromGTF.*txt.gz' had status 1”\n"
     ]
    },
    {
     "data": {
      "text/html": [],
      "text/latex": [],
      "text/markdown": [],
      "text/plain": [
       "character(0)\n",
       "attr(,\"status\")\n",
       "[1] 1\n",
       "attr(,\"errmsg\")\n",
       "[1] \"Resource temporarily unavailable\""
      ]
     },
     "metadata": {},
     "output_type": "display_data"
    },
    {
     "name": "stderr",
     "output_type": "stream",
     "text": [
      "Done!\n",
      "\n",
      "\n"
     ]
    }
   ],
   "source": [
    "## get the rmats 3.2.5 discovered/annotated junction information in GTF format\n",
    "message(\"Decompressing fromGTF.tar.gz into ../data\")\n",
    "system(\"mkdir -p ../data && tar xvfz ../data/fromGTF.tar.gz -C ../data\", intern = TRUE)\n",
    "system(\"gunzip ../data/fromGTF.*txt.gz\", intern = TRUE)\n",
    "message(\"Done!\\n\")"
   ]
  },
  {
   "cell_type": "markdown",
   "metadata": {},
   "source": [
    "### 2  Refined results\n",
    "We define **refined results** as (FC >= 1.5 and pVal <= 0.05) for the sex\\*as_event coefficient result for the linear model"
   ]
  },
  {
   "cell_type": "markdown",
   "metadata": {},
   "source": [
    "### 2.1 getTissueReduction"
   ]
  },
  {
   "cell_type": "code",
   "execution_count": 5,
   "metadata": {},
   "outputs": [
    {
     "data": {
      "text/html": [
       "<style>\n",
       ".list-inline {list-style: none; margin:0; padding: 0}\n",
       ".list-inline>li {display: inline-block}\n",
       ".list-inline>li:not(:last-child)::after {content: \"\\00b7\"; padding: 0 .5ex}\n",
       "</style>\n",
       "<ol class=list-inline><li>'Adipose (sc)'</li><li>'Adipose (v)'</li><li>'Adrenal gland'</li><li>'Aorta'</li><li>'Atrial appendage'</li><li>'Breast'</li><li>'Caudate'</li><li>'Cerebellar hemisphere'</li><li>'Cerebellum'</li><li>'Coronary artery'</li><li>'Cortex'</li><li>'EBV-lymphocytes'</li><li>'Esophagus (gej)'</li><li>'Esophagus (m)'</li><li>'Esophagus (mu)'</li><li>'Fibroblasts'</li><li>'Frontal cortex'</li><li>'Hippocampus'</li><li>'Hypothalamus'</li><li>'Left ventricle'</li><li>'Liver'</li><li>'Lung'</li><li>'Nucleus accumbens'</li><li>'Pancreas'</li><li>'Pituitary'</li><li>'Putamen'</li><li>'Sigmoid colon'</li><li>'Skeletal muscle'</li><li>'Skin (exposed)'</li><li>'Skin (not exposed)'</li><li>'Small intestine'</li><li>'Spinal cord'</li><li>'Spleen'</li><li>'Stomach'</li><li>'Thyroid'</li><li>'Tibial artery'</li><li>'Tibial nerve'</li><li>'Transverse colon'</li><li>'Whole blood'</li></ol>\n"
      ],
      "text/latex": [
       "\\begin{enumerate*}\n",
       "\\item 'Adipose (sc)'\n",
       "\\item 'Adipose (v)'\n",
       "\\item 'Adrenal gland'\n",
       "\\item 'Aorta'\n",
       "\\item 'Atrial appendage'\n",
       "\\item 'Breast'\n",
       "\\item 'Caudate'\n",
       "\\item 'Cerebellar hemisphere'\n",
       "\\item 'Cerebellum'\n",
       "\\item 'Coronary artery'\n",
       "\\item 'Cortex'\n",
       "\\item 'EBV-lymphocytes'\n",
       "\\item 'Esophagus (gej)'\n",
       "\\item 'Esophagus (m)'\n",
       "\\item 'Esophagus (mu)'\n",
       "\\item 'Fibroblasts'\n",
       "\\item 'Frontal cortex'\n",
       "\\item 'Hippocampus'\n",
       "\\item 'Hypothalamus'\n",
       "\\item 'Left ventricle'\n",
       "\\item 'Liver'\n",
       "\\item 'Lung'\n",
       "\\item 'Nucleus accumbens'\n",
       "\\item 'Pancreas'\n",
       "\\item 'Pituitary'\n",
       "\\item 'Putamen'\n",
       "\\item 'Sigmoid colon'\n",
       "\\item 'Skeletal muscle'\n",
       "\\item 'Skin (exposed)'\n",
       "\\item 'Skin (not exposed)'\n",
       "\\item 'Small intestine'\n",
       "\\item 'Spinal cord'\n",
       "\\item 'Spleen'\n",
       "\\item 'Stomach'\n",
       "\\item 'Thyroid'\n",
       "\\item 'Tibial artery'\n",
       "\\item 'Tibial nerve'\n",
       "\\item 'Transverse colon'\n",
       "\\item 'Whole blood'\n",
       "\\end{enumerate*}\n"
      ],
      "text/markdown": [
       "1. 'Adipose (sc)'\n",
       "2. 'Adipose (v)'\n",
       "3. 'Adrenal gland'\n",
       "4. 'Aorta'\n",
       "5. 'Atrial appendage'\n",
       "6. 'Breast'\n",
       "7. 'Caudate'\n",
       "8. 'Cerebellar hemisphere'\n",
       "9. 'Cerebellum'\n",
       "10. 'Coronary artery'\n",
       "11. 'Cortex'\n",
       "12. 'EBV-lymphocytes'\n",
       "13. 'Esophagus (gej)'\n",
       "14. 'Esophagus (m)'\n",
       "15. 'Esophagus (mu)'\n",
       "16. 'Fibroblasts'\n",
       "17. 'Frontal cortex'\n",
       "18. 'Hippocampus'\n",
       "19. 'Hypothalamus'\n",
       "20. 'Left ventricle'\n",
       "21. 'Liver'\n",
       "22. 'Lung'\n",
       "23. 'Nucleus accumbens'\n",
       "24. 'Pancreas'\n",
       "25. 'Pituitary'\n",
       "26. 'Putamen'\n",
       "27. 'Sigmoid colon'\n",
       "28. 'Skeletal muscle'\n",
       "29. 'Skin (exposed)'\n",
       "30. 'Skin (not exposed)'\n",
       "31. 'Small intestine'\n",
       "32. 'Spinal cord'\n",
       "33. 'Spleen'\n",
       "34. 'Stomach'\n",
       "35. 'Thyroid'\n",
       "36. 'Tibial artery'\n",
       "37. 'Tibial nerve'\n",
       "38. 'Transverse colon'\n",
       "39. 'Whole blood'\n",
       "\n",
       "\n"
      ],
      "text/plain": [
       " [1] \"Adipose (sc)\"          \"Adipose (v)\"           \"Adrenal gland\"        \n",
       " [4] \"Aorta\"                 \"Atrial appendage\"      \"Breast\"               \n",
       " [7] \"Caudate\"               \"Cerebellar hemisphere\" \"Cerebellum\"           \n",
       "[10] \"Coronary artery\"       \"Cortex\"                \"EBV-lymphocytes\"      \n",
       "[13] \"Esophagus (gej)\"       \"Esophagus (m)\"         \"Esophagus (mu)\"       \n",
       "[16] \"Fibroblasts\"           \"Frontal cortex\"        \"Hippocampus\"          \n",
       "[19] \"Hypothalamus\"          \"Left ventricle\"        \"Liver\"                \n",
       "[22] \"Lung\"                  \"Nucleus accumbens\"     \"Pancreas\"             \n",
       "[25] \"Pituitary\"             \"Putamen\"               \"Sigmoid colon\"        \n",
       "[28] \"Skeletal muscle\"       \"Skin (exposed)\"        \"Skin (not exposed)\"   \n",
       "[31] \"Small intestine\"       \"Spinal cord\"           \"Spleen\"               \n",
       "[34] \"Stomach\"               \"Thyroid\"               \"Tibial artery\"        \n",
       "[37] \"Tibial nerve\"          \"Transverse colon\"      \"Whole blood\"          "
      ]
     },
     "metadata": {},
     "output_type": "display_data"
    },
    {
     "name": "stderr",
     "output_type": "stream",
     "text": [
      "We extracted 39 different tissues with at least 50 samples in both M & f\n",
      "\n"
     ]
    }
   ],
   "source": [
    "tissue_reduction_filename <- \"../assets/tissues.tsv\"\n",
    "tissue_reduction <- read.table(tissue_reduction_filename, header=TRUE, sep=\"\\t\",\n",
    "                               skipNul=FALSE, stringsAsFactors = FALSE)\n",
    "colnames(tissue_reduction)  <- c(\"SMTSD\",\"female\",\"male\",\"include\",\"display_name\")\n",
    "tissue_reduction <- tissue_reduction[tissue_reduction$display_name != \"n/a\",]\n",
    "tissue_reduction$display_name <- factor(tissue_reduction$display_name)\n",
    "levels(tissue_reduction$display_name)\n",
    "message(\"We extracted \", length(levels(tissue_reduction$display_name)),\" different tissues with at least 50 samples in both M & f\")"
   ]
  },
  {
   "cell_type": "markdown",
   "metadata": {},
   "source": [
    "### 2.2 Read in refined results and annotations"
   ]
  },
  {
   "cell_type": "code",
   "execution_count": 6,
   "metadata": {},
   "outputs": [
    {
     "data": {
      "text/html": [
       "195"
      ],
      "text/latex": [
       "195"
      ],
      "text/markdown": [
       "195"
      ],
      "text/plain": [
       "[1] 195"
      ]
     },
     "metadata": {},
     "output_type": "display_data"
    }
   ],
   "source": [
    "significant_results_dir = \"../data/\"\n",
    "pattern = \"model_B_sex_as_events_refined.csv\"\n",
    "files <- list.files(path = significant_results_dir, pattern = pattern)\n",
    "as_types <- c(\"a3ss\", \"a5ss\", \"mxe\", \"ri\", \"se\")\n",
    "length(files)"
   ]
  },
  {
   "cell_type": "code",
   "execution_count": 7,
   "metadata": {},
   "outputs": [],
   "source": [
    "a3ss_annot <- read.table(file = \"../data/fromGTF.A3SS.txt\", sep = \"\\t\", quote = \"\\\"\", header = T, stringsAsFactors = F)\n",
    "a5ss_annot <- read.table(file = \"../data/fromGTF.A5SS.txt\", sep = \"\\t\", quote = \"\\\"\", header = T, stringsAsFactors = F)\n",
    "mxe_annot <- read.table(file = \"../data/fromGTF.MXE.txt\", sep = \"\\t\", quote = \"\\\"\", header = T, stringsAsFactors = F)\n",
    "ri_annot <- read.table(file = \"../data/fromGTF.RI.txt\", sep = \"\\t\", quote = \"\\\"\", header = T, stringsAsFactors = F)\n",
    "se_annot <- read.table(file = \"../data/fromGTF.SE.txt\", sep = \"\\t\", quote = \"\\\"\", header = T, stringsAsFactors = F)"
   ]
  },
  {
   "cell_type": "code",
   "execution_count": 8,
   "metadata": {},
   "outputs": [
    {
     "data": {
      "text/html": [
       "<table>\n",
       "<caption>A data.frame: 6 × 11</caption>\n",
       "<thead>\n",
       "\t<tr><th></th><th scope=col>ID</th><th scope=col>GeneID</th><th scope=col>geneSymbol</th><th scope=col>chr</th><th scope=col>strand</th><th scope=col>exonStart_0base</th><th scope=col>exonEnd</th><th scope=col>upstreamES</th><th scope=col>upstreamEE</th><th scope=col>downstreamES</th><th scope=col>downstreamEE</th></tr>\n",
       "\t<tr><th></th><th scope=col>&lt;int&gt;</th><th scope=col>&lt;chr&gt;</th><th scope=col>&lt;chr&gt;</th><th scope=col>&lt;chr&gt;</th><th scope=col>&lt;chr&gt;</th><th scope=col>&lt;int&gt;</th><th scope=col>&lt;int&gt;</th><th scope=col>&lt;int&gt;</th><th scope=col>&lt;int&gt;</th><th scope=col>&lt;int&gt;</th><th scope=col>&lt;int&gt;</th></tr>\n",
       "</thead>\n",
       "<tbody>\n",
       "\t<tr><th scope=row>1</th><td>1</td><td>ENSG00000034152.18</td><td>MAP2K3</td><td>chr17</td><td>+</td><td>21287990</td><td>21288091</td><td>21284709</td><td>21284969</td><td>21295674</td><td>21295769</td></tr>\n",
       "\t<tr><th scope=row>2</th><td>2</td><td>ENSG00000034152.18</td><td>MAP2K3</td><td>chr17</td><td>+</td><td>21303182</td><td>21303234</td><td>21302142</td><td>21302259</td><td>21304425</td><td>21304553</td></tr>\n",
       "\t<tr><th scope=row>3</th><td>3</td><td>ENSG00000034152.18</td><td>MAP2K3</td><td>chr17</td><td>+</td><td>21295674</td><td>21295769</td><td>21287990</td><td>21288091</td><td>21296085</td><td>21296143</td></tr>\n",
       "\t<tr><th scope=row>4</th><td>4</td><td>ENSG00000034152.18</td><td>MAP2K3</td><td>chr17</td><td>+</td><td>21295674</td><td>21295769</td><td>21287990</td><td>21288091</td><td>21298412</td><td>21298479</td></tr>\n",
       "\t<tr><th scope=row>5</th><td>5</td><td>ENSG00000034152.18</td><td>MAP2K3</td><td>chr17</td><td>+</td><td>21295674</td><td>21295769</td><td>21284710</td><td>21284969</td><td>21296085</td><td>21296143</td></tr>\n",
       "\t<tr><th scope=row>6</th><td>6</td><td>ENSG00000034152.18</td><td>MAP2K3</td><td>chr17</td><td>+</td><td>21295674</td><td>21295769</td><td>21284710</td><td>21284969</td><td>21298412</td><td>21298479</td></tr>\n",
       "</tbody>\n",
       "</table>\n"
      ],
      "text/latex": [
       "A data.frame: 6 × 11\n",
       "\\begin{tabular}{r|lllllllllll}\n",
       "  & ID & GeneID & geneSymbol & chr & strand & exonStart\\_0base & exonEnd & upstreamES & upstreamEE & downstreamES & downstreamEE\\\\\n",
       "  & <int> & <chr> & <chr> & <chr> & <chr> & <int> & <int> & <int> & <int> & <int> & <int>\\\\\n",
       "\\hline\n",
       "\t1 & 1 & ENSG00000034152.18 & MAP2K3 & chr17 & + & 21287990 & 21288091 & 21284709 & 21284969 & 21295674 & 21295769\\\\\n",
       "\t2 & 2 & ENSG00000034152.18 & MAP2K3 & chr17 & + & 21303182 & 21303234 & 21302142 & 21302259 & 21304425 & 21304553\\\\\n",
       "\t3 & 3 & ENSG00000034152.18 & MAP2K3 & chr17 & + & 21295674 & 21295769 & 21287990 & 21288091 & 21296085 & 21296143\\\\\n",
       "\t4 & 4 & ENSG00000034152.18 & MAP2K3 & chr17 & + & 21295674 & 21295769 & 21287990 & 21288091 & 21298412 & 21298479\\\\\n",
       "\t5 & 5 & ENSG00000034152.18 & MAP2K3 & chr17 & + & 21295674 & 21295769 & 21284710 & 21284969 & 21296085 & 21296143\\\\\n",
       "\t6 & 6 & ENSG00000034152.18 & MAP2K3 & chr17 & + & 21295674 & 21295769 & 21284710 & 21284969 & 21298412 & 21298479\\\\\n",
       "\\end{tabular}\n"
      ],
      "text/markdown": [
       "\n",
       "A data.frame: 6 × 11\n",
       "\n",
       "| <!--/--> | ID &lt;int&gt; | GeneID &lt;chr&gt; | geneSymbol &lt;chr&gt; | chr &lt;chr&gt; | strand &lt;chr&gt; | exonStart_0base &lt;int&gt; | exonEnd &lt;int&gt; | upstreamES &lt;int&gt; | upstreamEE &lt;int&gt; | downstreamES &lt;int&gt; | downstreamEE &lt;int&gt; |\n",
       "|---|---|---|---|---|---|---|---|---|---|---|---|\n",
       "| 1 | 1 | ENSG00000034152.18 | MAP2K3 | chr17 | + | 21287990 | 21288091 | 21284709 | 21284969 | 21295674 | 21295769 |\n",
       "| 2 | 2 | ENSG00000034152.18 | MAP2K3 | chr17 | + | 21303182 | 21303234 | 21302142 | 21302259 | 21304425 | 21304553 |\n",
       "| 3 | 3 | ENSG00000034152.18 | MAP2K3 | chr17 | + | 21295674 | 21295769 | 21287990 | 21288091 | 21296085 | 21296143 |\n",
       "| 4 | 4 | ENSG00000034152.18 | MAP2K3 | chr17 | + | 21295674 | 21295769 | 21287990 | 21288091 | 21298412 | 21298479 |\n",
       "| 5 | 5 | ENSG00000034152.18 | MAP2K3 | chr17 | + | 21295674 | 21295769 | 21284710 | 21284969 | 21296085 | 21296143 |\n",
       "| 6 | 6 | ENSG00000034152.18 | MAP2K3 | chr17 | + | 21295674 | 21295769 | 21284710 | 21284969 | 21298412 | 21298479 |\n",
       "\n"
      ],
      "text/plain": [
       "  ID GeneID             geneSymbol chr   strand exonStart_0base exonEnd \n",
       "1 1  ENSG00000034152.18 MAP2K3     chr17 +      21287990        21288091\n",
       "2 2  ENSG00000034152.18 MAP2K3     chr17 +      21303182        21303234\n",
       "3 3  ENSG00000034152.18 MAP2K3     chr17 +      21295674        21295769\n",
       "4 4  ENSG00000034152.18 MAP2K3     chr17 +      21295674        21295769\n",
       "5 5  ENSG00000034152.18 MAP2K3     chr17 +      21295674        21295769\n",
       "6 6  ENSG00000034152.18 MAP2K3     chr17 +      21295674        21295769\n",
       "  upstreamES upstreamEE downstreamES downstreamEE\n",
       "1 21284709   21284969   21295674     21295769    \n",
       "2 21302142   21302259   21304425     21304553    \n",
       "3 21287990   21288091   21296085     21296143    \n",
       "4 21287990   21288091   21298412     21298479    \n",
       "5 21284710   21284969   21296085     21296143    \n",
       "6 21284710   21284969   21298412     21298479    "
      ]
     },
     "metadata": {},
     "output_type": "display_data"
    }
   ],
   "source": [
    "head(se_annot)"
   ]
  },
  {
   "cell_type": "markdown",
   "metadata": {},
   "source": [
    "### 2.3 create_as_structure \n",
    "\n",
    "This function doees an aggregation of the alternative splicing events - good for all events and the significantly expressed events."
   ]
  },
  {
   "cell_type": "code",
   "execution_count": 9,
   "metadata": {},
   "outputs": [],
   "source": [
    "create_as_structure <- function ( results_dir, files, pattern, tissue_reduction) {\n",
    "    gene_as = data.frame()\n",
    "    counts <- rep(NA, length(files))\n",
    "    message(\"\\nnumber of files:\", paste(length(files)), collapse = \"\")\n",
    "    for (i in 1:length(files)) {\n",
    "       lines  <- read.table(file=paste0(results_dir, files[i]), \n",
    "                                     header = TRUE, sep = \",\", quote = \"\\\"'\", skipNul = FALSE)\n",
    "       if (dim(lines)[1] > 0) {\n",
    "           event     <- as.vector(as.character(rownames(lines)))\n",
    "           tissue1   <- gsub(pattern,\"\", files[i], fixed = TRUE)\n",
    "           counts[i] <- dim(lines)[1]\n",
    "           event_idx <- substring(event, regexpr(\"[0-9]+$\", event))\n",
    "           res       <- data.frame()\n",
    "           if (grepl(\"^a3ss_\", files[i])) {\n",
    "               # remove the first 5 letters of the string \n",
    "               tissue2 <- substring(tissue1,6)\n",
    "               idx <- match(event_idx, a3ss_annot$ID)\n",
    "               res <- data.frame(GeneJunction <- event,\n",
    "                              ASE          <- \"A3SS\", \n",
    "                              ASE_IDX      <- idx,\n",
    "                              Tissue       <- tissue2,\n",
    "                              counts       <- counts[i],\n",
    "                              Display      <- tissue_reduction[tissue_reduction$SMTSD == tissue2, \"display_name\"],\n",
    "                              GeneSymbol   <- a3ss_annot$geneSymbol[idx],\n",
    "                              GeneID       <- a3ss_annot$GeneID[idx],\n",
    "                              chr          <- a3ss_annot$chr[idx],\n",
    "                              logFC        <- lines$logFC,\n",
    "                              AveExpr      <- lines$AveExpr,\n",
    "                              t            <- lines$t,\n",
    "                              PValue       <- lines$P.Value,\n",
    "                              AdjPVal      <- lines$adj.P.Val,\n",
    "                              B            <- lines$B)\n",
    "               colnames(res) <- c(\"GeneJunction\",\"ASE\",\"ASE_IDX\",\"Tissue\",\"counts\",\"Display\",\n",
    "                                  \"GeneSymbol\",\"GeneID\",\"chr\",\"logFC\",\"AveExpr\",\"t\",\"PValue\",\"AdjPVal\",\"B\")\n",
    "               gene_as <- rbind(gene_as,res)\n",
    "            \n",
    "           } else if (grepl(\"^a5ss_\", files[i])) {\n",
    "               # remove the first 5 letters of the string \n",
    "               tissue2 <- substring(tissue1,6)\n",
    "               idx <- match(event_idx, a5ss_annot$ID)\n",
    "               res <- data.frame(GeneJunction <- event,\n",
    "                              ASE          <- \"A5SS\", \n",
    "                              ASE_IDX      <- idx,\n",
    "                              Tissue       <- tissue2,\n",
    "                              counts       <- counts[i],\n",
    "                              Display      <- tissue_reduction[tissue_reduction$SMTSD == tissue2, \"display_name\"],\n",
    "                              GeneSymbol   <- a5ss_annot$geneSymbol[idx],\n",
    "                              GeneID       <- a5ss_annot$GeneID[idx],\n",
    "                              chr          <- a5ss_annot$chr[idx],\n",
    "                              logFC        <- lines$logFC,\n",
    "                              AveExpr      <- lines$AveExpr,\n",
    "                              t            <- lines$t,\n",
    "                              PValue       <- lines$P.Value,\n",
    "                              AdjPVal      <- lines$adj.P.Val,\n",
    "                              B            <- lines$B)\n",
    "               colnames(res) <- c(\"GeneJunction\",\"ASE\",\"ASE_IDX\",\"Tissue\",\"counts\",\"Display\",\n",
    "                               \"GeneSymbol\",\"GeneID\",\"chr\",\"logFC\",\"AveExpr\",\"t\",\"PValue\",\"AdjPVal\",\"B\")\n",
    "               gene_as <- rbind(gene_as,res)\n",
    "           } else if (grepl(\"^mxe_\", files[i])) {\n",
    "               # remove the first 4 letters of the string \n",
    "               tissue2 <- substring(tissue1,5)\n",
    "               idx <- match(event_idx, a3ss_annot$ID)\n",
    "               res <- data.frame(GeneJunction <- event,\n",
    "                              ASE          <- \"MXE\", \n",
    "                              ASE_IDX      <- idx,\n",
    "                              Tissue       <- tissue2,\n",
    "                              counts       <- counts[i],\n",
    "                              Display      <- tissue_reduction[tissue_reduction$SMTSD == tissue2, \"display_name\"],\n",
    "                              GeneSymbol   <- mxe_annot$geneSymbol[idx],\n",
    "                              GeneID       <- mxe_annot$GeneID[idx],\n",
    "                              chr          <- mxe_annot$chr[idx],\n",
    "                              logFC        <- lines$logFC,\n",
    "                              AveExpr      <- lines$AveExpr,\n",
    "                              t            <- lines$t,\n",
    "                              PValue       <- lines$P.Value,\n",
    "                              AdjPVal      <- lines$adj.P.Val,\n",
    "                              B            <- lines$B)\n",
    "               colnames(res) <- c(\"GeneJunction\",\"ASE\",\"ASE_IDX\",\"Tissue\",\"counts\",\"Display\",\n",
    "                                  \"GeneSymbol\",\"GeneID\",\"chr\",\"logFC\",\"AveExpr\",\"t\",\"PValue\",\"AdjPVal\",\"B\")\n",
    "               gene_as <- rbind(gene_as,res)\n",
    "           } else if (grepl(\"^se_\", files[i])) {\n",
    "               # remove the first 3 letters of the string \n",
    "               tissue2 <- substring(tissue1,4)\n",
    "               idx <- match(event_idx, se_annot$ID)\n",
    "               res <- data.frame(GeneJunction <- event,\n",
    "                              ASE          <- \"SE\", \n",
    "                              ASE_IDX      <- idx,\n",
    "                              Tissue       <- tissue2,\n",
    "                              counts       <- counts[i],\n",
    "                              Display      <- tissue_reduction[tissue_reduction$SMTSD == tissue2, \"display_name\"],\n",
    "                              GeneSymbol   <- se_annot$geneSymbol[idx],\n",
    "                              GeneID       <- se_annot$GeneID[idx],\n",
    "                              chr          <- se_annot$chr[idx],\n",
    "                              logFC        <- lines$logFC,\n",
    "                              AveExpr      <- lines$AveExpr,\n",
    "                              t            <- lines$t,\n",
    "                              PValue       <- lines$P.Value,\n",
    "                              AdjPVal      <- lines$adj.P.Val,\n",
    "                              B            <- lines$B)\n",
    "               colnames(res) <- c(\"GeneJunction\",\"ASE\",\"ASE_IDX\",\"Tissue\",\"counts\",\"Display\",\n",
    "                                  \"GeneSymbol\",\"GeneID\",\"chr\",\"logFC\",\"AveExpr\",\"t\",\"PValue\",\"AdjPVal\",\"B\")\n",
    "               gene_as <- rbind(gene_as,res)\n",
    "           } else if (grepl(\"^ri_\", files[i])){\n",
    "               # remove the first 3 letters of the string \n",
    "               tissue2 <- substring(tissue1,4)\n",
    "               idx <- match(event_idx, ri_annot$ID)\n",
    "               res <- data.frame(GeneJunction <- event,\n",
    "                              ASE          <- \"RI\", \n",
    "                              ASE_IDX      <- idx,\n",
    "                              Tissue       <- tissue2,\n",
    "                              counts       <- counts[i],\n",
    "                              Display      <- tissue_reduction[tissue_reduction$SMTSD == tissue2, \"display_name\"],\n",
    "                              GeneSymbol   <- ri_annot$geneSymbol[idx],\n",
    "                              GeneID       <- ri_annot$GeneID[idx],\n",
    "                              chr          <- ri_annot$chr[idx],\n",
    "                              logFC        <- lines$logFC,\n",
    "                              AveExpr      <- lines$AveExpr,\n",
    "                              t            <- lines$t,\n",
    "                              PValue       <- lines$P.Value,\n",
    "                              AdjPVal      <- lines$adj.P.Val,\n",
    "                              B            <- lines$B)\n",
    "               colnames(res) <- c(\"GeneJunction\",\"ASE\",\"ASE_IDX\",\"Tissue\",\"counts\",\"Display\",\n",
    "                                  \"GeneSymbol\",\"GeneID\",\"chr\",\"logFC\",\"AveExpr\",\"t\",\"PValue\",\"AdjPVal\",\"B\")\n",
    "               gene_as <- rbind(gene_as,res)\n",
    "           }\n",
    "        \n",
    "       } #if has sig. events\n",
    "    \n",
    "   } #for all files\n",
    "   colnames(gene_as) <- c(\"GeneJunction\",\"ASE\",\"ASE_IDX\",\"Tissue\",\"counts\",\"Display\",\"GeneSymbol\",\"GeneID\",\"chr\",\"logFC\",\"AveExpr\",\"t\",\"PValue\",\"AdjPVal\",\"B\")\n",
    "   n_unique_genes <- length(summary(as.factor(gene_as$GeneSymbol),maxsum=50000))\n",
    "   message(\"We extracted a total of \",nrow(gene_as),\" significant alternative splicing events (gene_as)\")\n",
    "   message(\"This includes \", n_unique_genes, \" total genes\")\n",
    "   return (gene_as)\n",
    "}"
   ]
  },
  {
   "cell_type": "markdown",
   "metadata": {},
   "source": [
    "### 2.4 create_dge_structure \n",
    "\n",
    "This function doees an aggregation of the differential gene expression events - good for all events and the significantly expressed events."
   ]
  },
  {
   "cell_type": "code",
   "execution_count": 10,
   "metadata": {},
   "outputs": [],
   "source": [
    "create_dge_structure <- function ( results_dir, files, pattern, map_pattern, tissue_reduction) {\n",
    "   gene_dge = data.frame()\n",
    "   counts <- rep(NA, length(files))\n",
    "   for (i in 1:length(files)) {\n",
    "      lines  <- read.table(file=paste0(results_dir, files[i]), \n",
    "                                     header = TRUE, sep = \",\", quote = \"\\\"'\", skipNul = FALSE)\n",
    "      if (dim(lines)[1] > 0) {\n",
    "         tissue1    <- gsub(pattern,\"\", files[i], fixed = TRUE)\n",
    "         map_lines  <- read.table(file=paste0(paste0(results_dir, tissue1),map_pattern),\n",
    "                                     header = TRUE, sep = \",\", quote = \"\\\"'\", skipNul = FALSE)\n",
    "         counts[i]  <- dim(lines)[1]    \n",
    "         tissue1    <- gsub(pattern,\"\", files[i], fixed = TRUE)\n",
    "         map_lines  <- read.table(file=paste0(paste0(results_dir, tissue1),map_pattern),\n",
    "                                     header = TRUE, sep = \",\", quote = \"\\\"'\", skipNul = FALSE)\n",
    "         ensg_ver   <- as.vector(as.character(rownames(lines)))\n",
    "         ensg_no_ver<- as.vector(as.character(map_lines$ensg_names))\n",
    "         ensg_genes <- as.vector(as.character(map_lines$ensg_genes))\n",
    "         counts[i]  <- dim(lines)[1]  \n",
    "         res <- data.frame(Tissue       <- tissue1,\n",
    "                           ENSG_ver     <- ensg_ver,\n",
    "                           ENSG_no_ver  <- ensg_no_ver,\n",
    "                           GeneSymbol   <- ensg_genes,\n",
    "                           counts       <- counts[i],\n",
    "                           Display      <- tissue_reduction[tissue_reduction$SMTSD == tissue1, \"display_name\"],\n",
    "                           logFC        <- lines$logFC,\n",
    "                           AveExpr      <- lines$AveExpr,\n",
    "                           t            <- lines$t,\n",
    "                           PValue       <- lines$P.Value,\n",
    "                           AdjPVal      <- lines$adj.P.Val,\n",
    "                           B            <- lines$B)\n",
    "         colnames(res) <- c(\"Tissue\",\"ENSG_ver\",\"ENSG_no_ver\",\"GeneSymbol\",\"counts\",\"Display\",\n",
    "                            \"logFC\",\"AveExpr\",\"t\",\"PValue\",\"AdjPVal\",\"B\")\n",
    "         gene_dge <- rbind(gene_dge, res)\n",
    "       } #if has sig. events\n",
    "    } #for all files\n",
    "    colnames(gene_dge) <- c(\"Tissue\",\"ENSG_ver\",\"ENSG_no_ver\",\"GeneSymbol\",\"counts\",\"Display\",\n",
    "                        \"logFC\",\"AveExpr\",\"t\",\"PValue\",\"AdjPVal\",\"B\")\n",
    "    n_unique_genes <- length(summary(as.factor(gene_dge$GeneSymbol),maxsum=50000))\n",
    "    message(\"We extracted a total of \",nrow(gene_dge),\" significant differential gene events (gene_dge)\")\n",
    "    message(\"This includes \", n_unique_genes, \" total genes\")\n",
    "    return(gene_dge)\n",
    "}"
   ]
  },
  {
   "cell_type": "markdown",
   "metadata": {},
   "source": [
    "### 2.5 Read in the alternative splicing results\n",
    "\n",
    "We will create an aggregation of  all the results and all the significant results\n"
   ]
  },
  {
   "cell_type": "code",
   "execution_count": 11,
   "metadata": {},
   "outputs": [
    {
     "data": {
      "text/html": [
       "195"
      ],
      "text/latex": [
       "195"
      ],
      "text/markdown": [
       "195"
      ],
      "text/plain": [
       "[1] 195"
      ]
     },
     "metadata": {},
     "output_type": "display_data"
    },
    {
     "data": {
      "text/html": [
       "195"
      ],
      "text/latex": [
       "195"
      ],
      "text/markdown": [
       "195"
      ],
      "text/plain": [
       "[1] 195"
      ]
     },
     "metadata": {},
     "output_type": "display_data"
    },
    {
     "name": "stderr",
     "output_type": "stream",
     "text": [
      "\n",
      "number of files:195\n",
      "\n",
      "We extracted a total of 4227 significant alternative splicing events (gene_as)\n",
      "\n",
      "This includes 1994 total genes\n",
      "\n",
      "\n",
      "number of files:195\n",
      "\n",
      "We extracted a total of 2059515 significant alternative splicing events (gene_as)\n",
      "\n",
      "This includes 14195 total genes\n",
      "\n"
     ]
    },
    {
     "data": {
      "text/html": [
       "<table>\n",
       "<caption>A data.frame: 2 × 15</caption>\n",
       "<thead>\n",
       "\t<tr><th></th><th scope=col>GeneJunction</th><th scope=col>ASE</th><th scope=col>ASE_IDX</th><th scope=col>Tissue</th><th scope=col>counts</th><th scope=col>Display</th><th scope=col>GeneSymbol</th><th scope=col>GeneID</th><th scope=col>chr</th><th scope=col>logFC</th><th scope=col>AveExpr</th><th scope=col>t</th><th scope=col>PValue</th><th scope=col>AdjPVal</th><th scope=col>B</th></tr>\n",
       "\t<tr><th></th><th scope=col>&lt;fct&gt;</th><th scope=col>&lt;fct&gt;</th><th scope=col>&lt;int&gt;</th><th scope=col>&lt;fct&gt;</th><th scope=col>&lt;int&gt;</th><th scope=col>&lt;fct&gt;</th><th scope=col>&lt;fct&gt;</th><th scope=col>&lt;fct&gt;</th><th scope=col>&lt;fct&gt;</th><th scope=col>&lt;dbl&gt;</th><th scope=col>&lt;dbl&gt;</th><th scope=col>&lt;dbl&gt;</th><th scope=col>&lt;dbl&gt;</th><th scope=col>&lt;dbl&gt;</th><th scope=col>&lt;dbl&gt;</th></tr>\n",
       "</thead>\n",
       "<tbody>\n",
       "\t<tr><th scope=row>1</th><td>XIST-2253</td><td>A3SS</td><td>2253</td><td>adipose_subcutaneous</td><td>3</td><td>Adipose (sc)</td><td>XIST</td><td>ENSG00000229807.11</td><td>chrX</td><td>-4.410805</td><td>3.196555</td><td>-32.93077</td><td>2.619152e-136</td><td>2.015438e-132</td><td>262.4368</td></tr>\n",
       "\t<tr><th scope=row>2</th><td>XIST-2252</td><td>A3SS</td><td>2252</td><td>adipose_subcutaneous</td><td>3</td><td>Adipose (sc)</td><td>XIST</td><td>ENSG00000229807.11</td><td>chrX</td><td>-2.409177</td><td>3.647928</td><td>-19.33405</td><td> 5.027809e-65</td><td> 1.934450e-61</td><td>126.8062</td></tr>\n",
       "</tbody>\n",
       "</table>\n"
      ],
      "text/latex": [
       "A data.frame: 2 × 15\n",
       "\\begin{tabular}{r|lllllllllllllll}\n",
       "  & GeneJunction & ASE & ASE\\_IDX & Tissue & counts & Display & GeneSymbol & GeneID & chr & logFC & AveExpr & t & PValue & AdjPVal & B\\\\\n",
       "  & <fct> & <fct> & <int> & <fct> & <int> & <fct> & <fct> & <fct> & <fct> & <dbl> & <dbl> & <dbl> & <dbl> & <dbl> & <dbl>\\\\\n",
       "\\hline\n",
       "\t1 & XIST-2253 & A3SS & 2253 & adipose\\_subcutaneous & 3 & Adipose (sc) & XIST & ENSG00000229807.11 & chrX & -4.410805 & 3.196555 & -32.93077 & 2.619152e-136 & 2.015438e-132 & 262.4368\\\\\n",
       "\t2 & XIST-2252 & A3SS & 2252 & adipose\\_subcutaneous & 3 & Adipose (sc) & XIST & ENSG00000229807.11 & chrX & -2.409177 & 3.647928 & -19.33405 &  5.027809e-65 &  1.934450e-61 & 126.8062\\\\\n",
       "\\end{tabular}\n"
      ],
      "text/markdown": [
       "\n",
       "A data.frame: 2 × 15\n",
       "\n",
       "| <!--/--> | GeneJunction &lt;fct&gt; | ASE &lt;fct&gt; | ASE_IDX &lt;int&gt; | Tissue &lt;fct&gt; | counts &lt;int&gt; | Display &lt;fct&gt; | GeneSymbol &lt;fct&gt; | GeneID &lt;fct&gt; | chr &lt;fct&gt; | logFC &lt;dbl&gt; | AveExpr &lt;dbl&gt; | t &lt;dbl&gt; | PValue &lt;dbl&gt; | AdjPVal &lt;dbl&gt; | B &lt;dbl&gt; |\n",
       "|---|---|---|---|---|---|---|---|---|---|---|---|---|---|---|---|\n",
       "| 1 | XIST-2253 | A3SS | 2253 | adipose_subcutaneous | 3 | Adipose (sc) | XIST | ENSG00000229807.11 | chrX | -4.410805 | 3.196555 | -32.93077 | 2.619152e-136 | 2.015438e-132 | 262.4368 |\n",
       "| 2 | XIST-2252 | A3SS | 2252 | adipose_subcutaneous | 3 | Adipose (sc) | XIST | ENSG00000229807.11 | chrX | -2.409177 | 3.647928 | -19.33405 |  5.027809e-65 |  1.934450e-61 | 126.8062 |\n",
       "\n"
      ],
      "text/plain": [
       "  GeneJunction ASE  ASE_IDX Tissue               counts Display      GeneSymbol\n",
       "1 XIST-2253    A3SS 2253    adipose_subcutaneous 3      Adipose (sc) XIST      \n",
       "2 XIST-2252    A3SS 2252    adipose_subcutaneous 3      Adipose (sc) XIST      \n",
       "  GeneID             chr  logFC     AveExpr  t         PValue       \n",
       "1 ENSG00000229807.11 chrX -4.410805 3.196555 -32.93077 2.619152e-136\n",
       "2 ENSG00000229807.11 chrX -2.409177 3.647928 -19.33405  5.027809e-65\n",
       "  AdjPVal       B       \n",
       "1 2.015438e-132 262.4368\n",
       "2  1.934450e-61 126.8062"
      ]
     },
     "metadata": {},
     "output_type": "display_data"
    },
    {
     "data": {
      "text/html": [
       "<table>\n",
       "<caption>A data.frame: 2 × 15</caption>\n",
       "<thead>\n",
       "\t<tr><th></th><th scope=col>GeneJunction</th><th scope=col>ASE</th><th scope=col>ASE_IDX</th><th scope=col>Tissue</th><th scope=col>counts</th><th scope=col>Display</th><th scope=col>GeneSymbol</th><th scope=col>GeneID</th><th scope=col>chr</th><th scope=col>logFC</th><th scope=col>AveExpr</th><th scope=col>t</th><th scope=col>PValue</th><th scope=col>AdjPVal</th><th scope=col>B</th></tr>\n",
       "\t<tr><th></th><th scope=col>&lt;fct&gt;</th><th scope=col>&lt;fct&gt;</th><th scope=col>&lt;int&gt;</th><th scope=col>&lt;fct&gt;</th><th scope=col>&lt;int&gt;</th><th scope=col>&lt;fct&gt;</th><th scope=col>&lt;fct&gt;</th><th scope=col>&lt;fct&gt;</th><th scope=col>&lt;fct&gt;</th><th scope=col>&lt;dbl&gt;</th><th scope=col>&lt;dbl&gt;</th><th scope=col>&lt;dbl&gt;</th><th scope=col>&lt;dbl&gt;</th><th scope=col>&lt;dbl&gt;</th><th scope=col>&lt;dbl&gt;</th></tr>\n",
       "</thead>\n",
       "<tbody>\n",
       "\t<tr><th scope=row>1</th><td>XIST-2253</td><td>A3SS</td><td>2253</td><td>adipose_subcutaneous</td><td>7695</td><td>Adipose (sc)</td><td>XIST</td><td>ENSG00000229807.11</td><td>chrX</td><td>-4.410805</td><td>3.196555</td><td>-32.93077</td><td>2.619152e-136</td><td>2.015438e-132</td><td>262.4368</td></tr>\n",
       "\t<tr><th scope=row>2</th><td>XIST-2252</td><td>A3SS</td><td>2252</td><td>adipose_subcutaneous</td><td>7695</td><td>Adipose (sc)</td><td>XIST</td><td>ENSG00000229807.11</td><td>chrX</td><td>-2.409177</td><td>3.647928</td><td>-19.33405</td><td> 5.027809e-65</td><td> 1.934450e-61</td><td>126.8062</td></tr>\n",
       "</tbody>\n",
       "</table>\n"
      ],
      "text/latex": [
       "A data.frame: 2 × 15\n",
       "\\begin{tabular}{r|lllllllllllllll}\n",
       "  & GeneJunction & ASE & ASE\\_IDX & Tissue & counts & Display & GeneSymbol & GeneID & chr & logFC & AveExpr & t & PValue & AdjPVal & B\\\\\n",
       "  & <fct> & <fct> & <int> & <fct> & <int> & <fct> & <fct> & <fct> & <fct> & <dbl> & <dbl> & <dbl> & <dbl> & <dbl> & <dbl>\\\\\n",
       "\\hline\n",
       "\t1 & XIST-2253 & A3SS & 2253 & adipose\\_subcutaneous & 7695 & Adipose (sc) & XIST & ENSG00000229807.11 & chrX & -4.410805 & 3.196555 & -32.93077 & 2.619152e-136 & 2.015438e-132 & 262.4368\\\\\n",
       "\t2 & XIST-2252 & A3SS & 2252 & adipose\\_subcutaneous & 7695 & Adipose (sc) & XIST & ENSG00000229807.11 & chrX & -2.409177 & 3.647928 & -19.33405 &  5.027809e-65 &  1.934450e-61 & 126.8062\\\\\n",
       "\\end{tabular}\n"
      ],
      "text/markdown": [
       "\n",
       "A data.frame: 2 × 15\n",
       "\n",
       "| <!--/--> | GeneJunction &lt;fct&gt; | ASE &lt;fct&gt; | ASE_IDX &lt;int&gt; | Tissue &lt;fct&gt; | counts &lt;int&gt; | Display &lt;fct&gt; | GeneSymbol &lt;fct&gt; | GeneID &lt;fct&gt; | chr &lt;fct&gt; | logFC &lt;dbl&gt; | AveExpr &lt;dbl&gt; | t &lt;dbl&gt; | PValue &lt;dbl&gt; | AdjPVal &lt;dbl&gt; | B &lt;dbl&gt; |\n",
       "|---|---|---|---|---|---|---|---|---|---|---|---|---|---|---|---|\n",
       "| 1 | XIST-2253 | A3SS | 2253 | adipose_subcutaneous | 7695 | Adipose (sc) | XIST | ENSG00000229807.11 | chrX | -4.410805 | 3.196555 | -32.93077 | 2.619152e-136 | 2.015438e-132 | 262.4368 |\n",
       "| 2 | XIST-2252 | A3SS | 2252 | adipose_subcutaneous | 7695 | Adipose (sc) | XIST | ENSG00000229807.11 | chrX | -2.409177 | 3.647928 | -19.33405 |  5.027809e-65 |  1.934450e-61 | 126.8062 |\n",
       "\n"
      ],
      "text/plain": [
       "  GeneJunction ASE  ASE_IDX Tissue               counts Display      GeneSymbol\n",
       "1 XIST-2253    A3SS 2253    adipose_subcutaneous 7695   Adipose (sc) XIST      \n",
       "2 XIST-2252    A3SS 2252    adipose_subcutaneous 7695   Adipose (sc) XIST      \n",
       "  GeneID             chr  logFC     AveExpr  t         PValue       \n",
       "1 ENSG00000229807.11 chrX -4.410805 3.196555 -32.93077 2.619152e-136\n",
       "2 ENSG00000229807.11 chrX -2.409177 3.647928 -19.33405  5.027809e-65\n",
       "  AdjPVal       B       \n",
       "1 2.015438e-132 262.4368\n",
       "2  1.934450e-61 126.8062"
      ]
     },
     "metadata": {},
     "output_type": "display_data"
    }
   ],
   "source": [
    "results_dir         <- \"../data/\"\n",
    "significant_pattern <- \"_AS_model_B_sex_as_events_refined.csv\"\n",
    "significant_files   <- list.files(path = results_dir, pattern = significant_pattern)\n",
    "all_pattern         <- \"_AS_model_B_sex_as_events.csv\"\n",
    "all_files           <- list.files(path = results_dir, pattern = all_pattern)\n",
    "as_types            <- c(\"a3ss\", \"a5ss\", \"mxe\", \"ri\", \"se\")\n",
    "length(all_files)\n",
    "length(significant_files)\n",
    "\n",
    "gene_as     <- create_as_structure (results_dir      <- results_dir, \n",
    "                                    files            <- significant_files, \n",
    "                                    pattern          <- significant_pattern, \n",
    "                                    tissue_reduction <- tissue_reduction)\n",
    "all_gene_as <- create_as_structure (results_dir      <- results_dir, \n",
    "                                    files            <- all_files, \n",
    "                                    pattern          <- all_pattern, \n",
    "                                    tissue_reduction <- tissue_reduction)\n",
    "head(gene_as,2)\n",
    "head(all_gene_as, 2)\n",
    "gene_as$Tissue <- factor(gene_as$Tissue)\n",
    "write.table(gene_as, \"../data/gene_as.tsv\", quote=FALSE, sep=\"\\t\")\n",
    "write.table(all_gene_as, \"../data/all_gene_as.tsv\", quote=FALSE, sep=\"\\t\")"
   ]
  },
  {
   "cell_type": "markdown",
   "metadata": {},
   "source": [
    "### 2.6 Create a genes-id file capturing the unique gene-junction locations in a single file\n",
    "rMATS 3.2.5 unique junction ids by splicing event tied together with gene names and these identifiers useful for downstream analyses and investigations."
   ]
  },
  {
   "cell_type": "code",
   "execution_count": 12,
   "metadata": {},
   "outputs": [
    {
     "data": {
      "text/html": [
       "'se_adipose_subcutaneous_AS_model_B_sex_as_events_refined.csv'"
      ],
      "text/latex": [
       "'se\\_adipose\\_subcutaneous\\_AS\\_model\\_B\\_sex\\_as\\_events\\_refined.csv'"
      ],
      "text/markdown": [
       "'se_adipose_subcutaneous_AS_model_B_sex_as_events_refined.csv'"
      ],
      "text/plain": [
       "[1] \"se_adipose_subcutaneous_AS_model_B_sex_as_events_refined.csv\""
      ]
     },
     "metadata": {},
     "output_type": "display_data"
    }
   ],
   "source": [
    "results_dir         <- \"../data/\"\n",
    "significant_pattern <- \"^se_*AS_model_B_sex_as_events_refined.csv\"\n",
    "files   <- list.files(path =results_dir, pattern = glob2rx(significant_pattern))\n",
    "geneids <- data.frame()\n",
    "i = 1\n",
    "files[i]\n",
    "pattern=\"_AS_model_B_sex_as_events_refined.csv\"\n",
    "for (i in 1:length(files)) {\n",
    "    lines  <- read.table(file=paste0(results_dir, files[i]), \n",
    "                                     header = TRUE, sep = \",\", quote = \"\\\"'\", skipNul = FALSE)\n",
    "    \n",
    "    if (dim(lines)[1] > 0) {\n",
    "           event     <- as.vector(as.character(rownames(lines)))\n",
    "           tissue1   <- gsub(pattern,\"\", files[i], fixed = TRUE)\n",
    "           event_idx <- substring(event, regexpr(\"[0-9]+$\", event))\n",
    "           res       <- data.frame()\n",
    "           tissue2 <- substring(tissue1,4)\n",
    "           idx <- match(event_idx, se_annot$ID)\n",
    "           res <- data.frame(geneIDs      <- event,\n",
    "                             ID           <- event_idx,\n",
    "                             GeneSymbol   <- se_annot$geneSymbol[idx],\n",
    "                             GeneID       <- se_annot$GeneID[idx],\n",
    "                             chr          <- se_annot$chr[idx])\n",
    "           outfilename <- paste0(paste0(\"../data/se_\",tissue2),\"_geneids.tsv\")\n",
    "           write.table(res, outfilename, quote=FALSE, sep=\"\\t\")\n",
    "           \n",
    "     }\n",
    "}"
   ]
  },
  {
   "cell_type": "markdown",
   "metadata": {},
   "source": [
    "### 2.7 Read in the differential gene expression results\n",
    "\n",
    "Here we create an aggregation of al the significant results differential gene expression events."
   ]
  },
  {
   "cell_type": "code",
   "execution_count": 15,
   "metadata": {},
   "outputs": [
    {
     "data": {
      "text/html": [
       "39"
      ],
      "text/latex": [
       "39"
      ],
      "text/markdown": [
       "39"
      ],
      "text/plain": [
       "[1] 39"
      ]
     },
     "metadata": {},
     "output_type": "display_data"
    },
    {
     "name": "stderr",
     "output_type": "stream",
     "text": [
      "We extracted a total of 12633 significant differential gene events (gene_dge)\n",
      "\n",
      "This includes 7417 total genes\n",
      "\n"
     ]
    },
    {
     "data": {
      "text/html": [
       "<table>\n",
       "<caption>A data.frame: 2 × 12</caption>\n",
       "<thead>\n",
       "\t<tr><th></th><th scope=col>Tissue</th><th scope=col>ENSG_ver</th><th scope=col>ENSG_no_ver</th><th scope=col>GeneSymbol</th><th scope=col>counts</th><th scope=col>Display</th><th scope=col>logFC</th><th scope=col>AveExpr</th><th scope=col>t</th><th scope=col>PValue</th><th scope=col>AdjPVal</th><th scope=col>B</th></tr>\n",
       "\t<tr><th></th><th scope=col>&lt;fct&gt;</th><th scope=col>&lt;fct&gt;</th><th scope=col>&lt;fct&gt;</th><th scope=col>&lt;fct&gt;</th><th scope=col>&lt;int&gt;</th><th scope=col>&lt;fct&gt;</th><th scope=col>&lt;dbl&gt;</th><th scope=col>&lt;dbl&gt;</th><th scope=col>&lt;dbl&gt;</th><th scope=col>&lt;dbl&gt;</th><th scope=col>&lt;dbl&gt;</th><th scope=col>&lt;dbl&gt;</th></tr>\n",
       "</thead>\n",
       "<tbody>\n",
       "\t<tr><th scope=row>1</th><td>adipose_subcutaneous</td><td>ENSG00000176728.7</td><td>ENSG00000176728</td><td>TTTY14   </td><td>765</td><td>Adipose (sc)</td><td>-7.982166</td><td>-0.9288129</td><td>-139.8230</td><td>0</td><td>0</td><td>1107.423</td></tr>\n",
       "\t<tr><th scope=row>2</th><td>adipose_subcutaneous</td><td>ENSG00000231535.5</td><td>ENSG00000231535</td><td>LINC00278</td><td>765</td><td>Adipose (sc)</td><td>-6.095420</td><td>-2.7765638</td><td>-126.9138</td><td>0</td><td>0</td><td>1050.366</td></tr>\n",
       "</tbody>\n",
       "</table>\n"
      ],
      "text/latex": [
       "A data.frame: 2 × 12\n",
       "\\begin{tabular}{r|llllllllllll}\n",
       "  & Tissue & ENSG\\_ver & ENSG\\_no\\_ver & GeneSymbol & counts & Display & logFC & AveExpr & t & PValue & AdjPVal & B\\\\\n",
       "  & <fct> & <fct> & <fct> & <fct> & <int> & <fct> & <dbl> & <dbl> & <dbl> & <dbl> & <dbl> & <dbl>\\\\\n",
       "\\hline\n",
       "\t1 & adipose\\_subcutaneous & ENSG00000176728.7 & ENSG00000176728 & TTTY14    & 765 & Adipose (sc) & -7.982166 & -0.9288129 & -139.8230 & 0 & 0 & 1107.423\\\\\n",
       "\t2 & adipose\\_subcutaneous & ENSG00000231535.5 & ENSG00000231535 & LINC00278 & 765 & Adipose (sc) & -6.095420 & -2.7765638 & -126.9138 & 0 & 0 & 1050.366\\\\\n",
       "\\end{tabular}\n"
      ],
      "text/markdown": [
       "\n",
       "A data.frame: 2 × 12\n",
       "\n",
       "| <!--/--> | Tissue &lt;fct&gt; | ENSG_ver &lt;fct&gt; | ENSG_no_ver &lt;fct&gt; | GeneSymbol &lt;fct&gt; | counts &lt;int&gt; | Display &lt;fct&gt; | logFC &lt;dbl&gt; | AveExpr &lt;dbl&gt; | t &lt;dbl&gt; | PValue &lt;dbl&gt; | AdjPVal &lt;dbl&gt; | B &lt;dbl&gt; |\n",
       "|---|---|---|---|---|---|---|---|---|---|---|---|---|\n",
       "| 1 | adipose_subcutaneous | ENSG00000176728.7 | ENSG00000176728 | TTTY14    | 765 | Adipose (sc) | -7.982166 | -0.9288129 | -139.8230 | 0 | 0 | 1107.423 |\n",
       "| 2 | adipose_subcutaneous | ENSG00000231535.5 | ENSG00000231535 | LINC00278 | 765 | Adipose (sc) | -6.095420 | -2.7765638 | -126.9138 | 0 | 0 | 1050.366 |\n",
       "\n"
      ],
      "text/plain": [
       "  Tissue               ENSG_ver          ENSG_no_ver     GeneSymbol counts\n",
       "1 adipose_subcutaneous ENSG00000176728.7 ENSG00000176728 TTTY14     765   \n",
       "2 adipose_subcutaneous ENSG00000231535.5 ENSG00000231535 LINC00278  765   \n",
       "  Display      logFC     AveExpr    t         PValue AdjPVal B       \n",
       "1 Adipose (sc) -7.982166 -0.9288129 -139.8230 0      0       1107.423\n",
       "2 Adipose (sc) -6.095420 -2.7765638 -126.9138 0      0       1050.366"
      ]
     },
     "metadata": {},
     "output_type": "display_data"
    }
   ],
   "source": [
    "results_dir         <- \"../data/\"\n",
    "significant_pattern <- \"_DGE_refined.csv\"\n",
    "significant_files   <- list.files(path = results_dir, pattern = significant_pattern)\n",
    "map_pattern         <- \"_DGE_ensg_map.csv\"\n",
    "length(significant_files)\n",
    "\n",
    "gene_dge     <- create_dge_structure (results_dir      <- results_dir, \n",
    "                                      files            <- significant_files, \n",
    "                                      pattern          <- significant_pattern, \n",
    "                                      map_pattern      <- map_pattern,\n",
    "                                      tissue_reduction <- tissue_reduction)\n",
    "\n",
    "head(gene_dge,2)"
   ]
  },
  {
   "cell_type": "markdown",
   "metadata": {},
   "source": [
    "Load in the gencode.v30.annotation.gtf file for additional annotation"
   ]
  },
  {
   "cell_type": "code",
   "execution_count": 16,
   "metadata": {},
   "outputs": [
    {
     "name": "stderr",
     "output_type": "stream",
     "text": [
      "downloading gencode v30 annotation\n",
      "\n",
      "\n",
      "Done!\n",
      "\n",
      "\n",
      "Unzipping compressed file gencode.v30.annotation.gtf.gz..\n",
      "\n",
      "Warning message in system(\"gunzip ../data/gencode.v30.annotation.gtf.gz\", intern = TRUE):\n",
      "“running command 'gunzip ../data/gencode.v30.annotation.gtf.gz' had status 2”\n",
      "Done! gencode.v30.annotation.gtf can be found in ../data/\n",
      "\n"
     ]
    },
    {
     "data": {
      "text/html": [
       "<table>\n",
       "<caption>A data.frame: 6 × 3</caption>\n",
       "<thead>\n",
       "\t<tr><th></th><th scope=col>chr</th><th scope=col>GeneSymbol</th><th scope=col>ENSG</th></tr>\n",
       "\t<tr><th></th><th scope=col>&lt;fct&gt;</th><th scope=col>&lt;chr&gt;</th><th scope=col>&lt;chr&gt;</th></tr>\n",
       "</thead>\n",
       "<tbody>\n",
       "\t<tr><th scope=row>1</th><td>chr1</td><td>DDX11L1    </td><td>ENSG00000223972.5</td></tr>\n",
       "\t<tr><th scope=row>13</th><td>chr1</td><td>WASH7P     </td><td>ENSG00000227232.5</td></tr>\n",
       "\t<tr><th scope=row>26</th><td>chr1</td><td>MIR6859-1  </td><td>ENSG00000278267.1</td></tr>\n",
       "\t<tr><th scope=row>29</th><td>chr1</td><td>MIR1302-2HG</td><td>ENSG00000243485.5</td></tr>\n",
       "\t<tr><th scope=row>37</th><td>chr1</td><td>MIR1302-2  </td><td>ENSG00000284332.1</td></tr>\n",
       "\t<tr><th scope=row>40</th><td>chr1</td><td>FAM138A    </td><td>ENSG00000237613.2</td></tr>\n",
       "</tbody>\n",
       "</table>\n"
      ],
      "text/latex": [
       "A data.frame: 6 × 3\n",
       "\\begin{tabular}{r|lll}\n",
       "  & chr & GeneSymbol & ENSG\\\\\n",
       "  & <fct> & <chr> & <chr>\\\\\n",
       "\\hline\n",
       "\t1 & chr1 & DDX11L1     & ENSG00000223972.5\\\\\n",
       "\t13 & chr1 & WASH7P      & ENSG00000227232.5\\\\\n",
       "\t26 & chr1 & MIR6859-1   & ENSG00000278267.1\\\\\n",
       "\t29 & chr1 & MIR1302-2HG & ENSG00000243485.5\\\\\n",
       "\t37 & chr1 & MIR1302-2   & ENSG00000284332.1\\\\\n",
       "\t40 & chr1 & FAM138A     & ENSG00000237613.2\\\\\n",
       "\\end{tabular}\n"
      ],
      "text/markdown": [
       "\n",
       "A data.frame: 6 × 3\n",
       "\n",
       "| <!--/--> | chr &lt;fct&gt; | GeneSymbol &lt;chr&gt; | ENSG &lt;chr&gt; |\n",
       "|---|---|---|---|\n",
       "| 1 | chr1 | DDX11L1     | ENSG00000223972.5 |\n",
       "| 13 | chr1 | WASH7P      | ENSG00000227232.5 |\n",
       "| 26 | chr1 | MIR6859-1   | ENSG00000278267.1 |\n",
       "| 29 | chr1 | MIR1302-2HG | ENSG00000243485.5 |\n",
       "| 37 | chr1 | MIR1302-2   | ENSG00000284332.1 |\n",
       "| 40 | chr1 | FAM138A     | ENSG00000237613.2 |\n",
       "\n"
      ],
      "text/plain": [
       "   chr  GeneSymbol  ENSG             \n",
       "1  chr1 DDX11L1     ENSG00000223972.5\n",
       "13 chr1 WASH7P      ENSG00000227232.5\n",
       "26 chr1 MIR6859-1   ENSG00000278267.1\n",
       "29 chr1 MIR1302-2HG ENSG00000243485.5\n",
       "37 chr1 MIR1302-2   ENSG00000284332.1\n",
       "40 chr1 FAM138A     ENSG00000237613.2"
      ]
     },
     "metadata": {},
     "output_type": "display_data"
    }
   ],
   "source": [
    "#\n",
    "# add chr information for summary data later, use the annotation we used for rMATS\n",
    "#\n",
    "if (!(\"gencode.v30.annotation.gtf.gz\" %in% list.files(\"../data/\"))) {\n",
    "    message(\"downloading gencode v30 annotation\\n\")\n",
    "    system(\"wget -O ../data/gencode.v30.annotation.gtf.gz ftp://ftp.ebi.ac.uk/pub/databases/gencode/Gencode_human/release_30/gencode.v30.annotation.gtf.gz\")\n",
    "    message(\"Done!\\n\")\n",
    "    message(\"Unzipping compressed file gencode.v30.annotation.gtf.gz..\")\n",
    "    system(\"gunzip ../data/gencode.v30.annotation.gtf.gz\", intern = TRUE)\n",
    "    message(\"Done! gencode.v30.annotation.gtf can be found in ../data/\")\n",
    "}\n",
    "gencode <- import(\"../data/gencode.v30.annotation.gtf\")\n",
    "gtf.df <- as.data.frame (gencode)\n",
    "chr_genes <- unique(gtf.df[,c(\"seqnames\",\"gene_name\",\"gene_id\")])\n",
    "colnames(chr_genes) <- c(\"chr\",\"GeneSymbol\", \"ENSG\")\n",
    "head(chr_genes)\n"
   ]
  },
  {
   "cell_type": "code",
   "execution_count": 17,
   "metadata": {},
   "outputs": [
    {
     "data": {
      "text/html": [
       "<table>\n",
       "<caption>A data.frame: 6 × 3</caption>\n",
       "<thead>\n",
       "\t<tr><th></th><th scope=col>chr</th><th scope=col>GeneSymbol</th><th scope=col>ENSG</th></tr>\n",
       "\t<tr><th></th><th scope=col>&lt;fct&gt;</th><th scope=col>&lt;chr&gt;</th><th scope=col>&lt;chr&gt;</th></tr>\n",
       "</thead>\n",
       "<tbody>\n",
       "\t<tr><th scope=row>1</th><td>chr1</td><td>DDX11L1    </td><td>ENSG00000223972</td></tr>\n",
       "\t<tr><th scope=row>13</th><td>chr1</td><td>WASH7P     </td><td>ENSG00000227232</td></tr>\n",
       "\t<tr><th scope=row>26</th><td>chr1</td><td>MIR6859-1  </td><td>ENSG00000278267</td></tr>\n",
       "\t<tr><th scope=row>29</th><td>chr1</td><td>MIR1302-2HG</td><td>ENSG00000243485</td></tr>\n",
       "\t<tr><th scope=row>37</th><td>chr1</td><td>MIR1302-2  </td><td>ENSG00000284332</td></tr>\n",
       "\t<tr><th scope=row>40</th><td>chr1</td><td>FAM138A    </td><td>ENSG00000237613</td></tr>\n",
       "</tbody>\n",
       "</table>\n"
      ],
      "text/latex": [
       "A data.frame: 6 × 3\n",
       "\\begin{tabular}{r|lll}\n",
       "  & chr & GeneSymbol & ENSG\\\\\n",
       "  & <fct> & <chr> & <chr>\\\\\n",
       "\\hline\n",
       "\t1 & chr1 & DDX11L1     & ENSG00000223972\\\\\n",
       "\t13 & chr1 & WASH7P      & ENSG00000227232\\\\\n",
       "\t26 & chr1 & MIR6859-1   & ENSG00000278267\\\\\n",
       "\t29 & chr1 & MIR1302-2HG & ENSG00000243485\\\\\n",
       "\t37 & chr1 & MIR1302-2   & ENSG00000284332\\\\\n",
       "\t40 & chr1 & FAM138A     & ENSG00000237613\\\\\n",
       "\\end{tabular}\n"
      ],
      "text/markdown": [
       "\n",
       "A data.frame: 6 × 3\n",
       "\n",
       "| <!--/--> | chr &lt;fct&gt; | GeneSymbol &lt;chr&gt; | ENSG &lt;chr&gt; |\n",
       "|---|---|---|---|\n",
       "| 1 | chr1 | DDX11L1     | ENSG00000223972 |\n",
       "| 13 | chr1 | WASH7P      | ENSG00000227232 |\n",
       "| 26 | chr1 | MIR6859-1   | ENSG00000278267 |\n",
       "| 29 | chr1 | MIR1302-2HG | ENSG00000243485 |\n",
       "| 37 | chr1 | MIR1302-2   | ENSG00000284332 |\n",
       "| 40 | chr1 | FAM138A     | ENSG00000237613 |\n",
       "\n"
      ],
      "text/plain": [
       "   chr  GeneSymbol  ENSG           \n",
       "1  chr1 DDX11L1     ENSG00000223972\n",
       "13 chr1 WASH7P      ENSG00000227232\n",
       "26 chr1 MIR6859-1   ENSG00000278267\n",
       "29 chr1 MIR1302-2HG ENSG00000243485\n",
       "37 chr1 MIR1302-2   ENSG00000284332\n",
       "40 chr1 FAM138A     ENSG00000237613"
      ]
     },
     "metadata": {},
     "output_type": "display_data"
    }
   ],
   "source": [
    "for (i in 1:dim(chr_genes)[1]) {\n",
    "    chr_genes$ENSG[i] <- as.character(strsplit(chr_genes$ENSG[i],'\\\\.\\\\w+$'))\n",
    "}\n",
    "head(chr_genes)"
   ]
  },
  {
   "cell_type": "code",
   "execution_count": 18,
   "metadata": {},
   "outputs": [
    {
     "data": {
      "text/html": [
       "<table>\n",
       "<caption>A data.frame: 6 × 13</caption>\n",
       "<thead>\n",
       "\t<tr><th></th><th scope=col>Tissue</th><th scope=col>ENSG_ver</th><th scope=col>ENSG_no_ver</th><th scope=col>GeneSymbol</th><th scope=col>counts</th><th scope=col>Display</th><th scope=col>logFC</th><th scope=col>AveExpr</th><th scope=col>t</th><th scope=col>PValue</th><th scope=col>AdjPVal</th><th scope=col>B</th><th scope=col>chr</th></tr>\n",
       "\t<tr><th></th><th scope=col>&lt;fct&gt;</th><th scope=col>&lt;fct&gt;</th><th scope=col>&lt;fct&gt;</th><th scope=col>&lt;fct&gt;</th><th scope=col>&lt;int&gt;</th><th scope=col>&lt;fct&gt;</th><th scope=col>&lt;dbl&gt;</th><th scope=col>&lt;dbl&gt;</th><th scope=col>&lt;dbl&gt;</th><th scope=col>&lt;dbl&gt;</th><th scope=col>&lt;dbl&gt;</th><th scope=col>&lt;dbl&gt;</th><th scope=col>&lt;chr&gt;</th></tr>\n",
       "</thead>\n",
       "<tbody>\n",
       "\t<tr><th scope=row>1</th><td>adipose_subcutaneous</td><td>ENSG00000176728.7 </td><td>ENSG00000176728</td><td>TTTY14   </td><td>765</td><td>Adipose (sc)</td><td>-7.982166</td><td>-0.9288129</td><td>-139.8230</td><td>0</td><td>0</td><td>1107.423</td><td>chrY</td></tr>\n",
       "\t<tr><th scope=row>2</th><td>adipose_subcutaneous</td><td>ENSG00000231535.5 </td><td>ENSG00000231535</td><td>LINC00278</td><td>765</td><td>Adipose (sc)</td><td>-6.095420</td><td>-2.7765638</td><td>-126.9138</td><td>0</td><td>0</td><td>1050.366</td><td>chrY</td></tr>\n",
       "\t<tr><th scope=row>3</th><td>adipose_subcutaneous</td><td>ENSG00000129824.15</td><td>ENSG00000129824</td><td>RPS4Y1   </td><td>765</td><td>Adipose (sc)</td><td>-9.664190</td><td> 4.6352877</td><td>-125.8271</td><td>0</td><td>0</td><td>1041.877</td><td>chrY</td></tr>\n",
       "\t<tr><th scope=row>4</th><td>adipose_subcutaneous</td><td>ENSG00000067646.11</td><td>ENSG00000067646</td><td>ZFY      </td><td>765</td><td>Adipose (sc)</td><td>-9.504590</td><td> 0.6727555</td><td>-125.0371</td><td>0</td><td>0</td><td>1033.611</td><td>chrY</td></tr>\n",
       "\t<tr><th scope=row>5</th><td>adipose_subcutaneous</td><td>ENSG00000229807.10</td><td>ENSG00000229807</td><td>XIST     </td><td>765</td><td>Adipose (sc)</td><td> 9.892810</td><td> 1.2375604</td><td> 121.6969</td><td>0</td><td>0</td><td>1030.178</td><td>chrX</td></tr>\n",
       "\t<tr><th scope=row>6</th><td>adipose_subcutaneous</td><td>ENSG00000229236.1 </td><td>ENSG00000229236</td><td>TTTY10   </td><td>765</td><td>Adipose (sc)</td><td>-6.209013</td><td>-2.7452436</td><td>-122.5403</td><td>0</td><td>0</td><td>1029.414</td><td>chrY</td></tr>\n",
       "</tbody>\n",
       "</table>\n"
      ],
      "text/latex": [
       "A data.frame: 6 × 13\n",
       "\\begin{tabular}{r|lllllllllllll}\n",
       "  & Tissue & ENSG\\_ver & ENSG\\_no\\_ver & GeneSymbol & counts & Display & logFC & AveExpr & t & PValue & AdjPVal & B & chr\\\\\n",
       "  & <fct> & <fct> & <fct> & <fct> & <int> & <fct> & <dbl> & <dbl> & <dbl> & <dbl> & <dbl> & <dbl> & <chr>\\\\\n",
       "\\hline\n",
       "\t1 & adipose\\_subcutaneous & ENSG00000176728.7  & ENSG00000176728 & TTTY14    & 765 & Adipose (sc) & -7.982166 & -0.9288129 & -139.8230 & 0 & 0 & 1107.423 & chrY\\\\\n",
       "\t2 & adipose\\_subcutaneous & ENSG00000231535.5  & ENSG00000231535 & LINC00278 & 765 & Adipose (sc) & -6.095420 & -2.7765638 & -126.9138 & 0 & 0 & 1050.366 & chrY\\\\\n",
       "\t3 & adipose\\_subcutaneous & ENSG00000129824.15 & ENSG00000129824 & RPS4Y1    & 765 & Adipose (sc) & -9.664190 &  4.6352877 & -125.8271 & 0 & 0 & 1041.877 & chrY\\\\\n",
       "\t4 & adipose\\_subcutaneous & ENSG00000067646.11 & ENSG00000067646 & ZFY       & 765 & Adipose (sc) & -9.504590 &  0.6727555 & -125.0371 & 0 & 0 & 1033.611 & chrY\\\\\n",
       "\t5 & adipose\\_subcutaneous & ENSG00000229807.10 & ENSG00000229807 & XIST      & 765 & Adipose (sc) &  9.892810 &  1.2375604 &  121.6969 & 0 & 0 & 1030.178 & chrX\\\\\n",
       "\t6 & adipose\\_subcutaneous & ENSG00000229236.1  & ENSG00000229236 & TTTY10    & 765 & Adipose (sc) & -6.209013 & -2.7452436 & -122.5403 & 0 & 0 & 1029.414 & chrY\\\\\n",
       "\\end{tabular}\n"
      ],
      "text/markdown": [
       "\n",
       "A data.frame: 6 × 13\n",
       "\n",
       "| <!--/--> | Tissue &lt;fct&gt; | ENSG_ver &lt;fct&gt; | ENSG_no_ver &lt;fct&gt; | GeneSymbol &lt;fct&gt; | counts &lt;int&gt; | Display &lt;fct&gt; | logFC &lt;dbl&gt; | AveExpr &lt;dbl&gt; | t &lt;dbl&gt; | PValue &lt;dbl&gt; | AdjPVal &lt;dbl&gt; | B &lt;dbl&gt; | chr &lt;chr&gt; |\n",
       "|---|---|---|---|---|---|---|---|---|---|---|---|---|---|\n",
       "| 1 | adipose_subcutaneous | ENSG00000176728.7  | ENSG00000176728 | TTTY14    | 765 | Adipose (sc) | -7.982166 | -0.9288129 | -139.8230 | 0 | 0 | 1107.423 | chrY |\n",
       "| 2 | adipose_subcutaneous | ENSG00000231535.5  | ENSG00000231535 | LINC00278 | 765 | Adipose (sc) | -6.095420 | -2.7765638 | -126.9138 | 0 | 0 | 1050.366 | chrY |\n",
       "| 3 | adipose_subcutaneous | ENSG00000129824.15 | ENSG00000129824 | RPS4Y1    | 765 | Adipose (sc) | -9.664190 |  4.6352877 | -125.8271 | 0 | 0 | 1041.877 | chrY |\n",
       "| 4 | adipose_subcutaneous | ENSG00000067646.11 | ENSG00000067646 | ZFY       | 765 | Adipose (sc) | -9.504590 |  0.6727555 | -125.0371 | 0 | 0 | 1033.611 | chrY |\n",
       "| 5 | adipose_subcutaneous | ENSG00000229807.10 | ENSG00000229807 | XIST      | 765 | Adipose (sc) |  9.892810 |  1.2375604 |  121.6969 | 0 | 0 | 1030.178 | chrX |\n",
       "| 6 | adipose_subcutaneous | ENSG00000229236.1  | ENSG00000229236 | TTTY10    | 765 | Adipose (sc) | -6.209013 | -2.7452436 | -122.5403 | 0 | 0 | 1029.414 | chrY |\n",
       "\n"
      ],
      "text/plain": [
       "  Tissue               ENSG_ver           ENSG_no_ver     GeneSymbol counts\n",
       "1 adipose_subcutaneous ENSG00000176728.7  ENSG00000176728 TTTY14     765   \n",
       "2 adipose_subcutaneous ENSG00000231535.5  ENSG00000231535 LINC00278  765   \n",
       "3 adipose_subcutaneous ENSG00000129824.15 ENSG00000129824 RPS4Y1     765   \n",
       "4 adipose_subcutaneous ENSG00000067646.11 ENSG00000067646 ZFY        765   \n",
       "5 adipose_subcutaneous ENSG00000229807.10 ENSG00000229807 XIST       765   \n",
       "6 adipose_subcutaneous ENSG00000229236.1  ENSG00000229236 TTTY10     765   \n",
       "  Display      logFC     AveExpr    t         PValue AdjPVal B        chr \n",
       "1 Adipose (sc) -7.982166 -0.9288129 -139.8230 0      0       1107.423 chrY\n",
       "2 Adipose (sc) -6.095420 -2.7765638 -126.9138 0      0       1050.366 chrY\n",
       "3 Adipose (sc) -9.664190  4.6352877 -125.8271 0      0       1041.877 chrY\n",
       "4 Adipose (sc) -9.504590  0.6727555 -125.0371 0      0       1033.611 chrY\n",
       "5 Adipose (sc)  9.892810  1.2375604  121.6969 0      0       1030.178 chrX\n",
       "6 Adipose (sc) -6.209013 -2.7452436 -122.5403 0      0       1029.414 chrY"
      ]
     },
     "metadata": {},
     "output_type": "display_data"
    }
   ],
   "source": [
    "i = 1\n",
    "chr <- rep(\"NA\",dim(gene_dge)[1])\n",
    "gene_dge$chr <- chr\n",
    "for (i in 1:dim(gene_dge)[1]) {\n",
    "    match  <- as.character(chr_genes$ENSG) %in% as.character((gene_dge$ENSG_no_ver[i]))\n",
    "    if (sum(match==TRUE)== 1) {\n",
    "        chr[i] <- as.character(chr_genes[match,]$chr)\n",
    "        gene_dge$chr[i] <- chr[i]\n",
    "    } else if (sum(match==TRUE)>1) {\n",
    "        all <- as.vector(as.character(chr_genes[match,]$chr))\n",
    "        gene_dge$chr[i] <- as.character(all[1])\n",
    "    }\n",
    "}\n",
    "head(gene_dge)\n",
    "\n",
    "write.table(gene_dge, \"../data/gene_dge.tsv\", quote=FALSE, sep=\"\\t\")"
   ]
  },
  {
   "cell_type": "markdown",
   "metadata": {},
   "source": [
    "### 2.8 Summary gene_as and gene_dge regarding events by tissue"
   ]
  },
  {
   "cell_type": "code",
   "execution_count": 19,
   "metadata": {},
   "outputs": [
    {
     "data": {
      "text/html": [
       "<table>\n",
       "<caption>A tibble: 6 × 2</caption>\n",
       "<thead>\n",
       "\t<tr><th scope=col>Tissue</th><th scope=col>n</th></tr>\n",
       "\t<tr><th scope=col>&lt;fct&gt;</th><th scope=col>&lt;int&gt;</th></tr>\n",
       "</thead>\n",
       "<tbody>\n",
       "\t<tr><td>brain_spinal_cord_cervical_c_1   </td><td>3</td></tr>\n",
       "\t<tr><td>cells_ebv_transformed_lymphocytes</td><td>3</td></tr>\n",
       "\t<tr><td>brain_frontal_cortex_ba_9        </td><td>5</td></tr>\n",
       "\t<tr><td>brain_putamen_basal_ganglia      </td><td>6</td></tr>\n",
       "\t<tr><td>whole_blood                      </td><td>6</td></tr>\n",
       "\t<tr><td>colon_sigmoid                    </td><td>7</td></tr>\n",
       "</tbody>\n",
       "</table>\n"
      ],
      "text/latex": [
       "A tibble: 6 × 2\n",
       "\\begin{tabular}{ll}\n",
       " Tissue & n\\\\\n",
       " <fct> & <int>\\\\\n",
       "\\hline\n",
       "\t brain\\_spinal\\_cord\\_cervical\\_c\\_1    & 3\\\\\n",
       "\t cells\\_ebv\\_transformed\\_lymphocytes & 3\\\\\n",
       "\t brain\\_frontal\\_cortex\\_ba\\_9         & 5\\\\\n",
       "\t brain\\_putamen\\_basal\\_ganglia       & 6\\\\\n",
       "\t whole\\_blood                       & 6\\\\\n",
       "\t colon\\_sigmoid                     & 7\\\\\n",
       "\\end{tabular}\n"
      ],
      "text/markdown": [
       "\n",
       "A tibble: 6 × 2\n",
       "\n",
       "| Tissue &lt;fct&gt; | n &lt;int&gt; |\n",
       "|---|---|\n",
       "| brain_spinal_cord_cervical_c_1    | 3 |\n",
       "| cells_ebv_transformed_lymphocytes | 3 |\n",
       "| brain_frontal_cortex_ba_9         | 5 |\n",
       "| brain_putamen_basal_ganglia       | 6 |\n",
       "| whole_blood                       | 6 |\n",
       "| colon_sigmoid                     | 7 |\n",
       "\n"
      ],
      "text/plain": [
       "  Tissue                            n\n",
       "1 brain_spinal_cord_cervical_c_1    3\n",
       "2 cells_ebv_transformed_lymphocytes 3\n",
       "3 brain_frontal_cortex_ba_9         5\n",
       "4 brain_putamen_basal_ganglia       6\n",
       "5 whole_blood                       6\n",
       "6 colon_sigmoid                     7"
      ]
     },
     "metadata": {},
     "output_type": "display_data"
    },
    {
     "name": "stderr",
     "output_type": "stream",
     "text": [
      "Minimum splicing events per tissue 3 maximum splicing events per tissue 3635\n",
      "\n"
     ]
    },
    {
     "data": {
      "text/html": [
       "38"
      ],
      "text/latex": [
       "38"
      ],
      "text/markdown": [
       "38"
      ],
      "text/plain": [
       "[1] 38"
      ]
     },
     "metadata": {},
     "output_type": "display_data"
    },
    {
     "data": {
      "text/html": [
       "<table>\n",
       "<caption>A tibble: 6 × 2</caption>\n",
       "<thead>\n",
       "\t<tr><th scope=col>Tissue</th><th scope=col>n</th></tr>\n",
       "\t<tr><th scope=col>&lt;fct&gt;</th><th scope=col>&lt;int&gt;</th></tr>\n",
       "</thead>\n",
       "<tbody>\n",
       "\t<tr><td>cells_ebv_transformed_lymphocytes    </td><td>66</td></tr>\n",
       "\t<tr><td>brain_spinal_cord_cervical_c_1       </td><td>68</td></tr>\n",
       "\t<tr><td>brain_hypothalamus                   </td><td>73</td></tr>\n",
       "\t<tr><td>brain_hippocampus                    </td><td>74</td></tr>\n",
       "\t<tr><td>brain_nucleus_accumbens_basal_ganglia</td><td>80</td></tr>\n",
       "\t<tr><td>colon_transverse                     </td><td>81</td></tr>\n",
       "</tbody>\n",
       "</table>\n"
      ],
      "text/latex": [
       "A tibble: 6 × 2\n",
       "\\begin{tabular}{ll}\n",
       " Tissue & n\\\\\n",
       " <fct> & <int>\\\\\n",
       "\\hline\n",
       "\t cells\\_ebv\\_transformed\\_lymphocytes     & 66\\\\\n",
       "\t brain\\_spinal\\_cord\\_cervical\\_c\\_1        & 68\\\\\n",
       "\t brain\\_hypothalamus                    & 73\\\\\n",
       "\t brain\\_hippocampus                     & 74\\\\\n",
       "\t brain\\_nucleus\\_accumbens\\_basal\\_ganglia & 80\\\\\n",
       "\t colon\\_transverse                      & 81\\\\\n",
       "\\end{tabular}\n"
      ],
      "text/markdown": [
       "\n",
       "A tibble: 6 × 2\n",
       "\n",
       "| Tissue &lt;fct&gt; | n &lt;int&gt; |\n",
       "|---|---|\n",
       "| cells_ebv_transformed_lymphocytes     | 66 |\n",
       "| brain_spinal_cord_cervical_c_1        | 68 |\n",
       "| brain_hypothalamus                    | 73 |\n",
       "| brain_hippocampus                     | 74 |\n",
       "| brain_nucleus_accumbens_basal_ganglia | 80 |\n",
       "| colon_transverse                      | 81 |\n",
       "\n"
      ],
      "text/plain": [
       "  Tissue                                n \n",
       "1 cells_ebv_transformed_lymphocytes     66\n",
       "2 brain_spinal_cord_cervical_c_1        68\n",
       "3 brain_hypothalamus                    73\n",
       "4 brain_hippocampus                     74\n",
       "5 brain_nucleus_accumbens_basal_ganglia 80\n",
       "6 colon_transverse                      81"
      ]
     },
     "metadata": {},
     "output_type": "display_data"
    },
    {
     "name": "stderr",
     "output_type": "stream",
     "text": [
      "Minimum gene expression events per tissue 66 maximum gene expression events per tissue 5433\n",
      "\n"
     ]
    },
    {
     "data": {
      "text/html": [
       "12"
      ],
      "text/latex": [
       "12"
      ],
      "text/markdown": [
       "12"
      ],
      "text/plain": [
       "[1] 12"
      ]
     },
     "metadata": {},
     "output_type": "display_data"
    }
   ],
   "source": [
    "XY <- gene_as %>% group_by(Tissue) %>% tally()\n",
    "XY <- XY[order(XY$n),decreasing=TRUE]\n",
    "head(XY)\n",
    "message(\"Minimum splicing events per tissue \", min(XY$n), \" maximum splicing events per tissue \", max(XY$n))\n",
    "#XY[XY$n>100,]\n",
    "sum(XY$n<100)\n",
    "\n",
    "XY <- gene_dge %>% group_by(Tissue) %>% tally()\n",
    "XY <- XY[order(XY$n),decreasing=TRUE]\n",
    "head(XY)\n",
    "message(\"Minimum gene expression events per tissue \", min(XY$n), \" maximum gene expression events per tissue \", max(XY$n))\n",
    "#XY[XY$n>100,]\n",
    "sum(XY$n<100)"
   ]
  },
  {
   "cell_type": "code",
   "execution_count": null,
   "metadata": {},
   "outputs": [],
   "source": []
  },
  {
   "cell_type": "code",
   "execution_count": 20,
   "metadata": {},
   "outputs": [
    {
     "data": {
      "text/plain": [
       "\n",
       "          3prime_overlapping_ncRNA                          antisense \n",
       "                               152                              46899 \n",
       "     bidirectional_promoter_lncRNA                          IG_C_gene \n",
       "                              1655                                296 \n",
       "                   IG_C_pseudogene                          IG_D_gene \n",
       "                                33                                152 \n",
       "                         IG_J_gene                    IG_J_pseudogene \n",
       "                                76                                  9 \n",
       "                     IG_pseudogene                          IG_V_gene \n",
       "                                 3                               1169 \n",
       "                   IG_V_pseudogene                            lincRNA \n",
       "                               664                              65178 \n",
       "                      macro_lncRNA                              miRNA \n",
       "                                 3                               5643 \n",
       "                          misc_RNA                            Mt_rRNA \n",
       "                              6636                                  6 \n",
       "                           Mt_tRNA                         non_coding \n",
       "                                66                                  3 \n",
       "            polymorphic_pseudogene               processed_pseudogene \n",
       "                              1876                              32130 \n",
       "              processed_transcript                     protein_coding \n",
       "                             20539                            2529002 \n",
       "                        pseudogene                           ribozyme \n",
       "                                76                                 24 \n",
       "                              rRNA                    rRNA_pseudogene \n",
       "                               156                               1500 \n",
       "                            scaRNA                              scRNA \n",
       "                               147                                  3 \n",
       "                    sense_intronic                  sense_overlapping \n",
       "                              3550                               1536 \n",
       "                            snoRNA                              snRNA \n",
       "                              2850                               5703 \n",
       "                              sRNA                                TEC \n",
       "                                15                               3262 \n",
       "                         TR_C_gene                          TR_D_gene \n",
       "                                70                                 16 \n",
       "                         TR_J_gene                    TR_J_pseudogene \n",
       "                               316                                 12 \n",
       "                         TR_V_gene                    TR_V_pseudogene \n",
       "                               826                                123 \n",
       "  transcribed_processed_pseudogene     transcribed_unitary_pseudogene \n",
       "                              4236                               4601 \n",
       "transcribed_unprocessed_pseudogene    translated_processed_pseudogene \n",
       "                             19345                                  8 \n",
       "                unitary_pseudogene             unprocessed_pseudogene \n",
       "                               485                              13246 \n",
       "                          vaultRNA \n",
       "                                 3 "
      ]
     },
     "metadata": {},
     "output_type": "display_data"
    }
   ],
   "source": [
    "table(gtf.df[,c(\"gene_type\")])\n"
   ]
  },
  {
   "cell_type": "markdown",
   "metadata": {},
   "source": [
    "### 3 Data Structures for Figures"
   ]
  },
  {
   "cell_type": "markdown",
   "metadata": {},
   "source": [
    "### 3.1 gene_as.tsv\n",
    "\n",
    "This file contains (description)\n",
    "Here is a typical line\n",
    "<pre>\n",
    "A data.frame: 6 × 15\n",
    "GeneJunction\tASE\tASE_IDX\tTissue\tcounts\tDisplay\tGeneSymbol\tGeneID\tchr\tlogFC\tAveExpr\tt\tPValue\tAdjPVal\tB\n",
    "<fct>\t<fct>\t<int>\t<fct>\t<int>\t<fct>\t<fct>\t<fct>\t<fct>\t<dbl>\t<dbl>\t<dbl>\t<dbl>\t<dbl>\t<dbl>\n",
    "1\tXIST-2253\tA3SS\t2253\tadipose_subcutaneous\t4\tAdipose (sc)\tXIST\tENSG00000229807.11\tchrX\t-4.4086049\t3.196317\t-36.488970\t4.635568e-154\t3.893877e-150\t310.016049\n",
    "2\tXIST-2252\tA3SS\t2252\tadipose_subcutaneous\t4\tAdipose (sc)\tXIST\tENSG00000229807.11\tchrX\t-2.4147126\t3.647690\t-21.921057\t1.444102e-78\t6.065229e-75\t160.028167\n",
    "3\tGREB1L-4933\tA3SS\t4933\tadipose_subcutaneous\t4\tAdipose (sc)\tGREB1L\tENSG00000141449.14\tchr18\t1.2793173\t2.115005\t7.123138\t3.052112e-12\t8.545914e-09\t16.692429\n",
    "4\tRHCG-1776\tA3SS\t1776\tadipose_subcutaneous\t4\tAdipose (sc)\tRHCG\tENSG00000140519.14\tchr15\t-0.6930009\t1.636472\t-3.922124\t9.797866e-05\t3.919146e-02\t1.142232\n",
    "5\tXIST-2253\tA3SS\t2253\tadipose_visceral_omentum\t12\tAdipose (v)\tXIST\tENSG00000229807.11\tchrX\t-4.4403352\t3.113532\t-33.950800\t2.654474e-123\t2.209585e-119\t241.826117\n",
    "6\tXIST-2252\tA3SS\t2252\tadipose_visceral_omentum\t12\tAdipose (v)\tXIST\tENSG00000229807.11\tchrX\t-2.4506832\t3.650617\t-18.890779\t2.817671e-58\t1.172715e-54\t114.731682\n",
    "</pre>\n",
    "There are 2887 significant events in the file."
   ]
  },
  {
   "cell_type": "code",
   "execution_count": 21,
   "metadata": {},
   "outputs": [
    {
     "name": "stdout",
     "output_type": "stream",
     "text": [
      "Rows: 4,227\n",
      "Columns: 15\n",
      "$ GeneJunction \u001b[3m\u001b[90m<fct>\u001b[39m\u001b[23m XIST-2253, XIST-2252, GREB1L-4933, XIST-2253, XIST-2252,…\n",
      "$ ASE          \u001b[3m\u001b[90m<fct>\u001b[39m\u001b[23m A3SS, A3SS, A3SS, A3SS, A3SS, A3SS, A3SS, A3SS, A3SS, A3…\n",
      "$ ASE_IDX      \u001b[3m\u001b[90m<int>\u001b[39m\u001b[23m 2253, 2252, 4933, 2253, 2252, 4819, 4820, 4818, 2253, 22…\n",
      "$ Tissue       \u001b[3m\u001b[90m<fct>\u001b[39m\u001b[23m adipose_subcutaneous, adipose_subcutaneous, adipose_subc…\n",
      "$ counts       \u001b[3m\u001b[90m<int>\u001b[39m\u001b[23m 3, 3, 3, 5, 5, 5, 5, 5, 3, 3, 3, 5, 5, 5, 5, 5, 2, 2, 2,…\n",
      "$ Display      \u001b[3m\u001b[90m<fct>\u001b[39m\u001b[23m Adipose (sc), Adipose (sc), Adipose (sc), Adipose (v), A…\n",
      "$ GeneSymbol   \u001b[3m\u001b[90m<fct>\u001b[39m\u001b[23m XIST, XIST, GREB1L, XIST, XIST, WNT2, WNT2, WNT2, XIST, …\n",
      "$ GeneID       \u001b[3m\u001b[90m<fct>\u001b[39m\u001b[23m ENSG00000229807.11, ENSG00000229807.11, ENSG00000141449.…\n",
      "$ chr          \u001b[3m\u001b[90m<fct>\u001b[39m\u001b[23m chrX, chrX, chr18, chrX, chrX, chr7, chr7, chr7, chrX, c…\n",
      "$ logFC        \u001b[3m\u001b[90m<dbl>\u001b[39m\u001b[23m -4.4108049, -2.4091768, 1.2953344, -4.4372406, -2.426384…\n",
      "$ AveExpr      \u001b[3m\u001b[90m<dbl>\u001b[39m\u001b[23m 3.196555, 3.647928, 2.115243, 3.113743, 3.650827, 1.8386…\n",
      "$ t            \u001b[3m\u001b[90m<dbl>\u001b[39m\u001b[23m -32.930769, -19.334052, 6.018485, -30.374705, -16.219499…\n",
      "$ PValue       \u001b[3m\u001b[90m<dbl>\u001b[39m\u001b[23m 2.619152e-136, 5.027809e-65, 3.078604e-09, 1.016859e-108…\n",
      "$ AdjPVal      \u001b[3m\u001b[90m<dbl>\u001b[39m\u001b[23m 2.015438e-132, 1.934450e-61, 7.896619e-06, 7.875573e-105…\n",
      "$ B            \u001b[3m\u001b[90m<dbl>\u001b[39m\u001b[23m 262.436754, 126.806214, 9.901233, 201.597748, 86.370359,…\n"
     ]
    },
    {
     "data": {
      "text/html": [
       "39"
      ],
      "text/latex": [
       "39"
      ],
      "text/markdown": [
       "39"
      ],
      "text/plain": [
       "[1] 39"
      ]
     },
     "metadata": {},
     "output_type": "display_data"
    },
    {
     "data": {
      "text/plain": [
       "\n",
       "FALSE \n",
       " 4227 "
      ]
     },
     "metadata": {},
     "output_type": "display_data"
    },
    {
     "data": {
      "text/plain": [
       "\n",
       "         Adipose (sc)           Adipose (v)         Adrenal gland \n",
       "                   21                    17                    18 \n",
       "                Aorta      Atrial appendage                Breast \n",
       "                   37                    17                  3635 \n",
       "              Caudate Cerebellar hemisphere            Cerebellum \n",
       "                    9                     8                     8 \n",
       "      Coronary artery                Cortex       EBV-lymphocytes \n",
       "                   10                     8                     3 \n",
       "      Esophagus (gej)         Esophagus (m)        Esophagus (mu) \n",
       "                    8                    13                    59 \n",
       "          Fibroblasts        Frontal cortex           Hippocampus \n",
       "                   23                     5                    11 \n",
       "         Hypothalamus        Left ventricle                 Liver \n",
       "                    9                    14                    11 \n",
       "                 Lung     Nucleus accumbens              Pancreas \n",
       "                   17                    15                    21 \n",
       "            Pituitary               Putamen         Sigmoid colon \n",
       "                   27                     6                     7 \n",
       "      Skeletal muscle        Skin (exposed)    Skin (not exposed) \n",
       "                   47                    28                    10 \n",
       "      Small intestine           Spinal cord                Spleen \n",
       "                   11                     3                     9 \n",
       "              Stomach               Thyroid         Tibial artery \n",
       "                   16                    24                    16 \n",
       "         Tibial nerve      Transverse colon           Whole blood \n",
       "                    8                    12                     6 "
      ]
     },
     "metadata": {},
     "output_type": "display_data"
    },
    {
     "data": {
      "text/html": [
       "<style>\n",
       ".list-inline {list-style: none; margin:0; padding: 0}\n",
       ".list-inline>li {display: inline-block}\n",
       ".list-inline>li:not(:last-child)::after {content: \"\\00b7\"; padding: 0 .5ex}\n",
       "</style>\n",
       "<ol class=list-inline><li>'GeneJunction'</li><li>'ASE'</li><li>'ASE_IDX'</li><li>'Tissue'</li><li>'counts'</li><li>'Display'</li><li>'GeneSymbol'</li><li>'GeneID'</li><li>'chr'</li><li>'logFC'</li><li>'AveExpr'</li><li>'t'</li><li>'PValue'</li><li>'AdjPVal'</li><li>'B'</li></ol>\n"
      ],
      "text/latex": [
       "\\begin{enumerate*}\n",
       "\\item 'GeneJunction'\n",
       "\\item 'ASE'\n",
       "\\item 'ASE\\_IDX'\n",
       "\\item 'Tissue'\n",
       "\\item 'counts'\n",
       "\\item 'Display'\n",
       "\\item 'GeneSymbol'\n",
       "\\item 'GeneID'\n",
       "\\item 'chr'\n",
       "\\item 'logFC'\n",
       "\\item 'AveExpr'\n",
       "\\item 't'\n",
       "\\item 'PValue'\n",
       "\\item 'AdjPVal'\n",
       "\\item 'B'\n",
       "\\end{enumerate*}\n"
      ],
      "text/markdown": [
       "1. 'GeneJunction'\n",
       "2. 'ASE'\n",
       "3. 'ASE_IDX'\n",
       "4. 'Tissue'\n",
       "5. 'counts'\n",
       "6. 'Display'\n",
       "7. 'GeneSymbol'\n",
       "8. 'GeneID'\n",
       "9. 'chr'\n",
       "10. 'logFC'\n",
       "11. 'AveExpr'\n",
       "12. 't'\n",
       "13. 'PValue'\n",
       "14. 'AdjPVal'\n",
       "15. 'B'\n",
       "\n",
       "\n"
      ],
      "text/plain": [
       " [1] \"GeneJunction\" \"ASE\"          \"ASE_IDX\"      \"Tissue\"       \"counts\"      \n",
       " [6] \"Display\"      \"GeneSymbol\"   \"GeneID\"       \"chr\"          \"logFC\"       \n",
       "[11] \"AveExpr\"      \"t\"            \"PValue\"       \"AdjPVal\"      \"B\"           "
      ]
     },
     "metadata": {},
     "output_type": "display_data"
    },
    {
     "data": {
      "text/html": [
       "<table>\n",
       "<caption>A data.frame: 6 × 15</caption>\n",
       "<thead>\n",
       "\t<tr><th></th><th scope=col>GeneJunction</th><th scope=col>ASE</th><th scope=col>ASE_IDX</th><th scope=col>Tissue</th><th scope=col>counts</th><th scope=col>Display</th><th scope=col>GeneSymbol</th><th scope=col>GeneID</th><th scope=col>chr</th><th scope=col>logFC</th><th scope=col>AveExpr</th><th scope=col>t</th><th scope=col>PValue</th><th scope=col>AdjPVal</th><th scope=col>B</th></tr>\n",
       "\t<tr><th></th><th scope=col>&lt;fct&gt;</th><th scope=col>&lt;fct&gt;</th><th scope=col>&lt;int&gt;</th><th scope=col>&lt;fct&gt;</th><th scope=col>&lt;int&gt;</th><th scope=col>&lt;fct&gt;</th><th scope=col>&lt;fct&gt;</th><th scope=col>&lt;fct&gt;</th><th scope=col>&lt;fct&gt;</th><th scope=col>&lt;dbl&gt;</th><th scope=col>&lt;dbl&gt;</th><th scope=col>&lt;dbl&gt;</th><th scope=col>&lt;dbl&gt;</th><th scope=col>&lt;dbl&gt;</th><th scope=col>&lt;dbl&gt;</th></tr>\n",
       "</thead>\n",
       "<tbody>\n",
       "\t<tr><th scope=row>1</th><td>XIST-2253  </td><td>A3SS</td><td>2253</td><td>adipose_subcutaneous    </td><td>3</td><td>Adipose (sc)</td><td>XIST  </td><td>ENSG00000229807.11</td><td>chrX </td><td>-4.410805</td><td>3.196555</td><td>-32.930769</td><td>2.619152e-136</td><td>2.015438e-132</td><td>262.436754</td></tr>\n",
       "\t<tr><th scope=row>2</th><td>XIST-2252  </td><td>A3SS</td><td>2252</td><td>adipose_subcutaneous    </td><td>3</td><td>Adipose (sc)</td><td>XIST  </td><td>ENSG00000229807.11</td><td>chrX </td><td>-2.409177</td><td>3.647928</td><td>-19.334052</td><td> 5.027809e-65</td><td> 1.934450e-61</td><td>126.806214</td></tr>\n",
       "\t<tr><th scope=row>3</th><td>GREB1L-4933</td><td>A3SS</td><td>4933</td><td>adipose_subcutaneous    </td><td>3</td><td>Adipose (sc)</td><td>GREB1L</td><td>ENSG00000141449.14</td><td>chr18</td><td> 1.295334</td><td>2.115243</td><td>  6.018485</td><td> 3.078604e-09</td><td> 7.896619e-06</td><td>  9.901233</td></tr>\n",
       "\t<tr><th scope=row>4</th><td>XIST-2253  </td><td>A3SS</td><td>2253</td><td>adipose_visceral_omentum</td><td>5</td><td>Adipose (v) </td><td>XIST  </td><td>ENSG00000229807.11</td><td>chrX </td><td>-4.437241</td><td>3.113743</td><td>-30.374705</td><td>1.016859e-108</td><td>7.875573e-105</td><td>201.597748</td></tr>\n",
       "\t<tr><th scope=row>5</th><td>XIST-2252  </td><td>A3SS</td><td>2252</td><td>adipose_visceral_omentum</td><td>5</td><td>Adipose (v) </td><td>XIST  </td><td>ENSG00000229807.11</td><td>chrX </td><td>-2.426385</td><td>3.650827</td><td>-16.219499</td><td> 1.975616e-46</td><td> 7.650575e-43</td><td> 86.370359</td></tr>\n",
       "\t<tr><th scope=row>6</th><td>WNT2-4819  </td><td>A3SS</td><td>4819</td><td>adipose_visceral_omentum</td><td>5</td><td>Adipose (v) </td><td>WNT2  </td><td>ENSG00000105989.9 </td><td>chr7 </td><td>-1.186538</td><td>1.838681</td><td> -4.809101</td><td> 2.105789e-06</td><td> 5.436446e-03</td><td>  4.248557</td></tr>\n",
       "</tbody>\n",
       "</table>\n"
      ],
      "text/latex": [
       "A data.frame: 6 × 15\n",
       "\\begin{tabular}{r|lllllllllllllll}\n",
       "  & GeneJunction & ASE & ASE\\_IDX & Tissue & counts & Display & GeneSymbol & GeneID & chr & logFC & AveExpr & t & PValue & AdjPVal & B\\\\\n",
       "  & <fct> & <fct> & <int> & <fct> & <int> & <fct> & <fct> & <fct> & <fct> & <dbl> & <dbl> & <dbl> & <dbl> & <dbl> & <dbl>\\\\\n",
       "\\hline\n",
       "\t1 & XIST-2253   & A3SS & 2253 & adipose\\_subcutaneous     & 3 & Adipose (sc) & XIST   & ENSG00000229807.11 & chrX  & -4.410805 & 3.196555 & -32.930769 & 2.619152e-136 & 2.015438e-132 & 262.436754\\\\\n",
       "\t2 & XIST-2252   & A3SS & 2252 & adipose\\_subcutaneous     & 3 & Adipose (sc) & XIST   & ENSG00000229807.11 & chrX  & -2.409177 & 3.647928 & -19.334052 &  5.027809e-65 &  1.934450e-61 & 126.806214\\\\\n",
       "\t3 & GREB1L-4933 & A3SS & 4933 & adipose\\_subcutaneous     & 3 & Adipose (sc) & GREB1L & ENSG00000141449.14 & chr18 &  1.295334 & 2.115243 &   6.018485 &  3.078604e-09 &  7.896619e-06 &   9.901233\\\\\n",
       "\t4 & XIST-2253   & A3SS & 2253 & adipose\\_visceral\\_omentum & 5 & Adipose (v)  & XIST   & ENSG00000229807.11 & chrX  & -4.437241 & 3.113743 & -30.374705 & 1.016859e-108 & 7.875573e-105 & 201.597748\\\\\n",
       "\t5 & XIST-2252   & A3SS & 2252 & adipose\\_visceral\\_omentum & 5 & Adipose (v)  & XIST   & ENSG00000229807.11 & chrX  & -2.426385 & 3.650827 & -16.219499 &  1.975616e-46 &  7.650575e-43 &  86.370359\\\\\n",
       "\t6 & WNT2-4819   & A3SS & 4819 & adipose\\_visceral\\_omentum & 5 & Adipose (v)  & WNT2   & ENSG00000105989.9  & chr7  & -1.186538 & 1.838681 &  -4.809101 &  2.105789e-06 &  5.436446e-03 &   4.248557\\\\\n",
       "\\end{tabular}\n"
      ],
      "text/markdown": [
       "\n",
       "A data.frame: 6 × 15\n",
       "\n",
       "| <!--/--> | GeneJunction &lt;fct&gt; | ASE &lt;fct&gt; | ASE_IDX &lt;int&gt; | Tissue &lt;fct&gt; | counts &lt;int&gt; | Display &lt;fct&gt; | GeneSymbol &lt;fct&gt; | GeneID &lt;fct&gt; | chr &lt;fct&gt; | logFC &lt;dbl&gt; | AveExpr &lt;dbl&gt; | t &lt;dbl&gt; | PValue &lt;dbl&gt; | AdjPVal &lt;dbl&gt; | B &lt;dbl&gt; |\n",
       "|---|---|---|---|---|---|---|---|---|---|---|---|---|---|---|---|\n",
       "| 1 | XIST-2253   | A3SS | 2253 | adipose_subcutaneous     | 3 | Adipose (sc) | XIST   | ENSG00000229807.11 | chrX  | -4.410805 | 3.196555 | -32.930769 | 2.619152e-136 | 2.015438e-132 | 262.436754 |\n",
       "| 2 | XIST-2252   | A3SS | 2252 | adipose_subcutaneous     | 3 | Adipose (sc) | XIST   | ENSG00000229807.11 | chrX  | -2.409177 | 3.647928 | -19.334052 |  5.027809e-65 |  1.934450e-61 | 126.806214 |\n",
       "| 3 | GREB1L-4933 | A3SS | 4933 | adipose_subcutaneous     | 3 | Adipose (sc) | GREB1L | ENSG00000141449.14 | chr18 |  1.295334 | 2.115243 |   6.018485 |  3.078604e-09 |  7.896619e-06 |   9.901233 |\n",
       "| 4 | XIST-2253   | A3SS | 2253 | adipose_visceral_omentum | 5 | Adipose (v)  | XIST   | ENSG00000229807.11 | chrX  | -4.437241 | 3.113743 | -30.374705 | 1.016859e-108 | 7.875573e-105 | 201.597748 |\n",
       "| 5 | XIST-2252   | A3SS | 2252 | adipose_visceral_omentum | 5 | Adipose (v)  | XIST   | ENSG00000229807.11 | chrX  | -2.426385 | 3.650827 | -16.219499 |  1.975616e-46 |  7.650575e-43 |  86.370359 |\n",
       "| 6 | WNT2-4819   | A3SS | 4819 | adipose_visceral_omentum | 5 | Adipose (v)  | WNT2   | ENSG00000105989.9  | chr7  | -1.186538 | 1.838681 |  -4.809101 |  2.105789e-06 |  5.436446e-03 |   4.248557 |\n",
       "\n"
      ],
      "text/plain": [
       "  GeneJunction ASE  ASE_IDX Tissue                   counts Display     \n",
       "1 XIST-2253    A3SS 2253    adipose_subcutaneous     3      Adipose (sc)\n",
       "2 XIST-2252    A3SS 2252    adipose_subcutaneous     3      Adipose (sc)\n",
       "3 GREB1L-4933  A3SS 4933    adipose_subcutaneous     3      Adipose (sc)\n",
       "4 XIST-2253    A3SS 2253    adipose_visceral_omentum 5      Adipose (v) \n",
       "5 XIST-2252    A3SS 2252    adipose_visceral_omentum 5      Adipose (v) \n",
       "6 WNT2-4819    A3SS 4819    adipose_visceral_omentum 5      Adipose (v) \n",
       "  GeneSymbol GeneID             chr   logFC     AveExpr  t         \n",
       "1 XIST       ENSG00000229807.11 chrX  -4.410805 3.196555 -32.930769\n",
       "2 XIST       ENSG00000229807.11 chrX  -2.409177 3.647928 -19.334052\n",
       "3 GREB1L     ENSG00000141449.14 chr18  1.295334 2.115243   6.018485\n",
       "4 XIST       ENSG00000229807.11 chrX  -4.437241 3.113743 -30.374705\n",
       "5 XIST       ENSG00000229807.11 chrX  -2.426385 3.650827 -16.219499\n",
       "6 WNT2       ENSG00000105989.9  chr7  -1.186538 1.838681  -4.809101\n",
       "  PValue        AdjPVal       B         \n",
       "1 2.619152e-136 2.015438e-132 262.436754\n",
       "2  5.027809e-65  1.934450e-61 126.806214\n",
       "3  3.078604e-09  7.896619e-06   9.901233\n",
       "4 1.016859e-108 7.875573e-105 201.597748\n",
       "5  1.975616e-46  7.650575e-43  86.370359\n",
       "6  2.105789e-06  5.436446e-03   4.248557"
      ]
     },
     "metadata": {},
     "output_type": "display_data"
    }
   ],
   "source": [
    "glimpse(gene_as)\n",
    "gene_as$Tissue <- factor(gene_as$Tissue)\n",
    "length(levels(gene_as$Tissue))\n",
    "table(is.na(gene_as$Display))\n",
    "table(gene_as$Display)\n",
    "colnames(gene_as)\n",
    "head(gene_as)\n",
    "tissue_reduction$display_name <- factor(tissue_reduction$display_name)"
   ]
  },
  {
   "cell_type": "code",
   "execution_count": 22,
   "metadata": {},
   "outputs": [
    {
     "name": "stderr",
     "output_type": "stream",
     "text": [
      "There were 4227 total significant alternative splicing events (gene_as)\n",
      "\n",
      "There were 513 total significant alternative splicing events on the X chromosome (gene_as)\n",
      "\n",
      "i.e., 12.1362668559262% of all significant AS events were on the X chromosome\n",
      "\n",
      "gene_as now has 39 tissues and 5 ASE categories\n",
      "\n",
      "ASE:\n",
      "\n"
     ]
    },
    {
     "data": {
      "text/html": [
       "<style>\n",
       ".dl-inline {width: auto; margin:0; padding: 0}\n",
       ".dl-inline>dt, .dl-inline>dd {float: none; width: auto; display: inline-block}\n",
       ".dl-inline>dt::after {content: \":\\0020\"; padding-right: .5ex}\n",
       ".dl-inline>dt:not(:first-of-type) {padding-left: .5ex}\n",
       "</style><dl class=dl-inline><dt>A3SS</dt><dd>509</dd><dt>A5SS</dt><dd>309</dd><dt>MXE</dt><dd>124</dd><dt>RI</dt><dd>267</dd><dt>SE</dt><dd>3018</dd></dl>\n"
      ],
      "text/latex": [
       "\\begin{description*}\n",
       "\\item[A3SS] 509\n",
       "\\item[A5SS] 309\n",
       "\\item[MXE] 124\n",
       "\\item[RI] 267\n",
       "\\item[SE] 3018\n",
       "\\end{description*}\n"
      ],
      "text/markdown": [
       "A3SS\n",
       ":   509A5SS\n",
       ":   309MXE\n",
       ":   124RI\n",
       ":   267SE\n",
       ":   3018\n",
       "\n"
      ],
      "text/plain": [
       "A3SS A5SS  MXE   RI   SE \n",
       " 509  309  124  267 3018 "
      ]
     },
     "metadata": {},
     "output_type": "display_data"
    }
   ],
   "source": [
    "x_as_events <- gene_as[gene_as$chr==\"chrX\",]\n",
    "message(\"There were \",nrow(gene_as),\" total significant alternative splicing events (gene_as)\")\n",
    "message(\"There were \",nrow(x_as_events),\" total significant alternative splicing events on the X chromosome (gene_as)\")\n",
    "message(\"i.e., \", (100*nrow(x_as_events)/nrow(gene_as)), \"% of all significant AS events were on the X chromosome\")\n",
    "\n",
    "numberOfUniqueTissues <- length(summary(as.factor(gene_as$Display),maxsum=500))\n",
    "numberOfASEmechanisms <- length(summary(as.factor(gene_as$ASE),maxsum=500))\n",
    "\n",
    "message(\"gene_as now has \",numberOfUniqueTissues, \" tissues and \", numberOfASEmechanisms, \" ASE categories\")\n",
    "message(\"ASE:\")\n",
    "summary(as.factor(gene_as$ASE),maxsum=500)"
   ]
  },
  {
   "cell_type": "markdown",
   "metadata": {},
   "source": [
    "### 3.2 gene_dge.tsv\n",
    "\n",
    "This file contains (description)\n",
    "Here is a typical line\n",
    "<pre>\n",
    "Tissue  ENSG_ver        ENSG_no_ver     GeneSymbol      counts  Display logFC   AveExpr t       PValue  AdjPVal B\n",
    "1       adipose_subcutaneous    ENSG00000176728.7       ENSG00000176728 TTTY14  765     Adipose (sc)    -7.98216577151896     -0.928812923511535       -139.823010017733       0       0       1107.42326360464\n",
    "2       adipose_subcutaneous    ENSG00000231535.5       ENSG00000231535 LINC00278       765     Adipose (sc)    -6.09542040758638      -2.77656379347601       -126.913818678612       0       0       1050.36559888639\n",
    "3       adipose_subcutaneous    ENSG00000129824.15      ENSG00000129824 RPS4Y1  765     Adipose (sc)    -9.6641901864726      4.63528767282141 -125.827094717734       0       0       1041.87660796556\n",
    "4       adipose_subcutaneous    ENSG00000067646.11      ENSG00000067646 ZFY     765     Adipose (sc)    -9.50458982938477     0.672755457406984        -125.037143030325       0       0       1033.61131617113\n",
    "5       adipose_subcutaneous    ENSG00000229807.10      ENSG00000229807 XIST    765     Adipose (sc)    9.89280986473167      1.23756039627052 121.69689757218 0       0       1030.17757492281\n",
    "6       adipose_subcutaneous    ENSG00000229236.1       ENSG00000229236 TTTY10  765     Adipose (sc)    -6.20901295440725     -2.74524363170072        -122.540297482165       0       0       1029.41424065532\n",
    "7       adipose_subcutaneous    ENSG00000233864.7       ENSG00000233864 TTTY15  765     Adipose (sc)    -8.19361688496523     -0.741097276206495       -122.47199454746        0       0       1027.58175958647\n",
    "8       adipose_subcutaneous    ENSG00000260197.1       ENSG00000260197 AC010889.1      765     Adipose (sc)    -8.52835806068555      -0.686009457030557      -119.790486729538       0       0       1015.85291786821\n",
    "9       adipose_subcutaneous    ENSG00000183878.15      ENSG00000183878 UTY     765     Adipose (sc)    -9.52139275438866     1.60375445153084 -110.599936868261       0       0       953.069478992754\n",
    "</pre>\n",
    "There are 7417 significant events in the file."
   ]
  },
  {
   "cell_type": "code",
   "execution_count": 23,
   "metadata": {},
   "outputs": [
    {
     "name": "stderr",
     "output_type": "stream",
     "text": [
      "There were 12633 total significant differential gene expression events (gene_dge)\n",
      "\n",
      "There were 774 total significant differential gene expression events on the X chromosome (gene_as)\n",
      "\n",
      "i.e., 6.12681073379245% of all significant DGE events were on the X chromosome\n",
      "\n",
      "gene_dge now has 39 tissues\n",
      "\n"
     ]
    }
   ],
   "source": [
    "x_dge_events <- gene_dge[gene_dge$chr==\"chrX\",]\n",
    "message(\"There were \",nrow(gene_dge),\" total significant differential gene expression events (gene_dge)\")\n",
    "message(\"There were \",nrow(x_dge_events),\" total significant differential gene expression events on the X chromosome (gene_as)\")\n",
    "message(\"i.e., \", (100*nrow(x_dge_events)/nrow(gene_dge)), \"% of all significant DGE events were on the X chromosome\")\n",
    "\n",
    "numberOfUniqueTissues <- length(summary(as.factor(gene_dge$Display),maxsum=500))\n",
    "\n",
    "message(\"gene_dge now has \",numberOfUniqueTissues, \" tissues\")"
   ]
  },
  {
   "cell_type": "markdown",
   "metadata": {},
   "source": [
    "### 3.3 Count events by chromosome\n",
    "\n",
    "Count the number of significant alternative splicing events per chromosome and save to the file **Total_AS_by_chr.tsv**."
   ]
  },
  {
   "cell_type": "markdown",
   "metadata": {},
   "source": [
    "### 3.3.1 by alternative splicing events"
   ]
  },
  {
   "cell_type": "code",
   "execution_count": 24,
   "metadata": {},
   "outputs": [
    {
     "data": {
      "text/html": [
       "23"
      ],
      "text/latex": [
       "23"
      ],
      "text/markdown": [
       "23"
      ],
      "text/plain": [
       "[1] 23"
      ]
     },
     "metadata": {},
     "output_type": "display_data"
    },
    {
     "data": {
      "text/html": [
       "<table>\n",
       "<caption>A data.frame: 23 × 2</caption>\n",
       "<thead>\n",
       "\t<tr><th scope=col>chr</th><th scope=col>n</th></tr>\n",
       "\t<tr><th scope=col>&lt;fct&gt;</th><th scope=col>&lt;int&gt;</th></tr>\n",
       "</thead>\n",
       "<tbody>\n",
       "\t<tr><td>chrX </td><td>513</td></tr>\n",
       "\t<tr><td>chr1 </td><td>430</td></tr>\n",
       "\t<tr><td>chr19</td><td>310</td></tr>\n",
       "\t<tr><td>chr11</td><td>255</td></tr>\n",
       "\t<tr><td>chr2 </td><td>252</td></tr>\n",
       "\t<tr><td>chr17</td><td>251</td></tr>\n",
       "\t<tr><td>chr3 </td><td>220</td></tr>\n",
       "\t<tr><td>chr12</td><td>212</td></tr>\n",
       "\t<tr><td>chr16</td><td>210</td></tr>\n",
       "\t<tr><td>chr4 </td><td>187</td></tr>\n",
       "\t<tr><td>chr6 </td><td>179</td></tr>\n",
       "\t<tr><td>chr7 </td><td>160</td></tr>\n",
       "\t<tr><td>chr15</td><td>140</td></tr>\n",
       "\t<tr><td>chr5 </td><td>135</td></tr>\n",
       "\t<tr><td>chr10</td><td>124</td></tr>\n",
       "\t<tr><td>chr8 </td><td>120</td></tr>\n",
       "\t<tr><td>chr9 </td><td>117</td></tr>\n",
       "\t<tr><td>chr22</td><td>112</td></tr>\n",
       "\t<tr><td>chr14</td><td>105</td></tr>\n",
       "\t<tr><td>chr20</td><td> 70</td></tr>\n",
       "\t<tr><td>chr18</td><td> 57</td></tr>\n",
       "\t<tr><td>chr13</td><td> 42</td></tr>\n",
       "\t<tr><td>chr21</td><td> 26</td></tr>\n",
       "</tbody>\n",
       "</table>\n"
      ],
      "text/latex": [
       "A data.frame: 23 × 2\n",
       "\\begin{tabular}{ll}\n",
       " chr & n\\\\\n",
       " <fct> & <int>\\\\\n",
       "\\hline\n",
       "\t chrX  & 513\\\\\n",
       "\t chr1  & 430\\\\\n",
       "\t chr19 & 310\\\\\n",
       "\t chr11 & 255\\\\\n",
       "\t chr2  & 252\\\\\n",
       "\t chr17 & 251\\\\\n",
       "\t chr3  & 220\\\\\n",
       "\t chr12 & 212\\\\\n",
       "\t chr16 & 210\\\\\n",
       "\t chr4  & 187\\\\\n",
       "\t chr6  & 179\\\\\n",
       "\t chr7  & 160\\\\\n",
       "\t chr15 & 140\\\\\n",
       "\t chr5  & 135\\\\\n",
       "\t chr10 & 124\\\\\n",
       "\t chr8  & 120\\\\\n",
       "\t chr9  & 117\\\\\n",
       "\t chr22 & 112\\\\\n",
       "\t chr14 & 105\\\\\n",
       "\t chr20 &  70\\\\\n",
       "\t chr18 &  57\\\\\n",
       "\t chr13 &  42\\\\\n",
       "\t chr21 &  26\\\\\n",
       "\\end{tabular}\n"
      ],
      "text/markdown": [
       "\n",
       "A data.frame: 23 × 2\n",
       "\n",
       "| chr &lt;fct&gt; | n &lt;int&gt; |\n",
       "|---|---|\n",
       "| chrX  | 513 |\n",
       "| chr1  | 430 |\n",
       "| chr19 | 310 |\n",
       "| chr11 | 255 |\n",
       "| chr2  | 252 |\n",
       "| chr17 | 251 |\n",
       "| chr3  | 220 |\n",
       "| chr12 | 212 |\n",
       "| chr16 | 210 |\n",
       "| chr4  | 187 |\n",
       "| chr6  | 179 |\n",
       "| chr7  | 160 |\n",
       "| chr15 | 140 |\n",
       "| chr5  | 135 |\n",
       "| chr10 | 124 |\n",
       "| chr8  | 120 |\n",
       "| chr9  | 117 |\n",
       "| chr22 | 112 |\n",
       "| chr14 | 105 |\n",
       "| chr20 |  70 |\n",
       "| chr18 |  57 |\n",
       "| chr13 |  42 |\n",
       "| chr21 |  26 |\n",
       "\n"
      ],
      "text/plain": [
       "   chr   n  \n",
       "1  chrX  513\n",
       "2  chr1  430\n",
       "3  chr19 310\n",
       "4  chr11 255\n",
       "5  chr2  252\n",
       "6  chr17 251\n",
       "7  chr3  220\n",
       "8  chr12 212\n",
       "9  chr16 210\n",
       "10 chr4  187\n",
       "11 chr6  179\n",
       "12 chr7  160\n",
       "13 chr15 140\n",
       "14 chr5  135\n",
       "15 chr10 124\n",
       "16 chr8  120\n",
       "17 chr9  117\n",
       "18 chr22 112\n",
       "19 chr14 105\n",
       "20 chr20  70\n",
       "21 chr18  57\n",
       "22 chr13  42\n",
       "23 chr21  26"
      ]
     },
     "metadata": {},
     "output_type": "display_data"
    },
    {
     "name": "stdout",
     "output_type": "stream",
     "text": [
      "Rows: 23\n",
      "Columns: 2\n",
      "$ chr \u001b[3m\u001b[90m<fct>\u001b[39m\u001b[23m chrX, chr1, chr19, chr11, chr2, chr17, chr3, chr12, chr16, chr4, …\n",
      "$ n   \u001b[3m\u001b[90m<int>\u001b[39m\u001b[23m 513, 430, 310, 255, 252, 251, 220, 212, 210, 187, 179, 160, 140, …\n"
     ]
    }
   ],
   "source": [
    "total_as_by_chr <- gene_as          %>% \n",
    "                   group_by(chr)    %>% \n",
    "                   count(chr)       %>% \n",
    "                   arrange(desc(n)) %>% \n",
    "                   as.data.frame()\n",
    "total_as_by_chr$chr <- factor(total_as_by_chr$chr, levels = total_as_by_chr$chr)\n",
    "length(total_as_by_chr$chr)\n",
    "total_as_by_chr\n",
    "glimpse(total_as_by_chr)\n",
    "write.table(total_as_by_chr, file= \"../data/Total_AS_by_chr.tsv\", sep=\"\\t\", quote = FALSE, row.names=F)"
   ]
  },
  {
   "cell_type": "markdown",
   "metadata": {},
   "source": [
    "### 3.3.2 by gene expression"
   ]
  },
  {
   "cell_type": "code",
   "execution_count": 25,
   "metadata": {},
   "outputs": [
    {
     "data": {
      "text/html": [
       "26"
      ],
      "text/latex": [
       "26"
      ],
      "text/markdown": [
       "26"
      ],
      "text/plain": [
       "[1] 26"
      ]
     },
     "metadata": {},
     "output_type": "display_data"
    },
    {
     "data": {
      "text/html": [
       "<table>\n",
       "<caption>A data.frame: 26 × 2</caption>\n",
       "<thead>\n",
       "\t<tr><th scope=col>chr</th><th scope=col>n</th></tr>\n",
       "\t<tr><th scope=col>&lt;fct&gt;</th><th scope=col>&lt;int&gt;</th></tr>\n",
       "</thead>\n",
       "<tbody>\n",
       "\t<tr><td>chrY </td><td>1693</td></tr>\n",
       "\t<tr><td>chr1 </td><td> 945</td></tr>\n",
       "\t<tr><td>chr2 </td><td> 897</td></tr>\n",
       "\t<tr><td>chrX </td><td> 774</td></tr>\n",
       "\t<tr><td>chr14</td><td> 554</td></tr>\n",
       "\t<tr><td>chr12</td><td> 547</td></tr>\n",
       "\t<tr><td>chr6 </td><td> 511</td></tr>\n",
       "\t<tr><td>chr11</td><td> 501</td></tr>\n",
       "\t<tr><td>chr3 </td><td> 486</td></tr>\n",
       "\t<tr><td>chr19</td><td> 478</td></tr>\n",
       "\t<tr><td>chr17</td><td> 464</td></tr>\n",
       "\t<tr><td>chr4 </td><td> 464</td></tr>\n",
       "\t<tr><td>chr7 </td><td> 443</td></tr>\n",
       "\t<tr><td>chr5 </td><td> 439</td></tr>\n",
       "\t<tr><td>chr8 </td><td> 406</td></tr>\n",
       "\t<tr><td>chr15</td><td> 398</td></tr>\n",
       "\t<tr><td>chr16</td><td> 383</td></tr>\n",
       "\t<tr><td>chr10</td><td> 379</td></tr>\n",
       "\t<tr><td>chr20</td><td> 377</td></tr>\n",
       "\t<tr><td>chr9 </td><td> 376</td></tr>\n",
       "\t<tr><td>chr22</td><td> 362</td></tr>\n",
       "\t<tr><td>chr18</td><td> 227</td></tr>\n",
       "\t<tr><td>chr13</td><td> 194</td></tr>\n",
       "\t<tr><td>chr21</td><td> 175</td></tr>\n",
       "\t<tr><td>NA   </td><td> 151</td></tr>\n",
       "\t<tr><td>chrM </td><td>   9</td></tr>\n",
       "</tbody>\n",
       "</table>\n"
      ],
      "text/latex": [
       "A data.frame: 26 × 2\n",
       "\\begin{tabular}{ll}\n",
       " chr & n\\\\\n",
       " <fct> & <int>\\\\\n",
       "\\hline\n",
       "\t chrY  & 1693\\\\\n",
       "\t chr1  &  945\\\\\n",
       "\t chr2  &  897\\\\\n",
       "\t chrX  &  774\\\\\n",
       "\t chr14 &  554\\\\\n",
       "\t chr12 &  547\\\\\n",
       "\t chr6  &  511\\\\\n",
       "\t chr11 &  501\\\\\n",
       "\t chr3  &  486\\\\\n",
       "\t chr19 &  478\\\\\n",
       "\t chr17 &  464\\\\\n",
       "\t chr4  &  464\\\\\n",
       "\t chr7  &  443\\\\\n",
       "\t chr5  &  439\\\\\n",
       "\t chr8  &  406\\\\\n",
       "\t chr15 &  398\\\\\n",
       "\t chr16 &  383\\\\\n",
       "\t chr10 &  379\\\\\n",
       "\t chr20 &  377\\\\\n",
       "\t chr9  &  376\\\\\n",
       "\t chr22 &  362\\\\\n",
       "\t chr18 &  227\\\\\n",
       "\t chr13 &  194\\\\\n",
       "\t chr21 &  175\\\\\n",
       "\t NA    &  151\\\\\n",
       "\t chrM  &    9\\\\\n",
       "\\end{tabular}\n"
      ],
      "text/markdown": [
       "\n",
       "A data.frame: 26 × 2\n",
       "\n",
       "| chr &lt;fct&gt; | n &lt;int&gt; |\n",
       "|---|---|\n",
       "| chrY  | 1693 |\n",
       "| chr1  |  945 |\n",
       "| chr2  |  897 |\n",
       "| chrX  |  774 |\n",
       "| chr14 |  554 |\n",
       "| chr12 |  547 |\n",
       "| chr6  |  511 |\n",
       "| chr11 |  501 |\n",
       "| chr3  |  486 |\n",
       "| chr19 |  478 |\n",
       "| chr17 |  464 |\n",
       "| chr4  |  464 |\n",
       "| chr7  |  443 |\n",
       "| chr5  |  439 |\n",
       "| chr8  |  406 |\n",
       "| chr15 |  398 |\n",
       "| chr16 |  383 |\n",
       "| chr10 |  379 |\n",
       "| chr20 |  377 |\n",
       "| chr9  |  376 |\n",
       "| chr22 |  362 |\n",
       "| chr18 |  227 |\n",
       "| chr13 |  194 |\n",
       "| chr21 |  175 |\n",
       "| NA    |  151 |\n",
       "| chrM  |    9 |\n",
       "\n"
      ],
      "text/plain": [
       "   chr   n   \n",
       "1  chrY  1693\n",
       "2  chr1   945\n",
       "3  chr2   897\n",
       "4  chrX   774\n",
       "5  chr14  554\n",
       "6  chr12  547\n",
       "7  chr6   511\n",
       "8  chr11  501\n",
       "9  chr3   486\n",
       "10 chr19  478\n",
       "11 chr17  464\n",
       "12 chr4   464\n",
       "13 chr7   443\n",
       "14 chr5   439\n",
       "15 chr8   406\n",
       "16 chr15  398\n",
       "17 chr16  383\n",
       "18 chr10  379\n",
       "19 chr20  377\n",
       "20 chr9   376\n",
       "21 chr22  362\n",
       "22 chr18  227\n",
       "23 chr13  194\n",
       "24 chr21  175\n",
       "25 NA     151\n",
       "26 chrM     9"
      ]
     },
     "metadata": {},
     "output_type": "display_data"
    },
    {
     "name": "stdout",
     "output_type": "stream",
     "text": [
      "Rows: 26\n",
      "Columns: 2\n",
      "$ chr \u001b[3m\u001b[90m<fct>\u001b[39m\u001b[23m chrY, chr1, chr2, chrX, chr14, chr12, chr6, chr11, chr3, chr19, c…\n",
      "$ n   \u001b[3m\u001b[90m<int>\u001b[39m\u001b[23m 1693, 945, 897, 774, 554, 547, 511, 501, 486, 478, 464, 464, 443,…\n"
     ]
    }
   ],
   "source": [
    "total_dge_by_chr <- gene_dge          %>% \n",
    "                   group_by(chr)    %>% \n",
    "                   count(chr)       %>% \n",
    "                   arrange(desc(n)) %>% \n",
    "                   as.data.frame()\n",
    "total_dge_by_chr$chr <- factor(total_dge_by_chr$chr, levels = total_dge_by_chr$chr)\n",
    "length(total_dge_by_chr$chr)\n",
    "total_dge_by_chr\n",
    "glimpse(total_dge_by_chr)\n",
    "write.table(total_dge_by_chr, file= \"../data/Total_DGE_by_chr.tsv\", sep=\"\\t\", quote = FALSE, row.names=F)"
   ]
  },
  {
   "cell_type": "markdown",
   "metadata": {},
   "source": [
    "### 3.4 Count events by genes "
   ]
  },
  {
   "cell_type": "markdown",
   "metadata": {},
   "source": [
    "### 3.4.1 by alternative splicing"
   ]
  },
  {
   "cell_type": "code",
   "execution_count": 26,
   "metadata": {
    "lines_to_next_cell": 0
   },
   "outputs": [
    {
     "data": {
      "text/html": [
       "1994"
      ],
      "text/latex": [
       "1994"
      ],
      "text/markdown": [
       "1994"
      ],
      "text/plain": [
       "[1] 1994"
      ]
     },
     "metadata": {},
     "output_type": "display_data"
    },
    {
     "data": {
      "text/html": [
       "<table>\n",
       "<caption>A data.frame: 10 × 2</caption>\n",
       "<thead>\n",
       "\t<tr><th></th><th scope=col>GeneSymbol</th><th scope=col>n</th></tr>\n",
       "\t<tr><th></th><th scope=col>&lt;fct&gt;</th><th scope=col>&lt;int&gt;</th></tr>\n",
       "</thead>\n",
       "<tbody>\n",
       "\t<tr><th scope=row>1</th><td>XIST  </td><td>218</td></tr>\n",
       "\t<tr><th scope=row>2</th><td>DDX3X </td><td> 49</td></tr>\n",
       "\t<tr><th scope=row>3</th><td>KDM5C </td><td> 42</td></tr>\n",
       "\t<tr><th scope=row>4</th><td>ZFX   </td><td> 37</td></tr>\n",
       "\t<tr><th scope=row>5</th><td>KDM6A </td><td> 18</td></tr>\n",
       "\t<tr><th scope=row>6</th><td>SORBS2</td><td> 17</td></tr>\n",
       "\t<tr><th scope=row>7</th><td>MYB   </td><td> 17</td></tr>\n",
       "\t<tr><th scope=row>8</th><td>MUC1  </td><td> 16</td></tr>\n",
       "\t<tr><th scope=row>9</th><td>DDR1  </td><td> 15</td></tr>\n",
       "\t<tr><th scope=row>10</th><td>NDRG4 </td><td> 14</td></tr>\n",
       "</tbody>\n",
       "</table>\n"
      ],
      "text/latex": [
       "A data.frame: 10 × 2\n",
       "\\begin{tabular}{r|ll}\n",
       "  & GeneSymbol & n\\\\\n",
       "  & <fct> & <int>\\\\\n",
       "\\hline\n",
       "\t1 & XIST   & 218\\\\\n",
       "\t2 & DDX3X  &  49\\\\\n",
       "\t3 & KDM5C  &  42\\\\\n",
       "\t4 & ZFX    &  37\\\\\n",
       "\t5 & KDM6A  &  18\\\\\n",
       "\t6 & SORBS2 &  17\\\\\n",
       "\t7 & MYB    &  17\\\\\n",
       "\t8 & MUC1   &  16\\\\\n",
       "\t9 & DDR1   &  15\\\\\n",
       "\t10 & NDRG4  &  14\\\\\n",
       "\\end{tabular}\n"
      ],
      "text/markdown": [
       "\n",
       "A data.frame: 10 × 2\n",
       "\n",
       "| <!--/--> | GeneSymbol &lt;fct&gt; | n &lt;int&gt; |\n",
       "|---|---|---|\n",
       "| 1 | XIST   | 218 |\n",
       "| 2 | DDX3X  |  49 |\n",
       "| 3 | KDM5C  |  42 |\n",
       "| 4 | ZFX    |  37 |\n",
       "| 5 | KDM6A  |  18 |\n",
       "| 6 | SORBS2 |  17 |\n",
       "| 7 | MYB    |  17 |\n",
       "| 8 | MUC1   |  16 |\n",
       "| 9 | DDR1   |  15 |\n",
       "| 10 | NDRG4  |  14 |\n",
       "\n"
      ],
      "text/plain": [
       "   GeneSymbol n  \n",
       "1  XIST       218\n",
       "2  DDX3X       49\n",
       "3  KDM5C       42\n",
       "4  ZFX         37\n",
       "5  KDM6A       18\n",
       "6  SORBS2      17\n",
       "7  MYB         17\n",
       "8  MUC1        16\n",
       "9  DDR1        15\n",
       "10 NDRG4       14"
      ]
     },
     "metadata": {},
     "output_type": "display_data"
    }
   ],
   "source": [
    "total_as_by_geneSymbol <- gene_as %>% \n",
    "                          group_by(GeneSymbol) %>% \n",
    "                          count(GeneSymbol)    %>% \n",
    "                          arrange(desc(n))     %>% \n",
    "                          as.data.frame()\n",
    "total_as_by_geneSymbol$GeneSymbol <- factor(total_as_by_geneSymbol$GeneSymbol, \n",
    "                                            levels = total_as_by_geneSymbol$GeneSymbol)\n",
    "length(total_as_by_geneSymbol$GeneSymbol)\n",
    "head(total_as_by_geneSymbol,10)\n",
    "write.table(total_as_by_geneSymbol, file = \"../data/Total_AS_by_geneSymbol.tsv\", sep = \"\\t\", quote=FALSE, row.names = F)"
   ]
  },
  {
   "cell_type": "markdown",
   "metadata": {},
   "source": [
    "### 3.5 Count most frequent splicing by tissue"
   ]
  },
  {
   "cell_type": "markdown",
   "metadata": {},
   "source": [
    "### 3.5.1 by alternative splicing"
   ]
  },
  {
   "cell_type": "code",
   "execution_count": 27,
   "metadata": {},
   "outputs": [
    {
     "data": {
      "text/html": [
       "<table>\n",
       "<caption>A data.frame: 10 × 2</caption>\n",
       "<thead>\n",
       "\t<tr><th></th><th scope=col>Display</th><th scope=col>n</th></tr>\n",
       "\t<tr><th></th><th scope=col>&lt;fct&gt;</th><th scope=col>&lt;int&gt;</th></tr>\n",
       "</thead>\n",
       "<tbody>\n",
       "\t<tr><th scope=row>1</th><td>Breast         </td><td>3635</td></tr>\n",
       "\t<tr><th scope=row>2</th><td>Esophagus (mu) </td><td>  59</td></tr>\n",
       "\t<tr><th scope=row>3</th><td>Skeletal muscle</td><td>  47</td></tr>\n",
       "\t<tr><th scope=row>4</th><td>Aorta          </td><td>  37</td></tr>\n",
       "\t<tr><th scope=row>5</th><td>Skin (exposed) </td><td>  28</td></tr>\n",
       "\t<tr><th scope=row>6</th><td>Pituitary      </td><td>  27</td></tr>\n",
       "\t<tr><th scope=row>7</th><td>Thyroid        </td><td>  24</td></tr>\n",
       "\t<tr><th scope=row>8</th><td>Fibroblasts    </td><td>  23</td></tr>\n",
       "\t<tr><th scope=row>9</th><td>Adipose (sc)   </td><td>  21</td></tr>\n",
       "\t<tr><th scope=row>10</th><td>Pancreas       </td><td>  21</td></tr>\n",
       "</tbody>\n",
       "</table>\n"
      ],
      "text/latex": [
       "A data.frame: 10 × 2\n",
       "\\begin{tabular}{r|ll}\n",
       "  & Display & n\\\\\n",
       "  & <fct> & <int>\\\\\n",
       "\\hline\n",
       "\t1 & Breast          & 3635\\\\\n",
       "\t2 & Esophagus (mu)  &   59\\\\\n",
       "\t3 & Skeletal muscle &   47\\\\\n",
       "\t4 & Aorta           &   37\\\\\n",
       "\t5 & Skin (exposed)  &   28\\\\\n",
       "\t6 & Pituitary       &   27\\\\\n",
       "\t7 & Thyroid         &   24\\\\\n",
       "\t8 & Fibroblasts     &   23\\\\\n",
       "\t9 & Adipose (sc)    &   21\\\\\n",
       "\t10 & Pancreas        &   21\\\\\n",
       "\\end{tabular}\n"
      ],
      "text/markdown": [
       "\n",
       "A data.frame: 10 × 2\n",
       "\n",
       "| <!--/--> | Display &lt;fct&gt; | n &lt;int&gt; |\n",
       "|---|---|---|\n",
       "| 1 | Breast          | 3635 |\n",
       "| 2 | Esophagus (mu)  |   59 |\n",
       "| 3 | Skeletal muscle |   47 |\n",
       "| 4 | Aorta           |   37 |\n",
       "| 5 | Skin (exposed)  |   28 |\n",
       "| 6 | Pituitary       |   27 |\n",
       "| 7 | Thyroid         |   24 |\n",
       "| 8 | Fibroblasts     |   23 |\n",
       "| 9 | Adipose (sc)    |   21 |\n",
       "| 10 | Pancreas        |   21 |\n",
       "\n"
      ],
      "text/plain": [
       "   Display         n   \n",
       "1  Breast          3635\n",
       "2  Esophagus (mu)    59\n",
       "3  Skeletal muscle   47\n",
       "4  Aorta             37\n",
       "5  Skin (exposed)    28\n",
       "6  Pituitary         27\n",
       "7  Thyroid           24\n",
       "8  Fibroblasts       23\n",
       "9  Adipose (sc)      21\n",
       "10 Pancreas          21"
      ]
     },
     "metadata": {},
     "output_type": "display_data"
    },
    {
     "data": {
      "text/html": [
       "39"
      ],
      "text/latex": [
       "39"
      ],
      "text/markdown": [
       "39"
      ],
      "text/plain": [
       "[1] 39"
      ]
     },
     "metadata": {},
     "output_type": "display_data"
    }
   ],
   "source": [
    "total_as_by_tissue <- gene_as %>% \n",
    "                      group_by(Display) %>% \n",
    "                      count(Display)    %>% \n",
    "                      arrange(desc(n))  %>% \n",
    "                      as.data.frame()\n",
    "total_as_by_tissue$Display <- factor(total_as_by_tissue$Display, \n",
    "                                     levels = total_as_by_tissue$Display)\n",
    "head(total_as_by_tissue,10)\n",
    "length(total_as_by_tissue$Display)\n",
    "write.table(total_as_by_tissue, file = \"../data/Total_AS_by_tissue.tsv\", sep = \"\\t\", row.names = F)"
   ]
  },
  {
   "cell_type": "markdown",
   "metadata": {},
   "source": [
    "### 3.5.2 by gene expression"
   ]
  },
  {
   "cell_type": "code",
   "execution_count": 28,
   "metadata": {},
   "outputs": [
    {
     "data": {
      "text/html": [
       "<table>\n",
       "<caption>A data.frame: 10 × 2</caption>\n",
       "<thead>\n",
       "\t<tr><th></th><th scope=col>Display</th><th scope=col>n</th></tr>\n",
       "\t<tr><th></th><th scope=col>&lt;fct&gt;</th><th scope=col>&lt;int&gt;</th></tr>\n",
       "</thead>\n",
       "<tbody>\n",
       "\t<tr><th scope=row>1</th><td>Breast            </td><td>5433</td></tr>\n",
       "\t<tr><th scope=row>2</th><td>Adipose (sc)      </td><td> 765</td></tr>\n",
       "\t<tr><th scope=row>3</th><td>Pituitary         </td><td> 682</td></tr>\n",
       "\t<tr><th scope=row>4</th><td>Thyroid           </td><td> 486</td></tr>\n",
       "\t<tr><th scope=row>5</th><td>Skin (not exposed)</td><td> 435</td></tr>\n",
       "\t<tr><th scope=row>6</th><td>Skin (exposed)    </td><td> 331</td></tr>\n",
       "\t<tr><th scope=row>7</th><td>Adipose (v)       </td><td> 325</td></tr>\n",
       "\t<tr><th scope=row>8</th><td>Skeletal muscle   </td><td> 296</td></tr>\n",
       "\t<tr><th scope=row>9</th><td>Left ventricle    </td><td> 274</td></tr>\n",
       "\t<tr><th scope=row>10</th><td>Fibroblasts       </td><td> 240</td></tr>\n",
       "</tbody>\n",
       "</table>\n"
      ],
      "text/latex": [
       "A data.frame: 10 × 2\n",
       "\\begin{tabular}{r|ll}\n",
       "  & Display & n\\\\\n",
       "  & <fct> & <int>\\\\\n",
       "\\hline\n",
       "\t1 & Breast             & 5433\\\\\n",
       "\t2 & Adipose (sc)       &  765\\\\\n",
       "\t3 & Pituitary          &  682\\\\\n",
       "\t4 & Thyroid            &  486\\\\\n",
       "\t5 & Skin (not exposed) &  435\\\\\n",
       "\t6 & Skin (exposed)     &  331\\\\\n",
       "\t7 & Adipose (v)        &  325\\\\\n",
       "\t8 & Skeletal muscle    &  296\\\\\n",
       "\t9 & Left ventricle     &  274\\\\\n",
       "\t10 & Fibroblasts        &  240\\\\\n",
       "\\end{tabular}\n"
      ],
      "text/markdown": [
       "\n",
       "A data.frame: 10 × 2\n",
       "\n",
       "| <!--/--> | Display &lt;fct&gt; | n &lt;int&gt; |\n",
       "|---|---|---|\n",
       "| 1 | Breast             | 5433 |\n",
       "| 2 | Adipose (sc)       |  765 |\n",
       "| 3 | Pituitary          |  682 |\n",
       "| 4 | Thyroid            |  486 |\n",
       "| 5 | Skin (not exposed) |  435 |\n",
       "| 6 | Skin (exposed)     |  331 |\n",
       "| 7 | Adipose (v)        |  325 |\n",
       "| 8 | Skeletal muscle    |  296 |\n",
       "| 9 | Left ventricle     |  274 |\n",
       "| 10 | Fibroblasts        |  240 |\n",
       "\n"
      ],
      "text/plain": [
       "   Display            n   \n",
       "1  Breast             5433\n",
       "2  Adipose (sc)        765\n",
       "3  Pituitary           682\n",
       "4  Thyroid             486\n",
       "5  Skin (not exposed)  435\n",
       "6  Skin (exposed)      331\n",
       "7  Adipose (v)         325\n",
       "8  Skeletal muscle     296\n",
       "9  Left ventricle      274\n",
       "10 Fibroblasts         240"
      ]
     },
     "metadata": {},
     "output_type": "display_data"
    },
    {
     "data": {
      "text/html": [
       "39"
      ],
      "text/latex": [
       "39"
      ],
      "text/markdown": [
       "39"
      ],
      "text/plain": [
       "[1] 39"
      ]
     },
     "metadata": {},
     "output_type": "display_data"
    }
   ],
   "source": [
    "#glimpse(gene_dge)\n",
    "gene_dge$GeneSymbol <- factor(gene_dge$GeneSymbol)\n",
    "total_dge_by_tissue <- gene_dge %>% \n",
    "                          select(c(GeneSymbol, Display, logFC)) %>%\n",
    "                          group_by(Display) %>%\n",
    "                          arrange(desc(logFC)) %>%\n",
    "                          tally() %>%\n",
    "                          arrange(desc(n)) %>%\n",
    "                          as.data.frame()\n",
    "head(total_dge_by_tissue,10)\n",
    "length(total_dge_by_tissue$Display)\n",
    "write.table(total_dge_by_tissue, file = \"../data/Total_DGE_by_tissue.tsv\", sep = \"\\t\", quote=FALSE, row.names = F)"
   ]
  },
  {
   "cell_type": "markdown",
   "metadata": {},
   "source": [
    "###  3.6 Significant Count by splicing type \n",
    "We define **significant** to be FC > 1.5 and pVal < 0.05\n",
    "\n",
    "Our starting values were the significant events, all meeting the criteria FC > 1.5 and pVal < 0.05\n"
   ]
  },
  {
   "cell_type": "code",
   "execution_count": 29,
   "metadata": {},
   "outputs": [
    {
     "data": {
      "text/html": [
       "<table>\n",
       "<caption>A data.frame: 5 × 2</caption>\n",
       "<thead>\n",
       "\t<tr><th scope=col>ASE</th><th scope=col>n</th></tr>\n",
       "\t<tr><th scope=col>&lt;fct&gt;</th><th scope=col>&lt;int&gt;</th></tr>\n",
       "</thead>\n",
       "<tbody>\n",
       "\t<tr><td>SE  </td><td>3018</td></tr>\n",
       "\t<tr><td>A3SS</td><td> 509</td></tr>\n",
       "\t<tr><td>A5SS</td><td> 309</td></tr>\n",
       "\t<tr><td>RI  </td><td> 267</td></tr>\n",
       "\t<tr><td>MXE </td><td> 124</td></tr>\n",
       "</tbody>\n",
       "</table>\n"
      ],
      "text/latex": [
       "A data.frame: 5 × 2\n",
       "\\begin{tabular}{ll}\n",
       " ASE & n\\\\\n",
       " <fct> & <int>\\\\\n",
       "\\hline\n",
       "\t SE   & 3018\\\\\n",
       "\t A3SS &  509\\\\\n",
       "\t A5SS &  309\\\\\n",
       "\t RI   &  267\\\\\n",
       "\t MXE  &  124\\\\\n",
       "\\end{tabular}\n"
      ],
      "text/markdown": [
       "\n",
       "A data.frame: 5 × 2\n",
       "\n",
       "| ASE &lt;fct&gt; | n &lt;int&gt; |\n",
       "|---|---|\n",
       "| SE   | 3018 |\n",
       "| A3SS |  509 |\n",
       "| A5SS |  309 |\n",
       "| RI   |  267 |\n",
       "| MXE  |  124 |\n",
       "\n"
      ],
      "text/plain": [
       "  ASE  n   \n",
       "1 SE   3018\n",
       "2 A3SS  509\n",
       "3 A5SS  309\n",
       "4 RI    267\n",
       "5 MXE   124"
      ]
     },
     "metadata": {},
     "output_type": "display_data"
    }
   ],
   "source": [
    "total_as_by_splicingtype <- gene_as %>% \n",
    "                            group_by(ASE)    %>% \n",
    "                            count(ASE)       %>% \n",
    "                            arrange(desc(n)) %>%\n",
    "                            as.data.frame()\n",
    "total_as_by_splicingtype$ASE <- factor(total_as_by_splicingtype$ASE, levels = total_as_by_splicingtype$ASE)\n",
    "total_as_by_splicingtype\n",
    "write.table(total_as_by_splicingtype, file= \"../data/Total_AS_by_splicingtype.tsv\")"
   ]
  },
  {
   "cell_type": "markdown",
   "metadata": {},
   "source": [
    "###  3.7 Significant Count by splicing type (significant == FC > 1.5 and pVal < 0.05)"
   ]
  },
  {
   "cell_type": "code",
   "execution_count": 30,
   "metadata": {
    "lines_to_next_cell": 0
   },
   "outputs": [
    {
     "data": {
      "text/plain": [
       "A3SS_keep\n",
       "FALSE  TRUE \n",
       " 3718   509 "
      ]
     },
     "metadata": {},
     "output_type": "display_data"
    },
    {
     "data": {
      "text/plain": [
       "A5SS_keep\n",
       "FALSE  TRUE \n",
       " 3918   309 "
      ]
     },
     "metadata": {},
     "output_type": "display_data"
    },
    {
     "data": {
      "text/plain": [
       "MXE_keep\n",
       "FALSE  TRUE \n",
       " 4103   124 "
      ]
     },
     "metadata": {},
     "output_type": "display_data"
    },
    {
     "data": {
      "text/plain": [
       "SE_keep\n",
       "FALSE  TRUE \n",
       " 1209  3018 "
      ]
     },
     "metadata": {},
     "output_type": "display_data"
    },
    {
     "data": {
      "text/plain": [
       "RI_keep\n",
       "FALSE  TRUE \n",
       " 3960   267 "
      ]
     },
     "metadata": {},
     "output_type": "display_data"
    },
    {
     "data": {
      "text/html": [
       "<style>\n",
       ".list-inline {list-style: none; margin:0; padding: 0}\n",
       ".list-inline>li {display: inline-block}\n",
       ".list-inline>li:not(:last-child)::after {content: \"\\00b7\"; padding: 0 .5ex}\n",
       "</style>\n",
       "<ol class=list-inline><li>509</li><li>15</li></ol>\n"
      ],
      "text/latex": [
       "\\begin{enumerate*}\n",
       "\\item 509\n",
       "\\item 15\n",
       "\\end{enumerate*}\n"
      ],
      "text/markdown": [
       "1. 509\n",
       "2. 15\n",
       "\n",
       "\n"
      ],
      "text/plain": [
       "[1] 509  15"
      ]
     },
     "metadata": {},
     "output_type": "display_data"
    },
    {
     "data": {
      "text/html": [
       "<style>\n",
       ".list-inline {list-style: none; margin:0; padding: 0}\n",
       ".list-inline>li {display: inline-block}\n",
       ".list-inline>li:not(:last-child)::after {content: \"\\00b7\"; padding: 0 .5ex}\n",
       "</style>\n",
       "<ol class=list-inline><li>309</li><li>15</li></ol>\n"
      ],
      "text/latex": [
       "\\begin{enumerate*}\n",
       "\\item 309\n",
       "\\item 15\n",
       "\\end{enumerate*}\n"
      ],
      "text/markdown": [
       "1. 309\n",
       "2. 15\n",
       "\n",
       "\n"
      ],
      "text/plain": [
       "[1] 309  15"
      ]
     },
     "metadata": {},
     "output_type": "display_data"
    },
    {
     "data": {
      "text/html": [
       "<style>\n",
       ".list-inline {list-style: none; margin:0; padding: 0}\n",
       ".list-inline>li {display: inline-block}\n",
       ".list-inline>li:not(:last-child)::after {content: \"\\00b7\"; padding: 0 .5ex}\n",
       "</style>\n",
       "<ol class=list-inline><li>124</li><li>15</li></ol>\n"
      ],
      "text/latex": [
       "\\begin{enumerate*}\n",
       "\\item 124\n",
       "\\item 15\n",
       "\\end{enumerate*}\n"
      ],
      "text/markdown": [
       "1. 124\n",
       "2. 15\n",
       "\n",
       "\n"
      ],
      "text/plain": [
       "[1] 124  15"
      ]
     },
     "metadata": {},
     "output_type": "display_data"
    },
    {
     "data": {
      "text/html": [
       "<style>\n",
       ".list-inline {list-style: none; margin:0; padding: 0}\n",
       ".list-inline>li {display: inline-block}\n",
       ".list-inline>li:not(:last-child)::after {content: \"\\00b7\"; padding: 0 .5ex}\n",
       "</style>\n",
       "<ol class=list-inline><li>3018</li><li>15</li></ol>\n"
      ],
      "text/latex": [
       "\\begin{enumerate*}\n",
       "\\item 3018\n",
       "\\item 15\n",
       "\\end{enumerate*}\n"
      ],
      "text/markdown": [
       "1. 3018\n",
       "2. 15\n",
       "\n",
       "\n"
      ],
      "text/plain": [
       "[1] 3018   15"
      ]
     },
     "metadata": {},
     "output_type": "display_data"
    },
    {
     "data": {
      "text/html": [
       "<style>\n",
       ".list-inline {list-style: none; margin:0; padding: 0}\n",
       ".list-inline>li {display: inline-block}\n",
       ".list-inline>li:not(:last-child)::after {content: \"\\00b7\"; padding: 0 .5ex}\n",
       "</style>\n",
       "<ol class=list-inline><li>267</li><li>15</li></ol>\n"
      ],
      "text/latex": [
       "\\begin{enumerate*}\n",
       "\\item 267\n",
       "\\item 15\n",
       "\\end{enumerate*}\n"
      ],
      "text/markdown": [
       "1. 267\n",
       "2. 15\n",
       "\n",
       "\n"
      ],
      "text/plain": [
       "[1] 267  15"
      ]
     },
     "metadata": {},
     "output_type": "display_data"
    }
   ],
   "source": [
    "A3SS_keep <- as.character(gene_as$ASE) %in% \"A3SS\"\n",
    "table(A3SS_keep)\n",
    "A3SS.gene_as <- data.frame(gene_as[A3SS_keep == TRUE,])\n",
    "\n",
    "A5SS_keep <- as.character(gene_as$ASE) %in% \"A5SS\"\n",
    "table(A5SS_keep)\n",
    "A5SS.gene_as <- data.frame(gene_as[A5SS_keep == TRUE,])\n",
    "\n",
    "MXE_keep  <- as.character(gene_as$ASE) %in% \"MXE\"\n",
    "table(MXE_keep)\n",
    "MXE.gene_as <- data.frame(gene_as[MXE_keep == TRUE,])\n",
    "\n",
    "SE_keep   <- as.character(gene_as$ASE) %in% \"SE\"\n",
    "table(SE_keep)\n",
    "SE.gene_as <- data.frame(gene_as[SE_keep == TRUE,])\n",
    "\n",
    "RI_keep   <- as.character(gene_as$ASE) %in% \"RI\"\n",
    "table(RI_keep)\n",
    "RI.gene_as <- data.frame(gene_as[RI_keep == TRUE,])\n",
    "\n",
    "dim(A3SS.gene_as)\n",
    "dim(A5SS.gene_as)\n",
    "dim(MXE.gene_as)\n",
    "dim(SE.gene_as)\n",
    "dim(RI.gene_as)\n"
   ]
  },
  {
   "cell_type": "markdown",
   "metadata": {},
   "source": [
    "### 3.8 Siginficant spliced by Gene for each splicing factor"
   ]
  },
  {
   "cell_type": "code",
   "execution_count": 31,
   "metadata": {},
   "outputs": [
    {
     "name": "stderr",
     "output_type": "stream",
     "text": [
      "Significant spliced genes for A3SS\n",
      "338 \n",
      "\n"
     ]
    },
    {
     "data": {
      "text/html": [
       "<table>\n",
       "<caption>A data.frame: 6 × 2</caption>\n",
       "<thead>\n",
       "\t<tr><th></th><th scope=col>GeneSymbol</th><th scope=col>n</th></tr>\n",
       "\t<tr><th></th><th scope=col>&lt;fct&gt;</th><th scope=col>&lt;int&gt;</th></tr>\n",
       "</thead>\n",
       "<tbody>\n",
       "\t<tr><th scope=row>1</th><td>XIST     </td><td>76</td></tr>\n",
       "\t<tr><th scope=row>2</th><td>DDX3X    </td><td>11</td></tr>\n",
       "\t<tr><th scope=row>3</th><td>HAND2-AS1</td><td> 7</td></tr>\n",
       "\t<tr><th scope=row>4</th><td>STRA6    </td><td> 5</td></tr>\n",
       "\t<tr><th scope=row>5</th><td>UCA1     </td><td> 5</td></tr>\n",
       "\t<tr><th scope=row>6</th><td>GREB1L   </td><td> 4</td></tr>\n",
       "</tbody>\n",
       "</table>\n"
      ],
      "text/latex": [
       "A data.frame: 6 × 2\n",
       "\\begin{tabular}{r|ll}\n",
       "  & GeneSymbol & n\\\\\n",
       "  & <fct> & <int>\\\\\n",
       "\\hline\n",
       "\t1 & XIST      & 76\\\\\n",
       "\t2 & DDX3X     & 11\\\\\n",
       "\t3 & HAND2-AS1 &  7\\\\\n",
       "\t4 & STRA6     &  5\\\\\n",
       "\t5 & UCA1      &  5\\\\\n",
       "\t6 & GREB1L    &  4\\\\\n",
       "\\end{tabular}\n"
      ],
      "text/markdown": [
       "\n",
       "A data.frame: 6 × 2\n",
       "\n",
       "| <!--/--> | GeneSymbol &lt;fct&gt; | n &lt;int&gt; |\n",
       "|---|---|---|\n",
       "| 1 | XIST      | 76 |\n",
       "| 2 | DDX3X     | 11 |\n",
       "| 3 | HAND2-AS1 |  7 |\n",
       "| 4 | STRA6     |  5 |\n",
       "| 5 | UCA1      |  5 |\n",
       "| 6 | GREB1L    |  4 |\n",
       "\n"
      ],
      "text/plain": [
       "  GeneSymbol n \n",
       "1 XIST       76\n",
       "2 DDX3X      11\n",
       "3 HAND2-AS1   7\n",
       "4 STRA6       5\n",
       "5 UCA1        5\n",
       "6 GREB1L      4"
      ]
     },
     "metadata": {},
     "output_type": "display_data"
    },
    {
     "name": "stderr",
     "output_type": "stream",
     "text": [
      "Significant spliced genes for A5SS\n",
      "260 \n",
      "\n"
     ]
    },
    {
     "data": {
      "text/html": [
       "<table>\n",
       "<caption>A data.frame: 6 × 2</caption>\n",
       "<thead>\n",
       "\t<tr><th></th><th scope=col>GeneSymbol</th><th scope=col>n</th></tr>\n",
       "\t<tr><th></th><th scope=col>&lt;fct&gt;</th><th scope=col>&lt;int&gt;</th></tr>\n",
       "</thead>\n",
       "<tbody>\n",
       "\t<tr><th scope=row>1</th><td>DDX3X    </td><td>12</td></tr>\n",
       "\t<tr><th scope=row>2</th><td>PUDP     </td><td> 7</td></tr>\n",
       "\t<tr><th scope=row>3</th><td>MYB      </td><td> 5</td></tr>\n",
       "\t<tr><th scope=row>4</th><td>LINC01198</td><td> 4</td></tr>\n",
       "\t<tr><th scope=row>5</th><td>CCDC120  </td><td> 3</td></tr>\n",
       "\t<tr><th scope=row>6</th><td>FRMD5    </td><td> 3</td></tr>\n",
       "</tbody>\n",
       "</table>\n"
      ],
      "text/latex": [
       "A data.frame: 6 × 2\n",
       "\\begin{tabular}{r|ll}\n",
       "  & GeneSymbol & n\\\\\n",
       "  & <fct> & <int>\\\\\n",
       "\\hline\n",
       "\t1 & DDX3X     & 12\\\\\n",
       "\t2 & PUDP      &  7\\\\\n",
       "\t3 & MYB       &  5\\\\\n",
       "\t4 & LINC01198 &  4\\\\\n",
       "\t5 & CCDC120   &  3\\\\\n",
       "\t6 & FRMD5     &  3\\\\\n",
       "\\end{tabular}\n"
      ],
      "text/markdown": [
       "\n",
       "A data.frame: 6 × 2\n",
       "\n",
       "| <!--/--> | GeneSymbol &lt;fct&gt; | n &lt;int&gt; |\n",
       "|---|---|---|\n",
       "| 1 | DDX3X     | 12 |\n",
       "| 2 | PUDP      |  7 |\n",
       "| 3 | MYB       |  5 |\n",
       "| 4 | LINC01198 |  4 |\n",
       "| 5 | CCDC120   |  3 |\n",
       "| 6 | FRMD5     |  3 |\n",
       "\n"
      ],
      "text/plain": [
       "  GeneSymbol n \n",
       "1 DDX3X      12\n",
       "2 PUDP        7\n",
       "3 MYB         5\n",
       "4 LINC01198   4\n",
       "5 CCDC120     3\n",
       "6 FRMD5       3"
      ]
     },
     "metadata": {},
     "output_type": "display_data"
    },
    {
     "name": "stderr",
     "output_type": "stream",
     "text": [
      "Significant spliced genes for MXE\n",
      "83 \n",
      "\n"
     ]
    },
    {
     "data": {
      "text/html": [
       "<table>\n",
       "<caption>A data.frame: 6 × 2</caption>\n",
       "<thead>\n",
       "\t<tr><th></th><th scope=col>GeneSymbol</th><th scope=col>n</th></tr>\n",
       "\t<tr><th></th><th scope=col>&lt;fct&gt;</th><th scope=col>&lt;int&gt;</th></tr>\n",
       "</thead>\n",
       "<tbody>\n",
       "\t<tr><th scope=row>1</th><td>XIST  </td><td>13</td></tr>\n",
       "\t<tr><th scope=row>2</th><td>SORBS2</td><td> 5</td></tr>\n",
       "\t<tr><th scope=row>3</th><td>ACSL6 </td><td> 4</td></tr>\n",
       "\t<tr><th scope=row>4</th><td>DDX3X </td><td> 3</td></tr>\n",
       "\t<tr><th scope=row>5</th><td>MUC1  </td><td> 3</td></tr>\n",
       "\t<tr><th scope=row>6</th><td>SGCE  </td><td> 3</td></tr>\n",
       "</tbody>\n",
       "</table>\n"
      ],
      "text/latex": [
       "A data.frame: 6 × 2\n",
       "\\begin{tabular}{r|ll}\n",
       "  & GeneSymbol & n\\\\\n",
       "  & <fct> & <int>\\\\\n",
       "\\hline\n",
       "\t1 & XIST   & 13\\\\\n",
       "\t2 & SORBS2 &  5\\\\\n",
       "\t3 & ACSL6  &  4\\\\\n",
       "\t4 & DDX3X  &  3\\\\\n",
       "\t5 & MUC1   &  3\\\\\n",
       "\t6 & SGCE   &  3\\\\\n",
       "\\end{tabular}\n"
      ],
      "text/markdown": [
       "\n",
       "A data.frame: 6 × 2\n",
       "\n",
       "| <!--/--> | GeneSymbol &lt;fct&gt; | n &lt;int&gt; |\n",
       "|---|---|---|\n",
       "| 1 | XIST   | 13 |\n",
       "| 2 | SORBS2 |  5 |\n",
       "| 3 | ACSL6  |  4 |\n",
       "| 4 | DDX3X  |  3 |\n",
       "| 5 | MUC1   |  3 |\n",
       "| 6 | SGCE   |  3 |\n",
       "\n"
      ],
      "text/plain": [
       "  GeneSymbol n \n",
       "1 XIST       13\n",
       "2 SORBS2      5\n",
       "3 ACSL6       4\n",
       "4 DDX3X       3\n",
       "5 MUC1        3\n",
       "6 SGCE        3"
      ]
     },
     "metadata": {},
     "output_type": "display_data"
    },
    {
     "name": "stderr",
     "output_type": "stream",
     "text": [
      "Significant spliced genes for RI\n",
      "218 \n",
      "\n"
     ]
    },
    {
     "data": {
      "text/html": [
       "<table>\n",
       "<caption>A data.frame: 6 × 2</caption>\n",
       "<thead>\n",
       "\t<tr><th></th><th scope=col>GeneSymbol</th><th scope=col>n</th></tr>\n",
       "\t<tr><th></th><th scope=col>&lt;fct&gt;</th><th scope=col>&lt;int&gt;</th></tr>\n",
       "</thead>\n",
       "<tbody>\n",
       "\t<tr><th scope=row>1</th><td>DDX3X    </td><td>8</td></tr>\n",
       "\t<tr><th scope=row>2</th><td>UCA1     </td><td>4</td></tr>\n",
       "\t<tr><th scope=row>3</th><td>CELSR2   </td><td>4</td></tr>\n",
       "\t<tr><th scope=row>4</th><td>HAND2-AS1</td><td>3</td></tr>\n",
       "\t<tr><th scope=row>5</th><td>NLRP2    </td><td>3</td></tr>\n",
       "\t<tr><th scope=row>6</th><td>RAP1GAP  </td><td>3</td></tr>\n",
       "</tbody>\n",
       "</table>\n"
      ],
      "text/latex": [
       "A data.frame: 6 × 2\n",
       "\\begin{tabular}{r|ll}\n",
       "  & GeneSymbol & n\\\\\n",
       "  & <fct> & <int>\\\\\n",
       "\\hline\n",
       "\t1 & DDX3X     & 8\\\\\n",
       "\t2 & UCA1      & 4\\\\\n",
       "\t3 & CELSR2    & 4\\\\\n",
       "\t4 & HAND2-AS1 & 3\\\\\n",
       "\t5 & NLRP2     & 3\\\\\n",
       "\t6 & RAP1GAP   & 3\\\\\n",
       "\\end{tabular}\n"
      ],
      "text/markdown": [
       "\n",
       "A data.frame: 6 × 2\n",
       "\n",
       "| <!--/--> | GeneSymbol &lt;fct&gt; | n &lt;int&gt; |\n",
       "|---|---|---|\n",
       "| 1 | DDX3X     | 8 |\n",
       "| 2 | UCA1      | 4 |\n",
       "| 3 | CELSR2    | 4 |\n",
       "| 4 | HAND2-AS1 | 3 |\n",
       "| 5 | NLRP2     | 3 |\n",
       "| 6 | RAP1GAP   | 3 |\n",
       "\n"
      ],
      "text/plain": [
       "  GeneSymbol n\n",
       "1 DDX3X      8\n",
       "2 UCA1       4\n",
       "3 CELSR2     4\n",
       "4 HAND2-AS1  3\n",
       "5 NLRP2      3\n",
       "6 RAP1GAP    3"
      ]
     },
     "metadata": {},
     "output_type": "display_data"
    },
    {
     "name": "stderr",
     "output_type": "stream",
     "text": [
      "Significant spliced genes for SE\n",
      "1611 \n",
      "\n"
     ]
    },
    {
     "data": {
      "text/html": [
       "<table>\n",
       "<caption>A data.frame: 6 × 2</caption>\n",
       "<thead>\n",
       "\t<tr><th></th><th scope=col>GeneSymbol</th><th scope=col>n</th></tr>\n",
       "\t<tr><th></th><th scope=col>&lt;fct&gt;</th><th scope=col>&lt;int&gt;</th></tr>\n",
       "</thead>\n",
       "<tbody>\n",
       "\t<tr><th scope=row>1</th><td>XIST </td><td>129</td></tr>\n",
       "\t<tr><th scope=row>2</th><td>KDM5C</td><td> 42</td></tr>\n",
       "\t<tr><th scope=row>3</th><td>ZFX  </td><td> 37</td></tr>\n",
       "\t<tr><th scope=row>4</th><td>KDM6A</td><td> 17</td></tr>\n",
       "\t<tr><th scope=row>5</th><td>DDX3X</td><td> 15</td></tr>\n",
       "\t<tr><th scope=row>6</th><td>CD44 </td><td> 12</td></tr>\n",
       "</tbody>\n",
       "</table>\n"
      ],
      "text/latex": [
       "A data.frame: 6 × 2\n",
       "\\begin{tabular}{r|ll}\n",
       "  & GeneSymbol & n\\\\\n",
       "  & <fct> & <int>\\\\\n",
       "\\hline\n",
       "\t1 & XIST  & 129\\\\\n",
       "\t2 & KDM5C &  42\\\\\n",
       "\t3 & ZFX   &  37\\\\\n",
       "\t4 & KDM6A &  17\\\\\n",
       "\t5 & DDX3X &  15\\\\\n",
       "\t6 & CD44  &  12\\\\\n",
       "\\end{tabular}\n"
      ],
      "text/markdown": [
       "\n",
       "A data.frame: 6 × 2\n",
       "\n",
       "| <!--/--> | GeneSymbol &lt;fct&gt; | n &lt;int&gt; |\n",
       "|---|---|---|\n",
       "| 1 | XIST  | 129 |\n",
       "| 2 | KDM5C |  42 |\n",
       "| 3 | ZFX   |  37 |\n",
       "| 4 | KDM6A |  17 |\n",
       "| 5 | DDX3X |  15 |\n",
       "| 6 | CD44  |  12 |\n",
       "\n"
      ],
      "text/plain": [
       "  GeneSymbol n  \n",
       "1 XIST       129\n",
       "2 KDM5C       42\n",
       "3 ZFX         37\n",
       "4 KDM6A       17\n",
       "5 DDX3X       15\n",
       "6 CD44        12"
      ]
     },
     "metadata": {},
     "output_type": "display_data"
    }
   ],
   "source": [
    "A3SS.res <- A3SS.gene_as %>% group_by(GeneSymbol) %>% count(GeneSymbol) %>% arrange(desc(n)) %>% as.data.frame()\n",
    "A3SS.res$GeneSymbol <- factor(A3SS.res$GeneSymbol, levels = A3SS.res$GeneSymbol)\n",
    "message(\"Significant spliced genes for A3SS\\n\",\n",
    "        paste(length(A3SS.res$GeneSymbol)), collapse=\" \")\n",
    "head(A3SS.res)\n",
    "\n",
    "A5SS.res <- A5SS.gene_as %>% group_by(GeneSymbol) %>% count(GeneSymbol) %>% arrange(desc(n)) %>% as.data.frame()\n",
    "A5SS.res$GeneSymbol <- factor(A5SS.res$GeneSymbol, levels = A5SS.res$GeneSymbol)\n",
    "message(\"Significant spliced genes for A5SS\\n\",\n",
    "        paste(length(A5SS.res$GeneSymbol)), collapse=\" \")\n",
    "head(A5SS.res)\n",
    "\n",
    "MXE.res <- MXE.gene_as %>% group_by(GeneSymbol) %>% count(GeneSymbol) %>% arrange(desc(n)) %>% as.data.frame()\n",
    "MXE.res$GeneSymbol <- factor(MXE.res$GeneSymbol, levels = MXE.res$GeneSymbol)\n",
    "message(\"Significant spliced genes for MXE\\n\",\n",
    "        paste(length(MXE.res$GeneSymbol)), collapse=\" \")\n",
    "head(MXE.res)\n",
    "\n",
    "RI.res <- RI.gene_as %>% group_by(GeneSymbol) %>% count(GeneSymbol) %>% arrange(desc(n)) %>% as.data.frame()\n",
    "RI.res$GeneSymbol <- factor(RI.res$GeneSymbol, levels = RI.res$GeneSymbol)\n",
    "message(\"Significant spliced genes for RI\\n\",\n",
    "        paste(length(RI.res$GeneSymbol)), collapse=\" \")\n",
    "head(RI.res)\n",
    "\n",
    "SE.res <- SE.gene_as %>% group_by(GeneSymbol) %>% count(GeneSymbol) %>% arrange(desc(n)) %>% as.data.frame()\n",
    "SE.res$GeneSymbol <- factor(SE.res$GeneSymbol, levels = SE.res$GeneSymbol)\n",
    "message(\"Significant spliced genes for SE\\n\",\n",
    "        paste(length(SE.res$GeneSymbol)), collapse=\" \")\n",
    "head(SE.res)"
   ]
  },
  {
   "cell_type": "markdown",
   "metadata": {},
   "source": [
    "### 3.9 Count most frequent spliced genes"
   ]
  },
  {
   "cell_type": "code",
   "execution_count": 32,
   "metadata": {},
   "outputs": [
    {
     "data": {
      "text/html": [
       "1994"
      ],
      "text/latex": [
       "1994"
      ],
      "text/markdown": [
       "1994"
      ],
      "text/plain": [
       "[1] 1994"
      ]
     },
     "metadata": {},
     "output_type": "display_data"
    },
    {
     "data": {
      "text/html": [
       "<table>\n",
       "<caption>A data.frame: 6 × 3</caption>\n",
       "<thead>\n",
       "\t<tr><th></th><th scope=col>GeneSymbol</th><th scope=col>n</th><th scope=col>Tissues</th></tr>\n",
       "\t<tr><th></th><th scope=col>&lt;fct&gt;</th><th scope=col>&lt;int&gt;</th><th scope=col>&lt;int&gt;</th></tr>\n",
       "</thead>\n",
       "<tbody>\n",
       "\t<tr><th scope=row>1</th><td>XIST  </td><td>218</td><td>39</td></tr>\n",
       "\t<tr><th scope=row>2</th><td>DDX3X </td><td> 49</td><td>14</td></tr>\n",
       "\t<tr><th scope=row>3</th><td>KDM5C </td><td> 42</td><td>30</td></tr>\n",
       "\t<tr><th scope=row>4</th><td>ZFX   </td><td> 37</td><td>24</td></tr>\n",
       "\t<tr><th scope=row>5</th><td>KDM6A </td><td> 18</td><td>17</td></tr>\n",
       "\t<tr><th scope=row>6</th><td>SORBS2</td><td> 17</td><td> 1</td></tr>\n",
       "</tbody>\n",
       "</table>\n"
      ],
      "text/latex": [
       "A data.frame: 6 × 3\n",
       "\\begin{tabular}{r|lll}\n",
       "  & GeneSymbol & n & Tissues\\\\\n",
       "  & <fct> & <int> & <int>\\\\\n",
       "\\hline\n",
       "\t1 & XIST   & 218 & 39\\\\\n",
       "\t2 & DDX3X  &  49 & 14\\\\\n",
       "\t3 & KDM5C  &  42 & 30\\\\\n",
       "\t4 & ZFX    &  37 & 24\\\\\n",
       "\t5 & KDM6A  &  18 & 17\\\\\n",
       "\t6 & SORBS2 &  17 &  1\\\\\n",
       "\\end{tabular}\n"
      ],
      "text/markdown": [
       "\n",
       "A data.frame: 6 × 3\n",
       "\n",
       "| <!--/--> | GeneSymbol &lt;fct&gt; | n &lt;int&gt; | Tissues &lt;int&gt; |\n",
       "|---|---|---|---|\n",
       "| 1 | XIST   | 218 | 39 |\n",
       "| 2 | DDX3X  |  49 | 14 |\n",
       "| 3 | KDM5C  |  42 | 30 |\n",
       "| 4 | ZFX    |  37 | 24 |\n",
       "| 5 | KDM6A  |  18 | 17 |\n",
       "| 6 | SORBS2 |  17 |  1 |\n",
       "\n"
      ],
      "text/plain": [
       "  GeneSymbol n   Tissues\n",
       "1 XIST       218 39     \n",
       "2 DDX3X       49 14     \n",
       "3 KDM5C       42 30     \n",
       "4 ZFX         37 24     \n",
       "5 KDM6A       18 17     \n",
       "6 SORBS2      17  1     "
      ]
     },
     "metadata": {},
     "output_type": "display_data"
    }
   ],
   "source": [
    "genesMostFrequentlySpliced <- gene_as %>% \n",
    "                              group_by(GeneSymbol) %>% \n",
    "                              count(GeneSymbol)    %>% \n",
    "                              arrange(desc(n))     %>% \n",
    "                              as.data.frame()\n",
    "genesMostFrequentlySpliced$GeneSymbol <- factor(genesMostFrequentlySpliced$GeneSymbol, \n",
    "                                                levels = genesMostFrequentlySpliced$GeneSymbol)\n",
    "length(genesMostFrequentlySpliced$GeneSymbol)\n",
    "\n",
    "#Add number of tissues\n",
    "nTissues <- rep(NA, length(genesMostFrequentlySpliced))\n",
    "for (i in 1:nrow(genesMostFrequentlySpliced)) {\n",
    "    df_gene <- gene_as %>% \n",
    "               filter(GeneSymbol == genesMostFrequentlySpliced$GeneSymbol[i])\n",
    "    nTissues[i] <- length(unique(df_gene$Tissue))\n",
    "}\n",
    "genesMostFrequentlySpliced$Tissues <- nTissues\n",
    "head(genesMostFrequentlySpliced)\n",
    "write.table(genesMostFrequentlySpliced, file = \"../data/genesWithCommonAS.tsv\", sep = \"\\t\", quote = F, row.names = F)"
   ]
  },
  {
   "cell_type": "markdown",
   "metadata": {},
   "source": [
    "### 3.10 Count most frequent spliced chromosomes\n",
    "To get an indication of which chromosome has the most frequent slicing event (regardless of type)\n",
    "We create an index based upon the number of exons per chromosome.\n",
    "\n",
    "get the annotation file, at this writing, gencode.v30.annotation.gtf\n",
    "The information as to the number of exons within the chromosome may be found there"
   ]
  },
  {
   "cell_type": "code",
   "execution_count": 33,
   "metadata": {},
   "outputs": [
    {
     "name": "stdout",
     "output_type": "stream",
     "text": [
      "Rows: 23\n",
      "Columns: 4\n",
      "$ chr        \u001b[3m\u001b[90m<fct>\u001b[39m\u001b[23m chrX, chr19, chr22, chr4, chr1, chr16, chr11, chr17, chr6,…\n",
      "$ n          \u001b[3m\u001b[90m<int>\u001b[39m\u001b[23m 513, 310, 112, 187, 430, 210, 255, 251, 179, 140, 212, 220…\n",
      "$ ExonCounts \u001b[3m\u001b[90m<dbl>\u001b[39m\u001b[23m 40029, 74466, 28655, 50420, 118996, 61199, 75976, 78291, 5…\n",
      "$ Index      \u001b[3m\u001b[90m<dbl>\u001b[39m\u001b[23m 12.815709, 4.162974, 3.908567, 3.708846, 3.613567, 3.43142…\n"
     ]
    }
   ],
   "source": [
    "exons <- gencode[ gencode$type == \"exon\", ]\n",
    "exons <- as.data.frame(exons)\n",
    "\n",
    "#Obtain chromosomes we have splicing information for (recall we did not use chr Y in our analysis)\n",
    "all_chr <- as.character(unique(gene_as$chr))\n",
    "chr_counts <- rep(0, length(all_chr))\n",
    "\n",
    "\n",
    "for (i in 1:length(all_chr)) {\n",
    "  chr_counts[i] <- nrow(exons[exons$seqnames == all_chr[i], ])\n",
    "}\n",
    "\n",
    "exon_counts <- data.frame(chr = all_chr, counts = chr_counts)\n",
    "\n",
    "# Count most frequent spliced chromosomes\n",
    "res <- gene_as %>% group_by(chr) %>% count(chr) %>% arrange(desc(n)) %>% as.data.frame()\n",
    "res$chr <- factor(res$chr, levels = res$chr)\n",
    "\n",
    "idx <- match(res$chr, exon_counts$chr)\n",
    "\n",
    "res$ExonCounts <- exon_counts$counts[idx]\n",
    "\n",
    "res$Index <- (res$n / res$ExonCounts) * 1000\n",
    "\n",
    "res_sorted <- res %>% arrange(desc(Index))\n",
    "res_sorted$chr <- factor(res_sorted$chr, levels = res_sorted$chr)\n",
    "glimpse(res_sorted)\n",
    "write.table(res_sorted, file = \"../data/SplicingIndex_chr.tsv\", sep = \"\\t\", quote = F, row.names = F)"
   ]
  },
  {
   "cell_type": "code",
   "execution_count": null,
   "metadata": {},
   "outputs": [],
   "source": []
  },
  {
   "cell_type": "markdown",
   "metadata": {},
   "source": [
    "### 3.11 Overlap between Differential Gene Expression and Differential Alternative Splicing\n",
    "\n",
    "First gather the data"
   ]
  },
  {
   "cell_type": "code",
   "execution_count": 34,
   "metadata": {},
   "outputs": [
    {
     "data": {
      "text/html": [
       "<style>\n",
       ".list-inline {list-style: none; margin:0; padding: 0}\n",
       ".list-inline>li {display: inline-block}\n",
       ".list-inline>li:not(:last-child)::after {content: \"\\00b7\"; padding: 0 .5ex}\n",
       "</style>\n",
       "<ol class=list-inline><li>A2M</li><li>A2ML1</li><li>A4GNT</li><li>AACSP1</li><li>AADAC</li><li>AADAC</li></ol>\n",
       "\n",
       "<details>\n",
       "\t<summary style=display:list-item;cursor:pointer>\n",
       "\t\t<strong>Levels</strong>:\n",
       "\t</summary>\n",
       "\t<style>\n",
       "\t.list-inline {list-style: none; margin:0; padding: 0}\n",
       "\t.list-inline>li {display: inline-block}\n",
       "\t.list-inline>li:not(:last-child)::after {content: \"\\00b7\"; padding: 0 .5ex}\n",
       "\t</style>\n",
       "\t<ol class=list-inline><li>'A2M'</li><li>'A2ML1'</li><li>'A4GNT'</li><li>'AACSP1'</li><li>'AADAC'</li><li>'AADACL2-AS1'</li><li>'AADACL3'</li><li>'AADACL4'</li><li>'AANAT'</li><li>'AARD'</li><li>'AATBC'</li><li>'AATK'</li><li>'ABCA12'</li><li>'ABCA13'</li><li>'ABCA4'</li><li>'ABCA8'</li><li>'ABCB1'</li><li>'ABCB11'</li><li>'ABCB4'</li><li>'ABCB5'</li><li>'ABCC11'</li><li>'ABCC12'</li><li>'ABCC3'</li><li>'ABCC6'</li><li>'ABCC6P1'</li><li>'ABCC8'</li><li>'ABCC9'</li><li>'ABCD2'</li><li>'ABCG8'</li><li>'ABHD11'</li><li>'ABLIM2'</li><li>'ABLIM3'</li><li>'ABRA'</li><li>'AC002059.1'</li><li>'AC002066.1'</li><li>'AC002094.5'</li><li>'AC002316.1'</li><li>'AC002383.1'</li><li>'AC002400.1'</li><li>'AC002428.2'</li><li>'AC002472.1'</li><li>'AC002511.1'</li><li>'AC002511.2'</li><li>'AC002525.1'</li><li>'AC002546.1'</li><li>'AC003035.1'</li><li>'AC003958.2'</li><li>'AC003986.1'</li><li>'AC003986.2'</li><li>'AC003986.3'</li><li>'AC003991.1'</li><li>'AC004023.1'</li><li>'AC004066.2'</li><li>'AC004080.1'</li><li>'AC004130.2'</li><li>'AC004160.1'</li><li>'AC004231.1'</li><li>'AC004233.1'</li><li>'AC004233.2'</li><li>'AC004264.1'</li><li>'AC004381.1'</li><li>'AC004381.3'</li><li>'AC004494.1'</li><li>'AC004522.4'</li><li>'AC004540.1'</li><li>'AC004540.2'</li><li>'AC004551.1'</li><li>'AC004554.2'</li><li>'AC004584.3'</li><li>'AC004687.1'</li><li>'AC004706.1'</li><li>'AC004784.1'</li><li>'AC004816.1'</li><li>'AC004828.1'</li><li>'AC004830.2'</li><li>'AC004832.4'</li><li>'AC004870.1'</li><li>'AC004870.2'</li><li>'AC004917.1'</li><li>'AC004923.1'</li><li>'AC004925.1'</li><li>'AC004947.1'</li><li>'AC004947.2'</li><li>'AC004969.1'</li><li>'AC004988.1'</li><li>'AC005013.1'</li><li>'AC005034.5'</li><li>'AC005052.1'</li><li>'AC005062.1'</li><li>'AC005064.1'</li><li>'AC005077.4'</li><li>'AC005082.1'</li><li>'AC005083.1'</li><li>'AC005089.1'</li><li>'AC005144.1'</li><li>'AC005162.1'</li><li>'AC005162.2'</li><li>'AC005165.1'</li><li>'AC005165.2'</li><li>'AC005180.1'</li><li>'AC005180.2'</li><li>'AC005208.1'</li><li>'AC005224.3'</li><li>'AC005230.1'</li><li>'AC005237.1'</li><li>'AC005252.3'</li><li>'AC005291.1'</li><li>'AC005291.2'</li><li>'AC005323.1'</li><li>'AC005323.2'</li><li>'AC005336.1'</li><li>'AC005336.2'</li><li>'AC005336.3'</li><li>'AC005358.1'</li><li>'AC005476.2'</li><li>'AC005479.1'</li><li>'AC005481.1'</li><li>'AC005537.2'</li><li>'AC005550.2'</li><li>'AC005586.2'</li><li>'AC005674.2'</li><li>'AC005699.1'</li><li>'AC005722.3'</li><li>'AC005730.2'</li><li>'AC005747.1'</li><li>'AC005828.5'</li><li>'AC005831.1'</li><li>'AC005837.4'</li><li>'AC005840.2'</li><li>'AC005840.3'</li><li>'AC005884.1'</li><li>'AC005906.2'</li><li>'AC005920.4'</li><li>'AC005962.1'</li><li>'AC006033.1'</li><li>'AC006058.1'</li><li>'AC006058.3'</li><li>'AC006058.4'</li><li>'AC006157.1'</li><li>'AC006159.2'</li><li>'AC006238.1'</li><li>'AC006262.1'</li><li>'AC006305.2'</li><li>'AC006369.1'</li><li>'AC006441.4'</li><li>'AC006450.3'</li><li>'AC006460.1'</li><li>'AC006487.1'</li><li>'AC006487.2'</li><li>'AC006566.1'</li><li>'AC006946.2'</li><li>'AC006946.3'</li><li>'AC006963.2'</li><li>'AC006970.1'</li><li>'AC006974.2'</li><li>'AC006994.2'</li><li>'AC007040.3'</li><li>'AC007114.2'</li><li>'AC007126.1'</li><li>'AC007193.2'</li><li>'AC007224.2'</li><li>'AC007255.1'</li><li>'AC007277.1'</li><li>'AC007278.1'</li><li>'AC007319.1'</li><li>'AC007342.3'</li><li>'AC007342.4'</li><li>'AC007342.5'</li><li>'AC007342.8'</li><li>'AC007342.9'</li><li>'AC007368.1'</li><li>'AC007395.1'</li><li>'AC007405.2'</li><li>'AC007406.3'</li><li>'AC007423.1'</li><li>'AC007424.1'</li><li>'AC007431.3'</li><li>'AC007490.1'</li><li>'AC007552.2'</li><li>'AC007569.1'</li><li>'AC007608.1'</li><li>'AC007614.1'</li><li>'AC007666.1'</li><li>'AC007671.1'</li><li>'AC007686.1'</li><li>'AC007743.1'</li><li>'AC007848.1'</li><li>'AC007876.1'</li><li>'AC007906.2'</li><li>'AC007919.1'</li><li>'AC007920.2'</li><li>'AC007952.4'</li><li>'AC007952.6'</li><li>'AC007996.1'</li><li>'AC007998.4'</li><li>'AC008013.3'</li><li>'AC008014.1'</li><li>'AC008035.1'</li><li>'AC008060.4'</li><li>'AC008073.1'</li><li>⋯</li><li>'UNC5D'</li><li>'UNGP3'</li><li>'UPB1'</li><li>'UPK1B'</li><li>'UPK2'</li><li>'UPK3A'</li><li>'UPP1'</li><li>'URAD'</li><li>'USH1C'</li><li>'USH2A'</li><li>'USHBP1'</li><li>'USP17L2'</li><li>'USP32P2'</li><li>'USP43'</li><li>'USP6'</li><li>'USP9Y'</li><li>'USP9YP14'</li><li>'UTS2R'</li><li>'UTY'</li><li>'VAMP5'</li><li>'VANGL2'</li><li>'VASH2'</li><li>'VAT1L'</li><li>'VAV3'</li><li>'VAX2'</li><li>'VCX'</li><li>'VDAC2P3'</li><li>'VDR'</li><li>'VEGFD'</li><li>'VGLL1'</li><li>'VGLL2'</li><li>'VIL1'</li><li>'VIM'</li><li>'VIM-AS1'</li><li>'VIPR2'</li><li>'VIT'</li><li>'VLDLR-AS1'</li><li>'VMO1'</li><li>'VN1R21P'</li><li>'VN1R53P'</li><li>'VN2R10P'</li><li>'VN2R17P'</li><li>'VNN1'</li><li>'VPREB1'</li><li>'VPREB3'</li><li>'VPS9D1-AS1'</li><li>'VSIG1'</li><li>'VSIG4'</li><li>'VSNL1'</li><li>'VSTM2A'</li><li>'VSTM2A-OT1'</li><li>'VSTM5'</li><li>'VSX1'</li><li>'VTCN1'</li><li>'VWA3B'</li><li>'VWA5B1'</li><li>'VWC2'</li><li>'VWCE'</li><li>'VWDE'</li><li>'VWF'</li><li>'WASF5P'</li><li>'WASIR2'</li><li>'WDFY4'</li><li>'WDR72'</li><li>'WDR86'</li><li>'WDR86-AS1'</li><li>'WEE1'</li><li>'WFDC1'</li><li>'WFDC12'</li><li>'WFDC2'</li><li>'WFDC21P'</li><li>'WFDC6'</li><li>'WFDC8'</li><li>'WHRN'</li><li>'WIF1'</li><li>'WIPF3'</li><li>'WNK2'</li><li>'WNK4'</li><li>'WNT1'</li><li>'WNT10A'</li><li>'WNT10B'</li><li>'WNT11'</li><li>'WNT2'</li><li>'WNT3A'</li><li>'WNT4'</li><li>'WNT5A'</li><li>'WNT5A-AS1'</li><li>'WNT7B'</li><li>'WNT8A'</li><li>'WNT8B'</li><li>'WSCD2'</li><li>'WTAPP1'</li><li>'WWC1'</li><li>'WWC2-AS1'</li><li>'XAGE2'</li><li>'XAGE3'</li><li>'XCL1'</li><li>'XCL2'</li><li>'XCR1'</li><li>'XDH'</li><li>'XG'</li><li>'XGY1'</li><li>'XIST'</li><li>'XKR4'</li><li>'XKR5'</li><li>'XKR7'</li><li>'XKRX'</li><li>'XPNPEP2'</li><li>'XPOTP1'</li><li>'Z82185.1'</li><li>'Z82206.1'</li><li>'Z82246.1'</li><li>'Z84485.1'</li><li>'Z84492.1'</li><li>'Z94057.1'</li><li>'Z94721.1'</li><li>'Z97205.2'</li><li>'Z97653.2'</li><li>'Z98259.1'</li><li>'Z99129.3'</li><li>'Z99289.2'</li><li>'Z99774.1'</li><li>'Z99916.2'</li><li>'Z99943.1'</li><li>'ZAP70'</li><li>'ZBED1'</li><li>'ZBED2'</li><li>'ZBED6CL'</li><li>'ZBED9'</li><li>'ZBP1'</li><li>'ZBTB8B'</li><li>'ZC2HC1B'</li><li>'ZC3H11B'</li><li>'ZCCHC12'</li><li>'ZDHHC19'</li><li>'ZDHHC20P1'</li><li>'ZDHHC8P1'</li><li>'ZFP57'</li><li>'ZFX'</li><li>'ZFX-AS1'</li><li>'ZFY'</li><li>'ZFY-AS1'</li><li>'ZG16B'</li><li>'ZIC1'</li><li>'ZIC2'</li><li>'ZIC3'</li><li>'ZIC4'</li><li>'ZIC5'</li><li>'ZMAT4'</li><li>'ZMYND15'</li><li>'ZNF114'</li><li>'ZNF157'</li><li>'ZNF165'</li><li>'ZNF185'</li><li>'ZNF209P'</li><li>'ZNF215'</li><li>'ZNF296'</li><li>'ZNF334'</li><li>'ZNF33B'</li><li>'ZNF350-AS1'</li><li>'ZNF365'</li><li>'ZNF366'</li><li>'ZNF385B'</li><li>'ZNF385C'</li><li>'ZNF385D'</li><li>'ZNF385D-AS1'</li><li>'ZNF469'</li><li>'ZNF474'</li><li>'ZNF497'</li><li>'ZNF536'</li><li>'ZNF552'</li><li>'ZNF608'</li><li>'ZNF648'</li><li>'ZNF663P'</li><li>'ZNF667'</li><li>'ZNF683'</li><li>'ZNF689'</li><li>'ZNF711'</li><li>'ZNF726'</li><li>'ZNF727'</li><li>'ZNF736P9Y'</li><li>'ZNF750'</li><li>'ZNF774'</li><li>'ZNF80'</li><li>'ZNF804B'</li><li>'ZNF812P'</li><li>'ZNF831'</li><li>'ZNF839P1'</li><li>'ZNF840P'</li><li>'ZNF860'</li><li>'ZNF885P'</li><li>'ZNF887P'</li><li>'ZNF98'</li><li>'ZNRF3-AS1'</li><li>'ZNRF4'</li><li>'ZPLD1'</li><li>'ZRANB2-AS1'</li><li>'ZRSR2'</li><li>'ZSCAN4'</li><li>'ZYG11A'</li></ol>\n",
       "</details>"
      ],
      "text/latex": [
       "\\begin{enumerate*}\n",
       "\\item A2M\n",
       "\\item A2ML1\n",
       "\\item A4GNT\n",
       "\\item AACSP1\n",
       "\\item AADAC\n",
       "\\item AADAC\n",
       "\\end{enumerate*}\n",
       "\n",
       "\\emph{Levels}: \\begin{enumerate*}\n",
       "\\item 'A2M'\n",
       "\\item 'A2ML1'\n",
       "\\item 'A4GNT'\n",
       "\\item 'AACSP1'\n",
       "\\item 'AADAC'\n",
       "\\item 'AADACL2-AS1'\n",
       "\\item 'AADACL3'\n",
       "\\item 'AADACL4'\n",
       "\\item 'AANAT'\n",
       "\\item 'AARD'\n",
       "\\item 'AATBC'\n",
       "\\item 'AATK'\n",
       "\\item 'ABCA12'\n",
       "\\item 'ABCA13'\n",
       "\\item 'ABCA4'\n",
       "\\item 'ABCA8'\n",
       "\\item 'ABCB1'\n",
       "\\item 'ABCB11'\n",
       "\\item 'ABCB4'\n",
       "\\item 'ABCB5'\n",
       "\\item 'ABCC11'\n",
       "\\item 'ABCC12'\n",
       "\\item 'ABCC3'\n",
       "\\item 'ABCC6'\n",
       "\\item 'ABCC6P1'\n",
       "\\item 'ABCC8'\n",
       "\\item 'ABCC9'\n",
       "\\item 'ABCD2'\n",
       "\\item 'ABCG8'\n",
       "\\item 'ABHD11'\n",
       "\\item 'ABLIM2'\n",
       "\\item 'ABLIM3'\n",
       "\\item 'ABRA'\n",
       "\\item 'AC002059.1'\n",
       "\\item 'AC002066.1'\n",
       "\\item 'AC002094.5'\n",
       "\\item 'AC002316.1'\n",
       "\\item 'AC002383.1'\n",
       "\\item 'AC002400.1'\n",
       "\\item 'AC002428.2'\n",
       "\\item 'AC002472.1'\n",
       "\\item 'AC002511.1'\n",
       "\\item 'AC002511.2'\n",
       "\\item 'AC002525.1'\n",
       "\\item 'AC002546.1'\n",
       "\\item 'AC003035.1'\n",
       "\\item 'AC003958.2'\n",
       "\\item 'AC003986.1'\n",
       "\\item 'AC003986.2'\n",
       "\\item 'AC003986.3'\n",
       "\\item 'AC003991.1'\n",
       "\\item 'AC004023.1'\n",
       "\\item 'AC004066.2'\n",
       "\\item 'AC004080.1'\n",
       "\\item 'AC004130.2'\n",
       "\\item 'AC004160.1'\n",
       "\\item 'AC004231.1'\n",
       "\\item 'AC004233.1'\n",
       "\\item 'AC004233.2'\n",
       "\\item 'AC004264.1'\n",
       "\\item 'AC004381.1'\n",
       "\\item 'AC004381.3'\n",
       "\\item 'AC004494.1'\n",
       "\\item 'AC004522.4'\n",
       "\\item 'AC004540.1'\n",
       "\\item 'AC004540.2'\n",
       "\\item 'AC004551.1'\n",
       "\\item 'AC004554.2'\n",
       "\\item 'AC004584.3'\n",
       "\\item 'AC004687.1'\n",
       "\\item 'AC004706.1'\n",
       "\\item 'AC004784.1'\n",
       "\\item 'AC004816.1'\n",
       "\\item 'AC004828.1'\n",
       "\\item 'AC004830.2'\n",
       "\\item 'AC004832.4'\n",
       "\\item 'AC004870.1'\n",
       "\\item 'AC004870.2'\n",
       "\\item 'AC004917.1'\n",
       "\\item 'AC004923.1'\n",
       "\\item 'AC004925.1'\n",
       "\\item 'AC004947.1'\n",
       "\\item 'AC004947.2'\n",
       "\\item 'AC004969.1'\n",
       "\\item 'AC004988.1'\n",
       "\\item 'AC005013.1'\n",
       "\\item 'AC005034.5'\n",
       "\\item 'AC005052.1'\n",
       "\\item 'AC005062.1'\n",
       "\\item 'AC005064.1'\n",
       "\\item 'AC005077.4'\n",
       "\\item 'AC005082.1'\n",
       "\\item 'AC005083.1'\n",
       "\\item 'AC005089.1'\n",
       "\\item 'AC005144.1'\n",
       "\\item 'AC005162.1'\n",
       "\\item 'AC005162.2'\n",
       "\\item 'AC005165.1'\n",
       "\\item 'AC005165.2'\n",
       "\\item 'AC005180.1'\n",
       "\\item 'AC005180.2'\n",
       "\\item 'AC005208.1'\n",
       "\\item 'AC005224.3'\n",
       "\\item 'AC005230.1'\n",
       "\\item 'AC005237.1'\n",
       "\\item 'AC005252.3'\n",
       "\\item 'AC005291.1'\n",
       "\\item 'AC005291.2'\n",
       "\\item 'AC005323.1'\n",
       "\\item 'AC005323.2'\n",
       "\\item 'AC005336.1'\n",
       "\\item 'AC005336.2'\n",
       "\\item 'AC005336.3'\n",
       "\\item 'AC005358.1'\n",
       "\\item 'AC005476.2'\n",
       "\\item 'AC005479.1'\n",
       "\\item 'AC005481.1'\n",
       "\\item 'AC005537.2'\n",
       "\\item 'AC005550.2'\n",
       "\\item 'AC005586.2'\n",
       "\\item 'AC005674.2'\n",
       "\\item 'AC005699.1'\n",
       "\\item 'AC005722.3'\n",
       "\\item 'AC005730.2'\n",
       "\\item 'AC005747.1'\n",
       "\\item 'AC005828.5'\n",
       "\\item 'AC005831.1'\n",
       "\\item 'AC005837.4'\n",
       "\\item 'AC005840.2'\n",
       "\\item 'AC005840.3'\n",
       "\\item 'AC005884.1'\n",
       "\\item 'AC005906.2'\n",
       "\\item 'AC005920.4'\n",
       "\\item 'AC005962.1'\n",
       "\\item 'AC006033.1'\n",
       "\\item 'AC006058.1'\n",
       "\\item 'AC006058.3'\n",
       "\\item 'AC006058.4'\n",
       "\\item 'AC006157.1'\n",
       "\\item 'AC006159.2'\n",
       "\\item 'AC006238.1'\n",
       "\\item 'AC006262.1'\n",
       "\\item 'AC006305.2'\n",
       "\\item 'AC006369.1'\n",
       "\\item 'AC006441.4'\n",
       "\\item 'AC006450.3'\n",
       "\\item 'AC006460.1'\n",
       "\\item 'AC006487.1'\n",
       "\\item 'AC006487.2'\n",
       "\\item 'AC006566.1'\n",
       "\\item 'AC006946.2'\n",
       "\\item 'AC006946.3'\n",
       "\\item 'AC006963.2'\n",
       "\\item 'AC006970.1'\n",
       "\\item 'AC006974.2'\n",
       "\\item 'AC006994.2'\n",
       "\\item 'AC007040.3'\n",
       "\\item 'AC007114.2'\n",
       "\\item 'AC007126.1'\n",
       "\\item 'AC007193.2'\n",
       "\\item 'AC007224.2'\n",
       "\\item 'AC007255.1'\n",
       "\\item 'AC007277.1'\n",
       "\\item 'AC007278.1'\n",
       "\\item 'AC007319.1'\n",
       "\\item 'AC007342.3'\n",
       "\\item 'AC007342.4'\n",
       "\\item 'AC007342.5'\n",
       "\\item 'AC007342.8'\n",
       "\\item 'AC007342.9'\n",
       "\\item 'AC007368.1'\n",
       "\\item 'AC007395.1'\n",
       "\\item 'AC007405.2'\n",
       "\\item 'AC007406.3'\n",
       "\\item 'AC007423.1'\n",
       "\\item 'AC007424.1'\n",
       "\\item 'AC007431.3'\n",
       "\\item 'AC007490.1'\n",
       "\\item 'AC007552.2'\n",
       "\\item 'AC007569.1'\n",
       "\\item 'AC007608.1'\n",
       "\\item 'AC007614.1'\n",
       "\\item 'AC007666.1'\n",
       "\\item 'AC007671.1'\n",
       "\\item 'AC007686.1'\n",
       "\\item 'AC007743.1'\n",
       "\\item 'AC007848.1'\n",
       "\\item 'AC007876.1'\n",
       "\\item 'AC007906.2'\n",
       "\\item 'AC007919.1'\n",
       "\\item 'AC007920.2'\n",
       "\\item 'AC007952.4'\n",
       "\\item 'AC007952.6'\n",
       "\\item 'AC007996.1'\n",
       "\\item 'AC007998.4'\n",
       "\\item 'AC008013.3'\n",
       "\\item 'AC008014.1'\n",
       "\\item 'AC008035.1'\n",
       "\\item 'AC008060.4'\n",
       "\\item 'AC008073.1'\n",
       "\\item ⋯\n",
       "\\item 'UNC5D'\n",
       "\\item 'UNGP3'\n",
       "\\item 'UPB1'\n",
       "\\item 'UPK1B'\n",
       "\\item 'UPK2'\n",
       "\\item 'UPK3A'\n",
       "\\item 'UPP1'\n",
       "\\item 'URAD'\n",
       "\\item 'USH1C'\n",
       "\\item 'USH2A'\n",
       "\\item 'USHBP1'\n",
       "\\item 'USP17L2'\n",
       "\\item 'USP32P2'\n",
       "\\item 'USP43'\n",
       "\\item 'USP6'\n",
       "\\item 'USP9Y'\n",
       "\\item 'USP9YP14'\n",
       "\\item 'UTS2R'\n",
       "\\item 'UTY'\n",
       "\\item 'VAMP5'\n",
       "\\item 'VANGL2'\n",
       "\\item 'VASH2'\n",
       "\\item 'VAT1L'\n",
       "\\item 'VAV3'\n",
       "\\item 'VAX2'\n",
       "\\item 'VCX'\n",
       "\\item 'VDAC2P3'\n",
       "\\item 'VDR'\n",
       "\\item 'VEGFD'\n",
       "\\item 'VGLL1'\n",
       "\\item 'VGLL2'\n",
       "\\item 'VIL1'\n",
       "\\item 'VIM'\n",
       "\\item 'VIM-AS1'\n",
       "\\item 'VIPR2'\n",
       "\\item 'VIT'\n",
       "\\item 'VLDLR-AS1'\n",
       "\\item 'VMO1'\n",
       "\\item 'VN1R21P'\n",
       "\\item 'VN1R53P'\n",
       "\\item 'VN2R10P'\n",
       "\\item 'VN2R17P'\n",
       "\\item 'VNN1'\n",
       "\\item 'VPREB1'\n",
       "\\item 'VPREB3'\n",
       "\\item 'VPS9D1-AS1'\n",
       "\\item 'VSIG1'\n",
       "\\item 'VSIG4'\n",
       "\\item 'VSNL1'\n",
       "\\item 'VSTM2A'\n",
       "\\item 'VSTM2A-OT1'\n",
       "\\item 'VSTM5'\n",
       "\\item 'VSX1'\n",
       "\\item 'VTCN1'\n",
       "\\item 'VWA3B'\n",
       "\\item 'VWA5B1'\n",
       "\\item 'VWC2'\n",
       "\\item 'VWCE'\n",
       "\\item 'VWDE'\n",
       "\\item 'VWF'\n",
       "\\item 'WASF5P'\n",
       "\\item 'WASIR2'\n",
       "\\item 'WDFY4'\n",
       "\\item 'WDR72'\n",
       "\\item 'WDR86'\n",
       "\\item 'WDR86-AS1'\n",
       "\\item 'WEE1'\n",
       "\\item 'WFDC1'\n",
       "\\item 'WFDC12'\n",
       "\\item 'WFDC2'\n",
       "\\item 'WFDC21P'\n",
       "\\item 'WFDC6'\n",
       "\\item 'WFDC8'\n",
       "\\item 'WHRN'\n",
       "\\item 'WIF1'\n",
       "\\item 'WIPF3'\n",
       "\\item 'WNK2'\n",
       "\\item 'WNK4'\n",
       "\\item 'WNT1'\n",
       "\\item 'WNT10A'\n",
       "\\item 'WNT10B'\n",
       "\\item 'WNT11'\n",
       "\\item 'WNT2'\n",
       "\\item 'WNT3A'\n",
       "\\item 'WNT4'\n",
       "\\item 'WNT5A'\n",
       "\\item 'WNT5A-AS1'\n",
       "\\item 'WNT7B'\n",
       "\\item 'WNT8A'\n",
       "\\item 'WNT8B'\n",
       "\\item 'WSCD2'\n",
       "\\item 'WTAPP1'\n",
       "\\item 'WWC1'\n",
       "\\item 'WWC2-AS1'\n",
       "\\item 'XAGE2'\n",
       "\\item 'XAGE3'\n",
       "\\item 'XCL1'\n",
       "\\item 'XCL2'\n",
       "\\item 'XCR1'\n",
       "\\item 'XDH'\n",
       "\\item 'XG'\n",
       "\\item 'XGY1'\n",
       "\\item 'XIST'\n",
       "\\item 'XKR4'\n",
       "\\item 'XKR5'\n",
       "\\item 'XKR7'\n",
       "\\item 'XKRX'\n",
       "\\item 'XPNPEP2'\n",
       "\\item 'XPOTP1'\n",
       "\\item 'Z82185.1'\n",
       "\\item 'Z82206.1'\n",
       "\\item 'Z82246.1'\n",
       "\\item 'Z84485.1'\n",
       "\\item 'Z84492.1'\n",
       "\\item 'Z94057.1'\n",
       "\\item 'Z94721.1'\n",
       "\\item 'Z97205.2'\n",
       "\\item 'Z97653.2'\n",
       "\\item 'Z98259.1'\n",
       "\\item 'Z99129.3'\n",
       "\\item 'Z99289.2'\n",
       "\\item 'Z99774.1'\n",
       "\\item 'Z99916.2'\n",
       "\\item 'Z99943.1'\n",
       "\\item 'ZAP70'\n",
       "\\item 'ZBED1'\n",
       "\\item 'ZBED2'\n",
       "\\item 'ZBED6CL'\n",
       "\\item 'ZBED9'\n",
       "\\item 'ZBP1'\n",
       "\\item 'ZBTB8B'\n",
       "\\item 'ZC2HC1B'\n",
       "\\item 'ZC3H11B'\n",
       "\\item 'ZCCHC12'\n",
       "\\item 'ZDHHC19'\n",
       "\\item 'ZDHHC20P1'\n",
       "\\item 'ZDHHC8P1'\n",
       "\\item 'ZFP57'\n",
       "\\item 'ZFX'\n",
       "\\item 'ZFX-AS1'\n",
       "\\item 'ZFY'\n",
       "\\item 'ZFY-AS1'\n",
       "\\item 'ZG16B'\n",
       "\\item 'ZIC1'\n",
       "\\item 'ZIC2'\n",
       "\\item 'ZIC3'\n",
       "\\item 'ZIC4'\n",
       "\\item 'ZIC5'\n",
       "\\item 'ZMAT4'\n",
       "\\item 'ZMYND15'\n",
       "\\item 'ZNF114'\n",
       "\\item 'ZNF157'\n",
       "\\item 'ZNF165'\n",
       "\\item 'ZNF185'\n",
       "\\item 'ZNF209P'\n",
       "\\item 'ZNF215'\n",
       "\\item 'ZNF296'\n",
       "\\item 'ZNF334'\n",
       "\\item 'ZNF33B'\n",
       "\\item 'ZNF350-AS1'\n",
       "\\item 'ZNF365'\n",
       "\\item 'ZNF366'\n",
       "\\item 'ZNF385B'\n",
       "\\item 'ZNF385C'\n",
       "\\item 'ZNF385D'\n",
       "\\item 'ZNF385D-AS1'\n",
       "\\item 'ZNF469'\n",
       "\\item 'ZNF474'\n",
       "\\item 'ZNF497'\n",
       "\\item 'ZNF536'\n",
       "\\item 'ZNF552'\n",
       "\\item 'ZNF608'\n",
       "\\item 'ZNF648'\n",
       "\\item 'ZNF663P'\n",
       "\\item 'ZNF667'\n",
       "\\item 'ZNF683'\n",
       "\\item 'ZNF689'\n",
       "\\item 'ZNF711'\n",
       "\\item 'ZNF726'\n",
       "\\item 'ZNF727'\n",
       "\\item 'ZNF736P9Y'\n",
       "\\item 'ZNF750'\n",
       "\\item 'ZNF774'\n",
       "\\item 'ZNF80'\n",
       "\\item 'ZNF804B'\n",
       "\\item 'ZNF812P'\n",
       "\\item 'ZNF831'\n",
       "\\item 'ZNF839P1'\n",
       "\\item 'ZNF840P'\n",
       "\\item 'ZNF860'\n",
       "\\item 'ZNF885P'\n",
       "\\item 'ZNF887P'\n",
       "\\item 'ZNF98'\n",
       "\\item 'ZNRF3-AS1'\n",
       "\\item 'ZNRF4'\n",
       "\\item 'ZPLD1'\n",
       "\\item 'ZRANB2-AS1'\n",
       "\\item 'ZRSR2'\n",
       "\\item 'ZSCAN4'\n",
       "\\item 'ZYG11A'\n",
       "\\end{enumerate*}\n"
      ],
      "text/markdown": [
       "1. A2M\n",
       "2. A2ML1\n",
       "3. A4GNT\n",
       "4. AACSP1\n",
       "5. AADAC\n",
       "6. AADAC\n",
       "\n",
       "\n",
       "\n",
       "**Levels**: 1. 'A2M'\n",
       "2. 'A2ML1'\n",
       "3. 'A4GNT'\n",
       "4. 'AACSP1'\n",
       "5. 'AADAC'\n",
       "6. 'AADACL2-AS1'\n",
       "7. 'AADACL3'\n",
       "8. 'AADACL4'\n",
       "9. 'AANAT'\n",
       "10. 'AARD'\n",
       "11. 'AATBC'\n",
       "12. 'AATK'\n",
       "13. 'ABCA12'\n",
       "14. 'ABCA13'\n",
       "15. 'ABCA4'\n",
       "16. 'ABCA8'\n",
       "17. 'ABCB1'\n",
       "18. 'ABCB11'\n",
       "19. 'ABCB4'\n",
       "20. 'ABCB5'\n",
       "21. 'ABCC11'\n",
       "22. 'ABCC12'\n",
       "23. 'ABCC3'\n",
       "24. 'ABCC6'\n",
       "25. 'ABCC6P1'\n",
       "26. 'ABCC8'\n",
       "27. 'ABCC9'\n",
       "28. 'ABCD2'\n",
       "29. 'ABCG8'\n",
       "30. 'ABHD11'\n",
       "31. 'ABLIM2'\n",
       "32. 'ABLIM3'\n",
       "33. 'ABRA'\n",
       "34. 'AC002059.1'\n",
       "35. 'AC002066.1'\n",
       "36. 'AC002094.5'\n",
       "37. 'AC002316.1'\n",
       "38. 'AC002383.1'\n",
       "39. 'AC002400.1'\n",
       "40. 'AC002428.2'\n",
       "41. 'AC002472.1'\n",
       "42. 'AC002511.1'\n",
       "43. 'AC002511.2'\n",
       "44. 'AC002525.1'\n",
       "45. 'AC002546.1'\n",
       "46. 'AC003035.1'\n",
       "47. 'AC003958.2'\n",
       "48. 'AC003986.1'\n",
       "49. 'AC003986.2'\n",
       "50. 'AC003986.3'\n",
       "51. 'AC003991.1'\n",
       "52. 'AC004023.1'\n",
       "53. 'AC004066.2'\n",
       "54. 'AC004080.1'\n",
       "55. 'AC004130.2'\n",
       "56. 'AC004160.1'\n",
       "57. 'AC004231.1'\n",
       "58. 'AC004233.1'\n",
       "59. 'AC004233.2'\n",
       "60. 'AC004264.1'\n",
       "61. 'AC004381.1'\n",
       "62. 'AC004381.3'\n",
       "63. 'AC004494.1'\n",
       "64. 'AC004522.4'\n",
       "65. 'AC004540.1'\n",
       "66. 'AC004540.2'\n",
       "67. 'AC004551.1'\n",
       "68. 'AC004554.2'\n",
       "69. 'AC004584.3'\n",
       "70. 'AC004687.1'\n",
       "71. 'AC004706.1'\n",
       "72. 'AC004784.1'\n",
       "73. 'AC004816.1'\n",
       "74. 'AC004828.1'\n",
       "75. 'AC004830.2'\n",
       "76. 'AC004832.4'\n",
       "77. 'AC004870.1'\n",
       "78. 'AC004870.2'\n",
       "79. 'AC004917.1'\n",
       "80. 'AC004923.1'\n",
       "81. 'AC004925.1'\n",
       "82. 'AC004947.1'\n",
       "83. 'AC004947.2'\n",
       "84. 'AC004969.1'\n",
       "85. 'AC004988.1'\n",
       "86. 'AC005013.1'\n",
       "87. 'AC005034.5'\n",
       "88. 'AC005052.1'\n",
       "89. 'AC005062.1'\n",
       "90. 'AC005064.1'\n",
       "91. 'AC005077.4'\n",
       "92. 'AC005082.1'\n",
       "93. 'AC005083.1'\n",
       "94. 'AC005089.1'\n",
       "95. 'AC005144.1'\n",
       "96. 'AC005162.1'\n",
       "97. 'AC005162.2'\n",
       "98. 'AC005165.1'\n",
       "99. 'AC005165.2'\n",
       "100. 'AC005180.1'\n",
       "101. 'AC005180.2'\n",
       "102. 'AC005208.1'\n",
       "103. 'AC005224.3'\n",
       "104. 'AC005230.1'\n",
       "105. 'AC005237.1'\n",
       "106. 'AC005252.3'\n",
       "107. 'AC005291.1'\n",
       "108. 'AC005291.2'\n",
       "109. 'AC005323.1'\n",
       "110. 'AC005323.2'\n",
       "111. 'AC005336.1'\n",
       "112. 'AC005336.2'\n",
       "113. 'AC005336.3'\n",
       "114. 'AC005358.1'\n",
       "115. 'AC005476.2'\n",
       "116. 'AC005479.1'\n",
       "117. 'AC005481.1'\n",
       "118. 'AC005537.2'\n",
       "119. 'AC005550.2'\n",
       "120. 'AC005586.2'\n",
       "121. 'AC005674.2'\n",
       "122. 'AC005699.1'\n",
       "123. 'AC005722.3'\n",
       "124. 'AC005730.2'\n",
       "125. 'AC005747.1'\n",
       "126. 'AC005828.5'\n",
       "127. 'AC005831.1'\n",
       "128. 'AC005837.4'\n",
       "129. 'AC005840.2'\n",
       "130. 'AC005840.3'\n",
       "131. 'AC005884.1'\n",
       "132. 'AC005906.2'\n",
       "133. 'AC005920.4'\n",
       "134. 'AC005962.1'\n",
       "135. 'AC006033.1'\n",
       "136. 'AC006058.1'\n",
       "137. 'AC006058.3'\n",
       "138. 'AC006058.4'\n",
       "139. 'AC006157.1'\n",
       "140. 'AC006159.2'\n",
       "141. 'AC006238.1'\n",
       "142. 'AC006262.1'\n",
       "143. 'AC006305.2'\n",
       "144. 'AC006369.1'\n",
       "145. 'AC006441.4'\n",
       "146. 'AC006450.3'\n",
       "147. 'AC006460.1'\n",
       "148. 'AC006487.1'\n",
       "149. 'AC006487.2'\n",
       "150. 'AC006566.1'\n",
       "151. 'AC006946.2'\n",
       "152. 'AC006946.3'\n",
       "153. 'AC006963.2'\n",
       "154. 'AC006970.1'\n",
       "155. 'AC006974.2'\n",
       "156. 'AC006994.2'\n",
       "157. 'AC007040.3'\n",
       "158. 'AC007114.2'\n",
       "159. 'AC007126.1'\n",
       "160. 'AC007193.2'\n",
       "161. 'AC007224.2'\n",
       "162. 'AC007255.1'\n",
       "163. 'AC007277.1'\n",
       "164. 'AC007278.1'\n",
       "165. 'AC007319.1'\n",
       "166. 'AC007342.3'\n",
       "167. 'AC007342.4'\n",
       "168. 'AC007342.5'\n",
       "169. 'AC007342.8'\n",
       "170. 'AC007342.9'\n",
       "171. 'AC007368.1'\n",
       "172. 'AC007395.1'\n",
       "173. 'AC007405.2'\n",
       "174. 'AC007406.3'\n",
       "175. 'AC007423.1'\n",
       "176. 'AC007424.1'\n",
       "177. 'AC007431.3'\n",
       "178. 'AC007490.1'\n",
       "179. 'AC007552.2'\n",
       "180. 'AC007569.1'\n",
       "181. 'AC007608.1'\n",
       "182. 'AC007614.1'\n",
       "183. 'AC007666.1'\n",
       "184. 'AC007671.1'\n",
       "185. 'AC007686.1'\n",
       "186. 'AC007743.1'\n",
       "187. 'AC007848.1'\n",
       "188. 'AC007876.1'\n",
       "189. 'AC007906.2'\n",
       "190. 'AC007919.1'\n",
       "191. 'AC007920.2'\n",
       "192. 'AC007952.4'\n",
       "193. 'AC007952.6'\n",
       "194. 'AC007996.1'\n",
       "195. 'AC007998.4'\n",
       "196. 'AC008013.3'\n",
       "197. 'AC008014.1'\n",
       "198. 'AC008035.1'\n",
       "199. 'AC008060.4'\n",
       "200. 'AC008073.1'\n",
       "201. ⋯\n",
       "202. 'UNC5D'\n",
       "203. 'UNGP3'\n",
       "204. 'UPB1'\n",
       "205. 'UPK1B'\n",
       "206. 'UPK2'\n",
       "207. 'UPK3A'\n",
       "208. 'UPP1'\n",
       "209. 'URAD'\n",
       "210. 'USH1C'\n",
       "211. 'USH2A'\n",
       "212. 'USHBP1'\n",
       "213. 'USP17L2'\n",
       "214. 'USP32P2'\n",
       "215. 'USP43'\n",
       "216. 'USP6'\n",
       "217. 'USP9Y'\n",
       "218. 'USP9YP14'\n",
       "219. 'UTS2R'\n",
       "220. 'UTY'\n",
       "221. 'VAMP5'\n",
       "222. 'VANGL2'\n",
       "223. 'VASH2'\n",
       "224. 'VAT1L'\n",
       "225. 'VAV3'\n",
       "226. 'VAX2'\n",
       "227. 'VCX'\n",
       "228. 'VDAC2P3'\n",
       "229. 'VDR'\n",
       "230. 'VEGFD'\n",
       "231. 'VGLL1'\n",
       "232. 'VGLL2'\n",
       "233. 'VIL1'\n",
       "234. 'VIM'\n",
       "235. 'VIM-AS1'\n",
       "236. 'VIPR2'\n",
       "237. 'VIT'\n",
       "238. 'VLDLR-AS1'\n",
       "239. 'VMO1'\n",
       "240. 'VN1R21P'\n",
       "241. 'VN1R53P'\n",
       "242. 'VN2R10P'\n",
       "243. 'VN2R17P'\n",
       "244. 'VNN1'\n",
       "245. 'VPREB1'\n",
       "246. 'VPREB3'\n",
       "247. 'VPS9D1-AS1'\n",
       "248. 'VSIG1'\n",
       "249. 'VSIG4'\n",
       "250. 'VSNL1'\n",
       "251. 'VSTM2A'\n",
       "252. 'VSTM2A-OT1'\n",
       "253. 'VSTM5'\n",
       "254. 'VSX1'\n",
       "255. 'VTCN1'\n",
       "256. 'VWA3B'\n",
       "257. 'VWA5B1'\n",
       "258. 'VWC2'\n",
       "259. 'VWCE'\n",
       "260. 'VWDE'\n",
       "261. 'VWF'\n",
       "262. 'WASF5P'\n",
       "263. 'WASIR2'\n",
       "264. 'WDFY4'\n",
       "265. 'WDR72'\n",
       "266. 'WDR86'\n",
       "267. 'WDR86-AS1'\n",
       "268. 'WEE1'\n",
       "269. 'WFDC1'\n",
       "270. 'WFDC12'\n",
       "271. 'WFDC2'\n",
       "272. 'WFDC21P'\n",
       "273. 'WFDC6'\n",
       "274. 'WFDC8'\n",
       "275. 'WHRN'\n",
       "276. 'WIF1'\n",
       "277. 'WIPF3'\n",
       "278. 'WNK2'\n",
       "279. 'WNK4'\n",
       "280. 'WNT1'\n",
       "281. 'WNT10A'\n",
       "282. 'WNT10B'\n",
       "283. 'WNT11'\n",
       "284. 'WNT2'\n",
       "285. 'WNT3A'\n",
       "286. 'WNT4'\n",
       "287. 'WNT5A'\n",
       "288. 'WNT5A-AS1'\n",
       "289. 'WNT7B'\n",
       "290. 'WNT8A'\n",
       "291. 'WNT8B'\n",
       "292. 'WSCD2'\n",
       "293. 'WTAPP1'\n",
       "294. 'WWC1'\n",
       "295. 'WWC2-AS1'\n",
       "296. 'XAGE2'\n",
       "297. 'XAGE3'\n",
       "298. 'XCL1'\n",
       "299. 'XCL2'\n",
       "300. 'XCR1'\n",
       "301. 'XDH'\n",
       "302. 'XG'\n",
       "303. 'XGY1'\n",
       "304. 'XIST'\n",
       "305. 'XKR4'\n",
       "306. 'XKR5'\n",
       "307. 'XKR7'\n",
       "308. 'XKRX'\n",
       "309. 'XPNPEP2'\n",
       "310. 'XPOTP1'\n",
       "311. 'Z82185.1'\n",
       "312. 'Z82206.1'\n",
       "313. 'Z82246.1'\n",
       "314. 'Z84485.1'\n",
       "315. 'Z84492.1'\n",
       "316. 'Z94057.1'\n",
       "317. 'Z94721.1'\n",
       "318. 'Z97205.2'\n",
       "319. 'Z97653.2'\n",
       "320. 'Z98259.1'\n",
       "321. 'Z99129.3'\n",
       "322. 'Z99289.2'\n",
       "323. 'Z99774.1'\n",
       "324. 'Z99916.2'\n",
       "325. 'Z99943.1'\n",
       "326. 'ZAP70'\n",
       "327. 'ZBED1'\n",
       "328. 'ZBED2'\n",
       "329. 'ZBED6CL'\n",
       "330. 'ZBED9'\n",
       "331. 'ZBP1'\n",
       "332. 'ZBTB8B'\n",
       "333. 'ZC2HC1B'\n",
       "334. 'ZC3H11B'\n",
       "335. 'ZCCHC12'\n",
       "336. 'ZDHHC19'\n",
       "337. 'ZDHHC20P1'\n",
       "338. 'ZDHHC8P1'\n",
       "339. 'ZFP57'\n",
       "340. 'ZFX'\n",
       "341. 'ZFX-AS1'\n",
       "342. 'ZFY'\n",
       "343. 'ZFY-AS1'\n",
       "344. 'ZG16B'\n",
       "345. 'ZIC1'\n",
       "346. 'ZIC2'\n",
       "347. 'ZIC3'\n",
       "348. 'ZIC4'\n",
       "349. 'ZIC5'\n",
       "350. 'ZMAT4'\n",
       "351. 'ZMYND15'\n",
       "352. 'ZNF114'\n",
       "353. 'ZNF157'\n",
       "354. 'ZNF165'\n",
       "355. 'ZNF185'\n",
       "356. 'ZNF209P'\n",
       "357. 'ZNF215'\n",
       "358. 'ZNF296'\n",
       "359. 'ZNF334'\n",
       "360. 'ZNF33B'\n",
       "361. 'ZNF350-AS1'\n",
       "362. 'ZNF365'\n",
       "363. 'ZNF366'\n",
       "364. 'ZNF385B'\n",
       "365. 'ZNF385C'\n",
       "366. 'ZNF385D'\n",
       "367. 'ZNF385D-AS1'\n",
       "368. 'ZNF469'\n",
       "369. 'ZNF474'\n",
       "370. 'ZNF497'\n",
       "371. 'ZNF536'\n",
       "372. 'ZNF552'\n",
       "373. 'ZNF608'\n",
       "374. 'ZNF648'\n",
       "375. 'ZNF663P'\n",
       "376. 'ZNF667'\n",
       "377. 'ZNF683'\n",
       "378. 'ZNF689'\n",
       "379. 'ZNF711'\n",
       "380. 'ZNF726'\n",
       "381. 'ZNF727'\n",
       "382. 'ZNF736P9Y'\n",
       "383. 'ZNF750'\n",
       "384. 'ZNF774'\n",
       "385. 'ZNF80'\n",
       "386. 'ZNF804B'\n",
       "387. 'ZNF812P'\n",
       "388. 'ZNF831'\n",
       "389. 'ZNF839P1'\n",
       "390. 'ZNF840P'\n",
       "391. 'ZNF860'\n",
       "392. 'ZNF885P'\n",
       "393. 'ZNF887P'\n",
       "394. 'ZNF98'\n",
       "395. 'ZNRF3-AS1'\n",
       "396. 'ZNRF4'\n",
       "397. 'ZPLD1'\n",
       "398. 'ZRANB2-AS1'\n",
       "399. 'ZRSR2'\n",
       "400. 'ZSCAN4'\n",
       "401. 'ZYG11A'\n",
       "\n",
       "\n"
      ],
      "text/plain": [
       "[1] A2M    A2ML1  A4GNT  AACSP1 AADAC  AADAC \n",
       "7417 Levels: A2M A2ML1 A4GNT AACSP1 AADAC AADACL2-AS1 AADACL3 AADACL4 ... ZYG11A"
      ]
     },
     "metadata": {},
     "output_type": "display_data"
    }
   ],
   "source": [
    "total_AS_Genes <- read.table(file=\"../data/Total_AS_by_geneSymbol.tsv\", header=TRUE, sep=\"\\t\",\n",
    "                               skipNul=FALSE, stringsAsFactors = FALSE)\n",
    "sigAsGenes <- sort(total_AS_Genes$GeneSymbol)\n",
    "dge <- read.table(\"../data/gene_dge.tsv\", sep = \"\\t\", header = FALSE, row.names=1, skip = 1)\n",
    "dge_genes <- sort(dge$V5)\n",
    "head(dge_genes)\n",
    "all_genes_data <- read.table(\"../assets/all_gene_as_gene_names.csv\")\n",
    "names(all_genes_data) <- c(\"GeneSymbol\", \"ensg\")\n",
    "all_genes <- sort(all_genes_data$GeneSymbol)"
   ]
  },
  {
   "cell_type": "code",
   "execution_count": 35,
   "metadata": {},
   "outputs": [
    {
     "data": {
      "text/html": [
       "<style>\n",
       ".list-inline {list-style: none; margin:0; padding: 0}\n",
       ".list-inline>li {display: inline-block}\n",
       ".list-inline>li:not(:last-child)::after {content: \"\\00b7\"; padding: 0 .5ex}\n",
       "</style>\n",
       "<ol class=list-inline><li>A1BG</li><li>A1BG-AS1</li><li>A1CF</li><li>A2M</li><li>A2MP1</li><li>AAAS</li></ol>\n",
       "\n",
       "<details>\n",
       "\t<summary style=display:list-item;cursor:pointer>\n",
       "\t\t<strong>Levels</strong>:\n",
       "\t</summary>\n",
       "\t<style>\n",
       "\t.list-inline {list-style: none; margin:0; padding: 0}\n",
       "\t.list-inline>li {display: inline-block}\n",
       "\t.list-inline>li:not(:last-child)::after {content: \"\\00b7\"; padding: 0 .5ex}\n",
       "\t</style>\n",
       "\t<ol class=list-inline><li>'A1BG'</li><li>'A1BG-AS1'</li><li>'A1CF'</li><li>'A2M'</li><li>'A2MP1'</li><li>'AAAS'</li><li>'AACS'</li><li>'AACSP1'</li><li>'AADACL2'</li><li>'AADACL2-AS1'</li><li>'AADACL3'</li><li>'AADACP1'</li><li>'AADAT'</li><li>'AAK1'</li><li>'AAMDC'</li><li>'AAMP'</li><li>'AANAT'</li><li>'AARS'</li><li>'AARSD1'</li><li>'AASDH'</li><li>'AASDHPPT'</li><li>'AASS'</li><li>'AATBC'</li><li>'AATF'</li><li>'AATK'</li><li>'ABAT'</li><li>'ABCA1'</li><li>'ABCA10'</li><li>'ABCA11P'</li><li>'ABCA13'</li><li>'ABCA17P'</li><li>'ABCA2'</li><li>'ABCA3'</li><li>'ABCA4'</li><li>'ABCA5'</li><li>'ABCA7'</li><li>'ABCA8'</li><li>'ABCA9'</li><li>'ABCA9-AS1'</li><li>'ABCB1'</li><li>'ABCB11'</li><li>'ABCB4'</li><li>'ABCB6'</li><li>'ABCB7'</li><li>'ABCB8'</li><li>'ABCB9'</li><li>'ABCC1'</li><li>'ABCC10'</li><li>'ABCC11'</li><li>'ABCC12'</li><li>'ABCC13'</li><li>'ABCC2'</li><li>'ABCC3'</li><li>'ABCC4'</li><li>'ABCC5'</li><li>'ABCC6'</li><li>'ABCC6P1'</li><li>'ABCC8'</li><li>'ABCC9'</li><li>'ABCD3'</li><li>'ABCD4'</li><li>'ABCE1'</li><li>'ABCF1'</li><li>'ABCF3'</li><li>'ABCG1'</li><li>'ABCG2'</li><li>'ABCG4'</li><li>'ABCG5'</li><li>'ABHD1'</li><li>'ABHD10'</li><li>'ABHD11'</li><li>'ABHD12'</li><li>'ABHD12B'</li><li>'ABHD14A-ACY1'</li><li>'ABHD14B'</li><li>'ABHD16A'</li><li>'ABHD17A'</li><li>'ABHD18'</li><li>'ABHD2'</li><li>'ABHD3'</li><li>'ABHD4'</li><li>'ABHD5'</li><li>'ABHD6'</li><li>'ABHD8'</li><li>'ABI1'</li><li>'ABI2'</li><li>'ABI3'</li><li>'ABI3BP'</li><li>'ABL2'</li><li>'ABLIM1'</li><li>'ABLIM2'</li><li>'ABLIM3'</li><li>'ABO'</li><li>'ABR'</li><li>'ABRAXAS1'</li><li>'ABTB1'</li><li>'AC002070.1'</li><li>'AC002310.2'</li><li>'AC002351.1'</li><li>'AC002454.1'</li><li>'AC002985.1'</li><li>'AC003005.1'</li><li>'AC003665.1'</li><li>'AC003991.1'</li><li>'AC004076.1'</li><li>'AC004130.1'</li><li>'AC004160.1'</li><li>'AC004223.3'</li><li>'AC004241.1'</li><li>'AC004448.2'</li><li>'AC004475.1'</li><li>'AC004540.1'</li><li>'AC004594.1'</li><li>'AC004830.1'</li><li>'AC004832.1'</li><li>'AC004832.3'</li><li>'AC004834.1'</li><li>'AC004862.1'</li><li>'AC004889.1'</li><li>'AC004890.2'</li><li>'AC004917.1'</li><li>'AC004922.1'</li><li>'AC004947.1'</li><li>'AC004990.1'</li><li>'AC004997.1'</li><li>'AC005050.1'</li><li>'AC005062.1'</li><li>'AC005083.1'</li><li>'AC005162.3'</li><li>'AC005176.1'</li><li>'AC005232.1'</li><li>'AC005280.3'</li><li>'AC005323.1'</li><li>'AC005323.2'</li><li>'AC005324.4'</li><li>'AC005381.1'</li><li>'AC005515.1'</li><li>'AC005537.1'</li><li>'AC005562.1'</li><li>'AC005699.1'</li><li>'AC005821.1'</li><li>'AC005833.1'</li><li>'AC005865.2'</li><li>'AC005906.2'</li><li>'AC005972.3'</li><li>'AC006001.2'</li><li>'AC006001.3'</li><li>'AC006059.2'</li><li>'AC006064.6'</li><li>'AC006115.2'</li><li>'AC006145.1'</li><li>'AC006148.1'</li><li>'AC006160.1'</li><li>'AC006213.1'</li><li>'AC006254.1'</li><li>'AC006262.1'</li><li>'AC006305.1'</li><li>'AC006453.2'</li><li>'AC006460.2'</li><li>'AC006504.5'</li><li>'AC006547.1'</li><li>'AC007098.1'</li><li>'AC007255.1'</li><li>'AC007285.1'</li><li>'AC007362.1'</li><li>'AC007368.1'</li><li>'AC007614.1'</li><li>'AC007743.1'</li><li>'AC007786.1'</li><li>'AC007950.1'</li><li>'AC007952.3'</li><li>'AC007952.8'</li><li>'AC007998.3'</li><li>'AC008040.1'</li><li>'AC008067.1'</li><li>'AC008105.3'</li><li>'AC008132.1'</li><li>'AC008163.1'</li><li>'AC008164.1'</li><li>'AC008403.1'</li><li>'AC008429.1'</li><li>'AC008554.1'</li><li>'AC008591.1'</li><li>'AC008691.1'</li><li>'AC008736.1'</li><li>'AC008750.3'</li><li>'AC008755.1'</li><li>'AC008764.4'</li><li>'AC008770.2'</li><li>'AC008878.1'</li><li>'AC008915.2'</li><li>'AC008966.1'</li><li>'AC008969.1'</li><li>'AC009022.1'</li><li>'AC009041.2'</li><li>'AC009053.1'</li><li>'AC009065.4'</li><li>'AC009070.1'</li><li>'AC009119.2'</li><li>'AC009123.1'</li><li>⋯</li><li>'ZNF565'</li><li>'ZNF566'</li><li>'ZNF567'</li><li>'ZNF568'</li><li>'ZNF569'</li><li>'ZNF57'</li><li>'ZNF570'</li><li>'ZNF571'</li><li>'ZNF571-AS1'</li><li>'ZNF573'</li><li>'ZNF575'</li><li>'ZNF577'</li><li>'ZNF582-AS1'</li><li>'ZNF584'</li><li>'ZNF585A'</li><li>'ZNF585B'</li><li>'ZNF586'</li><li>'ZNF587B'</li><li>'ZNF589'</li><li>'ZNF592'</li><li>'ZNF593'</li><li>'ZNF595'</li><li>'ZNF596'</li><li>'ZNF598'</li><li>'ZNF600'</li><li>'ZNF605'</li><li>'ZNF606'</li><li>'ZNF607'</li><li>'ZNF608'</li><li>'ZNF610'</li><li>'ZNF611'</li><li>'ZNF613'</li><li>'ZNF614'</li><li>'ZNF615'</li><li>'ZNF616'</li><li>'ZNF618'</li><li>'ZNF619'</li><li>'ZNF620'</li><li>'ZNF621'</li><li>'ZNF625'</li><li>'ZNF627'</li><li>'ZNF628'</li><li>'ZNF630'</li><li>'ZNF638'</li><li>'ZNF639'</li><li>'ZNF641'</li><li>'ZNF644'</li><li>'ZNF649'</li><li>'ZNF652'</li><li>'ZNF653'</li><li>'ZNF655'</li><li>'ZNF658'</li><li>'ZNF66'</li><li>'ZNF660'</li><li>'ZNF662'</li><li>'ZNF664'</li><li>'ZNF665'</li><li>'ZNF667'</li><li>'ZNF667-AS1'</li><li>'ZNF668'</li><li>'ZNF669'</li><li>'ZNF670-ZNF695'</li><li>'ZNF671'</li><li>'ZNF675'</li><li>'ZNF678'</li><li>'ZNF680'</li><li>'ZNF681'</li><li>'ZNF682'</li><li>'ZNF683'</li><li>'ZNF684'</li><li>'ZNF687'</li><li>'ZNF688'</li><li>'ZNF689'</li><li>'ZNF691'</li><li>'ZNF692'</li><li>'ZNF695'</li><li>'ZNF696'</li><li>'ZNF699'</li><li>'ZNF7'</li><li>'ZNF701'</li><li>'ZNF702P'</li><li>'ZNF706'</li><li>'ZNF707'</li><li>'ZNF708'</li><li>'ZNF71'</li><li>'ZNF711'</li><li>'ZNF713'</li><li>'ZNF714'</li><li>'ZNF717'</li><li>'ZNF720'</li><li>'ZNF721'</li><li>'ZNF724'</li><li>'ZNF728'</li><li>'ZNF738'</li><li>'ZNF74'</li><li>'ZNF740'</li><li>'ZNF746'</li><li>'ZNF749'</li><li>'ZNF750'</li><li>'ZNF75A'</li><li>'ZNF76'</li><li>'ZNF763'</li><li>'ZNF764'</li><li>'ZNF765'</li><li>'ZNF766'</li><li>'ZNF767P'</li><li>'ZNF770'</li><li>'ZNF772'</li><li>'ZNF773'</li><li>'ZNF774'</li><li>'ZNF776'</li><li>'ZNF778'</li><li>'ZNF780A'</li><li>'ZNF780B'</li><li>'ZNF781'</li><li>'ZNF782'</li><li>'ZNF783'</li><li>'ZNF786'</li><li>'ZNF788P'</li><li>'ZNF789'</li><li>'ZNF79'</li><li>'ZNF791'</li><li>'ZNF793'</li><li>'ZNF793-AS1'</li><li>'ZNF799'</li><li>'ZNF805'</li><li>'ZNF808'</li><li>'ZNF81'</li><li>'ZNF812P'</li><li>'ZNF813'</li><li>'ZNF814'</li><li>'ZNF815P'</li><li>'ZNF816'</li><li>'ZNF821'</li><li>'ZNF823'</li><li>'ZNF826P'</li><li>'ZNF827'</li><li>'ZNF83'</li><li>'ZNF833P'</li><li>'ZNF839'</li><li>'ZNF84'</li><li>'ZNF844'</li><li>'ZNF845'</li><li>'ZNF846'</li><li>'ZNF85'</li><li>'ZNF850'</li><li>'ZNF852'</li><li>'ZNF860'</li><li>'ZNF862'</li><li>'ZNF879'</li><li>'ZNF880'</li><li>'ZNF888'</li><li>'ZNF891'</li><li>'ZNF90'</li><li>'ZNF91'</li><li>'ZNF92'</li><li>'ZNF93'</li><li>'ZNHIT1'</li><li>'ZNHIT3'</li><li>'ZNHIT6'</li><li>'ZNRD1'</li><li>'ZNRD1ASP'</li><li>'ZNRF1'</li><li>'ZP1'</li><li>'ZP2'</li><li>'ZP3'</li><li>'ZPBP'</li><li>'ZPBP2'</li><li>'ZPR1'</li><li>'ZRANB2'</li><li>'ZRANB2-AS2'</li><li>'ZRANB3'</li><li>'ZSCAN1'</li><li>'ZSCAN10'</li><li>'ZSCAN16-AS1'</li><li>'ZSCAN18'</li><li>'ZSCAN2'</li><li>'ZSCAN21'</li><li>'ZSCAN23'</li><li>'ZSCAN25'</li><li>'ZSCAN26'</li><li>'ZSCAN29'</li><li>'ZSCAN30'</li><li>'ZSCAN31'</li><li>'ZSCAN32'</li><li>'ZSCAN5A'</li><li>'ZSCAN5B'</li><li>'ZSCAN9'</li><li>'ZSWIM4'</li><li>'ZSWIM7'</li><li>'ZSWIM8'</li><li>'ZSWIM9'</li><li>'ZUP1'</li><li>'ZW10'</li><li>'ZWILCH'</li><li>'ZWINT'</li><li>'ZYG11A'</li><li>'ZYG11B'</li><li>'ZYX'</li><li>'ZZEF1'</li></ol>\n",
       "</details>"
      ],
      "text/latex": [
       "\\begin{enumerate*}\n",
       "\\item A1BG\n",
       "\\item A1BG-AS1\n",
       "\\item A1CF\n",
       "\\item A2M\n",
       "\\item A2MP1\n",
       "\\item AAAS\n",
       "\\end{enumerate*}\n",
       "\n",
       "\\emph{Levels}: \\begin{enumerate*}\n",
       "\\item 'A1BG'\n",
       "\\item 'A1BG-AS1'\n",
       "\\item 'A1CF'\n",
       "\\item 'A2M'\n",
       "\\item 'A2MP1'\n",
       "\\item 'AAAS'\n",
       "\\item 'AACS'\n",
       "\\item 'AACSP1'\n",
       "\\item 'AADACL2'\n",
       "\\item 'AADACL2-AS1'\n",
       "\\item 'AADACL3'\n",
       "\\item 'AADACP1'\n",
       "\\item 'AADAT'\n",
       "\\item 'AAK1'\n",
       "\\item 'AAMDC'\n",
       "\\item 'AAMP'\n",
       "\\item 'AANAT'\n",
       "\\item 'AARS'\n",
       "\\item 'AARSD1'\n",
       "\\item 'AASDH'\n",
       "\\item 'AASDHPPT'\n",
       "\\item 'AASS'\n",
       "\\item 'AATBC'\n",
       "\\item 'AATF'\n",
       "\\item 'AATK'\n",
       "\\item 'ABAT'\n",
       "\\item 'ABCA1'\n",
       "\\item 'ABCA10'\n",
       "\\item 'ABCA11P'\n",
       "\\item 'ABCA13'\n",
       "\\item 'ABCA17P'\n",
       "\\item 'ABCA2'\n",
       "\\item 'ABCA3'\n",
       "\\item 'ABCA4'\n",
       "\\item 'ABCA5'\n",
       "\\item 'ABCA7'\n",
       "\\item 'ABCA8'\n",
       "\\item 'ABCA9'\n",
       "\\item 'ABCA9-AS1'\n",
       "\\item 'ABCB1'\n",
       "\\item 'ABCB11'\n",
       "\\item 'ABCB4'\n",
       "\\item 'ABCB6'\n",
       "\\item 'ABCB7'\n",
       "\\item 'ABCB8'\n",
       "\\item 'ABCB9'\n",
       "\\item 'ABCC1'\n",
       "\\item 'ABCC10'\n",
       "\\item 'ABCC11'\n",
       "\\item 'ABCC12'\n",
       "\\item 'ABCC13'\n",
       "\\item 'ABCC2'\n",
       "\\item 'ABCC3'\n",
       "\\item 'ABCC4'\n",
       "\\item 'ABCC5'\n",
       "\\item 'ABCC6'\n",
       "\\item 'ABCC6P1'\n",
       "\\item 'ABCC8'\n",
       "\\item 'ABCC9'\n",
       "\\item 'ABCD3'\n",
       "\\item 'ABCD4'\n",
       "\\item 'ABCE1'\n",
       "\\item 'ABCF1'\n",
       "\\item 'ABCF3'\n",
       "\\item 'ABCG1'\n",
       "\\item 'ABCG2'\n",
       "\\item 'ABCG4'\n",
       "\\item 'ABCG5'\n",
       "\\item 'ABHD1'\n",
       "\\item 'ABHD10'\n",
       "\\item 'ABHD11'\n",
       "\\item 'ABHD12'\n",
       "\\item 'ABHD12B'\n",
       "\\item 'ABHD14A-ACY1'\n",
       "\\item 'ABHD14B'\n",
       "\\item 'ABHD16A'\n",
       "\\item 'ABHD17A'\n",
       "\\item 'ABHD18'\n",
       "\\item 'ABHD2'\n",
       "\\item 'ABHD3'\n",
       "\\item 'ABHD4'\n",
       "\\item 'ABHD5'\n",
       "\\item 'ABHD6'\n",
       "\\item 'ABHD8'\n",
       "\\item 'ABI1'\n",
       "\\item 'ABI2'\n",
       "\\item 'ABI3'\n",
       "\\item 'ABI3BP'\n",
       "\\item 'ABL2'\n",
       "\\item 'ABLIM1'\n",
       "\\item 'ABLIM2'\n",
       "\\item 'ABLIM3'\n",
       "\\item 'ABO'\n",
       "\\item 'ABR'\n",
       "\\item 'ABRAXAS1'\n",
       "\\item 'ABTB1'\n",
       "\\item 'AC002070.1'\n",
       "\\item 'AC002310.2'\n",
       "\\item 'AC002351.1'\n",
       "\\item 'AC002454.1'\n",
       "\\item 'AC002985.1'\n",
       "\\item 'AC003005.1'\n",
       "\\item 'AC003665.1'\n",
       "\\item 'AC003991.1'\n",
       "\\item 'AC004076.1'\n",
       "\\item 'AC004130.1'\n",
       "\\item 'AC004160.1'\n",
       "\\item 'AC004223.3'\n",
       "\\item 'AC004241.1'\n",
       "\\item 'AC004448.2'\n",
       "\\item 'AC004475.1'\n",
       "\\item 'AC004540.1'\n",
       "\\item 'AC004594.1'\n",
       "\\item 'AC004830.1'\n",
       "\\item 'AC004832.1'\n",
       "\\item 'AC004832.3'\n",
       "\\item 'AC004834.1'\n",
       "\\item 'AC004862.1'\n",
       "\\item 'AC004889.1'\n",
       "\\item 'AC004890.2'\n",
       "\\item 'AC004917.1'\n",
       "\\item 'AC004922.1'\n",
       "\\item 'AC004947.1'\n",
       "\\item 'AC004990.1'\n",
       "\\item 'AC004997.1'\n",
       "\\item 'AC005050.1'\n",
       "\\item 'AC005062.1'\n",
       "\\item 'AC005083.1'\n",
       "\\item 'AC005162.3'\n",
       "\\item 'AC005176.1'\n",
       "\\item 'AC005232.1'\n",
       "\\item 'AC005280.3'\n",
       "\\item 'AC005323.1'\n",
       "\\item 'AC005323.2'\n",
       "\\item 'AC005324.4'\n",
       "\\item 'AC005381.1'\n",
       "\\item 'AC005515.1'\n",
       "\\item 'AC005537.1'\n",
       "\\item 'AC005562.1'\n",
       "\\item 'AC005699.1'\n",
       "\\item 'AC005821.1'\n",
       "\\item 'AC005833.1'\n",
       "\\item 'AC005865.2'\n",
       "\\item 'AC005906.2'\n",
       "\\item 'AC005972.3'\n",
       "\\item 'AC006001.2'\n",
       "\\item 'AC006001.3'\n",
       "\\item 'AC006059.2'\n",
       "\\item 'AC006064.6'\n",
       "\\item 'AC006115.2'\n",
       "\\item 'AC006145.1'\n",
       "\\item 'AC006148.1'\n",
       "\\item 'AC006160.1'\n",
       "\\item 'AC006213.1'\n",
       "\\item 'AC006254.1'\n",
       "\\item 'AC006262.1'\n",
       "\\item 'AC006305.1'\n",
       "\\item 'AC006453.2'\n",
       "\\item 'AC006460.2'\n",
       "\\item 'AC006504.5'\n",
       "\\item 'AC006547.1'\n",
       "\\item 'AC007098.1'\n",
       "\\item 'AC007255.1'\n",
       "\\item 'AC007285.1'\n",
       "\\item 'AC007362.1'\n",
       "\\item 'AC007368.1'\n",
       "\\item 'AC007614.1'\n",
       "\\item 'AC007743.1'\n",
       "\\item 'AC007786.1'\n",
       "\\item 'AC007950.1'\n",
       "\\item 'AC007952.3'\n",
       "\\item 'AC007952.8'\n",
       "\\item 'AC007998.3'\n",
       "\\item 'AC008040.1'\n",
       "\\item 'AC008067.1'\n",
       "\\item 'AC008105.3'\n",
       "\\item 'AC008132.1'\n",
       "\\item 'AC008163.1'\n",
       "\\item 'AC008164.1'\n",
       "\\item 'AC008403.1'\n",
       "\\item 'AC008429.1'\n",
       "\\item 'AC008554.1'\n",
       "\\item 'AC008591.1'\n",
       "\\item 'AC008691.1'\n",
       "\\item 'AC008736.1'\n",
       "\\item 'AC008750.3'\n",
       "\\item 'AC008755.1'\n",
       "\\item 'AC008764.4'\n",
       "\\item 'AC008770.2'\n",
       "\\item 'AC008878.1'\n",
       "\\item 'AC008915.2'\n",
       "\\item 'AC008966.1'\n",
       "\\item 'AC008969.1'\n",
       "\\item 'AC009022.1'\n",
       "\\item 'AC009041.2'\n",
       "\\item 'AC009053.1'\n",
       "\\item 'AC009065.4'\n",
       "\\item 'AC009070.1'\n",
       "\\item 'AC009119.2'\n",
       "\\item 'AC009123.1'\n",
       "\\item ⋯\n",
       "\\item 'ZNF565'\n",
       "\\item 'ZNF566'\n",
       "\\item 'ZNF567'\n",
       "\\item 'ZNF568'\n",
       "\\item 'ZNF569'\n",
       "\\item 'ZNF57'\n",
       "\\item 'ZNF570'\n",
       "\\item 'ZNF571'\n",
       "\\item 'ZNF571-AS1'\n",
       "\\item 'ZNF573'\n",
       "\\item 'ZNF575'\n",
       "\\item 'ZNF577'\n",
       "\\item 'ZNF582-AS1'\n",
       "\\item 'ZNF584'\n",
       "\\item 'ZNF585A'\n",
       "\\item 'ZNF585B'\n",
       "\\item 'ZNF586'\n",
       "\\item 'ZNF587B'\n",
       "\\item 'ZNF589'\n",
       "\\item 'ZNF592'\n",
       "\\item 'ZNF593'\n",
       "\\item 'ZNF595'\n",
       "\\item 'ZNF596'\n",
       "\\item 'ZNF598'\n",
       "\\item 'ZNF600'\n",
       "\\item 'ZNF605'\n",
       "\\item 'ZNF606'\n",
       "\\item 'ZNF607'\n",
       "\\item 'ZNF608'\n",
       "\\item 'ZNF610'\n",
       "\\item 'ZNF611'\n",
       "\\item 'ZNF613'\n",
       "\\item 'ZNF614'\n",
       "\\item 'ZNF615'\n",
       "\\item 'ZNF616'\n",
       "\\item 'ZNF618'\n",
       "\\item 'ZNF619'\n",
       "\\item 'ZNF620'\n",
       "\\item 'ZNF621'\n",
       "\\item 'ZNF625'\n",
       "\\item 'ZNF627'\n",
       "\\item 'ZNF628'\n",
       "\\item 'ZNF630'\n",
       "\\item 'ZNF638'\n",
       "\\item 'ZNF639'\n",
       "\\item 'ZNF641'\n",
       "\\item 'ZNF644'\n",
       "\\item 'ZNF649'\n",
       "\\item 'ZNF652'\n",
       "\\item 'ZNF653'\n",
       "\\item 'ZNF655'\n",
       "\\item 'ZNF658'\n",
       "\\item 'ZNF66'\n",
       "\\item 'ZNF660'\n",
       "\\item 'ZNF662'\n",
       "\\item 'ZNF664'\n",
       "\\item 'ZNF665'\n",
       "\\item 'ZNF667'\n",
       "\\item 'ZNF667-AS1'\n",
       "\\item 'ZNF668'\n",
       "\\item 'ZNF669'\n",
       "\\item 'ZNF670-ZNF695'\n",
       "\\item 'ZNF671'\n",
       "\\item 'ZNF675'\n",
       "\\item 'ZNF678'\n",
       "\\item 'ZNF680'\n",
       "\\item 'ZNF681'\n",
       "\\item 'ZNF682'\n",
       "\\item 'ZNF683'\n",
       "\\item 'ZNF684'\n",
       "\\item 'ZNF687'\n",
       "\\item 'ZNF688'\n",
       "\\item 'ZNF689'\n",
       "\\item 'ZNF691'\n",
       "\\item 'ZNF692'\n",
       "\\item 'ZNF695'\n",
       "\\item 'ZNF696'\n",
       "\\item 'ZNF699'\n",
       "\\item 'ZNF7'\n",
       "\\item 'ZNF701'\n",
       "\\item 'ZNF702P'\n",
       "\\item 'ZNF706'\n",
       "\\item 'ZNF707'\n",
       "\\item 'ZNF708'\n",
       "\\item 'ZNF71'\n",
       "\\item 'ZNF711'\n",
       "\\item 'ZNF713'\n",
       "\\item 'ZNF714'\n",
       "\\item 'ZNF717'\n",
       "\\item 'ZNF720'\n",
       "\\item 'ZNF721'\n",
       "\\item 'ZNF724'\n",
       "\\item 'ZNF728'\n",
       "\\item 'ZNF738'\n",
       "\\item 'ZNF74'\n",
       "\\item 'ZNF740'\n",
       "\\item 'ZNF746'\n",
       "\\item 'ZNF749'\n",
       "\\item 'ZNF750'\n",
       "\\item 'ZNF75A'\n",
       "\\item 'ZNF76'\n",
       "\\item 'ZNF763'\n",
       "\\item 'ZNF764'\n",
       "\\item 'ZNF765'\n",
       "\\item 'ZNF766'\n",
       "\\item 'ZNF767P'\n",
       "\\item 'ZNF770'\n",
       "\\item 'ZNF772'\n",
       "\\item 'ZNF773'\n",
       "\\item 'ZNF774'\n",
       "\\item 'ZNF776'\n",
       "\\item 'ZNF778'\n",
       "\\item 'ZNF780A'\n",
       "\\item 'ZNF780B'\n",
       "\\item 'ZNF781'\n",
       "\\item 'ZNF782'\n",
       "\\item 'ZNF783'\n",
       "\\item 'ZNF786'\n",
       "\\item 'ZNF788P'\n",
       "\\item 'ZNF789'\n",
       "\\item 'ZNF79'\n",
       "\\item 'ZNF791'\n",
       "\\item 'ZNF793'\n",
       "\\item 'ZNF793-AS1'\n",
       "\\item 'ZNF799'\n",
       "\\item 'ZNF805'\n",
       "\\item 'ZNF808'\n",
       "\\item 'ZNF81'\n",
       "\\item 'ZNF812P'\n",
       "\\item 'ZNF813'\n",
       "\\item 'ZNF814'\n",
       "\\item 'ZNF815P'\n",
       "\\item 'ZNF816'\n",
       "\\item 'ZNF821'\n",
       "\\item 'ZNF823'\n",
       "\\item 'ZNF826P'\n",
       "\\item 'ZNF827'\n",
       "\\item 'ZNF83'\n",
       "\\item 'ZNF833P'\n",
       "\\item 'ZNF839'\n",
       "\\item 'ZNF84'\n",
       "\\item 'ZNF844'\n",
       "\\item 'ZNF845'\n",
       "\\item 'ZNF846'\n",
       "\\item 'ZNF85'\n",
       "\\item 'ZNF850'\n",
       "\\item 'ZNF852'\n",
       "\\item 'ZNF860'\n",
       "\\item 'ZNF862'\n",
       "\\item 'ZNF879'\n",
       "\\item 'ZNF880'\n",
       "\\item 'ZNF888'\n",
       "\\item 'ZNF891'\n",
       "\\item 'ZNF90'\n",
       "\\item 'ZNF91'\n",
       "\\item 'ZNF92'\n",
       "\\item 'ZNF93'\n",
       "\\item 'ZNHIT1'\n",
       "\\item 'ZNHIT3'\n",
       "\\item 'ZNHIT6'\n",
       "\\item 'ZNRD1'\n",
       "\\item 'ZNRD1ASP'\n",
       "\\item 'ZNRF1'\n",
       "\\item 'ZP1'\n",
       "\\item 'ZP2'\n",
       "\\item 'ZP3'\n",
       "\\item 'ZPBP'\n",
       "\\item 'ZPBP2'\n",
       "\\item 'ZPR1'\n",
       "\\item 'ZRANB2'\n",
       "\\item 'ZRANB2-AS2'\n",
       "\\item 'ZRANB3'\n",
       "\\item 'ZSCAN1'\n",
       "\\item 'ZSCAN10'\n",
       "\\item 'ZSCAN16-AS1'\n",
       "\\item 'ZSCAN18'\n",
       "\\item 'ZSCAN2'\n",
       "\\item 'ZSCAN21'\n",
       "\\item 'ZSCAN23'\n",
       "\\item 'ZSCAN25'\n",
       "\\item 'ZSCAN26'\n",
       "\\item 'ZSCAN29'\n",
       "\\item 'ZSCAN30'\n",
       "\\item 'ZSCAN31'\n",
       "\\item 'ZSCAN32'\n",
       "\\item 'ZSCAN5A'\n",
       "\\item 'ZSCAN5B'\n",
       "\\item 'ZSCAN9'\n",
       "\\item 'ZSWIM4'\n",
       "\\item 'ZSWIM7'\n",
       "\\item 'ZSWIM8'\n",
       "\\item 'ZSWIM9'\n",
       "\\item 'ZUP1'\n",
       "\\item 'ZW10'\n",
       "\\item 'ZWILCH'\n",
       "\\item 'ZWINT'\n",
       "\\item 'ZYG11A'\n",
       "\\item 'ZYG11B'\n",
       "\\item 'ZYX'\n",
       "\\item 'ZZEF1'\n",
       "\\end{enumerate*}\n"
      ],
      "text/markdown": [
       "1. A1BG\n",
       "2. A1BG-AS1\n",
       "3. A1CF\n",
       "4. A2M\n",
       "5. A2MP1\n",
       "6. AAAS\n",
       "\n",
       "\n",
       "\n",
       "**Levels**: 1. 'A1BG'\n",
       "2. 'A1BG-AS1'\n",
       "3. 'A1CF'\n",
       "4. 'A2M'\n",
       "5. 'A2MP1'\n",
       "6. 'AAAS'\n",
       "7. 'AACS'\n",
       "8. 'AACSP1'\n",
       "9. 'AADACL2'\n",
       "10. 'AADACL2-AS1'\n",
       "11. 'AADACL3'\n",
       "12. 'AADACP1'\n",
       "13. 'AADAT'\n",
       "14. 'AAK1'\n",
       "15. 'AAMDC'\n",
       "16. 'AAMP'\n",
       "17. 'AANAT'\n",
       "18. 'AARS'\n",
       "19. 'AARSD1'\n",
       "20. 'AASDH'\n",
       "21. 'AASDHPPT'\n",
       "22. 'AASS'\n",
       "23. 'AATBC'\n",
       "24. 'AATF'\n",
       "25. 'AATK'\n",
       "26. 'ABAT'\n",
       "27. 'ABCA1'\n",
       "28. 'ABCA10'\n",
       "29. 'ABCA11P'\n",
       "30. 'ABCA13'\n",
       "31. 'ABCA17P'\n",
       "32. 'ABCA2'\n",
       "33. 'ABCA3'\n",
       "34. 'ABCA4'\n",
       "35. 'ABCA5'\n",
       "36. 'ABCA7'\n",
       "37. 'ABCA8'\n",
       "38. 'ABCA9'\n",
       "39. 'ABCA9-AS1'\n",
       "40. 'ABCB1'\n",
       "41. 'ABCB11'\n",
       "42. 'ABCB4'\n",
       "43. 'ABCB6'\n",
       "44. 'ABCB7'\n",
       "45. 'ABCB8'\n",
       "46. 'ABCB9'\n",
       "47. 'ABCC1'\n",
       "48. 'ABCC10'\n",
       "49. 'ABCC11'\n",
       "50. 'ABCC12'\n",
       "51. 'ABCC13'\n",
       "52. 'ABCC2'\n",
       "53. 'ABCC3'\n",
       "54. 'ABCC4'\n",
       "55. 'ABCC5'\n",
       "56. 'ABCC6'\n",
       "57. 'ABCC6P1'\n",
       "58. 'ABCC8'\n",
       "59. 'ABCC9'\n",
       "60. 'ABCD3'\n",
       "61. 'ABCD4'\n",
       "62. 'ABCE1'\n",
       "63. 'ABCF1'\n",
       "64. 'ABCF3'\n",
       "65. 'ABCG1'\n",
       "66. 'ABCG2'\n",
       "67. 'ABCG4'\n",
       "68. 'ABCG5'\n",
       "69. 'ABHD1'\n",
       "70. 'ABHD10'\n",
       "71. 'ABHD11'\n",
       "72. 'ABHD12'\n",
       "73. 'ABHD12B'\n",
       "74. 'ABHD14A-ACY1'\n",
       "75. 'ABHD14B'\n",
       "76. 'ABHD16A'\n",
       "77. 'ABHD17A'\n",
       "78. 'ABHD18'\n",
       "79. 'ABHD2'\n",
       "80. 'ABHD3'\n",
       "81. 'ABHD4'\n",
       "82. 'ABHD5'\n",
       "83. 'ABHD6'\n",
       "84. 'ABHD8'\n",
       "85. 'ABI1'\n",
       "86. 'ABI2'\n",
       "87. 'ABI3'\n",
       "88. 'ABI3BP'\n",
       "89. 'ABL2'\n",
       "90. 'ABLIM1'\n",
       "91. 'ABLIM2'\n",
       "92. 'ABLIM3'\n",
       "93. 'ABO'\n",
       "94. 'ABR'\n",
       "95. 'ABRAXAS1'\n",
       "96. 'ABTB1'\n",
       "97. 'AC002070.1'\n",
       "98. 'AC002310.2'\n",
       "99. 'AC002351.1'\n",
       "100. 'AC002454.1'\n",
       "101. 'AC002985.1'\n",
       "102. 'AC003005.1'\n",
       "103. 'AC003665.1'\n",
       "104. 'AC003991.1'\n",
       "105. 'AC004076.1'\n",
       "106. 'AC004130.1'\n",
       "107. 'AC004160.1'\n",
       "108. 'AC004223.3'\n",
       "109. 'AC004241.1'\n",
       "110. 'AC004448.2'\n",
       "111. 'AC004475.1'\n",
       "112. 'AC004540.1'\n",
       "113. 'AC004594.1'\n",
       "114. 'AC004830.1'\n",
       "115. 'AC004832.1'\n",
       "116. 'AC004832.3'\n",
       "117. 'AC004834.1'\n",
       "118. 'AC004862.1'\n",
       "119. 'AC004889.1'\n",
       "120. 'AC004890.2'\n",
       "121. 'AC004917.1'\n",
       "122. 'AC004922.1'\n",
       "123. 'AC004947.1'\n",
       "124. 'AC004990.1'\n",
       "125. 'AC004997.1'\n",
       "126. 'AC005050.1'\n",
       "127. 'AC005062.1'\n",
       "128. 'AC005083.1'\n",
       "129. 'AC005162.3'\n",
       "130. 'AC005176.1'\n",
       "131. 'AC005232.1'\n",
       "132. 'AC005280.3'\n",
       "133. 'AC005323.1'\n",
       "134. 'AC005323.2'\n",
       "135. 'AC005324.4'\n",
       "136. 'AC005381.1'\n",
       "137. 'AC005515.1'\n",
       "138. 'AC005537.1'\n",
       "139. 'AC005562.1'\n",
       "140. 'AC005699.1'\n",
       "141. 'AC005821.1'\n",
       "142. 'AC005833.1'\n",
       "143. 'AC005865.2'\n",
       "144. 'AC005906.2'\n",
       "145. 'AC005972.3'\n",
       "146. 'AC006001.2'\n",
       "147. 'AC006001.3'\n",
       "148. 'AC006059.2'\n",
       "149. 'AC006064.6'\n",
       "150. 'AC006115.2'\n",
       "151. 'AC006145.1'\n",
       "152. 'AC006148.1'\n",
       "153. 'AC006160.1'\n",
       "154. 'AC006213.1'\n",
       "155. 'AC006254.1'\n",
       "156. 'AC006262.1'\n",
       "157. 'AC006305.1'\n",
       "158. 'AC006453.2'\n",
       "159. 'AC006460.2'\n",
       "160. 'AC006504.5'\n",
       "161. 'AC006547.1'\n",
       "162. 'AC007098.1'\n",
       "163. 'AC007255.1'\n",
       "164. 'AC007285.1'\n",
       "165. 'AC007362.1'\n",
       "166. 'AC007368.1'\n",
       "167. 'AC007614.1'\n",
       "168. 'AC007743.1'\n",
       "169. 'AC007786.1'\n",
       "170. 'AC007950.1'\n",
       "171. 'AC007952.3'\n",
       "172. 'AC007952.8'\n",
       "173. 'AC007998.3'\n",
       "174. 'AC008040.1'\n",
       "175. 'AC008067.1'\n",
       "176. 'AC008105.3'\n",
       "177. 'AC008132.1'\n",
       "178. 'AC008163.1'\n",
       "179. 'AC008164.1'\n",
       "180. 'AC008403.1'\n",
       "181. 'AC008429.1'\n",
       "182. 'AC008554.1'\n",
       "183. 'AC008591.1'\n",
       "184. 'AC008691.1'\n",
       "185. 'AC008736.1'\n",
       "186. 'AC008750.3'\n",
       "187. 'AC008755.1'\n",
       "188. 'AC008764.4'\n",
       "189. 'AC008770.2'\n",
       "190. 'AC008878.1'\n",
       "191. 'AC008915.2'\n",
       "192. 'AC008966.1'\n",
       "193. 'AC008969.1'\n",
       "194. 'AC009022.1'\n",
       "195. 'AC009041.2'\n",
       "196. 'AC009053.1'\n",
       "197. 'AC009065.4'\n",
       "198. 'AC009070.1'\n",
       "199. 'AC009119.2'\n",
       "200. 'AC009123.1'\n",
       "201. ⋯\n",
       "202. 'ZNF565'\n",
       "203. 'ZNF566'\n",
       "204. 'ZNF567'\n",
       "205. 'ZNF568'\n",
       "206. 'ZNF569'\n",
       "207. 'ZNF57'\n",
       "208. 'ZNF570'\n",
       "209. 'ZNF571'\n",
       "210. 'ZNF571-AS1'\n",
       "211. 'ZNF573'\n",
       "212. 'ZNF575'\n",
       "213. 'ZNF577'\n",
       "214. 'ZNF582-AS1'\n",
       "215. 'ZNF584'\n",
       "216. 'ZNF585A'\n",
       "217. 'ZNF585B'\n",
       "218. 'ZNF586'\n",
       "219. 'ZNF587B'\n",
       "220. 'ZNF589'\n",
       "221. 'ZNF592'\n",
       "222. 'ZNF593'\n",
       "223. 'ZNF595'\n",
       "224. 'ZNF596'\n",
       "225. 'ZNF598'\n",
       "226. 'ZNF600'\n",
       "227. 'ZNF605'\n",
       "228. 'ZNF606'\n",
       "229. 'ZNF607'\n",
       "230. 'ZNF608'\n",
       "231. 'ZNF610'\n",
       "232. 'ZNF611'\n",
       "233. 'ZNF613'\n",
       "234. 'ZNF614'\n",
       "235. 'ZNF615'\n",
       "236. 'ZNF616'\n",
       "237. 'ZNF618'\n",
       "238. 'ZNF619'\n",
       "239. 'ZNF620'\n",
       "240. 'ZNF621'\n",
       "241. 'ZNF625'\n",
       "242. 'ZNF627'\n",
       "243. 'ZNF628'\n",
       "244. 'ZNF630'\n",
       "245. 'ZNF638'\n",
       "246. 'ZNF639'\n",
       "247. 'ZNF641'\n",
       "248. 'ZNF644'\n",
       "249. 'ZNF649'\n",
       "250. 'ZNF652'\n",
       "251. 'ZNF653'\n",
       "252. 'ZNF655'\n",
       "253. 'ZNF658'\n",
       "254. 'ZNF66'\n",
       "255. 'ZNF660'\n",
       "256. 'ZNF662'\n",
       "257. 'ZNF664'\n",
       "258. 'ZNF665'\n",
       "259. 'ZNF667'\n",
       "260. 'ZNF667-AS1'\n",
       "261. 'ZNF668'\n",
       "262. 'ZNF669'\n",
       "263. 'ZNF670-ZNF695'\n",
       "264. 'ZNF671'\n",
       "265. 'ZNF675'\n",
       "266. 'ZNF678'\n",
       "267. 'ZNF680'\n",
       "268. 'ZNF681'\n",
       "269. 'ZNF682'\n",
       "270. 'ZNF683'\n",
       "271. 'ZNF684'\n",
       "272. 'ZNF687'\n",
       "273. 'ZNF688'\n",
       "274. 'ZNF689'\n",
       "275. 'ZNF691'\n",
       "276. 'ZNF692'\n",
       "277. 'ZNF695'\n",
       "278. 'ZNF696'\n",
       "279. 'ZNF699'\n",
       "280. 'ZNF7'\n",
       "281. 'ZNF701'\n",
       "282. 'ZNF702P'\n",
       "283. 'ZNF706'\n",
       "284. 'ZNF707'\n",
       "285. 'ZNF708'\n",
       "286. 'ZNF71'\n",
       "287. 'ZNF711'\n",
       "288. 'ZNF713'\n",
       "289. 'ZNF714'\n",
       "290. 'ZNF717'\n",
       "291. 'ZNF720'\n",
       "292. 'ZNF721'\n",
       "293. 'ZNF724'\n",
       "294. 'ZNF728'\n",
       "295. 'ZNF738'\n",
       "296. 'ZNF74'\n",
       "297. 'ZNF740'\n",
       "298. 'ZNF746'\n",
       "299. 'ZNF749'\n",
       "300. 'ZNF750'\n",
       "301. 'ZNF75A'\n",
       "302. 'ZNF76'\n",
       "303. 'ZNF763'\n",
       "304. 'ZNF764'\n",
       "305. 'ZNF765'\n",
       "306. 'ZNF766'\n",
       "307. 'ZNF767P'\n",
       "308. 'ZNF770'\n",
       "309. 'ZNF772'\n",
       "310. 'ZNF773'\n",
       "311. 'ZNF774'\n",
       "312. 'ZNF776'\n",
       "313. 'ZNF778'\n",
       "314. 'ZNF780A'\n",
       "315. 'ZNF780B'\n",
       "316. 'ZNF781'\n",
       "317. 'ZNF782'\n",
       "318. 'ZNF783'\n",
       "319. 'ZNF786'\n",
       "320. 'ZNF788P'\n",
       "321. 'ZNF789'\n",
       "322. 'ZNF79'\n",
       "323. 'ZNF791'\n",
       "324. 'ZNF793'\n",
       "325. 'ZNF793-AS1'\n",
       "326. 'ZNF799'\n",
       "327. 'ZNF805'\n",
       "328. 'ZNF808'\n",
       "329. 'ZNF81'\n",
       "330. 'ZNF812P'\n",
       "331. 'ZNF813'\n",
       "332. 'ZNF814'\n",
       "333. 'ZNF815P'\n",
       "334. 'ZNF816'\n",
       "335. 'ZNF821'\n",
       "336. 'ZNF823'\n",
       "337. 'ZNF826P'\n",
       "338. 'ZNF827'\n",
       "339. 'ZNF83'\n",
       "340. 'ZNF833P'\n",
       "341. 'ZNF839'\n",
       "342. 'ZNF84'\n",
       "343. 'ZNF844'\n",
       "344. 'ZNF845'\n",
       "345. 'ZNF846'\n",
       "346. 'ZNF85'\n",
       "347. 'ZNF850'\n",
       "348. 'ZNF852'\n",
       "349. 'ZNF860'\n",
       "350. 'ZNF862'\n",
       "351. 'ZNF879'\n",
       "352. 'ZNF880'\n",
       "353. 'ZNF888'\n",
       "354. 'ZNF891'\n",
       "355. 'ZNF90'\n",
       "356. 'ZNF91'\n",
       "357. 'ZNF92'\n",
       "358. 'ZNF93'\n",
       "359. 'ZNHIT1'\n",
       "360. 'ZNHIT3'\n",
       "361. 'ZNHIT6'\n",
       "362. 'ZNRD1'\n",
       "363. 'ZNRD1ASP'\n",
       "364. 'ZNRF1'\n",
       "365. 'ZP1'\n",
       "366. 'ZP2'\n",
       "367. 'ZP3'\n",
       "368. 'ZPBP'\n",
       "369. 'ZPBP2'\n",
       "370. 'ZPR1'\n",
       "371. 'ZRANB2'\n",
       "372. 'ZRANB2-AS2'\n",
       "373. 'ZRANB3'\n",
       "374. 'ZSCAN1'\n",
       "375. 'ZSCAN10'\n",
       "376. 'ZSCAN16-AS1'\n",
       "377. 'ZSCAN18'\n",
       "378. 'ZSCAN2'\n",
       "379. 'ZSCAN21'\n",
       "380. 'ZSCAN23'\n",
       "381. 'ZSCAN25'\n",
       "382. 'ZSCAN26'\n",
       "383. 'ZSCAN29'\n",
       "384. 'ZSCAN30'\n",
       "385. 'ZSCAN31'\n",
       "386. 'ZSCAN32'\n",
       "387. 'ZSCAN5A'\n",
       "388. 'ZSCAN5B'\n",
       "389. 'ZSCAN9'\n",
       "390. 'ZSWIM4'\n",
       "391. 'ZSWIM7'\n",
       "392. 'ZSWIM8'\n",
       "393. 'ZSWIM9'\n",
       "394. 'ZUP1'\n",
       "395. 'ZW10'\n",
       "396. 'ZWILCH'\n",
       "397. 'ZWINT'\n",
       "398. 'ZYG11A'\n",
       "399. 'ZYG11B'\n",
       "400. 'ZYX'\n",
       "401. 'ZZEF1'\n",
       "\n",
       "\n"
      ],
      "text/plain": [
       "[1] A1BG     A1BG-AS1 A1CF     A2M      A2MP1    AAAS    \n",
       "14695 Levels: A1BG A1BG-AS1 A1CF A2M A2MP1 AAAS AACS AACSP1 ... ZZEF1"
      ]
     },
     "metadata": {},
     "output_type": "display_data"
    }
   ],
   "source": [
    "head(all_genes)"
   ]
  },
  {
   "cell_type": "markdown",
   "metadata": {},
   "source": [
    "### 3.12 We then do a hypergeometric/Fisher test to look for overrepresentation\n",
    "The universe consists of all genes with at least one read (all_genes_data).\n",
    "So we have\n",
    "\n",
    "|  \t|  DGE+| DGE-|\n",
    "|-\t|-\t|-\t|\n",
    "| DAS+|  a|  b|\n",
    "| DAS-|  c| d|"
   ]
  },
  {
   "cell_type": "code",
   "execution_count": 36,
   "metadata": {},
   "outputs": [
    {
     "name": "stderr",
     "output_type": "stream",
     "text": [
      "Number of sigAsGenes 1994\n",
      "\n",
      "Number of genes that are NOT sigAs 12701\n",
      "\n",
      "Number of DGE genes12633\n",
      "\n",
      "Number of genes that are NOT DGE 11958\n",
      "\n",
      "a: 889; b: 1105; c: 1848; d: 10853\n",
      "\n"
     ]
    }
   ],
   "source": [
    "message(\"Number of sigAsGenes \", length(sigAsGenes))\n",
    "notSigAs <- setdiff(all_genes,sigAsGenes)\n",
    "message(\"Number of genes that are NOT sigAs \", length(notSigAs))\n",
    "message(\"Number of DGE genes\", length(dge_genes))\n",
    "notDGE <- setdiff(all_genes,dge_genes)\n",
    "message(\"Number of genes that are NOT DGE \", length(notDGE))\n",
    "a <- intersect(sigAsGenes, dge_genes)\n",
    "b <- intersect(sigAsGenes, notDGE)\n",
    "c <- intersect(notSigAs, dge_genes)\n",
    "d <- intersect(notSigAs, notDGE)\n",
    "message(\"a: \", length(a), \"; b: \",  length(b), \"; c: \",  length(c), \"; d: \",  length(d))"
   ]
  },
  {
   "cell_type": "code",
   "execution_count": 37,
   "metadata": {},
   "outputs": [
    {
     "data": {
      "text/plain": [
       "\n",
       "\tFisher's Exact Test for Count Data\n",
       "\n",
       "data:  m\n",
       "p-value < 2.2e-16\n",
       "alternative hypothesis: true odds ratio is not equal to 1\n",
       "95 percent confidence interval:\n",
       " 4.263856 5.233685\n",
       "sample estimates:\n",
       "odds ratio \n",
       "  4.724232 \n"
      ]
     },
     "metadata": {},
     "output_type": "display_data"
    }
   ],
   "source": [
    "m <- matrix(c(length(a),length(b),length(c),length(d)), nrow=2,byrow = TRUE)\n",
    "fisher.test(m)"
   ]
  },
  {
   "cell_type": "markdown",
   "metadata": {},
   "source": [
    "### Appendix - Metadata\n",
    "\n",
    "For replicability and reproducibility purposes, we also print the following metadata:\n",
    "\n",
    "1. Checksums of **'artefacts'**, files generated during the analysis and stored in the folder directory **`data`**\n",
    "2. List of environment metadata, dependencies, versions of libraries using `utils::sessionInfo()` and [`devtools::session_info()`](https://devtools.r-lib.org/reference/session_info.html)"
   ]
  },
  {
   "cell_type": "markdown",
   "metadata": {},
   "source": [
    "### Appendix 1. Checksums with the sha256 algorithm"
   ]
  },
  {
   "cell_type": "code",
   "execution_count": 38,
   "metadata": {},
   "outputs": [
    {
     "name": "stderr",
     "output_type": "stream",
     "text": [
      "Warning message in rm(notebookid):\n",
      "“object 'notebookid' not found”\n"
     ]
    },
    {
     "data": {
      "text/html": [
       "'countGenesAndEvents'"
      ],
      "text/latex": [
       "'countGenesAndEvents'"
      ],
      "text/markdown": [
       "'countGenesAndEvents'"
      ],
      "text/plain": [
       "[1] \"countGenesAndEvents\""
      ]
     },
     "metadata": {},
     "output_type": "display_data"
    },
    {
     "name": "stderr",
     "output_type": "stream",
     "text": [
      "Generating sha256 checksums of the file `../data/gene_as.tsv` directory .. \n",
      "\n"
     ]
    },
    {
     "data": {
      "text/html": [],
      "text/latex": [],
      "text/markdown": [],
      "text/plain": [
       "character(0)"
      ]
     },
     "metadata": {},
     "output_type": "display_data"
    },
    {
     "name": "stderr",
     "output_type": "stream",
     "text": [
      "Done!\n",
      "\n",
      "\n",
      "Generating sha256 checksums of the file `../data/all_gene_as.tsv` directory .. \n",
      "\n"
     ]
    },
    {
     "data": {
      "text/html": [],
      "text/latex": [],
      "text/markdown": [],
      "text/plain": [
       "character(0)"
      ]
     },
     "metadata": {},
     "output_type": "display_data"
    },
    {
     "name": "stderr",
     "output_type": "stream",
     "text": [
      "Done!\n",
      "\n",
      "\n",
      "Generating sha256 checksums of the file `../data/gene_dge.tsv` directory .. \n",
      "\n"
     ]
    },
    {
     "data": {
      "text/html": [],
      "text/latex": [],
      "text/markdown": [],
      "text/plain": [
       "character(0)"
      ]
     },
     "metadata": {},
     "output_type": "display_data"
    },
    {
     "name": "stderr",
     "output_type": "stream",
     "text": [
      "Done!\n",
      "\n",
      "\n",
      "Generating sha256 checksums of the file `../data/Total_AS_by_chr.tsv` directory .. \n",
      "\n"
     ]
    },
    {
     "data": {
      "text/html": [],
      "text/latex": [],
      "text/markdown": [],
      "text/plain": [
       "character(0)"
      ]
     },
     "metadata": {},
     "output_type": "display_data"
    },
    {
     "name": "stderr",
     "output_type": "stream",
     "text": [
      "Done!\n",
      "\n",
      "\n",
      "Generating sha256 checksums of the file `../data/Total_AS_by_geneSymbol.tsv` directory .. \n",
      "\n"
     ]
    },
    {
     "data": {
      "text/html": [],
      "text/latex": [],
      "text/markdown": [],
      "text/plain": [
       "character(0)"
      ]
     },
     "metadata": {},
     "output_type": "display_data"
    },
    {
     "name": "stderr",
     "output_type": "stream",
     "text": [
      "Done!\n",
      "\n",
      "\n",
      "Generating sha256 checksums of the file `../data/Total_AS_by_tissue.tsv` directory .. \n",
      "\n"
     ]
    },
    {
     "data": {
      "text/html": [],
      "text/latex": [],
      "text/markdown": [],
      "text/plain": [
       "character(0)"
      ]
     },
     "metadata": {},
     "output_type": "display_data"
    },
    {
     "name": "stderr",
     "output_type": "stream",
     "text": [
      "Done!\n",
      "\n",
      "\n",
      "Generating sha256 checksums of the file `../data/Total_AS_by_splicingtype.tsv` directory .. \n",
      "\n"
     ]
    },
    {
     "data": {
      "text/html": [],
      "text/latex": [],
      "text/markdown": [],
      "text/plain": [
       "character(0)"
      ]
     },
     "metadata": {},
     "output_type": "display_data"
    },
    {
     "name": "stderr",
     "output_type": "stream",
     "text": [
      "Done!\n",
      "\n",
      "\n",
      "Generating sha256 checksums of the file `../data/genesWithCommonAS.tsv` directory .. \n",
      "\n"
     ]
    },
    {
     "data": {
      "text/html": [],
      "text/latex": [],
      "text/markdown": [],
      "text/plain": [
       "character(0)"
      ]
     },
     "metadata": {},
     "output_type": "display_data"
    },
    {
     "name": "stderr",
     "output_type": "stream",
     "text": [
      "Done!\n",
      "\n",
      "\n",
      "Generating sha256 checksums of the file `../data/SplicingIndex_chr.tsv` directory .. \n",
      "\n"
     ]
    },
    {
     "data": {
      "text/html": [],
      "text/latex": [],
      "text/markdown": [],
      "text/plain": [
       "character(0)"
      ]
     },
     "metadata": {},
     "output_type": "display_data"
    },
    {
     "name": "stderr",
     "output_type": "stream",
     "text": [
      "Done!\n",
      "\n",
      "\n"
     ]
    }
   ],
   "source": [
    "rm (notebookid)\n",
    "notebookid   = \"countGenesAndEvents\"\n",
    "notebookid\n",
    "\n",
    "message(\"Generating sha256 checksums of the file `../data/gene_as.tsv` directory .. \")\n",
    "system(paste0(\"cd ../data && find . -name gene_as.tsv -exec sha256sum {} \\\\;  >  ../metadata/\", notebookid, \"_sha256sums.txt\"), intern = TRUE)\n",
    "message(\"Done!\\n\")\n",
    "\n",
    "message(\"Generating sha256 checksums of the file `../data/all_gene_as.tsv` directory .. \")\n",
    "system(paste0(\"cd ../data && find . -name gene_dge.tsv -exec sha256sum {} \\\\;  >  ../metadata/\", notebookid, \"_sha256sums.txt\"), intern = TRUE)\n",
    "message(\"Done!\\n\")\n",
    "\n",
    "message(\"Generating sha256 checksums of the file `../data/gene_dge.tsv` directory .. \")\n",
    "system(paste0(\"cd ../data && find . -name gene_as.tsv -exec sha256sum {} \\\\;  >  ../metadata/\", notebookid, \"_sha256sums.txt\"), intern = TRUE)\n",
    "message(\"Done!\\n\")\n",
    "\n",
    "message(\"Generating sha256 checksums of the file `../data/Total_AS_by_chr.tsv` directory .. \")\n",
    "system(paste0(\"cd ../data && find . -name Total_AS_by_chr.tsv -exec sha256sum {} \\\\;  >  ../metadata/\", notebookid, \"_sha256sums.txt\"), intern = TRUE)\n",
    "message(\"Done!\\n\")\n",
    "\n",
    "message(\"Generating sha256 checksums of the file `../data/Total_AS_by_geneSymbol.tsv` directory .. \")\n",
    "system(paste0(\"cd ../data && find . -name Total_AS_by_geneSymbol.tsv -exec sha256sum {} \\\\;  >  ../metadata/\", notebookid, \"_sha256sums.txt\"), intern = TRUE)\n",
    "message(\"Done!\\n\")\n",
    "\n",
    "message(\"Generating sha256 checksums of the file `../data/Total_AS_by_tissue.tsv` directory .. \")\n",
    "system(paste0(\"cd ../data && find . -name Total_AS_by_tissue.tsv -exec sha256sum {} \\\\;  >  ../metadata/\", notebookid, \"_sha256sums.txt\"), intern = TRUE)\n",
    "message(\"Done!\\n\")\n",
    "\n",
    "message(\"Generating sha256 checksums of the file `../data/Total_AS_by_splicingtype.tsv` directory .. \")\n",
    "system(paste0(\"cd ../data && find . -name Total_AS_by_splicingtype.tsv -exec sha256sum {} \\\\;  >  ../metadata/\", notebookid, \"_sha256sums.txt\"), intern = TRUE)\n",
    "message(\"Done!\\n\")\n",
    "\n",
    "message(\"Generating sha256 checksums of the file `../data/genesWithCommonAS.tsv` directory .. \")\n",
    "system(paste0(\"cd ../data && find . -name genesWithCommonAS.tsv -exec sha256sum {} \\\\;  >  ../metadata/\", notebookid, \"_sha256sums.txt\"), intern = TRUE)\n",
    "message(\"Done!\\n\")\n",
    "\n",
    "message(\"Generating sha256 checksums of the file `../data/SplicingIndex_chr.tsv` directory .. \")\n",
    "system(paste0(\"cd ../data && find . -name SplicingIndex_chr.tsv -exec sha256sum {} \\\\;  >  ../metadata/\", notebookid, \"_sha256sums.txt\"), intern = TRUE)\n",
    "message(\"Done!\\n\")\n"
   ]
  },
  {
   "cell_type": "markdown",
   "metadata": {},
   "source": [
    "### Appendix 2. Libraries metadata"
   ]
  },
  {
   "cell_type": "code",
   "execution_count": 39,
   "metadata": {},
   "outputs": [
    {
     "name": "stderr",
     "output_type": "stream",
     "text": [
      "Saving `devtools::session_info()` objects in ../metadata/devtools_session_info.rds  ..\n",
      "\n",
      "Done!\n",
      "\n",
      "\n",
      "Saving `utils::sessionInfo()` objects in ../metadata/utils_session_info.rds  ..\n",
      "\n",
      "Done!\n",
      "\n",
      "\n"
     ]
    },
    {
     "data": {
      "text/plain": [
       " setting  value                       \n",
       " version  R version 3.6.1 (2019-07-05)\n",
       " os       Ubuntu 18.04.4 LTS          \n",
       " system   x86_64, linux-gnu           \n",
       " ui       X11                         \n",
       " language en_US.UTF-8                 \n",
       " collate  en_US.UTF-8                 \n",
       " ctype    en_US.UTF-8                 \n",
       " tz       Etc/UTC                     \n",
       " date     2020-08-20                  "
      ]
     },
     "metadata": {},
     "output_type": "display_data"
    },
    {
     "data": {
      "text/html": [
       "<table>\n",
       "<caption>A packages_info: 16 × 11</caption>\n",
       "<thead>\n",
       "\t<tr><th></th><th scope=col>package</th><th scope=col>ondiskversion</th><th scope=col>loadedversion</th><th scope=col>path</th><th scope=col>loadedpath</th><th scope=col>attached</th><th scope=col>is_base</th><th scope=col>date</th><th scope=col>source</th><th scope=col>md5ok</th><th scope=col>library</th></tr>\n",
       "\t<tr><th></th><th scope=col>&lt;chr&gt;</th><th scope=col>&lt;chr&gt;</th><th scope=col>&lt;chr&gt;</th><th scope=col>&lt;chr&gt;</th><th scope=col>&lt;chr&gt;</th><th scope=col>&lt;lgl&gt;</th><th scope=col>&lt;lgl&gt;</th><th scope=col>&lt;chr&gt;</th><th scope=col>&lt;chr&gt;</th><th scope=col>&lt;lgl&gt;</th><th scope=col>&lt;fct&gt;</th></tr>\n",
       "</thead>\n",
       "<tbody>\n",
       "\t<tr><th scope=row>Biobase</th><td>Biobase      </td><td>2.46.0</td><td>2.46.0</td><td>/opt/conda/lib/R/library/Biobase      </td><td>/opt/conda/lib/R/library/Biobase      </td><td>TRUE</td><td>FALSE</td><td>2019-10-29</td><td>Bioconductor  </td><td>NA</td><td>/opt/conda/lib/R/library</td></tr>\n",
       "\t<tr><th scope=row>BiocGenerics</th><td>BiocGenerics </td><td>0.32.0</td><td>0.32.0</td><td>/opt/conda/lib/R/library/BiocGenerics </td><td>/opt/conda/lib/R/library/BiocGenerics </td><td>TRUE</td><td>FALSE</td><td>2019-10-29</td><td>Bioconductor  </td><td>NA</td><td>/opt/conda/lib/R/library</td></tr>\n",
       "\t<tr><th scope=row>dplyr</th><td>dplyr        </td><td>0.8.5 </td><td>0.8.5 </td><td>/opt/conda/lib/R/library/dplyr        </td><td>/opt/conda/lib/R/library/dplyr        </td><td>TRUE</td><td>FALSE</td><td>2020-03-07</td><td>CRAN (R 3.6.1)</td><td>NA</td><td>/opt/conda/lib/R/library</td></tr>\n",
       "\t<tr><th scope=row>edgeR</th><td>edgeR        </td><td>3.28.0</td><td>3.28.0</td><td>/opt/conda/lib/R/library/edgeR        </td><td>/opt/conda/lib/R/library/edgeR        </td><td>TRUE</td><td>FALSE</td><td>2019-10-29</td><td>Bioconductor  </td><td>NA</td><td>/opt/conda/lib/R/library</td></tr>\n",
       "\t<tr><th scope=row>GenomeInfoDb</th><td>GenomeInfoDb </td><td>1.22.0</td><td>1.22.0</td><td>/opt/conda/lib/R/library/GenomeInfoDb </td><td>/opt/conda/lib/R/library/GenomeInfoDb </td><td>TRUE</td><td>FALSE</td><td>2019-10-29</td><td>Bioconductor  </td><td>NA</td><td>/opt/conda/lib/R/library</td></tr>\n",
       "\t<tr><th scope=row>GenomicRanges</th><td>GenomicRanges</td><td>1.38.0</td><td>1.38.0</td><td>/opt/conda/lib/R/library/GenomicRanges</td><td>/opt/conda/lib/R/library/GenomicRanges</td><td>TRUE</td><td>FALSE</td><td>2019-10-29</td><td>Bioconductor  </td><td>NA</td><td>/opt/conda/lib/R/library</td></tr>\n",
       "\t<tr><th scope=row>ggplot2</th><td>ggplot2      </td><td>3.3.2 </td><td>3.3.2 </td><td>/opt/conda/lib/R/library/ggplot2      </td><td>/opt/conda/lib/R/library/ggplot2      </td><td>TRUE</td><td>FALSE</td><td>2020-06-19</td><td>CRAN (R 3.6.3)</td><td>NA</td><td>/opt/conda/lib/R/library</td></tr>\n",
       "\t<tr><th scope=row>IRanges</th><td>IRanges      </td><td>2.20.0</td><td>2.20.0</td><td>/opt/conda/lib/R/library/IRanges      </td><td>/opt/conda/lib/R/library/IRanges      </td><td>TRUE</td><td>FALSE</td><td>2019-10-29</td><td>Bioconductor  </td><td>NA</td><td>/opt/conda/lib/R/library</td></tr>\n",
       "\t<tr><th scope=row>limma</th><td>limma        </td><td>3.42.0</td><td>3.42.0</td><td>/opt/conda/lib/R/library/limma        </td><td>/opt/conda/lib/R/library/limma        </td><td>TRUE</td><td>FALSE</td><td>2019-10-29</td><td>Bioconductor  </td><td>NA</td><td>/opt/conda/lib/R/library</td></tr>\n",
       "\t<tr><th scope=row>multtest</th><td>multtest     </td><td>2.42.0</td><td>2.42.0</td><td>/opt/conda/lib/R/library/multtest     </td><td>/opt/conda/lib/R/library/multtest     </td><td>TRUE</td><td>FALSE</td><td>2019-10-29</td><td>Bioconductor  </td><td>NA</td><td>/opt/conda/lib/R/library</td></tr>\n",
       "\t<tr><th scope=row>R.methodsS3</th><td>R.methodsS3  </td><td>1.8.0 </td><td>1.8.0 </td><td>/opt/conda/lib/R/library/R.methodsS3  </td><td>/opt/conda/lib/R/library/R.methodsS3  </td><td>TRUE</td><td>FALSE</td><td>2020-02-14</td><td>CRAN (R 3.6.3)</td><td>NA</td><td>/opt/conda/lib/R/library</td></tr>\n",
       "\t<tr><th scope=row>R.oo</th><td>R.oo         </td><td>1.23.0</td><td>1.23.0</td><td>/opt/conda/lib/R/library/R.oo         </td><td>/opt/conda/lib/R/library/R.oo         </td><td>TRUE</td><td>FALSE</td><td>2019-11-03</td><td>CRAN (R 3.6.3)</td><td>NA</td><td>/opt/conda/lib/R/library</td></tr>\n",
       "\t<tr><th scope=row>R.utils</th><td>R.utils      </td><td>2.9.2 </td><td>2.9.2 </td><td>/opt/conda/lib/R/library/R.utils      </td><td>/opt/conda/lib/R/library/R.utils      </td><td>TRUE</td><td>FALSE</td><td>2019-12-08</td><td>CRAN (R 3.6.1)</td><td>NA</td><td>/opt/conda/lib/R/library</td></tr>\n",
       "\t<tr><th scope=row>rtracklayer</th><td>rtracklayer  </td><td>1.46.0</td><td>1.46.0</td><td>/opt/conda/lib/R/library/rtracklayer  </td><td>/opt/conda/lib/R/library/rtracklayer  </td><td>TRUE</td><td>FALSE</td><td>2019-10-29</td><td>Bioconductor  </td><td>NA</td><td>/opt/conda/lib/R/library</td></tr>\n",
       "\t<tr><th scope=row>S4Vectors</th><td>S4Vectors    </td><td>0.24.0</td><td>0.24.0</td><td>/opt/conda/lib/R/library/S4Vectors    </td><td>/opt/conda/lib/R/library/S4Vectors    </td><td>TRUE</td><td>FALSE</td><td>2019-10-29</td><td>Bioconductor  </td><td>NA</td><td>/opt/conda/lib/R/library</td></tr>\n",
       "\t<tr><th scope=row>tibble</th><td>tibble       </td><td>3.0.3 </td><td>3.0.3 </td><td>/opt/conda/lib/R/library/tibble       </td><td>/opt/conda/lib/R/library/tibble       </td><td>TRUE</td><td>FALSE</td><td>2020-07-10</td><td>CRAN (R 3.6.3)</td><td>NA</td><td>/opt/conda/lib/R/library</td></tr>\n",
       "</tbody>\n",
       "</table>\n"
      ],
      "text/latex": [
       "A packages\\_info: 16 × 11\n",
       "\\begin{tabular}{r|lllllllllll}\n",
       "  & package & ondiskversion & loadedversion & path & loadedpath & attached & is\\_base & date & source & md5ok & library\\\\\n",
       "  & <chr> & <chr> & <chr> & <chr> & <chr> & <lgl> & <lgl> & <chr> & <chr> & <lgl> & <fct>\\\\\n",
       "\\hline\n",
       "\tBiobase & Biobase       & 2.46.0 & 2.46.0 & /opt/conda/lib/R/library/Biobase       & /opt/conda/lib/R/library/Biobase       & TRUE & FALSE & 2019-10-29 & Bioconductor   & NA & /opt/conda/lib/R/library\\\\\n",
       "\tBiocGenerics & BiocGenerics  & 0.32.0 & 0.32.0 & /opt/conda/lib/R/library/BiocGenerics  & /opt/conda/lib/R/library/BiocGenerics  & TRUE & FALSE & 2019-10-29 & Bioconductor   & NA & /opt/conda/lib/R/library\\\\\n",
       "\tdplyr & dplyr         & 0.8.5  & 0.8.5  & /opt/conda/lib/R/library/dplyr         & /opt/conda/lib/R/library/dplyr         & TRUE & FALSE & 2020-03-07 & CRAN (R 3.6.1) & NA & /opt/conda/lib/R/library\\\\\n",
       "\tedgeR & edgeR         & 3.28.0 & 3.28.0 & /opt/conda/lib/R/library/edgeR         & /opt/conda/lib/R/library/edgeR         & TRUE & FALSE & 2019-10-29 & Bioconductor   & NA & /opt/conda/lib/R/library\\\\\n",
       "\tGenomeInfoDb & GenomeInfoDb  & 1.22.0 & 1.22.0 & /opt/conda/lib/R/library/GenomeInfoDb  & /opt/conda/lib/R/library/GenomeInfoDb  & TRUE & FALSE & 2019-10-29 & Bioconductor   & NA & /opt/conda/lib/R/library\\\\\n",
       "\tGenomicRanges & GenomicRanges & 1.38.0 & 1.38.0 & /opt/conda/lib/R/library/GenomicRanges & /opt/conda/lib/R/library/GenomicRanges & TRUE & FALSE & 2019-10-29 & Bioconductor   & NA & /opt/conda/lib/R/library\\\\\n",
       "\tggplot2 & ggplot2       & 3.3.2  & 3.3.2  & /opt/conda/lib/R/library/ggplot2       & /opt/conda/lib/R/library/ggplot2       & TRUE & FALSE & 2020-06-19 & CRAN (R 3.6.3) & NA & /opt/conda/lib/R/library\\\\\n",
       "\tIRanges & IRanges       & 2.20.0 & 2.20.0 & /opt/conda/lib/R/library/IRanges       & /opt/conda/lib/R/library/IRanges       & TRUE & FALSE & 2019-10-29 & Bioconductor   & NA & /opt/conda/lib/R/library\\\\\n",
       "\tlimma & limma         & 3.42.0 & 3.42.0 & /opt/conda/lib/R/library/limma         & /opt/conda/lib/R/library/limma         & TRUE & FALSE & 2019-10-29 & Bioconductor   & NA & /opt/conda/lib/R/library\\\\\n",
       "\tmulttest & multtest      & 2.42.0 & 2.42.0 & /opt/conda/lib/R/library/multtest      & /opt/conda/lib/R/library/multtest      & TRUE & FALSE & 2019-10-29 & Bioconductor   & NA & /opt/conda/lib/R/library\\\\\n",
       "\tR.methodsS3 & R.methodsS3   & 1.8.0  & 1.8.0  & /opt/conda/lib/R/library/R.methodsS3   & /opt/conda/lib/R/library/R.methodsS3   & TRUE & FALSE & 2020-02-14 & CRAN (R 3.6.3) & NA & /opt/conda/lib/R/library\\\\\n",
       "\tR.oo & R.oo          & 1.23.0 & 1.23.0 & /opt/conda/lib/R/library/R.oo          & /opt/conda/lib/R/library/R.oo          & TRUE & FALSE & 2019-11-03 & CRAN (R 3.6.3) & NA & /opt/conda/lib/R/library\\\\\n",
       "\tR.utils & R.utils       & 2.9.2  & 2.9.2  & /opt/conda/lib/R/library/R.utils       & /opt/conda/lib/R/library/R.utils       & TRUE & FALSE & 2019-12-08 & CRAN (R 3.6.1) & NA & /opt/conda/lib/R/library\\\\\n",
       "\trtracklayer & rtracklayer   & 1.46.0 & 1.46.0 & /opt/conda/lib/R/library/rtracklayer   & /opt/conda/lib/R/library/rtracklayer   & TRUE & FALSE & 2019-10-29 & Bioconductor   & NA & /opt/conda/lib/R/library\\\\\n",
       "\tS4Vectors & S4Vectors     & 0.24.0 & 0.24.0 & /opt/conda/lib/R/library/S4Vectors     & /opt/conda/lib/R/library/S4Vectors     & TRUE & FALSE & 2019-10-29 & Bioconductor   & NA & /opt/conda/lib/R/library\\\\\n",
       "\ttibble & tibble        & 3.0.3  & 3.0.3  & /opt/conda/lib/R/library/tibble        & /opt/conda/lib/R/library/tibble        & TRUE & FALSE & 2020-07-10 & CRAN (R 3.6.3) & NA & /opt/conda/lib/R/library\\\\\n",
       "\\end{tabular}\n"
      ],
      "text/markdown": [
       "\n",
       "A packages_info: 16 × 11\n",
       "\n",
       "| <!--/--> | package &lt;chr&gt; | ondiskversion &lt;chr&gt; | loadedversion &lt;chr&gt; | path &lt;chr&gt; | loadedpath &lt;chr&gt; | attached &lt;lgl&gt; | is_base &lt;lgl&gt; | date &lt;chr&gt; | source &lt;chr&gt; | md5ok &lt;lgl&gt; | library &lt;fct&gt; |\n",
       "|---|---|---|---|---|---|---|---|---|---|---|---|\n",
       "| Biobase | Biobase       | 2.46.0 | 2.46.0 | /opt/conda/lib/R/library/Biobase       | /opt/conda/lib/R/library/Biobase       | TRUE | FALSE | 2019-10-29 | Bioconductor   | NA | /opt/conda/lib/R/library |\n",
       "| BiocGenerics | BiocGenerics  | 0.32.0 | 0.32.0 | /opt/conda/lib/R/library/BiocGenerics  | /opt/conda/lib/R/library/BiocGenerics  | TRUE | FALSE | 2019-10-29 | Bioconductor   | NA | /opt/conda/lib/R/library |\n",
       "| dplyr | dplyr         | 0.8.5  | 0.8.5  | /opt/conda/lib/R/library/dplyr         | /opt/conda/lib/R/library/dplyr         | TRUE | FALSE | 2020-03-07 | CRAN (R 3.6.1) | NA | /opt/conda/lib/R/library |\n",
       "| edgeR | edgeR         | 3.28.0 | 3.28.0 | /opt/conda/lib/R/library/edgeR         | /opt/conda/lib/R/library/edgeR         | TRUE | FALSE | 2019-10-29 | Bioconductor   | NA | /opt/conda/lib/R/library |\n",
       "| GenomeInfoDb | GenomeInfoDb  | 1.22.0 | 1.22.0 | /opt/conda/lib/R/library/GenomeInfoDb  | /opt/conda/lib/R/library/GenomeInfoDb  | TRUE | FALSE | 2019-10-29 | Bioconductor   | NA | /opt/conda/lib/R/library |\n",
       "| GenomicRanges | GenomicRanges | 1.38.0 | 1.38.0 | /opt/conda/lib/R/library/GenomicRanges | /opt/conda/lib/R/library/GenomicRanges | TRUE | FALSE | 2019-10-29 | Bioconductor   | NA | /opt/conda/lib/R/library |\n",
       "| ggplot2 | ggplot2       | 3.3.2  | 3.3.2  | /opt/conda/lib/R/library/ggplot2       | /opt/conda/lib/R/library/ggplot2       | TRUE | FALSE | 2020-06-19 | CRAN (R 3.6.3) | NA | /opt/conda/lib/R/library |\n",
       "| IRanges | IRanges       | 2.20.0 | 2.20.0 | /opt/conda/lib/R/library/IRanges       | /opt/conda/lib/R/library/IRanges       | TRUE | FALSE | 2019-10-29 | Bioconductor   | NA | /opt/conda/lib/R/library |\n",
       "| limma | limma         | 3.42.0 | 3.42.0 | /opt/conda/lib/R/library/limma         | /opt/conda/lib/R/library/limma         | TRUE | FALSE | 2019-10-29 | Bioconductor   | NA | /opt/conda/lib/R/library |\n",
       "| multtest | multtest      | 2.42.0 | 2.42.0 | /opt/conda/lib/R/library/multtest      | /opt/conda/lib/R/library/multtest      | TRUE | FALSE | 2019-10-29 | Bioconductor   | NA | /opt/conda/lib/R/library |\n",
       "| R.methodsS3 | R.methodsS3   | 1.8.0  | 1.8.0  | /opt/conda/lib/R/library/R.methodsS3   | /opt/conda/lib/R/library/R.methodsS3   | TRUE | FALSE | 2020-02-14 | CRAN (R 3.6.3) | NA | /opt/conda/lib/R/library |\n",
       "| R.oo | R.oo          | 1.23.0 | 1.23.0 | /opt/conda/lib/R/library/R.oo          | /opt/conda/lib/R/library/R.oo          | TRUE | FALSE | 2019-11-03 | CRAN (R 3.6.3) | NA | /opt/conda/lib/R/library |\n",
       "| R.utils | R.utils       | 2.9.2  | 2.9.2  | /opt/conda/lib/R/library/R.utils       | /opt/conda/lib/R/library/R.utils       | TRUE | FALSE | 2019-12-08 | CRAN (R 3.6.1) | NA | /opt/conda/lib/R/library |\n",
       "| rtracklayer | rtracklayer   | 1.46.0 | 1.46.0 | /opt/conda/lib/R/library/rtracklayer   | /opt/conda/lib/R/library/rtracklayer   | TRUE | FALSE | 2019-10-29 | Bioconductor   | NA | /opt/conda/lib/R/library |\n",
       "| S4Vectors | S4Vectors     | 0.24.0 | 0.24.0 | /opt/conda/lib/R/library/S4Vectors     | /opt/conda/lib/R/library/S4Vectors     | TRUE | FALSE | 2019-10-29 | Bioconductor   | NA | /opt/conda/lib/R/library |\n",
       "| tibble | tibble        | 3.0.3  | 3.0.3  | /opt/conda/lib/R/library/tibble        | /opt/conda/lib/R/library/tibble        | TRUE | FALSE | 2020-07-10 | CRAN (R 3.6.3) | NA | /opt/conda/lib/R/library |\n",
       "\n"
      ],
      "text/plain": [
       "              package       ondiskversion loadedversion\n",
       "Biobase       Biobase       2.46.0        2.46.0       \n",
       "BiocGenerics  BiocGenerics  0.32.0        0.32.0       \n",
       "dplyr         dplyr         0.8.5         0.8.5        \n",
       "edgeR         edgeR         3.28.0        3.28.0       \n",
       "GenomeInfoDb  GenomeInfoDb  1.22.0        1.22.0       \n",
       "GenomicRanges GenomicRanges 1.38.0        1.38.0       \n",
       "ggplot2       ggplot2       3.3.2         3.3.2        \n",
       "IRanges       IRanges       2.20.0        2.20.0       \n",
       "limma         limma         3.42.0        3.42.0       \n",
       "multtest      multtest      2.42.0        2.42.0       \n",
       "R.methodsS3   R.methodsS3   1.8.0         1.8.0        \n",
       "R.oo          R.oo          1.23.0        1.23.0       \n",
       "R.utils       R.utils       2.9.2         2.9.2        \n",
       "rtracklayer   rtracklayer   1.46.0        1.46.0       \n",
       "S4Vectors     S4Vectors     0.24.0        0.24.0       \n",
       "tibble        tibble        3.0.3         3.0.3        \n",
       "              path                                  \n",
       "Biobase       /opt/conda/lib/R/library/Biobase      \n",
       "BiocGenerics  /opt/conda/lib/R/library/BiocGenerics \n",
       "dplyr         /opt/conda/lib/R/library/dplyr        \n",
       "edgeR         /opt/conda/lib/R/library/edgeR        \n",
       "GenomeInfoDb  /opt/conda/lib/R/library/GenomeInfoDb \n",
       "GenomicRanges /opt/conda/lib/R/library/GenomicRanges\n",
       "ggplot2       /opt/conda/lib/R/library/ggplot2      \n",
       "IRanges       /opt/conda/lib/R/library/IRanges      \n",
       "limma         /opt/conda/lib/R/library/limma        \n",
       "multtest      /opt/conda/lib/R/library/multtest     \n",
       "R.methodsS3   /opt/conda/lib/R/library/R.methodsS3  \n",
       "R.oo          /opt/conda/lib/R/library/R.oo         \n",
       "R.utils       /opt/conda/lib/R/library/R.utils      \n",
       "rtracklayer   /opt/conda/lib/R/library/rtracklayer  \n",
       "S4Vectors     /opt/conda/lib/R/library/S4Vectors    \n",
       "tibble        /opt/conda/lib/R/library/tibble       \n",
       "              loadedpath                             attached is_base\n",
       "Biobase       /opt/conda/lib/R/library/Biobase       TRUE     FALSE  \n",
       "BiocGenerics  /opt/conda/lib/R/library/BiocGenerics  TRUE     FALSE  \n",
       "dplyr         /opt/conda/lib/R/library/dplyr         TRUE     FALSE  \n",
       "edgeR         /opt/conda/lib/R/library/edgeR         TRUE     FALSE  \n",
       "GenomeInfoDb  /opt/conda/lib/R/library/GenomeInfoDb  TRUE     FALSE  \n",
       "GenomicRanges /opt/conda/lib/R/library/GenomicRanges TRUE     FALSE  \n",
       "ggplot2       /opt/conda/lib/R/library/ggplot2       TRUE     FALSE  \n",
       "IRanges       /opt/conda/lib/R/library/IRanges       TRUE     FALSE  \n",
       "limma         /opt/conda/lib/R/library/limma         TRUE     FALSE  \n",
       "multtest      /opt/conda/lib/R/library/multtest      TRUE     FALSE  \n",
       "R.methodsS3   /opt/conda/lib/R/library/R.methodsS3   TRUE     FALSE  \n",
       "R.oo          /opt/conda/lib/R/library/R.oo          TRUE     FALSE  \n",
       "R.utils       /opt/conda/lib/R/library/R.utils       TRUE     FALSE  \n",
       "rtracklayer   /opt/conda/lib/R/library/rtracklayer   TRUE     FALSE  \n",
       "S4Vectors     /opt/conda/lib/R/library/S4Vectors     TRUE     FALSE  \n",
       "tibble        /opt/conda/lib/R/library/tibble        TRUE     FALSE  \n",
       "              date       source         md5ok library                 \n",
       "Biobase       2019-10-29 Bioconductor   NA    /opt/conda/lib/R/library\n",
       "BiocGenerics  2019-10-29 Bioconductor   NA    /opt/conda/lib/R/library\n",
       "dplyr         2020-03-07 CRAN (R 3.6.1) NA    /opt/conda/lib/R/library\n",
       "edgeR         2019-10-29 Bioconductor   NA    /opt/conda/lib/R/library\n",
       "GenomeInfoDb  2019-10-29 Bioconductor   NA    /opt/conda/lib/R/library\n",
       "GenomicRanges 2019-10-29 Bioconductor   NA    /opt/conda/lib/R/library\n",
       "ggplot2       2020-06-19 CRAN (R 3.6.3) NA    /opt/conda/lib/R/library\n",
       "IRanges       2019-10-29 Bioconductor   NA    /opt/conda/lib/R/library\n",
       "limma         2019-10-29 Bioconductor   NA    /opt/conda/lib/R/library\n",
       "multtest      2019-10-29 Bioconductor   NA    /opt/conda/lib/R/library\n",
       "R.methodsS3   2020-02-14 CRAN (R 3.6.3) NA    /opt/conda/lib/R/library\n",
       "R.oo          2019-11-03 CRAN (R 3.6.3) NA    /opt/conda/lib/R/library\n",
       "R.utils       2019-12-08 CRAN (R 3.6.1) NA    /opt/conda/lib/R/library\n",
       "rtracklayer   2019-10-29 Bioconductor   NA    /opt/conda/lib/R/library\n",
       "S4Vectors     2019-10-29 Bioconductor   NA    /opt/conda/lib/R/library\n",
       "tibble        2020-07-10 CRAN (R 3.6.3) NA    /opt/conda/lib/R/library"
      ]
     },
     "metadata": {},
     "output_type": "display_data"
    }
   ],
   "source": [
    "dev_session_info   <- devtools::session_info()\n",
    "utils_session_info <- utils::sessionInfo()\n",
    "\n",
    "message(\"Saving `devtools::session_info()` objects in ../metadata/devtools_session_info.rds  ..\")\n",
    "saveRDS(dev_session_info, file = paste0(\"../metadata/\", notebookid, \"_devtools_session_info.rds\"))\n",
    "message(\"Done!\\n\")\n",
    "\n",
    "message(\"Saving `utils::sessionInfo()` objects in ../metadata/utils_session_info.rds  ..\")\n",
    "saveRDS(utils_session_info, file = paste0(\"../metadata/\", notebookid ,\"_utils_info.rds\"))\n",
    "message(\"Done!\\n\")\n",
    "\n",
    "dev_session_info$platform\n",
    "dev_session_info$packages[dev_session_info$packages$attached==TRUE, ]"
   ]
  },
  {
   "cell_type": "code",
   "execution_count": null,
   "metadata": {},
   "outputs": [],
   "source": []
  }
 ],
 "metadata": {
  "jupytext": {
   "cell_metadata_filter": "-all",
   "main_language": "R",
   "notebook_metadata_filter": "-all"
  },
  "kernelspec": {
   "display_name": "R",
   "language": "R",
   "name": "ir"
  },
  "language_info": {
   "codemirror_mode": "r",
   "file_extension": ".r",
   "mimetype": "text/x-r-source",
   "name": "R",
   "pygments_lexer": "r",
   "version": "3.6.1"
  }
 },
 "nbformat": 4,
 "nbformat_minor": 4
}
