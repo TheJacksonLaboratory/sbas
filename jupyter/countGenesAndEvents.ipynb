{
 "cells": [
  {
   "cell_type": "markdown",
   "metadata": {},
   "source": [
    "# Analysis Notebook - Count Genes and Events\n",
    "\n",
    "This notebook processes the raw counts as provided by rMATS and performs some descriptive statistical analysis. It is used to produce the following outputs. \n",
    "\n",
    "## Data files created by this notebook\n",
    "Output text files are written to the ``data/`` directory (at the same level as the ``jupyter`` directory). \n",
    "\n",
    "1. **gene_AS.tsv**: Alternative splicing events per gene\n",
    "2. **genesWithCommonAS.tsv\n",
    "3. **Total_AS_by_chr.tsv**: Total alternative splicing events per chromosome\n",
    "4. **Total_AS_by_geneSymbol.tsv**: Count the number of tissues in which specific genes show significant alternative splicing\n",
    "5. **Total_AS_by_tissue.tsv**: Count the number of significant splicing events per tissue\n",
    "6. **Total_AS_by_splicingtype.tsv**: Count number of significant splicing events for each of the 5' alternative splicing categories\n",
    "7. **Significant_AS_events.tsv**: ?? Counts of significant events per slicing type per tissue\n",
    "8. **SplicingIndex_chr.tsv**: Splicing index by chr (number of sigificant AS events per 1000 exons)"
   ]
  },
  {
   "cell_type": "code",
   "execution_count": 2,
   "metadata": {},
   "outputs": [],
   "source": [
    "defaultW <- getOption(\"warn\")  # suppress warnings for this cell\n",
    "options(warn = -1) \n",
    "\n",
    "library(dplyr)\n",
    "library(ggplot2)\n",
    "library(limma)\n",
    "library(multtest)\n",
    "library(Biobase)\n",
    "library(edgeR)\n",
    "library(tibble)\n",
    "library(R.utils)\n",
    "library(rtracklayer)\n",
    "\n",
    "options(warn = defaultW)"
   ]
  },
  {
   "cell_type": "markdown",
   "metadata": {},
   "source": [
    "## 1. Download all the rMATS results\n",
    "\n",
    "Each of the alternative splicing output files are downloaded here:"
   ]
  },
  {
   "cell_type": "markdown",
   "metadata": {},
   "source": [
    "### 1.1 get released rMATS GTF annotations\n",
    "\n",
    "For each splicing type, the junctions are defined, so we have 5 specific annotated splicing specific junction ID annotation files:\n",
    "\n",
    "1. **fromGTF.A3SS.txt**: annotations for the alternative 3' splice site junctions\n",
    "2. **fromGTF.A5SS.txt**: annotations for the alternative 5' splice site junctions\n",
    "3. **fromGTF.MXE.txt**: annotations for the mutually exclusive exon junctions\n",
    "4. **fromGTF.RI.txt**: annotations for the retained introns junctions\n",
    "5. **fromGTF.SE.txt**: annotations for the skipped exon junctions"
   ]
  },
  {
   "cell_type": "markdown",
   "metadata": {},
   "source": [
    "## 1.2 Unpack the data.tar file if necessary\n",
    "To run this script, we need to import three compressed files and unpack them\n",
    "\n",
    "1. DGE_splicing_data.tar.gz\n",
    "2. data.tar.gz\n",
    "3. DGE_gene_csv.2020-06-17.tar.gz"
   ]
  },
  {
   "cell_type": "code",
   "execution_count": 53,
   "metadata": {},
   "outputs": [
    {
     "name": "stderr",
     "output_type": "stream",
     "text": [
      "In order to unpack the necessary files, execute the following commands on the shell.\n",
      "\n",
      "1. DGE_splicing_data.tar.gz\n",
      "\n",
      "tar xvfz  ../../mounted-data/5ee8da36143fa00113e810be-DGE_splicing_data.tar.gz-5ee8da36143fa00113e810be/robinson-bucket/notebooks/DGE_splicing_data.tar.gz -C ../data\n",
      "\n",
      "2. data.tar.gz\n",
      "\n",
      "tar xvfz  ../../mounted-data/5ee8da28143fa00113e8105a-data.tar.gz-5ee8da28143fa00113e8105a/robinson-bucket/notebooks/data.tar.gz -C ../data\n",
      "\n",
      "3. DGE_gene_csv.2020-06-17.tar.gz\n",
      "\n",
      "tar xvfz  ../../mounted-data/5ee9f327143fa00113eeb1fe-DGE_gene_csv.2020-06-17.tar.gz-5ee9f327143fa00113eeb1fe/robinson-bucket/results-download/DGE_gene_csv.2020-06-17.tar.gz -C ../data\n",
      "\n"
     ]
    }
   ],
   "source": [
    "dge_splicing_file_dir <- list.files(\"../../mounted-data\", pattern='DGE_splicing_data.tar.gz')\n",
    "dge_splicing_file <- paste(\"../../mounted-data\", dge_splicing_file_dir, 'robinson-bucket/notebooks/DGE_splicing_data', sep='/')\n",
    "dge_splicing_file_tar_gz <- paste(dge_splicing_file, '.tar.gz', sep='')\n",
    "message(\"In order to unpack the necessary files, execute the following commands on the shell.\")\n",
    "message(\"1. DGE_splicing_data.tar.gz\")\n",
    "mycommand = paste(\"tar xvfz \",dge_splicing_file_tar_gz, \"-C ../data\", sep=\" \")\n",
    "message(mycommand)\n",
    "message(\"2. data.tar.gz\")\n",
    "data_file_dir <- list.files(\"../../mounted-data\", pattern='-data.tar.gz')\n",
    "data_file_tar_gz <- paste(\"../../mounted-data\", data_file_dir, 'robinson-bucket/notebooks/data.tar.gz', sep='/')\n",
    "mycommand = paste(\"tar xvfz \",data_file_tar_gz, \"-C ../data\", sep=\" \")\n",
    "message(mycommand)\n",
    "message(\"3. DGE_gene_csv.2020-06-17.tar.gz\")\n",
    "dge_file <- list.files(\"../../mounted-data\", pattern='DGE_gene_csv')\n",
    "dge_file_tar_gz <- paste(\"../../mounted-data\", dge_file, 'robinson-bucket/results-download/DGE_gene_csv.2020-06-17.tar.gz', sep='/')\n",
    "mycommand = paste(\"tar xvfz \",dge_file_tar_gz, \"-C ../data\", sep=\" \")\n",
    "message(mycommand)"
   ]
  },
  {
   "cell_type": "code",
   "execution_count": 16,
   "metadata": {},
   "outputs": [
    {
     "name": "stderr",
     "output_type": "stream",
     "text": [
      "Decompressing fromGTF.tar.gz into ../data\n",
      "\n"
     ]
    },
    {
     "data": {
      "text/html": [
       "<style>\n",
       ".list-inline {list-style: none; margin:0; padding: 0}\n",
       ".list-inline>li {display: inline-block}\n",
       ".list-inline>li:not(:last-child)::after {content: \"\\00b7\"; padding: 0 .5ex}\n",
       "</style>\n",
       "<ol class=list-inline><li>'fromGTF.A3SS.txt.gz'</li><li>'fromGTF.A5SS.txt.gz'</li><li>'fromGTF.MXE.txt.gz'</li><li>'fromGTF.RI.txt.gz'</li><li>'fromGTF.SE.txt.gz'</li><li>'fromGTF.novelEvents.A3SS.txt.gz'</li><li>'fromGTF.novelEvents.A5SS.txt.gz'</li><li>'fromGTF.novelEvents.MXE.txt.gz'</li><li>'fromGTF.novelEvents.RI.txt.gz'</li><li>'fromGTF.novelEvents.SE.txt.gz'</li></ol>\n"
      ],
      "text/latex": [
       "\\begin{enumerate*}\n",
       "\\item 'fromGTF.A3SS.txt.gz'\n",
       "\\item 'fromGTF.A5SS.txt.gz'\n",
       "\\item 'fromGTF.MXE.txt.gz'\n",
       "\\item 'fromGTF.RI.txt.gz'\n",
       "\\item 'fromGTF.SE.txt.gz'\n",
       "\\item 'fromGTF.novelEvents.A3SS.txt.gz'\n",
       "\\item 'fromGTF.novelEvents.A5SS.txt.gz'\n",
       "\\item 'fromGTF.novelEvents.MXE.txt.gz'\n",
       "\\item 'fromGTF.novelEvents.RI.txt.gz'\n",
       "\\item 'fromGTF.novelEvents.SE.txt.gz'\n",
       "\\end{enumerate*}\n"
      ],
      "text/markdown": [
       "1. 'fromGTF.A3SS.txt.gz'\n",
       "2. 'fromGTF.A5SS.txt.gz'\n",
       "3. 'fromGTF.MXE.txt.gz'\n",
       "4. 'fromGTF.RI.txt.gz'\n",
       "5. 'fromGTF.SE.txt.gz'\n",
       "6. 'fromGTF.novelEvents.A3SS.txt.gz'\n",
       "7. 'fromGTF.novelEvents.A5SS.txt.gz'\n",
       "8. 'fromGTF.novelEvents.MXE.txt.gz'\n",
       "9. 'fromGTF.novelEvents.RI.txt.gz'\n",
       "10. 'fromGTF.novelEvents.SE.txt.gz'\n",
       "\n",
       "\n"
      ],
      "text/plain": [
       " [1] \"fromGTF.A3SS.txt.gz\"             \"fromGTF.A5SS.txt.gz\"            \n",
       " [3] \"fromGTF.MXE.txt.gz\"              \"fromGTF.RI.txt.gz\"              \n",
       " [5] \"fromGTF.SE.txt.gz\"               \"fromGTF.novelEvents.A3SS.txt.gz\"\n",
       " [7] \"fromGTF.novelEvents.A5SS.txt.gz\" \"fromGTF.novelEvents.MXE.txt.gz\" \n",
       " [9] \"fromGTF.novelEvents.RI.txt.gz\"   \"fromGTF.novelEvents.SE.txt.gz\"  "
      ]
     },
     "metadata": {},
     "output_type": "display_data"
    },
    {
     "name": "stderr",
     "output_type": "stream",
     "text": [
      "Warning message in system(\"gunzip ../data/fromGTF.*txt.gz\", intern = TRUE):\n",
      "“running command 'gunzip ../data/fromGTF.*txt.gz' had status 2”\n"
     ]
    },
    {
     "data": {
      "text/html": [],
      "text/latex": [],
      "text/markdown": [],
      "text/plain": [
       "character(0)\n",
       "attr(,\"status\")\n",
       "[1] 2\n",
       "attr(,\"errmsg\")\n",
       "[1] \"Resource temporarily unavailable\""
      ]
     },
     "metadata": {},
     "output_type": "display_data"
    },
    {
     "name": "stderr",
     "output_type": "stream",
     "text": [
      "Done!\n",
      "\n",
      "\n"
     ]
    }
   ],
   "source": [
    "## get the rmats 3.2.5 discovered/annotated junction information in GTF format\n",
    "message(\"Decompressing fromGTF.tar.gz into ../data\")\n",
    "system(\"mkdir -p ../data && tar xvfz ../data/fromGTF.tar.gz -C ../data\", intern = TRUE)\n",
    "system(\"gunzip ../data/fromGTF.*txt.gz\", intern = TRUE)\n",
    "message(\"Done!\\n\")"
   ]
  },
  {
   "cell_type": "markdown",
   "metadata": {},
   "source": [
    "### 2  Refined results\n",
    "We define **refined results* as (FC > 1.5 and pVal < 0.05) for the sex\\*as_event coefficient result for the linear model"
   ]
  },
  {
   "cell_type": "markdown",
   "metadata": {},
   "source": [
    "### 2.1 getTissueReduction"
   ]
  },
  {
   "cell_type": "code",
   "execution_count": 28,
   "metadata": {},
   "outputs": [
    {
     "data": {
      "text/html": [
       "<style>\n",
       ".list-inline {list-style: none; margin:0; padding: 0}\n",
       ".list-inline>li {display: inline-block}\n",
       ".list-inline>li:not(:last-child)::after {content: \"\\00b7\"; padding: 0 .5ex}\n",
       "</style>\n",
       "<ol class=list-inline><li>'Adipose (sc)'</li><li>'Adipose (v)'</li><li>'Adrenal gland'</li><li>'Aorta'</li><li>'Atrial appendage'</li><li>'Breast'</li><li>'Caudate'</li><li>'Cerebellar hemisphere'</li><li>'Cerebellum'</li><li>'Coronary artery'</li><li>'Cortex'</li><li>'EBV-lymphocytes'</li><li>'Esophagus (gej)'</li><li>'Esophagus (m)'</li><li>'Esophagus (mu)'</li><li>'Fibroblasts'</li><li>'Frontal cortex'</li><li>'Hippocampus'</li><li>'Hypothalamus'</li><li>'Left ventricle'</li><li>'Liver'</li><li>'Lung'</li><li>'Nucleus accumbens'</li><li>'Pancreas'</li><li>'Pituitary'</li><li>'Putamen'</li><li>'Sigmoid colon'</li><li>'Skeletal muscle'</li><li>'Skin (exposed)'</li><li>'Skin (not exposed)'</li><li>'Small intestine'</li><li>'Spinal cord'</li><li>'Spleen'</li><li>'Stomach'</li><li>'Thyroid'</li><li>'Tibial artery'</li><li>'Tibial nerve'</li><li>'Transverse colon'</li><li>'Whole blood'</li></ol>\n"
      ],
      "text/latex": [
       "\\begin{enumerate*}\n",
       "\\item 'Adipose (sc)'\n",
       "\\item 'Adipose (v)'\n",
       "\\item 'Adrenal gland'\n",
       "\\item 'Aorta'\n",
       "\\item 'Atrial appendage'\n",
       "\\item 'Breast'\n",
       "\\item 'Caudate'\n",
       "\\item 'Cerebellar hemisphere'\n",
       "\\item 'Cerebellum'\n",
       "\\item 'Coronary artery'\n",
       "\\item 'Cortex'\n",
       "\\item 'EBV-lymphocytes'\n",
       "\\item 'Esophagus (gej)'\n",
       "\\item 'Esophagus (m)'\n",
       "\\item 'Esophagus (mu)'\n",
       "\\item 'Fibroblasts'\n",
       "\\item 'Frontal cortex'\n",
       "\\item 'Hippocampus'\n",
       "\\item 'Hypothalamus'\n",
       "\\item 'Left ventricle'\n",
       "\\item 'Liver'\n",
       "\\item 'Lung'\n",
       "\\item 'Nucleus accumbens'\n",
       "\\item 'Pancreas'\n",
       "\\item 'Pituitary'\n",
       "\\item 'Putamen'\n",
       "\\item 'Sigmoid colon'\n",
       "\\item 'Skeletal muscle'\n",
       "\\item 'Skin (exposed)'\n",
       "\\item 'Skin (not exposed)'\n",
       "\\item 'Small intestine'\n",
       "\\item 'Spinal cord'\n",
       "\\item 'Spleen'\n",
       "\\item 'Stomach'\n",
       "\\item 'Thyroid'\n",
       "\\item 'Tibial artery'\n",
       "\\item 'Tibial nerve'\n",
       "\\item 'Transverse colon'\n",
       "\\item 'Whole blood'\n",
       "\\end{enumerate*}\n"
      ],
      "text/markdown": [
       "1. 'Adipose (sc)'\n",
       "2. 'Adipose (v)'\n",
       "3. 'Adrenal gland'\n",
       "4. 'Aorta'\n",
       "5. 'Atrial appendage'\n",
       "6. 'Breast'\n",
       "7. 'Caudate'\n",
       "8. 'Cerebellar hemisphere'\n",
       "9. 'Cerebellum'\n",
       "10. 'Coronary artery'\n",
       "11. 'Cortex'\n",
       "12. 'EBV-lymphocytes'\n",
       "13. 'Esophagus (gej)'\n",
       "14. 'Esophagus (m)'\n",
       "15. 'Esophagus (mu)'\n",
       "16. 'Fibroblasts'\n",
       "17. 'Frontal cortex'\n",
       "18. 'Hippocampus'\n",
       "19. 'Hypothalamus'\n",
       "20. 'Left ventricle'\n",
       "21. 'Liver'\n",
       "22. 'Lung'\n",
       "23. 'Nucleus accumbens'\n",
       "24. 'Pancreas'\n",
       "25. 'Pituitary'\n",
       "26. 'Putamen'\n",
       "27. 'Sigmoid colon'\n",
       "28. 'Skeletal muscle'\n",
       "29. 'Skin (exposed)'\n",
       "30. 'Skin (not exposed)'\n",
       "31. 'Small intestine'\n",
       "32. 'Spinal cord'\n",
       "33. 'Spleen'\n",
       "34. 'Stomach'\n",
       "35. 'Thyroid'\n",
       "36. 'Tibial artery'\n",
       "37. 'Tibial nerve'\n",
       "38. 'Transverse colon'\n",
       "39. 'Whole blood'\n",
       "\n",
       "\n"
      ],
      "text/plain": [
       " [1] \"Adipose (sc)\"          \"Adipose (v)\"           \"Adrenal gland\"        \n",
       " [4] \"Aorta\"                 \"Atrial appendage\"      \"Breast\"               \n",
       " [7] \"Caudate\"               \"Cerebellar hemisphere\" \"Cerebellum\"           \n",
       "[10] \"Coronary artery\"       \"Cortex\"                \"EBV-lymphocytes\"      \n",
       "[13] \"Esophagus (gej)\"       \"Esophagus (m)\"         \"Esophagus (mu)\"       \n",
       "[16] \"Fibroblasts\"           \"Frontal cortex\"        \"Hippocampus\"          \n",
       "[19] \"Hypothalamus\"          \"Left ventricle\"        \"Liver\"                \n",
       "[22] \"Lung\"                  \"Nucleus accumbens\"     \"Pancreas\"             \n",
       "[25] \"Pituitary\"             \"Putamen\"               \"Sigmoid colon\"        \n",
       "[28] \"Skeletal muscle\"       \"Skin (exposed)\"        \"Skin (not exposed)\"   \n",
       "[31] \"Small intestine\"       \"Spinal cord\"           \"Spleen\"               \n",
       "[34] \"Stomach\"               \"Thyroid\"               \"Tibial artery\"        \n",
       "[37] \"Tibial nerve\"          \"Transverse colon\"      \"Whole blood\"          "
      ]
     },
     "metadata": {},
     "output_type": "display_data"
    },
    {
     "name": "stderr",
     "output_type": "stream",
     "text": [
      "We extracted 39 different tissues with at least 50 samples in both M & f\n",
      "\n"
     ]
    }
   ],
   "source": [
    "tissue_reduction_filename <- \"../assets/tissues.tsv\"\n",
    "tissue_reduction <- read.table(tissue_reduction_filename, header=TRUE, sep=\"\\t\",\n",
    "                               skipNul=FALSE, stringsAsFactors = FALSE)\n",
    "colnames(tissue_reduction)  <- c(\"SMTSD\",\"female\",\"male\",\"include\",\"display_name\")\n",
    "tissue_reduction <- tissue_reduction[tissue_reduction$display_name != \"n/a\",]\n",
    "tissue_reduction$display_name <- factor(tissue_reduction$display_name)\n",
    "levels(tissue_reduction$display_name)\n",
    "message(\"We extracted \", length(levels(tissue_reduction$display_name)),\" different tissues with at least 50 samples in both M & f\")"
   ]
  },
  {
   "cell_type": "markdown",
   "metadata": {},
   "source": [
    "### 2.2 Read in refined results and annotations"
   ]
  },
  {
   "cell_type": "code",
   "execution_count": 29,
   "metadata": {},
   "outputs": [
    {
     "data": {
      "text/html": [
       "190"
      ],
      "text/latex": [
       "190"
      ],
      "text/markdown": [
       "190"
      ],
      "text/plain": [
       "[1] 190"
      ]
     },
     "metadata": {},
     "output_type": "display_data"
    }
   ],
   "source": [
    "significant_results_dir = \"../data/\"\n",
    "pattern = \"DGE_sex_as_events_refined.csv\"\n",
    "files <- list.files(path = significant_results_dir, pattern = pattern)\n",
    "as_types <- c(\"a3ss\", \"a5ss\", \"mxe\", \"ri\", \"se\")\n",
    "length(files)"
   ]
  },
  {
   "cell_type": "code",
   "execution_count": 30,
   "metadata": {},
   "outputs": [],
   "source": [
    "a3ss_annot <- read.table(file = \"../data/fromGTF.A3SS.txt\", sep = \"\\t\", quote = \"\\\"\", header = T, stringsAsFactors = F)\n",
    "a5ss_annot <- read.table(file = \"../data/fromGTF.A5SS.txt\", sep = \"\\t\", quote = \"\\\"\", header = T, stringsAsFactors = F)\n",
    "mxe_annot <- read.table(file = \"../data/fromGTF.MXE.txt\", sep = \"\\t\", quote = \"\\\"\", header = T, stringsAsFactors = F)\n",
    "ri_annot <- read.table(file = \"../data/fromGTF.RI.txt\", sep = \"\\t\", quote = \"\\\"\", header = T, stringsAsFactors = F)\n",
    "se_annot <- read.table(file = \"../data/fromGTF.SE.txt\", sep = \"\\t\", quote = \"\\\"\", header = T, stringsAsFactors = F)"
   ]
  },
  {
   "cell_type": "code",
   "execution_count": 31,
   "metadata": {},
   "outputs": [
    {
     "data": {
      "text/html": [
       "<table>\n",
       "<caption>A data.frame: 6 × 11</caption>\n",
       "<thead>\n",
       "\t<tr><th></th><th scope=col>ID</th><th scope=col>GeneID</th><th scope=col>geneSymbol</th><th scope=col>chr</th><th scope=col>strand</th><th scope=col>exonStart_0base</th><th scope=col>exonEnd</th><th scope=col>upstreamES</th><th scope=col>upstreamEE</th><th scope=col>downstreamES</th><th scope=col>downstreamEE</th></tr>\n",
       "\t<tr><th></th><th scope=col>&lt;int&gt;</th><th scope=col>&lt;chr&gt;</th><th scope=col>&lt;chr&gt;</th><th scope=col>&lt;chr&gt;</th><th scope=col>&lt;chr&gt;</th><th scope=col>&lt;int&gt;</th><th scope=col>&lt;int&gt;</th><th scope=col>&lt;int&gt;</th><th scope=col>&lt;int&gt;</th><th scope=col>&lt;int&gt;</th><th scope=col>&lt;int&gt;</th></tr>\n",
       "</thead>\n",
       "<tbody>\n",
       "\t<tr><th scope=row>1</th><td>1</td><td>ENSG00000034152.18</td><td>MAP2K3</td><td>chr17</td><td>+</td><td>21287990</td><td>21288091</td><td>21284709</td><td>21284969</td><td>21295674</td><td>21295769</td></tr>\n",
       "\t<tr><th scope=row>2</th><td>2</td><td>ENSG00000034152.18</td><td>MAP2K3</td><td>chr17</td><td>+</td><td>21303182</td><td>21303234</td><td>21302142</td><td>21302259</td><td>21304425</td><td>21304553</td></tr>\n",
       "\t<tr><th scope=row>3</th><td>3</td><td>ENSG00000034152.18</td><td>MAP2K3</td><td>chr17</td><td>+</td><td>21295674</td><td>21295769</td><td>21287990</td><td>21288091</td><td>21296085</td><td>21296143</td></tr>\n",
       "\t<tr><th scope=row>4</th><td>4</td><td>ENSG00000034152.18</td><td>MAP2K3</td><td>chr17</td><td>+</td><td>21295674</td><td>21295769</td><td>21287990</td><td>21288091</td><td>21298412</td><td>21298479</td></tr>\n",
       "\t<tr><th scope=row>5</th><td>5</td><td>ENSG00000034152.18</td><td>MAP2K3</td><td>chr17</td><td>+</td><td>21295674</td><td>21295769</td><td>21284710</td><td>21284969</td><td>21296085</td><td>21296143</td></tr>\n",
       "\t<tr><th scope=row>6</th><td>6</td><td>ENSG00000034152.18</td><td>MAP2K3</td><td>chr17</td><td>+</td><td>21295674</td><td>21295769</td><td>21284710</td><td>21284969</td><td>21298412</td><td>21298479</td></tr>\n",
       "</tbody>\n",
       "</table>\n"
      ],
      "text/latex": [
       "A data.frame: 6 × 11\n",
       "\\begin{tabular}{r|lllllllllll}\n",
       "  & ID & GeneID & geneSymbol & chr & strand & exonStart\\_0base & exonEnd & upstreamES & upstreamEE & downstreamES & downstreamEE\\\\\n",
       "  & <int> & <chr> & <chr> & <chr> & <chr> & <int> & <int> & <int> & <int> & <int> & <int>\\\\\n",
       "\\hline\n",
       "\t1 & 1 & ENSG00000034152.18 & MAP2K3 & chr17 & + & 21287990 & 21288091 & 21284709 & 21284969 & 21295674 & 21295769\\\\\n",
       "\t2 & 2 & ENSG00000034152.18 & MAP2K3 & chr17 & + & 21303182 & 21303234 & 21302142 & 21302259 & 21304425 & 21304553\\\\\n",
       "\t3 & 3 & ENSG00000034152.18 & MAP2K3 & chr17 & + & 21295674 & 21295769 & 21287990 & 21288091 & 21296085 & 21296143\\\\\n",
       "\t4 & 4 & ENSG00000034152.18 & MAP2K3 & chr17 & + & 21295674 & 21295769 & 21287990 & 21288091 & 21298412 & 21298479\\\\\n",
       "\t5 & 5 & ENSG00000034152.18 & MAP2K3 & chr17 & + & 21295674 & 21295769 & 21284710 & 21284969 & 21296085 & 21296143\\\\\n",
       "\t6 & 6 & ENSG00000034152.18 & MAP2K3 & chr17 & + & 21295674 & 21295769 & 21284710 & 21284969 & 21298412 & 21298479\\\\\n",
       "\\end{tabular}\n"
      ],
      "text/markdown": [
       "\n",
       "A data.frame: 6 × 11\n",
       "\n",
       "| <!--/--> | ID &lt;int&gt; | GeneID &lt;chr&gt; | geneSymbol &lt;chr&gt; | chr &lt;chr&gt; | strand &lt;chr&gt; | exonStart_0base &lt;int&gt; | exonEnd &lt;int&gt; | upstreamES &lt;int&gt; | upstreamEE &lt;int&gt; | downstreamES &lt;int&gt; | downstreamEE &lt;int&gt; |\n",
       "|---|---|---|---|---|---|---|---|---|---|---|---|\n",
       "| 1 | 1 | ENSG00000034152.18 | MAP2K3 | chr17 | + | 21287990 | 21288091 | 21284709 | 21284969 | 21295674 | 21295769 |\n",
       "| 2 | 2 | ENSG00000034152.18 | MAP2K3 | chr17 | + | 21303182 | 21303234 | 21302142 | 21302259 | 21304425 | 21304553 |\n",
       "| 3 | 3 | ENSG00000034152.18 | MAP2K3 | chr17 | + | 21295674 | 21295769 | 21287990 | 21288091 | 21296085 | 21296143 |\n",
       "| 4 | 4 | ENSG00000034152.18 | MAP2K3 | chr17 | + | 21295674 | 21295769 | 21287990 | 21288091 | 21298412 | 21298479 |\n",
       "| 5 | 5 | ENSG00000034152.18 | MAP2K3 | chr17 | + | 21295674 | 21295769 | 21284710 | 21284969 | 21296085 | 21296143 |\n",
       "| 6 | 6 | ENSG00000034152.18 | MAP2K3 | chr17 | + | 21295674 | 21295769 | 21284710 | 21284969 | 21298412 | 21298479 |\n",
       "\n"
      ],
      "text/plain": [
       "  ID GeneID             geneSymbol chr   strand exonStart_0base exonEnd \n",
       "1 1  ENSG00000034152.18 MAP2K3     chr17 +      21287990        21288091\n",
       "2 2  ENSG00000034152.18 MAP2K3     chr17 +      21303182        21303234\n",
       "3 3  ENSG00000034152.18 MAP2K3     chr17 +      21295674        21295769\n",
       "4 4  ENSG00000034152.18 MAP2K3     chr17 +      21295674        21295769\n",
       "5 5  ENSG00000034152.18 MAP2K3     chr17 +      21295674        21295769\n",
       "6 6  ENSG00000034152.18 MAP2K3     chr17 +      21295674        21295769\n",
       "  upstreamES upstreamEE downstreamES downstreamEE\n",
       "1 21284709   21284969   21295674     21295769    \n",
       "2 21302142   21302259   21304425     21304553    \n",
       "3 21287990   21288091   21296085     21296143    \n",
       "4 21287990   21288091   21298412     21298479    \n",
       "5 21284710   21284969   21296085     21296143    \n",
       "6 21284710   21284969   21298412     21298479    "
      ]
     },
     "metadata": {},
     "output_type": "display_data"
    }
   ],
   "source": [
    "head(se_annot)"
   ]
  },
  {
   "cell_type": "code",
   "execution_count": 32,
   "metadata": {},
   "outputs": [
    {
     "name": "stderr",
     "output_type": "stream",
     "text": [
      "We extracted a total of 2848 significant alternative splicing events (gene_as)\n",
      "\n",
      "This includes 1677 total genes\n",
      "\n"
     ]
    }
   ],
   "source": [
    "gene_as = data.frame()\n",
    "GeneJunction <- rep(\"NA\", length(files))\n",
    "counts <- rep(NA, length(files))\n",
    "ASE <- rep(\"NA\", length(files))\n",
    "Tissue <- rep(\"NA\", length(files))\n",
    "Display <- rep(\"NA\", length(files))\n",
    "GeneSymbol <- rep(\"NA\", length(files))\n",
    "GeneID <- rep(\"NA\", length(files))\n",
    "chr <- rep(\"NA\", length(files))\n",
    "\n",
    "for (i in 1:length(files)) {\n",
    "    lines <- read.csv(paste0(significant_results_dir, files[i]),header = TRUE)\n",
    "    event     <- as.vector(as.character(rownames(lines)))\n",
    "    tissue1 <- gsub(\"_DGE_sex_as_events_refined.csv\",\"\", files[i], fixed = TRUE)\n",
    "    counts[i] <- dim(lines)[1]\n",
    "    if (counts[i] > 0) {\n",
    "        event_idx <- substring(event, regexpr(\"[0-9]+$\", event))\n",
    "        event_idx\n",
    "        if (grepl(\"^a3ss_\", files[i])) {\n",
    "            # remove the first 5 letters of the string \n",
    "            tissue2 <- substring(tissue1,6)\n",
    "            ASE[i] <- \"A3SS\"\n",
    "            Tissue[i] <- tissue2\n",
    "            idx <- match(event_idx, a3ss_annot$ID)\n",
    "            res <- data.frame(GeneJunction = event,\n",
    "                              ASE = \"A3SS\", \n",
    "                              ASE_IDX = idx,\n",
    "                              Tissue = tissue2,\n",
    "                              counts = counts[i],\n",
    "                              Display = tissue_reduction[tissue_reduction$SMTSD == tissue2, \"display_name\"],\n",
    "                              GeneSymbol = a3ss_annot$geneSymbol[idx],\n",
    "                              GeneID     = a3ss_annot$GeneID[idx],\n",
    "                              chr = a3ss_annot$chr[idx])\n",
    "            gene_as <- rbind(gene_as,res)\n",
    "\n",
    "        } else if (grepl(\"^a5ss_\", files[i])) {\n",
    "            # remove the first 5 letters of the string \n",
    "            tissue2 <- substring(tissue1,6)\n",
    "            ASE[i] <- \"A5SS\"\n",
    "            Tissue[i] <- tissue2\n",
    "            idx <- match(event_idx, a5ss_annot$ID)\n",
    "            res <- data.frame(GeneJunction = event,\n",
    "                              ASE = \"A5SS\", \n",
    "                              ASE_IDX = idx,\n",
    "                              Tissue = tissue2,\n",
    "                              counts = counts[i],\n",
    "                              Display = tissue_reduction[tissue_reduction$SMTSD == tissue2, \"display_name\"],\n",
    "                              GeneSymbol = a5ss_annot$geneSymbol[idx],\n",
    "                              GeneID     = a5ss_annot$GeneID[idx],\n",
    "                              chr = a5ss_annot$chr[idx])\n",
    "            gene_as <- rbind(gene_as,res)\n",
    "        } else if (grepl(\"^mxe_\", files[i])) {\n",
    "            ASE[i] <- \"MXE\"\n",
    "            # remove the first 4 letters of the string \n",
    "            tissue2 <- substring(tissue1,5)\n",
    "            Tissue[i] <- tissue2\n",
    "            idx <- match(event_idx, a3ss_annot$ID)\n",
    "            res <- data.frame(GeneJunction = event,\n",
    "                              ASE = \"MXE\", \n",
    "                              ASE_IDX = idx,\n",
    "                              Tissue = tissue2, \n",
    "                              counts = counts[i],\n",
    "                              Display = tissue_reduction[tissue_reduction$SMTSD == tissue2, \"display_name\"],\n",
    "                              GeneSymbol = mxe_annot$geneSymbol[idx],\n",
    "                              GeneID     = mxe_annot$GeneID[idx],\n",
    "                              chr = mxe_annot$chr[idx])\n",
    "            gene_as <- rbind(gene_as,res)\n",
    "        } else if (grepl(\"^se_\", files[i])) {\n",
    "            ASE[i] <- \"SE\"\n",
    "            # remove the first 3 letters of the string \n",
    "            tissue2 <- substring(tissue1,4)\n",
    "            Tissue[i] <- tissue2\n",
    "            idx <- match(event_idx, se_annot$ID)\n",
    "            res <- data.frame(GeneJunction = event,\n",
    "                              ASE = \"SE\", \n",
    "                              ASE_IDX = idx,\n",
    "                              Tissue = tissue2,\n",
    "                              counts = counts[i],\n",
    "                              Display = tissue_reduction[tissue_reduction$SMTSD == tissue2, \"display_name\"],\n",
    "                              GeneSymbol = se_annot$geneSymbol[idx],\n",
    "                              GeneID     = se_annot$GeneID[idx],\n",
    "                              chr = se_annot$chr[idx])\n",
    "            gene_as <- rbind(gene_as,res)\n",
    "        } else if (grepl(\"^ri_\", files[i])){\n",
    "            ASE[i] <- \"RI\"\n",
    "            # remove the first 3 letters of the string \n",
    "            tissue2 <- substring(tissue1,4)\n",
    "            Tissue[i] <- tissue2\n",
    "            idx <- match(event_idx, ri_annot$ID)\n",
    "            res <- data.frame(GeneJunction = event,\n",
    "                              ASE = \"RI\", \n",
    "                              ASE_IDX = idx,\n",
    "                              Tissue = tissue2,\n",
    "                              counts = counts[i],\n",
    "                              Display = tissue_reduction[tissue_reduction$SMTSD == tissue2, \"display_name\"],\n",
    "                              GeneSymbol = ri_annot$geneSymbol[idx],\n",
    "                              GeneID     = ri_annot$GeneID[idx],\n",
    "                              chr = ri_annot$chr[idx])\n",
    "            gene_as <- rbind(gene_as,res)\n",
    "        }\n",
    "        \n",
    "    } #if has sig. events\n",
    "    \n",
    "} #for all files\n",
    "n_unique_genes <- length(summary(as.factor(gene_as$GeneSymbol),maxsum=50000))\n",
    "message(\"We extracted a total of \",nrow(gene_as),\" significant alternative splicing events (gene_as)\")\n",
    "message(\"This includes \", n_unique_genes, \" total genes\")"
   ]
  },
  {
   "cell_type": "markdown",
   "metadata": {},
   "source": [
    "### 3 Data Structures for Figures"
   ]
  },
  {
   "cell_type": "markdown",
   "metadata": {},
   "source": [
    "### 3.1 gene_as.tsv\n",
    "\n",
    "This file contains (description)\n",
    "Here is a typical line\n",
    "<pre>\n",
    "        GeneJunction    ASE     ASE_IDX Tissue  GeneSymbol      chr\n",
    "1       MDM4-3553       SE      3553    adipovisceral_omentum   RNPEP   chr1\n",
    "2       WDR17-8668      SE      8668    adipovisceral_omentum   ANKMY1  chr2\n",
    "3       IL17RC-5032     SE      5032    adipovisceral_omentum   SNCAIP  chr5\n",
    "4       DDX3X-5712      A3SS    5712    adrenal_gland   DDX3X   chrX\n",
    "</pre>\n",
    "There are 2848 significant events in the file."
   ]
  },
  {
   "cell_type": "code",
   "execution_count": 34,
   "metadata": {},
   "outputs": [
    {
     "name": "stdout",
     "output_type": "stream",
     "text": [
      "Observations: 2,848\n",
      "Variables: 9\n",
      "$ GeneJunction \u001b[3m\u001b[90m<fct>\u001b[39m\u001b[23m MDM4-3553, WDR17-8668, IL17RC-5032, DDX3X-5712, SCO1-845…\n",
      "$ ASE          \u001b[3m\u001b[90m<fct>\u001b[39m\u001b[23m A3SS, A3SS, A3SS, A3SS, A3SS, A3SS, A3SS, A3SS, A3SS, A3…\n",
      "$ ASE_IDX      \u001b[3m\u001b[90m<int>\u001b[39m\u001b[23m 3553, 8668, 5032, 5712, 8452, 1493, 5712, 5710, 4891, 45…\n",
      "$ Tissue       \u001b[3m\u001b[90m<fct>\u001b[39m\u001b[23m adipose_visceral_omentum, adipose_visceral_omentum, adip…\n",
      "$ counts       \u001b[3m\u001b[90m<int>\u001b[39m\u001b[23m 3, 3, 3, 3, 3, 3, 8, 8, 8, 8, 8, 8, 8, 8, 1, 1, 3, 3, 3,…\n",
      "$ Display      \u001b[3m\u001b[90m<fct>\u001b[39m\u001b[23m Adipose (v), Adipose (v), Adipose (v), Adrenal gland, Ad…\n",
      "$ GeneSymbol   \u001b[3m\u001b[90m<fct>\u001b[39m\u001b[23m MDM4, WDR17, IL17RC, DDX3X, SCO1, MYO7A, DDX3X, DDX3X, H…\n",
      "$ GeneID       \u001b[3m\u001b[90m<fct>\u001b[39m\u001b[23m ENSG00000198625.13, ENSG00000150627.15, ENSG00000163702.…\n",
      "$ chr          \u001b[3m\u001b[90m<fct>\u001b[39m\u001b[23m chr1, chr4, chr3, chrX, chr17, chr11, chrX, chrX, chr1, …\n"
     ]
    },
    {
     "data": {
      "text/html": [
       "38"
      ],
      "text/latex": [
       "38"
      ],
      "text/markdown": [
       "38"
      ],
      "text/plain": [
       "[1] 38"
      ]
     },
     "metadata": {},
     "output_type": "display_data"
    },
    {
     "data": {
      "text/plain": [
       "\n",
       "FALSE \n",
       " 2848 "
      ]
     },
     "metadata": {},
     "output_type": "display_data"
    },
    {
     "data": {
      "text/plain": [
       "\n",
       "         Adipose (sc)           Adipose (v)         Adrenal gland \n",
       "                   26                    23                    20 \n",
       "                Aorta      Atrial appendage                Breast \n",
       "                   92                    12                  1788 \n",
       "              Caudate Cerebellar hemisphere            Cerebellum \n",
       "                    3                     1                    22 \n",
       "      Coronary artery                Cortex       EBV-lymphocytes \n",
       "                    4                     6                     7 \n",
       "      Esophagus (gej)         Esophagus (m)        Esophagus (mu) \n",
       "                   14                    17                   241 \n",
       "          Fibroblasts        Frontal cortex           Hippocampus \n",
       "                   37                     0                     9 \n",
       "         Hypothalamus        Left ventricle                 Liver \n",
       "                    2                     7                     6 \n",
       "                 Lung     Nucleus accumbens              Pancreas \n",
       "                   10                   271                    13 \n",
       "            Pituitary               Putamen         Sigmoid colon \n",
       "                   12                     1                     2 \n",
       "      Skeletal muscle        Skin (exposed)    Skin (not exposed) \n",
       "                   31                    16                    11 \n",
       "      Small intestine           Spinal cord                Spleen \n",
       "                    1                     4                    40 \n",
       "              Stomach               Thyroid         Tibial artery \n",
       "                    9                    52                    17 \n",
       "         Tibial nerve      Transverse colon           Whole blood \n",
       "                   10                     6                     5 "
      ]
     },
     "metadata": {},
     "output_type": "display_data"
    },
    {
     "data": {
      "text/html": [
       "<style>\n",
       ".list-inline {list-style: none; margin:0; padding: 0}\n",
       ".list-inline>li {display: inline-block}\n",
       ".list-inline>li:not(:last-child)::after {content: \"\\00b7\"; padding: 0 .5ex}\n",
       "</style>\n",
       "<ol class=list-inline><li>'GeneJunction'</li><li>'ASE'</li><li>'ASE_IDX'</li><li>'Tissue'</li><li>'counts'</li><li>'Display'</li><li>'GeneSymbol'</li><li>'GeneID'</li><li>'chr'</li></ol>\n"
      ],
      "text/latex": [
       "\\begin{enumerate*}\n",
       "\\item 'GeneJunction'\n",
       "\\item 'ASE'\n",
       "\\item 'ASE\\_IDX'\n",
       "\\item 'Tissue'\n",
       "\\item 'counts'\n",
       "\\item 'Display'\n",
       "\\item 'GeneSymbol'\n",
       "\\item 'GeneID'\n",
       "\\item 'chr'\n",
       "\\end{enumerate*}\n"
      ],
      "text/markdown": [
       "1. 'GeneJunction'\n",
       "2. 'ASE'\n",
       "3. 'ASE_IDX'\n",
       "4. 'Tissue'\n",
       "5. 'counts'\n",
       "6. 'Display'\n",
       "7. 'GeneSymbol'\n",
       "8. 'GeneID'\n",
       "9. 'chr'\n",
       "\n",
       "\n"
      ],
      "text/plain": [
       "[1] \"GeneJunction\" \"ASE\"          \"ASE_IDX\"      \"Tissue\"       \"counts\"      \n",
       "[6] \"Display\"      \"GeneSymbol\"   \"GeneID\"       \"chr\"         "
      ]
     },
     "metadata": {},
     "output_type": "display_data"
    },
    {
     "data": {
      "text/html": [
       "<table>\n",
       "<caption>A data.frame: 6 × 9</caption>\n",
       "<thead>\n",
       "\t<tr><th></th><th scope=col>GeneJunction</th><th scope=col>ASE</th><th scope=col>ASE_IDX</th><th scope=col>Tissue</th><th scope=col>counts</th><th scope=col>Display</th><th scope=col>GeneSymbol</th><th scope=col>GeneID</th><th scope=col>chr</th></tr>\n",
       "\t<tr><th></th><th scope=col>&lt;fct&gt;</th><th scope=col>&lt;fct&gt;</th><th scope=col>&lt;int&gt;</th><th scope=col>&lt;fct&gt;</th><th scope=col>&lt;int&gt;</th><th scope=col>&lt;fct&gt;</th><th scope=col>&lt;fct&gt;</th><th scope=col>&lt;fct&gt;</th><th scope=col>&lt;fct&gt;</th></tr>\n",
       "</thead>\n",
       "<tbody>\n",
       "\t<tr><th scope=row>1</th><td>MDM4-3553  </td><td>A3SS</td><td>3553</td><td>adipose_visceral_omentum</td><td>3</td><td>Adipose (v)  </td><td>MDM4  </td><td>ENSG00000198625.13</td><td>chr1 </td></tr>\n",
       "\t<tr><th scope=row>2</th><td>WDR17-8668 </td><td>A3SS</td><td>8668</td><td>adipose_visceral_omentum</td><td>3</td><td>Adipose (v)  </td><td>WDR17 </td><td>ENSG00000150627.15</td><td>chr4 </td></tr>\n",
       "\t<tr><th scope=row>3</th><td>IL17RC-5032</td><td>A3SS</td><td>5032</td><td>adipose_visceral_omentum</td><td>3</td><td>Adipose (v)  </td><td>IL17RC</td><td>ENSG00000163702.20</td><td>chr3 </td></tr>\n",
       "\t<tr><th scope=row>4</th><td>DDX3X-5712 </td><td>A3SS</td><td>5712</td><td>adrenal_gland           </td><td>3</td><td>Adrenal gland</td><td>DDX3X </td><td>ENSG00000215301.10</td><td>chrX </td></tr>\n",
       "\t<tr><th scope=row>5</th><td>SCO1-8452  </td><td>A3SS</td><td>8452</td><td>adrenal_gland           </td><td>3</td><td>Adrenal gland</td><td>SCO1  </td><td>ENSG00000133028.12</td><td>chr17</td></tr>\n",
       "\t<tr><th scope=row>6</th><td>MYO7A-1493 </td><td>A3SS</td><td>1493</td><td>adrenal_gland           </td><td>3</td><td>Adrenal gland</td><td>MYO7A </td><td>ENSG00000137474.21</td><td>chr11</td></tr>\n",
       "</tbody>\n",
       "</table>\n"
      ],
      "text/latex": [
       "A data.frame: 6 × 9\n",
       "\\begin{tabular}{r|lllllllll}\n",
       "  & GeneJunction & ASE & ASE\\_IDX & Tissue & counts & Display & GeneSymbol & GeneID & chr\\\\\n",
       "  & <fct> & <fct> & <int> & <fct> & <int> & <fct> & <fct> & <fct> & <fct>\\\\\n",
       "\\hline\n",
       "\t1 & MDM4-3553   & A3SS & 3553 & adipose\\_visceral\\_omentum & 3 & Adipose (v)   & MDM4   & ENSG00000198625.13 & chr1 \\\\\n",
       "\t2 & WDR17-8668  & A3SS & 8668 & adipose\\_visceral\\_omentum & 3 & Adipose (v)   & WDR17  & ENSG00000150627.15 & chr4 \\\\\n",
       "\t3 & IL17RC-5032 & A3SS & 5032 & adipose\\_visceral\\_omentum & 3 & Adipose (v)   & IL17RC & ENSG00000163702.20 & chr3 \\\\\n",
       "\t4 & DDX3X-5712  & A3SS & 5712 & adrenal\\_gland            & 3 & Adrenal gland & DDX3X  & ENSG00000215301.10 & chrX \\\\\n",
       "\t5 & SCO1-8452   & A3SS & 8452 & adrenal\\_gland            & 3 & Adrenal gland & SCO1   & ENSG00000133028.12 & chr17\\\\\n",
       "\t6 & MYO7A-1493  & A3SS & 1493 & adrenal\\_gland            & 3 & Adrenal gland & MYO7A  & ENSG00000137474.21 & chr11\\\\\n",
       "\\end{tabular}\n"
      ],
      "text/markdown": [
       "\n",
       "A data.frame: 6 × 9\n",
       "\n",
       "| <!--/--> | GeneJunction &lt;fct&gt; | ASE &lt;fct&gt; | ASE_IDX &lt;int&gt; | Tissue &lt;fct&gt; | counts &lt;int&gt; | Display &lt;fct&gt; | GeneSymbol &lt;fct&gt; | GeneID &lt;fct&gt; | chr &lt;fct&gt; |\n",
       "|---|---|---|---|---|---|---|---|---|---|\n",
       "| 1 | MDM4-3553   | A3SS | 3553 | adipose_visceral_omentum | 3 | Adipose (v)   | MDM4   | ENSG00000198625.13 | chr1  |\n",
       "| 2 | WDR17-8668  | A3SS | 8668 | adipose_visceral_omentum | 3 | Adipose (v)   | WDR17  | ENSG00000150627.15 | chr4  |\n",
       "| 3 | IL17RC-5032 | A3SS | 5032 | adipose_visceral_omentum | 3 | Adipose (v)   | IL17RC | ENSG00000163702.20 | chr3  |\n",
       "| 4 | DDX3X-5712  | A3SS | 5712 | adrenal_gland            | 3 | Adrenal gland | DDX3X  | ENSG00000215301.10 | chrX  |\n",
       "| 5 | SCO1-8452   | A3SS | 8452 | adrenal_gland            | 3 | Adrenal gland | SCO1   | ENSG00000133028.12 | chr17 |\n",
       "| 6 | MYO7A-1493  | A3SS | 1493 | adrenal_gland            | 3 | Adrenal gland | MYO7A  | ENSG00000137474.21 | chr11 |\n",
       "\n"
      ],
      "text/plain": [
       "  GeneJunction ASE  ASE_IDX Tissue                   counts Display      \n",
       "1 MDM4-3553    A3SS 3553    adipose_visceral_omentum 3      Adipose (v)  \n",
       "2 WDR17-8668   A3SS 8668    adipose_visceral_omentum 3      Adipose (v)  \n",
       "3 IL17RC-5032  A3SS 5032    adipose_visceral_omentum 3      Adipose (v)  \n",
       "4 DDX3X-5712   A3SS 5712    adrenal_gland            3      Adrenal gland\n",
       "5 SCO1-8452    A3SS 8452    adrenal_gland            3      Adrenal gland\n",
       "6 MYO7A-1493   A3SS 1493    adrenal_gland            3      Adrenal gland\n",
       "  GeneSymbol GeneID             chr  \n",
       "1 MDM4       ENSG00000198625.13 chr1 \n",
       "2 WDR17      ENSG00000150627.15 chr4 \n",
       "3 IL17RC     ENSG00000163702.20 chr3 \n",
       "4 DDX3X      ENSG00000215301.10 chrX \n",
       "5 SCO1       ENSG00000133028.12 chr17\n",
       "6 MYO7A      ENSG00000137474.21 chr11"
      ]
     },
     "metadata": {},
     "output_type": "display_data"
    },
    {
     "ename": "ERROR",
     "evalue": "Error in tissue_reduction$display_name: $ operator is invalid for atomic vectors\n",
     "output_type": "error",
     "traceback": [
      "Error in tissue_reduction$display_name: $ operator is invalid for atomic vectors\nTraceback:\n",
      "1. factor(tissue_reduction$display_name)"
     ]
    }
   ],
   "source": [
    "glimpse(gene_as)\n",
    "gene_as$Tissue <- factor(gene_as$Tissue)\n",
    "length(levels(gene_as$Tissue))\n",
    "table(is.na(gene_as$Display))\n",
    "table(gene_as$Display)\n",
    "colnames(gene_as)\n",
    "write.table(gene_as, \"../data/gene_as.tsv\", quote=FALSE, sep=\"\\t\")\n",
    "head(gene_as)\n",
    "tissue_reduction <- factor(tissue_reduction$display_name)"
   ]
  },
  {
   "cell_type": "code",
   "execution_count": 39,
   "metadata": {},
   "outputs": [
    {
     "data": {
      "text/html": [
       "<table>\n",
       "<caption>A data.frame: 6 × 9</caption>\n",
       "<thead>\n",
       "\t<tr><th></th><th scope=col>GeneJunction</th><th scope=col>ASE</th><th scope=col>ASE_IDX</th><th scope=col>Tissue</th><th scope=col>counts</th><th scope=col>Display</th><th scope=col>GeneSymbol</th><th scope=col>GeneID</th><th scope=col>chr</th></tr>\n",
       "\t<tr><th></th><th scope=col>&lt;fct&gt;</th><th scope=col>&lt;fct&gt;</th><th scope=col>&lt;int&gt;</th><th scope=col>&lt;fct&gt;</th><th scope=col>&lt;int&gt;</th><th scope=col>&lt;fct&gt;</th><th scope=col>&lt;fct&gt;</th><th scope=col>&lt;fct&gt;</th><th scope=col>&lt;fct&gt;</th></tr>\n",
       "</thead>\n",
       "<tbody>\n",
       "\t<tr><th scope=row>4</th><td>DDX3X-5712</td><td>A3SS</td><td>5712</td><td>adrenal_gland        </td><td>  3</td><td>Adrenal gland</td><td>DDX3X</td><td>ENSG00000215301.10</td><td>chrX</td></tr>\n",
       "\t<tr><th scope=row>7</th><td>DDX3X-5712</td><td>A3SS</td><td>5712</td><td>artery_aorta         </td><td>  8</td><td>Aorta        </td><td>DDX3X</td><td>ENSG00000215301.10</td><td>chrX</td></tr>\n",
       "\t<tr><th scope=row>8</th><td>DDX3X-5710</td><td>A3SS</td><td>5710</td><td>artery_aorta         </td><td>  8</td><td>Aorta        </td><td>DDX3X</td><td>ENSG00000215301.10</td><td>chrX</td></tr>\n",
       "\t<tr><th scope=row>39</th><td>DDX3X-5706</td><td>A3SS</td><td>5706</td><td>breast_mammary_tissue</td><td>146</td><td>Breast       </td><td>DDX3X</td><td>ENSG00000215301.10</td><td>chrX</td></tr>\n",
       "\t<tr><th scope=row>111</th><td>SPIN3-6181</td><td>A3SS</td><td>6181</td><td>breast_mammary_tissue</td><td>146</td><td>Breast       </td><td>SPIN3</td><td>ENSG00000204271.13</td><td>chrX</td></tr>\n",
       "\t<tr><th scope=row>146</th><td>IGSF1-8876</td><td>A3SS</td><td>8876</td><td>breast_mammary_tissue</td><td>146</td><td>Breast       </td><td>IGSF1</td><td>ENSG00000147255.19</td><td>chrX</td></tr>\n",
       "</tbody>\n",
       "</table>\n"
      ],
      "text/latex": [
       "A data.frame: 6 × 9\n",
       "\\begin{tabular}{r|lllllllll}\n",
       "  & GeneJunction & ASE & ASE\\_IDX & Tissue & counts & Display & GeneSymbol & GeneID & chr\\\\\n",
       "  & <fct> & <fct> & <int> & <fct> & <int> & <fct> & <fct> & <fct> & <fct>\\\\\n",
       "\\hline\n",
       "\t4 & DDX3X-5712 & A3SS & 5712 & adrenal\\_gland         &   3 & Adrenal gland & DDX3X & ENSG00000215301.10 & chrX\\\\\n",
       "\t7 & DDX3X-5712 & A3SS & 5712 & artery\\_aorta          &   8 & Aorta         & DDX3X & ENSG00000215301.10 & chrX\\\\\n",
       "\t8 & DDX3X-5710 & A3SS & 5710 & artery\\_aorta          &   8 & Aorta         & DDX3X & ENSG00000215301.10 & chrX\\\\\n",
       "\t39 & DDX3X-5706 & A3SS & 5706 & breast\\_mammary\\_tissue & 146 & Breast        & DDX3X & ENSG00000215301.10 & chrX\\\\\n",
       "\t111 & SPIN3-6181 & A3SS & 6181 & breast\\_mammary\\_tissue & 146 & Breast        & SPIN3 & ENSG00000204271.13 & chrX\\\\\n",
       "\t146 & IGSF1-8876 & A3SS & 8876 & breast\\_mammary\\_tissue & 146 & Breast        & IGSF1 & ENSG00000147255.19 & chrX\\\\\n",
       "\\end{tabular}\n"
      ],
      "text/markdown": [
       "\n",
       "A data.frame: 6 × 9\n",
       "\n",
       "| <!--/--> | GeneJunction &lt;fct&gt; | ASE &lt;fct&gt; | ASE_IDX &lt;int&gt; | Tissue &lt;fct&gt; | counts &lt;int&gt; | Display &lt;fct&gt; | GeneSymbol &lt;fct&gt; | GeneID &lt;fct&gt; | chr &lt;fct&gt; |\n",
       "|---|---|---|---|---|---|---|---|---|---|\n",
       "| 4 | DDX3X-5712 | A3SS | 5712 | adrenal_gland         |   3 | Adrenal gland | DDX3X | ENSG00000215301.10 | chrX |\n",
       "| 7 | DDX3X-5712 | A3SS | 5712 | artery_aorta          |   8 | Aorta         | DDX3X | ENSG00000215301.10 | chrX |\n",
       "| 8 | DDX3X-5710 | A3SS | 5710 | artery_aorta          |   8 | Aorta         | DDX3X | ENSG00000215301.10 | chrX |\n",
       "| 39 | DDX3X-5706 | A3SS | 5706 | breast_mammary_tissue | 146 | Breast        | DDX3X | ENSG00000215301.10 | chrX |\n",
       "| 111 | SPIN3-6181 | A3SS | 6181 | breast_mammary_tissue | 146 | Breast        | SPIN3 | ENSG00000204271.13 | chrX |\n",
       "| 146 | IGSF1-8876 | A3SS | 8876 | breast_mammary_tissue | 146 | Breast        | IGSF1 | ENSG00000147255.19 | chrX |\n",
       "\n"
      ],
      "text/plain": [
       "    GeneJunction ASE  ASE_IDX Tissue                counts Display      \n",
       "4   DDX3X-5712   A3SS 5712    adrenal_gland           3    Adrenal gland\n",
       "7   DDX3X-5712   A3SS 5712    artery_aorta            8    Aorta        \n",
       "8   DDX3X-5710   A3SS 5710    artery_aorta            8    Aorta        \n",
       "39  DDX3X-5706   A3SS 5706    breast_mammary_tissue 146    Breast       \n",
       "111 SPIN3-6181   A3SS 6181    breast_mammary_tissue 146    Breast       \n",
       "146 IGSF1-8876   A3SS 8876    breast_mammary_tissue 146    Breast       \n",
       "    GeneSymbol GeneID             chr \n",
       "4   DDX3X      ENSG00000215301.10 chrX\n",
       "7   DDX3X      ENSG00000215301.10 chrX\n",
       "8   DDX3X      ENSG00000215301.10 chrX\n",
       "39  DDX3X      ENSG00000215301.10 chrX\n",
       "111 SPIN3      ENSG00000204271.13 chrX\n",
       "146 IGSF1      ENSG00000147255.19 chrX"
      ]
     },
     "metadata": {},
     "output_type": "display_data"
    },
    {
     "name": "stderr",
     "output_type": "stream",
     "text": [
      "There were 2848 total significant alternative splicing events (gene_as)\n",
      "\n",
      "There were 254 total significant alternative splicing events on the X chromosome (gene_as)\n",
      "\n",
      "i.e., 8.9185393258427% of all significant AS events were on the X chromosome\n",
      "\n"
     ]
    }
   ],
   "source": [
    "head(gene_as[gene_as$chr==\"chrX\",])\n",
    "x_as_events <- gene_as[gene_as$chr==\"chrX\",]\n",
    "message(\"There were \",nrow(gene_as),\" total significant alternative splicing events (gene_as)\")\n",
    "message(\"There were \",nrow(x_as_events),\" total significant alternative splicing events on the X chromosome (gene_as)\")\n",
    "message(\"i.e., \", (100*nrow(x_as_events)/nrow(gene_as)), \"% of all significant AS events were on the X chromosome\")"
   ]
  },
  {
   "cell_type": "markdown",
   "metadata": {},
   "source": [
    "### 3.2 Tissue specific data frame"
   ]
  },
  {
   "cell_type": "code",
   "execution_count": 40,
   "metadata": {},
   "outputs": [
    {
     "name": "stderr",
     "output_type": "stream",
     "text": [
      "data now has 38 tissues and 5 ASE categories\n",
      "\n",
      "ASE:\n",
      "\n"
     ]
    },
    {
     "data": {
      "text/html": [
       "<style>\n",
       ".dl-inline {width: auto; margin:0; padding: 0}\n",
       ".dl-inline>dt, .dl-inline>dd {float: none; width: auto; display: inline-block}\n",
       ".dl-inline>dt::after {content: \":\\0020\"; padding-right: .5ex}\n",
       ".dl-inline>dt:not(:first-of-type) {padding-left: .5ex}\n",
       "</style><dl class=dl-inline><dt>A3SS</dt><dd>232</dd><dt>A5SS</dt><dd>207</dd><dt>MXE</dt><dd>121</dd><dt>RI</dt><dd>192</dd><dt>SE</dt><dd>2096</dd></dl>\n"
      ],
      "text/latex": [
       "\\begin{description*}\n",
       "\\item[A3SS] 232\n",
       "\\item[A5SS] 207\n",
       "\\item[MXE] 121\n",
       "\\item[RI] 192\n",
       "\\item[SE] 2096\n",
       "\\end{description*}\n"
      ],
      "text/markdown": [
       "A3SS\n",
       ":   232A5SS\n",
       ":   207MXE\n",
       ":   121RI\n",
       ":   192SE\n",
       ":   2096\n",
       "\n"
      ],
      "text/plain": [
       "A3SS A5SS  MXE   RI   SE \n",
       " 232  207  121  192 2096 "
      ]
     },
     "metadata": {},
     "output_type": "display_data"
    }
   ],
   "source": [
    "data <- data.frame(Tissue=gene_as$Tissue, ASE=gene_as$ASE, Counts=gene_as$counts)\n",
    "\n",
    "numberOfUniqueTissues <- length(summary(as.factor(data$Tissue),maxsum=500))\n",
    "numberOfASEmechanisms <- length(summary(as.factor(data$ASE),maxsum=500))\n",
    "\n",
    "message(\"data now has \",numberOfUniqueTissues, \" tissues and \", numberOfASEmechanisms, \" ASE categories\")\n",
    "message(\"ASE:\")\n",
    "summary(as.factor(data$ASE),maxsum=500)"
   ]
  },
  {
   "cell_type": "markdown",
   "metadata": {},
   "source": [
    "### 3.3 Count splicing event by chromosome\n",
    "\n",
    "Count the number of significant alternative splicing events per chromosome and write to the file **Total_AS_by_chr.tsv**."
   ]
  },
  {
   "cell_type": "code",
   "execution_count": 41,
   "metadata": {},
   "outputs": [
    {
     "data": {
      "text/html": [
       "23"
      ],
      "text/latex": [
       "23"
      ],
      "text/markdown": [
       "23"
      ],
      "text/plain": [
       "[1] 23"
      ]
     },
     "metadata": {},
     "output_type": "display_data"
    },
    {
     "data": {
      "text/html": [
       "<table>\n",
       "<caption>A data.frame: 23 × 2</caption>\n",
       "<thead>\n",
       "\t<tr><th scope=col>chr</th><th scope=col>n</th></tr>\n",
       "\t<tr><th scope=col>&lt;fct&gt;</th><th scope=col>&lt;int&gt;</th></tr>\n",
       "</thead>\n",
       "<tbody>\n",
       "\t<tr><td>chrX </td><td>254</td></tr>\n",
       "\t<tr><td>chr1 </td><td>236</td></tr>\n",
       "\t<tr><td>chr11</td><td>184</td></tr>\n",
       "\t<tr><td>chr2 </td><td>180</td></tr>\n",
       "\t<tr><td>chr12</td><td>175</td></tr>\n",
       "\t<tr><td>chr19</td><td>167</td></tr>\n",
       "\t<tr><td>chr17</td><td>165</td></tr>\n",
       "\t<tr><td>chr3 </td><td>157</td></tr>\n",
       "\t<tr><td>chr16</td><td>148</td></tr>\n",
       "\t<tr><td>chr4 </td><td>133</td></tr>\n",
       "\t<tr><td>chr7 </td><td>118</td></tr>\n",
       "\t<tr><td>chr15</td><td>115</td></tr>\n",
       "\t<tr><td>chr6 </td><td>107</td></tr>\n",
       "\t<tr><td>chr10</td><td>106</td></tr>\n",
       "\t<tr><td>chr5 </td><td>104</td></tr>\n",
       "\t<tr><td>chr9 </td><td>101</td></tr>\n",
       "\t<tr><td>chr22</td><td> 98</td></tr>\n",
       "\t<tr><td>chr14</td><td> 79</td></tr>\n",
       "\t<tr><td>chr8 </td><td> 73</td></tr>\n",
       "\t<tr><td>chr20</td><td> 55</td></tr>\n",
       "\t<tr><td>chr18</td><td> 49</td></tr>\n",
       "\t<tr><td>chr13</td><td> 26</td></tr>\n",
       "\t<tr><td>chr21</td><td> 18</td></tr>\n",
       "</tbody>\n",
       "</table>\n"
      ],
      "text/latex": [
       "A data.frame: 23 × 2\n",
       "\\begin{tabular}{ll}\n",
       " chr & n\\\\\n",
       " <fct> & <int>\\\\\n",
       "\\hline\n",
       "\t chrX  & 254\\\\\n",
       "\t chr1  & 236\\\\\n",
       "\t chr11 & 184\\\\\n",
       "\t chr2  & 180\\\\\n",
       "\t chr12 & 175\\\\\n",
       "\t chr19 & 167\\\\\n",
       "\t chr17 & 165\\\\\n",
       "\t chr3  & 157\\\\\n",
       "\t chr16 & 148\\\\\n",
       "\t chr4  & 133\\\\\n",
       "\t chr7  & 118\\\\\n",
       "\t chr15 & 115\\\\\n",
       "\t chr6  & 107\\\\\n",
       "\t chr10 & 106\\\\\n",
       "\t chr5  & 104\\\\\n",
       "\t chr9  & 101\\\\\n",
       "\t chr22 &  98\\\\\n",
       "\t chr14 &  79\\\\\n",
       "\t chr8  &  73\\\\\n",
       "\t chr20 &  55\\\\\n",
       "\t chr18 &  49\\\\\n",
       "\t chr13 &  26\\\\\n",
       "\t chr21 &  18\\\\\n",
       "\\end{tabular}\n"
      ],
      "text/markdown": [
       "\n",
       "A data.frame: 23 × 2\n",
       "\n",
       "| chr &lt;fct&gt; | n &lt;int&gt; |\n",
       "|---|---|\n",
       "| chrX  | 254 |\n",
       "| chr1  | 236 |\n",
       "| chr11 | 184 |\n",
       "| chr2  | 180 |\n",
       "| chr12 | 175 |\n",
       "| chr19 | 167 |\n",
       "| chr17 | 165 |\n",
       "| chr3  | 157 |\n",
       "| chr16 | 148 |\n",
       "| chr4  | 133 |\n",
       "| chr7  | 118 |\n",
       "| chr15 | 115 |\n",
       "| chr6  | 107 |\n",
       "| chr10 | 106 |\n",
       "| chr5  | 104 |\n",
       "| chr9  | 101 |\n",
       "| chr22 |  98 |\n",
       "| chr14 |  79 |\n",
       "| chr8  |  73 |\n",
       "| chr20 |  55 |\n",
       "| chr18 |  49 |\n",
       "| chr13 |  26 |\n",
       "| chr21 |  18 |\n",
       "\n"
      ],
      "text/plain": [
       "   chr   n  \n",
       "1  chrX  254\n",
       "2  chr1  236\n",
       "3  chr11 184\n",
       "4  chr2  180\n",
       "5  chr12 175\n",
       "6  chr19 167\n",
       "7  chr17 165\n",
       "8  chr3  157\n",
       "9  chr16 148\n",
       "10 chr4  133\n",
       "11 chr7  118\n",
       "12 chr15 115\n",
       "13 chr6  107\n",
       "14 chr10 106\n",
       "15 chr5  104\n",
       "16 chr9  101\n",
       "17 chr22  98\n",
       "18 chr14  79\n",
       "19 chr8   73\n",
       "20 chr20  55\n",
       "21 chr18  49\n",
       "22 chr13  26\n",
       "23 chr21  18"
      ]
     },
     "metadata": {},
     "output_type": "display_data"
    },
    {
     "name": "stdout",
     "output_type": "stream",
     "text": [
      "Observations: 23\n",
      "Variables: 2\n",
      "$ chr \u001b[3m\u001b[90m<fct>\u001b[39m\u001b[23m chrX, chr1, chr11, chr2, chr12, chr19, chr17, chr3, chr16, chr4, …\n",
      "$ n   \u001b[3m\u001b[90m<int>\u001b[39m\u001b[23m 254, 236, 184, 180, 175, 167, 165, 157, 148, 133, 118, 115, 107, …\n"
     ]
    }
   ],
   "source": [
    "res2 <- gene_as          %>% \n",
    "       group_by(chr)    %>% \n",
    "       count(chr)       %>% \n",
    "       arrange(desc(n)) %>% \n",
    "       as.data.frame()\n",
    "res2$chr <- factor(res2$chr, levels = res2$chr)\n",
    "length(res2$chr)\n",
    "res2\n",
    "glimpse(res2)\n",
    "write.table(res2, file= \"../data/Total_AS_by_chr.tsv\", sep=\"\\t\", quote = FALSE, row.names=F)"
   ]
  },
  {
   "cell_type": "markdown",
   "metadata": {},
   "source": [
    "### 3.4 Count most frequent spliced genes "
   ]
  },
  {
   "cell_type": "code",
   "execution_count": 42,
   "metadata": {
    "lines_to_next_cell": 0
   },
   "outputs": [
    {
     "data": {
      "text/html": [
       "1677"
      ],
      "text/latex": [
       "1677"
      ],
      "text/markdown": [
       "1677"
      ],
      "text/plain": [
       "[1] 1677"
      ]
     },
     "metadata": {},
     "output_type": "display_data"
    },
    {
     "data": {
      "text/html": [
       "<table>\n",
       "<caption>A data.frame: 6 × 2</caption>\n",
       "<thead>\n",
       "\t<tr><th></th><th scope=col>GeneSymbol</th><th scope=col>n</th></tr>\n",
       "\t<tr><th></th><th scope=col>&lt;fct&gt;</th><th scope=col>&lt;int&gt;</th></tr>\n",
       "</thead>\n",
       "<tbody>\n",
       "\t<tr><th scope=row>1</th><td>DDX3X </td><td>85</td></tr>\n",
       "\t<tr><th scope=row>2</th><td>KDM5C </td><td>40</td></tr>\n",
       "\t<tr><th scope=row>3</th><td>ZFX   </td><td>21</td></tr>\n",
       "\t<tr><th scope=row>4</th><td>SORBS2</td><td>18</td></tr>\n",
       "\t<tr><th scope=row>5</th><td>CD44  </td><td>16</td></tr>\n",
       "\t<tr><th scope=row>6</th><td>CACNB4</td><td>12</td></tr>\n",
       "</tbody>\n",
       "</table>\n"
      ],
      "text/latex": [
       "A data.frame: 6 × 2\n",
       "\\begin{tabular}{r|ll}\n",
       "  & GeneSymbol & n\\\\\n",
       "  & <fct> & <int>\\\\\n",
       "\\hline\n",
       "\t1 & DDX3X  & 85\\\\\n",
       "\t2 & KDM5C  & 40\\\\\n",
       "\t3 & ZFX    & 21\\\\\n",
       "\t4 & SORBS2 & 18\\\\\n",
       "\t5 & CD44   & 16\\\\\n",
       "\t6 & CACNB4 & 12\\\\\n",
       "\\end{tabular}\n"
      ],
      "text/markdown": [
       "\n",
       "A data.frame: 6 × 2\n",
       "\n",
       "| <!--/--> | GeneSymbol &lt;fct&gt; | n &lt;int&gt; |\n",
       "|---|---|---|\n",
       "| 1 | DDX3X  | 85 |\n",
       "| 2 | KDM5C  | 40 |\n",
       "| 3 | ZFX    | 21 |\n",
       "| 4 | SORBS2 | 18 |\n",
       "| 5 | CD44   | 16 |\n",
       "| 6 | CACNB4 | 12 |\n",
       "\n"
      ],
      "text/plain": [
       "  GeneSymbol n \n",
       "1 DDX3X      85\n",
       "2 KDM5C      40\n",
       "3 ZFX        21\n",
       "4 SORBS2     18\n",
       "5 CD44       16\n",
       "6 CACNB4     12"
      ]
     },
     "metadata": {},
     "output_type": "display_data"
    }
   ],
   "source": [
    "res3 <- gene_as %>% \n",
    "       group_by(GeneSymbol) %>% count(GeneSymbol) %>% arrange(desc(n)) %>% as.data.frame()\n",
    "res3$GeneSymbol <- factor(res3$GeneSymbol, levels = res3$GeneSymbol)\n",
    "length(res3$GeneSymbol)\n",
    "head(res3)\n",
    "write.table(res3, file = \"../data/Total_AS_by_geneSymbol.tsv\", sep = \"\\t\", quote=FALSE, row.names = F)"
   ]
  },
  {
   "cell_type": "markdown",
   "metadata": {},
   "source": [
    "\n",
    "\n"
   ]
  },
  {
   "cell_type": "markdown",
   "metadata": {},
   "source": [
    "### 3.5 Count most frequent splicing by tissue"
   ]
  },
  {
   "cell_type": "code",
   "execution_count": 43,
   "metadata": {},
   "outputs": [
    {
     "data": {
      "text/html": [
       "38"
      ],
      "text/latex": [
       "38"
      ],
      "text/markdown": [
       "38"
      ],
      "text/plain": [
       "[1] 38"
      ]
     },
     "metadata": {},
     "output_type": "display_data"
    },
    {
     "data": {
      "text/html": [
       "<table>\n",
       "<caption>A data.frame: 38 × 2</caption>\n",
       "<thead>\n",
       "\t<tr><th scope=col>Display</th><th scope=col>n</th></tr>\n",
       "\t<tr><th scope=col>&lt;fct&gt;</th><th scope=col>&lt;int&gt;</th></tr>\n",
       "</thead>\n",
       "<tbody>\n",
       "\t<tr><td>Breast               </td><td>1788</td></tr>\n",
       "\t<tr><td>Nucleus accumbens    </td><td> 271</td></tr>\n",
       "\t<tr><td>Esophagus (mu)       </td><td> 241</td></tr>\n",
       "\t<tr><td>Aorta                </td><td>  92</td></tr>\n",
       "\t<tr><td>Thyroid              </td><td>  52</td></tr>\n",
       "\t<tr><td>Spleen               </td><td>  40</td></tr>\n",
       "\t<tr><td>Fibroblasts          </td><td>  37</td></tr>\n",
       "\t<tr><td>Skeletal muscle      </td><td>  31</td></tr>\n",
       "\t<tr><td>Adipose (sc)         </td><td>  26</td></tr>\n",
       "\t<tr><td>Adipose (v)          </td><td>  23</td></tr>\n",
       "\t<tr><td>Cerebellum           </td><td>  22</td></tr>\n",
       "\t<tr><td>Adrenal gland        </td><td>  20</td></tr>\n",
       "\t<tr><td>Esophagus (m)        </td><td>  17</td></tr>\n",
       "\t<tr><td>Tibial artery        </td><td>  17</td></tr>\n",
       "\t<tr><td>Skin (exposed)       </td><td>  16</td></tr>\n",
       "\t<tr><td>Esophagus (gej)      </td><td>  14</td></tr>\n",
       "\t<tr><td>Pancreas             </td><td>  13</td></tr>\n",
       "\t<tr><td>Atrial appendage     </td><td>  12</td></tr>\n",
       "\t<tr><td>Pituitary            </td><td>  12</td></tr>\n",
       "\t<tr><td>Skin (not exposed)   </td><td>  11</td></tr>\n",
       "\t<tr><td>Lung                 </td><td>  10</td></tr>\n",
       "\t<tr><td>Tibial nerve         </td><td>  10</td></tr>\n",
       "\t<tr><td>Hippocampus          </td><td>   9</td></tr>\n",
       "\t<tr><td>Stomach              </td><td>   9</td></tr>\n",
       "\t<tr><td>EBV-lymphocytes      </td><td>   7</td></tr>\n",
       "\t<tr><td>Left ventricle       </td><td>   7</td></tr>\n",
       "\t<tr><td>Cortex               </td><td>   6</td></tr>\n",
       "\t<tr><td>Liver                </td><td>   6</td></tr>\n",
       "\t<tr><td>Transverse colon     </td><td>   6</td></tr>\n",
       "\t<tr><td>Whole blood          </td><td>   5</td></tr>\n",
       "\t<tr><td>Coronary artery      </td><td>   4</td></tr>\n",
       "\t<tr><td>Spinal cord          </td><td>   4</td></tr>\n",
       "\t<tr><td>Caudate              </td><td>   3</td></tr>\n",
       "\t<tr><td>Hypothalamus         </td><td>   2</td></tr>\n",
       "\t<tr><td>Sigmoid colon        </td><td>   2</td></tr>\n",
       "\t<tr><td>Cerebellar hemisphere</td><td>   1</td></tr>\n",
       "\t<tr><td>Putamen              </td><td>   1</td></tr>\n",
       "\t<tr><td>Small intestine      </td><td>   1</td></tr>\n",
       "</tbody>\n",
       "</table>\n"
      ],
      "text/latex": [
       "A data.frame: 38 × 2\n",
       "\\begin{tabular}{ll}\n",
       " Display & n\\\\\n",
       " <fct> & <int>\\\\\n",
       "\\hline\n",
       "\t Breast                & 1788\\\\\n",
       "\t Nucleus accumbens     &  271\\\\\n",
       "\t Esophagus (mu)        &  241\\\\\n",
       "\t Aorta                 &   92\\\\\n",
       "\t Thyroid               &   52\\\\\n",
       "\t Spleen                &   40\\\\\n",
       "\t Fibroblasts           &   37\\\\\n",
       "\t Skeletal muscle       &   31\\\\\n",
       "\t Adipose (sc)          &   26\\\\\n",
       "\t Adipose (v)           &   23\\\\\n",
       "\t Cerebellum            &   22\\\\\n",
       "\t Adrenal gland         &   20\\\\\n",
       "\t Esophagus (m)         &   17\\\\\n",
       "\t Tibial artery         &   17\\\\\n",
       "\t Skin (exposed)        &   16\\\\\n",
       "\t Esophagus (gej)       &   14\\\\\n",
       "\t Pancreas              &   13\\\\\n",
       "\t Atrial appendage      &   12\\\\\n",
       "\t Pituitary             &   12\\\\\n",
       "\t Skin (not exposed)    &   11\\\\\n",
       "\t Lung                  &   10\\\\\n",
       "\t Tibial nerve          &   10\\\\\n",
       "\t Hippocampus           &    9\\\\\n",
       "\t Stomach               &    9\\\\\n",
       "\t EBV-lymphocytes       &    7\\\\\n",
       "\t Left ventricle        &    7\\\\\n",
       "\t Cortex                &    6\\\\\n",
       "\t Liver                 &    6\\\\\n",
       "\t Transverse colon      &    6\\\\\n",
       "\t Whole blood           &    5\\\\\n",
       "\t Coronary artery       &    4\\\\\n",
       "\t Spinal cord           &    4\\\\\n",
       "\t Caudate               &    3\\\\\n",
       "\t Hypothalamus          &    2\\\\\n",
       "\t Sigmoid colon         &    2\\\\\n",
       "\t Cerebellar hemisphere &    1\\\\\n",
       "\t Putamen               &    1\\\\\n",
       "\t Small intestine       &    1\\\\\n",
       "\\end{tabular}\n"
      ],
      "text/markdown": [
       "\n",
       "A data.frame: 38 × 2\n",
       "\n",
       "| Display &lt;fct&gt; | n &lt;int&gt; |\n",
       "|---|---|\n",
       "| Breast                | 1788 |\n",
       "| Nucleus accumbens     |  271 |\n",
       "| Esophagus (mu)        |  241 |\n",
       "| Aorta                 |   92 |\n",
       "| Thyroid               |   52 |\n",
       "| Spleen                |   40 |\n",
       "| Fibroblasts           |   37 |\n",
       "| Skeletal muscle       |   31 |\n",
       "| Adipose (sc)          |   26 |\n",
       "| Adipose (v)           |   23 |\n",
       "| Cerebellum            |   22 |\n",
       "| Adrenal gland         |   20 |\n",
       "| Esophagus (m)         |   17 |\n",
       "| Tibial artery         |   17 |\n",
       "| Skin (exposed)        |   16 |\n",
       "| Esophagus (gej)       |   14 |\n",
       "| Pancreas              |   13 |\n",
       "| Atrial appendage      |   12 |\n",
       "| Pituitary             |   12 |\n",
       "| Skin (not exposed)    |   11 |\n",
       "| Lung                  |   10 |\n",
       "| Tibial nerve          |   10 |\n",
       "| Hippocampus           |    9 |\n",
       "| Stomach               |    9 |\n",
       "| EBV-lymphocytes       |    7 |\n",
       "| Left ventricle        |    7 |\n",
       "| Cortex                |    6 |\n",
       "| Liver                 |    6 |\n",
       "| Transverse colon      |    6 |\n",
       "| Whole blood           |    5 |\n",
       "| Coronary artery       |    4 |\n",
       "| Spinal cord           |    4 |\n",
       "| Caudate               |    3 |\n",
       "| Hypothalamus          |    2 |\n",
       "| Sigmoid colon         |    2 |\n",
       "| Cerebellar hemisphere |    1 |\n",
       "| Putamen               |    1 |\n",
       "| Small intestine       |    1 |\n",
       "\n"
      ],
      "text/plain": [
       "   Display               n   \n",
       "1  Breast                1788\n",
       "2  Nucleus accumbens      271\n",
       "3  Esophagus (mu)         241\n",
       "4  Aorta                   92\n",
       "5  Thyroid                 52\n",
       "6  Spleen                  40\n",
       "7  Fibroblasts             37\n",
       "8  Skeletal muscle         31\n",
       "9  Adipose (sc)            26\n",
       "10 Adipose (v)             23\n",
       "11 Cerebellum              22\n",
       "12 Adrenal gland           20\n",
       "13 Esophagus (m)           17\n",
       "14 Tibial artery           17\n",
       "15 Skin (exposed)          16\n",
       "16 Esophagus (gej)         14\n",
       "17 Pancreas                13\n",
       "18 Atrial appendage        12\n",
       "19 Pituitary               12\n",
       "20 Skin (not exposed)      11\n",
       "21 Lung                    10\n",
       "22 Tibial nerve            10\n",
       "23 Hippocampus              9\n",
       "24 Stomach                  9\n",
       "25 EBV-lymphocytes          7\n",
       "26 Left ventricle           7\n",
       "27 Cortex                   6\n",
       "28 Liver                    6\n",
       "29 Transverse colon         6\n",
       "30 Whole blood              5\n",
       "31 Coronary artery          4\n",
       "32 Spinal cord              4\n",
       "33 Caudate                  3\n",
       "34 Hypothalamus             2\n",
       "35 Sigmoid colon            2\n",
       "36 Cerebellar hemisphere    1\n",
       "37 Putamen                  1\n",
       "38 Small intestine          1"
      ]
     },
     "metadata": {},
     "output_type": "display_data"
    }
   ],
   "source": [
    "res4 <- gene_as %>% \n",
    "       group_by(Display) %>% \n",
    "       count(Display) %>% \n",
    "       arrange(desc(n)) %>% \n",
    "       as.data.frame()\n",
    "res4$Display <- factor(res4$Display, levels = res4$Display)\n",
    "length(res4$Display)\n",
    "res4\n",
    "write.table(res4, file = \"../data/Total_AS_by_tissue.tsv\", sep = \"\\t\", row.names = F)"
   ]
  },
  {
   "cell_type": "markdown",
   "metadata": {},
   "source": [
    "###  3.6 Significant Count by splicing type \n",
    "We define **significant** to be FC > 1.5 and pVal < 0.05\n",
    "\n",
    "Our starting values were the significant events, all meeting the criteria FC > 1.5 and pVal < 0.05\n"
   ]
  },
  {
   "cell_type": "code",
   "execution_count": 44,
   "metadata": {},
   "outputs": [
    {
     "data": {
      "text/html": [
       "<table>\n",
       "<caption>A data.frame: 5 × 2</caption>\n",
       "<thead>\n",
       "\t<tr><th></th><th scope=col>ASE</th><th scope=col>n</th></tr>\n",
       "\t<tr><th></th><th scope=col>&lt;fct&gt;</th><th scope=col>&lt;int&gt;</th></tr>\n",
       "</thead>\n",
       "<tbody>\n",
       "\t<tr><th scope=row>1</th><td>SE  </td><td>2096</td></tr>\n",
       "\t<tr><th scope=row>2</th><td>A3SS</td><td> 232</td></tr>\n",
       "\t<tr><th scope=row>3</th><td>A5SS</td><td> 207</td></tr>\n",
       "\t<tr><th scope=row>4</th><td>RI  </td><td> 192</td></tr>\n",
       "\t<tr><th scope=row>5</th><td>MXE </td><td> 121</td></tr>\n",
       "</tbody>\n",
       "</table>\n"
      ],
      "text/latex": [
       "A data.frame: 5 × 2\n",
       "\\begin{tabular}{r|ll}\n",
       "  & ASE & n\\\\\n",
       "  & <fct> & <int>\\\\\n",
       "\\hline\n",
       "\t1 & SE   & 2096\\\\\n",
       "\t2 & A3SS &  232\\\\\n",
       "\t3 & A5SS &  207\\\\\n",
       "\t4 & RI   &  192\\\\\n",
       "\t5 & MXE  &  121\\\\\n",
       "\\end{tabular}\n"
      ],
      "text/markdown": [
       "\n",
       "A data.frame: 5 × 2\n",
       "\n",
       "| <!--/--> | ASE &lt;fct&gt; | n &lt;int&gt; |\n",
       "|---|---|---|\n",
       "| 1 | SE   | 2096 |\n",
       "| 2 | A3SS |  232 |\n",
       "| 3 | A5SS |  207 |\n",
       "| 4 | RI   |  192 |\n",
       "| 5 | MXE  |  121 |\n",
       "\n"
      ],
      "text/plain": [
       "  ASE  n   \n",
       "1 SE   2096\n",
       "2 A3SS  232\n",
       "3 A5SS  207\n",
       "4 RI    192\n",
       "5 MXE   121"
      ]
     },
     "metadata": {},
     "output_type": "display_data"
    }
   ],
   "source": [
    "res5 <- gene_as %>% group_by(ASE) %>% count(ASE) %>% arrange(desc(n)) %>% as.data.frame()\n",
    "res5$ASE <- factor(res5$ASE, levels = res5$ASE)\n",
    "head(res5)\n",
    "write.table(res5, file= \"../data/Total_AS_by_splicingtype.tsv\")"
   ]
  },
  {
   "cell_type": "markdown",
   "metadata": {},
   "source": [
    "###  3.7 Significant Count by splicing type (significant == FC > 1.5 and pVal < 0.05)"
   ]
  },
  {
   "cell_type": "code",
   "execution_count": 45,
   "metadata": {
    "lines_to_next_cell": 0
   },
   "outputs": [
    {
     "data": {
      "text/plain": [
       "A3SS_keep\n",
       "FALSE  TRUE \n",
       " 2616   232 "
      ]
     },
     "metadata": {},
     "output_type": "display_data"
    },
    {
     "data": {
      "text/plain": [
       "A5SS_keep\n",
       "FALSE  TRUE \n",
       " 2641   207 "
      ]
     },
     "metadata": {},
     "output_type": "display_data"
    },
    {
     "data": {
      "text/plain": [
       "MXE_keep\n",
       "FALSE  TRUE \n",
       " 2727   121 "
      ]
     },
     "metadata": {},
     "output_type": "display_data"
    },
    {
     "data": {
      "text/plain": [
       "SE_keep\n",
       "FALSE  TRUE \n",
       "  752  2096 "
      ]
     },
     "metadata": {},
     "output_type": "display_data"
    },
    {
     "data": {
      "text/plain": [
       "RI_keep\n",
       "FALSE  TRUE \n",
       " 2656   192 "
      ]
     },
     "metadata": {},
     "output_type": "display_data"
    },
    {
     "data": {
      "text/html": [
       "<style>\n",
       ".list-inline {list-style: none; margin:0; padding: 0}\n",
       ".list-inline>li {display: inline-block}\n",
       ".list-inline>li:not(:last-child)::after {content: \"\\00b7\"; padding: 0 .5ex}\n",
       "</style>\n",
       "<ol class=list-inline><li>232</li><li>9</li></ol>\n"
      ],
      "text/latex": [
       "\\begin{enumerate*}\n",
       "\\item 232\n",
       "\\item 9\n",
       "\\end{enumerate*}\n"
      ],
      "text/markdown": [
       "1. 232\n",
       "2. 9\n",
       "\n",
       "\n"
      ],
      "text/plain": [
       "[1] 232   9"
      ]
     },
     "metadata": {},
     "output_type": "display_data"
    },
    {
     "data": {
      "text/html": [
       "<style>\n",
       ".list-inline {list-style: none; margin:0; padding: 0}\n",
       ".list-inline>li {display: inline-block}\n",
       ".list-inline>li:not(:last-child)::after {content: \"\\00b7\"; padding: 0 .5ex}\n",
       "</style>\n",
       "<ol class=list-inline><li>207</li><li>9</li></ol>\n"
      ],
      "text/latex": [
       "\\begin{enumerate*}\n",
       "\\item 207\n",
       "\\item 9\n",
       "\\end{enumerate*}\n"
      ],
      "text/markdown": [
       "1. 207\n",
       "2. 9\n",
       "\n",
       "\n"
      ],
      "text/plain": [
       "[1] 207   9"
      ]
     },
     "metadata": {},
     "output_type": "display_data"
    },
    {
     "data": {
      "text/html": [
       "<style>\n",
       ".list-inline {list-style: none; margin:0; padding: 0}\n",
       ".list-inline>li {display: inline-block}\n",
       ".list-inline>li:not(:last-child)::after {content: \"\\00b7\"; padding: 0 .5ex}\n",
       "</style>\n",
       "<ol class=list-inline><li>121</li><li>9</li></ol>\n"
      ],
      "text/latex": [
       "\\begin{enumerate*}\n",
       "\\item 121\n",
       "\\item 9\n",
       "\\end{enumerate*}\n"
      ],
      "text/markdown": [
       "1. 121\n",
       "2. 9\n",
       "\n",
       "\n"
      ],
      "text/plain": [
       "[1] 121   9"
      ]
     },
     "metadata": {},
     "output_type": "display_data"
    },
    {
     "data": {
      "text/html": [
       "<style>\n",
       ".list-inline {list-style: none; margin:0; padding: 0}\n",
       ".list-inline>li {display: inline-block}\n",
       ".list-inline>li:not(:last-child)::after {content: \"\\00b7\"; padding: 0 .5ex}\n",
       "</style>\n",
       "<ol class=list-inline><li>2096</li><li>9</li></ol>\n"
      ],
      "text/latex": [
       "\\begin{enumerate*}\n",
       "\\item 2096\n",
       "\\item 9\n",
       "\\end{enumerate*}\n"
      ],
      "text/markdown": [
       "1. 2096\n",
       "2. 9\n",
       "\n",
       "\n"
      ],
      "text/plain": [
       "[1] 2096    9"
      ]
     },
     "metadata": {},
     "output_type": "display_data"
    },
    {
     "data": {
      "text/html": [
       "<style>\n",
       ".list-inline {list-style: none; margin:0; padding: 0}\n",
       ".list-inline>li {display: inline-block}\n",
       ".list-inline>li:not(:last-child)::after {content: \"\\00b7\"; padding: 0 .5ex}\n",
       "</style>\n",
       "<ol class=list-inline><li>192</li><li>9</li></ol>\n"
      ],
      "text/latex": [
       "\\begin{enumerate*}\n",
       "\\item 192\n",
       "\\item 9\n",
       "\\end{enumerate*}\n"
      ],
      "text/markdown": [
       "1. 192\n",
       "2. 9\n",
       "\n",
       "\n"
      ],
      "text/plain": [
       "[1] 192   9"
      ]
     },
     "metadata": {},
     "output_type": "display_data"
    }
   ],
   "source": [
    "A3SS_keep <- as.character(gene_as$ASE) %in% \"A3SS\"\n",
    "table(A3SS_keep)\n",
    "A3SS.gene_as <- data.frame(gene_as[A3SS_keep == TRUE,])\n",
    "\n",
    "A5SS_keep <- as.character(gene_as$ASE) %in% \"A5SS\"\n",
    "table(A5SS_keep)\n",
    "A5SS.gene_as <- data.frame(gene_as[A5SS_keep == TRUE,])\n",
    "\n",
    "MXE_keep  <- as.character(gene_as$ASE) %in% \"MXE\"\n",
    "table(MXE_keep)\n",
    "MXE.gene_as <- data.frame(gene_as[MXE_keep == TRUE,])\n",
    "\n",
    "SE_keep   <- as.character(gene_as$ASE) %in% \"SE\"\n",
    "table(SE_keep)\n",
    "SE.gene_as <- data.frame(gene_as[SE_keep == TRUE,])\n",
    "\n",
    "RI_keep   <- as.character(gene_as$ASE) %in% \"RI\"\n",
    "table(RI_keep)\n",
    "RI.gene_as <- data.frame(gene_as[RI_keep == TRUE,])\n",
    "\n",
    "dim(A3SS.gene_as)\n",
    "dim(A5SS.gene_as)\n",
    "dim(MXE.gene_as)\n",
    "dim(SE.gene_as)\n",
    "dim(RI.gene_as)\n"
   ]
  },
  {
   "cell_type": "markdown",
   "metadata": {},
   "source": [
    "### 3.8 Siginficant spliced by Gene for each splicing factor"
   ]
  },
  {
   "cell_type": "code",
   "execution_count": 46,
   "metadata": {},
   "outputs": [
    {
     "name": "stderr",
     "output_type": "stream",
     "text": [
      "Significant spliced genes for A3SS\n",
      "187 \n",
      "\n"
     ]
    },
    {
     "data": {
      "text/html": [
       "<table>\n",
       "<caption>A data.frame: 6 × 2</caption>\n",
       "<thead>\n",
       "\t<tr><th></th><th scope=col>GeneSymbol</th><th scope=col>n</th></tr>\n",
       "\t<tr><th></th><th scope=col>&lt;fct&gt;</th><th scope=col>&lt;int&gt;</th></tr>\n",
       "</thead>\n",
       "<tbody>\n",
       "\t<tr><th scope=row>1</th><td>DDX3X    </td><td>13</td></tr>\n",
       "\t<tr><th scope=row>2</th><td>HAND2-AS1</td><td> 7</td></tr>\n",
       "\t<tr><th scope=row>3</th><td>WDR17    </td><td> 3</td></tr>\n",
       "\t<tr><th scope=row>4</th><td>ADGRG1   </td><td> 3</td></tr>\n",
       "\t<tr><th scope=row>5</th><td>PPM1J    </td><td> 3</td></tr>\n",
       "\t<tr><th scope=row>6</th><td>FAIM2    </td><td> 2</td></tr>\n",
       "</tbody>\n",
       "</table>\n"
      ],
      "text/latex": [
       "A data.frame: 6 × 2\n",
       "\\begin{tabular}{r|ll}\n",
       "  & GeneSymbol & n\\\\\n",
       "  & <fct> & <int>\\\\\n",
       "\\hline\n",
       "\t1 & DDX3X     & 13\\\\\n",
       "\t2 & HAND2-AS1 &  7\\\\\n",
       "\t3 & WDR17     &  3\\\\\n",
       "\t4 & ADGRG1    &  3\\\\\n",
       "\t5 & PPM1J     &  3\\\\\n",
       "\t6 & FAIM2     &  2\\\\\n",
       "\\end{tabular}\n"
      ],
      "text/markdown": [
       "\n",
       "A data.frame: 6 × 2\n",
       "\n",
       "| <!--/--> | GeneSymbol &lt;fct&gt; | n &lt;int&gt; |\n",
       "|---|---|---|\n",
       "| 1 | DDX3X     | 13 |\n",
       "| 2 | HAND2-AS1 |  7 |\n",
       "| 3 | WDR17     |  3 |\n",
       "| 4 | ADGRG1    |  3 |\n",
       "| 5 | PPM1J     |  3 |\n",
       "| 6 | FAIM2     |  2 |\n",
       "\n"
      ],
      "text/plain": [
       "  GeneSymbol n \n",
       "1 DDX3X      13\n",
       "2 HAND2-AS1   7\n",
       "3 WDR17       3\n",
       "4 ADGRG1      3\n",
       "5 PPM1J       3\n",
       "6 FAIM2       2"
      ]
     },
     "metadata": {},
     "output_type": "display_data"
    },
    {
     "name": "stderr",
     "output_type": "stream",
     "text": [
      "Significant spliced genes for A5SS\n",
      "170 \n",
      "\n"
     ]
    },
    {
     "data": {
      "text/html": [
       "<table>\n",
       "<caption>A data.frame: 6 × 2</caption>\n",
       "<thead>\n",
       "\t<tr><th></th><th scope=col>GeneSymbol</th><th scope=col>n</th></tr>\n",
       "\t<tr><th></th><th scope=col>&lt;fct&gt;</th><th scope=col>&lt;int&gt;</th></tr>\n",
       "</thead>\n",
       "<tbody>\n",
       "\t<tr><th scope=row>1</th><td>DDX3X </td><td>23</td></tr>\n",
       "\t<tr><th scope=row>2</th><td>WDR31 </td><td> 4</td></tr>\n",
       "\t<tr><th scope=row>3</th><td>ITGB7 </td><td> 3</td></tr>\n",
       "\t<tr><th scope=row>4</th><td>DEPDC5</td><td> 2</td></tr>\n",
       "\t<tr><th scope=row>5</th><td>SGCE  </td><td> 2</td></tr>\n",
       "\t<tr><th scope=row>6</th><td>CD38  </td><td> 2</td></tr>\n",
       "</tbody>\n",
       "</table>\n"
      ],
      "text/latex": [
       "A data.frame: 6 × 2\n",
       "\\begin{tabular}{r|ll}\n",
       "  & GeneSymbol & n\\\\\n",
       "  & <fct> & <int>\\\\\n",
       "\\hline\n",
       "\t1 & DDX3X  & 23\\\\\n",
       "\t2 & WDR31  &  4\\\\\n",
       "\t3 & ITGB7  &  3\\\\\n",
       "\t4 & DEPDC5 &  2\\\\\n",
       "\t5 & SGCE   &  2\\\\\n",
       "\t6 & CD38   &  2\\\\\n",
       "\\end{tabular}\n"
      ],
      "text/markdown": [
       "\n",
       "A data.frame: 6 × 2\n",
       "\n",
       "| <!--/--> | GeneSymbol &lt;fct&gt; | n &lt;int&gt; |\n",
       "|---|---|---|\n",
       "| 1 | DDX3X  | 23 |\n",
       "| 2 | WDR31  |  4 |\n",
       "| 3 | ITGB7  |  3 |\n",
       "| 4 | DEPDC5 |  2 |\n",
       "| 5 | SGCE   |  2 |\n",
       "| 6 | CD38   |  2 |\n",
       "\n"
      ],
      "text/plain": [
       "  GeneSymbol n \n",
       "1 DDX3X      23\n",
       "2 WDR31       4\n",
       "3 ITGB7       3\n",
       "4 DEPDC5      2\n",
       "5 SGCE        2\n",
       "6 CD38        2"
      ]
     },
     "metadata": {},
     "output_type": "display_data"
    },
    {
     "name": "stderr",
     "output_type": "stream",
     "text": [
      "Significant spliced genes for MXE\n",
      "88 \n",
      "\n"
     ]
    },
    {
     "data": {
      "text/html": [
       "<table>\n",
       "<caption>A data.frame: 6 × 2</caption>\n",
       "<thead>\n",
       "\t<tr><th></th><th scope=col>GeneSymbol</th><th scope=col>n</th></tr>\n",
       "\t<tr><th></th><th scope=col>&lt;fct&gt;</th><th scope=col>&lt;int&gt;</th></tr>\n",
       "</thead>\n",
       "<tbody>\n",
       "\t<tr><th scope=row>1</th><td>DDX3X </td><td>7</td></tr>\n",
       "\t<tr><th scope=row>2</th><td>SORBS2</td><td>5</td></tr>\n",
       "\t<tr><th scope=row>3</th><td>ACSL6 </td><td>4</td></tr>\n",
       "\t<tr><th scope=row>4</th><td>SGCE  </td><td>3</td></tr>\n",
       "\t<tr><th scope=row>5</th><td>NRG2  </td><td>3</td></tr>\n",
       "\t<tr><th scope=row>6</th><td>FAM49B</td><td>3</td></tr>\n",
       "</tbody>\n",
       "</table>\n"
      ],
      "text/latex": [
       "A data.frame: 6 × 2\n",
       "\\begin{tabular}{r|ll}\n",
       "  & GeneSymbol & n\\\\\n",
       "  & <fct> & <int>\\\\\n",
       "\\hline\n",
       "\t1 & DDX3X  & 7\\\\\n",
       "\t2 & SORBS2 & 5\\\\\n",
       "\t3 & ACSL6  & 4\\\\\n",
       "\t4 & SGCE   & 3\\\\\n",
       "\t5 & NRG2   & 3\\\\\n",
       "\t6 & FAM49B & 3\\\\\n",
       "\\end{tabular}\n"
      ],
      "text/markdown": [
       "\n",
       "A data.frame: 6 × 2\n",
       "\n",
       "| <!--/--> | GeneSymbol &lt;fct&gt; | n &lt;int&gt; |\n",
       "|---|---|---|\n",
       "| 1 | DDX3X  | 7 |\n",
       "| 2 | SORBS2 | 5 |\n",
       "| 3 | ACSL6  | 4 |\n",
       "| 4 | SGCE   | 3 |\n",
       "| 5 | NRG2   | 3 |\n",
       "| 6 | FAM49B | 3 |\n",
       "\n"
      ],
      "text/plain": [
       "  GeneSymbol n\n",
       "1 DDX3X      7\n",
       "2 SORBS2     5\n",
       "3 ACSL6      4\n",
       "4 SGCE       3\n",
       "5 NRG2       3\n",
       "6 FAM49B     3"
      ]
     },
     "metadata": {},
     "output_type": "display_data"
    },
    {
     "name": "stderr",
     "output_type": "stream",
     "text": [
      "Significant spliced genes for RI\n",
      "160 \n",
      "\n"
     ]
    },
    {
     "data": {
      "text/html": [
       "<table>\n",
       "<caption>A data.frame: 6 × 2</caption>\n",
       "<thead>\n",
       "\t<tr><th></th><th scope=col>GeneSymbol</th><th scope=col>n</th></tr>\n",
       "\t<tr><th></th><th scope=col>&lt;fct&gt;</th><th scope=col>&lt;int&gt;</th></tr>\n",
       "</thead>\n",
       "<tbody>\n",
       "\t<tr><th scope=row>1</th><td>DDX3X    </td><td>13</td></tr>\n",
       "\t<tr><th scope=row>2</th><td>HAND2-AS1</td><td> 3</td></tr>\n",
       "\t<tr><th scope=row>3</th><td>SGCE     </td><td> 3</td></tr>\n",
       "\t<tr><th scope=row>4</th><td>SPG7     </td><td> 3</td></tr>\n",
       "\t<tr><th scope=row>5</th><td>TMEM79   </td><td> 3</td></tr>\n",
       "\t<tr><th scope=row>6</th><td>KDM5B    </td><td> 2</td></tr>\n",
       "</tbody>\n",
       "</table>\n"
      ],
      "text/latex": [
       "A data.frame: 6 × 2\n",
       "\\begin{tabular}{r|ll}\n",
       "  & GeneSymbol & n\\\\\n",
       "  & <fct> & <int>\\\\\n",
       "\\hline\n",
       "\t1 & DDX3X     & 13\\\\\n",
       "\t2 & HAND2-AS1 &  3\\\\\n",
       "\t3 & SGCE      &  3\\\\\n",
       "\t4 & SPG7      &  3\\\\\n",
       "\t5 & TMEM79    &  3\\\\\n",
       "\t6 & KDM5B     &  2\\\\\n",
       "\\end{tabular}\n"
      ],
      "text/markdown": [
       "\n",
       "A data.frame: 6 × 2\n",
       "\n",
       "| <!--/--> | GeneSymbol &lt;fct&gt; | n &lt;int&gt; |\n",
       "|---|---|---|\n",
       "| 1 | DDX3X     | 13 |\n",
       "| 2 | HAND2-AS1 |  3 |\n",
       "| 3 | SGCE      |  3 |\n",
       "| 4 | SPG7      |  3 |\n",
       "| 5 | TMEM79    |  3 |\n",
       "| 6 | KDM5B     |  2 |\n",
       "\n"
      ],
      "text/plain": [
       "  GeneSymbol n \n",
       "1 DDX3X      13\n",
       "2 HAND2-AS1   3\n",
       "3 SGCE        3\n",
       "4 SPG7        3\n",
       "5 TMEM79      3\n",
       "6 KDM5B       2"
      ]
     },
     "metadata": {},
     "output_type": "display_data"
    },
    {
     "name": "stderr",
     "output_type": "stream",
     "text": [
      "Significant spliced genes for SE\n",
      "1335 \n",
      "\n"
     ]
    },
    {
     "data": {
      "text/html": [
       "<table>\n",
       "<caption>A data.frame: 6 × 2</caption>\n",
       "<thead>\n",
       "\t<tr><th></th><th scope=col>GeneSymbol</th><th scope=col>n</th></tr>\n",
       "\t<tr><th></th><th scope=col>&lt;fct&gt;</th><th scope=col>&lt;int&gt;</th></tr>\n",
       "</thead>\n",
       "<tbody>\n",
       "\t<tr><th scope=row>1</th><td>KDM5C </td><td>40</td></tr>\n",
       "\t<tr><th scope=row>2</th><td>DDX3X </td><td>29</td></tr>\n",
       "\t<tr><th scope=row>3</th><td>ZFX   </td><td>21</td></tr>\n",
       "\t<tr><th scope=row>4</th><td>CD44  </td><td>14</td></tr>\n",
       "\t<tr><th scope=row>5</th><td>SORBS2</td><td>12</td></tr>\n",
       "\t<tr><th scope=row>6</th><td>CACNB4</td><td>11</td></tr>\n",
       "</tbody>\n",
       "</table>\n"
      ],
      "text/latex": [
       "A data.frame: 6 × 2\n",
       "\\begin{tabular}{r|ll}\n",
       "  & GeneSymbol & n\\\\\n",
       "  & <fct> & <int>\\\\\n",
       "\\hline\n",
       "\t1 & KDM5C  & 40\\\\\n",
       "\t2 & DDX3X  & 29\\\\\n",
       "\t3 & ZFX    & 21\\\\\n",
       "\t4 & CD44   & 14\\\\\n",
       "\t5 & SORBS2 & 12\\\\\n",
       "\t6 & CACNB4 & 11\\\\\n",
       "\\end{tabular}\n"
      ],
      "text/markdown": [
       "\n",
       "A data.frame: 6 × 2\n",
       "\n",
       "| <!--/--> | GeneSymbol &lt;fct&gt; | n &lt;int&gt; |\n",
       "|---|---|---|\n",
       "| 1 | KDM5C  | 40 |\n",
       "| 2 | DDX3X  | 29 |\n",
       "| 3 | ZFX    | 21 |\n",
       "| 4 | CD44   | 14 |\n",
       "| 5 | SORBS2 | 12 |\n",
       "| 6 | CACNB4 | 11 |\n",
       "\n"
      ],
      "text/plain": [
       "  GeneSymbol n \n",
       "1 KDM5C      40\n",
       "2 DDX3X      29\n",
       "3 ZFX        21\n",
       "4 CD44       14\n",
       "5 SORBS2     12\n",
       "6 CACNB4     11"
      ]
     },
     "metadata": {},
     "output_type": "display_data"
    }
   ],
   "source": [
    "A3SS.res <- A3SS.gene_as %>% group_by(GeneSymbol) %>% count(GeneSymbol) %>% arrange(desc(n)) %>% as.data.frame()\n",
    "A3SS.res$GeneSymbol <- factor(A3SS.res$GeneSymbol, levels = A3SS.res$GeneSymbol)\n",
    "message(\"Significant spliced genes for A3SS\\n\",\n",
    "        paste(length(A3SS.res$GeneSymbol)), collapse=\" \")\n",
    "head(A3SS.res)\n",
    "\n",
    "A5SS.res <- A5SS.gene_as %>% group_by(GeneSymbol) %>% count(GeneSymbol) %>% arrange(desc(n)) %>% as.data.frame()\n",
    "A5SS.res$GeneSymbol <- factor(A5SS.res$GeneSymbol, levels = A5SS.res$GeneSymbol)\n",
    "message(\"Significant spliced genes for A5SS\\n\",\n",
    "        paste(length(A5SS.res$GeneSymbol)), collapse=\" \")\n",
    "head(A5SS.res)\n",
    "\n",
    "MXE.res <- MXE.gene_as %>% group_by(GeneSymbol) %>% count(GeneSymbol) %>% arrange(desc(n)) %>% as.data.frame()\n",
    "MXE.res$GeneSymbol <- factor(MXE.res$GeneSymbol, levels = MXE.res$GeneSymbol)\n",
    "message(\"Significant spliced genes for MXE\\n\",\n",
    "        paste(length(MXE.res$GeneSymbol)), collapse=\" \")\n",
    "head(MXE.res)\n",
    "\n",
    "RI.res <- RI.gene_as %>% group_by(GeneSymbol) %>% count(GeneSymbol) %>% arrange(desc(n)) %>% as.data.frame()\n",
    "RI.res$GeneSymbol <- factor(RI.res$GeneSymbol, levels = RI.res$GeneSymbol)\n",
    "message(\"Significant spliced genes for RI\\n\",\n",
    "        paste(length(RI.res$GeneSymbol)), collapse=\" \")\n",
    "head(RI.res)\n",
    "\n",
    "SE.res <- SE.gene_as %>% group_by(GeneSymbol) %>% count(GeneSymbol) %>% arrange(desc(n)) %>% as.data.frame()\n",
    "SE.res$GeneSymbol <- factor(SE.res$GeneSymbol, levels = SE.res$GeneSymbol)\n",
    "message(\"Significant spliced genes for SE\\n\",\n",
    "        paste(length(SE.res$GeneSymbol)), collapse=\" \")\n",
    "head(SE.res)"
   ]
  },
  {
   "cell_type": "markdown",
   "metadata": {},
   "source": [
    "### 3.9 Count most frequent spliced genes"
   ]
  },
  {
   "cell_type": "code",
   "execution_count": 47,
   "metadata": {},
   "outputs": [
    {
     "data": {
      "text/html": [
       "1677"
      ],
      "text/latex": [
       "1677"
      ],
      "text/markdown": [
       "1677"
      ],
      "text/plain": [
       "[1] 1677"
      ]
     },
     "metadata": {},
     "output_type": "display_data"
    },
    {
     "data": {
      "text/html": [
       "<table>\n",
       "<caption>A data.frame: 6 × 3</caption>\n",
       "<thead>\n",
       "\t<tr><th></th><th scope=col>GeneSymbol</th><th scope=col>n</th><th scope=col>Tissues</th></tr>\n",
       "\t<tr><th></th><th scope=col>&lt;fct&gt;</th><th scope=col>&lt;int&gt;</th><th scope=col>&lt;int&gt;</th></tr>\n",
       "</thead>\n",
       "<tbody>\n",
       "\t<tr><th scope=row>1</th><td>DDX3X </td><td>85</td><td>19</td></tr>\n",
       "\t<tr><th scope=row>2</th><td>KDM5C </td><td>40</td><td>29</td></tr>\n",
       "\t<tr><th scope=row>3</th><td>ZFX   </td><td>21</td><td>13</td></tr>\n",
       "\t<tr><th scope=row>4</th><td>SORBS2</td><td>18</td><td> 2</td></tr>\n",
       "\t<tr><th scope=row>5</th><td>CD44  </td><td>16</td><td> 1</td></tr>\n",
       "\t<tr><th scope=row>6</th><td>CACNB4</td><td>12</td><td> 1</td></tr>\n",
       "</tbody>\n",
       "</table>\n"
      ],
      "text/latex": [
       "A data.frame: 6 × 3\n",
       "\\begin{tabular}{r|lll}\n",
       "  & GeneSymbol & n & Tissues\\\\\n",
       "  & <fct> & <int> & <int>\\\\\n",
       "\\hline\n",
       "\t1 & DDX3X  & 85 & 19\\\\\n",
       "\t2 & KDM5C  & 40 & 29\\\\\n",
       "\t3 & ZFX    & 21 & 13\\\\\n",
       "\t4 & SORBS2 & 18 &  2\\\\\n",
       "\t5 & CD44   & 16 &  1\\\\\n",
       "\t6 & CACNB4 & 12 &  1\\\\\n",
       "\\end{tabular}\n"
      ],
      "text/markdown": [
       "\n",
       "A data.frame: 6 × 3\n",
       "\n",
       "| <!--/--> | GeneSymbol &lt;fct&gt; | n &lt;int&gt; | Tissues &lt;int&gt; |\n",
       "|---|---|---|---|\n",
       "| 1 | DDX3X  | 85 | 19 |\n",
       "| 2 | KDM5C  | 40 | 29 |\n",
       "| 3 | ZFX    | 21 | 13 |\n",
       "| 4 | SORBS2 | 18 |  2 |\n",
       "| 5 | CD44   | 16 |  1 |\n",
       "| 6 | CACNB4 | 12 |  1 |\n",
       "\n"
      ],
      "text/plain": [
       "  GeneSymbol n  Tissues\n",
       "1 DDX3X      85 19     \n",
       "2 KDM5C      40 29     \n",
       "3 ZFX        21 13     \n",
       "4 SORBS2     18  2     \n",
       "5 CD44       16  1     \n",
       "6 CACNB4     12  1     "
      ]
     },
     "metadata": {},
     "output_type": "display_data"
    }
   ],
   "source": [
    "res <- gene_as %>% group_by(GeneSymbol) %>% count(GeneSymbol) %>% arrange(desc(n)) %>% as.data.frame()\n",
    "res$GeneSymbol <- factor(res$GeneSymbol, levels = res$GeneSymbol)\n",
    "length(res$GeneSymbol)\n",
    "res2 <- data %>% group_by(Tissue) %>% \n",
    "    summarise(Total = sum(Counts)) %>%\n",
    "    arrange(desc(Total)) %>%\n",
    "    as.data.frame()\n",
    "\n",
    "#Add number of tissues\n",
    "nTissues <- rep(NA, length(res))\n",
    "for (i in 1:nrow(res)) {\n",
    "  df_gene <- gene_as %>% filter(GeneSymbol == res$GeneSymbol[i])\n",
    "  nTissues[i] <- length(unique(df_gene$Tissue))\n",
    "}\n",
    "res$Tissues <- nTissues\n",
    "head(res)\n",
    "write.table(res, file = \"../data/genesWithCommonAS.tsv\", sep = \"\\t\", quote = F, row.names = F)"
   ]
  },
  {
   "cell_type": "markdown",
   "metadata": {},
   "source": [
    "### 3.10 Count most frequent spliced chromosomes\n",
    "To get an indication of which chromosome has the most frequent slicing event (regardless of type)\n",
    "We create an index based upon the number of exons per chromosome.\n",
    "\n",
    "get the annotation file, at this writing, gencode.v30.annotation.gtf\n",
    "The information as to the number of exons within the chromosome may be found there"
   ]
  },
  {
   "cell_type": "code",
   "execution_count": 48,
   "metadata": {},
   "outputs": [
    {
     "name": "stderr",
     "output_type": "stream",
     "text": [
      "downloading gencode v30 annotation\n",
      "\n",
      "\n",
      "Done!\n",
      "\n",
      "\n",
      "Unzipping compressed file gencode.v30.annotation.gtf.gz..\n",
      "\n",
      "Done! gencode.v30.annotation.gtf can be found in ../data/\n",
      "\n"
     ]
    }
   ],
   "source": [
    "if (!(\"gencode.v30.annotation.gtf.gz\" %in% list.files(\"../data/\"))) {\n",
    "    message(\"downloading gencode v30 annotation\\n\")\n",
    "    system(\"wget -O ../data/gencode.v30.annotation.gtf.gz ftp://ftp.ebi.ac.uk/pub/databases/gencode/Gencode_human/release_30/gencode.v30.annotation.gtf.gz\")\n",
    "    message(\"Done!\\n\")\n",
    "    message(\"Unzipping compressed file gencode.v30.annotation.gtf.gz..\")\n",
    "    system(\"gunzip ../data/gencode.v30.annotation.gtf.gz\", intern = TRUE)\n",
    "    message(\"Done! gencode.v30.annotation.gtf can be found in ../data/\")\n",
    "}\n",
    "gencode <- import(\"../data/gencode.v30.annotation.gtf\")"
   ]
  },
  {
   "cell_type": "code",
   "execution_count": 49,
   "metadata": {},
   "outputs": [
    {
     "name": "stdout",
     "output_type": "stream",
     "text": [
      "Observations: 23\n",
      "Variables: 4\n",
      "$ chr        \u001b[3m\u001b[90m<fct>\u001b[39m\u001b[23m chrX, chr22, chr4, chr15, chr11, chr16, chr12, chr10, chr1…\n",
      "$ n          \u001b[3m\u001b[90m<int>\u001b[39m\u001b[23m 254, 98, 133, 115, 184, 148, 175, 106, 167, 101, 49, 165, …\n",
      "$ ExonCounts \u001b[3m\u001b[90m<dbl>\u001b[39m\u001b[23m 40029, 28655, 50420, 47343, 75976, 61199, 73881, 47124, 74…\n",
      "$ Index      \u001b[3m\u001b[90m<dbl>\u001b[39m\u001b[23m 6.345400, 3.419997, 2.637842, 2.429081, 2.421817, 2.418340…\n"
     ]
    }
   ],
   "source": [
    "exons <- gencode[ gencode$type == \"exon\", ]\n",
    "exons <- as.data.frame(exons)\n",
    "\n",
    "#Obtain chromosomes we have splicing information for (recall we did not use chr Y in our analysis)\n",
    "all_chr <- as.character(unique(gene_as$chr))\n",
    "chr_counts <- rep(0, length(all_chr))\n",
    "\n",
    "\n",
    "for (i in 1:length(all_chr)) {\n",
    "  chr_counts[i] <- nrow(exons[exons$seqnames == all_chr[i], ])\n",
    "}\n",
    "\n",
    "exon_counts <- data.frame(chr = all_chr, counts = chr_counts)\n",
    "\n",
    "# Count most frequent spliced chromosomes\n",
    "res <- gene_as %>% group_by(chr) %>% count(chr) %>% arrange(desc(n)) %>% as.data.frame()\n",
    "res$chr <- factor(res$chr, levels = res$chr)\n",
    "\n",
    "idx <- match(res$chr, exon_counts$chr)\n",
    "\n",
    "res$ExonCounts <- exon_counts$counts[idx]\n",
    "\n",
    "res$Index <- (res$n / res$ExonCounts) * 1000\n",
    "\n",
    "res_sorted <- res %>% arrange(desc(Index))\n",
    "res_sorted$chr <- factor(res_sorted$chr, levels = res_sorted$chr)\n",
    "glimpse(res_sorted)"
   ]
  },
  {
   "cell_type": "code",
   "execution_count": 50,
   "metadata": {},
   "outputs": [],
   "source": [
    "write.table(data,       file = \"../data/Significant_AS_events.tsv\", sep = \"\\t\", row.names = F, quote = F)\n",
    "write.table(res_sorted, file = \"../data/SplicingIndex_chr.tsv\", sep = \"\\t\", quote = F, row.names = F)"
   ]
  },
  {
   "cell_type": "markdown",
   "metadata": {},
   "source": [
    "# Count gene expression analysis results\n",
    "The files called (tissue)\\_DGE\\_refined.csv contain lists of genes found to have statistically significant differential expression.\n",
    "The mapping files contain the ENSG id to gene symbol maps."
   ]
  },
  {
   "cell_type": "code",
   "execution_count": 56,
   "metadata": {},
   "outputs": [
    {
     "name": "stderr",
     "output_type": "stream",
     "text": [
      "We got 39 files with significant DGEs and 39 mapping files\n",
      "\n"
     ]
    }
   ],
   "source": [
    "significant_results_dir = \"../data/\"\n",
    "pattern = \"_DGE_refined.csv\"\n",
    "files <- list.files(path = significant_results_dir, pattern = pattern)\n",
    "map_pattern <- \"_DGE_ensg_map.csv\"\n",
    "map_files <- list.files(path = significant_results_dir, pattern = map_pattern)\n",
    "message(\"We got \", length(files), \" files with significant DGEs and \", length(map_files), \" mapping files\")"
   ]
  },
  {
   "cell_type": "code",
   "execution_count": 58,
   "metadata": {},
   "outputs": [
    {
     "ename": "ERROR",
     "evalue": "Error in library(hash): there is no package called ‘hash’\n",
     "output_type": "error",
     "traceback": [
      "Error in library(hash): there is no package called ‘hash’\nTraceback:\n",
      "1. library(hash)"
     ]
    }
   ],
   "source": [
    "gene_dge = data.frame()\n",
    "Tissue <- rep(\"NA\", length(files))\n",
    "Display <- rep(\"NA\", length(files))\n",
    "logFC <- rep(NA, length(files))\n",
    "AveExpr <- rep(\"NA\", length(files))\n",
    "t <- rep(\"NA\", length(files))\n",
    "PValue <- rep(\"NA\", length(files))\n",
    "AdjPVal <- rep(\"NA\", length(files))\n",
    "GeneID <- rep(\"NA\", length(files))\n",
    "chr <- rep(\"NA\", length(files))\n",
    "\n",
    "for (i in 1:length(files)) {\n",
    "    lines <- read.csv(paste0(significant_results_dir, files[i]),header = TRUE)\n",
    "    ensid     <- as.vector(as.character(rownames(lines)))\n",
    "    tissue1 <- gsub(\"_DGE_refined.csv\",\"\", files[i], fixed = TRUE)\n",
    "    tissue2 <- substring(tissue1,6)  # remove the first 5 letters of the string \n",
    "    Tissue[i] <- tissue2\n",
    "    Display[i] <- tissue_reduction[tissue_reduction$SMTSD == tissue2, \"display_name\"]\n",
    "    counts[i] <- dim(lines)[1]    \n",
    "            \n",
    "}\n"
   ]
  },
  {
   "cell_type": "markdown",
   "metadata": {},
   "source": [
    "### Appendix - Metadata\n",
    "\n",
    "For replicability and reproducibility purposes, we also print the following metadata:\n",
    "\n",
    "1. Checksums of **'artefacts'**, files generated during the analysis and stored in the folder directory **`data`**\n",
    "2. List of environment metadata, dependencies, versions of libraries using `utils::sessionInfo()` and [`devtools::session_info()`](https://devtools.r-lib.org/reference/session_info.html)"
   ]
  },
  {
   "cell_type": "markdown",
   "metadata": {},
   "source": [
    "### Appendix 1. Checksums with the sha256 algorithm"
   ]
  },
  {
   "cell_type": "code",
   "execution_count": 25,
   "metadata": {},
   "outputs": [
    {
     "name": "stderr",
     "output_type": "stream",
     "text": [
      "Warning message in rm(notebookid):\n",
      "“object 'notebookid' not found”\n"
     ]
    },
    {
     "data": {
      "text/html": [
       "'countGenesAndEvents'"
      ],
      "text/latex": [
       "'countGenesAndEvents'"
      ],
      "text/markdown": [
       "'countGenesAndEvents'"
      ],
      "text/plain": [
       "[1] \"countGenesAndEvents\""
      ]
     },
     "metadata": {},
     "output_type": "display_data"
    },
    {
     "name": "stderr",
     "output_type": "stream",
     "text": [
      "Generating sha256 checksums of the file `../data/Total_AS_by_tissue.tsv` directory .. \n",
      "\n"
     ]
    },
    {
     "data": {
      "text/html": [],
      "text/latex": [],
      "text/markdown": [],
      "text/plain": [
       "character(0)"
      ]
     },
     "metadata": {},
     "output_type": "display_data"
    },
    {
     "name": "stderr",
     "output_type": "stream",
     "text": [
      "Done!\n",
      "\n",
      "\n",
      "Generating sha256 checksums of the file `../data/Significant_events.tsv` directory .. \n",
      "\n"
     ]
    },
    {
     "data": {
      "text/html": [],
      "text/latex": [],
      "text/markdown": [],
      "text/plain": [
       "character(0)"
      ]
     },
     "metadata": {},
     "output_type": "display_data"
    },
    {
     "name": "stderr",
     "output_type": "stream",
     "text": [
      "Done!\n",
      "\n",
      "\n",
      "Generating sha256 checksums of the file `../data/Significant_events.tsv` directory .. \n",
      "\n"
     ]
    },
    {
     "data": {
      "text/html": [],
      "text/latex": [],
      "text/markdown": [],
      "text/plain": [
       "character(0)"
      ]
     },
     "metadata": {},
     "output_type": "display_data"
    },
    {
     "name": "stderr",
     "output_type": "stream",
     "text": [
      "Done!\n",
      "\n",
      "\n"
     ]
    },
    {
     "data": {
      "text/html": [
       "'../metadata/countGenesAndEvents_sha256sums.txt'"
      ],
      "text/latex": [
       "'../metadata/countGenesAndEvents\\_sha256sums.txt'"
      ],
      "text/markdown": [
       "'../metadata/countGenesAndEvents_sha256sums.txt'"
      ],
      "text/plain": [
       "[1] \"../metadata/countGenesAndEvents_sha256sums.txt\""
      ]
     },
     "metadata": {},
     "output_type": "display_data"
    },
    {
     "data": {
      "text/html": [
       "<table>\n",
       "<caption>A data.table: 1 × 2</caption>\n",
       "<thead>\n",
       "\t<tr><th scope=col>sha256sum</th><th scope=col>file</th></tr>\n",
       "\t<tr><th scope=col>&lt;chr&gt;</th><th scope=col>&lt;chr&gt;</th></tr>\n",
       "</thead>\n",
       "<tbody>\n",
       "\t<tr><td>3d4cd316ca1e042d5fb5d6bea4bb73e69d2c024956caa09119c0d80dde5d8f65</td><td>./SplicingIndex_chr.tsv</td></tr>\n",
       "</tbody>\n",
       "</table>\n"
      ],
      "text/latex": [
       "A data.table: 1 × 2\n",
       "\\begin{tabular}{ll}\n",
       " sha256sum & file\\\\\n",
       " <chr> & <chr>\\\\\n",
       "\\hline\n",
       "\t 3d4cd316ca1e042d5fb5d6bea4bb73e69d2c024956caa09119c0d80dde5d8f65 & ./SplicingIndex\\_chr.tsv\\\\\n",
       "\\end{tabular}\n"
      ],
      "text/markdown": [
       "\n",
       "A data.table: 1 × 2\n",
       "\n",
       "| sha256sum &lt;chr&gt; | file &lt;chr&gt; |\n",
       "|---|---|\n",
       "| 3d4cd316ca1e042d5fb5d6bea4bb73e69d2c024956caa09119c0d80dde5d8f65 | ./SplicingIndex_chr.tsv |\n",
       "\n"
      ],
      "text/plain": [
       "  sha256sum                                                       \n",
       "1 3d4cd316ca1e042d5fb5d6bea4bb73e69d2c024956caa09119c0d80dde5d8f65\n",
       "  file                   \n",
       "1 ./SplicingIndex_chr.tsv"
      ]
     },
     "metadata": {},
     "output_type": "display_data"
    }
   ],
   "source": [
    "rm (notebookid)\n",
    "notebookid   = \"countGenesAndEvents\"\n",
    "notebookid\n",
    "\n",
    "message(\"Generating sha256 checksums of the file `../data/Total_AS_by_tissue.tsv` directory .. \")\n",
    "system(paste0(\"cd ../data && find . -name SplicingIndex_chr.tsv -exec sha256sum {} \\\\;  >  ../metadata/\", notebookid, \"_sha256sums.txt\"), intern = TRUE)\n",
    "message(\"Done!\\n\")\n",
    "\n",
    "message(\"Generating sha256 checksums of the file `../data/Significant_events.tsv` directory .. \")\n",
    "system(paste0(\"cd ../data && find . -name SplicingIndex_chr.tsv -exec sha256sum {} \\\\;  >  ../metadata/\", notebookid, \"_sha256sums.txt\"), intern = TRUE)\n",
    "message(\"Done!\\n\")\n",
    "\n",
    "message(\"Generating sha256 checksums of the file `../data/Significant_events.tsv` directory .. \")\n",
    "system(paste0(\"cd ../data && find . -name SplicingIndex_chr.tsv -exec sha256sum {} \\\\;  >  ../metadata/\", notebookid, \"_sha256sums.txt\"), intern = TRUE)\n",
    "message(\"Done!\\n\")\n",
    "\n",
    "\n",
    "paste0(\"../metadata/\", notebookid, \"_sha256sums.txt\")\n",
    "\n",
    "data.table::fread(paste0(\"../metadata/\", notebookid, \"_sha256sums.txt\"), header = FALSE, col.names = c(\"sha256sum\", \"file\"))"
   ]
  },
  {
   "cell_type": "markdown",
   "metadata": {},
   "source": [
    "### Appendix 2. Libraries metadata"
   ]
  },
  {
   "cell_type": "code",
   "execution_count": 26,
   "metadata": {},
   "outputs": [
    {
     "name": "stderr",
     "output_type": "stream",
     "text": [
      "Saving `devtools::session_info()` objects in ../metadata/devtools_session_info.rds  ..\n",
      "\n",
      "Done!\n",
      "\n",
      "\n",
      "Saving `utils::sessionInfo()` objects in ../metadata/utils_session_info.rds  ..\n",
      "\n",
      "Done!\n",
      "\n",
      "\n"
     ]
    },
    {
     "data": {
      "text/plain": [
       " setting  value                       \n",
       " version  R version 3.6.2 (2019-12-12)\n",
       " os       Ubuntu 18.04.3 LTS          \n",
       " system   x86_64, linux-gnu           \n",
       " ui       X11                         \n",
       " language en_US.UTF-8                 \n",
       " collate  en_US.UTF-8                 \n",
       " ctype    en_US.UTF-8                 \n",
       " tz       Etc/UTC                     \n",
       " date     2020-06-16                  "
      ]
     },
     "metadata": {},
     "output_type": "display_data"
    },
    {
     "data": {
      "text/html": [
       "<table>\n",
       "<caption>A packages_info: 16 × 11</caption>\n",
       "<thead>\n",
       "\t<tr><th></th><th scope=col>package</th><th scope=col>ondiskversion</th><th scope=col>loadedversion</th><th scope=col>path</th><th scope=col>loadedpath</th><th scope=col>attached</th><th scope=col>is_base</th><th scope=col>date</th><th scope=col>source</th><th scope=col>md5ok</th><th scope=col>library</th></tr>\n",
       "\t<tr><th></th><th scope=col>&lt;chr&gt;</th><th scope=col>&lt;chr&gt;</th><th scope=col>&lt;chr&gt;</th><th scope=col>&lt;chr&gt;</th><th scope=col>&lt;chr&gt;</th><th scope=col>&lt;lgl&gt;</th><th scope=col>&lt;lgl&gt;</th><th scope=col>&lt;chr&gt;</th><th scope=col>&lt;chr&gt;</th><th scope=col>&lt;lgl&gt;</th><th scope=col>&lt;fct&gt;</th></tr>\n",
       "</thead>\n",
       "<tbody>\n",
       "\t<tr><th scope=row>Biobase</th><td>Biobase      </td><td>2.46.0</td><td>2.46.0</td><td>/opt/conda/lib/R/library/Biobase      </td><td>/opt/conda/lib/R/library/Biobase      </td><td>TRUE</td><td>FALSE</td><td>2019-10-29</td><td>Bioconductor  </td><td>NA</td><td>/opt/conda/lib/R/library</td></tr>\n",
       "\t<tr><th scope=row>BiocGenerics</th><td>BiocGenerics </td><td>0.32.0</td><td>0.32.0</td><td>/opt/conda/lib/R/library/BiocGenerics </td><td>/opt/conda/lib/R/library/BiocGenerics </td><td>TRUE</td><td>FALSE</td><td>2019-10-29</td><td>Bioconductor  </td><td>NA</td><td>/opt/conda/lib/R/library</td></tr>\n",
       "\t<tr><th scope=row>dplyr</th><td>dplyr        </td><td>0.8.4 </td><td>0.8.4 </td><td>/opt/conda/lib/R/library/dplyr        </td><td>/opt/conda/lib/R/library/dplyr        </td><td>TRUE</td><td>FALSE</td><td>2020-01-31</td><td>CRAN (R 3.6.2)</td><td>NA</td><td>/opt/conda/lib/R/library</td></tr>\n",
       "\t<tr><th scope=row>edgeR</th><td>edgeR        </td><td>3.28.0</td><td>3.28.0</td><td>/opt/conda/lib/R/library/edgeR        </td><td>/opt/conda/lib/R/library/edgeR        </td><td>TRUE</td><td>FALSE</td><td>2019-10-29</td><td>Bioconductor  </td><td>NA</td><td>/opt/conda/lib/R/library</td></tr>\n",
       "\t<tr><th scope=row>GenomeInfoDb</th><td>GenomeInfoDb </td><td>1.22.0</td><td>1.22.0</td><td>/opt/conda/lib/R/library/GenomeInfoDb </td><td>/opt/conda/lib/R/library/GenomeInfoDb </td><td>TRUE</td><td>FALSE</td><td>2019-10-29</td><td>Bioconductor  </td><td>NA</td><td>/opt/conda/lib/R/library</td></tr>\n",
       "\t<tr><th scope=row>GenomicRanges</th><td>GenomicRanges</td><td>1.38.0</td><td>1.38.0</td><td>/opt/conda/lib/R/library/GenomicRanges</td><td>/opt/conda/lib/R/library/GenomicRanges</td><td>TRUE</td><td>FALSE</td><td>2019-10-29</td><td>Bioconductor  </td><td>NA</td><td>/opt/conda/lib/R/library</td></tr>\n",
       "\t<tr><th scope=row>ggplot2</th><td>ggplot2      </td><td>3.2.1 </td><td>3.2.1 </td><td>/opt/conda/lib/R/library/ggplot2      </td><td>/opt/conda/lib/R/library/ggplot2      </td><td>TRUE</td><td>FALSE</td><td>2019-08-10</td><td>CRAN (R 3.6.1)</td><td>NA</td><td>/opt/conda/lib/R/library</td></tr>\n",
       "\t<tr><th scope=row>IRanges</th><td>IRanges      </td><td>2.20.0</td><td>2.20.0</td><td>/opt/conda/lib/R/library/IRanges      </td><td>/opt/conda/lib/R/library/IRanges      </td><td>TRUE</td><td>FALSE</td><td>2019-10-29</td><td>Bioconductor  </td><td>NA</td><td>/opt/conda/lib/R/library</td></tr>\n",
       "\t<tr><th scope=row>limma</th><td>limma        </td><td>3.42.0</td><td>3.42.0</td><td>/opt/conda/lib/R/library/limma        </td><td>/opt/conda/lib/R/library/limma        </td><td>TRUE</td><td>FALSE</td><td>2019-10-29</td><td>Bioconductor  </td><td>NA</td><td>/opt/conda/lib/R/library</td></tr>\n",
       "\t<tr><th scope=row>multtest</th><td>multtest     </td><td>2.42.0</td><td>2.42.0</td><td>/opt/conda/lib/R/library/multtest     </td><td>/opt/conda/lib/R/library/multtest     </td><td>TRUE</td><td>FALSE</td><td>2019-10-29</td><td>Bioconductor  </td><td>NA</td><td>/opt/conda/lib/R/library</td></tr>\n",
       "\t<tr><th scope=row>R.methodsS3</th><td>R.methodsS3  </td><td>1.8.0 </td><td>1.8.0 </td><td>/opt/conda/lib/R/library/R.methodsS3  </td><td>/opt/conda/lib/R/library/R.methodsS3  </td><td>TRUE</td><td>FALSE</td><td>2020-02-14</td><td>CRAN (R 3.6.3)</td><td>NA</td><td>/opt/conda/lib/R/library</td></tr>\n",
       "\t<tr><th scope=row>R.oo</th><td>R.oo         </td><td>1.23.0</td><td>1.23.0</td><td>/opt/conda/lib/R/library/R.oo         </td><td>/opt/conda/lib/R/library/R.oo         </td><td>TRUE</td><td>FALSE</td><td>2019-11-03</td><td>CRAN (R 3.6.3)</td><td>NA</td><td>/opt/conda/lib/R/library</td></tr>\n",
       "\t<tr><th scope=row>R.utils</th><td>R.utils      </td><td>2.9.2 </td><td>2.9.2 </td><td>/opt/conda/lib/R/library/R.utils      </td><td>/opt/conda/lib/R/library/R.utils      </td><td>TRUE</td><td>FALSE</td><td>2019-12-08</td><td>CRAN (R 3.6.3)</td><td>NA</td><td>/opt/conda/lib/R/library</td></tr>\n",
       "\t<tr><th scope=row>rtracklayer</th><td>rtracklayer  </td><td>1.46.0</td><td>1.46.0</td><td>/opt/conda/lib/R/library/rtracklayer  </td><td>/opt/conda/lib/R/library/rtracklayer  </td><td>TRUE</td><td>FALSE</td><td>2019-10-29</td><td>Bioconductor  </td><td>NA</td><td>/opt/conda/lib/R/library</td></tr>\n",
       "\t<tr><th scope=row>S4Vectors</th><td>S4Vectors    </td><td>0.24.0</td><td>0.24.0</td><td>/opt/conda/lib/R/library/S4Vectors    </td><td>/opt/conda/lib/R/library/S4Vectors    </td><td>TRUE</td><td>FALSE</td><td>2019-10-29</td><td>Bioconductor  </td><td>NA</td><td>/opt/conda/lib/R/library</td></tr>\n",
       "\t<tr><th scope=row>tibble</th><td>tibble       </td><td>2.1.3 </td><td>2.1.3 </td><td>/opt/conda/lib/R/library/tibble       </td><td>/opt/conda/lib/R/library/tibble       </td><td>TRUE</td><td>FALSE</td><td>2019-06-06</td><td>CRAN (R 3.6.1)</td><td>NA</td><td>/opt/conda/lib/R/library</td></tr>\n",
       "</tbody>\n",
       "</table>\n"
      ],
      "text/latex": [
       "A packages\\_info: 16 × 11\n",
       "\\begin{tabular}{r|lllllllllll}\n",
       "  & package & ondiskversion & loadedversion & path & loadedpath & attached & is\\_base & date & source & md5ok & library\\\\\n",
       "  & <chr> & <chr> & <chr> & <chr> & <chr> & <lgl> & <lgl> & <chr> & <chr> & <lgl> & <fct>\\\\\n",
       "\\hline\n",
       "\tBiobase & Biobase       & 2.46.0 & 2.46.0 & /opt/conda/lib/R/library/Biobase       & /opt/conda/lib/R/library/Biobase       & TRUE & FALSE & 2019-10-29 & Bioconductor   & NA & /opt/conda/lib/R/library\\\\\n",
       "\tBiocGenerics & BiocGenerics  & 0.32.0 & 0.32.0 & /opt/conda/lib/R/library/BiocGenerics  & /opt/conda/lib/R/library/BiocGenerics  & TRUE & FALSE & 2019-10-29 & Bioconductor   & NA & /opt/conda/lib/R/library\\\\\n",
       "\tdplyr & dplyr         & 0.8.4  & 0.8.4  & /opt/conda/lib/R/library/dplyr         & /opt/conda/lib/R/library/dplyr         & TRUE & FALSE & 2020-01-31 & CRAN (R 3.6.2) & NA & /opt/conda/lib/R/library\\\\\n",
       "\tedgeR & edgeR         & 3.28.0 & 3.28.0 & /opt/conda/lib/R/library/edgeR         & /opt/conda/lib/R/library/edgeR         & TRUE & FALSE & 2019-10-29 & Bioconductor   & NA & /opt/conda/lib/R/library\\\\\n",
       "\tGenomeInfoDb & GenomeInfoDb  & 1.22.0 & 1.22.0 & /opt/conda/lib/R/library/GenomeInfoDb  & /opt/conda/lib/R/library/GenomeInfoDb  & TRUE & FALSE & 2019-10-29 & Bioconductor   & NA & /opt/conda/lib/R/library\\\\\n",
       "\tGenomicRanges & GenomicRanges & 1.38.0 & 1.38.0 & /opt/conda/lib/R/library/GenomicRanges & /opt/conda/lib/R/library/GenomicRanges & TRUE & FALSE & 2019-10-29 & Bioconductor   & NA & /opt/conda/lib/R/library\\\\\n",
       "\tggplot2 & ggplot2       & 3.2.1  & 3.2.1  & /opt/conda/lib/R/library/ggplot2       & /opt/conda/lib/R/library/ggplot2       & TRUE & FALSE & 2019-08-10 & CRAN (R 3.6.1) & NA & /opt/conda/lib/R/library\\\\\n",
       "\tIRanges & IRanges       & 2.20.0 & 2.20.0 & /opt/conda/lib/R/library/IRanges       & /opt/conda/lib/R/library/IRanges       & TRUE & FALSE & 2019-10-29 & Bioconductor   & NA & /opt/conda/lib/R/library\\\\\n",
       "\tlimma & limma         & 3.42.0 & 3.42.0 & /opt/conda/lib/R/library/limma         & /opt/conda/lib/R/library/limma         & TRUE & FALSE & 2019-10-29 & Bioconductor   & NA & /opt/conda/lib/R/library\\\\\n",
       "\tmulttest & multtest      & 2.42.0 & 2.42.0 & /opt/conda/lib/R/library/multtest      & /opt/conda/lib/R/library/multtest      & TRUE & FALSE & 2019-10-29 & Bioconductor   & NA & /opt/conda/lib/R/library\\\\\n",
       "\tR.methodsS3 & R.methodsS3   & 1.8.0  & 1.8.0  & /opt/conda/lib/R/library/R.methodsS3   & /opt/conda/lib/R/library/R.methodsS3   & TRUE & FALSE & 2020-02-14 & CRAN (R 3.6.3) & NA & /opt/conda/lib/R/library\\\\\n",
       "\tR.oo & R.oo          & 1.23.0 & 1.23.0 & /opt/conda/lib/R/library/R.oo          & /opt/conda/lib/R/library/R.oo          & TRUE & FALSE & 2019-11-03 & CRAN (R 3.6.3) & NA & /opt/conda/lib/R/library\\\\\n",
       "\tR.utils & R.utils       & 2.9.2  & 2.9.2  & /opt/conda/lib/R/library/R.utils       & /opt/conda/lib/R/library/R.utils       & TRUE & FALSE & 2019-12-08 & CRAN (R 3.6.3) & NA & /opt/conda/lib/R/library\\\\\n",
       "\trtracklayer & rtracklayer   & 1.46.0 & 1.46.0 & /opt/conda/lib/R/library/rtracklayer   & /opt/conda/lib/R/library/rtracklayer   & TRUE & FALSE & 2019-10-29 & Bioconductor   & NA & /opt/conda/lib/R/library\\\\\n",
       "\tS4Vectors & S4Vectors     & 0.24.0 & 0.24.0 & /opt/conda/lib/R/library/S4Vectors     & /opt/conda/lib/R/library/S4Vectors     & TRUE & FALSE & 2019-10-29 & Bioconductor   & NA & /opt/conda/lib/R/library\\\\\n",
       "\ttibble & tibble        & 2.1.3  & 2.1.3  & /opt/conda/lib/R/library/tibble        & /opt/conda/lib/R/library/tibble        & TRUE & FALSE & 2019-06-06 & CRAN (R 3.6.1) & NA & /opt/conda/lib/R/library\\\\\n",
       "\\end{tabular}\n"
      ],
      "text/markdown": [
       "\n",
       "A packages_info: 16 × 11\n",
       "\n",
       "| <!--/--> | package &lt;chr&gt; | ondiskversion &lt;chr&gt; | loadedversion &lt;chr&gt; | path &lt;chr&gt; | loadedpath &lt;chr&gt; | attached &lt;lgl&gt; | is_base &lt;lgl&gt; | date &lt;chr&gt; | source &lt;chr&gt; | md5ok &lt;lgl&gt; | library &lt;fct&gt; |\n",
       "|---|---|---|---|---|---|---|---|---|---|---|---|\n",
       "| Biobase | Biobase       | 2.46.0 | 2.46.0 | /opt/conda/lib/R/library/Biobase       | /opt/conda/lib/R/library/Biobase       | TRUE | FALSE | 2019-10-29 | Bioconductor   | NA | /opt/conda/lib/R/library |\n",
       "| BiocGenerics | BiocGenerics  | 0.32.0 | 0.32.0 | /opt/conda/lib/R/library/BiocGenerics  | /opt/conda/lib/R/library/BiocGenerics  | TRUE | FALSE | 2019-10-29 | Bioconductor   | NA | /opt/conda/lib/R/library |\n",
       "| dplyr | dplyr         | 0.8.4  | 0.8.4  | /opt/conda/lib/R/library/dplyr         | /opt/conda/lib/R/library/dplyr         | TRUE | FALSE | 2020-01-31 | CRAN (R 3.6.2) | NA | /opt/conda/lib/R/library |\n",
       "| edgeR | edgeR         | 3.28.0 | 3.28.0 | /opt/conda/lib/R/library/edgeR         | /opt/conda/lib/R/library/edgeR         | TRUE | FALSE | 2019-10-29 | Bioconductor   | NA | /opt/conda/lib/R/library |\n",
       "| GenomeInfoDb | GenomeInfoDb  | 1.22.0 | 1.22.0 | /opt/conda/lib/R/library/GenomeInfoDb  | /opt/conda/lib/R/library/GenomeInfoDb  | TRUE | FALSE | 2019-10-29 | Bioconductor   | NA | /opt/conda/lib/R/library |\n",
       "| GenomicRanges | GenomicRanges | 1.38.0 | 1.38.0 | /opt/conda/lib/R/library/GenomicRanges | /opt/conda/lib/R/library/GenomicRanges | TRUE | FALSE | 2019-10-29 | Bioconductor   | NA | /opt/conda/lib/R/library |\n",
       "| ggplot2 | ggplot2       | 3.2.1  | 3.2.1  | /opt/conda/lib/R/library/ggplot2       | /opt/conda/lib/R/library/ggplot2       | TRUE | FALSE | 2019-08-10 | CRAN (R 3.6.1) | NA | /opt/conda/lib/R/library |\n",
       "| IRanges | IRanges       | 2.20.0 | 2.20.0 | /opt/conda/lib/R/library/IRanges       | /opt/conda/lib/R/library/IRanges       | TRUE | FALSE | 2019-10-29 | Bioconductor   | NA | /opt/conda/lib/R/library |\n",
       "| limma | limma         | 3.42.0 | 3.42.0 | /opt/conda/lib/R/library/limma         | /opt/conda/lib/R/library/limma         | TRUE | FALSE | 2019-10-29 | Bioconductor   | NA | /opt/conda/lib/R/library |\n",
       "| multtest | multtest      | 2.42.0 | 2.42.0 | /opt/conda/lib/R/library/multtest      | /opt/conda/lib/R/library/multtest      | TRUE | FALSE | 2019-10-29 | Bioconductor   | NA | /opt/conda/lib/R/library |\n",
       "| R.methodsS3 | R.methodsS3   | 1.8.0  | 1.8.0  | /opt/conda/lib/R/library/R.methodsS3   | /opt/conda/lib/R/library/R.methodsS3   | TRUE | FALSE | 2020-02-14 | CRAN (R 3.6.3) | NA | /opt/conda/lib/R/library |\n",
       "| R.oo | R.oo          | 1.23.0 | 1.23.0 | /opt/conda/lib/R/library/R.oo          | /opt/conda/lib/R/library/R.oo          | TRUE | FALSE | 2019-11-03 | CRAN (R 3.6.3) | NA | /opt/conda/lib/R/library |\n",
       "| R.utils | R.utils       | 2.9.2  | 2.9.2  | /opt/conda/lib/R/library/R.utils       | /opt/conda/lib/R/library/R.utils       | TRUE | FALSE | 2019-12-08 | CRAN (R 3.6.3) | NA | /opt/conda/lib/R/library |\n",
       "| rtracklayer | rtracklayer   | 1.46.0 | 1.46.0 | /opt/conda/lib/R/library/rtracklayer   | /opt/conda/lib/R/library/rtracklayer   | TRUE | FALSE | 2019-10-29 | Bioconductor   | NA | /opt/conda/lib/R/library |\n",
       "| S4Vectors | S4Vectors     | 0.24.0 | 0.24.0 | /opt/conda/lib/R/library/S4Vectors     | /opt/conda/lib/R/library/S4Vectors     | TRUE | FALSE | 2019-10-29 | Bioconductor   | NA | /opt/conda/lib/R/library |\n",
       "| tibble | tibble        | 2.1.3  | 2.1.3  | /opt/conda/lib/R/library/tibble        | /opt/conda/lib/R/library/tibble        | TRUE | FALSE | 2019-06-06 | CRAN (R 3.6.1) | NA | /opt/conda/lib/R/library |\n",
       "\n"
      ],
      "text/plain": [
       "              package       ondiskversion loadedversion\n",
       "Biobase       Biobase       2.46.0        2.46.0       \n",
       "BiocGenerics  BiocGenerics  0.32.0        0.32.0       \n",
       "dplyr         dplyr         0.8.4         0.8.4        \n",
       "edgeR         edgeR         3.28.0        3.28.0       \n",
       "GenomeInfoDb  GenomeInfoDb  1.22.0        1.22.0       \n",
       "GenomicRanges GenomicRanges 1.38.0        1.38.0       \n",
       "ggplot2       ggplot2       3.2.1         3.2.1        \n",
       "IRanges       IRanges       2.20.0        2.20.0       \n",
       "limma         limma         3.42.0        3.42.0       \n",
       "multtest      multtest      2.42.0        2.42.0       \n",
       "R.methodsS3   R.methodsS3   1.8.0         1.8.0        \n",
       "R.oo          R.oo          1.23.0        1.23.0       \n",
       "R.utils       R.utils       2.9.2         2.9.2        \n",
       "rtracklayer   rtracklayer   1.46.0        1.46.0       \n",
       "S4Vectors     S4Vectors     0.24.0        0.24.0       \n",
       "tibble        tibble        2.1.3         2.1.3        \n",
       "              path                                  \n",
       "Biobase       /opt/conda/lib/R/library/Biobase      \n",
       "BiocGenerics  /opt/conda/lib/R/library/BiocGenerics \n",
       "dplyr         /opt/conda/lib/R/library/dplyr        \n",
       "edgeR         /opt/conda/lib/R/library/edgeR        \n",
       "GenomeInfoDb  /opt/conda/lib/R/library/GenomeInfoDb \n",
       "GenomicRanges /opt/conda/lib/R/library/GenomicRanges\n",
       "ggplot2       /opt/conda/lib/R/library/ggplot2      \n",
       "IRanges       /opt/conda/lib/R/library/IRanges      \n",
       "limma         /opt/conda/lib/R/library/limma        \n",
       "multtest      /opt/conda/lib/R/library/multtest     \n",
       "R.methodsS3   /opt/conda/lib/R/library/R.methodsS3  \n",
       "R.oo          /opt/conda/lib/R/library/R.oo         \n",
       "R.utils       /opt/conda/lib/R/library/R.utils      \n",
       "rtracklayer   /opt/conda/lib/R/library/rtracklayer  \n",
       "S4Vectors     /opt/conda/lib/R/library/S4Vectors    \n",
       "tibble        /opt/conda/lib/R/library/tibble       \n",
       "              loadedpath                             attached is_base\n",
       "Biobase       /opt/conda/lib/R/library/Biobase       TRUE     FALSE  \n",
       "BiocGenerics  /opt/conda/lib/R/library/BiocGenerics  TRUE     FALSE  \n",
       "dplyr         /opt/conda/lib/R/library/dplyr         TRUE     FALSE  \n",
       "edgeR         /opt/conda/lib/R/library/edgeR         TRUE     FALSE  \n",
       "GenomeInfoDb  /opt/conda/lib/R/library/GenomeInfoDb  TRUE     FALSE  \n",
       "GenomicRanges /opt/conda/lib/R/library/GenomicRanges TRUE     FALSE  \n",
       "ggplot2       /opt/conda/lib/R/library/ggplot2       TRUE     FALSE  \n",
       "IRanges       /opt/conda/lib/R/library/IRanges       TRUE     FALSE  \n",
       "limma         /opt/conda/lib/R/library/limma         TRUE     FALSE  \n",
       "multtest      /opt/conda/lib/R/library/multtest      TRUE     FALSE  \n",
       "R.methodsS3   /opt/conda/lib/R/library/R.methodsS3   TRUE     FALSE  \n",
       "R.oo          /opt/conda/lib/R/library/R.oo          TRUE     FALSE  \n",
       "R.utils       /opt/conda/lib/R/library/R.utils       TRUE     FALSE  \n",
       "rtracklayer   /opt/conda/lib/R/library/rtracklayer   TRUE     FALSE  \n",
       "S4Vectors     /opt/conda/lib/R/library/S4Vectors     TRUE     FALSE  \n",
       "tibble        /opt/conda/lib/R/library/tibble        TRUE     FALSE  \n",
       "              date       source         md5ok library                 \n",
       "Biobase       2019-10-29 Bioconductor   NA    /opt/conda/lib/R/library\n",
       "BiocGenerics  2019-10-29 Bioconductor   NA    /opt/conda/lib/R/library\n",
       "dplyr         2020-01-31 CRAN (R 3.6.2) NA    /opt/conda/lib/R/library\n",
       "edgeR         2019-10-29 Bioconductor   NA    /opt/conda/lib/R/library\n",
       "GenomeInfoDb  2019-10-29 Bioconductor   NA    /opt/conda/lib/R/library\n",
       "GenomicRanges 2019-10-29 Bioconductor   NA    /opt/conda/lib/R/library\n",
       "ggplot2       2019-08-10 CRAN (R 3.6.1) NA    /opt/conda/lib/R/library\n",
       "IRanges       2019-10-29 Bioconductor   NA    /opt/conda/lib/R/library\n",
       "limma         2019-10-29 Bioconductor   NA    /opt/conda/lib/R/library\n",
       "multtest      2019-10-29 Bioconductor   NA    /opt/conda/lib/R/library\n",
       "R.methodsS3   2020-02-14 CRAN (R 3.6.3) NA    /opt/conda/lib/R/library\n",
       "R.oo          2019-11-03 CRAN (R 3.6.3) NA    /opt/conda/lib/R/library\n",
       "R.utils       2019-12-08 CRAN (R 3.6.3) NA    /opt/conda/lib/R/library\n",
       "rtracklayer   2019-10-29 Bioconductor   NA    /opt/conda/lib/R/library\n",
       "S4Vectors     2019-10-29 Bioconductor   NA    /opt/conda/lib/R/library\n",
       "tibble        2019-06-06 CRAN (R 3.6.1) NA    /opt/conda/lib/R/library"
      ]
     },
     "metadata": {},
     "output_type": "display_data"
    }
   ],
   "source": [
    "dev_session_info   <- devtools::session_info()\n",
    "utils_session_info <- utils::sessionInfo()\n",
    "\n",
    "message(\"Saving `devtools::session_info()` objects in ../metadata/devtools_session_info.rds  ..\")\n",
    "saveRDS(dev_session_info, file = paste0(\"../metadata/\", notebookid, \"_devtools_session_info.rds\"))\n",
    "message(\"Done!\\n\")\n",
    "\n",
    "message(\"Saving `utils::sessionInfo()` objects in ../metadata/utils_session_info.rds  ..\")\n",
    "saveRDS(utils_session_info, file = paste0(\"../metadata/\", notebookid ,\"_utils_info.rds\"))\n",
    "message(\"Done!\\n\")\n",
    "\n",
    "dev_session_info$platform\n",
    "dev_session_info$packages[dev_session_info$packages$attached==TRUE, ]"
   ]
  },
  {
   "cell_type": "code",
   "execution_count": null,
   "metadata": {},
   "outputs": [],
   "source": []
  }
 ],
 "metadata": {
  "jupytext": {
   "cell_metadata_filter": "-all",
   "main_language": "R",
   "notebook_metadata_filter": "-all"
  },
  "kernelspec": {
   "display_name": "R",
   "language": "R",
   "name": "ir"
  },
  "language_info": {
   "codemirror_mode": "r",
   "file_extension": ".r",
   "mimetype": "text/x-r-source",
   "name": "R",
   "pygments_lexer": "r",
   "version": "3.6.2"
  }
 },
 "nbformat": 4,
 "nbformat_minor": 4
}
