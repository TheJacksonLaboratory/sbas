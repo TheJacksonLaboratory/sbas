{
 "cells": [
  {
   "cell_type": "markdown",
   "metadata": {},
   "source": [
    "# Analysis Notebook - Count Genes and Events\n",
    "\n",
    "This notebook processes the raw counts as provided by rMATS and performs some descriptive statistical analysis. It is used to produce the following outputs. \n",
    "\n",
    "## Data files created by this notebook\n",
    "Output text files are written to the ``data/`` directory (at the same level as the ``jupyter`` directory). \n",
    "\n",
    "1. **gene_AS.tsv**: Alternative splicing events per gene\n",
    "2. **genesWithCommonAS.tsv\n",
    "3. **Total_AS_by_chr.tsv**: Total alternative splicing events per chromosome\n",
    "4. **Total_AS_by_geneSymbol.tsv**: Count the number of tissues in which specific genes show significant alternative splicing\n",
    "5. **Total_AS_by_tissue.tsv**: Count the number of significant splicing events per tissue\n",
    "6. **Total_AS_by_splicingtype.tsv**: Count number of significant splicing events for each of the 5' alternative splicing categories\n",
    "7. **Significant_AS_events.tsv**: ?? Counts of significant events per slicing type per tissue\n",
    "8. **SplicingIndex_chr.tsv**: Splicing index by chr (number of sigificant AS events per 1000 exons)"
   ]
  },
  {
   "cell_type": "code",
   "execution_count": null,
   "metadata": {},
   "outputs": [],
   "source": [
    "defaultW <- getOption(\"warn\")  # suppress warnings for this cell\n",
    "options(warn = -1) \n",
    "\n",
    "library(dplyr)\n",
    "library(ggplot2)\n",
    "library(limma)\n",
    "library(multtest)\n",
    "library(Biobase)\n",
    "library(edgeR)\n",
    "library(tibble)\n",
    "library(R.utils)\n",
    "library(rtracklayer)\n",
    "\n",
    "options(warn = defaultW)"
   ]
  },
  {
   "cell_type": "markdown",
   "metadata": {},
   "source": [
    "## 1. Download all the rMATS results\n",
    "\n",
    "Each of the alternative splicing output files are downloaded here:"
   ]
  },
  {
   "cell_type": "markdown",
   "metadata": {},
   "source": [
    "### 1.1 get released rMATS GTF annotations\n",
    "\n",
    "For each splicing type, the junctions are defined, so we have 5 specific annotated splicing specific junction ID annotation files:\n",
    "\n",
    "1. **fromGTF.A3SS.txt**: annotations for the alternative 3' splice site junctions\n",
    "2. **fromGTF.A5SS.txt**: annotations for the alternative 5' splice site junctions\n",
    "3. **fromGTF.MXE.txt**: annotations for the mutually exclusive exon junctions\n",
    "4. **fromGTF.RI.txt**: annotations for the retained introns junctions\n",
    "5. **fromGTF.SE.txt**: annotations for the skipped exon junctions"
   ]
  },
  {
   "cell_type": "markdown",
   "metadata": {},
   "source": [
    "## 1.2 Unpacked the data.tar file if necessaty"
   ]
  },
  {
   "cell_type": "code",
   "execution_count": null,
   "metadata": {},
   "outputs": [],
   "source": [
    "dge_splicing_file_dir <- list.files(\"../../mounted-data\", pattern='DGE_splicing_data.tar.gz')\n",
    "dge_splicing_file <- paste(\"../../mounted-data\", dge_splicing_file_dir, 'robinson-bucket/notebooks/DGE_splicing_data', sep='/')\n",
    "dge_splicing_file_tar_gz <- paste(dge_splicing_file, '.tar.gz', sep='')\n",
    "example_unpacked_file = '../data/ri_brain_cerebellum_DGE_sex.csv'\n",
    "if (! file.exists(example_unpacked_file)) {\n",
    "    mycommand = paste(\"tar xvfz \",dge_splicing_file_tar_gz, \"-C ../data\", sep=\" \")\n",
    "    message(mycommand)\n",
    "    system(mycommand, intern = TRUE)\n",
    "    message(\"Done unpacking \", dge_splicing_file_tar_gz)\n",
    "} else {\n",
    "    message(\"Cowardly refusing to unpack \", dge_splicing_file_tar_gz, \" since it was previously unapcked\")\n",
    "}\n",
    "\n",
    "\n"
   ]
  },
  {
   "cell_type": "code",
   "execution_count": null,
   "metadata": {},
   "outputs": [],
   "source": [
    "data_file_dir <- list.files(\"../../mounted-data\", pattern='-data.tar.gz')\n",
    "data_file_tar_gz <- paste(\"../../mounted-data\", data_file_dir, 'robinson-bucket/notebooks/data.tar.gz', sep='/')\n",
    "example_unpacked_file = '../data/SraRunTable.txt.gz'\n",
    "if (! file.exists(example_unpacked_file)) {\n",
    "    mycommand = paste(\"tar xvfz \",data_file_tar_gz, \"-C ../data\", sep=\" \")\n",
    "    message(mycommand)\n",
    "    system(mycommand, intern = TRUE)\n",
    "    message(\"Done unpacking \", data_file_tar_gz)\n",
    "} else {\n",
    "    message(\"Cowardly refusing to unpack \", data_file_tar_gz, \" since it was previously unapcked\")\n",
    "}\n"
   ]
  },
  {
   "cell_type": "code",
   "execution_count": null,
   "metadata": {},
   "outputs": [],
   "source": [
    "getReleasedGTFAnnotations <- function ( destDir ) {\n",
    "    message(\"Decompressing fromGTF.tar.gz into ../data\")\n",
    "    system(\"mkdir -p ../data && tar xvfz ../data/fromGTF.tar.gz -C ../data\", intern = TRUE)\n",
    "    message(\"Done!\\n\")\n",
    "    message(\"Gunzipping files into ../data\")\n",
    "    system(\"gunzip ../data/fromGTF.*txt.gz\", intern = TRUE)\n",
    "    message(\"Done!\\n\")\n",
    "}\n",
    "\n",
    "#\n",
    "# 1.2.2 get the rmats 3.2.5 discovered/annoated junction information in GTF format\n",
    "#\n",
    "getReleasedGTFAnnotations (destDir <- \"../data/\")"
   ]
  },
  {
   "cell_type": "markdown",
   "metadata": {},
   "source": [
    "### 2  Refined results\n",
    "We define **refined results* as (FC > 1.5 and pVal < 0.05) for the sex\\*as_event coefficient result for the linear model"
   ]
  },
  {
   "cell_type": "markdown",
   "metadata": {},
   "source": [
    "### 2.1 getTissueReduction"
   ]
  },
  {
   "cell_type": "code",
   "execution_count": null,
   "metadata": {},
   "outputs": [],
   "source": [
    "getTissueReduction <- function ( filename ) {\n",
    "\n",
    "    tissue_reduction <- read.table(filename, header=TRUE, sep=\"\\t\",\n",
    "                               skipNul=FALSE, stringsAsFactors = FALSE)\n",
    "    colnames(tissue_reduction)  <- c(\"SMTSD\",\"female\",\"male\",\"include\",\"display_name\")\n",
    "\n",
    "    return(tissue_reduction)\n",
    "}\n",
    "tissue_reduction <- getTissueReduction (\"../assets/tissues.tsv\")\n"
   ]
  },
  {
   "cell_type": "markdown",
   "metadata": {},
   "source": [
    "### 2.2 Read in refined results and annotations"
   ]
  },
  {
   "cell_type": "code",
   "execution_count": null,
   "metadata": {},
   "outputs": [],
   "source": [
    "significant_results_dir = \"../data/\"\n",
    "pattern = \"DGE_sex_as_events_refined.csv\"\n",
    "files <- list.files(path = significant_results_dir, pattern = pattern)\n",
    "as_types <- c(\"a3ss\", \"a5ss\", \"mxe\", \"ri\", \"se\")\n",
    "length(files)"
   ]
  },
  {
   "cell_type": "code",
   "execution_count": null,
   "metadata": {},
   "outputs": [],
   "source": [
    "a3ss_annot <- read.table(file = \"../data/fromGTF.A3SS.txt\", sep = \"\\t\", quote = \"\\\"\", header = T, stringsAsFactors = F)\n",
    "a5ss_annot <- read.table(file = \"../data/fromGTF.A5SS.txt\", sep = \"\\t\", quote = \"\\\"\", header = T, stringsAsFactors = F)\n",
    "mxe_annot <- read.table(file = \"../data/fromGTF.MXE.txt\", sep = \"\\t\", quote = \"\\\"\", header = T, stringsAsFactors = F)\n",
    "ri_annot <- read.table(file = \"../data/fromGTF.RI.txt\", sep = \"\\t\", quote = \"\\\"\", header = T, stringsAsFactors = F)\n",
    "se_annot <- read.table(file = \"../data/fromGTF.SE.txt\", sep = \"\\t\", quote = \"\\\"\", header = T, stringsAsFactors = F)"
   ]
  },
  {
   "cell_type": "code",
   "execution_count": null,
   "metadata": {},
   "outputs": [],
   "source": [
    "head(se_annot)"
   ]
  },
  {
   "cell_type": "code",
   "execution_count": null,
   "metadata": {},
   "outputs": [],
   "source": [
    "gene_as = data.frame()\n",
    "counts <- rep(NA, length(files))\n",
    "ASE <- rep(\"NA\", length(files))\n",
    "Tissue <- rep(\"NA\", length(files))\n",
    "Display <- rep(\"NA\", length(files))\n",
    "\n",
    "for (i in 1:length(files)) {\n",
    "    lines <- read.csv(paste0(significant_results_dir, files[i]),header = TRUE)\n",
    "    event     <- as.vector(as.character(rownames(lines)))\n",
    "    tissue <- gsub(\"_DGE_sex_as_events_refined.csv\",\"\", files[i], fixed = TRUE)\n",
    "    \n",
    "    counts[i] <- dim(lines)[1]\n",
    "    \n",
    "    if (dim(lines)[1] > 0) { #has significant events\n",
    "        # rownames of the significant results file are a combination of gene-symbol and junction name\n",
    "        # using a regular expression - extract the last numbers that then are the index to the annotation table\n",
    "        event_idx <- substring(event, regexpr(\"[0-9]+$\", event))\n",
    "        \n",
    "        if (grepl(\"a3ss_\", files[i])) {\n",
    "            tissue <- gsub(\"a3ss_\",\"\", tissue, fixed = TRUE)\n",
    "            ASE[i] <- \"A3SS\"\n",
    "            Tissue[i] <- tissue\n",
    "            idx <- match(event_idx, a3ss_annot$ID)\n",
    "            res <- data.frame(GeneJunction = event,\n",
    "                              ASE = \"A3SS\", \n",
    "                              ASE_IDX = idx,\n",
    "                              Tissue = tissue, \n",
    "                              Display = tissue_reduction[tissue_reduction$SMTSD == tissue,'display_name'],\n",
    "                              GeneSymbol = a3ss_annot$geneSymbol[idx],\n",
    "                              GeneID     = a3ss_annot$GeneID[idx],\n",
    "                              chr = a3ss_annot$chr[idx])\n",
    "        }\n",
    "        if (grepl(\"a5ss_\", files[i])) {\n",
    "            tissue <- gsub(\"a5ss_\",\"\", tissue, fixed = TRUE)\n",
    "            ASE[i] <- \"A5SS\"\n",
    "            Tissue[i] <- tissue\n",
    "            idx <- match(event_idx, a5ss_annot$ID)\n",
    "            res <- data.frame(GeneJunction = event,\n",
    "                              ASE = \"A5SS\", \n",
    "                              ASE_IDX = idx,\n",
    "                              Tissue = tissue,\n",
    "                              Display = tissue_reduction[tissue_reduction$SMTSD == tissue,'display_name'],\n",
    "                              GeneSymbol = a5ss_annot$geneSymbol[idx],\n",
    "                              GeneID     = a5ss_annot$GeneID[idx],\n",
    "                              chr = a5ss_annot$chr[idx])\n",
    "        }\n",
    "        if (grepl(\"mxe_\", files[i])) {\n",
    "            ASE[i] <- \"MXE\"\n",
    "            tissue <- gsub(\"mxe_\",\"\", tissue, fixed = TRUE)\n",
    "            Tissue[i] <- tissue\n",
    "            idx <- match(event_idx, a3ss_annot$ID)\n",
    "            res <- data.frame(GeneJunction = event,\n",
    "                              ASE = \"MXE\", \n",
    "                              ASE_IDX = idx,\n",
    "                              Tissue = tissue, \n",
    "                              Display = tissue_reduction[tissue_reduction$SMTSD == tissue,'display_name'],\n",
    "                              GeneSymbol = mxe_annot$geneSymbol[idx],\n",
    "                              GeneID     = mxe_annot$GeneID[idx],\n",
    "                              chr = mxe_annot$chr[idx])\n",
    "        }\n",
    "        if (grepl(\"se_\", files[i])) {\n",
    "            ASE[i] <- \"SE\"\n",
    "            tissue <- gsub(\"se_\",\"\", tissue, fixed = TRUE)\n",
    "            Tissue[i] <- tissue\n",
    "            idx <- match(event_idx, se_annot$ID)\n",
    "            res <- data.frame(GeneJunction = event,\n",
    "                              ASE = \"SE\", \n",
    "                              ASE_IDX = idx,\n",
    "                              Tissue = tissue, \n",
    "                              Display = tissue_reduction[tissue_reduction$SMTSD == tissue,'display_name'],\n",
    "                              GeneSymbol = se_annot$geneSymbol[idx],\n",
    "                              GeneID     = se_annot$GeneID[idx],\n",
    "                              chr = se_annot$chr[idx])\n",
    "        }\n",
    "        if (grepl(\"ri_\", files[i])){\n",
    "            ASE[i] <- \"RI\"\n",
    "            tissue <- gsub(\"ri_\",\"\", tissue, fixed = TRUE)\n",
    "            Tissue[i] <- tissue\n",
    "            idx <- match(event_idx, ri_annot$ID)\n",
    "            res <- data.frame(GeneJunction = event,\n",
    "                              ASE = \"RI\", \n",
    "                              ASE_IDX = idx,\n",
    "                              Tissue = tissue, \n",
    "                              Display = tissue_reduction[tissue_reduction$SMTSD == tissue,'display_name'],\n",
    "                              GeneSymbol = ri_annot$geneSymbol[idx],\n",
    "                              GeneID     = ri_annot$GeneID[idx],\n",
    "                              chr = ri_annot$chr[idx])\n",
    "        }\n",
    "        gene_as <- rbind(gene_as, res)\n",
    "        \n",
    "    } #if has sig. events\n",
    "    \n",
    "} #for all files"
   ]
  },
  {
   "cell_type": "code",
   "execution_count": null,
   "metadata": {},
   "outputs": [],
   "source": [
    "Display = tissue_reduction[tissue_reduction$SMTSD == 'adrenal_gland','display_name']\n",
    "Display\n"
   ]
  },
  {
   "cell_type": "markdown",
   "metadata": {},
   "source": [
    "### 3 Data Structures for Figures"
   ]
  },
  {
   "cell_type": "markdown",
   "metadata": {},
   "source": [
    "### 3.1 gene_as.tsv\n",
    "\n",
    "This file contains (description)\n",
    "Here is a typical line\n",
    "<pre>\n",
    "        GeneJunction    ASE     ASE_IDX Tissue  GeneSymbol      chr\n",
    "1       MDM4-3553       SE      3553    adipovisceral_omentum   RNPEP   chr1\n",
    "2       WDR17-8668      SE      8668    adipovisceral_omentum   ANKMY1  chr2\n",
    "3       IL17RC-5032     SE      5032    adipovisceral_omentum   SNCAIP  chr5\n",
    "4       DDX3X-5712      A3SS    5712    adrenal_gland   DDX3X   chrX\n",
    "</pre>\n",
    "There are 2848 significant events in the file."
   ]
  },
  {
   "cell_type": "code",
   "execution_count": null,
   "metadata": {},
   "outputs": [],
   "source": [
    "glimpse(gene_as)\n",
    "table(is.na(gene_as$Tissue))\n",
    "table(gene_as$Tissue)\n",
    "length(levels(gene_as$Tissue))\n",
    "colnames(gene_as)\n",
    "write.table(gene_as, \"../data/gene_as.tsv\", quote=FALSE, sep=\"\\t\")\n",
    "head(gene_as)"
   ]
  },
  {
   "cell_type": "code",
   "execution_count": null,
   "metadata": {},
   "outputs": [],
   "source": [
    "head(gene_as[gene_as$chr==\"chrX\",])\n"
   ]
  },
  {
   "cell_type": "markdown",
   "metadata": {},
   "source": [
    "### 3.2 Tissue specific data frame"
   ]
  },
  {
   "cell_type": "code",
   "execution_count": null,
   "metadata": {},
   "outputs": [],
   "source": [
    "data <- data.frame(Tissue = Tissue, ASE = ASE, Counts = counts)\n",
    "data <- data[!(Tissue==\"NA\"),]\n",
    "numberOfUniqueTissues <- length(summary(as.factor(data$Tissue),maxsum=500))\n",
    "numberOfASEmechanisms <- length(summary(as.factor(data$ASE),maxsum=500))\n",
    "message(\"data now has \",numberOfUniqueTissues, \" tissues and \", numberOfASEmechanisms, \" ASE categories\")\n",
    "message(\"ASE:\")\n",
    "summary(as.factor(data$ASE),maxsum=500)"
   ]
  },
  {
   "cell_type": "markdown",
   "metadata": {},
   "source": [
    "### 3.3 Count splicing event by chromosome\n",
    "\n",
    "Count the number of significant alternative splicing events per chromosome and write to the file **Total_AS_by_chr.tsv**."
   ]
  },
  {
   "cell_type": "code",
   "execution_count": null,
   "metadata": {},
   "outputs": [],
   "source": [
    "res2 <- gene_as          %>% \n",
    "       group_by(chr)    %>% \n",
    "       count(chr)       %>% \n",
    "       arrange(desc(n)) %>% \n",
    "       as.data.frame()\n",
    "res2$chr <- factor(res2$chr, levels = res2$chr)\n",
    "length(res2$chr)\n",
    "res2\n",
    "glimpse(res2)\n",
    "write.table(res2, file= \"../data/Total_AS_by_chr.tsv\", sep=\"\\t\", quote = FALSE, row.names=F)"
   ]
  },
  {
   "cell_type": "markdown",
   "metadata": {},
   "source": [
    "### 3.4 Count most frequent spliced genes "
   ]
  },
  {
   "cell_type": "code",
   "execution_count": null,
   "metadata": {
    "lines_to_next_cell": 0
   },
   "outputs": [],
   "source": [
    "res3 <- gene_as %>% \n",
    "       group_by(GeneSymbol) %>% count(GeneSymbol) %>% arrange(desc(n)) %>% as.data.frame()\n",
    "res3$GeneSymbol <- factor(res3$GeneSymbol, levels = res3$GeneSymbol)\n",
    "length(res3$GeneSymbol)\n",
    "head(res3)\n",
    "write.table(res3, file = \"../data/Total_AS_by_geneSymbol.tsv\", sep = \"\\t\", quote=FALSE, row.names = F)"
   ]
  },
  {
   "cell_type": "markdown",
   "metadata": {},
   "source": [
    "\n",
    "\n"
   ]
  },
  {
   "cell_type": "markdown",
   "metadata": {},
   "source": [
    "### 3.5 Count most frequent splicing by tissue"
   ]
  },
  {
   "cell_type": "code",
   "execution_count": null,
   "metadata": {},
   "outputs": [],
   "source": [
    "res4 <- gene_as %>% \n",
    "       group_by(Tissue) %>% \n",
    "       count(Tissue) %>% \n",
    "       arrange(desc(n)) %>% \n",
    "       as.data.frame()\n",
    "res4$Tissue <- factor(res4$Tissue, levels = res4$Tissue)\n",
    "length(res4$Tissue)\n",
    "res4\n",
    "write.table(res4, file = \"../data/Total_AS_by_tissue.tsv\", sep = \"\\t\", row.names = F)"
   ]
  },
  {
   "cell_type": "markdown",
   "metadata": {},
   "source": [
    "###  3.6 Significant Count by splicing type \n",
    "We define **significant** to be FC > 1.5 and pVal < 0.05\n",
    "\n",
    "Our starting values were the significant events, all meeting the criteria FC > 1.5 and pVal < 0.05\n"
   ]
  },
  {
   "cell_type": "code",
   "execution_count": null,
   "metadata": {},
   "outputs": [],
   "source": [
    "res5 <- gene_as %>% group_by(ASE) %>% count(ASE) %>% arrange(desc(n)) %>% as.data.frame()\n",
    "res5$ASE <- factor(res5$ASE, levels = res5$ASE)\n",
    "head(res5)\n",
    "write.table(res5, file= \"../data/Total_AS_by_splicingtype.tsv\")"
   ]
  },
  {
   "cell_type": "markdown",
   "metadata": {},
   "source": [
    "###  3.7 Significant Count by splicing type (significant == FC > 1.5 and pVal < 0.05)"
   ]
  },
  {
   "cell_type": "code",
   "execution_count": null,
   "metadata": {
    "lines_to_next_cell": 0
   },
   "outputs": [],
   "source": [
    "A3SS_keep <- as.character(gene_as$ASE) %in% \"A3SS\"\n",
    "table(A3SS_keep)\n",
    "A3SS.gene_as <- data.frame(gene_as[A3SS_keep == TRUE,])\n",
    "\n",
    "A5SS_keep <- as.character(gene_as$ASE) %in% \"A5SS\"\n",
    "table(A5SS_keep)\n",
    "A5SS.gene_as <- data.frame(gene_as[A5SS_keep == TRUE,])\n",
    "\n",
    "MXE_keep  <- as.character(gene_as$ASE) %in% \"MXE\"\n",
    "table(MXE_keep)\n",
    "MXE.gene_as <- data.frame(gene_as[MXE_keep == TRUE,])\n",
    "\n",
    "SE_keep   <- as.character(gene_as$ASE) %in% \"SE\"\n",
    "table(SE_keep)\n",
    "SE.gene_as <- data.frame(gene_as[SE_keep == TRUE,])\n",
    "\n",
    "RI_keep   <- as.character(gene_as$ASE) %in% \"RI\"\n",
    "table(RI_keep)\n",
    "RI.gene_as <- data.frame(gene_as[RI_keep == TRUE,])\n",
    "\n",
    "dim(A3SS.gene_as)\n",
    "dim(A5SS.gene_as)\n",
    "dim(MXE.gene_as)\n",
    "dim(SE.gene_as)\n",
    "dim(RI.gene_as)\n"
   ]
  },
  {
   "cell_type": "markdown",
   "metadata": {},
   "source": [
    "### 3.8 Siginficant spliced by Gene for each splicing factor"
   ]
  },
  {
   "cell_type": "code",
   "execution_count": null,
   "metadata": {},
   "outputs": [],
   "source": [
    "A3SS.res <- A3SS.gene_as %>% group_by(GeneSymbol) %>% count(GeneSymbol) %>% arrange(desc(n)) %>% as.data.frame()\n",
    "A3SS.res$GeneSymbol <- factor(A3SS.res$GeneSymbol, levels = A3SS.res$GeneSymbol)\n",
    "message(\"Significant spliced genes for A3SS\\n\",\n",
    "        paste(length(A3SS.res$GeneSymbol)), collapse=\" \")\n",
    "head(A3SS.res)\n",
    "\n",
    "A5SS.res <- A5SS.gene_as %>% group_by(GeneSymbol) %>% count(GeneSymbol) %>% arrange(desc(n)) %>% as.data.frame()\n",
    "A5SS.res$GeneSymbol <- factor(A5SS.res$GeneSymbol, levels = A5SS.res$GeneSymbol)\n",
    "message(\"Significant spliced genes for A5SS\\n\",\n",
    "        paste(length(A5SS.res$GeneSymbol)), collapse=\" \")\n",
    "head(A5SS.res)\n",
    "\n",
    "MXE.res <- MXE.gene_as %>% group_by(GeneSymbol) %>% count(GeneSymbol) %>% arrange(desc(n)) %>% as.data.frame()\n",
    "MXE.res$GeneSymbol <- factor(MXE.res$GeneSymbol, levels = MXE.res$GeneSymbol)\n",
    "message(\"Significant spliced genes for MXE\\n\",\n",
    "        paste(length(MXE.res$GeneSymbol)), collapse=\" \")\n",
    "head(MXE.res)\n",
    "\n",
    "RI.res <- RI.gene_as %>% group_by(GeneSymbol) %>% count(GeneSymbol) %>% arrange(desc(n)) %>% as.data.frame()\n",
    "RI.res$GeneSymbol <- factor(RI.res$GeneSymbol, levels = RI.res$GeneSymbol)\n",
    "message(\"Significant spliced genes for RI\\n\",\n",
    "        paste(length(RI.res$GeneSymbol)), collapse=\" \")\n",
    "head(RI.res)\n",
    "\n",
    "SE.res <- SE.gene_as %>% group_by(GeneSymbol) %>% count(GeneSymbol) %>% arrange(desc(n)) %>% as.data.frame()\n",
    "SE.res$GeneSymbol <- factor(SE.res$GeneSymbol, levels = SE.res$GeneSymbol)\n",
    "message(\"Significant spliced genes for SE\\n\",\n",
    "        paste(length(SE.res$GeneSymbol)), collapse=\" \")\n",
    "head(SE.res)"
   ]
  },
  {
   "cell_type": "markdown",
   "metadata": {},
   "source": [
    "### 3.9 Count most frequent spliced genes"
   ]
  },
  {
   "cell_type": "code",
   "execution_count": null,
   "metadata": {},
   "outputs": [],
   "source": [
    "res <- gene_as %>% group_by(GeneSymbol) %>% count(GeneSymbol) %>% arrange(desc(n)) %>% as.data.frame()\n",
    "res$GeneSymbol <- factor(res$GeneSymbol, levels = res$GeneSymbol)\n",
    "length(res$GeneSymbol)\n",
    "res2 <- data %>% group_by(Tissue) %>% \n",
    "    summarise(Total = sum(Counts)) %>%\n",
    "    arrange(desc(Total)) %>%\n",
    "    as.data.frame()\n",
    "\n",
    "#Add number of tissues\n",
    "nTissues <- rep(NA, length(res))\n",
    "for (i in 1:nrow(res)) {\n",
    "  df_gene <- gene_as %>% filter(GeneSymbol == res$GeneSymbol[i])\n",
    "  nTissues[i] <- length(unique(df_gene$Tissue))\n",
    "}\n",
    "res$Tissues <- nTissues\n",
    "head(res)\n",
    "write.table(res, file = \"../data/genesWithCommonAS.tsv\", sep = \"\\t\", quote = F, row.names = F)"
   ]
  },
  {
   "cell_type": "markdown",
   "metadata": {},
   "source": [
    "### 3.10 Count most frequent spliced chromosomes\n",
    "To get an indication of which chromosome has the most frequent slicing event (regardless of type)\n",
    "We create an index based upon the number of exons per chromosome.\n",
    "\n",
    "get the annotation file, at this writing, gencode.v30.annotation.gtf\n",
    "The information as to the number of exons within the chromosome may be found there"
   ]
  },
  {
   "cell_type": "code",
   "execution_count": null,
   "metadata": {},
   "outputs": [],
   "source": [
    "if (!(\"GTEx_Analysis_2017-06-05_v8_RNASeQCv1.1.9_gene_tpm.gct\" %in% list.files(\"../data/\"))) {\n",
    "    message(\"downloading gencode v30 annotation\\n\")\n",
    "    system(\"wget -O ../data/gencode.v30.annotation.gtf.gz ftp://ftp.ebi.ac.uk/pub/databases/gencode/Gencode_human/release_30/gencode.v30.annotation.gtf.gz\")\n",
    "    message(\"Done!\\n\")\n",
    "    message(\"Unzipping compressed file gencode.v30.annotation.gtf.gz..\")\n",
    "    system(\"gunzip ../data/gencode.v30.annotation.gtf.gz\", intern = TRUE)\n",
    "    message(\"Done! gencode.v30.annotation.gtf can be found in ../data/\")\n",
    "}\n",
    "gencode <- import(\"../data/gencode.v30.annotation.gtf\")"
   ]
  },
  {
   "cell_type": "code",
   "execution_count": null,
   "metadata": {},
   "outputs": [],
   "source": [
    "exons <- gencode[ gencode$type == \"exon\", ]\n",
    "exons <- as.data.frame(exons)\n",
    "\n",
    "#Obtain chromosomes we have splicing information for (recall we did not use chr Y in our analysis)\n",
    "all_chr <- as.character(unique(gene_as$chr))\n",
    "chr_counts <- rep(0, length(all_chr))\n",
    "\n",
    "\n",
    "for (i in 1:length(all_chr)) {\n",
    "  chr_counts[i] <- nrow(exons[exons$seqnames == all_chr[i], ])\n",
    "}\n",
    "\n",
    "exon_counts <- data.frame(chr = all_chr, counts = chr_counts)\n",
    "\n",
    "# Count most frequent spliced chromosomes\n",
    "res <- gene_as %>% group_by(chr) %>% count(chr) %>% arrange(desc(n)) %>% as.data.frame()\n",
    "res$chr <- factor(res$chr, levels = res$chr)\n",
    "\n",
    "idx <- match(res$chr, exon_counts$chr)\n",
    "\n",
    "res$ExonCounts <- exon_counts$counts[idx]\n",
    "\n",
    "res$Index <- (res$n / res$ExonCounts) * 1000\n",
    "\n",
    "res_sorted <- res %>% arrange(desc(Index))\n",
    "res_sorted$chr <- factor(res_sorted$chr, levels = res_sorted$chr)\n",
    "glimpse(res_sorted)"
   ]
  },
  {
   "cell_type": "code",
   "execution_count": null,
   "metadata": {},
   "outputs": [],
   "source": [
    "write.table(data,       file = \"../data/Significant_AS_events.tsv\", sep = \"\\t\", row.names = F, quote = F)\n",
    "write.table(res_sorted, file = \"../data/SplicingIndex_chr.tsv\", sep = \"\\t\", quote = F, row.names = F)"
   ]
  },
  {
   "cell_type": "markdown",
   "metadata": {},
   "source": [
    "### Appendix - Metadata\n",
    "\n",
    "For replicability and reproducibility purposes, we also print the following metadata:\n",
    "\n",
    "1. Checksums of **'artefacts'**, files generated during the analysis and stored in the folder directory **`data`**\n",
    "2. List of environment metadata, dependencies, versions of libraries using `utils::sessionInfo()` and [`devtools::session_info()`](https://devtools.r-lib.org/reference/session_info.html)"
   ]
  },
  {
   "cell_type": "markdown",
   "metadata": {},
   "source": [
    "### Appendix 1. Checksums with the sha256 algorithm"
   ]
  },
  {
   "cell_type": "code",
   "execution_count": null,
   "metadata": {},
   "outputs": [],
   "source": [
    "rm (notebookid)\n",
    "notebookid   = \"countGenesAndEvents\"\n",
    "notebookid\n",
    "\n",
    "message(\"Generating sha256 checksums of the file `../data/Total_AS_by_tissue.tsv` directory .. \")\n",
    "system(paste0(\"cd ../data && find . -name SplicingIndex_chr.tsv -exec sha256sum {} \\\\;  >  ../metadata/\", notebookid, \"_sha256sums.txt\"), intern = TRUE)\n",
    "message(\"Done!\\n\")\n",
    "\n",
    "message(\"Generating sha256 checksums of the file `../data/Significant_events.tsv` directory .. \")\n",
    "system(paste0(\"cd ../data && find . -name SplicingIndex_chr.tsv -exec sha256sum {} \\\\;  >  ../metadata/\", notebookid, \"_sha256sums.txt\"), intern = TRUE)\n",
    "message(\"Done!\\n\")\n",
    "\n",
    "message(\"Generating sha256 checksums of the file `../data/Significant_events.tsv` directory .. \")\n",
    "system(paste0(\"cd ../data && find . -name SplicingIndex_chr.tsv -exec sha256sum {} \\\\;  >  ../metadata/\", notebookid, \"_sha256sums.txt\"), intern = TRUE)\n",
    "message(\"Done!\\n\")\n",
    "\n",
    "\n",
    "paste0(\"../metadata/\", notebookid, \"_sha256sums.txt\")\n",
    "\n",
    "data.table::fread(paste0(\"../metadata/\", notebookid, \"_sha256sums.txt\"), header = FALSE, col.names = c(\"sha256sum\", \"file\"))"
   ]
  },
  {
   "cell_type": "markdown",
   "metadata": {},
   "source": [
    "### Appendix 2. Libraries metadata"
   ]
  },
  {
   "cell_type": "code",
   "execution_count": null,
   "metadata": {},
   "outputs": [],
   "source": [
    "dev_session_info   <- devtools::session_info()\n",
    "utils_session_info <- utils::sessionInfo()\n",
    "\n",
    "message(\"Saving `devtools::session_info()` objects in ../metadata/devtools_session_info.rds  ..\")\n",
    "saveRDS(dev_session_info, file = paste0(\"../metadata/\", notebookid, \"_devtools_session_info.rds\"))\n",
    "message(\"Done!\\n\")\n",
    "\n",
    "message(\"Saving `utils::sessionInfo()` objects in ../metadata/utils_session_info.rds  ..\")\n",
    "saveRDS(utils_session_info, file = paste0(\"../metadata/\", notebookid ,\"_utils_info.rds\"))\n",
    "message(\"Done!\\n\")\n",
    "\n",
    "dev_session_info$platform\n",
    "dev_session_info$packages[dev_session_info$packages$attached==TRUE, ]"
   ]
  },
  {
   "cell_type": "code",
   "execution_count": null,
   "metadata": {},
   "outputs": [],
   "source": []
  }
 ],
 "metadata": {
  "jupytext": {
   "cell_metadata_filter": "-all",
   "main_language": "R",
   "notebook_metadata_filter": "-all"
  },
  "kernelspec": {
   "display_name": "R",
   "language": "R",
   "name": "ir"
  },
  "language_info": {
   "codemirror_mode": "r",
   "file_extension": ".r",
   "mimetype": "text/x-r-source",
   "name": "R",
   "pygments_lexer": "r",
   "version": "3.6.2"
  }
 },
 "nbformat": 4,
 "nbformat_minor": 4
}
