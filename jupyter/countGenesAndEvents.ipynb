{
 "cells": [
  {
   "cell_type": "markdown",
   "metadata": {},
   "source": [
    "# Analysis Notebook - Count Genes and Events - `CountGenesAndEvents`\n",
    "\n",
    "As instructed by the software, we are using the raw counts as provided by rMATS.  The raw counts we are using in the model are `ijc` and `sjc`, the sample specific raw read counts as they align to the junctions of the `included exon (ijc)` and the junctions of the `excluded or skipped exon (sjc)` respectively.\n",
    "\n",
    "\n",
    "Be sure to set your GITHUB_TOKEN, prior to downloading files\n",
    "\n",
    "One suggestion is change it to your token and then run it then immediately change it back to this:\n",
    "\n",
    "Sys.setenv(GITHUB_TOKEN = \"your-very-own-github-token\")"
   ]
  },
  {
   "cell_type": "code",
   "execution_count": 1,
   "metadata": {},
   "outputs": [],
   "source": [
    "# Sys.setenv(GITHUB_TOKEN=\"your-very-own-github-token\")"
   ]
  },
  {
   "cell_type": "code",
   "execution_count": 2,
   "metadata": {},
   "outputs": [
    {
     "name": "stderr",
     "output_type": "stream",
     "text": [
      "Warning message:\n",
      "“package ‘dplyr’ was built under R version 3.6.2”\n",
      "Attaching package: ‘dplyr’\n",
      "\n",
      "The following objects are masked from ‘package:stats’:\n",
      "\n",
      "    filter, lag\n",
      "\n",
      "The following objects are masked from ‘package:base’:\n",
      "\n",
      "    intersect, setdiff, setequal, union\n",
      "\n",
      "Loading required package: BiocGenerics\n",
      "Loading required package: parallel\n",
      "\n",
      "Attaching package: ‘BiocGenerics’\n",
      "\n",
      "The following objects are masked from ‘package:parallel’:\n",
      "\n",
      "    clusterApply, clusterApplyLB, clusterCall, clusterEvalQ,\n",
      "    clusterExport, clusterMap, parApply, parCapply, parLapply,\n",
      "    parLapplyLB, parRapply, parSapply, parSapplyLB\n",
      "\n",
      "The following object is masked from ‘package:limma’:\n",
      "\n",
      "    plotMA\n",
      "\n",
      "The following objects are masked from ‘package:dplyr’:\n",
      "\n",
      "    combine, intersect, setdiff, union\n",
      "\n",
      "The following objects are masked from ‘package:stats’:\n",
      "\n",
      "    IQR, mad, sd, var, xtabs\n",
      "\n",
      "The following objects are masked from ‘package:base’:\n",
      "\n",
      "    anyDuplicated, append, as.data.frame, basename, cbind, colnames,\n",
      "    dirname, do.call, duplicated, eval, evalq, Filter, Find, get, grep,\n",
      "    grepl, intersect, is.unsorted, lapply, Map, mapply, match, mget,\n",
      "    order, paste, pmax, pmax.int, pmin, pmin.int, Position, rank,\n",
      "    rbind, Reduce, rownames, sapply, setdiff, sort, table, tapply,\n",
      "    union, unique, unsplit, which, which.max, which.min\n",
      "\n",
      "Loading required package: Biobase\n",
      "Welcome to Bioconductor\n",
      "\n",
      "    Vignettes contain introductory material; view with\n",
      "    'browseVignettes()'. To cite Bioconductor, see\n",
      "    'citation(\"Biobase\")', and for packages 'citation(\"pkgname\")'.\n",
      "\n",
      "Loading required package: R.oo\n",
      "Loading required package: R.methodsS3\n",
      "R.methodsS3 v1.8.0 (2020-02-14 07:10:20 UTC) successfully loaded. See ?R.methodsS3 for help.\n",
      "R.oo v1.23.0 successfully loaded. See ?R.oo for help.\n",
      "\n",
      "Attaching package: ‘R.oo’\n",
      "\n",
      "The following object is masked from ‘package:R.methodsS3’:\n",
      "\n",
      "    throw\n",
      "\n",
      "The following objects are masked from ‘package:methods’:\n",
      "\n",
      "    getClasses, getMethods\n",
      "\n",
      "The following objects are masked from ‘package:base’:\n",
      "\n",
      "    attach, detach, load, save\n",
      "\n",
      "R.utils v2.9.2 successfully loaded. See ?R.utils for help.\n",
      "\n",
      "Attaching package: ‘R.utils’\n",
      "\n",
      "The following object is masked from ‘package:utils’:\n",
      "\n",
      "    timestamp\n",
      "\n",
      "The following objects are masked from ‘package:base’:\n",
      "\n",
      "    cat, commandArgs, getOption, inherits, isOpen, nullfile, parse,\n",
      "    warnings\n",
      "\n"
     ]
    }
   ],
   "source": [
    "library(dplyr)\n",
    "library(ggplot2)\n",
    "library(limma)\n",
    "library(piggyback)\n",
    "library(multtest)\n",
    "library(Biobase)\n",
    "library(edgeR)\n",
    "library(tibble)\n",
    "#install.packages('R.utils')\n",
    "library(R.utils)"
   ]
  },
  {
   "cell_type": "markdown",
   "metadata": {},
   "source": [
    "## Download all the rMATS results\n",
    "\n",
    "Each of the alternative splicing output files are downloaded here:"
   ]
  },
  {
   "cell_type": "code",
   "execution_count": 3,
   "metadata": {},
   "outputs": [],
   "source": [
    "#\n",
    "# refined results (FC > 1.5 and pVal < 0.05)\n",
    "# for the sex*as_event coefficient result for the linear model\n",
    "#\n",
    "significant_results_dir = \"../data/\"\n",
    "pattern = \"DGE_sex_as_events_refined.csv\"\n",
    "files <- list.files(path = significant_results_dir, pattern = pattern)\n",
    "as_types <- c(\"a3ss\", \"a5ss\", \"mxe\", \"ri\", \"se\")"
   ]
  },
  {
   "cell_type": "code",
   "execution_count": 4,
   "metadata": {},
   "outputs": [],
   "source": [
    "a3ss_annot <- read.table(file = \"../data/fromGTF.A3SS.txt\", sep = \"\\t\", quote = \"\\\"\", header = T, stringsAsFactors = F)\n",
    "a5ss_annot <- read.table(file = \"../data/fromGTF.A5SS.txt\", sep = \"\\t\", quote = \"\\\"\", header = T, stringsAsFactors = F)\n",
    "mxe_annot <- read.table(file = \"../data/fromGTF.MXE.txt\", sep = \"\\t\", quote = \"\\\"\", header = T, stringsAsFactors = F)\n",
    "ri_annot <- read.table(file = \"../data/fromGTF.RI.txt\", sep = \"\\t\", quote = \"\\\"\", header = T, stringsAsFactors = F)\n",
    "se_annot <- read.table(file = \"../data/fromGTF.SE.txt\", sep = \"\\t\", quote = \"\\\"\", header = T, stringsAsFactors = F)"
   ]
  },
  {
   "cell_type": "code",
   "execution_count": 144,
   "metadata": {},
   "outputs": [
    {
     "name": "stderr",
     "output_type": "stream",
     "text": [
      "\n",
      "Reading significant events for each splicing factor\n",
      "\n",
      "\n",
      "Done reading significant events!\n",
      "\n"
     ]
    }
   ],
   "source": [
    "message (\"\\nReading significant events for each splicing factor\\n\")\n",
    "gene_as = data.frame()\n",
    "counts <- rep(NA, length(files))\n",
    "ASE <- rep(\"NA\", length(files))\n",
    "Tissue <- rep(\"NA\", length(files))\n",
    "\n",
    "for (i in 1:length(files)) {\n",
    "    lines <- read.csv(paste0(significant_results_dir, files[i]),header = TRUE)\n",
    "    event     <- as.vector(as.character(rownames(lines)))\n",
    "    tissue <- gsub(\"_DGE_sex_as_events_refined.csv\",\"\", files[i], fixed = TRUE)\n",
    "\n",
    "    counts[i] <- dim(lines)[1]\n",
    "    \n",
    "    if (dim(lines)[1] > 0) { #has significant events\n",
    "        # rownames of the significant results file are a combination of gene-symbol and junction name\n",
    "        # using a regular expression - extract the last numbers that then are the index to the annotation table\n",
    "        event_idx <- substring(event, regexpr(\"[0-9]+$\", event))\n",
    "        \n",
    "        if (grepl(\"a3ss_\", files[i])) {\n",
    "            tissue <- gsub(\"a3ss_\",\"\", tissue, fixed = TRUE)\n",
    "            ASE[i] <- \"A3SS\"\n",
    "            Tissue[i] <- tissue\n",
    "            idx <- match(event_idx, a3ss_annot$ID)\n",
    "            res <- data.frame(GeneJunction = event,\n",
    "                              ASE = \"A3SS\", \n",
    "                              ASE_IDX = idx,\n",
    "                              Tissue = tissue, \n",
    "                              GeneSymbol = a3ss_annot$geneSymbol[idx],\n",
    "                              chr = a3ss_annot$chr[idx])\n",
    "        }\n",
    "        if (grepl(\"a5ss_\", files[i])) {\n",
    "            tissue <- gsub(\"a5ss_\",\"\", tissue, fixed = TRUE)\n",
    "            ASE[i] <- \"A5SS\"\n",
    "            Tissue[i] <- tissue\n",
    "            idx <- match(event_idx, a5ss_annot$ID)\n",
    "            res <- data.frame(GeneJunction = event,\n",
    "                              ASE = \"A5SS\", \n",
    "                              ASE_IDX = idx,\n",
    "                              Tissue = tissue, \n",
    "                              GeneSymbol = a5ss_annot$geneSymbol[idx],\n",
    "                              chr = a5ss_annot$chr[idx])\n",
    "        }\n",
    "        if (grepl(\"mxe_\", files[i])) {\n",
    "            ASE[i] <- \"MXE\"\n",
    "            tissue <- gsub(\"mxe_\",\"\", tissue, fixed = TRUE)\n",
    "            Tissue[i] <- tissue\n",
    "            idx <- match(event_idx, a3ss_annot$ID)\n",
    "            res <- data.frame(GeneJunction = event,\n",
    "                              ASE = \"MXE\", \n",
    "                              ASE_IDX = idx,\n",
    "                              Tissue = tissue, \n",
    "                              GeneSymbol = mxe_annot$geneSymbol[idx],\n",
    "                              chr = mxe_annot$chr[idx])\n",
    "        }\n",
    "        if (grepl(\"se_\", files[i])) {\n",
    "            ASE[i] <- \"SE\"\n",
    "            tissue <- gsub(\"se_\",\"\", tissue, fixed = TRUE)\n",
    "            Tissue[i] <- tissue\n",
    "            idx <- match(event_idx, se_annot$ID)\n",
    "            res <- data.frame(GeneJunction = event,\n",
    "                              ASE = \"SE\", \n",
    "                              ASE_IDX = idx,\n",
    "                              Tissue = tissue, \n",
    "                              GeneSymbol = se_annot$geneSymbol[idx],\n",
    "                              chr = se_annot$chr[idx])\n",
    "        }\n",
    "        if (grepl(\"ri_\", files[i])){\n",
    "            ASE[i] <- \"RI\"\n",
    "            tissue <- gsub(\"ri_\",\"\", tissue, fixed = TRUE)\n",
    "            Tissue[i] <- tissue\n",
    "            idx <- match(event_idx, ri_annot$ID)\n",
    "            res <- data.frame(GeneJunction = event,\n",
    "                              ASE = \"RI\", \n",
    "                              ASE_IDX = idx,\n",
    "                              Tissue = tissue, \n",
    "                              GeneSymbol = ri_annot$geneSymbol[idx],\n",
    "                              chr = a3ss_annot$chr[idx])\n",
    "        }\n",
    "        gene_as <- rbind(gene_as, res)\n",
    "        \n",
    "    } #if has sig. events\n",
    "    \n",
    "} #for all files    \n",
    "message (\"\\nDone reading significant events!\\n\")"
   ]
  },
  {
   "cell_type": "markdown",
   "metadata": {},
   "source": [
    "### Glimpse into what we have"
   ]
  },
  {
   "cell_type": "code",
   "execution_count": 151,
   "metadata": {},
   "outputs": [
    {
     "name": "stdout",
     "output_type": "stream",
     "text": [
      "Rows: 7,077\n",
      "Columns: 6\n",
      "$ GeneJunction \u001b[3m\u001b[90m<fct>\u001b[39m\u001b[23m XIST-2253, XIST-2252, GREB1L-4933, RHCG-1776, XIST-2253,…\n",
      "$ ASE          \u001b[3m\u001b[90m<fct>\u001b[39m\u001b[23m SE, SE, SE, SE, SE, SE, SE, SE, SE, SE, SE, SE, SE, SE, …\n",
      "$ ASE_IDX      \u001b[3m\u001b[90m<int>\u001b[39m\u001b[23m 2253, 2252, 4933, 1776, 2253, 2252, 4819, 4818, 4820, 45…\n",
      "$ Tissue       \u001b[3m\u001b[90m<fct>\u001b[39m\u001b[23m adiposubcutaneous, adiposubcutaneous, adiposubcutaneous,…\n",
      "$ GeneSymbol   \u001b[3m\u001b[90m<fct>\u001b[39m\u001b[23m DLEU1, DLEU1, AKT1, MLF1, DLEU1, DLEU1, CNN2, KCNK7, CNN…\n",
      "$ chr          \u001b[3m\u001b[90m<fct>\u001b[39m\u001b[23m chr13, chr13, chr14, chr3, chr13, chr13, chr19, chr11, c…\n"
     ]
    },
    {
     "data": {
      "text/plain": [
       "\n",
       "FALSE \n",
       " 7077 "
      ]
     },
     "metadata": {},
     "output_type": "display_data"
    },
    {
     "data": {
      "text/html": [
       "<style>\n",
       ".list-inline {list-style: none; margin:0; padding: 0}\n",
       ".list-inline>li {display: inline-block}\n",
       ".list-inline>li:not(:last-child)::after {content: \"\\00b7\"; padding: 0 .5ex}\n",
       "</style>\n",
       "<ol class=list-inline><li>'GeneJunction'</li><li>'ASE'</li><li>'ASE_IDX'</li><li>'Tissue'</li><li>'GeneSymbol'</li><li>'chr'</li></ol>\n"
      ],
      "text/latex": [
       "\\begin{enumerate*}\n",
       "\\item 'GeneJunction'\n",
       "\\item 'ASE'\n",
       "\\item 'ASE\\_IDX'\n",
       "\\item 'Tissue'\n",
       "\\item 'GeneSymbol'\n",
       "\\item 'chr'\n",
       "\\end{enumerate*}\n"
      ],
      "text/markdown": [
       "1. 'GeneJunction'\n",
       "2. 'ASE'\n",
       "3. 'ASE_IDX'\n",
       "4. 'Tissue'\n",
       "5. 'GeneSymbol'\n",
       "6. 'chr'\n",
       "\n",
       "\n"
      ],
      "text/plain": [
       "[1] \"GeneJunction\" \"ASE\"          \"ASE_IDX\"      \"Tissue\"       \"GeneSymbol\"  \n",
       "[6] \"chr\"         "
      ]
     },
     "metadata": {},
     "output_type": "display_data"
    },
    {
     "data": {
      "text/html": [
       "<table>\n",
       "<caption>A data.frame: 6 × 6</caption>\n",
       "<thead>\n",
       "\t<tr><th></th><th scope=col>GeneJunction</th><th scope=col>ASE</th><th scope=col>ASE_IDX</th><th scope=col>Tissue</th><th scope=col>GeneSymbol</th><th scope=col>chr</th></tr>\n",
       "\t<tr><th></th><th scope=col>&lt;fct&gt;</th><th scope=col>&lt;fct&gt;</th><th scope=col>&lt;int&gt;</th><th scope=col>&lt;fct&gt;</th><th scope=col>&lt;fct&gt;</th><th scope=col>&lt;fct&gt;</th></tr>\n",
       "</thead>\n",
       "<tbody>\n",
       "\t<tr><th scope=row>1</th><td>XIST-2253  </td><td>SE</td><td>2253</td><td>adiposubcutaneous    </td><td>DLEU1</td><td>chr13</td></tr>\n",
       "\t<tr><th scope=row>2</th><td>XIST-2252  </td><td>SE</td><td>2252</td><td>adiposubcutaneous    </td><td>DLEU1</td><td>chr13</td></tr>\n",
       "\t<tr><th scope=row>3</th><td>GREB1L-4933</td><td>SE</td><td>4933</td><td>adiposubcutaneous    </td><td>AKT1 </td><td>chr14</td></tr>\n",
       "\t<tr><th scope=row>4</th><td>RHCG-1776  </td><td>SE</td><td>1776</td><td>adiposubcutaneous    </td><td>MLF1 </td><td>chr3 </td></tr>\n",
       "\t<tr><th scope=row>5</th><td>XIST-2253  </td><td>SE</td><td>2253</td><td>adipovisceral_omentum</td><td>DLEU1</td><td>chr13</td></tr>\n",
       "\t<tr><th scope=row>6</th><td>XIST-2252  </td><td>SE</td><td>2252</td><td>adipovisceral_omentum</td><td>DLEU1</td><td>chr13</td></tr>\n",
       "</tbody>\n",
       "</table>\n"
      ],
      "text/latex": [
       "A data.frame: 6 × 6\n",
       "\\begin{tabular}{r|llllll}\n",
       "  & GeneJunction & ASE & ASE\\_IDX & Tissue & GeneSymbol & chr\\\\\n",
       "  & <fct> & <fct> & <int> & <fct> & <fct> & <fct>\\\\\n",
       "\\hline\n",
       "\t1 & XIST-2253   & SE & 2253 & adiposubcutaneous     & DLEU1 & chr13\\\\\n",
       "\t2 & XIST-2252   & SE & 2252 & adiposubcutaneous     & DLEU1 & chr13\\\\\n",
       "\t3 & GREB1L-4933 & SE & 4933 & adiposubcutaneous     & AKT1  & chr14\\\\\n",
       "\t4 & RHCG-1776   & SE & 1776 & adiposubcutaneous     & MLF1  & chr3 \\\\\n",
       "\t5 & XIST-2253   & SE & 2253 & adipovisceral\\_omentum & DLEU1 & chr13\\\\\n",
       "\t6 & XIST-2252   & SE & 2252 & adipovisceral\\_omentum & DLEU1 & chr13\\\\\n",
       "\\end{tabular}\n"
      ],
      "text/markdown": [
       "\n",
       "A data.frame: 6 × 6\n",
       "\n",
       "| <!--/--> | GeneJunction &lt;fct&gt; | ASE &lt;fct&gt; | ASE_IDX &lt;int&gt; | Tissue &lt;fct&gt; | GeneSymbol &lt;fct&gt; | chr &lt;fct&gt; |\n",
       "|---|---|---|---|---|---|---|\n",
       "| 1 | XIST-2253   | SE | 2253 | adiposubcutaneous     | DLEU1 | chr13 |\n",
       "| 2 | XIST-2252   | SE | 2252 | adiposubcutaneous     | DLEU1 | chr13 |\n",
       "| 3 | GREB1L-4933 | SE | 4933 | adiposubcutaneous     | AKT1  | chr14 |\n",
       "| 4 | RHCG-1776   | SE | 1776 | adiposubcutaneous     | MLF1  | chr3  |\n",
       "| 5 | XIST-2253   | SE | 2253 | adipovisceral_omentum | DLEU1 | chr13 |\n",
       "| 6 | XIST-2252   | SE | 2252 | adipovisceral_omentum | DLEU1 | chr13 |\n",
       "\n"
      ],
      "text/plain": [
       "  GeneJunction ASE ASE_IDX Tissue                GeneSymbol chr  \n",
       "1 XIST-2253    SE  2253    adiposubcutaneous     DLEU1      chr13\n",
       "2 XIST-2252    SE  2252    adiposubcutaneous     DLEU1      chr13\n",
       "3 GREB1L-4933  SE  4933    adiposubcutaneous     AKT1       chr14\n",
       "4 RHCG-1776    SE  1776    adiposubcutaneous     MLF1       chr3 \n",
       "5 XIST-2253    SE  2253    adipovisceral_omentum DLEU1      chr13\n",
       "6 XIST-2252    SE  2252    adipovisceral_omentum DLEU1      chr13"
      ]
     },
     "metadata": {},
     "output_type": "display_data"
    }
   ],
   "source": [
    "glimpse(gene_as)\n",
    "table(is.na(gene_as$Tissue))\n",
    "colnames(gene_as)\n",
    "write.table(gene_as, \"../data/gene_as.tsv\", quote=FALSE, sep=\"\\t\")\n",
    "head(gene_as)"
   ]
  },
  {
   "cell_type": "code",
   "execution_count": 149,
   "metadata": {},
   "outputs": [
    {
     "data": {
      "text/html": [
       "<table>\n",
       "<caption>A data.frame: 50 × 3</caption>\n",
       "<thead>\n",
       "\t<tr><th></th><th scope=col>GeneJunction</th><th scope=col>ASE</th><th scope=col>n</th></tr>\n",
       "\t<tr><th></th><th scope=col>&lt;fct&gt;</th><th scope=col>&lt;fct&gt;</th><th scope=col>&lt;int&gt;</th></tr>\n",
       "</thead>\n",
       "<tbody>\n",
       "\t<tr><th scope=row>1</th><td>XIST-10149  </td><td>SE  </td><td>39</td></tr>\n",
       "\t<tr><th scope=row>2</th><td>XIST-10152  </td><td>SE  </td><td>39</td></tr>\n",
       "\t<tr><th scope=row>3</th><td>XIST-10154  </td><td>SE  </td><td>39</td></tr>\n",
       "\t<tr><th scope=row>4</th><td>XIST-10150  </td><td>SE  </td><td>38</td></tr>\n",
       "\t<tr><th scope=row>5</th><td>XIST-2253   </td><td>A3SS</td><td>36</td></tr>\n",
       "\t<tr><th scope=row>6</th><td>XIST-2252   </td><td>A3SS</td><td>35</td></tr>\n",
       "\t<tr><th scope=row>7</th><td>XIST-10155  </td><td>SE  </td><td>34</td></tr>\n",
       "\t<tr><th scope=row>8</th><td>XIST-10151  </td><td>SE  </td><td>32</td></tr>\n",
       "\t<tr><th scope=row>9</th><td>KDM5C-22847 </td><td>SE  </td><td>27</td></tr>\n",
       "\t<tr><th scope=row>10</th><td>ZFX-13700   </td><td>SE  </td><td>25</td></tr>\n",
       "\t<tr><th scope=row>11</th><td>XIST-768    </td><td>MXE </td><td>23</td></tr>\n",
       "\t<tr><th scope=row>12</th><td>KDM6A-22439 </td><td>SE  </td><td>23</td></tr>\n",
       "\t<tr><th scope=row>13</th><td>XIST-10153  </td><td>SE  </td><td>23</td></tr>\n",
       "\t<tr><th scope=row>14</th><td>ZFX-13702   </td><td>SE  </td><td>21</td></tr>\n",
       "\t<tr><th scope=row>15</th><td>DDX3X-5710  </td><td>A3SS</td><td>13</td></tr>\n",
       "\t<tr><th scope=row>16</th><td>DDX3X-5712  </td><td>A3SS</td><td>12</td></tr>\n",
       "\t<tr><th scope=row>17</th><td>PUDP-4749   </td><td>A5SS</td><td>12</td></tr>\n",
       "\t<tr><th scope=row>18</th><td>KDM5C-22848 </td><td>SE  </td><td>12</td></tr>\n",
       "\t<tr><th scope=row>19</th><td>EIF1AX-29498</td><td>SE  </td><td>11</td></tr>\n",
       "\t<tr><th scope=row>20</th><td>DDX3X-3517  </td><td>A5SS</td><td> 9</td></tr>\n",
       "\t<tr><th scope=row>21</th><td>DDX3X-4000  </td><td>RI  </td><td> 9</td></tr>\n",
       "\t<tr><th scope=row>22</th><td>DDX3X-26774 </td><td>SE  </td><td> 9</td></tr>\n",
       "\t<tr><th scope=row>23</th><td>JPX-29589   </td><td>SE  </td><td> 9</td></tr>\n",
       "\t<tr><th scope=row>24</th><td>DDX3X-5711  </td><td>A3SS</td><td> 8</td></tr>\n",
       "\t<tr><th scope=row>25</th><td>CES1-343    </td><td>SE  </td><td> 8</td></tr>\n",
       "\t<tr><th scope=row>26</th><td>KDM5C-22849 </td><td>SE  </td><td> 8</td></tr>\n",
       "\t<tr><th scope=row>27</th><td>PNPLA4-24158</td><td>SE  </td><td> 8</td></tr>\n",
       "\t<tr><th scope=row>28</th><td>DDX3X-3516  </td><td>A5SS</td><td> 7</td></tr>\n",
       "\t<tr><th scope=row>29</th><td>DDX3X-26782 </td><td>SE  </td><td> 7</td></tr>\n",
       "\t<tr><th scope=row>30</th><td>PUDP-36551  </td><td>SE  </td><td> 7</td></tr>\n",
       "\t<tr><th scope=row>31</th><td>DDX3X-5706  </td><td>A3SS</td><td> 6</td></tr>\n",
       "\t<tr><th scope=row>32</th><td>CES1-339    </td><td>SE  </td><td> 6</td></tr>\n",
       "\t<tr><th scope=row>33</th><td>GYG2-8626   </td><td>SE  </td><td> 6</td></tr>\n",
       "\t<tr><th scope=row>34</th><td>NLRP2-4564  </td><td>A3SS</td><td> 5</td></tr>\n",
       "\t<tr><th scope=row>35</th><td>DDX3X-3520  </td><td>A5SS</td><td> 5</td></tr>\n",
       "\t<tr><th scope=row>36</th><td>DDX3X-1852  </td><td>MXE </td><td> 5</td></tr>\n",
       "\t<tr><th scope=row>37</th><td>NLRP2-3157  </td><td>RI  </td><td> 5</td></tr>\n",
       "\t<tr><th scope=row>38</th><td>PLCXD1-5916 </td><td>RI  </td><td> 5</td></tr>\n",
       "\t<tr><th scope=row>39</th><td>CPAMD8-5080 </td><td>SE  </td><td> 5</td></tr>\n",
       "\t<tr><th scope=row>40</th><td>NLRP2-21387 </td><td>SE  </td><td> 5</td></tr>\n",
       "\t<tr><th scope=row>41</th><td>CES1-341    </td><td>SE  </td><td> 5</td></tr>\n",
       "\t<tr><th scope=row>42</th><td>GLDC-7560   </td><td>SE  </td><td> 5</td></tr>\n",
       "\t<tr><th scope=row>43</th><td>DDX3X-1853  </td><td>MXE </td><td> 4</td></tr>\n",
       "\t<tr><th scope=row>44</th><td>JCHAIN-31783</td><td>SE  </td><td> 4</td></tr>\n",
       "\t<tr><th scope=row>45</th><td>NOX5-35028  </td><td>SE  </td><td> 4</td></tr>\n",
       "\t<tr><th scope=row>46</th><td>APOL4-11194 </td><td>SE  </td><td> 4</td></tr>\n",
       "\t<tr><th scope=row>47</th><td>DDX3X-26771 </td><td>SE  </td><td> 4</td></tr>\n",
       "\t<tr><th scope=row>48</th><td>DDX3X-26772 </td><td>SE  </td><td> 4</td></tr>\n",
       "\t<tr><th scope=row>49</th><td>DDX3X-26783 </td><td>SE  </td><td> 4</td></tr>\n",
       "\t<tr><th scope=row>50</th><td>GPC3-13171  </td><td>SE  </td><td> 4</td></tr>\n",
       "</tbody>\n",
       "</table>\n"
      ],
      "text/latex": [
       "A data.frame: 50 × 3\n",
       "\\begin{tabular}{r|lll}\n",
       "  & GeneJunction & ASE & n\\\\\n",
       "  & <fct> & <fct> & <int>\\\\\n",
       "\\hline\n",
       "\t1 & XIST-10149   & SE   & 39\\\\\n",
       "\t2 & XIST-10152   & SE   & 39\\\\\n",
       "\t3 & XIST-10154   & SE   & 39\\\\\n",
       "\t4 & XIST-10150   & SE   & 38\\\\\n",
       "\t5 & XIST-2253    & A3SS & 36\\\\\n",
       "\t6 & XIST-2252    & A3SS & 35\\\\\n",
       "\t7 & XIST-10155   & SE   & 34\\\\\n",
       "\t8 & XIST-10151   & SE   & 32\\\\\n",
       "\t9 & KDM5C-22847  & SE   & 27\\\\\n",
       "\t10 & ZFX-13700    & SE   & 25\\\\\n",
       "\t11 & XIST-768     & MXE  & 23\\\\\n",
       "\t12 & KDM6A-22439  & SE   & 23\\\\\n",
       "\t13 & XIST-10153   & SE   & 23\\\\\n",
       "\t14 & ZFX-13702    & SE   & 21\\\\\n",
       "\t15 & DDX3X-5710   & A3SS & 13\\\\\n",
       "\t16 & DDX3X-5712   & A3SS & 12\\\\\n",
       "\t17 & PUDP-4749    & A5SS & 12\\\\\n",
       "\t18 & KDM5C-22848  & SE   & 12\\\\\n",
       "\t19 & EIF1AX-29498 & SE   & 11\\\\\n",
       "\t20 & DDX3X-3517   & A5SS &  9\\\\\n",
       "\t21 & DDX3X-4000   & RI   &  9\\\\\n",
       "\t22 & DDX3X-26774  & SE   &  9\\\\\n",
       "\t23 & JPX-29589    & SE   &  9\\\\\n",
       "\t24 & DDX3X-5711   & A3SS &  8\\\\\n",
       "\t25 & CES1-343     & SE   &  8\\\\\n",
       "\t26 & KDM5C-22849  & SE   &  8\\\\\n",
       "\t27 & PNPLA4-24158 & SE   &  8\\\\\n",
       "\t28 & DDX3X-3516   & A5SS &  7\\\\\n",
       "\t29 & DDX3X-26782  & SE   &  7\\\\\n",
       "\t30 & PUDP-36551   & SE   &  7\\\\\n",
       "\t31 & DDX3X-5706   & A3SS &  6\\\\\n",
       "\t32 & CES1-339     & SE   &  6\\\\\n",
       "\t33 & GYG2-8626    & SE   &  6\\\\\n",
       "\t34 & NLRP2-4564   & A3SS &  5\\\\\n",
       "\t35 & DDX3X-3520   & A5SS &  5\\\\\n",
       "\t36 & DDX3X-1852   & MXE  &  5\\\\\n",
       "\t37 & NLRP2-3157   & RI   &  5\\\\\n",
       "\t38 & PLCXD1-5916  & RI   &  5\\\\\n",
       "\t39 & CPAMD8-5080  & SE   &  5\\\\\n",
       "\t40 & NLRP2-21387  & SE   &  5\\\\\n",
       "\t41 & CES1-341     & SE   &  5\\\\\n",
       "\t42 & GLDC-7560    & SE   &  5\\\\\n",
       "\t43 & DDX3X-1853   & MXE  &  4\\\\\n",
       "\t44 & JCHAIN-31783 & SE   &  4\\\\\n",
       "\t45 & NOX5-35028   & SE   &  4\\\\\n",
       "\t46 & APOL4-11194  & SE   &  4\\\\\n",
       "\t47 & DDX3X-26771  & SE   &  4\\\\\n",
       "\t48 & DDX3X-26772  & SE   &  4\\\\\n",
       "\t49 & DDX3X-26783  & SE   &  4\\\\\n",
       "\t50 & GPC3-13171   & SE   &  4\\\\\n",
       "\\end{tabular}\n"
      ],
      "text/markdown": [
       "\n",
       "A data.frame: 50 × 3\n",
       "\n",
       "| <!--/--> | GeneJunction &lt;fct&gt; | ASE &lt;fct&gt; | n &lt;int&gt; |\n",
       "|---|---|---|---|\n",
       "| 1 | XIST-10149   | SE   | 39 |\n",
       "| 2 | XIST-10152   | SE   | 39 |\n",
       "| 3 | XIST-10154   | SE   | 39 |\n",
       "| 4 | XIST-10150   | SE   | 38 |\n",
       "| 5 | XIST-2253    | A3SS | 36 |\n",
       "| 6 | XIST-2252    | A3SS | 35 |\n",
       "| 7 | XIST-10155   | SE   | 34 |\n",
       "| 8 | XIST-10151   | SE   | 32 |\n",
       "| 9 | KDM5C-22847  | SE   | 27 |\n",
       "| 10 | ZFX-13700    | SE   | 25 |\n",
       "| 11 | XIST-768     | MXE  | 23 |\n",
       "| 12 | KDM6A-22439  | SE   | 23 |\n",
       "| 13 | XIST-10153   | SE   | 23 |\n",
       "| 14 | ZFX-13702    | SE   | 21 |\n",
       "| 15 | DDX3X-5710   | A3SS | 13 |\n",
       "| 16 | DDX3X-5712   | A3SS | 12 |\n",
       "| 17 | PUDP-4749    | A5SS | 12 |\n",
       "| 18 | KDM5C-22848  | SE   | 12 |\n",
       "| 19 | EIF1AX-29498 | SE   | 11 |\n",
       "| 20 | DDX3X-3517   | A5SS |  9 |\n",
       "| 21 | DDX3X-4000   | RI   |  9 |\n",
       "| 22 | DDX3X-26774  | SE   |  9 |\n",
       "| 23 | JPX-29589    | SE   |  9 |\n",
       "| 24 | DDX3X-5711   | A3SS |  8 |\n",
       "| 25 | CES1-343     | SE   |  8 |\n",
       "| 26 | KDM5C-22849  | SE   |  8 |\n",
       "| 27 | PNPLA4-24158 | SE   |  8 |\n",
       "| 28 | DDX3X-3516   | A5SS |  7 |\n",
       "| 29 | DDX3X-26782  | SE   |  7 |\n",
       "| 30 | PUDP-36551   | SE   |  7 |\n",
       "| 31 | DDX3X-5706   | A3SS |  6 |\n",
       "| 32 | CES1-339     | SE   |  6 |\n",
       "| 33 | GYG2-8626    | SE   |  6 |\n",
       "| 34 | NLRP2-4564   | A3SS |  5 |\n",
       "| 35 | DDX3X-3520   | A5SS |  5 |\n",
       "| 36 | DDX3X-1852   | MXE  |  5 |\n",
       "| 37 | NLRP2-3157   | RI   |  5 |\n",
       "| 38 | PLCXD1-5916  | RI   |  5 |\n",
       "| 39 | CPAMD8-5080  | SE   |  5 |\n",
       "| 40 | NLRP2-21387  | SE   |  5 |\n",
       "| 41 | CES1-341     | SE   |  5 |\n",
       "| 42 | GLDC-7560    | SE   |  5 |\n",
       "| 43 | DDX3X-1853   | MXE  |  4 |\n",
       "| 44 | JCHAIN-31783 | SE   |  4 |\n",
       "| 45 | NOX5-35028   | SE   |  4 |\n",
       "| 46 | APOL4-11194  | SE   |  4 |\n",
       "| 47 | DDX3X-26771  | SE   |  4 |\n",
       "| 48 | DDX3X-26772  | SE   |  4 |\n",
       "| 49 | DDX3X-26783  | SE   |  4 |\n",
       "| 50 | GPC3-13171   | SE   |  4 |\n",
       "\n"
      ],
      "text/plain": [
       "   GeneJunction ASE  n \n",
       "1  XIST-10149   SE   39\n",
       "2  XIST-10152   SE   39\n",
       "3  XIST-10154   SE   39\n",
       "4  XIST-10150   SE   38\n",
       "5  XIST-2253    A3SS 36\n",
       "6  XIST-2252    A3SS 35\n",
       "7  XIST-10155   SE   34\n",
       "8  XIST-10151   SE   32\n",
       "9  KDM5C-22847  SE   27\n",
       "10 ZFX-13700    SE   25\n",
       "11 XIST-768     MXE  23\n",
       "12 KDM6A-22439  SE   23\n",
       "13 XIST-10153   SE   23\n",
       "14 ZFX-13702    SE   21\n",
       "15 DDX3X-5710   A3SS 13\n",
       "16 DDX3X-5712   A3SS 12\n",
       "17 PUDP-4749    A5SS 12\n",
       "18 KDM5C-22848  SE   12\n",
       "19 EIF1AX-29498 SE   11\n",
       "20 DDX3X-3517   A5SS  9\n",
       "21 DDX3X-4000   RI    9\n",
       "22 DDX3X-26774  SE    9\n",
       "23 JPX-29589    SE    9\n",
       "24 DDX3X-5711   A3SS  8\n",
       "25 CES1-343     SE    8\n",
       "26 KDM5C-22849  SE    8\n",
       "27 PNPLA4-24158 SE    8\n",
       "28 DDX3X-3516   A5SS  7\n",
       "29 DDX3X-26782  SE    7\n",
       "30 PUDP-36551   SE    7\n",
       "31 DDX3X-5706   A3SS  6\n",
       "32 CES1-339     SE    6\n",
       "33 GYG2-8626    SE    6\n",
       "34 NLRP2-4564   A3SS  5\n",
       "35 DDX3X-3520   A5SS  5\n",
       "36 DDX3X-1852   MXE   5\n",
       "37 NLRP2-3157   RI    5\n",
       "38 PLCXD1-5916  RI    5\n",
       "39 CPAMD8-5080  SE    5\n",
       "40 NLRP2-21387  SE    5\n",
       "41 CES1-341     SE    5\n",
       "42 GLDC-7560    SE    5\n",
       "43 DDX3X-1853   MXE   4\n",
       "44 JCHAIN-31783 SE    4\n",
       "45 NOX5-35028   SE    4\n",
       "46 APOL4-11194  SE    4\n",
       "47 DDX3X-26771  SE    4\n",
       "48 DDX3X-26772  SE    4\n",
       "49 DDX3X-26783  SE    4\n",
       "50 GPC3-13171   SE    4"
      ]
     },
     "metadata": {},
     "output_type": "display_data"
    }
   ],
   "source": [
    "res <-   dplyr::group_by(gene_as, Tissue, GeneJunction, GeneSymbol)\n",
    "res2 <- res %>%\n",
    "        group_by(Tissue,ASE) %>%\n",
    "        count(Tissue,GeneSymbol) %>%\n",
    "        arrange(desc(n)) %>%\n",
    "        as.data.frame()\n",
    "\n",
    "res3 <- gene_as %>%\n",
    "        group_by(GeneJunction, ASE) %>%\n",
    "        count(GeneJunction, ASE) %>%\n",
    "        arrange(desc(n)) %>% \n",
    "        as.data.frame()\n",
    "\n",
    "head(res3,50)\n",
    "#   count(Tissue, GeneSymbol) %>%\n",
    "#   arrange(desc(n)) %>%\n",
    "#dim(res2) \n",
    "#genes <- as.character(unique(gene_as$GeneSymbol))\n",
    "#length(genes)\n",
    "#genes.o <- genes[order(genes)]\n",
    "#sum(length(unique_genes))\n",
    "#sum(res2[res2$GeneSymbol == \"XIST\",]$n)"
   ]
  },
  {
   "cell_type": "markdown",
   "metadata": {},
   "source": [
    "### Count splicing event by chromosome"
   ]
  },
  {
   "cell_type": "code",
   "execution_count": 91,
   "metadata": {},
   "outputs": [
    {
     "data": {
      "text/html": [
       "23"
      ],
      "text/latex": [
       "23"
      ],
      "text/markdown": [
       "23"
      ],
      "text/plain": [
       "[1] 23"
      ]
     },
     "metadata": {},
     "output_type": "display_data"
    },
    {
     "data": {
      "text/html": [
       "<table>\n",
       "<caption>A data.frame: 23 × 2</caption>\n",
       "<thead>\n",
       "\t<tr><th scope=col>chr</th><th scope=col>n</th></tr>\n",
       "\t<tr><th scope=col>&lt;fct&gt;</th><th scope=col>&lt;int&gt;</th></tr>\n",
       "</thead>\n",
       "<tbody>\n",
       "\t<tr><td>chrX </td><td>828</td></tr>\n",
       "\t<tr><td>chr1 </td><td>676</td></tr>\n",
       "\t<tr><td>chr19</td><td>468</td></tr>\n",
       "\t<tr><td>chr11</td><td>445</td></tr>\n",
       "\t<tr><td>chr2 </td><td>425</td></tr>\n",
       "\t<tr><td>chr3 </td><td>423</td></tr>\n",
       "\t<tr><td>chr17</td><td>396</td></tr>\n",
       "\t<tr><td>chr12</td><td>370</td></tr>\n",
       "\t<tr><td>chr16</td><td>339</td></tr>\n",
       "\t<tr><td>chr4 </td><td>308</td></tr>\n",
       "\t<tr><td>chr6 </td><td>274</td></tr>\n",
       "\t<tr><td>chr7 </td><td>269</td></tr>\n",
       "\t<tr><td>chr5 </td><td>247</td></tr>\n",
       "\t<tr><td>chr15</td><td>240</td></tr>\n",
       "\t<tr><td>chr8 </td><td>223</td></tr>\n",
       "\t<tr><td>chr10</td><td>222</td></tr>\n",
       "\t<tr><td>chr9 </td><td>189</td></tr>\n",
       "\t<tr><td>chr22</td><td>187</td></tr>\n",
       "\t<tr><td>chr14</td><td>174</td></tr>\n",
       "\t<tr><td>chr20</td><td>138</td></tr>\n",
       "\t<tr><td>chr18</td><td>110</td></tr>\n",
       "\t<tr><td>chr13</td><td> 79</td></tr>\n",
       "\t<tr><td>chr21</td><td> 47</td></tr>\n",
       "</tbody>\n",
       "</table>\n"
      ],
      "text/latex": [
       "A data.frame: 23 × 2\n",
       "\\begin{tabular}{ll}\n",
       " chr & n\\\\\n",
       " <fct> & <int>\\\\\n",
       "\\hline\n",
       "\t chrX  & 828\\\\\n",
       "\t chr1  & 676\\\\\n",
       "\t chr19 & 468\\\\\n",
       "\t chr11 & 445\\\\\n",
       "\t chr2  & 425\\\\\n",
       "\t chr3  & 423\\\\\n",
       "\t chr17 & 396\\\\\n",
       "\t chr12 & 370\\\\\n",
       "\t chr16 & 339\\\\\n",
       "\t chr4  & 308\\\\\n",
       "\t chr6  & 274\\\\\n",
       "\t chr7  & 269\\\\\n",
       "\t chr5  & 247\\\\\n",
       "\t chr15 & 240\\\\\n",
       "\t chr8  & 223\\\\\n",
       "\t chr10 & 222\\\\\n",
       "\t chr9  & 189\\\\\n",
       "\t chr22 & 187\\\\\n",
       "\t chr14 & 174\\\\\n",
       "\t chr20 & 138\\\\\n",
       "\t chr18 & 110\\\\\n",
       "\t chr13 &  79\\\\\n",
       "\t chr21 &  47\\\\\n",
       "\\end{tabular}\n"
      ],
      "text/markdown": [
       "\n",
       "A data.frame: 23 × 2\n",
       "\n",
       "| chr &lt;fct&gt; | n &lt;int&gt; |\n",
       "|---|---|\n",
       "| chrX  | 828 |\n",
       "| chr1  | 676 |\n",
       "| chr19 | 468 |\n",
       "| chr11 | 445 |\n",
       "| chr2  | 425 |\n",
       "| chr3  | 423 |\n",
       "| chr17 | 396 |\n",
       "| chr12 | 370 |\n",
       "| chr16 | 339 |\n",
       "| chr4  | 308 |\n",
       "| chr6  | 274 |\n",
       "| chr7  | 269 |\n",
       "| chr5  | 247 |\n",
       "| chr15 | 240 |\n",
       "| chr8  | 223 |\n",
       "| chr10 | 222 |\n",
       "| chr9  | 189 |\n",
       "| chr22 | 187 |\n",
       "| chr14 | 174 |\n",
       "| chr20 | 138 |\n",
       "| chr18 | 110 |\n",
       "| chr13 |  79 |\n",
       "| chr21 |  47 |\n",
       "\n"
      ],
      "text/plain": [
       "   chr   n  \n",
       "1  chrX  828\n",
       "2  chr1  676\n",
       "3  chr19 468\n",
       "4  chr11 445\n",
       "5  chr2  425\n",
       "6  chr3  423\n",
       "7  chr17 396\n",
       "8  chr12 370\n",
       "9  chr16 339\n",
       "10 chr4  308\n",
       "11 chr6  274\n",
       "12 chr7  269\n",
       "13 chr5  247\n",
       "14 chr15 240\n",
       "15 chr8  223\n",
       "16 chr10 222\n",
       "17 chr9  189\n",
       "18 chr22 187\n",
       "19 chr14 174\n",
       "20 chr20 138\n",
       "21 chr18 110\n",
       "22 chr13  79\n",
       "23 chr21  47"
      ]
     },
     "metadata": {},
     "output_type": "display_data"
    },
    {
     "name": "stdout",
     "output_type": "stream",
     "text": [
      "Rows: 23\n",
      "Columns: 2\n",
      "$ chr \u001b[3m\u001b[90m<fct>\u001b[39m\u001b[23m chrX, chr1, chr19, chr11, chr2, chr3, chr17, chr12, chr16, chr4, …\n",
      "$ n   \u001b[3m\u001b[90m<int>\u001b[39m\u001b[23m 828, 676, 468, 445, 425, 423, 396, 370, 339, 308, 274, 269, 247, …\n"
     ]
    }
   ],
   "source": [
    "res <- gene_as          %>% \n",
    "       group_by(chr)    %>% \n",
    "       count(chr)       %>% \n",
    "       arrange(desc(n)) %>% \n",
    "       as.data.frame()\n",
    "res$chr <- factor(res$chr, levels = res$chr)\n",
    "length(res$chr)\n",
    "res\n",
    "glimpse(res)\n",
    "write.table(res, file= \"../data/Totals_by_chr.tsv\", sep=\"\\t\", quote = FALSE, row.names=F)"
   ]
  },
  {
   "cell_type": "markdown",
   "metadata": {},
   "source": [
    "###  Count most frequent spliced genes "
   ]
  },
  {
   "cell_type": "code",
   "execution_count": 90,
   "metadata": {},
   "outputs": [
    {
     "data": {
      "text/html": [
       "3231"
      ],
      "text/latex": [
       "3231"
      ],
      "text/markdown": [
       "3231"
      ],
      "text/plain": [
       "[1] 3231"
      ]
     },
     "metadata": {},
     "output_type": "display_data"
    },
    {
     "data": {
      "text/html": [
       "<table>\n",
       "<caption>A data.frame: 6 × 2</caption>\n",
       "<thead>\n",
       "\t<tr><th></th><th scope=col>GeneSymbol</th><th scope=col>n</th></tr>\n",
       "\t<tr><th></th><th scope=col>&lt;fct&gt;</th><th scope=col>&lt;int&gt;</th></tr>\n",
       "</thead>\n",
       "<tbody>\n",
       "\t<tr><th scope=row>1</th><td>XIST </td><td>338</td></tr>\n",
       "\t<tr><th scope=row>2</th><td>DDX3X</td><td>129</td></tr>\n",
       "\t<tr><th scope=row>3</th><td>KDM5C</td><td> 49</td></tr>\n",
       "\t<tr><th scope=row>4</th><td>ZFX  </td><td> 48</td></tr>\n",
       "\t<tr><th scope=row>5</th><td>NLRP2</td><td> 29</td></tr>\n",
       "\t<tr><th scope=row>6</th><td>KDM6A</td><td> 27</td></tr>\n",
       "</tbody>\n",
       "</table>\n"
      ],
      "text/latex": [
       "A data.frame: 6 × 2\n",
       "\\begin{tabular}{r|ll}\n",
       "  & GeneSymbol & n\\\\\n",
       "  & <fct> & <int>\\\\\n",
       "\\hline\n",
       "\t1 & XIST  & 338\\\\\n",
       "\t2 & DDX3X & 129\\\\\n",
       "\t3 & KDM5C &  49\\\\\n",
       "\t4 & ZFX   &  48\\\\\n",
       "\t5 & NLRP2 &  29\\\\\n",
       "\t6 & KDM6A &  27\\\\\n",
       "\\end{tabular}\n"
      ],
      "text/markdown": [
       "\n",
       "A data.frame: 6 × 2\n",
       "\n",
       "| <!--/--> | GeneSymbol &lt;fct&gt; | n &lt;int&gt; |\n",
       "|---|---|---|\n",
       "| 1 | XIST  | 338 |\n",
       "| 2 | DDX3X | 129 |\n",
       "| 3 | KDM5C |  49 |\n",
       "| 4 | ZFX   |  48 |\n",
       "| 5 | NLRP2 |  29 |\n",
       "| 6 | KDM6A |  27 |\n",
       "\n"
      ],
      "text/plain": [
       "  GeneSymbol n  \n",
       "1 XIST       338\n",
       "2 DDX3X      129\n",
       "3 KDM5C       49\n",
       "4 ZFX         48\n",
       "5 NLRP2       29\n",
       "6 KDM6A       27"
      ]
     },
     "metadata": {},
     "output_type": "display_data"
    }
   ],
   "source": [
    "res <- gene_as %>% \n",
    "       group_by(GeneSymbol) %>% count(GeneSymbol) %>% arrange(desc(n)) %>% as.data.frame()\n",
    "res$GeneSymbol <- factor(res$GeneSymbol, levels = res$GeneSymbol)\n",
    "length(res$GeneSymbol)\n",
    "head(res)\n",
    "write.table(res, file = \"../data/Totals_by_geneSymbol.tsv\", sep = \"\\t\", quote=FALSE, row.names = F)"
   ]
  },
  {
   "cell_type": "code",
   "execution_count": null,
   "metadata": {},
   "outputs": [],
   "source": []
  },
  {
   "cell_type": "markdown",
   "metadata": {},
   "source": []
  },
  {
   "cell_type": "markdown",
   "metadata": {},
   "source": [
    "### Count most frequent splicing by tissue"
   ]
  },
  {
   "cell_type": "code",
   "execution_count": 89,
   "metadata": {},
   "outputs": [
    {
     "data": {
      "text/html": [
       "39"
      ],
      "text/latex": [
       "39"
      ],
      "text/markdown": [
       "39"
      ],
      "text/plain": [
       "[1] 39"
      ]
     },
     "metadata": {},
     "output_type": "display_data"
    },
    {
     "data": {
      "text/html": [
       "<table>\n",
       "<caption>A data.frame: 39 × 2</caption>\n",
       "<thead>\n",
       "\t<tr><th scope=col>Tissue</th><th scope=col>n</th></tr>\n",
       "\t<tr><th scope=col>&lt;fct&gt;</th><th scope=col>&lt;int&gt;</th></tr>\n",
       "</thead>\n",
       "<tbody>\n",
       "\t<tr><td>breast_mammary_tissue                </td><td>4373</td></tr>\n",
       "\t<tr><td>brain_nucleus_accumbens_basal_ganglia</td><td> 598</td></tr>\n",
       "\t<tr><td>esophagus_muscularis                 </td><td> 299</td></tr>\n",
       "\t<tr><td>artery_aorta                         </td><td> 183</td></tr>\n",
       "\t<tr><td>cells_cultured_fibroblasts           </td><td> 134</td></tr>\n",
       "\t<tr><td>thyroid                              </td><td> 119</td></tr>\n",
       "\t<tr><td>pituitary                            </td><td>  92</td></tr>\n",
       "\t<tr><td>adiposubcutaneous                    </td><td>  88</td></tr>\n",
       "\t<tr><td>spleen                               </td><td>  88</td></tr>\n",
       "\t<tr><td>muscle_skeletal                      </td><td>  82</td></tr>\n",
       "\t<tr><td>skin_sun_exposed_lower_leg           </td><td>  73</td></tr>\n",
       "\t<tr><td>adrenal_gland                        </td><td>  72</td></tr>\n",
       "\t<tr><td>adipovisceral_omentum                </td><td>  69</td></tr>\n",
       "\t<tr><td>brain_hippocampus                    </td><td>  59</td></tr>\n",
       "\t<tr><td>cells_ebv_transformed_lymphocytes    </td><td>  55</td></tr>\n",
       "\t<tr><td>artery_tibial                        </td><td>  53</td></tr>\n",
       "\t<tr><td>brain_cerebellum                     </td><td>  47</td></tr>\n",
       "\t<tr><td>liver                                </td><td>  47</td></tr>\n",
       "\t<tr><td>esophagus_gastroesophageal_junction  </td><td>  45</td></tr>\n",
       "\t<tr><td>heart_atrial_appendage               </td><td>  36</td></tr>\n",
       "\t<tr><td>esophagus_mucosa                     </td><td>  35</td></tr>\n",
       "\t<tr><td>pancreas                             </td><td>  35</td></tr>\n",
       "\t<tr><td>skin_not_sun_exposed_suprapubic      </td><td>  35</td></tr>\n",
       "\t<tr><td>brain_cortex                         </td><td>  34</td></tr>\n",
       "\t<tr><td>brain_spinal_cord_cervical_c_1       </td><td>  33</td></tr>\n",
       "\t<tr><td>lung                                 </td><td>  33</td></tr>\n",
       "\t<tr><td>artery_coronary                      </td><td>  30</td></tr>\n",
       "\t<tr><td>nerve_tibial                         </td><td>  27</td></tr>\n",
       "\t<tr><td>stomach                              </td><td>  26</td></tr>\n",
       "\t<tr><td>heart_left_ventricle                 </td><td>  25</td></tr>\n",
       "\t<tr><td>brain_hypothalamus                   </td><td>  24</td></tr>\n",
       "\t<tr><td>brain_caudate_basal_ganglia          </td><td>  22</td></tr>\n",
       "\t<tr><td>colon_transverse                     </td><td>  20</td></tr>\n",
       "\t<tr><td>small_intestine_terminal_ileum       </td><td>  20</td></tr>\n",
       "\t<tr><td>whole_blood                          </td><td>  18</td></tr>\n",
       "\t<tr><td>brain_cerebellar_hemisphere          </td><td>  13</td></tr>\n",
       "\t<tr><td>brain_putamen_basal_ganglia          </td><td>  13</td></tr>\n",
       "\t<tr><td>colon_sigmoid                        </td><td>  12</td></tr>\n",
       "\t<tr><td>brain_frontal_cortex_ba_9            </td><td>  10</td></tr>\n",
       "</tbody>\n",
       "</table>\n"
      ],
      "text/latex": [
       "A data.frame: 39 × 2\n",
       "\\begin{tabular}{ll}\n",
       " Tissue & n\\\\\n",
       " <fct> & <int>\\\\\n",
       "\\hline\n",
       "\t breast\\_mammary\\_tissue                 & 4373\\\\\n",
       "\t brain\\_nucleus\\_accumbens\\_basal\\_ganglia &  598\\\\\n",
       "\t esophagus\\_muscularis                  &  299\\\\\n",
       "\t artery\\_aorta                          &  183\\\\\n",
       "\t cells\\_cultured\\_fibroblasts            &  134\\\\\n",
       "\t thyroid                               &  119\\\\\n",
       "\t pituitary                             &   92\\\\\n",
       "\t adiposubcutaneous                     &   88\\\\\n",
       "\t spleen                                &   88\\\\\n",
       "\t muscle\\_skeletal                       &   82\\\\\n",
       "\t skin\\_sun\\_exposed\\_lower\\_leg            &   73\\\\\n",
       "\t adrenal\\_gland                         &   72\\\\\n",
       "\t adipovisceral\\_omentum                 &   69\\\\\n",
       "\t brain\\_hippocampus                     &   59\\\\\n",
       "\t cells\\_ebv\\_transformed\\_lymphocytes     &   55\\\\\n",
       "\t artery\\_tibial                         &   53\\\\\n",
       "\t brain\\_cerebellum                      &   47\\\\\n",
       "\t liver                                 &   47\\\\\n",
       "\t esophagus\\_gastroesophageal\\_junction   &   45\\\\\n",
       "\t heart\\_atrial\\_appendage                &   36\\\\\n",
       "\t esophagus\\_mucosa                      &   35\\\\\n",
       "\t pancreas                              &   35\\\\\n",
       "\t skin\\_not\\_sun\\_exposed\\_suprapubic       &   35\\\\\n",
       "\t brain\\_cortex                          &   34\\\\\n",
       "\t brain\\_spinal\\_cord\\_cervical\\_c\\_1        &   33\\\\\n",
       "\t lung                                  &   33\\\\\n",
       "\t artery\\_coronary                       &   30\\\\\n",
       "\t nerve\\_tibial                          &   27\\\\\n",
       "\t stomach                               &   26\\\\\n",
       "\t heart\\_left\\_ventricle                  &   25\\\\\n",
       "\t brain\\_hypothalamus                    &   24\\\\\n",
       "\t brain\\_caudate\\_basal\\_ganglia           &   22\\\\\n",
       "\t colon\\_transverse                      &   20\\\\\n",
       "\t small\\_intestine\\_terminal\\_ileum        &   20\\\\\n",
       "\t whole\\_blood                           &   18\\\\\n",
       "\t brain\\_cerebellar\\_hemisphere           &   13\\\\\n",
       "\t brain\\_putamen\\_basal\\_ganglia           &   13\\\\\n",
       "\t colon\\_sigmoid                         &   12\\\\\n",
       "\t brain\\_frontal\\_cortex\\_ba\\_9             &   10\\\\\n",
       "\\end{tabular}\n"
      ],
      "text/markdown": [
       "\n",
       "A data.frame: 39 × 2\n",
       "\n",
       "| Tissue &lt;fct&gt; | n &lt;int&gt; |\n",
       "|---|---|\n",
       "| breast_mammary_tissue                 | 4373 |\n",
       "| brain_nucleus_accumbens_basal_ganglia |  598 |\n",
       "| esophagus_muscularis                  |  299 |\n",
       "| artery_aorta                          |  183 |\n",
       "| cells_cultured_fibroblasts            |  134 |\n",
       "| thyroid                               |  119 |\n",
       "| pituitary                             |   92 |\n",
       "| adiposubcutaneous                     |   88 |\n",
       "| spleen                                |   88 |\n",
       "| muscle_skeletal                       |   82 |\n",
       "| skin_sun_exposed_lower_leg            |   73 |\n",
       "| adrenal_gland                         |   72 |\n",
       "| adipovisceral_omentum                 |   69 |\n",
       "| brain_hippocampus                     |   59 |\n",
       "| cells_ebv_transformed_lymphocytes     |   55 |\n",
       "| artery_tibial                         |   53 |\n",
       "| brain_cerebellum                      |   47 |\n",
       "| liver                                 |   47 |\n",
       "| esophagus_gastroesophageal_junction   |   45 |\n",
       "| heart_atrial_appendage                |   36 |\n",
       "| esophagus_mucosa                      |   35 |\n",
       "| pancreas                              |   35 |\n",
       "| skin_not_sun_exposed_suprapubic       |   35 |\n",
       "| brain_cortex                          |   34 |\n",
       "| brain_spinal_cord_cervical_c_1        |   33 |\n",
       "| lung                                  |   33 |\n",
       "| artery_coronary                       |   30 |\n",
       "| nerve_tibial                          |   27 |\n",
       "| stomach                               |   26 |\n",
       "| heart_left_ventricle                  |   25 |\n",
       "| brain_hypothalamus                    |   24 |\n",
       "| brain_caudate_basal_ganglia           |   22 |\n",
       "| colon_transverse                      |   20 |\n",
       "| small_intestine_terminal_ileum        |   20 |\n",
       "| whole_blood                           |   18 |\n",
       "| brain_cerebellar_hemisphere           |   13 |\n",
       "| brain_putamen_basal_ganglia           |   13 |\n",
       "| colon_sigmoid                         |   12 |\n",
       "| brain_frontal_cortex_ba_9             |   10 |\n",
       "\n"
      ],
      "text/plain": [
       "   Tissue                                n   \n",
       "1  breast_mammary_tissue                 4373\n",
       "2  brain_nucleus_accumbens_basal_ganglia  598\n",
       "3  esophagus_muscularis                   299\n",
       "4  artery_aorta                           183\n",
       "5  cells_cultured_fibroblasts             134\n",
       "6  thyroid                                119\n",
       "7  pituitary                               92\n",
       "8  adiposubcutaneous                       88\n",
       "9  spleen                                  88\n",
       "10 muscle_skeletal                         82\n",
       "11 skin_sun_exposed_lower_leg              73\n",
       "12 adrenal_gland                           72\n",
       "13 adipovisceral_omentum                   69\n",
       "14 brain_hippocampus                       59\n",
       "15 cells_ebv_transformed_lymphocytes       55\n",
       "16 artery_tibial                           53\n",
       "17 brain_cerebellum                        47\n",
       "18 liver                                   47\n",
       "19 esophagus_gastroesophageal_junction     45\n",
       "20 heart_atrial_appendage                  36\n",
       "21 esophagus_mucosa                        35\n",
       "22 pancreas                                35\n",
       "23 skin_not_sun_exposed_suprapubic         35\n",
       "24 brain_cortex                            34\n",
       "25 brain_spinal_cord_cervical_c_1          33\n",
       "26 lung                                    33\n",
       "27 artery_coronary                         30\n",
       "28 nerve_tibial                            27\n",
       "29 stomach                                 26\n",
       "30 heart_left_ventricle                    25\n",
       "31 brain_hypothalamus                      24\n",
       "32 brain_caudate_basal_ganglia             22\n",
       "33 colon_transverse                        20\n",
       "34 small_intestine_terminal_ileum          20\n",
       "35 whole_blood                             18\n",
       "36 brain_cerebellar_hemisphere             13\n",
       "37 brain_putamen_basal_ganglia             13\n",
       "38 colon_sigmoid                           12\n",
       "39 brain_frontal_cortex_ba_9               10"
      ]
     },
     "metadata": {},
     "output_type": "display_data"
    }
   ],
   "source": [
    "res <- gene_as %>% \n",
    "       group_by(Tissue) %>% \n",
    "       count(Tissue) %>% \n",
    "       arrange(desc(n)) %>% \n",
    "       as.data.frame()\n",
    "res$Tissue <- factor(res$Tissue, levels = res$Tissue)\n",
    "length(res$Tissue)\n",
    "res\n",
    "write.table(res, file = \"../data/Totals_by_tissue.tsv\", sep = \"\\t\", row.names = F)"
   ]
  },
  {
   "cell_type": "markdown",
   "metadata": {},
   "source": [
    "###  Significant Count by splicing type (significant == FC > 1.5 and pVal < 0.05)\n",
    "\n",
    "Our starting values were the significant events, all meeting the criteria FC > 1.5 and pVal < 0.05\n"
   ]
  },
  {
   "cell_type": "code",
   "execution_count": null,
   "metadata": {},
   "outputs": [],
   "source": [
    "res <- gene_as %>% group_by(ASE) %>% count(ASE) %>% arrange(desc(n)) %>% as.data.frame()\n",
    "res$ASE <- factor(res$ASE, levels = res$ASE)\n",
    "head(res)\n",
    "write.table(res, file= \"../data/Totals_by_splicingtype.tsv\")"
   ]
  },
  {
   "cell_type": "markdown",
   "metadata": {},
   "source": [
    "###  Significant Count by splicing type (significant == FC > 1.5 and pVal < 0.05)"
   ]
  },
  {
   "cell_type": "code",
   "execution_count": null,
   "metadata": {},
   "outputs": [],
   "source": [
    "A3SS_keep <- as.character(gene_as$ASE) %in% \"A3SS\"\n",
    "table(A3SS_keep)\n",
    "A3SS.gene_as <- data.frame(A3SS.gene_as[A3SS_keep == TRUE,])\n",
    "\n",
    "A5SS_keep <- as.character(gene_as$ASE) %in% \"A5SS\"\n",
    "table(A5SS_keep)\n",
    "A5SS.gene_as <- data.frame(A5SS.gene_as[A5SS_keep == TRUE,])\n",
    "\n",
    "MXE_keep  <- as.character(gene_as$ASE) %in% \"MXE\"\n",
    "table(MXE_keep)\n",
    "MXE.gene_as <- data.frame(MXE.gene_as[MXE_keep == TRUE,])\n",
    "\n",
    "SE_keep   <- as.character(gene_as$ASE) %in% \"SE\"\n",
    "table(SE_keep)\n",
    "SE.gene_as <- data.frame(SE.gene_as[SE_keep == TRUE,])\n",
    "\n",
    "RI_keep   <- as.character(gene_as$ASE) %in% \"RI\"\n",
    "table(RI_keep)\n",
    "RI.gene_as <- data.frame(RI.gene_as[RI_keep == TRUE,])\n",
    "\n",
    "dim(A3SS.gene_as)\n",
    "dim(A5SS.gene_as)\n",
    "dim(MXE.gene_as)\n",
    "dim(SE.gene_as)\n",
    "dim(RI.gene_as)\n"
   ]
  },
  {
   "cell_type": "code",
   "execution_count": null,
   "metadata": {},
   "outputs": [],
   "source": [
    "A3SS.res <- A3SS.gene_as %>% group_by(GeneSymbol) %>% count(GeneSymbol) %>% arrange(desc(n)) %>% as.data.frame()\n",
    "A3SS.res$GeneSymbol <- factor(A3SS.res$GeneSymbol, levels = A3SS.res$GeneSymbol)\n",
    "length(res$GeneSymbol)\n",
    "head(res)\n",
    "\n",
    "#A3SS.res <- A3SS.gene_as %>% group_by(GeneSymbol) %>% count(GeneSymbol) %>% arrange(desc(n)) %>% as.data.frame()\n",
    "#A3SS.res$GeneSymbol <- factor(A3SS.res$GeneSymbol, levels = A3SS.res$GeneSymbol)\n",
    "head(A3SS.res)"
   ]
  },
  {
   "cell_type": "code",
   "execution_count": null,
   "metadata": {},
   "outputs": [],
   "source": [
    "glimpse(data)\n",
    "\n",
    "res2 <- data             %>% \n",
    "        group_by(Tissue) %>% \n",
    "        summarise(Total = sum(Counts)) %>% \n",
    "        arrange(desc(Total)) %>% as.data.frame()\n",
    "glimpse(res2)"
   ]
  },
  {
   "cell_type": "code",
   "execution_count": null,
   "metadata": {},
   "outputs": [],
   "source": [
    "#Add number of tissues\n",
    "nTissues <- rep(NA, length(res))\n",
    "for (i in 1:nrow(res)) {\n",
    "  df_gene <- gene_as %>% filter(GeneSymbol == res$GeneSymbol[i])\n",
    "  nTissues[i] <- length(unique(df_gene$Tissue))\n",
    "}\n",
    "res$Tissues <- nTissues"
   ]
  },
  {
   "cell_type": "code",
   "execution_count": null,
   "metadata": {},
   "outputs": [],
   "source": [
    "# Genes with more than 10 splicing events\n",
    "ggplot(res[res$n > 10, ], aes(x = GeneSymbol, y = n)) +\n",
    "  geom_point(size = 4, aes(fill = Tissues, color = Tissues)) +\n",
    "  theme_bw() +\n",
    "  theme(axis.text.x = element_text(size=10, angle = 270, hjust = 0.0, vjust = 0.5),\n",
    "        axis.text.y = element_text(size=16),\n",
    "        axis.title.x = element_text(face=\"plain\", colour=\"black\", \n",
    "                                    size=14),\n",
    "        axis.title.y = element_text(face=\"plain\", colour=\"black\", \n",
    "                                    size=14),\n",
    "        legend.title=element_blank(),\n",
    "        legend.text = element_text(face=\"plain\", colour=\"black\", \n",
    "                                   size=12)) +\n",
    "  scale_fill_viridis_c(aesthetics = c(\"colour\", \"fill\"),\n",
    "                       option = \"plasma\",\n",
    "                       limits = c(1, 30), breaks = c(10, 20, 30)) +\n",
    "  ylab(paste(\"Number of sex-biased splicing events\")) +\n",
    "  xlab(\"Genes\")"
   ]
  },
  {
   "cell_type": "markdown",
   "metadata": {},
   "source": [
    "Pie chart"
   ]
  },
  {
   "cell_type": "markdown",
   "metadata": {},
   "source": [
    "Tissue specific 1 tissue\n",
    "Tissue group 2-5 tissues\n",
    "Recurrent > 5 tissues"
   ]
  },
  {
   "cell_type": "code",
   "execution_count": null,
   "metadata": {},
   "outputs": [],
   "source": [
    "#Pie chart - Number of patients with 0, 1, >1 events\n",
    "counts <- c(res %>% filter(Tissues == 1) %>% count() %>% as.numeric(),\n",
    "            res %>% filter(Tissues > 1 & Tissues < 5) %>% count() %>% as.numeric(),\n",
    "            res %>% filter(Tissues > 5) %>% count() %>% as.numeric())"
   ]
  },
  {
   "cell_type": "code",
   "execution_count": null,
   "metadata": {},
   "outputs": [],
   "source": [
    "# Define some colors ideal for black & white print\n",
    "colors <- c(\"white\",\"grey70\",\"grey90\",\"grey50\",\"black\")\n",
    "colors <- c(\"grey90\",\"grey50\", \"black\")"
   ]
  },
  {
   "cell_type": "markdown",
   "metadata": {},
   "source": [
    "Calculate the percentage for each category"
   ]
  },
  {
   "cell_type": "code",
   "execution_count": null,
   "metadata": {
    "lines_to_next_cell": 2
   },
   "outputs": [],
   "source": [
    "counts_labels <- round(counts/sum(counts) * 100, 1)\n",
    "counts_labels <- paste(counts_labels, \"%\", sep=\"\")\n",
    "counts_labels <- paste(counts_labels, counts, sep =\" \")"
   ]
  },
  {
   "cell_type": "code",
   "execution_count": null,
   "metadata": {},
   "outputs": [],
   "source": [
    "# Create a pie chart with defined heading and custom colors\n",
    "# and labels\n",
    "pie(counts, main=\"\", col=colors, labels=counts_labels,\n",
    "    cex=1.2)\n",
    "# Create a legend at the right   \n",
    "legend(1.5, 0.5, c(\"1 tissue\",\"2-5 tissues\",\"> 5 tissues\"), cex=1.2, \n",
    "       fill=colors)"
   ]
  },
  {
   "cell_type": "markdown",
   "metadata": {},
   "source": [
    "### Count most frequent spliced chromosomes\n",
    "To get an indication of which chromosome has the most frequent slicing event (regardless of type)\n",
    "We create an index based upon the number of exons per chromosome.\n",
    "\n",
    "get the annotation file, at this writing, gencode.v30.annotation.gtf\n",
    "The information as to the number of exons within the chromosome may be found there"
   ]
  },
  {
   "cell_type": "code",
   "execution_count": null,
   "metadata": {},
   "outputs": [],
   "source": [
    "message(\"getting the annotation file used in the analysis\\n\")\n",
    "setwd(\"../data\")\n",
    "system(\"wget ftp://ftp.ebi.ac.uk/pub/databases/gencode/Gencode_human/release_30/gencode.v30.annotation.gtf.gz\")\n",
    "system(\"gunzip gencode.v30.annotation.gtf.gz\")\n",
    "setwd(\"../jupyter\")\n",
    "message(\"done\\n\")"
   ]
  },
  {
   "cell_type": "markdown",
   "metadata": {},
   "source": [
    "Import the gencode annotation file and extract the exon information"
   ]
  },
  {
   "cell_type": "code",
   "execution_count": null,
   "metadata": {},
   "outputs": [],
   "source": [
    "# Number of splicing events normalized per chromosome\n",
    "library(rtracklayer)\n",
    "gencode <- import.gff(\"../data/gencode.v30.annotation.gtf\")\n",
    "exons <- gencode[ gencode$type == \"exon\", ]\n",
    "exons <- as.data.frame(exons)"
   ]
  },
  {
   "cell_type": "markdown",
   "metadata": {},
   "source": [
    "Obtain chromosomes we have splicing information for (recall we did not use chr Y in our analysis"
   ]
  },
  {
   "cell_type": "code",
   "execution_count": null,
   "metadata": {},
   "outputs": [],
   "source": [
    "all_chr <- as.character(unique(gene_as$chr))\n",
    "chr_counts <- rep(0, length(all_chr))\n",
    "exon_counts <- data.frame(chr = all_chr, counts = chr_counts)"
   ]
  },
  {
   "cell_type": "markdown",
   "metadata": {},
   "source": []
  },
  {
   "cell_type": "code",
   "execution_count": null,
   "metadata": {},
   "outputs": [],
   "source": [
    "for (i in 1:length(all_chr)) {\n",
    "  chr_counts[i] <- nrow(exons[exons$seqnames == all_chr[i], ])\n",
    "}\n",
    "glimpse (chr_counts)"
   ]
  },
  {
   "cell_type": "code",
   "execution_count": null,
   "metadata": {},
   "outputs": [],
   "source": [
    "res <- gene_as %>% group_by(chr) %>% count(chr) %>% arrange(desc(n)) %>% as.data.frame()\n",
    "glimpse(res)\n",
    "res$chr <- factor(res$chr, levels = res$chr)\n",
    "idx <- match(res$chr, exon_counts$chr)\n",
    "res$ExonCounts <- exon_counts$counts[idx]\n",
    "res$Index <- res$n / res$ExonCounts) * 1000\n",
    "res_sorted <- res %>% arrange(desc(Index))"
   ]
  },
  {
   "cell_type": "code",
   "execution_count": null,
   "metadata": {},
   "outputs": [],
   "source": []
  },
  {
   "cell_type": "code",
   "execution_count": null,
   "metadata": {},
   "outputs": [],
   "source": []
  },
  {
   "cell_type": "code",
   "execution_count": null,
   "metadata": {},
   "outputs": [],
   "source": [
    "idx <- match(res$chr, exon_counts$chr)"
   ]
  },
  {
   "cell_type": "code",
   "execution_count": null,
   "metadata": {},
   "outputs": [],
   "source": [
    "res$ExonCounts <- exon_counts$counts[idx]"
   ]
  },
  {
   "cell_type": "code",
   "execution_count": null,
   "metadata": {},
   "outputs": [],
   "source": [
    "res$Index <- (res$n / res$ExonCounts) * 1000"
   ]
  },
  {
   "cell_type": "code",
   "execution_count": null,
   "metadata": {},
   "outputs": [],
   "source": [
    "res_sorted <- res %>% arrange(desc(Index))\n",
    "res_sorted$chr <- factor(res_sorted$chr, levels = res_sorted$chr)"
   ]
  },
  {
   "cell_type": "code",
   "execution_count": null,
   "metadata": {},
   "outputs": [],
   "source": [
    "ggplot(res_sorted, aes(x = chr, y = Index, size = n)) +\n",
    "  geom_point(color = \"red\") +\n",
    "  theme_bw() +\n",
    "  theme(axis.text.x = element_text(size=10, angle = 270, hjust = 0.0, vjust = 0.5),\n",
    "        axis.text.y = element_text(size=16),\n",
    "        axis.title.x = element_text(face=\"plain\", colour=\"black\", \n",
    "                                    size=14),\n",
    "        axis.title.y = element_text(face=\"plain\", colour=\"black\", \n",
    "                                    size=14),\n",
    "        legend.title=element_blank(),\n",
    "        legend.text = element_text(face=\"plain\", colour=\"black\", \n",
    "                                   size=12)) +\n",
    "  scale_fill_viridis_c(aesthetics = c(\"colour\", \"fill\"),\n",
    "                       option = \"plasma\",\n",
    "                       limits = c(1, 650)) +\n",
    "  ylab(paste(\"Normalized Number of sex-biased ASE\")) +\n",
    "  xlab(\"Chromosomes\") +\n",
    "  guides(size = guide_legend(title = \"Number of ASE\"))"
   ]
  },
  {
   "cell_type": "code",
   "execution_count": null,
   "metadata": {},
   "outputs": [],
   "source": [
    "write.table(data,       file = \"../data/Significant_events.tsv\", sep = \"\\t\", row.names = F, quote = F)\n",
    "write.table(res_sorted, file = \"../data/SplicingIndex_chr.tsv\", sep = \"\\t\", quote = F, row.names = F)"
   ]
  },
  {
   "cell_type": "markdown",
   "metadata": {},
   "source": [
    "## Metadata\n",
    "\n",
    "For replicability and reproducibility purposes, we also print the following metadata:\n",
    "\n",
    "1. Checksums of **'artefacts'**, files generated during the analysis and stored in the folder directory **`data`**\n",
    "2. List of environment metadata, dependencies, versions of libraries using `utils::sessionInfo()` and [`devtools::session_info()`](https://devtools.r-lib.org/reference/session_info.html)"
   ]
  },
  {
   "cell_type": "markdown",
   "metadata": {},
   "source": [
    "### 1. Checksums with the sha256 algorithm"
   ]
  },
  {
   "cell_type": "code",
   "execution_count": null,
   "metadata": {},
   "outputs": [],
   "source": [
    "rm (notebookid)\n",
    "notebookid   = \"countGenesAndEvents\"\n",
    "notebookid\n",
    "\n",
    "message(\"Generating sha256 checksums of the file `../data/Totals_by_tissue.tsv` directory .. \")\n",
    "system(paste0(\"cd ../data && find . -name SplicingIndex_chr.tsv -exec sha256sum {} \\\\;  >  ../metadata/\", notebookid, \"_sha256sums.txt\"), intern = TRUE)\n",
    "message(\"Done!\\n\")\n",
    "\n",
    "message(\"Generating sha256 checksums of the file `../data/Significant_events.tsv` directory .. \")\n",
    "system(paste0(\"cd ../data && find . -name SplicingIndex_chr.tsv -exec sha256sum {} \\\\;  >  ../metadata/\", notebookid, \"_sha256sums.txt\"), intern = TRUE)\n",
    "message(\"Done!\\n\")\n",
    "\n",
    "message(\"Generating sha256 checksums of the file `../data/Significant_events.tsv` directory .. \")\n",
    "system(paste0(\"cd ../data && find . -name SplicingIndex_chr.tsv -exec sha256sum {} \\\\;  >  ../metadata/\", notebookid, \"_sha256sums.txt\"), intern = TRUE)\n",
    "message(\"Done!\\n\")\n",
    "\n",
    "\n",
    "paste0(\"../metadata/\", notebookid, \"_sha256sums.txt\")\n",
    "\n",
    "data.table::fread(paste0(\"../metadata/\", notebookid, \"_sha256sums.txt\"), header = FALSE, col.names = c(\"sha256sum\", \"file\"))"
   ]
  },
  {
   "cell_type": "markdown",
   "metadata": {},
   "source": [
    "### 2. Libraries metadata"
   ]
  },
  {
   "cell_type": "code",
   "execution_count": null,
   "metadata": {},
   "outputs": [],
   "source": [
    "dev_session_info   <- devtools::session_info()\n",
    "utils_session_info <- utils::sessionInfo()\n",
    "\n",
    "message(\"Saving `devtools::session_info()` objects in ../metadata/devtools_session_info.rds  ..\")\n",
    "saveRDS(dev_session_info, file = paste0(\"../metadata/\", notebookid, \"_devtools_session_info.rds\"))\n",
    "message(\"Done!\\n\")\n",
    "\n",
    "message(\"Saving `utils::sessionInfo()` objects in ../metadata/utils_session_info.rds  ..\")\n",
    "saveRDS(utils_session_info, file = paste0(\"../metadata/\", notebookid ,\"_utils_info.rds\"))\n",
    "message(\"Done!\\n\")\n",
    "\n",
    "dev_session_info$platform\n",
    "dev_session_info$packages[dev_session_info$packages$attached==TRUE, ]"
   ]
  },
  {
   "cell_type": "code",
   "execution_count": null,
   "metadata": {},
   "outputs": [],
   "source": []
  }
 ],
 "metadata": {
  "jupytext": {
   "cell_metadata_filter": "-all",
   "main_language": "R",
   "notebook_metadata_filter": "-all"
  },
  "kernelspec": {
   "display_name": "R",
   "language": "R",
   "name": "ir"
  },
  "language_info": {
   "codemirror_mode": "r",
   "file_extension": ".r",
   "mimetype": "text/x-r-source",
   "name": "R",
   "pygments_lexer": "r",
   "version": "3.6.1"
  }
 },
 "nbformat": 4,
 "nbformat_minor": 4
}
