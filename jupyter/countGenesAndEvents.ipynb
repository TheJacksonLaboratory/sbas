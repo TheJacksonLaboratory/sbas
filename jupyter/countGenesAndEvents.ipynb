{
 "cells": [
  {
   "cell_type": "markdown",
   "metadata": {},
   "source": [
    "# Analysis Notebook - Count Genes and Events\n",
    "\n",
    "This notebook processes the raw counts as provided by rMATS and performs some descriptive statistical analysis. It is used to produce the following outputs. \n",
    "\n",
    "## Data files created by this notebook\n",
    "Output text files are written to the ``data/`` directory (at the same level as the ``jupyter`` directory). \n",
    "\n",
    "1. **gene_as.tsv**: Alternative splicing events per gene, adjusted p-value <= 0.05, fold change >= 1.5.\n",
    "2. **all_gene_as.tsv**: all alternative splicing events\n",
    "3. **gene_dge.tsv**: Differential gene expression, adjusted p-value <= 0.05, fold change >= 1.5\n",
    "4. **genesWithCommonAS.tsv**: genes (as geneSymbol, the number of splicing events, and the number of tissues the event occurs in)\n",
    "5. **Total_AS_by_chr.tsv**: Total alternative splicing events per chromosome\n",
    "6. **Total_AS_by_geneSymbol.tsv**: Count the number of tissues in which specific genes show significant alternative splicing\n",
    "7. **DGE_by_geneSymbol.tsv***: Most highly expressed genes by tissue\n",
    "5. **Total_AS_by_tissue.tsv**: Count the number of significant splicing events per tissue\n",
    "6. **Total_AS_by_splicingtype.tsv**: Count number of significant splicing events for each of the 5' alternative splicing categories\n",
    "7. **SplicingIndex_chr.tsv**: Splicing index by chr (number of sigificant AS events per 1000 exons)"
   ]
  },
  {
   "cell_type": "code",
   "execution_count": null,
   "metadata": {},
   "outputs": [],
   "source": [
    "suppressMessages({\n",
    "    options(warn = -1) \n",
    "    library(dplyr)\n",
    "    library(tibble)\n",
    "    library(R.utils)\n",
    "    library(rtracklayer)\n",
    "})"
   ]
  },
  {
   "cell_type": "markdown",
   "metadata": {},
   "source": [
    "## 1. Download all the rMATS results\n",
    "\n",
    "Each of the alternative splicing output files are downloaded here:"
   ]
  },
  {
   "cell_type": "markdown",
   "metadata": {},
   "source": [
    "### 1.1 get released rMATS GTF annotations\n",
    "\n",
    "For each splicing type, the junctions are defined, so we have 5 specific annotated splicing specific junction ID annotation files:\n",
    "\n",
    "1. **fromGTF.A3SS.txt**: annotations for the alternative 3' splice site junctions\n",
    "2. **fromGTF.A5SS.txt**: annotations for the alternative 5' splice site junctions\n",
    "3. **fromGTF.MXE.txt**: annotations for the mutually exclusive exon junctions\n",
    "4. **fromGTF.RI.txt**: annotations for the retained introns junctions\n",
    "5. **fromGTF.SE.txt**: annotations for the skipped exon junctions"
   ]
  },
  {
   "cell_type": "markdown",
   "metadata": {},
   "source": [
    "### 1.2 Unpack the data.tar file if necessary\n",
    "To run this script, we need to import three compressed files and unpack them.\n",
    "\n",
    "| file | sha256 | filename  |\n",
    "|------|------  |-----------|\n",
    "|  1   | b0c4bb23b96d77aba7e731fa2a15dc74a34daf490312478aca94443f9a6d4e90 | results/data_as_dge.tar.gz |\n",
    "|  2   | a0c2c5a7d7cfa0a89c8a39e2f7a4c6c3ac8c6a860f721077c087614505d869cf | rmats_and_annotation.tar.gz |\n"
   ]
  },
  {
   "cell_type": "code",
   "execution_count": null,
   "metadata": {},
   "outputs": [],
   "source": [
    "## get the rmats 3.2.5 discovered/annotated junction information in GTF format\n",
    "#message(\"Decompressing fromGTF.tar.gz into ../data\")\n",
    "#system(\"mkdir -p ../data && tar xvfz ../data/fromGTF.tar.gz -C ../data\", intern = TRUE)\n",
    "system(\"gunzip ../data/fromGTF.*txt.gz\", intern = TRUE)\n",
    "message(\"Done!\\n\")"
   ]
  },
  {
   "cell_type": "markdown",
   "metadata": {},
   "source": [
    "### 2  Refined results\n",
    "We define **refined results** as (FC >= 1.5 and pVal <= 0.05) for the sex\\*as_event coefficient result for the linear model"
   ]
  },
  {
   "cell_type": "markdown",
   "metadata": {},
   "source": [
    "### 2.1 getTissueReduction"
   ]
  },
  {
   "cell_type": "code",
   "execution_count": null,
   "metadata": {},
   "outputs": [],
   "source": [
    "tissue_reduction_filename <- \"../assets/tissues.tsv\"\n",
    "tissue_reduction <- read.table(tissue_reduction_filename, header=TRUE, sep=\"\\t\",\n",
    "                               skipNul=FALSE, stringsAsFactors = FALSE)\n",
    "colnames(tissue_reduction)  <- c(\"SMTSD\",\"female\",\"male\",\"include\",\"display_name\")\n",
    "tissue_reduction <- tissue_reduction[tissue_reduction$display_name != \"n/a\",]\n",
    "tissue_reduction$display_name <- factor(tissue_reduction$display_name)\n",
    "levels(tissue_reduction$display_name)\n",
    "message(\"We extracted \", length(levels(tissue_reduction$display_name)),\" different tissues with at least 50 samples in both M & f\")"
   ]
  },
  {
   "cell_type": "markdown",
   "metadata": {},
   "source": [
    "### 2.2 Read in refined results and annotations"
   ]
  },
  {
   "cell_type": "code",
   "execution_count": null,
   "metadata": {},
   "outputs": [],
   "source": [
    "significant_results_dir = \"../data/\"\n",
    "pattern = \"model_B_sex_as_events_refined.csv\"\n",
    "files <- list.files(path = significant_results_dir, pattern = pattern)\n",
    "as_types <- c(\"a3ss\", \"a5ss\", \"mxe\", \"ri\", \"se\")\n",
    "length(files)"
   ]
  },
  {
   "cell_type": "code",
   "execution_count": null,
   "metadata": {},
   "outputs": [],
   "source": [
    "a3ss_annot <- read.table(file = \"../data/fromGTF.A3SS.txt\", sep = \"\\t\", quote = \"\\\"\", header = T, stringsAsFactors = F)\n",
    "a5ss_annot <- read.table(file = \"../data/fromGTF.A5SS.txt\", sep = \"\\t\", quote = \"\\\"\", header = T, stringsAsFactors = F)\n",
    "mxe_annot <- read.table(file = \"../data/fromGTF.MXE.txt\", sep = \"\\t\", quote = \"\\\"\", header = T, stringsAsFactors = F)\n",
    "ri_annot <- read.table(file = \"../data/fromGTF.RI.txt\", sep = \"\\t\", quote = \"\\\"\", header = T, stringsAsFactors = F)\n",
    "se_annot <- read.table(file = \"../data/fromGTF.SE.txt\", sep = \"\\t\", quote = \"\\\"\", header = T, stringsAsFactors = F)"
   ]
  },
  {
   "cell_type": "code",
   "execution_count": null,
   "metadata": {},
   "outputs": [],
   "source": [
    "head(se_annot)"
   ]
  },
  {
   "cell_type": "markdown",
   "metadata": {},
   "source": [
    "### 2.3 create_as_structure \n",
    "\n",
    "This function doees an aggregation of the alternative splicing events - good for all events and the significantly expressed events."
   ]
  },
  {
   "cell_type": "code",
   "execution_count": null,
   "metadata": {},
   "outputs": [],
   "source": [
    "create_as_structure <- function ( results_dir, files, pattern, tissue_reduction) {\n",
    "    gene_as = data.frame()\n",
    "    counts <- rep(NA, length(files))\n",
    "    message(\"\\nnumber of files:\", paste(length(files)), collapse = \"\")\n",
    "    for (i in 1:length(files)) {\n",
    "       lines  <- read.table(file=paste0(results_dir, files[i]), \n",
    "                                     header = TRUE, sep = \",\", quote = \"\\\"'\", skipNul = FALSE)\n",
    "       if (dim(lines)[1] > 0) {\n",
    "           event     <- as.vector(as.character(rownames(lines)))\n",
    "           tissue1   <- gsub(pattern,\"\", files[i], fixed = TRUE)\n",
    "           counts[i] <- dim(lines)[1]\n",
    "           event_idx <- substring(event, regexpr(\"[0-9]+$\", event))\n",
    "           res       <- data.frame()\n",
    "           if (grepl(\"^a3ss_\", files[i])) {\n",
    "               # remove the first 5 letters of the string \n",
    "               tissue2 <- substring(tissue1,6)\n",
    "               idx <- match(event_idx, a3ss_annot$ID)\n",
    "               res <- data.frame(GeneJunction <- event,\n",
    "                              ASE          <- \"A3SS\", \n",
    "                              ASE_IDX      <- idx,\n",
    "                              Tissue       <- tissue2,\n",
    "                              counts       <- counts[i],\n",
    "                              Display      <- tissue_reduction[tissue_reduction$SMTSD == tissue2, \"display_name\"],\n",
    "                              GeneSymbol   <- a3ss_annot$geneSymbol[idx],\n",
    "                              GeneID       <- a3ss_annot$GeneID[idx],\n",
    "                              chr          <- a3ss_annot$chr[idx],\n",
    "                              logFC        <- lines$logFC,\n",
    "                              AveExpr      <- lines$AveExpr,\n",
    "                              t            <- lines$t,\n",
    "                              PValue       <- lines$P.Value,\n",
    "                              AdjPVal      <- lines$adj.P.Val,\n",
    "                              B            <- lines$B)\n",
    "               colnames(res) <- c(\"GeneJunction\",\"ASE\",\"ASE_IDX\",\"Tissue\",\"counts\",\"Display\",\n",
    "                                  \"GeneSymbol\",\"GeneID\",\"chr\",\"logFC\",\"AveExpr\",\"t\",\"PValue\",\"AdjPVal\",\"B\")\n",
    "               gene_as <- rbind(gene_as,res)\n",
    "            \n",
    "           } else if (grepl(\"^a5ss_\", files[i])) {\n",
    "               # remove the first 5 letters of the string \n",
    "               tissue2 <- substring(tissue1,6)\n",
    "               idx <- match(event_idx, a5ss_annot$ID)\n",
    "               res <- data.frame(GeneJunction <- event,\n",
    "                              ASE          <- \"A5SS\", \n",
    "                              ASE_IDX      <- idx,\n",
    "                              Tissue       <- tissue2,\n",
    "                              counts       <- counts[i],\n",
    "                              Display      <- tissue_reduction[tissue_reduction$SMTSD == tissue2, \"display_name\"],\n",
    "                              GeneSymbol   <- a5ss_annot$geneSymbol[idx],\n",
    "                              GeneID       <- a5ss_annot$GeneID[idx],\n",
    "                              chr          <- a5ss_annot$chr[idx],\n",
    "                              logFC        <- lines$logFC,\n",
    "                              AveExpr      <- lines$AveExpr,\n",
    "                              t            <- lines$t,\n",
    "                              PValue       <- lines$P.Value,\n",
    "                              AdjPVal      <- lines$adj.P.Val,\n",
    "                              B            <- lines$B)\n",
    "               colnames(res) <- c(\"GeneJunction\",\"ASE\",\"ASE_IDX\",\"Tissue\",\"counts\",\"Display\",\n",
    "                               \"GeneSymbol\",\"GeneID\",\"chr\",\"logFC\",\"AveExpr\",\"t\",\"PValue\",\"AdjPVal\",\"B\")\n",
    "               gene_as <- rbind(gene_as,res)\n",
    "           } else if (grepl(\"^mxe_\", files[i])) {\n",
    "               # remove the first 4 letters of the string \n",
    "               tissue2 <- substring(tissue1,5)\n",
    "               idx <- match(event_idx, a3ss_annot$ID)\n",
    "               res <- data.frame(GeneJunction <- event,\n",
    "                              ASE          <- \"MXE\", \n",
    "                              ASE_IDX      <- idx,\n",
    "                              Tissue       <- tissue2,\n",
    "                              counts       <- counts[i],\n",
    "                              Display      <- tissue_reduction[tissue_reduction$SMTSD == tissue2, \"display_name\"],\n",
    "                              GeneSymbol   <- mxe_annot$geneSymbol[idx],\n",
    "                              GeneID       <- mxe_annot$GeneID[idx],\n",
    "                              chr          <- mxe_annot$chr[idx],\n",
    "                              logFC        <- lines$logFC,\n",
    "                              AveExpr      <- lines$AveExpr,\n",
    "                              t            <- lines$t,\n",
    "                              PValue       <- lines$P.Value,\n",
    "                              AdjPVal      <- lines$adj.P.Val,\n",
    "                              B            <- lines$B)\n",
    "               colnames(res) <- c(\"GeneJunction\",\"ASE\",\"ASE_IDX\",\"Tissue\",\"counts\",\"Display\",\n",
    "                                  \"GeneSymbol\",\"GeneID\",\"chr\",\"logFC\",\"AveExpr\",\"t\",\"PValue\",\"AdjPVal\",\"B\")\n",
    "               gene_as <- rbind(gene_as,res)\n",
    "           } else if (grepl(\"^se_\", files[i])) {\n",
    "               # remove the first 3 letters of the string \n",
    "               tissue2 <- substring(tissue1,4)\n",
    "               idx <- match(event_idx, se_annot$ID)\n",
    "               res <- data.frame(GeneJunction <- event,\n",
    "                              ASE          <- \"SE\", \n",
    "                              ASE_IDX      <- idx,\n",
    "                              Tissue       <- tissue2,\n",
    "                              counts       <- counts[i],\n",
    "                              Display      <- tissue_reduction[tissue_reduction$SMTSD == tissue2, \"display_name\"],\n",
    "                              GeneSymbol   <- se_annot$geneSymbol[idx],\n",
    "                              GeneID       <- se_annot$GeneID[idx],\n",
    "                              chr          <- se_annot$chr[idx],\n",
    "                              logFC        <- lines$logFC,\n",
    "                              AveExpr      <- lines$AveExpr,\n",
    "                              t            <- lines$t,\n",
    "                              PValue       <- lines$P.Value,\n",
    "                              AdjPVal      <- lines$adj.P.Val,\n",
    "                              B            <- lines$B)\n",
    "               colnames(res) <- c(\"GeneJunction\",\"ASE\",\"ASE_IDX\",\"Tissue\",\"counts\",\"Display\",\n",
    "                                  \"GeneSymbol\",\"GeneID\",\"chr\",\"logFC\",\"AveExpr\",\"t\",\"PValue\",\"AdjPVal\",\"B\")\n",
    "               gene_as <- rbind(gene_as,res)\n",
    "           } else if (grepl(\"^ri_\", files[i])){\n",
    "               # remove the first 3 letters of the string \n",
    "               tissue2 <- substring(tissue1,4)\n",
    "               idx <- match(event_idx, ri_annot$ID)\n",
    "               res <- data.frame(GeneJunction <- event,\n",
    "                              ASE          <- \"RI\", \n",
    "                              ASE_IDX      <- idx,\n",
    "                              Tissue       <- tissue2,\n",
    "                              counts       <- counts[i],\n",
    "                              Display      <- tissue_reduction[tissue_reduction$SMTSD == tissue2, \"display_name\"],\n",
    "                              GeneSymbol   <- ri_annot$geneSymbol[idx],\n",
    "                              GeneID       <- ri_annot$GeneID[idx],\n",
    "                              chr          <- ri_annot$chr[idx],\n",
    "                              logFC        <- lines$logFC,\n",
    "                              AveExpr      <- lines$AveExpr,\n",
    "                              t            <- lines$t,\n",
    "                              PValue       <- lines$P.Value,\n",
    "                              AdjPVal      <- lines$adj.P.Val,\n",
    "                              B            <- lines$B)\n",
    "               colnames(res) <- c(\"GeneJunction\",\"ASE\",\"ASE_IDX\",\"Tissue\",\"counts\",\"Display\",\n",
    "                                  \"GeneSymbol\",\"GeneID\",\"chr\",\"logFC\",\"AveExpr\",\"t\",\"PValue\",\"AdjPVal\",\"B\")\n",
    "               gene_as <- rbind(gene_as,res)\n",
    "           }\n",
    "        \n",
    "       } #if has sig. events\n",
    "    \n",
    "   } #for all files\n",
    "   colnames(gene_as) <- c(\"GeneJunction\",\"ASE\",\"ASE_IDX\",\"Tissue\",\"counts\",\"Display\",\"GeneSymbol\",\"GeneID\",\"chr\",\"logFC\",\"AveExpr\",\"t\",\"PValue\",\"AdjPVal\",\"B\")\n",
    "   n_unique_genes <- length(summary(as.factor(gene_as$GeneSymbol),maxsum=50000))\n",
    "   message(\"We extracted a total of \",nrow(gene_as),\" significant alternative splicing events (gene_as)\")\n",
    "   message(\"This includes \", n_unique_genes, \" total genes\")\n",
    "   return (gene_as)\n",
    "}"
   ]
  },
  {
   "cell_type": "markdown",
   "metadata": {},
   "source": [
    "### 2.4 create_dge_structure \n",
    "\n",
    "This function doees an aggregation of the differential gene expression events - good for all events and the significantly expressed events."
   ]
  },
  {
   "cell_type": "code",
   "execution_count": null,
   "metadata": {},
   "outputs": [],
   "source": [
    "create_dge_structure <- function ( results_dir, files, pattern, map_pattern, tissue_reduction) {\n",
    "   gene_dge = data.frame()\n",
    "   counts <- rep(NA, length(files))\n",
    "   for (i in 1:length(files)) {\n",
    "      lines  <- read.table(file=paste0(results_dir, files[i]), \n",
    "                                     header = TRUE, sep = \",\", quote = \"\\\"'\", skipNul = FALSE)\n",
    "      if (dim(lines)[1] > 0) {\n",
    "         tissue1    <- gsub(pattern,\"\", files[i], fixed = TRUE)\n",
    "         map_lines  <- read.table(file=paste0(paste0(results_dir, tissue1),map_pattern),\n",
    "                                     header = TRUE, sep = \",\", quote = \"\\\"'\", skipNul = FALSE)\n",
    "         counts[i]  <- dim(lines)[1]    \n",
    "         tissue1    <- gsub(pattern,\"\", files[i], fixed = TRUE)\n",
    "         map_lines  <- read.table(file=paste0(paste0(results_dir, tissue1),map_pattern),\n",
    "                                     header = TRUE, sep = \",\", quote = \"\\\"'\", skipNul = FALSE)\n",
    "         ensg_ver   <- as.vector(as.character(rownames(lines)))\n",
    "         ensg_no_ver<- as.vector(as.character(map_lines$ensg_names))\n",
    "         ensg_genes <- as.vector(as.character(map_lines$ensg_genes))\n",
    "         counts[i]  <- dim(lines)[1]  \n",
    "         res <- data.frame(Tissue       <- tissue1,\n",
    "                           ENSG_ver     <- ensg_ver,\n",
    "                           ENSG_no_ver  <- ensg_no_ver,\n",
    "                           GeneSymbol   <- ensg_genes,\n",
    "                           counts       <- counts[i],\n",
    "                           Display      <- tissue_reduction[tissue_reduction$SMTSD == tissue1, \"display_name\"],\n",
    "                           logFC        <- lines$logFC,\n",
    "                           AveExpr      <- lines$AveExpr,\n",
    "                           t            <- lines$t,\n",
    "                           PValue       <- lines$P.Value,\n",
    "                           AdjPVal      <- lines$adj.P.Val,\n",
    "                           B            <- lines$B)\n",
    "         colnames(res) <- c(\"Tissue\",\"ENSG_ver\",\"ENSG_no_ver\",\"GeneSymbol\",\"counts\",\"Display\",\n",
    "                            \"logFC\",\"AveExpr\",\"t\",\"PValue\",\"AdjPVal\",\"B\")\n",
    "         gene_dge <- rbind(gene_dge, res)\n",
    "       } #if has sig. events\n",
    "    } #for all files\n",
    "    colnames(gene_dge) <- c(\"Tissue\",\"ENSG_ver\",\"ENSG_no_ver\",\"GeneSymbol\",\"counts\",\"Display\",\n",
    "                        \"logFC\",\"AveExpr\",\"t\",\"PValue\",\"AdjPVal\",\"B\")\n",
    "    n_unique_genes <- length(summary(as.factor(gene_dge$GeneSymbol),maxsum=50000))\n",
    "    message(\"We extracted a total of \",nrow(gene_dge),\" significant differential gene events (gene_dge)\")\n",
    "    message(\"This includes \", n_unique_genes, \" total genes\")\n",
    "    return(gene_dge)\n",
    "}"
   ]
  },
  {
   "cell_type": "markdown",
   "metadata": {},
   "source": [
    "### 2.5 Read in the alternative splicing results\n",
    "\n",
    "We will create an aggregation of  all the results and all the significant results\n"
   ]
  },
  {
   "cell_type": "code",
   "execution_count": null,
   "metadata": {},
   "outputs": [],
   "source": [
    "results_dir         <- \"../data/\"\n",
    "significant_pattern <- \"_AS_model_B_sex_as_events_refined.csv\"\n",
    "significant_files   <- list.files(path = results_dir, pattern = significant_pattern)\n",
    "all_pattern         <- \"_AS_model_B_sex_as_events.csv\"\n",
    "all_files           <- list.files(path = results_dir, pattern = all_pattern)\n",
    "as_types            <- c(\"a3ss\", \"a5ss\", \"mxe\", \"ri\", \"se\")\n",
    "length(all_files)\n",
    "length(significant_files)\n",
    "\n",
    "gene_as     <- create_as_structure (results_dir      <- results_dir, \n",
    "                                    files            <- significant_files, \n",
    "                                    pattern          <- significant_pattern, \n",
    "                                    tissue_reduction <- tissue_reduction)\n",
    "all_gene_as <- create_as_structure (results_dir      <- results_dir, \n",
    "                                    files            <- all_files, \n",
    "                                    pattern          <- all_pattern, \n",
    "                                    tissue_reduction <- tissue_reduction)\n",
    "head(gene_as,2)\n",
    "head(all_gene_as, 2)\n",
    "gene_as$Tissue <- factor(gene_as$Tissue)\n",
    "write.table(gene_as, \"../data/gene_as.tsv\", quote=FALSE, sep=\"\\t\")\n",
    "write.table(all_gene_as, \"../data/all_gene_as.tsv\", quote=FALSE, sep=\"\\t\")"
   ]
  },
  {
   "cell_type": "markdown",
   "metadata": {},
   "source": [
    "### 2.6 Create a genes-id file capturing the unique gene-junction locations in a single file\n",
    "rMATS 3.2.5 unique junction ids by splicing event tied together with gene names and these identifiers useful for downstream analyses and investigations."
   ]
  },
  {
   "cell_type": "code",
   "execution_count": null,
   "metadata": {},
   "outputs": [],
   "source": [
    "results_dir         <- \"../data/\"\n",
    "significant_pattern <- \"^se_*AS_model_B_sex_as_events_refined.csv\"\n",
    "files   <- list.files(path =results_dir, pattern = glob2rx(significant_pattern))\n",
    "geneids <- data.frame()\n",
    "i = 1\n",
    "files[i]\n",
    "pattern=\"_AS_model_B_sex_as_events_refined.csv\"\n",
    "for (i in 1:length(files)) {\n",
    "    lines  <- read.table(file=paste0(results_dir, files[i]), \n",
    "                                     header = TRUE, sep = \",\", quote = \"\\\"'\", skipNul = FALSE)\n",
    "    \n",
    "    if (dim(lines)[1] > 0) {\n",
    "           event     <- as.vector(as.character(rownames(lines)))\n",
    "           tissue1   <- gsub(pattern,\"\", files[i], fixed = TRUE)\n",
    "           event_idx <- substring(event, regexpr(\"[0-9]+$\", event))\n",
    "           res       <- data.frame()\n",
    "           tissue2 <- substring(tissue1,4)\n",
    "           idx <- match(event_idx, se_annot$ID)\n",
    "           res <- data.frame(geneIDs      <- event,\n",
    "                             ID           <- event_idx,\n",
    "                             GeneSymbol   <- se_annot$geneSymbol[idx],\n",
    "                             GeneID       <- se_annot$GeneID[idx],\n",
    "                             chr          <- se_annot$chr[idx])\n",
    "           outfilename <- paste0(paste0(\"../data/se_\",tissue2),\"_geneids.tsv\")\n",
    "           write.table(res, outfilename, quote=FALSE, sep=\"\\t\")\n",
    "           \n",
    "     }\n",
    "}"
   ]
  },
  {
   "cell_type": "markdown",
   "metadata": {},
   "source": [
    "### 2.7 Read in the differential gene expression results\n",
    "\n",
    "Here we create an aggregation of al the significant results differential gene expression events."
   ]
  },
  {
   "cell_type": "code",
   "execution_count": null,
   "metadata": {},
   "outputs": [],
   "source": [
    "results_dir         <- \"../data/\"\n",
    "significant_pattern <- \"_DGE_refined.csv\"\n",
    "significant_files   <- list.files(path = results_dir, pattern = significant_pattern)\n",
    "map_pattern         <- \"_DGE_ensg_map.csv\"\n",
    "length(significant_files)\n",
    "\n",
    "gene_dge     <- create_dge_structure (results_dir      <- results_dir, \n",
    "                                      files            <- significant_files, \n",
    "                                      pattern          <- significant_pattern, \n",
    "                                      map_pattern      <- map_pattern,\n",
    "                                      tissue_reduction <- tissue_reduction)\n",
    "\n",
    "head(gene_dge,2)"
   ]
  },
  {
   "cell_type": "markdown",
   "metadata": {},
   "source": [
    "Load in the gencode.v30.annotation.gtf file for additional annotation"
   ]
  },
  {
   "cell_type": "code",
   "execution_count": null,
   "metadata": {},
   "outputs": [],
   "source": [
    "#\n",
    "# add chr information for summary data later, use the annotation we used for rMATS\n",
    "#\n",
    "if (!(\"gencode.v30.annotation.gtf.gz\" %in% list.files(\"../data/\"))) {\n",
    "    message(\"downloading gencode v30 annotation\\n\")\n",
    "    system(\"wget -O ../data/gencode.v30.annotation.gtf.gz ftp://ftp.ebi.ac.uk/pub/databases/gencode/Gencode_human/release_30/gencode.v30.annotation.gtf.gz\")\n",
    "    message(\"Done!\\n\")\n",
    "    message(\"Unzipping compressed file gencode.v30.annotation.gtf.gz..\")\n",
    "    system(\"gunzip ../data/gencode.v30.annotation.gtf.gz\", intern = TRUE)\n",
    "    message(\"Done! gencode.v30.annotation.gtf can be found in ../data/\")\n",
    "}\n",
    "gencode <- import(\"../data/gencode.v30.annotation.gtf\")\n",
    "gtf.df <- as.data.frame (gencode)\n",
    "chr_genes <- unique(gtf.df[,c(\"seqnames\",\"gene_name\",\"gene_id\")])\n",
    "colnames(chr_genes) <- c(\"chr\",\"GeneSymbol\", \"ENSG\")\n",
    "head(chr_genes)\n"
   ]
  },
  {
   "cell_type": "code",
   "execution_count": null,
   "metadata": {},
   "outputs": [],
   "source": [
    "for (i in 1:dim(chr_genes)[1]) {\n",
    "    chr_genes$ENSG[i] <- as.character(strsplit(chr_genes$ENSG[i],'\\\\.\\\\w+$'))\n",
    "}\n",
    "head(chr_genes)"
   ]
  },
  {
   "cell_type": "code",
   "execution_count": null,
   "metadata": {},
   "outputs": [],
   "source": [
    "i = 1\n",
    "chr <- rep(\"NA\",dim(gene_dge)[1])\n",
    "gene_dge$chr <- chr\n",
    "for (i in 1:dim(gene_dge)[1]) {\n",
    "    match  <- as.character(chr_genes$ENSG) %in% as.character((gene_dge$ENSG_no_ver[i]))\n",
    "    if (sum(match==TRUE)== 1) {\n",
    "        chr[i] <- as.character(chr_genes[match,]$chr)\n",
    "        gene_dge$chr[i] <- chr[i]\n",
    "    } else if (sum(match==TRUE)>1) {\n",
    "        all <- as.vector(as.character(chr_genes[match,]$chr))\n",
    "        gene_dge$chr[i] <- as.character(all[1])\n",
    "    }\n",
    "}\n",
    "head(gene_dge)\n",
    "\n",
    "write.table(gene_dge, \"../data/gene_dge.tsv\", quote=FALSE, sep=\"\\t\")"
   ]
  },
  {
   "cell_type": "markdown",
   "metadata": {},
   "source": [
    "### 2.8 Summary gene_as and gene_dge regarding events by tissue"
   ]
  },
  {
   "cell_type": "code",
   "execution_count": null,
   "metadata": {},
   "outputs": [],
   "source": [
    "XY <- gene_as %>% group_by(Tissue) %>% tally()\n",
    "XY <- XY[order(XY$n),decreasing=TRUE]\n",
    "head(XY)\n",
    "message(\"Minimum splicing events per tissue \", min(XY$n), \" maximum splicing events per tissue \", max(XY$n))\n",
    "#XY[XY$n>100,]\n",
    "sum(XY$n<100)\n",
    "\n",
    "XY <- gene_dge %>% group_by(Tissue) %>% tally()\n",
    "XY <- XY[order(XY$n),decreasing=TRUE]\n",
    "head(XY)\n",
    "message(\"Minimum gene expression events per tissue \", min(XY$n), \" maximum gene expression events per tissue \", max(XY$n))\n",
    "#XY[XY$n>100,]\n",
    "sum(XY$n<100)"
   ]
  },
  {
   "cell_type": "code",
   "execution_count": null,
   "metadata": {},
   "outputs": [],
   "source": [
    "table(gtf.df[,c(\"gene_type\")])"
   ]
  },
  {
   "cell_type": "markdown",
   "metadata": {},
   "source": [
    "### 3 Data Structures for Figures"
   ]
  },
  {
   "cell_type": "markdown",
   "metadata": {},
   "source": [
    "### 3.1 gene_as.tsv\n",
    "\n",
    "This file contains (description)\n",
    "Here is a typical line\n",
    "<pre>\n",
    "A data.frame: 6 × 15\n",
    "GeneJunction\tASE\tASE_IDX\tTissue\tcounts\tDisplay\tGeneSymbol\tGeneID\tchr\tlogFC\tAveExpr\tt\tPValue\tAdjPVal\tB\n",
    "<fct>\t<fct>\t<int>\t<fct>\t<int>\t<fct>\t<fct>\t<fct>\t<fct>\t<dbl>\t<dbl>\t<dbl>\t<dbl>\t<dbl>\t<dbl>\n",
    "1\tXIST-2253\tA3SS\t2253\tadipose_subcutaneous\t4\tAdipose (sc)\tXIST\tENSG00000229807.11\tchrX\t-4.4086049\t3.196317\t-36.488970\t4.635568e-154\t3.893877e-150\t310.016049\n",
    "2\tXIST-2252\tA3SS\t2252\tadipose_subcutaneous\t4\tAdipose (sc)\tXIST\tENSG00000229807.11\tchrX\t-2.4147126\t3.647690\t-21.921057\t1.444102e-78\t6.065229e-75\t160.028167\n",
    "3\tGREB1L-4933\tA3SS\t4933\tadipose_subcutaneous\t4\tAdipose (sc)\tGREB1L\tENSG00000141449.14\tchr18\t1.2793173\t2.115005\t7.123138\t3.052112e-12\t8.545914e-09\t16.692429\n",
    "4\tRHCG-1776\tA3SS\t1776\tadipose_subcutaneous\t4\tAdipose (sc)\tRHCG\tENSG00000140519.14\tchr15\t-0.6930009\t1.636472\t-3.922124\t9.797866e-05\t3.919146e-02\t1.142232\n",
    "5\tXIST-2253\tA3SS\t2253\tadipose_visceral_omentum\t12\tAdipose (v)\tXIST\tENSG00000229807.11\tchrX\t-4.4403352\t3.113532\t-33.950800\t2.654474e-123\t2.209585e-119\t241.826117\n",
    "6\tXIST-2252\tA3SS\t2252\tadipose_visceral_omentum\t12\tAdipose (v)\tXIST\tENSG00000229807.11\tchrX\t-2.4506832\t3.650617\t-18.890779\t2.817671e-58\t1.172715e-54\t114.731682\n",
    "</pre>\n",
    "There are 2887 significant events in the file."
   ]
  },
  {
   "cell_type": "code",
   "execution_count": null,
   "metadata": {},
   "outputs": [],
   "source": [
    "glimpse(gene_as)\n",
    "gene_as$Tissue <- factor(gene_as$Tissue)\n",
    "length(levels(gene_as$Tissue))\n",
    "table(is.na(gene_as$Display))\n",
    "table(gene_as$Display)\n",
    "colnames(gene_as)\n",
    "head(gene_as)\n",
    "tissue_reduction$display_name <- factor(tissue_reduction$display_name)"
   ]
  },
  {
   "cell_type": "code",
   "execution_count": null,
   "metadata": {},
   "outputs": [],
   "source": [
    "x_as_events <- gene_as[gene_as$chr==\"chrX\",]\n",
    "message(\"There were \",nrow(gene_as),\" total significant alternative splicing events (gene_as)\")\n",
    "message(\"There were \",nrow(x_as_events),\" total significant alternative splicing events on the X chromosome (gene_as)\")\n",
    "message(\"i.e., \", (100*nrow(x_as_events)/nrow(gene_as)), \"% of all significant AS events were on the X chromosome\")\n",
    "\n",
    "numberOfUniqueTissues <- length(summary(as.factor(gene_as$Display),maxsum=500))\n",
    "numberOfASEmechanisms <- length(summary(as.factor(gene_as$ASE),maxsum=500))\n",
    "\n",
    "message(\"gene_as now has \",numberOfUniqueTissues, \" tissues and \", numberOfASEmechanisms, \" ASE categories\")\n",
    "message(\"ASE:\")\n",
    "summary(as.factor(gene_as$ASE),maxsum=500)"
   ]
  },
  {
   "cell_type": "markdown",
   "metadata": {},
   "source": [
    "### 3.2 gene_dge.tsv\n",
    "\n",
    "This file contains (description)\n",
    "Here is a typical line\n",
    "<pre>\n",
    "Tissue  ENSG_ver        ENSG_no_ver     GeneSymbol      counts  Display logFC   AveExpr t       PValue  AdjPVal B\n",
    "1       adipose_subcutaneous    ENSG00000176728.7       ENSG00000176728 TTTY14  765     Adipose (sc)    -7.98216577151896     -0.928812923511535       -139.823010017733       0       0       1107.42326360464\n",
    "2       adipose_subcutaneous    ENSG00000231535.5       ENSG00000231535 LINC00278       765     Adipose (sc)    -6.09542040758638      -2.77656379347601       -126.913818678612       0       0       1050.36559888639\n",
    "3       adipose_subcutaneous    ENSG00000129824.15      ENSG00000129824 RPS4Y1  765     Adipose (sc)    -9.6641901864726      4.63528767282141 -125.827094717734       0       0       1041.87660796556\n",
    "4       adipose_subcutaneous    ENSG00000067646.11      ENSG00000067646 ZFY     765     Adipose (sc)    -9.50458982938477     0.672755457406984        -125.037143030325       0       0       1033.61131617113\n",
    "5       adipose_subcutaneous    ENSG00000229807.10      ENSG00000229807 XIST    765     Adipose (sc)    9.89280986473167      1.23756039627052 121.69689757218 0       0       1030.17757492281\n",
    "6       adipose_subcutaneous    ENSG00000229236.1       ENSG00000229236 TTTY10  765     Adipose (sc)    -6.20901295440725     -2.74524363170072        -122.540297482165       0       0       1029.41424065532\n",
    "7       adipose_subcutaneous    ENSG00000233864.7       ENSG00000233864 TTTY15  765     Adipose (sc)    -8.19361688496523     -0.741097276206495       -122.47199454746        0       0       1027.58175958647\n",
    "8       adipose_subcutaneous    ENSG00000260197.1       ENSG00000260197 AC010889.1      765     Adipose (sc)    -8.52835806068555      -0.686009457030557      -119.790486729538       0       0       1015.85291786821\n",
    "9       adipose_subcutaneous    ENSG00000183878.15      ENSG00000183878 UTY     765     Adipose (sc)    -9.52139275438866     1.60375445153084 -110.599936868261       0       0       953.069478992754\n",
    "</pre>\n",
    "There are 7417 significant events in the file."
   ]
  },
  {
   "cell_type": "code",
   "execution_count": null,
   "metadata": {},
   "outputs": [],
   "source": [
    "x_dge_events <- gene_dge[gene_dge$chr==\"chrX\",]\n",
    "message(\"There were \",nrow(gene_dge),\" total significant differential gene expression events (gene_dge)\")\n",
    "message(\"There were \",nrow(x_dge_events),\" total significant differential gene expression events on the X chromosome (gene_as)\")\n",
    "message(\"i.e., \", (100*nrow(x_dge_events)/nrow(gene_dge)), \"% of all significant DGE events were on the X chromosome\")\n",
    "\n",
    "numberOfUniqueTissues <- length(summary(as.factor(gene_dge$Display),maxsum=500))\n",
    "\n",
    "message(\"gene_dge now has \",numberOfUniqueTissues, \" tissues\")"
   ]
  },
  {
   "cell_type": "markdown",
   "metadata": {},
   "source": [
    "### 3.3 Count events by chromosome\n",
    "\n",
    "Count the number of significant alternative splicing events per chromosome and save to the file **Total_AS_by_chr.tsv**."
   ]
  },
  {
   "cell_type": "markdown",
   "metadata": {},
   "source": [
    "### 3.3.1 by alternative splicing events"
   ]
  },
  {
   "cell_type": "code",
   "execution_count": null,
   "metadata": {},
   "outputs": [],
   "source": [
    "total_as_by_chr <- gene_as          %>% \n",
    "                   group_by(chr)    %>% \n",
    "                   count(chr)       %>% \n",
    "                   arrange(desc(n)) %>% \n",
    "                   as.data.frame()\n",
    "total_as_by_chr$chr <- factor(total_as_by_chr$chr, levels = total_as_by_chr$chr)\n",
    "length(total_as_by_chr$chr)\n",
    "total_as_by_chr\n",
    "glimpse(total_as_by_chr)\n",
    "write.table(total_as_by_chr, file= \"../data/Total_AS_by_chr.tsv\", sep=\"\\t\", quote = FALSE, row.names=F)"
   ]
  },
  {
   "cell_type": "markdown",
   "metadata": {},
   "source": [
    "### 3.3.2 by gene expression"
   ]
  },
  {
   "cell_type": "code",
   "execution_count": null,
   "metadata": {},
   "outputs": [],
   "source": [
    "total_dge_by_chr <- gene_dge          %>% \n",
    "                   group_by(chr)    %>% \n",
    "                   count(chr)       %>% \n",
    "                   arrange(desc(n)) %>% \n",
    "                   as.data.frame()\n",
    "total_dge_by_chr$chr <- factor(total_dge_by_chr$chr, levels = total_dge_by_chr$chr)\n",
    "length(total_dge_by_chr$chr)\n",
    "total_dge_by_chr\n",
    "glimpse(total_dge_by_chr)\n",
    "write.table(total_dge_by_chr, file= \"../data/Total_DGE_by_chr.tsv\", sep=\"\\t\", quote = FALSE, row.names=F)"
   ]
  },
  {
   "cell_type": "markdown",
   "metadata": {},
   "source": [
    "### 3.4 Count events by genes "
   ]
  },
  {
   "cell_type": "markdown",
   "metadata": {},
   "source": [
    "### 3.4.1 by alternative splicing"
   ]
  },
  {
   "cell_type": "code",
   "execution_count": null,
   "metadata": {
    "lines_to_next_cell": 0
   },
   "outputs": [],
   "source": [
    "total_as_by_geneSymbol <- gene_as %>% \n",
    "                          group_by(GeneSymbol) %>% \n",
    "                          count(GeneSymbol)    %>% \n",
    "                          arrange(desc(n))     %>% \n",
    "                          as.data.frame()\n",
    "total_as_by_geneSymbol$GeneSymbol <- factor(total_as_by_geneSymbol$GeneSymbol, \n",
    "                                            levels = total_as_by_geneSymbol$GeneSymbol)\n",
    "length(total_as_by_geneSymbol$GeneSymbol)\n",
    "head(total_as_by_geneSymbol,10)\n",
    "write.table(total_as_by_geneSymbol, file = \"../data/Total_AS_by_geneSymbol.tsv\", sep = \"\\t\", quote=FALSE, row.names = F)"
   ]
  },
  {
   "cell_type": "markdown",
   "metadata": {},
   "source": [
    "### 3.5 Count most frequent splicing by tissue"
   ]
  },
  {
   "cell_type": "markdown",
   "metadata": {},
   "source": [
    "### 3.5.1 by alternative splicing"
   ]
  },
  {
   "cell_type": "code",
   "execution_count": null,
   "metadata": {},
   "outputs": [],
   "source": [
    "total_as_by_tissue <- gene_as %>% \n",
    "                      group_by(Display) %>% \n",
    "                      count(Display)    %>% \n",
    "                      arrange(desc(n))  %>% \n",
    "                      as.data.frame()\n",
    "total_as_by_tissue$Display <- factor(total_as_by_tissue$Display, \n",
    "                                     levels = total_as_by_tissue$Display)\n",
    "head(total_as_by_tissue,10)\n",
    "length(total_as_by_tissue$Display)\n",
    "write.table(total_as_by_tissue, file = \"../data/Total_AS_by_tissue.tsv\", sep = \"\\t\", row.names = F)"
   ]
  },
  {
   "cell_type": "markdown",
   "metadata": {},
   "source": [
    "### 3.5.2 by gene expression"
   ]
  },
  {
   "cell_type": "code",
   "execution_count": null,
   "metadata": {},
   "outputs": [],
   "source": [
    "#glimpse(gene_dge)\n",
    "gene_dge$GeneSymbol <- factor(gene_dge$GeneSymbol)\n",
    "total_dge_by_tissue <- gene_dge %>% \n",
    "                          select(c(GeneSymbol, Display, logFC)) %>%\n",
    "                          group_by(Display) %>%\n",
    "                          arrange(desc(logFC)) %>%\n",
    "                          tally() %>%\n",
    "                          arrange(desc(n)) %>%\n",
    "                          as.data.frame()\n",
    "head(total_dge_by_tissue,10)\n",
    "length(total_dge_by_tissue$Display)\n",
    "write.table(total_dge_by_tissue, file = \"../data/Total_DGE_by_tissue.tsv\", sep = \"\\t\", quote=FALSE, row.names = F)"
   ]
  },
  {
   "cell_type": "markdown",
   "metadata": {},
   "source": [
    "###  3.6 Significant Count by splicing type \n",
    "We define **significant** to be FC > 1.5 and pVal < 0.05\n",
    "\n",
    "Our starting values were the significant events, all meeting the criteria FC > 1.5 and pVal < 0.05\n"
   ]
  },
  {
   "cell_type": "code",
   "execution_count": null,
   "metadata": {},
   "outputs": [],
   "source": [
    "total_as_by_splicingtype <- gene_as %>% \n",
    "                            group_by(ASE)    %>% \n",
    "                            count(ASE)       %>% \n",
    "                            arrange(desc(n)) %>%\n",
    "                            as.data.frame()\n",
    "total_as_by_splicingtype$ASE <- factor(total_as_by_splicingtype$ASE, levels = total_as_by_splicingtype$ASE)\n",
    "total_as_by_splicingtype\n",
    "write.table(total_as_by_splicingtype, file= \"../data/Total_AS_by_splicingtype.tsv\")"
   ]
  },
  {
   "cell_type": "markdown",
   "metadata": {},
   "source": [
    "###  3.7 Significant Count by splicing type (significant == FC > 1.5 and pVal < 0.05)"
   ]
  },
  {
   "cell_type": "code",
   "execution_count": null,
   "metadata": {
    "lines_to_next_cell": 0
   },
   "outputs": [],
   "source": [
    "A3SS_keep <- as.character(gene_as$ASE) %in% \"A3SS\"\n",
    "table(A3SS_keep)\n",
    "A3SS.gene_as <- data.frame(gene_as[A3SS_keep == TRUE,])\n",
    "\n",
    "A5SS_keep <- as.character(gene_as$ASE) %in% \"A5SS\"\n",
    "table(A5SS_keep)\n",
    "A5SS.gene_as <- data.frame(gene_as[A5SS_keep == TRUE,])\n",
    "\n",
    "MXE_keep  <- as.character(gene_as$ASE) %in% \"MXE\"\n",
    "table(MXE_keep)\n",
    "MXE.gene_as <- data.frame(gene_as[MXE_keep == TRUE,])\n",
    "\n",
    "SE_keep   <- as.character(gene_as$ASE) %in% \"SE\"\n",
    "table(SE_keep)\n",
    "SE.gene_as <- data.frame(gene_as[SE_keep == TRUE,])\n",
    "\n",
    "RI_keep   <- as.character(gene_as$ASE) %in% \"RI\"\n",
    "table(RI_keep)\n",
    "RI.gene_as <- data.frame(gene_as[RI_keep == TRUE,])\n",
    "\n",
    "dim(A3SS.gene_as)\n",
    "dim(A5SS.gene_as)\n",
    "dim(MXE.gene_as)\n",
    "dim(SE.gene_as)\n",
    "dim(RI.gene_as)\n"
   ]
  },
  {
   "cell_type": "markdown",
   "metadata": {},
   "source": [
    "### 3.8 Siginficant spliced by Gene for each splicing factor"
   ]
  },
  {
   "cell_type": "code",
   "execution_count": null,
   "metadata": {},
   "outputs": [],
   "source": [
    "A3SS.res <- A3SS.gene_as %>% group_by(GeneSymbol) %>% count(GeneSymbol) %>% arrange(desc(n)) %>% as.data.frame()\n",
    "A3SS.res$GeneSymbol <- factor(A3SS.res$GeneSymbol, levels = A3SS.res$GeneSymbol)\n",
    "message(\"Significant spliced genes for A3SS\\n\",\n",
    "        paste(length(A3SS.res$GeneSymbol)), collapse=\" \")\n",
    "head(A3SS.res)\n",
    "\n",
    "A5SS.res <- A5SS.gene_as %>% group_by(GeneSymbol) %>% count(GeneSymbol) %>% arrange(desc(n)) %>% as.data.frame()\n",
    "A5SS.res$GeneSymbol <- factor(A5SS.res$GeneSymbol, levels = A5SS.res$GeneSymbol)\n",
    "message(\"Significant spliced genes for A5SS\\n\",\n",
    "        paste(length(A5SS.res$GeneSymbol)), collapse=\" \")\n",
    "head(A5SS.res)\n",
    "\n",
    "MXE.res <- MXE.gene_as %>% group_by(GeneSymbol) %>% count(GeneSymbol) %>% arrange(desc(n)) %>% as.data.frame()\n",
    "MXE.res$GeneSymbol <- factor(MXE.res$GeneSymbol, levels = MXE.res$GeneSymbol)\n",
    "message(\"Significant spliced genes for MXE\\n\",\n",
    "        paste(length(MXE.res$GeneSymbol)), collapse=\" \")\n",
    "head(MXE.res)\n",
    "\n",
    "RI.res <- RI.gene_as %>% group_by(GeneSymbol) %>% count(GeneSymbol) %>% arrange(desc(n)) %>% as.data.frame()\n",
    "RI.res$GeneSymbol <- factor(RI.res$GeneSymbol, levels = RI.res$GeneSymbol)\n",
    "message(\"Significant spliced genes for RI\\n\",\n",
    "        paste(length(RI.res$GeneSymbol)), collapse=\" \")\n",
    "head(RI.res)\n",
    "\n",
    "SE.res <- SE.gene_as %>% group_by(GeneSymbol) %>% count(GeneSymbol) %>% arrange(desc(n)) %>% as.data.frame()\n",
    "SE.res$GeneSymbol <- factor(SE.res$GeneSymbol, levels = SE.res$GeneSymbol)\n",
    "message(\"Significant spliced genes for SE\\n\",\n",
    "        paste(length(SE.res$GeneSymbol)), collapse=\" \")\n",
    "head(SE.res)"
   ]
  },
  {
   "cell_type": "markdown",
   "metadata": {},
   "source": [
    "### 3.9 Count most frequent spliced genes"
   ]
  },
  {
   "cell_type": "code",
   "execution_count": null,
   "metadata": {},
   "outputs": [],
   "source": [
    "genesMostFrequentlySpliced <- gene_as %>% \n",
    "                              group_by(GeneSymbol) %>% \n",
    "                              count(GeneSymbol)    %>% \n",
    "                              arrange(desc(n))     %>% \n",
    "                              as.data.frame()\n",
    "genesMostFrequentlySpliced$GeneSymbol <- factor(genesMostFrequentlySpliced$GeneSymbol, \n",
    "                                                levels = genesMostFrequentlySpliced$GeneSymbol)\n",
    "length(genesMostFrequentlySpliced$GeneSymbol)\n",
    "\n",
    "#Add number of tissues\n",
    "nTissues <- rep(NA, length(genesMostFrequentlySpliced))\n",
    "for (i in 1:nrow(genesMostFrequentlySpliced)) {\n",
    "    df_gene <- gene_as %>% \n",
    "               filter(GeneSymbol == genesMostFrequentlySpliced$GeneSymbol[i])\n",
    "    nTissues[i] <- length(unique(df_gene$Tissue))\n",
    "}\n",
    "genesMostFrequentlySpliced$Tissues <- nTissues\n",
    "head(genesMostFrequentlySpliced)\n",
    "write.table(genesMostFrequentlySpliced, file = \"../data/genesWithCommonAS.tsv\", sep = \"\\t\", quote = F, row.names = F)"
   ]
  },
  {
   "cell_type": "markdown",
   "metadata": {},
   "source": [
    "### 3.10 Count most frequent spliced chromosomes\n",
    "To get an indication of which chromosome has the most frequent slicing event (regardless of type)\n",
    "We create an index based upon the number of exons per chromosome.\n",
    "\n",
    "get the annotation file, at this writing, gencode.v30.annotation.gtf\n",
    "The information as to the number of exons within the chromosome may be found there"
   ]
  },
  {
   "cell_type": "code",
   "execution_count": null,
   "metadata": {},
   "outputs": [],
   "source": [
    "exons <- gencode[ gencode$type == \"exon\", ]\n",
    "exons <- as.data.frame(exons)\n",
    "\n",
    "#Obtain chromosomes we have splicing information for (recall we did not use chr Y in our analysis)\n",
    "all_chr <- as.character(unique(gene_as$chr))\n",
    "chr_counts <- rep(0, length(all_chr))\n",
    "\n",
    "\n",
    "for (i in 1:length(all_chr)) {\n",
    "  chr_counts[i] <- nrow(exons[exons$seqnames == all_chr[i], ])\n",
    "}\n",
    "\n",
    "exon_counts <- data.frame(chr = all_chr, counts = chr_counts)\n",
    "\n",
    "# Count most frequent spliced chromosomes\n",
    "res <- gene_as %>% group_by(chr) %>% count(chr) %>% arrange(desc(n)) %>% as.data.frame()\n",
    "res$chr <- factor(res$chr, levels = res$chr)\n",
    "\n",
    "idx <- match(res$chr, exon_counts$chr)\n",
    "\n",
    "res$ExonCounts <- exon_counts$counts[idx]\n",
    "\n",
    "res$Index <- (res$n / res$ExonCounts) * 1000\n",
    "\n",
    "res_sorted <- res %>% arrange(desc(Index))\n",
    "res_sorted$chr <- factor(res_sorted$chr, levels = res_sorted$chr)\n",
    "glimpse(res_sorted)\n",
    "write.table(res_sorted, file = \"../data/SplicingIndex_chr.tsv\", sep = \"\\t\", quote = F, row.names = F)"
   ]
  },
  {
   "cell_type": "markdown",
   "metadata": {},
   "source": [
    "### 3.11 Overlap between Differential Gene Expression and Differential Alternative Splicing\n",
    "\n",
    "First gather the data"
   ]
  },
  {
   "cell_type": "code",
   "execution_count": null,
   "metadata": {},
   "outputs": [],
   "source": [
    "total_AS_Genes <- read.table(file=\"../data/Total_AS_by_geneSymbol.tsv\", header=TRUE, sep=\"\\t\",\n",
    "                               skipNul=FALSE, stringsAsFactors = FALSE)\n",
    "sigAsGenes <- sort(total_AS_Genes$GeneSymbol)\n",
    "dge <- read.table(\"../data/gene_dge.tsv\", sep = \"\\t\", header = FALSE, row.names=1, skip = 1)\n",
    "dge_genes <- sort(dge$V5)\n",
    "head(dge_genes)\n",
    "all_genes_data <- read.table(\"../assets/all_gene_as_gene_names.csv\")\n",
    "names(all_genes_data) <- c(\"GeneSymbol\", \"ensg\")\n",
    "all_genes <- sort(all_genes_data$GeneSymbol)"
   ]
  },
  {
   "cell_type": "code",
   "execution_count": null,
   "metadata": {},
   "outputs": [],
   "source": [
    "head(all_genes)"
   ]
  },
  {
   "cell_type": "markdown",
   "metadata": {},
   "source": [
    "### 3.12 We then do a hypergeometric/Fisher test to look for overrepresentation\n",
    "The universe consists of all genes with at least one read (all_genes_data).\n",
    "So we have\n",
    "\n",
    "|  \t|  DGE+| DGE-|\n",
    "|-\t|-\t|-\t|\n",
    "| DAS+|  a|  b|\n",
    "| DAS-|  c| d|"
   ]
  },
  {
   "cell_type": "code",
   "execution_count": null,
   "metadata": {},
   "outputs": [],
   "source": [
    "message(\"Number of sigAsGenes \", length(sigAsGenes))\n",
    "notSigAs <- setdiff(all_genes,sigAsGenes)\n",
    "message(\"Number of genes that are NOT sigAs \", length(notSigAs))\n",
    "message(\"Number of DGE genes\", length(dge_genes))\n",
    "notDGE <- setdiff(all_genes,dge_genes)\n",
    "message(\"Number of genes that are NOT DGE \", length(notDGE))\n",
    "a <- intersect(sigAsGenes, dge_genes)\n",
    "b <- intersect(sigAsGenes, notDGE)\n",
    "c <- intersect(notSigAs, dge_genes)\n",
    "d <- intersect(notSigAs, notDGE)\n",
    "message(\"a: \", length(a), \"; b: \",  length(b), \"; c: \",  length(c), \"; d: \",  length(d))"
   ]
  },
  {
   "cell_type": "code",
   "execution_count": null,
   "metadata": {},
   "outputs": [],
   "source": [
    "m <- matrix(c(length(a),length(b),length(c),length(d)), nrow=2,byrow = TRUE)\n",
    "fisher.test(m)"
   ]
  },
  {
   "cell_type": "markdown",
   "metadata": {},
   "source": [
    "### Appendix - Metadata\n",
    "\n",
    "For replicability and reproducibility purposes, we also print the following metadata:\n",
    "\n",
    "1. Checksums of **'artefacts'**, files generated during the analysis and stored in the folder directory **`data`**\n",
    "2. List of environment metadata, dependencies, versions of libraries using `utils::sessionInfo()` and [`devtools::session_info()`](https://devtools.r-lib.org/reference/session_info.html)"
   ]
  },
  {
   "cell_type": "markdown",
   "metadata": {},
   "source": [
    "### Appendix 1. Checksums with the sha256 algorithm"
   ]
  },
  {
   "cell_type": "code",
   "execution_count": null,
   "metadata": {},
   "outputs": [],
   "source": [
    "rm (notebookid)\n",
    "notebookid   = \"countGenesAndEvents\"\n",
    "notebookid\n",
    "\n",
    "message(\"Generating sha256 checksums of the file `../data/gene_as.tsv` directory .. \")\n",
    "system(paste0(\"cd ../data && find . -name gene_as.tsv -exec sha256sum {} \\\\;  >  ../metadata/\", notebookid, \"_sha256sums.txt\"), intern = TRUE)\n",
    "message(\"Done!\\n\")\n",
    "\n",
    "message(\"Generating sha256 checksums of the file `../data/all_gene_as.tsv` directory .. \")\n",
    "system(paste0(\"cd ../data && find . -name gene_dge.tsv -exec sha256sum {} \\\\;  >  ../metadata/\", notebookid, \"_sha256sums.txt\"), intern = TRUE)\n",
    "message(\"Done!\\n\")\n",
    "\n",
    "message(\"Generating sha256 checksums of the file `../data/gene_dge.tsv` directory .. \")\n",
    "system(paste0(\"cd ../data && find . -name gene_as.tsv -exec sha256sum {} \\\\;  >  ../metadata/\", notebookid, \"_sha256sums.txt\"), intern = TRUE)\n",
    "message(\"Done!\\n\")\n",
    "\n",
    "message(\"Generating sha256 checksums of the file `../data/Total_AS_by_chr.tsv` directory .. \")\n",
    "system(paste0(\"cd ../data && find . -name Total_AS_by_chr.tsv -exec sha256sum {} \\\\;  >  ../metadata/\", notebookid, \"_sha256sums.txt\"), intern = TRUE)\n",
    "message(\"Done!\\n\")\n",
    "\n",
    "message(\"Generating sha256 checksums of the file `../data/Total_AS_by_geneSymbol.tsv` directory .. \")\n",
    "system(paste0(\"cd ../data && find . -name Total_AS_by_geneSymbol.tsv -exec sha256sum {} \\\\;  >  ../metadata/\", notebookid, \"_sha256sums.txt\"), intern = TRUE)\n",
    "message(\"Done!\\n\")\n",
    "\n",
    "message(\"Generating sha256 checksums of the file `../data/Total_AS_by_tissue.tsv` directory .. \")\n",
    "system(paste0(\"cd ../data && find . -name Total_AS_by_tissue.tsv -exec sha256sum {} \\\\;  >  ../metadata/\", notebookid, \"_sha256sums.txt\"), intern = TRUE)\n",
    "message(\"Done!\\n\")\n",
    "\n",
    "message(\"Generating sha256 checksums of the file `../data/Total_AS_by_splicingtype.tsv` directory .. \")\n",
    "system(paste0(\"cd ../data && find . -name Total_AS_by_splicingtype.tsv -exec sha256sum {} \\\\;  >  ../metadata/\", notebookid, \"_sha256sums.txt\"), intern = TRUE)\n",
    "message(\"Done!\\n\")\n",
    "\n",
    "message(\"Generating sha256 checksums of the file `../data/genesWithCommonAS.tsv` directory .. \")\n",
    "system(paste0(\"cd ../data && find . -name genesWithCommonAS.tsv -exec sha256sum {} \\\\;  >  ../metadata/\", notebookid, \"_sha256sums.txt\"), intern = TRUE)\n",
    "message(\"Done!\\n\")\n",
    "\n",
    "message(\"Generating sha256 checksums of the file `../data/SplicingIndex_chr.tsv` directory .. \")\n",
    "system(paste0(\"cd ../data && find . -name SplicingIndex_chr.tsv -exec sha256sum {} \\\\;  >  ../metadata/\", notebookid, \"_sha256sums.txt\"), intern = TRUE)\n",
    "message(\"Done!\\n\")\n"
   ]
  },
  {
   "cell_type": "markdown",
   "metadata": {},
   "source": [
    "### Appendix 2. Libraries metadata"
   ]
  },
  {
   "cell_type": "code",
   "execution_count": null,
   "metadata": {},
   "outputs": [],
   "source": [
    "dev_session_info   <- devtools::session_info()\n",
    "utils_session_info <- utils::sessionInfo()\n",
    "\n",
    "message(\"Saving `devtools::session_info()` objects in ../metadata/devtools_session_info.rds  ..\")\n",
    "saveRDS(dev_session_info, file = paste0(\"../metadata/\", notebookid, \"_devtools_session_info.rds\"))\n",
    "message(\"Done!\\n\")\n",
    "\n",
    "message(\"Saving `utils::sessionInfo()` objects in ../metadata/utils_session_info.rds  ..\")\n",
    "saveRDS(utils_session_info, file = paste0(\"../metadata/\", notebookid ,\"_utils_info.rds\"))\n",
    "message(\"Done!\\n\")\n",
    "\n",
    "dev_session_info$platform\n",
    "dev_session_info$packages[dev_session_info$packages$attached==TRUE, ]"
   ]
  }
 ],
 "metadata": {
  "jupytext": {
   "cell_metadata_filter": "-all",
   "main_language": "R",
   "notebook_metadata_filter": "-all"
  },
  "kernelspec": {
   "display_name": "R",
   "language": "R",
   "name": "ir"
  },
  "language_info": {
   "codemirror_mode": "r",
   "file_extension": ".r",
   "mimetype": "text/x-r-source",
   "name": "R",
   "pygments_lexer": "r",
   "version": "3.6.1"
  }
 },
 "nbformat": 4,
 "nbformat_minor": 4
}
