{
 "cells": [
  {
   "cell_type": "markdown",
   "metadata": {},
   "source": [
    "# Analysis Notebook - Count Genes and Events\n",
    "\n",
    "This notebook processes the raw counts as provided by rMATS and performs some descriptive statistical analysis. It is used to produce the following outputs. \n",
    "\n",
    "## Data files created by this notebook\n",
    "Output text files are written to the ``data/`` directory (at the same level as the ``jupyter`` directory). \n",
    "\n",
    "1. **gene_AS.tsv**: Alternative splicing events per gene\n",
    "2. **genesWithCommonAS.tsv\n",
    "3. **Total_AS_by_chr.tsv**: Total alternative splicing events per chromosome\n",
    "4. **Total_AS_by_geneSymbol.tsv**: Count the number of tissues in which specific genes show significant alternative splicing\n",
    "5. **Total_AS_by_tissue.tsv**: Count the number of significant splicing events per tissue\n",
    "6. **Total_AS_by_splicingtype.tsv**: Count number of significant splicing events for each of the 5' alternative splicing categories\n",
    "7. **Significant_AS_events.tsv**: ?? Counts of significant events per slicing type per tissue\n",
    "8. **SplicingIndex_chr.tsv**: Splicing index by chr (number of sigificant AS events per 1000 exons)"
   ]
  },
  {
   "cell_type": "code",
   "execution_count": 2,
   "metadata": {},
   "outputs": [],
   "source": [
    "defaultW <- getOption(\"warn\")  # suppress warnings for this cell\n",
    "options(warn = -1) \n",
    "library(dplyr)\n",
    "library(ggplot2)\n",
    "library(limma)\n",
    "library(multtest)\n",
    "library(Biobase)\n",
    "library(edgeR)\n",
    "library(tibble)\n",
    "library(R.utils)\n",
    "library(rtracklayer)\n",
    "\n",
    "options(warn = defaultW)"
   ]
  },
  {
   "cell_type": "markdown",
   "metadata": {},
   "source": [
    "## 1. Download all the rMATS results\n",
    "\n",
    "Each of the alternative splicing output files are downloaded here:"
   ]
  },
  {
   "cell_type": "markdown",
   "metadata": {},
   "source": [
    "### 1.1 get released rMATS GTF annotations\n",
    "\n",
    "For each splicing type, the junctions are defined, so we have 5 specific annotated splicing specific junction ID annotation files:\n",
    "\n",
    "1. **fromGTF.A3SS.txt**: annotations for the alternative 3' splice site junctions\n",
    "2. **fromGTF.A5SS.txt**: annotations for the alternative 5' splice site junctions\n",
    "3. **fromGTF.MXE.txt**: annotations for the mutually exclusive exon junctions\n",
    "4. **fromGTF.RI.txt**: annotations for the retained introns junctions\n",
    "5. **fromGTF.SE.txt**: annotations for the skipped exon junctions"
   ]
  },
  {
   "cell_type": "markdown",
   "metadata": {},
   "source": [
    "## 1.2 Unpack the data.tar file if necessary\n",
    "To run this script, we need to import three compressed files and unpack them.\n",
    "\n",
    "| file | sha256 | filename  |\n",
    "|------|------  |-----------|\n",
    "|  1   | b0c4bb23b96d77aba7e731fa2a15dc74a34daf490312478aca94443f9a6d4e90 | results/data_as_dge.tar.gz |\n",
    "|  2   | a0c2c5a7d7cfa0a89c8a39e2f7a4c6c3ac8c6a860f721077c087614505d869cf | rmats_and_annotation.tar.gz |\n"
   ]
  },
  {
   "cell_type": "code",
   "execution_count": 3,
   "metadata": {},
   "outputs": [
    {
     "data": {
      "text/html": [
       "'5eeba2b5143fa00113f95642-data_as_dge.tar.gz-5eeba2b5143fa00113f95642'"
      ],
      "text/latex": [
       "'5eeba2b5143fa00113f95642-data\\_as\\_dge.tar.gz-5eeba2b5143fa00113f95642'"
      ],
      "text/markdown": [
       "'5eeba2b5143fa00113f95642-data_as_dge.tar.gz-5eeba2b5143fa00113f95642'"
      ],
      "text/plain": [
       "[1] \"5eeba2b5143fa00113f95642-data_as_dge.tar.gz-5eeba2b5143fa00113f95642\""
      ]
     },
     "metadata": {},
     "output_type": "display_data"
    },
    {
     "data": {
      "text/html": [
       "'5eeba8b0143fa00113f97976-rmats_and_annotation.tar.gz-5eeba8b0143fa00113f97976'"
      ],
      "text/latex": [
       "'5eeba8b0143fa00113f97976-rmats\\_and\\_annotation.tar.gz-5eeba8b0143fa00113f97976'"
      ],
      "text/markdown": [
       "'5eeba8b0143fa00113f97976-rmats_and_annotation.tar.gz-5eeba8b0143fa00113f97976'"
      ],
      "text/plain": [
       "[1] \"5eeba8b0143fa00113f97976-rmats_and_annotation.tar.gz-5eeba8b0143fa00113f97976\""
      ]
     },
     "metadata": {},
     "output_type": "display_data"
    }
   ],
   "source": [
    "data_as_dge_file_dir <- list.files(\"../../mounted-data\", pattern='data_as_dge.tar.gz')\n",
    "data_as_dge_file_dir\n",
    "rmats_and_annotation_dir <- list.files(\"../../mounted-data\", pattern='rmats_and_annotation.tar.gz')\n",
    "rmats_and_annotation_dir"
   ]
  },
  {
   "cell_type": "code",
   "execution_count": 4,
   "metadata": {},
   "outputs": [
    {
     "name": "stderr",
     "output_type": "stream",
     "text": [
      "In order to unpack the necessary files, execute the following commands on the shell.\n",
      "\n",
      "data_as_dge.tar.gz\n",
      "\n",
      "tar xvfz  ../../mounted-data/5eeba2b5143fa00113f95642-data_as_dge.tar.gz-5eeba2b5143fa00113f95642/robinson-bucket/notebooks/data_as_dge.tar.gz -C ../data\n",
      "\n",
      "checking sha256sum\n",
      "\n",
      "sha256sum ../../mounted-data/5eeba2b5143fa00113f95642-data_as_dge.tar.gz-5eeba2b5143fa00113f95642/robinson-bucket/notebooks/data_as_dge.tar.gz\n",
      "\n",
      "In order to unpack the necessary files, execute the following commands on the shell.\n",
      "\n",
      "rmats_and_annotation.tar.gz\n",
      "\n",
      "tar xvfz  ../../mounted-data/5eeba2b5143fa00113f95642-data_as_dge.tar.gz-5eeba2b5143fa00113f95642/robinson-bucket/notebooks/rmats_and_annotation.tar.gz -C ../data\n",
      "\n",
      "checking sha256sum\n",
      "\n",
      "sha256sum ../../mounted-data/5eeba2b5143fa00113f95642-data_as_dge.tar.gz-5eeba2b5143fa00113f95642/robinson-bucket/notebooks/rmats_and_annotation.tar.gz\n",
      "\n"
     ]
    }
   ],
   "source": [
    "data_as_dge_file_dir <- list.files(\"../../mounted-data\", pattern='data_as_dge.tar.gz')\n",
    "data_as_dge_file <- paste(\"../../mounted-data\", data_as_dge_file_dir, 'robinson-bucket/notebooks/data_as_dge', sep='/')\n",
    "data_as_dge_file_tar_gz <- paste(data_as_dge_file, '.tar.gz', sep='')\n",
    "message(\"In order to unpack the necessary files, execute the following commands on the shell.\")\n",
    "message(\"data_as_dge.tar.gz\")\n",
    "mycommand = paste(\"tar xvfz \",data_as_dge_file_tar_gz, \"-C ../data\", sep=\" \")\n",
    "message(mycommand)\n",
    "message(\"checking sha256sum\")\n",
    "mycommand = paste(\"sha256sum\", data_as_dge_file_tar_gz, sep = \" \")\n",
    "message(mycommand)\n",
    "rmats_annot_file_dir <- list.files(\"../../mounted-data\", pattern='rmats_and_annotation.tar.gz')\n",
    "rmats_annot_file <- paste(\"../../mounted-data\", data_as_dge_file_dir, 'robinson-bucket/notebooks/rmats_and_annotation', sep='/')\n",
    "rmats_annot_file_tar_gz <- paste(rmats_annot_file, '.tar.gz', sep='')\n",
    "message(\"In order to unpack the necessary files, execute the following commands on the shell.\")\n",
    "message(\"rmats_and_annotation.tar.gz\")\n",
    "mycommand = paste(\"tar xvfz \",rmats_annot_file_tar_gz, \"-C ../data\", sep=\" \")\n",
    "message(mycommand)\n",
    "message(\"checking sha256sum\")\n",
    "mycommand = paste(\"sha256sum\", rmats_annot_file_tar_gz, sep = \" \")\n",
    "message(mycommand)"
   ]
  },
  {
   "cell_type": "code",
   "execution_count": 5,
   "metadata": {},
   "outputs": [
    {
     "name": "stderr",
     "output_type": "stream",
     "text": [
      "Decompressing fromGTF.tar.gz into ../data\n",
      "\n"
     ]
    },
    {
     "data": {
      "text/html": [
       "<style>\n",
       ".list-inline {list-style: none; margin:0; padding: 0}\n",
       ".list-inline>li {display: inline-block}\n",
       ".list-inline>li:not(:last-child)::after {content: \"\\00b7\"; padding: 0 .5ex}\n",
       "</style>\n",
       "<ol class=list-inline><li>'fromGTF.A3SS.txt.gz'</li><li>'fromGTF.A5SS.txt.gz'</li><li>'fromGTF.MXE.txt.gz'</li><li>'fromGTF.RI.txt.gz'</li><li>'fromGTF.SE.txt.gz'</li><li>'fromGTF.novelEvents.A3SS.txt.gz'</li><li>'fromGTF.novelEvents.A5SS.txt.gz'</li><li>'fromGTF.novelEvents.MXE.txt.gz'</li><li>'fromGTF.novelEvents.RI.txt.gz'</li><li>'fromGTF.novelEvents.SE.txt.gz'</li></ol>\n"
      ],
      "text/latex": [
       "\\begin{enumerate*}\n",
       "\\item 'fromGTF.A3SS.txt.gz'\n",
       "\\item 'fromGTF.A5SS.txt.gz'\n",
       "\\item 'fromGTF.MXE.txt.gz'\n",
       "\\item 'fromGTF.RI.txt.gz'\n",
       "\\item 'fromGTF.SE.txt.gz'\n",
       "\\item 'fromGTF.novelEvents.A3SS.txt.gz'\n",
       "\\item 'fromGTF.novelEvents.A5SS.txt.gz'\n",
       "\\item 'fromGTF.novelEvents.MXE.txt.gz'\n",
       "\\item 'fromGTF.novelEvents.RI.txt.gz'\n",
       "\\item 'fromGTF.novelEvents.SE.txt.gz'\n",
       "\\end{enumerate*}\n"
      ],
      "text/markdown": [
       "1. 'fromGTF.A3SS.txt.gz'\n",
       "2. 'fromGTF.A5SS.txt.gz'\n",
       "3. 'fromGTF.MXE.txt.gz'\n",
       "4. 'fromGTF.RI.txt.gz'\n",
       "5. 'fromGTF.SE.txt.gz'\n",
       "6. 'fromGTF.novelEvents.A3SS.txt.gz'\n",
       "7. 'fromGTF.novelEvents.A5SS.txt.gz'\n",
       "8. 'fromGTF.novelEvents.MXE.txt.gz'\n",
       "9. 'fromGTF.novelEvents.RI.txt.gz'\n",
       "10. 'fromGTF.novelEvents.SE.txt.gz'\n",
       "\n",
       "\n"
      ],
      "text/plain": [
       " [1] \"fromGTF.A3SS.txt.gz\"             \"fromGTF.A5SS.txt.gz\"            \n",
       " [3] \"fromGTF.MXE.txt.gz\"              \"fromGTF.RI.txt.gz\"              \n",
       " [5] \"fromGTF.SE.txt.gz\"               \"fromGTF.novelEvents.A3SS.txt.gz\"\n",
       " [7] \"fromGTF.novelEvents.A5SS.txt.gz\" \"fromGTF.novelEvents.MXE.txt.gz\" \n",
       " [9] \"fromGTF.novelEvents.RI.txt.gz\"   \"fromGTF.novelEvents.SE.txt.gz\"  "
      ]
     },
     "metadata": {},
     "output_type": "display_data"
    },
    {
     "data": {
      "text/html": [],
      "text/latex": [],
      "text/markdown": [],
      "text/plain": [
       "character(0)"
      ]
     },
     "metadata": {},
     "output_type": "display_data"
    },
    {
     "name": "stderr",
     "output_type": "stream",
     "text": [
      "Done!\n",
      "\n",
      "\n"
     ]
    }
   ],
   "source": [
    "## get the rmats 3.2.5 discovered/annotated junction information in GTF format\n",
    "message(\"Decompressing fromGTF.tar.gz into ../data\")\n",
    "system(\"mkdir -p ../data && tar xvfz ../data/fromGTF.tar.gz -C ../data\", intern = TRUE)\n",
    "system(\"gunzip ../data/fromGTF.*txt.gz\", intern = TRUE)\n",
    "message(\"Done!\\n\")"
   ]
  },
  {
   "cell_type": "markdown",
   "metadata": {},
   "source": [
    "### 2  Refined results\n",
    "We define **refined results* as (FC > 1.5 and pVal < 0.05) for the sex\\*as_event coefficient result for the linear model"
   ]
  },
  {
   "cell_type": "markdown",
   "metadata": {},
   "source": [
    "### 2.1 getTissueReduction"
   ]
  },
  {
   "cell_type": "code",
   "execution_count": 6,
   "metadata": {},
   "outputs": [
    {
     "data": {
      "text/html": [
       "<style>\n",
       ".list-inline {list-style: none; margin:0; padding: 0}\n",
       ".list-inline>li {display: inline-block}\n",
       ".list-inline>li:not(:last-child)::after {content: \"\\00b7\"; padding: 0 .5ex}\n",
       "</style>\n",
       "<ol class=list-inline><li>'Adipose (sc)'</li><li>'Adipose (v)'</li><li>'Adrenal gland'</li><li>'Aorta'</li><li>'Atrial appendage'</li><li>'Breast'</li><li>'Caudate'</li><li>'Cerebellar hemisphere'</li><li>'Cerebellum'</li><li>'Coronary artery'</li><li>'Cortex'</li><li>'EBV-lymphocytes'</li><li>'Esophagus (gej)'</li><li>'Esophagus (m)'</li><li>'Esophagus (mu)'</li><li>'Fibroblasts'</li><li>'Frontal cortex'</li><li>'Hippocampus'</li><li>'Hypothalamus'</li><li>'Left ventricle'</li><li>'Liver'</li><li>'Lung'</li><li>'Nucleus accumbens'</li><li>'Pancreas'</li><li>'Pituitary'</li><li>'Putamen'</li><li>'Sigmoid colon'</li><li>'Skeletal muscle'</li><li>'Skin (exposed)'</li><li>'Skin (not exposed)'</li><li>'Small intestine'</li><li>'Spinal cord'</li><li>'Spleen'</li><li>'Stomach'</li><li>'Thyroid'</li><li>'Tibial artery'</li><li>'Tibial nerve'</li><li>'Transverse colon'</li><li>'Whole blood'</li></ol>\n"
      ],
      "text/latex": [
       "\\begin{enumerate*}\n",
       "\\item 'Adipose (sc)'\n",
       "\\item 'Adipose (v)'\n",
       "\\item 'Adrenal gland'\n",
       "\\item 'Aorta'\n",
       "\\item 'Atrial appendage'\n",
       "\\item 'Breast'\n",
       "\\item 'Caudate'\n",
       "\\item 'Cerebellar hemisphere'\n",
       "\\item 'Cerebellum'\n",
       "\\item 'Coronary artery'\n",
       "\\item 'Cortex'\n",
       "\\item 'EBV-lymphocytes'\n",
       "\\item 'Esophagus (gej)'\n",
       "\\item 'Esophagus (m)'\n",
       "\\item 'Esophagus (mu)'\n",
       "\\item 'Fibroblasts'\n",
       "\\item 'Frontal cortex'\n",
       "\\item 'Hippocampus'\n",
       "\\item 'Hypothalamus'\n",
       "\\item 'Left ventricle'\n",
       "\\item 'Liver'\n",
       "\\item 'Lung'\n",
       "\\item 'Nucleus accumbens'\n",
       "\\item 'Pancreas'\n",
       "\\item 'Pituitary'\n",
       "\\item 'Putamen'\n",
       "\\item 'Sigmoid colon'\n",
       "\\item 'Skeletal muscle'\n",
       "\\item 'Skin (exposed)'\n",
       "\\item 'Skin (not exposed)'\n",
       "\\item 'Small intestine'\n",
       "\\item 'Spinal cord'\n",
       "\\item 'Spleen'\n",
       "\\item 'Stomach'\n",
       "\\item 'Thyroid'\n",
       "\\item 'Tibial artery'\n",
       "\\item 'Tibial nerve'\n",
       "\\item 'Transverse colon'\n",
       "\\item 'Whole blood'\n",
       "\\end{enumerate*}\n"
      ],
      "text/markdown": [
       "1. 'Adipose (sc)'\n",
       "2. 'Adipose (v)'\n",
       "3. 'Adrenal gland'\n",
       "4. 'Aorta'\n",
       "5. 'Atrial appendage'\n",
       "6. 'Breast'\n",
       "7. 'Caudate'\n",
       "8. 'Cerebellar hemisphere'\n",
       "9. 'Cerebellum'\n",
       "10. 'Coronary artery'\n",
       "11. 'Cortex'\n",
       "12. 'EBV-lymphocytes'\n",
       "13. 'Esophagus (gej)'\n",
       "14. 'Esophagus (m)'\n",
       "15. 'Esophagus (mu)'\n",
       "16. 'Fibroblasts'\n",
       "17. 'Frontal cortex'\n",
       "18. 'Hippocampus'\n",
       "19. 'Hypothalamus'\n",
       "20. 'Left ventricle'\n",
       "21. 'Liver'\n",
       "22. 'Lung'\n",
       "23. 'Nucleus accumbens'\n",
       "24. 'Pancreas'\n",
       "25. 'Pituitary'\n",
       "26. 'Putamen'\n",
       "27. 'Sigmoid colon'\n",
       "28. 'Skeletal muscle'\n",
       "29. 'Skin (exposed)'\n",
       "30. 'Skin (not exposed)'\n",
       "31. 'Small intestine'\n",
       "32. 'Spinal cord'\n",
       "33. 'Spleen'\n",
       "34. 'Stomach'\n",
       "35. 'Thyroid'\n",
       "36. 'Tibial artery'\n",
       "37. 'Tibial nerve'\n",
       "38. 'Transverse colon'\n",
       "39. 'Whole blood'\n",
       "\n",
       "\n"
      ],
      "text/plain": [
       " [1] \"Adipose (sc)\"          \"Adipose (v)\"           \"Adrenal gland\"        \n",
       " [4] \"Aorta\"                 \"Atrial appendage\"      \"Breast\"               \n",
       " [7] \"Caudate\"               \"Cerebellar hemisphere\" \"Cerebellum\"           \n",
       "[10] \"Coronary artery\"       \"Cortex\"                \"EBV-lymphocytes\"      \n",
       "[13] \"Esophagus (gej)\"       \"Esophagus (m)\"         \"Esophagus (mu)\"       \n",
       "[16] \"Fibroblasts\"           \"Frontal cortex\"        \"Hippocampus\"          \n",
       "[19] \"Hypothalamus\"          \"Left ventricle\"        \"Liver\"                \n",
       "[22] \"Lung\"                  \"Nucleus accumbens\"     \"Pancreas\"             \n",
       "[25] \"Pituitary\"             \"Putamen\"               \"Sigmoid colon\"        \n",
       "[28] \"Skeletal muscle\"       \"Skin (exposed)\"        \"Skin (not exposed)\"   \n",
       "[31] \"Small intestine\"       \"Spinal cord\"           \"Spleen\"               \n",
       "[34] \"Stomach\"               \"Thyroid\"               \"Tibial artery\"        \n",
       "[37] \"Tibial nerve\"          \"Transverse colon\"      \"Whole blood\"          "
      ]
     },
     "metadata": {},
     "output_type": "display_data"
    },
    {
     "name": "stderr",
     "output_type": "stream",
     "text": [
      "We extracted 39 different tissues with at least 50 samples in both M & f\n",
      "\n"
     ]
    }
   ],
   "source": [
    "tissue_reduction_filename <- \"../assets/tissues.tsv\"\n",
    "tissue_reduction <- read.table(tissue_reduction_filename, header=TRUE, sep=\"\\t\",\n",
    "                               skipNul=FALSE, stringsAsFactors = FALSE)\n",
    "colnames(tissue_reduction)  <- c(\"SMTSD\",\"female\",\"male\",\"include\",\"display_name\")\n",
    "tissue_reduction <- tissue_reduction[tissue_reduction$display_name != \"n/a\",]\n",
    "tissue_reduction$display_name <- factor(tissue_reduction$display_name)\n",
    "levels(tissue_reduction$display_name)\n",
    "message(\"We extracted \", length(levels(tissue_reduction$display_name)),\" different tissues with at least 50 samples in both M & f\")"
   ]
  },
  {
   "cell_type": "markdown",
   "metadata": {},
   "source": [
    "### 2.2 Read in refined results and annotations"
   ]
  },
  {
   "cell_type": "code",
   "execution_count": 7,
   "metadata": {},
   "outputs": [
    {
     "data": {
      "text/html": [
       "195"
      ],
      "text/latex": [
       "195"
      ],
      "text/markdown": [
       "195"
      ],
      "text/plain": [
       "[1] 195"
      ]
     },
     "metadata": {},
     "output_type": "display_data"
    }
   ],
   "source": [
    "significant_results_dir = \"../data/\"\n",
    "pattern = \"model_B_sex_as_events_refined.csv\"\n",
    "files <- list.files(path = significant_results_dir, pattern = pattern)\n",
    "as_types <- c(\"a3ss\", \"a5ss\", \"mxe\", \"ri\", \"se\")\n",
    "length(files)"
   ]
  },
  {
   "cell_type": "code",
   "execution_count": 8,
   "metadata": {},
   "outputs": [],
   "source": [
    "a3ss_annot <- read.table(file = \"../data/fromGTF.A3SS.txt\", sep = \"\\t\", quote = \"\\\"\", header = T, stringsAsFactors = F)\n",
    "a5ss_annot <- read.table(file = \"../data/fromGTF.A5SS.txt\", sep = \"\\t\", quote = \"\\\"\", header = T, stringsAsFactors = F)\n",
    "mxe_annot <- read.table(file = \"../data/fromGTF.MXE.txt\", sep = \"\\t\", quote = \"\\\"\", header = T, stringsAsFactors = F)\n",
    "ri_annot <- read.table(file = \"../data/fromGTF.RI.txt\", sep = \"\\t\", quote = \"\\\"\", header = T, stringsAsFactors = F)\n",
    "se_annot <- read.table(file = \"../data/fromGTF.SE.txt\", sep = \"\\t\", quote = \"\\\"\", header = T, stringsAsFactors = F)"
   ]
  },
  {
   "cell_type": "code",
   "execution_count": 9,
   "metadata": {},
   "outputs": [
    {
     "data": {
      "text/html": [
       "<table>\n",
       "<caption>A data.frame: 6 × 11</caption>\n",
       "<thead>\n",
       "\t<tr><th></th><th scope=col>ID</th><th scope=col>GeneID</th><th scope=col>geneSymbol</th><th scope=col>chr</th><th scope=col>strand</th><th scope=col>exonStart_0base</th><th scope=col>exonEnd</th><th scope=col>upstreamES</th><th scope=col>upstreamEE</th><th scope=col>downstreamES</th><th scope=col>downstreamEE</th></tr>\n",
       "\t<tr><th></th><th scope=col>&lt;int&gt;</th><th scope=col>&lt;chr&gt;</th><th scope=col>&lt;chr&gt;</th><th scope=col>&lt;chr&gt;</th><th scope=col>&lt;chr&gt;</th><th scope=col>&lt;int&gt;</th><th scope=col>&lt;int&gt;</th><th scope=col>&lt;int&gt;</th><th scope=col>&lt;int&gt;</th><th scope=col>&lt;int&gt;</th><th scope=col>&lt;int&gt;</th></tr>\n",
       "</thead>\n",
       "<tbody>\n",
       "\t<tr><th scope=row>1</th><td>1</td><td>ENSG00000034152.18</td><td>MAP2K3</td><td>chr17</td><td>+</td><td>21287990</td><td>21288091</td><td>21284709</td><td>21284969</td><td>21295674</td><td>21295769</td></tr>\n",
       "\t<tr><th scope=row>2</th><td>2</td><td>ENSG00000034152.18</td><td>MAP2K3</td><td>chr17</td><td>+</td><td>21303182</td><td>21303234</td><td>21302142</td><td>21302259</td><td>21304425</td><td>21304553</td></tr>\n",
       "\t<tr><th scope=row>3</th><td>3</td><td>ENSG00000034152.18</td><td>MAP2K3</td><td>chr17</td><td>+</td><td>21295674</td><td>21295769</td><td>21287990</td><td>21288091</td><td>21296085</td><td>21296143</td></tr>\n",
       "\t<tr><th scope=row>4</th><td>4</td><td>ENSG00000034152.18</td><td>MAP2K3</td><td>chr17</td><td>+</td><td>21295674</td><td>21295769</td><td>21287990</td><td>21288091</td><td>21298412</td><td>21298479</td></tr>\n",
       "\t<tr><th scope=row>5</th><td>5</td><td>ENSG00000034152.18</td><td>MAP2K3</td><td>chr17</td><td>+</td><td>21295674</td><td>21295769</td><td>21284710</td><td>21284969</td><td>21296085</td><td>21296143</td></tr>\n",
       "\t<tr><th scope=row>6</th><td>6</td><td>ENSG00000034152.18</td><td>MAP2K3</td><td>chr17</td><td>+</td><td>21295674</td><td>21295769</td><td>21284710</td><td>21284969</td><td>21298412</td><td>21298479</td></tr>\n",
       "</tbody>\n",
       "</table>\n"
      ],
      "text/latex": [
       "A data.frame: 6 × 11\n",
       "\\begin{tabular}{r|lllllllllll}\n",
       "  & ID & GeneID & geneSymbol & chr & strand & exonStart\\_0base & exonEnd & upstreamES & upstreamEE & downstreamES & downstreamEE\\\\\n",
       "  & <int> & <chr> & <chr> & <chr> & <chr> & <int> & <int> & <int> & <int> & <int> & <int>\\\\\n",
       "\\hline\n",
       "\t1 & 1 & ENSG00000034152.18 & MAP2K3 & chr17 & + & 21287990 & 21288091 & 21284709 & 21284969 & 21295674 & 21295769\\\\\n",
       "\t2 & 2 & ENSG00000034152.18 & MAP2K3 & chr17 & + & 21303182 & 21303234 & 21302142 & 21302259 & 21304425 & 21304553\\\\\n",
       "\t3 & 3 & ENSG00000034152.18 & MAP2K3 & chr17 & + & 21295674 & 21295769 & 21287990 & 21288091 & 21296085 & 21296143\\\\\n",
       "\t4 & 4 & ENSG00000034152.18 & MAP2K3 & chr17 & + & 21295674 & 21295769 & 21287990 & 21288091 & 21298412 & 21298479\\\\\n",
       "\t5 & 5 & ENSG00000034152.18 & MAP2K3 & chr17 & + & 21295674 & 21295769 & 21284710 & 21284969 & 21296085 & 21296143\\\\\n",
       "\t6 & 6 & ENSG00000034152.18 & MAP2K3 & chr17 & + & 21295674 & 21295769 & 21284710 & 21284969 & 21298412 & 21298479\\\\\n",
       "\\end{tabular}\n"
      ],
      "text/markdown": [
       "\n",
       "A data.frame: 6 × 11\n",
       "\n",
       "| <!--/--> | ID &lt;int&gt; | GeneID &lt;chr&gt; | geneSymbol &lt;chr&gt; | chr &lt;chr&gt; | strand &lt;chr&gt; | exonStart_0base &lt;int&gt; | exonEnd &lt;int&gt; | upstreamES &lt;int&gt; | upstreamEE &lt;int&gt; | downstreamES &lt;int&gt; | downstreamEE &lt;int&gt; |\n",
       "|---|---|---|---|---|---|---|---|---|---|---|---|\n",
       "| 1 | 1 | ENSG00000034152.18 | MAP2K3 | chr17 | + | 21287990 | 21288091 | 21284709 | 21284969 | 21295674 | 21295769 |\n",
       "| 2 | 2 | ENSG00000034152.18 | MAP2K3 | chr17 | + | 21303182 | 21303234 | 21302142 | 21302259 | 21304425 | 21304553 |\n",
       "| 3 | 3 | ENSG00000034152.18 | MAP2K3 | chr17 | + | 21295674 | 21295769 | 21287990 | 21288091 | 21296085 | 21296143 |\n",
       "| 4 | 4 | ENSG00000034152.18 | MAP2K3 | chr17 | + | 21295674 | 21295769 | 21287990 | 21288091 | 21298412 | 21298479 |\n",
       "| 5 | 5 | ENSG00000034152.18 | MAP2K3 | chr17 | + | 21295674 | 21295769 | 21284710 | 21284969 | 21296085 | 21296143 |\n",
       "| 6 | 6 | ENSG00000034152.18 | MAP2K3 | chr17 | + | 21295674 | 21295769 | 21284710 | 21284969 | 21298412 | 21298479 |\n",
       "\n"
      ],
      "text/plain": [
       "  ID GeneID             geneSymbol chr   strand exonStart_0base exonEnd \n",
       "1 1  ENSG00000034152.18 MAP2K3     chr17 +      21287990        21288091\n",
       "2 2  ENSG00000034152.18 MAP2K3     chr17 +      21303182        21303234\n",
       "3 3  ENSG00000034152.18 MAP2K3     chr17 +      21295674        21295769\n",
       "4 4  ENSG00000034152.18 MAP2K3     chr17 +      21295674        21295769\n",
       "5 5  ENSG00000034152.18 MAP2K3     chr17 +      21295674        21295769\n",
       "6 6  ENSG00000034152.18 MAP2K3     chr17 +      21295674        21295769\n",
       "  upstreamES upstreamEE downstreamES downstreamEE\n",
       "1 21284709   21284969   21295674     21295769    \n",
       "2 21302142   21302259   21304425     21304553    \n",
       "3 21287990   21288091   21296085     21296143    \n",
       "4 21287990   21288091   21298412     21298479    \n",
       "5 21284710   21284969   21296085     21296143    \n",
       "6 21284710   21284969   21298412     21298479    "
      ]
     },
     "metadata": {},
     "output_type": "display_data"
    }
   ],
   "source": [
    "head(se_annot)"
   ]
  },
  {
   "cell_type": "code",
   "execution_count": 10,
   "metadata": {},
   "outputs": [
    {
     "data": {
      "text/html": [
       "195"
      ],
      "text/latex": [
       "195"
      ],
      "text/markdown": [
       "195"
      ],
      "text/plain": [
       "[1] 195"
      ]
     },
     "metadata": {},
     "output_type": "display_data"
    }
   ],
   "source": [
    "gene_as = data.frame()\n",
    "counts <- rep(NA, length(files))\n",
    "length(files)"
   ]
  },
  {
   "cell_type": "code",
   "execution_count": 11,
   "metadata": {},
   "outputs": [
    {
     "name": "stderr",
     "output_type": "stream",
     "text": [
      "We extracted a total of 6370 significant alternative splicing events (gene_as)\n",
      "\n",
      "This includes 2887 total genes\n",
      "\n"
     ]
    }
   ],
   "source": [
    "for (i in 1:length(files)) {\n",
    "    lines  <- read.table(file=paste0(significant_results_dir, files[i]), \n",
    "                                     header = TRUE, sep = \",\", quote = \"\\\"'\", skipNul = FALSE)\n",
    "#    message(paste(dim(lines)[1] >0),collapse = \"\")\n",
    "    if (dim(lines)[1] > 0) {\n",
    "        event     <- as.vector(as.character(rownames(lines)))\n",
    "        tissue1   <- gsub(\"_AS_model_B_sex_as_events_refined.csv\",\"\", files[i], fixed = TRUE)\n",
    "        counts[i] <- dim(lines)[1]\n",
    "        event_idx <- substring(event, regexpr(\"[0-9]+$\", event))\n",
    "        res       <- data.frame()\n",
    "        if (grepl(\"^a3ss_\", files[i])) {\n",
    "            # remove the first 5 letters of the string \n",
    "            tissue2 <- substring(tissue1,6)\n",
    "            idx <- match(event_idx, a3ss_annot$ID)\n",
    "            res <- data.frame(GeneJunction <- event,\n",
    "                              ASE          <- \"A3SS\", \n",
    "                              ASE_IDX      <- idx,\n",
    "                              Tissue       <- tissue2,\n",
    "                              counts       <- counts[i],\n",
    "                              Display      <- tissue_reduction[tissue_reduction$SMTSD == tissue2, \"display_name\"],\n",
    "                              GeneSymbol   <- a3ss_annot$geneSymbol[idx],\n",
    "                              GeneID       <- a3ss_annot$GeneID[idx],\n",
    "                              chr          <- a3ss_annot$chr[idx],\n",
    "                              logFC        <- lines$logFC,\n",
    "                              AveExpr      <- lines$AveExpr,\n",
    "                              t            <- lines$t,\n",
    "                              PValue       <- lines$P.Value,\n",
    "                              AdjPVal      <- lines$adj.P.Val,\n",
    "                              B            <- lines$B)\n",
    "            colnames(res) <- c(\"GeneJunction\",\"ASE\",\"ASE_IDX\",\"Tissue\",\"counts\",\"Display\",\n",
    "                               \"GeneSymbol\",\"GeneID\",\"chr\",\"logFC\",\"AveExpr\",\"t\",\"PValue\",\"AdjPVal\",\"B\")\n",
    "            gene_as <- rbind(gene_as,res)\n",
    "            \n",
    "        } else if (grepl(\"^a5ss_\", files[i])) {\n",
    "            # remove the first 5 letters of the string \n",
    "            tissue2 <- substring(tissue1,6)\n",
    "            idx <- match(event_idx, a5ss_annot$ID)\n",
    "            res <- data.frame(GeneJunction <- event,\n",
    "                              ASE          <- \"A5SS\", \n",
    "                              ASE_IDX      <- idx,\n",
    "                              Tissue       <- tissue2,\n",
    "                              counts       <- counts[i],\n",
    "                              Display      <- tissue_reduction[tissue_reduction$SMTSD == tissue2, \"display_name\"],\n",
    "                              GeneSymbol   <- a5ss_annot$geneSymbol[idx],\n",
    "                              GeneID       <- a5ss_annot$GeneID[idx],\n",
    "                              chr          <- a5ss_annot$chr[idx],\n",
    "                              logFC        <- lines$logFC,\n",
    "                              AveExpr      <- lines$AveExpr,\n",
    "                              t            <- lines$t,\n",
    "                              PValue       <- lines$P.Value,\n",
    "                              AdjPVal      <- lines$adj.P.Val,\n",
    "                              B            <- lines$B)\n",
    "            colnames(res) <- c(\"GeneJunction\",\"ASE\",\"ASE_IDX\",\"Tissue\",\"counts\",\"Display\",\n",
    "                               \"GeneSymbol\",\"GeneID\",\"chr\",\"logFC\",\"AveExpr\",\"t\",\"PValue\",\"AdjPVal\",\"B\")\n",
    "            gene_as <- rbind(gene_as,res)\n",
    "        } else if (grepl(\"^mxe_\", files[i])) {\n",
    "            # remove the first 4 letters of the string \n",
    "            tissue2 <- substring(tissue1,5)\n",
    "            idx <- match(event_idx, a3ss_annot$ID)\n",
    "            res <- data.frame(GeneJunction <- event,\n",
    "                              ASE          <- \"MXE\", \n",
    "                              ASE_IDX      <- idx,\n",
    "                              Tissue       <- tissue2,\n",
    "                              counts       <- counts[i],\n",
    "                              Display      <- tissue_reduction[tissue_reduction$SMTSD == tissue2, \"display_name\"],\n",
    "                              GeneSymbol   <- mxe_annot$geneSymbol[idx],\n",
    "                              GeneID       <- mxe_annot$GeneID[idx],\n",
    "                              chr          <- mxe_annot$chr[idx],\n",
    "                              logFC        <- lines$logFC,\n",
    "                              AveExpr      <- lines$AveExpr,\n",
    "                              t            <- lines$t,\n",
    "                              PValue       <- lines$P.Value,\n",
    "                              AdjPVal      <- lines$adj.P.Val,\n",
    "                              B            <- lines$B)\n",
    "            colnames(res) <- c(\"GeneJunction\",\"ASE\",\"ASE_IDX\",\"Tissue\",\"counts\",\"Display\",\n",
    "                               \"GeneSymbol\",\"GeneID\",\"chr\",\"logFC\",\"AveExpr\",\"t\",\"PValue\",\"AdjPVal\",\"B\")\n",
    "            gene_as <- rbind(gene_as,res)\n",
    "        } else if (grepl(\"^se_\", files[i])) {\n",
    "            # remove the first 3 letters of the string \n",
    "            tissue2 <- substring(tissue1,4)\n",
    "            idx <- match(event_idx, se_annot$ID)\n",
    "            res <- data.frame(GeneJunction <- event,\n",
    "                              ASE          <- \"SE\", \n",
    "                              ASE_IDX      <- idx,\n",
    "                              Tissue       <- tissue2,\n",
    "                              counts       <- counts[i],\n",
    "                              Display      <- tissue_reduction[tissue_reduction$SMTSD == tissue2, \"display_name\"],\n",
    "                              GeneSymbol   <- se_annot$geneSymbol[idx],\n",
    "                              GeneID       <- se_annot$GeneID[idx],\n",
    "                              chr          <- se_annot$chr[idx],\n",
    "                              logFC        <- lines$logFC,\n",
    "                              AveExpr      <- lines$AveExpr,\n",
    "                              t            <- lines$t,\n",
    "                              PValue       <- lines$P.Value,\n",
    "                              AdjPVal      <- lines$adj.P.Val,\n",
    "                              B            <- lines$B)\n",
    "            colnames(res) <- c(\"GeneJunction\",\"ASE\",\"ASE_IDX\",\"Tissue\",\"counts\",\"Display\",\n",
    "                               \"GeneSymbol\",\"GeneID\",\"chr\",\"logFC\",\"AveExpr\",\"t\",\"PValue\",\"AdjPVal\",\"B\")\n",
    "            gene_as <- rbind(gene_as,res)\n",
    "        } else if (grepl(\"^ri_\", files[i])){\n",
    "            # remove the first 3 letters of the string \n",
    "            tissue2 <- substring(tissue1,4)\n",
    "            idx <- match(event_idx, ri_annot$ID)\n",
    "            res <- data.frame(GeneJunction <- event,\n",
    "                              ASE          <- \"RI\", \n",
    "                              ASE_IDX      <- idx,\n",
    "                              Tissue       <- tissue2,\n",
    "                              counts       <- counts[i],\n",
    "                              Display      <- tissue_reduction[tissue_reduction$SMTSD == tissue2, \"display_name\"],\n",
    "                              GeneSymbol   <- ri_annot$geneSymbol[idx],\n",
    "                              GeneID       <- ri_annot$GeneID[idx],\n",
    "                              chr          <- ri_annot$chr[idx],\n",
    "                              logFC        <- lines$logFC,\n",
    "                              AveExpr      <- lines$AveExpr,\n",
    "                              t            <- lines$t,\n",
    "                              PValue       <- lines$P.Value,\n",
    "                              AdjPVal      <- lines$adj.P.Val,\n",
    "                              B            <- lines$B)\n",
    "            colnames(res) <- c(\"GeneJunction\",\"ASE\",\"ASE_IDX\",\"Tissue\",\"counts\",\"Display\",\n",
    "                               \"GeneSymbol\",\"GeneID\",\"chr\",\"logFC\",\"AveExpr\",\"t\",\"PValue\",\"AdjPVal\",\"B\")\n",
    "            gene_as <- rbind(gene_as,res)\n",
    "        }\n",
    "        \n",
    "    } #if has sig. events\n",
    "    \n",
    "} #for all files\n",
    "colnames(gene_as) <- c(\"GeneJunction\",\"ASE\",\"ASE_IDX\",\"Tissue\",\"counts\",\"Display\",\"GeneSymbol\",\"GeneID\",\"chr\",\"logFC\",\"AveExpr\",\"t\",\"PValue\",\"AdjPVal\",\"B\")\n",
    "n_unique_genes <- length(summary(as.factor(gene_as$GeneSymbol),maxsum=50000))\n",
    "message(\"We extracted a total of \",nrow(gene_as),\" significant alternative splicing events (gene_as)\")\n",
    "message(\"This includes \", n_unique_genes, \" total genes\")"
   ]
  },
  {
   "cell_type": "code",
   "execution_count": 49,
   "metadata": {},
   "outputs": [
    {
     "name": "stderr",
     "output_type": "stream",
     "text": [
      "Minimum per tissue 10 maximum per tissue 4361\n",
      "\n"
     ]
    },
    {
     "data": {
      "text/html": [
       "34"
      ],
      "text/latex": [
       "34"
      ],
      "text/markdown": [
       "34"
      ],
      "text/plain": [
       "[1] 34"
      ]
     },
     "metadata": {},
     "output_type": "display_data"
    }
   ],
   "source": [
    "XY <- gene_as %>% group_by(Tissue) %>% tally()\n",
    "#XY\n",
    "message(\"Minimum per tissue \", min(XY$n), \" maximum per tissue \", max(XY$n))\n",
    "#XY[XY$n>100,]\n",
    "sum(XY$n<100)\n"
   ]
  },
  {
   "cell_type": "markdown",
   "metadata": {},
   "source": [
    "### 3 Data Structures for Figures"
   ]
  },
  {
   "cell_type": "markdown",
   "metadata": {},
   "source": [
    "### 3.1 gene_as.tsv\n",
    "\n",
    "This file contains (description)\n",
    "Here is a typical line\n",
    "<pre>\n",
    "A data.frame: 6 × 15\n",
    "GeneJunction\tASE\tASE_IDX\tTissue\tcounts\tDisplay\tGeneSymbol\tGeneID\tchr\tlogFC\tAveExpr\tt\tPValue\tAdjPVal\tB\n",
    "<fct>\t<fct>\t<int>\t<fct>\t<int>\t<fct>\t<fct>\t<fct>\t<fct>\t<dbl>\t<dbl>\t<dbl>\t<dbl>\t<dbl>\t<dbl>\n",
    "1\tXIST-2253\tA3SS\t2253\tadipose_subcutaneous\t4\tAdipose (sc)\tXIST\tENSG00000229807.11\tchrX\t-4.4086049\t3.196317\t-36.488970\t4.635568e-154\t3.893877e-150\t310.016049\n",
    "2\tXIST-2252\tA3SS\t2252\tadipose_subcutaneous\t4\tAdipose (sc)\tXIST\tENSG00000229807.11\tchrX\t-2.4147126\t3.647690\t-21.921057\t1.444102e-78\t6.065229e-75\t160.028167\n",
    "3\tGREB1L-4933\tA3SS\t4933\tadipose_subcutaneous\t4\tAdipose (sc)\tGREB1L\tENSG00000141449.14\tchr18\t1.2793173\t2.115005\t7.123138\t3.052112e-12\t8.545914e-09\t16.692429\n",
    "4\tRHCG-1776\tA3SS\t1776\tadipose_subcutaneous\t4\tAdipose (sc)\tRHCG\tENSG00000140519.14\tchr15\t-0.6930009\t1.636472\t-3.922124\t9.797866e-05\t3.919146e-02\t1.142232\n",
    "5\tXIST-2253\tA3SS\t2253\tadipose_visceral_omentum\t12\tAdipose (v)\tXIST\tENSG00000229807.11\tchrX\t-4.4403352\t3.113532\t-33.950800\t2.654474e-123\t2.209585e-119\t241.826117\n",
    "6\tXIST-2252\tA3SS\t2252\tadipose_visceral_omentum\t12\tAdipose (v)\tXIST\tENSG00000229807.11\tchrX\t-2.4506832\t3.650617\t-18.890779\t2.817671e-58\t1.172715e-54\t114.731682\n",
    "</pre>\n",
    "There are 2887 significant events in the file."
   ]
  },
  {
   "cell_type": "code",
   "execution_count": 13,
   "metadata": {},
   "outputs": [
    {
     "name": "stdout",
     "output_type": "stream",
     "text": [
      "Observations: 6,370\n",
      "Variables: 15\n",
      "$ GeneJunction \u001b[3m\u001b[90m<fct>\u001b[39m\u001b[23m XIST-2253, XIST-2252, GREB1L-4933, RHCG-1776, XIST-2253,…\n",
      "$ ASE          \u001b[3m\u001b[90m<fct>\u001b[39m\u001b[23m A3SS, A3SS, A3SS, A3SS, A3SS, A3SS, A3SS, A3SS, A3SS, A3…\n",
      "$ ASE_IDX      \u001b[3m\u001b[90m<int>\u001b[39m\u001b[23m 2253, 2252, 4933, 1776, 2253, 2252, 4819, 4818, 4820, 45…\n",
      "$ Tissue       \u001b[3m\u001b[90m<fct>\u001b[39m\u001b[23m adipose_subcutaneous, adipose_subcutaneous, adipose_subc…\n",
      "$ counts       \u001b[3m\u001b[90m<int>\u001b[39m\u001b[23m 4, 4, 4, 4, 12, 12, 12, 12, 12, 12, 12, 12, 12, 12, 12, …\n",
      "$ Display      \u001b[3m\u001b[90m<fct>\u001b[39m\u001b[23m Adipose (sc), Adipose (sc), Adipose (sc), Adipose (sc), …\n",
      "$ GeneSymbol   \u001b[3m\u001b[90m<fct>\u001b[39m\u001b[23m XIST, XIST, GREB1L, RHCG, XIST, XIST, WNT2, WNT2, WNT2, …\n",
      "$ GeneID       \u001b[3m\u001b[90m<fct>\u001b[39m\u001b[23m ENSG00000229807.11, ENSG00000229807.11, ENSG00000141449.…\n",
      "$ chr          \u001b[3m\u001b[90m<fct>\u001b[39m\u001b[23m chrX, chrX, chr18, chr15, chrX, chrX, chr7, chr7, chr7, …\n",
      "$ logFC        \u001b[3m\u001b[90m<dbl>\u001b[39m\u001b[23m -4.4086049, -2.4147126, 1.2793173, -0.6930009, -4.440335…\n",
      "$ AveExpr      \u001b[3m\u001b[90m<dbl>\u001b[39m\u001b[23m 3.1963170, 3.6476904, 2.1150049, 1.6364719, 3.1135325, 3…\n",
      "$ t            \u001b[3m\u001b[90m<dbl>\u001b[39m\u001b[23m -36.488970, -21.921057, 7.123138, -3.922124, -33.950800,…\n",
      "$ PValue       \u001b[3m\u001b[90m<dbl>\u001b[39m\u001b[23m 4.635568e-154, 1.444102e-78, 3.052112e-12, 9.797866e-05,…\n",
      "$ AdjPVal      \u001b[3m\u001b[90m<dbl>\u001b[39m\u001b[23m 3.893877e-150, 6.065229e-75, 8.545914e-09, 3.919146e-02,…\n",
      "$ B            \u001b[3m\u001b[90m<dbl>\u001b[39m\u001b[23m 310.016049, 160.028167, 16.692429, 1.142232, 241.826117,…\n"
     ]
    },
    {
     "data": {
      "text/html": [
       "39"
      ],
      "text/latex": [
       "39"
      ],
      "text/markdown": [
       "39"
      ],
      "text/plain": [
       "[1] 39"
      ]
     },
     "metadata": {},
     "output_type": "display_data"
    },
    {
     "data": {
      "text/plain": [
       "\n",
       "FALSE \n",
       " 6370 "
      ]
     },
     "metadata": {},
     "output_type": "display_data"
    },
    {
     "data": {
      "text/plain": [
       "\n",
       "         Adipose (sc)           Adipose (v)         Adrenal gland \n",
       "                   78                    58                    46 \n",
       "                Aorta      Atrial appendage                Breast \n",
       "                  139                    27                  4361 \n",
       "              Caudate Cerebellar hemisphere            Cerebellum \n",
       "                   16                    12                    35 \n",
       "      Coronary artery                Cortex       EBV-lymphocytes \n",
       "                   21                    26                    23 \n",
       "      Esophagus (gej)         Esophagus (m)        Esophagus (mu) \n",
       "                   29                    33                   261 \n",
       "          Fibroblasts        Frontal cortex           Hippocampus \n",
       "                   97                    11                    36 \n",
       "         Hypothalamus        Left ventricle                 Liver \n",
       "                   13                    24                    37 \n",
       "                 Lung     Nucleus accumbens              Pancreas \n",
       "                   31                   335                    31 \n",
       "            Pituitary               Putamen         Sigmoid colon \n",
       "                   65                    12                    10 \n",
       "      Skeletal muscle        Skin (exposed)    Skin (not exposed) \n",
       "                   80                    64                    33 \n",
       "      Small intestine           Spinal cord                Spleen \n",
       "                   16                    15                    58 \n",
       "              Stomach               Thyroid         Tibial artery \n",
       "                   24                   104                    49 \n",
       "         Tibial nerve      Transverse colon           Whole blood \n",
       "                   26                    17                    17 "
      ]
     },
     "metadata": {},
     "output_type": "display_data"
    },
    {
     "data": {
      "text/html": [
       "<style>\n",
       ".list-inline {list-style: none; margin:0; padding: 0}\n",
       ".list-inline>li {display: inline-block}\n",
       ".list-inline>li:not(:last-child)::after {content: \"\\00b7\"; padding: 0 .5ex}\n",
       "</style>\n",
       "<ol class=list-inline><li>'GeneJunction'</li><li>'ASE'</li><li>'ASE_IDX'</li><li>'Tissue'</li><li>'counts'</li><li>'Display'</li><li>'GeneSymbol'</li><li>'GeneID'</li><li>'chr'</li><li>'logFC'</li><li>'AveExpr'</li><li>'t'</li><li>'PValue'</li><li>'AdjPVal'</li><li>'B'</li></ol>\n"
      ],
      "text/latex": [
       "\\begin{enumerate*}\n",
       "\\item 'GeneJunction'\n",
       "\\item 'ASE'\n",
       "\\item 'ASE\\_IDX'\n",
       "\\item 'Tissue'\n",
       "\\item 'counts'\n",
       "\\item 'Display'\n",
       "\\item 'GeneSymbol'\n",
       "\\item 'GeneID'\n",
       "\\item 'chr'\n",
       "\\item 'logFC'\n",
       "\\item 'AveExpr'\n",
       "\\item 't'\n",
       "\\item 'PValue'\n",
       "\\item 'AdjPVal'\n",
       "\\item 'B'\n",
       "\\end{enumerate*}\n"
      ],
      "text/markdown": [
       "1. 'GeneJunction'\n",
       "2. 'ASE'\n",
       "3. 'ASE_IDX'\n",
       "4. 'Tissue'\n",
       "5. 'counts'\n",
       "6. 'Display'\n",
       "7. 'GeneSymbol'\n",
       "8. 'GeneID'\n",
       "9. 'chr'\n",
       "10. 'logFC'\n",
       "11. 'AveExpr'\n",
       "12. 't'\n",
       "13. 'PValue'\n",
       "14. 'AdjPVal'\n",
       "15. 'B'\n",
       "\n",
       "\n"
      ],
      "text/plain": [
       " [1] \"GeneJunction\" \"ASE\"          \"ASE_IDX\"      \"Tissue\"       \"counts\"      \n",
       " [6] \"Display\"      \"GeneSymbol\"   \"GeneID\"       \"chr\"          \"logFC\"       \n",
       "[11] \"AveExpr\"      \"t\"            \"PValue\"       \"AdjPVal\"      \"B\"           "
      ]
     },
     "metadata": {},
     "output_type": "display_data"
    },
    {
     "data": {
      "text/html": [
       "<table>\n",
       "<caption>A data.frame: 6 × 15</caption>\n",
       "<thead>\n",
       "\t<tr><th></th><th scope=col>GeneJunction</th><th scope=col>ASE</th><th scope=col>ASE_IDX</th><th scope=col>Tissue</th><th scope=col>counts</th><th scope=col>Display</th><th scope=col>GeneSymbol</th><th scope=col>GeneID</th><th scope=col>chr</th><th scope=col>logFC</th><th scope=col>AveExpr</th><th scope=col>t</th><th scope=col>PValue</th><th scope=col>AdjPVal</th><th scope=col>B</th></tr>\n",
       "\t<tr><th></th><th scope=col>&lt;fct&gt;</th><th scope=col>&lt;fct&gt;</th><th scope=col>&lt;int&gt;</th><th scope=col>&lt;fct&gt;</th><th scope=col>&lt;int&gt;</th><th scope=col>&lt;fct&gt;</th><th scope=col>&lt;fct&gt;</th><th scope=col>&lt;fct&gt;</th><th scope=col>&lt;fct&gt;</th><th scope=col>&lt;dbl&gt;</th><th scope=col>&lt;dbl&gt;</th><th scope=col>&lt;dbl&gt;</th><th scope=col>&lt;dbl&gt;</th><th scope=col>&lt;dbl&gt;</th><th scope=col>&lt;dbl&gt;</th></tr>\n",
       "</thead>\n",
       "<tbody>\n",
       "\t<tr><th scope=row>1</th><td>XIST-2253  </td><td>A3SS</td><td>2253</td><td>adipose_subcutaneous    </td><td> 4</td><td>Adipose (sc)</td><td>XIST  </td><td>ENSG00000229807.11</td><td>chrX </td><td>-4.4086049</td><td>3.196317</td><td>-36.488970</td><td>4.635568e-154</td><td>3.893877e-150</td><td>310.016049</td></tr>\n",
       "\t<tr><th scope=row>2</th><td>XIST-2252  </td><td>A3SS</td><td>2252</td><td>adipose_subcutaneous    </td><td> 4</td><td>Adipose (sc)</td><td>XIST  </td><td>ENSG00000229807.11</td><td>chrX </td><td>-2.4147126</td><td>3.647690</td><td>-21.921057</td><td> 1.444102e-78</td><td> 6.065229e-75</td><td>160.028167</td></tr>\n",
       "\t<tr><th scope=row>3</th><td>GREB1L-4933</td><td>A3SS</td><td>4933</td><td>adipose_subcutaneous    </td><td> 4</td><td>Adipose (sc)</td><td>GREB1L</td><td>ENSG00000141449.14</td><td>chr18</td><td> 1.2793173</td><td>2.115005</td><td>  7.123138</td><td> 3.052112e-12</td><td> 8.545914e-09</td><td> 16.692429</td></tr>\n",
       "\t<tr><th scope=row>4</th><td>RHCG-1776  </td><td>A3SS</td><td>1776</td><td>adipose_subcutaneous    </td><td> 4</td><td>Adipose (sc)</td><td>RHCG  </td><td>ENSG00000140519.14</td><td>chr15</td><td>-0.6930009</td><td>1.636472</td><td> -3.922124</td><td> 9.797866e-05</td><td> 3.919146e-02</td><td>  1.142232</td></tr>\n",
       "\t<tr><th scope=row>5</th><td>XIST-2253  </td><td>A3SS</td><td>2253</td><td>adipose_visceral_omentum</td><td>12</td><td>Adipose (v) </td><td>XIST  </td><td>ENSG00000229807.11</td><td>chrX </td><td>-4.4403352</td><td>3.113532</td><td>-33.950800</td><td>2.654474e-123</td><td>2.209585e-119</td><td>241.826117</td></tr>\n",
       "\t<tr><th scope=row>6</th><td>XIST-2252  </td><td>A3SS</td><td>2252</td><td>adipose_visceral_omentum</td><td>12</td><td>Adipose (v) </td><td>XIST  </td><td>ENSG00000229807.11</td><td>chrX </td><td>-2.4506832</td><td>3.650617</td><td>-18.890779</td><td> 2.817671e-58</td><td> 1.172715e-54</td><td>114.731682</td></tr>\n",
       "</tbody>\n",
       "</table>\n"
      ],
      "text/latex": [
       "A data.frame: 6 × 15\n",
       "\\begin{tabular}{r|lllllllllllllll}\n",
       "  & GeneJunction & ASE & ASE\\_IDX & Tissue & counts & Display & GeneSymbol & GeneID & chr & logFC & AveExpr & t & PValue & AdjPVal & B\\\\\n",
       "  & <fct> & <fct> & <int> & <fct> & <int> & <fct> & <fct> & <fct> & <fct> & <dbl> & <dbl> & <dbl> & <dbl> & <dbl> & <dbl>\\\\\n",
       "\\hline\n",
       "\t1 & XIST-2253   & A3SS & 2253 & adipose\\_subcutaneous     &  4 & Adipose (sc) & XIST   & ENSG00000229807.11 & chrX  & -4.4086049 & 3.196317 & -36.488970 & 4.635568e-154 & 3.893877e-150 & 310.016049\\\\\n",
       "\t2 & XIST-2252   & A3SS & 2252 & adipose\\_subcutaneous     &  4 & Adipose (sc) & XIST   & ENSG00000229807.11 & chrX  & -2.4147126 & 3.647690 & -21.921057 &  1.444102e-78 &  6.065229e-75 & 160.028167\\\\\n",
       "\t3 & GREB1L-4933 & A3SS & 4933 & adipose\\_subcutaneous     &  4 & Adipose (sc) & GREB1L & ENSG00000141449.14 & chr18 &  1.2793173 & 2.115005 &   7.123138 &  3.052112e-12 &  8.545914e-09 &  16.692429\\\\\n",
       "\t4 & RHCG-1776   & A3SS & 1776 & adipose\\_subcutaneous     &  4 & Adipose (sc) & RHCG   & ENSG00000140519.14 & chr15 & -0.6930009 & 1.636472 &  -3.922124 &  9.797866e-05 &  3.919146e-02 &   1.142232\\\\\n",
       "\t5 & XIST-2253   & A3SS & 2253 & adipose\\_visceral\\_omentum & 12 & Adipose (v)  & XIST   & ENSG00000229807.11 & chrX  & -4.4403352 & 3.113532 & -33.950800 & 2.654474e-123 & 2.209585e-119 & 241.826117\\\\\n",
       "\t6 & XIST-2252   & A3SS & 2252 & adipose\\_visceral\\_omentum & 12 & Adipose (v)  & XIST   & ENSG00000229807.11 & chrX  & -2.4506832 & 3.650617 & -18.890779 &  2.817671e-58 &  1.172715e-54 & 114.731682\\\\\n",
       "\\end{tabular}\n"
      ],
      "text/markdown": [
       "\n",
       "A data.frame: 6 × 15\n",
       "\n",
       "| <!--/--> | GeneJunction &lt;fct&gt; | ASE &lt;fct&gt; | ASE_IDX &lt;int&gt; | Tissue &lt;fct&gt; | counts &lt;int&gt; | Display &lt;fct&gt; | GeneSymbol &lt;fct&gt; | GeneID &lt;fct&gt; | chr &lt;fct&gt; | logFC &lt;dbl&gt; | AveExpr &lt;dbl&gt; | t &lt;dbl&gt; | PValue &lt;dbl&gt; | AdjPVal &lt;dbl&gt; | B &lt;dbl&gt; |\n",
       "|---|---|---|---|---|---|---|---|---|---|---|---|---|---|---|---|\n",
       "| 1 | XIST-2253   | A3SS | 2253 | adipose_subcutaneous     |  4 | Adipose (sc) | XIST   | ENSG00000229807.11 | chrX  | -4.4086049 | 3.196317 | -36.488970 | 4.635568e-154 | 3.893877e-150 | 310.016049 |\n",
       "| 2 | XIST-2252   | A3SS | 2252 | adipose_subcutaneous     |  4 | Adipose (sc) | XIST   | ENSG00000229807.11 | chrX  | -2.4147126 | 3.647690 | -21.921057 |  1.444102e-78 |  6.065229e-75 | 160.028167 |\n",
       "| 3 | GREB1L-4933 | A3SS | 4933 | adipose_subcutaneous     |  4 | Adipose (sc) | GREB1L | ENSG00000141449.14 | chr18 |  1.2793173 | 2.115005 |   7.123138 |  3.052112e-12 |  8.545914e-09 |  16.692429 |\n",
       "| 4 | RHCG-1776   | A3SS | 1776 | adipose_subcutaneous     |  4 | Adipose (sc) | RHCG   | ENSG00000140519.14 | chr15 | -0.6930009 | 1.636472 |  -3.922124 |  9.797866e-05 |  3.919146e-02 |   1.142232 |\n",
       "| 5 | XIST-2253   | A3SS | 2253 | adipose_visceral_omentum | 12 | Adipose (v)  | XIST   | ENSG00000229807.11 | chrX  | -4.4403352 | 3.113532 | -33.950800 | 2.654474e-123 | 2.209585e-119 | 241.826117 |\n",
       "| 6 | XIST-2252   | A3SS | 2252 | adipose_visceral_omentum | 12 | Adipose (v)  | XIST   | ENSG00000229807.11 | chrX  | -2.4506832 | 3.650617 | -18.890779 |  2.817671e-58 |  1.172715e-54 | 114.731682 |\n",
       "\n"
      ],
      "text/plain": [
       "  GeneJunction ASE  ASE_IDX Tissue                   counts Display     \n",
       "1 XIST-2253    A3SS 2253    adipose_subcutaneous      4     Adipose (sc)\n",
       "2 XIST-2252    A3SS 2252    adipose_subcutaneous      4     Adipose (sc)\n",
       "3 GREB1L-4933  A3SS 4933    adipose_subcutaneous      4     Adipose (sc)\n",
       "4 RHCG-1776    A3SS 1776    adipose_subcutaneous      4     Adipose (sc)\n",
       "5 XIST-2253    A3SS 2253    adipose_visceral_omentum 12     Adipose (v) \n",
       "6 XIST-2252    A3SS 2252    adipose_visceral_omentum 12     Adipose (v) \n",
       "  GeneSymbol GeneID             chr   logFC      AveExpr  t         \n",
       "1 XIST       ENSG00000229807.11 chrX  -4.4086049 3.196317 -36.488970\n",
       "2 XIST       ENSG00000229807.11 chrX  -2.4147126 3.647690 -21.921057\n",
       "3 GREB1L     ENSG00000141449.14 chr18  1.2793173 2.115005   7.123138\n",
       "4 RHCG       ENSG00000140519.14 chr15 -0.6930009 1.636472  -3.922124\n",
       "5 XIST       ENSG00000229807.11 chrX  -4.4403352 3.113532 -33.950800\n",
       "6 XIST       ENSG00000229807.11 chrX  -2.4506832 3.650617 -18.890779\n",
       "  PValue        AdjPVal       B         \n",
       "1 4.635568e-154 3.893877e-150 310.016049\n",
       "2  1.444102e-78  6.065229e-75 160.028167\n",
       "3  3.052112e-12  8.545914e-09  16.692429\n",
       "4  9.797866e-05  3.919146e-02   1.142232\n",
       "5 2.654474e-123 2.209585e-119 241.826117\n",
       "6  2.817671e-58  1.172715e-54 114.731682"
      ]
     },
     "metadata": {},
     "output_type": "display_data"
    }
   ],
   "source": [
    "glimpse(gene_as)\n",
    "gene_as$Tissue <- factor(gene_as$Tissue)\n",
    "length(levels(gene_as$Tissue))\n",
    "table(is.na(gene_as$Display))\n",
    "table(gene_as$Display)\n",
    "colnames(gene_as)\n",
    "write.table(gene_as, \"../data/gene_as.tsv\", quote=FALSE, sep=\"\\t\")\n",
    "head(gene_as)\n",
    "tissue_reduction$display_name <- factor(tissue_reduction$display_name)"
   ]
  },
  {
   "cell_type": "code",
   "execution_count": 14,
   "metadata": {},
   "outputs": [
    {
     "data": {
      "text/html": [
       "<table>\n",
       "<caption>A data.frame: 6 × 15</caption>\n",
       "<thead>\n",
       "\t<tr><th></th><th scope=col>GeneJunction</th><th scope=col>ASE</th><th scope=col>ASE_IDX</th><th scope=col>Tissue</th><th scope=col>counts</th><th scope=col>Display</th><th scope=col>GeneSymbol</th><th scope=col>GeneID</th><th scope=col>chr</th><th scope=col>logFC</th><th scope=col>AveExpr</th><th scope=col>t</th><th scope=col>PValue</th><th scope=col>AdjPVal</th><th scope=col>B</th></tr>\n",
       "\t<tr><th></th><th scope=col>&lt;fct&gt;</th><th scope=col>&lt;fct&gt;</th><th scope=col>&lt;int&gt;</th><th scope=col>&lt;fct&gt;</th><th scope=col>&lt;int&gt;</th><th scope=col>&lt;fct&gt;</th><th scope=col>&lt;fct&gt;</th><th scope=col>&lt;fct&gt;</th><th scope=col>&lt;fct&gt;</th><th scope=col>&lt;dbl&gt;</th><th scope=col>&lt;dbl&gt;</th><th scope=col>&lt;dbl&gt;</th><th scope=col>&lt;dbl&gt;</th><th scope=col>&lt;dbl&gt;</th><th scope=col>&lt;dbl&gt;</th></tr>\n",
       "</thead>\n",
       "<tbody>\n",
       "\t<tr><th scope=row>1</th><td>XIST-2253</td><td>A3SS</td><td>2253</td><td>adipose_subcutaneous    </td><td> 4</td><td>Adipose (sc) </td><td>XIST</td><td>ENSG00000229807.11</td><td>chrX</td><td>-4.408605</td><td>3.196317</td><td>-36.48897</td><td>4.635568e-154</td><td>3.893877e-150</td><td>310.0160</td></tr>\n",
       "\t<tr><th scope=row>2</th><td>XIST-2252</td><td>A3SS</td><td>2252</td><td>adipose_subcutaneous    </td><td> 4</td><td>Adipose (sc) </td><td>XIST</td><td>ENSG00000229807.11</td><td>chrX</td><td>-2.414713</td><td>3.647690</td><td>-21.92106</td><td> 1.444102e-78</td><td> 6.065229e-75</td><td>160.0282</td></tr>\n",
       "\t<tr><th scope=row>5</th><td>XIST-2253</td><td>A3SS</td><td>2253</td><td>adipose_visceral_omentum</td><td>12</td><td>Adipose (v)  </td><td>XIST</td><td>ENSG00000229807.11</td><td>chrX</td><td>-4.440335</td><td>3.113532</td><td>-33.95080</td><td>2.654474e-123</td><td>2.209585e-119</td><td>241.8261</td></tr>\n",
       "\t<tr><th scope=row>6</th><td>XIST-2252</td><td>A3SS</td><td>2252</td><td>adipose_visceral_omentum</td><td>12</td><td>Adipose (v)  </td><td>XIST</td><td>ENSG00000229807.11</td><td>chrX</td><td>-2.450683</td><td>3.650617</td><td>-18.89078</td><td> 2.817671e-58</td><td> 1.172715e-54</td><td>114.7317</td></tr>\n",
       "\t<tr><th scope=row>17</th><td>XIST-2253</td><td>A3SS</td><td>2253</td><td>adrenal_gland           </td><td> 6</td><td>Adrenal gland</td><td>XIST</td><td>ENSG00000229807.11</td><td>chrX</td><td>-4.599240</td><td>3.465058</td><td>-30.97273</td><td> 2.477109e-94</td><td> 2.031477e-90</td><td>174.6587</td></tr>\n",
       "\t<tr><th scope=row>18</th><td>XIST-2252</td><td>A3SS</td><td>2252</td><td>adrenal_gland           </td><td> 6</td><td>Adrenal gland</td><td>XIST</td><td>ENSG00000229807.11</td><td>chrX</td><td>-2.668392</td><td>3.991548</td><td>-21.05790</td><td> 1.509534e-60</td><td> 6.189844e-57</td><td>115.7385</td></tr>\n",
       "</tbody>\n",
       "</table>\n"
      ],
      "text/latex": [
       "A data.frame: 6 × 15\n",
       "\\begin{tabular}{r|lllllllllllllll}\n",
       "  & GeneJunction & ASE & ASE\\_IDX & Tissue & counts & Display & GeneSymbol & GeneID & chr & logFC & AveExpr & t & PValue & AdjPVal & B\\\\\n",
       "  & <fct> & <fct> & <int> & <fct> & <int> & <fct> & <fct> & <fct> & <fct> & <dbl> & <dbl> & <dbl> & <dbl> & <dbl> & <dbl>\\\\\n",
       "\\hline\n",
       "\t1 & XIST-2253 & A3SS & 2253 & adipose\\_subcutaneous     &  4 & Adipose (sc)  & XIST & ENSG00000229807.11 & chrX & -4.408605 & 3.196317 & -36.48897 & 4.635568e-154 & 3.893877e-150 & 310.0160\\\\\n",
       "\t2 & XIST-2252 & A3SS & 2252 & adipose\\_subcutaneous     &  4 & Adipose (sc)  & XIST & ENSG00000229807.11 & chrX & -2.414713 & 3.647690 & -21.92106 &  1.444102e-78 &  6.065229e-75 & 160.0282\\\\\n",
       "\t5 & XIST-2253 & A3SS & 2253 & adipose\\_visceral\\_omentum & 12 & Adipose (v)   & XIST & ENSG00000229807.11 & chrX & -4.440335 & 3.113532 & -33.95080 & 2.654474e-123 & 2.209585e-119 & 241.8261\\\\\n",
       "\t6 & XIST-2252 & A3SS & 2252 & adipose\\_visceral\\_omentum & 12 & Adipose (v)   & XIST & ENSG00000229807.11 & chrX & -2.450683 & 3.650617 & -18.89078 &  2.817671e-58 &  1.172715e-54 & 114.7317\\\\\n",
       "\t17 & XIST-2253 & A3SS & 2253 & adrenal\\_gland            &  6 & Adrenal gland & XIST & ENSG00000229807.11 & chrX & -4.599240 & 3.465058 & -30.97273 &  2.477109e-94 &  2.031477e-90 & 174.6587\\\\\n",
       "\t18 & XIST-2252 & A3SS & 2252 & adrenal\\_gland            &  6 & Adrenal gland & XIST & ENSG00000229807.11 & chrX & -2.668392 & 3.991548 & -21.05790 &  1.509534e-60 &  6.189844e-57 & 115.7385\\\\\n",
       "\\end{tabular}\n"
      ],
      "text/markdown": [
       "\n",
       "A data.frame: 6 × 15\n",
       "\n",
       "| <!--/--> | GeneJunction &lt;fct&gt; | ASE &lt;fct&gt; | ASE_IDX &lt;int&gt; | Tissue &lt;fct&gt; | counts &lt;int&gt; | Display &lt;fct&gt; | GeneSymbol &lt;fct&gt; | GeneID &lt;fct&gt; | chr &lt;fct&gt; | logFC &lt;dbl&gt; | AveExpr &lt;dbl&gt; | t &lt;dbl&gt; | PValue &lt;dbl&gt; | AdjPVal &lt;dbl&gt; | B &lt;dbl&gt; |\n",
       "|---|---|---|---|---|---|---|---|---|---|---|---|---|---|---|---|\n",
       "| 1 | XIST-2253 | A3SS | 2253 | adipose_subcutaneous     |  4 | Adipose (sc)  | XIST | ENSG00000229807.11 | chrX | -4.408605 | 3.196317 | -36.48897 | 4.635568e-154 | 3.893877e-150 | 310.0160 |\n",
       "| 2 | XIST-2252 | A3SS | 2252 | adipose_subcutaneous     |  4 | Adipose (sc)  | XIST | ENSG00000229807.11 | chrX | -2.414713 | 3.647690 | -21.92106 |  1.444102e-78 |  6.065229e-75 | 160.0282 |\n",
       "| 5 | XIST-2253 | A3SS | 2253 | adipose_visceral_omentum | 12 | Adipose (v)   | XIST | ENSG00000229807.11 | chrX | -4.440335 | 3.113532 | -33.95080 | 2.654474e-123 | 2.209585e-119 | 241.8261 |\n",
       "| 6 | XIST-2252 | A3SS | 2252 | adipose_visceral_omentum | 12 | Adipose (v)   | XIST | ENSG00000229807.11 | chrX | -2.450683 | 3.650617 | -18.89078 |  2.817671e-58 |  1.172715e-54 | 114.7317 |\n",
       "| 17 | XIST-2253 | A3SS | 2253 | adrenal_gland            |  6 | Adrenal gland | XIST | ENSG00000229807.11 | chrX | -4.599240 | 3.465058 | -30.97273 |  2.477109e-94 |  2.031477e-90 | 174.6587 |\n",
       "| 18 | XIST-2252 | A3SS | 2252 | adrenal_gland            |  6 | Adrenal gland | XIST | ENSG00000229807.11 | chrX | -2.668392 | 3.991548 | -21.05790 |  1.509534e-60 |  6.189844e-57 | 115.7385 |\n",
       "\n"
      ],
      "text/plain": [
       "   GeneJunction ASE  ASE_IDX Tissue                   counts Display      \n",
       "1  XIST-2253    A3SS 2253    adipose_subcutaneous      4     Adipose (sc) \n",
       "2  XIST-2252    A3SS 2252    adipose_subcutaneous      4     Adipose (sc) \n",
       "5  XIST-2253    A3SS 2253    adipose_visceral_omentum 12     Adipose (v)  \n",
       "6  XIST-2252    A3SS 2252    adipose_visceral_omentum 12     Adipose (v)  \n",
       "17 XIST-2253    A3SS 2253    adrenal_gland             6     Adrenal gland\n",
       "18 XIST-2252    A3SS 2252    adrenal_gland             6     Adrenal gland\n",
       "   GeneSymbol GeneID             chr  logFC     AveExpr  t        \n",
       "1  XIST       ENSG00000229807.11 chrX -4.408605 3.196317 -36.48897\n",
       "2  XIST       ENSG00000229807.11 chrX -2.414713 3.647690 -21.92106\n",
       "5  XIST       ENSG00000229807.11 chrX -4.440335 3.113532 -33.95080\n",
       "6  XIST       ENSG00000229807.11 chrX -2.450683 3.650617 -18.89078\n",
       "17 XIST       ENSG00000229807.11 chrX -4.599240 3.465058 -30.97273\n",
       "18 XIST       ENSG00000229807.11 chrX -2.668392 3.991548 -21.05790\n",
       "   PValue        AdjPVal       B       \n",
       "1  4.635568e-154 3.893877e-150 310.0160\n",
       "2   1.444102e-78  6.065229e-75 160.0282\n",
       "5  2.654474e-123 2.209585e-119 241.8261\n",
       "6   2.817671e-58  1.172715e-54 114.7317\n",
       "17  2.477109e-94  2.031477e-90 174.6587\n",
       "18  1.509534e-60  6.189844e-57 115.7385"
      ]
     },
     "metadata": {},
     "output_type": "display_data"
    },
    {
     "name": "stderr",
     "output_type": "stream",
     "text": [
      "There were 6370 total significant alternative splicing events (gene_as)\n",
      "\n",
      "There were 783 total significant alternative splicing events on the X chromosome (gene_as)\n",
      "\n",
      "i.e., 12.2919937205651% of all significant AS events were on the X chromosome\n",
      "\n"
     ]
    }
   ],
   "source": [
    "head(gene_as[gene_as$chr==\"chrX\",])\n",
    "x_as_events <- gene_as[gene_as$chr==\"chrX\",]\n",
    "message(\"There were \",nrow(gene_as),\" total significant alternative splicing events (gene_as)\")\n",
    "message(\"There were \",nrow(x_as_events),\" total significant alternative splicing events on the X chromosome (gene_as)\")\n",
    "message(\"i.e., \", (100*nrow(x_as_events)/nrow(gene_as)), \"% of all significant AS events were on the X chromosome\")"
   ]
  },
  {
   "cell_type": "markdown",
   "metadata": {},
   "source": [
    "### 3.2 Tissue specific data frame"
   ]
  },
  {
   "cell_type": "code",
   "execution_count": 15,
   "metadata": {},
   "outputs": [
    {
     "name": "stderr",
     "output_type": "stream",
     "text": [
      "data now has 39 tissues and 5 ASE categories\n",
      "\n",
      "ASE:\n",
      "\n"
     ]
    },
    {
     "data": {
      "text/html": [
       "<style>\n",
       ".dl-inline {width: auto; margin:0; padding: 0}\n",
       ".dl-inline>dt, .dl-inline>dd {float: none; width: auto; display: inline-block}\n",
       ".dl-inline>dt::after {content: \":\\0020\"; padding-right: .5ex}\n",
       ".dl-inline>dt:not(:first-of-type) {padding-left: .5ex}\n",
       "</style><dl class=dl-inline><dt>A3SS</dt><dd>693</dd><dt>A5SS</dt><dd>421</dd><dt>MXE</dt><dd>199</dd><dt>RI</dt><dd>418</dd><dt>SE</dt><dd>4639</dd></dl>\n"
      ],
      "text/latex": [
       "\\begin{description*}\n",
       "\\item[A3SS] 693\n",
       "\\item[A5SS] 421\n",
       "\\item[MXE] 199\n",
       "\\item[RI] 418\n",
       "\\item[SE] 4639\n",
       "\\end{description*}\n"
      ],
      "text/markdown": [
       "A3SS\n",
       ":   693A5SS\n",
       ":   421MXE\n",
       ":   199RI\n",
       ":   418SE\n",
       ":   4639\n",
       "\n"
      ],
      "text/plain": [
       "A3SS A5SS  MXE   RI   SE \n",
       " 693  421  199  418 4639 "
      ]
     },
     "metadata": {},
     "output_type": "display_data"
    }
   ],
   "source": [
    "data <- data.frame(Tissue=gene_as$Display, ASE=gene_as$ASE, Counts=gene_as$counts)\n",
    "\n",
    "numberOfUniqueTissues <- length(summary(as.factor(data$Tissue),maxsum=500))\n",
    "numberOfASEmechanisms <- length(summary(as.factor(data$ASE),maxsum=500))\n",
    "\n",
    "message(\"data now has \",numberOfUniqueTissues, \" tissues and \", numberOfASEmechanisms, \" ASE categories\")\n",
    "message(\"ASE:\")\n",
    "summary(as.factor(data$ASE),maxsum=500)"
   ]
  },
  {
   "cell_type": "markdown",
   "metadata": {},
   "source": [
    "### 3.3 Count splicing event by chromosome\n",
    "\n",
    "Count the number of significant alternative splicing events per chromosome and write to the file **Total_AS_by_chr.tsv**."
   ]
  },
  {
   "cell_type": "code",
   "execution_count": 16,
   "metadata": {},
   "outputs": [
    {
     "data": {
      "text/html": [
       "23"
      ],
      "text/latex": [
       "23"
      ],
      "text/markdown": [
       "23"
      ],
      "text/plain": [
       "[1] 23"
      ]
     },
     "metadata": {},
     "output_type": "display_data"
    },
    {
     "data": {
      "text/html": [
       "<table>\n",
       "<caption>A data.frame: 23 × 2</caption>\n",
       "<thead>\n",
       "\t<tr><th scope=col>chr</th><th scope=col>n</th></tr>\n",
       "\t<tr><th scope=col>&lt;fct&gt;</th><th scope=col>&lt;int&gt;</th></tr>\n",
       "</thead>\n",
       "<tbody>\n",
       "\t<tr><td>chrX </td><td>783</td></tr>\n",
       "\t<tr><td>chr1 </td><td>636</td></tr>\n",
       "\t<tr><td>chr19</td><td>442</td></tr>\n",
       "\t<tr><td>chr11</td><td>374</td></tr>\n",
       "\t<tr><td>chr2 </td><td>374</td></tr>\n",
       "\t<tr><td>chr3 </td><td>368</td></tr>\n",
       "\t<tr><td>chr17</td><td>363</td></tr>\n",
       "\t<tr><td>chr12</td><td>334</td></tr>\n",
       "\t<tr><td>chr16</td><td>313</td></tr>\n",
       "\t<tr><td>chr4 </td><td>292</td></tr>\n",
       "\t<tr><td>chr7 </td><td>248</td></tr>\n",
       "\t<tr><td>chr6 </td><td>243</td></tr>\n",
       "\t<tr><td>chr15</td><td>225</td></tr>\n",
       "\t<tr><td>chr5 </td><td>214</td></tr>\n",
       "\t<tr><td>chr10</td><td>186</td></tr>\n",
       "\t<tr><td>chr8 </td><td>177</td></tr>\n",
       "\t<tr><td>chr22</td><td>171</td></tr>\n",
       "\t<tr><td>chr9 </td><td>170</td></tr>\n",
       "\t<tr><td>chr14</td><td>146</td></tr>\n",
       "\t<tr><td>chr20</td><td>115</td></tr>\n",
       "\t<tr><td>chr18</td><td> 90</td></tr>\n",
       "\t<tr><td>chr13</td><td> 64</td></tr>\n",
       "\t<tr><td>chr21</td><td> 42</td></tr>\n",
       "</tbody>\n",
       "</table>\n"
      ],
      "text/latex": [
       "A data.frame: 23 × 2\n",
       "\\begin{tabular}{ll}\n",
       " chr & n\\\\\n",
       " <fct> & <int>\\\\\n",
       "\\hline\n",
       "\t chrX  & 783\\\\\n",
       "\t chr1  & 636\\\\\n",
       "\t chr19 & 442\\\\\n",
       "\t chr11 & 374\\\\\n",
       "\t chr2  & 374\\\\\n",
       "\t chr3  & 368\\\\\n",
       "\t chr17 & 363\\\\\n",
       "\t chr12 & 334\\\\\n",
       "\t chr16 & 313\\\\\n",
       "\t chr4  & 292\\\\\n",
       "\t chr7  & 248\\\\\n",
       "\t chr6  & 243\\\\\n",
       "\t chr15 & 225\\\\\n",
       "\t chr5  & 214\\\\\n",
       "\t chr10 & 186\\\\\n",
       "\t chr8  & 177\\\\\n",
       "\t chr22 & 171\\\\\n",
       "\t chr9  & 170\\\\\n",
       "\t chr14 & 146\\\\\n",
       "\t chr20 & 115\\\\\n",
       "\t chr18 &  90\\\\\n",
       "\t chr13 &  64\\\\\n",
       "\t chr21 &  42\\\\\n",
       "\\end{tabular}\n"
      ],
      "text/markdown": [
       "\n",
       "A data.frame: 23 × 2\n",
       "\n",
       "| chr &lt;fct&gt; | n &lt;int&gt; |\n",
       "|---|---|\n",
       "| chrX  | 783 |\n",
       "| chr1  | 636 |\n",
       "| chr19 | 442 |\n",
       "| chr11 | 374 |\n",
       "| chr2  | 374 |\n",
       "| chr3  | 368 |\n",
       "| chr17 | 363 |\n",
       "| chr12 | 334 |\n",
       "| chr16 | 313 |\n",
       "| chr4  | 292 |\n",
       "| chr7  | 248 |\n",
       "| chr6  | 243 |\n",
       "| chr15 | 225 |\n",
       "| chr5  | 214 |\n",
       "| chr10 | 186 |\n",
       "| chr8  | 177 |\n",
       "| chr22 | 171 |\n",
       "| chr9  | 170 |\n",
       "| chr14 | 146 |\n",
       "| chr20 | 115 |\n",
       "| chr18 |  90 |\n",
       "| chr13 |  64 |\n",
       "| chr21 |  42 |\n",
       "\n"
      ],
      "text/plain": [
       "   chr   n  \n",
       "1  chrX  783\n",
       "2  chr1  636\n",
       "3  chr19 442\n",
       "4  chr11 374\n",
       "5  chr2  374\n",
       "6  chr3  368\n",
       "7  chr17 363\n",
       "8  chr12 334\n",
       "9  chr16 313\n",
       "10 chr4  292\n",
       "11 chr7  248\n",
       "12 chr6  243\n",
       "13 chr15 225\n",
       "14 chr5  214\n",
       "15 chr10 186\n",
       "16 chr8  177\n",
       "17 chr22 171\n",
       "18 chr9  170\n",
       "19 chr14 146\n",
       "20 chr20 115\n",
       "21 chr18  90\n",
       "22 chr13  64\n",
       "23 chr21  42"
      ]
     },
     "metadata": {},
     "output_type": "display_data"
    },
    {
     "name": "stdout",
     "output_type": "stream",
     "text": [
      "Observations: 23\n",
      "Variables: 2\n",
      "$ chr \u001b[3m\u001b[90m<fct>\u001b[39m\u001b[23m chrX, chr1, chr19, chr11, chr2, chr3, chr17, chr12, chr16, chr4, …\n",
      "$ n   \u001b[3m\u001b[90m<int>\u001b[39m\u001b[23m 783, 636, 442, 374, 374, 368, 363, 334, 313, 292, 248, 243, 225, …\n"
     ]
    }
   ],
   "source": [
    "res2 <- gene_as          %>% \n",
    "       group_by(chr)    %>% \n",
    "       count(chr)       %>% \n",
    "       arrange(desc(n)) %>% \n",
    "       as.data.frame()\n",
    "res2$chr <- factor(res2$chr, levels = res2$chr)\n",
    "length(res2$chr)\n",
    "res2\n",
    "glimpse(res2)\n",
    "write.table(res2, file= \"../data/Total_AS_by_chr.tsv\", sep=\"\\t\", quote = FALSE, row.names=F)"
   ]
  },
  {
   "cell_type": "markdown",
   "metadata": {},
   "source": [
    "### 3.4 Count most frequent spliced genes "
   ]
  },
  {
   "cell_type": "code",
   "execution_count": 17,
   "metadata": {
    "lines_to_next_cell": 0
   },
   "outputs": [
    {
     "data": {
      "text/html": [
       "2887"
      ],
      "text/latex": [
       "2887"
      ],
      "text/markdown": [
       "2887"
      ],
      "text/plain": [
       "[1] 2887"
      ]
     },
     "metadata": {},
     "output_type": "display_data"
    },
    {
     "data": {
      "text/html": [
       "<table>\n",
       "<caption>A data.frame: 6 × 2</caption>\n",
       "<thead>\n",
       "\t<tr><th></th><th scope=col>GeneSymbol</th><th scope=col>n</th></tr>\n",
       "\t<tr><th></th><th scope=col>&lt;fct&gt;</th><th scope=col>&lt;int&gt;</th></tr>\n",
       "</thead>\n",
       "<tbody>\n",
       "\t<tr><th scope=row>1</th><td>XIST </td><td>342</td></tr>\n",
       "\t<tr><th scope=row>2</th><td>DDX3X</td><td> 97</td></tr>\n",
       "\t<tr><th scope=row>3</th><td>KDM5C</td><td> 47</td></tr>\n",
       "\t<tr><th scope=row>4</th><td>ZFX  </td><td> 47</td></tr>\n",
       "\t<tr><th scope=row>5</th><td>KDM6A</td><td> 27</td></tr>\n",
       "\t<tr><th scope=row>6</th><td>UCA1 </td><td> 25</td></tr>\n",
       "</tbody>\n",
       "</table>\n"
      ],
      "text/latex": [
       "A data.frame: 6 × 2\n",
       "\\begin{tabular}{r|ll}\n",
       "  & GeneSymbol & n\\\\\n",
       "  & <fct> & <int>\\\\\n",
       "\\hline\n",
       "\t1 & XIST  & 342\\\\\n",
       "\t2 & DDX3X &  97\\\\\n",
       "\t3 & KDM5C &  47\\\\\n",
       "\t4 & ZFX   &  47\\\\\n",
       "\t5 & KDM6A &  27\\\\\n",
       "\t6 & UCA1  &  25\\\\\n",
       "\\end{tabular}\n"
      ],
      "text/markdown": [
       "\n",
       "A data.frame: 6 × 2\n",
       "\n",
       "| <!--/--> | GeneSymbol &lt;fct&gt; | n &lt;int&gt; |\n",
       "|---|---|---|\n",
       "| 1 | XIST  | 342 |\n",
       "| 2 | DDX3X |  97 |\n",
       "| 3 | KDM5C |  47 |\n",
       "| 4 | ZFX   |  47 |\n",
       "| 5 | KDM6A |  27 |\n",
       "| 6 | UCA1  |  25 |\n",
       "\n"
      ],
      "text/plain": [
       "  GeneSymbol n  \n",
       "1 XIST       342\n",
       "2 DDX3X       97\n",
       "3 KDM5C       47\n",
       "4 ZFX         47\n",
       "5 KDM6A       27\n",
       "6 UCA1        25"
      ]
     },
     "metadata": {},
     "output_type": "display_data"
    }
   ],
   "source": [
    "res3 <- gene_as %>% \n",
    "       group_by(GeneSymbol) %>% count(GeneSymbol) %>% arrange(desc(n)) %>% as.data.frame()\n",
    "res3$GeneSymbol <- factor(res3$GeneSymbol, levels = res3$GeneSymbol)\n",
    "length(res3$GeneSymbol)\n",
    "head(res3)\n",
    "write.table(res3, file = \"../data/Total_AS_by_geneSymbol.tsv\", sep = \"\\t\", quote=FALSE, row.names = F)"
   ]
  },
  {
   "cell_type": "markdown",
   "metadata": {},
   "source": [
    "### 3.5 Count most frequent splicing by tissue"
   ]
  },
  {
   "cell_type": "code",
   "execution_count": 18,
   "metadata": {},
   "outputs": [
    {
     "data": {
      "text/html": [
       "39"
      ],
      "text/latex": [
       "39"
      ],
      "text/markdown": [
       "39"
      ],
      "text/plain": [
       "[1] 39"
      ]
     },
     "metadata": {},
     "output_type": "display_data"
    },
    {
     "data": {
      "text/html": [
       "<table>\n",
       "<caption>A data.frame: 39 × 2</caption>\n",
       "<thead>\n",
       "\t<tr><th scope=col>Display</th><th scope=col>n</th></tr>\n",
       "\t<tr><th scope=col>&lt;fct&gt;</th><th scope=col>&lt;int&gt;</th></tr>\n",
       "</thead>\n",
       "<tbody>\n",
       "\t<tr><td>Breast               </td><td>4361</td></tr>\n",
       "\t<tr><td>Nucleus accumbens    </td><td> 335</td></tr>\n",
       "\t<tr><td>Esophagus (mu)       </td><td> 261</td></tr>\n",
       "\t<tr><td>Aorta                </td><td> 139</td></tr>\n",
       "\t<tr><td>Thyroid              </td><td> 104</td></tr>\n",
       "\t<tr><td>Fibroblasts          </td><td>  97</td></tr>\n",
       "\t<tr><td>Skeletal muscle      </td><td>  80</td></tr>\n",
       "\t<tr><td>Adipose (sc)         </td><td>  78</td></tr>\n",
       "\t<tr><td>Pituitary            </td><td>  65</td></tr>\n",
       "\t<tr><td>Skin (exposed)       </td><td>  64</td></tr>\n",
       "\t<tr><td>Adipose (v)          </td><td>  58</td></tr>\n",
       "\t<tr><td>Spleen               </td><td>  58</td></tr>\n",
       "\t<tr><td>Tibial artery        </td><td>  49</td></tr>\n",
       "\t<tr><td>Adrenal gland        </td><td>  46</td></tr>\n",
       "\t<tr><td>Liver                </td><td>  37</td></tr>\n",
       "\t<tr><td>Hippocampus          </td><td>  36</td></tr>\n",
       "\t<tr><td>Cerebellum           </td><td>  35</td></tr>\n",
       "\t<tr><td>Esophagus (m)        </td><td>  33</td></tr>\n",
       "\t<tr><td>Skin (not exposed)   </td><td>  33</td></tr>\n",
       "\t<tr><td>Lung                 </td><td>  31</td></tr>\n",
       "\t<tr><td>Pancreas             </td><td>  31</td></tr>\n",
       "\t<tr><td>Esophagus (gej)      </td><td>  29</td></tr>\n",
       "\t<tr><td>Atrial appendage     </td><td>  27</td></tr>\n",
       "\t<tr><td>Cortex               </td><td>  26</td></tr>\n",
       "\t<tr><td>Tibial nerve         </td><td>  26</td></tr>\n",
       "\t<tr><td>Left ventricle       </td><td>  24</td></tr>\n",
       "\t<tr><td>Stomach              </td><td>  24</td></tr>\n",
       "\t<tr><td>EBV-lymphocytes      </td><td>  23</td></tr>\n",
       "\t<tr><td>Coronary artery      </td><td>  21</td></tr>\n",
       "\t<tr><td>Transverse colon     </td><td>  17</td></tr>\n",
       "\t<tr><td>Whole blood          </td><td>  17</td></tr>\n",
       "\t<tr><td>Caudate              </td><td>  16</td></tr>\n",
       "\t<tr><td>Small intestine      </td><td>  16</td></tr>\n",
       "\t<tr><td>Spinal cord          </td><td>  15</td></tr>\n",
       "\t<tr><td>Hypothalamus         </td><td>  13</td></tr>\n",
       "\t<tr><td>Cerebellar hemisphere</td><td>  12</td></tr>\n",
       "\t<tr><td>Putamen              </td><td>  12</td></tr>\n",
       "\t<tr><td>Frontal cortex       </td><td>  11</td></tr>\n",
       "\t<tr><td>Sigmoid colon        </td><td>  10</td></tr>\n",
       "</tbody>\n",
       "</table>\n"
      ],
      "text/latex": [
       "A data.frame: 39 × 2\n",
       "\\begin{tabular}{ll}\n",
       " Display & n\\\\\n",
       " <fct> & <int>\\\\\n",
       "\\hline\n",
       "\t Breast                & 4361\\\\\n",
       "\t Nucleus accumbens     &  335\\\\\n",
       "\t Esophagus (mu)        &  261\\\\\n",
       "\t Aorta                 &  139\\\\\n",
       "\t Thyroid               &  104\\\\\n",
       "\t Fibroblasts           &   97\\\\\n",
       "\t Skeletal muscle       &   80\\\\\n",
       "\t Adipose (sc)          &   78\\\\\n",
       "\t Pituitary             &   65\\\\\n",
       "\t Skin (exposed)        &   64\\\\\n",
       "\t Adipose (v)           &   58\\\\\n",
       "\t Spleen                &   58\\\\\n",
       "\t Tibial artery         &   49\\\\\n",
       "\t Adrenal gland         &   46\\\\\n",
       "\t Liver                 &   37\\\\\n",
       "\t Hippocampus           &   36\\\\\n",
       "\t Cerebellum            &   35\\\\\n",
       "\t Esophagus (m)         &   33\\\\\n",
       "\t Skin (not exposed)    &   33\\\\\n",
       "\t Lung                  &   31\\\\\n",
       "\t Pancreas              &   31\\\\\n",
       "\t Esophagus (gej)       &   29\\\\\n",
       "\t Atrial appendage      &   27\\\\\n",
       "\t Cortex                &   26\\\\\n",
       "\t Tibial nerve          &   26\\\\\n",
       "\t Left ventricle        &   24\\\\\n",
       "\t Stomach               &   24\\\\\n",
       "\t EBV-lymphocytes       &   23\\\\\n",
       "\t Coronary artery       &   21\\\\\n",
       "\t Transverse colon      &   17\\\\\n",
       "\t Whole blood           &   17\\\\\n",
       "\t Caudate               &   16\\\\\n",
       "\t Small intestine       &   16\\\\\n",
       "\t Spinal cord           &   15\\\\\n",
       "\t Hypothalamus          &   13\\\\\n",
       "\t Cerebellar hemisphere &   12\\\\\n",
       "\t Putamen               &   12\\\\\n",
       "\t Frontal cortex        &   11\\\\\n",
       "\t Sigmoid colon         &   10\\\\\n",
       "\\end{tabular}\n"
      ],
      "text/markdown": [
       "\n",
       "A data.frame: 39 × 2\n",
       "\n",
       "| Display &lt;fct&gt; | n &lt;int&gt; |\n",
       "|---|---|\n",
       "| Breast                | 4361 |\n",
       "| Nucleus accumbens     |  335 |\n",
       "| Esophagus (mu)        |  261 |\n",
       "| Aorta                 |  139 |\n",
       "| Thyroid               |  104 |\n",
       "| Fibroblasts           |   97 |\n",
       "| Skeletal muscle       |   80 |\n",
       "| Adipose (sc)          |   78 |\n",
       "| Pituitary             |   65 |\n",
       "| Skin (exposed)        |   64 |\n",
       "| Adipose (v)           |   58 |\n",
       "| Spleen                |   58 |\n",
       "| Tibial artery         |   49 |\n",
       "| Adrenal gland         |   46 |\n",
       "| Liver                 |   37 |\n",
       "| Hippocampus           |   36 |\n",
       "| Cerebellum            |   35 |\n",
       "| Esophagus (m)         |   33 |\n",
       "| Skin (not exposed)    |   33 |\n",
       "| Lung                  |   31 |\n",
       "| Pancreas              |   31 |\n",
       "| Esophagus (gej)       |   29 |\n",
       "| Atrial appendage      |   27 |\n",
       "| Cortex                |   26 |\n",
       "| Tibial nerve          |   26 |\n",
       "| Left ventricle        |   24 |\n",
       "| Stomach               |   24 |\n",
       "| EBV-lymphocytes       |   23 |\n",
       "| Coronary artery       |   21 |\n",
       "| Transverse colon      |   17 |\n",
       "| Whole blood           |   17 |\n",
       "| Caudate               |   16 |\n",
       "| Small intestine       |   16 |\n",
       "| Spinal cord           |   15 |\n",
       "| Hypothalamus          |   13 |\n",
       "| Cerebellar hemisphere |   12 |\n",
       "| Putamen               |   12 |\n",
       "| Frontal cortex        |   11 |\n",
       "| Sigmoid colon         |   10 |\n",
       "\n"
      ],
      "text/plain": [
       "   Display               n   \n",
       "1  Breast                4361\n",
       "2  Nucleus accumbens      335\n",
       "3  Esophagus (mu)         261\n",
       "4  Aorta                  139\n",
       "5  Thyroid                104\n",
       "6  Fibroblasts             97\n",
       "7  Skeletal muscle         80\n",
       "8  Adipose (sc)            78\n",
       "9  Pituitary               65\n",
       "10 Skin (exposed)          64\n",
       "11 Adipose (v)             58\n",
       "12 Spleen                  58\n",
       "13 Tibial artery           49\n",
       "14 Adrenal gland           46\n",
       "15 Liver                   37\n",
       "16 Hippocampus             36\n",
       "17 Cerebellum              35\n",
       "18 Esophagus (m)           33\n",
       "19 Skin (not exposed)      33\n",
       "20 Lung                    31\n",
       "21 Pancreas                31\n",
       "22 Esophagus (gej)         29\n",
       "23 Atrial appendage        27\n",
       "24 Cortex                  26\n",
       "25 Tibial nerve            26\n",
       "26 Left ventricle          24\n",
       "27 Stomach                 24\n",
       "28 EBV-lymphocytes         23\n",
       "29 Coronary artery         21\n",
       "30 Transverse colon        17\n",
       "31 Whole blood             17\n",
       "32 Caudate                 16\n",
       "33 Small intestine         16\n",
       "34 Spinal cord             15\n",
       "35 Hypothalamus            13\n",
       "36 Cerebellar hemisphere   12\n",
       "37 Putamen                 12\n",
       "38 Frontal cortex          11\n",
       "39 Sigmoid colon           10"
      ]
     },
     "metadata": {},
     "output_type": "display_data"
    }
   ],
   "source": [
    "res4 <- gene_as %>% \n",
    "       group_by(Display) %>% \n",
    "       count(Display) %>% \n",
    "       arrange(desc(n)) %>% \n",
    "       as.data.frame()\n",
    "res4$Display <- factor(res4$Display, levels = res4$Display)\n",
    "length(res4$Display)\n",
    "res4\n",
    "write.table(res4, file = \"../data/Total_AS_by_tissue.tsv\", sep = \"\\t\", row.names = F)"
   ]
  },
  {
   "cell_type": "markdown",
   "metadata": {},
   "source": [
    "###  3.6 Significant Count by splicing type \n",
    "We define **significant** to be FC > 1.5 and pVal < 0.05\n",
    "\n",
    "Our starting values were the significant events, all meeting the criteria FC > 1.5 and pVal < 0.05\n"
   ]
  },
  {
   "cell_type": "code",
   "execution_count": 19,
   "metadata": {},
   "outputs": [
    {
     "data": {
      "text/html": [
       "<table>\n",
       "<caption>A data.frame: 5 × 2</caption>\n",
       "<thead>\n",
       "\t<tr><th></th><th scope=col>ASE</th><th scope=col>n</th></tr>\n",
       "\t<tr><th></th><th scope=col>&lt;fct&gt;</th><th scope=col>&lt;int&gt;</th></tr>\n",
       "</thead>\n",
       "<tbody>\n",
       "\t<tr><th scope=row>1</th><td>SE  </td><td>4639</td></tr>\n",
       "\t<tr><th scope=row>2</th><td>A3SS</td><td> 693</td></tr>\n",
       "\t<tr><th scope=row>3</th><td>A5SS</td><td> 421</td></tr>\n",
       "\t<tr><th scope=row>4</th><td>RI  </td><td> 418</td></tr>\n",
       "\t<tr><th scope=row>5</th><td>MXE </td><td> 199</td></tr>\n",
       "</tbody>\n",
       "</table>\n"
      ],
      "text/latex": [
       "A data.frame: 5 × 2\n",
       "\\begin{tabular}{r|ll}\n",
       "  & ASE & n\\\\\n",
       "  & <fct> & <int>\\\\\n",
       "\\hline\n",
       "\t1 & SE   & 4639\\\\\n",
       "\t2 & A3SS &  693\\\\\n",
       "\t3 & A5SS &  421\\\\\n",
       "\t4 & RI   &  418\\\\\n",
       "\t5 & MXE  &  199\\\\\n",
       "\\end{tabular}\n"
      ],
      "text/markdown": [
       "\n",
       "A data.frame: 5 × 2\n",
       "\n",
       "| <!--/--> | ASE &lt;fct&gt; | n &lt;int&gt; |\n",
       "|---|---|---|\n",
       "| 1 | SE   | 4639 |\n",
       "| 2 | A3SS |  693 |\n",
       "| 3 | A5SS |  421 |\n",
       "| 4 | RI   |  418 |\n",
       "| 5 | MXE  |  199 |\n",
       "\n"
      ],
      "text/plain": [
       "  ASE  n   \n",
       "1 SE   4639\n",
       "2 A3SS  693\n",
       "3 A5SS  421\n",
       "4 RI    418\n",
       "5 MXE   199"
      ]
     },
     "metadata": {},
     "output_type": "display_data"
    }
   ],
   "source": [
    "res5 <- gene_as %>% group_by(ASE) %>% count(ASE) %>% arrange(desc(n)) %>% as.data.frame()\n",
    "res5$ASE <- factor(res5$ASE, levels = res5$ASE)\n",
    "head(res5)\n",
    "write.table(res5, file= \"../data/Total_AS_by_splicingtype.tsv\")"
   ]
  },
  {
   "cell_type": "markdown",
   "metadata": {},
   "source": [
    "###  3.7 Significant Count by splicing type (significant == FC > 1.5 and pVal < 0.05)"
   ]
  },
  {
   "cell_type": "code",
   "execution_count": 20,
   "metadata": {
    "lines_to_next_cell": 0
   },
   "outputs": [
    {
     "data": {
      "text/plain": [
       "A3SS_keep\n",
       "FALSE  TRUE \n",
       " 5677   693 "
      ]
     },
     "metadata": {},
     "output_type": "display_data"
    },
    {
     "data": {
      "text/plain": [
       "A5SS_keep\n",
       "FALSE  TRUE \n",
       " 5949   421 "
      ]
     },
     "metadata": {},
     "output_type": "display_data"
    },
    {
     "data": {
      "text/plain": [
       "MXE_keep\n",
       "FALSE  TRUE \n",
       " 6171   199 "
      ]
     },
     "metadata": {},
     "output_type": "display_data"
    },
    {
     "data": {
      "text/plain": [
       "SE_keep\n",
       "FALSE  TRUE \n",
       " 1731  4639 "
      ]
     },
     "metadata": {},
     "output_type": "display_data"
    },
    {
     "data": {
      "text/plain": [
       "RI_keep\n",
       "FALSE  TRUE \n",
       " 5952   418 "
      ]
     },
     "metadata": {},
     "output_type": "display_data"
    },
    {
     "data": {
      "text/html": [
       "<style>\n",
       ".list-inline {list-style: none; margin:0; padding: 0}\n",
       ".list-inline>li {display: inline-block}\n",
       ".list-inline>li:not(:last-child)::after {content: \"\\00b7\"; padding: 0 .5ex}\n",
       "</style>\n",
       "<ol class=list-inline><li>693</li><li>15</li></ol>\n"
      ],
      "text/latex": [
       "\\begin{enumerate*}\n",
       "\\item 693\n",
       "\\item 15\n",
       "\\end{enumerate*}\n"
      ],
      "text/markdown": [
       "1. 693\n",
       "2. 15\n",
       "\n",
       "\n"
      ],
      "text/plain": [
       "[1] 693  15"
      ]
     },
     "metadata": {},
     "output_type": "display_data"
    },
    {
     "data": {
      "text/html": [
       "<style>\n",
       ".list-inline {list-style: none; margin:0; padding: 0}\n",
       ".list-inline>li {display: inline-block}\n",
       ".list-inline>li:not(:last-child)::after {content: \"\\00b7\"; padding: 0 .5ex}\n",
       "</style>\n",
       "<ol class=list-inline><li>421</li><li>15</li></ol>\n"
      ],
      "text/latex": [
       "\\begin{enumerate*}\n",
       "\\item 421\n",
       "\\item 15\n",
       "\\end{enumerate*}\n"
      ],
      "text/markdown": [
       "1. 421\n",
       "2. 15\n",
       "\n",
       "\n"
      ],
      "text/plain": [
       "[1] 421  15"
      ]
     },
     "metadata": {},
     "output_type": "display_data"
    },
    {
     "data": {
      "text/html": [
       "<style>\n",
       ".list-inline {list-style: none; margin:0; padding: 0}\n",
       ".list-inline>li {display: inline-block}\n",
       ".list-inline>li:not(:last-child)::after {content: \"\\00b7\"; padding: 0 .5ex}\n",
       "</style>\n",
       "<ol class=list-inline><li>199</li><li>15</li></ol>\n"
      ],
      "text/latex": [
       "\\begin{enumerate*}\n",
       "\\item 199\n",
       "\\item 15\n",
       "\\end{enumerate*}\n"
      ],
      "text/markdown": [
       "1. 199\n",
       "2. 15\n",
       "\n",
       "\n"
      ],
      "text/plain": [
       "[1] 199  15"
      ]
     },
     "metadata": {},
     "output_type": "display_data"
    },
    {
     "data": {
      "text/html": [
       "<style>\n",
       ".list-inline {list-style: none; margin:0; padding: 0}\n",
       ".list-inline>li {display: inline-block}\n",
       ".list-inline>li:not(:last-child)::after {content: \"\\00b7\"; padding: 0 .5ex}\n",
       "</style>\n",
       "<ol class=list-inline><li>4639</li><li>15</li></ol>\n"
      ],
      "text/latex": [
       "\\begin{enumerate*}\n",
       "\\item 4639\n",
       "\\item 15\n",
       "\\end{enumerate*}\n"
      ],
      "text/markdown": [
       "1. 4639\n",
       "2. 15\n",
       "\n",
       "\n"
      ],
      "text/plain": [
       "[1] 4639   15"
      ]
     },
     "metadata": {},
     "output_type": "display_data"
    },
    {
     "data": {
      "text/html": [
       "<style>\n",
       ".list-inline {list-style: none; margin:0; padding: 0}\n",
       ".list-inline>li {display: inline-block}\n",
       ".list-inline>li:not(:last-child)::after {content: \"\\00b7\"; padding: 0 .5ex}\n",
       "</style>\n",
       "<ol class=list-inline><li>418</li><li>15</li></ol>\n"
      ],
      "text/latex": [
       "\\begin{enumerate*}\n",
       "\\item 418\n",
       "\\item 15\n",
       "\\end{enumerate*}\n"
      ],
      "text/markdown": [
       "1. 418\n",
       "2. 15\n",
       "\n",
       "\n"
      ],
      "text/plain": [
       "[1] 418  15"
      ]
     },
     "metadata": {},
     "output_type": "display_data"
    }
   ],
   "source": [
    "A3SS_keep <- as.character(gene_as$ASE) %in% \"A3SS\"\n",
    "table(A3SS_keep)\n",
    "A3SS.gene_as <- data.frame(gene_as[A3SS_keep == TRUE,])\n",
    "\n",
    "A5SS_keep <- as.character(gene_as$ASE) %in% \"A5SS\"\n",
    "table(A5SS_keep)\n",
    "A5SS.gene_as <- data.frame(gene_as[A5SS_keep == TRUE,])\n",
    "\n",
    "MXE_keep  <- as.character(gene_as$ASE) %in% \"MXE\"\n",
    "table(MXE_keep)\n",
    "MXE.gene_as <- data.frame(gene_as[MXE_keep == TRUE,])\n",
    "\n",
    "SE_keep   <- as.character(gene_as$ASE) %in% \"SE\"\n",
    "table(SE_keep)\n",
    "SE.gene_as <- data.frame(gene_as[SE_keep == TRUE,])\n",
    "\n",
    "RI_keep   <- as.character(gene_as$ASE) %in% \"RI\"\n",
    "table(RI_keep)\n",
    "RI.gene_as <- data.frame(gene_as[RI_keep == TRUE,])\n",
    "\n",
    "dim(A3SS.gene_as)\n",
    "dim(A5SS.gene_as)\n",
    "dim(MXE.gene_as)\n",
    "dim(SE.gene_as)\n",
    "dim(RI.gene_as)\n"
   ]
  },
  {
   "cell_type": "markdown",
   "metadata": {},
   "source": [
    "### 3.8 Siginficant spliced by Gene for each splicing factor"
   ]
  },
  {
   "cell_type": "code",
   "execution_count": 21,
   "metadata": {},
   "outputs": [
    {
     "name": "stderr",
     "output_type": "stream",
     "text": [
      "Significant spliced genes for A3SS\n",
      "455 \n",
      "\n"
     ]
    },
    {
     "data": {
      "text/html": [
       "<table>\n",
       "<caption>A data.frame: 6 × 2</caption>\n",
       "<thead>\n",
       "\t<tr><th></th><th scope=col>GeneSymbol</th><th scope=col>n</th></tr>\n",
       "\t<tr><th></th><th scope=col>&lt;fct&gt;</th><th scope=col>&lt;int&gt;</th></tr>\n",
       "</thead>\n",
       "<tbody>\n",
       "\t<tr><th scope=row>1</th><td>XIST     </td><td>77</td></tr>\n",
       "\t<tr><th scope=row>2</th><td>DDX3X    </td><td>21</td></tr>\n",
       "\t<tr><th scope=row>3</th><td>UCA1     </td><td>11</td></tr>\n",
       "\t<tr><th scope=row>4</th><td>HAND2-AS1</td><td> 7</td></tr>\n",
       "\t<tr><th scope=row>5</th><td>STRA6    </td><td> 6</td></tr>\n",
       "\t<tr><th scope=row>6</th><td>NDRG4    </td><td> 6</td></tr>\n",
       "</tbody>\n",
       "</table>\n"
      ],
      "text/latex": [
       "A data.frame: 6 × 2\n",
       "\\begin{tabular}{r|ll}\n",
       "  & GeneSymbol & n\\\\\n",
       "  & <fct> & <int>\\\\\n",
       "\\hline\n",
       "\t1 & XIST      & 77\\\\\n",
       "\t2 & DDX3X     & 21\\\\\n",
       "\t3 & UCA1      & 11\\\\\n",
       "\t4 & HAND2-AS1 &  7\\\\\n",
       "\t5 & STRA6     &  6\\\\\n",
       "\t6 & NDRG4     &  6\\\\\n",
       "\\end{tabular}\n"
      ],
      "text/markdown": [
       "\n",
       "A data.frame: 6 × 2\n",
       "\n",
       "| <!--/--> | GeneSymbol &lt;fct&gt; | n &lt;int&gt; |\n",
       "|---|---|---|\n",
       "| 1 | XIST      | 77 |\n",
       "| 2 | DDX3X     | 21 |\n",
       "| 3 | UCA1      | 11 |\n",
       "| 4 | HAND2-AS1 |  7 |\n",
       "| 5 | STRA6     |  6 |\n",
       "| 6 | NDRG4     |  6 |\n",
       "\n"
      ],
      "text/plain": [
       "  GeneSymbol n \n",
       "1 XIST       77\n",
       "2 DDX3X      21\n",
       "3 UCA1       11\n",
       "4 HAND2-AS1   7\n",
       "5 STRA6       6\n",
       "6 NDRG4       6"
      ]
     },
     "metadata": {},
     "output_type": "display_data"
    },
    {
     "name": "stderr",
     "output_type": "stream",
     "text": [
      "Significant spliced genes for A5SS\n",
      "329 \n",
      "\n"
     ]
    },
    {
     "data": {
      "text/html": [
       "<table>\n",
       "<caption>A data.frame: 6 × 2</caption>\n",
       "<thead>\n",
       "\t<tr><th></th><th scope=col>GeneSymbol</th><th scope=col>n</th></tr>\n",
       "\t<tr><th></th><th scope=col>&lt;fct&gt;</th><th scope=col>&lt;int&gt;</th></tr>\n",
       "</thead>\n",
       "<tbody>\n",
       "\t<tr><th scope=row>1</th><td>DDX3X    </td><td>23</td></tr>\n",
       "\t<tr><th scope=row>2</th><td>PUDP     </td><td>13</td></tr>\n",
       "\t<tr><th scope=row>3</th><td>MYB      </td><td> 6</td></tr>\n",
       "\t<tr><th scope=row>4</th><td>LINC01198</td><td> 4</td></tr>\n",
       "\t<tr><th scope=row>5</th><td>FRMD5    </td><td> 4</td></tr>\n",
       "\t<tr><th scope=row>6</th><td>WDR31    </td><td> 4</td></tr>\n",
       "</tbody>\n",
       "</table>\n"
      ],
      "text/latex": [
       "A data.frame: 6 × 2\n",
       "\\begin{tabular}{r|ll}\n",
       "  & GeneSymbol & n\\\\\n",
       "  & <fct> & <int>\\\\\n",
       "\\hline\n",
       "\t1 & DDX3X     & 23\\\\\n",
       "\t2 & PUDP      & 13\\\\\n",
       "\t3 & MYB       &  6\\\\\n",
       "\t4 & LINC01198 &  4\\\\\n",
       "\t5 & FRMD5     &  4\\\\\n",
       "\t6 & WDR31     &  4\\\\\n",
       "\\end{tabular}\n"
      ],
      "text/markdown": [
       "\n",
       "A data.frame: 6 × 2\n",
       "\n",
       "| <!--/--> | GeneSymbol &lt;fct&gt; | n &lt;int&gt; |\n",
       "|---|---|---|\n",
       "| 1 | DDX3X     | 23 |\n",
       "| 2 | PUDP      | 13 |\n",
       "| 3 | MYB       |  6 |\n",
       "| 4 | LINC01198 |  4 |\n",
       "| 5 | FRMD5     |  4 |\n",
       "| 6 | WDR31     |  4 |\n",
       "\n"
      ],
      "text/plain": [
       "  GeneSymbol n \n",
       "1 DDX3X      23\n",
       "2 PUDP       13\n",
       "3 MYB         6\n",
       "4 LINC01198   4\n",
       "5 FRMD5       4\n",
       "6 WDR31       4"
      ]
     },
     "metadata": {},
     "output_type": "display_data"
    },
    {
     "name": "stderr",
     "output_type": "stream",
     "text": [
      "Significant spliced genes for MXE\n",
      "125 \n",
      "\n"
     ]
    },
    {
     "data": {
      "text/html": [
       "<table>\n",
       "<caption>A data.frame: 6 × 2</caption>\n",
       "<thead>\n",
       "\t<tr><th></th><th scope=col>GeneSymbol</th><th scope=col>n</th></tr>\n",
       "\t<tr><th></th><th scope=col>&lt;fct&gt;</th><th scope=col>&lt;int&gt;</th></tr>\n",
       "</thead>\n",
       "<tbody>\n",
       "\t<tr><th scope=row>1</th><td>XIST   </td><td>22</td></tr>\n",
       "\t<tr><th scope=row>2</th><td>DDX3X  </td><td> 7</td></tr>\n",
       "\t<tr><th scope=row>3</th><td>SORBS2 </td><td> 5</td></tr>\n",
       "\t<tr><th scope=row>4</th><td>AMT    </td><td> 4</td></tr>\n",
       "\t<tr><th scope=row>5</th><td>ACSL6  </td><td> 4</td></tr>\n",
       "\t<tr><th scope=row>6</th><td>CACNA1D</td><td> 3</td></tr>\n",
       "</tbody>\n",
       "</table>\n"
      ],
      "text/latex": [
       "A data.frame: 6 × 2\n",
       "\\begin{tabular}{r|ll}\n",
       "  & GeneSymbol & n\\\\\n",
       "  & <fct> & <int>\\\\\n",
       "\\hline\n",
       "\t1 & XIST    & 22\\\\\n",
       "\t2 & DDX3X   &  7\\\\\n",
       "\t3 & SORBS2  &  5\\\\\n",
       "\t4 & AMT     &  4\\\\\n",
       "\t5 & ACSL6   &  4\\\\\n",
       "\t6 & CACNA1D &  3\\\\\n",
       "\\end{tabular}\n"
      ],
      "text/markdown": [
       "\n",
       "A data.frame: 6 × 2\n",
       "\n",
       "| <!--/--> | GeneSymbol &lt;fct&gt; | n &lt;int&gt; |\n",
       "|---|---|---|\n",
       "| 1 | XIST    | 22 |\n",
       "| 2 | DDX3X   |  7 |\n",
       "| 3 | SORBS2  |  5 |\n",
       "| 4 | AMT     |  4 |\n",
       "| 5 | ACSL6   |  4 |\n",
       "| 6 | CACNA1D |  3 |\n",
       "\n"
      ],
      "text/plain": [
       "  GeneSymbol n \n",
       "1 XIST       22\n",
       "2 DDX3X       7\n",
       "3 SORBS2      5\n",
       "4 AMT         4\n",
       "5 ACSL6       4\n",
       "6 CACNA1D     3"
      ]
     },
     "metadata": {},
     "output_type": "display_data"
    },
    {
     "name": "stderr",
     "output_type": "stream",
     "text": [
      "Significant spliced genes for RI\n",
      "327 \n",
      "\n"
     ]
    },
    {
     "data": {
      "text/html": [
       "<table>\n",
       "<caption>A data.frame: 6 × 2</caption>\n",
       "<thead>\n",
       "\t<tr><th></th><th scope=col>GeneSymbol</th><th scope=col>n</th></tr>\n",
       "\t<tr><th></th><th scope=col>&lt;fct&gt;</th><th scope=col>&lt;int&gt;</th></tr>\n",
       "</thead>\n",
       "<tbody>\n",
       "\t<tr><th scope=row>1</th><td>DDX3X </td><td>14</td></tr>\n",
       "\t<tr><th scope=row>2</th><td>NLRP2 </td><td> 4</td></tr>\n",
       "\t<tr><th scope=row>3</th><td>UCA1  </td><td> 4</td></tr>\n",
       "\t<tr><th scope=row>4</th><td>PLCXD1</td><td> 4</td></tr>\n",
       "\t<tr><th scope=row>5</th><td>CELSR2</td><td> 4</td></tr>\n",
       "\t<tr><th scope=row>6</th><td>MYH14 </td><td> 4</td></tr>\n",
       "</tbody>\n",
       "</table>\n"
      ],
      "text/latex": [
       "A data.frame: 6 × 2\n",
       "\\begin{tabular}{r|ll}\n",
       "  & GeneSymbol & n\\\\\n",
       "  & <fct> & <int>\\\\\n",
       "\\hline\n",
       "\t1 & DDX3X  & 14\\\\\n",
       "\t2 & NLRP2  &  4\\\\\n",
       "\t3 & UCA1   &  4\\\\\n",
       "\t4 & PLCXD1 &  4\\\\\n",
       "\t5 & CELSR2 &  4\\\\\n",
       "\t6 & MYH14  &  4\\\\\n",
       "\\end{tabular}\n"
      ],
      "text/markdown": [
       "\n",
       "A data.frame: 6 × 2\n",
       "\n",
       "| <!--/--> | GeneSymbol &lt;fct&gt; | n &lt;int&gt; |\n",
       "|---|---|---|\n",
       "| 1 | DDX3X  | 14 |\n",
       "| 2 | NLRP2  |  4 |\n",
       "| 3 | UCA1   |  4 |\n",
       "| 4 | PLCXD1 |  4 |\n",
       "| 5 | CELSR2 |  4 |\n",
       "| 6 | MYH14  |  4 |\n",
       "\n"
      ],
      "text/plain": [
       "  GeneSymbol n \n",
       "1 DDX3X      14\n",
       "2 NLRP2       4\n",
       "3 UCA1        4\n",
       "4 PLCXD1      4\n",
       "5 CELSR2      4\n",
       "6 MYH14       4"
      ]
     },
     "metadata": {},
     "output_type": "display_data"
    },
    {
     "name": "stderr",
     "output_type": "stream",
     "text": [
      "Significant spliced genes for SE\n",
      "2361 \n",
      "\n"
     ]
    },
    {
     "data": {
      "text/html": [
       "<table>\n",
       "<caption>A data.frame: 6 × 2</caption>\n",
       "<thead>\n",
       "\t<tr><th></th><th scope=col>GeneSymbol</th><th scope=col>n</th></tr>\n",
       "\t<tr><th></th><th scope=col>&lt;fct&gt;</th><th scope=col>&lt;int&gt;</th></tr>\n",
       "</thead>\n",
       "<tbody>\n",
       "\t<tr><th scope=row>1</th><td>XIST </td><td>243</td></tr>\n",
       "\t<tr><th scope=row>2</th><td>KDM5C</td><td> 47</td></tr>\n",
       "\t<tr><th scope=row>3</th><td>ZFX  </td><td> 47</td></tr>\n",
       "\t<tr><th scope=row>4</th><td>DDX3X</td><td> 32</td></tr>\n",
       "\t<tr><th scope=row>5</th><td>KDM6A</td><td> 24</td></tr>\n",
       "\t<tr><th scope=row>6</th><td>CES1 </td><td> 18</td></tr>\n",
       "</tbody>\n",
       "</table>\n"
      ],
      "text/latex": [
       "A data.frame: 6 × 2\n",
       "\\begin{tabular}{r|ll}\n",
       "  & GeneSymbol & n\\\\\n",
       "  & <fct> & <int>\\\\\n",
       "\\hline\n",
       "\t1 & XIST  & 243\\\\\n",
       "\t2 & KDM5C &  47\\\\\n",
       "\t3 & ZFX   &  47\\\\\n",
       "\t4 & DDX3X &  32\\\\\n",
       "\t5 & KDM6A &  24\\\\\n",
       "\t6 & CES1  &  18\\\\\n",
       "\\end{tabular}\n"
      ],
      "text/markdown": [
       "\n",
       "A data.frame: 6 × 2\n",
       "\n",
       "| <!--/--> | GeneSymbol &lt;fct&gt; | n &lt;int&gt; |\n",
       "|---|---|---|\n",
       "| 1 | XIST  | 243 |\n",
       "| 2 | KDM5C |  47 |\n",
       "| 3 | ZFX   |  47 |\n",
       "| 4 | DDX3X |  32 |\n",
       "| 5 | KDM6A |  24 |\n",
       "| 6 | CES1  |  18 |\n",
       "\n"
      ],
      "text/plain": [
       "  GeneSymbol n  \n",
       "1 XIST       243\n",
       "2 KDM5C       47\n",
       "3 ZFX         47\n",
       "4 DDX3X       32\n",
       "5 KDM6A       24\n",
       "6 CES1        18"
      ]
     },
     "metadata": {},
     "output_type": "display_data"
    }
   ],
   "source": [
    "A3SS.res <- A3SS.gene_as %>% group_by(GeneSymbol) %>% count(GeneSymbol) %>% arrange(desc(n)) %>% as.data.frame()\n",
    "A3SS.res$GeneSymbol <- factor(A3SS.res$GeneSymbol, levels = A3SS.res$GeneSymbol)\n",
    "message(\"Significant spliced genes for A3SS\\n\",\n",
    "        paste(length(A3SS.res$GeneSymbol)), collapse=\" \")\n",
    "head(A3SS.res)\n",
    "\n",
    "A5SS.res <- A5SS.gene_as %>% group_by(GeneSymbol) %>% count(GeneSymbol) %>% arrange(desc(n)) %>% as.data.frame()\n",
    "A5SS.res$GeneSymbol <- factor(A5SS.res$GeneSymbol, levels = A5SS.res$GeneSymbol)\n",
    "message(\"Significant spliced genes for A5SS\\n\",\n",
    "        paste(length(A5SS.res$GeneSymbol)), collapse=\" \")\n",
    "head(A5SS.res)\n",
    "\n",
    "MXE.res <- MXE.gene_as %>% group_by(GeneSymbol) %>% count(GeneSymbol) %>% arrange(desc(n)) %>% as.data.frame()\n",
    "MXE.res$GeneSymbol <- factor(MXE.res$GeneSymbol, levels = MXE.res$GeneSymbol)\n",
    "message(\"Significant spliced genes for MXE\\n\",\n",
    "        paste(length(MXE.res$GeneSymbol)), collapse=\" \")\n",
    "head(MXE.res)\n",
    "\n",
    "RI.res <- RI.gene_as %>% group_by(GeneSymbol) %>% count(GeneSymbol) %>% arrange(desc(n)) %>% as.data.frame()\n",
    "RI.res$GeneSymbol <- factor(RI.res$GeneSymbol, levels = RI.res$GeneSymbol)\n",
    "message(\"Significant spliced genes for RI\\n\",\n",
    "        paste(length(RI.res$GeneSymbol)), collapse=\" \")\n",
    "head(RI.res)\n",
    "\n",
    "SE.res <- SE.gene_as %>% group_by(GeneSymbol) %>% count(GeneSymbol) %>% arrange(desc(n)) %>% as.data.frame()\n",
    "SE.res$GeneSymbol <- factor(SE.res$GeneSymbol, levels = SE.res$GeneSymbol)\n",
    "message(\"Significant spliced genes for SE\\n\",\n",
    "        paste(length(SE.res$GeneSymbol)), collapse=\" \")\n",
    "head(SE.res)"
   ]
  },
  {
   "cell_type": "markdown",
   "metadata": {},
   "source": [
    "### 3.9 Count most frequent spliced genes"
   ]
  },
  {
   "cell_type": "code",
   "execution_count": 22,
   "metadata": {},
   "outputs": [
    {
     "data": {
      "text/html": [
       "2887"
      ],
      "text/latex": [
       "2887"
      ],
      "text/markdown": [
       "2887"
      ],
      "text/plain": [
       "[1] 2887"
      ]
     },
     "metadata": {},
     "output_type": "display_data"
    },
    {
     "data": {
      "text/html": [
       "<table>\n",
       "<caption>A data.frame: 6 × 3</caption>\n",
       "<thead>\n",
       "\t<tr><th></th><th scope=col>GeneSymbol</th><th scope=col>n</th><th scope=col>Tissues</th></tr>\n",
       "\t<tr><th></th><th scope=col>&lt;fct&gt;</th><th scope=col>&lt;int&gt;</th><th scope=col>&lt;int&gt;</th></tr>\n",
       "</thead>\n",
       "<tbody>\n",
       "\t<tr><th scope=row>1</th><td>XIST </td><td>342</td><td>39</td></tr>\n",
       "\t<tr><th scope=row>2</th><td>DDX3X</td><td> 97</td><td>20</td></tr>\n",
       "\t<tr><th scope=row>3</th><td>KDM5C</td><td> 47</td><td>33</td></tr>\n",
       "\t<tr><th scope=row>4</th><td>ZFX  </td><td> 47</td><td>27</td></tr>\n",
       "\t<tr><th scope=row>5</th><td>KDM6A</td><td> 27</td><td>24</td></tr>\n",
       "\t<tr><th scope=row>6</th><td>UCA1 </td><td> 25</td><td> 1</td></tr>\n",
       "</tbody>\n",
       "</table>\n"
      ],
      "text/latex": [
       "A data.frame: 6 × 3\n",
       "\\begin{tabular}{r|lll}\n",
       "  & GeneSymbol & n & Tissues\\\\\n",
       "  & <fct> & <int> & <int>\\\\\n",
       "\\hline\n",
       "\t1 & XIST  & 342 & 39\\\\\n",
       "\t2 & DDX3X &  97 & 20\\\\\n",
       "\t3 & KDM5C &  47 & 33\\\\\n",
       "\t4 & ZFX   &  47 & 27\\\\\n",
       "\t5 & KDM6A &  27 & 24\\\\\n",
       "\t6 & UCA1  &  25 &  1\\\\\n",
       "\\end{tabular}\n"
      ],
      "text/markdown": [
       "\n",
       "A data.frame: 6 × 3\n",
       "\n",
       "| <!--/--> | GeneSymbol &lt;fct&gt; | n &lt;int&gt; | Tissues &lt;int&gt; |\n",
       "|---|---|---|---|\n",
       "| 1 | XIST  | 342 | 39 |\n",
       "| 2 | DDX3X |  97 | 20 |\n",
       "| 3 | KDM5C |  47 | 33 |\n",
       "| 4 | ZFX   |  47 | 27 |\n",
       "| 5 | KDM6A |  27 | 24 |\n",
       "| 6 | UCA1  |  25 |  1 |\n",
       "\n"
      ],
      "text/plain": [
       "  GeneSymbol n   Tissues\n",
       "1 XIST       342 39     \n",
       "2 DDX3X       97 20     \n",
       "3 KDM5C       47 33     \n",
       "4 ZFX         47 27     \n",
       "5 KDM6A       27 24     \n",
       "6 UCA1        25  1     "
      ]
     },
     "metadata": {},
     "output_type": "display_data"
    }
   ],
   "source": [
    "res <- gene_as %>% group_by(GeneSymbol) %>% count(GeneSymbol) %>% arrange(desc(n)) %>% as.data.frame()\n",
    "res$GeneSymbol <- factor(res$GeneSymbol, levels = res$GeneSymbol)\n",
    "length(res$GeneSymbol)\n",
    "res2 <- data %>% group_by(Tissue) %>% \n",
    "    summarise(Total = sum(Counts)) %>%\n",
    "    arrange(desc(Total)) %>%\n",
    "    as.data.frame()\n",
    "\n",
    "#Add number of tissues\n",
    "nTissues <- rep(NA, length(res))\n",
    "for (i in 1:nrow(res)) {\n",
    "  df_gene <- gene_as %>% filter(GeneSymbol == res$GeneSymbol[i])\n",
    "  nTissues[i] <- length(unique(df_gene$Tissue))\n",
    "}\n",
    "res$Tissues <- nTissues\n",
    "head(res)\n",
    "write.table(res, file = \"../data/genesWithCommonAS.tsv\", sep = \"\\t\", quote = F, row.names = F)"
   ]
  },
  {
   "cell_type": "markdown",
   "metadata": {},
   "source": [
    "### 3.10 Count most frequent spliced chromosomes\n",
    "To get an indication of which chromosome has the most frequent slicing event (regardless of type)\n",
    "We create an index based upon the number of exons per chromosome.\n",
    "\n",
    "get the annotation file, at this writing, gencode.v30.annotation.gtf\n",
    "The information as to the number of exons within the chromosome may be found there"
   ]
  },
  {
   "cell_type": "code",
   "execution_count": 23,
   "metadata": {},
   "outputs": [
    {
     "name": "stderr",
     "output_type": "stream",
     "text": [
      "downloading gencode v30 annotation\n",
      "\n",
      "\n",
      "Done!\n",
      "\n",
      "\n",
      "Unzipping compressed file gencode.v30.annotation.gtf.gz..\n",
      "\n",
      "Done! gencode.v30.annotation.gtf can be found in ../data/\n",
      "\n"
     ]
    }
   ],
   "source": [
    "if (!(\"gencode.v30.annotation.gtf.gz\" %in% list.files(\"../data/\"))) {\n",
    "    message(\"downloading gencode v30 annotation\\n\")\n",
    "    system(\"wget -O ../data/gencode.v30.annotation.gtf.gz ftp://ftp.ebi.ac.uk/pub/databases/gencode/Gencode_human/release_30/gencode.v30.annotation.gtf.gz\")\n",
    "    message(\"Done!\\n\")\n",
    "    message(\"Unzipping compressed file gencode.v30.annotation.gtf.gz..\")\n",
    "    system(\"gunzip ../data/gencode.v30.annotation.gtf.gz\", intern = TRUE)\n",
    "    message(\"Done! gencode.v30.annotation.gtf can be found in ../data/\")\n",
    "}\n",
    "gencode <- import(\"../data/gencode.v30.annotation.gtf\")"
   ]
  },
  {
   "cell_type": "code",
   "execution_count": 24,
   "metadata": {},
   "outputs": [
    {
     "name": "stdout",
     "output_type": "stream",
     "text": [
      "Observations: 23\n",
      "Variables: 4\n",
      "$ chr        \u001b[3m\u001b[90m<fct>\u001b[39m\u001b[23m chrX, chr22, chr19, chr4, chr1, chr16, chr11, chr15, chr17…\n",
      "$ n          \u001b[3m\u001b[90m<int>\u001b[39m\u001b[23m 783, 171, 442, 292, 636, 313, 374, 225, 363, 334, 368, 243…\n",
      "$ ExonCounts \u001b[3m\u001b[90m<dbl>\u001b[39m\u001b[23m 40029, 28655, 74466, 50420, 118996, 61199, 75976, 47343, 7…\n",
      "$ Index      \u001b[3m\u001b[90m<dbl>\u001b[39m\u001b[23m 19.560818, 5.967545, 5.935595, 5.791353, 5.344717, 5.11446…\n"
     ]
    }
   ],
   "source": [
    "exons <- gencode[ gencode$type == \"exon\", ]\n",
    "exons <- as.data.frame(exons)\n",
    "\n",
    "#Obtain chromosomes we have splicing information for (recall we did not use chr Y in our analysis)\n",
    "all_chr <- as.character(unique(gene_as$chr))\n",
    "chr_counts <- rep(0, length(all_chr))\n",
    "\n",
    "\n",
    "for (i in 1:length(all_chr)) {\n",
    "  chr_counts[i] <- nrow(exons[exons$seqnames == all_chr[i], ])\n",
    "}\n",
    "\n",
    "exon_counts <- data.frame(chr = all_chr, counts = chr_counts)\n",
    "\n",
    "# Count most frequent spliced chromosomes\n",
    "res <- gene_as %>% group_by(chr) %>% count(chr) %>% arrange(desc(n)) %>% as.data.frame()\n",
    "res$chr <- factor(res$chr, levels = res$chr)\n",
    "\n",
    "idx <- match(res$chr, exon_counts$chr)\n",
    "\n",
    "res$ExonCounts <- exon_counts$counts[idx]\n",
    "\n",
    "res$Index <- (res$n / res$ExonCounts) * 1000\n",
    "\n",
    "res_sorted <- res %>% arrange(desc(Index))\n",
    "res_sorted$chr <- factor(res_sorted$chr, levels = res_sorted$chr)\n",
    "glimpse(res_sorted)"
   ]
  },
  {
   "cell_type": "code",
   "execution_count": 25,
   "metadata": {},
   "outputs": [],
   "source": [
    "write.table(data,       file = \"../data/Significant_AS_events.tsv\", sep = \"\\t\", row.names = F, quote = F)\n",
    "write.table(res_sorted, file = \"../data/SplicingIndex_chr.tsv\", sep = \"\\t\", quote = F, row.names = F)"
   ]
  },
  {
   "cell_type": "markdown",
   "metadata": {},
   "source": [
    "### 3.11 gene_dge.tsv\n",
    "\n",
    "Single data structure for all the DGE results\n",
    "\n",
    "The files called (tissue)\\_DGE\\_refined.csv contain lists of genes found to have statistically significant differential expression.\n",
    "The mapping files contain the ENSG id to gene symbol maps."
   ]
  },
  {
   "cell_type": "code",
   "execution_count": 26,
   "metadata": {},
   "outputs": [
    {
     "name": "stderr",
     "output_type": "stream",
     "text": [
      "We got 39 files with significant DGEs and 39 mapping files\n",
      "\n"
     ]
    }
   ],
   "source": [
    "significant_results_dir = \"../data/\"\n",
    "pattern = \"_DGE_refined.csv\"\n",
    "files <- list.files(path = significant_results_dir, pattern = pattern)\n",
    "map_pattern <- \"_DGE_ensg_map.csv\"\n",
    "map_files <- list.files(path = significant_results_dir, pattern = map_pattern)\n",
    "message(\"We got \", length(files), \" files with significant DGEs and \", length(map_files), \" mapping files\")"
   ]
  },
  {
   "cell_type": "code",
   "execution_count": 27,
   "metadata": {},
   "outputs": [],
   "source": [
    "gene_dge = data.frame()\n",
    "counts <- rep(NA, length(files))"
   ]
  },
  {
   "cell_type": "code",
   "execution_count": 28,
   "metadata": {},
   "outputs": [
    {
     "name": "stderr",
     "output_type": "stream",
     "text": [
      "We extracted a total of 12633 significant differential gene events (gene_dge)\n",
      "\n",
      "This includes 7417 total genes\n",
      "\n"
     ]
    }
   ],
   "source": [
    "for (i in 1:length(files)) {\n",
    "   lines  <- read.table(file=paste0(significant_results_dir, files[i]), \n",
    "                                     header = TRUE, sep = \",\", quote = \"\\\"'\", skipNul = FALSE)\n",
    "    if (dim(lines)[1] > 0) {\n",
    "         tissue1    <- gsub(pattern,\"\", files[i], fixed = TRUE)\n",
    "         map_lines  <- read.table(file=paste0(paste0(significant_results_dir, tissue1),map_pattern),\n",
    "                                     header = TRUE, sep = \",\", quote = \"\\\"'\", skipNul = FALSE)\n",
    "         counts[i]  <- dim(lines)[1]    \n",
    "         tissue1    <- gsub(pattern,\"\", files[i], fixed = TRUE)\n",
    "         map_lines  <- read.table(file=paste0(paste0(significant_results_dir, tissue1),map_pattern),\n",
    "                                     header = TRUE, sep = \",\", quote = \"\\\"'\", skipNul = FALSE)\n",
    "         ensg_ver   <- as.vector(as.character(rownames(lines)))\n",
    "         ensg_no_ver<- as.vector(as.character(map_lines$ensg_names))\n",
    "         ensg_genes <- as.vector(as.character(map_lines$ensg_genes))\n",
    "         counts[i]  <- dim(lines)[1]  \n",
    "         res <- data.frame(Tissue       <- tissue1,\n",
    "                           ENSG_ver     <- ensg_ver,\n",
    "                           ENSG_no_ver  <- ensg_no_ver,\n",
    "                           GeneSymbol   <- ensg_genes,\n",
    "                           counts       <- counts[i],\n",
    "                           Display      <- tissue_reduction[tissue_reduction$SMTSD == tissue1, \"display_name\"],\n",
    "                           logFC        <- lines$logFC,\n",
    "                           AveExpr      <- lines$AveExpr,\n",
    "                           t            <- lines$t,\n",
    "                           PValue       <- lines$P.Value,\n",
    "                           AdjPVal      <- lines$adj.P.Val,\n",
    "                           B            <- lines$B)\n",
    "         colnames(res) <- c(\"Tissue\",\"ENSG_ver\",\"ENSG_no_ver\",\"GeneSymbol\",\"counts\",\"Display\",\n",
    "                            \"logFC\",\"AveExpr\",\"t\",\"PValue\",\"AdjPVal\",\"B\")\n",
    "         gene_dge <- rbind(gene_dge, res)\n",
    "    } #if has sig. events\n",
    "} #for all files\n",
    "colnames(gene_dge) <- c(\"Tissue\",\"ENSG_ver\",\"ENSG_no_ver\",\"GeneSymbol\",\"counts\",\"Display\",\n",
    "                        \"logFC\",\"AveExpr\",\"t\",\"PValue\",\"AdjPVal\",\"B\")\n",
    "n_unique_genes <- length(summary(as.factor(gene_dge$GeneSymbol),maxsum=50000))\n",
    "message(\"We extracted a total of \",nrow(gene_dge),\" significant differential gene events (gene_dge)\")\n",
    "message(\"This includes \", n_unique_genes, \" total genes\")"
   ]
  },
  {
   "cell_type": "code",
   "execution_count": 29,
   "metadata": {},
   "outputs": [],
   "source": [
    "write.table(gene_dge, \"../data/gene_dge.tsv\", quote=FALSE, sep=\"\\t\")"
   ]
  },
  {
   "cell_type": "markdown",
   "metadata": {},
   "source": [
    "# Overlap between Differential Gene Expression and Differential Alternative Splicing"
   ]
  },
  {
   "cell_type": "code",
   "execution_count": 31,
   "metadata": {},
   "outputs": [
    {
     "data": {
      "text/html": [
       "<style>\n",
       ".list-inline {list-style: none; margin:0; padding: 0}\n",
       ".list-inline>li {display: inline-block}\n",
       ".list-inline>li:not(:last-child)::after {content: \"\\00b7\"; padding: 0 .5ex}\n",
       "</style>\n",
       "<ol class=list-inline><li>A2M</li><li>A2ML1</li><li>A4GNT</li><li>AACSP1</li><li>AADAC</li><li>AADAC</li></ol>\n",
       "\n",
       "<details>\n",
       "\t<summary style=display:list-item;cursor:pointer>\n",
       "\t\t<strong>Levels</strong>:\n",
       "\t</summary>\n",
       "\t<style>\n",
       "\t.list-inline {list-style: none; margin:0; padding: 0}\n",
       "\t.list-inline>li {display: inline-block}\n",
       "\t.list-inline>li:not(:last-child)::after {content: \"\\00b7\"; padding: 0 .5ex}\n",
       "\t</style>\n",
       "\t<ol class=list-inline><li>'A2M'</li><li>'A2ML1'</li><li>'A4GNT'</li><li>'AACSP1'</li><li>'AADAC'</li><li>'AADACL2-AS1'</li><li>'AADACL3'</li><li>'AADACL4'</li><li>'AANAT'</li><li>'AARD'</li><li>'AATBC'</li><li>'AATK'</li><li>'ABCA12'</li><li>'ABCA13'</li><li>'ABCA4'</li><li>'ABCA8'</li><li>'ABCB1'</li><li>'ABCB11'</li><li>'ABCB4'</li><li>'ABCB5'</li><li>'ABCC11'</li><li>'ABCC12'</li><li>'ABCC3'</li><li>'ABCC6'</li><li>'ABCC6P1'</li><li>'ABCC8'</li><li>'ABCC9'</li><li>'ABCD2'</li><li>'ABCG8'</li><li>'ABHD11'</li><li>'ABLIM2'</li><li>'ABLIM3'</li><li>'ABRA'</li><li>'AC002059.1'</li><li>'AC002066.1'</li><li>'AC002094.5'</li><li>'AC002316.1'</li><li>'AC002383.1'</li><li>'AC002400.1'</li><li>'AC002428.2'</li><li>'AC002472.1'</li><li>'AC002511.1'</li><li>'AC002511.2'</li><li>'AC002525.1'</li><li>'AC002546.1'</li><li>'AC003035.1'</li><li>'AC003958.2'</li><li>'AC003986.1'</li><li>'AC003986.2'</li><li>'AC003986.3'</li><li>'AC003991.1'</li><li>'AC004023.1'</li><li>'AC004066.2'</li><li>'AC004080.1'</li><li>'AC004130.2'</li><li>'AC004160.1'</li><li>'AC004231.1'</li><li>'AC004233.1'</li><li>'AC004233.2'</li><li>'AC004264.1'</li><li>'AC004381.1'</li><li>'AC004381.3'</li><li>'AC004494.1'</li><li>'AC004522.4'</li><li>'AC004540.1'</li><li>'AC004540.2'</li><li>'AC004551.1'</li><li>'AC004554.2'</li><li>'AC004584.3'</li><li>'AC004687.1'</li><li>'AC004706.1'</li><li>'AC004784.1'</li><li>'AC004816.1'</li><li>'AC004828.1'</li><li>'AC004830.2'</li><li>'AC004832.4'</li><li>'AC004870.1'</li><li>'AC004870.2'</li><li>'AC004917.1'</li><li>'AC004923.1'</li><li>'AC004925.1'</li><li>'AC004947.1'</li><li>'AC004947.2'</li><li>'AC004969.1'</li><li>'AC004988.1'</li><li>'AC005013.1'</li><li>'AC005034.5'</li><li>'AC005052.1'</li><li>'AC005062.1'</li><li>'AC005064.1'</li><li>'AC005077.4'</li><li>'AC005082.1'</li><li>'AC005083.1'</li><li>'AC005089.1'</li><li>'AC005144.1'</li><li>'AC005162.1'</li><li>'AC005162.2'</li><li>'AC005165.1'</li><li>'AC005165.2'</li><li>'AC005180.1'</li><li>'AC005180.2'</li><li>'AC005208.1'</li><li>'AC005224.3'</li><li>'AC005230.1'</li><li>'AC005237.1'</li><li>'AC005252.3'</li><li>'AC005291.1'</li><li>'AC005291.2'</li><li>'AC005323.1'</li><li>'AC005323.2'</li><li>'AC005336.1'</li><li>'AC005336.2'</li><li>'AC005336.3'</li><li>'AC005358.1'</li><li>'AC005476.2'</li><li>'AC005479.1'</li><li>'AC005481.1'</li><li>'AC005537.2'</li><li>'AC005550.2'</li><li>'AC005586.2'</li><li>'AC005674.2'</li><li>'AC005699.1'</li><li>'AC005722.3'</li><li>'AC005730.2'</li><li>'AC005747.1'</li><li>'AC005828.5'</li><li>'AC005831.1'</li><li>'AC005837.4'</li><li>'AC005840.2'</li><li>'AC005840.3'</li><li>'AC005884.1'</li><li>'AC005906.2'</li><li>'AC005920.4'</li><li>'AC005962.1'</li><li>'AC006033.1'</li><li>'AC006058.1'</li><li>'AC006058.3'</li><li>'AC006058.4'</li><li>'AC006157.1'</li><li>'AC006159.2'</li><li>'AC006238.1'</li><li>'AC006262.1'</li><li>'AC006305.2'</li><li>'AC006369.1'</li><li>'AC006441.4'</li><li>'AC006450.3'</li><li>'AC006460.1'</li><li>'AC006487.1'</li><li>'AC006487.2'</li><li>'AC006566.1'</li><li>'AC006946.2'</li><li>'AC006946.3'</li><li>'AC006963.2'</li><li>'AC006970.1'</li><li>'AC006974.2'</li><li>'AC006994.2'</li><li>'AC007040.3'</li><li>'AC007114.2'</li><li>'AC007126.1'</li><li>'AC007193.2'</li><li>'AC007224.2'</li><li>'AC007255.1'</li><li>'AC007277.1'</li><li>'AC007278.1'</li><li>'AC007319.1'</li><li>'AC007342.3'</li><li>'AC007342.4'</li><li>'AC007342.5'</li><li>'AC007342.8'</li><li>'AC007342.9'</li><li>'AC007368.1'</li><li>'AC007395.1'</li><li>'AC007405.2'</li><li>'AC007406.3'</li><li>'AC007423.1'</li><li>'AC007424.1'</li><li>'AC007431.3'</li><li>'AC007490.1'</li><li>'AC007552.2'</li><li>'AC007569.1'</li><li>'AC007608.1'</li><li>'AC007614.1'</li><li>'AC007666.1'</li><li>'AC007671.1'</li><li>'AC007686.1'</li><li>'AC007743.1'</li><li>'AC007848.1'</li><li>'AC007876.1'</li><li>'AC007906.2'</li><li>'AC007919.1'</li><li>'AC007920.2'</li><li>'AC007952.4'</li><li>'AC007952.6'</li><li>'AC007996.1'</li><li>'AC007998.4'</li><li>'AC008013.3'</li><li>'AC008014.1'</li><li>'AC008035.1'</li><li>'AC008060.4'</li><li>'AC008073.1'</li><li>⋯</li><li>'UNC5D'</li><li>'UNGP3'</li><li>'UPB1'</li><li>'UPK1B'</li><li>'UPK2'</li><li>'UPK3A'</li><li>'UPP1'</li><li>'URAD'</li><li>'USH1C'</li><li>'USH2A'</li><li>'USHBP1'</li><li>'USP17L2'</li><li>'USP32P2'</li><li>'USP43'</li><li>'USP6'</li><li>'USP9Y'</li><li>'USP9YP14'</li><li>'UTS2R'</li><li>'UTY'</li><li>'VAMP5'</li><li>'VANGL2'</li><li>'VASH2'</li><li>'VAT1L'</li><li>'VAV3'</li><li>'VAX2'</li><li>'VCX'</li><li>'VDAC2P3'</li><li>'VDR'</li><li>'VEGFD'</li><li>'VGLL1'</li><li>'VGLL2'</li><li>'VIL1'</li><li>'VIM'</li><li>'VIM-AS1'</li><li>'VIPR2'</li><li>'VIT'</li><li>'VLDLR-AS1'</li><li>'VMO1'</li><li>'VN1R21P'</li><li>'VN1R53P'</li><li>'VN2R10P'</li><li>'VN2R17P'</li><li>'VNN1'</li><li>'VPREB1'</li><li>'VPREB3'</li><li>'VPS9D1-AS1'</li><li>'VSIG1'</li><li>'VSIG4'</li><li>'VSNL1'</li><li>'VSTM2A'</li><li>'VSTM2A-OT1'</li><li>'VSTM5'</li><li>'VSX1'</li><li>'VTCN1'</li><li>'VWA3B'</li><li>'VWA5B1'</li><li>'VWC2'</li><li>'VWCE'</li><li>'VWDE'</li><li>'VWF'</li><li>'WASF5P'</li><li>'WASIR2'</li><li>'WDFY4'</li><li>'WDR72'</li><li>'WDR86'</li><li>'WDR86-AS1'</li><li>'WEE1'</li><li>'WFDC1'</li><li>'WFDC12'</li><li>'WFDC2'</li><li>'WFDC21P'</li><li>'WFDC6'</li><li>'WFDC8'</li><li>'WHRN'</li><li>'WIF1'</li><li>'WIPF3'</li><li>'WNK2'</li><li>'WNK4'</li><li>'WNT1'</li><li>'WNT10A'</li><li>'WNT10B'</li><li>'WNT11'</li><li>'WNT2'</li><li>'WNT3A'</li><li>'WNT4'</li><li>'WNT5A'</li><li>'WNT5A-AS1'</li><li>'WNT7B'</li><li>'WNT8A'</li><li>'WNT8B'</li><li>'WSCD2'</li><li>'WTAPP1'</li><li>'WWC1'</li><li>'WWC2-AS1'</li><li>'XAGE2'</li><li>'XAGE3'</li><li>'XCL1'</li><li>'XCL2'</li><li>'XCR1'</li><li>'XDH'</li><li>'XG'</li><li>'XGY1'</li><li>'XIST'</li><li>'XKR4'</li><li>'XKR5'</li><li>'XKR7'</li><li>'XKRX'</li><li>'XPNPEP2'</li><li>'XPOTP1'</li><li>'Z82185.1'</li><li>'Z82206.1'</li><li>'Z82246.1'</li><li>'Z84485.1'</li><li>'Z84492.1'</li><li>'Z94057.1'</li><li>'Z94721.1'</li><li>'Z97205.2'</li><li>'Z97653.2'</li><li>'Z98259.1'</li><li>'Z99129.3'</li><li>'Z99289.2'</li><li>'Z99774.1'</li><li>'Z99916.2'</li><li>'Z99943.1'</li><li>'ZAP70'</li><li>'ZBED1'</li><li>'ZBED2'</li><li>'ZBED6CL'</li><li>'ZBED9'</li><li>'ZBP1'</li><li>'ZBTB8B'</li><li>'ZC2HC1B'</li><li>'ZC3H11B'</li><li>'ZCCHC12'</li><li>'ZDHHC19'</li><li>'ZDHHC20P1'</li><li>'ZDHHC8P1'</li><li>'ZFP57'</li><li>'ZFX'</li><li>'ZFX-AS1'</li><li>'ZFY'</li><li>'ZFY-AS1'</li><li>'ZG16B'</li><li>'ZIC1'</li><li>'ZIC2'</li><li>'ZIC3'</li><li>'ZIC4'</li><li>'ZIC5'</li><li>'ZMAT4'</li><li>'ZMYND15'</li><li>'ZNF114'</li><li>'ZNF157'</li><li>'ZNF165'</li><li>'ZNF185'</li><li>'ZNF209P'</li><li>'ZNF215'</li><li>'ZNF296'</li><li>'ZNF334'</li><li>'ZNF33B'</li><li>'ZNF350-AS1'</li><li>'ZNF365'</li><li>'ZNF366'</li><li>'ZNF385B'</li><li>'ZNF385C'</li><li>'ZNF385D'</li><li>'ZNF385D-AS1'</li><li>'ZNF469'</li><li>'ZNF474'</li><li>'ZNF497'</li><li>'ZNF536'</li><li>'ZNF552'</li><li>'ZNF608'</li><li>'ZNF648'</li><li>'ZNF663P'</li><li>'ZNF667'</li><li>'ZNF683'</li><li>'ZNF689'</li><li>'ZNF711'</li><li>'ZNF726'</li><li>'ZNF727'</li><li>'ZNF736P9Y'</li><li>'ZNF750'</li><li>'ZNF774'</li><li>'ZNF80'</li><li>'ZNF804B'</li><li>'ZNF812P'</li><li>'ZNF831'</li><li>'ZNF839P1'</li><li>'ZNF840P'</li><li>'ZNF860'</li><li>'ZNF885P'</li><li>'ZNF887P'</li><li>'ZNF98'</li><li>'ZNRF3-AS1'</li><li>'ZNRF4'</li><li>'ZPLD1'</li><li>'ZRANB2-AS1'</li><li>'ZRSR2'</li><li>'ZSCAN4'</li><li>'ZYG11A'</li></ol>\n",
       "</details>"
      ],
      "text/latex": [
       "\\begin{enumerate*}\n",
       "\\item A2M\n",
       "\\item A2ML1\n",
       "\\item A4GNT\n",
       "\\item AACSP1\n",
       "\\item AADAC\n",
       "\\item AADAC\n",
       "\\end{enumerate*}\n",
       "\n",
       "\\emph{Levels}: \\begin{enumerate*}\n",
       "\\item 'A2M'\n",
       "\\item 'A2ML1'\n",
       "\\item 'A4GNT'\n",
       "\\item 'AACSP1'\n",
       "\\item 'AADAC'\n",
       "\\item 'AADACL2-AS1'\n",
       "\\item 'AADACL3'\n",
       "\\item 'AADACL4'\n",
       "\\item 'AANAT'\n",
       "\\item 'AARD'\n",
       "\\item 'AATBC'\n",
       "\\item 'AATK'\n",
       "\\item 'ABCA12'\n",
       "\\item 'ABCA13'\n",
       "\\item 'ABCA4'\n",
       "\\item 'ABCA8'\n",
       "\\item 'ABCB1'\n",
       "\\item 'ABCB11'\n",
       "\\item 'ABCB4'\n",
       "\\item 'ABCB5'\n",
       "\\item 'ABCC11'\n",
       "\\item 'ABCC12'\n",
       "\\item 'ABCC3'\n",
       "\\item 'ABCC6'\n",
       "\\item 'ABCC6P1'\n",
       "\\item 'ABCC8'\n",
       "\\item 'ABCC9'\n",
       "\\item 'ABCD2'\n",
       "\\item 'ABCG8'\n",
       "\\item 'ABHD11'\n",
       "\\item 'ABLIM2'\n",
       "\\item 'ABLIM3'\n",
       "\\item 'ABRA'\n",
       "\\item 'AC002059.1'\n",
       "\\item 'AC002066.1'\n",
       "\\item 'AC002094.5'\n",
       "\\item 'AC002316.1'\n",
       "\\item 'AC002383.1'\n",
       "\\item 'AC002400.1'\n",
       "\\item 'AC002428.2'\n",
       "\\item 'AC002472.1'\n",
       "\\item 'AC002511.1'\n",
       "\\item 'AC002511.2'\n",
       "\\item 'AC002525.1'\n",
       "\\item 'AC002546.1'\n",
       "\\item 'AC003035.1'\n",
       "\\item 'AC003958.2'\n",
       "\\item 'AC003986.1'\n",
       "\\item 'AC003986.2'\n",
       "\\item 'AC003986.3'\n",
       "\\item 'AC003991.1'\n",
       "\\item 'AC004023.1'\n",
       "\\item 'AC004066.2'\n",
       "\\item 'AC004080.1'\n",
       "\\item 'AC004130.2'\n",
       "\\item 'AC004160.1'\n",
       "\\item 'AC004231.1'\n",
       "\\item 'AC004233.1'\n",
       "\\item 'AC004233.2'\n",
       "\\item 'AC004264.1'\n",
       "\\item 'AC004381.1'\n",
       "\\item 'AC004381.3'\n",
       "\\item 'AC004494.1'\n",
       "\\item 'AC004522.4'\n",
       "\\item 'AC004540.1'\n",
       "\\item 'AC004540.2'\n",
       "\\item 'AC004551.1'\n",
       "\\item 'AC004554.2'\n",
       "\\item 'AC004584.3'\n",
       "\\item 'AC004687.1'\n",
       "\\item 'AC004706.1'\n",
       "\\item 'AC004784.1'\n",
       "\\item 'AC004816.1'\n",
       "\\item 'AC004828.1'\n",
       "\\item 'AC004830.2'\n",
       "\\item 'AC004832.4'\n",
       "\\item 'AC004870.1'\n",
       "\\item 'AC004870.2'\n",
       "\\item 'AC004917.1'\n",
       "\\item 'AC004923.1'\n",
       "\\item 'AC004925.1'\n",
       "\\item 'AC004947.1'\n",
       "\\item 'AC004947.2'\n",
       "\\item 'AC004969.1'\n",
       "\\item 'AC004988.1'\n",
       "\\item 'AC005013.1'\n",
       "\\item 'AC005034.5'\n",
       "\\item 'AC005052.1'\n",
       "\\item 'AC005062.1'\n",
       "\\item 'AC005064.1'\n",
       "\\item 'AC005077.4'\n",
       "\\item 'AC005082.1'\n",
       "\\item 'AC005083.1'\n",
       "\\item 'AC005089.1'\n",
       "\\item 'AC005144.1'\n",
       "\\item 'AC005162.1'\n",
       "\\item 'AC005162.2'\n",
       "\\item 'AC005165.1'\n",
       "\\item 'AC005165.2'\n",
       "\\item 'AC005180.1'\n",
       "\\item 'AC005180.2'\n",
       "\\item 'AC005208.1'\n",
       "\\item 'AC005224.3'\n",
       "\\item 'AC005230.1'\n",
       "\\item 'AC005237.1'\n",
       "\\item 'AC005252.3'\n",
       "\\item 'AC005291.1'\n",
       "\\item 'AC005291.2'\n",
       "\\item 'AC005323.1'\n",
       "\\item 'AC005323.2'\n",
       "\\item 'AC005336.1'\n",
       "\\item 'AC005336.2'\n",
       "\\item 'AC005336.3'\n",
       "\\item 'AC005358.1'\n",
       "\\item 'AC005476.2'\n",
       "\\item 'AC005479.1'\n",
       "\\item 'AC005481.1'\n",
       "\\item 'AC005537.2'\n",
       "\\item 'AC005550.2'\n",
       "\\item 'AC005586.2'\n",
       "\\item 'AC005674.2'\n",
       "\\item 'AC005699.1'\n",
       "\\item 'AC005722.3'\n",
       "\\item 'AC005730.2'\n",
       "\\item 'AC005747.1'\n",
       "\\item 'AC005828.5'\n",
       "\\item 'AC005831.1'\n",
       "\\item 'AC005837.4'\n",
       "\\item 'AC005840.2'\n",
       "\\item 'AC005840.3'\n",
       "\\item 'AC005884.1'\n",
       "\\item 'AC005906.2'\n",
       "\\item 'AC005920.4'\n",
       "\\item 'AC005962.1'\n",
       "\\item 'AC006033.1'\n",
       "\\item 'AC006058.1'\n",
       "\\item 'AC006058.3'\n",
       "\\item 'AC006058.4'\n",
       "\\item 'AC006157.1'\n",
       "\\item 'AC006159.2'\n",
       "\\item 'AC006238.1'\n",
       "\\item 'AC006262.1'\n",
       "\\item 'AC006305.2'\n",
       "\\item 'AC006369.1'\n",
       "\\item 'AC006441.4'\n",
       "\\item 'AC006450.3'\n",
       "\\item 'AC006460.1'\n",
       "\\item 'AC006487.1'\n",
       "\\item 'AC006487.2'\n",
       "\\item 'AC006566.1'\n",
       "\\item 'AC006946.2'\n",
       "\\item 'AC006946.3'\n",
       "\\item 'AC006963.2'\n",
       "\\item 'AC006970.1'\n",
       "\\item 'AC006974.2'\n",
       "\\item 'AC006994.2'\n",
       "\\item 'AC007040.3'\n",
       "\\item 'AC007114.2'\n",
       "\\item 'AC007126.1'\n",
       "\\item 'AC007193.2'\n",
       "\\item 'AC007224.2'\n",
       "\\item 'AC007255.1'\n",
       "\\item 'AC007277.1'\n",
       "\\item 'AC007278.1'\n",
       "\\item 'AC007319.1'\n",
       "\\item 'AC007342.3'\n",
       "\\item 'AC007342.4'\n",
       "\\item 'AC007342.5'\n",
       "\\item 'AC007342.8'\n",
       "\\item 'AC007342.9'\n",
       "\\item 'AC007368.1'\n",
       "\\item 'AC007395.1'\n",
       "\\item 'AC007405.2'\n",
       "\\item 'AC007406.3'\n",
       "\\item 'AC007423.1'\n",
       "\\item 'AC007424.1'\n",
       "\\item 'AC007431.3'\n",
       "\\item 'AC007490.1'\n",
       "\\item 'AC007552.2'\n",
       "\\item 'AC007569.1'\n",
       "\\item 'AC007608.1'\n",
       "\\item 'AC007614.1'\n",
       "\\item 'AC007666.1'\n",
       "\\item 'AC007671.1'\n",
       "\\item 'AC007686.1'\n",
       "\\item 'AC007743.1'\n",
       "\\item 'AC007848.1'\n",
       "\\item 'AC007876.1'\n",
       "\\item 'AC007906.2'\n",
       "\\item 'AC007919.1'\n",
       "\\item 'AC007920.2'\n",
       "\\item 'AC007952.4'\n",
       "\\item 'AC007952.6'\n",
       "\\item 'AC007996.1'\n",
       "\\item 'AC007998.4'\n",
       "\\item 'AC008013.3'\n",
       "\\item 'AC008014.1'\n",
       "\\item 'AC008035.1'\n",
       "\\item 'AC008060.4'\n",
       "\\item 'AC008073.1'\n",
       "\\item ⋯\n",
       "\\item 'UNC5D'\n",
       "\\item 'UNGP3'\n",
       "\\item 'UPB1'\n",
       "\\item 'UPK1B'\n",
       "\\item 'UPK2'\n",
       "\\item 'UPK3A'\n",
       "\\item 'UPP1'\n",
       "\\item 'URAD'\n",
       "\\item 'USH1C'\n",
       "\\item 'USH2A'\n",
       "\\item 'USHBP1'\n",
       "\\item 'USP17L2'\n",
       "\\item 'USP32P2'\n",
       "\\item 'USP43'\n",
       "\\item 'USP6'\n",
       "\\item 'USP9Y'\n",
       "\\item 'USP9YP14'\n",
       "\\item 'UTS2R'\n",
       "\\item 'UTY'\n",
       "\\item 'VAMP5'\n",
       "\\item 'VANGL2'\n",
       "\\item 'VASH2'\n",
       "\\item 'VAT1L'\n",
       "\\item 'VAV3'\n",
       "\\item 'VAX2'\n",
       "\\item 'VCX'\n",
       "\\item 'VDAC2P3'\n",
       "\\item 'VDR'\n",
       "\\item 'VEGFD'\n",
       "\\item 'VGLL1'\n",
       "\\item 'VGLL2'\n",
       "\\item 'VIL1'\n",
       "\\item 'VIM'\n",
       "\\item 'VIM-AS1'\n",
       "\\item 'VIPR2'\n",
       "\\item 'VIT'\n",
       "\\item 'VLDLR-AS1'\n",
       "\\item 'VMO1'\n",
       "\\item 'VN1R21P'\n",
       "\\item 'VN1R53P'\n",
       "\\item 'VN2R10P'\n",
       "\\item 'VN2R17P'\n",
       "\\item 'VNN1'\n",
       "\\item 'VPREB1'\n",
       "\\item 'VPREB3'\n",
       "\\item 'VPS9D1-AS1'\n",
       "\\item 'VSIG1'\n",
       "\\item 'VSIG4'\n",
       "\\item 'VSNL1'\n",
       "\\item 'VSTM2A'\n",
       "\\item 'VSTM2A-OT1'\n",
       "\\item 'VSTM5'\n",
       "\\item 'VSX1'\n",
       "\\item 'VTCN1'\n",
       "\\item 'VWA3B'\n",
       "\\item 'VWA5B1'\n",
       "\\item 'VWC2'\n",
       "\\item 'VWCE'\n",
       "\\item 'VWDE'\n",
       "\\item 'VWF'\n",
       "\\item 'WASF5P'\n",
       "\\item 'WASIR2'\n",
       "\\item 'WDFY4'\n",
       "\\item 'WDR72'\n",
       "\\item 'WDR86'\n",
       "\\item 'WDR86-AS1'\n",
       "\\item 'WEE1'\n",
       "\\item 'WFDC1'\n",
       "\\item 'WFDC12'\n",
       "\\item 'WFDC2'\n",
       "\\item 'WFDC21P'\n",
       "\\item 'WFDC6'\n",
       "\\item 'WFDC8'\n",
       "\\item 'WHRN'\n",
       "\\item 'WIF1'\n",
       "\\item 'WIPF3'\n",
       "\\item 'WNK2'\n",
       "\\item 'WNK4'\n",
       "\\item 'WNT1'\n",
       "\\item 'WNT10A'\n",
       "\\item 'WNT10B'\n",
       "\\item 'WNT11'\n",
       "\\item 'WNT2'\n",
       "\\item 'WNT3A'\n",
       "\\item 'WNT4'\n",
       "\\item 'WNT5A'\n",
       "\\item 'WNT5A-AS1'\n",
       "\\item 'WNT7B'\n",
       "\\item 'WNT8A'\n",
       "\\item 'WNT8B'\n",
       "\\item 'WSCD2'\n",
       "\\item 'WTAPP1'\n",
       "\\item 'WWC1'\n",
       "\\item 'WWC2-AS1'\n",
       "\\item 'XAGE2'\n",
       "\\item 'XAGE3'\n",
       "\\item 'XCL1'\n",
       "\\item 'XCL2'\n",
       "\\item 'XCR1'\n",
       "\\item 'XDH'\n",
       "\\item 'XG'\n",
       "\\item 'XGY1'\n",
       "\\item 'XIST'\n",
       "\\item 'XKR4'\n",
       "\\item 'XKR5'\n",
       "\\item 'XKR7'\n",
       "\\item 'XKRX'\n",
       "\\item 'XPNPEP2'\n",
       "\\item 'XPOTP1'\n",
       "\\item 'Z82185.1'\n",
       "\\item 'Z82206.1'\n",
       "\\item 'Z82246.1'\n",
       "\\item 'Z84485.1'\n",
       "\\item 'Z84492.1'\n",
       "\\item 'Z94057.1'\n",
       "\\item 'Z94721.1'\n",
       "\\item 'Z97205.2'\n",
       "\\item 'Z97653.2'\n",
       "\\item 'Z98259.1'\n",
       "\\item 'Z99129.3'\n",
       "\\item 'Z99289.2'\n",
       "\\item 'Z99774.1'\n",
       "\\item 'Z99916.2'\n",
       "\\item 'Z99943.1'\n",
       "\\item 'ZAP70'\n",
       "\\item 'ZBED1'\n",
       "\\item 'ZBED2'\n",
       "\\item 'ZBED6CL'\n",
       "\\item 'ZBED9'\n",
       "\\item 'ZBP1'\n",
       "\\item 'ZBTB8B'\n",
       "\\item 'ZC2HC1B'\n",
       "\\item 'ZC3H11B'\n",
       "\\item 'ZCCHC12'\n",
       "\\item 'ZDHHC19'\n",
       "\\item 'ZDHHC20P1'\n",
       "\\item 'ZDHHC8P1'\n",
       "\\item 'ZFP57'\n",
       "\\item 'ZFX'\n",
       "\\item 'ZFX-AS1'\n",
       "\\item 'ZFY'\n",
       "\\item 'ZFY-AS1'\n",
       "\\item 'ZG16B'\n",
       "\\item 'ZIC1'\n",
       "\\item 'ZIC2'\n",
       "\\item 'ZIC3'\n",
       "\\item 'ZIC4'\n",
       "\\item 'ZIC5'\n",
       "\\item 'ZMAT4'\n",
       "\\item 'ZMYND15'\n",
       "\\item 'ZNF114'\n",
       "\\item 'ZNF157'\n",
       "\\item 'ZNF165'\n",
       "\\item 'ZNF185'\n",
       "\\item 'ZNF209P'\n",
       "\\item 'ZNF215'\n",
       "\\item 'ZNF296'\n",
       "\\item 'ZNF334'\n",
       "\\item 'ZNF33B'\n",
       "\\item 'ZNF350-AS1'\n",
       "\\item 'ZNF365'\n",
       "\\item 'ZNF366'\n",
       "\\item 'ZNF385B'\n",
       "\\item 'ZNF385C'\n",
       "\\item 'ZNF385D'\n",
       "\\item 'ZNF385D-AS1'\n",
       "\\item 'ZNF469'\n",
       "\\item 'ZNF474'\n",
       "\\item 'ZNF497'\n",
       "\\item 'ZNF536'\n",
       "\\item 'ZNF552'\n",
       "\\item 'ZNF608'\n",
       "\\item 'ZNF648'\n",
       "\\item 'ZNF663P'\n",
       "\\item 'ZNF667'\n",
       "\\item 'ZNF683'\n",
       "\\item 'ZNF689'\n",
       "\\item 'ZNF711'\n",
       "\\item 'ZNF726'\n",
       "\\item 'ZNF727'\n",
       "\\item 'ZNF736P9Y'\n",
       "\\item 'ZNF750'\n",
       "\\item 'ZNF774'\n",
       "\\item 'ZNF80'\n",
       "\\item 'ZNF804B'\n",
       "\\item 'ZNF812P'\n",
       "\\item 'ZNF831'\n",
       "\\item 'ZNF839P1'\n",
       "\\item 'ZNF840P'\n",
       "\\item 'ZNF860'\n",
       "\\item 'ZNF885P'\n",
       "\\item 'ZNF887P'\n",
       "\\item 'ZNF98'\n",
       "\\item 'ZNRF3-AS1'\n",
       "\\item 'ZNRF4'\n",
       "\\item 'ZPLD1'\n",
       "\\item 'ZRANB2-AS1'\n",
       "\\item 'ZRSR2'\n",
       "\\item 'ZSCAN4'\n",
       "\\item 'ZYG11A'\n",
       "\\end{enumerate*}\n"
      ],
      "text/markdown": [
       "1. A2M\n",
       "2. A2ML1\n",
       "3. A4GNT\n",
       "4. AACSP1\n",
       "5. AADAC\n",
       "6. AADAC\n",
       "\n",
       "\n",
       "\n",
       "**Levels**: 1. 'A2M'\n",
       "2. 'A2ML1'\n",
       "3. 'A4GNT'\n",
       "4. 'AACSP1'\n",
       "5. 'AADAC'\n",
       "6. 'AADACL2-AS1'\n",
       "7. 'AADACL3'\n",
       "8. 'AADACL4'\n",
       "9. 'AANAT'\n",
       "10. 'AARD'\n",
       "11. 'AATBC'\n",
       "12. 'AATK'\n",
       "13. 'ABCA12'\n",
       "14. 'ABCA13'\n",
       "15. 'ABCA4'\n",
       "16. 'ABCA8'\n",
       "17. 'ABCB1'\n",
       "18. 'ABCB11'\n",
       "19. 'ABCB4'\n",
       "20. 'ABCB5'\n",
       "21. 'ABCC11'\n",
       "22. 'ABCC12'\n",
       "23. 'ABCC3'\n",
       "24. 'ABCC6'\n",
       "25. 'ABCC6P1'\n",
       "26. 'ABCC8'\n",
       "27. 'ABCC9'\n",
       "28. 'ABCD2'\n",
       "29. 'ABCG8'\n",
       "30. 'ABHD11'\n",
       "31. 'ABLIM2'\n",
       "32. 'ABLIM3'\n",
       "33. 'ABRA'\n",
       "34. 'AC002059.1'\n",
       "35. 'AC002066.1'\n",
       "36. 'AC002094.5'\n",
       "37. 'AC002316.1'\n",
       "38. 'AC002383.1'\n",
       "39. 'AC002400.1'\n",
       "40. 'AC002428.2'\n",
       "41. 'AC002472.1'\n",
       "42. 'AC002511.1'\n",
       "43. 'AC002511.2'\n",
       "44. 'AC002525.1'\n",
       "45. 'AC002546.1'\n",
       "46. 'AC003035.1'\n",
       "47. 'AC003958.2'\n",
       "48. 'AC003986.1'\n",
       "49. 'AC003986.2'\n",
       "50. 'AC003986.3'\n",
       "51. 'AC003991.1'\n",
       "52. 'AC004023.1'\n",
       "53. 'AC004066.2'\n",
       "54. 'AC004080.1'\n",
       "55. 'AC004130.2'\n",
       "56. 'AC004160.1'\n",
       "57. 'AC004231.1'\n",
       "58. 'AC004233.1'\n",
       "59. 'AC004233.2'\n",
       "60. 'AC004264.1'\n",
       "61. 'AC004381.1'\n",
       "62. 'AC004381.3'\n",
       "63. 'AC004494.1'\n",
       "64. 'AC004522.4'\n",
       "65. 'AC004540.1'\n",
       "66. 'AC004540.2'\n",
       "67. 'AC004551.1'\n",
       "68. 'AC004554.2'\n",
       "69. 'AC004584.3'\n",
       "70. 'AC004687.1'\n",
       "71. 'AC004706.1'\n",
       "72. 'AC004784.1'\n",
       "73. 'AC004816.1'\n",
       "74. 'AC004828.1'\n",
       "75. 'AC004830.2'\n",
       "76. 'AC004832.4'\n",
       "77. 'AC004870.1'\n",
       "78. 'AC004870.2'\n",
       "79. 'AC004917.1'\n",
       "80. 'AC004923.1'\n",
       "81. 'AC004925.1'\n",
       "82. 'AC004947.1'\n",
       "83. 'AC004947.2'\n",
       "84. 'AC004969.1'\n",
       "85. 'AC004988.1'\n",
       "86. 'AC005013.1'\n",
       "87. 'AC005034.5'\n",
       "88. 'AC005052.1'\n",
       "89. 'AC005062.1'\n",
       "90. 'AC005064.1'\n",
       "91. 'AC005077.4'\n",
       "92. 'AC005082.1'\n",
       "93. 'AC005083.1'\n",
       "94. 'AC005089.1'\n",
       "95. 'AC005144.1'\n",
       "96. 'AC005162.1'\n",
       "97. 'AC005162.2'\n",
       "98. 'AC005165.1'\n",
       "99. 'AC005165.2'\n",
       "100. 'AC005180.1'\n",
       "101. 'AC005180.2'\n",
       "102. 'AC005208.1'\n",
       "103. 'AC005224.3'\n",
       "104. 'AC005230.1'\n",
       "105. 'AC005237.1'\n",
       "106. 'AC005252.3'\n",
       "107. 'AC005291.1'\n",
       "108. 'AC005291.2'\n",
       "109. 'AC005323.1'\n",
       "110. 'AC005323.2'\n",
       "111. 'AC005336.1'\n",
       "112. 'AC005336.2'\n",
       "113. 'AC005336.3'\n",
       "114. 'AC005358.1'\n",
       "115. 'AC005476.2'\n",
       "116. 'AC005479.1'\n",
       "117. 'AC005481.1'\n",
       "118. 'AC005537.2'\n",
       "119. 'AC005550.2'\n",
       "120. 'AC005586.2'\n",
       "121. 'AC005674.2'\n",
       "122. 'AC005699.1'\n",
       "123. 'AC005722.3'\n",
       "124. 'AC005730.2'\n",
       "125. 'AC005747.1'\n",
       "126. 'AC005828.5'\n",
       "127. 'AC005831.1'\n",
       "128. 'AC005837.4'\n",
       "129. 'AC005840.2'\n",
       "130. 'AC005840.3'\n",
       "131. 'AC005884.1'\n",
       "132. 'AC005906.2'\n",
       "133. 'AC005920.4'\n",
       "134. 'AC005962.1'\n",
       "135. 'AC006033.1'\n",
       "136. 'AC006058.1'\n",
       "137. 'AC006058.3'\n",
       "138. 'AC006058.4'\n",
       "139. 'AC006157.1'\n",
       "140. 'AC006159.2'\n",
       "141. 'AC006238.1'\n",
       "142. 'AC006262.1'\n",
       "143. 'AC006305.2'\n",
       "144. 'AC006369.1'\n",
       "145. 'AC006441.4'\n",
       "146. 'AC006450.3'\n",
       "147. 'AC006460.1'\n",
       "148. 'AC006487.1'\n",
       "149. 'AC006487.2'\n",
       "150. 'AC006566.1'\n",
       "151. 'AC006946.2'\n",
       "152. 'AC006946.3'\n",
       "153. 'AC006963.2'\n",
       "154. 'AC006970.1'\n",
       "155. 'AC006974.2'\n",
       "156. 'AC006994.2'\n",
       "157. 'AC007040.3'\n",
       "158. 'AC007114.2'\n",
       "159. 'AC007126.1'\n",
       "160. 'AC007193.2'\n",
       "161. 'AC007224.2'\n",
       "162. 'AC007255.1'\n",
       "163. 'AC007277.1'\n",
       "164. 'AC007278.1'\n",
       "165. 'AC007319.1'\n",
       "166. 'AC007342.3'\n",
       "167. 'AC007342.4'\n",
       "168. 'AC007342.5'\n",
       "169. 'AC007342.8'\n",
       "170. 'AC007342.9'\n",
       "171. 'AC007368.1'\n",
       "172. 'AC007395.1'\n",
       "173. 'AC007405.2'\n",
       "174. 'AC007406.3'\n",
       "175. 'AC007423.1'\n",
       "176. 'AC007424.1'\n",
       "177. 'AC007431.3'\n",
       "178. 'AC007490.1'\n",
       "179. 'AC007552.2'\n",
       "180. 'AC007569.1'\n",
       "181. 'AC007608.1'\n",
       "182. 'AC007614.1'\n",
       "183. 'AC007666.1'\n",
       "184. 'AC007671.1'\n",
       "185. 'AC007686.1'\n",
       "186. 'AC007743.1'\n",
       "187. 'AC007848.1'\n",
       "188. 'AC007876.1'\n",
       "189. 'AC007906.2'\n",
       "190. 'AC007919.1'\n",
       "191. 'AC007920.2'\n",
       "192. 'AC007952.4'\n",
       "193. 'AC007952.6'\n",
       "194. 'AC007996.1'\n",
       "195. 'AC007998.4'\n",
       "196. 'AC008013.3'\n",
       "197. 'AC008014.1'\n",
       "198. 'AC008035.1'\n",
       "199. 'AC008060.4'\n",
       "200. 'AC008073.1'\n",
       "201. ⋯\n",
       "202. 'UNC5D'\n",
       "203. 'UNGP3'\n",
       "204. 'UPB1'\n",
       "205. 'UPK1B'\n",
       "206. 'UPK2'\n",
       "207. 'UPK3A'\n",
       "208. 'UPP1'\n",
       "209. 'URAD'\n",
       "210. 'USH1C'\n",
       "211. 'USH2A'\n",
       "212. 'USHBP1'\n",
       "213. 'USP17L2'\n",
       "214. 'USP32P2'\n",
       "215. 'USP43'\n",
       "216. 'USP6'\n",
       "217. 'USP9Y'\n",
       "218. 'USP9YP14'\n",
       "219. 'UTS2R'\n",
       "220. 'UTY'\n",
       "221. 'VAMP5'\n",
       "222. 'VANGL2'\n",
       "223. 'VASH2'\n",
       "224. 'VAT1L'\n",
       "225. 'VAV3'\n",
       "226. 'VAX2'\n",
       "227. 'VCX'\n",
       "228. 'VDAC2P3'\n",
       "229. 'VDR'\n",
       "230. 'VEGFD'\n",
       "231. 'VGLL1'\n",
       "232. 'VGLL2'\n",
       "233. 'VIL1'\n",
       "234. 'VIM'\n",
       "235. 'VIM-AS1'\n",
       "236. 'VIPR2'\n",
       "237. 'VIT'\n",
       "238. 'VLDLR-AS1'\n",
       "239. 'VMO1'\n",
       "240. 'VN1R21P'\n",
       "241. 'VN1R53P'\n",
       "242. 'VN2R10P'\n",
       "243. 'VN2R17P'\n",
       "244. 'VNN1'\n",
       "245. 'VPREB1'\n",
       "246. 'VPREB3'\n",
       "247. 'VPS9D1-AS1'\n",
       "248. 'VSIG1'\n",
       "249. 'VSIG4'\n",
       "250. 'VSNL1'\n",
       "251. 'VSTM2A'\n",
       "252. 'VSTM2A-OT1'\n",
       "253. 'VSTM5'\n",
       "254. 'VSX1'\n",
       "255. 'VTCN1'\n",
       "256. 'VWA3B'\n",
       "257. 'VWA5B1'\n",
       "258. 'VWC2'\n",
       "259. 'VWCE'\n",
       "260. 'VWDE'\n",
       "261. 'VWF'\n",
       "262. 'WASF5P'\n",
       "263. 'WASIR2'\n",
       "264. 'WDFY4'\n",
       "265. 'WDR72'\n",
       "266. 'WDR86'\n",
       "267. 'WDR86-AS1'\n",
       "268. 'WEE1'\n",
       "269. 'WFDC1'\n",
       "270. 'WFDC12'\n",
       "271. 'WFDC2'\n",
       "272. 'WFDC21P'\n",
       "273. 'WFDC6'\n",
       "274. 'WFDC8'\n",
       "275. 'WHRN'\n",
       "276. 'WIF1'\n",
       "277. 'WIPF3'\n",
       "278. 'WNK2'\n",
       "279. 'WNK4'\n",
       "280. 'WNT1'\n",
       "281. 'WNT10A'\n",
       "282. 'WNT10B'\n",
       "283. 'WNT11'\n",
       "284. 'WNT2'\n",
       "285. 'WNT3A'\n",
       "286. 'WNT4'\n",
       "287. 'WNT5A'\n",
       "288. 'WNT5A-AS1'\n",
       "289. 'WNT7B'\n",
       "290. 'WNT8A'\n",
       "291. 'WNT8B'\n",
       "292. 'WSCD2'\n",
       "293. 'WTAPP1'\n",
       "294. 'WWC1'\n",
       "295. 'WWC2-AS1'\n",
       "296. 'XAGE2'\n",
       "297. 'XAGE3'\n",
       "298. 'XCL1'\n",
       "299. 'XCL2'\n",
       "300. 'XCR1'\n",
       "301. 'XDH'\n",
       "302. 'XG'\n",
       "303. 'XGY1'\n",
       "304. 'XIST'\n",
       "305. 'XKR4'\n",
       "306. 'XKR5'\n",
       "307. 'XKR7'\n",
       "308. 'XKRX'\n",
       "309. 'XPNPEP2'\n",
       "310. 'XPOTP1'\n",
       "311. 'Z82185.1'\n",
       "312. 'Z82206.1'\n",
       "313. 'Z82246.1'\n",
       "314. 'Z84485.1'\n",
       "315. 'Z84492.1'\n",
       "316. 'Z94057.1'\n",
       "317. 'Z94721.1'\n",
       "318. 'Z97205.2'\n",
       "319. 'Z97653.2'\n",
       "320. 'Z98259.1'\n",
       "321. 'Z99129.3'\n",
       "322. 'Z99289.2'\n",
       "323. 'Z99774.1'\n",
       "324. 'Z99916.2'\n",
       "325. 'Z99943.1'\n",
       "326. 'ZAP70'\n",
       "327. 'ZBED1'\n",
       "328. 'ZBED2'\n",
       "329. 'ZBED6CL'\n",
       "330. 'ZBED9'\n",
       "331. 'ZBP1'\n",
       "332. 'ZBTB8B'\n",
       "333. 'ZC2HC1B'\n",
       "334. 'ZC3H11B'\n",
       "335. 'ZCCHC12'\n",
       "336. 'ZDHHC19'\n",
       "337. 'ZDHHC20P1'\n",
       "338. 'ZDHHC8P1'\n",
       "339. 'ZFP57'\n",
       "340. 'ZFX'\n",
       "341. 'ZFX-AS1'\n",
       "342. 'ZFY'\n",
       "343. 'ZFY-AS1'\n",
       "344. 'ZG16B'\n",
       "345. 'ZIC1'\n",
       "346. 'ZIC2'\n",
       "347. 'ZIC3'\n",
       "348. 'ZIC4'\n",
       "349. 'ZIC5'\n",
       "350. 'ZMAT4'\n",
       "351. 'ZMYND15'\n",
       "352. 'ZNF114'\n",
       "353. 'ZNF157'\n",
       "354. 'ZNF165'\n",
       "355. 'ZNF185'\n",
       "356. 'ZNF209P'\n",
       "357. 'ZNF215'\n",
       "358. 'ZNF296'\n",
       "359. 'ZNF334'\n",
       "360. 'ZNF33B'\n",
       "361. 'ZNF350-AS1'\n",
       "362. 'ZNF365'\n",
       "363. 'ZNF366'\n",
       "364. 'ZNF385B'\n",
       "365. 'ZNF385C'\n",
       "366. 'ZNF385D'\n",
       "367. 'ZNF385D-AS1'\n",
       "368. 'ZNF469'\n",
       "369. 'ZNF474'\n",
       "370. 'ZNF497'\n",
       "371. 'ZNF536'\n",
       "372. 'ZNF552'\n",
       "373. 'ZNF608'\n",
       "374. 'ZNF648'\n",
       "375. 'ZNF663P'\n",
       "376. 'ZNF667'\n",
       "377. 'ZNF683'\n",
       "378. 'ZNF689'\n",
       "379. 'ZNF711'\n",
       "380. 'ZNF726'\n",
       "381. 'ZNF727'\n",
       "382. 'ZNF736P9Y'\n",
       "383. 'ZNF750'\n",
       "384. 'ZNF774'\n",
       "385. 'ZNF80'\n",
       "386. 'ZNF804B'\n",
       "387. 'ZNF812P'\n",
       "388. 'ZNF831'\n",
       "389. 'ZNF839P1'\n",
       "390. 'ZNF840P'\n",
       "391. 'ZNF860'\n",
       "392. 'ZNF885P'\n",
       "393. 'ZNF887P'\n",
       "394. 'ZNF98'\n",
       "395. 'ZNRF3-AS1'\n",
       "396. 'ZNRF4'\n",
       "397. 'ZPLD1'\n",
       "398. 'ZRANB2-AS1'\n",
       "399. 'ZRSR2'\n",
       "400. 'ZSCAN4'\n",
       "401. 'ZYG11A'\n",
       "\n",
       "\n"
      ],
      "text/plain": [
       "[1] A2M    A2ML1  A4GNT  AACSP1 AADAC  AADAC \n",
       "7417 Levels: A2M A2ML1 A4GNT AACSP1 AADAC AADACL2-AS1 AADACL3 AADACL4 ... ZYG11A"
      ]
     },
     "metadata": {},
     "output_type": "display_data"
    }
   ],
   "source": [
    "total_AS_Genes <- read.table(file=\"../data/Total_AS_by_geneSymbol.tsv\", header=TRUE, sep=\"\\t\",\n",
    "                               skipNul=FALSE, stringsAsFactors = FALSE)\n",
    "sigAsGenes <- sort(total_AS_Genes$GeneSymbol)\n",
    "dge <- read.table(\"../data/gene_dge.tsv\", sep = \"\\t\", header = FALSE, row.names=1, skip = 1)\n",
    "dge_genes <- sort(dge$V5)\n",
    "head(dge_genes)"
   ]
  },
  {
   "cell_type": "markdown",
   "metadata": {},
   "source": [
    "### Appendix - Metadata\n",
    "\n",
    "For replicability and reproducibility purposes, we also print the following metadata:\n",
    "\n",
    "1. Checksums of **'artefacts'**, files generated during the analysis and stored in the folder directory **`data`**\n",
    "2. List of environment metadata, dependencies, versions of libraries using `utils::sessionInfo()` and [`devtools::session_info()`](https://devtools.r-lib.org/reference/session_info.html)"
   ]
  },
  {
   "cell_type": "markdown",
   "metadata": {},
   "source": [
    "### Appendix 1. Checksums with the sha256 algorithm"
   ]
  },
  {
   "cell_type": "code",
   "execution_count": 52,
   "metadata": {},
   "outputs": [
    {
     "name": "stderr",
     "output_type": "stream",
     "text": [
      "Warning message in rm(notebookid):\n",
      "“object 'notebookid' not found”\n"
     ]
    },
    {
     "data": {
      "text/html": [
       "'countGenesAndEvents'"
      ],
      "text/latex": [
       "'countGenesAndEvents'"
      ],
      "text/markdown": [
       "'countGenesAndEvents'"
      ],
      "text/plain": [
       "[1] \"countGenesAndEvents\""
      ]
     },
     "metadata": {},
     "output_type": "display_data"
    },
    {
     "name": "stderr",
     "output_type": "stream",
     "text": [
      "Generating sha256 checksums of the file `../data/Total_AS_by_tissue.tsv` directory .. \n",
      "\n"
     ]
    },
    {
     "data": {
      "text/html": [],
      "text/latex": [],
      "text/markdown": [],
      "text/plain": [
       "character(0)"
      ]
     },
     "metadata": {},
     "output_type": "display_data"
    },
    {
     "name": "stderr",
     "output_type": "stream",
     "text": [
      "Done!\n",
      "\n",
      "\n",
      "Generating sha256 checksums of the file `../data/Significant_events.tsv` directory .. \n",
      "\n"
     ]
    },
    {
     "data": {
      "text/html": [],
      "text/latex": [],
      "text/markdown": [],
      "text/plain": [
       "character(0)"
      ]
     },
     "metadata": {},
     "output_type": "display_data"
    },
    {
     "name": "stderr",
     "output_type": "stream",
     "text": [
      "Done!\n",
      "\n",
      "\n",
      "Generating sha256 checksums of the file `../data/Significant_events.tsv` directory .. \n",
      "\n"
     ]
    },
    {
     "data": {
      "text/html": [],
      "text/latex": [],
      "text/markdown": [],
      "text/plain": [
       "character(0)"
      ]
     },
     "metadata": {},
     "output_type": "display_data"
    },
    {
     "name": "stderr",
     "output_type": "stream",
     "text": [
      "Done!\n",
      "\n",
      "\n"
     ]
    },
    {
     "data": {
      "text/html": [
       "'../metadata/countGenesAndEvents_sha256sums.txt'"
      ],
      "text/latex": [
       "'../metadata/countGenesAndEvents\\_sha256sums.txt'"
      ],
      "text/markdown": [
       "'../metadata/countGenesAndEvents_sha256sums.txt'"
      ],
      "text/plain": [
       "[1] \"../metadata/countGenesAndEvents_sha256sums.txt\""
      ]
     },
     "metadata": {},
     "output_type": "display_data"
    },
    {
     "data": {
      "text/html": [
       "<table>\n",
       "<caption>A data.table: 1 × 2</caption>\n",
       "<thead>\n",
       "\t<tr><th scope=col>sha256sum</th><th scope=col>file</th></tr>\n",
       "\t<tr><th scope=col>&lt;chr&gt;</th><th scope=col>&lt;chr&gt;</th></tr>\n",
       "</thead>\n",
       "<tbody>\n",
       "\t<tr><td>3fc39e8757ee71d9314c4e8d860a2b89d1cd38737eabbbf6e31ab5c45f635930</td><td>./SplicingIndex_chr.tsv</td></tr>\n",
       "</tbody>\n",
       "</table>\n"
      ],
      "text/latex": [
       "A data.table: 1 × 2\n",
       "\\begin{tabular}{ll}\n",
       " sha256sum & file\\\\\n",
       " <chr> & <chr>\\\\\n",
       "\\hline\n",
       "\t 3fc39e8757ee71d9314c4e8d860a2b89d1cd38737eabbbf6e31ab5c45f635930 & ./SplicingIndex\\_chr.tsv\\\\\n",
       "\\end{tabular}\n"
      ],
      "text/markdown": [
       "\n",
       "A data.table: 1 × 2\n",
       "\n",
       "| sha256sum &lt;chr&gt; | file &lt;chr&gt; |\n",
       "|---|---|\n",
       "| 3fc39e8757ee71d9314c4e8d860a2b89d1cd38737eabbbf6e31ab5c45f635930 | ./SplicingIndex_chr.tsv |\n",
       "\n"
      ],
      "text/plain": [
       "  sha256sum                                                       \n",
       "1 3fc39e8757ee71d9314c4e8d860a2b89d1cd38737eabbbf6e31ab5c45f635930\n",
       "  file                   \n",
       "1 ./SplicingIndex_chr.tsv"
      ]
     },
     "metadata": {},
     "output_type": "display_data"
    }
   ],
   "source": [
    "rm (notebookid)\n",
    "notebookid   = \"countGenesAndEvents\"\n",
    "notebookid\n",
    "\n",
    "message(\"Generating sha256 checksums of the file `../data/Total_AS_by_tissue.tsv` directory .. \")\n",
    "system(paste0(\"cd ../data && find . -name SplicingIndex_chr.tsv -exec sha256sum {} \\\\;  >  ../metadata/\", notebookid, \"_sha256sums.txt\"), intern = TRUE)\n",
    "message(\"Done!\\n\")\n",
    "\n",
    "message(\"Generating sha256 checksums of the file `../data/Significant_events.tsv` directory .. \")\n",
    "system(paste0(\"cd ../data && find . -name SplicingIndex_chr.tsv -exec sha256sum {} \\\\;  >  ../metadata/\", notebookid, \"_sha256sums.txt\"), intern = TRUE)\n",
    "message(\"Done!\\n\")\n",
    "\n",
    "message(\"Generating sha256 checksums of the file `../data/Significant_events.tsv` directory .. \")\n",
    "system(paste0(\"cd ../data && find . -name SplicingIndex_chr.tsv -exec sha256sum {} \\\\;  >  ../metadata/\", notebookid, \"_sha256sums.txt\"), intern = TRUE)\n",
    "message(\"Done!\\n\")\n",
    "\n",
    "\n",
    "paste0(\"../metadata/\", notebookid, \"_sha256sums.txt\")\n",
    "\n",
    "data.table::fread(paste0(\"../metadata/\", notebookid, \"_sha256sums.txt\"), header = FALSE, col.names = c(\"sha256sum\", \"file\"))"
   ]
  },
  {
   "cell_type": "markdown",
   "metadata": {},
   "source": [
    "### Appendix 2. Libraries metadata"
   ]
  },
  {
   "cell_type": "code",
   "execution_count": 53,
   "metadata": {},
   "outputs": [
    {
     "name": "stderr",
     "output_type": "stream",
     "text": [
      "Saving `devtools::session_info()` objects in ../metadata/devtools_session_info.rds  ..\n",
      "\n",
      "Done!\n",
      "\n",
      "\n",
      "Saving `utils::sessionInfo()` objects in ../metadata/utils_session_info.rds  ..\n",
      "\n",
      "Done!\n",
      "\n",
      "\n"
     ]
    },
    {
     "data": {
      "text/plain": [
       " setting  value                       \n",
       " version  R version 3.6.2 (2019-12-12)\n",
       " os       Ubuntu 18.04.3 LTS          \n",
       " system   x86_64, linux-gnu           \n",
       " ui       X11                         \n",
       " language en_US.UTF-8                 \n",
       " collate  en_US.UTF-8                 \n",
       " ctype    en_US.UTF-8                 \n",
       " tz       Etc/UTC                     \n",
       " date     2020-06-18                  "
      ]
     },
     "metadata": {},
     "output_type": "display_data"
    },
    {
     "data": {
      "text/html": [
       "<table>\n",
       "<caption>A packages_info: 16 × 11</caption>\n",
       "<thead>\n",
       "\t<tr><th></th><th scope=col>package</th><th scope=col>ondiskversion</th><th scope=col>loadedversion</th><th scope=col>path</th><th scope=col>loadedpath</th><th scope=col>attached</th><th scope=col>is_base</th><th scope=col>date</th><th scope=col>source</th><th scope=col>md5ok</th><th scope=col>library</th></tr>\n",
       "\t<tr><th></th><th scope=col>&lt;chr&gt;</th><th scope=col>&lt;chr&gt;</th><th scope=col>&lt;chr&gt;</th><th scope=col>&lt;chr&gt;</th><th scope=col>&lt;chr&gt;</th><th scope=col>&lt;lgl&gt;</th><th scope=col>&lt;lgl&gt;</th><th scope=col>&lt;chr&gt;</th><th scope=col>&lt;chr&gt;</th><th scope=col>&lt;lgl&gt;</th><th scope=col>&lt;fct&gt;</th></tr>\n",
       "</thead>\n",
       "<tbody>\n",
       "\t<tr><th scope=row>Biobase</th><td>Biobase      </td><td>2.46.0</td><td>2.46.0</td><td>/opt/conda/lib/R/library/Biobase      </td><td>/opt/conda/lib/R/library/Biobase      </td><td>TRUE</td><td>FALSE</td><td>2019-10-29</td><td>Bioconductor  </td><td>NA</td><td>/opt/conda/lib/R/library</td></tr>\n",
       "\t<tr><th scope=row>BiocGenerics</th><td>BiocGenerics </td><td>0.32.0</td><td>0.32.0</td><td>/opt/conda/lib/R/library/BiocGenerics </td><td>/opt/conda/lib/R/library/BiocGenerics </td><td>TRUE</td><td>FALSE</td><td>2019-10-29</td><td>Bioconductor  </td><td>NA</td><td>/opt/conda/lib/R/library</td></tr>\n",
       "\t<tr><th scope=row>dplyr</th><td>dplyr        </td><td>0.8.4 </td><td>0.8.4 </td><td>/opt/conda/lib/R/library/dplyr        </td><td>/opt/conda/lib/R/library/dplyr        </td><td>TRUE</td><td>FALSE</td><td>2020-01-31</td><td>CRAN (R 3.6.2)</td><td>NA</td><td>/opt/conda/lib/R/library</td></tr>\n",
       "\t<tr><th scope=row>edgeR</th><td>edgeR        </td><td>3.28.0</td><td>3.28.0</td><td>/opt/conda/lib/R/library/edgeR        </td><td>/opt/conda/lib/R/library/edgeR        </td><td>TRUE</td><td>FALSE</td><td>2019-10-29</td><td>Bioconductor  </td><td>NA</td><td>/opt/conda/lib/R/library</td></tr>\n",
       "\t<tr><th scope=row>GenomeInfoDb</th><td>GenomeInfoDb </td><td>1.22.0</td><td>1.22.0</td><td>/opt/conda/lib/R/library/GenomeInfoDb </td><td>/opt/conda/lib/R/library/GenomeInfoDb </td><td>TRUE</td><td>FALSE</td><td>2019-10-29</td><td>Bioconductor  </td><td>NA</td><td>/opt/conda/lib/R/library</td></tr>\n",
       "\t<tr><th scope=row>GenomicRanges</th><td>GenomicRanges</td><td>1.38.0</td><td>1.38.0</td><td>/opt/conda/lib/R/library/GenomicRanges</td><td>/opt/conda/lib/R/library/GenomicRanges</td><td>TRUE</td><td>FALSE</td><td>2019-10-29</td><td>Bioconductor  </td><td>NA</td><td>/opt/conda/lib/R/library</td></tr>\n",
       "\t<tr><th scope=row>ggplot2</th><td>ggplot2      </td><td>3.2.1 </td><td>3.2.1 </td><td>/opt/conda/lib/R/library/ggplot2      </td><td>/opt/conda/lib/R/library/ggplot2      </td><td>TRUE</td><td>FALSE</td><td>2019-08-10</td><td>CRAN (R 3.6.1)</td><td>NA</td><td>/opt/conda/lib/R/library</td></tr>\n",
       "\t<tr><th scope=row>IRanges</th><td>IRanges      </td><td>2.20.0</td><td>2.20.0</td><td>/opt/conda/lib/R/library/IRanges      </td><td>/opt/conda/lib/R/library/IRanges      </td><td>TRUE</td><td>FALSE</td><td>2019-10-29</td><td>Bioconductor  </td><td>NA</td><td>/opt/conda/lib/R/library</td></tr>\n",
       "\t<tr><th scope=row>limma</th><td>limma        </td><td>3.42.0</td><td>3.42.0</td><td>/opt/conda/lib/R/library/limma        </td><td>/opt/conda/lib/R/library/limma        </td><td>TRUE</td><td>FALSE</td><td>2019-10-29</td><td>Bioconductor  </td><td>NA</td><td>/opt/conda/lib/R/library</td></tr>\n",
       "\t<tr><th scope=row>multtest</th><td>multtest     </td><td>2.42.0</td><td>2.42.0</td><td>/opt/conda/lib/R/library/multtest     </td><td>/opt/conda/lib/R/library/multtest     </td><td>TRUE</td><td>FALSE</td><td>2019-10-29</td><td>Bioconductor  </td><td>NA</td><td>/opt/conda/lib/R/library</td></tr>\n",
       "\t<tr><th scope=row>R.methodsS3</th><td>R.methodsS3  </td><td>1.8.0 </td><td>1.8.0 </td><td>/opt/conda/lib/R/library/R.methodsS3  </td><td>/opt/conda/lib/R/library/R.methodsS3  </td><td>TRUE</td><td>FALSE</td><td>2020-02-14</td><td>CRAN (R 3.6.3)</td><td>NA</td><td>/opt/conda/lib/R/library</td></tr>\n",
       "\t<tr><th scope=row>R.oo</th><td>R.oo         </td><td>1.23.0</td><td>1.23.0</td><td>/opt/conda/lib/R/library/R.oo         </td><td>/opt/conda/lib/R/library/R.oo         </td><td>TRUE</td><td>FALSE</td><td>2019-11-03</td><td>CRAN (R 3.6.3)</td><td>NA</td><td>/opt/conda/lib/R/library</td></tr>\n",
       "\t<tr><th scope=row>R.utils</th><td>R.utils      </td><td>2.9.2 </td><td>2.9.2 </td><td>/opt/conda/lib/R/library/R.utils      </td><td>/opt/conda/lib/R/library/R.utils      </td><td>TRUE</td><td>FALSE</td><td>2019-12-08</td><td>CRAN (R 3.6.3)</td><td>NA</td><td>/opt/conda/lib/R/library</td></tr>\n",
       "\t<tr><th scope=row>rtracklayer</th><td>rtracklayer  </td><td>1.46.0</td><td>1.46.0</td><td>/opt/conda/lib/R/library/rtracklayer  </td><td>/opt/conda/lib/R/library/rtracklayer  </td><td>TRUE</td><td>FALSE</td><td>2019-10-29</td><td>Bioconductor  </td><td>NA</td><td>/opt/conda/lib/R/library</td></tr>\n",
       "\t<tr><th scope=row>S4Vectors</th><td>S4Vectors    </td><td>0.24.0</td><td>0.24.0</td><td>/opt/conda/lib/R/library/S4Vectors    </td><td>/opt/conda/lib/R/library/S4Vectors    </td><td>TRUE</td><td>FALSE</td><td>2019-10-29</td><td>Bioconductor  </td><td>NA</td><td>/opt/conda/lib/R/library</td></tr>\n",
       "\t<tr><th scope=row>tibble</th><td>tibble       </td><td>2.1.3 </td><td>2.1.3 </td><td>/opt/conda/lib/R/library/tibble       </td><td>/opt/conda/lib/R/library/tibble       </td><td>TRUE</td><td>FALSE</td><td>2019-06-06</td><td>CRAN (R 3.6.1)</td><td>NA</td><td>/opt/conda/lib/R/library</td></tr>\n",
       "</tbody>\n",
       "</table>\n"
      ],
      "text/latex": [
       "A packages\\_info: 16 × 11\n",
       "\\begin{tabular}{r|lllllllllll}\n",
       "  & package & ondiskversion & loadedversion & path & loadedpath & attached & is\\_base & date & source & md5ok & library\\\\\n",
       "  & <chr> & <chr> & <chr> & <chr> & <chr> & <lgl> & <lgl> & <chr> & <chr> & <lgl> & <fct>\\\\\n",
       "\\hline\n",
       "\tBiobase & Biobase       & 2.46.0 & 2.46.0 & /opt/conda/lib/R/library/Biobase       & /opt/conda/lib/R/library/Biobase       & TRUE & FALSE & 2019-10-29 & Bioconductor   & NA & /opt/conda/lib/R/library\\\\\n",
       "\tBiocGenerics & BiocGenerics  & 0.32.0 & 0.32.0 & /opt/conda/lib/R/library/BiocGenerics  & /opt/conda/lib/R/library/BiocGenerics  & TRUE & FALSE & 2019-10-29 & Bioconductor   & NA & /opt/conda/lib/R/library\\\\\n",
       "\tdplyr & dplyr         & 0.8.4  & 0.8.4  & /opt/conda/lib/R/library/dplyr         & /opt/conda/lib/R/library/dplyr         & TRUE & FALSE & 2020-01-31 & CRAN (R 3.6.2) & NA & /opt/conda/lib/R/library\\\\\n",
       "\tedgeR & edgeR         & 3.28.0 & 3.28.0 & /opt/conda/lib/R/library/edgeR         & /opt/conda/lib/R/library/edgeR         & TRUE & FALSE & 2019-10-29 & Bioconductor   & NA & /opt/conda/lib/R/library\\\\\n",
       "\tGenomeInfoDb & GenomeInfoDb  & 1.22.0 & 1.22.0 & /opt/conda/lib/R/library/GenomeInfoDb  & /opt/conda/lib/R/library/GenomeInfoDb  & TRUE & FALSE & 2019-10-29 & Bioconductor   & NA & /opt/conda/lib/R/library\\\\\n",
       "\tGenomicRanges & GenomicRanges & 1.38.0 & 1.38.0 & /opt/conda/lib/R/library/GenomicRanges & /opt/conda/lib/R/library/GenomicRanges & TRUE & FALSE & 2019-10-29 & Bioconductor   & NA & /opt/conda/lib/R/library\\\\\n",
       "\tggplot2 & ggplot2       & 3.2.1  & 3.2.1  & /opt/conda/lib/R/library/ggplot2       & /opt/conda/lib/R/library/ggplot2       & TRUE & FALSE & 2019-08-10 & CRAN (R 3.6.1) & NA & /opt/conda/lib/R/library\\\\\n",
       "\tIRanges & IRanges       & 2.20.0 & 2.20.0 & /opt/conda/lib/R/library/IRanges       & /opt/conda/lib/R/library/IRanges       & TRUE & FALSE & 2019-10-29 & Bioconductor   & NA & /opt/conda/lib/R/library\\\\\n",
       "\tlimma & limma         & 3.42.0 & 3.42.0 & /opt/conda/lib/R/library/limma         & /opt/conda/lib/R/library/limma         & TRUE & FALSE & 2019-10-29 & Bioconductor   & NA & /opt/conda/lib/R/library\\\\\n",
       "\tmulttest & multtest      & 2.42.0 & 2.42.0 & /opt/conda/lib/R/library/multtest      & /opt/conda/lib/R/library/multtest      & TRUE & FALSE & 2019-10-29 & Bioconductor   & NA & /opt/conda/lib/R/library\\\\\n",
       "\tR.methodsS3 & R.methodsS3   & 1.8.0  & 1.8.0  & /opt/conda/lib/R/library/R.methodsS3   & /opt/conda/lib/R/library/R.methodsS3   & TRUE & FALSE & 2020-02-14 & CRAN (R 3.6.3) & NA & /opt/conda/lib/R/library\\\\\n",
       "\tR.oo & R.oo          & 1.23.0 & 1.23.0 & /opt/conda/lib/R/library/R.oo          & /opt/conda/lib/R/library/R.oo          & TRUE & FALSE & 2019-11-03 & CRAN (R 3.6.3) & NA & /opt/conda/lib/R/library\\\\\n",
       "\tR.utils & R.utils       & 2.9.2  & 2.9.2  & /opt/conda/lib/R/library/R.utils       & /opt/conda/lib/R/library/R.utils       & TRUE & FALSE & 2019-12-08 & CRAN (R 3.6.3) & NA & /opt/conda/lib/R/library\\\\\n",
       "\trtracklayer & rtracklayer   & 1.46.0 & 1.46.0 & /opt/conda/lib/R/library/rtracklayer   & /opt/conda/lib/R/library/rtracklayer   & TRUE & FALSE & 2019-10-29 & Bioconductor   & NA & /opt/conda/lib/R/library\\\\\n",
       "\tS4Vectors & S4Vectors     & 0.24.0 & 0.24.0 & /opt/conda/lib/R/library/S4Vectors     & /opt/conda/lib/R/library/S4Vectors     & TRUE & FALSE & 2019-10-29 & Bioconductor   & NA & /opt/conda/lib/R/library\\\\\n",
       "\ttibble & tibble        & 2.1.3  & 2.1.3  & /opt/conda/lib/R/library/tibble        & /opt/conda/lib/R/library/tibble        & TRUE & FALSE & 2019-06-06 & CRAN (R 3.6.1) & NA & /opt/conda/lib/R/library\\\\\n",
       "\\end{tabular}\n"
      ],
      "text/markdown": [
       "\n",
       "A packages_info: 16 × 11\n",
       "\n",
       "| <!--/--> | package &lt;chr&gt; | ondiskversion &lt;chr&gt; | loadedversion &lt;chr&gt; | path &lt;chr&gt; | loadedpath &lt;chr&gt; | attached &lt;lgl&gt; | is_base &lt;lgl&gt; | date &lt;chr&gt; | source &lt;chr&gt; | md5ok &lt;lgl&gt; | library &lt;fct&gt; |\n",
       "|---|---|---|---|---|---|---|---|---|---|---|---|\n",
       "| Biobase | Biobase       | 2.46.0 | 2.46.0 | /opt/conda/lib/R/library/Biobase       | /opt/conda/lib/R/library/Biobase       | TRUE | FALSE | 2019-10-29 | Bioconductor   | NA | /opt/conda/lib/R/library |\n",
       "| BiocGenerics | BiocGenerics  | 0.32.0 | 0.32.0 | /opt/conda/lib/R/library/BiocGenerics  | /opt/conda/lib/R/library/BiocGenerics  | TRUE | FALSE | 2019-10-29 | Bioconductor   | NA | /opt/conda/lib/R/library |\n",
       "| dplyr | dplyr         | 0.8.4  | 0.8.4  | /opt/conda/lib/R/library/dplyr         | /opt/conda/lib/R/library/dplyr         | TRUE | FALSE | 2020-01-31 | CRAN (R 3.6.2) | NA | /opt/conda/lib/R/library |\n",
       "| edgeR | edgeR         | 3.28.0 | 3.28.0 | /opt/conda/lib/R/library/edgeR         | /opt/conda/lib/R/library/edgeR         | TRUE | FALSE | 2019-10-29 | Bioconductor   | NA | /opt/conda/lib/R/library |\n",
       "| GenomeInfoDb | GenomeInfoDb  | 1.22.0 | 1.22.0 | /opt/conda/lib/R/library/GenomeInfoDb  | /opt/conda/lib/R/library/GenomeInfoDb  | TRUE | FALSE | 2019-10-29 | Bioconductor   | NA | /opt/conda/lib/R/library |\n",
       "| GenomicRanges | GenomicRanges | 1.38.0 | 1.38.0 | /opt/conda/lib/R/library/GenomicRanges | /opt/conda/lib/R/library/GenomicRanges | TRUE | FALSE | 2019-10-29 | Bioconductor   | NA | /opt/conda/lib/R/library |\n",
       "| ggplot2 | ggplot2       | 3.2.1  | 3.2.1  | /opt/conda/lib/R/library/ggplot2       | /opt/conda/lib/R/library/ggplot2       | TRUE | FALSE | 2019-08-10 | CRAN (R 3.6.1) | NA | /opt/conda/lib/R/library |\n",
       "| IRanges | IRanges       | 2.20.0 | 2.20.0 | /opt/conda/lib/R/library/IRanges       | /opt/conda/lib/R/library/IRanges       | TRUE | FALSE | 2019-10-29 | Bioconductor   | NA | /opt/conda/lib/R/library |\n",
       "| limma | limma         | 3.42.0 | 3.42.0 | /opt/conda/lib/R/library/limma         | /opt/conda/lib/R/library/limma         | TRUE | FALSE | 2019-10-29 | Bioconductor   | NA | /opt/conda/lib/R/library |\n",
       "| multtest | multtest      | 2.42.0 | 2.42.0 | /opt/conda/lib/R/library/multtest      | /opt/conda/lib/R/library/multtest      | TRUE | FALSE | 2019-10-29 | Bioconductor   | NA | /opt/conda/lib/R/library |\n",
       "| R.methodsS3 | R.methodsS3   | 1.8.0  | 1.8.0  | /opt/conda/lib/R/library/R.methodsS3   | /opt/conda/lib/R/library/R.methodsS3   | TRUE | FALSE | 2020-02-14 | CRAN (R 3.6.3) | NA | /opt/conda/lib/R/library |\n",
       "| R.oo | R.oo          | 1.23.0 | 1.23.0 | /opt/conda/lib/R/library/R.oo          | /opt/conda/lib/R/library/R.oo          | TRUE | FALSE | 2019-11-03 | CRAN (R 3.6.3) | NA | /opt/conda/lib/R/library |\n",
       "| R.utils | R.utils       | 2.9.2  | 2.9.2  | /opt/conda/lib/R/library/R.utils       | /opt/conda/lib/R/library/R.utils       | TRUE | FALSE | 2019-12-08 | CRAN (R 3.6.3) | NA | /opt/conda/lib/R/library |\n",
       "| rtracklayer | rtracklayer   | 1.46.0 | 1.46.0 | /opt/conda/lib/R/library/rtracklayer   | /opt/conda/lib/R/library/rtracklayer   | TRUE | FALSE | 2019-10-29 | Bioconductor   | NA | /opt/conda/lib/R/library |\n",
       "| S4Vectors | S4Vectors     | 0.24.0 | 0.24.0 | /opt/conda/lib/R/library/S4Vectors     | /opt/conda/lib/R/library/S4Vectors     | TRUE | FALSE | 2019-10-29 | Bioconductor   | NA | /opt/conda/lib/R/library |\n",
       "| tibble | tibble        | 2.1.3  | 2.1.3  | /opt/conda/lib/R/library/tibble        | /opt/conda/lib/R/library/tibble        | TRUE | FALSE | 2019-06-06 | CRAN (R 3.6.1) | NA | /opt/conda/lib/R/library |\n",
       "\n"
      ],
      "text/plain": [
       "              package       ondiskversion loadedversion\n",
       "Biobase       Biobase       2.46.0        2.46.0       \n",
       "BiocGenerics  BiocGenerics  0.32.0        0.32.0       \n",
       "dplyr         dplyr         0.8.4         0.8.4        \n",
       "edgeR         edgeR         3.28.0        3.28.0       \n",
       "GenomeInfoDb  GenomeInfoDb  1.22.0        1.22.0       \n",
       "GenomicRanges GenomicRanges 1.38.0        1.38.0       \n",
       "ggplot2       ggplot2       3.2.1         3.2.1        \n",
       "IRanges       IRanges       2.20.0        2.20.0       \n",
       "limma         limma         3.42.0        3.42.0       \n",
       "multtest      multtest      2.42.0        2.42.0       \n",
       "R.methodsS3   R.methodsS3   1.8.0         1.8.0        \n",
       "R.oo          R.oo          1.23.0        1.23.0       \n",
       "R.utils       R.utils       2.9.2         2.9.2        \n",
       "rtracklayer   rtracklayer   1.46.0        1.46.0       \n",
       "S4Vectors     S4Vectors     0.24.0        0.24.0       \n",
       "tibble        tibble        2.1.3         2.1.3        \n",
       "              path                                  \n",
       "Biobase       /opt/conda/lib/R/library/Biobase      \n",
       "BiocGenerics  /opt/conda/lib/R/library/BiocGenerics \n",
       "dplyr         /opt/conda/lib/R/library/dplyr        \n",
       "edgeR         /opt/conda/lib/R/library/edgeR        \n",
       "GenomeInfoDb  /opt/conda/lib/R/library/GenomeInfoDb \n",
       "GenomicRanges /opt/conda/lib/R/library/GenomicRanges\n",
       "ggplot2       /opt/conda/lib/R/library/ggplot2      \n",
       "IRanges       /opt/conda/lib/R/library/IRanges      \n",
       "limma         /opt/conda/lib/R/library/limma        \n",
       "multtest      /opt/conda/lib/R/library/multtest     \n",
       "R.methodsS3   /opt/conda/lib/R/library/R.methodsS3  \n",
       "R.oo          /opt/conda/lib/R/library/R.oo         \n",
       "R.utils       /opt/conda/lib/R/library/R.utils      \n",
       "rtracklayer   /opt/conda/lib/R/library/rtracklayer  \n",
       "S4Vectors     /opt/conda/lib/R/library/S4Vectors    \n",
       "tibble        /opt/conda/lib/R/library/tibble       \n",
       "              loadedpath                             attached is_base\n",
       "Biobase       /opt/conda/lib/R/library/Biobase       TRUE     FALSE  \n",
       "BiocGenerics  /opt/conda/lib/R/library/BiocGenerics  TRUE     FALSE  \n",
       "dplyr         /opt/conda/lib/R/library/dplyr         TRUE     FALSE  \n",
       "edgeR         /opt/conda/lib/R/library/edgeR         TRUE     FALSE  \n",
       "GenomeInfoDb  /opt/conda/lib/R/library/GenomeInfoDb  TRUE     FALSE  \n",
       "GenomicRanges /opt/conda/lib/R/library/GenomicRanges TRUE     FALSE  \n",
       "ggplot2       /opt/conda/lib/R/library/ggplot2       TRUE     FALSE  \n",
       "IRanges       /opt/conda/lib/R/library/IRanges       TRUE     FALSE  \n",
       "limma         /opt/conda/lib/R/library/limma         TRUE     FALSE  \n",
       "multtest      /opt/conda/lib/R/library/multtest      TRUE     FALSE  \n",
       "R.methodsS3   /opt/conda/lib/R/library/R.methodsS3   TRUE     FALSE  \n",
       "R.oo          /opt/conda/lib/R/library/R.oo          TRUE     FALSE  \n",
       "R.utils       /opt/conda/lib/R/library/R.utils       TRUE     FALSE  \n",
       "rtracklayer   /opt/conda/lib/R/library/rtracklayer   TRUE     FALSE  \n",
       "S4Vectors     /opt/conda/lib/R/library/S4Vectors     TRUE     FALSE  \n",
       "tibble        /opt/conda/lib/R/library/tibble        TRUE     FALSE  \n",
       "              date       source         md5ok library                 \n",
       "Biobase       2019-10-29 Bioconductor   NA    /opt/conda/lib/R/library\n",
       "BiocGenerics  2019-10-29 Bioconductor   NA    /opt/conda/lib/R/library\n",
       "dplyr         2020-01-31 CRAN (R 3.6.2) NA    /opt/conda/lib/R/library\n",
       "edgeR         2019-10-29 Bioconductor   NA    /opt/conda/lib/R/library\n",
       "GenomeInfoDb  2019-10-29 Bioconductor   NA    /opt/conda/lib/R/library\n",
       "GenomicRanges 2019-10-29 Bioconductor   NA    /opt/conda/lib/R/library\n",
       "ggplot2       2019-08-10 CRAN (R 3.6.1) NA    /opt/conda/lib/R/library\n",
       "IRanges       2019-10-29 Bioconductor   NA    /opt/conda/lib/R/library\n",
       "limma         2019-10-29 Bioconductor   NA    /opt/conda/lib/R/library\n",
       "multtest      2019-10-29 Bioconductor   NA    /opt/conda/lib/R/library\n",
       "R.methodsS3   2020-02-14 CRAN (R 3.6.3) NA    /opt/conda/lib/R/library\n",
       "R.oo          2019-11-03 CRAN (R 3.6.3) NA    /opt/conda/lib/R/library\n",
       "R.utils       2019-12-08 CRAN (R 3.6.3) NA    /opt/conda/lib/R/library\n",
       "rtracklayer   2019-10-29 Bioconductor   NA    /opt/conda/lib/R/library\n",
       "S4Vectors     2019-10-29 Bioconductor   NA    /opt/conda/lib/R/library\n",
       "tibble        2019-06-06 CRAN (R 3.6.1) NA    /opt/conda/lib/R/library"
      ]
     },
     "metadata": {},
     "output_type": "display_data"
    }
   ],
   "source": [
    "dev_session_info   <- devtools::session_info()\n",
    "utils_session_info <- utils::sessionInfo()\n",
    "\n",
    "message(\"Saving `devtools::session_info()` objects in ../metadata/devtools_session_info.rds  ..\")\n",
    "saveRDS(dev_session_info, file = paste0(\"../metadata/\", notebookid, \"_devtools_session_info.rds\"))\n",
    "message(\"Done!\\n\")\n",
    "\n",
    "message(\"Saving `utils::sessionInfo()` objects in ../metadata/utils_session_info.rds  ..\")\n",
    "saveRDS(utils_session_info, file = paste0(\"../metadata/\", notebookid ,\"_utils_info.rds\"))\n",
    "message(\"Done!\\n\")\n",
    "\n",
    "dev_session_info$platform\n",
    "dev_session_info$packages[dev_session_info$packages$attached==TRUE, ]"
   ]
  },
  {
   "cell_type": "code",
   "execution_count": null,
   "metadata": {},
   "outputs": [],
   "source": []
  }
 ],
 "metadata": {
  "jupytext": {
   "cell_metadata_filter": "-all",
   "main_language": "R",
   "notebook_metadata_filter": "-all"
  },
  "kernelspec": {
   "display_name": "R",
   "language": "R",
   "name": "ir"
  },
  "language_info": {
   "codemirror_mode": "r",
   "file_extension": ".r",
   "mimetype": "text/x-r-source",
   "name": "R",
   "pygments_lexer": "r",
   "version": "3.6.2"
  }
 },
 "nbformat": 4,
 "nbformat_minor": 4
}
