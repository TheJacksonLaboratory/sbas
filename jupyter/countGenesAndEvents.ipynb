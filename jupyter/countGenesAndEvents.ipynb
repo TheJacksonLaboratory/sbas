{
 "cells": [
  {
   "cell_type": "markdown",
   "metadata": {},
   "source": [
    "# Analysis Notebook - Count Genes and Events\n",
    "\n",
    "This notebook processes the raw counts as provided by rMATS and performs some descriptive statistical analysis. It is used to produce the following outputs. \n",
    "\n",
    "## Data files created by this notebook\n",
    "Output text files are written to the ``data/`` directory (at the same level as the ``jupyter`` directory). \n",
    "\n",
    "1. **gene_AS.tsv**: Alternative splicing events per gene\n",
    "2. **genesWithCommonAS.tsv\n",
    "3. **Total_AS_by_chr.tsv**: Total alternative splicing events per chromosome\n",
    "4. **Total_AS_by_geneSymbol.tsv**: Count the number of tissues in which specific genes show significant alternative splicing\n",
    "5. **Total_AS_by_tissue.tsv**: Count the number of significant splicing events per tissue\n",
    "6. **Total_AS_by_splicingtype.tsv**: Count number of significant splicing events for each of the 5' alternative splicing categories\n",
    "7. **Significant_AS_events.tsv**: ?? Counts of significant events per slicing type per tissue\n",
    "8. **SplicingIndex_chr.tsv**: Splicing index by chr (number of sigificant AS events per 1000 exons)"
   ]
  },
  {
   "cell_type": "code",
   "execution_count": 1,
   "metadata": {},
   "outputs": [
    {
     "name": "stderr",
     "output_type": "stream",
     "text": [
      "\n",
      "Attaching package: ‘dplyr’\n",
      "\n",
      "\n",
      "The following objects are masked from ‘package:stats’:\n",
      "\n",
      "    filter, lag\n",
      "\n",
      "\n",
      "The following objects are masked from ‘package:base’:\n",
      "\n",
      "    intersect, setdiff, setequal, union\n",
      "\n",
      "\n",
      "Loading required package: BiocGenerics\n",
      "\n",
      "Loading required package: parallel\n",
      "\n",
      "\n",
      "Attaching package: ‘BiocGenerics’\n",
      "\n",
      "\n",
      "The following objects are masked from ‘package:parallel’:\n",
      "\n",
      "    clusterApply, clusterApplyLB, clusterCall, clusterEvalQ,\n",
      "    clusterExport, clusterMap, parApply, parCapply, parLapply,\n",
      "    parLapplyLB, parRapply, parSapply, parSapplyLB\n",
      "\n",
      "\n",
      "The following object is masked from ‘package:limma’:\n",
      "\n",
      "    plotMA\n",
      "\n",
      "\n",
      "The following objects are masked from ‘package:dplyr’:\n",
      "\n",
      "    combine, intersect, setdiff, union\n",
      "\n",
      "\n",
      "The following objects are masked from ‘package:stats’:\n",
      "\n",
      "    IQR, mad, sd, var, xtabs\n",
      "\n",
      "\n",
      "The following objects are masked from ‘package:base’:\n",
      "\n",
      "    anyDuplicated, append, as.data.frame, basename, cbind, colnames,\n",
      "    dirname, do.call, duplicated, eval, evalq, Filter, Find, get, grep,\n",
      "    grepl, intersect, is.unsorted, lapply, Map, mapply, match, mget,\n",
      "    order, paste, pmax, pmax.int, pmin, pmin.int, Position, rank,\n",
      "    rbind, Reduce, rownames, sapply, setdiff, sort, table, tapply,\n",
      "    union, unique, unsplit, which, which.max, which.min\n",
      "\n",
      "\n",
      "Loading required package: Biobase\n",
      "\n",
      "Welcome to Bioconductor\n",
      "\n",
      "    Vignettes contain introductory material; view with\n",
      "    'browseVignettes()'. To cite Bioconductor, see\n",
      "    'citation(\"Biobase\")', and for packages 'citation(\"pkgname\")'.\n",
      "\n",
      "\n",
      "Loading required package: R.oo\n",
      "\n",
      "Loading required package: R.methodsS3\n",
      "\n",
      "R.methodsS3 v1.8.0 (2020-02-14 07:10:20 UTC) successfully loaded. See ?R.methodsS3 for help.\n",
      "\n",
      "R.oo v1.23.0 successfully loaded. See ?R.oo for help.\n",
      "\n",
      "\n",
      "Attaching package: ‘R.oo’\n",
      "\n",
      "\n",
      "The following object is masked from ‘package:R.methodsS3’:\n",
      "\n",
      "    throw\n",
      "\n",
      "\n",
      "The following objects are masked from ‘package:methods’:\n",
      "\n",
      "    getClasses, getMethods\n",
      "\n",
      "\n",
      "The following objects are masked from ‘package:base’:\n",
      "\n",
      "    attach, detach, load, save\n",
      "\n",
      "\n",
      "R.utils v2.9.2 successfully loaded. See ?R.utils for help.\n",
      "\n",
      "\n",
      "Attaching package: ‘R.utils’\n",
      "\n",
      "\n",
      "The following object is masked from ‘package:utils’:\n",
      "\n",
      "    timestamp\n",
      "\n",
      "\n",
      "The following objects are masked from ‘package:base’:\n",
      "\n",
      "    cat, commandArgs, getOption, inherits, isOpen, nullfile, parse,\n",
      "    warnings\n",
      "\n",
      "\n",
      "Loading required package: GenomicRanges\n",
      "\n",
      "Loading required package: stats4\n",
      "\n",
      "Loading required package: S4Vectors\n",
      "\n",
      "\n",
      "Attaching package: ‘S4Vectors’\n",
      "\n",
      "\n",
      "The following objects are masked from ‘package:dplyr’:\n",
      "\n",
      "    first, rename\n",
      "\n",
      "\n",
      "The following object is masked from ‘package:base’:\n",
      "\n",
      "    expand.grid\n",
      "\n",
      "\n",
      "Loading required package: IRanges\n",
      "\n",
      "\n",
      "Attaching package: ‘IRanges’\n",
      "\n",
      "\n",
      "The following object is masked from ‘package:R.oo’:\n",
      "\n",
      "    trim\n",
      "\n",
      "\n",
      "The following objects are masked from ‘package:dplyr’:\n",
      "\n",
      "    collapse, desc, slice\n",
      "\n",
      "\n",
      "Loading required package: GenomeInfoDb\n",
      "\n"
     ]
    }
   ],
   "source": [
    "defaultW <- getOption(\"warn\")  # suppress warnings for this cell\n",
    "options(warn = -1) \n",
    "library(dplyr)\n",
    "library(ggplot2)\n",
    "library(limma)\n",
    "library(multtest)\n",
    "library(Biobase)\n",
    "library(edgeR)\n",
    "library(tibble)\n",
    "library(R.utils)\n",
    "library(rtracklayer)\n",
    "\n",
    "options(warn = defaultW)"
   ]
  },
  {
   "cell_type": "markdown",
   "metadata": {},
   "source": [
    "## 1. Download all the rMATS results\n",
    "\n",
    "Each of the alternative splicing output files are downloaded here:"
   ]
  },
  {
   "cell_type": "markdown",
   "metadata": {},
   "source": [
    "### 1.1 get released rMATS GTF annotations\n",
    "\n",
    "For each splicing type, the junctions are defined, so we have 5 specific annotated splicing specific junction ID annotation files:\n",
    "\n",
    "1. **fromGTF.A3SS.txt**: annotations for the alternative 3' splice site junctions\n",
    "2. **fromGTF.A5SS.txt**: annotations for the alternative 5' splice site junctions\n",
    "3. **fromGTF.MXE.txt**: annotations for the mutually exclusive exon junctions\n",
    "4. **fromGTF.RI.txt**: annotations for the retained introns junctions\n",
    "5. **fromGTF.SE.txt**: annotations for the skipped exon junctions"
   ]
  },
  {
   "cell_type": "markdown",
   "metadata": {},
   "source": [
    "## 1.2 Unpack the data.tar file if necessary\n",
    "To run this script, we need to import three compressed files and unpack them.\n",
    "\n",
    "| file | sha256 | filename  |\n",
    "|------|------  |-----------|\n",
    "|  1   | b0c4bb23b96d77aba7e731fa2a15dc74a34daf490312478aca94443f9a6d4e90 | results/data_as_dge.tar.gz |\n",
    "|  2   | a0c2c5a7d7cfa0a89c8a39e2f7a4c6c3ac8c6a860f721077c087614505d869cf | rmats_and_annotation.tar.gz |\n"
   ]
  },
  {
   "cell_type": "code",
   "execution_count": 2,
   "metadata": {},
   "outputs": [
    {
     "data": {
      "text/html": [
       "'5eeba2b5143fa00113f95642-data_as_dge.tar.gz-5eeba2b5143fa00113f95642'"
      ],
      "text/latex": [
       "'5eeba2b5143fa00113f95642-data\\_as\\_dge.tar.gz-5eeba2b5143fa00113f95642'"
      ],
      "text/markdown": [
       "'5eeba2b5143fa00113f95642-data_as_dge.tar.gz-5eeba2b5143fa00113f95642'"
      ],
      "text/plain": [
       "[1] \"5eeba2b5143fa00113f95642-data_as_dge.tar.gz-5eeba2b5143fa00113f95642\""
      ]
     },
     "metadata": {},
     "output_type": "display_data"
    },
    {
     "data": {
      "text/html": [
       "'5eeba8b0143fa00113f97976-rmats_and_annotation.tar.gz-5eeba8b0143fa00113f97976'"
      ],
      "text/latex": [
       "'5eeba8b0143fa00113f97976-rmats\\_and\\_annotation.tar.gz-5eeba8b0143fa00113f97976'"
      ],
      "text/markdown": [
       "'5eeba8b0143fa00113f97976-rmats_and_annotation.tar.gz-5eeba8b0143fa00113f97976'"
      ],
      "text/plain": [
       "[1] \"5eeba8b0143fa00113f97976-rmats_and_annotation.tar.gz-5eeba8b0143fa00113f97976\""
      ]
     },
     "metadata": {},
     "output_type": "display_data"
    }
   ],
   "source": [
    "data_as_dge_file_dir <- list.files(\"../../mounted-data\", pattern='data_as_dge.tar.gz')\n",
    "data_as_dge_file_dir\n",
    "rmats_and_annotation_dir <- list.files(\"../../mounted-data\", pattern='rmats_and_annotation.tar.gz')\n",
    "rmats_and_annotation_dir"
   ]
  },
  {
   "cell_type": "code",
   "execution_count": 3,
   "metadata": {},
   "outputs": [
    {
     "name": "stderr",
     "output_type": "stream",
     "text": [
      "In order to unpack the necessary files, execute the following commands on the shell.\n",
      "\n",
      "data_as_dge.tar.gz\n",
      "\n",
      "tar xvfz  ../../mounted-data/5eeba2b5143fa00113f95642-data_as_dge.tar.gz-5eeba2b5143fa00113f95642/robinson-bucket/notebooks/data_as_dge.tar.gz -C ../data\n",
      "\n",
      "checking sha256sum\n",
      "\n",
      "sha256sum ../../mounted-data/5eeba2b5143fa00113f95642-data_as_dge.tar.gz-5eeba2b5143fa00113f95642/robinson-bucket/notebooks/data_as_dge.tar.gz\n",
      "\n",
      "In order to unpack the necessary files, execute the following commands on the shell.\n",
      "\n",
      "rmats_and_annotation.tar.gz\n",
      "\n",
      "tar xvfz  ../../mounted-data/5eeba2b5143fa00113f95642-data_as_dge.tar.gz-5eeba2b5143fa00113f95642/robinson-bucket/notebooks/rmats_and_annotation.tar.gz -C ../data\n",
      "\n",
      "checking sha256sum\n",
      "\n",
      "sha256sum ../../mounted-data/5eeba2b5143fa00113f95642-data_as_dge.tar.gz-5eeba2b5143fa00113f95642/robinson-bucket/notebooks/rmats_and_annotation.tar.gz\n",
      "\n"
     ]
    }
   ],
   "source": [
    "data_as_dge_file_dir <- list.files(\"../../mounted-data\", pattern='data_as_dge.tar.gz')\n",
    "data_as_dge_file <- paste(\"../../mounted-data\", data_as_dge_file_dir, 'robinson-bucket/notebooks/data_as_dge', sep='/')\n",
    "data_as_dge_file_tar_gz <- paste(data_as_dge_file, '.tar.gz', sep='')\n",
    "message(\"In order to unpack the necessary files, execute the following commands on the shell.\")\n",
    "message(\"data_as_dge.tar.gz\")\n",
    "mycommand = paste(\"tar xvfz \",data_as_dge_file_tar_gz, \"-C ../data\", sep=\" \")\n",
    "message(mycommand)\n",
    "message(\"checking sha256sum\")\n",
    "mycommand = paste(\"sha256sum\", data_as_dge_file_tar_gz, sep = \" \")\n",
    "message(mycommand)\n",
    "rmats_annot_file_dir <- list.files(\"../../mounted-data\", pattern='rmats_and_annotation.tar.gz')\n",
    "rmats_annot_file <- paste(\"../../mounted-data\", data_as_dge_file_dir, 'robinson-bucket/notebooks/rmats_and_annotation', sep='/')\n",
    "rmats_annot_file_tar_gz <- paste(rmats_annot_file, '.tar.gz', sep='')\n",
    "message(\"In order to unpack the necessary files, execute the following commands on the shell.\")\n",
    "message(\"rmats_and_annotation.tar.gz\")\n",
    "mycommand = paste(\"tar xvfz \",rmats_annot_file_tar_gz, \"-C ../data\", sep=\" \")\n",
    "message(mycommand)\n",
    "message(\"checking sha256sum\")\n",
    "mycommand = paste(\"sha256sum\", rmats_annot_file_tar_gz, sep = \" \")\n",
    "message(mycommand)"
   ]
  },
  {
   "cell_type": "code",
   "execution_count": 4,
   "metadata": {},
   "outputs": [
    {
     "name": "stderr",
     "output_type": "stream",
     "text": [
      "Decompressing fromGTF.tar.gz into ../data\n",
      "\n"
     ]
    },
    {
     "data": {
      "text/html": [
       "<style>\n",
       ".list-inline {list-style: none; margin:0; padding: 0}\n",
       ".list-inline>li {display: inline-block}\n",
       ".list-inline>li:not(:last-child)::after {content: \"\\00b7\"; padding: 0 .5ex}\n",
       "</style>\n",
       "<ol class=list-inline><li>'fromGTF.A3SS.txt.gz'</li><li>'fromGTF.A5SS.txt.gz'</li><li>'fromGTF.MXE.txt.gz'</li><li>'fromGTF.RI.txt.gz'</li><li>'fromGTF.SE.txt.gz'</li><li>'fromGTF.novelEvents.A3SS.txt.gz'</li><li>'fromGTF.novelEvents.A5SS.txt.gz'</li><li>'fromGTF.novelEvents.MXE.txt.gz'</li><li>'fromGTF.novelEvents.RI.txt.gz'</li><li>'fromGTF.novelEvents.SE.txt.gz'</li></ol>\n"
      ],
      "text/latex": [
       "\\begin{enumerate*}\n",
       "\\item 'fromGTF.A3SS.txt.gz'\n",
       "\\item 'fromGTF.A5SS.txt.gz'\n",
       "\\item 'fromGTF.MXE.txt.gz'\n",
       "\\item 'fromGTF.RI.txt.gz'\n",
       "\\item 'fromGTF.SE.txt.gz'\n",
       "\\item 'fromGTF.novelEvents.A3SS.txt.gz'\n",
       "\\item 'fromGTF.novelEvents.A5SS.txt.gz'\n",
       "\\item 'fromGTF.novelEvents.MXE.txt.gz'\n",
       "\\item 'fromGTF.novelEvents.RI.txt.gz'\n",
       "\\item 'fromGTF.novelEvents.SE.txt.gz'\n",
       "\\end{enumerate*}\n"
      ],
      "text/markdown": [
       "1. 'fromGTF.A3SS.txt.gz'\n",
       "2. 'fromGTF.A5SS.txt.gz'\n",
       "3. 'fromGTF.MXE.txt.gz'\n",
       "4. 'fromGTF.RI.txt.gz'\n",
       "5. 'fromGTF.SE.txt.gz'\n",
       "6. 'fromGTF.novelEvents.A3SS.txt.gz'\n",
       "7. 'fromGTF.novelEvents.A5SS.txt.gz'\n",
       "8. 'fromGTF.novelEvents.MXE.txt.gz'\n",
       "9. 'fromGTF.novelEvents.RI.txt.gz'\n",
       "10. 'fromGTF.novelEvents.SE.txt.gz'\n",
       "\n",
       "\n"
      ],
      "text/plain": [
       " [1] \"fromGTF.A3SS.txt.gz\"             \"fromGTF.A5SS.txt.gz\"            \n",
       " [3] \"fromGTF.MXE.txt.gz\"              \"fromGTF.RI.txt.gz\"              \n",
       " [5] \"fromGTF.SE.txt.gz\"               \"fromGTF.novelEvents.A3SS.txt.gz\"\n",
       " [7] \"fromGTF.novelEvents.A5SS.txt.gz\" \"fromGTF.novelEvents.MXE.txt.gz\" \n",
       " [9] \"fromGTF.novelEvents.RI.txt.gz\"   \"fromGTF.novelEvents.SE.txt.gz\"  "
      ]
     },
     "metadata": {},
     "output_type": "display_data"
    },
    {
     "data": {
      "text/html": [],
      "text/latex": [],
      "text/markdown": [],
      "text/plain": [
       "character(0)"
      ]
     },
     "metadata": {},
     "output_type": "display_data"
    },
    {
     "name": "stderr",
     "output_type": "stream",
     "text": [
      "Done!\n",
      "\n",
      "\n"
     ]
    }
   ],
   "source": [
    "## get the rmats 3.2.5 discovered/annotated junction information in GTF format\n",
    "message(\"Decompressing fromGTF.tar.gz into ../data\")\n",
    "system(\"mkdir -p ../data && tar xvfz ../data/fromGTF.tar.gz -C ../data\", intern = TRUE)\n",
    "system(\"gunzip ../data/fromGTF.*txt.gz\", intern = TRUE)\n",
    "message(\"Done!\\n\")"
   ]
  },
  {
   "cell_type": "markdown",
   "metadata": {},
   "source": [
    "### 2  Refined results\n",
    "We define **refined results* as (FC > 1.5 and pVal < 0.05) for the sex\\*as_event coefficient result for the linear model"
   ]
  },
  {
   "cell_type": "markdown",
   "metadata": {},
   "source": [
    "### 2.1 getTissueReduction"
   ]
  },
  {
   "cell_type": "code",
   "execution_count": 5,
   "metadata": {},
   "outputs": [
    {
     "data": {
      "text/html": [
       "<style>\n",
       ".list-inline {list-style: none; margin:0; padding: 0}\n",
       ".list-inline>li {display: inline-block}\n",
       ".list-inline>li:not(:last-child)::after {content: \"\\00b7\"; padding: 0 .5ex}\n",
       "</style>\n",
       "<ol class=list-inline><li>'Adipose (sc)'</li><li>'Adipose (v)'</li><li>'Adrenal gland'</li><li>'Aorta'</li><li>'Atrial appendage'</li><li>'Breast'</li><li>'Caudate'</li><li>'Cerebellar hemisphere'</li><li>'Cerebellum'</li><li>'Coronary artery'</li><li>'Cortex'</li><li>'EBV-lymphocytes'</li><li>'Esophagus (gej)'</li><li>'Esophagus (m)'</li><li>'Esophagus (mu)'</li><li>'Fibroblasts'</li><li>'Frontal cortex'</li><li>'Hippocampus'</li><li>'Hypothalamus'</li><li>'Left ventricle'</li><li>'Liver'</li><li>'Lung'</li><li>'Nucleus accumbens'</li><li>'Pancreas'</li><li>'Pituitary'</li><li>'Putamen'</li><li>'Sigmoid colon'</li><li>'Skeletal muscle'</li><li>'Skin (exposed)'</li><li>'Skin (not exposed)'</li><li>'Small intestine'</li><li>'Spinal cord'</li><li>'Spleen'</li><li>'Stomach'</li><li>'Thyroid'</li><li>'Tibial artery'</li><li>'Tibial nerve'</li><li>'Transverse colon'</li><li>'Whole blood'</li></ol>\n"
      ],
      "text/latex": [
       "\\begin{enumerate*}\n",
       "\\item 'Adipose (sc)'\n",
       "\\item 'Adipose (v)'\n",
       "\\item 'Adrenal gland'\n",
       "\\item 'Aorta'\n",
       "\\item 'Atrial appendage'\n",
       "\\item 'Breast'\n",
       "\\item 'Caudate'\n",
       "\\item 'Cerebellar hemisphere'\n",
       "\\item 'Cerebellum'\n",
       "\\item 'Coronary artery'\n",
       "\\item 'Cortex'\n",
       "\\item 'EBV-lymphocytes'\n",
       "\\item 'Esophagus (gej)'\n",
       "\\item 'Esophagus (m)'\n",
       "\\item 'Esophagus (mu)'\n",
       "\\item 'Fibroblasts'\n",
       "\\item 'Frontal cortex'\n",
       "\\item 'Hippocampus'\n",
       "\\item 'Hypothalamus'\n",
       "\\item 'Left ventricle'\n",
       "\\item 'Liver'\n",
       "\\item 'Lung'\n",
       "\\item 'Nucleus accumbens'\n",
       "\\item 'Pancreas'\n",
       "\\item 'Pituitary'\n",
       "\\item 'Putamen'\n",
       "\\item 'Sigmoid colon'\n",
       "\\item 'Skeletal muscle'\n",
       "\\item 'Skin (exposed)'\n",
       "\\item 'Skin (not exposed)'\n",
       "\\item 'Small intestine'\n",
       "\\item 'Spinal cord'\n",
       "\\item 'Spleen'\n",
       "\\item 'Stomach'\n",
       "\\item 'Thyroid'\n",
       "\\item 'Tibial artery'\n",
       "\\item 'Tibial nerve'\n",
       "\\item 'Transverse colon'\n",
       "\\item 'Whole blood'\n",
       "\\end{enumerate*}\n"
      ],
      "text/markdown": [
       "1. 'Adipose (sc)'\n",
       "2. 'Adipose (v)'\n",
       "3. 'Adrenal gland'\n",
       "4. 'Aorta'\n",
       "5. 'Atrial appendage'\n",
       "6. 'Breast'\n",
       "7. 'Caudate'\n",
       "8. 'Cerebellar hemisphere'\n",
       "9. 'Cerebellum'\n",
       "10. 'Coronary artery'\n",
       "11. 'Cortex'\n",
       "12. 'EBV-lymphocytes'\n",
       "13. 'Esophagus (gej)'\n",
       "14. 'Esophagus (m)'\n",
       "15. 'Esophagus (mu)'\n",
       "16. 'Fibroblasts'\n",
       "17. 'Frontal cortex'\n",
       "18. 'Hippocampus'\n",
       "19. 'Hypothalamus'\n",
       "20. 'Left ventricle'\n",
       "21. 'Liver'\n",
       "22. 'Lung'\n",
       "23. 'Nucleus accumbens'\n",
       "24. 'Pancreas'\n",
       "25. 'Pituitary'\n",
       "26. 'Putamen'\n",
       "27. 'Sigmoid colon'\n",
       "28. 'Skeletal muscle'\n",
       "29. 'Skin (exposed)'\n",
       "30. 'Skin (not exposed)'\n",
       "31. 'Small intestine'\n",
       "32. 'Spinal cord'\n",
       "33. 'Spleen'\n",
       "34. 'Stomach'\n",
       "35. 'Thyroid'\n",
       "36. 'Tibial artery'\n",
       "37. 'Tibial nerve'\n",
       "38. 'Transverse colon'\n",
       "39. 'Whole blood'\n",
       "\n",
       "\n"
      ],
      "text/plain": [
       " [1] \"Adipose (sc)\"          \"Adipose (v)\"           \"Adrenal gland\"        \n",
       " [4] \"Aorta\"                 \"Atrial appendage\"      \"Breast\"               \n",
       " [7] \"Caudate\"               \"Cerebellar hemisphere\" \"Cerebellum\"           \n",
       "[10] \"Coronary artery\"       \"Cortex\"                \"EBV-lymphocytes\"      \n",
       "[13] \"Esophagus (gej)\"       \"Esophagus (m)\"         \"Esophagus (mu)\"       \n",
       "[16] \"Fibroblasts\"           \"Frontal cortex\"        \"Hippocampus\"          \n",
       "[19] \"Hypothalamus\"          \"Left ventricle\"        \"Liver\"                \n",
       "[22] \"Lung\"                  \"Nucleus accumbens\"     \"Pancreas\"             \n",
       "[25] \"Pituitary\"             \"Putamen\"               \"Sigmoid colon\"        \n",
       "[28] \"Skeletal muscle\"       \"Skin (exposed)\"        \"Skin (not exposed)\"   \n",
       "[31] \"Small intestine\"       \"Spinal cord\"           \"Spleen\"               \n",
       "[34] \"Stomach\"               \"Thyroid\"               \"Tibial artery\"        \n",
       "[37] \"Tibial nerve\"          \"Transverse colon\"      \"Whole blood\"          "
      ]
     },
     "metadata": {},
     "output_type": "display_data"
    },
    {
     "name": "stderr",
     "output_type": "stream",
     "text": [
      "We extracted 39 different tissues with at least 50 samples in both M & f\n",
      "\n"
     ]
    }
   ],
   "source": [
    "tissue_reduction_filename <- \"../assets/tissues.tsv\"\n",
    "tissue_reduction <- read.table(tissue_reduction_filename, header=TRUE, sep=\"\\t\",\n",
    "                               skipNul=FALSE, stringsAsFactors = FALSE)\n",
    "colnames(tissue_reduction)  <- c(\"SMTSD\",\"female\",\"male\",\"include\",\"display_name\")\n",
    "tissue_reduction <- tissue_reduction[tissue_reduction$display_name != \"n/a\",]\n",
    "tissue_reduction$display_name <- factor(tissue_reduction$display_name)\n",
    "levels(tissue_reduction$display_name)\n",
    "message(\"We extracted \", length(levels(tissue_reduction$display_name)),\" different tissues with at least 50 samples in both M & f\")"
   ]
  },
  {
   "cell_type": "markdown",
   "metadata": {},
   "source": [
    "### 2.2 Read in refined results and annotations"
   ]
  },
  {
   "cell_type": "code",
   "execution_count": 6,
   "metadata": {},
   "outputs": [
    {
     "data": {
      "text/html": [
       "195"
      ],
      "text/latex": [
       "195"
      ],
      "text/markdown": [
       "195"
      ],
      "text/plain": [
       "[1] 195"
      ]
     },
     "metadata": {},
     "output_type": "display_data"
    }
   ],
   "source": [
    "significant_results_dir = \"../data/\"\n",
    "pattern = \"model_B_sex_as_events_refined.csv\"\n",
    "files <- list.files(path = significant_results_dir, pattern = pattern)\n",
    "as_types <- c(\"a3ss\", \"a5ss\", \"mxe\", \"ri\", \"se\")\n",
    "length(files)"
   ]
  },
  {
   "cell_type": "code",
   "execution_count": 7,
   "metadata": {},
   "outputs": [],
   "source": [
    "a3ss_annot <- read.table(file = \"../data/fromGTF.A3SS.txt\", sep = \"\\t\", quote = \"\\\"\", header = T, stringsAsFactors = F)\n",
    "a5ss_annot <- read.table(file = \"../data/fromGTF.A5SS.txt\", sep = \"\\t\", quote = \"\\\"\", header = T, stringsAsFactors = F)\n",
    "mxe_annot <- read.table(file = \"../data/fromGTF.MXE.txt\", sep = \"\\t\", quote = \"\\\"\", header = T, stringsAsFactors = F)\n",
    "ri_annot <- read.table(file = \"../data/fromGTF.RI.txt\", sep = \"\\t\", quote = \"\\\"\", header = T, stringsAsFactors = F)\n",
    "se_annot <- read.table(file = \"../data/fromGTF.SE.txt\", sep = \"\\t\", quote = \"\\\"\", header = T, stringsAsFactors = F)"
   ]
  },
  {
   "cell_type": "code",
   "execution_count": 8,
   "metadata": {},
   "outputs": [
    {
     "data": {
      "text/html": [
       "<table>\n",
       "<caption>A data.frame: 6 × 11</caption>\n",
       "<thead>\n",
       "\t<tr><th></th><th scope=col>ID</th><th scope=col>GeneID</th><th scope=col>geneSymbol</th><th scope=col>chr</th><th scope=col>strand</th><th scope=col>exonStart_0base</th><th scope=col>exonEnd</th><th scope=col>upstreamES</th><th scope=col>upstreamEE</th><th scope=col>downstreamES</th><th scope=col>downstreamEE</th></tr>\n",
       "\t<tr><th></th><th scope=col>&lt;int&gt;</th><th scope=col>&lt;chr&gt;</th><th scope=col>&lt;chr&gt;</th><th scope=col>&lt;chr&gt;</th><th scope=col>&lt;chr&gt;</th><th scope=col>&lt;int&gt;</th><th scope=col>&lt;int&gt;</th><th scope=col>&lt;int&gt;</th><th scope=col>&lt;int&gt;</th><th scope=col>&lt;int&gt;</th><th scope=col>&lt;int&gt;</th></tr>\n",
       "</thead>\n",
       "<tbody>\n",
       "\t<tr><th scope=row>1</th><td>1</td><td>ENSG00000034152.18</td><td>MAP2K3</td><td>chr17</td><td>+</td><td>21287990</td><td>21288091</td><td>21284709</td><td>21284969</td><td>21295674</td><td>21295769</td></tr>\n",
       "\t<tr><th scope=row>2</th><td>2</td><td>ENSG00000034152.18</td><td>MAP2K3</td><td>chr17</td><td>+</td><td>21303182</td><td>21303234</td><td>21302142</td><td>21302259</td><td>21304425</td><td>21304553</td></tr>\n",
       "\t<tr><th scope=row>3</th><td>3</td><td>ENSG00000034152.18</td><td>MAP2K3</td><td>chr17</td><td>+</td><td>21295674</td><td>21295769</td><td>21287990</td><td>21288091</td><td>21296085</td><td>21296143</td></tr>\n",
       "\t<tr><th scope=row>4</th><td>4</td><td>ENSG00000034152.18</td><td>MAP2K3</td><td>chr17</td><td>+</td><td>21295674</td><td>21295769</td><td>21287990</td><td>21288091</td><td>21298412</td><td>21298479</td></tr>\n",
       "\t<tr><th scope=row>5</th><td>5</td><td>ENSG00000034152.18</td><td>MAP2K3</td><td>chr17</td><td>+</td><td>21295674</td><td>21295769</td><td>21284710</td><td>21284969</td><td>21296085</td><td>21296143</td></tr>\n",
       "\t<tr><th scope=row>6</th><td>6</td><td>ENSG00000034152.18</td><td>MAP2K3</td><td>chr17</td><td>+</td><td>21295674</td><td>21295769</td><td>21284710</td><td>21284969</td><td>21298412</td><td>21298479</td></tr>\n",
       "</tbody>\n",
       "</table>\n"
      ],
      "text/latex": [
       "A data.frame: 6 × 11\n",
       "\\begin{tabular}{r|lllllllllll}\n",
       "  & ID & GeneID & geneSymbol & chr & strand & exonStart\\_0base & exonEnd & upstreamES & upstreamEE & downstreamES & downstreamEE\\\\\n",
       "  & <int> & <chr> & <chr> & <chr> & <chr> & <int> & <int> & <int> & <int> & <int> & <int>\\\\\n",
       "\\hline\n",
       "\t1 & 1 & ENSG00000034152.18 & MAP2K3 & chr17 & + & 21287990 & 21288091 & 21284709 & 21284969 & 21295674 & 21295769\\\\\n",
       "\t2 & 2 & ENSG00000034152.18 & MAP2K3 & chr17 & + & 21303182 & 21303234 & 21302142 & 21302259 & 21304425 & 21304553\\\\\n",
       "\t3 & 3 & ENSG00000034152.18 & MAP2K3 & chr17 & + & 21295674 & 21295769 & 21287990 & 21288091 & 21296085 & 21296143\\\\\n",
       "\t4 & 4 & ENSG00000034152.18 & MAP2K3 & chr17 & + & 21295674 & 21295769 & 21287990 & 21288091 & 21298412 & 21298479\\\\\n",
       "\t5 & 5 & ENSG00000034152.18 & MAP2K3 & chr17 & + & 21295674 & 21295769 & 21284710 & 21284969 & 21296085 & 21296143\\\\\n",
       "\t6 & 6 & ENSG00000034152.18 & MAP2K3 & chr17 & + & 21295674 & 21295769 & 21284710 & 21284969 & 21298412 & 21298479\\\\\n",
       "\\end{tabular}\n"
      ],
      "text/markdown": [
       "\n",
       "A data.frame: 6 × 11\n",
       "\n",
       "| <!--/--> | ID &lt;int&gt; | GeneID &lt;chr&gt; | geneSymbol &lt;chr&gt; | chr &lt;chr&gt; | strand &lt;chr&gt; | exonStart_0base &lt;int&gt; | exonEnd &lt;int&gt; | upstreamES &lt;int&gt; | upstreamEE &lt;int&gt; | downstreamES &lt;int&gt; | downstreamEE &lt;int&gt; |\n",
       "|---|---|---|---|---|---|---|---|---|---|---|---|\n",
       "| 1 | 1 | ENSG00000034152.18 | MAP2K3 | chr17 | + | 21287990 | 21288091 | 21284709 | 21284969 | 21295674 | 21295769 |\n",
       "| 2 | 2 | ENSG00000034152.18 | MAP2K3 | chr17 | + | 21303182 | 21303234 | 21302142 | 21302259 | 21304425 | 21304553 |\n",
       "| 3 | 3 | ENSG00000034152.18 | MAP2K3 | chr17 | + | 21295674 | 21295769 | 21287990 | 21288091 | 21296085 | 21296143 |\n",
       "| 4 | 4 | ENSG00000034152.18 | MAP2K3 | chr17 | + | 21295674 | 21295769 | 21287990 | 21288091 | 21298412 | 21298479 |\n",
       "| 5 | 5 | ENSG00000034152.18 | MAP2K3 | chr17 | + | 21295674 | 21295769 | 21284710 | 21284969 | 21296085 | 21296143 |\n",
       "| 6 | 6 | ENSG00000034152.18 | MAP2K3 | chr17 | + | 21295674 | 21295769 | 21284710 | 21284969 | 21298412 | 21298479 |\n",
       "\n"
      ],
      "text/plain": [
       "  ID GeneID             geneSymbol chr   strand exonStart_0base exonEnd \n",
       "1 1  ENSG00000034152.18 MAP2K3     chr17 +      21287990        21288091\n",
       "2 2  ENSG00000034152.18 MAP2K3     chr17 +      21303182        21303234\n",
       "3 3  ENSG00000034152.18 MAP2K3     chr17 +      21295674        21295769\n",
       "4 4  ENSG00000034152.18 MAP2K3     chr17 +      21295674        21295769\n",
       "5 5  ENSG00000034152.18 MAP2K3     chr17 +      21295674        21295769\n",
       "6 6  ENSG00000034152.18 MAP2K3     chr17 +      21295674        21295769\n",
       "  upstreamES upstreamEE downstreamES downstreamEE\n",
       "1 21284709   21284969   21295674     21295769    \n",
       "2 21302142   21302259   21304425     21304553    \n",
       "3 21287990   21288091   21296085     21296143    \n",
       "4 21287990   21288091   21298412     21298479    \n",
       "5 21284710   21284969   21296085     21296143    \n",
       "6 21284710   21284969   21298412     21298479    "
      ]
     },
     "metadata": {},
     "output_type": "display_data"
    }
   ],
   "source": [
    "head(se_annot)"
   ]
  },
  {
   "cell_type": "code",
   "execution_count": 31,
   "metadata": {},
   "outputs": [
    {
     "data": {
      "text/html": [
       "195"
      ],
      "text/latex": [
       "195"
      ],
      "text/markdown": [
       "195"
      ],
      "text/plain": [
       "[1] 195"
      ]
     },
     "metadata": {},
     "output_type": "display_data"
    }
   ],
   "source": [
    "gene_as = data.frame()\n",
    "counts <- rep(NA, length(files))\n",
    "length(files)"
   ]
  },
  {
   "cell_type": "code",
   "execution_count": 33,
   "metadata": {},
   "outputs": [
    {
     "name": "stderr",
     "output_type": "stream",
     "text": [
      "We extracted a total of 12740 significant alternative splicing events (gene_as)\n",
      "\n",
      "This includes 2887 total genes\n",
      "\n"
     ]
    }
   ],
   "source": [
    "for (i in 1:length(files)) {\n",
    "    lines  <- read.table(file=paste0(significant_results_dir, files[i]), \n",
    "                                     header = TRUE, sep = \",\", quote = \"\\\"'\", skipNul = FALSE)\n",
    "#    message(paste(dim(lines)[1] >0),collapse = \"\")\n",
    "    if (dim(lines)[1] > 0) {\n",
    "        event     <- as.vector(as.character(rownames(lines)))\n",
    "        tissue1   <- gsub(\"_AS_model_B_sex_as_events_refined.csv\",\"\", files[i], fixed = TRUE)\n",
    "        counts[i] <- dim(lines)[1]\n",
    "        event_idx <- substring(event, regexpr(\"[0-9]+$\", event))\n",
    "        res       <- data.frame()\n",
    "        if (grepl(\"^a3ss_\", files[i])) {\n",
    "            # remove the first 5 letters of the string \n",
    "            tissue2 <- substring(tissue1,6)\n",
    "            idx <- match(event_idx, a3ss_annot$ID)\n",
    "            res <- data.frame(GeneJunction <- event,\n",
    "                              ASE          <- \"A3SS\", \n",
    "                              ASE_IDX      <- idx,\n",
    "                              Tissue       <- tissue2,\n",
    "                              counts       <- counts[i],\n",
    "                              Display      <- tissue_reduction[tissue_reduction$SMTSD == tissue2, \"display_name\"],\n",
    "                              GeneSymbol   <- a3ss_annot$geneSymbol[idx],\n",
    "                              GeneID       <- a3ss_annot$GeneID[idx],\n",
    "                              chr          <- a3ss_annot$chr[idx],\n",
    "                              logFC        <- lines$logFC,\n",
    "                              AveExpr      <- lines$AveExpr,\n",
    "                              t            <- lines$t,\n",
    "                              PValue       <- lines$P.Value,\n",
    "                              AdjPVal      <- lines$adj.P.Val,\n",
    "                              B            <- lines$B)\n",
    "            colnames(res) <- c(\"GeneJunction\",\"ASE\",\"ASE_IDX\",\"Tissue\",\"counts\",\"Display\",\n",
    "                               \"GeneSymbol\",\"GeneID\",\"chr\",\"logFC\",\"AveExpr\",\"t\",\"PValue\",\"AdjPVal\",\"B\")\n",
    "            gene_as <- rbind(gene_as,res)\n",
    "            \n",
    "        } else if (grepl(\"^a5ss_\", files[i])) {\n",
    "            # remove the first 5 letters of the string \n",
    "            tissue2 <- substring(tissue1,6)\n",
    "            idx <- match(event_idx, a5ss_annot$ID)\n",
    "            res <- data.frame(GeneJunction <- event,\n",
    "                              ASE          <- \"A5SS\", \n",
    "                              ASE_IDX      <- idx,\n",
    "                              Tissue       <- tissue2,\n",
    "                              counts       <- counts[i],\n",
    "                              Display      <- tissue_reduction[tissue_reduction$SMTSD == tissue2, \"display_name\"],\n",
    "                              GeneSymbol   <- a5ss_annot$geneSymbol[idx],\n",
    "                              GeneID       <- a5ss_annot$GeneID[idx],\n",
    "                              chr          <- a5ss_annot$chr[idx],\n",
    "                              logFC        <- lines$logFC,\n",
    "                              AveExpr      <- lines$AveExpr,\n",
    "                              t            <- lines$t,\n",
    "                              PValue       <- lines$P.Value,\n",
    "                              AdjPVal      <- lines$adj.P.Val,\n",
    "                              B            <- lines$B)\n",
    "            colnames(res) <- c(\"GeneJunction\",\"ASE\",\"ASE_IDX\",\"Tissue\",\"counts\",\"Display\",\n",
    "                               \"GeneSymbol\",\"GeneID\",\"chr\",\"logFC\",\"AveExpr\",\"t\",\"PValue\",\"AdjPVal\",\"B\")\n",
    "            gene_as <- rbind(gene_as,res)\n",
    "        } else if (grepl(\"^mxe_\", files[i])) {\n",
    "            # remove the first 4 letters of the string \n",
    "            tissue2 <- substring(tissue1,5)\n",
    "            idx <- match(event_idx, a3ss_annot$ID)\n",
    "            res <- data.frame(GeneJunction <- event,\n",
    "                              ASE          <- \"MXE\", \n",
    "                              ASE_IDX      <- idx,\n",
    "                              Tissue       <- tissue2,\n",
    "                              counts       <- counts[i],\n",
    "                              Display      <- tissue_reduction[tissue_reduction$SMTSD == tissue2, \"display_name\"],\n",
    "                              GeneSymbol   <- mxe_annot$geneSymbol[idx],\n",
    "                              GeneID       <- mxe_annot$GeneID[idx],\n",
    "                              chr          <- mxe_annot$chr[idx],\n",
    "                              logFC        <- lines$logFC,\n",
    "                              AveExpr      <- lines$AveExpr,\n",
    "                              t            <- lines$t,\n",
    "                              PValue       <- lines$P.Value,\n",
    "                              AdjPVal      <- lines$adj.P.Val,\n",
    "                              B            <- lines$B)\n",
    "            colnames(res) <- c(\"GeneJunction\",\"ASE\",\"ASE_IDX\",\"Tissue\",\"counts\",\"Display\",\n",
    "                               \"GeneSymbol\",\"GeneID\",\"chr\",\"logFC\",\"AveExpr\",\"t\",\"PValue\",\"AdjPVal\",\"B\")\n",
    "            gene_as <- rbind(gene_as,res)\n",
    "        } else if (grepl(\"^se_\", files[i])) {\n",
    "            # remove the first 3 letters of the string \n",
    "            tissue2 <- substring(tissue1,4)\n",
    "            idx <- match(event_idx, se_annot$ID)\n",
    "            res <- data.frame(GeneJunction <- event,\n",
    "                              ASE          <- \"SE\", \n",
    "                              ASE_IDX      <- idx,\n",
    "                              Tissue       <- tissue2,\n",
    "                              counts       <- counts[i],\n",
    "                              Display      <- tissue_reduction[tissue_reduction$SMTSD == tissue2, \"display_name\"],\n",
    "                              GeneSymbol   <- se_annot$geneSymbol[idx],\n",
    "                              GeneID       <- se_annot$GeneID[idx],\n",
    "                              chr          <- se_annot$chr[idx],\n",
    "                              logFC        <- lines$logFC,\n",
    "                              AveExpr      <- lines$AveExpr,\n",
    "                              t            <- lines$t,\n",
    "                              PValue       <- lines$P.Value,\n",
    "                              AdjPVal      <- lines$adj.P.Val,\n",
    "                              B            <- lines$B)\n",
    "            colnames(res) <- c(\"GeneJunction\",\"ASE\",\"ASE_IDX\",\"Tissue\",\"counts\",\"Display\",\n",
    "                               \"GeneSymbol\",\"GeneID\",\"chr\",\"logFC\",\"AveExpr\",\"t\",\"PValue\",\"AdjPVal\",\"B\")\n",
    "            gene_as <- rbind(gene_as,res)\n",
    "        } else if (grepl(\"^ri_\", files[i])){\n",
    "            # remove the first 3 letters of the string \n",
    "            tissue2 <- substring(tissue1,4)\n",
    "            idx <- match(event_idx, ri_annot$ID)\n",
    "            res <- data.frame(GeneJunction <- event,\n",
    "                              ASE          <- \"RI\", \n",
    "                              ASE_IDX      <- idx,\n",
    "                              Tissue       <- tissue2,\n",
    "                              counts       <- counts[i],\n",
    "                              Display      <- tissue_reduction[tissue_reduction$SMTSD == tissue2, \"display_name\"],\n",
    "                              GeneSymbol   <- ri_annot$geneSymbol[idx],\n",
    "                              GeneID       <- ri_annot$GeneID[idx],\n",
    "                              chr          <- ri_annot$chr[idx],\n",
    "                              logFC        <- lines$logFC,\n",
    "                              AveExpr      <- lines$AveExpr,\n",
    "                              t            <- lines$t,\n",
    "                              PValue       <- lines$P.Value,\n",
    "                              AdjPVal      <- lines$adj.P.Val,\n",
    "                              B            <- lines$B)\n",
    "            colnames(res) <- c(\"GeneJunction\",\"ASE\",\"ASE_IDX\",\"Tissue\",\"counts\",\"Display\",\n",
    "                               \"GeneSymbol\",\"GeneID\",\"chr\",\"logFC\",\"AveExpr\",\"t\",\"PValue\",\"AdjPVal\",\"B\")\n",
    "            gene_as <- rbind(gene_as,res)\n",
    "        }\n",
    "        \n",
    "    } #if has sig. events\n",
    "    \n",
    "} #for all files\n",
    "colnames(gene_as) <- c(\"GeneJunction\",\"ASE\",\"ASE_IDX\",\"Tissue\",\"counts\",\"Display\",\"GeneSymbol\",\"GeneID\",\"chr\",\"logFC\",\"AveExpr\",\"t\",\"PValue\",\"AdjPVal\",\"B\")\n",
    "n_unique_genes <- length(summary(as.factor(gene_as$GeneSymbol),maxsum=50000))\n",
    "message(\"We extracted a total of \",nrow(gene_as),\" significant alternative splicing events (gene_as)\")\n",
    "message(\"This includes \", n_unique_genes, \" total genes\")"
   ]
  },
  {
   "cell_type": "code",
   "execution_count": 34,
   "metadata": {},
   "outputs": [
    {
     "data": {
      "text/html": [
       "<table>\n",
       "<caption>A data.frame: 6 × 15</caption>\n",
       "<thead>\n",
       "\t<tr><th></th><th scope=col>GeneJunction</th><th scope=col>ASE</th><th scope=col>ASE_IDX</th><th scope=col>Tissue</th><th scope=col>counts</th><th scope=col>Display</th><th scope=col>GeneSymbol</th><th scope=col>GeneID</th><th scope=col>chr</th><th scope=col>logFC</th><th scope=col>AveExpr</th><th scope=col>t</th><th scope=col>PValue</th><th scope=col>AdjPVal</th><th scope=col>B</th></tr>\n",
       "\t<tr><th></th><th scope=col>&lt;fct&gt;</th><th scope=col>&lt;fct&gt;</th><th scope=col>&lt;int&gt;</th><th scope=col>&lt;fct&gt;</th><th scope=col>&lt;int&gt;</th><th scope=col>&lt;fct&gt;</th><th scope=col>&lt;fct&gt;</th><th scope=col>&lt;fct&gt;</th><th scope=col>&lt;fct&gt;</th><th scope=col>&lt;dbl&gt;</th><th scope=col>&lt;dbl&gt;</th><th scope=col>&lt;dbl&gt;</th><th scope=col>&lt;dbl&gt;</th><th scope=col>&lt;dbl&gt;</th><th scope=col>&lt;dbl&gt;</th></tr>\n",
       "</thead>\n",
       "<tbody>\n",
       "\t<tr><th scope=row>1</th><td>XIST-2253  </td><td>A3SS</td><td>2253</td><td>adipose_subcutaneous    </td><td> 4</td><td>Adipose (sc)</td><td>XIST  </td><td>ENSG00000229807.11</td><td>chrX </td><td>-4.4086049</td><td>3.196317</td><td>-36.488970</td><td>4.635568e-154</td><td>3.893877e-150</td><td>310.016049</td></tr>\n",
       "\t<tr><th scope=row>2</th><td>XIST-2252  </td><td>A3SS</td><td>2252</td><td>adipose_subcutaneous    </td><td> 4</td><td>Adipose (sc)</td><td>XIST  </td><td>ENSG00000229807.11</td><td>chrX </td><td>-2.4147126</td><td>3.647690</td><td>-21.921057</td><td> 1.444102e-78</td><td> 6.065229e-75</td><td>160.028167</td></tr>\n",
       "\t<tr><th scope=row>3</th><td>GREB1L-4933</td><td>A3SS</td><td>4933</td><td>adipose_subcutaneous    </td><td> 4</td><td>Adipose (sc)</td><td>GREB1L</td><td>ENSG00000141449.14</td><td>chr18</td><td> 1.2793173</td><td>2.115005</td><td>  7.123138</td><td> 3.052112e-12</td><td> 8.545914e-09</td><td> 16.692429</td></tr>\n",
       "\t<tr><th scope=row>4</th><td>RHCG-1776  </td><td>A3SS</td><td>1776</td><td>adipose_subcutaneous    </td><td> 4</td><td>Adipose (sc)</td><td>RHCG  </td><td>ENSG00000140519.14</td><td>chr15</td><td>-0.6930009</td><td>1.636472</td><td> -3.922124</td><td> 9.797866e-05</td><td> 3.919146e-02</td><td>  1.142232</td></tr>\n",
       "\t<tr><th scope=row>5</th><td>XIST-2253  </td><td>A3SS</td><td>2253</td><td>adipose_visceral_omentum</td><td>12</td><td>Adipose (v) </td><td>XIST  </td><td>ENSG00000229807.11</td><td>chrX </td><td>-4.4403352</td><td>3.113532</td><td>-33.950800</td><td>2.654474e-123</td><td>2.209585e-119</td><td>241.826117</td></tr>\n",
       "\t<tr><th scope=row>6</th><td>XIST-2252  </td><td>A3SS</td><td>2252</td><td>adipose_visceral_omentum</td><td>12</td><td>Adipose (v) </td><td>XIST  </td><td>ENSG00000229807.11</td><td>chrX </td><td>-2.4506832</td><td>3.650617</td><td>-18.890779</td><td> 2.817671e-58</td><td> 1.172715e-54</td><td>114.731682</td></tr>\n",
       "</tbody>\n",
       "</table>\n"
      ],
      "text/latex": [
       "A data.frame: 6 × 15\n",
       "\\begin{tabular}{r|lllllllllllllll}\n",
       "  & GeneJunction & ASE & ASE\\_IDX & Tissue & counts & Display & GeneSymbol & GeneID & chr & logFC & AveExpr & t & PValue & AdjPVal & B\\\\\n",
       "  & <fct> & <fct> & <int> & <fct> & <int> & <fct> & <fct> & <fct> & <fct> & <dbl> & <dbl> & <dbl> & <dbl> & <dbl> & <dbl>\\\\\n",
       "\\hline\n",
       "\t1 & XIST-2253   & A3SS & 2253 & adipose\\_subcutaneous     &  4 & Adipose (sc) & XIST   & ENSG00000229807.11 & chrX  & -4.4086049 & 3.196317 & -36.488970 & 4.635568e-154 & 3.893877e-150 & 310.016049\\\\\n",
       "\t2 & XIST-2252   & A3SS & 2252 & adipose\\_subcutaneous     &  4 & Adipose (sc) & XIST   & ENSG00000229807.11 & chrX  & -2.4147126 & 3.647690 & -21.921057 &  1.444102e-78 &  6.065229e-75 & 160.028167\\\\\n",
       "\t3 & GREB1L-4933 & A3SS & 4933 & adipose\\_subcutaneous     &  4 & Adipose (sc) & GREB1L & ENSG00000141449.14 & chr18 &  1.2793173 & 2.115005 &   7.123138 &  3.052112e-12 &  8.545914e-09 &  16.692429\\\\\n",
       "\t4 & RHCG-1776   & A3SS & 1776 & adipose\\_subcutaneous     &  4 & Adipose (sc) & RHCG   & ENSG00000140519.14 & chr15 & -0.6930009 & 1.636472 &  -3.922124 &  9.797866e-05 &  3.919146e-02 &   1.142232\\\\\n",
       "\t5 & XIST-2253   & A3SS & 2253 & adipose\\_visceral\\_omentum & 12 & Adipose (v)  & XIST   & ENSG00000229807.11 & chrX  & -4.4403352 & 3.113532 & -33.950800 & 2.654474e-123 & 2.209585e-119 & 241.826117\\\\\n",
       "\t6 & XIST-2252   & A3SS & 2252 & adipose\\_visceral\\_omentum & 12 & Adipose (v)  & XIST   & ENSG00000229807.11 & chrX  & -2.4506832 & 3.650617 & -18.890779 &  2.817671e-58 &  1.172715e-54 & 114.731682\\\\\n",
       "\\end{tabular}\n"
      ],
      "text/markdown": [
       "\n",
       "A data.frame: 6 × 15\n",
       "\n",
       "| <!--/--> | GeneJunction &lt;fct&gt; | ASE &lt;fct&gt; | ASE_IDX &lt;int&gt; | Tissue &lt;fct&gt; | counts &lt;int&gt; | Display &lt;fct&gt; | GeneSymbol &lt;fct&gt; | GeneID &lt;fct&gt; | chr &lt;fct&gt; | logFC &lt;dbl&gt; | AveExpr &lt;dbl&gt; | t &lt;dbl&gt; | PValue &lt;dbl&gt; | AdjPVal &lt;dbl&gt; | B &lt;dbl&gt; |\n",
       "|---|---|---|---|---|---|---|---|---|---|---|---|---|---|---|---|\n",
       "| 1 | XIST-2253   | A3SS | 2253 | adipose_subcutaneous     |  4 | Adipose (sc) | XIST   | ENSG00000229807.11 | chrX  | -4.4086049 | 3.196317 | -36.488970 | 4.635568e-154 | 3.893877e-150 | 310.016049 |\n",
       "| 2 | XIST-2252   | A3SS | 2252 | adipose_subcutaneous     |  4 | Adipose (sc) | XIST   | ENSG00000229807.11 | chrX  | -2.4147126 | 3.647690 | -21.921057 |  1.444102e-78 |  6.065229e-75 | 160.028167 |\n",
       "| 3 | GREB1L-4933 | A3SS | 4933 | adipose_subcutaneous     |  4 | Adipose (sc) | GREB1L | ENSG00000141449.14 | chr18 |  1.2793173 | 2.115005 |   7.123138 |  3.052112e-12 |  8.545914e-09 |  16.692429 |\n",
       "| 4 | RHCG-1776   | A3SS | 1776 | adipose_subcutaneous     |  4 | Adipose (sc) | RHCG   | ENSG00000140519.14 | chr15 | -0.6930009 | 1.636472 |  -3.922124 |  9.797866e-05 |  3.919146e-02 |   1.142232 |\n",
       "| 5 | XIST-2253   | A3SS | 2253 | adipose_visceral_omentum | 12 | Adipose (v)  | XIST   | ENSG00000229807.11 | chrX  | -4.4403352 | 3.113532 | -33.950800 | 2.654474e-123 | 2.209585e-119 | 241.826117 |\n",
       "| 6 | XIST-2252   | A3SS | 2252 | adipose_visceral_omentum | 12 | Adipose (v)  | XIST   | ENSG00000229807.11 | chrX  | -2.4506832 | 3.650617 | -18.890779 |  2.817671e-58 |  1.172715e-54 | 114.731682 |\n",
       "\n"
      ],
      "text/plain": [
       "  GeneJunction ASE  ASE_IDX Tissue                   counts Display     \n",
       "1 XIST-2253    A3SS 2253    adipose_subcutaneous      4     Adipose (sc)\n",
       "2 XIST-2252    A3SS 2252    adipose_subcutaneous      4     Adipose (sc)\n",
       "3 GREB1L-4933  A3SS 4933    adipose_subcutaneous      4     Adipose (sc)\n",
       "4 RHCG-1776    A3SS 1776    adipose_subcutaneous      4     Adipose (sc)\n",
       "5 XIST-2253    A3SS 2253    adipose_visceral_omentum 12     Adipose (v) \n",
       "6 XIST-2252    A3SS 2252    adipose_visceral_omentum 12     Adipose (v) \n",
       "  GeneSymbol GeneID             chr   logFC      AveExpr  t         \n",
       "1 XIST       ENSG00000229807.11 chrX  -4.4086049 3.196317 -36.488970\n",
       "2 XIST       ENSG00000229807.11 chrX  -2.4147126 3.647690 -21.921057\n",
       "3 GREB1L     ENSG00000141449.14 chr18  1.2793173 2.115005   7.123138\n",
       "4 RHCG       ENSG00000140519.14 chr15 -0.6930009 1.636472  -3.922124\n",
       "5 XIST       ENSG00000229807.11 chrX  -4.4403352 3.113532 -33.950800\n",
       "6 XIST       ENSG00000229807.11 chrX  -2.4506832 3.650617 -18.890779\n",
       "  PValue        AdjPVal       B         \n",
       "1 4.635568e-154 3.893877e-150 310.016049\n",
       "2  1.444102e-78  6.065229e-75 160.028167\n",
       "3  3.052112e-12  8.545914e-09  16.692429\n",
       "4  9.797866e-05  3.919146e-02   1.142232\n",
       "5 2.654474e-123 2.209585e-119 241.826117\n",
       "6  2.817671e-58  1.172715e-54 114.731682"
      ]
     },
     "metadata": {},
     "output_type": "display_data"
    }
   ],
   "source": [
    "head(gene_as)"
   ]
  },
  {
   "cell_type": "markdown",
   "metadata": {},
   "source": [
    "### 3 Data Structures for Figures"
   ]
  },
  {
   "cell_type": "markdown",
   "metadata": {},
   "source": [
    "### 3.1 gene_as.tsv\n",
    "\n",
    "This file contains (description)\n",
    "Here is a typical line\n",
    "<pre>\n",
    "A data.frame: 6 × 15\n",
    "GeneJunction\tASE\tASE_IDX\tTissue\tcounts\tDisplay\tGeneSymbol\tGeneID\tchr\tlogFC\tAveExpr\tt\tPValue\tAdjPVal\tB\n",
    "<fct>\t<fct>\t<int>\t<fct>\t<int>\t<fct>\t<fct>\t<fct>\t<fct>\t<dbl>\t<dbl>\t<dbl>\t<dbl>\t<dbl>\t<dbl>\n",
    "1\tXIST-2253\tA3SS\t2253\tadipose_subcutaneous\t4\tAdipose (sc)\tXIST\tENSG00000229807.11\tchrX\t-4.4086049\t3.196317\t-36.488970\t4.635568e-154\t3.893877e-150\t310.016049\n",
    "2\tXIST-2252\tA3SS\t2252\tadipose_subcutaneous\t4\tAdipose (sc)\tXIST\tENSG00000229807.11\tchrX\t-2.4147126\t3.647690\t-21.921057\t1.444102e-78\t6.065229e-75\t160.028167\n",
    "3\tGREB1L-4933\tA3SS\t4933\tadipose_subcutaneous\t4\tAdipose (sc)\tGREB1L\tENSG00000141449.14\tchr18\t1.2793173\t2.115005\t7.123138\t3.052112e-12\t8.545914e-09\t16.692429\n",
    "4\tRHCG-1776\tA3SS\t1776\tadipose_subcutaneous\t4\tAdipose (sc)\tRHCG\tENSG00000140519.14\tchr15\t-0.6930009\t1.636472\t-3.922124\t9.797866e-05\t3.919146e-02\t1.142232\n",
    "5\tXIST-2253\tA3SS\t2253\tadipose_visceral_omentum\t12\tAdipose (v)\tXIST\tENSG00000229807.11\tchrX\t-4.4403352\t3.113532\t-33.950800\t2.654474e-123\t2.209585e-119\t241.826117\n",
    "6\tXIST-2252\tA3SS\t2252\tadipose_visceral_omentum\t12\tAdipose (v)\tXIST\tENSG00000229807.11\tchrX\t-2.4506832\t3.650617\t-18.890779\t2.817671e-58\t1.172715e-54\t114.731682\n",
    "</pre>\n",
    "There are 2887 significant events in the file."
   ]
  },
  {
   "cell_type": "code",
   "execution_count": 35,
   "metadata": {},
   "outputs": [
    {
     "name": "stdout",
     "output_type": "stream",
     "text": [
      "Observations: 12,740\n",
      "Variables: 15\n",
      "$ GeneJunction \u001b[3m\u001b[90m<fct>\u001b[39m\u001b[23m XIST-2253, XIST-2252, GREB1L-4933, RHCG-1776, XIST-2253,…\n",
      "$ ASE          \u001b[3m\u001b[90m<fct>\u001b[39m\u001b[23m A3SS, A3SS, A3SS, A3SS, A3SS, A3SS, A3SS, A3SS, A3SS, A3…\n",
      "$ ASE_IDX      \u001b[3m\u001b[90m<int>\u001b[39m\u001b[23m 2253, 2252, 4933, 1776, 2253, 2252, 4819, 4818, 4820, 45…\n",
      "$ Tissue       \u001b[3m\u001b[90m<fct>\u001b[39m\u001b[23m adipose_subcutaneous, adipose_subcutaneous, adipose_subc…\n",
      "$ counts       \u001b[3m\u001b[90m<int>\u001b[39m\u001b[23m 4, 4, 4, 4, 12, 12, 12, 12, 12, 12, 12, 12, 12, 12, 12, …\n",
      "$ Display      \u001b[3m\u001b[90m<fct>\u001b[39m\u001b[23m Adipose (sc), Adipose (sc), Adipose (sc), Adipose (sc), …\n",
      "$ GeneSymbol   \u001b[3m\u001b[90m<fct>\u001b[39m\u001b[23m XIST, XIST, GREB1L, RHCG, XIST, XIST, WNT2, WNT2, WNT2, …\n",
      "$ GeneID       \u001b[3m\u001b[90m<fct>\u001b[39m\u001b[23m ENSG00000229807.11, ENSG00000229807.11, ENSG00000141449.…\n",
      "$ chr          \u001b[3m\u001b[90m<fct>\u001b[39m\u001b[23m chrX, chrX, chr18, chr15, chrX, chrX, chr7, chr7, chr7, …\n",
      "$ logFC        \u001b[3m\u001b[90m<dbl>\u001b[39m\u001b[23m -4.4086049, -2.4147126, 1.2793173, -0.6930009, -4.440335…\n",
      "$ AveExpr      \u001b[3m\u001b[90m<dbl>\u001b[39m\u001b[23m 3.1963170, 3.6476904, 2.1150049, 1.6364719, 3.1135325, 3…\n",
      "$ t            \u001b[3m\u001b[90m<dbl>\u001b[39m\u001b[23m -36.488970, -21.921057, 7.123138, -3.922124, -33.950800,…\n",
      "$ PValue       \u001b[3m\u001b[90m<dbl>\u001b[39m\u001b[23m 4.635568e-154, 1.444102e-78, 3.052112e-12, 9.797866e-05,…\n",
      "$ AdjPVal      \u001b[3m\u001b[90m<dbl>\u001b[39m\u001b[23m 3.893877e-150, 6.065229e-75, 8.545914e-09, 3.919146e-02,…\n",
      "$ B            \u001b[3m\u001b[90m<dbl>\u001b[39m\u001b[23m 310.016049, 160.028167, 16.692429, 1.142232, 241.826117,…\n"
     ]
    },
    {
     "data": {
      "text/html": [
       "39"
      ],
      "text/latex": [
       "39"
      ],
      "text/markdown": [
       "39"
      ],
      "text/plain": [
       "[1] 39"
      ]
     },
     "metadata": {},
     "output_type": "display_data"
    },
    {
     "data": {
      "text/plain": [
       "\n",
       "FALSE \n",
       "12740 "
      ]
     },
     "metadata": {},
     "output_type": "display_data"
    },
    {
     "data": {
      "text/plain": [
       "\n",
       "         Adipose (sc)           Adipose (v)         Adrenal gland \n",
       "                  156                   116                    92 \n",
       "                Aorta      Atrial appendage                Breast \n",
       "                  278                    54                  8722 \n",
       "              Caudate Cerebellar hemisphere            Cerebellum \n",
       "                   32                    24                    70 \n",
       "      Coronary artery                Cortex       EBV-lymphocytes \n",
       "                   42                    52                    46 \n",
       "      Esophagus (gej)         Esophagus (m)        Esophagus (mu) \n",
       "                   58                    66                   522 \n",
       "          Fibroblasts        Frontal cortex           Hippocampus \n",
       "                  194                    22                    72 \n",
       "         Hypothalamus        Left ventricle                 Liver \n",
       "                   26                    48                    74 \n",
       "                 Lung     Nucleus accumbens              Pancreas \n",
       "                   62                   670                    62 \n",
       "            Pituitary               Putamen         Sigmoid colon \n",
       "                  130                    24                    20 \n",
       "      Skeletal muscle        Skin (exposed)    Skin (not exposed) \n",
       "                  160                   128                    66 \n",
       "      Small intestine           Spinal cord                Spleen \n",
       "                   32                    30                   116 \n",
       "              Stomach               Thyroid         Tibial artery \n",
       "                   48                   208                    98 \n",
       "         Tibial nerve      Transverse colon           Whole blood \n",
       "                   52                    34                    34 "
      ]
     },
     "metadata": {},
     "output_type": "display_data"
    },
    {
     "data": {
      "text/html": [
       "<style>\n",
       ".list-inline {list-style: none; margin:0; padding: 0}\n",
       ".list-inline>li {display: inline-block}\n",
       ".list-inline>li:not(:last-child)::after {content: \"\\00b7\"; padding: 0 .5ex}\n",
       "</style>\n",
       "<ol class=list-inline><li>'GeneJunction'</li><li>'ASE'</li><li>'ASE_IDX'</li><li>'Tissue'</li><li>'counts'</li><li>'Display'</li><li>'GeneSymbol'</li><li>'GeneID'</li><li>'chr'</li><li>'logFC'</li><li>'AveExpr'</li><li>'t'</li><li>'PValue'</li><li>'AdjPVal'</li><li>'B'</li></ol>\n"
      ],
      "text/latex": [
       "\\begin{enumerate*}\n",
       "\\item 'GeneJunction'\n",
       "\\item 'ASE'\n",
       "\\item 'ASE\\_IDX'\n",
       "\\item 'Tissue'\n",
       "\\item 'counts'\n",
       "\\item 'Display'\n",
       "\\item 'GeneSymbol'\n",
       "\\item 'GeneID'\n",
       "\\item 'chr'\n",
       "\\item 'logFC'\n",
       "\\item 'AveExpr'\n",
       "\\item 't'\n",
       "\\item 'PValue'\n",
       "\\item 'AdjPVal'\n",
       "\\item 'B'\n",
       "\\end{enumerate*}\n"
      ],
      "text/markdown": [
       "1. 'GeneJunction'\n",
       "2. 'ASE'\n",
       "3. 'ASE_IDX'\n",
       "4. 'Tissue'\n",
       "5. 'counts'\n",
       "6. 'Display'\n",
       "7. 'GeneSymbol'\n",
       "8. 'GeneID'\n",
       "9. 'chr'\n",
       "10. 'logFC'\n",
       "11. 'AveExpr'\n",
       "12. 't'\n",
       "13. 'PValue'\n",
       "14. 'AdjPVal'\n",
       "15. 'B'\n",
       "\n",
       "\n"
      ],
      "text/plain": [
       " [1] \"GeneJunction\" \"ASE\"          \"ASE_IDX\"      \"Tissue\"       \"counts\"      \n",
       " [6] \"Display\"      \"GeneSymbol\"   \"GeneID\"       \"chr\"          \"logFC\"       \n",
       "[11] \"AveExpr\"      \"t\"            \"PValue\"       \"AdjPVal\"      \"B\"           "
      ]
     },
     "metadata": {},
     "output_type": "display_data"
    },
    {
     "data": {
      "text/html": [
       "<table>\n",
       "<caption>A data.frame: 6 × 15</caption>\n",
       "<thead>\n",
       "\t<tr><th></th><th scope=col>GeneJunction</th><th scope=col>ASE</th><th scope=col>ASE_IDX</th><th scope=col>Tissue</th><th scope=col>counts</th><th scope=col>Display</th><th scope=col>GeneSymbol</th><th scope=col>GeneID</th><th scope=col>chr</th><th scope=col>logFC</th><th scope=col>AveExpr</th><th scope=col>t</th><th scope=col>PValue</th><th scope=col>AdjPVal</th><th scope=col>B</th></tr>\n",
       "\t<tr><th></th><th scope=col>&lt;fct&gt;</th><th scope=col>&lt;fct&gt;</th><th scope=col>&lt;int&gt;</th><th scope=col>&lt;fct&gt;</th><th scope=col>&lt;int&gt;</th><th scope=col>&lt;fct&gt;</th><th scope=col>&lt;fct&gt;</th><th scope=col>&lt;fct&gt;</th><th scope=col>&lt;fct&gt;</th><th scope=col>&lt;dbl&gt;</th><th scope=col>&lt;dbl&gt;</th><th scope=col>&lt;dbl&gt;</th><th scope=col>&lt;dbl&gt;</th><th scope=col>&lt;dbl&gt;</th><th scope=col>&lt;dbl&gt;</th></tr>\n",
       "</thead>\n",
       "<tbody>\n",
       "\t<tr><th scope=row>1</th><td>XIST-2253  </td><td>A3SS</td><td>2253</td><td>adipose_subcutaneous    </td><td> 4</td><td>Adipose (sc)</td><td>XIST  </td><td>ENSG00000229807.11</td><td>chrX </td><td>-4.4086049</td><td>3.196317</td><td>-36.488970</td><td>4.635568e-154</td><td>3.893877e-150</td><td>310.016049</td></tr>\n",
       "\t<tr><th scope=row>2</th><td>XIST-2252  </td><td>A3SS</td><td>2252</td><td>adipose_subcutaneous    </td><td> 4</td><td>Adipose (sc)</td><td>XIST  </td><td>ENSG00000229807.11</td><td>chrX </td><td>-2.4147126</td><td>3.647690</td><td>-21.921057</td><td> 1.444102e-78</td><td> 6.065229e-75</td><td>160.028167</td></tr>\n",
       "\t<tr><th scope=row>3</th><td>GREB1L-4933</td><td>A3SS</td><td>4933</td><td>adipose_subcutaneous    </td><td> 4</td><td>Adipose (sc)</td><td>GREB1L</td><td>ENSG00000141449.14</td><td>chr18</td><td> 1.2793173</td><td>2.115005</td><td>  7.123138</td><td> 3.052112e-12</td><td> 8.545914e-09</td><td> 16.692429</td></tr>\n",
       "\t<tr><th scope=row>4</th><td>RHCG-1776  </td><td>A3SS</td><td>1776</td><td>adipose_subcutaneous    </td><td> 4</td><td>Adipose (sc)</td><td>RHCG  </td><td>ENSG00000140519.14</td><td>chr15</td><td>-0.6930009</td><td>1.636472</td><td> -3.922124</td><td> 9.797866e-05</td><td> 3.919146e-02</td><td>  1.142232</td></tr>\n",
       "\t<tr><th scope=row>5</th><td>XIST-2253  </td><td>A3SS</td><td>2253</td><td>adipose_visceral_omentum</td><td>12</td><td>Adipose (v) </td><td>XIST  </td><td>ENSG00000229807.11</td><td>chrX </td><td>-4.4403352</td><td>3.113532</td><td>-33.950800</td><td>2.654474e-123</td><td>2.209585e-119</td><td>241.826117</td></tr>\n",
       "\t<tr><th scope=row>6</th><td>XIST-2252  </td><td>A3SS</td><td>2252</td><td>adipose_visceral_omentum</td><td>12</td><td>Adipose (v) </td><td>XIST  </td><td>ENSG00000229807.11</td><td>chrX </td><td>-2.4506832</td><td>3.650617</td><td>-18.890779</td><td> 2.817671e-58</td><td> 1.172715e-54</td><td>114.731682</td></tr>\n",
       "</tbody>\n",
       "</table>\n"
      ],
      "text/latex": [
       "A data.frame: 6 × 15\n",
       "\\begin{tabular}{r|lllllllllllllll}\n",
       "  & GeneJunction & ASE & ASE\\_IDX & Tissue & counts & Display & GeneSymbol & GeneID & chr & logFC & AveExpr & t & PValue & AdjPVal & B\\\\\n",
       "  & <fct> & <fct> & <int> & <fct> & <int> & <fct> & <fct> & <fct> & <fct> & <dbl> & <dbl> & <dbl> & <dbl> & <dbl> & <dbl>\\\\\n",
       "\\hline\n",
       "\t1 & XIST-2253   & A3SS & 2253 & adipose\\_subcutaneous     &  4 & Adipose (sc) & XIST   & ENSG00000229807.11 & chrX  & -4.4086049 & 3.196317 & -36.488970 & 4.635568e-154 & 3.893877e-150 & 310.016049\\\\\n",
       "\t2 & XIST-2252   & A3SS & 2252 & adipose\\_subcutaneous     &  4 & Adipose (sc) & XIST   & ENSG00000229807.11 & chrX  & -2.4147126 & 3.647690 & -21.921057 &  1.444102e-78 &  6.065229e-75 & 160.028167\\\\\n",
       "\t3 & GREB1L-4933 & A3SS & 4933 & adipose\\_subcutaneous     &  4 & Adipose (sc) & GREB1L & ENSG00000141449.14 & chr18 &  1.2793173 & 2.115005 &   7.123138 &  3.052112e-12 &  8.545914e-09 &  16.692429\\\\\n",
       "\t4 & RHCG-1776   & A3SS & 1776 & adipose\\_subcutaneous     &  4 & Adipose (sc) & RHCG   & ENSG00000140519.14 & chr15 & -0.6930009 & 1.636472 &  -3.922124 &  9.797866e-05 &  3.919146e-02 &   1.142232\\\\\n",
       "\t5 & XIST-2253   & A3SS & 2253 & adipose\\_visceral\\_omentum & 12 & Adipose (v)  & XIST   & ENSG00000229807.11 & chrX  & -4.4403352 & 3.113532 & -33.950800 & 2.654474e-123 & 2.209585e-119 & 241.826117\\\\\n",
       "\t6 & XIST-2252   & A3SS & 2252 & adipose\\_visceral\\_omentum & 12 & Adipose (v)  & XIST   & ENSG00000229807.11 & chrX  & -2.4506832 & 3.650617 & -18.890779 &  2.817671e-58 &  1.172715e-54 & 114.731682\\\\\n",
       "\\end{tabular}\n"
      ],
      "text/markdown": [
       "\n",
       "A data.frame: 6 × 15\n",
       "\n",
       "| <!--/--> | GeneJunction &lt;fct&gt; | ASE &lt;fct&gt; | ASE_IDX &lt;int&gt; | Tissue &lt;fct&gt; | counts &lt;int&gt; | Display &lt;fct&gt; | GeneSymbol &lt;fct&gt; | GeneID &lt;fct&gt; | chr &lt;fct&gt; | logFC &lt;dbl&gt; | AveExpr &lt;dbl&gt; | t &lt;dbl&gt; | PValue &lt;dbl&gt; | AdjPVal &lt;dbl&gt; | B &lt;dbl&gt; |\n",
       "|---|---|---|---|---|---|---|---|---|---|---|---|---|---|---|---|\n",
       "| 1 | XIST-2253   | A3SS | 2253 | adipose_subcutaneous     |  4 | Adipose (sc) | XIST   | ENSG00000229807.11 | chrX  | -4.4086049 | 3.196317 | -36.488970 | 4.635568e-154 | 3.893877e-150 | 310.016049 |\n",
       "| 2 | XIST-2252   | A3SS | 2252 | adipose_subcutaneous     |  4 | Adipose (sc) | XIST   | ENSG00000229807.11 | chrX  | -2.4147126 | 3.647690 | -21.921057 |  1.444102e-78 |  6.065229e-75 | 160.028167 |\n",
       "| 3 | GREB1L-4933 | A3SS | 4933 | adipose_subcutaneous     |  4 | Adipose (sc) | GREB1L | ENSG00000141449.14 | chr18 |  1.2793173 | 2.115005 |   7.123138 |  3.052112e-12 |  8.545914e-09 |  16.692429 |\n",
       "| 4 | RHCG-1776   | A3SS | 1776 | adipose_subcutaneous     |  4 | Adipose (sc) | RHCG   | ENSG00000140519.14 | chr15 | -0.6930009 | 1.636472 |  -3.922124 |  9.797866e-05 |  3.919146e-02 |   1.142232 |\n",
       "| 5 | XIST-2253   | A3SS | 2253 | adipose_visceral_omentum | 12 | Adipose (v)  | XIST   | ENSG00000229807.11 | chrX  | -4.4403352 | 3.113532 | -33.950800 | 2.654474e-123 | 2.209585e-119 | 241.826117 |\n",
       "| 6 | XIST-2252   | A3SS | 2252 | adipose_visceral_omentum | 12 | Adipose (v)  | XIST   | ENSG00000229807.11 | chrX  | -2.4506832 | 3.650617 | -18.890779 |  2.817671e-58 |  1.172715e-54 | 114.731682 |\n",
       "\n"
      ],
      "text/plain": [
       "  GeneJunction ASE  ASE_IDX Tissue                   counts Display     \n",
       "1 XIST-2253    A3SS 2253    adipose_subcutaneous      4     Adipose (sc)\n",
       "2 XIST-2252    A3SS 2252    adipose_subcutaneous      4     Adipose (sc)\n",
       "3 GREB1L-4933  A3SS 4933    adipose_subcutaneous      4     Adipose (sc)\n",
       "4 RHCG-1776    A3SS 1776    adipose_subcutaneous      4     Adipose (sc)\n",
       "5 XIST-2253    A3SS 2253    adipose_visceral_omentum 12     Adipose (v) \n",
       "6 XIST-2252    A3SS 2252    adipose_visceral_omentum 12     Adipose (v) \n",
       "  GeneSymbol GeneID             chr   logFC      AveExpr  t         \n",
       "1 XIST       ENSG00000229807.11 chrX  -4.4086049 3.196317 -36.488970\n",
       "2 XIST       ENSG00000229807.11 chrX  -2.4147126 3.647690 -21.921057\n",
       "3 GREB1L     ENSG00000141449.14 chr18  1.2793173 2.115005   7.123138\n",
       "4 RHCG       ENSG00000140519.14 chr15 -0.6930009 1.636472  -3.922124\n",
       "5 XIST       ENSG00000229807.11 chrX  -4.4403352 3.113532 -33.950800\n",
       "6 XIST       ENSG00000229807.11 chrX  -2.4506832 3.650617 -18.890779\n",
       "  PValue        AdjPVal       B         \n",
       "1 4.635568e-154 3.893877e-150 310.016049\n",
       "2  1.444102e-78  6.065229e-75 160.028167\n",
       "3  3.052112e-12  8.545914e-09  16.692429\n",
       "4  9.797866e-05  3.919146e-02   1.142232\n",
       "5 2.654474e-123 2.209585e-119 241.826117\n",
       "6  2.817671e-58  1.172715e-54 114.731682"
      ]
     },
     "metadata": {},
     "output_type": "display_data"
    }
   ],
   "source": [
    "glimpse(gene_as)\n",
    "gene_as$Tissue <- factor(gene_as$Tissue)\n",
    "length(levels(gene_as$Tissue))\n",
    "table(is.na(gene_as$Display))\n",
    "table(gene_as$Display)\n",
    "colnames(gene_as)\n",
    "write.table(gene_as, \"../data/gene_as.tsv\", quote=FALSE, sep=\"\\t\")\n",
    "head(gene_as)\n",
    "tissue_reduction$display_name <- factor(tissue_reduction$display_name)"
   ]
  },
  {
   "cell_type": "code",
   "execution_count": 36,
   "metadata": {},
   "outputs": [
    {
     "data": {
      "text/html": [
       "<table>\n",
       "<caption>A data.frame: 6 × 15</caption>\n",
       "<thead>\n",
       "\t<tr><th></th><th scope=col>GeneJunction</th><th scope=col>ASE</th><th scope=col>ASE_IDX</th><th scope=col>Tissue</th><th scope=col>counts</th><th scope=col>Display</th><th scope=col>GeneSymbol</th><th scope=col>GeneID</th><th scope=col>chr</th><th scope=col>logFC</th><th scope=col>AveExpr</th><th scope=col>t</th><th scope=col>PValue</th><th scope=col>AdjPVal</th><th scope=col>B</th></tr>\n",
       "\t<tr><th></th><th scope=col>&lt;fct&gt;</th><th scope=col>&lt;fct&gt;</th><th scope=col>&lt;int&gt;</th><th scope=col>&lt;fct&gt;</th><th scope=col>&lt;int&gt;</th><th scope=col>&lt;fct&gt;</th><th scope=col>&lt;fct&gt;</th><th scope=col>&lt;fct&gt;</th><th scope=col>&lt;fct&gt;</th><th scope=col>&lt;dbl&gt;</th><th scope=col>&lt;dbl&gt;</th><th scope=col>&lt;dbl&gt;</th><th scope=col>&lt;dbl&gt;</th><th scope=col>&lt;dbl&gt;</th><th scope=col>&lt;dbl&gt;</th></tr>\n",
       "</thead>\n",
       "<tbody>\n",
       "\t<tr><th scope=row>1</th><td>XIST-2253</td><td>A3SS</td><td>2253</td><td>adipose_subcutaneous    </td><td> 4</td><td>Adipose (sc) </td><td>XIST</td><td>ENSG00000229807.11</td><td>chrX</td><td>-4.408605</td><td>3.196317</td><td>-36.48897</td><td>4.635568e-154</td><td>3.893877e-150</td><td>310.0160</td></tr>\n",
       "\t<tr><th scope=row>2</th><td>XIST-2252</td><td>A3SS</td><td>2252</td><td>adipose_subcutaneous    </td><td> 4</td><td>Adipose (sc) </td><td>XIST</td><td>ENSG00000229807.11</td><td>chrX</td><td>-2.414713</td><td>3.647690</td><td>-21.92106</td><td> 1.444102e-78</td><td> 6.065229e-75</td><td>160.0282</td></tr>\n",
       "\t<tr><th scope=row>5</th><td>XIST-2253</td><td>A3SS</td><td>2253</td><td>adipose_visceral_omentum</td><td>12</td><td>Adipose (v)  </td><td>XIST</td><td>ENSG00000229807.11</td><td>chrX</td><td>-4.440335</td><td>3.113532</td><td>-33.95080</td><td>2.654474e-123</td><td>2.209585e-119</td><td>241.8261</td></tr>\n",
       "\t<tr><th scope=row>6</th><td>XIST-2252</td><td>A3SS</td><td>2252</td><td>adipose_visceral_omentum</td><td>12</td><td>Adipose (v)  </td><td>XIST</td><td>ENSG00000229807.11</td><td>chrX</td><td>-2.450683</td><td>3.650617</td><td>-18.89078</td><td> 2.817671e-58</td><td> 1.172715e-54</td><td>114.7317</td></tr>\n",
       "\t<tr><th scope=row>17</th><td>XIST-2253</td><td>A3SS</td><td>2253</td><td>adrenal_gland           </td><td> 6</td><td>Adrenal gland</td><td>XIST</td><td>ENSG00000229807.11</td><td>chrX</td><td>-4.599240</td><td>3.465058</td><td>-30.97273</td><td> 2.477109e-94</td><td> 2.031477e-90</td><td>174.6587</td></tr>\n",
       "\t<tr><th scope=row>18</th><td>XIST-2252</td><td>A3SS</td><td>2252</td><td>adrenal_gland           </td><td> 6</td><td>Adrenal gland</td><td>XIST</td><td>ENSG00000229807.11</td><td>chrX</td><td>-2.668392</td><td>3.991548</td><td>-21.05790</td><td> 1.509534e-60</td><td> 6.189844e-57</td><td>115.7385</td></tr>\n",
       "</tbody>\n",
       "</table>\n"
      ],
      "text/latex": [
       "A data.frame: 6 × 15\n",
       "\\begin{tabular}{r|lllllllllllllll}\n",
       "  & GeneJunction & ASE & ASE\\_IDX & Tissue & counts & Display & GeneSymbol & GeneID & chr & logFC & AveExpr & t & PValue & AdjPVal & B\\\\\n",
       "  & <fct> & <fct> & <int> & <fct> & <int> & <fct> & <fct> & <fct> & <fct> & <dbl> & <dbl> & <dbl> & <dbl> & <dbl> & <dbl>\\\\\n",
       "\\hline\n",
       "\t1 & XIST-2253 & A3SS & 2253 & adipose\\_subcutaneous     &  4 & Adipose (sc)  & XIST & ENSG00000229807.11 & chrX & -4.408605 & 3.196317 & -36.48897 & 4.635568e-154 & 3.893877e-150 & 310.0160\\\\\n",
       "\t2 & XIST-2252 & A3SS & 2252 & adipose\\_subcutaneous     &  4 & Adipose (sc)  & XIST & ENSG00000229807.11 & chrX & -2.414713 & 3.647690 & -21.92106 &  1.444102e-78 &  6.065229e-75 & 160.0282\\\\\n",
       "\t5 & XIST-2253 & A3SS & 2253 & adipose\\_visceral\\_omentum & 12 & Adipose (v)   & XIST & ENSG00000229807.11 & chrX & -4.440335 & 3.113532 & -33.95080 & 2.654474e-123 & 2.209585e-119 & 241.8261\\\\\n",
       "\t6 & XIST-2252 & A3SS & 2252 & adipose\\_visceral\\_omentum & 12 & Adipose (v)   & XIST & ENSG00000229807.11 & chrX & -2.450683 & 3.650617 & -18.89078 &  2.817671e-58 &  1.172715e-54 & 114.7317\\\\\n",
       "\t17 & XIST-2253 & A3SS & 2253 & adrenal\\_gland            &  6 & Adrenal gland & XIST & ENSG00000229807.11 & chrX & -4.599240 & 3.465058 & -30.97273 &  2.477109e-94 &  2.031477e-90 & 174.6587\\\\\n",
       "\t18 & XIST-2252 & A3SS & 2252 & adrenal\\_gland            &  6 & Adrenal gland & XIST & ENSG00000229807.11 & chrX & -2.668392 & 3.991548 & -21.05790 &  1.509534e-60 &  6.189844e-57 & 115.7385\\\\\n",
       "\\end{tabular}\n"
      ],
      "text/markdown": [
       "\n",
       "A data.frame: 6 × 15\n",
       "\n",
       "| <!--/--> | GeneJunction &lt;fct&gt; | ASE &lt;fct&gt; | ASE_IDX &lt;int&gt; | Tissue &lt;fct&gt; | counts &lt;int&gt; | Display &lt;fct&gt; | GeneSymbol &lt;fct&gt; | GeneID &lt;fct&gt; | chr &lt;fct&gt; | logFC &lt;dbl&gt; | AveExpr &lt;dbl&gt; | t &lt;dbl&gt; | PValue &lt;dbl&gt; | AdjPVal &lt;dbl&gt; | B &lt;dbl&gt; |\n",
       "|---|---|---|---|---|---|---|---|---|---|---|---|---|---|---|---|\n",
       "| 1 | XIST-2253 | A3SS | 2253 | adipose_subcutaneous     |  4 | Adipose (sc)  | XIST | ENSG00000229807.11 | chrX | -4.408605 | 3.196317 | -36.48897 | 4.635568e-154 | 3.893877e-150 | 310.0160 |\n",
       "| 2 | XIST-2252 | A3SS | 2252 | adipose_subcutaneous     |  4 | Adipose (sc)  | XIST | ENSG00000229807.11 | chrX | -2.414713 | 3.647690 | -21.92106 |  1.444102e-78 |  6.065229e-75 | 160.0282 |\n",
       "| 5 | XIST-2253 | A3SS | 2253 | adipose_visceral_omentum | 12 | Adipose (v)   | XIST | ENSG00000229807.11 | chrX | -4.440335 | 3.113532 | -33.95080 | 2.654474e-123 | 2.209585e-119 | 241.8261 |\n",
       "| 6 | XIST-2252 | A3SS | 2252 | adipose_visceral_omentum | 12 | Adipose (v)   | XIST | ENSG00000229807.11 | chrX | -2.450683 | 3.650617 | -18.89078 |  2.817671e-58 |  1.172715e-54 | 114.7317 |\n",
       "| 17 | XIST-2253 | A3SS | 2253 | adrenal_gland            |  6 | Adrenal gland | XIST | ENSG00000229807.11 | chrX | -4.599240 | 3.465058 | -30.97273 |  2.477109e-94 |  2.031477e-90 | 174.6587 |\n",
       "| 18 | XIST-2252 | A3SS | 2252 | adrenal_gland            |  6 | Adrenal gland | XIST | ENSG00000229807.11 | chrX | -2.668392 | 3.991548 | -21.05790 |  1.509534e-60 |  6.189844e-57 | 115.7385 |\n",
       "\n"
      ],
      "text/plain": [
       "   GeneJunction ASE  ASE_IDX Tissue                   counts Display      \n",
       "1  XIST-2253    A3SS 2253    adipose_subcutaneous      4     Adipose (sc) \n",
       "2  XIST-2252    A3SS 2252    adipose_subcutaneous      4     Adipose (sc) \n",
       "5  XIST-2253    A3SS 2253    adipose_visceral_omentum 12     Adipose (v)  \n",
       "6  XIST-2252    A3SS 2252    adipose_visceral_omentum 12     Adipose (v)  \n",
       "17 XIST-2253    A3SS 2253    adrenal_gland             6     Adrenal gland\n",
       "18 XIST-2252    A3SS 2252    adrenal_gland             6     Adrenal gland\n",
       "   GeneSymbol GeneID             chr  logFC     AveExpr  t        \n",
       "1  XIST       ENSG00000229807.11 chrX -4.408605 3.196317 -36.48897\n",
       "2  XIST       ENSG00000229807.11 chrX -2.414713 3.647690 -21.92106\n",
       "5  XIST       ENSG00000229807.11 chrX -4.440335 3.113532 -33.95080\n",
       "6  XIST       ENSG00000229807.11 chrX -2.450683 3.650617 -18.89078\n",
       "17 XIST       ENSG00000229807.11 chrX -4.599240 3.465058 -30.97273\n",
       "18 XIST       ENSG00000229807.11 chrX -2.668392 3.991548 -21.05790\n",
       "   PValue        AdjPVal       B       \n",
       "1  4.635568e-154 3.893877e-150 310.0160\n",
       "2   1.444102e-78  6.065229e-75 160.0282\n",
       "5  2.654474e-123 2.209585e-119 241.8261\n",
       "6   2.817671e-58  1.172715e-54 114.7317\n",
       "17  2.477109e-94  2.031477e-90 174.6587\n",
       "18  1.509534e-60  6.189844e-57 115.7385"
      ]
     },
     "metadata": {},
     "output_type": "display_data"
    },
    {
     "name": "stderr",
     "output_type": "stream",
     "text": [
      "There were 12740 total significant alternative splicing events (gene_as)\n",
      "\n",
      "There were 1566 total significant alternative splicing events on the X chromosome (gene_as)\n",
      "\n",
      "i.e., 12.2919937205651% of all significant AS events were on the X chromosome\n",
      "\n"
     ]
    }
   ],
   "source": [
    "head(gene_as[gene_as$chr==\"chrX\",])\n",
    "x_as_events <- gene_as[gene_as$chr==\"chrX\",]\n",
    "message(\"There were \",nrow(gene_as),\" total significant alternative splicing events (gene_as)\")\n",
    "message(\"There were \",nrow(x_as_events),\" total significant alternative splicing events on the X chromosome (gene_as)\")\n",
    "message(\"i.e., \", (100*nrow(x_as_events)/nrow(gene_as)), \"% of all significant AS events were on the X chromosome\")"
   ]
  },
  {
   "cell_type": "markdown",
   "metadata": {},
   "source": [
    "### 3.2 Tissue specific data frame"
   ]
  },
  {
   "cell_type": "code",
   "execution_count": 37,
   "metadata": {},
   "outputs": [
    {
     "name": "stderr",
     "output_type": "stream",
     "text": [
      "data now has 39 tissues and 5 ASE categories\n",
      "\n",
      "ASE:\n",
      "\n"
     ]
    },
    {
     "data": {
      "text/html": [
       "<style>\n",
       ".dl-inline {width: auto; margin:0; padding: 0}\n",
       ".dl-inline>dt, .dl-inline>dd {float: none; width: auto; display: inline-block}\n",
       ".dl-inline>dt::after {content: \":\\0020\"; padding-right: .5ex}\n",
       ".dl-inline>dt:not(:first-of-type) {padding-left: .5ex}\n",
       "</style><dl class=dl-inline><dt>A3SS</dt><dd>1386</dd><dt>A5SS</dt><dd>842</dd><dt>MXE</dt><dd>398</dd><dt>RI</dt><dd>836</dd><dt>SE</dt><dd>9278</dd></dl>\n"
      ],
      "text/latex": [
       "\\begin{description*}\n",
       "\\item[A3SS] 1386\n",
       "\\item[A5SS] 842\n",
       "\\item[MXE] 398\n",
       "\\item[RI] 836\n",
       "\\item[SE] 9278\n",
       "\\end{description*}\n"
      ],
      "text/markdown": [
       "A3SS\n",
       ":   1386A5SS\n",
       ":   842MXE\n",
       ":   398RI\n",
       ":   836SE\n",
       ":   9278\n",
       "\n"
      ],
      "text/plain": [
       "A3SS A5SS  MXE   RI   SE \n",
       "1386  842  398  836 9278 "
      ]
     },
     "metadata": {},
     "output_type": "display_data"
    }
   ],
   "source": [
    "data <- data.frame(Tissue=gene_as$Display, ASE=gene_as$ASE, Counts=gene_as$counts)\n",
    "\n",
    "numberOfUniqueTissues <- length(summary(as.factor(data$Tissue),maxsum=500))\n",
    "numberOfASEmechanisms <- length(summary(as.factor(data$ASE),maxsum=500))\n",
    "\n",
    "message(\"data now has \",numberOfUniqueTissues, \" tissues and \", numberOfASEmechanisms, \" ASE categories\")\n",
    "message(\"ASE:\")\n",
    "summary(as.factor(data$ASE),maxsum=500)"
   ]
  },
  {
   "cell_type": "markdown",
   "metadata": {},
   "source": [
    "### 3.3 Count splicing event by chromosome\n",
    "\n",
    "Count the number of significant alternative splicing events per chromosome and write to the file **Total_AS_by_chr.tsv**."
   ]
  },
  {
   "cell_type": "code",
   "execution_count": 38,
   "metadata": {},
   "outputs": [
    {
     "data": {
      "text/html": [
       "23"
      ],
      "text/latex": [
       "23"
      ],
      "text/markdown": [
       "23"
      ],
      "text/plain": [
       "[1] 23"
      ]
     },
     "metadata": {},
     "output_type": "display_data"
    },
    {
     "data": {
      "text/html": [
       "<table>\n",
       "<caption>A data.frame: 23 × 2</caption>\n",
       "<thead>\n",
       "\t<tr><th scope=col>chr</th><th scope=col>n</th></tr>\n",
       "\t<tr><th scope=col>&lt;fct&gt;</th><th scope=col>&lt;int&gt;</th></tr>\n",
       "</thead>\n",
       "<tbody>\n",
       "\t<tr><td>chrX </td><td>1566</td></tr>\n",
       "\t<tr><td>chr1 </td><td>1272</td></tr>\n",
       "\t<tr><td>chr19</td><td> 884</td></tr>\n",
       "\t<tr><td>chr11</td><td> 748</td></tr>\n",
       "\t<tr><td>chr2 </td><td> 748</td></tr>\n",
       "\t<tr><td>chr3 </td><td> 736</td></tr>\n",
       "\t<tr><td>chr17</td><td> 726</td></tr>\n",
       "\t<tr><td>chr12</td><td> 668</td></tr>\n",
       "\t<tr><td>chr16</td><td> 626</td></tr>\n",
       "\t<tr><td>chr4 </td><td> 584</td></tr>\n",
       "\t<tr><td>chr7 </td><td> 496</td></tr>\n",
       "\t<tr><td>chr6 </td><td> 486</td></tr>\n",
       "\t<tr><td>chr15</td><td> 450</td></tr>\n",
       "\t<tr><td>chr5 </td><td> 428</td></tr>\n",
       "\t<tr><td>chr10</td><td> 372</td></tr>\n",
       "\t<tr><td>chr8 </td><td> 354</td></tr>\n",
       "\t<tr><td>chr22</td><td> 342</td></tr>\n",
       "\t<tr><td>chr9 </td><td> 340</td></tr>\n",
       "\t<tr><td>chr14</td><td> 292</td></tr>\n",
       "\t<tr><td>chr20</td><td> 230</td></tr>\n",
       "\t<tr><td>chr18</td><td> 180</td></tr>\n",
       "\t<tr><td>chr13</td><td> 128</td></tr>\n",
       "\t<tr><td>chr21</td><td>  84</td></tr>\n",
       "</tbody>\n",
       "</table>\n"
      ],
      "text/latex": [
       "A data.frame: 23 × 2\n",
       "\\begin{tabular}{ll}\n",
       " chr & n\\\\\n",
       " <fct> & <int>\\\\\n",
       "\\hline\n",
       "\t chrX  & 1566\\\\\n",
       "\t chr1  & 1272\\\\\n",
       "\t chr19 &  884\\\\\n",
       "\t chr11 &  748\\\\\n",
       "\t chr2  &  748\\\\\n",
       "\t chr3  &  736\\\\\n",
       "\t chr17 &  726\\\\\n",
       "\t chr12 &  668\\\\\n",
       "\t chr16 &  626\\\\\n",
       "\t chr4  &  584\\\\\n",
       "\t chr7  &  496\\\\\n",
       "\t chr6  &  486\\\\\n",
       "\t chr15 &  450\\\\\n",
       "\t chr5  &  428\\\\\n",
       "\t chr10 &  372\\\\\n",
       "\t chr8  &  354\\\\\n",
       "\t chr22 &  342\\\\\n",
       "\t chr9  &  340\\\\\n",
       "\t chr14 &  292\\\\\n",
       "\t chr20 &  230\\\\\n",
       "\t chr18 &  180\\\\\n",
       "\t chr13 &  128\\\\\n",
       "\t chr21 &   84\\\\\n",
       "\\end{tabular}\n"
      ],
      "text/markdown": [
       "\n",
       "A data.frame: 23 × 2\n",
       "\n",
       "| chr &lt;fct&gt; | n &lt;int&gt; |\n",
       "|---|---|\n",
       "| chrX  | 1566 |\n",
       "| chr1  | 1272 |\n",
       "| chr19 |  884 |\n",
       "| chr11 |  748 |\n",
       "| chr2  |  748 |\n",
       "| chr3  |  736 |\n",
       "| chr17 |  726 |\n",
       "| chr12 |  668 |\n",
       "| chr16 |  626 |\n",
       "| chr4  |  584 |\n",
       "| chr7  |  496 |\n",
       "| chr6  |  486 |\n",
       "| chr15 |  450 |\n",
       "| chr5  |  428 |\n",
       "| chr10 |  372 |\n",
       "| chr8  |  354 |\n",
       "| chr22 |  342 |\n",
       "| chr9  |  340 |\n",
       "| chr14 |  292 |\n",
       "| chr20 |  230 |\n",
       "| chr18 |  180 |\n",
       "| chr13 |  128 |\n",
       "| chr21 |   84 |\n",
       "\n"
      ],
      "text/plain": [
       "   chr   n   \n",
       "1  chrX  1566\n",
       "2  chr1  1272\n",
       "3  chr19  884\n",
       "4  chr11  748\n",
       "5  chr2   748\n",
       "6  chr3   736\n",
       "7  chr17  726\n",
       "8  chr12  668\n",
       "9  chr16  626\n",
       "10 chr4   584\n",
       "11 chr7   496\n",
       "12 chr6   486\n",
       "13 chr15  450\n",
       "14 chr5   428\n",
       "15 chr10  372\n",
       "16 chr8   354\n",
       "17 chr22  342\n",
       "18 chr9   340\n",
       "19 chr14  292\n",
       "20 chr20  230\n",
       "21 chr18  180\n",
       "22 chr13  128\n",
       "23 chr21   84"
      ]
     },
     "metadata": {},
     "output_type": "display_data"
    },
    {
     "name": "stdout",
     "output_type": "stream",
     "text": [
      "Observations: 23\n",
      "Variables: 2\n",
      "$ chr \u001b[3m\u001b[90m<fct>\u001b[39m\u001b[23m chrX, chr1, chr19, chr11, chr2, chr3, chr17, chr12, chr16, chr4, …\n",
      "$ n   \u001b[3m\u001b[90m<int>\u001b[39m\u001b[23m 1566, 1272, 884, 748, 748, 736, 726, 668, 626, 584, 496, 486, 450…\n"
     ]
    }
   ],
   "source": [
    "res2 <- gene_as          %>% \n",
    "       group_by(chr)    %>% \n",
    "       count(chr)       %>% \n",
    "       arrange(desc(n)) %>% \n",
    "       as.data.frame()\n",
    "res2$chr <- factor(res2$chr, levels = res2$chr)\n",
    "length(res2$chr)\n",
    "res2\n",
    "glimpse(res2)\n",
    "write.table(res2, file= \"../data/Total_AS_by_chr.tsv\", sep=\"\\t\", quote = FALSE, row.names=F)"
   ]
  },
  {
   "cell_type": "markdown",
   "metadata": {},
   "source": [
    "### 3.4 Count most frequent spliced genes "
   ]
  },
  {
   "cell_type": "code",
   "execution_count": 39,
   "metadata": {
    "lines_to_next_cell": 0
   },
   "outputs": [
    {
     "data": {
      "text/html": [
       "2887"
      ],
      "text/latex": [
       "2887"
      ],
      "text/markdown": [
       "2887"
      ],
      "text/plain": [
       "[1] 2887"
      ]
     },
     "metadata": {},
     "output_type": "display_data"
    },
    {
     "data": {
      "text/html": [
       "<table>\n",
       "<caption>A data.frame: 6 × 2</caption>\n",
       "<thead>\n",
       "\t<tr><th></th><th scope=col>GeneSymbol</th><th scope=col>n</th></tr>\n",
       "\t<tr><th></th><th scope=col>&lt;fct&gt;</th><th scope=col>&lt;int&gt;</th></tr>\n",
       "</thead>\n",
       "<tbody>\n",
       "\t<tr><th scope=row>1</th><td>XIST </td><td>684</td></tr>\n",
       "\t<tr><th scope=row>2</th><td>DDX3X</td><td>194</td></tr>\n",
       "\t<tr><th scope=row>3</th><td>KDM5C</td><td> 94</td></tr>\n",
       "\t<tr><th scope=row>4</th><td>ZFX  </td><td> 94</td></tr>\n",
       "\t<tr><th scope=row>5</th><td>KDM6A</td><td> 54</td></tr>\n",
       "\t<tr><th scope=row>6</th><td>UCA1 </td><td> 50</td></tr>\n",
       "</tbody>\n",
       "</table>\n"
      ],
      "text/latex": [
       "A data.frame: 6 × 2\n",
       "\\begin{tabular}{r|ll}\n",
       "  & GeneSymbol & n\\\\\n",
       "  & <fct> & <int>\\\\\n",
       "\\hline\n",
       "\t1 & XIST  & 684\\\\\n",
       "\t2 & DDX3X & 194\\\\\n",
       "\t3 & KDM5C &  94\\\\\n",
       "\t4 & ZFX   &  94\\\\\n",
       "\t5 & KDM6A &  54\\\\\n",
       "\t6 & UCA1  &  50\\\\\n",
       "\\end{tabular}\n"
      ],
      "text/markdown": [
       "\n",
       "A data.frame: 6 × 2\n",
       "\n",
       "| <!--/--> | GeneSymbol &lt;fct&gt; | n &lt;int&gt; |\n",
       "|---|---|---|\n",
       "| 1 | XIST  | 684 |\n",
       "| 2 | DDX3X | 194 |\n",
       "| 3 | KDM5C |  94 |\n",
       "| 4 | ZFX   |  94 |\n",
       "| 5 | KDM6A |  54 |\n",
       "| 6 | UCA1  |  50 |\n",
       "\n"
      ],
      "text/plain": [
       "  GeneSymbol n  \n",
       "1 XIST       684\n",
       "2 DDX3X      194\n",
       "3 KDM5C       94\n",
       "4 ZFX         94\n",
       "5 KDM6A       54\n",
       "6 UCA1        50"
      ]
     },
     "metadata": {},
     "output_type": "display_data"
    }
   ],
   "source": [
    "res3 <- gene_as %>% \n",
    "       group_by(GeneSymbol) %>% count(GeneSymbol) %>% arrange(desc(n)) %>% as.data.frame()\n",
    "res3$GeneSymbol <- factor(res3$GeneSymbol, levels = res3$GeneSymbol)\n",
    "length(res3$GeneSymbol)\n",
    "head(res3)\n",
    "write.table(res3, file = \"../data/Total_AS_by_geneSymbol.tsv\", sep = \"\\t\", quote=FALSE, row.names = F)"
   ]
  },
  {
   "cell_type": "markdown",
   "metadata": {},
   "source": [
    "### 3.5 Count most frequent splicing by tissue"
   ]
  },
  {
   "cell_type": "code",
   "execution_count": 40,
   "metadata": {},
   "outputs": [
    {
     "data": {
      "text/html": [
       "39"
      ],
      "text/latex": [
       "39"
      ],
      "text/markdown": [
       "39"
      ],
      "text/plain": [
       "[1] 39"
      ]
     },
     "metadata": {},
     "output_type": "display_data"
    },
    {
     "data": {
      "text/html": [
       "<table>\n",
       "<caption>A data.frame: 39 × 2</caption>\n",
       "<thead>\n",
       "\t<tr><th scope=col>Display</th><th scope=col>n</th></tr>\n",
       "\t<tr><th scope=col>&lt;fct&gt;</th><th scope=col>&lt;int&gt;</th></tr>\n",
       "</thead>\n",
       "<tbody>\n",
       "\t<tr><td>Breast               </td><td>8722</td></tr>\n",
       "\t<tr><td>Nucleus accumbens    </td><td> 670</td></tr>\n",
       "\t<tr><td>Esophagus (mu)       </td><td> 522</td></tr>\n",
       "\t<tr><td>Aorta                </td><td> 278</td></tr>\n",
       "\t<tr><td>Thyroid              </td><td> 208</td></tr>\n",
       "\t<tr><td>Fibroblasts          </td><td> 194</td></tr>\n",
       "\t<tr><td>Skeletal muscle      </td><td> 160</td></tr>\n",
       "\t<tr><td>Adipose (sc)         </td><td> 156</td></tr>\n",
       "\t<tr><td>Pituitary            </td><td> 130</td></tr>\n",
       "\t<tr><td>Skin (exposed)       </td><td> 128</td></tr>\n",
       "\t<tr><td>Adipose (v)          </td><td> 116</td></tr>\n",
       "\t<tr><td>Spleen               </td><td> 116</td></tr>\n",
       "\t<tr><td>Tibial artery        </td><td>  98</td></tr>\n",
       "\t<tr><td>Adrenal gland        </td><td>  92</td></tr>\n",
       "\t<tr><td>Liver                </td><td>  74</td></tr>\n",
       "\t<tr><td>Hippocampus          </td><td>  72</td></tr>\n",
       "\t<tr><td>Cerebellum           </td><td>  70</td></tr>\n",
       "\t<tr><td>Esophagus (m)        </td><td>  66</td></tr>\n",
       "\t<tr><td>Skin (not exposed)   </td><td>  66</td></tr>\n",
       "\t<tr><td>Lung                 </td><td>  62</td></tr>\n",
       "\t<tr><td>Pancreas             </td><td>  62</td></tr>\n",
       "\t<tr><td>Esophagus (gej)      </td><td>  58</td></tr>\n",
       "\t<tr><td>Atrial appendage     </td><td>  54</td></tr>\n",
       "\t<tr><td>Cortex               </td><td>  52</td></tr>\n",
       "\t<tr><td>Tibial nerve         </td><td>  52</td></tr>\n",
       "\t<tr><td>Left ventricle       </td><td>  48</td></tr>\n",
       "\t<tr><td>Stomach              </td><td>  48</td></tr>\n",
       "\t<tr><td>EBV-lymphocytes      </td><td>  46</td></tr>\n",
       "\t<tr><td>Coronary artery      </td><td>  42</td></tr>\n",
       "\t<tr><td>Transverse colon     </td><td>  34</td></tr>\n",
       "\t<tr><td>Whole blood          </td><td>  34</td></tr>\n",
       "\t<tr><td>Caudate              </td><td>  32</td></tr>\n",
       "\t<tr><td>Small intestine      </td><td>  32</td></tr>\n",
       "\t<tr><td>Spinal cord          </td><td>  30</td></tr>\n",
       "\t<tr><td>Hypothalamus         </td><td>  26</td></tr>\n",
       "\t<tr><td>Cerebellar hemisphere</td><td>  24</td></tr>\n",
       "\t<tr><td>Putamen              </td><td>  24</td></tr>\n",
       "\t<tr><td>Frontal cortex       </td><td>  22</td></tr>\n",
       "\t<tr><td>Sigmoid colon        </td><td>  20</td></tr>\n",
       "</tbody>\n",
       "</table>\n"
      ],
      "text/latex": [
       "A data.frame: 39 × 2\n",
       "\\begin{tabular}{ll}\n",
       " Display & n\\\\\n",
       " <fct> & <int>\\\\\n",
       "\\hline\n",
       "\t Breast                & 8722\\\\\n",
       "\t Nucleus accumbens     &  670\\\\\n",
       "\t Esophagus (mu)        &  522\\\\\n",
       "\t Aorta                 &  278\\\\\n",
       "\t Thyroid               &  208\\\\\n",
       "\t Fibroblasts           &  194\\\\\n",
       "\t Skeletal muscle       &  160\\\\\n",
       "\t Adipose (sc)          &  156\\\\\n",
       "\t Pituitary             &  130\\\\\n",
       "\t Skin (exposed)        &  128\\\\\n",
       "\t Adipose (v)           &  116\\\\\n",
       "\t Spleen                &  116\\\\\n",
       "\t Tibial artery         &   98\\\\\n",
       "\t Adrenal gland         &   92\\\\\n",
       "\t Liver                 &   74\\\\\n",
       "\t Hippocampus           &   72\\\\\n",
       "\t Cerebellum            &   70\\\\\n",
       "\t Esophagus (m)         &   66\\\\\n",
       "\t Skin (not exposed)    &   66\\\\\n",
       "\t Lung                  &   62\\\\\n",
       "\t Pancreas              &   62\\\\\n",
       "\t Esophagus (gej)       &   58\\\\\n",
       "\t Atrial appendage      &   54\\\\\n",
       "\t Cortex                &   52\\\\\n",
       "\t Tibial nerve          &   52\\\\\n",
       "\t Left ventricle        &   48\\\\\n",
       "\t Stomach               &   48\\\\\n",
       "\t EBV-lymphocytes       &   46\\\\\n",
       "\t Coronary artery       &   42\\\\\n",
       "\t Transverse colon      &   34\\\\\n",
       "\t Whole blood           &   34\\\\\n",
       "\t Caudate               &   32\\\\\n",
       "\t Small intestine       &   32\\\\\n",
       "\t Spinal cord           &   30\\\\\n",
       "\t Hypothalamus          &   26\\\\\n",
       "\t Cerebellar hemisphere &   24\\\\\n",
       "\t Putamen               &   24\\\\\n",
       "\t Frontal cortex        &   22\\\\\n",
       "\t Sigmoid colon         &   20\\\\\n",
       "\\end{tabular}\n"
      ],
      "text/markdown": [
       "\n",
       "A data.frame: 39 × 2\n",
       "\n",
       "| Display &lt;fct&gt; | n &lt;int&gt; |\n",
       "|---|---|\n",
       "| Breast                | 8722 |\n",
       "| Nucleus accumbens     |  670 |\n",
       "| Esophagus (mu)        |  522 |\n",
       "| Aorta                 |  278 |\n",
       "| Thyroid               |  208 |\n",
       "| Fibroblasts           |  194 |\n",
       "| Skeletal muscle       |  160 |\n",
       "| Adipose (sc)          |  156 |\n",
       "| Pituitary             |  130 |\n",
       "| Skin (exposed)        |  128 |\n",
       "| Adipose (v)           |  116 |\n",
       "| Spleen                |  116 |\n",
       "| Tibial artery         |   98 |\n",
       "| Adrenal gland         |   92 |\n",
       "| Liver                 |   74 |\n",
       "| Hippocampus           |   72 |\n",
       "| Cerebellum            |   70 |\n",
       "| Esophagus (m)         |   66 |\n",
       "| Skin (not exposed)    |   66 |\n",
       "| Lung                  |   62 |\n",
       "| Pancreas              |   62 |\n",
       "| Esophagus (gej)       |   58 |\n",
       "| Atrial appendage      |   54 |\n",
       "| Cortex                |   52 |\n",
       "| Tibial nerve          |   52 |\n",
       "| Left ventricle        |   48 |\n",
       "| Stomach               |   48 |\n",
       "| EBV-lymphocytes       |   46 |\n",
       "| Coronary artery       |   42 |\n",
       "| Transverse colon      |   34 |\n",
       "| Whole blood           |   34 |\n",
       "| Caudate               |   32 |\n",
       "| Small intestine       |   32 |\n",
       "| Spinal cord           |   30 |\n",
       "| Hypothalamus          |   26 |\n",
       "| Cerebellar hemisphere |   24 |\n",
       "| Putamen               |   24 |\n",
       "| Frontal cortex        |   22 |\n",
       "| Sigmoid colon         |   20 |\n",
       "\n"
      ],
      "text/plain": [
       "   Display               n   \n",
       "1  Breast                8722\n",
       "2  Nucleus accumbens      670\n",
       "3  Esophagus (mu)         522\n",
       "4  Aorta                  278\n",
       "5  Thyroid                208\n",
       "6  Fibroblasts            194\n",
       "7  Skeletal muscle        160\n",
       "8  Adipose (sc)           156\n",
       "9  Pituitary              130\n",
       "10 Skin (exposed)         128\n",
       "11 Adipose (v)            116\n",
       "12 Spleen                 116\n",
       "13 Tibial artery           98\n",
       "14 Adrenal gland           92\n",
       "15 Liver                   74\n",
       "16 Hippocampus             72\n",
       "17 Cerebellum              70\n",
       "18 Esophagus (m)           66\n",
       "19 Skin (not exposed)      66\n",
       "20 Lung                    62\n",
       "21 Pancreas                62\n",
       "22 Esophagus (gej)         58\n",
       "23 Atrial appendage        54\n",
       "24 Cortex                  52\n",
       "25 Tibial nerve            52\n",
       "26 Left ventricle          48\n",
       "27 Stomach                 48\n",
       "28 EBV-lymphocytes         46\n",
       "29 Coronary artery         42\n",
       "30 Transverse colon        34\n",
       "31 Whole blood             34\n",
       "32 Caudate                 32\n",
       "33 Small intestine         32\n",
       "34 Spinal cord             30\n",
       "35 Hypothalamus            26\n",
       "36 Cerebellar hemisphere   24\n",
       "37 Putamen                 24\n",
       "38 Frontal cortex          22\n",
       "39 Sigmoid colon           20"
      ]
     },
     "metadata": {},
     "output_type": "display_data"
    }
   ],
   "source": [
    "res4 <- gene_as %>% \n",
    "       group_by(Display) %>% \n",
    "       count(Display) %>% \n",
    "       arrange(desc(n)) %>% \n",
    "       as.data.frame()\n",
    "res4$Display <- factor(res4$Display, levels = res4$Display)\n",
    "length(res4$Display)\n",
    "res4\n",
    "write.table(res4, file = \"../data/Total_AS_by_tissue.tsv\", sep = \"\\t\", row.names = F)"
   ]
  },
  {
   "cell_type": "markdown",
   "metadata": {},
   "source": [
    "###  3.6 Significant Count by splicing type \n",
    "We define **significant** to be FC > 1.5 and pVal < 0.05\n",
    "\n",
    "Our starting values were the significant events, all meeting the criteria FC > 1.5 and pVal < 0.05\n"
   ]
  },
  {
   "cell_type": "code",
   "execution_count": 41,
   "metadata": {},
   "outputs": [
    {
     "data": {
      "text/html": [
       "<table>\n",
       "<caption>A data.frame: 5 × 2</caption>\n",
       "<thead>\n",
       "\t<tr><th></th><th scope=col>ASE</th><th scope=col>n</th></tr>\n",
       "\t<tr><th></th><th scope=col>&lt;fct&gt;</th><th scope=col>&lt;int&gt;</th></tr>\n",
       "</thead>\n",
       "<tbody>\n",
       "\t<tr><th scope=row>1</th><td>SE  </td><td>9278</td></tr>\n",
       "\t<tr><th scope=row>2</th><td>A3SS</td><td>1386</td></tr>\n",
       "\t<tr><th scope=row>3</th><td>A5SS</td><td> 842</td></tr>\n",
       "\t<tr><th scope=row>4</th><td>RI  </td><td> 836</td></tr>\n",
       "\t<tr><th scope=row>5</th><td>MXE </td><td> 398</td></tr>\n",
       "</tbody>\n",
       "</table>\n"
      ],
      "text/latex": [
       "A data.frame: 5 × 2\n",
       "\\begin{tabular}{r|ll}\n",
       "  & ASE & n\\\\\n",
       "  & <fct> & <int>\\\\\n",
       "\\hline\n",
       "\t1 & SE   & 9278\\\\\n",
       "\t2 & A3SS & 1386\\\\\n",
       "\t3 & A5SS &  842\\\\\n",
       "\t4 & RI   &  836\\\\\n",
       "\t5 & MXE  &  398\\\\\n",
       "\\end{tabular}\n"
      ],
      "text/markdown": [
       "\n",
       "A data.frame: 5 × 2\n",
       "\n",
       "| <!--/--> | ASE &lt;fct&gt; | n &lt;int&gt; |\n",
       "|---|---|---|\n",
       "| 1 | SE   | 9278 |\n",
       "| 2 | A3SS | 1386 |\n",
       "| 3 | A5SS |  842 |\n",
       "| 4 | RI   |  836 |\n",
       "| 5 | MXE  |  398 |\n",
       "\n"
      ],
      "text/plain": [
       "  ASE  n   \n",
       "1 SE   9278\n",
       "2 A3SS 1386\n",
       "3 A5SS  842\n",
       "4 RI    836\n",
       "5 MXE   398"
      ]
     },
     "metadata": {},
     "output_type": "display_data"
    }
   ],
   "source": [
    "res5 <- gene_as %>% group_by(ASE) %>% count(ASE) %>% arrange(desc(n)) %>% as.data.frame()\n",
    "res5$ASE <- factor(res5$ASE, levels = res5$ASE)\n",
    "head(res5)\n",
    "write.table(res5, file= \"../data/Total_AS_by_splicingtype.tsv\")"
   ]
  },
  {
   "cell_type": "markdown",
   "metadata": {},
   "source": [
    "###  3.7 Significant Count by splicing type (significant == FC > 1.5 and pVal < 0.05)"
   ]
  },
  {
   "cell_type": "code",
   "execution_count": 42,
   "metadata": {
    "lines_to_next_cell": 0
   },
   "outputs": [
    {
     "data": {
      "text/plain": [
       "A3SS_keep\n",
       "FALSE  TRUE \n",
       "11354  1386 "
      ]
     },
     "metadata": {},
     "output_type": "display_data"
    },
    {
     "data": {
      "text/plain": [
       "A5SS_keep\n",
       "FALSE  TRUE \n",
       "11898   842 "
      ]
     },
     "metadata": {},
     "output_type": "display_data"
    },
    {
     "data": {
      "text/plain": [
       "MXE_keep\n",
       "FALSE  TRUE \n",
       "12342   398 "
      ]
     },
     "metadata": {},
     "output_type": "display_data"
    },
    {
     "data": {
      "text/plain": [
       "SE_keep\n",
       "FALSE  TRUE \n",
       " 3462  9278 "
      ]
     },
     "metadata": {},
     "output_type": "display_data"
    },
    {
     "data": {
      "text/plain": [
       "RI_keep\n",
       "FALSE  TRUE \n",
       "11904   836 "
      ]
     },
     "metadata": {},
     "output_type": "display_data"
    },
    {
     "data": {
      "text/html": [
       "<style>\n",
       ".list-inline {list-style: none; margin:0; padding: 0}\n",
       ".list-inline>li {display: inline-block}\n",
       ".list-inline>li:not(:last-child)::after {content: \"\\00b7\"; padding: 0 .5ex}\n",
       "</style>\n",
       "<ol class=list-inline><li>1386</li><li>15</li></ol>\n"
      ],
      "text/latex": [
       "\\begin{enumerate*}\n",
       "\\item 1386\n",
       "\\item 15\n",
       "\\end{enumerate*}\n"
      ],
      "text/markdown": [
       "1. 1386\n",
       "2. 15\n",
       "\n",
       "\n"
      ],
      "text/plain": [
       "[1] 1386   15"
      ]
     },
     "metadata": {},
     "output_type": "display_data"
    },
    {
     "data": {
      "text/html": [
       "<style>\n",
       ".list-inline {list-style: none; margin:0; padding: 0}\n",
       ".list-inline>li {display: inline-block}\n",
       ".list-inline>li:not(:last-child)::after {content: \"\\00b7\"; padding: 0 .5ex}\n",
       "</style>\n",
       "<ol class=list-inline><li>842</li><li>15</li></ol>\n"
      ],
      "text/latex": [
       "\\begin{enumerate*}\n",
       "\\item 842\n",
       "\\item 15\n",
       "\\end{enumerate*}\n"
      ],
      "text/markdown": [
       "1. 842\n",
       "2. 15\n",
       "\n",
       "\n"
      ],
      "text/plain": [
       "[1] 842  15"
      ]
     },
     "metadata": {},
     "output_type": "display_data"
    },
    {
     "data": {
      "text/html": [
       "<style>\n",
       ".list-inline {list-style: none; margin:0; padding: 0}\n",
       ".list-inline>li {display: inline-block}\n",
       ".list-inline>li:not(:last-child)::after {content: \"\\00b7\"; padding: 0 .5ex}\n",
       "</style>\n",
       "<ol class=list-inline><li>398</li><li>15</li></ol>\n"
      ],
      "text/latex": [
       "\\begin{enumerate*}\n",
       "\\item 398\n",
       "\\item 15\n",
       "\\end{enumerate*}\n"
      ],
      "text/markdown": [
       "1. 398\n",
       "2. 15\n",
       "\n",
       "\n"
      ],
      "text/plain": [
       "[1] 398  15"
      ]
     },
     "metadata": {},
     "output_type": "display_data"
    },
    {
     "data": {
      "text/html": [
       "<style>\n",
       ".list-inline {list-style: none; margin:0; padding: 0}\n",
       ".list-inline>li {display: inline-block}\n",
       ".list-inline>li:not(:last-child)::after {content: \"\\00b7\"; padding: 0 .5ex}\n",
       "</style>\n",
       "<ol class=list-inline><li>9278</li><li>15</li></ol>\n"
      ],
      "text/latex": [
       "\\begin{enumerate*}\n",
       "\\item 9278\n",
       "\\item 15\n",
       "\\end{enumerate*}\n"
      ],
      "text/markdown": [
       "1. 9278\n",
       "2. 15\n",
       "\n",
       "\n"
      ],
      "text/plain": [
       "[1] 9278   15"
      ]
     },
     "metadata": {},
     "output_type": "display_data"
    },
    {
     "data": {
      "text/html": [
       "<style>\n",
       ".list-inline {list-style: none; margin:0; padding: 0}\n",
       ".list-inline>li {display: inline-block}\n",
       ".list-inline>li:not(:last-child)::after {content: \"\\00b7\"; padding: 0 .5ex}\n",
       "</style>\n",
       "<ol class=list-inline><li>836</li><li>15</li></ol>\n"
      ],
      "text/latex": [
       "\\begin{enumerate*}\n",
       "\\item 836\n",
       "\\item 15\n",
       "\\end{enumerate*}\n"
      ],
      "text/markdown": [
       "1. 836\n",
       "2. 15\n",
       "\n",
       "\n"
      ],
      "text/plain": [
       "[1] 836  15"
      ]
     },
     "metadata": {},
     "output_type": "display_data"
    }
   ],
   "source": [
    "A3SS_keep <- as.character(gene_as$ASE) %in% \"A3SS\"\n",
    "table(A3SS_keep)\n",
    "A3SS.gene_as <- data.frame(gene_as[A3SS_keep == TRUE,])\n",
    "\n",
    "A5SS_keep <- as.character(gene_as$ASE) %in% \"A5SS\"\n",
    "table(A5SS_keep)\n",
    "A5SS.gene_as <- data.frame(gene_as[A5SS_keep == TRUE,])\n",
    "\n",
    "MXE_keep  <- as.character(gene_as$ASE) %in% \"MXE\"\n",
    "table(MXE_keep)\n",
    "MXE.gene_as <- data.frame(gene_as[MXE_keep == TRUE,])\n",
    "\n",
    "SE_keep   <- as.character(gene_as$ASE) %in% \"SE\"\n",
    "table(SE_keep)\n",
    "SE.gene_as <- data.frame(gene_as[SE_keep == TRUE,])\n",
    "\n",
    "RI_keep   <- as.character(gene_as$ASE) %in% \"RI\"\n",
    "table(RI_keep)\n",
    "RI.gene_as <- data.frame(gene_as[RI_keep == TRUE,])\n",
    "\n",
    "dim(A3SS.gene_as)\n",
    "dim(A5SS.gene_as)\n",
    "dim(MXE.gene_as)\n",
    "dim(SE.gene_as)\n",
    "dim(RI.gene_as)\n"
   ]
  },
  {
   "cell_type": "markdown",
   "metadata": {},
   "source": [
    "### 3.8 Siginficant spliced by Gene for each splicing factor"
   ]
  },
  {
   "cell_type": "code",
   "execution_count": 43,
   "metadata": {},
   "outputs": [
    {
     "name": "stderr",
     "output_type": "stream",
     "text": [
      "Significant spliced genes for A3SS\n",
      "455 \n",
      "\n"
     ]
    },
    {
     "data": {
      "text/html": [
       "<table>\n",
       "<caption>A data.frame: 6 × 2</caption>\n",
       "<thead>\n",
       "\t<tr><th></th><th scope=col>GeneSymbol</th><th scope=col>n</th></tr>\n",
       "\t<tr><th></th><th scope=col>&lt;fct&gt;</th><th scope=col>&lt;int&gt;</th></tr>\n",
       "</thead>\n",
       "<tbody>\n",
       "\t<tr><th scope=row>1</th><td>XIST     </td><td>154</td></tr>\n",
       "\t<tr><th scope=row>2</th><td>DDX3X    </td><td> 42</td></tr>\n",
       "\t<tr><th scope=row>3</th><td>UCA1     </td><td> 22</td></tr>\n",
       "\t<tr><th scope=row>4</th><td>HAND2-AS1</td><td> 14</td></tr>\n",
       "\t<tr><th scope=row>5</th><td>STRA6    </td><td> 12</td></tr>\n",
       "\t<tr><th scope=row>6</th><td>NDRG4    </td><td> 12</td></tr>\n",
       "</tbody>\n",
       "</table>\n"
      ],
      "text/latex": [
       "A data.frame: 6 × 2\n",
       "\\begin{tabular}{r|ll}\n",
       "  & GeneSymbol & n\\\\\n",
       "  & <fct> & <int>\\\\\n",
       "\\hline\n",
       "\t1 & XIST      & 154\\\\\n",
       "\t2 & DDX3X     &  42\\\\\n",
       "\t3 & UCA1      &  22\\\\\n",
       "\t4 & HAND2-AS1 &  14\\\\\n",
       "\t5 & STRA6     &  12\\\\\n",
       "\t6 & NDRG4     &  12\\\\\n",
       "\\end{tabular}\n"
      ],
      "text/markdown": [
       "\n",
       "A data.frame: 6 × 2\n",
       "\n",
       "| <!--/--> | GeneSymbol &lt;fct&gt; | n &lt;int&gt; |\n",
       "|---|---|---|\n",
       "| 1 | XIST      | 154 |\n",
       "| 2 | DDX3X     |  42 |\n",
       "| 3 | UCA1      |  22 |\n",
       "| 4 | HAND2-AS1 |  14 |\n",
       "| 5 | STRA6     |  12 |\n",
       "| 6 | NDRG4     |  12 |\n",
       "\n"
      ],
      "text/plain": [
       "  GeneSymbol n  \n",
       "1 XIST       154\n",
       "2 DDX3X       42\n",
       "3 UCA1        22\n",
       "4 HAND2-AS1   14\n",
       "5 STRA6       12\n",
       "6 NDRG4       12"
      ]
     },
     "metadata": {},
     "output_type": "display_data"
    },
    {
     "name": "stderr",
     "output_type": "stream",
     "text": [
      "Significant spliced genes for A5SS\n",
      "329 \n",
      "\n"
     ]
    },
    {
     "data": {
      "text/html": [
       "<table>\n",
       "<caption>A data.frame: 6 × 2</caption>\n",
       "<thead>\n",
       "\t<tr><th></th><th scope=col>GeneSymbol</th><th scope=col>n</th></tr>\n",
       "\t<tr><th></th><th scope=col>&lt;fct&gt;</th><th scope=col>&lt;int&gt;</th></tr>\n",
       "</thead>\n",
       "<tbody>\n",
       "\t<tr><th scope=row>1</th><td>DDX3X    </td><td>46</td></tr>\n",
       "\t<tr><th scope=row>2</th><td>PUDP     </td><td>26</td></tr>\n",
       "\t<tr><th scope=row>3</th><td>MYB      </td><td>12</td></tr>\n",
       "\t<tr><th scope=row>4</th><td>LINC01198</td><td> 8</td></tr>\n",
       "\t<tr><th scope=row>5</th><td>FRMD5    </td><td> 8</td></tr>\n",
       "\t<tr><th scope=row>6</th><td>WDR31    </td><td> 8</td></tr>\n",
       "</tbody>\n",
       "</table>\n"
      ],
      "text/latex": [
       "A data.frame: 6 × 2\n",
       "\\begin{tabular}{r|ll}\n",
       "  & GeneSymbol & n\\\\\n",
       "  & <fct> & <int>\\\\\n",
       "\\hline\n",
       "\t1 & DDX3X     & 46\\\\\n",
       "\t2 & PUDP      & 26\\\\\n",
       "\t3 & MYB       & 12\\\\\n",
       "\t4 & LINC01198 &  8\\\\\n",
       "\t5 & FRMD5     &  8\\\\\n",
       "\t6 & WDR31     &  8\\\\\n",
       "\\end{tabular}\n"
      ],
      "text/markdown": [
       "\n",
       "A data.frame: 6 × 2\n",
       "\n",
       "| <!--/--> | GeneSymbol &lt;fct&gt; | n &lt;int&gt; |\n",
       "|---|---|---|\n",
       "| 1 | DDX3X     | 46 |\n",
       "| 2 | PUDP      | 26 |\n",
       "| 3 | MYB       | 12 |\n",
       "| 4 | LINC01198 |  8 |\n",
       "| 5 | FRMD5     |  8 |\n",
       "| 6 | WDR31     |  8 |\n",
       "\n"
      ],
      "text/plain": [
       "  GeneSymbol n \n",
       "1 DDX3X      46\n",
       "2 PUDP       26\n",
       "3 MYB        12\n",
       "4 LINC01198   8\n",
       "5 FRMD5       8\n",
       "6 WDR31       8"
      ]
     },
     "metadata": {},
     "output_type": "display_data"
    },
    {
     "name": "stderr",
     "output_type": "stream",
     "text": [
      "Significant spliced genes for MXE\n",
      "125 \n",
      "\n"
     ]
    },
    {
     "data": {
      "text/html": [
       "<table>\n",
       "<caption>A data.frame: 6 × 2</caption>\n",
       "<thead>\n",
       "\t<tr><th></th><th scope=col>GeneSymbol</th><th scope=col>n</th></tr>\n",
       "\t<tr><th></th><th scope=col>&lt;fct&gt;</th><th scope=col>&lt;int&gt;</th></tr>\n",
       "</thead>\n",
       "<tbody>\n",
       "\t<tr><th scope=row>1</th><td>XIST   </td><td>44</td></tr>\n",
       "\t<tr><th scope=row>2</th><td>DDX3X  </td><td>14</td></tr>\n",
       "\t<tr><th scope=row>3</th><td>SORBS2 </td><td>10</td></tr>\n",
       "\t<tr><th scope=row>4</th><td>AMT    </td><td> 8</td></tr>\n",
       "\t<tr><th scope=row>5</th><td>ACSL6  </td><td> 8</td></tr>\n",
       "\t<tr><th scope=row>6</th><td>CACNA1D</td><td> 6</td></tr>\n",
       "</tbody>\n",
       "</table>\n"
      ],
      "text/latex": [
       "A data.frame: 6 × 2\n",
       "\\begin{tabular}{r|ll}\n",
       "  & GeneSymbol & n\\\\\n",
       "  & <fct> & <int>\\\\\n",
       "\\hline\n",
       "\t1 & XIST    & 44\\\\\n",
       "\t2 & DDX3X   & 14\\\\\n",
       "\t3 & SORBS2  & 10\\\\\n",
       "\t4 & AMT     &  8\\\\\n",
       "\t5 & ACSL6   &  8\\\\\n",
       "\t6 & CACNA1D &  6\\\\\n",
       "\\end{tabular}\n"
      ],
      "text/markdown": [
       "\n",
       "A data.frame: 6 × 2\n",
       "\n",
       "| <!--/--> | GeneSymbol &lt;fct&gt; | n &lt;int&gt; |\n",
       "|---|---|---|\n",
       "| 1 | XIST    | 44 |\n",
       "| 2 | DDX3X   | 14 |\n",
       "| 3 | SORBS2  | 10 |\n",
       "| 4 | AMT     |  8 |\n",
       "| 5 | ACSL6   |  8 |\n",
       "| 6 | CACNA1D |  6 |\n",
       "\n"
      ],
      "text/plain": [
       "  GeneSymbol n \n",
       "1 XIST       44\n",
       "2 DDX3X      14\n",
       "3 SORBS2     10\n",
       "4 AMT         8\n",
       "5 ACSL6       8\n",
       "6 CACNA1D     6"
      ]
     },
     "metadata": {},
     "output_type": "display_data"
    },
    {
     "name": "stderr",
     "output_type": "stream",
     "text": [
      "Significant spliced genes for RI\n",
      "327 \n",
      "\n"
     ]
    },
    {
     "data": {
      "text/html": [
       "<table>\n",
       "<caption>A data.frame: 6 × 2</caption>\n",
       "<thead>\n",
       "\t<tr><th></th><th scope=col>GeneSymbol</th><th scope=col>n</th></tr>\n",
       "\t<tr><th></th><th scope=col>&lt;fct&gt;</th><th scope=col>&lt;int&gt;</th></tr>\n",
       "</thead>\n",
       "<tbody>\n",
       "\t<tr><th scope=row>1</th><td>DDX3X </td><td>28</td></tr>\n",
       "\t<tr><th scope=row>2</th><td>NLRP2 </td><td> 8</td></tr>\n",
       "\t<tr><th scope=row>3</th><td>UCA1  </td><td> 8</td></tr>\n",
       "\t<tr><th scope=row>4</th><td>PLCXD1</td><td> 8</td></tr>\n",
       "\t<tr><th scope=row>5</th><td>CELSR2</td><td> 8</td></tr>\n",
       "\t<tr><th scope=row>6</th><td>MYH14 </td><td> 8</td></tr>\n",
       "</tbody>\n",
       "</table>\n"
      ],
      "text/latex": [
       "A data.frame: 6 × 2\n",
       "\\begin{tabular}{r|ll}\n",
       "  & GeneSymbol & n\\\\\n",
       "  & <fct> & <int>\\\\\n",
       "\\hline\n",
       "\t1 & DDX3X  & 28\\\\\n",
       "\t2 & NLRP2  &  8\\\\\n",
       "\t3 & UCA1   &  8\\\\\n",
       "\t4 & PLCXD1 &  8\\\\\n",
       "\t5 & CELSR2 &  8\\\\\n",
       "\t6 & MYH14  &  8\\\\\n",
       "\\end{tabular}\n"
      ],
      "text/markdown": [
       "\n",
       "A data.frame: 6 × 2\n",
       "\n",
       "| <!--/--> | GeneSymbol &lt;fct&gt; | n &lt;int&gt; |\n",
       "|---|---|---|\n",
       "| 1 | DDX3X  | 28 |\n",
       "| 2 | NLRP2  |  8 |\n",
       "| 3 | UCA1   |  8 |\n",
       "| 4 | PLCXD1 |  8 |\n",
       "| 5 | CELSR2 |  8 |\n",
       "| 6 | MYH14  |  8 |\n",
       "\n"
      ],
      "text/plain": [
       "  GeneSymbol n \n",
       "1 DDX3X      28\n",
       "2 NLRP2       8\n",
       "3 UCA1        8\n",
       "4 PLCXD1      8\n",
       "5 CELSR2      8\n",
       "6 MYH14       8"
      ]
     },
     "metadata": {},
     "output_type": "display_data"
    },
    {
     "name": "stderr",
     "output_type": "stream",
     "text": [
      "Significant spliced genes for SE\n",
      "2361 \n",
      "\n"
     ]
    },
    {
     "data": {
      "text/html": [
       "<table>\n",
       "<caption>A data.frame: 6 × 2</caption>\n",
       "<thead>\n",
       "\t<tr><th></th><th scope=col>GeneSymbol</th><th scope=col>n</th></tr>\n",
       "\t<tr><th></th><th scope=col>&lt;fct&gt;</th><th scope=col>&lt;int&gt;</th></tr>\n",
       "</thead>\n",
       "<tbody>\n",
       "\t<tr><th scope=row>1</th><td>XIST </td><td>486</td></tr>\n",
       "\t<tr><th scope=row>2</th><td>KDM5C</td><td> 94</td></tr>\n",
       "\t<tr><th scope=row>3</th><td>ZFX  </td><td> 94</td></tr>\n",
       "\t<tr><th scope=row>4</th><td>DDX3X</td><td> 64</td></tr>\n",
       "\t<tr><th scope=row>5</th><td>KDM6A</td><td> 48</td></tr>\n",
       "\t<tr><th scope=row>6</th><td>CES1 </td><td> 36</td></tr>\n",
       "</tbody>\n",
       "</table>\n"
      ],
      "text/latex": [
       "A data.frame: 6 × 2\n",
       "\\begin{tabular}{r|ll}\n",
       "  & GeneSymbol & n\\\\\n",
       "  & <fct> & <int>\\\\\n",
       "\\hline\n",
       "\t1 & XIST  & 486\\\\\n",
       "\t2 & KDM5C &  94\\\\\n",
       "\t3 & ZFX   &  94\\\\\n",
       "\t4 & DDX3X &  64\\\\\n",
       "\t5 & KDM6A &  48\\\\\n",
       "\t6 & CES1  &  36\\\\\n",
       "\\end{tabular}\n"
      ],
      "text/markdown": [
       "\n",
       "A data.frame: 6 × 2\n",
       "\n",
       "| <!--/--> | GeneSymbol &lt;fct&gt; | n &lt;int&gt; |\n",
       "|---|---|---|\n",
       "| 1 | XIST  | 486 |\n",
       "| 2 | KDM5C |  94 |\n",
       "| 3 | ZFX   |  94 |\n",
       "| 4 | DDX3X |  64 |\n",
       "| 5 | KDM6A |  48 |\n",
       "| 6 | CES1  |  36 |\n",
       "\n"
      ],
      "text/plain": [
       "  GeneSymbol n  \n",
       "1 XIST       486\n",
       "2 KDM5C       94\n",
       "3 ZFX         94\n",
       "4 DDX3X       64\n",
       "5 KDM6A       48\n",
       "6 CES1        36"
      ]
     },
     "metadata": {},
     "output_type": "display_data"
    }
   ],
   "source": [
    "A3SS.res <- A3SS.gene_as %>% group_by(GeneSymbol) %>% count(GeneSymbol) %>% arrange(desc(n)) %>% as.data.frame()\n",
    "A3SS.res$GeneSymbol <- factor(A3SS.res$GeneSymbol, levels = A3SS.res$GeneSymbol)\n",
    "message(\"Significant spliced genes for A3SS\\n\",\n",
    "        paste(length(A3SS.res$GeneSymbol)), collapse=\" \")\n",
    "head(A3SS.res)\n",
    "\n",
    "A5SS.res <- A5SS.gene_as %>% group_by(GeneSymbol) %>% count(GeneSymbol) %>% arrange(desc(n)) %>% as.data.frame()\n",
    "A5SS.res$GeneSymbol <- factor(A5SS.res$GeneSymbol, levels = A5SS.res$GeneSymbol)\n",
    "message(\"Significant spliced genes for A5SS\\n\",\n",
    "        paste(length(A5SS.res$GeneSymbol)), collapse=\" \")\n",
    "head(A5SS.res)\n",
    "\n",
    "MXE.res <- MXE.gene_as %>% group_by(GeneSymbol) %>% count(GeneSymbol) %>% arrange(desc(n)) %>% as.data.frame()\n",
    "MXE.res$GeneSymbol <- factor(MXE.res$GeneSymbol, levels = MXE.res$GeneSymbol)\n",
    "message(\"Significant spliced genes for MXE\\n\",\n",
    "        paste(length(MXE.res$GeneSymbol)), collapse=\" \")\n",
    "head(MXE.res)\n",
    "\n",
    "RI.res <- RI.gene_as %>% group_by(GeneSymbol) %>% count(GeneSymbol) %>% arrange(desc(n)) %>% as.data.frame()\n",
    "RI.res$GeneSymbol <- factor(RI.res$GeneSymbol, levels = RI.res$GeneSymbol)\n",
    "message(\"Significant spliced genes for RI\\n\",\n",
    "        paste(length(RI.res$GeneSymbol)), collapse=\" \")\n",
    "head(RI.res)\n",
    "\n",
    "SE.res <- SE.gene_as %>% group_by(GeneSymbol) %>% count(GeneSymbol) %>% arrange(desc(n)) %>% as.data.frame()\n",
    "SE.res$GeneSymbol <- factor(SE.res$GeneSymbol, levels = SE.res$GeneSymbol)\n",
    "message(\"Significant spliced genes for SE\\n\",\n",
    "        paste(length(SE.res$GeneSymbol)), collapse=\" \")\n",
    "head(SE.res)"
   ]
  },
  {
   "cell_type": "markdown",
   "metadata": {},
   "source": [
    "### 3.9 Count most frequent spliced genes"
   ]
  },
  {
   "cell_type": "code",
   "execution_count": 44,
   "metadata": {},
   "outputs": [
    {
     "data": {
      "text/html": [
       "2887"
      ],
      "text/latex": [
       "2887"
      ],
      "text/markdown": [
       "2887"
      ],
      "text/plain": [
       "[1] 2887"
      ]
     },
     "metadata": {},
     "output_type": "display_data"
    },
    {
     "data": {
      "text/html": [
       "<table>\n",
       "<caption>A data.frame: 6 × 3</caption>\n",
       "<thead>\n",
       "\t<tr><th></th><th scope=col>GeneSymbol</th><th scope=col>n</th><th scope=col>Tissues</th></tr>\n",
       "\t<tr><th></th><th scope=col>&lt;fct&gt;</th><th scope=col>&lt;int&gt;</th><th scope=col>&lt;int&gt;</th></tr>\n",
       "</thead>\n",
       "<tbody>\n",
       "\t<tr><th scope=row>1</th><td>XIST </td><td>684</td><td>39</td></tr>\n",
       "\t<tr><th scope=row>2</th><td>DDX3X</td><td>194</td><td>20</td></tr>\n",
       "\t<tr><th scope=row>3</th><td>KDM5C</td><td> 94</td><td>33</td></tr>\n",
       "\t<tr><th scope=row>4</th><td>ZFX  </td><td> 94</td><td>27</td></tr>\n",
       "\t<tr><th scope=row>5</th><td>KDM6A</td><td> 54</td><td>24</td></tr>\n",
       "\t<tr><th scope=row>6</th><td>UCA1 </td><td> 50</td><td> 1</td></tr>\n",
       "</tbody>\n",
       "</table>\n"
      ],
      "text/latex": [
       "A data.frame: 6 × 3\n",
       "\\begin{tabular}{r|lll}\n",
       "  & GeneSymbol & n & Tissues\\\\\n",
       "  & <fct> & <int> & <int>\\\\\n",
       "\\hline\n",
       "\t1 & XIST  & 684 & 39\\\\\n",
       "\t2 & DDX3X & 194 & 20\\\\\n",
       "\t3 & KDM5C &  94 & 33\\\\\n",
       "\t4 & ZFX   &  94 & 27\\\\\n",
       "\t5 & KDM6A &  54 & 24\\\\\n",
       "\t6 & UCA1  &  50 &  1\\\\\n",
       "\\end{tabular}\n"
      ],
      "text/markdown": [
       "\n",
       "A data.frame: 6 × 3\n",
       "\n",
       "| <!--/--> | GeneSymbol &lt;fct&gt; | n &lt;int&gt; | Tissues &lt;int&gt; |\n",
       "|---|---|---|---|\n",
       "| 1 | XIST  | 684 | 39 |\n",
       "| 2 | DDX3X | 194 | 20 |\n",
       "| 3 | KDM5C |  94 | 33 |\n",
       "| 4 | ZFX   |  94 | 27 |\n",
       "| 5 | KDM6A |  54 | 24 |\n",
       "| 6 | UCA1  |  50 |  1 |\n",
       "\n"
      ],
      "text/plain": [
       "  GeneSymbol n   Tissues\n",
       "1 XIST       684 39     \n",
       "2 DDX3X      194 20     \n",
       "3 KDM5C       94 33     \n",
       "4 ZFX         94 27     \n",
       "5 KDM6A       54 24     \n",
       "6 UCA1        50  1     "
      ]
     },
     "metadata": {},
     "output_type": "display_data"
    }
   ],
   "source": [
    "res <- gene_as %>% group_by(GeneSymbol) %>% count(GeneSymbol) %>% arrange(desc(n)) %>% as.data.frame()\n",
    "res$GeneSymbol <- factor(res$GeneSymbol, levels = res$GeneSymbol)\n",
    "length(res$GeneSymbol)\n",
    "res2 <- data %>% group_by(Tissue) %>% \n",
    "    summarise(Total = sum(Counts)) %>%\n",
    "    arrange(desc(Total)) %>%\n",
    "    as.data.frame()\n",
    "\n",
    "#Add number of tissues\n",
    "nTissues <- rep(NA, length(res))\n",
    "for (i in 1:nrow(res)) {\n",
    "  df_gene <- gene_as %>% filter(GeneSymbol == res$GeneSymbol[i])\n",
    "  nTissues[i] <- length(unique(df_gene$Tissue))\n",
    "}\n",
    "res$Tissues <- nTissues\n",
    "head(res)\n",
    "write.table(res, file = \"../data/genesWithCommonAS.tsv\", sep = \"\\t\", quote = F, row.names = F)"
   ]
  },
  {
   "cell_type": "markdown",
   "metadata": {},
   "source": [
    "### 3.10 Count most frequent spliced chromosomes\n",
    "To get an indication of which chromosome has the most frequent slicing event (regardless of type)\n",
    "We create an index based upon the number of exons per chromosome.\n",
    "\n",
    "get the annotation file, at this writing, gencode.v30.annotation.gtf\n",
    "The information as to the number of exons within the chromosome may be found there"
   ]
  },
  {
   "cell_type": "code",
   "execution_count": 45,
   "metadata": {},
   "outputs": [
    {
     "name": "stderr",
     "output_type": "stream",
     "text": [
      "downloading gencode v30 annotation\n",
      "\n",
      "\n",
      "Done!\n",
      "\n",
      "\n",
      "Unzipping compressed file gencode.v30.annotation.gtf.gz..\n",
      "\n",
      "Done! gencode.v30.annotation.gtf can be found in ../data/\n",
      "\n"
     ]
    }
   ],
   "source": [
    "if (!(\"gencode.v30.annotation.gtf.gz\" %in% list.files(\"../data/\"))) {\n",
    "    message(\"downloading gencode v30 annotation\\n\")\n",
    "    system(\"wget -O ../data/gencode.v30.annotation.gtf.gz ftp://ftp.ebi.ac.uk/pub/databases/gencode/Gencode_human/release_30/gencode.v30.annotation.gtf.gz\")\n",
    "    message(\"Done!\\n\")\n",
    "    message(\"Unzipping compressed file gencode.v30.annotation.gtf.gz..\")\n",
    "    system(\"gunzip ../data/gencode.v30.annotation.gtf.gz\", intern = TRUE)\n",
    "    message(\"Done! gencode.v30.annotation.gtf can be found in ../data/\")\n",
    "}\n",
    "gencode <- import(\"../data/gencode.v30.annotation.gtf\")"
   ]
  },
  {
   "cell_type": "code",
   "execution_count": 46,
   "metadata": {},
   "outputs": [
    {
     "name": "stdout",
     "output_type": "stream",
     "text": [
      "Observations: 23\n",
      "Variables: 4\n",
      "$ chr        \u001b[3m\u001b[90m<fct>\u001b[39m\u001b[23m chrX, chr22, chr19, chr4, chr1, chr16, chr11, chr15, chr17…\n",
      "$ n          \u001b[3m\u001b[90m<int>\u001b[39m\u001b[23m 1566, 342, 884, 584, 1272, 626, 748, 450, 726, 668, 736, 4…\n",
      "$ ExonCounts \u001b[3m\u001b[90m<dbl>\u001b[39m\u001b[23m 40029, 28655, 74466, 50420, 118996, 61199, 75976, 47343, 7…\n",
      "$ Index      \u001b[3m\u001b[90m<dbl>\u001b[39m\u001b[23m 39.121637, 11.935090, 11.871190, 11.582705, 10.689435, 10.…\n"
     ]
    }
   ],
   "source": [
    "exons <- gencode[ gencode$type == \"exon\", ]\n",
    "exons <- as.data.frame(exons)\n",
    "\n",
    "#Obtain chromosomes we have splicing information for (recall we did not use chr Y in our analysis)\n",
    "all_chr <- as.character(unique(gene_as$chr))\n",
    "chr_counts <- rep(0, length(all_chr))\n",
    "\n",
    "\n",
    "for (i in 1:length(all_chr)) {\n",
    "  chr_counts[i] <- nrow(exons[exons$seqnames == all_chr[i], ])\n",
    "}\n",
    "\n",
    "exon_counts <- data.frame(chr = all_chr, counts = chr_counts)\n",
    "\n",
    "# Count most frequent spliced chromosomes\n",
    "res <- gene_as %>% group_by(chr) %>% count(chr) %>% arrange(desc(n)) %>% as.data.frame()\n",
    "res$chr <- factor(res$chr, levels = res$chr)\n",
    "\n",
    "idx <- match(res$chr, exon_counts$chr)\n",
    "\n",
    "res$ExonCounts <- exon_counts$counts[idx]\n",
    "\n",
    "res$Index <- (res$n / res$ExonCounts) * 1000\n",
    "\n",
    "res_sorted <- res %>% arrange(desc(Index))\n",
    "res_sorted$chr <- factor(res_sorted$chr, levels = res_sorted$chr)\n",
    "glimpse(res_sorted)"
   ]
  },
  {
   "cell_type": "code",
   "execution_count": 47,
   "metadata": {},
   "outputs": [],
   "source": [
    "write.table(data,       file = \"../data/Significant_AS_events.tsv\", sep = \"\\t\", row.names = F, quote = F)\n",
    "write.table(res_sorted, file = \"../data/SplicingIndex_chr.tsv\", sep = \"\\t\", quote = F, row.names = F)"
   ]
  },
  {
   "cell_type": "markdown",
   "metadata": {},
   "source": [
    "### 3.11 gene_dge.tsv\n",
    "\n",
    "Single data structure for all the DGE results\n",
    "\n",
    "The files called (tissue)\\_DGE\\_refined.csv contain lists of genes found to have statistically significant differential expression.\n",
    "The mapping files contain the ENSG id to gene symbol maps."
   ]
  },
  {
   "cell_type": "code",
   "execution_count": 48,
   "metadata": {},
   "outputs": [
    {
     "name": "stderr",
     "output_type": "stream",
     "text": [
      "We got 39 files with significant DGEs and 39 mapping files\n",
      "\n"
     ]
    }
   ],
   "source": [
    "significant_results_dir = \"../data/\"\n",
    "pattern = \"_DGE_refined.csv\"\n",
    "files <- list.files(path = significant_results_dir, pattern = pattern)\n",
    "map_pattern <- \"_DGE_ensg_map.csv\"\n",
    "map_files <- list.files(path = significant_results_dir, pattern = map_pattern)\n",
    "message(\"We got \", length(files), \" files with significant DGEs and \", length(map_files), \" mapping files\")"
   ]
  },
  {
   "cell_type": "code",
   "execution_count": 49,
   "metadata": {},
   "outputs": [],
   "source": [
    "gene_dge = data.frame()\n",
    "counts <- rep(NA, length(files))"
   ]
  },
  {
   "cell_type": "code",
   "execution_count": 50,
   "metadata": {},
   "outputs": [
    {
     "name": "stderr",
     "output_type": "stream",
     "text": [
      "We extracted a total of 12633 significant differential gene events (gene_dge)\n",
      "\n",
      "This includes 7417 total genes\n",
      "\n"
     ]
    }
   ],
   "source": [
    "for (i in 1:length(files)) {\n",
    "   lines  <- read.table(file=paste0(significant_results_dir, files[i]), \n",
    "                                     header = TRUE, sep = \",\", quote = \"\\\"'\", skipNul = FALSE)\n",
    "    if (dim(lines)[1] > 0) {\n",
    "         tissue1    <- gsub(pattern,\"\", files[i], fixed = TRUE)\n",
    "         map_lines  <- read.table(file=paste0(paste0(significant_results_dir, tissue1),map_pattern),\n",
    "                                     header = TRUE, sep = \",\", quote = \"\\\"'\", skipNul = FALSE)\n",
    "         counts[i]  <- dim(lines)[1]    \n",
    "         tissue1    <- gsub(pattern,\"\", files[i], fixed = TRUE)\n",
    "         map_lines  <- read.table(file=paste0(paste0(significant_results_dir, tissue1),map_pattern),\n",
    "                                     header = TRUE, sep = \",\", quote = \"\\\"'\", skipNul = FALSE)\n",
    "         ensg_ver   <- as.vector(as.character(rownames(lines)))\n",
    "         ensg_no_ver<- as.vector(as.character(map_lines$ensg_names))\n",
    "         ensg_genes <- as.vector(as.character(map_lines$ensg_genes))\n",
    "         counts[i]  <- dim(lines)[1]  \n",
    "         res <- data.frame(Tissue       <- tissue1,\n",
    "                           ENSG_ver     <- ensg_ver,\n",
    "                           ENSG_no_ver  <- ensg_no_ver,\n",
    "                           GeneSymbol   <- ensg_genes,\n",
    "                           counts       <- counts[i],\n",
    "                           Display      <- tissue_reduction[tissue_reduction$SMTSD == tissue1, \"display_name\"],\n",
    "                           logFC        <- lines$logFC,\n",
    "                           AveExpr      <- lines$AveExpr,\n",
    "                           t            <- lines$t,\n",
    "                           PValue       <- lines$P.Value,\n",
    "                           AdjPVal      <- lines$adj.P.Val,\n",
    "                           B            <- lines$B)\n",
    "         colnames(res) <- c(\"Tissue\",\"ENSG_ver\",\"ENSG_no_ver\",\"GeneSymbol\",\"counts\",\"Display\",\n",
    "                            \"logFC\",\"AveExpr\",\"t\",\"PValue\",\"AdjPVal\",\"B\")\n",
    "         gene_dge <- rbind(gene_dge, res)\n",
    "    } #if has sig. events\n",
    "} #for all files\n",
    "colnames(gene_dge) <- c(\"Tissue\",\"ENSG_ver\",\"ENSG_no_ver\",\"GeneSymbol\",\"counts\",\"Display\",\n",
    "                        \"logFC\",\"AveExpr\",\"t\",\"PValue\",\"AdjPVal\",\"B\")\n",
    "n_unique_genes <- length(summary(as.factor(gene_dge$GeneSymbol),maxsum=50000))\n",
    "message(\"We extracted a total of \",nrow(gene_dge),\" significant differential gene events (gene_dge)\")\n",
    "message(\"This includes \", n_unique_genes, \" total genes\")"
   ]
  },
  {
   "cell_type": "code",
   "execution_count": 51,
   "metadata": {},
   "outputs": [],
   "source": [
    "write.table(gene_dge, \"../data/gene_dge.tsv\", quote=FALSE, sep=\"\\t\")"
   ]
  },
  {
   "cell_type": "markdown",
   "metadata": {},
   "source": [
    "### Appendix - Metadata\n",
    "\n",
    "For replicability and reproducibility purposes, we also print the following metadata:\n",
    "\n",
    "1. Checksums of **'artefacts'**, files generated during the analysis and stored in the folder directory **`data`**\n",
    "2. List of environment metadata, dependencies, versions of libraries using `utils::sessionInfo()` and [`devtools::session_info()`](https://devtools.r-lib.org/reference/session_info.html)"
   ]
  },
  {
   "cell_type": "markdown",
   "metadata": {},
   "source": [
    "### Appendix 1. Checksums with the sha256 algorithm"
   ]
  },
  {
   "cell_type": "code",
   "execution_count": 52,
   "metadata": {},
   "outputs": [
    {
     "name": "stderr",
     "output_type": "stream",
     "text": [
      "Warning message in rm(notebookid):\n",
      "“object 'notebookid' not found”\n"
     ]
    },
    {
     "data": {
      "text/html": [
       "'countGenesAndEvents'"
      ],
      "text/latex": [
       "'countGenesAndEvents'"
      ],
      "text/markdown": [
       "'countGenesAndEvents'"
      ],
      "text/plain": [
       "[1] \"countGenesAndEvents\""
      ]
     },
     "metadata": {},
     "output_type": "display_data"
    },
    {
     "name": "stderr",
     "output_type": "stream",
     "text": [
      "Generating sha256 checksums of the file `../data/Total_AS_by_tissue.tsv` directory .. \n",
      "\n"
     ]
    },
    {
     "data": {
      "text/html": [],
      "text/latex": [],
      "text/markdown": [],
      "text/plain": [
       "character(0)"
      ]
     },
     "metadata": {},
     "output_type": "display_data"
    },
    {
     "name": "stderr",
     "output_type": "stream",
     "text": [
      "Done!\n",
      "\n",
      "\n",
      "Generating sha256 checksums of the file `../data/Significant_events.tsv` directory .. \n",
      "\n"
     ]
    },
    {
     "data": {
      "text/html": [],
      "text/latex": [],
      "text/markdown": [],
      "text/plain": [
       "character(0)"
      ]
     },
     "metadata": {},
     "output_type": "display_data"
    },
    {
     "name": "stderr",
     "output_type": "stream",
     "text": [
      "Done!\n",
      "\n",
      "\n",
      "Generating sha256 checksums of the file `../data/Significant_events.tsv` directory .. \n",
      "\n"
     ]
    },
    {
     "data": {
      "text/html": [],
      "text/latex": [],
      "text/markdown": [],
      "text/plain": [
       "character(0)"
      ]
     },
     "metadata": {},
     "output_type": "display_data"
    },
    {
     "name": "stderr",
     "output_type": "stream",
     "text": [
      "Done!\n",
      "\n",
      "\n"
     ]
    },
    {
     "data": {
      "text/html": [
       "'../metadata/countGenesAndEvents_sha256sums.txt'"
      ],
      "text/latex": [
       "'../metadata/countGenesAndEvents\\_sha256sums.txt'"
      ],
      "text/markdown": [
       "'../metadata/countGenesAndEvents_sha256sums.txt'"
      ],
      "text/plain": [
       "[1] \"../metadata/countGenesAndEvents_sha256sums.txt\""
      ]
     },
     "metadata": {},
     "output_type": "display_data"
    },
    {
     "data": {
      "text/html": [
       "<table>\n",
       "<caption>A data.table: 1 × 2</caption>\n",
       "<thead>\n",
       "\t<tr><th scope=col>sha256sum</th><th scope=col>file</th></tr>\n",
       "\t<tr><th scope=col>&lt;chr&gt;</th><th scope=col>&lt;chr&gt;</th></tr>\n",
       "</thead>\n",
       "<tbody>\n",
       "\t<tr><td>3fc39e8757ee71d9314c4e8d860a2b89d1cd38737eabbbf6e31ab5c45f635930</td><td>./SplicingIndex_chr.tsv</td></tr>\n",
       "</tbody>\n",
       "</table>\n"
      ],
      "text/latex": [
       "A data.table: 1 × 2\n",
       "\\begin{tabular}{ll}\n",
       " sha256sum & file\\\\\n",
       " <chr> & <chr>\\\\\n",
       "\\hline\n",
       "\t 3fc39e8757ee71d9314c4e8d860a2b89d1cd38737eabbbf6e31ab5c45f635930 & ./SplicingIndex\\_chr.tsv\\\\\n",
       "\\end{tabular}\n"
      ],
      "text/markdown": [
       "\n",
       "A data.table: 1 × 2\n",
       "\n",
       "| sha256sum &lt;chr&gt; | file &lt;chr&gt; |\n",
       "|---|---|\n",
       "| 3fc39e8757ee71d9314c4e8d860a2b89d1cd38737eabbbf6e31ab5c45f635930 | ./SplicingIndex_chr.tsv |\n",
       "\n"
      ],
      "text/plain": [
       "  sha256sum                                                       \n",
       "1 3fc39e8757ee71d9314c4e8d860a2b89d1cd38737eabbbf6e31ab5c45f635930\n",
       "  file                   \n",
       "1 ./SplicingIndex_chr.tsv"
      ]
     },
     "metadata": {},
     "output_type": "display_data"
    }
   ],
   "source": [
    "rm (notebookid)\n",
    "notebookid   = \"countGenesAndEvents\"\n",
    "notebookid\n",
    "\n",
    "message(\"Generating sha256 checksums of the file `../data/Total_AS_by_tissue.tsv` directory .. \")\n",
    "system(paste0(\"cd ../data && find . -name SplicingIndex_chr.tsv -exec sha256sum {} \\\\;  >  ../metadata/\", notebookid, \"_sha256sums.txt\"), intern = TRUE)\n",
    "message(\"Done!\\n\")\n",
    "\n",
    "message(\"Generating sha256 checksums of the file `../data/Significant_events.tsv` directory .. \")\n",
    "system(paste0(\"cd ../data && find . -name SplicingIndex_chr.tsv -exec sha256sum {} \\\\;  >  ../metadata/\", notebookid, \"_sha256sums.txt\"), intern = TRUE)\n",
    "message(\"Done!\\n\")\n",
    "\n",
    "message(\"Generating sha256 checksums of the file `../data/Significant_events.tsv` directory .. \")\n",
    "system(paste0(\"cd ../data && find . -name SplicingIndex_chr.tsv -exec sha256sum {} \\\\;  >  ../metadata/\", notebookid, \"_sha256sums.txt\"), intern = TRUE)\n",
    "message(\"Done!\\n\")\n",
    "\n",
    "\n",
    "paste0(\"../metadata/\", notebookid, \"_sha256sums.txt\")\n",
    "\n",
    "data.table::fread(paste0(\"../metadata/\", notebookid, \"_sha256sums.txt\"), header = FALSE, col.names = c(\"sha256sum\", \"file\"))"
   ]
  },
  {
   "cell_type": "markdown",
   "metadata": {},
   "source": [
    "### Appendix 2. Libraries metadata"
   ]
  },
  {
   "cell_type": "code",
   "execution_count": 53,
   "metadata": {},
   "outputs": [
    {
     "name": "stderr",
     "output_type": "stream",
     "text": [
      "Saving `devtools::session_info()` objects in ../metadata/devtools_session_info.rds  ..\n",
      "\n",
      "Done!\n",
      "\n",
      "\n",
      "Saving `utils::sessionInfo()` objects in ../metadata/utils_session_info.rds  ..\n",
      "\n",
      "Done!\n",
      "\n",
      "\n"
     ]
    },
    {
     "data": {
      "text/plain": [
       " setting  value                       \n",
       " version  R version 3.6.2 (2019-12-12)\n",
       " os       Ubuntu 18.04.3 LTS          \n",
       " system   x86_64, linux-gnu           \n",
       " ui       X11                         \n",
       " language en_US.UTF-8                 \n",
       " collate  en_US.UTF-8                 \n",
       " ctype    en_US.UTF-8                 \n",
       " tz       Etc/UTC                     \n",
       " date     2020-06-18                  "
      ]
     },
     "metadata": {},
     "output_type": "display_data"
    },
    {
     "data": {
      "text/html": [
       "<table>\n",
       "<caption>A packages_info: 16 × 11</caption>\n",
       "<thead>\n",
       "\t<tr><th></th><th scope=col>package</th><th scope=col>ondiskversion</th><th scope=col>loadedversion</th><th scope=col>path</th><th scope=col>loadedpath</th><th scope=col>attached</th><th scope=col>is_base</th><th scope=col>date</th><th scope=col>source</th><th scope=col>md5ok</th><th scope=col>library</th></tr>\n",
       "\t<tr><th></th><th scope=col>&lt;chr&gt;</th><th scope=col>&lt;chr&gt;</th><th scope=col>&lt;chr&gt;</th><th scope=col>&lt;chr&gt;</th><th scope=col>&lt;chr&gt;</th><th scope=col>&lt;lgl&gt;</th><th scope=col>&lt;lgl&gt;</th><th scope=col>&lt;chr&gt;</th><th scope=col>&lt;chr&gt;</th><th scope=col>&lt;lgl&gt;</th><th scope=col>&lt;fct&gt;</th></tr>\n",
       "</thead>\n",
       "<tbody>\n",
       "\t<tr><th scope=row>Biobase</th><td>Biobase      </td><td>2.46.0</td><td>2.46.0</td><td>/opt/conda/lib/R/library/Biobase      </td><td>/opt/conda/lib/R/library/Biobase      </td><td>TRUE</td><td>FALSE</td><td>2019-10-29</td><td>Bioconductor  </td><td>NA</td><td>/opt/conda/lib/R/library</td></tr>\n",
       "\t<tr><th scope=row>BiocGenerics</th><td>BiocGenerics </td><td>0.32.0</td><td>0.32.0</td><td>/opt/conda/lib/R/library/BiocGenerics </td><td>/opt/conda/lib/R/library/BiocGenerics </td><td>TRUE</td><td>FALSE</td><td>2019-10-29</td><td>Bioconductor  </td><td>NA</td><td>/opt/conda/lib/R/library</td></tr>\n",
       "\t<tr><th scope=row>dplyr</th><td>dplyr        </td><td>0.8.4 </td><td>0.8.4 </td><td>/opt/conda/lib/R/library/dplyr        </td><td>/opt/conda/lib/R/library/dplyr        </td><td>TRUE</td><td>FALSE</td><td>2020-01-31</td><td>CRAN (R 3.6.2)</td><td>NA</td><td>/opt/conda/lib/R/library</td></tr>\n",
       "\t<tr><th scope=row>edgeR</th><td>edgeR        </td><td>3.28.0</td><td>3.28.0</td><td>/opt/conda/lib/R/library/edgeR        </td><td>/opt/conda/lib/R/library/edgeR        </td><td>TRUE</td><td>FALSE</td><td>2019-10-29</td><td>Bioconductor  </td><td>NA</td><td>/opt/conda/lib/R/library</td></tr>\n",
       "\t<tr><th scope=row>GenomeInfoDb</th><td>GenomeInfoDb </td><td>1.22.0</td><td>1.22.0</td><td>/opt/conda/lib/R/library/GenomeInfoDb </td><td>/opt/conda/lib/R/library/GenomeInfoDb </td><td>TRUE</td><td>FALSE</td><td>2019-10-29</td><td>Bioconductor  </td><td>NA</td><td>/opt/conda/lib/R/library</td></tr>\n",
       "\t<tr><th scope=row>GenomicRanges</th><td>GenomicRanges</td><td>1.38.0</td><td>1.38.0</td><td>/opt/conda/lib/R/library/GenomicRanges</td><td>/opt/conda/lib/R/library/GenomicRanges</td><td>TRUE</td><td>FALSE</td><td>2019-10-29</td><td>Bioconductor  </td><td>NA</td><td>/opt/conda/lib/R/library</td></tr>\n",
       "\t<tr><th scope=row>ggplot2</th><td>ggplot2      </td><td>3.2.1 </td><td>3.2.1 </td><td>/opt/conda/lib/R/library/ggplot2      </td><td>/opt/conda/lib/R/library/ggplot2      </td><td>TRUE</td><td>FALSE</td><td>2019-08-10</td><td>CRAN (R 3.6.1)</td><td>NA</td><td>/opt/conda/lib/R/library</td></tr>\n",
       "\t<tr><th scope=row>IRanges</th><td>IRanges      </td><td>2.20.0</td><td>2.20.0</td><td>/opt/conda/lib/R/library/IRanges      </td><td>/opt/conda/lib/R/library/IRanges      </td><td>TRUE</td><td>FALSE</td><td>2019-10-29</td><td>Bioconductor  </td><td>NA</td><td>/opt/conda/lib/R/library</td></tr>\n",
       "\t<tr><th scope=row>limma</th><td>limma        </td><td>3.42.0</td><td>3.42.0</td><td>/opt/conda/lib/R/library/limma        </td><td>/opt/conda/lib/R/library/limma        </td><td>TRUE</td><td>FALSE</td><td>2019-10-29</td><td>Bioconductor  </td><td>NA</td><td>/opt/conda/lib/R/library</td></tr>\n",
       "\t<tr><th scope=row>multtest</th><td>multtest     </td><td>2.42.0</td><td>2.42.0</td><td>/opt/conda/lib/R/library/multtest     </td><td>/opt/conda/lib/R/library/multtest     </td><td>TRUE</td><td>FALSE</td><td>2019-10-29</td><td>Bioconductor  </td><td>NA</td><td>/opt/conda/lib/R/library</td></tr>\n",
       "\t<tr><th scope=row>R.methodsS3</th><td>R.methodsS3  </td><td>1.8.0 </td><td>1.8.0 </td><td>/opt/conda/lib/R/library/R.methodsS3  </td><td>/opt/conda/lib/R/library/R.methodsS3  </td><td>TRUE</td><td>FALSE</td><td>2020-02-14</td><td>CRAN (R 3.6.3)</td><td>NA</td><td>/opt/conda/lib/R/library</td></tr>\n",
       "\t<tr><th scope=row>R.oo</th><td>R.oo         </td><td>1.23.0</td><td>1.23.0</td><td>/opt/conda/lib/R/library/R.oo         </td><td>/opt/conda/lib/R/library/R.oo         </td><td>TRUE</td><td>FALSE</td><td>2019-11-03</td><td>CRAN (R 3.6.3)</td><td>NA</td><td>/opt/conda/lib/R/library</td></tr>\n",
       "\t<tr><th scope=row>R.utils</th><td>R.utils      </td><td>2.9.2 </td><td>2.9.2 </td><td>/opt/conda/lib/R/library/R.utils      </td><td>/opt/conda/lib/R/library/R.utils      </td><td>TRUE</td><td>FALSE</td><td>2019-12-08</td><td>CRAN (R 3.6.3)</td><td>NA</td><td>/opt/conda/lib/R/library</td></tr>\n",
       "\t<tr><th scope=row>rtracklayer</th><td>rtracklayer  </td><td>1.46.0</td><td>1.46.0</td><td>/opt/conda/lib/R/library/rtracklayer  </td><td>/opt/conda/lib/R/library/rtracklayer  </td><td>TRUE</td><td>FALSE</td><td>2019-10-29</td><td>Bioconductor  </td><td>NA</td><td>/opt/conda/lib/R/library</td></tr>\n",
       "\t<tr><th scope=row>S4Vectors</th><td>S4Vectors    </td><td>0.24.0</td><td>0.24.0</td><td>/opt/conda/lib/R/library/S4Vectors    </td><td>/opt/conda/lib/R/library/S4Vectors    </td><td>TRUE</td><td>FALSE</td><td>2019-10-29</td><td>Bioconductor  </td><td>NA</td><td>/opt/conda/lib/R/library</td></tr>\n",
       "\t<tr><th scope=row>tibble</th><td>tibble       </td><td>2.1.3 </td><td>2.1.3 </td><td>/opt/conda/lib/R/library/tibble       </td><td>/opt/conda/lib/R/library/tibble       </td><td>TRUE</td><td>FALSE</td><td>2019-06-06</td><td>CRAN (R 3.6.1)</td><td>NA</td><td>/opt/conda/lib/R/library</td></tr>\n",
       "</tbody>\n",
       "</table>\n"
      ],
      "text/latex": [
       "A packages\\_info: 16 × 11\n",
       "\\begin{tabular}{r|lllllllllll}\n",
       "  & package & ondiskversion & loadedversion & path & loadedpath & attached & is\\_base & date & source & md5ok & library\\\\\n",
       "  & <chr> & <chr> & <chr> & <chr> & <chr> & <lgl> & <lgl> & <chr> & <chr> & <lgl> & <fct>\\\\\n",
       "\\hline\n",
       "\tBiobase & Biobase       & 2.46.0 & 2.46.0 & /opt/conda/lib/R/library/Biobase       & /opt/conda/lib/R/library/Biobase       & TRUE & FALSE & 2019-10-29 & Bioconductor   & NA & /opt/conda/lib/R/library\\\\\n",
       "\tBiocGenerics & BiocGenerics  & 0.32.0 & 0.32.0 & /opt/conda/lib/R/library/BiocGenerics  & /opt/conda/lib/R/library/BiocGenerics  & TRUE & FALSE & 2019-10-29 & Bioconductor   & NA & /opt/conda/lib/R/library\\\\\n",
       "\tdplyr & dplyr         & 0.8.4  & 0.8.4  & /opt/conda/lib/R/library/dplyr         & /opt/conda/lib/R/library/dplyr         & TRUE & FALSE & 2020-01-31 & CRAN (R 3.6.2) & NA & /opt/conda/lib/R/library\\\\\n",
       "\tedgeR & edgeR         & 3.28.0 & 3.28.0 & /opt/conda/lib/R/library/edgeR         & /opt/conda/lib/R/library/edgeR         & TRUE & FALSE & 2019-10-29 & Bioconductor   & NA & /opt/conda/lib/R/library\\\\\n",
       "\tGenomeInfoDb & GenomeInfoDb  & 1.22.0 & 1.22.0 & /opt/conda/lib/R/library/GenomeInfoDb  & /opt/conda/lib/R/library/GenomeInfoDb  & TRUE & FALSE & 2019-10-29 & Bioconductor   & NA & /opt/conda/lib/R/library\\\\\n",
       "\tGenomicRanges & GenomicRanges & 1.38.0 & 1.38.0 & /opt/conda/lib/R/library/GenomicRanges & /opt/conda/lib/R/library/GenomicRanges & TRUE & FALSE & 2019-10-29 & Bioconductor   & NA & /opt/conda/lib/R/library\\\\\n",
       "\tggplot2 & ggplot2       & 3.2.1  & 3.2.1  & /opt/conda/lib/R/library/ggplot2       & /opt/conda/lib/R/library/ggplot2       & TRUE & FALSE & 2019-08-10 & CRAN (R 3.6.1) & NA & /opt/conda/lib/R/library\\\\\n",
       "\tIRanges & IRanges       & 2.20.0 & 2.20.0 & /opt/conda/lib/R/library/IRanges       & /opt/conda/lib/R/library/IRanges       & TRUE & FALSE & 2019-10-29 & Bioconductor   & NA & /opt/conda/lib/R/library\\\\\n",
       "\tlimma & limma         & 3.42.0 & 3.42.0 & /opt/conda/lib/R/library/limma         & /opt/conda/lib/R/library/limma         & TRUE & FALSE & 2019-10-29 & Bioconductor   & NA & /opt/conda/lib/R/library\\\\\n",
       "\tmulttest & multtest      & 2.42.0 & 2.42.0 & /opt/conda/lib/R/library/multtest      & /opt/conda/lib/R/library/multtest      & TRUE & FALSE & 2019-10-29 & Bioconductor   & NA & /opt/conda/lib/R/library\\\\\n",
       "\tR.methodsS3 & R.methodsS3   & 1.8.0  & 1.8.0  & /opt/conda/lib/R/library/R.methodsS3   & /opt/conda/lib/R/library/R.methodsS3   & TRUE & FALSE & 2020-02-14 & CRAN (R 3.6.3) & NA & /opt/conda/lib/R/library\\\\\n",
       "\tR.oo & R.oo          & 1.23.0 & 1.23.0 & /opt/conda/lib/R/library/R.oo          & /opt/conda/lib/R/library/R.oo          & TRUE & FALSE & 2019-11-03 & CRAN (R 3.6.3) & NA & /opt/conda/lib/R/library\\\\\n",
       "\tR.utils & R.utils       & 2.9.2  & 2.9.2  & /opt/conda/lib/R/library/R.utils       & /opt/conda/lib/R/library/R.utils       & TRUE & FALSE & 2019-12-08 & CRAN (R 3.6.3) & NA & /opt/conda/lib/R/library\\\\\n",
       "\trtracklayer & rtracklayer   & 1.46.0 & 1.46.0 & /opt/conda/lib/R/library/rtracklayer   & /opt/conda/lib/R/library/rtracklayer   & TRUE & FALSE & 2019-10-29 & Bioconductor   & NA & /opt/conda/lib/R/library\\\\\n",
       "\tS4Vectors & S4Vectors     & 0.24.0 & 0.24.0 & /opt/conda/lib/R/library/S4Vectors     & /opt/conda/lib/R/library/S4Vectors     & TRUE & FALSE & 2019-10-29 & Bioconductor   & NA & /opt/conda/lib/R/library\\\\\n",
       "\ttibble & tibble        & 2.1.3  & 2.1.3  & /opt/conda/lib/R/library/tibble        & /opt/conda/lib/R/library/tibble        & TRUE & FALSE & 2019-06-06 & CRAN (R 3.6.1) & NA & /opt/conda/lib/R/library\\\\\n",
       "\\end{tabular}\n"
      ],
      "text/markdown": [
       "\n",
       "A packages_info: 16 × 11\n",
       "\n",
       "| <!--/--> | package &lt;chr&gt; | ondiskversion &lt;chr&gt; | loadedversion &lt;chr&gt; | path &lt;chr&gt; | loadedpath &lt;chr&gt; | attached &lt;lgl&gt; | is_base &lt;lgl&gt; | date &lt;chr&gt; | source &lt;chr&gt; | md5ok &lt;lgl&gt; | library &lt;fct&gt; |\n",
       "|---|---|---|---|---|---|---|---|---|---|---|---|\n",
       "| Biobase | Biobase       | 2.46.0 | 2.46.0 | /opt/conda/lib/R/library/Biobase       | /opt/conda/lib/R/library/Biobase       | TRUE | FALSE | 2019-10-29 | Bioconductor   | NA | /opt/conda/lib/R/library |\n",
       "| BiocGenerics | BiocGenerics  | 0.32.0 | 0.32.0 | /opt/conda/lib/R/library/BiocGenerics  | /opt/conda/lib/R/library/BiocGenerics  | TRUE | FALSE | 2019-10-29 | Bioconductor   | NA | /opt/conda/lib/R/library |\n",
       "| dplyr | dplyr         | 0.8.4  | 0.8.4  | /opt/conda/lib/R/library/dplyr         | /opt/conda/lib/R/library/dplyr         | TRUE | FALSE | 2020-01-31 | CRAN (R 3.6.2) | NA | /opt/conda/lib/R/library |\n",
       "| edgeR | edgeR         | 3.28.0 | 3.28.0 | /opt/conda/lib/R/library/edgeR         | /opt/conda/lib/R/library/edgeR         | TRUE | FALSE | 2019-10-29 | Bioconductor   | NA | /opt/conda/lib/R/library |\n",
       "| GenomeInfoDb | GenomeInfoDb  | 1.22.0 | 1.22.0 | /opt/conda/lib/R/library/GenomeInfoDb  | /opt/conda/lib/R/library/GenomeInfoDb  | TRUE | FALSE | 2019-10-29 | Bioconductor   | NA | /opt/conda/lib/R/library |\n",
       "| GenomicRanges | GenomicRanges | 1.38.0 | 1.38.0 | /opt/conda/lib/R/library/GenomicRanges | /opt/conda/lib/R/library/GenomicRanges | TRUE | FALSE | 2019-10-29 | Bioconductor   | NA | /opt/conda/lib/R/library |\n",
       "| ggplot2 | ggplot2       | 3.2.1  | 3.2.1  | /opt/conda/lib/R/library/ggplot2       | /opt/conda/lib/R/library/ggplot2       | TRUE | FALSE | 2019-08-10 | CRAN (R 3.6.1) | NA | /opt/conda/lib/R/library |\n",
       "| IRanges | IRanges       | 2.20.0 | 2.20.0 | /opt/conda/lib/R/library/IRanges       | /opt/conda/lib/R/library/IRanges       | TRUE | FALSE | 2019-10-29 | Bioconductor   | NA | /opt/conda/lib/R/library |\n",
       "| limma | limma         | 3.42.0 | 3.42.0 | /opt/conda/lib/R/library/limma         | /opt/conda/lib/R/library/limma         | TRUE | FALSE | 2019-10-29 | Bioconductor   | NA | /opt/conda/lib/R/library |\n",
       "| multtest | multtest      | 2.42.0 | 2.42.0 | /opt/conda/lib/R/library/multtest      | /opt/conda/lib/R/library/multtest      | TRUE | FALSE | 2019-10-29 | Bioconductor   | NA | /opt/conda/lib/R/library |\n",
       "| R.methodsS3 | R.methodsS3   | 1.8.0  | 1.8.0  | /opt/conda/lib/R/library/R.methodsS3   | /opt/conda/lib/R/library/R.methodsS3   | TRUE | FALSE | 2020-02-14 | CRAN (R 3.6.3) | NA | /opt/conda/lib/R/library |\n",
       "| R.oo | R.oo          | 1.23.0 | 1.23.0 | /opt/conda/lib/R/library/R.oo          | /opt/conda/lib/R/library/R.oo          | TRUE | FALSE | 2019-11-03 | CRAN (R 3.6.3) | NA | /opt/conda/lib/R/library |\n",
       "| R.utils | R.utils       | 2.9.2  | 2.9.2  | /opt/conda/lib/R/library/R.utils       | /opt/conda/lib/R/library/R.utils       | TRUE | FALSE | 2019-12-08 | CRAN (R 3.6.3) | NA | /opt/conda/lib/R/library |\n",
       "| rtracklayer | rtracklayer   | 1.46.0 | 1.46.0 | /opt/conda/lib/R/library/rtracklayer   | /opt/conda/lib/R/library/rtracklayer   | TRUE | FALSE | 2019-10-29 | Bioconductor   | NA | /opt/conda/lib/R/library |\n",
       "| S4Vectors | S4Vectors     | 0.24.0 | 0.24.0 | /opt/conda/lib/R/library/S4Vectors     | /opt/conda/lib/R/library/S4Vectors     | TRUE | FALSE | 2019-10-29 | Bioconductor   | NA | /opt/conda/lib/R/library |\n",
       "| tibble | tibble        | 2.1.3  | 2.1.3  | /opt/conda/lib/R/library/tibble        | /opt/conda/lib/R/library/tibble        | TRUE | FALSE | 2019-06-06 | CRAN (R 3.6.1) | NA | /opt/conda/lib/R/library |\n",
       "\n"
      ],
      "text/plain": [
       "              package       ondiskversion loadedversion\n",
       "Biobase       Biobase       2.46.0        2.46.0       \n",
       "BiocGenerics  BiocGenerics  0.32.0        0.32.0       \n",
       "dplyr         dplyr         0.8.4         0.8.4        \n",
       "edgeR         edgeR         3.28.0        3.28.0       \n",
       "GenomeInfoDb  GenomeInfoDb  1.22.0        1.22.0       \n",
       "GenomicRanges GenomicRanges 1.38.0        1.38.0       \n",
       "ggplot2       ggplot2       3.2.1         3.2.1        \n",
       "IRanges       IRanges       2.20.0        2.20.0       \n",
       "limma         limma         3.42.0        3.42.0       \n",
       "multtest      multtest      2.42.0        2.42.0       \n",
       "R.methodsS3   R.methodsS3   1.8.0         1.8.0        \n",
       "R.oo          R.oo          1.23.0        1.23.0       \n",
       "R.utils       R.utils       2.9.2         2.9.2        \n",
       "rtracklayer   rtracklayer   1.46.0        1.46.0       \n",
       "S4Vectors     S4Vectors     0.24.0        0.24.0       \n",
       "tibble        tibble        2.1.3         2.1.3        \n",
       "              path                                  \n",
       "Biobase       /opt/conda/lib/R/library/Biobase      \n",
       "BiocGenerics  /opt/conda/lib/R/library/BiocGenerics \n",
       "dplyr         /opt/conda/lib/R/library/dplyr        \n",
       "edgeR         /opt/conda/lib/R/library/edgeR        \n",
       "GenomeInfoDb  /opt/conda/lib/R/library/GenomeInfoDb \n",
       "GenomicRanges /opt/conda/lib/R/library/GenomicRanges\n",
       "ggplot2       /opt/conda/lib/R/library/ggplot2      \n",
       "IRanges       /opt/conda/lib/R/library/IRanges      \n",
       "limma         /opt/conda/lib/R/library/limma        \n",
       "multtest      /opt/conda/lib/R/library/multtest     \n",
       "R.methodsS3   /opt/conda/lib/R/library/R.methodsS3  \n",
       "R.oo          /opt/conda/lib/R/library/R.oo         \n",
       "R.utils       /opt/conda/lib/R/library/R.utils      \n",
       "rtracklayer   /opt/conda/lib/R/library/rtracklayer  \n",
       "S4Vectors     /opt/conda/lib/R/library/S4Vectors    \n",
       "tibble        /opt/conda/lib/R/library/tibble       \n",
       "              loadedpath                             attached is_base\n",
       "Biobase       /opt/conda/lib/R/library/Biobase       TRUE     FALSE  \n",
       "BiocGenerics  /opt/conda/lib/R/library/BiocGenerics  TRUE     FALSE  \n",
       "dplyr         /opt/conda/lib/R/library/dplyr         TRUE     FALSE  \n",
       "edgeR         /opt/conda/lib/R/library/edgeR         TRUE     FALSE  \n",
       "GenomeInfoDb  /opt/conda/lib/R/library/GenomeInfoDb  TRUE     FALSE  \n",
       "GenomicRanges /opt/conda/lib/R/library/GenomicRanges TRUE     FALSE  \n",
       "ggplot2       /opt/conda/lib/R/library/ggplot2       TRUE     FALSE  \n",
       "IRanges       /opt/conda/lib/R/library/IRanges       TRUE     FALSE  \n",
       "limma         /opt/conda/lib/R/library/limma         TRUE     FALSE  \n",
       "multtest      /opt/conda/lib/R/library/multtest      TRUE     FALSE  \n",
       "R.methodsS3   /opt/conda/lib/R/library/R.methodsS3   TRUE     FALSE  \n",
       "R.oo          /opt/conda/lib/R/library/R.oo          TRUE     FALSE  \n",
       "R.utils       /opt/conda/lib/R/library/R.utils       TRUE     FALSE  \n",
       "rtracklayer   /opt/conda/lib/R/library/rtracklayer   TRUE     FALSE  \n",
       "S4Vectors     /opt/conda/lib/R/library/S4Vectors     TRUE     FALSE  \n",
       "tibble        /opt/conda/lib/R/library/tibble        TRUE     FALSE  \n",
       "              date       source         md5ok library                 \n",
       "Biobase       2019-10-29 Bioconductor   NA    /opt/conda/lib/R/library\n",
       "BiocGenerics  2019-10-29 Bioconductor   NA    /opt/conda/lib/R/library\n",
       "dplyr         2020-01-31 CRAN (R 3.6.2) NA    /opt/conda/lib/R/library\n",
       "edgeR         2019-10-29 Bioconductor   NA    /opt/conda/lib/R/library\n",
       "GenomeInfoDb  2019-10-29 Bioconductor   NA    /opt/conda/lib/R/library\n",
       "GenomicRanges 2019-10-29 Bioconductor   NA    /opt/conda/lib/R/library\n",
       "ggplot2       2019-08-10 CRAN (R 3.6.1) NA    /opt/conda/lib/R/library\n",
       "IRanges       2019-10-29 Bioconductor   NA    /opt/conda/lib/R/library\n",
       "limma         2019-10-29 Bioconductor   NA    /opt/conda/lib/R/library\n",
       "multtest      2019-10-29 Bioconductor   NA    /opt/conda/lib/R/library\n",
       "R.methodsS3   2020-02-14 CRAN (R 3.6.3) NA    /opt/conda/lib/R/library\n",
       "R.oo          2019-11-03 CRAN (R 3.6.3) NA    /opt/conda/lib/R/library\n",
       "R.utils       2019-12-08 CRAN (R 3.6.3) NA    /opt/conda/lib/R/library\n",
       "rtracklayer   2019-10-29 Bioconductor   NA    /opt/conda/lib/R/library\n",
       "S4Vectors     2019-10-29 Bioconductor   NA    /opt/conda/lib/R/library\n",
       "tibble        2019-06-06 CRAN (R 3.6.1) NA    /opt/conda/lib/R/library"
      ]
     },
     "metadata": {},
     "output_type": "display_data"
    }
   ],
   "source": [
    "dev_session_info   <- devtools::session_info()\n",
    "utils_session_info <- utils::sessionInfo()\n",
    "\n",
    "message(\"Saving `devtools::session_info()` objects in ../metadata/devtools_session_info.rds  ..\")\n",
    "saveRDS(dev_session_info, file = paste0(\"../metadata/\", notebookid, \"_devtools_session_info.rds\"))\n",
    "message(\"Done!\\n\")\n",
    "\n",
    "message(\"Saving `utils::sessionInfo()` objects in ../metadata/utils_session_info.rds  ..\")\n",
    "saveRDS(utils_session_info, file = paste0(\"../metadata/\", notebookid ,\"_utils_info.rds\"))\n",
    "message(\"Done!\\n\")\n",
    "\n",
    "dev_session_info$platform\n",
    "dev_session_info$packages[dev_session_info$packages$attached==TRUE, ]"
   ]
  },
  {
   "cell_type": "code",
   "execution_count": null,
   "metadata": {},
   "outputs": [],
   "source": []
  }
 ],
 "metadata": {
  "jupytext": {
   "cell_metadata_filter": "-all",
   "main_language": "R",
   "notebook_metadata_filter": "-all"
  },
  "kernelspec": {
   "display_name": "R",
   "language": "R",
   "name": "ir"
  },
  "language_info": {
   "codemirror_mode": "r",
   "file_extension": ".r",
   "mimetype": "text/x-r-source",
   "name": "R",
   "pygments_lexer": "r",
   "version": "3.6.2"
  }
 },
 "nbformat": 4,
 "nbformat_minor": 4
}
