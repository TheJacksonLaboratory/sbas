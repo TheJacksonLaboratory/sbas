{
 "cells": [
  {
   "cell_type": "markdown",
   "metadata": {},
   "source": [
    "# Analysis Notebook - Count Genes and Events\n",
    "\n",
    "This notebook processes the raw counts as provided by rMATS and performs some descriptive statistical analysis. It is used to produce the following outputs. \n",
    "\n",
    "## Data files created by this notebook\n",
    "Output text files are written to the ``data/`` directory (at the same level as the ``jupyter`` directory). \n",
    "\n",
    "1. **gene_AS.tsv**: Alternative splicing events per gene\n",
    "2. **genesWithCommonAS.tsv\n",
    "3. **Total_AS_by_chr.tsv**: Total alternative splicing events per chromosome\n",
    "4. **Total_AS_by_geneSymbol.tsv**: Count the number of tissues in which specific genes show significant alternative splicing\n",
    "5. **Total_AS_by_tissue.tsv**: Count the number of significant splicing events per tissue\n",
    "6. **Total_AS_by_splicingtype.tsv**: Count number of significant splicing events for each of the 5' alternative splicing categories\n",
    "7. **Significant_AS_events.tsv**: ?? Counts of significant events per slicing type per tissue\n",
    "8. **SplicingIndex_chr.tsv**: Splicing index by chr (number of sigificant AS events per 1000 exons)"
   ]
  },
  {
   "cell_type": "code",
   "execution_count": 1,
   "metadata": {},
   "outputs": [
    {
     "name": "stderr",
     "output_type": "stream",
     "text": [
      "\n",
      "Attaching package: ‘dplyr’\n",
      "\n",
      "\n",
      "The following objects are masked from ‘package:stats’:\n",
      "\n",
      "    filter, lag\n",
      "\n",
      "\n",
      "The following objects are masked from ‘package:base’:\n",
      "\n",
      "    intersect, setdiff, setequal, union\n",
      "\n",
      "\n",
      "Loading required package: BiocGenerics\n",
      "\n",
      "Loading required package: parallel\n",
      "\n",
      "\n",
      "Attaching package: ‘BiocGenerics’\n",
      "\n",
      "\n",
      "The following objects are masked from ‘package:parallel’:\n",
      "\n",
      "    clusterApply, clusterApplyLB, clusterCall, clusterEvalQ,\n",
      "    clusterExport, clusterMap, parApply, parCapply, parLapply,\n",
      "    parLapplyLB, parRapply, parSapply, parSapplyLB\n",
      "\n",
      "\n",
      "The following object is masked from ‘package:limma’:\n",
      "\n",
      "    plotMA\n",
      "\n",
      "\n",
      "The following objects are masked from ‘package:dplyr’:\n",
      "\n",
      "    combine, intersect, setdiff, union\n",
      "\n",
      "\n",
      "The following objects are masked from ‘package:stats’:\n",
      "\n",
      "    IQR, mad, sd, var, xtabs\n",
      "\n",
      "\n",
      "The following objects are masked from ‘package:base’:\n",
      "\n",
      "    anyDuplicated, append, as.data.frame, basename, cbind, colnames,\n",
      "    dirname, do.call, duplicated, eval, evalq, Filter, Find, get, grep,\n",
      "    grepl, intersect, is.unsorted, lapply, Map, mapply, match, mget,\n",
      "    order, paste, pmax, pmax.int, pmin, pmin.int, Position, rank,\n",
      "    rbind, Reduce, rownames, sapply, setdiff, sort, table, tapply,\n",
      "    union, unique, unsplit, which, which.max, which.min\n",
      "\n",
      "\n",
      "Loading required package: Biobase\n",
      "\n",
      "Welcome to Bioconductor\n",
      "\n",
      "    Vignettes contain introductory material; view with\n",
      "    'browseVignettes()'. To cite Bioconductor, see\n",
      "    'citation(\"Biobase\")', and for packages 'citation(\"pkgname\")'.\n",
      "\n",
      "\n",
      "Loading required package: R.oo\n",
      "\n",
      "Loading required package: R.methodsS3\n",
      "\n",
      "R.methodsS3 v1.8.0 (2020-02-14 07:10:20 UTC) successfully loaded. See ?R.methodsS3 for help.\n",
      "\n",
      "R.oo v1.23.0 successfully loaded. See ?R.oo for help.\n",
      "\n",
      "\n",
      "Attaching package: ‘R.oo’\n",
      "\n",
      "\n",
      "The following object is masked from ‘package:R.methodsS3’:\n",
      "\n",
      "    throw\n",
      "\n",
      "\n",
      "The following objects are masked from ‘package:methods’:\n",
      "\n",
      "    getClasses, getMethods\n",
      "\n",
      "\n",
      "The following objects are masked from ‘package:base’:\n",
      "\n",
      "    attach, detach, load, save\n",
      "\n",
      "\n",
      "R.utils v2.9.2 successfully loaded. See ?R.utils for help.\n",
      "\n",
      "\n",
      "Attaching package: ‘R.utils’\n",
      "\n",
      "\n",
      "The following object is masked from ‘package:utils’:\n",
      "\n",
      "    timestamp\n",
      "\n",
      "\n",
      "The following objects are masked from ‘package:base’:\n",
      "\n",
      "    cat, commandArgs, getOption, inherits, isOpen, nullfile, parse,\n",
      "    warnings\n",
      "\n",
      "\n",
      "Loading required package: GenomicRanges\n",
      "\n",
      "Loading required package: stats4\n",
      "\n",
      "Loading required package: S4Vectors\n",
      "\n",
      "\n",
      "Attaching package: ‘S4Vectors’\n",
      "\n",
      "\n",
      "The following objects are masked from ‘package:dplyr’:\n",
      "\n",
      "    first, rename\n",
      "\n",
      "\n",
      "The following object is masked from ‘package:base’:\n",
      "\n",
      "    expand.grid\n",
      "\n",
      "\n",
      "Loading required package: IRanges\n",
      "\n",
      "\n",
      "Attaching package: ‘IRanges’\n",
      "\n",
      "\n",
      "The following object is masked from ‘package:R.oo’:\n",
      "\n",
      "    trim\n",
      "\n",
      "\n",
      "The following objects are masked from ‘package:dplyr’:\n",
      "\n",
      "    collapse, desc, slice\n",
      "\n",
      "\n",
      "Loading required package: GenomeInfoDb\n",
      "\n"
     ]
    }
   ],
   "source": [
    "defaultW <- getOption(\"warn\")  # suppress warnings for this cell\n",
    "options(warn = -1) \n",
    "\n",
    "library(dplyr)\n",
    "library(ggplot2)\n",
    "library(limma)\n",
    "library(multtest)\n",
    "library(Biobase)\n",
    "library(edgeR)\n",
    "library(tibble)\n",
    "library(R.utils)\n",
    "library(rtracklayer)\n",
    "\n",
    "options(warn = defaultW)"
   ]
  },
  {
   "cell_type": "markdown",
   "metadata": {},
   "source": [
    "## 1. Download all the rMATS results\n",
    "\n",
    "Each of the alternative splicing output files are downloaded here:"
   ]
  },
  {
   "cell_type": "markdown",
   "metadata": {},
   "source": [
    "### 1.1 get released rMATS GTF annotations\n",
    "\n",
    "For each splicing type, the junctions are defined, so we have 5 specific annotated splicing specific junction ID annotation files:\n",
    "\n",
    "1. **fromGTF.A3SS.txt**: annotations for the alternative 3' splice site junctions\n",
    "2. **fromGTF.A5SS.txt**: annotations for the alternative 5' splice site junctions\n",
    "3. **fromGTF.MXE.txt**: annotations for the mutually exclusive exon junctions\n",
    "4. **fromGTF.RI.txt**: annotations for the retained introns junctions\n",
    "5. **fromGTF.SE.txt**: annotations for the skipped exon junctions"
   ]
  },
  {
   "cell_type": "markdown",
   "metadata": {},
   "source": [
    "## 1.2 Unpacked the data.tar file if necessaty"
   ]
  },
  {
   "cell_type": "code",
   "execution_count": 2,
   "metadata": {},
   "outputs": [
    {
     "name": "stderr",
     "output_type": "stream",
     "text": [
      "Cowardly refusing to unpack ../../mounted-data/5ee271c1143fa00113c7d138-DGE_splicing_data.tar.gz-5ee271c1143fa00113c7d138/robinson-bucket/notebooks/DGE_splicing_data.tar.gz since it was previously unapcked\n",
      "\n"
     ]
    }
   ],
   "source": [
    "dge_splicing_file_dir <- list.files(\"../../mounted-data\", pattern='DGE_splicing_data.tar.gz')\n",
    "dge_splicing_file <- paste(\"../../mounted-data\", dge_splicing_file_dir, 'robinson-bucket/notebooks/DGE_splicing_data', sep='/')\n",
    "dge_splicing_file_tar_gz <- paste(dge_splicing_file, '.tar.gz', sep='')\n",
    "example_unpacked_file = '../data/ri_brain_cerebellum_DGE_sex.csv'\n",
    "if (! file.exists(example_unpacked_file)) {\n",
    "    mycommand = paste(\"tar xvfz \",dge_splicing_file_tar_gz, \"-C ../data\", sep=\" \")\n",
    "    message(mycommand)\n",
    "    system(mycommand, intern = TRUE)\n",
    "    message(\"Done unpacking \", dge_splicing_file_tar_gz)\n",
    "} else {\n",
    "    message(\"Cowardly refusing to unpack \", dge_splicing_file_tar_gz, \" since it was previously unapcked\")\n",
    "}\n",
    "\n",
    "\n"
   ]
  },
  {
   "cell_type": "code",
   "execution_count": 3,
   "metadata": {},
   "outputs": [
    {
     "name": "stderr",
     "output_type": "stream",
     "text": [
      "Cowardly refusing to unpack ../../mounted-data/5ee271e6143fa00113c7d1b2-data.tar.gz-5ee271e6143fa00113c7d1b2/robinson-bucket/notebooks/data.tar.gz since it was previously unapcked\n",
      "\n"
     ]
    }
   ],
   "source": [
    "data_file_dir <- list.files(\"../../mounted-data\", pattern='-data.tar.gz')\n",
    "data_file_tar_gz <- paste(\"../../mounted-data\", data_file_dir, 'robinson-bucket/notebooks/data.tar.gz', sep='/')\n",
    "example_unpacked_file = '../data/SraRunTable.txt.gz'\n",
    "if (! file.exists(example_unpacked_file)) {\n",
    "    mycommand = paste(\"tar xvfz \",data_file_tar_gz, \"-C ../data\", sep=\" \")\n",
    "    message(mycommand)\n",
    "    system(mycommand, intern = TRUE)\n",
    "    message(\"Done unpacking \", data_file_tar_gz)\n",
    "} else {\n",
    "    message(\"Cowardly refusing to unpack \", data_file_tar_gz, \" since it was previously unapcked\")\n",
    "}\n"
   ]
  },
  {
   "cell_type": "code",
   "execution_count": 4,
   "metadata": {},
   "outputs": [
    {
     "name": "stderr",
     "output_type": "stream",
     "text": [
      "Decompressing fromGTF.tar.gz into ../data\n",
      "\n",
      "Done!\n",
      "\n",
      "\n",
      "Gunzipping files into ../data\n",
      "\n",
      "Warning message in system(\"gunzip ../data/fromGTF.*txt.gz\", intern = TRUE):\n",
      "“running command 'gunzip ../data/fromGTF.*txt.gz' had status 2”\n",
      "Done!\n",
      "\n",
      "\n"
     ]
    }
   ],
   "source": [
    "getReleasedGTFAnnotations <- function ( destDir ) {\n",
    "    message(\"Decompressing fromGTF.tar.gz into ../data\")\n",
    "    system(\"mkdir -p ../data && tar xvfz ../data/fromGTF.tar.gz -C ../data\", intern = TRUE)\n",
    "    message(\"Done!\\n\")\n",
    "    message(\"Gunzipping files into ../data\")\n",
    "    system(\"gunzip ../data/fromGTF.*txt.gz\", intern = TRUE)\n",
    "    message(\"Done!\\n\")\n",
    "}\n",
    "\n",
    "#\n",
    "# 1.2.2 get the rmats 3.2.5 discovered/annoated junction information in GTF format\n",
    "#\n",
    "getReleasedGTFAnnotations (destDir <- \"../data/\")"
   ]
  },
  {
   "cell_type": "markdown",
   "metadata": {},
   "source": [
    "### 2  Refined results\n",
    "We define **refined results* as (FC > 1.5 and pVal < 0.05) for the sex\\*as_event coefficient result for the linear model"
   ]
  },
  {
   "cell_type": "markdown",
   "metadata": {},
   "source": [
    "### 2.1 getTissueReduction"
   ]
  },
  {
   "cell_type": "code",
   "execution_count": 5,
   "metadata": {},
   "outputs": [],
   "source": [
    "getTissueReduction <- function ( filename ) {\n",
    "\n",
    "    tissue_reduction <- read.table(filename, header=TRUE, sep=\"\\t\",\n",
    "                               skipNul=FALSE, stringsAsFactors = FALSE)\n",
    "    colnames(tissue_reduction)  <- c(\"SMTSD\",\"female\",\"male\",\"include\",\"display_name\")\n",
    "\n",
    "    return(tissue_reduction)\n",
    "}\n",
    "tissue_reduction <- getTissueReduction (\"../assets/tissues.tsv\")"
   ]
  },
  {
   "cell_type": "markdown",
   "metadata": {},
   "source": [
    "### 2.2 Read in refined results and annotations"
   ]
  },
  {
   "cell_type": "code",
   "execution_count": 6,
   "metadata": {},
   "outputs": [],
   "source": [
    "significant_results_dir = \"../data/\"\n",
    "pattern = \"DGE_sex_as_events_refined.csv\"\n",
    "files <- list.files(path = significant_results_dir, pattern = pattern)\n",
    "as_types <- c(\"a3ss\", \"a5ss\", \"mxe\", \"ri\", \"se\")"
   ]
  },
  {
   "cell_type": "code",
   "execution_count": 7,
   "metadata": {},
   "outputs": [],
   "source": [
    "a3ss_annot <- read.table(file = \"../data/fromGTF.A3SS.txt\", sep = \"\\t\", quote = \"\\\"\", header = T, stringsAsFactors = F)\n",
    "a5ss_annot <- read.table(file = \"../data/fromGTF.A5SS.txt\", sep = \"\\t\", quote = \"\\\"\", header = T, stringsAsFactors = F)\n",
    "mxe_annot <- read.table(file = \"../data/fromGTF.MXE.txt\", sep = \"\\t\", quote = \"\\\"\", header = T, stringsAsFactors = F)\n",
    "ri_annot <- read.table(file = \"../data/fromGTF.RI.txt\", sep = \"\\t\", quote = \"\\\"\", header = T, stringsAsFactors = F)\n",
    "se_annot <- read.table(file = \"../data/fromGTF.SE.txt\", sep = \"\\t\", quote = \"\\\"\", header = T, stringsAsFactors = F)"
   ]
  },
  {
   "cell_type": "code",
   "execution_count": 8,
   "metadata": {},
   "outputs": [],
   "source": [
    "gene_as = data.frame()\n",
    "counts <- rep(NA, length(files))\n",
    "ASE <- rep(\"NA\", length(files))\n",
    "Tissue <- rep(\"NA\", length(files))\n",
    "\n",
    "for (i in 1:length(files)) {\n",
    "    lines <- read.csv(paste0(significant_results_dir, files[i]),header = TRUE)\n",
    "    event     <- as.vector(as.character(rownames(lines)))\n",
    "    tissue <- gsub(\"_DGE_sex_as_events_refined.csv\",\"\", files[i], fixed = TRUE)\n",
    "\n",
    "    counts[i] <- dim(lines)[1]\n",
    "    \n",
    "    if (dim(lines)[1] > 0) { #has significant events\n",
    "        # rownames of the significant results file are a combination of gene-symbol and junction name\n",
    "        # using a regular expression - extract the last numbers that then are the index to the annotation table\n",
    "        event_idx <- substring(event, regexpr(\"[0-9]+$\", event))\n",
    "        \n",
    "        if (grepl(\"a3ss_\", files[i])) {\n",
    "            tissue <- gsub(\"a3ss_\",\"\", tissue, fixed = TRUE)\n",
    "            ASE[i] <- \"A3SS\"\n",
    "            Tissue[i] <- tissue\n",
    "            idx <- match(event_idx, a3ss_annot$ID)\n",
    "            res <- data.frame(GeneJunction = event,\n",
    "                              ASE = \"A3SS\", \n",
    "                              ASE_IDX = idx,\n",
    "                              Tissue = tissue, \n",
    "                              GeneSymbol = a3ss_annot$geneSymbol[idx],\n",
    "                              chr = a3ss_annot$chr[idx])\n",
    "        }\n",
    "        if (grepl(\"a5ss_\", files[i])) {\n",
    "            tissue <- gsub(\"a5ss_\",\"\", tissue, fixed = TRUE)\n",
    "            ASE[i] <- \"A5SS\"\n",
    "            Tissue[i] <- tissue\n",
    "            idx <- match(event_idx, a5ss_annot$ID)\n",
    "            res <- data.frame(GeneJunction = event,\n",
    "                              ASE = \"A5SS\", \n",
    "                              ASE_IDX = idx,\n",
    "                              Tissue = tissue, \n",
    "                              GeneSymbol = a5ss_annot$geneSymbol[idx],\n",
    "                              chr = a5ss_annot$chr[idx])\n",
    "        }\n",
    "        if (grepl(\"mxe_\", files[i])) {\n",
    "            ASE[i] <- \"MXE\"\n",
    "            tissue <- gsub(\"mxe_\",\"\", tissue, fixed = TRUE)\n",
    "            Tissue[i] <- tissue\n",
    "            idx <- match(event_idx, a3ss_annot$ID)\n",
    "            res <- data.frame(GeneJunction = event,\n",
    "                              ASE = \"MXE\", \n",
    "                              ASE_IDX = idx,\n",
    "                              Tissue = tissue, \n",
    "                              GeneSymbol = mxe_annot$geneSymbol[idx],\n",
    "                              chr = mxe_annot$chr[idx])\n",
    "        }\n",
    "        if (grepl(\"se_\", files[i])) {\n",
    "            ASE[i] <- \"SE\"\n",
    "            tissue <- gsub(\"se_\",\"\", tissue, fixed = TRUE)\n",
    "            Tissue[i] <- tissue\n",
    "            idx <- match(event_idx, se_annot$ID)\n",
    "            res <- data.frame(GeneJunction = event,\n",
    "                              ASE = \"SE\", \n",
    "                              ASE_IDX = idx,\n",
    "                              Tissue = tissue, \n",
    "                              GeneSymbol = se_annot$geneSymbol[idx],\n",
    "                              chr = se_annot$chr[idx])\n",
    "        }\n",
    "        if (grepl(\"ri_\", files[i])){\n",
    "            ASE[i] <- \"RI\"\n",
    "            tissue <- gsub(\"ri_\",\"\", tissue, fixed = TRUE)\n",
    "            Tissue[i] <- tissue\n",
    "            idx <- match(event_idx, ri_annot$ID)\n",
    "            res <- data.frame(GeneJunction = event,\n",
    "                              ASE = \"RI\", \n",
    "                              ASE_IDX = idx,\n",
    "                              Tissue = tissue, \n",
    "                              GeneSymbol = ri_annot$geneSymbol[idx],\n",
    "                              chr = a3ss_annot$chr[idx])\n",
    "        }\n",
    "        gene_as <- rbind(gene_as, res)\n",
    "        \n",
    "    } #if has sig. events\n",
    "    \n",
    "} #for all files"
   ]
  },
  {
   "cell_type": "markdown",
   "metadata": {},
   "source": [
    "### 3 Data Structures for Figures"
   ]
  },
  {
   "cell_type": "markdown",
   "metadata": {},
   "source": [
    "### 3.1 gene_as.tsv\n",
    "\n",
    "This file contains (description)\n",
    "Here is a typical line\n",
    "<pre>\n",
    "        GeneJunction    ASE     ASE_IDX Tissue  GeneSymbol      chr\n",
    "1       MDM4-3553       SE      3553    adipovisceral_omentum   RNPEP   chr1\n",
    "2       WDR17-8668      SE      8668    adipovisceral_omentum   ANKMY1  chr2\n",
    "3       IL17RC-5032     SE      5032    adipovisceral_omentum   SNCAIP  chr5\n",
    "4       DDX3X-5712      A3SS    5712    adrenal_gland   DDX3X   chrX\n",
    "</pre>\n",
    "There are 2848 significant events in the file."
   ]
  },
  {
   "cell_type": "code",
   "execution_count": 9,
   "metadata": {},
   "outputs": [
    {
     "name": "stdout",
     "output_type": "stream",
     "text": [
      "Observations: 2,848\n",
      "Variables: 6\n",
      "$ GeneJunction \u001b[3m\u001b[90m<fct>\u001b[39m\u001b[23m MDM4-3553, WDR17-8668, IL17RC-5032, DDX3X-5712, SCO1-845…\n",
      "$ ASE          \u001b[3m\u001b[90m<fct>\u001b[39m\u001b[23m SE, SE, SE, A3SS, A3SS, A3SS, A3SS, A3SS, A3SS, A3SS, A3…\n",
      "$ ASE_IDX      \u001b[3m\u001b[90m<int>\u001b[39m\u001b[23m 3553, 8668, 5032, 5712, 8452, 1493, 5712, 5710, 4891, 45…\n",
      "$ Tissue       \u001b[3m\u001b[90m<fct>\u001b[39m\u001b[23m adipovisceral_omentum, adipovisceral_omentum, adipovisce…\n",
      "$ GeneSymbol   \u001b[3m\u001b[90m<fct>\u001b[39m\u001b[23m RNPEP, ANKMY1, SNCAIP, DDX3X, SCO1, MYO7A, DDX3X, DDX3X,…\n",
      "$ chr          \u001b[3m\u001b[90m<fct>\u001b[39m\u001b[23m chr1, chr2, chr5, chrX, chr17, chr11, chrX, chrX, chr1, …\n"
     ]
    },
    {
     "data": {
      "text/plain": [
       "\n",
       "FALSE \n",
       " 2848 "
      ]
     },
     "metadata": {},
     "output_type": "display_data"
    },
    {
     "data": {
      "text/html": [
       "<style>\n",
       ".list-inline {list-style: none; margin:0; padding: 0}\n",
       ".list-inline>li {display: inline-block}\n",
       ".list-inline>li:not(:last-child)::after {content: \"\\00b7\"; padding: 0 .5ex}\n",
       "</style>\n",
       "<ol class=list-inline><li>'GeneJunction'</li><li>'ASE'</li><li>'ASE_IDX'</li><li>'Tissue'</li><li>'GeneSymbol'</li><li>'chr'</li></ol>\n"
      ],
      "text/latex": [
       "\\begin{enumerate*}\n",
       "\\item 'GeneJunction'\n",
       "\\item 'ASE'\n",
       "\\item 'ASE\\_IDX'\n",
       "\\item 'Tissue'\n",
       "\\item 'GeneSymbol'\n",
       "\\item 'chr'\n",
       "\\end{enumerate*}\n"
      ],
      "text/markdown": [
       "1. 'GeneJunction'\n",
       "2. 'ASE'\n",
       "3. 'ASE_IDX'\n",
       "4. 'Tissue'\n",
       "5. 'GeneSymbol'\n",
       "6. 'chr'\n",
       "\n",
       "\n"
      ],
      "text/plain": [
       "[1] \"GeneJunction\" \"ASE\"          \"ASE_IDX\"      \"Tissue\"       \"GeneSymbol\"  \n",
       "[6] \"chr\"         "
      ]
     },
     "metadata": {},
     "output_type": "display_data"
    },
    {
     "data": {
      "text/html": [
       "<table>\n",
       "<caption>A data.frame: 6 × 6</caption>\n",
       "<thead>\n",
       "\t<tr><th></th><th scope=col>GeneJunction</th><th scope=col>ASE</th><th scope=col>ASE_IDX</th><th scope=col>Tissue</th><th scope=col>GeneSymbol</th><th scope=col>chr</th></tr>\n",
       "\t<tr><th></th><th scope=col>&lt;fct&gt;</th><th scope=col>&lt;fct&gt;</th><th scope=col>&lt;int&gt;</th><th scope=col>&lt;fct&gt;</th><th scope=col>&lt;fct&gt;</th><th scope=col>&lt;fct&gt;</th></tr>\n",
       "</thead>\n",
       "<tbody>\n",
       "\t<tr><th scope=row>1</th><td>MDM4-3553  </td><td>SE  </td><td>3553</td><td>adipovisceral_omentum</td><td>RNPEP </td><td>chr1 </td></tr>\n",
       "\t<tr><th scope=row>2</th><td>WDR17-8668 </td><td>SE  </td><td>8668</td><td>adipovisceral_omentum</td><td>ANKMY1</td><td>chr2 </td></tr>\n",
       "\t<tr><th scope=row>3</th><td>IL17RC-5032</td><td>SE  </td><td>5032</td><td>adipovisceral_omentum</td><td>SNCAIP</td><td>chr5 </td></tr>\n",
       "\t<tr><th scope=row>4</th><td>DDX3X-5712 </td><td>A3SS</td><td>5712</td><td>adrenal_gland        </td><td>DDX3X </td><td>chrX </td></tr>\n",
       "\t<tr><th scope=row>5</th><td>SCO1-8452  </td><td>A3SS</td><td>8452</td><td>adrenal_gland        </td><td>SCO1  </td><td>chr17</td></tr>\n",
       "\t<tr><th scope=row>6</th><td>MYO7A-1493 </td><td>A3SS</td><td>1493</td><td>adrenal_gland        </td><td>MYO7A </td><td>chr11</td></tr>\n",
       "</tbody>\n",
       "</table>\n"
      ],
      "text/latex": [
       "A data.frame: 6 × 6\n",
       "\\begin{tabular}{r|llllll}\n",
       "  & GeneJunction & ASE & ASE\\_IDX & Tissue & GeneSymbol & chr\\\\\n",
       "  & <fct> & <fct> & <int> & <fct> & <fct> & <fct>\\\\\n",
       "\\hline\n",
       "\t1 & MDM4-3553   & SE   & 3553 & adipovisceral\\_omentum & RNPEP  & chr1 \\\\\n",
       "\t2 & WDR17-8668  & SE   & 8668 & adipovisceral\\_omentum & ANKMY1 & chr2 \\\\\n",
       "\t3 & IL17RC-5032 & SE   & 5032 & adipovisceral\\_omentum & SNCAIP & chr5 \\\\\n",
       "\t4 & DDX3X-5712  & A3SS & 5712 & adrenal\\_gland         & DDX3X  & chrX \\\\\n",
       "\t5 & SCO1-8452   & A3SS & 8452 & adrenal\\_gland         & SCO1   & chr17\\\\\n",
       "\t6 & MYO7A-1493  & A3SS & 1493 & adrenal\\_gland         & MYO7A  & chr11\\\\\n",
       "\\end{tabular}\n"
      ],
      "text/markdown": [
       "\n",
       "A data.frame: 6 × 6\n",
       "\n",
       "| <!--/--> | GeneJunction &lt;fct&gt; | ASE &lt;fct&gt; | ASE_IDX &lt;int&gt; | Tissue &lt;fct&gt; | GeneSymbol &lt;fct&gt; | chr &lt;fct&gt; |\n",
       "|---|---|---|---|---|---|---|\n",
       "| 1 | MDM4-3553   | SE   | 3553 | adipovisceral_omentum | RNPEP  | chr1  |\n",
       "| 2 | WDR17-8668  | SE   | 8668 | adipovisceral_omentum | ANKMY1 | chr2  |\n",
       "| 3 | IL17RC-5032 | SE   | 5032 | adipovisceral_omentum | SNCAIP | chr5  |\n",
       "| 4 | DDX3X-5712  | A3SS | 5712 | adrenal_gland         | DDX3X  | chrX  |\n",
       "| 5 | SCO1-8452   | A3SS | 8452 | adrenal_gland         | SCO1   | chr17 |\n",
       "| 6 | MYO7A-1493  | A3SS | 1493 | adrenal_gland         | MYO7A  | chr11 |\n",
       "\n"
      ],
      "text/plain": [
       "  GeneJunction ASE  ASE_IDX Tissue                GeneSymbol chr  \n",
       "1 MDM4-3553    SE   3553    adipovisceral_omentum RNPEP      chr1 \n",
       "2 WDR17-8668   SE   8668    adipovisceral_omentum ANKMY1     chr2 \n",
       "3 IL17RC-5032  SE   5032    adipovisceral_omentum SNCAIP     chr5 \n",
       "4 DDX3X-5712   A3SS 5712    adrenal_gland         DDX3X      chrX \n",
       "5 SCO1-8452    A3SS 8452    adrenal_gland         SCO1       chr17\n",
       "6 MYO7A-1493   A3SS 1493    adrenal_gland         MYO7A      chr11"
      ]
     },
     "metadata": {},
     "output_type": "display_data"
    }
   ],
   "source": [
    "glimpse(gene_as)\n",
    "table(is.na(gene_as$Tissue))\n",
    "colnames(gene_as)\n",
    "write.table(gene_as, \"../data/gene_as.tsv\", quote=FALSE, sep=\"\\t\")\n",
    "head(gene_as)"
   ]
  },
  {
   "cell_type": "markdown",
   "metadata": {},
   "source": [
    "### 3.2 Tissue specific data frame"
   ]
  },
  {
   "cell_type": "code",
   "execution_count": 10,
   "metadata": {},
   "outputs": [
    {
     "data": {
      "text/html": [
       "79"
      ],
      "text/latex": [
       "79"
      ],
      "text/markdown": [
       "79"
      ],
      "text/plain": [
       "[1] 79"
      ]
     },
     "metadata": {},
     "output_type": "display_data"
    },
    {
     "name": "stderr",
     "output_type": "stream",
     "text": [
      "data now has 39 tissues and 6 ASE categories\n",
      "\n",
      "ASE:\n",
      "\n"
     ]
    },
    {
     "data": {
      "text/html": [
       "<style>\n",
       ".dl-inline {width: auto; margin:0; padding: 0}\n",
       ".dl-inline>dt, .dl-inline>dd {float: none; width: auto; display: inline-block}\n",
       ".dl-inline>dt::after {content: \":\\0020\"; padding-right: .5ex}\n",
       ".dl-inline>dt:not(:first-of-type) {padding-left: .5ex}\n",
       "</style><dl class=dl-inline><dt>A3SS</dt><dd>21</dd><dt>A5SS</dt><dd>19</dd><dt>MXE</dt><dd>16</dd><dt>NA</dt><dd>0</dd><dt>RI</dt><dd>14</dd><dt>SE</dt><dd>41</dd></dl>\n"
      ],
      "text/latex": [
       "\\begin{description*}\n",
       "\\item[A3SS] 21\n",
       "\\item[A5SS] 19\n",
       "\\item[MXE] 16\n",
       "\\item[NA] 0\n",
       "\\item[RI] 14\n",
       "\\item[SE] 41\n",
       "\\end{description*}\n"
      ],
      "text/markdown": [
       "A3SS\n",
       ":   21A5SS\n",
       ":   19MXE\n",
       ":   16NA\n",
       ":   0RI\n",
       ":   14SE\n",
       ":   41\n",
       "\n"
      ],
      "text/plain": [
       "A3SS A5SS  MXE   NA   RI   SE \n",
       "  21   19   16    0   14   41 "
      ]
     },
     "metadata": {},
     "output_type": "display_data"
    }
   ],
   "source": [
    "sum(Tissue == \"NA\")\n",
    "data <- data.frame(Tissue = Tissue, ASE = ASE, Counts = counts)\n",
    "data <- data[!(Tissue==\"NA\"),]\n",
    "numberOfUniqueTissues <- length(summary(as.factor(data$Tissue),maxsum=500))\n",
    "numberOfASEmechanisms <- length(summary(as.factor(data$ASE),maxsum=500))\n",
    "message(\"data now has \",numberOfUniqueTissues, \" tissues and \", numberOfASEmechanisms, \" ASE categories\")\n",
    "message(\"ASE:\")\n",
    "summary(as.factor(data$ASE),maxsum=500)"
   ]
  },
  {
   "cell_type": "markdown",
   "metadata": {},
   "source": [
    "### 3.3 Count splicing event by chromosome\n",
    "\n",
    "Count the number of significant alternative splicing events per chromosome and write to the file **Total_AS_by_chr.tsv**."
   ]
  },
  {
   "cell_type": "code",
   "execution_count": 11,
   "metadata": {},
   "outputs": [
    {
     "data": {
      "text/html": [
       "23"
      ],
      "text/latex": [
       "23"
      ],
      "text/markdown": [
       "23"
      ],
      "text/plain": [
       "[1] 23"
      ]
     },
     "metadata": {},
     "output_type": "display_data"
    },
    {
     "data": {
      "text/html": [
       "<table>\n",
       "<caption>A data.frame: 23 × 2</caption>\n",
       "<thead>\n",
       "\t<tr><th scope=col>chr</th><th scope=col>n</th></tr>\n",
       "\t<tr><th scope=col>&lt;fct&gt;</th><th scope=col>&lt;int&gt;</th></tr>\n",
       "</thead>\n",
       "<tbody>\n",
       "\t<tr><td>chr1 </td><td>244</td></tr>\n",
       "\t<tr><td>chrX </td><td>236</td></tr>\n",
       "\t<tr><td>chr11</td><td>194</td></tr>\n",
       "\t<tr><td>chr2 </td><td>187</td></tr>\n",
       "\t<tr><td>chr12</td><td>168</td></tr>\n",
       "\t<tr><td>chr17</td><td>166</td></tr>\n",
       "\t<tr><td>chr19</td><td>163</td></tr>\n",
       "\t<tr><td>chr3 </td><td>163</td></tr>\n",
       "\t<tr><td>chr16</td><td>139</td></tr>\n",
       "\t<tr><td>chr4 </td><td>127</td></tr>\n",
       "\t<tr><td>chr10</td><td>115</td></tr>\n",
       "\t<tr><td>chr15</td><td>113</td></tr>\n",
       "\t<tr><td>chr7 </td><td>112</td></tr>\n",
       "\t<tr><td>chr6 </td><td>110</td></tr>\n",
       "\t<tr><td>chr5 </td><td>105</td></tr>\n",
       "\t<tr><td>chr9 </td><td>104</td></tr>\n",
       "\t<tr><td>chr22</td><td>100</td></tr>\n",
       "\t<tr><td>chr14</td><td> 77</td></tr>\n",
       "\t<tr><td>chr8 </td><td> 76</td></tr>\n",
       "\t<tr><td>chr20</td><td> 58</td></tr>\n",
       "\t<tr><td>chr18</td><td> 49</td></tr>\n",
       "\t<tr><td>chr13</td><td> 25</td></tr>\n",
       "\t<tr><td>chr21</td><td> 17</td></tr>\n",
       "</tbody>\n",
       "</table>\n"
      ],
      "text/latex": [
       "A data.frame: 23 × 2\n",
       "\\begin{tabular}{ll}\n",
       " chr & n\\\\\n",
       " <fct> & <int>\\\\\n",
       "\\hline\n",
       "\t chr1  & 244\\\\\n",
       "\t chrX  & 236\\\\\n",
       "\t chr11 & 194\\\\\n",
       "\t chr2  & 187\\\\\n",
       "\t chr12 & 168\\\\\n",
       "\t chr17 & 166\\\\\n",
       "\t chr19 & 163\\\\\n",
       "\t chr3  & 163\\\\\n",
       "\t chr16 & 139\\\\\n",
       "\t chr4  & 127\\\\\n",
       "\t chr10 & 115\\\\\n",
       "\t chr15 & 113\\\\\n",
       "\t chr7  & 112\\\\\n",
       "\t chr6  & 110\\\\\n",
       "\t chr5  & 105\\\\\n",
       "\t chr9  & 104\\\\\n",
       "\t chr22 & 100\\\\\n",
       "\t chr14 &  77\\\\\n",
       "\t chr8  &  76\\\\\n",
       "\t chr20 &  58\\\\\n",
       "\t chr18 &  49\\\\\n",
       "\t chr13 &  25\\\\\n",
       "\t chr21 &  17\\\\\n",
       "\\end{tabular}\n"
      ],
      "text/markdown": [
       "\n",
       "A data.frame: 23 × 2\n",
       "\n",
       "| chr &lt;fct&gt; | n &lt;int&gt; |\n",
       "|---|---|\n",
       "| chr1  | 244 |\n",
       "| chrX  | 236 |\n",
       "| chr11 | 194 |\n",
       "| chr2  | 187 |\n",
       "| chr12 | 168 |\n",
       "| chr17 | 166 |\n",
       "| chr19 | 163 |\n",
       "| chr3  | 163 |\n",
       "| chr16 | 139 |\n",
       "| chr4  | 127 |\n",
       "| chr10 | 115 |\n",
       "| chr15 | 113 |\n",
       "| chr7  | 112 |\n",
       "| chr6  | 110 |\n",
       "| chr5  | 105 |\n",
       "| chr9  | 104 |\n",
       "| chr22 | 100 |\n",
       "| chr14 |  77 |\n",
       "| chr8  |  76 |\n",
       "| chr20 |  58 |\n",
       "| chr18 |  49 |\n",
       "| chr13 |  25 |\n",
       "| chr21 |  17 |\n",
       "\n"
      ],
      "text/plain": [
       "   chr   n  \n",
       "1  chr1  244\n",
       "2  chrX  236\n",
       "3  chr11 194\n",
       "4  chr2  187\n",
       "5  chr12 168\n",
       "6  chr17 166\n",
       "7  chr19 163\n",
       "8  chr3  163\n",
       "9  chr16 139\n",
       "10 chr4  127\n",
       "11 chr10 115\n",
       "12 chr15 113\n",
       "13 chr7  112\n",
       "14 chr6  110\n",
       "15 chr5  105\n",
       "16 chr9  104\n",
       "17 chr22 100\n",
       "18 chr14  77\n",
       "19 chr8   76\n",
       "20 chr20  58\n",
       "21 chr18  49\n",
       "22 chr13  25\n",
       "23 chr21  17"
      ]
     },
     "metadata": {},
     "output_type": "display_data"
    },
    {
     "name": "stdout",
     "output_type": "stream",
     "text": [
      "Observations: 23\n",
      "Variables: 2\n",
      "$ chr \u001b[3m\u001b[90m<fct>\u001b[39m\u001b[23m chr1, chrX, chr11, chr2, chr12, chr17, chr19, chr3, chr16, chr4, …\n",
      "$ n   \u001b[3m\u001b[90m<int>\u001b[39m\u001b[23m 244, 236, 194, 187, 168, 166, 163, 163, 139, 127, 115, 113, 112, …\n"
     ]
    }
   ],
   "source": [
    "res2 <- gene_as          %>% \n",
    "       group_by(chr)    %>% \n",
    "       count(chr)       %>% \n",
    "       arrange(desc(n)) %>% \n",
    "       as.data.frame()\n",
    "res2$chr <- factor(res2$chr, levels = res2$chr)\n",
    "length(res2$chr)\n",
    "res2\n",
    "glimpse(res2)\n",
    "write.table(res2, file= \"../data/Total_AS_by_chr.tsv\", sep=\"\\t\", quote = FALSE, row.names=F)"
   ]
  },
  {
   "cell_type": "markdown",
   "metadata": {},
   "source": [
    "### 3.4 Count most frequent spliced genes "
   ]
  },
  {
   "cell_type": "code",
   "execution_count": 12,
   "metadata": {
    "lines_to_next_cell": 0
   },
   "outputs": [
    {
     "data": {
      "text/html": [
       "1678"
      ],
      "text/latex": [
       "1678"
      ],
      "text/markdown": [
       "1678"
      ],
      "text/plain": [
       "[1] 1678"
      ]
     },
     "metadata": {},
     "output_type": "display_data"
    },
    {
     "data": {
      "text/html": [
       "<table>\n",
       "<caption>A data.frame: 6 × 2</caption>\n",
       "<thead>\n",
       "\t<tr><th></th><th scope=col>GeneSymbol</th><th scope=col>n</th></tr>\n",
       "\t<tr><th></th><th scope=col>&lt;fct&gt;</th><th scope=col>&lt;int&gt;</th></tr>\n",
       "</thead>\n",
       "<tbody>\n",
       "\t<tr><th scope=row>1</th><td>DDX3X </td><td>84</td></tr>\n",
       "\t<tr><th scope=row>2</th><td>KDM5C </td><td>40</td></tr>\n",
       "\t<tr><th scope=row>3</th><td>ZFX   </td><td>21</td></tr>\n",
       "\t<tr><th scope=row>4</th><td>SORBS2</td><td>18</td></tr>\n",
       "\t<tr><th scope=row>5</th><td>CD44  </td><td>16</td></tr>\n",
       "\t<tr><th scope=row>6</th><td>CACNB4</td><td>12</td></tr>\n",
       "</tbody>\n",
       "</table>\n"
      ],
      "text/latex": [
       "A data.frame: 6 × 2\n",
       "\\begin{tabular}{r|ll}\n",
       "  & GeneSymbol & n\\\\\n",
       "  & <fct> & <int>\\\\\n",
       "\\hline\n",
       "\t1 & DDX3X  & 84\\\\\n",
       "\t2 & KDM5C  & 40\\\\\n",
       "\t3 & ZFX    & 21\\\\\n",
       "\t4 & SORBS2 & 18\\\\\n",
       "\t5 & CD44   & 16\\\\\n",
       "\t6 & CACNB4 & 12\\\\\n",
       "\\end{tabular}\n"
      ],
      "text/markdown": [
       "\n",
       "A data.frame: 6 × 2\n",
       "\n",
       "| <!--/--> | GeneSymbol &lt;fct&gt; | n &lt;int&gt; |\n",
       "|---|---|---|\n",
       "| 1 | DDX3X  | 84 |\n",
       "| 2 | KDM5C  | 40 |\n",
       "| 3 | ZFX    | 21 |\n",
       "| 4 | SORBS2 | 18 |\n",
       "| 5 | CD44   | 16 |\n",
       "| 6 | CACNB4 | 12 |\n",
       "\n"
      ],
      "text/plain": [
       "  GeneSymbol n \n",
       "1 DDX3X      84\n",
       "2 KDM5C      40\n",
       "3 ZFX        21\n",
       "4 SORBS2     18\n",
       "5 CD44       16\n",
       "6 CACNB4     12"
      ]
     },
     "metadata": {},
     "output_type": "display_data"
    }
   ],
   "source": [
    "res3 <- gene_as %>% \n",
    "       group_by(GeneSymbol) %>% count(GeneSymbol) %>% arrange(desc(n)) %>% as.data.frame()\n",
    "res3$GeneSymbol <- factor(res3$GeneSymbol, levels = res3$GeneSymbol)\n",
    "length(res3$GeneSymbol)\n",
    "head(res3)\n",
    "write.table(res3, file = \"../data/Total_AS_by_geneSymbol.tsv\", sep = \"\\t\", quote=FALSE, row.names = F)"
   ]
  },
  {
   "cell_type": "markdown",
   "metadata": {},
   "source": [
    "\n",
    "\n"
   ]
  },
  {
   "cell_type": "markdown",
   "metadata": {},
   "source": [
    "### 3.5 Count most frequent splicing by tissue"
   ]
  },
  {
   "cell_type": "code",
   "execution_count": 13,
   "metadata": {},
   "outputs": [
    {
     "data": {
      "text/html": [
       "38"
      ],
      "text/latex": [
       "38"
      ],
      "text/markdown": [
       "38"
      ],
      "text/plain": [
       "[1] 38"
      ]
     },
     "metadata": {},
     "output_type": "display_data"
    },
    {
     "data": {
      "text/html": [
       "<table>\n",
       "<caption>A data.frame: 38 × 2</caption>\n",
       "<thead>\n",
       "\t<tr><th scope=col>Tissue</th><th scope=col>n</th></tr>\n",
       "\t<tr><th scope=col>&lt;fct&gt;</th><th scope=col>&lt;int&gt;</th></tr>\n",
       "</thead>\n",
       "<tbody>\n",
       "\t<tr><td>breast_mammary_tissue                </td><td>1788</td></tr>\n",
       "\t<tr><td>brain_nucleus_accumbens_basal_ganglia</td><td> 271</td></tr>\n",
       "\t<tr><td>esophagus_muscularis                 </td><td> 241</td></tr>\n",
       "\t<tr><td>artery_aorta                         </td><td>  92</td></tr>\n",
       "\t<tr><td>thyroid                              </td><td>  52</td></tr>\n",
       "\t<tr><td>spleen                               </td><td>  40</td></tr>\n",
       "\t<tr><td>cells_cultured_fibroblasts           </td><td>  37</td></tr>\n",
       "\t<tr><td>muscle_skeletal                      </td><td>  31</td></tr>\n",
       "\t<tr><td>adiposubcutaneous                    </td><td>  26</td></tr>\n",
       "\t<tr><td>adipovisceral_omentum                </td><td>  23</td></tr>\n",
       "\t<tr><td>brain_cerebellum                     </td><td>  22</td></tr>\n",
       "\t<tr><td>adrenal_gland                        </td><td>  20</td></tr>\n",
       "\t<tr><td>artery_tibial                        </td><td>  17</td></tr>\n",
       "\t<tr><td>esophagus_mucosa                     </td><td>  17</td></tr>\n",
       "\t<tr><td>skin_sun_exposed_lower_leg           </td><td>  16</td></tr>\n",
       "\t<tr><td>esophagus_gastroesophageal_junction  </td><td>  14</td></tr>\n",
       "\t<tr><td>pancreas                             </td><td>  13</td></tr>\n",
       "\t<tr><td>heart_atrial_appendage               </td><td>  12</td></tr>\n",
       "\t<tr><td>pituitary                            </td><td>  12</td></tr>\n",
       "\t<tr><td>skin_not_sun_exposed_suprapubic      </td><td>  11</td></tr>\n",
       "\t<tr><td>lung                                 </td><td>  10</td></tr>\n",
       "\t<tr><td>nerve_tibial                         </td><td>  10</td></tr>\n",
       "\t<tr><td>brain_hippocampus                    </td><td>   9</td></tr>\n",
       "\t<tr><td>stomach                              </td><td>   9</td></tr>\n",
       "\t<tr><td>cells_ebv_transformed_lymphocytes    </td><td>   7</td></tr>\n",
       "\t<tr><td>heart_left_ventricle                 </td><td>   7</td></tr>\n",
       "\t<tr><td>brain_cortex                         </td><td>   6</td></tr>\n",
       "\t<tr><td>liver                                </td><td>   6</td></tr>\n",
       "\t<tr><td>colon_transverse                     </td><td>   6</td></tr>\n",
       "\t<tr><td>whole_blood                          </td><td>   5</td></tr>\n",
       "\t<tr><td>artery_coronary                      </td><td>   4</td></tr>\n",
       "\t<tr><td>brain_spinal_cord_cervical_c_1       </td><td>   4</td></tr>\n",
       "\t<tr><td>brain_caudate_basal_ganglia          </td><td>   3</td></tr>\n",
       "\t<tr><td>brain_hypothalamus                   </td><td>   2</td></tr>\n",
       "\t<tr><td>colon_sigmoid                        </td><td>   2</td></tr>\n",
       "\t<tr><td>brain_cerebellar_hemisphere          </td><td>   1</td></tr>\n",
       "\t<tr><td>brain_putamen_basal_ganglia          </td><td>   1</td></tr>\n",
       "\t<tr><td>small_intestine_terminal_ileum       </td><td>   1</td></tr>\n",
       "</tbody>\n",
       "</table>\n"
      ],
      "text/latex": [
       "A data.frame: 38 × 2\n",
       "\\begin{tabular}{ll}\n",
       " Tissue & n\\\\\n",
       " <fct> & <int>\\\\\n",
       "\\hline\n",
       "\t breast\\_mammary\\_tissue                 & 1788\\\\\n",
       "\t brain\\_nucleus\\_accumbens\\_basal\\_ganglia &  271\\\\\n",
       "\t esophagus\\_muscularis                  &  241\\\\\n",
       "\t artery\\_aorta                          &   92\\\\\n",
       "\t thyroid                               &   52\\\\\n",
       "\t spleen                                &   40\\\\\n",
       "\t cells\\_cultured\\_fibroblasts            &   37\\\\\n",
       "\t muscle\\_skeletal                       &   31\\\\\n",
       "\t adiposubcutaneous                     &   26\\\\\n",
       "\t adipovisceral\\_omentum                 &   23\\\\\n",
       "\t brain\\_cerebellum                      &   22\\\\\n",
       "\t adrenal\\_gland                         &   20\\\\\n",
       "\t artery\\_tibial                         &   17\\\\\n",
       "\t esophagus\\_mucosa                      &   17\\\\\n",
       "\t skin\\_sun\\_exposed\\_lower\\_leg            &   16\\\\\n",
       "\t esophagus\\_gastroesophageal\\_junction   &   14\\\\\n",
       "\t pancreas                              &   13\\\\\n",
       "\t heart\\_atrial\\_appendage                &   12\\\\\n",
       "\t pituitary                             &   12\\\\\n",
       "\t skin\\_not\\_sun\\_exposed\\_suprapubic       &   11\\\\\n",
       "\t lung                                  &   10\\\\\n",
       "\t nerve\\_tibial                          &   10\\\\\n",
       "\t brain\\_hippocampus                     &    9\\\\\n",
       "\t stomach                               &    9\\\\\n",
       "\t cells\\_ebv\\_transformed\\_lymphocytes     &    7\\\\\n",
       "\t heart\\_left\\_ventricle                  &    7\\\\\n",
       "\t brain\\_cortex                          &    6\\\\\n",
       "\t liver                                 &    6\\\\\n",
       "\t colon\\_transverse                      &    6\\\\\n",
       "\t whole\\_blood                           &    5\\\\\n",
       "\t artery\\_coronary                       &    4\\\\\n",
       "\t brain\\_spinal\\_cord\\_cervical\\_c\\_1        &    4\\\\\n",
       "\t brain\\_caudate\\_basal\\_ganglia           &    3\\\\\n",
       "\t brain\\_hypothalamus                    &    2\\\\\n",
       "\t colon\\_sigmoid                         &    2\\\\\n",
       "\t brain\\_cerebellar\\_hemisphere           &    1\\\\\n",
       "\t brain\\_putamen\\_basal\\_ganglia           &    1\\\\\n",
       "\t small\\_intestine\\_terminal\\_ileum        &    1\\\\\n",
       "\\end{tabular}\n"
      ],
      "text/markdown": [
       "\n",
       "A data.frame: 38 × 2\n",
       "\n",
       "| Tissue &lt;fct&gt; | n &lt;int&gt; |\n",
       "|---|---|\n",
       "| breast_mammary_tissue                 | 1788 |\n",
       "| brain_nucleus_accumbens_basal_ganglia |  271 |\n",
       "| esophagus_muscularis                  |  241 |\n",
       "| artery_aorta                          |   92 |\n",
       "| thyroid                               |   52 |\n",
       "| spleen                                |   40 |\n",
       "| cells_cultured_fibroblasts            |   37 |\n",
       "| muscle_skeletal                       |   31 |\n",
       "| adiposubcutaneous                     |   26 |\n",
       "| adipovisceral_omentum                 |   23 |\n",
       "| brain_cerebellum                      |   22 |\n",
       "| adrenal_gland                         |   20 |\n",
       "| artery_tibial                         |   17 |\n",
       "| esophagus_mucosa                      |   17 |\n",
       "| skin_sun_exposed_lower_leg            |   16 |\n",
       "| esophagus_gastroesophageal_junction   |   14 |\n",
       "| pancreas                              |   13 |\n",
       "| heart_atrial_appendage                |   12 |\n",
       "| pituitary                             |   12 |\n",
       "| skin_not_sun_exposed_suprapubic       |   11 |\n",
       "| lung                                  |   10 |\n",
       "| nerve_tibial                          |   10 |\n",
       "| brain_hippocampus                     |    9 |\n",
       "| stomach                               |    9 |\n",
       "| cells_ebv_transformed_lymphocytes     |    7 |\n",
       "| heart_left_ventricle                  |    7 |\n",
       "| brain_cortex                          |    6 |\n",
       "| liver                                 |    6 |\n",
       "| colon_transverse                      |    6 |\n",
       "| whole_blood                           |    5 |\n",
       "| artery_coronary                       |    4 |\n",
       "| brain_spinal_cord_cervical_c_1        |    4 |\n",
       "| brain_caudate_basal_ganglia           |    3 |\n",
       "| brain_hypothalamus                    |    2 |\n",
       "| colon_sigmoid                         |    2 |\n",
       "| brain_cerebellar_hemisphere           |    1 |\n",
       "| brain_putamen_basal_ganglia           |    1 |\n",
       "| small_intestine_terminal_ileum        |    1 |\n",
       "\n"
      ],
      "text/plain": [
       "   Tissue                                n   \n",
       "1  breast_mammary_tissue                 1788\n",
       "2  brain_nucleus_accumbens_basal_ganglia  271\n",
       "3  esophagus_muscularis                   241\n",
       "4  artery_aorta                            92\n",
       "5  thyroid                                 52\n",
       "6  spleen                                  40\n",
       "7  cells_cultured_fibroblasts              37\n",
       "8  muscle_skeletal                         31\n",
       "9  adiposubcutaneous                       26\n",
       "10 adipovisceral_omentum                   23\n",
       "11 brain_cerebellum                        22\n",
       "12 adrenal_gland                           20\n",
       "13 artery_tibial                           17\n",
       "14 esophagus_mucosa                        17\n",
       "15 skin_sun_exposed_lower_leg              16\n",
       "16 esophagus_gastroesophageal_junction     14\n",
       "17 pancreas                                13\n",
       "18 heart_atrial_appendage                  12\n",
       "19 pituitary                               12\n",
       "20 skin_not_sun_exposed_suprapubic         11\n",
       "21 lung                                    10\n",
       "22 nerve_tibial                            10\n",
       "23 brain_hippocampus                        9\n",
       "24 stomach                                  9\n",
       "25 cells_ebv_transformed_lymphocytes        7\n",
       "26 heart_left_ventricle                     7\n",
       "27 brain_cortex                             6\n",
       "28 liver                                    6\n",
       "29 colon_transverse                         6\n",
       "30 whole_blood                              5\n",
       "31 artery_coronary                          4\n",
       "32 brain_spinal_cord_cervical_c_1           4\n",
       "33 brain_caudate_basal_ganglia              3\n",
       "34 brain_hypothalamus                       2\n",
       "35 colon_sigmoid                            2\n",
       "36 brain_cerebellar_hemisphere              1\n",
       "37 brain_putamen_basal_ganglia              1\n",
       "38 small_intestine_terminal_ileum           1"
      ]
     },
     "metadata": {},
     "output_type": "display_data"
    }
   ],
   "source": [
    "res4 <- gene_as %>% \n",
    "       group_by(Tissue) %>% \n",
    "       count(Tissue) %>% \n",
    "       arrange(desc(n)) %>% \n",
    "       as.data.frame()\n",
    "res4$Tissue <- factor(res4$Tissue, levels = res4$Tissue)\n",
    "length(res4$Tissue)\n",
    "res4\n",
    "write.table(res4, file = \"../data/Total_AS_by_tissue.tsv\", sep = \"\\t\", row.names = F)"
   ]
  },
  {
   "cell_type": "markdown",
   "metadata": {},
   "source": [
    "###  3.6 Significant Count by splicing type \n",
    "We define **significant** to be FC > 1.5 and pVal < 0.05\n",
    "\n",
    "Our starting values were the significant events, all meeting the criteria FC > 1.5 and pVal < 0.05\n"
   ]
  },
  {
   "cell_type": "code",
   "execution_count": 14,
   "metadata": {},
   "outputs": [
    {
     "data": {
      "text/html": [
       "<table>\n",
       "<caption>A data.frame: 5 × 2</caption>\n",
       "<thead>\n",
       "\t<tr><th></th><th scope=col>ASE</th><th scope=col>n</th></tr>\n",
       "\t<tr><th></th><th scope=col>&lt;fct&gt;</th><th scope=col>&lt;int&gt;</th></tr>\n",
       "</thead>\n",
       "<tbody>\n",
       "\t<tr><th scope=row>1</th><td>SE  </td><td>2109</td></tr>\n",
       "\t<tr><th scope=row>2</th><td>A3SS</td><td> 229</td></tr>\n",
       "\t<tr><th scope=row>3</th><td>A5SS</td><td> 202</td></tr>\n",
       "\t<tr><th scope=row>4</th><td>RI  </td><td> 192</td></tr>\n",
       "\t<tr><th scope=row>5</th><td>MXE </td><td> 116</td></tr>\n",
       "</tbody>\n",
       "</table>\n"
      ],
      "text/latex": [
       "A data.frame: 5 × 2\n",
       "\\begin{tabular}{r|ll}\n",
       "  & ASE & n\\\\\n",
       "  & <fct> & <int>\\\\\n",
       "\\hline\n",
       "\t1 & SE   & 2109\\\\\n",
       "\t2 & A3SS &  229\\\\\n",
       "\t3 & A5SS &  202\\\\\n",
       "\t4 & RI   &  192\\\\\n",
       "\t5 & MXE  &  116\\\\\n",
       "\\end{tabular}\n"
      ],
      "text/markdown": [
       "\n",
       "A data.frame: 5 × 2\n",
       "\n",
       "| <!--/--> | ASE &lt;fct&gt; | n &lt;int&gt; |\n",
       "|---|---|---|\n",
       "| 1 | SE   | 2109 |\n",
       "| 2 | A3SS |  229 |\n",
       "| 3 | A5SS |  202 |\n",
       "| 4 | RI   |  192 |\n",
       "| 5 | MXE  |  116 |\n",
       "\n"
      ],
      "text/plain": [
       "  ASE  n   \n",
       "1 SE   2109\n",
       "2 A3SS  229\n",
       "3 A5SS  202\n",
       "4 RI    192\n",
       "5 MXE   116"
      ]
     },
     "metadata": {},
     "output_type": "display_data"
    }
   ],
   "source": [
    "res5 <- gene_as %>% group_by(ASE) %>% count(ASE) %>% arrange(desc(n)) %>% as.data.frame()\n",
    "res5$ASE <- factor(res5$ASE, levels = res5$ASE)\n",
    "head(res5)\n",
    "write.table(res5, file= \"../data/Total_AS_by_splicingtype.tsv\")"
   ]
  },
  {
   "cell_type": "markdown",
   "metadata": {},
   "source": [
    "###  3.7 Significant Count by splicing type (significant == FC > 1.5 and pVal < 0.05)"
   ]
  },
  {
   "cell_type": "code",
   "execution_count": 15,
   "metadata": {
    "lines_to_next_cell": 0
   },
   "outputs": [
    {
     "data": {
      "text/plain": [
       "A3SS_keep\n",
       "FALSE  TRUE \n",
       " 2619   229 "
      ]
     },
     "metadata": {},
     "output_type": "display_data"
    },
    {
     "data": {
      "text/plain": [
       "A5SS_keep\n",
       "FALSE  TRUE \n",
       " 2646   202 "
      ]
     },
     "metadata": {},
     "output_type": "display_data"
    },
    {
     "data": {
      "text/plain": [
       "MXE_keep\n",
       "FALSE  TRUE \n",
       " 2732   116 "
      ]
     },
     "metadata": {},
     "output_type": "display_data"
    },
    {
     "data": {
      "text/plain": [
       "SE_keep\n",
       "FALSE  TRUE \n",
       "  739  2109 "
      ]
     },
     "metadata": {},
     "output_type": "display_data"
    },
    {
     "data": {
      "text/plain": [
       "RI_keep\n",
       "FALSE  TRUE \n",
       " 2656   192 "
      ]
     },
     "metadata": {},
     "output_type": "display_data"
    },
    {
     "data": {
      "text/html": [
       "<style>\n",
       ".list-inline {list-style: none; margin:0; padding: 0}\n",
       ".list-inline>li {display: inline-block}\n",
       ".list-inline>li:not(:last-child)::after {content: \"\\00b7\"; padding: 0 .5ex}\n",
       "</style>\n",
       "<ol class=list-inline><li>229</li><li>6</li></ol>\n"
      ],
      "text/latex": [
       "\\begin{enumerate*}\n",
       "\\item 229\n",
       "\\item 6\n",
       "\\end{enumerate*}\n"
      ],
      "text/markdown": [
       "1. 229\n",
       "2. 6\n",
       "\n",
       "\n"
      ],
      "text/plain": [
       "[1] 229   6"
      ]
     },
     "metadata": {},
     "output_type": "display_data"
    },
    {
     "data": {
      "text/html": [
       "<style>\n",
       ".list-inline {list-style: none; margin:0; padding: 0}\n",
       ".list-inline>li {display: inline-block}\n",
       ".list-inline>li:not(:last-child)::after {content: \"\\00b7\"; padding: 0 .5ex}\n",
       "</style>\n",
       "<ol class=list-inline><li>202</li><li>6</li></ol>\n"
      ],
      "text/latex": [
       "\\begin{enumerate*}\n",
       "\\item 202\n",
       "\\item 6\n",
       "\\end{enumerate*}\n"
      ],
      "text/markdown": [
       "1. 202\n",
       "2. 6\n",
       "\n",
       "\n"
      ],
      "text/plain": [
       "[1] 202   6"
      ]
     },
     "metadata": {},
     "output_type": "display_data"
    },
    {
     "data": {
      "text/html": [
       "<style>\n",
       ".list-inline {list-style: none; margin:0; padding: 0}\n",
       ".list-inline>li {display: inline-block}\n",
       ".list-inline>li:not(:last-child)::after {content: \"\\00b7\"; padding: 0 .5ex}\n",
       "</style>\n",
       "<ol class=list-inline><li>116</li><li>6</li></ol>\n"
      ],
      "text/latex": [
       "\\begin{enumerate*}\n",
       "\\item 116\n",
       "\\item 6\n",
       "\\end{enumerate*}\n"
      ],
      "text/markdown": [
       "1. 116\n",
       "2. 6\n",
       "\n",
       "\n"
      ],
      "text/plain": [
       "[1] 116   6"
      ]
     },
     "metadata": {},
     "output_type": "display_data"
    },
    {
     "data": {
      "text/html": [
       "<style>\n",
       ".list-inline {list-style: none; margin:0; padding: 0}\n",
       ".list-inline>li {display: inline-block}\n",
       ".list-inline>li:not(:last-child)::after {content: \"\\00b7\"; padding: 0 .5ex}\n",
       "</style>\n",
       "<ol class=list-inline><li>2109</li><li>6</li></ol>\n"
      ],
      "text/latex": [
       "\\begin{enumerate*}\n",
       "\\item 2109\n",
       "\\item 6\n",
       "\\end{enumerate*}\n"
      ],
      "text/markdown": [
       "1. 2109\n",
       "2. 6\n",
       "\n",
       "\n"
      ],
      "text/plain": [
       "[1] 2109    6"
      ]
     },
     "metadata": {},
     "output_type": "display_data"
    },
    {
     "data": {
      "text/html": [
       "<style>\n",
       ".list-inline {list-style: none; margin:0; padding: 0}\n",
       ".list-inline>li {display: inline-block}\n",
       ".list-inline>li:not(:last-child)::after {content: \"\\00b7\"; padding: 0 .5ex}\n",
       "</style>\n",
       "<ol class=list-inline><li>192</li><li>6</li></ol>\n"
      ],
      "text/latex": [
       "\\begin{enumerate*}\n",
       "\\item 192\n",
       "\\item 6\n",
       "\\end{enumerate*}\n"
      ],
      "text/markdown": [
       "1. 192\n",
       "2. 6\n",
       "\n",
       "\n"
      ],
      "text/plain": [
       "[1] 192   6"
      ]
     },
     "metadata": {},
     "output_type": "display_data"
    }
   ],
   "source": [
    "A3SS_keep <- as.character(gene_as$ASE) %in% \"A3SS\"\n",
    "table(A3SS_keep)\n",
    "A3SS.gene_as <- data.frame(gene_as[A3SS_keep == TRUE,])\n",
    "\n",
    "A5SS_keep <- as.character(gene_as$ASE) %in% \"A5SS\"\n",
    "table(A5SS_keep)\n",
    "A5SS.gene_as <- data.frame(gene_as[A5SS_keep == TRUE,])\n",
    "\n",
    "MXE_keep  <- as.character(gene_as$ASE) %in% \"MXE\"\n",
    "table(MXE_keep)\n",
    "MXE.gene_as <- data.frame(gene_as[MXE_keep == TRUE,])\n",
    "\n",
    "SE_keep   <- as.character(gene_as$ASE) %in% \"SE\"\n",
    "table(SE_keep)\n",
    "SE.gene_as <- data.frame(gene_as[SE_keep == TRUE,])\n",
    "\n",
    "RI_keep   <- as.character(gene_as$ASE) %in% \"RI\"\n",
    "table(RI_keep)\n",
    "RI.gene_as <- data.frame(gene_as[RI_keep == TRUE,])\n",
    "\n",
    "dim(A3SS.gene_as)\n",
    "dim(A5SS.gene_as)\n",
    "dim(MXE.gene_as)\n",
    "dim(SE.gene_as)\n",
    "dim(RI.gene_as)\n"
   ]
  },
  {
   "cell_type": "markdown",
   "metadata": {},
   "source": [
    "### 3.8 Siginficant spliced by Gene for each splicing factor"
   ]
  },
  {
   "cell_type": "code",
   "execution_count": 16,
   "metadata": {},
   "outputs": [
    {
     "name": "stderr",
     "output_type": "stream",
     "text": [
      "Significant spliced genes for A3SS\n",
      "185 \n",
      "\n"
     ]
    },
    {
     "data": {
      "text/html": [
       "<table>\n",
       "<caption>A data.frame: 6 × 2</caption>\n",
       "<thead>\n",
       "\t<tr><th></th><th scope=col>GeneSymbol</th><th scope=col>n</th></tr>\n",
       "\t<tr><th></th><th scope=col>&lt;fct&gt;</th><th scope=col>&lt;int&gt;</th></tr>\n",
       "</thead>\n",
       "<tbody>\n",
       "\t<tr><th scope=row>1</th><td>DDX3X    </td><td>13</td></tr>\n",
       "\t<tr><th scope=row>2</th><td>HAND2-AS1</td><td> 7</td></tr>\n",
       "\t<tr><th scope=row>3</th><td>ADGRG1   </td><td> 3</td></tr>\n",
       "\t<tr><th scope=row>4</th><td>PPM1J    </td><td> 3</td></tr>\n",
       "\t<tr><th scope=row>5</th><td>FAIM2    </td><td> 2</td></tr>\n",
       "\t<tr><th scope=row>6</th><td>SLC19A3  </td><td> 2</td></tr>\n",
       "</tbody>\n",
       "</table>\n"
      ],
      "text/latex": [
       "A data.frame: 6 × 2\n",
       "\\begin{tabular}{r|ll}\n",
       "  & GeneSymbol & n\\\\\n",
       "  & <fct> & <int>\\\\\n",
       "\\hline\n",
       "\t1 & DDX3X     & 13\\\\\n",
       "\t2 & HAND2-AS1 &  7\\\\\n",
       "\t3 & ADGRG1    &  3\\\\\n",
       "\t4 & PPM1J     &  3\\\\\n",
       "\t5 & FAIM2     &  2\\\\\n",
       "\t6 & SLC19A3   &  2\\\\\n",
       "\\end{tabular}\n"
      ],
      "text/markdown": [
       "\n",
       "A data.frame: 6 × 2\n",
       "\n",
       "| <!--/--> | GeneSymbol &lt;fct&gt; | n &lt;int&gt; |\n",
       "|---|---|---|\n",
       "| 1 | DDX3X     | 13 |\n",
       "| 2 | HAND2-AS1 |  7 |\n",
       "| 3 | ADGRG1    |  3 |\n",
       "| 4 | PPM1J     |  3 |\n",
       "| 5 | FAIM2     |  2 |\n",
       "| 6 | SLC19A3   |  2 |\n",
       "\n"
      ],
      "text/plain": [
       "  GeneSymbol n \n",
       "1 DDX3X      13\n",
       "2 HAND2-AS1   7\n",
       "3 ADGRG1      3\n",
       "4 PPM1J       3\n",
       "5 FAIM2       2\n",
       "6 SLC19A3     2"
      ]
     },
     "metadata": {},
     "output_type": "display_data"
    },
    {
     "name": "stderr",
     "output_type": "stream",
     "text": [
      "Significant spliced genes for A5SS\n",
      "168 \n",
      "\n"
     ]
    },
    {
     "data": {
      "text/html": [
       "<table>\n",
       "<caption>A data.frame: 6 × 2</caption>\n",
       "<thead>\n",
       "\t<tr><th></th><th scope=col>GeneSymbol</th><th scope=col>n</th></tr>\n",
       "\t<tr><th></th><th scope=col>&lt;fct&gt;</th><th scope=col>&lt;int&gt;</th></tr>\n",
       "</thead>\n",
       "<tbody>\n",
       "\t<tr><th scope=row>1</th><td>DDX3X </td><td>22</td></tr>\n",
       "\t<tr><th scope=row>2</th><td>WDR31 </td><td> 4</td></tr>\n",
       "\t<tr><th scope=row>3</th><td>ITGB7 </td><td> 3</td></tr>\n",
       "\t<tr><th scope=row>4</th><td>DEPDC5</td><td> 2</td></tr>\n",
       "\t<tr><th scope=row>5</th><td>SGCE  </td><td> 2</td></tr>\n",
       "\t<tr><th scope=row>6</th><td>BRD8  </td><td> 2</td></tr>\n",
       "</tbody>\n",
       "</table>\n"
      ],
      "text/latex": [
       "A data.frame: 6 × 2\n",
       "\\begin{tabular}{r|ll}\n",
       "  & GeneSymbol & n\\\\\n",
       "  & <fct> & <int>\\\\\n",
       "\\hline\n",
       "\t1 & DDX3X  & 22\\\\\n",
       "\t2 & WDR31  &  4\\\\\n",
       "\t3 & ITGB7  &  3\\\\\n",
       "\t4 & DEPDC5 &  2\\\\\n",
       "\t5 & SGCE   &  2\\\\\n",
       "\t6 & BRD8   &  2\\\\\n",
       "\\end{tabular}\n"
      ],
      "text/markdown": [
       "\n",
       "A data.frame: 6 × 2\n",
       "\n",
       "| <!--/--> | GeneSymbol &lt;fct&gt; | n &lt;int&gt; |\n",
       "|---|---|---|\n",
       "| 1 | DDX3X  | 22 |\n",
       "| 2 | WDR31  |  4 |\n",
       "| 3 | ITGB7  |  3 |\n",
       "| 4 | DEPDC5 |  2 |\n",
       "| 5 | SGCE   |  2 |\n",
       "| 6 | BRD8   |  2 |\n",
       "\n"
      ],
      "text/plain": [
       "  GeneSymbol n \n",
       "1 DDX3X      22\n",
       "2 WDR31       4\n",
       "3 ITGB7       3\n",
       "4 DEPDC5      2\n",
       "5 SGCE        2\n",
       "6 BRD8        2"
      ]
     },
     "metadata": {},
     "output_type": "display_data"
    },
    {
     "name": "stderr",
     "output_type": "stream",
     "text": [
      "Significant spliced genes for MXE\n",
      "84 \n",
      "\n"
     ]
    },
    {
     "data": {
      "text/html": [
       "<table>\n",
       "<caption>A data.frame: 6 × 2</caption>\n",
       "<thead>\n",
       "\t<tr><th></th><th scope=col>GeneSymbol</th><th scope=col>n</th></tr>\n",
       "\t<tr><th></th><th scope=col>&lt;fct&gt;</th><th scope=col>&lt;int&gt;</th></tr>\n",
       "</thead>\n",
       "<tbody>\n",
       "\t<tr><th scope=row>1</th><td>DDX3X </td><td>7</td></tr>\n",
       "\t<tr><th scope=row>2</th><td>SORBS2</td><td>5</td></tr>\n",
       "\t<tr><th scope=row>3</th><td>ACSL6 </td><td>4</td></tr>\n",
       "\t<tr><th scope=row>4</th><td>SGCE  </td><td>3</td></tr>\n",
       "\t<tr><th scope=row>5</th><td>FAM49B</td><td>3</td></tr>\n",
       "\t<tr><th scope=row>6</th><td>AMT   </td><td>2</td></tr>\n",
       "</tbody>\n",
       "</table>\n"
      ],
      "text/latex": [
       "A data.frame: 6 × 2\n",
       "\\begin{tabular}{r|ll}\n",
       "  & GeneSymbol & n\\\\\n",
       "  & <fct> & <int>\\\\\n",
       "\\hline\n",
       "\t1 & DDX3X  & 7\\\\\n",
       "\t2 & SORBS2 & 5\\\\\n",
       "\t3 & ACSL6  & 4\\\\\n",
       "\t4 & SGCE   & 3\\\\\n",
       "\t5 & FAM49B & 3\\\\\n",
       "\t6 & AMT    & 2\\\\\n",
       "\\end{tabular}\n"
      ],
      "text/markdown": [
       "\n",
       "A data.frame: 6 × 2\n",
       "\n",
       "| <!--/--> | GeneSymbol &lt;fct&gt; | n &lt;int&gt; |\n",
       "|---|---|---|\n",
       "| 1 | DDX3X  | 7 |\n",
       "| 2 | SORBS2 | 5 |\n",
       "| 3 | ACSL6  | 4 |\n",
       "| 4 | SGCE   | 3 |\n",
       "| 5 | FAM49B | 3 |\n",
       "| 6 | AMT    | 2 |\n",
       "\n"
      ],
      "text/plain": [
       "  GeneSymbol n\n",
       "1 DDX3X      7\n",
       "2 SORBS2     5\n",
       "3 ACSL6      4\n",
       "4 SGCE       3\n",
       "5 FAM49B     3\n",
       "6 AMT        2"
      ]
     },
     "metadata": {},
     "output_type": "display_data"
    },
    {
     "name": "stderr",
     "output_type": "stream",
     "text": [
      "Significant spliced genes for RI\n",
      "160 \n",
      "\n"
     ]
    },
    {
     "data": {
      "text/html": [
       "<table>\n",
       "<caption>A data.frame: 6 × 2</caption>\n",
       "<thead>\n",
       "\t<tr><th></th><th scope=col>GeneSymbol</th><th scope=col>n</th></tr>\n",
       "\t<tr><th></th><th scope=col>&lt;fct&gt;</th><th scope=col>&lt;int&gt;</th></tr>\n",
       "</thead>\n",
       "<tbody>\n",
       "\t<tr><th scope=row>1</th><td>DDX3X    </td><td>13</td></tr>\n",
       "\t<tr><th scope=row>2</th><td>HAND2-AS1</td><td> 3</td></tr>\n",
       "\t<tr><th scope=row>3</th><td>SGCE     </td><td> 3</td></tr>\n",
       "\t<tr><th scope=row>4</th><td>SPG7     </td><td> 3</td></tr>\n",
       "\t<tr><th scope=row>5</th><td>TMEM79   </td><td> 3</td></tr>\n",
       "\t<tr><th scope=row>6</th><td>KDM5B    </td><td> 2</td></tr>\n",
       "</tbody>\n",
       "</table>\n"
      ],
      "text/latex": [
       "A data.frame: 6 × 2\n",
       "\\begin{tabular}{r|ll}\n",
       "  & GeneSymbol & n\\\\\n",
       "  & <fct> & <int>\\\\\n",
       "\\hline\n",
       "\t1 & DDX3X     & 13\\\\\n",
       "\t2 & HAND2-AS1 &  3\\\\\n",
       "\t3 & SGCE      &  3\\\\\n",
       "\t4 & SPG7      &  3\\\\\n",
       "\t5 & TMEM79    &  3\\\\\n",
       "\t6 & KDM5B     &  2\\\\\n",
       "\\end{tabular}\n"
      ],
      "text/markdown": [
       "\n",
       "A data.frame: 6 × 2\n",
       "\n",
       "| <!--/--> | GeneSymbol &lt;fct&gt; | n &lt;int&gt; |\n",
       "|---|---|---|\n",
       "| 1 | DDX3X     | 13 |\n",
       "| 2 | HAND2-AS1 |  3 |\n",
       "| 3 | SGCE      |  3 |\n",
       "| 4 | SPG7      |  3 |\n",
       "| 5 | TMEM79    |  3 |\n",
       "| 6 | KDM5B     |  2 |\n",
       "\n"
      ],
      "text/plain": [
       "  GeneSymbol n \n",
       "1 DDX3X      13\n",
       "2 HAND2-AS1   3\n",
       "3 SGCE        3\n",
       "4 SPG7        3\n",
       "5 TMEM79      3\n",
       "6 KDM5B       2"
      ]
     },
     "metadata": {},
     "output_type": "display_data"
    },
    {
     "name": "stderr",
     "output_type": "stream",
     "text": [
      "Significant spliced genes for SE\n",
      "1342 \n",
      "\n"
     ]
    },
    {
     "data": {
      "text/html": [
       "<table>\n",
       "<caption>A data.frame: 6 × 2</caption>\n",
       "<thead>\n",
       "\t<tr><th></th><th scope=col>GeneSymbol</th><th scope=col>n</th></tr>\n",
       "\t<tr><th></th><th scope=col>&lt;fct&gt;</th><th scope=col>&lt;int&gt;</th></tr>\n",
       "</thead>\n",
       "<tbody>\n",
       "\t<tr><th scope=row>1</th><td>KDM5C </td><td>40</td></tr>\n",
       "\t<tr><th scope=row>2</th><td>DDX3X </td><td>29</td></tr>\n",
       "\t<tr><th scope=row>3</th><td>ZFX   </td><td>21</td></tr>\n",
       "\t<tr><th scope=row>4</th><td>CD44  </td><td>14</td></tr>\n",
       "\t<tr><th scope=row>5</th><td>SORBS2</td><td>12</td></tr>\n",
       "\t<tr><th scope=row>6</th><td>CACNB4</td><td>11</td></tr>\n",
       "</tbody>\n",
       "</table>\n"
      ],
      "text/latex": [
       "A data.frame: 6 × 2\n",
       "\\begin{tabular}{r|ll}\n",
       "  & GeneSymbol & n\\\\\n",
       "  & <fct> & <int>\\\\\n",
       "\\hline\n",
       "\t1 & KDM5C  & 40\\\\\n",
       "\t2 & DDX3X  & 29\\\\\n",
       "\t3 & ZFX    & 21\\\\\n",
       "\t4 & CD44   & 14\\\\\n",
       "\t5 & SORBS2 & 12\\\\\n",
       "\t6 & CACNB4 & 11\\\\\n",
       "\\end{tabular}\n"
      ],
      "text/markdown": [
       "\n",
       "A data.frame: 6 × 2\n",
       "\n",
       "| <!--/--> | GeneSymbol &lt;fct&gt; | n &lt;int&gt; |\n",
       "|---|---|---|\n",
       "| 1 | KDM5C  | 40 |\n",
       "| 2 | DDX3X  | 29 |\n",
       "| 3 | ZFX    | 21 |\n",
       "| 4 | CD44   | 14 |\n",
       "| 5 | SORBS2 | 12 |\n",
       "| 6 | CACNB4 | 11 |\n",
       "\n"
      ],
      "text/plain": [
       "  GeneSymbol n \n",
       "1 KDM5C      40\n",
       "2 DDX3X      29\n",
       "3 ZFX        21\n",
       "4 CD44       14\n",
       "5 SORBS2     12\n",
       "6 CACNB4     11"
      ]
     },
     "metadata": {},
     "output_type": "display_data"
    }
   ],
   "source": [
    "A3SS.res <- A3SS.gene_as %>% group_by(GeneSymbol) %>% count(GeneSymbol) %>% arrange(desc(n)) %>% as.data.frame()\n",
    "A3SS.res$GeneSymbol <- factor(A3SS.res$GeneSymbol, levels = A3SS.res$GeneSymbol)\n",
    "message(\"Significant spliced genes for A3SS\\n\",\n",
    "        paste(length(A3SS.res$GeneSymbol)), collapse=\" \")\n",
    "head(A3SS.res)\n",
    "\n",
    "A5SS.res <- A5SS.gene_as %>% group_by(GeneSymbol) %>% count(GeneSymbol) %>% arrange(desc(n)) %>% as.data.frame()\n",
    "A5SS.res$GeneSymbol <- factor(A5SS.res$GeneSymbol, levels = A5SS.res$GeneSymbol)\n",
    "message(\"Significant spliced genes for A5SS\\n\",\n",
    "        paste(length(A5SS.res$GeneSymbol)), collapse=\" \")\n",
    "head(A5SS.res)\n",
    "\n",
    "MXE.res <- MXE.gene_as %>% group_by(GeneSymbol) %>% count(GeneSymbol) %>% arrange(desc(n)) %>% as.data.frame()\n",
    "MXE.res$GeneSymbol <- factor(MXE.res$GeneSymbol, levels = MXE.res$GeneSymbol)\n",
    "message(\"Significant spliced genes for MXE\\n\",\n",
    "        paste(length(MXE.res$GeneSymbol)), collapse=\" \")\n",
    "head(MXE.res)\n",
    "\n",
    "RI.res <- RI.gene_as %>% group_by(GeneSymbol) %>% count(GeneSymbol) %>% arrange(desc(n)) %>% as.data.frame()\n",
    "RI.res$GeneSymbol <- factor(RI.res$GeneSymbol, levels = RI.res$GeneSymbol)\n",
    "message(\"Significant spliced genes for RI\\n\",\n",
    "        paste(length(RI.res$GeneSymbol)), collapse=\" \")\n",
    "head(RI.res)\n",
    "\n",
    "SE.res <- SE.gene_as %>% group_by(GeneSymbol) %>% count(GeneSymbol) %>% arrange(desc(n)) %>% as.data.frame()\n",
    "SE.res$GeneSymbol <- factor(SE.res$GeneSymbol, levels = SE.res$GeneSymbol)\n",
    "message(\"Significant spliced genes for SE\\n\",\n",
    "        paste(length(SE.res$GeneSymbol)), collapse=\" \")\n",
    "head(SE.res)"
   ]
  },
  {
   "cell_type": "markdown",
   "metadata": {},
   "source": [
    "### 3.9 Count most frequent spliced genes"
   ]
  },
  {
   "cell_type": "code",
   "execution_count": 17,
   "metadata": {},
   "outputs": [
    {
     "data": {
      "text/html": [
       "1678"
      ],
      "text/latex": [
       "1678"
      ],
      "text/markdown": [
       "1678"
      ],
      "text/plain": [
       "[1] 1678"
      ]
     },
     "metadata": {},
     "output_type": "display_data"
    },
    {
     "data": {
      "text/html": [
       "<table>\n",
       "<caption>A data.frame: 6 × 3</caption>\n",
       "<thead>\n",
       "\t<tr><th></th><th scope=col>GeneSymbol</th><th scope=col>n</th><th scope=col>Tissues</th></tr>\n",
       "\t<tr><th></th><th scope=col>&lt;fct&gt;</th><th scope=col>&lt;int&gt;</th><th scope=col>&lt;int&gt;</th></tr>\n",
       "</thead>\n",
       "<tbody>\n",
       "\t<tr><th scope=row>1</th><td>DDX3X </td><td>84</td><td>19</td></tr>\n",
       "\t<tr><th scope=row>2</th><td>KDM5C </td><td>40</td><td>29</td></tr>\n",
       "\t<tr><th scope=row>3</th><td>ZFX   </td><td>21</td><td>13</td></tr>\n",
       "\t<tr><th scope=row>4</th><td>SORBS2</td><td>18</td><td> 2</td></tr>\n",
       "\t<tr><th scope=row>5</th><td>CD44  </td><td>16</td><td> 1</td></tr>\n",
       "\t<tr><th scope=row>6</th><td>CACNB4</td><td>12</td><td> 1</td></tr>\n",
       "</tbody>\n",
       "</table>\n"
      ],
      "text/latex": [
       "A data.frame: 6 × 3\n",
       "\\begin{tabular}{r|lll}\n",
       "  & GeneSymbol & n & Tissues\\\\\n",
       "  & <fct> & <int> & <int>\\\\\n",
       "\\hline\n",
       "\t1 & DDX3X  & 84 & 19\\\\\n",
       "\t2 & KDM5C  & 40 & 29\\\\\n",
       "\t3 & ZFX    & 21 & 13\\\\\n",
       "\t4 & SORBS2 & 18 &  2\\\\\n",
       "\t5 & CD44   & 16 &  1\\\\\n",
       "\t6 & CACNB4 & 12 &  1\\\\\n",
       "\\end{tabular}\n"
      ],
      "text/markdown": [
       "\n",
       "A data.frame: 6 × 3\n",
       "\n",
       "| <!--/--> | GeneSymbol &lt;fct&gt; | n &lt;int&gt; | Tissues &lt;int&gt; |\n",
       "|---|---|---|---|\n",
       "| 1 | DDX3X  | 84 | 19 |\n",
       "| 2 | KDM5C  | 40 | 29 |\n",
       "| 3 | ZFX    | 21 | 13 |\n",
       "| 4 | SORBS2 | 18 |  2 |\n",
       "| 5 | CD44   | 16 |  1 |\n",
       "| 6 | CACNB4 | 12 |  1 |\n",
       "\n"
      ],
      "text/plain": [
       "  GeneSymbol n  Tissues\n",
       "1 DDX3X      84 19     \n",
       "2 KDM5C      40 29     \n",
       "3 ZFX        21 13     \n",
       "4 SORBS2     18  2     \n",
       "5 CD44       16  1     \n",
       "6 CACNB4     12  1     "
      ]
     },
     "metadata": {},
     "output_type": "display_data"
    }
   ],
   "source": [
    "res <- gene_as %>% group_by(GeneSymbol) %>% count(GeneSymbol) %>% arrange(desc(n)) %>% as.data.frame()\n",
    "res$GeneSymbol <- factor(res$GeneSymbol, levels = res$GeneSymbol)\n",
    "length(res$GeneSymbol)\n",
    "res2 <- data %>% group_by(Tissue) %>% \n",
    "    summarise(Total = sum(Counts)) %>%\n",
    "    arrange(desc(Total)) %>%\n",
    "    as.data.frame()\n",
    "\n",
    "#Add number of tissues\n",
    "nTissues <- rep(NA, length(res))\n",
    "for (i in 1:nrow(res)) {\n",
    "  df_gene <- gene_as %>% filter(GeneSymbol == res$GeneSymbol[i])\n",
    "  nTissues[i] <- length(unique(df_gene$Tissue))\n",
    "}\n",
    "res$Tissues <- nTissues\n",
    "head(res)\n",
    "write.table(res, file = \"../data/genesWithCommonAS.tsv\", sep = \"\\t\", quote = F, row.names = F)"
   ]
  },
  {
   "cell_type": "markdown",
   "metadata": {},
   "source": [
    "### 3.10 Count most frequent spliced chromosomes\n",
    "To get an indication of which chromosome has the most frequent slicing event (regardless of type)\n",
    "We create an index based upon the number of exons per chromosome.\n",
    "\n",
    "get the annotation file, at this writing, gencode.v30.annotation.gtf\n",
    "The information as to the number of exons within the chromosome may be found there"
   ]
  },
  {
   "cell_type": "code",
   "execution_count": 18,
   "metadata": {},
   "outputs": [
    {
     "name": "stderr",
     "output_type": "stream",
     "text": [
      "downloading gencode v30 annotation\n",
      "\n",
      "\n",
      "Done!\n",
      "\n",
      "\n",
      "Unzipping compressed file gencode.v30.annotation.gtf.gz..\n",
      "\n",
      "Warning message in system(\"gunzip ../data/gencode.v30.annotation.gtf.gz\", intern = TRUE):\n",
      "“running command 'gunzip ../data/gencode.v30.annotation.gtf.gz' had status 2”\n",
      "Done! gencode.v30.annotation.gtf can be found in ../data/\n",
      "\n"
     ]
    }
   ],
   "source": [
    "if (!(\"GTEx_Analysis_2017-06-05_v8_RNASeQCv1.1.9_gene_tpm.gct\" %in% list.files(\"../data/\"))) {\n",
    "    message(\"downloading gencode v30 annotation\\n\")\n",
    "    system(\"wget -O ../data/gencode.v30.annotation.gtf.gz ftp://ftp.ebi.ac.uk/pub/databases/gencode/Gencode_human/release_30/gencode.v30.annotation.gtf.gz\")\n",
    "    message(\"Done!\\n\")\n",
    "    message(\"Unzipping compressed file gencode.v30.annotation.gtf.gz..\")\n",
    "    system(\"gunzip ../data/gencode.v30.annotation.gtf.gz\", intern = TRUE)\n",
    "    message(\"Done! gencode.v30.annotation.gtf can be found in ../data/\")\n",
    "}\n",
    "gencode <- import(\"../data/gencode.v30.annotation.gtf\")"
   ]
  },
  {
   "cell_type": "code",
   "execution_count": 19,
   "metadata": {},
   "outputs": [
    {
     "name": "stdout",
     "output_type": "stream",
     "text": [
      "Observations: 23\n",
      "Variables: 4\n",
      "$ chr        \u001b[3m\u001b[90m<fct>\u001b[39m\u001b[23m chrX, chr22, chr11, chr4, chr10, chr15, chr12, chr16, chr9…\n",
      "$ n          \u001b[3m\u001b[90m<int>\u001b[39m\u001b[23m 236, 100, 194, 127, 115, 113, 168, 139, 104, 163, 49, 166,…\n",
      "$ ExonCounts \u001b[3m\u001b[90m<dbl>\u001b[39m\u001b[23m 40029, 28655, 75976, 50420, 47124, 47343, 73881, 61199, 46…\n",
      "$ Index      \u001b[3m\u001b[90m<dbl>\u001b[39m\u001b[23m 5.895726, 3.489792, 2.553438, 2.518842, 2.440370, 2.386836…\n"
     ]
    }
   ],
   "source": [
    "exons <- gencode[ gencode$type == \"exon\", ]\n",
    "exons <- as.data.frame(exons)\n",
    "\n",
    "#Obtain chromosomes we have splicing information for (recall we did not use chr Y in our analysis)\n",
    "all_chr <- as.character(unique(gene_as$chr))\n",
    "chr_counts <- rep(0, length(all_chr))\n",
    "\n",
    "\n",
    "for (i in 1:length(all_chr)) {\n",
    "  chr_counts[i] <- nrow(exons[exons$seqnames == all_chr[i], ])\n",
    "}\n",
    "\n",
    "exon_counts <- data.frame(chr = all_chr, counts = chr_counts)\n",
    "\n",
    "# Count most frequent spliced chromosomes\n",
    "res <- gene_as %>% group_by(chr) %>% count(chr) %>% arrange(desc(n)) %>% as.data.frame()\n",
    "res$chr <- factor(res$chr, levels = res$chr)\n",
    "\n",
    "idx <- match(res$chr, exon_counts$chr)\n",
    "\n",
    "res$ExonCounts <- exon_counts$counts[idx]\n",
    "\n",
    "res$Index <- (res$n / res$ExonCounts) * 1000\n",
    "\n",
    "res_sorted <- res %>% arrange(desc(Index))\n",
    "res_sorted$chr <- factor(res_sorted$chr, levels = res_sorted$chr)\n",
    "glimpse(res_sorted)"
   ]
  },
  {
   "cell_type": "code",
   "execution_count": 20,
   "metadata": {},
   "outputs": [],
   "source": [
    "write.table(data,       file = \"../data/Significant_AS_events.tsv\", sep = \"\\t\", row.names = F, quote = F)\n",
    "write.table(res_sorted, file = \"../data/SplicingIndex_chr.tsv\", sep = \"\\t\", quote = F, row.names = F)"
   ]
  },
  {
   "cell_type": "markdown",
   "metadata": {},
   "source": [
    "### Appendix - Metadata\n",
    "\n",
    "For replicability and reproducibility purposes, we also print the following metadata:\n",
    "\n",
    "1. Checksums of **'artefacts'**, files generated during the analysis and stored in the folder directory **`data`**\n",
    "2. List of environment metadata, dependencies, versions of libraries using `utils::sessionInfo()` and [`devtools::session_info()`](https://devtools.r-lib.org/reference/session_info.html)"
   ]
  },
  {
   "cell_type": "markdown",
   "metadata": {},
   "source": [
    "### Appendix 1. Checksums with the sha256 algorithm"
   ]
  },
  {
   "cell_type": "code",
   "execution_count": 21,
   "metadata": {},
   "outputs": [
    {
     "name": "stderr",
     "output_type": "stream",
     "text": [
      "Warning message in rm(notebookid):\n",
      "“object 'notebookid' not found”\n"
     ]
    },
    {
     "data": {
      "text/html": [
       "'countGenesAndEvents'"
      ],
      "text/latex": [
       "'countGenesAndEvents'"
      ],
      "text/markdown": [
       "'countGenesAndEvents'"
      ],
      "text/plain": [
       "[1] \"countGenesAndEvents\""
      ]
     },
     "metadata": {},
     "output_type": "display_data"
    },
    {
     "name": "stderr",
     "output_type": "stream",
     "text": [
      "Generating sha256 checksums of the file `../data/Total_AS_by_tissue.tsv` directory .. \n",
      "\n"
     ]
    },
    {
     "data": {
      "text/html": [],
      "text/latex": [],
      "text/markdown": [],
      "text/plain": [
       "character(0)"
      ]
     },
     "metadata": {},
     "output_type": "display_data"
    },
    {
     "name": "stderr",
     "output_type": "stream",
     "text": [
      "Done!\n",
      "\n",
      "\n",
      "Generating sha256 checksums of the file `../data/Significant_events.tsv` directory .. \n",
      "\n"
     ]
    },
    {
     "data": {
      "text/html": [],
      "text/latex": [],
      "text/markdown": [],
      "text/plain": [
       "character(0)"
      ]
     },
     "metadata": {},
     "output_type": "display_data"
    },
    {
     "name": "stderr",
     "output_type": "stream",
     "text": [
      "Done!\n",
      "\n",
      "\n",
      "Generating sha256 checksums of the file `../data/Significant_events.tsv` directory .. \n",
      "\n"
     ]
    },
    {
     "data": {
      "text/html": [],
      "text/latex": [],
      "text/markdown": [],
      "text/plain": [
       "character(0)"
      ]
     },
     "metadata": {},
     "output_type": "display_data"
    },
    {
     "name": "stderr",
     "output_type": "stream",
     "text": [
      "Done!\n",
      "\n",
      "\n"
     ]
    },
    {
     "data": {
      "text/html": [
       "'../metadata/countGenesAndEvents_sha256sums.txt'"
      ],
      "text/latex": [
       "'../metadata/countGenesAndEvents\\_sha256sums.txt'"
      ],
      "text/markdown": [
       "'../metadata/countGenesAndEvents_sha256sums.txt'"
      ],
      "text/plain": [
       "[1] \"../metadata/countGenesAndEvents_sha256sums.txt\""
      ]
     },
     "metadata": {},
     "output_type": "display_data"
    },
    {
     "data": {
      "text/html": [
       "<table>\n",
       "<caption>A data.table: 1 × 2</caption>\n",
       "<thead>\n",
       "\t<tr><th scope=col>sha256sum</th><th scope=col>file</th></tr>\n",
       "\t<tr><th scope=col>&lt;chr&gt;</th><th scope=col>&lt;chr&gt;</th></tr>\n",
       "</thead>\n",
       "<tbody>\n",
       "\t<tr><td>6e7812b3bae18c386783dad36a46586c40ed73e8f2fe27b03941e436628be5e8</td><td>./SplicingIndex_chr.tsv</td></tr>\n",
       "</tbody>\n",
       "</table>\n"
      ],
      "text/latex": [
       "A data.table: 1 × 2\n",
       "\\begin{tabular}{ll}\n",
       " sha256sum & file\\\\\n",
       " <chr> & <chr>\\\\\n",
       "\\hline\n",
       "\t 6e7812b3bae18c386783dad36a46586c40ed73e8f2fe27b03941e436628be5e8 & ./SplicingIndex\\_chr.tsv\\\\\n",
       "\\end{tabular}\n"
      ],
      "text/markdown": [
       "\n",
       "A data.table: 1 × 2\n",
       "\n",
       "| sha256sum &lt;chr&gt; | file &lt;chr&gt; |\n",
       "|---|---|\n",
       "| 6e7812b3bae18c386783dad36a46586c40ed73e8f2fe27b03941e436628be5e8 | ./SplicingIndex_chr.tsv |\n",
       "\n"
      ],
      "text/plain": [
       "  sha256sum                                                       \n",
       "1 6e7812b3bae18c386783dad36a46586c40ed73e8f2fe27b03941e436628be5e8\n",
       "  file                   \n",
       "1 ./SplicingIndex_chr.tsv"
      ]
     },
     "metadata": {},
     "output_type": "display_data"
    }
   ],
   "source": [
    "rm (notebookid)\n",
    "notebookid   = \"countGenesAndEvents\"\n",
    "notebookid\n",
    "\n",
    "message(\"Generating sha256 checksums of the file `../data/Total_AS_by_tissue.tsv` directory .. \")\n",
    "system(paste0(\"cd ../data && find . -name SplicingIndex_chr.tsv -exec sha256sum {} \\\\;  >  ../metadata/\", notebookid, \"_sha256sums.txt\"), intern = TRUE)\n",
    "message(\"Done!\\n\")\n",
    "\n",
    "message(\"Generating sha256 checksums of the file `../data/Significant_events.tsv` directory .. \")\n",
    "system(paste0(\"cd ../data && find . -name SplicingIndex_chr.tsv -exec sha256sum {} \\\\;  >  ../metadata/\", notebookid, \"_sha256sums.txt\"), intern = TRUE)\n",
    "message(\"Done!\\n\")\n",
    "\n",
    "message(\"Generating sha256 checksums of the file `../data/Significant_events.tsv` directory .. \")\n",
    "system(paste0(\"cd ../data && find . -name SplicingIndex_chr.tsv -exec sha256sum {} \\\\;  >  ../metadata/\", notebookid, \"_sha256sums.txt\"), intern = TRUE)\n",
    "message(\"Done!\\n\")\n",
    "\n",
    "\n",
    "paste0(\"../metadata/\", notebookid, \"_sha256sums.txt\")\n",
    "\n",
    "data.table::fread(paste0(\"../metadata/\", notebookid, \"_sha256sums.txt\"), header = FALSE, col.names = c(\"sha256sum\", \"file\"))"
   ]
  },
  {
   "cell_type": "markdown",
   "metadata": {},
   "source": [
    "### Appendix 2. Libraries metadata"
   ]
  },
  {
   "cell_type": "code",
   "execution_count": 22,
   "metadata": {},
   "outputs": [
    {
     "name": "stderr",
     "output_type": "stream",
     "text": [
      "Saving `devtools::session_info()` objects in ../metadata/devtools_session_info.rds  ..\n",
      "\n",
      "Done!\n",
      "\n",
      "\n",
      "Saving `utils::sessionInfo()` objects in ../metadata/utils_session_info.rds  ..\n",
      "\n",
      "Done!\n",
      "\n",
      "\n"
     ]
    },
    {
     "data": {
      "text/plain": [
       " setting  value                       \n",
       " version  R version 3.6.2 (2019-12-12)\n",
       " os       Ubuntu 18.04.3 LTS          \n",
       " system   x86_64, linux-gnu           \n",
       " ui       X11                         \n",
       " language en_US.UTF-8                 \n",
       " collate  en_US.UTF-8                 \n",
       " ctype    en_US.UTF-8                 \n",
       " tz       Etc/UTC                     \n",
       " date     2020-06-15                  "
      ]
     },
     "metadata": {},
     "output_type": "display_data"
    },
    {
     "data": {
      "text/html": [
       "<table>\n",
       "<caption>A packages_info: 16 × 11</caption>\n",
       "<thead>\n",
       "\t<tr><th></th><th scope=col>package</th><th scope=col>ondiskversion</th><th scope=col>loadedversion</th><th scope=col>path</th><th scope=col>loadedpath</th><th scope=col>attached</th><th scope=col>is_base</th><th scope=col>date</th><th scope=col>source</th><th scope=col>md5ok</th><th scope=col>library</th></tr>\n",
       "\t<tr><th></th><th scope=col>&lt;chr&gt;</th><th scope=col>&lt;chr&gt;</th><th scope=col>&lt;chr&gt;</th><th scope=col>&lt;chr&gt;</th><th scope=col>&lt;chr&gt;</th><th scope=col>&lt;lgl&gt;</th><th scope=col>&lt;lgl&gt;</th><th scope=col>&lt;chr&gt;</th><th scope=col>&lt;chr&gt;</th><th scope=col>&lt;lgl&gt;</th><th scope=col>&lt;fct&gt;</th></tr>\n",
       "</thead>\n",
       "<tbody>\n",
       "\t<tr><th scope=row>Biobase</th><td>Biobase      </td><td>2.46.0</td><td>2.46.0</td><td>/opt/conda/lib/R/library/Biobase      </td><td>/opt/conda/lib/R/library/Biobase      </td><td>TRUE</td><td>FALSE</td><td>2019-10-29</td><td>Bioconductor  </td><td>NA</td><td>/opt/conda/lib/R/library</td></tr>\n",
       "\t<tr><th scope=row>BiocGenerics</th><td>BiocGenerics </td><td>0.32.0</td><td>0.32.0</td><td>/opt/conda/lib/R/library/BiocGenerics </td><td>/opt/conda/lib/R/library/BiocGenerics </td><td>TRUE</td><td>FALSE</td><td>2019-10-29</td><td>Bioconductor  </td><td>NA</td><td>/opt/conda/lib/R/library</td></tr>\n",
       "\t<tr><th scope=row>dplyr</th><td>dplyr        </td><td>0.8.4 </td><td>0.8.4 </td><td>/opt/conda/lib/R/library/dplyr        </td><td>/opt/conda/lib/R/library/dplyr        </td><td>TRUE</td><td>FALSE</td><td>2020-01-31</td><td>CRAN (R 3.6.2)</td><td>NA</td><td>/opt/conda/lib/R/library</td></tr>\n",
       "\t<tr><th scope=row>edgeR</th><td>edgeR        </td><td>3.28.0</td><td>3.28.0</td><td>/opt/conda/lib/R/library/edgeR        </td><td>/opt/conda/lib/R/library/edgeR        </td><td>TRUE</td><td>FALSE</td><td>2019-10-29</td><td>Bioconductor  </td><td>NA</td><td>/opt/conda/lib/R/library</td></tr>\n",
       "\t<tr><th scope=row>GenomeInfoDb</th><td>GenomeInfoDb </td><td>1.22.0</td><td>1.22.0</td><td>/opt/conda/lib/R/library/GenomeInfoDb </td><td>/opt/conda/lib/R/library/GenomeInfoDb </td><td>TRUE</td><td>FALSE</td><td>2019-10-29</td><td>Bioconductor  </td><td>NA</td><td>/opt/conda/lib/R/library</td></tr>\n",
       "\t<tr><th scope=row>GenomicRanges</th><td>GenomicRanges</td><td>1.38.0</td><td>1.38.0</td><td>/opt/conda/lib/R/library/GenomicRanges</td><td>/opt/conda/lib/R/library/GenomicRanges</td><td>TRUE</td><td>FALSE</td><td>2019-10-29</td><td>Bioconductor  </td><td>NA</td><td>/opt/conda/lib/R/library</td></tr>\n",
       "\t<tr><th scope=row>ggplot2</th><td>ggplot2      </td><td>3.2.1 </td><td>3.2.1 </td><td>/opt/conda/lib/R/library/ggplot2      </td><td>/opt/conda/lib/R/library/ggplot2      </td><td>TRUE</td><td>FALSE</td><td>2019-08-10</td><td>CRAN (R 3.6.1)</td><td>NA</td><td>/opt/conda/lib/R/library</td></tr>\n",
       "\t<tr><th scope=row>IRanges</th><td>IRanges      </td><td>2.20.0</td><td>2.20.0</td><td>/opt/conda/lib/R/library/IRanges      </td><td>/opt/conda/lib/R/library/IRanges      </td><td>TRUE</td><td>FALSE</td><td>2019-10-29</td><td>Bioconductor  </td><td>NA</td><td>/opt/conda/lib/R/library</td></tr>\n",
       "\t<tr><th scope=row>limma</th><td>limma        </td><td>3.42.0</td><td>3.42.0</td><td>/opt/conda/lib/R/library/limma        </td><td>/opt/conda/lib/R/library/limma        </td><td>TRUE</td><td>FALSE</td><td>2019-10-29</td><td>Bioconductor  </td><td>NA</td><td>/opt/conda/lib/R/library</td></tr>\n",
       "\t<tr><th scope=row>multtest</th><td>multtest     </td><td>2.42.0</td><td>2.42.0</td><td>/opt/conda/lib/R/library/multtest     </td><td>/opt/conda/lib/R/library/multtest     </td><td>TRUE</td><td>FALSE</td><td>2019-10-29</td><td>Bioconductor  </td><td>NA</td><td>/opt/conda/lib/R/library</td></tr>\n",
       "\t<tr><th scope=row>R.methodsS3</th><td>R.methodsS3  </td><td>1.8.0 </td><td>1.8.0 </td><td>/opt/conda/lib/R/library/R.methodsS3  </td><td>/opt/conda/lib/R/library/R.methodsS3  </td><td>TRUE</td><td>FALSE</td><td>2020-02-14</td><td>CRAN (R 3.6.3)</td><td>NA</td><td>/opt/conda/lib/R/library</td></tr>\n",
       "\t<tr><th scope=row>R.oo</th><td>R.oo         </td><td>1.23.0</td><td>1.23.0</td><td>/opt/conda/lib/R/library/R.oo         </td><td>/opt/conda/lib/R/library/R.oo         </td><td>TRUE</td><td>FALSE</td><td>2019-11-03</td><td>CRAN (R 3.6.3)</td><td>NA</td><td>/opt/conda/lib/R/library</td></tr>\n",
       "\t<tr><th scope=row>R.utils</th><td>R.utils      </td><td>2.9.2 </td><td>2.9.2 </td><td>/opt/conda/lib/R/library/R.utils      </td><td>/opt/conda/lib/R/library/R.utils      </td><td>TRUE</td><td>FALSE</td><td>2019-12-08</td><td>CRAN (R 3.6.3)</td><td>NA</td><td>/opt/conda/lib/R/library</td></tr>\n",
       "\t<tr><th scope=row>rtracklayer</th><td>rtracklayer  </td><td>1.46.0</td><td>1.46.0</td><td>/opt/conda/lib/R/library/rtracklayer  </td><td>/opt/conda/lib/R/library/rtracklayer  </td><td>TRUE</td><td>FALSE</td><td>2019-10-29</td><td>Bioconductor  </td><td>NA</td><td>/opt/conda/lib/R/library</td></tr>\n",
       "\t<tr><th scope=row>S4Vectors</th><td>S4Vectors    </td><td>0.24.0</td><td>0.24.0</td><td>/opt/conda/lib/R/library/S4Vectors    </td><td>/opt/conda/lib/R/library/S4Vectors    </td><td>TRUE</td><td>FALSE</td><td>2019-10-29</td><td>Bioconductor  </td><td>NA</td><td>/opt/conda/lib/R/library</td></tr>\n",
       "\t<tr><th scope=row>tibble</th><td>tibble       </td><td>2.1.3 </td><td>2.1.3 </td><td>/opt/conda/lib/R/library/tibble       </td><td>/opt/conda/lib/R/library/tibble       </td><td>TRUE</td><td>FALSE</td><td>2019-06-06</td><td>CRAN (R 3.6.1)</td><td>NA</td><td>/opt/conda/lib/R/library</td></tr>\n",
       "</tbody>\n",
       "</table>\n"
      ],
      "text/latex": [
       "A packages\\_info: 16 × 11\n",
       "\\begin{tabular}{r|lllllllllll}\n",
       "  & package & ondiskversion & loadedversion & path & loadedpath & attached & is\\_base & date & source & md5ok & library\\\\\n",
       "  & <chr> & <chr> & <chr> & <chr> & <chr> & <lgl> & <lgl> & <chr> & <chr> & <lgl> & <fct>\\\\\n",
       "\\hline\n",
       "\tBiobase & Biobase       & 2.46.0 & 2.46.0 & /opt/conda/lib/R/library/Biobase       & /opt/conda/lib/R/library/Biobase       & TRUE & FALSE & 2019-10-29 & Bioconductor   & NA & /opt/conda/lib/R/library\\\\\n",
       "\tBiocGenerics & BiocGenerics  & 0.32.0 & 0.32.0 & /opt/conda/lib/R/library/BiocGenerics  & /opt/conda/lib/R/library/BiocGenerics  & TRUE & FALSE & 2019-10-29 & Bioconductor   & NA & /opt/conda/lib/R/library\\\\\n",
       "\tdplyr & dplyr         & 0.8.4  & 0.8.4  & /opt/conda/lib/R/library/dplyr         & /opt/conda/lib/R/library/dplyr         & TRUE & FALSE & 2020-01-31 & CRAN (R 3.6.2) & NA & /opt/conda/lib/R/library\\\\\n",
       "\tedgeR & edgeR         & 3.28.0 & 3.28.0 & /opt/conda/lib/R/library/edgeR         & /opt/conda/lib/R/library/edgeR         & TRUE & FALSE & 2019-10-29 & Bioconductor   & NA & /opt/conda/lib/R/library\\\\\n",
       "\tGenomeInfoDb & GenomeInfoDb  & 1.22.0 & 1.22.0 & /opt/conda/lib/R/library/GenomeInfoDb  & /opt/conda/lib/R/library/GenomeInfoDb  & TRUE & FALSE & 2019-10-29 & Bioconductor   & NA & /opt/conda/lib/R/library\\\\\n",
       "\tGenomicRanges & GenomicRanges & 1.38.0 & 1.38.0 & /opt/conda/lib/R/library/GenomicRanges & /opt/conda/lib/R/library/GenomicRanges & TRUE & FALSE & 2019-10-29 & Bioconductor   & NA & /opt/conda/lib/R/library\\\\\n",
       "\tggplot2 & ggplot2       & 3.2.1  & 3.2.1  & /opt/conda/lib/R/library/ggplot2       & /opt/conda/lib/R/library/ggplot2       & TRUE & FALSE & 2019-08-10 & CRAN (R 3.6.1) & NA & /opt/conda/lib/R/library\\\\\n",
       "\tIRanges & IRanges       & 2.20.0 & 2.20.0 & /opt/conda/lib/R/library/IRanges       & /opt/conda/lib/R/library/IRanges       & TRUE & FALSE & 2019-10-29 & Bioconductor   & NA & /opt/conda/lib/R/library\\\\\n",
       "\tlimma & limma         & 3.42.0 & 3.42.0 & /opt/conda/lib/R/library/limma         & /opt/conda/lib/R/library/limma         & TRUE & FALSE & 2019-10-29 & Bioconductor   & NA & /opt/conda/lib/R/library\\\\\n",
       "\tmulttest & multtest      & 2.42.0 & 2.42.0 & /opt/conda/lib/R/library/multtest      & /opt/conda/lib/R/library/multtest      & TRUE & FALSE & 2019-10-29 & Bioconductor   & NA & /opt/conda/lib/R/library\\\\\n",
       "\tR.methodsS3 & R.methodsS3   & 1.8.0  & 1.8.0  & /opt/conda/lib/R/library/R.methodsS3   & /opt/conda/lib/R/library/R.methodsS3   & TRUE & FALSE & 2020-02-14 & CRAN (R 3.6.3) & NA & /opt/conda/lib/R/library\\\\\n",
       "\tR.oo & R.oo          & 1.23.0 & 1.23.0 & /opt/conda/lib/R/library/R.oo          & /opt/conda/lib/R/library/R.oo          & TRUE & FALSE & 2019-11-03 & CRAN (R 3.6.3) & NA & /opt/conda/lib/R/library\\\\\n",
       "\tR.utils & R.utils       & 2.9.2  & 2.9.2  & /opt/conda/lib/R/library/R.utils       & /opt/conda/lib/R/library/R.utils       & TRUE & FALSE & 2019-12-08 & CRAN (R 3.6.3) & NA & /opt/conda/lib/R/library\\\\\n",
       "\trtracklayer & rtracklayer   & 1.46.0 & 1.46.0 & /opt/conda/lib/R/library/rtracklayer   & /opt/conda/lib/R/library/rtracklayer   & TRUE & FALSE & 2019-10-29 & Bioconductor   & NA & /opt/conda/lib/R/library\\\\\n",
       "\tS4Vectors & S4Vectors     & 0.24.0 & 0.24.0 & /opt/conda/lib/R/library/S4Vectors     & /opt/conda/lib/R/library/S4Vectors     & TRUE & FALSE & 2019-10-29 & Bioconductor   & NA & /opt/conda/lib/R/library\\\\\n",
       "\ttibble & tibble        & 2.1.3  & 2.1.3  & /opt/conda/lib/R/library/tibble        & /opt/conda/lib/R/library/tibble        & TRUE & FALSE & 2019-06-06 & CRAN (R 3.6.1) & NA & /opt/conda/lib/R/library\\\\\n",
       "\\end{tabular}\n"
      ],
      "text/markdown": [
       "\n",
       "A packages_info: 16 × 11\n",
       "\n",
       "| <!--/--> | package &lt;chr&gt; | ondiskversion &lt;chr&gt; | loadedversion &lt;chr&gt; | path &lt;chr&gt; | loadedpath &lt;chr&gt; | attached &lt;lgl&gt; | is_base &lt;lgl&gt; | date &lt;chr&gt; | source &lt;chr&gt; | md5ok &lt;lgl&gt; | library &lt;fct&gt; |\n",
       "|---|---|---|---|---|---|---|---|---|---|---|---|\n",
       "| Biobase | Biobase       | 2.46.0 | 2.46.0 | /opt/conda/lib/R/library/Biobase       | /opt/conda/lib/R/library/Biobase       | TRUE | FALSE | 2019-10-29 | Bioconductor   | NA | /opt/conda/lib/R/library |\n",
       "| BiocGenerics | BiocGenerics  | 0.32.0 | 0.32.0 | /opt/conda/lib/R/library/BiocGenerics  | /opt/conda/lib/R/library/BiocGenerics  | TRUE | FALSE | 2019-10-29 | Bioconductor   | NA | /opt/conda/lib/R/library |\n",
       "| dplyr | dplyr         | 0.8.4  | 0.8.4  | /opt/conda/lib/R/library/dplyr         | /opt/conda/lib/R/library/dplyr         | TRUE | FALSE | 2020-01-31 | CRAN (R 3.6.2) | NA | /opt/conda/lib/R/library |\n",
       "| edgeR | edgeR         | 3.28.0 | 3.28.0 | /opt/conda/lib/R/library/edgeR         | /opt/conda/lib/R/library/edgeR         | TRUE | FALSE | 2019-10-29 | Bioconductor   | NA | /opt/conda/lib/R/library |\n",
       "| GenomeInfoDb | GenomeInfoDb  | 1.22.0 | 1.22.0 | /opt/conda/lib/R/library/GenomeInfoDb  | /opt/conda/lib/R/library/GenomeInfoDb  | TRUE | FALSE | 2019-10-29 | Bioconductor   | NA | /opt/conda/lib/R/library |\n",
       "| GenomicRanges | GenomicRanges | 1.38.0 | 1.38.0 | /opt/conda/lib/R/library/GenomicRanges | /opt/conda/lib/R/library/GenomicRanges | TRUE | FALSE | 2019-10-29 | Bioconductor   | NA | /opt/conda/lib/R/library |\n",
       "| ggplot2 | ggplot2       | 3.2.1  | 3.2.1  | /opt/conda/lib/R/library/ggplot2       | /opt/conda/lib/R/library/ggplot2       | TRUE | FALSE | 2019-08-10 | CRAN (R 3.6.1) | NA | /opt/conda/lib/R/library |\n",
       "| IRanges | IRanges       | 2.20.0 | 2.20.0 | /opt/conda/lib/R/library/IRanges       | /opt/conda/lib/R/library/IRanges       | TRUE | FALSE | 2019-10-29 | Bioconductor   | NA | /opt/conda/lib/R/library |\n",
       "| limma | limma         | 3.42.0 | 3.42.0 | /opt/conda/lib/R/library/limma         | /opt/conda/lib/R/library/limma         | TRUE | FALSE | 2019-10-29 | Bioconductor   | NA | /opt/conda/lib/R/library |\n",
       "| multtest | multtest      | 2.42.0 | 2.42.0 | /opt/conda/lib/R/library/multtest      | /opt/conda/lib/R/library/multtest      | TRUE | FALSE | 2019-10-29 | Bioconductor   | NA | /opt/conda/lib/R/library |\n",
       "| R.methodsS3 | R.methodsS3   | 1.8.0  | 1.8.0  | /opt/conda/lib/R/library/R.methodsS3   | /opt/conda/lib/R/library/R.methodsS3   | TRUE | FALSE | 2020-02-14 | CRAN (R 3.6.3) | NA | /opt/conda/lib/R/library |\n",
       "| R.oo | R.oo          | 1.23.0 | 1.23.0 | /opt/conda/lib/R/library/R.oo          | /opt/conda/lib/R/library/R.oo          | TRUE | FALSE | 2019-11-03 | CRAN (R 3.6.3) | NA | /opt/conda/lib/R/library |\n",
       "| R.utils | R.utils       | 2.9.2  | 2.9.2  | /opt/conda/lib/R/library/R.utils       | /opt/conda/lib/R/library/R.utils       | TRUE | FALSE | 2019-12-08 | CRAN (R 3.6.3) | NA | /opt/conda/lib/R/library |\n",
       "| rtracklayer | rtracklayer   | 1.46.0 | 1.46.0 | /opt/conda/lib/R/library/rtracklayer   | /opt/conda/lib/R/library/rtracklayer   | TRUE | FALSE | 2019-10-29 | Bioconductor   | NA | /opt/conda/lib/R/library |\n",
       "| S4Vectors | S4Vectors     | 0.24.0 | 0.24.0 | /opt/conda/lib/R/library/S4Vectors     | /opt/conda/lib/R/library/S4Vectors     | TRUE | FALSE | 2019-10-29 | Bioconductor   | NA | /opt/conda/lib/R/library |\n",
       "| tibble | tibble        | 2.1.3  | 2.1.3  | /opt/conda/lib/R/library/tibble        | /opt/conda/lib/R/library/tibble        | TRUE | FALSE | 2019-06-06 | CRAN (R 3.6.1) | NA | /opt/conda/lib/R/library |\n",
       "\n"
      ],
      "text/plain": [
       "              package       ondiskversion loadedversion\n",
       "Biobase       Biobase       2.46.0        2.46.0       \n",
       "BiocGenerics  BiocGenerics  0.32.0        0.32.0       \n",
       "dplyr         dplyr         0.8.4         0.8.4        \n",
       "edgeR         edgeR         3.28.0        3.28.0       \n",
       "GenomeInfoDb  GenomeInfoDb  1.22.0        1.22.0       \n",
       "GenomicRanges GenomicRanges 1.38.0        1.38.0       \n",
       "ggplot2       ggplot2       3.2.1         3.2.1        \n",
       "IRanges       IRanges       2.20.0        2.20.0       \n",
       "limma         limma         3.42.0        3.42.0       \n",
       "multtest      multtest      2.42.0        2.42.0       \n",
       "R.methodsS3   R.methodsS3   1.8.0         1.8.0        \n",
       "R.oo          R.oo          1.23.0        1.23.0       \n",
       "R.utils       R.utils       2.9.2         2.9.2        \n",
       "rtracklayer   rtracklayer   1.46.0        1.46.0       \n",
       "S4Vectors     S4Vectors     0.24.0        0.24.0       \n",
       "tibble        tibble        2.1.3         2.1.3        \n",
       "              path                                  \n",
       "Biobase       /opt/conda/lib/R/library/Biobase      \n",
       "BiocGenerics  /opt/conda/lib/R/library/BiocGenerics \n",
       "dplyr         /opt/conda/lib/R/library/dplyr        \n",
       "edgeR         /opt/conda/lib/R/library/edgeR        \n",
       "GenomeInfoDb  /opt/conda/lib/R/library/GenomeInfoDb \n",
       "GenomicRanges /opt/conda/lib/R/library/GenomicRanges\n",
       "ggplot2       /opt/conda/lib/R/library/ggplot2      \n",
       "IRanges       /opt/conda/lib/R/library/IRanges      \n",
       "limma         /opt/conda/lib/R/library/limma        \n",
       "multtest      /opt/conda/lib/R/library/multtest     \n",
       "R.methodsS3   /opt/conda/lib/R/library/R.methodsS3  \n",
       "R.oo          /opt/conda/lib/R/library/R.oo         \n",
       "R.utils       /opt/conda/lib/R/library/R.utils      \n",
       "rtracklayer   /opt/conda/lib/R/library/rtracklayer  \n",
       "S4Vectors     /opt/conda/lib/R/library/S4Vectors    \n",
       "tibble        /opt/conda/lib/R/library/tibble       \n",
       "              loadedpath                             attached is_base\n",
       "Biobase       /opt/conda/lib/R/library/Biobase       TRUE     FALSE  \n",
       "BiocGenerics  /opt/conda/lib/R/library/BiocGenerics  TRUE     FALSE  \n",
       "dplyr         /opt/conda/lib/R/library/dplyr         TRUE     FALSE  \n",
       "edgeR         /opt/conda/lib/R/library/edgeR         TRUE     FALSE  \n",
       "GenomeInfoDb  /opt/conda/lib/R/library/GenomeInfoDb  TRUE     FALSE  \n",
       "GenomicRanges /opt/conda/lib/R/library/GenomicRanges TRUE     FALSE  \n",
       "ggplot2       /opt/conda/lib/R/library/ggplot2       TRUE     FALSE  \n",
       "IRanges       /opt/conda/lib/R/library/IRanges       TRUE     FALSE  \n",
       "limma         /opt/conda/lib/R/library/limma         TRUE     FALSE  \n",
       "multtest      /opt/conda/lib/R/library/multtest      TRUE     FALSE  \n",
       "R.methodsS3   /opt/conda/lib/R/library/R.methodsS3   TRUE     FALSE  \n",
       "R.oo          /opt/conda/lib/R/library/R.oo          TRUE     FALSE  \n",
       "R.utils       /opt/conda/lib/R/library/R.utils       TRUE     FALSE  \n",
       "rtracklayer   /opt/conda/lib/R/library/rtracklayer   TRUE     FALSE  \n",
       "S4Vectors     /opt/conda/lib/R/library/S4Vectors     TRUE     FALSE  \n",
       "tibble        /opt/conda/lib/R/library/tibble        TRUE     FALSE  \n",
       "              date       source         md5ok library                 \n",
       "Biobase       2019-10-29 Bioconductor   NA    /opt/conda/lib/R/library\n",
       "BiocGenerics  2019-10-29 Bioconductor   NA    /opt/conda/lib/R/library\n",
       "dplyr         2020-01-31 CRAN (R 3.6.2) NA    /opt/conda/lib/R/library\n",
       "edgeR         2019-10-29 Bioconductor   NA    /opt/conda/lib/R/library\n",
       "GenomeInfoDb  2019-10-29 Bioconductor   NA    /opt/conda/lib/R/library\n",
       "GenomicRanges 2019-10-29 Bioconductor   NA    /opt/conda/lib/R/library\n",
       "ggplot2       2019-08-10 CRAN (R 3.6.1) NA    /opt/conda/lib/R/library\n",
       "IRanges       2019-10-29 Bioconductor   NA    /opt/conda/lib/R/library\n",
       "limma         2019-10-29 Bioconductor   NA    /opt/conda/lib/R/library\n",
       "multtest      2019-10-29 Bioconductor   NA    /opt/conda/lib/R/library\n",
       "R.methodsS3   2020-02-14 CRAN (R 3.6.3) NA    /opt/conda/lib/R/library\n",
       "R.oo          2019-11-03 CRAN (R 3.6.3) NA    /opt/conda/lib/R/library\n",
       "R.utils       2019-12-08 CRAN (R 3.6.3) NA    /opt/conda/lib/R/library\n",
       "rtracklayer   2019-10-29 Bioconductor   NA    /opt/conda/lib/R/library\n",
       "S4Vectors     2019-10-29 Bioconductor   NA    /opt/conda/lib/R/library\n",
       "tibble        2019-06-06 CRAN (R 3.6.1) NA    /opt/conda/lib/R/library"
      ]
     },
     "metadata": {},
     "output_type": "display_data"
    }
   ],
   "source": [
    "dev_session_info   <- devtools::session_info()\n",
    "utils_session_info <- utils::sessionInfo()\n",
    "\n",
    "message(\"Saving `devtools::session_info()` objects in ../metadata/devtools_session_info.rds  ..\")\n",
    "saveRDS(dev_session_info, file = paste0(\"../metadata/\", notebookid, \"_devtools_session_info.rds\"))\n",
    "message(\"Done!\\n\")\n",
    "\n",
    "message(\"Saving `utils::sessionInfo()` objects in ../metadata/utils_session_info.rds  ..\")\n",
    "saveRDS(utils_session_info, file = paste0(\"../metadata/\", notebookid ,\"_utils_info.rds\"))\n",
    "message(\"Done!\\n\")\n",
    "\n",
    "dev_session_info$platform\n",
    "dev_session_info$packages[dev_session_info$packages$attached==TRUE, ]"
   ]
  },
  {
   "cell_type": "code",
   "execution_count": null,
   "metadata": {},
   "outputs": [],
   "source": []
  }
 ],
 "metadata": {
  "jupytext": {
   "cell_metadata_filter": "-all",
   "main_language": "R",
   "notebook_metadata_filter": "-all"
  },
  "kernelspec": {
   "display_name": "R",
   "language": "R",
   "name": "ir"
  },
  "language_info": {
   "codemirror_mode": "r",
   "file_extension": ".r",
   "mimetype": "text/x-r-source",
   "name": "R",
   "pygments_lexer": "r",
   "version": "3.6.2"
  }
 },
 "nbformat": 4,
 "nbformat_minor": 4
}
