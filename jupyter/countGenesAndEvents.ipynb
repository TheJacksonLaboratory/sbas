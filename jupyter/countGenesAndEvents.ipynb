{
 "cells": [
  {
   "cell_type": "markdown",
   "metadata": {},
   "source": [
    "# Analysis Notebook - Count Genes and Events\n",
    "\n",
    "This notebook processes the raw counts as provided by rMATS and performs some descriptive statistical analysis. It is used to produce the following outputs. \n",
    "\n",
    "## Data files created by this notebook\n",
    "Output text files are written to the ``data/`` directory (at the same level as the ``jupyter`` directory). \n",
    "\n",
    "1. **gene_as.tsv**: Alternative splicing events per gene, adjusted p-value <= 0.05, fold change >= 1.5.\n",
    "2. **all_gene_as.tsv**: all alternative splicing events\n",
    "3. **gene_dge.tsv**: Differential gene expression, adjusted p-value <= 0.05, fold change >= 1.5\n",
    "4. **genesWithCommonAS.tsv**: genes (as geneSymbol, the number of splicing events, and the number of tissues the event occurs in)\n",
    "5. **Total_AS_by_chr.tsv**: Total alternative splicing events per chromosome\n",
    "6. **Total_AS_by_geneSymbol.tsv**: Count the number of tissues in which specific genes show significant alternative splicing\n",
    "7. **DGE_by_geneSymbol.tsv***: Most highly expressed genes by tissue\n",
    "5. **Total_AS_by_tissue.tsv**: Count the number of significant splicing events per tissue\n",
    "6. **Total_AS_by_splicingtype.tsv**: Count number of significant splicing events for each of the 5' alternative splicing categories\n",
    "7. **SplicingIndex_chr.tsv**: Splicing index by chr (number of sigificant AS events per 1000 exons)"
   ]
  },
  {
   "cell_type": "code",
   "execution_count": 8,
   "metadata": {},
   "outputs": [],
   "source": [
    "defaultW <- getOption(\"warn\")  # suppress warnings for this cell\n",
    "options(warn = -1) \n",
    "library(dplyr)\n",
    "library(ggplot2)\n",
    "library(limma)\n",
    "library(multtest)\n",
    "library(Biobase)\n",
    "library(edgeR)\n",
    "library(tibble)\n",
    "library(R.utils)\n",
    "library(rtracklayer)\n",
    "\n",
    "options(warn = defaultW)"
   ]
  },
  {
   "cell_type": "markdown",
   "metadata": {},
   "source": [
    "## 1. Download all the rMATS results\n",
    "\n",
    "Each of the alternative splicing output files are downloaded here:"
   ]
  },
  {
   "cell_type": "markdown",
   "metadata": {},
   "source": [
    "### 1.1 get released rMATS GTF annotations\n",
    "\n",
    "For each splicing type, the junctions are defined, so we have 5 specific annotated splicing specific junction ID annotation files:\n",
    "\n",
    "1. **fromGTF.A3SS.txt**: annotations for the alternative 3' splice site junctions\n",
    "2. **fromGTF.A5SS.txt**: annotations for the alternative 5' splice site junctions\n",
    "3. **fromGTF.MXE.txt**: annotations for the mutually exclusive exon junctions\n",
    "4. **fromGTF.RI.txt**: annotations for the retained introns junctions\n",
    "5. **fromGTF.SE.txt**: annotations for the skipped exon junctions"
   ]
  },
  {
   "cell_type": "markdown",
   "metadata": {},
   "source": [
    "### 1.2 Unpack the data.tar file if necessary\n",
    "To run this script, we need to import three compressed files and unpack them.\n",
    "\n",
    "| file | sha256 | filename  |\n",
    "|------|------  |-----------|\n",
    "|  1   | b0c4bb23b96d77aba7e731fa2a15dc74a34daf490312478aca94443f9a6d4e90 | results/data_as_dge.tar.gz |\n",
    "|  2   | a0c2c5a7d7cfa0a89c8a39e2f7a4c6c3ac8c6a860f721077c087614505d869cf | rmats_and_annotation.tar.gz |\n"
   ]
  },
  {
   "cell_type": "code",
   "execution_count": 9,
   "metadata": {},
   "outputs": [
    {
     "data": {
      "text/html": [
       "'5ef252b5143fa0011321ec40-data_as_dge.tar.gz-5ef252b5143fa0011321ec40'"
      ],
      "text/latex": [
       "'5ef252b5143fa0011321ec40-data\\_as\\_dge.tar.gz-5ef252b5143fa0011321ec40'"
      ],
      "text/markdown": [
       "'5ef252b5143fa0011321ec40-data_as_dge.tar.gz-5ef252b5143fa0011321ec40'"
      ],
      "text/plain": [
       "[1] \"5ef252b5143fa0011321ec40-data_as_dge.tar.gz-5ef252b5143fa0011321ec40\""
      ]
     },
     "metadata": {},
     "output_type": "display_data"
    },
    {
     "data": {
      "text/html": [
       "'5ef252a9143fa0011321ec01-rmats_and_annotation.tar.gz-5ef252a9143fa0011321ec01'"
      ],
      "text/latex": [
       "'5ef252a9143fa0011321ec01-rmats\\_and\\_annotation.tar.gz-5ef252a9143fa0011321ec01'"
      ],
      "text/markdown": [
       "'5ef252a9143fa0011321ec01-rmats_and_annotation.tar.gz-5ef252a9143fa0011321ec01'"
      ],
      "text/plain": [
       "[1] \"5ef252a9143fa0011321ec01-rmats_and_annotation.tar.gz-5ef252a9143fa0011321ec01\""
      ]
     },
     "metadata": {},
     "output_type": "display_data"
    }
   ],
   "source": [
    "data_as_dge_file_dir <- list.files(\"../../mounted-data\", pattern='data_as_dge.tar.gz')\n",
    "data_as_dge_file_dir\n",
    "rmats_and_annotation_dir <- list.files(\"../../mounted-data\", pattern='rmats_and_annotation.tar.gz')\n",
    "rmats_and_annotation_dir"
   ]
  },
  {
   "cell_type": "code",
   "execution_count": 10,
   "metadata": {},
   "outputs": [
    {
     "name": "stderr",
     "output_type": "stream",
     "text": [
      "In order to unpack the necessary files, execute the following commands on the shell.\n",
      "\n",
      "data_as_dge.tar.gz\n",
      "\n",
      "tar xvfz  ../../mounted-data/5ef252b5143fa0011321ec40-data_as_dge.tar.gz-5ef252b5143fa0011321ec40/robinson-bucket/notebooks/data_as_dge.tar.gz -C ../data\n",
      "\n",
      "checking sha256sum\n",
      "\n",
      "sha256sum ../../mounted-data/5ef252b5143fa0011321ec40-data_as_dge.tar.gz-5ef252b5143fa0011321ec40/robinson-bucket/notebooks/data_as_dge.tar.gz\n",
      "\n",
      "In order to unpack the necessary files, execute the following commands on the shell.\n",
      "\n",
      "rmats_and_annotation.tar.gz\n",
      "\n",
      "tar xvfz  ../../mounted-data/5ef252a9143fa0011321ec01-rmats_and_annotation.tar.gz-5ef252a9143fa0011321ec01/robinson-bucket/notebooks/rmats_and_annotation.tar.gz -C ../data\n",
      "\n",
      "checking sha256sum\n",
      "\n",
      "sha256sum ../../mounted-data/5ef252a9143fa0011321ec01-rmats_and_annotation.tar.gz-5ef252a9143fa0011321ec01/robinson-bucket/notebooks/rmats_and_annotation.tar.gz\n",
      "\n"
     ]
    }
   ],
   "source": [
    "data_as_dge_file_dir <- list.files(\"../../mounted-data\", pattern='data_as_dge.tar.gz')\n",
    "data_as_dge_file <- paste(\"../../mounted-data\", data_as_dge_file_dir, 'robinson-bucket/notebooks/data_as_dge', sep='/')\n",
    "data_as_dge_file_tar_gz <- paste(data_as_dge_file, '.tar.gz', sep='')\n",
    "message(\"In order to unpack the necessary files, execute the following commands on the shell.\")\n",
    "message(\"data_as_dge.tar.gz\")\n",
    "mycommand = paste(\"tar xvfz \",data_as_dge_file_tar_gz, \"-C ../data\", sep=\" \")\n",
    "message(mycommand)\n",
    "system(mycommand)\n",
    "message(\"checking sha256sum\")\n",
    "mycommand = paste(\"sha256sum\", data_as_dge_file_tar_gz, sep = \" \")\n",
    "message(mycommand)\n",
    "system(mycommand)\n",
    "rmats_annot_file_dir <- list.files(\"../../mounted-data\", pattern='rmats_and_annotation.tar.gz')\n",
    "rmats_annot_file <- paste(\"../../mounted-data\", rmats_annot_file_dir, 'robinson-bucket/notebooks/rmats_and_annotation', sep='/')\n",
    "rmats_annot_file_tar_gz <- paste(rmats_annot_file, '.tar.gz', sep='')\n",
    "message(\"In order to unpack the necessary files, execute the following commands on the shell.\")\n",
    "message(\"rmats_and_annotation.tar.gz\")\n",
    "mycommand = paste(\"tar xvfz \",rmats_annot_file_tar_gz, \"-C ../data\", sep=\" \")\n",
    "message(mycommand)\n",
    "system(mycommand)\n",
    "message(\"checking sha256sum\")\n",
    "mycommand = paste(\"sha256sum\", rmats_annot_file_tar_gz, sep = \" \")\n",
    "message(mycommand)\n",
    "system(mycommand)"
   ]
  },
  {
   "cell_type": "code",
   "execution_count": 11,
   "metadata": {},
   "outputs": [
    {
     "name": "stderr",
     "output_type": "stream",
     "text": [
      "Decompressing fromGTF.tar.gz into ../data\n",
      "\n"
     ]
    },
    {
     "data": {
      "text/html": [
       "<style>\n",
       ".list-inline {list-style: none; margin:0; padding: 0}\n",
       ".list-inline>li {display: inline-block}\n",
       ".list-inline>li:not(:last-child)::after {content: \"\\00b7\"; padding: 0 .5ex}\n",
       "</style>\n",
       "<ol class=list-inline><li>'fromGTF.A3SS.txt.gz'</li><li>'fromGTF.A5SS.txt.gz'</li><li>'fromGTF.MXE.txt.gz'</li><li>'fromGTF.RI.txt.gz'</li><li>'fromGTF.SE.txt.gz'</li><li>'fromGTF.novelEvents.A3SS.txt.gz'</li><li>'fromGTF.novelEvents.A5SS.txt.gz'</li><li>'fromGTF.novelEvents.MXE.txt.gz'</li><li>'fromGTF.novelEvents.RI.txt.gz'</li><li>'fromGTF.novelEvents.SE.txt.gz'</li></ol>\n"
      ],
      "text/latex": [
       "\\begin{enumerate*}\n",
       "\\item 'fromGTF.A3SS.txt.gz'\n",
       "\\item 'fromGTF.A5SS.txt.gz'\n",
       "\\item 'fromGTF.MXE.txt.gz'\n",
       "\\item 'fromGTF.RI.txt.gz'\n",
       "\\item 'fromGTF.SE.txt.gz'\n",
       "\\item 'fromGTF.novelEvents.A3SS.txt.gz'\n",
       "\\item 'fromGTF.novelEvents.A5SS.txt.gz'\n",
       "\\item 'fromGTF.novelEvents.MXE.txt.gz'\n",
       "\\item 'fromGTF.novelEvents.RI.txt.gz'\n",
       "\\item 'fromGTF.novelEvents.SE.txt.gz'\n",
       "\\end{enumerate*}\n"
      ],
      "text/markdown": [
       "1. 'fromGTF.A3SS.txt.gz'\n",
       "2. 'fromGTF.A5SS.txt.gz'\n",
       "3. 'fromGTF.MXE.txt.gz'\n",
       "4. 'fromGTF.RI.txt.gz'\n",
       "5. 'fromGTF.SE.txt.gz'\n",
       "6. 'fromGTF.novelEvents.A3SS.txt.gz'\n",
       "7. 'fromGTF.novelEvents.A5SS.txt.gz'\n",
       "8. 'fromGTF.novelEvents.MXE.txt.gz'\n",
       "9. 'fromGTF.novelEvents.RI.txt.gz'\n",
       "10. 'fromGTF.novelEvents.SE.txt.gz'\n",
       "\n",
       "\n"
      ],
      "text/plain": [
       " [1] \"fromGTF.A3SS.txt.gz\"             \"fromGTF.A5SS.txt.gz\"            \n",
       " [3] \"fromGTF.MXE.txt.gz\"              \"fromGTF.RI.txt.gz\"              \n",
       " [5] \"fromGTF.SE.txt.gz\"               \"fromGTF.novelEvents.A3SS.txt.gz\"\n",
       " [7] \"fromGTF.novelEvents.A5SS.txt.gz\" \"fromGTF.novelEvents.MXE.txt.gz\" \n",
       " [9] \"fromGTF.novelEvents.RI.txt.gz\"   \"fromGTF.novelEvents.SE.txt.gz\"  "
      ]
     },
     "metadata": {},
     "output_type": "display_data"
    },
    {
     "name": "stderr",
     "output_type": "stream",
     "text": [
      "Warning message in system(\"gunzip ../data/fromGTF.*txt.gz\", intern = TRUE):\n",
      "“running command 'gunzip ../data/fromGTF.*txt.gz' had status 2”\n"
     ]
    },
    {
     "data": {
      "text/html": [],
      "text/latex": [],
      "text/markdown": [],
      "text/plain": [
       "character(0)\n",
       "attr(,\"status\")\n",
       "[1] 2\n",
       "attr(,\"errmsg\")\n",
       "[1] \"Resource temporarily unavailable\""
      ]
     },
     "metadata": {},
     "output_type": "display_data"
    },
    {
     "name": "stderr",
     "output_type": "stream",
     "text": [
      "Done!\n",
      "\n",
      "\n"
     ]
    }
   ],
   "source": [
    "## get the rmats 3.2.5 discovered/annotated junction information in GTF format\n",
    "message(\"Decompressing fromGTF.tar.gz into ../data\")\n",
    "system(\"mkdir -p ../data && tar xvfz ../data/fromGTF.tar.gz -C ../data\", intern = TRUE)\n",
    "system(\"gunzip ../data/fromGTF.*txt.gz\", intern = TRUE)\n",
    "message(\"Done!\\n\")"
   ]
  },
  {
   "cell_type": "markdown",
   "metadata": {},
   "source": [
    "### 2  Refined results\n",
    "We define **refined results** as (FC >= 1.5 and pVal <= 0.05) for the sex\\*as_event coefficient result for the linear model"
   ]
  },
  {
   "cell_type": "markdown",
   "metadata": {},
   "source": [
    "### 2.1 getTissueReduction"
   ]
  },
  {
   "cell_type": "code",
   "execution_count": 12,
   "metadata": {},
   "outputs": [
    {
     "data": {
      "text/html": [
       "<style>\n",
       ".list-inline {list-style: none; margin:0; padding: 0}\n",
       ".list-inline>li {display: inline-block}\n",
       ".list-inline>li:not(:last-child)::after {content: \"\\00b7\"; padding: 0 .5ex}\n",
       "</style>\n",
       "<ol class=list-inline><li>'Adipose (sc)'</li><li>'Adipose (v)'</li><li>'Adrenal gland'</li><li>'Aorta'</li><li>'Atrial appendage'</li><li>'Breast'</li><li>'Caudate'</li><li>'Cerebellar hemisphere'</li><li>'Cerebellum'</li><li>'Coronary artery'</li><li>'Cortex'</li><li>'EBV-lymphocytes'</li><li>'Esophagus (gej)'</li><li>'Esophagus (m)'</li><li>'Esophagus (mu)'</li><li>'Fibroblasts'</li><li>'Frontal cortex'</li><li>'Hippocampus'</li><li>'Hypothalamus'</li><li>'Left ventricle'</li><li>'Liver'</li><li>'Lung'</li><li>'Nucleus accumbens'</li><li>'Pancreas'</li><li>'Pituitary'</li><li>'Putamen'</li><li>'Sigmoid colon'</li><li>'Skeletal muscle'</li><li>'Skin (exposed)'</li><li>'Skin (not exposed)'</li><li>'Small intestine'</li><li>'Spinal cord'</li><li>'Spleen'</li><li>'Stomach'</li><li>'Thyroid'</li><li>'Tibial artery'</li><li>'Tibial nerve'</li><li>'Transverse colon'</li><li>'Whole blood'</li></ol>\n"
      ],
      "text/latex": [
       "\\begin{enumerate*}\n",
       "\\item 'Adipose (sc)'\n",
       "\\item 'Adipose (v)'\n",
       "\\item 'Adrenal gland'\n",
       "\\item 'Aorta'\n",
       "\\item 'Atrial appendage'\n",
       "\\item 'Breast'\n",
       "\\item 'Caudate'\n",
       "\\item 'Cerebellar hemisphere'\n",
       "\\item 'Cerebellum'\n",
       "\\item 'Coronary artery'\n",
       "\\item 'Cortex'\n",
       "\\item 'EBV-lymphocytes'\n",
       "\\item 'Esophagus (gej)'\n",
       "\\item 'Esophagus (m)'\n",
       "\\item 'Esophagus (mu)'\n",
       "\\item 'Fibroblasts'\n",
       "\\item 'Frontal cortex'\n",
       "\\item 'Hippocampus'\n",
       "\\item 'Hypothalamus'\n",
       "\\item 'Left ventricle'\n",
       "\\item 'Liver'\n",
       "\\item 'Lung'\n",
       "\\item 'Nucleus accumbens'\n",
       "\\item 'Pancreas'\n",
       "\\item 'Pituitary'\n",
       "\\item 'Putamen'\n",
       "\\item 'Sigmoid colon'\n",
       "\\item 'Skeletal muscle'\n",
       "\\item 'Skin (exposed)'\n",
       "\\item 'Skin (not exposed)'\n",
       "\\item 'Small intestine'\n",
       "\\item 'Spinal cord'\n",
       "\\item 'Spleen'\n",
       "\\item 'Stomach'\n",
       "\\item 'Thyroid'\n",
       "\\item 'Tibial artery'\n",
       "\\item 'Tibial nerve'\n",
       "\\item 'Transverse colon'\n",
       "\\item 'Whole blood'\n",
       "\\end{enumerate*}\n"
      ],
      "text/markdown": [
       "1. 'Adipose (sc)'\n",
       "2. 'Adipose (v)'\n",
       "3. 'Adrenal gland'\n",
       "4. 'Aorta'\n",
       "5. 'Atrial appendage'\n",
       "6. 'Breast'\n",
       "7. 'Caudate'\n",
       "8. 'Cerebellar hemisphere'\n",
       "9. 'Cerebellum'\n",
       "10. 'Coronary artery'\n",
       "11. 'Cortex'\n",
       "12. 'EBV-lymphocytes'\n",
       "13. 'Esophagus (gej)'\n",
       "14. 'Esophagus (m)'\n",
       "15. 'Esophagus (mu)'\n",
       "16. 'Fibroblasts'\n",
       "17. 'Frontal cortex'\n",
       "18. 'Hippocampus'\n",
       "19. 'Hypothalamus'\n",
       "20. 'Left ventricle'\n",
       "21. 'Liver'\n",
       "22. 'Lung'\n",
       "23. 'Nucleus accumbens'\n",
       "24. 'Pancreas'\n",
       "25. 'Pituitary'\n",
       "26. 'Putamen'\n",
       "27. 'Sigmoid colon'\n",
       "28. 'Skeletal muscle'\n",
       "29. 'Skin (exposed)'\n",
       "30. 'Skin (not exposed)'\n",
       "31. 'Small intestine'\n",
       "32. 'Spinal cord'\n",
       "33. 'Spleen'\n",
       "34. 'Stomach'\n",
       "35. 'Thyroid'\n",
       "36. 'Tibial artery'\n",
       "37. 'Tibial nerve'\n",
       "38. 'Transverse colon'\n",
       "39. 'Whole blood'\n",
       "\n",
       "\n"
      ],
      "text/plain": [
       " [1] \"Adipose (sc)\"          \"Adipose (v)\"           \"Adrenal gland\"        \n",
       " [4] \"Aorta\"                 \"Atrial appendage\"      \"Breast\"               \n",
       " [7] \"Caudate\"               \"Cerebellar hemisphere\" \"Cerebellum\"           \n",
       "[10] \"Coronary artery\"       \"Cortex\"                \"EBV-lymphocytes\"      \n",
       "[13] \"Esophagus (gej)\"       \"Esophagus (m)\"         \"Esophagus (mu)\"       \n",
       "[16] \"Fibroblasts\"           \"Frontal cortex\"        \"Hippocampus\"          \n",
       "[19] \"Hypothalamus\"          \"Left ventricle\"        \"Liver\"                \n",
       "[22] \"Lung\"                  \"Nucleus accumbens\"     \"Pancreas\"             \n",
       "[25] \"Pituitary\"             \"Putamen\"               \"Sigmoid colon\"        \n",
       "[28] \"Skeletal muscle\"       \"Skin (exposed)\"        \"Skin (not exposed)\"   \n",
       "[31] \"Small intestine\"       \"Spinal cord\"           \"Spleen\"               \n",
       "[34] \"Stomach\"               \"Thyroid\"               \"Tibial artery\"        \n",
       "[37] \"Tibial nerve\"          \"Transverse colon\"      \"Whole blood\"          "
      ]
     },
     "metadata": {},
     "output_type": "display_data"
    },
    {
     "name": "stderr",
     "output_type": "stream",
     "text": [
      "We extracted 39 different tissues with at least 50 samples in both M & f\n",
      "\n"
     ]
    }
   ],
   "source": [
    "tissue_reduction_filename <- \"../assets/tissues.tsv\"\n",
    "tissue_reduction <- read.table(tissue_reduction_filename, header=TRUE, sep=\"\\t\",\n",
    "                               skipNul=FALSE, stringsAsFactors = FALSE)\n",
    "colnames(tissue_reduction)  <- c(\"SMTSD\",\"female\",\"male\",\"include\",\"display_name\")\n",
    "tissue_reduction <- tissue_reduction[tissue_reduction$display_name != \"n/a\",]\n",
    "tissue_reduction$display_name <- factor(tissue_reduction$display_name)\n",
    "levels(tissue_reduction$display_name)\n",
    "message(\"We extracted \", length(levels(tissue_reduction$display_name)),\" different tissues with at least 50 samples in both M & f\")"
   ]
  },
  {
   "cell_type": "markdown",
   "metadata": {},
   "source": [
    "### 2.2 Read in refined results and annotations"
   ]
  },
  {
   "cell_type": "code",
   "execution_count": 13,
   "metadata": {},
   "outputs": [
    {
     "data": {
      "text/html": [
       "195"
      ],
      "text/latex": [
       "195"
      ],
      "text/markdown": [
       "195"
      ],
      "text/plain": [
       "[1] 195"
      ]
     },
     "metadata": {},
     "output_type": "display_data"
    }
   ],
   "source": [
    "significant_results_dir = \"../data/\"\n",
    "pattern = \"model_B_sex_as_events_refined.csv\"\n",
    "files <- list.files(path = significant_results_dir, pattern = pattern)\n",
    "as_types <- c(\"a3ss\", \"a5ss\", \"mxe\", \"ri\", \"se\")\n",
    "length(files)"
   ]
  },
  {
   "cell_type": "code",
   "execution_count": 14,
   "metadata": {},
   "outputs": [],
   "source": [
    "a3ss_annot <- read.table(file = \"../data/fromGTF.A3SS.txt\", sep = \"\\t\", quote = \"\\\"\", header = T, stringsAsFactors = F)\n",
    "a5ss_annot <- read.table(file = \"../data/fromGTF.A5SS.txt\", sep = \"\\t\", quote = \"\\\"\", header = T, stringsAsFactors = F)\n",
    "mxe_annot <- read.table(file = \"../data/fromGTF.MXE.txt\", sep = \"\\t\", quote = \"\\\"\", header = T, stringsAsFactors = F)\n",
    "ri_annot <- read.table(file = \"../data/fromGTF.RI.txt\", sep = \"\\t\", quote = \"\\\"\", header = T, stringsAsFactors = F)\n",
    "se_annot <- read.table(file = \"../data/fromGTF.SE.txt\", sep = \"\\t\", quote = \"\\\"\", header = T, stringsAsFactors = F)"
   ]
  },
  {
   "cell_type": "code",
   "execution_count": 15,
   "metadata": {},
   "outputs": [
    {
     "data": {
      "text/html": [
       "<table>\n",
       "<caption>A data.frame: 6 × 11</caption>\n",
       "<thead>\n",
       "\t<tr><th></th><th scope=col>ID</th><th scope=col>GeneID</th><th scope=col>geneSymbol</th><th scope=col>chr</th><th scope=col>strand</th><th scope=col>exonStart_0base</th><th scope=col>exonEnd</th><th scope=col>upstreamES</th><th scope=col>upstreamEE</th><th scope=col>downstreamES</th><th scope=col>downstreamEE</th></tr>\n",
       "\t<tr><th></th><th scope=col>&lt;int&gt;</th><th scope=col>&lt;chr&gt;</th><th scope=col>&lt;chr&gt;</th><th scope=col>&lt;chr&gt;</th><th scope=col>&lt;chr&gt;</th><th scope=col>&lt;int&gt;</th><th scope=col>&lt;int&gt;</th><th scope=col>&lt;int&gt;</th><th scope=col>&lt;int&gt;</th><th scope=col>&lt;int&gt;</th><th scope=col>&lt;int&gt;</th></tr>\n",
       "</thead>\n",
       "<tbody>\n",
       "\t<tr><th scope=row>1</th><td>1</td><td>ENSG00000034152.18</td><td>MAP2K3</td><td>chr17</td><td>+</td><td>21287990</td><td>21288091</td><td>21284709</td><td>21284969</td><td>21295674</td><td>21295769</td></tr>\n",
       "\t<tr><th scope=row>2</th><td>2</td><td>ENSG00000034152.18</td><td>MAP2K3</td><td>chr17</td><td>+</td><td>21303182</td><td>21303234</td><td>21302142</td><td>21302259</td><td>21304425</td><td>21304553</td></tr>\n",
       "\t<tr><th scope=row>3</th><td>3</td><td>ENSG00000034152.18</td><td>MAP2K3</td><td>chr17</td><td>+</td><td>21295674</td><td>21295769</td><td>21287990</td><td>21288091</td><td>21296085</td><td>21296143</td></tr>\n",
       "\t<tr><th scope=row>4</th><td>4</td><td>ENSG00000034152.18</td><td>MAP2K3</td><td>chr17</td><td>+</td><td>21295674</td><td>21295769</td><td>21287990</td><td>21288091</td><td>21298412</td><td>21298479</td></tr>\n",
       "\t<tr><th scope=row>5</th><td>5</td><td>ENSG00000034152.18</td><td>MAP2K3</td><td>chr17</td><td>+</td><td>21295674</td><td>21295769</td><td>21284710</td><td>21284969</td><td>21296085</td><td>21296143</td></tr>\n",
       "\t<tr><th scope=row>6</th><td>6</td><td>ENSG00000034152.18</td><td>MAP2K3</td><td>chr17</td><td>+</td><td>21295674</td><td>21295769</td><td>21284710</td><td>21284969</td><td>21298412</td><td>21298479</td></tr>\n",
       "</tbody>\n",
       "</table>\n"
      ],
      "text/latex": [
       "A data.frame: 6 × 11\n",
       "\\begin{tabular}{r|lllllllllll}\n",
       "  & ID & GeneID & geneSymbol & chr & strand & exonStart\\_0base & exonEnd & upstreamES & upstreamEE & downstreamES & downstreamEE\\\\\n",
       "  & <int> & <chr> & <chr> & <chr> & <chr> & <int> & <int> & <int> & <int> & <int> & <int>\\\\\n",
       "\\hline\n",
       "\t1 & 1 & ENSG00000034152.18 & MAP2K3 & chr17 & + & 21287990 & 21288091 & 21284709 & 21284969 & 21295674 & 21295769\\\\\n",
       "\t2 & 2 & ENSG00000034152.18 & MAP2K3 & chr17 & + & 21303182 & 21303234 & 21302142 & 21302259 & 21304425 & 21304553\\\\\n",
       "\t3 & 3 & ENSG00000034152.18 & MAP2K3 & chr17 & + & 21295674 & 21295769 & 21287990 & 21288091 & 21296085 & 21296143\\\\\n",
       "\t4 & 4 & ENSG00000034152.18 & MAP2K3 & chr17 & + & 21295674 & 21295769 & 21287990 & 21288091 & 21298412 & 21298479\\\\\n",
       "\t5 & 5 & ENSG00000034152.18 & MAP2K3 & chr17 & + & 21295674 & 21295769 & 21284710 & 21284969 & 21296085 & 21296143\\\\\n",
       "\t6 & 6 & ENSG00000034152.18 & MAP2K3 & chr17 & + & 21295674 & 21295769 & 21284710 & 21284969 & 21298412 & 21298479\\\\\n",
       "\\end{tabular}\n"
      ],
      "text/markdown": [
       "\n",
       "A data.frame: 6 × 11\n",
       "\n",
       "| <!--/--> | ID &lt;int&gt; | GeneID &lt;chr&gt; | geneSymbol &lt;chr&gt; | chr &lt;chr&gt; | strand &lt;chr&gt; | exonStart_0base &lt;int&gt; | exonEnd &lt;int&gt; | upstreamES &lt;int&gt; | upstreamEE &lt;int&gt; | downstreamES &lt;int&gt; | downstreamEE &lt;int&gt; |\n",
       "|---|---|---|---|---|---|---|---|---|---|---|---|\n",
       "| 1 | 1 | ENSG00000034152.18 | MAP2K3 | chr17 | + | 21287990 | 21288091 | 21284709 | 21284969 | 21295674 | 21295769 |\n",
       "| 2 | 2 | ENSG00000034152.18 | MAP2K3 | chr17 | + | 21303182 | 21303234 | 21302142 | 21302259 | 21304425 | 21304553 |\n",
       "| 3 | 3 | ENSG00000034152.18 | MAP2K3 | chr17 | + | 21295674 | 21295769 | 21287990 | 21288091 | 21296085 | 21296143 |\n",
       "| 4 | 4 | ENSG00000034152.18 | MAP2K3 | chr17 | + | 21295674 | 21295769 | 21287990 | 21288091 | 21298412 | 21298479 |\n",
       "| 5 | 5 | ENSG00000034152.18 | MAP2K3 | chr17 | + | 21295674 | 21295769 | 21284710 | 21284969 | 21296085 | 21296143 |\n",
       "| 6 | 6 | ENSG00000034152.18 | MAP2K3 | chr17 | + | 21295674 | 21295769 | 21284710 | 21284969 | 21298412 | 21298479 |\n",
       "\n"
      ],
      "text/plain": [
       "  ID GeneID             geneSymbol chr   strand exonStart_0base exonEnd \n",
       "1 1  ENSG00000034152.18 MAP2K3     chr17 +      21287990        21288091\n",
       "2 2  ENSG00000034152.18 MAP2K3     chr17 +      21303182        21303234\n",
       "3 3  ENSG00000034152.18 MAP2K3     chr17 +      21295674        21295769\n",
       "4 4  ENSG00000034152.18 MAP2K3     chr17 +      21295674        21295769\n",
       "5 5  ENSG00000034152.18 MAP2K3     chr17 +      21295674        21295769\n",
       "6 6  ENSG00000034152.18 MAP2K3     chr17 +      21295674        21295769\n",
       "  upstreamES upstreamEE downstreamES downstreamEE\n",
       "1 21284709   21284969   21295674     21295769    \n",
       "2 21302142   21302259   21304425     21304553    \n",
       "3 21287990   21288091   21296085     21296143    \n",
       "4 21287990   21288091   21298412     21298479    \n",
       "5 21284710   21284969   21296085     21296143    \n",
       "6 21284710   21284969   21298412     21298479    "
      ]
     },
     "metadata": {},
     "output_type": "display_data"
    }
   ],
   "source": [
    "head(se_annot)"
   ]
  },
  {
   "cell_type": "markdown",
   "metadata": {},
   "source": [
    "### 2.3 create_as_structure \n",
    "\n",
    "This function doees an aggregation of the alternative splicing events - good for all events and the significantly expressed events."
   ]
  },
  {
   "cell_type": "code",
   "execution_count": 16,
   "metadata": {},
   "outputs": [],
   "source": [
    "create_as_structure <- function ( results_dir, files, pattern, tissue_reduction) {\n",
    "    gene_as = data.frame()\n",
    "    counts <- rep(NA, length(files))\n",
    "    message(\"\\nnumber of files:\", paste(length(files)), collapse = \"\")\n",
    "    for (i in 1:length(files)) {\n",
    "       lines  <- read.table(file=paste0(results_dir, files[i]), \n",
    "                                     header = TRUE, sep = \",\", quote = \"\\\"'\", skipNul = FALSE)\n",
    "       if (dim(lines)[1] > 0) {\n",
    "           event     <- as.vector(as.character(rownames(lines)))\n",
    "           tissue1   <- gsub(pattern,\"\", files[i], fixed = TRUE)\n",
    "           counts[i] <- dim(lines)[1]\n",
    "           event_idx <- substring(event, regexpr(\"[0-9]+$\", event))\n",
    "           res       <- data.frame()\n",
    "           if (grepl(\"^a3ss_\", files[i])) {\n",
    "               # remove the first 5 letters of the string \n",
    "               tissue2 <- substring(tissue1,6)\n",
    "               idx <- match(event_idx, a3ss_annot$ID)\n",
    "               res <- data.frame(GeneJunction <- event,\n",
    "                              ASE          <- \"A3SS\", \n",
    "                              ASE_IDX      <- idx,\n",
    "                              Tissue       <- tissue2,\n",
    "                              counts       <- counts[i],\n",
    "                              Display      <- tissue_reduction[tissue_reduction$SMTSD == tissue2, \"display_name\"],\n",
    "                              GeneSymbol   <- a3ss_annot$geneSymbol[idx],\n",
    "                              GeneID       <- a3ss_annot$GeneID[idx],\n",
    "                              chr          <- a3ss_annot$chr[idx],\n",
    "                              logFC        <- lines$logFC,\n",
    "                              AveExpr      <- lines$AveExpr,\n",
    "                              t            <- lines$t,\n",
    "                              PValue       <- lines$P.Value,\n",
    "                              AdjPVal      <- lines$adj.P.Val,\n",
    "                              B            <- lines$B)\n",
    "               colnames(res) <- c(\"GeneJunction\",\"ASE\",\"ASE_IDX\",\"Tissue\",\"counts\",\"Display\",\n",
    "                                  \"GeneSymbol\",\"GeneID\",\"chr\",\"logFC\",\"AveExpr\",\"t\",\"PValue\",\"AdjPVal\",\"B\")\n",
    "               gene_as <- rbind(gene_as,res)\n",
    "            \n",
    "           } else if (grepl(\"^a5ss_\", files[i])) {\n",
    "               # remove the first 5 letters of the string \n",
    "               tissue2 <- substring(tissue1,6)\n",
    "               idx <- match(event_idx, a5ss_annot$ID)\n",
    "               res <- data.frame(GeneJunction <- event,\n",
    "                              ASE          <- \"A5SS\", \n",
    "                              ASE_IDX      <- idx,\n",
    "                              Tissue       <- tissue2,\n",
    "                              counts       <- counts[i],\n",
    "                              Display      <- tissue_reduction[tissue_reduction$SMTSD == tissue2, \"display_name\"],\n",
    "                              GeneSymbol   <- a5ss_annot$geneSymbol[idx],\n",
    "                              GeneID       <- a5ss_annot$GeneID[idx],\n",
    "                              chr          <- a5ss_annot$chr[idx],\n",
    "                              logFC        <- lines$logFC,\n",
    "                              AveExpr      <- lines$AveExpr,\n",
    "                              t            <- lines$t,\n",
    "                              PValue       <- lines$P.Value,\n",
    "                              AdjPVal      <- lines$adj.P.Val,\n",
    "                              B            <- lines$B)\n",
    "               colnames(res) <- c(\"GeneJunction\",\"ASE\",\"ASE_IDX\",\"Tissue\",\"counts\",\"Display\",\n",
    "                               \"GeneSymbol\",\"GeneID\",\"chr\",\"logFC\",\"AveExpr\",\"t\",\"PValue\",\"AdjPVal\",\"B\")\n",
    "               gene_as <- rbind(gene_as,res)\n",
    "           } else if (grepl(\"^mxe_\", files[i])) {\n",
    "               # remove the first 4 letters of the string \n",
    "               tissue2 <- substring(tissue1,5)\n",
    "               idx <- match(event_idx, a3ss_annot$ID)\n",
    "               res <- data.frame(GeneJunction <- event,\n",
    "                              ASE          <- \"MXE\", \n",
    "                              ASE_IDX      <- idx,\n",
    "                              Tissue       <- tissue2,\n",
    "                              counts       <- counts[i],\n",
    "                              Display      <- tissue_reduction[tissue_reduction$SMTSD == tissue2, \"display_name\"],\n",
    "                              GeneSymbol   <- mxe_annot$geneSymbol[idx],\n",
    "                              GeneID       <- mxe_annot$GeneID[idx],\n",
    "                              chr          <- mxe_annot$chr[idx],\n",
    "                              logFC        <- lines$logFC,\n",
    "                              AveExpr      <- lines$AveExpr,\n",
    "                              t            <- lines$t,\n",
    "                              PValue       <- lines$P.Value,\n",
    "                              AdjPVal      <- lines$adj.P.Val,\n",
    "                              B            <- lines$B)\n",
    "               colnames(res) <- c(\"GeneJunction\",\"ASE\",\"ASE_IDX\",\"Tissue\",\"counts\",\"Display\",\n",
    "                                  \"GeneSymbol\",\"GeneID\",\"chr\",\"logFC\",\"AveExpr\",\"t\",\"PValue\",\"AdjPVal\",\"B\")\n",
    "               gene_as <- rbind(gene_as,res)\n",
    "           } else if (grepl(\"^se_\", files[i])) {\n",
    "               # remove the first 3 letters of the string \n",
    "               tissue2 <- substring(tissue1,4)\n",
    "               idx <- match(event_idx, se_annot$ID)\n",
    "               res <- data.frame(GeneJunction <- event,\n",
    "                              ASE          <- \"SE\", \n",
    "                              ASE_IDX      <- idx,\n",
    "                              Tissue       <- tissue2,\n",
    "                              counts       <- counts[i],\n",
    "                              Display      <- tissue_reduction[tissue_reduction$SMTSD == tissue2, \"display_name\"],\n",
    "                              GeneSymbol   <- se_annot$geneSymbol[idx],\n",
    "                              GeneID       <- se_annot$GeneID[idx],\n",
    "                              chr          <- se_annot$chr[idx],\n",
    "                              logFC        <- lines$logFC,\n",
    "                              AveExpr      <- lines$AveExpr,\n",
    "                              t            <- lines$t,\n",
    "                              PValue       <- lines$P.Value,\n",
    "                              AdjPVal      <- lines$adj.P.Val,\n",
    "                              B            <- lines$B)\n",
    "               colnames(res) <- c(\"GeneJunction\",\"ASE\",\"ASE_IDX\",\"Tissue\",\"counts\",\"Display\",\n",
    "                                  \"GeneSymbol\",\"GeneID\",\"chr\",\"logFC\",\"AveExpr\",\"t\",\"PValue\",\"AdjPVal\",\"B\")\n",
    "               gene_as <- rbind(gene_as,res)\n",
    "           } else if (grepl(\"^ri_\", files[i])){\n",
    "               # remove the first 3 letters of the string \n",
    "               tissue2 <- substring(tissue1,4)\n",
    "               idx <- match(event_idx, ri_annot$ID)\n",
    "               res <- data.frame(GeneJunction <- event,\n",
    "                              ASE          <- \"RI\", \n",
    "                              ASE_IDX      <- idx,\n",
    "                              Tissue       <- tissue2,\n",
    "                              counts       <- counts[i],\n",
    "                              Display      <- tissue_reduction[tissue_reduction$SMTSD == tissue2, \"display_name\"],\n",
    "                              GeneSymbol   <- ri_annot$geneSymbol[idx],\n",
    "                              GeneID       <- ri_annot$GeneID[idx],\n",
    "                              chr          <- ri_annot$chr[idx],\n",
    "                              logFC        <- lines$logFC,\n",
    "                              AveExpr      <- lines$AveExpr,\n",
    "                              t            <- lines$t,\n",
    "                              PValue       <- lines$P.Value,\n",
    "                              AdjPVal      <- lines$adj.P.Val,\n",
    "                              B            <- lines$B)\n",
    "               colnames(res) <- c(\"GeneJunction\",\"ASE\",\"ASE_IDX\",\"Tissue\",\"counts\",\"Display\",\n",
    "                                  \"GeneSymbol\",\"GeneID\",\"chr\",\"logFC\",\"AveExpr\",\"t\",\"PValue\",\"AdjPVal\",\"B\")\n",
    "               gene_as <- rbind(gene_as,res)\n",
    "           }\n",
    "        \n",
    "       } #if has sig. events\n",
    "    \n",
    "   } #for all files\n",
    "   colnames(gene_as) <- c(\"GeneJunction\",\"ASE\",\"ASE_IDX\",\"Tissue\",\"counts\",\"Display\",\"GeneSymbol\",\"GeneID\",\"chr\",\"logFC\",\"AveExpr\",\"t\",\"PValue\",\"AdjPVal\",\"B\")\n",
    "   n_unique_genes <- length(summary(as.factor(gene_as$GeneSymbol),maxsum=50000))\n",
    "   message(\"We extracted a total of \",nrow(gene_as),\" significant alternative splicing events (gene_as)\")\n",
    "   message(\"This includes \", n_unique_genes, \" total genes\")\n",
    "   return (gene_as)\n",
    "}"
   ]
  },
  {
   "cell_type": "markdown",
   "metadata": {},
   "source": [
    "### 2.4 create_dge_structure \n",
    "\n",
    "This function doees an aggregation of the differential gene expression events - good for all events and the significantly expressed events."
   ]
  },
  {
   "cell_type": "code",
   "execution_count": 17,
   "metadata": {},
   "outputs": [],
   "source": [
    "create_dge_structure <- function ( results_dir, files, pattern, map_pattern, tissue_reduction) {\n",
    "   gene_dge = data.frame()\n",
    "   counts <- rep(NA, length(files))\n",
    "   for (i in 1:length(files)) {\n",
    "      lines  <- read.table(file=paste0(results_dir, files[i]), \n",
    "                                     header = TRUE, sep = \",\", quote = \"\\\"'\", skipNul = FALSE)\n",
    "      if (dim(lines)[1] > 0) {\n",
    "         tissue1    <- gsub(pattern,\"\", files[i], fixed = TRUE)\n",
    "         map_lines  <- read.table(file=paste0(paste0(results_dir, tissue1),map_pattern),\n",
    "                                     header = TRUE, sep = \",\", quote = \"\\\"'\", skipNul = FALSE)\n",
    "         counts[i]  <- dim(lines)[1]    \n",
    "         tissue1    <- gsub(pattern,\"\", files[i], fixed = TRUE)\n",
    "         map_lines  <- read.table(file=paste0(paste0(results_dir, tissue1),map_pattern),\n",
    "                                     header = TRUE, sep = \",\", quote = \"\\\"'\", skipNul = FALSE)\n",
    "         ensg_ver   <- as.vector(as.character(rownames(lines)))\n",
    "         ensg_no_ver<- as.vector(as.character(map_lines$ensg_names))\n",
    "         ensg_genes <- as.vector(as.character(map_lines$ensg_genes))\n",
    "         counts[i]  <- dim(lines)[1]  \n",
    "         res <- data.frame(Tissue       <- tissue1,\n",
    "                           ENSG_ver     <- ensg_ver,\n",
    "                           ENSG_no_ver  <- ensg_no_ver,\n",
    "                           GeneSymbol   <- ensg_genes,\n",
    "                           counts       <- counts[i],\n",
    "                           Display      <- tissue_reduction[tissue_reduction$SMTSD == tissue1, \"display_name\"],\n",
    "                           logFC        <- lines$logFC,\n",
    "                           AveExpr      <- lines$AveExpr,\n",
    "                           t            <- lines$t,\n",
    "                           PValue       <- lines$P.Value,\n",
    "                           AdjPVal      <- lines$adj.P.Val,\n",
    "                           B            <- lines$B)\n",
    "         colnames(res) <- c(\"Tissue\",\"ENSG_ver\",\"ENSG_no_ver\",\"GeneSymbol\",\"counts\",\"Display\",\n",
    "                            \"logFC\",\"AveExpr\",\"t\",\"PValue\",\"AdjPVal\",\"B\")\n",
    "         gene_dge <- rbind(gene_dge, res)\n",
    "       } #if has sig. events\n",
    "    } #for all files\n",
    "    colnames(gene_dge) <- c(\"Tissue\",\"ENSG_ver\",\"ENSG_no_ver\",\"GeneSymbol\",\"counts\",\"Display\",\n",
    "                        \"logFC\",\"AveExpr\",\"t\",\"PValue\",\"AdjPVal\",\"B\")\n",
    "    n_unique_genes <- length(summary(as.factor(gene_dge$GeneSymbol),maxsum=50000))\n",
    "    message(\"We extracted a total of \",nrow(gene_dge),\" significant differential gene events (gene_dge)\")\n",
    "    message(\"This includes \", n_unique_genes, \" total genes\")\n",
    "    return(gene_dge)\n",
    "}"
   ]
  },
  {
   "cell_type": "markdown",
   "metadata": {},
   "source": [
    "### 2.5 Read in the alternative splicing results\n",
    "\n",
    "We will create an aggregation of  all the results and all the significant results\n"
   ]
  },
  {
   "cell_type": "code",
   "execution_count": 18,
   "metadata": {},
   "outputs": [
    {
     "data": {
      "text/html": [
       "195"
      ],
      "text/latex": [
       "195"
      ],
      "text/markdown": [
       "195"
      ],
      "text/plain": [
       "[1] 195"
      ]
     },
     "metadata": {},
     "output_type": "display_data"
    },
    {
     "data": {
      "text/html": [
       "195"
      ],
      "text/latex": [
       "195"
      ],
      "text/markdown": [
       "195"
      ],
      "text/plain": [
       "[1] 195"
      ]
     },
     "metadata": {},
     "output_type": "display_data"
    },
    {
     "name": "stderr",
     "output_type": "stream",
     "text": [
      "\n",
      "number of files:195\n",
      "\n",
      "We extracted a total of 6370 significant alternative splicing events (gene_as)\n",
      "\n",
      "This includes 2887 total genes\n",
      "\n",
      "\n",
      "number of files:195\n",
      "\n",
      "We extracted a total of 2322562 significant alternative splicing events (gene_as)\n",
      "\n",
      "This includes 14694 total genes\n",
      "\n"
     ]
    },
    {
     "data": {
      "text/html": [
       "<table>\n",
       "<caption>A data.frame: 2 × 15</caption>\n",
       "<thead>\n",
       "\t<tr><th></th><th scope=col>GeneJunction</th><th scope=col>ASE</th><th scope=col>ASE_IDX</th><th scope=col>Tissue</th><th scope=col>counts</th><th scope=col>Display</th><th scope=col>GeneSymbol</th><th scope=col>GeneID</th><th scope=col>chr</th><th scope=col>logFC</th><th scope=col>AveExpr</th><th scope=col>t</th><th scope=col>PValue</th><th scope=col>AdjPVal</th><th scope=col>B</th></tr>\n",
       "\t<tr><th></th><th scope=col>&lt;fct&gt;</th><th scope=col>&lt;fct&gt;</th><th scope=col>&lt;int&gt;</th><th scope=col>&lt;fct&gt;</th><th scope=col>&lt;int&gt;</th><th scope=col>&lt;fct&gt;</th><th scope=col>&lt;fct&gt;</th><th scope=col>&lt;fct&gt;</th><th scope=col>&lt;fct&gt;</th><th scope=col>&lt;dbl&gt;</th><th scope=col>&lt;dbl&gt;</th><th scope=col>&lt;dbl&gt;</th><th scope=col>&lt;dbl&gt;</th><th scope=col>&lt;dbl&gt;</th><th scope=col>&lt;dbl&gt;</th></tr>\n",
       "</thead>\n",
       "<tbody>\n",
       "\t<tr><th scope=row>1</th><td>XIST-2253</td><td>A3SS</td><td>2253</td><td>adipose_subcutaneous</td><td>4</td><td>Adipose (sc)</td><td>XIST</td><td>ENSG00000229807.11</td><td>chrX</td><td>-4.408605</td><td>3.196317</td><td>-36.48897</td><td>4.635568e-154</td><td>3.893877e-150</td><td>310.0160</td></tr>\n",
       "\t<tr><th scope=row>2</th><td>XIST-2252</td><td>A3SS</td><td>2252</td><td>adipose_subcutaneous</td><td>4</td><td>Adipose (sc)</td><td>XIST</td><td>ENSG00000229807.11</td><td>chrX</td><td>-2.414713</td><td>3.647690</td><td>-21.92106</td><td> 1.444102e-78</td><td> 6.065229e-75</td><td>160.0282</td></tr>\n",
       "</tbody>\n",
       "</table>\n"
      ],
      "text/latex": [
       "A data.frame: 2 × 15\n",
       "\\begin{tabular}{r|lllllllllllllll}\n",
       "  & GeneJunction & ASE & ASE\\_IDX & Tissue & counts & Display & GeneSymbol & GeneID & chr & logFC & AveExpr & t & PValue & AdjPVal & B\\\\\n",
       "  & <fct> & <fct> & <int> & <fct> & <int> & <fct> & <fct> & <fct> & <fct> & <dbl> & <dbl> & <dbl> & <dbl> & <dbl> & <dbl>\\\\\n",
       "\\hline\n",
       "\t1 & XIST-2253 & A3SS & 2253 & adipose\\_subcutaneous & 4 & Adipose (sc) & XIST & ENSG00000229807.11 & chrX & -4.408605 & 3.196317 & -36.48897 & 4.635568e-154 & 3.893877e-150 & 310.0160\\\\\n",
       "\t2 & XIST-2252 & A3SS & 2252 & adipose\\_subcutaneous & 4 & Adipose (sc) & XIST & ENSG00000229807.11 & chrX & -2.414713 & 3.647690 & -21.92106 &  1.444102e-78 &  6.065229e-75 & 160.0282\\\\\n",
       "\\end{tabular}\n"
      ],
      "text/markdown": [
       "\n",
       "A data.frame: 2 × 15\n",
       "\n",
       "| <!--/--> | GeneJunction &lt;fct&gt; | ASE &lt;fct&gt; | ASE_IDX &lt;int&gt; | Tissue &lt;fct&gt; | counts &lt;int&gt; | Display &lt;fct&gt; | GeneSymbol &lt;fct&gt; | GeneID &lt;fct&gt; | chr &lt;fct&gt; | logFC &lt;dbl&gt; | AveExpr &lt;dbl&gt; | t &lt;dbl&gt; | PValue &lt;dbl&gt; | AdjPVal &lt;dbl&gt; | B &lt;dbl&gt; |\n",
       "|---|---|---|---|---|---|---|---|---|---|---|---|---|---|---|---|\n",
       "| 1 | XIST-2253 | A3SS | 2253 | adipose_subcutaneous | 4 | Adipose (sc) | XIST | ENSG00000229807.11 | chrX | -4.408605 | 3.196317 | -36.48897 | 4.635568e-154 | 3.893877e-150 | 310.0160 |\n",
       "| 2 | XIST-2252 | A3SS | 2252 | adipose_subcutaneous | 4 | Adipose (sc) | XIST | ENSG00000229807.11 | chrX | -2.414713 | 3.647690 | -21.92106 |  1.444102e-78 |  6.065229e-75 | 160.0282 |\n",
       "\n"
      ],
      "text/plain": [
       "  GeneJunction ASE  ASE_IDX Tissue               counts Display      GeneSymbol\n",
       "1 XIST-2253    A3SS 2253    adipose_subcutaneous 4      Adipose (sc) XIST      \n",
       "2 XIST-2252    A3SS 2252    adipose_subcutaneous 4      Adipose (sc) XIST      \n",
       "  GeneID             chr  logFC     AveExpr  t         PValue       \n",
       "1 ENSG00000229807.11 chrX -4.408605 3.196317 -36.48897 4.635568e-154\n",
       "2 ENSG00000229807.11 chrX -2.414713 3.647690 -21.92106  1.444102e-78\n",
       "  AdjPVal       B       \n",
       "1 3.893877e-150 310.0160\n",
       "2  6.065229e-75 160.0282"
      ]
     },
     "metadata": {},
     "output_type": "display_data"
    },
    {
     "data": {
      "text/html": [
       "<table>\n",
       "<caption>A data.frame: 2 × 15</caption>\n",
       "<thead>\n",
       "\t<tr><th></th><th scope=col>GeneJunction</th><th scope=col>ASE</th><th scope=col>ASE_IDX</th><th scope=col>Tissue</th><th scope=col>counts</th><th scope=col>Display</th><th scope=col>GeneSymbol</th><th scope=col>GeneID</th><th scope=col>chr</th><th scope=col>logFC</th><th scope=col>AveExpr</th><th scope=col>t</th><th scope=col>PValue</th><th scope=col>AdjPVal</th><th scope=col>B</th></tr>\n",
       "\t<tr><th></th><th scope=col>&lt;fct&gt;</th><th scope=col>&lt;fct&gt;</th><th scope=col>&lt;int&gt;</th><th scope=col>&lt;fct&gt;</th><th scope=col>&lt;int&gt;</th><th scope=col>&lt;fct&gt;</th><th scope=col>&lt;fct&gt;</th><th scope=col>&lt;fct&gt;</th><th scope=col>&lt;fct&gt;</th><th scope=col>&lt;dbl&gt;</th><th scope=col>&lt;dbl&gt;</th><th scope=col>&lt;dbl&gt;</th><th scope=col>&lt;dbl&gt;</th><th scope=col>&lt;dbl&gt;</th><th scope=col>&lt;dbl&gt;</th></tr>\n",
       "</thead>\n",
       "<tbody>\n",
       "\t<tr><th scope=row>1</th><td>XIST-2253</td><td>A3SS</td><td>2253</td><td>adipose_subcutaneous</td><td>8400</td><td>Adipose (sc)</td><td>XIST</td><td>ENSG00000229807.11</td><td>chrX</td><td>-4.408605</td><td>3.196317</td><td>-36.48897</td><td>4.635568e-154</td><td>3.893877e-150</td><td>310.0160</td></tr>\n",
       "\t<tr><th scope=row>2</th><td>XIST-2252</td><td>A3SS</td><td>2252</td><td>adipose_subcutaneous</td><td>8400</td><td>Adipose (sc)</td><td>XIST</td><td>ENSG00000229807.11</td><td>chrX</td><td>-2.414713</td><td>3.647690</td><td>-21.92106</td><td> 1.444102e-78</td><td> 6.065229e-75</td><td>160.0282</td></tr>\n",
       "</tbody>\n",
       "</table>\n"
      ],
      "text/latex": [
       "A data.frame: 2 × 15\n",
       "\\begin{tabular}{r|lllllllllllllll}\n",
       "  & GeneJunction & ASE & ASE\\_IDX & Tissue & counts & Display & GeneSymbol & GeneID & chr & logFC & AveExpr & t & PValue & AdjPVal & B\\\\\n",
       "  & <fct> & <fct> & <int> & <fct> & <int> & <fct> & <fct> & <fct> & <fct> & <dbl> & <dbl> & <dbl> & <dbl> & <dbl> & <dbl>\\\\\n",
       "\\hline\n",
       "\t1 & XIST-2253 & A3SS & 2253 & adipose\\_subcutaneous & 8400 & Adipose (sc) & XIST & ENSG00000229807.11 & chrX & -4.408605 & 3.196317 & -36.48897 & 4.635568e-154 & 3.893877e-150 & 310.0160\\\\\n",
       "\t2 & XIST-2252 & A3SS & 2252 & adipose\\_subcutaneous & 8400 & Adipose (sc) & XIST & ENSG00000229807.11 & chrX & -2.414713 & 3.647690 & -21.92106 &  1.444102e-78 &  6.065229e-75 & 160.0282\\\\\n",
       "\\end{tabular}\n"
      ],
      "text/markdown": [
       "\n",
       "A data.frame: 2 × 15\n",
       "\n",
       "| <!--/--> | GeneJunction &lt;fct&gt; | ASE &lt;fct&gt; | ASE_IDX &lt;int&gt; | Tissue &lt;fct&gt; | counts &lt;int&gt; | Display &lt;fct&gt; | GeneSymbol &lt;fct&gt; | GeneID &lt;fct&gt; | chr &lt;fct&gt; | logFC &lt;dbl&gt; | AveExpr &lt;dbl&gt; | t &lt;dbl&gt; | PValue &lt;dbl&gt; | AdjPVal &lt;dbl&gt; | B &lt;dbl&gt; |\n",
       "|---|---|---|---|---|---|---|---|---|---|---|---|---|---|---|---|\n",
       "| 1 | XIST-2253 | A3SS | 2253 | adipose_subcutaneous | 8400 | Adipose (sc) | XIST | ENSG00000229807.11 | chrX | -4.408605 | 3.196317 | -36.48897 | 4.635568e-154 | 3.893877e-150 | 310.0160 |\n",
       "| 2 | XIST-2252 | A3SS | 2252 | adipose_subcutaneous | 8400 | Adipose (sc) | XIST | ENSG00000229807.11 | chrX | -2.414713 | 3.647690 | -21.92106 |  1.444102e-78 |  6.065229e-75 | 160.0282 |\n",
       "\n"
      ],
      "text/plain": [
       "  GeneJunction ASE  ASE_IDX Tissue               counts Display      GeneSymbol\n",
       "1 XIST-2253    A3SS 2253    adipose_subcutaneous 8400   Adipose (sc) XIST      \n",
       "2 XIST-2252    A3SS 2252    adipose_subcutaneous 8400   Adipose (sc) XIST      \n",
       "  GeneID             chr  logFC     AveExpr  t         PValue       \n",
       "1 ENSG00000229807.11 chrX -4.408605 3.196317 -36.48897 4.635568e-154\n",
       "2 ENSG00000229807.11 chrX -2.414713 3.647690 -21.92106  1.444102e-78\n",
       "  AdjPVal       B       \n",
       "1 3.893877e-150 310.0160\n",
       "2  6.065229e-75 160.0282"
      ]
     },
     "metadata": {},
     "output_type": "display_data"
    }
   ],
   "source": [
    "results_dir         <- \"../data/\"\n",
    "significant_pattern <- \"_AS_model_B_sex_as_events_refined.csv\"\n",
    "significant_files   <- list.files(path = results_dir, pattern = significant_pattern)\n",
    "all_pattern         <- \"_AS_model_B_sex_as_events.csv\"\n",
    "all_files           <- list.files(path = results_dir, pattern = all_pattern)\n",
    "as_types            <- c(\"a3ss\", \"a5ss\", \"mxe\", \"ri\", \"se\")\n",
    "length(all_files)\n",
    "length(significant_files)\n",
    "\n",
    "gene_as     <- create_as_structure (results_dir      <- results_dir, \n",
    "                                    files            <- significant_files, \n",
    "                                    pattern          <- significant_pattern, \n",
    "                                    tissue_reduction <- tissue_reduction)\n",
    "all_gene_as <- create_as_structure (results_dir      <- results_dir, \n",
    "                                    files            <- all_files, \n",
    "                                    pattern          <- all_pattern, \n",
    "                                    tissue_reduction <- tissue_reduction)\n",
    "head(gene_as,2)\n",
    "head(all_gene_as, 2)\n",
    "gene_as$Tissue <- factor(gene_as$Tissue)\n",
    "write.table(gene_as, \"../data/gene_as.tsv\", quote=FALSE, sep=\"\\t\")\n",
    "write.table(all_gene_as, \"../data/all_gene_as.tsv\", quote=FALSE, sep=\"\\t\")"
   ]
  },
  {
   "cell_type": "markdown",
   "metadata": {},
   "source": [
    "### 2.6 Create a genes-id file capturing the unique gene-junction locations in a single file\n",
    "rMATS 3.2.5 unique junction ids by splicing event tied together with gene names and these identifiers useful for downstream analyses and investigations."
   ]
  },
  {
   "cell_type": "code",
   "execution_count": 40,
   "metadata": {},
   "outputs": [
    {
     "data": {
      "text/html": [
       "'se_adipose_subcutaneous_AS_model_B_sex_as_events_refined.csv'"
      ],
      "text/latex": [
       "'se\\_adipose\\_subcutaneous\\_AS\\_model\\_B\\_sex\\_as\\_events\\_refined.csv'"
      ],
      "text/markdown": [
       "'se_adipose_subcutaneous_AS_model_B_sex_as_events_refined.csv'"
      ],
      "text/plain": [
       "[1] \"se_adipose_subcutaneous_AS_model_B_sex_as_events_refined.csv\""
      ]
     },
     "metadata": {},
     "output_type": "display_data"
    }
   ],
   "source": [
    "results_dir         <- \"../data/\"\n",
    "significant_pattern <- \"^se_*AS_model_B_sex_as_events_refined.csv\"\n",
    "files   <- list.files(path =results_dir, pattern = glob2rx(significant_pattern))\n",
    "geneids <- data.frame()\n",
    "i = 1\n",
    "files[i]\n",
    "pattern=\"_AS_model_B_sex_as_events_refined.csv\"\n",
    "for (i in 1:length(files)) {\n",
    "    lines  <- read.table(file=paste0(results_dir, files[i]), \n",
    "                                     header = TRUE, sep = \",\", quote = \"\\\"'\", skipNul = FALSE)\n",
    "    \n",
    "    if (dim(lines)[1] > 0) {\n",
    "           event     <- as.vector(as.character(rownames(lines)))\n",
    "           tissue1   <- gsub(pattern,\"\", files[i], fixed = TRUE)\n",
    "           event_idx <- substring(event, regexpr(\"[0-9]+$\", event))\n",
    "           res       <- data.frame()\n",
    "           tissue2 <- substring(tissue1,4)\n",
    "           idx <- match(event_idx, se_annot$ID)\n",
    "           res <- data.frame(geneIDs      <- event,\n",
    "                             ID           <- event_idx,\n",
    "                             GeneSymbol   <- se_annot$geneSymbol[idx],\n",
    "                             GeneID       <- se_annot$GeneID[idx],\n",
    "                             chr          <- se_annot$chr[idx])\n",
    "           outfilename <- paste0(paste0(\"../data/se_\",tissue2),\"_geneids.tsv\")\n",
    "           write.table(res, outfilename, quote=FALSE, sep=\"\\t\")\n",
    "           \n",
    "     }\n",
    "}"
   ]
  },
  {
   "cell_type": "markdown",
   "metadata": {},
   "source": [
    "### 2.7 Read in the differential gene expression results\n",
    "\n",
    "Here we create an aggregation of al the significant results differential gene expression events."
   ]
  },
  {
   "cell_type": "code",
   "execution_count": 19,
   "metadata": {},
   "outputs": [
    {
     "data": {
      "text/html": [
       "39"
      ],
      "text/latex": [
       "39"
      ],
      "text/markdown": [
       "39"
      ],
      "text/plain": [
       "[1] 39"
      ]
     },
     "metadata": {},
     "output_type": "display_data"
    },
    {
     "name": "stderr",
     "output_type": "stream",
     "text": [
      "We extracted a total of 12633 significant differential gene events (gene_dge)\n",
      "\n",
      "This includes 7417 total genes\n",
      "\n"
     ]
    },
    {
     "data": {
      "text/html": [
       "<table>\n",
       "<caption>A data.frame: 2 × 12</caption>\n",
       "<thead>\n",
       "\t<tr><th></th><th scope=col>Tissue</th><th scope=col>ENSG_ver</th><th scope=col>ENSG_no_ver</th><th scope=col>GeneSymbol</th><th scope=col>counts</th><th scope=col>Display</th><th scope=col>logFC</th><th scope=col>AveExpr</th><th scope=col>t</th><th scope=col>PValue</th><th scope=col>AdjPVal</th><th scope=col>B</th></tr>\n",
       "\t<tr><th></th><th scope=col>&lt;fct&gt;</th><th scope=col>&lt;fct&gt;</th><th scope=col>&lt;fct&gt;</th><th scope=col>&lt;fct&gt;</th><th scope=col>&lt;int&gt;</th><th scope=col>&lt;fct&gt;</th><th scope=col>&lt;dbl&gt;</th><th scope=col>&lt;dbl&gt;</th><th scope=col>&lt;dbl&gt;</th><th scope=col>&lt;dbl&gt;</th><th scope=col>&lt;dbl&gt;</th><th scope=col>&lt;dbl&gt;</th></tr>\n",
       "</thead>\n",
       "<tbody>\n",
       "\t<tr><th scope=row>1</th><td>adipose_subcutaneous</td><td>ENSG00000176728.7</td><td>ENSG00000176728</td><td>TTTY14   </td><td>765</td><td>Adipose (sc)</td><td>-7.982166</td><td>-0.9288129</td><td>-139.8230</td><td>0</td><td>0</td><td>1107.423</td></tr>\n",
       "\t<tr><th scope=row>2</th><td>adipose_subcutaneous</td><td>ENSG00000231535.5</td><td>ENSG00000231535</td><td>LINC00278</td><td>765</td><td>Adipose (sc)</td><td>-6.095420</td><td>-2.7765638</td><td>-126.9138</td><td>0</td><td>0</td><td>1050.366</td></tr>\n",
       "</tbody>\n",
       "</table>\n"
      ],
      "text/latex": [
       "A data.frame: 2 × 12\n",
       "\\begin{tabular}{r|llllllllllll}\n",
       "  & Tissue & ENSG\\_ver & ENSG\\_no\\_ver & GeneSymbol & counts & Display & logFC & AveExpr & t & PValue & AdjPVal & B\\\\\n",
       "  & <fct> & <fct> & <fct> & <fct> & <int> & <fct> & <dbl> & <dbl> & <dbl> & <dbl> & <dbl> & <dbl>\\\\\n",
       "\\hline\n",
       "\t1 & adipose\\_subcutaneous & ENSG00000176728.7 & ENSG00000176728 & TTTY14    & 765 & Adipose (sc) & -7.982166 & -0.9288129 & -139.8230 & 0 & 0 & 1107.423\\\\\n",
       "\t2 & adipose\\_subcutaneous & ENSG00000231535.5 & ENSG00000231535 & LINC00278 & 765 & Adipose (sc) & -6.095420 & -2.7765638 & -126.9138 & 0 & 0 & 1050.366\\\\\n",
       "\\end{tabular}\n"
      ],
      "text/markdown": [
       "\n",
       "A data.frame: 2 × 12\n",
       "\n",
       "| <!--/--> | Tissue &lt;fct&gt; | ENSG_ver &lt;fct&gt; | ENSG_no_ver &lt;fct&gt; | GeneSymbol &lt;fct&gt; | counts &lt;int&gt; | Display &lt;fct&gt; | logFC &lt;dbl&gt; | AveExpr &lt;dbl&gt; | t &lt;dbl&gt; | PValue &lt;dbl&gt; | AdjPVal &lt;dbl&gt; | B &lt;dbl&gt; |\n",
       "|---|---|---|---|---|---|---|---|---|---|---|---|---|\n",
       "| 1 | adipose_subcutaneous | ENSG00000176728.7 | ENSG00000176728 | TTTY14    | 765 | Adipose (sc) | -7.982166 | -0.9288129 | -139.8230 | 0 | 0 | 1107.423 |\n",
       "| 2 | adipose_subcutaneous | ENSG00000231535.5 | ENSG00000231535 | LINC00278 | 765 | Adipose (sc) | -6.095420 | -2.7765638 | -126.9138 | 0 | 0 | 1050.366 |\n",
       "\n"
      ],
      "text/plain": [
       "  Tissue               ENSG_ver          ENSG_no_ver     GeneSymbol counts\n",
       "1 adipose_subcutaneous ENSG00000176728.7 ENSG00000176728 TTTY14     765   \n",
       "2 adipose_subcutaneous ENSG00000231535.5 ENSG00000231535 LINC00278  765   \n",
       "  Display      logFC     AveExpr    t         PValue AdjPVal B       \n",
       "1 Adipose (sc) -7.982166 -0.9288129 -139.8230 0      0       1107.423\n",
       "2 Adipose (sc) -6.095420 -2.7765638 -126.9138 0      0       1050.366"
      ]
     },
     "metadata": {},
     "output_type": "display_data"
    }
   ],
   "source": [
    "results_dir         <- \"../data/\"\n",
    "significant_pattern <- \"_DGE_refined.csv\"\n",
    "significant_files   <- list.files(path = results_dir, pattern = significant_pattern)\n",
    "map_pattern         <- \"_DGE_ensg_map.csv\"\n",
    "length(significant_files)\n",
    "\n",
    "gene_dge     <- create_dge_structure (results_dir      <- results_dir, \n",
    "                                      files            <- significant_files, \n",
    "                                      pattern          <- significant_pattern, \n",
    "                                      map_pattern      <- map_pattern,\n",
    "                                      tissue_reduction <- tissue_reduction)\n",
    "\n",
    "head(gene_dge,2)"
   ]
  },
  {
   "cell_type": "markdown",
   "metadata": {},
   "source": [
    "Load in the gencode.v30.annotation.gtf file for additional annotation"
   ]
  },
  {
   "cell_type": "code",
   "execution_count": 20,
   "metadata": {},
   "outputs": [
    {
     "data": {
      "text/html": [
       "<table>\n",
       "<caption>A data.frame: 6 × 3</caption>\n",
       "<thead>\n",
       "\t<tr><th></th><th scope=col>chr</th><th scope=col>GeneSymbol</th><th scope=col>ENSG</th></tr>\n",
       "\t<tr><th></th><th scope=col>&lt;fct&gt;</th><th scope=col>&lt;chr&gt;</th><th scope=col>&lt;chr&gt;</th></tr>\n",
       "</thead>\n",
       "<tbody>\n",
       "\t<tr><th scope=row>1</th><td>chr1</td><td>DDX11L1    </td><td>ENSG00000223972.5</td></tr>\n",
       "\t<tr><th scope=row>13</th><td>chr1</td><td>WASH7P     </td><td>ENSG00000227232.5</td></tr>\n",
       "\t<tr><th scope=row>26</th><td>chr1</td><td>MIR6859-1  </td><td>ENSG00000278267.1</td></tr>\n",
       "\t<tr><th scope=row>29</th><td>chr1</td><td>MIR1302-2HG</td><td>ENSG00000243485.5</td></tr>\n",
       "\t<tr><th scope=row>37</th><td>chr1</td><td>MIR1302-2  </td><td>ENSG00000284332.1</td></tr>\n",
       "\t<tr><th scope=row>40</th><td>chr1</td><td>FAM138A    </td><td>ENSG00000237613.2</td></tr>\n",
       "</tbody>\n",
       "</table>\n"
      ],
      "text/latex": [
       "A data.frame: 6 × 3\n",
       "\\begin{tabular}{r|lll}\n",
       "  & chr & GeneSymbol & ENSG\\\\\n",
       "  & <fct> & <chr> & <chr>\\\\\n",
       "\\hline\n",
       "\t1 & chr1 & DDX11L1     & ENSG00000223972.5\\\\\n",
       "\t13 & chr1 & WASH7P      & ENSG00000227232.5\\\\\n",
       "\t26 & chr1 & MIR6859-1   & ENSG00000278267.1\\\\\n",
       "\t29 & chr1 & MIR1302-2HG & ENSG00000243485.5\\\\\n",
       "\t37 & chr1 & MIR1302-2   & ENSG00000284332.1\\\\\n",
       "\t40 & chr1 & FAM138A     & ENSG00000237613.2\\\\\n",
       "\\end{tabular}\n"
      ],
      "text/markdown": [
       "\n",
       "A data.frame: 6 × 3\n",
       "\n",
       "| <!--/--> | chr &lt;fct&gt; | GeneSymbol &lt;chr&gt; | ENSG &lt;chr&gt; |\n",
       "|---|---|---|---|\n",
       "| 1 | chr1 | DDX11L1     | ENSG00000223972.5 |\n",
       "| 13 | chr1 | WASH7P      | ENSG00000227232.5 |\n",
       "| 26 | chr1 | MIR6859-1   | ENSG00000278267.1 |\n",
       "| 29 | chr1 | MIR1302-2HG | ENSG00000243485.5 |\n",
       "| 37 | chr1 | MIR1302-2   | ENSG00000284332.1 |\n",
       "| 40 | chr1 | FAM138A     | ENSG00000237613.2 |\n",
       "\n"
      ],
      "text/plain": [
       "   chr  GeneSymbol  ENSG             \n",
       "1  chr1 DDX11L1     ENSG00000223972.5\n",
       "13 chr1 WASH7P      ENSG00000227232.5\n",
       "26 chr1 MIR6859-1   ENSG00000278267.1\n",
       "29 chr1 MIR1302-2HG ENSG00000243485.5\n",
       "37 chr1 MIR1302-2   ENSG00000284332.1\n",
       "40 chr1 FAM138A     ENSG00000237613.2"
      ]
     },
     "metadata": {},
     "output_type": "display_data"
    }
   ],
   "source": [
    "#\n",
    "# add chr information for summary data later, use the annotation we used for rMATS\n",
    "#\n",
    "if (!(\"gencode.v30.annotation.gtf.gz\" %in% list.files(\"../data/\"))) {\n",
    "    message(\"downloading gencode v30 annotation\\n\")\n",
    "    system(\"wget -O ../data/gencode.v30.annotation.gtf.gz ftp://ftp.ebi.ac.uk/pub/databases/gencode/Gencode_human/release_30/gencode.v30.annotation.gtf.gz\")\n",
    "    message(\"Done!\\n\")\n",
    "    message(\"Unzipping compressed file gencode.v30.annotation.gtf.gz..\")\n",
    "    system(\"gunzip ../data/gencode.v30.annotation.gtf.gz\", intern = TRUE)\n",
    "    message(\"Done! gencode.v30.annotation.gtf can be found in ../data/\")\n",
    "}\n",
    "gencode <- import(\"../data/gencode.v30.annotation.gtf\")\n",
    "gtf.df <- as.data.frame (gencode)\n",
    "chr_genes <- unique(gtf.df[,c(\"seqnames\",\"gene_name\",\"gene_id\")])\n",
    "colnames(chr_genes) <- c(\"chr\",\"GeneSymbol\", \"ENSG\")\n",
    "head(chr_genes)\n"
   ]
  },
  {
   "cell_type": "code",
   "execution_count": 21,
   "metadata": {},
   "outputs": [
    {
     "data": {
      "text/html": [
       "<table>\n",
       "<caption>A data.frame: 6 × 3</caption>\n",
       "<thead>\n",
       "\t<tr><th></th><th scope=col>chr</th><th scope=col>GeneSymbol</th><th scope=col>ENSG</th></tr>\n",
       "\t<tr><th></th><th scope=col>&lt;fct&gt;</th><th scope=col>&lt;chr&gt;</th><th scope=col>&lt;chr&gt;</th></tr>\n",
       "</thead>\n",
       "<tbody>\n",
       "\t<tr><th scope=row>1</th><td>chr1</td><td>DDX11L1    </td><td>ENSG00000223972</td></tr>\n",
       "\t<tr><th scope=row>13</th><td>chr1</td><td>WASH7P     </td><td>ENSG00000227232</td></tr>\n",
       "\t<tr><th scope=row>26</th><td>chr1</td><td>MIR6859-1  </td><td>ENSG00000278267</td></tr>\n",
       "\t<tr><th scope=row>29</th><td>chr1</td><td>MIR1302-2HG</td><td>ENSG00000243485</td></tr>\n",
       "\t<tr><th scope=row>37</th><td>chr1</td><td>MIR1302-2  </td><td>ENSG00000284332</td></tr>\n",
       "\t<tr><th scope=row>40</th><td>chr1</td><td>FAM138A    </td><td>ENSG00000237613</td></tr>\n",
       "</tbody>\n",
       "</table>\n"
      ],
      "text/latex": [
       "A data.frame: 6 × 3\n",
       "\\begin{tabular}{r|lll}\n",
       "  & chr & GeneSymbol & ENSG\\\\\n",
       "  & <fct> & <chr> & <chr>\\\\\n",
       "\\hline\n",
       "\t1 & chr1 & DDX11L1     & ENSG00000223972\\\\\n",
       "\t13 & chr1 & WASH7P      & ENSG00000227232\\\\\n",
       "\t26 & chr1 & MIR6859-1   & ENSG00000278267\\\\\n",
       "\t29 & chr1 & MIR1302-2HG & ENSG00000243485\\\\\n",
       "\t37 & chr1 & MIR1302-2   & ENSG00000284332\\\\\n",
       "\t40 & chr1 & FAM138A     & ENSG00000237613\\\\\n",
       "\\end{tabular}\n"
      ],
      "text/markdown": [
       "\n",
       "A data.frame: 6 × 3\n",
       "\n",
       "| <!--/--> | chr &lt;fct&gt; | GeneSymbol &lt;chr&gt; | ENSG &lt;chr&gt; |\n",
       "|---|---|---|---|\n",
       "| 1 | chr1 | DDX11L1     | ENSG00000223972 |\n",
       "| 13 | chr1 | WASH7P      | ENSG00000227232 |\n",
       "| 26 | chr1 | MIR6859-1   | ENSG00000278267 |\n",
       "| 29 | chr1 | MIR1302-2HG | ENSG00000243485 |\n",
       "| 37 | chr1 | MIR1302-2   | ENSG00000284332 |\n",
       "| 40 | chr1 | FAM138A     | ENSG00000237613 |\n",
       "\n"
      ],
      "text/plain": [
       "   chr  GeneSymbol  ENSG           \n",
       "1  chr1 DDX11L1     ENSG00000223972\n",
       "13 chr1 WASH7P      ENSG00000227232\n",
       "26 chr1 MIR6859-1   ENSG00000278267\n",
       "29 chr1 MIR1302-2HG ENSG00000243485\n",
       "37 chr1 MIR1302-2   ENSG00000284332\n",
       "40 chr1 FAM138A     ENSG00000237613"
      ]
     },
     "metadata": {},
     "output_type": "display_data"
    }
   ],
   "source": [
    "for (i in 1:dim(chr_genes)[1]) {\n",
    "    chr_genes$ENSG[i] <- as.character(strsplit(chr_genes$ENSG[i],'\\\\.\\\\w+$'))\n",
    "}\n",
    "head(chr_genes)"
   ]
  },
  {
   "cell_type": "code",
   "execution_count": 23,
   "metadata": {},
   "outputs": [
    {
     "data": {
      "text/html": [
       "<table>\n",
       "<caption>A data.frame: 6 × 13</caption>\n",
       "<thead>\n",
       "\t<tr><th></th><th scope=col>Tissue</th><th scope=col>ENSG_ver</th><th scope=col>ENSG_no_ver</th><th scope=col>GeneSymbol</th><th scope=col>counts</th><th scope=col>Display</th><th scope=col>logFC</th><th scope=col>AveExpr</th><th scope=col>t</th><th scope=col>PValue</th><th scope=col>AdjPVal</th><th scope=col>B</th><th scope=col>chr</th></tr>\n",
       "\t<tr><th></th><th scope=col>&lt;fct&gt;</th><th scope=col>&lt;fct&gt;</th><th scope=col>&lt;fct&gt;</th><th scope=col>&lt;fct&gt;</th><th scope=col>&lt;int&gt;</th><th scope=col>&lt;fct&gt;</th><th scope=col>&lt;dbl&gt;</th><th scope=col>&lt;dbl&gt;</th><th scope=col>&lt;dbl&gt;</th><th scope=col>&lt;dbl&gt;</th><th scope=col>&lt;dbl&gt;</th><th scope=col>&lt;dbl&gt;</th><th scope=col>&lt;chr&gt;</th></tr>\n",
       "</thead>\n",
       "<tbody>\n",
       "\t<tr><th scope=row>1</th><td>adipose_subcutaneous</td><td>ENSG00000176728.7 </td><td>ENSG00000176728</td><td>TTTY14   </td><td>765</td><td>Adipose (sc)</td><td>-7.982166</td><td>-0.9288129</td><td>-139.8230</td><td>0</td><td>0</td><td>1107.423</td><td>chrY</td></tr>\n",
       "\t<tr><th scope=row>2</th><td>adipose_subcutaneous</td><td>ENSG00000231535.5 </td><td>ENSG00000231535</td><td>LINC00278</td><td>765</td><td>Adipose (sc)</td><td>-6.095420</td><td>-2.7765638</td><td>-126.9138</td><td>0</td><td>0</td><td>1050.366</td><td>chrY</td></tr>\n",
       "\t<tr><th scope=row>3</th><td>adipose_subcutaneous</td><td>ENSG00000129824.15</td><td>ENSG00000129824</td><td>RPS4Y1   </td><td>765</td><td>Adipose (sc)</td><td>-9.664190</td><td> 4.6352877</td><td>-125.8271</td><td>0</td><td>0</td><td>1041.877</td><td>chrY</td></tr>\n",
       "\t<tr><th scope=row>4</th><td>adipose_subcutaneous</td><td>ENSG00000067646.11</td><td>ENSG00000067646</td><td>ZFY      </td><td>765</td><td>Adipose (sc)</td><td>-9.504590</td><td> 0.6727555</td><td>-125.0371</td><td>0</td><td>0</td><td>1033.611</td><td>chrY</td></tr>\n",
       "\t<tr><th scope=row>5</th><td>adipose_subcutaneous</td><td>ENSG00000229807.10</td><td>ENSG00000229807</td><td>XIST     </td><td>765</td><td>Adipose (sc)</td><td> 9.892810</td><td> 1.2375604</td><td> 121.6969</td><td>0</td><td>0</td><td>1030.178</td><td>chrX</td></tr>\n",
       "\t<tr><th scope=row>6</th><td>adipose_subcutaneous</td><td>ENSG00000229236.1 </td><td>ENSG00000229236</td><td>TTTY10   </td><td>765</td><td>Adipose (sc)</td><td>-6.209013</td><td>-2.7452436</td><td>-122.5403</td><td>0</td><td>0</td><td>1029.414</td><td>chrY</td></tr>\n",
       "</tbody>\n",
       "</table>\n"
      ],
      "text/latex": [
       "A data.frame: 6 × 13\n",
       "\\begin{tabular}{r|lllllllllllll}\n",
       "  & Tissue & ENSG\\_ver & ENSG\\_no\\_ver & GeneSymbol & counts & Display & logFC & AveExpr & t & PValue & AdjPVal & B & chr\\\\\n",
       "  & <fct> & <fct> & <fct> & <fct> & <int> & <fct> & <dbl> & <dbl> & <dbl> & <dbl> & <dbl> & <dbl> & <chr>\\\\\n",
       "\\hline\n",
       "\t1 & adipose\\_subcutaneous & ENSG00000176728.7  & ENSG00000176728 & TTTY14    & 765 & Adipose (sc) & -7.982166 & -0.9288129 & -139.8230 & 0 & 0 & 1107.423 & chrY\\\\\n",
       "\t2 & adipose\\_subcutaneous & ENSG00000231535.5  & ENSG00000231535 & LINC00278 & 765 & Adipose (sc) & -6.095420 & -2.7765638 & -126.9138 & 0 & 0 & 1050.366 & chrY\\\\\n",
       "\t3 & adipose\\_subcutaneous & ENSG00000129824.15 & ENSG00000129824 & RPS4Y1    & 765 & Adipose (sc) & -9.664190 &  4.6352877 & -125.8271 & 0 & 0 & 1041.877 & chrY\\\\\n",
       "\t4 & adipose\\_subcutaneous & ENSG00000067646.11 & ENSG00000067646 & ZFY       & 765 & Adipose (sc) & -9.504590 &  0.6727555 & -125.0371 & 0 & 0 & 1033.611 & chrY\\\\\n",
       "\t5 & adipose\\_subcutaneous & ENSG00000229807.10 & ENSG00000229807 & XIST      & 765 & Adipose (sc) &  9.892810 &  1.2375604 &  121.6969 & 0 & 0 & 1030.178 & chrX\\\\\n",
       "\t6 & adipose\\_subcutaneous & ENSG00000229236.1  & ENSG00000229236 & TTTY10    & 765 & Adipose (sc) & -6.209013 & -2.7452436 & -122.5403 & 0 & 0 & 1029.414 & chrY\\\\\n",
       "\\end{tabular}\n"
      ],
      "text/markdown": [
       "\n",
       "A data.frame: 6 × 13\n",
       "\n",
       "| <!--/--> | Tissue &lt;fct&gt; | ENSG_ver &lt;fct&gt; | ENSG_no_ver &lt;fct&gt; | GeneSymbol &lt;fct&gt; | counts &lt;int&gt; | Display &lt;fct&gt; | logFC &lt;dbl&gt; | AveExpr &lt;dbl&gt; | t &lt;dbl&gt; | PValue &lt;dbl&gt; | AdjPVal &lt;dbl&gt; | B &lt;dbl&gt; | chr &lt;chr&gt; |\n",
       "|---|---|---|---|---|---|---|---|---|---|---|---|---|---|\n",
       "| 1 | adipose_subcutaneous | ENSG00000176728.7  | ENSG00000176728 | TTTY14    | 765 | Adipose (sc) | -7.982166 | -0.9288129 | -139.8230 | 0 | 0 | 1107.423 | chrY |\n",
       "| 2 | adipose_subcutaneous | ENSG00000231535.5  | ENSG00000231535 | LINC00278 | 765 | Adipose (sc) | -6.095420 | -2.7765638 | -126.9138 | 0 | 0 | 1050.366 | chrY |\n",
       "| 3 | adipose_subcutaneous | ENSG00000129824.15 | ENSG00000129824 | RPS4Y1    | 765 | Adipose (sc) | -9.664190 |  4.6352877 | -125.8271 | 0 | 0 | 1041.877 | chrY |\n",
       "| 4 | adipose_subcutaneous | ENSG00000067646.11 | ENSG00000067646 | ZFY       | 765 | Adipose (sc) | -9.504590 |  0.6727555 | -125.0371 | 0 | 0 | 1033.611 | chrY |\n",
       "| 5 | adipose_subcutaneous | ENSG00000229807.10 | ENSG00000229807 | XIST      | 765 | Adipose (sc) |  9.892810 |  1.2375604 |  121.6969 | 0 | 0 | 1030.178 | chrX |\n",
       "| 6 | adipose_subcutaneous | ENSG00000229236.1  | ENSG00000229236 | TTTY10    | 765 | Adipose (sc) | -6.209013 | -2.7452436 | -122.5403 | 0 | 0 | 1029.414 | chrY |\n",
       "\n"
      ],
      "text/plain": [
       "  Tissue               ENSG_ver           ENSG_no_ver     GeneSymbol counts\n",
       "1 adipose_subcutaneous ENSG00000176728.7  ENSG00000176728 TTTY14     765   \n",
       "2 adipose_subcutaneous ENSG00000231535.5  ENSG00000231535 LINC00278  765   \n",
       "3 adipose_subcutaneous ENSG00000129824.15 ENSG00000129824 RPS4Y1     765   \n",
       "4 adipose_subcutaneous ENSG00000067646.11 ENSG00000067646 ZFY        765   \n",
       "5 adipose_subcutaneous ENSG00000229807.10 ENSG00000229807 XIST       765   \n",
       "6 adipose_subcutaneous ENSG00000229236.1  ENSG00000229236 TTTY10     765   \n",
       "  Display      logFC     AveExpr    t         PValue AdjPVal B        chr \n",
       "1 Adipose (sc) -7.982166 -0.9288129 -139.8230 0      0       1107.423 chrY\n",
       "2 Adipose (sc) -6.095420 -2.7765638 -126.9138 0      0       1050.366 chrY\n",
       "3 Adipose (sc) -9.664190  4.6352877 -125.8271 0      0       1041.877 chrY\n",
       "4 Adipose (sc) -9.504590  0.6727555 -125.0371 0      0       1033.611 chrY\n",
       "5 Adipose (sc)  9.892810  1.2375604  121.6969 0      0       1030.178 chrX\n",
       "6 Adipose (sc) -6.209013 -2.7452436 -122.5403 0      0       1029.414 chrY"
      ]
     },
     "metadata": {},
     "output_type": "display_data"
    }
   ],
   "source": [
    "i = 1\n",
    "chr <- rep(\"NA\",dim(gene_dge)[1])\n",
    "gene_dge$chr <- chr\n",
    "for (i in 1:dim(gene_dge)[1]) {\n",
    "    match  <- as.character(chr_genes$ENSG) %in% as.character((gene_dge$ENSG_no_ver[i]))\n",
    "    if (sum(match==TRUE)== 1) {\n",
    "        chr[i] <- as.character(chr_genes[match,]$chr)\n",
    "        gene_dge$chr[i] <- chr[i]\n",
    "    } else if (sum(match==TRUE)>1) {\n",
    "        all <- as.vector(as.character(chr_genes[match,]$chr))\n",
    "        gene_dge$chr[i] <- as.character(all[1])\n",
    "    }\n",
    "}\n",
    "head(gene_dge)\n",
    "\n",
    "write.table(gene_dge, \"../data/gene_dge.tsv\", quote=FALSE, sep=\"\\t\")"
   ]
  },
  {
   "cell_type": "markdown",
   "metadata": {},
   "source": [
    "### 2.8 Summary gene_as and gene_dge regarding events by tissue"
   ]
  },
  {
   "cell_type": "code",
   "execution_count": 47,
   "metadata": {},
   "outputs": [
    {
     "ename": "ERROR",
     "evalue": "Error in `[.tbl_df`(XY, order(XY$n), decreasing = TRUE): unused argument (decreasing = TRUE)\n",
     "output_type": "error",
     "traceback": [
      "Error in `[.tbl_df`(XY, order(XY$n), decreasing = TRUE): unused argument (decreasing = TRUE)\nTraceback:\n",
      "1. XY[order(XY$n), decreasing = TRUE]"
     ]
    }
   ],
   "source": [
    "XY <- gene_as %>% group_by(Tissue) %>% tally()\n",
    "XY <- XY[order(XY$n),decreasing=TRUE]\n",
    "head(XY)\n",
    "message(\"Minimum splicing events per tissue \", min(XY$n), \" maximum splicing events per tissue \", max(XY$n))\n",
    "#XY[XY$n>100,]\n",
    "sum(XY$n<100)\n",
    "\n",
    "XY <- gene_dge %>% group_by(Tissue) %>% tally()\n",
    "XY <- XY[order(XY$n),decreasing=TRUE]\n",
    "head(XY)\n",
    "message(\"Minimum gene expression events per tissue \", min(XY$n), \" maximum gene expression events per tissue \", max(XY$n))\n",
    "#XY[XY$n>100,]\n",
    "sum(XY$n<100)"
   ]
  },
  {
   "cell_type": "code",
   "execution_count": null,
   "metadata": {},
   "outputs": [],
   "source": []
  },
  {
   "cell_type": "code",
   "execution_count": 28,
   "metadata": {},
   "outputs": [
    {
     "data": {
      "text/plain": [
       "\n",
       "          3prime_overlapping_ncRNA                          antisense \n",
       "                               152                              46899 \n",
       "     bidirectional_promoter_lncRNA                          IG_C_gene \n",
       "                              1655                                296 \n",
       "                   IG_C_pseudogene                          IG_D_gene \n",
       "                                33                                152 \n",
       "                         IG_J_gene                    IG_J_pseudogene \n",
       "                                76                                  9 \n",
       "                     IG_pseudogene                          IG_V_gene \n",
       "                                 3                               1169 \n",
       "                   IG_V_pseudogene                            lincRNA \n",
       "                               664                              65178 \n",
       "                      macro_lncRNA                              miRNA \n",
       "                                 3                               5643 \n",
       "                          misc_RNA                            Mt_rRNA \n",
       "                              6636                                  6 \n",
       "                           Mt_tRNA                         non_coding \n",
       "                                66                                  3 \n",
       "            polymorphic_pseudogene               processed_pseudogene \n",
       "                              1876                              32130 \n",
       "              processed_transcript                     protein_coding \n",
       "                             20539                            2529002 \n",
       "                        pseudogene                           ribozyme \n",
       "                                76                                 24 \n",
       "                              rRNA                    rRNA_pseudogene \n",
       "                               156                               1500 \n",
       "                            scaRNA                              scRNA \n",
       "                               147                                  3 \n",
       "                    sense_intronic                  sense_overlapping \n",
       "                              3550                               1536 \n",
       "                            snoRNA                              snRNA \n",
       "                              2850                               5703 \n",
       "                              sRNA                                TEC \n",
       "                                15                               3262 \n",
       "                         TR_C_gene                          TR_D_gene \n",
       "                                70                                 16 \n",
       "                         TR_J_gene                    TR_J_pseudogene \n",
       "                               316                                 12 \n",
       "                         TR_V_gene                    TR_V_pseudogene \n",
       "                               826                                123 \n",
       "  transcribed_processed_pseudogene     transcribed_unitary_pseudogene \n",
       "                              4236                               4601 \n",
       "transcribed_unprocessed_pseudogene    translated_processed_pseudogene \n",
       "                             19345                                  8 \n",
       "                unitary_pseudogene             unprocessed_pseudogene \n",
       "                               485                              13246 \n",
       "                          vaultRNA \n",
       "                                 3 "
      ]
     },
     "metadata": {},
     "output_type": "display_data"
    }
   ],
   "source": [
    "table(gtf.df[,c(\"gene_type\")])\n"
   ]
  },
  {
   "cell_type": "markdown",
   "metadata": {},
   "source": [
    "### 3 Data Structures for Figures"
   ]
  },
  {
   "cell_type": "markdown",
   "metadata": {},
   "source": [
    "### 3.1 gene_as.tsv\n",
    "\n",
    "This file contains (description)\n",
    "Here is a typical line\n",
    "<pre>\n",
    "A data.frame: 6 × 15\n",
    "GeneJunction\tASE\tASE_IDX\tTissue\tcounts\tDisplay\tGeneSymbol\tGeneID\tchr\tlogFC\tAveExpr\tt\tPValue\tAdjPVal\tB\n",
    "<fct>\t<fct>\t<int>\t<fct>\t<int>\t<fct>\t<fct>\t<fct>\t<fct>\t<dbl>\t<dbl>\t<dbl>\t<dbl>\t<dbl>\t<dbl>\n",
    "1\tXIST-2253\tA3SS\t2253\tadipose_subcutaneous\t4\tAdipose (sc)\tXIST\tENSG00000229807.11\tchrX\t-4.4086049\t3.196317\t-36.488970\t4.635568e-154\t3.893877e-150\t310.016049\n",
    "2\tXIST-2252\tA3SS\t2252\tadipose_subcutaneous\t4\tAdipose (sc)\tXIST\tENSG00000229807.11\tchrX\t-2.4147126\t3.647690\t-21.921057\t1.444102e-78\t6.065229e-75\t160.028167\n",
    "3\tGREB1L-4933\tA3SS\t4933\tadipose_subcutaneous\t4\tAdipose (sc)\tGREB1L\tENSG00000141449.14\tchr18\t1.2793173\t2.115005\t7.123138\t3.052112e-12\t8.545914e-09\t16.692429\n",
    "4\tRHCG-1776\tA3SS\t1776\tadipose_subcutaneous\t4\tAdipose (sc)\tRHCG\tENSG00000140519.14\tchr15\t-0.6930009\t1.636472\t-3.922124\t9.797866e-05\t3.919146e-02\t1.142232\n",
    "5\tXIST-2253\tA3SS\t2253\tadipose_visceral_omentum\t12\tAdipose (v)\tXIST\tENSG00000229807.11\tchrX\t-4.4403352\t3.113532\t-33.950800\t2.654474e-123\t2.209585e-119\t241.826117\n",
    "6\tXIST-2252\tA3SS\t2252\tadipose_visceral_omentum\t12\tAdipose (v)\tXIST\tENSG00000229807.11\tchrX\t-2.4506832\t3.650617\t-18.890779\t2.817671e-58\t1.172715e-54\t114.731682\n",
    "</pre>\n",
    "There are 2887 significant events in the file."
   ]
  },
  {
   "cell_type": "code",
   "execution_count": null,
   "metadata": {},
   "outputs": [],
   "source": [
    "glimpse(gene_as)\n",
    "gene_as$Tissue <- factor(gene_as$Tissue)\n",
    "length(levels(gene_as$Tissue))\n",
    "table(is.na(gene_as$Display))\n",
    "table(gene_as$Display)\n",
    "colnames(gene_as)\n",
    "head(gene_as)\n",
    "tissue_reduction$display_name <- factor(tissue_reduction$display_name)"
   ]
  },
  {
   "cell_type": "code",
   "execution_count": 50,
   "metadata": {},
   "outputs": [
    {
     "name": "stderr",
     "output_type": "stream",
     "text": [
      "There were 6370 total significant alternative splicing events (gene_as)\n",
      "\n",
      "There were 783 total significant alternative splicing events on the X chromosome (gene_as)\n",
      "\n",
      "i.e., 12.2919937205651% of all significant AS events were on the X chromosome\n",
      "\n",
      "gene_as now has 39 tissues and 5 ASE categories\n",
      "\n",
      "ASE:\n",
      "\n"
     ]
    },
    {
     "data": {
      "text/html": [
       "<style>\n",
       ".dl-inline {width: auto; margin:0; padding: 0}\n",
       ".dl-inline>dt, .dl-inline>dd {float: none; width: auto; display: inline-block}\n",
       ".dl-inline>dt::after {content: \":\\0020\"; padding-right: .5ex}\n",
       ".dl-inline>dt:not(:first-of-type) {padding-left: .5ex}\n",
       "</style><dl class=dl-inline><dt>A3SS</dt><dd>693</dd><dt>A5SS</dt><dd>421</dd><dt>MXE</dt><dd>199</dd><dt>RI</dt><dd>418</dd><dt>SE</dt><dd>4639</dd></dl>\n"
      ],
      "text/latex": [
       "\\begin{description*}\n",
       "\\item[A3SS] 693\n",
       "\\item[A5SS] 421\n",
       "\\item[MXE] 199\n",
       "\\item[RI] 418\n",
       "\\item[SE] 4639\n",
       "\\end{description*}\n"
      ],
      "text/markdown": [
       "A3SS\n",
       ":   693A5SS\n",
       ":   421MXE\n",
       ":   199RI\n",
       ":   418SE\n",
       ":   4639\n",
       "\n"
      ],
      "text/plain": [
       "A3SS A5SS  MXE   RI   SE \n",
       " 693  421  199  418 4639 "
      ]
     },
     "metadata": {},
     "output_type": "display_data"
    }
   ],
   "source": [
    "x_as_events <- gene_as[gene_as$chr==\"chrX\",]\n",
    "message(\"There were \",nrow(gene_as),\" total significant alternative splicing events (gene_as)\")\n",
    "message(\"There were \",nrow(x_as_events),\" total significant alternative splicing events on the X chromosome (gene_as)\")\n",
    "message(\"i.e., \", (100*nrow(x_as_events)/nrow(gene_as)), \"% of all significant AS events were on the X chromosome\")\n",
    "\n",
    "numberOfUniqueTissues <- length(summary(as.factor(gene_as$Display),maxsum=500))\n",
    "numberOfASEmechanisms <- length(summary(as.factor(gene_as$ASE),maxsum=500))\n",
    "\n",
    "message(\"gene_as now has \",numberOfUniqueTissues, \" tissues and \", numberOfASEmechanisms, \" ASE categories\")\n",
    "message(\"ASE:\")\n",
    "summary(as.factor(gene_as$ASE),maxsum=500)"
   ]
  },
  {
   "cell_type": "markdown",
   "metadata": {},
   "source": [
    "### 3.2 gene_dge.tsv\n",
    "\n",
    "This file contains (description)\n",
    "Here is a typical line\n",
    "<pre>\n",
    "Tissue  ENSG_ver        ENSG_no_ver     GeneSymbol      counts  Display logFC   AveExpr t       PValue  AdjPVal B\n",
    "1       adipose_subcutaneous    ENSG00000176728.7       ENSG00000176728 TTTY14  765     Adipose (sc)    -7.98216577151896     -0.928812923511535       -139.823010017733       0       0       1107.42326360464\n",
    "2       adipose_subcutaneous    ENSG00000231535.5       ENSG00000231535 LINC00278       765     Adipose (sc)    -6.09542040758638      -2.77656379347601       -126.913818678612       0       0       1050.36559888639\n",
    "3       adipose_subcutaneous    ENSG00000129824.15      ENSG00000129824 RPS4Y1  765     Adipose (sc)    -9.6641901864726      4.63528767282141 -125.827094717734       0       0       1041.87660796556\n",
    "4       adipose_subcutaneous    ENSG00000067646.11      ENSG00000067646 ZFY     765     Adipose (sc)    -9.50458982938477     0.672755457406984        -125.037143030325       0       0       1033.61131617113\n",
    "5       adipose_subcutaneous    ENSG00000229807.10      ENSG00000229807 XIST    765     Adipose (sc)    9.89280986473167      1.23756039627052 121.69689757218 0       0       1030.17757492281\n",
    "6       adipose_subcutaneous    ENSG00000229236.1       ENSG00000229236 TTTY10  765     Adipose (sc)    -6.20901295440725     -2.74524363170072        -122.540297482165       0       0       1029.41424065532\n",
    "7       adipose_subcutaneous    ENSG00000233864.7       ENSG00000233864 TTTY15  765     Adipose (sc)    -8.19361688496523     -0.741097276206495       -122.47199454746        0       0       1027.58175958647\n",
    "8       adipose_subcutaneous    ENSG00000260197.1       ENSG00000260197 AC010889.1      765     Adipose (sc)    -8.52835806068555      -0.686009457030557      -119.790486729538       0       0       1015.85291786821\n",
    "9       adipose_subcutaneous    ENSG00000183878.15      ENSG00000183878 UTY     765     Adipose (sc)    -9.52139275438866     1.60375445153084 -110.599936868261       0       0       953.069478992754\n",
    "</pre>\n",
    "There are 7417 significant events in the file."
   ]
  },
  {
   "cell_type": "code",
   "execution_count": 49,
   "metadata": {},
   "outputs": [
    {
     "name": "stderr",
     "output_type": "stream",
     "text": [
      "There were 12633 total significant differential gene expression events (gene_dge)\n",
      "\n",
      "There were 774 total significant differential gene expression events on the X chromosome (gene_as)\n",
      "\n",
      "i.e., 6.12681073379245% of all significant DGE events were on the X chromosome\n",
      "\n",
      "gene_dge now has 39 tissues\n",
      "\n"
     ]
    }
   ],
   "source": [
    "x_dge_events <- gene_dge[gene_dge$chr==\"chrX\",]\n",
    "message(\"There were \",nrow(gene_dge),\" total significant differential gene expression events (gene_dge)\")\n",
    "message(\"There were \",nrow(x_dge_events),\" total significant differential gene expression events on the X chromosome (gene_as)\")\n",
    "message(\"i.e., \", (100*nrow(x_dge_events)/nrow(gene_dge)), \"% of all significant DGE events were on the X chromosome\")\n",
    "\n",
    "numberOfUniqueTissues <- length(summary(as.factor(gene_dge$Display),maxsum=500))\n",
    "\n",
    "message(\"gene_dge now has \",numberOfUniqueTissues, \" tissues\")"
   ]
  },
  {
   "cell_type": "markdown",
   "metadata": {},
   "source": [
    "### 3.3 Count events by chromosome\n",
    "\n",
    "Count the number of significant alternative splicing events per chromosome and save to the file **Total_AS_by_chr.tsv**."
   ]
  },
  {
   "cell_type": "markdown",
   "metadata": {},
   "source": [
    "### 3.3.1 by alternative splicing events"
   ]
  },
  {
   "cell_type": "code",
   "execution_count": 51,
   "metadata": {},
   "outputs": [
    {
     "data": {
      "text/html": [
       "23"
      ],
      "text/latex": [
       "23"
      ],
      "text/markdown": [
       "23"
      ],
      "text/plain": [
       "[1] 23"
      ]
     },
     "metadata": {},
     "output_type": "display_data"
    },
    {
     "data": {
      "text/html": [
       "<table>\n",
       "<caption>A data.frame: 23 × 2</caption>\n",
       "<thead>\n",
       "\t<tr><th scope=col>chr</th><th scope=col>n</th></tr>\n",
       "\t<tr><th scope=col>&lt;fct&gt;</th><th scope=col>&lt;int&gt;</th></tr>\n",
       "</thead>\n",
       "<tbody>\n",
       "\t<tr><td>chrX </td><td>783</td></tr>\n",
       "\t<tr><td>chr1 </td><td>636</td></tr>\n",
       "\t<tr><td>chr19</td><td>442</td></tr>\n",
       "\t<tr><td>chr11</td><td>374</td></tr>\n",
       "\t<tr><td>chr2 </td><td>374</td></tr>\n",
       "\t<tr><td>chr3 </td><td>368</td></tr>\n",
       "\t<tr><td>chr17</td><td>363</td></tr>\n",
       "\t<tr><td>chr12</td><td>334</td></tr>\n",
       "\t<tr><td>chr16</td><td>313</td></tr>\n",
       "\t<tr><td>chr4 </td><td>292</td></tr>\n",
       "\t<tr><td>chr7 </td><td>248</td></tr>\n",
       "\t<tr><td>chr6 </td><td>243</td></tr>\n",
       "\t<tr><td>chr15</td><td>225</td></tr>\n",
       "\t<tr><td>chr5 </td><td>214</td></tr>\n",
       "\t<tr><td>chr10</td><td>186</td></tr>\n",
       "\t<tr><td>chr8 </td><td>177</td></tr>\n",
       "\t<tr><td>chr22</td><td>171</td></tr>\n",
       "\t<tr><td>chr9 </td><td>170</td></tr>\n",
       "\t<tr><td>chr14</td><td>146</td></tr>\n",
       "\t<tr><td>chr20</td><td>115</td></tr>\n",
       "\t<tr><td>chr18</td><td> 90</td></tr>\n",
       "\t<tr><td>chr13</td><td> 64</td></tr>\n",
       "\t<tr><td>chr21</td><td> 42</td></tr>\n",
       "</tbody>\n",
       "</table>\n"
      ],
      "text/latex": [
       "A data.frame: 23 × 2\n",
       "\\begin{tabular}{ll}\n",
       " chr & n\\\\\n",
       " <fct> & <int>\\\\\n",
       "\\hline\n",
       "\t chrX  & 783\\\\\n",
       "\t chr1  & 636\\\\\n",
       "\t chr19 & 442\\\\\n",
       "\t chr11 & 374\\\\\n",
       "\t chr2  & 374\\\\\n",
       "\t chr3  & 368\\\\\n",
       "\t chr17 & 363\\\\\n",
       "\t chr12 & 334\\\\\n",
       "\t chr16 & 313\\\\\n",
       "\t chr4  & 292\\\\\n",
       "\t chr7  & 248\\\\\n",
       "\t chr6  & 243\\\\\n",
       "\t chr15 & 225\\\\\n",
       "\t chr5  & 214\\\\\n",
       "\t chr10 & 186\\\\\n",
       "\t chr8  & 177\\\\\n",
       "\t chr22 & 171\\\\\n",
       "\t chr9  & 170\\\\\n",
       "\t chr14 & 146\\\\\n",
       "\t chr20 & 115\\\\\n",
       "\t chr18 &  90\\\\\n",
       "\t chr13 &  64\\\\\n",
       "\t chr21 &  42\\\\\n",
       "\\end{tabular}\n"
      ],
      "text/markdown": [
       "\n",
       "A data.frame: 23 × 2\n",
       "\n",
       "| chr &lt;fct&gt; | n &lt;int&gt; |\n",
       "|---|---|\n",
       "| chrX  | 783 |\n",
       "| chr1  | 636 |\n",
       "| chr19 | 442 |\n",
       "| chr11 | 374 |\n",
       "| chr2  | 374 |\n",
       "| chr3  | 368 |\n",
       "| chr17 | 363 |\n",
       "| chr12 | 334 |\n",
       "| chr16 | 313 |\n",
       "| chr4  | 292 |\n",
       "| chr7  | 248 |\n",
       "| chr6  | 243 |\n",
       "| chr15 | 225 |\n",
       "| chr5  | 214 |\n",
       "| chr10 | 186 |\n",
       "| chr8  | 177 |\n",
       "| chr22 | 171 |\n",
       "| chr9  | 170 |\n",
       "| chr14 | 146 |\n",
       "| chr20 | 115 |\n",
       "| chr18 |  90 |\n",
       "| chr13 |  64 |\n",
       "| chr21 |  42 |\n",
       "\n"
      ],
      "text/plain": [
       "   chr   n  \n",
       "1  chrX  783\n",
       "2  chr1  636\n",
       "3  chr19 442\n",
       "4  chr11 374\n",
       "5  chr2  374\n",
       "6  chr3  368\n",
       "7  chr17 363\n",
       "8  chr12 334\n",
       "9  chr16 313\n",
       "10 chr4  292\n",
       "11 chr7  248\n",
       "12 chr6  243\n",
       "13 chr15 225\n",
       "14 chr5  214\n",
       "15 chr10 186\n",
       "16 chr8  177\n",
       "17 chr22 171\n",
       "18 chr9  170\n",
       "19 chr14 146\n",
       "20 chr20 115\n",
       "21 chr18  90\n",
       "22 chr13  64\n",
       "23 chr21  42"
      ]
     },
     "metadata": {},
     "output_type": "display_data"
    },
    {
     "name": "stdout",
     "output_type": "stream",
     "text": [
      "Observations: 23\n",
      "Variables: 2\n",
      "$ chr \u001b[3m\u001b[90m<fct>\u001b[39m\u001b[23m chrX, chr1, chr19, chr11, chr2, chr3, chr17, chr12, chr16, chr4, …\n",
      "$ n   \u001b[3m\u001b[90m<int>\u001b[39m\u001b[23m 783, 636, 442, 374, 374, 368, 363, 334, 313, 292, 248, 243, 225, …\n"
     ]
    }
   ],
   "source": [
    "total_as_by_chr <- gene_as          %>% \n",
    "                   group_by(chr)    %>% \n",
    "                   count(chr)       %>% \n",
    "                   arrange(desc(n)) %>% \n",
    "                   as.data.frame()\n",
    "total_as_by_chr$chr <- factor(total_as_by_chr$chr, levels = total_as_by_chr$chr)\n",
    "length(total_as_by_chr$chr)\n",
    "total_as_by_chr\n",
    "glimpse(total_as_by_chr)\n",
    "write.table(total_as_by_chr, file= \"../data/Total_AS_by_chr.tsv\", sep=\"\\t\", quote = FALSE, row.names=F)"
   ]
  },
  {
   "cell_type": "markdown",
   "metadata": {},
   "source": [
    "### 3.3.2 by gene expression"
   ]
  },
  {
   "cell_type": "code",
   "execution_count": 52,
   "metadata": {},
   "outputs": [
    {
     "data": {
      "text/html": [
       "26"
      ],
      "text/latex": [
       "26"
      ],
      "text/markdown": [
       "26"
      ],
      "text/plain": [
       "[1] 26"
      ]
     },
     "metadata": {},
     "output_type": "display_data"
    },
    {
     "data": {
      "text/html": [
       "<table>\n",
       "<caption>A data.frame: 26 × 2</caption>\n",
       "<thead>\n",
       "\t<tr><th scope=col>chr</th><th scope=col>n</th></tr>\n",
       "\t<tr><th scope=col>&lt;fct&gt;</th><th scope=col>&lt;int&gt;</th></tr>\n",
       "</thead>\n",
       "<tbody>\n",
       "\t<tr><td>chrY </td><td>1693</td></tr>\n",
       "\t<tr><td>chr1 </td><td> 945</td></tr>\n",
       "\t<tr><td>chr2 </td><td> 897</td></tr>\n",
       "\t<tr><td>chrX </td><td> 774</td></tr>\n",
       "\t<tr><td>chr14</td><td> 554</td></tr>\n",
       "\t<tr><td>chr12</td><td> 547</td></tr>\n",
       "\t<tr><td>chr6 </td><td> 511</td></tr>\n",
       "\t<tr><td>chr11</td><td> 501</td></tr>\n",
       "\t<tr><td>chr3 </td><td> 486</td></tr>\n",
       "\t<tr><td>chr19</td><td> 478</td></tr>\n",
       "\t<tr><td>chr17</td><td> 464</td></tr>\n",
       "\t<tr><td>chr4 </td><td> 464</td></tr>\n",
       "\t<tr><td>chr7 </td><td> 443</td></tr>\n",
       "\t<tr><td>chr5 </td><td> 439</td></tr>\n",
       "\t<tr><td>chr8 </td><td> 406</td></tr>\n",
       "\t<tr><td>chr15</td><td> 398</td></tr>\n",
       "\t<tr><td>chr16</td><td> 383</td></tr>\n",
       "\t<tr><td>chr10</td><td> 379</td></tr>\n",
       "\t<tr><td>chr20</td><td> 377</td></tr>\n",
       "\t<tr><td>chr9 </td><td> 376</td></tr>\n",
       "\t<tr><td>chr22</td><td> 362</td></tr>\n",
       "\t<tr><td>chr18</td><td> 227</td></tr>\n",
       "\t<tr><td>chr13</td><td> 194</td></tr>\n",
       "\t<tr><td>chr21</td><td> 175</td></tr>\n",
       "\t<tr><td>NA   </td><td> 151</td></tr>\n",
       "\t<tr><td>chrM </td><td>   9</td></tr>\n",
       "</tbody>\n",
       "</table>\n"
      ],
      "text/latex": [
       "A data.frame: 26 × 2\n",
       "\\begin{tabular}{ll}\n",
       " chr & n\\\\\n",
       " <fct> & <int>\\\\\n",
       "\\hline\n",
       "\t chrY  & 1693\\\\\n",
       "\t chr1  &  945\\\\\n",
       "\t chr2  &  897\\\\\n",
       "\t chrX  &  774\\\\\n",
       "\t chr14 &  554\\\\\n",
       "\t chr12 &  547\\\\\n",
       "\t chr6  &  511\\\\\n",
       "\t chr11 &  501\\\\\n",
       "\t chr3  &  486\\\\\n",
       "\t chr19 &  478\\\\\n",
       "\t chr17 &  464\\\\\n",
       "\t chr4  &  464\\\\\n",
       "\t chr7  &  443\\\\\n",
       "\t chr5  &  439\\\\\n",
       "\t chr8  &  406\\\\\n",
       "\t chr15 &  398\\\\\n",
       "\t chr16 &  383\\\\\n",
       "\t chr10 &  379\\\\\n",
       "\t chr20 &  377\\\\\n",
       "\t chr9  &  376\\\\\n",
       "\t chr22 &  362\\\\\n",
       "\t chr18 &  227\\\\\n",
       "\t chr13 &  194\\\\\n",
       "\t chr21 &  175\\\\\n",
       "\t NA    &  151\\\\\n",
       "\t chrM  &    9\\\\\n",
       "\\end{tabular}\n"
      ],
      "text/markdown": [
       "\n",
       "A data.frame: 26 × 2\n",
       "\n",
       "| chr &lt;fct&gt; | n &lt;int&gt; |\n",
       "|---|---|\n",
       "| chrY  | 1693 |\n",
       "| chr1  |  945 |\n",
       "| chr2  |  897 |\n",
       "| chrX  |  774 |\n",
       "| chr14 |  554 |\n",
       "| chr12 |  547 |\n",
       "| chr6  |  511 |\n",
       "| chr11 |  501 |\n",
       "| chr3  |  486 |\n",
       "| chr19 |  478 |\n",
       "| chr17 |  464 |\n",
       "| chr4  |  464 |\n",
       "| chr7  |  443 |\n",
       "| chr5  |  439 |\n",
       "| chr8  |  406 |\n",
       "| chr15 |  398 |\n",
       "| chr16 |  383 |\n",
       "| chr10 |  379 |\n",
       "| chr20 |  377 |\n",
       "| chr9  |  376 |\n",
       "| chr22 |  362 |\n",
       "| chr18 |  227 |\n",
       "| chr13 |  194 |\n",
       "| chr21 |  175 |\n",
       "| NA    |  151 |\n",
       "| chrM  |    9 |\n",
       "\n"
      ],
      "text/plain": [
       "   chr   n   \n",
       "1  chrY  1693\n",
       "2  chr1   945\n",
       "3  chr2   897\n",
       "4  chrX   774\n",
       "5  chr14  554\n",
       "6  chr12  547\n",
       "7  chr6   511\n",
       "8  chr11  501\n",
       "9  chr3   486\n",
       "10 chr19  478\n",
       "11 chr17  464\n",
       "12 chr4   464\n",
       "13 chr7   443\n",
       "14 chr5   439\n",
       "15 chr8   406\n",
       "16 chr15  398\n",
       "17 chr16  383\n",
       "18 chr10  379\n",
       "19 chr20  377\n",
       "20 chr9   376\n",
       "21 chr22  362\n",
       "22 chr18  227\n",
       "23 chr13  194\n",
       "24 chr21  175\n",
       "25 NA     151\n",
       "26 chrM     9"
      ]
     },
     "metadata": {},
     "output_type": "display_data"
    },
    {
     "name": "stdout",
     "output_type": "stream",
     "text": [
      "Observations: 26\n",
      "Variables: 2\n",
      "$ chr \u001b[3m\u001b[90m<fct>\u001b[39m\u001b[23m chrY, chr1, chr2, chrX, chr14, chr12, chr6, chr11, chr3, chr19, c…\n",
      "$ n   \u001b[3m\u001b[90m<int>\u001b[39m\u001b[23m 1693, 945, 897, 774, 554, 547, 511, 501, 486, 478, 464, 464, 443,…\n"
     ]
    }
   ],
   "source": [
    "total_dge_by_chr <- gene_dge          %>% \n",
    "                   group_by(chr)    %>% \n",
    "                   count(chr)       %>% \n",
    "                   arrange(desc(n)) %>% \n",
    "                   as.data.frame()\n",
    "total_dge_by_chr$chr <- factor(total_dge_by_chr$chr, levels = total_dge_by_chr$chr)\n",
    "length(total_dge_by_chr$chr)\n",
    "total_dge_by_chr\n",
    "glimpse(total_dge_by_chr)\n",
    "write.table(total_dge_by_chr, file= \"../data/Total_DGE_by_chr.tsv\", sep=\"\\t\", quote = FALSE, row.names=F)"
   ]
  },
  {
   "cell_type": "markdown",
   "metadata": {},
   "source": [
    "### 3.4 Count events by genes "
   ]
  },
  {
   "cell_type": "markdown",
   "metadata": {},
   "source": [
    "### 3.4.1 by alternative splicing"
   ]
  },
  {
   "cell_type": "code",
   "execution_count": 91,
   "metadata": {
    "lines_to_next_cell": 0
   },
   "outputs": [
    {
     "data": {
      "text/html": [
       "2887"
      ],
      "text/latex": [
       "2887"
      ],
      "text/markdown": [
       "2887"
      ],
      "text/plain": [
       "[1] 2887"
      ]
     },
     "metadata": {},
     "output_type": "display_data"
    },
    {
     "data": {
      "text/html": [
       "<table>\n",
       "<caption>A data.frame: 10 × 2</caption>\n",
       "<thead>\n",
       "\t<tr><th></th><th scope=col>GeneSymbol</th><th scope=col>n</th></tr>\n",
       "\t<tr><th></th><th scope=col>&lt;fct&gt;</th><th scope=col>&lt;int&gt;</th></tr>\n",
       "</thead>\n",
       "<tbody>\n",
       "\t<tr><th scope=row>1</th><td>XIST </td><td>342</td></tr>\n",
       "\t<tr><th scope=row>2</th><td>DDX3X</td><td> 97</td></tr>\n",
       "\t<tr><th scope=row>3</th><td>KDM5C</td><td> 47</td></tr>\n",
       "\t<tr><th scope=row>4</th><td>ZFX  </td><td> 47</td></tr>\n",
       "\t<tr><th scope=row>5</th><td>KDM6A</td><td> 27</td></tr>\n",
       "\t<tr><th scope=row>6</th><td>UCA1 </td><td> 25</td></tr>\n",
       "\t<tr><th scope=row>7</th><td>MYB  </td><td> 23</td></tr>\n",
       "\t<tr><th scope=row>8</th><td>NLRP2</td><td> 22</td></tr>\n",
       "\t<tr><th scope=row>9</th><td>NDRG4</td><td> 20</td></tr>\n",
       "\t<tr><th scope=row>10</th><td>CRHR1</td><td> 18</td></tr>\n",
       "</tbody>\n",
       "</table>\n"
      ],
      "text/latex": [
       "A data.frame: 10 × 2\n",
       "\\begin{tabular}{r|ll}\n",
       "  & GeneSymbol & n\\\\\n",
       "  & <fct> & <int>\\\\\n",
       "\\hline\n",
       "\t1 & XIST  & 342\\\\\n",
       "\t2 & DDX3X &  97\\\\\n",
       "\t3 & KDM5C &  47\\\\\n",
       "\t4 & ZFX   &  47\\\\\n",
       "\t5 & KDM6A &  27\\\\\n",
       "\t6 & UCA1  &  25\\\\\n",
       "\t7 & MYB   &  23\\\\\n",
       "\t8 & NLRP2 &  22\\\\\n",
       "\t9 & NDRG4 &  20\\\\\n",
       "\t10 & CRHR1 &  18\\\\\n",
       "\\end{tabular}\n"
      ],
      "text/markdown": [
       "\n",
       "A data.frame: 10 × 2\n",
       "\n",
       "| <!--/--> | GeneSymbol &lt;fct&gt; | n &lt;int&gt; |\n",
       "|---|---|---|\n",
       "| 1 | XIST  | 342 |\n",
       "| 2 | DDX3X |  97 |\n",
       "| 3 | KDM5C |  47 |\n",
       "| 4 | ZFX   |  47 |\n",
       "| 5 | KDM6A |  27 |\n",
       "| 6 | UCA1  |  25 |\n",
       "| 7 | MYB   |  23 |\n",
       "| 8 | NLRP2 |  22 |\n",
       "| 9 | NDRG4 |  20 |\n",
       "| 10 | CRHR1 |  18 |\n",
       "\n"
      ],
      "text/plain": [
       "   GeneSymbol n  \n",
       "1  XIST       342\n",
       "2  DDX3X       97\n",
       "3  KDM5C       47\n",
       "4  ZFX         47\n",
       "5  KDM6A       27\n",
       "6  UCA1        25\n",
       "7  MYB         23\n",
       "8  NLRP2       22\n",
       "9  NDRG4       20\n",
       "10 CRHR1       18"
      ]
     },
     "metadata": {},
     "output_type": "display_data"
    }
   ],
   "source": [
    "total_as_by_geneSymbol <- gene_as %>% \n",
    "                          group_by(GeneSymbol) %>% \n",
    "                          count(GeneSymbol)    %>% \n",
    "                          arrange(desc(n))     %>% \n",
    "                          as.data.frame()\n",
    "total_as_by_geneSymbol$GeneSymbol <- factor(total_as_by_geneSymbol$GeneSymbol, \n",
    "                                            levels = total_as_by_geneSymbol$GeneSymbol)\n",
    "length(total_as_by_geneSymbol$GeneSymbol)\n",
    "head(total_as_by_geneSymbol,10)\n",
    "write.table(total_as_by_geneSymbol, file = \"../data/Total_AS_by_geneSymbol.tsv\", sep = \"\\t\", quote=FALSE, row.names = F)"
   ]
  },
  {
   "cell_type": "markdown",
   "metadata": {},
   "source": [
    "### 3.5 Count most frequent splicing by tissue"
   ]
  },
  {
   "cell_type": "markdown",
   "metadata": {},
   "source": [
    "### 3.5.1 by alternative splicing"
   ]
  },
  {
   "cell_type": "code",
   "execution_count": 87,
   "metadata": {},
   "outputs": [
    {
     "data": {
      "text/html": [
       "<table>\n",
       "<caption>A data.frame: 10 × 2</caption>\n",
       "<thead>\n",
       "\t<tr><th></th><th scope=col>Display</th><th scope=col>n</th></tr>\n",
       "\t<tr><th></th><th scope=col>&lt;fct&gt;</th><th scope=col>&lt;int&gt;</th></tr>\n",
       "</thead>\n",
       "<tbody>\n",
       "\t<tr><th scope=row>1</th><td>Breast           </td><td>4361</td></tr>\n",
       "\t<tr><th scope=row>2</th><td>Nucleus accumbens</td><td> 335</td></tr>\n",
       "\t<tr><th scope=row>3</th><td>Esophagus (mu)   </td><td> 261</td></tr>\n",
       "\t<tr><th scope=row>4</th><td>Aorta            </td><td> 139</td></tr>\n",
       "\t<tr><th scope=row>5</th><td>Thyroid          </td><td> 104</td></tr>\n",
       "\t<tr><th scope=row>6</th><td>Fibroblasts      </td><td>  97</td></tr>\n",
       "\t<tr><th scope=row>7</th><td>Skeletal muscle  </td><td>  80</td></tr>\n",
       "\t<tr><th scope=row>8</th><td>Adipose (sc)     </td><td>  78</td></tr>\n",
       "\t<tr><th scope=row>9</th><td>Pituitary        </td><td>  65</td></tr>\n",
       "\t<tr><th scope=row>10</th><td>Skin (exposed)   </td><td>  64</td></tr>\n",
       "</tbody>\n",
       "</table>\n"
      ],
      "text/latex": [
       "A data.frame: 10 × 2\n",
       "\\begin{tabular}{r|ll}\n",
       "  & Display & n\\\\\n",
       "  & <fct> & <int>\\\\\n",
       "\\hline\n",
       "\t1 & Breast            & 4361\\\\\n",
       "\t2 & Nucleus accumbens &  335\\\\\n",
       "\t3 & Esophagus (mu)    &  261\\\\\n",
       "\t4 & Aorta             &  139\\\\\n",
       "\t5 & Thyroid           &  104\\\\\n",
       "\t6 & Fibroblasts       &   97\\\\\n",
       "\t7 & Skeletal muscle   &   80\\\\\n",
       "\t8 & Adipose (sc)      &   78\\\\\n",
       "\t9 & Pituitary         &   65\\\\\n",
       "\t10 & Skin (exposed)    &   64\\\\\n",
       "\\end{tabular}\n"
      ],
      "text/markdown": [
       "\n",
       "A data.frame: 10 × 2\n",
       "\n",
       "| <!--/--> | Display &lt;fct&gt; | n &lt;int&gt; |\n",
       "|---|---|---|\n",
       "| 1 | Breast            | 4361 |\n",
       "| 2 | Nucleus accumbens |  335 |\n",
       "| 3 | Esophagus (mu)    |  261 |\n",
       "| 4 | Aorta             |  139 |\n",
       "| 5 | Thyroid           |  104 |\n",
       "| 6 | Fibroblasts       |   97 |\n",
       "| 7 | Skeletal muscle   |   80 |\n",
       "| 8 | Adipose (sc)      |   78 |\n",
       "| 9 | Pituitary         |   65 |\n",
       "| 10 | Skin (exposed)    |   64 |\n",
       "\n"
      ],
      "text/plain": [
       "   Display           n   \n",
       "1  Breast            4361\n",
       "2  Nucleus accumbens  335\n",
       "3  Esophagus (mu)     261\n",
       "4  Aorta              139\n",
       "5  Thyroid            104\n",
       "6  Fibroblasts         97\n",
       "7  Skeletal muscle     80\n",
       "8  Adipose (sc)        78\n",
       "9  Pituitary           65\n",
       "10 Skin (exposed)      64"
      ]
     },
     "metadata": {},
     "output_type": "display_data"
    },
    {
     "data": {
      "text/html": [
       "39"
      ],
      "text/latex": [
       "39"
      ],
      "text/markdown": [
       "39"
      ],
      "text/plain": [
       "[1] 39"
      ]
     },
     "metadata": {},
     "output_type": "display_data"
    }
   ],
   "source": [
    "total_as_by_tissue <- gene_as %>% \n",
    "                      group_by(Display) %>% \n",
    "                      count(Display)    %>% \n",
    "                      arrange(desc(n))  %>% \n",
    "                      as.data.frame()\n",
    "total_as_by_tissue$Display <- factor(total_as_by_tissue$Display, \n",
    "                                     levels = total_as_by_tissue$Display)\n",
    "head(total_as_by_tissue,10)\n",
    "length(total_as_by_tissue$Display)\n",
    "write.table(total_as_by_tissue, file = \"../data/Total_AS_by_tissue.tsv\", sep = \"\\t\", row.names = F)"
   ]
  },
  {
   "cell_type": "markdown",
   "metadata": {},
   "source": [
    "### 3.5.2 by gene expression"
   ]
  },
  {
   "cell_type": "code",
   "execution_count": 90,
   "metadata": {},
   "outputs": [
    {
     "data": {
      "text/html": [
       "<table>\n",
       "<caption>A data.frame: 10 × 2</caption>\n",
       "<thead>\n",
       "\t<tr><th></th><th scope=col>Display</th><th scope=col>n</th></tr>\n",
       "\t<tr><th></th><th scope=col>&lt;fct&gt;</th><th scope=col>&lt;int&gt;</th></tr>\n",
       "</thead>\n",
       "<tbody>\n",
       "\t<tr><th scope=row>1</th><td>Breast            </td><td>5433</td></tr>\n",
       "\t<tr><th scope=row>2</th><td>Adipose (sc)      </td><td> 765</td></tr>\n",
       "\t<tr><th scope=row>3</th><td>Pituitary         </td><td> 682</td></tr>\n",
       "\t<tr><th scope=row>4</th><td>Thyroid           </td><td> 486</td></tr>\n",
       "\t<tr><th scope=row>5</th><td>Skin (not exposed)</td><td> 435</td></tr>\n",
       "\t<tr><th scope=row>6</th><td>Skin (exposed)    </td><td> 331</td></tr>\n",
       "\t<tr><th scope=row>7</th><td>Adipose (v)       </td><td> 325</td></tr>\n",
       "\t<tr><th scope=row>8</th><td>Skeletal muscle   </td><td> 296</td></tr>\n",
       "\t<tr><th scope=row>9</th><td>Left ventricle    </td><td> 274</td></tr>\n",
       "\t<tr><th scope=row>10</th><td>Fibroblasts       </td><td> 240</td></tr>\n",
       "</tbody>\n",
       "</table>\n"
      ],
      "text/latex": [
       "A data.frame: 10 × 2\n",
       "\\begin{tabular}{r|ll}\n",
       "  & Display & n\\\\\n",
       "  & <fct> & <int>\\\\\n",
       "\\hline\n",
       "\t1 & Breast             & 5433\\\\\n",
       "\t2 & Adipose (sc)       &  765\\\\\n",
       "\t3 & Pituitary          &  682\\\\\n",
       "\t4 & Thyroid            &  486\\\\\n",
       "\t5 & Skin (not exposed) &  435\\\\\n",
       "\t6 & Skin (exposed)     &  331\\\\\n",
       "\t7 & Adipose (v)        &  325\\\\\n",
       "\t8 & Skeletal muscle    &  296\\\\\n",
       "\t9 & Left ventricle     &  274\\\\\n",
       "\t10 & Fibroblasts        &  240\\\\\n",
       "\\end{tabular}\n"
      ],
      "text/markdown": [
       "\n",
       "A data.frame: 10 × 2\n",
       "\n",
       "| <!--/--> | Display &lt;fct&gt; | n &lt;int&gt; |\n",
       "|---|---|---|\n",
       "| 1 | Breast             | 5433 |\n",
       "| 2 | Adipose (sc)       |  765 |\n",
       "| 3 | Pituitary          |  682 |\n",
       "| 4 | Thyroid            |  486 |\n",
       "| 5 | Skin (not exposed) |  435 |\n",
       "| 6 | Skin (exposed)     |  331 |\n",
       "| 7 | Adipose (v)        |  325 |\n",
       "| 8 | Skeletal muscle    |  296 |\n",
       "| 9 | Left ventricle     |  274 |\n",
       "| 10 | Fibroblasts        |  240 |\n",
       "\n"
      ],
      "text/plain": [
       "   Display            n   \n",
       "1  Breast             5433\n",
       "2  Adipose (sc)        765\n",
       "3  Pituitary           682\n",
       "4  Thyroid             486\n",
       "5  Skin (not exposed)  435\n",
       "6  Skin (exposed)      331\n",
       "7  Adipose (v)         325\n",
       "8  Skeletal muscle     296\n",
       "9  Left ventricle      274\n",
       "10 Fibroblasts         240"
      ]
     },
     "metadata": {},
     "output_type": "display_data"
    },
    {
     "data": {
      "text/html": [
       "39"
      ],
      "text/latex": [
       "39"
      ],
      "text/markdown": [
       "39"
      ],
      "text/plain": [
       "[1] 39"
      ]
     },
     "metadata": {},
     "output_type": "display_data"
    }
   ],
   "source": [
    "#glimpse(gene_dge)\n",
    "gene_dge$GeneSymbol <- factor(gene_dge$GeneSymbol)\n",
    "total_dge_by_tissue <- gene_dge %>% \n",
    "                          select(c(GeneSymbol, Display, logFC)) %>%\n",
    "                          group_by(Display) %>%\n",
    "                          arrange(desc(logFC)) %>%\n",
    "                          tally() %>%\n",
    "                          arrange(desc(n)) %>%\n",
    "                          as.data.frame()\n",
    "head(total_dge_by_tissue,10)\n",
    "length(total_dge_by_tissue$Display)\n",
    "write.table(total_dge_by_tissue, file = \"../data/Total_DGE_by_tissue.tsv\", sep = \"\\t\", quote=FALSE, row.names = F)"
   ]
  },
  {
   "cell_type": "markdown",
   "metadata": {},
   "source": [
    "###  3.6 Significant Count by splicing type \n",
    "We define **significant** to be FC > 1.5 and pVal < 0.05\n",
    "\n",
    "Our starting values were the significant events, all meeting the criteria FC > 1.5 and pVal < 0.05\n"
   ]
  },
  {
   "cell_type": "code",
   "execution_count": null,
   "metadata": {},
   "outputs": [],
   "source": [
    "total_as_by_splicingtype <- gene_as %>% \n",
    "                            group_by(ASE)    %>% \n",
    "                            count(ASE)       %>% \n",
    "                            arrange(desc(n)) %>%\n",
    "                            as.data.frame()\n",
    "total_as_by_splicingtype$ASE <- factor(total_as_by_splicingtype$ASE, levels = total_as_by_splicingtype$ASE)\n",
    "total_as_by_splicingtype\n",
    "write.table(total_as_by_splicingtype, file= \"../data/Total_AS_by_splicingtype.tsv\")"
   ]
  },
  {
   "cell_type": "markdown",
   "metadata": {},
   "source": [
    "###  3.7 Significant Count by splicing type (significant == FC > 1.5 and pVal < 0.05)"
   ]
  },
  {
   "cell_type": "code",
   "execution_count": null,
   "metadata": {
    "lines_to_next_cell": 0
   },
   "outputs": [],
   "source": [
    "A3SS_keep <- as.character(gene_as$ASE) %in% \"A3SS\"\n",
    "table(A3SS_keep)\n",
    "A3SS.gene_as <- data.frame(gene_as[A3SS_keep == TRUE,])\n",
    "\n",
    "A5SS_keep <- as.character(gene_as$ASE) %in% \"A5SS\"\n",
    "table(A5SS_keep)\n",
    "A5SS.gene_as <- data.frame(gene_as[A5SS_keep == TRUE,])\n",
    "\n",
    "MXE_keep  <- as.character(gene_as$ASE) %in% \"MXE\"\n",
    "table(MXE_keep)\n",
    "MXE.gene_as <- data.frame(gene_as[MXE_keep == TRUE,])\n",
    "\n",
    "SE_keep   <- as.character(gene_as$ASE) %in% \"SE\"\n",
    "table(SE_keep)\n",
    "SE.gene_as <- data.frame(gene_as[SE_keep == TRUE,])\n",
    "\n",
    "RI_keep   <- as.character(gene_as$ASE) %in% \"RI\"\n",
    "table(RI_keep)\n",
    "RI.gene_as <- data.frame(gene_as[RI_keep == TRUE,])\n",
    "\n",
    "dim(A3SS.gene_as)\n",
    "dim(A5SS.gene_as)\n",
    "dim(MXE.gene_as)\n",
    "dim(SE.gene_as)\n",
    "dim(RI.gene_as)\n"
   ]
  },
  {
   "cell_type": "markdown",
   "metadata": {},
   "source": [
    "### 3.8 Siginficant spliced by Gene for each splicing factor"
   ]
  },
  {
   "cell_type": "code",
   "execution_count": null,
   "metadata": {},
   "outputs": [],
   "source": [
    "A3SS.res <- A3SS.gene_as %>% group_by(GeneSymbol) %>% count(GeneSymbol) %>% arrange(desc(n)) %>% as.data.frame()\n",
    "A3SS.res$GeneSymbol <- factor(A3SS.res$GeneSymbol, levels = A3SS.res$GeneSymbol)\n",
    "message(\"Significant spliced genes for A3SS\\n\",\n",
    "        paste(length(A3SS.res$GeneSymbol)), collapse=\" \")\n",
    "head(A3SS.res)\n",
    "\n",
    "A5SS.res <- A5SS.gene_as %>% group_by(GeneSymbol) %>% count(GeneSymbol) %>% arrange(desc(n)) %>% as.data.frame()\n",
    "A5SS.res$GeneSymbol <- factor(A5SS.res$GeneSymbol, levels = A5SS.res$GeneSymbol)\n",
    "message(\"Significant spliced genes for A5SS\\n\",\n",
    "        paste(length(A5SS.res$GeneSymbol)), collapse=\" \")\n",
    "head(A5SS.res)\n",
    "\n",
    "MXE.res <- MXE.gene_as %>% group_by(GeneSymbol) %>% count(GeneSymbol) %>% arrange(desc(n)) %>% as.data.frame()\n",
    "MXE.res$GeneSymbol <- factor(MXE.res$GeneSymbol, levels = MXE.res$GeneSymbol)\n",
    "message(\"Significant spliced genes for MXE\\n\",\n",
    "        paste(length(MXE.res$GeneSymbol)), collapse=\" \")\n",
    "head(MXE.res)\n",
    "\n",
    "RI.res <- RI.gene_as %>% group_by(GeneSymbol) %>% count(GeneSymbol) %>% arrange(desc(n)) %>% as.data.frame()\n",
    "RI.res$GeneSymbol <- factor(RI.res$GeneSymbol, levels = RI.res$GeneSymbol)\n",
    "message(\"Significant spliced genes for RI\\n\",\n",
    "        paste(length(RI.res$GeneSymbol)), collapse=\" \")\n",
    "head(RI.res)\n",
    "\n",
    "SE.res <- SE.gene_as %>% group_by(GeneSymbol) %>% count(GeneSymbol) %>% arrange(desc(n)) %>% as.data.frame()\n",
    "SE.res$GeneSymbol <- factor(SE.res$GeneSymbol, levels = SE.res$GeneSymbol)\n",
    "message(\"Significant spliced genes for SE\\n\",\n",
    "        paste(length(SE.res$GeneSymbol)), collapse=\" \")\n",
    "head(SE.res)"
   ]
  },
  {
   "cell_type": "markdown",
   "metadata": {},
   "source": [
    "### 3.9 Count most frequent spliced genes"
   ]
  },
  {
   "cell_type": "code",
   "execution_count": null,
   "metadata": {},
   "outputs": [],
   "source": [
    "genesMostFrequentlySpliced <- gene_as %>% \n",
    "                              group_by(GeneSymbol) %>% \n",
    "                              count(GeneSymbol)    %>% \n",
    "                              arrange(desc(n))     %>% \n",
    "                              as.data.frame()\n",
    "genesMostFrequentlySpliced$GeneSymbol <- factor(genesMostFrequentlySpliced$GeneSymbol, \n",
    "                                                levels = genesMostFrequentlySpliced$GeneSymbol)\n",
    "length(genesMostFrequentlySpliced$GeneSymbol)\n",
    "\n",
    "#Add number of tissues\n",
    "nTissues <- rep(NA, length(genesMostFrequentlySpliced))\n",
    "for (i in 1:nrow(genesMostFrequentlySpliced)) {\n",
    "    df_gene <- gene_as %>% \n",
    "               filter(GeneSymbol == genesMostFrequentlySpliced$GeneSymbol[i])\n",
    "    nTissues[i] <- length(unique(df_gene$Tissue))\n",
    "}\n",
    "genesMostFrequentlySpliced$Tissues <- nTissues\n",
    "head(genesMostFrequentlySpliced)\n",
    "write.table(genesMostFrequentlySpliced, file = \"../data/genesWithCommonAS.tsv\", sep = \"\\t\", quote = F, row.names = F)"
   ]
  },
  {
   "cell_type": "markdown",
   "metadata": {},
   "source": [
    "### 3.10 Count most frequent spliced chromosomes\n",
    "To get an indication of which chromosome has the most frequent slicing event (regardless of type)\n",
    "We create an index based upon the number of exons per chromosome.\n",
    "\n",
    "get the annotation file, at this writing, gencode.v30.annotation.gtf\n",
    "The information as to the number of exons within the chromosome may be found there"
   ]
  },
  {
   "cell_type": "code",
   "execution_count": null,
   "metadata": {},
   "outputs": [],
   "source": [
    "exons <- gencode[ gencode$type == \"exon\", ]\n",
    "exons <- as.data.frame(exons)\n",
    "\n",
    "#Obtain chromosomes we have splicing information for (recall we did not use chr Y in our analysis)\n",
    "all_chr <- as.character(unique(gene_as$chr))\n",
    "chr_counts <- rep(0, length(all_chr))\n",
    "\n",
    "\n",
    "for (i in 1:length(all_chr)) {\n",
    "  chr_counts[i] <- nrow(exons[exons$seqnames == all_chr[i], ])\n",
    "}\n",
    "\n",
    "exon_counts <- data.frame(chr = all_chr, counts = chr_counts)\n",
    "\n",
    "# Count most frequent spliced chromosomes\n",
    "res <- gene_as %>% group_by(chr) %>% count(chr) %>% arrange(desc(n)) %>% as.data.frame()\n",
    "res$chr <- factor(res$chr, levels = res$chr)\n",
    "\n",
    "idx <- match(res$chr, exon_counts$chr)\n",
    "\n",
    "res$ExonCounts <- exon_counts$counts[idx]\n",
    "\n",
    "res$Index <- (res$n / res$ExonCounts) * 1000\n",
    "\n",
    "res_sorted <- res %>% arrange(desc(Index))\n",
    "res_sorted$chr <- factor(res_sorted$chr, levels = res_sorted$chr)\n",
    "glimpse(res_sorted)\n",
    "write.table(res_sorted, file = \"../data/SplicingIndex_chr.tsv\", sep = \"\\t\", quote = F, row.names = F)"
   ]
  },
  {
   "cell_type": "code",
   "execution_count": null,
   "metadata": {},
   "outputs": [],
   "source": []
  },
  {
   "cell_type": "markdown",
   "metadata": {},
   "source": [
    "### 3.11 Overlap between Differential Gene Expression and Differential Alternative Splicing\n",
    "\n",
    "First gather the data"
   ]
  },
  {
   "cell_type": "code",
   "execution_count": null,
   "metadata": {},
   "outputs": [],
   "source": [
    "total_AS_Genes <- read.table(file=\"../data/Total_AS_by_geneSymbol.tsv\", header=TRUE, sep=\"\\t\",\n",
    "                               skipNul=FALSE, stringsAsFactors = FALSE)\n",
    "sigAsGenes <- sort(total_AS_Genes$GeneSymbol)\n",
    "dge <- read.table(\"../data/gene_dge.tsv\", sep = \"\\t\", header = FALSE, row.names=1, skip = 1)\n",
    "dge_genes <- sort(dge$V5)\n",
    "head(dge_genes)\n",
    "all_genes_data <- read.table(\"../assets/all_gene_as_gene_names.csv\")\n",
    "names(all_genes_data) <- c(\"GeneSymbol\", \"ensg\")\n",
    "all_genes <- sort(all_genes_data$GeneSymbol)"
   ]
  },
  {
   "cell_type": "code",
   "execution_count": null,
   "metadata": {},
   "outputs": [],
   "source": [
    "head(all_genes)"
   ]
  },
  {
   "cell_type": "markdown",
   "metadata": {},
   "source": [
    "### 3.12 We then do a hypergeometric/Fisher test to look for overrepresentation\n",
    "The universe consists of all genes with at least one read (all_genes_data).\n",
    "So we have\n",
    "\n",
    "|  \t|  DGE+| DGE-|\n",
    "|-\t|-\t|-\t|\n",
    "| DAS+|  a|  b|\n",
    "| DAS-|  c| d|"
   ]
  },
  {
   "cell_type": "code",
   "execution_count": null,
   "metadata": {},
   "outputs": [],
   "source": [
    "message(\"Number of sigAsGenes \", length(sigAsGenes))\n",
    "notSigAs <- setdiff(all_genes,sigAsGenes)\n",
    "message(\"Number of genes that are NOT sigAs \", length(notSigAs))\n",
    "message(\"Number of DGE genes\", length(dge_genes))\n",
    "notDGE <- setdiff(all_genes,dge_genes)\n",
    "message(\"Number of genes that are NOT DGE \", length(notDGE))\n",
    "a <- intersect(sigAsGenes, dge_genes)\n",
    "b <- intersect(sigAsGenes, notDGE)\n",
    "c <- intersect(notSigAs, dge_genes)\n",
    "d <- intersect(notSigAs, notDGE)\n",
    "message(\"a: \", length(a), \"; b: \",  length(b), \"; c: \",  length(c), \"; d: \",  length(d))"
   ]
  },
  {
   "cell_type": "code",
   "execution_count": null,
   "metadata": {},
   "outputs": [],
   "source": [
    "m <- matrix(c(length(a),length(b),length(c),length(d)), nrow=2,byrow = TRUE)\n",
    "fisher.test(m)"
   ]
  },
  {
   "cell_type": "markdown",
   "metadata": {},
   "source": [
    "### Appendix - Metadata\n",
    "\n",
    "For replicability and reproducibility purposes, we also print the following metadata:\n",
    "\n",
    "1. Checksums of **'artefacts'**, files generated during the analysis and stored in the folder directory **`data`**\n",
    "2. List of environment metadata, dependencies, versions of libraries using `utils::sessionInfo()` and [`devtools::session_info()`](https://devtools.r-lib.org/reference/session_info.html)"
   ]
  },
  {
   "cell_type": "markdown",
   "metadata": {},
   "source": [
    "### Appendix 1. Checksums with the sha256 algorithm"
   ]
  },
  {
   "cell_type": "code",
   "execution_count": null,
   "metadata": {},
   "outputs": [],
   "source": [
    "rm (notebookid)\n",
    "notebookid   = \"countGenesAndEvents\"\n",
    "notebookid\n",
    "\n",
    "message(\"Generating sha256 checksums of the file `../data/gene_as.tsv` directory .. \")\n",
    "system(paste0(\"cd ../data && find . -name gene_as.tsv -exec sha256sum {} \\\\;  >  ../metadata/\", notebookid, \"_sha256sums.txt\"), intern = TRUE)\n",
    "message(\"Done!\\n\")\n",
    "\n",
    "message(\"Generating sha256 checksums of the file `../data/all_gene_as.tsv` directory .. \")\n",
    "system(paste0(\"cd ../data && find . -name gene_dge.tsv -exec sha256sum {} \\\\;  >  ../metadata/\", notebookid, \"_sha256sums.txt\"), intern = TRUE)\n",
    "message(\"Done!\\n\")\n",
    "\n",
    "message(\"Generating sha256 checksums of the file `../data/gene_dge.tsv` directory .. \")\n",
    "system(paste0(\"cd ../data && find . -name gene_as.tsv -exec sha256sum {} \\\\;  >  ../metadata/\", notebookid, \"_sha256sums.txt\"), intern = TRUE)\n",
    "message(\"Done!\\n\")\n",
    "\n",
    "message(\"Generating sha256 checksums of the file `../data/Total_AS_by_chr.tsv` directory .. \")\n",
    "system(paste0(\"cd ../data && find . -name Total_AS_by_chr.tsv -exec sha256sum {} \\\\;  >  ../metadata/\", notebookid, \"_sha256sums.txt\"), intern = TRUE)\n",
    "message(\"Done!\\n\")\n",
    "\n",
    "message(\"Generating sha256 checksums of the file `../data/Total_AS_by_geneSymbol.tsv` directory .. \")\n",
    "system(paste0(\"cd ../data && find . -name Total_AS_by_geneSymbol.tsv -exec sha256sum {} \\\\;  >  ../metadata/\", notebookid, \"_sha256sums.txt\"), intern = TRUE)\n",
    "message(\"Done!\\n\")\n",
    "\n",
    "message(\"Generating sha256 checksums of the file `../data/Total_AS_by_tissue.tsv` directory .. \")\n",
    "system(paste0(\"cd ../data && find . -name Total_AS_by_tissue.tsv -exec sha256sum {} \\\\;  >  ../metadata/\", notebookid, \"_sha256sums.txt\"), intern = TRUE)\n",
    "message(\"Done!\\n\")\n",
    "\n",
    "message(\"Generating sha256 checksums of the file `../data/Total_AS_by_splicingtype.tsv` directory .. \")\n",
    "system(paste0(\"cd ../data && find . -name Total_AS_by_splicingtype.tsv -exec sha256sum {} \\\\;  >  ../metadata/\", notebookid, \"_sha256sums.txt\"), intern = TRUE)\n",
    "message(\"Done!\\n\")\n",
    "\n",
    "message(\"Generating sha256 checksums of the file `../data/genesWithCommonAS.tsv` directory .. \")\n",
    "system(paste0(\"cd ../data && find . -name genesWithCommonAS.tsv -exec sha256sum {} \\\\;  >  ../metadata/\", notebookid, \"_sha256sums.txt\"), intern = TRUE)\n",
    "message(\"Done!\\n\")\n",
    "\n",
    "message(\"Generating sha256 checksums of the file `../data/SplicingIndex_chr.tsv` directory .. \")\n",
    "system(paste0(\"cd ../data && find . -name SplicingIndex_chr.tsv -exec sha256sum {} \\\\;  >  ../metadata/\", notebookid, \"_sha256sums.txt\"), intern = TRUE)\n",
    "message(\"Done!\\n\")\n"
   ]
  },
  {
   "cell_type": "markdown",
   "metadata": {},
   "source": [
    "### Appendix 2. Libraries metadata"
   ]
  },
  {
   "cell_type": "code",
   "execution_count": null,
   "metadata": {},
   "outputs": [],
   "source": [
    "dev_session_info   <- devtools::session_info()\n",
    "utils_session_info <- utils::sessionInfo()\n",
    "\n",
    "message(\"Saving `devtools::session_info()` objects in ../metadata/devtools_session_info.rds  ..\")\n",
    "saveRDS(dev_session_info, file = paste0(\"../metadata/\", notebookid, \"_devtools_session_info.rds\"))\n",
    "message(\"Done!\\n\")\n",
    "\n",
    "message(\"Saving `utils::sessionInfo()` objects in ../metadata/utils_session_info.rds  ..\")\n",
    "saveRDS(utils_session_info, file = paste0(\"../metadata/\", notebookid ,\"_utils_info.rds\"))\n",
    "message(\"Done!\\n\")\n",
    "\n",
    "dev_session_info$platform\n",
    "dev_session_info$packages[dev_session_info$packages$attached==TRUE, ]"
   ]
  },
  {
   "cell_type": "code",
   "execution_count": null,
   "metadata": {},
   "outputs": [],
   "source": []
  }
 ],
 "metadata": {
  "jupytext": {
   "cell_metadata_filter": "-all",
   "main_language": "R",
   "notebook_metadata_filter": "-all"
  },
  "kernelspec": {
   "display_name": "R",
   "language": "R",
   "name": "ir"
  },
  "language_info": {
   "codemirror_mode": "r",
   "file_extension": ".r",
   "mimetype": "text/x-r-source",
   "name": "R",
   "pygments_lexer": "r",
   "version": "3.6.2"
  }
 },
 "nbformat": 4,
 "nbformat_minor": 4
}
