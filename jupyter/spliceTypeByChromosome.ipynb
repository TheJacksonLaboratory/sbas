{
 "cells": [
  {
   "cell_type": "markdown",
   "metadata": {},
   "source": [
    "# Splicing by chromosome\n",
    "Compare the distribution of the five types of alternative splicing by chromosome and create the figure **figureSplicingByChromosome.pdf**."
   ]
  },
  {
   "cell_type": "code",
   "execution_count": 1,
   "metadata": {},
   "outputs": [],
   "source": [
    "suppressMessages({\n",
    "    options(warn = -1) \n",
    "    library(ggplot2)\n",
    "    library(viridis)\n",
    "})"
   ]
  },
  {
   "cell_type": "code",
   "execution_count": 2,
   "metadata": {},
   "outputs": [],
   "source": [
    "fromGTFSE.dat <- read.table(\"../data/fromGTF.SE.txt\", \n",
    "                  stringsAsFactors = TRUE,\n",
    "                  header=TRUE)\n",
    "fromGTFSE.dat$AStype <- 'SE'\n",
    "fromGTFRI.dat <- read.table(\"../data/fromGTF.RI.txt\", \n",
    "                  stringsAsFactors = TRUE,\n",
    "                  header=TRUE)\n",
    "fromGTFRI.dat$AStype <- 'RI'\n",
    "fromGTFMXE.dat <- read.table(\"../data/fromGTF.MXE.txt\", \n",
    "                  stringsAsFactors = TRUE,\n",
    "                  header=TRUE)\n",
    "fromGTFMXE.dat$AStype <- 'MXE'\n",
    "fromGTFA5SS.dat <- read.table(\"../data/fromGTF.A5SS.txt\", \n",
    "                  stringsAsFactors = TRUE,\n",
    "                  header=TRUE)\n",
    "fromGTFA5SS.dat$AStype <- 'A5SS'\n",
    "fromGTFA3SS.dat <- read.table(\"../data/fromGTF.A3SS.txt\", \n",
    "                  stringsAsFactors = TRUE,\n",
    "                  header=TRUE)\n",
    "fromGTFA3SS.dat$AStype <- 'A3SS'"
   ]
  },
  {
   "cell_type": "code",
   "execution_count": 3,
   "metadata": {},
   "outputs": [],
   "source": [
    "summaryAS.df <- rbind(fromGTFSE.dat[,c(\"ID\",\"GeneID\",\"geneSymbol\",\"chr\",\"strand\",\"AStype\")],\n",
    "                      fromGTFRI.dat[,c(\"ID\",\"GeneID\",\"geneSymbol\",\"chr\",\"strand\",\"AStype\")],\n",
    "                      fromGTFMXE.dat[,c(\"ID\",\"GeneID\",\"geneSymbol\",\"chr\",\"strand\",\"AStype\")],\n",
    "                      fromGTFA5SS.dat[,c(\"ID\",\"GeneID\",\"geneSymbol\",\"chr\",\"strand\",\"AStype\")],\n",
    "                      fromGTFA3SS.dat[,c(\"ID\",\"GeneID\",\"geneSymbol\",\"chr\",\"strand\",\"AStype\")])"
   ]
  },
  {
   "cell_type": "code",
   "execution_count": 4,
   "metadata": {},
   "outputs": [
    {
     "name": "stdout",
     "output_type": "stream",
     "text": [
      "[1] \"A5SS (other examples commented out):\"\n"
     ]
    },
    {
     "data": {
      "text/plain": [
       "\n",
       " chr1 chr10 chr11 chr12 chr13 chr14 chr15 chr16 chr17 chr18 chr19  chr2 chr20 \n",
       "  496   155   386   354    59   212   188   348   410    74   400   387   135 \n",
       "chr21 chr22  chr3  chr4  chr5  chr6  chr7  chr8  chr9  chrX  chrY \n",
       "   60   129   368   184   210   216   284   166   162   191    10 "
      ]
     },
     "metadata": {},
     "output_type": "display_data"
    }
   ],
   "source": [
    "chr_specific_splicing_SE <- table(summaryAS.df$chr[summaryAS.df$AStype == \"SE\"])\n",
    "a_chr_SE <- unclass(chr_specific_splicing_SE)\n",
    "# a_chr_SE\n",
    "chr_specific_splicing_RI <- table(summaryAS.df$chr[summaryAS.df$AStype == \"RI\"])\n",
    "a_chr_RI <- unclass(chr_specific_splicing_RI)\n",
    "# a_chr_RI\n",
    "chr_specific_splicing_MXE <- table(summaryAS.df$chr[summaryAS.df$AStype == \"MXE\"])\n",
    "a_chr_MXE <- unclass(chr_specific_splicing_MXE)\n",
    "# a_chr_MXE\n",
    "chr_specific_splicing_A3SS <- table(summaryAS.df$chr[summaryAS.df$AStype == \"A3SS\"])\n",
    "a_chr_A3SS <- unclass(chr_specific_splicing_A3SS)\n",
    "#a_chr_A3SS\n",
    "chr_specific_splicing_A5SS <- table(summaryAS.df$chr[summaryAS.df$AStype == \"A5SS\"])\n",
    "a_chr_A5SS <- unclass(chr_specific_splicing_A5SS)\n",
    "print(\"A5SS (other examples commented out):\")\n",
    "table(summaryAS.df$chr[summaryAS.df$AStype == \"A5SS\"])\n",
    "#a_chr_A5SS"
   ]
  },
  {
   "cell_type": "code",
   "execution_count": 5,
   "metadata": {},
   "outputs": [
    {
     "data": {
      "text/html": [
       "<table>\n",
       "<caption>A data.frame: 6 × 3</caption>\n",
       "<thead>\n",
       "\t<tr><th></th><th scope=col>Counts</th><th scope=col>Chr</th><th scope=col>AStype</th></tr>\n",
       "\t<tr><th></th><th scope=col>&lt;fct&gt;</th><th scope=col>&lt;fct&gt;</th><th scope=col>&lt;fct&gt;</th></tr>\n",
       "</thead>\n",
       "<tbody>\n",
       "\t<tr><th scope=row>chr1</th><td>3812</td><td>chr1 </td><td>SE</td></tr>\n",
       "\t<tr><th scope=row>chr10</th><td>1458</td><td>chr10</td><td>SE</td></tr>\n",
       "\t<tr><th scope=row>chr11</th><td>2541</td><td>chr11</td><td>SE</td></tr>\n",
       "\t<tr><th scope=row>chr12</th><td>2540</td><td>chr12</td><td>SE</td></tr>\n",
       "\t<tr><th scope=row>chr13</th><td>663 </td><td>chr13</td><td>SE</td></tr>\n",
       "\t<tr><th scope=row>chr14</th><td>1551</td><td>chr14</td><td>SE</td></tr>\n",
       "</tbody>\n",
       "</table>\n"
      ],
      "text/latex": [
       "A data.frame: 6 × 3\n",
       "\\begin{tabular}{r|lll}\n",
       "  & Counts & Chr & AStype\\\\\n",
       "  & <fct> & <fct> & <fct>\\\\\n",
       "\\hline\n",
       "\tchr1 & 3812 & chr1  & SE\\\\\n",
       "\tchr10 & 1458 & chr10 & SE\\\\\n",
       "\tchr11 & 2541 & chr11 & SE\\\\\n",
       "\tchr12 & 2540 & chr12 & SE\\\\\n",
       "\tchr13 & 663  & chr13 & SE\\\\\n",
       "\tchr14 & 1551 & chr14 & SE\\\\\n",
       "\\end{tabular}\n"
      ],
      "text/markdown": [
       "\n",
       "A data.frame: 6 × 3\n",
       "\n",
       "| <!--/--> | Counts &lt;fct&gt; | Chr &lt;fct&gt; | AStype &lt;fct&gt; |\n",
       "|---|---|---|---|\n",
       "| chr1 | 3812 | chr1  | SE |\n",
       "| chr10 | 1458 | chr10 | SE |\n",
       "| chr11 | 2541 | chr11 | SE |\n",
       "| chr12 | 2540 | chr12 | SE |\n",
       "| chr13 | 663  | chr13 | SE |\n",
       "| chr14 | 1551 | chr14 | SE |\n",
       "\n"
      ],
      "text/plain": [
       "      Counts Chr   AStype\n",
       "chr1  3812   chr1  SE    \n",
       "chr10 1458   chr10 SE    \n",
       "chr11 2541   chr11 SE    \n",
       "chr12 2540   chr12 SE    \n",
       "chr13 663    chr13 SE    \n",
       "chr14 1551   chr14 SE    "
      ]
     },
     "metadata": {},
     "output_type": "display_data"
    },
    {
     "data": {
      "text/html": [
       "<table>\n",
       "<caption>A data.frame: 6 × 3</caption>\n",
       "<thead>\n",
       "\t<tr><th></th><th scope=col>Counts</th><th scope=col>Chr</th><th scope=col>AStype</th></tr>\n",
       "\t<tr><th></th><th scope=col>&lt;int&gt;</th><th scope=col>&lt;fct&gt;</th><th scope=col>&lt;fct&gt;</th></tr>\n",
       "</thead>\n",
       "<tbody>\n",
       "\t<tr><th scope=row>chr1</th><td>3812</td><td>chr1 </td><td>SE</td></tr>\n",
       "\t<tr><th scope=row>chr10</th><td>1458</td><td>chr10</td><td>SE</td></tr>\n",
       "\t<tr><th scope=row>chr11</th><td>2541</td><td>chr11</td><td>SE</td></tr>\n",
       "\t<tr><th scope=row>chr12</th><td>2540</td><td>chr12</td><td>SE</td></tr>\n",
       "\t<tr><th scope=row>chr13</th><td> 663</td><td>chr13</td><td>SE</td></tr>\n",
       "\t<tr><th scope=row>chr14</th><td>1551</td><td>chr14</td><td>SE</td></tr>\n",
       "</tbody>\n",
       "</table>\n"
      ],
      "text/latex": [
       "A data.frame: 6 × 3\n",
       "\\begin{tabular}{r|lll}\n",
       "  & Counts & Chr & AStype\\\\\n",
       "  & <int> & <fct> & <fct>\\\\\n",
       "\\hline\n",
       "\tchr1 & 3812 & chr1  & SE\\\\\n",
       "\tchr10 & 1458 & chr10 & SE\\\\\n",
       "\tchr11 & 2541 & chr11 & SE\\\\\n",
       "\tchr12 & 2540 & chr12 & SE\\\\\n",
       "\tchr13 &  663 & chr13 & SE\\\\\n",
       "\tchr14 & 1551 & chr14 & SE\\\\\n",
       "\\end{tabular}\n"
      ],
      "text/markdown": [
       "\n",
       "A data.frame: 6 × 3\n",
       "\n",
       "| <!--/--> | Counts &lt;int&gt; | Chr &lt;fct&gt; | AStype &lt;fct&gt; |\n",
       "|---|---|---|---|\n",
       "| chr1 | 3812 | chr1  | SE |\n",
       "| chr10 | 1458 | chr10 | SE |\n",
       "| chr11 | 2541 | chr11 | SE |\n",
       "| chr12 | 2540 | chr12 | SE |\n",
       "| chr13 |  663 | chr13 | SE |\n",
       "| chr14 | 1551 | chr14 | SE |\n",
       "\n"
      ],
      "text/plain": [
       "      Counts Chr   AStype\n",
       "chr1  3812   chr1  SE    \n",
       "chr10 1458   chr10 SE    \n",
       "chr11 2541   chr11 SE    \n",
       "chr12 2540   chr12 SE    \n",
       "chr13  663   chr13 SE    \n",
       "chr14 1551   chr14 SE    "
      ]
     },
     "metadata": {},
     "output_type": "display_data"
    },
    {
     "data": {
      "text/html": [
       "<style>\n",
       ".list-inline {list-style: none; margin:0; padding: 0}\n",
       ".list-inline>li {display: inline-block}\n",
       ".list-inline>li:not(:last-child)::after {content: \"\\00b7\"; padding: 0 .5ex}\n",
       "</style>\n",
       "<ol class=list-inline><li>3812</li><li>1458</li><li>2541</li><li>2540</li><li>663</li><li>1551</li></ol>\n"
      ],
      "text/latex": [
       "\\begin{enumerate*}\n",
       "\\item 3812\n",
       "\\item 1458\n",
       "\\item 2541\n",
       "\\item 2540\n",
       "\\item 663\n",
       "\\item 1551\n",
       "\\end{enumerate*}\n"
      ],
      "text/markdown": [
       "1. 3812\n",
       "2. 1458\n",
       "3. 2541\n",
       "4. 2540\n",
       "5. 663\n",
       "6. 1551\n",
       "\n",
       "\n"
      ],
      "text/plain": [
       "[1] 3812 1458 2541 2540  663 1551"
      ]
     },
     "metadata": {},
     "output_type": "display_data"
    }
   ],
   "source": [
    "chr_splicing_dist <- rbind(cbind(data.matrix(a_chr_SE),   chr=names(a_chr_SE),  AStype = \"SE\"),\n",
    "                           cbind(data.matrix(a_chr_RI),   chr=names(a_chr_RI),  AStype = \"RI\"),\n",
    "                           cbind(data.matrix(a_chr_MXE),  chr=names(a_chr_MXE), AStype = \"MXE\"),\n",
    "                           cbind(data.matrix(a_chr_A3SS), chr=names(a_chr_A3SS),AStype = \"A3SS\"),\n",
    "                           cbind(data.matrix(a_chr_A5SS), chr=names(a_chr_A5SS),AStype = \"A5SS\"))\n",
    "colnames(chr_splicing_dist)=c(\"Counts\",\"Chr\",\"AStype\")\n",
    "counts <- chr_splicing_dist[,\"Counts\"]\n",
    "chr_splicing_df <- data.frame(chr_splicing_dist)\n",
    "head(chr_splicing_df)\n",
    "chr_splicing_df$Counts <- as.integer(counts)\n",
    "head(chr_splicing_df)\n",
    "head(chr_splicing_df$Counts)"
   ]
  },
  {
   "cell_type": "code",
   "execution_count": 6,
   "metadata": {},
   "outputs": [
    {
     "data": {
      "text/html": [
       "<style>\n",
       ".list-inline {list-style: none; margin:0; padding: 0}\n",
       ".list-inline>li {display: inline-block}\n",
       ".list-inline>li:not(:last-child)::after {content: \"\\00b7\"; padding: 0 .5ex}\n",
       "</style>\n",
       "<ol class=list-inline><li>120</li><li>3</li></ol>\n"
      ],
      "text/latex": [
       "\\begin{enumerate*}\n",
       "\\item 120\n",
       "\\item 3\n",
       "\\end{enumerate*}\n"
      ],
      "text/markdown": [
       "1. 120\n",
       "2. 3\n",
       "\n",
       "\n"
      ],
      "text/plain": [
       "[1] 120   3"
      ]
     },
     "metadata": {},
     "output_type": "display_data"
    }
   ],
   "source": [
    "dim(chr_splicing_dist)"
   ]
  },
  {
   "cell_type": "code",
   "execution_count": 7,
   "metadata": {},
   "outputs": [
    {
     "data": {
      "text/html": [
       "<style>\n",
       ".list-inline {list-style: none; margin:0; padding: 0}\n",
       ".list-inline>li {display: inline-block}\n",
       ".list-inline>li:not(:last-child)::after {content: \"\\00b7\"; padding: 0 .5ex}\n",
       "</style>\n",
       "<ol class=list-inline><li>'chr1'</li><li>'chr10'</li><li>'chr11'</li><li>'chr12'</li><li>'chr13'</li><li>'chr14'</li><li>'chr15'</li><li>'chr16'</li><li>'chr17'</li><li>'chr18'</li><li>'chr19'</li><li>'chr2'</li><li>'chr20'</li><li>'chr21'</li><li>'chr22'</li><li>'chr3'</li><li>'chr4'</li><li>'chr5'</li><li>'chr6'</li><li>'chr7'</li><li>'chr8'</li><li>'chr9'</li><li>'chrX'</li><li>'chrY'</li></ol>\n"
      ],
      "text/latex": [
       "\\begin{enumerate*}\n",
       "\\item 'chr1'\n",
       "\\item 'chr10'\n",
       "\\item 'chr11'\n",
       "\\item 'chr12'\n",
       "\\item 'chr13'\n",
       "\\item 'chr14'\n",
       "\\item 'chr15'\n",
       "\\item 'chr16'\n",
       "\\item 'chr17'\n",
       "\\item 'chr18'\n",
       "\\item 'chr19'\n",
       "\\item 'chr2'\n",
       "\\item 'chr20'\n",
       "\\item 'chr21'\n",
       "\\item 'chr22'\n",
       "\\item 'chr3'\n",
       "\\item 'chr4'\n",
       "\\item 'chr5'\n",
       "\\item 'chr6'\n",
       "\\item 'chr7'\n",
       "\\item 'chr8'\n",
       "\\item 'chr9'\n",
       "\\item 'chrX'\n",
       "\\item 'chrY'\n",
       "\\end{enumerate*}\n"
      ],
      "text/markdown": [
       "1. 'chr1'\n",
       "2. 'chr10'\n",
       "3. 'chr11'\n",
       "4. 'chr12'\n",
       "5. 'chr13'\n",
       "6. 'chr14'\n",
       "7. 'chr15'\n",
       "8. 'chr16'\n",
       "9. 'chr17'\n",
       "10. 'chr18'\n",
       "11. 'chr19'\n",
       "12. 'chr2'\n",
       "13. 'chr20'\n",
       "14. 'chr21'\n",
       "15. 'chr22'\n",
       "16. 'chr3'\n",
       "17. 'chr4'\n",
       "18. 'chr5'\n",
       "19. 'chr6'\n",
       "20. 'chr7'\n",
       "21. 'chr8'\n",
       "22. 'chr9'\n",
       "23. 'chrX'\n",
       "24. 'chrY'\n",
       "\n",
       "\n"
      ],
      "text/plain": [
       " [1] \"chr1\"  \"chr10\" \"chr11\" \"chr12\" \"chr13\" \"chr14\" \"chr15\" \"chr16\" \"chr17\"\n",
       "[10] \"chr18\" \"chr19\" \"chr2\"  \"chr20\" \"chr21\" \"chr22\" \"chr3\"  \"chr4\"  \"chr5\" \n",
       "[19] \"chr6\"  \"chr7\"  \"chr8\"  \"chr9\"  \"chrX\"  \"chrY\" "
      ]
     },
     "metadata": {},
     "output_type": "display_data"
    }
   ],
   "source": [
    "chromosomes <- names(a_chr_SE)\n",
    "chromosomes <- chromosomes[order(chromosomes)]\n",
    "chromosomes"
   ]
  },
  {
   "cell_type": "code",
   "execution_count": 8,
   "metadata": {},
   "outputs": [
    {
     "data": {
      "text/html": [
       "<table>\n",
       "<caption>A data.frame: 5 × 3</caption>\n",
       "<thead>\n",
       "\t<tr><th></th><th scope=col>Counts</th><th scope=col>Chr</th><th scope=col>AStype</th></tr>\n",
       "\t<tr><th></th><th scope=col>&lt;int&gt;</th><th scope=col>&lt;fct&gt;</th><th scope=col>&lt;fct&gt;</th></tr>\n",
       "</thead>\n",
       "<tbody>\n",
       "\t<tr><th scope=row>chr1</th><td>3812</td><td>chr1</td><td>SE  </td></tr>\n",
       "\t<tr><th scope=row>chr1.1</th><td> 604</td><td>chr1</td><td>RI  </td></tr>\n",
       "\t<tr><th scope=row>chr1.2</th><td> 286</td><td>chr1</td><td>MXE </td></tr>\n",
       "\t<tr><th scope=row>chr1.3</th><td> 862</td><td>chr1</td><td>A3SS</td></tr>\n",
       "\t<tr><th scope=row>chr1.4</th><td> 496</td><td>chr1</td><td>A5SS</td></tr>\n",
       "</tbody>\n",
       "</table>\n"
      ],
      "text/latex": [
       "A data.frame: 5 × 3\n",
       "\\begin{tabular}{r|lll}\n",
       "  & Counts & Chr & AStype\\\\\n",
       "  & <int> & <fct> & <fct>\\\\\n",
       "\\hline\n",
       "\tchr1 & 3812 & chr1 & SE  \\\\\n",
       "\tchr1.1 &  604 & chr1 & RI  \\\\\n",
       "\tchr1.2 &  286 & chr1 & MXE \\\\\n",
       "\tchr1.3 &  862 & chr1 & A3SS\\\\\n",
       "\tchr1.4 &  496 & chr1 & A5SS\\\\\n",
       "\\end{tabular}\n"
      ],
      "text/markdown": [
       "\n",
       "A data.frame: 5 × 3\n",
       "\n",
       "| <!--/--> | Counts &lt;int&gt; | Chr &lt;fct&gt; | AStype &lt;fct&gt; |\n",
       "|---|---|---|---|\n",
       "| chr1 | 3812 | chr1 | SE   |\n",
       "| chr1.1 |  604 | chr1 | RI   |\n",
       "| chr1.2 |  286 | chr1 | MXE  |\n",
       "| chr1.3 |  862 | chr1 | A3SS |\n",
       "| chr1.4 |  496 | chr1 | A5SS |\n",
       "\n"
      ],
      "text/plain": [
       "       Counts Chr  AStype\n",
       "chr1   3812   chr1 SE    \n",
       "chr1.1  604   chr1 RI    \n",
       "chr1.2  286   chr1 MXE   \n",
       "chr1.3  862   chr1 A3SS  \n",
       "chr1.4  496   chr1 A5SS  "
      ]
     },
     "metadata": {},
     "output_type": "display_data"
    }
   ],
   "source": [
    "chr_splicing_df[chr_splicing_df$Chr==chromosomes[1],]"
   ]
  },
  {
   "cell_type": "code",
   "execution_count": 9,
   "metadata": {},
   "outputs": [
    {
     "name": "stderr",
     "output_type": "stream",
     "text": [
      "We got 6060 counts of differential splicing\n",
      "\n"
     ]
    }
   ],
   "source": [
    "N <- sum(chr_splicing_df[chr_splicing_df$Chr ==chromosomes[1],\"Counts\"])\n",
    "message(\"We got \", N, \" counts of differential splicing\")"
   ]
  },
  {
   "cell_type": "code",
   "execution_count": 10,
   "metadata": {},
   "outputs": [
    {
     "data": {
      "text/html": [
       "<table>\n",
       "<caption>A data.frame: 5 × 3</caption>\n",
       "<thead>\n",
       "\t<tr><th></th><th scope=col>Counts</th><th scope=col>Chr</th><th scope=col>AStype</th></tr>\n",
       "\t<tr><th></th><th scope=col>&lt;int&gt;</th><th scope=col>&lt;fct&gt;</th><th scope=col>&lt;fct&gt;</th></tr>\n",
       "</thead>\n",
       "<tbody>\n",
       "\t<tr><th scope=row>chr1</th><td>3812</td><td>chr1</td><td>SE  </td></tr>\n",
       "\t<tr><th scope=row>chr1.1</th><td> 604</td><td>chr1</td><td>RI  </td></tr>\n",
       "\t<tr><th scope=row>chr1.2</th><td> 286</td><td>chr1</td><td>MXE </td></tr>\n",
       "\t<tr><th scope=row>chr1.3</th><td> 862</td><td>chr1</td><td>A3SS</td></tr>\n",
       "\t<tr><th scope=row>chr1.4</th><td> 496</td><td>chr1</td><td>A5SS</td></tr>\n",
       "</tbody>\n",
       "</table>\n"
      ],
      "text/latex": [
       "A data.frame: 5 × 3\n",
       "\\begin{tabular}{r|lll}\n",
       "  & Counts & Chr & AStype\\\\\n",
       "  & <int> & <fct> & <fct>\\\\\n",
       "\\hline\n",
       "\tchr1 & 3812 & chr1 & SE  \\\\\n",
       "\tchr1.1 &  604 & chr1 & RI  \\\\\n",
       "\tchr1.2 &  286 & chr1 & MXE \\\\\n",
       "\tchr1.3 &  862 & chr1 & A3SS\\\\\n",
       "\tchr1.4 &  496 & chr1 & A5SS\\\\\n",
       "\\end{tabular}\n"
      ],
      "text/markdown": [
       "\n",
       "A data.frame: 5 × 3\n",
       "\n",
       "| <!--/--> | Counts &lt;int&gt; | Chr &lt;fct&gt; | AStype &lt;fct&gt; |\n",
       "|---|---|---|---|\n",
       "| chr1 | 3812 | chr1 | SE   |\n",
       "| chr1.1 |  604 | chr1 | RI   |\n",
       "| chr1.2 |  286 | chr1 | MXE  |\n",
       "| chr1.3 |  862 | chr1 | A3SS |\n",
       "| chr1.4 |  496 | chr1 | A5SS |\n",
       "\n"
      ],
      "text/plain": [
       "       Counts Chr  AStype\n",
       "chr1   3812   chr1 SE    \n",
       "chr1.1  604   chr1 RI    \n",
       "chr1.2  286   chr1 MXE   \n",
       "chr1.3  862   chr1 A3SS  \n",
       "chr1.4  496   chr1 A5SS  "
      ]
     },
     "metadata": {},
     "output_type": "display_data"
    }
   ],
   "source": [
    "df_chromosome     <- chr_splicing_df[chr_splicing_df$Chr ==chromosomes[1],]\n",
    "df_chromosome"
   ]
  },
  {
   "cell_type": "code",
   "execution_count": 11,
   "metadata": {},
   "outputs": [
    {
     "data": {
      "text/html": [
       "<style>\n",
       ".list-inline {list-style: none; margin:0; padding: 0}\n",
       ".list-inline>li {display: inline-block}\n",
       ".list-inline>li:not(:last-child)::after {content: \"\\00b7\"; padding: 0 .5ex}\n",
       "</style>\n",
       "<ol class=list-inline><li>62.9042904290429</li><li>9.96699669966997</li><li>4.71947194719472</li><li>14.2244224422442</li><li>8.18481848184818</li></ol>\n"
      ],
      "text/latex": [
       "\\begin{enumerate*}\n",
       "\\item 62.9042904290429\n",
       "\\item 9.96699669966997\n",
       "\\item 4.71947194719472\n",
       "\\item 14.2244224422442\n",
       "\\item 8.18481848184818\n",
       "\\end{enumerate*}\n"
      ],
      "text/markdown": [
       "1. 62.9042904290429\n",
       "2. 9.96699669966997\n",
       "3. 4.71947194719472\n",
       "4. 14.2244224422442\n",
       "5. 8.18481848184818\n",
       "\n",
       "\n"
      ],
      "text/plain": [
       "[1] 62.904290  9.966997  4.719472 14.224422  8.184818"
      ]
     },
     "metadata": {},
     "output_type": "display_data"
    }
   ],
   "source": [
    "percentage <- df_chromosome$Counts/sum(df_chromosome$Counts)*100\n",
    "percentage"
   ]
  },
  {
   "cell_type": "code",
   "execution_count": 12,
   "metadata": {},
   "outputs": [
    {
     "data": {
      "text/html": [
       "<style>\n",
       ".list-inline {list-style: none; margin:0; padding: 0}\n",
       ".list-inline>li {display: inline-block}\n",
       ".list-inline>li:not(:last-child)::after {content: \"\\00b7\"; padding: 0 .5ex}\n",
       "</style>\n",
       "<ol class=list-inline><li>120</li><li>4</li></ol>\n"
      ],
      "text/latex": [
       "\\begin{enumerate*}\n",
       "\\item 120\n",
       "\\item 4\n",
       "\\end{enumerate*}\n"
      ],
      "text/markdown": [
       "1. 120\n",
       "2. 4\n",
       "\n",
       "\n"
      ],
      "text/plain": [
       "[1] 120   4"
      ]
     },
     "metadata": {},
     "output_type": "display_data"
    },
    {
     "data": {
      "text/html": [
       "<table>\n",
       "<caption>A data.frame: 6 × 4</caption>\n",
       "<thead>\n",
       "\t<tr><th></th><th scope=col>Counts</th><th scope=col>Chr</th><th scope=col>AStype</th><th scope=col>Perc</th></tr>\n",
       "\t<tr><th></th><th scope=col>&lt;int&gt;</th><th scope=col>&lt;fct&gt;</th><th scope=col>&lt;fct&gt;</th><th scope=col>&lt;dbl&gt;</th></tr>\n",
       "</thead>\n",
       "<tbody>\n",
       "\t<tr><th scope=row>chr1</th><td>3812</td><td>chr1 </td><td>SE  </td><td>62.904290</td></tr>\n",
       "\t<tr><th scope=row>chr1.1</th><td> 604</td><td>chr1 </td><td>RI  </td><td> 9.966997</td></tr>\n",
       "\t<tr><th scope=row>chr1.2</th><td> 286</td><td>chr1 </td><td>MXE </td><td> 4.719472</td></tr>\n",
       "\t<tr><th scope=row>chr1.3</th><td> 862</td><td>chr1 </td><td>A3SS</td><td>14.224422</td></tr>\n",
       "\t<tr><th scope=row>chr1.4</th><td> 496</td><td>chr1 </td><td>A5SS</td><td> 8.184818</td></tr>\n",
       "\t<tr><th scope=row>chr10</th><td>1458</td><td>chr10</td><td>SE  </td><td>70.096154</td></tr>\n",
       "</tbody>\n",
       "</table>\n"
      ],
      "text/latex": [
       "A data.frame: 6 × 4\n",
       "\\begin{tabular}{r|llll}\n",
       "  & Counts & Chr & AStype & Perc\\\\\n",
       "  & <int> & <fct> & <fct> & <dbl>\\\\\n",
       "\\hline\n",
       "\tchr1 & 3812 & chr1  & SE   & 62.904290\\\\\n",
       "\tchr1.1 &  604 & chr1  & RI   &  9.966997\\\\\n",
       "\tchr1.2 &  286 & chr1  & MXE  &  4.719472\\\\\n",
       "\tchr1.3 &  862 & chr1  & A3SS & 14.224422\\\\\n",
       "\tchr1.4 &  496 & chr1  & A5SS &  8.184818\\\\\n",
       "\tchr10 & 1458 & chr10 & SE   & 70.096154\\\\\n",
       "\\end{tabular}\n"
      ],
      "text/markdown": [
       "\n",
       "A data.frame: 6 × 4\n",
       "\n",
       "| <!--/--> | Counts &lt;int&gt; | Chr &lt;fct&gt; | AStype &lt;fct&gt; | Perc &lt;dbl&gt; |\n",
       "|---|---|---|---|---|\n",
       "| chr1 | 3812 | chr1  | SE   | 62.904290 |\n",
       "| chr1.1 |  604 | chr1  | RI   |  9.966997 |\n",
       "| chr1.2 |  286 | chr1  | MXE  |  4.719472 |\n",
       "| chr1.3 |  862 | chr1  | A3SS | 14.224422 |\n",
       "| chr1.4 |  496 | chr1  | A5SS |  8.184818 |\n",
       "| chr10 | 1458 | chr10 | SE   | 70.096154 |\n",
       "\n"
      ],
      "text/plain": [
       "       Counts Chr   AStype Perc     \n",
       "chr1   3812   chr1  SE     62.904290\n",
       "chr1.1  604   chr1  RI      9.966997\n",
       "chr1.2  286   chr1  MXE     4.719472\n",
       "chr1.3  862   chr1  A3SS   14.224422\n",
       "chr1.4  496   chr1  A5SS    8.184818\n",
       "chr10  1458   chr10 SE     70.096154"
      ]
     },
     "metadata": {},
     "output_type": "display_data"
    }
   ],
   "source": [
    "df_plot <- data.frame()\n",
    "\n",
    "for (i in 1:length(chromosomes)) {\n",
    "    df_chromosome  <- chr_splicing_df[chr_splicing_df$Chr ==chromosomes[i],]\n",
    "    percentage     <- df_chromosome$Counts/sum(df_chromosome$Counts)*100\n",
    "    final <- cbind(df_chromosome, Perc=percentage)\n",
    "    if (i == 1)\n",
    "        df_plot <- final \n",
    "    else\n",
    "        df_plot <- rbind(df_plot, final)\n",
    "}  \n",
    "\n",
    "dim(df_plot)\n",
    "head(df_plot)"
   ]
  },
  {
   "cell_type": "code",
   "execution_count": 13,
   "metadata": {},
   "outputs": [
    {
     "data": {
      "image/png": "[encoded data removed]",
      "text/plain": [
       "plot without title"
      ]
     },
     "metadata": {
      "image/png": {
       "height": 420,
       "width": 420
      },
      "text/plain": {
       "height": 420,
       "width": 420
      }
     },
     "output_type": "display_data"
    }
   ],
   "source": [
    "p<-ggplot(df_plot, \n",
    "       aes(x=Chr, y=Perc, fill = AStype, by = Chr)) +\n",
    "  geom_bar(stat = \"identity\", width = 0.8) +\n",
    "  theme_bw() +\n",
    "  theme(axis.text.x = element_text(size=12, angle = 270, hjust = 0.0, vjust = 0.5),\n",
    "        #axis.ticks.x = element_blank(),\n",
    "        axis.text.y = element_text(size=12),\n",
    "        axis.title.x = element_text(face=\"plain\", colour=\"black\", size=12),\n",
    "        axis.title.y = element_text(face=\"plain\", colour=\"black\", size=12),\n",
    "        legend.title=element_blank(),\n",
    "        panel.background=element_blank(),\n",
    "        panel.border=element_blank(),\n",
    "        panel.grid.major=element_blank(),\n",
    "        legend.text = element_text(face=\"plain\", colour=\"black\", size=12)\n",
    "  ) +\n",
    "  #scale_fill_brewer(palette=\"Dark2\") +\n",
    "  #scale_fill_manual(values = palette_npg) +\n",
    "  scale_fill_viridis(discrete=TRUE) +\n",
    "  ylab(\"Splicing type (%)\") +\n",
    "  xlab(\"Chromosome\")\n",
    "p"
   ]
  },
  {
   "cell_type": "code",
   "execution_count": 14,
   "metadata": {},
   "outputs": [
    {
     "name": "stderr",
     "output_type": "stream",
     "text": [
      "Saving 6.67 x 6.67 in image\n",
      "\n"
     ]
    }
   ],
   "source": [
    "ggsave(file = \"../pdf/figureSplicingByChromosome.pdf\", plot = p)"
   ]
  },
  {
   "cell_type": "code",
   "execution_count": 15,
   "metadata": {},
   "outputs": [
    {
     "data": {
      "text/plain": [
       "\n",
       "A3SS A5SS  MXE   RI   SE \n",
       "  24   24   24   24   24 "
      ]
     },
     "metadata": {},
     "output_type": "display_data"
    }
   ],
   "source": [
    "table(df_plot$AStype)"
   ]
  },
  {
   "cell_type": "code",
   "execution_count": 16,
   "metadata": {},
   "outputs": [
    {
     "name": "stderr",
     "output_type": "stream",
     "text": [
      "SE: 64.167394512544%, RI: 9.50516519591603% MXE: 4.48604041803451%, A3ss: 13.4325211577267%, A5ss: 8.40887871577869%\n",
      "\n"
     ]
    }
   ],
   "source": [
    "se.count <- sum(a_chr_SE)\n",
    "ri.count <- sum(a_chr_RI)\n",
    "mxe.count <- sum(a_chr_MXE)\n",
    "a3ss.count <- sum(a_chr_A3SS)\n",
    "a5ss.count <- sum(a_chr_A5SS)\n",
    "total <- se.count + ri.count + mxe.count + a3ss.count + a5ss.count\n",
    "se.p <- 100* se.count/total\n",
    "ri.p <- 100* ri.count/total\n",
    "mxe.p <- 100* mxe.count/total\n",
    "a3ss.p <- 100* a3ss.count/total\n",
    "a5ss.p <- 100* a5ss.count/total\n",
    "message(\"SE: \", se.p, \"%, RI: \", ri.p, \"% MXE: \", mxe.p, \"%, A3ss: \", a3ss.p, \"%, A5ss: \", a5ss.p, \"%\")"
   ]
  }
 ],
 "metadata": {
  "kernelspec": {
   "display_name": "R",
   "language": "R",
   "name": "ir"
  },
  "language_info": {
   "codemirror_mode": "r",
   "file_extension": ".r",
   "mimetype": "text/x-r-source",
   "name": "R",
   "pygments_lexer": "r",
   "version": "3.6.1"
  }
 },
 "nbformat": 4,
 "nbformat_minor": 4
}
