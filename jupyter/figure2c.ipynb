{
 "cells": [
  {
   "cell_type": "markdown",
   "metadata": {},
   "source": [
    "# Figure 2c - Proportions of AS events that were strictly tissue specific, present in 2-5, or over 5 tissues"
   ]
  },
  {
   "cell_type": "markdown",
   "metadata": {},
   "source": [
    "## **NOTE**:\n",
    "\n",
    "We assume that you have cloned the analysis repository and have `cd` into the parent directory. Before starting with the analysis make sure you have first completed the dependencies set up by following the instructions described in the **`dependencies/README.md`** document. All paths defined in this Notebook are relative to the parent directory (repository). Please close this Notebook and start again by following the above guidelines if you have not completed the aforementioned steps."
   ]
  },
  {
   "cell_type": "markdown",
   "metadata": {},
   "source": [
    "## Loading dependencies"
   ]
  },
  {
   "cell_type": "code",
   "execution_count": 1,
   "metadata": {},
   "outputs": [],
   "source": [
    "library(ggplot2)\n",
    "Sys.setenv(TAR = \"/bin/tar\") # for gzfile"
   ]
  },
  {
   "cell_type": "markdown",
   "metadata": {},
   "source": [
    "Read in the file `genesWithCommonAs.tsv` containing number of splicing events per gene and number of tissues."
   ]
  },
  {
   "cell_type": "code",
   "execution_count": 2,
   "metadata": {},
   "outputs": [
    {
     "data": {
      "text/html": [
       "<table>\n",
       "<caption>A data.frame: 6 × 3</caption>\n",
       "<thead>\n",
       "\t<tr><th></th><th scope=col>GeneSymbol</th><th scope=col>n</th><th scope=col>Tissues</th></tr>\n",
       "\t<tr><th></th><th scope=col>&lt;fct&gt;</th><th scope=col>&lt;int&gt;</th><th scope=col>&lt;int&gt;</th></tr>\n",
       "</thead>\n",
       "<tbody>\n",
       "\t<tr><th scope=row>1</th><td>KDM6A </td><td>41</td><td>22</td></tr>\n",
       "\t<tr><th scope=row>2</th><td>DDX3X </td><td>35</td><td>10</td></tr>\n",
       "\t<tr><th scope=row>3</th><td>ZFX   </td><td>33</td><td>19</td></tr>\n",
       "\t<tr><th scope=row>4</th><td>XIST  </td><td>32</td><td>29</td></tr>\n",
       "\t<tr><th scope=row>5</th><td>KDM5C </td><td>23</td><td>19</td></tr>\n",
       "\t<tr><th scope=row>6</th><td>SORBS2</td><td>22</td><td> 4</td></tr>\n",
       "</tbody>\n",
       "</table>\n"
      ],
      "text/latex": [
       "A data.frame: 6 × 3\n",
       "\\begin{tabular}{r|lll}\n",
       "  & GeneSymbol & n & Tissues\\\\\n",
       "  & <fct> & <int> & <int>\\\\\n",
       "\\hline\n",
       "\t1 & KDM6A  & 41 & 22\\\\\n",
       "\t2 & DDX3X  & 35 & 10\\\\\n",
       "\t3 & ZFX    & 33 & 19\\\\\n",
       "\t4 & XIST   & 32 & 29\\\\\n",
       "\t5 & KDM5C  & 23 & 19\\\\\n",
       "\t6 & SORBS2 & 22 &  4\\\\\n",
       "\\end{tabular}\n"
      ],
      "text/markdown": [
       "\n",
       "A data.frame: 6 × 3\n",
       "\n",
       "| <!--/--> | GeneSymbol &lt;fct&gt; | n &lt;int&gt; | Tissues &lt;int&gt; |\n",
       "|---|---|---|---|\n",
       "| 1 | KDM6A  | 41 | 22 |\n",
       "| 2 | DDX3X  | 35 | 10 |\n",
       "| 3 | ZFX    | 33 | 19 |\n",
       "| 4 | XIST   | 32 | 29 |\n",
       "| 5 | KDM5C  | 23 | 19 |\n",
       "| 6 | SORBS2 | 22 |  4 |\n",
       "\n"
      ],
      "text/plain": [
       "  GeneSymbol n  Tissues\n",
       "1 KDM6A      41 22     \n",
       "2 DDX3X      35 10     \n",
       "3 ZFX        33 19     \n",
       "4 XIST       32 29     \n",
       "5 KDM5C      23 19     \n",
       "6 SORBS2     22  4     "
      ]
     },
     "metadata": {},
     "output_type": "display_data"
    }
   ],
   "source": [
    "\n",
    "dat <- read.table(\"https://github.com/adeslatt/sbas_test/releases/download/figure2_test_files/genesWithCommonAS.tsv\", \n",
    "                  stringsAsFactors = TRUE,\n",
    "                  header=TRUE)\n",
    "head(dat)"
   ]
  },
  {
   "cell_type": "markdown",
   "metadata": {},
   "source": [
    "## Getting Proportions\n",
    "Making a table of the number of tissues per gene will get us the \n",
    "numbers we need for the proportions of alternative splicing events (AS) \n",
    "that are strictly tissue specific"
   ]
  },
  {
   "cell_type": "code",
   "execution_count": 3,
   "metadata": {},
   "outputs": [
    {
     "data": {
      "text/plain": [
       "\n",
       "   1    2    3    4    6    8    9   10   14   19   22   29 \n",
       "3273  411   40    8    1    1    1    1    1    2    1    1 "
      ]
     },
     "metadata": {},
     "output_type": "display_data"
    }
   ],
   "source": [
    "tissue_specificity_cnt <- table(dat$Tissues)\n",
    "tissue_specificity_cnt"
   ]
  },
  {
   "cell_type": "markdown",
   "metadata": {},
   "source": [
    "### Make an Array of the table\n",
    "Make an array of the table to access the values based upon the index"
   ]
  },
  {
   "cell_type": "code",
   "execution_count": null,
   "metadata": {},
   "outputs": [],
   "source": [
    "a <- unclass(tissue_specificity_cnt)\n",
    "a"
   ]
  },
  {
   "cell_type": "markdown",
   "metadata": {},
   "source": [
    "####  Names for logic\n",
    "\n",
    "Using the names of this array contain the numbers of genes\n",
    "with those number of splicing events, which we then can use for logical reasoning, such as number of genes that have tissue specific splicing events.  The length of this vector is equal to the length of the array.\n",
    "Using this logical value within the array will allow us to sum the events for our figure."
   ]
  },
  {
   "cell_type": "code",
   "execution_count": null,
   "metadata": {},
   "outputs": [],
   "source": [
    "tissue_cnts <- as.numeric(unclass(names(a)))\n",
    "tissue_cnts == 1\n",
    "a[tissue_cnts == 1]\n",
    "low_cnt <- sum(as.numeric(a[tissue_cnts == 1]))\n",
    "low_cnt"
   ]
  },
  {
   "cell_type": "code",
   "execution_count": null,
   "metadata": {},
   "outputs": [],
   "source": [
    "a[tissue_cnts > 1 & tissue_cnts < 6]\n",
    "medium_cnt <- sum(as.numeric(a[tissue_cnts > 1 & tissue_cnts < 6]))\n",
    "medium_cnt"
   ]
  },
  {
   "cell_type": "code",
   "execution_count": null,
   "metadata": {},
   "outputs": [],
   "source": [
    "a[tissue_cnts > 4]\n",
    "high_cnt <- sum(as.numeric(a[tissue_cnts > 4]))\n",
    "high_cnt"
   ]
  },
  {
   "cell_type": "code",
   "execution_count": null,
   "metadata": {},
   "outputs": [],
   "source": [
    "## set the colors\n",
    "npgBlue<- rgb(60/256,84/256,136/256,1)\n",
    "npgRed <- rgb(220/256,0,0,0.8)\n",
    "npgGreen <- rgb(0,160/256,135/256,1)\n",
    "npgBrown <- rgb(126/256,97/256,72/256,1)\n"
   ]
  },
  {
   "cell_type": "markdown",
   "metadata": {},
   "source": [
    "Make the pie chart figure 2c illustrating number of genes that are spliced and present in only 1 tissue, 2-5 tissues and the number of genes that are alternatively spliced in greater than 5 tissues."
   ]
  },
  {
   "cell_type": "code",
   "execution_count": null,
   "metadata": {},
   "outputs": [],
   "source": [
    "colrs <- c(npgRed,npgBlue,npgGreen)\n",
    "slices <-c(low_cnt, medium_cnt, high_cnt)\n",
    "lbls <-c(\"1 tissue\",\"2-5 tissues\",\">5 tissues\")\n",
    "pct <- round(slices/sum(slices)*100, digits=1)\n",
    "lbls <- paste(lbls, pct) # add percents to labels\n",
    "lbls <- paste(lbls,\"%\",sep=\"\") # ad % to labels\n",
    "pie(slices,labels = lbls, col=colrs,main=\"\",cex=1.5,xaxs=\"r\",yaxs=\"r\")"
   ]
  },
  {
   "cell_type": "code",
   "execution_count": null,
   "metadata": {},
   "outputs": [],
   "source": [
    "pdf (\"../pdf/figure2c.pdf\")\n",
    "pie(slices,labels = lbls, col=colrs,main=\"\",cex=1.5,xaxs=\"r\",yaxs=\"r\")\n",
    "dev.off()"
   ]
  },
  {
   "cell_type": "markdown",
   "metadata": {},
   "source": [
    "## Metadata\n",
    "\n",
    "For replicability and reproducibility purposes, we also print the following metadata:\n",
    "\n",
    "1. Checksums of **'artefacts'**, files generated during the analysis and stored in the folder directory **`data`**\n",
    "2. List of environment metadata, dependencies, versions of libraries using `utils::sessionInfo()` and [`devtools::session_info()`](https://devtools.r-lib.org/reference/session_info.html)"
   ]
  },
  {
   "cell_type": "markdown",
   "metadata": {},
   "source": [
    "### 1. Checksums with the sha256 algorithm"
   ]
  },
  {
   "cell_type": "code",
   "execution_count": null,
   "metadata": {},
   "outputs": [],
   "source": [
    "figure_id   = \"Figure2c\"\n",
    "\n",
    "message(\"Generating sha256 checksums of the artefacts in the `..data/` directory .. \")\n",
    "system(paste0(\"cd ../data/ && sha256sum * > ../metadata/\", figure_id, \"_sha256sums.txt\"), intern = TRUE)\n",
    "message(\"Done!\\n\")\n",
    "\n",
    "data.table::fread(paste0(\"../metadata/\", figure_id, \"_sha256sums.txt\"), header = FALSE, col.names = c(\"sha256sum\", \"file\"))"
   ]
  },
  {
   "cell_type": "markdown",
   "metadata": {},
   "source": [
    "### 2. Libraries metadata"
   ]
  },
  {
   "cell_type": "code",
   "execution_count": null,
   "metadata": {},
   "outputs": [],
   "source": [
    "figure_id   = \"Figure2c\"\n",
    "\n",
    "dev_session_info   <- devtools::session_info()\n",
    "utils_session_info <- utils::sessionInfo()\n",
    "\n",
    "message(\"Saving `devtools::session_info()` objects in ../metadata/devtools_session_info.rds  ..\")\n",
    "saveRDS(dev_session_info, file = paste0(\"../metadata/\", figure_id, \"_devtools_session_info.rds\"))\n",
    "message(\"Done!\\n\")\n",
    "\n",
    "message(\"Saving `utils::sessionInfo()` objects in ../metadata/utils_session_info.rds  ..\")\n",
    "saveRDS(utils_session_info, file = paste0(\"../metadata/\", figure_id ,\"_utils_info.rds\"))\n",
    "message(\"Done!\\n\")\n",
    "\n",
    "dev_session_info$platform\n",
    "dev_session_info$packages[dev_session_info$packages$attached==TRUE, ]"
   ]
  },
  {
   "cell_type": "code",
   "execution_count": null,
   "metadata": {},
   "outputs": [],
   "source": []
  }
 ],
 "metadata": {
  "kernelspec": {
   "display_name": "R",
   "language": "R",
   "name": "ir"
  },
  "language_info": {
   "codemirror_mode": "r",
   "file_extension": ".r",
   "mimetype": "text/x-r-source",
   "name": "R",
   "pygments_lexer": "r",
   "version": "3.6.1"
  }
 },
 "nbformat": 4,
 "nbformat_minor": 4
}
