{
 "cells": [
  {
   "cell_type": "markdown",
   "metadata": {},
   "source": [
    "# Analysis Notebook - Hierarchical Bayesian Modelling"
   ]
  },
  {
   "cell_type": "markdown",
   "metadata": {},
   "source": [
    "## **NOTE**:\n",
    "\n",
    "We assume that you have cloned the analysis repository and have `cd` into the parent directory. Before starting with the analysis make sure you have first completed the dependencies set up by following the instructions described in the **`dependencies/README.md`** document. All paths defined in this Notebook are relative to the parent directory (repository). Please close this Notebook and start again by following the above guidelines if you have not completed the aforementioned steps."
   ]
  },
  {
   "cell_type": "markdown",
   "metadata": {},
   "source": [
    "## Prerequisite input files\n",
    "\n",
    "Before starting the execution of the following code, make sure you have available in the folders `sbas/data` and `sbas/assets` the files listed below as prerequisites.\n",
    "\n",
    "###  **`sbas/data`**.\n",
    "The present analysis requires the following files to be present in the folder **`sbas/data`**.\n",
    "\n",
    "\n",
    "- [x] The contents of `data.tar.gz` after unpacking them into the `sbas/data` folder with `tar xvzf data.tar.gz -C sbas/data `\n",
    "- [x] `rmats_final.se.jc.ijc.txt`\n",
    "- [x] `rmats_final.se.jc.sjc.txt`\n",
    "- [x] `srr_pdata.csv` : the corrected GTEx data as created by the forked yarn and in the `annes-changes` branch https://github.com/TheJacksonLaboratory/yarn/tree/annes-changes with the SRR data as used in the `rMATS 3.2.5` experiment.\n",
    "\n",
    "\n",
    "Additionally, the file `GTEx_Analysis_2016-01-15_v7_RNASeQCv1.1.8_gene_tpm.gct` which is retrieved in the script from [`https://storage.googleapis.com/gtex_analysis_v7/rna_seq_data/`](https://storage.googleapis.com/gtex_analysis_v7/rna_seq_data/GTEx_Analysis_2016-01-15_v7_RNASeQCv1.1.8_gene_tpm.gct.gz) and stored into the folder \n",
    "`sbas/data` as well.\n",
    "\n",
    "\n",
    "### **`sbas/assets`**\n",
    "The present analysis requires the following files to be present in the folder **`sbas/assets`**.\n",
    "\n",
    "- [x] `tissues.tsv`: metadata file with information on which tissues will be used for analysis -- only using the `include` option for analysis\n",
    "- [x] `splice-relevant-genes.txt`: list of RNA binding proteins that are annotated to splicing relevant functions from GO."
   ]
  },
  {
   "cell_type": "markdown",
   "metadata": {},
   "source": [
    "## Loading dependencies\n",
    "\n",
    "If `conda` is available on your environment you can install the required dependencies by running the following commands:\n",
    "\n",
    "\n",
    "```bash\n",
    "time conda install -y r-base==3.6.2 &&\n",
    "conda install -y r-ggplot2 r-ggsci r-coda r-rstan r-rjags r-compute.es r-snakecase &&\n",
    "Rscript -e 'install.packages(\"runjags\", repos = \"https://cloud.r-project.org/\")'\n",
    "```\n",
    "\n"
   ]
  },
  {
   "cell_type": "code",
   "execution_count": 1,
   "metadata": {},
   "outputs": [],
   "source": [
    "# Start the clock!\n",
    "start_time <- Sys.time()"
   ]
  },
  {
   "cell_type": "code",
   "execution_count": 2,
   "metadata": {},
   "outputs": [
    {
     "name": "stderr",
     "output_type": "stream",
     "text": [
      "Warning message:\n",
      "“package ‘ggsci’ was built under R version 3.6.3”\n",
      "Warning message:\n",
      "“package ‘gridExtra’ was built under R version 3.6.3”\n",
      "Warning message:\n",
      "“package ‘snakecase’ was built under R version 3.6.3”\n"
     ]
    },
    {
     "ename": "ERROR",
     "evalue": "Error in library(rstan): there is no package called ‘rstan’\n",
     "output_type": "error",
     "traceback": [
      "Error in library(rstan): there is no package called ‘rstan’\nTraceback:\n",
      "1. library(rstan)"
     ]
    }
   ],
   "source": [
    "# dataviz dependencies\n",
    "library(ggplot2)\n",
    "library(ggsci)\n",
    "library(grid)\n",
    "library(gridExtra)\n",
    "library(stringr)\n",
    "library(snakecase)\n",
    "\n",
    "# BDA2E-utilities dependencies\n",
    "library(rstan)\n",
    "library(parallel)\n",
    "library(rjags)\n",
    "library(runjags)\n",
    "library(compute.es)"
   ]
  },
  {
   "cell_type": "code",
   "execution_count": 3,
   "metadata": {},
   "outputs": [
    {
     "data": {
      "text/html": [
       "FALSE"
      ],
      "text/latex": [
       "FALSE"
      ],
      "text/markdown": [
       "FALSE"
      ],
      "text/plain": [
       "[1] FALSE"
      ]
     },
     "metadata": {},
     "output_type": "display_data"
    }
   ],
   "source": [
    "file.exists(\"../data/GTEx_Analysis_2017-06-05_v8_RNASeQCv1.1.9_gene_tpm.gct\")"
   ]
  },
  {
   "cell_type": "markdown",
   "metadata": {},
   "source": [
    "Download GTEx_Analysis_2016-01-15_v7_RNASeQCv1.1.8_gene_tpm.gct from Google Cloud\n"
   ]
  },
  {
   "cell_type": "code",
   "execution_count": 4,
   "metadata": {},
   "outputs": [
    {
     "name": "stderr",
     "output_type": "stream",
     "text": [
      "Downloading GTEx_Analysis_2017-06-05_v8_RNASeQCv1.1.9_gene_tpm.gct \n",
      "from https://console.cloud.google.com/storage/browser/_details/gtex_analysis_v7/rna_seq_data/ ..\n",
      "\n",
      "Done!\n",
      "\n",
      "\n",
      "\n",
      "Unzipping compressed file GTEx_Analysis_2017-06-05_v8_RNASeQCv1.1.9_gene_tpm.gct.gz..\n",
      "\n",
      "Done! \n",
      "\n",
      "The file GTEx_Analysis_2017-06-05_v8_RNASeQCv1.1.9_gene_tpm.gct can be found in ../data/\n",
      "\n"
     ]
    }
   ],
   "source": [
    "if (!(\"GTEx_Analysis_2017-06-05_v8_RNASeQCv1.1.9_gene_tpm.gct\" %in% list.files(\"../data/\"))) {\n",
    "    message(\"Downloading GTEx_Analysis_2017-06-05_v8_RNASeQCv1.1.9_gene_tpm.gct \\nfrom https://console.cloud.google.com/storage/browser/_details/gtex_analysis_v7/rna_seq_data/ ..\")\n",
    "    system(\"wget -O ../data/GTEx_Analysis_2017-06-05_v8_RNASeQCv1.1.9_gene_tpm.gct.gz https://storage.googleapis.com/gtex_analysis_v7/rna_seq_data/GTEx_Analysis_2016-01-15_v7_RNASeQCv1.1.8_gene_tpm.gct.gz\", intern = TRUE)\n",
    "    message(\"Done!\\n\\n\")\n",
    "    message(\"Unzipping compressed file GTEx_Analysis_2017-06-05_v8_RNASeQCv1.1.9_gene_tpm.gct.gz..\")\n",
    "    system(\"gunzip ../data/GTEx_Analysis_2017-06-05_v8_RNASeQCv1.1.9_gene_tpm.gct.gz\", intern = TRUE)\n",
    "    message(\"Done! \\n\\nThe file GTEx_Analysis_2017-06-05_v8_RNASeQCv1.1.9_gene_tpm.gct can be found in ../data/\")\n",
    "}"
   ]
  },
  {
   "cell_type": "markdown",
   "metadata": {},
   "source": [
    "Previously used list of tissues to use for the Hierarchical Bayesian modelling:\n",
    "\n",
    "\n",
    "\n",
    "```R\n",
    "tissue.list<-c(\"Heart - Left Ventricle\",\n",
    "               \"Breast - Mammary Tissue\",\n",
    "               \"Brain - Cortex.Brain - Frontal Cortex (BA9).Brain - Anterior cingulate cortex (BA24)\",\n",
    "               \"Adrenal Gland\",\n",
    "               \"Adipose - Subcutaneous\",\n",
    "               \"Muscle - Skeletal\",\n",
    "               \"Thyroid\",\n",
    "               \"Cells - Transformed fibroblasts\",\n",
    "               \"Artery - Aorta\",\n",
    "               \"Skin - Sun Exposed (Lower leg).Skin - Not Sun Exposed (Suprapubic)\")\n",
    "```"
   ]
  },
  {
   "cell_type": "code",
   "execution_count": 5,
   "metadata": {},
   "outputs": [
    {
     "name": "stderr",
     "output_type": "stream",
     "text": [
      "Parsed with column specification:\n",
      "cols(\n",
      "  name = \u001b[31mcol_character()\u001b[39m,\n",
      "  female = \u001b[32mcol_double()\u001b[39m,\n",
      "  male = \u001b[32mcol_double()\u001b[39m,\n",
      "  include = \u001b[32mcol_double()\u001b[39m,\n",
      "  display.name = \u001b[31mcol_character()\u001b[39m\n",
      ")\n",
      "\n"
     ]
    }
   ],
   "source": [
    "tissues_df <- readr::read_delim(\"../assets/tissues.tsv\", delim = \"\\t\")"
   ]
  },
  {
   "cell_type": "code",
   "execution_count": 6,
   "metadata": {},
   "outputs": [],
   "source": [
    "tissue.list <- tissues_df$name[ tissues_df$include ==1]"
   ]
  },
  {
   "cell_type": "code",
   "execution_count": 7,
   "metadata": {},
   "outputs": [
    {
     "name": "stderr",
     "output_type": "stream",
     "text": [
      "39 tissues\n",
      "\n"
     ]
    },
    {
     "name": "stdout",
     "output_type": "stream",
     "text": [
      "adipose_subcutaneous\n",
      "adipose_visceral_omentum\n",
      "adrenal_gland\n",
      "artery_aorta\n",
      "artery_coronary\n",
      "artery_tibial\n",
      "brain_caudate_basal_ganglia\n",
      "brain_cerebellar_hemisphere\n",
      "brain_cerebellum\n",
      "brain_cortex\n",
      "brain_frontal_cortex_ba_9\n",
      "brain_hippocampus\n",
      "brain_hypothalamus\n",
      "brain_nucleus_accumbens_basal_ganglia\n",
      "brain_putamen_basal_ganglia\n",
      "brain_spinal_cord_cervical_c_1\n",
      "breast_mammary_tissue\n",
      "cells_cultured_fibroblasts\n",
      "cells_ebv_transformed_lymphocytes\n",
      "colon_sigmoid\n",
      "colon_transverse\n",
      "esophagus_gastroesophageal_junction\n",
      "esophagus_mucosa\n",
      "esophagus_muscularis\n",
      "heart_atrial_appendage\n",
      "heart_left_ventricle\n",
      "liver\n",
      "lung\n",
      "muscle_skeletal\n",
      "nerve_tibial\n",
      "pancreas\n",
      "pituitary\n",
      "skin_not_sun_exposed_suprapubic\n",
      "skin_sun_exposed_lower_leg\n",
      "small_intestine_terminal_ileum\n",
      "spleen\n",
      "stomach\n",
      "thyroid\n",
      "whole_blood\n"
     ]
    }
   ],
   "source": [
    "message(length(tissue.list), \" tissues\")\n",
    "cat(tissue.list, sep = \"\\n\")"
   ]
  },
  {
   "cell_type": "code",
   "execution_count": 8,
   "metadata": {},
   "outputs": [],
   "source": [
    "tissue <- tissue.list[17]  #can be replaced with a loop or argument to choose a different tissue"
   ]
  },
  {
   "cell_type": "code",
   "execution_count": 9,
   "metadata": {},
   "outputs": [
    {
     "data": {
      "text/html": [
       "'breast_mammary_tissue'"
      ],
      "text/latex": [
       "'breast\\_mammary\\_tissue'"
      ],
      "text/markdown": [
       "'breast_mammary_tissue'"
      ],
      "text/plain": [
       "[1] \"breast_mammary_tissue\""
      ]
     },
     "metadata": {},
     "output_type": "display_data"
    }
   ],
   "source": [
    "tissue"
   ]
  },
  {
   "cell_type": "markdown",
   "metadata": {},
   "source": [
    "## Pattern for choosing `topTable()` files from `limma`\n",
    "\n",
    "```bash\n",
    "# {as_site_type} + '_' + {tissue} + '_' + suffix_pattern \n",
    "se_skin_not_sun_exposed_suprapubic_AS_model_B_sex_as_events.csv\n",
    "```"
   ]
  },
  {
   "cell_type": "code",
   "execution_count": 10,
   "metadata": {},
   "outputs": [
    {
     "data": {
      "text/html": [
       "'../data/se_breast_mammary_tissue_AS_model_B_sex_as_events.csv'"
      ],
      "text/latex": [
       "'../data/se\\_breast\\_mammary\\_tissue\\_AS\\_model\\_B\\_sex\\_as\\_events.csv'"
      ],
      "text/markdown": [
       "'../data/se_breast_mammary_tissue_AS_model_B_sex_as_events.csv'"
      ],
      "text/plain": [
       "[1] \"../data/se_breast_mammary_tissue_AS_model_B_sex_as_events.csv\""
      ]
     },
     "metadata": {},
     "output_type": "display_data"
    },
    {
     "data": {
      "text/html": [
       "TRUE"
      ],
      "text/latex": [
       "TRUE"
      ],
      "text/markdown": [
       "TRUE"
      ],
      "text/plain": [
       "[1] TRUE"
      ]
     },
     "metadata": {},
     "output_type": "display_data"
    },
    {
     "data": {
      "text/html": [
       "'-rw-r--r-- 1 jovyan users 4688985 Jun 18 16:59 ../data/se_breast_mammary_tissue_AS_model_B_sex_as_events.csv'"
      ],
      "text/latex": [
       "'-rw-r--r-- 1 jovyan users 4688985 Jun 18 16:59 ../data/se\\_breast\\_mammary\\_tissue\\_AS\\_model\\_B\\_sex\\_as\\_events.csv'"
      ],
      "text/markdown": [
       "'-rw-r--r-- 1 jovyan users 4688985 Jun 18 16:59 ../data/se_breast_mammary_tissue_AS_model_B_sex_as_events.csv'"
      ],
      "text/plain": [
       "[1] \"-rw-r--r-- 1 jovyan users 4688985 Jun 18 16:59 ../data/se_breast_mammary_tissue_AS_model_B_sex_as_events.csv\""
      ]
     },
     "metadata": {},
     "output_type": "display_data"
    }
   ],
   "source": [
    "dataDir <- \"../data/\"\n",
    "assetsDir <- \"../assets/\"\n",
    "as_site_type <- \"se\"\n",
    "suffix_pattern <- \"AS_model_B_sex_as_events.csv\"\n",
    "\n",
    "file.with.de.results <- paste0(dataDir, as_site_type, \"_\", tissue, \"_\" , suffix_pattern  )\n",
    "file.with.de.results\n",
    "file.exists(file.with.de.results)\n",
    "system( paste0(\"ls -l \", file.with.de.results), intern = TRUE )"
   ]
  },
  {
   "cell_type": "code",
   "execution_count": 11,
   "metadata": {},
   "outputs": [
    {
     "data": {
      "text/html": [
       "<table>\n",
       "<caption>A data.frame: 2 × 6</caption>\n",
       "<thead>\n",
       "\t<tr><th></th><th scope=col>logFC</th><th scope=col>AveExpr</th><th scope=col>t</th><th scope=col>P.Value</th><th scope=col>adj.P.Val</th><th scope=col>B</th></tr>\n",
       "\t<tr><th></th><th scope=col>&lt;dbl&gt;</th><th scope=col>&lt;dbl&gt;</th><th scope=col>&lt;dbl&gt;</th><th scope=col>&lt;dbl&gt;</th><th scope=col>&lt;dbl&gt;</th><th scope=col>&lt;dbl&gt;</th></tr>\n",
       "</thead>\n",
       "<tbody>\n",
       "\t<tr><th scope=row>XIST-10154</th><td>-6.796072</td><td>1.385720</td><td>-38.73465</td><td>5.301573e-131</td><td>1.523859e-126</td><td>280.9110</td></tr>\n",
       "\t<tr><th scope=row>XIST-10149</th><td>-7.124726</td><td>1.597306</td><td>-38.68238</td><td>7.868530e-131</td><td>1.523859e-126</td><td>280.5225</td></tr>\n",
       "</tbody>\n",
       "</table>\n"
      ],
      "text/latex": [
       "A data.frame: 2 × 6\n",
       "\\begin{tabular}{r|llllll}\n",
       "  & logFC & AveExpr & t & P.Value & adj.P.Val & B\\\\\n",
       "  & <dbl> & <dbl> & <dbl> & <dbl> & <dbl> & <dbl>\\\\\n",
       "\\hline\n",
       "\tXIST-10154 & -6.796072 & 1.385720 & -38.73465 & 5.301573e-131 & 1.523859e-126 & 280.9110\\\\\n",
       "\tXIST-10149 & -7.124726 & 1.597306 & -38.68238 & 7.868530e-131 & 1.523859e-126 & 280.5225\\\\\n",
       "\\end{tabular}\n"
      ],
      "text/markdown": [
       "\n",
       "A data.frame: 2 × 6\n",
       "\n",
       "| <!--/--> | logFC &lt;dbl&gt; | AveExpr &lt;dbl&gt; | t &lt;dbl&gt; | P.Value &lt;dbl&gt; | adj.P.Val &lt;dbl&gt; | B &lt;dbl&gt; |\n",
       "|---|---|---|---|---|---|---|\n",
       "| XIST-10154 | -6.796072 | 1.385720 | -38.73465 | 5.301573e-131 | 1.523859e-126 | 280.9110 |\n",
       "| XIST-10149 | -7.124726 | 1.597306 | -38.68238 | 7.868530e-131 | 1.523859e-126 | 280.5225 |\n",
       "\n"
      ],
      "text/plain": [
       "           logFC     AveExpr  t         P.Value       adj.P.Val     B       \n",
       "XIST-10154 -6.796072 1.385720 -38.73465 5.301573e-131 1.523859e-126 280.9110\n",
       "XIST-10149 -7.124726 1.597306 -38.68238 7.868530e-131 1.523859e-126 280.5225"
      ]
     },
     "metadata": {},
     "output_type": "display_data"
    }
   ],
   "source": [
    "events.table         <- read.table(file.with.de.results, sep = \",\")\n",
    "head(events.table, 2)"
   ]
  },
  {
   "cell_type": "markdown",
   "metadata": {},
   "source": [
    "## Add annotation columns to the topTable dataframe:\n",
    "\n",
    "The feature information is encoded in the topTable dataframe as rownames. The `ID` and `geneSymbol` variables have been combined in the following pattern:\n",
    "\n",
    "```console\n",
    "{geneSymbol}-{ID} \n",
    "```\n",
    "\n",
    "- `ID`: everything **_after_** last occurence of hyphen `-`\n",
    "example: \n",
    "```R\n",
    "stringr::str_replace(\"apples - oranges - bananas\", \"^.+-\", \"\")\n",
    "```\n",
    "\n",
    "```console\n",
    "# output:\n",
    "\n",
    "' bananas'\n",
    "```\n",
    "\n",
    "- `geneSymbol`: everything **_before_** last occurence of `-`\n",
    "example: \n",
    "\n",
    "```R\n",
    "sub('-[^-]*$', '',\"apples - oranges - bananas\")\n",
    "```\n",
    "\n",
    "```console\n",
    "# output:\n",
    "\n",
    "'apples - oranges '\n",
    "```\n",
    "\n",
    "```diff\n",
    "- NOTE: The above solution covers the cases where a hyphen is part of the geneSymbol.\n",
    "```"
   ]
  },
  {
   "cell_type": "code",
   "execution_count": 12,
   "metadata": {},
   "outputs": [
    {
     "data": {
      "text/html": [
       "<style>\n",
       ".list-inline {list-style: none; margin:0; padding: 0}\n",
       ".list-inline>li {display: inline-block}\n",
       ".list-inline>li:not(:last-child)::after {content: \"\\00b7\"; padding: 0 .5ex}\n",
       "</style>\n",
       "<ol class=list-inline><li>'logFC'</li><li>'AveExpr'</li><li>'t'</li><li>'P.Value'</li><li>'adj.P.Val'</li><li>'B'</li></ol>\n"
      ],
      "text/latex": [
       "\\begin{enumerate*}\n",
       "\\item 'logFC'\n",
       "\\item 'AveExpr'\n",
       "\\item 't'\n",
       "\\item 'P.Value'\n",
       "\\item 'adj.P.Val'\n",
       "\\item 'B'\n",
       "\\end{enumerate*}\n"
      ],
      "text/markdown": [
       "1. 'logFC'\n",
       "2. 'AveExpr'\n",
       "3. 't'\n",
       "4. 'P.Value'\n",
       "5. 'adj.P.Val'\n",
       "6. 'B'\n",
       "\n",
       "\n"
      ],
      "text/plain": [
       "[1] \"logFC\"     \"AveExpr\"   \"t\"         \"P.Value\"   \"adj.P.Val\" \"B\"        "
      ]
     },
     "metadata": {},
     "output_type": "display_data"
    }
   ],
   "source": [
    "cols_initially <- colnames(events.table)\n",
    "cols_initially"
   ]
  },
  {
   "cell_type": "code",
   "execution_count": 13,
   "metadata": {},
   "outputs": [],
   "source": [
    "events.table[[\"ID\"]] <- stringr::str_replace(rownames(events.table),  \"^.+-\", \"\")\n",
    "events.table[[\"gene_name\"]] <- sub('-[^-]*$', '', rownames(events.table))"
   ]
  },
  {
   "cell_type": "code",
   "execution_count": 15,
   "metadata": {},
   "outputs": [],
   "source": [
    "keepInOrderCols <- c(\"gene_name\", \"ID\", cols_initially)"
   ]
  },
  {
   "cell_type": "code",
   "execution_count": 16,
   "metadata": {},
   "outputs": [],
   "source": [
    "events.table <- events.table[ , keepInOrderCols ]"
   ]
  },
  {
   "cell_type": "code",
   "execution_count": 17,
   "metadata": {},
   "outputs": [
    {
     "data": {
      "text/html": [
       "<table>\n",
       "<caption>A data.frame: 2 × 8</caption>\n",
       "<thead>\n",
       "\t<tr><th></th><th scope=col>gene_name</th><th scope=col>ID</th><th scope=col>logFC</th><th scope=col>AveExpr</th><th scope=col>t</th><th scope=col>P.Value</th><th scope=col>adj.P.Val</th><th scope=col>B</th></tr>\n",
       "\t<tr><th></th><th scope=col>&lt;chr&gt;</th><th scope=col>&lt;chr&gt;</th><th scope=col>&lt;dbl&gt;</th><th scope=col>&lt;dbl&gt;</th><th scope=col>&lt;dbl&gt;</th><th scope=col>&lt;dbl&gt;</th><th scope=col>&lt;dbl&gt;</th><th scope=col>&lt;dbl&gt;</th></tr>\n",
       "</thead>\n",
       "<tbody>\n",
       "\t<tr><th scope=row>RPLP0-28659</th><td>RPLP0</td><td>28659</td><td> 0.02222658</td><td>9.584065</td><td> 0.1354014</td><td>0.8923696</td><td>0.9544973</td><td>-7.100906</td></tr>\n",
       "\t<tr><th scope=row>CD74-25493</th><td>CD74 </td><td>25493</td><td>-0.01277937</td><td>9.839909</td><td>-0.1084203</td><td>0.9137222</td><td>0.9639965</td><td>-7.254767</td></tr>\n",
       "</tbody>\n",
       "</table>\n"
      ],
      "text/latex": [
       "A data.frame: 2 × 8\n",
       "\\begin{tabular}{r|llllllll}\n",
       "  & gene\\_name & ID & logFC & AveExpr & t & P.Value & adj.P.Val & B\\\\\n",
       "  & <chr> & <chr> & <dbl> & <dbl> & <dbl> & <dbl> & <dbl> & <dbl>\\\\\n",
       "\\hline\n",
       "\tRPLP0-28659 & RPLP0 & 28659 &  0.02222658 & 9.584065 &  0.1354014 & 0.8923696 & 0.9544973 & -7.100906\\\\\n",
       "\tCD74-25493 & CD74  & 25493 & -0.01277937 & 9.839909 & -0.1084203 & 0.9137222 & 0.9639965 & -7.254767\\\\\n",
       "\\end{tabular}\n"
      ],
      "text/markdown": [
       "\n",
       "A data.frame: 2 × 8\n",
       "\n",
       "| <!--/--> | gene_name &lt;chr&gt; | ID &lt;chr&gt; | logFC &lt;dbl&gt; | AveExpr &lt;dbl&gt; | t &lt;dbl&gt; | P.Value &lt;dbl&gt; | adj.P.Val &lt;dbl&gt; | B &lt;dbl&gt; |\n",
       "|---|---|---|---|---|---|---|---|---|\n",
       "| RPLP0-28659 | RPLP0 | 28659 |  0.02222658 | 9.584065 |  0.1354014 | 0.8923696 | 0.9544973 | -7.100906 |\n",
       "| CD74-25493 | CD74  | 25493 | -0.01277937 | 9.839909 | -0.1084203 | 0.9137222 | 0.9639965 | -7.254767 |\n",
       "\n"
      ],
      "text/plain": [
       "            gene_name ID    logFC       AveExpr  t          P.Value   adj.P.Val\n",
       "RPLP0-28659 RPLP0     28659  0.02222658 9.584065  0.1354014 0.8923696 0.9544973\n",
       "CD74-25493  CD74      25493 -0.01277937 9.839909 -0.1084203 0.9137222 0.9639965\n",
       "            B        \n",
       "RPLP0-28659 -7.100906\n",
       "CD74-25493  -7.254767"
      ]
     },
     "metadata": {},
     "output_type": "display_data"
    }
   ],
   "source": [
    "tail(events.table, 2)"
   ]
  },
  {
   "cell_type": "markdown",
   "metadata": {},
   "source": [
    "## Define filepaths of required inputs\n",
    "\n",
    "`file.with.de.results` has been defined above"
   ]
  },
  {
   "cell_type": "code",
   "execution_count": 18,
   "metadata": {},
   "outputs": [
    {
     "data": {
      "text/html": [
       "TRUE"
      ],
      "text/latex": [
       "TRUE"
      ],
      "text/markdown": [
       "TRUE"
      ],
      "text/plain": [
       "[1] TRUE"
      ]
     },
     "metadata": {},
     "output_type": "display_data"
    }
   ],
   "source": [
    "rbp.table.name        <- paste0(assetsDir, \"splice-relevant-genes.txt\")\n",
    "file.exists(rbp.table.name)"
   ]
  },
  {
   "cell_type": "code",
   "execution_count": 19,
   "metadata": {},
   "outputs": [
    {
     "data": {
      "text/html": [
       "TRUE"
      ],
      "text/latex": [
       "TRUE"
      ],
      "text/markdown": [
       "TRUE"
      ],
      "text/plain": [
       "[1] TRUE"
      ]
     },
     "metadata": {},
     "output_type": "display_data"
    }
   ],
   "source": [
    "events.table.name     <- paste0(dataDir, \"fromGTF.SE.txt\")\n",
    "file.exists(events.table.name)"
   ]
  },
  {
   "cell_type": "code",
   "execution_count": 21,
   "metadata": {},
   "outputs": [
    {
     "data": {
      "text/html": [
       "TRUE"
      ],
      "text/latex": [
       "TRUE"
      ],
      "text/markdown": [
       "TRUE"
      ],
      "text/plain": [
       "[1] TRUE"
      ]
     },
     "metadata": {},
     "output_type": "display_data"
    }
   ],
   "source": [
    "inc.counts.file.name  <- paste0(dataDir, \"rmats_final.se.jc.ijc.txt.gz\")\n",
    "file.exists(inc.counts.file.name)"
   ]
  },
  {
   "cell_type": "code",
   "execution_count": 22,
   "metadata": {},
   "outputs": [
    {
     "data": {
      "text/html": [
       "TRUE"
      ],
      "text/latex": [
       "TRUE"
      ],
      "text/markdown": [
       "TRUE"
      ],
      "text/plain": [
       "[1] TRUE"
      ]
     },
     "metadata": {},
     "output_type": "display_data"
    }
   ],
   "source": [
    "skip.counts.file.name <- paste0(dataDir, \"rmats_final.se.jc.sjc.txt.gz\")\n",
    "file.exists(skip.counts.file.name)"
   ]
  },
  {
   "cell_type": "code",
   "execution_count": 23,
   "metadata": {},
   "outputs": [
    {
     "data": {
      "text/html": [
       "TRUE"
      ],
      "text/latex": [
       "TRUE"
      ],
      "text/markdown": [
       "TRUE"
      ],
      "text/plain": [
       "[1] TRUE"
      ]
     },
     "metadata": {},
     "output_type": "display_data"
    }
   ],
   "source": [
    "metadata.file.name    <- paste0(dataDir, \"srr_pdata.csv\")\n",
    "file.exists(metadata.file.name)"
   ]
  },
  {
   "cell_type": "code",
   "execution_count": 24,
   "metadata": {},
   "outputs": [
    {
     "data": {
      "text/html": [
       "TRUE"
      ],
      "text/latex": [
       "TRUE"
      ],
      "text/markdown": [
       "TRUE"
      ],
      "text/plain": [
       "[1] TRUE"
      ]
     },
     "metadata": {},
     "output_type": "display_data"
    }
   ],
   "source": [
    "expression.file.name  <- paste0(dataDir, \"GTEx_Analysis_2017-06-05_v8_RNASeQCv1.1.9_gene_tpm.gct\")\n",
    "file.exists(expression.file.name)"
   ]
  },
  {
   "cell_type": "markdown",
   "metadata": {},
   "source": [
    "## Use the define filepaths to load/read in the tables "
   ]
  },
  {
   "cell_type": "markdown",
   "metadata": {},
   "source": [
    "Load the skip and inclusion count matrices, and the list of RNA binding proteins that are annotated to either:\n",
    "- mRNA splicing, via spliceosome `(GO:0000398)`,\n",
    "- regulation of mRNA splicing, via spliceosome `(GO:0048024)`, or \n",
    "- both. \n",
    "\n",
    "The table has the:\n",
    "- Gene Symbol\n",
    "- the Uniprot ID (`uprot.id`)\n",
    "- the NCBI Gene ID (`gene.id`) and \n",
    "- boolean columns for being \n",
    "  - `S`=mRNA splicing, via spliceosome `(GO:0000398)` and \n",
    "  - `R`=regulation of mRNA splicing, via spliceosome `(GO:0048024)`."
   ]
  },
  {
   "cell_type": "markdown",
   "metadata": {},
   "source": [
    "### Filtering of the `topTable()` object\n",
    "\n",
    "- `abs(events.table$logFC)>=log2(1.5)`\n",
    "- `events.table$adj.P.Val<=0.05`"
   ]
  },
  {
   "cell_type": "code",
   "execution_count": 25,
   "metadata": {},
   "outputs": [
    {
     "data": {
      "text/html": [
       "<style>\n",
       ".list-inline {list-style: none; margin:0; padding: 0}\n",
       ".list-inline>li {display: inline-block}\n",
       ".list-inline>li:not(:last-child)::after {content: \"\\00b7\"; padding: 0 .5ex}\n",
       "</style>\n",
       "<ol class=list-inline><li>38733</li><li>8</li></ol>\n"
      ],
      "text/latex": [
       "\\begin{enumerate*}\n",
       "\\item 38733\n",
       "\\item 8\n",
       "\\end{enumerate*}\n"
      ],
      "text/markdown": [
       "1. 38733\n",
       "2. 8\n",
       "\n",
       "\n"
      ],
      "text/plain": [
       "[1] 38733     8"
      ]
     },
     "metadata": {},
     "output_type": "display_data"
    },
    {
     "data": {
      "text/html": [
       "<style>\n",
       ".list-inline {list-style: none; margin:0; padding: 0}\n",
       ".list-inline>li {display: inline-block}\n",
       ".list-inline>li:not(:last-child)::after {content: \"\\00b7\"; padding: 0 .5ex}\n",
       "</style>\n",
       "<ol class=list-inline><li>3163</li><li>8</li></ol>\n"
      ],
      "text/latex": [
       "\\begin{enumerate*}\n",
       "\\item 3163\n",
       "\\item 8\n",
       "\\end{enumerate*}\n"
      ],
      "text/markdown": [
       "1. 3163\n",
       "2. 8\n",
       "\n",
       "\n"
      ],
      "text/plain": [
       "[1] 3163    8"
      ]
     },
     "metadata": {},
     "output_type": "display_data"
    },
    {
     "data": {
      "text/html": [
       "<table>\n",
       "<caption>A data.frame: 2 × 8</caption>\n",
       "<thead>\n",
       "\t<tr><th></th><th scope=col>gene_name</th><th scope=col>ID</th><th scope=col>logFC</th><th scope=col>AveExpr</th><th scope=col>t</th><th scope=col>P.Value</th><th scope=col>adj.P.Val</th><th scope=col>B</th></tr>\n",
       "\t<tr><th></th><th scope=col>&lt;chr&gt;</th><th scope=col>&lt;chr&gt;</th><th scope=col>&lt;dbl&gt;</th><th scope=col>&lt;dbl&gt;</th><th scope=col>&lt;dbl&gt;</th><th scope=col>&lt;dbl&gt;</th><th scope=col>&lt;dbl&gt;</th><th scope=col>&lt;dbl&gt;</th></tr>\n",
       "</thead>\n",
       "<tbody>\n",
       "\t<tr><th scope=row>XIST-10154</th><td>XIST</td><td>10154</td><td>-6.796072</td><td>1.385720</td><td>-38.73465</td><td>5.301573e-131</td><td>1.523859e-126</td><td>280.9110</td></tr>\n",
       "\t<tr><th scope=row>XIST-10149</th><td>XIST</td><td>10149</td><td>-7.124726</td><td>1.597306</td><td>-38.68238</td><td>7.868530e-131</td><td>1.523859e-126</td><td>280.5225</td></tr>\n",
       "</tbody>\n",
       "</table>\n"
      ],
      "text/latex": [
       "A data.frame: 2 × 8\n",
       "\\begin{tabular}{r|llllllll}\n",
       "  & gene\\_name & ID & logFC & AveExpr & t & P.Value & adj.P.Val & B\\\\\n",
       "  & <chr> & <chr> & <dbl> & <dbl> & <dbl> & <dbl> & <dbl> & <dbl>\\\\\n",
       "\\hline\n",
       "\tXIST-10154 & XIST & 10154 & -6.796072 & 1.385720 & -38.73465 & 5.301573e-131 & 1.523859e-126 & 280.9110\\\\\n",
       "\tXIST-10149 & XIST & 10149 & -7.124726 & 1.597306 & -38.68238 & 7.868530e-131 & 1.523859e-126 & 280.5225\\\\\n",
       "\\end{tabular}\n"
      ],
      "text/markdown": [
       "\n",
       "A data.frame: 2 × 8\n",
       "\n",
       "| <!--/--> | gene_name &lt;chr&gt; | ID &lt;chr&gt; | logFC &lt;dbl&gt; | AveExpr &lt;dbl&gt; | t &lt;dbl&gt; | P.Value &lt;dbl&gt; | adj.P.Val &lt;dbl&gt; | B &lt;dbl&gt; |\n",
       "|---|---|---|---|---|---|---|---|---|\n",
       "| XIST-10154 | XIST | 10154 | -6.796072 | 1.385720 | -38.73465 | 5.301573e-131 | 1.523859e-126 | 280.9110 |\n",
       "| XIST-10149 | XIST | 10149 | -7.124726 | 1.597306 | -38.68238 | 7.868530e-131 | 1.523859e-126 | 280.5225 |\n",
       "\n"
      ],
      "text/plain": [
       "           gene_name ID    logFC     AveExpr  t         P.Value      \n",
       "XIST-10154 XIST      10154 -6.796072 1.385720 -38.73465 5.301573e-131\n",
       "XIST-10149 XIST      10149 -7.124726 1.597306 -38.68238 7.868530e-131\n",
       "           adj.P.Val     B       \n",
       "XIST-10154 1.523859e-126 280.9110\n",
       "XIST-10149 1.523859e-126 280.5225"
      ]
     },
     "metadata": {},
     "output_type": "display_data"
    }
   ],
   "source": [
    "dim(events.table)\n",
    "events.table <- events.table[abs(events.table$logFC)>=log2(1.5) & events.table$adj.P.Val<=0.05,]\n",
    "dim(events.table)\n",
    "head(events.table,2)"
   ]
  },
  {
   "cell_type": "markdown",
   "metadata": {},
   "source": [
    "Make sure this command has been executed before `gunzip sbas/data/fromGTF.*` as the files are expected uncompressed.\n"
   ]
  },
  {
   "cell_type": "code",
   "execution_count": 26,
   "metadata": {},
   "outputs": [
    {
     "data": {
      "text/html": [
       "<style>\n",
       ".list-inline {list-style: none; margin:0; padding: 0}\n",
       ".list-inline>li {display: inline-block}\n",
       ".list-inline>li:not(:last-child)::after {content: \"\\00b7\"; padding: 0 .5ex}\n",
       "</style>\n",
       "<ol class=list-inline><li>42611</li><li>11</li></ol>\n"
      ],
      "text/latex": [
       "\\begin{enumerate*}\n",
       "\\item 42611\n",
       "\\item 11\n",
       "\\end{enumerate*}\n"
      ],
      "text/markdown": [
       "1. 42611\n",
       "2. 11\n",
       "\n",
       "\n"
      ],
      "text/plain": [
       "[1] 42611    11"
      ]
     },
     "metadata": {},
     "output_type": "display_data"
    },
    {
     "data": {
      "text/html": [
       "<table>\n",
       "<caption>A data.frame: 1 × 11</caption>\n",
       "<thead>\n",
       "\t<tr><th></th><th scope=col>ID</th><th scope=col>GeneID</th><th scope=col>geneSymbol</th><th scope=col>chr</th><th scope=col>strand</th><th scope=col>exonStart_0base</th><th scope=col>exonEnd</th><th scope=col>upstreamES</th><th scope=col>upstreamEE</th><th scope=col>downstreamES</th><th scope=col>downstreamEE</th></tr>\n",
       "\t<tr><th></th><th scope=col>&lt;int&gt;</th><th scope=col>&lt;fct&gt;</th><th scope=col>&lt;fct&gt;</th><th scope=col>&lt;fct&gt;</th><th scope=col>&lt;fct&gt;</th><th scope=col>&lt;int&gt;</th><th scope=col>&lt;int&gt;</th><th scope=col>&lt;int&gt;</th><th scope=col>&lt;int&gt;</th><th scope=col>&lt;int&gt;</th><th scope=col>&lt;int&gt;</th></tr>\n",
       "</thead>\n",
       "<tbody>\n",
       "\t<tr><th scope=row>1</th><td>1</td><td>ENSG00000034152.18</td><td>MAP2K3</td><td>chr17</td><td>+</td><td>21287990</td><td>21288091</td><td>21284709</td><td>21284969</td><td>21295674</td><td>21295769</td></tr>\n",
       "</tbody>\n",
       "</table>\n"
      ],
      "text/latex": [
       "A data.frame: 1 × 11\n",
       "\\begin{tabular}{r|lllllllllll}\n",
       "  & ID & GeneID & geneSymbol & chr & strand & exonStart\\_0base & exonEnd & upstreamES & upstreamEE & downstreamES & downstreamEE\\\\\n",
       "  & <int> & <fct> & <fct> & <fct> & <fct> & <int> & <int> & <int> & <int> & <int> & <int>\\\\\n",
       "\\hline\n",
       "\t1 & 1 & ENSG00000034152.18 & MAP2K3 & chr17 & + & 21287990 & 21288091 & 21284709 & 21284969 & 21295674 & 21295769\\\\\n",
       "\\end{tabular}\n"
      ],
      "text/markdown": [
       "\n",
       "A data.frame: 1 × 11\n",
       "\n",
       "| <!--/--> | ID &lt;int&gt; | GeneID &lt;fct&gt; | geneSymbol &lt;fct&gt; | chr &lt;fct&gt; | strand &lt;fct&gt; | exonStart_0base &lt;int&gt; | exonEnd &lt;int&gt; | upstreamES &lt;int&gt; | upstreamEE &lt;int&gt; | downstreamES &lt;int&gt; | downstreamEE &lt;int&gt; |\n",
       "|---|---|---|---|---|---|---|---|---|---|---|---|\n",
       "| 1 | 1 | ENSG00000034152.18 | MAP2K3 | chr17 | + | 21287990 | 21288091 | 21284709 | 21284969 | 21295674 | 21295769 |\n",
       "\n"
      ],
      "text/plain": [
       "  ID GeneID             geneSymbol chr   strand exonStart_0base exonEnd \n",
       "1 1  ENSG00000034152.18 MAP2K3     chr17 +      21287990        21288091\n",
       "  upstreamES upstreamEE downstreamES downstreamEE\n",
       "1 21284709   21284969   21295674     21295769    "
      ]
     },
     "metadata": {},
     "output_type": "display_data"
    }
   ],
   "source": [
    "annot.table  <- read.table(events.table.name,header=T)\n",
    "dim(annot.table)\n",
    "head(annot.table, 1)"
   ]
  },
  {
   "cell_type": "code",
   "execution_count": 27,
   "metadata": {},
   "outputs": [],
   "source": [
    "merged.table <- merge(events.table, annot.table, by=\"ID\")"
   ]
  },
  {
   "cell_type": "code",
   "execution_count": 28,
   "metadata": {},
   "outputs": [
    {
     "data": {
      "text/html": [
       "<style>\n",
       ".list-inline {list-style: none; margin:0; padding: 0}\n",
       ".list-inline>li {display: inline-block}\n",
       ".list-inline>li:not(:last-child)::after {content: \"\\00b7\"; padding: 0 .5ex}\n",
       "</style>\n",
       "<ol class=list-inline><li>3163</li><li>18</li></ol>\n"
      ],
      "text/latex": [
       "\\begin{enumerate*}\n",
       "\\item 3163\n",
       "\\item 18\n",
       "\\end{enumerate*}\n"
      ],
      "text/markdown": [
       "1. 3163\n",
       "2. 18\n",
       "\n",
       "\n"
      ],
      "text/plain": [
       "[1] 3163   18"
      ]
     },
     "metadata": {},
     "output_type": "display_data"
    },
    {
     "data": {
      "text/html": [
       "<table>\n",
       "<caption>A data.frame: 2 × 18</caption>\n",
       "<thead>\n",
       "\t<tr><th></th><th scope=col>ID</th><th scope=col>gene_name</th><th scope=col>logFC</th><th scope=col>AveExpr</th><th scope=col>t</th><th scope=col>P.Value</th><th scope=col>adj.P.Val</th><th scope=col>B</th><th scope=col>GeneID</th><th scope=col>geneSymbol</th><th scope=col>chr</th><th scope=col>strand</th><th scope=col>exonStart_0base</th><th scope=col>exonEnd</th><th scope=col>upstreamES</th><th scope=col>upstreamEE</th><th scope=col>downstreamES</th><th scope=col>downstreamEE</th></tr>\n",
       "\t<tr><th></th><th scope=col>&lt;chr&gt;</th><th scope=col>&lt;chr&gt;</th><th scope=col>&lt;dbl&gt;</th><th scope=col>&lt;dbl&gt;</th><th scope=col>&lt;dbl&gt;</th><th scope=col>&lt;dbl&gt;</th><th scope=col>&lt;dbl&gt;</th><th scope=col>&lt;dbl&gt;</th><th scope=col>&lt;fct&gt;</th><th scope=col>&lt;fct&gt;</th><th scope=col>&lt;fct&gt;</th><th scope=col>&lt;fct&gt;</th><th scope=col>&lt;int&gt;</th><th scope=col>&lt;int&gt;</th><th scope=col>&lt;int&gt;</th><th scope=col>&lt;int&gt;</th><th scope=col>&lt;int&gt;</th><th scope=col>&lt;int&gt;</th></tr>\n",
       "</thead>\n",
       "<tbody>\n",
       "\t<tr><th scope=row>1</th><td>10012</td><td>RBM4B</td><td> 0.8450169</td><td>1.183428</td><td> 6.352709</td><td>6.335981e-10</td><td>4.076604e-08</td><td>12.144677</td><td>ENSG00000173914.12</td><td>RBM4B</td><td>chr11</td><td>-</td><td>66670935</td><td>66670983</td><td>66668970</td><td>66669291</td><td>66676667</td><td>66677091</td></tr>\n",
       "\t<tr><th scope=row>2</th><td>10013</td><td>RBM4B</td><td>-0.7621263</td><td>1.752806</td><td>-4.689350</td><td>3.885523e-06</td><td>9.641124e-05</td><td> 3.795546</td><td>ENSG00000173914.12</td><td>RBM4B</td><td>chr11</td><td>-</td><td>66668614</td><td>66669291</td><td>66664997</td><td>66665578</td><td>66676667</td><td>66677091</td></tr>\n",
       "</tbody>\n",
       "</table>\n"
      ],
      "text/latex": [
       "A data.frame: 2 × 18\n",
       "\\begin{tabular}{r|llllllllllllllllll}\n",
       "  & ID & gene\\_name & logFC & AveExpr & t & P.Value & adj.P.Val & B & GeneID & geneSymbol & chr & strand & exonStart\\_0base & exonEnd & upstreamES & upstreamEE & downstreamES & downstreamEE\\\\\n",
       "  & <chr> & <chr> & <dbl> & <dbl> & <dbl> & <dbl> & <dbl> & <dbl> & <fct> & <fct> & <fct> & <fct> & <int> & <int> & <int> & <int> & <int> & <int>\\\\\n",
       "\\hline\n",
       "\t1 & 10012 & RBM4B &  0.8450169 & 1.183428 &  6.352709 & 6.335981e-10 & 4.076604e-08 & 12.144677 & ENSG00000173914.12 & RBM4B & chr11 & - & 66670935 & 66670983 & 66668970 & 66669291 & 66676667 & 66677091\\\\\n",
       "\t2 & 10013 & RBM4B & -0.7621263 & 1.752806 & -4.689350 & 3.885523e-06 & 9.641124e-05 &  3.795546 & ENSG00000173914.12 & RBM4B & chr11 & - & 66668614 & 66669291 & 66664997 & 66665578 & 66676667 & 66677091\\\\\n",
       "\\end{tabular}\n"
      ],
      "text/markdown": [
       "\n",
       "A data.frame: 2 × 18\n",
       "\n",
       "| <!--/--> | ID &lt;chr&gt; | gene_name &lt;chr&gt; | logFC &lt;dbl&gt; | AveExpr &lt;dbl&gt; | t &lt;dbl&gt; | P.Value &lt;dbl&gt; | adj.P.Val &lt;dbl&gt; | B &lt;dbl&gt; | GeneID &lt;fct&gt; | geneSymbol &lt;fct&gt; | chr &lt;fct&gt; | strand &lt;fct&gt; | exonStart_0base &lt;int&gt; | exonEnd &lt;int&gt; | upstreamES &lt;int&gt; | upstreamEE &lt;int&gt; | downstreamES &lt;int&gt; | downstreamEE &lt;int&gt; |\n",
       "|---|---|---|---|---|---|---|---|---|---|---|---|---|---|---|---|---|---|---|\n",
       "| 1 | 10012 | RBM4B |  0.8450169 | 1.183428 |  6.352709 | 6.335981e-10 | 4.076604e-08 | 12.144677 | ENSG00000173914.12 | RBM4B | chr11 | - | 66670935 | 66670983 | 66668970 | 66669291 | 66676667 | 66677091 |\n",
       "| 2 | 10013 | RBM4B | -0.7621263 | 1.752806 | -4.689350 | 3.885523e-06 | 9.641124e-05 |  3.795546 | ENSG00000173914.12 | RBM4B | chr11 | - | 66668614 | 66669291 | 66664997 | 66665578 | 66676667 | 66677091 |\n",
       "\n"
      ],
      "text/plain": [
       "  ID    gene_name logFC      AveExpr  t         P.Value      adj.P.Val   \n",
       "1 10012 RBM4B      0.8450169 1.183428  6.352709 6.335981e-10 4.076604e-08\n",
       "2 10013 RBM4B     -0.7621263 1.752806 -4.689350 3.885523e-06 9.641124e-05\n",
       "  B         GeneID             geneSymbol chr   strand exonStart_0base exonEnd \n",
       "1 12.144677 ENSG00000173914.12 RBM4B      chr11 -      66670935        66670983\n",
       "2  3.795546 ENSG00000173914.12 RBM4B      chr11 -      66668614        66669291\n",
       "  upstreamES upstreamEE downstreamES downstreamEE\n",
       "1 66668970   66669291   66676667     66677091    \n",
       "2 66664997   66665578   66676667     66677091    "
      ]
     },
     "metadata": {},
     "output_type": "display_data"
    }
   ],
   "source": [
    "dim(merged.table)\n",
    "head(merged.table, 2)"
   ]
  },
  {
   "cell_type": "code",
   "execution_count": 29,
   "metadata": {},
   "outputs": [
    {
     "data": {
      "text/html": [
       "<style>\n",
       ".list-inline {list-style: none; margin:0; padding: 0}\n",
       ".list-inline>li {display: inline-block}\n",
       ".list-inline>li:not(:last-child)::after {content: \"\\00b7\"; padding: 0 .5ex}\n",
       "</style>\n",
       "<ol class=list-inline><li>351</li><li>6</li></ol>\n"
      ],
      "text/latex": [
       "\\begin{enumerate*}\n",
       "\\item 351\n",
       "\\item 6\n",
       "\\end{enumerate*}\n"
      ],
      "text/markdown": [
       "1. 351\n",
       "2. 6\n",
       "\n",
       "\n"
      ],
      "text/plain": [
       "[1] 351   6"
      ]
     },
     "metadata": {},
     "output_type": "display_data"
    },
    {
     "data": {
      "text/html": [
       "<table>\n",
       "<caption>A data.frame: 1 × 6</caption>\n",
       "<thead>\n",
       "\t<tr><th></th><th scope=col>Gene</th><th scope=col>uprot.id</th><th scope=col>gene.id</th><th scope=col>S</th><th scope=col>R</th><th scope=col>omim</th></tr>\n",
       "\t<tr><th></th><th scope=col>&lt;fct&gt;</th><th scope=col>&lt;fct&gt;</th><th scope=col>&lt;int&gt;</th><th scope=col>&lt;lgl&gt;</th><th scope=col>&lt;lgl&gt;</th><th scope=col>&lt;fct&gt;</th></tr>\n",
       "</thead>\n",
       "<tbody>\n",
       "\t<tr><th scope=row>1</th><td>AAR2</td><td>Q9Y312</td><td>25980</td><td>TRUE</td><td>FALSE</td><td>n/a</td></tr>\n",
       "</tbody>\n",
       "</table>\n"
      ],
      "text/latex": [
       "A data.frame: 1 × 6\n",
       "\\begin{tabular}{r|llllll}\n",
       "  & Gene & uprot.id & gene.id & S & R & omim\\\\\n",
       "  & <fct> & <fct> & <int> & <lgl> & <lgl> & <fct>\\\\\n",
       "\\hline\n",
       "\t1 & AAR2 & Q9Y312 & 25980 & TRUE & FALSE & n/a\\\\\n",
       "\\end{tabular}\n"
      ],
      "text/markdown": [
       "\n",
       "A data.frame: 1 × 6\n",
       "\n",
       "| <!--/--> | Gene &lt;fct&gt; | uprot.id &lt;fct&gt; | gene.id &lt;int&gt; | S &lt;lgl&gt; | R &lt;lgl&gt; | omim &lt;fct&gt; |\n",
       "|---|---|---|---|---|---|---|\n",
       "| 1 | AAR2 | Q9Y312 | 25980 | TRUE | FALSE | n/a |\n",
       "\n"
      ],
      "text/plain": [
       "  Gene uprot.id gene.id S    R     omim\n",
       "1 AAR2 Q9Y312   25980   TRUE FALSE n/a "
      ]
     },
     "metadata": {},
     "output_type": "display_data"
    }
   ],
   "source": [
    "rbp.table    <- read.table(rbp.table.name,sep=\"\\t\",header=TRUE)\n",
    "dim(rbp.table)\n",
    "head(rbp.table, 1)"
   ]
  },
  {
   "cell_type": "markdown",
   "metadata": {},
   "source": [
    "Make sure this command has been executed before `gunzip sbas/data/rmats_final.se.jc.*jc.*` as the files are expected uncompressed.\n"
   ]
  },
  {
   "cell_type": "code",
   "execution_count": 30,
   "metadata": {},
   "outputs": [
    {
     "data": {
      "text/html": [
       "<style>\n",
       ".list-inline {list-style: none; margin:0; padding: 0}\n",
       ".list-inline>li {display: inline-block}\n",
       ".list-inline>li:not(:last-child)::after {content: \"\\00b7\"; padding: 0 .5ex}\n",
       "</style>\n",
       "<ol class=list-inline><li>42611</li><li>8674</li></ol>\n"
      ],
      "text/latex": [
       "\\begin{enumerate*}\n",
       "\\item 42611\n",
       "\\item 8674\n",
       "\\end{enumerate*}\n"
      ],
      "text/markdown": [
       "1. 42611\n",
       "2. 8674\n",
       "\n",
       "\n"
      ],
      "text/plain": [
       "[1] 42611  8674"
      ]
     },
     "metadata": {},
     "output_type": "display_data"
    },
    {
     "data": {
      "text/html": [
       "<table>\n",
       "<caption>A data.frame: 2 × 3</caption>\n",
       "<thead>\n",
       "\t<tr><th></th><th scope=col>ID</th><th scope=col>SRR1068788</th><th scope=col>SRR1068808</th></tr>\n",
       "\t<tr><th></th><th scope=col>&lt;int&gt;</th><th scope=col>&lt;int&gt;</th><th scope=col>&lt;int&gt;</th></tr>\n",
       "</thead>\n",
       "<tbody>\n",
       "\t<tr><th scope=row>1</th><td>1</td><td> 0</td><td>  0</td></tr>\n",
       "\t<tr><th scope=row>2</th><td>2</td><td>26</td><td>247</td></tr>\n",
       "</tbody>\n",
       "</table>\n"
      ],
      "text/latex": [
       "A data.frame: 2 × 3\n",
       "\\begin{tabular}{r|lll}\n",
       "  & ID & SRR1068788 & SRR1068808\\\\\n",
       "  & <int> & <int> & <int>\\\\\n",
       "\\hline\n",
       "\t1 & 1 &  0 &   0\\\\\n",
       "\t2 & 2 & 26 & 247\\\\\n",
       "\\end{tabular}\n"
      ],
      "text/markdown": [
       "\n",
       "A data.frame: 2 × 3\n",
       "\n",
       "| <!--/--> | ID &lt;int&gt; | SRR1068788 &lt;int&gt; | SRR1068808 &lt;int&gt; |\n",
       "|---|---|---|---|\n",
       "| 1 | 1 |  0 |   0 |\n",
       "| 2 | 2 | 26 | 247 |\n",
       "\n"
      ],
      "text/plain": [
       "  ID SRR1068788 SRR1068808\n",
       "1 1   0           0       \n",
       "2 2  26         247       "
      ]
     },
     "metadata": {},
     "output_type": "display_data"
    }
   ],
   "source": [
    "inc.counts   <- as.data.frame(data.table::fread(inc.counts.file.name))\n",
    "dim(inc.counts)\n",
    "inc.counts[1:2,1:3]"
   ]
  },
  {
   "cell_type": "code",
   "execution_count": 31,
   "metadata": {},
   "outputs": [
    {
     "data": {
      "text/html": [
       "<style>\n",
       ".list-inline {list-style: none; margin:0; padding: 0}\n",
       ".list-inline>li {display: inline-block}\n",
       ".list-inline>li:not(:last-child)::after {content: \"\\00b7\"; padding: 0 .5ex}\n",
       "</style>\n",
       "<ol class=list-inline><li>42611</li><li>8674</li></ol>\n"
      ],
      "text/latex": [
       "\\begin{enumerate*}\n",
       "\\item 42611\n",
       "\\item 8674\n",
       "\\end{enumerate*}\n"
      ],
      "text/markdown": [
       "1. 42611\n",
       "2. 8674\n",
       "\n",
       "\n"
      ],
      "text/plain": [
       "[1] 42611  8674"
      ]
     },
     "metadata": {},
     "output_type": "display_data"
    },
    {
     "data": {
      "text/html": [
       "<table>\n",
       "<caption>A data.frame: 2 × 3</caption>\n",
       "<thead>\n",
       "\t<tr><th></th><th scope=col>ID</th><th scope=col>SRR1068788</th><th scope=col>SRR1068808</th></tr>\n",
       "\t<tr><th></th><th scope=col>&lt;int&gt;</th><th scope=col>&lt;int&gt;</th><th scope=col>&lt;int&gt;</th></tr>\n",
       "</thead>\n",
       "<tbody>\n",
       "\t<tr><th scope=row>1</th><td>1</td><td>2</td><td>0</td></tr>\n",
       "\t<tr><th scope=row>2</th><td>2</td><td>0</td><td>0</td></tr>\n",
       "</tbody>\n",
       "</table>\n"
      ],
      "text/latex": [
       "A data.frame: 2 × 3\n",
       "\\begin{tabular}{r|lll}\n",
       "  & ID & SRR1068788 & SRR1068808\\\\\n",
       "  & <int> & <int> & <int>\\\\\n",
       "\\hline\n",
       "\t1 & 1 & 2 & 0\\\\\n",
       "\t2 & 2 & 0 & 0\\\\\n",
       "\\end{tabular}\n"
      ],
      "text/markdown": [
       "\n",
       "A data.frame: 2 × 3\n",
       "\n",
       "| <!--/--> | ID &lt;int&gt; | SRR1068788 &lt;int&gt; | SRR1068808 &lt;int&gt; |\n",
       "|---|---|---|---|\n",
       "| 1 | 1 | 2 | 0 |\n",
       "| 2 | 2 | 0 | 0 |\n",
       "\n"
      ],
      "text/plain": [
       "  ID SRR1068788 SRR1068808\n",
       "1 1  2          0         \n",
       "2 2  0          0         "
      ]
     },
     "metadata": {},
     "output_type": "display_data"
    }
   ],
   "source": [
    "skip.counts  <- as.data.frame(data.table::fread(skip.counts.file.name))\n",
    "dim(skip.counts)\n",
    "skip.counts[1:2,1:3]"
   ]
  },
  {
   "cell_type": "markdown",
   "metadata": {},
   "source": [
    "## Check `dim()` of loaded objects"
   ]
  },
  {
   "cell_type": "code",
   "execution_count": 32,
   "metadata": {},
   "outputs": [
    {
     "data": {
      "text/html": [
       "<style>\n",
       ".list-inline {list-style: none; margin:0; padding: 0}\n",
       ".list-inline>li {display: inline-block}\n",
       ".list-inline>li:not(:last-child)::after {content: \"\\00b7\"; padding: 0 .5ex}\n",
       "</style>\n",
       "<ol class=list-inline><li>3163</li><li>8</li></ol>\n"
      ],
      "text/latex": [
       "\\begin{enumerate*}\n",
       "\\item 3163\n",
       "\\item 8\n",
       "\\end{enumerate*}\n"
      ],
      "text/markdown": [
       "1. 3163\n",
       "2. 8\n",
       "\n",
       "\n"
      ],
      "text/plain": [
       "[1] 3163    8"
      ]
     },
     "metadata": {},
     "output_type": "display_data"
    },
    {
     "data": {
      "text/html": [
       "<style>\n",
       ".list-inline {list-style: none; margin:0; padding: 0}\n",
       ".list-inline>li {display: inline-block}\n",
       ".list-inline>li:not(:last-child)::after {content: \"\\00b7\"; padding: 0 .5ex}\n",
       "</style>\n",
       "<ol class=list-inline><li>42611</li><li>11</li></ol>\n"
      ],
      "text/latex": [
       "\\begin{enumerate*}\n",
       "\\item 42611\n",
       "\\item 11\n",
       "\\end{enumerate*}\n"
      ],
      "text/markdown": [
       "1. 42611\n",
       "2. 11\n",
       "\n",
       "\n"
      ],
      "text/plain": [
       "[1] 42611    11"
      ]
     },
     "metadata": {},
     "output_type": "display_data"
    },
    {
     "data": {
      "text/html": [
       "<style>\n",
       ".list-inline {list-style: none; margin:0; padding: 0}\n",
       ".list-inline>li {display: inline-block}\n",
       ".list-inline>li:not(:last-child)::after {content: \"\\00b7\"; padding: 0 .5ex}\n",
       "</style>\n",
       "<ol class=list-inline><li>3163</li><li>18</li></ol>\n"
      ],
      "text/latex": [
       "\\begin{enumerate*}\n",
       "\\item 3163\n",
       "\\item 18\n",
       "\\end{enumerate*}\n"
      ],
      "text/markdown": [
       "1. 3163\n",
       "2. 18\n",
       "\n",
       "\n"
      ],
      "text/plain": [
       "[1] 3163   18"
      ]
     },
     "metadata": {},
     "output_type": "display_data"
    },
    {
     "data": {
      "text/html": [
       "<style>\n",
       ".list-inline {list-style: none; margin:0; padding: 0}\n",
       ".list-inline>li {display: inline-block}\n",
       ".list-inline>li:not(:last-child)::after {content: \"\\00b7\"; padding: 0 .5ex}\n",
       "</style>\n",
       "<ol class=list-inline><li>351</li><li>6</li></ol>\n"
      ],
      "text/latex": [
       "\\begin{enumerate*}\n",
       "\\item 351\n",
       "\\item 6\n",
       "\\end{enumerate*}\n"
      ],
      "text/markdown": [
       "1. 351\n",
       "2. 6\n",
       "\n",
       "\n"
      ],
      "text/plain": [
       "[1] 351   6"
      ]
     },
     "metadata": {},
     "output_type": "display_data"
    },
    {
     "data": {
      "text/html": [
       "<style>\n",
       ".list-inline {list-style: none; margin:0; padding: 0}\n",
       ".list-inline>li {display: inline-block}\n",
       ".list-inline>li:not(:last-child)::after {content: \"\\00b7\"; padding: 0 .5ex}\n",
       "</style>\n",
       "<ol class=list-inline><li>42611</li><li>8674</li></ol>\n"
      ],
      "text/latex": [
       "\\begin{enumerate*}\n",
       "\\item 42611\n",
       "\\item 8674\n",
       "\\end{enumerate*}\n"
      ],
      "text/markdown": [
       "1. 42611\n",
       "2. 8674\n",
       "\n",
       "\n"
      ],
      "text/plain": [
       "[1] 42611  8674"
      ]
     },
     "metadata": {},
     "output_type": "display_data"
    },
    {
     "data": {
      "text/html": [
       "<style>\n",
       ".list-inline {list-style: none; margin:0; padding: 0}\n",
       ".list-inline>li {display: inline-block}\n",
       ".list-inline>li:not(:last-child)::after {content: \"\\00b7\"; padding: 0 .5ex}\n",
       "</style>\n",
       "<ol class=list-inline><li>42611</li><li>8674</li></ol>\n"
      ],
      "text/latex": [
       "\\begin{enumerate*}\n",
       "\\item 42611\n",
       "\\item 8674\n",
       "\\end{enumerate*}\n"
      ],
      "text/markdown": [
       "1. 42611\n",
       "2. 8674\n",
       "\n",
       "\n"
      ],
      "text/plain": [
       "[1] 42611  8674"
      ]
     },
     "metadata": {},
     "output_type": "display_data"
    }
   ],
   "source": [
    "dim(events.table)\n",
    "dim(annot.table)\n",
    "dim(merged.table)\n",
    "dim(rbp.table)\n",
    "dim(inc.counts)\n",
    "dim(skip.counts)"
   ]
  },
  {
   "cell_type": "markdown",
   "metadata": {},
   "source": [
    "## Read sample info"
   ]
  },
  {
   "cell_type": "code",
   "execution_count": 33,
   "metadata": {},
   "outputs": [
    {
     "data": {
      "text/html": [
       "'../data/srr_pdata.csv'"
      ],
      "text/latex": [
       "'../data/srr\\_pdata.csv'"
      ],
      "text/markdown": [
       "'../data/srr_pdata.csv'"
      ],
      "text/plain": [
       "[1] \"../data/srr_pdata.csv\""
      ]
     },
     "metadata": {},
     "output_type": "display_data"
    },
    {
     "data": {
      "text/html": [
       "TRUE"
      ],
      "text/latex": [
       "TRUE"
      ],
      "text/markdown": [
       "TRUE"
      ],
      "text/plain": [
       "[1] TRUE"
      ]
     },
     "metadata": {},
     "output_type": "display_data"
    },
    {
     "data": {
      "text/html": [
       "'-rw-r--r-- 1 jovyan users 4230047 Jun 17 12:00 ../data/srr_pdata.csv'"
      ],
      "text/latex": [
       "'-rw-r--r-- 1 jovyan users 4230047 Jun 17 12:00 ../data/srr\\_pdata.csv'"
      ],
      "text/markdown": [
       "'-rw-r--r-- 1 jovyan users 4230047 Jun 17 12:00 ../data/srr_pdata.csv'"
      ],
      "text/plain": [
       "[1] \"-rw-r--r-- 1 jovyan users 4230047 Jun 17 12:00 ../data/srr_pdata.csv\""
      ]
     },
     "metadata": {},
     "output_type": "display_data"
    }
   ],
   "source": [
    "metadata.file.name\n",
    "file.exists(metadata.file.name)\n",
    "system(paste0(\"ls -l\", \" ../data/srr_pdata.csv\"), intern = TRUE)"
   ]
  },
  {
   "cell_type": "code",
   "execution_count": 35,
   "metadata": {},
   "outputs": [
    {
     "name": "stderr",
     "output_type": "stream",
     "text": [
      "Parsed with column specification:\n",
      "cols(\n",
      "  .default = col_double(),\n",
      "  SAMPID = \u001b[31mcol_character()\u001b[39m,\n",
      "  SMATSSCR = \u001b[31mcol_character()\u001b[39m,\n",
      "  SMCENTER = \u001b[31mcol_character()\u001b[39m,\n",
      "  SMPTHNTS = \u001b[31mcol_character()\u001b[39m,\n",
      "  SMTS = \u001b[31mcol_character()\u001b[39m,\n",
      "  SMTSD = \u001b[31mcol_character()\u001b[39m,\n",
      "  SMUBRID = \u001b[31mcol_character()\u001b[39m,\n",
      "  SMNABTCH = \u001b[31mcol_character()\u001b[39m,\n",
      "  SMNABTCHT = \u001b[31mcol_character()\u001b[39m,\n",
      "  SMNABTCHD = \u001b[31mcol_character()\u001b[39m,\n",
      "  SMGEBTCH = \u001b[31mcol_character()\u001b[39m,\n",
      "  SMGEBTCHD = \u001b[31mcol_character()\u001b[39m,\n",
      "  SMGEBTCHT = \u001b[31mcol_character()\u001b[39m,\n",
      "  SMAFRZE = \u001b[31mcol_character()\u001b[39m,\n",
      "  SMGTC = \u001b[33mcol_logical()\u001b[39m,\n",
      "  SMNUMGPS = \u001b[33mcol_logical()\u001b[39m,\n",
      "  SM550NRM = \u001b[33mcol_logical()\u001b[39m,\n",
      "  SM350NRM = \u001b[33mcol_logical()\u001b[39m,\n",
      "  SMMNCPB = \u001b[33mcol_logical()\u001b[39m,\n",
      "  SMMNCV = \u001b[33mcol_logical()\u001b[39m\n",
      "  # ... with 6 more columns\n",
      ")\n",
      "\n",
      "See spec(...) for full column specifications.\n",
      "\n"
     ]
    },
    {
     "data": {
      "text/html": [
       "<style>\n",
       ".list-inline {list-style: none; margin:0; padding: 0}\n",
       ".list-inline>li {display: inline-block}\n",
       ".list-inline>li:not(:last-child)::after {content: \"\\00b7\"; padding: 0 .5ex}\n",
       "</style>\n",
       "<ol class=list-inline><li>7872</li><li>68</li></ol>\n"
      ],
      "text/latex": [
       "\\begin{enumerate*}\n",
       "\\item 7872\n",
       "\\item 68\n",
       "\\end{enumerate*}\n"
      ],
      "text/markdown": [
       "1. 7872\n",
       "2. 68\n",
       "\n",
       "\n"
      ],
      "text/plain": [
       "[1] 7872   68"
      ]
     },
     "metadata": {},
     "output_type": "display_data"
    },
    {
     "data": {
      "text/html": [
       "<table>\n",
       "<caption>A tibble: 1 × 68</caption>\n",
       "<thead>\n",
       "\t<tr><th scope=col>SAMPID</th><th scope=col>SMATSSCR</th><th scope=col>SMCENTER</th><th scope=col>SMPTHNTS</th><th scope=col>SMRIN</th><th scope=col>SMTS</th><th scope=col>SMTSD</th><th scope=col>SMUBRID</th><th scope=col>SMTSISCH</th><th scope=col>SMTSPAX</th><th scope=col>⋯</th><th scope=col>SMRRNART</th><th scope=col>SME1MPRT</th><th scope=col>SMNUM5CD</th><th scope=col>SMDPMPRT</th><th scope=col>SME2PCTS</th><th scope=col>SUBJID</th><th scope=col>SEX</th><th scope=col>AGE</th><th scope=col>DTHHRDY</th><th scope=col>SRR</th></tr>\n",
       "\t<tr><th scope=col>&lt;chr&gt;</th><th scope=col>&lt;chr&gt;</th><th scope=col>&lt;chr&gt;</th><th scope=col>&lt;chr&gt;</th><th scope=col>&lt;dbl&gt;</th><th scope=col>&lt;chr&gt;</th><th scope=col>&lt;chr&gt;</th><th scope=col>&lt;chr&gt;</th><th scope=col>&lt;dbl&gt;</th><th scope=col>&lt;dbl&gt;</th><th scope=col>⋯</th><th scope=col>&lt;dbl&gt;</th><th scope=col>&lt;dbl&gt;</th><th scope=col>&lt;lgl&gt;</th><th scope=col>&lt;dbl&gt;</th><th scope=col>&lt;dbl&gt;</th><th scope=col>&lt;chr&gt;</th><th scope=col>&lt;dbl&gt;</th><th scope=col>&lt;chr&gt;</th><th scope=col>&lt;dbl&gt;</th><th scope=col>&lt;chr&gt;</th></tr>\n",
       "</thead>\n",
       "<tbody>\n",
       "\t<tr><td>GTEX.PW2O.0006.SM.2I3DV</td><td>NA</td><td>B1</td><td>NA</td><td>7.4</td><td>Blood</td><td>Whole Blood</td><td>13756</td><td>-126</td><td>NA</td><td>⋯</td><td>0.00351302</td><td>0.859573</td><td>NA</td><td>0</td><td>50.6829</td><td>GTEX-PW2O</td><td>1</td><td>20-29</td><td>0</td><td>SRR604002</td></tr>\n",
       "</tbody>\n",
       "</table>\n"
      ],
      "text/latex": [
       "A tibble: 1 × 68\n",
       "\\begin{tabular}{lllllllllllllllllllll}\n",
       " SAMPID & SMATSSCR & SMCENTER & SMPTHNTS & SMRIN & SMTS & SMTSD & SMUBRID & SMTSISCH & SMTSPAX & ⋯ & SMRRNART & SME1MPRT & SMNUM5CD & SMDPMPRT & SME2PCTS & SUBJID & SEX & AGE & DTHHRDY & SRR\\\\\n",
       " <chr> & <chr> & <chr> & <chr> & <dbl> & <chr> & <chr> & <chr> & <dbl> & <dbl> & ⋯ & <dbl> & <dbl> & <lgl> & <dbl> & <dbl> & <chr> & <dbl> & <chr> & <dbl> & <chr>\\\\\n",
       "\\hline\n",
       "\t GTEX.PW2O.0006.SM.2I3DV & NA & B1 & NA & 7.4 & Blood & Whole Blood & 13756 & -126 & NA & ⋯ & 0.00351302 & 0.859573 & NA & 0 & 50.6829 & GTEX-PW2O & 1 & 20-29 & 0 & SRR604002\\\\\n",
       "\\end{tabular}\n"
      ],
      "text/markdown": [
       "\n",
       "A tibble: 1 × 68\n",
       "\n",
       "| SAMPID &lt;chr&gt; | SMATSSCR &lt;chr&gt; | SMCENTER &lt;chr&gt; | SMPTHNTS &lt;chr&gt; | SMRIN &lt;dbl&gt; | SMTS &lt;chr&gt; | SMTSD &lt;chr&gt; | SMUBRID &lt;chr&gt; | SMTSISCH &lt;dbl&gt; | SMTSPAX &lt;dbl&gt; | ⋯ ⋯ | SMRRNART &lt;dbl&gt; | SME1MPRT &lt;dbl&gt; | SMNUM5CD &lt;lgl&gt; | SMDPMPRT &lt;dbl&gt; | SME2PCTS &lt;dbl&gt; | SUBJID &lt;chr&gt; | SEX &lt;dbl&gt; | AGE &lt;chr&gt; | DTHHRDY &lt;dbl&gt; | SRR &lt;chr&gt; |\n",
       "|---|---|---|---|---|---|---|---|---|---|---|---|---|---|---|---|---|---|---|---|---|\n",
       "| GTEX.PW2O.0006.SM.2I3DV | NA | B1 | NA | 7.4 | Blood | Whole Blood | 13756 | -126 | NA | ⋯ | 0.00351302 | 0.859573 | NA | 0 | 50.6829 | GTEX-PW2O | 1 | 20-29 | 0 | SRR604002 |\n",
       "\n"
      ],
      "text/plain": [
       "  SAMPID                  SMATSSCR SMCENTER SMPTHNTS SMRIN SMTS  SMTSD      \n",
       "1 GTEX.PW2O.0006.SM.2I3DV NA       B1       NA       7.4   Blood Whole Blood\n",
       "  SMUBRID SMTSISCH SMTSPAX ⋯ SMRRNART   SME1MPRT SMNUM5CD SMDPMPRT SME2PCTS\n",
       "1 13756   -126     NA      ⋯ 0.00351302 0.859573 NA       0        50.6829 \n",
       "  SUBJID    SEX AGE   DTHHRDY SRR      \n",
       "1 GTEX-PW2O 1   20-29 0       SRR604002"
      ]
     },
     "metadata": {},
     "output_type": "display_data"
    }
   ],
   "source": [
    "meta.data <- readr::read_csv(metadata.file.name)\n",
    "dim(meta.data)\n",
    "head(meta.data, 1)"
   ]
  },
  {
   "cell_type": "code",
   "execution_count": 36,
   "metadata": {},
   "outputs": [
    {
     "data": {
      "text/html": [
       "<style>\n",
       ".list-inline {list-style: none; margin:0; padding: 0}\n",
       ".list-inline>li {display: inline-block}\n",
       ".list-inline>li:not(:last-child)::after {content: \"\\00b7\"; padding: 0 .5ex}\n",
       "</style>\n",
       "<ol class=list-inline><li>'Whole Blood'</li><li>'Lung'</li><li>'Adipose - Subcutaneous'</li></ol>\n"
      ],
      "text/latex": [
       "\\begin{enumerate*}\n",
       "\\item 'Whole Blood'\n",
       "\\item 'Lung'\n",
       "\\item 'Adipose - Subcutaneous'\n",
       "\\end{enumerate*}\n"
      ],
      "text/markdown": [
       "1. 'Whole Blood'\n",
       "2. 'Lung'\n",
       "3. 'Adipose - Subcutaneous'\n",
       "\n",
       "\n"
      ],
      "text/plain": [
       "[1] \"Whole Blood\"            \"Lung\"                   \"Adipose - Subcutaneous\""
      ]
     },
     "metadata": {},
     "output_type": "display_data"
    }
   ],
   "source": [
    "meta.data$SMTSD[1:3]"
   ]
  },
  {
   "cell_type": "code",
   "execution_count": 37,
   "metadata": {},
   "outputs": [],
   "source": [
    "meta.data[[\"SMTSD\"]] <- as.character(meta.data[[\"SMTSD\"]])"
   ]
  },
  {
   "cell_type": "code",
   "execution_count": 38,
   "metadata": {},
   "outputs": [
    {
     "data": {
      "text/html": [
       "<style>\n",
       ".list-inline {list-style: none; margin:0; padding: 0}\n",
       ".list-inline>li {display: inline-block}\n",
       ".list-inline>li:not(:last-child)::after {content: \"\\00b7\"; padding: 0 .5ex}\n",
       "</style>\n",
       "<ol class=list-inline><li>'Whole Blood'</li><li>'Lung'</li><li>'Adipose - Subcutaneous'</li></ol>\n"
      ],
      "text/latex": [
       "\\begin{enumerate*}\n",
       "\\item 'Whole Blood'\n",
       "\\item 'Lung'\n",
       "\\item 'Adipose - Subcutaneous'\n",
       "\\end{enumerate*}\n"
      ],
      "text/markdown": [
       "1. 'Whole Blood'\n",
       "2. 'Lung'\n",
       "3. 'Adipose - Subcutaneous'\n",
       "\n",
       "\n"
      ],
      "text/plain": [
       "[1] \"Whole Blood\"            \"Lung\"                   \"Adipose - Subcutaneous\""
      ]
     },
     "metadata": {},
     "output_type": "display_data"
    }
   ],
   "source": [
    "meta.data$SMTSD[1:3]"
   ]
  },
  {
   "cell_type": "code",
   "execution_count": 39,
   "metadata": {},
   "outputs": [],
   "source": [
    "meta.data <- meta.data[ snakecase::to_snake_case(meta.data$SMTSD) == tissue,]"
   ]
  },
  {
   "cell_type": "code",
   "execution_count": 40,
   "metadata": {},
   "outputs": [
    {
     "data": {
      "text/html": [
       "'breast_mammary_tissue'"
      ],
      "text/latex": [
       "'breast\\_mammary\\_tissue'"
      ],
      "text/markdown": [
       "'breast_mammary_tissue'"
      ],
      "text/plain": [
       "[1] \"breast_mammary_tissue\""
      ]
     },
     "metadata": {},
     "output_type": "display_data"
    },
    {
     "data": {
      "text/html": [
       "<style>\n",
       ".list-inline {list-style: none; margin:0; padding: 0}\n",
       ".list-inline>li {display: inline-block}\n",
       ".list-inline>li:not(:last-child)::after {content: \"\\00b7\"; padding: 0 .5ex}\n",
       "</style>\n",
       "<ol class=list-inline><li>178</li><li>68</li></ol>\n"
      ],
      "text/latex": [
       "\\begin{enumerate*}\n",
       "\\item 178\n",
       "\\item 68\n",
       "\\end{enumerate*}\n"
      ],
      "text/markdown": [
       "1. 178\n",
       "2. 68\n",
       "\n",
       "\n"
      ],
      "text/plain": [
       "[1] 178  68"
      ]
     },
     "metadata": {},
     "output_type": "display_data"
    },
    {
     "data": {
      "text/html": [
       "<table>\n",
       "<caption>A tibble: 1 × 68</caption>\n",
       "<thead>\n",
       "\t<tr><th scope=col>SAMPID</th><th scope=col>SMATSSCR</th><th scope=col>SMCENTER</th><th scope=col>SMPTHNTS</th><th scope=col>SMRIN</th><th scope=col>SMTS</th><th scope=col>SMTSD</th><th scope=col>SMUBRID</th><th scope=col>SMTSISCH</th><th scope=col>SMTSPAX</th><th scope=col>⋯</th><th scope=col>SMRRNART</th><th scope=col>SME1MPRT</th><th scope=col>SMNUM5CD</th><th scope=col>SMDPMPRT</th><th scope=col>SME2PCTS</th><th scope=col>SUBJID</th><th scope=col>SEX</th><th scope=col>AGE</th><th scope=col>DTHHRDY</th><th scope=col>SRR</th></tr>\n",
       "\t<tr><th scope=col>&lt;chr&gt;</th><th scope=col>&lt;chr&gt;</th><th scope=col>&lt;chr&gt;</th><th scope=col>&lt;chr&gt;</th><th scope=col>&lt;dbl&gt;</th><th scope=col>&lt;chr&gt;</th><th scope=col>&lt;chr&gt;</th><th scope=col>&lt;chr&gt;</th><th scope=col>&lt;dbl&gt;</th><th scope=col>&lt;dbl&gt;</th><th scope=col>⋯</th><th scope=col>&lt;dbl&gt;</th><th scope=col>&lt;dbl&gt;</th><th scope=col>&lt;lgl&gt;</th><th scope=col>&lt;dbl&gt;</th><th scope=col>&lt;dbl&gt;</th><th scope=col>&lt;chr&gt;</th><th scope=col>&lt;dbl&gt;</th><th scope=col>&lt;chr&gt;</th><th scope=col>&lt;dbl&gt;</th><th scope=col>&lt;chr&gt;</th></tr>\n",
       "</thead>\n",
       "<tbody>\n",
       "\t<tr><td>GTEX.S4Q7.1126.SM.4AD6R</td><td>0</td><td>B1</td><td>2 aliquots</td><td>6.9</td><td>Breast</td><td>Breast - Mammary Tissue</td><td>8367</td><td>178</td><td>395</td><td>⋯</td><td>0.00513003</td><td>0.995356</td><td>NA</td><td>0</td><td>50.1072</td><td>GTEX-S4Q7</td><td>1</td><td>20-29</td><td>0</td><td>SRR1100893</td></tr>\n",
       "</tbody>\n",
       "</table>\n"
      ],
      "text/latex": [
       "A tibble: 1 × 68\n",
       "\\begin{tabular}{lllllllllllllllllllll}\n",
       " SAMPID & SMATSSCR & SMCENTER & SMPTHNTS & SMRIN & SMTS & SMTSD & SMUBRID & SMTSISCH & SMTSPAX & ⋯ & SMRRNART & SME1MPRT & SMNUM5CD & SMDPMPRT & SME2PCTS & SUBJID & SEX & AGE & DTHHRDY & SRR\\\\\n",
       " <chr> & <chr> & <chr> & <chr> & <dbl> & <chr> & <chr> & <chr> & <dbl> & <dbl> & ⋯ & <dbl> & <dbl> & <lgl> & <dbl> & <dbl> & <chr> & <dbl> & <chr> & <dbl> & <chr>\\\\\n",
       "\\hline\n",
       "\t GTEX.S4Q7.1126.SM.4AD6R & 0 & B1 & 2 aliquots & 6.9 & Breast & Breast - Mammary Tissue & 8367 & 178 & 395 & ⋯ & 0.00513003 & 0.995356 & NA & 0 & 50.1072 & GTEX-S4Q7 & 1 & 20-29 & 0 & SRR1100893\\\\\n",
       "\\end{tabular}\n"
      ],
      "text/markdown": [
       "\n",
       "A tibble: 1 × 68\n",
       "\n",
       "| SAMPID &lt;chr&gt; | SMATSSCR &lt;chr&gt; | SMCENTER &lt;chr&gt; | SMPTHNTS &lt;chr&gt; | SMRIN &lt;dbl&gt; | SMTS &lt;chr&gt; | SMTSD &lt;chr&gt; | SMUBRID &lt;chr&gt; | SMTSISCH &lt;dbl&gt; | SMTSPAX &lt;dbl&gt; | ⋯ ⋯ | SMRRNART &lt;dbl&gt; | SME1MPRT &lt;dbl&gt; | SMNUM5CD &lt;lgl&gt; | SMDPMPRT &lt;dbl&gt; | SME2PCTS &lt;dbl&gt; | SUBJID &lt;chr&gt; | SEX &lt;dbl&gt; | AGE &lt;chr&gt; | DTHHRDY &lt;dbl&gt; | SRR &lt;chr&gt; |\n",
       "|---|---|---|---|---|---|---|---|---|---|---|---|---|---|---|---|---|---|---|---|---|\n",
       "| GTEX.S4Q7.1126.SM.4AD6R | 0 | B1 | 2 aliquots | 6.9 | Breast | Breast - Mammary Tissue | 8367 | 178 | 395 | ⋯ | 0.00513003 | 0.995356 | NA | 0 | 50.1072 | GTEX-S4Q7 | 1 | 20-29 | 0 | SRR1100893 |\n",
       "\n"
      ],
      "text/plain": [
       "  SAMPID                  SMATSSCR SMCENTER SMPTHNTS   SMRIN SMTS  \n",
       "1 GTEX.S4Q7.1126.SM.4AD6R 0        B1       2 aliquots 6.9   Breast\n",
       "  SMTSD                   SMUBRID SMTSISCH SMTSPAX ⋯ SMRRNART   SME1MPRT\n",
       "1 Breast - Mammary Tissue 8367    178      395     ⋯ 0.00513003 0.995356\n",
       "  SMNUM5CD SMDPMPRT SME2PCTS SUBJID    SEX AGE   DTHHRDY SRR       \n",
       "1 NA       0        50.1072  GTEX-S4Q7 1   20-29 0       SRR1100893"
      ]
     },
     "metadata": {},
     "output_type": "display_data"
    }
   ],
   "source": [
    "tissue\n",
    "dim(meta.data)\n",
    "head(meta.data,1)"
   ]
  },
  {
   "cell_type": "code",
   "execution_count": 41,
   "metadata": {},
   "outputs": [
    {
     "data": {
      "text/html": [
       "'breast_mammary_tissue'"
      ],
      "text/latex": [
       "'breast\\_mammary\\_tissue'"
      ],
      "text/markdown": [
       "'breast_mammary_tissue'"
      ],
      "text/plain": [
       "[1] \"breast_mammary_tissue\""
      ]
     },
     "metadata": {},
     "output_type": "display_data"
    },
    {
     "data": {
      "text/html": [
       "'Breast - Mammary Tissue'"
      ],
      "text/latex": [
       "'Breast - Mammary Tissue'"
      ],
      "text/markdown": [
       "'Breast - Mammary Tissue'"
      ],
      "text/plain": [
       "[1] \"Breast - Mammary Tissue\""
      ]
     },
     "metadata": {},
     "output_type": "display_data"
    }
   ],
   "source": [
    "# Undo snakecase of SMTSD\n",
    "tissue\n",
    "tissue <- unique(meta.data$SMTSD)\n",
    "tissue"
   ]
  },
  {
   "cell_type": "code",
   "execution_count": 42,
   "metadata": {},
   "outputs": [
    {
     "data": {
      "text/html": [
       "<style>\n",
       ".list-inline {list-style: none; margin:0; padding: 0}\n",
       ".list-inline>li {display: inline-block}\n",
       ".list-inline>li:not(:last-child)::after {content: \"\\00b7\"; padding: 0 .5ex}\n",
       "</style>\n",
       "<ol class=list-inline><li>42611</li><li>8674</li></ol>\n"
      ],
      "text/latex": [
       "\\begin{enumerate*}\n",
       "\\item 42611\n",
       "\\item 8674\n",
       "\\end{enumerate*}\n"
      ],
      "text/markdown": [
       "1. 42611\n",
       "2. 8674\n",
       "\n",
       "\n"
      ],
      "text/plain": [
       "[1] 42611  8674"
      ]
     },
     "metadata": {},
     "output_type": "display_data"
    },
    {
     "data": {
      "text/html": [
       "<style>\n",
       ".list-inline {list-style: none; margin:0; padding: 0}\n",
       ".list-inline>li {display: inline-block}\n",
       ".list-inline>li:not(:last-child)::after {content: \"\\00b7\"; padding: 0 .5ex}\n",
       "</style>\n",
       "<ol class=list-inline><li>42611</li><li>178</li></ol>\n"
      ],
      "text/latex": [
       "\\begin{enumerate*}\n",
       "\\item 42611\n",
       "\\item 178\n",
       "\\end{enumerate*}\n"
      ],
      "text/markdown": [
       "1. 42611\n",
       "2. 178\n",
       "\n",
       "\n"
      ],
      "text/plain": [
       "[1] 42611   178"
      ]
     },
     "metadata": {},
     "output_type": "display_data"
    }
   ],
   "source": [
    "dim(inc.counts)\n",
    "inc.counts   <- inc.counts[,colnames(inc.counts) %in% meta.data$SRR]\n",
    "dim(inc.counts)"
   ]
  },
  {
   "cell_type": "code",
   "execution_count": 43,
   "metadata": {},
   "outputs": [
    {
     "data": {
      "text/html": [
       "<style>\n",
       ".list-inline {list-style: none; margin:0; padding: 0}\n",
       ".list-inline>li {display: inline-block}\n",
       ".list-inline>li:not(:last-child)::after {content: \"\\00b7\"; padding: 0 .5ex}\n",
       "</style>\n",
       "<ol class=list-inline><li>42611</li><li>8674</li></ol>\n"
      ],
      "text/latex": [
       "\\begin{enumerate*}\n",
       "\\item 42611\n",
       "\\item 8674\n",
       "\\end{enumerate*}\n"
      ],
      "text/markdown": [
       "1. 42611\n",
       "2. 8674\n",
       "\n",
       "\n"
      ],
      "text/plain": [
       "[1] 42611  8674"
      ]
     },
     "metadata": {},
     "output_type": "display_data"
    },
    {
     "data": {
      "text/html": [
       "<style>\n",
       ".list-inline {list-style: none; margin:0; padding: 0}\n",
       ".list-inline>li {display: inline-block}\n",
       ".list-inline>li:not(:last-child)::after {content: \"\\00b7\"; padding: 0 .5ex}\n",
       "</style>\n",
       "<ol class=list-inline><li>42611</li><li>178</li></ol>\n"
      ],
      "text/latex": [
       "\\begin{enumerate*}\n",
       "\\item 42611\n",
       "\\item 178\n",
       "\\end{enumerate*}\n"
      ],
      "text/markdown": [
       "1. 42611\n",
       "2. 178\n",
       "\n",
       "\n"
      ],
      "text/plain": [
       "[1] 42611   178"
      ]
     },
     "metadata": {},
     "output_type": "display_data"
    }
   ],
   "source": [
    "dim(skip.counts)\n",
    "skip.counts  <- skip.counts[,colnames(skip.counts) %in% meta.data$SRR]\n",
    "dim(skip.counts)"
   ]
  },
  {
   "cell_type": "code",
   "execution_count": 44,
   "metadata": {},
   "outputs": [
    {
     "data": {
      "text/html": [
       "<strong>95%:</strong> 118.455316425073"
      ],
      "text/latex": [
       "\\textbf{95\\textbackslash{}\\%:} 118.455316425073"
      ],
      "text/markdown": [
       "**95%:** 118.455316425073"
      ],
      "text/plain": [
       "     95% \n",
       "118.4553 "
      ]
     },
     "metadata": {},
     "output_type": "display_data"
    }
   ],
   "source": [
    "sd.threshold <- quantile(apply(inc.counts,1,sd)+apply(skip.counts,1,sd),0.95)\n",
    "sd.threshold"
   ]
  },
  {
   "cell_type": "code",
   "execution_count": 45,
   "metadata": {},
   "outputs": [
    {
     "data": {
      "text/html": [
       "<style>\n",
       ".list-inline {list-style: none; margin:0; padding: 0}\n",
       ".list-inline>li {display: inline-block}\n",
       ".list-inline>li:not(:last-child)::after {content: \"\\00b7\"; padding: 0 .5ex}\n",
       "</style>\n",
       "<ol class=list-inline><li>42611</li><li>178</li></ol>\n"
      ],
      "text/latex": [
       "\\begin{enumerate*}\n",
       "\\item 42611\n",
       "\\item 178\n",
       "\\end{enumerate*}\n"
      ],
      "text/markdown": [
       "1. 42611\n",
       "2. 178\n",
       "\n",
       "\n"
      ],
      "text/plain": [
       "[1] 42611   178"
      ]
     },
     "metadata": {},
     "output_type": "display_data"
    },
    {
     "data": {
      "text/html": [
       "<style>\n",
       ".list-inline {list-style: none; margin:0; padding: 0}\n",
       ".list-inline>li {display: inline-block}\n",
       ".list-inline>li:not(:last-child)::after {content: \"\\00b7\"; padding: 0 .5ex}\n",
       "</style>\n",
       "<ol class=list-inline><li>3163</li><li>178</li></ol>\n"
      ],
      "text/latex": [
       "\\begin{enumerate*}\n",
       "\\item 3163\n",
       "\\item 178\n",
       "\\end{enumerate*}\n"
      ],
      "text/markdown": [
       "1. 3163\n",
       "2. 178\n",
       "\n",
       "\n"
      ],
      "text/plain": [
       "[1] 3163  178"
      ]
     },
     "metadata": {},
     "output_type": "display_data"
    }
   ],
   "source": [
    "dim(skip.counts)\n",
    "skip.counts  <- skip.counts[rownames(skip.counts) %in% merged.table$ID,]\n",
    "dim(skip.counts)"
   ]
  },
  {
   "cell_type": "code",
   "execution_count": 46,
   "metadata": {},
   "outputs": [
    {
     "data": {
      "text/html": [
       "<style>\n",
       ".list-inline {list-style: none; margin:0; padding: 0}\n",
       ".list-inline>li {display: inline-block}\n",
       ".list-inline>li:not(:last-child)::after {content: \"\\00b7\"; padding: 0 .5ex}\n",
       "</style>\n",
       "<ol class=list-inline><li>42611</li><li>178</li></ol>\n"
      ],
      "text/latex": [
       "\\begin{enumerate*}\n",
       "\\item 42611\n",
       "\\item 178\n",
       "\\end{enumerate*}\n"
      ],
      "text/markdown": [
       "1. 42611\n",
       "2. 178\n",
       "\n",
       "\n"
      ],
      "text/plain": [
       "[1] 42611   178"
      ]
     },
     "metadata": {},
     "output_type": "display_data"
    },
    {
     "data": {
      "text/html": [
       "<style>\n",
       ".list-inline {list-style: none; margin:0; padding: 0}\n",
       ".list-inline>li {display: inline-block}\n",
       ".list-inline>li:not(:last-child)::after {content: \"\\00b7\"; padding: 0 .5ex}\n",
       "</style>\n",
       "<ol class=list-inline><li>3163</li><li>178</li></ol>\n"
      ],
      "text/latex": [
       "\\begin{enumerate*}\n",
       "\\item 3163\n",
       "\\item 178\n",
       "\\end{enumerate*}\n"
      ],
      "text/markdown": [
       "1. 3163\n",
       "2. 178\n",
       "\n",
       "\n"
      ],
      "text/plain": [
       "[1] 3163  178"
      ]
     },
     "metadata": {},
     "output_type": "display_data"
    }
   ],
   "source": [
    "dim(inc.counts)\n",
    "inc.counts   <- inc.counts[rownames(inc.counts) %in% merged.table$ID,]\n",
    "dim(inc.counts)"
   ]
  },
  {
   "cell_type": "code",
   "execution_count": 47,
   "metadata": {},
   "outputs": [
    {
     "data": {
      "text/html": [
       "TRUE"
      ],
      "text/latex": [
       "TRUE"
      ],
      "text/markdown": [
       "TRUE"
      ],
      "text/plain": [
       "[1] TRUE"
      ]
     },
     "metadata": {},
     "output_type": "display_data"
    }
   ],
   "source": [
    "nrow(skip.counts)>100"
   ]
  },
  {
   "cell_type": "code",
   "execution_count": 48,
   "metadata": {},
   "outputs": [],
   "source": [
    "if (nrow(skip.counts)>100)\n",
    "{\n",
    "  select.events <- apply(inc.counts,1,sd)+apply(skip.counts,1,sd)>sd.threshold\n",
    "  inc.counts    <- inc.counts[select.events,]\n",
    "  skip.counts   <- skip.counts[select.events,]\n",
    "  merged.table  <- merged.table[select.events,]\n",
    "}"
   ]
  },
  {
   "cell_type": "code",
   "execution_count": 49,
   "metadata": {},
   "outputs": [
    {
     "data": {
      "text/html": [
       "<style>\n",
       ".list-inline {list-style: none; margin:0; padding: 0}\n",
       ".list-inline>li {display: inline-block}\n",
       ".list-inline>li:not(:last-child)::after {content: \"\\00b7\"; padding: 0 .5ex}\n",
       "</style>\n",
       "<ol class=list-inline><li>146</li><li>178</li></ol>\n"
      ],
      "text/latex": [
       "\\begin{enumerate*}\n",
       "\\item 146\n",
       "\\item 178\n",
       "\\end{enumerate*}\n"
      ],
      "text/markdown": [
       "1. 146\n",
       "2. 178\n",
       "\n",
       "\n"
      ],
      "text/plain": [
       "[1] 146 178"
      ]
     },
     "metadata": {},
     "output_type": "display_data"
    },
    {
     "data": {
      "text/html": [
       "<style>\n",
       ".list-inline {list-style: none; margin:0; padding: 0}\n",
       ".list-inline>li {display: inline-block}\n",
       ".list-inline>li:not(:last-child)::after {content: \"\\00b7\"; padding: 0 .5ex}\n",
       "</style>\n",
       "<ol class=list-inline><li>146</li><li>178</li></ol>\n"
      ],
      "text/latex": [
       "\\begin{enumerate*}\n",
       "\\item 146\n",
       "\\item 178\n",
       "\\end{enumerate*}\n"
      ],
      "text/markdown": [
       "1. 146\n",
       "2. 178\n",
       "\n",
       "\n"
      ],
      "text/plain": [
       "[1] 146 178"
      ]
     },
     "metadata": {},
     "output_type": "display_data"
    },
    {
     "data": {
      "text/html": [
       "<style>\n",
       ".list-inline {list-style: none; margin:0; padding: 0}\n",
       ".list-inline>li {display: inline-block}\n",
       ".list-inline>li:not(:last-child)::after {content: \"\\00b7\"; padding: 0 .5ex}\n",
       "</style>\n",
       "<ol class=list-inline><li>146</li><li>18</li></ol>\n"
      ],
      "text/latex": [
       "\\begin{enumerate*}\n",
       "\\item 146\n",
       "\\item 18\n",
       "\\end{enumerate*}\n"
      ],
      "text/markdown": [
       "1. 146\n",
       "2. 18\n",
       "\n",
       "\n"
      ],
      "text/plain": [
       "[1] 146  18"
      ]
     },
     "metadata": {},
     "output_type": "display_data"
    }
   ],
   "source": [
    "dim(inc.counts)\n",
    "dim(skip.counts)\n",
    "dim(merged.table)"
   ]
  },
  {
   "cell_type": "markdown",
   "metadata": {},
   "source": [
    "## Read expression data:"
   ]
  },
  {
   "cell_type": "code",
   "execution_count": 50,
   "metadata": {},
   "outputs": [
    {
     "data": {
      "text/html": [
       "'../data/GTEx_Analysis_2017-06-05_v8_RNASeQCv1.1.9_gene_tpm.gct'"
      ],
      "text/latex": [
       "'../data/GTEx\\_Analysis\\_2017-06-05\\_v8\\_RNASeQCv1.1.9\\_gene\\_tpm.gct'"
      ],
      "text/markdown": [
       "'../data/GTEx_Analysis_2017-06-05_v8_RNASeQCv1.1.9_gene_tpm.gct'"
      ],
      "text/plain": [
       "[1] \"../data/GTEx_Analysis_2017-06-05_v8_RNASeQCv1.1.9_gene_tpm.gct\""
      ]
     },
     "metadata": {},
     "output_type": "display_data"
    },
    {
     "data": {
      "text/html": [
       "TRUE"
      ],
      "text/latex": [
       "TRUE"
      ],
      "text/markdown": [
       "TRUE"
      ],
      "text/plain": [
       "[1] TRUE"
      ]
     },
     "metadata": {},
     "output_type": "display_data"
    }
   ],
   "source": [
    "expression.file.name\n",
    "file.exists(expression.file.name)"
   ]
  },
  {
   "cell_type": "code",
   "execution_count": 51,
   "metadata": {},
   "outputs": [],
   "source": [
    "expression.mat <- read.table(expression.file.name, \n",
    "                             nrows = 1,\n",
    "                             sep = \"\\t\",\n",
    "                             header = T,\n",
    "                             skip = 2)"
   ]
  },
  {
   "cell_type": "code",
   "execution_count": 52,
   "metadata": {},
   "outputs": [
    {
     "data": {
      "text/html": [
       "<style>\n",
       ".list-inline {list-style: none; margin:0; padding: 0}\n",
       ".list-inline>li {display: inline-block}\n",
       ".list-inline>li:not(:last-child)::after {content: \"\\00b7\"; padding: 0 .5ex}\n",
       "</style>\n",
       "<ol class=list-inline><li>1</li><li>11690</li></ol>\n"
      ],
      "text/latex": [
       "\\begin{enumerate*}\n",
       "\\item 1\n",
       "\\item 11690\n",
       "\\end{enumerate*}\n"
      ],
      "text/markdown": [
       "1. 1\n",
       "2. 11690\n",
       "\n",
       "\n"
      ],
      "text/plain": [
       "[1]     1 11690"
      ]
     },
     "metadata": {},
     "output_type": "display_data"
    },
    {
     "data": {
      "text/html": [
       "<table>\n",
       "<caption>A data.frame: 1 × 11690</caption>\n",
       "<thead>\n",
       "\t<tr><th></th><th scope=col>Name</th><th scope=col>Description</th><th scope=col>GTEX.1117F.0226.SM.5GZZ7</th><th scope=col>GTEX.111CU.1826.SM.5GZYN</th><th scope=col>GTEX.111FC.0226.SM.5N9B8</th><th scope=col>GTEX.111VG.2326.SM.5N9BK</th><th scope=col>GTEX.111YS.2426.SM.5GZZQ</th><th scope=col>GTEX.1122O.2026.SM.5NQ91</th><th scope=col>GTEX.1128S.2126.SM.5H12U</th><th scope=col>GTEX.113IC.0226.SM.5HL5C</th><th scope=col>⋯</th><th scope=col>GTEX.ZVE2.0006.SM.51MRW</th><th scope=col>GTEX.ZVP2.0005.SM.51MRK</th><th scope=col>GTEX.ZVT2.0005.SM.57WBW</th><th scope=col>GTEX.ZVT3.0006.SM.51MT9</th><th scope=col>GTEX.ZVT4.0006.SM.57WB8</th><th scope=col>GTEX.ZVTK.0006.SM.57WBK</th><th scope=col>GTEX.ZVZP.0006.SM.51MSW</th><th scope=col>GTEX.ZVZQ.0006.SM.51MR8</th><th scope=col>GTEX.ZXES.0005.SM.57WCB</th><th scope=col>GTEX.ZXG5.0005.SM.57WCN</th></tr>\n",
       "\t<tr><th></th><th scope=col>&lt;fct&gt;</th><th scope=col>&lt;fct&gt;</th><th scope=col>&lt;dbl&gt;</th><th scope=col>&lt;dbl&gt;</th><th scope=col>&lt;dbl&gt;</th><th scope=col>&lt;dbl&gt;</th><th scope=col>&lt;int&gt;</th><th scope=col>&lt;dbl&gt;</th><th scope=col>&lt;dbl&gt;</th><th scope=col>&lt;dbl&gt;</th><th scope=col>⋯</th><th scope=col>&lt;dbl&gt;</th><th scope=col>&lt;dbl&gt;</th><th scope=col>&lt;dbl&gt;</th><th scope=col>&lt;int&gt;</th><th scope=col>&lt;dbl&gt;</th><th scope=col>&lt;dbl&gt;</th><th scope=col>&lt;dbl&gt;</th><th scope=col>&lt;dbl&gt;</th><th scope=col>&lt;dbl&gt;</th><th scope=col>&lt;dbl&gt;</th></tr>\n",
       "</thead>\n",
       "<tbody>\n",
       "\t<tr><th scope=row>1</th><td>ENSG00000223972.4</td><td>DDX11L1</td><td>0.1082</td><td>0.1158</td><td>0.02104</td><td>0.02329</td><td>0</td><td>0.04641</td><td>0.03076</td><td>0.09358</td><td>⋯</td><td>0.09012</td><td>0.1462</td><td>0.1045</td><td>0</td><td>0.6603</td><td>0.695</td><td>0.1213</td><td>0.4169</td><td>0.2355</td><td>0.145</td></tr>\n",
       "</tbody>\n",
       "</table>\n"
      ],
      "text/latex": [
       "A data.frame: 1 × 11690\n",
       "\\begin{tabular}{r|lllllllllllllllllllll}\n",
       "  & Name & Description & GTEX.1117F.0226.SM.5GZZ7 & GTEX.111CU.1826.SM.5GZYN & GTEX.111FC.0226.SM.5N9B8 & GTEX.111VG.2326.SM.5N9BK & GTEX.111YS.2426.SM.5GZZQ & GTEX.1122O.2026.SM.5NQ91 & GTEX.1128S.2126.SM.5H12U & GTEX.113IC.0226.SM.5HL5C & ⋯ & GTEX.ZVE2.0006.SM.51MRW & GTEX.ZVP2.0005.SM.51MRK & GTEX.ZVT2.0005.SM.57WBW & GTEX.ZVT3.0006.SM.51MT9 & GTEX.ZVT4.0006.SM.57WB8 & GTEX.ZVTK.0006.SM.57WBK & GTEX.ZVZP.0006.SM.51MSW & GTEX.ZVZQ.0006.SM.51MR8 & GTEX.ZXES.0005.SM.57WCB & GTEX.ZXG5.0005.SM.57WCN\\\\\n",
       "  & <fct> & <fct> & <dbl> & <dbl> & <dbl> & <dbl> & <int> & <dbl> & <dbl> & <dbl> & ⋯ & <dbl> & <dbl> & <dbl> & <int> & <dbl> & <dbl> & <dbl> & <dbl> & <dbl> & <dbl>\\\\\n",
       "\\hline\n",
       "\t1 & ENSG00000223972.4 & DDX11L1 & 0.1082 & 0.1158 & 0.02104 & 0.02329 & 0 & 0.04641 & 0.03076 & 0.09358 & ⋯ & 0.09012 & 0.1462 & 0.1045 & 0 & 0.6603 & 0.695 & 0.1213 & 0.4169 & 0.2355 & 0.145\\\\\n",
       "\\end{tabular}\n"
      ],
      "text/markdown": [
       "\n",
       "A data.frame: 1 × 11690\n",
       "\n",
       "| <!--/--> | Name &lt;fct&gt; | Description &lt;fct&gt; | GTEX.1117F.0226.SM.5GZZ7 &lt;dbl&gt; | GTEX.111CU.1826.SM.5GZYN &lt;dbl&gt; | GTEX.111FC.0226.SM.5N9B8 &lt;dbl&gt; | GTEX.111VG.2326.SM.5N9BK &lt;dbl&gt; | GTEX.111YS.2426.SM.5GZZQ &lt;int&gt; | GTEX.1122O.2026.SM.5NQ91 &lt;dbl&gt; | GTEX.1128S.2126.SM.5H12U &lt;dbl&gt; | GTEX.113IC.0226.SM.5HL5C &lt;dbl&gt; | ⋯ ⋯ | GTEX.ZVE2.0006.SM.51MRW &lt;dbl&gt; | GTEX.ZVP2.0005.SM.51MRK &lt;dbl&gt; | GTEX.ZVT2.0005.SM.57WBW &lt;dbl&gt; | GTEX.ZVT3.0006.SM.51MT9 &lt;int&gt; | GTEX.ZVT4.0006.SM.57WB8 &lt;dbl&gt; | GTEX.ZVTK.0006.SM.57WBK &lt;dbl&gt; | GTEX.ZVZP.0006.SM.51MSW &lt;dbl&gt; | GTEX.ZVZQ.0006.SM.51MR8 &lt;dbl&gt; | GTEX.ZXES.0005.SM.57WCB &lt;dbl&gt; | GTEX.ZXG5.0005.SM.57WCN &lt;dbl&gt; |\n",
       "|---|---|---|---|---|---|---|---|---|---|---|---|---|---|---|---|---|---|---|---|---|---|\n",
       "| 1 | ENSG00000223972.4 | DDX11L1 | 0.1082 | 0.1158 | 0.02104 | 0.02329 | 0 | 0.04641 | 0.03076 | 0.09358 | ⋯ | 0.09012 | 0.1462 | 0.1045 | 0 | 0.6603 | 0.695 | 0.1213 | 0.4169 | 0.2355 | 0.145 |\n",
       "\n"
      ],
      "text/plain": [
       "  Name              Description GTEX.1117F.0226.SM.5GZZ7\n",
       "1 ENSG00000223972.4 DDX11L1     0.1082                  \n",
       "  GTEX.111CU.1826.SM.5GZYN GTEX.111FC.0226.SM.5N9B8 GTEX.111VG.2326.SM.5N9BK\n",
       "1 0.1158                   0.02104                  0.02329                 \n",
       "  GTEX.111YS.2426.SM.5GZZQ GTEX.1122O.2026.SM.5NQ91 GTEX.1128S.2126.SM.5H12U\n",
       "1 0                        0.04641                  0.03076                 \n",
       "  GTEX.113IC.0226.SM.5HL5C ⋯ GTEX.ZVE2.0006.SM.51MRW GTEX.ZVP2.0005.SM.51MRK\n",
       "1 0.09358                  ⋯ 0.09012                 0.1462                 \n",
       "  GTEX.ZVT2.0005.SM.57WBW GTEX.ZVT3.0006.SM.51MT9 GTEX.ZVT4.0006.SM.57WB8\n",
       "1 0.1045                  0                       0.6603                 \n",
       "  GTEX.ZVTK.0006.SM.57WBK GTEX.ZVZP.0006.SM.51MSW GTEX.ZVZQ.0006.SM.51MR8\n",
       "1 0.695                   0.1213                  0.4169                 \n",
       "  GTEX.ZXES.0005.SM.57WCB GTEX.ZXG5.0005.SM.57WCN\n",
       "1 0.2355                  0.145                  "
      ]
     },
     "metadata": {},
     "output_type": "display_data"
    }
   ],
   "source": [
    "dim(expression.mat)\n",
    "head(expression.mat, 2)"
   ]
  },
  {
   "cell_type": "code",
   "execution_count": 53,
   "metadata": {},
   "outputs": [
    {
     "data": {
      "text/html": [
       "<style>\n",
       ".list-inline {list-style: none; margin:0; padding: 0}\n",
       ".list-inline>li {display: inline-block}\n",
       ".list-inline>li:not(:last-child)::after {content: \"\\00b7\"; padding: 0 .5ex}\n",
       "</style>\n",
       "<ol class=list-inline><li>'Name'</li><li>'Description'</li><li>'GTEX.1117F.0226.SM.5GZZ7'</li></ol>\n"
      ],
      "text/latex": [
       "\\begin{enumerate*}\n",
       "\\item 'Name'\n",
       "\\item 'Description'\n",
       "\\item 'GTEX.1117F.0226.SM.5GZZ7'\n",
       "\\end{enumerate*}\n"
      ],
      "text/markdown": [
       "1. 'Name'\n",
       "2. 'Description'\n",
       "3. 'GTEX.1117F.0226.SM.5GZZ7'\n",
       "\n",
       "\n"
      ],
      "text/plain": [
       "[1] \"Name\"                     \"Description\"             \n",
       "[3] \"GTEX.1117F.0226.SM.5GZZ7\""
      ]
     },
     "metadata": {},
     "output_type": "display_data"
    }
   ],
   "source": [
    "colnames(expression.mat)[1:3]"
   ]
  },
  {
   "cell_type": "code",
   "execution_count": 54,
   "metadata": {},
   "outputs": [],
   "source": [
    "colnames.expression.mat <- colnames(expression.mat)"
   ]
  },
  {
   "cell_type": "code",
   "execution_count": 55,
   "metadata": {},
   "outputs": [
    {
     "data": {
      "text/html": [
       "11690"
      ],
      "text/latex": [
       "11690"
      ],
      "text/markdown": [
       "11690"
      ],
      "text/plain": [
       "[1] 11690"
      ]
     },
     "metadata": {},
     "output_type": "display_data"
    },
    {
     "data": {
      "text/html": [
       "<style>\n",
       ".list-inline {list-style: none; margin:0; padding: 0}\n",
       ".list-inline>li {display: inline-block}\n",
       ".list-inline>li:not(:last-child)::after {content: \"\\00b7\"; padding: 0 .5ex}\n",
       "</style>\n",
       "<ol class=list-inline><li>'Name'</li><li>'Description'</li><li>'GTEX.1117F.0226.SM.5GZZ7'</li><li>'GTEX.111CU.1826.SM.5GZYN'</li></ol>\n"
      ],
      "text/latex": [
       "\\begin{enumerate*}\n",
       "\\item 'Name'\n",
       "\\item 'Description'\n",
       "\\item 'GTEX.1117F.0226.SM.5GZZ7'\n",
       "\\item 'GTEX.111CU.1826.SM.5GZYN'\n",
       "\\end{enumerate*}\n"
      ],
      "text/markdown": [
       "1. 'Name'\n",
       "2. 'Description'\n",
       "3. 'GTEX.1117F.0226.SM.5GZZ7'\n",
       "4. 'GTEX.111CU.1826.SM.5GZYN'\n",
       "\n",
       "\n"
      ],
      "text/plain": [
       "[1] \"Name\"                     \"Description\"             \n",
       "[3] \"GTEX.1117F.0226.SM.5GZZ7\" \"GTEX.111CU.1826.SM.5GZYN\""
      ]
     },
     "metadata": {},
     "output_type": "display_data"
    }
   ],
   "source": [
    "length(colnames.expression.mat)\n",
    "colnames.expression.mat[1:4]"
   ]
  },
  {
   "cell_type": "code",
   "execution_count": 56,
   "metadata": {},
   "outputs": [
    {
     "data": {
      "text/html": [
       "11690"
      ],
      "text/latex": [
       "11690"
      ],
      "text/markdown": [
       "11690"
      ],
      "text/plain": [
       "[1] 11690"
      ]
     },
     "metadata": {},
     "output_type": "display_data"
    }
   ],
   "source": [
    "length(colnames.expression.mat)"
   ]
  },
  {
   "cell_type": "code",
   "execution_count": 57,
   "metadata": {},
   "outputs": [
    {
     "data": {
      "text/html": [
       "11690"
      ],
      "text/latex": [
       "11690"
      ],
      "text/markdown": [
       "11690"
      ],
      "text/plain": [
       "[1] 11690"
      ]
     },
     "metadata": {},
     "output_type": "display_data"
    }
   ],
   "source": [
    "total.samples           <- length(colnames.expression.mat)\n",
    "total.samples"
   ]
  },
  {
   "cell_type": "code",
   "execution_count": 58,
   "metadata": {},
   "outputs": [
    {
     "data": {
      "text/html": [
       "'GTEX.S4Q7.1126.SM.4AD6R'"
      ],
      "text/latex": [
       "'GTEX.S4Q7.1126.SM.4AD6R'"
      ],
      "text/markdown": [
       "'GTEX.S4Q7.1126.SM.4AD6R'"
      ],
      "text/plain": [
       "[1] \"GTEX.S4Q7.1126.SM.4AD6R\""
      ]
     },
     "metadata": {},
     "output_type": "display_data"
    },
    {
     "data": {
      "text/html": [
       "'GTEX.S4Q7.1126.SM.4AD6R'"
      ],
      "text/latex": [
       "'GTEX.S4Q7.1126.SM.4AD6R'"
      ],
      "text/markdown": [
       "'GTEX.S4Q7.1126.SM.4AD6R'"
      ],
      "text/plain": [
       "[1] \"GTEX.S4Q7.1126.SM.4AD6R\""
      ]
     },
     "metadata": {},
     "output_type": "display_data"
    }
   ],
   "source": [
    "meta.data$SAMPID[1]\n",
    "gsub(\"-\",\"\\\\.\",meta.data$SAMPID[1])"
   ]
  },
  {
   "cell_type": "code",
   "execution_count": 59,
   "metadata": {},
   "outputs": [],
   "source": [
    "meta.data$SAMPID   <- gsub(\"-\",\"\\\\.\",meta.data$SAMPID)"
   ]
  },
  {
   "cell_type": "code",
   "execution_count": 60,
   "metadata": {},
   "outputs": [
    {
     "data": {
      "text/html": [
       "<style>\n",
       ".list-inline {list-style: none; margin:0; padding: 0}\n",
       ".list-inline>li {display: inline-block}\n",
       ".list-inline>li:not(:last-child)::after {content: \"\\00b7\"; padding: 0 .5ex}\n",
       "</style>\n",
       "<ol class=list-inline><li>178</li><li>68</li></ol>\n"
      ],
      "text/latex": [
       "\\begin{enumerate*}\n",
       "\\item 178\n",
       "\\item 68\n",
       "\\end{enumerate*}\n"
      ],
      "text/markdown": [
       "1. 178\n",
       "2. 68\n",
       "\n",
       "\n"
      ],
      "text/plain": [
       "[1] 178  68"
      ]
     },
     "metadata": {},
     "output_type": "display_data"
    },
    {
     "data": {
      "text/html": [
       "<style>\n",
       ".list-inline {list-style: none; margin:0; padding: 0}\n",
       ".list-inline>li {display: inline-block}\n",
       ".list-inline>li:not(:last-child)::after {content: \"\\00b7\"; padding: 0 .5ex}\n",
       "</style>\n",
       "<ol class=list-inline><li>175</li><li>68</li></ol>\n"
      ],
      "text/latex": [
       "\\begin{enumerate*}\n",
       "\\item 175\n",
       "\\item 68\n",
       "\\end{enumerate*}\n"
      ],
      "text/markdown": [
       "1. 175\n",
       "2. 68\n",
       "\n",
       "\n"
      ],
      "text/plain": [
       "[1] 175  68"
      ]
     },
     "metadata": {},
     "output_type": "display_data"
    }
   ],
   "source": [
    "dim(meta.data)\n",
    "meta.data               <- meta.data[meta.data$SAMPID %in% colnames(expression.mat),]\n",
    "dim(meta.data)"
   ]
  },
  {
   "cell_type": "code",
   "execution_count": 61,
   "metadata": {},
   "outputs": [
    {
     "data": {
      "text/html": [
       "<table>\n",
       "<caption>A data.frame: 1 × 11690</caption>\n",
       "<thead>\n",
       "\t<tr><th></th><th scope=col>Name</th><th scope=col>Description</th><th scope=col>GTEX.1117F.0226.SM.5GZZ7</th><th scope=col>GTEX.111CU.1826.SM.5GZYN</th><th scope=col>GTEX.111FC.0226.SM.5N9B8</th><th scope=col>GTEX.111VG.2326.SM.5N9BK</th><th scope=col>GTEX.111YS.2426.SM.5GZZQ</th><th scope=col>GTEX.1122O.2026.SM.5NQ91</th><th scope=col>GTEX.1128S.2126.SM.5H12U</th><th scope=col>GTEX.113IC.0226.SM.5HL5C</th><th scope=col>⋯</th><th scope=col>GTEX.ZVE2.0006.SM.51MRW</th><th scope=col>GTEX.ZVP2.0005.SM.51MRK</th><th scope=col>GTEX.ZVT2.0005.SM.57WBW</th><th scope=col>GTEX.ZVT3.0006.SM.51MT9</th><th scope=col>GTEX.ZVT4.0006.SM.57WB8</th><th scope=col>GTEX.ZVTK.0006.SM.57WBK</th><th scope=col>GTEX.ZVZP.0006.SM.51MSW</th><th scope=col>GTEX.ZVZQ.0006.SM.51MR8</th><th scope=col>GTEX.ZXES.0005.SM.57WCB</th><th scope=col>GTEX.ZXG5.0005.SM.57WCN</th></tr>\n",
       "\t<tr><th></th><th scope=col>&lt;fct&gt;</th><th scope=col>&lt;fct&gt;</th><th scope=col>&lt;dbl&gt;</th><th scope=col>&lt;dbl&gt;</th><th scope=col>&lt;dbl&gt;</th><th scope=col>&lt;dbl&gt;</th><th scope=col>&lt;int&gt;</th><th scope=col>&lt;dbl&gt;</th><th scope=col>&lt;dbl&gt;</th><th scope=col>&lt;dbl&gt;</th><th scope=col>⋯</th><th scope=col>&lt;dbl&gt;</th><th scope=col>&lt;dbl&gt;</th><th scope=col>&lt;dbl&gt;</th><th scope=col>&lt;int&gt;</th><th scope=col>&lt;dbl&gt;</th><th scope=col>&lt;dbl&gt;</th><th scope=col>&lt;dbl&gt;</th><th scope=col>&lt;dbl&gt;</th><th scope=col>&lt;dbl&gt;</th><th scope=col>&lt;dbl&gt;</th></tr>\n",
       "</thead>\n",
       "<tbody>\n",
       "\t<tr><th scope=row>1</th><td>ENSG00000223972.4</td><td>DDX11L1</td><td>0.1082</td><td>0.1158</td><td>0.02104</td><td>0.02329</td><td>0</td><td>0.04641</td><td>0.03076</td><td>0.09358</td><td>⋯</td><td>0.09012</td><td>0.1462</td><td>0.1045</td><td>0</td><td>0.6603</td><td>0.695</td><td>0.1213</td><td>0.4169</td><td>0.2355</td><td>0.145</td></tr>\n",
       "</tbody>\n",
       "</table>\n"
      ],
      "text/latex": [
       "A data.frame: 1 × 11690\n",
       "\\begin{tabular}{r|lllllllllllllllllllll}\n",
       "  & Name & Description & GTEX.1117F.0226.SM.5GZZ7 & GTEX.111CU.1826.SM.5GZYN & GTEX.111FC.0226.SM.5N9B8 & GTEX.111VG.2326.SM.5N9BK & GTEX.111YS.2426.SM.5GZZQ & GTEX.1122O.2026.SM.5NQ91 & GTEX.1128S.2126.SM.5H12U & GTEX.113IC.0226.SM.5HL5C & ⋯ & GTEX.ZVE2.0006.SM.51MRW & GTEX.ZVP2.0005.SM.51MRK & GTEX.ZVT2.0005.SM.57WBW & GTEX.ZVT3.0006.SM.51MT9 & GTEX.ZVT4.0006.SM.57WB8 & GTEX.ZVTK.0006.SM.57WBK & GTEX.ZVZP.0006.SM.51MSW & GTEX.ZVZQ.0006.SM.51MR8 & GTEX.ZXES.0005.SM.57WCB & GTEX.ZXG5.0005.SM.57WCN\\\\\n",
       "  & <fct> & <fct> & <dbl> & <dbl> & <dbl> & <dbl> & <int> & <dbl> & <dbl> & <dbl> & ⋯ & <dbl> & <dbl> & <dbl> & <int> & <dbl> & <dbl> & <dbl> & <dbl> & <dbl> & <dbl>\\\\\n",
       "\\hline\n",
       "\t1 & ENSG00000223972.4 & DDX11L1 & 0.1082 & 0.1158 & 0.02104 & 0.02329 & 0 & 0.04641 & 0.03076 & 0.09358 & ⋯ & 0.09012 & 0.1462 & 0.1045 & 0 & 0.6603 & 0.695 & 0.1213 & 0.4169 & 0.2355 & 0.145\\\\\n",
       "\\end{tabular}\n"
      ],
      "text/markdown": [
       "\n",
       "A data.frame: 1 × 11690\n",
       "\n",
       "| <!--/--> | Name &lt;fct&gt; | Description &lt;fct&gt; | GTEX.1117F.0226.SM.5GZZ7 &lt;dbl&gt; | GTEX.111CU.1826.SM.5GZYN &lt;dbl&gt; | GTEX.111FC.0226.SM.5N9B8 &lt;dbl&gt; | GTEX.111VG.2326.SM.5N9BK &lt;dbl&gt; | GTEX.111YS.2426.SM.5GZZQ &lt;int&gt; | GTEX.1122O.2026.SM.5NQ91 &lt;dbl&gt; | GTEX.1128S.2126.SM.5H12U &lt;dbl&gt; | GTEX.113IC.0226.SM.5HL5C &lt;dbl&gt; | ⋯ ⋯ | GTEX.ZVE2.0006.SM.51MRW &lt;dbl&gt; | GTEX.ZVP2.0005.SM.51MRK &lt;dbl&gt; | GTEX.ZVT2.0005.SM.57WBW &lt;dbl&gt; | GTEX.ZVT3.0006.SM.51MT9 &lt;int&gt; | GTEX.ZVT4.0006.SM.57WB8 &lt;dbl&gt; | GTEX.ZVTK.0006.SM.57WBK &lt;dbl&gt; | GTEX.ZVZP.0006.SM.51MSW &lt;dbl&gt; | GTEX.ZVZQ.0006.SM.51MR8 &lt;dbl&gt; | GTEX.ZXES.0005.SM.57WCB &lt;dbl&gt; | GTEX.ZXG5.0005.SM.57WCN &lt;dbl&gt; |\n",
       "|---|---|---|---|---|---|---|---|---|---|---|---|---|---|---|---|---|---|---|---|---|---|\n",
       "| 1 | ENSG00000223972.4 | DDX11L1 | 0.1082 | 0.1158 | 0.02104 | 0.02329 | 0 | 0.04641 | 0.03076 | 0.09358 | ⋯ | 0.09012 | 0.1462 | 0.1045 | 0 | 0.6603 | 0.695 | 0.1213 | 0.4169 | 0.2355 | 0.145 |\n",
       "\n"
      ],
      "text/plain": [
       "  Name              Description GTEX.1117F.0226.SM.5GZZ7\n",
       "1 ENSG00000223972.4 DDX11L1     0.1082                  \n",
       "  GTEX.111CU.1826.SM.5GZYN GTEX.111FC.0226.SM.5N9B8 GTEX.111VG.2326.SM.5N9BK\n",
       "1 0.1158                   0.02104                  0.02329                 \n",
       "  GTEX.111YS.2426.SM.5GZZQ GTEX.1122O.2026.SM.5NQ91 GTEX.1128S.2126.SM.5H12U\n",
       "1 0                        0.04641                  0.03076                 \n",
       "  GTEX.113IC.0226.SM.5HL5C ⋯ GTEX.ZVE2.0006.SM.51MRW GTEX.ZVP2.0005.SM.51MRK\n",
       "1 0.09358                  ⋯ 0.09012                 0.1462                 \n",
       "  GTEX.ZVT2.0005.SM.57WBW GTEX.ZVT3.0006.SM.51MT9 GTEX.ZVT4.0006.SM.57WB8\n",
       "1 0.1045                  0                       0.6603                 \n",
       "  GTEX.ZVTK.0006.SM.57WBK GTEX.ZVZP.0006.SM.51MSW GTEX.ZVZQ.0006.SM.51MR8\n",
       "1 0.695                   0.1213                  0.4169                 \n",
       "  GTEX.ZXES.0005.SM.57WCB GTEX.ZXG5.0005.SM.57WCN\n",
       "1 0.2355                  0.145                  "
      ]
     },
     "metadata": {},
     "output_type": "display_data"
    }
   ],
   "source": [
    "head(expression.mat)"
   ]
  },
  {
   "cell_type": "code",
   "execution_count": 62,
   "metadata": {},
   "outputs": [],
   "source": [
    "meta.data <- meta.data[!duplicated(meta.data$SAMPID),]"
   ]
  },
  {
   "cell_type": "code",
   "execution_count": 63,
   "metadata": {},
   "outputs": [
    {
     "data": {
      "text/html": [
       "<style>\n",
       ".list-inline {list-style: none; margin:0; padding: 0}\n",
       ".list-inline>li {display: inline-block}\n",
       ".list-inline>li:not(:last-child)::after {content: \"\\00b7\"; padding: 0 .5ex}\n",
       "</style>\n",
       "<ol class=list-inline><li>173</li><li>68</li></ol>\n"
      ],
      "text/latex": [
       "\\begin{enumerate*}\n",
       "\\item 173\n",
       "\\item 68\n",
       "\\end{enumerate*}\n"
      ],
      "text/markdown": [
       "1. 173\n",
       "2. 68\n",
       "\n",
       "\n"
      ],
      "text/plain": [
       "[1] 173  68"
      ]
     },
     "metadata": {},
     "output_type": "display_data"
    }
   ],
   "source": [
    "dim(meta.data)"
   ]
  },
  {
   "cell_type": "code",
   "execution_count": 64,
   "metadata": {},
   "outputs": [
    {
     "data": {
      "text/html": [
       "<style>\n",
       ".list-inline {list-style: none; margin:0; padding: 0}\n",
       ".list-inline>li {display: inline-block}\n",
       ".list-inline>li:not(:last-child)::after {content: \"\\00b7\"; padding: 0 .5ex}\n",
       "</style>\n",
       "<ol class=list-inline><li>146</li><li>173</li></ol>\n"
      ],
      "text/latex": [
       "\\begin{enumerate*}\n",
       "\\item 146\n",
       "\\item 173\n",
       "\\end{enumerate*}\n"
      ],
      "text/markdown": [
       "1. 146\n",
       "2. 173\n",
       "\n",
       "\n"
      ],
      "text/plain": [
       "[1] 146 173"
      ]
     },
     "metadata": {},
     "output_type": "display_data"
    },
    {
     "data": {
      "text/html": [
       "<table>\n",
       "<caption>A data.frame: 1 × 173</caption>\n",
       "<thead>\n",
       "\t<tr><th></th><th scope=col>SRR1068977</th><th scope=col>SRR1068999</th><th scope=col>SRR1070208</th><th scope=col>SRR1071084</th><th scope=col>SRR1071905</th><th scope=col>SRR1074860</th><th scope=col>SRR1075484</th><th scope=col>SRR1076219</th><th scope=col>SRR1076441</th><th scope=col>SRR1077139</th><th scope=col>⋯</th><th scope=col>SRR660283</th><th scope=col>SRR662306</th><th scope=col>SRR662378</th><th scope=col>SRR662811</th><th scope=col>SRR808428</th><th scope=col>SRR811285</th><th scope=col>SRR812198</th><th scope=col>SRR815208</th><th scope=col>SRR820571</th><th scope=col>SRR821498</th></tr>\n",
       "\t<tr><th></th><th scope=col>&lt;int&gt;</th><th scope=col>&lt;int&gt;</th><th scope=col>&lt;int&gt;</th><th scope=col>&lt;int&gt;</th><th scope=col>&lt;int&gt;</th><th scope=col>&lt;int&gt;</th><th scope=col>&lt;int&gt;</th><th scope=col>&lt;int&gt;</th><th scope=col>&lt;int&gt;</th><th scope=col>&lt;int&gt;</th><th scope=col>⋯</th><th scope=col>&lt;int&gt;</th><th scope=col>&lt;int&gt;</th><th scope=col>&lt;int&gt;</th><th scope=col>&lt;int&gt;</th><th scope=col>&lt;int&gt;</th><th scope=col>&lt;int&gt;</th><th scope=col>&lt;int&gt;</th><th scope=col>&lt;int&gt;</th><th scope=col>&lt;int&gt;</th><th scope=col>&lt;int&gt;</th></tr>\n",
       "</thead>\n",
       "<tbody>\n",
       "\t<tr><th scope=row>676</th><td>22</td><td>1</td><td>16</td><td>6</td><td>18</td><td>6</td><td>34</td><td>14</td><td>16</td><td>25</td><td>⋯</td><td>8</td><td>21</td><td>25</td><td>22</td><td>14</td><td>29</td><td>26</td><td>22</td><td>21</td><td>13</td></tr>\n",
       "</tbody>\n",
       "</table>\n"
      ],
      "text/latex": [
       "A data.frame: 1 × 173\n",
       "\\begin{tabular}{r|lllllllllllllllllllll}\n",
       "  & SRR1068977 & SRR1068999 & SRR1070208 & SRR1071084 & SRR1071905 & SRR1074860 & SRR1075484 & SRR1076219 & SRR1076441 & SRR1077139 & ⋯ & SRR660283 & SRR662306 & SRR662378 & SRR662811 & SRR808428 & SRR811285 & SRR812198 & SRR815208 & SRR820571 & SRR821498\\\\\n",
       "  & <int> & <int> & <int> & <int> & <int> & <int> & <int> & <int> & <int> & <int> & ⋯ & <int> & <int> & <int> & <int> & <int> & <int> & <int> & <int> & <int> & <int>\\\\\n",
       "\\hline\n",
       "\t676 & 22 & 1 & 16 & 6 & 18 & 6 & 34 & 14 & 16 & 25 & ⋯ & 8 & 21 & 25 & 22 & 14 & 29 & 26 & 22 & 21 & 13\\\\\n",
       "\\end{tabular}\n"
      ],
      "text/markdown": [
       "\n",
       "A data.frame: 1 × 173\n",
       "\n",
       "| <!--/--> | SRR1068977 &lt;int&gt; | SRR1068999 &lt;int&gt; | SRR1070208 &lt;int&gt; | SRR1071084 &lt;int&gt; | SRR1071905 &lt;int&gt; | SRR1074860 &lt;int&gt; | SRR1075484 &lt;int&gt; | SRR1076219 &lt;int&gt; | SRR1076441 &lt;int&gt; | SRR1077139 &lt;int&gt; | ⋯ ⋯ | SRR660283 &lt;int&gt; | SRR662306 &lt;int&gt; | SRR662378 &lt;int&gt; | SRR662811 &lt;int&gt; | SRR808428 &lt;int&gt; | SRR811285 &lt;int&gt; | SRR812198 &lt;int&gt; | SRR815208 &lt;int&gt; | SRR820571 &lt;int&gt; | SRR821498 &lt;int&gt; |\n",
       "|---|---|---|---|---|---|---|---|---|---|---|---|---|---|---|---|---|---|---|---|---|---|\n",
       "| 676 | 22 | 1 | 16 | 6 | 18 | 6 | 34 | 14 | 16 | 25 | ⋯ | 8 | 21 | 25 | 22 | 14 | 29 | 26 | 22 | 21 | 13 |\n",
       "\n"
      ],
      "text/plain": [
       "    SRR1068977 SRR1068999 SRR1070208 SRR1071084 SRR1071905 SRR1074860\n",
       "676 22         1          16         6          18         6         \n",
       "    SRR1075484 SRR1076219 SRR1076441 SRR1077139 ⋯ SRR660283 SRR662306 SRR662378\n",
       "676 34         14         16         25         ⋯ 8         21        25       \n",
       "    SRR662811 SRR808428 SRR811285 SRR812198 SRR815208 SRR820571 SRR821498\n",
       "676 22        14        29        26        22        21        13       "
      ]
     },
     "metadata": {},
     "output_type": "display_data"
    }
   ],
   "source": [
    "inc.counts <- inc.counts[,colnames(inc.counts) %in% meta.data$SRR]\n",
    "dim(inc.counts)\n",
    "head(inc.counts,1)"
   ]
  },
  {
   "cell_type": "code",
   "execution_count": 65,
   "metadata": {},
   "outputs": [
    {
     "data": {
      "text/html": [
       "<style>\n",
       ".list-inline {list-style: none; margin:0; padding: 0}\n",
       ".list-inline>li {display: inline-block}\n",
       ".list-inline>li:not(:last-child)::after {content: \"\\00b7\"; padding: 0 .5ex}\n",
       "</style>\n",
       "<ol class=list-inline><li>146</li><li>173</li></ol>\n"
      ],
      "text/latex": [
       "\\begin{enumerate*}\n",
       "\\item 146\n",
       "\\item 173\n",
       "\\end{enumerate*}\n"
      ],
      "text/markdown": [
       "1. 146\n",
       "2. 173\n",
       "\n",
       "\n"
      ],
      "text/plain": [
       "[1] 146 173"
      ]
     },
     "metadata": {},
     "output_type": "display_data"
    },
    {
     "data": {
      "text/html": [
       "<table>\n",
       "<caption>A data.frame: 1 × 173</caption>\n",
       "<thead>\n",
       "\t<tr><th></th><th scope=col>SRR1068977</th><th scope=col>SRR1068999</th><th scope=col>SRR1070208</th><th scope=col>SRR1071084</th><th scope=col>SRR1071905</th><th scope=col>SRR1074860</th><th scope=col>SRR1075484</th><th scope=col>SRR1076219</th><th scope=col>SRR1076441</th><th scope=col>SRR1077139</th><th scope=col>⋯</th><th scope=col>SRR660283</th><th scope=col>SRR662306</th><th scope=col>SRR662378</th><th scope=col>SRR662811</th><th scope=col>SRR808428</th><th scope=col>SRR811285</th><th scope=col>SRR812198</th><th scope=col>SRR815208</th><th scope=col>SRR820571</th><th scope=col>SRR821498</th></tr>\n",
       "\t<tr><th></th><th scope=col>&lt;int&gt;</th><th scope=col>&lt;int&gt;</th><th scope=col>&lt;int&gt;</th><th scope=col>&lt;int&gt;</th><th scope=col>&lt;int&gt;</th><th scope=col>&lt;int&gt;</th><th scope=col>&lt;int&gt;</th><th scope=col>&lt;int&gt;</th><th scope=col>&lt;int&gt;</th><th scope=col>&lt;int&gt;</th><th scope=col>⋯</th><th scope=col>&lt;int&gt;</th><th scope=col>&lt;int&gt;</th><th scope=col>&lt;int&gt;</th><th scope=col>&lt;int&gt;</th><th scope=col>&lt;int&gt;</th><th scope=col>&lt;int&gt;</th><th scope=col>&lt;int&gt;</th><th scope=col>&lt;int&gt;</th><th scope=col>&lt;int&gt;</th><th scope=col>&lt;int&gt;</th></tr>\n",
       "</thead>\n",
       "<tbody>\n",
       "\t<tr><th scope=row>676</th><td>292</td><td>616</td><td>320</td><td>195</td><td>399</td><td>285</td><td>83</td><td>515</td><td>1026</td><td>139</td><td>⋯</td><td>30</td><td>728</td><td>261</td><td>314</td><td>89</td><td>270</td><td>364</td><td>108</td><td>198</td><td>185</td></tr>\n",
       "</tbody>\n",
       "</table>\n"
      ],
      "text/latex": [
       "A data.frame: 1 × 173\n",
       "\\begin{tabular}{r|lllllllllllllllllllll}\n",
       "  & SRR1068977 & SRR1068999 & SRR1070208 & SRR1071084 & SRR1071905 & SRR1074860 & SRR1075484 & SRR1076219 & SRR1076441 & SRR1077139 & ⋯ & SRR660283 & SRR662306 & SRR662378 & SRR662811 & SRR808428 & SRR811285 & SRR812198 & SRR815208 & SRR820571 & SRR821498\\\\\n",
       "  & <int> & <int> & <int> & <int> & <int> & <int> & <int> & <int> & <int> & <int> & ⋯ & <int> & <int> & <int> & <int> & <int> & <int> & <int> & <int> & <int> & <int>\\\\\n",
       "\\hline\n",
       "\t676 & 292 & 616 & 320 & 195 & 399 & 285 & 83 & 515 & 1026 & 139 & ⋯ & 30 & 728 & 261 & 314 & 89 & 270 & 364 & 108 & 198 & 185\\\\\n",
       "\\end{tabular}\n"
      ],
      "text/markdown": [
       "\n",
       "A data.frame: 1 × 173\n",
       "\n",
       "| <!--/--> | SRR1068977 &lt;int&gt; | SRR1068999 &lt;int&gt; | SRR1070208 &lt;int&gt; | SRR1071084 &lt;int&gt; | SRR1071905 &lt;int&gt; | SRR1074860 &lt;int&gt; | SRR1075484 &lt;int&gt; | SRR1076219 &lt;int&gt; | SRR1076441 &lt;int&gt; | SRR1077139 &lt;int&gt; | ⋯ ⋯ | SRR660283 &lt;int&gt; | SRR662306 &lt;int&gt; | SRR662378 &lt;int&gt; | SRR662811 &lt;int&gt; | SRR808428 &lt;int&gt; | SRR811285 &lt;int&gt; | SRR812198 &lt;int&gt; | SRR815208 &lt;int&gt; | SRR820571 &lt;int&gt; | SRR821498 &lt;int&gt; |\n",
       "|---|---|---|---|---|---|---|---|---|---|---|---|---|---|---|---|---|---|---|---|---|---|\n",
       "| 676 | 292 | 616 | 320 | 195 | 399 | 285 | 83 | 515 | 1026 | 139 | ⋯ | 30 | 728 | 261 | 314 | 89 | 270 | 364 | 108 | 198 | 185 |\n",
       "\n"
      ],
      "text/plain": [
       "    SRR1068977 SRR1068999 SRR1070208 SRR1071084 SRR1071905 SRR1074860\n",
       "676 292        616        320        195        399        285       \n",
       "    SRR1075484 SRR1076219 SRR1076441 SRR1077139 ⋯ SRR660283 SRR662306 SRR662378\n",
       "676 83         515        1026       139        ⋯ 30        728       261      \n",
       "    SRR662811 SRR808428 SRR811285 SRR812198 SRR815208 SRR820571 SRR821498\n",
       "676 314       89        270       364       108       198       185      "
      ]
     },
     "metadata": {},
     "output_type": "display_data"
    }
   ],
   "source": [
    "skip.counts <- skip.counts[,colnames(skip.counts) %in% meta.data$SRR]\n",
    "dim(skip.counts)\n",
    "head(skip.counts, 1)"
   ]
  },
  {
   "cell_type": "code",
   "execution_count": 66,
   "metadata": {},
   "outputs": [
    {
     "data": {
      "text/html": [
       "<style>\n",
       ".list-inline {list-style: none; margin:0; padding: 0}\n",
       ".list-inline>li {display: inline-block}\n",
       ".list-inline>li:not(:last-child)::after {content: \"\\00b7\"; padding: 0 .5ex}\n",
       "</style>\n",
       "<ol class=list-inline><li>173</li><li>68</li></ol>\n"
      ],
      "text/latex": [
       "\\begin{enumerate*}\n",
       "\\item 173\n",
       "\\item 68\n",
       "\\end{enumerate*}\n"
      ],
      "text/markdown": [
       "1. 173\n",
       "2. 68\n",
       "\n",
       "\n"
      ],
      "text/plain": [
       "[1] 173  68"
      ]
     },
     "metadata": {},
     "output_type": "display_data"
    },
    {
     "data": {
      "text/html": [
       "<table>\n",
       "<caption>A tibble: 1 × 68</caption>\n",
       "<thead>\n",
       "\t<tr><th scope=col>SAMPID</th><th scope=col>SMATSSCR</th><th scope=col>SMCENTER</th><th scope=col>SMPTHNTS</th><th scope=col>SMRIN</th><th scope=col>SMTS</th><th scope=col>SMTSD</th><th scope=col>SMUBRID</th><th scope=col>SMTSISCH</th><th scope=col>SMTSPAX</th><th scope=col>⋯</th><th scope=col>SMRRNART</th><th scope=col>SME1MPRT</th><th scope=col>SMNUM5CD</th><th scope=col>SMDPMPRT</th><th scope=col>SME2PCTS</th><th scope=col>SUBJID</th><th scope=col>SEX</th><th scope=col>AGE</th><th scope=col>DTHHRDY</th><th scope=col>SRR</th></tr>\n",
       "\t<tr><th scope=col>&lt;chr&gt;</th><th scope=col>&lt;chr&gt;</th><th scope=col>&lt;chr&gt;</th><th scope=col>&lt;chr&gt;</th><th scope=col>&lt;dbl&gt;</th><th scope=col>&lt;chr&gt;</th><th scope=col>&lt;chr&gt;</th><th scope=col>&lt;chr&gt;</th><th scope=col>&lt;dbl&gt;</th><th scope=col>&lt;dbl&gt;</th><th scope=col>⋯</th><th scope=col>&lt;dbl&gt;</th><th scope=col>&lt;dbl&gt;</th><th scope=col>&lt;lgl&gt;</th><th scope=col>&lt;dbl&gt;</th><th scope=col>&lt;dbl&gt;</th><th scope=col>&lt;chr&gt;</th><th scope=col>&lt;dbl&gt;</th><th scope=col>&lt;chr&gt;</th><th scope=col>&lt;dbl&gt;</th><th scope=col>&lt;chr&gt;</th></tr>\n",
       "</thead>\n",
       "<tbody>\n",
       "\t<tr><td>GTEX.S4Q7.1126.SM.4AD6R</td><td>0</td><td>B1</td><td>2 aliquots</td><td>6.9</td><td>Breast</td><td>Breast - Mammary Tissue</td><td>8367</td><td>178</td><td>395</td><td>⋯</td><td>0.00513003</td><td>0.995356</td><td>NA</td><td>0</td><td>50.1072</td><td>GTEX-S4Q7</td><td>1</td><td>20-29</td><td>0</td><td>SRR1100893</td></tr>\n",
       "</tbody>\n",
       "</table>\n"
      ],
      "text/latex": [
       "A tibble: 1 × 68\n",
       "\\begin{tabular}{lllllllllllllllllllll}\n",
       " SAMPID & SMATSSCR & SMCENTER & SMPTHNTS & SMRIN & SMTS & SMTSD & SMUBRID & SMTSISCH & SMTSPAX & ⋯ & SMRRNART & SME1MPRT & SMNUM5CD & SMDPMPRT & SME2PCTS & SUBJID & SEX & AGE & DTHHRDY & SRR\\\\\n",
       " <chr> & <chr> & <chr> & <chr> & <dbl> & <chr> & <chr> & <chr> & <dbl> & <dbl> & ⋯ & <dbl> & <dbl> & <lgl> & <dbl> & <dbl> & <chr> & <dbl> & <chr> & <dbl> & <chr>\\\\\n",
       "\\hline\n",
       "\t GTEX.S4Q7.1126.SM.4AD6R & 0 & B1 & 2 aliquots & 6.9 & Breast & Breast - Mammary Tissue & 8367 & 178 & 395 & ⋯ & 0.00513003 & 0.995356 & NA & 0 & 50.1072 & GTEX-S4Q7 & 1 & 20-29 & 0 & SRR1100893\\\\\n",
       "\\end{tabular}\n"
      ],
      "text/markdown": [
       "\n",
       "A tibble: 1 × 68\n",
       "\n",
       "| SAMPID &lt;chr&gt; | SMATSSCR &lt;chr&gt; | SMCENTER &lt;chr&gt; | SMPTHNTS &lt;chr&gt; | SMRIN &lt;dbl&gt; | SMTS &lt;chr&gt; | SMTSD &lt;chr&gt; | SMUBRID &lt;chr&gt; | SMTSISCH &lt;dbl&gt; | SMTSPAX &lt;dbl&gt; | ⋯ ⋯ | SMRRNART &lt;dbl&gt; | SME1MPRT &lt;dbl&gt; | SMNUM5CD &lt;lgl&gt; | SMDPMPRT &lt;dbl&gt; | SME2PCTS &lt;dbl&gt; | SUBJID &lt;chr&gt; | SEX &lt;dbl&gt; | AGE &lt;chr&gt; | DTHHRDY &lt;dbl&gt; | SRR &lt;chr&gt; |\n",
       "|---|---|---|---|---|---|---|---|---|---|---|---|---|---|---|---|---|---|---|---|---|\n",
       "| GTEX.S4Q7.1126.SM.4AD6R | 0 | B1 | 2 aliquots | 6.9 | Breast | Breast - Mammary Tissue | 8367 | 178 | 395 | ⋯ | 0.00513003 | 0.995356 | NA | 0 | 50.1072 | GTEX-S4Q7 | 1 | 20-29 | 0 | SRR1100893 |\n",
       "\n"
      ],
      "text/plain": [
       "  SAMPID                  SMATSSCR SMCENTER SMPTHNTS   SMRIN SMTS  \n",
       "1 GTEX.S4Q7.1126.SM.4AD6R 0        B1       2 aliquots 6.9   Breast\n",
       "  SMTSD                   SMUBRID SMTSISCH SMTSPAX ⋯ SMRRNART   SME1MPRT\n",
       "1 Breast - Mammary Tissue 8367    178      395     ⋯ 0.00513003 0.995356\n",
       "  SMNUM5CD SMDPMPRT SME2PCTS SUBJID    SEX AGE   DTHHRDY SRR       \n",
       "1 NA       0        50.1072  GTEX-S4Q7 1   20-29 0       SRR1100893"
      ]
     },
     "metadata": {},
     "output_type": "display_data"
    }
   ],
   "source": [
    "meta.data <- meta.data[meta.data$SRR %in% colnames(inc.counts),]\n",
    "dim(meta.data)\n",
    "head(meta.data, 1)"
   ]
  },
  {
   "cell_type": "code",
   "execution_count": 67,
   "metadata": {},
   "outputs": [
    {
     "data": {
      "text/html": [
       "<style>\n",
       ".list-inline {list-style: none; margin:0; padding: 0}\n",
       ".list-inline>li {display: inline-block}\n",
       ".list-inline>li:not(:last-child)::after {content: \"\\00b7\"; padding: 0 .5ex}\n",
       "</style>\n",
       "<ol class=list-inline><li>'Name'</li><li>'Description'</li><li>'GTEX.1117F.0226.SM.5GZZ7'</li><li>'GTEX.111CU.1826.SM.5GZYN'</li></ol>\n"
      ],
      "text/latex": [
       "\\begin{enumerate*}\n",
       "\\item 'Name'\n",
       "\\item 'Description'\n",
       "\\item 'GTEX.1117F.0226.SM.5GZZ7'\n",
       "\\item 'GTEX.111CU.1826.SM.5GZYN'\n",
       "\\end{enumerate*}\n"
      ],
      "text/markdown": [
       "1. 'Name'\n",
       "2. 'Description'\n",
       "3. 'GTEX.1117F.0226.SM.5GZZ7'\n",
       "4. 'GTEX.111CU.1826.SM.5GZYN'\n",
       "\n",
       "\n"
      ],
      "text/plain": [
       "[1] \"Name\"                     \"Description\"             \n",
       "[3] \"GTEX.1117F.0226.SM.5GZZ7\" \"GTEX.111CU.1826.SM.5GZYN\""
      ]
     },
     "metadata": {},
     "output_type": "display_data"
    }
   ],
   "source": [
    "colnames.expression.mat[1:4]"
   ]
  },
  {
   "cell_type": "code",
   "execution_count": 68,
   "metadata": {},
   "outputs": [
    {
     "data": {
      "text/html": [
       "<style>\n",
       ".list-inline {list-style: none; margin:0; padding: 0}\n",
       ".list-inline>li {display: inline-block}\n",
       ".list-inline>li:not(:last-child)::after {content: \"\\00b7\"; padding: 0 .5ex}\n",
       "</style>\n",
       "<ol class=list-inline><li>1</li><li>11690</li></ol>\n"
      ],
      "text/latex": [
       "\\begin{enumerate*}\n",
       "\\item 1\n",
       "\\item 11690\n",
       "\\end{enumerate*}\n"
      ],
      "text/markdown": [
       "1. 1\n",
       "2. 11690\n",
       "\n",
       "\n"
      ],
      "text/plain": [
       "[1]     1 11690"
      ]
     },
     "metadata": {},
     "output_type": "display_data"
    },
    {
     "data": {
      "text/html": [
       "<table>\n",
       "<caption>A data.frame: 1 × 11690</caption>\n",
       "<thead>\n",
       "\t<tr><th></th><th scope=col>Name</th><th scope=col>Description</th><th scope=col>GTEX.1117F.0226.SM.5GZZ7</th><th scope=col>GTEX.111CU.1826.SM.5GZYN</th><th scope=col>GTEX.111FC.0226.SM.5N9B8</th><th scope=col>GTEX.111VG.2326.SM.5N9BK</th><th scope=col>GTEX.111YS.2426.SM.5GZZQ</th><th scope=col>GTEX.1122O.2026.SM.5NQ91</th><th scope=col>GTEX.1128S.2126.SM.5H12U</th><th scope=col>GTEX.113IC.0226.SM.5HL5C</th><th scope=col>⋯</th><th scope=col>GTEX.ZVE2.0006.SM.51MRW</th><th scope=col>GTEX.ZVP2.0005.SM.51MRK</th><th scope=col>GTEX.ZVT2.0005.SM.57WBW</th><th scope=col>GTEX.ZVT3.0006.SM.51MT9</th><th scope=col>GTEX.ZVT4.0006.SM.57WB8</th><th scope=col>GTEX.ZVTK.0006.SM.57WBK</th><th scope=col>GTEX.ZVZP.0006.SM.51MSW</th><th scope=col>GTEX.ZVZQ.0006.SM.51MR8</th><th scope=col>GTEX.ZXES.0005.SM.57WCB</th><th scope=col>GTEX.ZXG5.0005.SM.57WCN</th></tr>\n",
       "\t<tr><th></th><th scope=col>&lt;fct&gt;</th><th scope=col>&lt;fct&gt;</th><th scope=col>&lt;dbl&gt;</th><th scope=col>&lt;dbl&gt;</th><th scope=col>&lt;dbl&gt;</th><th scope=col>&lt;dbl&gt;</th><th scope=col>&lt;int&gt;</th><th scope=col>&lt;dbl&gt;</th><th scope=col>&lt;dbl&gt;</th><th scope=col>&lt;dbl&gt;</th><th scope=col>⋯</th><th scope=col>&lt;dbl&gt;</th><th scope=col>&lt;dbl&gt;</th><th scope=col>&lt;dbl&gt;</th><th scope=col>&lt;int&gt;</th><th scope=col>&lt;dbl&gt;</th><th scope=col>&lt;dbl&gt;</th><th scope=col>&lt;dbl&gt;</th><th scope=col>&lt;dbl&gt;</th><th scope=col>&lt;dbl&gt;</th><th scope=col>&lt;dbl&gt;</th></tr>\n",
       "</thead>\n",
       "<tbody>\n",
       "\t<tr><th scope=row>1</th><td>ENSG00000223972.4</td><td>DDX11L1</td><td>0.1082</td><td>0.1158</td><td>0.02104</td><td>0.02329</td><td>0</td><td>0.04641</td><td>0.03076</td><td>0.09358</td><td>⋯</td><td>0.09012</td><td>0.1462</td><td>0.1045</td><td>0</td><td>0.6603</td><td>0.695</td><td>0.1213</td><td>0.4169</td><td>0.2355</td><td>0.145</td></tr>\n",
       "</tbody>\n",
       "</table>\n"
      ],
      "text/latex": [
       "A data.frame: 1 × 11690\n",
       "\\begin{tabular}{r|lllllllllllllllllllll}\n",
       "  & Name & Description & GTEX.1117F.0226.SM.5GZZ7 & GTEX.111CU.1826.SM.5GZYN & GTEX.111FC.0226.SM.5N9B8 & GTEX.111VG.2326.SM.5N9BK & GTEX.111YS.2426.SM.5GZZQ & GTEX.1122O.2026.SM.5NQ91 & GTEX.1128S.2126.SM.5H12U & GTEX.113IC.0226.SM.5HL5C & ⋯ & GTEX.ZVE2.0006.SM.51MRW & GTEX.ZVP2.0005.SM.51MRK & GTEX.ZVT2.0005.SM.57WBW & GTEX.ZVT3.0006.SM.51MT9 & GTEX.ZVT4.0006.SM.57WB8 & GTEX.ZVTK.0006.SM.57WBK & GTEX.ZVZP.0006.SM.51MSW & GTEX.ZVZQ.0006.SM.51MR8 & GTEX.ZXES.0005.SM.57WCB & GTEX.ZXG5.0005.SM.57WCN\\\\\n",
       "  & <fct> & <fct> & <dbl> & <dbl> & <dbl> & <dbl> & <int> & <dbl> & <dbl> & <dbl> & ⋯ & <dbl> & <dbl> & <dbl> & <int> & <dbl> & <dbl> & <dbl> & <dbl> & <dbl> & <dbl>\\\\\n",
       "\\hline\n",
       "\t1 & ENSG00000223972.4 & DDX11L1 & 0.1082 & 0.1158 & 0.02104 & 0.02329 & 0 & 0.04641 & 0.03076 & 0.09358 & ⋯ & 0.09012 & 0.1462 & 0.1045 & 0 & 0.6603 & 0.695 & 0.1213 & 0.4169 & 0.2355 & 0.145\\\\\n",
       "\\end{tabular}\n"
      ],
      "text/markdown": [
       "\n",
       "A data.frame: 1 × 11690\n",
       "\n",
       "| <!--/--> | Name &lt;fct&gt; | Description &lt;fct&gt; | GTEX.1117F.0226.SM.5GZZ7 &lt;dbl&gt; | GTEX.111CU.1826.SM.5GZYN &lt;dbl&gt; | GTEX.111FC.0226.SM.5N9B8 &lt;dbl&gt; | GTEX.111VG.2326.SM.5N9BK &lt;dbl&gt; | GTEX.111YS.2426.SM.5GZZQ &lt;int&gt; | GTEX.1122O.2026.SM.5NQ91 &lt;dbl&gt; | GTEX.1128S.2126.SM.5H12U &lt;dbl&gt; | GTEX.113IC.0226.SM.5HL5C &lt;dbl&gt; | ⋯ ⋯ | GTEX.ZVE2.0006.SM.51MRW &lt;dbl&gt; | GTEX.ZVP2.0005.SM.51MRK &lt;dbl&gt; | GTEX.ZVT2.0005.SM.57WBW &lt;dbl&gt; | GTEX.ZVT3.0006.SM.51MT9 &lt;int&gt; | GTEX.ZVT4.0006.SM.57WB8 &lt;dbl&gt; | GTEX.ZVTK.0006.SM.57WBK &lt;dbl&gt; | GTEX.ZVZP.0006.SM.51MSW &lt;dbl&gt; | GTEX.ZVZQ.0006.SM.51MR8 &lt;dbl&gt; | GTEX.ZXES.0005.SM.57WCB &lt;dbl&gt; | GTEX.ZXG5.0005.SM.57WCN &lt;dbl&gt; |\n",
       "|---|---|---|---|---|---|---|---|---|---|---|---|---|---|---|---|---|---|---|---|---|---|\n",
       "| 1 | ENSG00000223972.4 | DDX11L1 | 0.1082 | 0.1158 | 0.02104 | 0.02329 | 0 | 0.04641 | 0.03076 | 0.09358 | ⋯ | 0.09012 | 0.1462 | 0.1045 | 0 | 0.6603 | 0.695 | 0.1213 | 0.4169 | 0.2355 | 0.145 |\n",
       "\n"
      ],
      "text/plain": [
       "  Name              Description GTEX.1117F.0226.SM.5GZZ7\n",
       "1 ENSG00000223972.4 DDX11L1     0.1082                  \n",
       "  GTEX.111CU.1826.SM.5GZYN GTEX.111FC.0226.SM.5N9B8 GTEX.111VG.2326.SM.5N9BK\n",
       "1 0.1158                   0.02104                  0.02329                 \n",
       "  GTEX.111YS.2426.SM.5GZZQ GTEX.1122O.2026.SM.5NQ91 GTEX.1128S.2126.SM.5H12U\n",
       "1 0                        0.04641                  0.03076                 \n",
       "  GTEX.113IC.0226.SM.5HL5C ⋯ GTEX.ZVE2.0006.SM.51MRW GTEX.ZVP2.0005.SM.51MRK\n",
       "1 0.09358                  ⋯ 0.09012                 0.1462                 \n",
       "  GTEX.ZVT2.0005.SM.57WBW GTEX.ZVT3.0006.SM.51MT9 GTEX.ZVT4.0006.SM.57WB8\n",
       "1 0.1045                  0                       0.6603                 \n",
       "  GTEX.ZVTK.0006.SM.57WBK GTEX.ZVZP.0006.SM.51MSW GTEX.ZVZQ.0006.SM.51MR8\n",
       "1 0.695                   0.1213                  0.4169                 \n",
       "  GTEX.ZXES.0005.SM.57WCB GTEX.ZXG5.0005.SM.57WCN\n",
       "1 0.2355                  0.145                  "
      ]
     },
     "metadata": {},
     "output_type": "display_data"
    }
   ],
   "source": [
    "dim(expression.mat)\n",
    "head(expression.mat, 1)"
   ]
  },
  {
   "cell_type": "code",
   "execution_count": 69,
   "metadata": {},
   "outputs": [
    {
     "data": {
      "text/html": [
       "'Breast - Mammary Tissue'"
      ],
      "text/latex": [
       "'Breast - Mammary Tissue'"
      ],
      "text/markdown": [
       "'Breast - Mammary Tissue'"
      ],
      "text/plain": [
       "[1] \"Breast - Mammary Tissue\""
      ]
     },
     "metadata": {},
     "output_type": "display_data"
    }
   ],
   "source": [
    "tissue <- unique(meta.data$SMTSD [ meta.data$SMTSD == tissue])\n",
    "tissue"
   ]
  },
  {
   "cell_type": "code",
   "execution_count": 70,
   "metadata": {},
   "outputs": [],
   "source": [
    "col.in.tissue<-c()\n",
    "for (col in colnames.expression.mat)\n",
    "  \n",
    "  col.in.tissue<-c(col.in.tissue, (col %in% meta.data$SAMPID) && (meta.data$SMTSD[which(meta.data$SAMPID==col)] %in% tissue) && (meta.data$SUBJID[which(meta.data$SAMPID==col)]!='GTEX-11ILO'))"
   ]
  },
  {
   "cell_type": "code",
   "execution_count": 71,
   "metadata": {},
   "outputs": [
    {
     "data": {
      "text/html": [
       "11690"
      ],
      "text/latex": [
       "11690"
      ],
      "text/markdown": [
       "11690"
      ],
      "text/plain": [
       "[1] 11690"
      ]
     },
     "metadata": {},
     "output_type": "display_data"
    },
    {
     "data": {
      "text/plain": [
       "col.in.tissue\n",
       "FALSE  TRUE \n",
       "11517   173 "
      ]
     },
     "metadata": {},
     "output_type": "display_data"
    }
   ],
   "source": [
    "length(col.in.tissue)\n",
    "table(col.in.tissue)"
   ]
  },
  {
   "cell_type": "code",
   "execution_count": 72,
   "metadata": {},
   "outputs": [
    {
     "data": {
      "text/html": [
       "11690"
      ],
      "text/latex": [
       "11690"
      ],
      "text/markdown": [
       "11690"
      ],
      "text/plain": [
       "[1] 11690"
      ]
     },
     "metadata": {},
     "output_type": "display_data"
    },
    {
     "data": {
      "text/html": [
       "11690"
      ],
      "text/latex": [
       "11690"
      ],
      "text/markdown": [
       "11690"
      ],
      "text/plain": [
       "[1] 11690"
      ]
     },
     "metadata": {},
     "output_type": "display_data"
    },
    {
     "data": {
      "text/html": [
       "<style>\n",
       ".list-inline {list-style: none; margin:0; padding: 0}\n",
       ".list-inline>li {display: inline-block}\n",
       ".list-inline>li:not(:last-child)::after {content: \"\\00b7\"; padding: 0 .5ex}\n",
       "</style>\n",
       "<ol class=list-inline><li>FALSE</li><li>FALSE</li><li>FALSE</li></ol>\n"
      ],
      "text/latex": [
       "\\begin{enumerate*}\n",
       "\\item FALSE\n",
       "\\item FALSE\n",
       "\\item FALSE\n",
       "\\end{enumerate*}\n"
      ],
      "text/markdown": [
       "1. FALSE\n",
       "2. FALSE\n",
       "3. FALSE\n",
       "\n",
       "\n"
      ],
      "text/plain": [
       "[1] FALSE FALSE FALSE"
      ]
     },
     "metadata": {},
     "output_type": "display_data"
    }
   ],
   "source": [
    "length(colnames.expression.mat)\n",
    "length(col.in.tissue)\n",
    "\n",
    "col.in.tissue[1:3]"
   ]
  },
  {
   "cell_type": "code",
   "execution_count": 79,
   "metadata": {},
   "outputs": [],
   "source": [
    "# colClasses is used to skip columns\n",
    "expression.mat <-read.table(expression.file.name, \n",
    "                            sep= \"\\t\",\n",
    "                            header = T,\n",
    "                            skip = 2, \n",
    "                            colClasses = ifelse(col.in.tissue, \"numeric\", \"NULL\"))"
   ]
  },
  {
   "cell_type": "code",
   "execution_count": 80,
   "metadata": {},
   "outputs": [
    {
     "data": {
      "text/html": [
       "11690"
      ],
      "text/latex": [
       "11690"
      ],
      "text/markdown": [
       "11690"
      ],
      "text/plain": [
       "[1] 11690"
      ]
     },
     "metadata": {},
     "output_type": "display_data"
    }
   ],
   "source": [
    "length(col.in.tissue)"
   ]
  },
  {
   "cell_type": "markdown",
   "metadata": {},
   "source": [
    "## Read gene names:"
   ]
  },
  {
   "cell_type": "code",
   "execution_count": 81,
   "metadata": {},
   "outputs": [
    {
     "data": {
      "text/html": [
       "<style>\n",
       ".list-inline {list-style: none; margin:0; padding: 0}\n",
       ".list-inline>li {display: inline-block}\n",
       ".list-inline>li:not(:last-child)::after {content: \"\\00b7\"; padding: 0 .5ex}\n",
       "</style>\n",
       "<ol class=list-inline><li>56202</li><li>173</li></ol>\n"
      ],
      "text/latex": [
       "\\begin{enumerate*}\n",
       "\\item 56202\n",
       "\\item 173\n",
       "\\end{enumerate*}\n"
      ],
      "text/markdown": [
       "1. 56202\n",
       "2. 173\n",
       "\n",
       "\n"
      ],
      "text/plain": [
       "[1] 56202   173"
      ]
     },
     "metadata": {},
     "output_type": "display_data"
    },
    {
     "data": {
      "text/html": [
       "<style>\n",
       ".list-inline {list-style: none; margin:0; padding: 0}\n",
       ".list-inline>li {display: inline-block}\n",
       ".list-inline>li:not(:last-child)::after {content: \"\\00b7\"; padding: 0 .5ex}\n",
       "</style>\n",
       "<ol class=list-inline><li>56202</li><li>173</li></ol>\n"
      ],
      "text/latex": [
       "\\begin{enumerate*}\n",
       "\\item 56202\n",
       "\\item 173\n",
       "\\end{enumerate*}\n"
      ],
      "text/markdown": [
       "1. 56202\n",
       "2. 173\n",
       "\n",
       "\n"
      ],
      "text/plain": [
       "[1] 56202   173"
      ]
     },
     "metadata": {},
     "output_type": "display_data"
    }
   ],
   "source": [
    "dim(expression.mat)\n",
    "expression.mat <- expression.mat[,order(match(colnames(expression.mat),meta.data$SAMPID))]\n",
    "dim(expression.mat)"
   ]
  },
  {
   "cell_type": "code",
   "execution_count": 82,
   "metadata": {},
   "outputs": [],
   "source": [
    "inc.counts     <- inc.counts[,order(match(colnames(inc.counts),meta.data$SRR))]"
   ]
  },
  {
   "cell_type": "code",
   "execution_count": 83,
   "metadata": {},
   "outputs": [],
   "source": [
    "skip.counts    <- skip.counts[,order(match(colnames(skip.counts),meta.data$SRR))]"
   ]
  },
  {
   "cell_type": "code",
   "execution_count": 84,
   "metadata": {},
   "outputs": [],
   "source": [
    "all.genes      <- read.table(expression.file.name,sep=\"\\t\",header=T,skip=2,colClasses = c(rep(\"character\", 2), rep(\"NULL\", total.samples-2)))"
   ]
  },
  {
   "cell_type": "code",
   "execution_count": 85,
   "metadata": {},
   "outputs": [],
   "source": [
    "expression.mat <- expression.mat[!duplicated(all.genes$Description),]"
   ]
  },
  {
   "cell_type": "code",
   "execution_count": 86,
   "metadata": {},
   "outputs": [],
   "source": [
    "all.genes      <- all.genes[!duplicated(all.genes$Description),]"
   ]
  },
  {
   "cell_type": "code",
   "execution_count": 87,
   "metadata": {},
   "outputs": [],
   "source": [
    "skip.counts    <- skip.counts[merged.table$geneSymbol %in% all.genes$Description,]"
   ]
  },
  {
   "cell_type": "code",
   "execution_count": 88,
   "metadata": {},
   "outputs": [],
   "source": [
    "inc.counts     <- inc.counts[merged.table$geneSymbol %in% all.genes$Description,]"
   ]
  },
  {
   "cell_type": "code",
   "execution_count": 89,
   "metadata": {},
   "outputs": [],
   "source": [
    "merged.table   <- merged.table[merged.table$geneSymbol %in% all.genes$Description,]"
   ]
  },
  {
   "cell_type": "code",
   "execution_count": 90,
   "metadata": {},
   "outputs": [],
   "source": [
    "gene.names     <- unique(merged.table$geneSymbol)"
   ]
  },
  {
   "cell_type": "code",
   "execution_count": 91,
   "metadata": {},
   "outputs": [],
   "source": [
    "expression.mat <- expression.mat[all.genes$Description %in% c(as.character(rbp.table$Gene),as.character(gene.names)),]"
   ]
  },
  {
   "cell_type": "code",
   "execution_count": 92,
   "metadata": {},
   "outputs": [],
   "source": [
    "rownames.expression.mat <-all.genes$Description[all.genes$Description %in% c(as.character(rbp.table$Gene),as.character(gene.names))]"
   ]
  },
  {
   "cell_type": "code",
   "execution_count": 93,
   "metadata": {},
   "outputs": [],
   "source": [
    "expression.mat <-expression.mat[!duplicated(rownames.expression.mat),]"
   ]
  },
  {
   "cell_type": "code",
   "execution_count": 94,
   "metadata": {},
   "outputs": [],
   "source": [
    "rownames.expression.mat <-rownames.expression.mat[!duplicated(rownames.expression.mat)]"
   ]
  },
  {
   "cell_type": "markdown",
   "metadata": {},
   "source": [
    "## Prepare expression of genes and RBPS:"
   ]
  },
  {
   "cell_type": "code",
   "execution_count": 95,
   "metadata": {},
   "outputs": [
    {
     "data": {
      "text/html": [
       "129"
      ],
      "text/latex": [
       "129"
      ],
      "text/markdown": [
       "129"
      ],
      "text/plain": [
       "[1] 129"
      ]
     },
     "metadata": {},
     "output_type": "display_data"
    }
   ],
   "source": [
    "num.events     <- nrow(merged.table)\n",
    "num.events"
   ]
  },
  {
   "cell_type": "code",
   "execution_count": 96,
   "metadata": {},
   "outputs": [],
   "source": [
    "event.to.gene  <- c()"
   ]
  },
  {
   "cell_type": "code",
   "execution_count": 97,
   "metadata": {},
   "outputs": [
    {
     "data": {
      "text/html": [
       "<style>\n",
       ".list-inline {list-style: none; margin:0; padding: 0}\n",
       ".list-inline>li {display: inline-block}\n",
       ".list-inline>li:not(:last-child)::after {content: \"\\00b7\"; padding: 0 .5ex}\n",
       "</style>\n",
       "<ol class=list-inline><li>110</li><li>173</li></ol>\n"
      ],
      "text/latex": [
       "\\begin{enumerate*}\n",
       "\\item 110\n",
       "\\item 173\n",
       "\\end{enumerate*}\n"
      ],
      "text/markdown": [
       "1. 110\n",
       "2. 173\n",
       "\n",
       "\n"
      ],
      "text/plain": [
       "[1] 110 173"
      ]
     },
     "metadata": {},
     "output_type": "display_data"
    }
   ],
   "source": [
    "gexp           <- expression.mat[rownames.expression.mat %in% gene.names,]\n",
    "dim(gexp)"
   ]
  },
  {
   "cell_type": "code",
   "execution_count": 98,
   "metadata": {},
   "outputs": [],
   "source": [
    "rownames(gexp) <- rownames.expression.mat[rownames.expression.mat %in% gene.names]"
   ]
  },
  {
   "cell_type": "code",
   "execution_count": 99,
   "metadata": {},
   "outputs": [],
   "source": [
    "gexp           <- gexp[order(match(rownames(gexp),gene.names)),]"
   ]
  },
  {
   "cell_type": "code",
   "execution_count": 100,
   "metadata": {},
   "outputs": [],
   "source": [
    "gexp           <- log2(gexp+0.5)"
   ]
  },
  {
   "cell_type": "code",
   "execution_count": 101,
   "metadata": {},
   "outputs": [],
   "source": [
    "gexp           <- gexp-rowMeans(gexp)"
   ]
  },
  {
   "cell_type": "code",
   "execution_count": 102,
   "metadata": {},
   "outputs": [],
   "source": [
    "gexp[apply(gexp,1,sd)>0,] <- gexp[apply(gexp,1,sd)>0,]/apply(gexp[apply(gexp,1,sd)>0,],1,sd)"
   ]
  },
  {
   "cell_type": "code",
   "execution_count": 103,
   "metadata": {},
   "outputs": [],
   "source": [
    "rexp           <- expression.mat[rownames.expression.mat %in% rbp.table$Gene,]"
   ]
  },
  {
   "cell_type": "code",
   "execution_count": 104,
   "metadata": {},
   "outputs": [],
   "source": [
    "rownames(rexp) <- rownames.expression.mat[rownames.expression.mat %in% rbp.table$Gene]"
   ]
  },
  {
   "cell_type": "code",
   "execution_count": 105,
   "metadata": {},
   "outputs": [],
   "source": [
    "rexp           <- rexp[order(match(rownames(rexp),rbp.table$Gene)),]"
   ]
  },
  {
   "cell_type": "code",
   "execution_count": 106,
   "metadata": {},
   "outputs": [],
   "source": [
    "rexp           <- log2(rexp+0.5)"
   ]
  },
  {
   "cell_type": "code",
   "execution_count": 107,
   "metadata": {},
   "outputs": [],
   "source": [
    "rexp           <- rexp-rowMeans(rexp)"
   ]
  },
  {
   "cell_type": "code",
   "execution_count": 108,
   "metadata": {},
   "outputs": [],
   "source": [
    "rexp           <- rexp/apply(rexp,1,function(v){ifelse(sum(v==v[1])<length(v),sd(v),1)})"
   ]
  },
  {
   "cell_type": "code",
   "execution_count": 110,
   "metadata": {},
   "outputs": [],
   "source": [
    "for (i in (1:num.events))\n",
    "  event.to.gene<-c(event.to.gene,which(unique(merged.table$geneSymbol)==merged.table[i,\"geneSymbol\"]))\n",
    "sex<-ifelse(meta.data$SEX==1,1,0)"
   ]
  },
  {
   "cell_type": "code",
   "execution_count": 112,
   "metadata": {},
   "outputs": [
    {
     "data": {
      "text/html": [
       "<style>\n",
       ".list-inline {list-style: none; margin:0; padding: 0}\n",
       ".list-inline>li {display: inline-block}\n",
       ".list-inline>li:not(:last-child)::after {content: \"\\00b7\"; padding: 0 .5ex}\n",
       "</style>\n",
       "<ol class=list-inline><li>1</li><li>1</li><li>1</li><li>1</li></ol>\n"
      ],
      "text/latex": [
       "\\begin{enumerate*}\n",
       "\\item 1\n",
       "\\item 1\n",
       "\\item 1\n",
       "\\item 1\n",
       "\\end{enumerate*}\n"
      ],
      "text/markdown": [
       "1. 1\n",
       "2. 1\n",
       "3. 1\n",
       "4. 1\n",
       "\n",
       "\n"
      ],
      "text/plain": [
       "[1] 1 1 1 1"
      ]
     },
     "metadata": {},
     "output_type": "display_data"
    },
    {
     "data": {
      "text/plain": [
       "sex\n",
       "  0   1 \n",
       " 73 100 "
      ]
     },
     "metadata": {},
     "output_type": "display_data"
    }
   ],
   "source": [
    "sex[1:4]\n",
    "table(sex)"
   ]
  },
  {
   "cell_type": "code",
   "execution_count": 113,
   "metadata": {},
   "outputs": [
    {
     "data": {
      "text/plain": [
       "Time difference of 20.9262 mins"
      ]
     },
     "metadata": {},
     "output_type": "display_data"
    }
   ],
   "source": [
    "end_time <- Sys.time()\n",
    "end_time - start_time"
   ]
  },
  {
   "cell_type": "markdown",
   "metadata": {},
   "source": [
    "## Run stan:"
   ]
  },
  {
   "cell_type": "code",
   "execution_count": 114,
   "metadata": {},
   "outputs": [
    {
     "ename": "ERROR",
     "evalue": "Error in loadNamespace(name): there is no package called ‘rstan’\n",
     "output_type": "error",
     "traceback": [
      "Error in loadNamespace(name): there is no package called ‘rstan’\nTraceback:\n",
      "1. rstan::stan_model",
      "2. getExportedValue(pkg, name)",
      "3. asNamespace(ns)",
      "4. getNamespace(ns)",
      "5. loadNamespace(name)",
      "6. withRestarts(stop(cond), retry_loadNamespace = function() NULL)",
      "7. withOneRestart(expr, restarts[[1L]])",
      "8. doWithOneRestart(return(expr), restart)"
     ]
    }
   ],
   "source": [
    "dataList = list(\n",
    "  as = round(skip.counts) ,   #skip event counts across experiments\n",
    "  c = round(skip.counts+inc.counts)    , #total counts for event, i.e. skip+inclusion, across experiments\n",
    "  gexp = gexp, #read counts for genes (from gtex, take the raw counts) across experiments\n",
    "  rexp = rexp, #read counts for RBPs (from gtex, take the raw counts)\n",
    "  event_to_gene = event.to.gene,  #the gene index for each event (1 to the number of distinct genes) \n",
    "  Nrbp = nrow(rexp), #number of RBPs\n",
    "  Nevents = nrow(merged.table),  #most varying AS events in \n",
    "  Nexp = ncol(expression.mat),#number of experiments such that we measured each event, gene and RBP in each experiment\n",
    "  Ngenes = nrow(gexp),\n",
    "  sex=sex\n",
    ")\n",
    "\n",
    "\n",
    "modelString = \"\n",
    "data {\n",
    "int<lower=0> Nevents;\n",
    "int<lower=0> Nexp;\n",
    "int<lower=0> Nrbp;\n",
    "int<lower=0> Ngenes;\n",
    "int<lower=0> as[Nevents,Nexp] ;\n",
    "int<lower=0> c[Nevents,Nexp] ;\n",
    "matrix[Ngenes,Nexp] gexp ; \n",
    "matrix[Nrbp,Nexp] rexp ; \n",
    "int<lower=0> event_to_gene[Nevents];\n",
    "int<lower=0,upper=1> sex[Nexp];\n",
    "\n",
    "}\n",
    "\n",
    "\n",
    "parameters {\n",
    "real beta0[Nevents] ;\n",
    "real beta1[Nevents] ;\n",
    "matrix[Nevents,Nrbp] beta2 ;\n",
    "real beta3[Nevents];\n",
    "real beta4[Nrbp];\n",
    "\n",
    "}\n",
    "model {\n",
    "\n",
    "for ( i in 1:Nexp ) {  \n",
    "\n",
    "\n",
    "    for ( j in 1:Nevents ) if (c[j,i]>0) { \n",
    "\n",
    "      as[j,i] ~ binomial(c[j,i], inv_logit(beta0[j]+beta1[j]*sex[i]+dot_product(beta2[j,],rexp[,i])+beta3[j]*gexp[event_to_gene[j],i] ) );\n",
    "\n",
    "  }\n",
    "}\n",
    "\n",
    "for (k in 1:Nrbp){\n",
    "\n",
    "  for ( j in 1:Nevents ) { \n",
    "\n",
    "        beta2[j,k] ~normal(beta4[k],1);\n",
    "  }\n",
    "\n",
    "  beta4[k]~normal(0,1);\n",
    "\n",
    "}\n",
    "\n",
    "\n",
    "for ( j in 1:Nevents ) { \n",
    "\n",
    "    beta1[j] ~ normal(0,1);\n",
    "    beta0[j] ~ normal(0,1);\n",
    "    beta3[j] ~ normal(0,1);\n",
    "  }\n",
    "\n",
    "}\n",
    "\"\n",
    "\n",
    "# Start the clock!\n",
    "start_time <- Sys.time()\n",
    "\n",
    "stanDso <- rstan::stan_model( model_code=modelString ) \n",
    "stanFit <- sampling( object=stanDso , \n",
    "                    data = dataList , \n",
    "                    chains = 2 , #3\n",
    "                    iter = 80, #8000\n",
    "                    warmup = 60, #6000\n",
    "                    thin = 1,\n",
    "                    init = 0, \n",
    "                    cores = parallel::detectCores() - 2 )\n",
    "\n",
    "mcmcCoda = coda::mcmc.list( lapply( 1:ncol(stanFit) , function(x) { mcmc(as.array(stanFit)[,x,]) } ) )\n",
    "\n",
    "end_time <- Sys.time()\n",
    "end_time - start_time"
   ]
  },
  {
   "cell_type": "markdown",
   "metadata": {},
   "source": [
    "# > Inspect from here onwards\n",
    "\n",
    "- What files are needed from here to be saved?\n",
    "- Is the diagnostic plotting helpful for keeping in this notebook?"
   ]
  },
  {
   "cell_type": "code",
   "execution_count": null,
   "metadata": {},
   "outputs": [],
   "source": [
    "source(\"../dimorphAS/DBDA2Eprograms/DBDA2E-utilities.R\")"
   ]
  },
  {
   "cell_type": "markdown",
   "metadata": {},
   "source": [
    "## Initialising dataframe with columns `coef,rbp,tissue`"
   ]
  },
  {
   "cell_type": "code",
   "execution_count": null,
   "metadata": {},
   "outputs": [],
   "source": [
    "df <-data.frame(coef=NULL,rbp=NULL,tissue=NULL)"
   ]
  },
  {
   "cell_type": "markdown",
   "metadata": {},
   "source": [
    "Before running the following, use the Session menu to set working directory to source file location\n",
    "```R\n",
    "setwd(dir = \"../dimorphAS/DBDA2Eprograms/\")\n",
    "```"
   ]
  },
  {
   "cell_type": "markdown",
   "metadata": {},
   "source": [
    "Data from former analysis (submission 2017)\n",
    "```R\n",
    "load(\"../dimorphAS/figures/oldFigureDrafts/figure3b.RData\")\n",
    "```"
   ]
  },
  {
   "cell_type": "markdown",
   "metadata": {},
   "source": [
    "### This invokes X11 which is not available for all systems, and won\"t work in a NextFlow pipeline\n",
    "\n",
    "```\n",
    "diagMCMC(mcmcCoda , parName=c(\"beta2[101,87]\"))\n",
    "```"
   ]
  },
  {
   "cell_type": "code",
   "execution_count": null,
   "metadata": {},
   "outputs": [],
   "source": [
    "options(repr.plot.width=6, repr.plot.height=4)\n",
    "\n",
    "codaObject <- mcmcCoda \n",
    "parName    <- c(\"beta2[101,87]\") #varnames(codaObject)[1]\n",
    "saveName   <- NULL\n",
    "saveType   <- \"jpg\"\n",
    "\n",
    "\n",
    "DBDAplColors = c(\"skyblue\",\n",
    "               \"black\",\n",
    "               \"royalblue\",\n",
    "               \"steelblue\")\n",
    "\n",
    "#openGraph(height=5,width=7)\n",
    "    \n",
    "par(mar=0.5+c(3,4,1,0) , \n",
    "  oma=0.1+c(0,0,2,0) , \n",
    "  mgp=c(2.25,0.7,0) , \n",
    "  cex.lab=1.5 )\n",
    "    \n",
    "layout(matrix(1:4,nrow=2))\n",
    "  # traceplot and gelman.plot are from CODA package:\n",
    "require(coda)\n",
    "coda::traceplot( codaObject[,c(parName)], \n",
    "              main=\"\" , \n",
    "              ylab=\"Param. Value\" ,\n",
    "              col=DBDAplColors )"
   ]
  },
  {
   "cell_type": "code",
   "execution_count": null,
   "metadata": {},
   "outputs": [],
   "source": [
    "options(repr.plot.width=6, repr.plot.height=4)\n",
    "tryVal = try(\n",
    "coda::gelman.plot(codaObject[,c(parName)] , \n",
    "                  main=\"\",\n",
    "                  auto.layout=FALSE,\n",
    "                  col=DBDAplColors )\n",
    ")  "
   ]
  },
  {
   "cell_type": "code",
   "execution_count": null,
   "metadata": {},
   "outputs": [],
   "source": [
    "options(repr.plot.width=6, repr.plot.height=4)\n",
    "\n",
    "# if it runs, gelman.plot returns a list with finite shrink values:\n",
    "  if ( class(tryVal)==\"try-error\" ) {\n",
    "    plot.new() \n",
    "    print(paste0(\"Warning: coda::gelman.plot fails for \",parName))\n",
    "  } else { \n",
    "    if ( class(tryVal)==\"list\" & !is.finite(tryVal$shrink[1]) ) {\n",
    "      plot.new() \n",
    "      print(paste0(\"Warning: coda::gelman.plot fails for \",parName))\n",
    "    }\n",
    "  }\n",
    "  DbdaAcfPlot(codaObject,parName,plColors=DBDAplColors)\n",
    "  DbdaDensPlot(codaObject,parName,plColors=DBDAplColors)\n",
    "  mtext( text=parName , outer=TRUE , adj=c(0.5,0.5) , cex=2.0 )\n",
    "  if ( !is.null(saveName) ) {\n",
    "    saveGraph( file=paste0(saveName,\"Diag\",parName), type=saveType)\n",
    "  }\n",
    "\n"
   ]
  },
  {
   "cell_type": "code",
   "execution_count": null,
   "metadata": {},
   "outputs": [],
   "source": [
    "##Collect coefficients for RBPs whose 95% HDI does not contain 0:"
   ]
  },
  {
   "cell_type": "code",
   "execution_count": null,
   "metadata": {},
   "outputs": [],
   "source": [
    "rbp.names<-rownames(rexp)\n",
    "\n",
    "df<-data.frame(coef=NULL,rbp=NULL,tissue=NULL)\n",
    "\n",
    "hdi<-HPDinterval(mcmcCoda)  \n",
    "\n",
    "s <- summary(mcmcCoda)\n",
    "\n",
    "m <- s$statistics[,\"Mean\"]\n",
    "\n",
    "beta2.mat<-matrix(nrow=nrow(merged.table),ncol=length(rbp.names))\n",
    "\n",
    "for (rbp in (1:length(rbp.names)))\n",
    "  \n",
    "  for (event in (1:nrow(merged.table)))\n",
    "  {\n",
    "    \n",
    "    var.name<-paste0(\"beta2[\",event,\",\",rbp,\"]\")\n",
    "    \n",
    "    low<-hdi[[1]][rownames(hdi[[1]])==var.name][1]\n",
    "    \n",
    "    high<-hdi[[1]][rownames(hdi[[1]])==var.name][2]\n",
    "    \n",
    "    beta2.mat[event,rbp]<-m[grepl(paste0(\"beta2\\\\[\",event,\",\",rbp,\"\\\\]\"),names(m))]\n",
    "    \n",
    "    if (low<0 && high>0)\n",
    "      \n",
    "      beta2.mat[event,rbp]<-0\n",
    "    \n",
    "  }\n",
    "\n",
    "\n",
    "\n",
    "colnames(beta2.mat)=rbp.names\n",
    "\n",
    "for (rbp in rbp.names)\n",
    "  \n",
    "  df<-rbind(df,cbind(beta2.mat[,colnames(beta2.mat)==rbp],rep(rbp,nrow(beta2.mat)),rep(tissue,nrow(beta2.mat)))  )\n",
    "\n",
    "\n",
    "colnames(df)<-c(\"Coef\",\"RBP\",\"Tissue\")\n",
    "    \n",
    "df$Coef<-as.numeric(as.character(df$Coef))\n"
   ]
  },
  {
   "cell_type": "markdown",
   "metadata": {},
   "source": [
    "## Display a violin plot for some selected RBPs:\n",
    "\n",
    "Use the tissue.csv file -- this contains the \"Display\"\n",
    "\n",
    "```R\n",
    "labels<-read.table('/Users/karleg/Dimorph/labels.tsv',sep='\\t',header=T)\n",
    "labels$X\n",
    "labels$tissue\n",
    "```"
   ]
  },
  {
   "cell_type": "code",
   "execution_count": null,
   "metadata": {},
   "outputs": [],
   "source": [
    "df$Tissue<-as.character(df$Tissue)\n",
    "unique(df$Tissue)"
   ]
  },
  {
   "cell_type": "code",
   "execution_count": null,
   "metadata": {},
   "outputs": [],
   "source": [
    "dim(df)\n",
    "head(df,1)"
   ]
  },
  {
   "cell_type": "code",
   "execution_count": null,
   "metadata": {},
   "outputs": [],
   "source": [
    "head_df <- head(df[order(df$Coef), ], 100)\n",
    "selected_RBPs  <- unique(head_df$RBP)\n",
    "selected_RBPs"
   ]
  },
  {
   "cell_type": "code",
   "execution_count": null,
   "metadata": {},
   "outputs": [],
   "source": [
    "df$Tissue<-as.character(df$Tissue)\n",
    "\n",
    "for (i in 1:nrow(df))\n",
    "  \n",
    "  if (df$Tissue[i] %in% tissue)\n",
    "    \n",
    "    df$Tissue[i]<-as.character(labels$X[which(as.character(labels$tissue)==as.character(df$Tissue[i]))])\n",
    "\n",
    "\n"
   ]
  },
  {
   "cell_type": "code",
   "execution_count": null,
   "metadata": {},
   "outputs": [],
   "source": [
    "df<-df[df$Coef!=0,]"
   ]
  },
  {
   "cell_type": "code",
   "execution_count": null,
   "metadata": {},
   "outputs": [],
   "source": [
    "df$RBP<-as.character(df$RBP)\n",
    "\n",
    "df1<-df[df$RBP %in% c(\"RNPS1\", \"LSM2\",\"CRNKL1\", \"PPWD1\"),]\n",
    "\n",
    "pn1<-ggplot(df1,aes(factor(RBP),Coef)) + geom_violin(aes(fill=\"red\")) + scale_fill_manual(values = \"#4DBBD5FF\") \n",
    "\n",
    "pn1 <- pn1 + theme_minimal() +  theme(text = element_text(size=20),\n",
    "                                      axis.text = element_text(size=20, hjust=0.5),\n",
    "                                      axis.title.x=element_blank(),\n",
    "                                      axis.title.y = element_text(size=24),\n",
    "                                      plot.title = element_text(hjust = 0.5),\n",
    "                                      legend.position = \"none\") + ylab(\"\") + labs(title=\"\")+ylim(-2,2)+ geom_hline(yintercept=0)\n",
    "\n"
   ]
  },
  {
   "cell_type": "code",
   "execution_count": null,
   "metadata": {},
   "outputs": [],
   "source": [
    "options(repr.plot.width=8, repr.plot.height=6)\n",
    "\n",
    "pn1"
   ]
  },
  {
   "cell_type": "markdown",
   "metadata": {},
   "source": [
    "## Create barplot of the number of RBPs that tend to promote skipping, the number of RBPs that tend to promote\n",
    "inclusion and the number of RBPs whose effect is context-specific, for the two RBP groups"
   ]
  },
  {
   "cell_type": "code",
   "execution_count": null,
   "metadata": {},
   "outputs": [],
   "source": [
    "options(repr.plot.width=12, repr.plot.height=6)\n",
    "\n",
    "spliceosome_genes = as.character(rbp.table$Gene[rbp.table$S==\"TRUE\"])\n",
    "\n",
    "splice_regulation_genes = as.character(rbp.table$Gene[rbp.table$R==\"TRUE\"])\n",
    "\n",
    "for (RBP_set in list(spliceosome=spliceosome_genes,splice_regulation=splice_regulation_genes))\n",
    "{\n",
    "  sum.pos<-sort(unlist(lapply(lapply(split(df$Coef[df$RBP %in% RBP_set],df$RBP[df$RBP %in% RBP_set]),\">\",0),sum)),decreasing = T)\n",
    "  \n",
    "  sum.neg<-sort(unlist(lapply(lapply(split(df$Coef[df$RBP %in% RBP_set],df$RBP[df$RBP %in% RBP_set]),\"<\",0),sum)),decreasing = T)\n",
    "  \n",
    "  sum.pos<-sum.pos[order(names(sum.pos))]\n",
    "  \n",
    "  sum.neg<-sum.neg[order(names(sum.neg))]\n",
    "  \n",
    "  pos.rbps<-names(which(sum.pos/(sum.pos+sum.neg)>=0.75 & (sum.pos+sum.neg>quantile(sum.pos+sum.neg,0.2))))\n",
    "  \n",
    "  neg.rbps<-names(which(sum.pos/(sum.pos+sum.neg)<=0.25 & (sum.pos+sum.neg>quantile(sum.pos+sum.neg,0.2))))\n",
    "  \n",
    "  cs.rbps<-names(which(sum.pos/(sum.pos+sum.neg)>0.25 & sum.pos/(sum.pos+sum.neg)<0.75 & (sum.pos+sum.neg>quantile(sum.pos+sum.neg,0.2))))\n",
    "  \n",
    "  df.counts<-data.frame(type=c(\"Skip\",\"Inc\",\"CS\"),counts=c(length(pos.rbps),length(neg.rbps),length(cs.rbps)))\n",
    "  \n",
    "  pn4_new <- ggplot(df.counts, aes(type, counts)) +  \n",
    "    geom_bar(fill = \"#00008B\",color=\"black\", position = \"dodge\", stat=\"identity\") + \n",
    "    geom_text(aes(x = type, y = counts + 10, label = paste(100 * round(counts/sum(counts), 3), \"%\", sep = \"\")), size = 3) +\n",
    "    guides(fill=FALSE) +\n",
    "    xlab(\"\") + scale_y_continuous(breaks = c(0, 20, 40), limits = c(0, 60))+\n",
    "    theme_minimal() +\n",
    "    theme(\n",
    "      axis.text = element_text(size = 8), \n",
    "      axis.text.x = element_text(angle = 90, hjust = 1), \n",
    "      axis.title = element_text(size = 10),\n",
    "      axis.title.y = element_text(vjust = 5)\n",
    "    )\n",
    "  show(pn4_new  )\n",
    "}\n",
    "\n",
    "\n"
   ]
  },
  {
   "cell_type": "code",
   "execution_count": null,
   "metadata": {},
   "outputs": [],
   "source": [
    "file.exists(\"summary_hbm.txt\")"
   ]
  },
  {
   "cell_type": "code",
   "execution_count": null,
   "metadata": {},
   "outputs": [],
   "source": [
    "if ( (\"lv.txt\" %in% list.files(\"../data/\")) && (\"mt.txt\" %in% list.files(\"../data/\"))) {\n",
    "        message(\"The files lv.txt or mt.txt are available in the folder ../data/! \\n\")\n",
    "        message(\"The perl parseMT.pl command will not be re-run \\n\")\n",
    "}\n",
    "\n",
    "\n",
    "if ( (!(\"lv.txt\" %in% list.files(\"../data/\"))) | (!(\"mt.txt\" %in% list.files(\"../data/\")))) {\n",
    "        message(\"The files lv.txt or mt.txt not found in the folder ../data/ \\n\")\n",
    "        message(\"Generating lv.txt and mt.txt with perl parseMT.pl using summary_hbm.txt as input .. \\n\")\n",
    "        system(paste0(\"perl parseMT.pl > parseMT_output.txt && \", \n",
    "                      \"mv lv.txt ../data/ && \",\n",
    "                      \"mv mt.txt ../data/ && \",\n",
    "                      \"cp summary_hbm.txt  ../data/\"), \n",
    "               intern  = TRUE)\n",
    "        message(\"Done!\\n\")\n",
    "}\n",
    "\n"
   ]
  },
  {
   "cell_type": "markdown",
   "metadata": {},
   "source": [
    "## Metadata\n",
    "\n",
    "For replicability and reproducibility purposes, we also print the following metadata:\n",
    "\n",
    "1. Checksums of **\"artefacts\"**, files generated during the analysis and stored in the folder directory **`data`**\n",
    "2. List of environment metadata, dependencies, versions of libraries using `utils::sessionInfo()` and [`devtools::session_info()`](https://devtools.r-lib.org/reference/session_info.html)"
   ]
  },
  {
   "cell_type": "markdown",
   "metadata": {},
   "source": [
    "### 1. Checksums with the sha256 algorithm"
   ]
  },
  {
   "cell_type": "code",
   "execution_count": null,
   "metadata": {},
   "outputs": [],
   "source": [
    "figure_id       <- \"figures_3\"\n",
    "\n",
    "message(\"Generating sha256 checksums of the artefacts in the `..data/` directory .. \")\n",
    "system(paste0(\"cd ../data/ && find . -type f -exec sha256sum {} \\\\; > ../metadata/\",  figure_id, \"_sha256sums.txt\"), intern = TRUE)\n",
    "message(\"Done!\\n\")\n",
    "\n",
    "data.table::fread(paste0(\"../metadata/\", figure_id, \"_sha256sums.txt\"), header = FALSE, col.names = c(\"sha256sum\", \"file\"))"
   ]
  },
  {
   "cell_type": "markdown",
   "metadata": {},
   "source": [
    "### 2. Libraries metadata"
   ]
  },
  {
   "cell_type": "code",
   "execution_count": null,
   "metadata": {},
   "outputs": [],
   "source": [
    "dev_session_info   <- devtools::session_info()\n",
    "utils_session_info <- utils::sessionInfo()\n",
    "\n",
    "message(\"Saving `devtools::session_info()` objects in ../metadata/devtools_session_info.rds  ..\")\n",
    "saveRDS(dev_session_info, file = paste0(\"../metadata/\", figure_id, \"_devtools_session_info.rds\"))\n",
    "message(\"Done!\\n\")\n",
    "\n",
    "message(\"Saving `utils::sessionInfo()` objects in ../metadata/utils_session_info.rds  ..\")\n",
    "saveRDS(utils_session_info, file = paste0(\"../metadata/\", figure_id ,\"_utils_info.rds\"))\n",
    "message(\"Done!\\n\")\n",
    "\n",
    "dev_session_info$platform\n",
    "dev_session_info$packages[dev_session_info$packages$attached==TRUE, ]"
   ]
  }
 ],
 "metadata": {
  "kernelspec": {
   "display_name": "R",
   "language": "R",
   "name": "ir"
  },
  "language_info": {
   "codemirror_mode": "r",
   "file_extension": ".r",
   "mimetype": "text/x-r-source",
   "name": "R",
   "pygments_lexer": "r",
   "version": "3.6.2"
  }
 },
 "nbformat": 4,
 "nbformat_minor": 4
}
