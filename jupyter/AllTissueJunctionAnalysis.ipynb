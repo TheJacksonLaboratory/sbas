{
 "cells": [
  {
   "cell_type": "markdown",
   "metadata": {},
   "source": [
    "#AllTissueJunctionAnalysis as a Notebook \n",
    "\n",
    "rMATS 3.2.5 was run on controlled access RNASeq files retrieved experiments stored in the Sequence Read Archive with controlled access managed by dbGaP.   The data were generated under the Gene Tissue Expression.\n",
    "\n",
    "## rMATS RNASeq-MATS.py produces 10 different output types which get assembled into as type junction ID by sample ID matrices\n",
    "\n",
    "### Alternative Splice Site Types are: (se, a3ss, a5ss, mxe, ri)\n",
    "\n",
    " This is input as ARGV1 into variable 'astype'\n",
    "\n",
    "  * Skipped Exon events (se),\n",
    "  * Alternative 3' splice site (a3ss),\n",
    "  * Alternative 5' splice site (a5ss),\n",
    "  * Mutually exclusive exon (mxe),\n",
    "  * and retention intron (ri)\n",
    "\n",
    "### There are two different kinds of junction counts\n",
    "\n",
    "  * jc = junction counts - reads that cross the junction\n",
    "  * jcec = junction counts plus reads on the target (such as included exon\n",
    "\n",
    "### And the count type -- there are 5 types\n",
    "\n",
    "  * inclusion levels (percent spliced in)\n",
    "  * included junction counts (ijc)\n",
    "  * skipped junction counts (sjc)\n",
    "  * inclusion length (inclen)\n",
    "  * skipped length (skiplen)\n",
    "\n",
    "### function: fit_iso_tissue \n",
    "\n",
    "fit_iso_tissue expects the following input:\n",
    "\n",
    "  * the tissue of interest (SMSTD) \n",
    "  * an ordered_merged_rmats -- which will be ordered to fit the count matrix\n",
    "  * count matrix (inc or ijc & sjc merged)\n",
    "  * splice type (a3ss, a5ss, mxe, ri or se)\n",
    "  * junction_count type (jc or jcec)\n",
    "  * count type (inc or the merged ijc,sjc)\n",
    "  \n",
    "### reordering to match annotations between count matrix and annotation matrix\n",
    "\n",
    "Common problem is to match specifically the rows of an annotation matrix with the columns of a count matrix\n",
    "`match` is the function that gives the re-ordering index required to accomplish this\n"
   ]
  },
  {
   "cell_type": "markdown",
   "metadata": {},
   "source": [
    "## **NOTE**:\n",
    "\n",
    "We assume that you have cloned the analysis repository and have `cd` into the parent directory. Before starting with the analysis make sure you have first completed the dependencies set up by following the instructions described in the **`dependencies/README.md`** document. All paths defined in this Notebook are relative to the parent directory (repository). Please close this Notebook and start again by following the above guidelines if you have not completed the aforementioned steps.\n",
    "\n",
    "## rMATS-final-merged\n",
    "the rmats-nf NextFlow was executed and the results released here:"
   ]
  },
  {
   "cell_type": "markdown",
   "metadata": {},
   "source": [
    "## Loading dependencies"
   ]
  },
  {
   "cell_type": "code",
   "execution_count": 1,
   "metadata": {},
   "outputs": [],
   "source": [
    "# temporary hack remove me when the dependencies are fixed\n",
    "#\n",
    "#install.packages(\"BiocManager\")\n",
    "#Sys.setenv(TAR = \"/bin/tar\")\n",
    "#BiocManager::install(c('limma','edgeR', 'statmod'))\n",
    "#install.packages(c('doParallel', 'doRNG', 'foreach', 'stringi', 'pheatmap'), repo = 'https://cran.r-project.org')\n",
    "#devtools::install_github(\"ropensci/piggyback@87f71e8\", upgrade=\"never\")\n",
    "#install.packages(\"runjags\", repos = \"https://cran.r-project.org\")\n",
    "#devtools::install_github(\"easystats/report\")\n"
   ]
  },
  {
   "cell_type": "code",
   "execution_count": 2,
   "metadata": {},
   "outputs": [
    {
     "name": "stderr",
     "output_type": "stream",
     "text": [
      "Loading required package: BiocGenerics\n",
      "Loading required package: parallel\n",
      "\n",
      "Attaching package: ‘BiocGenerics’\n",
      "\n",
      "The following objects are masked from ‘package:parallel’:\n",
      "\n",
      "    clusterApply, clusterApplyLB, clusterCall, clusterEvalQ,\n",
      "    clusterExport, clusterMap, parApply, parCapply, parLapply,\n",
      "    parLapplyLB, parRapply, parSapply, parSapplyLB\n",
      "\n",
      "The following object is masked from ‘package:limma’:\n",
      "\n",
      "    plotMA\n",
      "\n",
      "The following objects are masked from ‘package:stats’:\n",
      "\n",
      "    IQR, mad, sd, var, xtabs\n",
      "\n",
      "The following objects are masked from ‘package:base’:\n",
      "\n",
      "    anyDuplicated, append, as.data.frame, basename, cbind, colnames,\n",
      "    dirname, do.call, duplicated, eval, evalq, Filter, Find, get, grep,\n",
      "    grepl, intersect, is.unsorted, lapply, Map, mapply, match, mget,\n",
      "    order, paste, pmax, pmax.int, pmin, pmin.int, Position, rank,\n",
      "    rbind, Reduce, rownames, sapply, setdiff, sort, table, tapply,\n",
      "    union, unique, unsplit, which, which.max, which.min\n",
      "\n",
      "Loading required package: Biobase\n",
      "Welcome to Bioconductor\n",
      "\n",
      "    Vignettes contain introductory material; view with\n",
      "    'browseVignettes()'. To cite Bioconductor, see\n",
      "    'citation(\"Biobase\")', and for packages 'citation(\"pkgname\")'.\n",
      "\n",
      "Updating HTML index of packages in '.Library'\n",
      "Making 'packages.html' ... done\n",
      "Loading required package: R.oo\n",
      "Loading required package: R.methodsS3\n",
      "R.methodsS3 v1.8.0 (2020-02-14 07:10:20 UTC) successfully loaded. See ?R.methodsS3 for help.\n",
      "R.oo v1.23.0 successfully loaded. See ?R.oo for help.\n",
      "\n",
      "Attaching package: ‘R.oo’\n",
      "\n",
      "The following object is masked from ‘package:R.methodsS3’:\n",
      "\n",
      "    throw\n",
      "\n",
      "The following objects are masked from ‘package:methods’:\n",
      "\n",
      "    getClasses, getMethods\n",
      "\n",
      "The following objects are masked from ‘package:base’:\n",
      "\n",
      "    attach, detach, load, save\n",
      "\n",
      "R.utils v2.9.2 successfully loaded. See ?R.utils for help.\n",
      "\n",
      "Attaching package: ‘R.utils’\n",
      "\n",
      "The following object is masked from ‘package:utils’:\n",
      "\n",
      "    timestamp\n",
      "\n",
      "The following objects are masked from ‘package:base’:\n",
      "\n",
      "    cat, commandArgs, getOption, inherits, isOpen, nullfile, parse,\n",
      "    warnings\n",
      "\n"
     ]
    }
   ],
   "source": [
    "library(limma)\n",
    "library(piggyback)\n",
    "library(multtest)\n",
    "library(Biobase)\n",
    "library(edgeR)\n",
    "library(tibble)\n",
    "install.packages('R.utils')\n",
    "library(R.utils)"
   ]
  },
  {
   "cell_type": "markdown",
   "metadata": {},
   "source": [
    "## Modeling\n",
    "\n",
    "This analysis uses edgeR.  From the documentation, it is important to note that normalization takes the form of correction factors that enter into the statistical model. Such correction factors are usually computed internally by edgeR functions, but it is also possible for a user to supply them. The correction factors may take the form of scaling factors for the library sizes, such as computed by calcNormFactors, which are then used to compute the effective library sizes. \n",
    "\n",
    "Alternatively, gene-specific correction factors can be entered into the glm functions of edgeR as offsets. In the latter case, the offset matrix will be assumed to account for all normalization issues, including sequencing depth and RNA composition.\n",
    "\n",
    "Note that normalization in edgeR is model-based, and the original read counts are not themselves transformed. This means that users should not transform the read counts in any way before inputing them to edgeR. For example, users should not enter RPKM or FPKM val- ues to edgeR in place of read counts. Such quantities will prevent edgeR from correctly estimating the mean-variance relationship in the data, which is a crucial to the statistical strategies underlying edgeR. Similarly, users should not add artificial values to the counts before inputing them to edgeR.\n",
    "\n",
    "edgeR is not designed to work with estimated expression levels, for example as might be output by Cufflinks. \n",
    "edgeR can work with expected counts as output by RSEM, but raw counts are still preferred. \n",
    "\n",
    "As instructed by the software, we are using the raw counts as provided by rMATS.  The raw counts we are using in the model are `ijc` and `sjc`, the sample specific raw read counts as they align to the junctions of the `included exon (ijc)` and the junctions of the `excluded or skipped exon (sjc)` respectively.\n",
    "\n",
    "\n",
    "Be sure to set your GITHUB_TOKEN, prior to downloading files\n",
    "\n",
    "One suggestion is change it to your token and then run it then immediately change it back to this:\n",
    "\n",
    "Sys.setenv(GITHUB_TOKEN = \"your-very-own-github-token\")"
   ]
  },
  {
   "cell_type": "code",
   "execution_count": 3,
   "metadata": {},
   "outputs": [],
   "source": [
    "# devtools::install_github(\"ropensci/piggyback@87f71e8\", upgrade=\"never\")\n",
    "Sys.setenv(GITHUB_TOKEN = \"your-very-own-github-token\")"
   ]
  },
  {
   "cell_type": "markdown",
   "metadata": {},
   "source": [
    "### Did you remember?\n",
    "Did you remember to delete your private github token?  Now is a good time to do so, before you save your work and checkit in inadvertantly...."
   ]
  },
  {
   "cell_type": "code",
   "execution_count": 4,
   "metadata": {},
   "outputs": [
    {
     "name": "stderr",
     "output_type": "stream",
     "text": [
      "All files up-to-date already\n",
      "\n",
      "All files up-to-date already\n",
      "\n",
      "All files up-to-date already\n",
      "\n"
     ]
    },
    {
     "data": {
      "text/html": [
       "<table>\n",
       "<caption>A data.table: 6 × 8674</caption>\n",
       "<thead>\n",
       "\t<tr><th scope=col>ID</th><th scope=col>SRR1068788</th><th scope=col>SRR1068808</th><th scope=col>SRR1068832</th><th scope=col>SRR1068855</th><th scope=col>SRR1068880</th><th scope=col>SRR1068929</th><th scope=col>SRR1068953</th><th scope=col>SRR1068977</th><th scope=col>SRR1068999</th><th scope=col>⋯</th><th scope=col>SRR821573</th><th scope=col>SRR821581</th><th scope=col>SRR821602</th><th scope=col>SRR821626</th><th scope=col>SRR821653</th><th scope=col>SRR821690</th><th scope=col>SRR821715</th><th scope=col>SRR823967</th><th scope=col>SRR823991</th><th scope=col>SRR824015</th></tr>\n",
       "\t<tr><th scope=col>&lt;int&gt;</th><th scope=col>&lt;int&gt;</th><th scope=col>&lt;int&gt;</th><th scope=col>&lt;int&gt;</th><th scope=col>&lt;int&gt;</th><th scope=col>&lt;int&gt;</th><th scope=col>&lt;int&gt;</th><th scope=col>&lt;int&gt;</th><th scope=col>&lt;int&gt;</th><th scope=col>&lt;int&gt;</th><th scope=col>⋯</th><th scope=col>&lt;int&gt;</th><th scope=col>&lt;int&gt;</th><th scope=col>&lt;int&gt;</th><th scope=col>&lt;int&gt;</th><th scope=col>&lt;int&gt;</th><th scope=col>&lt;int&gt;</th><th scope=col>&lt;int&gt;</th><th scope=col>&lt;int&gt;</th><th scope=col>&lt;int&gt;</th><th scope=col>&lt;int&gt;</th></tr>\n",
       "</thead>\n",
       "<tbody>\n",
       "\t<tr><td>1</td><td> 0</td><td>  0</td><td>  0</td><td>  0</td><td>  1</td><td>  0</td><td>  0</td><td>  0</td><td>  0</td><td>⋯</td><td>  0</td><td> 0</td><td> 0</td><td> 0</td><td>  0</td><td> 0</td><td>  0</td><td> 0</td><td> 0</td><td> 0</td></tr>\n",
       "\t<tr><td>2</td><td>26</td><td>247</td><td>103</td><td>620</td><td>494</td><td>145</td><td>145</td><td>139</td><td>697</td><td>⋯</td><td>151</td><td>32</td><td>62</td><td>48</td><td>963</td><td>25</td><td>196</td><td>76</td><td>72</td><td>61</td></tr>\n",
       "\t<tr><td>3</td><td> 1</td><td>  0</td><td>  1</td><td>  0</td><td>  0</td><td>  0</td><td>  1</td><td>  1</td><td>  2</td><td>⋯</td><td>  2</td><td> 1</td><td> 0</td><td> 1</td><td>  3</td><td> 0</td><td>  1</td><td> 0</td><td> 0</td><td> 0</td></tr>\n",
       "\t<tr><td>4</td><td> 0</td><td>  1</td><td>  1</td><td>  2</td><td>  0</td><td>  0</td><td>  1</td><td>  0</td><td>  2</td><td>⋯</td><td>  0</td><td> 0</td><td> 0</td><td> 0</td><td>  1</td><td> 0</td><td>  0</td><td> 0</td><td> 0</td><td> 0</td></tr>\n",
       "\t<tr><td>5</td><td> 3</td><td>  0</td><td>  2</td><td>  3</td><td>  6</td><td>  1</td><td>  1</td><td>  1</td><td>  5</td><td>⋯</td><td>  3</td><td> 2</td><td> 0</td><td> 1</td><td>  6</td><td> 0</td><td>  2</td><td> 0</td><td> 0</td><td> 0</td></tr>\n",
       "\t<tr><td>6</td><td> 2</td><td>  1</td><td>  2</td><td>  5</td><td>  6</td><td>  1</td><td>  1</td><td>  0</td><td>  5</td><td>⋯</td><td>  1</td><td> 1</td><td> 0</td><td> 0</td><td>  4</td><td> 0</td><td>  1</td><td> 0</td><td> 0</td><td> 0</td></tr>\n",
       "</tbody>\n",
       "</table>\n"
      ],
      "text/latex": [
       "A data.table: 6 × 8674\n",
       "\\begin{tabular}{lllllllllllllllllllll}\n",
       " ID & SRR1068788 & SRR1068808 & SRR1068832 & SRR1068855 & SRR1068880 & SRR1068929 & SRR1068953 & SRR1068977 & SRR1068999 & ⋯ & SRR821573 & SRR821581 & SRR821602 & SRR821626 & SRR821653 & SRR821690 & SRR821715 & SRR823967 & SRR823991 & SRR824015\\\\\n",
       " <int> & <int> & <int> & <int> & <int> & <int> & <int> & <int> & <int> & <int> & ⋯ & <int> & <int> & <int> & <int> & <int> & <int> & <int> & <int> & <int> & <int>\\\\\n",
       "\\hline\n",
       "\t 1 &  0 &   0 &   0 &   0 &   1 &   0 &   0 &   0 &   0 & ⋯ &   0 &  0 &  0 &  0 &   0 &  0 &   0 &  0 &  0 &  0\\\\\n",
       "\t 2 & 26 & 247 & 103 & 620 & 494 & 145 & 145 & 139 & 697 & ⋯ & 151 & 32 & 62 & 48 & 963 & 25 & 196 & 76 & 72 & 61\\\\\n",
       "\t 3 &  1 &   0 &   1 &   0 &   0 &   0 &   1 &   1 &   2 & ⋯ &   2 &  1 &  0 &  1 &   3 &  0 &   1 &  0 &  0 &  0\\\\\n",
       "\t 4 &  0 &   1 &   1 &   2 &   0 &   0 &   1 &   0 &   2 & ⋯ &   0 &  0 &  0 &  0 &   1 &  0 &   0 &  0 &  0 &  0\\\\\n",
       "\t 5 &  3 &   0 &   2 &   3 &   6 &   1 &   1 &   1 &   5 & ⋯ &   3 &  2 &  0 &  1 &   6 &  0 &   2 &  0 &  0 &  0\\\\\n",
       "\t 6 &  2 &   1 &   2 &   5 &   6 &   1 &   1 &   0 &   5 & ⋯ &   1 &  1 &  0 &  0 &   4 &  0 &   1 &  0 &  0 &  0\\\\\n",
       "\\end{tabular}\n"
      ],
      "text/markdown": [
       "\n",
       "A data.table: 6 × 8674\n",
       "\n",
       "| ID &lt;int&gt; | SRR1068788 &lt;int&gt; | SRR1068808 &lt;int&gt; | SRR1068832 &lt;int&gt; | SRR1068855 &lt;int&gt; | SRR1068880 &lt;int&gt; | SRR1068929 &lt;int&gt; | SRR1068953 &lt;int&gt; | SRR1068977 &lt;int&gt; | SRR1068999 &lt;int&gt; | ⋯ ⋯ | SRR821573 &lt;int&gt; | SRR821581 &lt;int&gt; | SRR821602 &lt;int&gt; | SRR821626 &lt;int&gt; | SRR821653 &lt;int&gt; | SRR821690 &lt;int&gt; | SRR821715 &lt;int&gt; | SRR823967 &lt;int&gt; | SRR823991 &lt;int&gt; | SRR824015 &lt;int&gt; |\n",
       "|---|---|---|---|---|---|---|---|---|---|---|---|---|---|---|---|---|---|---|---|---|\n",
       "| 1 |  0 |   0 |   0 |   0 |   1 |   0 |   0 |   0 |   0 | ⋯ |   0 |  0 |  0 |  0 |   0 |  0 |   0 |  0 |  0 |  0 |\n",
       "| 2 | 26 | 247 | 103 | 620 | 494 | 145 | 145 | 139 | 697 | ⋯ | 151 | 32 | 62 | 48 | 963 | 25 | 196 | 76 | 72 | 61 |\n",
       "| 3 |  1 |   0 |   1 |   0 |   0 |   0 |   1 |   1 |   2 | ⋯ |   2 |  1 |  0 |  1 |   3 |  0 |   1 |  0 |  0 |  0 |\n",
       "| 4 |  0 |   1 |   1 |   2 |   0 |   0 |   1 |   0 |   2 | ⋯ |   0 |  0 |  0 |  0 |   1 |  0 |   0 |  0 |  0 |  0 |\n",
       "| 5 |  3 |   0 |   2 |   3 |   6 |   1 |   1 |   1 |   5 | ⋯ |   3 |  2 |  0 |  1 |   6 |  0 |   2 |  0 |  0 |  0 |\n",
       "| 6 |  2 |   1 |   2 |   5 |   6 |   1 |   1 |   0 |   5 | ⋯ |   1 |  1 |  0 |  0 |   4 |  0 |   1 |  0 |  0 |  0 |\n",
       "\n"
      ],
      "text/plain": [
       "  ID SRR1068788 SRR1068808 SRR1068832 SRR1068855 SRR1068880 SRR1068929\n",
       "1 1   0           0          0          0          1          0       \n",
       "2 2  26         247        103        620        494        145       \n",
       "3 3   1           0          1          0          0          0       \n",
       "4 4   0           1          1          2          0          0       \n",
       "5 5   3           0          2          3          6          1       \n",
       "6 6   2           1          2          5          6          1       \n",
       "  SRR1068953 SRR1068977 SRR1068999 ⋯ SRR821573 SRR821581 SRR821602 SRR821626\n",
       "1   0          0          0        ⋯   0        0         0         0       \n",
       "2 145        139        697        ⋯ 151       32        62        48       \n",
       "3   1          1          2        ⋯   2        1         0         1       \n",
       "4   1          0          2        ⋯   0        0         0         0       \n",
       "5   1          1          5        ⋯   3        2         0         1       \n",
       "6   1          0          5        ⋯   1        1         0         0       \n",
       "  SRR821653 SRR821690 SRR821715 SRR823967 SRR823991 SRR824015\n",
       "1   0        0          0        0         0         0       \n",
       "2 963       25        196       76        72        61       \n",
       "3   3        0          1        0         0         0       \n",
       "4   1        0          0        0         0         0       \n",
       "5   6        0          2        0         0         0       \n",
       "6   4        0          1        0         0         0       "
      ]
     },
     "metadata": {},
     "output_type": "display_data"
    },
    {
     "data": {
      "text/html": [
       "<table>\n",
       "<caption>A data.table: 6 × 8674</caption>\n",
       "<thead>\n",
       "\t<tr><th scope=col>ID</th><th scope=col>SRR1068788</th><th scope=col>SRR1068808</th><th scope=col>SRR1068832</th><th scope=col>SRR1068855</th><th scope=col>SRR1068880</th><th scope=col>SRR1068929</th><th scope=col>SRR1068953</th><th scope=col>SRR1068977</th><th scope=col>SRR1068999</th><th scope=col>⋯</th><th scope=col>SRR821573</th><th scope=col>SRR821581</th><th scope=col>SRR821602</th><th scope=col>SRR821626</th><th scope=col>SRR821653</th><th scope=col>SRR821690</th><th scope=col>SRR821715</th><th scope=col>SRR823967</th><th scope=col>SRR823991</th><th scope=col>SRR824015</th></tr>\n",
       "\t<tr><th scope=col>&lt;int&gt;</th><th scope=col>&lt;int&gt;</th><th scope=col>&lt;int&gt;</th><th scope=col>&lt;int&gt;</th><th scope=col>&lt;int&gt;</th><th scope=col>&lt;int&gt;</th><th scope=col>&lt;int&gt;</th><th scope=col>&lt;int&gt;</th><th scope=col>&lt;int&gt;</th><th scope=col>&lt;int&gt;</th><th scope=col>⋯</th><th scope=col>&lt;int&gt;</th><th scope=col>&lt;int&gt;</th><th scope=col>&lt;int&gt;</th><th scope=col>&lt;int&gt;</th><th scope=col>&lt;int&gt;</th><th scope=col>&lt;int&gt;</th><th scope=col>&lt;int&gt;</th><th scope=col>&lt;int&gt;</th><th scope=col>&lt;int&gt;</th><th scope=col>&lt;int&gt;</th></tr>\n",
       "</thead>\n",
       "<tbody>\n",
       "\t<tr><td>1</td><td> 2</td><td>  0</td><td> 1</td><td>  3</td><td>  6</td><td> 1</td><td> 0</td><td> 0</td><td>  3</td><td>⋯</td><td> 1</td><td> 1</td><td> 0</td><td>0</td><td>  3</td><td>0</td><td> 1</td><td> 0</td><td> 0</td><td> 0</td></tr>\n",
       "\t<tr><td>2</td><td> 0</td><td>  0</td><td> 0</td><td>  1</td><td>  0</td><td> 0</td><td> 1</td><td> 0</td><td>  0</td><td>⋯</td><td> 0</td><td> 0</td><td> 0</td><td>0</td><td>  0</td><td>0</td><td> 0</td><td> 0</td><td> 0</td><td> 0</td></tr>\n",
       "\t<tr><td>3</td><td> 0</td><td>  0</td><td> 0</td><td>  1</td><td>  0</td><td> 0</td><td> 0</td><td> 0</td><td>  0</td><td>⋯</td><td> 0</td><td> 0</td><td> 0</td><td>0</td><td>  0</td><td>0</td><td> 0</td><td> 0</td><td> 0</td><td> 0</td></tr>\n",
       "\t<tr><td>4</td><td> 0</td><td>  0</td><td> 0</td><td>  1</td><td>  0</td><td> 0</td><td> 0</td><td> 0</td><td>  1</td><td>⋯</td><td> 0</td><td> 0</td><td> 0</td><td>0</td><td>  2</td><td>0</td><td> 1</td><td> 0</td><td> 0</td><td> 0</td></tr>\n",
       "\t<tr><td>5</td><td> 0</td><td>  5</td><td> 3</td><td>  8</td><td>  4</td><td> 0</td><td> 3</td><td> 0</td><td>  3</td><td>⋯</td><td> 9</td><td> 3</td><td> 1</td><td>2</td><td>  3</td><td>0</td><td> 1</td><td> 0</td><td> 1</td><td> 0</td></tr>\n",
       "\t<tr><td>6</td><td>11</td><td>119</td><td>36</td><td>284</td><td>207</td><td>60</td><td>63</td><td>43</td><td>295</td><td>⋯</td><td>52</td><td>13</td><td>14</td><td>9</td><td>338</td><td>8</td><td>63</td><td>25</td><td>20</td><td>18</td></tr>\n",
       "</tbody>\n",
       "</table>\n"
      ],
      "text/latex": [
       "A data.table: 6 × 8674\n",
       "\\begin{tabular}{lllllllllllllllllllll}\n",
       " ID & SRR1068788 & SRR1068808 & SRR1068832 & SRR1068855 & SRR1068880 & SRR1068929 & SRR1068953 & SRR1068977 & SRR1068999 & ⋯ & SRR821573 & SRR821581 & SRR821602 & SRR821626 & SRR821653 & SRR821690 & SRR821715 & SRR823967 & SRR823991 & SRR824015\\\\\n",
       " <int> & <int> & <int> & <int> & <int> & <int> & <int> & <int> & <int> & <int> & ⋯ & <int> & <int> & <int> & <int> & <int> & <int> & <int> & <int> & <int> & <int>\\\\\n",
       "\\hline\n",
       "\t 1 &  2 &   0 &  1 &   3 &   6 &  1 &  0 &  0 &   3 & ⋯ &  1 &  1 &  0 & 0 &   3 & 0 &  1 &  0 &  0 &  0\\\\\n",
       "\t 2 &  0 &   0 &  0 &   1 &   0 &  0 &  1 &  0 &   0 & ⋯ &  0 &  0 &  0 & 0 &   0 & 0 &  0 &  0 &  0 &  0\\\\\n",
       "\t 3 &  0 &   0 &  0 &   1 &   0 &  0 &  0 &  0 &   0 & ⋯ &  0 &  0 &  0 & 0 &   0 & 0 &  0 &  0 &  0 &  0\\\\\n",
       "\t 4 &  0 &   0 &  0 &   1 &   0 &  0 &  0 &  0 &   1 & ⋯ &  0 &  0 &  0 & 0 &   2 & 0 &  1 &  0 &  0 &  0\\\\\n",
       "\t 5 &  0 &   5 &  3 &   8 &   4 &  0 &  3 &  0 &   3 & ⋯ &  9 &  3 &  1 & 2 &   3 & 0 &  1 &  0 &  1 &  0\\\\\n",
       "\t 6 & 11 & 119 & 36 & 284 & 207 & 60 & 63 & 43 & 295 & ⋯ & 52 & 13 & 14 & 9 & 338 & 8 & 63 & 25 & 20 & 18\\\\\n",
       "\\end{tabular}\n"
      ],
      "text/markdown": [
       "\n",
       "A data.table: 6 × 8674\n",
       "\n",
       "| ID &lt;int&gt; | SRR1068788 &lt;int&gt; | SRR1068808 &lt;int&gt; | SRR1068832 &lt;int&gt; | SRR1068855 &lt;int&gt; | SRR1068880 &lt;int&gt; | SRR1068929 &lt;int&gt; | SRR1068953 &lt;int&gt; | SRR1068977 &lt;int&gt; | SRR1068999 &lt;int&gt; | ⋯ ⋯ | SRR821573 &lt;int&gt; | SRR821581 &lt;int&gt; | SRR821602 &lt;int&gt; | SRR821626 &lt;int&gt; | SRR821653 &lt;int&gt; | SRR821690 &lt;int&gt; | SRR821715 &lt;int&gt; | SRR823967 &lt;int&gt; | SRR823991 &lt;int&gt; | SRR824015 &lt;int&gt; |\n",
       "|---|---|---|---|---|---|---|---|---|---|---|---|---|---|---|---|---|---|---|---|---|\n",
       "| 1 |  2 |   0 |  1 |   3 |   6 |  1 |  0 |  0 |   3 | ⋯ |  1 |  1 |  0 | 0 |   3 | 0 |  1 |  0 |  0 |  0 |\n",
       "| 2 |  0 |   0 |  0 |   1 |   0 |  0 |  1 |  0 |   0 | ⋯ |  0 |  0 |  0 | 0 |   0 | 0 |  0 |  0 |  0 |  0 |\n",
       "| 3 |  0 |   0 |  0 |   1 |   0 |  0 |  0 |  0 |   0 | ⋯ |  0 |  0 |  0 | 0 |   0 | 0 |  0 |  0 |  0 |  0 |\n",
       "| 4 |  0 |   0 |  0 |   1 |   0 |  0 |  0 |  0 |   1 | ⋯ |  0 |  0 |  0 | 0 |   2 | 0 |  1 |  0 |  0 |  0 |\n",
       "| 5 |  0 |   5 |  3 |   8 |   4 |  0 |  3 |  0 |   3 | ⋯ |  9 |  3 |  1 | 2 |   3 | 0 |  1 |  0 |  1 |  0 |\n",
       "| 6 | 11 | 119 | 36 | 284 | 207 | 60 | 63 | 43 | 295 | ⋯ | 52 | 13 | 14 | 9 | 338 | 8 | 63 | 25 | 20 | 18 |\n",
       "\n"
      ],
      "text/plain": [
       "  ID SRR1068788 SRR1068808 SRR1068832 SRR1068855 SRR1068880 SRR1068929\n",
       "1 1   2           0         1           3          6         1        \n",
       "2 2   0           0         0           1          0         0        \n",
       "3 3   0           0         0           1          0         0        \n",
       "4 4   0           0         0           1          0         0        \n",
       "5 5   0           5         3           8          4         0        \n",
       "6 6  11         119        36         284        207        60        \n",
       "  SRR1068953 SRR1068977 SRR1068999 ⋯ SRR821573 SRR821581 SRR821602 SRR821626\n",
       "1  0          0           3        ⋯  1         1         0        0        \n",
       "2  1          0           0        ⋯  0         0         0        0        \n",
       "3  0          0           0        ⋯  0         0         0        0        \n",
       "4  0          0           1        ⋯  0         0         0        0        \n",
       "5  3          0           3        ⋯  9         3         1        2        \n",
       "6 63         43         295        ⋯ 52        13        14        9        \n",
       "  SRR821653 SRR821690 SRR821715 SRR823967 SRR823991 SRR824015\n",
       "1   3       0          1         0         0         0       \n",
       "2   0       0          0         0         0         0       \n",
       "3   0       0          0         0         0         0       \n",
       "4   2       0          1         0         0         0       \n",
       "5   3       0          1         0         1         0       \n",
       "6 338       8         63        25        20        18       "
      ]
     },
     "metadata": {},
     "output_type": "display_data"
    },
    {
     "data": {
      "text/html": [
       "<table>\n",
       "<caption>A data.table: 6 × 79</caption>\n",
       "<thead>\n",
       "\t<tr><th scope=col>Run</th><th scope=col>analyte_type</th><th scope=col>Assay Type</th><th scope=col>AvgSpotLen</th><th scope=col>Bases</th><th scope=col>BioProject</th><th scope=col>BioSample</th><th scope=col>biospecimen_repository</th><th scope=col>biospecimen_repository_sample_id</th><th scope=col>body_site</th><th scope=col>⋯</th><th scope=col>data_type (run)</th><th scope=col>product_part_number (exp)</th><th scope=col>product_part_number (run)</th><th scope=col>sample_barcode (exp)</th><th scope=col>sample_barcode (run)</th><th scope=col>is_technical_control</th><th scope=col>target_set (exp)</th><th scope=col>primary_disease (exp)</th><th scope=col>secondary_accessions (run)</th><th scope=col>Alignment_Provider (run)</th></tr>\n",
       "\t<tr><th scope=col>&lt;chr&gt;</th><th scope=col>&lt;chr&gt;</th><th scope=col>&lt;chr&gt;</th><th scope=col>&lt;int&gt;</th><th scope=col>&lt;int64&gt;</th><th scope=col>&lt;chr&gt;</th><th scope=col>&lt;chr&gt;</th><th scope=col>&lt;chr&gt;</th><th scope=col>&lt;chr&gt;</th><th scope=col>&lt;chr&gt;</th><th scope=col>⋯</th><th scope=col>&lt;chr&gt;</th><th scope=col>&lt;chr&gt;</th><th scope=col>&lt;chr&gt;</th><th scope=col>&lt;dbl&gt;</th><th scope=col>&lt;dbl&gt;</th><th scope=col>&lt;chr&gt;</th><th scope=col>&lt;lgl&gt;</th><th scope=col>&lt;chr&gt;</th><th scope=col>&lt;chr&gt;</th><th scope=col>&lt;lgl&gt;</th></tr>\n",
       "</thead>\n",
       "<tbody>\n",
       "\t<tr><td>SRR2911715</td><td>RNA</td><td>RNA-Seq</td><td>150</td><td>3852895500</td><td>PRJNA244100</td><td>SAMN04216864</td><td>Cloud Testing</td><td>HG00103</td><td>Lymphoblastoid cell line</td><td>⋯</td><td></td><td></td><td></td><td>NA</td><td>NA</td><td></td><td>NA</td><td></td><td></td><td>NA</td></tr>\n",
       "\t<tr><td>SRR2911716</td><td>RNA</td><td>RNA-Seq</td><td>150</td><td>4885577400</td><td>PRJNA244100</td><td>SAMN04216866</td><td>Cloud Testing</td><td>HG00154</td><td>Lymphoblastoid cell line</td><td>⋯</td><td></td><td></td><td></td><td>NA</td><td>NA</td><td></td><td>NA</td><td></td><td></td><td>NA</td></tr>\n",
       "\t<tr><td>SRR2911718</td><td>RNA</td><td>RNA-Seq</td><td>150</td><td>2690545500</td><td>PRJNA244100</td><td>SAMN04216863</td><td>Cloud Testing</td><td>NA18910</td><td>Lymphoblastoid cell line</td><td>⋯</td><td></td><td></td><td></td><td>NA</td><td>NA</td><td></td><td>NA</td><td></td><td></td><td>NA</td></tr>\n",
       "\t<tr><td>SRR2911719</td><td>RNA</td><td>RNA-Seq</td><td>150</td><td>2699599350</td><td>PRJNA244100</td><td>SAMN04216865</td><td>Cloud Testing</td><td>NA19200</td><td>Lymphoblastoid cell line</td><td>⋯</td><td></td><td></td><td></td><td>NA</td><td>NA</td><td></td><td>NA</td><td></td><td></td><td>NA</td></tr>\n",
       "\t<tr><td>SRR2911720</td><td>RNA</td><td>RNA-Seq</td><td>152</td><td>4300467752</td><td>PRJNA244100</td><td>SAMN04216865</td><td>Cloud Testing</td><td>NA19200</td><td>Lymphoblastoid cell line</td><td>⋯</td><td></td><td></td><td></td><td>NA</td><td>NA</td><td></td><td>NA</td><td></td><td></td><td>NA</td></tr>\n",
       "\t<tr><td>SRR2911717</td><td>RNA</td><td>RNA-Seq</td><td>150</td><td>2666546700</td><td>PRJNA244100</td><td>SAMN04216863</td><td>Cloud Testing</td><td>NA18910</td><td>Lymphoblastoid cell line</td><td>⋯</td><td></td><td></td><td></td><td>NA</td><td>NA</td><td></td><td>NA</td><td></td><td></td><td>NA</td></tr>\n",
       "</tbody>\n",
       "</table>\n"
      ],
      "text/latex": [
       "A data.table: 6 × 79\n",
       "\\begin{tabular}{lllllllllllllllllllll}\n",
       " Run & analyte\\_type & Assay Type & AvgSpotLen & Bases & BioProject & BioSample & biospecimen\\_repository & biospecimen\\_repository\\_sample\\_id & body\\_site & ⋯ & data\\_type (run) & product\\_part\\_number (exp) & product\\_part\\_number (run) & sample\\_barcode (exp) & sample\\_barcode (run) & is\\_technical\\_control & target\\_set (exp) & primary\\_disease (exp) & secondary\\_accessions (run) & Alignment\\_Provider (run)\\\\\n",
       " <chr> & <chr> & <chr> & <int> & <int64> & <chr> & <chr> & <chr> & <chr> & <chr> & ⋯ & <chr> & <chr> & <chr> & <dbl> & <dbl> & <chr> & <lgl> & <chr> & <chr> & <lgl>\\\\\n",
       "\\hline\n",
       "\t SRR2911715 & RNA & RNA-Seq & 150 & 3852895500 & PRJNA244100 & SAMN04216864 & Cloud Testing & HG00103 & Lymphoblastoid cell line & ⋯ &  &  &  & NA & NA &  & NA &  &  & NA\\\\\n",
       "\t SRR2911716 & RNA & RNA-Seq & 150 & 4885577400 & PRJNA244100 & SAMN04216866 & Cloud Testing & HG00154 & Lymphoblastoid cell line & ⋯ &  &  &  & NA & NA &  & NA &  &  & NA\\\\\n",
       "\t SRR2911718 & RNA & RNA-Seq & 150 & 2690545500 & PRJNA244100 & SAMN04216863 & Cloud Testing & NA18910 & Lymphoblastoid cell line & ⋯ &  &  &  & NA & NA &  & NA &  &  & NA\\\\\n",
       "\t SRR2911719 & RNA & RNA-Seq & 150 & 2699599350 & PRJNA244100 & SAMN04216865 & Cloud Testing & NA19200 & Lymphoblastoid cell line & ⋯ &  &  &  & NA & NA &  & NA &  &  & NA\\\\\n",
       "\t SRR2911720 & RNA & RNA-Seq & 152 & 4300467752 & PRJNA244100 & SAMN04216865 & Cloud Testing & NA19200 & Lymphoblastoid cell line & ⋯ &  &  &  & NA & NA &  & NA &  &  & NA\\\\\n",
       "\t SRR2911717 & RNA & RNA-Seq & 150 & 2666546700 & PRJNA244100 & SAMN04216863 & Cloud Testing & NA18910 & Lymphoblastoid cell line & ⋯ &  &  &  & NA & NA &  & NA &  &  & NA\\\\\n",
       "\\end{tabular}\n"
      ],
      "text/markdown": [
       "\n",
       "A data.table: 6 × 79\n",
       "\n",
       "| Run &lt;chr&gt; | analyte_type &lt;chr&gt; | Assay Type &lt;chr&gt; | AvgSpotLen &lt;int&gt; | Bases &lt;int64&gt; | BioProject &lt;chr&gt; | BioSample &lt;chr&gt; | biospecimen_repository &lt;chr&gt; | biospecimen_repository_sample_id &lt;chr&gt; | body_site &lt;chr&gt; | ⋯ ⋯ | data_type (run) &lt;chr&gt; | product_part_number (exp) &lt;chr&gt; | product_part_number (run) &lt;chr&gt; | sample_barcode (exp) &lt;dbl&gt; | sample_barcode (run) &lt;dbl&gt; | is_technical_control &lt;chr&gt; | target_set (exp) &lt;lgl&gt; | primary_disease (exp) &lt;chr&gt; | secondary_accessions (run) &lt;chr&gt; | Alignment_Provider (run) &lt;lgl&gt; |\n",
       "|---|---|---|---|---|---|---|---|---|---|---|---|---|---|---|---|---|---|---|---|---|\n",
       "| SRR2911715 | RNA | RNA-Seq | 150 | 3852895500 | PRJNA244100 | SAMN04216864 | Cloud Testing | HG00103 | Lymphoblastoid cell line | ⋯ | <!----> | <!----> | <!----> | NA | NA | <!----> | NA | <!----> | <!----> | NA |\n",
       "| SRR2911716 | RNA | RNA-Seq | 150 | 4885577400 | PRJNA244100 | SAMN04216866 | Cloud Testing | HG00154 | Lymphoblastoid cell line | ⋯ | <!----> | <!----> | <!----> | NA | NA | <!----> | NA | <!----> | <!----> | NA |\n",
       "| SRR2911718 | RNA | RNA-Seq | 150 | 2690545500 | PRJNA244100 | SAMN04216863 | Cloud Testing | NA18910 | Lymphoblastoid cell line | ⋯ | <!----> | <!----> | <!----> | NA | NA | <!----> | NA | <!----> | <!----> | NA |\n",
       "| SRR2911719 | RNA | RNA-Seq | 150 | 2699599350 | PRJNA244100 | SAMN04216865 | Cloud Testing | NA19200 | Lymphoblastoid cell line | ⋯ | <!----> | <!----> | <!----> | NA | NA | <!----> | NA | <!----> | <!----> | NA |\n",
       "| SRR2911720 | RNA | RNA-Seq | 152 | 4300467752 | PRJNA244100 | SAMN04216865 | Cloud Testing | NA19200 | Lymphoblastoid cell line | ⋯ | <!----> | <!----> | <!----> | NA | NA | <!----> | NA | <!----> | <!----> | NA |\n",
       "| SRR2911717 | RNA | RNA-Seq | 150 | 2666546700 | PRJNA244100 | SAMN04216863 | Cloud Testing | NA18910 | Lymphoblastoid cell line | ⋯ | <!----> | <!----> | <!----> | NA | NA | <!----> | NA | <!----> | <!----> | NA |\n",
       "\n"
      ],
      "text/plain": [
       "  Run        analyte_type Assay Type AvgSpotLen Bases      BioProject \n",
       "1 SRR2911715 RNA          RNA-Seq    150        3852895500 PRJNA244100\n",
       "2 SRR2911716 RNA          RNA-Seq    150        4885577400 PRJNA244100\n",
       "3 SRR2911718 RNA          RNA-Seq    150        2690545500 PRJNA244100\n",
       "4 SRR2911719 RNA          RNA-Seq    150        2699599350 PRJNA244100\n",
       "5 SRR2911720 RNA          RNA-Seq    152        4300467752 PRJNA244100\n",
       "6 SRR2911717 RNA          RNA-Seq    150        2666546700 PRJNA244100\n",
       "  BioSample    biospecimen_repository biospecimen_repository_sample_id\n",
       "1 SAMN04216864 Cloud Testing          HG00103                         \n",
       "2 SAMN04216866 Cloud Testing          HG00154                         \n",
       "3 SAMN04216863 Cloud Testing          NA18910                         \n",
       "4 SAMN04216865 Cloud Testing          NA19200                         \n",
       "5 SAMN04216865 Cloud Testing          NA19200                         \n",
       "6 SAMN04216863 Cloud Testing          NA18910                         \n",
       "  body_site                ⋯ data_type (run) product_part_number (exp)\n",
       "1 Lymphoblastoid cell line ⋯                                          \n",
       "2 Lymphoblastoid cell line ⋯                                          \n",
       "3 Lymphoblastoid cell line ⋯                                          \n",
       "4 Lymphoblastoid cell line ⋯                                          \n",
       "5 Lymphoblastoid cell line ⋯                                          \n",
       "6 Lymphoblastoid cell line ⋯                                          \n",
       "  product_part_number (run) sample_barcode (exp) sample_barcode (run)\n",
       "1                           NA                   NA                  \n",
       "2                           NA                   NA                  \n",
       "3                           NA                   NA                  \n",
       "4                           NA                   NA                  \n",
       "5                           NA                   NA                  \n",
       "6                           NA                   NA                  \n",
       "  is_technical_control target_set (exp) primary_disease (exp)\n",
       "1                      NA                                    \n",
       "2                      NA                                    \n",
       "3                      NA                                    \n",
       "4                      NA                                    \n",
       "5                      NA                                    \n",
       "6                      NA                                    \n",
       "  secondary_accessions (run) Alignment_Provider (run)\n",
       "1                            NA                      \n",
       "2                            NA                      \n",
       "3                            NA                      \n",
       "4                            NA                      \n",
       "5                            NA                      \n",
       "6                            NA                      "
      ]
     },
     "metadata": {},
     "output_type": "display_data"
    },
    {
     "data": {
      "text/html": [
       "<style>\n",
       ".list-inline {list-style: none; margin:0; padding: 0}\n",
       ".list-inline>li {display: inline-block}\n",
       ".list-inline>li:not(:last-child)::after {content: \"\\00b7\"; padding: 0 .5ex}\n",
       "</style>\n",
       "<ol class=list-inline><li>42611</li><li>8674</li></ol>\n"
      ],
      "text/latex": [
       "\\begin{enumerate*}\n",
       "\\item 42611\n",
       "\\item 8674\n",
       "\\end{enumerate*}\n"
      ],
      "text/markdown": [
       "1. 42611\n",
       "2. 8674\n",
       "\n",
       "\n"
      ],
      "text/plain": [
       "[1] 42611  8674"
      ]
     },
     "metadata": {},
     "output_type": "display_data"
    },
    {
     "data": {
      "text/html": [
       "<style>\n",
       ".list-inline {list-style: none; margin:0; padding: 0}\n",
       ".list-inline>li {display: inline-block}\n",
       ".list-inline>li:not(:last-child)::after {content: \"\\00b7\"; padding: 0 .5ex}\n",
       "</style>\n",
       "<ol class=list-inline><li>42611</li><li>8674</li></ol>\n"
      ],
      "text/latex": [
       "\\begin{enumerate*}\n",
       "\\item 42611\n",
       "\\item 8674\n",
       "\\end{enumerate*}\n"
      ],
      "text/markdown": [
       "1. 42611\n",
       "2. 8674\n",
       "\n",
       "\n"
      ],
      "text/plain": [
       "[1] 42611  8674"
      ]
     },
     "metadata": {},
     "output_type": "display_data"
    },
    {
     "data": {
      "text/html": [
       "<style>\n",
       ".list-inline {list-style: none; margin:0; padding: 0}\n",
       ".list-inline>li {display: inline-block}\n",
       ".list-inline>li:not(:last-child)::after {content: \"\\00b7\"; padding: 0 .5ex}\n",
       "</style>\n",
       "<ol class=list-inline><li>9784</li><li>79</li></ol>\n"
      ],
      "text/latex": [
       "\\begin{enumerate*}\n",
       "\\item 9784\n",
       "\\item 79\n",
       "\\end{enumerate*}\n"
      ],
      "text/markdown": [
       "1. 9784\n",
       "2. 79\n",
       "\n",
       "\n"
      ],
      "text/plain": [
       "[1] 9784   79"
      ]
     },
     "metadata": {},
     "output_type": "display_data"
    }
   ],
   "source": [
    "piggyback::pb_download(\n",
    "    repo = \"TheJacksonLaboratory/sbas\", \n",
    "    file = \"SraRunTable.noCram.noExome.noWGS.totalRNA.txt.gz\",\n",
    "    tag  = \"GTExV8.v1.0\", \n",
    "    dest = \"../data/\")\n",
    "\n",
    "piggyback::pb_download(\n",
    "    repo = \"adeslatt/sbas_test\", \n",
    "    file = \"rmats_final.se.jc.ijc.txt.gz\",\n",
    "    tag  = \"rMATS.3.2.5.GTEx.V8.final_matrices\", \n",
    "    dest = \"../data/\")\n",
    "\n",
    "piggyback::pb_download(\n",
    "    repo = \"adeslatt/sbas_test\", \n",
    "    file = \"rmats_final.se.jc.sjc.txt.gz\",\n",
    "    tag  = \"rMATS.3.2.5.GTEx.V8.final_matrices\", \n",
    "    dest = \"../data/\")\n",
    "\n",
    "ijc.iso.counts.mem <- data.table::fread(\"../data/rmats_final.se.jc.ijc.txt.gz\") \n",
    "sjc.iso.counts.mem <- data.table::fread(\"../data/rmats_final.se.jc.sjc.txt.gz\") \n",
    "meta.data          <- data.table::fread(\"../data/SraRunTable.noCram.noExome.noWGS.totalRNA.txt.gz\")\n",
    "\n",
    "head(ijc.iso.counts.mem)\n",
    "head(sjc.iso.counts.mem)\n",
    "head(meta.data)\n",
    "\n",
    "#dimensions before we make the changes.\n",
    "dim(ijc.iso.counts.mem)\n",
    "dim(sjc.iso.counts.mem)\n",
    "dim(meta.data)"
   ]
  },
  {
   "cell_type": "markdown",
   "metadata": {},
   "source": [
    "## Synchronize metadata samples with ijc sjc samples\n",
    "\n",
    "Keep only the runs that are in the ijc count list (assuming ijc and sjc are the same).  As well, name the rows with the junction id column and then make the matrix just about the counts."
   ]
  },
  {
   "cell_type": "code",
   "execution_count": 5,
   "metadata": {},
   "outputs": [
    {
     "data": {
      "text/plain": [
       "keep.meta.data\n",
       "FALSE  TRUE \n",
       " 1111  8673 "
      ]
     },
     "metadata": {},
     "output_type": "display_data"
    }
   ],
   "source": [
    "# the sample names are in the columns of both the ijc and the sjc matrices, these matrices have the identical column order)\n",
    "keep.meta.data <- meta.data$Run %in% colnames(ijc.iso.counts.mem)\n",
    "table(keep.meta.data)\n",
    "reduced.meta.data <- meta.data[keep.meta.data==TRUE,]\n",
    "\n",
    "# preserve junction id as rowname\n",
    "rownames(ijc.iso.counts.mem) <- ijc.iso.counts.mem$ID\n",
    "rownames(sjc.iso.counts.mem) <- sjc.iso.counts.mem$ID\n",
    "\n",
    "# and remove the id to have a data matrix\n",
    "ijc.iso.counts.mem  <- ijc.iso.counts.mem[,-1]\n",
    "sjc.iso.counts.mem  <- sjc.iso.counts.mem[,-1]"
   ]
  },
  {
   "cell_type": "markdown",
   "metadata": {},
   "source": [
    "## Order ijc and sjc columns in the same order as the metadata Run order\n",
    "\n",
    "Using tibble library, we can rearrange the columns as the column name.  "
   ]
  },
  {
   "cell_type": "code",
   "execution_count": 6,
   "metadata": {},
   "outputs": [
    {
     "data": {
      "text/html": [
       "<style>\n",
       ".list-inline {list-style: none; margin:0; padding: 0}\n",
       ".list-inline>li {display: inline-block}\n",
       ".list-inline>li:not(:last-child)::after {content: \"\\00b7\"; padding: 0 .5ex}\n",
       "</style>\n",
       "<ol class=list-inline><li>42611</li><li>8673</li></ol>\n"
      ],
      "text/latex": [
       "\\begin{enumerate*}\n",
       "\\item 42611\n",
       "\\item 8673\n",
       "\\end{enumerate*}\n"
      ],
      "text/markdown": [
       "1. 42611\n",
       "2. 8673\n",
       "\n",
       "\n"
      ],
      "text/plain": [
       "[1] 42611  8673"
      ]
     },
     "metadata": {},
     "output_type": "display_data"
    },
    {
     "data": {
      "text/html": [
       "<style>\n",
       ".list-inline {list-style: none; margin:0; padding: 0}\n",
       ".list-inline>li {display: inline-block}\n",
       ".list-inline>li:not(:last-child)::after {content: \"\\00b7\"; padding: 0 .5ex}\n",
       "</style>\n",
       "<ol class=list-inline><li>42611</li><li>8673</li></ol>\n"
      ],
      "text/latex": [
       "\\begin{enumerate*}\n",
       "\\item 42611\n",
       "\\item 8673\n",
       "\\end{enumerate*}\n"
      ],
      "text/markdown": [
       "1. 42611\n",
       "2. 8673\n",
       "\n",
       "\n"
      ],
      "text/plain": [
       "[1] 42611  8673"
      ]
     },
     "metadata": {},
     "output_type": "display_data"
    },
    {
     "data": {
      "text/html": [
       "<style>\n",
       ".list-inline {list-style: none; margin:0; padding: 0}\n",
       ".list-inline>li {display: inline-block}\n",
       ".list-inline>li:not(:last-child)::after {content: \"\\00b7\"; padding: 0 .5ex}\n",
       "</style>\n",
       "<ol class=list-inline><li>8673</li><li>79</li></ol>\n"
      ],
      "text/latex": [
       "\\begin{enumerate*}\n",
       "\\item 8673\n",
       "\\item 79\n",
       "\\end{enumerate*}\n"
      ],
      "text/markdown": [
       "1. 8673\n",
       "2. 79\n",
       "\n",
       "\n"
      ],
      "text/plain": [
       "[1] 8673   79"
      ]
     },
     "metadata": {},
     "output_type": "display_data"
    }
   ],
   "source": [
    "meta.data.run.names  <- as.character(reduced.meta.data$Run)\n",
    "ijc.iso.counts.mem2  <- as_tibble(ijc.iso.counts.mem)\n",
    "sjc.iso.counts.mem2  <- as_tibble(sjc.iso.counts.mem)\n",
    "\n",
    "ijc.iso.counts.mem2  <- ijc.iso.counts.mem2[,c(meta.data.run.names)]\n",
    "sjc.iso.counts.mem2  <- sjc.iso.counts.mem2[,c(meta.data.run.names)]\n",
    "\n",
    "dim(ijc.iso.counts.mem2)\n",
    "dim(sjc.iso.counts.mem2)\n",
    "dim(reduced.meta.data)"
   ]
  },
  {
   "cell_type": "markdown",
   "metadata": {},
   "source": [
    "Remove samples that match '11IL0' from the ijc, sjc and metadata files using the logical grep, grepl"
   ]
  },
  {
   "cell_type": "code",
   "execution_count": 7,
   "metadata": {},
   "outputs": [
    {
     "data": {
      "text/plain": [
       "keep.meta.data\n",
       "FALSE  TRUE \n",
       "   12  8661 "
      ]
     },
     "metadata": {},
     "output_type": "display_data"
    },
    {
     "data": {
      "text/html": [
       "<style>\n",
       ".list-inline {list-style: none; margin:0; padding: 0}\n",
       ".list-inline>li {display: inline-block}\n",
       ".list-inline>li:not(:last-child)::after {content: \"\\00b7\"; padding: 0 .5ex}\n",
       "</style>\n",
       "<ol class=list-inline><li>42611</li><li>8661</li></ol>\n"
      ],
      "text/latex": [
       "\\begin{enumerate*}\n",
       "\\item 42611\n",
       "\\item 8661\n",
       "\\end{enumerate*}\n"
      ],
      "text/markdown": [
       "1. 42611\n",
       "2. 8661\n",
       "\n",
       "\n"
      ],
      "text/plain": [
       "[1] 42611  8661"
      ]
     },
     "metadata": {},
     "output_type": "display_data"
    },
    {
     "data": {
      "text/html": [
       "<style>\n",
       ".list-inline {list-style: none; margin:0; padding: 0}\n",
       ".list-inline>li {display: inline-block}\n",
       ".list-inline>li:not(:last-child)::after {content: \"\\00b7\"; padding: 0 .5ex}\n",
       "</style>\n",
       "<ol class=list-inline><li>42611</li><li>8661</li></ol>\n"
      ],
      "text/latex": [
       "\\begin{enumerate*}\n",
       "\\item 42611\n",
       "\\item 8661\n",
       "\\end{enumerate*}\n"
      ],
      "text/markdown": [
       "1. 42611\n",
       "2. 8661\n",
       "\n",
       "\n"
      ],
      "text/plain": [
       "[1] 42611  8661"
      ]
     },
     "metadata": {},
     "output_type": "display_data"
    }
   ],
   "source": [
    "keep.meta.data <- (!grepl('11ILO',reduced.meta.data$\"Sample Name\"))\n",
    "table(keep.meta.data)\n",
    "ijc.iso.counts.mem2 <-ijc.iso.counts.mem2 [                    ,keep.meta.data==TRUE]\n",
    "sjc.iso.counts.mem2 <-sjc.iso.counts.mem2 [                    ,keep.meta.data==TRUE]\n",
    "\n",
    "reduced.meta.data   <-reduced.meta.data   [keep.meta.data==TRUE,                    ]\n",
    "dim(ijc.iso.counts.mem2)\n",
    "dim(sjc.iso.counts.mem2)"
   ]
  },
  {
   "cell_type": "markdown",
   "metadata": {},
   "source": [
    "### and now for all tissues\n"
   ]
  },
  {
   "cell_type": "markdown",
   "metadata": {},
   "source": [
    "### exploration of the details\n",
    "\n",
    "For each sample, we have ijc and sjc count data and demo\n",
    "For exon skipping events (SE), we have 42,611 non-zero junction IDs the (first dimension of the ijc and sjc cout table) for the skipped exon event for breast-Mammary Tissue, 191 individuals.  These are healthy individuals, and we are studying the impact of sex on the occurrence or non-occurance of specific alternative splicing events.   We explore the information we ahve about these junctions and create a construct, as_event, which accounts for the junction under exploration.\n",
    "\n",
    "#### Exploring the ijc and sjc Count data \n",
    "\n",
    "We have two counts that are in many ways two sides of the same coin.  Both our the observational output and we wish to see how robust each are in their ability to separate out the samples to provide for us differentially expressed isoform events as measured by their counts.   Each junction is in a manner a specific marker to specific isoform events that may or may not be shared between the genders.   If there is significant results, then this is indicative of the separation achieved by isoform specific differentiation.   In our model we will use these in combination, it is important to see if they will yield the results we are looking for."
   ]
  },
  {
   "cell_type": "code",
   "execution_count": 8,
   "metadata": {},
   "outputs": [
    {
     "data": {
      "text/html": [
       "8661"
      ],
      "text/latex": [
       "8661"
      ],
      "text/markdown": [
       "8661"
      ],
      "text/plain": [
       "[1] 8661"
      ]
     },
     "metadata": {},
     "output_type": "display_data"
    },
    {
     "data": {
      "text/html": [
       "8661"
      ],
      "text/latex": [
       "8661"
      ],
      "text/markdown": [
       "8661"
      ],
      "text/plain": [
       "[1] 8661"
      ]
     },
     "metadata": {},
     "output_type": "display_data"
    },
    {
     "data": {
      "text/html": [
       "8661"
      ],
      "text/latex": [
       "8661"
      ],
      "text/markdown": [
       "8661"
      ],
      "text/plain": [
       "[1] 8661"
      ]
     },
     "metadata": {},
     "output_type": "display_data"
    },
    {
     "data": {
      "text/plain": [
       "keep\n",
       "FALSE  TRUE \n",
       "  673  7988 "
      ]
     },
     "metadata": {},
     "output_type": "display_data"
    },
    {
     "data": {
      "text/html": [
       "<style>\n",
       ".list-inline {list-style: none; margin:0; padding: 0}\n",
       ".list-inline>li {display: inline-block}\n",
       ".list-inline>li:not(:last-child)::after {content: \"\\00b7\"; padding: 0 .5ex}\n",
       "</style>\n",
       "<ol class=list-inline><li>42611</li><li>7988</li></ol>\n"
      ],
      "text/latex": [
       "\\begin{enumerate*}\n",
       "\\item 42611\n",
       "\\item 7988\n",
       "\\end{enumerate*}\n"
      ],
      "text/markdown": [
       "1. 42611\n",
       "2. 7988\n",
       "\n",
       "\n"
      ],
      "text/plain": [
       "[1] 42611  7988"
      ]
     },
     "metadata": {},
     "output_type": "display_data"
    },
    {
     "data": {
      "text/html": [
       "<style>\n",
       ".list-inline {list-style: none; margin:0; padding: 0}\n",
       ".list-inline>li {display: inline-block}\n",
       ".list-inline>li:not(:last-child)::after {content: \"\\00b7\"; padding: 0 .5ex}\n",
       "</style>\n",
       "<ol class=list-inline><li>42611</li><li>7988</li></ol>\n"
      ],
      "text/latex": [
       "\\begin{enumerate*}\n",
       "\\item 42611\n",
       "\\item 7988\n",
       "\\end{enumerate*}\n"
      ],
      "text/markdown": [
       "1. 42611\n",
       "2. 7988\n",
       "\n",
       "\n"
      ],
      "text/plain": [
       "[1] 42611  7988"
      ]
     },
     "metadata": {},
     "output_type": "display_data"
    },
    {
     "data": {
      "text/html": [
       "<style>\n",
       ".list-inline {list-style: none; margin:0; padding: 0}\n",
       ".list-inline>li {display: inline-block}\n",
       ".list-inline>li:not(:last-child)::after {content: \"\\00b7\"; padding: 0 .5ex}\n",
       "</style>\n",
       "<ol class=list-inline><li>7988</li><li>79</li></ol>\n"
      ],
      "text/latex": [
       "\\begin{enumerate*}\n",
       "\\item 7988\n",
       "\\item 79\n",
       "\\end{enumerate*}\n"
      ],
      "text/markdown": [
       "1. 7988\n",
       "2. 79\n",
       "\n",
       "\n"
      ],
      "text/plain": [
       "[1] 7988   79"
      ]
     },
     "metadata": {},
     "output_type": "display_data"
    },
    {
     "data": {
      "text/html": [
       "7988"
      ],
      "text/latex": [
       "7988"
      ],
      "text/markdown": [
       "7988"
      ],
      "text/plain": [
       "[1] 7988"
      ]
     },
     "metadata": {},
     "output_type": "display_data"
    }
   ],
   "source": [
    "tissue_list <- factor(reduced.meta.data$body_site)\n",
    "length(tissue_list)\n",
    "\n",
    "male_tissues_true   <- reduced.meta.data$sex == \"male\"\n",
    "female_tissues_true <- reduced.meta.data$sex == \"female\"\n",
    "\n",
    "sum(table(male_tissues_true))\n",
    "sum(table(female_tissues_true))\n",
    "\n",
    "male_tissue_list   <- factor(tissue_list[male_tissues_true   == TRUE])\n",
    "female_tissue_list <- factor(tissue_list[female_tissues_true == TRUE])\n",
    "\n",
    "male_female_tissue_list <- intersect(levels(male_tissue_list),levels(female_tissue_list))\n",
    "\n",
    "keep = tissue_list %in% male_female_tissue_list\n",
    "\n",
    "table(keep)\n",
    "\n",
    "ijc_m_f         = ijc.iso.counts.mem2[          ,keep==TRUE]\n",
    "sjc_m_f         = sjc.iso.counts.mem2[          ,keep==TRUE]\n",
    "metadata_m_f    = reduced.meta.data  [keep==TRUE,          ]\n",
    "tissue_list_m_f = tissue_list        [keep==TRUE]\n",
    "\n",
    "dim(ijc_m_f)\n",
    "dim(sjc_m_f)\n",
    "dim(metadata_m_f)\n",
    "length(tissue_list_m_f)"
   ]
  },
  {
   "cell_type": "markdown",
   "metadata": {},
   "source": [
    "## Exploratory and Differential analysis as_event:ijc, sjc \n",
    "\n",
    "Differential Analysis (DE) was performed using voom (Law et.al., 2014) to transform junction counts (reads that were aligned to junctions when an exon is included - ijc, and reads that were aligned to junctions when the exon is excluded - sjc) with associated precision weights, followed by linear modeling and empirical Bayes procedure using limma.    In each tissue, the following linear regression model was used to detec secually dimorphic alternative splicing event expression: \n",
    "\n",
    "           y = B0 + B1 sex + epsilon (error)\n",
    "           \n",
    "\n",
    "where y is the included exon junction count expression; sex denotes the reported sex of the subject\n",
    "\n",
    "## Differential analysis as_event (combined ijc and sjc)\n",
    "\n",
    "Differential Analysis (DE) was performed using voom (Law et.al., 2014) to transform junction counts (reads that were aligned to junctions when an exon is included - ijc, and reads that were aligned to junctions when the exon is excluded - sjc) with associated precision weights, followed by linear modeling and empirical Bayes procedure using limma.    In each tissue, the following linear regression model was used to detec secually dimorphic alternative splicing event expression: \n",
    "\n",
    "           y = B0 + B1 sex + B2 as_event + B3 sex*as_event + epsilon (error)\n",
    "           \n",
    "\n",
    "where y is the alternative splicing event expression; sex denotes the reported sex of the subject, as_event represents the specific alternative splicing event - either included exon junction counts or skipped exon junction counts and their interaction terms.   Donor is added to our model as a blocking variable used in both the calculation of duplicate correlation as well as in the linear fit.\n",
    "\n",
    "### Voom, limma's lmFit and eBayes\n",
    "\n",
    "Using sample as a blocking variable, we are able to model the effects of the donor on the results, which improves the power.  This topic is discussed in biostars https://www.biostars.org/p/54565/.  And Gordon Smyth answers the question here https://mailman.stat.ethz.ch/pipermail/bioconductor/2014-February/057887.html.  The method of modeling is a random effects approach in which the intra-donor correlation is incorporated into the covariance matrix instead of the linear predictor.   And though as Gordon Smyth states both are good method and the twoway anova approach makes fewer assumptions, the random effects approach is statistically more powerful.  \n",
    "\n",
    "We have a balanced design in which all donors receive all stimuli (which is really in healthy human donors, life and all of its factors!) Our measurement has so many points -- we are measuring in the skipped exon approach, 42,611 junctions!   It is not possible to encorporate those measurements into the linear predictor.  A two-way ANOVA approach is virtually as powerful as the random effects approach \n",
    "and hence is preferable as it makes fewer assumptions.\n",
    "\n",
    "For an unbalanced design in which each donor receives only a subset of the stimula, the random effects approach is more powerful.\n",
    "\n",
    "Random effects approach is equivalent to The first method is twoway anova, a generalization of a paired analysis.\n"
   ]
  },
  {
   "cell_type": "code",
   "execution_count": 78,
   "metadata": {},
   "outputs": [],
   "source": [
    "print_exploratory_plots <- function (tissue_of_interest, tissue_list, ijc, sjc, metadata ) {\n",
    "\n",
    "    tissue_true       <- tissue_list == tissue_of_interest\n",
    "    table(tissue_true)\n",
    "    ijc_tissue        <- ijc      [                 ,tissue_true==TRUE]\n",
    "    sjc_tissue        <- sjc      [                 ,tissue_true==TRUE]\n",
    "    metadata_tissue   <- metadata [tissue_true==TRUE,                 ]\n",
    "\n",
    "    ijc.df            <- as.data.frame(ijc_tissue)\n",
    "    sjc.df            <- as.data.frame(sjc_tissue)    \n",
    "    ijc.dm            <- data.matrix(ijc.df)\n",
    "    sjc.dm            <- data.matrix(sjc.df)    \n",
    "    \n",
    "    sex       <- factor(metadata_tissue$sex,levels=c('male','female')) \n",
    "    design    <- model.matrix ( ~ sex)\n",
    "    colnames(design) = c(\"intercept\",\"sex\")\n",
    "    head(design)\n",
    "\n",
    "    y_ijc <- DGEList(counts=ijc.dm, group = sex)\n",
    "    y_sjc <- DGEList(counts=sjc.dm, group = sex)\n",
    "\n",
    "    y_ijc <- calcNormFactors(y_ijc, method=\"upperquartile\")\n",
    "    y_sjc <- calcNormFactors(y_sjc, method=\"upperquartile\")\n",
    "    \n",
    "    y_ijc_voom <- voom (y_ijc, design=design, plot=TRUE)\n",
    "    y_sjc_voom <- voom (y_sjc, design=design, plot=TRUE)\n",
    "\n",
    "    fit_ijc <- lmFit(y_ijc_voom, design)\n",
    "    fit_sjc <- lmFit(y_sjc_voom, design)\n",
    "\n",
    "    fit_ijc <- eBayes(fit_ijc)\n",
    "    fit_sjc <- eBayes(fit_sjc)\n",
    "   ijc_sex_results          <- topTable(fit_ijc, coef='sex', number=nrow(y_ijc_voom))\n",
    "    sjc_sex_results          <- topTable(fit_sjc, coef='sex', number=nrow(y_sjc_voom))\n",
    "\n",
    "    ijc_sex_results_refined  <- ijc_sex_results$adj.P.Val < 0.05 & abs(ijc_sex_results$logFC) > 1.5\n",
    "    sjc_sex_results_refined  <- sjc_sex_results$adj.P.Val < 0.05 & abs(sjc_sex_results$logFC) > 1.5\n",
    "\n",
    "    # print these exploratory plots for ijc and sjc alone\n",
    "    Gender <- substring(sex,1,1)\n",
    "    filename <- paste0(paste0(\"../pdf/\", snakecase::to_snake_case(tissue_of_interest)),\"-ijc-MDSplot-10.pdf\")\n",
    "    pdf (filename)\n",
    "        plotMDS(y_ijc, labels=Gender, top=10, col=ifelse(Gender==\"m\",\"blue\",\"red\"), \n",
    "                gene.selection=\"common\")\n",
    "    dev.off()\n",
    "    filename <- paste0(paste0(\"../pdf/\", snakecase::to_snake_case(tissue_of_interest)),\"-ijc-voom-MDSplot-10.pdf\")\n",
    "    pdf (filename)    \n",
    "        plotMDS(y_ijc_voom, labels=Gender, top=10, col=ifelse(Gender==\"m\",\"blue\",\"red\"), \n",
    "                gene.selection=\"common\")\n",
    "    dev.off()\n",
    "    filename <- paste0(paste0(\"../pdf/\", snakecase::to_snake_case(tissue_of_interest)),\"-sjc-MDSplot-10.pdf\")\n",
    "    pdf (filename)\n",
    "        plotMDS(y_sjc, labels=Gender, top=10, col=ifelse(Gender==\"m\",\"blue\",\"red\"), \n",
    "                gene.selection=\"common\")\n",
    "    dev.off()\n",
    "    filename <- paste0(paste0(\"../pdf/\", snakecase::to_snake_case(tissue_of_interest)),\"-sjc-voom-MDSplot-10.pdf\")\n",
    "    pdf (filename)    \n",
    "        plotMDS(y_sjc_voom, labels=Gender, top=10, col=ifelse(Gender==\"m\",\"blue\",\"red\"), \n",
    "                gene.selection=\"common\")\n",
    "    dev.off()\n",
    "    \n",
    "     ijc_names    <- as.character(colnames(ijc.dm))\n",
    "    sjc_names    <- as.character(colnames(sjc.dm))\n",
    "    sample_names <- as.character(colnames(ijc.dm))\n",
    "\n",
    "    ijc_names <- paste0(ijc_names,\"-ijc\")\n",
    "    sjc_names <- paste0(sjc_names,\"-sjc\")\n",
    "    colnames(ijc.dm) <- ijc_names\n",
    "    colnames(sjc.dm) <- sjc_names\n",
    "\n",
    "    as_matrix <- cbind(ijc.dm,sjc.dm)\n",
    "    sex       <- c(rep(metadata_tissue$sex,2))\n",
    "    sex       <- factor(sex, levels=c('male','female'))\n",
    "    as_event  <- c(rep(\"ijc\",dim(ijc.dm)[2]), rep(\"sjc\", dim(sjc.dm)[2]))\n",
    "    as_event  <- factor(as_event, levels=c(\"ijc\", \"sjc\"))\n",
    "\n",
    "    length(as_event)\n",
    "    # we will add donor as a blocking parameter\n",
    "    donor    <- rep(sample_names, 2)\n",
    "\n",
    "    design    <- model.matrix( ~ sex + as_event + sex*as_event )\n",
    "\n",
    "    colnames(design) <- c(\"intercept\",\"sex\",\"as_event\",\"sex*as_event\")\n",
    "\n",
    "    dim(as_matrix)\n",
    "    table(sex)\n",
    "    table(as_event)\n",
    "    head(design)\n",
    "\n",
    "     y <- DGEList(counts=as_matrix, group = sex)\n",
    "     y <- calcNormFactors(y, method=\"upperquartile\")\n",
    "     y_voom <- voom (y, design=design, plot = TRUE)\n",
    "\n",
    "    # print the combined exploratory plot\n",
    "    filename <- paste0(paste0(\"../pdf/\", snakecase::to_snake_case(tissue_of_interest)),\"-y-ijc-MDSplot-10.pdf\")\n",
    "    pdf (filename)\n",
    "        plotMDS(y[,c(1:dim(ijc.dm)[2])], labels=Gender, top=10, col=ifelse(Gender==\"m\",\"blue\",\"red\"), \n",
    "            gene.selection=\"common\")\n",
    "    dev.off()\n",
    "    filename <- paste0(paste0(\"../pdf/\", snakecase::to_snake_case(tissue_of_interest)),\"-y-voom-ijc-MDSplot-10.pdf\")\n",
    "    pdf (filename)\n",
    "        plotMDS(y_voom[,c(1:dim(ijc.dm)[2])], labels=Gender, top=10, col=ifelse(Gender==\"m\",\"blue\",\"red\"), \n",
    "            gene.selection=\"common\")\n",
    "    dev.off()\n",
    "    filename <- paste0(paste0(\"../pdf/\", snakecase::to_snake_case(tissue_of_interest)),\"-y-sjc-MDSplot-10.pdf\")\n",
    "    pdf (filename)\n",
    "        plotMDS(y[,c((dim(ijc.dm)[2]+1)):(dim(ijc.dm)[2]+dim(sjc.dm)[2])], labels=Gender, top=10, col=ifelse(Gender==\"m\",\"blue\",\"red\"), \n",
    "            gene.selection=\"common\")\n",
    "    dev.off()\n",
    "    filename <- paste0(paste0(\"../pdf/\", snakecase::to_snake_case(tissue_of_interest)),\"-y-voom-sjc-MDSplot-10.pdf\")\n",
    "    pdf (filename)\n",
    "        plotMDS(y_voom[,c((dim(ijc.dm)[2]+1)):(dim(ijc.dm)[2]+dim(sjc.dm)[2])], labels=Gender, top=10, col=ifelse(Gender==\"m\",\"blue\",\"red\"), \n",
    "            gene.selection=\"common\")\n",
    "    dev.off()\n",
    "    # for testing not using\n",
    "    #dup_cor <- duplicateCorrelation(y_voom$E, design=design, ndups=2, block=donor, weights=y$samples$norm.factors)\n",
    "    #dup_cor$consensus.correlation \n",
    "    \n",
    "    #fit <- lmFit(y_dup_voom, design=design, block=donor, correlation = dup_cor$consensus.correlation)\n",
    "    fit <- lmFit(y_voom, design=design)\n",
    "    fit <- eBayes(fit, robust=TRUE)    \n",
    "    \n",
    "    sex_as_events_results         <- topTable(fit, coef=\"sex*as_event\", number=nrow(y_voom))\n",
    "    sex_as_events_results_refined <- sex_as_events_results$adj.P.Val < 0.05 & abs(sex_as_events_results$logFC) > 1.5\n",
    "\n",
    "    sex_results                   <- topTable(fit, coef=\"sex\", number=nrow(y_voom))\n",
    "    sex_results_refined           <- sex_results$adj.P.Val < 0.05 & abs(sex_results$logFC) > 1.5\n",
    "\n",
    "    if (! (file.exists(\"../data/fromGTF.tar.gz\"))) {\n",
    "        system(\"mkdir -p ../data\", intern = TRUE)\n",
    "        message(\"Fetching fromGTF.tar.gz from GitHub ..\")\n",
    "        # Download archive from GitHub release with tag \"dge\"\n",
    "        piggyback::pb_download(file = \"fromGTF.tar.gz\",\n",
    "                           dest = \"../data\",\n",
    "                           repo = \"adeslatt/sbas_gtf\",\n",
    "                           tag  = \"rMATS.3.2.5.gencode.v30\",\n",
    "                           show_progress = TRUE)\n",
    "        message(\"Done!\\n\")\n",
    "        message(\"Decompressing fromGTF.tar.gz into ../data\")\n",
    "        system(\"mkdir -p ../data && tar xvfz ../data/fromGTF.tar.gz -C ../data\", intern = TRUE)\n",
    "        message(\"Done!\\n\")\n",
    "        message(\"Decompressing fromGTF.*.txt.gz into ../data\")\n",
    "        system(\"gunzip  ../data/fromGTF*.txt.gz \", intern = TRUE)\n",
    "        message(\"Done!\\n\")\n",
    "    }\n",
    "    fromGTF.SE <- read.table(\"../data/fromGTF.SE.txt\", header=TRUE)\n",
    "    head(fromGTF.SE)\n",
    "    genes <- factor(fromGTF.SE$geneSymbol)\n",
    "    length(levels(genes))    \n",
    "\n",
    "    sex_as_events_rnResults <- rownames(sex_as_events_results)\n",
    "    sex_rnResults           <- rownames(sex_results)\n",
    "    ijc_sex_rnResults       <- rownames(ijc_sex_results)\n",
    "    sjc_sex_rnResults       <- rownames(sjc_sex_results)\n",
    "    head(sex_as_events_rnResults)\n",
    "    head(ijc_sex_rnResults)\n",
    "    head(sjc_sex_rnResults)\n",
    "    head(sex_rnResults)\n",
    "    head(fromGTF.SE[sex_as_events_rnResults,])\n",
    "    \n",
    "    # use the junctionIDs to get the annotations\n",
    "    sex_as_events_resultsAnnotations      <- fromGTF.SE[sex_as_events_rnResults,]\n",
    "    sex_resultsAnnotations                <- fromGTF.SE[sex_rnResults,]\n",
    "    ijc_sex_resultsAnnotations            <- fromGTF.SE[ijc_sex_rnResults,]\n",
    "    sjc_sex_resultsAnnotations            <- fromGTF.SE[sjc_sex_rnResults,]\n",
    "    head(sex_as_events_resultsAnnotations)\n",
    "    head(sex_resultsAnnotations)\n",
    "    head(ijc_sex_resultsAnnotations)\n",
    "    head(sjc_sex_resultsAnnotations)\n",
    "    \n",
    "    sex_as_events_results_refinedAnnotations<- sex_as_events_resultsAnnotations[sex_as_events_results_refined==TRUE,]\n",
    "    sex_results_refinedAnnotations          <- sex_resultsAnnotations          [sex_results_refined          ==TRUE,]\n",
    "    ijc_sex_results_refinedAnnotations      <- ijc_sex_resultsAnnotations      [ijc_sex_results_refined      ==TRUE,]\n",
    "    sjc_sex_results_refinedAnnotations      <- sjc_sex_resultsAnnotations      [sjc_sex_results_refined      ==TRUE,]\n",
    "    head(sex_as_events_results_refinedAnnotations)\n",
    "    head(sex_results_refinedAnnotations)\n",
    "    head(ijc_sex_results_refinedAnnotations)\n",
    "    head(sjc_sex_results_refinedAnnotations)\n",
    "\n",
    "    # geneSymbols are in the annotations \n",
    "    sex_as_events_geneSymbols         <- sex_as_events_resultsAnnotations$geneSymbol\n",
    "    sex_geneSymbols                   <- sex_resultsAnnotations$geneSymbol\n",
    "    ijc_sex_geneSymbols               <- ijc_sex_resultsAnnotations$geneSymbol\n",
    "    sjc_sex_geneSymbols               <- sjc_sex_resultsAnnotations$geneSymbol\n",
    "\n",
    "    sex_as_events_refined_geneSymbols <- sex_as_events_results_refinedAnnotations$geneSymbol\n",
    "    sex_refined_geneSymbols           <- sex_results_refinedAnnotations$geneSymbol\n",
    "    ijc_sex_refined_geneSymbols       <- ijc_sex_results_refinedAnnotations$geneSymbol\n",
    "    sjc_sex_refined_geneSymbols       <- sjc_sex_results_refinedAnnotations$geneSymbol\n",
    "\n",
    "    # adjust the rownames to be the geneSymbols rather than junction IDs\n",
    "    sex_as_events_results_rn   <- paste(sex_as_events_geneSymbols, sex_as_events_rnResults, sep=\"-\")\n",
    "    sex_results_rn             <- paste(sex_geneSymbols,           sex_rnResults, sep=\"-\")\n",
    "    ijc_sex_results_rn         <- paste(ijc_sex_geneSymbols,       ijc_sex_rnResults, sep=\"-\")\n",
    "    sjc_sex_results_rn         <- paste(sjc_sex_geneSymbols,       sjc_sex_rnResults, sep=\"-\")\n",
    "    head(sex_as_events_results_rn)\n",
    "    head(sex_results_rn)\n",
    "    head(ijc_sex_results_rn)\n",
    "    head(sjc_sex_results_rn)    \n",
    "    \n",
    "    rownames(sex_as_events_results) <- sex_as_events_results_rn\n",
    "    rownames(sex_results)           <- sex_results_rn\n",
    "    rownames(ijc_sex_results)       <- ijc_sex_results_rn\n",
    "    rownames(sjc_sex_results)       <- sjc_sex_results_rn\n",
    "    \n",
    "    sex_as_events_filename         = paste0(paste0('../data/',snakecase::to_snake_case(tissue_of_interest)),'_DGE_sex_as_events.csv')\n",
    "    sex_filename                   = paste0(paste0('../data/',snakecase::to_snake_case(tissue_of_interest)),'_DGE_sex.csv',sep='')\n",
    "    ijc_sex_filename               = paste0(paste0('../data/',snakecase::to_snake_case(tissue_of_interest)),'_DGE_ijc_sex.csv',sep='')\n",
    "    sjc_sex_filename               = paste0(paste0('../data/',snakecase::to_snake_case(tissue_of_interest)),'_DGE_sjc_sex.csv',sep='')\n",
    "\n",
    "    sex_as_events_refined_filename = paste0(paste0('../data/',snakecase::to_snake_case(tissue_of_interest)),'_DGE_sex_as_events_refined.csv',sep='')\n",
    "    sex_refined_filename           = paste0(paste0('../data/',snakecase::to_snake_case(tissue_of_interest)),'_DGE_sex_refined.csv',sep='')\n",
    "    ijc_sex_refined_filename       = paste0(paste0('../data/',snakecase::to_snake_case(tissue_of_interest)),'_DGE_ijc_sex_refined.csv',sep='')\n",
    "    sjc_sex_refined_filename       = paste0(paste0('../data/',snakecase::to_snake_case(tissue_of_interest)),'_DGE_sjc_sex_refined.csv',sep='')\n",
    "\n",
    "    sex_as_events_genesFilename    = paste0(paste0('../data/',snakecase::to_snake_case(tissue_of_interest)),'_sex_as_events_universe.txt',sep='')\n",
    "    sex_genesFilename              = paste0(paste0('../data/',snakecase::to_snake_case(tissue_of_interest)),'_sex_universe.txt',sep='')\n",
    "    ijc_sex_genesFilename          = paste0(paste0('../data/',snakecase::to_snake_case(tissue_of_interest)),'_ijc_sex_universe.txt',sep='')\n",
    "    sjc_sex_genesFilename          = paste0(paste0('../data/',snakecase::to_snake_case(tissue_of_interest)),'_sjc_sex_universe.txt',sep='')\n",
    "\n",
    "    sex_as_events_refined_genesFilename = paste0(paste0('../data/',snakecase::to_snake_case(tissue_of_interest)),'_sex_as_events_gene_set.txt',sep='')\n",
    "    sex_refined_genesFilename           = paste0(paste0('../data/',snakecase::to_snake_case(tissue_of_interest)),'_sex_gene_set.txt',sep='')\n",
    "    ijc_sex_refined_genesFilename       = paste0(paste0('../data/',snakecase::to_snake_case(tissue_of_interest)),'_ijc_sex_gene_set.txt',sep='')\n",
    "    sjc_sex_refined_genesFilename       = paste0(paste0('../data/',snakecase::to_snake_case(tissue_of_interest)),'_sjc_sex_gene_set.txt',sep='')\n",
    "\n",
    "    write.table(sex_as_events_results, file = sex_as_events_filename, row.names = T, col.names = T, quote = F, sep = \",\")\n",
    "    write.table(sex_results,           file = sex_filename          , row.names = T, col.names = T, quote = F, sep = \",\")\n",
    "    write.table(ijc_sex_results,       file = ijc_sex_filename      , row.names = T, col.names = T, quote = F, sep = \",\")\n",
    "    write.table(sjc_sex_results,       file = sjc_sex_filename      , row.names = T, col.names = T, quote = F, sep = \",\")\n",
    "\n",
    "    write.table(sex_as_events_results[sex_as_events_results_refined,], file = sex_as_events_refined_filename, row.names = T, col.names = T, quote = F, sep = \",\")\n",
    "    write.table(sex_results          [sex_results_refined          ,], file = sex_refined_filename          , row.names = T, col.names = T, quote = F, sep = \",\")\n",
    "    write.table(ijc_sex_results      [ijc_sex_results_refined      ,], file = ijc_sex_refined_filename      , row.names = T, col.names = T, quote = F, sep = \",\")\n",
    "    write.table(sjc_sex_results      [sjc_sex_results_refined      ,], file = sjc_sex_refined_filename      , row.names = T, col.names = T, quote = F, sep = \",\")\n",
    "\n",
    "    write.table(sex_as_events_geneSymbols, file = sex_as_events_genesFilename, row.names = F, col.names = F, quote = F, sep = \",\")\n",
    "    write.table(sex_geneSymbols,           file = sex_genesFilename          , row.names = F, col.names = F, quote = F, sep = \",\")\n",
    "    write.table(ijc_sex_geneSymbols,       file = ijc_sex_genesFilename      , row.names = F, col.names = F, quote = F, sep = \",\")\n",
    "    write.table(sjc_sex_geneSymbols,       file = sjc_sex_genesFilename      , row.names = F, col.names = F, quote = F, sep = \",\")\n",
    "\n",
    "    write.table(sex_as_events_refined_geneSymbols,file = sex_as_events_refined_genesFilename, row.names = F, col.names = F, quote = F, sep = \",\")\n",
    "    write.table(sex_refined_geneSymbols,          file = sex_refined_genesFilename          , row.names = F, col.names = F, quote = F, sep = \",\")\n",
    "    write.table(ijc_sex_refined_geneSymbols,      file = ijc_sex_refined_genesFilename      , row.names = F, col.names = F, quote = F, sep = \",\")\n",
    "    write.table(sjc_sex_refined_geneSymbols,      file = sjc_sex_refined_genesFilename      , row.names = F, col.names = F, quote = F, sep = \",\")\n",
    "\n",
    "    return(0)\n",
    "}\n"
   ]
  },
  {
   "cell_type": "code",
   "execution_count": 81,
   "metadata": {},
   "outputs": [
    {
     "data": {
      "text/html": [
       "<style>\n",
       ".list-inline {list-style: none; margin:0; padding: 0}\n",
       ".list-inline>li {display: inline-block}\n",
       ".list-inline>li:not(:last-child)::after {content: \"\\00b7\"; padding: 0 .5ex}\n",
       "</style>\n",
       "<ol class=list-inline><li>'Adipose - Subcutaneous'</li><li>'Adipose - Visceral (Omentum)'</li><li>'Adrenal Gland'</li><li>'Artery - Aorta'</li><li>'Artery - Coronary'</li><li>'Artery - Tibial'</li><li>'Bladder'</li><li>'Brain - Amygdala'</li><li>'Brain - Anterior cingulate cortex (BA24)'</li><li>'Brain - Caudate (basal ganglia)'</li><li>'Brain - Cerebellar Hemisphere'</li><li>'Brain - Cerebellum'</li><li>'Brain - Cortex'</li><li>'Brain - Frontal Cortex (BA9)'</li><li>'Brain - Hippocampus'</li><li>'Brain - Hypothalamus'</li><li>'Brain - Nucleus accumbens (basal ganglia)'</li><li>'Brain - Putamen (basal ganglia)'</li><li>'Brain - Spinal cord (cervical c-1)'</li><li>'Brain - Substantia nigra'</li><li>'Breast - Mammary Tissue'</li><li>'Cells - Cultured fibroblasts'</li><li>'Cells - EBV-transformed lymphocytes'</li><li>'Cells - Leukemia cell line (CML)'</li><li>'Cervix - Ectocervix'</li><li>'Cervix - Endocervix'</li><li>'Colon - Sigmoid'</li><li>'Colon - Transverse'</li><li>'Esophagus - Gastroesophageal Junction'</li><li>'Esophagus - Mucosa'</li><li>'Esophagus - Muscularis'</li><li>'Fallopian Tube'</li><li>'Heart - Atrial Appendage'</li><li>'Heart - Left Ventricle'</li><li>'Kidney - Cortex'</li><li>'Liver'</li><li>'Lung'</li><li>'Minor Salivary Gland'</li><li>'Muscle - Skeletal'</li><li>'Nerve - Tibial'</li><li>'Ovary'</li><li>'Pancreas'</li><li>'Pituitary'</li><li>'Prostate'</li><li>'Skin - Not Sun Exposed (Suprapubic)'</li><li>'Skin - Sun Exposed (Lower leg)'</li><li>'Small Intestine - Terminal Ileum'</li><li>'Spleen'</li><li>'Stomach'</li><li>'Testis'</li><li>'Thyroid'</li><li>'Uterus'</li><li>'Vagina'</li><li>'Whole Blood'</li></ol>\n"
      ],
      "text/latex": [
       "\\begin{enumerate*}\n",
       "\\item 'Adipose - Subcutaneous'\n",
       "\\item 'Adipose - Visceral (Omentum)'\n",
       "\\item 'Adrenal Gland'\n",
       "\\item 'Artery - Aorta'\n",
       "\\item 'Artery - Coronary'\n",
       "\\item 'Artery - Tibial'\n",
       "\\item 'Bladder'\n",
       "\\item 'Brain - Amygdala'\n",
       "\\item 'Brain - Anterior cingulate cortex (BA24)'\n",
       "\\item 'Brain - Caudate (basal ganglia)'\n",
       "\\item 'Brain - Cerebellar Hemisphere'\n",
       "\\item 'Brain - Cerebellum'\n",
       "\\item 'Brain - Cortex'\n",
       "\\item 'Brain - Frontal Cortex (BA9)'\n",
       "\\item 'Brain - Hippocampus'\n",
       "\\item 'Brain - Hypothalamus'\n",
       "\\item 'Brain - Nucleus accumbens (basal ganglia)'\n",
       "\\item 'Brain - Putamen (basal ganglia)'\n",
       "\\item 'Brain - Spinal cord (cervical c-1)'\n",
       "\\item 'Brain - Substantia nigra'\n",
       "\\item 'Breast - Mammary Tissue'\n",
       "\\item 'Cells - Cultured fibroblasts'\n",
       "\\item 'Cells - EBV-transformed lymphocytes'\n",
       "\\item 'Cells - Leukemia cell line (CML)'\n",
       "\\item 'Cervix - Ectocervix'\n",
       "\\item 'Cervix - Endocervix'\n",
       "\\item 'Colon - Sigmoid'\n",
       "\\item 'Colon - Transverse'\n",
       "\\item 'Esophagus - Gastroesophageal Junction'\n",
       "\\item 'Esophagus - Mucosa'\n",
       "\\item 'Esophagus - Muscularis'\n",
       "\\item 'Fallopian Tube'\n",
       "\\item 'Heart - Atrial Appendage'\n",
       "\\item 'Heart - Left Ventricle'\n",
       "\\item 'Kidney - Cortex'\n",
       "\\item 'Liver'\n",
       "\\item 'Lung'\n",
       "\\item 'Minor Salivary Gland'\n",
       "\\item 'Muscle - Skeletal'\n",
       "\\item 'Nerve - Tibial'\n",
       "\\item 'Ovary'\n",
       "\\item 'Pancreas'\n",
       "\\item 'Pituitary'\n",
       "\\item 'Prostate'\n",
       "\\item 'Skin - Not Sun Exposed (Suprapubic)'\n",
       "\\item 'Skin - Sun Exposed (Lower leg)'\n",
       "\\item 'Small Intestine - Terminal Ileum'\n",
       "\\item 'Spleen'\n",
       "\\item 'Stomach'\n",
       "\\item 'Testis'\n",
       "\\item 'Thyroid'\n",
       "\\item 'Uterus'\n",
       "\\item 'Vagina'\n",
       "\\item 'Whole Blood'\n",
       "\\end{enumerate*}\n"
      ],
      "text/markdown": [
       "1. 'Adipose - Subcutaneous'\n",
       "2. 'Adipose - Visceral (Omentum)'\n",
       "3. 'Adrenal Gland'\n",
       "4. 'Artery - Aorta'\n",
       "5. 'Artery - Coronary'\n",
       "6. 'Artery - Tibial'\n",
       "7. 'Bladder'\n",
       "8. 'Brain - Amygdala'\n",
       "9. 'Brain - Anterior cingulate cortex (BA24)'\n",
       "10. 'Brain - Caudate (basal ganglia)'\n",
       "11. 'Brain - Cerebellar Hemisphere'\n",
       "12. 'Brain - Cerebellum'\n",
       "13. 'Brain - Cortex'\n",
       "14. 'Brain - Frontal Cortex (BA9)'\n",
       "15. 'Brain - Hippocampus'\n",
       "16. 'Brain - Hypothalamus'\n",
       "17. 'Brain - Nucleus accumbens (basal ganglia)'\n",
       "18. 'Brain - Putamen (basal ganglia)'\n",
       "19. 'Brain - Spinal cord (cervical c-1)'\n",
       "20. 'Brain - Substantia nigra'\n",
       "21. 'Breast - Mammary Tissue'\n",
       "22. 'Cells - Cultured fibroblasts'\n",
       "23. 'Cells - EBV-transformed lymphocytes'\n",
       "24. 'Cells - Leukemia cell line (CML)'\n",
       "25. 'Cervix - Ectocervix'\n",
       "26. 'Cervix - Endocervix'\n",
       "27. 'Colon - Sigmoid'\n",
       "28. 'Colon - Transverse'\n",
       "29. 'Esophagus - Gastroesophageal Junction'\n",
       "30. 'Esophagus - Mucosa'\n",
       "31. 'Esophagus - Muscularis'\n",
       "32. 'Fallopian Tube'\n",
       "33. 'Heart - Atrial Appendage'\n",
       "34. 'Heart - Left Ventricle'\n",
       "35. 'Kidney - Cortex'\n",
       "36. 'Liver'\n",
       "37. 'Lung'\n",
       "38. 'Minor Salivary Gland'\n",
       "39. 'Muscle - Skeletal'\n",
       "40. 'Nerve - Tibial'\n",
       "41. 'Ovary'\n",
       "42. 'Pancreas'\n",
       "43. 'Pituitary'\n",
       "44. 'Prostate'\n",
       "45. 'Skin - Not Sun Exposed (Suprapubic)'\n",
       "46. 'Skin - Sun Exposed (Lower leg)'\n",
       "47. 'Small Intestine - Terminal Ileum'\n",
       "48. 'Spleen'\n",
       "49. 'Stomach'\n",
       "50. 'Testis'\n",
       "51. 'Thyroid'\n",
       "52. 'Uterus'\n",
       "53. 'Vagina'\n",
       "54. 'Whole Blood'\n",
       "\n",
       "\n"
      ],
      "text/plain": [
       " [1] \"Adipose - Subcutaneous\"                   \n",
       " [2] \"Adipose - Visceral (Omentum)\"             \n",
       " [3] \"Adrenal Gland\"                            \n",
       " [4] \"Artery - Aorta\"                           \n",
       " [5] \"Artery - Coronary\"                        \n",
       " [6] \"Artery - Tibial\"                          \n",
       " [7] \"Bladder\"                                  \n",
       " [8] \"Brain - Amygdala\"                         \n",
       " [9] \"Brain - Anterior cingulate cortex (BA24)\" \n",
       "[10] \"Brain - Caudate (basal ganglia)\"          \n",
       "[11] \"Brain - Cerebellar Hemisphere\"            \n",
       "[12] \"Brain - Cerebellum\"                       \n",
       "[13] \"Brain - Cortex\"                           \n",
       "[14] \"Brain - Frontal Cortex (BA9)\"             \n",
       "[15] \"Brain - Hippocampus\"                      \n",
       "[16] \"Brain - Hypothalamus\"                     \n",
       "[17] \"Brain - Nucleus accumbens (basal ganglia)\"\n",
       "[18] \"Brain - Putamen (basal ganglia)\"          \n",
       "[19] \"Brain - Spinal cord (cervical c-1)\"       \n",
       "[20] \"Brain - Substantia nigra\"                 \n",
       "[21] \"Breast - Mammary Tissue\"                  \n",
       "[22] \"Cells - Cultured fibroblasts\"             \n",
       "[23] \"Cells - EBV-transformed lymphocytes\"      \n",
       "[24] \"Cells - Leukemia cell line (CML)\"         \n",
       "[25] \"Cervix - Ectocervix\"                      \n",
       "[26] \"Cervix - Endocervix\"                      \n",
       "[27] \"Colon - Sigmoid\"                          \n",
       "[28] \"Colon - Transverse\"                       \n",
       "[29] \"Esophagus - Gastroesophageal Junction\"    \n",
       "[30] \"Esophagus - Mucosa\"                       \n",
       "[31] \"Esophagus - Muscularis\"                   \n",
       "[32] \"Fallopian Tube\"                           \n",
       "[33] \"Heart - Atrial Appendage\"                 \n",
       "[34] \"Heart - Left Ventricle\"                   \n",
       "[35] \"Kidney - Cortex\"                          \n",
       "[36] \"Liver\"                                    \n",
       "[37] \"Lung\"                                     \n",
       "[38] \"Minor Salivary Gland\"                     \n",
       "[39] \"Muscle - Skeletal\"                        \n",
       "[40] \"Nerve - Tibial\"                           \n",
       "[41] \"Ovary\"                                    \n",
       "[42] \"Pancreas\"                                 \n",
       "[43] \"Pituitary\"                                \n",
       "[44] \"Prostate\"                                 \n",
       "[45] \"Skin - Not Sun Exposed (Suprapubic)\"      \n",
       "[46] \"Skin - Sun Exposed (Lower leg)\"           \n",
       "[47] \"Small Intestine - Terminal Ileum\"         \n",
       "[48] \"Spleen\"                                   \n",
       "[49] \"Stomach\"                                  \n",
       "[50] \"Testis\"                                   \n",
       "[51] \"Thyroid\"                                  \n",
       "[52] \"Uterus\"                                   \n",
       "[53] \"Vagina\"                                   \n",
       "[54] \"Whole Blood\"                              "
      ]
     },
     "metadata": {},
     "output_type": "display_data"
    },
    {
     "data": {
      "text/html": [
       "'Bladder'"
      ],
      "text/latex": [
       "'Bladder'"
      ],
      "text/markdown": [
       "'Bladder'"
      ],
      "text/plain": [
       "[1] \"Bladder\""
      ]
     },
     "metadata": {},
     "output_type": "display_data"
    },
    {
     "data": {
      "text/html": [
       "7988"
      ],
      "text/latex": [
       "7988"
      ],
      "text/markdown": [
       "7988"
      ],
      "text/plain": [
       "[1] 7988"
      ]
     },
     "metadata": {},
     "output_type": "display_data"
    },
    {
     "data": {
      "text/html": [
       "<style>\n",
       ".list-inline {list-style: none; margin:0; padding: 0}\n",
       ".list-inline>li {display: inline-block}\n",
       ".list-inline>li:not(:last-child)::after {content: \"\\00b7\"; padding: 0 .5ex}\n",
       "</style>\n",
       "<ol class=list-inline><li>42611</li><li>7988</li></ol>\n"
      ],
      "text/latex": [
       "\\begin{enumerate*}\n",
       "\\item 42611\n",
       "\\item 7988\n",
       "\\end{enumerate*}\n"
      ],
      "text/markdown": [
       "1. 42611\n",
       "2. 7988\n",
       "\n",
       "\n"
      ],
      "text/plain": [
       "[1] 42611  7988"
      ]
     },
     "metadata": {},
     "output_type": "display_data"
    },
    {
     "data": {
      "text/html": [
       "<style>\n",
       ".list-inline {list-style: none; margin:0; padding: 0}\n",
       ".list-inline>li {display: inline-block}\n",
       ".list-inline>li:not(:last-child)::after {content: \"\\00b7\"; padding: 0 .5ex}\n",
       "</style>\n",
       "<ol class=list-inline><li>42611</li><li>7988</li></ol>\n"
      ],
      "text/latex": [
       "\\begin{enumerate*}\n",
       "\\item 42611\n",
       "\\item 7988\n",
       "\\end{enumerate*}\n"
      ],
      "text/markdown": [
       "1. 42611\n",
       "2. 7988\n",
       "\n",
       "\n"
      ],
      "text/plain": [
       "[1] 42611  7988"
      ]
     },
     "metadata": {},
     "output_type": "display_data"
    },
    {
     "data": {
      "text/html": [
       "<style>\n",
       ".list-inline {list-style: none; margin:0; padding: 0}\n",
       ".list-inline>li {display: inline-block}\n",
       ".list-inline>li:not(:last-child)::after {content: \"\\00b7\"; padding: 0 .5ex}\n",
       "</style>\n",
       "<ol class=list-inline><li>7988</li><li>79</li></ol>\n"
      ],
      "text/latex": [
       "\\begin{enumerate*}\n",
       "\\item 7988\n",
       "\\item 79\n",
       "\\end{enumerate*}\n"
      ],
      "text/markdown": [
       "1. 7988\n",
       "2. 79\n",
       "\n",
       "\n"
      ],
      "text/plain": [
       "[1] 7988   79"
      ]
     },
     "metadata": {},
     "output_type": "display_data"
    },
    {
     "data": {
      "image/png": "[encoded data removed]",
      "text/plain": [
       "Plot with title “voom: Mean-variance trend”"
      ]
     },
     "metadata": {},
     "output_type": "display_data"
    },
    {
     "data": {
      "image/png": "[encoded data removed]",
      "text/plain": [
       "Plot with title “voom: Mean-variance trend”"
      ]
     },
     "metadata": {},
     "output_type": "display_data"
    },
    {
     "data": {
      "text/html": [
       "0"
      ],
      "text/latex": [
       "0"
      ],
      "text/markdown": [
       "0"
      ],
      "text/plain": [
       "[1] 0"
      ]
     },
     "metadata": {},
     "output_type": "display_data"
    },
    {
     "data": {
      "image/png": "[encoded data removed]",
      "text/plain": [
       "Plot with title “voom: Mean-variance trend”"
      ]
     },
     "metadata": {},
     "output_type": "display_data"
    }
   ],
   "source": [
    "levels(tissue_list_m_f)\n",
    "actual_tissue_list_m_f = levels(tissue_list_m_f)\n",
    "tissue_of_interest = actual_tissue_list_m_f[7]\n",
    "tissue_of_interest\n",
    "length(tissue_list_m_f)\n",
    "\n",
    "dim(ijc_m_f)\n",
    "dim(sjc_m_f)\n",
    "dim(metadata_m_f)\n",
    "print_exploratory_plots (tissue_of_interest, tissue_list_m_f, ijc_m_f, sjc_m_f, metadata_m_f ) \n"
   ]
  },
  {
   "cell_type": "code",
   "execution_count": 67,
   "metadata": {},
   "outputs": [
    {
     "data": {
      "text/html": [
       "652"
      ],
      "text/latex": [
       "652"
      ],
      "text/markdown": [
       "652"
      ],
      "text/plain": [
       "[1] 652"
      ]
     },
     "metadata": {},
     "output_type": "display_data"
    },
    {
     "data": {
      "text/html": [
       "<style>\n",
       ".list-inline {list-style: none; margin:0; padding: 0}\n",
       ".list-inline>li {display: inline-block}\n",
       ".list-inline>li:not(:last-child)::after {content: \"\\00b7\"; padding: 0 .5ex}\n",
       "</style>\n",
       "<ol class=list-inline><li>42611</li><li>652</li></ol>\n"
      ],
      "text/latex": [
       "\\begin{enumerate*}\n",
       "\\item 42611\n",
       "\\item 652\n",
       "\\end{enumerate*}\n"
      ],
      "text/markdown": [
       "1. 42611\n",
       "2. 652\n",
       "\n",
       "\n"
      ],
      "text/plain": [
       "[1] 42611   652"
      ]
     },
     "metadata": {},
     "output_type": "display_data"
    },
    {
     "data": {
      "text/plain": [
       "sex\n",
       "  male female \n",
       "   416    236 "
      ]
     },
     "metadata": {},
     "output_type": "display_data"
    },
    {
     "data": {
      "text/plain": [
       "as_event\n",
       "ijc sjc \n",
       "326 326 "
      ]
     },
     "metadata": {},
     "output_type": "display_data"
    },
    {
     "data": {
      "text/html": [
       "<table>\n",
       "<caption>A matrix: 6 × 4 of type dbl</caption>\n",
       "<thead>\n",
       "\t<tr><th></th><th scope=col>intercept</th><th scope=col>sex</th><th scope=col>as_event</th><th scope=col>sex*as_event</th></tr>\n",
       "</thead>\n",
       "<tbody>\n",
       "\t<tr><th scope=row>1</th><td>1</td><td>0</td><td>0</td><td>0</td></tr>\n",
       "\t<tr><th scope=row>2</th><td>1</td><td>0</td><td>0</td><td>0</td></tr>\n",
       "\t<tr><th scope=row>3</th><td>1</td><td>0</td><td>0</td><td>0</td></tr>\n",
       "\t<tr><th scope=row>4</th><td>1</td><td>0</td><td>0</td><td>0</td></tr>\n",
       "\t<tr><th scope=row>5</th><td>1</td><td>0</td><td>0</td><td>0</td></tr>\n",
       "\t<tr><th scope=row>6</th><td>1</td><td>0</td><td>0</td><td>0</td></tr>\n",
       "</tbody>\n",
       "</table>\n"
      ],
      "text/latex": [
       "A matrix: 6 × 4 of type dbl\n",
       "\\begin{tabular}{r|llll}\n",
       "  & intercept & sex & as\\_event & sex*as\\_event\\\\\n",
       "\\hline\n",
       "\t1 & 1 & 0 & 0 & 0\\\\\n",
       "\t2 & 1 & 0 & 0 & 0\\\\\n",
       "\t3 & 1 & 0 & 0 & 0\\\\\n",
       "\t4 & 1 & 0 & 0 & 0\\\\\n",
       "\t5 & 1 & 0 & 0 & 0\\\\\n",
       "\t6 & 1 & 0 & 0 & 0\\\\\n",
       "\\end{tabular}\n"
      ],
      "text/markdown": [
       "\n",
       "A matrix: 6 × 4 of type dbl\n",
       "\n",
       "| <!--/--> | intercept | sex | as_event | sex*as_event |\n",
       "|---|---|---|---|---|\n",
       "| 1 | 1 | 0 | 0 | 0 |\n",
       "| 2 | 1 | 0 | 0 | 0 |\n",
       "| 3 | 1 | 0 | 0 | 0 |\n",
       "| 4 | 1 | 0 | 0 | 0 |\n",
       "| 5 | 1 | 0 | 0 | 0 |\n",
       "| 6 | 1 | 0 | 0 | 0 |\n",
       "\n"
      ],
      "text/plain": [
       "  intercept sex as_event sex*as_event\n",
       "1 1         0   0        0           \n",
       "2 1         0   0        0           \n",
       "3 1         0   0        0           \n",
       "4 1         0   0        0           \n",
       "5 1         0   0        0           \n",
       "6 1         0   0        0           "
      ]
     },
     "metadata": {},
     "output_type": "display_data"
    }
   ],
   "source": []
  },
  {
   "cell_type": "code",
   "execution_count": 72,
   "metadata": {},
   "outputs": [
    {
     "data": {
      "text/html": [
       "<strong>png:</strong> 2"
      ],
      "text/latex": [
       "\\textbf{png:} 2"
      ],
      "text/markdown": [
       "**png:** 2"
      ],
      "text/plain": [
       "png \n",
       "  2 "
      ]
     },
     "metadata": {},
     "output_type": "display_data"
    },
    {
     "data": {
      "text/html": [
       "<strong>png:</strong> 2"
      ],
      "text/latex": [
       "\\textbf{png:} 2"
      ],
      "text/markdown": [
       "**png:** 2"
      ],
      "text/plain": [
       "png \n",
       "  2 "
      ]
     },
     "metadata": {},
     "output_type": "display_data"
    },
    {
     "data": {
      "text/html": [
       "<strong>png:</strong> 2"
      ],
      "text/latex": [
       "\\textbf{png:} 2"
      ],
      "text/markdown": [
       "**png:** 2"
      ],
      "text/plain": [
       "png \n",
       "  2 "
      ]
     },
     "metadata": {},
     "output_type": "display_data"
    },
    {
     "data": {
      "text/html": [
       "<strong>png:</strong> 2"
      ],
      "text/latex": [
       "\\textbf{png:} 2"
      ],
      "text/markdown": [
       "**png:** 2"
      ],
      "text/plain": [
       "png \n",
       "  2 "
      ]
     },
     "metadata": {},
     "output_type": "display_data"
    },
    {
     "data": {
      "image/png": "[encoded data removed]",
      "text/plain": [
       "Plot with title “voom: Mean-variance trend”"
      ]
     },
     "metadata": {},
     "output_type": "display_data"
    }
   ],
   "source": []
  },
  {
   "cell_type": "code",
   "execution_count": 73,
   "metadata": {},
   "outputs": [
    {
     "data": {
      "text/html": [
       "<table>\n",
       "<caption>A data.frame: 6 × 11</caption>\n",
       "<thead>\n",
       "\t<tr><th></th><th scope=col>ID</th><th scope=col>GeneID</th><th scope=col>geneSymbol</th><th scope=col>chr</th><th scope=col>strand</th><th scope=col>exonStart_0base</th><th scope=col>exonEnd</th><th scope=col>upstreamES</th><th scope=col>upstreamEE</th><th scope=col>downstreamES</th><th scope=col>downstreamEE</th></tr>\n",
       "\t<tr><th></th><th scope=col>&lt;int&gt;</th><th scope=col>&lt;fct&gt;</th><th scope=col>&lt;fct&gt;</th><th scope=col>&lt;fct&gt;</th><th scope=col>&lt;fct&gt;</th><th scope=col>&lt;int&gt;</th><th scope=col>&lt;int&gt;</th><th scope=col>&lt;int&gt;</th><th scope=col>&lt;int&gt;</th><th scope=col>&lt;int&gt;</th><th scope=col>&lt;int&gt;</th></tr>\n",
       "</thead>\n",
       "<tbody>\n",
       "\t<tr><th scope=row>1</th><td>1</td><td>ENSG00000034152.18</td><td>MAP2K3</td><td>chr17</td><td>+</td><td>21287990</td><td>21288091</td><td>21284709</td><td>21284969</td><td>21295674</td><td>21295769</td></tr>\n",
       "\t<tr><th scope=row>2</th><td>2</td><td>ENSG00000034152.18</td><td>MAP2K3</td><td>chr17</td><td>+</td><td>21303182</td><td>21303234</td><td>21302142</td><td>21302259</td><td>21304425</td><td>21304553</td></tr>\n",
       "\t<tr><th scope=row>3</th><td>3</td><td>ENSG00000034152.18</td><td>MAP2K3</td><td>chr17</td><td>+</td><td>21295674</td><td>21295769</td><td>21287990</td><td>21288091</td><td>21296085</td><td>21296143</td></tr>\n",
       "\t<tr><th scope=row>4</th><td>4</td><td>ENSG00000034152.18</td><td>MAP2K3</td><td>chr17</td><td>+</td><td>21295674</td><td>21295769</td><td>21287990</td><td>21288091</td><td>21298412</td><td>21298479</td></tr>\n",
       "\t<tr><th scope=row>5</th><td>5</td><td>ENSG00000034152.18</td><td>MAP2K3</td><td>chr17</td><td>+</td><td>21295674</td><td>21295769</td><td>21284710</td><td>21284969</td><td>21296085</td><td>21296143</td></tr>\n",
       "\t<tr><th scope=row>6</th><td>6</td><td>ENSG00000034152.18</td><td>MAP2K3</td><td>chr17</td><td>+</td><td>21295674</td><td>21295769</td><td>21284710</td><td>21284969</td><td>21298412</td><td>21298479</td></tr>\n",
       "</tbody>\n",
       "</table>\n"
      ],
      "text/latex": [
       "A data.frame: 6 × 11\n",
       "\\begin{tabular}{r|lllllllllll}\n",
       "  & ID & GeneID & geneSymbol & chr & strand & exonStart\\_0base & exonEnd & upstreamES & upstreamEE & downstreamES & downstreamEE\\\\\n",
       "  & <int> & <fct> & <fct> & <fct> & <fct> & <int> & <int> & <int> & <int> & <int> & <int>\\\\\n",
       "\\hline\n",
       "\t1 & 1 & ENSG00000034152.18 & MAP2K3 & chr17 & + & 21287990 & 21288091 & 21284709 & 21284969 & 21295674 & 21295769\\\\\n",
       "\t2 & 2 & ENSG00000034152.18 & MAP2K3 & chr17 & + & 21303182 & 21303234 & 21302142 & 21302259 & 21304425 & 21304553\\\\\n",
       "\t3 & 3 & ENSG00000034152.18 & MAP2K3 & chr17 & + & 21295674 & 21295769 & 21287990 & 21288091 & 21296085 & 21296143\\\\\n",
       "\t4 & 4 & ENSG00000034152.18 & MAP2K3 & chr17 & + & 21295674 & 21295769 & 21287990 & 21288091 & 21298412 & 21298479\\\\\n",
       "\t5 & 5 & ENSG00000034152.18 & MAP2K3 & chr17 & + & 21295674 & 21295769 & 21284710 & 21284969 & 21296085 & 21296143\\\\\n",
       "\t6 & 6 & ENSG00000034152.18 & MAP2K3 & chr17 & + & 21295674 & 21295769 & 21284710 & 21284969 & 21298412 & 21298479\\\\\n",
       "\\end{tabular}\n"
      ],
      "text/markdown": [
       "\n",
       "A data.frame: 6 × 11\n",
       "\n",
       "| <!--/--> | ID &lt;int&gt; | GeneID &lt;fct&gt; | geneSymbol &lt;fct&gt; | chr &lt;fct&gt; | strand &lt;fct&gt; | exonStart_0base &lt;int&gt; | exonEnd &lt;int&gt; | upstreamES &lt;int&gt; | upstreamEE &lt;int&gt; | downstreamES &lt;int&gt; | downstreamEE &lt;int&gt; |\n",
       "|---|---|---|---|---|---|---|---|---|---|---|---|\n",
       "| 1 | 1 | ENSG00000034152.18 | MAP2K3 | chr17 | + | 21287990 | 21288091 | 21284709 | 21284969 | 21295674 | 21295769 |\n",
       "| 2 | 2 | ENSG00000034152.18 | MAP2K3 | chr17 | + | 21303182 | 21303234 | 21302142 | 21302259 | 21304425 | 21304553 |\n",
       "| 3 | 3 | ENSG00000034152.18 | MAP2K3 | chr17 | + | 21295674 | 21295769 | 21287990 | 21288091 | 21296085 | 21296143 |\n",
       "| 4 | 4 | ENSG00000034152.18 | MAP2K3 | chr17 | + | 21295674 | 21295769 | 21287990 | 21288091 | 21298412 | 21298479 |\n",
       "| 5 | 5 | ENSG00000034152.18 | MAP2K3 | chr17 | + | 21295674 | 21295769 | 21284710 | 21284969 | 21296085 | 21296143 |\n",
       "| 6 | 6 | ENSG00000034152.18 | MAP2K3 | chr17 | + | 21295674 | 21295769 | 21284710 | 21284969 | 21298412 | 21298479 |\n",
       "\n"
      ],
      "text/plain": [
       "  ID GeneID             geneSymbol chr   strand exonStart_0base exonEnd \n",
       "1 1  ENSG00000034152.18 MAP2K3     chr17 +      21287990        21288091\n",
       "2 2  ENSG00000034152.18 MAP2K3     chr17 +      21303182        21303234\n",
       "3 3  ENSG00000034152.18 MAP2K3     chr17 +      21295674        21295769\n",
       "4 4  ENSG00000034152.18 MAP2K3     chr17 +      21295674        21295769\n",
       "5 5  ENSG00000034152.18 MAP2K3     chr17 +      21295674        21295769\n",
       "6 6  ENSG00000034152.18 MAP2K3     chr17 +      21295674        21295769\n",
       "  upstreamES upstreamEE downstreamES downstreamEE\n",
       "1 21284709   21284969   21295674     21295769    \n",
       "2 21302142   21302259   21304425     21304553    \n",
       "3 21287990   21288091   21296085     21296143    \n",
       "4 21287990   21288091   21298412     21298479    \n",
       "5 21284710   21284969   21296085     21296143    \n",
       "6 21284710   21284969   21298412     21298479    "
      ]
     },
     "metadata": {},
     "output_type": "display_data"
    },
    {
     "data": {
      "text/html": [
       "13390"
      ],
      "text/latex": [
       "13390"
      ],
      "text/markdown": [
       "13390"
      ],
      "text/plain": [
       "[1] 13390"
      ]
     },
     "metadata": {},
     "output_type": "display_data"
    },
    {
     "data": {
      "text/html": [
       "<style>\n",
       ".list-inline {list-style: none; margin:0; padding: 0}\n",
       ".list-inline>li {display: inline-block}\n",
       ".list-inline>li:not(:last-child)::after {content: \"\\00b7\"; padding: 0 .5ex}\n",
       "</style>\n",
       "<ol class=list-inline><li>'19076'</li><li>'5962'</li><li>'5965'</li><li>'19070'</li><li>'6300'</li><li>'10154'</li></ol>\n"
      ],
      "text/latex": [
       "\\begin{enumerate*}\n",
       "\\item '19076'\n",
       "\\item '5962'\n",
       "\\item '5965'\n",
       "\\item '19070'\n",
       "\\item '6300'\n",
       "\\item '10154'\n",
       "\\end{enumerate*}\n"
      ],
      "text/markdown": [
       "1. '19076'\n",
       "2. '5962'\n",
       "3. '5965'\n",
       "4. '19070'\n",
       "5. '6300'\n",
       "6. '10154'\n",
       "\n",
       "\n"
      ],
      "text/plain": [
       "[1] \"19076\" \"5962\"  \"5965\"  \"19070\" \"6300\"  \"10154\""
      ]
     },
     "metadata": {},
     "output_type": "display_data"
    },
    {
     "data": {
      "text/html": [
       "<style>\n",
       ".list-inline {list-style: none; margin:0; padding: 0}\n",
       ".list-inline>li {display: inline-block}\n",
       ".list-inline>li:not(:last-child)::after {content: \"\\00b7\"; padding: 0 .5ex}\n",
       "</style>\n",
       "<ol class=list-inline><li>'6300'</li><li>'19076'</li><li>'34357'</li><li>'5963'</li><li>'5962'</li><li>'19070'</li></ol>\n"
      ],
      "text/latex": [
       "\\begin{enumerate*}\n",
       "\\item '6300'\n",
       "\\item '19076'\n",
       "\\item '34357'\n",
       "\\item '5963'\n",
       "\\item '5962'\n",
       "\\item '19070'\n",
       "\\end{enumerate*}\n"
      ],
      "text/markdown": [
       "1. '6300'\n",
       "2. '19076'\n",
       "3. '34357'\n",
       "4. '5963'\n",
       "5. '5962'\n",
       "6. '19070'\n",
       "\n",
       "\n"
      ],
      "text/plain": [
       "[1] \"6300\"  \"19076\" \"34357\" \"5963\"  \"5962\"  \"19070\""
      ]
     },
     "metadata": {},
     "output_type": "display_data"
    },
    {
     "data": {
      "text/html": [
       "<style>\n",
       ".list-inline {list-style: none; margin:0; padding: 0}\n",
       ".list-inline>li {display: inline-block}\n",
       ".list-inline>li:not(:last-child)::after {content: \"\\00b7\"; padding: 0 .5ex}\n",
       "</style>\n",
       "<ol class=list-inline><li>'5964'</li><li>'10152'</li><li>'10150'</li><li>'10151'</li><li>'10153'</li><li>'10155'</li></ol>\n"
      ],
      "text/latex": [
       "\\begin{enumerate*}\n",
       "\\item '5964'\n",
       "\\item '10152'\n",
       "\\item '10150'\n",
       "\\item '10151'\n",
       "\\item '10153'\n",
       "\\item '10155'\n",
       "\\end{enumerate*}\n"
      ],
      "text/markdown": [
       "1. '5964'\n",
       "2. '10152'\n",
       "3. '10150'\n",
       "4. '10151'\n",
       "5. '10153'\n",
       "6. '10155'\n",
       "\n",
       "\n"
      ],
      "text/plain": [
       "[1] \"5964\"  \"10152\" \"10150\" \"10151\" \"10153\" \"10155\""
      ]
     },
     "metadata": {},
     "output_type": "display_data"
    },
    {
     "data": {
      "text/html": [
       "<style>\n",
       ".list-inline {list-style: none; margin:0; padding: 0}\n",
       ".list-inline>li {display: inline-block}\n",
       ".list-inline>li:not(:last-child)::after {content: \"\\00b7\"; padding: 0 .5ex}\n",
       "</style>\n",
       "<ol class=list-inline><li>'5963'</li><li>'10154'</li><li>'10149'</li><li>'19076'</li><li>'5962'</li><li>'6300'</li></ol>\n"
      ],
      "text/latex": [
       "\\begin{enumerate*}\n",
       "\\item '5963'\n",
       "\\item '10154'\n",
       "\\item '10149'\n",
       "\\item '19076'\n",
       "\\item '5962'\n",
       "\\item '6300'\n",
       "\\end{enumerate*}\n"
      ],
      "text/markdown": [
       "1. '5963'\n",
       "2. '10154'\n",
       "3. '10149'\n",
       "4. '19076'\n",
       "5. '5962'\n",
       "6. '6300'\n",
       "\n",
       "\n"
      ],
      "text/plain": [
       "[1] \"5963\"  \"10154\" \"10149\" \"19076\" \"5962\"  \"6300\" "
      ]
     },
     "metadata": {},
     "output_type": "display_data"
    },
    {
     "data": {
      "text/html": [
       "<table>\n",
       "<caption>A data.frame: 6 × 11</caption>\n",
       "<thead>\n",
       "\t<tr><th></th><th scope=col>ID</th><th scope=col>GeneID</th><th scope=col>geneSymbol</th><th scope=col>chr</th><th scope=col>strand</th><th scope=col>exonStart_0base</th><th scope=col>exonEnd</th><th scope=col>upstreamES</th><th scope=col>upstreamEE</th><th scope=col>downstreamES</th><th scope=col>downstreamEE</th></tr>\n",
       "\t<tr><th></th><th scope=col>&lt;int&gt;</th><th scope=col>&lt;fct&gt;</th><th scope=col>&lt;fct&gt;</th><th scope=col>&lt;fct&gt;</th><th scope=col>&lt;fct&gt;</th><th scope=col>&lt;int&gt;</th><th scope=col>&lt;int&gt;</th><th scope=col>&lt;int&gt;</th><th scope=col>&lt;int&gt;</th><th scope=col>&lt;int&gt;</th><th scope=col>&lt;int&gt;</th></tr>\n",
       "</thead>\n",
       "<tbody>\n",
       "\t<tr><th scope=row>19076</th><td>19076</td><td>ENSG00000183878.15</td><td>UTY  </td><td>chrY</td><td>-</td><td>13306037</td><td>13306112</td><td>13305398</td><td>13305547</td><td>13306185</td><td>13306250</td></tr>\n",
       "\t<tr><th scope=row>5962</th><td> 5962</td><td>ENSG00000012817.15</td><td>KDM5D</td><td>chrY</td><td>-</td><td>19741734</td><td>19741857</td><td>19741317</td><td>19741488</td><td>19743161</td><td>19743239</td></tr>\n",
       "\t<tr><th scope=row>5965</th><td> 5965</td><td>ENSG00000012817.15</td><td>KDM5D</td><td>chrY</td><td>-</td><td>19741317</td><td>19741488</td><td>19739527</td><td>19739662</td><td>19741734</td><td>19741857</td></tr>\n",
       "\t<tr><th scope=row>19070</th><td>19070</td><td>ENSG00000183878.15</td><td>UTY  </td><td>chrY</td><td>-</td><td>13251016</td><td>13251187</td><td>13248378</td><td>13249882</td><td>13260277</td><td>13260404</td></tr>\n",
       "\t<tr><th scope=row>6300</th><td> 6300</td><td>ENSG00000114374.13</td><td>USP9Y</td><td>chrY</td><td>+</td><td>12847238</td><td>12847327</td><td>12846932</td><td>12847153</td><td>12856339</td><td>12856496</td></tr>\n",
       "\t<tr><th scope=row>10154</th><td>10154</td><td>ENSG00000229807.11</td><td>XIST </td><td>chrX</td><td>-</td><td>73831065</td><td>73831206</td><td>73829067</td><td>73829231</td><td>73833237</td><td>73833374</td></tr>\n",
       "</tbody>\n",
       "</table>\n"
      ],
      "text/latex": [
       "A data.frame: 6 × 11\n",
       "\\begin{tabular}{r|lllllllllll}\n",
       "  & ID & GeneID & geneSymbol & chr & strand & exonStart\\_0base & exonEnd & upstreamES & upstreamEE & downstreamES & downstreamEE\\\\\n",
       "  & <int> & <fct> & <fct> & <fct> & <fct> & <int> & <int> & <int> & <int> & <int> & <int>\\\\\n",
       "\\hline\n",
       "\t19076 & 19076 & ENSG00000183878.15 & UTY   & chrY & - & 13306037 & 13306112 & 13305398 & 13305547 & 13306185 & 13306250\\\\\n",
       "\t5962 &  5962 & ENSG00000012817.15 & KDM5D & chrY & - & 19741734 & 19741857 & 19741317 & 19741488 & 19743161 & 19743239\\\\\n",
       "\t5965 &  5965 & ENSG00000012817.15 & KDM5D & chrY & - & 19741317 & 19741488 & 19739527 & 19739662 & 19741734 & 19741857\\\\\n",
       "\t19070 & 19070 & ENSG00000183878.15 & UTY   & chrY & - & 13251016 & 13251187 & 13248378 & 13249882 & 13260277 & 13260404\\\\\n",
       "\t6300 &  6300 & ENSG00000114374.13 & USP9Y & chrY & + & 12847238 & 12847327 & 12846932 & 12847153 & 12856339 & 12856496\\\\\n",
       "\t10154 & 10154 & ENSG00000229807.11 & XIST  & chrX & - & 73831065 & 73831206 & 73829067 & 73829231 & 73833237 & 73833374\\\\\n",
       "\\end{tabular}\n"
      ],
      "text/markdown": [
       "\n",
       "A data.frame: 6 × 11\n",
       "\n",
       "| <!--/--> | ID &lt;int&gt; | GeneID &lt;fct&gt; | geneSymbol &lt;fct&gt; | chr &lt;fct&gt; | strand &lt;fct&gt; | exonStart_0base &lt;int&gt; | exonEnd &lt;int&gt; | upstreamES &lt;int&gt; | upstreamEE &lt;int&gt; | downstreamES &lt;int&gt; | downstreamEE &lt;int&gt; |\n",
       "|---|---|---|---|---|---|---|---|---|---|---|---|\n",
       "| 19076 | 19076 | ENSG00000183878.15 | UTY   | chrY | - | 13306037 | 13306112 | 13305398 | 13305547 | 13306185 | 13306250 |\n",
       "| 5962 |  5962 | ENSG00000012817.15 | KDM5D | chrY | - | 19741734 | 19741857 | 19741317 | 19741488 | 19743161 | 19743239 |\n",
       "| 5965 |  5965 | ENSG00000012817.15 | KDM5D | chrY | - | 19741317 | 19741488 | 19739527 | 19739662 | 19741734 | 19741857 |\n",
       "| 19070 | 19070 | ENSG00000183878.15 | UTY   | chrY | - | 13251016 | 13251187 | 13248378 | 13249882 | 13260277 | 13260404 |\n",
       "| 6300 |  6300 | ENSG00000114374.13 | USP9Y | chrY | + | 12847238 | 12847327 | 12846932 | 12847153 | 12856339 | 12856496 |\n",
       "| 10154 | 10154 | ENSG00000229807.11 | XIST  | chrX | - | 73831065 | 73831206 | 73829067 | 73829231 | 73833237 | 73833374 |\n",
       "\n"
      ],
      "text/plain": [
       "      ID    GeneID             geneSymbol chr  strand exonStart_0base exonEnd \n",
       "19076 19076 ENSG00000183878.15 UTY        chrY -      13306037        13306112\n",
       "5962   5962 ENSG00000012817.15 KDM5D      chrY -      19741734        19741857\n",
       "5965   5965 ENSG00000012817.15 KDM5D      chrY -      19741317        19741488\n",
       "19070 19070 ENSG00000183878.15 UTY        chrY -      13251016        13251187\n",
       "6300   6300 ENSG00000114374.13 USP9Y      chrY +      12847238        12847327\n",
       "10154 10154 ENSG00000229807.11 XIST       chrX -      73831065        73831206\n",
       "      upstreamES upstreamEE downstreamES downstreamEE\n",
       "19076 13305398   13305547   13306185     13306250    \n",
       "5962  19741317   19741488   19743161     19743239    \n",
       "5965  19739527   19739662   19741734     19741857    \n",
       "19070 13248378   13249882   13260277     13260404    \n",
       "6300  12846932   12847153   12856339     12856496    \n",
       "10154 73829067   73829231   73833237     73833374    "
      ]
     },
     "metadata": {},
     "output_type": "display_data"
    },
    {
     "data": {
      "text/html": [
       "<table>\n",
       "<caption>A data.frame: 6 × 11</caption>\n",
       "<thead>\n",
       "\t<tr><th></th><th scope=col>ID</th><th scope=col>GeneID</th><th scope=col>geneSymbol</th><th scope=col>chr</th><th scope=col>strand</th><th scope=col>exonStart_0base</th><th scope=col>exonEnd</th><th scope=col>upstreamES</th><th scope=col>upstreamEE</th><th scope=col>downstreamES</th><th scope=col>downstreamEE</th></tr>\n",
       "\t<tr><th></th><th scope=col>&lt;int&gt;</th><th scope=col>&lt;fct&gt;</th><th scope=col>&lt;fct&gt;</th><th scope=col>&lt;fct&gt;</th><th scope=col>&lt;fct&gt;</th><th scope=col>&lt;int&gt;</th><th scope=col>&lt;int&gt;</th><th scope=col>&lt;int&gt;</th><th scope=col>&lt;int&gt;</th><th scope=col>&lt;int&gt;</th><th scope=col>&lt;int&gt;</th></tr>\n",
       "</thead>\n",
       "<tbody>\n",
       "\t<tr><th scope=row>19076</th><td>19076</td><td>ENSG00000183878.15</td><td>UTY  </td><td>chrY</td><td>-</td><td>13306037</td><td>13306112</td><td>13305398</td><td>13305547</td><td>13306185</td><td>13306250</td></tr>\n",
       "\t<tr><th scope=row>5962</th><td> 5962</td><td>ENSG00000012817.15</td><td>KDM5D</td><td>chrY</td><td>-</td><td>19741734</td><td>19741857</td><td>19741317</td><td>19741488</td><td>19743161</td><td>19743239</td></tr>\n",
       "\t<tr><th scope=row>5965</th><td> 5965</td><td>ENSG00000012817.15</td><td>KDM5D</td><td>chrY</td><td>-</td><td>19741317</td><td>19741488</td><td>19739527</td><td>19739662</td><td>19741734</td><td>19741857</td></tr>\n",
       "\t<tr><th scope=row>19070</th><td>19070</td><td>ENSG00000183878.15</td><td>UTY  </td><td>chrY</td><td>-</td><td>13251016</td><td>13251187</td><td>13248378</td><td>13249882</td><td>13260277</td><td>13260404</td></tr>\n",
       "\t<tr><th scope=row>6300</th><td> 6300</td><td>ENSG00000114374.13</td><td>USP9Y</td><td>chrY</td><td>+</td><td>12847238</td><td>12847327</td><td>12846932</td><td>12847153</td><td>12856339</td><td>12856496</td></tr>\n",
       "\t<tr><th scope=row>10154</th><td>10154</td><td>ENSG00000229807.11</td><td>XIST </td><td>chrX</td><td>-</td><td>73831065</td><td>73831206</td><td>73829067</td><td>73829231</td><td>73833237</td><td>73833374</td></tr>\n",
       "</tbody>\n",
       "</table>\n"
      ],
      "text/latex": [
       "A data.frame: 6 × 11\n",
       "\\begin{tabular}{r|lllllllllll}\n",
       "  & ID & GeneID & geneSymbol & chr & strand & exonStart\\_0base & exonEnd & upstreamES & upstreamEE & downstreamES & downstreamEE\\\\\n",
       "  & <int> & <fct> & <fct> & <fct> & <fct> & <int> & <int> & <int> & <int> & <int> & <int>\\\\\n",
       "\\hline\n",
       "\t19076 & 19076 & ENSG00000183878.15 & UTY   & chrY & - & 13306037 & 13306112 & 13305398 & 13305547 & 13306185 & 13306250\\\\\n",
       "\t5962 &  5962 & ENSG00000012817.15 & KDM5D & chrY & - & 19741734 & 19741857 & 19741317 & 19741488 & 19743161 & 19743239\\\\\n",
       "\t5965 &  5965 & ENSG00000012817.15 & KDM5D & chrY & - & 19741317 & 19741488 & 19739527 & 19739662 & 19741734 & 19741857\\\\\n",
       "\t19070 & 19070 & ENSG00000183878.15 & UTY   & chrY & - & 13251016 & 13251187 & 13248378 & 13249882 & 13260277 & 13260404\\\\\n",
       "\t6300 &  6300 & ENSG00000114374.13 & USP9Y & chrY & + & 12847238 & 12847327 & 12846932 & 12847153 & 12856339 & 12856496\\\\\n",
       "\t10154 & 10154 & ENSG00000229807.11 & XIST  & chrX & - & 73831065 & 73831206 & 73829067 & 73829231 & 73833237 & 73833374\\\\\n",
       "\\end{tabular}\n"
      ],
      "text/markdown": [
       "\n",
       "A data.frame: 6 × 11\n",
       "\n",
       "| <!--/--> | ID &lt;int&gt; | GeneID &lt;fct&gt; | geneSymbol &lt;fct&gt; | chr &lt;fct&gt; | strand &lt;fct&gt; | exonStart_0base &lt;int&gt; | exonEnd &lt;int&gt; | upstreamES &lt;int&gt; | upstreamEE &lt;int&gt; | downstreamES &lt;int&gt; | downstreamEE &lt;int&gt; |\n",
       "|---|---|---|---|---|---|---|---|---|---|---|---|\n",
       "| 19076 | 19076 | ENSG00000183878.15 | UTY   | chrY | - | 13306037 | 13306112 | 13305398 | 13305547 | 13306185 | 13306250 |\n",
       "| 5962 |  5962 | ENSG00000012817.15 | KDM5D | chrY | - | 19741734 | 19741857 | 19741317 | 19741488 | 19743161 | 19743239 |\n",
       "| 5965 |  5965 | ENSG00000012817.15 | KDM5D | chrY | - | 19741317 | 19741488 | 19739527 | 19739662 | 19741734 | 19741857 |\n",
       "| 19070 | 19070 | ENSG00000183878.15 | UTY   | chrY | - | 13251016 | 13251187 | 13248378 | 13249882 | 13260277 | 13260404 |\n",
       "| 6300 |  6300 | ENSG00000114374.13 | USP9Y | chrY | + | 12847238 | 12847327 | 12846932 | 12847153 | 12856339 | 12856496 |\n",
       "| 10154 | 10154 | ENSG00000229807.11 | XIST  | chrX | - | 73831065 | 73831206 | 73829067 | 73829231 | 73833237 | 73833374 |\n",
       "\n"
      ],
      "text/plain": [
       "      ID    GeneID             geneSymbol chr  strand exonStart_0base exonEnd \n",
       "19076 19076 ENSG00000183878.15 UTY        chrY -      13306037        13306112\n",
       "5962   5962 ENSG00000012817.15 KDM5D      chrY -      19741734        19741857\n",
       "5965   5965 ENSG00000012817.15 KDM5D      chrY -      19741317        19741488\n",
       "19070 19070 ENSG00000183878.15 UTY        chrY -      13251016        13251187\n",
       "6300   6300 ENSG00000114374.13 USP9Y      chrY +      12847238        12847327\n",
       "10154 10154 ENSG00000229807.11 XIST       chrX -      73831065        73831206\n",
       "      upstreamES upstreamEE downstreamES downstreamEE\n",
       "19076 13305398   13305547   13306185     13306250    \n",
       "5962  19741317   19741488   19743161     19743239    \n",
       "5965  19739527   19739662   19741734     19741857    \n",
       "19070 13248378   13249882   13260277     13260404    \n",
       "6300  12846932   12847153   12856339     12856496    \n",
       "10154 73829067   73829231   73833237     73833374    "
      ]
     },
     "metadata": {},
     "output_type": "display_data"
    },
    {
     "data": {
      "text/html": [
       "<table>\n",
       "<caption>A data.frame: 6 × 11</caption>\n",
       "<thead>\n",
       "\t<tr><th></th><th scope=col>ID</th><th scope=col>GeneID</th><th scope=col>geneSymbol</th><th scope=col>chr</th><th scope=col>strand</th><th scope=col>exonStart_0base</th><th scope=col>exonEnd</th><th scope=col>upstreamES</th><th scope=col>upstreamEE</th><th scope=col>downstreamES</th><th scope=col>downstreamEE</th></tr>\n",
       "\t<tr><th></th><th scope=col>&lt;int&gt;</th><th scope=col>&lt;fct&gt;</th><th scope=col>&lt;fct&gt;</th><th scope=col>&lt;fct&gt;</th><th scope=col>&lt;fct&gt;</th><th scope=col>&lt;int&gt;</th><th scope=col>&lt;int&gt;</th><th scope=col>&lt;int&gt;</th><th scope=col>&lt;int&gt;</th><th scope=col>&lt;int&gt;</th><th scope=col>&lt;int&gt;</th></tr>\n",
       "</thead>\n",
       "<tbody>\n",
       "\t<tr><th scope=row>5963</th><td> 5963</td><td>ENSG00000012817.15</td><td>KDM5D</td><td>chrY</td><td>-</td><td>19739527</td><td>19739662</td><td>19735620</td><td>19735750</td><td>19741317</td><td>19741488</td></tr>\n",
       "\t<tr><th scope=row>10154</th><td>10154</td><td>ENSG00000229807.11</td><td>XIST </td><td>chrX</td><td>-</td><td>73831065</td><td>73831206</td><td>73829067</td><td>73829231</td><td>73833237</td><td>73833374</td></tr>\n",
       "\t<tr><th scope=row>10149</th><td>10149</td><td>ENSG00000229807.11</td><td>XIST </td><td>chrX</td><td>-</td><td>73831065</td><td>73831274</td><td>73829067</td><td>73829231</td><td>73833237</td><td>73833374</td></tr>\n",
       "\t<tr><th scope=row>19076</th><td>19076</td><td>ENSG00000183878.15</td><td>UTY  </td><td>chrY</td><td>-</td><td>13306037</td><td>13306112</td><td>13305398</td><td>13305547</td><td>13306185</td><td>13306250</td></tr>\n",
       "\t<tr><th scope=row>5962</th><td> 5962</td><td>ENSG00000012817.15</td><td>KDM5D</td><td>chrY</td><td>-</td><td>19741734</td><td>19741857</td><td>19741317</td><td>19741488</td><td>19743161</td><td>19743239</td></tr>\n",
       "\t<tr><th scope=row>6300</th><td> 6300</td><td>ENSG00000114374.13</td><td>USP9Y</td><td>chrY</td><td>+</td><td>12847238</td><td>12847327</td><td>12846932</td><td>12847153</td><td>12856339</td><td>12856496</td></tr>\n",
       "</tbody>\n",
       "</table>\n"
      ],
      "text/latex": [
       "A data.frame: 6 × 11\n",
       "\\begin{tabular}{r|lllllllllll}\n",
       "  & ID & GeneID & geneSymbol & chr & strand & exonStart\\_0base & exonEnd & upstreamES & upstreamEE & downstreamES & downstreamEE\\\\\n",
       "  & <int> & <fct> & <fct> & <fct> & <fct> & <int> & <int> & <int> & <int> & <int> & <int>\\\\\n",
       "\\hline\n",
       "\t5963 &  5963 & ENSG00000012817.15 & KDM5D & chrY & - & 19739527 & 19739662 & 19735620 & 19735750 & 19741317 & 19741488\\\\\n",
       "\t10154 & 10154 & ENSG00000229807.11 & XIST  & chrX & - & 73831065 & 73831206 & 73829067 & 73829231 & 73833237 & 73833374\\\\\n",
       "\t10149 & 10149 & ENSG00000229807.11 & XIST  & chrX & - & 73831065 & 73831274 & 73829067 & 73829231 & 73833237 & 73833374\\\\\n",
       "\t19076 & 19076 & ENSG00000183878.15 & UTY   & chrY & - & 13306037 & 13306112 & 13305398 & 13305547 & 13306185 & 13306250\\\\\n",
       "\t5962 &  5962 & ENSG00000012817.15 & KDM5D & chrY & - & 19741734 & 19741857 & 19741317 & 19741488 & 19743161 & 19743239\\\\\n",
       "\t6300 &  6300 & ENSG00000114374.13 & USP9Y & chrY & + & 12847238 & 12847327 & 12846932 & 12847153 & 12856339 & 12856496\\\\\n",
       "\\end{tabular}\n"
      ],
      "text/markdown": [
       "\n",
       "A data.frame: 6 × 11\n",
       "\n",
       "| <!--/--> | ID &lt;int&gt; | GeneID &lt;fct&gt; | geneSymbol &lt;fct&gt; | chr &lt;fct&gt; | strand &lt;fct&gt; | exonStart_0base &lt;int&gt; | exonEnd &lt;int&gt; | upstreamES &lt;int&gt; | upstreamEE &lt;int&gt; | downstreamES &lt;int&gt; | downstreamEE &lt;int&gt; |\n",
       "|---|---|---|---|---|---|---|---|---|---|---|---|\n",
       "| 5963 |  5963 | ENSG00000012817.15 | KDM5D | chrY | - | 19739527 | 19739662 | 19735620 | 19735750 | 19741317 | 19741488 |\n",
       "| 10154 | 10154 | ENSG00000229807.11 | XIST  | chrX | - | 73831065 | 73831206 | 73829067 | 73829231 | 73833237 | 73833374 |\n",
       "| 10149 | 10149 | ENSG00000229807.11 | XIST  | chrX | - | 73831065 | 73831274 | 73829067 | 73829231 | 73833237 | 73833374 |\n",
       "| 19076 | 19076 | ENSG00000183878.15 | UTY   | chrY | - | 13306037 | 13306112 | 13305398 | 13305547 | 13306185 | 13306250 |\n",
       "| 5962 |  5962 | ENSG00000012817.15 | KDM5D | chrY | - | 19741734 | 19741857 | 19741317 | 19741488 | 19743161 | 19743239 |\n",
       "| 6300 |  6300 | ENSG00000114374.13 | USP9Y | chrY | + | 12847238 | 12847327 | 12846932 | 12847153 | 12856339 | 12856496 |\n",
       "\n"
      ],
      "text/plain": [
       "      ID    GeneID             geneSymbol chr  strand exonStart_0base exonEnd \n",
       "5963   5963 ENSG00000012817.15 KDM5D      chrY -      19739527        19739662\n",
       "10154 10154 ENSG00000229807.11 XIST       chrX -      73831065        73831206\n",
       "10149 10149 ENSG00000229807.11 XIST       chrX -      73831065        73831274\n",
       "19076 19076 ENSG00000183878.15 UTY        chrY -      13306037        13306112\n",
       "5962   5962 ENSG00000012817.15 KDM5D      chrY -      19741734        19741857\n",
       "6300   6300 ENSG00000114374.13 USP9Y      chrY +      12847238        12847327\n",
       "      upstreamES upstreamEE downstreamES downstreamEE\n",
       "5963  19735620   19735750   19741317     19741488    \n",
       "10154 73829067   73829231   73833237     73833374    \n",
       "10149 73829067   73829231   73833237     73833374    \n",
       "19076 13305398   13305547   13306185     13306250    \n",
       "5962  19741317   19741488   19743161     19743239    \n",
       "6300  12846932   12847153   12856339     12856496    "
      ]
     },
     "metadata": {},
     "output_type": "display_data"
    },
    {
     "data": {
      "text/html": [
       "<table>\n",
       "<caption>A data.frame: 6 × 11</caption>\n",
       "<thead>\n",
       "\t<tr><th></th><th scope=col>ID</th><th scope=col>GeneID</th><th scope=col>geneSymbol</th><th scope=col>chr</th><th scope=col>strand</th><th scope=col>exonStart_0base</th><th scope=col>exonEnd</th><th scope=col>upstreamES</th><th scope=col>upstreamEE</th><th scope=col>downstreamES</th><th scope=col>downstreamEE</th></tr>\n",
       "\t<tr><th></th><th scope=col>&lt;int&gt;</th><th scope=col>&lt;fct&gt;</th><th scope=col>&lt;fct&gt;</th><th scope=col>&lt;fct&gt;</th><th scope=col>&lt;fct&gt;</th><th scope=col>&lt;int&gt;</th><th scope=col>&lt;int&gt;</th><th scope=col>&lt;int&gt;</th><th scope=col>&lt;int&gt;</th><th scope=col>&lt;int&gt;</th><th scope=col>&lt;int&gt;</th></tr>\n",
       "</thead>\n",
       "<tbody>\n",
       "\t<tr><th scope=row>6300</th><td> 6300</td><td>ENSG00000114374.13</td><td>USP9Y </td><td>chrY</td><td>+</td><td>12847238</td><td>12847327</td><td>12846932</td><td>12847153</td><td>12856339</td><td>12856496</td></tr>\n",
       "\t<tr><th scope=row>19076</th><td>19076</td><td>ENSG00000183878.15</td><td>UTY   </td><td>chrY</td><td>-</td><td>13306037</td><td>13306112</td><td>13305398</td><td>13305547</td><td>13306185</td><td>13306250</td></tr>\n",
       "\t<tr><th scope=row>34357</th><td>34357</td><td>ENSG00000198692.10</td><td>EIF1AY</td><td>chrY</td><td>+</td><td>20584473</td><td>20584524</td><td>20582589</td><td>20582693</td><td>20588023</td><td>20588105</td></tr>\n",
       "\t<tr><th scope=row>5963</th><td> 5963</td><td>ENSG00000012817.15</td><td>KDM5D </td><td>chrY</td><td>-</td><td>19739527</td><td>19739662</td><td>19735620</td><td>19735750</td><td>19741317</td><td>19741488</td></tr>\n",
       "\t<tr><th scope=row>5962</th><td> 5962</td><td>ENSG00000012817.15</td><td>KDM5D </td><td>chrY</td><td>-</td><td>19741734</td><td>19741857</td><td>19741317</td><td>19741488</td><td>19743161</td><td>19743239</td></tr>\n",
       "\t<tr><th scope=row>19070</th><td>19070</td><td>ENSG00000183878.15</td><td>UTY   </td><td>chrY</td><td>-</td><td>13251016</td><td>13251187</td><td>13248378</td><td>13249882</td><td>13260277</td><td>13260404</td></tr>\n",
       "</tbody>\n",
       "</table>\n"
      ],
      "text/latex": [
       "A data.frame: 6 × 11\n",
       "\\begin{tabular}{r|lllllllllll}\n",
       "  & ID & GeneID & geneSymbol & chr & strand & exonStart\\_0base & exonEnd & upstreamES & upstreamEE & downstreamES & downstreamEE\\\\\n",
       "  & <int> & <fct> & <fct> & <fct> & <fct> & <int> & <int> & <int> & <int> & <int> & <int>\\\\\n",
       "\\hline\n",
       "\t6300 &  6300 & ENSG00000114374.13 & USP9Y  & chrY & + & 12847238 & 12847327 & 12846932 & 12847153 & 12856339 & 12856496\\\\\n",
       "\t19076 & 19076 & ENSG00000183878.15 & UTY    & chrY & - & 13306037 & 13306112 & 13305398 & 13305547 & 13306185 & 13306250\\\\\n",
       "\t34357 & 34357 & ENSG00000198692.10 & EIF1AY & chrY & + & 20584473 & 20584524 & 20582589 & 20582693 & 20588023 & 20588105\\\\\n",
       "\t5963 &  5963 & ENSG00000012817.15 & KDM5D  & chrY & - & 19739527 & 19739662 & 19735620 & 19735750 & 19741317 & 19741488\\\\\n",
       "\t5962 &  5962 & ENSG00000012817.15 & KDM5D  & chrY & - & 19741734 & 19741857 & 19741317 & 19741488 & 19743161 & 19743239\\\\\n",
       "\t19070 & 19070 & ENSG00000183878.15 & UTY    & chrY & - & 13251016 & 13251187 & 13248378 & 13249882 & 13260277 & 13260404\\\\\n",
       "\\end{tabular}\n"
      ],
      "text/markdown": [
       "\n",
       "A data.frame: 6 × 11\n",
       "\n",
       "| <!--/--> | ID &lt;int&gt; | GeneID &lt;fct&gt; | geneSymbol &lt;fct&gt; | chr &lt;fct&gt; | strand &lt;fct&gt; | exonStart_0base &lt;int&gt; | exonEnd &lt;int&gt; | upstreamES &lt;int&gt; | upstreamEE &lt;int&gt; | downstreamES &lt;int&gt; | downstreamEE &lt;int&gt; |\n",
       "|---|---|---|---|---|---|---|---|---|---|---|---|\n",
       "| 6300 |  6300 | ENSG00000114374.13 | USP9Y  | chrY | + | 12847238 | 12847327 | 12846932 | 12847153 | 12856339 | 12856496 |\n",
       "| 19076 | 19076 | ENSG00000183878.15 | UTY    | chrY | - | 13306037 | 13306112 | 13305398 | 13305547 | 13306185 | 13306250 |\n",
       "| 34357 | 34357 | ENSG00000198692.10 | EIF1AY | chrY | + | 20584473 | 20584524 | 20582589 | 20582693 | 20588023 | 20588105 |\n",
       "| 5963 |  5963 | ENSG00000012817.15 | KDM5D  | chrY | - | 19739527 | 19739662 | 19735620 | 19735750 | 19741317 | 19741488 |\n",
       "| 5962 |  5962 | ENSG00000012817.15 | KDM5D  | chrY | - | 19741734 | 19741857 | 19741317 | 19741488 | 19743161 | 19743239 |\n",
       "| 19070 | 19070 | ENSG00000183878.15 | UTY    | chrY | - | 13251016 | 13251187 | 13248378 | 13249882 | 13260277 | 13260404 |\n",
       "\n"
      ],
      "text/plain": [
       "      ID    GeneID             geneSymbol chr  strand exonStart_0base exonEnd \n",
       "6300   6300 ENSG00000114374.13 USP9Y      chrY +      12847238        12847327\n",
       "19076 19076 ENSG00000183878.15 UTY        chrY -      13306037        13306112\n",
       "34357 34357 ENSG00000198692.10 EIF1AY     chrY +      20584473        20584524\n",
       "5963   5963 ENSG00000012817.15 KDM5D      chrY -      19739527        19739662\n",
       "5962   5962 ENSG00000012817.15 KDM5D      chrY -      19741734        19741857\n",
       "19070 19070 ENSG00000183878.15 UTY        chrY -      13251016        13251187\n",
       "      upstreamES upstreamEE downstreamES downstreamEE\n",
       "6300  12846932   12847153   12856339     12856496    \n",
       "19076 13305398   13305547   13306185     13306250    \n",
       "34357 20582589   20582693   20588023     20588105    \n",
       "5963  19735620   19735750   19741317     19741488    \n",
       "5962  19741317   19741488   19743161     19743239    \n",
       "19070 13248378   13249882   13260277     13260404    "
      ]
     },
     "metadata": {},
     "output_type": "display_data"
    },
    {
     "data": {
      "text/html": [
       "<table>\n",
       "<caption>A data.frame: 6 × 11</caption>\n",
       "<thead>\n",
       "\t<tr><th></th><th scope=col>ID</th><th scope=col>GeneID</th><th scope=col>geneSymbol</th><th scope=col>chr</th><th scope=col>strand</th><th scope=col>exonStart_0base</th><th scope=col>exonEnd</th><th scope=col>upstreamES</th><th scope=col>upstreamEE</th><th scope=col>downstreamES</th><th scope=col>downstreamEE</th></tr>\n",
       "\t<tr><th></th><th scope=col>&lt;int&gt;</th><th scope=col>&lt;fct&gt;</th><th scope=col>&lt;fct&gt;</th><th scope=col>&lt;fct&gt;</th><th scope=col>&lt;fct&gt;</th><th scope=col>&lt;int&gt;</th><th scope=col>&lt;int&gt;</th><th scope=col>&lt;int&gt;</th><th scope=col>&lt;int&gt;</th><th scope=col>&lt;int&gt;</th><th scope=col>&lt;int&gt;</th></tr>\n",
       "</thead>\n",
       "<tbody>\n",
       "\t<tr><th scope=row>5964</th><td> 5964</td><td>ENSG00000012817.15</td><td>KDM5D</td><td>chrY</td><td>-</td><td>19723340</td><td>19723433</td><td>19721129</td><td>19721311</td><td>19731771</td><td>19731930</td></tr>\n",
       "\t<tr><th scope=row>10152</th><td>10152</td><td>ENSG00000229807.11</td><td>XIST </td><td>chrX</td><td>-</td><td>73830622</td><td>73830790</td><td>73829067</td><td>73829231</td><td>73831065</td><td>73831210</td></tr>\n",
       "\t<tr><th scope=row>10150</th><td>10150</td><td>ENSG00000229807.11</td><td>XIST </td><td>chrX</td><td>-</td><td>73833237</td><td>73833374</td><td>73831065</td><td>73831274</td><td>73837439</td><td>73841474</td></tr>\n",
       "\t<tr><th scope=row>10151</th><td>10151</td><td>ENSG00000229807.11</td><td>XIST </td><td>chrX</td><td>-</td><td>73822070</td><td>73822233</td><td>73820655</td><td>73821029</td><td>73826114</td><td>73826301</td></tr>\n",
       "\t<tr><th scope=row>10153</th><td>10153</td><td>ENSG00000229807.11</td><td>XIST </td><td>chrX</td><td>-</td><td>73822066</td><td>73822216</td><td>73820716</td><td>73821029</td><td>73826114</td><td>73827984</td></tr>\n",
       "\t<tr><th scope=row>10155</th><td>10155</td><td>ENSG00000229807.11</td><td>XIST </td><td>chrX</td><td>-</td><td>73822070</td><td>73822216</td><td>73820655</td><td>73821029</td><td>73826114</td><td>73827984</td></tr>\n",
       "</tbody>\n",
       "</table>\n"
      ],
      "text/latex": [
       "A data.frame: 6 × 11\n",
       "\\begin{tabular}{r|lllllllllll}\n",
       "  & ID & GeneID & geneSymbol & chr & strand & exonStart\\_0base & exonEnd & upstreamES & upstreamEE & downstreamES & downstreamEE\\\\\n",
       "  & <int> & <fct> & <fct> & <fct> & <fct> & <int> & <int> & <int> & <int> & <int> & <int>\\\\\n",
       "\\hline\n",
       "\t5964 &  5964 & ENSG00000012817.15 & KDM5D & chrY & - & 19723340 & 19723433 & 19721129 & 19721311 & 19731771 & 19731930\\\\\n",
       "\t10152 & 10152 & ENSG00000229807.11 & XIST  & chrX & - & 73830622 & 73830790 & 73829067 & 73829231 & 73831065 & 73831210\\\\\n",
       "\t10150 & 10150 & ENSG00000229807.11 & XIST  & chrX & - & 73833237 & 73833374 & 73831065 & 73831274 & 73837439 & 73841474\\\\\n",
       "\t10151 & 10151 & ENSG00000229807.11 & XIST  & chrX & - & 73822070 & 73822233 & 73820655 & 73821029 & 73826114 & 73826301\\\\\n",
       "\t10153 & 10153 & ENSG00000229807.11 & XIST  & chrX & - & 73822066 & 73822216 & 73820716 & 73821029 & 73826114 & 73827984\\\\\n",
       "\t10155 & 10155 & ENSG00000229807.11 & XIST  & chrX & - & 73822070 & 73822216 & 73820655 & 73821029 & 73826114 & 73827984\\\\\n",
       "\\end{tabular}\n"
      ],
      "text/markdown": [
       "\n",
       "A data.frame: 6 × 11\n",
       "\n",
       "| <!--/--> | ID &lt;int&gt; | GeneID &lt;fct&gt; | geneSymbol &lt;fct&gt; | chr &lt;fct&gt; | strand &lt;fct&gt; | exonStart_0base &lt;int&gt; | exonEnd &lt;int&gt; | upstreamES &lt;int&gt; | upstreamEE &lt;int&gt; | downstreamES &lt;int&gt; | downstreamEE &lt;int&gt; |\n",
       "|---|---|---|---|---|---|---|---|---|---|---|---|\n",
       "| 5964 |  5964 | ENSG00000012817.15 | KDM5D | chrY | - | 19723340 | 19723433 | 19721129 | 19721311 | 19731771 | 19731930 |\n",
       "| 10152 | 10152 | ENSG00000229807.11 | XIST  | chrX | - | 73830622 | 73830790 | 73829067 | 73829231 | 73831065 | 73831210 |\n",
       "| 10150 | 10150 | ENSG00000229807.11 | XIST  | chrX | - | 73833237 | 73833374 | 73831065 | 73831274 | 73837439 | 73841474 |\n",
       "| 10151 | 10151 | ENSG00000229807.11 | XIST  | chrX | - | 73822070 | 73822233 | 73820655 | 73821029 | 73826114 | 73826301 |\n",
       "| 10153 | 10153 | ENSG00000229807.11 | XIST  | chrX | - | 73822066 | 73822216 | 73820716 | 73821029 | 73826114 | 73827984 |\n",
       "| 10155 | 10155 | ENSG00000229807.11 | XIST  | chrX | - | 73822070 | 73822216 | 73820655 | 73821029 | 73826114 | 73827984 |\n",
       "\n"
      ],
      "text/plain": [
       "      ID    GeneID             geneSymbol chr  strand exonStart_0base exonEnd \n",
       "5964   5964 ENSG00000012817.15 KDM5D      chrY -      19723340        19723433\n",
       "10152 10152 ENSG00000229807.11 XIST       chrX -      73830622        73830790\n",
       "10150 10150 ENSG00000229807.11 XIST       chrX -      73833237        73833374\n",
       "10151 10151 ENSG00000229807.11 XIST       chrX -      73822070        73822233\n",
       "10153 10153 ENSG00000229807.11 XIST       chrX -      73822066        73822216\n",
       "10155 10155 ENSG00000229807.11 XIST       chrX -      73822070        73822216\n",
       "      upstreamES upstreamEE downstreamES downstreamEE\n",
       "5964  19721129   19721311   19731771     19731930    \n",
       "10152 73829067   73829231   73831065     73831210    \n",
       "10150 73831065   73831274   73837439     73841474    \n",
       "10151 73820655   73821029   73826114     73826301    \n",
       "10153 73820716   73821029   73826114     73827984    \n",
       "10155 73820655   73821029   73826114     73827984    "
      ]
     },
     "metadata": {},
     "output_type": "display_data"
    },
    {
     "data": {
      "text/html": [
       "<table>\n",
       "<caption>A data.frame: 6 × 11</caption>\n",
       "<thead>\n",
       "\t<tr><th></th><th scope=col>ID</th><th scope=col>GeneID</th><th scope=col>geneSymbol</th><th scope=col>chr</th><th scope=col>strand</th><th scope=col>exonStart_0base</th><th scope=col>exonEnd</th><th scope=col>upstreamES</th><th scope=col>upstreamEE</th><th scope=col>downstreamES</th><th scope=col>downstreamEE</th></tr>\n",
       "\t<tr><th></th><th scope=col>&lt;int&gt;</th><th scope=col>&lt;fct&gt;</th><th scope=col>&lt;fct&gt;</th><th scope=col>&lt;fct&gt;</th><th scope=col>&lt;fct&gt;</th><th scope=col>&lt;int&gt;</th><th scope=col>&lt;int&gt;</th><th scope=col>&lt;int&gt;</th><th scope=col>&lt;int&gt;</th><th scope=col>&lt;int&gt;</th><th scope=col>&lt;int&gt;</th></tr>\n",
       "</thead>\n",
       "<tbody>\n",
       "\t<tr><th scope=row>19076</th><td>19076</td><td>ENSG00000183878.15</td><td>UTY  </td><td>chrY</td><td>-</td><td>13306037</td><td>13306112</td><td>13305398</td><td>13305547</td><td>13306185</td><td>13306250</td></tr>\n",
       "\t<tr><th scope=row>5962</th><td> 5962</td><td>ENSG00000012817.15</td><td>KDM5D</td><td>chrY</td><td>-</td><td>19741734</td><td>19741857</td><td>19741317</td><td>19741488</td><td>19743161</td><td>19743239</td></tr>\n",
       "\t<tr><th scope=row>5965</th><td> 5965</td><td>ENSG00000012817.15</td><td>KDM5D</td><td>chrY</td><td>-</td><td>19741317</td><td>19741488</td><td>19739527</td><td>19739662</td><td>19741734</td><td>19741857</td></tr>\n",
       "\t<tr><th scope=row>19070</th><td>19070</td><td>ENSG00000183878.15</td><td>UTY  </td><td>chrY</td><td>-</td><td>13251016</td><td>13251187</td><td>13248378</td><td>13249882</td><td>13260277</td><td>13260404</td></tr>\n",
       "\t<tr><th scope=row>6300</th><td> 6300</td><td>ENSG00000114374.13</td><td>USP9Y</td><td>chrY</td><td>+</td><td>12847238</td><td>12847327</td><td>12846932</td><td>12847153</td><td>12856339</td><td>12856496</td></tr>\n",
       "\t<tr><th scope=row>10154</th><td>10154</td><td>ENSG00000229807.11</td><td>XIST </td><td>chrX</td><td>-</td><td>73831065</td><td>73831206</td><td>73829067</td><td>73829231</td><td>73833237</td><td>73833374</td></tr>\n",
       "</tbody>\n",
       "</table>\n"
      ],
      "text/latex": [
       "A data.frame: 6 × 11\n",
       "\\begin{tabular}{r|lllllllllll}\n",
       "  & ID & GeneID & geneSymbol & chr & strand & exonStart\\_0base & exonEnd & upstreamES & upstreamEE & downstreamES & downstreamEE\\\\\n",
       "  & <int> & <fct> & <fct> & <fct> & <fct> & <int> & <int> & <int> & <int> & <int> & <int>\\\\\n",
       "\\hline\n",
       "\t19076 & 19076 & ENSG00000183878.15 & UTY   & chrY & - & 13306037 & 13306112 & 13305398 & 13305547 & 13306185 & 13306250\\\\\n",
       "\t5962 &  5962 & ENSG00000012817.15 & KDM5D & chrY & - & 19741734 & 19741857 & 19741317 & 19741488 & 19743161 & 19743239\\\\\n",
       "\t5965 &  5965 & ENSG00000012817.15 & KDM5D & chrY & - & 19741317 & 19741488 & 19739527 & 19739662 & 19741734 & 19741857\\\\\n",
       "\t19070 & 19070 & ENSG00000183878.15 & UTY   & chrY & - & 13251016 & 13251187 & 13248378 & 13249882 & 13260277 & 13260404\\\\\n",
       "\t6300 &  6300 & ENSG00000114374.13 & USP9Y & chrY & + & 12847238 & 12847327 & 12846932 & 12847153 & 12856339 & 12856496\\\\\n",
       "\t10154 & 10154 & ENSG00000229807.11 & XIST  & chrX & - & 73831065 & 73831206 & 73829067 & 73829231 & 73833237 & 73833374\\\\\n",
       "\\end{tabular}\n"
      ],
      "text/markdown": [
       "\n",
       "A data.frame: 6 × 11\n",
       "\n",
       "| <!--/--> | ID &lt;int&gt; | GeneID &lt;fct&gt; | geneSymbol &lt;fct&gt; | chr &lt;fct&gt; | strand &lt;fct&gt; | exonStart_0base &lt;int&gt; | exonEnd &lt;int&gt; | upstreamES &lt;int&gt; | upstreamEE &lt;int&gt; | downstreamES &lt;int&gt; | downstreamEE &lt;int&gt; |\n",
       "|---|---|---|---|---|---|---|---|---|---|---|---|\n",
       "| 19076 | 19076 | ENSG00000183878.15 | UTY   | chrY | - | 13306037 | 13306112 | 13305398 | 13305547 | 13306185 | 13306250 |\n",
       "| 5962 |  5962 | ENSG00000012817.15 | KDM5D | chrY | - | 19741734 | 19741857 | 19741317 | 19741488 | 19743161 | 19743239 |\n",
       "| 5965 |  5965 | ENSG00000012817.15 | KDM5D | chrY | - | 19741317 | 19741488 | 19739527 | 19739662 | 19741734 | 19741857 |\n",
       "| 19070 | 19070 | ENSG00000183878.15 | UTY   | chrY | - | 13251016 | 13251187 | 13248378 | 13249882 | 13260277 | 13260404 |\n",
       "| 6300 |  6300 | ENSG00000114374.13 | USP9Y | chrY | + | 12847238 | 12847327 | 12846932 | 12847153 | 12856339 | 12856496 |\n",
       "| 10154 | 10154 | ENSG00000229807.11 | XIST  | chrX | - | 73831065 | 73831206 | 73829067 | 73829231 | 73833237 | 73833374 |\n",
       "\n"
      ],
      "text/plain": [
       "      ID    GeneID             geneSymbol chr  strand exonStart_0base exonEnd \n",
       "19076 19076 ENSG00000183878.15 UTY        chrY -      13306037        13306112\n",
       "5962   5962 ENSG00000012817.15 KDM5D      chrY -      19741734        19741857\n",
       "5965   5965 ENSG00000012817.15 KDM5D      chrY -      19741317        19741488\n",
       "19070 19070 ENSG00000183878.15 UTY        chrY -      13251016        13251187\n",
       "6300   6300 ENSG00000114374.13 USP9Y      chrY +      12847238        12847327\n",
       "10154 10154 ENSG00000229807.11 XIST       chrX -      73831065        73831206\n",
       "      upstreamES upstreamEE downstreamES downstreamEE\n",
       "19076 13305398   13305547   13306185     13306250    \n",
       "5962  19741317   19741488   19743161     19743239    \n",
       "5965  19739527   19739662   19741734     19741857    \n",
       "19070 13248378   13249882   13260277     13260404    \n",
       "6300  12846932   12847153   12856339     12856496    \n",
       "10154 73829067   73829231   73833237     73833374    "
      ]
     },
     "metadata": {},
     "output_type": "display_data"
    },
    {
     "data": {
      "text/html": [
       "<table>\n",
       "<caption>A data.frame: 6 × 11</caption>\n",
       "<thead>\n",
       "\t<tr><th></th><th scope=col>ID</th><th scope=col>GeneID</th><th scope=col>geneSymbol</th><th scope=col>chr</th><th scope=col>strand</th><th scope=col>exonStart_0base</th><th scope=col>exonEnd</th><th scope=col>upstreamES</th><th scope=col>upstreamEE</th><th scope=col>downstreamES</th><th scope=col>downstreamEE</th></tr>\n",
       "\t<tr><th></th><th scope=col>&lt;int&gt;</th><th scope=col>&lt;fct&gt;</th><th scope=col>&lt;fct&gt;</th><th scope=col>&lt;fct&gt;</th><th scope=col>&lt;fct&gt;</th><th scope=col>&lt;int&gt;</th><th scope=col>&lt;int&gt;</th><th scope=col>&lt;int&gt;</th><th scope=col>&lt;int&gt;</th><th scope=col>&lt;int&gt;</th><th scope=col>&lt;int&gt;</th></tr>\n",
       "</thead>\n",
       "<tbody>\n",
       "\t<tr><th scope=row>5963</th><td> 5963</td><td>ENSG00000012817.15</td><td>KDM5D</td><td>chrY</td><td>-</td><td>19739527</td><td>19739662</td><td>19735620</td><td>19735750</td><td>19741317</td><td>19741488</td></tr>\n",
       "\t<tr><th scope=row>10154</th><td>10154</td><td>ENSG00000229807.11</td><td>XIST </td><td>chrX</td><td>-</td><td>73831065</td><td>73831206</td><td>73829067</td><td>73829231</td><td>73833237</td><td>73833374</td></tr>\n",
       "\t<tr><th scope=row>10149</th><td>10149</td><td>ENSG00000229807.11</td><td>XIST </td><td>chrX</td><td>-</td><td>73831065</td><td>73831274</td><td>73829067</td><td>73829231</td><td>73833237</td><td>73833374</td></tr>\n",
       "\t<tr><th scope=row>19076</th><td>19076</td><td>ENSG00000183878.15</td><td>UTY  </td><td>chrY</td><td>-</td><td>13306037</td><td>13306112</td><td>13305398</td><td>13305547</td><td>13306185</td><td>13306250</td></tr>\n",
       "\t<tr><th scope=row>5962</th><td> 5962</td><td>ENSG00000012817.15</td><td>KDM5D</td><td>chrY</td><td>-</td><td>19741734</td><td>19741857</td><td>19741317</td><td>19741488</td><td>19743161</td><td>19743239</td></tr>\n",
       "\t<tr><th scope=row>6300</th><td> 6300</td><td>ENSG00000114374.13</td><td>USP9Y</td><td>chrY</td><td>+</td><td>12847238</td><td>12847327</td><td>12846932</td><td>12847153</td><td>12856339</td><td>12856496</td></tr>\n",
       "</tbody>\n",
       "</table>\n"
      ],
      "text/latex": [
       "A data.frame: 6 × 11\n",
       "\\begin{tabular}{r|lllllllllll}\n",
       "  & ID & GeneID & geneSymbol & chr & strand & exonStart\\_0base & exonEnd & upstreamES & upstreamEE & downstreamES & downstreamEE\\\\\n",
       "  & <int> & <fct> & <fct> & <fct> & <fct> & <int> & <int> & <int> & <int> & <int> & <int>\\\\\n",
       "\\hline\n",
       "\t5963 &  5963 & ENSG00000012817.15 & KDM5D & chrY & - & 19739527 & 19739662 & 19735620 & 19735750 & 19741317 & 19741488\\\\\n",
       "\t10154 & 10154 & ENSG00000229807.11 & XIST  & chrX & - & 73831065 & 73831206 & 73829067 & 73829231 & 73833237 & 73833374\\\\\n",
       "\t10149 & 10149 & ENSG00000229807.11 & XIST  & chrX & - & 73831065 & 73831274 & 73829067 & 73829231 & 73833237 & 73833374\\\\\n",
       "\t19076 & 19076 & ENSG00000183878.15 & UTY   & chrY & - & 13306037 & 13306112 & 13305398 & 13305547 & 13306185 & 13306250\\\\\n",
       "\t5962 &  5962 & ENSG00000012817.15 & KDM5D & chrY & - & 19741734 & 19741857 & 19741317 & 19741488 & 19743161 & 19743239\\\\\n",
       "\t6300 &  6300 & ENSG00000114374.13 & USP9Y & chrY & + & 12847238 & 12847327 & 12846932 & 12847153 & 12856339 & 12856496\\\\\n",
       "\\end{tabular}\n"
      ],
      "text/markdown": [
       "\n",
       "A data.frame: 6 × 11\n",
       "\n",
       "| <!--/--> | ID &lt;int&gt; | GeneID &lt;fct&gt; | geneSymbol &lt;fct&gt; | chr &lt;fct&gt; | strand &lt;fct&gt; | exonStart_0base &lt;int&gt; | exonEnd &lt;int&gt; | upstreamES &lt;int&gt; | upstreamEE &lt;int&gt; | downstreamES &lt;int&gt; | downstreamEE &lt;int&gt; |\n",
       "|---|---|---|---|---|---|---|---|---|---|---|---|\n",
       "| 5963 |  5963 | ENSG00000012817.15 | KDM5D | chrY | - | 19739527 | 19739662 | 19735620 | 19735750 | 19741317 | 19741488 |\n",
       "| 10154 | 10154 | ENSG00000229807.11 | XIST  | chrX | - | 73831065 | 73831206 | 73829067 | 73829231 | 73833237 | 73833374 |\n",
       "| 10149 | 10149 | ENSG00000229807.11 | XIST  | chrX | - | 73831065 | 73831274 | 73829067 | 73829231 | 73833237 | 73833374 |\n",
       "| 19076 | 19076 | ENSG00000183878.15 | UTY   | chrY | - | 13306037 | 13306112 | 13305398 | 13305547 | 13306185 | 13306250 |\n",
       "| 5962 |  5962 | ENSG00000012817.15 | KDM5D | chrY | - | 19741734 | 19741857 | 19741317 | 19741488 | 19743161 | 19743239 |\n",
       "| 6300 |  6300 | ENSG00000114374.13 | USP9Y | chrY | + | 12847238 | 12847327 | 12846932 | 12847153 | 12856339 | 12856496 |\n",
       "\n"
      ],
      "text/plain": [
       "      ID    GeneID             geneSymbol chr  strand exonStart_0base exonEnd \n",
       "5963   5963 ENSG00000012817.15 KDM5D      chrY -      19739527        19739662\n",
       "10154 10154 ENSG00000229807.11 XIST       chrX -      73831065        73831206\n",
       "10149 10149 ENSG00000229807.11 XIST       chrX -      73831065        73831274\n",
       "19076 19076 ENSG00000183878.15 UTY        chrY -      13306037        13306112\n",
       "5962   5962 ENSG00000012817.15 KDM5D      chrY -      19741734        19741857\n",
       "6300   6300 ENSG00000114374.13 USP9Y      chrY +      12847238        12847327\n",
       "      upstreamES upstreamEE downstreamES downstreamEE\n",
       "5963  19735620   19735750   19741317     19741488    \n",
       "10154 73829067   73829231   73833237     73833374    \n",
       "10149 73829067   73829231   73833237     73833374    \n",
       "19076 13305398   13305547   13306185     13306250    \n",
       "5962  19741317   19741488   19743161     19743239    \n",
       "6300  12846932   12847153   12856339     12856496    "
      ]
     },
     "metadata": {},
     "output_type": "display_data"
    },
    {
     "data": {
      "text/html": [
       "<table>\n",
       "<caption>A data.frame: 6 × 11</caption>\n",
       "<thead>\n",
       "\t<tr><th></th><th scope=col>ID</th><th scope=col>GeneID</th><th scope=col>geneSymbol</th><th scope=col>chr</th><th scope=col>strand</th><th scope=col>exonStart_0base</th><th scope=col>exonEnd</th><th scope=col>upstreamES</th><th scope=col>upstreamEE</th><th scope=col>downstreamES</th><th scope=col>downstreamEE</th></tr>\n",
       "\t<tr><th></th><th scope=col>&lt;int&gt;</th><th scope=col>&lt;fct&gt;</th><th scope=col>&lt;fct&gt;</th><th scope=col>&lt;fct&gt;</th><th scope=col>&lt;fct&gt;</th><th scope=col>&lt;int&gt;</th><th scope=col>&lt;int&gt;</th><th scope=col>&lt;int&gt;</th><th scope=col>&lt;int&gt;</th><th scope=col>&lt;int&gt;</th><th scope=col>&lt;int&gt;</th></tr>\n",
       "</thead>\n",
       "<tbody>\n",
       "\t<tr><th scope=row>6300</th><td> 6300</td><td>ENSG00000114374.13</td><td>USP9Y </td><td>chrY</td><td>+</td><td>12847238</td><td>12847327</td><td>12846932</td><td>12847153</td><td>12856339</td><td>12856496</td></tr>\n",
       "\t<tr><th scope=row>19076</th><td>19076</td><td>ENSG00000183878.15</td><td>UTY   </td><td>chrY</td><td>-</td><td>13306037</td><td>13306112</td><td>13305398</td><td>13305547</td><td>13306185</td><td>13306250</td></tr>\n",
       "\t<tr><th scope=row>34357</th><td>34357</td><td>ENSG00000198692.10</td><td>EIF1AY</td><td>chrY</td><td>+</td><td>20584473</td><td>20584524</td><td>20582589</td><td>20582693</td><td>20588023</td><td>20588105</td></tr>\n",
       "\t<tr><th scope=row>5963</th><td> 5963</td><td>ENSG00000012817.15</td><td>KDM5D </td><td>chrY</td><td>-</td><td>19739527</td><td>19739662</td><td>19735620</td><td>19735750</td><td>19741317</td><td>19741488</td></tr>\n",
       "\t<tr><th scope=row>5962</th><td> 5962</td><td>ENSG00000012817.15</td><td>KDM5D </td><td>chrY</td><td>-</td><td>19741734</td><td>19741857</td><td>19741317</td><td>19741488</td><td>19743161</td><td>19743239</td></tr>\n",
       "\t<tr><th scope=row>19070</th><td>19070</td><td>ENSG00000183878.15</td><td>UTY   </td><td>chrY</td><td>-</td><td>13251016</td><td>13251187</td><td>13248378</td><td>13249882</td><td>13260277</td><td>13260404</td></tr>\n",
       "</tbody>\n",
       "</table>\n"
      ],
      "text/latex": [
       "A data.frame: 6 × 11\n",
       "\\begin{tabular}{r|lllllllllll}\n",
       "  & ID & GeneID & geneSymbol & chr & strand & exonStart\\_0base & exonEnd & upstreamES & upstreamEE & downstreamES & downstreamEE\\\\\n",
       "  & <int> & <fct> & <fct> & <fct> & <fct> & <int> & <int> & <int> & <int> & <int> & <int>\\\\\n",
       "\\hline\n",
       "\t6300 &  6300 & ENSG00000114374.13 & USP9Y  & chrY & + & 12847238 & 12847327 & 12846932 & 12847153 & 12856339 & 12856496\\\\\n",
       "\t19076 & 19076 & ENSG00000183878.15 & UTY    & chrY & - & 13306037 & 13306112 & 13305398 & 13305547 & 13306185 & 13306250\\\\\n",
       "\t34357 & 34357 & ENSG00000198692.10 & EIF1AY & chrY & + & 20584473 & 20584524 & 20582589 & 20582693 & 20588023 & 20588105\\\\\n",
       "\t5963 &  5963 & ENSG00000012817.15 & KDM5D  & chrY & - & 19739527 & 19739662 & 19735620 & 19735750 & 19741317 & 19741488\\\\\n",
       "\t5962 &  5962 & ENSG00000012817.15 & KDM5D  & chrY & - & 19741734 & 19741857 & 19741317 & 19741488 & 19743161 & 19743239\\\\\n",
       "\t19070 & 19070 & ENSG00000183878.15 & UTY    & chrY & - & 13251016 & 13251187 & 13248378 & 13249882 & 13260277 & 13260404\\\\\n",
       "\\end{tabular}\n"
      ],
      "text/markdown": [
       "\n",
       "A data.frame: 6 × 11\n",
       "\n",
       "| <!--/--> | ID &lt;int&gt; | GeneID &lt;fct&gt; | geneSymbol &lt;fct&gt; | chr &lt;fct&gt; | strand &lt;fct&gt; | exonStart_0base &lt;int&gt; | exonEnd &lt;int&gt; | upstreamES &lt;int&gt; | upstreamEE &lt;int&gt; | downstreamES &lt;int&gt; | downstreamEE &lt;int&gt; |\n",
       "|---|---|---|---|---|---|---|---|---|---|---|---|\n",
       "| 6300 |  6300 | ENSG00000114374.13 | USP9Y  | chrY | + | 12847238 | 12847327 | 12846932 | 12847153 | 12856339 | 12856496 |\n",
       "| 19076 | 19076 | ENSG00000183878.15 | UTY    | chrY | - | 13306037 | 13306112 | 13305398 | 13305547 | 13306185 | 13306250 |\n",
       "| 34357 | 34357 | ENSG00000198692.10 | EIF1AY | chrY | + | 20584473 | 20584524 | 20582589 | 20582693 | 20588023 | 20588105 |\n",
       "| 5963 |  5963 | ENSG00000012817.15 | KDM5D  | chrY | - | 19739527 | 19739662 | 19735620 | 19735750 | 19741317 | 19741488 |\n",
       "| 5962 |  5962 | ENSG00000012817.15 | KDM5D  | chrY | - | 19741734 | 19741857 | 19741317 | 19741488 | 19743161 | 19743239 |\n",
       "| 19070 | 19070 | ENSG00000183878.15 | UTY    | chrY | - | 13251016 | 13251187 | 13248378 | 13249882 | 13260277 | 13260404 |\n",
       "\n"
      ],
      "text/plain": [
       "      ID    GeneID             geneSymbol chr  strand exonStart_0base exonEnd \n",
       "6300   6300 ENSG00000114374.13 USP9Y      chrY +      12847238        12847327\n",
       "19076 19076 ENSG00000183878.15 UTY        chrY -      13306037        13306112\n",
       "34357 34357 ENSG00000198692.10 EIF1AY     chrY +      20584473        20584524\n",
       "5963   5963 ENSG00000012817.15 KDM5D      chrY -      19739527        19739662\n",
       "5962   5962 ENSG00000012817.15 KDM5D      chrY -      19741734        19741857\n",
       "19070 19070 ENSG00000183878.15 UTY        chrY -      13251016        13251187\n",
       "      upstreamES upstreamEE downstreamES downstreamEE\n",
       "6300  12846932   12847153   12856339     12856496    \n",
       "19076 13305398   13305547   13306185     13306250    \n",
       "34357 20582589   20582693   20588023     20588105    \n",
       "5963  19735620   19735750   19741317     19741488    \n",
       "5962  19741317   19741488   19743161     19743239    \n",
       "19070 13248378   13249882   13260277     13260404    "
      ]
     },
     "metadata": {},
     "output_type": "display_data"
    },
    {
     "data": {
      "text/html": [
       "<table>\n",
       "<caption>A data.frame: 6 × 11</caption>\n",
       "<thead>\n",
       "\t<tr><th></th><th scope=col>ID</th><th scope=col>GeneID</th><th scope=col>geneSymbol</th><th scope=col>chr</th><th scope=col>strand</th><th scope=col>exonStart_0base</th><th scope=col>exonEnd</th><th scope=col>upstreamES</th><th scope=col>upstreamEE</th><th scope=col>downstreamES</th><th scope=col>downstreamEE</th></tr>\n",
       "\t<tr><th></th><th scope=col>&lt;int&gt;</th><th scope=col>&lt;fct&gt;</th><th scope=col>&lt;fct&gt;</th><th scope=col>&lt;fct&gt;</th><th scope=col>&lt;fct&gt;</th><th scope=col>&lt;int&gt;</th><th scope=col>&lt;int&gt;</th><th scope=col>&lt;int&gt;</th><th scope=col>&lt;int&gt;</th><th scope=col>&lt;int&gt;</th><th scope=col>&lt;int&gt;</th></tr>\n",
       "</thead>\n",
       "<tbody>\n",
       "\t<tr><th scope=row>5964</th><td> 5964</td><td>ENSG00000012817.15</td><td>KDM5D</td><td>chrY</td><td>-</td><td>19723340</td><td>19723433</td><td>19721129</td><td>19721311</td><td>19731771</td><td>19731930</td></tr>\n",
       "\t<tr><th scope=row>10152</th><td>10152</td><td>ENSG00000229807.11</td><td>XIST </td><td>chrX</td><td>-</td><td>73830622</td><td>73830790</td><td>73829067</td><td>73829231</td><td>73831065</td><td>73831210</td></tr>\n",
       "\t<tr><th scope=row>10150</th><td>10150</td><td>ENSG00000229807.11</td><td>XIST </td><td>chrX</td><td>-</td><td>73833237</td><td>73833374</td><td>73831065</td><td>73831274</td><td>73837439</td><td>73841474</td></tr>\n",
       "\t<tr><th scope=row>10151</th><td>10151</td><td>ENSG00000229807.11</td><td>XIST </td><td>chrX</td><td>-</td><td>73822070</td><td>73822233</td><td>73820655</td><td>73821029</td><td>73826114</td><td>73826301</td></tr>\n",
       "\t<tr><th scope=row>10153</th><td>10153</td><td>ENSG00000229807.11</td><td>XIST </td><td>chrX</td><td>-</td><td>73822066</td><td>73822216</td><td>73820716</td><td>73821029</td><td>73826114</td><td>73827984</td></tr>\n",
       "\t<tr><th scope=row>10155</th><td>10155</td><td>ENSG00000229807.11</td><td>XIST </td><td>chrX</td><td>-</td><td>73822070</td><td>73822216</td><td>73820655</td><td>73821029</td><td>73826114</td><td>73827984</td></tr>\n",
       "</tbody>\n",
       "</table>\n"
      ],
      "text/latex": [
       "A data.frame: 6 × 11\n",
       "\\begin{tabular}{r|lllllllllll}\n",
       "  & ID & GeneID & geneSymbol & chr & strand & exonStart\\_0base & exonEnd & upstreamES & upstreamEE & downstreamES & downstreamEE\\\\\n",
       "  & <int> & <fct> & <fct> & <fct> & <fct> & <int> & <int> & <int> & <int> & <int> & <int>\\\\\n",
       "\\hline\n",
       "\t5964 &  5964 & ENSG00000012817.15 & KDM5D & chrY & - & 19723340 & 19723433 & 19721129 & 19721311 & 19731771 & 19731930\\\\\n",
       "\t10152 & 10152 & ENSG00000229807.11 & XIST  & chrX & - & 73830622 & 73830790 & 73829067 & 73829231 & 73831065 & 73831210\\\\\n",
       "\t10150 & 10150 & ENSG00000229807.11 & XIST  & chrX & - & 73833237 & 73833374 & 73831065 & 73831274 & 73837439 & 73841474\\\\\n",
       "\t10151 & 10151 & ENSG00000229807.11 & XIST  & chrX & - & 73822070 & 73822233 & 73820655 & 73821029 & 73826114 & 73826301\\\\\n",
       "\t10153 & 10153 & ENSG00000229807.11 & XIST  & chrX & - & 73822066 & 73822216 & 73820716 & 73821029 & 73826114 & 73827984\\\\\n",
       "\t10155 & 10155 & ENSG00000229807.11 & XIST  & chrX & - & 73822070 & 73822216 & 73820655 & 73821029 & 73826114 & 73827984\\\\\n",
       "\\end{tabular}\n"
      ],
      "text/markdown": [
       "\n",
       "A data.frame: 6 × 11\n",
       "\n",
       "| <!--/--> | ID &lt;int&gt; | GeneID &lt;fct&gt; | geneSymbol &lt;fct&gt; | chr &lt;fct&gt; | strand &lt;fct&gt; | exonStart_0base &lt;int&gt; | exonEnd &lt;int&gt; | upstreamES &lt;int&gt; | upstreamEE &lt;int&gt; | downstreamES &lt;int&gt; | downstreamEE &lt;int&gt; |\n",
       "|---|---|---|---|---|---|---|---|---|---|---|---|\n",
       "| 5964 |  5964 | ENSG00000012817.15 | KDM5D | chrY | - | 19723340 | 19723433 | 19721129 | 19721311 | 19731771 | 19731930 |\n",
       "| 10152 | 10152 | ENSG00000229807.11 | XIST  | chrX | - | 73830622 | 73830790 | 73829067 | 73829231 | 73831065 | 73831210 |\n",
       "| 10150 | 10150 | ENSG00000229807.11 | XIST  | chrX | - | 73833237 | 73833374 | 73831065 | 73831274 | 73837439 | 73841474 |\n",
       "| 10151 | 10151 | ENSG00000229807.11 | XIST  | chrX | - | 73822070 | 73822233 | 73820655 | 73821029 | 73826114 | 73826301 |\n",
       "| 10153 | 10153 | ENSG00000229807.11 | XIST  | chrX | - | 73822066 | 73822216 | 73820716 | 73821029 | 73826114 | 73827984 |\n",
       "| 10155 | 10155 | ENSG00000229807.11 | XIST  | chrX | - | 73822070 | 73822216 | 73820655 | 73821029 | 73826114 | 73827984 |\n",
       "\n"
      ],
      "text/plain": [
       "      ID    GeneID             geneSymbol chr  strand exonStart_0base exonEnd \n",
       "5964   5964 ENSG00000012817.15 KDM5D      chrY -      19723340        19723433\n",
       "10152 10152 ENSG00000229807.11 XIST       chrX -      73830622        73830790\n",
       "10150 10150 ENSG00000229807.11 XIST       chrX -      73833237        73833374\n",
       "10151 10151 ENSG00000229807.11 XIST       chrX -      73822070        73822233\n",
       "10153 10153 ENSG00000229807.11 XIST       chrX -      73822066        73822216\n",
       "10155 10155 ENSG00000229807.11 XIST       chrX -      73822070        73822216\n",
       "      upstreamES upstreamEE downstreamES downstreamEE\n",
       "5964  19721129   19721311   19731771     19731930    \n",
       "10152 73829067   73829231   73831065     73831210    \n",
       "10150 73831065   73831274   73837439     73841474    \n",
       "10151 73820655   73821029   73826114     73826301    \n",
       "10153 73820716   73821029   73826114     73827984    \n",
       "10155 73820655   73821029   73826114     73827984    "
      ]
     },
     "metadata": {},
     "output_type": "display_data"
    },
    {
     "data": {
      "text/html": [
       "<style>\n",
       ".list-inline {list-style: none; margin:0; padding: 0}\n",
       ".list-inline>li {display: inline-block}\n",
       ".list-inline>li:not(:last-child)::after {content: \"\\00b7\"; padding: 0 .5ex}\n",
       "</style>\n",
       "<ol class=list-inline><li>'UTY-19076'</li><li>'KDM5D-5962'</li><li>'KDM5D-5965'</li><li>'UTY-19070'</li><li>'USP9Y-6300'</li><li>'XIST-10154'</li></ol>\n"
      ],
      "text/latex": [
       "\\begin{enumerate*}\n",
       "\\item 'UTY-19076'\n",
       "\\item 'KDM5D-5962'\n",
       "\\item 'KDM5D-5965'\n",
       "\\item 'UTY-19070'\n",
       "\\item 'USP9Y-6300'\n",
       "\\item 'XIST-10154'\n",
       "\\end{enumerate*}\n"
      ],
      "text/markdown": [
       "1. 'UTY-19076'\n",
       "2. 'KDM5D-5962'\n",
       "3. 'KDM5D-5965'\n",
       "4. 'UTY-19070'\n",
       "5. 'USP9Y-6300'\n",
       "6. 'XIST-10154'\n",
       "\n",
       "\n"
      ],
      "text/plain": [
       "[1] \"UTY-19076\"  \"KDM5D-5962\" \"KDM5D-5965\" \"UTY-19070\"  \"USP9Y-6300\"\n",
       "[6] \"XIST-10154\""
      ]
     },
     "metadata": {},
     "output_type": "display_data"
    },
    {
     "data": {
      "text/html": [
       "<style>\n",
       ".list-inline {list-style: none; margin:0; padding: 0}\n",
       ".list-inline>li {display: inline-block}\n",
       ".list-inline>li:not(:last-child)::after {content: \"\\00b7\"; padding: 0 .5ex}\n",
       "</style>\n",
       "<ol class=list-inline><li>'KDM5D-5963'</li><li>'XIST-10154'</li><li>'XIST-10149'</li><li>'UTY-19076'</li><li>'KDM5D-5962'</li><li>'USP9Y-6300'</li></ol>\n"
      ],
      "text/latex": [
       "\\begin{enumerate*}\n",
       "\\item 'KDM5D-5963'\n",
       "\\item 'XIST-10154'\n",
       "\\item 'XIST-10149'\n",
       "\\item 'UTY-19076'\n",
       "\\item 'KDM5D-5962'\n",
       "\\item 'USP9Y-6300'\n",
       "\\end{enumerate*}\n"
      ],
      "text/markdown": [
       "1. 'KDM5D-5963'\n",
       "2. 'XIST-10154'\n",
       "3. 'XIST-10149'\n",
       "4. 'UTY-19076'\n",
       "5. 'KDM5D-5962'\n",
       "6. 'USP9Y-6300'\n",
       "\n",
       "\n"
      ],
      "text/plain": [
       "[1] \"KDM5D-5963\" \"XIST-10154\" \"XIST-10149\" \"UTY-19076\"  \"KDM5D-5962\"\n",
       "[6] \"USP9Y-6300\""
      ]
     },
     "metadata": {},
     "output_type": "display_data"
    },
    {
     "data": {
      "text/html": [
       "<style>\n",
       ".list-inline {list-style: none; margin:0; padding: 0}\n",
       ".list-inline>li {display: inline-block}\n",
       ".list-inline>li:not(:last-child)::after {content: \"\\00b7\"; padding: 0 .5ex}\n",
       "</style>\n",
       "<ol class=list-inline><li>'USP9Y-6300'</li><li>'UTY-19076'</li><li>'EIF1AY-34357'</li><li>'KDM5D-5963'</li><li>'KDM5D-5962'</li><li>'UTY-19070'</li></ol>\n"
      ],
      "text/latex": [
       "\\begin{enumerate*}\n",
       "\\item 'USP9Y-6300'\n",
       "\\item 'UTY-19076'\n",
       "\\item 'EIF1AY-34357'\n",
       "\\item 'KDM5D-5963'\n",
       "\\item 'KDM5D-5962'\n",
       "\\item 'UTY-19070'\n",
       "\\end{enumerate*}\n"
      ],
      "text/markdown": [
       "1. 'USP9Y-6300'\n",
       "2. 'UTY-19076'\n",
       "3. 'EIF1AY-34357'\n",
       "4. 'KDM5D-5963'\n",
       "5. 'KDM5D-5962'\n",
       "6. 'UTY-19070'\n",
       "\n",
       "\n"
      ],
      "text/plain": [
       "[1] \"USP9Y-6300\"   \"UTY-19076\"    \"EIF1AY-34357\" \"KDM5D-5963\"   \"KDM5D-5962\"  \n",
       "[6] \"UTY-19070\"   "
      ]
     },
     "metadata": {},
     "output_type": "display_data"
    },
    {
     "data": {
      "text/html": [
       "<style>\n",
       ".list-inline {list-style: none; margin:0; padding: 0}\n",
       ".list-inline>li {display: inline-block}\n",
       ".list-inline>li:not(:last-child)::after {content: \"\\00b7\"; padding: 0 .5ex}\n",
       "</style>\n",
       "<ol class=list-inline><li>'KDM5D-5964'</li><li>'XIST-10152'</li><li>'XIST-10150'</li><li>'XIST-10151'</li><li>'XIST-10153'</li><li>'XIST-10155'</li></ol>\n"
      ],
      "text/latex": [
       "\\begin{enumerate*}\n",
       "\\item 'KDM5D-5964'\n",
       "\\item 'XIST-10152'\n",
       "\\item 'XIST-10150'\n",
       "\\item 'XIST-10151'\n",
       "\\item 'XIST-10153'\n",
       "\\item 'XIST-10155'\n",
       "\\end{enumerate*}\n"
      ],
      "text/markdown": [
       "1. 'KDM5D-5964'\n",
       "2. 'XIST-10152'\n",
       "3. 'XIST-10150'\n",
       "4. 'XIST-10151'\n",
       "5. 'XIST-10153'\n",
       "6. 'XIST-10155'\n",
       "\n",
       "\n"
      ],
      "text/plain": [
       "[1] \"KDM5D-5964\" \"XIST-10152\" \"XIST-10150\" \"XIST-10151\" \"XIST-10153\"\n",
       "[6] \"XIST-10155\""
      ]
     },
     "metadata": {},
     "output_type": "display_data"
    }
   ],
   "source": []
  },
  {
   "cell_type": "markdown",
   "metadata": {},
   "source": []
  },
  {
   "cell_type": "code",
   "execution_count": 55,
   "metadata": {},
   "outputs": [
    {
     "data": {
      "text/html": [
       "<style>\n",
       ".list-inline {list-style: none; margin:0; padding: 0}\n",
       ".list-inline>li {display: inline-block}\n",
       ".list-inline>li:not(:last-child)::after {content: \"\\00b7\"; padding: 0 .5ex}\n",
       "</style>\n",
       "<ol class=list-inline><li>'Adipose - Subcutaneous'</li><li>'Adipose - Visceral (Omentum)'</li><li>'Adrenal Gland'</li><li>'Artery - Aorta'</li><li>'Artery - Coronary'</li><li>'Artery - Tibial'</li><li>'Bladder'</li><li>'Brain - Amygdala'</li><li>'Brain - Anterior cingulate cortex (BA24)'</li><li>'Brain - Caudate (basal ganglia)'</li><li>'Brain - Cerebellar Hemisphere'</li><li>'Brain - Cerebellum'</li><li>'Brain - Cortex'</li><li>'Brain - Frontal Cortex (BA9)'</li><li>'Brain - Hippocampus'</li><li>'Brain - Hypothalamus'</li><li>'Brain - Nucleus accumbens (basal ganglia)'</li><li>'Brain - Putamen (basal ganglia)'</li><li>'Brain - Spinal cord (cervical c-1)'</li><li>'Brain - Substantia nigra'</li><li>'Breast - Mammary Tissue'</li><li>'Cells - Cultured fibroblasts'</li><li>'Cells - EBV-transformed lymphocytes'</li><li>'Cells - Leukemia cell line (CML)'</li><li>'Cervix - Ectocervix'</li><li>'Cervix - Endocervix'</li><li>'Colon - Sigmoid'</li><li>'Colon - Transverse'</li><li>'Esophagus - Gastroesophageal Junction'</li><li>'Esophagus - Mucosa'</li><li>'Esophagus - Muscularis'</li><li>'Fallopian Tube'</li><li>'Heart - Atrial Appendage'</li><li>'Heart - Left Ventricle'</li><li>'Kidney - Cortex'</li><li>'Liver'</li><li>'Lung'</li><li>'Minor Salivary Gland'</li><li>'Muscle - Skeletal'</li><li>'Nerve - Tibial'</li><li>'Ovary'</li><li>'Pancreas'</li><li>'Pituitary'</li><li>'Prostate'</li><li>'Skin - Not Sun Exposed (Suprapubic)'</li><li>'Skin - Sun Exposed (Lower leg)'</li><li>'Small Intestine - Terminal Ileum'</li><li>'Spleen'</li><li>'Stomach'</li><li>'Testis'</li><li>'Thyroid'</li><li>'Uterus'</li><li>'Vagina'</li><li>'Whole Blood'</li></ol>\n"
      ],
      "text/latex": [
       "\\begin{enumerate*}\n",
       "\\item 'Adipose - Subcutaneous'\n",
       "\\item 'Adipose - Visceral (Omentum)'\n",
       "\\item 'Adrenal Gland'\n",
       "\\item 'Artery - Aorta'\n",
       "\\item 'Artery - Coronary'\n",
       "\\item 'Artery - Tibial'\n",
       "\\item 'Bladder'\n",
       "\\item 'Brain - Amygdala'\n",
       "\\item 'Brain - Anterior cingulate cortex (BA24)'\n",
       "\\item 'Brain - Caudate (basal ganglia)'\n",
       "\\item 'Brain - Cerebellar Hemisphere'\n",
       "\\item 'Brain - Cerebellum'\n",
       "\\item 'Brain - Cortex'\n",
       "\\item 'Brain - Frontal Cortex (BA9)'\n",
       "\\item 'Brain - Hippocampus'\n",
       "\\item 'Brain - Hypothalamus'\n",
       "\\item 'Brain - Nucleus accumbens (basal ganglia)'\n",
       "\\item 'Brain - Putamen (basal ganglia)'\n",
       "\\item 'Brain - Spinal cord (cervical c-1)'\n",
       "\\item 'Brain - Substantia nigra'\n",
       "\\item 'Breast - Mammary Tissue'\n",
       "\\item 'Cells - Cultured fibroblasts'\n",
       "\\item 'Cells - EBV-transformed lymphocytes'\n",
       "\\item 'Cells - Leukemia cell line (CML)'\n",
       "\\item 'Cervix - Ectocervix'\n",
       "\\item 'Cervix - Endocervix'\n",
       "\\item 'Colon - Sigmoid'\n",
       "\\item 'Colon - Transverse'\n",
       "\\item 'Esophagus - Gastroesophageal Junction'\n",
       "\\item 'Esophagus - Mucosa'\n",
       "\\item 'Esophagus - Muscularis'\n",
       "\\item 'Fallopian Tube'\n",
       "\\item 'Heart - Atrial Appendage'\n",
       "\\item 'Heart - Left Ventricle'\n",
       "\\item 'Kidney - Cortex'\n",
       "\\item 'Liver'\n",
       "\\item 'Lung'\n",
       "\\item 'Minor Salivary Gland'\n",
       "\\item 'Muscle - Skeletal'\n",
       "\\item 'Nerve - Tibial'\n",
       "\\item 'Ovary'\n",
       "\\item 'Pancreas'\n",
       "\\item 'Pituitary'\n",
       "\\item 'Prostate'\n",
       "\\item 'Skin - Not Sun Exposed (Suprapubic)'\n",
       "\\item 'Skin - Sun Exposed (Lower leg)'\n",
       "\\item 'Small Intestine - Terminal Ileum'\n",
       "\\item 'Spleen'\n",
       "\\item 'Stomach'\n",
       "\\item 'Testis'\n",
       "\\item 'Thyroid'\n",
       "\\item 'Uterus'\n",
       "\\item 'Vagina'\n",
       "\\item 'Whole Blood'\n",
       "\\end{enumerate*}\n"
      ],
      "text/markdown": [
       "1. 'Adipose - Subcutaneous'\n",
       "2. 'Adipose - Visceral (Omentum)'\n",
       "3. 'Adrenal Gland'\n",
       "4. 'Artery - Aorta'\n",
       "5. 'Artery - Coronary'\n",
       "6. 'Artery - Tibial'\n",
       "7. 'Bladder'\n",
       "8. 'Brain - Amygdala'\n",
       "9. 'Brain - Anterior cingulate cortex (BA24)'\n",
       "10. 'Brain - Caudate (basal ganglia)'\n",
       "11. 'Brain - Cerebellar Hemisphere'\n",
       "12. 'Brain - Cerebellum'\n",
       "13. 'Brain - Cortex'\n",
       "14. 'Brain - Frontal Cortex (BA9)'\n",
       "15. 'Brain - Hippocampus'\n",
       "16. 'Brain - Hypothalamus'\n",
       "17. 'Brain - Nucleus accumbens (basal ganglia)'\n",
       "18. 'Brain - Putamen (basal ganglia)'\n",
       "19. 'Brain - Spinal cord (cervical c-1)'\n",
       "20. 'Brain - Substantia nigra'\n",
       "21. 'Breast - Mammary Tissue'\n",
       "22. 'Cells - Cultured fibroblasts'\n",
       "23. 'Cells - EBV-transformed lymphocytes'\n",
       "24. 'Cells - Leukemia cell line (CML)'\n",
       "25. 'Cervix - Ectocervix'\n",
       "26. 'Cervix - Endocervix'\n",
       "27. 'Colon - Sigmoid'\n",
       "28. 'Colon - Transverse'\n",
       "29. 'Esophagus - Gastroesophageal Junction'\n",
       "30. 'Esophagus - Mucosa'\n",
       "31. 'Esophagus - Muscularis'\n",
       "32. 'Fallopian Tube'\n",
       "33. 'Heart - Atrial Appendage'\n",
       "34. 'Heart - Left Ventricle'\n",
       "35. 'Kidney - Cortex'\n",
       "36. 'Liver'\n",
       "37. 'Lung'\n",
       "38. 'Minor Salivary Gland'\n",
       "39. 'Muscle - Skeletal'\n",
       "40. 'Nerve - Tibial'\n",
       "41. 'Ovary'\n",
       "42. 'Pancreas'\n",
       "43. 'Pituitary'\n",
       "44. 'Prostate'\n",
       "45. 'Skin - Not Sun Exposed (Suprapubic)'\n",
       "46. 'Skin - Sun Exposed (Lower leg)'\n",
       "47. 'Small Intestine - Terminal Ileum'\n",
       "48. 'Spleen'\n",
       "49. 'Stomach'\n",
       "50. 'Testis'\n",
       "51. 'Thyroid'\n",
       "52. 'Uterus'\n",
       "53. 'Vagina'\n",
       "54. 'Whole Blood'\n",
       "\n",
       "\n"
      ],
      "text/plain": [
       " [1] \"Adipose - Subcutaneous\"                   \n",
       " [2] \"Adipose - Visceral (Omentum)\"             \n",
       " [3] \"Adrenal Gland\"                            \n",
       " [4] \"Artery - Aorta\"                           \n",
       " [5] \"Artery - Coronary\"                        \n",
       " [6] \"Artery - Tibial\"                          \n",
       " [7] \"Bladder\"                                  \n",
       " [8] \"Brain - Amygdala\"                         \n",
       " [9] \"Brain - Anterior cingulate cortex (BA24)\" \n",
       "[10] \"Brain - Caudate (basal ganglia)\"          \n",
       "[11] \"Brain - Cerebellar Hemisphere\"            \n",
       "[12] \"Brain - Cerebellum\"                       \n",
       "[13] \"Brain - Cortex\"                           \n",
       "[14] \"Brain - Frontal Cortex (BA9)\"             \n",
       "[15] \"Brain - Hippocampus\"                      \n",
       "[16] \"Brain - Hypothalamus\"                     \n",
       "[17] \"Brain - Nucleus accumbens (basal ganglia)\"\n",
       "[18] \"Brain - Putamen (basal ganglia)\"          \n",
       "[19] \"Brain - Spinal cord (cervical c-1)\"       \n",
       "[20] \"Brain - Substantia nigra\"                 \n",
       "[21] \"Breast - Mammary Tissue\"                  \n",
       "[22] \"Cells - Cultured fibroblasts\"             \n",
       "[23] \"Cells - EBV-transformed lymphocytes\"      \n",
       "[24] \"Cells - Leukemia cell line (CML)\"         \n",
       "[25] \"Cervix - Ectocervix\"                      \n",
       "[26] \"Cervix - Endocervix\"                      \n",
       "[27] \"Colon - Sigmoid\"                          \n",
       "[28] \"Colon - Transverse\"                       \n",
       "[29] \"Esophagus - Gastroesophageal Junction\"    \n",
       "[30] \"Esophagus - Mucosa\"                       \n",
       "[31] \"Esophagus - Muscularis\"                   \n",
       "[32] \"Fallopian Tube\"                           \n",
       "[33] \"Heart - Atrial Appendage\"                 \n",
       "[34] \"Heart - Left Ventricle\"                   \n",
       "[35] \"Kidney - Cortex\"                          \n",
       "[36] \"Liver\"                                    \n",
       "[37] \"Lung\"                                     \n",
       "[38] \"Minor Salivary Gland\"                     \n",
       "[39] \"Muscle - Skeletal\"                        \n",
       "[40] \"Nerve - Tibial\"                           \n",
       "[41] \"Ovary\"                                    \n",
       "[42] \"Pancreas\"                                 \n",
       "[43] \"Pituitary\"                                \n",
       "[44] \"Prostate\"                                 \n",
       "[45] \"Skin - Not Sun Exposed (Suprapubic)\"      \n",
       "[46] \"Skin - Sun Exposed (Lower leg)\"           \n",
       "[47] \"Small Intestine - Terminal Ileum\"         \n",
       "[48] \"Spleen\"                                   \n",
       "[49] \"Stomach\"                                  \n",
       "[50] \"Testis\"                                   \n",
       "[51] \"Thyroid\"                                  \n",
       "[52] \"Uterus\"                                   \n",
       "[53] \"Vagina\"                                   \n",
       "[54] \"Whole Blood\"                              "
      ]
     },
     "metadata": {},
     "output_type": "display_data"
    },
    {
     "data": {
      "text/plain": [
       "keep\n",
       "FALSE  TRUE \n",
       "    2    52 "
      ]
     },
     "metadata": {},
     "output_type": "display_data"
    },
    {
     "data": {
      "text/plain": [
       "keep\n",
       "FALSE  TRUE \n",
       "  555  7433 "
      ]
     },
     "metadata": {},
     "output_type": "display_data"
    }
   ],
   "source": [
    "tissue_m_f_levels <- levels(tissue_list_m_f)\n",
    "tissue_m_f_levels\n",
    "keep_tissues = tissue_m_f_levels[-c(1:2)]\n",
    "keep = tissue_m_f_levels %in% keep_tissues\n",
    "table(keep)\n",
    "keep = tissue_list_m_f %in% tissue_m_f_levels_modified\n",
    "table(keep)"
   ]
  },
  {
   "cell_type": "code",
   "execution_count": 59,
   "metadata": {},
   "outputs": [
    {
     "data": {
      "text/html": [
       "<style>\n",
       ".list-inline {list-style: none; margin:0; padding: 0}\n",
       ".list-inline>li {display: inline-block}\n",
       ".list-inline>li:not(:last-child)::after {content: \"\\00b7\"; padding: 0 .5ex}\n",
       "</style>\n",
       "<ol class=list-inline><li>42611</li><li>7433</li></ol>\n"
      ],
      "text/latex": [
       "\\begin{enumerate*}\n",
       "\\item 42611\n",
       "\\item 7433\n",
       "\\end{enumerate*}\n"
      ],
      "text/markdown": [
       "1. 42611\n",
       "2. 7433\n",
       "\n",
       "\n"
      ],
      "text/plain": [
       "[1] 42611  7433"
      ]
     },
     "metadata": {},
     "output_type": "display_data"
    },
    {
     "data": {
      "text/html": [
       "<style>\n",
       ".list-inline {list-style: none; margin:0; padding: 0}\n",
       ".list-inline>li {display: inline-block}\n",
       ".list-inline>li:not(:last-child)::after {content: \"\\00b7\"; padding: 0 .5ex}\n",
       "</style>\n",
       "<ol class=list-inline><li>42611</li><li>7433</li></ol>\n"
      ],
      "text/latex": [
       "\\begin{enumerate*}\n",
       "\\item 42611\n",
       "\\item 7433\n",
       "\\end{enumerate*}\n"
      ],
      "text/markdown": [
       "1. 42611\n",
       "2. 7433\n",
       "\n",
       "\n"
      ],
      "text/plain": [
       "[1] 42611  7433"
      ]
     },
     "metadata": {},
     "output_type": "display_data"
    },
    {
     "data": {
      "text/html": [
       "<style>\n",
       ".list-inline {list-style: none; margin:0; padding: 0}\n",
       ".list-inline>li {display: inline-block}\n",
       ".list-inline>li:not(:last-child)::after {content: \"\\00b7\"; padding: 0 .5ex}\n",
       "</style>\n",
       "<ol class=list-inline><li>7433</li><li>79</li></ol>\n"
      ],
      "text/latex": [
       "\\begin{enumerate*}\n",
       "\\item 7433\n",
       "\\item 79\n",
       "\\end{enumerate*}\n"
      ],
      "text/markdown": [
       "1. 7433\n",
       "2. 79\n",
       "\n",
       "\n"
      ],
      "text/plain": [
       "[1] 7433   79"
      ]
     },
     "metadata": {},
     "output_type": "display_data"
    },
    {
     "data": {
      "text/html": [
       "7433"
      ],
      "text/latex": [
       "7433"
      ],
      "text/markdown": [
       "7433"
      ],
      "text/plain": [
       "[1] 7433"
      ]
     },
     "metadata": {},
     "output_type": "display_data"
    },
    {
     "ename": "ERROR",
     "evalue": "Error in fit$coefficients[, coef]: subscript out of bounds\n",
     "output_type": "error",
     "traceback": [
      "Error in fit$coefficients[, coef]: subscript out of bounds\nTraceback:\n",
      "1. lapply(X = levels(tissue_list_m_f_modified), FUN = print_exploratory_plots, \n .     tissue_list = tissue_list_m_f_modified, ijc = ijc_m_f_modified, \n .     sjc = sjc_m_f_modified, metadata = metadata_m_f_modified)",
      "2. lapply(X = levels(tissue_list_m_f_modified), FUN = print_exploratory_plots, \n .     tissue_list = tissue_list_m_f_modified, ijc = ijc_m_f_modified, \n .     sjc = sjc_m_f_modified, metadata = metadata_m_f_modified)",
      "3. FUN(X[[i]], ...)",
      "4. topTable(fit_ijc, coef = \"sex\", number = nrow(y_ijc_voom))   # at line 32 of file <text>",
      "5. .topTableT(fit = fit[c(\"coefficients\", \"stdev.unscaled\")], coef = coef, \n .     number = number, genelist = genelist, A = fit$Amean, eb = fit[ebcols], \n .     adjust.method = adjust.method, sort.by = sort.by, resort.by = resort.by, \n .     p.value = p.value, lfc = lfc, confint = confint)"
     ]
    },
    {
     "data": {
      "image/png": "[encoded data removed]",
      "text/plain": [
       "Plot with title “voom: Mean-variance trend”"
      ]
     },
     "metadata": {},
     "output_type": "display_data"
    },
    {
     "data": {
      "image/png": "[encoded data removed]",
      "text/plain": [
       "Plot with title “voom: Mean-variance trend”"
      ]
     },
     "metadata": {},
     "output_type": "display_data"
    }
   ],
   "source": [
    "ijc_m_f_modified         = ijc_m_f[          ,keep==TRUE]\n",
    "sjc_m_f_modified         = sjc_m_f         [          ,keep==TRUE]\n",
    "metadata_m_f_modified    = metadata_m_f    [keep==TRUE,          ]\n",
    "tissue_list_m_f_modified = tissue_list_m_f [keep==TRUE]\n",
    "\n",
    "dim(ijc_m_f_modified)\n",
    "dim(sjc_m_f_modified)\n",
    "dim(metadata_m_f_modified)\n",
    "length(tissue_list_m_f_modified)\n",
    "tissue_list_m_f_modified = factor(tissue_list_m_f_modified)\n",
    "\n",
    "lapply(X                  = levels(tissue_list_m_f_modified), \n",
    "       FUN                = print_exploratory_plots,\n",
    "       tissue_list        = tissue_list_m_f_modified,\n",
    "       ijc                = ijc_m_f_modified, \n",
    "       sjc                = sjc_m_f_modified, \n",
    "       metadata           = metadata_m_f_modified)"
   ]
  },
  {
   "cell_type": "markdown",
   "metadata": {},
   "source": [
    "."
   ]
  },
  {
   "cell_type": "markdown",
   "metadata": {},
   "source": []
  },
  {
   "cell_type": "markdown",
   "metadata": {},
   "source": [
    "## Metadata\n",
    "\n",
    "For replicability and reproducibility purposes, we also print the following metadata:\n",
    "\n",
    "1. Checksums of **'artefacts'**, files generated during the analysis and stored in the folder directory **`data`**\n",
    "2. List of environment metadata, dependencies, versions of libraries using `utils::sessionInfo()` and [`devtools::session_info()`](https://devtools.r-lib.org/reference/session_info.html)"
   ]
  },
  {
   "cell_type": "markdown",
   "metadata": {},
   "source": [
    "### 1. Checksums with the sha256 algorithm"
   ]
  },
  {
   "cell_type": "code",
   "execution_count": 82,
   "metadata": {},
   "outputs": [
    {
     "data": {
      "text/html": [
       "'AllTissueJunctionAnalysis'"
      ],
      "text/latex": [
       "'AllTissueJunctionAnalysis'"
      ],
      "text/markdown": [
       "'AllTissueJunctionAnalysis'"
      ],
      "text/plain": [
       "[1] \"AllTissueJunctionAnalysis\""
      ]
     },
     "metadata": {},
     "output_type": "display_data"
    },
    {
     "name": "stderr",
     "output_type": "stream",
     "text": [
      "Generating sha256 checksums of the artefacts in the `..data/` directory .. \n"
     ]
    },
    {
     "data": {
      "text/html": [],
      "text/latex": [],
      "text/markdown": [],
      "text/plain": [
       "character(0)"
      ]
     },
     "metadata": {},
     "output_type": "display_data"
    },
    {
     "name": "stderr",
     "output_type": "stream",
     "text": [
      "Done!\n",
      "\n"
     ]
    },
    {
     "data": {
      "text/html": [
       "'../metadata/AllTissueJunctionAnalysis_sha256sums.txt'"
      ],
      "text/latex": [
       "'../metadata/AllTissueJunctionAnalysis\\_sha256sums.txt'"
      ],
      "text/markdown": [
       "'../metadata/AllTissueJunctionAnalysis_sha256sums.txt'"
      ],
      "text/plain": [
       "[1] \"../metadata/AllTissueJunctionAnalysis_sha256sums.txt\""
      ]
     },
     "metadata": {},
     "output_type": "display_data"
    },
    {
     "data": {
      "text/html": [
       "<table>\n",
       "<caption>A data.table: 63 × 2</caption>\n",
       "<thead>\n",
       "\t<tr><th scope=col>sha256sum</th><th scope=col>file</th></tr>\n",
       "\t<tr><th scope=col>&lt;chr&gt;</th><th scope=col>&lt;chr&gt;</th></tr>\n",
       "</thead>\n",
       "<tbody>\n",
       "\t<tr><td>f507001719240ee4bc2a21fa03596fc266690e0f87cd217a772e654067328318</td><td>./artery_tibial_DGE_sex_as_events_refined.csv      </td></tr>\n",
       "\t<tr><td>9e39afe405c59cea8532f404a400b1e5ed41984803bdc400a56a6fa6fc522a89</td><td>./artery_tibial_sex_gene_set.txt                   </td></tr>\n",
       "\t<tr><td>d03c22e998eae9c96ab6e07340266fdff0d8f4f896fe7bd62ab80bb5aa7857f1</td><td>./BreastMammaryTissue_DGE_ijc_sex.csv              </td></tr>\n",
       "\t<tr><td>e18bd5ec240dd57f81d096583953da8808c0d7be70548a484a10a9aaab1ae089</td><td>./artery_tibial_sjc_sex_universe.txt               </td></tr>\n",
       "\t<tr><td>2ff06faca7d475089b18e7b0aa2ed8e9d1f4d71b0e7b7783bb82570a41d29798</td><td>./BreastMammaryTissue_sex_as_events_universe.txt   </td></tr>\n",
       "\t<tr><td>087e09232bfa84feeb1342004ee1e10c4881a901cb21729f1b14e80e158d24ae</td><td>./bladder_DGE_sjc_sex_refined.csv                  </td></tr>\n",
       "\t<tr><td>8f07440d0159f27effabb06ddb8ec1caae8a2202145e3ce66755ca35f5749d36</td><td>./bladder_sex_gene_set.txt                         </td></tr>\n",
       "\t<tr><td>5f90dad03fc9b792ec434aae8dde3d4ebdd5ff6c8a799912f874bf92569c2c5d</td><td>./BreastMammaryTissue_DGE_sjc_sex.csv              </td></tr>\n",
       "\t<tr><td>bb85d65d1b20c87f05aebee4ded28d4f6e3829528388607f90c89a980b269d49</td><td>./bladder_DGE_ijc_sex.csv                          </td></tr>\n",
       "\t<tr><td>28764f9f1e0f14e399d555e448b5490c7221454e7d34d220f79b537376ca017b</td><td>./fromGTF.novelEvents.SE.txt                       </td></tr>\n",
       "\t<tr><td>e1cf22547fddd597882a75831247c03feb54653f742cf08f785ff1bae6bac605</td><td>./artery_tibial_sex_universe.txt                   </td></tr>\n",
       "\t<tr><td>40862f8a65a577cb64fdf85ddba0f6ad34c4443f0fe4a359ce116cd90e095fbc</td><td>./BreastMammaryTissue_ijc_sex_universe.txt         </td></tr>\n",
       "\t<tr><td>1a46c7ca8f7bb98218e4c9ec45b76d64282049606334470b6b41a69cb93c2651</td><td>./artery_tibial_ijc_sex_gene_set.txt               </td></tr>\n",
       "\t<tr><td>bf5e83e74722eb8d89fdb21901d6d782604030a331700d65ec1db84fc8958955</td><td>./bladder_DGE_sjc_sex.csv                          </td></tr>\n",
       "\t<tr><td>7fac89e15139b802789b0027dd87db7cae28db889b9c2f477d24c1311da3872b</td><td>./artery_tibial_ijc_sex_universe.txt               </td></tr>\n",
       "\t<tr><td>6bb3f6a27984abbfd54b4f9d6c4c47cd512dfb2a1137c8c98efb68cfcf412e7b</td><td>./BreastMammaryTissue_sjc_sex_universe.txt         </td></tr>\n",
       "\t<tr><td>00c49f861f105b03390c330c3193f92236c3eddb04ad51da7aab556d68f2392f</td><td>./artery_tibial_DGE_sex_refined.csv                </td></tr>\n",
       "\t<tr><td>b408d18141c7de21b42d5fa78e442e482d6c249b90b45800271f5124c11dd3d3</td><td>./BreastMammaryTissue_sex_gene_set.txt             </td></tr>\n",
       "\t<tr><td>5146c849c9354129590c59da5e6040a074523b4827d0975e3f5fa43737af7e9a</td><td>./README.md                                        </td></tr>\n",
       "\t<tr><td>38a37446555be7269c224b5fc9947008df423114b59949df3b9b9c162deff287</td><td>./bladder_DGE_ijc_sex_refined.csv                  </td></tr>\n",
       "\t<tr><td>0057f626fb8067de6062387042b922b577158fe891387d02d07e82ae62988830</td><td>./BreastMammaryTissue_DGE_sjc_sex_refined.csv      </td></tr>\n",
       "\t<tr><td>eb61abf2dff12314fc82b79bd492a1baddf6d37bd080ac14cdb0caa39cd09bc6</td><td>./fromGTF.novelEvents.A5SS.txt                     </td></tr>\n",
       "\t<tr><td>c28f24e9762d1a8b15a7533b8d7b3b7ec6ebfe71f44657a0dd722ebe8a742236</td><td>./BreastMammaryTissue_sex_universe.txt             </td></tr>\n",
       "\t<tr><td>db3020d19175da589774261cb652098e12b64300c8539af4836cd3b558c5c2a4</td><td>./bladder_sjc_sex_universe.txt                     </td></tr>\n",
       "\t<tr><td>eb61abf2dff12314fc82b79bd492a1baddf6d37bd080ac14cdb0caa39cd09bc6</td><td>./fromGTF.novelEvents.A3SS.txt                     </td></tr>\n",
       "\t<tr><td>a49de41761f07ce6a9fcc6f124fd3416bf74205dcae04fda4fc38e5e258bf919</td><td>./BreastMammaryTissue_DGE_sex_as_events_refined.csv</td></tr>\n",
       "\t<tr><td>9555146d75f8226efad7664670cfc466b3ce1e1170e7027551e3c4e21bd88b62</td><td>./bladder_sex_as_events_gene_set.txt               </td></tr>\n",
       "\t<tr><td>be32c4925ad8ebf7414623d68e390a1631e08f4459c189f7f346040a542320b5</td><td>./fromGTF.RI.txt                                   </td></tr>\n",
       "\t<tr><td>c14069b1ed8642720b742864ca6b930b13d35e5a41592dabd9ba0b2dcb953783</td><td>./fromGTF.novelEvents.RI.txt                       </td></tr>\n",
       "\t<tr><td>dd188bc93b89167bfd8faa80323ca753b1a9557574e7157e6a6f9afe7f48e1b3</td><td>./SraRunTable.noCram.noExome.noWGS.totalRNA.txt.gz </td></tr>\n",
       "\t<tr><td>⋮</td><td>⋮</td></tr>\n",
       "\t<tr><td>c09d693a6773931acede292bab1cba51894953ea880febb9c3872d3221e0b516</td><td>./bladder_DGE_sex.csv                           </td></tr>\n",
       "\t<tr><td>9ab3e5d83fc6d517505056a9d8621db04d3b7eab3373dc0406b637e3a31f4eb0</td><td>./bladder_DGE_sex_as_events.csv                 </td></tr>\n",
       "\t<tr><td>a0324a9c543e9f4ab0d53593cc42a18e1c18de4e366a23bd2661e969fdb00386</td><td>./bladder_sex_universe.txt                      </td></tr>\n",
       "\t<tr><td>5b18b6219a9e842491442329fb1dff7aaa37001ab29035d322457a6cc3b81ad9</td><td>./artery_tibial_DGE_sex_as_events.csv           </td></tr>\n",
       "\t<tr><td>8592985151797cc1a069338de38c15aa1933a7cf2511d828e3f91a73a4f5481e</td><td>./bladder_DGE_sex_refined.csv                   </td></tr>\n",
       "\t<tr><td>d7639443651c3b508772ee89728f8ab41d62414672c41e68a78947be14e07cd6</td><td>./rmats_final.se.jc.sjc.txt.gz                  </td></tr>\n",
       "\t<tr><td>68ea5ae95f3ca659e86b685304361957d183bf3273f8e74b276d5295d275686f</td><td>./BreastMammaryTissue_sex_as_events_gene_set.txt</td></tr>\n",
       "\t<tr><td>bfd9fa65689a7d157b09b5efd472f235b627f85a73b9f0493c881882acce773d</td><td>./fromGTF.tar.gz                                </td></tr>\n",
       "\t<tr><td>849658f50abd888f8708a1ffd65ff523a14d1d5eab194583bed1caebd5cac92a</td><td>./rmats_final.se.jc.ijc.txt.gz                  </td></tr>\n",
       "\t<tr><td>a36bc1bba73c6026e32b92c3b0ceb5163199881279e19ed16e350dff21635d8d</td><td>./artery_tibial_DGE_sjc_sex_refined.csv         </td></tr>\n",
       "\t<tr><td>7f6142d1e0183ac12ef04d72efee14b60e707aeab6abc68c1bc028d3343c1a12</td><td>./artery_tibial_sex_as_events_gene_set.txt      </td></tr>\n",
       "\t<tr><td>414e36089905b4688b1ef6848683870c21685a6f8c384aa458927763bdb489d4</td><td>./bladder_DGE_sex_as_events_refined.csv         </td></tr>\n",
       "\t<tr><td>22cb3faa337ae24b7b423a985fd2056047400eccb83b716eff2e33cce9159e53</td><td>./fromGTF.SE.txt                                </td></tr>\n",
       "\t<tr><td>b2e407257b128afc0765497a4a21cf371bf4e3ed28c9532d3d55d32518e329e4</td><td>./BreastMammaryTissue_sjc_sex_gene_set.txt      </td></tr>\n",
       "\t<tr><td>c277ab764b652e8d65e07277df72933fee465806a5e6c1b018509f868ccfddad</td><td>./fromGTF.A5SS.txt                              </td></tr>\n",
       "\t<tr><td>c63a2b6418df1e0236854c02860f12234bce1f76f9ff52370118558cdc9e96ec</td><td>./artery_tibial_DGE_ijc_sex_refined.csv         </td></tr>\n",
       "\t<tr><td>c6122548480d324f3b32d8c1b91847ce429a878b1b4f38ebfd06a8f076fe71f5</td><td>./bladder_ijc_sex_gene_set.txt                  </td></tr>\n",
       "\t<tr><td>73a582856e2ff554a69fe75e6dcf48c9015b65c2532752b007d25c0887280f8d</td><td>./artery_tibial_sex_as_events_universe.txt      </td></tr>\n",
       "\t<tr><td>6e3f1d335ce05c887363d092b0100b9f3603a964c8fe6e8c20f4c547b4f52280</td><td>./fromGTF.novelEvents.MXE.txt                   </td></tr>\n",
       "\t<tr><td>60c3874b34536d5f2de1c0b074972f4f759c89dd366d4ecc8a36b4e9b2639800</td><td>./artery_tibial_DGE_sex.csv                     </td></tr>\n",
       "\t<tr><td>51c8250a1796196e3879d88186c5450e5b5efc1e9f3fa578f388e9ff380e2deb</td><td>./fromGTF.A3SS.txt                              </td></tr>\n",
       "\t<tr><td>ac86d5fe7e61ee9e18e9295c613a574ae2edd42ec1c87c8d9dfce135ddf4ac63</td><td>./bladder_ijc_sex_universe.txt                  </td></tr>\n",
       "\t<tr><td>257663ac1712ae164a674594fb62b27408547cde0e53fa8fdbffb2b3cbce024d</td><td>./bladder_sex_as_events_universe.txt            </td></tr>\n",
       "\t<tr><td>48c9a8931e1695ca530480f94efe4cd51b0547a775a3f78b437d764d1b2f49ef</td><td>./artery_tibial_sjc_sex_gene_set.txt            </td></tr>\n",
       "\t<tr><td>78dd3cd6efc5972c9d7809d8a14e76eef1a56928b979fd348376912083986a19</td><td>./BreastMammaryTissue_DGE_sex_refined.csv       </td></tr>\n",
       "\t<tr><td>52d8f1664bee223fceb529a7a464d92957f5065c37f86d2d1baf7b88a1107676</td><td>./BreastMammaryTissue_DGE_sex_as_events.csv     </td></tr>\n",
       "\t<tr><td>75601aff7001125c1e0169466b829e777e50e71621c4aa9ca99238b90d51a045</td><td>./bladder_sjc_sex_gene_set.txt                  </td></tr>\n",
       "\t<tr><td>3c94dfebd07a14b462c7701ff4fd0f58c66e528867496ded8b368a928cc45acb</td><td>./artery_tibial_DGE_sjc_sex.csv                 </td></tr>\n",
       "\t<tr><td>c74da2899fc9ef9418b7dc4a20685cdaa3f9e4c50c0efd3bdd1fefe08e7cbcc5</td><td>./artery_tibial_DGE_ijc_sex.csv                 </td></tr>\n",
       "\t<tr><td>cf0d396c0d6c484e9b961ed016c8ecc5d9f7767ea8f003e050b9ae04269b6d6d</td><td>./BreastMammaryTissue_DGE_sex.csv               </td></tr>\n",
       "</tbody>\n",
       "</table>\n"
      ],
      "text/latex": [
       "A data.table: 63 × 2\n",
       "\\begin{tabular}{ll}\n",
       " sha256sum & file\\\\\n",
       " <chr> & <chr>\\\\\n",
       "\\hline\n",
       "\t f507001719240ee4bc2a21fa03596fc266690e0f87cd217a772e654067328318 & ./artery\\_tibial\\_DGE\\_sex\\_as\\_events\\_refined.csv      \\\\\n",
       "\t 9e39afe405c59cea8532f404a400b1e5ed41984803bdc400a56a6fa6fc522a89 & ./artery\\_tibial\\_sex\\_gene\\_set.txt                   \\\\\n",
       "\t d03c22e998eae9c96ab6e07340266fdff0d8f4f896fe7bd62ab80bb5aa7857f1 & ./BreastMammaryTissue\\_DGE\\_ijc\\_sex.csv              \\\\\n",
       "\t e18bd5ec240dd57f81d096583953da8808c0d7be70548a484a10a9aaab1ae089 & ./artery\\_tibial\\_sjc\\_sex\\_universe.txt               \\\\\n",
       "\t 2ff06faca7d475089b18e7b0aa2ed8e9d1f4d71b0e7b7783bb82570a41d29798 & ./BreastMammaryTissue\\_sex\\_as\\_events\\_universe.txt   \\\\\n",
       "\t 087e09232bfa84feeb1342004ee1e10c4881a901cb21729f1b14e80e158d24ae & ./bladder\\_DGE\\_sjc\\_sex\\_refined.csv                  \\\\\n",
       "\t 8f07440d0159f27effabb06ddb8ec1caae8a2202145e3ce66755ca35f5749d36 & ./bladder\\_sex\\_gene\\_set.txt                         \\\\\n",
       "\t 5f90dad03fc9b792ec434aae8dde3d4ebdd5ff6c8a799912f874bf92569c2c5d & ./BreastMammaryTissue\\_DGE\\_sjc\\_sex.csv              \\\\\n",
       "\t bb85d65d1b20c87f05aebee4ded28d4f6e3829528388607f90c89a980b269d49 & ./bladder\\_DGE\\_ijc\\_sex.csv                          \\\\\n",
       "\t 28764f9f1e0f14e399d555e448b5490c7221454e7d34d220f79b537376ca017b & ./fromGTF.novelEvents.SE.txt                       \\\\\n",
       "\t e1cf22547fddd597882a75831247c03feb54653f742cf08f785ff1bae6bac605 & ./artery\\_tibial\\_sex\\_universe.txt                   \\\\\n",
       "\t 40862f8a65a577cb64fdf85ddba0f6ad34c4443f0fe4a359ce116cd90e095fbc & ./BreastMammaryTissue\\_ijc\\_sex\\_universe.txt         \\\\\n",
       "\t 1a46c7ca8f7bb98218e4c9ec45b76d64282049606334470b6b41a69cb93c2651 & ./artery\\_tibial\\_ijc\\_sex\\_gene\\_set.txt               \\\\\n",
       "\t bf5e83e74722eb8d89fdb21901d6d782604030a331700d65ec1db84fc8958955 & ./bladder\\_DGE\\_sjc\\_sex.csv                          \\\\\n",
       "\t 7fac89e15139b802789b0027dd87db7cae28db889b9c2f477d24c1311da3872b & ./artery\\_tibial\\_ijc\\_sex\\_universe.txt               \\\\\n",
       "\t 6bb3f6a27984abbfd54b4f9d6c4c47cd512dfb2a1137c8c98efb68cfcf412e7b & ./BreastMammaryTissue\\_sjc\\_sex\\_universe.txt         \\\\\n",
       "\t 00c49f861f105b03390c330c3193f92236c3eddb04ad51da7aab556d68f2392f & ./artery\\_tibial\\_DGE\\_sex\\_refined.csv                \\\\\n",
       "\t b408d18141c7de21b42d5fa78e442e482d6c249b90b45800271f5124c11dd3d3 & ./BreastMammaryTissue\\_sex\\_gene\\_set.txt             \\\\\n",
       "\t 5146c849c9354129590c59da5e6040a074523b4827d0975e3f5fa43737af7e9a & ./README.md                                        \\\\\n",
       "\t 38a37446555be7269c224b5fc9947008df423114b59949df3b9b9c162deff287 & ./bladder\\_DGE\\_ijc\\_sex\\_refined.csv                  \\\\\n",
       "\t 0057f626fb8067de6062387042b922b577158fe891387d02d07e82ae62988830 & ./BreastMammaryTissue\\_DGE\\_sjc\\_sex\\_refined.csv      \\\\\n",
       "\t eb61abf2dff12314fc82b79bd492a1baddf6d37bd080ac14cdb0caa39cd09bc6 & ./fromGTF.novelEvents.A5SS.txt                     \\\\\n",
       "\t c28f24e9762d1a8b15a7533b8d7b3b7ec6ebfe71f44657a0dd722ebe8a742236 & ./BreastMammaryTissue\\_sex\\_universe.txt             \\\\\n",
       "\t db3020d19175da589774261cb652098e12b64300c8539af4836cd3b558c5c2a4 & ./bladder\\_sjc\\_sex\\_universe.txt                     \\\\\n",
       "\t eb61abf2dff12314fc82b79bd492a1baddf6d37bd080ac14cdb0caa39cd09bc6 & ./fromGTF.novelEvents.A3SS.txt                     \\\\\n",
       "\t a49de41761f07ce6a9fcc6f124fd3416bf74205dcae04fda4fc38e5e258bf919 & ./BreastMammaryTissue\\_DGE\\_sex\\_as\\_events\\_refined.csv\\\\\n",
       "\t 9555146d75f8226efad7664670cfc466b3ce1e1170e7027551e3c4e21bd88b62 & ./bladder\\_sex\\_as\\_events\\_gene\\_set.txt               \\\\\n",
       "\t be32c4925ad8ebf7414623d68e390a1631e08f4459c189f7f346040a542320b5 & ./fromGTF.RI.txt                                   \\\\\n",
       "\t c14069b1ed8642720b742864ca6b930b13d35e5a41592dabd9ba0b2dcb953783 & ./fromGTF.novelEvents.RI.txt                       \\\\\n",
       "\t dd188bc93b89167bfd8faa80323ca753b1a9557574e7157e6a6f9afe7f48e1b3 & ./SraRunTable.noCram.noExome.noWGS.totalRNA.txt.gz \\\\\n",
       "\t ⋮ & ⋮\\\\\n",
       "\t c09d693a6773931acede292bab1cba51894953ea880febb9c3872d3221e0b516 & ./bladder\\_DGE\\_sex.csv                           \\\\\n",
       "\t 9ab3e5d83fc6d517505056a9d8621db04d3b7eab3373dc0406b637e3a31f4eb0 & ./bladder\\_DGE\\_sex\\_as\\_events.csv                 \\\\\n",
       "\t a0324a9c543e9f4ab0d53593cc42a18e1c18de4e366a23bd2661e969fdb00386 & ./bladder\\_sex\\_universe.txt                      \\\\\n",
       "\t 5b18b6219a9e842491442329fb1dff7aaa37001ab29035d322457a6cc3b81ad9 & ./artery\\_tibial\\_DGE\\_sex\\_as\\_events.csv           \\\\\n",
       "\t 8592985151797cc1a069338de38c15aa1933a7cf2511d828e3f91a73a4f5481e & ./bladder\\_DGE\\_sex\\_refined.csv                   \\\\\n",
       "\t d7639443651c3b508772ee89728f8ab41d62414672c41e68a78947be14e07cd6 & ./rmats\\_final.se.jc.sjc.txt.gz                  \\\\\n",
       "\t 68ea5ae95f3ca659e86b685304361957d183bf3273f8e74b276d5295d275686f & ./BreastMammaryTissue\\_sex\\_as\\_events\\_gene\\_set.txt\\\\\n",
       "\t bfd9fa65689a7d157b09b5efd472f235b627f85a73b9f0493c881882acce773d & ./fromGTF.tar.gz                                \\\\\n",
       "\t 849658f50abd888f8708a1ffd65ff523a14d1d5eab194583bed1caebd5cac92a & ./rmats\\_final.se.jc.ijc.txt.gz                  \\\\\n",
       "\t a36bc1bba73c6026e32b92c3b0ceb5163199881279e19ed16e350dff21635d8d & ./artery\\_tibial\\_DGE\\_sjc\\_sex\\_refined.csv         \\\\\n",
       "\t 7f6142d1e0183ac12ef04d72efee14b60e707aeab6abc68c1bc028d3343c1a12 & ./artery\\_tibial\\_sex\\_as\\_events\\_gene\\_set.txt      \\\\\n",
       "\t 414e36089905b4688b1ef6848683870c21685a6f8c384aa458927763bdb489d4 & ./bladder\\_DGE\\_sex\\_as\\_events\\_refined.csv         \\\\\n",
       "\t 22cb3faa337ae24b7b423a985fd2056047400eccb83b716eff2e33cce9159e53 & ./fromGTF.SE.txt                                \\\\\n",
       "\t b2e407257b128afc0765497a4a21cf371bf4e3ed28c9532d3d55d32518e329e4 & ./BreastMammaryTissue\\_sjc\\_sex\\_gene\\_set.txt      \\\\\n",
       "\t c277ab764b652e8d65e07277df72933fee465806a5e6c1b018509f868ccfddad & ./fromGTF.A5SS.txt                              \\\\\n",
       "\t c63a2b6418df1e0236854c02860f12234bce1f76f9ff52370118558cdc9e96ec & ./artery\\_tibial\\_DGE\\_ijc\\_sex\\_refined.csv         \\\\\n",
       "\t c6122548480d324f3b32d8c1b91847ce429a878b1b4f38ebfd06a8f076fe71f5 & ./bladder\\_ijc\\_sex\\_gene\\_set.txt                  \\\\\n",
       "\t 73a582856e2ff554a69fe75e6dcf48c9015b65c2532752b007d25c0887280f8d & ./artery\\_tibial\\_sex\\_as\\_events\\_universe.txt      \\\\\n",
       "\t 6e3f1d335ce05c887363d092b0100b9f3603a964c8fe6e8c20f4c547b4f52280 & ./fromGTF.novelEvents.MXE.txt                   \\\\\n",
       "\t 60c3874b34536d5f2de1c0b074972f4f759c89dd366d4ecc8a36b4e9b2639800 & ./artery\\_tibial\\_DGE\\_sex.csv                     \\\\\n",
       "\t 51c8250a1796196e3879d88186c5450e5b5efc1e9f3fa578f388e9ff380e2deb & ./fromGTF.A3SS.txt                              \\\\\n",
       "\t ac86d5fe7e61ee9e18e9295c613a574ae2edd42ec1c87c8d9dfce135ddf4ac63 & ./bladder\\_ijc\\_sex\\_universe.txt                  \\\\\n",
       "\t 257663ac1712ae164a674594fb62b27408547cde0e53fa8fdbffb2b3cbce024d & ./bladder\\_sex\\_as\\_events\\_universe.txt            \\\\\n",
       "\t 48c9a8931e1695ca530480f94efe4cd51b0547a775a3f78b437d764d1b2f49ef & ./artery\\_tibial\\_sjc\\_sex\\_gene\\_set.txt            \\\\\n",
       "\t 78dd3cd6efc5972c9d7809d8a14e76eef1a56928b979fd348376912083986a19 & ./BreastMammaryTissue\\_DGE\\_sex\\_refined.csv       \\\\\n",
       "\t 52d8f1664bee223fceb529a7a464d92957f5065c37f86d2d1baf7b88a1107676 & ./BreastMammaryTissue\\_DGE\\_sex\\_as\\_events.csv     \\\\\n",
       "\t 75601aff7001125c1e0169466b829e777e50e71621c4aa9ca99238b90d51a045 & ./bladder\\_sjc\\_sex\\_gene\\_set.txt                  \\\\\n",
       "\t 3c94dfebd07a14b462c7701ff4fd0f58c66e528867496ded8b368a928cc45acb & ./artery\\_tibial\\_DGE\\_sjc\\_sex.csv                 \\\\\n",
       "\t c74da2899fc9ef9418b7dc4a20685cdaa3f9e4c50c0efd3bdd1fefe08e7cbcc5 & ./artery\\_tibial\\_DGE\\_ijc\\_sex.csv                 \\\\\n",
       "\t cf0d396c0d6c484e9b961ed016c8ecc5d9f7767ea8f003e050b9ae04269b6d6d & ./BreastMammaryTissue\\_DGE\\_sex.csv               \\\\\n",
       "\\end{tabular}\n"
      ],
      "text/markdown": [
       "\n",
       "A data.table: 63 × 2\n",
       "\n",
       "| sha256sum &lt;chr&gt; | file &lt;chr&gt; |\n",
       "|---|---|\n",
       "| f507001719240ee4bc2a21fa03596fc266690e0f87cd217a772e654067328318 | ./artery_tibial_DGE_sex_as_events_refined.csv       |\n",
       "| 9e39afe405c59cea8532f404a400b1e5ed41984803bdc400a56a6fa6fc522a89 | ./artery_tibial_sex_gene_set.txt                    |\n",
       "| d03c22e998eae9c96ab6e07340266fdff0d8f4f896fe7bd62ab80bb5aa7857f1 | ./BreastMammaryTissue_DGE_ijc_sex.csv               |\n",
       "| e18bd5ec240dd57f81d096583953da8808c0d7be70548a484a10a9aaab1ae089 | ./artery_tibial_sjc_sex_universe.txt                |\n",
       "| 2ff06faca7d475089b18e7b0aa2ed8e9d1f4d71b0e7b7783bb82570a41d29798 | ./BreastMammaryTissue_sex_as_events_universe.txt    |\n",
       "| 087e09232bfa84feeb1342004ee1e10c4881a901cb21729f1b14e80e158d24ae | ./bladder_DGE_sjc_sex_refined.csv                   |\n",
       "| 8f07440d0159f27effabb06ddb8ec1caae8a2202145e3ce66755ca35f5749d36 | ./bladder_sex_gene_set.txt                          |\n",
       "| 5f90dad03fc9b792ec434aae8dde3d4ebdd5ff6c8a799912f874bf92569c2c5d | ./BreastMammaryTissue_DGE_sjc_sex.csv               |\n",
       "| bb85d65d1b20c87f05aebee4ded28d4f6e3829528388607f90c89a980b269d49 | ./bladder_DGE_ijc_sex.csv                           |\n",
       "| 28764f9f1e0f14e399d555e448b5490c7221454e7d34d220f79b537376ca017b | ./fromGTF.novelEvents.SE.txt                        |\n",
       "| e1cf22547fddd597882a75831247c03feb54653f742cf08f785ff1bae6bac605 | ./artery_tibial_sex_universe.txt                    |\n",
       "| 40862f8a65a577cb64fdf85ddba0f6ad34c4443f0fe4a359ce116cd90e095fbc | ./BreastMammaryTissue_ijc_sex_universe.txt          |\n",
       "| 1a46c7ca8f7bb98218e4c9ec45b76d64282049606334470b6b41a69cb93c2651 | ./artery_tibial_ijc_sex_gene_set.txt                |\n",
       "| bf5e83e74722eb8d89fdb21901d6d782604030a331700d65ec1db84fc8958955 | ./bladder_DGE_sjc_sex.csv                           |\n",
       "| 7fac89e15139b802789b0027dd87db7cae28db889b9c2f477d24c1311da3872b | ./artery_tibial_ijc_sex_universe.txt                |\n",
       "| 6bb3f6a27984abbfd54b4f9d6c4c47cd512dfb2a1137c8c98efb68cfcf412e7b | ./BreastMammaryTissue_sjc_sex_universe.txt          |\n",
       "| 00c49f861f105b03390c330c3193f92236c3eddb04ad51da7aab556d68f2392f | ./artery_tibial_DGE_sex_refined.csv                 |\n",
       "| b408d18141c7de21b42d5fa78e442e482d6c249b90b45800271f5124c11dd3d3 | ./BreastMammaryTissue_sex_gene_set.txt              |\n",
       "| 5146c849c9354129590c59da5e6040a074523b4827d0975e3f5fa43737af7e9a | ./README.md                                         |\n",
       "| 38a37446555be7269c224b5fc9947008df423114b59949df3b9b9c162deff287 | ./bladder_DGE_ijc_sex_refined.csv                   |\n",
       "| 0057f626fb8067de6062387042b922b577158fe891387d02d07e82ae62988830 | ./BreastMammaryTissue_DGE_sjc_sex_refined.csv       |\n",
       "| eb61abf2dff12314fc82b79bd492a1baddf6d37bd080ac14cdb0caa39cd09bc6 | ./fromGTF.novelEvents.A5SS.txt                      |\n",
       "| c28f24e9762d1a8b15a7533b8d7b3b7ec6ebfe71f44657a0dd722ebe8a742236 | ./BreastMammaryTissue_sex_universe.txt              |\n",
       "| db3020d19175da589774261cb652098e12b64300c8539af4836cd3b558c5c2a4 | ./bladder_sjc_sex_universe.txt                      |\n",
       "| eb61abf2dff12314fc82b79bd492a1baddf6d37bd080ac14cdb0caa39cd09bc6 | ./fromGTF.novelEvents.A3SS.txt                      |\n",
       "| a49de41761f07ce6a9fcc6f124fd3416bf74205dcae04fda4fc38e5e258bf919 | ./BreastMammaryTissue_DGE_sex_as_events_refined.csv |\n",
       "| 9555146d75f8226efad7664670cfc466b3ce1e1170e7027551e3c4e21bd88b62 | ./bladder_sex_as_events_gene_set.txt                |\n",
       "| be32c4925ad8ebf7414623d68e390a1631e08f4459c189f7f346040a542320b5 | ./fromGTF.RI.txt                                    |\n",
       "| c14069b1ed8642720b742864ca6b930b13d35e5a41592dabd9ba0b2dcb953783 | ./fromGTF.novelEvents.RI.txt                        |\n",
       "| dd188bc93b89167bfd8faa80323ca753b1a9557574e7157e6a6f9afe7f48e1b3 | ./SraRunTable.noCram.noExome.noWGS.totalRNA.txt.gz  |\n",
       "| ⋮ | ⋮ |\n",
       "| c09d693a6773931acede292bab1cba51894953ea880febb9c3872d3221e0b516 | ./bladder_DGE_sex.csv                            |\n",
       "| 9ab3e5d83fc6d517505056a9d8621db04d3b7eab3373dc0406b637e3a31f4eb0 | ./bladder_DGE_sex_as_events.csv                  |\n",
       "| a0324a9c543e9f4ab0d53593cc42a18e1c18de4e366a23bd2661e969fdb00386 | ./bladder_sex_universe.txt                       |\n",
       "| 5b18b6219a9e842491442329fb1dff7aaa37001ab29035d322457a6cc3b81ad9 | ./artery_tibial_DGE_sex_as_events.csv            |\n",
       "| 8592985151797cc1a069338de38c15aa1933a7cf2511d828e3f91a73a4f5481e | ./bladder_DGE_sex_refined.csv                    |\n",
       "| d7639443651c3b508772ee89728f8ab41d62414672c41e68a78947be14e07cd6 | ./rmats_final.se.jc.sjc.txt.gz                   |\n",
       "| 68ea5ae95f3ca659e86b685304361957d183bf3273f8e74b276d5295d275686f | ./BreastMammaryTissue_sex_as_events_gene_set.txt |\n",
       "| bfd9fa65689a7d157b09b5efd472f235b627f85a73b9f0493c881882acce773d | ./fromGTF.tar.gz                                 |\n",
       "| 849658f50abd888f8708a1ffd65ff523a14d1d5eab194583bed1caebd5cac92a | ./rmats_final.se.jc.ijc.txt.gz                   |\n",
       "| a36bc1bba73c6026e32b92c3b0ceb5163199881279e19ed16e350dff21635d8d | ./artery_tibial_DGE_sjc_sex_refined.csv          |\n",
       "| 7f6142d1e0183ac12ef04d72efee14b60e707aeab6abc68c1bc028d3343c1a12 | ./artery_tibial_sex_as_events_gene_set.txt       |\n",
       "| 414e36089905b4688b1ef6848683870c21685a6f8c384aa458927763bdb489d4 | ./bladder_DGE_sex_as_events_refined.csv          |\n",
       "| 22cb3faa337ae24b7b423a985fd2056047400eccb83b716eff2e33cce9159e53 | ./fromGTF.SE.txt                                 |\n",
       "| b2e407257b128afc0765497a4a21cf371bf4e3ed28c9532d3d55d32518e329e4 | ./BreastMammaryTissue_sjc_sex_gene_set.txt       |\n",
       "| c277ab764b652e8d65e07277df72933fee465806a5e6c1b018509f868ccfddad | ./fromGTF.A5SS.txt                               |\n",
       "| c63a2b6418df1e0236854c02860f12234bce1f76f9ff52370118558cdc9e96ec | ./artery_tibial_DGE_ijc_sex_refined.csv          |\n",
       "| c6122548480d324f3b32d8c1b91847ce429a878b1b4f38ebfd06a8f076fe71f5 | ./bladder_ijc_sex_gene_set.txt                   |\n",
       "| 73a582856e2ff554a69fe75e6dcf48c9015b65c2532752b007d25c0887280f8d | ./artery_tibial_sex_as_events_universe.txt       |\n",
       "| 6e3f1d335ce05c887363d092b0100b9f3603a964c8fe6e8c20f4c547b4f52280 | ./fromGTF.novelEvents.MXE.txt                    |\n",
       "| 60c3874b34536d5f2de1c0b074972f4f759c89dd366d4ecc8a36b4e9b2639800 | ./artery_tibial_DGE_sex.csv                      |\n",
       "| 51c8250a1796196e3879d88186c5450e5b5efc1e9f3fa578f388e9ff380e2deb | ./fromGTF.A3SS.txt                               |\n",
       "| ac86d5fe7e61ee9e18e9295c613a574ae2edd42ec1c87c8d9dfce135ddf4ac63 | ./bladder_ijc_sex_universe.txt                   |\n",
       "| 257663ac1712ae164a674594fb62b27408547cde0e53fa8fdbffb2b3cbce024d | ./bladder_sex_as_events_universe.txt             |\n",
       "| 48c9a8931e1695ca530480f94efe4cd51b0547a775a3f78b437d764d1b2f49ef | ./artery_tibial_sjc_sex_gene_set.txt             |\n",
       "| 78dd3cd6efc5972c9d7809d8a14e76eef1a56928b979fd348376912083986a19 | ./BreastMammaryTissue_DGE_sex_refined.csv        |\n",
       "| 52d8f1664bee223fceb529a7a464d92957f5065c37f86d2d1baf7b88a1107676 | ./BreastMammaryTissue_DGE_sex_as_events.csv      |\n",
       "| 75601aff7001125c1e0169466b829e777e50e71621c4aa9ca99238b90d51a045 | ./bladder_sjc_sex_gene_set.txt                   |\n",
       "| 3c94dfebd07a14b462c7701ff4fd0f58c66e528867496ded8b368a928cc45acb | ./artery_tibial_DGE_sjc_sex.csv                  |\n",
       "| c74da2899fc9ef9418b7dc4a20685cdaa3f9e4c50c0efd3bdd1fefe08e7cbcc5 | ./artery_tibial_DGE_ijc_sex.csv                  |\n",
       "| cf0d396c0d6c484e9b961ed016c8ecc5d9f7767ea8f003e050b9ae04269b6d6d | ./BreastMammaryTissue_DGE_sex.csv                |\n",
       "\n"
      ],
      "text/plain": [
       "   sha256sum                                                       \n",
       "1  f507001719240ee4bc2a21fa03596fc266690e0f87cd217a772e654067328318\n",
       "2  9e39afe405c59cea8532f404a400b1e5ed41984803bdc400a56a6fa6fc522a89\n",
       "3  d03c22e998eae9c96ab6e07340266fdff0d8f4f896fe7bd62ab80bb5aa7857f1\n",
       "4  e18bd5ec240dd57f81d096583953da8808c0d7be70548a484a10a9aaab1ae089\n",
       "5  2ff06faca7d475089b18e7b0aa2ed8e9d1f4d71b0e7b7783bb82570a41d29798\n",
       "6  087e09232bfa84feeb1342004ee1e10c4881a901cb21729f1b14e80e158d24ae\n",
       "7  8f07440d0159f27effabb06ddb8ec1caae8a2202145e3ce66755ca35f5749d36\n",
       "8  5f90dad03fc9b792ec434aae8dde3d4ebdd5ff6c8a799912f874bf92569c2c5d\n",
       "9  bb85d65d1b20c87f05aebee4ded28d4f6e3829528388607f90c89a980b269d49\n",
       "10 28764f9f1e0f14e399d555e448b5490c7221454e7d34d220f79b537376ca017b\n",
       "11 e1cf22547fddd597882a75831247c03feb54653f742cf08f785ff1bae6bac605\n",
       "12 40862f8a65a577cb64fdf85ddba0f6ad34c4443f0fe4a359ce116cd90e095fbc\n",
       "13 1a46c7ca8f7bb98218e4c9ec45b76d64282049606334470b6b41a69cb93c2651\n",
       "14 bf5e83e74722eb8d89fdb21901d6d782604030a331700d65ec1db84fc8958955\n",
       "15 7fac89e15139b802789b0027dd87db7cae28db889b9c2f477d24c1311da3872b\n",
       "16 6bb3f6a27984abbfd54b4f9d6c4c47cd512dfb2a1137c8c98efb68cfcf412e7b\n",
       "17 00c49f861f105b03390c330c3193f92236c3eddb04ad51da7aab556d68f2392f\n",
       "18 b408d18141c7de21b42d5fa78e442e482d6c249b90b45800271f5124c11dd3d3\n",
       "19 5146c849c9354129590c59da5e6040a074523b4827d0975e3f5fa43737af7e9a\n",
       "20 38a37446555be7269c224b5fc9947008df423114b59949df3b9b9c162deff287\n",
       "21 0057f626fb8067de6062387042b922b577158fe891387d02d07e82ae62988830\n",
       "22 eb61abf2dff12314fc82b79bd492a1baddf6d37bd080ac14cdb0caa39cd09bc6\n",
       "23 c28f24e9762d1a8b15a7533b8d7b3b7ec6ebfe71f44657a0dd722ebe8a742236\n",
       "24 db3020d19175da589774261cb652098e12b64300c8539af4836cd3b558c5c2a4\n",
       "25 eb61abf2dff12314fc82b79bd492a1baddf6d37bd080ac14cdb0caa39cd09bc6\n",
       "26 a49de41761f07ce6a9fcc6f124fd3416bf74205dcae04fda4fc38e5e258bf919\n",
       "27 9555146d75f8226efad7664670cfc466b3ce1e1170e7027551e3c4e21bd88b62\n",
       "28 be32c4925ad8ebf7414623d68e390a1631e08f4459c189f7f346040a542320b5\n",
       "29 c14069b1ed8642720b742864ca6b930b13d35e5a41592dabd9ba0b2dcb953783\n",
       "30 dd188bc93b89167bfd8faa80323ca753b1a9557574e7157e6a6f9afe7f48e1b3\n",
       "⋮  ⋮                                                               \n",
       "34 c09d693a6773931acede292bab1cba51894953ea880febb9c3872d3221e0b516\n",
       "35 9ab3e5d83fc6d517505056a9d8621db04d3b7eab3373dc0406b637e3a31f4eb0\n",
       "36 a0324a9c543e9f4ab0d53593cc42a18e1c18de4e366a23bd2661e969fdb00386\n",
       "37 5b18b6219a9e842491442329fb1dff7aaa37001ab29035d322457a6cc3b81ad9\n",
       "38 8592985151797cc1a069338de38c15aa1933a7cf2511d828e3f91a73a4f5481e\n",
       "39 d7639443651c3b508772ee89728f8ab41d62414672c41e68a78947be14e07cd6\n",
       "40 68ea5ae95f3ca659e86b685304361957d183bf3273f8e74b276d5295d275686f\n",
       "41 bfd9fa65689a7d157b09b5efd472f235b627f85a73b9f0493c881882acce773d\n",
       "42 849658f50abd888f8708a1ffd65ff523a14d1d5eab194583bed1caebd5cac92a\n",
       "43 a36bc1bba73c6026e32b92c3b0ceb5163199881279e19ed16e350dff21635d8d\n",
       "44 7f6142d1e0183ac12ef04d72efee14b60e707aeab6abc68c1bc028d3343c1a12\n",
       "45 414e36089905b4688b1ef6848683870c21685a6f8c384aa458927763bdb489d4\n",
       "46 22cb3faa337ae24b7b423a985fd2056047400eccb83b716eff2e33cce9159e53\n",
       "47 b2e407257b128afc0765497a4a21cf371bf4e3ed28c9532d3d55d32518e329e4\n",
       "48 c277ab764b652e8d65e07277df72933fee465806a5e6c1b018509f868ccfddad\n",
       "49 c63a2b6418df1e0236854c02860f12234bce1f76f9ff52370118558cdc9e96ec\n",
       "50 c6122548480d324f3b32d8c1b91847ce429a878b1b4f38ebfd06a8f076fe71f5\n",
       "51 73a582856e2ff554a69fe75e6dcf48c9015b65c2532752b007d25c0887280f8d\n",
       "52 6e3f1d335ce05c887363d092b0100b9f3603a964c8fe6e8c20f4c547b4f52280\n",
       "53 60c3874b34536d5f2de1c0b074972f4f759c89dd366d4ecc8a36b4e9b2639800\n",
       "54 51c8250a1796196e3879d88186c5450e5b5efc1e9f3fa578f388e9ff380e2deb\n",
       "55 ac86d5fe7e61ee9e18e9295c613a574ae2edd42ec1c87c8d9dfce135ddf4ac63\n",
       "56 257663ac1712ae164a674594fb62b27408547cde0e53fa8fdbffb2b3cbce024d\n",
       "57 48c9a8931e1695ca530480f94efe4cd51b0547a775a3f78b437d764d1b2f49ef\n",
       "58 78dd3cd6efc5972c9d7809d8a14e76eef1a56928b979fd348376912083986a19\n",
       "59 52d8f1664bee223fceb529a7a464d92957f5065c37f86d2d1baf7b88a1107676\n",
       "60 75601aff7001125c1e0169466b829e777e50e71621c4aa9ca99238b90d51a045\n",
       "61 3c94dfebd07a14b462c7701ff4fd0f58c66e528867496ded8b368a928cc45acb\n",
       "62 c74da2899fc9ef9418b7dc4a20685cdaa3f9e4c50c0efd3bdd1fefe08e7cbcc5\n",
       "63 cf0d396c0d6c484e9b961ed016c8ecc5d9f7767ea8f003e050b9ae04269b6d6d\n",
       "   file                                               \n",
       "1  ./artery_tibial_DGE_sex_as_events_refined.csv      \n",
       "2  ./artery_tibial_sex_gene_set.txt                   \n",
       "3  ./BreastMammaryTissue_DGE_ijc_sex.csv              \n",
       "4  ./artery_tibial_sjc_sex_universe.txt               \n",
       "5  ./BreastMammaryTissue_sex_as_events_universe.txt   \n",
       "6  ./bladder_DGE_sjc_sex_refined.csv                  \n",
       "7  ./bladder_sex_gene_set.txt                         \n",
       "8  ./BreastMammaryTissue_DGE_sjc_sex.csv              \n",
       "9  ./bladder_DGE_ijc_sex.csv                          \n",
       "10 ./fromGTF.novelEvents.SE.txt                       \n",
       "11 ./artery_tibial_sex_universe.txt                   \n",
       "12 ./BreastMammaryTissue_ijc_sex_universe.txt         \n",
       "13 ./artery_tibial_ijc_sex_gene_set.txt               \n",
       "14 ./bladder_DGE_sjc_sex.csv                          \n",
       "15 ./artery_tibial_ijc_sex_universe.txt               \n",
       "16 ./BreastMammaryTissue_sjc_sex_universe.txt         \n",
       "17 ./artery_tibial_DGE_sex_refined.csv                \n",
       "18 ./BreastMammaryTissue_sex_gene_set.txt             \n",
       "19 ./README.md                                        \n",
       "20 ./bladder_DGE_ijc_sex_refined.csv                  \n",
       "21 ./BreastMammaryTissue_DGE_sjc_sex_refined.csv      \n",
       "22 ./fromGTF.novelEvents.A5SS.txt                     \n",
       "23 ./BreastMammaryTissue_sex_universe.txt             \n",
       "24 ./bladder_sjc_sex_universe.txt                     \n",
       "25 ./fromGTF.novelEvents.A3SS.txt                     \n",
       "26 ./BreastMammaryTissue_DGE_sex_as_events_refined.csv\n",
       "27 ./bladder_sex_as_events_gene_set.txt               \n",
       "28 ./fromGTF.RI.txt                                   \n",
       "29 ./fromGTF.novelEvents.RI.txt                       \n",
       "30 ./SraRunTable.noCram.noExome.noWGS.totalRNA.txt.gz \n",
       "⋮  ⋮                                                  \n",
       "34 ./bladder_DGE_sex.csv                              \n",
       "35 ./bladder_DGE_sex_as_events.csv                    \n",
       "36 ./bladder_sex_universe.txt                         \n",
       "37 ./artery_tibial_DGE_sex_as_events.csv              \n",
       "38 ./bladder_DGE_sex_refined.csv                      \n",
       "39 ./rmats_final.se.jc.sjc.txt.gz                     \n",
       "40 ./BreastMammaryTissue_sex_as_events_gene_set.txt   \n",
       "41 ./fromGTF.tar.gz                                   \n",
       "42 ./rmats_final.se.jc.ijc.txt.gz                     \n",
       "43 ./artery_tibial_DGE_sjc_sex_refined.csv            \n",
       "44 ./artery_tibial_sex_as_events_gene_set.txt         \n",
       "45 ./bladder_DGE_sex_as_events_refined.csv            \n",
       "46 ./fromGTF.SE.txt                                   \n",
       "47 ./BreastMammaryTissue_sjc_sex_gene_set.txt         \n",
       "48 ./fromGTF.A5SS.txt                                 \n",
       "49 ./artery_tibial_DGE_ijc_sex_refined.csv            \n",
       "50 ./bladder_ijc_sex_gene_set.txt                     \n",
       "51 ./artery_tibial_sex_as_events_universe.txt         \n",
       "52 ./fromGTF.novelEvents.MXE.txt                      \n",
       "53 ./artery_tibial_DGE_sex.csv                        \n",
       "54 ./fromGTF.A3SS.txt                                 \n",
       "55 ./bladder_ijc_sex_universe.txt                     \n",
       "56 ./bladder_sex_as_events_universe.txt               \n",
       "57 ./artery_tibial_sjc_sex_gene_set.txt               \n",
       "58 ./BreastMammaryTissue_DGE_sex_refined.csv          \n",
       "59 ./BreastMammaryTissue_DGE_sex_as_events.csv        \n",
       "60 ./bladder_sjc_sex_gene_set.txt                     \n",
       "61 ./artery_tibial_DGE_sjc_sex.csv                    \n",
       "62 ./artery_tibial_DGE_ijc_sex.csv                    \n",
       "63 ./BreastMammaryTissue_DGE_sex.csv                  "
      ]
     },
     "metadata": {},
     "output_type": "display_data"
    }
   ],
   "source": [
    "rm (notebookid)\n",
    "notebookid   = \"AllTissueJunctionAnalysis\"\n",
    "notebookid\n",
    "\n",
    "message(\"Generating sha256 checksums of the artefacts in the `..data/` directory .. \")\n",
    "system(paste0(\"cd ../data && find . -type f -exec sha256sum {} \\\\;  >  ../metadata/\", notebookid, \"_sha256sums.txt\"), intern = TRUE)\n",
    "message(\"Done!\\n\")\n",
    "\n",
    "paste0(\"../metadata/\", notebookid, \"_sha256sums.txt\")\n",
    "\n",
    "data.table::fread(paste0(\"../metadata/\", notebookid, \"_sha256sums.txt\"), header = FALSE, col.names = c(\"sha256sum\", \"file\"))"
   ]
  },
  {
   "cell_type": "markdown",
   "metadata": {},
   "source": [
    "### 2. Libraries metadata"
   ]
  },
  {
   "cell_type": "code",
   "execution_count": 47,
   "metadata": {},
   "outputs": [
    {
     "name": "stderr",
     "output_type": "stream",
     "text": [
      "Saving `devtools::session_info()` objects in ../metadata/devtools_session_info.rds  ..\n",
      "Done!\n",
      "\n",
      "Saving `utils::sessionInfo()` objects in ../metadata/utils_session_info.rds  ..\n",
      "Done!\n",
      "\n"
     ]
    },
    {
     "data": {
      "text/plain": [
       " setting  value                       \n",
       " version  R version 3.6.1 (2019-07-05)\n",
       " os       Ubuntu 18.04.3 LTS          \n",
       " system   x86_64, linux-gnu           \n",
       " ui       X11                         \n",
       " language en_US.UTF-8                 \n",
       " collate  en_US.UTF-8                 \n",
       " ctype    en_US.UTF-8                 \n",
       " tz       Etc/UTC                     \n",
       " date     2020-05-14                  "
      ]
     },
     "metadata": {},
     "output_type": "display_data"
    },
    {
     "data": {
      "text/html": [
       "<table>\n",
       "<caption>A packages_info: 10 × 11</caption>\n",
       "<thead>\n",
       "\t<tr><th></th><th scope=col>package</th><th scope=col>ondiskversion</th><th scope=col>loadedversion</th><th scope=col>path</th><th scope=col>loadedpath</th><th scope=col>attached</th><th scope=col>is_base</th><th scope=col>date</th><th scope=col>source</th><th scope=col>md5ok</th><th scope=col>library</th></tr>\n",
       "\t<tr><th></th><th scope=col>&lt;chr&gt;</th><th scope=col>&lt;chr&gt;</th><th scope=col>&lt;chr&gt;</th><th scope=col>&lt;chr&gt;</th><th scope=col>&lt;chr&gt;</th><th scope=col>&lt;lgl&gt;</th><th scope=col>&lt;lgl&gt;</th><th scope=col>&lt;chr&gt;</th><th scope=col>&lt;chr&gt;</th><th scope=col>&lt;lgl&gt;</th><th scope=col>&lt;fct&gt;</th></tr>\n",
       "</thead>\n",
       "<tbody>\n",
       "\t<tr><th scope=row>Biobase</th><td>Biobase     </td><td>2.46.0   </td><td>2.46.0   </td><td>/opt/conda/lib/R/library/Biobase     </td><td>/opt/conda/lib/R/library/Biobase     </td><td>TRUE</td><td>FALSE</td><td>2019-10-29</td><td>Bioconductor                       </td><td>NA</td><td>/opt/conda/lib/R/library</td></tr>\n",
       "\t<tr><th scope=row>BiocGenerics</th><td>BiocGenerics</td><td>0.32.0   </td><td>0.32.0   </td><td>/opt/conda/lib/R/library/BiocGenerics</td><td>/opt/conda/lib/R/library/BiocGenerics</td><td>TRUE</td><td>FALSE</td><td>2019-10-29</td><td>Bioconductor                       </td><td>NA</td><td>/opt/conda/lib/R/library</td></tr>\n",
       "\t<tr><th scope=row>edgeR</th><td>edgeR       </td><td>3.28.1   </td><td>3.28.1   </td><td>/opt/conda/lib/R/library/edgeR       </td><td>/opt/conda/lib/R/library/edgeR       </td><td>TRUE</td><td>FALSE</td><td>2020-02-26</td><td>Bioconductor                       </td><td>NA</td><td>/opt/conda/lib/R/library</td></tr>\n",
       "\t<tr><th scope=row>limma</th><td>limma       </td><td>3.42.2   </td><td>3.42.2   </td><td>/opt/conda/lib/R/library/limma       </td><td>/opt/conda/lib/R/library/limma       </td><td>TRUE</td><td>FALSE</td><td>2020-02-03</td><td>Bioconductor                       </td><td>NA</td><td>/opt/conda/lib/R/library</td></tr>\n",
       "\t<tr><th scope=row>multtest</th><td>multtest    </td><td>2.42.0   </td><td>2.42.0   </td><td>/opt/conda/lib/R/library/multtest    </td><td>/opt/conda/lib/R/library/multtest    </td><td>TRUE</td><td>FALSE</td><td>2019-10-29</td><td>Bioconductor                       </td><td>NA</td><td>/opt/conda/lib/R/library</td></tr>\n",
       "\t<tr><th scope=row>piggyback</th><td>piggyback   </td><td>0.0.10.99</td><td>0.0.10.99</td><td>/opt/conda/lib/R/library/piggyback   </td><td>/opt/conda/lib/R/library/piggyback   </td><td>TRUE</td><td>FALSE</td><td>2020-05-12</td><td>Github (ropensci/piggyback@87f71e8)</td><td>NA</td><td>/opt/conda/lib/R/library</td></tr>\n",
       "\t<tr><th scope=row>R.methodsS3</th><td>R.methodsS3 </td><td>1.8.0    </td><td>1.8.0    </td><td>/opt/conda/lib/R/library/R.methodsS3 </td><td>/opt/conda/lib/R/library/R.methodsS3 </td><td>TRUE</td><td>FALSE</td><td>2020-02-14</td><td>CRAN (R 3.6.1)                     </td><td>NA</td><td>/opt/conda/lib/R/library</td></tr>\n",
       "\t<tr><th scope=row>R.oo</th><td>R.oo        </td><td>1.23.0   </td><td>1.23.0   </td><td>/opt/conda/lib/R/library/R.oo        </td><td>/opt/conda/lib/R/library/R.oo        </td><td>TRUE</td><td>FALSE</td><td>2019-11-03</td><td>CRAN (R 3.6.1)                     </td><td>NA</td><td>/opt/conda/lib/R/library</td></tr>\n",
       "\t<tr><th scope=row>R.utils</th><td>R.utils     </td><td>2.9.2    </td><td>2.9.2    </td><td>/opt/conda/lib/R/library/R.utils     </td><td>/opt/conda/lib/R/library/R.utils     </td><td>TRUE</td><td>FALSE</td><td>2019-12-08</td><td>CRAN (R 3.6.1)                     </td><td>NA</td><td>/opt/conda/lib/R/library</td></tr>\n",
       "\t<tr><th scope=row>tibble</th><td>tibble      </td><td>2.1.3    </td><td>2.1.3    </td><td>/opt/conda/lib/R/library/tibble      </td><td>/opt/conda/lib/R/library/tibble      </td><td>TRUE</td><td>FALSE</td><td>2019-06-06</td><td>CRAN (R 3.6.1)                     </td><td>NA</td><td>/opt/conda/lib/R/library</td></tr>\n",
       "</tbody>\n",
       "</table>\n"
      ],
      "text/latex": [
       "A packages\\_info: 10 × 11\n",
       "\\begin{tabular}{r|lllllllllll}\n",
       "  & package & ondiskversion & loadedversion & path & loadedpath & attached & is\\_base & date & source & md5ok & library\\\\\n",
       "  & <chr> & <chr> & <chr> & <chr> & <chr> & <lgl> & <lgl> & <chr> & <chr> & <lgl> & <fct>\\\\\n",
       "\\hline\n",
       "\tBiobase & Biobase      & 2.46.0    & 2.46.0    & /opt/conda/lib/R/library/Biobase      & /opt/conda/lib/R/library/Biobase      & TRUE & FALSE & 2019-10-29 & Bioconductor                        & NA & /opt/conda/lib/R/library\\\\\n",
       "\tBiocGenerics & BiocGenerics & 0.32.0    & 0.32.0    & /opt/conda/lib/R/library/BiocGenerics & /opt/conda/lib/R/library/BiocGenerics & TRUE & FALSE & 2019-10-29 & Bioconductor                        & NA & /opt/conda/lib/R/library\\\\\n",
       "\tedgeR & edgeR        & 3.28.1    & 3.28.1    & /opt/conda/lib/R/library/edgeR        & /opt/conda/lib/R/library/edgeR        & TRUE & FALSE & 2020-02-26 & Bioconductor                        & NA & /opt/conda/lib/R/library\\\\\n",
       "\tlimma & limma        & 3.42.2    & 3.42.2    & /opt/conda/lib/R/library/limma        & /opt/conda/lib/R/library/limma        & TRUE & FALSE & 2020-02-03 & Bioconductor                        & NA & /opt/conda/lib/R/library\\\\\n",
       "\tmulttest & multtest     & 2.42.0    & 2.42.0    & /opt/conda/lib/R/library/multtest     & /opt/conda/lib/R/library/multtest     & TRUE & FALSE & 2019-10-29 & Bioconductor                        & NA & /opt/conda/lib/R/library\\\\\n",
       "\tpiggyback & piggyback    & 0.0.10.99 & 0.0.10.99 & /opt/conda/lib/R/library/piggyback    & /opt/conda/lib/R/library/piggyback    & TRUE & FALSE & 2020-05-12 & Github (ropensci/piggyback@87f71e8) & NA & /opt/conda/lib/R/library\\\\\n",
       "\tR.methodsS3 & R.methodsS3  & 1.8.0     & 1.8.0     & /opt/conda/lib/R/library/R.methodsS3  & /opt/conda/lib/R/library/R.methodsS3  & TRUE & FALSE & 2020-02-14 & CRAN (R 3.6.1)                      & NA & /opt/conda/lib/R/library\\\\\n",
       "\tR.oo & R.oo         & 1.23.0    & 1.23.0    & /opt/conda/lib/R/library/R.oo         & /opt/conda/lib/R/library/R.oo         & TRUE & FALSE & 2019-11-03 & CRAN (R 3.6.1)                      & NA & /opt/conda/lib/R/library\\\\\n",
       "\tR.utils & R.utils      & 2.9.2     & 2.9.2     & /opt/conda/lib/R/library/R.utils      & /opt/conda/lib/R/library/R.utils      & TRUE & FALSE & 2019-12-08 & CRAN (R 3.6.1)                      & NA & /opt/conda/lib/R/library\\\\\n",
       "\ttibble & tibble       & 2.1.3     & 2.1.3     & /opt/conda/lib/R/library/tibble       & /opt/conda/lib/R/library/tibble       & TRUE & FALSE & 2019-06-06 & CRAN (R 3.6.1)                      & NA & /opt/conda/lib/R/library\\\\\n",
       "\\end{tabular}\n"
      ],
      "text/markdown": [
       "\n",
       "A packages_info: 10 × 11\n",
       "\n",
       "| <!--/--> | package &lt;chr&gt; | ondiskversion &lt;chr&gt; | loadedversion &lt;chr&gt; | path &lt;chr&gt; | loadedpath &lt;chr&gt; | attached &lt;lgl&gt; | is_base &lt;lgl&gt; | date &lt;chr&gt; | source &lt;chr&gt; | md5ok &lt;lgl&gt; | library &lt;fct&gt; |\n",
       "|---|---|---|---|---|---|---|---|---|---|---|---|\n",
       "| Biobase | Biobase      | 2.46.0    | 2.46.0    | /opt/conda/lib/R/library/Biobase      | /opt/conda/lib/R/library/Biobase      | TRUE | FALSE | 2019-10-29 | Bioconductor                        | NA | /opt/conda/lib/R/library |\n",
       "| BiocGenerics | BiocGenerics | 0.32.0    | 0.32.0    | /opt/conda/lib/R/library/BiocGenerics | /opt/conda/lib/R/library/BiocGenerics | TRUE | FALSE | 2019-10-29 | Bioconductor                        | NA | /opt/conda/lib/R/library |\n",
       "| edgeR | edgeR        | 3.28.1    | 3.28.1    | /opt/conda/lib/R/library/edgeR        | /opt/conda/lib/R/library/edgeR        | TRUE | FALSE | 2020-02-26 | Bioconductor                        | NA | /opt/conda/lib/R/library |\n",
       "| limma | limma        | 3.42.2    | 3.42.2    | /opt/conda/lib/R/library/limma        | /opt/conda/lib/R/library/limma        | TRUE | FALSE | 2020-02-03 | Bioconductor                        | NA | /opt/conda/lib/R/library |\n",
       "| multtest | multtest     | 2.42.0    | 2.42.0    | /opt/conda/lib/R/library/multtest     | /opt/conda/lib/R/library/multtest     | TRUE | FALSE | 2019-10-29 | Bioconductor                        | NA | /opt/conda/lib/R/library |\n",
       "| piggyback | piggyback    | 0.0.10.99 | 0.0.10.99 | /opt/conda/lib/R/library/piggyback    | /opt/conda/lib/R/library/piggyback    | TRUE | FALSE | 2020-05-12 | Github (ropensci/piggyback@87f71e8) | NA | /opt/conda/lib/R/library |\n",
       "| R.methodsS3 | R.methodsS3  | 1.8.0     | 1.8.0     | /opt/conda/lib/R/library/R.methodsS3  | /opt/conda/lib/R/library/R.methodsS3  | TRUE | FALSE | 2020-02-14 | CRAN (R 3.6.1)                      | NA | /opt/conda/lib/R/library |\n",
       "| R.oo | R.oo         | 1.23.0    | 1.23.0    | /opt/conda/lib/R/library/R.oo         | /opt/conda/lib/R/library/R.oo         | TRUE | FALSE | 2019-11-03 | CRAN (R 3.6.1)                      | NA | /opt/conda/lib/R/library |\n",
       "| R.utils | R.utils      | 2.9.2     | 2.9.2     | /opt/conda/lib/R/library/R.utils      | /opt/conda/lib/R/library/R.utils      | TRUE | FALSE | 2019-12-08 | CRAN (R 3.6.1)                      | NA | /opt/conda/lib/R/library |\n",
       "| tibble | tibble       | 2.1.3     | 2.1.3     | /opt/conda/lib/R/library/tibble       | /opt/conda/lib/R/library/tibble       | TRUE | FALSE | 2019-06-06 | CRAN (R 3.6.1)                      | NA | /opt/conda/lib/R/library |\n",
       "\n"
      ],
      "text/plain": [
       "             package      ondiskversion loadedversion\n",
       "Biobase      Biobase      2.46.0        2.46.0       \n",
       "BiocGenerics BiocGenerics 0.32.0        0.32.0       \n",
       "edgeR        edgeR        3.28.1        3.28.1       \n",
       "limma        limma        3.42.2        3.42.2       \n",
       "multtest     multtest     2.42.0        2.42.0       \n",
       "piggyback    piggyback    0.0.10.99     0.0.10.99    \n",
       "R.methodsS3  R.methodsS3  1.8.0         1.8.0        \n",
       "R.oo         R.oo         1.23.0        1.23.0       \n",
       "R.utils      R.utils      2.9.2         2.9.2        \n",
       "tibble       tibble       2.1.3         2.1.3        \n",
       "             path                                 \n",
       "Biobase      /opt/conda/lib/R/library/Biobase     \n",
       "BiocGenerics /opt/conda/lib/R/library/BiocGenerics\n",
       "edgeR        /opt/conda/lib/R/library/edgeR       \n",
       "limma        /opt/conda/lib/R/library/limma       \n",
       "multtest     /opt/conda/lib/R/library/multtest    \n",
       "piggyback    /opt/conda/lib/R/library/piggyback   \n",
       "R.methodsS3  /opt/conda/lib/R/library/R.methodsS3 \n",
       "R.oo         /opt/conda/lib/R/library/R.oo        \n",
       "R.utils      /opt/conda/lib/R/library/R.utils     \n",
       "tibble       /opt/conda/lib/R/library/tibble      \n",
       "             loadedpath                            attached is_base date      \n",
       "Biobase      /opt/conda/lib/R/library/Biobase      TRUE     FALSE   2019-10-29\n",
       "BiocGenerics /opt/conda/lib/R/library/BiocGenerics TRUE     FALSE   2019-10-29\n",
       "edgeR        /opt/conda/lib/R/library/edgeR        TRUE     FALSE   2020-02-26\n",
       "limma        /opt/conda/lib/R/library/limma        TRUE     FALSE   2020-02-03\n",
       "multtest     /opt/conda/lib/R/library/multtest     TRUE     FALSE   2019-10-29\n",
       "piggyback    /opt/conda/lib/R/library/piggyback    TRUE     FALSE   2020-05-12\n",
       "R.methodsS3  /opt/conda/lib/R/library/R.methodsS3  TRUE     FALSE   2020-02-14\n",
       "R.oo         /opt/conda/lib/R/library/R.oo         TRUE     FALSE   2019-11-03\n",
       "R.utils      /opt/conda/lib/R/library/R.utils      TRUE     FALSE   2019-12-08\n",
       "tibble       /opt/conda/lib/R/library/tibble       TRUE     FALSE   2019-06-06\n",
       "             source                              md5ok library                 \n",
       "Biobase      Bioconductor                        NA    /opt/conda/lib/R/library\n",
       "BiocGenerics Bioconductor                        NA    /opt/conda/lib/R/library\n",
       "edgeR        Bioconductor                        NA    /opt/conda/lib/R/library\n",
       "limma        Bioconductor                        NA    /opt/conda/lib/R/library\n",
       "multtest     Bioconductor                        NA    /opt/conda/lib/R/library\n",
       "piggyback    Github (ropensci/piggyback@87f71e8) NA    /opt/conda/lib/R/library\n",
       "R.methodsS3  CRAN (R 3.6.1)                      NA    /opt/conda/lib/R/library\n",
       "R.oo         CRAN (R 3.6.1)                      NA    /opt/conda/lib/R/library\n",
       "R.utils      CRAN (R 3.6.1)                      NA    /opt/conda/lib/R/library\n",
       "tibble       CRAN (R 3.6.1)                      NA    /opt/conda/lib/R/library"
      ]
     },
     "metadata": {},
     "output_type": "display_data"
    }
   ],
   "source": [
    "dev_session_info   <- devtools::session_info()\n",
    "utils_session_info <- utils::sessionInfo()\n",
    "\n",
    "message(\"Saving `devtools::session_info()` objects in ../metadata/devtools_session_info.rds  ..\")\n",
    "saveRDS(dev_session_info, file = paste0(\"../metadata/\", notebookid, \"_devtools_session_info.rds\"))\n",
    "message(\"Done!\\n\")\n",
    "\n",
    "message(\"Saving `utils::sessionInfo()` objects in ../metadata/utils_session_info.rds  ..\")\n",
    "saveRDS(utils_session_info, file = paste0(\"../metadata/\", notebookid ,\"_utils_info.rds\"))\n",
    "message(\"Done!\\n\")\n",
    "\n",
    "dev_session_info$platform\n",
    "dev_session_info$packages[dev_session_info$packages$attached==TRUE, ]"
   ]
  },
  {
   "cell_type": "code",
   "execution_count": null,
   "metadata": {},
   "outputs": [],
   "source": []
  }
 ],
 "metadata": {
  "kernelspec": {
   "display_name": "R",
   "language": "R",
   "name": "ir"
  },
  "language_info": {
   "codemirror_mode": "r",
   "file_extension": ".r",
   "mimetype": "text/x-r-source",
   "name": "R",
   "pygments_lexer": "r",
   "version": "3.6.1"
  }
 },
 "nbformat": 4,
 "nbformat_minor": 4
}
