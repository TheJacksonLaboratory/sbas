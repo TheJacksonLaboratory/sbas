{
 "cells": [
  {
   "cell_type": "markdown",
   "metadata": {},
   "source": [
    "# AllTissueJunctionAnalysis as a Notebook \n",
    "\n",
    "rMATS 3.2.5 was run on controlled access RNASeq files retrieved experiments stored in the Sequence Read Archive with controlled access managed by dbGaP.   The data were generated under the Gene Tissue Expression.\n",
    "\n",
    "## rMATS RNASeq-MATS.py produces 10 different output types which get assembled into as type junction ID by sample ID matrices\n",
    "\n",
    "### Alternative Splice Site Types are: (se, a3ss, a5ss, mxe, ri)\n",
    "\n",
    " This is input as ARGV1 into variable 'astype'\n",
    "\n",
    "  * Skipped Exon events (se),\n",
    "  * Alternative 3' splice site (a3ss),\n",
    "  * Alternative 5' splice site (a5ss),\n",
    "  * Mutually exclusive exon (mxe),\n",
    "  * and retention intron (ri)\n",
    "\n",
    "### There are two different kinds of junction counts\n",
    "\n",
    "  * jc = junction counts - reads that cross the junction\n",
    "  * jcec = junction counts plus reads on the target (such as included exon\n",
    "\n",
    "### And the count type -- there are 5 types\n",
    "\n",
    "  * inclusion levels (percent spliced in)\n",
    "  * included junction counts (ijc)\n",
    "  * skipped junction counts (sjc)\n",
    "  * inclusion length (inclen)\n",
    "  * skipped length (skiplen)\n",
    "\n",
    "### function: fit_iso_tissue \n",
    "\n",
    "fit_iso_tissue expects the following input:\n",
    "\n",
    "  * the tissue of interest (SMSTD) \n",
    "  * an ordered_merged_rmats -- which will be ordered to fit the count matrix\n",
    "  * count matrix (inc or ijc & sjc merged)\n",
    "  * splice type (a3ss, a5ss, mxe, ri or se)\n",
    "  * junction_count type (jc or jcec)\n",
    "  * count type (inc or the merged ijc,sjc)\n",
    "  \n",
    "### reordering to match annotations between count matrix and annotation matrix\n",
    "\n",
    "Common problem is to match specifically the rows of an annotation matrix with the columns of a count matrix\n",
    "`match` is the function that gives the re-ordering index required to accomplish this\n"
   ]
  },
  {
   "cell_type": "markdown",
   "metadata": {},
   "source": [
    "## **NOTE**:\n",
    "\n",
    "We assume that you have cloned the analysis repository and have `cd` into the parent directory. Before starting with the analysis make sure you have first completed the dependencies set up by following the instructions described in the **`dependencies/README.md`** document. All paths defined in this Notebook are relative to the parent directory (repository). Please close this Notebook and start again by following the above guidelines if you have not completed the aforementioned steps.\n",
    "\n",
    "## rMATS-final-merged\n",
    "the rmats-nf NextFlow was executed and the results released here:"
   ]
  },
  {
   "cell_type": "markdown",
   "metadata": {},
   "source": [
    "## Loading dependencies"
   ]
  },
  {
   "cell_type": "code",
   "execution_count": 1,
   "metadata": {},
   "outputs": [],
   "source": [
    "# temporary hack remove me when the dependencies are fixed\n",
    "#\n",
    "#install.packages(\"BiocManager\")\n",
    "#Sys.setenv(TAR = \"/bin/tar\")\n",
    "#BiocManager::install(c('limma','edgeR', 'statmod'))\n",
    "#install.packages(c('doParallel', 'doRNG', 'foreach', 'stringi', 'pheatmap'), repo = 'https://cran.r-project.org')\n",
    "#devtools::install_github(\"ropensci/piggyback@87f71e8\", upgrade=\"never\")\n",
    "#install.packages(\"runjags\", repos = \"https://cran.r-project.org\")\n",
    "#devtools::install_github(\"easystats/report\")\n"
   ]
  },
  {
   "cell_type": "code",
   "execution_count": 2,
   "metadata": {},
   "outputs": [
    {
     "name": "stderr",
     "output_type": "stream",
     "text": [
      "Loading required package: BiocGenerics\n",
      "Loading required package: parallel\n",
      "\n",
      "Attaching package: ‘BiocGenerics’\n",
      "\n",
      "The following objects are masked from ‘package:parallel’:\n",
      "\n",
      "    clusterApply, clusterApplyLB, clusterCall, clusterEvalQ,\n",
      "    clusterExport, clusterMap, parApply, parCapply, parLapply,\n",
      "    parLapplyLB, parRapply, parSapply, parSapplyLB\n",
      "\n",
      "The following object is masked from ‘package:limma’:\n",
      "\n",
      "    plotMA\n",
      "\n",
      "The following objects are masked from ‘package:stats’:\n",
      "\n",
      "    IQR, mad, sd, var, xtabs\n",
      "\n",
      "The following objects are masked from ‘package:base’:\n",
      "\n",
      "    anyDuplicated, append, as.data.frame, basename, cbind, colnames,\n",
      "    dirname, do.call, duplicated, eval, evalq, Filter, Find, get, grep,\n",
      "    grepl, intersect, is.unsorted, lapply, Map, mapply, match, mget,\n",
      "    order, paste, pmax, pmax.int, pmin, pmin.int, Position, rank,\n",
      "    rbind, Reduce, rownames, sapply, setdiff, sort, table, tapply,\n",
      "    union, unique, unsplit, which, which.max, which.min\n",
      "\n",
      "Loading required package: Biobase\n",
      "Welcome to Bioconductor\n",
      "\n",
      "    Vignettes contain introductory material; view with\n",
      "    'browseVignettes()'. To cite Bioconductor, see\n",
      "    'citation(\"Biobase\")', and for packages 'citation(\"pkgname\")'.\n",
      "\n",
      "Loading required package: R.oo\n",
      "Loading required package: R.methodsS3\n",
      "R.methodsS3 v1.8.0 (2020-02-14 07:10:20 UTC) successfully loaded. See ?R.methodsS3 for help.\n",
      "R.oo v1.23.0 successfully loaded. See ?R.oo for help.\n",
      "\n",
      "Attaching package: ‘R.oo’\n",
      "\n",
      "The following object is masked from ‘package:R.methodsS3’:\n",
      "\n",
      "    throw\n",
      "\n",
      "The following objects are masked from ‘package:methods’:\n",
      "\n",
      "    getClasses, getMethods\n",
      "\n",
      "The following objects are masked from ‘package:base’:\n",
      "\n",
      "    attach, detach, load, save\n",
      "\n",
      "R.utils v2.9.2 successfully loaded. See ?R.utils for help.\n",
      "\n",
      "Attaching package: ‘R.utils’\n",
      "\n",
      "The following object is masked from ‘package:utils’:\n",
      "\n",
      "    timestamp\n",
      "\n",
      "The following objects are masked from ‘package:base’:\n",
      "\n",
      "    cat, commandArgs, getOption, inherits, isOpen, nullfile, parse,\n",
      "    warnings\n",
      "\n"
     ]
    }
   ],
   "source": [
    "library(limma)\n",
    "library(piggyback)\n",
    "library(multtest)\n",
    "library(Biobase)\n",
    "library(edgeR)\n",
    "library(tibble)\n",
    "#install.packages('R.utils')\n",
    "library(R.utils)"
   ]
  },
  {
   "cell_type": "markdown",
   "metadata": {},
   "source": [
    "## Modeling\n",
    "\n",
    "This analysis uses edgeR.  From the documentation, it is important to note that normalization takes the form of correction factors that enter into the statistical model. Such correction factors are usually computed internally by edgeR functions, but it is also possible for a user to supply them. The correction factors may take the form of scaling factors for the library sizes, such as computed by calcNormFactors, which are then used to compute the effective library sizes. \n",
    "\n",
    "Alternatively, gene-specific correction factors can be entered into the glm functions of edgeR as offsets. In the latter case, the offset matrix will be assumed to account for all normalization issues, including sequencing depth and RNA composition.\n",
    "\n",
    "Note that normalization in edgeR is model-based, and the original read counts are not themselves transformed. This means that users should not transform the read counts in any way before inputing them to edgeR. For example, users should not enter RPKM or FPKM val- ues to edgeR in place of read counts. Such quantities will prevent edgeR from correctly estimating the mean-variance relationship in the data, which is a crucial to the statistical strategies underlying edgeR. Similarly, users should not add artificial values to the counts before inputing them to edgeR.\n",
    "\n",
    "edgeR is not designed to work with estimated expression levels, for example as might be output by Cufflinks. \n",
    "edgeR can work with expected counts as output by RSEM, but raw counts are still preferred. \n",
    "\n",
    "As instructed by the software, we are using the raw counts as provided by rMATS.  The raw counts we are using in the model are `ijc` and `sjc`, the sample specific raw read counts as they align to the junctions of the `included exon (ijc)` and the junctions of the `excluded or skipped exon (sjc)` respectively.\n",
    "\n",
    "\n",
    "Be sure to set your GITHUB_TOKEN, prior to downloading files\n",
    "\n",
    "One suggestion is change it to your token and then run it then immediately change it back to this:\n",
    "\n",
    "Sys.setenv(GITHUB_TOKEN = \"your-very-own-github-token\")"
   ]
  },
  {
   "cell_type": "code",
   "execution_count": 3,
   "metadata": {},
   "outputs": [],
   "source": [
    "# devtools::install_github(\"ropensci/piggyback@87f71e8\", upgrade=\"never\")\n",
    "#parameters for running the notebook as NextFlow\n",
    "\n",
    "tissue_index <- 17"
   ]
  },
  {
   "cell_type": "markdown",
   "metadata": {},
   "source": [
    "### Did you remember?\n",
    "Did you remember to delete your private github token?  Now is a good time to do so, before you save your work and checkit in inadvertantly...."
   ]
  },
  {
   "cell_type": "code",
   "execution_count": 4,
   "metadata": {},
   "outputs": [
    {
     "name": "stderr",
     "output_type": "stream",
     "text": [
      "Loading metadata from SraRunTable.txt.gz ../data/gtex.rds ..\n",
      "\n",
      "done!\n",
      "\n",
      "Loading ijc counts from rmats_final.se.jc.ijc.txt.gz ../data/gtex.rds ..\n",
      "\n",
      "done!\n",
      "\n",
      "Loading sjc counts from rmats_final.se.jc.sjc.txt.gz ../data/gtex.rds ..\n",
      "\n",
      "done!\n",
      "\n",
      "Loading obj GTEx v8 rds object with readRDS from ../data/gtex.rds ..\n",
      "\n",
      "Done!\n",
      "\n",
      "Generating sha256sum for gtex.rds ..\n",
      "\n",
      "18e2c7a83c98dcf59ddab53e1281923979d49da6ea3acb68114c5a44057c57bc  ../data/gtex.rds\n",
      "Done!\n",
      "\n",
      "Reading fromGTF.SE.txt into fromGTF.SE\n",
      "Done!\n",
      "\n"
     ]
    }
   ],
   "source": [
    "if (!(\"SraRunTable.txt.gz\" %in% list.files(\"../data/\"))) {\n",
    "    piggyback::pb_download(\n",
    "        show_progress = TRUE,\n",
    "        repo = \"TheJacksonLaboratory/sbas\", \n",
    "        file = \"SraRunTable.txt.gz\",\n",
    "        tag  = \"GTExV8.v1.0\", \n",
    "        dest = \"../data/\")\n",
    "    \n",
    "    message(\"Loading metadata from SraRunTable.txt.gz ../data/gtex.rds ..\\n\")   \n",
    "    metadata <- data.table::fread(\"../data/SraRunTable.txt.gz\")\n",
    "    message(\"done!\")\n",
    "} else {\n",
    "    message(\"Loading metadata from SraRunTable.txt.gz ../data/gtex.rds ..\\n\")   \n",
    "    metadata <- data.table::fread(\"../data/SraRunTable.txt.gz\")\n",
    "    message(\"done!\\n\")\n",
    "}\n",
    "\n",
    "if (!(\"rmats_final.se.jc.ijc.txt.gz\" %in% list.files(\"../data/\"))) {    \n",
    "    piggyback::pb_download(\n",
    "        show_progress = TRUE,\n",
    "        repo = \"adeslatt/sbas_test\", \n",
    "        file = \"rmats_final.se.jc.ijc.txt.gz\",\n",
    "        tag  = \"rMATS.3.2.5.GTEx.V8.final_matrices\", \n",
    "        dest = \"../data/\")\n",
    "    message(\"Loading ijc counts from rmats_final.se.jc.ijc.txt.gz ../data/gtex.rds ..\\n\")   \n",
    "    ijc.iso.counts.mem <- data.table::fread(\"../data/rmats_final.se.jc.ijc.txt.gz\")\n",
    "    message(\"done!\\n\")\n",
    "} else {\n",
    "    message(\"Loading ijc counts from rmats_final.se.jc.ijc.txt.gz ../data/gtex.rds ..\\n\")   \n",
    "    ijc.iso.counts.mem <- data.table::fread(\"../data/rmats_final.se.jc.ijc.txt.gz\")\n",
    "    message(\"done!\\n\")    \n",
    "}\n",
    "\n",
    "if (!(\"rmats_final.se.jc.sjc.txt.gz\" %in% list.files(\"../data/\"))) {\n",
    "    message(\"Downloading rmats_final.se.jc.sjc.txt.gz\")\n",
    "    piggyback::pb_download(\n",
    "        show_progress = TRUE,\n",
    "        repo = \"adeslatt/sbas_test\", \n",
    "        file = \"rmats_final.se.jc.sjc.txt.gz\",\n",
    "        tag  = \"rMATS.3.2.5.GTEx.V8.final_matrices\", \n",
    "        dest = \"../data/\")\n",
    "    message(\"Loading sjc counts from rmats_final.se.jc.sjc.txt.gz ../data/gtex.rds ..\\n\")   \n",
    "    sjc.iso.counts.mem <- data.table::fread(\"../data/rmats_final.se.jc.sjc.txt.gz\")\n",
    "    message(\"done!\\n\")    \n",
    "\n",
    "} else {\n",
    "    message(\"Loading sjc counts from rmats_final.se.jc.sjc.txt.gz ../data/gtex.rds ..\\n\")   \n",
    "    sjc.iso.counts.mem <- data.table::fread(\"../data/rmats_final.se.jc.sjc.txt.gz\")\n",
    "    message(\"done!\\n\")        \n",
    "}\n",
    "\n",
    "if (!(\"gtex.rds\" %in% list.files(\"../data/\"))) {\n",
    "    message(\"Downloading and loading obj with GTEx v8 with 'yarn::downloadGTExV8()'\\n\")\n",
    "    obj <- yarn::downloadGTExV8(type='genes',file='../data/gtex.rds')\n",
    "    message(\"Done!\\n\")\n",
    "\n",
    "} else {\n",
    "# Load with readRDS() if gtex.rds available in data/\n",
    "    message(\"Loading obj GTEx v8 rds object with readRDS from ../data/gtex.rds ..\\n\")   \n",
    "    obj <- readRDS(file = \"../data/gtex.rds\")\n",
    "    message(\"Done!\\n\")\n",
    "    message(\"Generating sha256sum for gtex.rds ..\\n\")    \n",
    "    message(system(\"sha256sum ../data/gtex.rds\", intern = TRUE))\n",
    "    message(\"Done!\\n\")\n",
    "} \n",
    "if (! (file.exists(\"../data/fromGTF.tar.gz\"))) {\n",
    "    system(\"mkdir -p ../data\", intern = TRUE)\n",
    "    message(\"Fetching fromGTF.tar.gz from GitHub ..\")\n",
    "    # Download archive from GitHub release with tag \"dge\"\n",
    "    piggyback::pb_download(file = \"fromGTF.tar.gz\",\n",
    "                           dest = \"../data\",\n",
    "                           repo = \"adeslatt/sbas_gtf\",\n",
    "                           tag  = \"rMATS.3.2.5.gencode.v30\",\n",
    "                           show_progress = TRUE)\n",
    "    message(\"Done!\\n\")\n",
    "    message(\"Decompressing fromGTF.tar.gz into ../data\")\n",
    "    system(\"mkdir -p ../data && tar xvfz ../data/fromGTF.tar.gz -C ../data\", intern = TRUE)\n",
    "    message(\"Done!\\n\")\n",
    "    message(\"Decompressing fromGTF.*.txt.gz into ../data\")\n",
    "    system(\"gunzip  ../data/fromGTF*.txt.gz \", intern = TRUE)\n",
    "    message(\"Done!\\n\")\n",
    "    message(\"Reading fromGTF.SE.txt into fromGTF.SE\")    \n",
    "    fromGTF.SE <- read.table(\"../data/fromGTF.SE.txt\", header=TRUE)\n",
    "    message(\"Done!\\n\")\n",
    "} else {\n",
    "        message(\"Reading fromGTF.SE.txt into fromGTF.SE\")    \n",
    "        fromGTF.SE <- read.table(\"../data/fromGTF.SE.txt\", header=TRUE)\n",
    "        message(\"Done!\\n\")\n",
    "    \n",
    "}"
   ]
  },
  {
   "cell_type": "markdown",
   "metadata": {},
   "source": [
    "### keep only those values for which we have phenotype data \n",
    "Samples were resequenced, which is shown since we have the previous step saw no reduction in information - but we are using the yarn function to correct for errors in the GTEx data set.\n",
    "\n",
    "To deal with this, we make the metadata unique per sample, rather than unique per run -- there are a little over 100 runs that are more than one sequencing run for a sample.\n",
    "\n",
    "There are in fact 69 samples which have more than 1 run, 67 samples that have 3 sequencing runs and 2 samples that have 2 sequencing runs.\n",
    "\n",
    "### Now we need to reduce the metadata to the unique samples\n",
    "We will use the first occurance of the sample, got the idea from here https://stackoverflow.com/questions/19944334/extract-rows-for-the-first-occurrence-of-a-variable-in-a-data-frame"
   ]
  },
  {
   "cell_type": "code",
   "execution_count": 5,
   "metadata": {},
   "outputs": [
    {
     "data": {
      "text/html": [
       "17383"
      ],
      "text/latex": [
       "17383"
      ],
      "text/markdown": [
       "17383"
      ],
      "text/plain": [
       "[1] 17383"
      ]
     },
     "metadata": {},
     "output_type": "display_data"
    },
    {
     "data": {
      "text/html": [
       "14224"
      ],
      "text/latex": [
       "14224"
      ],
      "text/markdown": [
       "14224"
      ],
      "text/plain": [
       "[1] 14224"
      ]
     },
     "metadata": {},
     "output_type": "display_data"
    },
    {
     "data": {
      "text/html": [
       "24667"
      ],
      "text/latex": [
       "24667"
      ],
      "text/markdown": [
       "24667"
      ],
      "text/plain": [
       "[1] 24667"
      ]
     },
     "metadata": {},
     "output_type": "display_data"
    }
   ],
   "source": [
    "metadata$SAMPID   <- gsub('-','\\\\.',metadata$'Sample Name')\n",
    "pData(obj)$SAMPID <- gsub('-','\\\\.',pData(obj)$SAMPID)\n",
    "\n",
    "length(unique(pData(obj)$SAMPID))\n",
    "length(unique(metadata$SAMPID))\n",
    "length(metadata$SAMPID)"
   ]
  },
  {
   "cell_type": "markdown",
   "metadata": {},
   "source": [
    "### Name the rows by the SE Junction ID\n",
    "\n",
    "Name the rows with the junction id column and then make the matrix just about the counts.\n",
    "Adjust the matrix, preparing them to be pure count matrices"
   ]
  },
  {
   "cell_type": "code",
   "execution_count": 6,
   "metadata": {},
   "outputs": [
    {
     "data": {
      "text/html": [
       "<style>\n",
       ".list-inline {list-style: none; margin:0; padding: 0}\n",
       ".list-inline>li {display: inline-block}\n",
       ".list-inline>li:not(:last-child)::after {content: \"\\00b7\"; padding: 0 .5ex}\n",
       "</style>\n",
       "<ol class=list-inline><li>42611</li><li>8673</li></ol>\n"
      ],
      "text/latex": [
       "\\begin{enumerate*}\n",
       "\\item 42611\n",
       "\\item 8673\n",
       "\\end{enumerate*}\n"
      ],
      "text/markdown": [
       "1. 42611\n",
       "2. 8673\n",
       "\n",
       "\n"
      ],
      "text/plain": [
       "[1] 42611  8673"
      ]
     },
     "metadata": {},
     "output_type": "display_data"
    },
    {
     "data": {
      "text/html": [
       "<style>\n",
       ".list-inline {list-style: none; margin:0; padding: 0}\n",
       ".list-inline>li {display: inline-block}\n",
       ".list-inline>li:not(:last-child)::after {content: \"\\00b7\"; padding: 0 .5ex}\n",
       "</style>\n",
       "<ol class=list-inline><li>42611</li><li>8673</li></ol>\n"
      ],
      "text/latex": [
       "\\begin{enumerate*}\n",
       "\\item 42611\n",
       "\\item 8673\n",
       "\\end{enumerate*}\n"
      ],
      "text/markdown": [
       "1. 42611\n",
       "2. 8673\n",
       "\n",
       "\n"
      ],
      "text/plain": [
       "[1] 42611  8673"
      ]
     },
     "metadata": {},
     "output_type": "display_data"
    }
   ],
   "source": [
    "# preserve junction id as rowname\n",
    "rownames(ijc.iso.counts.mem) <- ijc.iso.counts.mem$ID\n",
    "rownames(sjc.iso.counts.mem) <- sjc.iso.counts.mem$ID\n",
    "\n",
    "# and remove the id to have a data matrix\n",
    "ijc.iso.counts.mem2  <- ijc.iso.counts.mem[,-1]\n",
    "sjc.iso.counts.mem2  <- sjc.iso.counts.mem[,-1]\n",
    "\n",
    "dim(ijc.iso.counts.mem2)\n",
    "dim(sjc.iso.counts.mem2)"
   ]
  },
  {
   "cell_type": "markdown",
   "metadata": {},
   "source": [
    "### Line up the run names in the metadata with the count matrices\n",
    "We need to do two things, one refer to only those runs that we have appropriate metadata for and two make sure the order of both are in sync.  First, we make sure that both the metadata runs and the ijc, sjc counts are the same"
   ]
  },
  {
   "cell_type": "code",
   "execution_count": 7,
   "metadata": {},
   "outputs": [
    {
     "name": "stderr",
     "output_type": "stream",
     "text": [
      "The non-overlaping IDs between pheno and count data are:\n",
      "\n",
      "0\n"
     ]
    },
    {
     "data": {
      "text/html": [
       "24667"
      ],
      "text/latex": [
       "24667"
      ],
      "text/markdown": [
       "24667"
      ],
      "text/plain": [
       "[1] 24667"
      ]
     },
     "metadata": {},
     "output_type": "display_data"
    },
    {
     "data": {
      "text/plain": [
       "ijc_in_metadata\n",
       "FALSE  TRUE \n",
       "15994  8673 "
      ]
     },
     "metadata": {},
     "output_type": "display_data"
    },
    {
     "name": "stderr",
     "output_type": "stream",
     "text": [
      "The non-overlapping IDs between ijc, sjc count matrix and the reduced_metadata are:\n",
      "\n",
      "0\n"
     ]
    },
    {
     "data": {
      "text/plain": [
       "runs_in_ijc\n",
       "TRUE \n",
       "8673 "
      ]
     },
     "metadata": {},
     "output_type": "display_data"
    },
    {
     "data": {
      "text/html": [
       "8673"
      ],
      "text/latex": [
       "8673"
      ],
      "text/markdown": [
       "8673"
      ],
      "text/plain": [
       "[1] 8673"
      ]
     },
     "metadata": {},
     "output_type": "display_data"
    },
    {
     "data": {
      "text/html": [
       "<style>\n",
       ".list-inline {list-style: none; margin:0; padding: 0}\n",
       ".list-inline>li {display: inline-block}\n",
       ".list-inline>li:not(:last-child)::after {content: \"\\00b7\"; padding: 0 .5ex}\n",
       "</style>\n",
       "<ol class=list-inline><li>42611</li><li>8673</li></ol>\n"
      ],
      "text/latex": [
       "\\begin{enumerate*}\n",
       "\\item 42611\n",
       "\\item 8673\n",
       "\\end{enumerate*}\n"
      ],
      "text/markdown": [
       "1. 42611\n",
       "2. 8673\n",
       "\n",
       "\n"
      ],
      "text/plain": [
       "[1] 42611  8673"
      ]
     },
     "metadata": {},
     "output_type": "display_data"
    },
    {
     "data": {
      "text/html": [
       "<style>\n",
       ".list-inline {list-style: none; margin:0; padding: 0}\n",
       ".list-inline>li {display: inline-block}\n",
       ".list-inline>li:not(:last-child)::after {content: \"\\00b7\"; padding: 0 .5ex}\n",
       "</style>\n",
       "<ol class=list-inline><li>42611</li><li>8673</li></ol>\n"
      ],
      "text/latex": [
       "\\begin{enumerate*}\n",
       "\\item 42611\n",
       "\\item 8673\n",
       "\\end{enumerate*}\n"
      ],
      "text/markdown": [
       "1. 42611\n",
       "2. 8673\n",
       "\n",
       "\n"
      ],
      "text/plain": [
       "[1] 42611  8673"
      ]
     },
     "metadata": {},
     "output_type": "display_data"
    },
    {
     "data": {
      "text/html": [
       "<style>\n",
       ".list-inline {list-style: none; margin:0; padding: 0}\n",
       ".list-inline>li {display: inline-block}\n",
       ".list-inline>li:not(:last-child)::after {content: \"\\00b7\"; padding: 0 .5ex}\n",
       "</style>\n",
       "<ol class=list-inline><li>42611</li><li>8673</li></ol>\n"
      ],
      "text/latex": [
       "\\begin{enumerate*}\n",
       "\\item 42611\n",
       "\\item 8673\n",
       "\\end{enumerate*}\n"
      ],
      "text/markdown": [
       "1. 42611\n",
       "2. 8673\n",
       "\n",
       "\n"
      ],
      "text/plain": [
       "[1] 42611  8673"
      ]
     },
     "metadata": {},
     "output_type": "display_data"
    },
    {
     "data": {
      "text/html": [
       "<style>\n",
       ".list-inline {list-style: none; margin:0; padding: 0}\n",
       ".list-inline>li {display: inline-block}\n",
       ".list-inline>li:not(:last-child)::after {content: \"\\00b7\"; padding: 0 .5ex}\n",
       "</style>\n",
       "<ol class=list-inline><li>42611</li><li>8673</li></ol>\n"
      ],
      "text/latex": [
       "\\begin{enumerate*}\n",
       "\\item 42611\n",
       "\\item 8673\n",
       "\\end{enumerate*}\n"
      ],
      "text/markdown": [
       "1. 42611\n",
       "2. 8673\n",
       "\n",
       "\n"
      ],
      "text/plain": [
       "[1] 42611  8673"
      ]
     },
     "metadata": {},
     "output_type": "display_data"
    },
    {
     "data": {
      "text/html": [
       "<style>\n",
       ".list-inline {list-style: none; margin:0; padding: 0}\n",
       ".list-inline>li {display: inline-block}\n",
       ".list-inline>li:not(:last-child)::after {content: \"\\00b7\"; padding: 0 .5ex}\n",
       "</style>\n",
       "<ol class=list-inline><li>8673</li><li>80</li></ol>\n"
      ],
      "text/latex": [
       "\\begin{enumerate*}\n",
       "\\item 8673\n",
       "\\item 80\n",
       "\\end{enumerate*}\n"
      ],
      "text/markdown": [
       "1. 8673\n",
       "2. 80\n",
       "\n",
       "\n"
      ],
      "text/plain": [
       "[1] 8673   80"
      ]
     },
     "metadata": {},
     "output_type": "display_data"
    }
   ],
   "source": [
    "ijc_run_names <- as.vector(as.character(colnames(ijc.iso.counts.mem2)))\n",
    "run_names     <- as.vector(as.character(metadata$Run))\n",
    "\n",
    "non_overlaps <- setdiff( ijc_run_names, run_names)\n",
    "\n",
    "message(\"The non-overlaping IDs between pheno and count data are:\\n\\n\", \n",
    "        paste(length(non_overlaps), collapse = \"\\n\") )\n",
    "\n",
    "ijc_in_metadata =run_names %in% ijc_run_names\n",
    "\n",
    "length(ijc_in_metadata)\n",
    "table(ijc_in_metadata)\n",
    "\n",
    "reduced_metadata <- metadata[ijc_in_metadata==TRUE,]\n",
    "\n",
    "ijc_run_names      <- as.vector(as.character(colnames(ijc.iso.counts.mem2)))\n",
    "reduced_run_names  <- as.vector(as.character(reduced_metadata$Run))\n",
    "\n",
    "non_overlaps <- setdiff( ijc_run_names, reduced_run_names)\n",
    "\n",
    "message(\"The non-overlapping IDs between ijc, sjc count matrix and the reduced_metadata are:\\n\\n\", \n",
    "        paste(length(non_overlaps), collapse = \"\\n\") )\n",
    "\n",
    "runs_in_ijc  <- ijc_run_names %in% reduced_run_names \n",
    "table(runs_in_ijc)\n",
    "length(runs_in_ijc)\n",
    "\n",
    "ijc.iso.counts.mem3 <- data.matrix(ijc.iso.counts.mem2)\n",
    "sjc.iso.counts.mem3 <- data.matrix(sjc.iso.counts.mem2)\n",
    "dim(ijc.iso.counts.mem3)\n",
    "dim(sjc.iso.counts.mem3)\n",
    "\n",
    "ijc.iso.counts.mem3 <- ijc.iso.counts.mem3[,runs_in_ijc==TRUE]\n",
    "sjc.iso.counts.mem3 <- sjc.iso.counts.mem3[,runs_in_ijc==TRUE]\n",
    "\n",
    "dim(ijc.iso.counts.mem3)\n",
    "dim(sjc.iso.counts.mem3)\n",
    "dim(reduced_metadata)"
   ]
  },
  {
   "cell_type": "markdown",
   "metadata": {},
   "source": [
    "###  Order ijc and sjc columns in the same order as the metadata Run order\n",
    "\n",
    "Using tibble library, we can rearrange the columns as the column name.  "
   ]
  },
  {
   "cell_type": "code",
   "execution_count": 8,
   "metadata": {},
   "outputs": [
    {
     "data": {
      "text/html": [
       "<style>\n",
       ".list-inline {list-style: none; margin:0; padding: 0}\n",
       ".list-inline>li {display: inline-block}\n",
       ".list-inline>li:not(:last-child)::after {content: \"\\00b7\"; padding: 0 .5ex}\n",
       "</style>\n",
       "<ol class=list-inline><li>42611</li><li>8673</li></ol>\n"
      ],
      "text/latex": [
       "\\begin{enumerate*}\n",
       "\\item 42611\n",
       "\\item 8673\n",
       "\\end{enumerate*}\n"
      ],
      "text/markdown": [
       "1. 42611\n",
       "2. 8673\n",
       "\n",
       "\n"
      ],
      "text/plain": [
       "[1] 42611  8673"
      ]
     },
     "metadata": {},
     "output_type": "display_data"
    },
    {
     "data": {
      "text/html": [
       "<style>\n",
       ".list-inline {list-style: none; margin:0; padding: 0}\n",
       ".list-inline>li {display: inline-block}\n",
       ".list-inline>li:not(:last-child)::after {content: \"\\00b7\"; padding: 0 .5ex}\n",
       "</style>\n",
       "<ol class=list-inline><li>42611</li><li>8673</li></ol>\n"
      ],
      "text/latex": [
       "\\begin{enumerate*}\n",
       "\\item 42611\n",
       "\\item 8673\n",
       "\\end{enumerate*}\n"
      ],
      "text/markdown": [
       "1. 42611\n",
       "2. 8673\n",
       "\n",
       "\n"
      ],
      "text/plain": [
       "[1] 42611  8673"
      ]
     },
     "metadata": {},
     "output_type": "display_data"
    },
    {
     "data": {
      "text/html": [
       "<style>\n",
       ".list-inline {list-style: none; margin:0; padding: 0}\n",
       ".list-inline>li {display: inline-block}\n",
       ".list-inline>li:not(:last-child)::after {content: \"\\00b7\"; padding: 0 .5ex}\n",
       "</style>\n",
       "<ol class=list-inline><li>8673</li><li>80</li></ol>\n"
      ],
      "text/latex": [
       "\\begin{enumerate*}\n",
       "\\item 8673\n",
       "\\item 80\n",
       "\\end{enumerate*}\n"
      ],
      "text/markdown": [
       "1. 8673\n",
       "2. 80\n",
       "\n",
       "\n"
      ],
      "text/plain": [
       "[1] 8673   80"
      ]
     },
     "metadata": {},
     "output_type": "display_data"
    }
   ],
   "source": [
    "metadata_runnames    <- as.character(reduced_metadata$Run)\n",
    "\n",
    "ijc.iso.counts.mem4  <- as_tibble(ijc.iso.counts.mem3)\n",
    "sjc.iso.counts.mem4  <- as_tibble(sjc.iso.counts.mem3)\n",
    "\n",
    "ijc.iso.counts.mem4  <- ijc.iso.counts.mem4[,c(metadata_runnames)]\n",
    "sjc.iso.counts.mem4  <- sjc.iso.counts.mem4[,c(metadata_runnames)]\n",
    "\n",
    "dim(ijc.iso.counts.mem4)\n",
    "dim(sjc.iso.counts.mem4)\n",
    "dim(reduced_metadata)\n"
   ]
  },
  {
   "cell_type": "markdown",
   "metadata": {},
   "source": [
    "### Removing 11IL0...\n",
    "\n",
    "Remove samples that match '11IL0' from the ijc, sjc and metadata files using the logical grep, grepl"
   ]
  },
  {
   "cell_type": "code",
   "execution_count": 9,
   "metadata": {},
   "outputs": [
    {
     "data": {
      "text/plain": [
       "keep_metadata\n",
       "FALSE  TRUE \n",
       "   12  8661 "
      ]
     },
     "metadata": {},
     "output_type": "display_data"
    },
    {
     "data": {
      "text/html": [
       "<style>\n",
       ".list-inline {list-style: none; margin:0; padding: 0}\n",
       ".list-inline>li {display: inline-block}\n",
       ".list-inline>li:not(:last-child)::after {content: \"\\00b7\"; padding: 0 .5ex}\n",
       "</style>\n",
       "<ol class=list-inline><li>8661</li><li>80</li></ol>\n"
      ],
      "text/latex": [
       "\\begin{enumerate*}\n",
       "\\item 8661\n",
       "\\item 80\n",
       "\\end{enumerate*}\n"
      ],
      "text/markdown": [
       "1. 8661\n",
       "2. 80\n",
       "\n",
       "\n"
      ],
      "text/plain": [
       "[1] 8661   80"
      ]
     },
     "metadata": {},
     "output_type": "display_data"
    },
    {
     "data": {
      "text/html": [
       "<style>\n",
       ".list-inline {list-style: none; margin:0; padding: 0}\n",
       ".list-inline>li {display: inline-block}\n",
       ".list-inline>li:not(:last-child)::after {content: \"\\00b7\"; padding: 0 .5ex}\n",
       "</style>\n",
       "<ol class=list-inline><li>42611</li><li>8661</li></ol>\n"
      ],
      "text/latex": [
       "\\begin{enumerate*}\n",
       "\\item 42611\n",
       "\\item 8661\n",
       "\\end{enumerate*}\n"
      ],
      "text/markdown": [
       "1. 42611\n",
       "2. 8661\n",
       "\n",
       "\n"
      ],
      "text/plain": [
       "[1] 42611  8661"
      ]
     },
     "metadata": {},
     "output_type": "display_data"
    },
    {
     "data": {
      "text/html": [
       "<style>\n",
       ".list-inline {list-style: none; margin:0; padding: 0}\n",
       ".list-inline>li {display: inline-block}\n",
       ".list-inline>li:not(:last-child)::after {content: \"\\00b7\"; padding: 0 .5ex}\n",
       "</style>\n",
       "<ol class=list-inline><li>42611</li><li>8661</li></ol>\n"
      ],
      "text/latex": [
       "\\begin{enumerate*}\n",
       "\\item 42611\n",
       "\\item 8661\n",
       "\\end{enumerate*}\n"
      ],
      "text/markdown": [
       "1. 42611\n",
       "2. 8661\n",
       "\n",
       "\n"
      ],
      "text/plain": [
       "[1] 42611  8661"
      ]
     },
     "metadata": {},
     "output_type": "display_data"
    }
   ],
   "source": [
    "metadata_SAMPID      <- as.character(reduced_metadata$SAMPID)\n",
    "keep_metadata <- (!grepl('11ILO',reduced_metadata$SAMPID))\n",
    "table(keep_metadata)\n",
    "ijc.iso.counts.mem4 <-ijc.iso.counts.mem4 [                    ,keep_metadata==TRUE]\n",
    "sjc.iso.counts.mem4 <-sjc.iso.counts.mem4 [                    ,keep_metadata==TRUE]\n",
    "reduced_metadata2   <-reduced_metadata    [keep_metadata==TRUE,                    ]\n",
    "\n",
    "dim(reduced_metadata2)\n",
    "dim(ijc.iso.counts.mem4)\n",
    "dim(sjc.iso.counts.mem4)"
   ]
  },
  {
   "cell_type": "markdown",
   "metadata": {},
   "source": [
    "### Add the yarn metadata \n",
    "Join the yarn metadata with the metadata we have (there are redundant samples that have been sequenced multiple times)."
   ]
  },
  {
   "cell_type": "code",
   "execution_count": 10,
   "metadata": {},
   "outputs": [
    {
     "data": {
      "text/html": [
       "<style>\n",
       ".list-inline {list-style: none; margin:0; padding: 0}\n",
       ".list-inline>li {display: inline-block}\n",
       ".list-inline>li:not(:last-child)::after {content: \"\\00b7\"; padding: 0 .5ex}\n",
       "</style>\n",
       "<ol class=list-inline><li>8661</li><li>146</li></ol>\n"
      ],
      "text/latex": [
       "\\begin{enumerate*}\n",
       "\\item 8661\n",
       "\\item 146\n",
       "\\end{enumerate*}\n"
      ],
      "text/markdown": [
       "1. 8661\n",
       "2. 146\n",
       "\n",
       "\n"
      ],
      "text/plain": [
       "[1] 8661  146"
      ]
     },
     "metadata": {},
     "output_type": "display_data"
    }
   ],
   "source": [
    "# now that we have this reduced we can merge these together\n",
    "metadata_pData <- dplyr::left_join(reduced_metadata2, pData(obj), by = \"SAMPID\")\n",
    "dim(metadata_pData)\n",
    "write.csv(metadata_pData,\"../data/metadata_pData.csv\")"
   ]
  },
  {
   "cell_type": "markdown",
   "metadata": {},
   "source": [
    "### exploration of the details\n",
    "\n",
    "For each sample, we have ijc and sjc count data and demo\n",
    "For exon skipping events (SE), we have 42,611 non-zero junction IDs the (first dimension of the ijc and sjc cout table) for the skipped exon event for breast-Mammary Tissue, 191 individuals.  These are healthy individuals, and we are studying the impact of sex on the occurrence or non-occurance of specific alternative splicing events.   We explore the information we ahve about these junctions and create a construct, as_event, which accounts for the junction under exploration.\n",
    "\n",
    "#### Exploring the ijc and sjc Count data \n",
    "\n",
    "We have two counts that are in many ways two sides of the same coin.  Both our the observational output and we wish to see how robust each are in their ability to separate out the samples to provide for us differentially expressed isoform events as measured by their counts.   Each junction is in a manner a specific marker to specific isoform events that may or may not be shared between the genders.   If there is significant results, then this is indicative of the separation achieved by isoform specific differentiation.   In our model we will use these in combination, it is important to see if they will yield the results we are looking for.\n",
    "\n",
    "### What else could we add to our linear model\n",
    "There are a couple of other items we can add to the mix, to make the data a bit more interesting\n",
    "We will use the yarn SEX phenotype 1==male, 2==female, rather than the SRA sex phenotype."
   ]
  },
  {
   "cell_type": "code",
   "execution_count": 11,
   "metadata": {},
   "outputs": [
    {
     "data": {
      "text/plain": [
       "\n",
       "20-29 30-39 40-49 50-59 60-69 70-79 \n",
       "  652   576  1379  2638  2504   123 "
      ]
     },
     "metadata": {},
     "output_type": "display_data"
    },
    {
     "data": {
      "text/plain": [
       "\n",
       "   0    1    2    3    4 \n",
       "4219  397 1942  437  780 "
      ]
     },
     "metadata": {},
     "output_type": "display_data"
    },
    {
     "data": {
      "text/plain": [
       "\n",
       "        B1     B1, A1         C1     C1, A1 C1, B1, A1         D1     D1, A1 \n",
       "      4723        369       2150        513          0         60         57 "
      ]
     },
     "metadata": {},
     "output_type": "display_data"
    },
    {
     "data": {
      "text/plain": [
       "\n",
       "   1    2 \n",
       "4998 2874 "
      ]
     },
     "metadata": {},
     "output_type": "display_data"
    },
    {
     "data": {
      "text/plain": [
       "\n",
       "female   male \n",
       "  3275   5386 "
      ]
     },
     "metadata": {},
     "output_type": "display_data"
    }
   ],
   "source": [
    "table(metadata_pData$AGE)\n",
    "table(metadata_pData$DTHHRDY)\n",
    "table(metadata_pData$SMCENTER)\n",
    "table(metadata_pData$SEX)\n",
    "table(metadata_pData$sex)"
   ]
  },
  {
   "cell_type": "markdown",
   "metadata": {},
   "source": [
    "## Preparing the data further\n",
    "\n",
    "### Keeping only tissues with sufficient number of samples for analysis\n",
    "\n",
    "Using results from analysis of number of samples stored in `tissues.tsv` we keep only those that are members of this reduced tissue list."
   ]
  },
  {
   "cell_type": "code",
   "execution_count": 12,
   "metadata": {},
   "outputs": [
    {
     "data": {
      "text/plain": [
       "\n",
       " 0  1 \n",
       "11 39 "
      ]
     },
     "metadata": {},
     "output_type": "display_data"
    },
    {
     "data": {
      "text/html": [
       "53"
      ],
      "text/latex": [
       "53"
      ],
      "text/markdown": [
       "53"
      ],
      "text/plain": [
       "[1] 53"
      ]
     },
     "metadata": {},
     "output_type": "display_data"
    },
    {
     "data": {
      "text/html": [
       "39"
      ],
      "text/latex": [
       "39"
      ],
      "text/markdown": [
       "39"
      ],
      "text/plain": [
       "[1] 39"
      ]
     },
     "metadata": {},
     "output_type": "display_data"
    },
    {
     "data": {
      "text/plain": [
       "tissue_names_keep\n",
       "FALSE  TRUE \n",
       " 1641  7020 "
      ]
     },
     "metadata": {},
     "output_type": "display_data"
    },
    {
     "data": {
      "text/html": [
       "8661"
      ],
      "text/latex": [
       "8661"
      ],
      "text/markdown": [
       "8661"
      ],
      "text/plain": [
       "[1] 8661"
      ]
     },
     "metadata": {},
     "output_type": "display_data"
    },
    {
     "data": {
      "text/html": [
       "<style>\n",
       ".list-inline {list-style: none; margin:0; padding: 0}\n",
       ".list-inline>li {display: inline-block}\n",
       ".list-inline>li:not(:last-child)::after {content: \"\\00b7\"; padding: 0 .5ex}\n",
       "</style>\n",
       "<ol class=list-inline><li>8661</li><li>147</li></ol>\n"
      ],
      "text/latex": [
       "\\begin{enumerate*}\n",
       "\\item 8661\n",
       "\\item 147\n",
       "\\end{enumerate*}\n"
      ],
      "text/markdown": [
       "1. 8661\n",
       "2. 147\n",
       "\n",
       "\n"
      ],
      "text/plain": [
       "[1] 8661  147"
      ]
     },
     "metadata": {},
     "output_type": "display_data"
    },
    {
     "data": {
      "text/html": [
       "<style>\n",
       ".list-inline {list-style: none; margin:0; padding: 0}\n",
       ".list-inline>li {display: inline-block}\n",
       ".list-inline>li:not(:last-child)::after {content: \"\\00b7\"; padding: 0 .5ex}\n",
       "</style>\n",
       "<ol class=list-inline><li>7020</li><li>147</li></ol>\n"
      ],
      "text/latex": [
       "\\begin{enumerate*}\n",
       "\\item 7020\n",
       "\\item 147\n",
       "\\end{enumerate*}\n"
      ],
      "text/markdown": [
       "1. 7020\n",
       "2. 147\n",
       "\n",
       "\n"
      ],
      "text/plain": [
       "[1] 7020  147"
      ]
     },
     "metadata": {},
     "output_type": "display_data"
    },
    {
     "data": {
      "text/html": [
       "<style>\n",
       ".list-inline {list-style: none; margin:0; padding: 0}\n",
       ".list-inline>li {display: inline-block}\n",
       ".list-inline>li:not(:last-child)::after {content: \"\\00b7\"; padding: 0 .5ex}\n",
       "</style>\n",
       "<ol class=list-inline><li>'adipose_subcutaneous'</li><li>'adipose_visceral_omentum'</li><li>'adrenal_gland'</li><li>'artery_aorta'</li><li>'artery_coronary'</li><li>'artery_tibial'</li><li>'brain_caudate_basal_ganglia'</li><li>'brain_cerebellar_hemisphere'</li><li>'brain_cerebellum'</li><li>'brain_cortex'</li><li>'brain_frontal_cortex_ba_9'</li><li>'brain_hippocampus'</li><li>'brain_hypothalamus'</li><li>'brain_nucleus_accumbens_basal_ganglia'</li><li>'brain_putamen_basal_ganglia'</li><li>'brain_spinal_cord_cervical_c_1'</li><li>'breast_mammary_tissue'</li><li>'cells_cultured_fibroblasts'</li><li>'cells_ebv_transformed_lymphocytes'</li><li>'colon_sigmoid'</li><li>'colon_transverse'</li><li>'esophagus_gastroesophageal_junction'</li><li>'esophagus_mucosa'</li><li>'esophagus_muscularis'</li><li>'heart_atrial_appendage'</li><li>'heart_left_ventricle'</li><li>'liver'</li><li>'lung'</li><li>'muscle_skeletal'</li><li>'nerve_tibial'</li><li>'pancreas'</li><li>'pituitary'</li><li>'skin_not_sun_exposed_suprapubic'</li><li>'skin_sun_exposed_lower_leg'</li><li>'small_intestine_terminal_ileum'</li><li>'spleen'</li><li>'stomach'</li><li>'thyroid'</li><li>'whole_blood'</li></ol>\n"
      ],
      "text/latex": [
       "\\begin{enumerate*}\n",
       "\\item 'adipose\\_subcutaneous'\n",
       "\\item 'adipose\\_visceral\\_omentum'\n",
       "\\item 'adrenal\\_gland'\n",
       "\\item 'artery\\_aorta'\n",
       "\\item 'artery\\_coronary'\n",
       "\\item 'artery\\_tibial'\n",
       "\\item 'brain\\_caudate\\_basal\\_ganglia'\n",
       "\\item 'brain\\_cerebellar\\_hemisphere'\n",
       "\\item 'brain\\_cerebellum'\n",
       "\\item 'brain\\_cortex'\n",
       "\\item 'brain\\_frontal\\_cortex\\_ba\\_9'\n",
       "\\item 'brain\\_hippocampus'\n",
       "\\item 'brain\\_hypothalamus'\n",
       "\\item 'brain\\_nucleus\\_accumbens\\_basal\\_ganglia'\n",
       "\\item 'brain\\_putamen\\_basal\\_ganglia'\n",
       "\\item 'brain\\_spinal\\_cord\\_cervical\\_c\\_1'\n",
       "\\item 'breast\\_mammary\\_tissue'\n",
       "\\item 'cells\\_cultured\\_fibroblasts'\n",
       "\\item 'cells\\_ebv\\_transformed\\_lymphocytes'\n",
       "\\item 'colon\\_sigmoid'\n",
       "\\item 'colon\\_transverse'\n",
       "\\item 'esophagus\\_gastroesophageal\\_junction'\n",
       "\\item 'esophagus\\_mucosa'\n",
       "\\item 'esophagus\\_muscularis'\n",
       "\\item 'heart\\_atrial\\_appendage'\n",
       "\\item 'heart\\_left\\_ventricle'\n",
       "\\item 'liver'\n",
       "\\item 'lung'\n",
       "\\item 'muscle\\_skeletal'\n",
       "\\item 'nerve\\_tibial'\n",
       "\\item 'pancreas'\n",
       "\\item 'pituitary'\n",
       "\\item 'skin\\_not\\_sun\\_exposed\\_suprapubic'\n",
       "\\item 'skin\\_sun\\_exposed\\_lower\\_leg'\n",
       "\\item 'small\\_intestine\\_terminal\\_ileum'\n",
       "\\item 'spleen'\n",
       "\\item 'stomach'\n",
       "\\item 'thyroid'\n",
       "\\item 'whole\\_blood'\n",
       "\\end{enumerate*}\n"
      ],
      "text/markdown": [
       "1. 'adipose_subcutaneous'\n",
       "2. 'adipose_visceral_omentum'\n",
       "3. 'adrenal_gland'\n",
       "4. 'artery_aorta'\n",
       "5. 'artery_coronary'\n",
       "6. 'artery_tibial'\n",
       "7. 'brain_caudate_basal_ganglia'\n",
       "8. 'brain_cerebellar_hemisphere'\n",
       "9. 'brain_cerebellum'\n",
       "10. 'brain_cortex'\n",
       "11. 'brain_frontal_cortex_ba_9'\n",
       "12. 'brain_hippocampus'\n",
       "13. 'brain_hypothalamus'\n",
       "14. 'brain_nucleus_accumbens_basal_ganglia'\n",
       "15. 'brain_putamen_basal_ganglia'\n",
       "16. 'brain_spinal_cord_cervical_c_1'\n",
       "17. 'breast_mammary_tissue'\n",
       "18. 'cells_cultured_fibroblasts'\n",
       "19. 'cells_ebv_transformed_lymphocytes'\n",
       "20. 'colon_sigmoid'\n",
       "21. 'colon_transverse'\n",
       "22. 'esophagus_gastroesophageal_junction'\n",
       "23. 'esophagus_mucosa'\n",
       "24. 'esophagus_muscularis'\n",
       "25. 'heart_atrial_appendage'\n",
       "26. 'heart_left_ventricle'\n",
       "27. 'liver'\n",
       "28. 'lung'\n",
       "29. 'muscle_skeletal'\n",
       "30. 'nerve_tibial'\n",
       "31. 'pancreas'\n",
       "32. 'pituitary'\n",
       "33. 'skin_not_sun_exposed_suprapubic'\n",
       "34. 'skin_sun_exposed_lower_leg'\n",
       "35. 'small_intestine_terminal_ileum'\n",
       "36. 'spleen'\n",
       "37. 'stomach'\n",
       "38. 'thyroid'\n",
       "39. 'whole_blood'\n",
       "\n",
       "\n"
      ],
      "text/plain": [
       " [1] \"adipose_subcutaneous\"                 \n",
       " [2] \"adipose_visceral_omentum\"             \n",
       " [3] \"adrenal_gland\"                        \n",
       " [4] \"artery_aorta\"                         \n",
       " [5] \"artery_coronary\"                      \n",
       " [6] \"artery_tibial\"                        \n",
       " [7] \"brain_caudate_basal_ganglia\"          \n",
       " [8] \"brain_cerebellar_hemisphere\"          \n",
       " [9] \"brain_cerebellum\"                     \n",
       "[10] \"brain_cortex\"                         \n",
       "[11] \"brain_frontal_cortex_ba_9\"            \n",
       "[12] \"brain_hippocampus\"                    \n",
       "[13] \"brain_hypothalamus\"                   \n",
       "[14] \"brain_nucleus_accumbens_basal_ganglia\"\n",
       "[15] \"brain_putamen_basal_ganglia\"          \n",
       "[16] \"brain_spinal_cord_cervical_c_1\"       \n",
       "[17] \"breast_mammary_tissue\"                \n",
       "[18] \"cells_cultured_fibroblasts\"           \n",
       "[19] \"cells_ebv_transformed_lymphocytes\"    \n",
       "[20] \"colon_sigmoid\"                        \n",
       "[21] \"colon_transverse\"                     \n",
       "[22] \"esophagus_gastroesophageal_junction\"  \n",
       "[23] \"esophagus_mucosa\"                     \n",
       "[24] \"esophagus_muscularis\"                 \n",
       "[25] \"heart_atrial_appendage\"               \n",
       "[26] \"heart_left_ventricle\"                 \n",
       "[27] \"liver\"                                \n",
       "[28] \"lung\"                                 \n",
       "[29] \"muscle_skeletal\"                      \n",
       "[30] \"nerve_tibial\"                         \n",
       "[31] \"pancreas\"                             \n",
       "[32] \"pituitary\"                            \n",
       "[33] \"skin_not_sun_exposed_suprapubic\"      \n",
       "[34] \"skin_sun_exposed_lower_leg\"           \n",
       "[35] \"small_intestine_terminal_ileum\"       \n",
       "[36] \"spleen\"                               \n",
       "[37] \"stomach\"                              \n",
       "[38] \"thyroid\"                              \n",
       "[39] \"whole_blood\"                          "
      ]
     },
     "metadata": {},
     "output_type": "display_data"
    },
    {
     "data": {
      "text/html": [
       "39"
      ],
      "text/latex": [
       "39"
      ],
      "text/markdown": [
       "39"
      ],
      "text/plain": [
       "[1] 39"
      ]
     },
     "metadata": {},
     "output_type": "display_data"
    }
   ],
   "source": [
    "tissue_reduction <- read.table(file=\"../assets/tissues.tsv\", header=TRUE, sep=\"\\t\",\n",
    "                               skipNul=FALSE, stringsAsFactors = FALSE)\n",
    "colnames(tissue_reduction)  <- c(\"SMTSD\",\"female\",\"male\",\"include\",\"display_name\")\n",
    "\n",
    "# only include those tissues we wish to continue with\n",
    "table(tissue_reduction$include)\n",
    "tissue_reduction <- tissue_reduction[tissue_reduction$include==1,]\n",
    "\n",
    "\n",
    "# reduced the expressionSet object to only those tissues we wish to keep\n",
    "# create a matching tissue name to go with the expressionSet phenotype object\n",
    "metadata_pData$tissue  <- factor(snakecase::to_snake_case(as.character(metadata_pData$SMTSD)))\n",
    "tissue_reduction$SMTSD <- factor(snakecase::to_snake_case(as.character(tissue_reduction$SMTSD)))\n",
    "\n",
    "length(levels(metadata_pData$tissue))\n",
    "length(levels(tissue_reduction$SMTSD))\n",
    "\n",
    "tissue_names_keep <- metadata_pData$tissue %in% tissue_reduction$SMTSD\n",
    "table(tissue_names_keep)\n",
    "length(tissue_names_keep)\n",
    "dim(metadata_pData)\n",
    "\n",
    "reduced_metadata_pData<-metadata_pData[tissue_names_keep==TRUE,]\n",
    "dim(reduced_metadata_pData)\n",
    "\n",
    "reduced_metadata_pData$tissue <- factor(reduced_metadata_pData$tissue)\n",
    "levels(reduced_metadata_pData$tissue)\n",
    "length(levels(reduced_metadata_pData$tissue))"
   ]
  },
  {
   "cell_type": "markdown",
   "metadata": {},
   "source": [
    "### realign count matrices with metadata\n",
    "one more time realign with tibble assist"
   ]
  },
  {
   "cell_type": "code",
   "execution_count": 13,
   "metadata": {},
   "outputs": [
    {
     "data": {
      "text/html": [
       "<style>\n",
       ".list-inline {list-style: none; margin:0; padding: 0}\n",
       ".list-inline>li {display: inline-block}\n",
       ".list-inline>li:not(:last-child)::after {content: \"\\00b7\"; padding: 0 .5ex}\n",
       "</style>\n",
       "<ol class=list-inline><li>42611</li><li>7020</li></ol>\n"
      ],
      "text/latex": [
       "\\begin{enumerate*}\n",
       "\\item 42611\n",
       "\\item 7020\n",
       "\\end{enumerate*}\n"
      ],
      "text/markdown": [
       "1. 42611\n",
       "2. 7020\n",
       "\n",
       "\n"
      ],
      "text/plain": [
       "[1] 42611  7020"
      ]
     },
     "metadata": {},
     "output_type": "display_data"
    },
    {
     "data": {
      "text/html": [
       "<style>\n",
       ".list-inline {list-style: none; margin:0; padding: 0}\n",
       ".list-inline>li {display: inline-block}\n",
       ".list-inline>li:not(:last-child)::after {content: \"\\00b7\"; padding: 0 .5ex}\n",
       "</style>\n",
       "<ol class=list-inline><li>42611</li><li>7020</li></ol>\n"
      ],
      "text/latex": [
       "\\begin{enumerate*}\n",
       "\\item 42611\n",
       "\\item 7020\n",
       "\\end{enumerate*}\n"
      ],
      "text/markdown": [
       "1. 42611\n",
       "2. 7020\n",
       "\n",
       "\n"
      ],
      "text/plain": [
       "[1] 42611  7020"
      ]
     },
     "metadata": {},
     "output_type": "display_data"
    },
    {
     "data": {
      "text/html": [
       "<style>\n",
       ".list-inline {list-style: none; margin:0; padding: 0}\n",
       ".list-inline>li {display: inline-block}\n",
       ".list-inline>li:not(:last-child)::after {content: \"\\00b7\"; padding: 0 .5ex}\n",
       "</style>\n",
       "<ol class=list-inline><li>7020</li><li>147</li></ol>\n"
      ],
      "text/latex": [
       "\\begin{enumerate*}\n",
       "\\item 7020\n",
       "\\item 147\n",
       "\\end{enumerate*}\n"
      ],
      "text/markdown": [
       "1. 7020\n",
       "2. 147\n",
       "\n",
       "\n"
      ],
      "text/plain": [
       "[1] 7020  147"
      ]
     },
     "metadata": {},
     "output_type": "display_data"
    }
   ],
   "source": [
    "reduced_metadata_pData_runnames    <- as.character(reduced_metadata_pData$Run)\n",
    "\n",
    "ijc.iso.counts.mem5  <- as_tibble(ijc.iso.counts.mem4)\n",
    "sjc.iso.counts.mem5  <- as_tibble(sjc.iso.counts.mem4)\n",
    "\n",
    "ijc.iso.counts.mem5  <- ijc.iso.counts.mem5[,c(reduced_metadata_pData_runnames)]\n",
    "sjc.iso.counts.mem5  <- sjc.iso.counts.mem5[,c(reduced_metadata_pData_runnames)]\n",
    "\n",
    "dim(ijc.iso.counts.mem5)\n",
    "dim(sjc.iso.counts.mem5)\n",
    "dim(reduced_metadata_pData)\n"
   ]
  },
  {
   "cell_type": "markdown",
   "metadata": {},
   "source": [
    "### Keeping only shared male female tissues\n",
    "We need to remove the tissues that are not shared by males and females, we do this by finding the intersection of the tissue lists."
   ]
  },
  {
   "cell_type": "code",
   "execution_count": 14,
   "metadata": {},
   "outputs": [
    {
     "data": {
      "text/plain": [
       "sex\n",
       "   1    2 \n",
       "4519 2501 "
      ]
     },
     "metadata": {},
     "output_type": "display_data"
    },
    {
     "data": {
      "text/plain": [
       "sex2\n",
       "female   male \n",
       "  2501   4519 "
      ]
     },
     "metadata": {},
     "output_type": "display_data"
    },
    {
     "data": {
      "text/plain": [
       "keep\n",
       "TRUE \n",
       "7020 "
      ]
     },
     "metadata": {},
     "output_type": "display_data"
    },
    {
     "data": {
      "text/html": [
       "<style>\n",
       ".list-inline {list-style: none; margin:0; padding: 0}\n",
       ".list-inline>li {display: inline-block}\n",
       ".list-inline>li:not(:last-child)::after {content: \"\\00b7\"; padding: 0 .5ex}\n",
       "</style>\n",
       "<ol class=list-inline><li>42611</li><li>7020</li></ol>\n"
      ],
      "text/latex": [
       "\\begin{enumerate*}\n",
       "\\item 42611\n",
       "\\item 7020\n",
       "\\end{enumerate*}\n"
      ],
      "text/markdown": [
       "1. 42611\n",
       "2. 7020\n",
       "\n",
       "\n"
      ],
      "text/plain": [
       "[1] 42611  7020"
      ]
     },
     "metadata": {},
     "output_type": "display_data"
    },
    {
     "data": {
      "text/html": [
       "<style>\n",
       ".list-inline {list-style: none; margin:0; padding: 0}\n",
       ".list-inline>li {display: inline-block}\n",
       ".list-inline>li:not(:last-child)::after {content: \"\\00b7\"; padding: 0 .5ex}\n",
       "</style>\n",
       "<ol class=list-inline><li>42611</li><li>7020</li></ol>\n"
      ],
      "text/latex": [
       "\\begin{enumerate*}\n",
       "\\item 42611\n",
       "\\item 7020\n",
       "\\end{enumerate*}\n"
      ],
      "text/markdown": [
       "1. 42611\n",
       "2. 7020\n",
       "\n",
       "\n"
      ],
      "text/plain": [
       "[1] 42611  7020"
      ]
     },
     "metadata": {},
     "output_type": "display_data"
    },
    {
     "data": {
      "text/html": [
       "<style>\n",
       ".list-inline {list-style: none; margin:0; padding: 0}\n",
       ".list-inline>li {display: inline-block}\n",
       ".list-inline>li:not(:last-child)::after {content: \"\\00b7\"; padding: 0 .5ex}\n",
       "</style>\n",
       "<ol class=list-inline><li>7020</li><li>147</li></ol>\n"
      ],
      "text/latex": [
       "\\begin{enumerate*}\n",
       "\\item 7020\n",
       "\\item 147\n",
       "\\end{enumerate*}\n"
      ],
      "text/markdown": [
       "1. 7020\n",
       "2. 147\n",
       "\n",
       "\n"
      ],
      "text/plain": [
       "[1] 7020  147"
      ]
     },
     "metadata": {},
     "output_type": "display_data"
    },
    {
     "data": {
      "text/html": [
       "7020"
      ],
      "text/latex": [
       "7020"
      ],
      "text/markdown": [
       "7020"
      ],
      "text/plain": [
       "[1] 7020"
      ]
     },
     "metadata": {},
     "output_type": "display_data"
    },
    {
     "data": {
      "text/html": [
       "<style>\n",
       ".list-inline {list-style: none; margin:0; padding: 0}\n",
       ".list-inline>li {display: inline-block}\n",
       ".list-inline>li:not(:last-child)::after {content: \"\\00b7\"; padding: 0 .5ex}\n",
       "</style>\n",
       "<ol class=list-inline><li>'adipose_subcutaneous'</li><li>'adipose_visceral_omentum'</li><li>'adrenal_gland'</li><li>'artery_aorta'</li><li>'artery_coronary'</li><li>'artery_tibial'</li><li>'brain_caudate_basal_ganglia'</li><li>'brain_cerebellar_hemisphere'</li><li>'brain_cerebellum'</li><li>'brain_cortex'</li><li>'brain_frontal_cortex_ba_9'</li><li>'brain_hippocampus'</li><li>'brain_hypothalamus'</li><li>'brain_nucleus_accumbens_basal_ganglia'</li><li>'brain_putamen_basal_ganglia'</li><li>'brain_spinal_cord_cervical_c_1'</li><li>'breast_mammary_tissue'</li><li>'cells_cultured_fibroblasts'</li><li>'cells_ebv_transformed_lymphocytes'</li><li>'colon_sigmoid'</li><li>'colon_transverse'</li><li>'esophagus_gastroesophageal_junction'</li><li>'esophagus_mucosa'</li><li>'esophagus_muscularis'</li><li>'heart_atrial_appendage'</li><li>'heart_left_ventricle'</li><li>'liver'</li><li>'lung'</li><li>'muscle_skeletal'</li><li>'nerve_tibial'</li><li>'pancreas'</li><li>'pituitary'</li><li>'skin_not_sun_exposed_suprapubic'</li><li>'skin_sun_exposed_lower_leg'</li><li>'small_intestine_terminal_ileum'</li><li>'spleen'</li><li>'stomach'</li><li>'thyroid'</li><li>'whole_blood'</li></ol>\n"
      ],
      "text/latex": [
       "\\begin{enumerate*}\n",
       "\\item 'adipose\\_subcutaneous'\n",
       "\\item 'adipose\\_visceral\\_omentum'\n",
       "\\item 'adrenal\\_gland'\n",
       "\\item 'artery\\_aorta'\n",
       "\\item 'artery\\_coronary'\n",
       "\\item 'artery\\_tibial'\n",
       "\\item 'brain\\_caudate\\_basal\\_ganglia'\n",
       "\\item 'brain\\_cerebellar\\_hemisphere'\n",
       "\\item 'brain\\_cerebellum'\n",
       "\\item 'brain\\_cortex'\n",
       "\\item 'brain\\_frontal\\_cortex\\_ba\\_9'\n",
       "\\item 'brain\\_hippocampus'\n",
       "\\item 'brain\\_hypothalamus'\n",
       "\\item 'brain\\_nucleus\\_accumbens\\_basal\\_ganglia'\n",
       "\\item 'brain\\_putamen\\_basal\\_ganglia'\n",
       "\\item 'brain\\_spinal\\_cord\\_cervical\\_c\\_1'\n",
       "\\item 'breast\\_mammary\\_tissue'\n",
       "\\item 'cells\\_cultured\\_fibroblasts'\n",
       "\\item 'cells\\_ebv\\_transformed\\_lymphocytes'\n",
       "\\item 'colon\\_sigmoid'\n",
       "\\item 'colon\\_transverse'\n",
       "\\item 'esophagus\\_gastroesophageal\\_junction'\n",
       "\\item 'esophagus\\_mucosa'\n",
       "\\item 'esophagus\\_muscularis'\n",
       "\\item 'heart\\_atrial\\_appendage'\n",
       "\\item 'heart\\_left\\_ventricle'\n",
       "\\item 'liver'\n",
       "\\item 'lung'\n",
       "\\item 'muscle\\_skeletal'\n",
       "\\item 'nerve\\_tibial'\n",
       "\\item 'pancreas'\n",
       "\\item 'pituitary'\n",
       "\\item 'skin\\_not\\_sun\\_exposed\\_suprapubic'\n",
       "\\item 'skin\\_sun\\_exposed\\_lower\\_leg'\n",
       "\\item 'small\\_intestine\\_terminal\\_ileum'\n",
       "\\item 'spleen'\n",
       "\\item 'stomach'\n",
       "\\item 'thyroid'\n",
       "\\item 'whole\\_blood'\n",
       "\\end{enumerate*}\n"
      ],
      "text/markdown": [
       "1. 'adipose_subcutaneous'\n",
       "2. 'adipose_visceral_omentum'\n",
       "3. 'adrenal_gland'\n",
       "4. 'artery_aorta'\n",
       "5. 'artery_coronary'\n",
       "6. 'artery_tibial'\n",
       "7. 'brain_caudate_basal_ganglia'\n",
       "8. 'brain_cerebellar_hemisphere'\n",
       "9. 'brain_cerebellum'\n",
       "10. 'brain_cortex'\n",
       "11. 'brain_frontal_cortex_ba_9'\n",
       "12. 'brain_hippocampus'\n",
       "13. 'brain_hypothalamus'\n",
       "14. 'brain_nucleus_accumbens_basal_ganglia'\n",
       "15. 'brain_putamen_basal_ganglia'\n",
       "16. 'brain_spinal_cord_cervical_c_1'\n",
       "17. 'breast_mammary_tissue'\n",
       "18. 'cells_cultured_fibroblasts'\n",
       "19. 'cells_ebv_transformed_lymphocytes'\n",
       "20. 'colon_sigmoid'\n",
       "21. 'colon_transverse'\n",
       "22. 'esophagus_gastroesophageal_junction'\n",
       "23. 'esophagus_mucosa'\n",
       "24. 'esophagus_muscularis'\n",
       "25. 'heart_atrial_appendage'\n",
       "26. 'heart_left_ventricle'\n",
       "27. 'liver'\n",
       "28. 'lung'\n",
       "29. 'muscle_skeletal'\n",
       "30. 'nerve_tibial'\n",
       "31. 'pancreas'\n",
       "32. 'pituitary'\n",
       "33. 'skin_not_sun_exposed_suprapubic'\n",
       "34. 'skin_sun_exposed_lower_leg'\n",
       "35. 'small_intestine_terminal_ileum'\n",
       "36. 'spleen'\n",
       "37. 'stomach'\n",
       "38. 'thyroid'\n",
       "39. 'whole_blood'\n",
       "\n",
       "\n"
      ],
      "text/plain": [
       " [1] \"adipose_subcutaneous\"                 \n",
       " [2] \"adipose_visceral_omentum\"             \n",
       " [3] \"adrenal_gland\"                        \n",
       " [4] \"artery_aorta\"                         \n",
       " [5] \"artery_coronary\"                      \n",
       " [6] \"artery_tibial\"                        \n",
       " [7] \"brain_caudate_basal_ganglia\"          \n",
       " [8] \"brain_cerebellar_hemisphere\"          \n",
       " [9] \"brain_cerebellum\"                     \n",
       "[10] \"brain_cortex\"                         \n",
       "[11] \"brain_frontal_cortex_ba_9\"            \n",
       "[12] \"brain_hippocampus\"                    \n",
       "[13] \"brain_hypothalamus\"                   \n",
       "[14] \"brain_nucleus_accumbens_basal_ganglia\"\n",
       "[15] \"brain_putamen_basal_ganglia\"          \n",
       "[16] \"brain_spinal_cord_cervical_c_1\"       \n",
       "[17] \"breast_mammary_tissue\"                \n",
       "[18] \"cells_cultured_fibroblasts\"           \n",
       "[19] \"cells_ebv_transformed_lymphocytes\"    \n",
       "[20] \"colon_sigmoid\"                        \n",
       "[21] \"colon_transverse\"                     \n",
       "[22] \"esophagus_gastroesophageal_junction\"  \n",
       "[23] \"esophagus_mucosa\"                     \n",
       "[24] \"esophagus_muscularis\"                 \n",
       "[25] \"heart_atrial_appendage\"               \n",
       "[26] \"heart_left_ventricle\"                 \n",
       "[27] \"liver\"                                \n",
       "[28] \"lung\"                                 \n",
       "[29] \"muscle_skeletal\"                      \n",
       "[30] \"nerve_tibial\"                         \n",
       "[31] \"pancreas\"                             \n",
       "[32] \"pituitary\"                            \n",
       "[33] \"skin_not_sun_exposed_suprapubic\"      \n",
       "[34] \"skin_sun_exposed_lower_leg\"           \n",
       "[35] \"small_intestine_terminal_ileum\"       \n",
       "[36] \"spleen\"                               \n",
       "[37] \"stomach\"                              \n",
       "[38] \"thyroid\"                              \n",
       "[39] \"whole_blood\"                          "
      ]
     },
     "metadata": {},
     "output_type": "display_data"
    },
    {
     "data": {
      "text/html": [
       "39"
      ],
      "text/latex": [
       "39"
      ],
      "text/markdown": [
       "39"
      ],
      "text/plain": [
       "[1] 39"
      ]
     },
     "metadata": {},
     "output_type": "display_data"
    },
    {
     "data": {
      "text/html": [
       "7020"
      ],
      "text/latex": [
       "7020"
      ],
      "text/markdown": [
       "7020"
      ],
      "text/plain": [
       "[1] 7020"
      ]
     },
     "metadata": {},
     "output_type": "display_data"
    }
   ],
   "source": [
    "\n",
    "# SEX is coded 1 == Male\n",
    "#              2 == Female\n",
    "sex = factor(reduced_metadata_pData$SEX)\n",
    "sex2 <- ifelse(sex == 1,'male','female')\n",
    "table(sex)\n",
    "table(sex2)\n",
    "\n",
    "male_tissues_true   <- sex2 == \"male\"\n",
    "female_tissues_true <- sex2 == \"female\"\n",
    "\n",
    "tissue_list         <- reduced_metadata_pData$tissue\n",
    "male_tissue_list    <- factor(reduced_metadata_pData$tissue[male_tissues_true   == TRUE])\n",
    "female_tissue_list  <- factor(reduced_metadata_pData$tissue[female_tissues_true == TRUE])\n",
    "\n",
    "male_female_tissue_list <- intersect(levels(male_tissue_list),levels(female_tissue_list))\n",
    "\n",
    "keep = tissue_list %in% male_female_tissue_list\n",
    "\n",
    "table(keep)\n",
    "\n",
    "\n",
    "ijc_m_f         = ijc.iso.counts.mem5    [          ,keep==TRUE]\n",
    "sjc_m_f         = sjc.iso.counts.mem5    [          ,keep==TRUE]\n",
    "metadata_m_f    = reduced_metadata_pData [keep==TRUE,          ]\n",
    "tissue_list_m_f = tissue_list            [keep==TRUE]\n",
    "\n",
    "dim(ijc_m_f)\n",
    "dim(sjc_m_f)\n",
    "dim(metadata_m_f)\n",
    "length(tissue_list_m_f)\n",
    "tissue_list_m_f <- factor(tissue_list_m_f)\n",
    "levels(tissue_list_m_f)\n",
    "length(levels(tissue_list_m_f))\n",
    "length(tissue_list_m_f)"
   ]
  },
  {
   "cell_type": "markdown",
   "metadata": {},
   "source": [
    "### Keeping only chromosomes shared male female\n",
    "\n",
    "The Y chromosome spans more than 59 million base pairs of DNA and represents almost 2 percent of the total DNA in cells. Each person normally has one pair of sex chromosomes in each cell. The Y chromosome is present in males, who have one X and one Y chromosome, while females have two X chromosomes. Since our analysis is on the comparative differences, we must eliminate chrY from our analyses.\n",
    "\n",
    "To do so, we grab the annotation from the GTF file and remove those junctions that correspond to the genes on this chromosome"
   ]
  },
  {
   "cell_type": "code",
   "execution_count": 15,
   "metadata": {},
   "outputs": [
    {
     "data": {
      "text/html": [
       "<table>\n",
       "<caption>A data.frame: 6 × 11</caption>\n",
       "<thead>\n",
       "\t<tr><th></th><th scope=col>ID</th><th scope=col>GeneID</th><th scope=col>geneSymbol</th><th scope=col>chr</th><th scope=col>strand</th><th scope=col>exonStart_0base</th><th scope=col>exonEnd</th><th scope=col>upstreamES</th><th scope=col>upstreamEE</th><th scope=col>downstreamES</th><th scope=col>downstreamEE</th></tr>\n",
       "\t<tr><th></th><th scope=col>&lt;int&gt;</th><th scope=col>&lt;fct&gt;</th><th scope=col>&lt;fct&gt;</th><th scope=col>&lt;fct&gt;</th><th scope=col>&lt;fct&gt;</th><th scope=col>&lt;int&gt;</th><th scope=col>&lt;int&gt;</th><th scope=col>&lt;int&gt;</th><th scope=col>&lt;int&gt;</th><th scope=col>&lt;int&gt;</th><th scope=col>&lt;int&gt;</th></tr>\n",
       "</thead>\n",
       "<tbody>\n",
       "\t<tr><th scope=row>1</th><td>1</td><td>ENSG00000034152.18</td><td>MAP2K3</td><td>chr17</td><td>+</td><td>21287990</td><td>21288091</td><td>21284709</td><td>21284969</td><td>21295674</td><td>21295769</td></tr>\n",
       "\t<tr><th scope=row>2</th><td>2</td><td>ENSG00000034152.18</td><td>MAP2K3</td><td>chr17</td><td>+</td><td>21303182</td><td>21303234</td><td>21302142</td><td>21302259</td><td>21304425</td><td>21304553</td></tr>\n",
       "\t<tr><th scope=row>3</th><td>3</td><td>ENSG00000034152.18</td><td>MAP2K3</td><td>chr17</td><td>+</td><td>21295674</td><td>21295769</td><td>21287990</td><td>21288091</td><td>21296085</td><td>21296143</td></tr>\n",
       "\t<tr><th scope=row>4</th><td>4</td><td>ENSG00000034152.18</td><td>MAP2K3</td><td>chr17</td><td>+</td><td>21295674</td><td>21295769</td><td>21287990</td><td>21288091</td><td>21298412</td><td>21298479</td></tr>\n",
       "\t<tr><th scope=row>5</th><td>5</td><td>ENSG00000034152.18</td><td>MAP2K3</td><td>chr17</td><td>+</td><td>21295674</td><td>21295769</td><td>21284710</td><td>21284969</td><td>21296085</td><td>21296143</td></tr>\n",
       "\t<tr><th scope=row>6</th><td>6</td><td>ENSG00000034152.18</td><td>MAP2K3</td><td>chr17</td><td>+</td><td>21295674</td><td>21295769</td><td>21284710</td><td>21284969</td><td>21298412</td><td>21298479</td></tr>\n",
       "</tbody>\n",
       "</table>\n"
      ],
      "text/latex": [
       "A data.frame: 6 × 11\n",
       "\\begin{tabular}{r|lllllllllll}\n",
       "  & ID & GeneID & geneSymbol & chr & strand & exonStart\\_0base & exonEnd & upstreamES & upstreamEE & downstreamES & downstreamEE\\\\\n",
       "  & <int> & <fct> & <fct> & <fct> & <fct> & <int> & <int> & <int> & <int> & <int> & <int>\\\\\n",
       "\\hline\n",
       "\t1 & 1 & ENSG00000034152.18 & MAP2K3 & chr17 & + & 21287990 & 21288091 & 21284709 & 21284969 & 21295674 & 21295769\\\\\n",
       "\t2 & 2 & ENSG00000034152.18 & MAP2K3 & chr17 & + & 21303182 & 21303234 & 21302142 & 21302259 & 21304425 & 21304553\\\\\n",
       "\t3 & 3 & ENSG00000034152.18 & MAP2K3 & chr17 & + & 21295674 & 21295769 & 21287990 & 21288091 & 21296085 & 21296143\\\\\n",
       "\t4 & 4 & ENSG00000034152.18 & MAP2K3 & chr17 & + & 21295674 & 21295769 & 21287990 & 21288091 & 21298412 & 21298479\\\\\n",
       "\t5 & 5 & ENSG00000034152.18 & MAP2K3 & chr17 & + & 21295674 & 21295769 & 21284710 & 21284969 & 21296085 & 21296143\\\\\n",
       "\t6 & 6 & ENSG00000034152.18 & MAP2K3 & chr17 & + & 21295674 & 21295769 & 21284710 & 21284969 & 21298412 & 21298479\\\\\n",
       "\\end{tabular}\n"
      ],
      "text/markdown": [
       "\n",
       "A data.frame: 6 × 11\n",
       "\n",
       "| <!--/--> | ID &lt;int&gt; | GeneID &lt;fct&gt; | geneSymbol &lt;fct&gt; | chr &lt;fct&gt; | strand &lt;fct&gt; | exonStart_0base &lt;int&gt; | exonEnd &lt;int&gt; | upstreamES &lt;int&gt; | upstreamEE &lt;int&gt; | downstreamES &lt;int&gt; | downstreamEE &lt;int&gt; |\n",
       "|---|---|---|---|---|---|---|---|---|---|---|---|\n",
       "| 1 | 1 | ENSG00000034152.18 | MAP2K3 | chr17 | + | 21287990 | 21288091 | 21284709 | 21284969 | 21295674 | 21295769 |\n",
       "| 2 | 2 | ENSG00000034152.18 | MAP2K3 | chr17 | + | 21303182 | 21303234 | 21302142 | 21302259 | 21304425 | 21304553 |\n",
       "| 3 | 3 | ENSG00000034152.18 | MAP2K3 | chr17 | + | 21295674 | 21295769 | 21287990 | 21288091 | 21296085 | 21296143 |\n",
       "| 4 | 4 | ENSG00000034152.18 | MAP2K3 | chr17 | + | 21295674 | 21295769 | 21287990 | 21288091 | 21298412 | 21298479 |\n",
       "| 5 | 5 | ENSG00000034152.18 | MAP2K3 | chr17 | + | 21295674 | 21295769 | 21284710 | 21284969 | 21296085 | 21296143 |\n",
       "| 6 | 6 | ENSG00000034152.18 | MAP2K3 | chr17 | + | 21295674 | 21295769 | 21284710 | 21284969 | 21298412 | 21298479 |\n",
       "\n"
      ],
      "text/plain": [
       "  ID GeneID             geneSymbol chr   strand exonStart_0base exonEnd \n",
       "1 1  ENSG00000034152.18 MAP2K3     chr17 +      21287990        21288091\n",
       "2 2  ENSG00000034152.18 MAP2K3     chr17 +      21303182        21303234\n",
       "3 3  ENSG00000034152.18 MAP2K3     chr17 +      21295674        21295769\n",
       "4 4  ENSG00000034152.18 MAP2K3     chr17 +      21295674        21295769\n",
       "5 5  ENSG00000034152.18 MAP2K3     chr17 +      21295674        21295769\n",
       "6 6  ENSG00000034152.18 MAP2K3     chr17 +      21295674        21295769\n",
       "  upstreamES upstreamEE downstreamES downstreamEE\n",
       "1 21284709   21284969   21295674     21295769    \n",
       "2 21302142   21302259   21304425     21304553    \n",
       "3 21287990   21288091   21296085     21296143    \n",
       "4 21287990   21288091   21298412     21298479    \n",
       "5 21284710   21284969   21296085     21296143    \n",
       "6 21284710   21284969   21298412     21298479    "
      ]
     },
     "metadata": {},
     "output_type": "display_data"
    },
    {
     "data": {
      "text/html": [
       "13390"
      ],
      "text/latex": [
       "13390"
      ],
      "text/markdown": [
       "13390"
      ],
      "text/plain": [
       "[1] 13390"
      ]
     },
     "metadata": {},
     "output_type": "display_data"
    },
    {
     "data": {
      "text/plain": [
       "\n",
       " chr1 chr10 chr11 chr12 chr13 chr14 chr15 chr16 chr17 chr18 chr19  chr2 chr20 \n",
       " 3812  1458  2541  2540   663  1551  1544  2039  2538   742  2552  3547   939 \n",
       "chr21 chr22  chr3  chr4  chr5  chr6  chr7  chr8  chr9  chrX  chrY \n",
       "  493   895  2938  1803  1863  1890  2053  1636  1313  1134   127 "
      ]
     },
     "metadata": {},
     "output_type": "display_data"
    },
    {
     "data": {
      "text/plain": [
       "keepAllJunctionsButChrY\n",
       "FALSE  TRUE \n",
       "  127 42484 "
      ]
     },
     "metadata": {},
     "output_type": "display_data"
    },
    {
     "data": {
      "text/html": [
       "42611"
      ],
      "text/latex": [
       "42611"
      ],
      "text/markdown": [
       "42611"
      ],
      "text/plain": [
       "[1] 42611"
      ]
     },
     "metadata": {},
     "output_type": "display_data"
    },
    {
     "data": {
      "text/html": [
       "<style>\n",
       ".list-inline {list-style: none; margin:0; padding: 0}\n",
       ".list-inline>li {display: inline-block}\n",
       ".list-inline>li:not(:last-child)::after {content: \"\\00b7\"; padding: 0 .5ex}\n",
       "</style>\n",
       "<ol class=list-inline><li>42484</li><li>7020</li></ol>\n"
      ],
      "text/latex": [
       "\\begin{enumerate*}\n",
       "\\item 42484\n",
       "\\item 7020\n",
       "\\end{enumerate*}\n"
      ],
      "text/markdown": [
       "1. 42484\n",
       "2. 7020\n",
       "\n",
       "\n"
      ],
      "text/plain": [
       "[1] 42484  7020"
      ]
     },
     "metadata": {},
     "output_type": "display_data"
    },
    {
     "data": {
      "text/html": [
       "<style>\n",
       ".list-inline {list-style: none; margin:0; padding: 0}\n",
       ".list-inline>li {display: inline-block}\n",
       ".list-inline>li:not(:last-child)::after {content: \"\\00b7\"; padding: 0 .5ex}\n",
       "</style>\n",
       "<ol class=list-inline><li>42484</li><li>7020</li></ol>\n"
      ],
      "text/latex": [
       "\\begin{enumerate*}\n",
       "\\item 42484\n",
       "\\item 7020\n",
       "\\end{enumerate*}\n"
      ],
      "text/markdown": [
       "1. 42484\n",
       "2. 7020\n",
       "\n",
       "\n"
      ],
      "text/plain": [
       "[1] 42484  7020"
      ]
     },
     "metadata": {},
     "output_type": "display_data"
    },
    {
     "data": {
      "text/html": [
       "<style>\n",
       ".list-inline {list-style: none; margin:0; padding: 0}\n",
       ".list-inline>li {display: inline-block}\n",
       ".list-inline>li:not(:last-child)::after {content: \"\\00b7\"; padding: 0 .5ex}\n",
       "</style>\n",
       "<ol class=list-inline><li>42484</li><li>11</li></ol>\n"
      ],
      "text/latex": [
       "\\begin{enumerate*}\n",
       "\\item 42484\n",
       "\\item 11\n",
       "\\end{enumerate*}\n"
      ],
      "text/markdown": [
       "1. 42484\n",
       "2. 11\n",
       "\n",
       "\n"
      ],
      "text/plain": [
       "[1] 42484    11"
      ]
     },
     "metadata": {},
     "output_type": "display_data"
    },
    {
     "data": {
      "text/html": [
       "<table>\n",
       "<caption>A matrix: 6 × 7020 of type int</caption>\n",
       "<thead>\n",
       "\t<tr><th></th><th scope=col>SRR821043</th><th scope=col>SRR821050</th><th scope=col>SRR821096</th><th scope=col>SRR821124</th><th scope=col>SRR821148</th><th scope=col>SRR821176</th><th scope=col>SRR821183</th><th scope=col>SRR821207</th><th scope=col>SRR821231</th><th scope=col>SRR821255</th><th scope=col>⋯</th><th scope=col>SRR615838</th><th scope=col>SRR615862</th><th scope=col>SRR615874</th><th scope=col>SRR615886</th><th scope=col>SRR615898</th><th scope=col>SRR615958</th><th scope=col>SRR615970</th><th scope=col>SRR615982</th><th scope=col>SRR617829</th><th scope=col>SRR617841</th></tr>\n",
       "</thead>\n",
       "<tbody>\n",
       "\t<tr><th scope=row>1</th><td>  6</td><td> 0</td><td>  0</td><td>  0</td><td>  0</td><td>  0</td><td>  0</td><td>  0</td><td>  0</td><td>  0</td><td>⋯</td><td> 0</td><td> 0</td><td>  0</td><td> 0</td><td>0</td><td>  0</td><td> 0</td><td>  0</td><td>  1</td><td> 0</td></tr>\n",
       "\t<tr><th scope=row>2</th><td>771</td><td>69</td><td>106</td><td>129</td><td>133</td><td>232</td><td>553</td><td>100</td><td>127</td><td>126</td><td>⋯</td><td>39</td><td>84</td><td>116</td><td>56</td><td>6</td><td>161</td><td>47</td><td>146</td><td>213</td><td>58</td></tr>\n",
       "\t<tr><th scope=row>3</th><td> 15</td><td> 0</td><td>  1</td><td>  0</td><td>  3</td><td>  4</td><td>  2</td><td>  0</td><td>  1</td><td>  1</td><td>⋯</td><td> 0</td><td> 0</td><td>  0</td><td> 1</td><td>0</td><td>  1</td><td> 0</td><td>  0</td><td>  2</td><td> 1</td></tr>\n",
       "\t<tr><th scope=row>4</th><td>  8</td><td> 1</td><td>  0</td><td>  0</td><td>  0</td><td>  0</td><td>  1</td><td>  0</td><td>  1</td><td>  0</td><td>⋯</td><td> 0</td><td> 0</td><td>  0</td><td> 0</td><td>0</td><td>  0</td><td> 0</td><td>  0</td><td>  0</td><td> 0</td></tr>\n",
       "\t<tr><th scope=row>5</th><td> 20</td><td> 0</td><td>  2</td><td>  0</td><td>  5</td><td>  6</td><td>  4</td><td>  0</td><td>  2</td><td>  1</td><td>⋯</td><td> 0</td><td> 0</td><td>  0</td><td> 1</td><td>0</td><td>  1</td><td> 0</td><td>  2</td><td>  2</td><td> 1</td></tr>\n",
       "\t<tr><th scope=row>6</th><td> 13</td><td> 1</td><td>  1</td><td>  0</td><td>  2</td><td>  2</td><td>  3</td><td>  0</td><td>  2</td><td>  0</td><td>⋯</td><td> 0</td><td> 0</td><td>  0</td><td> 0</td><td>0</td><td>  0</td><td> 0</td><td>  2</td><td>  0</td><td> 0</td></tr>\n",
       "</tbody>\n",
       "</table>\n"
      ],
      "text/latex": [
       "A matrix: 6 × 7020 of type int\n",
       "\\begin{tabular}{r|lllllllllllllllllllll}\n",
       "  & SRR821043 & SRR821050 & SRR821096 & SRR821124 & SRR821148 & SRR821176 & SRR821183 & SRR821207 & SRR821231 & SRR821255 & ⋯ & SRR615838 & SRR615862 & SRR615874 & SRR615886 & SRR615898 & SRR615958 & SRR615970 & SRR615982 & SRR617829 & SRR617841\\\\\n",
       "\\hline\n",
       "\t1 &   6 &  0 &   0 &   0 &   0 &   0 &   0 &   0 &   0 &   0 & ⋯ &  0 &  0 &   0 &  0 & 0 &   0 &  0 &   0 &   1 &  0\\\\\n",
       "\t2 & 771 & 69 & 106 & 129 & 133 & 232 & 553 & 100 & 127 & 126 & ⋯ & 39 & 84 & 116 & 56 & 6 & 161 & 47 & 146 & 213 & 58\\\\\n",
       "\t3 &  15 &  0 &   1 &   0 &   3 &   4 &   2 &   0 &   1 &   1 & ⋯ &  0 &  0 &   0 &  1 & 0 &   1 &  0 &   0 &   2 &  1\\\\\n",
       "\t4 &   8 &  1 &   0 &   0 &   0 &   0 &   1 &   0 &   1 &   0 & ⋯ &  0 &  0 &   0 &  0 & 0 &   0 &  0 &   0 &   0 &  0\\\\\n",
       "\t5 &  20 &  0 &   2 &   0 &   5 &   6 &   4 &   0 &   2 &   1 & ⋯ &  0 &  0 &   0 &  1 & 0 &   1 &  0 &   2 &   2 &  1\\\\\n",
       "\t6 &  13 &  1 &   1 &   0 &   2 &   2 &   3 &   0 &   2 &   0 & ⋯ &  0 &  0 &   0 &  0 & 0 &   0 &  0 &   2 &   0 &  0\\\\\n",
       "\\end{tabular}\n"
      ],
      "text/markdown": [
       "\n",
       "A matrix: 6 × 7020 of type int\n",
       "\n",
       "| <!--/--> | SRR821043 | SRR821050 | SRR821096 | SRR821124 | SRR821148 | SRR821176 | SRR821183 | SRR821207 | SRR821231 | SRR821255 | ⋯ | SRR615838 | SRR615862 | SRR615874 | SRR615886 | SRR615898 | SRR615958 | SRR615970 | SRR615982 | SRR617829 | SRR617841 |\n",
       "|---|---|---|---|---|---|---|---|---|---|---|---|---|---|---|---|---|---|---|---|---|---|\n",
       "| 1 |   6 |  0 |   0 |   0 |   0 |   0 |   0 |   0 |   0 |   0 | ⋯ |  0 |  0 |   0 |  0 | 0 |   0 |  0 |   0 |   1 |  0 |\n",
       "| 2 | 771 | 69 | 106 | 129 | 133 | 232 | 553 | 100 | 127 | 126 | ⋯ | 39 | 84 | 116 | 56 | 6 | 161 | 47 | 146 | 213 | 58 |\n",
       "| 3 |  15 |  0 |   1 |   0 |   3 |   4 |   2 |   0 |   1 |   1 | ⋯ |  0 |  0 |   0 |  1 | 0 |   1 |  0 |   0 |   2 |  1 |\n",
       "| 4 |   8 |  1 |   0 |   0 |   0 |   0 |   1 |   0 |   1 |   0 | ⋯ |  0 |  0 |   0 |  0 | 0 |   0 |  0 |   0 |   0 |  0 |\n",
       "| 5 |  20 |  0 |   2 |   0 |   5 |   6 |   4 |   0 |   2 |   1 | ⋯ |  0 |  0 |   0 |  1 | 0 |   1 |  0 |   2 |   2 |  1 |\n",
       "| 6 |  13 |  1 |   1 |   0 |   2 |   2 |   3 |   0 |   2 |   0 | ⋯ |  0 |  0 |   0 |  0 | 0 |   0 |  0 |   2 |   0 |  0 |\n",
       "\n"
      ],
      "text/plain": [
       "  SRR821043 SRR821050 SRR821096 SRR821124 SRR821148 SRR821176 SRR821183\n",
       "1   6        0          0         0         0         0         0      \n",
       "2 771       69        106       129       133       232       553      \n",
       "3  15        0          1         0         3         4         2      \n",
       "4   8        1          0         0         0         0         1      \n",
       "5  20        0          2         0         5         6         4      \n",
       "6  13        1          1         0         2         2         3      \n",
       "  SRR821207 SRR821231 SRR821255 ⋯ SRR615838 SRR615862 SRR615874 SRR615886\n",
       "1   0         0         0       ⋯  0         0          0        0       \n",
       "2 100       127       126       ⋯ 39        84        116       56       \n",
       "3   0         1         1       ⋯  0         0          0        1       \n",
       "4   0         1         0       ⋯  0         0          0        0       \n",
       "5   0         2         1       ⋯  0         0          0        1       \n",
       "6   0         2         0       ⋯  0         0          0        0       \n",
       "  SRR615898 SRR615958 SRR615970 SRR615982 SRR617829 SRR617841\n",
       "1 0           0        0          0         1        0       \n",
       "2 6         161       47        146       213       58       \n",
       "3 0           1        0          0         2        1       \n",
       "4 0           0        0          0         0        0       \n",
       "5 0           1        0          2         2        1       \n",
       "6 0           0        0          2         0        0       "
      ]
     },
     "metadata": {},
     "output_type": "display_data"
    },
    {
     "data": {
      "text/html": [
       "<table>\n",
       "<caption>A data.frame: 6 × 11</caption>\n",
       "<thead>\n",
       "\t<tr><th></th><th scope=col>ID</th><th scope=col>GeneID</th><th scope=col>geneSymbol</th><th scope=col>chr</th><th scope=col>strand</th><th scope=col>exonStart_0base</th><th scope=col>exonEnd</th><th scope=col>upstreamES</th><th scope=col>upstreamEE</th><th scope=col>downstreamES</th><th scope=col>downstreamEE</th></tr>\n",
       "\t<tr><th></th><th scope=col>&lt;int&gt;</th><th scope=col>&lt;fct&gt;</th><th scope=col>&lt;fct&gt;</th><th scope=col>&lt;fct&gt;</th><th scope=col>&lt;fct&gt;</th><th scope=col>&lt;int&gt;</th><th scope=col>&lt;int&gt;</th><th scope=col>&lt;int&gt;</th><th scope=col>&lt;int&gt;</th><th scope=col>&lt;int&gt;</th><th scope=col>&lt;int&gt;</th></tr>\n",
       "</thead>\n",
       "<tbody>\n",
       "\t<tr><th scope=row>1</th><td>1</td><td>ENSG00000034152.18</td><td>MAP2K3</td><td>chr17</td><td>+</td><td>21287990</td><td>21288091</td><td>21284709</td><td>21284969</td><td>21295674</td><td>21295769</td></tr>\n",
       "\t<tr><th scope=row>2</th><td>2</td><td>ENSG00000034152.18</td><td>MAP2K3</td><td>chr17</td><td>+</td><td>21303182</td><td>21303234</td><td>21302142</td><td>21302259</td><td>21304425</td><td>21304553</td></tr>\n",
       "\t<tr><th scope=row>3</th><td>3</td><td>ENSG00000034152.18</td><td>MAP2K3</td><td>chr17</td><td>+</td><td>21295674</td><td>21295769</td><td>21287990</td><td>21288091</td><td>21296085</td><td>21296143</td></tr>\n",
       "\t<tr><th scope=row>4</th><td>4</td><td>ENSG00000034152.18</td><td>MAP2K3</td><td>chr17</td><td>+</td><td>21295674</td><td>21295769</td><td>21287990</td><td>21288091</td><td>21298412</td><td>21298479</td></tr>\n",
       "\t<tr><th scope=row>5</th><td>5</td><td>ENSG00000034152.18</td><td>MAP2K3</td><td>chr17</td><td>+</td><td>21295674</td><td>21295769</td><td>21284710</td><td>21284969</td><td>21296085</td><td>21296143</td></tr>\n",
       "\t<tr><th scope=row>6</th><td>6</td><td>ENSG00000034152.18</td><td>MAP2K3</td><td>chr17</td><td>+</td><td>21295674</td><td>21295769</td><td>21284710</td><td>21284969</td><td>21298412</td><td>21298479</td></tr>\n",
       "</tbody>\n",
       "</table>\n"
      ],
      "text/latex": [
       "A data.frame: 6 × 11\n",
       "\\begin{tabular}{r|lllllllllll}\n",
       "  & ID & GeneID & geneSymbol & chr & strand & exonStart\\_0base & exonEnd & upstreamES & upstreamEE & downstreamES & downstreamEE\\\\\n",
       "  & <int> & <fct> & <fct> & <fct> & <fct> & <int> & <int> & <int> & <int> & <int> & <int>\\\\\n",
       "\\hline\n",
       "\t1 & 1 & ENSG00000034152.18 & MAP2K3 & chr17 & + & 21287990 & 21288091 & 21284709 & 21284969 & 21295674 & 21295769\\\\\n",
       "\t2 & 2 & ENSG00000034152.18 & MAP2K3 & chr17 & + & 21303182 & 21303234 & 21302142 & 21302259 & 21304425 & 21304553\\\\\n",
       "\t3 & 3 & ENSG00000034152.18 & MAP2K3 & chr17 & + & 21295674 & 21295769 & 21287990 & 21288091 & 21296085 & 21296143\\\\\n",
       "\t4 & 4 & ENSG00000034152.18 & MAP2K3 & chr17 & + & 21295674 & 21295769 & 21287990 & 21288091 & 21298412 & 21298479\\\\\n",
       "\t5 & 5 & ENSG00000034152.18 & MAP2K3 & chr17 & + & 21295674 & 21295769 & 21284710 & 21284969 & 21296085 & 21296143\\\\\n",
       "\t6 & 6 & ENSG00000034152.18 & MAP2K3 & chr17 & + & 21295674 & 21295769 & 21284710 & 21284969 & 21298412 & 21298479\\\\\n",
       "\\end{tabular}\n"
      ],
      "text/markdown": [
       "\n",
       "A data.frame: 6 × 11\n",
       "\n",
       "| <!--/--> | ID &lt;int&gt; | GeneID &lt;fct&gt; | geneSymbol &lt;fct&gt; | chr &lt;fct&gt; | strand &lt;fct&gt; | exonStart_0base &lt;int&gt; | exonEnd &lt;int&gt; | upstreamES &lt;int&gt; | upstreamEE &lt;int&gt; | downstreamES &lt;int&gt; | downstreamEE &lt;int&gt; |\n",
       "|---|---|---|---|---|---|---|---|---|---|---|---|\n",
       "| 1 | 1 | ENSG00000034152.18 | MAP2K3 | chr17 | + | 21287990 | 21288091 | 21284709 | 21284969 | 21295674 | 21295769 |\n",
       "| 2 | 2 | ENSG00000034152.18 | MAP2K3 | chr17 | + | 21303182 | 21303234 | 21302142 | 21302259 | 21304425 | 21304553 |\n",
       "| 3 | 3 | ENSG00000034152.18 | MAP2K3 | chr17 | + | 21295674 | 21295769 | 21287990 | 21288091 | 21296085 | 21296143 |\n",
       "| 4 | 4 | ENSG00000034152.18 | MAP2K3 | chr17 | + | 21295674 | 21295769 | 21287990 | 21288091 | 21298412 | 21298479 |\n",
       "| 5 | 5 | ENSG00000034152.18 | MAP2K3 | chr17 | + | 21295674 | 21295769 | 21284710 | 21284969 | 21296085 | 21296143 |\n",
       "| 6 | 6 | ENSG00000034152.18 | MAP2K3 | chr17 | + | 21295674 | 21295769 | 21284710 | 21284969 | 21298412 | 21298479 |\n",
       "\n"
      ],
      "text/plain": [
       "  ID GeneID             geneSymbol chr   strand exonStart_0base exonEnd \n",
       "1 1  ENSG00000034152.18 MAP2K3     chr17 +      21287990        21288091\n",
       "2 2  ENSG00000034152.18 MAP2K3     chr17 +      21303182        21303234\n",
       "3 3  ENSG00000034152.18 MAP2K3     chr17 +      21295674        21295769\n",
       "4 4  ENSG00000034152.18 MAP2K3     chr17 +      21295674        21295769\n",
       "5 5  ENSG00000034152.18 MAP2K3     chr17 +      21295674        21295769\n",
       "6 6  ENSG00000034152.18 MAP2K3     chr17 +      21295674        21295769\n",
       "  upstreamES upstreamEE downstreamES downstreamEE\n",
       "1 21284709   21284969   21295674     21295769    \n",
       "2 21302142   21302259   21304425     21304553    \n",
       "3 21287990   21288091   21296085     21296143    \n",
       "4 21287990   21288091   21298412     21298479    \n",
       "5 21284710   21284969   21296085     21296143    \n",
       "6 21284710   21284969   21298412     21298479    "
      ]
     },
     "metadata": {},
     "output_type": "display_data"
    },
    {
     "data": {
      "text/html": [
       "<table>\n",
       "<caption>A matrix: 6 × 7020 of type int</caption>\n",
       "<thead>\n",
       "\t<tr><th></th><th scope=col>SRR821043</th><th scope=col>SRR821050</th><th scope=col>SRR821096</th><th scope=col>SRR821124</th><th scope=col>SRR821148</th><th scope=col>SRR821176</th><th scope=col>SRR821183</th><th scope=col>SRR821207</th><th scope=col>SRR821231</th><th scope=col>SRR821255</th><th scope=col>⋯</th><th scope=col>SRR615838</th><th scope=col>SRR615862</th><th scope=col>SRR615874</th><th scope=col>SRR615886</th><th scope=col>SRR615898</th><th scope=col>SRR615958</th><th scope=col>SRR615970</th><th scope=col>SRR615982</th><th scope=col>SRR617829</th><th scope=col>SRR617841</th></tr>\n",
       "</thead>\n",
       "<tbody>\n",
       "\t<tr><th scope=row>1</th><td>  5</td><td> 0</td><td> 1</td><td> 0</td><td> 2</td><td> 2</td><td>  2</td><td> 0</td><td> 1</td><td> 0</td><td>⋯</td><td>0</td><td> 0</td><td> 0</td><td> 0</td><td>0</td><td> 0</td><td>0</td><td> 2</td><td> 0</td><td> 0</td></tr>\n",
       "\t<tr><th scope=row>2</th><td>  0</td><td> 0</td><td> 0</td><td> 0</td><td> 0</td><td> 0</td><td>  0</td><td> 0</td><td> 0</td><td> 0</td><td>⋯</td><td>0</td><td> 0</td><td> 0</td><td> 0</td><td>0</td><td> 0</td><td>0</td><td> 0</td><td> 0</td><td> 0</td></tr>\n",
       "\t<tr><th scope=row>3</th><td>  4</td><td> 0</td><td> 0</td><td> 0</td><td> 0</td><td> 0</td><td>  0</td><td> 1</td><td> 0</td><td> 0</td><td>⋯</td><td>0</td><td> 0</td><td> 0</td><td> 0</td><td>0</td><td> 0</td><td>0</td><td> 0</td><td> 0</td><td> 0</td></tr>\n",
       "\t<tr><th scope=row>4</th><td>  9</td><td> 0</td><td> 0</td><td> 0</td><td> 0</td><td> 0</td><td>  1</td><td> 0</td><td> 0</td><td> 0</td><td>⋯</td><td>0</td><td> 0</td><td> 0</td><td> 0</td><td>0</td><td> 0</td><td>0</td><td> 0</td><td> 0</td><td> 1</td></tr>\n",
       "\t<tr><th scope=row>5</th><td> 14</td><td> 3</td><td> 0</td><td> 2</td><td> 4</td><td> 9</td><td> 25</td><td> 0</td><td> 1</td><td> 1</td><td>⋯</td><td>1</td><td> 1</td><td> 1</td><td> 0</td><td>0</td><td> 0</td><td>2</td><td> 3</td><td> 0</td><td> 0</td></tr>\n",
       "\t<tr><th scope=row>6</th><td>223</td><td>26</td><td>37</td><td>28</td><td>19</td><td>58</td><td>155</td><td>34</td><td>33</td><td>41</td><td>⋯</td><td>8</td><td>38</td><td>45</td><td>14</td><td>5</td><td>53</td><td>8</td><td>64</td><td>92</td><td>33</td></tr>\n",
       "</tbody>\n",
       "</table>\n"
      ],
      "text/latex": [
       "A matrix: 6 × 7020 of type int\n",
       "\\begin{tabular}{r|lllllllllllllllllllll}\n",
       "  & SRR821043 & SRR821050 & SRR821096 & SRR821124 & SRR821148 & SRR821176 & SRR821183 & SRR821207 & SRR821231 & SRR821255 & ⋯ & SRR615838 & SRR615862 & SRR615874 & SRR615886 & SRR615898 & SRR615958 & SRR615970 & SRR615982 & SRR617829 & SRR617841\\\\\n",
       "\\hline\n",
       "\t1 &   5 &  0 &  1 &  0 &  2 &  2 &   2 &  0 &  1 &  0 & ⋯ & 0 &  0 &  0 &  0 & 0 &  0 & 0 &  2 &  0 &  0\\\\\n",
       "\t2 &   0 &  0 &  0 &  0 &  0 &  0 &   0 &  0 &  0 &  0 & ⋯ & 0 &  0 &  0 &  0 & 0 &  0 & 0 &  0 &  0 &  0\\\\\n",
       "\t3 &   4 &  0 &  0 &  0 &  0 &  0 &   0 &  1 &  0 &  0 & ⋯ & 0 &  0 &  0 &  0 & 0 &  0 & 0 &  0 &  0 &  0\\\\\n",
       "\t4 &   9 &  0 &  0 &  0 &  0 &  0 &   1 &  0 &  0 &  0 & ⋯ & 0 &  0 &  0 &  0 & 0 &  0 & 0 &  0 &  0 &  1\\\\\n",
       "\t5 &  14 &  3 &  0 &  2 &  4 &  9 &  25 &  0 &  1 &  1 & ⋯ & 1 &  1 &  1 &  0 & 0 &  0 & 2 &  3 &  0 &  0\\\\\n",
       "\t6 & 223 & 26 & 37 & 28 & 19 & 58 & 155 & 34 & 33 & 41 & ⋯ & 8 & 38 & 45 & 14 & 5 & 53 & 8 & 64 & 92 & 33\\\\\n",
       "\\end{tabular}\n"
      ],
      "text/markdown": [
       "\n",
       "A matrix: 6 × 7020 of type int\n",
       "\n",
       "| <!--/--> | SRR821043 | SRR821050 | SRR821096 | SRR821124 | SRR821148 | SRR821176 | SRR821183 | SRR821207 | SRR821231 | SRR821255 | ⋯ | SRR615838 | SRR615862 | SRR615874 | SRR615886 | SRR615898 | SRR615958 | SRR615970 | SRR615982 | SRR617829 | SRR617841 |\n",
       "|---|---|---|---|---|---|---|---|---|---|---|---|---|---|---|---|---|---|---|---|---|---|\n",
       "| 1 |   5 |  0 |  1 |  0 |  2 |  2 |   2 |  0 |  1 |  0 | ⋯ | 0 |  0 |  0 |  0 | 0 |  0 | 0 |  2 |  0 |  0 |\n",
       "| 2 |   0 |  0 |  0 |  0 |  0 |  0 |   0 |  0 |  0 |  0 | ⋯ | 0 |  0 |  0 |  0 | 0 |  0 | 0 |  0 |  0 |  0 |\n",
       "| 3 |   4 |  0 |  0 |  0 |  0 |  0 |   0 |  1 |  0 |  0 | ⋯ | 0 |  0 |  0 |  0 | 0 |  0 | 0 |  0 |  0 |  0 |\n",
       "| 4 |   9 |  0 |  0 |  0 |  0 |  0 |   1 |  0 |  0 |  0 | ⋯ | 0 |  0 |  0 |  0 | 0 |  0 | 0 |  0 |  0 |  1 |\n",
       "| 5 |  14 |  3 |  0 |  2 |  4 |  9 |  25 |  0 |  1 |  1 | ⋯ | 1 |  1 |  1 |  0 | 0 |  0 | 2 |  3 |  0 |  0 |\n",
       "| 6 | 223 | 26 | 37 | 28 | 19 | 58 | 155 | 34 | 33 | 41 | ⋯ | 8 | 38 | 45 | 14 | 5 | 53 | 8 | 64 | 92 | 33 |\n",
       "\n"
      ],
      "text/plain": [
       "  SRR821043 SRR821050 SRR821096 SRR821124 SRR821148 SRR821176 SRR821183\n",
       "1   5        0         1         0         2         2          2      \n",
       "2   0        0         0         0         0         0          0      \n",
       "3   4        0         0         0         0         0          0      \n",
       "4   9        0         0         0         0         0          1      \n",
       "5  14        3         0         2         4         9         25      \n",
       "6 223       26        37        28        19        58        155      \n",
       "  SRR821207 SRR821231 SRR821255 ⋯ SRR615838 SRR615862 SRR615874 SRR615886\n",
       "1  0         1         0        ⋯ 0          0         0         0       \n",
       "2  0         0         0        ⋯ 0          0         0         0       \n",
       "3  1         0         0        ⋯ 0          0         0         0       \n",
       "4  0         0         0        ⋯ 0          0         0         0       \n",
       "5  0         1         1        ⋯ 1          1         1         0       \n",
       "6 34        33        41        ⋯ 8         38        45        14       \n",
       "  SRR615898 SRR615958 SRR615970 SRR615982 SRR617829 SRR617841\n",
       "1 0          0        0          2         0         0       \n",
       "2 0          0        0          0         0         0       \n",
       "3 0          0        0          0         0         0       \n",
       "4 0          0        0          0         0         1       \n",
       "5 0          0        2          3         0         0       \n",
       "6 5         53        8         64        92        33       "
      ]
     },
     "metadata": {},
     "output_type": "display_data"
    }
   ],
   "source": [
    "head(fromGTF.SE)\n",
    "genes <- factor(fromGTF.SE$geneSymbol)\n",
    "length(levels(genes))    \n",
    "\n",
    "table(fromGTF.SE$chr)\n",
    "\n",
    "keepAllJunctionsButChrY <- (fromGTF.SE$chr != \"chrY\")\n",
    "\n",
    "table(keepAllJunctionsButChrY)\n",
    "sum(table(keepAllJunctionsButChrY))\n",
    "\n",
    "fromGTF_no_chrY <- fromGTF.SE[keepAllJunctionsButChrY,]\n",
    "ijc_m_f_no_chrY <- ijc_m_f   [keepAllJunctionsButChrY,]\n",
    "sjc_m_f_no_chrY <- sjc_m_f   [keepAllJunctionsButChrY,]\n",
    "\n",
    "dim(ijc_m_f_no_chrY)\n",
    "dim(sjc_m_f_no_chrY)\n",
    "dim(fromGTF_no_chrY)\n",
    "\n",
    "\n",
    "ijc_m_f_no_chrY <- data.matrix(ijc_m_f_no_chrY)\n",
    "sjc_m_f_no_chrY <- data.matrix(sjc_m_f_no_chrY)\n",
    "\n",
    "rownames(ijc_m_f_no_chrY) <- rownames(fromGTF_no_chrY)\n",
    "rownames(sjc_m_f_no_chrY) <- rownames(fromGTF_no_chrY)\n",
    "\n",
    "head(ijc_m_f_no_chrY)\n",
    "head(fromGTF_no_chrY)\n",
    "head(sjc_m_f_no_chrY)"
   ]
  },
  {
   "cell_type": "markdown",
   "metadata": {},
   "source": [
    "## Exploratory and Differential analysis as_event:ijc, sjc \n",
    "\n",
    "Differential Analysis (DE) was performed using voom (Law et.al., 2014) to transform junction counts (reads that were aligned to junctions when an exon is included - ijc, and reads that were aligned to junctions when the exon is excluded - sjc) with associated precision weights, followed by linear modeling and empirical Bayes procedure using limma.    In each tissue, the following linear regression model was used to detec secually dimorphic alternative splicing event expression: \n",
    "\n",
    "           y = B0 + B1 sex + epsilon (error)\n",
    "           \n",
    "\n",
    "where y is the included exon junction count expression; sex denotes the reported sex of the subject\n",
    "\n",
    "## Differential analysis as_event (combined ijc and sjc)\n",
    "\n",
    "Differential Analysis (DE) was performed using voom (Law et.al., 2014) to transform junction counts (reads that were aligned to junctions when an exon is included - ijc, and reads that were aligned to junctions when the exon is excluded - sjc) with associated precision weights, followed by linear modeling and empirical Bayes procedure using limma.    In each tissue, the following linear regression model was used to detec secually dimorphic alternative splicing event expression: \n",
    "\n",
    "           y = B0 + B1 sex + B2 as_event + B3 sex*as_event + epsilon (error)\n",
    "           \n",
    "\n",
    "where y is the alternative splicing event expression; sex denotes the reported sex of the subject, as_event represents the specific alternative splicing event - either included exon junction counts or skipped exon junction counts and their interaction terms.   Donor is added to our model as a blocking variable used in both the calculation of duplicate correlation as well as in the linear fit.\n",
    "\n",
    "### Voom, limma's lmFit and eBayes\n",
    "\n",
    "Using sample as a blocking variable, we are able to model the effects of the donor on the results, which improves the power.  This topic is discussed in biostars https://www.biostars.org/p/54565/.  And Gordon Smyth answers the question here https://mailman.stat.ethz.ch/pipermail/bioconductor/2014-February/057887.html.  The method of modeling is a random effects approach in which the intra-donor correlation is incorporated into the covariance matrix instead of the linear predictor.   And though as Gordon Smyth states both are good method and the twoway anova approach makes fewer assumptions, the random effects approach is statistically more powerful.  \n",
    "\n",
    "We have a balanced design in which all donors receive all stimuli (which is really in healthy human donors, life and all of its factors!) Our measurement has so many points -- we are measuring in the skipped exon approach, 42,611 junctions!   It is not possible to encorporate those measurements into the linear predictor.  A two-way ANOVA approach is virtually as powerful as the random effects approach \n",
    "and hence is preferable as it makes fewer assumptions.\n",
    "\n",
    "For an unbalanced design in which each donor receives only a subset of the stimula, the random effects approach is more powerful.\n",
    "\n",
    "Random effects approach is equivalent to The first method is twoway anova, a generalization of a paired analysis.\n"
   ]
  },
  {
   "cell_type": "code",
   "execution_count": 16,
   "metadata": {},
   "outputs": [],
   "source": [
    "print_exploratory_plots <- function (tissue_of_interest, fromGTF, tissue_list, ijc, sjc, metadata ) {\n",
    "\n",
    "    fromGTF           <- fromGTF\n",
    "    tissue_true       <- tissue_list == tissue_of_interest\n",
    "\n",
    "    table(tissue_true)\n",
    "    ijc_tissue        <- ijc      [                 ,tissue_true==TRUE]\n",
    "    sjc_tissue        <- sjc      [                 ,tissue_true==TRUE]\n",
    "    metadata_tissue   <- metadata [tissue_true==TRUE,                 ]\n",
    "\n",
    "    ijc.df            <- as.data.frame(ijc_tissue)\n",
    "    sjc.df            <- as.data.frame(sjc_tissue)    \n",
    "    ijc.dm            <- data.matrix(ijc.df)\n",
    "    sjc.dm            <- data.matrix(sjc.df)    \n",
    " \n",
    "    sex       <- factor(metadata_tissue$sex,levels=c('male','female')) \n",
    "    design    <- model.matrix ( ~ sex )\n",
    "    colnames(design) = c(\"intercept\",\"sex\")\n",
    "    head(design)\n",
    "\n",
    "    y_ijc <- DGEList(counts=ijc.dm, group = sex)\n",
    "    y_ijc <- calcNormFactors(y_ijc, method=\"RLE\")\n",
    "    y_ijc_voom <- voom (y_ijc, design=design, plot=TRUE)\n",
    "\n",
    "    fit_ijc <- lmFit(y_ijc_voom, design)\n",
    "    fit_ijc <- eBayes(fit_ijc)\n",
    "\n",
    "    ijc_sex_results                    <- topTable(fit_ijc, coef='sex', number=nrow(y_ijc_voom))\n",
    "    ijc_sex_results_refined            <- ijc_sex_results$adj.P.Val <= 0.05 & abs(ijc_sex_results$logFC) >= abs(log2(1.5))\n",
    "    ijc_sex_rnResults                  <- rownames(ijc_sex_results)\n",
    "    ijc_sex_resultsAnnotations         <- fromGTF[ijc_sex_rnResults,]\n",
    "\n",
    "    ijc_sex_results_refinedAnnotations <- ijc_sex_resultsAnnotations[ijc_sex_results_refined      ==TRUE,]\n",
    "    dim (ijc_sex_results_refinedAnnotations)\n",
    "    head(ijc_sex_results_refinedAnnotations)\n",
    "\n",
    "    # geneSymbols are in the annotations \n",
    "    ijc_sex_geneSymbols               <- ijc_sex_resultsAnnotations$geneSymbol\n",
    "    ijc_sex_refined_geneSymbols       <- ijc_sex_results_refinedAnnotations$geneSymbol\n",
    "    length(ijc_sex_refined_geneSymbols)\n",
    "\n",
    "    # adjust the rownames to be the geneSymbols rather than junction IDs\n",
    "    ijc_sex_results_rn         <- paste(ijc_sex_geneSymbols,       ijc_sex_rnResults, sep=\"-\")\n",
    "    head(ijc_sex_results_rn)\n",
    "    rownames(ijc_sex_results)       <- ijc_sex_results_rn\n",
    "\n",
    "    length(ijc_sex_refined_geneSymbols)\n",
    "    y_sjc <- DGEList(counts=sjc.dm, group = sex)\n",
    "    y_sjc <- calcNormFactors(y_sjc, method=\"RLE\")\n",
    "    y_sjc_voom <- voom (y_sjc, design=design, plot=TRUE)\n",
    "\n",
    "    fit_sjc <- lmFit(y_sjc_voom, design)\n",
    "    fit_sjc <- eBayes(fit_sjc)\n",
    "\n",
    "    sjc_sex_results                    <- topTable(fit_sjc, coef='sex', number=nrow(y_sjc_voom))\n",
    "    sjc_sex_results_refined            <- sjc_sex_results$adj.P.Val <= 0.05 & abs(sjc_sex_results$logFC) >= abs(log2(1.5))\n",
    "    sjc_sex_rnResults                  <- rownames(sjc_sex_results)\n",
    "    sjc_sex_resultsAnnotations         <- fromGTF[sjc_sex_rnResults,]\n",
    "\n",
    "    sjc_sex_results_refinedAnnotations <- sjc_sex_resultsAnnotations[sjc_sex_results_refined      ==TRUE,]\n",
    "    dim (sjc_sex_results_refinedAnnotations)\n",
    "    head(sjc_sex_results_refinedAnnotations)\n",
    "\n",
    "    # geneSymbols are in the annotations \n",
    "    sjc_sex_geneSymbols               <- sjc_sex_resultsAnnotations$geneSymbol\n",
    "    sjc_sex_refined_geneSymbols       <- sjc_sex_results_refinedAnnotations$geneSymbol\n",
    "    length(sjc_sex_refined_geneSymbols)\n",
    "\n",
    "    # adjust the rownames to be the geneSymbols rather than junction IDs\n",
    "    sjc_sex_results_rn         <- paste(sjc_sex_geneSymbols,       sjc_sex_rnResults, sep=\"-\")\n",
    "    head(sjc_sex_results_rn)\n",
    "    rownames(sjc_sex_results)       <- sjc_sex_results_rn\n",
    "\n",
    "    length(sjc_sex_results_refined) \n",
    "   # print these exploratory plots for ijc and sjc alone\n",
    "    Gender <- substring(sex,1,1)\n",
    "    filename <- paste0(paste0(\"../pdf/\", snakecase::to_snake_case(tissue_of_interest)),\"-ijc-MDSplot-100.pdf\")\n",
    "    pdf (filename)\n",
    "        plotMDS(y_ijc, labels=Gender, top=100, col=ifelse(Gender==\"m\",\"blue\",\"red\"), \n",
    "                gene.selection=\"common\")\n",
    "    dev.off()\n",
    "    filename <- paste0(paste0(\"../pdf/\", snakecase::to_snake_case(tissue_of_interest)),\"-ijc-voom-MDSplot-100.pdf\")\n",
    "    pdf (filename)    \n",
    "        plotMDS(y_ijc_voom, labels=Gender, top=100, col=ifelse(Gender==\"m\",\"blue\",\"red\"), \n",
    "                gene.selection=\"common\")\n",
    "    dev.off()\n",
    "\n",
    "    fit_ijc <- lmFit(y_ijc_voom, design)\n",
    "    fit_ijc <- eBayes(fit_ijc)\n",
    "    ijc_sex_results          <- topTable(fit_ijc, coef='sex', number=nrow(y_ijc_voom))\n",
    "    ijc_sex_results_refined  <- ijc_sex_results$adj.P.Val < 0.05 & abs(ijc_sex_results$logFC) > abs(log2(1.5))\n",
    "    ijc_sex_rnResults       <- rownames(ijc_sex_results)\n",
    "\n",
    "    filename <- paste0(paste0(\"../pdf/\", snakecase::to_snake_case(tissue_of_interest)),\"-sjc-MDSplot-100.pdf\")\n",
    "    pdf (filename)\n",
    "           plotMDS(y_sjc, labels=Gender, top=100, col=ifelse(Gender==\"m\",\"blue\",\"red\"), \n",
    "                gene.selection=\"common\")\n",
    "    dev.off()\n",
    "    filename <- paste0(paste0(\"../pdf/\", snakecase::to_snake_case(tissue_of_interest)),\"-sjc-voom-MDSplot-100.pdf\")\n",
    "    pdf (filename)    \n",
    "          plotMDS(y_sjc_voom, labels=Gender, top=100, col=ifelse(Gender==\"m\",\"blue\",\"red\"), \n",
    "                gene.selection=\"common\")\n",
    "    dev.off()\n",
    "        \n",
    "    fit_sjc <- lmFit(y_sjc_voom, design)\n",
    "    fit_sjc <- eBayes(fit_sjc)\n",
    "        \n",
    "    sjc_sex_results            <- topTable(fit_sjc, coef='sex', number=nrow(y_sjc_voom))\n",
    "    sjc_sex_results_refined        <- sjc_sex_results$adj.P.Val <= 0.05 & abs(sjc_sex_results$logFC) >= abs(log2(1.5))\n",
    "    sjc_sex_rnResults                  <- rownames(sjc_sex_results)\n",
    "    sjc_sex_resultsAnnotations         <- fromGTF[sjc_sex_rnResults,]\n",
    "    sjc_sex_results_refinedAnnotations <- sjc_sex_resultsAnnotations[sjc_sex_results_refined ==TRUE,]\n",
    "\n",
    "    head(sjc_sex_resultsAnnotations)\n",
    "    head(sjc_sex_results_refinedAnnotations)\n",
    "\n",
    "    # geneSymbols are in the annotations \n",
    "    sjc_sex_geneSymbols               <- sjc_sex_resultsAnnotations$geneSymbol\n",
    "    sjc_sex_refined_geneSymbols       <- sjc_sex_results_refinedAnnotations$geneSymbol\n",
    "\n",
    "    # adjust the rownames to be the geneSymbols rather than junction IDs\n",
    "    sjc_sex_results_rn         <- paste(sjc_sex_geneSymbols,       sjc_sex_rnResults, sep=\"-\")\n",
    "    head(sjc_sex_results_rn)    \n",
    "    rownames(sjc_sex_results)       <- sjc_sex_results_rn\n",
    "    sjc_sex_filename               = paste0(paste0('../data/',snakecase::to_snake_case(tissue_of_interest)),'_DGE_sjc_sex.csv',sep='')\n",
    "    sjc_sex_refined_filename       = paste0(paste0('../data/',snakecase::to_snake_case(tissue_of_interest)),'_DGE_sjc_sex_refined.csv',sep='')\n",
    "    sjc_sex_genesFilename          = paste0(paste0('../data/',snakecase::to_snake_case(tissue_of_interest)),'_sjc_sex_universe.txt',sep='')\n",
    "    sjc_sex_refined_genesFilename       = paste0(paste0('../data/',snakecase::to_snake_case(tissue_of_interest)),'_sjc_sex_gene_set.txt',sep='')\n",
    "\n",
    "    write.table(sjc_sex_results,            file = sjc_sex_filename      , row.names = T, col.names = T, quote = F, sep = \",\")\n",
    "    write.table(sjc_sex_results [sjc_sex_results_refined      ,], file = sjc_sex_refined_filename      , row.names = T, col.names = T, quote = F, sep = \",\")\n",
    "    write.table(sjc_sex_geneSymbols,        file = sjc_sex_genesFilename        , row.names = F, col.names = F, quote = F, sep = \",\")\n",
    "    write.table(sjc_sex_refined_geneSymbols,file = sjc_sex_refined_genesFilename, row.names = F, col.names = F, quote = F, sep = \",\")\n",
    "    \n",
    "    sample_names <- as.character(colnames(ijc.dm))\n",
    "    # we will add donor as a blocking parameter\n",
    "    # rather than sample name -- we should use donor for real\n",
    "    sample     <- factor(sample_names)\n",
    "    \n",
    "    donor    <- rep(sample, 2)\n",
    "\n",
    "    \n",
    "    ijc_names <- as.character(colnames(ijc.dm))\n",
    "    sjc_names <- as.character(colnames(sjc.dm))\n",
    "    sjc_names <- paste0(sjc_names,\"-sjc\")\n",
    "    ijc_names <- paste0(ijc_names,\"-ijc\")\n",
    "\n",
    "    colnames(ijc.dm) <- ijc_names\n",
    "    colnames(sjc.dm) <- sjc_names\n",
    "\n",
    "    as_matrix <- cbind(ijc.dm,sjc.dm)\n",
    "    sex       <- c(rep(metadata_tissue$sex,2))\n",
    "    sex       <- factor(sex, levels=c('male','female'))\n",
    "    as_event  <- c(rep(\"ijc\",dim(ijc.dm)[2]), rep(\"sjc\", dim(sjc.dm)[2]))\n",
    "    as_event  <- factor(as_event, levels=c(\"ijc\", \"sjc\"))\n",
    "\n",
    "    length(as_event)\n",
    "\n",
    "    design    <- model.matrix( ~ sex + as_event + sex*as_event )\n",
    "\n",
    "    colnames(design) <- c(\"intercept\",\"sex\",\"as_event\",\"sex*as_event\")\n",
    "\n",
    "    dim(as_matrix)\n",
    "    table(sex)\n",
    "    table(as_event)\n",
    "    head(design)\n",
    "\n",
    "    y <- DGEList(counts=as_matrix, group = sex)\n",
    "    y <- calcNormFactors(y, method=\"RLE\")\n",
    "    y_voom <- voom (y, design=design, plot = TRUE)\n",
    "\n",
    "    # for testing comment this out for speed\n",
    "    dup_cor <- duplicateCorrelation(y_voom$E, design=design, ndups=2, block=donor, weights=y$samples$norm.factors)\n",
    "    dup_cor$consensus.correlation \n",
    "    \n",
    "    y_dup_voom <- voom (y, design=design, plot = TRUE, block = donor, correlation = dup_cor$consensus.correlation)\n",
    "    \n",
    "    # print the combined exploratory plot\n",
    "    filename <- paste0(paste0(\"../pdf/\", snakecase::to_snake_case(tissue_of_interest)),\"-y-ijc-MDSplot-100.pdf\")\n",
    "    pdf (filename)\n",
    "        plotMDS(y[,c(1:dim(ijc.dm)[2])], labels=Gender, top=100, col=ifelse(Gender==\"m\",\"blue\",\"red\"), \n",
    "            gene.selection=\"common\")\n",
    "    dev.off()\n",
    "    filename <- paste0(paste0(\"../pdf/\", snakecase::to_snake_case(tissue_of_interest)),\"-y-voom-ijc-MDSplot-100.pdf\")\n",
    "    pdf (filename)\n",
    "        plotMDS(y_voom[,c(1:dim(ijc.dm)[2])], labels=Gender, top=100, col=ifelse(Gender==\"m\",\"blue\",\"red\"), \n",
    "            gene.selection=\"common\")\n",
    "    dev.off()\n",
    "    filename <- paste0(paste0(\"../pdf/\", snakecase::to_snake_case(tissue_of_interest)),\"-y-dup-voom-ijc-MDSplot-100.pdf\")\n",
    "    pdf (filename)\n",
    "        plotMDS(y_dup_voom[,c(1:dim(ijc.dm)[2])], labels=Gender, top=100, col=ifelse(Gender==\"m\",\"blue\",\"red\"), \n",
    "            gene.selection=\"common\")\n",
    "    dev.off()\n",
    "    filename <- paste0(paste0(\"../pdf/\", snakecase::to_snake_case(tissue_of_interest)),\"-y-sjc-MDSplot-100.pdf\")\n",
    "    pdf (filename)\n",
    "        plotMDS(y[,c((dim(ijc.dm)[2]+1)):(dim(ijc.dm)[2]+dim(sjc.dm)[2])], labels=Gender, top=100, col=ifelse(Gender==\"m\",\"blue\",\"red\"), \n",
    "            gene.selection=\"common\")\n",
    "    dev.off()\n",
    "    filename <- paste0(paste0(\"../pdf/\", snakecase::to_snake_case(tissue_of_interest)),\"-y-voom-sjc-MDSplot-100.pdf\")\n",
    "    pdf (filename)\n",
    "        plotMDS(y_voom[,c((dim(ijc.dm)[2]+1)):(dim(ijc.dm)[2]+dim(sjc.dm)[2])], labels=Gender, top=100, col=ifelse(Gender==\"m\",\"blue\",\"red\"), \n",
    "            gene.selection=\"common\")\n",
    "    dev.off()\n",
    "    filename <- paste0(paste0(\"../pdf/\", snakecase::to_snake_case(tissue_of_interest)),\"-y-dup-voom-sjc-MDSplot-100.pdf\")\n",
    "    pdf (filename)\n",
    "        plotMDS(y_dup_voom[,c((dim(ijc.dm)[2]+1)):(dim(ijc.dm)[2]+dim(sjc.dm)[2])], labels=Gender, top=100, col=ifelse(Gender==\"m\",\"blue\",\"red\"), \n",
    "            gene.selection=\"common\")\n",
    "    dev.off()\n",
    "\n",
    "    # for testing comment this out for speed\n",
    "    fit <- lmFit(y_dup_voom, design=design, block=donor, correlation = dup_cor$consensus.correlation)\n",
    "    \n",
    "    # and uncomment this to have the model fit to the design matrix\n",
    "    #    fit <- lmFit(y_voom, design=design)\n",
    "    fit <- eBayes(fit, robust=TRUE)    \n",
    "    \n",
    "    sex_as_events_results         <- topTable(fit, coef=\"sex*as_event\", number=nrow(y_voom))\n",
    "    sex_as_events_results_refined <- sex_as_events_results$adj.P.Val < 0.05 & abs(sex_as_events_results$logFC) > abs(log2(1.5))\n",
    "\n",
    "    sex_results                   <- topTable(fit, coef=\"sex\", number=nrow(y_voom))\n",
    "    sex_results_refined           <- sex_results$adj.P.Val <= 0.05 & abs(sex_results$logFC) >= abs(log2(1.5))\n",
    "\n",
    "    sex_as_events_rnResults <- rownames(sex_as_events_results)\n",
    "    sex_rnResults           <- rownames(sex_results)\n",
    "    head(sex_as_events_rnResults)\n",
    "    head(ijc_sex_rnResults)\n",
    "    head(sex_rnResults)\n",
    "    head(fromGTF[sex_as_events_rnResults,])\n",
    "\n",
    "    # use the junctionIDs to get the annotations\n",
    "    sex_as_events_resultsAnnotations      <- fromGTF[sex_as_events_rnResults,]\n",
    "    sex_resultsAnnotations                <- fromGTF[sex_rnResults,]\n",
    "    ijc_sex_resultsAnnotations            <- fromGTF[ijc_sex_rnResults,]\n",
    "    head(sex_as_events_resultsAnnotations)\n",
    "    head(sex_resultsAnnotations)\n",
    "    head(ijc_sex_resultsAnnotations)\n",
    "    \n",
    "    sex_as_events_results_refinedAnnotations<- sex_as_events_resultsAnnotations[sex_as_events_results_refined==TRUE,]\n",
    "    sex_results_refinedAnnotations          <- sex_resultsAnnotations          [sex_results_refined          ==TRUE,]\n",
    "    ijc_sex_results_refinedAnnotations      <- ijc_sex_resultsAnnotations      [ijc_sex_results_refined      ==TRUE,]\n",
    "    head(sex_as_events_results_refinedAnnotations)\n",
    "    head(sex_results_refinedAnnotations)\n",
    "    head(ijc_sex_results_refinedAnnotations)\n",
    "\n",
    "    # geneSymbols are in the annotations \n",
    "    sex_as_events_geneSymbols         <- sex_as_events_resultsAnnotations$geneSymbol\n",
    "    sex_geneSymbols                   <- sex_resultsAnnotations$geneSymbol\n",
    "    ijc_sex_geneSymbols               <- ijc_sex_resultsAnnotations$geneSymbol\n",
    "\n",
    "    sex_as_events_refined_geneSymbols <- sex_as_events_results_refinedAnnotations$geneSymbol\n",
    "    sex_refined_geneSymbols           <- sex_results_refinedAnnotations$geneSymbol\n",
    "    ijc_sex_refined_geneSymbols       <- ijc_sex_results_refinedAnnotations$geneSymbol\n",
    "\n",
    "    # adjust the rownames to be the geneSymbols rather than junction IDs\n",
    "    sex_as_events_results_rn   <- paste(sex_as_events_geneSymbols, sex_as_events_rnResults, sep=\"-\")\n",
    "    sex_results_rn             <- paste(sex_geneSymbols,           sex_rnResults, sep=\"-\")\n",
    "    ijc_sex_results_rn         <- paste(ijc_sex_geneSymbols,       ijc_sex_rnResults, sep=\"-\")\n",
    "    head(sex_as_events_results_rn)\n",
    "    head(sex_results_rn)\n",
    "    head(ijc_sex_results_rn)\n",
    "    rownames(sex_as_events_results) <- sex_as_events_results_rn\n",
    "    rownames(sex_results)           <- sex_results_rn\n",
    "    rownames(ijc_sex_results)       <- ijc_sex_results_rn\n",
    "    \n",
    "    sex_as_events_filename         = paste0(paste0('../data/',snakecase::to_snake_case(tissue_of_interest)),'_DGE_sex_as_events.csv')\n",
    "    sex_filename                   = paste0(paste0('../data/',snakecase::to_snake_case(tissue_of_interest)),'_DGE_sex.csv',sep='')\n",
    "    ijc_sex_filename               = paste0(paste0('../data/',snakecase::to_snake_case(tissue_of_interest)),'_DGE_ijc_sex.csv',sep='')\n",
    "\n",
    "    sex_as_events_refined_filename = paste0(paste0('../data/',snakecase::to_snake_case(tissue_of_interest)),'_DGE_sex_as_events_refined.csv',sep='')\n",
    "    sex_refined_filename           = paste0(paste0('../data/',snakecase::to_snake_case(tissue_of_interest)),'_DGE_sex_refined.csv',sep='')\n",
    "    ijc_sex_refined_filename       = paste0(paste0('../data/',snakecase::to_snake_case(tissue_of_interest)),'_DGE_ijc_sex_refined.csv',sep='')\n",
    "\n",
    "    sex_as_events_genesFilename    = paste0(paste0('../data/',snakecase::to_snake_case(tissue_of_interest)),'_sex_as_events_universe.txt',sep='')\n",
    "    sex_genesFilename              = paste0(paste0('../data/',snakecase::to_snake_case(tissue_of_interest)),'_sex_universe.txt',sep='')\n",
    "    ijc_sex_genesFilename          = paste0(paste0('../data/',snakecase::to_snake_case(tissue_of_interest)),'_ijc_sex_universe.txt',sep='')\n",
    "\n",
    "    sex_as_events_refined_genesFilename = paste0(paste0('../data/',snakecase::to_snake_case(tissue_of_interest)),'_sex_as_events_gene_set.txt',sep='')\n",
    "    sex_refined_genesFilename           = paste0(paste0('../data/',snakecase::to_snake_case(tissue_of_interest)),'_sex_gene_set.txt',sep='')\n",
    "    ijc_sex_refined_genesFilename       = paste0(paste0('../data/',snakecase::to_snake_case(tissue_of_interest)),'_ijc_sex_gene_set.txt',sep='')\n",
    "\n",
    "    write.table(sex_as_events_results, file = sex_as_events_filename, row.names = T, col.names = T, quote = F, sep = \",\")\n",
    "    write.table(sex_results,           file = sex_filename          , row.names = T, col.names = T, quote = F, sep = \",\")\n",
    "    write.table(ijc_sex_results,       file = ijc_sex_filename      , row.names = T, col.names = T, quote = F, sep = \",\")\n",
    "\n",
    "    write.table(sex_as_events_results[sex_as_events_results_refined,], file = sex_as_events_refined_filename, row.names = T, col.names = T, quote = F, sep = \",\")\n",
    "    write.table(sex_results          [sex_results_refined          ,], file = sex_refined_filename          , row.names = T, col.names = T, quote = F, sep = \",\")\n",
    "    write.table(ijc_sex_results      [ijc_sex_results_refined      ,], file = ijc_sex_refined_filename      , row.names = T, col.names = T, quote = F, sep = \",\")\n",
    "\n",
    "    write.table(sex_as_events_geneSymbols, file = sex_as_events_genesFilename, row.names = F, col.names = F, quote = F, sep = \",\")\n",
    "    write.table(sex_geneSymbols,           file = sex_genesFilename          , row.names = F, col.names = F, quote = F, sep = \",\")\n",
    "    write.table(ijc_sex_geneSymbols,       file = ijc_sex_genesFilename      , row.names = F, col.names = F, quote = F, sep = \",\")\n",
    "\n",
    "    write.table(sex_as_events_refined_geneSymbols,file = sex_as_events_refined_genesFilename, row.names = F, col.names = F, quote = F, sep = \",\")\n",
    "    write.table(sex_refined_geneSymbols,          file = sex_refined_genesFilename          , row.names = F, col.names = F, quote = F, sep = \",\")\n",
    "    write.table(ijc_sex_refined_geneSymbols,      file = ijc_sex_refined_genesFilename      , row.names = F, col.names = F, quote = F, sep = \",\")\n",
    "\n",
    "    return(0)\n",
    "}"
   ]
  },
  {
   "cell_type": "code",
   "execution_count": null,
   "metadata": {},
   "outputs": [],
   "source": [
    "# tissue_index -- enables this to run as a NextFlow notebook\n",
    "\n",
    "cat(levels(tissue_list_m_f),sep=\"\\n\")\n",
    "\n",
    "actual_tissue_list_m_f = levels(tissue_list_m_f)\n",
    "tissue_of_interest = actual_tissue_list_m_f[tissue_index]\n",
    "tissue_of_interest\n",
    "length(actual_tissue_list_m_f)\n",
    "length(tissue_list_m_f)\n",
    "\n",
    "dim(ijc_m_f_no_chrY)\n",
    "dim(sjc_m_f_no_chrY)\n",
    "dim(metadata_m_f)\n",
    "dim(fromGTF_no_chrY)\n",
    "\n",
    "print_exploratory_plots (tissue_of_interest, \n",
    "                         fromGTF_no_chrY, \n",
    "                         tissue_list_m_f, \n",
    "                         ijc_m_f_no_chrY, \n",
    "                         sjc_m_f_no_chrY, \n",
    "                         metadata_m_f )\n"
   ]
  },
  {
   "cell_type": "markdown",
   "metadata": {},
   "source": [
    "## Metadata\n",
    "\n",
    "For replicability and reproducibility purposes, we also print the following metadata:\n",
    "\n",
    "1. Checksums of **'artefacts'**, files generated during the analysis and stored in the folder directory **`data`**\n",
    "2. List of environment metadata, dependencies, versions of libraries using `utils::sessionInfo()` and [`devtools::session_info()`](https://devtools.r-lib.org/reference/session_info.html)"
   ]
  },
  {
   "cell_type": "markdown",
   "metadata": {},
   "source": [
    "### 1. Checksums with the sha256 algorithm"
   ]
  },
  {
   "cell_type": "code",
   "execution_count": 17,
   "metadata": {},
   "outputs": [
    {
     "name": "stderr",
     "output_type": "stream",
     "text": [
      "Warning message in rm(notebookid):\n",
      "“object 'notebookid' not found”"
     ]
    },
    {
     "data": {
      "text/html": [
       "'AllTissueJunctionAnalysis'"
      ],
      "text/latex": [
       "'AllTissueJunctionAnalysis'"
      ],
      "text/markdown": [
       "'AllTissueJunctionAnalysis'"
      ],
      "text/plain": [
       "[1] \"AllTissueJunctionAnalysis\""
      ]
     },
     "metadata": {},
     "output_type": "display_data"
    },
    {
     "name": "stderr",
     "output_type": "stream",
     "text": [
      "Generating sha256 checksums of the artefacts in the `..data/` directory .. \n"
     ]
    },
    {
     "data": {
      "text/html": [],
      "text/latex": [],
      "text/markdown": [],
      "text/plain": [
       "character(0)"
      ]
     },
     "metadata": {},
     "output_type": "display_data"
    },
    {
     "name": "stderr",
     "output_type": "stream",
     "text": [
      "Done!\n",
      "\n"
     ]
    },
    {
     "data": {
      "text/html": [
       "'../metadata/AllTissueJunctionAnalysis_sha256sums.txt'"
      ],
      "text/latex": [
       "'../metadata/AllTissueJunctionAnalysis\\_sha256sums.txt'"
      ],
      "text/markdown": [
       "'../metadata/AllTissueJunctionAnalysis_sha256sums.txt'"
      ],
      "text/plain": [
       "[1] \"../metadata/AllTissueJunctionAnalysis_sha256sums.txt\""
      ]
     },
     "metadata": {},
     "output_type": "display_data"
    },
    {
     "data": {
      "text/html": [
       "<table>\n",
       "<caption>A data.table: 322 × 2</caption>\n",
       "<thead>\n",
       "\t<tr><th scope=col>sha256sum</th><th scope=col>file</th></tr>\n",
       "\t<tr><th scope=col>&lt;chr&gt;</th><th scope=col>&lt;chr&gt;</th></tr>\n",
       "</thead>\n",
       "<tbody>\n",
       "\t<tr><td>96daa446074412dab4e28f9d4af790456bbd3f59ed5f37e043f5600acdcc89dd</td><td>./liver_DGE.csv                                                              </td></tr>\n",
       "\t<tr><td>d62cc9495ebc2198e8130fe5dc2d6924760125e938e6681cc01277310bd64438</td><td>./esophagus_muscularis_DGE.csv                                               </td></tr>\n",
       "\t<tr><td>a2ff5b941eaa7dc16c9f26e73d068108d7fc30bb33ee99bd7f5844623061577d</td><td>./signif_small_intestine_terminal_ileum.csv                                  </td></tr>\n",
       "\t<tr><td>05443ccebf5061786b851d4fe140c81c6b0dfbde84cefb489340233ce643c84c</td><td>./pituitary_DGE_refined.csv                                                  </td></tr>\n",
       "\t<tr><td>e2f4f8e3ac9759572734c0fef7bb9008579624b95a772802324505ff30cad1bb</td><td>./brain_cortex_DGE_refined.csv                                               </td></tr>\n",
       "\t<tr><td>4f9c37e667fd691c619d395ffc8e3ff10e4d2f5beefd3912457a36eb2478ff15</td><td>./reduced_metadata_pData.csv                                                 </td></tr>\n",
       "\t<tr><td>e514fd85f1b8025081699419761bb2813178f7143849a078b24ed36b8b37ff7a</td><td>./39_diff_splicing_tissues_with_header.csv                                   </td></tr>\n",
       "\t<tr><td>0f93f085571e67da7dfed0904901e3abd154005d418c2601fa85ddb67814b7d6</td><td>./results_dge_ijc_sex.tar.gz                                                 </td></tr>\n",
       "\t<tr><td>980916646b8ab2a549129f8cc40cc87749629cf842b85dccefbe1e5f5506c152</td><td>./whole_blood_DGE_refined.csv                                                </td></tr>\n",
       "\t<tr><td>1f71077dd830f813590cb19736c99260edbb792ff8391cc2ccc01b39f042b2c3</td><td>./heart_atrial_appendage_DGE.csv                                             </td></tr>\n",
       "\t<tr><td>16aac51ddc560698b4ce7a1d64d3f974c323f1c981c684bf79e5aac52b59b273</td><td>./signif_brain_nucleus_accumbens_basal_ganglia.csv                           </td></tr>\n",
       "\t<tr><td>6d14401ba51e79ca840bcc7efed0e2c940543be82454b442b9d1186a8dd6b398</td><td>./signif_brain_anteriorcingulatecortex_ba_24.csv                             </td></tr>\n",
       "\t<tr><td>354f4f558d85edc8c25c82d7d37cc575b453587620d6dc38371d4c166015ee47</td><td>./pData_yarn_downloadGTExV8.csv                                              </td></tr>\n",
       "\t<tr><td>1e7beb6d7041522d9f7041ce35e64416c0d0ae8de85bd7df1428e32cf7bc490c</td><td>./heart_atrial_appendage_DGE_refined.csv                                     </td></tr>\n",
       "\t<tr><td>2c73b7b108fec60b9c37e8545b8ac9a3174a502b09cfbfd3e2a8c2e486691a74</td><td>./s.signif.wc.l.txt                                                          </td></tr>\n",
       "\t<tr><td>e514fd85f1b8025081699419761bb2813178f7143849a078b24ed36b8b37ff7a</td><td>./.ipynb_checkpoints/39_diff_splicing_tissues_with_header-checkpoint.csv     </td></tr>\n",
       "\t<tr><td>13b5d324225e225557271ca1015c51aebd16c4f9cb344bd2b39ac5dfa44ee70a</td><td>./.ipynb_checkpoints/reduced_metadata_pData-checkpoint.csv                   </td></tr>\n",
       "\t<tr><td>a0789519aed2cae102dea940f3590b0f4862d656f46c5b905d33430efda13317</td><td>./.ipynb_checkpoints/breast_mammary_tissue_DGE_sjc_sex_refined-checkpoint.csv</td></tr>\n",
       "\t<tr><td>dda898c0ad2f0d5f2e72fc0f3ef56f60e85c0f17fac9360d2f1ace4793b447db</td><td>./artery_tibial_DGE.csv                                                      </td></tr>\n",
       "\t<tr><td>1ff589f7444e480451277054ce40bc4f9df92f37b42f6234c56eacdeafa12959</td><td>./signif_minor_salivary_gland.csv                                            </td></tr>\n",
       "\t<tr><td>0f73717a21f1c0e7240bb2b91777b2cb350a995d6f5bbfddd4fe2d531123b70d</td><td>./brain_spinal_cord_cervical_c_1_DGE_refined.csv                             </td></tr>\n",
       "\t<tr><td>7e826ad51b703393fece7da1609e3e8b60c19eb0363c948e5312dc0cb44373cc</td><td>./signif_thyroid.csv                                                         </td></tr>\n",
       "\t<tr><td>d869c937b22f42537a51c54b43b13abe5b71a967d6da6f5010941b70cc8bbd8e</td><td>./signif_adrenal_gland.csv                                                   </td></tr>\n",
       "\t<tr><td>28764f9f1e0f14e399d555e448b5490c7221454e7d34d220f79b537376ca017b</td><td>./fromGTF.novelEvents.SE.txt                                                 </td></tr>\n",
       "\t<tr><td>de491052a021e91b37ea3bafc44d341c0d8fd285650dfd8f3d9a9d829624bf3b</td><td>./SraRunTable.txt                                                            </td></tr>\n",
       "\t<tr><td>9b676639be6d66a422f1ccd0d501b593b6c3d3bd0ffcc09aeebe812537438e0c</td><td>./pancreas_DGE_refined.csv                                                   </td></tr>\n",
       "\t<tr><td>5197e6ac823d2b39d818a0c4398c1542d5af5414da02a29087110ca83d41336c</td><td>./signif_skin_sun_exposed_lower_leg.csv                                      </td></tr>\n",
       "\t<tr><td>0e853560082bd374c973ce5784c5272d3d4e9fd1ec3fb2f649ebd05ea0456ec3</td><td>./signif_artery_aorta.csv                                                    </td></tr>\n",
       "\t<tr><td>8cdd9cae214fbbceabedf093da460f178ebe66fbfb912589d24842e99a012a6a</td><td>./signif_artery_coronary.csv                                                 </td></tr>\n",
       "\t<tr><td>b44273041d018ecdbc6f79dec871fa865e144a3fee54ee1e4eaed7ef592ce92f</td><td>./gencode.v30.annotation.gtf.gz                                              </td></tr>\n",
       "\t<tr><td>⋮</td><td>⋮</td></tr>\n",
       "\t<tr><td>3143d4c6ff9a4c607b435ef7cc2a5246ff35b23a9641acc97b4ee454cc922be5</td><td>./results_dge_ijc_sex/minor_salivary_gland_DGE_ijc_sex.csv</td></tr>\n",
       "\t<tr><td>3bde28646acb28bc87cfd10316b76e8d5de06c24c473be2af9eb2df2c514e153</td><td>./results_dge_ijc_sex/artery_tibial_DGE_ijc_sex.csv       </td></tr>\n",
       "\t<tr><td>6e3f1d335ce05c887363d092b0100b9f3603a964c8fe6e8c20f4c547b4f52280</td><td>./fromGTF.novelEvents.MXE.txt                             </td></tr>\n",
       "\t<tr><td>66fdc15475367c7e8e3c55745a3eb4090d1c3eda2e4d1ff428e1759b5b841108</td><td>./colon_transverse_DGE.csv                                </td></tr>\n",
       "\t<tr><td>80422bb2236de706781ed416f6660ffaa123979a814a8539a7d26f1ff63e132e</td><td>./signif_esophagus_muscularis.csv                         </td></tr>\n",
       "\t<tr><td>51c8250a1796196e3879d88186c5450e5b5efc1e9f3fa578f388e9ff380e2deb</td><td>./fromGTF.A3SS.txt                                        </td></tr>\n",
       "\t<tr><td>4967c2fed867a9a5db8d470f4fd72d73c4bf178cfd3b2901d761d7359eceeff2</td><td>./cells_ebv_transformed_lymphocytes_DGE_refined.csv       </td></tr>\n",
       "\t<tr><td>383fd038795c22251be60beef3a7aaa118e673da7ca1c802437a3429a47ec4e7</td><td>./breast_mammary_tissue_sex_universe.txt                  </td></tr>\n",
       "\t<tr><td>91040ad22bedaaea60e4f6a255cdb4c04e44abaf154d2491d898092cb43c4e1f</td><td>./breast_mammary_tissue_DGE_refined.csv                   </td></tr>\n",
       "\t<tr><td>464ab6edf68532b9bd7cf9696e2a52f0f5d119323030388b8ab112ccfad6557c</td><td>./signif_brain_hippocampus.csv                            </td></tr>\n",
       "\t<tr><td>bbba2ab754fff3e50968eea03eeffcad1932a1444ebe7af170b385b196c610cf</td><td>./diff_spliced.tar.gz                                     </td></tr>\n",
       "\t<tr><td>1f0b33124459f90a9d1753d21019efdddde68c49f895c21d7b5c8be4d650b142</td><td>./esophagus_gastroesophageal_junction_DGE.csv             </td></tr>\n",
       "\t<tr><td>ba8dc6161f540070fe7a9d8bebe830e4fcb28af765874726569bd2ede2c9da8c</td><td>./signif_brain_cerebellar_hemisphere.csv                  </td></tr>\n",
       "\t<tr><td>36c95414bdca564011c5cab658b9da91bfe42730df3f7c3e2b2ffe62d7424139</td><td>./signif_nerve_tibial.csv                                 </td></tr>\n",
       "\t<tr><td>2f58ce060684ccfb1c6a42f61c2ec83ed815b31169cefbe48e4ac50e90e2a166</td><td>./nerve_tibial_DGE.csv                                    </td></tr>\n",
       "\t<tr><td>b911678a34410857388b837345f6b38cc3238b059efae77cdbbb690e4a21f0c4</td><td>./gencode.v30.chr_patch_hapl_scaff.annotation.gtf.gz      </td></tr>\n",
       "\t<tr><td>457d15c58a14b35341b8fb82682c33c23b904b1832a516467a829fbde9066791</td><td>./breast_mammary_tissue_sjc_sex_gene_set.txt              </td></tr>\n",
       "\t<tr><td>7a4712abd5c3531bbf84d503352621481a780771b86ba75ed8b4e003794df0e6</td><td>./signif_brain_putamen_basalganglia.csv                   </td></tr>\n",
       "\t<tr><td>84be598758a7988b866306a827fc09927e8c7d5ee090fdefc2f2356a40ad85de</td><td>./stomach_DGE.csv                                         </td></tr>\n",
       "\t<tr><td>8530529524dbe6b3dc6db0bff73a6e88d6c72c4695ac2a82cb32a4751ef416c5</td><td>./nerve_tibial_DGE_refined.csv                            </td></tr>\n",
       "\t<tr><td>bdc11873abb9b9a648322dd18deac53eff99773c2b7e1b42aa99bce5556a8255</td><td>./signif_skin_sun_exposed_lowerleg.csv                    </td></tr>\n",
       "\t<tr><td>3cb7232e427928848f04527dda7d34f044d8d29a951d26ac1a00832ddcb2db05</td><td>./brain_hypothalamus_DGE_refined.csv                      </td></tr>\n",
       "\t<tr><td>eebe0716bb2e263340c5c49032b88a67c3fa2ba2fd9d364d9f11bcad29bc21aa</td><td>./signif_colon_transverse.csv                             </td></tr>\n",
       "\t<tr><td>fc7a308c75b772c3cecfad326e02eb70cd210e73e3a1b2c4e319669f77324138</td><td>./esophagus_gastroesophageal_junction_DGE_refined.csv     </td></tr>\n",
       "\t<tr><td>02b472b46bc8601bad2f6b813d7893aa4f1f04672bfa23fb526638a596b87169</td><td>./stomach_DGE_refined.csv                                 </td></tr>\n",
       "\t<tr><td>49851cecfea3cbea6fe8e5beb811a5df04ac1d785d07e2d65fbc80429c0af507</td><td>./cells_cultured_fibroblasts_DGE_refined.csv              </td></tr>\n",
       "\t<tr><td>e4f9f51c3f8e00569a043ae8ab93cf98d1d24b6d09cecfe7bcb7d5b2564c84e5</td><td>./small_intestine_terminal_ileum_DGE_refined.csv          </td></tr>\n",
       "\t<tr><td>ad03c10dd9f9b02cca3e66a1afee0d2fee30abf79b3ff058a5f96fc8af21a312</td><td>./Homo_sapiens.GRCh38.100.chr_patch_hapl_scaff.gtf.gz.txt </td></tr>\n",
       "\t<tr><td>dd81f708c532af9f84bba19d09068bf17ea03eb846db7ab1b3cc6ba24deaad99</td><td>./lung_DGE.csv                                            </td></tr>\n",
       "\t<tr><td>8291be77c7ad6cd73d9f7797658e3f1ffc197532a23385a85911ca4d4db13483</td><td>./SraRunTable.txt.gz                                      </td></tr>\n",
       "</tbody>\n",
       "</table>\n"
      ],
      "text/latex": [
       "A data.table: 322 × 2\n",
       "\\begin{tabular}{ll}\n",
       " sha256sum & file\\\\\n",
       " <chr> & <chr>\\\\\n",
       "\\hline\n",
       "\t 96daa446074412dab4e28f9d4af790456bbd3f59ed5f37e043f5600acdcc89dd & ./liver\\_DGE.csv                                                              \\\\\n",
       "\t d62cc9495ebc2198e8130fe5dc2d6924760125e938e6681cc01277310bd64438 & ./esophagus\\_muscularis\\_DGE.csv                                               \\\\\n",
       "\t a2ff5b941eaa7dc16c9f26e73d068108d7fc30bb33ee99bd7f5844623061577d & ./signif\\_small\\_intestine\\_terminal\\_ileum.csv                                  \\\\\n",
       "\t 05443ccebf5061786b851d4fe140c81c6b0dfbde84cefb489340233ce643c84c & ./pituitary\\_DGE\\_refined.csv                                                  \\\\\n",
       "\t e2f4f8e3ac9759572734c0fef7bb9008579624b95a772802324505ff30cad1bb & ./brain\\_cortex\\_DGE\\_refined.csv                                               \\\\\n",
       "\t 4f9c37e667fd691c619d395ffc8e3ff10e4d2f5beefd3912457a36eb2478ff15 & ./reduced\\_metadata\\_pData.csv                                                 \\\\\n",
       "\t e514fd85f1b8025081699419761bb2813178f7143849a078b24ed36b8b37ff7a & ./39\\_diff\\_splicing\\_tissues\\_with\\_header.csv                                   \\\\\n",
       "\t 0f93f085571e67da7dfed0904901e3abd154005d418c2601fa85ddb67814b7d6 & ./results\\_dge\\_ijc\\_sex.tar.gz                                                 \\\\\n",
       "\t 980916646b8ab2a549129f8cc40cc87749629cf842b85dccefbe1e5f5506c152 & ./whole\\_blood\\_DGE\\_refined.csv                                                \\\\\n",
       "\t 1f71077dd830f813590cb19736c99260edbb792ff8391cc2ccc01b39f042b2c3 & ./heart\\_atrial\\_appendage\\_DGE.csv                                             \\\\\n",
       "\t 16aac51ddc560698b4ce7a1d64d3f974c323f1c981c684bf79e5aac52b59b273 & ./signif\\_brain\\_nucleus\\_accumbens\\_basal\\_ganglia.csv                           \\\\\n",
       "\t 6d14401ba51e79ca840bcc7efed0e2c940543be82454b442b9d1186a8dd6b398 & ./signif\\_brain\\_anteriorcingulatecortex\\_ba\\_24.csv                             \\\\\n",
       "\t 354f4f558d85edc8c25c82d7d37cc575b453587620d6dc38371d4c166015ee47 & ./pData\\_yarn\\_downloadGTExV8.csv                                              \\\\\n",
       "\t 1e7beb6d7041522d9f7041ce35e64416c0d0ae8de85bd7df1428e32cf7bc490c & ./heart\\_atrial\\_appendage\\_DGE\\_refined.csv                                     \\\\\n",
       "\t 2c73b7b108fec60b9c37e8545b8ac9a3174a502b09cfbfd3e2a8c2e486691a74 & ./s.signif.wc.l.txt                                                          \\\\\n",
       "\t e514fd85f1b8025081699419761bb2813178f7143849a078b24ed36b8b37ff7a & ./.ipynb\\_checkpoints/39\\_diff\\_splicing\\_tissues\\_with\\_header-checkpoint.csv     \\\\\n",
       "\t 13b5d324225e225557271ca1015c51aebd16c4f9cb344bd2b39ac5dfa44ee70a & ./.ipynb\\_checkpoints/reduced\\_metadata\\_pData-checkpoint.csv                   \\\\\n",
       "\t a0789519aed2cae102dea940f3590b0f4862d656f46c5b905d33430efda13317 & ./.ipynb\\_checkpoints/breast\\_mammary\\_tissue\\_DGE\\_sjc\\_sex\\_refined-checkpoint.csv\\\\\n",
       "\t dda898c0ad2f0d5f2e72fc0f3ef56f60e85c0f17fac9360d2f1ace4793b447db & ./artery\\_tibial\\_DGE.csv                                                      \\\\\n",
       "\t 1ff589f7444e480451277054ce40bc4f9df92f37b42f6234c56eacdeafa12959 & ./signif\\_minor\\_salivary\\_gland.csv                                            \\\\\n",
       "\t 0f73717a21f1c0e7240bb2b91777b2cb350a995d6f5bbfddd4fe2d531123b70d & ./brain\\_spinal\\_cord\\_cervical\\_c\\_1\\_DGE\\_refined.csv                             \\\\\n",
       "\t 7e826ad51b703393fece7da1609e3e8b60c19eb0363c948e5312dc0cb44373cc & ./signif\\_thyroid.csv                                                         \\\\\n",
       "\t d869c937b22f42537a51c54b43b13abe5b71a967d6da6f5010941b70cc8bbd8e & ./signif\\_adrenal\\_gland.csv                                                   \\\\\n",
       "\t 28764f9f1e0f14e399d555e448b5490c7221454e7d34d220f79b537376ca017b & ./fromGTF.novelEvents.SE.txt                                                 \\\\\n",
       "\t de491052a021e91b37ea3bafc44d341c0d8fd285650dfd8f3d9a9d829624bf3b & ./SraRunTable.txt                                                            \\\\\n",
       "\t 9b676639be6d66a422f1ccd0d501b593b6c3d3bd0ffcc09aeebe812537438e0c & ./pancreas\\_DGE\\_refined.csv                                                   \\\\\n",
       "\t 5197e6ac823d2b39d818a0c4398c1542d5af5414da02a29087110ca83d41336c & ./signif\\_skin\\_sun\\_exposed\\_lower\\_leg.csv                                      \\\\\n",
       "\t 0e853560082bd374c973ce5784c5272d3d4e9fd1ec3fb2f649ebd05ea0456ec3 & ./signif\\_artery\\_aorta.csv                                                    \\\\\n",
       "\t 8cdd9cae214fbbceabedf093da460f178ebe66fbfb912589d24842e99a012a6a & ./signif\\_artery\\_coronary.csv                                                 \\\\\n",
       "\t b44273041d018ecdbc6f79dec871fa865e144a3fee54ee1e4eaed7ef592ce92f & ./gencode.v30.annotation.gtf.gz                                              \\\\\n",
       "\t ⋮ & ⋮\\\\\n",
       "\t 3143d4c6ff9a4c607b435ef7cc2a5246ff35b23a9641acc97b4ee454cc922be5 & ./results\\_dge\\_ijc\\_sex/minor\\_salivary\\_gland\\_DGE\\_ijc\\_sex.csv\\\\\n",
       "\t 3bde28646acb28bc87cfd10316b76e8d5de06c24c473be2af9eb2df2c514e153 & ./results\\_dge\\_ijc\\_sex/artery\\_tibial\\_DGE\\_ijc\\_sex.csv       \\\\\n",
       "\t 6e3f1d335ce05c887363d092b0100b9f3603a964c8fe6e8c20f4c547b4f52280 & ./fromGTF.novelEvents.MXE.txt                             \\\\\n",
       "\t 66fdc15475367c7e8e3c55745a3eb4090d1c3eda2e4d1ff428e1759b5b841108 & ./colon\\_transverse\\_DGE.csv                                \\\\\n",
       "\t 80422bb2236de706781ed416f6660ffaa123979a814a8539a7d26f1ff63e132e & ./signif\\_esophagus\\_muscularis.csv                         \\\\\n",
       "\t 51c8250a1796196e3879d88186c5450e5b5efc1e9f3fa578f388e9ff380e2deb & ./fromGTF.A3SS.txt                                        \\\\\n",
       "\t 4967c2fed867a9a5db8d470f4fd72d73c4bf178cfd3b2901d761d7359eceeff2 & ./cells\\_ebv\\_transformed\\_lymphocytes\\_DGE\\_refined.csv       \\\\\n",
       "\t 383fd038795c22251be60beef3a7aaa118e673da7ca1c802437a3429a47ec4e7 & ./breast\\_mammary\\_tissue\\_sex\\_universe.txt                  \\\\\n",
       "\t 91040ad22bedaaea60e4f6a255cdb4c04e44abaf154d2491d898092cb43c4e1f & ./breast\\_mammary\\_tissue\\_DGE\\_refined.csv                   \\\\\n",
       "\t 464ab6edf68532b9bd7cf9696e2a52f0f5d119323030388b8ab112ccfad6557c & ./signif\\_brain\\_hippocampus.csv                            \\\\\n",
       "\t bbba2ab754fff3e50968eea03eeffcad1932a1444ebe7af170b385b196c610cf & ./diff\\_spliced.tar.gz                                     \\\\\n",
       "\t 1f0b33124459f90a9d1753d21019efdddde68c49f895c21d7b5c8be4d650b142 & ./esophagus\\_gastroesophageal\\_junction\\_DGE.csv             \\\\\n",
       "\t ba8dc6161f540070fe7a9d8bebe830e4fcb28af765874726569bd2ede2c9da8c & ./signif\\_brain\\_cerebellar\\_hemisphere.csv                  \\\\\n",
       "\t 36c95414bdca564011c5cab658b9da91bfe42730df3f7c3e2b2ffe62d7424139 & ./signif\\_nerve\\_tibial.csv                                 \\\\\n",
       "\t 2f58ce060684ccfb1c6a42f61c2ec83ed815b31169cefbe48e4ac50e90e2a166 & ./nerve\\_tibial\\_DGE.csv                                    \\\\\n",
       "\t b911678a34410857388b837345f6b38cc3238b059efae77cdbbb690e4a21f0c4 & ./gencode.v30.chr\\_patch\\_hapl\\_scaff.annotation.gtf.gz      \\\\\n",
       "\t 457d15c58a14b35341b8fb82682c33c23b904b1832a516467a829fbde9066791 & ./breast\\_mammary\\_tissue\\_sjc\\_sex\\_gene\\_set.txt              \\\\\n",
       "\t 7a4712abd5c3531bbf84d503352621481a780771b86ba75ed8b4e003794df0e6 & ./signif\\_brain\\_putamen\\_basalganglia.csv                   \\\\\n",
       "\t 84be598758a7988b866306a827fc09927e8c7d5ee090fdefc2f2356a40ad85de & ./stomach\\_DGE.csv                                         \\\\\n",
       "\t 8530529524dbe6b3dc6db0bff73a6e88d6c72c4695ac2a82cb32a4751ef416c5 & ./nerve\\_tibial\\_DGE\\_refined.csv                            \\\\\n",
       "\t bdc11873abb9b9a648322dd18deac53eff99773c2b7e1b42aa99bce5556a8255 & ./signif\\_skin\\_sun\\_exposed\\_lowerleg.csv                    \\\\\n",
       "\t 3cb7232e427928848f04527dda7d34f044d8d29a951d26ac1a00832ddcb2db05 & ./brain\\_hypothalamus\\_DGE\\_refined.csv                      \\\\\n",
       "\t eebe0716bb2e263340c5c49032b88a67c3fa2ba2fd9d364d9f11bcad29bc21aa & ./signif\\_colon\\_transverse.csv                             \\\\\n",
       "\t fc7a308c75b772c3cecfad326e02eb70cd210e73e3a1b2c4e319669f77324138 & ./esophagus\\_gastroesophageal\\_junction\\_DGE\\_refined.csv     \\\\\n",
       "\t 02b472b46bc8601bad2f6b813d7893aa4f1f04672bfa23fb526638a596b87169 & ./stomach\\_DGE\\_refined.csv                                 \\\\\n",
       "\t 49851cecfea3cbea6fe8e5beb811a5df04ac1d785d07e2d65fbc80429c0af507 & ./cells\\_cultured\\_fibroblasts\\_DGE\\_refined.csv              \\\\\n",
       "\t e4f9f51c3f8e00569a043ae8ab93cf98d1d24b6d09cecfe7bcb7d5b2564c84e5 & ./small\\_intestine\\_terminal\\_ileum\\_DGE\\_refined.csv          \\\\\n",
       "\t ad03c10dd9f9b02cca3e66a1afee0d2fee30abf79b3ff058a5f96fc8af21a312 & ./Homo\\_sapiens.GRCh38.100.chr\\_patch\\_hapl\\_scaff.gtf.gz.txt \\\\\n",
       "\t dd81f708c532af9f84bba19d09068bf17ea03eb846db7ab1b3cc6ba24deaad99 & ./lung\\_DGE.csv                                            \\\\\n",
       "\t 8291be77c7ad6cd73d9f7797658e3f1ffc197532a23385a85911ca4d4db13483 & ./SraRunTable.txt.gz                                      \\\\\n",
       "\\end{tabular}\n"
      ],
      "text/markdown": [
       "\n",
       "A data.table: 322 × 2\n",
       "\n",
       "| sha256sum &lt;chr&gt; | file &lt;chr&gt; |\n",
       "|---|---|\n",
       "| 96daa446074412dab4e28f9d4af790456bbd3f59ed5f37e043f5600acdcc89dd | ./liver_DGE.csv                                                               |\n",
       "| d62cc9495ebc2198e8130fe5dc2d6924760125e938e6681cc01277310bd64438 | ./esophagus_muscularis_DGE.csv                                                |\n",
       "| a2ff5b941eaa7dc16c9f26e73d068108d7fc30bb33ee99bd7f5844623061577d | ./signif_small_intestine_terminal_ileum.csv                                   |\n",
       "| 05443ccebf5061786b851d4fe140c81c6b0dfbde84cefb489340233ce643c84c | ./pituitary_DGE_refined.csv                                                   |\n",
       "| e2f4f8e3ac9759572734c0fef7bb9008579624b95a772802324505ff30cad1bb | ./brain_cortex_DGE_refined.csv                                                |\n",
       "| 4f9c37e667fd691c619d395ffc8e3ff10e4d2f5beefd3912457a36eb2478ff15 | ./reduced_metadata_pData.csv                                                  |\n",
       "| e514fd85f1b8025081699419761bb2813178f7143849a078b24ed36b8b37ff7a | ./39_diff_splicing_tissues_with_header.csv                                    |\n",
       "| 0f93f085571e67da7dfed0904901e3abd154005d418c2601fa85ddb67814b7d6 | ./results_dge_ijc_sex.tar.gz                                                  |\n",
       "| 980916646b8ab2a549129f8cc40cc87749629cf842b85dccefbe1e5f5506c152 | ./whole_blood_DGE_refined.csv                                                 |\n",
       "| 1f71077dd830f813590cb19736c99260edbb792ff8391cc2ccc01b39f042b2c3 | ./heart_atrial_appendage_DGE.csv                                              |\n",
       "| 16aac51ddc560698b4ce7a1d64d3f974c323f1c981c684bf79e5aac52b59b273 | ./signif_brain_nucleus_accumbens_basal_ganglia.csv                            |\n",
       "| 6d14401ba51e79ca840bcc7efed0e2c940543be82454b442b9d1186a8dd6b398 | ./signif_brain_anteriorcingulatecortex_ba_24.csv                              |\n",
       "| 354f4f558d85edc8c25c82d7d37cc575b453587620d6dc38371d4c166015ee47 | ./pData_yarn_downloadGTExV8.csv                                               |\n",
       "| 1e7beb6d7041522d9f7041ce35e64416c0d0ae8de85bd7df1428e32cf7bc490c | ./heart_atrial_appendage_DGE_refined.csv                                      |\n",
       "| 2c73b7b108fec60b9c37e8545b8ac9a3174a502b09cfbfd3e2a8c2e486691a74 | ./s.signif.wc.l.txt                                                           |\n",
       "| e514fd85f1b8025081699419761bb2813178f7143849a078b24ed36b8b37ff7a | ./.ipynb_checkpoints/39_diff_splicing_tissues_with_header-checkpoint.csv      |\n",
       "| 13b5d324225e225557271ca1015c51aebd16c4f9cb344bd2b39ac5dfa44ee70a | ./.ipynb_checkpoints/reduced_metadata_pData-checkpoint.csv                    |\n",
       "| a0789519aed2cae102dea940f3590b0f4862d656f46c5b905d33430efda13317 | ./.ipynb_checkpoints/breast_mammary_tissue_DGE_sjc_sex_refined-checkpoint.csv |\n",
       "| dda898c0ad2f0d5f2e72fc0f3ef56f60e85c0f17fac9360d2f1ace4793b447db | ./artery_tibial_DGE.csv                                                       |\n",
       "| 1ff589f7444e480451277054ce40bc4f9df92f37b42f6234c56eacdeafa12959 | ./signif_minor_salivary_gland.csv                                             |\n",
       "| 0f73717a21f1c0e7240bb2b91777b2cb350a995d6f5bbfddd4fe2d531123b70d | ./brain_spinal_cord_cervical_c_1_DGE_refined.csv                              |\n",
       "| 7e826ad51b703393fece7da1609e3e8b60c19eb0363c948e5312dc0cb44373cc | ./signif_thyroid.csv                                                          |\n",
       "| d869c937b22f42537a51c54b43b13abe5b71a967d6da6f5010941b70cc8bbd8e | ./signif_adrenal_gland.csv                                                    |\n",
       "| 28764f9f1e0f14e399d555e448b5490c7221454e7d34d220f79b537376ca017b | ./fromGTF.novelEvents.SE.txt                                                  |\n",
       "| de491052a021e91b37ea3bafc44d341c0d8fd285650dfd8f3d9a9d829624bf3b | ./SraRunTable.txt                                                             |\n",
       "| 9b676639be6d66a422f1ccd0d501b593b6c3d3bd0ffcc09aeebe812537438e0c | ./pancreas_DGE_refined.csv                                                    |\n",
       "| 5197e6ac823d2b39d818a0c4398c1542d5af5414da02a29087110ca83d41336c | ./signif_skin_sun_exposed_lower_leg.csv                                       |\n",
       "| 0e853560082bd374c973ce5784c5272d3d4e9fd1ec3fb2f649ebd05ea0456ec3 | ./signif_artery_aorta.csv                                                     |\n",
       "| 8cdd9cae214fbbceabedf093da460f178ebe66fbfb912589d24842e99a012a6a | ./signif_artery_coronary.csv                                                  |\n",
       "| b44273041d018ecdbc6f79dec871fa865e144a3fee54ee1e4eaed7ef592ce92f | ./gencode.v30.annotation.gtf.gz                                               |\n",
       "| ⋮ | ⋮ |\n",
       "| 3143d4c6ff9a4c607b435ef7cc2a5246ff35b23a9641acc97b4ee454cc922be5 | ./results_dge_ijc_sex/minor_salivary_gland_DGE_ijc_sex.csv |\n",
       "| 3bde28646acb28bc87cfd10316b76e8d5de06c24c473be2af9eb2df2c514e153 | ./results_dge_ijc_sex/artery_tibial_DGE_ijc_sex.csv        |\n",
       "| 6e3f1d335ce05c887363d092b0100b9f3603a964c8fe6e8c20f4c547b4f52280 | ./fromGTF.novelEvents.MXE.txt                              |\n",
       "| 66fdc15475367c7e8e3c55745a3eb4090d1c3eda2e4d1ff428e1759b5b841108 | ./colon_transverse_DGE.csv                                 |\n",
       "| 80422bb2236de706781ed416f6660ffaa123979a814a8539a7d26f1ff63e132e | ./signif_esophagus_muscularis.csv                          |\n",
       "| 51c8250a1796196e3879d88186c5450e5b5efc1e9f3fa578f388e9ff380e2deb | ./fromGTF.A3SS.txt                                         |\n",
       "| 4967c2fed867a9a5db8d470f4fd72d73c4bf178cfd3b2901d761d7359eceeff2 | ./cells_ebv_transformed_lymphocytes_DGE_refined.csv        |\n",
       "| 383fd038795c22251be60beef3a7aaa118e673da7ca1c802437a3429a47ec4e7 | ./breast_mammary_tissue_sex_universe.txt                   |\n",
       "| 91040ad22bedaaea60e4f6a255cdb4c04e44abaf154d2491d898092cb43c4e1f | ./breast_mammary_tissue_DGE_refined.csv                    |\n",
       "| 464ab6edf68532b9bd7cf9696e2a52f0f5d119323030388b8ab112ccfad6557c | ./signif_brain_hippocampus.csv                             |\n",
       "| bbba2ab754fff3e50968eea03eeffcad1932a1444ebe7af170b385b196c610cf | ./diff_spliced.tar.gz                                      |\n",
       "| 1f0b33124459f90a9d1753d21019efdddde68c49f895c21d7b5c8be4d650b142 | ./esophagus_gastroesophageal_junction_DGE.csv              |\n",
       "| ba8dc6161f540070fe7a9d8bebe830e4fcb28af765874726569bd2ede2c9da8c | ./signif_brain_cerebellar_hemisphere.csv                   |\n",
       "| 36c95414bdca564011c5cab658b9da91bfe42730df3f7c3e2b2ffe62d7424139 | ./signif_nerve_tibial.csv                                  |\n",
       "| 2f58ce060684ccfb1c6a42f61c2ec83ed815b31169cefbe48e4ac50e90e2a166 | ./nerve_tibial_DGE.csv                                     |\n",
       "| b911678a34410857388b837345f6b38cc3238b059efae77cdbbb690e4a21f0c4 | ./gencode.v30.chr_patch_hapl_scaff.annotation.gtf.gz       |\n",
       "| 457d15c58a14b35341b8fb82682c33c23b904b1832a516467a829fbde9066791 | ./breast_mammary_tissue_sjc_sex_gene_set.txt               |\n",
       "| 7a4712abd5c3531bbf84d503352621481a780771b86ba75ed8b4e003794df0e6 | ./signif_brain_putamen_basalganglia.csv                    |\n",
       "| 84be598758a7988b866306a827fc09927e8c7d5ee090fdefc2f2356a40ad85de | ./stomach_DGE.csv                                          |\n",
       "| 8530529524dbe6b3dc6db0bff73a6e88d6c72c4695ac2a82cb32a4751ef416c5 | ./nerve_tibial_DGE_refined.csv                             |\n",
       "| bdc11873abb9b9a648322dd18deac53eff99773c2b7e1b42aa99bce5556a8255 | ./signif_skin_sun_exposed_lowerleg.csv                     |\n",
       "| 3cb7232e427928848f04527dda7d34f044d8d29a951d26ac1a00832ddcb2db05 | ./brain_hypothalamus_DGE_refined.csv                       |\n",
       "| eebe0716bb2e263340c5c49032b88a67c3fa2ba2fd9d364d9f11bcad29bc21aa | ./signif_colon_transverse.csv                              |\n",
       "| fc7a308c75b772c3cecfad326e02eb70cd210e73e3a1b2c4e319669f77324138 | ./esophagus_gastroesophageal_junction_DGE_refined.csv      |\n",
       "| 02b472b46bc8601bad2f6b813d7893aa4f1f04672bfa23fb526638a596b87169 | ./stomach_DGE_refined.csv                                  |\n",
       "| 49851cecfea3cbea6fe8e5beb811a5df04ac1d785d07e2d65fbc80429c0af507 | ./cells_cultured_fibroblasts_DGE_refined.csv               |\n",
       "| e4f9f51c3f8e00569a043ae8ab93cf98d1d24b6d09cecfe7bcb7d5b2564c84e5 | ./small_intestine_terminal_ileum_DGE_refined.csv           |\n",
       "| ad03c10dd9f9b02cca3e66a1afee0d2fee30abf79b3ff058a5f96fc8af21a312 | ./Homo_sapiens.GRCh38.100.chr_patch_hapl_scaff.gtf.gz.txt  |\n",
       "| dd81f708c532af9f84bba19d09068bf17ea03eb846db7ab1b3cc6ba24deaad99 | ./lung_DGE.csv                                             |\n",
       "| 8291be77c7ad6cd73d9f7797658e3f1ffc197532a23385a85911ca4d4db13483 | ./SraRunTable.txt.gz                                       |\n",
       "\n"
      ],
      "text/plain": [
       "    sha256sum                                                       \n",
       "1   96daa446074412dab4e28f9d4af790456bbd3f59ed5f37e043f5600acdcc89dd\n",
       "2   d62cc9495ebc2198e8130fe5dc2d6924760125e938e6681cc01277310bd64438\n",
       "3   a2ff5b941eaa7dc16c9f26e73d068108d7fc30bb33ee99bd7f5844623061577d\n",
       "4   05443ccebf5061786b851d4fe140c81c6b0dfbde84cefb489340233ce643c84c\n",
       "5   e2f4f8e3ac9759572734c0fef7bb9008579624b95a772802324505ff30cad1bb\n",
       "6   4f9c37e667fd691c619d395ffc8e3ff10e4d2f5beefd3912457a36eb2478ff15\n",
       "7   e514fd85f1b8025081699419761bb2813178f7143849a078b24ed36b8b37ff7a\n",
       "8   0f93f085571e67da7dfed0904901e3abd154005d418c2601fa85ddb67814b7d6\n",
       "9   980916646b8ab2a549129f8cc40cc87749629cf842b85dccefbe1e5f5506c152\n",
       "10  1f71077dd830f813590cb19736c99260edbb792ff8391cc2ccc01b39f042b2c3\n",
       "11  16aac51ddc560698b4ce7a1d64d3f974c323f1c981c684bf79e5aac52b59b273\n",
       "12  6d14401ba51e79ca840bcc7efed0e2c940543be82454b442b9d1186a8dd6b398\n",
       "13  354f4f558d85edc8c25c82d7d37cc575b453587620d6dc38371d4c166015ee47\n",
       "14  1e7beb6d7041522d9f7041ce35e64416c0d0ae8de85bd7df1428e32cf7bc490c\n",
       "15  2c73b7b108fec60b9c37e8545b8ac9a3174a502b09cfbfd3e2a8c2e486691a74\n",
       "16  e514fd85f1b8025081699419761bb2813178f7143849a078b24ed36b8b37ff7a\n",
       "17  13b5d324225e225557271ca1015c51aebd16c4f9cb344bd2b39ac5dfa44ee70a\n",
       "18  a0789519aed2cae102dea940f3590b0f4862d656f46c5b905d33430efda13317\n",
       "19  dda898c0ad2f0d5f2e72fc0f3ef56f60e85c0f17fac9360d2f1ace4793b447db\n",
       "20  1ff589f7444e480451277054ce40bc4f9df92f37b42f6234c56eacdeafa12959\n",
       "21  0f73717a21f1c0e7240bb2b91777b2cb350a995d6f5bbfddd4fe2d531123b70d\n",
       "22  7e826ad51b703393fece7da1609e3e8b60c19eb0363c948e5312dc0cb44373cc\n",
       "23  d869c937b22f42537a51c54b43b13abe5b71a967d6da6f5010941b70cc8bbd8e\n",
       "24  28764f9f1e0f14e399d555e448b5490c7221454e7d34d220f79b537376ca017b\n",
       "25  de491052a021e91b37ea3bafc44d341c0d8fd285650dfd8f3d9a9d829624bf3b\n",
       "26  9b676639be6d66a422f1ccd0d501b593b6c3d3bd0ffcc09aeebe812537438e0c\n",
       "27  5197e6ac823d2b39d818a0c4398c1542d5af5414da02a29087110ca83d41336c\n",
       "28  0e853560082bd374c973ce5784c5272d3d4e9fd1ec3fb2f649ebd05ea0456ec3\n",
       "29  8cdd9cae214fbbceabedf093da460f178ebe66fbfb912589d24842e99a012a6a\n",
       "30  b44273041d018ecdbc6f79dec871fa865e144a3fee54ee1e4eaed7ef592ce92f\n",
       "⋮   ⋮                                                               \n",
       "293 3143d4c6ff9a4c607b435ef7cc2a5246ff35b23a9641acc97b4ee454cc922be5\n",
       "294 3bde28646acb28bc87cfd10316b76e8d5de06c24c473be2af9eb2df2c514e153\n",
       "295 6e3f1d335ce05c887363d092b0100b9f3603a964c8fe6e8c20f4c547b4f52280\n",
       "296 66fdc15475367c7e8e3c55745a3eb4090d1c3eda2e4d1ff428e1759b5b841108\n",
       "297 80422bb2236de706781ed416f6660ffaa123979a814a8539a7d26f1ff63e132e\n",
       "298 51c8250a1796196e3879d88186c5450e5b5efc1e9f3fa578f388e9ff380e2deb\n",
       "299 4967c2fed867a9a5db8d470f4fd72d73c4bf178cfd3b2901d761d7359eceeff2\n",
       "300 383fd038795c22251be60beef3a7aaa118e673da7ca1c802437a3429a47ec4e7\n",
       "301 91040ad22bedaaea60e4f6a255cdb4c04e44abaf154d2491d898092cb43c4e1f\n",
       "302 464ab6edf68532b9bd7cf9696e2a52f0f5d119323030388b8ab112ccfad6557c\n",
       "303 bbba2ab754fff3e50968eea03eeffcad1932a1444ebe7af170b385b196c610cf\n",
       "304 1f0b33124459f90a9d1753d21019efdddde68c49f895c21d7b5c8be4d650b142\n",
       "305 ba8dc6161f540070fe7a9d8bebe830e4fcb28af765874726569bd2ede2c9da8c\n",
       "306 36c95414bdca564011c5cab658b9da91bfe42730df3f7c3e2b2ffe62d7424139\n",
       "307 2f58ce060684ccfb1c6a42f61c2ec83ed815b31169cefbe48e4ac50e90e2a166\n",
       "308 b911678a34410857388b837345f6b38cc3238b059efae77cdbbb690e4a21f0c4\n",
       "309 457d15c58a14b35341b8fb82682c33c23b904b1832a516467a829fbde9066791\n",
       "310 7a4712abd5c3531bbf84d503352621481a780771b86ba75ed8b4e003794df0e6\n",
       "311 84be598758a7988b866306a827fc09927e8c7d5ee090fdefc2f2356a40ad85de\n",
       "312 8530529524dbe6b3dc6db0bff73a6e88d6c72c4695ac2a82cb32a4751ef416c5\n",
       "313 bdc11873abb9b9a648322dd18deac53eff99773c2b7e1b42aa99bce5556a8255\n",
       "314 3cb7232e427928848f04527dda7d34f044d8d29a951d26ac1a00832ddcb2db05\n",
       "315 eebe0716bb2e263340c5c49032b88a67c3fa2ba2fd9d364d9f11bcad29bc21aa\n",
       "316 fc7a308c75b772c3cecfad326e02eb70cd210e73e3a1b2c4e319669f77324138\n",
       "317 02b472b46bc8601bad2f6b813d7893aa4f1f04672bfa23fb526638a596b87169\n",
       "318 49851cecfea3cbea6fe8e5beb811a5df04ac1d785d07e2d65fbc80429c0af507\n",
       "319 e4f9f51c3f8e00569a043ae8ab93cf98d1d24b6d09cecfe7bcb7d5b2564c84e5\n",
       "320 ad03c10dd9f9b02cca3e66a1afee0d2fee30abf79b3ff058a5f96fc8af21a312\n",
       "321 dd81f708c532af9f84bba19d09068bf17ea03eb846db7ab1b3cc6ba24deaad99\n",
       "322 8291be77c7ad6cd73d9f7797658e3f1ffc197532a23385a85911ca4d4db13483\n",
       "    file                                                                         \n",
       "1   ./liver_DGE.csv                                                              \n",
       "2   ./esophagus_muscularis_DGE.csv                                               \n",
       "3   ./signif_small_intestine_terminal_ileum.csv                                  \n",
       "4   ./pituitary_DGE_refined.csv                                                  \n",
       "5   ./brain_cortex_DGE_refined.csv                                               \n",
       "6   ./reduced_metadata_pData.csv                                                 \n",
       "7   ./39_diff_splicing_tissues_with_header.csv                                   \n",
       "8   ./results_dge_ijc_sex.tar.gz                                                 \n",
       "9   ./whole_blood_DGE_refined.csv                                                \n",
       "10  ./heart_atrial_appendage_DGE.csv                                             \n",
       "11  ./signif_brain_nucleus_accumbens_basal_ganglia.csv                           \n",
       "12  ./signif_brain_anteriorcingulatecortex_ba_24.csv                             \n",
       "13  ./pData_yarn_downloadGTExV8.csv                                              \n",
       "14  ./heart_atrial_appendage_DGE_refined.csv                                     \n",
       "15  ./s.signif.wc.l.txt                                                          \n",
       "16  ./.ipynb_checkpoints/39_diff_splicing_tissues_with_header-checkpoint.csv     \n",
       "17  ./.ipynb_checkpoints/reduced_metadata_pData-checkpoint.csv                   \n",
       "18  ./.ipynb_checkpoints/breast_mammary_tissue_DGE_sjc_sex_refined-checkpoint.csv\n",
       "19  ./artery_tibial_DGE.csv                                                      \n",
       "20  ./signif_minor_salivary_gland.csv                                            \n",
       "21  ./brain_spinal_cord_cervical_c_1_DGE_refined.csv                             \n",
       "22  ./signif_thyroid.csv                                                         \n",
       "23  ./signif_adrenal_gland.csv                                                   \n",
       "24  ./fromGTF.novelEvents.SE.txt                                                 \n",
       "25  ./SraRunTable.txt                                                            \n",
       "26  ./pancreas_DGE_refined.csv                                                   \n",
       "27  ./signif_skin_sun_exposed_lower_leg.csv                                      \n",
       "28  ./signif_artery_aorta.csv                                                    \n",
       "29  ./signif_artery_coronary.csv                                                 \n",
       "30  ./gencode.v30.annotation.gtf.gz                                              \n",
       "⋮   ⋮                                                                            \n",
       "293 ./results_dge_ijc_sex/minor_salivary_gland_DGE_ijc_sex.csv                   \n",
       "294 ./results_dge_ijc_sex/artery_tibial_DGE_ijc_sex.csv                          \n",
       "295 ./fromGTF.novelEvents.MXE.txt                                                \n",
       "296 ./colon_transverse_DGE.csv                                                   \n",
       "297 ./signif_esophagus_muscularis.csv                                            \n",
       "298 ./fromGTF.A3SS.txt                                                           \n",
       "299 ./cells_ebv_transformed_lymphocytes_DGE_refined.csv                          \n",
       "300 ./breast_mammary_tissue_sex_universe.txt                                     \n",
       "301 ./breast_mammary_tissue_DGE_refined.csv                                      \n",
       "302 ./signif_brain_hippocampus.csv                                               \n",
       "303 ./diff_spliced.tar.gz                                                        \n",
       "304 ./esophagus_gastroesophageal_junction_DGE.csv                                \n",
       "305 ./signif_brain_cerebellar_hemisphere.csv                                     \n",
       "306 ./signif_nerve_tibial.csv                                                    \n",
       "307 ./nerve_tibial_DGE.csv                                                       \n",
       "308 ./gencode.v30.chr_patch_hapl_scaff.annotation.gtf.gz                         \n",
       "309 ./breast_mammary_tissue_sjc_sex_gene_set.txt                                 \n",
       "310 ./signif_brain_putamen_basalganglia.csv                                      \n",
       "311 ./stomach_DGE.csv                                                            \n",
       "312 ./nerve_tibial_DGE_refined.csv                                               \n",
       "313 ./signif_skin_sun_exposed_lowerleg.csv                                       \n",
       "314 ./brain_hypothalamus_DGE_refined.csv                                         \n",
       "315 ./signif_colon_transverse.csv                                                \n",
       "316 ./esophagus_gastroesophageal_junction_DGE_refined.csv                        \n",
       "317 ./stomach_DGE_refined.csv                                                    \n",
       "318 ./cells_cultured_fibroblasts_DGE_refined.csv                                 \n",
       "319 ./small_intestine_terminal_ileum_DGE_refined.csv                             \n",
       "320 ./Homo_sapiens.GRCh38.100.chr_patch_hapl_scaff.gtf.gz.txt                    \n",
       "321 ./lung_DGE.csv                                                               \n",
       "322 ./SraRunTable.txt.gz                                                         "
      ]
     },
     "metadata": {},
     "output_type": "display_data"
    }
   ],
   "source": [
    "rm (notebookid)\n",
    "notebookid   = \"AllTissueJunctionAnalysis\"\n",
    "notebookid\n",
    "\n",
    "message(\"Generating sha256 checksums of the artefacts in the `..data/` directory .. \")\n",
    "system(paste0(\"cd ../data && find . -type f -exec sha256sum {} \\\\;  >  ../metadata/\", notebookid, \"_sha256sums.txt\"), intern = TRUE)\n",
    "message(\"Done!\\n\")\n",
    "\n",
    "paste0(\"../metadata/\", notebookid, \"_sha256sums.txt\")\n",
    "\n",
    "data.table::fread(paste0(\"../metadata/\", notebookid, \"_sha256sums.txt\"), header = FALSE, col.names = c(\"sha256sum\", \"file\"))"
   ]
  },
  {
   "cell_type": "markdown",
   "metadata": {},
   "source": [
    "### 2. Libraries metadata"
   ]
  },
  {
   "cell_type": "code",
   "execution_count": 18,
   "metadata": {},
   "outputs": [
    {
     "name": "stderr",
     "output_type": "stream",
     "text": [
      "Saving `devtools::session_info()` objects in ../metadata/devtools_session_info.rds  ..\n",
      "Done!\n",
      "\n",
      "Saving `utils::sessionInfo()` objects in ../metadata/utils_session_info.rds  ..\n",
      "Done!\n",
      "\n"
     ]
    },
    {
     "data": {
      "text/plain": [
       " setting  value                       \n",
       " version  R version 3.6.1 (2019-07-05)\n",
       " os       Ubuntu 18.04.3 LTS          \n",
       " system   x86_64, linux-gnu           \n",
       " ui       X11                         \n",
       " language en_US.UTF-8                 \n",
       " collate  en_US.UTF-8                 \n",
       " ctype    en_US.UTF-8                 \n",
       " tz       Etc/UTC                     \n",
       " date     2020-05-22                  "
      ]
     },
     "metadata": {},
     "output_type": "display_data"
    },
    {
     "data": {
      "text/html": [
       "<table>\n",
       "<caption>A packages_info: 10 × 11</caption>\n",
       "<thead>\n",
       "\t<tr><th></th><th scope=col>package</th><th scope=col>ondiskversion</th><th scope=col>loadedversion</th><th scope=col>path</th><th scope=col>loadedpath</th><th scope=col>attached</th><th scope=col>is_base</th><th scope=col>date</th><th scope=col>source</th><th scope=col>md5ok</th><th scope=col>library</th></tr>\n",
       "\t<tr><th></th><th scope=col>&lt;chr&gt;</th><th scope=col>&lt;chr&gt;</th><th scope=col>&lt;chr&gt;</th><th scope=col>&lt;chr&gt;</th><th scope=col>&lt;chr&gt;</th><th scope=col>&lt;lgl&gt;</th><th scope=col>&lt;lgl&gt;</th><th scope=col>&lt;chr&gt;</th><th scope=col>&lt;chr&gt;</th><th scope=col>&lt;lgl&gt;</th><th scope=col>&lt;fct&gt;</th></tr>\n",
       "</thead>\n",
       "<tbody>\n",
       "\t<tr><th scope=row>Biobase</th><td>Biobase     </td><td>2.46.0   </td><td>2.46.0   </td><td>/opt/conda/lib/R/library/Biobase     </td><td>/opt/conda/lib/R/library/Biobase     </td><td>TRUE</td><td>FALSE</td><td>2019-10-29</td><td>Bioconductor                       </td><td>NA</td><td>/opt/conda/lib/R/library</td></tr>\n",
       "\t<tr><th scope=row>BiocGenerics</th><td>BiocGenerics</td><td>0.32.0   </td><td>0.32.0   </td><td>/opt/conda/lib/R/library/BiocGenerics</td><td>/opt/conda/lib/R/library/BiocGenerics</td><td>TRUE</td><td>FALSE</td><td>2019-10-29</td><td>Bioconductor                       </td><td>NA</td><td>/opt/conda/lib/R/library</td></tr>\n",
       "\t<tr><th scope=row>edgeR</th><td>edgeR       </td><td>3.28.1   </td><td>3.28.1   </td><td>/opt/conda/lib/R/library/edgeR       </td><td>/opt/conda/lib/R/library/edgeR       </td><td>TRUE</td><td>FALSE</td><td>2020-02-26</td><td>Bioconductor                       </td><td>NA</td><td>/opt/conda/lib/R/library</td></tr>\n",
       "\t<tr><th scope=row>limma</th><td>limma       </td><td>3.42.0   </td><td>3.42.0   </td><td>/opt/conda/lib/R/library/limma       </td><td>/opt/conda/lib/R/library/limma       </td><td>TRUE</td><td>FALSE</td><td>2019-10-29</td><td>Bioconductor                       </td><td>NA</td><td>/opt/conda/lib/R/library</td></tr>\n",
       "\t<tr><th scope=row>multtest</th><td>multtest    </td><td>2.42.0   </td><td>2.42.0   </td><td>/opt/conda/lib/R/library/multtest    </td><td>/opt/conda/lib/R/library/multtest    </td><td>TRUE</td><td>FALSE</td><td>2019-10-29</td><td>Bioconductor                       </td><td>NA</td><td>/opt/conda/lib/R/library</td></tr>\n",
       "\t<tr><th scope=row>piggyback</th><td>piggyback   </td><td>0.0.10.99</td><td>0.0.10.99</td><td>/opt/conda/lib/R/library/piggyback   </td><td>/opt/conda/lib/R/library/piggyback   </td><td>TRUE</td><td>FALSE</td><td>2020-05-20</td><td>Github (ropensci/piggyback@87f71e8)</td><td>NA</td><td>/opt/conda/lib/R/library</td></tr>\n",
       "\t<tr><th scope=row>R.methodsS3</th><td>R.methodsS3 </td><td>1.8.0    </td><td>1.8.0    </td><td>/opt/conda/lib/R/library/R.methodsS3 </td><td>/opt/conda/lib/R/library/R.methodsS3 </td><td>TRUE</td><td>FALSE</td><td>2020-02-14</td><td>CRAN (R 3.6.1)                     </td><td>NA</td><td>/opt/conda/lib/R/library</td></tr>\n",
       "\t<tr><th scope=row>R.oo</th><td>R.oo        </td><td>1.23.0   </td><td>1.23.0   </td><td>/opt/conda/lib/R/library/R.oo        </td><td>/opt/conda/lib/R/library/R.oo        </td><td>TRUE</td><td>FALSE</td><td>2019-11-03</td><td>CRAN (R 3.6.1)                     </td><td>NA</td><td>/opt/conda/lib/R/library</td></tr>\n",
       "\t<tr><th scope=row>R.utils</th><td>R.utils     </td><td>2.9.2    </td><td>2.9.2    </td><td>/opt/conda/lib/R/library/R.utils     </td><td>/opt/conda/lib/R/library/R.utils     </td><td>TRUE</td><td>FALSE</td><td>2019-12-08</td><td>CRAN (R 3.6.1)                     </td><td>NA</td><td>/opt/conda/lib/R/library</td></tr>\n",
       "\t<tr><th scope=row>tibble</th><td>tibble      </td><td>3.0.1    </td><td>3.0.1    </td><td>/opt/conda/lib/R/library/tibble      </td><td>/opt/conda/lib/R/library/tibble      </td><td>TRUE</td><td>FALSE</td><td>2020-04-20</td><td>CRAN (R 3.6.1)                     </td><td>NA</td><td>/opt/conda/lib/R/library</td></tr>\n",
       "</tbody>\n",
       "</table>\n"
      ],
      "text/latex": [
       "A packages\\_info: 10 × 11\n",
       "\\begin{tabular}{r|lllllllllll}\n",
       "  & package & ondiskversion & loadedversion & path & loadedpath & attached & is\\_base & date & source & md5ok & library\\\\\n",
       "  & <chr> & <chr> & <chr> & <chr> & <chr> & <lgl> & <lgl> & <chr> & <chr> & <lgl> & <fct>\\\\\n",
       "\\hline\n",
       "\tBiobase & Biobase      & 2.46.0    & 2.46.0    & /opt/conda/lib/R/library/Biobase      & /opt/conda/lib/R/library/Biobase      & TRUE & FALSE & 2019-10-29 & Bioconductor                        & NA & /opt/conda/lib/R/library\\\\\n",
       "\tBiocGenerics & BiocGenerics & 0.32.0    & 0.32.0    & /opt/conda/lib/R/library/BiocGenerics & /opt/conda/lib/R/library/BiocGenerics & TRUE & FALSE & 2019-10-29 & Bioconductor                        & NA & /opt/conda/lib/R/library\\\\\n",
       "\tedgeR & edgeR        & 3.28.1    & 3.28.1    & /opt/conda/lib/R/library/edgeR        & /opt/conda/lib/R/library/edgeR        & TRUE & FALSE & 2020-02-26 & Bioconductor                        & NA & /opt/conda/lib/R/library\\\\\n",
       "\tlimma & limma        & 3.42.0    & 3.42.0    & /opt/conda/lib/R/library/limma        & /opt/conda/lib/R/library/limma        & TRUE & FALSE & 2019-10-29 & Bioconductor                        & NA & /opt/conda/lib/R/library\\\\\n",
       "\tmulttest & multtest     & 2.42.0    & 2.42.0    & /opt/conda/lib/R/library/multtest     & /opt/conda/lib/R/library/multtest     & TRUE & FALSE & 2019-10-29 & Bioconductor                        & NA & /opt/conda/lib/R/library\\\\\n",
       "\tpiggyback & piggyback    & 0.0.10.99 & 0.0.10.99 & /opt/conda/lib/R/library/piggyback    & /opt/conda/lib/R/library/piggyback    & TRUE & FALSE & 2020-05-20 & Github (ropensci/piggyback@87f71e8) & NA & /opt/conda/lib/R/library\\\\\n",
       "\tR.methodsS3 & R.methodsS3  & 1.8.0     & 1.8.0     & /opt/conda/lib/R/library/R.methodsS3  & /opt/conda/lib/R/library/R.methodsS3  & TRUE & FALSE & 2020-02-14 & CRAN (R 3.6.1)                      & NA & /opt/conda/lib/R/library\\\\\n",
       "\tR.oo & R.oo         & 1.23.0    & 1.23.0    & /opt/conda/lib/R/library/R.oo         & /opt/conda/lib/R/library/R.oo         & TRUE & FALSE & 2019-11-03 & CRAN (R 3.6.1)                      & NA & /opt/conda/lib/R/library\\\\\n",
       "\tR.utils & R.utils      & 2.9.2     & 2.9.2     & /opt/conda/lib/R/library/R.utils      & /opt/conda/lib/R/library/R.utils      & TRUE & FALSE & 2019-12-08 & CRAN (R 3.6.1)                      & NA & /opt/conda/lib/R/library\\\\\n",
       "\ttibble & tibble       & 3.0.1     & 3.0.1     & /opt/conda/lib/R/library/tibble       & /opt/conda/lib/R/library/tibble       & TRUE & FALSE & 2020-04-20 & CRAN (R 3.6.1)                      & NA & /opt/conda/lib/R/library\\\\\n",
       "\\end{tabular}\n"
      ],
      "text/markdown": [
       "\n",
       "A packages_info: 10 × 11\n",
       "\n",
       "| <!--/--> | package &lt;chr&gt; | ondiskversion &lt;chr&gt; | loadedversion &lt;chr&gt; | path &lt;chr&gt; | loadedpath &lt;chr&gt; | attached &lt;lgl&gt; | is_base &lt;lgl&gt; | date &lt;chr&gt; | source &lt;chr&gt; | md5ok &lt;lgl&gt; | library &lt;fct&gt; |\n",
       "|---|---|---|---|---|---|---|---|---|---|---|---|\n",
       "| Biobase | Biobase      | 2.46.0    | 2.46.0    | /opt/conda/lib/R/library/Biobase      | /opt/conda/lib/R/library/Biobase      | TRUE | FALSE | 2019-10-29 | Bioconductor                        | NA | /opt/conda/lib/R/library |\n",
       "| BiocGenerics | BiocGenerics | 0.32.0    | 0.32.0    | /opt/conda/lib/R/library/BiocGenerics | /opt/conda/lib/R/library/BiocGenerics | TRUE | FALSE | 2019-10-29 | Bioconductor                        | NA | /opt/conda/lib/R/library |\n",
       "| edgeR | edgeR        | 3.28.1    | 3.28.1    | /opt/conda/lib/R/library/edgeR        | /opt/conda/lib/R/library/edgeR        | TRUE | FALSE | 2020-02-26 | Bioconductor                        | NA | /opt/conda/lib/R/library |\n",
       "| limma | limma        | 3.42.0    | 3.42.0    | /opt/conda/lib/R/library/limma        | /opt/conda/lib/R/library/limma        | TRUE | FALSE | 2019-10-29 | Bioconductor                        | NA | /opt/conda/lib/R/library |\n",
       "| multtest | multtest     | 2.42.0    | 2.42.0    | /opt/conda/lib/R/library/multtest     | /opt/conda/lib/R/library/multtest     | TRUE | FALSE | 2019-10-29 | Bioconductor                        | NA | /opt/conda/lib/R/library |\n",
       "| piggyback | piggyback    | 0.0.10.99 | 0.0.10.99 | /opt/conda/lib/R/library/piggyback    | /opt/conda/lib/R/library/piggyback    | TRUE | FALSE | 2020-05-20 | Github (ropensci/piggyback@87f71e8) | NA | /opt/conda/lib/R/library |\n",
       "| R.methodsS3 | R.methodsS3  | 1.8.0     | 1.8.0     | /opt/conda/lib/R/library/R.methodsS3  | /opt/conda/lib/R/library/R.methodsS3  | TRUE | FALSE | 2020-02-14 | CRAN (R 3.6.1)                      | NA | /opt/conda/lib/R/library |\n",
       "| R.oo | R.oo         | 1.23.0    | 1.23.0    | /opt/conda/lib/R/library/R.oo         | /opt/conda/lib/R/library/R.oo         | TRUE | FALSE | 2019-11-03 | CRAN (R 3.6.1)                      | NA | /opt/conda/lib/R/library |\n",
       "| R.utils | R.utils      | 2.9.2     | 2.9.2     | /opt/conda/lib/R/library/R.utils      | /opt/conda/lib/R/library/R.utils      | TRUE | FALSE | 2019-12-08 | CRAN (R 3.6.1)                      | NA | /opt/conda/lib/R/library |\n",
       "| tibble | tibble       | 3.0.1     | 3.0.1     | /opt/conda/lib/R/library/tibble       | /opt/conda/lib/R/library/tibble       | TRUE | FALSE | 2020-04-20 | CRAN (R 3.6.1)                      | NA | /opt/conda/lib/R/library |\n",
       "\n"
      ],
      "text/plain": [
       "             package      ondiskversion loadedversion\n",
       "Biobase      Biobase      2.46.0        2.46.0       \n",
       "BiocGenerics BiocGenerics 0.32.0        0.32.0       \n",
       "edgeR        edgeR        3.28.1        3.28.1       \n",
       "limma        limma        3.42.0        3.42.0       \n",
       "multtest     multtest     2.42.0        2.42.0       \n",
       "piggyback    piggyback    0.0.10.99     0.0.10.99    \n",
       "R.methodsS3  R.methodsS3  1.8.0         1.8.0        \n",
       "R.oo         R.oo         1.23.0        1.23.0       \n",
       "R.utils      R.utils      2.9.2         2.9.2        \n",
       "tibble       tibble       3.0.1         3.0.1        \n",
       "             path                                 \n",
       "Biobase      /opt/conda/lib/R/library/Biobase     \n",
       "BiocGenerics /opt/conda/lib/R/library/BiocGenerics\n",
       "edgeR        /opt/conda/lib/R/library/edgeR       \n",
       "limma        /opt/conda/lib/R/library/limma       \n",
       "multtest     /opt/conda/lib/R/library/multtest    \n",
       "piggyback    /opt/conda/lib/R/library/piggyback   \n",
       "R.methodsS3  /opt/conda/lib/R/library/R.methodsS3 \n",
       "R.oo         /opt/conda/lib/R/library/R.oo        \n",
       "R.utils      /opt/conda/lib/R/library/R.utils     \n",
       "tibble       /opt/conda/lib/R/library/tibble      \n",
       "             loadedpath                            attached is_base date      \n",
       "Biobase      /opt/conda/lib/R/library/Biobase      TRUE     FALSE   2019-10-29\n",
       "BiocGenerics /opt/conda/lib/R/library/BiocGenerics TRUE     FALSE   2019-10-29\n",
       "edgeR        /opt/conda/lib/R/library/edgeR        TRUE     FALSE   2020-02-26\n",
       "limma        /opt/conda/lib/R/library/limma        TRUE     FALSE   2019-10-29\n",
       "multtest     /opt/conda/lib/R/library/multtest     TRUE     FALSE   2019-10-29\n",
       "piggyback    /opt/conda/lib/R/library/piggyback    TRUE     FALSE   2020-05-20\n",
       "R.methodsS3  /opt/conda/lib/R/library/R.methodsS3  TRUE     FALSE   2020-02-14\n",
       "R.oo         /opt/conda/lib/R/library/R.oo         TRUE     FALSE   2019-11-03\n",
       "R.utils      /opt/conda/lib/R/library/R.utils      TRUE     FALSE   2019-12-08\n",
       "tibble       /opt/conda/lib/R/library/tibble       TRUE     FALSE   2020-04-20\n",
       "             source                              md5ok library                 \n",
       "Biobase      Bioconductor                        NA    /opt/conda/lib/R/library\n",
       "BiocGenerics Bioconductor                        NA    /opt/conda/lib/R/library\n",
       "edgeR        Bioconductor                        NA    /opt/conda/lib/R/library\n",
       "limma        Bioconductor                        NA    /opt/conda/lib/R/library\n",
       "multtest     Bioconductor                        NA    /opt/conda/lib/R/library\n",
       "piggyback    Github (ropensci/piggyback@87f71e8) NA    /opt/conda/lib/R/library\n",
       "R.methodsS3  CRAN (R 3.6.1)                      NA    /opt/conda/lib/R/library\n",
       "R.oo         CRAN (R 3.6.1)                      NA    /opt/conda/lib/R/library\n",
       "R.utils      CRAN (R 3.6.1)                      NA    /opt/conda/lib/R/library\n",
       "tibble       CRAN (R 3.6.1)                      NA    /opt/conda/lib/R/library"
      ]
     },
     "metadata": {},
     "output_type": "display_data"
    }
   ],
   "source": [
    "dev_session_info   <- devtools::session_info()\n",
    "utils_session_info <- utils::sessionInfo()\n",
    "\n",
    "message(\"Saving `devtools::session_info()` objects in ../metadata/devtools_session_info.rds  ..\")\n",
    "saveRDS(dev_session_info, file = paste0(\"../metadata/\", notebookid, \"_devtools_session_info.rds\"))\n",
    "message(\"Done!\\n\")\n",
    "\n",
    "message(\"Saving `utils::sessionInfo()` objects in ../metadata/utils_session_info.rds  ..\")\n",
    "saveRDS(utils_session_info, file = paste0(\"../metadata/\", notebookid ,\"_utils_info.rds\"))\n",
    "message(\"Done!\\n\")\n",
    "\n",
    "dev_session_info$platform\n",
    "dev_session_info$packages[dev_session_info$packages$attached==TRUE, ]"
   ]
  },
  {
   "cell_type": "code",
   "execution_count": null,
   "metadata": {},
   "outputs": [],
   "source": []
  }
 ],
 "metadata": {
  "kernelspec": {
   "display_name": "R",
   "language": "R",
   "name": "ir"
  },
  "language_info": {
   "codemirror_mode": "r",
   "file_extension": ".r",
   "mimetype": "text/x-r-source",
   "name": "R",
   "pygments_lexer": "r",
   "version": "3.6.1"
  }
 },
 "nbformat": 4,
 "nbformat_minor": 4
}
