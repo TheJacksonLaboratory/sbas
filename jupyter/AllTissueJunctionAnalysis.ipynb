{
 "cells": [
  {
   "cell_type": "markdown",
   "metadata": {},
   "source": [
    "# AllTissueJunctionAnalysis as a Notebook \n",
    "\n",
    "rMATS 3.2.5 was run on controlled access RNASeq files retrieved experiments stored in the Sequence Read Archive with controlled access managed by dbGaP.   The data were generated under the Gene Tissue Expression.\n",
    "\n",
    "## rMATS RNASeq-MATS.py produces 10 different output types which get assembled into as type junction ID by sample ID matrices\n",
    "\n",
    "### Alternative Splice Site Types are: (se, a3ss, a5ss, mxe, ri)\n",
    "\n",
    " This is input as ARGV1 into variable 'astype'\n",
    "\n",
    "  * Skipped Exon events (se),\n",
    "  * Alternative 3' splice site (a3ss),\n",
    "  * Alternative 5' splice site (a5ss),\n",
    "  * Mutually exclusive exon (mxe),\n",
    "  * and retention intron (ri)\n",
    "\n",
    "### There are two different kinds of junction counts\n",
    "\n",
    "  * jc = junction counts - reads that cross the junction\n",
    "  * jcec = junction counts plus reads on the target (such as included exon\n",
    "\n",
    "### And the count type -- there are 5 types\n",
    "\n",
    "  * inclusion levels (percent spliced in)\n",
    "  * included junction counts (ijc)\n",
    "  * skipped junction counts (sjc)\n",
    "  * inclusion length (inclen)\n",
    "  * skipped length (skiplen)\n",
    "\n",
    "### function: fit_iso_tissue \n",
    "\n",
    "fit_iso_tissue expects the following input:\n",
    "\n",
    "  * the tissue of interest (SMSTD) \n",
    "  * an ordered_merged_rmats -- which will be ordered to fit the count matrix\n",
    "  * count matrix (inc or ijc & sjc merged)\n",
    "  * splice type (a3ss, a5ss, mxe, ri or se)\n",
    "  * junction_count type (jc or jcec)\n",
    "  * count type (inc or the merged ijc,sjc)\n",
    "  \n",
    "### reordering to match annotations between count matrix and annotation matrix\n",
    "\n",
    "Common problem is to match specifically the rows of an annotation matrix with the columns of a count matrix\n",
    "`match` is the function that gives the re-ordering index required to accomplish this\n"
   ]
  },
  {
   "cell_type": "markdown",
   "metadata": {},
   "source": [
    "## **NOTE**:\n",
    "\n",
    "We assume that you have cloned the analysis repository and have `cd` into the parent directory. Before starting with the analysis make sure you have first completed the dependencies set up by following the instructions described in the **`dependencies/README.md`** document. All paths defined in this Notebook are relative to the parent directory (repository). Please close this Notebook and start again by following the above guidelines if you have not completed the aforementioned steps.\n",
    "\n",
    "## rMATS-final-merged\n",
    "the rmats-nf NextFlow was executed and the results released here:"
   ]
  },
  {
   "cell_type": "markdown",
   "metadata": {},
   "source": [
    "## Loading dependencies"
   ]
  },
  {
   "cell_type": "code",
   "execution_count": 1,
   "metadata": {},
   "outputs": [],
   "source": [
    "# temporary hack remove me when the dependencies are fixed\n",
    "#\n",
    "#install.packages(\"BiocManager\")\n",
    "#Sys.setenv(TAR = \"/bin/tar\")\n",
    "#BiocManager::install(c('limma','edgeR', 'statmod'))\n",
    "#install.packages(c('doParallel', 'doRNG', 'foreach', 'stringi', 'pheatmap'), repo = 'https://cran.r-project.org')\n",
    "#devtools::install_github(\"ropensci/piggyback@87f71e8\", upgrade=\"never\")\n",
    "#install.packages(\"runjags\", repos = \"https://cran.r-project.org\")\n",
    "#devtools::install_github(\"easystats/report\")\n"
   ]
  },
  {
   "cell_type": "code",
   "execution_count": 2,
   "metadata": {},
   "outputs": [
    {
     "name": "stderr",
     "output_type": "stream",
     "text": [
      "Loading required package: BiocGenerics\n",
      "Loading required package: parallel\n",
      "\n",
      "Attaching package: ‘BiocGenerics’\n",
      "\n",
      "The following objects are masked from ‘package:parallel’:\n",
      "\n",
      "    clusterApply, clusterApplyLB, clusterCall, clusterEvalQ,\n",
      "    clusterExport, clusterMap, parApply, parCapply, parLapply,\n",
      "    parLapplyLB, parRapply, parSapply, parSapplyLB\n",
      "\n",
      "The following object is masked from ‘package:limma’:\n",
      "\n",
      "    plotMA\n",
      "\n",
      "The following objects are masked from ‘package:stats’:\n",
      "\n",
      "    IQR, mad, sd, var, xtabs\n",
      "\n",
      "The following objects are masked from ‘package:base’:\n",
      "\n",
      "    anyDuplicated, append, as.data.frame, basename, cbind, colnames,\n",
      "    dirname, do.call, duplicated, eval, evalq, Filter, Find, get, grep,\n",
      "    grepl, intersect, is.unsorted, lapply, Map, mapply, match, mget,\n",
      "    order, paste, pmax, pmax.int, pmin, pmin.int, Position, rank,\n",
      "    rbind, Reduce, rownames, sapply, setdiff, sort, table, tapply,\n",
      "    union, unique, unsplit, which, which.max, which.min\n",
      "\n",
      "Loading required package: Biobase\n",
      "Welcome to Bioconductor\n",
      "\n",
      "    Vignettes contain introductory material; view with\n",
      "    'browseVignettes()'. To cite Bioconductor, see\n",
      "    'citation(\"Biobase\")', and for packages 'citation(\"pkgname\")'.\n",
      "\n",
      "Updating HTML index of packages in '.Library'\n",
      "Making 'packages.html' ... done\n",
      "Loading required package: R.oo\n",
      "Loading required package: R.methodsS3\n",
      "R.methodsS3 v1.8.0 (2020-02-14 07:10:20 UTC) successfully loaded. See ?R.methodsS3 for help.\n",
      "R.oo v1.23.0 successfully loaded. See ?R.oo for help.\n",
      "\n",
      "Attaching package: ‘R.oo’\n",
      "\n",
      "The following object is masked from ‘package:R.methodsS3’:\n",
      "\n",
      "    throw\n",
      "\n",
      "The following objects are masked from ‘package:methods’:\n",
      "\n",
      "    getClasses, getMethods\n",
      "\n",
      "The following objects are masked from ‘package:base’:\n",
      "\n",
      "    attach, detach, load, save\n",
      "\n",
      "R.utils v2.9.2 successfully loaded. See ?R.utils for help.\n",
      "\n",
      "Attaching package: ‘R.utils’\n",
      "\n",
      "The following object is masked from ‘package:utils’:\n",
      "\n",
      "    timestamp\n",
      "\n",
      "The following objects are masked from ‘package:base’:\n",
      "\n",
      "    cat, commandArgs, getOption, inherits, isOpen, nullfile, parse,\n",
      "    warnings\n",
      "\n"
     ]
    }
   ],
   "source": [
    "library(limma)\n",
    "library(piggyback)\n",
    "library(multtest)\n",
    "library(Biobase)\n",
    "library(edgeR)\n",
    "library(tibble)\n",
    "install.packages('R.utils')\n",
    "library(R.utils)"
   ]
  },
  {
   "cell_type": "markdown",
   "metadata": {},
   "source": [
    "## Modeling\n",
    "\n",
    "This analysis uses edgeR.  From the documentation, it is important to note that normalization takes the form of correction factors that enter into the statistical model. Such correction factors are usually computed internally by edgeR functions, but it is also possible for a user to supply them. The correction factors may take the form of scaling factors for the library sizes, such as computed by calcNormFactors, which are then used to compute the effective library sizes. \n",
    "\n",
    "Alternatively, gene-specific correction factors can be entered into the glm functions of edgeR as offsets. In the latter case, the offset matrix will be assumed to account for all normalization issues, including sequencing depth and RNA composition.\n",
    "\n",
    "Note that normalization in edgeR is model-based, and the original read counts are not themselves transformed. This means that users should not transform the read counts in any way before inputing them to edgeR. For example, users should not enter RPKM or FPKM val- ues to edgeR in place of read counts. Such quantities will prevent edgeR from correctly estimating the mean-variance relationship in the data, which is a crucial to the statistical strategies underlying edgeR. Similarly, users should not add artificial values to the counts before inputing them to edgeR.\n",
    "\n",
    "edgeR is not designed to work with estimated expression levels, for example as might be output by Cufflinks. \n",
    "edgeR can work with expected counts as output by RSEM, but raw counts are still preferred. \n",
    "\n",
    "As instructed by the software, we are using the raw counts as provided by rMATS.  The raw counts we are using in the model are `ijc` and `sjc`, the sample specific raw read counts as they align to the junctions of the `included exon (ijc)` and the junctions of the `excluded or skipped exon (sjc)` respectively.\n",
    "\n",
    "\n",
    "Be sure to set your GITHUB_TOKEN, prior to downloading files\n",
    "\n",
    "One suggestion is change it to your token and then run it then immediately change it back to this:\n",
    "\n",
    "Sys.setenv(GITHUB_TOKEN = \"your-very-own-github-token\")"
   ]
  },
  {
   "cell_type": "code",
   "execution_count": 3,
   "metadata": {},
   "outputs": [],
   "source": [
    "# devtools::install_github(\"ropensci/piggyback@87f71e8\", upgrade=\"never\")\n",
    "Sys.setenv(GITHUB_TOKEN = \"your-very-own-github-token\")"
   ]
  },
  {
   "cell_type": "markdown",
   "metadata": {},
   "source": [
    "### Did you remember?\n",
    "Did you remember to delete your private github token?  Now is a good time to do so, before you save your work and checkit in inadvertantly...."
   ]
  },
  {
   "cell_type": "code",
   "execution_count": 4,
   "metadata": {},
   "outputs": [
    {
     "name": "stderr",
     "output_type": "stream",
     "text": [
      "All files up-to-date already\n",
      "\n",
      "All files up-to-date already\n",
      "\n",
      "All files up-to-date already\n",
      "\n"
     ]
    },
    {
     "data": {
      "text/html": [
       "<table>\n",
       "<caption>A data.table: 6 × 8674</caption>\n",
       "<thead>\n",
       "\t<tr><th scope=col>ID</th><th scope=col>SRR1068788</th><th scope=col>SRR1068808</th><th scope=col>SRR1068832</th><th scope=col>SRR1068855</th><th scope=col>SRR1068880</th><th scope=col>SRR1068929</th><th scope=col>SRR1068953</th><th scope=col>SRR1068977</th><th scope=col>SRR1068999</th><th scope=col>⋯</th><th scope=col>SRR821573</th><th scope=col>SRR821581</th><th scope=col>SRR821602</th><th scope=col>SRR821626</th><th scope=col>SRR821653</th><th scope=col>SRR821690</th><th scope=col>SRR821715</th><th scope=col>SRR823967</th><th scope=col>SRR823991</th><th scope=col>SRR824015</th></tr>\n",
       "\t<tr><th scope=col>&lt;int&gt;</th><th scope=col>&lt;int&gt;</th><th scope=col>&lt;int&gt;</th><th scope=col>&lt;int&gt;</th><th scope=col>&lt;int&gt;</th><th scope=col>&lt;int&gt;</th><th scope=col>&lt;int&gt;</th><th scope=col>&lt;int&gt;</th><th scope=col>&lt;int&gt;</th><th scope=col>&lt;int&gt;</th><th scope=col>⋯</th><th scope=col>&lt;int&gt;</th><th scope=col>&lt;int&gt;</th><th scope=col>&lt;int&gt;</th><th scope=col>&lt;int&gt;</th><th scope=col>&lt;int&gt;</th><th scope=col>&lt;int&gt;</th><th scope=col>&lt;int&gt;</th><th scope=col>&lt;int&gt;</th><th scope=col>&lt;int&gt;</th><th scope=col>&lt;int&gt;</th></tr>\n",
       "</thead>\n",
       "<tbody>\n",
       "\t<tr><td>1</td><td> 0</td><td>  0</td><td>  0</td><td>  0</td><td>  1</td><td>  0</td><td>  0</td><td>  0</td><td>  0</td><td>⋯</td><td>  0</td><td> 0</td><td> 0</td><td> 0</td><td>  0</td><td> 0</td><td>  0</td><td> 0</td><td> 0</td><td> 0</td></tr>\n",
       "\t<tr><td>2</td><td>26</td><td>247</td><td>103</td><td>620</td><td>494</td><td>145</td><td>145</td><td>139</td><td>697</td><td>⋯</td><td>151</td><td>32</td><td>62</td><td>48</td><td>963</td><td>25</td><td>196</td><td>76</td><td>72</td><td>61</td></tr>\n",
       "\t<tr><td>3</td><td> 1</td><td>  0</td><td>  1</td><td>  0</td><td>  0</td><td>  0</td><td>  1</td><td>  1</td><td>  2</td><td>⋯</td><td>  2</td><td> 1</td><td> 0</td><td> 1</td><td>  3</td><td> 0</td><td>  1</td><td> 0</td><td> 0</td><td> 0</td></tr>\n",
       "\t<tr><td>4</td><td> 0</td><td>  1</td><td>  1</td><td>  2</td><td>  0</td><td>  0</td><td>  1</td><td>  0</td><td>  2</td><td>⋯</td><td>  0</td><td> 0</td><td> 0</td><td> 0</td><td>  1</td><td> 0</td><td>  0</td><td> 0</td><td> 0</td><td> 0</td></tr>\n",
       "\t<tr><td>5</td><td> 3</td><td>  0</td><td>  2</td><td>  3</td><td>  6</td><td>  1</td><td>  1</td><td>  1</td><td>  5</td><td>⋯</td><td>  3</td><td> 2</td><td> 0</td><td> 1</td><td>  6</td><td> 0</td><td>  2</td><td> 0</td><td> 0</td><td> 0</td></tr>\n",
       "\t<tr><td>6</td><td> 2</td><td>  1</td><td>  2</td><td>  5</td><td>  6</td><td>  1</td><td>  1</td><td>  0</td><td>  5</td><td>⋯</td><td>  1</td><td> 1</td><td> 0</td><td> 0</td><td>  4</td><td> 0</td><td>  1</td><td> 0</td><td> 0</td><td> 0</td></tr>\n",
       "</tbody>\n",
       "</table>\n"
      ],
      "text/latex": [
       "A data.table: 6 × 8674\n",
       "\\begin{tabular}{lllllllllllllllllllll}\n",
       " ID & SRR1068788 & SRR1068808 & SRR1068832 & SRR1068855 & SRR1068880 & SRR1068929 & SRR1068953 & SRR1068977 & SRR1068999 & ⋯ & SRR821573 & SRR821581 & SRR821602 & SRR821626 & SRR821653 & SRR821690 & SRR821715 & SRR823967 & SRR823991 & SRR824015\\\\\n",
       " <int> & <int> & <int> & <int> & <int> & <int> & <int> & <int> & <int> & <int> & ⋯ & <int> & <int> & <int> & <int> & <int> & <int> & <int> & <int> & <int> & <int>\\\\\n",
       "\\hline\n",
       "\t 1 &  0 &   0 &   0 &   0 &   1 &   0 &   0 &   0 &   0 & ⋯ &   0 &  0 &  0 &  0 &   0 &  0 &   0 &  0 &  0 &  0\\\\\n",
       "\t 2 & 26 & 247 & 103 & 620 & 494 & 145 & 145 & 139 & 697 & ⋯ & 151 & 32 & 62 & 48 & 963 & 25 & 196 & 76 & 72 & 61\\\\\n",
       "\t 3 &  1 &   0 &   1 &   0 &   0 &   0 &   1 &   1 &   2 & ⋯ &   2 &  1 &  0 &  1 &   3 &  0 &   1 &  0 &  0 &  0\\\\\n",
       "\t 4 &  0 &   1 &   1 &   2 &   0 &   0 &   1 &   0 &   2 & ⋯ &   0 &  0 &  0 &  0 &   1 &  0 &   0 &  0 &  0 &  0\\\\\n",
       "\t 5 &  3 &   0 &   2 &   3 &   6 &   1 &   1 &   1 &   5 & ⋯ &   3 &  2 &  0 &  1 &   6 &  0 &   2 &  0 &  0 &  0\\\\\n",
       "\t 6 &  2 &   1 &   2 &   5 &   6 &   1 &   1 &   0 &   5 & ⋯ &   1 &  1 &  0 &  0 &   4 &  0 &   1 &  0 &  0 &  0\\\\\n",
       "\\end{tabular}\n"
      ],
      "text/markdown": [
       "\n",
       "A data.table: 6 × 8674\n",
       "\n",
       "| ID &lt;int&gt; | SRR1068788 &lt;int&gt; | SRR1068808 &lt;int&gt; | SRR1068832 &lt;int&gt; | SRR1068855 &lt;int&gt; | SRR1068880 &lt;int&gt; | SRR1068929 &lt;int&gt; | SRR1068953 &lt;int&gt; | SRR1068977 &lt;int&gt; | SRR1068999 &lt;int&gt; | ⋯ ⋯ | SRR821573 &lt;int&gt; | SRR821581 &lt;int&gt; | SRR821602 &lt;int&gt; | SRR821626 &lt;int&gt; | SRR821653 &lt;int&gt; | SRR821690 &lt;int&gt; | SRR821715 &lt;int&gt; | SRR823967 &lt;int&gt; | SRR823991 &lt;int&gt; | SRR824015 &lt;int&gt; |\n",
       "|---|---|---|---|---|---|---|---|---|---|---|---|---|---|---|---|---|---|---|---|---|\n",
       "| 1 |  0 |   0 |   0 |   0 |   1 |   0 |   0 |   0 |   0 | ⋯ |   0 |  0 |  0 |  0 |   0 |  0 |   0 |  0 |  0 |  0 |\n",
       "| 2 | 26 | 247 | 103 | 620 | 494 | 145 | 145 | 139 | 697 | ⋯ | 151 | 32 | 62 | 48 | 963 | 25 | 196 | 76 | 72 | 61 |\n",
       "| 3 |  1 |   0 |   1 |   0 |   0 |   0 |   1 |   1 |   2 | ⋯ |   2 |  1 |  0 |  1 |   3 |  0 |   1 |  0 |  0 |  0 |\n",
       "| 4 |  0 |   1 |   1 |   2 |   0 |   0 |   1 |   0 |   2 | ⋯ |   0 |  0 |  0 |  0 |   1 |  0 |   0 |  0 |  0 |  0 |\n",
       "| 5 |  3 |   0 |   2 |   3 |   6 |   1 |   1 |   1 |   5 | ⋯ |   3 |  2 |  0 |  1 |   6 |  0 |   2 |  0 |  0 |  0 |\n",
       "| 6 |  2 |   1 |   2 |   5 |   6 |   1 |   1 |   0 |   5 | ⋯ |   1 |  1 |  0 |  0 |   4 |  0 |   1 |  0 |  0 |  0 |\n",
       "\n"
      ],
      "text/plain": [
       "  ID SRR1068788 SRR1068808 SRR1068832 SRR1068855 SRR1068880 SRR1068929\n",
       "1 1   0           0          0          0          1          0       \n",
       "2 2  26         247        103        620        494        145       \n",
       "3 3   1           0          1          0          0          0       \n",
       "4 4   0           1          1          2          0          0       \n",
       "5 5   3           0          2          3          6          1       \n",
       "6 6   2           1          2          5          6          1       \n",
       "  SRR1068953 SRR1068977 SRR1068999 ⋯ SRR821573 SRR821581 SRR821602 SRR821626\n",
       "1   0          0          0        ⋯   0        0         0         0       \n",
       "2 145        139        697        ⋯ 151       32        62        48       \n",
       "3   1          1          2        ⋯   2        1         0         1       \n",
       "4   1          0          2        ⋯   0        0         0         0       \n",
       "5   1          1          5        ⋯   3        2         0         1       \n",
       "6   1          0          5        ⋯   1        1         0         0       \n",
       "  SRR821653 SRR821690 SRR821715 SRR823967 SRR823991 SRR824015\n",
       "1   0        0          0        0         0         0       \n",
       "2 963       25        196       76        72        61       \n",
       "3   3        0          1        0         0         0       \n",
       "4   1        0          0        0         0         0       \n",
       "5   6        0          2        0         0         0       \n",
       "6   4        0          1        0         0         0       "
      ]
     },
     "metadata": {},
     "output_type": "display_data"
    },
    {
     "data": {
      "text/html": [
       "<table>\n",
       "<caption>A data.table: 6 × 8674</caption>\n",
       "<thead>\n",
       "\t<tr><th scope=col>ID</th><th scope=col>SRR1068788</th><th scope=col>SRR1068808</th><th scope=col>SRR1068832</th><th scope=col>SRR1068855</th><th scope=col>SRR1068880</th><th scope=col>SRR1068929</th><th scope=col>SRR1068953</th><th scope=col>SRR1068977</th><th scope=col>SRR1068999</th><th scope=col>⋯</th><th scope=col>SRR821573</th><th scope=col>SRR821581</th><th scope=col>SRR821602</th><th scope=col>SRR821626</th><th scope=col>SRR821653</th><th scope=col>SRR821690</th><th scope=col>SRR821715</th><th scope=col>SRR823967</th><th scope=col>SRR823991</th><th scope=col>SRR824015</th></tr>\n",
       "\t<tr><th scope=col>&lt;int&gt;</th><th scope=col>&lt;int&gt;</th><th scope=col>&lt;int&gt;</th><th scope=col>&lt;int&gt;</th><th scope=col>&lt;int&gt;</th><th scope=col>&lt;int&gt;</th><th scope=col>&lt;int&gt;</th><th scope=col>&lt;int&gt;</th><th scope=col>&lt;int&gt;</th><th scope=col>&lt;int&gt;</th><th scope=col>⋯</th><th scope=col>&lt;int&gt;</th><th scope=col>&lt;int&gt;</th><th scope=col>&lt;int&gt;</th><th scope=col>&lt;int&gt;</th><th scope=col>&lt;int&gt;</th><th scope=col>&lt;int&gt;</th><th scope=col>&lt;int&gt;</th><th scope=col>&lt;int&gt;</th><th scope=col>&lt;int&gt;</th><th scope=col>&lt;int&gt;</th></tr>\n",
       "</thead>\n",
       "<tbody>\n",
       "\t<tr><td>1</td><td> 2</td><td>  0</td><td> 1</td><td>  3</td><td>  6</td><td> 1</td><td> 0</td><td> 0</td><td>  3</td><td>⋯</td><td> 1</td><td> 1</td><td> 0</td><td>0</td><td>  3</td><td>0</td><td> 1</td><td> 0</td><td> 0</td><td> 0</td></tr>\n",
       "\t<tr><td>2</td><td> 0</td><td>  0</td><td> 0</td><td>  1</td><td>  0</td><td> 0</td><td> 1</td><td> 0</td><td>  0</td><td>⋯</td><td> 0</td><td> 0</td><td> 0</td><td>0</td><td>  0</td><td>0</td><td> 0</td><td> 0</td><td> 0</td><td> 0</td></tr>\n",
       "\t<tr><td>3</td><td> 0</td><td>  0</td><td> 0</td><td>  1</td><td>  0</td><td> 0</td><td> 0</td><td> 0</td><td>  0</td><td>⋯</td><td> 0</td><td> 0</td><td> 0</td><td>0</td><td>  0</td><td>0</td><td> 0</td><td> 0</td><td> 0</td><td> 0</td></tr>\n",
       "\t<tr><td>4</td><td> 0</td><td>  0</td><td> 0</td><td>  1</td><td>  0</td><td> 0</td><td> 0</td><td> 0</td><td>  1</td><td>⋯</td><td> 0</td><td> 0</td><td> 0</td><td>0</td><td>  2</td><td>0</td><td> 1</td><td> 0</td><td> 0</td><td> 0</td></tr>\n",
       "\t<tr><td>5</td><td> 0</td><td>  5</td><td> 3</td><td>  8</td><td>  4</td><td> 0</td><td> 3</td><td> 0</td><td>  3</td><td>⋯</td><td> 9</td><td> 3</td><td> 1</td><td>2</td><td>  3</td><td>0</td><td> 1</td><td> 0</td><td> 1</td><td> 0</td></tr>\n",
       "\t<tr><td>6</td><td>11</td><td>119</td><td>36</td><td>284</td><td>207</td><td>60</td><td>63</td><td>43</td><td>295</td><td>⋯</td><td>52</td><td>13</td><td>14</td><td>9</td><td>338</td><td>8</td><td>63</td><td>25</td><td>20</td><td>18</td></tr>\n",
       "</tbody>\n",
       "</table>\n"
      ],
      "text/latex": [
       "A data.table: 6 × 8674\n",
       "\\begin{tabular}{lllllllllllllllllllll}\n",
       " ID & SRR1068788 & SRR1068808 & SRR1068832 & SRR1068855 & SRR1068880 & SRR1068929 & SRR1068953 & SRR1068977 & SRR1068999 & ⋯ & SRR821573 & SRR821581 & SRR821602 & SRR821626 & SRR821653 & SRR821690 & SRR821715 & SRR823967 & SRR823991 & SRR824015\\\\\n",
       " <int> & <int> & <int> & <int> & <int> & <int> & <int> & <int> & <int> & <int> & ⋯ & <int> & <int> & <int> & <int> & <int> & <int> & <int> & <int> & <int> & <int>\\\\\n",
       "\\hline\n",
       "\t 1 &  2 &   0 &  1 &   3 &   6 &  1 &  0 &  0 &   3 & ⋯ &  1 &  1 &  0 & 0 &   3 & 0 &  1 &  0 &  0 &  0\\\\\n",
       "\t 2 &  0 &   0 &  0 &   1 &   0 &  0 &  1 &  0 &   0 & ⋯ &  0 &  0 &  0 & 0 &   0 & 0 &  0 &  0 &  0 &  0\\\\\n",
       "\t 3 &  0 &   0 &  0 &   1 &   0 &  0 &  0 &  0 &   0 & ⋯ &  0 &  0 &  0 & 0 &   0 & 0 &  0 &  0 &  0 &  0\\\\\n",
       "\t 4 &  0 &   0 &  0 &   1 &   0 &  0 &  0 &  0 &   1 & ⋯ &  0 &  0 &  0 & 0 &   2 & 0 &  1 &  0 &  0 &  0\\\\\n",
       "\t 5 &  0 &   5 &  3 &   8 &   4 &  0 &  3 &  0 &   3 & ⋯ &  9 &  3 &  1 & 2 &   3 & 0 &  1 &  0 &  1 &  0\\\\\n",
       "\t 6 & 11 & 119 & 36 & 284 & 207 & 60 & 63 & 43 & 295 & ⋯ & 52 & 13 & 14 & 9 & 338 & 8 & 63 & 25 & 20 & 18\\\\\n",
       "\\end{tabular}\n"
      ],
      "text/markdown": [
       "\n",
       "A data.table: 6 × 8674\n",
       "\n",
       "| ID &lt;int&gt; | SRR1068788 &lt;int&gt; | SRR1068808 &lt;int&gt; | SRR1068832 &lt;int&gt; | SRR1068855 &lt;int&gt; | SRR1068880 &lt;int&gt; | SRR1068929 &lt;int&gt; | SRR1068953 &lt;int&gt; | SRR1068977 &lt;int&gt; | SRR1068999 &lt;int&gt; | ⋯ ⋯ | SRR821573 &lt;int&gt; | SRR821581 &lt;int&gt; | SRR821602 &lt;int&gt; | SRR821626 &lt;int&gt; | SRR821653 &lt;int&gt; | SRR821690 &lt;int&gt; | SRR821715 &lt;int&gt; | SRR823967 &lt;int&gt; | SRR823991 &lt;int&gt; | SRR824015 &lt;int&gt; |\n",
       "|---|---|---|---|---|---|---|---|---|---|---|---|---|---|---|---|---|---|---|---|---|\n",
       "| 1 |  2 |   0 |  1 |   3 |   6 |  1 |  0 |  0 |   3 | ⋯ |  1 |  1 |  0 | 0 |   3 | 0 |  1 |  0 |  0 |  0 |\n",
       "| 2 |  0 |   0 |  0 |   1 |   0 |  0 |  1 |  0 |   0 | ⋯ |  0 |  0 |  0 | 0 |   0 | 0 |  0 |  0 |  0 |  0 |\n",
       "| 3 |  0 |   0 |  0 |   1 |   0 |  0 |  0 |  0 |   0 | ⋯ |  0 |  0 |  0 | 0 |   0 | 0 |  0 |  0 |  0 |  0 |\n",
       "| 4 |  0 |   0 |  0 |   1 |   0 |  0 |  0 |  0 |   1 | ⋯ |  0 |  0 |  0 | 0 |   2 | 0 |  1 |  0 |  0 |  0 |\n",
       "| 5 |  0 |   5 |  3 |   8 |   4 |  0 |  3 |  0 |   3 | ⋯ |  9 |  3 |  1 | 2 |   3 | 0 |  1 |  0 |  1 |  0 |\n",
       "| 6 | 11 | 119 | 36 | 284 | 207 | 60 | 63 | 43 | 295 | ⋯ | 52 | 13 | 14 | 9 | 338 | 8 | 63 | 25 | 20 | 18 |\n",
       "\n"
      ],
      "text/plain": [
       "  ID SRR1068788 SRR1068808 SRR1068832 SRR1068855 SRR1068880 SRR1068929\n",
       "1 1   2           0         1           3          6         1        \n",
       "2 2   0           0         0           1          0         0        \n",
       "3 3   0           0         0           1          0         0        \n",
       "4 4   0           0         0           1          0         0        \n",
       "5 5   0           5         3           8          4         0        \n",
       "6 6  11         119        36         284        207        60        \n",
       "  SRR1068953 SRR1068977 SRR1068999 ⋯ SRR821573 SRR821581 SRR821602 SRR821626\n",
       "1  0          0           3        ⋯  1         1         0        0        \n",
       "2  1          0           0        ⋯  0         0         0        0        \n",
       "3  0          0           0        ⋯  0         0         0        0        \n",
       "4  0          0           1        ⋯  0         0         0        0        \n",
       "5  3          0           3        ⋯  9         3         1        2        \n",
       "6 63         43         295        ⋯ 52        13        14        9        \n",
       "  SRR821653 SRR821690 SRR821715 SRR823967 SRR823991 SRR824015\n",
       "1   3       0          1         0         0         0       \n",
       "2   0       0          0         0         0         0       \n",
       "3   0       0          0         0         0         0       \n",
       "4   2       0          1         0         0         0       \n",
       "5   3       0          1         0         1         0       \n",
       "6 338       8         63        25        20        18       "
      ]
     },
     "metadata": {},
     "output_type": "display_data"
    },
    {
     "data": {
      "text/html": [
       "<table>\n",
       "<caption>A data.table: 6 × 79</caption>\n",
       "<thead>\n",
       "\t<tr><th scope=col>Run</th><th scope=col>analyte_type</th><th scope=col>Assay Type</th><th scope=col>AvgSpotLen</th><th scope=col>Bases</th><th scope=col>BioProject</th><th scope=col>BioSample</th><th scope=col>biospecimen_repository</th><th scope=col>biospecimen_repository_sample_id</th><th scope=col>body_site</th><th scope=col>⋯</th><th scope=col>data_type (run)</th><th scope=col>product_part_number (exp)</th><th scope=col>product_part_number (run)</th><th scope=col>sample_barcode (exp)</th><th scope=col>sample_barcode (run)</th><th scope=col>is_technical_control</th><th scope=col>target_set (exp)</th><th scope=col>primary_disease (exp)</th><th scope=col>secondary_accessions (run)</th><th scope=col>Alignment_Provider (run)</th></tr>\n",
       "\t<tr><th scope=col>&lt;chr&gt;</th><th scope=col>&lt;chr&gt;</th><th scope=col>&lt;chr&gt;</th><th scope=col>&lt;int&gt;</th><th scope=col>&lt;int64&gt;</th><th scope=col>&lt;chr&gt;</th><th scope=col>&lt;chr&gt;</th><th scope=col>&lt;chr&gt;</th><th scope=col>&lt;chr&gt;</th><th scope=col>&lt;chr&gt;</th><th scope=col>⋯</th><th scope=col>&lt;chr&gt;</th><th scope=col>&lt;chr&gt;</th><th scope=col>&lt;chr&gt;</th><th scope=col>&lt;dbl&gt;</th><th scope=col>&lt;dbl&gt;</th><th scope=col>&lt;chr&gt;</th><th scope=col>&lt;lgl&gt;</th><th scope=col>&lt;chr&gt;</th><th scope=col>&lt;chr&gt;</th><th scope=col>&lt;lgl&gt;</th></tr>\n",
       "</thead>\n",
       "<tbody>\n",
       "\t<tr><td>SRR2911715</td><td>RNA</td><td>RNA-Seq</td><td>150</td><td>3852895500</td><td>PRJNA244100</td><td>SAMN04216864</td><td>Cloud Testing</td><td>HG00103</td><td>Lymphoblastoid cell line</td><td>⋯</td><td></td><td></td><td></td><td>NA</td><td>NA</td><td></td><td>NA</td><td></td><td></td><td>NA</td></tr>\n",
       "\t<tr><td>SRR2911716</td><td>RNA</td><td>RNA-Seq</td><td>150</td><td>4885577400</td><td>PRJNA244100</td><td>SAMN04216866</td><td>Cloud Testing</td><td>HG00154</td><td>Lymphoblastoid cell line</td><td>⋯</td><td></td><td></td><td></td><td>NA</td><td>NA</td><td></td><td>NA</td><td></td><td></td><td>NA</td></tr>\n",
       "\t<tr><td>SRR2911718</td><td>RNA</td><td>RNA-Seq</td><td>150</td><td>2690545500</td><td>PRJNA244100</td><td>SAMN04216863</td><td>Cloud Testing</td><td>NA18910</td><td>Lymphoblastoid cell line</td><td>⋯</td><td></td><td></td><td></td><td>NA</td><td>NA</td><td></td><td>NA</td><td></td><td></td><td>NA</td></tr>\n",
       "\t<tr><td>SRR2911719</td><td>RNA</td><td>RNA-Seq</td><td>150</td><td>2699599350</td><td>PRJNA244100</td><td>SAMN04216865</td><td>Cloud Testing</td><td>NA19200</td><td>Lymphoblastoid cell line</td><td>⋯</td><td></td><td></td><td></td><td>NA</td><td>NA</td><td></td><td>NA</td><td></td><td></td><td>NA</td></tr>\n",
       "\t<tr><td>SRR2911720</td><td>RNA</td><td>RNA-Seq</td><td>152</td><td>4300467752</td><td>PRJNA244100</td><td>SAMN04216865</td><td>Cloud Testing</td><td>NA19200</td><td>Lymphoblastoid cell line</td><td>⋯</td><td></td><td></td><td></td><td>NA</td><td>NA</td><td></td><td>NA</td><td></td><td></td><td>NA</td></tr>\n",
       "\t<tr><td>SRR2911717</td><td>RNA</td><td>RNA-Seq</td><td>150</td><td>2666546700</td><td>PRJNA244100</td><td>SAMN04216863</td><td>Cloud Testing</td><td>NA18910</td><td>Lymphoblastoid cell line</td><td>⋯</td><td></td><td></td><td></td><td>NA</td><td>NA</td><td></td><td>NA</td><td></td><td></td><td>NA</td></tr>\n",
       "</tbody>\n",
       "</table>\n"
      ],
      "text/latex": [
       "A data.table: 6 × 79\n",
       "\\begin{tabular}{lllllllllllllllllllll}\n",
       " Run & analyte\\_type & Assay Type & AvgSpotLen & Bases & BioProject & BioSample & biospecimen\\_repository & biospecimen\\_repository\\_sample\\_id & body\\_site & ⋯ & data\\_type (run) & product\\_part\\_number (exp) & product\\_part\\_number (run) & sample\\_barcode (exp) & sample\\_barcode (run) & is\\_technical\\_control & target\\_set (exp) & primary\\_disease (exp) & secondary\\_accessions (run) & Alignment\\_Provider (run)\\\\\n",
       " <chr> & <chr> & <chr> & <int> & <int64> & <chr> & <chr> & <chr> & <chr> & <chr> & ⋯ & <chr> & <chr> & <chr> & <dbl> & <dbl> & <chr> & <lgl> & <chr> & <chr> & <lgl>\\\\\n",
       "\\hline\n",
       "\t SRR2911715 & RNA & RNA-Seq & 150 & 3852895500 & PRJNA244100 & SAMN04216864 & Cloud Testing & HG00103 & Lymphoblastoid cell line & ⋯ &  &  &  & NA & NA &  & NA &  &  & NA\\\\\n",
       "\t SRR2911716 & RNA & RNA-Seq & 150 & 4885577400 & PRJNA244100 & SAMN04216866 & Cloud Testing & HG00154 & Lymphoblastoid cell line & ⋯ &  &  &  & NA & NA &  & NA &  &  & NA\\\\\n",
       "\t SRR2911718 & RNA & RNA-Seq & 150 & 2690545500 & PRJNA244100 & SAMN04216863 & Cloud Testing & NA18910 & Lymphoblastoid cell line & ⋯ &  &  &  & NA & NA &  & NA &  &  & NA\\\\\n",
       "\t SRR2911719 & RNA & RNA-Seq & 150 & 2699599350 & PRJNA244100 & SAMN04216865 & Cloud Testing & NA19200 & Lymphoblastoid cell line & ⋯ &  &  &  & NA & NA &  & NA &  &  & NA\\\\\n",
       "\t SRR2911720 & RNA & RNA-Seq & 152 & 4300467752 & PRJNA244100 & SAMN04216865 & Cloud Testing & NA19200 & Lymphoblastoid cell line & ⋯ &  &  &  & NA & NA &  & NA &  &  & NA\\\\\n",
       "\t SRR2911717 & RNA & RNA-Seq & 150 & 2666546700 & PRJNA244100 & SAMN04216863 & Cloud Testing & NA18910 & Lymphoblastoid cell line & ⋯ &  &  &  & NA & NA &  & NA &  &  & NA\\\\\n",
       "\\end{tabular}\n"
      ],
      "text/markdown": [
       "\n",
       "A data.table: 6 × 79\n",
       "\n",
       "| Run &lt;chr&gt; | analyte_type &lt;chr&gt; | Assay Type &lt;chr&gt; | AvgSpotLen &lt;int&gt; | Bases &lt;int64&gt; | BioProject &lt;chr&gt; | BioSample &lt;chr&gt; | biospecimen_repository &lt;chr&gt; | biospecimen_repository_sample_id &lt;chr&gt; | body_site &lt;chr&gt; | ⋯ ⋯ | data_type (run) &lt;chr&gt; | product_part_number (exp) &lt;chr&gt; | product_part_number (run) &lt;chr&gt; | sample_barcode (exp) &lt;dbl&gt; | sample_barcode (run) &lt;dbl&gt; | is_technical_control &lt;chr&gt; | target_set (exp) &lt;lgl&gt; | primary_disease (exp) &lt;chr&gt; | secondary_accessions (run) &lt;chr&gt; | Alignment_Provider (run) &lt;lgl&gt; |\n",
       "|---|---|---|---|---|---|---|---|---|---|---|---|---|---|---|---|---|---|---|---|---|\n",
       "| SRR2911715 | RNA | RNA-Seq | 150 | 3852895500 | PRJNA244100 | SAMN04216864 | Cloud Testing | HG00103 | Lymphoblastoid cell line | ⋯ | <!----> | <!----> | <!----> | NA | NA | <!----> | NA | <!----> | <!----> | NA |\n",
       "| SRR2911716 | RNA | RNA-Seq | 150 | 4885577400 | PRJNA244100 | SAMN04216866 | Cloud Testing | HG00154 | Lymphoblastoid cell line | ⋯ | <!----> | <!----> | <!----> | NA | NA | <!----> | NA | <!----> | <!----> | NA |\n",
       "| SRR2911718 | RNA | RNA-Seq | 150 | 2690545500 | PRJNA244100 | SAMN04216863 | Cloud Testing | NA18910 | Lymphoblastoid cell line | ⋯ | <!----> | <!----> | <!----> | NA | NA | <!----> | NA | <!----> | <!----> | NA |\n",
       "| SRR2911719 | RNA | RNA-Seq | 150 | 2699599350 | PRJNA244100 | SAMN04216865 | Cloud Testing | NA19200 | Lymphoblastoid cell line | ⋯ | <!----> | <!----> | <!----> | NA | NA | <!----> | NA | <!----> | <!----> | NA |\n",
       "| SRR2911720 | RNA | RNA-Seq | 152 | 4300467752 | PRJNA244100 | SAMN04216865 | Cloud Testing | NA19200 | Lymphoblastoid cell line | ⋯ | <!----> | <!----> | <!----> | NA | NA | <!----> | NA | <!----> | <!----> | NA |\n",
       "| SRR2911717 | RNA | RNA-Seq | 150 | 2666546700 | PRJNA244100 | SAMN04216863 | Cloud Testing | NA18910 | Lymphoblastoid cell line | ⋯ | <!----> | <!----> | <!----> | NA | NA | <!----> | NA | <!----> | <!----> | NA |\n",
       "\n"
      ],
      "text/plain": [
       "  Run        analyte_type Assay Type AvgSpotLen Bases      BioProject \n",
       "1 SRR2911715 RNA          RNA-Seq    150        3852895500 PRJNA244100\n",
       "2 SRR2911716 RNA          RNA-Seq    150        4885577400 PRJNA244100\n",
       "3 SRR2911718 RNA          RNA-Seq    150        2690545500 PRJNA244100\n",
       "4 SRR2911719 RNA          RNA-Seq    150        2699599350 PRJNA244100\n",
       "5 SRR2911720 RNA          RNA-Seq    152        4300467752 PRJNA244100\n",
       "6 SRR2911717 RNA          RNA-Seq    150        2666546700 PRJNA244100\n",
       "  BioSample    biospecimen_repository biospecimen_repository_sample_id\n",
       "1 SAMN04216864 Cloud Testing          HG00103                         \n",
       "2 SAMN04216866 Cloud Testing          HG00154                         \n",
       "3 SAMN04216863 Cloud Testing          NA18910                         \n",
       "4 SAMN04216865 Cloud Testing          NA19200                         \n",
       "5 SAMN04216865 Cloud Testing          NA19200                         \n",
       "6 SAMN04216863 Cloud Testing          NA18910                         \n",
       "  body_site                ⋯ data_type (run) product_part_number (exp)\n",
       "1 Lymphoblastoid cell line ⋯                                          \n",
       "2 Lymphoblastoid cell line ⋯                                          \n",
       "3 Lymphoblastoid cell line ⋯                                          \n",
       "4 Lymphoblastoid cell line ⋯                                          \n",
       "5 Lymphoblastoid cell line ⋯                                          \n",
       "6 Lymphoblastoid cell line ⋯                                          \n",
       "  product_part_number (run) sample_barcode (exp) sample_barcode (run)\n",
       "1                           NA                   NA                  \n",
       "2                           NA                   NA                  \n",
       "3                           NA                   NA                  \n",
       "4                           NA                   NA                  \n",
       "5                           NA                   NA                  \n",
       "6                           NA                   NA                  \n",
       "  is_technical_control target_set (exp) primary_disease (exp)\n",
       "1                      NA                                    \n",
       "2                      NA                                    \n",
       "3                      NA                                    \n",
       "4                      NA                                    \n",
       "5                      NA                                    \n",
       "6                      NA                                    \n",
       "  secondary_accessions (run) Alignment_Provider (run)\n",
       "1                            NA                      \n",
       "2                            NA                      \n",
       "3                            NA                      \n",
       "4                            NA                      \n",
       "5                            NA                      \n",
       "6                            NA                      "
      ]
     },
     "metadata": {},
     "output_type": "display_data"
    },
    {
     "data": {
      "text/html": [
       "<style>\n",
       ".list-inline {list-style: none; margin:0; padding: 0}\n",
       ".list-inline>li {display: inline-block}\n",
       ".list-inline>li:not(:last-child)::after {content: \"\\00b7\"; padding: 0 .5ex}\n",
       "</style>\n",
       "<ol class=list-inline><li>42611</li><li>8674</li></ol>\n"
      ],
      "text/latex": [
       "\\begin{enumerate*}\n",
       "\\item 42611\n",
       "\\item 8674\n",
       "\\end{enumerate*}\n"
      ],
      "text/markdown": [
       "1. 42611\n",
       "2. 8674\n",
       "\n",
       "\n"
      ],
      "text/plain": [
       "[1] 42611  8674"
      ]
     },
     "metadata": {},
     "output_type": "display_data"
    },
    {
     "data": {
      "text/html": [
       "<style>\n",
       ".list-inline {list-style: none; margin:0; padding: 0}\n",
       ".list-inline>li {display: inline-block}\n",
       ".list-inline>li:not(:last-child)::after {content: \"\\00b7\"; padding: 0 .5ex}\n",
       "</style>\n",
       "<ol class=list-inline><li>42611</li><li>8674</li></ol>\n"
      ],
      "text/latex": [
       "\\begin{enumerate*}\n",
       "\\item 42611\n",
       "\\item 8674\n",
       "\\end{enumerate*}\n"
      ],
      "text/markdown": [
       "1. 42611\n",
       "2. 8674\n",
       "\n",
       "\n"
      ],
      "text/plain": [
       "[1] 42611  8674"
      ]
     },
     "metadata": {},
     "output_type": "display_data"
    },
    {
     "data": {
      "text/html": [
       "<style>\n",
       ".list-inline {list-style: none; margin:0; padding: 0}\n",
       ".list-inline>li {display: inline-block}\n",
       ".list-inline>li:not(:last-child)::after {content: \"\\00b7\"; padding: 0 .5ex}\n",
       "</style>\n",
       "<ol class=list-inline><li>9784</li><li>79</li></ol>\n"
      ],
      "text/latex": [
       "\\begin{enumerate*}\n",
       "\\item 9784\n",
       "\\item 79\n",
       "\\end{enumerate*}\n"
      ],
      "text/markdown": [
       "1. 9784\n",
       "2. 79\n",
       "\n",
       "\n"
      ],
      "text/plain": [
       "[1] 9784   79"
      ]
     },
     "metadata": {},
     "output_type": "display_data"
    }
   ],
   "source": [
    "piggyback::pb_download(\n",
    "    repo = \"TheJacksonLaboratory/sbas\", \n",
    "    file = \"SraRunTable.noCram.noExome.noWGS.totalRNA.txt.gz\",\n",
    "    tag  = \"GTExV8.v1.0\", \n",
    "    dest = \"../data/\")\n",
    "\n",
    "piggyback::pb_download(\n",
    "    repo = \"adeslatt/sbas_test\", \n",
    "    file = \"rmats_final.se.jc.ijc.txt.gz\",\n",
    "    tag  = \"rMATS.3.2.5.GTEx.V8.final_matrices\", \n",
    "    dest = \"../data/\")\n",
    "\n",
    "piggyback::pb_download(\n",
    "    repo = \"adeslatt/sbas_test\", \n",
    "    file = \"rmats_final.se.jc.sjc.txt.gz\",\n",
    "    tag  = \"rMATS.3.2.5.GTEx.V8.final_matrices\", \n",
    "    dest = \"../data/\")\n",
    "\n",
    "ijc.iso.counts.mem <- data.table::fread(\"../data/rmats_final.se.jc.ijc.txt.gz\") \n",
    "sjc.iso.counts.mem <- data.table::fread(\"../data/rmats_final.se.jc.sjc.txt.gz\") \n",
    "meta.data          <- data.table::fread(\"../data/SraRunTable.noCram.noExome.noWGS.totalRNA.txt.gz\")\n",
    "\n",
    "head(ijc.iso.counts.mem)\n",
    "head(sjc.iso.counts.mem)\n",
    "head(meta.data)\n",
    "\n",
    "#dimensions before we make the changes.\n",
    "dim(ijc.iso.counts.mem)\n",
    "dim(sjc.iso.counts.mem)\n",
    "dim(meta.data)"
   ]
  },
  {
   "cell_type": "markdown",
   "metadata": {},
   "source": [
    "## Synchronize metadata samples with ijc sjc samples\n",
    "\n",
    "Keep only the runs that are in the ijc count list (assuming ijc and sjc are the same).  As well, name the rows with the junction id column and then make the matrix just about the counts."
   ]
  },
  {
   "cell_type": "code",
   "execution_count": 5,
   "metadata": {},
   "outputs": [
    {
     "data": {
      "text/plain": [
       "keep.meta.data\n",
       "FALSE  TRUE \n",
       " 1111  8673 "
      ]
     },
     "metadata": {},
     "output_type": "display_data"
    }
   ],
   "source": [
    "# the sample names are in the columns of both the ijc and the sjc matrices, these matrices have the identical column order)\n",
    "keep.meta.data <- meta.data$Run %in% colnames(ijc.iso.counts.mem)\n",
    "table(keep.meta.data)\n",
    "reduced.meta.data <- meta.data[keep.meta.data==TRUE,]\n",
    "\n",
    "# preserve junction id as rowname\n",
    "rownames(ijc.iso.counts.mem) <- ijc.iso.counts.mem$ID\n",
    "rownames(sjc.iso.counts.mem) <- sjc.iso.counts.mem$ID\n",
    "\n",
    "# and remove the id to have a data matrix\n",
    "ijc.iso.counts.mem  <- ijc.iso.counts.mem[,-1]\n",
    "sjc.iso.counts.mem  <- sjc.iso.counts.mem[,-1]"
   ]
  },
  {
   "cell_type": "markdown",
   "metadata": {},
   "source": [
    "## Order ijc and sjc columns in the same order as the metadata Run order\n",
    "\n",
    "Using tibble library, we can rearrange the columns as the column name.  "
   ]
  },
  {
   "cell_type": "code",
   "execution_count": 6,
   "metadata": {},
   "outputs": [
    {
     "data": {
      "text/html": [
       "<style>\n",
       ".list-inline {list-style: none; margin:0; padding: 0}\n",
       ".list-inline>li {display: inline-block}\n",
       ".list-inline>li:not(:last-child)::after {content: \"\\00b7\"; padding: 0 .5ex}\n",
       "</style>\n",
       "<ol class=list-inline><li>42611</li><li>8673</li></ol>\n"
      ],
      "text/latex": [
       "\\begin{enumerate*}\n",
       "\\item 42611\n",
       "\\item 8673\n",
       "\\end{enumerate*}\n"
      ],
      "text/markdown": [
       "1. 42611\n",
       "2. 8673\n",
       "\n",
       "\n"
      ],
      "text/plain": [
       "[1] 42611  8673"
      ]
     },
     "metadata": {},
     "output_type": "display_data"
    },
    {
     "data": {
      "text/html": [
       "<style>\n",
       ".list-inline {list-style: none; margin:0; padding: 0}\n",
       ".list-inline>li {display: inline-block}\n",
       ".list-inline>li:not(:last-child)::after {content: \"\\00b7\"; padding: 0 .5ex}\n",
       "</style>\n",
       "<ol class=list-inline><li>42611</li><li>8673</li></ol>\n"
      ],
      "text/latex": [
       "\\begin{enumerate*}\n",
       "\\item 42611\n",
       "\\item 8673\n",
       "\\end{enumerate*}\n"
      ],
      "text/markdown": [
       "1. 42611\n",
       "2. 8673\n",
       "\n",
       "\n"
      ],
      "text/plain": [
       "[1] 42611  8673"
      ]
     },
     "metadata": {},
     "output_type": "display_data"
    },
    {
     "data": {
      "text/html": [
       "<style>\n",
       ".list-inline {list-style: none; margin:0; padding: 0}\n",
       ".list-inline>li {display: inline-block}\n",
       ".list-inline>li:not(:last-child)::after {content: \"\\00b7\"; padding: 0 .5ex}\n",
       "</style>\n",
       "<ol class=list-inline><li>8673</li><li>79</li></ol>\n"
      ],
      "text/latex": [
       "\\begin{enumerate*}\n",
       "\\item 8673\n",
       "\\item 79\n",
       "\\end{enumerate*}\n"
      ],
      "text/markdown": [
       "1. 8673\n",
       "2. 79\n",
       "\n",
       "\n"
      ],
      "text/plain": [
       "[1] 8673   79"
      ]
     },
     "metadata": {},
     "output_type": "display_data"
    }
   ],
   "source": [
    "meta.data.run.names  <- as.character(reduced.meta.data$Run)\n",
    "ijc.iso.counts.mem2  <- as_tibble(ijc.iso.counts.mem)\n",
    "sjc.iso.counts.mem2  <- as_tibble(sjc.iso.counts.mem)\n",
    "\n",
    "ijc.iso.counts.mem2  <- ijc.iso.counts.mem2[,c(meta.data.run.names)]\n",
    "sjc.iso.counts.mem2  <- sjc.iso.counts.mem2[,c(meta.data.run.names)]\n",
    "\n",
    "dim(ijc.iso.counts.mem2)\n",
    "dim(sjc.iso.counts.mem2)\n",
    "dim(reduced.meta.data)"
   ]
  },
  {
   "cell_type": "markdown",
   "metadata": {},
   "source": [
    "Remove samples that match '11IL0' from the ijc, sjc and metadata files using the logical grep, grepl"
   ]
  },
  {
   "cell_type": "code",
   "execution_count": 7,
   "metadata": {},
   "outputs": [
    {
     "data": {
      "text/plain": [
       "keep.meta.data\n",
       "FALSE  TRUE \n",
       "   12  8661 "
      ]
     },
     "metadata": {},
     "output_type": "display_data"
    },
    {
     "data": {
      "text/html": [
       "<style>\n",
       ".list-inline {list-style: none; margin:0; padding: 0}\n",
       ".list-inline>li {display: inline-block}\n",
       ".list-inline>li:not(:last-child)::after {content: \"\\00b7\"; padding: 0 .5ex}\n",
       "</style>\n",
       "<ol class=list-inline><li>42611</li><li>8661</li></ol>\n"
      ],
      "text/latex": [
       "\\begin{enumerate*}\n",
       "\\item 42611\n",
       "\\item 8661\n",
       "\\end{enumerate*}\n"
      ],
      "text/markdown": [
       "1. 42611\n",
       "2. 8661\n",
       "\n",
       "\n"
      ],
      "text/plain": [
       "[1] 42611  8661"
      ]
     },
     "metadata": {},
     "output_type": "display_data"
    },
    {
     "data": {
      "text/html": [
       "<style>\n",
       ".list-inline {list-style: none; margin:0; padding: 0}\n",
       ".list-inline>li {display: inline-block}\n",
       ".list-inline>li:not(:last-child)::after {content: \"\\00b7\"; padding: 0 .5ex}\n",
       "</style>\n",
       "<ol class=list-inline><li>42611</li><li>8661</li></ol>\n"
      ],
      "text/latex": [
       "\\begin{enumerate*}\n",
       "\\item 42611\n",
       "\\item 8661\n",
       "\\end{enumerate*}\n"
      ],
      "text/markdown": [
       "1. 42611\n",
       "2. 8661\n",
       "\n",
       "\n"
      ],
      "text/plain": [
       "[1] 42611  8661"
      ]
     },
     "metadata": {},
     "output_type": "display_data"
    }
   ],
   "source": [
    "keep.meta.data <- (!grepl('11ILO',reduced.meta.data$\"Sample Name\"))\n",
    "table(keep.meta.data)\n",
    "ijc.iso.counts.mem2 <-ijc.iso.counts.mem2 [                    ,keep.meta.data==TRUE]\n",
    "sjc.iso.counts.mem2 <-sjc.iso.counts.mem2 [                    ,keep.meta.data==TRUE]\n",
    "\n",
    "reduced.meta.data   <-reduced.meta.data   [keep.meta.data==TRUE,                    ]\n",
    "dim(ijc.iso.counts.mem2)\n",
    "dim(sjc.iso.counts.mem2)"
   ]
  },
  {
   "cell_type": "markdown",
   "metadata": {},
   "source": [
    "### and now for all tissues\n"
   ]
  },
  {
   "cell_type": "markdown",
   "metadata": {},
   "source": [
    "### exploration of the details\n",
    "\n",
    "For each sample, we have ijc and sjc count data and demo\n",
    "For exon skipping events (SE), we have 42,611 non-zero junction IDs the (first dimension of the ijc and sjc cout table) for the skipped exon event for breast-Mammary Tissue, 191 individuals.  These are healthy individuals, and we are studying the impact of sex on the occurrence or non-occurance of specific alternative splicing events.   We explore the information we ahve about these junctions and create a construct, as_event, which accounts for the junction under exploration.\n",
    "\n",
    "#### Exploring the ijc and sjc Count data \n",
    "\n",
    "We have two counts that are in many ways two sides of the same coin.  Both our the observational output and we wish to see how robust each are in their ability to separate out the samples to provide for us differentially expressed isoform events as measured by their counts.   Each junction is in a manner a specific marker to specific isoform events that may or may not be shared between the genders.   If there is significant results, then this is indicative of the separation achieved by isoform specific differentiation.   In our model we will use these in combination, it is important to see if they will yield the results we are looking for."
   ]
  },
  {
   "cell_type": "markdown",
   "metadata": {},
   "source": [
    "## Preparing the data further\n",
    "\n",
    "### Keeping only tissues shared male female\n",
    "\n",
    "We need to remove the tissues that are not shared by males and females, we do this by finding the intersection of the tissue lists."
   ]
  },
  {
   "cell_type": "code",
   "execution_count": 8,
   "metadata": {},
   "outputs": [
    {
     "data": {
      "text/html": [
       "8661"
      ],
      "text/latex": [
       "8661"
      ],
      "text/markdown": [
       "8661"
      ],
      "text/plain": [
       "[1] 8661"
      ]
     },
     "metadata": {},
     "output_type": "display_data"
    },
    {
     "data": {
      "text/html": [
       "8661"
      ],
      "text/latex": [
       "8661"
      ],
      "text/markdown": [
       "8661"
      ],
      "text/plain": [
       "[1] 8661"
      ]
     },
     "metadata": {},
     "output_type": "display_data"
    },
    {
     "data": {
      "text/html": [
       "8661"
      ],
      "text/latex": [
       "8661"
      ],
      "text/markdown": [
       "8661"
      ],
      "text/plain": [
       "[1] 8661"
      ]
     },
     "metadata": {},
     "output_type": "display_data"
    },
    {
     "data": {
      "text/plain": [
       "keep\n",
       "FALSE  TRUE \n",
       "  673  7988 "
      ]
     },
     "metadata": {},
     "output_type": "display_data"
    },
    {
     "data": {
      "text/html": [
       "<style>\n",
       ".list-inline {list-style: none; margin:0; padding: 0}\n",
       ".list-inline>li {display: inline-block}\n",
       ".list-inline>li:not(:last-child)::after {content: \"\\00b7\"; padding: 0 .5ex}\n",
       "</style>\n",
       "<ol class=list-inline><li>42611</li><li>7988</li></ol>\n"
      ],
      "text/latex": [
       "\\begin{enumerate*}\n",
       "\\item 42611\n",
       "\\item 7988\n",
       "\\end{enumerate*}\n"
      ],
      "text/markdown": [
       "1. 42611\n",
       "2. 7988\n",
       "\n",
       "\n"
      ],
      "text/plain": [
       "[1] 42611  7988"
      ]
     },
     "metadata": {},
     "output_type": "display_data"
    },
    {
     "data": {
      "text/html": [
       "<style>\n",
       ".list-inline {list-style: none; margin:0; padding: 0}\n",
       ".list-inline>li {display: inline-block}\n",
       ".list-inline>li:not(:last-child)::after {content: \"\\00b7\"; padding: 0 .5ex}\n",
       "</style>\n",
       "<ol class=list-inline><li>42611</li><li>7988</li></ol>\n"
      ],
      "text/latex": [
       "\\begin{enumerate*}\n",
       "\\item 42611\n",
       "\\item 7988\n",
       "\\end{enumerate*}\n"
      ],
      "text/markdown": [
       "1. 42611\n",
       "2. 7988\n",
       "\n",
       "\n"
      ],
      "text/plain": [
       "[1] 42611  7988"
      ]
     },
     "metadata": {},
     "output_type": "display_data"
    },
    {
     "data": {
      "text/html": [
       "<style>\n",
       ".list-inline {list-style: none; margin:0; padding: 0}\n",
       ".list-inline>li {display: inline-block}\n",
       ".list-inline>li:not(:last-child)::after {content: \"\\00b7\"; padding: 0 .5ex}\n",
       "</style>\n",
       "<ol class=list-inline><li>7988</li><li>79</li></ol>\n"
      ],
      "text/latex": [
       "\\begin{enumerate*}\n",
       "\\item 7988\n",
       "\\item 79\n",
       "\\end{enumerate*}\n"
      ],
      "text/markdown": [
       "1. 7988\n",
       "2. 79\n",
       "\n",
       "\n"
      ],
      "text/plain": [
       "[1] 7988   79"
      ]
     },
     "metadata": {},
     "output_type": "display_data"
    },
    {
     "data": {
      "text/html": [
       "7988"
      ],
      "text/latex": [
       "7988"
      ],
      "text/markdown": [
       "7988"
      ],
      "text/plain": [
       "[1] 7988"
      ]
     },
     "metadata": {},
     "output_type": "display_data"
    },
    {
     "data": {
      "text/html": [
       "<style>\n",
       ".list-inline {list-style: none; margin:0; padding: 0}\n",
       ".list-inline>li {display: inline-block}\n",
       ".list-inline>li:not(:last-child)::after {content: \"\\00b7\"; padding: 0 .5ex}\n",
       "</style>\n",
       "<ol class=list-inline><li>'Adipose - Subcutaneous'</li><li>'Adipose - Visceral (Omentum)'</li><li>'Adrenal Gland'</li><li>'Artery - Aorta'</li><li>'Artery - Coronary'</li><li>'Artery - Tibial'</li><li>'Bladder'</li><li>'Brain - Amygdala'</li><li>'Brain - Anterior cingulate cortex (BA24)'</li><li>'Brain - Caudate (basal ganglia)'</li><li>'Brain - Cerebellar Hemisphere'</li><li>'Brain - Cerebellum'</li><li>'Brain - Cortex'</li><li>'Brain - Frontal Cortex (BA9)'</li><li>'Brain - Hippocampus'</li><li>'Brain - Hypothalamus'</li><li>'Brain - Nucleus accumbens (basal ganglia)'</li><li>'Brain - Putamen (basal ganglia)'</li><li>'Brain - Spinal cord (cervical c-1)'</li><li>'Brain - Substantia nigra'</li><li>'Breast - Mammary Tissue'</li><li>'Cells - Cultured fibroblasts'</li><li>'Cells - EBV-transformed lymphocytes'</li><li>'Colon - Sigmoid'</li><li>'Colon - Transverse'</li><li>'Esophagus - Gastroesophageal Junction'</li><li>'Esophagus - Mucosa'</li><li>'Esophagus - Muscularis'</li><li>'Heart - Atrial Appendage'</li><li>'Heart - Left Ventricle'</li><li>'Kidney - Cortex'</li><li>'Liver'</li><li>'Lung'</li><li>'Minor Salivary Gland'</li><li>'Muscle - Skeletal'</li><li>'Nerve - Tibial'</li><li>'Pancreas'</li><li>'Pituitary'</li><li>'Skin - Not Sun Exposed (Suprapubic)'</li><li>'Skin - Sun Exposed (Lower leg)'</li><li>'Small Intestine - Terminal Ileum'</li><li>'Spleen'</li><li>'Stomach'</li><li>'Thyroid'</li><li>'Whole Blood'</li></ol>\n"
      ],
      "text/latex": [
       "\\begin{enumerate*}\n",
       "\\item 'Adipose - Subcutaneous'\n",
       "\\item 'Adipose - Visceral (Omentum)'\n",
       "\\item 'Adrenal Gland'\n",
       "\\item 'Artery - Aorta'\n",
       "\\item 'Artery - Coronary'\n",
       "\\item 'Artery - Tibial'\n",
       "\\item 'Bladder'\n",
       "\\item 'Brain - Amygdala'\n",
       "\\item 'Brain - Anterior cingulate cortex (BA24)'\n",
       "\\item 'Brain - Caudate (basal ganglia)'\n",
       "\\item 'Brain - Cerebellar Hemisphere'\n",
       "\\item 'Brain - Cerebellum'\n",
       "\\item 'Brain - Cortex'\n",
       "\\item 'Brain - Frontal Cortex (BA9)'\n",
       "\\item 'Brain - Hippocampus'\n",
       "\\item 'Brain - Hypothalamus'\n",
       "\\item 'Brain - Nucleus accumbens (basal ganglia)'\n",
       "\\item 'Brain - Putamen (basal ganglia)'\n",
       "\\item 'Brain - Spinal cord (cervical c-1)'\n",
       "\\item 'Brain - Substantia nigra'\n",
       "\\item 'Breast - Mammary Tissue'\n",
       "\\item 'Cells - Cultured fibroblasts'\n",
       "\\item 'Cells - EBV-transformed lymphocytes'\n",
       "\\item 'Colon - Sigmoid'\n",
       "\\item 'Colon - Transverse'\n",
       "\\item 'Esophagus - Gastroesophageal Junction'\n",
       "\\item 'Esophagus - Mucosa'\n",
       "\\item 'Esophagus - Muscularis'\n",
       "\\item 'Heart - Atrial Appendage'\n",
       "\\item 'Heart - Left Ventricle'\n",
       "\\item 'Kidney - Cortex'\n",
       "\\item 'Liver'\n",
       "\\item 'Lung'\n",
       "\\item 'Minor Salivary Gland'\n",
       "\\item 'Muscle - Skeletal'\n",
       "\\item 'Nerve - Tibial'\n",
       "\\item 'Pancreas'\n",
       "\\item 'Pituitary'\n",
       "\\item 'Skin - Not Sun Exposed (Suprapubic)'\n",
       "\\item 'Skin - Sun Exposed (Lower leg)'\n",
       "\\item 'Small Intestine - Terminal Ileum'\n",
       "\\item 'Spleen'\n",
       "\\item 'Stomach'\n",
       "\\item 'Thyroid'\n",
       "\\item 'Whole Blood'\n",
       "\\end{enumerate*}\n"
      ],
      "text/markdown": [
       "1. 'Adipose - Subcutaneous'\n",
       "2. 'Adipose - Visceral (Omentum)'\n",
       "3. 'Adrenal Gland'\n",
       "4. 'Artery - Aorta'\n",
       "5. 'Artery - Coronary'\n",
       "6. 'Artery - Tibial'\n",
       "7. 'Bladder'\n",
       "8. 'Brain - Amygdala'\n",
       "9. 'Brain - Anterior cingulate cortex (BA24)'\n",
       "10. 'Brain - Caudate (basal ganglia)'\n",
       "11. 'Brain - Cerebellar Hemisphere'\n",
       "12. 'Brain - Cerebellum'\n",
       "13. 'Brain - Cortex'\n",
       "14. 'Brain - Frontal Cortex (BA9)'\n",
       "15. 'Brain - Hippocampus'\n",
       "16. 'Brain - Hypothalamus'\n",
       "17. 'Brain - Nucleus accumbens (basal ganglia)'\n",
       "18. 'Brain - Putamen (basal ganglia)'\n",
       "19. 'Brain - Spinal cord (cervical c-1)'\n",
       "20. 'Brain - Substantia nigra'\n",
       "21. 'Breast - Mammary Tissue'\n",
       "22. 'Cells - Cultured fibroblasts'\n",
       "23. 'Cells - EBV-transformed lymphocytes'\n",
       "24. 'Colon - Sigmoid'\n",
       "25. 'Colon - Transverse'\n",
       "26. 'Esophagus - Gastroesophageal Junction'\n",
       "27. 'Esophagus - Mucosa'\n",
       "28. 'Esophagus - Muscularis'\n",
       "29. 'Heart - Atrial Appendage'\n",
       "30. 'Heart - Left Ventricle'\n",
       "31. 'Kidney - Cortex'\n",
       "32. 'Liver'\n",
       "33. 'Lung'\n",
       "34. 'Minor Salivary Gland'\n",
       "35. 'Muscle - Skeletal'\n",
       "36. 'Nerve - Tibial'\n",
       "37. 'Pancreas'\n",
       "38. 'Pituitary'\n",
       "39. 'Skin - Not Sun Exposed (Suprapubic)'\n",
       "40. 'Skin - Sun Exposed (Lower leg)'\n",
       "41. 'Small Intestine - Terminal Ileum'\n",
       "42. 'Spleen'\n",
       "43. 'Stomach'\n",
       "44. 'Thyroid'\n",
       "45. 'Whole Blood'\n",
       "\n",
       "\n"
      ],
      "text/plain": [
       " [1] \"Adipose - Subcutaneous\"                   \n",
       " [2] \"Adipose - Visceral (Omentum)\"             \n",
       " [3] \"Adrenal Gland\"                            \n",
       " [4] \"Artery - Aorta\"                           \n",
       " [5] \"Artery - Coronary\"                        \n",
       " [6] \"Artery - Tibial\"                          \n",
       " [7] \"Bladder\"                                  \n",
       " [8] \"Brain - Amygdala\"                         \n",
       " [9] \"Brain - Anterior cingulate cortex (BA24)\" \n",
       "[10] \"Brain - Caudate (basal ganglia)\"          \n",
       "[11] \"Brain - Cerebellar Hemisphere\"            \n",
       "[12] \"Brain - Cerebellum\"                       \n",
       "[13] \"Brain - Cortex\"                           \n",
       "[14] \"Brain - Frontal Cortex (BA9)\"             \n",
       "[15] \"Brain - Hippocampus\"                      \n",
       "[16] \"Brain - Hypothalamus\"                     \n",
       "[17] \"Brain - Nucleus accumbens (basal ganglia)\"\n",
       "[18] \"Brain - Putamen (basal ganglia)\"          \n",
       "[19] \"Brain - Spinal cord (cervical c-1)\"       \n",
       "[20] \"Brain - Substantia nigra\"                 \n",
       "[21] \"Breast - Mammary Tissue\"                  \n",
       "[22] \"Cells - Cultured fibroblasts\"             \n",
       "[23] \"Cells - EBV-transformed lymphocytes\"      \n",
       "[24] \"Colon - Sigmoid\"                          \n",
       "[25] \"Colon - Transverse\"                       \n",
       "[26] \"Esophagus - Gastroesophageal Junction\"    \n",
       "[27] \"Esophagus - Mucosa\"                       \n",
       "[28] \"Esophagus - Muscularis\"                   \n",
       "[29] \"Heart - Atrial Appendage\"                 \n",
       "[30] \"Heart - Left Ventricle\"                   \n",
       "[31] \"Kidney - Cortex\"                          \n",
       "[32] \"Liver\"                                    \n",
       "[33] \"Lung\"                                     \n",
       "[34] \"Minor Salivary Gland\"                     \n",
       "[35] \"Muscle - Skeletal\"                        \n",
       "[36] \"Nerve - Tibial\"                           \n",
       "[37] \"Pancreas\"                                 \n",
       "[38] \"Pituitary\"                                \n",
       "[39] \"Skin - Not Sun Exposed (Suprapubic)\"      \n",
       "[40] \"Skin - Sun Exposed (Lower leg)\"           \n",
       "[41] \"Small Intestine - Terminal Ileum\"         \n",
       "[42] \"Spleen\"                                   \n",
       "[43] \"Stomach\"                                  \n",
       "[44] \"Thyroid\"                                  \n",
       "[45] \"Whole Blood\"                              "
      ]
     },
     "metadata": {},
     "output_type": "display_data"
    },
    {
     "data": {
      "text/html": [
       "45"
      ],
      "text/latex": [
       "45"
      ],
      "text/markdown": [
       "45"
      ],
      "text/plain": [
       "[1] 45"
      ]
     },
     "metadata": {},
     "output_type": "display_data"
    }
   ],
   "source": [
    "tissue_list <- factor(reduced.meta.data$body_site)\n",
    "length(tissue_list)\n",
    "\n",
    "male_tissues_true   <- reduced.meta.data$sex == \"male\"\n",
    "female_tissues_true <- reduced.meta.data$sex == \"female\"\n",
    "\n",
    "sum(table(male_tissues_true))\n",
    "sum(table(female_tissues_true))\n",
    "\n",
    "male_tissue_list   <- factor(tissue_list[male_tissues_true   == TRUE])\n",
    "female_tissue_list <- factor(tissue_list[female_tissues_true == TRUE])\n",
    "\n",
    "male_female_tissue_list <- intersect(levels(male_tissue_list),levels(female_tissue_list))\n",
    "\n",
    "keep = tissue_list %in% male_female_tissue_list\n",
    "\n",
    "table(keep)\n",
    "\n",
    "ijc_m_f         = ijc.iso.counts.mem2[          ,keep==TRUE]\n",
    "sjc_m_f         = sjc.iso.counts.mem2[          ,keep==TRUE]\n",
    "metadata_m_f    = reduced.meta.data  [keep==TRUE,          ]\n",
    "tissue_list_m_f = tissue_list        [keep==TRUE]\n",
    "\n",
    "dim(ijc_m_f)\n",
    "dim(sjc_m_f)\n",
    "dim(metadata_m_f)\n",
    "length(tissue_list_m_f)\n",
    "tissue_list_m_f <- factor(tissue_list_m_f)\n",
    "levels(tissue_list_m_f)\n",
    "length(levels(tissue_list_m_f))"
   ]
  },
  {
   "cell_type": "markdown",
   "metadata": {},
   "source": [
    "### Keeping only chromosomes shared male female\n",
    "\n",
    "The Y chromosome spans more than 59 million base pairs of DNA and represents almost 2 percent of the total DNA in cells. Each person normally has one pair of sex chromosomes in each cell. The Y chromosome is present in males, who have one X and one Y chromosome, while females have two X chromosomes. Since our analysis is on the comparative differences, we must eliminate chrY from our analyses.\n",
    "\n",
    "To do so, we grab the annotation from the GTF file and remove those junctions that correspond to the genes on this chromosome"
   ]
  },
  {
   "cell_type": "code",
   "execution_count": 9,
   "metadata": {},
   "outputs": [
    {
     "data": {
      "text/html": [
       "<table>\n",
       "<caption>A data.frame: 6 × 11</caption>\n",
       "<thead>\n",
       "\t<tr><th></th><th scope=col>ID</th><th scope=col>GeneID</th><th scope=col>geneSymbol</th><th scope=col>chr</th><th scope=col>strand</th><th scope=col>exonStart_0base</th><th scope=col>exonEnd</th><th scope=col>upstreamES</th><th scope=col>upstreamEE</th><th scope=col>downstreamES</th><th scope=col>downstreamEE</th></tr>\n",
       "\t<tr><th></th><th scope=col>&lt;int&gt;</th><th scope=col>&lt;fct&gt;</th><th scope=col>&lt;fct&gt;</th><th scope=col>&lt;fct&gt;</th><th scope=col>&lt;fct&gt;</th><th scope=col>&lt;int&gt;</th><th scope=col>&lt;int&gt;</th><th scope=col>&lt;int&gt;</th><th scope=col>&lt;int&gt;</th><th scope=col>&lt;int&gt;</th><th scope=col>&lt;int&gt;</th></tr>\n",
       "</thead>\n",
       "<tbody>\n",
       "\t<tr><th scope=row>1</th><td>1</td><td>ENSG00000034152.18</td><td>MAP2K3</td><td>chr17</td><td>+</td><td>21287990</td><td>21288091</td><td>21284709</td><td>21284969</td><td>21295674</td><td>21295769</td></tr>\n",
       "\t<tr><th scope=row>2</th><td>2</td><td>ENSG00000034152.18</td><td>MAP2K3</td><td>chr17</td><td>+</td><td>21303182</td><td>21303234</td><td>21302142</td><td>21302259</td><td>21304425</td><td>21304553</td></tr>\n",
       "\t<tr><th scope=row>3</th><td>3</td><td>ENSG00000034152.18</td><td>MAP2K3</td><td>chr17</td><td>+</td><td>21295674</td><td>21295769</td><td>21287990</td><td>21288091</td><td>21296085</td><td>21296143</td></tr>\n",
       "\t<tr><th scope=row>4</th><td>4</td><td>ENSG00000034152.18</td><td>MAP2K3</td><td>chr17</td><td>+</td><td>21295674</td><td>21295769</td><td>21287990</td><td>21288091</td><td>21298412</td><td>21298479</td></tr>\n",
       "\t<tr><th scope=row>5</th><td>5</td><td>ENSG00000034152.18</td><td>MAP2K3</td><td>chr17</td><td>+</td><td>21295674</td><td>21295769</td><td>21284710</td><td>21284969</td><td>21296085</td><td>21296143</td></tr>\n",
       "\t<tr><th scope=row>6</th><td>6</td><td>ENSG00000034152.18</td><td>MAP2K3</td><td>chr17</td><td>+</td><td>21295674</td><td>21295769</td><td>21284710</td><td>21284969</td><td>21298412</td><td>21298479</td></tr>\n",
       "</tbody>\n",
       "</table>\n"
      ],
      "text/latex": [
       "A data.frame: 6 × 11\n",
       "\\begin{tabular}{r|lllllllllll}\n",
       "  & ID & GeneID & geneSymbol & chr & strand & exonStart\\_0base & exonEnd & upstreamES & upstreamEE & downstreamES & downstreamEE\\\\\n",
       "  & <int> & <fct> & <fct> & <fct> & <fct> & <int> & <int> & <int> & <int> & <int> & <int>\\\\\n",
       "\\hline\n",
       "\t1 & 1 & ENSG00000034152.18 & MAP2K3 & chr17 & + & 21287990 & 21288091 & 21284709 & 21284969 & 21295674 & 21295769\\\\\n",
       "\t2 & 2 & ENSG00000034152.18 & MAP2K3 & chr17 & + & 21303182 & 21303234 & 21302142 & 21302259 & 21304425 & 21304553\\\\\n",
       "\t3 & 3 & ENSG00000034152.18 & MAP2K3 & chr17 & + & 21295674 & 21295769 & 21287990 & 21288091 & 21296085 & 21296143\\\\\n",
       "\t4 & 4 & ENSG00000034152.18 & MAP2K3 & chr17 & + & 21295674 & 21295769 & 21287990 & 21288091 & 21298412 & 21298479\\\\\n",
       "\t5 & 5 & ENSG00000034152.18 & MAP2K3 & chr17 & + & 21295674 & 21295769 & 21284710 & 21284969 & 21296085 & 21296143\\\\\n",
       "\t6 & 6 & ENSG00000034152.18 & MAP2K3 & chr17 & + & 21295674 & 21295769 & 21284710 & 21284969 & 21298412 & 21298479\\\\\n",
       "\\end{tabular}\n"
      ],
      "text/markdown": [
       "\n",
       "A data.frame: 6 × 11\n",
       "\n",
       "| <!--/--> | ID &lt;int&gt; | GeneID &lt;fct&gt; | geneSymbol &lt;fct&gt; | chr &lt;fct&gt; | strand &lt;fct&gt; | exonStart_0base &lt;int&gt; | exonEnd &lt;int&gt; | upstreamES &lt;int&gt; | upstreamEE &lt;int&gt; | downstreamES &lt;int&gt; | downstreamEE &lt;int&gt; |\n",
       "|---|---|---|---|---|---|---|---|---|---|---|---|\n",
       "| 1 | 1 | ENSG00000034152.18 | MAP2K3 | chr17 | + | 21287990 | 21288091 | 21284709 | 21284969 | 21295674 | 21295769 |\n",
       "| 2 | 2 | ENSG00000034152.18 | MAP2K3 | chr17 | + | 21303182 | 21303234 | 21302142 | 21302259 | 21304425 | 21304553 |\n",
       "| 3 | 3 | ENSG00000034152.18 | MAP2K3 | chr17 | + | 21295674 | 21295769 | 21287990 | 21288091 | 21296085 | 21296143 |\n",
       "| 4 | 4 | ENSG00000034152.18 | MAP2K3 | chr17 | + | 21295674 | 21295769 | 21287990 | 21288091 | 21298412 | 21298479 |\n",
       "| 5 | 5 | ENSG00000034152.18 | MAP2K3 | chr17 | + | 21295674 | 21295769 | 21284710 | 21284969 | 21296085 | 21296143 |\n",
       "| 6 | 6 | ENSG00000034152.18 | MAP2K3 | chr17 | + | 21295674 | 21295769 | 21284710 | 21284969 | 21298412 | 21298479 |\n",
       "\n"
      ],
      "text/plain": [
       "  ID GeneID             geneSymbol chr   strand exonStart_0base exonEnd \n",
       "1 1  ENSG00000034152.18 MAP2K3     chr17 +      21287990        21288091\n",
       "2 2  ENSG00000034152.18 MAP2K3     chr17 +      21303182        21303234\n",
       "3 3  ENSG00000034152.18 MAP2K3     chr17 +      21295674        21295769\n",
       "4 4  ENSG00000034152.18 MAP2K3     chr17 +      21295674        21295769\n",
       "5 5  ENSG00000034152.18 MAP2K3     chr17 +      21295674        21295769\n",
       "6 6  ENSG00000034152.18 MAP2K3     chr17 +      21295674        21295769\n",
       "  upstreamES upstreamEE downstreamES downstreamEE\n",
       "1 21284709   21284969   21295674     21295769    \n",
       "2 21302142   21302259   21304425     21304553    \n",
       "3 21287990   21288091   21296085     21296143    \n",
       "4 21287990   21288091   21298412     21298479    \n",
       "5 21284710   21284969   21296085     21296143    \n",
       "6 21284710   21284969   21298412     21298479    "
      ]
     },
     "metadata": {},
     "output_type": "display_data"
    },
    {
     "data": {
      "text/html": [
       "13390"
      ],
      "text/latex": [
       "13390"
      ],
      "text/markdown": [
       "13390"
      ],
      "text/plain": [
       "[1] 13390"
      ]
     },
     "metadata": {},
     "output_type": "display_data"
    },
    {
     "data": {
      "text/plain": [
       "\n",
       " chr1 chr10 chr11 chr12 chr13 chr14 chr15 chr16 chr17 chr18 chr19  chr2 chr20 \n",
       " 3812  1458  2541  2540   663  1551  1544  2039  2538   742  2552  3547   939 \n",
       "chr21 chr22  chr3  chr4  chr5  chr6  chr7  chr8  chr9  chrX  chrY \n",
       "  493   895  2938  1803  1863  1890  2053  1636  1313  1134   127 "
      ]
     },
     "metadata": {},
     "output_type": "display_data"
    },
    {
     "data": {
      "text/plain": [
       "keepAllJunctionsButChrY\n",
       "FALSE  TRUE \n",
       "  127 42484 "
      ]
     },
     "metadata": {},
     "output_type": "display_data"
    },
    {
     "data": {
      "text/html": [
       "42611"
      ],
      "text/latex": [
       "42611"
      ],
      "text/markdown": [
       "42611"
      ],
      "text/plain": [
       "[1] 42611"
      ]
     },
     "metadata": {},
     "output_type": "display_data"
    },
    {
     "data": {
      "text/html": [
       "<style>\n",
       ".list-inline {list-style: none; margin:0; padding: 0}\n",
       ".list-inline>li {display: inline-block}\n",
       ".list-inline>li:not(:last-child)::after {content: \"\\00b7\"; padding: 0 .5ex}\n",
       "</style>\n",
       "<ol class=list-inline><li>42484</li><li>7988</li></ol>\n"
      ],
      "text/latex": [
       "\\begin{enumerate*}\n",
       "\\item 42484\n",
       "\\item 7988\n",
       "\\end{enumerate*}\n"
      ],
      "text/markdown": [
       "1. 42484\n",
       "2. 7988\n",
       "\n",
       "\n"
      ],
      "text/plain": [
       "[1] 42484  7988"
      ]
     },
     "metadata": {},
     "output_type": "display_data"
    },
    {
     "data": {
      "text/html": [
       "<style>\n",
       ".list-inline {list-style: none; margin:0; padding: 0}\n",
       ".list-inline>li {display: inline-block}\n",
       ".list-inline>li:not(:last-child)::after {content: \"\\00b7\"; padding: 0 .5ex}\n",
       "</style>\n",
       "<ol class=list-inline><li>42484</li><li>7988</li></ol>\n"
      ],
      "text/latex": [
       "\\begin{enumerate*}\n",
       "\\item 42484\n",
       "\\item 7988\n",
       "\\end{enumerate*}\n"
      ],
      "text/markdown": [
       "1. 42484\n",
       "2. 7988\n",
       "\n",
       "\n"
      ],
      "text/plain": [
       "[1] 42484  7988"
      ]
     },
     "metadata": {},
     "output_type": "display_data"
    },
    {
     "data": {
      "text/html": [
       "<style>\n",
       ".list-inline {list-style: none; margin:0; padding: 0}\n",
       ".list-inline>li {display: inline-block}\n",
       ".list-inline>li:not(:last-child)::after {content: \"\\00b7\"; padding: 0 .5ex}\n",
       "</style>\n",
       "<ol class=list-inline><li>42484</li><li>11</li></ol>\n"
      ],
      "text/latex": [
       "\\begin{enumerate*}\n",
       "\\item 42484\n",
       "\\item 11\n",
       "\\end{enumerate*}\n"
      ],
      "text/markdown": [
       "1. 42484\n",
       "2. 11\n",
       "\n",
       "\n"
      ],
      "text/plain": [
       "[1] 42484    11"
      ]
     },
     "metadata": {},
     "output_type": "display_data"
    },
    {
     "data": {
      "text/html": [
       "<table>\n",
       "<caption>A matrix: 6 × 7988 of type int</caption>\n",
       "<thead>\n",
       "\t<tr><th></th><th scope=col>SRR821043</th><th scope=col>SRR821050</th><th scope=col>SRR821096</th><th scope=col>SRR821124</th><th scope=col>SRR821148</th><th scope=col>SRR821176</th><th scope=col>SRR821183</th><th scope=col>SRR821207</th><th scope=col>SRR821231</th><th scope=col>SRR821255</th><th scope=col>⋯</th><th scope=col>SRR1328035</th><th scope=col>SRR1328073</th><th scope=col>SRR1329334</th><th scope=col>SRR1329508</th><th scope=col>SRR1329726</th><th scope=col>SRR1329783</th><th scope=col>SRR1331661</th><th scope=col>SRR1331922</th><th scope=col>SRR1332424</th><th scope=col>SRR1335278</th></tr>\n",
       "</thead>\n",
       "<tbody>\n",
       "\t<tr><th scope=row>1</th><td>  6</td><td> 0</td><td>  0</td><td>  0</td><td>  0</td><td>  0</td><td>  0</td><td>  0</td><td>  0</td><td>  0</td><td>⋯</td><td> 0</td><td> 0</td><td> 0</td><td>  0</td><td>  0</td><td>  0</td><td>  0</td><td>  0</td><td>  0</td><td>  0</td></tr>\n",
       "\t<tr><th scope=row>2</th><td>771</td><td>69</td><td>106</td><td>129</td><td>133</td><td>232</td><td>553</td><td>100</td><td>127</td><td>126</td><td>⋯</td><td>16</td><td>25</td><td>47</td><td>160</td><td>218</td><td>248</td><td>278</td><td>381</td><td>362</td><td>121</td></tr>\n",
       "\t<tr><th scope=row>3</th><td> 15</td><td> 0</td><td>  1</td><td>  0</td><td>  3</td><td>  4</td><td>  2</td><td>  0</td><td>  1</td><td>  1</td><td>⋯</td><td> 2</td><td> 0</td><td> 0</td><td>  1</td><td>  2</td><td>  0</td><td>  0</td><td>  1</td><td>  0</td><td>  1</td></tr>\n",
       "\t<tr><th scope=row>4</th><td>  8</td><td> 1</td><td>  0</td><td>  0</td><td>  0</td><td>  0</td><td>  1</td><td>  0</td><td>  1</td><td>  0</td><td>⋯</td><td> 0</td><td> 0</td><td> 0</td><td>  0</td><td>  1</td><td>  0</td><td>  1</td><td>  0</td><td>  0</td><td>  1</td></tr>\n",
       "\t<tr><th scope=row>5</th><td> 20</td><td> 0</td><td>  2</td><td>  0</td><td>  5</td><td>  6</td><td>  4</td><td>  0</td><td>  2</td><td>  1</td><td>⋯</td><td> 2</td><td> 0</td><td> 0</td><td>  1</td><td>  3</td><td>  0</td><td>  0</td><td>  1</td><td>  0</td><td>  1</td></tr>\n",
       "\t<tr><th scope=row>6</th><td> 13</td><td> 1</td><td>  1</td><td>  0</td><td>  2</td><td>  2</td><td>  3</td><td>  0</td><td>  2</td><td>  0</td><td>⋯</td><td> 0</td><td> 0</td><td> 0</td><td>  0</td><td>  2</td><td>  0</td><td>  1</td><td>  0</td><td>  0</td><td>  1</td></tr>\n",
       "</tbody>\n",
       "</table>\n"
      ],
      "text/latex": [
       "A matrix: 6 × 7988 of type int\n",
       "\\begin{tabular}{r|lllllllllllllllllllll}\n",
       "  & SRR821043 & SRR821050 & SRR821096 & SRR821124 & SRR821148 & SRR821176 & SRR821183 & SRR821207 & SRR821231 & SRR821255 & ⋯ & SRR1328035 & SRR1328073 & SRR1329334 & SRR1329508 & SRR1329726 & SRR1329783 & SRR1331661 & SRR1331922 & SRR1332424 & SRR1335278\\\\\n",
       "\\hline\n",
       "\t1 &   6 &  0 &   0 &   0 &   0 &   0 &   0 &   0 &   0 &   0 & ⋯ &  0 &  0 &  0 &   0 &   0 &   0 &   0 &   0 &   0 &   0\\\\\n",
       "\t2 & 771 & 69 & 106 & 129 & 133 & 232 & 553 & 100 & 127 & 126 & ⋯ & 16 & 25 & 47 & 160 & 218 & 248 & 278 & 381 & 362 & 121\\\\\n",
       "\t3 &  15 &  0 &   1 &   0 &   3 &   4 &   2 &   0 &   1 &   1 & ⋯ &  2 &  0 &  0 &   1 &   2 &   0 &   0 &   1 &   0 &   1\\\\\n",
       "\t4 &   8 &  1 &   0 &   0 &   0 &   0 &   1 &   0 &   1 &   0 & ⋯ &  0 &  0 &  0 &   0 &   1 &   0 &   1 &   0 &   0 &   1\\\\\n",
       "\t5 &  20 &  0 &   2 &   0 &   5 &   6 &   4 &   0 &   2 &   1 & ⋯ &  2 &  0 &  0 &   1 &   3 &   0 &   0 &   1 &   0 &   1\\\\\n",
       "\t6 &  13 &  1 &   1 &   0 &   2 &   2 &   3 &   0 &   2 &   0 & ⋯ &  0 &  0 &  0 &   0 &   2 &   0 &   1 &   0 &   0 &   1\\\\\n",
       "\\end{tabular}\n"
      ],
      "text/markdown": [
       "\n",
       "A matrix: 6 × 7988 of type int\n",
       "\n",
       "| <!--/--> | SRR821043 | SRR821050 | SRR821096 | SRR821124 | SRR821148 | SRR821176 | SRR821183 | SRR821207 | SRR821231 | SRR821255 | ⋯ | SRR1328035 | SRR1328073 | SRR1329334 | SRR1329508 | SRR1329726 | SRR1329783 | SRR1331661 | SRR1331922 | SRR1332424 | SRR1335278 |\n",
       "|---|---|---|---|---|---|---|---|---|---|---|---|---|---|---|---|---|---|---|---|---|---|\n",
       "| 1 |   6 |  0 |   0 |   0 |   0 |   0 |   0 |   0 |   0 |   0 | ⋯ |  0 |  0 |  0 |   0 |   0 |   0 |   0 |   0 |   0 |   0 |\n",
       "| 2 | 771 | 69 | 106 | 129 | 133 | 232 | 553 | 100 | 127 | 126 | ⋯ | 16 | 25 | 47 | 160 | 218 | 248 | 278 | 381 | 362 | 121 |\n",
       "| 3 |  15 |  0 |   1 |   0 |   3 |   4 |   2 |   0 |   1 |   1 | ⋯ |  2 |  0 |  0 |   1 |   2 |   0 |   0 |   1 |   0 |   1 |\n",
       "| 4 |   8 |  1 |   0 |   0 |   0 |   0 |   1 |   0 |   1 |   0 | ⋯ |  0 |  0 |  0 |   0 |   1 |   0 |   1 |   0 |   0 |   1 |\n",
       "| 5 |  20 |  0 |   2 |   0 |   5 |   6 |   4 |   0 |   2 |   1 | ⋯ |  2 |  0 |  0 |   1 |   3 |   0 |   0 |   1 |   0 |   1 |\n",
       "| 6 |  13 |  1 |   1 |   0 |   2 |   2 |   3 |   0 |   2 |   0 | ⋯ |  0 |  0 |  0 |   0 |   2 |   0 |   1 |   0 |   0 |   1 |\n",
       "\n"
      ],
      "text/plain": [
       "  SRR821043 SRR821050 SRR821096 SRR821124 SRR821148 SRR821176 SRR821183\n",
       "1   6        0          0         0         0         0         0      \n",
       "2 771       69        106       129       133       232       553      \n",
       "3  15        0          1         0         3         4         2      \n",
       "4   8        1          0         0         0         0         1      \n",
       "5  20        0          2         0         5         6         4      \n",
       "6  13        1          1         0         2         2         3      \n",
       "  SRR821207 SRR821231 SRR821255 ⋯ SRR1328035 SRR1328073 SRR1329334 SRR1329508\n",
       "1   0         0         0       ⋯  0          0          0           0       \n",
       "2 100       127       126       ⋯ 16         25         47         160       \n",
       "3   0         1         1       ⋯  2          0          0           1       \n",
       "4   0         1         0       ⋯  0          0          0           0       \n",
       "5   0         2         1       ⋯  2          0          0           1       \n",
       "6   0         2         0       ⋯  0          0          0           0       \n",
       "  SRR1329726 SRR1329783 SRR1331661 SRR1331922 SRR1332424 SRR1335278\n",
       "1   0          0          0          0          0          0       \n",
       "2 218        248        278        381        362        121       \n",
       "3   2          0          0          1          0          1       \n",
       "4   1          0          1          0          0          1       \n",
       "5   3          0          0          1          0          1       \n",
       "6   2          0          1          0          0          1       "
      ]
     },
     "metadata": {},
     "output_type": "display_data"
    },
    {
     "data": {
      "text/html": [
       "<table>\n",
       "<caption>A data.frame: 6 × 11</caption>\n",
       "<thead>\n",
       "\t<tr><th></th><th scope=col>ID</th><th scope=col>GeneID</th><th scope=col>geneSymbol</th><th scope=col>chr</th><th scope=col>strand</th><th scope=col>exonStart_0base</th><th scope=col>exonEnd</th><th scope=col>upstreamES</th><th scope=col>upstreamEE</th><th scope=col>downstreamES</th><th scope=col>downstreamEE</th></tr>\n",
       "\t<tr><th></th><th scope=col>&lt;int&gt;</th><th scope=col>&lt;fct&gt;</th><th scope=col>&lt;fct&gt;</th><th scope=col>&lt;fct&gt;</th><th scope=col>&lt;fct&gt;</th><th scope=col>&lt;int&gt;</th><th scope=col>&lt;int&gt;</th><th scope=col>&lt;int&gt;</th><th scope=col>&lt;int&gt;</th><th scope=col>&lt;int&gt;</th><th scope=col>&lt;int&gt;</th></tr>\n",
       "</thead>\n",
       "<tbody>\n",
       "\t<tr><th scope=row>1</th><td>1</td><td>ENSG00000034152.18</td><td>MAP2K3</td><td>chr17</td><td>+</td><td>21287990</td><td>21288091</td><td>21284709</td><td>21284969</td><td>21295674</td><td>21295769</td></tr>\n",
       "\t<tr><th scope=row>2</th><td>2</td><td>ENSG00000034152.18</td><td>MAP2K3</td><td>chr17</td><td>+</td><td>21303182</td><td>21303234</td><td>21302142</td><td>21302259</td><td>21304425</td><td>21304553</td></tr>\n",
       "\t<tr><th scope=row>3</th><td>3</td><td>ENSG00000034152.18</td><td>MAP2K3</td><td>chr17</td><td>+</td><td>21295674</td><td>21295769</td><td>21287990</td><td>21288091</td><td>21296085</td><td>21296143</td></tr>\n",
       "\t<tr><th scope=row>4</th><td>4</td><td>ENSG00000034152.18</td><td>MAP2K3</td><td>chr17</td><td>+</td><td>21295674</td><td>21295769</td><td>21287990</td><td>21288091</td><td>21298412</td><td>21298479</td></tr>\n",
       "\t<tr><th scope=row>5</th><td>5</td><td>ENSG00000034152.18</td><td>MAP2K3</td><td>chr17</td><td>+</td><td>21295674</td><td>21295769</td><td>21284710</td><td>21284969</td><td>21296085</td><td>21296143</td></tr>\n",
       "\t<tr><th scope=row>6</th><td>6</td><td>ENSG00000034152.18</td><td>MAP2K3</td><td>chr17</td><td>+</td><td>21295674</td><td>21295769</td><td>21284710</td><td>21284969</td><td>21298412</td><td>21298479</td></tr>\n",
       "</tbody>\n",
       "</table>\n"
      ],
      "text/latex": [
       "A data.frame: 6 × 11\n",
       "\\begin{tabular}{r|lllllllllll}\n",
       "  & ID & GeneID & geneSymbol & chr & strand & exonStart\\_0base & exonEnd & upstreamES & upstreamEE & downstreamES & downstreamEE\\\\\n",
       "  & <int> & <fct> & <fct> & <fct> & <fct> & <int> & <int> & <int> & <int> & <int> & <int>\\\\\n",
       "\\hline\n",
       "\t1 & 1 & ENSG00000034152.18 & MAP2K3 & chr17 & + & 21287990 & 21288091 & 21284709 & 21284969 & 21295674 & 21295769\\\\\n",
       "\t2 & 2 & ENSG00000034152.18 & MAP2K3 & chr17 & + & 21303182 & 21303234 & 21302142 & 21302259 & 21304425 & 21304553\\\\\n",
       "\t3 & 3 & ENSG00000034152.18 & MAP2K3 & chr17 & + & 21295674 & 21295769 & 21287990 & 21288091 & 21296085 & 21296143\\\\\n",
       "\t4 & 4 & ENSG00000034152.18 & MAP2K3 & chr17 & + & 21295674 & 21295769 & 21287990 & 21288091 & 21298412 & 21298479\\\\\n",
       "\t5 & 5 & ENSG00000034152.18 & MAP2K3 & chr17 & + & 21295674 & 21295769 & 21284710 & 21284969 & 21296085 & 21296143\\\\\n",
       "\t6 & 6 & ENSG00000034152.18 & MAP2K3 & chr17 & + & 21295674 & 21295769 & 21284710 & 21284969 & 21298412 & 21298479\\\\\n",
       "\\end{tabular}\n"
      ],
      "text/markdown": [
       "\n",
       "A data.frame: 6 × 11\n",
       "\n",
       "| <!--/--> | ID &lt;int&gt; | GeneID &lt;fct&gt; | geneSymbol &lt;fct&gt; | chr &lt;fct&gt; | strand &lt;fct&gt; | exonStart_0base &lt;int&gt; | exonEnd &lt;int&gt; | upstreamES &lt;int&gt; | upstreamEE &lt;int&gt; | downstreamES &lt;int&gt; | downstreamEE &lt;int&gt; |\n",
       "|---|---|---|---|---|---|---|---|---|---|---|---|\n",
       "| 1 | 1 | ENSG00000034152.18 | MAP2K3 | chr17 | + | 21287990 | 21288091 | 21284709 | 21284969 | 21295674 | 21295769 |\n",
       "| 2 | 2 | ENSG00000034152.18 | MAP2K3 | chr17 | + | 21303182 | 21303234 | 21302142 | 21302259 | 21304425 | 21304553 |\n",
       "| 3 | 3 | ENSG00000034152.18 | MAP2K3 | chr17 | + | 21295674 | 21295769 | 21287990 | 21288091 | 21296085 | 21296143 |\n",
       "| 4 | 4 | ENSG00000034152.18 | MAP2K3 | chr17 | + | 21295674 | 21295769 | 21287990 | 21288091 | 21298412 | 21298479 |\n",
       "| 5 | 5 | ENSG00000034152.18 | MAP2K3 | chr17 | + | 21295674 | 21295769 | 21284710 | 21284969 | 21296085 | 21296143 |\n",
       "| 6 | 6 | ENSG00000034152.18 | MAP2K3 | chr17 | + | 21295674 | 21295769 | 21284710 | 21284969 | 21298412 | 21298479 |\n",
       "\n"
      ],
      "text/plain": [
       "  ID GeneID             geneSymbol chr   strand exonStart_0base exonEnd \n",
       "1 1  ENSG00000034152.18 MAP2K3     chr17 +      21287990        21288091\n",
       "2 2  ENSG00000034152.18 MAP2K3     chr17 +      21303182        21303234\n",
       "3 3  ENSG00000034152.18 MAP2K3     chr17 +      21295674        21295769\n",
       "4 4  ENSG00000034152.18 MAP2K3     chr17 +      21295674        21295769\n",
       "5 5  ENSG00000034152.18 MAP2K3     chr17 +      21295674        21295769\n",
       "6 6  ENSG00000034152.18 MAP2K3     chr17 +      21295674        21295769\n",
       "  upstreamES upstreamEE downstreamES downstreamEE\n",
       "1 21284709   21284969   21295674     21295769    \n",
       "2 21302142   21302259   21304425     21304553    \n",
       "3 21287990   21288091   21296085     21296143    \n",
       "4 21287990   21288091   21298412     21298479    \n",
       "5 21284710   21284969   21296085     21296143    \n",
       "6 21284710   21284969   21298412     21298479    "
      ]
     },
     "metadata": {},
     "output_type": "display_data"
    },
    {
     "data": {
      "text/html": [
       "<table>\n",
       "<caption>A matrix: 6 × 7988 of type int</caption>\n",
       "<thead>\n",
       "\t<tr><th></th><th scope=col>SRR821043</th><th scope=col>SRR821050</th><th scope=col>SRR821096</th><th scope=col>SRR821124</th><th scope=col>SRR821148</th><th scope=col>SRR821176</th><th scope=col>SRR821183</th><th scope=col>SRR821207</th><th scope=col>SRR821231</th><th scope=col>SRR821255</th><th scope=col>⋯</th><th scope=col>SRR1328035</th><th scope=col>SRR1328073</th><th scope=col>SRR1329334</th><th scope=col>SRR1329508</th><th scope=col>SRR1329726</th><th scope=col>SRR1329783</th><th scope=col>SRR1331661</th><th scope=col>SRR1331922</th><th scope=col>SRR1332424</th><th scope=col>SRR1335278</th></tr>\n",
       "</thead>\n",
       "<tbody>\n",
       "\t<tr><th scope=row>1</th><td>  5</td><td> 0</td><td> 1</td><td> 0</td><td> 2</td><td> 2</td><td>  2</td><td> 0</td><td> 1</td><td> 0</td><td>⋯</td><td>0</td><td>0</td><td> 0</td><td> 0</td><td>  1</td><td> 0</td><td> 0</td><td>  0</td><td>  0</td><td> 0</td></tr>\n",
       "\t<tr><th scope=row>2</th><td>  0</td><td> 0</td><td> 0</td><td> 0</td><td> 0</td><td> 0</td><td>  0</td><td> 0</td><td> 0</td><td> 0</td><td>⋯</td><td>0</td><td>0</td><td> 0</td><td> 0</td><td>  0</td><td> 0</td><td> 0</td><td>  0</td><td>  0</td><td> 0</td></tr>\n",
       "\t<tr><th scope=row>3</th><td>  4</td><td> 0</td><td> 0</td><td> 0</td><td> 0</td><td> 0</td><td>  0</td><td> 1</td><td> 0</td><td> 0</td><td>⋯</td><td>0</td><td>0</td><td> 0</td><td> 0</td><td>  0</td><td> 0</td><td> 0</td><td>  0</td><td>  0</td><td> 0</td></tr>\n",
       "\t<tr><th scope=row>4</th><td>  9</td><td> 0</td><td> 0</td><td> 0</td><td> 0</td><td> 0</td><td>  1</td><td> 0</td><td> 0</td><td> 0</td><td>⋯</td><td>0</td><td>0</td><td> 0</td><td> 0</td><td>  0</td><td> 0</td><td> 0</td><td>  0</td><td>  0</td><td> 0</td></tr>\n",
       "\t<tr><th scope=row>5</th><td> 14</td><td> 3</td><td> 0</td><td> 2</td><td> 4</td><td> 9</td><td> 25</td><td> 0</td><td> 1</td><td> 1</td><td>⋯</td><td>1</td><td>1</td><td> 2</td><td> 0</td><td>  3</td><td> 2</td><td> 0</td><td>  2</td><td>  0</td><td> 6</td></tr>\n",
       "\t<tr><th scope=row>6</th><td>223</td><td>26</td><td>37</td><td>28</td><td>19</td><td>58</td><td>155</td><td>34</td><td>33</td><td>41</td><td>⋯</td><td>1</td><td>6</td><td>11</td><td>64</td><td>107</td><td>97</td><td>97</td><td>139</td><td>138</td><td>40</td></tr>\n",
       "</tbody>\n",
       "</table>\n"
      ],
      "text/latex": [
       "A matrix: 6 × 7988 of type int\n",
       "\\begin{tabular}{r|lllllllllllllllllllll}\n",
       "  & SRR821043 & SRR821050 & SRR821096 & SRR821124 & SRR821148 & SRR821176 & SRR821183 & SRR821207 & SRR821231 & SRR821255 & ⋯ & SRR1328035 & SRR1328073 & SRR1329334 & SRR1329508 & SRR1329726 & SRR1329783 & SRR1331661 & SRR1331922 & SRR1332424 & SRR1335278\\\\\n",
       "\\hline\n",
       "\t1 &   5 &  0 &  1 &  0 &  2 &  2 &   2 &  0 &  1 &  0 & ⋯ & 0 & 0 &  0 &  0 &   1 &  0 &  0 &   0 &   0 &  0\\\\\n",
       "\t2 &   0 &  0 &  0 &  0 &  0 &  0 &   0 &  0 &  0 &  0 & ⋯ & 0 & 0 &  0 &  0 &   0 &  0 &  0 &   0 &   0 &  0\\\\\n",
       "\t3 &   4 &  0 &  0 &  0 &  0 &  0 &   0 &  1 &  0 &  0 & ⋯ & 0 & 0 &  0 &  0 &   0 &  0 &  0 &   0 &   0 &  0\\\\\n",
       "\t4 &   9 &  0 &  0 &  0 &  0 &  0 &   1 &  0 &  0 &  0 & ⋯ & 0 & 0 &  0 &  0 &   0 &  0 &  0 &   0 &   0 &  0\\\\\n",
       "\t5 &  14 &  3 &  0 &  2 &  4 &  9 &  25 &  0 &  1 &  1 & ⋯ & 1 & 1 &  2 &  0 &   3 &  2 &  0 &   2 &   0 &  6\\\\\n",
       "\t6 & 223 & 26 & 37 & 28 & 19 & 58 & 155 & 34 & 33 & 41 & ⋯ & 1 & 6 & 11 & 64 & 107 & 97 & 97 & 139 & 138 & 40\\\\\n",
       "\\end{tabular}\n"
      ],
      "text/markdown": [
       "\n",
       "A matrix: 6 × 7988 of type int\n",
       "\n",
       "| <!--/--> | SRR821043 | SRR821050 | SRR821096 | SRR821124 | SRR821148 | SRR821176 | SRR821183 | SRR821207 | SRR821231 | SRR821255 | ⋯ | SRR1328035 | SRR1328073 | SRR1329334 | SRR1329508 | SRR1329726 | SRR1329783 | SRR1331661 | SRR1331922 | SRR1332424 | SRR1335278 |\n",
       "|---|---|---|---|---|---|---|---|---|---|---|---|---|---|---|---|---|---|---|---|---|---|\n",
       "| 1 |   5 |  0 |  1 |  0 |  2 |  2 |   2 |  0 |  1 |  0 | ⋯ | 0 | 0 |  0 |  0 |   1 |  0 |  0 |   0 |   0 |  0 |\n",
       "| 2 |   0 |  0 |  0 |  0 |  0 |  0 |   0 |  0 |  0 |  0 | ⋯ | 0 | 0 |  0 |  0 |   0 |  0 |  0 |   0 |   0 |  0 |\n",
       "| 3 |   4 |  0 |  0 |  0 |  0 |  0 |   0 |  1 |  0 |  0 | ⋯ | 0 | 0 |  0 |  0 |   0 |  0 |  0 |   0 |   0 |  0 |\n",
       "| 4 |   9 |  0 |  0 |  0 |  0 |  0 |   1 |  0 |  0 |  0 | ⋯ | 0 | 0 |  0 |  0 |   0 |  0 |  0 |   0 |   0 |  0 |\n",
       "| 5 |  14 |  3 |  0 |  2 |  4 |  9 |  25 |  0 |  1 |  1 | ⋯ | 1 | 1 |  2 |  0 |   3 |  2 |  0 |   2 |   0 |  6 |\n",
       "| 6 | 223 | 26 | 37 | 28 | 19 | 58 | 155 | 34 | 33 | 41 | ⋯ | 1 | 6 | 11 | 64 | 107 | 97 | 97 | 139 | 138 | 40 |\n",
       "\n"
      ],
      "text/plain": [
       "  SRR821043 SRR821050 SRR821096 SRR821124 SRR821148 SRR821176 SRR821183\n",
       "1   5        0         1         0         2         2          2      \n",
       "2   0        0         0         0         0         0          0      \n",
       "3   4        0         0         0         0         0          0      \n",
       "4   9        0         0         0         0         0          1      \n",
       "5  14        3         0         2         4         9         25      \n",
       "6 223       26        37        28        19        58        155      \n",
       "  SRR821207 SRR821231 SRR821255 ⋯ SRR1328035 SRR1328073 SRR1329334 SRR1329508\n",
       "1  0         1         0        ⋯ 0          0           0          0        \n",
       "2  0         0         0        ⋯ 0          0           0          0        \n",
       "3  1         0         0        ⋯ 0          0           0          0        \n",
       "4  0         0         0        ⋯ 0          0           0          0        \n",
       "5  0         1         1        ⋯ 1          1           2          0        \n",
       "6 34        33        41        ⋯ 1          6          11         64        \n",
       "  SRR1329726 SRR1329783 SRR1331661 SRR1331922 SRR1332424 SRR1335278\n",
       "1   1         0          0           0          0         0        \n",
       "2   0         0          0           0          0         0        \n",
       "3   0         0          0           0          0         0        \n",
       "4   0         0          0           0          0         0        \n",
       "5   3         2          0           2          0         6        \n",
       "6 107        97         97         139        138        40        "
      ]
     },
     "metadata": {},
     "output_type": "display_data"
    }
   ],
   "source": [
    "if (! (file.exists(\"../data/fromGTF.tar.gz\"))) {\n",
    "        system(\"mkdir -p ../data\", intern = TRUE)\n",
    "        message(\"Fetching fromGTF.tar.gz from GitHub ..\")\n",
    "        # Download archive from GitHub release with tag \"dge\"\n",
    "        piggyback::pb_download(file = \"fromGTF.tar.gz\",\n",
    "                           dest = \"../data\",\n",
    "                           repo = \"adeslatt/sbas_gtf\",\n",
    "                           tag  = \"rMATS.3.2.5.gencode.v30\",\n",
    "                           show_progress = TRUE)\n",
    "        message(\"Done!\\n\")\n",
    "        message(\"Decompressing fromGTF.tar.gz into ../data\")\n",
    "        system(\"mkdir -p ../data && tar xvfz ../data/fromGTF.tar.gz -C ../data\", intern = TRUE)\n",
    "        message(\"Done!\\n\")\n",
    "        message(\"Decompressing fromGTF.*.txt.gz into ../data\")\n",
    "        system(\"gunzip  ../data/fromGTF*.txt.gz \", intern = TRUE)\n",
    "        message(\"Done!\\n\")\n",
    "}\n",
    "fromGTF.SE <- read.table(\"../data/fromGTF.SE.txt\", header=TRUE)\n",
    "head(fromGTF.SE)\n",
    "genes <- factor(fromGTF.SE$geneSymbol)\n",
    "length(levels(genes))    \n",
    "\n",
    "table(fromGTF.SE$chr)\n",
    "\n",
    "keepAllJunctionsButChrY <- (fromGTF.SE$chr != \"chrY\")\n",
    "\n",
    "table(keepAllJunctionsButChrY)\n",
    "sum(table(keepAllJunctionsButChrY))\n",
    "\n",
    "fromGTF_no_chrY <- fromGTF.SE[keepAllJunctionsButChrY,]\n",
    "ijc_m_f_no_chrY <- ijc_m_f   [keepAllJunctionsButChrY,]\n",
    "sjc_m_f_no_chrY <- sjc_m_f   [keepAllJunctionsButChrY,]\n",
    "\n",
    "dim(ijc_m_f_no_chrY)\n",
    "dim(sjc_m_f_no_chrY)\n",
    "dim(fromGTF_no_chrY)\n",
    "\n",
    "\n",
    "ijc_m_f_no_chrY <- data.matrix(ijc_m_f_no_chrY)\n",
    "sjc_m_f_no_chrY <- data.matrix(sjc_m_f_no_chrY)\n",
    "\n",
    "rownames(ijc_m_f_no_chrY) <- rownames(fromGTF_no_chrY)\n",
    "rownames(sjc_m_f_no_chrY) <- rownames(fromGTF_no_chrY)\n",
    "\n",
    "head(ijc_m_f_no_chrY)\n",
    "head(fromGTF_no_chrY)\n",
    "head(sjc_m_f_no_chrY)"
   ]
  },
  {
   "cell_type": "markdown",
   "metadata": {},
   "source": [
    "## Exploratory and Differential analysis as_event:ijc, sjc \n",
    "\n",
    "Differential Analysis (DE) was performed using voom (Law et.al., 2014) to transform junction counts (reads that were aligned to junctions when an exon is included - ijc, and reads that were aligned to junctions when the exon is excluded - sjc) with associated precision weights, followed by linear modeling and empirical Bayes procedure using limma.    In each tissue, the following linear regression model was used to detec secually dimorphic alternative splicing event expression: \n",
    "\n",
    "           y = B0 + B1 sex + epsilon (error)\n",
    "           \n",
    "\n",
    "where y is the included exon junction count expression; sex denotes the reported sex of the subject\n",
    "\n",
    "## Differential analysis as_event (combined ijc and sjc)\n",
    "\n",
    "Differential Analysis (DE) was performed using voom (Law et.al., 2014) to transform junction counts (reads that were aligned to junctions when an exon is included - ijc, and reads that were aligned to junctions when the exon is excluded - sjc) with associated precision weights, followed by linear modeling and empirical Bayes procedure using limma.    In each tissue, the following linear regression model was used to detec secually dimorphic alternative splicing event expression: \n",
    "\n",
    "           y = B0 + B1 sex + B2 as_event + B3 sex*as_event + epsilon (error)\n",
    "           \n",
    "\n",
    "where y is the alternative splicing event expression; sex denotes the reported sex of the subject, as_event represents the specific alternative splicing event - either included exon junction counts or skipped exon junction counts and their interaction terms.   Donor is added to our model as a blocking variable used in both the calculation of duplicate correlation as well as in the linear fit.\n",
    "\n",
    "### Voom, limma's lmFit and eBayes\n",
    "\n",
    "Using sample as a blocking variable, we are able to model the effects of the donor on the results, which improves the power.  This topic is discussed in biostars https://www.biostars.org/p/54565/.  And Gordon Smyth answers the question here https://mailman.stat.ethz.ch/pipermail/bioconductor/2014-February/057887.html.  The method of modeling is a random effects approach in which the intra-donor correlation is incorporated into the covariance matrix instead of the linear predictor.   And though as Gordon Smyth states both are good method and the twoway anova approach makes fewer assumptions, the random effects approach is statistically more powerful.  \n",
    "\n",
    "We have a balanced design in which all donors receive all stimuli (which is really in healthy human donors, life and all of its factors!) Our measurement has so many points -- we are measuring in the skipped exon approach, 42,611 junctions!   It is not possible to encorporate those measurements into the linear predictor.  A two-way ANOVA approach is virtually as powerful as the random effects approach \n",
    "and hence is preferable as it makes fewer assumptions.\n",
    "\n",
    "For an unbalanced design in which each donor receives only a subset of the stimula, the random effects approach is more powerful.\n",
    "\n",
    "Random effects approach is equivalent to The first method is twoway anova, a generalization of a paired analysis.\n"
   ]
  },
  {
   "cell_type": "code",
   "execution_count": 19,
   "metadata": {},
   "outputs": [],
   "source": [
    "print_exploratory_plots <- function (tissue_of_interest, fromGTF, tissue_list, ijc, sjc, metadata ) {\n",
    "\n",
    "    fromGTF           <- fromGTF\n",
    "    tissue_true       <- tissue_list == tissue_of_interest\n",
    "\n",
    "    table(tissue_true)\n",
    "    ijc_tissue        <- ijc      [                 ,tissue_true==TRUE]\n",
    "    sjc_tissue        <- sjc      [                 ,tissue_true==TRUE]\n",
    "    metadata_tissue   <- metadata [tissue_true==TRUE,                 ]\n",
    "\n",
    "    ijc.df            <- as.data.frame(ijc_tissue)\n",
    "    sjc.df            <- as.data.frame(sjc_tissue)    \n",
    "    ijc.dm            <- data.matrix(ijc.df)\n",
    "    sjc.dm            <- data.matrix(sjc.df)    \n",
    " \n",
    "    sex       <- factor(metadata_tissue$sex,levels=c('male','female')) \n",
    "    design    <- model.matrix ( ~ sex)\n",
    "    colnames(design) = c(\"intercept\",\"sex\")\n",
    "    head(design)\n",
    "\n",
    "    y_ijc <- DGEList(counts=ijc.dm, group = sex)\n",
    "    y_ijc <- calcNormFactors(y_ijc, method=\"RLE\")\n",
    "    y_ijc_voom <- voom (y_ijc, design=design, plot=TRUE)\n",
    "\n",
    "    fit_ijc <- lmFit(y_ijc_voom, design)\n",
    "    fit_ijc <- eBayes(fit_ijc)\n",
    "\n",
    "    ijc_sex_results                    <- topTable(fit_ijc, coef='sex', number=nrow(y_ijc_voom))\n",
    "    ijc_sex_results_refined            <- ijc_sex_results$adj.P.Val < 0.05 & abs(ijc_sex_results$logFC) > abs(log2(1.5))\n",
    "    ijc_sex_rnResults                  <- rownames(ijc_sex_results)\n",
    "    ijc_sex_resultsAnnotations         <- fromGTF[ijc_sex_rnResults,]\n",
    "\n",
    "    ijc_sex_results_refinedAnnotations <- ijc_sex_resultsAnnotations[ijc_sex_results_refined      ==TRUE,]\n",
    "    dim (ijc_sex_results_refinedAnnotations)\n",
    "    head(ijc_sex_results_refinedAnnotations)\n",
    "\n",
    "    # geneSymbols are in the annotations \n",
    "    ijc_sex_geneSymbols               <- ijc_sex_resultsAnnotations$geneSymbol\n",
    "    ijc_sex_refined_geneSymbols       <- ijc_sex_results_refinedAnnotations$geneSymbol\n",
    "    length(ijc_sex_refined_geneSymbols)\n",
    "\n",
    "    # adjust the rownames to be the geneSymbols rather than junction IDs\n",
    "    ijc_sex_results_rn         <- paste(ijc_sex_geneSymbols,       ijc_sex_rnResults, sep=\"-\")\n",
    "    head(ijc_sex_results_rn)\n",
    "    rownames(ijc_sex_results)       <- ijc_sex_results_rn\n",
    "\n",
    "    length(ijc_sex_refined_geneSymbols)\n",
    "    y_sjc <- DGEList(counts=ijc.dm, group = sex)\n",
    "    y_sjc <- calcNormFactors(y_ijc, method=\"RLE\")\n",
    "    y_sjc_voom <- voom (y_ijc, design=design, plot=TRUE)\n",
    "\n",
    "    fit_sjc <- lmFit(y_sjc_voom, design)\n",
    "    fit_sjc <- eBayes(fit_sjc)\n",
    "\n",
    "    sjc_sex_results                    <- topTable(fit_sjc, coef='sex', number=nrow(y_sjc_voom))\n",
    "    sjc_sex_results_refined            <- sjc_sex_results$adj.P.Val < 0.05 & abs(sjc_sex_results$logFC) > abs(log2(1.5))\n",
    "    sjc_sex_rnResults                  <- rownames(sjc_sex_results)\n",
    "    sjc_sex_resultsAnnotations         <- fromGTF[sjc_sex_rnResults,]\n",
    "\n",
    "    sjc_sex_results_refinedAnnotations <- sjc_sex_resultsAnnotations[sjc_sex_results_refined      ==TRUE,]\n",
    "    dim (sjc_sex_results_refinedAnnotations)\n",
    "    head(sjc_sex_results_refinedAnnotations)\n",
    "\n",
    "    # geneSymbols are in the annotations \n",
    "    sjc_sex_geneSymbols               <- sjc_sex_resultsAnnotations$geneSymbol\n",
    "    sjc_sex_refined_geneSymbols       <- sjc_sex_results_refinedAnnotations$geneSymbol\n",
    "    length(sjc_sex_refined_geneSymbols)\n",
    "\n",
    "    # adjust the rownames to be the geneSymbols rather than junction IDs\n",
    "    sjc_sex_results_rn         <- paste(sjc_sex_geneSymbols,       sjc_sex_rnResults, sep=\"-\")\n",
    "    head(sjc_sex_results_rn)\n",
    "    rownames(sjc_sex_results)       <- sjc_sex_results_rn\n",
    "\n",
    "    length(sjc_sex_results_refined) \n",
    "   # print these exploratory plots for ijc and sjc alone\n",
    "    Gender <- substring(sex,1,1)\n",
    "    filename <- paste0(paste0(\"../pdf/\", snakecase::to_snake_case(tissue_of_interest)),\"-ijc-MDSplot-100.pdf\")\n",
    "    pdf (filename)\n",
    "        plotMDS(y_ijc, labels=Gender, top=100, col=ifelse(Gender==\"m\",\"blue\",\"red\"), \n",
    "                gene.selection=\"common\")\n",
    "    dev.off()\n",
    "    filename <- paste0(paste0(\"../pdf/\", snakecase::to_snake_case(tissue_of_interest)),\"-ijc-voom-MDSplot-100.pdf\")\n",
    "    pdf (filename)    \n",
    "        plotMDS(y_ijc_voom, labels=Gender, top=100, col=ifelse(Gender==\"m\",\"blue\",\"red\"), \n",
    "                gene.selection=\"common\")\n",
    "    dev.off()\n",
    "\n",
    "    fit_ijc <- lmFit(y_ijc_voom, design)\n",
    "    fit_ijc <- eBayes(fit_ijc)\n",
    "    ijc_sex_results          <- topTable(fit_ijc, coef='sex', number=nrow(y_ijc_voom))\n",
    "    ijc_sex_results_refined  <- ijc_sex_results$adj.P.Val < 0.05 & abs(ijc_sex_results$logFC) > abs(log2(1.5))\n",
    "    ijc_sex_rnResults       <- rownames(ijc_sex_results)\n",
    "\n",
    "    filename <- paste0(paste0(\"../pdf/\", snakecase::to_snake_case(tissue_of_interest)),\"-sjc-MDSplot-100.pdf\")\n",
    "    pdf (filename)\n",
    "           plotMDS(y_sjc, labels=Gender, top=100, col=ifelse(Gender==\"m\",\"blue\",\"red\"), \n",
    "                gene.selection=\"common\")\n",
    "    dev.off()\n",
    "    filename <- paste0(paste0(\"../pdf/\", snakecase::to_snake_case(tissue_of_interest)),\"-sjc-voom-MDSplot-100.pdf\")\n",
    "    pdf (filename)    \n",
    "          plotMDS(y_sjc_voom, labels=Gender, top=100, col=ifelse(Gender==\"m\",\"blue\",\"red\"), \n",
    "                gene.selection=\"common\")\n",
    "    dev.off()\n",
    "        \n",
    "    fit_sjc <- lmFit(y_sjc_voom, design)\n",
    "    fit_sjc <- eBayes(fit_sjc)\n",
    "        \n",
    "    sjc_sex_results            <- topTable(fit_sjc, coef='sex', number=nrow(y_sjc_voom))\n",
    "    sjc_sex_results_refined        <- sjc_sex_results$adj.P.Val < 0.05 & abs(sjc_sex_results$logFC) > abs(log2(1.5))\n",
    "    sjc_sex_rnResults                  <- rownames(sjc_sex_results)\n",
    "    sjc_sex_resultsAnnotations         <- fromGTF[sjc_sex_rnResults,]\n",
    "    sjc_sex_results_refinedAnnotations <- sjc_sex_resultsAnnotations[sjc_sex_results_refined ==TRUE,]\n",
    "\n",
    "    head(sjc_sex_resultsAnnotations)\n",
    "    head(sjc_sex_results_refinedAnnotations)\n",
    "\n",
    "    # geneSymbols are in the annotations \n",
    "    sjc_sex_geneSymbols               <- sjc_sex_resultsAnnotations$geneSymbol\n",
    "    sjc_sex_refined_geneSymbols       <- sjc_sex_results_refinedAnnotations$geneSymbol\n",
    "\n",
    "    # adjust the rownames to be the geneSymbols rather than junction IDs\n",
    "    sjc_sex_results_rn         <- paste(sjc_sex_geneSymbols,       sjc_sex_rnResults, sep=\"-\")\n",
    "    head(sjc_sex_results_rn)    \n",
    "    rownames(sjc_sex_results)       <- sjc_sex_results_rn\n",
    "    sjc_sex_filename               = paste0(paste0('../data/',snakecase::to_snake_case(tissue_of_interest)),'_DGE_sjc_sex.csv',sep='')\n",
    "    sjc_sex_refined_filename       = paste0(paste0('../data/',snakecase::to_snake_case(tissue_of_interest)),'_DGE_sjc_sex_refined.csv',sep='')\n",
    "    sjc_sex_genesFilename          = paste0(paste0('../data/',snakecase::to_snake_case(tissue_of_interest)),'_sjc_sex_universe.txt',sep='')\n",
    "    sjc_sex_refined_genesFilename       = paste0(paste0('../data/',snakecase::to_snake_case(tissue_of_interest)),'_sjc_sex_gene_set.txt',sep='')\n",
    "\n",
    "    write.table(sjc_sex_results,            file = sjc_sex_filename      , row.names = T, col.names = T, quote = F, sep = \",\")\n",
    "    write.table(sjc_sex_results [sjc_sex_results_refined      ,], file = sjc_sex_refined_filename      , row.names = T, col.names = T, quote = F, sep = \",\")\n",
    "    write.table(sjc_sex_geneSymbols,        file = sjc_sex_genesFilename        , row.names = F, col.names = F, quote = F, sep = \",\")\n",
    "    write.table(sjc_sex_refined_geneSymbols,file = sjc_sex_refined_genesFilename, row.names = F, col.names = F, quote = F, sep = \",\")\n",
    "\n",
    "    \n",
    "    sample_names <- as.character(colnames(ijc.dm))\n",
    "    \n",
    "    ijc_names <- as.character(colnames(ijc.dm))\n",
    "    sjc_names <- as.character(colnames(sjc.dm))\n",
    "    sjc_names <- paste0(sjc_names,\"-sjc\")\n",
    "    ijc_names <- paste0(ijc_names,\"-ijc\")\n",
    "\n",
    "    colnames(ijc.dm) <- ijc_names\n",
    "    colnames(sjc.dm) <- sjc_names\n",
    "\n",
    "    as_matrix <- cbind(ijc.dm,sjc.dm)\n",
    "    sex       <- c(rep(metadata_tissue$sex,2))\n",
    "    sex       <- factor(sex, levels=c('male','female'))\n",
    "    as_event  <- c(rep(\"ijc\",dim(ijc.dm)[2]), rep(\"sjc\", dim(sjc.dm)[2]))\n",
    "    as_event  <- factor(as_event, levels=c(\"ijc\", \"sjc\"))\n",
    "\n",
    "    length(as_event)\n",
    "    # we will add donor as a blocking parameter\n",
    "    donor    <- rep(sample_names, 2)\n",
    "\n",
    "    design    <- model.matrix( ~ sex + as_event + sex*as_event )\n",
    "\n",
    "    colnames(design) <- c(\"intercept\",\"sex\",\"as_event\",\"sex*as_event\")\n",
    "\n",
    "    dim(as_matrix)\n",
    "    table(sex)\n",
    "    table(as_event)\n",
    "    head(design)\n",
    "\n",
    "    y <- DGEList(counts=as_matrix, group = sex)\n",
    "    y <- calcNormFactors(y, method=\"RLE\")\n",
    "    y_voom <- voom (y, design=design, plot = TRUE)\n",
    "\n",
    "    # for testing comment this out for speed\n",
    "    dup_cor <- duplicateCorrelation(y_voom$E, design=design, ndups=2, block=donor, weights=y$samples$norm.factors)\n",
    "    dup_cor$consensus.correlation \n",
    "    \n",
    "    y_dup_voom <- voom (y, design=design, plot = TRUE, block = donor, correlation = dup_cor$consensus.correlation)\n",
    "    \n",
    "    # print the combined exploratory plot\n",
    "    filename <- paste0(paste0(\"../pdf/\", snakecase::to_snake_case(tissue_of_interest)),\"-y-ijc-MDSplot-100.pdf\")\n",
    "    pdf (filename)\n",
    "        plotMDS(y[,c(1:dim(ijc.dm)[2])], labels=Gender, top=100, col=ifelse(Gender==\"m\",\"blue\",\"red\"), \n",
    "            gene.selection=\"common\")\n",
    "    dev.off()\n",
    "    filename <- paste0(paste0(\"../pdf/\", snakecase::to_snake_case(tissue_of_interest)),\"-y-voom-ijc-MDSplot-100.pdf\")\n",
    "    pdf (filename)\n",
    "        plotMDS(y_voom[,c(1:dim(ijc.dm)[2])], labels=Gender, top=100, col=ifelse(Gender==\"m\",\"blue\",\"red\"), \n",
    "            gene.selection=\"common\")\n",
    "    dev.off()\n",
    "    filename <- paste0(paste0(\"../pdf/\", snakecase::to_snake_case(tissue_of_interest)),\"-y-dup-voom-ijc-MDSplot-100.pdf\")\n",
    "    pdf (filename)\n",
    "        plotMDS(y_dup_voom[,c(1:dim(ijc.dm)[2])], labels=Gender, top=100, col=ifelse(Gender==\"m\",\"blue\",\"red\"), \n",
    "            gene.selection=\"common\")\n",
    "    dev.off()\n",
    "    filename <- paste0(paste0(\"../pdf/\", snakecase::to_snake_case(tissue_of_interest)),\"-y-sjc-MDSplot-100.pdf\")\n",
    "    pdf (filename)\n",
    "        plotMDS(y[,c((dim(ijc.dm)[2]+1)):(dim(ijc.dm)[2]+dim(sjc.dm)[2])], labels=Gender, top=100, col=ifelse(Gender==\"m\",\"blue\",\"red\"), \n",
    "            gene.selection=\"common\")\n",
    "    dev.off()\n",
    "    filename <- paste0(paste0(\"../pdf/\", snakecase::to_snake_case(tissue_of_interest)),\"-y-voom-sjc-MDSplot-100.pdf\")\n",
    "    pdf (filename)\n",
    "        plotMDS(y_voom[,c((dim(ijc.dm)[2]+1)):(dim(ijc.dm)[2]+dim(sjc.dm)[2])], labels=Gender, top=100, col=ifelse(Gender==\"m\",\"blue\",\"red\"), \n",
    "            gene.selection=\"common\")\n",
    "    dev.off()\n",
    "    filename <- paste0(paste0(\"../pdf/\", snakecase::to_snake_case(tissue_of_interest)),\"-y-dup-voom-sjc-MDSplot-100.pdf\")\n",
    "    pdf (filename)\n",
    "        plotMDS(y_dup_voom[,c((dim(ijc.dm)[2]+1)):(dim(ijc.dm)[2]+dim(sjc.dm)[2])], labels=Gender, top=100, col=ifelse(Gender==\"m\",\"blue\",\"red\"), \n",
    "            gene.selection=\"common\")\n",
    "    dev.off()\n",
    "\n",
    "    # for testing comment this out for speed\n",
    "    fit <- lmFit(y_dup_voom, design=design, block=donor, correlation = dup_cor$consensus.correlation)\n",
    "    \n",
    "    # and uncomment this to have the model fit to the design matrix\n",
    "    #    fit <- lmFit(y_voom, design=design)\n",
    "    fit <- eBayes(fit, robust=TRUE)    \n",
    "    \n",
    "    sex_as_events_results         <- topTable(fit, coef=\"sex*as_event\", number=nrow(y_voom))\n",
    "    sex_as_events_results_refined <- sex_as_events_results$adj.P.Val < 0.05 & abs(sex_as_events_results$logFC) > abs(log2(1.5))\n",
    "\n",
    "    sex_results                   <- topTable(fit, coef=\"sex\", number=nrow(y_voom))\n",
    "    sex_results_refined           <- sex_results$adj.P.Val < 0.05 & abs(sex_results$logFC) > abs(log2(1.5))\n",
    "\n",
    "    sex_as_events_rnResults <- rownames(sex_as_events_results)\n",
    "    sex_rnResults           <- rownames(sex_results)\n",
    "    head(sex_as_events_rnResults)\n",
    "    head(ijc_sex_rnResults)\n",
    "    head(sex_rnResults)\n",
    "    head(fromGTF[sex_as_events_rnResults,])\n",
    "\n",
    "    # use the junctionIDs to get the annotations\n",
    "    sex_as_events_resultsAnnotations      <- fromGTF[sex_as_events_rnResults,]\n",
    "    sex_resultsAnnotations                <- fromGTF[sex_rnResults,]\n",
    "    ijc_sex_resultsAnnotations            <- fromGTF[ijc_sex_rnResults,]\n",
    "    head(sex_as_events_resultsAnnotations)\n",
    "    head(sex_resultsAnnotations)\n",
    "    head(ijc_sex_resultsAnnotations)\n",
    "    \n",
    "    sex_as_events_results_refinedAnnotations<- sex_as_events_resultsAnnotations[sex_as_events_results_refined==TRUE,]\n",
    "    sex_results_refinedAnnotations          <- sex_resultsAnnotations          [sex_results_refined          ==TRUE,]\n",
    "    ijc_sex_results_refinedAnnotations      <- ijc_sex_resultsAnnotations      [ijc_sex_results_refined      ==TRUE,]\n",
    "    head(sex_as_events_results_refinedAnnotations)\n",
    "    head(sex_results_refinedAnnotations)\n",
    "    head(ijc_sex_results_refinedAnnotations)\n",
    "\n",
    "    # geneSymbols are in the annotations \n",
    "    sex_as_events_geneSymbols         <- sex_as_events_resultsAnnotations$geneSymbol\n",
    "    sex_geneSymbols                   <- sex_resultsAnnotations$geneSymbol\n",
    "    ijc_sex_geneSymbols               <- ijc_sex_resultsAnnotations$geneSymbol\n",
    "\n",
    "    sex_as_events_refined_geneSymbols <- sex_as_events_results_refinedAnnotations$geneSymbol\n",
    "    sex_refined_geneSymbols           <- sex_results_refinedAnnotations$geneSymbol\n",
    "    ijc_sex_refined_geneSymbols       <- ijc_sex_results_refinedAnnotations$geneSymbol\n",
    "\n",
    "    # adjust the rownames to be the geneSymbols rather than junction IDs\n",
    "    sex_as_events_results_rn   <- paste(sex_as_events_geneSymbols, sex_as_events_rnResults, sep=\"-\")\n",
    "    sex_results_rn             <- paste(sex_geneSymbols,           sex_rnResults, sep=\"-\")\n",
    "    ijc_sex_results_rn         <- paste(ijc_sex_geneSymbols,       ijc_sex_rnResults, sep=\"-\")\n",
    "    head(sex_as_events_results_rn)\n",
    "    head(sex_results_rn)\n",
    "    head(ijc_sex_results_rn)\n",
    "    rownames(sex_as_events_results) <- sex_as_events_results_rn\n",
    "    rownames(sex_results)           <- sex_results_rn\n",
    "    rownames(ijc_sex_results)       <- ijc_sex_results_rn\n",
    "    \n",
    "    sex_as_events_filename         = paste0(paste0('../data/',snakecase::to_snake_case(tissue_of_interest)),'_DGE_sex_as_events.csv')\n",
    "    sex_filename                   = paste0(paste0('../data/',snakecase::to_snake_case(tissue_of_interest)),'_DGE_sex.csv',sep='')\n",
    "    ijc_sex_filename               = paste0(paste0('../data/',snakecase::to_snake_case(tissue_of_interest)),'_DGE_ijc_sex.csv',sep='')\n",
    "\n",
    "    sex_as_events_refined_filename = paste0(paste0('../data/',snakecase::to_snake_case(tissue_of_interest)),'_DGE_sex_as_events_refined.csv',sep='')\n",
    "    sex_refined_filename           = paste0(paste0('../data/',snakecase::to_snake_case(tissue_of_interest)),'_DGE_sex_refined.csv',sep='')\n",
    "    ijc_sex_refined_filename       = paste0(paste0('../data/',snakecase::to_snake_case(tissue_of_interest)),'_DGE_ijc_sex_refined.csv',sep='')\n",
    "\n",
    "    sex_as_events_genesFilename    = paste0(paste0('../data/',snakecase::to_snake_case(tissue_of_interest)),'_sex_as_events_universe.txt',sep='')\n",
    "    sex_genesFilename              = paste0(paste0('../data/',snakecase::to_snake_case(tissue_of_interest)),'_sex_universe.txt',sep='')\n",
    "    ijc_sex_genesFilename          = paste0(paste0('../data/',snakecase::to_snake_case(tissue_of_interest)),'_ijc_sex_universe.txt',sep='')\n",
    "\n",
    "    sex_as_events_refined_genesFilename = paste0(paste0('../data/',snakecase::to_snake_case(tissue_of_interest)),'_sex_as_events_gene_set.txt',sep='')\n",
    "    sex_refined_genesFilename           = paste0(paste0('../data/',snakecase::to_snake_case(tissue_of_interest)),'_sex_gene_set.txt',sep='')\n",
    "    ijc_sex_refined_genesFilename       = paste0(paste0('../data/',snakecase::to_snake_case(tissue_of_interest)),'_ijc_sex_gene_set.txt',sep='')\n",
    "\n",
    "    write.table(sex_as_events_results, file = sex_as_events_filename, row.names = T, col.names = T, quote = F, sep = \",\")\n",
    "    write.table(sex_results,           file = sex_filename          , row.names = T, col.names = T, quote = F, sep = \",\")\n",
    "    write.table(ijc_sex_results,       file = ijc_sex_filename      , row.names = T, col.names = T, quote = F, sep = \",\")\n",
    "\n",
    "    write.table(sex_as_events_results[sex_as_events_results_refined,], file = sex_as_events_refined_filename, row.names = T, col.names = T, quote = F, sep = \",\")\n",
    "    write.table(sex_results          [sex_results_refined          ,], file = sex_refined_filename          , row.names = T, col.names = T, quote = F, sep = \",\")\n",
    "    write.table(ijc_sex_results      [ijc_sex_results_refined      ,], file = ijc_sex_refined_filename      , row.names = T, col.names = T, quote = F, sep = \",\")\n",
    "\n",
    "    write.table(sex_as_events_geneSymbols, file = sex_as_events_genesFilename, row.names = F, col.names = F, quote = F, sep = \",\")\n",
    "    write.table(sex_geneSymbols,           file = sex_genesFilename          , row.names = F, col.names = F, quote = F, sep = \",\")\n",
    "    write.table(ijc_sex_geneSymbols,       file = ijc_sex_genesFilename      , row.names = F, col.names = F, quote = F, sep = \",\")\n",
    "\n",
    "    write.table(sex_as_events_refined_geneSymbols,file = sex_as_events_refined_genesFilename, row.names = F, col.names = F, quote = F, sep = \",\")\n",
    "    write.table(sex_refined_geneSymbols,          file = sex_refined_genesFilename          , row.names = F, col.names = F, quote = F, sep = \",\")\n",
    "    write.table(ijc_sex_refined_geneSymbols,      file = ijc_sex_refined_genesFilename      , row.names = F, col.names = F, quote = F, sep = \",\")\n",
    "\n",
    "    return(0)\n",
    "}\n"
   ]
  },
  {
   "cell_type": "code",
   "execution_count": 20,
   "metadata": {},
   "outputs": [
    {
     "name": "stdout",
     "output_type": "stream",
     "text": [
      "Adipose - Subcutaneous\n",
      "Adipose - Visceral (Omentum)\n",
      "Adrenal Gland\n",
      "Artery - Aorta\n",
      "Artery - Coronary\n",
      "Artery - Tibial\n",
      "Bladder\n",
      "Brain - Amygdala\n",
      "Brain - Anterior cingulate cortex (BA24)\n",
      "Brain - Caudate (basal ganglia)\n",
      "Brain - Cerebellar Hemisphere\n",
      "Brain - Cerebellum\n",
      "Brain - Cortex\n",
      "Brain - Frontal Cortex (BA9)\n",
      "Brain - Hippocampus\n",
      "Brain - Hypothalamus\n",
      "Brain - Nucleus accumbens (basal ganglia)\n",
      "Brain - Putamen (basal ganglia)\n",
      "Brain - Spinal cord (cervical c-1)\n",
      "Brain - Substantia nigra\n",
      "Breast - Mammary Tissue\n",
      "Cells - Cultured fibroblasts\n",
      "Cells - EBV-transformed lymphocytes\n",
      "Colon - Sigmoid\n",
      "Colon - Transverse\n",
      "Esophagus - Gastroesophageal Junction\n",
      "Esophagus - Mucosa\n",
      "Esophagus - Muscularis\n",
      "Heart - Atrial Appendage\n",
      "Heart - Left Ventricle\n",
      "Kidney - Cortex\n",
      "Liver\n",
      "Lung\n",
      "Minor Salivary Gland\n",
      "Muscle - Skeletal\n",
      "Nerve - Tibial\n",
      "Pancreas\n",
      "Pituitary\n",
      "Skin - Not Sun Exposed (Suprapubic)\n",
      "Skin - Sun Exposed (Lower leg)\n",
      "Small Intestine - Terminal Ileum\n",
      "Spleen\n",
      "Stomach\n",
      "Thyroid\n",
      "Whole Blood\n"
     ]
    },
    {
     "data": {
      "text/html": [
       "'Heart - Left Ventricle'"
      ],
      "text/latex": [
       "'Heart - Left Ventricle'"
      ],
      "text/markdown": [
       "'Heart - Left Ventricle'"
      ],
      "text/plain": [
       "[1] \"Heart - Left Ventricle\""
      ]
     },
     "metadata": {},
     "output_type": "display_data"
    },
    {
     "data": {
      "text/html": [
       "45"
      ],
      "text/latex": [
       "45"
      ],
      "text/markdown": [
       "45"
      ],
      "text/plain": [
       "[1] 45"
      ]
     },
     "metadata": {},
     "output_type": "display_data"
    },
    {
     "data": {
      "text/html": [
       "7988"
      ],
      "text/latex": [
       "7988"
      ],
      "text/markdown": [
       "7988"
      ],
      "text/plain": [
       "[1] 7988"
      ]
     },
     "metadata": {},
     "output_type": "display_data"
    },
    {
     "data": {
      "text/html": [
       "<style>\n",
       ".list-inline {list-style: none; margin:0; padding: 0}\n",
       ".list-inline>li {display: inline-block}\n",
       ".list-inline>li:not(:last-child)::after {content: \"\\00b7\"; padding: 0 .5ex}\n",
       "</style>\n",
       "<ol class=list-inline><li>42484</li><li>7988</li></ol>\n"
      ],
      "text/latex": [
       "\\begin{enumerate*}\n",
       "\\item 42484\n",
       "\\item 7988\n",
       "\\end{enumerate*}\n"
      ],
      "text/markdown": [
       "1. 42484\n",
       "2. 7988\n",
       "\n",
       "\n"
      ],
      "text/plain": [
       "[1] 42484  7988"
      ]
     },
     "metadata": {},
     "output_type": "display_data"
    },
    {
     "data": {
      "text/html": [
       "<style>\n",
       ".list-inline {list-style: none; margin:0; padding: 0}\n",
       ".list-inline>li {display: inline-block}\n",
       ".list-inline>li:not(:last-child)::after {content: \"\\00b7\"; padding: 0 .5ex}\n",
       "</style>\n",
       "<ol class=list-inline><li>42484</li><li>7988</li></ol>\n"
      ],
      "text/latex": [
       "\\begin{enumerate*}\n",
       "\\item 42484\n",
       "\\item 7988\n",
       "\\end{enumerate*}\n"
      ],
      "text/markdown": [
       "1. 42484\n",
       "2. 7988\n",
       "\n",
       "\n"
      ],
      "text/plain": [
       "[1] 42484  7988"
      ]
     },
     "metadata": {},
     "output_type": "display_data"
    },
    {
     "data": {
      "text/html": [
       "<style>\n",
       ".list-inline {list-style: none; margin:0; padding: 0}\n",
       ".list-inline>li {display: inline-block}\n",
       ".list-inline>li:not(:last-child)::after {content: \"\\00b7\"; padding: 0 .5ex}\n",
       "</style>\n",
       "<ol class=list-inline><li>7988</li><li>79</li></ol>\n"
      ],
      "text/latex": [
       "\\begin{enumerate*}\n",
       "\\item 7988\n",
       "\\item 79\n",
       "\\end{enumerate*}\n"
      ],
      "text/markdown": [
       "1. 7988\n",
       "2. 79\n",
       "\n",
       "\n"
      ],
      "text/plain": [
       "[1] 7988   79"
      ]
     },
     "metadata": {},
     "output_type": "display_data"
    },
    {
     "data": {
      "text/html": [
       "<style>\n",
       ".list-inline {list-style: none; margin:0; padding: 0}\n",
       ".list-inline>li {display: inline-block}\n",
       ".list-inline>li:not(:last-child)::after {content: \"\\00b7\"; padding: 0 .5ex}\n",
       "</style>\n",
       "<ol class=list-inline><li>42484</li><li>11</li></ol>\n"
      ],
      "text/latex": [
       "\\begin{enumerate*}\n",
       "\\item 42484\n",
       "\\item 11\n",
       "\\end{enumerate*}\n"
      ],
      "text/markdown": [
       "1. 42484\n",
       "2. 11\n",
       "\n",
       "\n"
      ],
      "text/plain": [
       "[1] 42484    11"
      ]
     },
     "metadata": {},
     "output_type": "display_data"
    },
    {
     "data": {
      "image/png": "[encoded data removed]",
      "text/plain": [
       "Plot with title “voom: Mean-variance trend”"
      ]
     },
     "metadata": {},
     "output_type": "display_data"
    },
    {
     "data": {
      "image/png": "[encoded data removed]",
      "text/plain": [
       "Plot with title “voom: Mean-variance trend”"
      ]
     },
     "metadata": {},
     "output_type": "display_data"
    },
    {
     "data": {
      "text/html": [
       "0"
      ],
      "text/latex": [
       "0"
      ],
      "text/markdown": [
       "0"
      ],
      "text/plain": [
       "[1] 0"
      ]
     },
     "metadata": {},
     "output_type": "display_data"
    },
    {
     "data": {
      "image/png": "[encoded data removed]",
      "text/plain": [
       "Plot with title “voom: Mean-variance trend”"
      ]
     },
     "metadata": {},
     "output_type": "display_data"
    }
   ],
   "source": [
    "\n",
    "cat(levels(tissue_list_m_f),sep=\"\\n\")\n",
    "\n",
    "actual_tissue_list_m_f = levels(tissue_list_m_f)\n",
    "tissue_of_interest = actual_tissue_list_m_f[30]\n",
    "tissue_of_interest\n",
    "length(actual_tissue_list_m_f)\n",
    "length(tissue_list_m_f)\n",
    "\n",
    "dim(ijc_m_f_no_chrY)\n",
    "dim(sjc_m_f_no_chrY)\n",
    "dim(metadata_m_f)\n",
    "dim(fromGTF_no_chrY)\n",
    "\n",
    "print_exploratory_plots (tissue_of_interest, \n",
    "                         fromGTF_no_chrY, \n",
    "                         tissue_list_m_f, \n",
    "                         ijc_m_f_no_chrY, \n",
    "                         sjc_m_f_no_chrY, \n",
    "                         metadata_m_f )\n"
   ]
  },
  {
   "cell_type": "markdown",
   "metadata": {},
   "source": [
    "## Metadata\n",
    "\n",
    "For replicability and reproducibility purposes, we also print the following metadata:\n",
    "\n",
    "1. Checksums of **'artefacts'**, files generated during the analysis and stored in the folder directory **`data`**\n",
    "2. List of environment metadata, dependencies, versions of libraries using `utils::sessionInfo()` and [`devtools::session_info()`](https://devtools.r-lib.org/reference/session_info.html)"
   ]
  },
  {
   "cell_type": "markdown",
   "metadata": {},
   "source": [
    "### 1. Checksums with the sha256 algorithm"
   ]
  },
  {
   "cell_type": "code",
   "execution_count": 12,
   "metadata": {},
   "outputs": [
    {
     "name": "stderr",
     "output_type": "stream",
     "text": [
      "Warning message in rm(notebookid):\n",
      "“object 'notebookid' not found”"
     ]
    },
    {
     "data": {
      "text/html": [
       "'AllTissueJunctionAnalysis'"
      ],
      "text/latex": [
       "'AllTissueJunctionAnalysis'"
      ],
      "text/markdown": [
       "'AllTissueJunctionAnalysis'"
      ],
      "text/plain": [
       "[1] \"AllTissueJunctionAnalysis\""
      ]
     },
     "metadata": {},
     "output_type": "display_data"
    },
    {
     "name": "stderr",
     "output_type": "stream",
     "text": [
      "Generating sha256 checksums of the artefacts in the `..data/` directory .. \n"
     ]
    },
    {
     "data": {
      "text/html": [],
      "text/latex": [],
      "text/markdown": [],
      "text/plain": [
       "character(0)"
      ]
     },
     "metadata": {},
     "output_type": "display_data"
    },
    {
     "name": "stderr",
     "output_type": "stream",
     "text": [
      "Done!\n",
      "\n"
     ]
    },
    {
     "data": {
      "text/html": [
       "'../metadata/AllTissueJunctionAnalysis_sha256sums.txt'"
      ],
      "text/latex": [
       "'../metadata/AllTissueJunctionAnalysis\\_sha256sums.txt'"
      ],
      "text/markdown": [
       "'../metadata/AllTissueJunctionAnalysis_sha256sums.txt'"
      ],
      "text/plain": [
       "[1] \"../metadata/AllTissueJunctionAnalysis_sha256sums.txt\""
      ]
     },
     "metadata": {},
     "output_type": "display_data"
    },
    {
     "data": {
      "text/html": [
       "<table>\n",
       "<caption>A data.table: 187 × 2</caption>\n",
       "<thead>\n",
       "\t<tr><th scope=col>sha256sum</th><th scope=col>file</th></tr>\n",
       "\t<tr><th scope=col>&lt;chr&gt;</th><th scope=col>&lt;chr&gt;</th></tr>\n",
       "</thead>\n",
       "<tbody>\n",
       "\t<tr><td>f507001719240ee4bc2a21fa03596fc266690e0f87cd217a772e654067328318</td><td>./artery_tibial_DGE_sex_as_events_refined.csv                                                  </td></tr>\n",
       "\t<tr><td>45ad842b5f4044f43da1236864ad11cd539a0bc96829e9f077a4df146d61b059</td><td>./skin_not_sun_exposed_suprapubic_DGE_sjc_sex_refined.csv                                      </td></tr>\n",
       "\t<tr><td>a5e44dee6772f3d68a49f855e6b7119883bddb481d50c6330ea43ec7f619ddbe</td><td>./artery_coronary_DGE_ijc_sex_refined.csv                                                      </td></tr>\n",
       "\t<tr><td>0501748649b49e2633a4bf3432c4dadc0f56a3211ff3ae81a90289201bb29b63</td><td>./adrenal_gland_ijc_sex_gene_set.txt                                                           </td></tr>\n",
       "\t<tr><td>9e39afe405c59cea8532f404a400b1e5ed41984803bdc400a56a6fa6fc522a89</td><td>./artery_tibial_sex_gene_set.txt                                                               </td></tr>\n",
       "\t<tr><td>5e020d69cceba31d1dc559512c48f68dcc7516e48bc6cc32a9189c3a5d00e3c8</td><td>./brain_hippocampus_DGE_sjc_sex_refined.csv                                                    </td></tr>\n",
       "\t<tr><td>d03c22e998eae9c96ab6e07340266fdff0d8f4f896fe7bd62ab80bb5aa7857f1</td><td>./BreastMammaryTissue_DGE_ijc_sex.csv                                                          </td></tr>\n",
       "\t<tr><td>e18bd5ec240dd57f81d096583953da8808c0d7be70548a484a10a9aaab1ae089</td><td>./artery_tibial_sjc_sex_universe.txt                                                           </td></tr>\n",
       "\t<tr><td>855c93faf29eecde360e123ed21981158c359ccd733760ed7ef97ee13f845257</td><td>./brain_hippocampus_DGE_ijc_sex.csv                                                            </td></tr>\n",
       "\t<tr><td>7944cec44082461c0c54e4f8e753043d775c01a36efe18f5e25f10d5b6777bfd</td><td>./adipose_visceral_omentum_DGE_sex.csv                                                         </td></tr>\n",
       "\t<tr><td>2ff06faca7d475089b18e7b0aa2ed8e9d1f4d71b0e7b7783bb82570a41d29798</td><td>./BreastMammaryTissue_sex_as_events_universe.txt                                               </td></tr>\n",
       "\t<tr><td>087e09232bfa84feeb1342004ee1e10c4881a901cb21729f1b14e80e158d24ae</td><td>./bladder_DGE_sjc_sex_refined.csv                                                              </td></tr>\n",
       "\t<tr><td>7896a8ef04f32ec899af402c0c1c1c4d07e24cefea566304bf563c4715d5ef89</td><td>./adrenal_gland_DGE_ijc_sex.csv                                                                </td></tr>\n",
       "\t<tr><td>7fc2516462fbea1647c2dda4fdcb1048310c4b56d1f4f379d2d77509d91affad</td><td>./artery_coronary_sex_as_events_gene_set.txt                                                   </td></tr>\n",
       "\t<tr><td>dc0ea05884081a6c20305e0eaa615c0d993c43c22f28c002014905b325c557c2</td><td>./.ipynb_checkpoints/heart_atrial_appendage_sjc_sex_gene_set-checkpoint.txt                    </td></tr>\n",
       "\t<tr><td>6fbca3c6c59c473ad392121b5ad961d65f75e378168bf2ca0c33f3db1dca8eca</td><td>./.ipynb_checkpoints/breast_mammary_tissue_DGE_sex_as_events_refined-checkpoint.csv            </td></tr>\n",
       "\t<tr><td>dc0ea05884081a6c20305e0eaa615c0d993c43c22f28c002014905b325c557c2</td><td>./.ipynb_checkpoints/heart_atrial_appendage_sex_gene_set-checkpoint.txt                        </td></tr>\n",
       "\t<tr><td>dde2b33615acccbf41654e49a1a478626e8d5f8fc679a3929b4437c21e1fb173</td><td>./.ipynb_checkpoints/heart_atrial_appendage_DGE_sjc_sex_refined-checkpoint.csv                 </td></tr>\n",
       "\t<tr><td>cb1679a58639fe338899ca4b2aff62821520614e1afa2ef209db5c5a98f39f75</td><td>./.ipynb_checkpoints/heart_atrial_appendage_DGE_sjc_sex-checkpoint.csv                         </td></tr>\n",
       "\t<tr><td>6cb795ae4f665b84552936a71ebacc9627d5ec53663eb6d40ff27d371c3ea464</td><td>./.ipynb_checkpoints/breast_mammary_tissue_sex_as_events_gene_set-checkpoint.txt               </td></tr>\n",
       "\t<tr><td>8718e1fa33a6432c8815c54198662b41de6b25521a6e206bdede7f8774496366</td><td>./.ipynb_checkpoints/breast_mammary_tissue_DGE_sex_as_events_refined_gene_pvalue-checkpoint.csv</td></tr>\n",
       "\t<tr><td>d0a79a716e78f3e8cea5c65b310fbff87e001caea22562641ecb6be2de0fbb3a</td><td>./.ipynb_checkpoints/heart_atrial_appendage_ijc_sex_universe-checkpoint.txt                    </td></tr>\n",
       "\t<tr><td>88d7442f36cb5e821c3975375cafb05245aa51ec75f59936ef49fb3810f30d32</td><td>./.ipynb_checkpoints/breast_mammary_tissue_DGE_sjc_sex_refined-checkpoint.csv                  </td></tr>\n",
       "\t<tr><td>f15a39a111eedb3877d9b93e6b3580ff5b9e1ed4cd6100a4f6a8f753ebe38e28</td><td>./.ipynb_checkpoints/heart_atrial_appendage_sex_as_events_gene_set-checkpoint.txt              </td></tr>\n",
       "\t<tr><td>0c97defa6121498e4a77de9bb606fccdd131b41e9593a58179e1aa86f67e586a</td><td>./.ipynb_checkpoints/breast_mammary_tissue_sex_gene_set-checkpoint.txt                         </td></tr>\n",
       "\t<tr><td>de685080eebda5dd659e32c3628c7df53c9a2d312c431380399b0eb12ee748eb</td><td>./adipose_visceral_omentum_DGE_sex_as_events_refined.csv                                       </td></tr>\n",
       "\t<tr><td>8f07440d0159f27effabb06ddb8ec1caae8a2202145e3ce66755ca35f5749d36</td><td>./bladder_sex_gene_set.txt                                                                     </td></tr>\n",
       "\t<tr><td>5f90dad03fc9b792ec434aae8dde3d4ebdd5ff6c8a799912f874bf92569c2c5d</td><td>./BreastMammaryTissue_DGE_sjc_sex.csv                                                          </td></tr>\n",
       "\t<tr><td>bb85d65d1b20c87f05aebee4ded28d4f6e3829528388607f90c89a980b269d49</td><td>./bladder_DGE_ijc_sex.csv                                                                      </td></tr>\n",
       "\t<tr><td>fc64a1894c0dc209342ae6cf5011cedf110ec98ade362be4def05f883b997258</td><td>./skin_not_sun_exposed_suprapubic_DGE_sjc_sex.csv                                              </td></tr>\n",
       "\t<tr><td>⋮</td><td>⋮</td></tr>\n",
       "\t<tr><td>6e3f1d335ce05c887363d092b0100b9f3603a964c8fe6e8c20f4c547b4f52280</td><td>./fromGTF.novelEvents.MXE.txt                         </td></tr>\n",
       "\t<tr><td>cb1679a58639fe338899ca4b2aff62821520614e1afa2ef209db5c5a98f39f75</td><td>./heart_atrial_appendage_DGE_ijc_sex.csv              </td></tr>\n",
       "\t<tr><td>60c3874b34536d5f2de1c0b074972f4f759c89dd366d4ecc8a36b4e9b2639800</td><td>./artery_tibial_DGE_sex.csv                           </td></tr>\n",
       "\t<tr><td>ad57059e9d2d391af43bd4a99608ba28d27c4c41cc8eaa2cf39ed81a56cd6fb6</td><td>./adrenal_gland_sjc_sex_gene_set.txt                  </td></tr>\n",
       "\t<tr><td>1bbd06a85203fbf525ff4d66be7b89b41a3747f1216e28e78dbc03fa6be81512</td><td>./artery_coronary_sjc_sex_universe.txt                </td></tr>\n",
       "\t<tr><td>51c8250a1796196e3879d88186c5450e5b5efc1e9f3fa578f388e9ff380e2deb</td><td>./fromGTF.A3SS.txt                                    </td></tr>\n",
       "\t<tr><td>ac86d5fe7e61ee9e18e9295c613a574ae2edd42ec1c87c8d9dfce135ddf4ac63</td><td>./bladder_ijc_sex_universe.txt                        </td></tr>\n",
       "\t<tr><td>4acd0686e03cc1e9753c04c3cfe7752ec38f0a088e34d86595cf32f69f72b002</td><td>./breast_mammary_tissue_sex_universe.txt              </td></tr>\n",
       "\t<tr><td>5f2005dd99de8635de18061b25c837c751fa3e472e88fd061c7dc7ae5a978cbc</td><td>./brain_hippocampus_DGE_sex_refined.csv               </td></tr>\n",
       "\t<tr><td>0ba4b8d6f205da3048e2165160f417fa497e4403c94896509efdc3f03b13cfbc</td><td>./adrenal_gland_ijc_sex_universe.txt                  </td></tr>\n",
       "\t<tr><td>3b98f69ca34a9b254507657f460804a6e7f8992f3caafb273d25d5156958dfb3</td><td>./adipose_visceral_omentum_DGE_sex_refined.csv        </td></tr>\n",
       "\t<tr><td>cb1679a58639fe338899ca4b2aff62821520614e1afa2ef209db5c5a98f39f75</td><td>./heart_atrial_appendage_DGE_sjc_sex.csv              </td></tr>\n",
       "\t<tr><td>963d6ec55c20a67b15793468af61dbac763074ae0da19c5ed3fddd1d6cf223c0</td><td>./heart_atrial_appendage_sex_as_events_universe.txt   </td></tr>\n",
       "\t<tr><td>257663ac1712ae164a674594fb62b27408547cde0e53fa8fdbffb2b3cbce024d</td><td>./bladder_sex_as_events_universe.txt                  </td></tr>\n",
       "\t<tr><td>48c9a8931e1695ca530480f94efe4cd51b0547a775a3f78b437d764d1b2f49ef</td><td>./artery_tibial_sjc_sex_gene_set.txt                  </td></tr>\n",
       "\t<tr><td>78dd3cd6efc5972c9d7809d8a14e76eef1a56928b979fd348376912083986a19</td><td>./BreastMammaryTissue_DGE_sex_refined.csv             </td></tr>\n",
       "\t<tr><td>f881b7096e4c421e0d3e1f1c437864dd7dfd662a5cfa98dd60e72c2098668c73</td><td>./skin_not_sun_exposed_suprapubic_sex_gene_set.txt    </td></tr>\n",
       "\t<tr><td>52d8f1664bee223fceb529a7a464d92957f5065c37f86d2d1baf7b88a1107676</td><td>./BreastMammaryTissue_DGE_sex_as_events.csv           </td></tr>\n",
       "\t<tr><td>dcaf8ff18b0a340e15df003bcd303f9964ce80606a4532278e692c03af33c773</td><td>./skin_not_sun_exposed_suprapubic_sjc_sex_gene_set.txt</td></tr>\n",
       "\t<tr><td>40e493f11ab57ca98c389bc4667f978bedc0591b3fd1b0f6797a3aaa8a9b657e</td><td>./brain_hippocampus_ijc_sex_universe.txt              </td></tr>\n",
       "\t<tr><td>75601aff7001125c1e0169466b829e777e50e71621c4aa9ca99238b90d51a045</td><td>./bladder_sjc_sex_gene_set.txt                        </td></tr>\n",
       "\t<tr><td>5bf143e0be20741a3a1d362180c7780cca2b393128dda854bcc8d14362ea6367</td><td>./breast_mammary_tissue_sjc_sex_gene_set.txt          </td></tr>\n",
       "\t<tr><td>84865129077029b6e3015e796e3de1a5070b8c5441e440328709e1c7a7ebf663</td><td>./adipose_visceral_omentum_sex_as_events_gene_set.txt </td></tr>\n",
       "\t<tr><td>6bf5bbeba1800c26c9e6b97ef1dca99a3fde0ccc3dac636753caa8a55799b9d9</td><td>./adipose_visceral_omentum_DGE_sjc_sex_refined.csv    </td></tr>\n",
       "\t<tr><td>764e78f754091733a3ec1024374929490ca7073241cdb92978a3e97b56b692eb</td><td>./brain_hippocampus_sex_as_events_universe.txt        </td></tr>\n",
       "\t<tr><td>3c94dfebd07a14b462c7701ff4fd0f58c66e528867496ded8b368a928cc45acb</td><td>./artery_tibial_DGE_sjc_sex.csv                       </td></tr>\n",
       "\t<tr><td>0e93d19571485b21fa70bbb8105525669dac31666d8e305824f4e7587b16708f</td><td>./artery_coronary_sjc_sex_gene_set.txt                </td></tr>\n",
       "\t<tr><td>c74da2899fc9ef9418b7dc4a20685cdaa3f9e4c50c0efd3bdd1fefe08e7cbcc5</td><td>./artery_tibial_DGE_ijc_sex.csv                       </td></tr>\n",
       "\t<tr><td>661a220f3dcf48f4a15c8a9e7a183d302153d6cd054f6906f2605cdd353a7dd5</td><td>./heart_atrial_appendage_DGE_sex_as_events.csv        </td></tr>\n",
       "\t<tr><td>cf0d396c0d6c484e9b961ed016c8ecc5d9f7767ea8f003e050b9ae04269b6d6d</td><td>./BreastMammaryTissue_DGE_sex.csv                     </td></tr>\n",
       "</tbody>\n",
       "</table>\n"
      ],
      "text/latex": [
       "A data.table: 187 × 2\n",
       "\\begin{tabular}{ll}\n",
       " sha256sum & file\\\\\n",
       " <chr> & <chr>\\\\\n",
       "\\hline\n",
       "\t f507001719240ee4bc2a21fa03596fc266690e0f87cd217a772e654067328318 & ./artery\\_tibial\\_DGE\\_sex\\_as\\_events\\_refined.csv                                                  \\\\\n",
       "\t 45ad842b5f4044f43da1236864ad11cd539a0bc96829e9f077a4df146d61b059 & ./skin\\_not\\_sun\\_exposed\\_suprapubic\\_DGE\\_sjc\\_sex\\_refined.csv                                      \\\\\n",
       "\t a5e44dee6772f3d68a49f855e6b7119883bddb481d50c6330ea43ec7f619ddbe & ./artery\\_coronary\\_DGE\\_ijc\\_sex\\_refined.csv                                                      \\\\\n",
       "\t 0501748649b49e2633a4bf3432c4dadc0f56a3211ff3ae81a90289201bb29b63 & ./adrenal\\_gland\\_ijc\\_sex\\_gene\\_set.txt                                                           \\\\\n",
       "\t 9e39afe405c59cea8532f404a400b1e5ed41984803bdc400a56a6fa6fc522a89 & ./artery\\_tibial\\_sex\\_gene\\_set.txt                                                               \\\\\n",
       "\t 5e020d69cceba31d1dc559512c48f68dcc7516e48bc6cc32a9189c3a5d00e3c8 & ./brain\\_hippocampus\\_DGE\\_sjc\\_sex\\_refined.csv                                                    \\\\\n",
       "\t d03c22e998eae9c96ab6e07340266fdff0d8f4f896fe7bd62ab80bb5aa7857f1 & ./BreastMammaryTissue\\_DGE\\_ijc\\_sex.csv                                                          \\\\\n",
       "\t e18bd5ec240dd57f81d096583953da8808c0d7be70548a484a10a9aaab1ae089 & ./artery\\_tibial\\_sjc\\_sex\\_universe.txt                                                           \\\\\n",
       "\t 855c93faf29eecde360e123ed21981158c359ccd733760ed7ef97ee13f845257 & ./brain\\_hippocampus\\_DGE\\_ijc\\_sex.csv                                                            \\\\\n",
       "\t 7944cec44082461c0c54e4f8e753043d775c01a36efe18f5e25f10d5b6777bfd & ./adipose\\_visceral\\_omentum\\_DGE\\_sex.csv                                                         \\\\\n",
       "\t 2ff06faca7d475089b18e7b0aa2ed8e9d1f4d71b0e7b7783bb82570a41d29798 & ./BreastMammaryTissue\\_sex\\_as\\_events\\_universe.txt                                               \\\\\n",
       "\t 087e09232bfa84feeb1342004ee1e10c4881a901cb21729f1b14e80e158d24ae & ./bladder\\_DGE\\_sjc\\_sex\\_refined.csv                                                              \\\\\n",
       "\t 7896a8ef04f32ec899af402c0c1c1c4d07e24cefea566304bf563c4715d5ef89 & ./adrenal\\_gland\\_DGE\\_ijc\\_sex.csv                                                                \\\\\n",
       "\t 7fc2516462fbea1647c2dda4fdcb1048310c4b56d1f4f379d2d77509d91affad & ./artery\\_coronary\\_sex\\_as\\_events\\_gene\\_set.txt                                                   \\\\\n",
       "\t dc0ea05884081a6c20305e0eaa615c0d993c43c22f28c002014905b325c557c2 & ./.ipynb\\_checkpoints/heart\\_atrial\\_appendage\\_sjc\\_sex\\_gene\\_set-checkpoint.txt                    \\\\\n",
       "\t 6fbca3c6c59c473ad392121b5ad961d65f75e378168bf2ca0c33f3db1dca8eca & ./.ipynb\\_checkpoints/breast\\_mammary\\_tissue\\_DGE\\_sex\\_as\\_events\\_refined-checkpoint.csv            \\\\\n",
       "\t dc0ea05884081a6c20305e0eaa615c0d993c43c22f28c002014905b325c557c2 & ./.ipynb\\_checkpoints/heart\\_atrial\\_appendage\\_sex\\_gene\\_set-checkpoint.txt                        \\\\\n",
       "\t dde2b33615acccbf41654e49a1a478626e8d5f8fc679a3929b4437c21e1fb173 & ./.ipynb\\_checkpoints/heart\\_atrial\\_appendage\\_DGE\\_sjc\\_sex\\_refined-checkpoint.csv                 \\\\\n",
       "\t cb1679a58639fe338899ca4b2aff62821520614e1afa2ef209db5c5a98f39f75 & ./.ipynb\\_checkpoints/heart\\_atrial\\_appendage\\_DGE\\_sjc\\_sex-checkpoint.csv                         \\\\\n",
       "\t 6cb795ae4f665b84552936a71ebacc9627d5ec53663eb6d40ff27d371c3ea464 & ./.ipynb\\_checkpoints/breast\\_mammary\\_tissue\\_sex\\_as\\_events\\_gene\\_set-checkpoint.txt               \\\\\n",
       "\t 8718e1fa33a6432c8815c54198662b41de6b25521a6e206bdede7f8774496366 & ./.ipynb\\_checkpoints/breast\\_mammary\\_tissue\\_DGE\\_sex\\_as\\_events\\_refined\\_gene\\_pvalue-checkpoint.csv\\\\\n",
       "\t d0a79a716e78f3e8cea5c65b310fbff87e001caea22562641ecb6be2de0fbb3a & ./.ipynb\\_checkpoints/heart\\_atrial\\_appendage\\_ijc\\_sex\\_universe-checkpoint.txt                    \\\\\n",
       "\t 88d7442f36cb5e821c3975375cafb05245aa51ec75f59936ef49fb3810f30d32 & ./.ipynb\\_checkpoints/breast\\_mammary\\_tissue\\_DGE\\_sjc\\_sex\\_refined-checkpoint.csv                  \\\\\n",
       "\t f15a39a111eedb3877d9b93e6b3580ff5b9e1ed4cd6100a4f6a8f753ebe38e28 & ./.ipynb\\_checkpoints/heart\\_atrial\\_appendage\\_sex\\_as\\_events\\_gene\\_set-checkpoint.txt              \\\\\n",
       "\t 0c97defa6121498e4a77de9bb606fccdd131b41e9593a58179e1aa86f67e586a & ./.ipynb\\_checkpoints/breast\\_mammary\\_tissue\\_sex\\_gene\\_set-checkpoint.txt                         \\\\\n",
       "\t de685080eebda5dd659e32c3628c7df53c9a2d312c431380399b0eb12ee748eb & ./adipose\\_visceral\\_omentum\\_DGE\\_sex\\_as\\_events\\_refined.csv                                       \\\\\n",
       "\t 8f07440d0159f27effabb06ddb8ec1caae8a2202145e3ce66755ca35f5749d36 & ./bladder\\_sex\\_gene\\_set.txt                                                                     \\\\\n",
       "\t 5f90dad03fc9b792ec434aae8dde3d4ebdd5ff6c8a799912f874bf92569c2c5d & ./BreastMammaryTissue\\_DGE\\_sjc\\_sex.csv                                                          \\\\\n",
       "\t bb85d65d1b20c87f05aebee4ded28d4f6e3829528388607f90c89a980b269d49 & ./bladder\\_DGE\\_ijc\\_sex.csv                                                                      \\\\\n",
       "\t fc64a1894c0dc209342ae6cf5011cedf110ec98ade362be4def05f883b997258 & ./skin\\_not\\_sun\\_exposed\\_suprapubic\\_DGE\\_sjc\\_sex.csv                                              \\\\\n",
       "\t ⋮ & ⋮\\\\\n",
       "\t 6e3f1d335ce05c887363d092b0100b9f3603a964c8fe6e8c20f4c547b4f52280 & ./fromGTF.novelEvents.MXE.txt                         \\\\\n",
       "\t cb1679a58639fe338899ca4b2aff62821520614e1afa2ef209db5c5a98f39f75 & ./heart\\_atrial\\_appendage\\_DGE\\_ijc\\_sex.csv              \\\\\n",
       "\t 60c3874b34536d5f2de1c0b074972f4f759c89dd366d4ecc8a36b4e9b2639800 & ./artery\\_tibial\\_DGE\\_sex.csv                           \\\\\n",
       "\t ad57059e9d2d391af43bd4a99608ba28d27c4c41cc8eaa2cf39ed81a56cd6fb6 & ./adrenal\\_gland\\_sjc\\_sex\\_gene\\_set.txt                  \\\\\n",
       "\t 1bbd06a85203fbf525ff4d66be7b89b41a3747f1216e28e78dbc03fa6be81512 & ./artery\\_coronary\\_sjc\\_sex\\_universe.txt                \\\\\n",
       "\t 51c8250a1796196e3879d88186c5450e5b5efc1e9f3fa578f388e9ff380e2deb & ./fromGTF.A3SS.txt                                    \\\\\n",
       "\t ac86d5fe7e61ee9e18e9295c613a574ae2edd42ec1c87c8d9dfce135ddf4ac63 & ./bladder\\_ijc\\_sex\\_universe.txt                        \\\\\n",
       "\t 4acd0686e03cc1e9753c04c3cfe7752ec38f0a088e34d86595cf32f69f72b002 & ./breast\\_mammary\\_tissue\\_sex\\_universe.txt              \\\\\n",
       "\t 5f2005dd99de8635de18061b25c837c751fa3e472e88fd061c7dc7ae5a978cbc & ./brain\\_hippocampus\\_DGE\\_sex\\_refined.csv               \\\\\n",
       "\t 0ba4b8d6f205da3048e2165160f417fa497e4403c94896509efdc3f03b13cfbc & ./adrenal\\_gland\\_ijc\\_sex\\_universe.txt                  \\\\\n",
       "\t 3b98f69ca34a9b254507657f460804a6e7f8992f3caafb273d25d5156958dfb3 & ./adipose\\_visceral\\_omentum\\_DGE\\_sex\\_refined.csv        \\\\\n",
       "\t cb1679a58639fe338899ca4b2aff62821520614e1afa2ef209db5c5a98f39f75 & ./heart\\_atrial\\_appendage\\_DGE\\_sjc\\_sex.csv              \\\\\n",
       "\t 963d6ec55c20a67b15793468af61dbac763074ae0da19c5ed3fddd1d6cf223c0 & ./heart\\_atrial\\_appendage\\_sex\\_as\\_events\\_universe.txt   \\\\\n",
       "\t 257663ac1712ae164a674594fb62b27408547cde0e53fa8fdbffb2b3cbce024d & ./bladder\\_sex\\_as\\_events\\_universe.txt                  \\\\\n",
       "\t 48c9a8931e1695ca530480f94efe4cd51b0547a775a3f78b437d764d1b2f49ef & ./artery\\_tibial\\_sjc\\_sex\\_gene\\_set.txt                  \\\\\n",
       "\t 78dd3cd6efc5972c9d7809d8a14e76eef1a56928b979fd348376912083986a19 & ./BreastMammaryTissue\\_DGE\\_sex\\_refined.csv             \\\\\n",
       "\t f881b7096e4c421e0d3e1f1c437864dd7dfd662a5cfa98dd60e72c2098668c73 & ./skin\\_not\\_sun\\_exposed\\_suprapubic\\_sex\\_gene\\_set.txt    \\\\\n",
       "\t 52d8f1664bee223fceb529a7a464d92957f5065c37f86d2d1baf7b88a1107676 & ./BreastMammaryTissue\\_DGE\\_sex\\_as\\_events.csv           \\\\\n",
       "\t dcaf8ff18b0a340e15df003bcd303f9964ce80606a4532278e692c03af33c773 & ./skin\\_not\\_sun\\_exposed\\_suprapubic\\_sjc\\_sex\\_gene\\_set.txt\\\\\n",
       "\t 40e493f11ab57ca98c389bc4667f978bedc0591b3fd1b0f6797a3aaa8a9b657e & ./brain\\_hippocampus\\_ijc\\_sex\\_universe.txt              \\\\\n",
       "\t 75601aff7001125c1e0169466b829e777e50e71621c4aa9ca99238b90d51a045 & ./bladder\\_sjc\\_sex\\_gene\\_set.txt                        \\\\\n",
       "\t 5bf143e0be20741a3a1d362180c7780cca2b393128dda854bcc8d14362ea6367 & ./breast\\_mammary\\_tissue\\_sjc\\_sex\\_gene\\_set.txt          \\\\\n",
       "\t 84865129077029b6e3015e796e3de1a5070b8c5441e440328709e1c7a7ebf663 & ./adipose\\_visceral\\_omentum\\_sex\\_as\\_events\\_gene\\_set.txt \\\\\n",
       "\t 6bf5bbeba1800c26c9e6b97ef1dca99a3fde0ccc3dac636753caa8a55799b9d9 & ./adipose\\_visceral\\_omentum\\_DGE\\_sjc\\_sex\\_refined.csv    \\\\\n",
       "\t 764e78f754091733a3ec1024374929490ca7073241cdb92978a3e97b56b692eb & ./brain\\_hippocampus\\_sex\\_as\\_events\\_universe.txt        \\\\\n",
       "\t 3c94dfebd07a14b462c7701ff4fd0f58c66e528867496ded8b368a928cc45acb & ./artery\\_tibial\\_DGE\\_sjc\\_sex.csv                       \\\\\n",
       "\t 0e93d19571485b21fa70bbb8105525669dac31666d8e305824f4e7587b16708f & ./artery\\_coronary\\_sjc\\_sex\\_gene\\_set.txt                \\\\\n",
       "\t c74da2899fc9ef9418b7dc4a20685cdaa3f9e4c50c0efd3bdd1fefe08e7cbcc5 & ./artery\\_tibial\\_DGE\\_ijc\\_sex.csv                       \\\\\n",
       "\t 661a220f3dcf48f4a15c8a9e7a183d302153d6cd054f6906f2605cdd353a7dd5 & ./heart\\_atrial\\_appendage\\_DGE\\_sex\\_as\\_events.csv        \\\\\n",
       "\t cf0d396c0d6c484e9b961ed016c8ecc5d9f7767ea8f003e050b9ae04269b6d6d & ./BreastMammaryTissue\\_DGE\\_sex.csv                     \\\\\n",
       "\\end{tabular}\n"
      ],
      "text/markdown": [
       "\n",
       "A data.table: 187 × 2\n",
       "\n",
       "| sha256sum &lt;chr&gt; | file &lt;chr&gt; |\n",
       "|---|---|\n",
       "| f507001719240ee4bc2a21fa03596fc266690e0f87cd217a772e654067328318 | ./artery_tibial_DGE_sex_as_events_refined.csv                                                   |\n",
       "| 45ad842b5f4044f43da1236864ad11cd539a0bc96829e9f077a4df146d61b059 | ./skin_not_sun_exposed_suprapubic_DGE_sjc_sex_refined.csv                                       |\n",
       "| a5e44dee6772f3d68a49f855e6b7119883bddb481d50c6330ea43ec7f619ddbe | ./artery_coronary_DGE_ijc_sex_refined.csv                                                       |\n",
       "| 0501748649b49e2633a4bf3432c4dadc0f56a3211ff3ae81a90289201bb29b63 | ./adrenal_gland_ijc_sex_gene_set.txt                                                            |\n",
       "| 9e39afe405c59cea8532f404a400b1e5ed41984803bdc400a56a6fa6fc522a89 | ./artery_tibial_sex_gene_set.txt                                                                |\n",
       "| 5e020d69cceba31d1dc559512c48f68dcc7516e48bc6cc32a9189c3a5d00e3c8 | ./brain_hippocampus_DGE_sjc_sex_refined.csv                                                     |\n",
       "| d03c22e998eae9c96ab6e07340266fdff0d8f4f896fe7bd62ab80bb5aa7857f1 | ./BreastMammaryTissue_DGE_ijc_sex.csv                                                           |\n",
       "| e18bd5ec240dd57f81d096583953da8808c0d7be70548a484a10a9aaab1ae089 | ./artery_tibial_sjc_sex_universe.txt                                                            |\n",
       "| 855c93faf29eecde360e123ed21981158c359ccd733760ed7ef97ee13f845257 | ./brain_hippocampus_DGE_ijc_sex.csv                                                             |\n",
       "| 7944cec44082461c0c54e4f8e753043d775c01a36efe18f5e25f10d5b6777bfd | ./adipose_visceral_omentum_DGE_sex.csv                                                          |\n",
       "| 2ff06faca7d475089b18e7b0aa2ed8e9d1f4d71b0e7b7783bb82570a41d29798 | ./BreastMammaryTissue_sex_as_events_universe.txt                                                |\n",
       "| 087e09232bfa84feeb1342004ee1e10c4881a901cb21729f1b14e80e158d24ae | ./bladder_DGE_sjc_sex_refined.csv                                                               |\n",
       "| 7896a8ef04f32ec899af402c0c1c1c4d07e24cefea566304bf563c4715d5ef89 | ./adrenal_gland_DGE_ijc_sex.csv                                                                 |\n",
       "| 7fc2516462fbea1647c2dda4fdcb1048310c4b56d1f4f379d2d77509d91affad | ./artery_coronary_sex_as_events_gene_set.txt                                                    |\n",
       "| dc0ea05884081a6c20305e0eaa615c0d993c43c22f28c002014905b325c557c2 | ./.ipynb_checkpoints/heart_atrial_appendage_sjc_sex_gene_set-checkpoint.txt                     |\n",
       "| 6fbca3c6c59c473ad392121b5ad961d65f75e378168bf2ca0c33f3db1dca8eca | ./.ipynb_checkpoints/breast_mammary_tissue_DGE_sex_as_events_refined-checkpoint.csv             |\n",
       "| dc0ea05884081a6c20305e0eaa615c0d993c43c22f28c002014905b325c557c2 | ./.ipynb_checkpoints/heart_atrial_appendage_sex_gene_set-checkpoint.txt                         |\n",
       "| dde2b33615acccbf41654e49a1a478626e8d5f8fc679a3929b4437c21e1fb173 | ./.ipynb_checkpoints/heart_atrial_appendage_DGE_sjc_sex_refined-checkpoint.csv                  |\n",
       "| cb1679a58639fe338899ca4b2aff62821520614e1afa2ef209db5c5a98f39f75 | ./.ipynb_checkpoints/heart_atrial_appendage_DGE_sjc_sex-checkpoint.csv                          |\n",
       "| 6cb795ae4f665b84552936a71ebacc9627d5ec53663eb6d40ff27d371c3ea464 | ./.ipynb_checkpoints/breast_mammary_tissue_sex_as_events_gene_set-checkpoint.txt                |\n",
       "| 8718e1fa33a6432c8815c54198662b41de6b25521a6e206bdede7f8774496366 | ./.ipynb_checkpoints/breast_mammary_tissue_DGE_sex_as_events_refined_gene_pvalue-checkpoint.csv |\n",
       "| d0a79a716e78f3e8cea5c65b310fbff87e001caea22562641ecb6be2de0fbb3a | ./.ipynb_checkpoints/heart_atrial_appendage_ijc_sex_universe-checkpoint.txt                     |\n",
       "| 88d7442f36cb5e821c3975375cafb05245aa51ec75f59936ef49fb3810f30d32 | ./.ipynb_checkpoints/breast_mammary_tissue_DGE_sjc_sex_refined-checkpoint.csv                   |\n",
       "| f15a39a111eedb3877d9b93e6b3580ff5b9e1ed4cd6100a4f6a8f753ebe38e28 | ./.ipynb_checkpoints/heart_atrial_appendage_sex_as_events_gene_set-checkpoint.txt               |\n",
       "| 0c97defa6121498e4a77de9bb606fccdd131b41e9593a58179e1aa86f67e586a | ./.ipynb_checkpoints/breast_mammary_tissue_sex_gene_set-checkpoint.txt                          |\n",
       "| de685080eebda5dd659e32c3628c7df53c9a2d312c431380399b0eb12ee748eb | ./adipose_visceral_omentum_DGE_sex_as_events_refined.csv                                        |\n",
       "| 8f07440d0159f27effabb06ddb8ec1caae8a2202145e3ce66755ca35f5749d36 | ./bladder_sex_gene_set.txt                                                                      |\n",
       "| 5f90dad03fc9b792ec434aae8dde3d4ebdd5ff6c8a799912f874bf92569c2c5d | ./BreastMammaryTissue_DGE_sjc_sex.csv                                                           |\n",
       "| bb85d65d1b20c87f05aebee4ded28d4f6e3829528388607f90c89a980b269d49 | ./bladder_DGE_ijc_sex.csv                                                                       |\n",
       "| fc64a1894c0dc209342ae6cf5011cedf110ec98ade362be4def05f883b997258 | ./skin_not_sun_exposed_suprapubic_DGE_sjc_sex.csv                                               |\n",
       "| ⋮ | ⋮ |\n",
       "| 6e3f1d335ce05c887363d092b0100b9f3603a964c8fe6e8c20f4c547b4f52280 | ./fromGTF.novelEvents.MXE.txt                          |\n",
       "| cb1679a58639fe338899ca4b2aff62821520614e1afa2ef209db5c5a98f39f75 | ./heart_atrial_appendage_DGE_ijc_sex.csv               |\n",
       "| 60c3874b34536d5f2de1c0b074972f4f759c89dd366d4ecc8a36b4e9b2639800 | ./artery_tibial_DGE_sex.csv                            |\n",
       "| ad57059e9d2d391af43bd4a99608ba28d27c4c41cc8eaa2cf39ed81a56cd6fb6 | ./adrenal_gland_sjc_sex_gene_set.txt                   |\n",
       "| 1bbd06a85203fbf525ff4d66be7b89b41a3747f1216e28e78dbc03fa6be81512 | ./artery_coronary_sjc_sex_universe.txt                 |\n",
       "| 51c8250a1796196e3879d88186c5450e5b5efc1e9f3fa578f388e9ff380e2deb | ./fromGTF.A3SS.txt                                     |\n",
       "| ac86d5fe7e61ee9e18e9295c613a574ae2edd42ec1c87c8d9dfce135ddf4ac63 | ./bladder_ijc_sex_universe.txt                         |\n",
       "| 4acd0686e03cc1e9753c04c3cfe7752ec38f0a088e34d86595cf32f69f72b002 | ./breast_mammary_tissue_sex_universe.txt               |\n",
       "| 5f2005dd99de8635de18061b25c837c751fa3e472e88fd061c7dc7ae5a978cbc | ./brain_hippocampus_DGE_sex_refined.csv                |\n",
       "| 0ba4b8d6f205da3048e2165160f417fa497e4403c94896509efdc3f03b13cfbc | ./adrenal_gland_ijc_sex_universe.txt                   |\n",
       "| 3b98f69ca34a9b254507657f460804a6e7f8992f3caafb273d25d5156958dfb3 | ./adipose_visceral_omentum_DGE_sex_refined.csv         |\n",
       "| cb1679a58639fe338899ca4b2aff62821520614e1afa2ef209db5c5a98f39f75 | ./heart_atrial_appendage_DGE_sjc_sex.csv               |\n",
       "| 963d6ec55c20a67b15793468af61dbac763074ae0da19c5ed3fddd1d6cf223c0 | ./heart_atrial_appendage_sex_as_events_universe.txt    |\n",
       "| 257663ac1712ae164a674594fb62b27408547cde0e53fa8fdbffb2b3cbce024d | ./bladder_sex_as_events_universe.txt                   |\n",
       "| 48c9a8931e1695ca530480f94efe4cd51b0547a775a3f78b437d764d1b2f49ef | ./artery_tibial_sjc_sex_gene_set.txt                   |\n",
       "| 78dd3cd6efc5972c9d7809d8a14e76eef1a56928b979fd348376912083986a19 | ./BreastMammaryTissue_DGE_sex_refined.csv              |\n",
       "| f881b7096e4c421e0d3e1f1c437864dd7dfd662a5cfa98dd60e72c2098668c73 | ./skin_not_sun_exposed_suprapubic_sex_gene_set.txt     |\n",
       "| 52d8f1664bee223fceb529a7a464d92957f5065c37f86d2d1baf7b88a1107676 | ./BreastMammaryTissue_DGE_sex_as_events.csv            |\n",
       "| dcaf8ff18b0a340e15df003bcd303f9964ce80606a4532278e692c03af33c773 | ./skin_not_sun_exposed_suprapubic_sjc_sex_gene_set.txt |\n",
       "| 40e493f11ab57ca98c389bc4667f978bedc0591b3fd1b0f6797a3aaa8a9b657e | ./brain_hippocampus_ijc_sex_universe.txt               |\n",
       "| 75601aff7001125c1e0169466b829e777e50e71621c4aa9ca99238b90d51a045 | ./bladder_sjc_sex_gene_set.txt                         |\n",
       "| 5bf143e0be20741a3a1d362180c7780cca2b393128dda854bcc8d14362ea6367 | ./breast_mammary_tissue_sjc_sex_gene_set.txt           |\n",
       "| 84865129077029b6e3015e796e3de1a5070b8c5441e440328709e1c7a7ebf663 | ./adipose_visceral_omentum_sex_as_events_gene_set.txt  |\n",
       "| 6bf5bbeba1800c26c9e6b97ef1dca99a3fde0ccc3dac636753caa8a55799b9d9 | ./adipose_visceral_omentum_DGE_sjc_sex_refined.csv     |\n",
       "| 764e78f754091733a3ec1024374929490ca7073241cdb92978a3e97b56b692eb | ./brain_hippocampus_sex_as_events_universe.txt         |\n",
       "| 3c94dfebd07a14b462c7701ff4fd0f58c66e528867496ded8b368a928cc45acb | ./artery_tibial_DGE_sjc_sex.csv                        |\n",
       "| 0e93d19571485b21fa70bbb8105525669dac31666d8e305824f4e7587b16708f | ./artery_coronary_sjc_sex_gene_set.txt                 |\n",
       "| c74da2899fc9ef9418b7dc4a20685cdaa3f9e4c50c0efd3bdd1fefe08e7cbcc5 | ./artery_tibial_DGE_ijc_sex.csv                        |\n",
       "| 661a220f3dcf48f4a15c8a9e7a183d302153d6cd054f6906f2605cdd353a7dd5 | ./heart_atrial_appendage_DGE_sex_as_events.csv         |\n",
       "| cf0d396c0d6c484e9b961ed016c8ecc5d9f7767ea8f003e050b9ae04269b6d6d | ./BreastMammaryTissue_DGE_sex.csv                      |\n",
       "\n"
      ],
      "text/plain": [
       "    sha256sum                                                       \n",
       "1   f507001719240ee4bc2a21fa03596fc266690e0f87cd217a772e654067328318\n",
       "2   45ad842b5f4044f43da1236864ad11cd539a0bc96829e9f077a4df146d61b059\n",
       "3   a5e44dee6772f3d68a49f855e6b7119883bddb481d50c6330ea43ec7f619ddbe\n",
       "4   0501748649b49e2633a4bf3432c4dadc0f56a3211ff3ae81a90289201bb29b63\n",
       "5   9e39afe405c59cea8532f404a400b1e5ed41984803bdc400a56a6fa6fc522a89\n",
       "6   5e020d69cceba31d1dc559512c48f68dcc7516e48bc6cc32a9189c3a5d00e3c8\n",
       "7   d03c22e998eae9c96ab6e07340266fdff0d8f4f896fe7bd62ab80bb5aa7857f1\n",
       "8   e18bd5ec240dd57f81d096583953da8808c0d7be70548a484a10a9aaab1ae089\n",
       "9   855c93faf29eecde360e123ed21981158c359ccd733760ed7ef97ee13f845257\n",
       "10  7944cec44082461c0c54e4f8e753043d775c01a36efe18f5e25f10d5b6777bfd\n",
       "11  2ff06faca7d475089b18e7b0aa2ed8e9d1f4d71b0e7b7783bb82570a41d29798\n",
       "12  087e09232bfa84feeb1342004ee1e10c4881a901cb21729f1b14e80e158d24ae\n",
       "13  7896a8ef04f32ec899af402c0c1c1c4d07e24cefea566304bf563c4715d5ef89\n",
       "14  7fc2516462fbea1647c2dda4fdcb1048310c4b56d1f4f379d2d77509d91affad\n",
       "15  dc0ea05884081a6c20305e0eaa615c0d993c43c22f28c002014905b325c557c2\n",
       "16  6fbca3c6c59c473ad392121b5ad961d65f75e378168bf2ca0c33f3db1dca8eca\n",
       "17  dc0ea05884081a6c20305e0eaa615c0d993c43c22f28c002014905b325c557c2\n",
       "18  dde2b33615acccbf41654e49a1a478626e8d5f8fc679a3929b4437c21e1fb173\n",
       "19  cb1679a58639fe338899ca4b2aff62821520614e1afa2ef209db5c5a98f39f75\n",
       "20  6cb795ae4f665b84552936a71ebacc9627d5ec53663eb6d40ff27d371c3ea464\n",
       "21  8718e1fa33a6432c8815c54198662b41de6b25521a6e206bdede7f8774496366\n",
       "22  d0a79a716e78f3e8cea5c65b310fbff87e001caea22562641ecb6be2de0fbb3a\n",
       "23  88d7442f36cb5e821c3975375cafb05245aa51ec75f59936ef49fb3810f30d32\n",
       "24  f15a39a111eedb3877d9b93e6b3580ff5b9e1ed4cd6100a4f6a8f753ebe38e28\n",
       "25  0c97defa6121498e4a77de9bb606fccdd131b41e9593a58179e1aa86f67e586a\n",
       "26  de685080eebda5dd659e32c3628c7df53c9a2d312c431380399b0eb12ee748eb\n",
       "27  8f07440d0159f27effabb06ddb8ec1caae8a2202145e3ce66755ca35f5749d36\n",
       "28  5f90dad03fc9b792ec434aae8dde3d4ebdd5ff6c8a799912f874bf92569c2c5d\n",
       "29  bb85d65d1b20c87f05aebee4ded28d4f6e3829528388607f90c89a980b269d49\n",
       "30  fc64a1894c0dc209342ae6cf5011cedf110ec98ade362be4def05f883b997258\n",
       "⋮   ⋮                                                               \n",
       "158 6e3f1d335ce05c887363d092b0100b9f3603a964c8fe6e8c20f4c547b4f52280\n",
       "159 cb1679a58639fe338899ca4b2aff62821520614e1afa2ef209db5c5a98f39f75\n",
       "160 60c3874b34536d5f2de1c0b074972f4f759c89dd366d4ecc8a36b4e9b2639800\n",
       "161 ad57059e9d2d391af43bd4a99608ba28d27c4c41cc8eaa2cf39ed81a56cd6fb6\n",
       "162 1bbd06a85203fbf525ff4d66be7b89b41a3747f1216e28e78dbc03fa6be81512\n",
       "163 51c8250a1796196e3879d88186c5450e5b5efc1e9f3fa578f388e9ff380e2deb\n",
       "164 ac86d5fe7e61ee9e18e9295c613a574ae2edd42ec1c87c8d9dfce135ddf4ac63\n",
       "165 4acd0686e03cc1e9753c04c3cfe7752ec38f0a088e34d86595cf32f69f72b002\n",
       "166 5f2005dd99de8635de18061b25c837c751fa3e472e88fd061c7dc7ae5a978cbc\n",
       "167 0ba4b8d6f205da3048e2165160f417fa497e4403c94896509efdc3f03b13cfbc\n",
       "168 3b98f69ca34a9b254507657f460804a6e7f8992f3caafb273d25d5156958dfb3\n",
       "169 cb1679a58639fe338899ca4b2aff62821520614e1afa2ef209db5c5a98f39f75\n",
       "170 963d6ec55c20a67b15793468af61dbac763074ae0da19c5ed3fddd1d6cf223c0\n",
       "171 257663ac1712ae164a674594fb62b27408547cde0e53fa8fdbffb2b3cbce024d\n",
       "172 48c9a8931e1695ca530480f94efe4cd51b0547a775a3f78b437d764d1b2f49ef\n",
       "173 78dd3cd6efc5972c9d7809d8a14e76eef1a56928b979fd348376912083986a19\n",
       "174 f881b7096e4c421e0d3e1f1c437864dd7dfd662a5cfa98dd60e72c2098668c73\n",
       "175 52d8f1664bee223fceb529a7a464d92957f5065c37f86d2d1baf7b88a1107676\n",
       "176 dcaf8ff18b0a340e15df003bcd303f9964ce80606a4532278e692c03af33c773\n",
       "177 40e493f11ab57ca98c389bc4667f978bedc0591b3fd1b0f6797a3aaa8a9b657e\n",
       "178 75601aff7001125c1e0169466b829e777e50e71621c4aa9ca99238b90d51a045\n",
       "179 5bf143e0be20741a3a1d362180c7780cca2b393128dda854bcc8d14362ea6367\n",
       "180 84865129077029b6e3015e796e3de1a5070b8c5441e440328709e1c7a7ebf663\n",
       "181 6bf5bbeba1800c26c9e6b97ef1dca99a3fde0ccc3dac636753caa8a55799b9d9\n",
       "182 764e78f754091733a3ec1024374929490ca7073241cdb92978a3e97b56b692eb\n",
       "183 3c94dfebd07a14b462c7701ff4fd0f58c66e528867496ded8b368a928cc45acb\n",
       "184 0e93d19571485b21fa70bbb8105525669dac31666d8e305824f4e7587b16708f\n",
       "185 c74da2899fc9ef9418b7dc4a20685cdaa3f9e4c50c0efd3bdd1fefe08e7cbcc5\n",
       "186 661a220f3dcf48f4a15c8a9e7a183d302153d6cd054f6906f2605cdd353a7dd5\n",
       "187 cf0d396c0d6c484e9b961ed016c8ecc5d9f7767ea8f003e050b9ae04269b6d6d\n",
       "    file                                                                                           \n",
       "1   ./artery_tibial_DGE_sex_as_events_refined.csv                                                  \n",
       "2   ./skin_not_sun_exposed_suprapubic_DGE_sjc_sex_refined.csv                                      \n",
       "3   ./artery_coronary_DGE_ijc_sex_refined.csv                                                      \n",
       "4   ./adrenal_gland_ijc_sex_gene_set.txt                                                           \n",
       "5   ./artery_tibial_sex_gene_set.txt                                                               \n",
       "6   ./brain_hippocampus_DGE_sjc_sex_refined.csv                                                    \n",
       "7   ./BreastMammaryTissue_DGE_ijc_sex.csv                                                          \n",
       "8   ./artery_tibial_sjc_sex_universe.txt                                                           \n",
       "9   ./brain_hippocampus_DGE_ijc_sex.csv                                                            \n",
       "10  ./adipose_visceral_omentum_DGE_sex.csv                                                         \n",
       "11  ./BreastMammaryTissue_sex_as_events_universe.txt                                               \n",
       "12  ./bladder_DGE_sjc_sex_refined.csv                                                              \n",
       "13  ./adrenal_gland_DGE_ijc_sex.csv                                                                \n",
       "14  ./artery_coronary_sex_as_events_gene_set.txt                                                   \n",
       "15  ./.ipynb_checkpoints/heart_atrial_appendage_sjc_sex_gene_set-checkpoint.txt                    \n",
       "16  ./.ipynb_checkpoints/breast_mammary_tissue_DGE_sex_as_events_refined-checkpoint.csv            \n",
       "17  ./.ipynb_checkpoints/heart_atrial_appendage_sex_gene_set-checkpoint.txt                        \n",
       "18  ./.ipynb_checkpoints/heart_atrial_appendage_DGE_sjc_sex_refined-checkpoint.csv                 \n",
       "19  ./.ipynb_checkpoints/heart_atrial_appendage_DGE_sjc_sex-checkpoint.csv                         \n",
       "20  ./.ipynb_checkpoints/breast_mammary_tissue_sex_as_events_gene_set-checkpoint.txt               \n",
       "21  ./.ipynb_checkpoints/breast_mammary_tissue_DGE_sex_as_events_refined_gene_pvalue-checkpoint.csv\n",
       "22  ./.ipynb_checkpoints/heart_atrial_appendage_ijc_sex_universe-checkpoint.txt                    \n",
       "23  ./.ipynb_checkpoints/breast_mammary_tissue_DGE_sjc_sex_refined-checkpoint.csv                  \n",
       "24  ./.ipynb_checkpoints/heart_atrial_appendage_sex_as_events_gene_set-checkpoint.txt              \n",
       "25  ./.ipynb_checkpoints/breast_mammary_tissue_sex_gene_set-checkpoint.txt                         \n",
       "26  ./adipose_visceral_omentum_DGE_sex_as_events_refined.csv                                       \n",
       "27  ./bladder_sex_gene_set.txt                                                                     \n",
       "28  ./BreastMammaryTissue_DGE_sjc_sex.csv                                                          \n",
       "29  ./bladder_DGE_ijc_sex.csv                                                                      \n",
       "30  ./skin_not_sun_exposed_suprapubic_DGE_sjc_sex.csv                                              \n",
       "⋮   ⋮                                                                                              \n",
       "158 ./fromGTF.novelEvents.MXE.txt                                                                  \n",
       "159 ./heart_atrial_appendage_DGE_ijc_sex.csv                                                       \n",
       "160 ./artery_tibial_DGE_sex.csv                                                                    \n",
       "161 ./adrenal_gland_sjc_sex_gene_set.txt                                                           \n",
       "162 ./artery_coronary_sjc_sex_universe.txt                                                         \n",
       "163 ./fromGTF.A3SS.txt                                                                             \n",
       "164 ./bladder_ijc_sex_universe.txt                                                                 \n",
       "165 ./breast_mammary_tissue_sex_universe.txt                                                       \n",
       "166 ./brain_hippocampus_DGE_sex_refined.csv                                                        \n",
       "167 ./adrenal_gland_ijc_sex_universe.txt                                                           \n",
       "168 ./adipose_visceral_omentum_DGE_sex_refined.csv                                                 \n",
       "169 ./heart_atrial_appendage_DGE_sjc_sex.csv                                                       \n",
       "170 ./heart_atrial_appendage_sex_as_events_universe.txt                                            \n",
       "171 ./bladder_sex_as_events_universe.txt                                                           \n",
       "172 ./artery_tibial_sjc_sex_gene_set.txt                                                           \n",
       "173 ./BreastMammaryTissue_DGE_sex_refined.csv                                                      \n",
       "174 ./skin_not_sun_exposed_suprapubic_sex_gene_set.txt                                             \n",
       "175 ./BreastMammaryTissue_DGE_sex_as_events.csv                                                    \n",
       "176 ./skin_not_sun_exposed_suprapubic_sjc_sex_gene_set.txt                                         \n",
       "177 ./brain_hippocampus_ijc_sex_universe.txt                                                       \n",
       "178 ./bladder_sjc_sex_gene_set.txt                                                                 \n",
       "179 ./breast_mammary_tissue_sjc_sex_gene_set.txt                                                   \n",
       "180 ./adipose_visceral_omentum_sex_as_events_gene_set.txt                                          \n",
       "181 ./adipose_visceral_omentum_DGE_sjc_sex_refined.csv                                             \n",
       "182 ./brain_hippocampus_sex_as_events_universe.txt                                                 \n",
       "183 ./artery_tibial_DGE_sjc_sex.csv                                                                \n",
       "184 ./artery_coronary_sjc_sex_gene_set.txt                                                         \n",
       "185 ./artery_tibial_DGE_ijc_sex.csv                                                                \n",
       "186 ./heart_atrial_appendage_DGE_sex_as_events.csv                                                 \n",
       "187 ./BreastMammaryTissue_DGE_sex.csv                                                              "
      ]
     },
     "metadata": {},
     "output_type": "display_data"
    }
   ],
   "source": [
    "rm (notebookid)\n",
    "notebookid   = \"AllTissueJunctionAnalysis\"\n",
    "notebookid\n",
    "\n",
    "message(\"Generating sha256 checksums of the artefacts in the `..data/` directory .. \")\n",
    "system(paste0(\"cd ../data && find . -type f -exec sha256sum {} \\\\;  >  ../metadata/\", notebookid, \"_sha256sums.txt\"), intern = TRUE)\n",
    "message(\"Done!\\n\")\n",
    "\n",
    "paste0(\"../metadata/\", notebookid, \"_sha256sums.txt\")\n",
    "\n",
    "data.table::fread(paste0(\"../metadata/\", notebookid, \"_sha256sums.txt\"), header = FALSE, col.names = c(\"sha256sum\", \"file\"))"
   ]
  },
  {
   "cell_type": "markdown",
   "metadata": {},
   "source": [
    "### 2. Libraries metadata"
   ]
  },
  {
   "cell_type": "code",
   "execution_count": 13,
   "metadata": {},
   "outputs": [
    {
     "name": "stderr",
     "output_type": "stream",
     "text": [
      "Saving `devtools::session_info()` objects in ../metadata/devtools_session_info.rds  ..\n",
      "Done!\n",
      "\n",
      "Saving `utils::sessionInfo()` objects in ../metadata/utils_session_info.rds  ..\n",
      "Done!\n",
      "\n"
     ]
    },
    {
     "data": {
      "text/plain": [
       " setting  value                       \n",
       " version  R version 3.6.1 (2019-07-05)\n",
       " os       Ubuntu 18.04.3 LTS          \n",
       " system   x86_64, linux-gnu           \n",
       " ui       X11                         \n",
       " language en_US.UTF-8                 \n",
       " collate  en_US.UTF-8                 \n",
       " ctype    en_US.UTF-8                 \n",
       " tz       Etc/UTC                     \n",
       " date     2020-05-15                  "
      ]
     },
     "metadata": {},
     "output_type": "display_data"
    },
    {
     "data": {
      "text/html": [
       "<table>\n",
       "<caption>A packages_info: 10 × 11</caption>\n",
       "<thead>\n",
       "\t<tr><th></th><th scope=col>package</th><th scope=col>ondiskversion</th><th scope=col>loadedversion</th><th scope=col>path</th><th scope=col>loadedpath</th><th scope=col>attached</th><th scope=col>is_base</th><th scope=col>date</th><th scope=col>source</th><th scope=col>md5ok</th><th scope=col>library</th></tr>\n",
       "\t<tr><th></th><th scope=col>&lt;chr&gt;</th><th scope=col>&lt;chr&gt;</th><th scope=col>&lt;chr&gt;</th><th scope=col>&lt;chr&gt;</th><th scope=col>&lt;chr&gt;</th><th scope=col>&lt;lgl&gt;</th><th scope=col>&lt;lgl&gt;</th><th scope=col>&lt;chr&gt;</th><th scope=col>&lt;chr&gt;</th><th scope=col>&lt;lgl&gt;</th><th scope=col>&lt;fct&gt;</th></tr>\n",
       "</thead>\n",
       "<tbody>\n",
       "\t<tr><th scope=row>Biobase</th><td>Biobase     </td><td>2.46.0   </td><td>2.46.0   </td><td>/opt/conda/lib/R/library/Biobase     </td><td>/opt/conda/lib/R/library/Biobase     </td><td>TRUE</td><td>FALSE</td><td>2019-10-29</td><td>Bioconductor                       </td><td>NA</td><td>/opt/conda/lib/R/library</td></tr>\n",
       "\t<tr><th scope=row>BiocGenerics</th><td>BiocGenerics</td><td>0.32.0   </td><td>0.32.0   </td><td>/opt/conda/lib/R/library/BiocGenerics</td><td>/opt/conda/lib/R/library/BiocGenerics</td><td>TRUE</td><td>FALSE</td><td>2019-10-29</td><td>Bioconductor                       </td><td>NA</td><td>/opt/conda/lib/R/library</td></tr>\n",
       "\t<tr><th scope=row>edgeR</th><td>edgeR       </td><td>3.28.1   </td><td>3.28.1   </td><td>/opt/conda/lib/R/library/edgeR       </td><td>/opt/conda/lib/R/library/edgeR       </td><td>TRUE</td><td>FALSE</td><td>2020-02-26</td><td>Bioconductor                       </td><td>NA</td><td>/opt/conda/lib/R/library</td></tr>\n",
       "\t<tr><th scope=row>limma</th><td>limma       </td><td>3.42.2   </td><td>3.42.2   </td><td>/opt/conda/lib/R/library/limma       </td><td>/opt/conda/lib/R/library/limma       </td><td>TRUE</td><td>FALSE</td><td>2020-02-03</td><td>Bioconductor                       </td><td>NA</td><td>/opt/conda/lib/R/library</td></tr>\n",
       "\t<tr><th scope=row>multtest</th><td>multtest    </td><td>2.42.0   </td><td>2.42.0   </td><td>/opt/conda/lib/R/library/multtest    </td><td>/opt/conda/lib/R/library/multtest    </td><td>TRUE</td><td>FALSE</td><td>2019-10-29</td><td>Bioconductor                       </td><td>NA</td><td>/opt/conda/lib/R/library</td></tr>\n",
       "\t<tr><th scope=row>piggyback</th><td>piggyback   </td><td>0.0.10.99</td><td>0.0.10.99</td><td>/opt/conda/lib/R/library/piggyback   </td><td>/opt/conda/lib/R/library/piggyback   </td><td>TRUE</td><td>FALSE</td><td>2020-05-12</td><td>Github (ropensci/piggyback@87f71e8)</td><td>NA</td><td>/opt/conda/lib/R/library</td></tr>\n",
       "\t<tr><th scope=row>R.methodsS3</th><td>R.methodsS3 </td><td>1.8.0    </td><td>1.8.0    </td><td>/opt/conda/lib/R/library/R.methodsS3 </td><td>/opt/conda/lib/R/library/R.methodsS3 </td><td>TRUE</td><td>FALSE</td><td>2020-02-14</td><td>CRAN (R 3.6.1)                     </td><td>NA</td><td>/opt/conda/lib/R/library</td></tr>\n",
       "\t<tr><th scope=row>R.oo</th><td>R.oo        </td><td>1.23.0   </td><td>1.23.0   </td><td>/opt/conda/lib/R/library/R.oo        </td><td>/opt/conda/lib/R/library/R.oo        </td><td>TRUE</td><td>FALSE</td><td>2019-11-03</td><td>CRAN (R 3.6.1)                     </td><td>NA</td><td>/opt/conda/lib/R/library</td></tr>\n",
       "\t<tr><th scope=row>R.utils</th><td>R.utils     </td><td>2.9.2    </td><td>2.9.2    </td><td>/opt/conda/lib/R/library/R.utils     </td><td>/opt/conda/lib/R/library/R.utils     </td><td>TRUE</td><td>FALSE</td><td>2019-12-08</td><td>CRAN (R 3.6.1)                     </td><td>NA</td><td>/opt/conda/lib/R/library</td></tr>\n",
       "\t<tr><th scope=row>tibble</th><td>tibble      </td><td>2.1.3    </td><td>2.1.3    </td><td>/opt/conda/lib/R/library/tibble      </td><td>/opt/conda/lib/R/library/tibble      </td><td>TRUE</td><td>FALSE</td><td>2019-06-06</td><td>CRAN (R 3.6.1)                     </td><td>NA</td><td>/opt/conda/lib/R/library</td></tr>\n",
       "</tbody>\n",
       "</table>\n"
      ],
      "text/latex": [
       "A packages\\_info: 10 × 11\n",
       "\\begin{tabular}{r|lllllllllll}\n",
       "  & package & ondiskversion & loadedversion & path & loadedpath & attached & is\\_base & date & source & md5ok & library\\\\\n",
       "  & <chr> & <chr> & <chr> & <chr> & <chr> & <lgl> & <lgl> & <chr> & <chr> & <lgl> & <fct>\\\\\n",
       "\\hline\n",
       "\tBiobase & Biobase      & 2.46.0    & 2.46.0    & /opt/conda/lib/R/library/Biobase      & /opt/conda/lib/R/library/Biobase      & TRUE & FALSE & 2019-10-29 & Bioconductor                        & NA & /opt/conda/lib/R/library\\\\\n",
       "\tBiocGenerics & BiocGenerics & 0.32.0    & 0.32.0    & /opt/conda/lib/R/library/BiocGenerics & /opt/conda/lib/R/library/BiocGenerics & TRUE & FALSE & 2019-10-29 & Bioconductor                        & NA & /opt/conda/lib/R/library\\\\\n",
       "\tedgeR & edgeR        & 3.28.1    & 3.28.1    & /opt/conda/lib/R/library/edgeR        & /opt/conda/lib/R/library/edgeR        & TRUE & FALSE & 2020-02-26 & Bioconductor                        & NA & /opt/conda/lib/R/library\\\\\n",
       "\tlimma & limma        & 3.42.2    & 3.42.2    & /opt/conda/lib/R/library/limma        & /opt/conda/lib/R/library/limma        & TRUE & FALSE & 2020-02-03 & Bioconductor                        & NA & /opt/conda/lib/R/library\\\\\n",
       "\tmulttest & multtest     & 2.42.0    & 2.42.0    & /opt/conda/lib/R/library/multtest     & /opt/conda/lib/R/library/multtest     & TRUE & FALSE & 2019-10-29 & Bioconductor                        & NA & /opt/conda/lib/R/library\\\\\n",
       "\tpiggyback & piggyback    & 0.0.10.99 & 0.0.10.99 & /opt/conda/lib/R/library/piggyback    & /opt/conda/lib/R/library/piggyback    & TRUE & FALSE & 2020-05-12 & Github (ropensci/piggyback@87f71e8) & NA & /opt/conda/lib/R/library\\\\\n",
       "\tR.methodsS3 & R.methodsS3  & 1.8.0     & 1.8.0     & /opt/conda/lib/R/library/R.methodsS3  & /opt/conda/lib/R/library/R.methodsS3  & TRUE & FALSE & 2020-02-14 & CRAN (R 3.6.1)                      & NA & /opt/conda/lib/R/library\\\\\n",
       "\tR.oo & R.oo         & 1.23.0    & 1.23.0    & /opt/conda/lib/R/library/R.oo         & /opt/conda/lib/R/library/R.oo         & TRUE & FALSE & 2019-11-03 & CRAN (R 3.6.1)                      & NA & /opt/conda/lib/R/library\\\\\n",
       "\tR.utils & R.utils      & 2.9.2     & 2.9.2     & /opt/conda/lib/R/library/R.utils      & /opt/conda/lib/R/library/R.utils      & TRUE & FALSE & 2019-12-08 & CRAN (R 3.6.1)                      & NA & /opt/conda/lib/R/library\\\\\n",
       "\ttibble & tibble       & 2.1.3     & 2.1.3     & /opt/conda/lib/R/library/tibble       & /opt/conda/lib/R/library/tibble       & TRUE & FALSE & 2019-06-06 & CRAN (R 3.6.1)                      & NA & /opt/conda/lib/R/library\\\\\n",
       "\\end{tabular}\n"
      ],
      "text/markdown": [
       "\n",
       "A packages_info: 10 × 11\n",
       "\n",
       "| <!--/--> | package &lt;chr&gt; | ondiskversion &lt;chr&gt; | loadedversion &lt;chr&gt; | path &lt;chr&gt; | loadedpath &lt;chr&gt; | attached &lt;lgl&gt; | is_base &lt;lgl&gt; | date &lt;chr&gt; | source &lt;chr&gt; | md5ok &lt;lgl&gt; | library &lt;fct&gt; |\n",
       "|---|---|---|---|---|---|---|---|---|---|---|---|\n",
       "| Biobase | Biobase      | 2.46.0    | 2.46.0    | /opt/conda/lib/R/library/Biobase      | /opt/conda/lib/R/library/Biobase      | TRUE | FALSE | 2019-10-29 | Bioconductor                        | NA | /opt/conda/lib/R/library |\n",
       "| BiocGenerics | BiocGenerics | 0.32.0    | 0.32.0    | /opt/conda/lib/R/library/BiocGenerics | /opt/conda/lib/R/library/BiocGenerics | TRUE | FALSE | 2019-10-29 | Bioconductor                        | NA | /opt/conda/lib/R/library |\n",
       "| edgeR | edgeR        | 3.28.1    | 3.28.1    | /opt/conda/lib/R/library/edgeR        | /opt/conda/lib/R/library/edgeR        | TRUE | FALSE | 2020-02-26 | Bioconductor                        | NA | /opt/conda/lib/R/library |\n",
       "| limma | limma        | 3.42.2    | 3.42.2    | /opt/conda/lib/R/library/limma        | /opt/conda/lib/R/library/limma        | TRUE | FALSE | 2020-02-03 | Bioconductor                        | NA | /opt/conda/lib/R/library |\n",
       "| multtest | multtest     | 2.42.0    | 2.42.0    | /opt/conda/lib/R/library/multtest     | /opt/conda/lib/R/library/multtest     | TRUE | FALSE | 2019-10-29 | Bioconductor                        | NA | /opt/conda/lib/R/library |\n",
       "| piggyback | piggyback    | 0.0.10.99 | 0.0.10.99 | /opt/conda/lib/R/library/piggyback    | /opt/conda/lib/R/library/piggyback    | TRUE | FALSE | 2020-05-12 | Github (ropensci/piggyback@87f71e8) | NA | /opt/conda/lib/R/library |\n",
       "| R.methodsS3 | R.methodsS3  | 1.8.0     | 1.8.0     | /opt/conda/lib/R/library/R.methodsS3  | /opt/conda/lib/R/library/R.methodsS3  | TRUE | FALSE | 2020-02-14 | CRAN (R 3.6.1)                      | NA | /opt/conda/lib/R/library |\n",
       "| R.oo | R.oo         | 1.23.0    | 1.23.0    | /opt/conda/lib/R/library/R.oo         | /opt/conda/lib/R/library/R.oo         | TRUE | FALSE | 2019-11-03 | CRAN (R 3.6.1)                      | NA | /opt/conda/lib/R/library |\n",
       "| R.utils | R.utils      | 2.9.2     | 2.9.2     | /opt/conda/lib/R/library/R.utils      | /opt/conda/lib/R/library/R.utils      | TRUE | FALSE | 2019-12-08 | CRAN (R 3.6.1)                      | NA | /opt/conda/lib/R/library |\n",
       "| tibble | tibble       | 2.1.3     | 2.1.3     | /opt/conda/lib/R/library/tibble       | /opt/conda/lib/R/library/tibble       | TRUE | FALSE | 2019-06-06 | CRAN (R 3.6.1)                      | NA | /opt/conda/lib/R/library |\n",
       "\n"
      ],
      "text/plain": [
       "             package      ondiskversion loadedversion\n",
       "Biobase      Biobase      2.46.0        2.46.0       \n",
       "BiocGenerics BiocGenerics 0.32.0        0.32.0       \n",
       "edgeR        edgeR        3.28.1        3.28.1       \n",
       "limma        limma        3.42.2        3.42.2       \n",
       "multtest     multtest     2.42.0        2.42.0       \n",
       "piggyback    piggyback    0.0.10.99     0.0.10.99    \n",
       "R.methodsS3  R.methodsS3  1.8.0         1.8.0        \n",
       "R.oo         R.oo         1.23.0        1.23.0       \n",
       "R.utils      R.utils      2.9.2         2.9.2        \n",
       "tibble       tibble       2.1.3         2.1.3        \n",
       "             path                                 \n",
       "Biobase      /opt/conda/lib/R/library/Biobase     \n",
       "BiocGenerics /opt/conda/lib/R/library/BiocGenerics\n",
       "edgeR        /opt/conda/lib/R/library/edgeR       \n",
       "limma        /opt/conda/lib/R/library/limma       \n",
       "multtest     /opt/conda/lib/R/library/multtest    \n",
       "piggyback    /opt/conda/lib/R/library/piggyback   \n",
       "R.methodsS3  /opt/conda/lib/R/library/R.methodsS3 \n",
       "R.oo         /opt/conda/lib/R/library/R.oo        \n",
       "R.utils      /opt/conda/lib/R/library/R.utils     \n",
       "tibble       /opt/conda/lib/R/library/tibble      \n",
       "             loadedpath                            attached is_base date      \n",
       "Biobase      /opt/conda/lib/R/library/Biobase      TRUE     FALSE   2019-10-29\n",
       "BiocGenerics /opt/conda/lib/R/library/BiocGenerics TRUE     FALSE   2019-10-29\n",
       "edgeR        /opt/conda/lib/R/library/edgeR        TRUE     FALSE   2020-02-26\n",
       "limma        /opt/conda/lib/R/library/limma        TRUE     FALSE   2020-02-03\n",
       "multtest     /opt/conda/lib/R/library/multtest     TRUE     FALSE   2019-10-29\n",
       "piggyback    /opt/conda/lib/R/library/piggyback    TRUE     FALSE   2020-05-12\n",
       "R.methodsS3  /opt/conda/lib/R/library/R.methodsS3  TRUE     FALSE   2020-02-14\n",
       "R.oo         /opt/conda/lib/R/library/R.oo         TRUE     FALSE   2019-11-03\n",
       "R.utils      /opt/conda/lib/R/library/R.utils      TRUE     FALSE   2019-12-08\n",
       "tibble       /opt/conda/lib/R/library/tibble       TRUE     FALSE   2019-06-06\n",
       "             source                              md5ok library                 \n",
       "Biobase      Bioconductor                        NA    /opt/conda/lib/R/library\n",
       "BiocGenerics Bioconductor                        NA    /opt/conda/lib/R/library\n",
       "edgeR        Bioconductor                        NA    /opt/conda/lib/R/library\n",
       "limma        Bioconductor                        NA    /opt/conda/lib/R/library\n",
       "multtest     Bioconductor                        NA    /opt/conda/lib/R/library\n",
       "piggyback    Github (ropensci/piggyback@87f71e8) NA    /opt/conda/lib/R/library\n",
       "R.methodsS3  CRAN (R 3.6.1)                      NA    /opt/conda/lib/R/library\n",
       "R.oo         CRAN (R 3.6.1)                      NA    /opt/conda/lib/R/library\n",
       "R.utils      CRAN (R 3.6.1)                      NA    /opt/conda/lib/R/library\n",
       "tibble       CRAN (R 3.6.1)                      NA    /opt/conda/lib/R/library"
      ]
     },
     "metadata": {},
     "output_type": "display_data"
    }
   ],
   "source": [
    "dev_session_info   <- devtools::session_info()\n",
    "utils_session_info <- utils::sessionInfo()\n",
    "\n",
    "message(\"Saving `devtools::session_info()` objects in ../metadata/devtools_session_info.rds  ..\")\n",
    "saveRDS(dev_session_info, file = paste0(\"../metadata/\", notebookid, \"_devtools_session_info.rds\"))\n",
    "message(\"Done!\\n\")\n",
    "\n",
    "message(\"Saving `utils::sessionInfo()` objects in ../metadata/utils_session_info.rds  ..\")\n",
    "saveRDS(utils_session_info, file = paste0(\"../metadata/\", notebookid ,\"_utils_info.rds\"))\n",
    "message(\"Done!\\n\")\n",
    "\n",
    "dev_session_info$platform\n",
    "dev_session_info$packages[dev_session_info$packages$attached==TRUE, ]"
   ]
  },
  {
   "cell_type": "code",
   "execution_count": null,
   "metadata": {},
   "outputs": [],
   "source": []
  }
 ],
 "metadata": {
  "kernelspec": {
   "display_name": "R",
   "language": "R",
   "name": "ir"
  },
  "language_info": {
   "codemirror_mode": "r",
   "file_extension": ".r",
   "mimetype": "text/x-r-source",
   "name": "R",
   "pygments_lexer": "r",
   "version": "3.6.1"
  }
 },
 "nbformat": 4,
 "nbformat_minor": 4
}
