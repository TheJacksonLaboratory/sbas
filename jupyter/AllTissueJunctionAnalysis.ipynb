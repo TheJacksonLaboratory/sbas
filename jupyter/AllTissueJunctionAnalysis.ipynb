{
 "cells": [
  {
   "cell_type": "markdown",
   "metadata": {},
   "source": [
    "# AllTissueJunctionAnalysis as a Notebook \n",
    "\n",
    "rMATS 3.2.5 was run on controlled access RNASeq files retrieved experiments stored in the Sequence Read Archive with controlled access managed by dbGaP.   The data were generated under the Gene Tissue Expression.\n",
    "\n",
    "## rMATS RNASeq-MATS.py produces 10 different output types which get assembled into as type junction ID by sample ID matrices\n",
    "\n",
    "### Alternative Splice Site Types are: (se, a3ss, a5ss, mxe, ri)\n",
    "\n",
    " This is input as ARGV1 into variable 'astype'\n",
    "\n",
    "  * Skipped Exon events (se),\n",
    "  * Alternative 3' splice site (a3ss),\n",
    "  * Alternative 5' splice site (a5ss),\n",
    "  * Mutually exclusive exon (mxe),\n",
    "  * and retention intron (ri)\n",
    "\n",
    "### There are two different kinds of junction counts\n",
    "\n",
    "  * jc = junction counts - reads that cross the junction\n",
    "  * jcec = junction counts plus reads on the target (such as included exon\n",
    "\n",
    "### And the count type -- there are 5 types\n",
    "\n",
    "  * inclusion levels (percent spliced in)\n",
    "  * included junction counts (ijc)\n",
    "  * skipped junction counts (sjc)\n",
    "  * inclusion length (inclen)\n",
    "  * skipped length (skiplen)\n",
    "\n",
    "### function: fit_iso_tissue \n",
    "\n",
    "fit_iso_tissue expects the following input:\n",
    "\n",
    "  * the tissue of interest (SMSTD) \n",
    "  * an ordered_merged_rmats -- which will be ordered to fit the count matrix\n",
    "  * count matrix (inc or ijc & sjc merged)\n",
    "  * splice type (a3ss, a5ss, mxe, ri or se)\n",
    "  * junction_count type (jc or jcec)\n",
    "  * count type (inc or the merged ijc,sjc)\n",
    "  \n",
    "### reordering to match annotations between count matrix and annotation matrix\n",
    "\n",
    "Common problem is to match specifically the rows of an annotation matrix with the columns of a count matrix\n",
    "`match` is the function that gives the re-ordering index required to accomplish this\n"
   ]
  },
  {
   "cell_type": "markdown",
   "metadata": {},
   "source": [
    "## **NOTE**:\n",
    "\n",
    "We assume that you have cloned the analysis repository and have `cd` into the parent directory. Before starting with the analysis make sure you have first completed the dependencies set up by following the instructions described in the **`dependencies/README.md`** document. All paths defined in this Notebook are relative to the parent directory (repository). Please close this Notebook and start again by following the above guidelines if you have not completed the aforementioned steps.\n",
    "\n",
    "## rMATS-final-merged\n",
    "the rmats-nf NextFlow was executed and the results released here:"
   ]
  },
  {
   "cell_type": "markdown",
   "metadata": {},
   "source": [
    "## Loading dependencies"
   ]
  },
  {
   "cell_type": "code",
   "execution_count": 1,
   "metadata": {},
   "outputs": [],
   "source": [
    "# temporary hack remove me when the dependencies are fixed\n",
    "#\n",
    "#install.packages(\"BiocManager\")\n",
    "#Sys.setenv(TAR = \"/bin/tar\")\n",
    "#BiocManager::install(c('limma','edgeR', 'statmod'))\n",
    "#install.packages(c('doParallel', 'doRNG', 'foreach', 'stringi', 'pheatmap'), repo = 'https://cran.r-project.org')\n",
    "#devtools::install_github(\"ropensci/piggyback@87f71e8\", upgrade=\"never\")\n",
    "#install.packages(\"runjags\", repos = \"https://cran.r-project.org\")\n",
    "#devtools::install_github(\"easystats/report\")\n"
   ]
  },
  {
   "cell_type": "code",
   "execution_count": 2,
   "metadata": {},
   "outputs": [
    {
     "name": "stderr",
     "output_type": "stream",
     "text": [
      "Loading required package: BiocGenerics\n",
      "Loading required package: parallel\n",
      "\n",
      "Attaching package: ‘BiocGenerics’\n",
      "\n",
      "The following objects are masked from ‘package:parallel’:\n",
      "\n",
      "    clusterApply, clusterApplyLB, clusterCall, clusterEvalQ,\n",
      "    clusterExport, clusterMap, parApply, parCapply, parLapply,\n",
      "    parLapplyLB, parRapply, parSapply, parSapplyLB\n",
      "\n",
      "The following object is masked from ‘package:limma’:\n",
      "\n",
      "    plotMA\n",
      "\n",
      "The following objects are masked from ‘package:stats’:\n",
      "\n",
      "    IQR, mad, sd, var, xtabs\n",
      "\n",
      "The following objects are masked from ‘package:base’:\n",
      "\n",
      "    anyDuplicated, append, as.data.frame, basename, cbind, colnames,\n",
      "    dirname, do.call, duplicated, eval, evalq, Filter, Find, get, grep,\n",
      "    grepl, intersect, is.unsorted, lapply, Map, mapply, match, mget,\n",
      "    order, paste, pmax, pmax.int, pmin, pmin.int, Position, rank,\n",
      "    rbind, Reduce, rownames, sapply, setdiff, sort, table, tapply,\n",
      "    union, unique, unsplit, which, which.max, which.min\n",
      "\n",
      "Loading required package: Biobase\n",
      "Welcome to Bioconductor\n",
      "\n",
      "    Vignettes contain introductory material; view with\n",
      "    'browseVignettes()'. To cite Bioconductor, see\n",
      "    'citation(\"Biobase\")', and for packages 'citation(\"pkgname\")'.\n",
      "\n",
      "Loading required package: R.oo\n",
      "Loading required package: R.methodsS3\n",
      "R.methodsS3 v1.8.0 (2020-02-14 07:10:20 UTC) successfully loaded. See ?R.methodsS3 for help.\n",
      "R.oo v1.23.0 successfully loaded. See ?R.oo for help.\n",
      "\n",
      "Attaching package: ‘R.oo’\n",
      "\n",
      "The following object is masked from ‘package:R.methodsS3’:\n",
      "\n",
      "    throw\n",
      "\n",
      "The following objects are masked from ‘package:methods’:\n",
      "\n",
      "    getClasses, getMethods\n",
      "\n",
      "The following objects are masked from ‘package:base’:\n",
      "\n",
      "    attach, detach, load, save\n",
      "\n",
      "R.utils v2.9.2 successfully loaded. See ?R.utils for help.\n",
      "\n",
      "Attaching package: ‘R.utils’\n",
      "\n",
      "The following object is masked from ‘package:utils’:\n",
      "\n",
      "    timestamp\n",
      "\n",
      "The following objects are masked from ‘package:base’:\n",
      "\n",
      "    cat, commandArgs, getOption, inherits, isOpen, nullfile, parse,\n",
      "    warnings\n",
      "\n"
     ]
    }
   ],
   "source": [
    "library(limma)\n",
    "library(piggyback)\n",
    "library(multtest)\n",
    "library(Biobase)\n",
    "library(edgeR)\n",
    "library(tibble)\n",
    "#install.packages('R.utils')\n",
    "library(R.utils)"
   ]
  },
  {
   "cell_type": "markdown",
   "metadata": {},
   "source": [
    "## Modeling\n",
    "\n",
    "This analysis uses edgeR.  From the documentation, it is important to note that normalization takes the form of correction factors that enter into the statistical model. Such correction factors are usually computed internally by edgeR functions, but it is also possible for a user to supply them. The correction factors may take the form of scaling factors for the library sizes, such as computed by calcNormFactors, which are then used to compute the effective library sizes. \n",
    "\n",
    "Alternatively, gene-specific correction factors can be entered into the glm functions of edgeR as offsets. In the latter case, the offset matrix will be assumed to account for all normalization issues, including sequencing depth and RNA composition.\n",
    "\n",
    "Note that normalization in edgeR is model-based, and the original read counts are not themselves transformed. This means that users should not transform the read counts in any way before inputing them to edgeR. For example, users should not enter RPKM or FPKM val- ues to edgeR in place of read counts. Such quantities will prevent edgeR from correctly estimating the mean-variance relationship in the data, which is a crucial to the statistical strategies underlying edgeR. Similarly, users should not add artificial values to the counts before inputing them to edgeR.\n",
    "\n",
    "edgeR is not designed to work with estimated expression levels, for example as might be output by Cufflinks. \n",
    "edgeR can work with expected counts as output by RSEM, but raw counts are still preferred. \n",
    "\n",
    "As instructed by the software, we are using the raw counts as provided by rMATS.  The raw counts we are using in the model are `ijc` and `sjc`, the sample specific raw read counts as they align to the junctions of the `included exon (ijc)` and the junctions of the `excluded or skipped exon (sjc)` respectively.\n",
    "\n",
    "\n",
    "Be sure to set your GITHUB_TOKEN, prior to downloading files\n",
    "\n",
    "One suggestion is change it to your token and then run it then immediately change it back to this:\n",
    "\n",
    "Sys.setenv(GITHUB_TOKEN = \"your-very-own-github-token\")"
   ]
  },
  {
   "cell_type": "code",
   "execution_count": 3,
   "metadata": {},
   "outputs": [],
   "source": [
    "# devtools::install_github(\"ropensci/piggyback@87f71e8\", upgrade=\"never\")\n"
   ]
  },
  {
   "cell_type": "markdown",
   "metadata": {},
   "source": [
    "### Did you remember?\n",
    "Did you remember to delete your private github token?  Now is a good time to do so, before you save your work and checkit in inadvertantly...."
   ]
  },
  {
   "cell_type": "code",
   "execution_count": 28,
   "metadata": {},
   "outputs": [
    {
     "name": "stderr",
     "output_type": "stream",
     "text": [
      "Loading metadata from SraRunTable.noCram.noExome.noWGS.totalRNA.txt.gz ../data/gtex.rds ..\n",
      "\n",
      "done!\n",
      "\n",
      "Loading ijc counts from rmats_final.se.jc.ijc.txt.gz ../data/gtex.rds ..\n",
      "\n",
      "done!\n",
      "\n",
      "Loading sjc counts from rmats_final.se.jc.sjc.txt.gz ../data/gtex.rds ..\n",
      "\n",
      "done!\n",
      "\n",
      "Loading obj GTEx v8 rds object with readRDS from ../data/gtex.rds ..\n",
      "\n",
      "Done!\n",
      "\n",
      "Generating sha256sum for gtex.rds ..\n",
      "\n",
      "18e2c7a83c98dcf59ddab53e1281923979d49da6ea3acb68114c5a44057c57bc  ../data/gtex.rds\n",
      "Done!\n",
      "\n"
     ]
    }
   ],
   "source": [
    "if (!(\"SraRunTable.noCram.noExome.noWGS.totalRNA.txt.gz\" %in% list.files(\"../data/\"))) {\n",
    "    piggyback::pb_download(\n",
    "        show_progress = TRUE,\n",
    "        repo = \"TheJacksonLaboratory/sbas\", \n",
    "        file = \"SraRunTable.noCram.noExome.noWGS.totalRNA.txt.gz\",\n",
    "        tag  = \"GTExV8.v1.0\", \n",
    "        dest = \"../data/\")\n",
    "    \n",
    "    message(\"Loading metadata from SraRunTable.noCram.noExome.noWGS.totalRNA.txt.gz ../data/gtex.rds ..\\n\")   \n",
    "    metadata <- data.table::fread(\"../data/SraRunTable.noCram.noExome.noWGS.totalRNA.txt.gz\")\n",
    "    message(\"done!\")\n",
    "} else {\n",
    "    message(\"Loading metadata from SraRunTable.noCram.noExome.noWGS.totalRNA.txt.gz ../data/gtex.rds ..\\n\")   \n",
    "    metadata <- data.table::fread(\"../data/SraRunTable.noCram.noExome.noWGS.totalRNA.txt.gz\")\n",
    "    message(\"done!\\n\")\n",
    "}\n",
    "\n",
    "if (!(\"rmats_final.se.jc.ijc.txt.gz\" %in% list.files(\"../data/\"))) {    \n",
    "    piggyback::pb_download(\n",
    "        show_progress = TRUE,\n",
    "        repo = \"adeslatt/sbas_test\", \n",
    "        file = \"rmats_final.se.jc.ijc.txt.gz\",\n",
    "        tag  = \"rMATS.3.2.5.GTEx.V8.final_matrices\", \n",
    "        dest = \"../data/\")\n",
    "    message(\"Loading ijc counts from rmats_final.se.jc.ijc.txt.gz ../data/gtex.rds ..\\n\")   \n",
    "    ijc.iso.counts.mem <- data.table::fread(\"../data/rmats_final.se.jc.ijc.txt.gz\")\n",
    "    message(\"done!\\n\")\n",
    "} else {\n",
    "    message(\"Loading ijc counts from rmats_final.se.jc.ijc.txt.gz ../data/gtex.rds ..\\n\")   \n",
    "    ijc.iso.counts.mem <- data.table::fread(\"../data/rmats_final.se.jc.ijc.txt.gz\")\n",
    "    message(\"done!\\n\")    \n",
    "}\n",
    "\n",
    "if (!(\"rmats_final.se.jc.sjc.txt.gz\" %in% list.files(\"../data/\"))) {\n",
    "    message(\"Downloading rmats_final.se.jc.sjc.txt.gz\")\n",
    "    piggyback::pb_download(\n",
    "        show_progress = TRUE,\n",
    "        repo = \"adeslatt/sbas_test\", \n",
    "        file = \"rmats_final.se.jc.sjc.txt.gz\",\n",
    "        tag  = \"rMATS.3.2.5.GTEx.V8.final_matrices\", \n",
    "        dest = \"../data/\")\n",
    "    message(\"Loading sjc counts from rmats_final.se.jc.sjc.txt.gz ../data/gtex.rds ..\\n\")   \n",
    "    sjc.iso.counts.mem <- data.table::fread(\"../data/rmats_final.se.jc.sjc.txt.gz\")\n",
    "    message(\"done!\\n\")    \n",
    "\n",
    "} else {\n",
    "    message(\"Loading sjc counts from rmats_final.se.jc.sjc.txt.gz ../data/gtex.rds ..\\n\")   \n",
    "    sjc.iso.counts.mem <- data.table::fread(\"../data/rmats_final.se.jc.sjc.txt.gz\")\n",
    "    message(\"done!\\n\")        \n",
    "}\n",
    "\n",
    "if (!(\"gtex.rds\" %in% list.files(\"../data/\"))) {\n",
    "    message(\"Downloading and loading obj with GTEx v8 with 'yarn::downloadGTExV8()'\\n\")\n",
    "    obj <- yarn::downloadGTExV8(type='genes',file='../data/gtex.rds')\n",
    "    message(\"Done!\\n\")\n",
    "\n",
    "} else {\n",
    "# Load with readRDS() if gtex.rds available in data/\n",
    "    message(\"Loading obj GTEx v8 rds object with readRDS from ../data/gtex.rds ..\\n\")   \n",
    "    obj <- readRDS(file = \"../data/gtex.rds\")\n",
    "    message(\"Done!\\n\")\n",
    "    message(\"Generating sha256sum for gtex.rds ..\\n\")    \n",
    "    message(system(\"sha256sum ../data/gtex.rds\", intern = TRUE))\n",
    "    message(\"Done!\\n\")\n",
    "} "
   ]
  },
  {
   "cell_type": "code",
   "execution_count": 29,
   "metadata": {},
   "outputs": [
    {
     "data": {
      "text/html": [
       "<style>\n",
       ".list-inline {list-style: none; margin:0; padding: 0}\n",
       ".list-inline>li {display: inline-block}\n",
       ".list-inline>li:not(:last-child)::after {content: \"\\00b7\"; padding: 0 .5ex}\n",
       "</style>\n",
       "<ol class=list-inline><li>'GTEX.111VG.2326.SM.5N9BK'</li><li>'GTEX.111VG.1926.SM.5GIDO'</li><li>'GTEX.ZV7C.2026.SM.5NQ8F'</li><li>'GTEX.12ZZY.0426.SM.5LZW3'</li></ol>\n"
      ],
      "text/latex": [
       "\\begin{enumerate*}\n",
       "\\item 'GTEX.111VG.2326.SM.5N9BK'\n",
       "\\item 'GTEX.111VG.1926.SM.5GIDO'\n",
       "\\item 'GTEX.ZV7C.2026.SM.5NQ8F'\n",
       "\\item 'GTEX.12ZZY.0426.SM.5LZW3'\n",
       "\\end{enumerate*}\n"
      ],
      "text/markdown": [
       "1. 'GTEX.111VG.2326.SM.5N9BK'\n",
       "2. 'GTEX.111VG.1926.SM.5GIDO'\n",
       "3. 'GTEX.ZV7C.2026.SM.5NQ8F'\n",
       "4. 'GTEX.12ZZY.0426.SM.5LZW3'\n",
       "\n",
       "\n"
      ],
      "text/plain": [
       "[1] \"GTEX.111VG.2326.SM.5N9BK\" \"GTEX.111VG.1926.SM.5GIDO\"\n",
       "[3] \"GTEX.ZV7C.2026.SM.5NQ8F\"  \"GTEX.12ZZY.0426.SM.5LZW3\""
      ]
     },
     "metadata": {},
     "output_type": "display_data"
    },
    {
     "data": {
      "text/html": [
       "<style>\n",
       ".list-inline {list-style: none; margin:0; padding: 0}\n",
       ".list-inline>li {display: inline-block}\n",
       ".list-inline>li:not(:last-child)::after {content: \"\\00b7\"; padding: 0 .5ex}\n",
       "</style>\n",
       "<ol class=list-inline><li>'GTEX.ZZPU.2626.SM.5E45Y'</li><li>'GTEX.ZZPU.2726.SM.5NQ8O'</li><li>NA</li><li>NA</li></ol>\n"
      ],
      "text/latex": [
       "\\begin{enumerate*}\n",
       "\\item 'GTEX.ZZPU.2626.SM.5E45Y'\n",
       "\\item 'GTEX.ZZPU.2726.SM.5NQ8O'\n",
       "\\item NA\n",
       "\\item NA\n",
       "\\end{enumerate*}\n"
      ],
      "text/markdown": [
       "1. 'GTEX.ZZPU.2626.SM.5E45Y'\n",
       "2. 'GTEX.ZZPU.2726.SM.5NQ8O'\n",
       "3. NA\n",
       "4. NA\n",
       "\n",
       "\n"
      ],
      "text/plain": [
       "[1] \"GTEX.ZZPU.2626.SM.5E45Y\" \"GTEX.ZZPU.2726.SM.5NQ8O\"\n",
       "[3] NA                        NA                       "
      ]
     },
     "metadata": {},
     "output_type": "display_data"
    },
    {
     "data": {
      "text/html": [
       "17382"
      ],
      "text/latex": [
       "17382"
      ],
      "text/markdown": [
       "17382"
      ],
      "text/plain": [
       "[1] 17382"
      ]
     },
     "metadata": {},
     "output_type": "display_data"
    },
    {
     "data": {
      "text/html": [
       "17384"
      ],
      "text/latex": [
       "17384"
      ],
      "text/markdown": [
       "17384"
      ],
      "text/plain": [
       "[1] 17384"
      ]
     },
     "metadata": {},
     "output_type": "display_data"
    },
    {
     "name": "stderr",
     "output_type": "stream",
     "text": [
      "The non-overlapping IDs between pheno and exprs data are:\n",
      "\n",
      "2\n"
     ]
    },
    {
     "data": {
      "text/html": [
       "17384"
      ],
      "text/latex": [
       "17384"
      ],
      "text/markdown": [
       "17384"
      ],
      "text/plain": [
       "[1] 17384"
      ]
     },
     "metadata": {},
     "output_type": "display_data"
    },
    {
     "data": {
      "text/html": [
       "<style>\n",
       ".list-inline {list-style: none; margin:0; padding: 0}\n",
       ".list-inline>li {display: inline-block}\n",
       ".list-inline>li:not(:last-child)::after {content: \"\\00b7\"; padding: 0 .5ex}\n",
       "</style>\n",
       "<ol class=list-inline><li>17382</li><li>67</li></ol>\n"
      ],
      "text/latex": [
       "\\begin{enumerate*}\n",
       "\\item 17382\n",
       "\\item 67\n",
       "\\end{enumerate*}\n"
      ],
      "text/markdown": [
       "1. 17382\n",
       "2. 67\n",
       "\n",
       "\n"
      ],
      "text/plain": [
       "[1] 17382    67"
      ]
     },
     "metadata": {},
     "output_type": "display_data"
    },
    {
     "data": {
      "text/html": [
       "<style>\n",
       ".list-inline {list-style: none; margin:0; padding: 0}\n",
       ".list-inline>li {display: inline-block}\n",
       ".list-inline>li:not(:last-child)::after {content: \"\\00b7\"; padding: 0 .5ex}\n",
       "</style>\n",
       "<ol class=list-inline><li>55878</li><li>17382</li></ol>\n"
      ],
      "text/latex": [
       "\\begin{enumerate*}\n",
       "\\item 55878\n",
       "\\item 17382\n",
       "\\end{enumerate*}\n"
      ],
      "text/markdown": [
       "1. 55878\n",
       "2. 17382\n",
       "\n",
       "\n"
      ],
      "text/plain": [
       "[1] 55878 17382"
      ]
     },
     "metadata": {},
     "output_type": "display_data"
    },
    {
     "data": {
      "text/html": [
       "<style>\n",
       ".dl-inline {width: auto; margin:0; padding: 0}\n",
       ".dl-inline>dt, .dl-inline>dd {float: none; width: auto; display: inline-block}\n",
       ".dl-inline>dt::after {content: \":\\0020\"; padding-right: .5ex}\n",
       ".dl-inline>dt:not(:first-of-type) {padding-left: .5ex}\n",
       "</style><dl class=dl-inline><dt>Features</dt><dd>55878</dd><dt>Samples</dt><dd>17382</dd></dl>\n"
      ],
      "text/latex": [
       "\\begin{description*}\n",
       "\\item[Features] 55878\n",
       "\\item[Samples] 17382\n",
       "\\end{description*}\n"
      ],
      "text/markdown": [
       "Features\n",
       ":   55878Samples\n",
       ":   17382\n",
       "\n"
      ],
      "text/plain": [
       "Features  Samples \n",
       "   55878    17382 "
      ]
     },
     "metadata": {},
     "output_type": "display_data"
    }
   ],
   "source": [
    "metadata$SAMPID   <- gsub('-','\\\\.',metadata$'Sample Name')\n",
    "pData(obj)$SAMPID <- gsub('-','\\\\.',pData(obj)$SAMPID)\n",
    "tail(metadata$SAMPID,4)\n",
    "tail(pData(obj)$SAMPID,4)\n",
    "\n",
    "exprs_sample_names=as.vector(as.character(colnames(exprs(obj))))\n",
    "length(exprs_sample_names)\n",
    "\n",
    "pheno_sample_names=as.vector(as.character(rownames(pData(obj))))\n",
    "length(pheno_sample_names)\n",
    "\n",
    "if (length(pheno_sample_names) > length(exprs_sample_names)) {\n",
    "    superset <- pheno_sample_names\n",
    "    subset   <- exprs_sample_names    \n",
    "} \n",
    "\n",
    "if (length(pheno_sample_names) < length(exprs_sample_names)) {\n",
    "    superset <- exprs_sample_names\n",
    "    subset   <- pheno_sample_names   \n",
    "} \n",
    "\n",
    "non_overlaps <- setdiff( superset, subset)\n",
    "\n",
    "message(\"The non-overlapping IDs between pheno and exprs data are:\\n\\n\", \n",
    "        paste(length(non_overlaps), collapse = \"\\n\") )\n",
    "\n",
    "logical_match_names=superset %in% subset\n",
    "length(logical_match_names)\n",
    "\n",
    "# in this case, this is correcting for an erroneous disconnect between pData(obj) and exprs(obj)\n",
    "# normally all reduction in dimensionality will occur on the obj itself taking care of the phenotype and count\n",
    "# data simultaneously\n",
    "pData(obj) <- (pData(obj)[logical_match_names==TRUE,])\n",
    "dim(pData(obj))\n",
    "dim(exprs(obj))\n",
    "dim(obj)"
   ]
  },
  {
   "cell_type": "code",
   "execution_count": 9,
   "metadata": {},
   "outputs": [
    {
     "data": {
      "text/html": [
       "9784"
      ],
      "text/latex": [
       "9784"
      ],
      "text/markdown": [
       "9784"
      ],
      "text/plain": [
       "[1] 9784"
      ]
     },
     "metadata": {},
     "output_type": "display_data"
    },
    {
     "data": {
      "text/html": [
       "<style>\n",
       ".list-inline {list-style: none; margin:0; padding: 0}\n",
       ".list-inline>li {display: inline-block}\n",
       ".list-inline>li:not(:last-child)::after {content: \"\\00b7\"; padding: 0 .5ex}\n",
       "</style>\n",
       "<ol class=list-inline><li>'GTEX.ZV7C.2026.SM.5NQ8F'</li><li>'GTEX.12ZZY.0426.SM.5LZW3'</li></ol>\n"
      ],
      "text/latex": [
       "\\begin{enumerate*}\n",
       "\\item 'GTEX.ZV7C.2026.SM.5NQ8F'\n",
       "\\item 'GTEX.12ZZY.0426.SM.5LZW3'\n",
       "\\end{enumerate*}\n"
      ],
      "text/markdown": [
       "1. 'GTEX.ZV7C.2026.SM.5NQ8F'\n",
       "2. 'GTEX.12ZZY.0426.SM.5LZW3'\n",
       "\n",
       "\n"
      ],
      "text/plain": [
       "[1] \"GTEX.ZV7C.2026.SM.5NQ8F\"  \"GTEX.12ZZY.0426.SM.5LZW3\""
      ]
     },
     "metadata": {},
     "output_type": "display_data"
    },
    {
     "data": {
      "text/html": [
       "17382"
      ],
      "text/latex": [
       "17382"
      ],
      "text/markdown": [
       "17382"
      ],
      "text/plain": [
       "[1] 17382"
      ]
     },
     "metadata": {},
     "output_type": "display_data"
    },
    {
     "data": {
      "text/html": [
       "<style>\n",
       ".list-inline {list-style: none; margin:0; padding: 0}\n",
       ".list-inline>li {display: inline-block}\n",
       ".list-inline>li:not(:last-child)::after {content: \"\\00b7\"; padding: 0 .5ex}\n",
       "</style>\n",
       "<ol class=list-inline><li>'GTEX.ZZPU.2626.SM.5E45Y'</li><li>'GTEX.ZZPU.2726.SM.5NQ8O'</li></ol>\n"
      ],
      "text/latex": [
       "\\begin{enumerate*}\n",
       "\\item 'GTEX.ZZPU.2626.SM.5E45Y'\n",
       "\\item 'GTEX.ZZPU.2726.SM.5NQ8O'\n",
       "\\end{enumerate*}\n"
      ],
      "text/markdown": [
       "1. 'GTEX.ZZPU.2626.SM.5E45Y'\n",
       "2. 'GTEX.ZZPU.2726.SM.5NQ8O'\n",
       "\n",
       "\n"
      ],
      "text/plain": [
       "[1] \"GTEX.ZZPU.2626.SM.5E45Y\" \"GTEX.ZZPU.2726.SM.5NQ8O\""
      ]
     },
     "metadata": {},
     "output_type": "display_data"
    },
    {
     "name": "stderr",
     "output_type": "stream",
     "text": [
      "The non-overlapping IDs between pheno and run data are:\n",
      "\n",
      "8729\n"
     ]
    },
    {
     "data": {
      "text/html": [
       "17382"
      ],
      "text/latex": [
       "17382"
      ],
      "text/markdown": [
       "17382"
      ],
      "text/plain": [
       "[1] 17382"
      ]
     },
     "metadata": {},
     "output_type": "display_data"
    },
    {
     "data": {
      "text/plain": [
       "logical_match_names\n",
       "FALSE  TRUE \n",
       " 8729  8653 "
      ]
     },
     "metadata": {},
     "output_type": "display_data"
    },
    {
     "data": {
      "text/html": [
       "<style>\n",
       ".list-inline {list-style: none; margin:0; padding: 0}\n",
       ".list-inline>li {display: inline-block}\n",
       ".list-inline>li:not(:last-child)::after {content: \"\\00b7\"; padding: 0 .5ex}\n",
       "</style>\n",
       "<ol class=list-inline><li>8653</li><li>67</li></ol>\n"
      ],
      "text/latex": [
       "\\begin{enumerate*}\n",
       "\\item 8653\n",
       "\\item 67\n",
       "\\end{enumerate*}\n"
      ],
      "text/markdown": [
       "1. 8653\n",
       "2. 67\n",
       "\n",
       "\n"
      ],
      "text/plain": [
       "[1] 8653   67"
      ]
     },
     "metadata": {},
     "output_type": "display_data"
    },
    {
     "data": {
      "text/html": [
       "<style>\n",
       ".list-inline {list-style: none; margin:0; padding: 0}\n",
       ".list-inline>li {display: inline-block}\n",
       ".list-inline>li:not(:last-child)::after {content: \"\\00b7\"; padding: 0 .5ex}\n",
       "</style>\n",
       "<ol class=list-inline><li>55878</li><li>8653</li></ol>\n"
      ],
      "text/latex": [
       "\\begin{enumerate*}\n",
       "\\item 55878\n",
       "\\item 8653\n",
       "\\end{enumerate*}\n"
      ],
      "text/markdown": [
       "1. 55878\n",
       "2. 8653\n",
       "\n",
       "\n"
      ],
      "text/plain": [
       "[1] 55878  8653"
      ]
     },
     "metadata": {},
     "output_type": "display_data"
    },
    {
     "data": {
      "text/html": [
       "<style>\n",
       ".dl-inline {width: auto; margin:0; padding: 0}\n",
       ".dl-inline>dt, .dl-inline>dd {float: none; width: auto; display: inline-block}\n",
       ".dl-inline>dt::after {content: \":\\0020\"; padding-right: .5ex}\n",
       ".dl-inline>dt:not(:first-of-type) {padding-left: .5ex}\n",
       "</style><dl class=dl-inline><dt>Features</dt><dd>55878</dd><dt>Samples</dt><dd>8653</dd></dl>\n"
      ],
      "text/latex": [
       "\\begin{description*}\n",
       "\\item[Features] 55878\n",
       "\\item[Samples] 8653\n",
       "\\end{description*}\n"
      ],
      "text/markdown": [
       "Features\n",
       ":   55878Samples\n",
       ":   8653\n",
       "\n"
      ],
      "text/plain": [
       "Features  Samples \n",
       "   55878     8653 "
      ]
     },
     "metadata": {},
     "output_type": "display_data"
    }
   ],
   "source": [
    "# now we want to coordinate our metadata with the sequence read runs (SRR)\n",
    "# with our phenotype data -- this is done through the annotation file obtained from dbGaP\n",
    "# other than that, the yarn pData obj should be used as it has been corrected\n",
    "# we will use the SampleName \n",
    "run_sample_names=as.vector(as.character(metadata$SAMPID))\n",
    "pheno_sample_names=as.vector(as.character(pData(obj)$SAMPID))\n",
    "length(run_sample_names)\n",
    "tail(run_sample_names,2)\n",
    "length(pheno_sample_names)\n",
    "tail(pheno_sample_names,2)\n",
    "\n",
    "if (length(pheno_sample_names) > length(run_sample_names)) {\n",
    "    superset <- pheno_sample_names\n",
    "    subset   <- run_sample_names    \n",
    "} \n",
    "\n",
    "if (length(pheno_sample_names) < length(run_sample_names)) {\n",
    "    superset <- run_sample_names\n",
    "    subset   <- pheno_sample_names   \n",
    "} \n",
    "\n",
    "non_overlaps <- setdiff( superset, subset)\n",
    "\n",
    "message(\"The non-overlapping IDs between pheno and run data are:\\n\\n\", \n",
    "        paste(length(non_overlaps), collapse = \"\\n\") )\n",
    "\n",
    "logical_match_names=superset %in% subset\n",
    "length(logical_match_names)\n",
    "table(logical_match_names)\n",
    "\n",
    "reduced_obj      <- obj[,logical_match_names==TRUE]\n",
    "dim(pData(reduced_obj))\n",
    "dim(exprs(reduced_obj))\n",
    "dim(reduced_obj)\n"
   ]
  },
  {
   "cell_type": "code",
   "execution_count": 30,
   "metadata": {},
   "outputs": [
    {
     "data": {
      "text/html": [
       "<table>\n",
       "<caption>A data.table: 6 × 8674</caption>\n",
       "<thead>\n",
       "\t<tr><th scope=col>ID</th><th scope=col>SRR1068788</th><th scope=col>SRR1068808</th><th scope=col>SRR1068832</th><th scope=col>SRR1068855</th><th scope=col>SRR1068880</th><th scope=col>SRR1068929</th><th scope=col>SRR1068953</th><th scope=col>SRR1068977</th><th scope=col>SRR1068999</th><th scope=col>⋯</th><th scope=col>SRR821573</th><th scope=col>SRR821581</th><th scope=col>SRR821602</th><th scope=col>SRR821626</th><th scope=col>SRR821653</th><th scope=col>SRR821690</th><th scope=col>SRR821715</th><th scope=col>SRR823967</th><th scope=col>SRR823991</th><th scope=col>SRR824015</th></tr>\n",
       "\t<tr><th scope=col>&lt;int&gt;</th><th scope=col>&lt;int&gt;</th><th scope=col>&lt;int&gt;</th><th scope=col>&lt;int&gt;</th><th scope=col>&lt;int&gt;</th><th scope=col>&lt;int&gt;</th><th scope=col>&lt;int&gt;</th><th scope=col>&lt;int&gt;</th><th scope=col>&lt;int&gt;</th><th scope=col>&lt;int&gt;</th><th scope=col>⋯</th><th scope=col>&lt;int&gt;</th><th scope=col>&lt;int&gt;</th><th scope=col>&lt;int&gt;</th><th scope=col>&lt;int&gt;</th><th scope=col>&lt;int&gt;</th><th scope=col>&lt;int&gt;</th><th scope=col>&lt;int&gt;</th><th scope=col>&lt;int&gt;</th><th scope=col>&lt;int&gt;</th><th scope=col>&lt;int&gt;</th></tr>\n",
       "</thead>\n",
       "<tbody>\n",
       "\t<tr><td>1</td><td> 0</td><td>  0</td><td>  0</td><td>  0</td><td>  1</td><td>  0</td><td>  0</td><td>  0</td><td>  0</td><td>⋯</td><td>  0</td><td> 0</td><td> 0</td><td> 0</td><td>  0</td><td> 0</td><td>  0</td><td> 0</td><td> 0</td><td> 0</td></tr>\n",
       "\t<tr><td>2</td><td>26</td><td>247</td><td>103</td><td>620</td><td>494</td><td>145</td><td>145</td><td>139</td><td>697</td><td>⋯</td><td>151</td><td>32</td><td>62</td><td>48</td><td>963</td><td>25</td><td>196</td><td>76</td><td>72</td><td>61</td></tr>\n",
       "\t<tr><td>3</td><td> 1</td><td>  0</td><td>  1</td><td>  0</td><td>  0</td><td>  0</td><td>  1</td><td>  1</td><td>  2</td><td>⋯</td><td>  2</td><td> 1</td><td> 0</td><td> 1</td><td>  3</td><td> 0</td><td>  1</td><td> 0</td><td> 0</td><td> 0</td></tr>\n",
       "\t<tr><td>4</td><td> 0</td><td>  1</td><td>  1</td><td>  2</td><td>  0</td><td>  0</td><td>  1</td><td>  0</td><td>  2</td><td>⋯</td><td>  0</td><td> 0</td><td> 0</td><td> 0</td><td>  1</td><td> 0</td><td>  0</td><td> 0</td><td> 0</td><td> 0</td></tr>\n",
       "\t<tr><td>5</td><td> 3</td><td>  0</td><td>  2</td><td>  3</td><td>  6</td><td>  1</td><td>  1</td><td>  1</td><td>  5</td><td>⋯</td><td>  3</td><td> 2</td><td> 0</td><td> 1</td><td>  6</td><td> 0</td><td>  2</td><td> 0</td><td> 0</td><td> 0</td></tr>\n",
       "\t<tr><td>6</td><td> 2</td><td>  1</td><td>  2</td><td>  5</td><td>  6</td><td>  1</td><td>  1</td><td>  0</td><td>  5</td><td>⋯</td><td>  1</td><td> 1</td><td> 0</td><td> 0</td><td>  4</td><td> 0</td><td>  1</td><td> 0</td><td> 0</td><td> 0</td></tr>\n",
       "</tbody>\n",
       "</table>\n"
      ],
      "text/latex": [
       "A data.table: 6 × 8674\n",
       "\\begin{tabular}{lllllllllllllllllllll}\n",
       " ID & SRR1068788 & SRR1068808 & SRR1068832 & SRR1068855 & SRR1068880 & SRR1068929 & SRR1068953 & SRR1068977 & SRR1068999 & ⋯ & SRR821573 & SRR821581 & SRR821602 & SRR821626 & SRR821653 & SRR821690 & SRR821715 & SRR823967 & SRR823991 & SRR824015\\\\\n",
       " <int> & <int> & <int> & <int> & <int> & <int> & <int> & <int> & <int> & <int> & ⋯ & <int> & <int> & <int> & <int> & <int> & <int> & <int> & <int> & <int> & <int>\\\\\n",
       "\\hline\n",
       "\t 1 &  0 &   0 &   0 &   0 &   1 &   0 &   0 &   0 &   0 & ⋯ &   0 &  0 &  0 &  0 &   0 &  0 &   0 &  0 &  0 &  0\\\\\n",
       "\t 2 & 26 & 247 & 103 & 620 & 494 & 145 & 145 & 139 & 697 & ⋯ & 151 & 32 & 62 & 48 & 963 & 25 & 196 & 76 & 72 & 61\\\\\n",
       "\t 3 &  1 &   0 &   1 &   0 &   0 &   0 &   1 &   1 &   2 & ⋯ &   2 &  1 &  0 &  1 &   3 &  0 &   1 &  0 &  0 &  0\\\\\n",
       "\t 4 &  0 &   1 &   1 &   2 &   0 &   0 &   1 &   0 &   2 & ⋯ &   0 &  0 &  0 &  0 &   1 &  0 &   0 &  0 &  0 &  0\\\\\n",
       "\t 5 &  3 &   0 &   2 &   3 &   6 &   1 &   1 &   1 &   5 & ⋯ &   3 &  2 &  0 &  1 &   6 &  0 &   2 &  0 &  0 &  0\\\\\n",
       "\t 6 &  2 &   1 &   2 &   5 &   6 &   1 &   1 &   0 &   5 & ⋯ &   1 &  1 &  0 &  0 &   4 &  0 &   1 &  0 &  0 &  0\\\\\n",
       "\\end{tabular}\n"
      ],
      "text/markdown": [
       "\n",
       "A data.table: 6 × 8674\n",
       "\n",
       "| ID &lt;int&gt; | SRR1068788 &lt;int&gt; | SRR1068808 &lt;int&gt; | SRR1068832 &lt;int&gt; | SRR1068855 &lt;int&gt; | SRR1068880 &lt;int&gt; | SRR1068929 &lt;int&gt; | SRR1068953 &lt;int&gt; | SRR1068977 &lt;int&gt; | SRR1068999 &lt;int&gt; | ⋯ ⋯ | SRR821573 &lt;int&gt; | SRR821581 &lt;int&gt; | SRR821602 &lt;int&gt; | SRR821626 &lt;int&gt; | SRR821653 &lt;int&gt; | SRR821690 &lt;int&gt; | SRR821715 &lt;int&gt; | SRR823967 &lt;int&gt; | SRR823991 &lt;int&gt; | SRR824015 &lt;int&gt; |\n",
       "|---|---|---|---|---|---|---|---|---|---|---|---|---|---|---|---|---|---|---|---|---|\n",
       "| 1 |  0 |   0 |   0 |   0 |   1 |   0 |   0 |   0 |   0 | ⋯ |   0 |  0 |  0 |  0 |   0 |  0 |   0 |  0 |  0 |  0 |\n",
       "| 2 | 26 | 247 | 103 | 620 | 494 | 145 | 145 | 139 | 697 | ⋯ | 151 | 32 | 62 | 48 | 963 | 25 | 196 | 76 | 72 | 61 |\n",
       "| 3 |  1 |   0 |   1 |   0 |   0 |   0 |   1 |   1 |   2 | ⋯ |   2 |  1 |  0 |  1 |   3 |  0 |   1 |  0 |  0 |  0 |\n",
       "| 4 |  0 |   1 |   1 |   2 |   0 |   0 |   1 |   0 |   2 | ⋯ |   0 |  0 |  0 |  0 |   1 |  0 |   0 |  0 |  0 |  0 |\n",
       "| 5 |  3 |   0 |   2 |   3 |   6 |   1 |   1 |   1 |   5 | ⋯ |   3 |  2 |  0 |  1 |   6 |  0 |   2 |  0 |  0 |  0 |\n",
       "| 6 |  2 |   1 |   2 |   5 |   6 |   1 |   1 |   0 |   5 | ⋯ |   1 |  1 |  0 |  0 |   4 |  0 |   1 |  0 |  0 |  0 |\n",
       "\n"
      ],
      "text/plain": [
       "  ID SRR1068788 SRR1068808 SRR1068832 SRR1068855 SRR1068880 SRR1068929\n",
       "1 1   0           0          0          0          1          0       \n",
       "2 2  26         247        103        620        494        145       \n",
       "3 3   1           0          1          0          0          0       \n",
       "4 4   0           1          1          2          0          0       \n",
       "5 5   3           0          2          3          6          1       \n",
       "6 6   2           1          2          5          6          1       \n",
       "  SRR1068953 SRR1068977 SRR1068999 ⋯ SRR821573 SRR821581 SRR821602 SRR821626\n",
       "1   0          0          0        ⋯   0        0         0         0       \n",
       "2 145        139        697        ⋯ 151       32        62        48       \n",
       "3   1          1          2        ⋯   2        1         0         1       \n",
       "4   1          0          2        ⋯   0        0         0         0       \n",
       "5   1          1          5        ⋯   3        2         0         1       \n",
       "6   1          0          5        ⋯   1        1         0         0       \n",
       "  SRR821653 SRR821690 SRR821715 SRR823967 SRR823991 SRR824015\n",
       "1   0        0          0        0         0         0       \n",
       "2 963       25        196       76        72        61       \n",
       "3   3        0          1        0         0         0       \n",
       "4   1        0          0        0         0         0       \n",
       "5   6        0          2        0         0         0       \n",
       "6   4        0          1        0         0         0       "
      ]
     },
     "metadata": {},
     "output_type": "display_data"
    },
    {
     "data": {
      "text/html": [
       "<table>\n",
       "<caption>A data.table: 6 × 8674</caption>\n",
       "<thead>\n",
       "\t<tr><th scope=col>ID</th><th scope=col>SRR1068788</th><th scope=col>SRR1068808</th><th scope=col>SRR1068832</th><th scope=col>SRR1068855</th><th scope=col>SRR1068880</th><th scope=col>SRR1068929</th><th scope=col>SRR1068953</th><th scope=col>SRR1068977</th><th scope=col>SRR1068999</th><th scope=col>⋯</th><th scope=col>SRR821573</th><th scope=col>SRR821581</th><th scope=col>SRR821602</th><th scope=col>SRR821626</th><th scope=col>SRR821653</th><th scope=col>SRR821690</th><th scope=col>SRR821715</th><th scope=col>SRR823967</th><th scope=col>SRR823991</th><th scope=col>SRR824015</th></tr>\n",
       "\t<tr><th scope=col>&lt;int&gt;</th><th scope=col>&lt;int&gt;</th><th scope=col>&lt;int&gt;</th><th scope=col>&lt;int&gt;</th><th scope=col>&lt;int&gt;</th><th scope=col>&lt;int&gt;</th><th scope=col>&lt;int&gt;</th><th scope=col>&lt;int&gt;</th><th scope=col>&lt;int&gt;</th><th scope=col>&lt;int&gt;</th><th scope=col>⋯</th><th scope=col>&lt;int&gt;</th><th scope=col>&lt;int&gt;</th><th scope=col>&lt;int&gt;</th><th scope=col>&lt;int&gt;</th><th scope=col>&lt;int&gt;</th><th scope=col>&lt;int&gt;</th><th scope=col>&lt;int&gt;</th><th scope=col>&lt;int&gt;</th><th scope=col>&lt;int&gt;</th><th scope=col>&lt;int&gt;</th></tr>\n",
       "</thead>\n",
       "<tbody>\n",
       "\t<tr><td>1</td><td> 2</td><td>  0</td><td> 1</td><td>  3</td><td>  6</td><td> 1</td><td> 0</td><td> 0</td><td>  3</td><td>⋯</td><td> 1</td><td> 1</td><td> 0</td><td>0</td><td>  3</td><td>0</td><td> 1</td><td> 0</td><td> 0</td><td> 0</td></tr>\n",
       "\t<tr><td>2</td><td> 0</td><td>  0</td><td> 0</td><td>  1</td><td>  0</td><td> 0</td><td> 1</td><td> 0</td><td>  0</td><td>⋯</td><td> 0</td><td> 0</td><td> 0</td><td>0</td><td>  0</td><td>0</td><td> 0</td><td> 0</td><td> 0</td><td> 0</td></tr>\n",
       "\t<tr><td>3</td><td> 0</td><td>  0</td><td> 0</td><td>  1</td><td>  0</td><td> 0</td><td> 0</td><td> 0</td><td>  0</td><td>⋯</td><td> 0</td><td> 0</td><td> 0</td><td>0</td><td>  0</td><td>0</td><td> 0</td><td> 0</td><td> 0</td><td> 0</td></tr>\n",
       "\t<tr><td>4</td><td> 0</td><td>  0</td><td> 0</td><td>  1</td><td>  0</td><td> 0</td><td> 0</td><td> 0</td><td>  1</td><td>⋯</td><td> 0</td><td> 0</td><td> 0</td><td>0</td><td>  2</td><td>0</td><td> 1</td><td> 0</td><td> 0</td><td> 0</td></tr>\n",
       "\t<tr><td>5</td><td> 0</td><td>  5</td><td> 3</td><td>  8</td><td>  4</td><td> 0</td><td> 3</td><td> 0</td><td>  3</td><td>⋯</td><td> 9</td><td> 3</td><td> 1</td><td>2</td><td>  3</td><td>0</td><td> 1</td><td> 0</td><td> 1</td><td> 0</td></tr>\n",
       "\t<tr><td>6</td><td>11</td><td>119</td><td>36</td><td>284</td><td>207</td><td>60</td><td>63</td><td>43</td><td>295</td><td>⋯</td><td>52</td><td>13</td><td>14</td><td>9</td><td>338</td><td>8</td><td>63</td><td>25</td><td>20</td><td>18</td></tr>\n",
       "</tbody>\n",
       "</table>\n"
      ],
      "text/latex": [
       "A data.table: 6 × 8674\n",
       "\\begin{tabular}{lllllllllllllllllllll}\n",
       " ID & SRR1068788 & SRR1068808 & SRR1068832 & SRR1068855 & SRR1068880 & SRR1068929 & SRR1068953 & SRR1068977 & SRR1068999 & ⋯ & SRR821573 & SRR821581 & SRR821602 & SRR821626 & SRR821653 & SRR821690 & SRR821715 & SRR823967 & SRR823991 & SRR824015\\\\\n",
       " <int> & <int> & <int> & <int> & <int> & <int> & <int> & <int> & <int> & <int> & ⋯ & <int> & <int> & <int> & <int> & <int> & <int> & <int> & <int> & <int> & <int>\\\\\n",
       "\\hline\n",
       "\t 1 &  2 &   0 &  1 &   3 &   6 &  1 &  0 &  0 &   3 & ⋯ &  1 &  1 &  0 & 0 &   3 & 0 &  1 &  0 &  0 &  0\\\\\n",
       "\t 2 &  0 &   0 &  0 &   1 &   0 &  0 &  1 &  0 &   0 & ⋯ &  0 &  0 &  0 & 0 &   0 & 0 &  0 &  0 &  0 &  0\\\\\n",
       "\t 3 &  0 &   0 &  0 &   1 &   0 &  0 &  0 &  0 &   0 & ⋯ &  0 &  0 &  0 & 0 &   0 & 0 &  0 &  0 &  0 &  0\\\\\n",
       "\t 4 &  0 &   0 &  0 &   1 &   0 &  0 &  0 &  0 &   1 & ⋯ &  0 &  0 &  0 & 0 &   2 & 0 &  1 &  0 &  0 &  0\\\\\n",
       "\t 5 &  0 &   5 &  3 &   8 &   4 &  0 &  3 &  0 &   3 & ⋯ &  9 &  3 &  1 & 2 &   3 & 0 &  1 &  0 &  1 &  0\\\\\n",
       "\t 6 & 11 & 119 & 36 & 284 & 207 & 60 & 63 & 43 & 295 & ⋯ & 52 & 13 & 14 & 9 & 338 & 8 & 63 & 25 & 20 & 18\\\\\n",
       "\\end{tabular}\n"
      ],
      "text/markdown": [
       "\n",
       "A data.table: 6 × 8674\n",
       "\n",
       "| ID &lt;int&gt; | SRR1068788 &lt;int&gt; | SRR1068808 &lt;int&gt; | SRR1068832 &lt;int&gt; | SRR1068855 &lt;int&gt; | SRR1068880 &lt;int&gt; | SRR1068929 &lt;int&gt; | SRR1068953 &lt;int&gt; | SRR1068977 &lt;int&gt; | SRR1068999 &lt;int&gt; | ⋯ ⋯ | SRR821573 &lt;int&gt; | SRR821581 &lt;int&gt; | SRR821602 &lt;int&gt; | SRR821626 &lt;int&gt; | SRR821653 &lt;int&gt; | SRR821690 &lt;int&gt; | SRR821715 &lt;int&gt; | SRR823967 &lt;int&gt; | SRR823991 &lt;int&gt; | SRR824015 &lt;int&gt; |\n",
       "|---|---|---|---|---|---|---|---|---|---|---|---|---|---|---|---|---|---|---|---|---|\n",
       "| 1 |  2 |   0 |  1 |   3 |   6 |  1 |  0 |  0 |   3 | ⋯ |  1 |  1 |  0 | 0 |   3 | 0 |  1 |  0 |  0 |  0 |\n",
       "| 2 |  0 |   0 |  0 |   1 |   0 |  0 |  1 |  0 |   0 | ⋯ |  0 |  0 |  0 | 0 |   0 | 0 |  0 |  0 |  0 |  0 |\n",
       "| 3 |  0 |   0 |  0 |   1 |   0 |  0 |  0 |  0 |   0 | ⋯ |  0 |  0 |  0 | 0 |   0 | 0 |  0 |  0 |  0 |  0 |\n",
       "| 4 |  0 |   0 |  0 |   1 |   0 |  0 |  0 |  0 |   1 | ⋯ |  0 |  0 |  0 | 0 |   2 | 0 |  1 |  0 |  0 |  0 |\n",
       "| 5 |  0 |   5 |  3 |   8 |   4 |  0 |  3 |  0 |   3 | ⋯ |  9 |  3 |  1 | 2 |   3 | 0 |  1 |  0 |  1 |  0 |\n",
       "| 6 | 11 | 119 | 36 | 284 | 207 | 60 | 63 | 43 | 295 | ⋯ | 52 | 13 | 14 | 9 | 338 | 8 | 63 | 25 | 20 | 18 |\n",
       "\n"
      ],
      "text/plain": [
       "  ID SRR1068788 SRR1068808 SRR1068832 SRR1068855 SRR1068880 SRR1068929\n",
       "1 1   2           0         1           3          6         1        \n",
       "2 2   0           0         0           1          0         0        \n",
       "3 3   0           0         0           1          0         0        \n",
       "4 4   0           0         0           1          0         0        \n",
       "5 5   0           5         3           8          4         0        \n",
       "6 6  11         119        36         284        207        60        \n",
       "  SRR1068953 SRR1068977 SRR1068999 ⋯ SRR821573 SRR821581 SRR821602 SRR821626\n",
       "1  0          0           3        ⋯  1         1         0        0        \n",
       "2  1          0           0        ⋯  0         0         0        0        \n",
       "3  0          0           0        ⋯  0         0         0        0        \n",
       "4  0          0           1        ⋯  0         0         0        0        \n",
       "5  3          0           3        ⋯  9         3         1        2        \n",
       "6 63         43         295        ⋯ 52        13        14        9        \n",
       "  SRR821653 SRR821690 SRR821715 SRR823967 SRR823991 SRR824015\n",
       "1   3       0          1         0         0         0       \n",
       "2   0       0          0         0         0         0       \n",
       "3   0       0          0         0         0         0       \n",
       "4   2       0          1         0         0         0       \n",
       "5   3       0          1         0         1         0       \n",
       "6 338       8         63        25        20        18       "
      ]
     },
     "metadata": {},
     "output_type": "display_data"
    },
    {
     "data": {
      "text/html": [
       "<table>\n",
       "<caption>A data.table: 2 × 80</caption>\n",
       "<thead>\n",
       "\t<tr><th scope=col>Run</th><th scope=col>analyte_type</th><th scope=col>Assay Type</th><th scope=col>AvgSpotLen</th><th scope=col>Bases</th><th scope=col>BioProject</th><th scope=col>BioSample</th><th scope=col>biospecimen_repository</th><th scope=col>biospecimen_repository_sample_id</th><th scope=col>body_site</th><th scope=col>⋯</th><th scope=col>product_part_number (exp)</th><th scope=col>product_part_number (run)</th><th scope=col>sample_barcode (exp)</th><th scope=col>sample_barcode (run)</th><th scope=col>is_technical_control</th><th scope=col>target_set (exp)</th><th scope=col>primary_disease (exp)</th><th scope=col>secondary_accessions (run)</th><th scope=col>Alignment_Provider (run)</th><th scope=col>SAMPID</th></tr>\n",
       "\t<tr><th scope=col>&lt;chr&gt;</th><th scope=col>&lt;chr&gt;</th><th scope=col>&lt;chr&gt;</th><th scope=col>&lt;int&gt;</th><th scope=col>&lt;int64&gt;</th><th scope=col>&lt;chr&gt;</th><th scope=col>&lt;chr&gt;</th><th scope=col>&lt;chr&gt;</th><th scope=col>&lt;chr&gt;</th><th scope=col>&lt;chr&gt;</th><th scope=col>⋯</th><th scope=col>&lt;chr&gt;</th><th scope=col>&lt;chr&gt;</th><th scope=col>&lt;dbl&gt;</th><th scope=col>&lt;dbl&gt;</th><th scope=col>&lt;chr&gt;</th><th scope=col>&lt;lgl&gt;</th><th scope=col>&lt;chr&gt;</th><th scope=col>&lt;chr&gt;</th><th scope=col>&lt;lgl&gt;</th><th scope=col>&lt;chr&gt;</th></tr>\n",
       "</thead>\n",
       "<tbody>\n",
       "\t<tr><td>SRR2911715</td><td>RNA</td><td>RNA-Seq</td><td>150</td><td>3852895500</td><td>PRJNA244100</td><td>SAMN04216864</td><td>Cloud Testing</td><td>HG00103</td><td>Lymphoblastoid cell line</td><td>⋯</td><td></td><td></td><td>NA</td><td>NA</td><td></td><td>NA</td><td></td><td></td><td>NA</td><td>HG00103</td></tr>\n",
       "\t<tr><td>SRR2911716</td><td>RNA</td><td>RNA-Seq</td><td>150</td><td>4885577400</td><td>PRJNA244100</td><td>SAMN04216866</td><td>Cloud Testing</td><td>HG00154</td><td>Lymphoblastoid cell line</td><td>⋯</td><td></td><td></td><td>NA</td><td>NA</td><td></td><td>NA</td><td></td><td></td><td>NA</td><td>HG00154</td></tr>\n",
       "</tbody>\n",
       "</table>\n"
      ],
      "text/latex": [
       "A data.table: 2 × 80\n",
       "\\begin{tabular}{lllllllllllllllllllll}\n",
       " Run & analyte\\_type & Assay Type & AvgSpotLen & Bases & BioProject & BioSample & biospecimen\\_repository & biospecimen\\_repository\\_sample\\_id & body\\_site & ⋯ & product\\_part\\_number (exp) & product\\_part\\_number (run) & sample\\_barcode (exp) & sample\\_barcode (run) & is\\_technical\\_control & target\\_set (exp) & primary\\_disease (exp) & secondary\\_accessions (run) & Alignment\\_Provider (run) & SAMPID\\\\\n",
       " <chr> & <chr> & <chr> & <int> & <int64> & <chr> & <chr> & <chr> & <chr> & <chr> & ⋯ & <chr> & <chr> & <dbl> & <dbl> & <chr> & <lgl> & <chr> & <chr> & <lgl> & <chr>\\\\\n",
       "\\hline\n",
       "\t SRR2911715 & RNA & RNA-Seq & 150 & 3852895500 & PRJNA244100 & SAMN04216864 & Cloud Testing & HG00103 & Lymphoblastoid cell line & ⋯ &  &  & NA & NA &  & NA &  &  & NA & HG00103\\\\\n",
       "\t SRR2911716 & RNA & RNA-Seq & 150 & 4885577400 & PRJNA244100 & SAMN04216866 & Cloud Testing & HG00154 & Lymphoblastoid cell line & ⋯ &  &  & NA & NA &  & NA &  &  & NA & HG00154\\\\\n",
       "\\end{tabular}\n"
      ],
      "text/markdown": [
       "\n",
       "A data.table: 2 × 80\n",
       "\n",
       "| Run &lt;chr&gt; | analyte_type &lt;chr&gt; | Assay Type &lt;chr&gt; | AvgSpotLen &lt;int&gt; | Bases &lt;int64&gt; | BioProject &lt;chr&gt; | BioSample &lt;chr&gt; | biospecimen_repository &lt;chr&gt; | biospecimen_repository_sample_id &lt;chr&gt; | body_site &lt;chr&gt; | ⋯ ⋯ | product_part_number (exp) &lt;chr&gt; | product_part_number (run) &lt;chr&gt; | sample_barcode (exp) &lt;dbl&gt; | sample_barcode (run) &lt;dbl&gt; | is_technical_control &lt;chr&gt; | target_set (exp) &lt;lgl&gt; | primary_disease (exp) &lt;chr&gt; | secondary_accessions (run) &lt;chr&gt; | Alignment_Provider (run) &lt;lgl&gt; | SAMPID &lt;chr&gt; |\n",
       "|---|---|---|---|---|---|---|---|---|---|---|---|---|---|---|---|---|---|---|---|---|\n",
       "| SRR2911715 | RNA | RNA-Seq | 150 | 3852895500 | PRJNA244100 | SAMN04216864 | Cloud Testing | HG00103 | Lymphoblastoid cell line | ⋯ | <!----> | <!----> | NA | NA | <!----> | NA | <!----> | <!----> | NA | HG00103 |\n",
       "| SRR2911716 | RNA | RNA-Seq | 150 | 4885577400 | PRJNA244100 | SAMN04216866 | Cloud Testing | HG00154 | Lymphoblastoid cell line | ⋯ | <!----> | <!----> | NA | NA | <!----> | NA | <!----> | <!----> | NA | HG00154 |\n",
       "\n"
      ],
      "text/plain": [
       "  Run        analyte_type Assay Type AvgSpotLen Bases      BioProject \n",
       "1 SRR2911715 RNA          RNA-Seq    150        3852895500 PRJNA244100\n",
       "2 SRR2911716 RNA          RNA-Seq    150        4885577400 PRJNA244100\n",
       "  BioSample    biospecimen_repository biospecimen_repository_sample_id\n",
       "1 SAMN04216864 Cloud Testing          HG00103                         \n",
       "2 SAMN04216866 Cloud Testing          HG00154                         \n",
       "  body_site                ⋯ product_part_number (exp)\n",
       "1 Lymphoblastoid cell line ⋯                          \n",
       "2 Lymphoblastoid cell line ⋯                          \n",
       "  product_part_number (run) sample_barcode (exp) sample_barcode (run)\n",
       "1                           NA                   NA                  \n",
       "2                           NA                   NA                  \n",
       "  is_technical_control target_set (exp) primary_disease (exp)\n",
       "1                      NA                                    \n",
       "2                      NA                                    \n",
       "  secondary_accessions (run) Alignment_Provider (run) SAMPID \n",
       "1                            NA                       HG00103\n",
       "2                            NA                       HG00154"
      ]
     },
     "metadata": {},
     "output_type": "display_data"
    },
    {
     "data": {
      "text/html": [
       "<table>\n",
       "<caption>A data.frame: 6 × 67</caption>\n",
       "<thead>\n",
       "\t<tr><th></th><th scope=col>SAMPID</th><th scope=col>SMATSSCR</th><th scope=col>SMCENTER</th><th scope=col>SMPTHNTS</th><th scope=col>SMRIN</th><th scope=col>SMTS</th><th scope=col>SMTSD</th><th scope=col>SMUBRID</th><th scope=col>SMTSISCH</th><th scope=col>SMTSPAX</th><th scope=col>⋯</th><th scope=col>SME1PCTS</th><th scope=col>SMRRNART</th><th scope=col>SME1MPRT</th><th scope=col>SMNUM5CD</th><th scope=col>SMDPMPRT</th><th scope=col>SME2PCTS</th><th scope=col>SUBJID</th><th scope=col>SEX</th><th scope=col>AGE</th><th scope=col>DTHHRDY</th></tr>\n",
       "\t<tr><th></th><th scope=col>&lt;chr&gt;</th><th scope=col>&lt;fct&gt;</th><th scope=col>&lt;fct&gt;</th><th scope=col>&lt;fct&gt;</th><th scope=col>&lt;fct&gt;</th><th scope=col>&lt;fct&gt;</th><th scope=col>&lt;fct&gt;</th><th scope=col>&lt;fct&gt;</th><th scope=col>&lt;fct&gt;</th><th scope=col>&lt;fct&gt;</th><th scope=col>⋯</th><th scope=col>&lt;fct&gt;</th><th scope=col>&lt;fct&gt;</th><th scope=col>&lt;fct&gt;</th><th scope=col>&lt;fct&gt;</th><th scope=col>&lt;fct&gt;</th><th scope=col>&lt;fct&gt;</th><th scope=col>&lt;fct&gt;</th><th scope=col>&lt;fct&gt;</th><th scope=col>&lt;fct&gt;</th><th scope=col>&lt;fct&gt;</th></tr>\n",
       "</thead>\n",
       "<tbody>\n",
       "\t<tr><th scope=row>GTEX-1117F-0226-SM-5GZZ7</th><td>GTEX.1117F.0226.SM.5GZZ7</td><td> 0</td><td>B1</td><td>2 pieces, ~15% vessel stroma, rep delineated                                      </td><td> 6.80000</td><td>Adipose Tissue</td><td>Adipose - Subcutaneous      </td><td>0002190</td><td> 1214</td><td>1125</td><td>⋯</td><td>50.0354</td><td>0.003105380</td><td>0.9947400</td><td>NA</td><td> 0</td><td>50.1944</td><td>GTEX-1117F</td><td>2</td><td>60-69</td><td> 4</td></tr>\n",
       "\t<tr><th scope=row>GTEX-1117F-0426-SM-5EGHI</th><td>GTEX.1117F.0426.SM.5EGHI</td><td> 0</td><td>B1</td><td>2 pieces, !5% fibrous connective tissue, delineated (rep)                         </td><td> 7.10000</td><td>Muscle        </td><td>Muscle - Skeletal           </td><td>0011907</td><td> 1220</td><td>1119</td><td>⋯</td><td>50.2809</td><td>0.006994640</td><td>0.9950410</td><td>NA</td><td> 0</td><td>49.9455</td><td>GTEX-1117F</td><td>2</td><td>60-69</td><td> 4</td></tr>\n",
       "\t<tr><th scope=row>GTEX-1117F-0526-SM-5EGHJ</th><td>GTEX.1117F.0526.SM.5EGHJ</td><td> 0</td><td>B1</td><td>2 pieces, clean, Monckebeg medial sclerosis, rep delineated                       </td><td> 8.00000</td><td>Blood Vessel  </td><td>Artery - Tibial             </td><td>0007610</td><td> 1221</td><td>1120</td><td>⋯</td><td>49.9535</td><td>0.002868260</td><td>0.9940010</td><td>NA</td><td> 0</td><td>50.2667</td><td>GTEX-1117F</td><td>2</td><td>60-69</td><td> 4</td></tr>\n",
       "\t<tr><th scope=row>GTEX-1117F-0626-SM-5N9CS</th><td>GTEX.1117F.0626.SM.5N9CS</td><td> 1</td><td>B1</td><td>2 pieces, up to 4mm aderent fat/nerve/vessel, delineated                          </td><td> 6.90000</td><td>Blood Vessel  </td><td>Artery - Coronary           </td><td>0001621</td><td> 1243</td><td>1098</td><td>⋯</td><td>50.2096</td><td>0.005336530</td><td>0.9922570</td><td>NA</td><td> 0</td><td>50.0865</td><td>GTEX-1117F</td><td>2</td><td>60-69</td><td> 4</td></tr>\n",
       "\t<tr><th scope=row>GTEX-1117F-0726-SM-5GIEN</th><td>GTEX.1117F.0726.SM.5GIEN</td><td> 1</td><td>B1</td><td>2 pieces, no abnormalities                                                        </td><td> 6.30000</td><td>Heart         </td><td>Heart - Atrial Appendage    </td><td>0006631</td><td> 1244</td><td>1097</td><td>⋯</td><td>50.2367</td><td>0.030584100</td><td>0.9957110</td><td>NA</td><td> 0</td><td>49.9563</td><td>GTEX-1117F</td><td>2</td><td>60-69</td><td> 4</td></tr>\n",
       "\t<tr><th scope=row>GTEX-1117F-1326-SM-5EGHH</th><td>GTEX.1117F.1326.SM.5EGHH</td><td> 1</td><td>B1</td><td>2 pieces, diffuse mesothelial hyperplasia; ~10% vessel/fibrous tissue (delineated)</td><td> 5.90000</td><td>Adipose Tissue</td><td>Adipose - Visceral (Omentum)</td><td>0010414</td><td> 1277</td><td>1066</td><td>⋯</td><td>50.0547</td><td>0.010331000</td><td>0.9903780</td><td>NA</td><td> 0</td><td>50.1311</td><td>GTEX-1117F</td><td>2</td><td>60-69</td><td> 4</td></tr>\n",
       "</tbody>\n",
       "</table>\n"
      ],
      "text/latex": [
       "A data.frame: 6 × 67\n",
       "\\begin{tabular}{r|lllllllllllllllllllll}\n",
       "  & SAMPID & SMATSSCR & SMCENTER & SMPTHNTS & SMRIN & SMTS & SMTSD & SMUBRID & SMTSISCH & SMTSPAX & ⋯ & SME1PCTS & SMRRNART & SME1MPRT & SMNUM5CD & SMDPMPRT & SME2PCTS & SUBJID & SEX & AGE & DTHHRDY\\\\\n",
       "  & <chr> & <fct> & <fct> & <fct> & <fct> & <fct> & <fct> & <fct> & <fct> & <fct> & ⋯ & <fct> & <fct> & <fct> & <fct> & <fct> & <fct> & <fct> & <fct> & <fct> & <fct>\\\\\n",
       "\\hline\n",
       "\tGTEX-1117F-0226-SM-5GZZ7 & GTEX.1117F.0226.SM.5GZZ7 &  0 & B1 & 2 pieces, \\textasciitilde{}15\\% vessel stroma, rep delineated                                       &  6.80000 & Adipose Tissue & Adipose - Subcutaneous       & 0002190 &  1214 & 1125 & ⋯ & 50.0354 & 0.003105380 & 0.9947400 & NA &  0 & 50.1944 & GTEX-1117F & 2 & 60-69 &  4\\\\\n",
       "\tGTEX-1117F-0426-SM-5EGHI & GTEX.1117F.0426.SM.5EGHI &  0 & B1 & 2 pieces, !5\\% fibrous connective tissue, delineated (rep)                          &  7.10000 & Muscle         & Muscle - Skeletal            & 0011907 &  1220 & 1119 & ⋯ & 50.2809 & 0.006994640 & 0.9950410 & NA &  0 & 49.9455 & GTEX-1117F & 2 & 60-69 &  4\\\\\n",
       "\tGTEX-1117F-0526-SM-5EGHJ & GTEX.1117F.0526.SM.5EGHJ &  0 & B1 & 2 pieces, clean, Monckebeg medial sclerosis, rep delineated                        &  8.00000 & Blood Vessel   & Artery - Tibial              & 0007610 &  1221 & 1120 & ⋯ & 49.9535 & 0.002868260 & 0.9940010 & NA &  0 & 50.2667 & GTEX-1117F & 2 & 60-69 &  4\\\\\n",
       "\tGTEX-1117F-0626-SM-5N9CS & GTEX.1117F.0626.SM.5N9CS &  1 & B1 & 2 pieces, up to 4mm aderent fat/nerve/vessel, delineated                           &  6.90000 & Blood Vessel   & Artery - Coronary            & 0001621 &  1243 & 1098 & ⋯ & 50.2096 & 0.005336530 & 0.9922570 & NA &  0 & 50.0865 & GTEX-1117F & 2 & 60-69 &  4\\\\\n",
       "\tGTEX-1117F-0726-SM-5GIEN & GTEX.1117F.0726.SM.5GIEN &  1 & B1 & 2 pieces, no abnormalities                                                         &  6.30000 & Heart          & Heart - Atrial Appendage     & 0006631 &  1244 & 1097 & ⋯ & 50.2367 & 0.030584100 & 0.9957110 & NA &  0 & 49.9563 & GTEX-1117F & 2 & 60-69 &  4\\\\\n",
       "\tGTEX-1117F-1326-SM-5EGHH & GTEX.1117F.1326.SM.5EGHH &  1 & B1 & 2 pieces, diffuse mesothelial hyperplasia; \\textasciitilde{}10\\% vessel/fibrous tissue (delineated) &  5.90000 & Adipose Tissue & Adipose - Visceral (Omentum) & 0010414 &  1277 & 1066 & ⋯ & 50.0547 & 0.010331000 & 0.9903780 & NA &  0 & 50.1311 & GTEX-1117F & 2 & 60-69 &  4\\\\\n",
       "\\end{tabular}\n"
      ],
      "text/markdown": [
       "\n",
       "A data.frame: 6 × 67\n",
       "\n",
       "| <!--/--> | SAMPID &lt;chr&gt; | SMATSSCR &lt;fct&gt; | SMCENTER &lt;fct&gt; | SMPTHNTS &lt;fct&gt; | SMRIN &lt;fct&gt; | SMTS &lt;fct&gt; | SMTSD &lt;fct&gt; | SMUBRID &lt;fct&gt; | SMTSISCH &lt;fct&gt; | SMTSPAX &lt;fct&gt; | ⋯ ⋯ | SME1PCTS &lt;fct&gt; | SMRRNART &lt;fct&gt; | SME1MPRT &lt;fct&gt; | SMNUM5CD &lt;fct&gt; | SMDPMPRT &lt;fct&gt; | SME2PCTS &lt;fct&gt; | SUBJID &lt;fct&gt; | SEX &lt;fct&gt; | AGE &lt;fct&gt; | DTHHRDY &lt;fct&gt; |\n",
       "|---|---|---|---|---|---|---|---|---|---|---|---|---|---|---|---|---|---|---|---|---|---|\n",
       "| GTEX-1117F-0226-SM-5GZZ7 | GTEX.1117F.0226.SM.5GZZ7 |  0 | B1 | 2 pieces, ~15% vessel stroma, rep delineated                                       |  6.80000 | Adipose Tissue | Adipose - Subcutaneous       | 0002190 |  1214 | 1125 | ⋯ | 50.0354 | 0.003105380 | 0.9947400 | NA |  0 | 50.1944 | GTEX-1117F | 2 | 60-69 |  4 |\n",
       "| GTEX-1117F-0426-SM-5EGHI | GTEX.1117F.0426.SM.5EGHI |  0 | B1 | 2 pieces, !5% fibrous connective tissue, delineated (rep)                          |  7.10000 | Muscle         | Muscle - Skeletal            | 0011907 |  1220 | 1119 | ⋯ | 50.2809 | 0.006994640 | 0.9950410 | NA |  0 | 49.9455 | GTEX-1117F | 2 | 60-69 |  4 |\n",
       "| GTEX-1117F-0526-SM-5EGHJ | GTEX.1117F.0526.SM.5EGHJ |  0 | B1 | 2 pieces, clean, Monckebeg medial sclerosis, rep delineated                        |  8.00000 | Blood Vessel   | Artery - Tibial              | 0007610 |  1221 | 1120 | ⋯ | 49.9535 | 0.002868260 | 0.9940010 | NA |  0 | 50.2667 | GTEX-1117F | 2 | 60-69 |  4 |\n",
       "| GTEX-1117F-0626-SM-5N9CS | GTEX.1117F.0626.SM.5N9CS |  1 | B1 | 2 pieces, up to 4mm aderent fat/nerve/vessel, delineated                           |  6.90000 | Blood Vessel   | Artery - Coronary            | 0001621 |  1243 | 1098 | ⋯ | 50.2096 | 0.005336530 | 0.9922570 | NA |  0 | 50.0865 | GTEX-1117F | 2 | 60-69 |  4 |\n",
       "| GTEX-1117F-0726-SM-5GIEN | GTEX.1117F.0726.SM.5GIEN |  1 | B1 | 2 pieces, no abnormalities                                                         |  6.30000 | Heart          | Heart - Atrial Appendage     | 0006631 |  1244 | 1097 | ⋯ | 50.2367 | 0.030584100 | 0.9957110 | NA |  0 | 49.9563 | GTEX-1117F | 2 | 60-69 |  4 |\n",
       "| GTEX-1117F-1326-SM-5EGHH | GTEX.1117F.1326.SM.5EGHH |  1 | B1 | 2 pieces, diffuse mesothelial hyperplasia; ~10% vessel/fibrous tissue (delineated) |  5.90000 | Adipose Tissue | Adipose - Visceral (Omentum) | 0010414 |  1277 | 1066 | ⋯ | 50.0547 | 0.010331000 | 0.9903780 | NA |  0 | 50.1311 | GTEX-1117F | 2 | 60-69 |  4 |\n",
       "\n"
      ],
      "text/plain": [
       "                         SAMPID                   SMATSSCR SMCENTER\n",
       "GTEX-1117F-0226-SM-5GZZ7 GTEX.1117F.0226.SM.5GZZ7  0       B1      \n",
       "GTEX-1117F-0426-SM-5EGHI GTEX.1117F.0426.SM.5EGHI  0       B1      \n",
       "GTEX-1117F-0526-SM-5EGHJ GTEX.1117F.0526.SM.5EGHJ  0       B1      \n",
       "GTEX-1117F-0626-SM-5N9CS GTEX.1117F.0626.SM.5N9CS  1       B1      \n",
       "GTEX-1117F-0726-SM-5GIEN GTEX.1117F.0726.SM.5GIEN  1       B1      \n",
       "GTEX-1117F-1326-SM-5EGHH GTEX.1117F.1326.SM.5EGHH  1       B1      \n",
       "                         SMPTHNTS                                                                          \n",
       "GTEX-1117F-0226-SM-5GZZ7 2 pieces, ~15% vessel stroma, rep delineated                                      \n",
       "GTEX-1117F-0426-SM-5EGHI 2 pieces, !5% fibrous connective tissue, delineated (rep)                         \n",
       "GTEX-1117F-0526-SM-5EGHJ 2 pieces, clean, Monckebeg medial sclerosis, rep delineated                       \n",
       "GTEX-1117F-0626-SM-5N9CS 2 pieces, up to 4mm aderent fat/nerve/vessel, delineated                          \n",
       "GTEX-1117F-0726-SM-5GIEN 2 pieces, no abnormalities                                                        \n",
       "GTEX-1117F-1326-SM-5EGHH 2 pieces, diffuse mesothelial hyperplasia; ~10% vessel/fibrous tissue (delineated)\n",
       "                         SMRIN    SMTS           SMTSD                       \n",
       "GTEX-1117F-0226-SM-5GZZ7  6.80000 Adipose Tissue Adipose - Subcutaneous      \n",
       "GTEX-1117F-0426-SM-5EGHI  7.10000 Muscle         Muscle - Skeletal           \n",
       "GTEX-1117F-0526-SM-5EGHJ  8.00000 Blood Vessel   Artery - Tibial             \n",
       "GTEX-1117F-0626-SM-5N9CS  6.90000 Blood Vessel   Artery - Coronary           \n",
       "GTEX-1117F-0726-SM-5GIEN  6.30000 Heart          Heart - Atrial Appendage    \n",
       "GTEX-1117F-1326-SM-5EGHH  5.90000 Adipose Tissue Adipose - Visceral (Omentum)\n",
       "                         SMUBRID SMTSISCH SMTSPAX ⋯ SME1PCTS SMRRNART   \n",
       "GTEX-1117F-0226-SM-5GZZ7 0002190  1214    1125    ⋯ 50.0354  0.003105380\n",
       "GTEX-1117F-0426-SM-5EGHI 0011907  1220    1119    ⋯ 50.2809  0.006994640\n",
       "GTEX-1117F-0526-SM-5EGHJ 0007610  1221    1120    ⋯ 49.9535  0.002868260\n",
       "GTEX-1117F-0626-SM-5N9CS 0001621  1243    1098    ⋯ 50.2096  0.005336530\n",
       "GTEX-1117F-0726-SM-5GIEN 0006631  1244    1097    ⋯ 50.2367  0.030584100\n",
       "GTEX-1117F-1326-SM-5EGHH 0010414  1277    1066    ⋯ 50.0547  0.010331000\n",
       "                         SME1MPRT  SMNUM5CD SMDPMPRT SME2PCTS SUBJID     SEX\n",
       "GTEX-1117F-0226-SM-5GZZ7 0.9947400 NA        0       50.1944  GTEX-1117F 2  \n",
       "GTEX-1117F-0426-SM-5EGHI 0.9950410 NA        0       49.9455  GTEX-1117F 2  \n",
       "GTEX-1117F-0526-SM-5EGHJ 0.9940010 NA        0       50.2667  GTEX-1117F 2  \n",
       "GTEX-1117F-0626-SM-5N9CS 0.9922570 NA        0       50.0865  GTEX-1117F 2  \n",
       "GTEX-1117F-0726-SM-5GIEN 0.9957110 NA        0       49.9563  GTEX-1117F 2  \n",
       "GTEX-1117F-1326-SM-5EGHH 0.9903780 NA        0       50.1311  GTEX-1117F 2  \n",
       "                         AGE   DTHHRDY\n",
       "GTEX-1117F-0226-SM-5GZZ7 60-69  4     \n",
       "GTEX-1117F-0426-SM-5EGHI 60-69  4     \n",
       "GTEX-1117F-0526-SM-5EGHJ 60-69  4     \n",
       "GTEX-1117F-0626-SM-5N9CS 60-69  4     \n",
       "GTEX-1117F-0726-SM-5GIEN 60-69  4     \n",
       "GTEX-1117F-1326-SM-5EGHH 60-69  4     "
      ]
     },
     "metadata": {},
     "output_type": "display_data"
    },
    {
     "data": {
      "text/html": [
       "<style>\n",
       ".list-inline {list-style: none; margin:0; padding: 0}\n",
       ".list-inline>li {display: inline-block}\n",
       ".list-inline>li:not(:last-child)::after {content: \"\\00b7\"; padding: 0 .5ex}\n",
       "</style>\n",
       "<ol class=list-inline><li>42611</li><li>8674</li></ol>\n"
      ],
      "text/latex": [
       "\\begin{enumerate*}\n",
       "\\item 42611\n",
       "\\item 8674\n",
       "\\end{enumerate*}\n"
      ],
      "text/markdown": [
       "1. 42611\n",
       "2. 8674\n",
       "\n",
       "\n"
      ],
      "text/plain": [
       "[1] 42611  8674"
      ]
     },
     "metadata": {},
     "output_type": "display_data"
    },
    {
     "data": {
      "text/html": [
       "<style>\n",
       ".list-inline {list-style: none; margin:0; padding: 0}\n",
       ".list-inline>li {display: inline-block}\n",
       ".list-inline>li:not(:last-child)::after {content: \"\\00b7\"; padding: 0 .5ex}\n",
       "</style>\n",
       "<ol class=list-inline><li>42611</li><li>8674</li></ol>\n"
      ],
      "text/latex": [
       "\\begin{enumerate*}\n",
       "\\item 42611\n",
       "\\item 8674\n",
       "\\end{enumerate*}\n"
      ],
      "text/markdown": [
       "1. 42611\n",
       "2. 8674\n",
       "\n",
       "\n"
      ],
      "text/plain": [
       "[1] 42611  8674"
      ]
     },
     "metadata": {},
     "output_type": "display_data"
    },
    {
     "data": {
      "text/html": [
       "<style>\n",
       ".list-inline {list-style: none; margin:0; padding: 0}\n",
       ".list-inline>li {display: inline-block}\n",
       ".list-inline>li:not(:last-child)::after {content: \"\\00b7\"; padding: 0 .5ex}\n",
       "</style>\n",
       "<ol class=list-inline><li>9784</li><li>80</li></ol>\n"
      ],
      "text/latex": [
       "\\begin{enumerate*}\n",
       "\\item 9784\n",
       "\\item 80\n",
       "\\end{enumerate*}\n"
      ],
      "text/markdown": [
       "1. 9784\n",
       "2. 80\n",
       "\n",
       "\n"
      ],
      "text/plain": [
       "[1] 9784   80"
      ]
     },
     "metadata": {},
     "output_type": "display_data"
    },
    {
     "data": {
      "text/html": [
       "<style>\n",
       ".list-inline {list-style: none; margin:0; padding: 0}\n",
       ".list-inline>li {display: inline-block}\n",
       ".list-inline>li:not(:last-child)::after {content: \"\\00b7\"; padding: 0 .5ex}\n",
       "</style>\n",
       "<ol class=list-inline><li>8653</li><li>67</li></ol>\n"
      ],
      "text/latex": [
       "\\begin{enumerate*}\n",
       "\\item 8653\n",
       "\\item 67\n",
       "\\end{enumerate*}\n"
      ],
      "text/markdown": [
       "1. 8653\n",
       "2. 67\n",
       "\n",
       "\n"
      ],
      "text/plain": [
       "[1] 8653   67"
      ]
     },
     "metadata": {},
     "output_type": "display_data"
    }
   ],
   "source": [
    "head(ijc.iso.counts.mem)\n",
    "head(sjc.iso.counts.mem)\n",
    "head(metadata,2)\n",
    "head(pData(reduced_obj))\n",
    "#dimensions before we make the changes.\n",
    "dim(ijc.iso.counts.mem)\n",
    "dim(sjc.iso.counts.mem)\n",
    "dim(metadata)\n",
    "dim(pData(reduced_obj))"
   ]
  },
  {
   "cell_type": "markdown",
   "metadata": {},
   "source": [
    "## Synchronize metadata samples with ijc sjc samples\n",
    "\n",
    "Keep only the runs that are in the ijc count list (assuming ijc and sjc are the same).  As well, name the rows with the junction id column and then make the matrix just about the counts."
   ]
  },
  {
   "cell_type": "code",
   "execution_count": 81,
   "metadata": {},
   "outputs": [
    {
     "data": {
      "text/html": [
       "<style>\n",
       ".list-inline {list-style: none; margin:0; padding: 0}\n",
       ".list-inline>li {display: inline-block}\n",
       ".list-inline>li:not(:last-child)::after {content: \"\\00b7\"; padding: 0 .5ex}\n",
       "</style>\n",
       "<ol class=list-inline><li>42611</li><li>8672</li></ol>\n"
      ],
      "text/latex": [
       "\\begin{enumerate*}\n",
       "\\item 42611\n",
       "\\item 8672\n",
       "\\end{enumerate*}\n"
      ],
      "text/markdown": [
       "1. 42611\n",
       "2. 8672\n",
       "\n",
       "\n"
      ],
      "text/plain": [
       "[1] 42611  8672"
      ]
     },
     "metadata": {},
     "output_type": "display_data"
    },
    {
     "data": {
      "text/html": [
       "<style>\n",
       ".list-inline {list-style: none; margin:0; padding: 0}\n",
       ".list-inline>li {display: inline-block}\n",
       ".list-inline>li:not(:last-child)::after {content: \"\\00b7\"; padding: 0 .5ex}\n",
       "</style>\n",
       "<ol class=list-inline><li>42611</li><li>8672</li></ol>\n"
      ],
      "text/latex": [
       "\\begin{enumerate*}\n",
       "\\item 42611\n",
       "\\item 8672\n",
       "\\end{enumerate*}\n"
      ],
      "text/markdown": [
       "1. 42611\n",
       "2. 8672\n",
       "\n",
       "\n"
      ],
      "text/plain": [
       "[1] 42611  8672"
      ]
     },
     "metadata": {},
     "output_type": "display_data"
    }
   ],
   "source": [
    "# preserve junction id as rowname\n",
    "rownames(ijc.iso.counts.mem) <- ijc.iso.counts.mem$ID\n",
    "rownames(sjc.iso.counts.mem) <- sjc.iso.counts.mem$ID\n",
    "\n",
    "# and remove the id to have a data matrix\n",
    "ijc.iso.counts.mem  <- ijc.iso.counts.mem[,-1]\n",
    "sjc.iso.counts.mem  <- sjc.iso.counts.mem[,-1]\n",
    "\n",
    "dim(ijc.iso.counts.mem)\n",
    "dim(sjc.iso.counts.mem)"
   ]
  },
  {
   "cell_type": "code",
   "execution_count": 82,
   "metadata": {},
   "outputs": [
    {
     "data": {
      "text/html": [
       "24667"
      ],
      "text/latex": [
       "24667"
      ],
      "text/markdown": [
       "24667"
      ],
      "text/plain": [
       "[1] 24667"
      ]
     },
     "metadata": {},
     "output_type": "display_data"
    },
    {
     "data": {
      "text/html": [
       "8672"
      ],
      "text/latex": [
       "8672"
      ],
      "text/markdown": [
       "8672"
      ],
      "text/plain": [
       "[1] 8672"
      ]
     },
     "metadata": {},
     "output_type": "display_data"
    },
    {
     "data": {
      "text/html": [
       "<style>\n",
       ".list-inline {list-style: none; margin:0; padding: 0}\n",
       ".list-inline>li {display: inline-block}\n",
       ".list-inline>li:not(:last-child)::after {content: \"\\00b7\"; padding: 0 .5ex}\n",
       "</style>\n",
       "<ol class=list-inline><li>'SRR627453'</li><li>'SRR627455'</li><li>'SRR627457'</li><li>'SRR627459'</li><li>'SRR627462'</li><li>'SRR627464'</li></ol>\n"
      ],
      "text/latex": [
       "\\begin{enumerate*}\n",
       "\\item 'SRR627453'\n",
       "\\item 'SRR627455'\n",
       "\\item 'SRR627457'\n",
       "\\item 'SRR627459'\n",
       "\\item 'SRR627462'\n",
       "\\item 'SRR627464'\n",
       "\\end{enumerate*}\n"
      ],
      "text/markdown": [
       "1. 'SRR627453'\n",
       "2. 'SRR627455'\n",
       "3. 'SRR627457'\n",
       "4. 'SRR627459'\n",
       "5. 'SRR627462'\n",
       "6. 'SRR627464'\n",
       "\n",
       "\n"
      ],
      "text/plain": [
       "[1] \"SRR627453\" \"SRR627455\" \"SRR627457\" \"SRR627459\" \"SRR627462\" \"SRR627464\""
      ]
     },
     "metadata": {},
     "output_type": "display_data"
    },
    {
     "data": {
      "text/html": [
       "<style>\n",
       ".list-inline {list-style: none; margin:0; padding: 0}\n",
       ".list-inline>li {display: inline-block}\n",
       ".list-inline>li:not(:last-child)::after {content: \"\\00b7\"; padding: 0 .5ex}\n",
       "</style>\n",
       "<ol class=list-inline><li>'SRR821653'</li><li>'SRR821690'</li><li>'SRR821715'</li><li>'SRR823967'</li><li>'SRR823991'</li><li>'SRR824015'</li></ol>\n"
      ],
      "text/latex": [
       "\\begin{enumerate*}\n",
       "\\item 'SRR821653'\n",
       "\\item 'SRR821690'\n",
       "\\item 'SRR821715'\n",
       "\\item 'SRR823967'\n",
       "\\item 'SRR823991'\n",
       "\\item 'SRR824015'\n",
       "\\end{enumerate*}\n"
      ],
      "text/markdown": [
       "1. 'SRR821653'\n",
       "2. 'SRR821690'\n",
       "3. 'SRR821715'\n",
       "4. 'SRR823967'\n",
       "5. 'SRR823991'\n",
       "6. 'SRR824015'\n",
       "\n",
       "\n"
      ],
      "text/plain": [
       "[1] \"SRR821653\" \"SRR821690\" \"SRR821715\" \"SRR823967\" \"SRR823991\" \"SRR824015\""
      ]
     },
     "metadata": {},
     "output_type": "display_data"
    },
    {
     "name": "stderr",
     "output_type": "stream",
     "text": [
      "The non-overlapping IDs between pheno and count data are:\n",
      "\n",
      "15995\n"
     ]
    },
    {
     "data": {
      "text/html": [
       "24667"
      ],
      "text/latex": [
       "24667"
      ],
      "text/markdown": [
       "24667"
      ],
      "text/plain": [
       "[1] 24667"
      ]
     },
     "metadata": {},
     "output_type": "display_data"
    },
    {
     "data": {
      "text/plain": [
       "logical_match_names\n",
       "FALSE  TRUE \n",
       "15995  8672 "
      ]
     },
     "metadata": {},
     "output_type": "display_data"
    },
    {
     "data": {
      "text/html": [
       "<style>\n",
       ".list-inline {list-style: none; margin:0; padding: 0}\n",
       ".list-inline>li {display: inline-block}\n",
       ".list-inline>li:not(:last-child)::after {content: \"\\00b7\"; padding: 0 .5ex}\n",
       "</style>\n",
       "<ol class=list-inline><li>8672</li><li>79</li></ol>\n"
      ],
      "text/latex": [
       "\\begin{enumerate*}\n",
       "\\item 8672\n",
       "\\item 79\n",
       "\\end{enumerate*}\n"
      ],
      "text/markdown": [
       "1. 8672\n",
       "2. 79\n",
       "\n",
       "\n"
      ],
      "text/plain": [
       "[1] 8672   79"
      ]
     },
     "metadata": {},
     "output_type": "display_data"
    },
    {
     "data": {
      "text/html": [
       "<style>\n",
       ".list-inline {list-style: none; margin:0; padding: 0}\n",
       ".list-inline>li {display: inline-block}\n",
       ".list-inline>li:not(:last-child)::after {content: \"\\00b7\"; padding: 0 .5ex}\n",
       "</style>\n",
       "<ol class=list-inline><li>42611</li><li>8672</li></ol>\n"
      ],
      "text/latex": [
       "\\begin{enumerate*}\n",
       "\\item 42611\n",
       "\\item 8672\n",
       "\\end{enumerate*}\n"
      ],
      "text/markdown": [
       "1. 42611\n",
       "2. 8672\n",
       "\n",
       "\n"
      ],
      "text/plain": [
       "[1] 42611  8672"
      ]
     },
     "metadata": {},
     "output_type": "display_data"
    }
   ],
   "source": [
    "# the sample names are in the columns of both the ijc and the sjc matrices, these matrices have the identical column order)\n",
    "metadata <- data.table::fread(\"../data/SraRunTable.txt.gz\")\n",
    "ijc_run_names <- as.vector(as.character(colnames(ijc.iso.counts.mem)))\n",
    "run_names     <- as.vector(as.character(metadata$Run))\n",
    "\n",
    "if (length(run_names) > length(ijc_run_names)) {\n",
    "    superset <- run_names\n",
    "    subset   <- ijc_run_names    \n",
    "} \n",
    "\n",
    "if (length(run_names) < length(ijc_run_names)) {\n",
    "    superset <- ijc_run_names\n",
    "    subset   <- run_names   \n",
    "} \n",
    "\n",
    "length(superset)\n",
    "length(subset)\n",
    "tail(superset)\n",
    "tail(subset)\n",
    "non_overlaps <- setdiff( superset, subset)\n",
    "\n",
    "message(\"The non-overlapping IDs between pheno and count data are:\\n\\n\", \n",
    "        paste(length(non_overlaps), collapse = \"\\n\") )\n",
    "\n",
    "logical_match_names=superset %in% subset\n",
    "\n",
    "length(logical_match_names)\n",
    "table(logical_match_names)\n",
    "\n",
    "reduced_metadata <- metadata[logical_match_names==TRUE,]\n",
    "dim(reduced_metadata)\n",
    "\n",
    "dim(ijc.iso.counts.mem)"
   ]
  },
  {
   "cell_type": "markdown",
   "metadata": {},
   "source": [
    "### keep only those values for which we have phenotype data \n",
    "Samples were resequenced, which is shown since we have the previous step saw no reduction in information - but we are using the yarn function to correct for errors in the GTEx data set.\n",
    "\n",
    "To deal with this, we make the metadata unique per sample, rather than unique per run -- there are a little over 100 runs that are more than one sequencing run for a sample.\n",
    "\n",
    "There are in fact 64 samples which have more than 1 run, 17 samples that have 2 sequencing runs and 47 samples that have 3 sequencing runs.\n"
   ]
  },
  {
   "cell_type": "code",
   "execution_count": null,
   "metadata": {},
   "outputs": [],
   "source": []
  },
  {
   "cell_type": "code",
   "execution_count": 83,
   "metadata": {},
   "outputs": [
    {
     "data": {
      "text/html": [
       "0"
      ],
      "text/latex": [
       "0"
      ],
      "text/markdown": [
       "0"
      ],
      "text/plain": [
       "[1] 0"
      ]
     },
     "metadata": {},
     "output_type": "display_data"
    },
    {
     "data": {
      "text/html": [
       "0"
      ],
      "text/latex": [
       "0"
      ],
      "text/markdown": [
       "0"
      ],
      "text/plain": [
       "[1] 0"
      ]
     },
     "metadata": {},
     "output_type": "display_data"
    },
    {
     "data": {
      "text/html": [
       "8672"
      ],
      "text/latex": [
       "8672"
      ],
      "text/markdown": [
       "8672"
      ],
      "text/plain": [
       "[1] 8672"
      ]
     },
     "metadata": {},
     "output_type": "display_data"
    },
    {
     "data": {
      "text/html": [
       "8672"
      ],
      "text/latex": [
       "8672"
      ],
      "text/markdown": [
       "8672"
      ],
      "text/plain": [
       "[1] 8672"
      ]
     },
     "metadata": {},
     "output_type": "display_data"
    },
    {
     "data": {
      "text/plain": [
       "< table of extent 0 >"
      ]
     },
     "metadata": {},
     "output_type": "display_data"
    },
    {
     "data": {
      "text/html": [
       "0"
      ],
      "text/latex": [
       "0"
      ],
      "text/markdown": [
       "0"
      ],
      "text/plain": [
       "[1] 0"
      ]
     },
     "metadata": {},
     "output_type": "display_data"
    }
   ],
   "source": [
    "length(unique(reduced_metadata$SAMPID))\n",
    "length(reduced_metadata$SAMPID)\n",
    "length(unique(reduced_metadata$Run))\n",
    "length(reduced_metadata$Run)\n",
    "\n",
    "# 64 samples which have more than 1 run, \n",
    "# 17 samples that have 2 sequencing runs and \n",
    "# 47 samples that have 3 sequencing runs.\n",
    "# as the following three commands illustrate\n",
    "# we use t (which is the number of runs per sample) as the index\n",
    "# to reduce the table\n",
    "unique_index <- unique(reduced_metadata$SAMPID)\n",
    "t <- table(reduced_metadata$SAMPID)\n",
    "table((t[t>1]))\n",
    "names_gt_1 <- names(table(t[t>1]))\n",
    "length(unique_index)\n"
   ]
  },
  {
   "cell_type": "markdown",
   "metadata": {},
   "source": [
    "### Now we need to reduce the metadata to the unique samples\n",
    "We will use the first occurance of the sample, got the idea from here https://stackoverflow.com/questions/19944334/extract-rows-for-the-first-occurrence-of-a-variable-in-a-data-frame"
   ]
  },
  {
   "cell_type": "code",
   "execution_count": 74,
   "metadata": {},
   "outputs": [
    {
     "data": {
      "text/html": [
       "<style>\n",
       ".list-inline {list-style: none; margin:0; padding: 0}\n",
       ".list-inline>li {display: inline-block}\n",
       ".list-inline>li:not(:last-child)::after {content: \"\\00b7\"; padding: 0 .5ex}\n",
       "</style>\n",
       "<ol class=list-inline><li>8562</li><li>80</li></ol>\n"
      ],
      "text/latex": [
       "\\begin{enumerate*}\n",
       "\\item 8562\n",
       "\\item 80\n",
       "\\end{enumerate*}\n"
      ],
      "text/markdown": [
       "1. 8562\n",
       "2. 80\n",
       "\n",
       "\n"
      ],
      "text/plain": [
       "[1] 8562   80"
      ]
     },
     "metadata": {},
     "output_type": "display_data"
    }
   ],
   "source": [
    "reduced_metadata_first <- reduced_metadata[match(unique(reduced_metadata$SAMPID), reduced_metadata$SAMPID),]\n",
    "dim(reduced_metadata_first)"
   ]
  },
  {
   "cell_type": "markdown",
   "metadata": {},
   "source": [
    "### Now adjust the count matrices\n",
    "Now that we see that we have multiple runs per sample (and an improvement here would be to use the sample with the best results or RIN number which isn't in the annotation data...."
   ]
  },
  {
   "cell_type": "code",
   "execution_count": 79,
   "metadata": {},
   "outputs": [
    {
     "data": {
      "text/html": [
       "8674"
      ],
      "text/latex": [
       "8674"
      ],
      "text/markdown": [
       "8674"
      ],
      "text/plain": [
       "[1] 8674"
      ]
     },
     "metadata": {},
     "output_type": "display_data"
    },
    {
     "data": {
      "text/html": [
       "8562"
      ],
      "text/latex": [
       "8562"
      ],
      "text/markdown": [
       "8562"
      ],
      "text/plain": [
       "[1] 8562"
      ]
     },
     "metadata": {},
     "output_type": "display_data"
    },
    {
     "data": {
      "text/html": [
       "<style>\n",
       ".list-inline {list-style: none; margin:0; padding: 0}\n",
       ".list-inline>li {display: inline-block}\n",
       ".list-inline>li:not(:last-child)::after {content: \"\\00b7\"; padding: 0 .5ex}\n",
       "</style>\n",
       "<ol class=list-inline><li>'SRR821653'</li><li>'SRR821690'</li><li>'SRR821715'</li><li>'SRR823967'</li><li>'SRR823991'</li><li>'SRR824015'</li></ol>\n"
      ],
      "text/latex": [
       "\\begin{enumerate*}\n",
       "\\item 'SRR821653'\n",
       "\\item 'SRR821690'\n",
       "\\item 'SRR821715'\n",
       "\\item 'SRR823967'\n",
       "\\item 'SRR823991'\n",
       "\\item 'SRR824015'\n",
       "\\end{enumerate*}\n"
      ],
      "text/markdown": [
       "1. 'SRR821653'\n",
       "2. 'SRR821690'\n",
       "3. 'SRR821715'\n",
       "4. 'SRR823967'\n",
       "5. 'SRR823991'\n",
       "6. 'SRR824015'\n",
       "\n",
       "\n"
      ],
      "text/plain": [
       "[1] \"SRR821653\" \"SRR821690\" \"SRR821715\" \"SRR823967\" \"SRR823991\" \"SRR824015\""
      ]
     },
     "metadata": {},
     "output_type": "display_data"
    },
    {
     "data": {
      "text/html": [
       "<style>\n",
       ".list-inline {list-style: none; margin:0; padding: 0}\n",
       ".list-inline>li {display: inline-block}\n",
       ".list-inline>li:not(:last-child)::after {content: \"\\00b7\"; padding: 0 .5ex}\n",
       "</style>\n",
       "<ol class=list-inline><li>'SRR615946'</li><li>'SRR615958'</li><li>'SRR615970'</li><li>'SRR615982'</li><li>'SRR617829'</li><li>'SRR617841'</li></ol>\n"
      ],
      "text/latex": [
       "\\begin{enumerate*}\n",
       "\\item 'SRR615946'\n",
       "\\item 'SRR615958'\n",
       "\\item 'SRR615970'\n",
       "\\item 'SRR615982'\n",
       "\\item 'SRR617829'\n",
       "\\item 'SRR617841'\n",
       "\\end{enumerate*}\n"
      ],
      "text/markdown": [
       "1. 'SRR615946'\n",
       "2. 'SRR615958'\n",
       "3. 'SRR615970'\n",
       "4. 'SRR615982'\n",
       "5. 'SRR617829'\n",
       "6. 'SRR617841'\n",
       "\n",
       "\n"
      ],
      "text/plain": [
       "[1] \"SRR615946\" \"SRR615958\" \"SRR615970\" \"SRR615982\" \"SRR617829\" \"SRR617841\""
      ]
     },
     "metadata": {},
     "output_type": "display_data"
    },
    {
     "name": "stderr",
     "output_type": "stream",
     "text": [
      "The non-overlapping IDs between pheno and count data are:\n",
      "\n",
      "112\n"
     ]
    },
    {
     "data": {
      "text/html": [
       "8674"
      ],
      "text/latex": [
       "8674"
      ],
      "text/markdown": [
       "8674"
      ],
      "text/plain": [
       "[1] 8674"
      ]
     },
     "metadata": {},
     "output_type": "display_data"
    },
    {
     "data": {
      "text/plain": [
       "logical_match_names\n",
       "FALSE  TRUE \n",
       "  112  8562 "
      ]
     },
     "metadata": {},
     "output_type": "display_data"
    },
    {
     "data": {
      "text/html": [
       "<style>\n",
       ".list-inline {list-style: none; margin:0; padding: 0}\n",
       ".list-inline>li {display: inline-block}\n",
       ".list-inline>li:not(:last-child)::after {content: \"\\00b7\"; padding: 0 .5ex}\n",
       "</style>\n",
       "<ol class=list-inline><li>42611</li><li>8674</li></ol>\n"
      ],
      "text/latex": [
       "\\begin{enumerate*}\n",
       "\\item 42611\n",
       "\\item 8674\n",
       "\\end{enumerate*}\n"
      ],
      "text/markdown": [
       "1. 42611\n",
       "2. 8674\n",
       "\n",
       "\n"
      ],
      "text/plain": [
       "[1] 42611  8674"
      ]
     },
     "metadata": {},
     "output_type": "display_data"
    },
    {
     "data": {
      "text/html": [
       "<style>\n",
       ".list-inline {list-style: none; margin:0; padding: 0}\n",
       ".list-inline>li {display: inline-block}\n",
       ".list-inline>li:not(:last-child)::after {content: \"\\00b7\"; padding: 0 .5ex}\n",
       "</style>\n",
       "<ol class=list-inline><li>42611</li><li>8674</li></ol>\n"
      ],
      "text/latex": [
       "\\begin{enumerate*}\n",
       "\\item 42611\n",
       "\\item 8674\n",
       "\\end{enumerate*}\n"
      ],
      "text/markdown": [
       "1. 42611\n",
       "2. 8674\n",
       "\n",
       "\n"
      ],
      "text/plain": [
       "[1] 42611  8674"
      ]
     },
     "metadata": {},
     "output_type": "display_data"
    },
    {
     "data": {
      "text/plain": [
       "NULL"
      ]
     },
     "metadata": {},
     "output_type": "display_data"
    },
    {
     "data": {
      "text/plain": [
       "NULL"
      ]
     },
     "metadata": {},
     "output_type": "display_data"
    }
   ],
   "source": [
    "run_names <- as.vector(as.character(reduced_metadata_first$Run))\n",
    "ijc_run_names <- as.vector(as.character(colnames(ijc.iso.counts.mem)))\n",
    "\n",
    "if (length(run_names) > length(ijc_run_names)) {\n",
    "    superset <- run_names\n",
    "    subset   <- ijc_run_names    \n",
    "} \n",
    "\n",
    "if (length(run_names) < length(ijc_run_names)) {\n",
    "    superset <- ijc_run_names\n",
    "    subset   <- run_names   \n",
    "} \n",
    "\n",
    "length(superset)\n",
    "length(subset)\n",
    "tail(superset)\n",
    "tail(subset)\n",
    "non_overlaps <- setdiff( superset, subset)\n",
    "\n",
    "message(\"The non-overlapping IDs between pheno and count data are:\\n\\n\", \n",
    "        paste(length(non_overlaps), collapse = \"\\n\") )\n",
    "\n",
    "logical_match_names= ijc_run_names %in% run_names\n",
    "\n",
    "length(logical_match_names)\n",
    "table(logical_match_names)\n",
    "\n",
    "ijc.iso.counts.mem2 <- ijc.iso.counts.mem[,logical_match_names==TRUE]\n",
    "sjc.iso.counts.mem2 <- sjc.iso.counts.mem[,logical_match_names==TRUE]\n",
    "dim(ijc.iso.counts.mem)\n",
    "dim(sjc.iso.counts.mem)\n",
    "dim(ijc.iso.counts.mem2)\n",
    "dim(sjc.iso.counts.mem2)"
   ]
  },
  {
   "cell_type": "code",
   "execution_count": 37,
   "metadata": {},
   "outputs": [
    {
     "data": {
      "text/html": [
       "<style>\n",
       ".list-inline {list-style: none; margin:0; padding: 0}\n",
       ".list-inline>li {display: inline-block}\n",
       ".list-inline>li:not(:last-child)::after {content: \"\\00b7\"; padding: 0 .5ex}\n",
       "</style>\n",
       "<ol class=list-inline><li>'GTEX.ZZPU.1826.SM.5E43L'</li><li>'GTEX.ZZPU.2126.SM.5EGIU'</li><li>'GTEX.ZZPU.2226.SM.5EGIV'</li><li>'GTEX.ZZPU.2426.SM.5E44I'</li><li>'GTEX.ZZPU.2626.SM.5E45Y'</li><li>'GTEX.ZZPU.2726.SM.5NQ8O'</li></ol>\n"
      ],
      "text/latex": [
       "\\begin{enumerate*}\n",
       "\\item 'GTEX.ZZPU.1826.SM.5E43L'\n",
       "\\item 'GTEX.ZZPU.2126.SM.5EGIU'\n",
       "\\item 'GTEX.ZZPU.2226.SM.5EGIV'\n",
       "\\item 'GTEX.ZZPU.2426.SM.5E44I'\n",
       "\\item 'GTEX.ZZPU.2626.SM.5E45Y'\n",
       "\\item 'GTEX.ZZPU.2726.SM.5NQ8O'\n",
       "\\end{enumerate*}\n"
      ],
      "text/markdown": [
       "1. 'GTEX.ZZPU.1826.SM.5E43L'\n",
       "2. 'GTEX.ZZPU.2126.SM.5EGIU'\n",
       "3. 'GTEX.ZZPU.2226.SM.5EGIV'\n",
       "4. 'GTEX.ZZPU.2426.SM.5E44I'\n",
       "5. 'GTEX.ZZPU.2626.SM.5E45Y'\n",
       "6. 'GTEX.ZZPU.2726.SM.5NQ8O'\n",
       "\n",
       "\n"
      ],
      "text/plain": [
       "[1] \"GTEX.ZZPU.1826.SM.5E43L\" \"GTEX.ZZPU.2126.SM.5EGIU\"\n",
       "[3] \"GTEX.ZZPU.2226.SM.5EGIV\" \"GTEX.ZZPU.2426.SM.5E44I\"\n",
       "[5] \"GTEX.ZZPU.2626.SM.5E45Y\" \"GTEX.ZZPU.2726.SM.5NQ8O\""
      ]
     },
     "metadata": {},
     "output_type": "display_data"
    },
    {
     "data": {
      "text/html": [
       "<style>\n",
       ".list-inline {list-style: none; margin:0; padding: 0}\n",
       ".list-inline>li {display: inline-block}\n",
       ".list-inline>li:not(:last-child)::after {content: \"\\00b7\"; padding: 0 .5ex}\n",
       "</style>\n",
       "<ol class=list-inline><li>'GTEX.P4PP.0226.SM.2S1NN'</li><li>'GTEX.R55G.2526.SM.2TC6D'</li><li>'GTEX.RN64.0826.SM.2TC62'</li><li>'GTEX.NFK9.0526.SM.2YUNL'</li><li>'GTEX.QDVN.2426.SM.2S1Q4'</li><li>'GTEX.RTLS.0226.SM.2TF5E'</li></ol>\n"
      ],
      "text/latex": [
       "\\begin{enumerate*}\n",
       "\\item 'GTEX.P4PP.0226.SM.2S1NN'\n",
       "\\item 'GTEX.R55G.2526.SM.2TC6D'\n",
       "\\item 'GTEX.RN64.0826.SM.2TC62'\n",
       "\\item 'GTEX.NFK9.0526.SM.2YUNL'\n",
       "\\item 'GTEX.QDVN.2426.SM.2S1Q4'\n",
       "\\item 'GTEX.RTLS.0226.SM.2TF5E'\n",
       "\\end{enumerate*}\n"
      ],
      "text/markdown": [
       "1. 'GTEX.P4PP.0226.SM.2S1NN'\n",
       "2. 'GTEX.R55G.2526.SM.2TC6D'\n",
       "3. 'GTEX.RN64.0826.SM.2TC62'\n",
       "4. 'GTEX.NFK9.0526.SM.2YUNL'\n",
       "5. 'GTEX.QDVN.2426.SM.2S1Q4'\n",
       "6. 'GTEX.RTLS.0226.SM.2TF5E'\n",
       "\n",
       "\n"
      ],
      "text/plain": [
       "[1] \"GTEX.P4PP.0226.SM.2S1NN\" \"GTEX.R55G.2526.SM.2TC6D\"\n",
       "[3] \"GTEX.RN64.0826.SM.2TC62\" \"GTEX.NFK9.0526.SM.2YUNL\"\n",
       "[5] \"GTEX.QDVN.2426.SM.2S1Q4\" \"GTEX.RTLS.0226.SM.2TF5E\""
      ]
     },
     "metadata": {},
     "output_type": "display_data"
    },
    {
     "name": "stderr",
     "output_type": "stream",
     "text": [
      "The number of non-overlapping IDs between pheno and count data are:\n",
      "\n",
      "9615\n"
     ]
    },
    {
     "data": {
      "text/html": [
       "17382"
      ],
      "text/latex": [
       "17382"
      ],
      "text/markdown": [
       "17382"
      ],
      "text/plain": [
       "[1] 17382"
      ]
     },
     "metadata": {},
     "output_type": "display_data"
    },
    {
     "data": {
      "text/plain": [
       "logical_match_names\n",
       "FALSE  TRUE \n",
       " 9615  7767 "
      ]
     },
     "metadata": {},
     "output_type": "display_data"
    },
    {
     "data": {
      "text/html": [
       "<style>\n",
       ".dl-inline {width: auto; margin:0; padding: 0}\n",
       ".dl-inline>dt, .dl-inline>dd {float: none; width: auto; display: inline-block}\n",
       ".dl-inline>dt::after {content: \":\\0020\"; padding-right: .5ex}\n",
       ".dl-inline>dt:not(:first-of-type) {padding-left: .5ex}\n",
       "</style><dl class=dl-inline><dt>Features</dt><dd>55878</dd><dt>Samples</dt><dd>7767</dd></dl>\n"
      ],
      "text/latex": [
       "\\begin{description*}\n",
       "\\item[Features] 55878\n",
       "\\item[Samples] 7767\n",
       "\\end{description*}\n"
      ],
      "text/markdown": [
       "Features\n",
       ":   55878Samples\n",
       ":   7767\n",
       "\n"
      ],
      "text/plain": [
       "Features  Samples \n",
       "   55878     7767 "
      ]
     },
     "metadata": {},
     "output_type": "display_data"
    },
    {
     "data": {
      "text/html": [
       "<style>\n",
       ".list-inline {list-style: none; margin:0; padding: 0}\n",
       ".list-inline>li {display: inline-block}\n",
       ".list-inline>li:not(:last-child)::after {content: \"\\00b7\"; padding: 0 .5ex}\n",
       "</style>\n",
       "<ol class=list-inline><li>7767</li><li>67</li></ol>\n"
      ],
      "text/latex": [
       "\\begin{enumerate*}\n",
       "\\item 7767\n",
       "\\item 67\n",
       "\\end{enumerate*}\n"
      ],
      "text/markdown": [
       "1. 7767\n",
       "2. 67\n",
       "\n",
       "\n"
      ],
      "text/plain": [
       "[1] 7767   67"
      ]
     },
     "metadata": {},
     "output_type": "display_data"
    },
    {
     "data": {
      "text/html": [
       "<style>\n",
       ".list-inline {list-style: none; margin:0; padding: 0}\n",
       ".list-inline>li {display: inline-block}\n",
       ".list-inline>li:not(:last-child)::after {content: \"\\00b7\"; padding: 0 .5ex}\n",
       "</style>\n",
       "<ol class=list-inline><li>55878</li><li>7767</li></ol>\n"
      ],
      "text/latex": [
       "\\begin{enumerate*}\n",
       "\\item 55878\n",
       "\\item 7767\n",
       "\\end{enumerate*}\n"
      ],
      "text/markdown": [
       "1. 55878\n",
       "2. 7767\n",
       "\n",
       "\n"
      ],
      "text/plain": [
       "[1] 55878  7767"
      ]
     },
     "metadata": {},
     "output_type": "display_data"
    }
   ],
   "source": [
    "reduced_metadata$SAMPID   <- gsub('-','\\\\.',reduced_metadata$'Sample Name')\n",
    "pData(obj)$SAMPID <- gsub('-','\\\\.',pData(obj)$SAMPID)\n",
    "\n",
    "sample_names          = as.vector(as.character(pData(obj)$SAMPID))\n",
    "metadata_sample_names = as.vector(as.character(reduced_metadata$SAMPID))\n",
    "\n",
    "tail(sample_names)\n",
    "tail(metadata_sample_names)\n",
    "\n",
    "if (length(metadata_sample_names) > length(sample_names)) {\n",
    "    superset <- metadata_sample_names\n",
    "    subset   <- sample_names    \n",
    "} \n",
    "\n",
    "if (length(metadata_sample_names) < length(sample_names)) {\n",
    "    superset <- sample_names\n",
    "    subset   <- metadata_sample_names   \n",
    "} \n",
    "\n",
    "non_overlaps <- setdiff( superset, subset)\n",
    "\n",
    "message(\"The number of non-overlapping IDs between pheno and count data are:\\n\\n\", \n",
    "        paste(length(non_overlaps), collapse = \"\\n\") )\n",
    "\n",
    "logical_match_names=superset %in% subset\n",
    "length(logical_match_names)\n",
    "table(logical_match_names)\n",
    "\n",
    "reduced_obj2 <- obj[,logical_match_names==TRUE]\n",
    "\n",
    "# now we have the reduced_obj2 which will contain all the yarn phenotypes that match our samples \n",
    "# there is data loss here (unfortunately) because the annotation information does not 100% match\n",
    "# our samples which were retrieved from the SRA dbGaP GTEx data\n",
    "# \n",
    "dim(reduced_obj2)\n",
    "dim(pData(reduced_obj2))\n",
    "dim(exprs(reduced_obj2))"
   ]
  },
  {
   "cell_type": "code",
   "execution_count": 59,
   "metadata": {},
   "outputs": [
    {
     "data": {
      "text/html": [
       "8653"
      ],
      "text/latex": [
       "8653"
      ],
      "text/markdown": [
       "8653"
      ],
      "text/plain": [
       "[1] 8653"
      ]
     },
     "metadata": {},
     "output_type": "display_data"
    }
   ],
   "source": [
    "length(unique(as.character(pData(reduced_obj)$SAMPID)))"
   ]
  },
  {
   "cell_type": "code",
   "execution_count": 55,
   "metadata": {},
   "outputs": [
    {
     "data": {
      "text/html": [
       "8653"
      ],
      "text/latex": [
       "8653"
      ],
      "text/markdown": [
       "8653"
      ],
      "text/plain": [
       "[1] 8653"
      ]
     },
     "metadata": {},
     "output_type": "display_data"
    },
    {
     "data": {
      "text/html": [
       "24667"
      ],
      "text/latex": [
       "24667"
      ],
      "text/markdown": [
       "24667"
      ],
      "text/plain": [
       "[1] 24667"
      ]
     },
     "metadata": {},
     "output_type": "display_data"
    },
    {
     "name": "stderr",
     "output_type": "stream",
     "text": [
      "The number of non-overlapping IDs between pheno and count data are:\n",
      "\n",
      "5571\n"
     ]
    },
    {
     "data": {
      "text/plain": [
       "logical_match_names\n",
       "FALSE  TRUE \n",
       "  801  7872 "
      ]
     },
     "metadata": {},
     "output_type": "display_data"
    }
   ],
   "source": [
    "# Now unfortunately, without adequate annotations we will reduce our matrix size\n",
    "# \n",
    "# So now lets do the match in reverse with the yarn annoted reduced_obj\n",
    "#\n",
    "# ijc colnames matched to SraRunTable run names 100%\n",
    "# metadata$SAMPID names matched to 7767 pData(obj) data <- which we then created reduced_obj\n",
    "#\n",
    "# Now we need to update the ijc colnames and the metadata names\n",
    "# \n",
    "is.unique(as.character(pData(reduced_obj)$SAMPID)))\n",
    "sample_names          = as.vector(as.character(pData(reduced_obj)$SAMPID))\n",
    "metadata_sample_names = as.vector(as.character(metadata$SAMPID))\n",
    "\n",
    "length(sample_names)\n",
    "length(metadata_sample_names)\n",
    "\n",
    "if (length(metadata_sample_names) > length(sample_names)) {\n",
    "    superset <- metadata_sample_names\n",
    "    subset   <- sample_names    \n",
    "} \n",
    "\n",
    "if (length(metadata_sample_names) < length(sample_names)) {\n",
    "    superset <- sample_names\n",
    "    subset   <- metadata_sample_names   \n",
    "} \n",
    "\n",
    "non_overlaps <- setdiff( superset, subset)\n",
    "\n",
    "message(\"The number of non-overlapping IDs between pheno and count data are:\\n\\n\", \n",
    "        paste(length(non_overlaps), collapse = \"\\n\") )\n",
    "\n",
    "#logical_match_names=superset %in% subset\n",
    "#length(logical_match_names)\n",
    "table(logical_match_names)\n",
    "\n",
    "#reduced_metadata2 <- reduced_metadata[logical_match_names==TRUE,]\n",
    "#dim(reduced_metadata2)"
   ]
  },
  {
   "cell_type": "code",
   "execution_count": 53,
   "metadata": {},
   "outputs": [
    {
     "data": {
      "text/plain": [
       "\n",
       "20-29 30-39 40-49 50-59 60-69 70-79 \n",
       "  627   560  1363  2626  2468   123 "
      ]
     },
     "metadata": {},
     "output_type": "display_data"
    },
    {
     "data": {
      "text/plain": [
       "\n",
       "   0    1    2    3    4 \n",
       "4172  397 1942  411  762 "
      ]
     },
     "metadata": {},
     "output_type": "display_data"
    },
    {
     "data": {
      "text/plain": [
       "\n",
       "        B1     B1, A1         C1     C1, A1 C1, B1, A1         D1     D1, A1 \n",
       "      4672        369       2117        492          0         60         57 "
      ]
     },
     "metadata": {},
     "output_type": "display_data"
    }
   ],
   "source": [
    "table(pData(reduced_obj2)$AGE)\n",
    "table(pData(reduced_obj2)$DTHHRDY)\n",
    "table(pData(reduced_obj2)$SMCENTER)"
   ]
  },
  {
   "cell_type": "code",
   "execution_count": null,
   "metadata": {},
   "outputs": [],
   "source": []
  },
  {
   "cell_type": "markdown",
   "metadata": {},
   "source": [
    "## Order ijc and sjc columns in the same order as the metadata Run order\n",
    "\n",
    "Using tibble library, we can rearrange the columns as the column name.  "
   ]
  },
  {
   "cell_type": "code",
   "execution_count": null,
   "metadata": {},
   "outputs": [],
   "source": [
    "metadata_runnames    <- as.character(reduced_metadata$Run)\n",
    "pheno_data           <- as.tibble()\n",
    "ijc.iso.counts.mem2  <- as_tibble(ijc.iso.counts.mem)\n",
    "sjc.iso.counts.mem2  <- as_tibble(sjc.iso.counts.mem)\n",
    "\n",
    "ijc.iso.counts.mem2  <- ijc.iso.counts.mem2[,c(metadata_runnames)]\n",
    "sjc.iso.counts.mem2  <- sjc.iso.counts.mem2[,c(metadata_runnames)]\n",
    "\n",
    "dim(ijc.iso.counts.mem2)\n",
    "dim(sjc.iso.counts.mem2)\n",
    "dim(reduced_metadata)"
   ]
  },
  {
   "cell_type": "markdown",
   "metadata": {},
   "source": [
    "Remove samples that match '11IL0' from the ijc, sjc and metadata files using the logical grep, grepl"
   ]
  },
  {
   "cell_type": "code",
   "execution_count": null,
   "metadata": {},
   "outputs": [],
   "source": [
    "keep_metadata <- (!grepl('11ILO',reduced_metadata$SAMPID))\n",
    "table(keep_metadata)\n",
    "ijc.iso.counts.mem2 <-ijc.iso.counts.mem2 [                    ,keep_metadata==TRUE]\n",
    "sjc.iso.counts.mem2 <-sjc.iso.counts.mem2 [                    ,keep_metadata==TRUE]\n",
    "\n",
    "reduced_metadata   <-reduced_metadata   [keep_metadata==TRUE,                    ]\n",
    "dim(ijc.iso.counts.mem2)\n",
    "dim(sjc.iso.counts.mem2)"
   ]
  },
  {
   "cell_type": "markdown",
   "metadata": {},
   "source": [
    "### and now for all tissues\n"
   ]
  },
  {
   "cell_type": "markdown",
   "metadata": {},
   "source": [
    "### exploration of the details\n",
    "\n",
    "For each sample, we have ijc and sjc count data and demo\n",
    "For exon skipping events (SE), we have 42,611 non-zero junction IDs the (first dimension of the ijc and sjc cout table) for the skipped exon event for breast-Mammary Tissue, 191 individuals.  These are healthy individuals, and we are studying the impact of sex on the occurrence or non-occurance of specific alternative splicing events.   We explore the information we ahve about these junctions and create a construct, as_event, which accounts for the junction under exploration.\n",
    "\n",
    "#### Exploring the ijc and sjc Count data \n",
    "\n",
    "We have two counts that are in many ways two sides of the same coin.  Both our the observational output and we wish to see how robust each are in their ability to separate out the samples to provide for us differentially expressed isoform events as measured by their counts.   Each junction is in a manner a specific marker to specific isoform events that may or may not be shared between the genders.   If there is significant results, then this is indicative of the separation achieved by isoform specific differentiation.   In our model we will use these in combination, it is important to see if they will yield the results we are looking for."
   ]
  },
  {
   "cell_type": "markdown",
   "metadata": {},
   "source": [
    "## Preparing the data further\n",
    "\n",
    "### Keeping only tissues shared male female\n",
    "\n",
    "We need to remove the tissues that are not shared by males and females, we do this by finding the intersection of the tissue lists."
   ]
  },
  {
   "cell_type": "code",
   "execution_count": null,
   "metadata": {},
   "outputs": [],
   "source": [
    "# SEX is coded 1 == Male\n",
    "#              2 == Female\n",
    "sex = factor(pData(reduced_obj)$SEX)\n",
    "sex <- ifelse(sex == 1,'male','female')\n",
    "\n",
    "tissue_groups      <- factor(pData(reduced_obj)$SMTSD)\n",
    "tissue_male_female <- tissue_groups_male %in% tissue_groups_female\n",
    "table(tissue_male_female)\n",
    "\n",
    "tissue_shared_male_female <- factor(tissue_groups_male[tissue_male_female])\n",
    "table(tissue_shared_male_female)\n",
    "\n",
    "male_tissues_true   <- sex == \"male\"\n",
    "female_tissues_true <- sex == \"female\"\n",
    "\n",
    "sum(table(male_tissues_true))\n",
    "sum(table(female_tissues_true))\n",
    "\n",
    "male_tissue_list   <- factor(tissue_list[male_tissues_true   == TRUE])\n",
    "female_tissue_list <- factor(tissue_list[female_tissues_true == TRUE])\n",
    "\n",
    "male_female_tissue_list <- intersect(levels(male_tissue_list),levels(female_tissue_list))\n",
    "\n",
    "keep = tissue_list %in% male_female_tissue_list\n",
    "\n",
    "table(keep)\n",
    "\n",
    "ijc_m_f         = ijc.iso.counts.mem2[          ,keep==TRUE]\n",
    "sjc_m_f         = sjc.iso.counts.mem2[          ,keep==TRUE]\n",
    "metadata_m_f    = reduced_metadata   [keep==TRUE,          ]\n",
    "tissue_list_m_f = tissue_list        [keep==TRUE]\n",
    "\n",
    "dim(ijc_m_f)\n",
    "dim(sjc_m_f)\n",
    "dim(metadata_m_f)\n",
    "length(tissue_list_m_f)\n",
    "tissue_list_m_f <- factor(tissue_list_m_f)\n",
    "levels(tissue_list_m_f)\n",
    "length(levels(tissue_list_m_f))"
   ]
  },
  {
   "cell_type": "markdown",
   "metadata": {},
   "source": [
    "### Keeping only chromosomes shared male female\n",
    "\n",
    "The Y chromosome spans more than 59 million base pairs of DNA and represents almost 2 percent of the total DNA in cells. Each person normally has one pair of sex chromosomes in each cell. The Y chromosome is present in males, who have one X and one Y chromosome, while females have two X chromosomes. Since our analysis is on the comparative differences, we must eliminate chrY from our analyses.\n",
    "\n",
    "To do so, we grab the annotation from the GTF file and remove those junctions that correspond to the genes on this chromosome"
   ]
  },
  {
   "cell_type": "code",
   "execution_count": null,
   "metadata": {},
   "outputs": [],
   "source": [
    "if (! (file.exists(\"../data/fromGTF.tar.gz\"))) {\n",
    "        system(\"mkdir -p ../data\", intern = TRUE)\n",
    "        message(\"Fetching fromGTF.tar.gz from GitHub ..\")\n",
    "        # Download archive from GitHub release with tag \"dge\"\n",
    "        piggyback::pb_download(file = \"fromGTF.tar.gz\",\n",
    "                           dest = \"../data\",\n",
    "                           repo = \"adeslatt/sbas_gtf\",\n",
    "                           tag  = \"rMATS.3.2.5.gencode.v30\",\n",
    "                           show_progress = TRUE)\n",
    "        message(\"Done!\\n\")\n",
    "        message(\"Decompressing fromGTF.tar.gz into ../data\")\n",
    "        system(\"mkdir -p ../data && tar xvfz ../data/fromGTF.tar.gz -C ../data\", intern = TRUE)\n",
    "        message(\"Done!\\n\")\n",
    "        message(\"Decompressing fromGTF.*.txt.gz into ../data\")\n",
    "        system(\"gunzip  ../data/fromGTF*.txt.gz \", intern = TRUE)\n",
    "        message(\"Done!\\n\")\n",
    "}\n",
    "fromGTF.SE <- read.table(\"../data/fromGTF.SE.txt\", header=TRUE)\n",
    "head(fromGTF.SE)\n",
    "genes <- factor(fromGTF.SE$geneSymbol)\n",
    "length(levels(genes))    \n",
    "\n",
    "table(fromGTF.SE$chr)\n",
    "\n",
    "keepAllJunctionsButChrY <- (fromGTF.SE$chr != \"chrY\")\n",
    "\n",
    "table(keepAllJunctionsButChrY)\n",
    "sum(table(keepAllJunctionsButChrY))\n",
    "\n",
    "fromGTF_no_chrY <- fromGTF.SE[keepAllJunctionsButChrY,]\n",
    "ijc_m_f_no_chrY <- ijc_m_f   [keepAllJunctionsButChrY,]\n",
    "sjc_m_f_no_chrY <- sjc_m_f   [keepAllJunctionsButChrY,]\n",
    "\n",
    "dim(ijc_m_f_no_chrY)\n",
    "dim(sjc_m_f_no_chrY)\n",
    "dim(fromGTF_no_chrY)\n",
    "\n",
    "\n",
    "ijc_m_f_no_chrY <- data.matrix(ijc_m_f_no_chrY)\n",
    "sjc_m_f_no_chrY <- data.matrix(sjc_m_f_no_chrY)\n",
    "\n",
    "rownames(ijc_m_f_no_chrY) <- rownames(fromGTF_no_chrY)\n",
    "rownames(sjc_m_f_no_chrY) <- rownames(fromGTF_no_chrY)\n",
    "\n",
    "head(ijc_m_f_no_chrY)\n",
    "head(fromGTF_no_chrY)\n",
    "head(sjc_m_f_no_chrY)"
   ]
  },
  {
   "cell_type": "markdown",
   "metadata": {},
   "source": [
    "## Exploratory and Differential analysis as_event:ijc, sjc \n",
    "\n",
    "Differential Analysis (DE) was performed using voom (Law et.al., 2014) to transform junction counts (reads that were aligned to junctions when an exon is included - ijc, and reads that were aligned to junctions when the exon is excluded - sjc) with associated precision weights, followed by linear modeling and empirical Bayes procedure using limma.    In each tissue, the following linear regression model was used to detec secually dimorphic alternative splicing event expression: \n",
    "\n",
    "           y = B0 + B1 sex + epsilon (error)\n",
    "           \n",
    "\n",
    "where y is the included exon junction count expression; sex denotes the reported sex of the subject\n",
    "\n",
    "## Differential analysis as_event (combined ijc and sjc)\n",
    "\n",
    "Differential Analysis (DE) was performed using voom (Law et.al., 2014) to transform junction counts (reads that were aligned to junctions when an exon is included - ijc, and reads that were aligned to junctions when the exon is excluded - sjc) with associated precision weights, followed by linear modeling and empirical Bayes procedure using limma.    In each tissue, the following linear regression model was used to detec secually dimorphic alternative splicing event expression: \n",
    "\n",
    "           y = B0 + B1 sex + B2 as_event + B3 sex*as_event + epsilon (error)\n",
    "           \n",
    "\n",
    "where y is the alternative splicing event expression; sex denotes the reported sex of the subject, as_event represents the specific alternative splicing event - either included exon junction counts or skipped exon junction counts and their interaction terms.   Donor is added to our model as a blocking variable used in both the calculation of duplicate correlation as well as in the linear fit.\n",
    "\n",
    "### Voom, limma's lmFit and eBayes\n",
    "\n",
    "Using sample as a blocking variable, we are able to model the effects of the donor on the results, which improves the power.  This topic is discussed in biostars https://www.biostars.org/p/54565/.  And Gordon Smyth answers the question here https://mailman.stat.ethz.ch/pipermail/bioconductor/2014-February/057887.html.  The method of modeling is a random effects approach in which the intra-donor correlation is incorporated into the covariance matrix instead of the linear predictor.   And though as Gordon Smyth states both are good method and the twoway anova approach makes fewer assumptions, the random effects approach is statistically more powerful.  \n",
    "\n",
    "We have a balanced design in which all donors receive all stimuli (which is really in healthy human donors, life and all of its factors!) Our measurement has so many points -- we are measuring in the skipped exon approach, 42,611 junctions!   It is not possible to encorporate those measurements into the linear predictor.  A two-way ANOVA approach is virtually as powerful as the random effects approach \n",
    "and hence is preferable as it makes fewer assumptions.\n",
    "\n",
    "For an unbalanced design in which each donor receives only a subset of the stimula, the random effects approach is more powerful.\n",
    "\n",
    "Random effects approach is equivalent to The first method is twoway anova, a generalization of a paired analysis.\n"
   ]
  },
  {
   "cell_type": "code",
   "execution_count": null,
   "metadata": {},
   "outputs": [],
   "source": [
    "\n",
    "cat(levels(tissue_list_m_f),sep=\"\\n\")\n",
    "\n",
    "actual_tissue_list_m_f = levels(tissue_list_m_f)\n",
    "tissue_of_interest = actual_tissue_list_m_f[21]\n",
    "tissue_of_interest\n",
    "length(actual_tissue_list_m_f)\n",
    "length(tissue_list_m_f)\n",
    "\n",
    "dim(ijc_m_f_no_chrY)\n",
    "dim(sjc_m_f_no_chrY)\n",
    "dim(metadata_m_f)\n",
    "dim(fromGTF_no_chrY)\n",
    "\n",
    "tissue_of_interest = tissue_of_interest\n",
    "fromGTF = fromGTF_no_chrY\n",
    "tissue_list = tissue_list_m_f\n",
    "ijc = ijc_m_f_no_chrY\n",
    "sjc = sjc_m_f_no_chrY\n",
    "metadata =  metadata_m_f\n"
   ]
  },
  {
   "cell_type": "raw",
   "metadata": {},
   "source": [
    "#print_exploratory_plots <- function (tissue_of_interest, fromGTF, tissue_list, ijc, sjc, metadata ) {\n",
    "\n",
    "    fromGTF           <- fromGTF\n",
    "    tissue_true       <- tissue_list == tissue_of_interest\n",
    "\n",
    "    table(tissue_true)\n",
    "    ijc_tissue        <- ijc      [                 ,tissue_true==TRUE]\n",
    "    sjc_tissue        <- sjc      [                 ,tissue_true==TRUE]\n",
    "    metadata_tissue   <- metadata [tissue_true==TRUE,                 ]\n",
    "\n",
    "    ijc.df            <- as.data.frame(ijc_tissue)\n",
    "    sjc.df            <- as.data.frame(sjc_tissue)    \n",
    "    ijc.dm            <- data.matrix(ijc.df)\n",
    "    sjc.dm            <- data.matrix(sjc.df)    \n",
    " \n",
    "    sex       <- factor(metadata_tissue$sex,levels=c('male','female')) \n",
    "    design    <- model.matrix ( ~ sex )\n",
    "    colnames(design) = c(\"intercept\",\"sex\")\n",
    "    head(design)\n",
    "\n",
    "    y_ijc <- DGEList(counts=ijc.dm, group = sex)\n",
    "    y_ijc <- calcNormFactors(y_ijc, method=\"RLE\")\n",
    "    y_ijc_voom <- voom (y_ijc, design=design, plot=TRUE)\n",
    "\n",
    "    fit_ijc <- lmFit(y_ijc_voom, design)\n",
    "    fit_ijc <- eBayes(fit_ijc)\n",
    "\n",
    "    ijc_sex_results                    <- topTable(fit_ijc, coef='sex', number=nrow(y_ijc_voom))\n",
    "    ijc_sex_results_refined            <- ijc_sex_results$adj.P.Val <= 0.05 & abs(ijc_sex_results$logFC) >= abs(log2(1.5))\n",
    "    ijc_sex_rnResults                  <- rownames(ijc_sex_results)\n",
    "    ijc_sex_resultsAnnotations         <- fromGTF[ijc_sex_rnResults,]\n",
    "\n",
    "    ijc_sex_results_refinedAnnotations <- ijc_sex_resultsAnnotations[ijc_sex_results_refined      ==TRUE,]\n",
    "    dim (ijc_sex_results_refinedAnnotations)\n",
    "    head(ijc_sex_results_refinedAnnotations)\n",
    "\n",
    "    # geneSymbols are in the annotations \n",
    "    ijc_sex_geneSymbols               <- ijc_sex_resultsAnnotations$geneSymbol\n",
    "    ijc_sex_refined_geneSymbols       <- ijc_sex_results_refinedAnnotations$geneSymbol\n",
    "    length(ijc_sex_refined_geneSymbols)\n",
    "\n",
    "    # adjust the rownames to be the geneSymbols rather than junction IDs\n",
    "    ijc_sex_results_rn         <- paste(ijc_sex_geneSymbols,       ijc_sex_rnResults, sep=\"-\")\n",
    "    head(ijc_sex_results_rn)\n",
    "    rownames(ijc_sex_results)       <- ijc_sex_results_rn\n",
    "\n",
    "    length(ijc_sex_refined_geneSymbols)\n",
    "    y_sjc <- DGEList(counts=sjc.dm, group = sex)\n",
    "    y_sjc <- calcNormFactors(y_sjc, method=\"RLE\")\n",
    "    y_sjc_voom <- voom (y_sjc, design=design, plot=TRUE)\n",
    "\n",
    "    fit_sjc <- lmFit(y_sjc_voom, design)\n",
    "    fit_sjc <- eBayes(fit_sjc)\n",
    "\n",
    "    sjc_sex_results                    <- topTable(fit_sjc, coef='sex', number=nrow(y_sjc_voom))\n",
    "    sjc_sex_results_refined            <- sjc_sex_results$adj.P.Val <= 0.05 & abs(sjc_sex_results$logFC) >= abs(log2(1.5))\n",
    "    sjc_sex_rnResults                  <- rownames(sjc_sex_results)\n",
    "    sjc_sex_resultsAnnotations         <- fromGTF[sjc_sex_rnResults,]\n",
    "\n",
    "    sjc_sex_results_refinedAnnotations <- sjc_sex_resultsAnnotations[sjc_sex_results_refined      ==TRUE,]\n",
    "    dim (sjc_sex_results_refinedAnnotations)\n",
    "    head(sjc_sex_results_refinedAnnotations)\n",
    "\n",
    "    # geneSymbols are in the annotations \n",
    "    sjc_sex_geneSymbols               <- sjc_sex_resultsAnnotations$geneSymbol\n",
    "    sjc_sex_refined_geneSymbols       <- sjc_sex_results_refinedAnnotations$geneSymbol\n",
    "    length(sjc_sex_refined_geneSymbols)\n",
    "\n",
    "    # adjust the rownames to be the geneSymbols rather than junction IDs\n",
    "    sjc_sex_results_rn         <- paste(sjc_sex_geneSymbols,       sjc_sex_rnResults, sep=\"-\")\n",
    "    head(sjc_sex_results_rn)\n",
    "    rownames(sjc_sex_results)       <- sjc_sex_results_rn\n",
    "\n",
    "    length(sjc_sex_results_refined) \n",
    "   # print these exploratory plots for ijc and sjc alone\n",
    "    Gender <- substring(sex,1,1)\n",
    "    filename <- paste0(paste0(\"../pdf/\", snakecase::to_snake_case(tissue_of_interest)),\"-ijc-MDSplot-100.pdf\")\n",
    "    pdf (filename)\n",
    "        plotMDS(y_ijc, labels=Gender, top=100, col=ifelse(Gender==\"m\",\"blue\",\"red\"), \n",
    "                gene.selection=\"common\")\n",
    "    dev.off()\n",
    "    filename <- paste0(paste0(\"../pdf/\", snakecase::to_snake_case(tissue_of_interest)),\"-ijc-voom-MDSplot-100.pdf\")\n",
    "    pdf (filename)    \n",
    "        plotMDS(y_ijc_voom, labels=Gender, top=100, col=ifelse(Gender==\"m\",\"blue\",\"red\"), \n",
    "                gene.selection=\"common\")\n",
    "    dev.off()\n",
    "\n",
    "    fit_ijc <- lmFit(y_ijc_voom, design)\n",
    "    fit_ijc <- eBayes(fit_ijc)\n",
    "    ijc_sex_results          <- topTable(fit_ijc, coef='sex', number=nrow(y_ijc_voom))\n",
    "    ijc_sex_results_refined  <- ijc_sex_results$adj.P.Val < 0.05 & abs(ijc_sex_results$logFC) > abs(log2(1.5))\n",
    "    ijc_sex_rnResults       <- rownames(ijc_sex_results)\n",
    "\n",
    "    filename <- paste0(paste0(\"../pdf/\", snakecase::to_snake_case(tissue_of_interest)),\"-sjc-MDSplot-100.pdf\")\n",
    "    pdf (filename)\n",
    "           plotMDS(y_sjc, labels=Gender, top=100, col=ifelse(Gender==\"m\",\"blue\",\"red\"), \n",
    "                gene.selection=\"common\")\n",
    "    dev.off()\n",
    "    filename <- paste0(paste0(\"../pdf/\", snakecase::to_snake_case(tissue_of_interest)),\"-sjc-voom-MDSplot-100.pdf\")\n",
    "    pdf (filename)    \n",
    "          plotMDS(y_sjc_voom, labels=Gender, top=100, col=ifelse(Gender==\"m\",\"blue\",\"red\"), \n",
    "                gene.selection=\"common\")\n",
    "    dev.off()\n",
    "        \n",
    "    fit_sjc <- lmFit(y_sjc_voom, design)\n",
    "    fit_sjc <- eBayes(fit_sjc)\n",
    "        \n",
    "    sjc_sex_results            <- topTable(fit_sjc, coef='sex', number=nrow(y_sjc_voom))\n",
    "    sjc_sex_results_refined        <- sjc_sex_results$adj.P.Val <= 0.05 & abs(sjc_sex_results$logFC) >= abs(log2(1.5))\n",
    "    sjc_sex_rnResults                  <- rownames(sjc_sex_results)\n",
    "    sjc_sex_resultsAnnotations         <- fromGTF[sjc_sex_rnResults,]\n",
    "    sjc_sex_results_refinedAnnotations <- sjc_sex_resultsAnnotations[sjc_sex_results_refined ==TRUE,]\n",
    "\n",
    "    head(sjc_sex_resultsAnnotations)\n",
    "    head(sjc_sex_results_refinedAnnotations)\n",
    "\n",
    "    # geneSymbols are in the annotations \n",
    "    sjc_sex_geneSymbols               <- sjc_sex_resultsAnnotations$geneSymbol\n",
    "    sjc_sex_refined_geneSymbols       <- sjc_sex_results_refinedAnnotations$geneSymbol\n",
    "\n",
    "    # adjust the rownames to be the geneSymbols rather than junction IDs\n",
    "    sjc_sex_results_rn         <- paste(sjc_sex_geneSymbols,       sjc_sex_rnResults, sep=\"-\")\n",
    "    head(sjc_sex_results_rn)    \n",
    "    rownames(sjc_sex_results)       <- sjc_sex_results_rn\n",
    "    sjc_sex_filename               = paste0(paste0('../data/',snakecase::to_snake_case(tissue_of_interest)),'_DGE_sjc_sex.csv',sep='')\n",
    "    sjc_sex_refined_filename       = paste0(paste0('../data/',snakecase::to_snake_case(tissue_of_interest)),'_DGE_sjc_sex_refined.csv',sep='')\n",
    "    sjc_sex_genesFilename          = paste0(paste0('../data/',snakecase::to_snake_case(tissue_of_interest)),'_sjc_sex_universe.txt',sep='')\n",
    "    sjc_sex_refined_genesFilename       = paste0(paste0('../data/',snakecase::to_snake_case(tissue_of_interest)),'_sjc_sex_gene_set.txt',sep='')\n",
    "\n",
    "    write.table(sjc_sex_results,            file = sjc_sex_filename      , row.names = T, col.names = T, quote = F, sep = \",\")\n",
    "    write.table(sjc_sex_results [sjc_sex_results_refined      ,], file = sjc_sex_refined_filename      , row.names = T, col.names = T, quote = F, sep = \",\")\n",
    "    write.table(sjc_sex_geneSymbols,        file = sjc_sex_genesFilename        , row.names = F, col.names = F, quote = F, sep = \",\")\n",
    "    write.table(sjc_sex_refined_geneSymbols,file = sjc_sex_refined_genesFilename, row.names = F, col.names = F, quote = F, sep = \",\")\n",
    "    \n",
    "    sample_names <- as.character(colnames(ijc.dm))\n",
    "    # we will add donor as a blocking parameter\n",
    "    # rather than sample name -- we should use donor for real\n",
    "    sample     <- factor(sample_names)\n",
    "    \n",
    "    donor    <- rep(sample, 2)\n",
    "\n",
    "    \n",
    "    ijc_names <- as.character(colnames(ijc.dm))\n",
    "    sjc_names <- as.character(colnames(sjc.dm))\n",
    "    sjc_names <- paste0(sjc_names,\"-sjc\")\n",
    "    ijc_names <- paste0(ijc_names,\"-ijc\")\n",
    "\n",
    "    colnames(ijc.dm) <- ijc_names\n",
    "    colnames(sjc.dm) <- sjc_names\n",
    "\n",
    "    as_matrix <- cbind(ijc.dm,sjc.dm)\n",
    "    sex       <- c(rep(metadata_tissue$sex,2))\n",
    "    sex       <- factor(sex, levels=c('male','female'))\n",
    "    as_event  <- c(rep(\"ijc\",dim(ijc.dm)[2]), rep(\"sjc\", dim(sjc.dm)[2]))\n",
    "    as_event  <- factor(as_event, levels=c(\"ijc\", \"sjc\"))\n",
    "\n",
    "    length(as_event)\n",
    "\n",
    "    design    <- model.matrix( ~ sex + as_event + sex*as_event )\n",
    "\n",
    "    colnames(design) <- c(\"intercept\",\"sex\",\"as_event\",\"sex*as_event\")\n",
    "\n",
    "    dim(as_matrix)\n",
    "    table(sex)\n",
    "    table(as_event)\n",
    "    head(design)\n",
    "\n",
    "    y <- DGEList(counts=as_matrix, group = sex)\n",
    "    y <- calcNormFactors(y, method=\"RLE\")\n",
    "    y_voom <- voom (y, design=design, plot = TRUE)\n",
    "\n",
    "    # for testing comment this out for speed\n",
    "    dup_cor <- duplicateCorrelation(y_voom$E, design=design, ndups=2, block=donor, weights=y$samples$norm.factors)\n",
    "    dup_cor$consensus.correlation \n",
    "    \n",
    "    y_dup_voom <- voom (y, design=design, plot = TRUE, block = donor, correlation = dup_cor$consensus.correlation)\n",
    "    \n",
    "    # print the combined exploratory plot\n",
    "    filename <- paste0(paste0(\"../pdf/\", snakecase::to_snake_case(tissue_of_interest)),\"-y-ijc-MDSplot-100.pdf\")\n",
    "    pdf (filename)\n",
    "        plotMDS(y[,c(1:dim(ijc.dm)[2])], labels=Gender, top=100, col=ifelse(Gender==\"m\",\"blue\",\"red\"), \n",
    "            gene.selection=\"common\")\n",
    "    dev.off()\n",
    "    filename <- paste0(paste0(\"../pdf/\", snakecase::to_snake_case(tissue_of_interest)),\"-y-voom-ijc-MDSplot-100.pdf\")\n",
    "    pdf (filename)\n",
    "        plotMDS(y_voom[,c(1:dim(ijc.dm)[2])], labels=Gender, top=100, col=ifelse(Gender==\"m\",\"blue\",\"red\"), \n",
    "            gene.selection=\"common\")\n",
    "    dev.off()\n",
    "    filename <- paste0(paste0(\"../pdf/\", snakecase::to_snake_case(tissue_of_interest)),\"-y-dup-voom-ijc-MDSplot-100.pdf\")\n",
    "    pdf (filename)\n",
    "        plotMDS(y_dup_voom[,c(1:dim(ijc.dm)[2])], labels=Gender, top=100, col=ifelse(Gender==\"m\",\"blue\",\"red\"), \n",
    "            gene.selection=\"common\")\n",
    "    dev.off()\n",
    "    filename <- paste0(paste0(\"../pdf/\", snakecase::to_snake_case(tissue_of_interest)),\"-y-sjc-MDSplot-100.pdf\")\n",
    "    pdf (filename)\n",
    "        plotMDS(y[,c((dim(ijc.dm)[2]+1)):(dim(ijc.dm)[2]+dim(sjc.dm)[2])], labels=Gender, top=100, col=ifelse(Gender==\"m\",\"blue\",\"red\"), \n",
    "            gene.selection=\"common\")\n",
    "    dev.off()\n",
    "    filename <- paste0(paste0(\"../pdf/\", snakecase::to_snake_case(tissue_of_interest)),\"-y-voom-sjc-MDSplot-100.pdf\")\n",
    "    pdf (filename)\n",
    "        plotMDS(y_voom[,c((dim(ijc.dm)[2]+1)):(dim(ijc.dm)[2]+dim(sjc.dm)[2])], labels=Gender, top=100, col=ifelse(Gender==\"m\",\"blue\",\"red\"), \n",
    "            gene.selection=\"common\")\n",
    "    dev.off()\n",
    "    filename <- paste0(paste0(\"../pdf/\", snakecase::to_snake_case(tissue_of_interest)),\"-y-dup-voom-sjc-MDSplot-100.pdf\")\n",
    "    pdf (filename)\n",
    "        plotMDS(y_dup_voom[,c((dim(ijc.dm)[2]+1)):(dim(ijc.dm)[2]+dim(sjc.dm)[2])], labels=Gender, top=100, col=ifelse(Gender==\"m\",\"blue\",\"red\"), \n",
    "            gene.selection=\"common\")\n",
    "    dev.off()\n",
    "\n",
    "    # for testing comment this out for speed\n",
    "    fit <- lmFit(y_dup_voom, design=design, block=donor, correlation = dup_cor$consensus.correlation)\n",
    "    \n",
    "    # and uncomment this to have the model fit to the design matrix\n",
    "    #    fit <- lmFit(y_voom, design=design)\n",
    "    fit <- eBayes(fit, robust=TRUE)    \n",
    "    \n",
    "    sex_as_events_results         <- topTable(fit, coef=\"sex*as_event\", number=nrow(y_voom))\n",
    "    sex_as_events_results_refined <- sex_as_events_results$adj.P.Val < 0.05 & abs(sex_as_events_results$logFC) > abs(log2(1.5))\n",
    "\n",
    "    sex_results                   <- topTable(fit, coef=\"sex\", number=nrow(y_voom))\n",
    "    sex_results_refined           <- sex_results$adj.P.Val <= 0.05 & abs(sex_results$logFC) >= abs(log2(1.5))\n",
    "\n",
    "    sex_as_events_rnResults <- rownames(sex_as_events_results)\n",
    "    sex_rnResults           <- rownames(sex_results)\n",
    "    head(sex_as_events_rnResults)\n",
    "    head(ijc_sex_rnResults)\n",
    "    head(sex_rnResults)\n",
    "    head(fromGTF[sex_as_events_rnResults,])\n",
    "\n",
    "    # use the junctionIDs to get the annotations\n",
    "    sex_as_events_resultsAnnotations      <- fromGTF[sex_as_events_rnResults,]\n",
    "    sex_resultsAnnotations                <- fromGTF[sex_rnResults,]\n",
    "    ijc_sex_resultsAnnotations            <- fromGTF[ijc_sex_rnResults,]\n",
    "    head(sex_as_events_resultsAnnotations)\n",
    "    head(sex_resultsAnnotations)\n",
    "    head(ijc_sex_resultsAnnotations)\n",
    "    \n",
    "    sex_as_events_results_refinedAnnotations<- sex_as_events_resultsAnnotations[sex_as_events_results_refined==TRUE,]\n",
    "    sex_results_refinedAnnotations          <- sex_resultsAnnotations          [sex_results_refined          ==TRUE,]\n",
    "    ijc_sex_results_refinedAnnotations      <- ijc_sex_resultsAnnotations      [ijc_sex_results_refined      ==TRUE,]\n",
    "    head(sex_as_events_results_refinedAnnotations)\n",
    "    head(sex_results_refinedAnnotations)\n",
    "    head(ijc_sex_results_refinedAnnotations)\n",
    "\n",
    "    # geneSymbols are in the annotations \n",
    "    sex_as_events_geneSymbols         <- sex_as_events_resultsAnnotations$geneSymbol\n",
    "    sex_geneSymbols                   <- sex_resultsAnnotations$geneSymbol\n",
    "    ijc_sex_geneSymbols               <- ijc_sex_resultsAnnotations$geneSymbol\n",
    "\n",
    "    sex_as_events_refined_geneSymbols <- sex_as_events_results_refinedAnnotations$geneSymbol\n",
    "    sex_refined_geneSymbols           <- sex_results_refinedAnnotations$geneSymbol\n",
    "    ijc_sex_refined_geneSymbols       <- ijc_sex_results_refinedAnnotations$geneSymbol\n",
    "\n",
    "    # adjust the rownames to be the geneSymbols rather than junction IDs\n",
    "    sex_as_events_results_rn   <- paste(sex_as_events_geneSymbols, sex_as_events_rnResults, sep=\"-\")\n",
    "    sex_results_rn             <- paste(sex_geneSymbols,           sex_rnResults, sep=\"-\")\n",
    "    ijc_sex_results_rn         <- paste(ijc_sex_geneSymbols,       ijc_sex_rnResults, sep=\"-\")\n",
    "    head(sex_as_events_results_rn)\n",
    "    head(sex_results_rn)\n",
    "    head(ijc_sex_results_rn)\n",
    "    rownames(sex_as_events_results) <- sex_as_events_results_rn\n",
    "    rownames(sex_results)           <- sex_results_rn\n",
    "    rownames(ijc_sex_results)       <- ijc_sex_results_rn\n",
    "    \n",
    "    sex_as_events_filename         = paste0(paste0('../data/',snakecase::to_snake_case(tissue_of_interest)),'_DGE_sex_as_events.csv')\n",
    "    sex_filename                   = paste0(paste0('../data/',snakecase::to_snake_case(tissue_of_interest)),'_DGE_sex.csv',sep='')\n",
    "    ijc_sex_filename               = paste0(paste0('../data/',snakecase::to_snake_case(tissue_of_interest)),'_DGE_ijc_sex.csv',sep='')\n",
    "\n",
    "    sex_as_events_refined_filename = paste0(paste0('../data/',snakecase::to_snake_case(tissue_of_interest)),'_DGE_sex_as_events_refined.csv',sep='')\n",
    "    sex_refined_filename           = paste0(paste0('../data/',snakecase::to_snake_case(tissue_of_interest)),'_DGE_sex_refined.csv',sep='')\n",
    "    ijc_sex_refined_filename       = paste0(paste0('../data/',snakecase::to_snake_case(tissue_of_interest)),'_DGE_ijc_sex_refined.csv',sep='')\n",
    "\n",
    "    sex_as_events_genesFilename    = paste0(paste0('../data/',snakecase::to_snake_case(tissue_of_interest)),'_sex_as_events_universe.txt',sep='')\n",
    "    sex_genesFilename              = paste0(paste0('../data/',snakecase::to_snake_case(tissue_of_interest)),'_sex_universe.txt',sep='')\n",
    "    ijc_sex_genesFilename          = paste0(paste0('../data/',snakecase::to_snake_case(tissue_of_interest)),'_ijc_sex_universe.txt',sep='')\n",
    "\n",
    "    sex_as_events_refined_genesFilename = paste0(paste0('../data/',snakecase::to_snake_case(tissue_of_interest)),'_sex_as_events_gene_set.txt',sep='')\n",
    "    sex_refined_genesFilename           = paste0(paste0('../data/',snakecase::to_snake_case(tissue_of_interest)),'_sex_gene_set.txt',sep='')\n",
    "    ijc_sex_refined_genesFilename       = paste0(paste0('../data/',snakecase::to_snake_case(tissue_of_interest)),'_ijc_sex_gene_set.txt',sep='')\n",
    "\n",
    "    write.table(sex_as_events_results, file = sex_as_events_filename, row.names = T, col.names = T, quote = F, sep = \",\")\n",
    "    write.table(sex_results,           file = sex_filename          , row.names = T, col.names = T, quote = F, sep = \",\")\n",
    "    write.table(ijc_sex_results,       file = ijc_sex_filename      , row.names = T, col.names = T, quote = F, sep = \",\")\n",
    "\n",
    "    write.table(sex_as_events_results[sex_as_events_results_refined,], file = sex_as_events_refined_filename, row.names = T, col.names = T, quote = F, sep = \",\")\n",
    "    write.table(sex_results          [sex_results_refined          ,], file = sex_refined_filename          , row.names = T, col.names = T, quote = F, sep = \",\")\n",
    "    write.table(ijc_sex_results      [ijc_sex_results_refined      ,], file = ijc_sex_refined_filename      , row.names = T, col.names = T, quote = F, sep = \",\")\n",
    "\n",
    "    write.table(sex_as_events_geneSymbols, file = sex_as_events_genesFilename, row.names = F, col.names = F, quote = F, sep = \",\")\n",
    "    write.table(sex_geneSymbols,           file = sex_genesFilename          , row.names = F, col.names = F, quote = F, sep = \",\")\n",
    "    write.table(ijc_sex_geneSymbols,       file = ijc_sex_genesFilename      , row.names = F, col.names = F, quote = F, sep = \",\")\n",
    "\n",
    "    write.table(sex_as_events_refined_geneSymbols,file = sex_as_events_refined_genesFilename, row.names = F, col.names = F, quote = F, sep = \",\")\n",
    "    write.table(sex_refined_geneSymbols,          file = sex_refined_genesFilename          , row.names = F, col.names = F, quote = F, sep = \",\")\n",
    "    write.table(ijc_sex_refined_geneSymbols,      file = ijc_sex_refined_genesFilename      , row.names = F, col.names = F, quote = F, sep = \",\")\n",
    "\n",
    "#    return(0)\n",
    "#}\n"
   ]
  },
  {
   "cell_type": "code",
   "execution_count": null,
   "metadata": {},
   "outputs": [],
   "source": [
    "\n",
    "cat(levels(tissue_list_m_f),sep=\"\\n\")\n",
    "\n",
    "actual_tissue_list_m_f = levels(tissue_list_m_f)\n",
    "tissue_of_interest = actual_tissue_list_m_f[21]\n",
    "tissue_of_interest\n",
    "length(actual_tissue_list_m_f)\n",
    "length(tissue_list_m_f)\n",
    "\n",
    "dim(ijc_m_f_no_chrY)\n",
    "dim(sjc_m_f_no_chrY)\n",
    "dim(metadata_m_f)\n",
    "dim(fromGTF_no_chrY)\n",
    "\n",
    "print_exploratory_plots (tissue_of_interest, \n",
    "                         fromGTF_no_chrY, \n",
    "                         tissue_list_m_f, \n",
    "                         ijc_m_f_no_chrY, \n",
    "                         sjc_m_f_no_chrY, \n",
    "                         metadata_m_f )\n"
   ]
  },
  {
   "cell_type": "markdown",
   "metadata": {},
   "source": [
    "## Metadata\n",
    "\n",
    "For replicability and reproducibility purposes, we also print the following metadata:\n",
    "\n",
    "1. Checksums of **'artefacts'**, files generated during the analysis and stored in the folder directory **`data`**\n",
    "2. List of environment metadata, dependencies, versions of libraries using `utils::sessionInfo()` and [`devtools::session_info()`](https://devtools.r-lib.org/reference/session_info.html)"
   ]
  },
  {
   "cell_type": "markdown",
   "metadata": {},
   "source": [
    "### 1. Checksums with the sha256 algorithm"
   ]
  },
  {
   "cell_type": "code",
   "execution_count": null,
   "metadata": {},
   "outputs": [],
   "source": [
    "rm (notebookid)\n",
    "notebookid   = \"AllTissueJunctionAnalysis\"\n",
    "notebookid\n",
    "\n",
    "message(\"Generating sha256 checksums of the artefacts in the `..data/` directory .. \")\n",
    "system(paste0(\"cd ../data && find . -type f -exec sha256sum {} \\\\;  >  ../metadata/\", notebookid, \"_sha256sums.txt\"), intern = TRUE)\n",
    "message(\"Done!\\n\")\n",
    "\n",
    "paste0(\"../metadata/\", notebookid, \"_sha256sums.txt\")\n",
    "\n",
    "data.table::fread(paste0(\"../metadata/\", notebookid, \"_sha256sums.txt\"), header = FALSE, col.names = c(\"sha256sum\", \"file\"))"
   ]
  },
  {
   "cell_type": "markdown",
   "metadata": {},
   "source": [
    "### 2. Libraries metadata"
   ]
  },
  {
   "cell_type": "code",
   "execution_count": null,
   "metadata": {},
   "outputs": [],
   "source": [
    "dev_session_info   <- devtools::session_info()\n",
    "utils_session_info <- utils::sessionInfo()\n",
    "\n",
    "message(\"Saving `devtools::session_info()` objects in ../metadata/devtools_session_info.rds  ..\")\n",
    "saveRDS(dev_session_info, file = paste0(\"../metadata/\", notebookid, \"_devtools_session_info.rds\"))\n",
    "message(\"Done!\\n\")\n",
    "\n",
    "message(\"Saving `utils::sessionInfo()` objects in ../metadata/utils_session_info.rds  ..\")\n",
    "saveRDS(utils_session_info, file = paste0(\"../metadata/\", notebookid ,\"_utils_info.rds\"))\n",
    "message(\"Done!\\n\")\n",
    "\n",
    "dev_session_info$platform\n",
    "dev_session_info$packages[dev_session_info$packages$attached==TRUE, ]"
   ]
  },
  {
   "cell_type": "code",
   "execution_count": null,
   "metadata": {},
   "outputs": [],
   "source": []
  }
 ],
 "metadata": {
  "kernelspec": {
   "display_name": "R",
   "language": "R",
   "name": "ir"
  },
  "language_info": {
   "codemirror_mode": "r",
   "file_extension": ".r",
   "mimetype": "text/x-r-source",
   "name": "R",
   "pygments_lexer": "r",
   "version": "3.6.1"
  }
 },
 "nbformat": 4,
 "nbformat_minor": 4
}
