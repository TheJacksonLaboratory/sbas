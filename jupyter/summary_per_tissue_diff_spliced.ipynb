{
 "cells": [
  {
   "cell_type": "markdown",
   "metadata": {},
   "source": [
    "# Supplementary: Counts of differentially spliced exons per examined tissue\n",
    "\n",
    "This notebook aggregates the results from the differential splicing from (**see** [figureXXX.ipynb](figure1.ipynb)), and more specifically the `limma::topTable()` output dataframes across all tissues in the GTEX cohort and generates summary statistics for the number of genes found to be statistically up or downregulated between male and female subjects."
   ]
  },
  {
   "cell_type": "markdown",
   "metadata": {},
   "source": [
    " ---\n",
    " \n",
    " **Running this notebook**:\n",
    " \n",
    "A few steps are needed before you can run this document on your own. The GitHub repository (https://github.com/TheJacksonLaboratory/sbas) of the project contains detailed instructions for setting up the environment in the **`dependencies/README.md`** document. Before starting with the analysis, make sure you have first completed the dependencies set up by following the instructions described there. If you have not done this already, you will need to close and restart this notebook before running it.\n",
    "\n",
    "All paths defined in this Notebook are relative to the parent directory (repository). \n",
    "\n",
    " ---\n"
   ]
  },
  {
   "cell_type": "markdown",
   "metadata": {},
   "source": [
    "# Loading dependencies"
   ]
  },
  {
   "cell_type": "code",
   "execution_count": 1,
   "metadata": {},
   "outputs": [
    {
     "name": "stderr",
     "output_type": "stream",
     "text": [
      "Warning message:\n",
      "“package ‘dplyr’ was built under R version 3.6.2”\n",
      "Attaching package: ‘dplyr’\n",
      "\n",
      "The following objects are masked from ‘package:stats’:\n",
      "\n",
      "    filter, lag\n",
      "\n",
      "The following objects are masked from ‘package:base’:\n",
      "\n",
      "    intersect, setdiff, setequal, union\n",
      "\n",
      "Warning message:\n",
      "“package ‘tidyr’ was built under R version 3.6.3”\n",
      "Attaching package: ‘reshape’\n",
      "\n",
      "The following objects are masked from ‘package:tidyr’:\n",
      "\n",
      "    expand, smiths\n",
      "\n",
      "The following object is masked from ‘package:dplyr’:\n",
      "\n",
      "    rename\n",
      "\n",
      "Warning message:\n",
      "“package ‘snakecase’ was built under R version 3.6.3”"
     ]
    }
   ],
   "source": [
    "library(dplyr)\n",
    "library(tidyr)\n",
    "library(reshape)\n",
    "library(ggplot2)\n",
    "library(piggyback)\n",
    "library(snakecase)"
   ]
  },
  {
   "cell_type": "markdown",
   "metadata": {},
   "source": [
    "# Retrieving the results from the Differential Splicing Events using [`ropensci/piggyback`](https://github.com/ropensci/piggyback)\n",
    "\n",
    "This notebook requires as input data the limma `topTable()` objects from the Differential Gene Expression analysis (see [figureXXX.ipynb]()). We have archived the results from the notebook that generates the results using the method described by the author of the R package [`ropensci/piggyback`](https://github.com/ropensci/piggyback). We use the release named `diff_spliced` (Differential Spliced Exons) in the repo and can be accessed at [TheJacksonLaboratory/sbas/releases/tag/diff_spliced](https://github.com/TheJacksonLaboratory/sbas/releases/tag/diff_spliced). \n",
    "\n",
    "For using the [`ropensci/piggyback`](https://github.com/ropensci/piggyback) with private repositories, it is required that a `GITHUB_TOKEN` is stored as a variable in the R environment in which one is working. To generate such a token with sensible default permissions, the R package [usethis]() has a convenient function \n",
    "\n",
    "```R\n",
    "# intall.packages(\"usethis\")\n",
    "usethis::browse_github_token()\n",
    "```\n",
    "\n",
    "This will redirect you to GitHub to create your own GitHub token. Once you have the token, you can use it to set up `.Renviron` by typing the following:\n",
    "\n",
    "```R\n",
    "Sys.setenv(GITHUB_TOKEN = \"youractualtokenindoublequotes\")\n",
    "```\n",
    "\n",
    "Then you sre ready to use the function [`piggyback::pb_download()`](https://docs.ropensci.org/piggyback/reference/pb_download.html) to retrieve the `dge.tar.gz` that contains the topTable objects written as .csv file for all 46 examined GTEX tissue cohorts.\n",
    "\n",
    "---\n",
    "\n",
    "***NOTE***\n",
    "\n",
    "Avoid using the `.token` argument to share your token directly in the function as you might forget and push your code, along with your private GITHUB_TOKEN to GitHub. If that happens by mistake, it is advised you invalidate the token that has been exposed by accessing [this link](https://github.com/settings/tokens) and clicking `Delete`.\n",
    "\n",
    "---"
   ]
  },
  {
   "cell_type": "code",
   "execution_count": 2,
   "metadata": {},
   "outputs": [],
   "source": [
    "#usethis::browse_github_token()\n",
    "# this does not seem to work -- did a conda install -c r r-piggyback in a terminal window\n",
    "#devtools::install_github(\"ropensci/piggyback@87f71e8\", upgrade=\"never\")\n",
    "Sys.setenv(GITHUB_TOKEN = \"ca4182dec71bfe5ff2128e18f4a66a08c0990e71\")"
   ]
  },
  {
   "cell_type": "code",
   "execution_count": 3,
   "metadata": {},
   "outputs": [
    {
     "name": "stderr",
     "output_type": "stream",
     "text": [
      "downloading results_sex_as_events.tar.gz ...\n"
     ]
    },
    {
     "name": "stdout",
     "output_type": "stream",
     "text": [
      "  |======================================================================| 100%\n"
     ]
    },
    {
     "data": {
      "text/html": [],
      "text/latex": [],
      "text/markdown": [],
      "text/plain": [
       "character(0)"
      ]
     },
     "metadata": {},
     "output_type": "display_data"
    }
   ],
   "source": [
    "piggyback::pb_download(file = \"results_sex_as_events.tar.gz\",\n",
    "                       dest = \"../data\",\n",
    "                       repo = \"TheJacksonLaboratory/sbas\",\n",
    "                       tag  = \"rMATs.3.2.5.gencode.V30.GTEx.V8.DE.v.1.0\",\n",
    "                       show_progress = TRUE)\n",
    "\n",
    "system(\"mv ../data/results_sex_as_events.tar.gz  ../data/diff_spliced.tar.gz\", intern = TRUE)\n",
    "\n",
    "tar_gz_top_table_diff_splicing_archive <- (\"../data/diff_spliced.tar.gz\")\n",
    "if (!file.exists( tar_gz_top_table_diff_splicing_archive )) {\n",
    "    \n",
    "    message( paste0(\"Fetching \", basename(tar_gz_top_table_diff_splicing_archive) , \" from GitHub ..\"))\n",
    "    # Download archive from GitHub release with tag \"dge\"\n",
    "    piggyback::pb_download(file = \"diff_spliced.tar.gz\",\n",
    "                           dest = \"../data\",\n",
    "                           repo = \"TheJacksonLaboratory/sbas\",\n",
    "                           tag  = \"diff_spliced\",\n",
    "                           show_progress = TRUE)\n",
    "    message(\"Done!\\n\")\n",
    "    \n",
    "    message(\"Decompressing archive into folder ../data/diff_spliced ..\")\n",
    "    # Decompress in a folder tmp named dge\n",
    "    system(\"mkdir -p ../data/diff_spliced && tar xvzf ../data/diff_spliced.tar.gz -C ../data/diff_spliced/\", intern = TRUE)\n",
    "    message(\"Done!\\n\")\n",
    "}\n",
    "if (file.exists(\"../data/diff_spliced.tar.gz \")) {\n",
    "    message(\"File diff_spliced.tar.gz already available in ../data/ !\\n\")\n",
    "    message(\"Decompressing archive into folder ../data/diff_spliced ..\")\n",
    "    # Decompress in a folder tmp named dge\n",
    "    system(\"mkdir -p ../data/diff_spliced && tar xvzf ../data/diff_spliced.tar.gz -C ../data/diff_spliced/\", intern = TRUE)\n",
    "    message(\"Done!\\n\")\n",
    "}\n",
    "\n",
    "\n",
    "\n"
   ]
  },
  {
   "cell_type": "code",
   "execution_count": 6,
   "metadata": {},
   "outputs": [
    {
     "name": "stderr",
     "output_type": "stream",
     "text": [
      "Fetching results_dge_ijc_sex.tar.gzfrom GitHub ..\n",
      "downloading results_dge_ijc_sex.tar.gz ...\n"
     ]
    },
    {
     "name": "stdout",
     "output_type": "stream",
     "text": [
      "  |======================================================================| 100%\n"
     ]
    },
    {
     "name": "stderr",
     "output_type": "stream",
     "text": [
      "Done!\n",
      "\n",
      "Decompressing archive into folder ../data/results_dge_ijc_sex ..\n",
      "Done!\n",
      "\n"
     ]
    }
   ],
   "source": [
    "#https://github.com/TheJacksonLaboratory/sbas/releases/download/rMATs.3.2.5.gencode.V30.GTEx.V8.DE.v.1.0/results_dge_ijc_sex.tar.gz\n",
    "\n",
    "if (file.exists(\"../data/results_dge_ijc_sex.tar.gz \")) {\n",
    "    message(\"File results_dge_ijc_sex.tar.gz already available in ../data/ !\\n\")\n",
    "    message(\"Decompressing archive into folder ../data/results_dge_ijc_sex ..\")\n",
    "    # Decompress in a folder tmp named dge\n",
    "    system(\"tar xvzf ../data/results_dge_ijc_sex.tar.gz\", intern = TRUE)\n",
    "    message(\"Done!\\n\")\n",
    "} else {\n",
    "    message( paste0(\"Fetching results_dge_ijc_sex.tar.gz\", \"from GitHub ..\"))\n",
    "    # Download archive from GitHub release with tag \"dge\"\n",
    "    piggyback::pb_download(file = \"results_dge_ijc_sex.tar.gz\",\n",
    "                           dest = \"../data\",\n",
    "                           repo = \"TheJacksonLaboratory/sbas\",\n",
    "                           tag  = \"rMATs.3.2.5.gencode.V30.GTEx.V8.DE.v.1.0\",\n",
    "                           show_progress = TRUE)\n",
    "    message(\"Done!\\n\")\n",
    "    message(\"Decompressing archive into folder ../data/results_dge_ijc_sex ..\")\n",
    "    # Decompress in a folder tmp named dge\n",
    "    system(\"tar xvzf ../data/results_dge_ijc_sex.tar.gz\", intern = TRUE)\n",
    "    message(\"Done!\\n\")\n",
    "}    \n",
    " \n",
    "\n"
   ]
  },
  {
   "cell_type": "code",
   "execution_count": 4,
   "metadata": {},
   "outputs": [],
   "source": [
    "\n",
    "# pData_yarn_downloadGTExV8.csv\n",
    "if (! (file.exists(\"../data/pData_yarn_downloadGTExV8.csv\"))) {\n",
    "    system(\"mkdir -p ../data\", intern = TRUE)\n",
    "    message(\"Fetching pData_yarn_downloadGTExV8.csv from GitHub ..\")\n",
    "    # Download archive from GitHub release with tag \"dge\"\n",
    "    piggyback::pb_download(file = \"pData_yarn_downloadGTExV8.csv\",\n",
    "                           dest = \"../data\",\n",
    "                           repo = \"TheJacksonLaboratory/sbas\",\n",
    "                           tag  = \"GTExV8.v1.0\",\n",
    "                           show_progress = TRUE)\n",
    "    message(\"Done!\\n\")\n",
    "}\n",
    "\n",
    "# fromGTF.tar.gz\n",
    "if (! (file.exists(\"../data/fromGTF.tar.gz\"))) {\n",
    "    system(\"mkdir -p ../data\", intern = TRUE)\n",
    "    message(\"Fetching fromGTF.tar.gz from GitHub ..\")\n",
    "    # Download archive from GitHub release with tag \"dge\"\n",
    "    piggyback::pb_download(file = \"fromGTF.tar.gz\",\n",
    "                           dest = \"../data\",\n",
    "                           repo = \"adeslatt/sbas_gtf\",\n",
    "                           tag  = \"rMATS.3.2.5.gencode.v30\",\n",
    "                           show_progress = TRUE)\n",
    "    message(\"Done!\\n\")\n",
    "    message(\"Decompressing fromGTF.tar.gz into ../data\")\n",
    "    system(\"mkdir -p ../data && tar xvfz ../data/fromGTF.tar.gz -C ../data\", intern = TRUE)\n",
    "    message(\"Done!\\n\")\n",
    "    message(\"Decompressing fromGTF.*.txt.gz into ../data\")\n",
    "    system(\"gunzip  ../data/fromGTF*.txt.gz \", intern = TRUE)\n",
    "    message(\"Done!\\n\")\n",
    "}\n"
   ]
  },
  {
   "cell_type": "markdown",
   "metadata": {},
   "source": [
    "# Create a list of named dataframes with the Differentially Spliced Exons `limma::topTable()`s\n",
    "\n",
    "We will iterate over the list of named dataframes to collect summary statistics. More specifically, retrieve the count of:\n",
    "- upregulated\n",
    "- downregulated\n",
    "- non significant\n",
    "\n",
    "differentially spliced exons for the contrast males-females per tissue."
   ]
  },
  {
   "cell_type": "code",
   "execution_count": 16,
   "metadata": {},
   "outputs": [],
   "source": [
    "suffix_pattern   <- \"*_DGE_ijc_sex.csv\"\n",
    "tables_folder    <- \"../data/results_dge_ijc_sex/\"\n",
    "\n",
    "tables_filepaths <- list.files(tables_folder, pattern = suffix_pattern, full.names = TRUE)\n",
    "tables_filenames <- list.files(tables_folder, pattern = suffix_pattern, full.names = FALSE)"
   ]
  },
  {
   "cell_type": "code",
   "execution_count": 18,
   "metadata": {},
   "outputs": [],
   "source": [
    "all_topTables <- lapply(tables_filepaths,read.csv)\n",
    "names(all_topTables) <- gsub(\"_DGE_ijc_sex.csv\",\"\", tables_filenames, fixed = TRUE)"
   ]
  },
  {
   "cell_type": "markdown",
   "metadata": {},
   "source": [
    "The list named `all_topTables` is the object that holds all the topTable dataframes from each tissue comparison:"
   ]
  },
  {
   "cell_type": "code",
   "execution_count": 19,
   "metadata": {},
   "outputs": [
    {
     "data": {
      "text/html": [
       "44"
      ],
      "text/latex": [
       "44"
      ],
      "text/markdown": [
       "44"
      ],
      "text/plain": [
       "[1] 44"
      ]
     },
     "metadata": {},
     "output_type": "display_data"
    }
   ],
   "source": [
    "length(all_topTables)"
   ]
  },
  {
   "cell_type": "code",
   "execution_count": 20,
   "metadata": {},
   "outputs": [
    {
     "data": {
      "text/plain": [
       "                                      Length Class      Mode\n",
       "adipose_visceral_omentum              6      data.frame list\n",
       "adrenal_gland                         6      data.frame list\n",
       "artery_aorta                          6      data.frame list\n",
       "artery_coronary                       6      data.frame list\n",
       "artery_tibial                         6      data.frame list\n",
       "bladder                               6      data.frame list\n",
       "brain_amygdala                        6      data.frame list\n",
       "brain_anterior_cingulate_cortex_ba_24 6      data.frame list\n",
       "brain_caudate_basal_ganglia           6      data.frame list\n",
       "brain_cerebellar_hemisphere           6      data.frame list\n",
       "brain_cerebellum                      6      data.frame list\n",
       "brain_cortex                          6      data.frame list\n",
       "brain_frontal_cortex_ba_9             6      data.frame list\n",
       "brain_hippocampus                     6      data.frame list\n",
       "brain_hypothalamus                    6      data.frame list\n",
       "brain_nucleus_accumbens_basal_ganglia 6      data.frame list\n",
       "brain_putamen_basal_ganglia           6      data.frame list\n",
       "brain_spinal_cord_cervical_c_1        6      data.frame list\n",
       "brain_substantia_nigra                6      data.frame list\n",
       "breast_mammary_tissue                 6      data.frame list\n",
       "cells_cultured_fibroblasts            6      data.frame list\n",
       "cells_ebv_transformed_lymphocytes     6      data.frame list\n",
       "colon_sigmoid                         6      data.frame list\n",
       "colon_transverse                      6      data.frame list\n",
       "esophagus_gastroesophageal_junction   6      data.frame list\n",
       "esophagus_mucosa                      6      data.frame list\n",
       "esophagus_muscularis                  6      data.frame list\n",
       "heart_atrial_appendage                6      data.frame list\n",
       "heart_left_ventricle                  6      data.frame list\n",
       "kidney_cortex                         6      data.frame list\n",
       "liver                                 6      data.frame list\n",
       "lung                                  6      data.frame list\n",
       "minor_salivary_gland                  6      data.frame list\n",
       "muscle_skeletal                       6      data.frame list\n",
       "nerve_tibial                          6      data.frame list\n",
       "pancreas                              6      data.frame list\n",
       "pituitary                             6      data.frame list\n",
       "skin_not_sun_exposed_suprapubic       6      data.frame list\n",
       "skin_sun_exposed_lower_leg            6      data.frame list\n",
       "small_intestine_terminal_ileum        6      data.frame list\n",
       "spleen                                6      data.frame list\n",
       "stomach                               6      data.frame list\n",
       "thyroid                               6      data.frame list\n",
       "whole_blood                           6      data.frame list"
      ]
     },
     "metadata": {},
     "output_type": "display_data"
    }
   ],
   "source": [
    "summary(all_topTables)"
   ]
  },
  {
   "cell_type": "code",
   "execution_count": 21,
   "metadata": {},
   "outputs": [
    {
     "data": {
      "text/html": [
       "<table>\n",
       "<caption>A data.frame: 21 × 6</caption>\n",
       "<thead>\n",
       "\t<tr><th></th><th scope=col>logFC</th><th scope=col>AveExpr</th><th scope=col>t</th><th scope=col>P.Value</th><th scope=col>adj.P.Val</th><th scope=col>B</th></tr>\n",
       "\t<tr><th></th><th scope=col>&lt;dbl&gt;</th><th scope=col>&lt;dbl&gt;</th><th scope=col>&lt;dbl&gt;</th><th scope=col>&lt;dbl&gt;</th><th scope=col>&lt;dbl&gt;</th><th scope=col>&lt;dbl&gt;</th></tr>\n",
       "</thead>\n",
       "<tbody>\n",
       "\t<tr><th scope=row>XIST-10151</th><td> 7.1845461</td><td> 0.8439706</td><td>75.675107</td><td>2.712786e-160</td><td>1.152500e-155</td><td>302.376855</td></tr>\n",
       "\t<tr><th scope=row>XIST-10155</th><td> 7.4757161</td><td> 1.0982950</td><td>66.677316</td><td>1.268847e-148</td><td>1.796857e-144</td><td>284.476278</td></tr>\n",
       "\t<tr><th scope=row>XIST-10150</th><td> 8.2035403</td><td> 1.6622411</td><td>68.712837</td><td>2.200632e-151</td><td>4.674582e-147</td><td>283.506531</td></tr>\n",
       "\t<tr><th scope=row>XIST-10153</th><td> 6.4600751</td><td> 0.5929219</td><td>62.141975</td><td>3.462530e-142</td><td>2.942042e-138</td><td>272.819813</td></tr>\n",
       "\t<tr><th scope=row>XIST-10154</th><td> 8.0107017</td><td> 1.7803221</td><td>65.679094</td><td>3.057525e-147</td><td>3.247397e-143</td><td>271.909270</td></tr>\n",
       "\t<tr><th scope=row>XIST-10149</th><td> 8.3300187</td><td> 2.1882872</td><td>61.121716</td><td>1.109224e-140</td><td>7.854046e-137</td><td>256.247134</td></tr>\n",
       "\t<tr><th scope=row>XIST-10152</th><td> 1.5130491</td><td>-1.5613092</td><td>12.788198</td><td> 2.067681e-28</td><td> 1.254905e-24</td><td> 49.571551</td></tr>\n",
       "\t<tr><th scope=row>KDM5C-22848</th><td> 0.5674111</td><td> 3.7734166</td><td> 9.710744</td><td> 8.438039e-19</td><td> 4.481021e-15</td><td> 31.681326</td></tr>\n",
       "\t<tr><th scope=row>KDM5C-22847</th><td> 0.4282579</td><td> 5.1275698</td><td> 8.968645</td><td> 1.286765e-16</td><td> 6.074104e-13</td><td> 27.098898</td></tr>\n",
       "\t<tr><th scope=row>EIF1AX-29498</th><td> 0.5229461</td><td> 7.0410769</td><td> 7.877401</td><td> 1.487083e-13</td><td> 6.317724e-10</td><td> 20.306047</td></tr>\n",
       "\t<tr><th scope=row>KDM6A-22439</th><td> 0.6347391</td><td> 2.9231068</td><td> 7.467510</td><td> 1.857573e-12</td><td> 7.174285e-09</td><td> 17.642657</td></tr>\n",
       "\t<tr><th scope=row>CD99-8426</th><td>-0.3040570</td><td> 9.3574768</td><td>-7.070432</td><td> 1.992261e-11</td><td> 7.053267e-08</td><td> 15.430767</td></tr>\n",
       "\t<tr><th scope=row>ZFX-13702</th><td> 0.4998844</td><td> 3.2805591</td><td> 6.923187</td><td> 4.709268e-11</td><td> 1.538989e-07</td><td> 14.667215</td></tr>\n",
       "\t<tr><th scope=row>KDM6A-22436</th><td> 0.6791824</td><td> 1.7007510</td><td> 6.592826</td><td> 3.115762e-10</td><td> 9.455001e-07</td><td> 12.557879</td></tr>\n",
       "\t<tr><th scope=row>JPX-29592</th><td> 0.7304790</td><td> 3.2679565</td><td> 6.451548</td><td> 6.867228e-10</td><td> 1.944982e-06</td><td> 12.148823</td></tr>\n",
       "\t<tr><th scope=row>ZFX-13700</th><td> 0.4492342</td><td> 3.6969964</td><td> 6.439013</td><td> 7.362131e-10</td><td> 1.954830e-06</td><td> 12.110441</td></tr>\n",
       "\t<tr><th scope=row>PNPLA4-24158</th><td> 0.4778395</td><td> 3.7174417</td><td> 6.316615</td><td> 1.445838e-09</td><td> 3.613234e-06</td><td> 11.473470</td></tr>\n",
       "\t<tr><th scope=row>KDM6A-22435</th><td> 0.6138060</td><td> 1.3574863</td><td> 6.141380</td><td> 3.744192e-09</td><td> 8.837125e-06</td><td> 10.204542</td></tr>\n",
       "\t<tr><th scope=row>SMC1A-882</th><td> 0.3337240</td><td> 5.0073141</td><td> 5.958521</td><td> 9.915729e-09</td><td> 2.217157e-05</td><td>  9.642321</td></tr>\n",
       "\t<tr><th scope=row>GYG2-8630</th><td> 1.3261438</td><td> 4.9091002</td><td> 5.804810</td><td> 2.213998e-08</td><td> 4.702974e-05</td><td>  8.873274</td></tr>\n",
       "\t<tr><th scope=row>FRG1CP-23728</th><td>-0.5304428</td><td> 3.8249293</td><td>-5.640186</td><td> 5.150426e-08</td><td> 1.041956e-04</td><td>  8.103002</td></tr>\n",
       "</tbody>\n",
       "</table>\n"
      ],
      "text/latex": [
       "A data.frame: 21 × 6\n",
       "\\begin{tabular}{r|llllll}\n",
       "  & logFC & AveExpr & t & P.Value & adj.P.Val & B\\\\\n",
       "  & <dbl> & <dbl> & <dbl> & <dbl> & <dbl> & <dbl>\\\\\n",
       "\\hline\n",
       "\tXIST-10151 &  7.1845461 &  0.8439706 & 75.675107 & 2.712786e-160 & 1.152500e-155 & 302.376855\\\\\n",
       "\tXIST-10155 &  7.4757161 &  1.0982950 & 66.677316 & 1.268847e-148 & 1.796857e-144 & 284.476278\\\\\n",
       "\tXIST-10150 &  8.2035403 &  1.6622411 & 68.712837 & 2.200632e-151 & 4.674582e-147 & 283.506531\\\\\n",
       "\tXIST-10153 &  6.4600751 &  0.5929219 & 62.141975 & 3.462530e-142 & 2.942042e-138 & 272.819813\\\\\n",
       "\tXIST-10154 &  8.0107017 &  1.7803221 & 65.679094 & 3.057525e-147 & 3.247397e-143 & 271.909270\\\\\n",
       "\tXIST-10149 &  8.3300187 &  2.1882872 & 61.121716 & 1.109224e-140 & 7.854046e-137 & 256.247134\\\\\n",
       "\tXIST-10152 &  1.5130491 & -1.5613092 & 12.788198 &  2.067681e-28 &  1.254905e-24 &  49.571551\\\\\n",
       "\tKDM5C-22848 &  0.5674111 &  3.7734166 &  9.710744 &  8.438039e-19 &  4.481021e-15 &  31.681326\\\\\n",
       "\tKDM5C-22847 &  0.4282579 &  5.1275698 &  8.968645 &  1.286765e-16 &  6.074104e-13 &  27.098898\\\\\n",
       "\tEIF1AX-29498 &  0.5229461 &  7.0410769 &  7.877401 &  1.487083e-13 &  6.317724e-10 &  20.306047\\\\\n",
       "\tKDM6A-22439 &  0.6347391 &  2.9231068 &  7.467510 &  1.857573e-12 &  7.174285e-09 &  17.642657\\\\\n",
       "\tCD99-8426 & -0.3040570 &  9.3574768 & -7.070432 &  1.992261e-11 &  7.053267e-08 &  15.430767\\\\\n",
       "\tZFX-13702 &  0.4998844 &  3.2805591 &  6.923187 &  4.709268e-11 &  1.538989e-07 &  14.667215\\\\\n",
       "\tKDM6A-22436 &  0.6791824 &  1.7007510 &  6.592826 &  3.115762e-10 &  9.455001e-07 &  12.557879\\\\\n",
       "\tJPX-29592 &  0.7304790 &  3.2679565 &  6.451548 &  6.867228e-10 &  1.944982e-06 &  12.148823\\\\\n",
       "\tZFX-13700 &  0.4492342 &  3.6969964 &  6.439013 &  7.362131e-10 &  1.954830e-06 &  12.110441\\\\\n",
       "\tPNPLA4-24158 &  0.4778395 &  3.7174417 &  6.316615 &  1.445838e-09 &  3.613234e-06 &  11.473470\\\\\n",
       "\tKDM6A-22435 &  0.6138060 &  1.3574863 &  6.141380 &  3.744192e-09 &  8.837125e-06 &  10.204542\\\\\n",
       "\tSMC1A-882 &  0.3337240 &  5.0073141 &  5.958521 &  9.915729e-09 &  2.217157e-05 &   9.642321\\\\\n",
       "\tGYG2-8630 &  1.3261438 &  4.9091002 &  5.804810 &  2.213998e-08 &  4.702974e-05 &   8.873274\\\\\n",
       "\tFRG1CP-23728 & -0.5304428 &  3.8249293 & -5.640186 &  5.150426e-08 &  1.041956e-04 &   8.103002\\\\\n",
       "\\end{tabular}\n"
      ],
      "text/markdown": [
       "\n",
       "A data.frame: 21 × 6\n",
       "\n",
       "| <!--/--> | logFC &lt;dbl&gt; | AveExpr &lt;dbl&gt; | t &lt;dbl&gt; | P.Value &lt;dbl&gt; | adj.P.Val &lt;dbl&gt; | B &lt;dbl&gt; |\n",
       "|---|---|---|---|---|---|---|\n",
       "| XIST-10151 |  7.1845461 |  0.8439706 | 75.675107 | 2.712786e-160 | 1.152500e-155 | 302.376855 |\n",
       "| XIST-10155 |  7.4757161 |  1.0982950 | 66.677316 | 1.268847e-148 | 1.796857e-144 | 284.476278 |\n",
       "| XIST-10150 |  8.2035403 |  1.6622411 | 68.712837 | 2.200632e-151 | 4.674582e-147 | 283.506531 |\n",
       "| XIST-10153 |  6.4600751 |  0.5929219 | 62.141975 | 3.462530e-142 | 2.942042e-138 | 272.819813 |\n",
       "| XIST-10154 |  8.0107017 |  1.7803221 | 65.679094 | 3.057525e-147 | 3.247397e-143 | 271.909270 |\n",
       "| XIST-10149 |  8.3300187 |  2.1882872 | 61.121716 | 1.109224e-140 | 7.854046e-137 | 256.247134 |\n",
       "| XIST-10152 |  1.5130491 | -1.5613092 | 12.788198 |  2.067681e-28 |  1.254905e-24 |  49.571551 |\n",
       "| KDM5C-22848 |  0.5674111 |  3.7734166 |  9.710744 |  8.438039e-19 |  4.481021e-15 |  31.681326 |\n",
       "| KDM5C-22847 |  0.4282579 |  5.1275698 |  8.968645 |  1.286765e-16 |  6.074104e-13 |  27.098898 |\n",
       "| EIF1AX-29498 |  0.5229461 |  7.0410769 |  7.877401 |  1.487083e-13 |  6.317724e-10 |  20.306047 |\n",
       "| KDM6A-22439 |  0.6347391 |  2.9231068 |  7.467510 |  1.857573e-12 |  7.174285e-09 |  17.642657 |\n",
       "| CD99-8426 | -0.3040570 |  9.3574768 | -7.070432 |  1.992261e-11 |  7.053267e-08 |  15.430767 |\n",
       "| ZFX-13702 |  0.4998844 |  3.2805591 |  6.923187 |  4.709268e-11 |  1.538989e-07 |  14.667215 |\n",
       "| KDM6A-22436 |  0.6791824 |  1.7007510 |  6.592826 |  3.115762e-10 |  9.455001e-07 |  12.557879 |\n",
       "| JPX-29592 |  0.7304790 |  3.2679565 |  6.451548 |  6.867228e-10 |  1.944982e-06 |  12.148823 |\n",
       "| ZFX-13700 |  0.4492342 |  3.6969964 |  6.439013 |  7.362131e-10 |  1.954830e-06 |  12.110441 |\n",
       "| PNPLA4-24158 |  0.4778395 |  3.7174417 |  6.316615 |  1.445838e-09 |  3.613234e-06 |  11.473470 |\n",
       "| KDM6A-22435 |  0.6138060 |  1.3574863 |  6.141380 |  3.744192e-09 |  8.837125e-06 |  10.204542 |\n",
       "| SMC1A-882 |  0.3337240 |  5.0073141 |  5.958521 |  9.915729e-09 |  2.217157e-05 |   9.642321 |\n",
       "| GYG2-8630 |  1.3261438 |  4.9091002 |  5.804810 |  2.213998e-08 |  4.702974e-05 |   8.873274 |\n",
       "| FRG1CP-23728 | -0.5304428 |  3.8249293 | -5.640186 |  5.150426e-08 |  1.041956e-04 |   8.103002 |\n",
       "\n"
      ],
      "text/plain": [
       "             logFC      AveExpr    t         P.Value       adj.P.Val    \n",
       "XIST-10151    7.1845461  0.8439706 75.675107 2.712786e-160 1.152500e-155\n",
       "XIST-10155    7.4757161  1.0982950 66.677316 1.268847e-148 1.796857e-144\n",
       "XIST-10150    8.2035403  1.6622411 68.712837 2.200632e-151 4.674582e-147\n",
       "XIST-10153    6.4600751  0.5929219 62.141975 3.462530e-142 2.942042e-138\n",
       "XIST-10154    8.0107017  1.7803221 65.679094 3.057525e-147 3.247397e-143\n",
       "XIST-10149    8.3300187  2.1882872 61.121716 1.109224e-140 7.854046e-137\n",
       "XIST-10152    1.5130491 -1.5613092 12.788198  2.067681e-28  1.254905e-24\n",
       "KDM5C-22848   0.5674111  3.7734166  9.710744  8.438039e-19  4.481021e-15\n",
       "KDM5C-22847   0.4282579  5.1275698  8.968645  1.286765e-16  6.074104e-13\n",
       "EIF1AX-29498  0.5229461  7.0410769  7.877401  1.487083e-13  6.317724e-10\n",
       "KDM6A-22439   0.6347391  2.9231068  7.467510  1.857573e-12  7.174285e-09\n",
       "CD99-8426    -0.3040570  9.3574768 -7.070432  1.992261e-11  7.053267e-08\n",
       "ZFX-13702     0.4998844  3.2805591  6.923187  4.709268e-11  1.538989e-07\n",
       "KDM6A-22436   0.6791824  1.7007510  6.592826  3.115762e-10  9.455001e-07\n",
       "JPX-29592     0.7304790  3.2679565  6.451548  6.867228e-10  1.944982e-06\n",
       "ZFX-13700     0.4492342  3.6969964  6.439013  7.362131e-10  1.954830e-06\n",
       "PNPLA4-24158  0.4778395  3.7174417  6.316615  1.445838e-09  3.613234e-06\n",
       "KDM6A-22435   0.6138060  1.3574863  6.141380  3.744192e-09  8.837125e-06\n",
       "SMC1A-882     0.3337240  5.0073141  5.958521  9.915729e-09  2.217157e-05\n",
       "GYG2-8630     1.3261438  4.9091002  5.804810  2.213998e-08  4.702974e-05\n",
       "FRG1CP-23728 -0.5304428  3.8249293 -5.640186  5.150426e-08  1.041956e-04\n",
       "             B         \n",
       "XIST-10151   302.376855\n",
       "XIST-10155   284.476278\n",
       "XIST-10150   283.506531\n",
       "XIST-10153   272.819813\n",
       "XIST-10154   271.909270\n",
       "XIST-10149   256.247134\n",
       "XIST-10152    49.571551\n",
       "KDM5C-22848   31.681326\n",
       "KDM5C-22847   27.098898\n",
       "EIF1AX-29498  20.306047\n",
       "KDM6A-22439   17.642657\n",
       "CD99-8426     15.430767\n",
       "ZFX-13702     14.667215\n",
       "KDM6A-22436   12.557879\n",
       "JPX-29592     12.148823\n",
       "ZFX-13700     12.110441\n",
       "PNPLA4-24158  11.473470\n",
       "KDM6A-22435   10.204542\n",
       "SMC1A-882      9.642321\n",
       "GYG2-8630      8.873274\n",
       "FRG1CP-23728   8.103002"
      ]
     },
     "metadata": {},
     "output_type": "display_data"
    }
   ],
   "source": [
    "head(all_topTables[[1]] , 21)"
   ]
  },
  {
   "cell_type": "markdown",
   "metadata": {},
   "source": [
    "# Loading the feature annotation tab seperated file `fromGTF.SE.txt`"
   ]
  },
  {
   "cell_type": "code",
   "execution_count": 22,
   "metadata": {},
   "outputs": [
    {
     "data": {
      "text/html": [
       "<table>\n",
       "<caption>A data.frame: 6 × 11</caption>\n",
       "<thead>\n",
       "\t<tr><th></th><th scope=col>ID</th><th scope=col>GeneID</th><th scope=col>geneSymbol</th><th scope=col>chr</th><th scope=col>strand</th><th scope=col>exonStart_0base</th><th scope=col>exonEnd</th><th scope=col>upstreamES</th><th scope=col>upstreamEE</th><th scope=col>downstreamES</th><th scope=col>downstreamEE</th></tr>\n",
       "\t<tr><th></th><th scope=col>&lt;chr&gt;</th><th scope=col>&lt;fct&gt;</th><th scope=col>&lt;fct&gt;</th><th scope=col>&lt;fct&gt;</th><th scope=col>&lt;fct&gt;</th><th scope=col>&lt;int&gt;</th><th scope=col>&lt;int&gt;</th><th scope=col>&lt;int&gt;</th><th scope=col>&lt;int&gt;</th><th scope=col>&lt;int&gt;</th><th scope=col>&lt;int&gt;</th></tr>\n",
       "</thead>\n",
       "<tbody>\n",
       "\t<tr><th scope=row>1</th><td>1</td><td>ENSG00000034152.18</td><td>MAP2K3</td><td>chr17</td><td>+</td><td>21287990</td><td>21288091</td><td>21284709</td><td>21284969</td><td>21295674</td><td>21295769</td></tr>\n",
       "\t<tr><th scope=row>2</th><td>2</td><td>ENSG00000034152.18</td><td>MAP2K3</td><td>chr17</td><td>+</td><td>21303182</td><td>21303234</td><td>21302142</td><td>21302259</td><td>21304425</td><td>21304553</td></tr>\n",
       "\t<tr><th scope=row>3</th><td>3</td><td>ENSG00000034152.18</td><td>MAP2K3</td><td>chr17</td><td>+</td><td>21295674</td><td>21295769</td><td>21287990</td><td>21288091</td><td>21296085</td><td>21296143</td></tr>\n",
       "\t<tr><th scope=row>4</th><td>4</td><td>ENSG00000034152.18</td><td>MAP2K3</td><td>chr17</td><td>+</td><td>21295674</td><td>21295769</td><td>21287990</td><td>21288091</td><td>21298412</td><td>21298479</td></tr>\n",
       "\t<tr><th scope=row>5</th><td>5</td><td>ENSG00000034152.18</td><td>MAP2K3</td><td>chr17</td><td>+</td><td>21295674</td><td>21295769</td><td>21284710</td><td>21284969</td><td>21296085</td><td>21296143</td></tr>\n",
       "\t<tr><th scope=row>6</th><td>6</td><td>ENSG00000034152.18</td><td>MAP2K3</td><td>chr17</td><td>+</td><td>21295674</td><td>21295769</td><td>21284710</td><td>21284969</td><td>21298412</td><td>21298479</td></tr>\n",
       "</tbody>\n",
       "</table>\n"
      ],
      "text/latex": [
       "A data.frame: 6 × 11\n",
       "\\begin{tabular}{r|lllllllllll}\n",
       "  & ID & GeneID & geneSymbol & chr & strand & exonStart\\_0base & exonEnd & upstreamES & upstreamEE & downstreamES & downstreamEE\\\\\n",
       "  & <chr> & <fct> & <fct> & <fct> & <fct> & <int> & <int> & <int> & <int> & <int> & <int>\\\\\n",
       "\\hline\n",
       "\t1 & 1 & ENSG00000034152.18 & MAP2K3 & chr17 & + & 21287990 & 21288091 & 21284709 & 21284969 & 21295674 & 21295769\\\\\n",
       "\t2 & 2 & ENSG00000034152.18 & MAP2K3 & chr17 & + & 21303182 & 21303234 & 21302142 & 21302259 & 21304425 & 21304553\\\\\n",
       "\t3 & 3 & ENSG00000034152.18 & MAP2K3 & chr17 & + & 21295674 & 21295769 & 21287990 & 21288091 & 21296085 & 21296143\\\\\n",
       "\t4 & 4 & ENSG00000034152.18 & MAP2K3 & chr17 & + & 21295674 & 21295769 & 21287990 & 21288091 & 21298412 & 21298479\\\\\n",
       "\t5 & 5 & ENSG00000034152.18 & MAP2K3 & chr17 & + & 21295674 & 21295769 & 21284710 & 21284969 & 21296085 & 21296143\\\\\n",
       "\t6 & 6 & ENSG00000034152.18 & MAP2K3 & chr17 & + & 21295674 & 21295769 & 21284710 & 21284969 & 21298412 & 21298479\\\\\n",
       "\\end{tabular}\n"
      ],
      "text/markdown": [
       "\n",
       "A data.frame: 6 × 11\n",
       "\n",
       "| <!--/--> | ID &lt;chr&gt; | GeneID &lt;fct&gt; | geneSymbol &lt;fct&gt; | chr &lt;fct&gt; | strand &lt;fct&gt; | exonStart_0base &lt;int&gt; | exonEnd &lt;int&gt; | upstreamES &lt;int&gt; | upstreamEE &lt;int&gt; | downstreamES &lt;int&gt; | downstreamEE &lt;int&gt; |\n",
       "|---|---|---|---|---|---|---|---|---|---|---|---|\n",
       "| 1 | 1 | ENSG00000034152.18 | MAP2K3 | chr17 | + | 21287990 | 21288091 | 21284709 | 21284969 | 21295674 | 21295769 |\n",
       "| 2 | 2 | ENSG00000034152.18 | MAP2K3 | chr17 | + | 21303182 | 21303234 | 21302142 | 21302259 | 21304425 | 21304553 |\n",
       "| 3 | 3 | ENSG00000034152.18 | MAP2K3 | chr17 | + | 21295674 | 21295769 | 21287990 | 21288091 | 21296085 | 21296143 |\n",
       "| 4 | 4 | ENSG00000034152.18 | MAP2K3 | chr17 | + | 21295674 | 21295769 | 21287990 | 21288091 | 21298412 | 21298479 |\n",
       "| 5 | 5 | ENSG00000034152.18 | MAP2K3 | chr17 | + | 21295674 | 21295769 | 21284710 | 21284969 | 21296085 | 21296143 |\n",
       "| 6 | 6 | ENSG00000034152.18 | MAP2K3 | chr17 | + | 21295674 | 21295769 | 21284710 | 21284969 | 21298412 | 21298479 |\n",
       "\n"
      ],
      "text/plain": [
       "  ID GeneID             geneSymbol chr   strand exonStart_0base exonEnd \n",
       "1 1  ENSG00000034152.18 MAP2K3     chr17 +      21287990        21288091\n",
       "2 2  ENSG00000034152.18 MAP2K3     chr17 +      21303182        21303234\n",
       "3 3  ENSG00000034152.18 MAP2K3     chr17 +      21295674        21295769\n",
       "4 4  ENSG00000034152.18 MAP2K3     chr17 +      21295674        21295769\n",
       "5 5  ENSG00000034152.18 MAP2K3     chr17 +      21295674        21295769\n",
       "6 6  ENSG00000034152.18 MAP2K3     chr17 +      21295674        21295769\n",
       "  upstreamES upstreamEE downstreamES downstreamEE\n",
       "1 21284709   21284969   21295674     21295769    \n",
       "2 21302142   21302259   21304425     21304553    \n",
       "3 21287990   21288091   21296085     21296143    \n",
       "4 21287990   21288091   21298412     21298479    \n",
       "5 21284710   21284969   21296085     21296143    \n",
       "6 21284710   21284969   21298412     21298479    "
      ]
     },
     "metadata": {},
     "output_type": "display_data"
    }
   ],
   "source": [
    "fromGTF.SE <- read.csv(\"../data/fromGTF.SE.txt\",sep = \"\\t\")\n",
    "fromGTF.SE[[\"ID\"]] <- as.character(fromGTF.SE[[\"ID\"]] )\n",
    "head(fromGTF.SE)"
   ]
  },
  {
   "cell_type": "markdown",
   "metadata": {},
   "source": [
    "# Example with one topTable before iterating over all tissues"
   ]
  },
  {
   "cell_type": "code",
   "execution_count": 23,
   "metadata": {},
   "outputs": [
    {
     "data": {
      "text/html": [
       "'cells_cultured_fibroblasts'"
      ],
      "text/latex": [
       "'cells\\_cultured\\_fibroblasts'"
      ],
      "text/markdown": [
       "'cells_cultured_fibroblasts'"
      ],
      "text/plain": [
       "[1] \"cells_cultured_fibroblasts\""
      ]
     },
     "metadata": {},
     "output_type": "display_data"
    }
   ],
   "source": [
    "# Example topTable and name\n",
    "topTable <- all_topTables[[21]]\n",
    "name     <- names( all_topTables)[21]\n",
    "name\n"
   ]
  },
  {
   "cell_type": "markdown",
   "metadata": {},
   "source": [
    "## Defining the thresholds for the double criterion filtering:\n",
    "\n",
    "Criteria:\n",
    "- Adjusted p-value < `p_value_cuttoff`\n",
    "- Absolute FoldChange > `absFold_change_threshold`"
   ]
  },
  {
   "cell_type": "markdown",
   "metadata": {},
   "source": [
    "----\n",
    "\n",
    "***NOTE***\n",
    "\n",
    "Defining higher in males or females based on the limma design matrix.\n",
    "As we have used 1 for encoding the females and 2 for the males, our *reference level* for the contrast in the expression between males and females is 1, the females.\n",
    "\n",
    "\n",
    "From the `limma` documentation:\n",
    ">The level which is chosen for the *reference level* is the level which is contrasted against. By default, this is simply the first level alphabetically. We can specify that we want group 2 to be the reference level by either using the relevel function [..]\n",
    "\n",
    "By convention, we could say that genes with positive log fold change, are higher in males, whereas the opposite holds true for the ones that are observed to have negative log fold change. \n",
    "\n",
    "---"
   ]
  },
  {
   "cell_type": "code",
   "execution_count": 24,
   "metadata": {},
   "outputs": [
    {
     "data": {
      "text/html": [
       "1.5"
      ],
      "text/latex": [
       "1.5"
      ],
      "text/markdown": [
       "1.5"
      ],
      "text/plain": [
       "[1] 1.5"
      ]
     },
     "metadata": {},
     "output_type": "display_data"
    }
   ],
   "source": [
    "adj.P.Val_threshold  <- 0.05\n",
    "absFoldChange_cutoff <- 1.5\n",
    "absFoldChange_cutoff"
   ]
  },
  {
   "cell_type": "markdown",
   "metadata": {},
   "source": [
    "Replacing potential `NA` values in the `P.Value`, `adj.P.Val` to keep the columns numeric and avoid coersion."
   ]
  },
  {
   "cell_type": "code",
   "execution_count": 25,
   "metadata": {},
   "outputs": [],
   "source": [
    "# replacing NA p-values with p-value = 1\n",
    "topTable$P.Value[is.na(topTable$P.Value)]     <- 1; \n",
    "topTable$adj.P.Val[is.na(topTable$adj.P.Val)] <- 1;"
   ]
  },
  {
   "cell_type": "code",
   "execution_count": 26,
   "metadata": {},
   "outputs": [],
   "source": [
    "# Add helper variable dummy `FoldChange` variable. Use 2 as base of log, because this is the default from limma\n",
    "# The following statement calculates a dummy fold change (how many times higher or lower)\n",
    "# The minus symbol is a convention symbol only! to express eg. a fold change of 0.25 as -4, 4 times lower\n",
    "topTable$FoldChange_dummy    <-   ifelse(topTable$logFC > 0, 2 ^ topTable$logFC, -1 / (2 ^ topTable$logFC))                    \n",
    "\n",
    "# Add helper variable `abs_logFC`.\n",
    "topTable$abs_logFC <- abs(topTable$logFC)\n",
    "\n",
    "# Add helper variable `abundance` for up, down, non_signif\n",
    "topTable$abundance                                                  <- \"non_signif\"\n",
    "topTable$abundance[ ((topTable$logFC >=   log2(absFoldChange_cutoff)) & (topTable$adj.P.Val <= adj.P.Val_threshold )) ]   <- \"higher\"\n",
    "topTable$abundance[ ((topTable$logFC <=  -log2(absFoldChange_cutoff)) & (topTable$adj.P.Val <= adj.P.Val_threshold )) ]   <- \"lower\""
   ]
  },
  {
   "cell_type": "code",
   "execution_count": null,
   "metadata": {},
   "outputs": [],
   "source": []
  },
  {
   "cell_type": "code",
   "execution_count": 27,
   "metadata": {},
   "outputs": [
    {
     "data": {
      "text/html": [
       "<style>\n",
       ".list-inline {list-style: none; margin:0; padding: 0}\n",
       ".list-inline>li {display: inline-block}\n",
       ".list-inline>li:not(:last-child)::after {content: \"\\00b7\"; padding: 0 .5ex}\n",
       "</style>\n",
       "<ol class=list-inline><li>42349</li><li>9</li></ol>\n"
      ],
      "text/latex": [
       "\\begin{enumerate*}\n",
       "\\item 42349\n",
       "\\item 9\n",
       "\\end{enumerate*}\n"
      ],
      "text/markdown": [
       "1. 42349\n",
       "2. 9\n",
       "\n",
       "\n"
      ],
      "text/plain": [
       "[1] 42349     9"
      ]
     },
     "metadata": {},
     "output_type": "display_data"
    },
    {
     "data": {
      "text/html": [
       "<style>\n",
       ".list-inline {list-style: none; margin:0; padding: 0}\n",
       ".list-inline>li {display: inline-block}\n",
       ".list-inline>li:not(:last-child)::after {content: \"\\00b7\"; padding: 0 .5ex}\n",
       "</style>\n",
       "<ol class=list-inline><li>60</li><li>9</li></ol>\n"
      ],
      "text/latex": [
       "\\begin{enumerate*}\n",
       "\\item 60\n",
       "\\item 9\n",
       "\\end{enumerate*}\n"
      ],
      "text/markdown": [
       "1. 60\n",
       "2. 9\n",
       "\n",
       "\n"
      ],
      "text/plain": [
       "[1] 60  9"
      ]
     },
     "metadata": {},
     "output_type": "display_data"
    },
    {
     "data": {
      "text/html": [
       "<style>\n",
       ".list-inline {list-style: none; margin:0; padding: 0}\n",
       ".list-inline>li {display: inline-block}\n",
       ".list-inline>li:not(:last-child)::after {content: \"\\00b7\"; padding: 0 .5ex}\n",
       "</style>\n",
       "<ol class=list-inline><li>75</li><li>9</li></ol>\n"
      ],
      "text/latex": [
       "\\begin{enumerate*}\n",
       "\\item 75\n",
       "\\item 9\n",
       "\\end{enumerate*}\n"
      ],
      "text/markdown": [
       "1. 75\n",
       "2. 9\n",
       "\n",
       "\n"
      ],
      "text/plain": [
       "[1] 75  9"
      ]
     },
     "metadata": {},
     "output_type": "display_data"
    }
   ],
   "source": [
    "dim(topTable[ topTable$abundance == \"non_signif\" ,])\n",
    "dim(topTable[ topTable$abundance == \"higher\" ,])\n",
    "dim(topTable[ topTable$abundance == \"lower\" ,])"
   ]
  },
  {
   "cell_type": "code",
   "execution_count": 28,
   "metadata": {},
   "outputs": [
    {
     "data": {
      "text/plain": [
       "\n",
       "    higher      lower non_signif \n",
       "        60         75      42349 "
      ]
     },
     "metadata": {},
     "output_type": "display_data"
    }
   ],
   "source": [
    "table(topTable$abundance)"
   ]
  },
  {
   "cell_type": "markdown",
   "metadata": {},
   "source": [
    "# Define a vector with the columns to keep in the annotated from GTF `topTable` object"
   ]
  },
  {
   "cell_type": "code",
   "execution_count": 29,
   "metadata": {},
   "outputs": [],
   "source": [
    "#toKeep <- c(\"Geneid\",\"logFC\",\"FoldChange_dummy\", \"adj.P.Val\", \"abundance\")\n",
    "toKeep <- colnames(topTable)"
   ]
  },
  {
   "cell_type": "code",
   "execution_count": 30,
   "metadata": {},
   "outputs": [
    {
     "data": {
      "text/html": [
       "<table>\n",
       "<caption>A data.frame: 2 × 9</caption>\n",
       "<thead>\n",
       "\t<tr><th></th><th scope=col>logFC</th><th scope=col>AveExpr</th><th scope=col>t</th><th scope=col>P.Value</th><th scope=col>adj.P.Val</th><th scope=col>B</th><th scope=col>FoldChange_dummy</th><th scope=col>abs_logFC</th><th scope=col>abundance</th></tr>\n",
       "\t<tr><th></th><th scope=col>&lt;dbl&gt;</th><th scope=col>&lt;dbl&gt;</th><th scope=col>&lt;dbl&gt;</th><th scope=col>&lt;dbl&gt;</th><th scope=col>&lt;dbl&gt;</th><th scope=col>&lt;dbl&gt;</th><th scope=col>&lt;dbl&gt;</th><th scope=col>&lt;dbl&gt;</th><th scope=col>&lt;chr&gt;</th></tr>\n",
       "</thead>\n",
       "<tbody>\n",
       "\t<tr><th scope=row>XIST-10154</th><td>8.749820</td><td>1.381448</td><td>99.32050</td><td>3.754659e-218</td><td>1.595129e-213</td><td>423.7647</td><td>430.4853</td><td>8.749820</td><td>higher</td></tr>\n",
       "\t<tr><th scope=row>XIST-10150</th><td>8.645168</td><td>1.418931</td><td>92.26465</td><td>1.433545e-209</td><td>2.030091e-205</td><td>409.6906</td><td>400.3639</td><td>8.645168</td><td>higher</td></tr>\n",
       "</tbody>\n",
       "</table>\n"
      ],
      "text/latex": [
       "A data.frame: 2 × 9\n",
       "\\begin{tabular}{r|lllllllll}\n",
       "  & logFC & AveExpr & t & P.Value & adj.P.Val & B & FoldChange\\_dummy & abs\\_logFC & abundance\\\\\n",
       "  & <dbl> & <dbl> & <dbl> & <dbl> & <dbl> & <dbl> & <dbl> & <dbl> & <chr>\\\\\n",
       "\\hline\n",
       "\tXIST-10154 & 8.749820 & 1.381448 & 99.32050 & 3.754659e-218 & 1.595129e-213 & 423.7647 & 430.4853 & 8.749820 & higher\\\\\n",
       "\tXIST-10150 & 8.645168 & 1.418931 & 92.26465 & 1.433545e-209 & 2.030091e-205 & 409.6906 & 400.3639 & 8.645168 & higher\\\\\n",
       "\\end{tabular}\n"
      ],
      "text/markdown": [
       "\n",
       "A data.frame: 2 × 9\n",
       "\n",
       "| <!--/--> | logFC &lt;dbl&gt; | AveExpr &lt;dbl&gt; | t &lt;dbl&gt; | P.Value &lt;dbl&gt; | adj.P.Val &lt;dbl&gt; | B &lt;dbl&gt; | FoldChange_dummy &lt;dbl&gt; | abs_logFC &lt;dbl&gt; | abundance &lt;chr&gt; |\n",
       "|---|---|---|---|---|---|---|---|---|---|\n",
       "| XIST-10154 | 8.749820 | 1.381448 | 99.32050 | 3.754659e-218 | 1.595129e-213 | 423.7647 | 430.4853 | 8.749820 | higher |\n",
       "| XIST-10150 | 8.645168 | 1.418931 | 92.26465 | 1.433545e-209 | 2.030091e-205 | 409.6906 | 400.3639 | 8.645168 | higher |\n",
       "\n"
      ],
      "text/plain": [
       "           logFC    AveExpr  t        P.Value       adj.P.Val     B       \n",
       "XIST-10154 8.749820 1.381448 99.32050 3.754659e-218 1.595129e-213 423.7647\n",
       "XIST-10150 8.645168 1.418931 92.26465 1.433545e-209 2.030091e-205 409.6906\n",
       "           FoldChange_dummy abs_logFC abundance\n",
       "XIST-10154 430.4853         8.749820  higher   \n",
       "XIST-10150 400.3639         8.645168  higher   "
      ]
     },
     "metadata": {},
     "output_type": "display_data"
    }
   ],
   "source": [
    "head(topTable[ , colnames(topTable) %in% toKeep ],2)"
   ]
  },
  {
   "cell_type": "markdown",
   "metadata": {},
   "source": [
    "# Annotate topTable with the fromGTF file"
   ]
  },
  {
   "cell_type": "code",
   "execution_count": 31,
   "metadata": {},
   "outputs": [],
   "source": [
    "topTable$junctionGeneSymbol <- rownames(topTable)\n",
    "topTable$symbol  <- sub(\"-[^-]+$\",\"\", topTable$junctionGeneSymbol)\n",
    "topTable$ID <- sub(\"^.+-\", \"\", topTable$junctionGeneSymbol)"
   ]
  },
  {
   "cell_type": "code",
   "execution_count": 32,
   "metadata": {},
   "outputs": [
    {
     "data": {
      "text/html": [
       "<table>\n",
       "<caption>A data.frame: 2 × 12</caption>\n",
       "<thead>\n",
       "\t<tr><th></th><th scope=col>logFC</th><th scope=col>AveExpr</th><th scope=col>t</th><th scope=col>P.Value</th><th scope=col>adj.P.Val</th><th scope=col>B</th><th scope=col>FoldChange_dummy</th><th scope=col>abs_logFC</th><th scope=col>abundance</th><th scope=col>junctionGeneSymbol</th><th scope=col>symbol</th><th scope=col>ID</th></tr>\n",
       "\t<tr><th></th><th scope=col>&lt;dbl&gt;</th><th scope=col>&lt;dbl&gt;</th><th scope=col>&lt;dbl&gt;</th><th scope=col>&lt;dbl&gt;</th><th scope=col>&lt;dbl&gt;</th><th scope=col>&lt;dbl&gt;</th><th scope=col>&lt;dbl&gt;</th><th scope=col>&lt;dbl&gt;</th><th scope=col>&lt;chr&gt;</th><th scope=col>&lt;chr&gt;</th><th scope=col>&lt;chr&gt;</th><th scope=col>&lt;chr&gt;</th></tr>\n",
       "</thead>\n",
       "<tbody>\n",
       "\t<tr><th scope=row>XIST-10154</th><td>8.749820</td><td>1.381448</td><td>99.32050</td><td>3.754659e-218</td><td>1.595129e-213</td><td>423.7647</td><td>430.4853</td><td>8.749820</td><td>higher</td><td>XIST-10154</td><td>XIST</td><td>10154</td></tr>\n",
       "\t<tr><th scope=row>XIST-10150</th><td>8.645168</td><td>1.418931</td><td>92.26465</td><td>1.433545e-209</td><td>2.030091e-205</td><td>409.6906</td><td>400.3639</td><td>8.645168</td><td>higher</td><td>XIST-10150</td><td>XIST</td><td>10150</td></tr>\n",
       "</tbody>\n",
       "</table>\n"
      ],
      "text/latex": [
       "A data.frame: 2 × 12\n",
       "\\begin{tabular}{r|llllllllllll}\n",
       "  & logFC & AveExpr & t & P.Value & adj.P.Val & B & FoldChange\\_dummy & abs\\_logFC & abundance & junctionGeneSymbol & symbol & ID\\\\\n",
       "  & <dbl> & <dbl> & <dbl> & <dbl> & <dbl> & <dbl> & <dbl> & <dbl> & <chr> & <chr> & <chr> & <chr>\\\\\n",
       "\\hline\n",
       "\tXIST-10154 & 8.749820 & 1.381448 & 99.32050 & 3.754659e-218 & 1.595129e-213 & 423.7647 & 430.4853 & 8.749820 & higher & XIST-10154 & XIST & 10154\\\\\n",
       "\tXIST-10150 & 8.645168 & 1.418931 & 92.26465 & 1.433545e-209 & 2.030091e-205 & 409.6906 & 400.3639 & 8.645168 & higher & XIST-10150 & XIST & 10150\\\\\n",
       "\\end{tabular}\n"
      ],
      "text/markdown": [
       "\n",
       "A data.frame: 2 × 12\n",
       "\n",
       "| <!--/--> | logFC &lt;dbl&gt; | AveExpr &lt;dbl&gt; | t &lt;dbl&gt; | P.Value &lt;dbl&gt; | adj.P.Val &lt;dbl&gt; | B &lt;dbl&gt; | FoldChange_dummy &lt;dbl&gt; | abs_logFC &lt;dbl&gt; | abundance &lt;chr&gt; | junctionGeneSymbol &lt;chr&gt; | symbol &lt;chr&gt; | ID &lt;chr&gt; |\n",
       "|---|---|---|---|---|---|---|---|---|---|---|---|---|\n",
       "| XIST-10154 | 8.749820 | 1.381448 | 99.32050 | 3.754659e-218 | 1.595129e-213 | 423.7647 | 430.4853 | 8.749820 | higher | XIST-10154 | XIST | 10154 |\n",
       "| XIST-10150 | 8.645168 | 1.418931 | 92.26465 | 1.433545e-209 | 2.030091e-205 | 409.6906 | 400.3639 | 8.645168 | higher | XIST-10150 | XIST | 10150 |\n",
       "\n"
      ],
      "text/plain": [
       "           logFC    AveExpr  t        P.Value       adj.P.Val     B       \n",
       "XIST-10154 8.749820 1.381448 99.32050 3.754659e-218 1.595129e-213 423.7647\n",
       "XIST-10150 8.645168 1.418931 92.26465 1.433545e-209 2.030091e-205 409.6906\n",
       "           FoldChange_dummy abs_logFC abundance junctionGeneSymbol symbol ID   \n",
       "XIST-10154 430.4853         8.749820  higher    XIST-10154         XIST   10154\n",
       "XIST-10150 400.3639         8.645168  higher    XIST-10150         XIST   10150"
      ]
     },
     "metadata": {},
     "output_type": "display_data"
    }
   ],
   "source": [
    "head(topTable, 2)"
   ]
  },
  {
   "cell_type": "code",
   "execution_count": 33,
   "metadata": {},
   "outputs": [
    {
     "data": {
      "text/html": [
       "'cells_cultured_fibroblasts'"
      ],
      "text/latex": [
       "'cells\\_cultured\\_fibroblasts'"
      ],
      "text/markdown": [
       "'cells_cultured_fibroblasts'"
      ],
      "text/plain": [
       "[1] \"cells_cultured_fibroblasts\""
      ]
     },
     "metadata": {},
     "output_type": "display_data"
    },
    {
     "data": {
      "text/html": [
       "<style>\n",
       ".list-inline {list-style: none; margin:0; padding: 0}\n",
       ".list-inline>li {display: inline-block}\n",
       ".list-inline>li:not(:last-child)::after {content: \"\\00b7\"; padding: 0 .5ex}\n",
       "</style>\n",
       "<ol class=list-inline><li>42484</li><li>12</li></ol>\n"
      ],
      "text/latex": [
       "\\begin{enumerate*}\n",
       "\\item 42484\n",
       "\\item 12\n",
       "\\end{enumerate*}\n"
      ],
      "text/markdown": [
       "1. 42484\n",
       "2. 12\n",
       "\n",
       "\n"
      ],
      "text/plain": [
       "[1] 42484    12"
      ]
     },
     "metadata": {},
     "output_type": "display_data"
    },
    {
     "data": {
      "text/html": [
       "<style>\n",
       ".list-inline {list-style: none; margin:0; padding: 0}\n",
       ".list-inline>li {display: inline-block}\n",
       ".list-inline>li:not(:last-child)::after {content: \"\\00b7\"; padding: 0 .5ex}\n",
       "</style>\n",
       "<ol class=list-inline><li>135</li><li>12</li></ol>\n"
      ],
      "text/latex": [
       "\\begin{enumerate*}\n",
       "\\item 135\n",
       "\\item 12\n",
       "\\end{enumerate*}\n"
      ],
      "text/markdown": [
       "1. 135\n",
       "2. 12\n",
       "\n",
       "\n"
      ],
      "text/plain": [
       "[1] 135  12"
      ]
     },
     "metadata": {},
     "output_type": "display_data"
    },
    {
     "data": {
      "text/html": [
       "<style>\n",
       ".list-inline {list-style: none; margin:0; padding: 0}\n",
       ".list-inline>li {display: inline-block}\n",
       ".list-inline>li:not(:last-child)::after {content: \"\\00b7\"; padding: 0 .5ex}\n",
       "</style>\n",
       "<ol class=list-inline><li>60</li><li>12</li></ol>\n"
      ],
      "text/latex": [
       "\\begin{enumerate*}\n",
       "\\item 60\n",
       "\\item 12\n",
       "\\end{enumerate*}\n"
      ],
      "text/markdown": [
       "1. 60\n",
       "2. 12\n",
       "\n",
       "\n"
      ],
      "text/plain": [
       "[1] 60 12"
      ]
     },
     "metadata": {},
     "output_type": "display_data"
    },
    {
     "data": {
      "text/html": [
       "<style>\n",
       ".list-inline {list-style: none; margin:0; padding: 0}\n",
       ".list-inline>li {display: inline-block}\n",
       ".list-inline>li:not(:last-child)::after {content: \"\\00b7\"; padding: 0 .5ex}\n",
       "</style>\n",
       "<ol class=list-inline><li>75</li><li>12</li></ol>\n"
      ],
      "text/latex": [
       "\\begin{enumerate*}\n",
       "\\item 75\n",
       "\\item 12\n",
       "\\end{enumerate*}\n"
      ],
      "text/markdown": [
       "1. 75\n",
       "2. 12\n",
       "\n",
       "\n"
      ],
      "text/plain": [
       "[1] 75 12"
      ]
     },
     "metadata": {},
     "output_type": "display_data"
    }
   ],
   "source": [
    "name\n",
    "dim(topTable)\n",
    "dim(topTable  [ topTable$abundance != \"non_signif\",  ])\n",
    "dim(topTable  [ ((abs(topTable$logFC > log2(absFoldChange_cutoff)) )  & (topTable$adj.P.Val <= adj.P.Val_threshold )) ,  ])\n",
    "dim(topTable  [ ((abs(topTable$logFC < -log2(absFoldChange_cutoff)) )  & (topTable$adj.P.Val <= adj.P.Val_threshold )) ,  ])"
   ]
  },
  {
   "cell_type": "code",
   "execution_count": 34,
   "metadata": {},
   "outputs": [
    {
     "data": {
      "text/plain": [
       "      \n",
       "       higher lower non_signif\n",
       "  [1,]     60    75      42349"
      ]
     },
     "metadata": {},
     "output_type": "display_data"
    }
   ],
   "source": [
    "expression_abundance <- t(table(topTable$abundance))\n",
    "expression_abundance"
   ]
  },
  {
   "cell_type": "code",
   "execution_count": 35,
   "metadata": {},
   "outputs": [],
   "source": [
    "expression_abundance <- t(table(topTable$abundance))\n",
    "signif <- as.data.frame.matrix(expression_abundance)"
   ]
  },
  {
   "cell_type": "code",
   "execution_count": 36,
   "metadata": {},
   "outputs": [
    {
     "data": {
      "text/html": [
       "<table>\n",
       "<caption>A data.frame: 1 × 3</caption>\n",
       "<thead>\n",
       "\t<tr><th scope=col>higher</th><th scope=col>lower</th><th scope=col>non_signif</th></tr>\n",
       "\t<tr><th scope=col>&lt;int&gt;</th><th scope=col>&lt;int&gt;</th><th scope=col>&lt;int&gt;</th></tr>\n",
       "</thead>\n",
       "<tbody>\n",
       "\t<tr><td>60</td><td>75</td><td>42349</td></tr>\n",
       "</tbody>\n",
       "</table>\n"
      ],
      "text/latex": [
       "A data.frame: 1 × 3\n",
       "\\begin{tabular}{lll}\n",
       " higher & lower & non\\_signif\\\\\n",
       " <int> & <int> & <int>\\\\\n",
       "\\hline\n",
       "\t 60 & 75 & 42349\\\\\n",
       "\\end{tabular}\n"
      ],
      "text/markdown": [
       "\n",
       "A data.frame: 1 × 3\n",
       "\n",
       "| higher &lt;int&gt; | lower &lt;int&gt; | non_signif &lt;int&gt; |\n",
       "|---|---|---|\n",
       "| 60 | 75 | 42349 |\n",
       "\n"
      ],
      "text/plain": [
       "  higher lower non_signif\n",
       "1 60     75    42349     "
      ]
     },
     "metadata": {},
     "output_type": "display_data"
    }
   ],
   "source": [
    "signif"
   ]
  },
  {
   "cell_type": "code",
   "execution_count": 37,
   "metadata": {},
   "outputs": [],
   "source": [
    "annotatedTopTable <- dplyr::left_join(topTable, fromGTF.SE, by = \"ID\")"
   ]
  },
  {
   "cell_type": "code",
   "execution_count": 38,
   "metadata": {},
   "outputs": [
    {
     "data": {
      "text/plain": [
       "\n",
       "    higher      lower non_signif \n",
       "        60         75      42349 "
      ]
     },
     "metadata": {},
     "output_type": "display_data"
    }
   ],
   "source": [
    "table(annotatedTopTable$abundance)"
   ]
  },
  {
   "cell_type": "code",
   "execution_count": 39,
   "metadata": {},
   "outputs": [
    {
     "data": {
      "text/html": [
       "<table>\n",
       "<caption>A data.frame: 6 × 22</caption>\n",
       "<thead>\n",
       "\t<tr><th></th><th scope=col>logFC</th><th scope=col>AveExpr</th><th scope=col>t</th><th scope=col>P.Value</th><th scope=col>adj.P.Val</th><th scope=col>B</th><th scope=col>FoldChange_dummy</th><th scope=col>abs_logFC</th><th scope=col>abundance</th><th scope=col>junctionGeneSymbol</th><th scope=col>⋯</th><th scope=col>GeneID</th><th scope=col>geneSymbol</th><th scope=col>chr</th><th scope=col>strand</th><th scope=col>exonStart_0base</th><th scope=col>exonEnd</th><th scope=col>upstreamES</th><th scope=col>upstreamEE</th><th scope=col>downstreamES</th><th scope=col>downstreamEE</th></tr>\n",
       "\t<tr><th></th><th scope=col>&lt;dbl&gt;</th><th scope=col>&lt;dbl&gt;</th><th scope=col>&lt;dbl&gt;</th><th scope=col>&lt;dbl&gt;</th><th scope=col>&lt;dbl&gt;</th><th scope=col>&lt;dbl&gt;</th><th scope=col>&lt;dbl&gt;</th><th scope=col>&lt;dbl&gt;</th><th scope=col>&lt;chr&gt;</th><th scope=col>&lt;chr&gt;</th><th scope=col>⋯</th><th scope=col>&lt;fct&gt;</th><th scope=col>&lt;fct&gt;</th><th scope=col>&lt;fct&gt;</th><th scope=col>&lt;fct&gt;</th><th scope=col>&lt;int&gt;</th><th scope=col>&lt;int&gt;</th><th scope=col>&lt;int&gt;</th><th scope=col>&lt;int&gt;</th><th scope=col>&lt;int&gt;</th><th scope=col>&lt;int&gt;</th></tr>\n",
       "</thead>\n",
       "<tbody>\n",
       "\t<tr><th scope=row>1</th><td>8.749820</td><td>1.3814484</td><td>99.32050</td><td>3.754659e-218</td><td>1.595129e-213</td><td>423.7647</td><td>430.4853</td><td>8.749820</td><td>higher</td><td>XIST-10154</td><td>⋯</td><td>ENSG00000229807.11</td><td>XIST</td><td>chrX</td><td>-</td><td>73831065</td><td>73831206</td><td>73829067</td><td>73829231</td><td>73833237</td><td>73833374</td></tr>\n",
       "\t<tr><th scope=row>2</th><td>8.645168</td><td>1.4189311</td><td>92.26465</td><td>1.433545e-209</td><td>2.030091e-205</td><td>409.6906</td><td>400.3639</td><td>8.645168</td><td>higher</td><td>XIST-10150</td><td>⋯</td><td>ENSG00000229807.11</td><td>XIST</td><td>chrX</td><td>-</td><td>73833237</td><td>73833374</td><td>73831065</td><td>73831274</td><td>73837439</td><td>73841474</td></tr>\n",
       "\t<tr><th scope=row>3</th><td>9.098959</td><td>1.7544999</td><td>93.41446</td><td>5.208286e-211</td><td>1.106344e-206</td><td>408.3390</td><td>548.3521</td><td>9.098959</td><td>higher</td><td>XIST-10149</td><td>⋯</td><td>ENSG00000229807.11</td><td>XIST</td><td>chrX</td><td>-</td><td>73831065</td><td>73831274</td><td>73829067</td><td>73829231</td><td>73833237</td><td>73833374</td></tr>\n",
       "\t<tr><th scope=row>4</th><td>8.056299</td><td>0.8873243</td><td>84.51540</td><td>2.093243e-199</td><td>2.223234e-195</td><td>398.5291</td><td>266.1875</td><td>8.056299</td><td>higher</td><td>XIST-10155</td><td>⋯</td><td>ENSG00000229807.11</td><td>XIST</td><td>chrX</td><td>-</td><td>73822070</td><td>73822216</td><td>73820655</td><td>73821029</td><td>73826114</td><td>73827984</td></tr>\n",
       "\t<tr><th scope=row>5</th><td>7.208938</td><td>0.3836555</td><td>83.95980</td><td>1.209163e-198</td><td>1.027402e-194</td><td>396.1348</td><td>147.9471</td><td>7.208938</td><td>higher</td><td>XIST-10153</td><td>⋯</td><td>ENSG00000229807.11</td><td>XIST</td><td>chrX</td><td>-</td><td>73822066</td><td>73822216</td><td>73820716</td><td>73821029</td><td>73826114</td><td>73827984</td></tr>\n",
       "\t<tr><th scope=row>6</th><td>7.405183</td><td>0.5748771</td><td>83.83491</td><td>1.796087e-198</td><td>1.271749e-194</td><td>395.3683</td><td>169.5048</td><td>7.405183</td><td>higher</td><td>XIST-10151</td><td>⋯</td><td>ENSG00000229807.11</td><td>XIST</td><td>chrX</td><td>-</td><td>73822070</td><td>73822233</td><td>73820655</td><td>73821029</td><td>73826114</td><td>73826301</td></tr>\n",
       "</tbody>\n",
       "</table>\n"
      ],
      "text/latex": [
       "A data.frame: 6 × 22\n",
       "\\begin{tabular}{r|lllllllllllllllllllll}\n",
       "  & logFC & AveExpr & t & P.Value & adj.P.Val & B & FoldChange\\_dummy & abs\\_logFC & abundance & junctionGeneSymbol & ⋯ & GeneID & geneSymbol & chr & strand & exonStart\\_0base & exonEnd & upstreamES & upstreamEE & downstreamES & downstreamEE\\\\\n",
       "  & <dbl> & <dbl> & <dbl> & <dbl> & <dbl> & <dbl> & <dbl> & <dbl> & <chr> & <chr> & ⋯ & <fct> & <fct> & <fct> & <fct> & <int> & <int> & <int> & <int> & <int> & <int>\\\\\n",
       "\\hline\n",
       "\t1 & 8.749820 & 1.3814484 & 99.32050 & 3.754659e-218 & 1.595129e-213 & 423.7647 & 430.4853 & 8.749820 & higher & XIST-10154 & ⋯ & ENSG00000229807.11 & XIST & chrX & - & 73831065 & 73831206 & 73829067 & 73829231 & 73833237 & 73833374\\\\\n",
       "\t2 & 8.645168 & 1.4189311 & 92.26465 & 1.433545e-209 & 2.030091e-205 & 409.6906 & 400.3639 & 8.645168 & higher & XIST-10150 & ⋯ & ENSG00000229807.11 & XIST & chrX & - & 73833237 & 73833374 & 73831065 & 73831274 & 73837439 & 73841474\\\\\n",
       "\t3 & 9.098959 & 1.7544999 & 93.41446 & 5.208286e-211 & 1.106344e-206 & 408.3390 & 548.3521 & 9.098959 & higher & XIST-10149 & ⋯ & ENSG00000229807.11 & XIST & chrX & - & 73831065 & 73831274 & 73829067 & 73829231 & 73833237 & 73833374\\\\\n",
       "\t4 & 8.056299 & 0.8873243 & 84.51540 & 2.093243e-199 & 2.223234e-195 & 398.5291 & 266.1875 & 8.056299 & higher & XIST-10155 & ⋯ & ENSG00000229807.11 & XIST & chrX & - & 73822070 & 73822216 & 73820655 & 73821029 & 73826114 & 73827984\\\\\n",
       "\t5 & 7.208938 & 0.3836555 & 83.95980 & 1.209163e-198 & 1.027402e-194 & 396.1348 & 147.9471 & 7.208938 & higher & XIST-10153 & ⋯ & ENSG00000229807.11 & XIST & chrX & - & 73822066 & 73822216 & 73820716 & 73821029 & 73826114 & 73827984\\\\\n",
       "\t6 & 7.405183 & 0.5748771 & 83.83491 & 1.796087e-198 & 1.271749e-194 & 395.3683 & 169.5048 & 7.405183 & higher & XIST-10151 & ⋯ & ENSG00000229807.11 & XIST & chrX & - & 73822070 & 73822233 & 73820655 & 73821029 & 73826114 & 73826301\\\\\n",
       "\\end{tabular}\n"
      ],
      "text/markdown": [
       "\n",
       "A data.frame: 6 × 22\n",
       "\n",
       "| <!--/--> | logFC &lt;dbl&gt; | AveExpr &lt;dbl&gt; | t &lt;dbl&gt; | P.Value &lt;dbl&gt; | adj.P.Val &lt;dbl&gt; | B &lt;dbl&gt; | FoldChange_dummy &lt;dbl&gt; | abs_logFC &lt;dbl&gt; | abundance &lt;chr&gt; | junctionGeneSymbol &lt;chr&gt; | ⋯ ⋯ | GeneID &lt;fct&gt; | geneSymbol &lt;fct&gt; | chr &lt;fct&gt; | strand &lt;fct&gt; | exonStart_0base &lt;int&gt; | exonEnd &lt;int&gt; | upstreamES &lt;int&gt; | upstreamEE &lt;int&gt; | downstreamES &lt;int&gt; | downstreamEE &lt;int&gt; |\n",
       "|---|---|---|---|---|---|---|---|---|---|---|---|---|---|---|---|---|---|---|---|---|---|\n",
       "| 1 | 8.749820 | 1.3814484 | 99.32050 | 3.754659e-218 | 1.595129e-213 | 423.7647 | 430.4853 | 8.749820 | higher | XIST-10154 | ⋯ | ENSG00000229807.11 | XIST | chrX | - | 73831065 | 73831206 | 73829067 | 73829231 | 73833237 | 73833374 |\n",
       "| 2 | 8.645168 | 1.4189311 | 92.26465 | 1.433545e-209 | 2.030091e-205 | 409.6906 | 400.3639 | 8.645168 | higher | XIST-10150 | ⋯ | ENSG00000229807.11 | XIST | chrX | - | 73833237 | 73833374 | 73831065 | 73831274 | 73837439 | 73841474 |\n",
       "| 3 | 9.098959 | 1.7544999 | 93.41446 | 5.208286e-211 | 1.106344e-206 | 408.3390 | 548.3521 | 9.098959 | higher | XIST-10149 | ⋯ | ENSG00000229807.11 | XIST | chrX | - | 73831065 | 73831274 | 73829067 | 73829231 | 73833237 | 73833374 |\n",
       "| 4 | 8.056299 | 0.8873243 | 84.51540 | 2.093243e-199 | 2.223234e-195 | 398.5291 | 266.1875 | 8.056299 | higher | XIST-10155 | ⋯ | ENSG00000229807.11 | XIST | chrX | - | 73822070 | 73822216 | 73820655 | 73821029 | 73826114 | 73827984 |\n",
       "| 5 | 7.208938 | 0.3836555 | 83.95980 | 1.209163e-198 | 1.027402e-194 | 396.1348 | 147.9471 | 7.208938 | higher | XIST-10153 | ⋯ | ENSG00000229807.11 | XIST | chrX | - | 73822066 | 73822216 | 73820716 | 73821029 | 73826114 | 73827984 |\n",
       "| 6 | 7.405183 | 0.5748771 | 83.83491 | 1.796087e-198 | 1.271749e-194 | 395.3683 | 169.5048 | 7.405183 | higher | XIST-10151 | ⋯ | ENSG00000229807.11 | XIST | chrX | - | 73822070 | 73822233 | 73820655 | 73821029 | 73826114 | 73826301 |\n",
       "\n"
      ],
      "text/plain": [
       "  logFC    AveExpr   t        P.Value       adj.P.Val     B       \n",
       "1 8.749820 1.3814484 99.32050 3.754659e-218 1.595129e-213 423.7647\n",
       "2 8.645168 1.4189311 92.26465 1.433545e-209 2.030091e-205 409.6906\n",
       "3 9.098959 1.7544999 93.41446 5.208286e-211 1.106344e-206 408.3390\n",
       "4 8.056299 0.8873243 84.51540 2.093243e-199 2.223234e-195 398.5291\n",
       "5 7.208938 0.3836555 83.95980 1.209163e-198 1.027402e-194 396.1348\n",
       "6 7.405183 0.5748771 83.83491 1.796087e-198 1.271749e-194 395.3683\n",
       "  FoldChange_dummy abs_logFC abundance junctionGeneSymbol ⋯ GeneID            \n",
       "1 430.4853         8.749820  higher    XIST-10154         ⋯ ENSG00000229807.11\n",
       "2 400.3639         8.645168  higher    XIST-10150         ⋯ ENSG00000229807.11\n",
       "3 548.3521         9.098959  higher    XIST-10149         ⋯ ENSG00000229807.11\n",
       "4 266.1875         8.056299  higher    XIST-10155         ⋯ ENSG00000229807.11\n",
       "5 147.9471         7.208938  higher    XIST-10153         ⋯ ENSG00000229807.11\n",
       "6 169.5048         7.405183  higher    XIST-10151         ⋯ ENSG00000229807.11\n",
       "  geneSymbol chr  strand exonStart_0base exonEnd  upstreamES upstreamEE\n",
       "1 XIST       chrX -      73831065        73831206 73829067   73829231  \n",
       "2 XIST       chrX -      73833237        73833374 73831065   73831274  \n",
       "3 XIST       chrX -      73831065        73831274 73829067   73829231  \n",
       "4 XIST       chrX -      73822070        73822216 73820655   73821029  \n",
       "5 XIST       chrX -      73822066        73822216 73820716   73821029  \n",
       "6 XIST       chrX -      73822070        73822233 73820655   73821029  \n",
       "  downstreamES downstreamEE\n",
       "1 73833237     73833374    \n",
       "2 73837439     73841474    \n",
       "3 73833237     73833374    \n",
       "4 73826114     73827984    \n",
       "5 73826114     73827984    \n",
       "6 73826114     73826301    "
      ]
     },
     "metadata": {},
     "output_type": "display_data"
    }
   ],
   "source": [
    "head(annotatedTopTable)"
   ]
  },
  {
   "cell_type": "markdown",
   "metadata": {},
   "source": [
    "To avoid errors in the cases that we might have none lower or none higher, and the matrix might be missing columns we will create a template data.frame and also add the column that might be missing if lower or higher genes is equal to 0."
   ]
  },
  {
   "cell_type": "code",
   "execution_count": 40,
   "metadata": {},
   "outputs": [
    {
     "data": {
      "text/html": [
       "<table>\n",
       "<caption>A data.frame: 0 × 3</caption>\n",
       "<thead>\n",
       "\t<tr><th scope=col>higher</th><th scope=col>lower</th><th scope=col>non_signif</th></tr>\n",
       "\t<tr><th scope=col>&lt;int&gt;</th><th scope=col>&lt;int&gt;</th><th scope=col>&lt;int&gt;</th></tr>\n",
       "</thead>\n",
       "<tbody>\n",
       "</tbody>\n",
       "</table>\n"
      ],
      "text/latex": [
       "A data.frame: 0 × 3\n",
       "\\begin{tabular}{lll}\n",
       " higher & lower & non\\_signif\\\\\n",
       " <int> & <int> & <int>\\\\\n",
       "\\hline\n",
       "\\end{tabular}\n"
      ],
      "text/markdown": [
       "\n",
       "A data.frame: 0 × 3\n",
       "\n",
       "| higher &lt;int&gt; | lower &lt;int&gt; | non_signif &lt;int&gt; |\n",
       "|---|---|---|\n",
       "\n"
      ],
      "text/plain": [
       "     higher lower non_signif"
      ]
     },
     "metadata": {},
     "output_type": "display_data"
    }
   ],
   "source": [
    "signif_template <- structure(list(higher = integer(0), \n",
    "                                   lower = integer(0), \n",
    "                                   non_signif = integer(0)), \n",
    "                              row.names = integer(0), class = \"data.frame\")\n",
    "signif_template"
   ]
  },
  {
   "cell_type": "markdown",
   "metadata": {},
   "source": [
    "In the for-loop we will check if both columns `lower`, `higher` are present, if not add the column and zero count to create the expected shape of the dataframe:\n",
    "\n",
    "```R\n",
    "signif <- as.data.frame.matrix(expression_abundance)\n",
    "if(! (\"higher\" %in% colnames(signif))) { \n",
    "    \n",
    "    signif$higher <- 0\n",
    "}\n",
    "if(! (\"lower\" %in% colnames(signif))) { \n",
    "\n",
    "    signif$lower <- 0\n",
    "}\n",
    "```"
   ]
  },
  {
   "cell_type": "markdown",
   "metadata": {},
   "source": [
    "Now we can add some more summary statistics eg percentage of genes lower, higher or non-significantly different, "
   ]
  },
  {
   "cell_type": "code",
   "execution_count": 41,
   "metadata": {},
   "outputs": [
    {
     "data": {
      "text/html": [
       "<table>\n",
       "<caption>A data.frame: 1 × 7</caption>\n",
       "<thead>\n",
       "\t<tr><th scope=col>tissue</th><th scope=col>non_signif</th><th scope=col>lower</th><th scope=col>higher</th><th scope=col>% lower</th><th scope=col>% higher</th><th scope=col>% non-signif</th></tr>\n",
       "\t<tr><th scope=col>&lt;chr&gt;</th><th scope=col>&lt;int&gt;</th><th scope=col>&lt;int&gt;</th><th scope=col>&lt;int&gt;</th><th scope=col>&lt;dbl&gt;</th><th scope=col>&lt;dbl&gt;</th><th scope=col>&lt;dbl&gt;</th></tr>\n",
       "</thead>\n",
       "<tbody>\n",
       "\t<tr><td>cells_cultured_fibroblasts</td><td>42349</td><td>75</td><td>60</td><td>0.18</td><td>0.14</td><td>99.68</td></tr>\n",
       "</tbody>\n",
       "</table>\n"
      ],
      "text/latex": [
       "A data.frame: 1 × 7\n",
       "\\begin{tabular}{lllllll}\n",
       " tissue & non\\_signif & lower & higher & \\% lower & \\% higher & \\% non-signif\\\\\n",
       " <chr> & <int> & <int> & <int> & <dbl> & <dbl> & <dbl>\\\\\n",
       "\\hline\n",
       "\t cells\\_cultured\\_fibroblasts & 42349 & 75 & 60 & 0.18 & 0.14 & 99.68\\\\\n",
       "\\end{tabular}\n"
      ],
      "text/markdown": [
       "\n",
       "A data.frame: 1 × 7\n",
       "\n",
       "| tissue &lt;chr&gt; | non_signif &lt;int&gt; | lower &lt;int&gt; | higher &lt;int&gt; | % lower &lt;dbl&gt; | % higher &lt;dbl&gt; | % non-signif &lt;dbl&gt; |\n",
       "|---|---|---|---|---|---|---|\n",
       "| cells_cultured_fibroblasts | 42349 | 75 | 60 | 0.18 | 0.14 | 99.68 |\n",
       "\n"
      ],
      "text/plain": [
       "  tissue                     non_signif lower higher % lower % higher\n",
       "1 cells_cultured_fibroblasts 42349      75    60     0.18    0.14    \n",
       "  % non-signif\n",
       "1 99.68       "
      ]
     },
     "metadata": {},
     "output_type": "display_data"
    }
   ],
   "source": [
    "signif$tissue <- name\n",
    "signif$sum    <- signif$non_signif + signif$higher + signif$lower\n",
    "toKeepInOrder <- c(\"tissue\", \"non_signif\", \"lower\", \"higher\", \"% lower\", \"% higher\", \"% non-signif\")\n",
    "signif$`% higher`     <-  round(signif$higher / signif$sum  * 100, 2)\n",
    "signif$`% lower`      <-  round(signif$lower / signif$sum  * 100, 2)\n",
    "signif$`% non-signif` <-  round(signif$non_signif / signif$sum  * 100, 2)\n",
    "signif <- signif[, toKeepInOrder]\n",
    "signif"
   ]
  },
  {
   "cell_type": "markdown",
   "metadata": {},
   "source": [
    "# Summary table of differentially expressed genes between male and female acrosss tissues\n",
    "\n",
    "Above we demonstrate for one example limma `topTable`. Let's now iterate over all tissue and create an aggregated table of counts of differentially expressed or non-significantly altered between the two sexes."
   ]
  },
  {
   "cell_type": "code",
   "execution_count": 42,
   "metadata": {},
   "outputs": [],
   "source": [
    "summary_signif <-structure(list(tissue = character(0), \n",
    "                            non_signif = integer(0), \n",
    "                            lower = integer(0),\n",
    "                            higher = integer(0),\n",
    "                            `% lower` = numeric(0), \n",
    "                            `% higher` = numeric(0), \n",
    "                            `% non-signif` = numeric(0)), \n",
    "                       row.names = integer(0), \n",
    "                       class = \"data.frame\")\n",
    "\n",
    "signif_template <- structure(list(higher = integer(0), \n",
    "                                   lower = integer(0), \n",
    "                                   non_signif = integer(0)), \n",
    "                              row.names = integer(0), class = \"data.frame\")\n",
    "\n",
    "signif_per_tissue <- structure(list(logFC = numeric(0), AveExpr = numeric(0), t = numeric(0), \n",
    "                        P.Value = numeric(0), adj.P.Val = numeric(0), B = numeric(0), \n",
    "                        initial_gene_id = character(0), gene_id = character(0), abs_logFC = numeric(0), \n",
    "                        FoldChange_dummy = numeric(0), abundance = character(0), \n",
    "                        GeneSymbol = character(0), Chromosome = character(0), Class = character(0), \n",
    "                        Strand = character(0), tissue = character(0)), row.names = integer(0), class = \"data.frame\")\n",
    "\n",
    "\n",
    "for (i in seq_along(all_topTables)){\n",
    "    topTable <- all_topTables[[i]]\n",
    "    topTable$junctionGeneSymbol <- rownames(topTable)\n",
    "    topTable$symbol  <- sub(\"-[^-]+$\",\"\", topTable$junctionGeneSymbol)\n",
    "    topTable$ID <- sub(\"^.+-\", \"\", topTable$junctionGeneSymbol)  \n",
    "    topTable$splice_type  <- \"SE\"\n",
    "    topTable$featurespace <- \"sex_as_events\"\n",
    "    topTable <- dplyr::left_join(topTable, fromGTF.SE, by = \"ID\")\n",
    "    name     <- names(all_topTables)[i] \n",
    "    # replacing NA p-values with p-value = 1\n",
    "    topTable$P.Value[is.na(topTable$P.Value)]     <- 1; \n",
    "    topTable$adj.P.Val[is.na(topTable$adj.P.Val)] <- 1;\n",
    "    topTable$abs_logFC <- abs(topTable$logFC)\n",
    "    # Add helper variable dummy `FoldChange` variable. Use 2 as base of log, because this is the default from limma\n",
    "    # The following statement calculates a dummy fold change (how many times higher or lower)\n",
    "    # The minus symbol is a convention symbol only! to express eg. a fold change of 0.25 as -4, 4 times lower\n",
    "    topTable$FoldChange_dummy    <-   ifelse(topTable$logFC > 0, 2 ^ topTable$logFC, -1 / (2 ^ topTable$logFC))                    \n",
    "\n",
    "    # Add helper variable `abs_logFC`.\n",
    "    topTable$abs_logFC <- abs(topTable$logFC)\n",
    "\n",
    "    # Add helper variable `abundance` for up, down, non_signif\n",
    "    topTable$abundance                                                  <- \"non_signif\"\n",
    "    topTable$abundance[ ((topTable$logFC >=   log2(absFoldChange_cutoff)) & (topTable$adj.P.Val <= adj.P.Val_threshold )) ]   <- \"higher\"\n",
    "    topTable$abundance[ ((topTable$logFC <=  -log2(absFoldChange_cutoff)) & (topTable$adj.P.Val <= adj.P.Val_threshold )) ]   <- \"lower\"\n",
    "    topTable_signif <- topTable[ topTable$abundance != \"non_signif\", ]\n",
    "    topTable_signif$tissue <- name\n",
    "    signif_per_tissue <- rbind(signif_per_tissue, topTable_signif )\n",
    "    data.table::fwrite(file = paste0(\"../data/signif_\", snakecase::to_snake_case(name), \".csv\"), topTable_signif)\n",
    "    expression_abundance <- t(table(topTable$abundance))\n",
    "    signif <- as.data.frame.matrix(expression_abundance)\n",
    "    if(! (\"higher\" %in% colnames(signif))) {\n",
    "        signif$higher <- 0\n",
    "    }\n",
    "    if(! (\"lower\" %in% colnames(signif))) {\n",
    "        signif$lower <- 0\n",
    "    }\n",
    "    signif$tissue <- name\n",
    "    signif$sum    <-   signif$non_signif + signif$higher + signif$lower\n",
    "    toKeepInOrder <- c(\"tissue\", \"non_signif\", \"lower\", \"higher\", \"% lower\", \"% higher\", \"% non-signif\")\n",
    "    signif$`% higher`     <-  round(signif$higher / signif$sum  * 100, 2)\n",
    "    signif$`% lower`      <-  round(signif$lower / signif$sum  * 100, 2)\n",
    "    signif$`% non-signif` <-  round(signif$non_signif / signif$sum  * 100, 2)\n",
    "    signif <- signif[, toKeepInOrder]\n",
    "    summary_signif <- rbind(summary_signif, signif)   \n",
    "}"
   ]
  },
  {
   "cell_type": "code",
   "execution_count": 43,
   "metadata": {},
   "outputs": [
    {
     "data": {
      "text/html": [
       "<table>\n",
       "<caption>A data.frame: 2 × 7</caption>\n",
       "<thead>\n",
       "\t<tr><th></th><th scope=col>tissue</th><th scope=col>non_signif</th><th scope=col>lower</th><th scope=col>higher</th><th scope=col>% lower</th><th scope=col>% higher</th><th scope=col>% non-signif</th></tr>\n",
       "\t<tr><th></th><th scope=col>&lt;chr&gt;</th><th scope=col>&lt;int&gt;</th><th scope=col>&lt;dbl&gt;</th><th scope=col>&lt;int&gt;</th><th scope=col>&lt;dbl&gt;</th><th scope=col>&lt;dbl&gt;</th><th scope=col>&lt;dbl&gt;</th></tr>\n",
       "</thead>\n",
       "<tbody>\n",
       "\t<tr><th scope=row>20</th><td>breast_mammary_tissue</td><td>39611</td><td>926</td><td>1947</td><td>2.18</td><td>4.58</td><td>93.24</td></tr>\n",
       "\t<tr><th scope=row>43</th><td>thyroid              </td><td>42252</td><td> 20</td><td> 212</td><td>0.05</td><td>0.50</td><td>99.45</td></tr>\n",
       "</tbody>\n",
       "</table>\n"
      ],
      "text/latex": [
       "A data.frame: 2 × 7\n",
       "\\begin{tabular}{r|lllllll}\n",
       "  & tissue & non\\_signif & lower & higher & \\% lower & \\% higher & \\% non-signif\\\\\n",
       "  & <chr> & <int> & <dbl> & <int> & <dbl> & <dbl> & <dbl>\\\\\n",
       "\\hline\n",
       "\t20 & breast\\_mammary\\_tissue & 39611 & 926 & 1947 & 2.18 & 4.58 & 93.24\\\\\n",
       "\t43 & thyroid               & 42252 &  20 &  212 & 0.05 & 0.50 & 99.45\\\\\n",
       "\\end{tabular}\n"
      ],
      "text/markdown": [
       "\n",
       "A data.frame: 2 × 7\n",
       "\n",
       "| <!--/--> | tissue &lt;chr&gt; | non_signif &lt;int&gt; | lower &lt;dbl&gt; | higher &lt;int&gt; | % lower &lt;dbl&gt; | % higher &lt;dbl&gt; | % non-signif &lt;dbl&gt; |\n",
       "|---|---|---|---|---|---|---|---|\n",
       "| 20 | breast_mammary_tissue | 39611 | 926 | 1947 | 2.18 | 4.58 | 93.24 |\n",
       "| 43 | thyroid               | 42252 |  20 |  212 | 0.05 | 0.50 | 99.45 |\n",
       "\n"
      ],
      "text/plain": [
       "   tissue                non_signif lower higher % lower % higher % non-signif\n",
       "20 breast_mammary_tissue 39611      926   1947   2.18    4.58     93.24       \n",
       "43 thyroid               42252       20    212   0.05    0.50     99.45       "
      ]
     },
     "metadata": {},
     "output_type": "display_data"
    },
    {
     "data": {
      "text/html": [
       "<table>\n",
       "<caption>A data.frame: 2 × 25</caption>\n",
       "<thead>\n",
       "\t<tr><th></th><th scope=col>logFC</th><th scope=col>AveExpr</th><th scope=col>t</th><th scope=col>P.Value</th><th scope=col>adj.P.Val</th><th scope=col>B</th><th scope=col>junctionGeneSymbol</th><th scope=col>symbol</th><th scope=col>ID</th><th scope=col>splice_type</th><th scope=col>⋯</th><th scope=col>exonStart_0base</th><th scope=col>exonEnd</th><th scope=col>upstreamES</th><th scope=col>upstreamEE</th><th scope=col>downstreamES</th><th scope=col>downstreamEE</th><th scope=col>abs_logFC</th><th scope=col>FoldChange_dummy</th><th scope=col>abundance</th><th scope=col>tissue</th></tr>\n",
       "\t<tr><th></th><th scope=col>&lt;dbl&gt;</th><th scope=col>&lt;dbl&gt;</th><th scope=col>&lt;dbl&gt;</th><th scope=col>&lt;dbl&gt;</th><th scope=col>&lt;dbl&gt;</th><th scope=col>&lt;dbl&gt;</th><th scope=col>&lt;chr&gt;</th><th scope=col>&lt;chr&gt;</th><th scope=col>&lt;chr&gt;</th><th scope=col>&lt;chr&gt;</th><th scope=col>⋯</th><th scope=col>&lt;int&gt;</th><th scope=col>&lt;int&gt;</th><th scope=col>&lt;int&gt;</th><th scope=col>&lt;int&gt;</th><th scope=col>&lt;int&gt;</th><th scope=col>&lt;int&gt;</th><th scope=col>&lt;dbl&gt;</th><th scope=col>&lt;dbl&gt;</th><th scope=col>&lt;chr&gt;</th><th scope=col>&lt;chr&gt;</th></tr>\n",
       "</thead>\n",
       "<tbody>\n",
       "\t<tr><th scope=row>1</th><td>7.184546</td><td>0.8439706</td><td>75.67511</td><td>2.712786e-160</td><td>1.152500e-155</td><td>302.3769</td><td>XIST-10151</td><td>XIST</td><td>10151</td><td>SE</td><td>⋯</td><td>73822070</td><td>73822233</td><td>73820655</td><td>73821029</td><td>73826114</td><td>73826301</td><td>7.184546</td><td>145.4668</td><td>higher</td><td>adipose_visceral_omentum</td></tr>\n",
       "\t<tr><th scope=row>2</th><td>7.475716</td><td>1.0982950</td><td>66.67732</td><td>1.268847e-148</td><td>1.796857e-144</td><td>284.4763</td><td>XIST-10155</td><td>XIST</td><td>10155</td><td>SE</td><td>⋯</td><td>73822070</td><td>73822216</td><td>73820655</td><td>73821029</td><td>73826114</td><td>73827984</td><td>7.475716</td><td>177.9979</td><td>higher</td><td>adipose_visceral_omentum</td></tr>\n",
       "</tbody>\n",
       "</table>\n"
      ],
      "text/latex": [
       "A data.frame: 2 × 25\n",
       "\\begin{tabular}{r|lllllllllllllllllllll}\n",
       "  & logFC & AveExpr & t & P.Value & adj.P.Val & B & junctionGeneSymbol & symbol & ID & splice\\_type & ⋯ & exonStart\\_0base & exonEnd & upstreamES & upstreamEE & downstreamES & downstreamEE & abs\\_logFC & FoldChange\\_dummy & abundance & tissue\\\\\n",
       "  & <dbl> & <dbl> & <dbl> & <dbl> & <dbl> & <dbl> & <chr> & <chr> & <chr> & <chr> & ⋯ & <int> & <int> & <int> & <int> & <int> & <int> & <dbl> & <dbl> & <chr> & <chr>\\\\\n",
       "\\hline\n",
       "\t1 & 7.184546 & 0.8439706 & 75.67511 & 2.712786e-160 & 1.152500e-155 & 302.3769 & XIST-10151 & XIST & 10151 & SE & ⋯ & 73822070 & 73822233 & 73820655 & 73821029 & 73826114 & 73826301 & 7.184546 & 145.4668 & higher & adipose\\_visceral\\_omentum\\\\\n",
       "\t2 & 7.475716 & 1.0982950 & 66.67732 & 1.268847e-148 & 1.796857e-144 & 284.4763 & XIST-10155 & XIST & 10155 & SE & ⋯ & 73822070 & 73822216 & 73820655 & 73821029 & 73826114 & 73827984 & 7.475716 & 177.9979 & higher & adipose\\_visceral\\_omentum\\\\\n",
       "\\end{tabular}\n"
      ],
      "text/markdown": [
       "\n",
       "A data.frame: 2 × 25\n",
       "\n",
       "| <!--/--> | logFC &lt;dbl&gt; | AveExpr &lt;dbl&gt; | t &lt;dbl&gt; | P.Value &lt;dbl&gt; | adj.P.Val &lt;dbl&gt; | B &lt;dbl&gt; | junctionGeneSymbol &lt;chr&gt; | symbol &lt;chr&gt; | ID &lt;chr&gt; | splice_type &lt;chr&gt; | ⋯ ⋯ | exonStart_0base &lt;int&gt; | exonEnd &lt;int&gt; | upstreamES &lt;int&gt; | upstreamEE &lt;int&gt; | downstreamES &lt;int&gt; | downstreamEE &lt;int&gt; | abs_logFC &lt;dbl&gt; | FoldChange_dummy &lt;dbl&gt; | abundance &lt;chr&gt; | tissue &lt;chr&gt; |\n",
       "|---|---|---|---|---|---|---|---|---|---|---|---|---|---|---|---|---|---|---|---|---|---|\n",
       "| 1 | 7.184546 | 0.8439706 | 75.67511 | 2.712786e-160 | 1.152500e-155 | 302.3769 | XIST-10151 | XIST | 10151 | SE | ⋯ | 73822070 | 73822233 | 73820655 | 73821029 | 73826114 | 73826301 | 7.184546 | 145.4668 | higher | adipose_visceral_omentum |\n",
       "| 2 | 7.475716 | 1.0982950 | 66.67732 | 1.268847e-148 | 1.796857e-144 | 284.4763 | XIST-10155 | XIST | 10155 | SE | ⋯ | 73822070 | 73822216 | 73820655 | 73821029 | 73826114 | 73827984 | 7.475716 | 177.9979 | higher | adipose_visceral_omentum |\n",
       "\n"
      ],
      "text/plain": [
       "  logFC    AveExpr   t        P.Value       adj.P.Val     B       \n",
       "1 7.184546 0.8439706 75.67511 2.712786e-160 1.152500e-155 302.3769\n",
       "2 7.475716 1.0982950 66.67732 1.268847e-148 1.796857e-144 284.4763\n",
       "  junctionGeneSymbol symbol ID    splice_type ⋯ exonStart_0base exonEnd \n",
       "1 XIST-10151         XIST   10151 SE          ⋯ 73822070        73822233\n",
       "2 XIST-10155         XIST   10155 SE          ⋯ 73822070        73822216\n",
       "  upstreamES upstreamEE downstreamES downstreamEE abs_logFC FoldChange_dummy\n",
       "1 73820655   73821029   73826114     73826301     7.184546  145.4668        \n",
       "2 73820655   73821029   73826114     73827984     7.475716  177.9979        \n",
       "  abundance tissue                  \n",
       "1 higher    adipose_visceral_omentum\n",
       "2 higher    adipose_visceral_omentum"
      ]
     },
     "metadata": {},
     "output_type": "display_data"
    }
   ],
   "source": [
    "summary_signif <- summary_signif[order(summary_signif$`% non-signif`), ]\n",
    "head(summary_signif , 2)\n",
    "head(signif_per_tissue, 2)"
   ]
  },
  {
   "cell_type": "markdown",
   "metadata": {},
   "source": [
    "# Defining higher in males or females based on the limma design matrix\n",
    "As we have used 1 for encoding the males and 2 for the females, our *reference level* for the contrast in the expression between males and females is 1, the males.\n",
    "\n",
    "\n",
    "From the `limma` documentation:\n",
    ">The level which is chosen for the *reference level* is the level which is contrasted against. By default, this is simply the first level alphabetically. We can specify that we want group 2 to be the reference level by either using the relevel function [..]\n",
    "\n",
    "By convention, we could say that splicing events with positive log fold change, are higher in females, whereas the opposite holds true for the ones that are observed to have negative log folde change. "
   ]
  },
  {
   "cell_type": "code",
   "execution_count": 44,
   "metadata": {},
   "outputs": [
    {
     "data": {
      "text/html": [
       "<table>\n",
       "<caption>A data.frame: 1 × 9</caption>\n",
       "<thead>\n",
       "\t<tr><th></th><th scope=col>tissue</th><th scope=col>non_signif</th><th scope=col>lower</th><th scope=col>higher</th><th scope=col>% lower</th><th scope=col>% higher</th><th scope=col>% non-signif</th><th scope=col>higher in males</th><th scope=col>higher in females</th></tr>\n",
       "\t<tr><th></th><th scope=col>&lt;chr&gt;</th><th scope=col>&lt;int&gt;</th><th scope=col>&lt;dbl&gt;</th><th scope=col>&lt;int&gt;</th><th scope=col>&lt;dbl&gt;</th><th scope=col>&lt;dbl&gt;</th><th scope=col>&lt;dbl&gt;</th><th scope=col>&lt;dbl&gt;</th><th scope=col>&lt;int&gt;</th></tr>\n",
       "</thead>\n",
       "<tbody>\n",
       "\t<tr><th scope=row>3</th><td>artery_aorta</td><td>42390</td><td>56</td><td>38</td><td>0.13</td><td>0.09</td><td>99.78</td><td>56</td><td>38</td></tr>\n",
       "</tbody>\n",
       "</table>\n"
      ],
      "text/latex": [
       "A data.frame: 1 × 9\n",
       "\\begin{tabular}{r|lllllllll}\n",
       "  & tissue & non\\_signif & lower & higher & \\% lower & \\% higher & \\% non-signif & higher in males & higher in females\\\\\n",
       "  & <chr> & <int> & <dbl> & <int> & <dbl> & <dbl> & <dbl> & <dbl> & <int>\\\\\n",
       "\\hline\n",
       "\t3 & artery\\_aorta & 42390 & 56 & 38 & 0.13 & 0.09 & 99.78 & 56 & 38\\\\\n",
       "\\end{tabular}\n"
      ],
      "text/markdown": [
       "\n",
       "A data.frame: 1 × 9\n",
       "\n",
       "| <!--/--> | tissue &lt;chr&gt; | non_signif &lt;int&gt; | lower &lt;dbl&gt; | higher &lt;int&gt; | % lower &lt;dbl&gt; | % higher &lt;dbl&gt; | % non-signif &lt;dbl&gt; | higher in males &lt;dbl&gt; | higher in females &lt;int&gt; |\n",
       "|---|---|---|---|---|---|---|---|---|---|\n",
       "| 3 | artery_aorta | 42390 | 56 | 38 | 0.13 | 0.09 | 99.78 | 56 | 38 |\n",
       "\n"
      ],
      "text/plain": [
       "  tissue       non_signif lower higher % lower % higher % non-signif\n",
       "3 artery_aorta 42390      56    38     0.13    0.09     99.78       \n",
       "  higher in males higher in females\n",
       "3 56              38               "
      ]
     },
     "metadata": {},
     "output_type": "display_data"
    }
   ],
   "source": [
    "summary_signif$`higher in males`   <- summary_signif$lower\n",
    "summary_signif$`higher in females` <- summary_signif$higher\n",
    "head(summary_signif[summary_signif$tissue == \"artery_aorta\", ])"
   ]
  },
  {
   "cell_type": "code",
   "execution_count": 45,
   "metadata": {},
   "outputs": [
    {
     "data": {
      "text/html": [
       "<style>\n",
       ".list-inline {list-style: none; margin:0; padding: 0}\n",
       ".list-inline>li {display: inline-block}\n",
       ".list-inline>li:not(:last-child)::after {content: \"\\00b7\"; padding: 0 .5ex}\n",
       "</style>\n",
       "<ol class=list-inline><li>926</li><li>20</li><li>44</li><li>75</li><li>56</li><li>36</li><li>51</li><li>20</li><li>21</li><li>13</li><li>23</li><li>8</li><li>19</li><li>2</li><li>18</li><li>14</li><li>7</li><li>1</li><li>11</li><li>6</li><li>1</li><li>5</li><li>4</li><li>1</li><li>12</li><li>2</li><li>3</li><li>6</li><li>7</li><li>0</li><li>0</li><li>2</li><li>1</li><li>1</li><li>2</li><li>1</li><li>1</li><li>1</li><li>1</li><li>2</li><li>0</li><li>0</li><li>0</li><li>0</li></ol>\n"
      ],
      "text/latex": [
       "\\begin{enumerate*}\n",
       "\\item 926\n",
       "\\item 20\n",
       "\\item 44\n",
       "\\item 75\n",
       "\\item 56\n",
       "\\item 36\n",
       "\\item 51\n",
       "\\item 20\n",
       "\\item 21\n",
       "\\item 13\n",
       "\\item 23\n",
       "\\item 8\n",
       "\\item 19\n",
       "\\item 2\n",
       "\\item 18\n",
       "\\item 14\n",
       "\\item 7\n",
       "\\item 1\n",
       "\\item 11\n",
       "\\item 6\n",
       "\\item 1\n",
       "\\item 5\n",
       "\\item 4\n",
       "\\item 1\n",
       "\\item 12\n",
       "\\item 2\n",
       "\\item 3\n",
       "\\item 6\n",
       "\\item 7\n",
       "\\item 0\n",
       "\\item 0\n",
       "\\item 2\n",
       "\\item 1\n",
       "\\item 1\n",
       "\\item 2\n",
       "\\item 1\n",
       "\\item 1\n",
       "\\item 1\n",
       "\\item 1\n",
       "\\item 2\n",
       "\\item 0\n",
       "\\item 0\n",
       "\\item 0\n",
       "\\item 0\n",
       "\\end{enumerate*}\n"
      ],
      "text/markdown": [
       "1. 926\n",
       "2. 20\n",
       "3. 44\n",
       "4. 75\n",
       "5. 56\n",
       "6. 36\n",
       "7. 51\n",
       "8. 20\n",
       "9. 21\n",
       "10. 13\n",
       "11. 23\n",
       "12. 8\n",
       "13. 19\n",
       "14. 2\n",
       "15. 18\n",
       "16. 14\n",
       "17. 7\n",
       "18. 1\n",
       "19. 11\n",
       "20. 6\n",
       "21. 1\n",
       "22. 5\n",
       "23. 4\n",
       "24. 1\n",
       "25. 12\n",
       "26. 2\n",
       "27. 3\n",
       "28. 6\n",
       "29. 7\n",
       "30. 0\n",
       "31. 0\n",
       "32. 2\n",
       "33. 1\n",
       "34. 1\n",
       "35. 2\n",
       "36. 1\n",
       "37. 1\n",
       "38. 1\n",
       "39. 1\n",
       "40. 2\n",
       "41. 0\n",
       "42. 0\n",
       "43. 0\n",
       "44. 0\n",
       "\n",
       "\n"
      ],
      "text/plain": [
       " [1] 926  20  44  75  56  36  51  20  21  13  23   8  19   2  18  14   7   1  11\n",
       "[20]   6   1   5   4   1  12   2   3   6   7   0   0   2   1   1   2   1   1   1\n",
       "[39]   1   2   0   0   0   0"
      ]
     },
     "metadata": {},
     "output_type": "display_data"
    }
   ],
   "source": [
    "summary_signif$lower"
   ]
  },
  {
   "cell_type": "markdown",
   "metadata": {},
   "source": [
    "# Preparing the summary table for plotting\n",
    "\n",
    "We will need to aggregate the number of genes in one column in order to be able to plot, and also convert the `Tissue` column to a factor. We will use the `reshape` R package to *melt* the dataframe from a wide to a long version, as described above:"
   ]
  },
  {
   "cell_type": "code",
   "execution_count": 46,
   "metadata": {},
   "outputs": [
    {
     "data": {
      "text/html": [
       "<table>\n",
       "<caption>A data.frame: 2 × 3</caption>\n",
       "<thead>\n",
       "\t<tr><th></th><th scope=col>Tissue</th><th scope=col>Sex Bias</th><th scope=col>Number of Exons</th></tr>\n",
       "\t<tr><th></th><th scope=col>&lt;fct&gt;</th><th scope=col>&lt;fct&gt;</th><th scope=col>&lt;dbl&gt;</th></tr>\n",
       "</thead>\n",
       "<tbody>\n",
       "\t<tr><th scope=row>5</th><td>artery_aorta</td><td>higher in males  </td><td>56</td></tr>\n",
       "\t<tr><th scope=row>49</th><td>artery_aorta</td><td>higher in females</td><td>38</td></tr>\n",
       "</tbody>\n",
       "</table>\n"
      ],
      "text/latex": [
       "A data.frame: 2 × 3\n",
       "\\begin{tabular}{r|lll}\n",
       "  & Tissue & Sex Bias & Number of Exons\\\\\n",
       "  & <fct> & <fct> & <dbl>\\\\\n",
       "\\hline\n",
       "\t5 & artery\\_aorta & higher in males   & 56\\\\\n",
       "\t49 & artery\\_aorta & higher in females & 38\\\\\n",
       "\\end{tabular}\n"
      ],
      "text/markdown": [
       "\n",
       "A data.frame: 2 × 3\n",
       "\n",
       "| <!--/--> | Tissue &lt;fct&gt; | Sex Bias &lt;fct&gt; | Number of Exons &lt;dbl&gt; |\n",
       "|---|---|---|---|\n",
       "| 5 | artery_aorta | higher in males   | 56 |\n",
       "| 49 | artery_aorta | higher in females | 38 |\n",
       "\n"
      ],
      "text/plain": [
       "   Tissue       Sex Bias          Number of Exons\n",
       "5  artery_aorta higher in males   56             \n",
       "49 artery_aorta higher in females 38             "
      ]
     },
     "metadata": {},
     "output_type": "display_data"
    }
   ],
   "source": [
    "toPlot <- summary_signif[, c( \"tissue\", \"higher in males\", \"higher in females\")]\n",
    "toPlot <- reshape::melt(toPlot, id=c(\"tissue\"))\n",
    "toPlot$tissue <- as.factor(toPlot$tissue)\n",
    "colnames(toPlot) <- c(\"Tissue\", \"Sex Bias\", \"Number of Exons\")\n",
    "head(toPlot[toPlot$Tissue == \"artery_aorta\", ])"
   ]
  },
  {
   "cell_type": "code",
   "execution_count": 47,
   "metadata": {},
   "outputs": [
    {
     "data": {
      "text/html": [
       "<table>\n",
       "<caption>A data.frame: 6 × 3</caption>\n",
       "<thead>\n",
       "\t<tr><th></th><th scope=col>Tissue</th><th scope=col>Sex Bias</th><th scope=col>Number of Exons</th></tr>\n",
       "\t<tr><th></th><th scope=col>&lt;fct&gt;</th><th scope=col>&lt;fct&gt;</th><th scope=col>&lt;dbl&gt;</th></tr>\n",
       "</thead>\n",
       "<tbody>\n",
       "\t<tr><th scope=row>1</th><td>breast_mammary_tissue     </td><td>higher in males</td><td>926</td></tr>\n",
       "\t<tr><th scope=row>2</th><td>thyroid                   </td><td>higher in males</td><td> 20</td></tr>\n",
       "\t<tr><th scope=row>3</th><td>heart_left_ventricle      </td><td>higher in males</td><td> 44</td></tr>\n",
       "\t<tr><th scope=row>4</th><td>cells_cultured_fibroblasts</td><td>higher in males</td><td> 75</td></tr>\n",
       "\t<tr><th scope=row>5</th><td>artery_aorta              </td><td>higher in males</td><td> 56</td></tr>\n",
       "\t<tr><th scope=row>6</th><td>skin_sun_exposed_lower_leg</td><td>higher in males</td><td> 36</td></tr>\n",
       "</tbody>\n",
       "</table>\n"
      ],
      "text/latex": [
       "A data.frame: 6 × 3\n",
       "\\begin{tabular}{r|lll}\n",
       "  & Tissue & Sex Bias & Number of Exons\\\\\n",
       "  & <fct> & <fct> & <dbl>\\\\\n",
       "\\hline\n",
       "\t1 & breast\\_mammary\\_tissue      & higher in males & 926\\\\\n",
       "\t2 & thyroid                    & higher in males &  20\\\\\n",
       "\t3 & heart\\_left\\_ventricle       & higher in males &  44\\\\\n",
       "\t4 & cells\\_cultured\\_fibroblasts & higher in males &  75\\\\\n",
       "\t5 & artery\\_aorta               & higher in males &  56\\\\\n",
       "\t6 & skin\\_sun\\_exposed\\_lower\\_leg & higher in males &  36\\\\\n",
       "\\end{tabular}\n"
      ],
      "text/markdown": [
       "\n",
       "A data.frame: 6 × 3\n",
       "\n",
       "| <!--/--> | Tissue &lt;fct&gt; | Sex Bias &lt;fct&gt; | Number of Exons &lt;dbl&gt; |\n",
       "|---|---|---|---|\n",
       "| 1 | breast_mammary_tissue      | higher in males | 926 |\n",
       "| 2 | thyroid                    | higher in males |  20 |\n",
       "| 3 | heart_left_ventricle       | higher in males |  44 |\n",
       "| 4 | cells_cultured_fibroblasts | higher in males |  75 |\n",
       "| 5 | artery_aorta               | higher in males |  56 |\n",
       "| 6 | skin_sun_exposed_lower_leg | higher in males |  36 |\n",
       "\n"
      ],
      "text/plain": [
       "  Tissue                     Sex Bias        Number of Exons\n",
       "1 breast_mammary_tissue      higher in males 926            \n",
       "2 thyroid                    higher in males  20            \n",
       "3 heart_left_ventricle       higher in males  44            \n",
       "4 cells_cultured_fibroblasts higher in males  75            \n",
       "5 artery_aorta               higher in males  56            \n",
       "6 skin_sun_exposed_lower_leg higher in males  36            "
      ]
     },
     "metadata": {},
     "output_type": "display_data"
    }
   ],
   "source": [
    "head(toPlot)\n"
   ]
  },
  {
   "cell_type": "code",
   "execution_count": 80,
   "metadata": {},
   "outputs": [
    {
     "data": {
      "image/png": "[encoded data removed]",
      "text/plain": [
       "plot without title"
      ]
     },
     "metadata": {},
     "output_type": "display_data"
    }
   ],
   "source": [
    "options(repr.plot.width=8, repr.plot.height=10)\n",
    "\n",
    "ggplot(toPlot, aes(x = Tissue, y = `Number of Exons`, fill = `Sex Bias`)) + \n",
    "  geom_bar(stat=\"identity\", position = \"dodge\") + \n",
    "  scale_fill_manual (values = c( \"higher in males\" = \"#4A637B\" , \"higher in females\" = \"#f35f71\")) + \n",
    "  theme(text              = element_text(color = \"#4A637B\", face = \"bold\", family = 'Helvetica')\n",
    "        ,plot.caption     = element_text(size =  6, color = \"#8d99ae\", face = \"plain\", hjust= 1.05) \n",
    "        ,plot.title       = element_text(size =  8, color = \"#2b2d42\", face = \"bold\", hjust= 0.5)\n",
    "        ,axis.text.y      = element_text(angle =  0, size = 6, color = \"#8d99ae\", face = \"bold\", hjust=1.1)\n",
    "        ,axis.text.x      = element_text(angle = 70, size = 6, color = \"#8d99ae\", face = \"bold\", hjust=1.1)\n",
    "        ,axis.title.x     = element_blank()\n",
    "        ,axis.ticks.x     = element_blank()\n",
    "        ,axis.ticks.y     = element_blank()\n",
    "        ,plot.margin      = unit(c(1,1,1,1),\"cm\")\n",
    "        ,panel.background = element_blank()\n",
    "        ,legend.position  = \"right\") +\n",
    "  \n",
    "\n",
    "  geom_text(aes(y = `Number of Exons` + 40, \n",
    "                label = `Number of Exons`),\n",
    "                size = 2,\n",
    "                color     = \"#4A637B\",\n",
    "                position  =  position_dodge(width = 1),\n",
    "                family    = 'Helvetica') +\n",
    "  \n",
    "  labs(title   = \"Number of genes with higher expression of included exons in each sex per tissue\\n\",\n",
    "       caption = \"\\nsource: 'The impact of sex on alternative splicing'\\n doi: https://doi.org/10.1101/490904\",\n",
    "       y   = \"\\nNumber of Differentially Expressed Genes\")  + coord_flip()\n",
    "\n"
   ]
  },
  {
   "cell_type": "markdown",
   "metadata": {},
   "source": [
    "# Mutually exclusive sex biased genes (higher expression in one or the other sex only)\n",
    "\n",
    "\n",
    "The dataframe `signif_per_tissue` contains all the information for the genes that were significantly higher in either of the two sexes. WLet's examine how many mutually exclusive genes were found across all examined tissues. Ensembl encodes as `Chromosome` the chromosomal position, so we will create the required variables to retrieve only the chromosome information for producing summary statistics."
   ]
  },
  {
   "cell_type": "code",
   "execution_count": 54,
   "metadata": {},
   "outputs": [
    {
     "name": "stdout",
     "output_type": "stream",
     "text": [
      "c(\"logFC\", \"AveExpr\", \"t\", \"P.Value\", \"adj.P.Val\", \"B\", \"junctionGeneSymbol\", \n",
      "\"symbol\", \"ID\", \"splice_type\", \"featurespace\", \"GeneID\", \"geneSymbol\", \n",
      "\"chr\", \"strand\", \"exonStart_0base\", \"exonEnd\", \"upstreamES\", \n",
      "\"upstreamEE\", \"downstreamES\", \"downstreamEE\", \"abs_logFC\", \"FoldChange_dummy\", \n",
      "\"abundance\", \"tissue\")\n"
     ]
    },
    {
     "data": {
      "text/html": [
       "chrX\n",
       "<details>\n",
       "\t<summary style=display:list-item;cursor:pointer>\n",
       "\t\t<strong>Levels</strong>:\n",
       "\t</summary>\n",
       "\t<style>\n",
       "\t.list-inline {list-style: none; margin:0; padding: 0}\n",
       "\t.list-inline>li {display: inline-block}\n",
       "\t.list-inline>li:not(:last-child)::after {content: \"\\00b7\"; padding: 0 .5ex}\n",
       "\t</style>\n",
       "\t<ol class=list-inline><li>'chr1'</li><li>'chr10'</li><li>'chr11'</li><li>'chr12'</li><li>'chr13'</li><li>'chr14'</li><li>'chr15'</li><li>'chr16'</li><li>'chr17'</li><li>'chr18'</li><li>'chr19'</li><li>'chr2'</li><li>'chr20'</li><li>'chr21'</li><li>'chr22'</li><li>'chr3'</li><li>'chr4'</li><li>'chr5'</li><li>'chr6'</li><li>'chr7'</li><li>'chr8'</li><li>'chr9'</li><li>'chrX'</li><li>'chrY'</li></ol>\n",
       "</details>"
      ],
      "text/latex": [
       "chrX\n",
       "\\emph{Levels}: \\begin{enumerate*}\n",
       "\\item 'chr1'\n",
       "\\item 'chr10'\n",
       "\\item 'chr11'\n",
       "\\item 'chr12'\n",
       "\\item 'chr13'\n",
       "\\item 'chr14'\n",
       "\\item 'chr15'\n",
       "\\item 'chr16'\n",
       "\\item 'chr17'\n",
       "\\item 'chr18'\n",
       "\\item 'chr19'\n",
       "\\item 'chr2'\n",
       "\\item 'chr20'\n",
       "\\item 'chr21'\n",
       "\\item 'chr22'\n",
       "\\item 'chr3'\n",
       "\\item 'chr4'\n",
       "\\item 'chr5'\n",
       "\\item 'chr6'\n",
       "\\item 'chr7'\n",
       "\\item 'chr8'\n",
       "\\item 'chr9'\n",
       "\\item 'chrX'\n",
       "\\item 'chrY'\n",
       "\\end{enumerate*}\n"
      ],
      "text/markdown": [
       "chrX\n",
       "**Levels**: 1. 'chr1'\n",
       "2. 'chr10'\n",
       "3. 'chr11'\n",
       "4. 'chr12'\n",
       "5. 'chr13'\n",
       "6. 'chr14'\n",
       "7. 'chr15'\n",
       "8. 'chr16'\n",
       "9. 'chr17'\n",
       "10. 'chr18'\n",
       "11. 'chr19'\n",
       "12. 'chr2'\n",
       "13. 'chr20'\n",
       "14. 'chr21'\n",
       "15. 'chr22'\n",
       "16. 'chr3'\n",
       "17. 'chr4'\n",
       "18. 'chr5'\n",
       "19. 'chr6'\n",
       "20. 'chr7'\n",
       "21. 'chr8'\n",
       "22. 'chr9'\n",
       "23. 'chrX'\n",
       "24. 'chrY'\n",
       "\n",
       "\n"
      ],
      "text/plain": [
       "     [,1]\n",
       "[1,] chrX\n",
       "24 Levels: chr1 chr10 chr11 chr12 chr13 chr14 chr15 chr16 chr17 chr18 ... chrY"
      ]
     },
     "metadata": {},
     "output_type": "display_data"
    }
   ],
   "source": [
    "dput(colnames(signif_per_tissue))\n",
    "t(head(signif_per_tissue$chr,1))"
   ]
  },
  {
   "cell_type": "code",
   "execution_count": 55,
   "metadata": {},
   "outputs": [
    {
     "data": {
      "text/html": [
       "<table>\n",
       "<caption>A data.frame: 6 × 27</caption>\n",
       "<thead>\n",
       "\t<tr><th></th><th scope=col>logFC</th><th scope=col>AveExpr</th><th scope=col>t</th><th scope=col>P.Value</th><th scope=col>adj.P.Val</th><th scope=col>B</th><th scope=col>junctionGeneSymbol</th><th scope=col>symbol</th><th scope=col>ID</th><th scope=col>splice_type</th><th scope=col>⋯</th><th scope=col>upstreamES</th><th scope=col>upstreamEE</th><th scope=col>downstreamES</th><th scope=col>downstreamEE</th><th scope=col>abs_logFC</th><th scope=col>FoldChange_dummy</th><th scope=col>abundance</th><th scope=col>tissue</th><th scope=col>Chromosome</th><th scope=col>higher_in</th></tr>\n",
       "\t<tr><th></th><th scope=col>&lt;dbl&gt;</th><th scope=col>&lt;dbl&gt;</th><th scope=col>&lt;dbl&gt;</th><th scope=col>&lt;dbl&gt;</th><th scope=col>&lt;dbl&gt;</th><th scope=col>&lt;dbl&gt;</th><th scope=col>&lt;chr&gt;</th><th scope=col>&lt;chr&gt;</th><th scope=col>&lt;chr&gt;</th><th scope=col>&lt;chr&gt;</th><th scope=col>⋯</th><th scope=col>&lt;int&gt;</th><th scope=col>&lt;int&gt;</th><th scope=col>&lt;int&gt;</th><th scope=col>&lt;int&gt;</th><th scope=col>&lt;dbl&gt;</th><th scope=col>&lt;dbl&gt;</th><th scope=col>&lt;chr&gt;</th><th scope=col>&lt;chr&gt;</th><th scope=col>&lt;fct&gt;</th><th scope=col>&lt;chr&gt;</th></tr>\n",
       "</thead>\n",
       "<tbody>\n",
       "\t<tr><th scope=row>1</th><td>7.184546</td><td>0.8439706</td><td>75.67511</td><td>2.712786e-160</td><td>1.152500e-155</td><td>302.3769</td><td>XIST-10151</td><td>XIST</td><td>10151</td><td>SE</td><td>⋯</td><td>73820655</td><td>73821029</td><td>73826114</td><td>73826301</td><td>7.184546</td><td>145.46680</td><td>higher</td><td>adipose_visceral_omentum</td><td>chrX</td><td>females</td></tr>\n",
       "\t<tr><th scope=row>2</th><td>7.475716</td><td>1.0982950</td><td>66.67732</td><td>1.268847e-148</td><td>1.796857e-144</td><td>284.4763</td><td>XIST-10155</td><td>XIST</td><td>10155</td><td>SE</td><td>⋯</td><td>73820655</td><td>73821029</td><td>73826114</td><td>73827984</td><td>7.475716</td><td>177.99786</td><td>higher</td><td>adipose_visceral_omentum</td><td>chrX</td><td>females</td></tr>\n",
       "\t<tr><th scope=row>3</th><td>8.203540</td><td>1.6622411</td><td>68.71284</td><td>2.200632e-151</td><td>4.674582e-147</td><td>283.5065</td><td>XIST-10150</td><td>XIST</td><td>10150</td><td>SE</td><td>⋯</td><td>73831065</td><td>73831274</td><td>73837439</td><td>73841474</td><td>8.203540</td><td>294.78930</td><td>higher</td><td>adipose_visceral_omentum</td><td>chrX</td><td>females</td></tr>\n",
       "\t<tr><th scope=row>4</th><td>6.460075</td><td>0.5929219</td><td>62.14198</td><td>3.462530e-142</td><td>2.942042e-138</td><td>272.8198</td><td>XIST-10153</td><td>XIST</td><td>10153</td><td>SE</td><td>⋯</td><td>73820716</td><td>73821029</td><td>73826114</td><td>73827984</td><td>6.460075</td><td> 88.03926</td><td>higher</td><td>adipose_visceral_omentum</td><td>chrX</td><td>females</td></tr>\n",
       "\t<tr><th scope=row>5</th><td>8.010702</td><td>1.7803221</td><td>65.67909</td><td>3.057525e-147</td><td>3.247397e-143</td><td>271.9093</td><td>XIST-10154</td><td>XIST</td><td>10154</td><td>SE</td><td>⋯</td><td>73829067</td><td>73829231</td><td>73833237</td><td>73833374</td><td>8.010702</td><td>257.90604</td><td>higher</td><td>adipose_visceral_omentum</td><td>chrX</td><td>females</td></tr>\n",
       "\t<tr><th scope=row>6</th><td>8.330019</td><td>2.1882872</td><td>61.12172</td><td>1.109224e-140</td><td>7.854046e-137</td><td>256.2471</td><td>XIST-10149</td><td>XIST</td><td>10149</td><td>SE</td><td>⋯</td><td>73829067</td><td>73829231</td><td>73833237</td><td>73833374</td><td>8.330019</td><td>321.79959</td><td>higher</td><td>adipose_visceral_omentum</td><td>chrX</td><td>females</td></tr>\n",
       "</tbody>\n",
       "</table>\n"
      ],
      "text/latex": [
       "A data.frame: 6 × 27\n",
       "\\begin{tabular}{r|lllllllllllllllllllll}\n",
       "  & logFC & AveExpr & t & P.Value & adj.P.Val & B & junctionGeneSymbol & symbol & ID & splice\\_type & ⋯ & upstreamES & upstreamEE & downstreamES & downstreamEE & abs\\_logFC & FoldChange\\_dummy & abundance & tissue & Chromosome & higher\\_in\\\\\n",
       "  & <dbl> & <dbl> & <dbl> & <dbl> & <dbl> & <dbl> & <chr> & <chr> & <chr> & <chr> & ⋯ & <int> & <int> & <int> & <int> & <dbl> & <dbl> & <chr> & <chr> & <fct> & <chr>\\\\\n",
       "\\hline\n",
       "\t1 & 7.184546 & 0.8439706 & 75.67511 & 2.712786e-160 & 1.152500e-155 & 302.3769 & XIST-10151 & XIST & 10151 & SE & ⋯ & 73820655 & 73821029 & 73826114 & 73826301 & 7.184546 & 145.46680 & higher & adipose\\_visceral\\_omentum & chrX & females\\\\\n",
       "\t2 & 7.475716 & 1.0982950 & 66.67732 & 1.268847e-148 & 1.796857e-144 & 284.4763 & XIST-10155 & XIST & 10155 & SE & ⋯ & 73820655 & 73821029 & 73826114 & 73827984 & 7.475716 & 177.99786 & higher & adipose\\_visceral\\_omentum & chrX & females\\\\\n",
       "\t3 & 8.203540 & 1.6622411 & 68.71284 & 2.200632e-151 & 4.674582e-147 & 283.5065 & XIST-10150 & XIST & 10150 & SE & ⋯ & 73831065 & 73831274 & 73837439 & 73841474 & 8.203540 & 294.78930 & higher & adipose\\_visceral\\_omentum & chrX & females\\\\\n",
       "\t4 & 6.460075 & 0.5929219 & 62.14198 & 3.462530e-142 & 2.942042e-138 & 272.8198 & XIST-10153 & XIST & 10153 & SE & ⋯ & 73820716 & 73821029 & 73826114 & 73827984 & 6.460075 &  88.03926 & higher & adipose\\_visceral\\_omentum & chrX & females\\\\\n",
       "\t5 & 8.010702 & 1.7803221 & 65.67909 & 3.057525e-147 & 3.247397e-143 & 271.9093 & XIST-10154 & XIST & 10154 & SE & ⋯ & 73829067 & 73829231 & 73833237 & 73833374 & 8.010702 & 257.90604 & higher & adipose\\_visceral\\_omentum & chrX & females\\\\\n",
       "\t6 & 8.330019 & 2.1882872 & 61.12172 & 1.109224e-140 & 7.854046e-137 & 256.2471 & XIST-10149 & XIST & 10149 & SE & ⋯ & 73829067 & 73829231 & 73833237 & 73833374 & 8.330019 & 321.79959 & higher & adipose\\_visceral\\_omentum & chrX & females\\\\\n",
       "\\end{tabular}\n"
      ],
      "text/markdown": [
       "\n",
       "A data.frame: 6 × 27\n",
       "\n",
       "| <!--/--> | logFC &lt;dbl&gt; | AveExpr &lt;dbl&gt; | t &lt;dbl&gt; | P.Value &lt;dbl&gt; | adj.P.Val &lt;dbl&gt; | B &lt;dbl&gt; | junctionGeneSymbol &lt;chr&gt; | symbol &lt;chr&gt; | ID &lt;chr&gt; | splice_type &lt;chr&gt; | ⋯ ⋯ | upstreamES &lt;int&gt; | upstreamEE &lt;int&gt; | downstreamES &lt;int&gt; | downstreamEE &lt;int&gt; | abs_logFC &lt;dbl&gt; | FoldChange_dummy &lt;dbl&gt; | abundance &lt;chr&gt; | tissue &lt;chr&gt; | Chromosome &lt;fct&gt; | higher_in &lt;chr&gt; |\n",
       "|---|---|---|---|---|---|---|---|---|---|---|---|---|---|---|---|---|---|---|---|---|---|\n",
       "| 1 | 7.184546 | 0.8439706 | 75.67511 | 2.712786e-160 | 1.152500e-155 | 302.3769 | XIST-10151 | XIST | 10151 | SE | ⋯ | 73820655 | 73821029 | 73826114 | 73826301 | 7.184546 | 145.46680 | higher | adipose_visceral_omentum | chrX | females |\n",
       "| 2 | 7.475716 | 1.0982950 | 66.67732 | 1.268847e-148 | 1.796857e-144 | 284.4763 | XIST-10155 | XIST | 10155 | SE | ⋯ | 73820655 | 73821029 | 73826114 | 73827984 | 7.475716 | 177.99786 | higher | adipose_visceral_omentum | chrX | females |\n",
       "| 3 | 8.203540 | 1.6622411 | 68.71284 | 2.200632e-151 | 4.674582e-147 | 283.5065 | XIST-10150 | XIST | 10150 | SE | ⋯ | 73831065 | 73831274 | 73837439 | 73841474 | 8.203540 | 294.78930 | higher | adipose_visceral_omentum | chrX | females |\n",
       "| 4 | 6.460075 | 0.5929219 | 62.14198 | 3.462530e-142 | 2.942042e-138 | 272.8198 | XIST-10153 | XIST | 10153 | SE | ⋯ | 73820716 | 73821029 | 73826114 | 73827984 | 6.460075 |  88.03926 | higher | adipose_visceral_omentum | chrX | females |\n",
       "| 5 | 8.010702 | 1.7803221 | 65.67909 | 3.057525e-147 | 3.247397e-143 | 271.9093 | XIST-10154 | XIST | 10154 | SE | ⋯ | 73829067 | 73829231 | 73833237 | 73833374 | 8.010702 | 257.90604 | higher | adipose_visceral_omentum | chrX | females |\n",
       "| 6 | 8.330019 | 2.1882872 | 61.12172 | 1.109224e-140 | 7.854046e-137 | 256.2471 | XIST-10149 | XIST | 10149 | SE | ⋯ | 73829067 | 73829231 | 73833237 | 73833374 | 8.330019 | 321.79959 | higher | adipose_visceral_omentum | chrX | females |\n",
       "\n"
      ],
      "text/plain": [
       "  logFC    AveExpr   t        P.Value       adj.P.Val     B       \n",
       "1 7.184546 0.8439706 75.67511 2.712786e-160 1.152500e-155 302.3769\n",
       "2 7.475716 1.0982950 66.67732 1.268847e-148 1.796857e-144 284.4763\n",
       "3 8.203540 1.6622411 68.71284 2.200632e-151 4.674582e-147 283.5065\n",
       "4 6.460075 0.5929219 62.14198 3.462530e-142 2.942042e-138 272.8198\n",
       "5 8.010702 1.7803221 65.67909 3.057525e-147 3.247397e-143 271.9093\n",
       "6 8.330019 2.1882872 61.12172 1.109224e-140 7.854046e-137 256.2471\n",
       "  junctionGeneSymbol symbol ID    splice_type ⋯ upstreamES upstreamEE\n",
       "1 XIST-10151         XIST   10151 SE          ⋯ 73820655   73821029  \n",
       "2 XIST-10155         XIST   10155 SE          ⋯ 73820655   73821029  \n",
       "3 XIST-10150         XIST   10150 SE          ⋯ 73831065   73831274  \n",
       "4 XIST-10153         XIST   10153 SE          ⋯ 73820716   73821029  \n",
       "5 XIST-10154         XIST   10154 SE          ⋯ 73829067   73829231  \n",
       "6 XIST-10149         XIST   10149 SE          ⋯ 73829067   73829231  \n",
       "  downstreamES downstreamEE abs_logFC FoldChange_dummy abundance\n",
       "1 73826114     73826301     7.184546  145.46680        higher   \n",
       "2 73826114     73827984     7.475716  177.99786        higher   \n",
       "3 73837439     73841474     8.203540  294.78930        higher   \n",
       "4 73826114     73827984     6.460075   88.03926        higher   \n",
       "5 73833237     73833374     8.010702  257.90604        higher   \n",
       "6 73833237     73833374     8.330019  321.79959        higher   \n",
       "  tissue                   Chromosome higher_in\n",
       "1 adipose_visceral_omentum chrX       females  \n",
       "2 adipose_visceral_omentum chrX       females  \n",
       "3 adipose_visceral_omentum chrX       females  \n",
       "4 adipose_visceral_omentum chrX       females  \n",
       "5 adipose_visceral_omentum chrX       females  \n",
       "6 adipose_visceral_omentum chrX       females  "
      ]
     },
     "metadata": {},
     "output_type": "display_data"
    }
   ],
   "source": [
    "chromosome_column <- \"chr\"\n",
    "signif_per_tissue$Chromosome <-  signif_per_tissue[[chromosome_column]]\n",
    "signif_per_tissue$higher_in  <- 0\n",
    "signif_per_tissue$higher_in[(signif_per_tissue$abundance == \"lower\" )] <- \"males\"\n",
    "signif_per_tissue$higher_in[(signif_per_tissue$abundance == \"higher\" )] <- \"females\"\n",
    "toKeepInOrder <- colnames(signif_per_tissue)\n",
    "signif_per_tissue <- signif_per_tissue[, toKeepInOrder]\n",
    "head(signif_per_tissue)"
   ]
  },
  {
   "cell_type": "markdown",
   "metadata": {},
   "source": [
    "# Examine mutually exclusive genes upregulated in each sex"
   ]
  },
  {
   "cell_type": "code",
   "execution_count": 56,
   "metadata": {},
   "outputs": [
    {
     "data": {
      "text/html": [
       "1286"
      ],
      "text/latex": [
       "1286"
      ],
      "text/markdown": [
       "1286"
      ],
      "text/plain": [
       "[1] 1286"
      ]
     },
     "metadata": {},
     "output_type": "display_data"
    },
    {
     "data": {
      "text/html": [
       "2357"
      ],
      "text/latex": [
       "2357"
      ],
      "text/markdown": [
       "2357"
      ],
      "text/plain": [
       "[1] 2357"
      ]
     },
     "metadata": {},
     "output_type": "display_data"
    }
   ],
   "source": [
    "feature_id_column <- \"junctionGeneSymbol\"\n",
    "female_biased <- unique(signif_per_tissue[[feature_id_column]] [ signif_per_tissue$higher_in == \"females\" ] )\n",
    "male_biased   <- unique(signif_per_tissue[[feature_id_column]] [ signif_per_tissue$higher_in == \"males\"  ] )\n",
    "\n",
    "length(male_biased)\n",
    "length(female_biased)"
   ]
  },
  {
   "cell_type": "code",
   "execution_count": 57,
   "metadata": {},
   "outputs": [
    {
     "data": {
      "text/html": [
       "84"
      ],
      "text/latex": [
       "84"
      ],
      "text/markdown": [
       "84"
      ],
      "text/plain": [
       "[1] 84"
      ]
     },
     "metadata": {},
     "output_type": "display_data"
    },
    {
     "data": {
      "text/html": [
       "84"
      ],
      "text/latex": [
       "84"
      ],
      "text/markdown": [
       "84"
      ],
      "text/plain": [
       "[1] 84"
      ]
     },
     "metadata": {},
     "output_type": "display_data"
    }
   ],
   "source": [
    "## Present in both\n",
    "\n",
    "length((intersect(male_biased, female_biased)))\n",
    "length((intersect(female_biased, male_biased)))\n",
    "\n",
    "intersect <- (intersect(male_biased, female_biased))\n"
   ]
  },
  {
   "cell_type": "code",
   "execution_count": 58,
   "metadata": {},
   "outputs": [
    {
     "data": {
      "text/html": [
       "1202"
      ],
      "text/latex": [
       "1202"
      ],
      "text/markdown": [
       "1202"
      ],
      "text/plain": [
       "[1] 1202"
      ]
     },
     "metadata": {},
     "output_type": "display_data"
    },
    {
     "data": {
      "text/html": [
       "2273"
      ],
      "text/latex": [
       "2273"
      ],
      "text/markdown": [
       "2273"
      ],
      "text/plain": [
       "[1] 2273"
      ]
     },
     "metadata": {},
     "output_type": "display_data"
    }
   ],
   "source": [
    "## Only in males\n",
    "length(male_biased[! (male_biased %in% intersect)])\n",
    "\n",
    "## Only females\n",
    "length(female_biased[! (female_biased %in% intersect)])"
   ]
  },
  {
   "cell_type": "code",
   "execution_count": 59,
   "metadata": {},
   "outputs": [
    {
     "data": {
      "text/html": [
       "<table>\n",
       "<caption>A data.frame: 4 × 27</caption>\n",
       "<thead>\n",
       "\t<tr><th></th><th scope=col>logFC</th><th scope=col>AveExpr</th><th scope=col>t</th><th scope=col>P.Value</th><th scope=col>adj.P.Val</th><th scope=col>B</th><th scope=col>junctionGeneSymbol</th><th scope=col>symbol</th><th scope=col>ID</th><th scope=col>splice_type</th><th scope=col>⋯</th><th scope=col>upstreamES</th><th scope=col>upstreamEE</th><th scope=col>downstreamES</th><th scope=col>downstreamEE</th><th scope=col>abs_logFC</th><th scope=col>FoldChange_dummy</th><th scope=col>abundance</th><th scope=col>tissue</th><th scope=col>Chromosome</th><th scope=col>higher_in</th></tr>\n",
       "\t<tr><th></th><th scope=col>&lt;dbl&gt;</th><th scope=col>&lt;dbl&gt;</th><th scope=col>&lt;dbl&gt;</th><th scope=col>&lt;dbl&gt;</th><th scope=col>&lt;dbl&gt;</th><th scope=col>&lt;dbl&gt;</th><th scope=col>&lt;chr&gt;</th><th scope=col>&lt;chr&gt;</th><th scope=col>&lt;chr&gt;</th><th scope=col>&lt;chr&gt;</th><th scope=col>⋯</th><th scope=col>&lt;int&gt;</th><th scope=col>&lt;int&gt;</th><th scope=col>&lt;int&gt;</th><th scope=col>&lt;int&gt;</th><th scope=col>&lt;dbl&gt;</th><th scope=col>&lt;dbl&gt;</th><th scope=col>&lt;chr&gt;</th><th scope=col>&lt;chr&gt;</th><th scope=col>&lt;fct&gt;</th><th scope=col>&lt;chr&gt;</th></tr>\n",
       "</thead>\n",
       "<tbody>\n",
       "\t<tr><th scope=row>37</th><td>-0.9564820</td><td>1.58736714</td><td>-4.929171</td><td>1.617377e-06</td><td>0.001857099</td><td>4.756452</td><td>CADM2-21356  </td><td>CADM2  </td><td>21356</td><td>SE</td><td>⋯</td><td> 85961468</td><td> 85961647</td><td> 86065604</td><td> 86065730</td><td>0.9564820</td><td>-1.940572</td><td>lower</td><td>adipose_visceral_omentum</td><td>chr3 </td><td>males</td></tr>\n",
       "\t<tr><th scope=row>60</th><td>-0.8750573</td><td>0.08636584</td><td>-4.375896</td><td>1.862715e-05</td><td>0.013644064</td><td>2.512447</td><td>RBP7-30215   </td><td>RBP7   </td><td>30215</td><td>SE</td><td>⋯</td><td>  9997205</td><td>  9997331</td><td> 10007569</td><td> 10007748</td><td>0.8750573</td><td>-1.834081</td><td>lower</td><td>adipose_visceral_omentum</td><td>chr1 </td><td>males</td></tr>\n",
       "\t<tr><th scope=row>64</th><td>-0.9717142</td><td>1.23811445</td><td>-4.241627</td><td>3.260596e-05</td><td>0.021709996</td><td>2.088344</td><td>SLC14A1-24703</td><td>SLC14A1</td><td>24703</td><td>SE</td><td>⋯</td><td> 45736455</td><td> 45736648</td><td> 45748375</td><td> 45748425</td><td>0.9717142</td><td>-1.961169</td><td>lower</td><td>adipose_visceral_omentum</td><td>chr18</td><td>males</td></tr>\n",
       "\t<tr><th scope=row>65</th><td>-0.6822950</td><td>0.26362334</td><td>-4.198358</td><td>3.894231e-05</td><td>0.025452692</td><td>1.877405</td><td>FAM122C-18149</td><td>FAM122C</td><td>18149</td><td>SE</td><td>⋯</td><td>134845346</td><td>134845401</td><td>134852799</td><td>134852896</td><td>0.6822950</td><td>-1.604690</td><td>lower</td><td>adipose_visceral_omentum</td><td>chrX </td><td>males</td></tr>\n",
       "</tbody>\n",
       "</table>\n"
      ],
      "text/latex": [
       "A data.frame: 4 × 27\n",
       "\\begin{tabular}{r|lllllllllllllllllllll}\n",
       "  & logFC & AveExpr & t & P.Value & adj.P.Val & B & junctionGeneSymbol & symbol & ID & splice\\_type & ⋯ & upstreamES & upstreamEE & downstreamES & downstreamEE & abs\\_logFC & FoldChange\\_dummy & abundance & tissue & Chromosome & higher\\_in\\\\\n",
       "  & <dbl> & <dbl> & <dbl> & <dbl> & <dbl> & <dbl> & <chr> & <chr> & <chr> & <chr> & ⋯ & <int> & <int> & <int> & <int> & <dbl> & <dbl> & <chr> & <chr> & <fct> & <chr>\\\\\n",
       "\\hline\n",
       "\t37 & -0.9564820 & 1.58736714 & -4.929171 & 1.617377e-06 & 0.001857099 & 4.756452 & CADM2-21356   & CADM2   & 21356 & SE & ⋯ &  85961468 &  85961647 &  86065604 &  86065730 & 0.9564820 & -1.940572 & lower & adipose\\_visceral\\_omentum & chr3  & males\\\\\n",
       "\t60 & -0.8750573 & 0.08636584 & -4.375896 & 1.862715e-05 & 0.013644064 & 2.512447 & RBP7-30215    & RBP7    & 30215 & SE & ⋯ &   9997205 &   9997331 &  10007569 &  10007748 & 0.8750573 & -1.834081 & lower & adipose\\_visceral\\_omentum & chr1  & males\\\\\n",
       "\t64 & -0.9717142 & 1.23811445 & -4.241627 & 3.260596e-05 & 0.021709996 & 2.088344 & SLC14A1-24703 & SLC14A1 & 24703 & SE & ⋯ &  45736455 &  45736648 &  45748375 &  45748425 & 0.9717142 & -1.961169 & lower & adipose\\_visceral\\_omentum & chr18 & males\\\\\n",
       "\t65 & -0.6822950 & 0.26362334 & -4.198358 & 3.894231e-05 & 0.025452692 & 1.877405 & FAM122C-18149 & FAM122C & 18149 & SE & ⋯ & 134845346 & 134845401 & 134852799 & 134852896 & 0.6822950 & -1.604690 & lower & adipose\\_visceral\\_omentum & chrX  & males\\\\\n",
       "\\end{tabular}\n"
      ],
      "text/markdown": [
       "\n",
       "A data.frame: 4 × 27\n",
       "\n",
       "| <!--/--> | logFC &lt;dbl&gt; | AveExpr &lt;dbl&gt; | t &lt;dbl&gt; | P.Value &lt;dbl&gt; | adj.P.Val &lt;dbl&gt; | B &lt;dbl&gt; | junctionGeneSymbol &lt;chr&gt; | symbol &lt;chr&gt; | ID &lt;chr&gt; | splice_type &lt;chr&gt; | ⋯ ⋯ | upstreamES &lt;int&gt; | upstreamEE &lt;int&gt; | downstreamES &lt;int&gt; | downstreamEE &lt;int&gt; | abs_logFC &lt;dbl&gt; | FoldChange_dummy &lt;dbl&gt; | abundance &lt;chr&gt; | tissue &lt;chr&gt; | Chromosome &lt;fct&gt; | higher_in &lt;chr&gt; |\n",
       "|---|---|---|---|---|---|---|---|---|---|---|---|---|---|---|---|---|---|---|---|---|---|\n",
       "| 37 | -0.9564820 | 1.58736714 | -4.929171 | 1.617377e-06 | 0.001857099 | 4.756452 | CADM2-21356   | CADM2   | 21356 | SE | ⋯ |  85961468 |  85961647 |  86065604 |  86065730 | 0.9564820 | -1.940572 | lower | adipose_visceral_omentum | chr3  | males |\n",
       "| 60 | -0.8750573 | 0.08636584 | -4.375896 | 1.862715e-05 | 0.013644064 | 2.512447 | RBP7-30215    | RBP7    | 30215 | SE | ⋯ |   9997205 |   9997331 |  10007569 |  10007748 | 0.8750573 | -1.834081 | lower | adipose_visceral_omentum | chr1  | males |\n",
       "| 64 | -0.9717142 | 1.23811445 | -4.241627 | 3.260596e-05 | 0.021709996 | 2.088344 | SLC14A1-24703 | SLC14A1 | 24703 | SE | ⋯ |  45736455 |  45736648 |  45748375 |  45748425 | 0.9717142 | -1.961169 | lower | adipose_visceral_omentum | chr18 | males |\n",
       "| 65 | -0.6822950 | 0.26362334 | -4.198358 | 3.894231e-05 | 0.025452692 | 1.877405 | FAM122C-18149 | FAM122C | 18149 | SE | ⋯ | 134845346 | 134845401 | 134852799 | 134852896 | 0.6822950 | -1.604690 | lower | adipose_visceral_omentum | chrX  | males |\n",
       "\n"
      ],
      "text/plain": [
       "   logFC      AveExpr    t         P.Value      adj.P.Val   B       \n",
       "37 -0.9564820 1.58736714 -4.929171 1.617377e-06 0.001857099 4.756452\n",
       "60 -0.8750573 0.08636584 -4.375896 1.862715e-05 0.013644064 2.512447\n",
       "64 -0.9717142 1.23811445 -4.241627 3.260596e-05 0.021709996 2.088344\n",
       "65 -0.6822950 0.26362334 -4.198358 3.894231e-05 0.025452692 1.877405\n",
       "   junctionGeneSymbol symbol  ID    splice_type ⋯ upstreamES upstreamEE\n",
       "37 CADM2-21356        CADM2   21356 SE          ⋯  85961468   85961647 \n",
       "60 RBP7-30215         RBP7    30215 SE          ⋯   9997205    9997331 \n",
       "64 SLC14A1-24703      SLC14A1 24703 SE          ⋯  45736455   45736648 \n",
       "65 FAM122C-18149      FAM122C 18149 SE          ⋯ 134845346  134845401 \n",
       "   downstreamES downstreamEE abs_logFC FoldChange_dummy abundance\n",
       "37  86065604     86065730    0.9564820 -1.940572        lower    \n",
       "60  10007569     10007748    0.8750573 -1.834081        lower    \n",
       "64  45748375     45748425    0.9717142 -1.961169        lower    \n",
       "65 134852799    134852896    0.6822950 -1.604690        lower    \n",
       "   tissue                   Chromosome higher_in\n",
       "37 adipose_visceral_omentum chr3       males    \n",
       "60 adipose_visceral_omentum chr1       males    \n",
       "64 adipose_visceral_omentum chr18      males    \n",
       "65 adipose_visceral_omentum chrX       males    "
      ]
     },
     "metadata": {},
     "output_type": "display_data"
    },
    {
     "name": "stderr",
     "output_type": "stream",
     "text": [
      "93.47 % of differentially spliced exons higher in males only found to be significantly different in males\n",
      "96.44 % of differentially spliced exon higher in females only found to be significantly different in females\n"
     ]
    }
   ],
   "source": [
    "perc_only_male <-  length(male_biased[! (male_biased %in% intersect)]) / length(male_biased) * 100\n",
    "perc_only_female <-  length(female_biased[! (female_biased %in% intersect)]) / length(female_biased) * 100\n",
    "\n",
    "head( signif_per_tissue[ signif_per_tissue[[feature_id_column]] %in% male_biased[! (male_biased %in% intersect)],  ] , 4 )\n",
    "\n",
    "message(round(perc_only_male, 2), \" % of differentially spliced exons higher in males only found to be significantly different in males\")\n",
    "message(round(perc_only_female,2), \" % of differentially spliced exon higher in females only found to be significantly different in females\")"
   ]
  },
  {
   "cell_type": "markdown",
   "metadata": {},
   "source": [
    "## Significantly higher only in males"
   ]
  },
  {
   "cell_type": "code",
   "execution_count": 60,
   "metadata": {},
   "outputs": [
    {
     "data": {
      "text/html": [
       "<style>\n",
       ".list-inline {list-style: none; margin:0; padding: 0}\n",
       ".list-inline>li {display: inline-block}\n",
       ".list-inline>li:not(:last-child)::after {content: \"\\00b7\"; padding: 0 .5ex}\n",
       "</style>\n",
       "<ol class=list-inline><li>1335</li><li>27</li></ol>\n"
      ],
      "text/latex": [
       "\\begin{enumerate*}\n",
       "\\item 1335\n",
       "\\item 27\n",
       "\\end{enumerate*}\n"
      ],
      "text/markdown": [
       "1. 1335\n",
       "2. 27\n",
       "\n",
       "\n"
      ],
      "text/plain": [
       "[1] 1335   27"
      ]
     },
     "metadata": {},
     "output_type": "display_data"
    },
    {
     "data": {
      "text/html": [
       "<table>\n",
       "<caption>A data.frame: 5 × 27</caption>\n",
       "<thead>\n",
       "\t<tr><th></th><th scope=col>logFC</th><th scope=col>AveExpr</th><th scope=col>t</th><th scope=col>P.Value</th><th scope=col>adj.P.Val</th><th scope=col>B</th><th scope=col>junctionGeneSymbol</th><th scope=col>symbol</th><th scope=col>ID</th><th scope=col>splice_type</th><th scope=col>⋯</th><th scope=col>upstreamES</th><th scope=col>upstreamEE</th><th scope=col>downstreamES</th><th scope=col>downstreamEE</th><th scope=col>abs_logFC</th><th scope=col>FoldChange_dummy</th><th scope=col>abundance</th><th scope=col>tissue</th><th scope=col>Chromosome</th><th scope=col>higher_in</th></tr>\n",
       "\t<tr><th></th><th scope=col>&lt;dbl&gt;</th><th scope=col>&lt;dbl&gt;</th><th scope=col>&lt;dbl&gt;</th><th scope=col>&lt;dbl&gt;</th><th scope=col>&lt;dbl&gt;</th><th scope=col>&lt;dbl&gt;</th><th scope=col>&lt;chr&gt;</th><th scope=col>&lt;chr&gt;</th><th scope=col>&lt;chr&gt;</th><th scope=col>&lt;chr&gt;</th><th scope=col>⋯</th><th scope=col>&lt;int&gt;</th><th scope=col>&lt;int&gt;</th><th scope=col>&lt;int&gt;</th><th scope=col>&lt;int&gt;</th><th scope=col>&lt;dbl&gt;</th><th scope=col>&lt;dbl&gt;</th><th scope=col>&lt;chr&gt;</th><th scope=col>&lt;chr&gt;</th><th scope=col>&lt;fct&gt;</th><th scope=col>&lt;chr&gt;</th></tr>\n",
       "</thead>\n",
       "<tbody>\n",
       "\t<tr><th scope=row>8572</th><td>-0.7390542</td><td> 3.6377890</td><td>-2.681169</td><td>7.777936e-03</td><td>0.0390698333</td><td>-3.0287649</td><td>A2M-39551  </td><td>A2M  </td><td>39551</td><td>SE</td><td>⋯</td><td> 9112158</td><td> 9112211</td><td> 9113359</td><td> 9113543</td><td>0.7390542</td><td>-1.669081</td><td>lower</td><td>cells_cultured_fibroblasts</td><td>chr12</td><td>males</td></tr>\n",
       "\t<tr><th scope=row>2724</th><td>-0.6847851</td><td>-1.1448274</td><td>-4.406907</td><td>1.726723e-05</td><td>0.0002546272</td><td> 2.4886176</td><td>AATK-41915 </td><td>AATK </td><td>41915</td><td>SE</td><td>⋯</td><td>81126445</td><td>81126560</td><td>81127582</td><td>81127670</td><td>0.6847851</td><td>-1.607463</td><td>lower</td><td>breast_mammary_tissue     </td><td>chr17</td><td>males</td></tr>\n",
       "\t<tr><th scope=row>3913</th><td>-0.6341116</td><td> 2.2655679</td><td>-3.919225</td><td>1.227795e-04</td><td>0.0012744112</td><td> 0.5745299</td><td>ABCB1-4398 </td><td>ABCB1</td><td>4398 </td><td>SE</td><td>⋯</td><td>87566069</td><td>87566241</td><td>87570171</td><td>87570223</td><td>0.6341116</td><td>-1.551982</td><td>lower</td><td>breast_mammary_tissue     </td><td>chr7 </td><td>males</td></tr>\n",
       "\t<tr><th scope=row>2237</th><td>-0.8184029</td><td>-0.5261002</td><td>-4.666932</td><td>5.664149e-06</td><td>0.0001017358</td><td> 3.6382660</td><td>ABCB4-19990</td><td>ABCB4</td><td>19990</td><td>SE</td><td>⋯</td><td>87409235</td><td>87409392</td><td>87413616</td><td>87413717</td><td>0.8184029</td><td>-1.763453</td><td>lower</td><td>breast_mammary_tissue     </td><td>chr7 </td><td>males</td></tr>\n",
       "\t<tr><th scope=row>4185</th><td>-0.6498185</td><td> 0.2490733</td><td>-3.763442</td><td>2.214795e-04</td><td>0.0020205519</td><td> 0.2485522</td><td>ABCC4-27455</td><td>ABCC4</td><td>27455</td><td>SE</td><td>⋯</td><td>95210691</td><td>95210781</td><td>95246974</td><td>95247095</td><td>0.6498185</td><td>-1.568971</td><td>lower</td><td>breast_mammary_tissue     </td><td>chr13</td><td>males</td></tr>\n",
       "</tbody>\n",
       "</table>\n"
      ],
      "text/latex": [
       "A data.frame: 5 × 27\n",
       "\\begin{tabular}{r|lllllllllllllllllllll}\n",
       "  & logFC & AveExpr & t & P.Value & adj.P.Val & B & junctionGeneSymbol & symbol & ID & splice\\_type & ⋯ & upstreamES & upstreamEE & downstreamES & downstreamEE & abs\\_logFC & FoldChange\\_dummy & abundance & tissue & Chromosome & higher\\_in\\\\\n",
       "  & <dbl> & <dbl> & <dbl> & <dbl> & <dbl> & <dbl> & <chr> & <chr> & <chr> & <chr> & ⋯ & <int> & <int> & <int> & <int> & <dbl> & <dbl> & <chr> & <chr> & <fct> & <chr>\\\\\n",
       "\\hline\n",
       "\t8572 & -0.7390542 &  3.6377890 & -2.681169 & 7.777936e-03 & 0.0390698333 & -3.0287649 & A2M-39551   & A2M   & 39551 & SE & ⋯ &  9112158 &  9112211 &  9113359 &  9113543 & 0.7390542 & -1.669081 & lower & cells\\_cultured\\_fibroblasts & chr12 & males\\\\\n",
       "\t2724 & -0.6847851 & -1.1448274 & -4.406907 & 1.726723e-05 & 0.0002546272 &  2.4886176 & AATK-41915  & AATK  & 41915 & SE & ⋯ & 81126445 & 81126560 & 81127582 & 81127670 & 0.6847851 & -1.607463 & lower & breast\\_mammary\\_tissue      & chr17 & males\\\\\n",
       "\t3913 & -0.6341116 &  2.2655679 & -3.919225 & 1.227795e-04 & 0.0012744112 &  0.5745299 & ABCB1-4398  & ABCB1 & 4398  & SE & ⋯ & 87566069 & 87566241 & 87570171 & 87570223 & 0.6341116 & -1.551982 & lower & breast\\_mammary\\_tissue      & chr7  & males\\\\\n",
       "\t2237 & -0.8184029 & -0.5261002 & -4.666932 & 5.664149e-06 & 0.0001017358 &  3.6382660 & ABCB4-19990 & ABCB4 & 19990 & SE & ⋯ & 87409235 & 87409392 & 87413616 & 87413717 & 0.8184029 & -1.763453 & lower & breast\\_mammary\\_tissue      & chr7  & males\\\\\n",
       "\t4185 & -0.6498185 &  0.2490733 & -3.763442 & 2.214795e-04 & 0.0020205519 &  0.2485522 & ABCC4-27455 & ABCC4 & 27455 & SE & ⋯ & 95210691 & 95210781 & 95246974 & 95247095 & 0.6498185 & -1.568971 & lower & breast\\_mammary\\_tissue      & chr13 & males\\\\\n",
       "\\end{tabular}\n"
      ],
      "text/markdown": [
       "\n",
       "A data.frame: 5 × 27\n",
       "\n",
       "| <!--/--> | logFC &lt;dbl&gt; | AveExpr &lt;dbl&gt; | t &lt;dbl&gt; | P.Value &lt;dbl&gt; | adj.P.Val &lt;dbl&gt; | B &lt;dbl&gt; | junctionGeneSymbol &lt;chr&gt; | symbol &lt;chr&gt; | ID &lt;chr&gt; | splice_type &lt;chr&gt; | ⋯ ⋯ | upstreamES &lt;int&gt; | upstreamEE &lt;int&gt; | downstreamES &lt;int&gt; | downstreamEE &lt;int&gt; | abs_logFC &lt;dbl&gt; | FoldChange_dummy &lt;dbl&gt; | abundance &lt;chr&gt; | tissue &lt;chr&gt; | Chromosome &lt;fct&gt; | higher_in &lt;chr&gt; |\n",
       "|---|---|---|---|---|---|---|---|---|---|---|---|---|---|---|---|---|---|---|---|---|---|\n",
       "| 8572 | -0.7390542 |  3.6377890 | -2.681169 | 7.777936e-03 | 0.0390698333 | -3.0287649 | A2M-39551   | A2M   | 39551 | SE | ⋯ |  9112158 |  9112211 |  9113359 |  9113543 | 0.7390542 | -1.669081 | lower | cells_cultured_fibroblasts | chr12 | males |\n",
       "| 2724 | -0.6847851 | -1.1448274 | -4.406907 | 1.726723e-05 | 0.0002546272 |  2.4886176 | AATK-41915  | AATK  | 41915 | SE | ⋯ | 81126445 | 81126560 | 81127582 | 81127670 | 0.6847851 | -1.607463 | lower | breast_mammary_tissue      | chr17 | males |\n",
       "| 3913 | -0.6341116 |  2.2655679 | -3.919225 | 1.227795e-04 | 0.0012744112 |  0.5745299 | ABCB1-4398  | ABCB1 | 4398  | SE | ⋯ | 87566069 | 87566241 | 87570171 | 87570223 | 0.6341116 | -1.551982 | lower | breast_mammary_tissue      | chr7  | males |\n",
       "| 2237 | -0.8184029 | -0.5261002 | -4.666932 | 5.664149e-06 | 0.0001017358 |  3.6382660 | ABCB4-19990 | ABCB4 | 19990 | SE | ⋯ | 87409235 | 87409392 | 87413616 | 87413717 | 0.8184029 | -1.763453 | lower | breast_mammary_tissue      | chr7  | males |\n",
       "| 4185 | -0.6498185 |  0.2490733 | -3.763442 | 2.214795e-04 | 0.0020205519 |  0.2485522 | ABCC4-27455 | ABCC4 | 27455 | SE | ⋯ | 95210691 | 95210781 | 95246974 | 95247095 | 0.6498185 | -1.568971 | lower | breast_mammary_tissue      | chr13 | males |\n",
       "\n"
      ],
      "text/plain": [
       "     logFC      AveExpr    t         P.Value      adj.P.Val    B         \n",
       "8572 -0.7390542  3.6377890 -2.681169 7.777936e-03 0.0390698333 -3.0287649\n",
       "2724 -0.6847851 -1.1448274 -4.406907 1.726723e-05 0.0002546272  2.4886176\n",
       "3913 -0.6341116  2.2655679 -3.919225 1.227795e-04 0.0012744112  0.5745299\n",
       "2237 -0.8184029 -0.5261002 -4.666932 5.664149e-06 0.0001017358  3.6382660\n",
       "4185 -0.6498185  0.2490733 -3.763442 2.214795e-04 0.0020205519  0.2485522\n",
       "     junctionGeneSymbol symbol ID    splice_type ⋯ upstreamES upstreamEE\n",
       "8572 A2M-39551          A2M    39551 SE          ⋯  9112158    9112211  \n",
       "2724 AATK-41915         AATK   41915 SE          ⋯ 81126445   81126560  \n",
       "3913 ABCB1-4398         ABCB1  4398  SE          ⋯ 87566069   87566241  \n",
       "2237 ABCB4-19990        ABCB4  19990 SE          ⋯ 87409235   87409392  \n",
       "4185 ABCC4-27455        ABCC4  27455 SE          ⋯ 95210691   95210781  \n",
       "     downstreamES downstreamEE abs_logFC FoldChange_dummy abundance\n",
       "8572  9113359      9113543     0.7390542 -1.669081        lower    \n",
       "2724 81127582     81127670     0.6847851 -1.607463        lower    \n",
       "3913 87570171     87570223     0.6341116 -1.551982        lower    \n",
       "2237 87413616     87413717     0.8184029 -1.763453        lower    \n",
       "4185 95246974     95247095     0.6498185 -1.568971        lower    \n",
       "     tissue                     Chromosome higher_in\n",
       "8572 cells_cultured_fibroblasts chr12      males    \n",
       "2724 breast_mammary_tissue      chr17      males    \n",
       "3913 breast_mammary_tissue      chr7       males    \n",
       "2237 breast_mammary_tissue      chr7       males    \n",
       "4185 breast_mammary_tissue      chr13      males    "
      ]
     },
     "metadata": {},
     "output_type": "display_data"
    }
   ],
   "source": [
    "dim(signif_per_tissue[ signif_per_tissue[[feature_id_column]] %in% male_biased[! (male_biased %in% intersect)],  ])\n",
    "only_male_genes <- signif_per_tissue[ signif_per_tissue[[feature_id_column]] %in% (male_biased[! (male_biased %in% intersect)]) ,  ]\n",
    "head(only_male_genes[ order(only_male_genes[[feature_id_column]] ), ], 5)"
   ]
  },
  {
   "cell_type": "code",
   "execution_count": 61,
   "metadata": {},
   "outputs": [
    {
     "data": {
      "text/html": [
       "<table>\n",
       "<caption>A tibble: 20 × 2</caption>\n",
       "<thead>\n",
       "\t<tr><th scope=col>symbol</th><th scope=col>n</th></tr>\n",
       "\t<tr><th scope=col>&lt;chr&gt;</th><th scope=col>&lt;int&gt;</th></tr>\n",
       "</thead>\n",
       "<tbody>\n",
       "\t<tr><td>CD99     </td><td>19</td></tr>\n",
       "\t<tr><td>FRG1CP   </td><td>14</td></tr>\n",
       "\t<tr><td>NDRG4    </td><td>13</td></tr>\n",
       "\t<tr><td>NOX5     </td><td>12</td></tr>\n",
       "\t<tr><td>PAX8-AS1 </td><td>11</td></tr>\n",
       "\t<tr><td>TM7SF2   </td><td>11</td></tr>\n",
       "\t<tr><td>ZBED3-AS1</td><td>11</td></tr>\n",
       "\t<tr><td>AQP7     </td><td>10</td></tr>\n",
       "\t<tr><td>HPGD     </td><td>10</td></tr>\n",
       "\t<tr><td>PCAT19   </td><td>10</td></tr>\n",
       "\t<tr><td>CORIN    </td><td> 9</td></tr>\n",
       "\t<tr><td>PLCXD1   </td><td> 9</td></tr>\n",
       "\t<tr><td>SELE     </td><td> 9</td></tr>\n",
       "\t<tr><td>ITGB1BP1 </td><td> 8</td></tr>\n",
       "\t<tr><td>PPARG    </td><td> 8</td></tr>\n",
       "\t<tr><td>TRPV2    </td><td> 8</td></tr>\n",
       "\t<tr><td>KCNIP2   </td><td> 7</td></tr>\n",
       "\t<tr><td>MLIP     </td><td> 7</td></tr>\n",
       "\t<tr><td>TCF4     </td><td> 7</td></tr>\n",
       "\t<tr><td>ADCY4    </td><td> 6</td></tr>\n",
       "</tbody>\n",
       "</table>\n"
      ],
      "text/latex": [
       "A tibble: 20 × 2\n",
       "\\begin{tabular}{ll}\n",
       " symbol & n\\\\\n",
       " <chr> & <int>\\\\\n",
       "\\hline\n",
       "\t CD99      & 19\\\\\n",
       "\t FRG1CP    & 14\\\\\n",
       "\t NDRG4     & 13\\\\\n",
       "\t NOX5      & 12\\\\\n",
       "\t PAX8-AS1  & 11\\\\\n",
       "\t TM7SF2    & 11\\\\\n",
       "\t ZBED3-AS1 & 11\\\\\n",
       "\t AQP7      & 10\\\\\n",
       "\t HPGD      & 10\\\\\n",
       "\t PCAT19    & 10\\\\\n",
       "\t CORIN     &  9\\\\\n",
       "\t PLCXD1    &  9\\\\\n",
       "\t SELE      &  9\\\\\n",
       "\t ITGB1BP1  &  8\\\\\n",
       "\t PPARG     &  8\\\\\n",
       "\t TRPV2     &  8\\\\\n",
       "\t KCNIP2    &  7\\\\\n",
       "\t MLIP      &  7\\\\\n",
       "\t TCF4      &  7\\\\\n",
       "\t ADCY4     &  6\\\\\n",
       "\\end{tabular}\n"
      ],
      "text/markdown": [
       "\n",
       "A tibble: 20 × 2\n",
       "\n",
       "| symbol &lt;chr&gt; | n &lt;int&gt; |\n",
       "|---|---|\n",
       "| CD99      | 19 |\n",
       "| FRG1CP    | 14 |\n",
       "| NDRG4     | 13 |\n",
       "| NOX5      | 12 |\n",
       "| PAX8-AS1  | 11 |\n",
       "| TM7SF2    | 11 |\n",
       "| ZBED3-AS1 | 11 |\n",
       "| AQP7      | 10 |\n",
       "| HPGD      | 10 |\n",
       "| PCAT19    | 10 |\n",
       "| CORIN     |  9 |\n",
       "| PLCXD1    |  9 |\n",
       "| SELE      |  9 |\n",
       "| ITGB1BP1  |  8 |\n",
       "| PPARG     |  8 |\n",
       "| TRPV2     |  8 |\n",
       "| KCNIP2    |  7 |\n",
       "| MLIP      |  7 |\n",
       "| TCF4      |  7 |\n",
       "| ADCY4     |  6 |\n",
       "\n"
      ],
      "text/plain": [
       "   symbol    n \n",
       "1  CD99      19\n",
       "2  FRG1CP    14\n",
       "3  NDRG4     13\n",
       "4  NOX5      12\n",
       "5  PAX8-AS1  11\n",
       "6  TM7SF2    11\n",
       "7  ZBED3-AS1 11\n",
       "8  AQP7      10\n",
       "9  HPGD      10\n",
       "10 PCAT19    10\n",
       "11 CORIN      9\n",
       "12 PLCXD1     9\n",
       "13 SELE       9\n",
       "14 ITGB1BP1   8\n",
       "15 PPARG      8\n",
       "16 TRPV2      8\n",
       "17 KCNIP2     7\n",
       "18 MLIP       7\n",
       "19 TCF4       7\n",
       "20 ADCY4      6"
      ]
     },
     "metadata": {},
     "output_type": "display_data"
    }
   ],
   "source": [
    "# See 8.1.1 enquo() and !! - Quote and unquote arguments in https://tidyeval.tidyverse.org/dplyr.html\n",
    "\n",
    "only_male_genes %>% \n",
    "    count( symbol, sort = TRUE) %>%\n",
    "    head(20)"
   ]
  },
  {
   "cell_type": "markdown",
   "metadata": {},
   "source": [
    "## Significantly higher only in females"
   ]
  },
  {
   "cell_type": "code",
   "execution_count": 62,
   "metadata": {},
   "outputs": [
    {
     "data": {
      "text/html": [
       "<table>\n",
       "<caption>A data.frame: 10 × 27</caption>\n",
       "<thead>\n",
       "\t<tr><th></th><th scope=col>logFC</th><th scope=col>AveExpr</th><th scope=col>t</th><th scope=col>P.Value</th><th scope=col>adj.P.Val</th><th scope=col>B</th><th scope=col>junctionGeneSymbol</th><th scope=col>symbol</th><th scope=col>ID</th><th scope=col>splice_type</th><th scope=col>⋯</th><th scope=col>upstreamES</th><th scope=col>upstreamEE</th><th scope=col>downstreamES</th><th scope=col>downstreamEE</th><th scope=col>abs_logFC</th><th scope=col>FoldChange_dummy</th><th scope=col>abundance</th><th scope=col>tissue</th><th scope=col>Chromosome</th><th scope=col>higher_in</th></tr>\n",
       "\t<tr><th></th><th scope=col>&lt;dbl&gt;</th><th scope=col>&lt;dbl&gt;</th><th scope=col>&lt;dbl&gt;</th><th scope=col>&lt;dbl&gt;</th><th scope=col>&lt;dbl&gt;</th><th scope=col>&lt;dbl&gt;</th><th scope=col>&lt;chr&gt;</th><th scope=col>&lt;chr&gt;</th><th scope=col>&lt;chr&gt;</th><th scope=col>&lt;chr&gt;</th><th scope=col>⋯</th><th scope=col>&lt;int&gt;</th><th scope=col>&lt;int&gt;</th><th scope=col>&lt;int&gt;</th><th scope=col>&lt;int&gt;</th><th scope=col>&lt;dbl&gt;</th><th scope=col>&lt;dbl&gt;</th><th scope=col>&lt;chr&gt;</th><th scope=col>&lt;chr&gt;</th><th scope=col>&lt;fct&gt;</th><th scope=col>&lt;chr&gt;</th></tr>\n",
       "</thead>\n",
       "<tbody>\n",
       "\t<tr><th scope=row>1270</th><td>0.9186676</td><td>-1.2942190</td><td>5.507085</td><td>1.138138e-07</td><td>3.660307e-06</td><td> 7.290700</td><td>AADACL2-AS1-37130</td><td>AADACL2-AS1</td><td>37130</td><td>SE</td><td>⋯</td><td>151774605</td><td>151774665</td><td>151927856</td><td>151928168</td><td>0.9186676</td><td>1.890369</td><td>higher</td><td>breast_mammary_tissue          </td><td>chr3 </td><td>females</td></tr>\n",
       "\t<tr><th scope=row>6254</th><td>0.6931273</td><td> 3.4511241</td><td>3.439988</td><td>7.110338e-04</td><td>4.867477e-03</td><td>-1.302386</td><td>ABCA10-25866     </td><td>ABCA10     </td><td>25866</td><td>SE</td><td>⋯</td><td> 69219544</td><td> 69219771</td><td> 69222532</td><td> 69222697</td><td>0.6931273</td><td>1.616784</td><td>higher</td><td>breast_mammary_tissue          </td><td>chr17</td><td>females</td></tr>\n",
       "\t<tr><th scope=row>2003</th><td>0.6678808</td><td> 0.9531677</td><td>4.820467</td><td>2.870071e-06</td><td>5.727200e-05</td><td> 4.247461</td><td>ABCA5-29         </td><td>ABCA5      </td><td>29   </td><td>SE</td><td>⋯</td><td> 69314313</td><td> 69314430</td><td> 69327051</td><td> 69327244</td><td>0.6678808</td><td>1.588738</td><td>higher</td><td>breast_mammary_tissue          </td><td>chr17</td><td>females</td></tr>\n",
       "\t<tr><th scope=row>1910</th><td>0.5860112</td><td> 2.7178709</td><td>4.948603</td><td>1.607936e-06</td><td>3.513969e-05</td><td> 4.586539</td><td>ABCB9-27553      </td><td>ABCB9      </td><td>27553</td><td>SE</td><td>⋯</td><td>122940110</td><td>122940284</td><td>122944390</td><td>122944519</td><td>0.5860112</td><td>1.501091</td><td>higher</td><td>breast_mammary_tissue          </td><td>chr12</td><td>females</td></tr>\n",
       "\t<tr><th scope=row>9206</th><td>1.0354023</td><td> 0.8408200</td><td>2.930491</td><td>3.787017e-03</td><td>1.307483e-02</td><td>-2.416706</td><td>ABCC11-17033     </td><td>ABCC11     </td><td>17033</td><td>SE</td><td>⋯</td><td> 48167495</td><td> 48167660</td><td> 48170888</td><td> 48170967</td><td>1.0354023</td><td>2.049685</td><td>higher</td><td>breast_mammary_tissue          </td><td>chr16</td><td>females</td></tr>\n",
       "\t<tr><th scope=row>485</th><td>1.6949056</td><td> 3.8157950</td><td>9.818095</td><td>9.423563e-19</td><td>8.057736e-16</td><td>31.964762</td><td>ABCC3-16863      </td><td>ABCC3      </td><td>16863</td><td>SE</td><td>⋯</td><td> 50659236</td><td> 50659368</td><td> 50663680</td><td> 50663858</td><td>1.6949056</td><td>3.237557</td><td>higher</td><td>breast_mammary_tissue          </td><td>chr17</td><td>females</td></tr>\n",
       "\t<tr><th scope=row>546</th><td>1.9692240</td><td> 3.7125318</td><td>9.740749</td><td>1.574274e-18</td><td>1.238545e-15</td><td>31.467621</td><td>ABCC3-16864      </td><td>ABCC3      </td><td>16864</td><td>SE</td><td>⋯</td><td> 50668429</td><td> 50668517</td><td> 50669139</td><td> 50669266</td><td>1.9692240</td><td>3.915574</td><td>higher</td><td>breast_mammary_tissue          </td><td>chr17</td><td>females</td></tr>\n",
       "\t<tr><th scope=row>14865</th><td>0.6391405</td><td> 0.4770612</td><td>2.456792</td><td>1.489003e-02</td><td>3.825520e-02</td><td>-3.577168</td><td>ABCC8-26441      </td><td>ABCC8      </td><td>26441</td><td>SE</td><td>⋯</td><td> 17463437</td><td> 17463604</td><td> 17474885</td><td> 17475027</td><td>0.6391405</td><td>1.557401</td><td>higher</td><td>breast_mammary_tissue          </td><td>chr11</td><td>females</td></tr>\n",
       "\t<tr><th scope=row>4719</th><td>0.6688621</td><td> 1.4230797</td><td>4.302485</td><td>2.799286e-05</td><td>2.585323e-02</td><td> 2.176613</td><td>ABCC9-23413      </td><td>ABCC9      </td><td>23413</td><td>SE</td><td>⋯</td><td> 21875653</td><td> 21875726</td><td> 21887825</td><td> 21887934</td><td>0.6688621</td><td>1.589819</td><td>higher</td><td>pancreas                       </td><td>chr12</td><td>females</td></tr>\n",
       "\t<tr><th scope=row>5216</th><td>0.7228659</td><td> 1.3928530</td><td>4.581569</td><td>7.299419e-06</td><td>5.879917e-03</td><td> 3.465794</td><td>ABCC9-23413      </td><td>ABCC9      </td><td>23413</td><td>SE</td><td>⋯</td><td> 21875653</td><td> 21875726</td><td> 21887825</td><td> 21887934</td><td>0.7228659</td><td>1.650457</td><td>higher</td><td>skin_not_sun_exposed_suprapubic</td><td>chr12</td><td>females</td></tr>\n",
       "</tbody>\n",
       "</table>\n"
      ],
      "text/latex": [
       "A data.frame: 10 × 27\n",
       "\\begin{tabular}{r|lllllllllllllllllllll}\n",
       "  & logFC & AveExpr & t & P.Value & adj.P.Val & B & junctionGeneSymbol & symbol & ID & splice\\_type & ⋯ & upstreamES & upstreamEE & downstreamES & downstreamEE & abs\\_logFC & FoldChange\\_dummy & abundance & tissue & Chromosome & higher\\_in\\\\\n",
       "  & <dbl> & <dbl> & <dbl> & <dbl> & <dbl> & <dbl> & <chr> & <chr> & <chr> & <chr> & ⋯ & <int> & <int> & <int> & <int> & <dbl> & <dbl> & <chr> & <chr> & <fct> & <chr>\\\\\n",
       "\\hline\n",
       "\t1270 & 0.9186676 & -1.2942190 & 5.507085 & 1.138138e-07 & 3.660307e-06 &  7.290700 & AADACL2-AS1-37130 & AADACL2-AS1 & 37130 & SE & ⋯ & 151774605 & 151774665 & 151927856 & 151928168 & 0.9186676 & 1.890369 & higher & breast\\_mammary\\_tissue           & chr3  & females\\\\\n",
       "\t6254 & 0.6931273 &  3.4511241 & 3.439988 & 7.110338e-04 & 4.867477e-03 & -1.302386 & ABCA10-25866      & ABCA10      & 25866 & SE & ⋯ &  69219544 &  69219771 &  69222532 &  69222697 & 0.6931273 & 1.616784 & higher & breast\\_mammary\\_tissue           & chr17 & females\\\\\n",
       "\t2003 & 0.6678808 &  0.9531677 & 4.820467 & 2.870071e-06 & 5.727200e-05 &  4.247461 & ABCA5-29          & ABCA5       & 29    & SE & ⋯ &  69314313 &  69314430 &  69327051 &  69327244 & 0.6678808 & 1.588738 & higher & breast\\_mammary\\_tissue           & chr17 & females\\\\\n",
       "\t1910 & 0.5860112 &  2.7178709 & 4.948603 & 1.607936e-06 & 3.513969e-05 &  4.586539 & ABCB9-27553       & ABCB9       & 27553 & SE & ⋯ & 122940110 & 122940284 & 122944390 & 122944519 & 0.5860112 & 1.501091 & higher & breast\\_mammary\\_tissue           & chr12 & females\\\\\n",
       "\t9206 & 1.0354023 &  0.8408200 & 2.930491 & 3.787017e-03 & 1.307483e-02 & -2.416706 & ABCC11-17033      & ABCC11      & 17033 & SE & ⋯ &  48167495 &  48167660 &  48170888 &  48170967 & 1.0354023 & 2.049685 & higher & breast\\_mammary\\_tissue           & chr16 & females\\\\\n",
       "\t485 & 1.6949056 &  3.8157950 & 9.818095 & 9.423563e-19 & 8.057736e-16 & 31.964762 & ABCC3-16863       & ABCC3       & 16863 & SE & ⋯ &  50659236 &  50659368 &  50663680 &  50663858 & 1.6949056 & 3.237557 & higher & breast\\_mammary\\_tissue           & chr17 & females\\\\\n",
       "\t546 & 1.9692240 &  3.7125318 & 9.740749 & 1.574274e-18 & 1.238545e-15 & 31.467621 & ABCC3-16864       & ABCC3       & 16864 & SE & ⋯ &  50668429 &  50668517 &  50669139 &  50669266 & 1.9692240 & 3.915574 & higher & breast\\_mammary\\_tissue           & chr17 & females\\\\\n",
       "\t14865 & 0.6391405 &  0.4770612 & 2.456792 & 1.489003e-02 & 3.825520e-02 & -3.577168 & ABCC8-26441       & ABCC8       & 26441 & SE & ⋯ &  17463437 &  17463604 &  17474885 &  17475027 & 0.6391405 & 1.557401 & higher & breast\\_mammary\\_tissue           & chr11 & females\\\\\n",
       "\t4719 & 0.6688621 &  1.4230797 & 4.302485 & 2.799286e-05 & 2.585323e-02 &  2.176613 & ABCC9-23413       & ABCC9       & 23413 & SE & ⋯ &  21875653 &  21875726 &  21887825 &  21887934 & 0.6688621 & 1.589819 & higher & pancreas                        & chr12 & females\\\\\n",
       "\t5216 & 0.7228659 &  1.3928530 & 4.581569 & 7.299419e-06 & 5.879917e-03 &  3.465794 & ABCC9-23413       & ABCC9       & 23413 & SE & ⋯ &  21875653 &  21875726 &  21887825 &  21887934 & 0.7228659 & 1.650457 & higher & skin\\_not\\_sun\\_exposed\\_suprapubic & chr12 & females\\\\\n",
       "\\end{tabular}\n"
      ],
      "text/markdown": [
       "\n",
       "A data.frame: 10 × 27\n",
       "\n",
       "| <!--/--> | logFC &lt;dbl&gt; | AveExpr &lt;dbl&gt; | t &lt;dbl&gt; | P.Value &lt;dbl&gt; | adj.P.Val &lt;dbl&gt; | B &lt;dbl&gt; | junctionGeneSymbol &lt;chr&gt; | symbol &lt;chr&gt; | ID &lt;chr&gt; | splice_type &lt;chr&gt; | ⋯ ⋯ | upstreamES &lt;int&gt; | upstreamEE &lt;int&gt; | downstreamES &lt;int&gt; | downstreamEE &lt;int&gt; | abs_logFC &lt;dbl&gt; | FoldChange_dummy &lt;dbl&gt; | abundance &lt;chr&gt; | tissue &lt;chr&gt; | Chromosome &lt;fct&gt; | higher_in &lt;chr&gt; |\n",
       "|---|---|---|---|---|---|---|---|---|---|---|---|---|---|---|---|---|---|---|---|---|---|\n",
       "| 1270 | 0.9186676 | -1.2942190 | 5.507085 | 1.138138e-07 | 3.660307e-06 |  7.290700 | AADACL2-AS1-37130 | AADACL2-AS1 | 37130 | SE | ⋯ | 151774605 | 151774665 | 151927856 | 151928168 | 0.9186676 | 1.890369 | higher | breast_mammary_tissue           | chr3  | females |\n",
       "| 6254 | 0.6931273 |  3.4511241 | 3.439988 | 7.110338e-04 | 4.867477e-03 | -1.302386 | ABCA10-25866      | ABCA10      | 25866 | SE | ⋯ |  69219544 |  69219771 |  69222532 |  69222697 | 0.6931273 | 1.616784 | higher | breast_mammary_tissue           | chr17 | females |\n",
       "| 2003 | 0.6678808 |  0.9531677 | 4.820467 | 2.870071e-06 | 5.727200e-05 |  4.247461 | ABCA5-29          | ABCA5       | 29    | SE | ⋯ |  69314313 |  69314430 |  69327051 |  69327244 | 0.6678808 | 1.588738 | higher | breast_mammary_tissue           | chr17 | females |\n",
       "| 1910 | 0.5860112 |  2.7178709 | 4.948603 | 1.607936e-06 | 3.513969e-05 |  4.586539 | ABCB9-27553       | ABCB9       | 27553 | SE | ⋯ | 122940110 | 122940284 | 122944390 | 122944519 | 0.5860112 | 1.501091 | higher | breast_mammary_tissue           | chr12 | females |\n",
       "| 9206 | 1.0354023 |  0.8408200 | 2.930491 | 3.787017e-03 | 1.307483e-02 | -2.416706 | ABCC11-17033      | ABCC11      | 17033 | SE | ⋯ |  48167495 |  48167660 |  48170888 |  48170967 | 1.0354023 | 2.049685 | higher | breast_mammary_tissue           | chr16 | females |\n",
       "| 485 | 1.6949056 |  3.8157950 | 9.818095 | 9.423563e-19 | 8.057736e-16 | 31.964762 | ABCC3-16863       | ABCC3       | 16863 | SE | ⋯ |  50659236 |  50659368 |  50663680 |  50663858 | 1.6949056 | 3.237557 | higher | breast_mammary_tissue           | chr17 | females |\n",
       "| 546 | 1.9692240 |  3.7125318 | 9.740749 | 1.574274e-18 | 1.238545e-15 | 31.467621 | ABCC3-16864       | ABCC3       | 16864 | SE | ⋯ |  50668429 |  50668517 |  50669139 |  50669266 | 1.9692240 | 3.915574 | higher | breast_mammary_tissue           | chr17 | females |\n",
       "| 14865 | 0.6391405 |  0.4770612 | 2.456792 | 1.489003e-02 | 3.825520e-02 | -3.577168 | ABCC8-26441       | ABCC8       | 26441 | SE | ⋯ |  17463437 |  17463604 |  17474885 |  17475027 | 0.6391405 | 1.557401 | higher | breast_mammary_tissue           | chr11 | females |\n",
       "| 4719 | 0.6688621 |  1.4230797 | 4.302485 | 2.799286e-05 | 2.585323e-02 |  2.176613 | ABCC9-23413       | ABCC9       | 23413 | SE | ⋯ |  21875653 |  21875726 |  21887825 |  21887934 | 0.6688621 | 1.589819 | higher | pancreas                        | chr12 | females |\n",
       "| 5216 | 0.7228659 |  1.3928530 | 4.581569 | 7.299419e-06 | 5.879917e-03 |  3.465794 | ABCC9-23413       | ABCC9       | 23413 | SE | ⋯ |  21875653 |  21875726 |  21887825 |  21887934 | 0.7228659 | 1.650457 | higher | skin_not_sun_exposed_suprapubic | chr12 | females |\n",
       "\n"
      ],
      "text/plain": [
       "      logFC     AveExpr    t        P.Value      adj.P.Val    B        \n",
       "1270  0.9186676 -1.2942190 5.507085 1.138138e-07 3.660307e-06  7.290700\n",
       "6254  0.6931273  3.4511241 3.439988 7.110338e-04 4.867477e-03 -1.302386\n",
       "2003  0.6678808  0.9531677 4.820467 2.870071e-06 5.727200e-05  4.247461\n",
       "1910  0.5860112  2.7178709 4.948603 1.607936e-06 3.513969e-05  4.586539\n",
       "9206  1.0354023  0.8408200 2.930491 3.787017e-03 1.307483e-02 -2.416706\n",
       "485   1.6949056  3.8157950 9.818095 9.423563e-19 8.057736e-16 31.964762\n",
       "546   1.9692240  3.7125318 9.740749 1.574274e-18 1.238545e-15 31.467621\n",
       "14865 0.6391405  0.4770612 2.456792 1.489003e-02 3.825520e-02 -3.577168\n",
       "4719  0.6688621  1.4230797 4.302485 2.799286e-05 2.585323e-02  2.176613\n",
       "5216  0.7228659  1.3928530 4.581569 7.299419e-06 5.879917e-03  3.465794\n",
       "      junctionGeneSymbol symbol      ID    splice_type ⋯ upstreamES upstreamEE\n",
       "1270  AADACL2-AS1-37130  AADACL2-AS1 37130 SE          ⋯ 151774605  151774665 \n",
       "6254  ABCA10-25866       ABCA10      25866 SE          ⋯  69219544   69219771 \n",
       "2003  ABCA5-29           ABCA5       29    SE          ⋯  69314313   69314430 \n",
       "1910  ABCB9-27553        ABCB9       27553 SE          ⋯ 122940110  122940284 \n",
       "9206  ABCC11-17033       ABCC11      17033 SE          ⋯  48167495   48167660 \n",
       "485   ABCC3-16863        ABCC3       16863 SE          ⋯  50659236   50659368 \n",
       "546   ABCC3-16864        ABCC3       16864 SE          ⋯  50668429   50668517 \n",
       "14865 ABCC8-26441        ABCC8       26441 SE          ⋯  17463437   17463604 \n",
       "4719  ABCC9-23413        ABCC9       23413 SE          ⋯  21875653   21875726 \n",
       "5216  ABCC9-23413        ABCC9       23413 SE          ⋯  21875653   21875726 \n",
       "      downstreamES downstreamEE abs_logFC FoldChange_dummy abundance\n",
       "1270  151927856    151928168    0.9186676 1.890369         higher   \n",
       "6254   69222532     69222697    0.6931273 1.616784         higher   \n",
       "2003   69327051     69327244    0.6678808 1.588738         higher   \n",
       "1910  122944390    122944519    0.5860112 1.501091         higher   \n",
       "9206   48170888     48170967    1.0354023 2.049685         higher   \n",
       "485    50663680     50663858    1.6949056 3.237557         higher   \n",
       "546    50669139     50669266    1.9692240 3.915574         higher   \n",
       "14865  17474885     17475027    0.6391405 1.557401         higher   \n",
       "4719   21887825     21887934    0.6688621 1.589819         higher   \n",
       "5216   21887825     21887934    0.7228659 1.650457         higher   \n",
       "      tissue                          Chromosome higher_in\n",
       "1270  breast_mammary_tissue           chr3       females  \n",
       "6254  breast_mammary_tissue           chr17      females  \n",
       "2003  breast_mammary_tissue           chr17      females  \n",
       "1910  breast_mammary_tissue           chr12      females  \n",
       "9206  breast_mammary_tissue           chr16      females  \n",
       "485   breast_mammary_tissue           chr17      females  \n",
       "546   breast_mammary_tissue           chr17      females  \n",
       "14865 breast_mammary_tissue           chr11      females  \n",
       "4719  pancreas                        chr12      females  \n",
       "5216  skin_not_sun_exposed_suprapubic chr12      females  "
      ]
     },
     "metadata": {},
     "output_type": "display_data"
    }
   ],
   "source": [
    "only_female_genes <- signif_per_tissue[ signif_per_tissue[[ feature_id_column ]] %in% (female_biased[! (female_biased %in% intersect)]) ,  ]\n",
    "\n",
    "head(only_female_genes[ order(only_female_genes[[ feature_id_column ]] ), ], 10)"
   ]
  },
  {
   "cell_type": "code",
   "execution_count": 63,
   "metadata": {},
   "outputs": [
    {
     "data": {
      "text/html": [
       "<table>\n",
       "<caption>A tibble: 20 × 2</caption>\n",
       "<thead>\n",
       "\t<tr><th scope=col>symbol</th><th scope=col>n</th></tr>\n",
       "\t<tr><th scope=col>&lt;chr&gt;</th><th scope=col>&lt;int&gt;</th></tr>\n",
       "</thead>\n",
       "<tbody>\n",
       "\t<tr><td>XIST      </td><td>301</td></tr>\n",
       "\t<tr><td>KDM6A     </td><td>129</td></tr>\n",
       "\t<tr><td>JPX       </td><td> 94</td></tr>\n",
       "\t<tr><td>ZFX       </td><td> 78</td></tr>\n",
       "\t<tr><td>DDX3X     </td><td> 67</td></tr>\n",
       "\t<tr><td>DMKN      </td><td> 20</td></tr>\n",
       "\t<tr><td>GYG2      </td><td> 16</td></tr>\n",
       "\t<tr><td>KDM5C     </td><td> 16</td></tr>\n",
       "\t<tr><td>MUC1      </td><td> 15</td></tr>\n",
       "\t<tr><td>ST5       </td><td> 15</td></tr>\n",
       "\t<tr><td>CD44      </td><td> 14</td></tr>\n",
       "\t<tr><td>DDR1      </td><td> 12</td></tr>\n",
       "\t<tr><td>MYB       </td><td> 12</td></tr>\n",
       "\t<tr><td>C11orf80  </td><td> 11</td></tr>\n",
       "\t<tr><td>ELN       </td><td> 11</td></tr>\n",
       "\t<tr><td>DTNB      </td><td> 10</td></tr>\n",
       "\t<tr><td>SORBS2    </td><td> 10</td></tr>\n",
       "\t<tr><td>BX890604.2</td><td>  9</td></tr>\n",
       "\t<tr><td>CD6       </td><td>  9</td></tr>\n",
       "\t<tr><td>CRHR1     </td><td>  9</td></tr>\n",
       "</tbody>\n",
       "</table>\n"
      ],
      "text/latex": [
       "A tibble: 20 × 2\n",
       "\\begin{tabular}{ll}\n",
       " symbol & n\\\\\n",
       " <chr> & <int>\\\\\n",
       "\\hline\n",
       "\t XIST       & 301\\\\\n",
       "\t KDM6A      & 129\\\\\n",
       "\t JPX        &  94\\\\\n",
       "\t ZFX        &  78\\\\\n",
       "\t DDX3X      &  67\\\\\n",
       "\t DMKN       &  20\\\\\n",
       "\t GYG2       &  16\\\\\n",
       "\t KDM5C      &  16\\\\\n",
       "\t MUC1       &  15\\\\\n",
       "\t ST5        &  15\\\\\n",
       "\t CD44       &  14\\\\\n",
       "\t DDR1       &  12\\\\\n",
       "\t MYB        &  12\\\\\n",
       "\t C11orf80   &  11\\\\\n",
       "\t ELN        &  11\\\\\n",
       "\t DTNB       &  10\\\\\n",
       "\t SORBS2     &  10\\\\\n",
       "\t BX890604.2 &   9\\\\\n",
       "\t CD6        &   9\\\\\n",
       "\t CRHR1      &   9\\\\\n",
       "\\end{tabular}\n"
      ],
      "text/markdown": [
       "\n",
       "A tibble: 20 × 2\n",
       "\n",
       "| symbol &lt;chr&gt; | n &lt;int&gt; |\n",
       "|---|---|\n",
       "| XIST       | 301 |\n",
       "| KDM6A      | 129 |\n",
       "| JPX        |  94 |\n",
       "| ZFX        |  78 |\n",
       "| DDX3X      |  67 |\n",
       "| DMKN       |  20 |\n",
       "| GYG2       |  16 |\n",
       "| KDM5C      |  16 |\n",
       "| MUC1       |  15 |\n",
       "| ST5        |  15 |\n",
       "| CD44       |  14 |\n",
       "| DDR1       |  12 |\n",
       "| MYB        |  12 |\n",
       "| C11orf80   |  11 |\n",
       "| ELN        |  11 |\n",
       "| DTNB       |  10 |\n",
       "| SORBS2     |  10 |\n",
       "| BX890604.2 |   9 |\n",
       "| CD6        |   9 |\n",
       "| CRHR1      |   9 |\n",
       "\n"
      ],
      "text/plain": [
       "   symbol     n  \n",
       "1  XIST       301\n",
       "2  KDM6A      129\n",
       "3  JPX         94\n",
       "4  ZFX         78\n",
       "5  DDX3X       67\n",
       "6  DMKN        20\n",
       "7  GYG2        16\n",
       "8  KDM5C       16\n",
       "9  MUC1        15\n",
       "10 ST5         15\n",
       "11 CD44        14\n",
       "12 DDR1        12\n",
       "13 MYB         12\n",
       "14 C11orf80    11\n",
       "15 ELN         11\n",
       "16 DTNB        10\n",
       "17 SORBS2      10\n",
       "18 BX890604.2   9\n",
       "19 CD6          9\n",
       "20 CRHR1        9"
      ]
     },
     "metadata": {},
     "output_type": "display_data"
    }
   ],
   "source": [
    "only_female_genes %>% \n",
    "    count( symbol, sort = TRUE) %>%\n",
    "    head(20)"
   ]
  },
  {
   "cell_type": "markdown",
   "metadata": {},
   "source": [
    "# Examine number of differentially expressed genes per chromosome per sex"
   ]
  },
  {
   "cell_type": "code",
   "execution_count": 64,
   "metadata": {},
   "outputs": [],
   "source": [
    "signif_per_tissue$Chromosome <- as.factor(signif_per_tissue$Chromosome)\n",
    "signif_per_tissue$higher_in <- as.factor(signif_per_tissue$higher_in)\n",
    "\n",
    "signif_per_tissue %>% \n",
    "    group_by(Chromosome,higher_in) %>%  \n",
    "    count()  -> signif_per_chrom_per_sex"
   ]
  },
  {
   "cell_type": "code",
   "execution_count": 65,
   "metadata": {},
   "outputs": [
    {
     "data": {
      "text/html": [
       "<table>\n",
       "<caption>A grouped_df: 46 × 3</caption>\n",
       "<thead>\n",
       "\t<tr><th scope=col>Chromosome</th><th scope=col>higher_in</th><th scope=col>n</th></tr>\n",
       "\t<tr><th scope=col>&lt;fct&gt;</th><th scope=col>&lt;fct&gt;</th><th scope=col>&lt;int&gt;</th></tr>\n",
       "</thead>\n",
       "<tbody>\n",
       "\t<tr><td>chr1 </td><td>females</td><td>304</td></tr>\n",
       "\t<tr><td>chr1 </td><td>males  </td><td>116</td></tr>\n",
       "\t<tr><td>chr10</td><td>females</td><td> 68</td></tr>\n",
       "\t<tr><td>chr10</td><td>males  </td><td> 44</td></tr>\n",
       "\t<tr><td>chr11</td><td>females</td><td>203</td></tr>\n",
       "\t<tr><td>chr11</td><td>males  </td><td> 95</td></tr>\n",
       "\t<tr><td>chr12</td><td>females</td><td>150</td></tr>\n",
       "\t<tr><td>chr12</td><td>males  </td><td> 86</td></tr>\n",
       "\t<tr><td>chr13</td><td>females</td><td> 16</td></tr>\n",
       "\t<tr><td>chr13</td><td>males  </td><td> 18</td></tr>\n",
       "\t<tr><td>chr14</td><td>females</td><td> 47</td></tr>\n",
       "\t<tr><td>chr14</td><td>males  </td><td> 38</td></tr>\n",
       "\t<tr><td>chr15</td><td>females</td><td> 78</td></tr>\n",
       "\t<tr><td>chr15</td><td>males  </td><td> 54</td></tr>\n",
       "\t<tr><td>chr16</td><td>females</td><td>101</td></tr>\n",
       "\t<tr><td>chr16</td><td>males  </td><td> 80</td></tr>\n",
       "\t<tr><td>chr17</td><td>females</td><td>159</td></tr>\n",
       "\t<tr><td>chr17</td><td>males  </td><td> 74</td></tr>\n",
       "\t<tr><td>chr18</td><td>females</td><td> 36</td></tr>\n",
       "\t<tr><td>chr18</td><td>males  </td><td> 33</td></tr>\n",
       "\t<tr><td>chr19</td><td>females</td><td>213</td></tr>\n",
       "\t<tr><td>chr19</td><td>males  </td><td> 68</td></tr>\n",
       "\t<tr><td>chr2 </td><td>females</td><td>148</td></tr>\n",
       "\t<tr><td>chr2 </td><td>males  </td><td>115</td></tr>\n",
       "\t<tr><td>chr20</td><td>females</td><td> 42</td></tr>\n",
       "\t<tr><td>chr20</td><td>males  </td><td> 53</td></tr>\n",
       "\t<tr><td>chr21</td><td>females</td><td> 21</td></tr>\n",
       "\t<tr><td>chr21</td><td>males  </td><td> 19</td></tr>\n",
       "\t<tr><td>chr22</td><td>females</td><td> 73</td></tr>\n",
       "\t<tr><td>chr22</td><td>males  </td><td> 15</td></tr>\n",
       "\t<tr><td>chr3 </td><td>females</td><td>128</td></tr>\n",
       "\t<tr><td>chr3 </td><td>males  </td><td> 98</td></tr>\n",
       "\t<tr><td>chr4 </td><td>females</td><td>110</td></tr>\n",
       "\t<tr><td>chr4 </td><td>males  </td><td> 80</td></tr>\n",
       "\t<tr><td>chr5 </td><td>females</td><td> 88</td></tr>\n",
       "\t<tr><td>chr5 </td><td>males  </td><td> 83</td></tr>\n",
       "\t<tr><td>chr6 </td><td>females</td><td>104</td></tr>\n",
       "\t<tr><td>chr6 </td><td>males  </td><td> 45</td></tr>\n",
       "\t<tr><td>chr7 </td><td>females</td><td>124</td></tr>\n",
       "\t<tr><td>chr7 </td><td>males  </td><td> 50</td></tr>\n",
       "\t<tr><td>chr8 </td><td>females</td><td> 82</td></tr>\n",
       "\t<tr><td>chr8 </td><td>males  </td><td> 37</td></tr>\n",
       "\t<tr><td>chr9 </td><td>females</td><td> 67</td></tr>\n",
       "\t<tr><td>chr9 </td><td>males  </td><td> 50</td></tr>\n",
       "\t<tr><td>chrX </td><td>females</td><td>794</td></tr>\n",
       "\t<tr><td>chrX </td><td>males  </td><td> 73</td></tr>\n",
       "</tbody>\n",
       "</table>\n"
      ],
      "text/latex": [
       "A grouped\\_df: 46 × 3\n",
       "\\begin{tabular}{lll}\n",
       " Chromosome & higher\\_in & n\\\\\n",
       " <fct> & <fct> & <int>\\\\\n",
       "\\hline\n",
       "\t chr1  & females & 304\\\\\n",
       "\t chr1  & males   & 116\\\\\n",
       "\t chr10 & females &  68\\\\\n",
       "\t chr10 & males   &  44\\\\\n",
       "\t chr11 & females & 203\\\\\n",
       "\t chr11 & males   &  95\\\\\n",
       "\t chr12 & females & 150\\\\\n",
       "\t chr12 & males   &  86\\\\\n",
       "\t chr13 & females &  16\\\\\n",
       "\t chr13 & males   &  18\\\\\n",
       "\t chr14 & females &  47\\\\\n",
       "\t chr14 & males   &  38\\\\\n",
       "\t chr15 & females &  78\\\\\n",
       "\t chr15 & males   &  54\\\\\n",
       "\t chr16 & females & 101\\\\\n",
       "\t chr16 & males   &  80\\\\\n",
       "\t chr17 & females & 159\\\\\n",
       "\t chr17 & males   &  74\\\\\n",
       "\t chr18 & females &  36\\\\\n",
       "\t chr18 & males   &  33\\\\\n",
       "\t chr19 & females & 213\\\\\n",
       "\t chr19 & males   &  68\\\\\n",
       "\t chr2  & females & 148\\\\\n",
       "\t chr2  & males   & 115\\\\\n",
       "\t chr20 & females &  42\\\\\n",
       "\t chr20 & males   &  53\\\\\n",
       "\t chr21 & females &  21\\\\\n",
       "\t chr21 & males   &  19\\\\\n",
       "\t chr22 & females &  73\\\\\n",
       "\t chr22 & males   &  15\\\\\n",
       "\t chr3  & females & 128\\\\\n",
       "\t chr3  & males   &  98\\\\\n",
       "\t chr4  & females & 110\\\\\n",
       "\t chr4  & males   &  80\\\\\n",
       "\t chr5  & females &  88\\\\\n",
       "\t chr5  & males   &  83\\\\\n",
       "\t chr6  & females & 104\\\\\n",
       "\t chr6  & males   &  45\\\\\n",
       "\t chr7  & females & 124\\\\\n",
       "\t chr7  & males   &  50\\\\\n",
       "\t chr8  & females &  82\\\\\n",
       "\t chr8  & males   &  37\\\\\n",
       "\t chr9  & females &  67\\\\\n",
       "\t chr9  & males   &  50\\\\\n",
       "\t chrX  & females & 794\\\\\n",
       "\t chrX  & males   &  73\\\\\n",
       "\\end{tabular}\n"
      ],
      "text/markdown": [
       "\n",
       "A grouped_df: 46 × 3\n",
       "\n",
       "| Chromosome &lt;fct&gt; | higher_in &lt;fct&gt; | n &lt;int&gt; |\n",
       "|---|---|---|\n",
       "| chr1  | females | 304 |\n",
       "| chr1  | males   | 116 |\n",
       "| chr10 | females |  68 |\n",
       "| chr10 | males   |  44 |\n",
       "| chr11 | females | 203 |\n",
       "| chr11 | males   |  95 |\n",
       "| chr12 | females | 150 |\n",
       "| chr12 | males   |  86 |\n",
       "| chr13 | females |  16 |\n",
       "| chr13 | males   |  18 |\n",
       "| chr14 | females |  47 |\n",
       "| chr14 | males   |  38 |\n",
       "| chr15 | females |  78 |\n",
       "| chr15 | males   |  54 |\n",
       "| chr16 | females | 101 |\n",
       "| chr16 | males   |  80 |\n",
       "| chr17 | females | 159 |\n",
       "| chr17 | males   |  74 |\n",
       "| chr18 | females |  36 |\n",
       "| chr18 | males   |  33 |\n",
       "| chr19 | females | 213 |\n",
       "| chr19 | males   |  68 |\n",
       "| chr2  | females | 148 |\n",
       "| chr2  | males   | 115 |\n",
       "| chr20 | females |  42 |\n",
       "| chr20 | males   |  53 |\n",
       "| chr21 | females |  21 |\n",
       "| chr21 | males   |  19 |\n",
       "| chr22 | females |  73 |\n",
       "| chr22 | males   |  15 |\n",
       "| chr3  | females | 128 |\n",
       "| chr3  | males   |  98 |\n",
       "| chr4  | females | 110 |\n",
       "| chr4  | males   |  80 |\n",
       "| chr5  | females |  88 |\n",
       "| chr5  | males   |  83 |\n",
       "| chr6  | females | 104 |\n",
       "| chr6  | males   |  45 |\n",
       "| chr7  | females | 124 |\n",
       "| chr7  | males   |  50 |\n",
       "| chr8  | females |  82 |\n",
       "| chr8  | males   |  37 |\n",
       "| chr9  | females |  67 |\n",
       "| chr9  | males   |  50 |\n",
       "| chrX  | females | 794 |\n",
       "| chrX  | males   |  73 |\n",
       "\n"
      ],
      "text/plain": [
       "   Chromosome higher_in n  \n",
       "1  chr1       females   304\n",
       "2  chr1       males     116\n",
       "3  chr10      females    68\n",
       "4  chr10      males      44\n",
       "5  chr11      females   203\n",
       "6  chr11      males      95\n",
       "7  chr12      females   150\n",
       "8  chr12      males      86\n",
       "9  chr13      females    16\n",
       "10 chr13      males      18\n",
       "11 chr14      females    47\n",
       "12 chr14      males      38\n",
       "13 chr15      females    78\n",
       "14 chr15      males      54\n",
       "15 chr16      females   101\n",
       "16 chr16      males      80\n",
       "17 chr17      females   159\n",
       "18 chr17      males      74\n",
       "19 chr18      females    36\n",
       "20 chr18      males      33\n",
       "21 chr19      females   213\n",
       "22 chr19      males      68\n",
       "23 chr2       females   148\n",
       "24 chr2       males     115\n",
       "25 chr20      females    42\n",
       "26 chr20      males      53\n",
       "27 chr21      females    21\n",
       "28 chr21      males      19\n",
       "29 chr22      females    73\n",
       "30 chr22      males      15\n",
       "31 chr3       females   128\n",
       "32 chr3       males      98\n",
       "33 chr4       females   110\n",
       "34 chr4       males      80\n",
       "35 chr5       females    88\n",
       "36 chr5       males      83\n",
       "37 chr6       females   104\n",
       "38 chr6       males      45\n",
       "39 chr7       females   124\n",
       "40 chr7       males      50\n",
       "41 chr8       females    82\n",
       "42 chr8       males      37\n",
       "43 chr9       females    67\n",
       "44 chr9       males      50\n",
       "45 chrX       females   794\n",
       "46 chrX       males      73"
      ]
     },
     "metadata": {},
     "output_type": "display_data"
    }
   ],
   "source": [
    "signif_per_chrom_per_sex"
   ]
  },
  {
   "cell_type": "markdown",
   "metadata": {},
   "source": [
    "## Metadata\n",
    "\n",
    "For replicability and reproducibility purposes, we also print the following metadata:\n",
    "\n",
    "1. Checksums of **'artefacts'**, files generated during the analysis and stored in the folder directory **`data`**\n",
    "2. List of environment metadata, dependencies, versions of libraries using `utils::sessionInfo()` and [`devtools::session_info()`](https://devtools.r-lib.org/reference/session_info.html)"
   ]
  },
  {
   "cell_type": "code",
   "execution_count": null,
   "metadata": {},
   "outputs": [],
   "source": [
    "notebook_id   = \"summary_per_tissue_diff_expressed\"\n",
    "\n",
    "message(\"Generating sha256 checksums of the artefacts in the `..data/` directory .. \")\n",
    "system(paste0(\"cd ../data/ && sha256sum **/*csv > ../metadata/\", notebook_id, \"_sha256sums.txt\"), intern = TRUE)\n",
    "system(paste0(\"cd ../data/ && sha256sum *csv >> ../metadata/\", notebook_id, \"_sha256sums.txt\"), intern = TRUE)\n",
    "\n",
    "message(\"Done!\\n\")\n",
    "\n",
    "data.table::fread(paste0(\"../metadata/\", notebook_id, \"_sha256sums.txt\"), header = FALSE, col.names = c(\"sha256sum\", \"file\"))"
   ]
  },
  {
   "cell_type": "markdown",
   "metadata": {},
   "source": [
    "### 2. Libraries metadata"
   ]
  },
  {
   "cell_type": "code",
   "execution_count": null,
   "metadata": {},
   "outputs": [],
   "source": [
    "dev_session_info   <- devtools::session_info()\n",
    "utils_session_info <- utils::sessionInfo()\n",
    "\n",
    "message(\"Saving `devtools::session_info()` objects in ../metadata/devtools_session_info.rds  ..\")\n",
    "saveRDS(dev_session_info, file = paste0(\"../metadata/\", notebook_id, \"_devtools_session_info.rds\"))\n",
    "message(\"Done!\\n\")\n",
    "\n",
    "message(\"Saving `utils::sessionInfo()` objects in ../metadata/utils_session_info.rds  ..\")\n",
    "saveRDS(utils_session_info, file = paste0(\"../metadata/\", notebook_id ,\"_utils_info.rds\"))\n",
    "message(\"Done!\\n\")\n",
    "\n",
    "dev_session_info$platform\n",
    "dev_session_info$packages[dev_session_info$packages$attached==TRUE, ]"
   ]
  },
  {
   "cell_type": "markdown",
   "metadata": {},
   "source": [
    "# Calculating the sex-biased splicing index\n",
    "The normalized sex-biased splicing index is defined as the number of statistically significant splicing events per 1000 exons in the chromosome."
   ]
  },
  {
   "cell_type": "code",
   "execution_count": null,
   "metadata": {},
   "outputs": [],
   "source": [
    "dim(signif_per_chrom_per_sex)"
   ]
  },
  {
   "cell_type": "markdown",
   "metadata": {},
   "source": [
    "Sorry, I cannot do this in R. Here is Python (ugly script but works)\n",
    "\n",
    "import csv\n",
    "import gzip\n",
    "import re\n",
    "from collections import defaultdict\n",
    "\n",
    "fname = 'Homo_sapiens.GRCh38.100.chr_patch_hapl_scaff.gtf.gz'\n",
    "\n",
    "chrom2exons = defaultdict(set)\n",
    "\n",
    "with gzip.open(fname, 'rt') as f:\n",
    "    cr = csv.reader(f, delimiter='\\t', quotechar='\"')\n",
    "    for row in cr:\n",
    "        #print(row)\n",
    "        if row[0].startswith('#'):\n",
    "            continue\n",
    "        chrom = row[0]\n",
    "        annots = row[8]\n",
    "        fields = annots.split(\";\")\n",
    "        exon = re.compile(r'exon_id \"(ENSE\\d+)\"')\n",
    "        for f in fields:\n",
    "            itm = f.strip()\n",
    "            match = exon.match(itm)\n",
    "            if match:\n",
    "                exonid = match.group(1)\n",
    "                chrom2exons[chrom].add(exonid)\n",
    "\n",
    "g = open('chrom2exons.txt', 'wt')\n",
    "for k, v in chrom2exons.items():\n",
    "    print(\"chr{}: n={}\".format(k, len(v)))\n",
    "    g.write(\"{}\\t{}\\n\".format(k, len(v)))\n",
    "g.close()\n",
    "\n",
    "1\t69381\n",
    "2\t55599\n",
    "3\t46452\n",
    "4\t29749\n",
    "5\t34789\n",
    "6\t33817\n",
    "7\t35973\n",
    "X\t22471\n",
    "8\t28489\n",
    "9\t26460\n",
    "11\t43212\n",
    "10\t26514\n",
    "12\t42925\n",
    "13\t13193\n",
    "14\t25994\n",
    "15\t28720\n",
    "16\t36285\n",
    "17\t45142\n",
    "18\t13360\n",
    "20\t16704\n",
    "19\t44166\n",
    "Y\t2908\n",
    "22\t16411\n",
    "21\t8830\n",
    "MT\t37"
   ]
  },
  {
   "cell_type": "code",
   "execution_count": null,
   "metadata": {},
   "outputs": [],
   "source": [
    "signif_per_chrom_per_sex"
   ]
  },
  {
   "cell_type": "code",
   "execution_count": null,
   "metadata": {},
   "outputs": [],
   "source": [
    "only_female_genes %>% \n",
    "    count( !!GENE_ID, GeneSymbol, Class, sort = TRUE) %>%\n",
    "    head(20)"
   ]
  },
  {
   "cell_type": "code",
   "execution_count": null,
   "metadata": {},
   "outputs": [],
   "source": [
    "signif_per_tissue %>% \n",
    "     group_by(Chromosome) %>%  \n",
    "    count()  -> signif_per_chrom"
   ]
  },
  {
   "cell_type": "code",
   "execution_count": null,
   "metadata": {},
   "outputs": [],
   "source": [
    "signif_per_chrom"
   ]
  },
  {
   "cell_type": "code",
   "execution_count": null,
   "metadata": {},
   "outputs": [],
   "source": [
    "chrom2exon_filename = '../assets/canon_chrom2exons.txt'\n",
    "if (! file.exists(chrom2exon_filename)) {\n",
    "    message(\"Could not find canon_chrom2exons.txt file\")\n",
    "}\n",
    "c2e_df = read.csv(chrom2exon_filename, sep='\\t', header=FALSE)\n",
    "colnames(c2e_df) <- c(\"Chromosome\",\"exons\")\n",
    "head(c2e_df) # 25 chromosomes including MT"
   ]
  },
  {
   "cell_type": "code",
   "execution_count": null,
   "metadata": {},
   "outputs": [],
   "source": [
    "df2 <- merge(signif_per_chrom, c2e_df, by=\"Chromosome\")\n",
    "head(df2)"
   ]
  },
  {
   "cell_type": "code",
   "execution_count": null,
   "metadata": {},
   "outputs": [],
   "source": [
    "# calculate splicinig index\n",
    "library(tidyverse)"
   ]
  },
  {
   "cell_type": "code",
   "execution_count": null,
   "metadata": {},
   "outputs": [],
   "source": [
    "df2 %>% \n",
    "  mutate(Index = 1000 * n/exons) -> df3"
   ]
  },
  {
   "cell_type": "code",
   "execution_count": null,
   "metadata": {},
   "outputs": [],
   "source": [
    "df4 <- df3[-25,] # remove the Y chromosome\n",
    "df4 <- df4[-23,] # remove the MT chromosome"
   ]
  },
  {
   "cell_type": "code",
   "execution_count": null,
   "metadata": {},
   "outputs": [],
   "source": [
    "res_sorted <- df4[order(df4$Index, decreasing=TRUE),]\n",
    "res_sorted\n"
   ]
  },
  {
   "cell_type": "code",
   "execution_count": null,
   "metadata": {},
   "outputs": [],
   "source": [
    "res_sorted$Chromosome <- factor(res_sorted$Chromosome, levels = res_sorted$chr)\n",
    "res_sorted"
   ]
  },
  {
   "cell_type": "code",
   "execution_count": null,
   "metadata": {},
   "outputs": [],
   "source": [
    "# set the colors\n",
    "npgBlue<- rgb(60/256,84/256,136/256,1)\n",
    "npgRed <- rgb(220/256,0,0,0.5)\n",
    "npgGreen <- rgb(0,160/256,135/256,1)\n",
    "npgBrown <- rgb(126/256,97/256,72/256,1)"
   ]
  },
  {
   "cell_type": "code",
   "execution_count": null,
   "metadata": {},
   "outputs": [],
   "source": [
    "# make the plot \n",
    "figure2b <- ggplot(res_sorted, aes(x = Chromosome, y = Index, size = n)) +\n",
    "  geom_point(color=npgBlue) +\n",
    "  theme_bw() +\n",
    "  theme(axis.text.x = element_text(size=14, angle = 270, hjust = 0.0, vjust = 0.5),\n",
    "\taxis.text.y = element_text(size=16),\n",
    "\taxis.title.x = element_blank(),\n",
    "\taxis.title.y = element_text(face=\"plain\", colour=\"black\",\n",
    "                                    size=18),\n",
    "\tlegend.title=element_blank(),\n",
    "\tlegend.text = element_text(face=\"plain\", colour=\"black\",\n",
    "                                   size=14)) +\n",
    "  scale_fill_viridis_c() +\n",
    "  ylab(paste(\"Sex-biased splicing index \")) +\n",
    "  xlab(\"Chromosomes\") +\n",
    "  guides(size = guide_legend(title = \"Number of ASE\"))\n",
    "figure2b\n"
   ]
  },
  {
   "cell_type": "code",
   "execution_count": null,
   "metadata": {},
   "outputs": [],
   "source": []
  }
 ],
 "metadata": {
  "kernelspec": {
   "display_name": "R",
   "language": "R",
   "name": "ir"
  },
  "language_info": {
   "codemirror_mode": "r",
   "file_extension": ".r",
   "mimetype": "text/x-r-source",
   "name": "R",
   "pygments_lexer": "r",
   "version": "3.6.2"
  }
 },
 "nbformat": 4,
 "nbformat_minor": 4
}
