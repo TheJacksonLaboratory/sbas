{
 "cells": [
  {
   "cell_type": "markdown",
   "metadata": {},
   "source": [
    "# Supplementary: Counts of differentially spliced exons per examined tissue\n",
    "\n",
    "This notebook aggregates the results from the differential splicing from (**see** [figureXXX.ipynb](figure1.ipynb)), and more specifically the `limma::topTable()` output dataframes across all tissues in the GTEX cohort and generates summary statistics for the number of genes found to be statistically up or downregulated between male and female subjects."
   ]
  },
  {
   "cell_type": "markdown",
   "metadata": {},
   "source": [
    " ---\n",
    " \n",
    " **Running this notebook**:\n",
    " \n",
    "A few steps are needed before you can run this document on your own. The GitHub repository (https://github.com/TheJacksonLaboratory/sbas) of the project contains detailed instructions for setting up the environment in the **`dependencies/README.md`** document. Before starting with the analysis, make sure you have first completed the dependencies set up by following the instructions described there. If you have not done this already, you will need to close and restart this notebook before running it.\n",
    "\n",
    "All paths defined in this Notebook are relative to the parent directory (repository). \n",
    "\n",
    " ---\n"
   ]
  },
  {
   "cell_type": "markdown",
   "metadata": {},
   "source": [
    "# Loading dependencies"
   ]
  },
  {
   "cell_type": "code",
   "execution_count": 99,
   "metadata": {},
   "outputs": [],
   "source": [
    "library(dplyr)\n",
    "library(tidyr)\n",
    "library(reshape)\n",
    "library(ggplot2)\n",
    "library(piggyback)\n",
    "library(snakecase)"
   ]
  },
  {
   "cell_type": "markdown",
   "metadata": {},
   "source": [
    "# Retrieving the results from the Differential Splicing Events using [`ropensci/piggyback`](https://github.com/ropensci/piggyback)\n",
    "\n",
    "This notebook requires as input data the limma `topTable()` objects from the Differential Gene Expression analysis (see [figureXXX.ipynb]()). We have archived the results from the notebook that generates the results using the method described by the author of the R package [`ropensci/piggyback`](https://github.com/ropensci/piggyback). We use the release named `diff_spliced` (Differential Spliced Exons) in the repo and can be accessed at [TheJacksonLaboratory/sbas/releases/tag/diff_spliced](https://github.com/TheJacksonLaboratory/sbas/releases/tag/diff_spliced). \n",
    "\n",
    "For using the [`ropensci/piggyback`](https://github.com/ropensci/piggyback) with private repositories, it is required that a `GITHUB_TOKEN` is stored as a variable in the R environment in which one is working. To generate such a token with sensible default permissions, the R package [usethis]() has a convenient function \n",
    "\n",
    "```R\n",
    "# intall.packages(\"usethis\")\n",
    "usethis::browse_github_token()\n",
    "```\n",
    "\n",
    "This will redirect you to GitHub to create your own GitHub token. Once you have the token, you can use it to set up `.Renviron` by typing the following:\n",
    "\n",
    "```R\n",
    "Sys.setenv(GITHUB_TOKEN = \"youractualtokenindoublequotes\")\n",
    "```\n",
    "\n",
    "Then you sre ready to use the function [`piggyback::pb_download()`](https://docs.ropensci.org/piggyback/reference/pb_download.html) to retrieve the `dge.tar.gz` that contains the topTable objects written as .csv file for all 46 examined GTEX tissue cohorts.\n",
    "\n",
    "---\n",
    "\n",
    "***NOTE***\n",
    "\n",
    "Avoid using the `.token` argument to share your token directly in the function as you might forget and push your code, along with your private GITHUB_TOKEN to GitHub. If that happens by mistake, it is advised you invalidate the token that has been exposed by accessing [this link](https://github.com/settings/tokens) and clicking `Delete`.\n",
    "\n",
    "---"
   ]
  },
  {
   "cell_type": "code",
   "execution_count": 6,
   "metadata": {},
   "outputs": [
    {
     "name": "stderr",
     "output_type": "stream",
     "text": [
      "Fetching diff_spliced.tar.gz from GitHub ..\n",
      "\n",
      "All files up-to-date already\n",
      "\n",
      "\n",
      "Done!\n",
      "\n",
      "\n",
      "Decompressing archive into folder ../data/diff_spliced ..\n",
      "\n",
      "Done!\n",
      "\n",
      "\n"
     ]
    }
   ],
   "source": [
    "piggyback::pb_download(file = \"results_sex_as_events.tar.gz\",\n",
    "                       dest = \"../data\",\n",
    "                       repo = \"TheJacksonLaboratory/sbas\",\n",
    "                       tag  = \"rMATs.3.2.5.gencode.V30.GTEx.V8.DE.v.1.0\",\n",
    "                       show_progress = TRUE)\n",
    "system(\"mv ../data/results_sex_as_events.tar.gz  ../data/diff_spliced.tar.gz\", intern = TRUE)\n",
    "\n",
    "tar_gz_top_table_diff_splicing_archive <- (\"../data/diff_spliced.tar.gz\")\n",
    "\n",
    "if (!file.exists( tar_gz_top_table_diff_splicing_archive )) {\n",
    "    \n",
    "    message( paste0(\"Fetching \", basename(tar_gz_top_table_diff_splicing_archive) , \" from GitHub ..\"))\n",
    "    # Download archive from GitHub release with tag \"dge\"\n",
    "    piggyback::pb_download(file = \"diff_spliced.tar.gz\",\n",
    "                           dest = \"../data\",\n",
    "                           repo = \"TheJacksonLaboratory/sbas\",\n",
    "                           tag  = \"diff_spliced\",\n",
    "                           show_progress = TRUE)\n",
    "    message(\"Done!\\n\")\n",
    "    \n",
    "    message(\"Decompressing archive into folder ../data/diff_spliced ..\")\n",
    "    # Decompress in a folder tmp named dge\n",
    "    system(\"mkdir -p ../data/diff_spliced && tar xvzf ../data/diff_spliced.tar.gz -C ../data/diff_spliced/\", intern = TRUE)\n",
    "    message(\"Done!\\n\")\n",
    "}\n",
    "if (file.exists(\"../data/diff_spliced.tar.gz \")) {\n",
    "    message(\"File diff_spliced.tar.gz already available in ../data/ !\\n\")\n",
    "    message(\"Decompressing archive into folder ../data/diff_spliced ..\")\n",
    "    # Decompress in a folder tmp named dge\n",
    "    system(\"mkdir -p ../data/diff_spliced && tar xvzf ../data/diff_spliced.tar.gz -C ../data/diff_spliced/\", intern = TRUE)\n",
    "    message(\"Done!\\n\")\n",
    "}\n",
    "\n",
    "\n",
    "# pData_yarn_downloadGTExV8.csv\n",
    "if (! (file.exists(\"../data/pData_yarn_downloadGTExV8.csv\"))) {\n",
    "    system(\"mkdir -p ../data\", intern = TRUE)\n",
    "    message(\"Fetching pData_yarn_downloadGTExV8.csv from GitHub ..\")\n",
    "    # Download archive from GitHub release with tag \"dge\"\n",
    "    piggyback::pb_download(file = \"pData_yarn_downloadGTExV8.csv\",\n",
    "                           dest = \"../data\",\n",
    "                           repo = \"TheJacksonLaboratory/sbas\",\n",
    "                           tag  = \"GTExV8.v1.0\",\n",
    "                           show_progress = TRUE)\n",
    "    message(\"Done!\\n\")\n",
    "}\n",
    "\n",
    "# fromGTF.tar.gz\n",
    "if (! (file.exists(\"../data/fromGTF.tar.gz\"))) {\n",
    "    system(\"mkdir -p ../data\", intern = TRUE)\n",
    "    message(\"Fetching fromGTF.tar.gz from GitHub ..\")\n",
    "    # Download archive from GitHub release with tag \"dge\"\n",
    "    piggyback::pb_download(file = \"fromGTF.tar.gz\",\n",
    "                           dest = \"../data\",\n",
    "                           repo = \"adeslatt/sbas_gtf\",\n",
    "                           tag  = \"rMATS.3.2.5.gencode.v30\",\n",
    "                           show_progress = TRUE)\n",
    "    message(\"Done!\\n\")\n",
    "    message(\"Decompressing fromGTF.tar.gz into ../data\")\n",
    "    system(\"mkdir -p ../data && tar xvfz ../data/fromGTF.tar.gz -C ../data\", intern = TRUE)\n",
    "    message(\"Done!\\n\")\n",
    "    message(\"Decompressing fromGTF.*.txt.gz into ../data\")\n",
    "    system(\"gunzip  ../data/fromGTF*.txt.gz \", intern = TRUE)\n",
    "    message(\"Done!\\n\")\n",
    "}\n"
   ]
  },
  {
   "cell_type": "markdown",
   "metadata": {},
   "source": [
    "# Create a list of named dataframes with the Differentially Spliced Exons `limma::topTable()`s\n",
    "\n",
    "We will iterate over the list of named dataframes to collect summary statistics. More specifically, retrieve the count of:\n",
    "- upregulated\n",
    "- downregulated\n",
    "- non significant\n",
    "\n",
    "differentially spliced exons for the contrast males-females per tissue."
   ]
  },
  {
   "cell_type": "code",
   "execution_count": 7,
   "metadata": {},
   "outputs": [],
   "source": [
    "suffix_pattern   <- \"*_DGE_sex_as_events.csv\"\n",
    "tables_folder    <- \"../data/diff_spliced/\"\n",
    "\n",
    "tables_filepaths <- list.files(tables_folder, pattern = suffix_pattern, full.names = TRUE)\n",
    "tables_filenames <- list.files(tables_folder, pattern = suffix_pattern, full.names = FALSE)"
   ]
  },
  {
   "cell_type": "code",
   "execution_count": 8,
   "metadata": {},
   "outputs": [],
   "source": [
    "all_topTables <- lapply(tables_filepaths,read.csv)\n",
    "names(all_topTables) <- gsub(\"_DGE_sex_as_events.csv\",\"\", tables_filenames, fixed = TRUE)"
   ]
  },
  {
   "cell_type": "markdown",
   "metadata": {},
   "source": [
    "The list named `all_topTables` is the object that holds all the topTable dataframes from each tissue comparison:"
   ]
  },
  {
   "cell_type": "code",
   "execution_count": 9,
   "metadata": {},
   "outputs": [
    {
     "data": {
      "text/html": [
       "44"
      ],
      "text/latex": [
       "44"
      ],
      "text/markdown": [
       "44"
      ],
      "text/plain": [
       "[1] 44"
      ]
     },
     "metadata": {},
     "output_type": "display_data"
    }
   ],
   "source": [
    "length(all_topTables)"
   ]
  },
  {
   "cell_type": "code",
   "execution_count": 10,
   "metadata": {},
   "outputs": [
    {
     "data": {
      "text/plain": [
       "                                      Length Class      Mode\n",
       "adipose_visceral_omentum              6      data.frame list\n",
       "adrenal_gland                         6      data.frame list\n",
       "artery_aorta                          6      data.frame list\n",
       "artery_coronary                       6      data.frame list\n",
       "artery_tibial                         6      data.frame list\n",
       "bladder                               6      data.frame list\n",
       "brain_amygdala                        6      data.frame list\n",
       "brain_anterior_cingulate_cortex_ba_24 6      data.frame list\n",
       "brain_caudate_basal_ganglia           6      data.frame list\n",
       "brain_cerebellar_hemisphere           6      data.frame list\n",
       "brain_cerebellum                      6      data.frame list\n",
       "brain_cortex                          6      data.frame list\n",
       "brain_frontal_cortex_ba_9             6      data.frame list\n",
       "brain_hippocampus                     6      data.frame list\n",
       "brain_hypothalamus                    6      data.frame list\n",
       "brain_nucleus_accumbens_basal_ganglia 6      data.frame list\n",
       "brain_putamen_basal_ganglia           6      data.frame list\n",
       "brain_spinal_cord_cervical_c_1        6      data.frame list\n",
       "brain_substantia_nigra                6      data.frame list\n",
       "breast_mammary_tissue                 6      data.frame list\n",
       "cells_cultured_fibroblasts            6      data.frame list\n",
       "cells_ebv_transformed_lymphocytes     6      data.frame list\n",
       "colon_sigmoid                         6      data.frame list\n",
       "colon_transverse                      6      data.frame list\n",
       "esophagus_gastroesophageal_junction   6      data.frame list\n",
       "esophagus_mucosa                      6      data.frame list\n",
       "esophagus_muscularis                  6      data.frame list\n",
       "heart_atrial_appendage                6      data.frame list\n",
       "heart_left_ventricle                  6      data.frame list\n",
       "kidney_cortex                         6      data.frame list\n",
       "liver                                 6      data.frame list\n",
       "lung                                  6      data.frame list\n",
       "minor_salivary_gland                  6      data.frame list\n",
       "muscle_skeletal                       6      data.frame list\n",
       "nerve_tibial                          6      data.frame list\n",
       "pancreas                              6      data.frame list\n",
       "pituitary                             6      data.frame list\n",
       "skin_not_sun_exposed_suprapubic       6      data.frame list\n",
       "skin_sun_exposed_lower_leg            6      data.frame list\n",
       "small_intestine_terminal_ileum        6      data.frame list\n",
       "spleen                                6      data.frame list\n",
       "stomach                               6      data.frame list\n",
       "thyroid                               6      data.frame list\n",
       "whole_blood                           6      data.frame list"
      ]
     },
     "metadata": {},
     "output_type": "display_data"
    }
   ],
   "source": [
    "summary(all_topTables)"
   ]
  },
  {
   "cell_type": "code",
   "execution_count": 11,
   "metadata": {},
   "outputs": [
    {
     "data": {
      "text/html": [
       "<table>\n",
       "<caption>A data.frame: 2 × 6</caption>\n",
       "<thead>\n",
       "\t<tr><th></th><th scope=col>logFC</th><th scope=col>AveExpr</th><th scope=col>t</th><th scope=col>P.Value</th><th scope=col>adj.P.Val</th><th scope=col>B</th></tr>\n",
       "\t<tr><th></th><th scope=col>&lt;dbl&gt;</th><th scope=col>&lt;dbl&gt;</th><th scope=col>&lt;dbl&gt;</th><th scope=col>&lt;dbl&gt;</th><th scope=col>&lt;dbl&gt;</th><th scope=col>&lt;dbl&gt;</th></tr>\n",
       "</thead>\n",
       "<tbody>\n",
       "\t<tr><th scope=row>XIST-10149</th><td>-7.142389</td><td>0.9941613</td><td>-48.32587</td><td>1.260076e-177</td><td>5.353307e-173</td><td>324.0275</td></tr>\n",
       "\t<tr><th scope=row>XIST-10154</th><td>-6.826079</td><td>0.7901787</td><td>-46.60829</td><td>7.328131e-172</td><td>1.556642e-167</td><td>316.7197</td></tr>\n",
       "</tbody>\n",
       "</table>\n"
      ],
      "text/latex": [
       "A data.frame: 2 × 6\n",
       "\\begin{tabular}{r|llllll}\n",
       "  & logFC & AveExpr & t & P.Value & adj.P.Val & B\\\\\n",
       "  & <dbl> & <dbl> & <dbl> & <dbl> & <dbl> & <dbl>\\\\\n",
       "\\hline\n",
       "\tXIST-10149 & -7.142389 & 0.9941613 & -48.32587 & 1.260076e-177 & 5.353307e-173 & 324.0275\\\\\n",
       "\tXIST-10154 & -6.826079 & 0.7901787 & -46.60829 & 7.328131e-172 & 1.556642e-167 & 316.7197\\\\\n",
       "\\end{tabular}\n"
      ],
      "text/markdown": [
       "\n",
       "A data.frame: 2 × 6\n",
       "\n",
       "| <!--/--> | logFC &lt;dbl&gt; | AveExpr &lt;dbl&gt; | t &lt;dbl&gt; | P.Value &lt;dbl&gt; | adj.P.Val &lt;dbl&gt; | B &lt;dbl&gt; |\n",
       "|---|---|---|---|---|---|---|\n",
       "| XIST-10149 | -7.142389 | 0.9941613 | -48.32587 | 1.260076e-177 | 5.353307e-173 | 324.0275 |\n",
       "| XIST-10154 | -6.826079 | 0.7901787 | -46.60829 | 7.328131e-172 | 1.556642e-167 | 316.7197 |\n",
       "\n"
      ],
      "text/plain": [
       "           logFC     AveExpr   t         P.Value       adj.P.Val     B       \n",
       "XIST-10149 -7.142389 0.9941613 -48.32587 1.260076e-177 5.353307e-173 324.0275\n",
       "XIST-10154 -6.826079 0.7901787 -46.60829 7.328131e-172 1.556642e-167 316.7197"
      ]
     },
     "metadata": {},
     "output_type": "display_data"
    }
   ],
   "source": [
    "head(all_topTables[[1]] , 2)"
   ]
  },
  {
   "cell_type": "markdown",
   "metadata": {},
   "source": [
    "# Loading the feature annotation tab seperated file `fromGTF.SE.txt`"
   ]
  },
  {
   "cell_type": "code",
   "execution_count": 12,
   "metadata": {},
   "outputs": [
    {
     "data": {
      "text/html": [
       "<table>\n",
       "<caption>A data.frame: 6 × 11</caption>\n",
       "<thead>\n",
       "\t<tr><th></th><th scope=col>ID</th><th scope=col>GeneID</th><th scope=col>geneSymbol</th><th scope=col>chr</th><th scope=col>strand</th><th scope=col>exonStart_0base</th><th scope=col>exonEnd</th><th scope=col>upstreamES</th><th scope=col>upstreamEE</th><th scope=col>downstreamES</th><th scope=col>downstreamEE</th></tr>\n",
       "\t<tr><th></th><th scope=col>&lt;chr&gt;</th><th scope=col>&lt;fct&gt;</th><th scope=col>&lt;fct&gt;</th><th scope=col>&lt;fct&gt;</th><th scope=col>&lt;fct&gt;</th><th scope=col>&lt;int&gt;</th><th scope=col>&lt;int&gt;</th><th scope=col>&lt;int&gt;</th><th scope=col>&lt;int&gt;</th><th scope=col>&lt;int&gt;</th><th scope=col>&lt;int&gt;</th></tr>\n",
       "</thead>\n",
       "<tbody>\n",
       "\t<tr><th scope=row>1</th><td>1</td><td>ENSG00000034152.18</td><td>MAP2K3</td><td>chr17</td><td>+</td><td>21287990</td><td>21288091</td><td>21284709</td><td>21284969</td><td>21295674</td><td>21295769</td></tr>\n",
       "\t<tr><th scope=row>2</th><td>2</td><td>ENSG00000034152.18</td><td>MAP2K3</td><td>chr17</td><td>+</td><td>21303182</td><td>21303234</td><td>21302142</td><td>21302259</td><td>21304425</td><td>21304553</td></tr>\n",
       "\t<tr><th scope=row>3</th><td>3</td><td>ENSG00000034152.18</td><td>MAP2K3</td><td>chr17</td><td>+</td><td>21295674</td><td>21295769</td><td>21287990</td><td>21288091</td><td>21296085</td><td>21296143</td></tr>\n",
       "\t<tr><th scope=row>4</th><td>4</td><td>ENSG00000034152.18</td><td>MAP2K3</td><td>chr17</td><td>+</td><td>21295674</td><td>21295769</td><td>21287990</td><td>21288091</td><td>21298412</td><td>21298479</td></tr>\n",
       "\t<tr><th scope=row>5</th><td>5</td><td>ENSG00000034152.18</td><td>MAP2K3</td><td>chr17</td><td>+</td><td>21295674</td><td>21295769</td><td>21284710</td><td>21284969</td><td>21296085</td><td>21296143</td></tr>\n",
       "\t<tr><th scope=row>6</th><td>6</td><td>ENSG00000034152.18</td><td>MAP2K3</td><td>chr17</td><td>+</td><td>21295674</td><td>21295769</td><td>21284710</td><td>21284969</td><td>21298412</td><td>21298479</td></tr>\n",
       "</tbody>\n",
       "</table>\n"
      ],
      "text/latex": [
       "A data.frame: 6 × 11\n",
       "\\begin{tabular}{r|lllllllllll}\n",
       "  & ID & GeneID & geneSymbol & chr & strand & exonStart\\_0base & exonEnd & upstreamES & upstreamEE & downstreamES & downstreamEE\\\\\n",
       "  & <chr> & <fct> & <fct> & <fct> & <fct> & <int> & <int> & <int> & <int> & <int> & <int>\\\\\n",
       "\\hline\n",
       "\t1 & 1 & ENSG00000034152.18 & MAP2K3 & chr17 & + & 21287990 & 21288091 & 21284709 & 21284969 & 21295674 & 21295769\\\\\n",
       "\t2 & 2 & ENSG00000034152.18 & MAP2K3 & chr17 & + & 21303182 & 21303234 & 21302142 & 21302259 & 21304425 & 21304553\\\\\n",
       "\t3 & 3 & ENSG00000034152.18 & MAP2K3 & chr17 & + & 21295674 & 21295769 & 21287990 & 21288091 & 21296085 & 21296143\\\\\n",
       "\t4 & 4 & ENSG00000034152.18 & MAP2K3 & chr17 & + & 21295674 & 21295769 & 21287990 & 21288091 & 21298412 & 21298479\\\\\n",
       "\t5 & 5 & ENSG00000034152.18 & MAP2K3 & chr17 & + & 21295674 & 21295769 & 21284710 & 21284969 & 21296085 & 21296143\\\\\n",
       "\t6 & 6 & ENSG00000034152.18 & MAP2K3 & chr17 & + & 21295674 & 21295769 & 21284710 & 21284969 & 21298412 & 21298479\\\\\n",
       "\\end{tabular}\n"
      ],
      "text/markdown": [
       "\n",
       "A data.frame: 6 × 11\n",
       "\n",
       "| <!--/--> | ID &lt;chr&gt; | GeneID &lt;fct&gt; | geneSymbol &lt;fct&gt; | chr &lt;fct&gt; | strand &lt;fct&gt; | exonStart_0base &lt;int&gt; | exonEnd &lt;int&gt; | upstreamES &lt;int&gt; | upstreamEE &lt;int&gt; | downstreamES &lt;int&gt; | downstreamEE &lt;int&gt; |\n",
       "|---|---|---|---|---|---|---|---|---|---|---|---|\n",
       "| 1 | 1 | ENSG00000034152.18 | MAP2K3 | chr17 | + | 21287990 | 21288091 | 21284709 | 21284969 | 21295674 | 21295769 |\n",
       "| 2 | 2 | ENSG00000034152.18 | MAP2K3 | chr17 | + | 21303182 | 21303234 | 21302142 | 21302259 | 21304425 | 21304553 |\n",
       "| 3 | 3 | ENSG00000034152.18 | MAP2K3 | chr17 | + | 21295674 | 21295769 | 21287990 | 21288091 | 21296085 | 21296143 |\n",
       "| 4 | 4 | ENSG00000034152.18 | MAP2K3 | chr17 | + | 21295674 | 21295769 | 21287990 | 21288091 | 21298412 | 21298479 |\n",
       "| 5 | 5 | ENSG00000034152.18 | MAP2K3 | chr17 | + | 21295674 | 21295769 | 21284710 | 21284969 | 21296085 | 21296143 |\n",
       "| 6 | 6 | ENSG00000034152.18 | MAP2K3 | chr17 | + | 21295674 | 21295769 | 21284710 | 21284969 | 21298412 | 21298479 |\n",
       "\n"
      ],
      "text/plain": [
       "  ID GeneID             geneSymbol chr   strand exonStart_0base exonEnd \n",
       "1 1  ENSG00000034152.18 MAP2K3     chr17 +      21287990        21288091\n",
       "2 2  ENSG00000034152.18 MAP2K3     chr17 +      21303182        21303234\n",
       "3 3  ENSG00000034152.18 MAP2K3     chr17 +      21295674        21295769\n",
       "4 4  ENSG00000034152.18 MAP2K3     chr17 +      21295674        21295769\n",
       "5 5  ENSG00000034152.18 MAP2K3     chr17 +      21295674        21295769\n",
       "6 6  ENSG00000034152.18 MAP2K3     chr17 +      21295674        21295769\n",
       "  upstreamES upstreamEE downstreamES downstreamEE\n",
       "1 21284709   21284969   21295674     21295769    \n",
       "2 21302142   21302259   21304425     21304553    \n",
       "3 21287990   21288091   21296085     21296143    \n",
       "4 21287990   21288091   21298412     21298479    \n",
       "5 21284710   21284969   21296085     21296143    \n",
       "6 21284710   21284969   21298412     21298479    "
      ]
     },
     "metadata": {},
     "output_type": "display_data"
    }
   ],
   "source": [
    "fromGTF.SE <- read.csv(\"../data/fromGTF.SE.txt\",sep = \"\\t\")\n",
    "fromGTF.SE[[\"ID\"]] <- as.character(fromGTF.SE[[\"ID\"]] )\n",
    "head(fromGTF.SE)"
   ]
  },
  {
   "cell_type": "markdown",
   "metadata": {},
   "source": [
    "# Example with one topTable before iterating over all tissues"
   ]
  },
  {
   "cell_type": "code",
   "execution_count": 13,
   "metadata": {},
   "outputs": [
    {
     "data": {
      "text/html": [
       "'adipose_visceral_omentum'"
      ],
      "text/latex": [
       "'adipose\\_visceral\\_omentum'"
      ],
      "text/markdown": [
       "'adipose_visceral_omentum'"
      ],
      "text/plain": [
       "[1] \"adipose_visceral_omentum\""
      ]
     },
     "metadata": {},
     "output_type": "display_data"
    },
    {
     "data": {
      "text/html": [
       "<table>\n",
       "<caption>A data.frame: 2 × 6</caption>\n",
       "<thead>\n",
       "\t<tr><th></th><th scope=col>logFC</th><th scope=col>AveExpr</th><th scope=col>t</th><th scope=col>P.Value</th><th scope=col>adj.P.Val</th><th scope=col>B</th></tr>\n",
       "\t<tr><th></th><th scope=col>&lt;dbl&gt;</th><th scope=col>&lt;dbl&gt;</th><th scope=col>&lt;dbl&gt;</th><th scope=col>&lt;dbl&gt;</th><th scope=col>&lt;dbl&gt;</th><th scope=col>&lt;dbl&gt;</th></tr>\n",
       "</thead>\n",
       "<tbody>\n",
       "\t<tr><th scope=row>XIST-10149</th><td>-7.142389</td><td>0.9941613</td><td>-48.32587</td><td>1.260076e-177</td><td>5.353307e-173</td><td>324.0275</td></tr>\n",
       "\t<tr><th scope=row>XIST-10154</th><td>-6.826079</td><td>0.7901787</td><td>-46.60829</td><td>7.328131e-172</td><td>1.556642e-167</td><td>316.7197</td></tr>\n",
       "</tbody>\n",
       "</table>\n"
      ],
      "text/latex": [
       "A data.frame: 2 × 6\n",
       "\\begin{tabular}{r|llllll}\n",
       "  & logFC & AveExpr & t & P.Value & adj.P.Val & B\\\\\n",
       "  & <dbl> & <dbl> & <dbl> & <dbl> & <dbl> & <dbl>\\\\\n",
       "\\hline\n",
       "\tXIST-10149 & -7.142389 & 0.9941613 & -48.32587 & 1.260076e-177 & 5.353307e-173 & 324.0275\\\\\n",
       "\tXIST-10154 & -6.826079 & 0.7901787 & -46.60829 & 7.328131e-172 & 1.556642e-167 & 316.7197\\\\\n",
       "\\end{tabular}\n"
      ],
      "text/markdown": [
       "\n",
       "A data.frame: 2 × 6\n",
       "\n",
       "| <!--/--> | logFC &lt;dbl&gt; | AveExpr &lt;dbl&gt; | t &lt;dbl&gt; | P.Value &lt;dbl&gt; | adj.P.Val &lt;dbl&gt; | B &lt;dbl&gt; |\n",
       "|---|---|---|---|---|---|---|\n",
       "| XIST-10149 | -7.142389 | 0.9941613 | -48.32587 | 1.260076e-177 | 5.353307e-173 | 324.0275 |\n",
       "| XIST-10154 | -6.826079 | 0.7901787 | -46.60829 | 7.328131e-172 | 1.556642e-167 | 316.7197 |\n",
       "\n"
      ],
      "text/plain": [
       "           logFC     AveExpr   t         P.Value       adj.P.Val     B       \n",
       "XIST-10149 -7.142389 0.9941613 -48.32587 1.260076e-177 5.353307e-173 324.0275\n",
       "XIST-10154 -6.826079 0.7901787 -46.60829 7.328131e-172 1.556642e-167 316.7197"
      ]
     },
     "metadata": {},
     "output_type": "display_data"
    }
   ],
   "source": [
    "# Example topTable and name\n",
    "topTable <- all_topTables[[1]]\n",
    "name     <- names( all_topTables)[1]\n",
    "name\n",
    "head(topTable,2)"
   ]
  },
  {
   "cell_type": "markdown",
   "metadata": {},
   "source": [
    "## Defining the thresholds for the double criterion filtering:\n",
    "\n",
    "Criteria:\n",
    "- Adjusted p-value < `p_value_cuttoff`\n",
    "- Absolute FoldChange > `absFold_change_threshold`"
   ]
  },
  {
   "cell_type": "markdown",
   "metadata": {},
   "source": [
    "----\n",
    "\n",
    "***NOTE***\n",
    "\n",
    "Defining higher in males or females based on the limma design matrix.\n",
    "As we have used 1 for encoding the females and 2 for the males, our *reference level* for the contrast in the expression between males and females is 1, the females.\n",
    "\n",
    "\n",
    "From the `limma` documentation:\n",
    ">The level which is chosen for the *reference level* is the level which is contrasted against. By default, this is simply the first level alphabetically. We can specify that we want group 2 to be the reference level by either using the relevel function [..]\n",
    "\n",
    "By convention, we could say that genes with positive log fold change, are higher in males, whereas the opposite holds true for the ones that are observed to have negative log fold change. \n",
    "\n",
    "---"
   ]
  },
  {
   "cell_type": "code",
   "execution_count": 15,
   "metadata": {},
   "outputs": [
    {
     "data": {
      "text/html": [
       "1.5"
      ],
      "text/latex": [
       "1.5"
      ],
      "text/markdown": [
       "1.5"
      ],
      "text/plain": [
       "[1] 1.5"
      ]
     },
     "metadata": {},
     "output_type": "display_data"
    }
   ],
   "source": [
    "adj.P.Val_threshold  <- 0.05\n",
    "absFoldChange_cutoff <- 1.5\n",
    "absFoldChange_cutoff"
   ]
  },
  {
   "cell_type": "markdown",
   "metadata": {},
   "source": [
    "Replacing potential `NA` values in the `P.Value`, `adj.P.Val` to keep the columns numeric and avoid coersion."
   ]
  },
  {
   "cell_type": "code",
   "execution_count": 16,
   "metadata": {},
   "outputs": [],
   "source": [
    "# replacing NA p-values with p-value = 1\n",
    "topTable$P.Value[is.na(topTable$P.Value)]     <- 1; \n",
    "topTable$adj.P.Val[is.na(topTable$adj.P.Val)] <- 1;"
   ]
  },
  {
   "cell_type": "code",
   "execution_count": 17,
   "metadata": {},
   "outputs": [],
   "source": [
    "# Add helper variable dummy `FoldChange` variable. Use 2 as base of log, because this is the default from limma\n",
    "# The following statement calculates a dummy fold change (how many times higher or lower)\n",
    "# The minus symbol is a convention symbol only! to express eg. a fold change of 0.25 as -4, 4 times lower\n",
    "topTable$FoldChange_dummy    <-   ifelse(topTable$logFC > 0, 2 ^ topTable$logFC, -1 / (2 ^ topTable$logFC))                    \n",
    "\n",
    "# Add helper variable `abs_logFC`.\n",
    "topTable$abs_logFC <- abs(topTable$logFC)\n",
    "\n",
    "# Add helper variable `abundance` for up, down, non_signif\n",
    "topTable$abundance                                                  <- \"non_signif\"\n",
    "topTable$abundance[ ((topTable$logFC >   log2(absFoldChange_cutoff)) & (topTable$adj.P.Val <= adj.P.Val_threshold )) ]   <- \"higher\"\n",
    "topTable$abundance[ ((topTable$logFC <  -log2(absFoldChange_cutoff)) & (topTable$adj.P.Val <= adj.P.Val_threshold )) ]   <- \"lower\""
   ]
  },
  {
   "cell_type": "code",
   "execution_count": 18,
   "metadata": {},
   "outputs": [
    {
     "data": {
      "text/html": [
       "<style>\n",
       ".list-inline {list-style: none; margin:0; padding: 0}\n",
       ".list-inline>li {display: inline-block}\n",
       ".list-inline>li:not(:last-child)::after {content: \"\\00b7\"; padding: 0 .5ex}\n",
       "</style>\n",
       "<ol class=list-inline><li>42438</li><li>9</li></ol>\n"
      ],
      "text/latex": [
       "\\begin{enumerate*}\n",
       "\\item 42438\n",
       "\\item 9\n",
       "\\end{enumerate*}\n"
      ],
      "text/markdown": [
       "1. 42438\n",
       "2. 9\n",
       "\n",
       "\n"
      ],
      "text/plain": [
       "[1] 42438     9"
      ]
     },
     "metadata": {},
     "output_type": "display_data"
    },
    {
     "data": {
      "text/html": [
       "<style>\n",
       ".list-inline {list-style: none; margin:0; padding: 0}\n",
       ".list-inline>li {display: inline-block}\n",
       ".list-inline>li:not(:last-child)::after {content: \"\\00b7\"; padding: 0 .5ex}\n",
       "</style>\n",
       "<ol class=list-inline><li>14</li><li>9</li></ol>\n"
      ],
      "text/latex": [
       "\\begin{enumerate*}\n",
       "\\item 14\n",
       "\\item 9\n",
       "\\end{enumerate*}\n"
      ],
      "text/markdown": [
       "1. 14\n",
       "2. 9\n",
       "\n",
       "\n"
      ],
      "text/plain": [
       "[1] 14  9"
      ]
     },
     "metadata": {},
     "output_type": "display_data"
    },
    {
     "data": {
      "text/html": [
       "<style>\n",
       ".list-inline {list-style: none; margin:0; padding: 0}\n",
       ".list-inline>li {display: inline-block}\n",
       ".list-inline>li:not(:last-child)::after {content: \"\\00b7\"; padding: 0 .5ex}\n",
       "</style>\n",
       "<ol class=list-inline><li>32</li><li>9</li></ol>\n"
      ],
      "text/latex": [
       "\\begin{enumerate*}\n",
       "\\item 32\n",
       "\\item 9\n",
       "\\end{enumerate*}\n"
      ],
      "text/markdown": [
       "1. 32\n",
       "2. 9\n",
       "\n",
       "\n"
      ],
      "text/plain": [
       "[1] 32  9"
      ]
     },
     "metadata": {},
     "output_type": "display_data"
    }
   ],
   "source": [
    "dim(topTable[ topTable$abundance == \"non_signif\" ,])\n",
    "dim(topTable[ topTable$abundance == \"higher\" ,])\n",
    "dim(topTable[ topTable$abundance == \"lower\" ,])"
   ]
  },
  {
   "cell_type": "code",
   "execution_count": 19,
   "metadata": {},
   "outputs": [
    {
     "data": {
      "text/plain": [
       "\n",
       "    higher      lower non_signif \n",
       "        14         32      42438 "
      ]
     },
     "metadata": {},
     "output_type": "display_data"
    }
   ],
   "source": [
    "table(topTable$abundance)"
   ]
  },
  {
   "cell_type": "markdown",
   "metadata": {},
   "source": [
    "# Define a vector with the columns to keep in the annotated from GTF `topTable` object"
   ]
  },
  {
   "cell_type": "code",
   "execution_count": 20,
   "metadata": {},
   "outputs": [],
   "source": [
    "#toKeep <- c(\"Geneid\",\"logFC\",\"FoldChange_dummy\", \"adj.P.Val\", \"abundance\")\n",
    "toKeep <- colnames(topTable)"
   ]
  },
  {
   "cell_type": "code",
   "execution_count": 21,
   "metadata": {},
   "outputs": [
    {
     "data": {
      "text/html": [
       "<table>\n",
       "<caption>A data.frame: 2 × 9</caption>\n",
       "<thead>\n",
       "\t<tr><th></th><th scope=col>logFC</th><th scope=col>AveExpr</th><th scope=col>t</th><th scope=col>P.Value</th><th scope=col>adj.P.Val</th><th scope=col>B</th><th scope=col>FoldChange_dummy</th><th scope=col>abs_logFC</th><th scope=col>abundance</th></tr>\n",
       "\t<tr><th></th><th scope=col>&lt;dbl&gt;</th><th scope=col>&lt;dbl&gt;</th><th scope=col>&lt;dbl&gt;</th><th scope=col>&lt;dbl&gt;</th><th scope=col>&lt;dbl&gt;</th><th scope=col>&lt;dbl&gt;</th><th scope=col>&lt;dbl&gt;</th><th scope=col>&lt;dbl&gt;</th><th scope=col>&lt;chr&gt;</th></tr>\n",
       "</thead>\n",
       "<tbody>\n",
       "\t<tr><th scope=row>XIST-10149</th><td>-7.142389</td><td>0.9941613</td><td>-48.32587</td><td>1.260076e-177</td><td>5.353307e-173</td><td>324.0275</td><td>-141.2776</td><td>7.142389</td><td>lower</td></tr>\n",
       "\t<tr><th scope=row>XIST-10154</th><td>-6.826079</td><td>0.7901787</td><td>-46.60829</td><td>7.328131e-172</td><td>1.556642e-167</td><td>316.7197</td><td>-113.4630</td><td>6.826079</td><td>lower</td></tr>\n",
       "</tbody>\n",
       "</table>\n"
      ],
      "text/latex": [
       "A data.frame: 2 × 9\n",
       "\\begin{tabular}{r|lllllllll}\n",
       "  & logFC & AveExpr & t & P.Value & adj.P.Val & B & FoldChange\\_dummy & abs\\_logFC & abundance\\\\\n",
       "  & <dbl> & <dbl> & <dbl> & <dbl> & <dbl> & <dbl> & <dbl> & <dbl> & <chr>\\\\\n",
       "\\hline\n",
       "\tXIST-10149 & -7.142389 & 0.9941613 & -48.32587 & 1.260076e-177 & 5.353307e-173 & 324.0275 & -141.2776 & 7.142389 & lower\\\\\n",
       "\tXIST-10154 & -6.826079 & 0.7901787 & -46.60829 & 7.328131e-172 & 1.556642e-167 & 316.7197 & -113.4630 & 6.826079 & lower\\\\\n",
       "\\end{tabular}\n"
      ],
      "text/markdown": [
       "\n",
       "A data.frame: 2 × 9\n",
       "\n",
       "| <!--/--> | logFC &lt;dbl&gt; | AveExpr &lt;dbl&gt; | t &lt;dbl&gt; | P.Value &lt;dbl&gt; | adj.P.Val &lt;dbl&gt; | B &lt;dbl&gt; | FoldChange_dummy &lt;dbl&gt; | abs_logFC &lt;dbl&gt; | abundance &lt;chr&gt; |\n",
       "|---|---|---|---|---|---|---|---|---|---|\n",
       "| XIST-10149 | -7.142389 | 0.9941613 | -48.32587 | 1.260076e-177 | 5.353307e-173 | 324.0275 | -141.2776 | 7.142389 | lower |\n",
       "| XIST-10154 | -6.826079 | 0.7901787 | -46.60829 | 7.328131e-172 | 1.556642e-167 | 316.7197 | -113.4630 | 6.826079 | lower |\n",
       "\n"
      ],
      "text/plain": [
       "           logFC     AveExpr   t         P.Value       adj.P.Val     B       \n",
       "XIST-10149 -7.142389 0.9941613 -48.32587 1.260076e-177 5.353307e-173 324.0275\n",
       "XIST-10154 -6.826079 0.7901787 -46.60829 7.328131e-172 1.556642e-167 316.7197\n",
       "           FoldChange_dummy abs_logFC abundance\n",
       "XIST-10149 -141.2776        7.142389  lower    \n",
       "XIST-10154 -113.4630        6.826079  lower    "
      ]
     },
     "metadata": {},
     "output_type": "display_data"
    }
   ],
   "source": [
    "head(topTable[ , colnames(topTable) %in% toKeep ],2)"
   ]
  },
  {
   "cell_type": "markdown",
   "metadata": {},
   "source": [
    "# Annotate topTable with the fromGTF file"
   ]
  },
  {
   "cell_type": "code",
   "execution_count": 33,
   "metadata": {},
   "outputs": [],
   "source": [
    "topTable$junctionGeneSymbol <- rownames(topTable)\n",
    "topTable$symbol  <- sub(\"-[^-]+$\",\"\", topTable$junctionGeneSymbol)\n",
    "topTable$ID <- sub(\"^.+-\", \"\", topTable$junctionGeneSymbol)"
   ]
  },
  {
   "cell_type": "code",
   "execution_count": 34,
   "metadata": {},
   "outputs": [
    {
     "data": {
      "text/html": [
       "<table>\n",
       "<caption>A data.frame: 2 × 12</caption>\n",
       "<thead>\n",
       "\t<tr><th></th><th scope=col>logFC</th><th scope=col>AveExpr</th><th scope=col>t</th><th scope=col>P.Value</th><th scope=col>adj.P.Val</th><th scope=col>B</th><th scope=col>FoldChange_dummy</th><th scope=col>abs_logFC</th><th scope=col>abundance</th><th scope=col>junctionGeneSymbol</th><th scope=col>symbol</th><th scope=col>ID</th></tr>\n",
       "\t<tr><th></th><th scope=col>&lt;dbl&gt;</th><th scope=col>&lt;dbl&gt;</th><th scope=col>&lt;dbl&gt;</th><th scope=col>&lt;dbl&gt;</th><th scope=col>&lt;dbl&gt;</th><th scope=col>&lt;dbl&gt;</th><th scope=col>&lt;dbl&gt;</th><th scope=col>&lt;dbl&gt;</th><th scope=col>&lt;chr&gt;</th><th scope=col>&lt;chr&gt;</th><th scope=col>&lt;chr&gt;</th><th scope=col>&lt;chr&gt;</th></tr>\n",
       "</thead>\n",
       "<tbody>\n",
       "\t<tr><th scope=row>XIST-10149</th><td>-7.142389</td><td>0.9941613</td><td>-48.32587</td><td>1.260076e-177</td><td>5.353307e-173</td><td>324.0275</td><td>-141.2776</td><td>7.142389</td><td>lower</td><td>XIST-10149</td><td>XIST</td><td>10149</td></tr>\n",
       "\t<tr><th scope=row>XIST-10154</th><td>-6.826079</td><td>0.7901787</td><td>-46.60829</td><td>7.328131e-172</td><td>1.556642e-167</td><td>316.7197</td><td>-113.4630</td><td>6.826079</td><td>lower</td><td>XIST-10154</td><td>XIST</td><td>10154</td></tr>\n",
       "</tbody>\n",
       "</table>\n"
      ],
      "text/latex": [
       "A data.frame: 2 × 12\n",
       "\\begin{tabular}{r|llllllllllll}\n",
       "  & logFC & AveExpr & t & P.Value & adj.P.Val & B & FoldChange\\_dummy & abs\\_logFC & abundance & junctionGeneSymbol & symbol & ID\\\\\n",
       "  & <dbl> & <dbl> & <dbl> & <dbl> & <dbl> & <dbl> & <dbl> & <dbl> & <chr> & <chr> & <chr> & <chr>\\\\\n",
       "\\hline\n",
       "\tXIST-10149 & -7.142389 & 0.9941613 & -48.32587 & 1.260076e-177 & 5.353307e-173 & 324.0275 & -141.2776 & 7.142389 & lower & XIST-10149 & XIST & 10149\\\\\n",
       "\tXIST-10154 & -6.826079 & 0.7901787 & -46.60829 & 7.328131e-172 & 1.556642e-167 & 316.7197 & -113.4630 & 6.826079 & lower & XIST-10154 & XIST & 10154\\\\\n",
       "\\end{tabular}\n"
      ],
      "text/markdown": [
       "\n",
       "A data.frame: 2 × 12\n",
       "\n",
       "| <!--/--> | logFC &lt;dbl&gt; | AveExpr &lt;dbl&gt; | t &lt;dbl&gt; | P.Value &lt;dbl&gt; | adj.P.Val &lt;dbl&gt; | B &lt;dbl&gt; | FoldChange_dummy &lt;dbl&gt; | abs_logFC &lt;dbl&gt; | abundance &lt;chr&gt; | junctionGeneSymbol &lt;chr&gt; | symbol &lt;chr&gt; | ID &lt;chr&gt; |\n",
       "|---|---|---|---|---|---|---|---|---|---|---|---|---|\n",
       "| XIST-10149 | -7.142389 | 0.9941613 | -48.32587 | 1.260076e-177 | 5.353307e-173 | 324.0275 | -141.2776 | 7.142389 | lower | XIST-10149 | XIST | 10149 |\n",
       "| XIST-10154 | -6.826079 | 0.7901787 | -46.60829 | 7.328131e-172 | 1.556642e-167 | 316.7197 | -113.4630 | 6.826079 | lower | XIST-10154 | XIST | 10154 |\n",
       "\n"
      ],
      "text/plain": [
       "           logFC     AveExpr   t         P.Value       adj.P.Val     B       \n",
       "XIST-10149 -7.142389 0.9941613 -48.32587 1.260076e-177 5.353307e-173 324.0275\n",
       "XIST-10154 -6.826079 0.7901787 -46.60829 7.328131e-172 1.556642e-167 316.7197\n",
       "           FoldChange_dummy abs_logFC abundance junctionGeneSymbol symbol ID   \n",
       "XIST-10149 -141.2776        7.142389  lower     XIST-10149         XIST   10149\n",
       "XIST-10154 -113.4630        6.826079  lower     XIST-10154         XIST   10154"
      ]
     },
     "metadata": {},
     "output_type": "display_data"
    }
   ],
   "source": [
    "head(topTable, 2)"
   ]
  },
  {
   "cell_type": "code",
   "execution_count": 25,
   "metadata": {},
   "outputs": [
    {
     "data": {
      "text/html": [
       "'adipose_visceral_omentum'"
      ],
      "text/latex": [
       "'adipose\\_visceral\\_omentum'"
      ],
      "text/markdown": [
       "'adipose_visceral_omentum'"
      ],
      "text/plain": [
       "[1] \"adipose_visceral_omentum\""
      ]
     },
     "metadata": {},
     "output_type": "display_data"
    },
    {
     "data": {
      "text/html": [
       "<style>\n",
       ".list-inline {list-style: none; margin:0; padding: 0}\n",
       ".list-inline>li {display: inline-block}\n",
       ".list-inline>li:not(:last-child)::after {content: \"\\00b7\"; padding: 0 .5ex}\n",
       "</style>\n",
       "<ol class=list-inline><li>42484</li><li>12</li></ol>\n"
      ],
      "text/latex": [
       "\\begin{enumerate*}\n",
       "\\item 42484\n",
       "\\item 12\n",
       "\\end{enumerate*}\n"
      ],
      "text/markdown": [
       "1. 42484\n",
       "2. 12\n",
       "\n",
       "\n"
      ],
      "text/plain": [
       "[1] 42484    12"
      ]
     },
     "metadata": {},
     "output_type": "display_data"
    },
    {
     "data": {
      "text/html": [
       "<style>\n",
       ".list-inline {list-style: none; margin:0; padding: 0}\n",
       ".list-inline>li {display: inline-block}\n",
       ".list-inline>li:not(:last-child)::after {content: \"\\00b7\"; padding: 0 .5ex}\n",
       "</style>\n",
       "<ol class=list-inline><li>46</li><li>12</li></ol>\n"
      ],
      "text/latex": [
       "\\begin{enumerate*}\n",
       "\\item 46\n",
       "\\item 12\n",
       "\\end{enumerate*}\n"
      ],
      "text/markdown": [
       "1. 46\n",
       "2. 12\n",
       "\n",
       "\n"
      ],
      "text/plain": [
       "[1] 46 12"
      ]
     },
     "metadata": {},
     "output_type": "display_data"
    },
    {
     "data": {
      "text/html": [
       "<style>\n",
       ".list-inline {list-style: none; margin:0; padding: 0}\n",
       ".list-inline>li {display: inline-block}\n",
       ".list-inline>li:not(:last-child)::after {content: \"\\00b7\"; padding: 0 .5ex}\n",
       "</style>\n",
       "<ol class=list-inline><li>14</li><li>12</li></ol>\n"
      ],
      "text/latex": [
       "\\begin{enumerate*}\n",
       "\\item 14\n",
       "\\item 12\n",
       "\\end{enumerate*}\n"
      ],
      "text/markdown": [
       "1. 14\n",
       "2. 12\n",
       "\n",
       "\n"
      ],
      "text/plain": [
       "[1] 14 12"
      ]
     },
     "metadata": {},
     "output_type": "display_data"
    },
    {
     "data": {
      "text/html": [
       "<style>\n",
       ".list-inline {list-style: none; margin:0; padding: 0}\n",
       ".list-inline>li {display: inline-block}\n",
       ".list-inline>li:not(:last-child)::after {content: \"\\00b7\"; padding: 0 .5ex}\n",
       "</style>\n",
       "<ol class=list-inline><li>32</li><li>12</li></ol>\n"
      ],
      "text/latex": [
       "\\begin{enumerate*}\n",
       "\\item 32\n",
       "\\item 12\n",
       "\\end{enumerate*}\n"
      ],
      "text/markdown": [
       "1. 32\n",
       "2. 12\n",
       "\n",
       "\n"
      ],
      "text/plain": [
       "[1] 32 12"
      ]
     },
     "metadata": {},
     "output_type": "display_data"
    }
   ],
   "source": [
    "name\n",
    "dim(topTable)\n",
    "dim(topTable  [ topTable$abundance != \"non_signif\",  ])\n",
    "dim(topTable  [ ((abs(topTable$logFC > log2(absFoldChange_cutoff)) )  & (topTable$adj.P.Val <= adj.P.Val_threshold )) ,  ])\n",
    "dim(topTable  [ ((abs(topTable$logFC < -log2(absFoldChange_cutoff)) )  & (topTable$adj.P.Val <= adj.P.Val_threshold )) ,  ])"
   ]
  },
  {
   "cell_type": "code",
   "execution_count": 29,
   "metadata": {},
   "outputs": [
    {
     "data": {
      "text/plain": [
       "      \n",
       "       higher lower non_signif\n",
       "  [1,]     14    32      42438"
      ]
     },
     "metadata": {},
     "output_type": "display_data"
    }
   ],
   "source": [
    "expression_abundance <- t(table(topTable$abundance))\n",
    "expression_abundance"
   ]
  },
  {
   "cell_type": "code",
   "execution_count": 30,
   "metadata": {},
   "outputs": [],
   "source": [
    "expression_abundance <- t(table(topTable$abundance))\n",
    "signif <- as.data.frame.matrix(expression_abundance)"
   ]
  },
  {
   "cell_type": "code",
   "execution_count": 31,
   "metadata": {},
   "outputs": [
    {
     "data": {
      "text/html": [
       "<table>\n",
       "<caption>A data.frame: 1 × 3</caption>\n",
       "<thead>\n",
       "\t<tr><th scope=col>higher</th><th scope=col>lower</th><th scope=col>non_signif</th></tr>\n",
       "\t<tr><th scope=col>&lt;int&gt;</th><th scope=col>&lt;int&gt;</th><th scope=col>&lt;int&gt;</th></tr>\n",
       "</thead>\n",
       "<tbody>\n",
       "\t<tr><td>14</td><td>32</td><td>42438</td></tr>\n",
       "</tbody>\n",
       "</table>\n"
      ],
      "text/latex": [
       "A data.frame: 1 × 3\n",
       "\\begin{tabular}{lll}\n",
       " higher & lower & non\\_signif\\\\\n",
       " <int> & <int> & <int>\\\\\n",
       "\\hline\n",
       "\t 14 & 32 & 42438\\\\\n",
       "\\end{tabular}\n"
      ],
      "text/markdown": [
       "\n",
       "A data.frame: 1 × 3\n",
       "\n",
       "| higher &lt;int&gt; | lower &lt;int&gt; | non_signif &lt;int&gt; |\n",
       "|---|---|---|\n",
       "| 14 | 32 | 42438 |\n",
       "\n"
      ],
      "text/plain": [
       "  higher lower non_signif\n",
       "1 14     32    42438     "
      ]
     },
     "metadata": {},
     "output_type": "display_data"
    }
   ],
   "source": [
    "signif"
   ]
  },
  {
   "cell_type": "code",
   "execution_count": 36,
   "metadata": {},
   "outputs": [],
   "source": [
    "annotatedTopTable <- dplyr::left_join(topTable, fromGTF.SE, by = \"ID\")"
   ]
  },
  {
   "cell_type": "code",
   "execution_count": 37,
   "metadata": {},
   "outputs": [
    {
     "data": {
      "text/plain": [
       "\n",
       "    higher      lower non_signif \n",
       "        14         32      42438 "
      ]
     },
     "metadata": {},
     "output_type": "display_data"
    }
   ],
   "source": [
    "table(annotatedTopTable$abundance)"
   ]
  },
  {
   "cell_type": "code",
   "execution_count": 38,
   "metadata": {},
   "outputs": [
    {
     "data": {
      "text/html": [
       "<table>\n",
       "<caption>A data.frame: 6 × 22</caption>\n",
       "<thead>\n",
       "\t<tr><th></th><th scope=col>logFC</th><th scope=col>AveExpr</th><th scope=col>t</th><th scope=col>P.Value</th><th scope=col>adj.P.Val</th><th scope=col>B</th><th scope=col>FoldChange_dummy</th><th scope=col>abs_logFC</th><th scope=col>abundance</th><th scope=col>junctionGeneSymbol</th><th scope=col>⋯</th><th scope=col>GeneID</th><th scope=col>geneSymbol</th><th scope=col>chr</th><th scope=col>strand</th><th scope=col>exonStart_0base</th><th scope=col>exonEnd</th><th scope=col>upstreamES</th><th scope=col>upstreamEE</th><th scope=col>downstreamES</th><th scope=col>downstreamEE</th></tr>\n",
       "\t<tr><th></th><th scope=col>&lt;dbl&gt;</th><th scope=col>&lt;dbl&gt;</th><th scope=col>&lt;dbl&gt;</th><th scope=col>&lt;dbl&gt;</th><th scope=col>&lt;dbl&gt;</th><th scope=col>&lt;dbl&gt;</th><th scope=col>&lt;dbl&gt;</th><th scope=col>&lt;dbl&gt;</th><th scope=col>&lt;chr&gt;</th><th scope=col>&lt;chr&gt;</th><th scope=col>⋯</th><th scope=col>&lt;fct&gt;</th><th scope=col>&lt;fct&gt;</th><th scope=col>&lt;fct&gt;</th><th scope=col>&lt;fct&gt;</th><th scope=col>&lt;int&gt;</th><th scope=col>&lt;int&gt;</th><th scope=col>&lt;int&gt;</th><th scope=col>&lt;int&gt;</th><th scope=col>&lt;int&gt;</th><th scope=col>&lt;int&gt;</th></tr>\n",
       "</thead>\n",
       "<tbody>\n",
       "\t<tr><th scope=row>1</th><td>-7.142389</td><td>0.9941613</td><td>-48.325871</td><td>1.260076e-177</td><td>5.353307e-173</td><td>324.02755</td><td>-141.277585</td><td>7.142389</td><td>lower </td><td>XIST-10149</td><td>⋯</td><td>ENSG00000229807.11</td><td>XIST</td><td>chrX</td><td>-</td><td>73831065</td><td>73831274</td><td>73829067</td><td>73829231</td><td>73833237</td><td>73833374</td></tr>\n",
       "\t<tr><th scope=row>2</th><td>-6.826079</td><td>0.7901787</td><td>-46.608288</td><td>7.328131e-172</td><td>1.556642e-167</td><td>316.71971</td><td>-113.463031</td><td>6.826079</td><td>lower </td><td>XIST-10154</td><td>⋯</td><td>ENSG00000229807.11</td><td>XIST</td><td>chrX</td><td>-</td><td>73831065</td><td>73831206</td><td>73829067</td><td>73829231</td><td>73833237</td><td>73833374</td></tr>\n",
       "\t<tr><th scope=row>3</th><td> 6.584646</td><td>0.8340215</td><td> 43.521422</td><td>3.869817e-161</td><td>5.480177e-157</td><td>297.70972</td><td>  95.978957</td><td>6.584646</td><td>higher</td><td>XIST-10152</td><td>⋯</td><td>ENSG00000229807.11</td><td>XIST</td><td>chrX</td><td>-</td><td>73830622</td><td>73830790</td><td>73829067</td><td>73829231</td><td>73831065</td><td>73831210</td></tr>\n",
       "\t<tr><th scope=row>4</th><td>-2.887104</td><td>1.5312931</td><td>-21.602020</td><td> 5.515682e-71</td><td> 5.858206e-67</td><td>138.21741</td><td>  -7.397839</td><td>2.887104</td><td>lower </td><td>XIST-10150</td><td>⋯</td><td>ENSG00000229807.11</td><td>XIST</td><td>chrX</td><td>-</td><td>73833237</td><td>73833374</td><td>73831065</td><td>73831274</td><td>73837439</td><td>73841474</td></tr>\n",
       "\t<tr><th scope=row>5</th><td>-1.661346</td><td>1.3748820</td><td>-11.289854</td><td> 4.058754e-26</td><td> 3.448643e-22</td><td> 46.00144</td><td>  -3.163114</td><td>1.661346</td><td>lower </td><td>XIST-10155</td><td>⋯</td><td>ENSG00000229807.11</td><td>XIST</td><td>chrX</td><td>-</td><td>73822070</td><td>73822216</td><td>73820655</td><td>73821029</td><td>73826114</td><td>73827984</td></tr>\n",
       "\t<tr><th scope=row>6</th><td>-1.360720</td><td>1.2477198</td><td> -9.942836</td><td> 3.870273e-21</td><td> 2.740411e-17</td><td> 35.51915</td><td>  -2.568132</td><td>1.360720</td><td>lower </td><td>XIST-10151</td><td>⋯</td><td>ENSG00000229807.11</td><td>XIST</td><td>chrX</td><td>-</td><td>73822070</td><td>73822233</td><td>73820655</td><td>73821029</td><td>73826114</td><td>73826301</td></tr>\n",
       "</tbody>\n",
       "</table>\n"
      ],
      "text/latex": [
       "A data.frame: 6 × 22\n",
       "\\begin{tabular}{r|lllllllllllllllllllll}\n",
       "  & logFC & AveExpr & t & P.Value & adj.P.Val & B & FoldChange\\_dummy & abs\\_logFC & abundance & junctionGeneSymbol & ⋯ & GeneID & geneSymbol & chr & strand & exonStart\\_0base & exonEnd & upstreamES & upstreamEE & downstreamES & downstreamEE\\\\\n",
       "  & <dbl> & <dbl> & <dbl> & <dbl> & <dbl> & <dbl> & <dbl> & <dbl> & <chr> & <chr> & ⋯ & <fct> & <fct> & <fct> & <fct> & <int> & <int> & <int> & <int> & <int> & <int>\\\\\n",
       "\\hline\n",
       "\t1 & -7.142389 & 0.9941613 & -48.325871 & 1.260076e-177 & 5.353307e-173 & 324.02755 & -141.277585 & 7.142389 & lower  & XIST-10149 & ⋯ & ENSG00000229807.11 & XIST & chrX & - & 73831065 & 73831274 & 73829067 & 73829231 & 73833237 & 73833374\\\\\n",
       "\t2 & -6.826079 & 0.7901787 & -46.608288 & 7.328131e-172 & 1.556642e-167 & 316.71971 & -113.463031 & 6.826079 & lower  & XIST-10154 & ⋯ & ENSG00000229807.11 & XIST & chrX & - & 73831065 & 73831206 & 73829067 & 73829231 & 73833237 & 73833374\\\\\n",
       "\t3 &  6.584646 & 0.8340215 &  43.521422 & 3.869817e-161 & 5.480177e-157 & 297.70972 &   95.978957 & 6.584646 & higher & XIST-10152 & ⋯ & ENSG00000229807.11 & XIST & chrX & - & 73830622 & 73830790 & 73829067 & 73829231 & 73831065 & 73831210\\\\\n",
       "\t4 & -2.887104 & 1.5312931 & -21.602020 &  5.515682e-71 &  5.858206e-67 & 138.21741 &   -7.397839 & 2.887104 & lower  & XIST-10150 & ⋯ & ENSG00000229807.11 & XIST & chrX & - & 73833237 & 73833374 & 73831065 & 73831274 & 73837439 & 73841474\\\\\n",
       "\t5 & -1.661346 & 1.3748820 & -11.289854 &  4.058754e-26 &  3.448643e-22 &  46.00144 &   -3.163114 & 1.661346 & lower  & XIST-10155 & ⋯ & ENSG00000229807.11 & XIST & chrX & - & 73822070 & 73822216 & 73820655 & 73821029 & 73826114 & 73827984\\\\\n",
       "\t6 & -1.360720 & 1.2477198 &  -9.942836 &  3.870273e-21 &  2.740411e-17 &  35.51915 &   -2.568132 & 1.360720 & lower  & XIST-10151 & ⋯ & ENSG00000229807.11 & XIST & chrX & - & 73822070 & 73822233 & 73820655 & 73821029 & 73826114 & 73826301\\\\\n",
       "\\end{tabular}\n"
      ],
      "text/markdown": [
       "\n",
       "A data.frame: 6 × 22\n",
       "\n",
       "| <!--/--> | logFC &lt;dbl&gt; | AveExpr &lt;dbl&gt; | t &lt;dbl&gt; | P.Value &lt;dbl&gt; | adj.P.Val &lt;dbl&gt; | B &lt;dbl&gt; | FoldChange_dummy &lt;dbl&gt; | abs_logFC &lt;dbl&gt; | abundance &lt;chr&gt; | junctionGeneSymbol &lt;chr&gt; | ⋯ ⋯ | GeneID &lt;fct&gt; | geneSymbol &lt;fct&gt; | chr &lt;fct&gt; | strand &lt;fct&gt; | exonStart_0base &lt;int&gt; | exonEnd &lt;int&gt; | upstreamES &lt;int&gt; | upstreamEE &lt;int&gt; | downstreamES &lt;int&gt; | downstreamEE &lt;int&gt; |\n",
       "|---|---|---|---|---|---|---|---|---|---|---|---|---|---|---|---|---|---|---|---|---|---|\n",
       "| 1 | -7.142389 | 0.9941613 | -48.325871 | 1.260076e-177 | 5.353307e-173 | 324.02755 | -141.277585 | 7.142389 | lower  | XIST-10149 | ⋯ | ENSG00000229807.11 | XIST | chrX | - | 73831065 | 73831274 | 73829067 | 73829231 | 73833237 | 73833374 |\n",
       "| 2 | -6.826079 | 0.7901787 | -46.608288 | 7.328131e-172 | 1.556642e-167 | 316.71971 | -113.463031 | 6.826079 | lower  | XIST-10154 | ⋯ | ENSG00000229807.11 | XIST | chrX | - | 73831065 | 73831206 | 73829067 | 73829231 | 73833237 | 73833374 |\n",
       "| 3 |  6.584646 | 0.8340215 |  43.521422 | 3.869817e-161 | 5.480177e-157 | 297.70972 |   95.978957 | 6.584646 | higher | XIST-10152 | ⋯ | ENSG00000229807.11 | XIST | chrX | - | 73830622 | 73830790 | 73829067 | 73829231 | 73831065 | 73831210 |\n",
       "| 4 | -2.887104 | 1.5312931 | -21.602020 |  5.515682e-71 |  5.858206e-67 | 138.21741 |   -7.397839 | 2.887104 | lower  | XIST-10150 | ⋯ | ENSG00000229807.11 | XIST | chrX | - | 73833237 | 73833374 | 73831065 | 73831274 | 73837439 | 73841474 |\n",
       "| 5 | -1.661346 | 1.3748820 | -11.289854 |  4.058754e-26 |  3.448643e-22 |  46.00144 |   -3.163114 | 1.661346 | lower  | XIST-10155 | ⋯ | ENSG00000229807.11 | XIST | chrX | - | 73822070 | 73822216 | 73820655 | 73821029 | 73826114 | 73827984 |\n",
       "| 6 | -1.360720 | 1.2477198 |  -9.942836 |  3.870273e-21 |  2.740411e-17 |  35.51915 |   -2.568132 | 1.360720 | lower  | XIST-10151 | ⋯ | ENSG00000229807.11 | XIST | chrX | - | 73822070 | 73822233 | 73820655 | 73821029 | 73826114 | 73826301 |\n",
       "\n"
      ],
      "text/plain": [
       "  logFC     AveExpr   t          P.Value       adj.P.Val     B        \n",
       "1 -7.142389 0.9941613 -48.325871 1.260076e-177 5.353307e-173 324.02755\n",
       "2 -6.826079 0.7901787 -46.608288 7.328131e-172 1.556642e-167 316.71971\n",
       "3  6.584646 0.8340215  43.521422 3.869817e-161 5.480177e-157 297.70972\n",
       "4 -2.887104 1.5312931 -21.602020  5.515682e-71  5.858206e-67 138.21741\n",
       "5 -1.661346 1.3748820 -11.289854  4.058754e-26  3.448643e-22  46.00144\n",
       "6 -1.360720 1.2477198  -9.942836  3.870273e-21  2.740411e-17  35.51915\n",
       "  FoldChange_dummy abs_logFC abundance junctionGeneSymbol ⋯ GeneID            \n",
       "1 -141.277585      7.142389  lower     XIST-10149         ⋯ ENSG00000229807.11\n",
       "2 -113.463031      6.826079  lower     XIST-10154         ⋯ ENSG00000229807.11\n",
       "3   95.978957      6.584646  higher    XIST-10152         ⋯ ENSG00000229807.11\n",
       "4   -7.397839      2.887104  lower     XIST-10150         ⋯ ENSG00000229807.11\n",
       "5   -3.163114      1.661346  lower     XIST-10155         ⋯ ENSG00000229807.11\n",
       "6   -2.568132      1.360720  lower     XIST-10151         ⋯ ENSG00000229807.11\n",
       "  geneSymbol chr  strand exonStart_0base exonEnd  upstreamES upstreamEE\n",
       "1 XIST       chrX -      73831065        73831274 73829067   73829231  \n",
       "2 XIST       chrX -      73831065        73831206 73829067   73829231  \n",
       "3 XIST       chrX -      73830622        73830790 73829067   73829231  \n",
       "4 XIST       chrX -      73833237        73833374 73831065   73831274  \n",
       "5 XIST       chrX -      73822070        73822216 73820655   73821029  \n",
       "6 XIST       chrX -      73822070        73822233 73820655   73821029  \n",
       "  downstreamES downstreamEE\n",
       "1 73833237     73833374    \n",
       "2 73833237     73833374    \n",
       "3 73831065     73831210    \n",
       "4 73837439     73841474    \n",
       "5 73826114     73827984    \n",
       "6 73826114     73826301    "
      ]
     },
     "metadata": {},
     "output_type": "display_data"
    }
   ],
   "source": [
    "head(annotatedTopTable)"
   ]
  },
  {
   "cell_type": "markdown",
   "metadata": {},
   "source": [
    "To avoid errors in the cases that we might have none lower or none higher, and the matrix might be missing columns we will create a template data.frame and also add the column that might be missing if lower or higher genes is equal to 0."
   ]
  },
  {
   "cell_type": "code",
   "execution_count": 39,
   "metadata": {},
   "outputs": [
    {
     "data": {
      "text/html": [
       "<table>\n",
       "<caption>A data.frame: 0 × 3</caption>\n",
       "<thead>\n",
       "\t<tr><th scope=col>higher</th><th scope=col>lower</th><th scope=col>non_signif</th></tr>\n",
       "\t<tr><th scope=col>&lt;int&gt;</th><th scope=col>&lt;int&gt;</th><th scope=col>&lt;int&gt;</th></tr>\n",
       "</thead>\n",
       "<tbody>\n",
       "</tbody>\n",
       "</table>\n"
      ],
      "text/latex": [
       "A data.frame: 0 × 3\n",
       "\\begin{tabular}{lll}\n",
       " higher & lower & non\\_signif\\\\\n",
       " <int> & <int> & <int>\\\\\n",
       "\\hline\n",
       "\\end{tabular}\n"
      ],
      "text/markdown": [
       "\n",
       "A data.frame: 0 × 3\n",
       "\n",
       "| higher &lt;int&gt; | lower &lt;int&gt; | non_signif &lt;int&gt; |\n",
       "|---|---|---|\n",
       "\n"
      ],
      "text/plain": [
       "     higher lower non_signif"
      ]
     },
     "metadata": {},
     "output_type": "display_data"
    }
   ],
   "source": [
    "signif_template <- structure(list(higher = integer(0), \n",
    "                                   lower = integer(0), \n",
    "                                   non_signif = integer(0)), \n",
    "                              row.names = integer(0), class = \"data.frame\")\n",
    "signif_template"
   ]
  },
  {
   "cell_type": "markdown",
   "metadata": {},
   "source": [
    "In the for-loop we will check if both columns `lower`, `higher` are present, if not add the column and zero count to create the expected shape of the dataframe:\n",
    "\n",
    "```R\n",
    "signif <- as.data.frame.matrix(expression_abundance)\n",
    "if(! (\"higher\" %in% colnames(signif))) { \n",
    "    \n",
    "    signif$higher <- 0\n",
    "}\n",
    "if(! (\"lower\" %in% colnames(signif))) { \n",
    "\n",
    "    signif$lower <- 0\n",
    "}\n",
    "```"
   ]
  },
  {
   "cell_type": "markdown",
   "metadata": {},
   "source": [
    "Now we can add some more summary statistics eg percentage of genes lower, higher or non-significantly different, "
   ]
  },
  {
   "cell_type": "code",
   "execution_count": 40,
   "metadata": {},
   "outputs": [
    {
     "data": {
      "text/html": [
       "<table>\n",
       "<caption>A data.frame: 1 × 7</caption>\n",
       "<thead>\n",
       "\t<tr><th scope=col>tissue</th><th scope=col>non_signif</th><th scope=col>lower</th><th scope=col>higher</th><th scope=col>% lower</th><th scope=col>% higher</th><th scope=col>% non-signif</th></tr>\n",
       "\t<tr><th scope=col>&lt;chr&gt;</th><th scope=col>&lt;int&gt;</th><th scope=col>&lt;int&gt;</th><th scope=col>&lt;int&gt;</th><th scope=col>&lt;dbl&gt;</th><th scope=col>&lt;dbl&gt;</th><th scope=col>&lt;dbl&gt;</th></tr>\n",
       "</thead>\n",
       "<tbody>\n",
       "\t<tr><td>adipose_visceral_omentum</td><td>42438</td><td>32</td><td>14</td><td>0.08</td><td>0.03</td><td>99.89</td></tr>\n",
       "</tbody>\n",
       "</table>\n"
      ],
      "text/latex": [
       "A data.frame: 1 × 7\n",
       "\\begin{tabular}{lllllll}\n",
       " tissue & non\\_signif & lower & higher & \\% lower & \\% higher & \\% non-signif\\\\\n",
       " <chr> & <int> & <int> & <int> & <dbl> & <dbl> & <dbl>\\\\\n",
       "\\hline\n",
       "\t adipose\\_visceral\\_omentum & 42438 & 32 & 14 & 0.08 & 0.03 & 99.89\\\\\n",
       "\\end{tabular}\n"
      ],
      "text/markdown": [
       "\n",
       "A data.frame: 1 × 7\n",
       "\n",
       "| tissue &lt;chr&gt; | non_signif &lt;int&gt; | lower &lt;int&gt; | higher &lt;int&gt; | % lower &lt;dbl&gt; | % higher &lt;dbl&gt; | % non-signif &lt;dbl&gt; |\n",
       "|---|---|---|---|---|---|---|\n",
       "| adipose_visceral_omentum | 42438 | 32 | 14 | 0.08 | 0.03 | 99.89 |\n",
       "\n"
      ],
      "text/plain": [
       "  tissue                   non_signif lower higher % lower % higher\n",
       "1 adipose_visceral_omentum 42438      32    14     0.08    0.03    \n",
       "  % non-signif\n",
       "1 99.89       "
      ]
     },
     "metadata": {},
     "output_type": "display_data"
    }
   ],
   "source": [
    "signif$tissue <- name\n",
    "signif$sum    <- signif$non_signif + signif$higher + signif$lower\n",
    "toKeepInOrder <- c(\"tissue\", \"non_signif\", \"lower\", \"higher\", \"% lower\", \"% higher\", \"% non-signif\")\n",
    "signif$`% higher`     <-  round(signif$higher / signif$sum  * 100, 2)\n",
    "signif$`% lower`      <-  round(signif$lower / signif$sum  * 100, 2)\n",
    "signif$`% non-signif` <-  round(signif$non_signif / signif$sum  * 100, 2)\n",
    "signif <- signif[, toKeepInOrder]\n",
    "signif"
   ]
  },
  {
   "cell_type": "markdown",
   "metadata": {},
   "source": [
    "# Summary table of differentially expressed genes between male and female acrosss tissues\n",
    "\n",
    "Above we demonstrate for one example limma `topTable`. Let's now iterate over all tissue and create an aggregated table of counts of differentially expressed or non-significantly altered between the two sexes."
   ]
  },
  {
   "cell_type": "code",
   "execution_count": 43,
   "metadata": {},
   "outputs": [],
   "source": [
    "summary_signif <-structure(list(tissue = character(0), \n",
    "                            non_signif = integer(0), \n",
    "                            lower = integer(0),\n",
    "                            higher = integer(0),\n",
    "                            `% lower` = numeric(0), \n",
    "                            `% higher` = numeric(0), \n",
    "                            `% non-signif` = numeric(0)), \n",
    "                       row.names = integer(0), \n",
    "                       class = \"data.frame\")\n",
    "\n",
    "signif_template <- structure(list(higher = integer(0), \n",
    "                                   lower = integer(0), \n",
    "                                   non_signif = integer(0)), \n",
    "                              row.names = integer(0), class = \"data.frame\")\n",
    "\n",
    "signif_per_tissue <- structure(list(logFC = numeric(0), AveExpr = numeric(0), t = numeric(0), \n",
    "                        P.Value = numeric(0), adj.P.Val = numeric(0), B = numeric(0), \n",
    "                        initial_gene_id = character(0), gene_id = character(0), abs_logFC = numeric(0), \n",
    "                        FoldChange_dummy = numeric(0), abundance = character(0), \n",
    "                        GeneSymbol = character(0), Chromosome = character(0), Class = character(0), \n",
    "                        Strand = character(0), tissue = character(0)), row.names = integer(0), class = \"data.frame\")\n",
    "\n",
    "\n",
    "for (i in seq_along(all_topTables)){\n",
    "    topTable <- all_topTables[[i]]\n",
    "    topTable$junctionGeneSymbol <- rownames(topTable)\n",
    "    topTable$symbol  <- sub(\"-[^-]+$\",\"\", topTable$junctionGeneSymbol)\n",
    "    topTable$ID <- sub(\"^.+-\", \"\", topTable$junctionGeneSymbol)  \n",
    "    topTable$splice_type  <- \"SE\"\n",
    "    topTable$featurespace <- \"sex_as_events\"\n",
    "    topTable <- dplyr::left_join(topTable, fromGTF.SE, by = \"ID\")\n",
    "    name     <- names(all_topTables)[i] \n",
    "    # replacing NA p-values with p-value = 1\n",
    "    topTable$P.Value[is.na(topTable$P.Value)]     <- 1; \n",
    "    topTable$adj.P.Val[is.na(topTable$adj.P.Val)] <- 1;\n",
    "    topTable$abs_logFC <- abs(topTable$logFC)\n",
    "    # Add helper variable dummy `FoldChange` variable. Use 2 as base of log, because this is the default from limma\n",
    "    # The following statement calculates a dummy fold change (how many times higher or lower)\n",
    "    # The minus symbol is a convention symbol only! to express eg. a fold change of 0.25 as -4, 4 times lower\n",
    "    topTable$FoldChange_dummy    <-   ifelse(topTable$logFC > 0, 2 ^ topTable$logFC, -1 / (2 ^ topTable$logFC))                    \n",
    "\n",
    "    # Add helper variable `abs_logFC`.\n",
    "    topTable$abs_logFC <- abs(topTable$logFC)\n",
    "\n",
    "    # Add helper variable `abundance` for up, down, non_signif\n",
    "    topTable$abundance                                                  <- \"non_signif\"\n",
    "    topTable$abundance[ ((topTable$logFC >   log2(absFoldChange_cutoff)) & (topTable$adj.P.Val <= adj.P.Val_threshold )) ]   <- \"higher\"\n",
    "    topTable$abundance[ ((topTable$logFC <  -log2(absFoldChange_cutoff)) & (topTable$adj.P.Val <= adj.P.Val_threshold )) ]   <- \"lower\"\n",
    "    topTable_signif <- topTable[ topTable$abundance != \"non_signif\", ]\n",
    "    topTable_signif$tissue <- name\n",
    "    signif_per_tissue <- rbind(signif_per_tissue, topTable_signif )\n",
    "    data.table::fwrite(file = paste0(\"../data/signif_\", snakecase::to_snake_case(name), \".csv\"), topTable_signif)\n",
    "    expression_abundance <- t(table(topTable$abundance))\n",
    "    signif <- as.data.frame.matrix(expression_abundance)\n",
    "    if(! (\"higher\" %in% colnames(signif))) {\n",
    "        signif$higher <- 0\n",
    "    }\n",
    "    if(! (\"lower\" %in% colnames(signif))) {\n",
    "        signif$lower <- 0\n",
    "    }\n",
    "    signif$tissue <- name\n",
    "    signif$sum    <-   signif$non_signif + signif$higher + signif$lower\n",
    "    toKeepInOrder <- c(\"tissue\", \"non_signif\", \"lower\", \"higher\", \"% lower\", \"% higher\", \"% non-signif\")\n",
    "    signif$`% higher`     <-  round(signif$higher / signif$sum  * 100, 2)\n",
    "    signif$`% lower`      <-  round(signif$lower / signif$sum  * 100, 2)\n",
    "    signif$`% non-signif` <-  round(signif$non_signif / signif$sum  * 100, 2)\n",
    "    signif <- signif[, toKeepInOrder]\n",
    "    summary_signif <- rbind(summary_signif, signif)   \n",
    "}"
   ]
  },
  {
   "cell_type": "code",
   "execution_count": 49,
   "metadata": {},
   "outputs": [
    {
     "data": {
      "text/html": [
       "<table>\n",
       "<caption>A data.frame: 2 × 9</caption>\n",
       "<thead>\n",
       "\t<tr><th></th><th scope=col>tissue</th><th scope=col>non_signif</th><th scope=col>lower</th><th scope=col>higher</th><th scope=col>% lower</th><th scope=col>% higher</th><th scope=col>% non-signif</th><th scope=col>higher in males</th><th scope=col>higher in females</th></tr>\n",
       "\t<tr><th></th><th scope=col>&lt;chr&gt;</th><th scope=col>&lt;int&gt;</th><th scope=col>&lt;int&gt;</th><th scope=col>&lt;int&gt;</th><th scope=col>&lt;dbl&gt;</th><th scope=col>&lt;dbl&gt;</th><th scope=col>&lt;dbl&gt;</th><th scope=col>&lt;int&gt;</th><th scope=col>&lt;int&gt;</th></tr>\n",
       "</thead>\n",
       "<tbody>\n",
       "\t<tr><th scope=row>20</th><td>breast_mammary_tissue                </td><td>39540</td><td>1780</td><td>1164</td><td>4.19</td><td>2.74</td><td>93.07</td><td>1780</td><td>1164</td></tr>\n",
       "\t<tr><th scope=row>16</th><td>brain_nucleus_accumbens_basal_ganglia</td><td>41585</td><td> 742</td><td> 157</td><td>1.75</td><td>0.37</td><td>97.88</td><td> 742</td><td> 157</td></tr>\n",
       "</tbody>\n",
       "</table>\n"
      ],
      "text/latex": [
       "A data.frame: 2 × 9\n",
       "\\begin{tabular}{r|lllllllll}\n",
       "  & tissue & non\\_signif & lower & higher & \\% lower & \\% higher & \\% non-signif & higher in males & higher in females\\\\\n",
       "  & <chr> & <int> & <int> & <int> & <dbl> & <dbl> & <dbl> & <int> & <int>\\\\\n",
       "\\hline\n",
       "\t20 & breast\\_mammary\\_tissue                 & 39540 & 1780 & 1164 & 4.19 & 2.74 & 93.07 & 1780 & 1164\\\\\n",
       "\t16 & brain\\_nucleus\\_accumbens\\_basal\\_ganglia & 41585 &  742 &  157 & 1.75 & 0.37 & 97.88 &  742 &  157\\\\\n",
       "\\end{tabular}\n"
      ],
      "text/markdown": [
       "\n",
       "A data.frame: 2 × 9\n",
       "\n",
       "| <!--/--> | tissue &lt;chr&gt; | non_signif &lt;int&gt; | lower &lt;int&gt; | higher &lt;int&gt; | % lower &lt;dbl&gt; | % higher &lt;dbl&gt; | % non-signif &lt;dbl&gt; | higher in males &lt;int&gt; | higher in females &lt;int&gt; |\n",
       "|---|---|---|---|---|---|---|---|---|---|\n",
       "| 20 | breast_mammary_tissue                 | 39540 | 1780 | 1164 | 4.19 | 2.74 | 93.07 | 1780 | 1164 |\n",
       "| 16 | brain_nucleus_accumbens_basal_ganglia | 41585 |  742 |  157 | 1.75 | 0.37 | 97.88 |  742 |  157 |\n",
       "\n"
      ],
      "text/plain": [
       "   tissue                                non_signif lower higher % lower\n",
       "20 breast_mammary_tissue                 39540      1780  1164   4.19   \n",
       "16 brain_nucleus_accumbens_basal_ganglia 41585       742   157   1.75   \n",
       "   % higher % non-signif higher in males higher in females\n",
       "20 2.74     93.07        1780            1164             \n",
       "16 0.37     97.88         742             157             "
      ]
     },
     "metadata": {},
     "output_type": "display_data"
    },
    {
     "data": {
      "text/html": [
       "<table>\n",
       "<caption>A data.frame: 2 × 25</caption>\n",
       "<thead>\n",
       "\t<tr><th></th><th scope=col>logFC</th><th scope=col>AveExpr</th><th scope=col>t</th><th scope=col>P.Value</th><th scope=col>adj.P.Val</th><th scope=col>B</th><th scope=col>junctionGeneSymbol</th><th scope=col>symbol</th><th scope=col>ID</th><th scope=col>splice_type</th><th scope=col>⋯</th><th scope=col>exonStart_0base</th><th scope=col>exonEnd</th><th scope=col>upstreamES</th><th scope=col>upstreamEE</th><th scope=col>downstreamES</th><th scope=col>downstreamEE</th><th scope=col>abs_logFC</th><th scope=col>FoldChange_dummy</th><th scope=col>abundance</th><th scope=col>tissue</th></tr>\n",
       "\t<tr><th></th><th scope=col>&lt;dbl&gt;</th><th scope=col>&lt;dbl&gt;</th><th scope=col>&lt;dbl&gt;</th><th scope=col>&lt;dbl&gt;</th><th scope=col>&lt;dbl&gt;</th><th scope=col>&lt;dbl&gt;</th><th scope=col>&lt;chr&gt;</th><th scope=col>&lt;chr&gt;</th><th scope=col>&lt;chr&gt;</th><th scope=col>&lt;chr&gt;</th><th scope=col>⋯</th><th scope=col>&lt;int&gt;</th><th scope=col>&lt;int&gt;</th><th scope=col>&lt;int&gt;</th><th scope=col>&lt;int&gt;</th><th scope=col>&lt;int&gt;</th><th scope=col>&lt;int&gt;</th><th scope=col>&lt;dbl&gt;</th><th scope=col>&lt;dbl&gt;</th><th scope=col>&lt;chr&gt;</th><th scope=col>&lt;chr&gt;</th></tr>\n",
       "</thead>\n",
       "<tbody>\n",
       "\t<tr><th scope=row>1</th><td>-7.142389</td><td>0.9941613</td><td>-48.32587</td><td>1.260076e-177</td><td>5.353307e-173</td><td>324.0275</td><td>XIST-10149</td><td>XIST</td><td>10149</td><td>SE</td><td>⋯</td><td>73831065</td><td>73831274</td><td>73829067</td><td>73829231</td><td>73833237</td><td>73833374</td><td>7.142389</td><td>-141.2776</td><td>lower</td><td>adipose_visceral_omentum</td></tr>\n",
       "\t<tr><th scope=row>2</th><td>-6.826079</td><td>0.7901787</td><td>-46.60829</td><td>7.328131e-172</td><td>1.556642e-167</td><td>316.7197</td><td>XIST-10154</td><td>XIST</td><td>10154</td><td>SE</td><td>⋯</td><td>73831065</td><td>73831206</td><td>73829067</td><td>73829231</td><td>73833237</td><td>73833374</td><td>6.826079</td><td>-113.4630</td><td>lower</td><td>adipose_visceral_omentum</td></tr>\n",
       "</tbody>\n",
       "</table>\n"
      ],
      "text/latex": [
       "A data.frame: 2 × 25\n",
       "\\begin{tabular}{r|lllllllllllllllllllll}\n",
       "  & logFC & AveExpr & t & P.Value & adj.P.Val & B & junctionGeneSymbol & symbol & ID & splice\\_type & ⋯ & exonStart\\_0base & exonEnd & upstreamES & upstreamEE & downstreamES & downstreamEE & abs\\_logFC & FoldChange\\_dummy & abundance & tissue\\\\\n",
       "  & <dbl> & <dbl> & <dbl> & <dbl> & <dbl> & <dbl> & <chr> & <chr> & <chr> & <chr> & ⋯ & <int> & <int> & <int> & <int> & <int> & <int> & <dbl> & <dbl> & <chr> & <chr>\\\\\n",
       "\\hline\n",
       "\t1 & -7.142389 & 0.9941613 & -48.32587 & 1.260076e-177 & 5.353307e-173 & 324.0275 & XIST-10149 & XIST & 10149 & SE & ⋯ & 73831065 & 73831274 & 73829067 & 73829231 & 73833237 & 73833374 & 7.142389 & -141.2776 & lower & adipose\\_visceral\\_omentum\\\\\n",
       "\t2 & -6.826079 & 0.7901787 & -46.60829 & 7.328131e-172 & 1.556642e-167 & 316.7197 & XIST-10154 & XIST & 10154 & SE & ⋯ & 73831065 & 73831206 & 73829067 & 73829231 & 73833237 & 73833374 & 6.826079 & -113.4630 & lower & adipose\\_visceral\\_omentum\\\\\n",
       "\\end{tabular}\n"
      ],
      "text/markdown": [
       "\n",
       "A data.frame: 2 × 25\n",
       "\n",
       "| <!--/--> | logFC &lt;dbl&gt; | AveExpr &lt;dbl&gt; | t &lt;dbl&gt; | P.Value &lt;dbl&gt; | adj.P.Val &lt;dbl&gt; | B &lt;dbl&gt; | junctionGeneSymbol &lt;chr&gt; | symbol &lt;chr&gt; | ID &lt;chr&gt; | splice_type &lt;chr&gt; | ⋯ ⋯ | exonStart_0base &lt;int&gt; | exonEnd &lt;int&gt; | upstreamES &lt;int&gt; | upstreamEE &lt;int&gt; | downstreamES &lt;int&gt; | downstreamEE &lt;int&gt; | abs_logFC &lt;dbl&gt; | FoldChange_dummy &lt;dbl&gt; | abundance &lt;chr&gt; | tissue &lt;chr&gt; |\n",
       "|---|---|---|---|---|---|---|---|---|---|---|---|---|---|---|---|---|---|---|---|---|---|\n",
       "| 1 | -7.142389 | 0.9941613 | -48.32587 | 1.260076e-177 | 5.353307e-173 | 324.0275 | XIST-10149 | XIST | 10149 | SE | ⋯ | 73831065 | 73831274 | 73829067 | 73829231 | 73833237 | 73833374 | 7.142389 | -141.2776 | lower | adipose_visceral_omentum |\n",
       "| 2 | -6.826079 | 0.7901787 | -46.60829 | 7.328131e-172 | 1.556642e-167 | 316.7197 | XIST-10154 | XIST | 10154 | SE | ⋯ | 73831065 | 73831206 | 73829067 | 73829231 | 73833237 | 73833374 | 6.826079 | -113.4630 | lower | adipose_visceral_omentum |\n",
       "\n"
      ],
      "text/plain": [
       "  logFC     AveExpr   t         P.Value       adj.P.Val     B       \n",
       "1 -7.142389 0.9941613 -48.32587 1.260076e-177 5.353307e-173 324.0275\n",
       "2 -6.826079 0.7901787 -46.60829 7.328131e-172 1.556642e-167 316.7197\n",
       "  junctionGeneSymbol symbol ID    splice_type ⋯ exonStart_0base exonEnd \n",
       "1 XIST-10149         XIST   10149 SE          ⋯ 73831065        73831274\n",
       "2 XIST-10154         XIST   10154 SE          ⋯ 73831065        73831206\n",
       "  upstreamES upstreamEE downstreamES downstreamEE abs_logFC FoldChange_dummy\n",
       "1 73829067   73829231   73833237     73833374     7.142389  -141.2776       \n",
       "2 73829067   73829231   73833237     73833374     6.826079  -113.4630       \n",
       "  abundance tissue                  \n",
       "1 lower     adipose_visceral_omentum\n",
       "2 lower     adipose_visceral_omentum"
      ]
     },
     "metadata": {},
     "output_type": "display_data"
    }
   ],
   "source": [
    "summary_signif <- summary_signif[order(summary_signif$`% non-signif`), ]\n",
    "head(summary_signif , 2)\n",
    "head(signif_per_tissue, 2)"
   ]
  },
  {
   "cell_type": "markdown",
   "metadata": {},
   "source": [
    "# Defining higher in males or females based on the limma design matrix\n",
    "As we have used 1 for encoding the males and 2 for the females, our *reference level* for the contrast in the expression between males and females is 1, the males.\n",
    "\n",
    "\n",
    "From the `limma` documentation:\n",
    ">The level which is chosen for the *reference level* is the level which is contrasted against. By default, this is simply the first level alphabetically. We can specify that we want group 2 to be the reference level by either using the relevel function [..]\n",
    "\n",
    "By convention, we could say that splicing events with positive log fold change, are higher in females, whereas the opposite holds true for the ones that are observed to have negative log folde change. "
   ]
  },
  {
   "cell_type": "code",
   "execution_count": 53,
   "metadata": {},
   "outputs": [
    {
     "data": {
      "text/html": [
       "<table>\n",
       "<caption>A data.frame: 1 × 9</caption>\n",
       "<thead>\n",
       "\t<tr><th></th><th scope=col>tissue</th><th scope=col>non_signif</th><th scope=col>lower</th><th scope=col>higher</th><th scope=col>% lower</th><th scope=col>% higher</th><th scope=col>% non-signif</th><th scope=col>higher in males</th><th scope=col>higher in females</th></tr>\n",
       "\t<tr><th></th><th scope=col>&lt;chr&gt;</th><th scope=col>&lt;int&gt;</th><th scope=col>&lt;int&gt;</th><th scope=col>&lt;int&gt;</th><th scope=col>&lt;dbl&gt;</th><th scope=col>&lt;dbl&gt;</th><th scope=col>&lt;dbl&gt;</th><th scope=col>&lt;int&gt;</th><th scope=col>&lt;int&gt;</th></tr>\n",
       "</thead>\n",
       "<tbody>\n",
       "\t<tr><th scope=row>3</th><td>artery_aorta</td><td>42339</td><td>105</td><td>40</td><td>0.25</td><td>0.09</td><td>99.66</td><td>105</td><td>40</td></tr>\n",
       "</tbody>\n",
       "</table>\n"
      ],
      "text/latex": [
       "A data.frame: 1 × 9\n",
       "\\begin{tabular}{r|lllllllll}\n",
       "  & tissue & non\\_signif & lower & higher & \\% lower & \\% higher & \\% non-signif & higher in males & higher in females\\\\\n",
       "  & <chr> & <int> & <int> & <int> & <dbl> & <dbl> & <dbl> & <int> & <int>\\\\\n",
       "\\hline\n",
       "\t3 & artery\\_aorta & 42339 & 105 & 40 & 0.25 & 0.09 & 99.66 & 105 & 40\\\\\n",
       "\\end{tabular}\n"
      ],
      "text/markdown": [
       "\n",
       "A data.frame: 1 × 9\n",
       "\n",
       "| <!--/--> | tissue &lt;chr&gt; | non_signif &lt;int&gt; | lower &lt;int&gt; | higher &lt;int&gt; | % lower &lt;dbl&gt; | % higher &lt;dbl&gt; | % non-signif &lt;dbl&gt; | higher in males &lt;int&gt; | higher in females &lt;int&gt; |\n",
       "|---|---|---|---|---|---|---|---|---|---|\n",
       "| 3 | artery_aorta | 42339 | 105 | 40 | 0.25 | 0.09 | 99.66 | 105 | 40 |\n",
       "\n"
      ],
      "text/plain": [
       "  tissue       non_signif lower higher % lower % higher % non-signif\n",
       "3 artery_aorta 42339      105   40     0.25    0.09     99.66       \n",
       "  higher in males higher in females\n",
       "3 105             40               "
      ]
     },
     "metadata": {},
     "output_type": "display_data"
    }
   ],
   "source": [
    "summary_signif$`higher in males`   <- summary_signif$lower\n",
    "summary_signif$`higher in females` <- summary_signif$higher\n",
    "head(summary_signif[summary_signif$tissue == \"artery_aorta\", ])"
   ]
  },
  {
   "cell_type": "markdown",
   "metadata": {},
   "source": [
    "# Preparing the summary table for plotting\n",
    "\n",
    "We will need to aggregate the number of genes in one column in order to be able to plot, and also convert the `Tissue` column to a factor. We will use the `reshape` R package to *melt* the dataframe from a wide to a long version, as described above:"
   ]
  },
  {
   "cell_type": "code",
   "execution_count": 56,
   "metadata": {},
   "outputs": [
    {
     "data": {
      "text/html": [
       "<table>\n",
       "<caption>A data.frame: 2 × 3</caption>\n",
       "<thead>\n",
       "\t<tr><th></th><th scope=col>Tissue</th><th scope=col>Sex Bias</th><th scope=col>Number of Exons</th></tr>\n",
       "\t<tr><th></th><th scope=col>&lt;fct&gt;</th><th scope=col>&lt;fct&gt;</th><th scope=col>&lt;int&gt;</th></tr>\n",
       "</thead>\n",
       "<tbody>\n",
       "\t<tr><th scope=row>4</th><td>artery_aorta</td><td>higher in males  </td><td>105</td></tr>\n",
       "\t<tr><th scope=row>48</th><td>artery_aorta</td><td>higher in females</td><td> 40</td></tr>\n",
       "</tbody>\n",
       "</table>\n"
      ],
      "text/latex": [
       "A data.frame: 2 × 3\n",
       "\\begin{tabular}{r|lll}\n",
       "  & Tissue & Sex Bias & Number of Exons\\\\\n",
       "  & <fct> & <fct> & <int>\\\\\n",
       "\\hline\n",
       "\t4 & artery\\_aorta & higher in males   & 105\\\\\n",
       "\t48 & artery\\_aorta & higher in females &  40\\\\\n",
       "\\end{tabular}\n"
      ],
      "text/markdown": [
       "\n",
       "A data.frame: 2 × 3\n",
       "\n",
       "| <!--/--> | Tissue &lt;fct&gt; | Sex Bias &lt;fct&gt; | Number of Exons &lt;int&gt; |\n",
       "|---|---|---|---|\n",
       "| 4 | artery_aorta | higher in males   | 105 |\n",
       "| 48 | artery_aorta | higher in females |  40 |\n",
       "\n"
      ],
      "text/plain": [
       "   Tissue       Sex Bias          Number of Exons\n",
       "4  artery_aorta higher in males   105            \n",
       "48 artery_aorta higher in females  40            "
      ]
     },
     "metadata": {},
     "output_type": "display_data"
    }
   ],
   "source": [
    "toPlot <- summary_signif[, c( \"tissue\", \"higher in males\", \"higher in females\")]\n",
    "toPlot <- reshape::melt(toPlot, id=c(\"tissue\"))\n",
    "toPlot$tissue <- as.factor(toPlot$tissue)\n",
    "colnames(toPlot) <- c(\"Tissue\", \"Sex Bias\", \"Number of Exons\")\n",
    "head(toPlot[toPlot$Tissue == \"artery_aorta\", ])"
   ]
  },
  {
   "cell_type": "code",
   "execution_count": 47,
   "metadata": {},
   "outputs": [
    {
     "data": {
      "image/png": "[encoded data removed]",
      "text/plain": [
       "plot without title"
      ]
     },
     "metadata": {
      "image/png": {
       "height": 1200,
       "width": 930
      },
      "text/plain": {
       "height": 1200,
       "width": 930
      }
     },
     "output_type": "display_data"
    }
   ],
   "source": [
    "options(repr.plot.width=15.5, repr.plot.height=20)\n",
    "\n",
    "ggplot(toPlot, aes(x = Tissue, y = `Number of Genes`, fill = `Sex Bias`)) + \n",
    "  geom_bar(stat=\"identity\", position = \"dodge\") + \n",
    "  scale_fill_manual (values = c( \"higher in males\" = \"#4A637B\" , \"higher in females\" = \"#f35f71\")) + \n",
    "  \n",
    "  theme(text              = element_text(color = \"#4A637B\", face = \"bold\", family = 'Helvetica')\n",
    "        ,plot.caption     = element_text(size =  12, color = \"#8d99ae\", face = \"plain\", hjust= 1.05) \n",
    "        ,plot.title       = element_text(size =  18, color = \"#2b2d42\", face = \"bold\", hjust= 0.5)\n",
    "        ,axis.text.y      = element_text(angle =  0, size = 10, color = \"#8d99ae\", face = \"bold\", hjust=1.1)\n",
    "        ,axis.text.x      = element_text(angle = 70, size = 12, color = \"#8d99ae\", face = \"bold\", hjust=1.1)\n",
    "        ,axis.title.x     = element_blank()\n",
    "        ,axis.ticks.x     = element_blank()\n",
    "        ,axis.ticks.y     = element_blank()\n",
    "        ,plot.margin      = unit(c(1,1,1,1),\"cm\")\n",
    "        ,panel.background = element_blank()\n",
    "        ,legend.position  = \"right\") +\n",
    "  \n",
    "\n",
    "  geom_text(aes(y = `Number of Genes` + 15, \n",
    "                label = `Number of Genes`),\n",
    "                size = 3,\n",
    "                color     = \"#4A637B\",\n",
    "                position  =  position_dodge(width = 1),\n",
    "                family    = 'Helvetica') +\n",
    "  \n",
    "  labs(title   = \"Number of genes with higher expression in each sex per tissue\\n\",\n",
    "       caption = \"\\nsource: 'The impact of sex on alternative splicing'\\n doi: https://doi.org/10.1101/490904\",\n",
    "       y   = \"\\nNumber of Differentially Expressed Genes\")  + coord_flip()\n",
    "\n"
   ]
  },
  {
   "cell_type": "markdown",
   "metadata": {},
   "source": [
    "# Mutually exclusive sex biased genes (higher expression in one or the other sex only)\n",
    "\n",
    "\n",
    "The dataframe `signif_per_tissue` contains all the information for the genes that were significantly higher in either of the two sexes. WLet's examine how many mutually exclusive genes were found across all examined tissues. Ensembl encodes as `Chromosome` the chromosomal position, so we will create the required variables to retrieve only the chromosome information for producing summary statistics."
   ]
  },
  {
   "cell_type": "code",
   "execution_count": 59,
   "metadata": {},
   "outputs": [
    {
     "name": "stdout",
     "output_type": "stream",
     "text": [
      "c(\"logFC\", \"AveExpr\", \"t\", \"P.Value\", \"adj.P.Val\", \"B\", \"junctionGeneSymbol\", \n",
      "\"symbol\", \"ID\", \"splice_type\", \"featurespace\", \"GeneID\", \"geneSymbol\", \n",
      "\"chr\", \"strand\", \"exonStart_0base\", \"exonEnd\", \"upstreamES\", \n",
      "\"upstreamEE\", \"downstreamES\", \"downstreamEE\", \"abs_logFC\", \"FoldChange_dummy\", \n",
      "\"abundance\", \"tissue\")\n"
     ]
    },
    {
     "data": {
      "text/html": [
       "chrX\n",
       "<details>\n",
       "\t<summary style=display:list-item;cursor:pointer>\n",
       "\t\t<strong>Levels</strong>:\n",
       "\t</summary>\n",
       "\t<style>\n",
       "\t.list-inline {list-style: none; margin:0; padding: 0}\n",
       "\t.list-inline>li {display: inline-block}\n",
       "\t.list-inline>li:not(:last-child)::after {content: \"\\00b7\"; padding: 0 .5ex}\n",
       "\t</style>\n",
       "\t<ol class=list-inline><li>'chr1'</li><li>'chr10'</li><li>'chr11'</li><li>'chr12'</li><li>'chr13'</li><li>'chr14'</li><li>'chr15'</li><li>'chr16'</li><li>'chr17'</li><li>'chr18'</li><li>'chr19'</li><li>'chr2'</li><li>'chr20'</li><li>'chr21'</li><li>'chr22'</li><li>'chr3'</li><li>'chr4'</li><li>'chr5'</li><li>'chr6'</li><li>'chr7'</li><li>'chr8'</li><li>'chr9'</li><li>'chrX'</li><li>'chrY'</li></ol>\n",
       "</details>"
      ],
      "text/latex": [
       "chrX\n",
       "\\emph{Levels}: \\begin{enumerate*}\n",
       "\\item 'chr1'\n",
       "\\item 'chr10'\n",
       "\\item 'chr11'\n",
       "\\item 'chr12'\n",
       "\\item 'chr13'\n",
       "\\item 'chr14'\n",
       "\\item 'chr15'\n",
       "\\item 'chr16'\n",
       "\\item 'chr17'\n",
       "\\item 'chr18'\n",
       "\\item 'chr19'\n",
       "\\item 'chr2'\n",
       "\\item 'chr20'\n",
       "\\item 'chr21'\n",
       "\\item 'chr22'\n",
       "\\item 'chr3'\n",
       "\\item 'chr4'\n",
       "\\item 'chr5'\n",
       "\\item 'chr6'\n",
       "\\item 'chr7'\n",
       "\\item 'chr8'\n",
       "\\item 'chr9'\n",
       "\\item 'chrX'\n",
       "\\item 'chrY'\n",
       "\\end{enumerate*}\n"
      ],
      "text/markdown": [
       "chrX\n",
       "**Levels**: 1. 'chr1'\n",
       "2. 'chr10'\n",
       "3. 'chr11'\n",
       "4. 'chr12'\n",
       "5. 'chr13'\n",
       "6. 'chr14'\n",
       "7. 'chr15'\n",
       "8. 'chr16'\n",
       "9. 'chr17'\n",
       "10. 'chr18'\n",
       "11. 'chr19'\n",
       "12. 'chr2'\n",
       "13. 'chr20'\n",
       "14. 'chr21'\n",
       "15. 'chr22'\n",
       "16. 'chr3'\n",
       "17. 'chr4'\n",
       "18. 'chr5'\n",
       "19. 'chr6'\n",
       "20. 'chr7'\n",
       "21. 'chr8'\n",
       "22. 'chr9'\n",
       "23. 'chrX'\n",
       "24. 'chrY'\n",
       "\n",
       "\n"
      ],
      "text/plain": [
       "     [,1]\n",
       "[1,] chrX\n",
       "24 Levels: chr1 chr10 chr11 chr12 chr13 chr14 chr15 chr16 chr17 chr18 ... chrY"
      ]
     },
     "metadata": {},
     "output_type": "display_data"
    }
   ],
   "source": [
    "dput(colnames(signif_per_tissue))\n",
    "t(head(signif_per_tissue$chr,1))"
   ]
  },
  {
   "cell_type": "code",
   "execution_count": 74,
   "metadata": {},
   "outputs": [
    {
     "data": {
      "text/html": [
       "<table>\n",
       "<caption>A data.frame: 6 × 28</caption>\n",
       "<thead>\n",
       "\t<tr><th></th><th scope=col>logFC</th><th scope=col>AveExpr</th><th scope=col>t</th><th scope=col>P.Value</th><th scope=col>adj.P.Val</th><th scope=col>B</th><th scope=col>junctionGeneSymbol</th><th scope=col>symbol</th><th scope=col>ID</th><th scope=col>splice_type</th><th scope=col>⋯</th><th scope=col>upstreamEE</th><th scope=col>downstreamES</th><th scope=col>downstreamEE</th><th scope=col>abs_logFC</th><th scope=col>FoldChange_dummy</th><th scope=col>abundance</th><th scope=col>tissue</th><th scope=col>Chromosomal_Position</th><th scope=col>Chromosome</th><th scope=col>higher_in</th></tr>\n",
       "\t<tr><th></th><th scope=col>&lt;dbl&gt;</th><th scope=col>&lt;dbl&gt;</th><th scope=col>&lt;dbl&gt;</th><th scope=col>&lt;dbl&gt;</th><th scope=col>&lt;dbl&gt;</th><th scope=col>&lt;dbl&gt;</th><th scope=col>&lt;chr&gt;</th><th scope=col>&lt;chr&gt;</th><th scope=col>&lt;chr&gt;</th><th scope=col>&lt;chr&gt;</th><th scope=col>⋯</th><th scope=col>&lt;int&gt;</th><th scope=col>&lt;int&gt;</th><th scope=col>&lt;int&gt;</th><th scope=col>&lt;dbl&gt;</th><th scope=col>&lt;dbl&gt;</th><th scope=col>&lt;chr&gt;</th><th scope=col>&lt;chr&gt;</th><th scope=col>&lt;fct&gt;</th><th scope=col>&lt;fct&gt;</th><th scope=col>&lt;chr&gt;</th></tr>\n",
       "</thead>\n",
       "<tbody>\n",
       "\t<tr><th scope=row>1</th><td>-7.142389</td><td>0.9941613</td><td>-48.325871</td><td>1.260076e-177</td><td>5.353307e-173</td><td>324.02755</td><td>XIST-10149</td><td>XIST</td><td>10149</td><td>SE</td><td>⋯</td><td>73829231</td><td>73833237</td><td>73833374</td><td>7.142389</td><td>-141.277585</td><td>lower </td><td>adipose_visceral_omentum</td><td>chrX</td><td>chrX</td><td>males  </td></tr>\n",
       "\t<tr><th scope=row>2</th><td>-6.826079</td><td>0.7901787</td><td>-46.608288</td><td>7.328131e-172</td><td>1.556642e-167</td><td>316.71971</td><td>XIST-10154</td><td>XIST</td><td>10154</td><td>SE</td><td>⋯</td><td>73829231</td><td>73833237</td><td>73833374</td><td>6.826079</td><td>-113.463031</td><td>lower </td><td>adipose_visceral_omentum</td><td>chrX</td><td>chrX</td><td>males  </td></tr>\n",
       "\t<tr><th scope=row>3</th><td> 6.584646</td><td>0.8340215</td><td> 43.521422</td><td>3.869817e-161</td><td>5.480177e-157</td><td>297.70972</td><td>XIST-10152</td><td>XIST</td><td>10152</td><td>SE</td><td>⋯</td><td>73829231</td><td>73831065</td><td>73831210</td><td>6.584646</td><td>  95.978957</td><td>higher</td><td>adipose_visceral_omentum</td><td>chrX</td><td>chrX</td><td>females</td></tr>\n",
       "\t<tr><th scope=row>4</th><td>-2.887104</td><td>1.5312931</td><td>-21.602020</td><td> 5.515682e-71</td><td> 5.858206e-67</td><td>138.21741</td><td>XIST-10150</td><td>XIST</td><td>10150</td><td>SE</td><td>⋯</td><td>73831274</td><td>73837439</td><td>73841474</td><td>2.887104</td><td>  -7.397839</td><td>lower </td><td>adipose_visceral_omentum</td><td>chrX</td><td>chrX</td><td>males  </td></tr>\n",
       "\t<tr><th scope=row>5</th><td>-1.661346</td><td>1.3748820</td><td>-11.289854</td><td> 4.058754e-26</td><td> 3.448643e-22</td><td> 46.00144</td><td>XIST-10155</td><td>XIST</td><td>10155</td><td>SE</td><td>⋯</td><td>73821029</td><td>73826114</td><td>73827984</td><td>1.661346</td><td>  -3.163114</td><td>lower </td><td>adipose_visceral_omentum</td><td>chrX</td><td>chrX</td><td>males  </td></tr>\n",
       "\t<tr><th scope=row>6</th><td>-1.360720</td><td>1.2477198</td><td> -9.942836</td><td> 3.870273e-21</td><td> 2.740411e-17</td><td> 35.51915</td><td>XIST-10151</td><td>XIST</td><td>10151</td><td>SE</td><td>⋯</td><td>73821029</td><td>73826114</td><td>73826301</td><td>1.360720</td><td>  -2.568132</td><td>lower </td><td>adipose_visceral_omentum</td><td>chrX</td><td>chrX</td><td>males  </td></tr>\n",
       "</tbody>\n",
       "</table>\n"
      ],
      "text/latex": [
       "A data.frame: 6 × 28\n",
       "\\begin{tabular}{r|lllllllllllllllllllll}\n",
       "  & logFC & AveExpr & t & P.Value & adj.P.Val & B & junctionGeneSymbol & symbol & ID & splice\\_type & ⋯ & upstreamEE & downstreamES & downstreamEE & abs\\_logFC & FoldChange\\_dummy & abundance & tissue & Chromosomal\\_Position & Chromosome & higher\\_in\\\\\n",
       "  & <dbl> & <dbl> & <dbl> & <dbl> & <dbl> & <dbl> & <chr> & <chr> & <chr> & <chr> & ⋯ & <int> & <int> & <int> & <dbl> & <dbl> & <chr> & <chr> & <fct> & <fct> & <chr>\\\\\n",
       "\\hline\n",
       "\t1 & -7.142389 & 0.9941613 & -48.325871 & 1.260076e-177 & 5.353307e-173 & 324.02755 & XIST-10149 & XIST & 10149 & SE & ⋯ & 73829231 & 73833237 & 73833374 & 7.142389 & -141.277585 & lower  & adipose\\_visceral\\_omentum & chrX & chrX & males  \\\\\n",
       "\t2 & -6.826079 & 0.7901787 & -46.608288 & 7.328131e-172 & 1.556642e-167 & 316.71971 & XIST-10154 & XIST & 10154 & SE & ⋯ & 73829231 & 73833237 & 73833374 & 6.826079 & -113.463031 & lower  & adipose\\_visceral\\_omentum & chrX & chrX & males  \\\\\n",
       "\t3 &  6.584646 & 0.8340215 &  43.521422 & 3.869817e-161 & 5.480177e-157 & 297.70972 & XIST-10152 & XIST & 10152 & SE & ⋯ & 73829231 & 73831065 & 73831210 & 6.584646 &   95.978957 & higher & adipose\\_visceral\\_omentum & chrX & chrX & females\\\\\n",
       "\t4 & -2.887104 & 1.5312931 & -21.602020 &  5.515682e-71 &  5.858206e-67 & 138.21741 & XIST-10150 & XIST & 10150 & SE & ⋯ & 73831274 & 73837439 & 73841474 & 2.887104 &   -7.397839 & lower  & adipose\\_visceral\\_omentum & chrX & chrX & males  \\\\\n",
       "\t5 & -1.661346 & 1.3748820 & -11.289854 &  4.058754e-26 &  3.448643e-22 &  46.00144 & XIST-10155 & XIST & 10155 & SE & ⋯ & 73821029 & 73826114 & 73827984 & 1.661346 &   -3.163114 & lower  & adipose\\_visceral\\_omentum & chrX & chrX & males  \\\\\n",
       "\t6 & -1.360720 & 1.2477198 &  -9.942836 &  3.870273e-21 &  2.740411e-17 &  35.51915 & XIST-10151 & XIST & 10151 & SE & ⋯ & 73821029 & 73826114 & 73826301 & 1.360720 &   -2.568132 & lower  & adipose\\_visceral\\_omentum & chrX & chrX & males  \\\\\n",
       "\\end{tabular}\n"
      ],
      "text/markdown": [
       "\n",
       "A data.frame: 6 × 28\n",
       "\n",
       "| <!--/--> | logFC &lt;dbl&gt; | AveExpr &lt;dbl&gt; | t &lt;dbl&gt; | P.Value &lt;dbl&gt; | adj.P.Val &lt;dbl&gt; | B &lt;dbl&gt; | junctionGeneSymbol &lt;chr&gt; | symbol &lt;chr&gt; | ID &lt;chr&gt; | splice_type &lt;chr&gt; | ⋯ ⋯ | upstreamEE &lt;int&gt; | downstreamES &lt;int&gt; | downstreamEE &lt;int&gt; | abs_logFC &lt;dbl&gt; | FoldChange_dummy &lt;dbl&gt; | abundance &lt;chr&gt; | tissue &lt;chr&gt; | Chromosomal_Position &lt;fct&gt; | Chromosome &lt;fct&gt; | higher_in &lt;chr&gt; |\n",
       "|---|---|---|---|---|---|---|---|---|---|---|---|---|---|---|---|---|---|---|---|---|---|\n",
       "| 1 | -7.142389 | 0.9941613 | -48.325871 | 1.260076e-177 | 5.353307e-173 | 324.02755 | XIST-10149 | XIST | 10149 | SE | ⋯ | 73829231 | 73833237 | 73833374 | 7.142389 | -141.277585 | lower  | adipose_visceral_omentum | chrX | chrX | males   |\n",
       "| 2 | -6.826079 | 0.7901787 | -46.608288 | 7.328131e-172 | 1.556642e-167 | 316.71971 | XIST-10154 | XIST | 10154 | SE | ⋯ | 73829231 | 73833237 | 73833374 | 6.826079 | -113.463031 | lower  | adipose_visceral_omentum | chrX | chrX | males   |\n",
       "| 3 |  6.584646 | 0.8340215 |  43.521422 | 3.869817e-161 | 5.480177e-157 | 297.70972 | XIST-10152 | XIST | 10152 | SE | ⋯ | 73829231 | 73831065 | 73831210 | 6.584646 |   95.978957 | higher | adipose_visceral_omentum | chrX | chrX | females |\n",
       "| 4 | -2.887104 | 1.5312931 | -21.602020 |  5.515682e-71 |  5.858206e-67 | 138.21741 | XIST-10150 | XIST | 10150 | SE | ⋯ | 73831274 | 73837439 | 73841474 | 2.887104 |   -7.397839 | lower  | adipose_visceral_omentum | chrX | chrX | males   |\n",
       "| 5 | -1.661346 | 1.3748820 | -11.289854 |  4.058754e-26 |  3.448643e-22 |  46.00144 | XIST-10155 | XIST | 10155 | SE | ⋯ | 73821029 | 73826114 | 73827984 | 1.661346 |   -3.163114 | lower  | adipose_visceral_omentum | chrX | chrX | males   |\n",
       "| 6 | -1.360720 | 1.2477198 |  -9.942836 |  3.870273e-21 |  2.740411e-17 |  35.51915 | XIST-10151 | XIST | 10151 | SE | ⋯ | 73821029 | 73826114 | 73826301 | 1.360720 |   -2.568132 | lower  | adipose_visceral_omentum | chrX | chrX | males   |\n",
       "\n"
      ],
      "text/plain": [
       "  logFC     AveExpr   t          P.Value       adj.P.Val     B        \n",
       "1 -7.142389 0.9941613 -48.325871 1.260076e-177 5.353307e-173 324.02755\n",
       "2 -6.826079 0.7901787 -46.608288 7.328131e-172 1.556642e-167 316.71971\n",
       "3  6.584646 0.8340215  43.521422 3.869817e-161 5.480177e-157 297.70972\n",
       "4 -2.887104 1.5312931 -21.602020  5.515682e-71  5.858206e-67 138.21741\n",
       "5 -1.661346 1.3748820 -11.289854  4.058754e-26  3.448643e-22  46.00144\n",
       "6 -1.360720 1.2477198  -9.942836  3.870273e-21  2.740411e-17  35.51915\n",
       "  junctionGeneSymbol symbol ID    splice_type ⋯ upstreamEE downstreamES\n",
       "1 XIST-10149         XIST   10149 SE          ⋯ 73829231   73833237    \n",
       "2 XIST-10154         XIST   10154 SE          ⋯ 73829231   73833237    \n",
       "3 XIST-10152         XIST   10152 SE          ⋯ 73829231   73831065    \n",
       "4 XIST-10150         XIST   10150 SE          ⋯ 73831274   73837439    \n",
       "5 XIST-10155         XIST   10155 SE          ⋯ 73821029   73826114    \n",
       "6 XIST-10151         XIST   10151 SE          ⋯ 73821029   73826114    \n",
       "  downstreamEE abs_logFC FoldChange_dummy abundance tissue                  \n",
       "1 73833374     7.142389  -141.277585      lower     adipose_visceral_omentum\n",
       "2 73833374     6.826079  -113.463031      lower     adipose_visceral_omentum\n",
       "3 73831210     6.584646    95.978957      higher    adipose_visceral_omentum\n",
       "4 73841474     2.887104    -7.397839      lower     adipose_visceral_omentum\n",
       "5 73827984     1.661346    -3.163114      lower     adipose_visceral_omentum\n",
       "6 73826301     1.360720    -2.568132      lower     adipose_visceral_omentum\n",
       "  Chromosomal_Position Chromosome higher_in\n",
       "1 chrX                 chrX       males    \n",
       "2 chrX                 chrX       males    \n",
       "3 chrX                 chrX       females  \n",
       "4 chrX                 chrX       males    \n",
       "5 chrX                 chrX       males    \n",
       "6 chrX                 chrX       males    "
      ]
     },
     "metadata": {},
     "output_type": "display_data"
    }
   ],
   "source": [
    "chromosome_column <- \"chr\"\n",
    "signif_per_tissue$Chromosome <-  signif_per_tissue[[chromosome_column]]\n",
    "signif_per_tissue$higher_in  <- 0\n",
    "signif_per_tissue$higher_in[(signif_per_tissue$abundance == \"lower\" )] <- \"males\"\n",
    "signif_per_tissue$higher_in[(signif_per_tissue$abundance == \"higher\" )] <- \"females\"\n",
    "toKeepInOrder <- colnames(signif_per_tissue)\n",
    "signif_per_tissue <- signif_per_tissue[, toKeepInOrder]\n",
    "head(signif_per_tissue)"
   ]
  },
  {
   "cell_type": "markdown",
   "metadata": {},
   "source": [
    "# Examine mutually exclusive genes upregulated in each sex"
   ]
  },
  {
   "cell_type": "code",
   "execution_count": 75,
   "metadata": {},
   "outputs": [
    {
     "data": {
      "text/html": [
       "3202"
      ],
      "text/latex": [
       "3202"
      ],
      "text/markdown": [
       "3202"
      ],
      "text/plain": [
       "[1] 3202"
      ]
     },
     "metadata": {},
     "output_type": "display_data"
    },
    {
     "data": {
      "text/html": [
       "1725"
      ],
      "text/latex": [
       "1725"
      ],
      "text/markdown": [
       "1725"
      ],
      "text/plain": [
       "[1] 1725"
      ]
     },
     "metadata": {},
     "output_type": "display_data"
    }
   ],
   "source": [
    "feature_id_column <- \"junctionGeneSymbol\"\n",
    "female_biased <- unique(signif_per_tissue[[feature_id_column]] [ signif_per_tissue$higher_in == \"females\" ] )\n",
    "male_biased   <- unique(signif_per_tissue[[feature_id_column]] [ signif_per_tissue$higher_in == \"males\"  ] )\n",
    "\n",
    "length(male_biased)\n",
    "length(female_biased)"
   ]
  },
  {
   "cell_type": "code",
   "execution_count": 76,
   "metadata": {},
   "outputs": [
    {
     "data": {
      "text/html": [
       "82"
      ],
      "text/latex": [
       "82"
      ],
      "text/markdown": [
       "82"
      ],
      "text/plain": [
       "[1] 82"
      ]
     },
     "metadata": {},
     "output_type": "display_data"
    },
    {
     "data": {
      "text/html": [
       "82"
      ],
      "text/latex": [
       "82"
      ],
      "text/markdown": [
       "82"
      ],
      "text/plain": [
       "[1] 82"
      ]
     },
     "metadata": {},
     "output_type": "display_data"
    }
   ],
   "source": [
    "## Present in both\n",
    "\n",
    "length((intersect(male_biased, female_biased)))\n",
    "length((intersect(female_biased, male_biased)))\n",
    "\n",
    "intersect <- (intersect(male_biased, female_biased))\n"
   ]
  },
  {
   "cell_type": "code",
   "execution_count": 77,
   "metadata": {},
   "outputs": [
    {
     "data": {
      "text/html": [
       "3120"
      ],
      "text/latex": [
       "3120"
      ],
      "text/markdown": [
       "3120"
      ],
      "text/plain": [
       "[1] 3120"
      ]
     },
     "metadata": {},
     "output_type": "display_data"
    },
    {
     "data": {
      "text/html": [
       "1643"
      ],
      "text/latex": [
       "1643"
      ],
      "text/markdown": [
       "1643"
      ],
      "text/plain": [
       "[1] 1643"
      ]
     },
     "metadata": {},
     "output_type": "display_data"
    }
   ],
   "source": [
    "## Only in males\n",
    "length(male_biased[! (male_biased %in% intersect)])\n",
    "\n",
    "## Only females\n",
    "length(female_biased[! (female_biased %in% intersect)])"
   ]
  },
  {
   "cell_type": "code",
   "execution_count": 98,
   "metadata": {},
   "outputs": [
    {
     "data": {
      "text/html": [
       "<table>\n",
       "<caption>A data.frame: 4 × 28</caption>\n",
       "<thead>\n",
       "\t<tr><th></th><th scope=col>logFC</th><th scope=col>AveExpr</th><th scope=col>t</th><th scope=col>P.Value</th><th scope=col>adj.P.Val</th><th scope=col>B</th><th scope=col>junctionGeneSymbol</th><th scope=col>symbol</th><th scope=col>ID</th><th scope=col>splice_type</th><th scope=col>⋯</th><th scope=col>upstreamEE</th><th scope=col>downstreamES</th><th scope=col>downstreamEE</th><th scope=col>abs_logFC</th><th scope=col>FoldChange_dummy</th><th scope=col>abundance</th><th scope=col>tissue</th><th scope=col>Chromosomal_Position</th><th scope=col>Chromosome</th><th scope=col>higher_in</th></tr>\n",
       "\t<tr><th></th><th scope=col>&lt;dbl&gt;</th><th scope=col>&lt;dbl&gt;</th><th scope=col>&lt;dbl&gt;</th><th scope=col>&lt;dbl&gt;</th><th scope=col>&lt;dbl&gt;</th><th scope=col>&lt;dbl&gt;</th><th scope=col>&lt;chr&gt;</th><th scope=col>&lt;chr&gt;</th><th scope=col>&lt;chr&gt;</th><th scope=col>&lt;chr&gt;</th><th scope=col>⋯</th><th scope=col>&lt;int&gt;</th><th scope=col>&lt;int&gt;</th><th scope=col>&lt;int&gt;</th><th scope=col>&lt;dbl&gt;</th><th scope=col>&lt;dbl&gt;</th><th scope=col>&lt;chr&gt;</th><th scope=col>&lt;chr&gt;</th><th scope=col>&lt;fct&gt;</th><th scope=col>&lt;fct&gt;</th><th scope=col>&lt;fct&gt;</th></tr>\n",
       "</thead>\n",
       "<tbody>\n",
       "\t<tr><th scope=row>1</th><td>-7.142389</td><td>0.9941613</td><td>-48.32587</td><td>1.260076e-177</td><td>5.353307e-173</td><td>324.02755</td><td>XIST-10149</td><td>XIST</td><td>10149</td><td>SE</td><td>⋯</td><td>73829231</td><td>73833237</td><td>73833374</td><td>7.142389</td><td>-141.277585</td><td>lower</td><td>adipose_visceral_omentum</td><td>chrX</td><td>chrX</td><td>males</td></tr>\n",
       "\t<tr><th scope=row>2</th><td>-6.826079</td><td>0.7901787</td><td>-46.60829</td><td>7.328131e-172</td><td>1.556642e-167</td><td>316.71971</td><td>XIST-10154</td><td>XIST</td><td>10154</td><td>SE</td><td>⋯</td><td>73829231</td><td>73833237</td><td>73833374</td><td>6.826079</td><td>-113.463031</td><td>lower</td><td>adipose_visceral_omentum</td><td>chrX</td><td>chrX</td><td>males</td></tr>\n",
       "\t<tr><th scope=row>4</th><td>-2.887104</td><td>1.5312931</td><td>-21.60202</td><td> 5.515682e-71</td><td> 5.858206e-67</td><td>138.21741</td><td>XIST-10150</td><td>XIST</td><td>10150</td><td>SE</td><td>⋯</td><td>73831274</td><td>73837439</td><td>73841474</td><td>2.887104</td><td>  -7.397839</td><td>lower</td><td>adipose_visceral_omentum</td><td>chrX</td><td>chrX</td><td>males</td></tr>\n",
       "\t<tr><th scope=row>5</th><td>-1.661346</td><td>1.3748820</td><td>-11.28985</td><td> 4.058754e-26</td><td> 3.448643e-22</td><td> 46.00144</td><td>XIST-10155</td><td>XIST</td><td>10155</td><td>SE</td><td>⋯</td><td>73821029</td><td>73826114</td><td>73827984</td><td>1.661346</td><td>  -3.163114</td><td>lower</td><td>adipose_visceral_omentum</td><td>chrX</td><td>chrX</td><td>males</td></tr>\n",
       "</tbody>\n",
       "</table>\n"
      ],
      "text/latex": [
       "A data.frame: 4 × 28\n",
       "\\begin{tabular}{r|lllllllllllllllllllll}\n",
       "  & logFC & AveExpr & t & P.Value & adj.P.Val & B & junctionGeneSymbol & symbol & ID & splice\\_type & ⋯ & upstreamEE & downstreamES & downstreamEE & abs\\_logFC & FoldChange\\_dummy & abundance & tissue & Chromosomal\\_Position & Chromosome & higher\\_in\\\\\n",
       "  & <dbl> & <dbl> & <dbl> & <dbl> & <dbl> & <dbl> & <chr> & <chr> & <chr> & <chr> & ⋯ & <int> & <int> & <int> & <dbl> & <dbl> & <chr> & <chr> & <fct> & <fct> & <fct>\\\\\n",
       "\\hline\n",
       "\t1 & -7.142389 & 0.9941613 & -48.32587 & 1.260076e-177 & 5.353307e-173 & 324.02755 & XIST-10149 & XIST & 10149 & SE & ⋯ & 73829231 & 73833237 & 73833374 & 7.142389 & -141.277585 & lower & adipose\\_visceral\\_omentum & chrX & chrX & males\\\\\n",
       "\t2 & -6.826079 & 0.7901787 & -46.60829 & 7.328131e-172 & 1.556642e-167 & 316.71971 & XIST-10154 & XIST & 10154 & SE & ⋯ & 73829231 & 73833237 & 73833374 & 6.826079 & -113.463031 & lower & adipose\\_visceral\\_omentum & chrX & chrX & males\\\\\n",
       "\t4 & -2.887104 & 1.5312931 & -21.60202 &  5.515682e-71 &  5.858206e-67 & 138.21741 & XIST-10150 & XIST & 10150 & SE & ⋯ & 73831274 & 73837439 & 73841474 & 2.887104 &   -7.397839 & lower & adipose\\_visceral\\_omentum & chrX & chrX & males\\\\\n",
       "\t5 & -1.661346 & 1.3748820 & -11.28985 &  4.058754e-26 &  3.448643e-22 &  46.00144 & XIST-10155 & XIST & 10155 & SE & ⋯ & 73821029 & 73826114 & 73827984 & 1.661346 &   -3.163114 & lower & adipose\\_visceral\\_omentum & chrX & chrX & males\\\\\n",
       "\\end{tabular}\n"
      ],
      "text/markdown": [
       "\n",
       "A data.frame: 4 × 28\n",
       "\n",
       "| <!--/--> | logFC &lt;dbl&gt; | AveExpr &lt;dbl&gt; | t &lt;dbl&gt; | P.Value &lt;dbl&gt; | adj.P.Val &lt;dbl&gt; | B &lt;dbl&gt; | junctionGeneSymbol &lt;chr&gt; | symbol &lt;chr&gt; | ID &lt;chr&gt; | splice_type &lt;chr&gt; | ⋯ ⋯ | upstreamEE &lt;int&gt; | downstreamES &lt;int&gt; | downstreamEE &lt;int&gt; | abs_logFC &lt;dbl&gt; | FoldChange_dummy &lt;dbl&gt; | abundance &lt;chr&gt; | tissue &lt;chr&gt; | Chromosomal_Position &lt;fct&gt; | Chromosome &lt;fct&gt; | higher_in &lt;fct&gt; |\n",
       "|---|---|---|---|---|---|---|---|---|---|---|---|---|---|---|---|---|---|---|---|---|---|\n",
       "| 1 | -7.142389 | 0.9941613 | -48.32587 | 1.260076e-177 | 5.353307e-173 | 324.02755 | XIST-10149 | XIST | 10149 | SE | ⋯ | 73829231 | 73833237 | 73833374 | 7.142389 | -141.277585 | lower | adipose_visceral_omentum | chrX | chrX | males |\n",
       "| 2 | -6.826079 | 0.7901787 | -46.60829 | 7.328131e-172 | 1.556642e-167 | 316.71971 | XIST-10154 | XIST | 10154 | SE | ⋯ | 73829231 | 73833237 | 73833374 | 6.826079 | -113.463031 | lower | adipose_visceral_omentum | chrX | chrX | males |\n",
       "| 4 | -2.887104 | 1.5312931 | -21.60202 |  5.515682e-71 |  5.858206e-67 | 138.21741 | XIST-10150 | XIST | 10150 | SE | ⋯ | 73831274 | 73837439 | 73841474 | 2.887104 |   -7.397839 | lower | adipose_visceral_omentum | chrX | chrX | males |\n",
       "| 5 | -1.661346 | 1.3748820 | -11.28985 |  4.058754e-26 |  3.448643e-22 |  46.00144 | XIST-10155 | XIST | 10155 | SE | ⋯ | 73821029 | 73826114 | 73827984 | 1.661346 |   -3.163114 | lower | adipose_visceral_omentum | chrX | chrX | males |\n",
       "\n"
      ],
      "text/plain": [
       "  logFC     AveExpr   t         P.Value       adj.P.Val     B        \n",
       "1 -7.142389 0.9941613 -48.32587 1.260076e-177 5.353307e-173 324.02755\n",
       "2 -6.826079 0.7901787 -46.60829 7.328131e-172 1.556642e-167 316.71971\n",
       "4 -2.887104 1.5312931 -21.60202  5.515682e-71  5.858206e-67 138.21741\n",
       "5 -1.661346 1.3748820 -11.28985  4.058754e-26  3.448643e-22  46.00144\n",
       "  junctionGeneSymbol symbol ID    splice_type ⋯ upstreamEE downstreamES\n",
       "1 XIST-10149         XIST   10149 SE          ⋯ 73829231   73833237    \n",
       "2 XIST-10154         XIST   10154 SE          ⋯ 73829231   73833237    \n",
       "4 XIST-10150         XIST   10150 SE          ⋯ 73831274   73837439    \n",
       "5 XIST-10155         XIST   10155 SE          ⋯ 73821029   73826114    \n",
       "  downstreamEE abs_logFC FoldChange_dummy abundance tissue                  \n",
       "1 73833374     7.142389  -141.277585      lower     adipose_visceral_omentum\n",
       "2 73833374     6.826079  -113.463031      lower     adipose_visceral_omentum\n",
       "4 73841474     2.887104    -7.397839      lower     adipose_visceral_omentum\n",
       "5 73827984     1.661346    -3.163114      lower     adipose_visceral_omentum\n",
       "  Chromosomal_Position Chromosome higher_in\n",
       "1 chrX                 chrX       males    \n",
       "2 chrX                 chrX       males    \n",
       "4 chrX                 chrX       males    \n",
       "5 chrX                 chrX       males    "
      ]
     },
     "metadata": {},
     "output_type": "display_data"
    },
    {
     "name": "stderr",
     "output_type": "stream",
     "text": [
      "97.44 % of differentially spliced exons higher in males only found to be significantly different in males\n",
      "\n",
      "95.25 % of differentially spliced exon higher in females only found to be significantly different in females\n",
      "\n"
     ]
    }
   ],
   "source": [
    "perc_only_male <-  length(male_biased[! (male_biased %in% intersect)]) / length(male_biased) * 100\n",
    "perc_only_female <-  length(female_biased[! (female_biased %in% intersect)]) / length(female_biased) * 100\n",
    "\n",
    "head( signif_per_tissue[ signif_per_tissue[[feature_id_column]] %in% male_biased[! (male_biased %in% intersect)],  ] , 4 )\n",
    "\n",
    "message(round(perc_only_male, 2), \" % of differentially spliced exons higher in males only found to be significantly different in males\")\n",
    "message(round(perc_only_female,2), \" % of differentially spliced exon higher in females only found to be significantly different in females\")"
   ]
  },
  {
   "cell_type": "markdown",
   "metadata": {},
   "source": [
    "## Significantly higher only in males"
   ]
  },
  {
   "cell_type": "code",
   "execution_count": 83,
   "metadata": {},
   "outputs": [
    {
     "data": {
      "text/html": [
       "<style>\n",
       ".list-inline {list-style: none; margin:0; padding: 0}\n",
       ".list-inline>li {display: inline-block}\n",
       ".list-inline>li:not(:last-child)::after {content: \"\\00b7\"; padding: 0 .5ex}\n",
       "</style>\n",
       "<ol class=list-inline><li>3685</li><li>28</li></ol>\n"
      ],
      "text/latex": [
       "\\begin{enumerate*}\n",
       "\\item 3685\n",
       "\\item 28\n",
       "\\end{enumerate*}\n"
      ],
      "text/markdown": [
       "1. 3685\n",
       "2. 28\n",
       "\n",
       "\n"
      ],
      "text/plain": [
       "[1] 3685   28"
      ]
     },
     "metadata": {},
     "output_type": "display_data"
    },
    {
     "data": {
      "text/html": [
       "<table>\n",
       "<caption>A data.frame: 5 × 28</caption>\n",
       "<thead>\n",
       "\t<tr><th></th><th scope=col>logFC</th><th scope=col>AveExpr</th><th scope=col>t</th><th scope=col>P.Value</th><th scope=col>adj.P.Val</th><th scope=col>B</th><th scope=col>junctionGeneSymbol</th><th scope=col>symbol</th><th scope=col>ID</th><th scope=col>splice_type</th><th scope=col>⋯</th><th scope=col>upstreamEE</th><th scope=col>downstreamES</th><th scope=col>downstreamEE</th><th scope=col>abs_logFC</th><th scope=col>FoldChange_dummy</th><th scope=col>abundance</th><th scope=col>tissue</th><th scope=col>Chromosomal_Position</th><th scope=col>Chromosome</th><th scope=col>higher_in</th></tr>\n",
       "\t<tr><th></th><th scope=col>&lt;dbl&gt;</th><th scope=col>&lt;dbl&gt;</th><th scope=col>&lt;dbl&gt;</th><th scope=col>&lt;dbl&gt;</th><th scope=col>&lt;dbl&gt;</th><th scope=col>&lt;dbl&gt;</th><th scope=col>&lt;chr&gt;</th><th scope=col>&lt;chr&gt;</th><th scope=col>&lt;chr&gt;</th><th scope=col>&lt;chr&gt;</th><th scope=col>⋯</th><th scope=col>&lt;int&gt;</th><th scope=col>&lt;int&gt;</th><th scope=col>&lt;int&gt;</th><th scope=col>&lt;dbl&gt;</th><th scope=col>&lt;dbl&gt;</th><th scope=col>&lt;chr&gt;</th><th scope=col>&lt;chr&gt;</th><th scope=col>&lt;fct&gt;</th><th scope=col>&lt;fct&gt;</th><th scope=col>&lt;chr&gt;</th></tr>\n",
       "</thead>\n",
       "<tbody>\n",
       "\t<tr><th scope=row>4073</th><td>-0.5955568</td><td> 1.1637530</td><td>-3.642049</td><td>2.994282e-04</td><td>3.110246e-02</td><td> 0.1551172</td><td>AASDH-8358  </td><td>AASDH </td><td>8358 </td><td>SE</td><td>⋯</td><td>56355423</td><td>56378147</td><td>56378464</td><td>0.5955568</td><td>-1.511056</td><td>lower</td><td>heart_left_ventricle                 </td><td>chr4 </td><td>chr4 </td><td>males</td></tr>\n",
       "\t<tr><th scope=row>5872</th><td>-0.6126833</td><td> 0.6789157</td><td>-3.463742</td><td>5.796545e-04</td><td>4.178827e-02</td><td>-0.4196361</td><td>AASDH-8360  </td><td>AASDH </td><td>8360 </td><td>SE</td><td>⋯</td><td>56378464</td><td>56384069</td><td>56384341</td><td>0.6126833</td><td>-1.529101</td><td>lower</td><td>heart_left_ventricle                 </td><td>chr4 </td><td>chr4 </td><td>males</td></tr>\n",
       "\t<tr><th scope=row>5382</th><td>-0.7787639</td><td> 1.0601134</td><td>-3.504982</td><td>5.002924e-04</td><td>3.943307e-02</td><td>-0.2999951</td><td>ABAT-41977  </td><td>ABAT  </td><td>41977</td><td>SE</td><td>⋯</td><td> 8735809</td><td> 8748107</td><td> 8748137</td><td>0.7787639</td><td>-1.715660</td><td>lower</td><td>heart_left_ventricle                 </td><td>chr16</td><td>chr16</td><td>males</td></tr>\n",
       "\t<tr><th scope=row>859</th><td>-0.8384955</td><td>-0.3239752</td><td>-3.348290</td><td>9.464875e-04</td><td>4.643253e-02</td><td>-0.8086289</td><td>ABCA10-25861</td><td>ABCA10</td><td>25861</td><td>SE</td><td>⋯</td><td>69174394</td><td>69175405</td><td>69175513</td><td>0.8384955</td><td>-1.788184</td><td>lower</td><td>brain_nucleus_accumbens_basal_ganglia</td><td>chr17</td><td>chr17</td><td>males</td></tr>\n",
       "\t<tr><th scope=row>1548</th><td>-0.7583276</td><td> 1.5568773</td><td>-4.834672</td><td>1.926925e-06</td><td>5.322723e-05</td><td> 4.4191048</td><td>ABCA10-25861</td><td>ABCA10</td><td>25861</td><td>SE</td><td>⋯</td><td>69174394</td><td>69175405</td><td>69175513</td><td>0.7583276</td><td>-1.691529</td><td>lower</td><td>breast_mammary_tissue                </td><td>chr17</td><td>chr17</td><td>males</td></tr>\n",
       "</tbody>\n",
       "</table>\n"
      ],
      "text/latex": [
       "A data.frame: 5 × 28\n",
       "\\begin{tabular}{r|lllllllllllllllllllll}\n",
       "  & logFC & AveExpr & t & P.Value & adj.P.Val & B & junctionGeneSymbol & symbol & ID & splice\\_type & ⋯ & upstreamEE & downstreamES & downstreamEE & abs\\_logFC & FoldChange\\_dummy & abundance & tissue & Chromosomal\\_Position & Chromosome & higher\\_in\\\\\n",
       "  & <dbl> & <dbl> & <dbl> & <dbl> & <dbl> & <dbl> & <chr> & <chr> & <chr> & <chr> & ⋯ & <int> & <int> & <int> & <dbl> & <dbl> & <chr> & <chr> & <fct> & <fct> & <chr>\\\\\n",
       "\\hline\n",
       "\t4073 & -0.5955568 &  1.1637530 & -3.642049 & 2.994282e-04 & 3.110246e-02 &  0.1551172 & AASDH-8358   & AASDH  & 8358  & SE & ⋯ & 56355423 & 56378147 & 56378464 & 0.5955568 & -1.511056 & lower & heart\\_left\\_ventricle                  & chr4  & chr4  & males\\\\\n",
       "\t5872 & -0.6126833 &  0.6789157 & -3.463742 & 5.796545e-04 & 4.178827e-02 & -0.4196361 & AASDH-8360   & AASDH  & 8360  & SE & ⋯ & 56378464 & 56384069 & 56384341 & 0.6126833 & -1.529101 & lower & heart\\_left\\_ventricle                  & chr4  & chr4  & males\\\\\n",
       "\t5382 & -0.7787639 &  1.0601134 & -3.504982 & 5.002924e-04 & 3.943307e-02 & -0.2999951 & ABAT-41977   & ABAT   & 41977 & SE & ⋯ &  8735809 &  8748107 &  8748137 & 0.7787639 & -1.715660 & lower & heart\\_left\\_ventricle                  & chr16 & chr16 & males\\\\\n",
       "\t859 & -0.8384955 & -0.3239752 & -3.348290 & 9.464875e-04 & 4.643253e-02 & -0.8086289 & ABCA10-25861 & ABCA10 & 25861 & SE & ⋯ & 69174394 & 69175405 & 69175513 & 0.8384955 & -1.788184 & lower & brain\\_nucleus\\_accumbens\\_basal\\_ganglia & chr17 & chr17 & males\\\\\n",
       "\t1548 & -0.7583276 &  1.5568773 & -4.834672 & 1.926925e-06 & 5.322723e-05 &  4.4191048 & ABCA10-25861 & ABCA10 & 25861 & SE & ⋯ & 69174394 & 69175405 & 69175513 & 0.7583276 & -1.691529 & lower & breast\\_mammary\\_tissue                 & chr17 & chr17 & males\\\\\n",
       "\\end{tabular}\n"
      ],
      "text/markdown": [
       "\n",
       "A data.frame: 5 × 28\n",
       "\n",
       "| <!--/--> | logFC &lt;dbl&gt; | AveExpr &lt;dbl&gt; | t &lt;dbl&gt; | P.Value &lt;dbl&gt; | adj.P.Val &lt;dbl&gt; | B &lt;dbl&gt; | junctionGeneSymbol &lt;chr&gt; | symbol &lt;chr&gt; | ID &lt;chr&gt; | splice_type &lt;chr&gt; | ⋯ ⋯ | upstreamEE &lt;int&gt; | downstreamES &lt;int&gt; | downstreamEE &lt;int&gt; | abs_logFC &lt;dbl&gt; | FoldChange_dummy &lt;dbl&gt; | abundance &lt;chr&gt; | tissue &lt;chr&gt; | Chromosomal_Position &lt;fct&gt; | Chromosome &lt;fct&gt; | higher_in &lt;chr&gt; |\n",
       "|---|---|---|---|---|---|---|---|---|---|---|---|---|---|---|---|---|---|---|---|---|---|\n",
       "| 4073 | -0.5955568 |  1.1637530 | -3.642049 | 2.994282e-04 | 3.110246e-02 |  0.1551172 | AASDH-8358   | AASDH  | 8358  | SE | ⋯ | 56355423 | 56378147 | 56378464 | 0.5955568 | -1.511056 | lower | heart_left_ventricle                  | chr4  | chr4  | males |\n",
       "| 5872 | -0.6126833 |  0.6789157 | -3.463742 | 5.796545e-04 | 4.178827e-02 | -0.4196361 | AASDH-8360   | AASDH  | 8360  | SE | ⋯ | 56378464 | 56384069 | 56384341 | 0.6126833 | -1.529101 | lower | heart_left_ventricle                  | chr4  | chr4  | males |\n",
       "| 5382 | -0.7787639 |  1.0601134 | -3.504982 | 5.002924e-04 | 3.943307e-02 | -0.2999951 | ABAT-41977   | ABAT   | 41977 | SE | ⋯ |  8735809 |  8748107 |  8748137 | 0.7787639 | -1.715660 | lower | heart_left_ventricle                  | chr16 | chr16 | males |\n",
       "| 859 | -0.8384955 | -0.3239752 | -3.348290 | 9.464875e-04 | 4.643253e-02 | -0.8086289 | ABCA10-25861 | ABCA10 | 25861 | SE | ⋯ | 69174394 | 69175405 | 69175513 | 0.8384955 | -1.788184 | lower | brain_nucleus_accumbens_basal_ganglia | chr17 | chr17 | males |\n",
       "| 1548 | -0.7583276 |  1.5568773 | -4.834672 | 1.926925e-06 | 5.322723e-05 |  4.4191048 | ABCA10-25861 | ABCA10 | 25861 | SE | ⋯ | 69174394 | 69175405 | 69175513 | 0.7583276 | -1.691529 | lower | breast_mammary_tissue                 | chr17 | chr17 | males |\n",
       "\n"
      ],
      "text/plain": [
       "     logFC      AveExpr    t         P.Value      adj.P.Val    B         \n",
       "4073 -0.5955568  1.1637530 -3.642049 2.994282e-04 3.110246e-02  0.1551172\n",
       "5872 -0.6126833  0.6789157 -3.463742 5.796545e-04 4.178827e-02 -0.4196361\n",
       "5382 -0.7787639  1.0601134 -3.504982 5.002924e-04 3.943307e-02 -0.2999951\n",
       "859  -0.8384955 -0.3239752 -3.348290 9.464875e-04 4.643253e-02 -0.8086289\n",
       "1548 -0.7583276  1.5568773 -4.834672 1.926925e-06 5.322723e-05  4.4191048\n",
       "     junctionGeneSymbol symbol ID    splice_type ⋯ upstreamEE downstreamES\n",
       "4073 AASDH-8358         AASDH  8358  SE          ⋯ 56355423   56378147    \n",
       "5872 AASDH-8360         AASDH  8360  SE          ⋯ 56378464   56384069    \n",
       "5382 ABAT-41977         ABAT   41977 SE          ⋯  8735809    8748107    \n",
       "859  ABCA10-25861       ABCA10 25861 SE          ⋯ 69174394   69175405    \n",
       "1548 ABCA10-25861       ABCA10 25861 SE          ⋯ 69174394   69175405    \n",
       "     downstreamEE abs_logFC FoldChange_dummy abundance\n",
       "4073 56378464     0.5955568 -1.511056        lower    \n",
       "5872 56384341     0.6126833 -1.529101        lower    \n",
       "5382  8748137     0.7787639 -1.715660        lower    \n",
       "859  69175513     0.8384955 -1.788184        lower    \n",
       "1548 69175513     0.7583276 -1.691529        lower    \n",
       "     tissue                                Chromosomal_Position Chromosome\n",
       "4073 heart_left_ventricle                  chr4                 chr4      \n",
       "5872 heart_left_ventricle                  chr4                 chr4      \n",
       "5382 heart_left_ventricle                  chr16                chr16     \n",
       "859  brain_nucleus_accumbens_basal_ganglia chr17                chr17     \n",
       "1548 breast_mammary_tissue                 chr17                chr17     \n",
       "     higher_in\n",
       "4073 males    \n",
       "5872 males    \n",
       "5382 males    \n",
       "859  males    \n",
       "1548 males    "
      ]
     },
     "metadata": {},
     "output_type": "display_data"
    }
   ],
   "source": [
    "dim(signif_per_tissue[ signif_per_tissue[[feature_id_column]] %in% male_biased[! (male_biased %in% intersect)],  ])\n",
    "only_male_genes <- signif_per_tissue[ signif_per_tissue[[feature_id_column]] %in% (male_biased[! (male_biased %in% intersect)]) ,  ]\n",
    "head(only_male_genes[ order(only_male_genes[[feature_id_column]] ), ], 5)"
   ]
  },
  {
   "cell_type": "code",
   "execution_count": 91,
   "metadata": {},
   "outputs": [
    {
     "data": {
      "text/html": [
       "<table>\n",
       "<caption>A tibble: 20 × 2</caption>\n",
       "<thead>\n",
       "\t<tr><th scope=col>symbol</th><th scope=col>n</th></tr>\n",
       "\t<tr><th scope=col>&lt;chr&gt;</th><th scope=col>&lt;int&gt;</th></tr>\n",
       "</thead>\n",
       "<tbody>\n",
       "\t<tr><td>XIST  </td><td>219</td></tr>\n",
       "\t<tr><td>ZFX   </td><td> 47</td></tr>\n",
       "\t<tr><td>DDX3X </td><td> 42</td></tr>\n",
       "\t<tr><td>KDM6A </td><td> 27</td></tr>\n",
       "\t<tr><td>APOL4 </td><td> 14</td></tr>\n",
       "\t<tr><td>CD44  </td><td> 13</td></tr>\n",
       "\t<tr><td>JPX   </td><td> 13</td></tr>\n",
       "\t<tr><td>NLRP2 </td><td> 12</td></tr>\n",
       "\t<tr><td>ST5   </td><td> 12</td></tr>\n",
       "\t<tr><td>CADPS </td><td> 11</td></tr>\n",
       "\t<tr><td>CES1  </td><td> 11</td></tr>\n",
       "\t<tr><td>EIF1AX</td><td> 11</td></tr>\n",
       "\t<tr><td>KDM5C </td><td> 11</td></tr>\n",
       "\t<tr><td>MUC1  </td><td> 11</td></tr>\n",
       "\t<tr><td>ABCC8 </td><td> 10</td></tr>\n",
       "\t<tr><td>DDR1  </td><td> 10</td></tr>\n",
       "\t<tr><td>MYB   </td><td> 10</td></tr>\n",
       "\t<tr><td>NRG1  </td><td> 10</td></tr>\n",
       "\t<tr><td>PNPLA4</td><td> 10</td></tr>\n",
       "\t<tr><td>ALB   </td><td>  9</td></tr>\n",
       "</tbody>\n",
       "</table>\n"
      ],
      "text/latex": [
       "A tibble: 20 × 2\n",
       "\\begin{tabular}{ll}\n",
       " symbol & n\\\\\n",
       " <chr> & <int>\\\\\n",
       "\\hline\n",
       "\t XIST   & 219\\\\\n",
       "\t ZFX    &  47\\\\\n",
       "\t DDX3X  &  42\\\\\n",
       "\t KDM6A  &  27\\\\\n",
       "\t APOL4  &  14\\\\\n",
       "\t CD44   &  13\\\\\n",
       "\t JPX    &  13\\\\\n",
       "\t NLRP2  &  12\\\\\n",
       "\t ST5    &  12\\\\\n",
       "\t CADPS  &  11\\\\\n",
       "\t CES1   &  11\\\\\n",
       "\t EIF1AX &  11\\\\\n",
       "\t KDM5C  &  11\\\\\n",
       "\t MUC1   &  11\\\\\n",
       "\t ABCC8  &  10\\\\\n",
       "\t DDR1   &  10\\\\\n",
       "\t MYB    &  10\\\\\n",
       "\t NRG1   &  10\\\\\n",
       "\t PNPLA4 &  10\\\\\n",
       "\t ALB    &   9\\\\\n",
       "\\end{tabular}\n"
      ],
      "text/markdown": [
       "\n",
       "A tibble: 20 × 2\n",
       "\n",
       "| symbol &lt;chr&gt; | n &lt;int&gt; |\n",
       "|---|---|\n",
       "| XIST   | 219 |\n",
       "| ZFX    |  47 |\n",
       "| DDX3X  |  42 |\n",
       "| KDM6A  |  27 |\n",
       "| APOL4  |  14 |\n",
       "| CD44   |  13 |\n",
       "| JPX    |  13 |\n",
       "| NLRP2  |  12 |\n",
       "| ST5    |  12 |\n",
       "| CADPS  |  11 |\n",
       "| CES1   |  11 |\n",
       "| EIF1AX |  11 |\n",
       "| KDM5C  |  11 |\n",
       "| MUC1   |  11 |\n",
       "| ABCC8  |  10 |\n",
       "| DDR1   |  10 |\n",
       "| MYB    |  10 |\n",
       "| NRG1   |  10 |\n",
       "| PNPLA4 |  10 |\n",
       "| ALB    |   9 |\n",
       "\n"
      ],
      "text/plain": [
       "   symbol n  \n",
       "1  XIST   219\n",
       "2  ZFX     47\n",
       "3  DDX3X   42\n",
       "4  KDM6A   27\n",
       "5  APOL4   14\n",
       "6  CD44    13\n",
       "7  JPX     13\n",
       "8  NLRP2   12\n",
       "9  ST5     12\n",
       "10 CADPS   11\n",
       "11 CES1    11\n",
       "12 EIF1AX  11\n",
       "13 KDM5C   11\n",
       "14 MUC1    11\n",
       "15 ABCC8   10\n",
       "16 DDR1    10\n",
       "17 MYB     10\n",
       "18 NRG1    10\n",
       "19 PNPLA4  10\n",
       "20 ALB      9"
      ]
     },
     "metadata": {},
     "output_type": "display_data"
    }
   ],
   "source": [
    "# See 8.1.1 enquo() and !! - Quote and unquote arguments in https://tidyeval.tidyverse.org/dplyr.html\n",
    "\n",
    "only_male_genes %>% \n",
    "    count( symbol, sort = TRUE) %>%\n",
    "    head(20)"
   ]
  },
  {
   "cell_type": "markdown",
   "metadata": {},
   "source": [
    "## Significantly higher only in females"
   ]
  },
  {
   "cell_type": "code",
   "execution_count": 94,
   "metadata": {},
   "outputs": [
    {
     "data": {
      "text/html": [
       "<table>\n",
       "<caption>A data.frame: 10 × 28</caption>\n",
       "<thead>\n",
       "\t<tr><th></th><th scope=col>logFC</th><th scope=col>AveExpr</th><th scope=col>t</th><th scope=col>P.Value</th><th scope=col>adj.P.Val</th><th scope=col>B</th><th scope=col>junctionGeneSymbol</th><th scope=col>symbol</th><th scope=col>ID</th><th scope=col>splice_type</th><th scope=col>⋯</th><th scope=col>upstreamEE</th><th scope=col>downstreamES</th><th scope=col>downstreamEE</th><th scope=col>abs_logFC</th><th scope=col>FoldChange_dummy</th><th scope=col>abundance</th><th scope=col>tissue</th><th scope=col>Chromosomal_Position</th><th scope=col>Chromosome</th><th scope=col>higher_in</th></tr>\n",
       "\t<tr><th></th><th scope=col>&lt;dbl&gt;</th><th scope=col>&lt;dbl&gt;</th><th scope=col>&lt;dbl&gt;</th><th scope=col>&lt;dbl&gt;</th><th scope=col>&lt;dbl&gt;</th><th scope=col>&lt;dbl&gt;</th><th scope=col>&lt;chr&gt;</th><th scope=col>&lt;chr&gt;</th><th scope=col>&lt;chr&gt;</th><th scope=col>&lt;chr&gt;</th><th scope=col>⋯</th><th scope=col>&lt;int&gt;</th><th scope=col>&lt;int&gt;</th><th scope=col>&lt;int&gt;</th><th scope=col>&lt;dbl&gt;</th><th scope=col>&lt;dbl&gt;</th><th scope=col>&lt;chr&gt;</th><th scope=col>&lt;chr&gt;</th><th scope=col>&lt;fct&gt;</th><th scope=col>&lt;fct&gt;</th><th scope=col>&lt;chr&gt;</th></tr>\n",
       "</thead>\n",
       "<tbody>\n",
       "\t<tr><th scope=row>11710</th><td>0.8803741</td><td> 0.3023067</td><td> 4.196745</td><td>3.226225e-05</td><td>1.163931e-02</td><td> 2.1350264</td><td>ABAT-41980  </td><td>ABAT  </td><td>41980</td><td>SE</td><td>⋯</td><td>  8674711</td><td>  8735698</td><td>  8735809</td><td>0.8803741</td><td>1.840853</td><td>higher</td><td>heart_left_ventricle                 </td><td>chr16</td><td>chr16</td><td>females</td></tr>\n",
       "\t<tr><th scope=row>3358</th><td>0.9091782</td><td>-0.4053210</td><td> 3.615421</td><td>3.394816e-04</td><td>4.254435e-03</td><td>-0.3757219</td><td>ABCC11-17034</td><td>ABCC11</td><td>17034</td><td>SE</td><td>⋯</td><td> 48175417</td><td> 48176923</td><td> 48177113</td><td>0.9091782</td><td>1.877976</td><td>higher</td><td>breast_mammary_tissue                </td><td>chr16</td><td>chr16</td><td>females</td></tr>\n",
       "\t<tr><th scope=row>7311</th><td>1.8927812</td><td> 0.9691542</td><td>10.248417</td><td>5.750013e-22</td><td>3.346350e-19</td><td>39.1486527</td><td>ABCC3-16865 </td><td>ABCC3 </td><td>16865</td><td>SE</td><td>⋯</td><td> 50634981</td><td> 50655831</td><td> 50656008</td><td>1.8927812</td><td>3.713504</td><td>higher</td><td>breast_mammary_tissue                </td><td>chr17</td><td>chr17</td><td>females</td></tr>\n",
       "\t<tr><th scope=row>271</th><td>0.7674558</td><td>-0.6612006</td><td> 4.600703</td><td>6.182539e-06</td><td>9.728111e-03</td><td> 3.5721400</td><td>ABCC4-27454 </td><td>ABCC4 </td><td>27454</td><td>SE</td><td>⋯</td><td> 95161335</td><td> 95163121</td><td> 95163216</td><td>0.7674558</td><td>1.702265</td><td>higher</td><td>adrenal_gland                        </td><td>chr13</td><td>chr13</td><td>females</td></tr>\n",
       "\t<tr><th scope=row>4240</th><td>0.7445919</td><td> 0.5219909</td><td> 3.284179</td><td>1.115909e-03</td><td>1.104316e-02</td><td>-1.4502800</td><td>ABCC6-26306 </td><td>ABCC6 </td><td>26306</td><td>SE</td><td>⋯</td><td> 16161564</td><td> 16165622</td><td> 16165933</td><td>0.7445919</td><td>1.675500</td><td>higher</td><td>breast_mammary_tissue                </td><td>chr16</td><td>chr16</td><td>females</td></tr>\n",
       "\t<tr><th scope=row>286</th><td>0.7590254</td><td> 1.4010146</td><td> 3.782868</td><td>1.966159e-04</td><td>2.916162e-02</td><td> 0.5489584</td><td>ABHD5-32771 </td><td>ABHD5 </td><td>32771</td><td>SE</td><td>⋯</td><td> 43702587</td><td> 43711708</td><td> 43711863</td><td>0.7590254</td><td>1.692347</td><td>higher</td><td>brain_nucleus_accumbens_basal_ganglia</td><td>chr3 </td><td>chr3 </td><td>females</td></tr>\n",
       "\t<tr><th scope=row>7221</th><td>0.7222673</td><td> 4.4496722</td><td> 6.153304</td><td>1.895667e-09</td><td>1.112369e-07</td><td>11.0999336</td><td>ABI1-35906  </td><td>ABI1  </td><td>35906</td><td>SE</td><td>⋯</td><td> 26770345</td><td> 26777064</td><td> 26777241</td><td>0.7222673</td><td>1.649773</td><td>higher</td><td>breast_mammary_tissue                </td><td>chr10</td><td>chr10</td><td>females</td></tr>\n",
       "\t<tr><th scope=row>927</th><td>1.0114000</td><td> 3.0435614</td><td> 3.311033</td><td>1.075573e-03</td><td>4.857090e-02</td><td>-0.9204755</td><td>ABI2-32213  </td><td>ABI2  </td><td>32213</td><td>SE</td><td>⋯</td><td>203367044</td><td>203380207</td><td>203380277</td><td>1.0114000</td><td>2.015866</td><td>higher</td><td>brain_nucleus_accumbens_basal_ganglia</td><td>chr2 </td><td>chr2 </td><td>females</td></tr>\n",
       "\t<tr><th scope=row>5802</th><td>0.7110850</td><td> 0.3636750</td><td> 2.812708</td><td>5.162843e-03</td><td>3.620040e-02</td><td>-2.7360676</td><td>ABI3BP-29700</td><td>ABI3BP</td><td>29700</td><td>SE</td><td>⋯</td><td>100862385</td><td>100864001</td><td>100864076</td><td>0.7110850</td><td>1.637035</td><td>higher</td><td>breast_mammary_tissue                </td><td>chr3 </td><td>chr3 </td><td>females</td></tr>\n",
       "\t<tr><th scope=row>5126</th><td>0.6174027</td><td> 1.8386175</td><td> 3.533558</td><td>4.490261e-04</td><td>3.731328e-02</td><td>-0.2161408</td><td>ABLIM1-30211</td><td>ABLIM1</td><td>30211</td><td>SE</td><td>⋯</td><td>114473956</td><td>114487957</td><td>114488016</td><td>0.6174027</td><td>1.534111</td><td>higher</td><td>heart_left_ventricle                 </td><td>chr10</td><td>chr10</td><td>females</td></tr>\n",
       "</tbody>\n",
       "</table>\n"
      ],
      "text/latex": [
       "A data.frame: 10 × 28\n",
       "\\begin{tabular}{r|lllllllllllllllllllll}\n",
       "  & logFC & AveExpr & t & P.Value & adj.P.Val & B & junctionGeneSymbol & symbol & ID & splice\\_type & ⋯ & upstreamEE & downstreamES & downstreamEE & abs\\_logFC & FoldChange\\_dummy & abundance & tissue & Chromosomal\\_Position & Chromosome & higher\\_in\\\\\n",
       "  & <dbl> & <dbl> & <dbl> & <dbl> & <dbl> & <dbl> & <chr> & <chr> & <chr> & <chr> & ⋯ & <int> & <int> & <int> & <dbl> & <dbl> & <chr> & <chr> & <fct> & <fct> & <chr>\\\\\n",
       "\\hline\n",
       "\t11710 & 0.8803741 &  0.3023067 &  4.196745 & 3.226225e-05 & 1.163931e-02 &  2.1350264 & ABAT-41980   & ABAT   & 41980 & SE & ⋯ &   8674711 &   8735698 &   8735809 & 0.8803741 & 1.840853 & higher & heart\\_left\\_ventricle                  & chr16 & chr16 & females\\\\\n",
       "\t3358 & 0.9091782 & -0.4053210 &  3.615421 & 3.394816e-04 & 4.254435e-03 & -0.3757219 & ABCC11-17034 & ABCC11 & 17034 & SE & ⋯ &  48175417 &  48176923 &  48177113 & 0.9091782 & 1.877976 & higher & breast\\_mammary\\_tissue                 & chr16 & chr16 & females\\\\\n",
       "\t7311 & 1.8927812 &  0.9691542 & 10.248417 & 5.750013e-22 & 3.346350e-19 & 39.1486527 & ABCC3-16865  & ABCC3  & 16865 & SE & ⋯ &  50634981 &  50655831 &  50656008 & 1.8927812 & 3.713504 & higher & breast\\_mammary\\_tissue                 & chr17 & chr17 & females\\\\\n",
       "\t271 & 0.7674558 & -0.6612006 &  4.600703 & 6.182539e-06 & 9.728111e-03 &  3.5721400 & ABCC4-27454  & ABCC4  & 27454 & SE & ⋯ &  95161335 &  95163121 &  95163216 & 0.7674558 & 1.702265 & higher & adrenal\\_gland                         & chr13 & chr13 & females\\\\\n",
       "\t4240 & 0.7445919 &  0.5219909 &  3.284179 & 1.115909e-03 & 1.104316e-02 & -1.4502800 & ABCC6-26306  & ABCC6  & 26306 & SE & ⋯ &  16161564 &  16165622 &  16165933 & 0.7445919 & 1.675500 & higher & breast\\_mammary\\_tissue                 & chr16 & chr16 & females\\\\\n",
       "\t286 & 0.7590254 &  1.4010146 &  3.782868 & 1.966159e-04 & 2.916162e-02 &  0.5489584 & ABHD5-32771  & ABHD5  & 32771 & SE & ⋯ &  43702587 &  43711708 &  43711863 & 0.7590254 & 1.692347 & higher & brain\\_nucleus\\_accumbens\\_basal\\_ganglia & chr3  & chr3  & females\\\\\n",
       "\t7221 & 0.7222673 &  4.4496722 &  6.153304 & 1.895667e-09 & 1.112369e-07 & 11.0999336 & ABI1-35906   & ABI1   & 35906 & SE & ⋯ &  26770345 &  26777064 &  26777241 & 0.7222673 & 1.649773 & higher & breast\\_mammary\\_tissue                 & chr10 & chr10 & females\\\\\n",
       "\t927 & 1.0114000 &  3.0435614 &  3.311033 & 1.075573e-03 & 4.857090e-02 & -0.9204755 & ABI2-32213   & ABI2   & 32213 & SE & ⋯ & 203367044 & 203380207 & 203380277 & 1.0114000 & 2.015866 & higher & brain\\_nucleus\\_accumbens\\_basal\\_ganglia & chr2  & chr2  & females\\\\\n",
       "\t5802 & 0.7110850 &  0.3636750 &  2.812708 & 5.162843e-03 & 3.620040e-02 & -2.7360676 & ABI3BP-29700 & ABI3BP & 29700 & SE & ⋯ & 100862385 & 100864001 & 100864076 & 0.7110850 & 1.637035 & higher & breast\\_mammary\\_tissue                 & chr3  & chr3  & females\\\\\n",
       "\t5126 & 0.6174027 &  1.8386175 &  3.533558 & 4.490261e-04 & 3.731328e-02 & -0.2161408 & ABLIM1-30211 & ABLIM1 & 30211 & SE & ⋯ & 114473956 & 114487957 & 114488016 & 0.6174027 & 1.534111 & higher & heart\\_left\\_ventricle                  & chr10 & chr10 & females\\\\\n",
       "\\end{tabular}\n"
      ],
      "text/markdown": [
       "\n",
       "A data.frame: 10 × 28\n",
       "\n",
       "| <!--/--> | logFC &lt;dbl&gt; | AveExpr &lt;dbl&gt; | t &lt;dbl&gt; | P.Value &lt;dbl&gt; | adj.P.Val &lt;dbl&gt; | B &lt;dbl&gt; | junctionGeneSymbol &lt;chr&gt; | symbol &lt;chr&gt; | ID &lt;chr&gt; | splice_type &lt;chr&gt; | ⋯ ⋯ | upstreamEE &lt;int&gt; | downstreamES &lt;int&gt; | downstreamEE &lt;int&gt; | abs_logFC &lt;dbl&gt; | FoldChange_dummy &lt;dbl&gt; | abundance &lt;chr&gt; | tissue &lt;chr&gt; | Chromosomal_Position &lt;fct&gt; | Chromosome &lt;fct&gt; | higher_in &lt;chr&gt; |\n",
       "|---|---|---|---|---|---|---|---|---|---|---|---|---|---|---|---|---|---|---|---|---|---|\n",
       "| 11710 | 0.8803741 |  0.3023067 |  4.196745 | 3.226225e-05 | 1.163931e-02 |  2.1350264 | ABAT-41980   | ABAT   | 41980 | SE | ⋯ |   8674711 |   8735698 |   8735809 | 0.8803741 | 1.840853 | higher | heart_left_ventricle                  | chr16 | chr16 | females |\n",
       "| 3358 | 0.9091782 | -0.4053210 |  3.615421 | 3.394816e-04 | 4.254435e-03 | -0.3757219 | ABCC11-17034 | ABCC11 | 17034 | SE | ⋯ |  48175417 |  48176923 |  48177113 | 0.9091782 | 1.877976 | higher | breast_mammary_tissue                 | chr16 | chr16 | females |\n",
       "| 7311 | 1.8927812 |  0.9691542 | 10.248417 | 5.750013e-22 | 3.346350e-19 | 39.1486527 | ABCC3-16865  | ABCC3  | 16865 | SE | ⋯ |  50634981 |  50655831 |  50656008 | 1.8927812 | 3.713504 | higher | breast_mammary_tissue                 | chr17 | chr17 | females |\n",
       "| 271 | 0.7674558 | -0.6612006 |  4.600703 | 6.182539e-06 | 9.728111e-03 |  3.5721400 | ABCC4-27454  | ABCC4  | 27454 | SE | ⋯ |  95161335 |  95163121 |  95163216 | 0.7674558 | 1.702265 | higher | adrenal_gland                         | chr13 | chr13 | females |\n",
       "| 4240 | 0.7445919 |  0.5219909 |  3.284179 | 1.115909e-03 | 1.104316e-02 | -1.4502800 | ABCC6-26306  | ABCC6  | 26306 | SE | ⋯ |  16161564 |  16165622 |  16165933 | 0.7445919 | 1.675500 | higher | breast_mammary_tissue                 | chr16 | chr16 | females |\n",
       "| 286 | 0.7590254 |  1.4010146 |  3.782868 | 1.966159e-04 | 2.916162e-02 |  0.5489584 | ABHD5-32771  | ABHD5  | 32771 | SE | ⋯ |  43702587 |  43711708 |  43711863 | 0.7590254 | 1.692347 | higher | brain_nucleus_accumbens_basal_ganglia | chr3  | chr3  | females |\n",
       "| 7221 | 0.7222673 |  4.4496722 |  6.153304 | 1.895667e-09 | 1.112369e-07 | 11.0999336 | ABI1-35906   | ABI1   | 35906 | SE | ⋯ |  26770345 |  26777064 |  26777241 | 0.7222673 | 1.649773 | higher | breast_mammary_tissue                 | chr10 | chr10 | females |\n",
       "| 927 | 1.0114000 |  3.0435614 |  3.311033 | 1.075573e-03 | 4.857090e-02 | -0.9204755 | ABI2-32213   | ABI2   | 32213 | SE | ⋯ | 203367044 | 203380207 | 203380277 | 1.0114000 | 2.015866 | higher | brain_nucleus_accumbens_basal_ganglia | chr2  | chr2  | females |\n",
       "| 5802 | 0.7110850 |  0.3636750 |  2.812708 | 5.162843e-03 | 3.620040e-02 | -2.7360676 | ABI3BP-29700 | ABI3BP | 29700 | SE | ⋯ | 100862385 | 100864001 | 100864076 | 0.7110850 | 1.637035 | higher | breast_mammary_tissue                 | chr3  | chr3  | females |\n",
       "| 5126 | 0.6174027 |  1.8386175 |  3.533558 | 4.490261e-04 | 3.731328e-02 | -0.2161408 | ABLIM1-30211 | ABLIM1 | 30211 | SE | ⋯ | 114473956 | 114487957 | 114488016 | 0.6174027 | 1.534111 | higher | heart_left_ventricle                  | chr10 | chr10 | females |\n",
       "\n"
      ],
      "text/plain": [
       "      logFC     AveExpr    t         P.Value      adj.P.Val    B         \n",
       "11710 0.8803741  0.3023067  4.196745 3.226225e-05 1.163931e-02  2.1350264\n",
       "3358  0.9091782 -0.4053210  3.615421 3.394816e-04 4.254435e-03 -0.3757219\n",
       "7311  1.8927812  0.9691542 10.248417 5.750013e-22 3.346350e-19 39.1486527\n",
       "271   0.7674558 -0.6612006  4.600703 6.182539e-06 9.728111e-03  3.5721400\n",
       "4240  0.7445919  0.5219909  3.284179 1.115909e-03 1.104316e-02 -1.4502800\n",
       "286   0.7590254  1.4010146  3.782868 1.966159e-04 2.916162e-02  0.5489584\n",
       "7221  0.7222673  4.4496722  6.153304 1.895667e-09 1.112369e-07 11.0999336\n",
       "927   1.0114000  3.0435614  3.311033 1.075573e-03 4.857090e-02 -0.9204755\n",
       "5802  0.7110850  0.3636750  2.812708 5.162843e-03 3.620040e-02 -2.7360676\n",
       "5126  0.6174027  1.8386175  3.533558 4.490261e-04 3.731328e-02 -0.2161408\n",
       "      junctionGeneSymbol symbol ID    splice_type ⋯ upstreamEE downstreamES\n",
       "11710 ABAT-41980         ABAT   41980 SE          ⋯   8674711    8735698   \n",
       "3358  ABCC11-17034       ABCC11 17034 SE          ⋯  48175417   48176923   \n",
       "7311  ABCC3-16865        ABCC3  16865 SE          ⋯  50634981   50655831   \n",
       "271   ABCC4-27454        ABCC4  27454 SE          ⋯  95161335   95163121   \n",
       "4240  ABCC6-26306        ABCC6  26306 SE          ⋯  16161564   16165622   \n",
       "286   ABHD5-32771        ABHD5  32771 SE          ⋯  43702587   43711708   \n",
       "7221  ABI1-35906         ABI1   35906 SE          ⋯  26770345   26777064   \n",
       "927   ABI2-32213         ABI2   32213 SE          ⋯ 203367044  203380207   \n",
       "5802  ABI3BP-29700       ABI3BP 29700 SE          ⋯ 100862385  100864001   \n",
       "5126  ABLIM1-30211       ABLIM1 30211 SE          ⋯ 114473956  114487957   \n",
       "      downstreamEE abs_logFC FoldChange_dummy abundance\n",
       "11710   8735809    0.8803741 1.840853         higher   \n",
       "3358   48177113    0.9091782 1.877976         higher   \n",
       "7311   50656008    1.8927812 3.713504         higher   \n",
       "271    95163216    0.7674558 1.702265         higher   \n",
       "4240   16165933    0.7445919 1.675500         higher   \n",
       "286    43711863    0.7590254 1.692347         higher   \n",
       "7221   26777241    0.7222673 1.649773         higher   \n",
       "927   203380277    1.0114000 2.015866         higher   \n",
       "5802  100864076    0.7110850 1.637035         higher   \n",
       "5126  114488016    0.6174027 1.534111         higher   \n",
       "      tissue                                Chromosomal_Position Chromosome\n",
       "11710 heart_left_ventricle                  chr16                chr16     \n",
       "3358  breast_mammary_tissue                 chr16                chr16     \n",
       "7311  breast_mammary_tissue                 chr17                chr17     \n",
       "271   adrenal_gland                         chr13                chr13     \n",
       "4240  breast_mammary_tissue                 chr16                chr16     \n",
       "286   brain_nucleus_accumbens_basal_ganglia chr3                 chr3      \n",
       "7221  breast_mammary_tissue                 chr10                chr10     \n",
       "927   brain_nucleus_accumbens_basal_ganglia chr2                 chr2      \n",
       "5802  breast_mammary_tissue                 chr3                 chr3      \n",
       "5126  heart_left_ventricle                  chr10                chr10     \n",
       "      higher_in\n",
       "11710 females  \n",
       "3358  females  \n",
       "7311  females  \n",
       "271   females  \n",
       "4240  females  \n",
       "286   females  \n",
       "7221  females  \n",
       "927   females  \n",
       "5802  females  \n",
       "5126  females  "
      ]
     },
     "metadata": {},
     "output_type": "display_data"
    }
   ],
   "source": [
    "only_female_genes <- signif_per_tissue[ signif_per_tissue[[ feature_id_column ]] %in% (female_biased[! (female_biased %in% intersect)]) ,  ]\n",
    "\n",
    "head(only_female_genes[ order(only_female_genes[[ feature_id_column ]] ), ], 10)"
   ]
  },
  {
   "cell_type": "code",
   "execution_count": 95,
   "metadata": {},
   "outputs": [
    {
     "data": {
      "text/html": [
       "<table>\n",
       "<caption>A tibble: 20 × 2</caption>\n",
       "<thead>\n",
       "\t<tr><th scope=col>symbol</th><th scope=col>n</th></tr>\n",
       "\t<tr><th scope=col>&lt;chr&gt;</th><th scope=col>&lt;int&gt;</th></tr>\n",
       "</thead>\n",
       "<tbody>\n",
       "\t<tr><td>XIST  </td><td>44</td></tr>\n",
       "\t<tr><td>KDM5C </td><td>37</td></tr>\n",
       "\t<tr><td>DHCR24</td><td>10</td></tr>\n",
       "\t<tr><td>SELE  </td><td>10</td></tr>\n",
       "\t<tr><td>HPGD  </td><td> 9</td></tr>\n",
       "\t<tr><td>NDRG4 </td><td> 9</td></tr>\n",
       "\t<tr><td>PUDP  </td><td> 8</td></tr>\n",
       "\t<tr><td>SORBS1</td><td> 8</td></tr>\n",
       "\t<tr><td>ANK3  </td><td> 7</td></tr>\n",
       "\t<tr><td>NOX5  </td><td> 7</td></tr>\n",
       "\t<tr><td>CCNJL </td><td> 6</td></tr>\n",
       "\t<tr><td>DDX3X </td><td> 6</td></tr>\n",
       "\t<tr><td>RHOH  </td><td> 6</td></tr>\n",
       "\t<tr><td>EPB41 </td><td> 5</td></tr>\n",
       "\t<tr><td>FER1L4</td><td> 5</td></tr>\n",
       "\t<tr><td>JCHAIN</td><td> 5</td></tr>\n",
       "\t<tr><td>MYB   </td><td> 5</td></tr>\n",
       "\t<tr><td>PTPRZ1</td><td> 5</td></tr>\n",
       "\t<tr><td>PVT1  </td><td> 5</td></tr>\n",
       "\t<tr><td>SYTL2 </td><td> 5</td></tr>\n",
       "</tbody>\n",
       "</table>\n"
      ],
      "text/latex": [
       "A tibble: 20 × 2\n",
       "\\begin{tabular}{ll}\n",
       " symbol & n\\\\\n",
       " <chr> & <int>\\\\\n",
       "\\hline\n",
       "\t XIST   & 44\\\\\n",
       "\t KDM5C  & 37\\\\\n",
       "\t DHCR24 & 10\\\\\n",
       "\t SELE   & 10\\\\\n",
       "\t HPGD   &  9\\\\\n",
       "\t NDRG4  &  9\\\\\n",
       "\t PUDP   &  8\\\\\n",
       "\t SORBS1 &  8\\\\\n",
       "\t ANK3   &  7\\\\\n",
       "\t NOX5   &  7\\\\\n",
       "\t CCNJL  &  6\\\\\n",
       "\t DDX3X  &  6\\\\\n",
       "\t RHOH   &  6\\\\\n",
       "\t EPB41  &  5\\\\\n",
       "\t FER1L4 &  5\\\\\n",
       "\t JCHAIN &  5\\\\\n",
       "\t MYB    &  5\\\\\n",
       "\t PTPRZ1 &  5\\\\\n",
       "\t PVT1   &  5\\\\\n",
       "\t SYTL2  &  5\\\\\n",
       "\\end{tabular}\n"
      ],
      "text/markdown": [
       "\n",
       "A tibble: 20 × 2\n",
       "\n",
       "| symbol &lt;chr&gt; | n &lt;int&gt; |\n",
       "|---|---|\n",
       "| XIST   | 44 |\n",
       "| KDM5C  | 37 |\n",
       "| DHCR24 | 10 |\n",
       "| SELE   | 10 |\n",
       "| HPGD   |  9 |\n",
       "| NDRG4  |  9 |\n",
       "| PUDP   |  8 |\n",
       "| SORBS1 |  8 |\n",
       "| ANK3   |  7 |\n",
       "| NOX5   |  7 |\n",
       "| CCNJL  |  6 |\n",
       "| DDX3X  |  6 |\n",
       "| RHOH   |  6 |\n",
       "| EPB41  |  5 |\n",
       "| FER1L4 |  5 |\n",
       "| JCHAIN |  5 |\n",
       "| MYB    |  5 |\n",
       "| PTPRZ1 |  5 |\n",
       "| PVT1   |  5 |\n",
       "| SYTL2  |  5 |\n",
       "\n"
      ],
      "text/plain": [
       "   symbol n \n",
       "1  XIST   44\n",
       "2  KDM5C  37\n",
       "3  DHCR24 10\n",
       "4  SELE   10\n",
       "5  HPGD    9\n",
       "6  NDRG4   9\n",
       "7  PUDP    8\n",
       "8  SORBS1  8\n",
       "9  ANK3    7\n",
       "10 NOX5    7\n",
       "11 CCNJL   6\n",
       "12 DDX3X   6\n",
       "13 RHOH    6\n",
       "14 EPB41   5\n",
       "15 FER1L4  5\n",
       "16 JCHAIN  5\n",
       "17 MYB     5\n",
       "18 PTPRZ1  5\n",
       "19 PVT1    5\n",
       "20 SYTL2   5"
      ]
     },
     "metadata": {},
     "output_type": "display_data"
    }
   ],
   "source": [
    "only_female_genes %>% \n",
    "    count( symbol, sort = TRUE) %>%\n",
    "    head(20)"
   ]
  },
  {
   "cell_type": "markdown",
   "metadata": {},
   "source": [
    "# Examine number of differentially expressed genes per chromosome per sex"
   ]
  },
  {
   "cell_type": "code",
   "execution_count": 96,
   "metadata": {},
   "outputs": [],
   "source": [
    "signif_per_tissue$Chromosome <- as.factor(signif_per_tissue$Chromosome)\n",
    "signif_per_tissue$higher_in <- as.factor(signif_per_tissue$higher_in)\n",
    "\n",
    "signif_per_tissue %>% \n",
    "    group_by(Chromosome,higher_in) %>%  \n",
    "    count()  -> signif_per_chrom_per_sex"
   ]
  },
  {
   "cell_type": "code",
   "execution_count": 97,
   "metadata": {},
   "outputs": [
    {
     "data": {
      "text/html": [
       "<table>\n",
       "<caption>A grouped_df: 46 × 3</caption>\n",
       "<thead>\n",
       "\t<tr><th scope=col>Chromosome</th><th scope=col>higher_in</th><th scope=col>n</th></tr>\n",
       "\t<tr><th scope=col>&lt;fct&gt;</th><th scope=col>&lt;fct&gt;</th><th scope=col>&lt;int&gt;</th></tr>\n",
       "</thead>\n",
       "<tbody>\n",
       "\t<tr><td>chr1 </td><td>females</td><td>200</td></tr>\n",
       "\t<tr><td>chr1 </td><td>males  </td><td>355</td></tr>\n",
       "\t<tr><td>chr10</td><td>females</td><td> 70</td></tr>\n",
       "\t<tr><td>chr10</td><td>males  </td><td> 88</td></tr>\n",
       "\t<tr><td>chr11</td><td>females</td><td>117</td></tr>\n",
       "\t<tr><td>chr11</td><td>males  </td><td>250</td></tr>\n",
       "\t<tr><td>chr12</td><td>females</td><td>107</td></tr>\n",
       "\t<tr><td>chr12</td><td>males  </td><td>220</td></tr>\n",
       "\t<tr><td>chr13</td><td>females</td><td> 17</td></tr>\n",
       "\t<tr><td>chr13</td><td>males  </td><td> 42</td></tr>\n",
       "\t<tr><td>chr14</td><td>females</td><td> 59</td></tr>\n",
       "\t<tr><td>chr14</td><td>males  </td><td>105</td></tr>\n",
       "\t<tr><td>chr15</td><td>females</td><td> 68</td></tr>\n",
       "\t<tr><td>chr15</td><td>males  </td><td>122</td></tr>\n",
       "\t<tr><td>chr16</td><td>females</td><td> 84</td></tr>\n",
       "\t<tr><td>chr16</td><td>males  </td><td>152</td></tr>\n",
       "\t<tr><td>chr17</td><td>females</td><td>100</td></tr>\n",
       "\t<tr><td>chr17</td><td>males  </td><td>204</td></tr>\n",
       "\t<tr><td>chr18</td><td>females</td><td> 29</td></tr>\n",
       "\t<tr><td>chr18</td><td>males  </td><td> 73</td></tr>\n",
       "\t<tr><td>chr19</td><td>females</td><td> 94</td></tr>\n",
       "\t<tr><td>chr19</td><td>males  </td><td>215</td></tr>\n",
       "\t<tr><td>chr2 </td><td>females</td><td>131</td></tr>\n",
       "\t<tr><td>chr2 </td><td>males  </td><td>239</td></tr>\n",
       "\t<tr><td>chr20</td><td>females</td><td> 37</td></tr>\n",
       "\t<tr><td>chr20</td><td>males  </td><td> 69</td></tr>\n",
       "\t<tr><td>chr21</td><td>females</td><td> 12</td></tr>\n",
       "\t<tr><td>chr21</td><td>males  </td><td> 25</td></tr>\n",
       "\t<tr><td>chr22</td><td>females</td><td> 34</td></tr>\n",
       "\t<tr><td>chr22</td><td>males  </td><td>111</td></tr>\n",
       "\t<tr><td>chr3 </td><td>females</td><td>130</td></tr>\n",
       "\t<tr><td>chr3 </td><td>males  </td><td>232</td></tr>\n",
       "\t<tr><td>chr4 </td><td>females</td><td>108</td></tr>\n",
       "\t<tr><td>chr4 </td><td>males  </td><td>169</td></tr>\n",
       "\t<tr><td>chr5 </td><td>females</td><td> 96</td></tr>\n",
       "\t<tr><td>chr5 </td><td>males  </td><td>126</td></tr>\n",
       "\t<tr><td>chr6 </td><td>females</td><td> 78</td></tr>\n",
       "\t<tr><td>chr6 </td><td>males  </td><td>134</td></tr>\n",
       "\t<tr><td>chr7 </td><td>females</td><td> 64</td></tr>\n",
       "\t<tr><td>chr7 </td><td>males  </td><td>138</td></tr>\n",
       "\t<tr><td>chr8 </td><td>females</td><td> 54</td></tr>\n",
       "\t<tr><td>chr8 </td><td>males  </td><td>118</td></tr>\n",
       "\t<tr><td>chr9 </td><td>females</td><td> 62</td></tr>\n",
       "\t<tr><td>chr9 </td><td>males  </td><td> 98</td></tr>\n",
       "\t<tr><td>chrX </td><td>females</td><td>160</td></tr>\n",
       "\t<tr><td>chrX </td><td>males  </td><td>488</td></tr>\n",
       "</tbody>\n",
       "</table>\n"
      ],
      "text/latex": [
       "A grouped\\_df: 46 × 3\n",
       "\\begin{tabular}{lll}\n",
       " Chromosome & higher\\_in & n\\\\\n",
       " <fct> & <fct> & <int>\\\\\n",
       "\\hline\n",
       "\t chr1  & females & 200\\\\\n",
       "\t chr1  & males   & 355\\\\\n",
       "\t chr10 & females &  70\\\\\n",
       "\t chr10 & males   &  88\\\\\n",
       "\t chr11 & females & 117\\\\\n",
       "\t chr11 & males   & 250\\\\\n",
       "\t chr12 & females & 107\\\\\n",
       "\t chr12 & males   & 220\\\\\n",
       "\t chr13 & females &  17\\\\\n",
       "\t chr13 & males   &  42\\\\\n",
       "\t chr14 & females &  59\\\\\n",
       "\t chr14 & males   & 105\\\\\n",
       "\t chr15 & females &  68\\\\\n",
       "\t chr15 & males   & 122\\\\\n",
       "\t chr16 & females &  84\\\\\n",
       "\t chr16 & males   & 152\\\\\n",
       "\t chr17 & females & 100\\\\\n",
       "\t chr17 & males   & 204\\\\\n",
       "\t chr18 & females &  29\\\\\n",
       "\t chr18 & males   &  73\\\\\n",
       "\t chr19 & females &  94\\\\\n",
       "\t chr19 & males   & 215\\\\\n",
       "\t chr2  & females & 131\\\\\n",
       "\t chr2  & males   & 239\\\\\n",
       "\t chr20 & females &  37\\\\\n",
       "\t chr20 & males   &  69\\\\\n",
       "\t chr21 & females &  12\\\\\n",
       "\t chr21 & males   &  25\\\\\n",
       "\t chr22 & females &  34\\\\\n",
       "\t chr22 & males   & 111\\\\\n",
       "\t chr3  & females & 130\\\\\n",
       "\t chr3  & males   & 232\\\\\n",
       "\t chr4  & females & 108\\\\\n",
       "\t chr4  & males   & 169\\\\\n",
       "\t chr5  & females &  96\\\\\n",
       "\t chr5  & males   & 126\\\\\n",
       "\t chr6  & females &  78\\\\\n",
       "\t chr6  & males   & 134\\\\\n",
       "\t chr7  & females &  64\\\\\n",
       "\t chr7  & males   & 138\\\\\n",
       "\t chr8  & females &  54\\\\\n",
       "\t chr8  & males   & 118\\\\\n",
       "\t chr9  & females &  62\\\\\n",
       "\t chr9  & males   &  98\\\\\n",
       "\t chrX  & females & 160\\\\\n",
       "\t chrX  & males   & 488\\\\\n",
       "\\end{tabular}\n"
      ],
      "text/markdown": [
       "\n",
       "A grouped_df: 46 × 3\n",
       "\n",
       "| Chromosome &lt;fct&gt; | higher_in &lt;fct&gt; | n &lt;int&gt; |\n",
       "|---|---|---|\n",
       "| chr1  | females | 200 |\n",
       "| chr1  | males   | 355 |\n",
       "| chr10 | females |  70 |\n",
       "| chr10 | males   |  88 |\n",
       "| chr11 | females | 117 |\n",
       "| chr11 | males   | 250 |\n",
       "| chr12 | females | 107 |\n",
       "| chr12 | males   | 220 |\n",
       "| chr13 | females |  17 |\n",
       "| chr13 | males   |  42 |\n",
       "| chr14 | females |  59 |\n",
       "| chr14 | males   | 105 |\n",
       "| chr15 | females |  68 |\n",
       "| chr15 | males   | 122 |\n",
       "| chr16 | females |  84 |\n",
       "| chr16 | males   | 152 |\n",
       "| chr17 | females | 100 |\n",
       "| chr17 | males   | 204 |\n",
       "| chr18 | females |  29 |\n",
       "| chr18 | males   |  73 |\n",
       "| chr19 | females |  94 |\n",
       "| chr19 | males   | 215 |\n",
       "| chr2  | females | 131 |\n",
       "| chr2  | males   | 239 |\n",
       "| chr20 | females |  37 |\n",
       "| chr20 | males   |  69 |\n",
       "| chr21 | females |  12 |\n",
       "| chr21 | males   |  25 |\n",
       "| chr22 | females |  34 |\n",
       "| chr22 | males   | 111 |\n",
       "| chr3  | females | 130 |\n",
       "| chr3  | males   | 232 |\n",
       "| chr4  | females | 108 |\n",
       "| chr4  | males   | 169 |\n",
       "| chr5  | females |  96 |\n",
       "| chr5  | males   | 126 |\n",
       "| chr6  | females |  78 |\n",
       "| chr6  | males   | 134 |\n",
       "| chr7  | females |  64 |\n",
       "| chr7  | males   | 138 |\n",
       "| chr8  | females |  54 |\n",
       "| chr8  | males   | 118 |\n",
       "| chr9  | females |  62 |\n",
       "| chr9  | males   |  98 |\n",
       "| chrX  | females | 160 |\n",
       "| chrX  | males   | 488 |\n",
       "\n"
      ],
      "text/plain": [
       "   Chromosome higher_in n  \n",
       "1  chr1       females   200\n",
       "2  chr1       males     355\n",
       "3  chr10      females    70\n",
       "4  chr10      males      88\n",
       "5  chr11      females   117\n",
       "6  chr11      males     250\n",
       "7  chr12      females   107\n",
       "8  chr12      males     220\n",
       "9  chr13      females    17\n",
       "10 chr13      males      42\n",
       "11 chr14      females    59\n",
       "12 chr14      males     105\n",
       "13 chr15      females    68\n",
       "14 chr15      males     122\n",
       "15 chr16      females    84\n",
       "16 chr16      males     152\n",
       "17 chr17      females   100\n",
       "18 chr17      males     204\n",
       "19 chr18      females    29\n",
       "20 chr18      males      73\n",
       "21 chr19      females    94\n",
       "22 chr19      males     215\n",
       "23 chr2       females   131\n",
       "24 chr2       males     239\n",
       "25 chr20      females    37\n",
       "26 chr20      males      69\n",
       "27 chr21      females    12\n",
       "28 chr21      males      25\n",
       "29 chr22      females    34\n",
       "30 chr22      males     111\n",
       "31 chr3       females   130\n",
       "32 chr3       males     232\n",
       "33 chr4       females   108\n",
       "34 chr4       males     169\n",
       "35 chr5       females    96\n",
       "36 chr5       males     126\n",
       "37 chr6       females    78\n",
       "38 chr6       males     134\n",
       "39 chr7       females    64\n",
       "40 chr7       males     138\n",
       "41 chr8       females    54\n",
       "42 chr8       males     118\n",
       "43 chr9       females    62\n",
       "44 chr9       males      98\n",
       "45 chrX       females   160\n",
       "46 chrX       males     488"
      ]
     },
     "metadata": {},
     "output_type": "display_data"
    }
   ],
   "source": [
    "signif_per_chrom_per_sex"
   ]
  },
  {
   "cell_type": "markdown",
   "metadata": {},
   "source": [
    "## Metadata\n",
    "\n",
    "For replicability and reproducibility purposes, we also print the following metadata:\n",
    "\n",
    "1. Checksums of **'artefacts'**, files generated during the analysis and stored in the folder directory **`data`**\n",
    "2. List of environment metadata, dependencies, versions of libraries using `utils::sessionInfo()` and [`devtools::session_info()`](https://devtools.r-lib.org/reference/session_info.html)"
   ]
  },
  {
   "cell_type": "code",
   "execution_count": null,
   "metadata": {},
   "outputs": [],
   "source": [
    "notebook_id   = \"summary_per_tissue_diff_expressed\"\n",
    "\n",
    "message(\"Generating sha256 checksums of the artefacts in the `..data/` directory .. \")\n",
    "system(paste0(\"cd ../data/ && sha256sum **/*csv > ../metadata/\", notebook_id, \"_sha256sums.txt\"), intern = TRUE)\n",
    "system(paste0(\"cd ../data/ && sha256sum *csv >> ../metadata/\", notebook_id, \"_sha256sums.txt\"), intern = TRUE)\n",
    "\n",
    "message(\"Done!\\n\")\n",
    "\n",
    "data.table::fread(paste0(\"../metadata/\", notebook_id, \"_sha256sums.txt\"), header = FALSE, col.names = c(\"sha256sum\", \"file\"))"
   ]
  },
  {
   "cell_type": "markdown",
   "metadata": {},
   "source": [
    "### 2. Libraries metadata"
   ]
  },
  {
   "cell_type": "code",
   "execution_count": null,
   "metadata": {},
   "outputs": [],
   "source": [
    "dev_session_info   <- devtools::session_info()\n",
    "utils_session_info <- utils::sessionInfo()\n",
    "\n",
    "message(\"Saving `devtools::session_info()` objects in ../metadata/devtools_session_info.rds  ..\")\n",
    "saveRDS(dev_session_info, file = paste0(\"../metadata/\", notebook_id, \"_devtools_session_info.rds\"))\n",
    "message(\"Done!\\n\")\n",
    "\n",
    "message(\"Saving `utils::sessionInfo()` objects in ../metadata/utils_session_info.rds  ..\")\n",
    "saveRDS(utils_session_info, file = paste0(\"../metadata/\", notebook_id ,\"_utils_info.rds\"))\n",
    "message(\"Done!\\n\")\n",
    "\n",
    "dev_session_info$platform\n",
    "dev_session_info$packages[dev_session_info$packages$attached==TRUE, ]"
   ]
  },
  {
   "cell_type": "markdown",
   "metadata": {},
   "source": [
    "# Calculating the sex-biased splicing index\n",
    "The normalized sex-biased splicing index is defined as the number of statistically significant splicing events per 1000 exons in the chromosome."
   ]
  },
  {
   "cell_type": "code",
   "execution_count": null,
   "metadata": {},
   "outputs": [],
   "source": [
    "dim(signif_per_chrom_per_sex)"
   ]
  },
  {
   "cell_type": "markdown",
   "metadata": {},
   "source": [
    "Sorry, I cannot do this in R. Here is Python (ugly script but works)\n",
    "\n",
    "import csv\n",
    "import gzip\n",
    "import re\n",
    "from collections import defaultdict\n",
    "\n",
    "fname = 'Homo_sapiens.GRCh38.100.chr_patch_hapl_scaff.gtf.gz'\n",
    "\n",
    "chrom2exons = defaultdict(set)\n",
    "\n",
    "with gzip.open(fname, 'rt') as f:\n",
    "    cr = csv.reader(f, delimiter='\\t', quotechar='\"')\n",
    "    for row in cr:\n",
    "        #print(row)\n",
    "        if row[0].startswith('#'):\n",
    "            continue\n",
    "        chrom = row[0]\n",
    "        annots = row[8]\n",
    "        fields = annots.split(\";\")\n",
    "        exon = re.compile(r'exon_id \"(ENSE\\d+)\"')\n",
    "        for f in fields:\n",
    "            itm = f.strip()\n",
    "            match = exon.match(itm)\n",
    "            if match:\n",
    "                exonid = match.group(1)\n",
    "                chrom2exons[chrom].add(exonid)\n",
    "\n",
    "g = open('chrom2exons.txt', 'wt')\n",
    "for k, v in chrom2exons.items():\n",
    "    print(\"chr{}: n={}\".format(k, len(v)))\n",
    "    g.write(\"{}\\t{}\\n\".format(k, len(v)))\n",
    "g.close()\n",
    "\n",
    "1\t69381\n",
    "2\t55599\n",
    "3\t46452\n",
    "4\t29749\n",
    "5\t34789\n",
    "6\t33817\n",
    "7\t35973\n",
    "X\t22471\n",
    "8\t28489\n",
    "9\t26460\n",
    "11\t43212\n",
    "10\t26514\n",
    "12\t42925\n",
    "13\t13193\n",
    "14\t25994\n",
    "15\t28720\n",
    "16\t36285\n",
    "17\t45142\n",
    "18\t13360\n",
    "20\t16704\n",
    "19\t44166\n",
    "Y\t2908\n",
    "22\t16411\n",
    "21\t8830\n",
    "MT\t37"
   ]
  },
  {
   "cell_type": "code",
   "execution_count": null,
   "metadata": {},
   "outputs": [],
   "source": [
    "signif_per_chrom_per_sex"
   ]
  },
  {
   "cell_type": "code",
   "execution_count": null,
   "metadata": {},
   "outputs": [],
   "source": [
    "only_female_genes %>% \n",
    "    count( !!GENE_ID, GeneSymbol, Class, sort = TRUE) %>%\n",
    "    head(20)"
   ]
  },
  {
   "cell_type": "code",
   "execution_count": null,
   "metadata": {},
   "outputs": [],
   "source": [
    "signif_per_tissue %>% \n",
    "     group_by(Chromosome) %>%  \n",
    "    count()  -> signif_per_chrom"
   ]
  },
  {
   "cell_type": "code",
   "execution_count": null,
   "metadata": {},
   "outputs": [],
   "source": [
    "signif_per_chrom"
   ]
  },
  {
   "cell_type": "code",
   "execution_count": null,
   "metadata": {},
   "outputs": [],
   "source": [
    "chrom2exon_filename = '../assets/canon_chrom2exons.txt'\n",
    "if (! file.exists(chrom2exon_filename)) {\n",
    "    message(\"Could not find canon_chrom2exons.txt file\")\n",
    "}\n",
    "c2e_df = read.csv(chrom2exon_filename, sep='\\t', header=FALSE)\n",
    "colnames(c2e_df) <- c(\"Chromosome\",\"exons\")\n",
    "head(c2e_df) # 25 chromosomes including MT"
   ]
  },
  {
   "cell_type": "code",
   "execution_count": null,
   "metadata": {},
   "outputs": [],
   "source": [
    "df2 <- merge(signif_per_chrom, c2e_df, by=\"Chromosome\")\n",
    "head(df2)"
   ]
  },
  {
   "cell_type": "code",
   "execution_count": null,
   "metadata": {},
   "outputs": [],
   "source": [
    "# calculate splicinig index\n",
    "library(tidyverse)"
   ]
  },
  {
   "cell_type": "code",
   "execution_count": null,
   "metadata": {},
   "outputs": [],
   "source": [
    "df2 %>% \n",
    "  mutate(Index = 1000 * n/exons) -> df3"
   ]
  },
  {
   "cell_type": "code",
   "execution_count": null,
   "metadata": {},
   "outputs": [],
   "source": [
    "df4 <- df3[-25,] # remove the Y chromosome\n",
    "df4 <- df4[-23,] # remove the MT chromosome"
   ]
  },
  {
   "cell_type": "code",
   "execution_count": null,
   "metadata": {},
   "outputs": [],
   "source": [
    "res_sorted <- df4[order(df4$Index, decreasing=TRUE),]\n",
    "res_sorted\n"
   ]
  },
  {
   "cell_type": "code",
   "execution_count": null,
   "metadata": {},
   "outputs": [],
   "source": [
    "res_sorted$Chromosome <- factor(res_sorted$Chromosome, levels = res_sorted$chr)\n",
    "res_sorted"
   ]
  },
  {
   "cell_type": "code",
   "execution_count": null,
   "metadata": {},
   "outputs": [],
   "source": [
    "# set the colors\n",
    "npgBlue<- rgb(60/256,84/256,136/256,1)\n",
    "npgRed <- rgb(220/256,0,0,0.5)\n",
    "npgGreen <- rgb(0,160/256,135/256,1)\n",
    "npgBrown <- rgb(126/256,97/256,72/256,1)"
   ]
  },
  {
   "cell_type": "code",
   "execution_count": null,
   "metadata": {},
   "outputs": [],
   "source": [
    "# make the plot \n",
    "figure2b <- ggplot(res_sorted, aes(x = Chromosome, y = Index, size = n)) +\n",
    "  geom_point(color=npgBlue) +\n",
    "  theme_bw() +\n",
    "  theme(axis.text.x = element_text(size=14, angle = 270, hjust = 0.0, vjust = 0.5),\n",
    "\taxis.text.y = element_text(size=16),\n",
    "\taxis.title.x = element_blank(),\n",
    "\taxis.title.y = element_text(face=\"plain\", colour=\"black\",\n",
    "                                    size=18),\n",
    "\tlegend.title=element_blank(),\n",
    "\tlegend.text = element_text(face=\"plain\", colour=\"black\",\n",
    "                                   size=14)) +\n",
    "  scale_fill_viridis_c() +\n",
    "  ylab(paste(\"Sex-biased splicing index \")) +\n",
    "  xlab(\"Chromosomes\") +\n",
    "  guides(size = guide_legend(title = \"Number of ASE\"))\n",
    "figure2b\n"
   ]
  },
  {
   "cell_type": "code",
   "execution_count": null,
   "metadata": {},
   "outputs": [],
   "source": []
  }
 ],
 "metadata": {
  "kernelspec": {
   "display_name": "R",
   "language": "R",
   "name": "ir"
  },
  "language_info": {
   "codemirror_mode": "r",
   "file_extension": ".r",
   "mimetype": "text/x-r-source",
   "name": "R",
   "pygments_lexer": "r",
   "version": "3.6.2"
  }
 },
 "nbformat": 4,
 "nbformat_minor": 4
}
