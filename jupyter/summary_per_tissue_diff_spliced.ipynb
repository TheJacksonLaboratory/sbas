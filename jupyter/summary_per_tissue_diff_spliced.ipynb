{
 "cells": [
  {
   "cell_type": "markdown",
   "metadata": {
    "tags": [
     "papermill-error-cell-tag"
    ]
   },
   "source": [
    "<span style=\"color:red; font-family:Helvetica Neue, Helvetica, Arial, sans-serif; font-size:2em;\">An Exception was encountered at '<a href=\"#papermill-error-cell\">In [11]</a>'.</span>"
   ]
  },
  {
   "cell_type": "markdown",
   "metadata": {
    "papermill": {
     "duration": 0.032369,
     "end_time": "2021-06-28T12:37:27.175958",
     "exception": false,
     "start_time": "2021-06-28T12:37:27.143589",
     "status": "completed"
    },
    "tags": []
   },
   "source": [
    "# Supplementary: Counts of differentially spliced exons per examined tissue\n",
    "\n",
    "This notebook aggregates the results from the differential splicing from (**see** [figureXXX.ipynb](figure1.ipynb)), and more specifically the `limma::topTable()` output dataframes across all tissues in the GTEX cohort and generates summary statistics for the number of genes found to be statistically up or downregulated between male and female subjects."
   ]
  },
  {
   "cell_type": "markdown",
   "metadata": {
    "papermill": {
     "duration": 0.03014,
     "end_time": "2021-06-28T12:37:27.238423",
     "exception": false,
     "start_time": "2021-06-28T12:37:27.208283",
     "status": "completed"
    },
    "tags": []
   },
   "source": [
    " ---\n",
    " \n",
    " **Running this notebook**:\n",
    " \n",
    "A few steps are needed before you can run this document on your own. The GitHub repository (https://github.com/TheJacksonLaboratory/sbas) of the project contains detailed instructions for setting up the environment in the **`dependencies/README.md`** document. Before starting with the analysis, make sure you have first completed the dependencies set up by following the instructions described there. If you have not done this already, you will need to close and restart this notebook before running it.\n",
    "\n",
    "All paths defined in this Notebook are relative to the parent directory (repository). \n",
    "\n",
    " ---\n"
   ]
  },
  {
   "cell_type": "markdown",
   "metadata": {
    "papermill": {
     "duration": 0.030188,
     "end_time": "2021-06-28T12:37:27.298712",
     "exception": false,
     "start_time": "2021-06-28T12:37:27.268524",
     "status": "completed"
    },
    "tags": []
   },
   "source": [
    "# Loading dependencies"
   ]
  },
  {
   "cell_type": "code",
   "execution_count": 1,
   "metadata": {
    "papermill": {
     "duration": 0.744925,
     "end_time": "2021-06-28T12:37:28.075079",
     "exception": false,
     "start_time": "2021-06-28T12:37:27.330154",
     "status": "completed"
    },
    "tags": []
   },
   "outputs": [
    {
     "name": "stderr",
     "output_type": "stream",
     "text": [
      "\n",
      "Attaching package: ‘dplyr’\n",
      "\n",
      "\n",
      "The following objects are masked from ‘package:stats’:\n",
      "\n",
      "    filter, lag\n",
      "\n",
      "\n",
      "The following objects are masked from ‘package:base’:\n",
      "\n",
      "    intersect, setdiff, setequal, union\n",
      "\n",
      "\n",
      "\n",
      "Attaching package: ‘reshape’\n",
      "\n",
      "\n",
      "The following objects are masked from ‘package:tidyr’:\n",
      "\n",
      "    expand, smiths\n",
      "\n",
      "\n",
      "The following object is masked from ‘package:dplyr’:\n",
      "\n",
      "    rename\n",
      "\n",
      "\n"
     ]
    }
   ],
   "source": [
    "library(dplyr)\n",
    "library(tidyr)\n",
    "library(reshape)\n",
    "library(ggplot2)\n",
    "# Install this version: > devtools::install_github(\"ropensci/piggyback@87f71e8\", upgrade=\"never\")\n",
    "#library(piggyback)\n",
    "library(snakecase)"
   ]
  },
  {
   "cell_type": "markdown",
   "metadata": {
    "papermill": {
     "duration": 0.032269,
     "end_time": "2021-06-28T12:37:28.321970",
     "exception": false,
     "start_time": "2021-06-28T12:37:28.289701",
     "status": "completed"
    },
    "tags": []
   },
   "source": [
    "# Create a list of named dataframes with the Differentially Spliced Exons `limma::topTable()`s\n",
    "\n",
    "We will iterate over the list of named dataframes to collect summary statistics. More specifically, retrieve the count of:\n",
    "- upregulated\n",
    "- downregulated\n",
    "- non significant\n",
    "\n",
    "differentially spliced exons for the contrast males-females per tissue."
   ]
  },
  {
   "cell_type": "code",
   "execution_count": 19,
   "metadata": {
    "papermill": {
     "duration": 0.087463,
     "end_time": "2021-06-28T12:37:28.441388",
     "exception": false,
     "start_time": "2021-06-28T12:37:28.353925",
     "status": "completed"
    },
    "tags": []
   },
   "outputs": [],
   "source": [
    "suffix_pattern   <- \"*_AS_model_B_sex_as_events_refined.csv\"\n",
    "tables_folder    <- \"../data\"\n",
    "\n",
    "tables_filepaths <- list.files(tables_folder, pattern = suffix_pattern, full.names = TRUE)\n",
    "tables_filenames <- list.files(tables_folder, pattern = suffix_pattern, full.names = FALSE)"
   ]
  },
  {
   "cell_type": "code",
   "execution_count": 20,
   "metadata": {},
   "outputs": [
    {
     "data": {
      "text/html": [
       "<style>\n",
       ".list-inline {list-style: none; margin:0; padding: 0}\n",
       ".list-inline>li {display: inline-block}\n",
       ".list-inline>li:not(:last-child)::after {content: \"\\00b7\"; padding: 0 .5ex}\n",
       "</style>\n",
       "<ol class=list-inline><li>'../data/a3ss_adipose_subcutaneous_AS_model_B_sex_as_events_refined.csv'</li><li>'../data/a3ss_adipose_visceral_omentum_AS_model_B_sex_as_events_refined.csv'</li><li>'../data/a3ss_adrenal_gland_AS_model_B_sex_as_events_refined.csv'</li><li>'../data/a3ss_artery_aorta_AS_model_B_sex_as_events_refined.csv'</li><li>'../data/a3ss_artery_coronary_AS_model_B_sex_as_events_refined.csv'</li><li>'../data/a3ss_artery_tibial_AS_model_B_sex_as_events_refined.csv'</li></ol>\n"
      ],
      "text/latex": [
       "\\begin{enumerate*}\n",
       "\\item '../data/a3ss\\_adipose\\_subcutaneous\\_AS\\_model\\_B\\_sex\\_as\\_events\\_refined.csv'\n",
       "\\item '../data/a3ss\\_adipose\\_visceral\\_omentum\\_AS\\_model\\_B\\_sex\\_as\\_events\\_refined.csv'\n",
       "\\item '../data/a3ss\\_adrenal\\_gland\\_AS\\_model\\_B\\_sex\\_as\\_events\\_refined.csv'\n",
       "\\item '../data/a3ss\\_artery\\_aorta\\_AS\\_model\\_B\\_sex\\_as\\_events\\_refined.csv'\n",
       "\\item '../data/a3ss\\_artery\\_coronary\\_AS\\_model\\_B\\_sex\\_as\\_events\\_refined.csv'\n",
       "\\item '../data/a3ss\\_artery\\_tibial\\_AS\\_model\\_B\\_sex\\_as\\_events\\_refined.csv'\n",
       "\\end{enumerate*}\n"
      ],
      "text/markdown": [
       "1. '../data/a3ss_adipose_subcutaneous_AS_model_B_sex_as_events_refined.csv'\n",
       "2. '../data/a3ss_adipose_visceral_omentum_AS_model_B_sex_as_events_refined.csv'\n",
       "3. '../data/a3ss_adrenal_gland_AS_model_B_sex_as_events_refined.csv'\n",
       "4. '../data/a3ss_artery_aorta_AS_model_B_sex_as_events_refined.csv'\n",
       "5. '../data/a3ss_artery_coronary_AS_model_B_sex_as_events_refined.csv'\n",
       "6. '../data/a3ss_artery_tibial_AS_model_B_sex_as_events_refined.csv'\n",
       "\n",
       "\n"
      ],
      "text/plain": [
       "[1] \"../data/a3ss_adipose_subcutaneous_AS_model_B_sex_as_events_refined.csv\"    \n",
       "[2] \"../data/a3ss_adipose_visceral_omentum_AS_model_B_sex_as_events_refined.csv\"\n",
       "[3] \"../data/a3ss_adrenal_gland_AS_model_B_sex_as_events_refined.csv\"           \n",
       "[4] \"../data/a3ss_artery_aorta_AS_model_B_sex_as_events_refined.csv\"            \n",
       "[5] \"../data/a3ss_artery_coronary_AS_model_B_sex_as_events_refined.csv\"         \n",
       "[6] \"../data/a3ss_artery_tibial_AS_model_B_sex_as_events_refined.csv\"           "
      ]
     },
     "metadata": {},
     "output_type": "display_data"
    }
   ],
   "source": [
    "head(tables_filepaths)"
   ]
  },
  {
   "cell_type": "code",
   "execution_count": 21,
   "metadata": {},
   "outputs": [
    {
     "data": {
      "text/html": [
       "<style>\n",
       ".list-inline {list-style: none; margin:0; padding: 0}\n",
       ".list-inline>li {display: inline-block}\n",
       ".list-inline>li:not(:last-child)::after {content: \"\\00b7\"; padding: 0 .5ex}\n",
       "</style>\n",
       "<ol class=list-inline><li>'a3ss_adipose_subcutaneous_AS_model_B_sex_as_events_refined.csv'</li><li>'a3ss_adipose_visceral_omentum_AS_model_B_sex_as_events_refined.csv'</li><li>'a3ss_adrenal_gland_AS_model_B_sex_as_events_refined.csv'</li><li>'a3ss_artery_aorta_AS_model_B_sex_as_events_refined.csv'</li><li>'a3ss_artery_coronary_AS_model_B_sex_as_events_refined.csv'</li><li>'a3ss_artery_tibial_AS_model_B_sex_as_events_refined.csv'</li></ol>\n"
      ],
      "text/latex": [
       "\\begin{enumerate*}\n",
       "\\item 'a3ss\\_adipose\\_subcutaneous\\_AS\\_model\\_B\\_sex\\_as\\_events\\_refined.csv'\n",
       "\\item 'a3ss\\_adipose\\_visceral\\_omentum\\_AS\\_model\\_B\\_sex\\_as\\_events\\_refined.csv'\n",
       "\\item 'a3ss\\_adrenal\\_gland\\_AS\\_model\\_B\\_sex\\_as\\_events\\_refined.csv'\n",
       "\\item 'a3ss\\_artery\\_aorta\\_AS\\_model\\_B\\_sex\\_as\\_events\\_refined.csv'\n",
       "\\item 'a3ss\\_artery\\_coronary\\_AS\\_model\\_B\\_sex\\_as\\_events\\_refined.csv'\n",
       "\\item 'a3ss\\_artery\\_tibial\\_AS\\_model\\_B\\_sex\\_as\\_events\\_refined.csv'\n",
       "\\end{enumerate*}\n"
      ],
      "text/markdown": [
       "1. 'a3ss_adipose_subcutaneous_AS_model_B_sex_as_events_refined.csv'\n",
       "2. 'a3ss_adipose_visceral_omentum_AS_model_B_sex_as_events_refined.csv'\n",
       "3. 'a3ss_adrenal_gland_AS_model_B_sex_as_events_refined.csv'\n",
       "4. 'a3ss_artery_aorta_AS_model_B_sex_as_events_refined.csv'\n",
       "5. 'a3ss_artery_coronary_AS_model_B_sex_as_events_refined.csv'\n",
       "6. 'a3ss_artery_tibial_AS_model_B_sex_as_events_refined.csv'\n",
       "\n",
       "\n"
      ],
      "text/plain": [
       "[1] \"a3ss_adipose_subcutaneous_AS_model_B_sex_as_events_refined.csv\"    \n",
       "[2] \"a3ss_adipose_visceral_omentum_AS_model_B_sex_as_events_refined.csv\"\n",
       "[3] \"a3ss_adrenal_gland_AS_model_B_sex_as_events_refined.csv\"           \n",
       "[4] \"a3ss_artery_aorta_AS_model_B_sex_as_events_refined.csv\"            \n",
       "[5] \"a3ss_artery_coronary_AS_model_B_sex_as_events_refined.csv\"         \n",
       "[6] \"a3ss_artery_tibial_AS_model_B_sex_as_events_refined.csv\"           "
      ]
     },
     "metadata": {},
     "output_type": "display_data"
    }
   ],
   "source": [
    "head(tables_filenames)"
   ]
  },
  {
   "cell_type": "code",
   "execution_count": 22,
   "metadata": {
    "papermill": {
     "duration": 0.156046,
     "end_time": "2021-06-28T12:37:28.629077",
     "exception": false,
     "start_time": "2021-06-28T12:37:28.473031",
     "status": "completed"
    },
    "tags": []
   },
   "outputs": [],
   "source": [
    "all_topTables <- lapply(tables_filepaths,read.csv)\n",
    "names(all_topTables) <- gsub(suffix_pattern,\"\", tables_filenames)"
   ]
  },
  {
   "cell_type": "markdown",
   "metadata": {
    "papermill": {
     "duration": 0.032696,
     "end_time": "2021-06-28T12:37:28.694588",
     "exception": false,
     "start_time": "2021-06-28T12:37:28.661892",
     "status": "completed"
    },
    "tags": []
   },
   "source": [
    "The list named `all_topTables` is the object that holds all the topTable dataframes from each tissue comparison:"
   ]
  },
  {
   "cell_type": "code",
   "execution_count": 23,
   "metadata": {
    "papermill": {
     "duration": 0.058771,
     "end_time": "2021-06-28T12:37:28.785710",
     "exception": false,
     "start_time": "2021-06-28T12:37:28.726939",
     "status": "completed"
    },
    "tags": []
   },
   "outputs": [
    {
     "data": {
      "text/html": [
       "195"
      ],
      "text/latex": [
       "195"
      ],
      "text/markdown": [
       "195"
      ],
      "text/plain": [
       "[1] 195"
      ]
     },
     "metadata": {},
     "output_type": "display_data"
    }
   ],
   "source": [
    "length(all_topTables)"
   ]
  },
  {
   "cell_type": "code",
   "execution_count": 24,
   "metadata": {},
   "outputs": [
    {
     "data": {
      "text/html": [
       "<dl>\n",
       "\t<dt>$a3ss_adipose_subcutaneous</dt>\n",
       "\t\t<dd><table>\n",
       "<caption>A data.frame: 0 × 6</caption>\n",
       "<thead>\n",
       "\t<tr><th scope=col>logFC</th><th scope=col>AveExpr</th><th scope=col>t</th><th scope=col>P.Value</th><th scope=col>adj.P.Val</th><th scope=col>B</th></tr>\n",
       "\t<tr><th scope=col>&lt;lgl&gt;</th><th scope=col>&lt;lgl&gt;</th><th scope=col>&lt;lgl&gt;</th><th scope=col>&lt;lgl&gt;</th><th scope=col>&lt;lgl&gt;</th><th scope=col>&lt;lgl&gt;</th></tr>\n",
       "</thead>\n",
       "<tbody>\n",
       "</tbody>\n",
       "</table>\n",
       "</dd>\n",
       "\t<dt>$a3ss_adipose_visceral_omentum</dt>\n",
       "\t\t<dd><table>\n",
       "<caption>A data.frame: 0 × 6</caption>\n",
       "<thead>\n",
       "\t<tr><th scope=col>logFC</th><th scope=col>AveExpr</th><th scope=col>t</th><th scope=col>P.Value</th><th scope=col>adj.P.Val</th><th scope=col>B</th></tr>\n",
       "\t<tr><th scope=col>&lt;lgl&gt;</th><th scope=col>&lt;lgl&gt;</th><th scope=col>&lt;lgl&gt;</th><th scope=col>&lt;lgl&gt;</th><th scope=col>&lt;lgl&gt;</th><th scope=col>&lt;lgl&gt;</th></tr>\n",
       "</thead>\n",
       "<tbody>\n",
       "</tbody>\n",
       "</table>\n",
       "</dd>\n",
       "\t<dt>$a3ss_adrenal_gland</dt>\n",
       "\t\t<dd><table>\n",
       "<caption>A data.frame: 1 × 6</caption>\n",
       "<thead>\n",
       "\t<tr><th></th><th scope=col>logFC</th><th scope=col>AveExpr</th><th scope=col>t</th><th scope=col>P.Value</th><th scope=col>adj.P.Val</th><th scope=col>B</th></tr>\n",
       "\t<tr><th></th><th scope=col>&lt;dbl&gt;</th><th scope=col>&lt;dbl&gt;</th><th scope=col>&lt;dbl&gt;</th><th scope=col>&lt;dbl&gt;</th><th scope=col>&lt;dbl&gt;</th><th scope=col>&lt;dbl&gt;</th></tr>\n",
       "</thead>\n",
       "<tbody>\n",
       "\t<tr><th scope=row>SCO1-8452</th><td>0.7715834</td><td>5.028635</td><td>4.906848</td><td>1.533202e-06</td><td>0.008170436</td><td>0.8561371</td></tr>\n",
       "</tbody>\n",
       "</table>\n",
       "</dd>\n",
       "\t<dt>$a3ss_artery_aorta</dt>\n",
       "\t\t<dd><table>\n",
       "<caption>A data.frame: 0 × 6</caption>\n",
       "<thead>\n",
       "\t<tr><th scope=col>logFC</th><th scope=col>AveExpr</th><th scope=col>t</th><th scope=col>P.Value</th><th scope=col>adj.P.Val</th><th scope=col>B</th></tr>\n",
       "\t<tr><th scope=col>&lt;lgl&gt;</th><th scope=col>&lt;lgl&gt;</th><th scope=col>&lt;lgl&gt;</th><th scope=col>&lt;lgl&gt;</th><th scope=col>&lt;lgl&gt;</th><th scope=col>&lt;lgl&gt;</th></tr>\n",
       "</thead>\n",
       "<tbody>\n",
       "</tbody>\n",
       "</table>\n",
       "</dd>\n",
       "\t<dt>$a3ss_artery_coronary</dt>\n",
       "\t\t<dd><table>\n",
       "<caption>A data.frame: 1 × 6</caption>\n",
       "<thead>\n",
       "\t<tr><th></th><th scope=col>logFC</th><th scope=col>AveExpr</th><th scope=col>t</th><th scope=col>P.Value</th><th scope=col>adj.P.Val</th><th scope=col>B</th></tr>\n",
       "\t<tr><th></th><th scope=col>&lt;dbl&gt;</th><th scope=col>&lt;dbl&gt;</th><th scope=col>&lt;dbl&gt;</th><th scope=col>&lt;dbl&gt;</th><th scope=col>&lt;dbl&gt;</th><th scope=col>&lt;dbl&gt;</th></tr>\n",
       "</thead>\n",
       "<tbody>\n",
       "\t<tr><th scope=row>XIST-2252</th><td>-2.188097</td><td>4.327079</td><td>-10.32935</td><td>4.631685e-21</td><td>2.464057e-17</td><td>16.75351</td></tr>\n",
       "</tbody>\n",
       "</table>\n",
       "</dd>\n",
       "\t<dt>$a3ss_artery_tibial</dt>\n",
       "\t\t<dd><table>\n",
       "<caption>A data.frame: 0 × 6</caption>\n",
       "<thead>\n",
       "\t<tr><th scope=col>logFC</th><th scope=col>AveExpr</th><th scope=col>t</th><th scope=col>P.Value</th><th scope=col>adj.P.Val</th><th scope=col>B</th></tr>\n",
       "\t<tr><th scope=col>&lt;lgl&gt;</th><th scope=col>&lt;lgl&gt;</th><th scope=col>&lt;lgl&gt;</th><th scope=col>&lt;lgl&gt;</th><th scope=col>&lt;lgl&gt;</th><th scope=col>&lt;lgl&gt;</th></tr>\n",
       "</thead>\n",
       "<tbody>\n",
       "</tbody>\n",
       "</table>\n",
       "</dd>\n",
       "</dl>\n"
      ],
      "text/latex": [
       "\\begin{description}\n",
       "\\item[\\$a3ss\\_adipose\\_subcutaneous] A data.frame: 0 × 6\n",
       "\\begin{tabular}{llllll}\n",
       " logFC & AveExpr & t & P.Value & adj.P.Val & B\\\\\n",
       " <lgl> & <lgl> & <lgl> & <lgl> & <lgl> & <lgl>\\\\\n",
       "\\hline\n",
       "\\end{tabular}\n",
       "\n",
       "\\item[\\$a3ss\\_adipose\\_visceral\\_omentum] A data.frame: 0 × 6\n",
       "\\begin{tabular}{llllll}\n",
       " logFC & AveExpr & t & P.Value & adj.P.Val & B\\\\\n",
       " <lgl> & <lgl> & <lgl> & <lgl> & <lgl> & <lgl>\\\\\n",
       "\\hline\n",
       "\\end{tabular}\n",
       "\n",
       "\\item[\\$a3ss\\_adrenal\\_gland] A data.frame: 1 × 6\n",
       "\\begin{tabular}{r|llllll}\n",
       "  & logFC & AveExpr & t & P.Value & adj.P.Val & B\\\\\n",
       "  & <dbl> & <dbl> & <dbl> & <dbl> & <dbl> & <dbl>\\\\\n",
       "\\hline\n",
       "\tSCO1-8452 & 0.7715834 & 5.028635 & 4.906848 & 1.533202e-06 & 0.008170436 & 0.8561371\\\\\n",
       "\\end{tabular}\n",
       "\n",
       "\\item[\\$a3ss\\_artery\\_aorta] A data.frame: 0 × 6\n",
       "\\begin{tabular}{llllll}\n",
       " logFC & AveExpr & t & P.Value & adj.P.Val & B\\\\\n",
       " <lgl> & <lgl> & <lgl> & <lgl> & <lgl> & <lgl>\\\\\n",
       "\\hline\n",
       "\\end{tabular}\n",
       "\n",
       "\\item[\\$a3ss\\_artery\\_coronary] A data.frame: 1 × 6\n",
       "\\begin{tabular}{r|llllll}\n",
       "  & logFC & AveExpr & t & P.Value & adj.P.Val & B\\\\\n",
       "  & <dbl> & <dbl> & <dbl> & <dbl> & <dbl> & <dbl>\\\\\n",
       "\\hline\n",
       "\tXIST-2252 & -2.188097 & 4.327079 & -10.32935 & 4.631685e-21 & 2.464057e-17 & 16.75351\\\\\n",
       "\\end{tabular}\n",
       "\n",
       "\\item[\\$a3ss\\_artery\\_tibial] A data.frame: 0 × 6\n",
       "\\begin{tabular}{llllll}\n",
       " logFC & AveExpr & t & P.Value & adj.P.Val & B\\\\\n",
       " <lgl> & <lgl> & <lgl> & <lgl> & <lgl> & <lgl>\\\\\n",
       "\\hline\n",
       "\\end{tabular}\n",
       "\n",
       "\\end{description}\n"
      ],
      "text/markdown": [
       "$a3ss_adipose_subcutaneous\n",
       ":   \n",
       "A data.frame: 0 × 6\n",
       "\n",
       "| logFC &lt;lgl&gt; | AveExpr &lt;lgl&gt; | t &lt;lgl&gt; | P.Value &lt;lgl&gt; | adj.P.Val &lt;lgl&gt; | B &lt;lgl&gt; |\n",
       "|---|---|---|---|---|---|\n",
       "\n",
       "\n",
       "$a3ss_adipose_visceral_omentum\n",
       ":   \n",
       "A data.frame: 0 × 6\n",
       "\n",
       "| logFC &lt;lgl&gt; | AveExpr &lt;lgl&gt; | t &lt;lgl&gt; | P.Value &lt;lgl&gt; | adj.P.Val &lt;lgl&gt; | B &lt;lgl&gt; |\n",
       "|---|---|---|---|---|---|\n",
       "\n",
       "\n",
       "$a3ss_adrenal_gland\n",
       ":   \n",
       "A data.frame: 1 × 6\n",
       "\n",
       "| <!--/--> | logFC &lt;dbl&gt; | AveExpr &lt;dbl&gt; | t &lt;dbl&gt; | P.Value &lt;dbl&gt; | adj.P.Val &lt;dbl&gt; | B &lt;dbl&gt; |\n",
       "|---|---|---|---|---|---|---|\n",
       "| SCO1-8452 | 0.7715834 | 5.028635 | 4.906848 | 1.533202e-06 | 0.008170436 | 0.8561371 |\n",
       "\n",
       "\n",
       "$a3ss_artery_aorta\n",
       ":   \n",
       "A data.frame: 0 × 6\n",
       "\n",
       "| logFC &lt;lgl&gt; | AveExpr &lt;lgl&gt; | t &lt;lgl&gt; | P.Value &lt;lgl&gt; | adj.P.Val &lt;lgl&gt; | B &lt;lgl&gt; |\n",
       "|---|---|---|---|---|---|\n",
       "\n",
       "\n",
       "$a3ss_artery_coronary\n",
       ":   \n",
       "A data.frame: 1 × 6\n",
       "\n",
       "| <!--/--> | logFC &lt;dbl&gt; | AveExpr &lt;dbl&gt; | t &lt;dbl&gt; | P.Value &lt;dbl&gt; | adj.P.Val &lt;dbl&gt; | B &lt;dbl&gt; |\n",
       "|---|---|---|---|---|---|---|\n",
       "| XIST-2252 | -2.188097 | 4.327079 | -10.32935 | 4.631685e-21 | 2.464057e-17 | 16.75351 |\n",
       "\n",
       "\n",
       "$a3ss_artery_tibial\n",
       ":   \n",
       "A data.frame: 0 × 6\n",
       "\n",
       "| logFC &lt;lgl&gt; | AveExpr &lt;lgl&gt; | t &lt;lgl&gt; | P.Value &lt;lgl&gt; | adj.P.Val &lt;lgl&gt; | B &lt;lgl&gt; |\n",
       "|---|---|---|---|---|---|\n",
       "\n",
       "\n",
       "\n",
       "\n"
      ],
      "text/plain": [
       "$a3ss_adipose_subcutaneous\n",
       "[1] logFC     AveExpr   t         P.Value   adj.P.Val B        \n",
       "<0 rows> (or 0-length row.names)\n",
       "\n",
       "$a3ss_adipose_visceral_omentum\n",
       "[1] logFC     AveExpr   t         P.Value   adj.P.Val B        \n",
       "<0 rows> (or 0-length row.names)\n",
       "\n",
       "$a3ss_adrenal_gland\n",
       "              logFC  AveExpr        t      P.Value   adj.P.Val         B\n",
       "SCO1-8452 0.7715834 5.028635 4.906848 1.533202e-06 0.008170436 0.8561371\n",
       "\n",
       "$a3ss_artery_aorta\n",
       "[1] logFC     AveExpr   t         P.Value   adj.P.Val B        \n",
       "<0 rows> (or 0-length row.names)\n",
       "\n",
       "$a3ss_artery_coronary\n",
       "              logFC  AveExpr         t      P.Value    adj.P.Val        B\n",
       "XIST-2252 -2.188097 4.327079 -10.32935 4.631685e-21 2.464057e-17 16.75351\n",
       "\n",
       "$a3ss_artery_tibial\n",
       "[1] logFC     AveExpr   t         P.Value   adj.P.Val B        \n",
       "<0 rows> (or 0-length row.names)\n"
      ]
     },
     "metadata": {},
     "output_type": "display_data"
    }
   ],
   "source": [
    "head (all_topTables)"
   ]
  },
  {
   "cell_type": "code",
   "execution_count": 25,
   "metadata": {
    "papermill": {
     "duration": 0.063477,
     "end_time": "2021-06-28T12:37:28.881875",
     "exception": false,
     "start_time": "2021-06-28T12:37:28.818398",
     "status": "completed"
    },
    "tags": []
   },
   "outputs": [
    {
     "data": {
      "text/plain": [
       "                                           Length Class      Mode\n",
       "a3ss_adipose_subcutaneous                  6      data.frame list\n",
       "a3ss_adipose_visceral_omentum              6      data.frame list\n",
       "a3ss_adrenal_gland                         6      data.frame list\n",
       "a3ss_artery_aorta                          6      data.frame list\n",
       "a3ss_artery_coronary                       6      data.frame list\n",
       "a3ss_artery_tibial                         6      data.frame list\n",
       "a3ss_brain_caudate_basal_ganglia           6      data.frame list\n",
       "a3ss_brain_cerebellar_hemisphere           6      data.frame list\n",
       "a3ss_brain_cerebellum                      6      data.frame list\n",
       "a3ss_brain_cortex                          6      data.frame list\n",
       "a3ss_brain_frontal_cortex_ba_9             6      data.frame list\n",
       "a3ss_brain_hippocampus                     6      data.frame list\n",
       "a3ss_brain_hypothalamus                    6      data.frame list\n",
       "a3ss_brain_nucleus_accumbens_basal_ganglia 6      data.frame list\n",
       "a3ss_brain_putamen_basal_ganglia           6      data.frame list\n",
       "a3ss_brain_spinal_cord_cervical_c_1        6      data.frame list\n",
       "a3ss_breast_mammary_tissue                 6      data.frame list\n",
       "a3ss_cells_cultured_fibroblasts            6      data.frame list\n",
       "a3ss_cells_ebv_transformed_lymphocytes     6      data.frame list\n",
       "a3ss_colon_sigmoid                         6      data.frame list\n",
       "a3ss_colon_transverse                      6      data.frame list\n",
       "a3ss_esophagus_gastroesophageal_junction   6      data.frame list\n",
       "a3ss_esophagus_mucosa                      6      data.frame list\n",
       "a3ss_esophagus_muscularis                  6      data.frame list\n",
       "a3ss_heart_atrial_appendage                6      data.frame list\n",
       "a3ss_heart_left_ventricle                  6      data.frame list\n",
       "a3ss_liver                                 6      data.frame list\n",
       "a3ss_lung                                  6      data.frame list\n",
       "a3ss_muscle_skeletal                       6      data.frame list\n",
       "a3ss_nerve_tibial                          6      data.frame list\n",
       "a3ss_pancreas                              6      data.frame list\n",
       "a3ss_pituitary                             6      data.frame list\n",
       "a3ss_skin_not_sun_exposed_suprapubic       6      data.frame list\n",
       "a3ss_skin_sun_exposed_lower_leg            6      data.frame list\n",
       "a3ss_small_intestine_terminal_ileum        6      data.frame list\n",
       "a3ss_spleen                                6      data.frame list\n",
       "a3ss_stomach                               6      data.frame list\n",
       "a3ss_thyroid                               6      data.frame list\n",
       "a3ss_whole_blood                           6      data.frame list\n",
       "a5ss_adipose_subcutaneous                  6      data.frame list\n",
       "a5ss_adipose_visceral_omentum              6      data.frame list\n",
       "a5ss_adrenal_gland                         6      data.frame list\n",
       "a5ss_artery_aorta                          6      data.frame list\n",
       "a5ss_artery_coronary                       6      data.frame list\n",
       "a5ss_artery_tibial                         6      data.frame list\n",
       "a5ss_brain_caudate_basal_ganglia           6      data.frame list\n",
       "a5ss_brain_cerebellar_hemisphere           6      data.frame list\n",
       "a5ss_brain_cerebellum                      6      data.frame list\n",
       "a5ss_brain_cortex                          6      data.frame list\n",
       "a5ss_brain_frontal_cortex_ba_9             6      data.frame list\n",
       "a5ss_brain_hippocampus                     6      data.frame list\n",
       "a5ss_brain_hypothalamus                    6      data.frame list\n",
       "a5ss_brain_nucleus_accumbens_basal_ganglia 6      data.frame list\n",
       "a5ss_brain_putamen_basal_ganglia           6      data.frame list\n",
       "a5ss_brain_spinal_cord_cervical_c_1        6      data.frame list\n",
       "a5ss_breast_mammary_tissue                 6      data.frame list\n",
       "a5ss_cells_cultured_fibroblasts            6      data.frame list\n",
       "a5ss_cells_ebv_transformed_lymphocytes     6      data.frame list\n",
       "a5ss_colon_sigmoid                         6      data.frame list\n",
       "a5ss_colon_transverse                      6      data.frame list\n",
       "a5ss_esophagus_gastroesophageal_junction   6      data.frame list\n",
       "a5ss_esophagus_mucosa                      6      data.frame list\n",
       "a5ss_esophagus_muscularis                  6      data.frame list\n",
       "a5ss_heart_atrial_appendage                6      data.frame list\n",
       "a5ss_heart_left_ventricle                  6      data.frame list\n",
       "a5ss_liver                                 6      data.frame list\n",
       "a5ss_lung                                  6      data.frame list\n",
       "a5ss_muscle_skeletal                       6      data.frame list\n",
       "a5ss_nerve_tibial                          6      data.frame list\n",
       "a5ss_pancreas                              6      data.frame list\n",
       "a5ss_pituitary                             6      data.frame list\n",
       "a5ss_skin_not_sun_exposed_suprapubic       6      data.frame list\n",
       "a5ss_skin_sun_exposed_lower_leg            6      data.frame list\n",
       "a5ss_small_intestine_terminal_ileum        6      data.frame list\n",
       "a5ss_spleen                                6      data.frame list\n",
       "a5ss_stomach                               6      data.frame list\n",
       "a5ss_thyroid                               6      data.frame list\n",
       "a5ss_whole_blood                           6      data.frame list\n",
       "mxe_adipose_subcutaneous                   6      data.frame list\n",
       "mxe_adipose_visceral_omentum               6      data.frame list\n",
       "mxe_adrenal_gland                          6      data.frame list\n",
       "mxe_artery_aorta                           6      data.frame list\n",
       "mxe_artery_coronary                        6      data.frame list\n",
       "mxe_artery_tibial                          6      data.frame list\n",
       "mxe_brain_caudate_basal_ganglia            6      data.frame list\n",
       "mxe_brain_cerebellar_hemisphere            6      data.frame list\n",
       "mxe_brain_cerebellum                       6      data.frame list\n",
       "mxe_brain_cortex                           6      data.frame list\n",
       "mxe_brain_frontal_cortex_ba_9              6      data.frame list\n",
       "mxe_brain_hippocampus                      6      data.frame list\n",
       "mxe_brain_hypothalamus                     6      data.frame list\n",
       "mxe_brain_nucleus_accumbens_basal_ganglia  6      data.frame list\n",
       "mxe_brain_putamen_basal_ganglia            6      data.frame list\n",
       "mxe_brain_spinal_cord_cervical_c_1         6      data.frame list\n",
       "mxe_breast_mammary_tissue                  6      data.frame list\n",
       "mxe_cells_cultured_fibroblasts             6      data.frame list\n",
       "mxe_cells_ebv_transformed_lymphocytes      6      data.frame list\n",
       "mxe_colon_sigmoid                          6      data.frame list\n",
       "mxe_colon_transverse                       6      data.frame list\n",
       "mxe_esophagus_gastroesophageal_junction    6      data.frame list\n",
       "mxe_esophagus_mucosa                       6      data.frame list\n",
       "mxe_esophagus_muscularis                   6      data.frame list\n",
       "mxe_heart_atrial_appendage                 6      data.frame list\n",
       "mxe_heart_left_ventricle                   6      data.frame list\n",
       "mxe_liver                                  6      data.frame list\n",
       "mxe_lung                                   6      data.frame list\n",
       "mxe_muscle_skeletal                        6      data.frame list\n",
       "mxe_nerve_tibial                           6      data.frame list\n",
       "mxe_pancreas                               6      data.frame list\n",
       "mxe_pituitary                              6      data.frame list\n",
       "mxe_skin_not_sun_exposed_suprapubic        6      data.frame list\n",
       "mxe_skin_sun_exposed_lower_leg             6      data.frame list\n",
       "mxe_small_intestine_terminal_ileum         6      data.frame list\n",
       "mxe_spleen                                 6      data.frame list\n",
       "mxe_stomach                                6      data.frame list\n",
       "mxe_thyroid                                6      data.frame list\n",
       "mxe_whole_blood                            6      data.frame list\n",
       "ri_adipose_subcutaneous                    6      data.frame list\n",
       "ri_adipose_visceral_omentum                6      data.frame list\n",
       "ri_adrenal_gland                           6      data.frame list\n",
       "ri_artery_aorta                            6      data.frame list\n",
       "ri_artery_coronary                         6      data.frame list\n",
       "ri_artery_tibial                           6      data.frame list\n",
       "ri_brain_caudate_basal_ganglia             6      data.frame list\n",
       "ri_brain_cerebellar_hemisphere             6      data.frame list\n",
       "ri_brain_cerebellum                        6      data.frame list\n",
       "ri_brain_cortex                            6      data.frame list\n",
       "ri_brain_frontal_cortex_ba_9               6      data.frame list\n",
       "ri_brain_hippocampus                       6      data.frame list\n",
       "ri_brain_hypothalamus                      6      data.frame list\n",
       "ri_brain_nucleus_accumbens_basal_ganglia   6      data.frame list\n",
       "ri_brain_putamen_basal_ganglia             6      data.frame list\n",
       "ri_brain_spinal_cord_cervical_c_1          6      data.frame list\n",
       "ri_breast_mammary_tissue                   6      data.frame list\n",
       "ri_cells_cultured_fibroblasts              6      data.frame list\n",
       "ri_cells_ebv_transformed_lymphocytes       6      data.frame list\n",
       "ri_colon_sigmoid                           6      data.frame list\n",
       "ri_colon_transverse                        6      data.frame list\n",
       "ri_esophagus_gastroesophageal_junction     6      data.frame list\n",
       "ri_esophagus_mucosa                        6      data.frame list\n",
       "ri_esophagus_muscularis                    6      data.frame list\n",
       "ri_heart_atrial_appendage                  6      data.frame list\n",
       "ri_heart_left_ventricle                    6      data.frame list\n",
       "ri_liver                                   6      data.frame list\n",
       "ri_lung                                    6      data.frame list\n",
       "ri_muscle_skeletal                         6      data.frame list\n",
       "ri_nerve_tibial                            6      data.frame list\n",
       "ri_pancreas                                6      data.frame list\n",
       "ri_pituitary                               6      data.frame list\n",
       "ri_skin_not_sun_exposed_suprapubic         6      data.frame list\n",
       "ri_skin_sun_exposed_lower_leg              6      data.frame list\n",
       "ri_small_intestine_terminal_ileum          6      data.frame list\n",
       "ri_spleen                                  6      data.frame list\n",
       "ri_stomach                                 6      data.frame list\n",
       "ri_thyroid                                 6      data.frame list\n",
       "ri_whole_blood                             6      data.frame list\n",
       "se_adipose_subcutaneous                    6      data.frame list\n",
       "se_adipose_visceral_omentum                6      data.frame list\n",
       "se_adrenal_gland                           6      data.frame list\n",
       "se_artery_aorta                            6      data.frame list\n",
       "se_artery_coronary                         6      data.frame list\n",
       "se_artery_tibial                           6      data.frame list\n",
       "se_brain_caudate_basal_ganglia             6      data.frame list\n",
       "se_brain_cerebellar_hemisphere             6      data.frame list\n",
       "se_brain_cerebellum                        6      data.frame list\n",
       "se_brain_cortex                            6      data.frame list\n",
       "se_brain_frontal_cortex_ba_9               6      data.frame list\n",
       "se_brain_hippocampus                       6      data.frame list\n",
       "se_brain_hypothalamus                      6      data.frame list\n",
       "se_brain_nucleus_accumbens_basal_ganglia   6      data.frame list\n",
       "se_brain_putamen_basal_ganglia             6      data.frame list\n",
       "se_brain_spinal_cord_cervical_c_1          6      data.frame list\n",
       "se_breast_mammary_tissue                   6      data.frame list\n",
       "se_cells_cultured_fibroblasts              6      data.frame list\n",
       "se_cells_ebv_transformed_lymphocytes       6      data.frame list\n",
       "se_colon_sigmoid                           6      data.frame list\n",
       "se_colon_transverse                        6      data.frame list\n",
       "se_esophagus_gastroesophageal_junction     6      data.frame list\n",
       "se_esophagus_mucosa                        6      data.frame list\n",
       "se_esophagus_muscularis                    6      data.frame list\n",
       "se_heart_atrial_appendage                  6      data.frame list\n",
       "se_heart_left_ventricle                    6      data.frame list\n",
       "se_liver                                   6      data.frame list\n",
       "se_lung                                    6      data.frame list\n",
       "se_muscle_skeletal                         6      data.frame list\n",
       "se_nerve_tibial                            6      data.frame list\n",
       "se_pancreas                                6      data.frame list\n",
       "se_pituitary                               6      data.frame list\n",
       "se_skin_not_sun_exposed_suprapubic         6      data.frame list\n",
       "se_skin_sun_exposed_lower_leg              6      data.frame list\n",
       "se_small_intestine_terminal_ileum          6      data.frame list\n",
       "se_spleen                                  6      data.frame list\n",
       "se_stomach                                 6      data.frame list\n",
       "se_thyroid                                 6      data.frame list\n",
       "se_whole_blood                             6      data.frame list"
      ]
     },
     "metadata": {},
     "output_type": "display_data"
    }
   ],
   "source": [
    "summary(all_topTables)"
   ]
  },
  {
   "cell_type": "code",
   "execution_count": 27,
   "metadata": {
    "papermill": {
     "duration": 0.069082,
     "end_time": "2021-06-28T12:37:28.994699",
     "exception": false,
     "start_time": "2021-06-28T12:37:28.925617",
     "status": "completed"
    },
    "tags": []
   },
   "outputs": [
    {
     "data": {
      "text/html": [
       "<table>\n",
       "<caption>A data.frame: 1 × 6</caption>\n",
       "<thead>\n",
       "\t<tr><th></th><th scope=col>logFC</th><th scope=col>AveExpr</th><th scope=col>t</th><th scope=col>P.Value</th><th scope=col>adj.P.Val</th><th scope=col>B</th></tr>\n",
       "\t<tr><th></th><th scope=col>&lt;dbl&gt;</th><th scope=col>&lt;dbl&gt;</th><th scope=col>&lt;dbl&gt;</th><th scope=col>&lt;dbl&gt;</th><th scope=col>&lt;dbl&gt;</th><th scope=col>&lt;dbl&gt;</th></tr>\n",
       "</thead>\n",
       "<tbody>\n",
       "\t<tr><th scope=row>SCO1-8452</th><td>0.7715834</td><td>5.028635</td><td>4.906848</td><td>1.533202e-06</td><td>0.008170436</td><td>0.8561371</td></tr>\n",
       "</tbody>\n",
       "</table>\n"
      ],
      "text/latex": [
       "A data.frame: 1 × 6\n",
       "\\begin{tabular}{r|llllll}\n",
       "  & logFC & AveExpr & t & P.Value & adj.P.Val & B\\\\\n",
       "  & <dbl> & <dbl> & <dbl> & <dbl> & <dbl> & <dbl>\\\\\n",
       "\\hline\n",
       "\tSCO1-8452 & 0.7715834 & 5.028635 & 4.906848 & 1.533202e-06 & 0.008170436 & 0.8561371\\\\\n",
       "\\end{tabular}\n"
      ],
      "text/markdown": [
       "\n",
       "A data.frame: 1 × 6\n",
       "\n",
       "| <!--/--> | logFC &lt;dbl&gt; | AveExpr &lt;dbl&gt; | t &lt;dbl&gt; | P.Value &lt;dbl&gt; | adj.P.Val &lt;dbl&gt; | B &lt;dbl&gt; |\n",
       "|---|---|---|---|---|---|---|\n",
       "| SCO1-8452 | 0.7715834 | 5.028635 | 4.906848 | 1.533202e-06 | 0.008170436 | 0.8561371 |\n",
       "\n"
      ],
      "text/plain": [
       "          logFC     AveExpr  t        P.Value      adj.P.Val   B        \n",
       "SCO1-8452 0.7715834 5.028635 4.906848 1.533202e-06 0.008170436 0.8561371"
      ]
     },
     "metadata": {},
     "output_type": "display_data"
    }
   ],
   "source": [
    "head(all_topTables[[3]] , 2)"
   ]
  },
  {
   "cell_type": "markdown",
   "metadata": {
    "papermill": {
     "duration": 0.045106,
     "end_time": "2021-06-28T12:37:29.084858",
     "exception": false,
     "start_time": "2021-06-28T12:37:29.039752",
     "status": "completed"
    },
    "tags": []
   },
   "source": [
    "# Example with one topTable before iterating over all tissues"
   ]
  },
  {
   "cell_type": "code",
   "execution_count": 28,
   "metadata": {
    "papermill": {
     "duration": 0.07248,
     "end_time": "2021-06-28T12:37:29.200234",
     "exception": false,
     "start_time": "2021-06-28T12:37:29.127754",
     "status": "completed"
    },
    "tags": []
   },
   "outputs": [
    {
     "data": {
      "text/html": [
       "'a3ss_adrenal_gland'"
      ],
      "text/latex": [
       "'a3ss\\_adrenal\\_gland'"
      ],
      "text/markdown": [
       "'a3ss_adrenal_gland'"
      ],
      "text/plain": [
       "[1] \"a3ss_adrenal_gland\""
      ]
     },
     "metadata": {},
     "output_type": "display_data"
    },
    {
     "data": {
      "text/html": [
       "<table>\n",
       "<caption>A data.frame: 1 × 6</caption>\n",
       "<thead>\n",
       "\t<tr><th></th><th scope=col>logFC</th><th scope=col>AveExpr</th><th scope=col>t</th><th scope=col>P.Value</th><th scope=col>adj.P.Val</th><th scope=col>B</th></tr>\n",
       "\t<tr><th></th><th scope=col>&lt;dbl&gt;</th><th scope=col>&lt;dbl&gt;</th><th scope=col>&lt;dbl&gt;</th><th scope=col>&lt;dbl&gt;</th><th scope=col>&lt;dbl&gt;</th><th scope=col>&lt;dbl&gt;</th></tr>\n",
       "</thead>\n",
       "<tbody>\n",
       "\t<tr><th scope=row>SCO1-8452</th><td>0.7715834</td><td>5.028635</td><td>4.906848</td><td>1.533202e-06</td><td>0.008170436</td><td>0.8561371</td></tr>\n",
       "</tbody>\n",
       "</table>\n"
      ],
      "text/latex": [
       "A data.frame: 1 × 6\n",
       "\\begin{tabular}{r|llllll}\n",
       "  & logFC & AveExpr & t & P.Value & adj.P.Val & B\\\\\n",
       "  & <dbl> & <dbl> & <dbl> & <dbl> & <dbl> & <dbl>\\\\\n",
       "\\hline\n",
       "\tSCO1-8452 & 0.7715834 & 5.028635 & 4.906848 & 1.533202e-06 & 0.008170436 & 0.8561371\\\\\n",
       "\\end{tabular}\n"
      ],
      "text/markdown": [
       "\n",
       "A data.frame: 1 × 6\n",
       "\n",
       "| <!--/--> | logFC &lt;dbl&gt; | AveExpr &lt;dbl&gt; | t &lt;dbl&gt; | P.Value &lt;dbl&gt; | adj.P.Val &lt;dbl&gt; | B &lt;dbl&gt; |\n",
       "|---|---|---|---|---|---|---|\n",
       "| SCO1-8452 | 0.7715834 | 5.028635 | 4.906848 | 1.533202e-06 | 0.008170436 | 0.8561371 |\n",
       "\n"
      ],
      "text/plain": [
       "          logFC     AveExpr  t        P.Value      adj.P.Val   B        \n",
       "SCO1-8452 0.7715834 5.028635 4.906848 1.533202e-06 0.008170436 0.8561371"
      ]
     },
     "metadata": {},
     "output_type": "display_data"
    }
   ],
   "source": [
    "# Example topTable and name\n",
    "topTable <- all_topTables[[3]]\n",
    "name     <- names( all_topTables)[3]\n",
    "name\n",
    "head(topTable,2)"
   ]
  },
  {
   "cell_type": "markdown",
   "metadata": {
    "papermill": {
     "duration": 0.035795,
     "end_time": "2021-06-28T12:37:29.272066",
     "exception": false,
     "start_time": "2021-06-28T12:37:29.236271",
     "status": "completed"
    },
    "tags": []
   },
   "source": [
    "## Defining the thresholds for the double criterion filtering:\n",
    "\n",
    "Criteria:\n",
    "- Adjusted p-value < `p_value_cuttoff`\n",
    "- Absolute FoldChange > `absFold_change_threshold`"
   ]
  },
  {
   "cell_type": "markdown",
   "metadata": {
    "papermill": {
     "duration": 0.035856,
     "end_time": "2021-06-28T12:37:29.343241",
     "exception": false,
     "start_time": "2021-06-28T12:37:29.307385",
     "status": "completed"
    },
    "tags": []
   },
   "source": [
    "----\n",
    "\n",
    "***NOTE***\n",
    "\n",
    "Defining higher in males or females based on the limma design matrix.\n",
    "As we have used 1 for encoding the females and 2 for the males, our *reference level* for the contrast in the expression between males and females is 1, the females.\n",
    "\n",
    "\n",
    "From the `limma` documentation:\n",
    ">The level which is chosen for the *reference level* is the level which is contrasted against. By default, this is simply the first level alphabetically. We can specify that we want group 2 to be the reference level by either using the relevel function [..]\n",
    "\n",
    "By convention, we could say that genes with positive log fold change, are higher in males, whereas the opposite holds true for the ones that are observed to have negative log fold change. \n",
    "\n",
    "---"
   ]
  },
  {
   "cell_type": "code",
   "execution_count": 29,
   "metadata": {
    "papermill": {
     "duration": 0.055103,
     "end_time": "2021-06-28T12:37:29.436088",
     "exception": false,
     "start_time": "2021-06-28T12:37:29.380985",
     "status": "completed"
    },
    "tags": []
   },
   "outputs": [],
   "source": [
    "adj.P.Val_threshold  <- 0.05\n",
    "absFoldChange_cutoff <- 1.5"
   ]
  },
  {
   "cell_type": "markdown",
   "metadata": {
    "papermill": {
     "duration": 0.035574,
     "end_time": "2021-06-28T12:37:29.507427",
     "exception": false,
     "start_time": "2021-06-28T12:37:29.471853",
     "status": "completed"
    },
    "tags": []
   },
   "source": [
    "Replacing potential `NA` values in the `P.Value`, `adj.P.Val` to keep the columns numeric and avoid coersion."
   ]
  },
  {
   "cell_type": "code",
   "execution_count": 30,
   "metadata": {
    "papermill": {
     "duration": 0.054573,
     "end_time": "2021-06-28T12:37:29.598151",
     "exception": false,
     "start_time": "2021-06-28T12:37:29.543578",
     "status": "completed"
    },
    "tags": []
   },
   "outputs": [],
   "source": [
    "# replacing NA p-values with p-value = 1\n",
    "topTable$P.Value[is.na(topTable$P.Value)]     <- 1; \n",
    "topTable$adj.P.Val[is.na(topTable$adj.P.Val)] <- 1;"
   ]
  },
  {
   "cell_type": "markdown",
   "metadata": {
    "tags": [
     "papermill-error-cell-tag"
    ]
   },
   "source": [
    "<span id=\"papermill-error-cell\" style=\"color:red; font-family:Helvetica Neue, Helvetica, Arial, sans-serif; font-size:2em;\">Execution using papermill encountered an exception here and stopped:</span>"
   ]
  },
  {
   "cell_type": "code",
   "execution_count": 31,
   "metadata": {
    "papermill": {
     "duration": 0.062814,
     "end_time": "2021-06-28T12:37:29.696792",
     "exception": true,
     "start_time": "2021-06-28T12:37:29.633978",
     "status": "failed"
    },
    "tags": []
   },
   "outputs": [],
   "source": [
    "# Add helper variable dummy `FoldChange` variable. Use 2 as base of log, because this is the default from limma\n",
    "# The following statement calculates a dummy fold change (how many times higher or lower)\n",
    "# The minus symbol is a convention symbol only! to express eg. a fold change of 0.25 as -4, 4 times lower\n",
    "topTable$FoldChange_dummy    <-   ifelse(topTable$logFC > 0, 2 ^ topTable$logFC, -1 / (2 ^ topTable$logFC))                    \n",
    "\n",
    "# Add helper variable `abs_logFC`.\n",
    "topTable$abs_logFC <- abs(topTable$logFC)\n",
    "\n",
    "# Add helper variable `abundance` for up, down, non_signif\n",
    "topTable$abundance                                                  <- \"non_signif\"\n",
    "topTable$abundance[ ((topTable$logFC >   log2(absFoldChange_cutoff)) & (topTable$adj.P.Val <= adj.P.Val_threshold )) ]   <- \"higher\"\n",
    "topTable$abundance[ ((topTable$logFC <  -log2(absFoldChange_cutoff)) & (topTable$adj.P.Val <= adj.P.Val_threshold )) ]   <- \"lower\"\n"
   ]
  },
  {
   "cell_type": "code",
   "execution_count": 32,
   "metadata": {
    "papermill": {
     "duration": null,
     "end_time": null,
     "exception": null,
     "start_time": null,
     "status": "pending"
    },
    "tags": []
   },
   "outputs": [
    {
     "data": {
      "text/html": [
       "<style>\n",
       ".list-inline {list-style: none; margin:0; padding: 0}\n",
       ".list-inline>li {display: inline-block}\n",
       ".list-inline>li:not(:last-child)::after {content: \"\\00b7\"; padding: 0 .5ex}\n",
       "</style>\n",
       "<ol class=list-inline><li>0</li><li>9</li></ol>\n"
      ],
      "text/latex": [
       "\\begin{enumerate*}\n",
       "\\item 0\n",
       "\\item 9\n",
       "\\end{enumerate*}\n"
      ],
      "text/markdown": [
       "1. 0\n",
       "2. 9\n",
       "\n",
       "\n"
      ],
      "text/plain": [
       "[1] 0 9"
      ]
     },
     "metadata": {},
     "output_type": "display_data"
    },
    {
     "data": {
      "text/html": [
       "<style>\n",
       ".list-inline {list-style: none; margin:0; padding: 0}\n",
       ".list-inline>li {display: inline-block}\n",
       ".list-inline>li:not(:last-child)::after {content: \"\\00b7\"; padding: 0 .5ex}\n",
       "</style>\n",
       "<ol class=list-inline><li>1</li><li>9</li></ol>\n"
      ],
      "text/latex": [
       "\\begin{enumerate*}\n",
       "\\item 1\n",
       "\\item 9\n",
       "\\end{enumerate*}\n"
      ],
      "text/markdown": [
       "1. 1\n",
       "2. 9\n",
       "\n",
       "\n"
      ],
      "text/plain": [
       "[1] 1 9"
      ]
     },
     "metadata": {},
     "output_type": "display_data"
    },
    {
     "data": {
      "text/html": [
       "<style>\n",
       ".list-inline {list-style: none; margin:0; padding: 0}\n",
       ".list-inline>li {display: inline-block}\n",
       ".list-inline>li:not(:last-child)::after {content: \"\\00b7\"; padding: 0 .5ex}\n",
       "</style>\n",
       "<ol class=list-inline><li>0</li><li>9</li></ol>\n"
      ],
      "text/latex": [
       "\\begin{enumerate*}\n",
       "\\item 0\n",
       "\\item 9\n",
       "\\end{enumerate*}\n"
      ],
      "text/markdown": [
       "1. 0\n",
       "2. 9\n",
       "\n",
       "\n"
      ],
      "text/plain": [
       "[1] 0 9"
      ]
     },
     "metadata": {},
     "output_type": "display_data"
    }
   ],
   "source": [
    "dim(topTable[ topTable$abundance == \"non_signif\" ,])\n",
    "dim(topTable[ topTable$abundance == \"higher\" ,])\n",
    "dim(topTable[ topTable$abundance == \"lower\" ,])"
   ]
  },
  {
   "cell_type": "code",
   "execution_count": 33,
   "metadata": {
    "papermill": {
     "duration": null,
     "end_time": null,
     "exception": null,
     "start_time": null,
     "status": "pending"
    },
    "tags": []
   },
   "outputs": [
    {
     "data": {
      "text/plain": [
       "\n",
       "higher \n",
       "     1 "
      ]
     },
     "metadata": {},
     "output_type": "display_data"
    }
   ],
   "source": [
    "table(topTable$abundance)"
   ]
  },
  {
   "cell_type": "markdown",
   "metadata": {
    "papermill": {
     "duration": null,
     "end_time": null,
     "exception": null,
     "start_time": null,
     "status": "pending"
    },
    "tags": []
   },
   "source": [
    "# Define a vector with the columns to keep in the annotated from GTF `topTable` object"
   ]
  },
  {
   "cell_type": "code",
   "execution_count": 34,
   "metadata": {
    "papermill": {
     "duration": null,
     "end_time": null,
     "exception": null,
     "start_time": null,
     "status": "pending"
    },
    "tags": []
   },
   "outputs": [],
   "source": [
    "#toKeep <- c(\"Geneid\",\"logFC\",\"FoldChange_dummy\", \"adj.P.Val\", \"abundance\")\n",
    "toKeep <- colnames(topTable)"
   ]
  },
  {
   "cell_type": "code",
   "execution_count": 35,
   "metadata": {
    "papermill": {
     "duration": null,
     "end_time": null,
     "exception": null,
     "start_time": null,
     "status": "pending"
    },
    "tags": []
   },
   "outputs": [
    {
     "data": {
      "text/html": [
       "<table>\n",
       "<caption>A data.frame: 1 × 9</caption>\n",
       "<thead>\n",
       "\t<tr><th></th><th scope=col>logFC</th><th scope=col>AveExpr</th><th scope=col>t</th><th scope=col>P.Value</th><th scope=col>adj.P.Val</th><th scope=col>B</th><th scope=col>FoldChange_dummy</th><th scope=col>abs_logFC</th><th scope=col>abundance</th></tr>\n",
       "\t<tr><th></th><th scope=col>&lt;dbl&gt;</th><th scope=col>&lt;dbl&gt;</th><th scope=col>&lt;dbl&gt;</th><th scope=col>&lt;dbl&gt;</th><th scope=col>&lt;dbl&gt;</th><th scope=col>&lt;dbl&gt;</th><th scope=col>&lt;dbl&gt;</th><th scope=col>&lt;dbl&gt;</th><th scope=col>&lt;chr&gt;</th></tr>\n",
       "</thead>\n",
       "<tbody>\n",
       "\t<tr><th scope=row>SCO1-8452</th><td>0.7715834</td><td>5.028635</td><td>4.906848</td><td>1.533202e-06</td><td>0.008170436</td><td>0.8561371</td><td>1.707142</td><td>0.7715834</td><td>higher</td></tr>\n",
       "</tbody>\n",
       "</table>\n"
      ],
      "text/latex": [
       "A data.frame: 1 × 9\n",
       "\\begin{tabular}{r|lllllllll}\n",
       "  & logFC & AveExpr & t & P.Value & adj.P.Val & B & FoldChange\\_dummy & abs\\_logFC & abundance\\\\\n",
       "  & <dbl> & <dbl> & <dbl> & <dbl> & <dbl> & <dbl> & <dbl> & <dbl> & <chr>\\\\\n",
       "\\hline\n",
       "\tSCO1-8452 & 0.7715834 & 5.028635 & 4.906848 & 1.533202e-06 & 0.008170436 & 0.8561371 & 1.707142 & 0.7715834 & higher\\\\\n",
       "\\end{tabular}\n"
      ],
      "text/markdown": [
       "\n",
       "A data.frame: 1 × 9\n",
       "\n",
       "| <!--/--> | logFC &lt;dbl&gt; | AveExpr &lt;dbl&gt; | t &lt;dbl&gt; | P.Value &lt;dbl&gt; | adj.P.Val &lt;dbl&gt; | B &lt;dbl&gt; | FoldChange_dummy &lt;dbl&gt; | abs_logFC &lt;dbl&gt; | abundance &lt;chr&gt; |\n",
       "|---|---|---|---|---|---|---|---|---|---|\n",
       "| SCO1-8452 | 0.7715834 | 5.028635 | 4.906848 | 1.533202e-06 | 0.008170436 | 0.8561371 | 1.707142 | 0.7715834 | higher |\n",
       "\n"
      ],
      "text/plain": [
       "          logFC     AveExpr  t        P.Value      adj.P.Val   B        \n",
       "SCO1-8452 0.7715834 5.028635 4.906848 1.533202e-06 0.008170436 0.8561371\n",
       "          FoldChange_dummy abs_logFC abundance\n",
       "SCO1-8452 1.707142         0.7715834 higher   "
      ]
     },
     "metadata": {},
     "output_type": "display_data"
    }
   ],
   "source": [
    "head(topTable[ , colnames(topTable) %in% toKeep ],2)"
   ]
  },
  {
   "cell_type": "code",
   "execution_count": 36,
   "metadata": {
    "papermill": {
     "duration": null,
     "end_time": null,
     "exception": null,
     "start_time": null,
     "status": "pending"
    },
    "tags": []
   },
   "outputs": [
    {
     "data": {
      "text/html": [
       "'a3ss_adrenal_gland'"
      ],
      "text/latex": [
       "'a3ss\\_adrenal\\_gland'"
      ],
      "text/markdown": [
       "'a3ss_adrenal_gland'"
      ],
      "text/plain": [
       "[1] \"a3ss_adrenal_gland\""
      ]
     },
     "metadata": {},
     "output_type": "display_data"
    },
    {
     "data": {
      "text/html": [
       "<style>\n",
       ".list-inline {list-style: none; margin:0; padding: 0}\n",
       ".list-inline>li {display: inline-block}\n",
       ".list-inline>li:not(:last-child)::after {content: \"\\00b7\"; padding: 0 .5ex}\n",
       "</style>\n",
       "<ol class=list-inline><li>1</li><li>9</li></ol>\n"
      ],
      "text/latex": [
       "\\begin{enumerate*}\n",
       "\\item 1\n",
       "\\item 9\n",
       "\\end{enumerate*}\n"
      ],
      "text/markdown": [
       "1. 1\n",
       "2. 9\n",
       "\n",
       "\n"
      ],
      "text/plain": [
       "[1] 1 9"
      ]
     },
     "metadata": {},
     "output_type": "display_data"
    },
    {
     "data": {
      "text/html": [
       "<style>\n",
       ".list-inline {list-style: none; margin:0; padding: 0}\n",
       ".list-inline>li {display: inline-block}\n",
       ".list-inline>li:not(:last-child)::after {content: \"\\00b7\"; padding: 0 .5ex}\n",
       "</style>\n",
       "<ol class=list-inline><li>1</li><li>9</li></ol>\n"
      ],
      "text/latex": [
       "\\begin{enumerate*}\n",
       "\\item 1\n",
       "\\item 9\n",
       "\\end{enumerate*}\n"
      ],
      "text/markdown": [
       "1. 1\n",
       "2. 9\n",
       "\n",
       "\n"
      ],
      "text/plain": [
       "[1] 1 9"
      ]
     },
     "metadata": {},
     "output_type": "display_data"
    },
    {
     "data": {
      "text/html": [
       "<style>\n",
       ".list-inline {list-style: none; margin:0; padding: 0}\n",
       ".list-inline>li {display: inline-block}\n",
       ".list-inline>li:not(:last-child)::after {content: \"\\00b7\"; padding: 0 .5ex}\n",
       "</style>\n",
       "<ol class=list-inline><li>1</li><li>9</li></ol>\n"
      ],
      "text/latex": [
       "\\begin{enumerate*}\n",
       "\\item 1\n",
       "\\item 9\n",
       "\\end{enumerate*}\n"
      ],
      "text/markdown": [
       "1. 1\n",
       "2. 9\n",
       "\n",
       "\n"
      ],
      "text/plain": [
       "[1] 1 9"
      ]
     },
     "metadata": {},
     "output_type": "display_data"
    },
    {
     "data": {
      "text/html": [
       "<style>\n",
       ".list-inline {list-style: none; margin:0; padding: 0}\n",
       ".list-inline>li {display: inline-block}\n",
       ".list-inline>li:not(:last-child)::after {content: \"\\00b7\"; padding: 0 .5ex}\n",
       "</style>\n",
       "<ol class=list-inline><li>0</li><li>9</li></ol>\n"
      ],
      "text/latex": [
       "\\begin{enumerate*}\n",
       "\\item 0\n",
       "\\item 9\n",
       "\\end{enumerate*}\n"
      ],
      "text/markdown": [
       "1. 0\n",
       "2. 9\n",
       "\n",
       "\n"
      ],
      "text/plain": [
       "[1] 0 9"
      ]
     },
     "metadata": {},
     "output_type": "display_data"
    }
   ],
   "source": [
    "name\n",
    "dim(topTable)\n",
    "dim(topTable  [ topTable$abundance != \"non_signif\",  ])\n",
    "dim(topTable  [ ((abs(topTable$logFC > log2(absFoldChange_cutoff)) )  & (topTable$adj.P.Val <= adj.P.Val_threshold )) ,  ])\n",
    "dim(topTable  [ ((abs(topTable$logFC < -log2(absFoldChange_cutoff)) )  & (topTable$adj.P.Val <= adj.P.Val_threshold )) ,  ])"
   ]
  },
  {
   "cell_type": "code",
   "execution_count": 37,
   "metadata": {
    "papermill": {
     "duration": null,
     "end_time": null,
     "exception": null,
     "start_time": null,
     "status": "pending"
    },
    "tags": []
   },
   "outputs": [
    {
     "data": {
      "text/plain": [
       "      \n",
       "       higher\n",
       "  [1,]      1"
      ]
     },
     "metadata": {},
     "output_type": "display_data"
    }
   ],
   "source": [
    "expression_abundance <- t(table(topTable$abundance))\n",
    "expression_abundance"
   ]
  },
  {
   "cell_type": "code",
   "execution_count": 38,
   "metadata": {
    "papermill": {
     "duration": null,
     "end_time": null,
     "exception": null,
     "start_time": null,
     "status": "pending"
    },
    "tags": []
   },
   "outputs": [],
   "source": [
    "expression_abundance <- t(table(topTable$abundance))\n",
    "signif <- as.data.frame.matrix(expression_abundance)"
   ]
  },
  {
   "cell_type": "code",
   "execution_count": 39,
   "metadata": {
    "papermill": {
     "duration": null,
     "end_time": null,
     "exception": null,
     "start_time": null,
     "status": "pending"
    },
    "tags": []
   },
   "outputs": [
    {
     "data": {
      "text/html": [
       "<table>\n",
       "<caption>A data.frame: 1 × 1</caption>\n",
       "<thead>\n",
       "\t<tr><th scope=col>higher</th></tr>\n",
       "\t<tr><th scope=col>&lt;int&gt;</th></tr>\n",
       "</thead>\n",
       "<tbody>\n",
       "\t<tr><td>1</td></tr>\n",
       "</tbody>\n",
       "</table>\n"
      ],
      "text/latex": [
       "A data.frame: 1 × 1\n",
       "\\begin{tabular}{l}\n",
       " higher\\\\\n",
       " <int>\\\\\n",
       "\\hline\n",
       "\t 1\\\\\n",
       "\\end{tabular}\n"
      ],
      "text/markdown": [
       "\n",
       "A data.frame: 1 × 1\n",
       "\n",
       "| higher &lt;int&gt; |\n",
       "|---|\n",
       "| 1 |\n",
       "\n"
      ],
      "text/plain": [
       "  higher\n",
       "1 1     "
      ]
     },
     "metadata": {},
     "output_type": "display_data"
    }
   ],
   "source": [
    "signif"
   ]
  },
  {
   "cell_type": "markdown",
   "metadata": {
    "papermill": {
     "duration": null,
     "end_time": null,
     "exception": null,
     "start_time": null,
     "status": "pending"
    },
    "tags": []
   },
   "source": [
    "To avoid errors in the cases that we might have none lower or none higher, and the matrix might be missing columns we will create a template data.frame and also add the column that might be missing if lower or higher genes is equal to 0."
   ]
  },
  {
   "cell_type": "code",
   "execution_count": 40,
   "metadata": {
    "papermill": {
     "duration": null,
     "end_time": null,
     "exception": null,
     "start_time": null,
     "status": "pending"
    },
    "tags": []
   },
   "outputs": [
    {
     "data": {
      "text/html": [
       "<table>\n",
       "<caption>A data.frame: 0 × 3</caption>\n",
       "<thead>\n",
       "\t<tr><th scope=col>higher</th><th scope=col>lower</th><th scope=col>non_signif</th></tr>\n",
       "\t<tr><th scope=col>&lt;int&gt;</th><th scope=col>&lt;int&gt;</th><th scope=col>&lt;int&gt;</th></tr>\n",
       "</thead>\n",
       "<tbody>\n",
       "</tbody>\n",
       "</table>\n"
      ],
      "text/latex": [
       "A data.frame: 0 × 3\n",
       "\\begin{tabular}{lll}\n",
       " higher & lower & non\\_signif\\\\\n",
       " <int> & <int> & <int>\\\\\n",
       "\\hline\n",
       "\\end{tabular}\n"
      ],
      "text/markdown": [
       "\n",
       "A data.frame: 0 × 3\n",
       "\n",
       "| higher &lt;int&gt; | lower &lt;int&gt; | non_signif &lt;int&gt; |\n",
       "|---|---|---|\n",
       "\n"
      ],
      "text/plain": [
       "     higher lower non_signif"
      ]
     },
     "metadata": {},
     "output_type": "display_data"
    }
   ],
   "source": [
    "signif_template <- structure(list(higher = integer(0), \n",
    "                                   lower = integer(0), \n",
    "                                   non_signif = integer(0)), \n",
    "                              row.names = integer(0), class = \"data.frame\")\n",
    "signif_template"
   ]
  },
  {
   "cell_type": "markdown",
   "metadata": {
    "papermill": {
     "duration": null,
     "end_time": null,
     "exception": null,
     "start_time": null,
     "status": "pending"
    },
    "tags": []
   },
   "source": [
    "In the for-loop we will check if both columns `lower`, `higher` are present, if not add the column and zero count to create the expected shape of the dataframe:\n",
    "\n",
    "```R\n",
    "signif <- as.data.frame.matrix(expression_abundance)\n",
    "if(! (\"higher\" %in% colnames(signif))) { \n",
    "    \n",
    "    signif$higher <- 0\n",
    "}\n",
    "if(! (\"lower\" %in% colnames(signif))) { \n",
    "\n",
    "    signif$lower <- 0\n",
    "}\n",
    "```"
   ]
  },
  {
   "cell_type": "markdown",
   "metadata": {
    "papermill": {
     "duration": null,
     "end_time": null,
     "exception": null,
     "start_time": null,
     "status": "pending"
    },
    "tags": []
   },
   "source": [
    "Now we can add some more summary statistics eg percentage of genes lower, higher or non-significantly different, "
   ]
  },
  {
   "cell_type": "code",
   "execution_count": 41,
   "metadata": {
    "papermill": {
     "duration": null,
     "end_time": null,
     "exception": null,
     "start_time": null,
     "status": "pending"
    },
    "tags": []
   },
   "outputs": [
    {
     "ename": "ERROR",
     "evalue": "Error in `$<-.data.frame`(`*tmp*`, sum, value = integer(0)): replacement has 0 rows, data has 1\n",
     "output_type": "error",
     "traceback": [
      "Error in `$<-.data.frame`(`*tmp*`, sum, value = integer(0)): replacement has 0 rows, data has 1\nTraceback:\n",
      "1. `$<-`(`*tmp*`, sum, value = integer(0))",
      "2. `$<-.data.frame`(`*tmp*`, sum, value = integer(0))",
      "3. stop(sprintf(ngettext(N, \"replacement has %d row, data has %d\", \n .     \"replacement has %d rows, data has %d\"), N, nrows), domain = NA)"
     ]
    }
   ],
   "source": [
    "signif$tissue <- name\n",
    "signif$sum    <- signif$non_signif + signif$higher + signif$lower\n",
    "toKeepInOrder <- c(\"tissue\", \"non_signif\", \"lower\", \"higher\", \"% lower\", \"% higher\", \"% non-signif\")\n",
    "signif$`% higher`     <-  round(signif$higher / signif$sum  * 100, 2)\n",
    "signif$`% lower`      <-  round(signif$lower / signif$sum  * 100, 2)\n",
    "signif$`% non-signif` <-  round(signif$non_signif / signif$sum  * 100, 2)\n",
    "signif <- signif[, toKeepInOrder]\n",
    "signif"
   ]
  },
  {
   "cell_type": "markdown",
   "metadata": {
    "papermill": {
     "duration": null,
     "end_time": null,
     "exception": null,
     "start_time": null,
     "status": "pending"
    },
    "tags": []
   },
   "source": [
    "# Summary table of differentially expressed genes between male and female acrosss tissues\n",
    "\n",
    "Above we demonstrate for one example limma `topTable`. Let's now iterate over all tissue and create an aggregated table of counts of differentially expressed or non-significantly altered between the two sexes."
   ]
  },
  {
   "cell_type": "code",
   "execution_count": 42,
   "metadata": {
    "papermill": {
     "duration": null,
     "end_time": null,
     "exception": null,
     "start_time": null,
     "status": "pending"
    },
    "tags": []
   },
   "outputs": [
    {
     "ename": "ERROR",
     "evalue": "Error in `$<-.data.frame`(`*tmp*`, \"abundance\", value = \"non_signif\"): replacement has 1 row, data has 0\n",
     "output_type": "error",
     "traceback": [
      "Error in `$<-.data.frame`(`*tmp*`, \"abundance\", value = \"non_signif\"): replacement has 1 row, data has 0\nTraceback:\n",
      "1. `$<-`(`*tmp*`, \"abundance\", value = \"non_signif\")",
      "2. `$<-.data.frame`(`*tmp*`, \"abundance\", value = \"non_signif\")",
      "3. stop(sprintf(ngettext(N, \"replacement has %d row, data has %d\", \n .     \"replacement has %d rows, data has %d\"), N, nrows), domain = NA)"
     ]
    }
   ],
   "source": [
    "summary_signif <-structure(list(tissue = character(0), \n",
    "                            non_signif = integer(0), \n",
    "                            lower = integer(0),\n",
    "                            higher = integer(0),\n",
    "                            `% lower` = numeric(0), \n",
    "                            `% higher` = numeric(0), \n",
    "                            `% non-signif` = numeric(0)), \n",
    "                       row.names = integer(0), \n",
    "                       class = \"data.frame\")\n",
    "\n",
    "signif_template <- structure(list(higher = integer(0), \n",
    "                                   lower = integer(0), \n",
    "                                   non_signif = integer(0)), \n",
    "                              row.names = integer(0), class = \"data.frame\")\n",
    "\n",
    "signif_per_tissue <- structure(list(logFC = numeric(0), AveExpr = numeric(0), t = numeric(0), \n",
    "                        P.Value = numeric(0), adj.P.Val = numeric(0), B = numeric(0), \n",
    "                        initial_gene_id = character(0), gene_id = character(0), abs_logFC = numeric(0), \n",
    "                        FoldChange_dummy = numeric(0), abundance = character(0), \n",
    "                        GeneSymbol = character(0), Chromosome = character(0), Class = character(0), \n",
    "                        Strand = character(0), tissue = character(0)), row.names = integer(0), class = \"data.frame\")\n",
    "\n",
    "# Add helper variable dummy `FoldChange` variable. Use 2 as base of log, because this is the default from limma\n",
    "# The following statement calculates a dummy fold change (how many times higher or lower)\n",
    "# The minus symbol is a convention symbol only! to express eg. a fold change of 0.25 as -4, 4 times lower\n",
    "# \n",
    "for (i in seq_along(all_topTables)){\n",
    "    topTable <- all_topTables[[i]]\n",
    "    name     <- names(all_topTables)[i] \n",
    "    topTable$P.Value[is.na(topTable$P.Value)]     <- 1; # replacing NA p-values with p-value = 1\n",
    "    topTable$adj.P.Val[is.na(topTable$adj.P.Val)] <- 1;\n",
    "    topTable$abs_logFC <- abs(topTable$logFC)\n",
    "    topTable$FoldChange_dummy    <-   ifelse(topTable$logFC > 0, 2 ^ topTable$logFC, -1 / (2 ^ topTable$logFC))                    \n",
    "\n",
    "    # Add helper variable `abs_logFC`.\n",
    "    topTable$abs_logFC <- abs(topTable$logFC)\n",
    "\n",
    "    # Add helper variable `abundance` for up, down, non_signif\n",
    "    topTable$abundance                                                  <- \"non_signif\"\n",
    "    topTable$abundance[ ((topTable$logFC >   log2(absFoldChange_cutoff)) & (topTable$adj.P.Val <= adj.P.Val_threshold )) ]   <- \"higher\"\n",
    "    topTable$abundance[ ((topTable$logFC <  -log2(absFoldChange_cutoff)) & (topTable$adj.P.Val <= adj.P.Val_threshold )) ]   <- \"lower\"\n",
    "    if (sum(topTable$abundance != \"non_signif\") > 0) {\n",
    "       topTable_signif <- topTable[ topTable$abundance != \"non_signif\", ]\n",
    "       topTable_signif$tissue <- name\n",
    "       signif_per_tissue <- rbind(signif_per_tissue, topTable_signif )\n",
    "       data.table::fwrite(file = paste0(\"../data/signif_\", snakecase::to_snake_case(name), \".csv\"), topTable_signif)\n",
    "    }\n",
    "    expression_abundance <- t(table(topTable$abundance))\n",
    "    signif <- as.data.frame.matrix(expression_abundance)\n",
    "    if(! (\"higher\" %in% colnames(signif))) {\n",
    "        signif$higher <- 0\n",
    "    }\n",
    "    if(! (\"lower\" %in% colnames(signif))) {\n",
    "        signif$lower <- 0\n",
    "    }\n",
    "    signif$tissue <- name\n",
    "\n",
    "    signif$sum    <-   signif$non_signif + signif$higher + signif$lower\n",
    "    toKeepInOrder <- c(\"tissue\", \"non_signif\", \"lower\", \"higher\", \"% lower\", \"% higher\", \"% non-signif\")\n",
    "    signif$`% higher`     <-  round(signif$higher / signif$sum  * 100, 2)\n",
    "    signif$`% lower`      <-  round(signif$lower / signif$sum  * 100, 2)\n",
    "    signif$`% non-signif` <-  round(signif$non_signif / signif$sum  * 100, 2)\n",
    "    signif <- signif[, toKeepInOrder]\n",
    "    summary_signif <- rbind(summary_signif, signif)   \n",
    "}\n",
    "\n",
    "message(\"past for seq_along(all_topTables)\\n\")\n",
    "summary_signif <- summary_signif[order(summary_signif$`% non-signif`), ]\n",
    "head(summary_signif , 2)\n",
    "head(signif_per_tissue, 2)\n",
    "data.table::fwrite(file = \"../data/summary_significant.csv\", summary_signif)\n",
    "data.table::fwrite(file = \"../data/summary_significant_per_tissue.csv\", signif_per_tissue)"
   ]
  },
  {
   "cell_type": "markdown",
   "metadata": {
    "papermill": {
     "duration": null,
     "end_time": null,
     "exception": null,
     "start_time": null,
     "status": "pending"
    },
    "tags": []
   },
   "source": [
    "# Defining higher in males or females based on the limma design matrix\n",
    "As we have used 1 for encoding the males and 2 for the females, our *reference level* for the contrast in the expression between males and females is 1, the males.\n",
    "\n",
    "\n",
    "From the `limma` documentation:\n",
    ">The level which is chosen for the *reference level* is the level which is contrasted against. By default, this is simply the first level alphabetically. We can specify that we want group 2 to be the reference level by either using the relevel function [..]\n",
    "\n",
    "By convention, we could say that genes with positive log fold change, are higher in females, whereas the opposite holds true for the ones that are observed to have negative log folde change. "
   ]
  },
  {
   "cell_type": "code",
   "execution_count": null,
   "metadata": {
    "papermill": {
     "duration": null,
     "end_time": null,
     "exception": null,
     "start_time": null,
     "status": "pending"
    },
    "tags": []
   },
   "outputs": [],
   "source": [
    "summary_signif$`higher in males`   <- summary_signif$lower\n",
    "summary_signif$`higher in females` <- summary_signif$higher\n",
    "head(summary_signif[summary_signif$tissue == \"Fake\", ])"
   ]
  },
  {
   "cell_type": "markdown",
   "metadata": {
    "papermill": {
     "duration": null,
     "end_time": null,
     "exception": null,
     "start_time": null,
     "status": "pending"
    },
    "tags": []
   },
   "source": [
    "# Preparing the summary table for plotting\n",
    "\n",
    "We will need to aggregate the number of genes in one column in order to be able to plot, and also convert the `Tissue` column to a factor. We will use the `reshape` R package to *melt* the dataframe from a wide to a long version, as described above:"
   ]
  },
  {
   "cell_type": "code",
   "execution_count": null,
   "metadata": {
    "papermill": {
     "duration": null,
     "end_time": null,
     "exception": null,
     "start_time": null,
     "status": "pending"
    },
    "tags": []
   },
   "outputs": [],
   "source": [
    "toPlot <- summary_signif[, c( \"tissue\", \"higher in males\", \"higher in females\")]\n",
    "toPlot <- reshape::melt(toPlot, id=c(\"tissue\"))\n",
    "toPlot$tissue <- as.factor(toPlot$tissue)\n",
    "colnames(toPlot) <- c(\"Tissue\", \"Sex Bias\", \"Number of Genes\")\n",
    "message(\"new structure to plot structure \\n\")\n",
    "head(toPlot[toPlot$Tissue == \"Fake\", ])"
   ]
  },
  {
   "cell_type": "code",
   "execution_count": null,
   "metadata": {
    "papermill": {
     "duration": null,
     "end_time": null,
     "exception": null,
     "start_time": null,
     "status": "pending"
    },
    "tags": []
   },
   "outputs": [],
   "source": [
    "\n",
    "pdf (\"../pdf/summary_per_tissue_diff_spliced.pdf\")\n",
    "options(repr.plot.width=15.5, repr.plot.height=20)\n",
    "\n",
    "ggplot(toPlot, aes(x = Tissue, y = `Number of Genes`, fill = `Sex Bias`)) + \n",
    "  geom_bar(stat=\"identity\", position = \"dodge\") + \n",
    "  scale_fill_manual (values = c( \"higher in males\" = \"#4A637B\" , \"higher in females\" = \"#f35f71\")) + \n",
    "  \n",
    "  theme(text              = element_text(color = \"#4A637B\", face = \"bold\", family = 'Helvetica')\n",
    "        ,plot.caption     = element_text(size =  12, color = \"#8d99ae\", face = \"plain\", hjust= 1.05) \n",
    "        ,plot.title       = element_text(size =  18, color = \"#2b2d42\", face = \"bold\", hjust= 0.5)\n",
    "        ,axis.text.y      = element_text(angle =  0, size = 10, color = \"#8d99ae\", face = \"bold\", hjust=1.1)\n",
    "        ,axis.text.x      = element_text(angle = 70, size = 12, color = \"#8d99ae\", face = \"bold\", hjust=1.1)\n",
    "        ,axis.title.x     = element_blank()\n",
    "        ,axis.ticks.x     = element_blank()\n",
    "        ,axis.ticks.y     = element_blank()\n",
    "        ,plot.margin      = unit(c(1,1,1,1),\"cm\")\n",
    "        ,panel.background = element_blank()\n",
    "        ,legend.position  = \"right\") +\n",
    "  \n",
    "\n",
    "  geom_text(aes(y = `Number of Genes` + 15, \n",
    "                label = `Number of Genes`),\n",
    "                size = 3,\n",
    "                color     = \"#4A637B\",\n",
    "                position  =  position_dodge(width = 1),\n",
    "                family    = 'Helvetica') +\n",
    "  \n",
    "  labs(title   = \"Number of genes with higher expression in each sex per tissue\\n\",\n",
    "       caption = \"\\nsource: 'The impact of sex on alternative splicing'\\n doi: https://doi.org/10.1101/490904\",\n",
    "       y   = \"\\nNumber of Differentially Expressed Genes\")  + coord_flip()\n",
    "\n",
    "dev.off()\n"
   ]
  },
  {
   "cell_type": "markdown",
   "metadata": {
    "papermill": {
     "duration": null,
     "end_time": null,
     "exception": null,
     "start_time": null,
     "status": "pending"
    },
    "tags": []
   },
   "source": [
    "# Mutually exclusive sex biased genes (higher expression in one or the other sex only)\n",
    "\n",
    "\n",
    "The dataframe `signif_per_tissue` contains all the information for the genes that were significantly higher in either of the two sexes. WLet's examine how many mutually exclusive genes were found across all examined tissues. Ensembl encodes as `Chromosome` the chromosomal position, so we will create the required variables to retrieve only the chromosome information for producing summary statistics."
   ]
  },
  {
   "cell_type": "code",
   "execution_count": null,
   "metadata": {
    "papermill": {
     "duration": null,
     "end_time": null,
     "exception": null,
     "start_time": null,
     "status": "pending"
    },
    "tags": []
   },
   "outputs": [],
   "source": [
    "message(\"signif_per_tissue structure\\n\")\n",
    "dput(colnames(signif_per_tissue))"
   ]
  },
  {
   "cell_type": "code",
   "execution_count": null,
   "metadata": {
    "papermill": {
     "duration": null,
     "end_time": null,
     "exception": null,
     "start_time": null,
     "status": "pending"
    },
    "tags": []
   },
   "outputs": [],
   "source": [
    "signif_per_tissue$Chromosomal_Position <- signif_per_tissue$Chromosome\n",
    "signif_per_tissue$Chromosome <- gsub(\"\\\\:.*\",\"\", signif_per_tissue$Chromosome)\n",
    "signif_per_tissue$higher_in  <- 0\n",
    "signif_per_tissue$higher_in[(signif_per_tissue$abundance == \"lower\" )] <- \"males\"\n",
    "signif_per_tissue$higher_in[(signif_per_tissue$abundance == \"higher\" )] <- \"females\"\n",
    "toKeepInOrder <- c( paste0(\"initial_\", GENE_ID), \"GeneSymbol\", \"logFC\",  \"adj.P.Val\", \"abundance\", \"higher_in\",  \"tissue\", \"Chromosome\", \n",
    "GENE_ID, \"abs_logFC\", \"FoldChange_dummy\", \n",
    "\"Class\", \"Strand\",\"Chromosomal_Position\", \n",
    " \"AveExpr\", \"t\", \"P.Value\", \"adj.P.Val\", \"B\")\n",
    "signif_per_tissue <- signif_per_tissue[, toKeepInOrder]\n",
    "head(signif_per_tissue, 4)"
   ]
  },
  {
   "cell_type": "markdown",
   "metadata": {
    "papermill": {
     "duration": null,
     "end_time": null,
     "exception": null,
     "start_time": null,
     "status": "pending"
    },
    "tags": []
   },
   "source": [
    "# Examine mutually exclusive genes upregulated in each sex"
   ]
  },
  {
   "cell_type": "code",
   "execution_count": null,
   "metadata": {
    "papermill": {
     "duration": null,
     "end_time": null,
     "exception": null,
     "start_time": null,
     "status": "pending"
    },
    "tags": []
   },
   "outputs": [],
   "source": [
    "female_biased <- unique(signif_per_tissue[[paste0(\"initial_\", GENE_ID)]] [ signif_per_tissue$higher_in == \"females\" ] )\n",
    "male_biased   <- unique(signif_per_tissue[[paste0(\"initial_\", GENE_ID)]] [ signif_per_tissue$higher_in == \"males\"  ] )\n",
    "\n",
    "length(male_biased)\n",
    "length(female_biased)"
   ]
  },
  {
   "cell_type": "code",
   "execution_count": null,
   "metadata": {
    "lines_to_next_cell": 2,
    "papermill": {
     "duration": null,
     "end_time": null,
     "exception": null,
     "start_time": null,
     "status": "pending"
    },
    "tags": []
   },
   "outputs": [],
   "source": [
    "## Present in both\n",
    "\n",
    "length((intersect(male_biased, female_biased)))\n",
    "length((intersect(female_biased, male_biased)))\n",
    "\n",
    "intersect <- (intersect(male_biased, female_biased))"
   ]
  },
  {
   "cell_type": "code",
   "execution_count": null,
   "metadata": {
    "papermill": {
     "duration": null,
     "end_time": null,
     "exception": null,
     "start_time": null,
     "status": "pending"
    },
    "tags": []
   },
   "outputs": [],
   "source": [
    "## Only in males\n",
    "length(male_biased[! (male_biased %in% intersect)])\n",
    "\n",
    "## Only females\n",
    "length(female_biased[! (female_biased %in% intersect)])"
   ]
  },
  {
   "cell_type": "code",
   "execution_count": null,
   "metadata": {
    "papermill": {
     "duration": null,
     "end_time": null,
     "exception": null,
     "start_time": null,
     "status": "pending"
    },
    "tags": []
   },
   "outputs": [],
   "source": [
    "perc_only_male <-  length(male_biased[! (male_biased %in% intersect)]) / length(male_biased) * 100\n",
    "perc_only_female <-  length(female_biased[! (female_biased %in% intersect)]) / length(female_biased) * 100\n",
    "\n",
    "head( signif_per_tissue[ signif_per_tissue[[paste0(\"initial_\", GENE_ID)]] %in% male_biased[! (male_biased %in% intersect)],  ] , 4 )\n",
    "\n",
    "\n",
    "message(round(perc_only_male, 2), \" % of differentially expressed genes higher in males only found to be significantly differentin males\")\n",
    "message(round(perc_only_female,2), \" % of differentially expressed genes higher in females only found to be significantly different in females\")"
   ]
  },
  {
   "cell_type": "markdown",
   "metadata": {
    "papermill": {
     "duration": null,
     "end_time": null,
     "exception": null,
     "start_time": null,
     "status": "pending"
    },
    "tags": []
   },
   "source": [
    "## Significantly higher only in males"
   ]
  },
  {
   "cell_type": "code",
   "execution_count": null,
   "metadata": {
    "papermill": {
     "duration": null,
     "end_time": null,
     "exception": null,
     "start_time": null,
     "status": "pending"
    },
    "tags": []
   },
   "outputs": [],
   "source": [
    "dim(signif_per_tissue[ signif_per_tissue[[paste0(\"initial_\", GENE_ID)]] %in% male_biased[! (male_biased %in% intersect)],  ])\n",
    "\n",
    "only_male_genes <- signif_per_tissue[ signif_per_tissue[[paste0(\"initial_\", GENE_ID)]] %in% (male_biased[! (male_biased %in% intersect)]) ,  ]\n",
    "\n",
    "head(only_male_genes[ order(only_male_genes[[paste0(\"initial_\", GENE_ID)]] ), ], 5)"
   ]
  },
  {
   "cell_type": "code",
   "execution_count": null,
   "metadata": {
    "papermill": {
     "duration": null,
     "end_time": null,
     "exception": null,
     "start_time": null,
     "status": "pending"
    },
    "tags": []
   },
   "outputs": [],
   "source": [
    "# See 8.1.1 enquo() and !! - Quote and unquote arguments in https://tidyeval.tidyverse.org/dplyr.html\n",
    "\n",
    "only_male_genes %>% \n",
    "    count( !!GENE_ID, GeneSymbol, Class, sort = TRUE) %>%\n",
    "    head(20)"
   ]
  },
  {
   "cell_type": "markdown",
   "metadata": {
    "papermill": {
     "duration": null,
     "end_time": null,
     "exception": null,
     "start_time": null,
     "status": "pending"
    },
    "tags": []
   },
   "source": [
    "## Significantly higher only in females"
   ]
  },
  {
   "cell_type": "code",
   "execution_count": null,
   "metadata": {
    "papermill": {
     "duration": null,
     "end_time": null,
     "exception": null,
     "start_time": null,
     "status": "pending"
    },
    "tags": []
   },
   "outputs": [],
   "source": [
    "only_female_genes <- signif_per_tissue[ signif_per_tissue[[paste0(\"initial_\", GENE_ID)]] %in% (female_biased[! (female_biased %in% intersect)]) ,  ]\n",
    "\n",
    "head(only_female_genes[ order(only_female_genes[[paste0(\"initial_\", GENE_ID)]] ), ], 10)"
   ]
  },
  {
   "cell_type": "code",
   "execution_count": null,
   "metadata": {
    "papermill": {
     "duration": null,
     "end_time": null,
     "exception": null,
     "start_time": null,
     "status": "pending"
    },
    "tags": []
   },
   "outputs": [],
   "source": [
    "only_female_genes %>% \n",
    "    count( !!GENE_ID, GeneSymbol, Class, sort = TRUE) %>%\n",
    "    head(20)"
   ]
  },
  {
   "cell_type": "markdown",
   "metadata": {
    "papermill": {
     "duration": null,
     "end_time": null,
     "exception": null,
     "start_time": null,
     "status": "pending"
    },
    "tags": []
   },
   "source": [
    "# Examine number of differentially expressed genes per chromosome per sex"
   ]
  },
  {
   "cell_type": "code",
   "execution_count": null,
   "metadata": {
    "papermill": {
     "duration": null,
     "end_time": null,
     "exception": null,
     "start_time": null,
     "status": "pending"
    },
    "tags": []
   },
   "outputs": [],
   "source": [
    "signif_per_tissue$Chromosome <- as.factor(signif_per_tissue$Chromosome)\n",
    "signif_per_tissue$higher_in <- as.factor(signif_per_tissue$higher_in)\n",
    "\n",
    "signif_per_tissue %>% \n",
    "    group_by(Chromosome,higher_in) %>%  \n",
    "    count()  -> signif_per_chrom_per_sex"
   ]
  },
  {
   "cell_type": "code",
   "execution_count": null,
   "metadata": {
    "papermill": {
     "duration": null,
     "end_time": null,
     "exception": null,
     "start_time": null,
     "status": "pending"
    },
    "tags": []
   },
   "outputs": [],
   "source": [
    "signif_per_chrom_per_sex"
   ]
  },
  {
   "cell_type": "markdown",
   "metadata": {
    "papermill": {
     "duration": null,
     "end_time": null,
     "exception": null,
     "start_time": null,
     "status": "pending"
    },
    "tags": []
   },
   "source": [
    "## Metadata\n",
    "\n",
    "For replicability and reproducibility purposes, we also print the following metadata:\n",
    "\n",
    "1. Checksums of **'artefacts'**, files generated during the analysis and stored in the folder directory **`data`**\n",
    "2. List of environment metadata, dependencies, versions of libraries using `utils::sessionInfo()` and [`devtools::session_info()`](https://devtools.r-lib.org/reference/session_info.html)"
   ]
  },
  {
   "cell_type": "code",
   "execution_count": null,
   "metadata": {
    "papermill": {
     "duration": null,
     "end_time": null,
     "exception": null,
     "start_time": null,
     "status": "pending"
    },
    "tags": []
   },
   "outputs": [],
   "source": [
    "notebook_id   = \"summary_per_tissue_diff_expressed\"\n",
    "\n",
    "message(\"Generating sha256 checksums of the artefacts in the `..data/` directory .. \")\n",
    "system(paste0(\"cd ../data/ && sha256sum **/*csv > ../metadata/\", notebook_id, \"_sha256sums.txt\"), intern = TRUE)\n",
    "system(paste0(\"cd ../data/ && sha256sum *csv >> ../metadata/\", notebook_id, \"_sha256sums.txt\"), intern = TRUE)\n",
    "\n",
    "message(\"Done!\\n\")\n",
    "\n",
    "data.table::fread(paste0(\"../metadata/\", notebook_id, \"_sha256sums.txt\"), header = FALSE, col.names = c(\"sha256sum\", \"file\"))"
   ]
  },
  {
   "cell_type": "markdown",
   "metadata": {
    "papermill": {
     "duration": null,
     "end_time": null,
     "exception": null,
     "start_time": null,
     "status": "pending"
    },
    "tags": []
   },
   "source": [
    "### 2. Libraries metadata"
   ]
  },
  {
   "cell_type": "code",
   "execution_count": null,
   "metadata": {
    "papermill": {
     "duration": null,
     "end_time": null,
     "exception": null,
     "start_time": null,
     "status": "pending"
    },
    "tags": []
   },
   "outputs": [],
   "source": [
    "dev_session_info   <- devtools::session_info()\n",
    "utils_session_info <- utils::sessionInfo()\n",
    "\n",
    "message(\"Saving `devtools::session_info()` objects in ../metadata/devtools_session_info.rds  ..\")\n",
    "saveRDS(dev_session_info, file = paste0(\"../metadata/\", notebook_id, \"_devtools_session_info.rds\"))\n",
    "message(\"Done!\\n\")\n",
    "\n",
    "message(\"Saving `utils::sessionInfo()` objects in ../metadata/utils_session_info.rds  ..\")\n",
    "saveRDS(utils_session_info, file = paste0(\"../metadata/\", notebook_id ,\"_utils_info.rds\"))\n",
    "message(\"Done!\\n\")\n",
    "\n",
    "dev_session_info$platform\n",
    "dev_session_info$packages[dev_session_info$packages$attached==TRUE, ]"
   ]
  },
  {
   "cell_type": "markdown",
   "metadata": {
    "papermill": {
     "duration": null,
     "end_time": null,
     "exception": null,
     "start_time": null,
     "status": "pending"
    },
    "tags": []
   },
   "source": [
    "# Calculating the sex-biased splicing index\n",
    "The normalized sex-biased splicing index is defined as the number of statistically significant splicing events per 1000 exons in the chromosome."
   ]
  },
  {
   "cell_type": "code",
   "execution_count": null,
   "metadata": {
    "papermill": {
     "duration": null,
     "end_time": null,
     "exception": null,
     "start_time": null,
     "status": "pending"
    },
    "tags": []
   },
   "outputs": [],
   "source": [
    "dim(signif_per_chrom_per_sex)"
   ]
  },
  {
   "cell_type": "markdown",
   "metadata": {
    "papermill": {
     "duration": null,
     "end_time": null,
     "exception": null,
     "start_time": null,
     "status": "pending"
    },
    "tags": []
   },
   "source": [
    "Sorry, I cannot do this in R. Here is Python (ugly script but works)\n",
    "\n",
    "import csv\n",
    "import gzip\n",
    "import re\n",
    "from collections import defaultdict\n",
    "\n",
    "fname = 'Homo_sapiens.GRCh38.100.chr_patch_hapl_scaff.gtf.gz'\n",
    "\n",
    "chrom2exons = defaultdict(set)\n",
    "\n",
    "with gzip.open(fname, 'rt') as f:\n",
    "    cr = csv.reader(f, delimiter='\\t', quotechar='\"')\n",
    "    for row in cr:\n",
    "        #print(row)\n",
    "        if row[0].startswith('#'):\n",
    "            continue\n",
    "        chrom = row[0]\n",
    "        annots = row[8]\n",
    "        fields = annots.split(\";\")\n",
    "        exon = re.compile(r'exon_id \"(ENSE\\d+)\"')\n",
    "        for f in fields:\n",
    "            itm = f.strip()\n",
    "            match = exon.match(itm)\n",
    "            if match:\n",
    "                exonid = match.group(1)\n",
    "                chrom2exons[chrom].add(exonid)\n",
    "\n",
    "g = open('chrom2exons.txt', 'wt')\n",
    "for k, v in chrom2exons.items():\n",
    "    print(\"chr{}: n={}\".format(k, len(v)))\n",
    "    g.write(\"{}\\t{}\\n\".format(k, len(v)))\n",
    "g.close()\n",
    "\n",
    "1\t69381\n",
    "2\t55599\n",
    "3\t46452\n",
    "4\t29749\n",
    "5\t34789\n",
    "6\t33817\n",
    "7\t35973\n",
    "X\t22471\n",
    "8\t28489\n",
    "9\t26460\n",
    "11\t43212\n",
    "10\t26514\n",
    "12\t42925\n",
    "13\t13193\n",
    "14\t25994\n",
    "15\t28720\n",
    "16\t36285\n",
    "17\t45142\n",
    "18\t13360\n",
    "20\t16704\n",
    "19\t44166\n",
    "Y\t2908\n",
    "22\t16411\n",
    "21\t8830\n",
    "MT\t37"
   ]
  },
  {
   "cell_type": "code",
   "execution_count": null,
   "metadata": {
    "papermill": {
     "duration": null,
     "end_time": null,
     "exception": null,
     "start_time": null,
     "status": "pending"
    },
    "tags": []
   },
   "outputs": [],
   "source": [
    "signif_per_chrom_per_sex"
   ]
  },
  {
   "cell_type": "code",
   "execution_count": null,
   "metadata": {
    "papermill": {
     "duration": null,
     "end_time": null,
     "exception": null,
     "start_time": null,
     "status": "pending"
    },
    "tags": []
   },
   "outputs": [],
   "source": [
    "only_female_genes %>% \n",
    "    count( !!GENE_ID, GeneSymbol, Class, sort = TRUE) %>%\n",
    "    head(20)"
   ]
  },
  {
   "cell_type": "code",
   "execution_count": null,
   "metadata": {
    "papermill": {
     "duration": null,
     "end_time": null,
     "exception": null,
     "start_time": null,
     "status": "pending"
    },
    "tags": []
   },
   "outputs": [],
   "source": [
    "signif_per_tissue %>% \n",
    "     group_by(Chromosome) %>%  \n",
    "    count()  -> signif_per_chrom"
   ]
  },
  {
   "cell_type": "code",
   "execution_count": null,
   "metadata": {
    "papermill": {
     "duration": null,
     "end_time": null,
     "exception": null,
     "start_time": null,
     "status": "pending"
    },
    "tags": []
   },
   "outputs": [],
   "source": [
    "signif_per_chrom"
   ]
  },
  {
   "cell_type": "code",
   "execution_count": null,
   "metadata": {
    "papermill": {
     "duration": null,
     "end_time": null,
     "exception": null,
     "start_time": null,
     "status": "pending"
    },
    "tags": []
   },
   "outputs": [],
   "source": [
    "chrom2exon_filename = '../assets/canon_chrom2exons.txt'\n",
    "if (! file.exists(chrom2exon_filename)) {\n",
    "    message(\"Could not find canon_chrom2exons.txt file\")\n",
    "}\n",
    "c2e_df = read.csv(chrom2exon_filename, sep='\\t', header=FALSE)\n",
    "colnames(c2e_df) <- c(\"Chromosome\",\"exons\")\n",
    "head(c2e_df) # 25 chromosomes including MT"
   ]
  },
  {
   "cell_type": "code",
   "execution_count": null,
   "metadata": {
    "papermill": {
     "duration": null,
     "end_time": null,
     "exception": null,
     "start_time": null,
     "status": "pending"
    },
    "tags": []
   },
   "outputs": [],
   "source": [
    "df2 <- merge(signif_per_chrom, c2e_df, by=\"Chromosome\")\n",
    "head(df2)"
   ]
  },
  {
   "cell_type": "code",
   "execution_count": null,
   "metadata": {
    "papermill": {
     "duration": null,
     "end_time": null,
     "exception": null,
     "start_time": null,
     "status": "pending"
    },
    "tags": []
   },
   "outputs": [],
   "source": [
    "# calculate splicinig index\n",
    "library(tidyverse)"
   ]
  },
  {
   "cell_type": "code",
   "execution_count": null,
   "metadata": {
    "papermill": {
     "duration": null,
     "end_time": null,
     "exception": null,
     "start_time": null,
     "status": "pending"
    },
    "tags": []
   },
   "outputs": [],
   "source": [
    "df2 %>% \n",
    "  mutate(Index = 1000 * n/exons) -> df3"
   ]
  },
  {
   "cell_type": "code",
   "execution_count": null,
   "metadata": {
    "papermill": {
     "duration": null,
     "end_time": null,
     "exception": null,
     "start_time": null,
     "status": "pending"
    },
    "tags": []
   },
   "outputs": [],
   "source": [
    "df4 <- df3[-25,] # remove the Y chromosome\n",
    "df4 <- df4[-23,] # remove the MT chromosome"
   ]
  },
  {
   "cell_type": "code",
   "execution_count": null,
   "metadata": {
    "lines_to_next_cell": 2,
    "papermill": {
     "duration": null,
     "end_time": null,
     "exception": null,
     "start_time": null,
     "status": "pending"
    },
    "tags": []
   },
   "outputs": [],
   "source": [
    "res_sorted <- df4[order(df4$Index, decreasing=TRUE),]\n",
    "res_sorted"
   ]
  },
  {
   "cell_type": "code",
   "execution_count": null,
   "metadata": {
    "papermill": {
     "duration": null,
     "end_time": null,
     "exception": null,
     "start_time": null,
     "status": "pending"
    },
    "tags": []
   },
   "outputs": [],
   "source": [
    "res_sorted$Chromosome <- factor(res_sorted$Chromosome, levels = res_sorted$chr)\n",
    "res_sorted"
   ]
  },
  {
   "cell_type": "code",
   "execution_count": null,
   "metadata": {
    "papermill": {
     "duration": null,
     "end_time": null,
     "exception": null,
     "start_time": null,
     "status": "pending"
    },
    "tags": []
   },
   "outputs": [],
   "source": [
    "# set the colors\n",
    "npgBlue<- rgb(60/256,84/256,136/256,1)\n",
    "npgRed <- rgb(220/256,0,0,0.5)\n",
    "npgGreen <- rgb(0,160/256,135/256,1)\n",
    "npgBrown <- rgb(126/256,97/256,72/256,1)"
   ]
  },
  {
   "cell_type": "code",
   "execution_count": null,
   "metadata": {
    "papermill": {
     "duration": null,
     "end_time": null,
     "exception": null,
     "start_time": null,
     "status": "pending"
    },
    "tags": []
   },
   "outputs": [],
   "source": [
    "# make the plot \n",
    "figure2b <- ggplot(res_sorted, aes(x = Chromosome, y = Index, size = n)) +\n",
    "  geom_point(color=npgBlue) +\n",
    "  theme_bw() +\n",
    "  theme(axis.text.x = element_text(size=14, angle = 270, hjust = 0.0, vjust = 0.5),\n",
    "\taxis.text.y = element_text(size=16),\n",
    "\taxis.title.x = element_blank(),\n",
    "\taxis.title.y = element_text(face=\"plain\", colour=\"black\",\n",
    "                                    size=18),\n",
    "\tlegend.title=element_blank(),\n",
    "\tlegend.text = element_text(face=\"plain\", colour=\"black\",\n",
    "                                   size=14)) +\n",
    "  scale_fill_viridis_c() +\n",
    "  ylab(paste(\"Sex-biased splicing index \")) +\n",
    "  xlab(\"Chromosomes\") +\n",
    "  guides(size = guide_legend(title = \"Number of ASE\"))\n",
    "figure2b"
   ]
  },
  {
   "cell_type": "code",
   "execution_count": null,
   "metadata": {
    "lines_to_next_cell": 2,
    "papermill": {
     "duration": null,
     "end_time": null,
     "exception": null,
     "start_time": null,
     "status": "pending"
    },
    "tags": []
   },
   "outputs": [],
   "source": []
  }
 ],
 "metadata": {
  "jupytext": {
   "encoding": "# -*- coding: utf-8 -*-"
  },
  "kernelspec": {
   "display_name": "R",
   "language": "R",
   "name": "ir"
  },
  "language_info": {
   "codemirror_mode": "r",
   "file_extension": ".r",
   "mimetype": "text/x-r-source",
   "name": "R",
   "pygments_lexer": "r",
   "version": "3.6.1"
  },
  "papermill": {
   "default_parameters": {},
   "duration": 3.785351,
   "end_time": "2021-06-28T12:37:29.848865",
   "environment_variables": {},
   "exception": true,
   "input_path": "summary_per_tissue_diff_spliced.ipynb",
   "output_path": "summary_per_tissue_diff_spliced.ipynb",
   "parameters": {},
   "start_time": "2021-06-28T12:37:26.063514",
   "version": "2.3.3"
  }
 },
 "nbformat": 4,
 "nbformat_minor": 5
}
