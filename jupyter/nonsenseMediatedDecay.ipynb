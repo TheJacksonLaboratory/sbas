{
 "cells": [
  {
   "cell_type": "markdown",
   "metadata": {},
   "source": [
    "# Figure 4c - `Nonsense-mediated decay in sex-biased alternative splicing`"
   ]
  },
  {
   "cell_type": "markdown",
   "metadata": {},
   "source": [
    "This notebook generates an interactive HTML plot for Figure 4c. This notebook is seperated from the other Figure 4 notebooks because a python kernel is required whereas the other plots require an R kernel."
   ]
  },
  {
   "cell_type": "code",
   "execution_count": 2,
   "metadata": {},
   "outputs": [],
   "source": [
    "library(Biostrings)"
   ]
  },
  {
   "cell_type": "code",
   "execution_count": 6,
   "metadata": {},
   "outputs": [],
   "source": [
    "event.type='SE'\n",
    "fromGtfFileName <- paste0('../data/fromGTF.',event.type,'.txt')\n",
    "from.gtf<-read.table(file = fromGtfFileName, sep = \"\\t\", quote = \"\\\"\", header = T, stringsAsFactors = F)\n",
    "res<-matrix(c(rep(0,nrow(from.gtf)),rep(0,nrow(from.gtf)),rep('',nrow(from.gtf))),ncol=3)\n",
    "colnames(res)<-c('num.nmd','num.transcripts','nmd.ids')"
   ]
  },
  {
   "cell_type": "code",
   "execution_count": null,
   "metadata": {},
   "outputs": [],
   "source": [
    "\n",
    "\n",
    "fasta.file='/Users/karleg/STAR/STAR/bin/MacOSX_x86_64/data/GRCh38/sequence/GRCh38_r91.all.fa'\n",
    "\n",
    "\n",
    "finished=0\n",
    "\n",
    "for (chr in as.character(unique(from.gtf$chr)))\n",
    "{\n",
    "  \n",
    "  if (chr=='chrY')\n",
    "    \n",
    "    next\n",
    "  \n",
    "  system(paste0('grep ^',gsub('chr','',chr),' /Users/karleg/STAR/STAR/bin/MacOSX_x86_64/data/GRCh38/annotation/Homo_sapiens.GRCh38.91.gtf > cur_chrom.gtf'))\n",
    "  \n",
    "  cur.gtf<-read.table('cur_chrom.gtf',sep='\\t',quote=\"\")\n",
    "  \n",
    "  for (exon.itr in ((1:nrow(from.gtf))[from.gtf$chr==chr]))\n",
    "  {\n",
    "    exon.rows<-which((cur.gtf$V4==from.gtf$exonStart_0base[exon.itr]+1) & (cur.gtf$V5==from.gtf$exonEnd[exon.itr]) & cur.gtf$V3=='exon')\n",
    "    \n",
    "    for (exon.row in exon.rows)\n",
    "    {\n",
    "      \n",
    "      transcript.first.row<-max(which((cur.gtf$V3=='transcript') & ((1:nrow(cur.gtf))<exon.row)  ))\n",
    "      \n",
    "      if (sum((cur.gtf$V3 %in% c('transcript','gene')) & ((1:nrow(cur.gtf))>exon.row)  )==0)\n",
    "      {\n",
    "        transcript.last.row<-nrow(cur.gtf)\n",
    "      }else{\n",
    "      transcript.last.row<-min(which((cur.gtf$V3 %in% c('transcript','gene')) & ((1:nrow(cur.gtf))>exon.row)  ))-1\n",
    "      }\n",
    "      \n",
    "      out.gtf<-cur.gtf[transcript.first.row:transcript.last.row,]\n",
    "      \n",
    "      if (sum(c(sum((out.gtf$V4==from.gtf$upstreamES[exon.itr]+1) & out.gtf$V5==from.gtf$upstreamEE[exon.itr])>0, \n",
    "      \n",
    "      sum((out.gtf$V4==from.gtf$downstreamES[exon.itr]+1) & out.gtf$V5==from.gtf$downstreamEE[exon.itr])>0))<2)\n",
    "        \n",
    "        next\n",
    "      \n",
    "      if (sum(out.gtf$V3=='CDS')<3)\n",
    "        \n",
    "        next\n",
    "      \n",
    "      write.table(out.gtf,\"transcript.gtf\",sep='\\t',col.names = FALSE,row.names = FALSE,quote = FALSE)\n",
    "      \n",
    "      system(paste('./gffread -y gene.fa -g ',fasta.file,' transcript.gtf',sep=''))\n",
    "      \n",
    "      seq<-readAAStringSet('gene.fa')\n",
    "      \n",
    "      if (length(seq)==0)\n",
    "        \n",
    "        next\n",
    "      \n",
    "      l.inc<-length(seq[[1]])\n",
    "      \n",
    "      out.gtf<-out.gtf[(out.gtf$V4!=(from.gtf$exonStart_0base[exon.itr]+1)) & (out.gtf$V5!=(from.gtf$exonEnd[exon.itr])),]\n",
    "      \n",
    "      write.table(out.gtf,\"transcript.gtf\",sep='\\t',col.names = FALSE,row.names = FALSE,quote = FALSE)\n",
    "      \n",
    "      system(paste('./gffread -y gene.fa -g ',fasta.file,' transcript.gtf',sep=''))\n",
    "      \n",
    "      seq<-readAAStringSet('gene.fa')\n",
    "      \n",
    "      l.skip<-length(seq[[1]])\n",
    "      \n",
    "      skip.exon.aa.length<-(from.gtf$exonEnd[exon.itr]-(from.gtf$exonStart_0base[exon.itr]+1))/3\n",
    "        \n",
    "      res[exon.itr,2]<-as.integer(res[exon.itr,2])+1\n",
    "      \n",
    "      if (l.inc<(l.skip+skip.exon.aa.length-1))\n",
    "      {\n",
    "        res[exon.itr,1]<-as.integer(res[exon.itr,1])+1\n",
    "        \n",
    "        res[exon.itr,3]<-paste(res[exon.itr,3],cur.gtf$V9[transcript.first.row],sep='***')\n",
    "      \n",
    "      }\n",
    "    }\n",
    "    \n",
    "  }\n",
    "  \n",
    "  system('rm cur_chrom.gtf')\n",
    "  \n",
    "  finished<-finished+sum(from.gtf$chr==chr)\n",
    "  \n",
    "  print(paste0(\"Finished: \",finished))\n",
    "  \n",
    "}\n",
    "\n",
    "\n",
    "write.table(res,\"NMD_summary.txt\",sep='\\t',row.names = TRUE,col.names = TRUE,quote = FALSE)"
   ]
  },
  {
   "cell_type": "markdown",
   "metadata": {},
   "source": []
  },
  {
   "cell_type": "markdown",
   "metadata": {},
   "source": [
    "## Loading dependencies"
   ]
  },
  {
   "cell_type": "code",
   "execution_count": 2,
   "metadata": {},
   "outputs": [],
   "source": [
    "import pandas as pd\n",
    "\n",
    "from plotly.offline import iplot, init_notebook_mode\n",
    "import plotly.offline as offline\n",
    "import plotly.graph_objs as go\n",
    "import plotly.io as pio\n",
    "\n",
    "import os\n",
    "import numpy as np"
   ]
  },
  {
   "cell_type": "markdown",
   "metadata": {},
   "source": [
    "## Figure 4c\n",
    "3-dimensional plot illustrating the relationship between  gene  expression  and  inclusion  and  exclusion  counts  for  an  exon  skipping  event  in  CDKN2A  in  mammary  tissue.  Females  show  both  higher  gene  expression  as  well  as  higher  skip  counts  than  males.  The  skipped  exon  is  present in isoform 5 of CDKN2A (NM_001195132.1) and causes a frameshift that is predicted to induce NMD."
   ]
  },
  {
   "cell_type": "markdown",
   "metadata": {},
   "source": [
    "### Load the input data"
   ]
  },
  {
   "cell_type": "code",
   "execution_count": 3,
   "metadata": {},
   "outputs": [],
   "source": [
    "data3d = pd.read_csv('../dimorphAS/figures/figure3/3dtable.txt',sep='\\t',dtype='object')"
   ]
  },
  {
   "cell_type": "markdown",
   "metadata": {},
   "source": [
    "### Produce the HTML scatter plot"
   ]
  },
  {
   "cell_type": "code",
   "execution_count": 4,
   "metadata": {},
   "outputs": [
    {
     "name": "stderr",
     "output_type": "stream",
     "text": [
      "/opt/conda/lib/python3.7/site-packages/plotly/offline/offline.py:563: UserWarning:\n",
      "\n",
      "Your filename `basic-scatter` didn't end with .html. Adding .html to the end of your file.\n",
      "\n"
     ]
    },
    {
     "data": {
      "text/plain": [
       "'basic-scatter.html'"
      ]
     },
     "execution_count": 4,
     "metadata": {},
     "output_type": "execute_result"
    }
   ],
   "source": [
    "#init_notebook_mode(connected=True)\n",
    "\n",
    "Male = go.Scatter3d(\n",
    "    x = data3d.loc[data3d['Sex']=='male',data3d.columns[0]],\n",
    "    y = data3d.loc[data3d['Sex']=='male',data3d.columns[1]],\n",
    "    z=  data3d.loc[data3d['Sex']=='male',data3d.columns[2]],\n",
    "    mode = 'markers',name='Male', marker=dict(\n",
    "        size=12,color='rgba(60,84,136,1)',\n",
    "\n",
    "        opacity=0.8\n",
    "    )\n",
    ")\n",
    "\n",
    "Female = go.Scatter3d(\n",
    "    x = data3d.loc[data3d['Sex']=='female',data3d.columns[0]],\n",
    "    y = data3d.loc[data3d['Sex']=='female',data3d.columns[1]],\n",
    "    z=  data3d.loc[data3d['Sex']=='female',data3d.columns[2]],\n",
    "    mode = 'markers',name='Female', marker=dict(\n",
    "        size=12,color='rgba(220,0,0,1)',\n",
    "        opacity=0.8\n",
    "    )\n",
    ")\n",
    "\n",
    "\n",
    "layout = go.Layout(\n",
    "    autosize=True,\n",
    "    font=dict(family='Courier New, monospace',size=18,color='black'),\n",
    "    scene = dict(\n",
    "        xaxis = dict(\n",
    "            title=list(data3d.columns.values)[0]),\n",
    "        yaxis = dict(\n",
    "            title=list(data3d.columns.values)[1]),\n",
    "        zaxis = dict(\n",
    "            title=list(data3d.columns.values)[2]),),\n",
    "    width=2000,\n",
    "    height=1000,\n",
    "    legend=dict(x=0.45,y=0.3,font=dict(\n",
    "            family='sans-serif',\n",
    "            size=36)\n",
    "    ),\n",
    "    margin=dict(r=50, b=25,l=25, t=30),\n",
    ")\n",
    "\n",
    "data = [Male,Female]\n",
    "\n",
    "fig = go.Figure(data=data, layout=layout)\n",
    "\n",
    "offline.plot(fig, filename='basic-scatter')\n",
    "\n",
    "#init_notebook_mode(connected=True)\n",
    "#pio.write_image(fig, 'fig3d.pdf')\n",
    "\n",
    "#pio.write_image(fig, '3d-scatter-colorscale.pdf')"
   ]
  },
  {
   "cell_type": "markdown",
   "metadata": {},
   "source": [
    "## Metadata\n",
    "\n",
    "For replicability and reproducibility purposes, we also print the following metadata:\n",
    "\n",
    "1. Checksums of **'artefacts'**, files generated during the analysis and stored in the folder directory **`data`**\n",
    "2. List of environment metadata, dependencies, versions of libraries using `conda list`"
   ]
  },
  {
   "cell_type": "markdown",
   "metadata": {},
   "source": [
    "### 1. Checksums with the sha256 algorithm"
   ]
  },
  {
   "cell_type": "code",
   "execution_count": 5,
   "metadata": {},
   "outputs": [
    {
     "name": "stdout",
     "output_type": "stream",
     "text": [
      "Generating sha256 checksums of the artefacts in the `..data/` directory .. \n",
      "Done!\n",
      "\n"
     ]
    },
    {
     "data": {
      "text/html": [
       "<div>\n",
       "<style scoped>\n",
       "    .dataframe tbody tr th:only-of-type {\n",
       "        vertical-align: middle;\n",
       "    }\n",
       "\n",
       "    .dataframe tbody tr th {\n",
       "        vertical-align: top;\n",
       "    }\n",
       "\n",
       "    .dataframe thead th {\n",
       "        text-align: right;\n",
       "    }\n",
       "</style>\n",
       "<table border=\"1\" class=\"dataframe\">\n",
       "  <thead>\n",
       "    <tr style=\"text-align: right;\">\n",
       "      <th></th>\n",
       "      <th>ec38fac35613da014f73140da90c95294ba52c6e7923e380a5236762f1ca3793  GTEx_Analysis_2017-06-05_v8_RNASeQCv1.1.9_gene_tpm.gct</th>\n",
       "    </tr>\n",
       "  </thead>\n",
       "  <tbody>\n",
       "    <tr>\n",
       "      <th>0</th>\n",
       "      <td>65683ffcf6df3a68ce9e3401f2f66408231b9b9acd1c04...</td>\n",
       "    </tr>\n",
       "    <tr>\n",
       "      <th>1</th>\n",
       "      <td>0133c46eac7fde518f6d851287cd1933443ae3ea759d22...</td>\n",
       "    </tr>\n",
       "    <tr>\n",
       "      <th>2</th>\n",
       "      <td>cbabf87ae994cf76eb9b47709f6efb59e43a52af0a65f9...</td>\n",
       "    </tr>\n",
       "    <tr>\n",
       "      <th>3</th>\n",
       "      <td>8291be77c7ad6cd73d9f7797658e3f1ffc197532a23385...</td>\n",
       "    </tr>\n",
       "    <tr>\n",
       "      <th>4</th>\n",
       "      <td>5b1d46a8d2a5a2556e81d5262a50aa1ff2f31ee621193f...</td>\n",
       "    </tr>\n",
       "    <tr>\n",
       "      <th>...</th>\n",
       "      <td>...</td>\n",
       "    </tr>\n",
       "    <tr>\n",
       "      <th>4854</th>\n",
       "      <td>295ebbc27fa4e169b131781d772b4e69d528b82e728243...</td>\n",
       "    </tr>\n",
       "    <tr>\n",
       "      <th>4855</th>\n",
       "      <td>84f06a1cb756a11cd0306595d171d8739a8cf7fcebcc70...</td>\n",
       "    </tr>\n",
       "    <tr>\n",
       "      <th>4856</th>\n",
       "      <td>14d846231f11b4ff7acee9858fe6b39ecaad4079b3c1c5...</td>\n",
       "    </tr>\n",
       "    <tr>\n",
       "      <th>4857</th>\n",
       "      <td>66083588f477e50baa7229ee5ca9c34fbf53f7dad7940e...</td>\n",
       "    </tr>\n",
       "    <tr>\n",
       "      <th>4858</th>\n",
       "      <td>bfa152cca84d8f52dfa0d04057b949122c7d7fca98fb0f...</td>\n",
       "    </tr>\n",
       "  </tbody>\n",
       "</table>\n",
       "<p>4859 rows × 1 columns</p>\n",
       "</div>"
      ],
      "text/plain": [
       "     ec38fac35613da014f73140da90c95294ba52c6e7923e380a5236762f1ca3793  GTEx_Analysis_2017-06-05_v8_RNASeQCv1.1.9_gene_tpm.gct\n",
       "0     65683ffcf6df3a68ce9e3401f2f66408231b9b9acd1c04...                                                                      \n",
       "1     0133c46eac7fde518f6d851287cd1933443ae3ea759d22...                                                                      \n",
       "2     cbabf87ae994cf76eb9b47709f6efb59e43a52af0a65f9...                                                                      \n",
       "3     8291be77c7ad6cd73d9f7797658e3f1ffc197532a23385...                                                                      \n",
       "4     5b1d46a8d2a5a2556e81d5262a50aa1ff2f31ee621193f...                                                                      \n",
       "...                                                 ...                                                                      \n",
       "4854  295ebbc27fa4e169b131781d772b4e69d528b82e728243...                                                                      \n",
       "4855  84f06a1cb756a11cd0306595d171d8739a8cf7fcebcc70...                                                                      \n",
       "4856  14d846231f11b4ff7acee9858fe6b39ecaad4079b3c1c5...                                                                      \n",
       "4857  66083588f477e50baa7229ee5ca9c34fbf53f7dad7940e...                                                                      \n",
       "4858  bfa152cca84d8f52dfa0d04057b949122c7d7fca98fb0f...                                                                      \n",
       "\n",
       "[4859 rows x 1 columns]"
      ]
     },
     "execution_count": 5,
     "metadata": {},
     "output_type": "execute_result"
    }
   ],
   "source": [
    "figure_id = \"figure_4c\"\n",
    "os.system(\"echo true\")\n",
    "\n",
    "print(\"Generating sha256 checksums of the artefacts in the `..data/` directory .. \")\n",
    "os.system(f\"cd ../data/ && sha256sum * > ../metadata/{figure_id}_sha256sums.txt\")\n",
    "print(\"Done!\\n\")\n",
    "\n",
    "pd.read_csv(f\"../metadata/{figure_id}_sha256sums.txt\")"
   ]
  },
  {
   "cell_type": "markdown",
   "metadata": {},
   "source": [
    "### 2. Libraries metadata"
   ]
  },
  {
   "cell_type": "code",
   "execution_count": 5,
   "metadata": {},
   "outputs": [
    {
     "name": "stdout",
     "output_type": "stream",
     "text": [
      "Saving `conda list` packages in ../metadata/figure_4c_conda_list.txt  ..\n",
      "Done!\n",
      "\n"
     ]
    }
   ],
   "source": [
    "figure_id = \"figure_4c\"\n",
    "\n",
    "print(f\"Saving `conda list` packages in ../metadata/{figure_id}_conda_list.txt  ..\")\n",
    "os.system(f\"conda list > ../metadata/{figure_id}_conda_list.txt\")\n",
    "print(\"Done!\\n\")"
   ]
  }
 ],
 "metadata": {
  "kernelspec": {
   "display_name": "R",
   "language": "R",
   "name": "ir"
  },
  "language_info": {
   "codemirror_mode": "r",
   "file_extension": ".r",
   "mimetype": "text/x-r-source",
   "name": "R",
   "pygments_lexer": "r",
   "version": "3.6.2"
  }
 },
 "nbformat": 4,
 "nbformat_minor": 4
}
