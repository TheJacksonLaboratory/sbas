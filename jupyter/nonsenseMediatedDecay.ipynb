{
 "cells": [
  {
   "cell_type": "markdown",
   "metadata": {},
   "source": [
    "# Nonsense-mediated decay in sex-biased alternative splicing"
   ]
  },
  {
   "cell_type": "markdown",
   "metadata": {},
   "source": [
    "This notebook uses **gencode.v30.annotation.gtf** and the associated genome assembly **GRCH30.p12.genome.fa** and the **fromGTF.SE.txt** file from the rMATS 3.2.5 experiment to generate a single output file **NMD_summary.txt**"
   ]
  },
  {
   "cell_type": "markdown",
   "metadata": {},
   "source": [
    "## 1. Library Dependencies"
   ]
  },
  {
   "cell_type": "code",
   "execution_count": 1,
   "metadata": {},
   "outputs": [],
   "source": [
    "suppressWarnings({suppressMessages({\n",
    "library(Biostrings)\n",
    "library(rtracklayer)\n",
    "})})"
   ]
  },
  {
   "cell_type": "markdown",
   "metadata": {},
   "source": [
    "## 1.1 Obtain the appropriate genome assembly \n",
    "\n",
    "The rMATS 3.2.5 experiment was done with gencode v.30.  Using this release obtain the proper fasta file for the genome.   \n",
    "\n",
    "ftp://ftp.ebi.ac.uk/pub/databases/gencode/Gencode_human/release_30/GRCh38.p12.genome.fa.gz"
   ]
  },
  {
   "cell_type": "code",
   "execution_count": 2,
   "metadata": {},
   "outputs": [
    {
     "name": "stderr",
     "output_type": "stream",
     "text": [
      "downloading genome assembly associated with the Gencode release 30 - GRCh38.p12.genome.fa.gzn\n",
      "\n",
      "Done!\n",
      "\n",
      "\n",
      "Unzipping compressed file GRCh38.p12.genome.fa.gz..\n",
      "\n",
      "Warning message in system(\"gunzip ../data/GRCh38.p12.genome.fa.gz\", intern = TRUE):\n",
      "“running command 'gunzip ../data/GRCh38.p12.genome.fa.gz' had status 2”\n",
      "Done! GRCh38.p12.genome.fa can be found in ../data/\n",
      "\n"
     ]
    }
   ],
   "source": [
    "if (!(\"GRCh38.p12.genome.fa.gz\" %in% list.files(\"../data/\"))) {\n",
    "    message(\"downloading genome assembly associated with the Gencode release 30 - GRCh38.p12.genome.fa.gzn\")\n",
    "    system(\"wget -O ../data/GRCh38.p12.genome.fa.gz ftp://ftp.ebi.ac.uk/pub/databases/gencode/Gencode_human/release_30/GRCh38.p12.genome.fa.gz\")\n",
    "    message(\"Done!\\n\")\n",
    "    message(\"Unzipping compressed file GRCh38.p12.genome.fa.gz..\")\n",
    "    system(\"gunzip ../data/GRCh38.p12.genome.fa.gz\", intern = TRUE)\n",
    "    message(\"Done! GRCh38.p12.genome.fa can be found in ../data/\")\n",
    "}\n",
    "fasta.file <- \"../data/GRCh38.p12.genome.fa\""
   ]
  },
  {
   "cell_type": "markdown",
   "metadata": {},
   "source": [
    "## 1.2 Obtain the gencode.v30.gtf file\n",
    "\n",
    "gencode.v30.annotation.gtf file was used for the rMATS 3.2.5 experiment.  "
   ]
  },
  {
   "cell_type": "code",
   "execution_count": 4,
   "metadata": {},
   "outputs": [],
   "source": [
    "#\n",
    "# add chr information for summary data later, use the annotation we used for rMATS\n",
    "#\n",
    "if (!(\"gencode.v30.annotation.gtf.gz\" %in% list.files(\"../data/\"))) {\n",
    "    message(\"downloading gencode v30 annotation\\n\")\n",
    "    system(\"wget -O ../data/gencode.v30.annotation.gtf.gz ftp://ftp.ebi.ac.uk/pub/databases/gencode/Gencode_human/release_30/gencode.v30.annotation.gtf.gz\")\n",
    "    message(\"Done!\\n\")\n",
    "    message(\"Unzipping compressed file gencode.v30.annotation.gtf.gz..\")\n",
    "    system(\"gunzip ../data/gencode.v30.annotation.gtf.gz\", intern = TRUE)\n",
    "    message(\"Done! gencode.v30.annotation.gtf can be found in ../data/\")\n",
    "}\n",
    "gencode <- rtracklayer::import(\"../data/gencode.v30.annotation.gtf\")\n",
    "gtf.df <- as.data.frame (gencode)"
   ]
  },
  {
   "cell_type": "code",
   "execution_count": 5,
   "metadata": {},
   "outputs": [
    {
     "data": {
      "text/html": [
       "<table>\n",
       "<caption>A data.frame: 6 × 25</caption>\n",
       "<thead>\n",
       "\t<tr><th></th><th scope=col>seqnames</th><th scope=col>start</th><th scope=col>end</th><th scope=col>width</th><th scope=col>strand</th><th scope=col>source</th><th scope=col>type</th><th scope=col>score</th><th scope=col>phase</th><th scope=col>gene_id</th><th scope=col>⋯</th><th scope=col>transcript_type</th><th scope=col>transcript_name</th><th scope=col>transcript_support_level</th><th scope=col>tag</th><th scope=col>havana_transcript</th><th scope=col>exon_number</th><th scope=col>exon_id</th><th scope=col>ont</th><th scope=col>protein_id</th><th scope=col>ccdsid</th></tr>\n",
       "\t<tr><th></th><th scope=col>&lt;fct&gt;</th><th scope=col>&lt;int&gt;</th><th scope=col>&lt;int&gt;</th><th scope=col>&lt;int&gt;</th><th scope=col>&lt;fct&gt;</th><th scope=col>&lt;fct&gt;</th><th scope=col>&lt;fct&gt;</th><th scope=col>&lt;dbl&gt;</th><th scope=col>&lt;int&gt;</th><th scope=col>&lt;chr&gt;</th><th scope=col>⋯</th><th scope=col>&lt;chr&gt;</th><th scope=col>&lt;chr&gt;</th><th scope=col>&lt;chr&gt;</th><th scope=col>&lt;chr&gt;</th><th scope=col>&lt;chr&gt;</th><th scope=col>&lt;chr&gt;</th><th scope=col>&lt;chr&gt;</th><th scope=col>&lt;chr&gt;</th><th scope=col>&lt;chr&gt;</th><th scope=col>&lt;chr&gt;</th></tr>\n",
       "</thead>\n",
       "<tbody>\n",
       "\t<tr><th scope=row>1</th><td>chr1</td><td>11869</td><td>14409</td><td>2541</td><td>+</td><td>HAVANA</td><td>gene      </td><td>NA</td><td>NA</td><td>ENSG00000223972.5</td><td>⋯</td><td>NA                                </td><td>NA         </td><td>NA</td><td>NA   </td><td>NA                  </td><td>NA</td><td>NA               </td><td>NA         </td><td>NA</td><td>NA</td></tr>\n",
       "\t<tr><th scope=row>2</th><td>chr1</td><td>11869</td><td>14409</td><td>2541</td><td>+</td><td>HAVANA</td><td>transcript</td><td>NA</td><td>NA</td><td>ENSG00000223972.5</td><td>⋯</td><td>processed_transcript              </td><td>DDX11L1-202</td><td>1 </td><td>basic</td><td>OTTHUMT00000362751.1</td><td>NA</td><td>NA               </td><td>NA         </td><td>NA</td><td>NA</td></tr>\n",
       "\t<tr><th scope=row>3</th><td>chr1</td><td>11869</td><td>12227</td><td> 359</td><td>+</td><td>HAVANA</td><td>exon      </td><td>NA</td><td>NA</td><td>ENSG00000223972.5</td><td>⋯</td><td>processed_transcript              </td><td>DDX11L1-202</td><td>1 </td><td>basic</td><td>OTTHUMT00000362751.1</td><td>1 </td><td>ENSE00002234944.1</td><td>NA         </td><td>NA</td><td>NA</td></tr>\n",
       "\t<tr><th scope=row>4</th><td>chr1</td><td>12613</td><td>12721</td><td> 109</td><td>+</td><td>HAVANA</td><td>exon      </td><td>NA</td><td>NA</td><td>ENSG00000223972.5</td><td>⋯</td><td>processed_transcript              </td><td>DDX11L1-202</td><td>1 </td><td>basic</td><td>OTTHUMT00000362751.1</td><td>2 </td><td>ENSE00003582793.1</td><td>NA         </td><td>NA</td><td>NA</td></tr>\n",
       "\t<tr><th scope=row>5</th><td>chr1</td><td>13221</td><td>14409</td><td>1189</td><td>+</td><td>HAVANA</td><td>exon      </td><td>NA</td><td>NA</td><td>ENSG00000223972.5</td><td>⋯</td><td>processed_transcript              </td><td>DDX11L1-202</td><td>1 </td><td>basic</td><td>OTTHUMT00000362751.1</td><td>3 </td><td>ENSE00002312635.1</td><td>NA         </td><td>NA</td><td>NA</td></tr>\n",
       "\t<tr><th scope=row>6</th><td>chr1</td><td>12010</td><td>13670</td><td>1661</td><td>+</td><td>HAVANA</td><td>transcript</td><td>NA</td><td>NA</td><td>ENSG00000223972.5</td><td>⋯</td><td>transcribed_unprocessed_pseudogene</td><td>DDX11L1-201</td><td>NA</td><td>basic</td><td>OTTHUMT00000002844.2</td><td>NA</td><td>NA               </td><td>PGO:0000019</td><td>NA</td><td>NA</td></tr>\n",
       "</tbody>\n",
       "</table>\n"
      ],
      "text/latex": [
       "A data.frame: 6 × 25\n",
       "\\begin{tabular}{r|lllllllllllllllllllll}\n",
       "  & seqnames & start & end & width & strand & source & type & score & phase & gene\\_id & ⋯ & transcript\\_type & transcript\\_name & transcript\\_support\\_level & tag & havana\\_transcript & exon\\_number & exon\\_id & ont & protein\\_id & ccdsid\\\\\n",
       "  & <fct> & <int> & <int> & <int> & <fct> & <fct> & <fct> & <dbl> & <int> & <chr> & ⋯ & <chr> & <chr> & <chr> & <chr> & <chr> & <chr> & <chr> & <chr> & <chr> & <chr>\\\\\n",
       "\\hline\n",
       "\t1 & chr1 & 11869 & 14409 & 2541 & + & HAVANA & gene       & NA & NA & ENSG00000223972.5 & ⋯ & NA                                 & NA          & NA & NA    & NA                   & NA & NA                & NA          & NA & NA\\\\\n",
       "\t2 & chr1 & 11869 & 14409 & 2541 & + & HAVANA & transcript & NA & NA & ENSG00000223972.5 & ⋯ & processed\\_transcript               & DDX11L1-202 & 1  & basic & OTTHUMT00000362751.1 & NA & NA                & NA          & NA & NA\\\\\n",
       "\t3 & chr1 & 11869 & 12227 &  359 & + & HAVANA & exon       & NA & NA & ENSG00000223972.5 & ⋯ & processed\\_transcript               & DDX11L1-202 & 1  & basic & OTTHUMT00000362751.1 & 1  & ENSE00002234944.1 & NA          & NA & NA\\\\\n",
       "\t4 & chr1 & 12613 & 12721 &  109 & + & HAVANA & exon       & NA & NA & ENSG00000223972.5 & ⋯ & processed\\_transcript               & DDX11L1-202 & 1  & basic & OTTHUMT00000362751.1 & 2  & ENSE00003582793.1 & NA          & NA & NA\\\\\n",
       "\t5 & chr1 & 13221 & 14409 & 1189 & + & HAVANA & exon       & NA & NA & ENSG00000223972.5 & ⋯ & processed\\_transcript               & DDX11L1-202 & 1  & basic & OTTHUMT00000362751.1 & 3  & ENSE00002312635.1 & NA          & NA & NA\\\\\n",
       "\t6 & chr1 & 12010 & 13670 & 1661 & + & HAVANA & transcript & NA & NA & ENSG00000223972.5 & ⋯ & transcribed\\_unprocessed\\_pseudogene & DDX11L1-201 & NA & basic & OTTHUMT00000002844.2 & NA & NA                & PGO:0000019 & NA & NA\\\\\n",
       "\\end{tabular}\n"
      ],
      "text/markdown": [
       "\n",
       "A data.frame: 6 × 25\n",
       "\n",
       "| <!--/--> | seqnames &lt;fct&gt; | start &lt;int&gt; | end &lt;int&gt; | width &lt;int&gt; | strand &lt;fct&gt; | source &lt;fct&gt; | type &lt;fct&gt; | score &lt;dbl&gt; | phase &lt;int&gt; | gene_id &lt;chr&gt; | ⋯ ⋯ | transcript_type &lt;chr&gt; | transcript_name &lt;chr&gt; | transcript_support_level &lt;chr&gt; | tag &lt;chr&gt; | havana_transcript &lt;chr&gt; | exon_number &lt;chr&gt; | exon_id &lt;chr&gt; | ont &lt;chr&gt; | protein_id &lt;chr&gt; | ccdsid &lt;chr&gt; |\n",
       "|---|---|---|---|---|---|---|---|---|---|---|---|---|---|---|---|---|---|---|---|---|---|\n",
       "| 1 | chr1 | 11869 | 14409 | 2541 | + | HAVANA | gene       | NA | NA | ENSG00000223972.5 | ⋯ | NA                                 | NA          | NA | NA    | NA                   | NA | NA                | NA          | NA | NA |\n",
       "| 2 | chr1 | 11869 | 14409 | 2541 | + | HAVANA | transcript | NA | NA | ENSG00000223972.5 | ⋯ | processed_transcript               | DDX11L1-202 | 1  | basic | OTTHUMT00000362751.1 | NA | NA                | NA          | NA | NA |\n",
       "| 3 | chr1 | 11869 | 12227 |  359 | + | HAVANA | exon       | NA | NA | ENSG00000223972.5 | ⋯ | processed_transcript               | DDX11L1-202 | 1  | basic | OTTHUMT00000362751.1 | 1  | ENSE00002234944.1 | NA          | NA | NA |\n",
       "| 4 | chr1 | 12613 | 12721 |  109 | + | HAVANA | exon       | NA | NA | ENSG00000223972.5 | ⋯ | processed_transcript               | DDX11L1-202 | 1  | basic | OTTHUMT00000362751.1 | 2  | ENSE00003582793.1 | NA          | NA | NA |\n",
       "| 5 | chr1 | 13221 | 14409 | 1189 | + | HAVANA | exon       | NA | NA | ENSG00000223972.5 | ⋯ | processed_transcript               | DDX11L1-202 | 1  | basic | OTTHUMT00000362751.1 | 3  | ENSE00002312635.1 | NA          | NA | NA |\n",
       "| 6 | chr1 | 12010 | 13670 | 1661 | + | HAVANA | transcript | NA | NA | ENSG00000223972.5 | ⋯ | transcribed_unprocessed_pseudogene | DDX11L1-201 | NA | basic | OTTHUMT00000002844.2 | NA | NA                | PGO:0000019 | NA | NA |\n",
       "\n"
      ],
      "text/plain": [
       "  seqnames start end   width strand source type       score phase\n",
       "1 chr1     11869 14409 2541  +      HAVANA gene       NA    NA   \n",
       "2 chr1     11869 14409 2541  +      HAVANA transcript NA    NA   \n",
       "3 chr1     11869 12227  359  +      HAVANA exon       NA    NA   \n",
       "4 chr1     12613 12721  109  +      HAVANA exon       NA    NA   \n",
       "5 chr1     13221 14409 1189  +      HAVANA exon       NA    NA   \n",
       "6 chr1     12010 13670 1661  +      HAVANA transcript NA    NA   \n",
       "  gene_id           ⋯ transcript_type                    transcript_name\n",
       "1 ENSG00000223972.5 ⋯ NA                                 NA             \n",
       "2 ENSG00000223972.5 ⋯ processed_transcript               DDX11L1-202    \n",
       "3 ENSG00000223972.5 ⋯ processed_transcript               DDX11L1-202    \n",
       "4 ENSG00000223972.5 ⋯ processed_transcript               DDX11L1-202    \n",
       "5 ENSG00000223972.5 ⋯ processed_transcript               DDX11L1-202    \n",
       "6 ENSG00000223972.5 ⋯ transcribed_unprocessed_pseudogene DDX11L1-201    \n",
       "  transcript_support_level tag   havana_transcript    exon_number\n",
       "1 NA                       NA    NA                   NA         \n",
       "2 1                        basic OTTHUMT00000362751.1 NA         \n",
       "3 1                        basic OTTHUMT00000362751.1 1          \n",
       "4 1                        basic OTTHUMT00000362751.1 2          \n",
       "5 1                        basic OTTHUMT00000362751.1 3          \n",
       "6 NA                       basic OTTHUMT00000002844.2 NA         \n",
       "  exon_id           ont         protein_id ccdsid\n",
       "1 NA                NA          NA         NA    \n",
       "2 NA                NA          NA         NA    \n",
       "3 ENSE00002234944.1 NA          NA         NA    \n",
       "4 ENSE00003582793.1 NA          NA         NA    \n",
       "5 ENSE00002312635.1 NA          NA         NA    \n",
       "6 NA                PGO:0000019 NA         NA    "
      ]
     },
     "metadata": {},
     "output_type": "display_data"
    }
   ],
   "source": [
    "head(gtf.df)"
   ]
  },
  {
   "cell_type": "markdown",
   "metadata": {},
   "source": [
    "## 1.3 Import the rMATS 3.2.5 fromGTF definition file"
   ]
  },
  {
   "cell_type": "code",
   "execution_count": 6,
   "metadata": {},
   "outputs": [],
   "source": [
    "from.gtf <- read.table(file = \"../data/fromGTF.SE.txt\", sep = \"\\t\", quote = \"\\\"\", header = T, stringsAsFactors = F)"
   ]
  },
  {
   "cell_type": "markdown",
   "metadata": {},
   "source": [
    "## 1.4 Create the matrix for the Nonsense mediated decay results"
   ]
  },
  {
   "cell_type": "code",
   "execution_count": 7,
   "metadata": {},
   "outputs": [],
   "source": [
    "res<-matrix(c(rep(0,nrow(from.gtf)),rep(0,nrow(from.gtf)),rep('',nrow(from.gtf))),ncol=3)\n",
    "colnames(res)<-c('num.nmd','num.transcripts','nmd.ids')"
   ]
  },
  {
   "cell_type": "markdown",
   "metadata": {},
   "source": [
    "## 2.0 Main program to obtain the NMD_summary.txt"
   ]
  },
  {
   "cell_type": "code",
   "execution_count": 9,
   "metadata": {},
   "outputs": [
    {
     "name": "stderr",
     "output_type": "stream",
     "text": [
      " dim (gtf.df) before removing chrY \n",
      "\n"
     ]
    },
    {
     "data": {
      "text/html": [
       "<style>\n",
       ".list-inline {list-style: none; margin:0; padding: 0}\n",
       ".list-inline>li {display: inline-block}\n",
       ".list-inline>li:not(:last-child)::after {content: \"\\00b7\"; padding: 0 .5ex}\n",
       "</style>\n",
       "<ol class=list-inline><li>2764741</li><li>25</li></ol>\n"
      ],
      "text/latex": [
       "\\begin{enumerate*}\n",
       "\\item 2764741\n",
       "\\item 25\n",
       "\\end{enumerate*}\n"
      ],
      "text/markdown": [
       "1. 2764741\n",
       "2. 25\n",
       "\n",
       "\n"
      ],
      "text/plain": [
       "[1] 2764741      25"
      ]
     },
     "metadata": {},
     "output_type": "display_data"
    },
    {
     "name": "stderr",
     "output_type": "stream",
     "text": [
      "dim (gtf.df) without chrY \n",
      "\n"
     ]
    },
    {
     "data": {
      "text/html": [
       "<style>\n",
       ".list-inline {list-style: none; margin:0; padding: 0}\n",
       ".list-inline>li {display: inline-block}\n",
       ".list-inline>li:not(:last-child)::after {content: \"\\00b7\"; padding: 0 .5ex}\n",
       "</style>\n",
       "<ol class=list-inline><li>2764741</li><li>25</li></ol>\n"
      ],
      "text/latex": [
       "\\begin{enumerate*}\n",
       "\\item 2764741\n",
       "\\item 25\n",
       "\\end{enumerate*}\n"
      ],
      "text/markdown": [
       "1. 2764741\n",
       "2. 25\n",
       "\n",
       "\n"
      ],
      "text/plain": [
       "[1] 2764741      25"
      ]
     },
     "metadata": {},
     "output_type": "display_data"
    },
    {
     "name": "stderr",
     "output_type": "stream",
     "text": [
      "looking at chr -> chr17\n",
      "\n",
      "Warning message in max(which((cur.gtf$type == \"transcript\") & ((1:nrow(cur.gtf)) < :\n",
      "“no non-missing arguments to max; returning -Inf”\n"
     ]
    },
    {
     "ename": "ERROR",
     "evalue": "Error in transcript.first.row:transcript.last.row: result would be too long a vector\n",
     "output_type": "error",
     "traceback": [
      "Error in transcript.first.row:transcript.last.row: result would be too long a vector\nTraceback:\n",
      "1. cur.gtf[transcript.first.row:transcript.last.row, ]",
      "2. `[.data.frame`(cur.gtf, transcript.first.row:transcript.last.row, \n .     )"
     ]
    }
   ],
   "source": [
    "finished=0\n",
    "\n",
    "message(\" dim (gtf.df) before removing chrY \")\n",
    "dim(gtf.df)\n",
    "\n",
    "gtf.df <- gtf.df[gtf.df$seqnames != \"chrY\", ]\n",
    "message(\"dim (gtf.df) without chrY \")\n",
    "dim(gtf.df)\n",
    "\n",
    "#\n",
    "# for testing - look at a single chromosome\n",
    "#\n",
    "chr <- \"chr17\"\n",
    "# loop through one chromosome at a time through the fromGTF.SE.txt file from rMATS 3.2.5\n",
    "#for (chr in as.character(unique(from.gtf$chr))) {\n",
    "    message(\"looking at chr -> \", chr)\n",
    "      \n",
    "    cur.gtf <- gtf.df[gtf.df$seqnames == chr, ] \n",
    "\n",
    "    for (exon.itr in ((1:nrow(from.gtf))[from.gtf$chr==chr])){\n",
    " \n",
    "        exon.rows <- which((cur.gtf$start == from.gtf$exonStart_0base[exon.itr]+1) & \n",
    "                           (cur.gtf$end   == from.gtf$exonEnd        [exon.itr]) & \n",
    "                            cur.gtf$type  == 'exon')\n",
    "\n",
    "        for (exon.row in 1:exon.rows) {\n",
    "            transcript.first.row<-max(which((cur.gtf$type=='transcript') & \n",
    "                                            ((1:nrow(cur.gtf))<exon.row)  ))\n",
    "        \n",
    "            if (sum((cur.gtf$type %in% c('transcript','gene')) & \n",
    "                    ((1:nrow(cur.gtf))>exon.row)) == 0) {\n",
    "                transcript.last.row<-nrow(cur.gtf)\n",
    "            } else {\n",
    "                transcript.last.row<-min(which((cur.gtf$type %in% c('transcript','gene')) & \n",
    "                                               ((1:nrow(cur.gtf)) > exon.row)  ))\n",
    "            }\n",
    "            out.gtf<-cur.gtf[transcript.first.row:transcript.last.row,]\n",
    "            if (sum(c(sum((out.gtf$start == from.gtf$upstreamES  [exon.itr]+1) & \n",
    "                           out.gtf$end   == from.gtf$upstreamEE  [exon.itr]) > 0, \n",
    "                      sum((out.gtf$start == from.gtf$downstreamES[exon.itr]+1) & \n",
    "                           out.gtf$end   == from.gtf$downstreamEE[exon.itr])>0))<2)\n",
    "                next\n",
    "            if (sum(out.gtf$type == 'CDS' ) < 3)\n",
    "                next       \n",
    "            write.table(out.gtf,\"../data/transcript.gtf\",sep='\\t',col.names = FALSE,\n",
    "                        row.names = FALSE, quote = FALSE)\n",
    "        \n",
    "            command <- paste0('gffread transcript.gtf -g GRCh38.p12.genome.fa -y gene.fa')\n",
    "            system(paste('gffread -y ../data/gene.fa -g ',fasta.file,' ../data/transcript.gtf',sep=''))\n",
    "            system(command)       \n",
    "            seq<-readAAStringSet('../data/gene.fa')\n",
    "        \n",
    "            if (length(seq)==0)\n",
    "                next\n",
    "        \n",
    "            l.inc<-length(seq[[1]])\n",
    "        \n",
    "            out.gtf <- out.gtf [(out.gtf$start != (from.gtf$exonStart_0base[exon.itr]+1)) & \n",
    "                                (out.gtf$end   != (from.gtf$exonEnd[exon.itr])),]\n",
    "        \n",
    "            write.table(out.gtf,\"../data/transcript.gtf\",sep='\\t',col.names = FALSE,\n",
    "                        row.names = FALSE,quote = FALSE)\n",
    "        \n",
    "            command <- paste0('gffread transcript.gtf -g GRCh38.p12.genome.fa -y gene.fa')\n",
    "            system(paste('gffread -y gene.fa -g ',fasta.file,' ../data/transcript.gtf',sep=''))\n",
    "            system(command)       \n",
    "            seq<-readAAStringSet('../data/gene.fa')\n",
    "        \n",
    "            l.skip<-length(seq[[1]])\n",
    "        \n",
    "            skip.exon.aa.length <- (from.gtf$exonEnd[exon.itr] - (from.gtf$exonStart_0base[exon.itr]+1))/3\n",
    "        \n",
    "            res[exon.itr,2] <- as.integer(res[exon.itr,2])+1\n",
    "        \n",
    "            if (l.inc<(l.skip+skip.exon.aa.length-1)) {\n",
    "                res[exon.itr,1] <- as.integer(res[exon.itr,1])+1\n",
    "                res[exon.itr,3] <- paste(res[exon.itr,3],cur.gtf$gene_id,sep='***')\n",
    "            }\n",
    "            \n",
    "        } # end for (exon.row in exon.rows) \n",
    "    } # end for (exon.itr in ((1:nrow(from.gtf))[from.gtf$chr==chr])){\n",
    "    \n",
    "    finished<-finished+sum(from.gtf$chr==chr)\n",
    "  \n",
    "    print(paste0(\"Finished: \",finished))\n",
    "  \n",
    "#} # for (chr in as.character(unique(from.gtf$chr))) "
   ]
  },
  {
   "cell_type": "code",
   "execution_count": 50,
   "metadata": {},
   "outputs": [
    {
     "data": {
      "text/html": [
       "\n",
       "<table width=\"100%\" summary=\"page for which {base}\"><tr><td>which {base}</td><td style=\"text-align: right;\">R Documentation</td></tr></table>\n",
       "\n",
       "<h2>Which indices are TRUE?</h2>\n",
       "\n",
       "<h3>Description</h3>\n",
       "\n",
       "<p>Give the <code>TRUE</code> indices of a logical object, allowing for array\n",
       "indices.\n",
       "</p>\n",
       "\n",
       "\n",
       "<h3>Usage</h3>\n",
       "\n",
       "<pre>\n",
       "which(x, arr.ind = FALSE, useNames = TRUE)\n",
       "arrayInd(ind, .dim, .dimnames = NULL, useNames = FALSE)\n",
       "</pre>\n",
       "\n",
       "\n",
       "<h3>Arguments</h3>\n",
       "\n",
       "<table summary=\"R argblock\">\n",
       "<tr valign=\"top\"><td><code>x</code></td>\n",
       "<td>\n",
       "<p>a <code>logical</code> vector or array.  <code>NA</code>s\n",
       "are allowed and omitted (treated as if <code>FALSE</code>).</p>\n",
       "</td></tr>\n",
       "<tr valign=\"top\"><td><code>arr.ind</code></td>\n",
       "<td>\n",
       "<p>logical; should <b>arr</b>ay <b>ind</b>ices be returned\n",
       "when <code>x</code> is an array?</p>\n",
       "</td></tr>\n",
       "<tr valign=\"top\"><td><code>ind</code></td>\n",
       "<td>\n",
       "<p>integer-valued index vector, as resulting from\n",
       "<code>which(x)</code>.</p>\n",
       "</td></tr>\n",
       "<tr valign=\"top\"><td><code>.dim</code></td>\n",
       "<td>\n",
       "<p><code>dim(.)</code> integer vector</p>\n",
       "</td></tr>\n",
       "<tr valign=\"top\"><td><code>.dimnames</code></td>\n",
       "<td>\n",
       "<p>optional list of character <code>dimnames(.)</code>.\n",
       "If <code>useNames</code> is true, to be used for constructing dimnames for\n",
       "<code>arrayInd()</code> (and hence, <code>which(*, arr.ind=TRUE)</code>).\n",
       "If <code>names(.dimnames)</code> is not empty, these are used as\n",
       "column names.  <code>.dimnames[[1]]</code> is used as row names.</p>\n",
       "</td></tr>\n",
       "<tr valign=\"top\"><td><code>useNames</code></td>\n",
       "<td>\n",
       "<p>logical indicating if the value of <code>arrayInd()</code>\n",
       "should have (non-null) dimnames at all.</p>\n",
       "</td></tr>\n",
       "</table>\n",
       "\n",
       "\n",
       "<h3>Value</h3>\n",
       "\n",
       "<p>If <code>arr.ind == FALSE</code> (the default), an integer vector,\n",
       "or a double vector if <code>x</code> is a <em>long vector</em>, with\n",
       "<code>length</code> equal to <code>sum(x)</code>, i.e., to the number of\n",
       "<code>TRUE</code>s in <code>x</code>.\n",
       "</p>\n",
       "<p>Basically, the result is <code>(1:length(x))[x]</code> in typical cases;\n",
       "more generally, including when <code>x</code> has <code>NA</code>'s,\n",
       "<code>which(x)</code> is <code>seq_along(x)[!is.na(x) &amp; x]</code> plus\n",
       "<code>names</code> when <code>x</code> has.\n",
       "</p>\n",
       "<p>If <code>arr.ind == TRUE</code> and <code>x</code> is an <code>array</code> (has\n",
       "a <code>dim</code> attribute), the result is\n",
       "<code>arrayInd(which(x), dim(x), dimnames(x))</code>, namely a matrix\n",
       "whose rows each are the indices of one element of <code>x</code>; see\n",
       "Examples below.\n",
       "</p>\n",
       "\n",
       "\n",
       "<h3>Note</h3>\n",
       "\n",
       "<p>Unlike most other base <span style=\"font-family: Courier New, Courier; color: #666666;\"><b>R</b></span> functions this does not coerce <code>x</code>\n",
       "to logical: only arguments with <code>typeof</code> logical are\n",
       "accepted and others give an error.\n",
       "</p>\n",
       "\n",
       "\n",
       "<h3>Author(s)</h3>\n",
       "\n",
       "<p>Werner Stahel and Peter Holzer (ETH Zurich) proposed the\n",
       "<code>arr.ind</code> option.</p>\n",
       "\n",
       "\n",
       "<h3>See Also</h3>\n",
       "\n",
       "<p><code>Logic</code>, <code>which.min</code> for the index of\n",
       "the minimum or maximum, and <code>match</code> for the first index of\n",
       "an element in a vector, i.e., for a scalar <code>a</code>, <code>match(a, x)</code>\n",
       "is equivalent to  <code>min(which(x == a))</code> but much more efficient.</p>\n",
       "\n",
       "\n",
       "<h3>Examples</h3>\n",
       "\n",
       "<pre>\n",
       "which(LETTERS == \"R\")\n",
       "which(ll &lt;- c(TRUE, FALSE, TRUE, NA, FALSE, FALSE, TRUE)) #&gt; 1 3 7\n",
       "names(ll) &lt;- letters[seq(ll)]\n",
       "which(ll)\n",
       "which((1:12)%%2 == 0) # which are even?\n",
       "which(1:10 &gt; 3, arr.ind = TRUE)\n",
       "\n",
       "( m &lt;- matrix(1:12, 3, 4) )\n",
       "div.3 &lt;- m %% 3 == 0\n",
       "which(div.3)\n",
       "which(div.3, arr.ind = TRUE)\n",
       "rownames(m) &lt;- paste(\"Case\", 1:3, sep = \"_\")\n",
       "which(m %% 5 == 0, arr.ind = TRUE)\n",
       "\n",
       "dim(m) &lt;- c(2, 2, 3); m\n",
       "which(div.3, arr.ind = FALSE)\n",
       "which(div.3, arr.ind = TRUE)\n",
       "\n",
       "vm &lt;- c(m)\n",
       "dim(vm) &lt;- length(vm) #-- funny thing with  length(dim(...)) == 1\n",
       "which(div.3, arr.ind = TRUE)\n",
       "\n",
       "</pre>\n",
       "\n",
       "<hr /><div style=\"text-align: center;\">[Package <em>base</em> version 3.6.2 ]</div>"
      ],
      "text/latex": [
       "\\inputencoding{utf8}\n",
       "\\HeaderA{which}{Which indices are TRUE?}{which}\n",
       "\\aliasA{arrayInd}{which}{arrayInd}\n",
       "\\keyword{logic}{which}\n",
       "\\keyword{attribute}{which}\n",
       "%\n",
       "\\begin{Description}\\relax\n",
       "Give the \\code{TRUE} indices of a logical object, allowing for array\n",
       "indices.\n",
       "\\end{Description}\n",
       "%\n",
       "\\begin{Usage}\n",
       "\\begin{verbatim}\n",
       "which(x, arr.ind = FALSE, useNames = TRUE)\n",
       "arrayInd(ind, .dim, .dimnames = NULL, useNames = FALSE)\n",
       "\\end{verbatim}\n",
       "\\end{Usage}\n",
       "%\n",
       "\\begin{Arguments}\n",
       "\\begin{ldescription}\n",
       "\\item[\\code{x}] a \\code{\\LinkA{logical}{logical}} vector or array.  \\code{\\LinkA{NA}{NA}}s\n",
       "are allowed and omitted (treated as if \\code{FALSE}).\n",
       "\\item[\\code{arr.ind}] logical; should \\bold{arr}ay \\bold{ind}ices be returned\n",
       "when \\code{x} is an array?\n",
       "\n",
       "\\item[\\code{ind}] integer-valued index vector, as resulting from\n",
       "\\code{which(x)}.\n",
       "\\item[\\code{.dim}] \\code{\\LinkA{dim}{dim}(.)} integer vector\n",
       "\\item[\\code{.dimnames}] optional list of character \\code{\\LinkA{dimnames}{dimnames}(.)}.\n",
       "If \\code{useNames} is true, to be used for constructing dimnames for\n",
       "\\code{arrayInd()} (and hence, \\code{which(*, arr.ind=TRUE)}).\n",
       "If \\code{\\LinkA{names}{names}(.dimnames)} is not empty, these are used as\n",
       "column names.  \\code{.dimnames[[1]]} is used as row names.\n",
       "\\item[\\code{useNames}] logical indicating if the value of \\code{arrayInd()}\n",
       "should have (non-null) dimnames at all.\n",
       "\\end{ldescription}\n",
       "\\end{Arguments}\n",
       "%\n",
       "\\begin{Value}\n",
       "If \\code{arr.ind == FALSE} (the default), an integer vector,\n",
       "or a double vector if \\code{x} is a \\emph{long vector}, with\n",
       "\\code{length} equal to \\code{sum(x)}, i.e., to the number of\n",
       "\\code{TRUE}s in \\code{x}.\n",
       "\n",
       "Basically, the result is \\code{(1:length(x))[x]} in typical cases;\n",
       "more generally, including when \\code{x} has \\code{\\LinkA{NA}{NA}}'s,\n",
       "\\code{which(x)} is \\code{seq\\_along(x)[!is.na(x) \\& x]} plus\n",
       "\\code{\\LinkA{names}{names}} when \\code{x} has.\n",
       "\n",
       "If \\code{arr.ind == TRUE} and \\code{x} is an \\code{\\LinkA{array}{array}} (has\n",
       "a \\code{\\LinkA{dim}{dim}} attribute), the result is\n",
       "\\code{arrayInd(which(x), dim(x), dimnames(x))}, namely a matrix\n",
       "whose rows each are the indices of one element of \\code{x}; see\n",
       "Examples below.\n",
       "\\end{Value}\n",
       "%\n",
       "\\begin{Note}\\relax\n",
       "Unlike most other base \\R{} functions this does not coerce \\code{x}\n",
       "to logical: only arguments with \\code{\\LinkA{typeof}{typeof}} logical are\n",
       "accepted and others give an error.\n",
       "\\end{Note}\n",
       "%\n",
       "\\begin{Author}\\relax\n",
       "Werner Stahel and Peter Holzer (ETH Zurich) proposed the\n",
       "\\code{arr.ind} option.\n",
       "\\end{Author}\n",
       "%\n",
       "\\begin{SeeAlso}\\relax\n",
       "\\code{\\LinkA{Logic}{Logic}}, \\code{\\LinkA{which.min}{which.min}} for the index of\n",
       "the minimum or maximum, and \\code{\\LinkA{match}{match}} for the first index of\n",
       "an element in a vector, i.e., for a scalar \\code{a}, \\code{match(a, x)}\n",
       "is equivalent to  \\code{min(which(x == a))} but much more efficient.\n",
       "\\end{SeeAlso}\n",
       "%\n",
       "\\begin{Examples}\n",
       "\\begin{ExampleCode}\n",
       "which(LETTERS == \"R\")\n",
       "which(ll <- c(TRUE, FALSE, TRUE, NA, FALSE, FALSE, TRUE)) #> 1 3 7\n",
       "names(ll) <- letters[seq(ll)]\n",
       "which(ll)\n",
       "which((1:12)%%2 == 0) # which are even?\n",
       "which(1:10 > 3, arr.ind = TRUE)\n",
       "\n",
       "( m <- matrix(1:12, 3, 4) )\n",
       "div.3 <- m %% 3 == 0\n",
       "which(div.3)\n",
       "which(div.3, arr.ind = TRUE)\n",
       "rownames(m) <- paste(\"Case\", 1:3, sep = \"_\")\n",
       "which(m %% 5 == 0, arr.ind = TRUE)\n",
       "\n",
       "dim(m) <- c(2, 2, 3); m\n",
       "which(div.3, arr.ind = FALSE)\n",
       "which(div.3, arr.ind = TRUE)\n",
       "\n",
       "vm <- c(m)\n",
       "dim(vm) <- length(vm) #-- funny thing with  length(dim(...)) == 1\n",
       "which(div.3, arr.ind = TRUE)\n",
       "\n",
       "\\end{ExampleCode}\n",
       "\\end{Examples}"
      ],
      "text/plain": [
       "which                   package:base                   R Documentation\n",
       "\n",
       "_\bW_\bh_\bi_\bc_\bh _\bi_\bn_\bd_\bi_\bc_\be_\bs _\ba_\br_\be _\bT_\bR_\bU_\bE?\n",
       "\n",
       "_\bD_\be_\bs_\bc_\br_\bi_\bp_\bt_\bi_\bo_\bn:\n",
       "\n",
       "     Give the ‘TRUE’ indices of a logical object, allowing for array\n",
       "     indices.\n",
       "\n",
       "_\bU_\bs_\ba_\bg_\be:\n",
       "\n",
       "     which(x, arr.ind = FALSE, useNames = TRUE)\n",
       "     arrayInd(ind, .dim, .dimnames = NULL, useNames = FALSE)\n",
       "     \n",
       "_\bA_\br_\bg_\bu_\bm_\be_\bn_\bt_\bs:\n",
       "\n",
       "       x: a ‘logical’ vector or array.  ‘NA’s are allowed and omitted\n",
       "          (treated as if ‘FALSE’).\n",
       "\n",
       " arr.ind: logical; should *arr*ay *ind*ices be returned when ‘x’ is an\n",
       "          array?\n",
       "\n",
       "     ind: integer-valued index vector, as resulting from ‘which(x)’.\n",
       "\n",
       "    .dim: ‘dim(.)’ integer vector\n",
       "\n",
       ".dimnames: optional list of character ‘dimnames(.)’.  If ‘useNames’ is\n",
       "          true, to be used for constructing dimnames for ‘arrayInd()’\n",
       "          (and hence, ‘which(*, arr.ind=TRUE)’).  If ‘names(.dimnames)’\n",
       "          is not empty, these are used as column names.\n",
       "          ‘.dimnames[[1]]’ is used as row names.\n",
       "\n",
       "useNames: logical indicating if the value of ‘arrayInd()’ should have\n",
       "          (non-null) dimnames at all.\n",
       "\n",
       "_\bV_\ba_\bl_\bu_\be:\n",
       "\n",
       "     If ‘arr.ind == FALSE’ (the default), an integer vector, or a\n",
       "     double vector if ‘x’ is a _long vector_, with ‘length’ equal to\n",
       "     ‘sum(x)’, i.e., to the number of ‘TRUE’s in ‘x’.\n",
       "\n",
       "     Basically, the result is ‘(1:length(x))[x]’ in typical cases; more\n",
       "     generally, including when ‘x’ has ‘NA’'s, ‘which(x)’ is\n",
       "     ‘seq_along(x)[!is.na(x) & x]’ plus ‘names’ when ‘x’ has.\n",
       "\n",
       "     If ‘arr.ind == TRUE’ and ‘x’ is an ‘array’ (has a ‘dim’\n",
       "     attribute), the result is ‘arrayInd(which(x), dim(x),\n",
       "     dimnames(x))’, namely a matrix whose rows each are the indices of\n",
       "     one element of ‘x’; see Examples below.\n",
       "\n",
       "_\bN_\bo_\bt_\be:\n",
       "\n",
       "     Unlike most other base R functions this does not coerce ‘x’ to\n",
       "     logical: only arguments with ‘typeof’ logical are accepted and\n",
       "     others give an error.\n",
       "\n",
       "_\bA_\bu_\bt_\bh_\bo_\br(_\bs):\n",
       "\n",
       "     Werner Stahel and Peter Holzer (ETH Zurich) proposed the ‘arr.ind’\n",
       "     option.\n",
       "\n",
       "_\bS_\be_\be _\bA_\bl_\bs_\bo:\n",
       "\n",
       "     ‘Logic’, ‘which.min’ for the index of the minimum or maximum, and\n",
       "     ‘match’ for the first index of an element in a vector, i.e., for a\n",
       "     scalar ‘a’, ‘match(a, x)’ is equivalent to ‘min(which(x == a))’\n",
       "     but much more efficient.\n",
       "\n",
       "_\bE_\bx_\ba_\bm_\bp_\bl_\be_\bs:\n",
       "\n",
       "     which(LETTERS == \"R\")\n",
       "     which(ll <- c(TRUE, FALSE, TRUE, NA, FALSE, FALSE, TRUE)) #> 1 3 7\n",
       "     names(ll) <- letters[seq(ll)]\n",
       "     which(ll)\n",
       "     which((1:12)%%2 == 0) # which are even?\n",
       "     which(1:10 > 3, arr.ind = TRUE)\n",
       "     \n",
       "     ( m <- matrix(1:12, 3, 4) )\n",
       "     div.3 <- m %% 3 == 0\n",
       "     which(div.3)\n",
       "     which(div.3, arr.ind = TRUE)\n",
       "     rownames(m) <- paste(\"Case\", 1:3, sep = \"_\")\n",
       "     which(m %% 5 == 0, arr.ind = TRUE)\n",
       "     \n",
       "     dim(m) <- c(2, 2, 3); m\n",
       "     which(div.3, arr.ind = FALSE)\n",
       "     which(div.3, arr.ind = TRUE)\n",
       "     \n",
       "     vm <- c(m)\n",
       "     dim(vm) <- length(vm) #-- funny thing with  length(dim(...)) == 1\n",
       "     which(div.3, arr.ind = TRUE)\n",
       "     "
      ]
     },
     "metadata": {},
     "output_type": "display_data"
    }
   ],
   "source": [
    "?which\n"
   ]
  },
  {
   "cell_type": "markdown",
   "metadata": {},
   "source": [
    "## 3.0 write out **NMD_summary.txt**"
   ]
  },
  {
   "cell_type": "code",
   "execution_count": null,
   "metadata": {},
   "outputs": [],
   "source": [
    "write.table(res,\"../data/NMD_summary.txt\",sep='\\t',row.names = TRUE,col.names = TRUE,quote = FALSE)"
   ]
  },
  {
   "cell_type": "markdown",
   "metadata": {},
   "source": [
    "## Appendix - Metadata\n",
    "\n",
    "For replicability and reproducibility purposes, we also print the following metadata:\n",
    "\n",
    "1. Checksums of **'artefacts'**, files generated during the analysis and stored in the folder directory **`data`**\n",
    "2. List of environment metadata, dependencies, versions of libraries using `conda list`"
   ]
  },
  {
   "cell_type": "markdown",
   "metadata": {},
   "source": [
    "### Appendix - 1. Checksums with the sha256 algorithm"
   ]
  },
  {
   "cell_type": "code",
   "execution_count": 5,
   "metadata": {},
   "outputs": [
    {
     "name": "stdout",
     "output_type": "stream",
     "text": [
      "Generating sha256 checksums of the artefacts in the `..data/` directory .. \n",
      "Done!\n",
      "\n"
     ]
    },
    {
     "data": {
      "text/html": [
       "<div>\n",
       "<style scoped>\n",
       "    .dataframe tbody tr th:only-of-type {\n",
       "        vertical-align: middle;\n",
       "    }\n",
       "\n",
       "    .dataframe tbody tr th {\n",
       "        vertical-align: top;\n",
       "    }\n",
       "\n",
       "    .dataframe thead th {\n",
       "        text-align: right;\n",
       "    }\n",
       "</style>\n",
       "<table border=\"1\" class=\"dataframe\">\n",
       "  <thead>\n",
       "    <tr style=\"text-align: right;\">\n",
       "      <th></th>\n",
       "      <th>ec38fac35613da014f73140da90c95294ba52c6e7923e380a5236762f1ca3793  GTEx_Analysis_2017-06-05_v8_RNASeQCv1.1.9_gene_tpm.gct</th>\n",
       "    </tr>\n",
       "  </thead>\n",
       "  <tbody>\n",
       "    <tr>\n",
       "      <th>0</th>\n",
       "      <td>65683ffcf6df3a68ce9e3401f2f66408231b9b9acd1c04...</td>\n",
       "    </tr>\n",
       "    <tr>\n",
       "      <th>1</th>\n",
       "      <td>0133c46eac7fde518f6d851287cd1933443ae3ea759d22...</td>\n",
       "    </tr>\n",
       "    <tr>\n",
       "      <th>2</th>\n",
       "      <td>cbabf87ae994cf76eb9b47709f6efb59e43a52af0a65f9...</td>\n",
       "    </tr>\n",
       "    <tr>\n",
       "      <th>3</th>\n",
       "      <td>8291be77c7ad6cd73d9f7797658e3f1ffc197532a23385...</td>\n",
       "    </tr>\n",
       "    <tr>\n",
       "      <th>4</th>\n",
       "      <td>5b1d46a8d2a5a2556e81d5262a50aa1ff2f31ee621193f...</td>\n",
       "    </tr>\n",
       "    <tr>\n",
       "      <th>...</th>\n",
       "      <td>...</td>\n",
       "    </tr>\n",
       "    <tr>\n",
       "      <th>4854</th>\n",
       "      <td>295ebbc27fa4e169b131781d772b4e69d528b82e728243...</td>\n",
       "    </tr>\n",
       "    <tr>\n",
       "      <th>4855</th>\n",
       "      <td>84f06a1cb756a11cd0306595d171d8739a8cf7fcebcc70...</td>\n",
       "    </tr>\n",
       "    <tr>\n",
       "      <th>4856</th>\n",
       "      <td>14d846231f11b4ff7acee9858fe6b39ecaad4079b3c1c5...</td>\n",
       "    </tr>\n",
       "    <tr>\n",
       "      <th>4857</th>\n",
       "      <td>66083588f477e50baa7229ee5ca9c34fbf53f7dad7940e...</td>\n",
       "    </tr>\n",
       "    <tr>\n",
       "      <th>4858</th>\n",
       "      <td>bfa152cca84d8f52dfa0d04057b949122c7d7fca98fb0f...</td>\n",
       "    </tr>\n",
       "  </tbody>\n",
       "</table>\n",
       "<p>4859 rows × 1 columns</p>\n",
       "</div>"
      ],
      "text/plain": [
       "     ec38fac35613da014f73140da90c95294ba52c6e7923e380a5236762f1ca3793  GTEx_Analysis_2017-06-05_v8_RNASeQCv1.1.9_gene_tpm.gct\n",
       "0     65683ffcf6df3a68ce9e3401f2f66408231b9b9acd1c04...                                                                      \n",
       "1     0133c46eac7fde518f6d851287cd1933443ae3ea759d22...                                                                      \n",
       "2     cbabf87ae994cf76eb9b47709f6efb59e43a52af0a65f9...                                                                      \n",
       "3     8291be77c7ad6cd73d9f7797658e3f1ffc197532a23385...                                                                      \n",
       "4     5b1d46a8d2a5a2556e81d5262a50aa1ff2f31ee621193f...                                                                      \n",
       "...                                                 ...                                                                      \n",
       "4854  295ebbc27fa4e169b131781d772b4e69d528b82e728243...                                                                      \n",
       "4855  84f06a1cb756a11cd0306595d171d8739a8cf7fcebcc70...                                                                      \n",
       "4856  14d846231f11b4ff7acee9858fe6b39ecaad4079b3c1c5...                                                                      \n",
       "4857  66083588f477e50baa7229ee5ca9c34fbf53f7dad7940e...                                                                      \n",
       "4858  bfa152cca84d8f52dfa0d04057b949122c7d7fca98fb0f...                                                                      \n",
       "\n",
       "[4859 rows x 1 columns]"
      ]
     },
     "execution_count": 5,
     "metadata": {},
     "output_type": "execute_result"
    }
   ],
   "source": [
    "notebook_id = \"nonsenseMediatedDecay\"\n",
    "os.system(\"echo true\")\n",
    "\n",
    "print(\"Generating sha256 checksums of the artefacts in the `..data/` directory .. \")\n",
    "os.system(f\"cd ../data/ && sha256sum NMD_summary.txt > ../metadata/{notebook_id}_sha256sums.txt\")\n",
    "print(\"Done!\\n\")\n",
    "\n",
    "pd.read_csv(f\"../metadata/{notebook_id}_sha256sums.txt\")"
   ]
  },
  {
   "cell_type": "markdown",
   "metadata": {},
   "source": [
    "### 2. Libraries metadata"
   ]
  },
  {
   "cell_type": "code",
   "execution_count": 5,
   "metadata": {},
   "outputs": [
    {
     "name": "stdout",
     "output_type": "stream",
     "text": [
      "Saving `conda list` packages in ../metadata/figure_4c_conda_list.txt  ..\n",
      "Done!\n",
      "\n"
     ]
    }
   ],
   "source": [
    "notebook_id = \"nonsenseMediatedDecay\"\n",
    "\n",
    "print(f\"Saving `conda list` packages in ../metadata/{notebook_id}_conda_list.txt  ..\")\n",
    "os.system(f\"conda list > ../metadata/{notebook_id}_conda_list.txt\")\n",
    "print(\"Done!\\n\")"
   ]
  }
 ],
 "metadata": {
  "kernelspec": {
   "display_name": "R",
   "language": "R",
   "name": "ir"
  },
  "language_info": {
   "codemirror_mode": "r",
   "file_extension": ".r",
   "mimetype": "text/x-r-source",
   "name": "R",
   "pygments_lexer": "r",
   "version": "3.6.2"
  }
 },
 "nbformat": 4,
 "nbformat_minor": 4
}
