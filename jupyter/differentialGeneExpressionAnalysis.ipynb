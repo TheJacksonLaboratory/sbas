{
 "cells": [
  {
   "cell_type": "markdown",
   "metadata": {},
   "source": [
    "## Analysis Notebook - differential Gene Expression Analysis\n",
    "\n",
    "This notebook generates the sex-biased differential gene expression analysis.   Differential Analysis (DE) was performed using voom (Law et.al., 2014) with gene expression counts with associated precision weights, followed by linear modeling and empirical Bayes procedure using limma. \n",
    "\n",
    "Within each tissue, the following linear regression model was used to detec secually dimorphic alternative splicing event expression:\n",
    "\n",
    "\n",
    "           y = B0 + B1 sex + epsilon (error)\n",
    "           \n",
    "where y is the gene expression to be modeled sex denotes the reported sex of the subject.   The function named `fit_tissue()` performs this analysis and accepts two arguments, the `tissue` and an `object` and create the **model matrix** based  that tissue's sex. We will perform a linear fit after calculating normal factors (based on the library size) and calculate the dispersion using `voom` (mean variance model of dispersion). We are saving the resulting matrixes as files."
   ]
  },
  {
   "cell_type": "markdown",
   "metadata": {},
   "source": [
    "### 1. Data files created by this notebook\n",
    "\n",
    "Output text files are written to the ``data/`` directory (at the same level as the ``jupyter`` directory). \n",
    "\n",
    "For each of the 39 tissues, this notebook produces the following results:\n",
    "\n",
    "1. **{tissue}_DGE.csv**: topTable results for the edgeR/Limma differential analysis\n",
    "2. **{tissue}_DGE_ensg_map.csv**: a convenience mapping of the ENSG to the geneSymbol\n",
    "3. **{tissue}_DGE_refined.csv**: a convenience mapping of the topTable results satisfying the 1.5 fold change and adjusted P-Value < 0.05.\n",
    "\n",
    "Additionally, diagnostic plots are produced:\n",
    "\n",
    "1. **{tissue}-gene-y-voom-MDSplot-100.pdf**: multi-dimensional scaling plot (MDSplot), `red` `m` for the male and `blue` `f` voom variance model.\n",
    "2. **{tissue}-gene-y-MDSplot-100.pdf**: MDSplot without voom."
   ]
  },
  {
   "cell_type": "markdown",
   "metadata": {},
   "source": [
    "### 1.1 load dependencies"
   ]
  },
  {
   "cell_type": "code",
   "execution_count": 1,
   "metadata": {},
   "outputs": [
    {
     "name": "stderr",
     "output_type": "stream",
     "text": [
      "Warning message:\n",
      "“package ‘gprofiler2’ was built under R version 3.6.3”\n",
      "Warning message:\n",
      "“package ‘downloader’ was built under R version 3.6.3”\n",
      "Warning message:\n",
      "“package ‘readr’ was built under R version 3.6.3”\n",
      "Loading required package: limma\n",
      "\n",
      "Warning message:\n",
      "“package ‘statmod’ was built under R version 3.6.3”\n",
      "Warning message:\n",
      "“package ‘snakecase’ was built under R version 3.6.3”\n",
      "Loading required package: BiocGenerics\n",
      "\n",
      "Loading required package: parallel\n",
      "\n",
      "\n",
      "Attaching package: ‘BiocGenerics’\n",
      "\n",
      "\n",
      "The following objects are masked from ‘package:parallel’:\n",
      "\n",
      "    clusterApply, clusterApplyLB, clusterCall, clusterEvalQ,\n",
      "    clusterExport, clusterMap, parApply, parCapply, parLapply,\n",
      "    parLapplyLB, parRapply, parSapply, parSapplyLB\n",
      "\n",
      "\n",
      "The following object is masked from ‘package:limma’:\n",
      "\n",
      "    plotMA\n",
      "\n",
      "\n",
      "The following objects are masked from ‘package:stats’:\n",
      "\n",
      "    IQR, mad, sd, var, xtabs\n",
      "\n",
      "\n",
      "The following objects are masked from ‘package:base’:\n",
      "\n",
      "    anyDuplicated, append, as.data.frame, basename, cbind, colnames,\n",
      "    dirname, do.call, duplicated, eval, evalq, Filter, Find, get, grep,\n",
      "    grepl, intersect, is.unsorted, lapply, Map, mapply, match, mget,\n",
      "    order, paste, pmax, pmax.int, pmin, pmin.int, Position, rank,\n",
      "    rbind, Reduce, rownames, sapply, setdiff, sort, table, tapply,\n",
      "    union, unique, unsplit, which, which.max, which.min\n",
      "\n",
      "\n",
      "Loading required package: Biobase\n",
      "\n",
      "Welcome to Bioconductor\n",
      "\n",
      "    Vignettes contain introductory material; view with\n",
      "    'browseVignettes()'. To cite Bioconductor, see\n",
      "    'citation(\"Biobase\")', and for packages 'citation(\"pkgname\")'.\n",
      "\n",
      "\n",
      "Warning message:\n",
      "“package ‘stringi’ was built under R version 3.6.3”\n",
      "\n",
      "Attaching package: ‘dplyr’\n",
      "\n",
      "\n",
      "The following object is masked from ‘package:Biobase’:\n",
      "\n",
      "    combine\n",
      "\n",
      "\n",
      "The following objects are masked from ‘package:BiocGenerics’:\n",
      "\n",
      "    combine, intersect, setdiff, union\n",
      "\n",
      "\n",
      "The following objects are masked from ‘package:stats’:\n",
      "\n",
      "    filter, lag\n",
      "\n",
      "\n",
      "The following objects are masked from ‘package:base’:\n",
      "\n",
      "    intersect, setdiff, setequal, union\n",
      "\n",
      "\n"
     ]
    }
   ],
   "source": [
    "library(gprofiler2)\n",
    "library(downloader)\n",
    "library(readr)\n",
    "library(edgeR)\n",
    "library(limma)\n",
    "library(statmod)\n",
    "library(snakecase)\n",
    "library(limma)\n",
    "library(multtest)\n",
    "library(stringi)\n",
    "library(snakecase)\n",
    "library(dplyr)\n",
    "\n",
    "Sys.setenv(TAR = \"/bin/tar\") # for gzfile"
   ]
  },
  {
   "cell_type": "markdown",
   "metadata": {},
   "source": [
    "### 1.2 load corrected GTEx expressionSet object"
   ]
  },
  {
   "cell_type": "code",
   "execution_count": 3,
   "metadata": {
    "lines_to_next_cell": 0
   },
   "outputs": [
    {
     "name": "stderr",
     "output_type": "stream",
     "text": [
      "\n",
      "Reading GTEx expressionSet obj from ../data/gtex.corrected.rds\n",
      "\n",
      "\n",
      "\n",
      "done reading GTEx corrected expressionSet Object\n",
      "\n",
      "\n"
     ]
    },
    {
     "data": {
      "text/html": [
       "<style>\n",
       ".dl-inline {width: auto; margin:0; padding: 0}\n",
       ".dl-inline>dt, .dl-inline>dd {float: none; width: auto; display: inline-block}\n",
       ".dl-inline>dt::after {content: \":\\0020\"; padding-right: .5ex}\n",
       ".dl-inline>dt:not(:first-of-type) {padding-left: .5ex}\n",
       "</style><dl class=dl-inline><dt>Features</dt><dd>55878</dd><dt>Samples</dt><dd>17382</dd></dl>\n"
      ],
      "text/latex": [
       "\\begin{description*}\n",
       "\\item[Features] 55878\n",
       "\\item[Samples] 17382\n",
       "\\end{description*}\n"
      ],
      "text/markdown": [
       "Features\n",
       ":   55878Samples\n",
       ":   17382\n",
       "\n"
      ],
      "text/plain": [
       "Features  Samples \n",
       "   55878    17382 "
      ]
     },
     "metadata": {},
     "output_type": "display_data"
    }
   ],
   "source": [
    "message(\"\\nReading GTEx expressionSet obj from ../data/gtex.corrected.rds\\n\")\n",
    "obj <- readRDS(file = \"../data/gtex.corrected.rds\")\n",
    "pData(obj)$SAMPID <- gsub('-','\\\\.',pData(obj)$SAMPID)\n",
    "message(\"\\ndone reading GTEx corrected expressionSet Object\\n\")\n",
    "dim(obj)"
   ]
  },
  {
   "cell_type": "markdown",
   "metadata": {},
   "source": [
    "### 2. Preparation for Differential Expression Analysis\n"
   ]
  },
  {
   "cell_type": "markdown",
   "metadata": {},
   "source": [
    "### 2.1 Filtering expression\n",
    "\n",
    "Filter the events that have an expression greater than the the 0.25 of the number of samples in both male and female"
   ]
  },
  {
   "cell_type": "code",
   "execution_count": 4,
   "metadata": {},
   "outputs": [
    {
     "name": "stderr",
     "output_type": "stream",
     "text": [
      "\n",
      "male gene expression (rowSums) should exceed 0.25 of the number of samples\n",
      "2896 \n",
      "\n"
     ]
    },
    {
     "data": {
      "text/plain": [
       "keep_male\n",
       "FALSE  TRUE \n",
       "13722 42156 "
      ]
     },
     "metadata": {},
     "output_type": "display_data"
    }
   ],
   "source": [
    "# male\n",
    "male_obj           <- obj[,pData(obj)$SEX == 1]\n",
    "male_exprs_rowSums <- rowSums(exprs(male_obj))\n",
    "male_threshold     <- 0.25 * dim(male_obj)[2]\n",
    "\n",
    "message(\"\\nmale gene expression (rowSums) should exceed 0.25 of the number of samples\\n\", paste(male_threshold), collapse=\" \")\n",
    "\n",
    "keep_male          <- male_exprs_rowSums >= male_threshold\n",
    "table(keep_male)"
   ]
  },
  {
   "cell_type": "code",
   "execution_count": 5,
   "metadata": {},
   "outputs": [
    {
     "name": "stderr",
     "output_type": "stream",
     "text": [
      "\n",
      "female expression (rowSums) should exceed 0.25 of the number of samples\n",
      "1449.5 \n",
      "\n"
     ]
    },
    {
     "data": {
      "text/plain": [
       "keep_female\n",
       "FALSE  TRUE \n",
       "16485 39393 "
      ]
     },
     "metadata": {},
     "output_type": "display_data"
    }
   ],
   "source": [
    "# female\n",
    "female_obj           <- obj[,pData(obj)$SEX == 2]\n",
    "female_exprs_rowSums <- rowSums(exprs(female_obj))\n",
    "female_threshold     <- 0.25 * dim(female_obj)[2]\n",
    "\n",
    "message(\"\\nfemale expression (rowSums) should exceed 0.25 of the number of samples\\n\", paste(female_threshold), collapse=\" \")\n",
    "\n",
    "keep_female          <- female_exprs_rowSums >= female_threshold\n",
    "\n",
    "table(keep_female)"
   ]
  },
  {
   "cell_type": "code",
   "execution_count": 6,
   "metadata": {},
   "outputs": [
    {
     "name": "stderr",
     "output_type": "stream",
     "text": [
      "\n",
      "keeping this many genes\n",
      "\n",
      "\n"
     ]
    },
    {
     "data": {
      "text/plain": [
       "keep\n",
       "FALSE  TRUE \n",
       "13607 42271 "
      ]
     },
     "metadata": {},
     "output_type": "display_data"
    },
    {
     "data": {
      "text/html": [
       "<style>\n",
       ".dl-inline {width: auto; margin:0; padding: 0}\n",
       ".dl-inline>dt, .dl-inline>dd {float: none; width: auto; display: inline-block}\n",
       ".dl-inline>dt::after {content: \":\\0020\"; padding-right: .5ex}\n",
       ".dl-inline>dt:not(:first-of-type) {padding-left: .5ex}\n",
       "</style><dl class=dl-inline><dt>Features</dt><dd>42271</dd><dt>Samples</dt><dd>17382</dd></dl>\n"
      ],
      "text/latex": [
       "\\begin{description*}\n",
       "\\item[Features] 42271\n",
       "\\item[Samples] 17382\n",
       "\\end{description*}\n"
      ],
      "text/markdown": [
       "Features\n",
       ":   42271Samples\n",
       ":   17382\n",
       "\n"
      ],
      "text/plain": [
       "Features  Samples \n",
       "   42271    17382 "
      ]
     },
     "metadata": {},
     "output_type": "display_data"
    },
    {
     "data": {
      "text/html": [
       "<style>\n",
       ".list-inline {list-style: none; margin:0; padding: 0}\n",
       ".list-inline>li {display: inline-block}\n",
       ".list-inline>li:not(:last-child)::after {content: \"\\00b7\"; padding: 0 .5ex}\n",
       "</style>\n",
       "<ol class=list-inline><li>17382</li><li>67</li></ol>\n"
      ],
      "text/latex": [
       "\\begin{enumerate*}\n",
       "\\item 17382\n",
       "\\item 67\n",
       "\\end{enumerate*}\n"
      ],
      "text/markdown": [
       "1. 17382\n",
       "2. 67\n",
       "\n",
       "\n"
      ],
      "text/plain": [
       "[1] 17382    67"
      ]
     },
     "metadata": {},
     "output_type": "display_data"
    },
    {
     "data": {
      "text/html": [
       "<style>\n",
       ".list-inline {list-style: none; margin:0; padding: 0}\n",
       ".list-inline>li {display: inline-block}\n",
       ".list-inline>li:not(:last-child)::after {content: \"\\00b7\"; padding: 0 .5ex}\n",
       "</style>\n",
       "<ol class=list-inline><li>42271</li><li>17382</li></ol>\n"
      ],
      "text/latex": [
       "\\begin{enumerate*}\n",
       "\\item 42271\n",
       "\\item 17382\n",
       "\\end{enumerate*}\n"
      ],
      "text/markdown": [
       "1. 42271\n",
       "2. 17382\n",
       "\n",
       "\n"
      ],
      "text/plain": [
       "[1] 42271 17382"
      ]
     },
     "metadata": {},
     "output_type": "display_data"
    }
   ],
   "source": [
    "# now keep only those events that are meet either the male or the female criteria\n",
    "keep <- keep_male  | keep_female\n",
    "message(\"\\nkeeping this many genes\\n\")\n",
    "table(keep)\n",
    "obj <- obj[keep==TRUE,]\n",
    "dim(obj)\n",
    "dim(pData(obj))\n",
    "dim(exprs(obj))"
   ]
  },
  {
   "cell_type": "markdown",
   "metadata": {},
   "source": [
    "### 2.2 Keep only the reduced tissues"
   ]
  },
  {
   "cell_type": "code",
   "execution_count": 7,
   "metadata": {},
   "outputs": [
    {
     "name": "stdout",
     "output_type": "stream",
     "text": [
      "Observations: 39\n",
      "Variables: 5\n",
      "$ SMTSD        \u001b[3m\u001b[90m<chr>\u001b[39m\u001b[23m \"adipose_subcutaneous\", \"adipose_visceral_omentum\", \"adr…\n",
      "$ female       \u001b[3m\u001b[90m<int>\u001b[39m\u001b[23m 218, 170, 101, 153, 94, 209, 63, 58, 67, 74, 56, 54, 55,…\n",
      "$ male         \u001b[3m\u001b[90m<int>\u001b[39m\u001b[23m 445, 371, 157, 279, 146, 454, 183, 157, 174, 181, 153, 1…\n",
      "$ include      \u001b[3m\u001b[90m<int>\u001b[39m\u001b[23m 1, 1, 1, 1, 1, 1, 1, 1, 1, 1, 1, 1, 1, 1, 1, 1, 1, 1, 1,…\n",
      "$ display_name \u001b[3m\u001b[90m<chr>\u001b[39m\u001b[23m \"Adipose (sc)\", \"Adipose (v)\", \"Adrenal gland\", \"Aorta\",…\n"
     ]
    }
   ],
   "source": [
    "tissue_reduction <- read.table(\"../assets/tissues.tsv\", header=TRUE, sep=\"\\t\",\n",
    "                               skipNul=FALSE, stringsAsFactors = FALSE)\n",
    "colnames(tissue_reduction)  <- c(\"SMTSD\",\"female\",\"male\",\"include\",\"display_name\")\n",
    "\n",
    "## only keep those we wish to include\n",
    "tissue_reduction <- tissue_reduction[tissue_reduction$include==1,]\n",
    "glimpse(tissue_reduction)"
   ]
  },
  {
   "cell_type": "code",
   "execution_count": 8,
   "metadata": {},
   "outputs": [
    {
     "data": {
      "text/html": [
       "<style>\n",
       ".list-inline {list-style: none; margin:0; padding: 0}\n",
       ".list-inline>li {display: inline-block}\n",
       ".list-inline>li:not(:last-child)::after {content: \"\\00b7\"; padding: 0 .5ex}\n",
       "</style>\n",
       "<ol class=list-inline><li>'Adipose - Subcutaneous'</li><li>'Adipose - Visceral (Omentum)'</li><li>'Adrenal Gland'</li><li>'Artery - Aorta'</li><li>'Artery - Coronary'</li><li>'Artery - Tibial'</li><li>'Bladder'</li><li>'Brain - Amygdala'</li><li>'Brain - Anterior cingulate cortex (BA24)'</li><li>'Brain - Caudate (basal ganglia)'</li><li>'Brain - Cerebellar Hemisphere'</li><li>'Brain - Cerebellum'</li><li>'Brain - Cortex'</li><li>'Brain - Frontal Cortex (BA9)'</li><li>'Brain - Hippocampus'</li><li>'Brain - Hypothalamus'</li><li>'Brain - Nucleus accumbens (basal ganglia)'</li><li>'Brain - Putamen (basal ganglia)'</li><li>'Brain - Spinal cord (cervical c-1)'</li><li>'Brain - Substantia nigra'</li><li>'Breast - Mammary Tissue'</li><li>'Cells - Cultured fibroblasts'</li><li>'Cells - EBV-transformed lymphocytes'</li><li>'Cells - Leukemia cell line (CML)'</li><li>'Cervix - Ectocervix'</li><li>'Cervix - Endocervix'</li><li>'Colon - Sigmoid'</li><li>'Colon - Transverse'</li><li>'Esophagus - Gastroesophageal Junction'</li><li>'Esophagus - Mucosa'</li><li>'Esophagus - Muscularis'</li><li>'Fallopian Tube'</li><li>'Heart - Atrial Appendage'</li><li>'Heart - Left Ventricle'</li><li>'Kidney - Cortex'</li><li>'Kidney - Medulla'</li><li>'Liver'</li><li>'Lung'</li><li>'Minor Salivary Gland'</li><li>'Muscle - Skeletal'</li><li>'Nerve - Tibial'</li><li>'Ovary'</li><li>'Pancreas'</li><li>'Pituitary'</li><li>'Prostate'</li><li>'Skin - Not Sun Exposed (Suprapubic)'</li><li>'Skin - Sun Exposed (Lower leg)'</li><li>'Small Intestine - Terminal Ileum'</li><li>'Spleen'</li><li>'Stomach'</li><li>'Testis'</li><li>'Thyroid'</li><li>'Uterus'</li><li>'Vagina'</li><li>'Whole Blood'</li></ol>\n"
      ],
      "text/latex": [
       "\\begin{enumerate*}\n",
       "\\item 'Adipose - Subcutaneous'\n",
       "\\item 'Adipose - Visceral (Omentum)'\n",
       "\\item 'Adrenal Gland'\n",
       "\\item 'Artery - Aorta'\n",
       "\\item 'Artery - Coronary'\n",
       "\\item 'Artery - Tibial'\n",
       "\\item 'Bladder'\n",
       "\\item 'Brain - Amygdala'\n",
       "\\item 'Brain - Anterior cingulate cortex (BA24)'\n",
       "\\item 'Brain - Caudate (basal ganglia)'\n",
       "\\item 'Brain - Cerebellar Hemisphere'\n",
       "\\item 'Brain - Cerebellum'\n",
       "\\item 'Brain - Cortex'\n",
       "\\item 'Brain - Frontal Cortex (BA9)'\n",
       "\\item 'Brain - Hippocampus'\n",
       "\\item 'Brain - Hypothalamus'\n",
       "\\item 'Brain - Nucleus accumbens (basal ganglia)'\n",
       "\\item 'Brain - Putamen (basal ganglia)'\n",
       "\\item 'Brain - Spinal cord (cervical c-1)'\n",
       "\\item 'Brain - Substantia nigra'\n",
       "\\item 'Breast - Mammary Tissue'\n",
       "\\item 'Cells - Cultured fibroblasts'\n",
       "\\item 'Cells - EBV-transformed lymphocytes'\n",
       "\\item 'Cells - Leukemia cell line (CML)'\n",
       "\\item 'Cervix - Ectocervix'\n",
       "\\item 'Cervix - Endocervix'\n",
       "\\item 'Colon - Sigmoid'\n",
       "\\item 'Colon - Transverse'\n",
       "\\item 'Esophagus - Gastroesophageal Junction'\n",
       "\\item 'Esophagus - Mucosa'\n",
       "\\item 'Esophagus - Muscularis'\n",
       "\\item 'Fallopian Tube'\n",
       "\\item 'Heart - Atrial Appendage'\n",
       "\\item 'Heart - Left Ventricle'\n",
       "\\item 'Kidney - Cortex'\n",
       "\\item 'Kidney - Medulla'\n",
       "\\item 'Liver'\n",
       "\\item 'Lung'\n",
       "\\item 'Minor Salivary Gland'\n",
       "\\item 'Muscle - Skeletal'\n",
       "\\item 'Nerve - Tibial'\n",
       "\\item 'Ovary'\n",
       "\\item 'Pancreas'\n",
       "\\item 'Pituitary'\n",
       "\\item 'Prostate'\n",
       "\\item 'Skin - Not Sun Exposed (Suprapubic)'\n",
       "\\item 'Skin - Sun Exposed (Lower leg)'\n",
       "\\item 'Small Intestine - Terminal Ileum'\n",
       "\\item 'Spleen'\n",
       "\\item 'Stomach'\n",
       "\\item 'Testis'\n",
       "\\item 'Thyroid'\n",
       "\\item 'Uterus'\n",
       "\\item 'Vagina'\n",
       "\\item 'Whole Blood'\n",
       "\\end{enumerate*}\n"
      ],
      "text/markdown": [
       "1. 'Adipose - Subcutaneous'\n",
       "2. 'Adipose - Visceral (Omentum)'\n",
       "3. 'Adrenal Gland'\n",
       "4. 'Artery - Aorta'\n",
       "5. 'Artery - Coronary'\n",
       "6. 'Artery - Tibial'\n",
       "7. 'Bladder'\n",
       "8. 'Brain - Amygdala'\n",
       "9. 'Brain - Anterior cingulate cortex (BA24)'\n",
       "10. 'Brain - Caudate (basal ganglia)'\n",
       "11. 'Brain - Cerebellar Hemisphere'\n",
       "12. 'Brain - Cerebellum'\n",
       "13. 'Brain - Cortex'\n",
       "14. 'Brain - Frontal Cortex (BA9)'\n",
       "15. 'Brain - Hippocampus'\n",
       "16. 'Brain - Hypothalamus'\n",
       "17. 'Brain - Nucleus accumbens (basal ganglia)'\n",
       "18. 'Brain - Putamen (basal ganglia)'\n",
       "19. 'Brain - Spinal cord (cervical c-1)'\n",
       "20. 'Brain - Substantia nigra'\n",
       "21. 'Breast - Mammary Tissue'\n",
       "22. 'Cells - Cultured fibroblasts'\n",
       "23. 'Cells - EBV-transformed lymphocytes'\n",
       "24. 'Cells - Leukemia cell line (CML)'\n",
       "25. 'Cervix - Ectocervix'\n",
       "26. 'Cervix - Endocervix'\n",
       "27. 'Colon - Sigmoid'\n",
       "28. 'Colon - Transverse'\n",
       "29. 'Esophagus - Gastroesophageal Junction'\n",
       "30. 'Esophagus - Mucosa'\n",
       "31. 'Esophagus - Muscularis'\n",
       "32. 'Fallopian Tube'\n",
       "33. 'Heart - Atrial Appendage'\n",
       "34. 'Heart - Left Ventricle'\n",
       "35. 'Kidney - Cortex'\n",
       "36. 'Kidney - Medulla'\n",
       "37. 'Liver'\n",
       "38. 'Lung'\n",
       "39. 'Minor Salivary Gland'\n",
       "40. 'Muscle - Skeletal'\n",
       "41. 'Nerve - Tibial'\n",
       "42. 'Ovary'\n",
       "43. 'Pancreas'\n",
       "44. 'Pituitary'\n",
       "45. 'Prostate'\n",
       "46. 'Skin - Not Sun Exposed (Suprapubic)'\n",
       "47. 'Skin - Sun Exposed (Lower leg)'\n",
       "48. 'Small Intestine - Terminal Ileum'\n",
       "49. 'Spleen'\n",
       "50. 'Stomach'\n",
       "51. 'Testis'\n",
       "52. 'Thyroid'\n",
       "53. 'Uterus'\n",
       "54. 'Vagina'\n",
       "55. 'Whole Blood'\n",
       "\n",
       "\n"
      ],
      "text/plain": [
       " [1] \"Adipose - Subcutaneous\"                   \n",
       " [2] \"Adipose - Visceral (Omentum)\"             \n",
       " [3] \"Adrenal Gland\"                            \n",
       " [4] \"Artery - Aorta\"                           \n",
       " [5] \"Artery - Coronary\"                        \n",
       " [6] \"Artery - Tibial\"                          \n",
       " [7] \"Bladder\"                                  \n",
       " [8] \"Brain - Amygdala\"                         \n",
       " [9] \"Brain - Anterior cingulate cortex (BA24)\" \n",
       "[10] \"Brain - Caudate (basal ganglia)\"          \n",
       "[11] \"Brain - Cerebellar Hemisphere\"            \n",
       "[12] \"Brain - Cerebellum\"                       \n",
       "[13] \"Brain - Cortex\"                           \n",
       "[14] \"Brain - Frontal Cortex (BA9)\"             \n",
       "[15] \"Brain - Hippocampus\"                      \n",
       "[16] \"Brain - Hypothalamus\"                     \n",
       "[17] \"Brain - Nucleus accumbens (basal ganglia)\"\n",
       "[18] \"Brain - Putamen (basal ganglia)\"          \n",
       "[19] \"Brain - Spinal cord (cervical c-1)\"       \n",
       "[20] \"Brain - Substantia nigra\"                 \n",
       "[21] \"Breast - Mammary Tissue\"                  \n",
       "[22] \"Cells - Cultured fibroblasts\"             \n",
       "[23] \"Cells - EBV-transformed lymphocytes\"      \n",
       "[24] \"Cells - Leukemia cell line (CML)\"         \n",
       "[25] \"Cervix - Ectocervix\"                      \n",
       "[26] \"Cervix - Endocervix\"                      \n",
       "[27] \"Colon - Sigmoid\"                          \n",
       "[28] \"Colon - Transverse\"                       \n",
       "[29] \"Esophagus - Gastroesophageal Junction\"    \n",
       "[30] \"Esophagus - Mucosa\"                       \n",
       "[31] \"Esophagus - Muscularis\"                   \n",
       "[32] \"Fallopian Tube\"                           \n",
       "[33] \"Heart - Atrial Appendage\"                 \n",
       "[34] \"Heart - Left Ventricle\"                   \n",
       "[35] \"Kidney - Cortex\"                          \n",
       "[36] \"Kidney - Medulla\"                         \n",
       "[37] \"Liver\"                                    \n",
       "[38] \"Lung\"                                     \n",
       "[39] \"Minor Salivary Gland\"                     \n",
       "[40] \"Muscle - Skeletal\"                        \n",
       "[41] \"Nerve - Tibial\"                           \n",
       "[42] \"Ovary\"                                    \n",
       "[43] \"Pancreas\"                                 \n",
       "[44] \"Pituitary\"                                \n",
       "[45] \"Prostate\"                                 \n",
       "[46] \"Skin - Not Sun Exposed (Suprapubic)\"      \n",
       "[47] \"Skin - Sun Exposed (Lower leg)\"           \n",
       "[48] \"Small Intestine - Terminal Ileum\"         \n",
       "[49] \"Spleen\"                                   \n",
       "[50] \"Stomach\"                                  \n",
       "[51] \"Testis\"                                   \n",
       "[52] \"Thyroid\"                                  \n",
       "[53] \"Uterus\"                                   \n",
       "[54] \"Vagina\"                                   \n",
       "[55] \"Whole Blood\"                              "
      ]
     },
     "metadata": {},
     "output_type": "display_data"
    }
   ],
   "source": [
    "# convert the GTEx object via snakecase the name of the tissue to match\n",
    "levels(pData(obj)$SMTSD)"
   ]
  },
  {
   "cell_type": "code",
   "execution_count": 9,
   "metadata": {},
   "outputs": [
    {
     "data": {
      "text/html": [
       "<style>\n",
       ".list-inline {list-style: none; margin:0; padding: 0}\n",
       ".list-inline>li {display: inline-block}\n",
       ".list-inline>li:not(:last-child)::after {content: \"\\00b7\"; padding: 0 .5ex}\n",
       "</style>\n",
       "<ol class=list-inline><li>'adipose_subcutaneous'</li><li>'muscle_skeletal'</li><li>'artery_tibial'</li><li>'artery_coronary'</li><li>'heart_atrial_appendage'</li><li>'adipose_visceral_omentum'</li></ol>\n"
      ],
      "text/latex": [
       "\\begin{enumerate*}\n",
       "\\item 'adipose\\_subcutaneous'\n",
       "\\item 'muscle\\_skeletal'\n",
       "\\item 'artery\\_tibial'\n",
       "\\item 'artery\\_coronary'\n",
       "\\item 'heart\\_atrial\\_appendage'\n",
       "\\item 'adipose\\_visceral\\_omentum'\n",
       "\\end{enumerate*}\n"
      ],
      "text/markdown": [
       "1. 'adipose_subcutaneous'\n",
       "2. 'muscle_skeletal'\n",
       "3. 'artery_tibial'\n",
       "4. 'artery_coronary'\n",
       "5. 'heart_atrial_appendage'\n",
       "6. 'adipose_visceral_omentum'\n",
       "\n",
       "\n"
      ],
      "text/plain": [
       "[1] \"adipose_subcutaneous\"     \"muscle_skeletal\"         \n",
       "[3] \"artery_tibial\"            \"artery_coronary\"         \n",
       "[5] \"heart_atrial_appendage\"   \"adipose_visceral_omentum\""
      ]
     },
     "metadata": {},
     "output_type": "display_data"
    }
   ],
   "source": [
    "pData(obj)$SMTSD <- snakecase::to_snake_case(as.character(pData(obj)$SMTSD))\n",
    "head(pData(obj)$SMTSD)"
   ]
  },
  {
   "cell_type": "code",
   "execution_count": 10,
   "metadata": {},
   "outputs": [
    {
     "data": {
      "text/plain": [
       "keep\n",
       "FALSE  TRUE \n",
       " 1851 15531 "
      ]
     },
     "metadata": {},
     "output_type": "display_data"
    }
   ],
   "source": [
    "keep <- pData(obj)$SMTSD %in% tissue_reduction$SMTSD\n",
    "table(keep)"
   ]
  },
  {
   "cell_type": "code",
   "execution_count": 11,
   "metadata": {},
   "outputs": [
    {
     "name": "stderr",
     "output_type": "stream",
     "text": [
      "\n",
      "the expressionSet object\n",
      "\n",
      "\n"
     ]
    },
    {
     "data": {
      "text/html": [
       "<style>\n",
       ".dl-inline {width: auto; margin:0; padding: 0}\n",
       ".dl-inline>dt, .dl-inline>dd {float: none; width: auto; display: inline-block}\n",
       ".dl-inline>dt::after {content: \":\\0020\"; padding-right: .5ex}\n",
       ".dl-inline>dt:not(:first-of-type) {padding-left: .5ex}\n",
       "</style><dl class=dl-inline><dt>Features</dt><dd>42271</dd><dt>Samples</dt><dd>15531</dd></dl>\n"
      ],
      "text/latex": [
       "\\begin{description*}\n",
       "\\item[Features] 42271\n",
       "\\item[Samples] 15531\n",
       "\\end{description*}\n"
      ],
      "text/markdown": [
       "Features\n",
       ":   42271Samples\n",
       ":   15531\n",
       "\n"
      ],
      "text/plain": [
       "Features  Samples \n",
       "   42271    15531 "
      ]
     },
     "metadata": {},
     "output_type": "display_data"
    }
   ],
   "source": [
    "obj   <-  obj[,keep == TRUE]\n",
    "message(\"\\nthe expressionSet object\\n\")\n",
    "dim(obj)"
   ]
  },
  {
   "cell_type": "markdown",
   "metadata": {},
   "source": [
    "### 3. Differential analysis with edgeR and Limma\n",
    "\n",
    "Using edgeR expressionSet object for the GTEx data set, perform a linear fit after calculating normal factors (based on the library size) and calculate the dispersion using `voom` (mean variance model of dispersion). We are saving the resulting matrixes as files."
   ]
  },
  {
   "cell_type": "markdown",
   "metadata": {},
   "source": [
    "### 3.1 Function fit_tissue\n",
    "\n",
    "Function named `fit_tissue()`that accepts two arguments, the `tissue` and an `object` and create the **model matrix** based  that tissue's sex."
   ]
  },
  {
   "cell_type": "code",
   "execution_count": 12,
   "metadata": {},
   "outputs": [],
   "source": [
    "fit_tissue <- function (tissue, obj) {\n",
    "    tissue_true             <- pData(obj)$SMTSD == tissue\n",
    "    tissue_obj              <- obj[,tissue_true ==TRUE]\n",
    "    tissue_sex              <- factor(pData(tissue_obj)$SEX)\n",
    "    tissue_design           <- model.matrix(~tissue_sex)\n",
    "    colnames(tissue_design) <- c(\"intercept\",\"sex\")\n",
    "    \n",
    "    y_tissue       <- DGEList(counts=exprs(tissue_obj), group=tissue_sex)\n",
    "    y_tissue       <- calcNormFactors(y_tissue, method = \"RLE\")\n",
    "    y_tissue_voom  <- voom(y_tissue, tissue_design)\n",
    "    \n",
    "    sex            <- ifelse(pData(tissue_obj)$SEX==1,'male','female')\n",
    "    Gender         <- substring(sex,1,1)\n",
    "    filename       <- paste0(paste0(\"../pdf/\", snakecase::to_snake_case(tissue)),\"-gene-y-MDSplot-100.pdf\")\n",
    "    pdf (filename)\n",
    "        plotMDS(y_tissue, labels=Gender, top=100, col=ifelse(Gender==\"m\",\"blue\",\"red\"), \n",
    "                gene.selection=\"common\")\n",
    "    dev.off()\n",
    "    filename       <- paste0(paste0(\"../pdf/\", snakecase::to_snake_case(tissue)),\"-gene-y-voom-MDSplot-100.pdf\")\n",
    "    pdf (filename)    \n",
    "        plotMDS(y_tissue_voom, labels=Gender, top=100, col=ifelse(Gender==\"m\",\"blue\",\"red\"), \n",
    "                gene.selection=\"common\")\n",
    "    dev.off()\n",
    "\n",
    "    fit_tissue      <- lmFit(y_tissue_voom, tissue_design)\n",
    "    fit_tissue      <- eBayes(fit_tissue, robust=TRUE)\n",
    "    results_tissue  <- topTable (fit_tissue, coef='sex', number=nrow(y_tissue))\n",
    "    results_refined <- results_tissue$adj.P.Val <= 0.05 & abs(results_tissue$logFC) >= abs(log2(1.5))\n",
    "    \n",
    "    \n",
    "    filename  = paste(paste(\"../data\",gsub(\" \",\"\",tissue), sep=\"/\"),\"DGE.csv\", sep=\"_\")\n",
    "    rfilename = paste(paste(\"../data\",gsub(\" \",\"\",tissue), sep=\"/\"),\"DGE_refined.csv\", sep=\"_\")\n",
    "    ensgfile  = paste(paste(\"../data\",gsub(\" \",\"\",tissue), sep=\"/\"),\"DGE_ensg_map.csv\", sep=\"_\")\n",
    "  \n",
    "    ensg_names <- as.character(rownames(results_tissue[results_refined,]))\n",
    "    ensg_genes <- ensg_names\n",
    "    for (i in (1:length(ensg_names))) {\n",
    "        dont_convert = 0\n",
    "        ensg <- as.character(strsplit(ensg_names[i],'\\\\.\\\\w+$'))\n",
    "        ensg_names[i] = ensg[1]\n",
    "        if (ensg_names[i] == \"ENSG00000233864\") {\n",
    "            ensg_genes[i] = as.character(\"TTTY15\")\n",
    "            dont_convert = 1\n",
    "        } \n",
    "        if (ensg_names[i] == \"ENSG00000240800\") {\n",
    "            ensg_genes[i] = as.character(\"ATP8A2P1\")\n",
    "            dong_convert = 1\n",
    "        } \n",
    "        if (!dont_convert) {\n",
    "            \n",
    "            res <- gconvert(c(as.character(ensg_names[i])),\n",
    "                                      organism = \"hsapiens\",\n",
    "                                      target = \"ENSG\",\n",
    "                                      numeric_ns = \"\", \n",
    "                                      mthreshold = Inf,\n",
    "                                      filter_na = TRUE)\n",
    "            if (!is.null(res)) {\n",
    "                ensg_genes[i] <- res$name\n",
    "            }\n",
    "        }\n",
    "    }\n",
    "    ensg_maps <- cbind(ensg_names, ensg_genes)\n",
    "    write.table(results_tissue, filename, sep=',', quote=FALSE)\n",
    "    write.table(results_tissue[results_refined,], rfilename, sep=',', quote=FALSE)\n",
    "    write.table(ensg_maps, ensgfile, sep=',', quote=FALSE, row.names=FALSE)\n",
    "    return (results_tissue)\n",
    "}"
   ]
  },
  {
   "cell_type": "code",
   "execution_count": 15,
   "metadata": {},
   "outputs": [
    {
     "data": {
      "text/html": [
       "<style>\n",
       ".list-inline {list-style: none; margin:0; padding: 0}\n",
       ".list-inline>li {display: inline-block}\n",
       ".list-inline>li:not(:last-child)::after {content: \"\\00b7\"; padding: 0 .5ex}\n",
       "</style>\n",
       "<ol class=list-inline><li>'adipose_subcutaneous'</li><li>'adipose_visceral_omentum'</li><li>'adrenal_gland'</li><li>'artery_aorta'</li><li>'artery_coronary'</li><li>'artery_tibial'</li><li>'brain_caudate_basal_ganglia'</li><li>'brain_cerebellar_hemisphere'</li><li>'brain_cerebellum'</li><li>'brain_cortex'</li><li>'brain_frontal_cortex_ba_9'</li><li>'brain_hippocampus'</li><li>'brain_hypothalamus'</li><li>'brain_nucleus_accumbens_basal_ganglia'</li><li>'brain_putamen_basal_ganglia'</li><li>'brain_spinal_cord_cervical_c_1'</li><li>'breast_mammary_tissue'</li><li>'cells_cultured_fibroblasts'</li><li>'cells_ebv_transformed_lymphocytes'</li><li>'colon_sigmoid'</li><li>'colon_transverse'</li><li>'esophagus_gastroesophageal_junction'</li><li>'esophagus_mucosa'</li><li>'esophagus_muscularis'</li><li>'heart_atrial_appendage'</li><li>'heart_left_ventricle'</li><li>'liver'</li><li>'lung'</li><li>'muscle_skeletal'</li><li>'nerve_tibial'</li><li>'pancreas'</li><li>'pituitary'</li><li>'skin_not_sun_exposed_suprapubic'</li><li>'skin_sun_exposed_lower_leg'</li><li>'small_intestine_terminal_ileum'</li><li>'spleen'</li><li>'stomach'</li><li>'thyroid'</li><li>'whole_blood'</li></ol>\n"
      ],
      "text/latex": [
       "\\begin{enumerate*}\n",
       "\\item 'adipose\\_subcutaneous'\n",
       "\\item 'adipose\\_visceral\\_omentum'\n",
       "\\item 'adrenal\\_gland'\n",
       "\\item 'artery\\_aorta'\n",
       "\\item 'artery\\_coronary'\n",
       "\\item 'artery\\_tibial'\n",
       "\\item 'brain\\_caudate\\_basal\\_ganglia'\n",
       "\\item 'brain\\_cerebellar\\_hemisphere'\n",
       "\\item 'brain\\_cerebellum'\n",
       "\\item 'brain\\_cortex'\n",
       "\\item 'brain\\_frontal\\_cortex\\_ba\\_9'\n",
       "\\item 'brain\\_hippocampus'\n",
       "\\item 'brain\\_hypothalamus'\n",
       "\\item 'brain\\_nucleus\\_accumbens\\_basal\\_ganglia'\n",
       "\\item 'brain\\_putamen\\_basal\\_ganglia'\n",
       "\\item 'brain\\_spinal\\_cord\\_cervical\\_c\\_1'\n",
       "\\item 'breast\\_mammary\\_tissue'\n",
       "\\item 'cells\\_cultured\\_fibroblasts'\n",
       "\\item 'cells\\_ebv\\_transformed\\_lymphocytes'\n",
       "\\item 'colon\\_sigmoid'\n",
       "\\item 'colon\\_transverse'\n",
       "\\item 'esophagus\\_gastroesophageal\\_junction'\n",
       "\\item 'esophagus\\_mucosa'\n",
       "\\item 'esophagus\\_muscularis'\n",
       "\\item 'heart\\_atrial\\_appendage'\n",
       "\\item 'heart\\_left\\_ventricle'\n",
       "\\item 'liver'\n",
       "\\item 'lung'\n",
       "\\item 'muscle\\_skeletal'\n",
       "\\item 'nerve\\_tibial'\n",
       "\\item 'pancreas'\n",
       "\\item 'pituitary'\n",
       "\\item 'skin\\_not\\_sun\\_exposed\\_suprapubic'\n",
       "\\item 'skin\\_sun\\_exposed\\_lower\\_leg'\n",
       "\\item 'small\\_intestine\\_terminal\\_ileum'\n",
       "\\item 'spleen'\n",
       "\\item 'stomach'\n",
       "\\item 'thyroid'\n",
       "\\item 'whole\\_blood'\n",
       "\\end{enumerate*}\n"
      ],
      "text/markdown": [
       "1. 'adipose_subcutaneous'\n",
       "2. 'adipose_visceral_omentum'\n",
       "3. 'adrenal_gland'\n",
       "4. 'artery_aorta'\n",
       "5. 'artery_coronary'\n",
       "6. 'artery_tibial'\n",
       "7. 'brain_caudate_basal_ganglia'\n",
       "8. 'brain_cerebellar_hemisphere'\n",
       "9. 'brain_cerebellum'\n",
       "10. 'brain_cortex'\n",
       "11. 'brain_frontal_cortex_ba_9'\n",
       "12. 'brain_hippocampus'\n",
       "13. 'brain_hypothalamus'\n",
       "14. 'brain_nucleus_accumbens_basal_ganglia'\n",
       "15. 'brain_putamen_basal_ganglia'\n",
       "16. 'brain_spinal_cord_cervical_c_1'\n",
       "17. 'breast_mammary_tissue'\n",
       "18. 'cells_cultured_fibroblasts'\n",
       "19. 'cells_ebv_transformed_lymphocytes'\n",
       "20. 'colon_sigmoid'\n",
       "21. 'colon_transverse'\n",
       "22. 'esophagus_gastroesophageal_junction'\n",
       "23. 'esophagus_mucosa'\n",
       "24. 'esophagus_muscularis'\n",
       "25. 'heart_atrial_appendage'\n",
       "26. 'heart_left_ventricle'\n",
       "27. 'liver'\n",
       "28. 'lung'\n",
       "29. 'muscle_skeletal'\n",
       "30. 'nerve_tibial'\n",
       "31. 'pancreas'\n",
       "32. 'pituitary'\n",
       "33. 'skin_not_sun_exposed_suprapubic'\n",
       "34. 'skin_sun_exposed_lower_leg'\n",
       "35. 'small_intestine_terminal_ileum'\n",
       "36. 'spleen'\n",
       "37. 'stomach'\n",
       "38. 'thyroid'\n",
       "39. 'whole_blood'\n",
       "\n",
       "\n"
      ],
      "text/plain": [
       " [1] \"adipose_subcutaneous\"                 \n",
       " [2] \"adipose_visceral_omentum\"             \n",
       " [3] \"adrenal_gland\"                        \n",
       " [4] \"artery_aorta\"                         \n",
       " [5] \"artery_coronary\"                      \n",
       " [6] \"artery_tibial\"                        \n",
       " [7] \"brain_caudate_basal_ganglia\"          \n",
       " [8] \"brain_cerebellar_hemisphere\"          \n",
       " [9] \"brain_cerebellum\"                     \n",
       "[10] \"brain_cortex\"                         \n",
       "[11] \"brain_frontal_cortex_ba_9\"            \n",
       "[12] \"brain_hippocampus\"                    \n",
       "[13] \"brain_hypothalamus\"                   \n",
       "[14] \"brain_nucleus_accumbens_basal_ganglia\"\n",
       "[15] \"brain_putamen_basal_ganglia\"          \n",
       "[16] \"brain_spinal_cord_cervical_c_1\"       \n",
       "[17] \"breast_mammary_tissue\"                \n",
       "[18] \"cells_cultured_fibroblasts\"           \n",
       "[19] \"cells_ebv_transformed_lymphocytes\"    \n",
       "[20] \"colon_sigmoid\"                        \n",
       "[21] \"colon_transverse\"                     \n",
       "[22] \"esophagus_gastroesophageal_junction\"  \n",
       "[23] \"esophagus_mucosa\"                     \n",
       "[24] \"esophagus_muscularis\"                 \n",
       "[25] \"heart_atrial_appendage\"               \n",
       "[26] \"heart_left_ventricle\"                 \n",
       "[27] \"liver\"                                \n",
       "[28] \"lung\"                                 \n",
       "[29] \"muscle_skeletal\"                      \n",
       "[30] \"nerve_tibial\"                         \n",
       "[31] \"pancreas\"                             \n",
       "[32] \"pituitary\"                            \n",
       "[33] \"skin_not_sun_exposed_suprapubic\"      \n",
       "[34] \"skin_sun_exposed_lower_leg\"           \n",
       "[35] \"small_intestine_terminal_ileum\"       \n",
       "[36] \"spleen\"                               \n",
       "[37] \"stomach\"                              \n",
       "[38] \"thyroid\"                              \n",
       "[39] \"whole_blood\"                          "
      ]
     },
     "metadata": {},
     "output_type": "display_data"
    },
    {
     "data": {
      "text/html": [
       "39"
      ],
      "text/latex": [
       "39"
      ],
      "text/markdown": [
       "39"
      ],
      "text/plain": [
       "[1] 39"
      ]
     },
     "metadata": {},
     "output_type": "display_data"
    }
   ],
   "source": [
    "pData(obj)$SMTSD <- factor(pData(obj)$SMTSD)\n",
    "levels(pData(obj)$SMTSD)\n",
    "length(levels(pData(obj)$SMTSD))"
   ]
  },
  {
   "cell_type": "markdown",
   "metadata": {},
   "source": [
    "### 3.2 Looping through reduced Tissue set\n",
    "\n",
    "The gprofiler function, mapping `ENSG` ids to the geneSymbol name will sometimes not have a match resulting in the message \n",
    "\n",
    "`No results to show\n",
    "Please make sure that the organism or namespace is correct`"
   ]
  },
  {
   "cell_type": "code",
   "execution_count": 16,
   "metadata": {},
   "outputs": [
    {
     "name": "stderr",
     "output_type": "stream",
     "text": [
      "No results to show\n",
      "Please make sure that the organism or namespace is correct\n",
      "\n",
      "No results to show\n",
      "Please make sure that the organism or namespace is correct\n",
      "\n",
      "No results to show\n",
      "Please make sure that the organism or namespace is correct\n",
      "\n",
      "No results to show\n",
      "Please make sure that the organism or namespace is correct\n",
      "\n",
      "No results to show\n",
      "Please make sure that the organism or namespace is correct\n",
      "\n",
      "No results to show\n",
      "Please make sure that the organism or namespace is correct\n",
      "\n",
      "No results to show\n",
      "Please make sure that the organism or namespace is correct\n",
      "\n",
      "No results to show\n",
      "Please make sure that the organism or namespace is correct\n",
      "\n",
      "No results to show\n",
      "Please make sure that the organism or namespace is correct\n",
      "\n",
      "No results to show\n",
      "Please make sure that the organism or namespace is correct\n",
      "\n",
      "No results to show\n",
      "Please make sure that the organism or namespace is correct\n",
      "\n",
      "No results to show\n",
      "Please make sure that the organism or namespace is correct\n",
      "\n",
      "No results to show\n",
      "Please make sure that the organism or namespace is correct\n",
      "\n",
      "No results to show\n",
      "Please make sure that the organism or namespace is correct\n",
      "\n",
      "No results to show\n",
      "Please make sure that the organism or namespace is correct\n",
      "\n",
      "No results to show\n",
      "Please make sure that the organism or namespace is correct\n",
      "\n",
      "No results to show\n",
      "Please make sure that the organism or namespace is correct\n",
      "\n",
      "No results to show\n",
      "Please make sure that the organism or namespace is correct\n",
      "\n",
      "No results to show\n",
      "Please make sure that the organism or namespace is correct\n",
      "\n",
      "No results to show\n",
      "Please make sure that the organism or namespace is correct\n",
      "\n",
      "No results to show\n",
      "Please make sure that the organism or namespace is correct\n",
      "\n",
      "No results to show\n",
      "Please make sure that the organism or namespace is correct\n",
      "\n",
      "No results to show\n",
      "Please make sure that the organism or namespace is correct\n",
      "\n",
      "No results to show\n",
      "Please make sure that the organism or namespace is correct\n",
      "\n",
      "No results to show\n",
      "Please make sure that the organism or namespace is correct\n",
      "\n",
      "No results to show\n",
      "Please make sure that the organism or namespace is correct\n",
      "\n",
      "No results to show\n",
      "Please make sure that the organism or namespace is correct\n",
      "\n",
      "No results to show\n",
      "Please make sure that the organism or namespace is correct\n",
      "\n",
      "No results to show\n",
      "Please make sure that the organism or namespace is correct\n",
      "\n",
      "No results to show\n",
      "Please make sure that the organism or namespace is correct\n",
      "\n",
      "No results to show\n",
      "Please make sure that the organism or namespace is correct\n",
      "\n",
      "No results to show\n",
      "Please make sure that the organism or namespace is correct\n",
      "\n",
      "No results to show\n",
      "Please make sure that the organism or namespace is correct\n",
      "\n",
      "No results to show\n",
      "Please make sure that the organism or namespace is correct\n",
      "\n",
      "No results to show\n",
      "Please make sure that the organism or namespace is correct\n",
      "\n",
      "No results to show\n",
      "Please make sure that the organism or namespace is correct\n",
      "\n",
      "No results to show\n",
      "Please make sure that the organism or namespace is correct\n",
      "\n",
      "No results to show\n",
      "Please make sure that the organism or namespace is correct\n",
      "\n",
      "No results to show\n",
      "Please make sure that the organism or namespace is correct\n",
      "\n",
      "No results to show\n",
      "Please make sure that the organism or namespace is correct\n",
      "\n",
      "No results to show\n",
      "Please make sure that the organism or namespace is correct\n",
      "\n",
      "No results to show\n",
      "Please make sure that the organism or namespace is correct\n",
      "\n",
      "No results to show\n",
      "Please make sure that the organism or namespace is correct\n",
      "\n",
      "No results to show\n",
      "Please make sure that the organism or namespace is correct\n",
      "\n",
      "No results to show\n",
      "Please make sure that the organism or namespace is correct\n",
      "\n",
      "No results to show\n",
      "Please make sure that the organism or namespace is correct\n",
      "\n",
      "No results to show\n",
      "Please make sure that the organism or namespace is correct\n",
      "\n",
      "No results to show\n",
      "Please make sure that the organism or namespace is correct\n",
      "\n",
      "No results to show\n",
      "Please make sure that the organism or namespace is correct\n",
      "\n",
      "No results to show\n",
      "Please make sure that the organism or namespace is correct\n",
      "\n",
      "No results to show\n",
      "Please make sure that the organism or namespace is correct\n",
      "\n",
      "No results to show\n",
      "Please make sure that the organism or namespace is correct\n",
      "\n",
      "No results to show\n",
      "Please make sure that the organism or namespace is correct\n",
      "\n",
      "No results to show\n",
      "Please make sure that the organism or namespace is correct\n",
      "\n",
      "No results to show\n",
      "Please make sure that the organism or namespace is correct\n",
      "\n"
     ]
    }
   ],
   "source": [
    "# TEST: use this piece for code changes\n",
    "# TEST: tissue <- factor('breast_mammary_tissue')\n",
    "# TEST: all_logFC <- lapply(X=levels(tissue), FUN=fit_tissue, obj=obj)\n",
    "# \n",
    "#  Production run - uncomment below\n",
    "#tissue <- factor('breast_mammary_tissue')\n",
    "all_logFC <- lapply(X=levels(pData(obj)$SMTSD), FUN=fit_tissue, obj=obj)"
   ]
  },
  {
   "cell_type": "markdown",
   "metadata": {},
   "source": [
    "### Appendix - Metadata\n",
    "\n",
    "For replicability and reproducibility purposes, we also print the following metadata:"
   ]
  },
  {
   "cell_type": "markdown",
   "metadata": {},
   "source": [
    "### Appendix - 1. Checksums with the sha256 algorithm\n",
    "1. Checksums of **'artefacts'**, files generated during the analysis and stored in the folder directory **`data`**\n",
    "2. List of environment metadata, dependencies, versions of libraries using `utils::sessionInfo()` and [`devtools::session_info()`](https://devtools.r-lib.org/reference/session_info.html)"
   ]
  },
  {
   "cell_type": "code",
   "execution_count": null,
   "metadata": {},
   "outputs": [],
   "source": [
    "figure_id   = \"differentialGeneExpression\"\n",
    "\n",
    "message(\"Generating sha256 checksums of the artefacts in the `..data/` directory .. \")\n",
    "system(paste0(\"cd ../data && find . -type f -exec sha256sum {} \\\\;  >  ../metadata/\", figure_id, \"_sha256sums.txt\"), intern = TRUE)\n",
    "message(\"Done!\\n\")\n",
    "\n",
    "data.table::fread(paste0(\"../metadata/\", figure_id, \"_sha256sums.txt\"), header = FALSE, col.names = c(\"sha256sum\", \"file\"))"
   ]
  },
  {
   "cell_type": "markdown",
   "metadata": {},
   "source": [
    "### Appendix - 2. Library Session Information"
   ]
  },
  {
   "cell_type": "code",
   "execution_count": null,
   "metadata": {},
   "outputs": [],
   "source": [
    "dev_session_info   <- devtools::session_info()\n",
    "utils_session_info <- utils::sessionInfo()\n",
    "\n",
    "message(\"Saving `devtools::session_info()` objects in ../metadata/devtools_session_info.rds  ..\")\n",
    "saveRDS(dev_session_info, file = paste0(\"../metadata/\", figure_id, \"_devtools_session_info.rds\"))\n",
    "message(\"Done!\\n\")\n",
    "\n",
    "message(\"Saving `utils::sessionInfo()` objects in ../metadata/utils_session_info.rds  ..\")\n",
    "saveRDS(utils_session_info, file = paste0(\"../metadata/\", figure_id ,\"_utils_info.rds\"))\n",
    "message(\"Done!\\n\")\n",
    "\n",
    "dev_session_info$platform\n",
    "dev_session_info$packages[dev_session_info$packages$attached==TRUE, ]"
   ]
  },
  {
   "cell_type": "code",
   "execution_count": null,
   "metadata": {},
   "outputs": [],
   "source": []
  }
 ],
 "metadata": {
  "jupytext": {
   "cell_metadata_filter": "-all",
   "main_language": "R",
   "notebook_metadata_filter": "-all"
  },
  "kernelspec": {
   "display_name": "R",
   "language": "R",
   "name": "ir"
  },
  "language_info": {
   "codemirror_mode": "r",
   "file_extension": ".r",
   "mimetype": "text/x-r-source",
   "name": "R",
   "pygments_lexer": "r",
   "version": "3.6.2"
  }
 },
 "nbformat": 4,
 "nbformat_minor": 4
}
