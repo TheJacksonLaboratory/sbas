{
 "cells": [
  {
   "cell_type": "markdown",
   "metadata": {},
   "source": [
    "## Analysis Notebook - differential Gene Expression Analysis\n",
    "\n",
    "This notebook generates the sex-biased differential gene expression analysis.   Differential Analysis (DE) was performed using voom (Law et.al., 2014) with gene expression counts with associated precision weights, followed by linear modeling and empirical Bayes procedure using limma. \n",
    "\n",
    "Within each tissue, the following linear regression model was used to detec secually dimorphic alternative splicing event expression:\n",
    "\n",
    "\n",
    "           y = B0 + B1 sex + epsilon (error)\n",
    "           \n",
    "where y is the gene expression to be modeled sex denotes the reported sex of the subject.   The function named `fit_tissue()` performs this analysis and accepts two arguments, the `tissue` and an `object` and create the **model matrix** based  that tissue's sex. We will perform a linear fit after calculating normal factors (based on the library size) and calculate the dispersion using `voom` (mean variance model of dispersion). We are saving the resulting matrixes as files."
   ]
  },
  {
   "cell_type": "markdown",
   "metadata": {},
   "source": [
    "### 1. Data files created by this notebook\n",
    "\n",
    "Output text files are written to the ``../data/`` directory (at the same level as the ``jupyter`` directory). \n",
    "\n",
    "For each of the 39 tissues, this notebook produces the following results:\n",
    "\n",
    "1. **{tissue}_DGE.csv**: topTable results for the edgeR/Limma differential analysis\n",
    "2. **{tissue}_DGE_ensg_map.csv**: a convenience mapping of the ENSG to the geneSymbol\n",
    "3. **{tissue}_DGE_refined.csv**: a convenience mapping of the topTable results satisfying the 1.5 fold change and adjusted P-Value < 0.05.\n",
    "\n",
    "Additionally, diagnostic plots are produced:\n",
    "\n",
    "1. **{tissue}-gene-y-voom-MDSplot-100.pdf**: multi-dimensional scaling plot (MDSplot), `red` `m` for the male and `blue` `f` voom variance model.\n",
    "2. **{tissue}-gene-y-MDSplot-100.pdf**: MDSplot without voom."
   ]
  },
  {
   "cell_type": "markdown",
   "metadata": {},
   "source": [
    "### 1.1 load dependencies"
   ]
  },
  {
   "cell_type": "code",
   "execution_count": null,
   "metadata": {},
   "outputs": [],
   "source": [
    "suppressWarnings({\n",
    "    options(warn = -1) \n",
    "    library(gprofiler2)\n",
    "    library(downloader)\n",
    "    library(readr)\n",
    "    library(edgeR)\n",
    "    library(limma)\n",
    "    library(statmod)\n",
    "    library(snakecase)\n",
    "    library(multtest)\n",
    "    library(stringi)\n",
    "    library(dplyr)\n",
    "    Sys.setenv(TAR = \"/bin/tar\") # for gzfile\n",
    "})"
   ]
  },
  {
   "cell_type": "markdown",
   "metadata": {},
   "source": [
    "### 1.2 load corrected GTEx expressionSet object"
   ]
  },
  {
   "cell_type": "code",
   "execution_count": null,
   "metadata": {},
   "outputs": [],
   "source": [
    "message(\"\\nReading GTEx expressionSet obj from ../data/gtex.corrected.rds\\n\")\n",
    "obj <- readRDS(file = \"../data/gtex.corrected.rds\")\n",
    "pData(obj)$SAMPID <- gsub('-','\\\\.',pData(obj)$SAMPID)\n",
    "message(\"\\ndone reading GTEx corrected expressionSet Object\\n\")\n",
    "dim(obj)"
   ]
  },
  {
   "cell_type": "markdown",
   "metadata": {},
   "source": [
    "### 2. Preparation for Differential Expression Analysis\n",
    "### 2.1 Keep only the reduced tissues"
   ]
  },
  {
   "cell_type": "code",
   "execution_count": null,
   "metadata": {},
   "outputs": [],
   "source": [
    "tissue_reduction <- read.table(\"../assets/tissues.tsv\", header=TRUE, sep=\"\\t\",\n",
    "                               skipNul=FALSE, stringsAsFactors = FALSE)\n",
    "colnames(tissue_reduction)  <- c(\"SMTSD\",\"female\",\"male\",\"include\",\"display_name\")\n",
    "\n",
    "## only keep those we wish to include\n",
    "tissue_reduction <- tissue_reduction[tissue_reduction$include==1,]\n",
    "glimpse(tissue_reduction)"
   ]
  },
  {
   "cell_type": "code",
   "execution_count": null,
   "metadata": {},
   "outputs": [],
   "source": [
    "# convert the GTEx object via snakecase the name of the tissue to match\n",
    "levels(pData(obj)$SMTSD)"
   ]
  },
  {
   "cell_type": "code",
   "execution_count": null,
   "metadata": {},
   "outputs": [],
   "source": [
    "pData(obj)$SMTSD <- snakecase::to_snake_case(as.character(pData(obj)$SMTSD))\n",
    "head(pData(obj)$SMTSD)"
   ]
  },
  {
   "cell_type": "code",
   "execution_count": null,
   "metadata": {},
   "outputs": [],
   "source": [
    "keep <- pData(obj)$SMTSD %in% tissue_reduction$SMTSD\n",
    "table(keep)"
   ]
  },
  {
   "cell_type": "code",
   "execution_count": null,
   "metadata": {},
   "outputs": [],
   "source": [
    "obj   <-  obj[,keep == TRUE]\n",
    "message(\"\\nthe expressionSet object\\n\")\n",
    "dim(obj)"
   ]
  },
  {
   "cell_type": "markdown",
   "metadata": {},
   "source": [
    "### 3. Differential analysis with edgeR and Limma\n",
    "\n",
    "Using edgeR expressionSet object for the GTEx data set, perform a linear fit after calculating normal factors (based on the library size) and calculate the dispersion using `voom` (mean variance model of dispersion). We are saving the resulting matrixes as files."
   ]
  },
  {
   "cell_type": "markdown",
   "metadata": {},
   "source": [
    "### 3.1 Function fit_tissue\n",
    "\n",
    "Function named `fit_tissue()`that accepts two arguments, the `tissue` and an `object` and create the **model matrix** based  that tissue's sex."
   ]
  },
  {
   "cell_type": "code",
   "execution_count": null,
   "metadata": {},
   "outputs": [],
   "source": [
    "fit_tissue <- function (tissue, obj) {\n",
    "    tissue_true             <- pData(obj)$SMTSD == tissue\n",
    "    tissue_obj              <- obj[,tissue_true ==TRUE]\n",
    "    tissue_sex              <- factor(pData(tissue_obj)$SEX)\n",
    "    tissue_design           <- model.matrix(~tissue_sex)\n",
    "    colnames(tissue_design) <- c(\"intercept\",\"sex\")\n",
    "\n",
    "    \n",
    "    # female\n",
    "    female_obj           <- tissue_obj[,pData(tissue_obj)$SEX == 2]\n",
    "    female_exprs_rowSums <- rowSums(cpm(exprs(female_obj))>=1)\n",
    "    count_threshold      <- 0.25 * dim(female_obj)[2]\n",
    "   \n",
    "    # male\n",
    "    male_obj           <- tissue_obj[,pData(tissue_obj)$SEX == 1]\n",
    "    male_exprs_rowSums <- rowSums(cpm(exprs(male_obj))>=1)\n",
    "    \n",
    "\n",
    "    keep_male          <- male_exprs_rowSums >= count_threshold\n",
    "    keep_female        <- female_exprs_rowSums >= count_threshold\n",
    "    \n",
    "    # now keep only those events that are meet either the male or the female criteria\n",
    "    keep <- keep_male  & keep_female\n",
    "    \n",
    "    tissue_obj <- tissue_obj[keep==TRUE,]\n",
    "    rm(male_obj)\n",
    "    rm(female_obj)\n",
    "    \n",
    "    \n",
    "    y_tissue       <- DGEList(counts=exprs(tissue_obj), group=tissue_sex)\n",
    "    y_tissue       <- calcNormFactors(y_tissue)\n",
    "    y_tissue_voom  <- voom(y_tissue, tissue_design)\n",
    "    \n",
    "    sex            <- ifelse(pData(tissue_obj)$SEX==1,'male','female')\n",
    "    Gender         <- substring(sex,1,1)\n",
    "    filename       <- paste0(paste0(\"../pdf/\", snakecase::to_snake_case(tissue)),\"-gene-y-MDSplot-100.pdf\")\n",
    "    pdf (filename)\n",
    "        plotMDS(y_tissue, labels=Gender, top=100, col=ifelse(Gender==\"m\",\"blue\",\"red\"), \n",
    "                gene.selection=\"common\")\n",
    "    dev.off()\n",
    "    filename       <- paste0(paste0(\"../pdf/\", snakecase::to_snake_case(tissue)),\"-gene-y-voom-MDSplot-100.pdf\")\n",
    "    pdf (filename)    \n",
    "        plotMDS(y_tissue_voom, labels=Gender, top=100, col=ifelse(Gender==\"m\",\"blue\",\"red\"), \n",
    "                gene.selection=\"common\")\n",
    "    dev.off()\n",
    "\n",
    "    fit_tissue      <- lmFit(y_tissue_voom, tissue_design)\n",
    "    fit_tissue      <- eBayes(fit_tissue, robust=TRUE)\n",
    "    results_tissue  <- topTable (fit_tissue, coef='sex', number=nrow(y_tissue))\n",
    "    results_refined <- results_tissue$adj.P.Val <= 0.05 & abs(results_tissue$logFC) >= abs(log2(1.5))\n",
    "    ensgfile  = paste(paste(\"../data\",gsub(\" \",\"\",tissue), sep=\"/\"),\"DGE_ensg_map.csv\", sep=\"_\")\n",
    "    \n",
    "    \n",
    "    filename  = paste(paste(\"../data\",gsub(\" \",\"\",tissue), sep=\"/\"),\"DGE.csv\", sep=\"_\")\n",
    "    rfilename = paste(paste(\"../data\",gsub(\" \",\"\",tissue), sep=\"/\"),\"DGE_refined.csv\", sep=\"_\")\n",
    "   \n",
    "    ensg_names <- as.character(rownames(results_tissue[results_refined,]))\n",
    "    ensg_genes <- ensg_names\n",
    "\n",
    "    for (i in (1:length(ensg_names))) {\n",
    "        dont_convert = 0\n",
    "        ensg <- as.character(strsplit(ensg_names[i],'\\\\.\\\\w+$'))\n",
    "        ensg_names[i] = ensg[1]\n",
    "        if (ensg_names[i] == \"ENSG00000233864\") {\n",
    "            ensg_genes[i] = as.character(\"TTTY15\")\n",
    "            dont_convert = 1\n",
    "        } \n",
    "        if (ensg_names[i] == \"ENSG00000240800\") {\n",
    "            ensg_genes[i] = as.character(\"ATP8A2P1\")\n",
    "            dong_convert = 1\n",
    "        } \n",
    "        if (!dont_convert) {\n",
    "            \n",
    "            res <- gconvert(c(as.character(ensg_names[i])),\n",
    "                                      organism = \"hsapiens\",\n",
    "                                      target = \"ENSG\",\n",
    "                                      numeric_ns = \"\", \n",
    "                                      mthreshold = Inf,\n",
    "                                      filter_na = TRUE)\n",
    "            if (!is.null(res)) {\n",
    "                ensg_genes[i] <- res$name\n",
    "            }\n",
    "        }\n",
    "    }\n",
    "    \n",
    "    ensg_maps <- cbind(ensg_names, ensg_genes)\n",
    "\n",
    "    write.table(results_tissue, filename, sep=',', quote=FALSE)\n",
    "    write.table(results_tissue[results_refined,], rfilename, sep=',', quote=FALSE)\n",
    "    write.table(ensg_maps, ensgfile, sep=',', quote=FALSE, row.names=FALSE)\n",
    "    return (results_tissue)\n",
    "}"
   ]
  },
  {
   "cell_type": "code",
   "execution_count": null,
   "metadata": {},
   "outputs": [],
   "source": [
    "pData(obj)$SMTSD <- factor(pData(obj)$SMTSD)\n",
    "levels(pData(obj)$SMTSD)\n",
    "length(levels(pData(obj)$SMTSD))"
   ]
  },
  {
   "cell_type": "markdown",
   "metadata": {},
   "source": [
    "### 3.2 Looping through reduced Tissue set\n",
    "\n",
    "Loop through all the tissues and do the differentialGeneExpression analysis per tissue."
   ]
  },
  {
   "cell_type": "code",
   "execution_count": null,
   "metadata": {},
   "outputs": [],
   "source": [
    "for (tissue in levels(pData(obj)$SMTSD)) { \n",
    "    fit_tissue(tissue = tissue,obj = obj)\n",
    "}"
   ]
  },
  {
   "cell_type": "markdown",
   "metadata": {},
   "source": [
    "### Appendix - Metadata\n",
    "\n",
    "For replicability and reproducibility purposes, we also print the following metadata:"
   ]
  },
  {
   "cell_type": "markdown",
   "metadata": {},
   "source": [
    "### Appendix - 1. Checksums with the sha256 algorithm\n",
    "1. Checksums of **'artefacts'**, files generated during the analysis and stored in the folder directory **`data`**\n",
    "2. List of environment metadata, dependencies, versions of libraries using `utils::sessionInfo()` and [`devtools::session_info()`](https://devtools.r-lib.org/reference/session_info.html)"
   ]
  },
  {
   "cell_type": "code",
   "execution_count": null,
   "metadata": {},
   "outputs": [],
   "source": [
    "figure_id   = \"differentialGeneExpression\"\n",
    "\n",
    "message(\"Generating sha256 checksums of the artefacts in the `..data/` directory .. \")\n",
    "system(paste0(\"cd ../data && find . -type f -exec sha256sum {} \\\\;  >  ../metadata/\", figure_id, \"_sha256sums.txt\"), intern = TRUE)\n",
    "message(\"Done!\\n\")\n",
    "\n",
    "data.table::fread(paste0(\"../metadata/\", figure_id, \"_sha256sums.txt\"), header = FALSE, col.names = c(\"sha256sum\", \"file\"))"
   ]
  },
  {
   "cell_type": "markdown",
   "metadata": {},
   "source": [
    "### Appendix - 2. Library Session Information"
   ]
  },
  {
   "cell_type": "code",
   "execution_count": null,
   "metadata": {
    "lines_to_next_cell": 0
   },
   "outputs": [],
   "source": [
    "dev_session_info   <- devtools::session_info()\n",
    "utils_session_info <- utils::sessionInfo()\n",
    "\n",
    "message(\"Saving `devtools::session_info()` objects in ../metadata/devtools_session_info.rds  ..\")\n",
    "saveRDS(dev_session_info, file = paste0(\"../metadata/\", figure_id, \"_devtools_session_info.rds\"))\n",
    "message(\"Done!\\n\")\n",
    "\n",
    "message(\"Saving `utils::sessionInfo()` objects in ../metadata/utils_session_info.rds  ..\")\n",
    "saveRDS(utils_session_info, file = paste0(\"../metadata/\", figure_id ,\"_utils_info.rds\"))\n",
    "message(\"Done!\\n\")\n",
    "\n",
    "dev_session_info$platform\n",
    "dev_session_info$packages[dev_session_info$packages$attached==TRUE, ]"
   ]
  },
  {
   "cell_type": "code",
   "execution_count": null,
   "metadata": {
    "lines_to_next_cell": 2
   },
   "outputs": [],
   "source": []
  }
 ],
 "metadata": {
  "jupytext": {
   "cell_metadata_filter": "-all",
   "main_language": "R",
   "notebook_metadata_filter": "-all"
  }
 },
 "nbformat": 4,
 "nbformat_minor": 4
}
