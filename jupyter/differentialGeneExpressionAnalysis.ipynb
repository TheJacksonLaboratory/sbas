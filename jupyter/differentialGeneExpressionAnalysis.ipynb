{
 "cells": [
  {
   "cell_type": "markdown",
   "id": "808554ee",
   "metadata": {
    "papermill": {
     "duration": 0.008365,
     "end_time": "2021-09-23T14:34:28.219660",
     "exception": false,
     "start_time": "2021-09-23T14:34:28.211295",
     "status": "completed"
    },
    "tags": []
   },
   "source": [
    "## Analysis Notebook - differential Gene Expression Analysis\n",
    "\n",
    "This notebook generates the sex-biased differential gene expression analysis.   Differential Analysis (DE) was performed using voom (Law et.al., 2014) with gene expression counts with associated precision weights, followed by linear modeling and empirical Bayes procedure using limma. \n",
    "\n",
    "Within each tissue, the following linear regression model was used to detec secually dimorphic alternative splicing event expression:\n",
    "\n",
    "\n",
    "           y = B0 + B1 sex + B2 age + B3 RIN + B4 Ischemia + epsilon (error)\n",
    "           \n",
    "where y is the gene expression to be modeled sex denotes the reported sex of the subject.   The function named `fit_tissue()` performs this analysis and accepts two arguments, the `tissue` and an `object` and create the **model matrix** based  that tissue's sex. We will perform a linear fit after calculating normal factors (based on the library size) and calculate the dispersion using `voom` (mean variance model of dispersion). We are saving the resulting matrixes as files.\n",
    "\n",
    "### 0.  Data Needed by this notebook\n",
    "\n",
    "Input data files are:\n",
    "\n",
    "1. **[tissues.tsv](https://github.com/TheJacksonLaboratory/sbas/blob/master/assets/tissues.tsv)**: a curated list of tissues, alternative display names & **0** or **1** indicate skipping or including respectively.\n",
    "2. **[gtex.corrected.rds](https://zenodo.org/record/4179559/files/gtex.tar.gz)**: The function to generate this from the GTEx dataset is in the `differentialSplicingJunctionAnalysis.ipynb`.  The function `renewGTExExpressionSet`, downloads GTEx v8 using the [yarn](https://bioconductor.org/packages/release/bioc/html/yarn.html) 'yarn::downloadGTExV8() and then the function `inspectAndCorrectExpressionSetObject` makes sure the expression object we are using with our Sra subset is correct.  This does not need to be redone unless our samples change and/or we upgrade our V8 versions.   A cautionary note, the latest version of GTEx is through AnViL -- see note regarding latest access ability to (GTEx data)[GTEx.md].  Obtained through Zenodo (gtex.tar.gz)\n",
    "3. **[SraRunTable.txt](https://zenodo.org/record/4179559/files/srr.tar.gz)** old way of obtaining GTEx accessions \n",
    "4. **[srr_pdata.csv](https://zenodo.org/record/4179559/files/srr.tar.gz)**\n"
   ]
  },
  {
   "cell_type": "markdown",
   "id": "0480b5ae",
   "metadata": {
    "papermill": {
     "duration": 0.007156,
     "end_time": "2021-09-23T14:34:28.234795",
     "exception": false,
     "start_time": "2021-09-23T14:34:28.227639",
     "status": "completed"
    },
    "tags": []
   },
   "source": [
    "### 1. Data files created by this notebook\n",
    "\n",
    "Output text files are written to the ``../data/`` directory (at the same level as the ``jupyter`` directory). \n",
    "\n",
    "For each of the 39 tissues, this notebook produces the following results:\n",
    "\n",
    "1. **{tissue}_DGE.csv**: topTable results for the edgeR/Limma differential analysis\n",
    "2. **{tissue}_DGE_ensg_map.csv**: a convenience mapping of the ENSG to the geneSymbol\n",
    "3. **{tissue}_DGE_refined.csv**: a convenience mapping of the topTable results satisfying the 1.5 fold change and adjusted P-Value < 0.05.\n",
    "\n",
    "Additionally, diagnostic plots are produced:\n",
    "\n",
    "1. **{tissue}-gene-y-voom-MDSplot-100.pdf**: multi-dimensional scaling plot (MDSplot), `red` `m` for the male and `blue` `f` voom variance model.\n",
    "2. **{tissue}-gene-y-MDSplot-100.pdf**: MDSplot without voom."
   ]
  },
  {
   "cell_type": "markdown",
   "id": "66be7428",
   "metadata": {
    "papermill": {
     "duration": 0.00703,
     "end_time": "2021-09-23T14:34:28.249175",
     "exception": false,
     "start_time": "2021-09-23T14:34:28.242145",
     "status": "completed"
    },
    "tags": []
   },
   "source": [
    "### 1.1 load dependencies"
   ]
  },
  {
   "cell_type": "code",
   "execution_count": 1,
   "id": "585fd2bc",
   "metadata": {
    "execution": {
     "iopub.execute_input": "2021-09-23T14:34:28.269375Z",
     "iopub.status.busy": "2021-09-23T14:34:28.266537Z",
     "iopub.status.idle": "2021-09-23T14:34:30.298080Z",
     "shell.execute_reply": "2021-09-23T14:34:30.297051Z"
    },
    "papermill": {
     "duration": 2.042007,
     "end_time": "2021-09-23T14:34:30.298227",
     "exception": false,
     "start_time": "2021-09-23T14:34:28.256220",
     "status": "completed"
    },
    "tags": []
   },
   "outputs": [],
   "source": [
    "suppressMessages({\n",
    "    options(warn = -1) \n",
    "    library(gprofiler2)\n",
    "    library(downloader)\n",
    "    library(readr)\n",
    "    library(edgeR)\n",
    "    library(limma)\n",
    "    library(statmod)\n",
    "    library(snakecase)\n",
    "    library(multtest)\n",
    "    library(stringi)\n",
    "    library(dplyr)\n",
    "    Sys.setenv(TAR = \"/bin/tar\") # for gzfile\n",
    "})"
   ]
  },
  {
   "cell_type": "markdown",
   "id": "987e28d7",
   "metadata": {
    "papermill": {
     "duration": 0.007066,
     "end_time": "2021-09-23T14:34:30.312871",
     "exception": false,
     "start_time": "2021-09-23T14:34:30.305805",
     "status": "completed"
    },
    "tags": []
   },
   "source": [
    "### 1.2 load corrected GTEx expressionSet object"
   ]
  },
  {
   "cell_type": "code",
   "execution_count": 2,
   "id": "349a8a69",
   "metadata": {
    "execution": {
     "iopub.execute_input": "2021-09-23T14:34:30.360223Z",
     "iopub.status.busy": "2021-09-23T14:34:30.330729Z",
     "iopub.status.idle": "2021-09-23T14:35:11.372120Z",
     "shell.execute_reply": "2021-09-23T14:35:11.371737Z"
    },
    "papermill": {
     "duration": 41.052232,
     "end_time": "2021-09-23T14:35:11.372228",
     "exception": false,
     "start_time": "2021-09-23T14:34:30.319996",
     "status": "completed"
    },
    "tags": []
   },
   "outputs": [
    {
     "name": "stderr",
     "output_type": "stream",
     "text": [
      "\n",
      "Reading GTEx expressionSet obj from ../data/gtex.corrected.rds\n",
      "\n",
      "\n"
     ]
    },
    {
     "name": "stderr",
     "output_type": "stream",
     "text": [
      "\n",
      "done reading GTEx corrected expressionSet Object\n",
      "\n",
      "\n"
     ]
    },
    {
     "data": {
      "text/html": [
       "<style>\n",
       ".dl-inline {width: auto; margin:0; padding: 0}\n",
       ".dl-inline>dt, .dl-inline>dd {float: none; width: auto; display: inline-block}\n",
       ".dl-inline>dt::after {content: \":\\0020\"; padding-right: .5ex}\n",
       ".dl-inline>dt:not(:first-of-type) {padding-left: .5ex}\n",
       "</style><dl class=dl-inline><dt>Features</dt><dd>55878</dd><dt>Samples</dt><dd>17382</dd></dl>\n"
      ],
      "text/latex": [
       "\\begin{description*}\n",
       "\\item[Features] 55878\n",
       "\\item[Samples] 17382\n",
       "\\end{description*}\n"
      ],
      "text/markdown": [
       "Features\n",
       ":   55878Samples\n",
       ":   17382\n",
       "\n"
      ],
      "text/plain": [
       "Features  Samples \n",
       "   55878    17382 "
      ]
     },
     "metadata": {},
     "output_type": "display_data"
    }
   ],
   "source": [
    "message(\"\\nReading GTEx expressionSet obj from ../data/gtex.corrected.rds\\n\")\n",
    "obj <- readRDS(file = \"../data/gtex.corrected.rds\")\n",
    "pData(obj)$SAMPID <- gsub('-','\\\\.',pData(obj)$SAMPID)\n",
    "message(\"\\ndone reading GTEx corrected expressionSet Object\\n\")\n",
    "dim(obj)"
   ]
  },
  {
   "cell_type": "markdown",
   "id": "9cc517fc",
   "metadata": {
    "papermill": {
     "duration": 0.007968,
     "end_time": "2021-09-23T14:35:11.388830",
     "exception": false,
     "start_time": "2021-09-23T14:35:11.380862",
     "status": "completed"
    },
    "tags": []
   },
   "source": [
    "### 2. Preparation for Differential Expression Analysis\n",
    "### 2.1 Keep only the reduced tissues"
   ]
  },
  {
   "cell_type": "code",
   "execution_count": 3,
   "id": "25b335a8",
   "metadata": {
    "execution": {
     "iopub.execute_input": "2021-09-23T14:35:11.409279Z",
     "iopub.status.busy": "2021-09-23T14:35:11.408066Z",
     "iopub.status.idle": "2021-09-23T14:35:11.424581Z",
     "shell.execute_reply": "2021-09-23T14:35:11.423719Z"
    },
    "papermill": {
     "duration": 0.027811,
     "end_time": "2021-09-23T14:35:11.424683",
     "exception": false,
     "start_time": "2021-09-23T14:35:11.396872",
     "status": "completed"
    },
    "tags": []
   },
   "outputs": [],
   "source": [
    "tissue_reduction <- read.table(\"../assets/tissues.tsv\", header=TRUE, sep=\"\\t\",\n",
    "                               skipNul=FALSE, stringsAsFactors = FALSE)\n",
    "colnames(tissue_reduction)  <- c(\"SMTSD\",\"female\",\"male\",\"include\",\"display_name\")\n",
    "\n",
    "## only keep those we wish to include\n",
    "tissue_reduction <- tissue_reduction[tissue_reduction$include==1,]\n",
    "#glimpse(tissue_reduction)"
   ]
  },
  {
   "cell_type": "code",
   "execution_count": 4,
   "id": "b9bcc7d9",
   "metadata": {
    "execution": {
     "iopub.execute_input": "2021-09-23T14:35:11.444886Z",
     "iopub.status.busy": "2021-09-23T14:35:11.443820Z",
     "iopub.status.idle": "2021-09-23T14:35:11.842774Z",
     "shell.execute_reply": "2021-09-23T14:35:11.841734Z"
    },
    "papermill": {
     "duration": 0.41024,
     "end_time": "2021-09-23T14:35:11.842893",
     "exception": false,
     "start_time": "2021-09-23T14:35:11.432653",
     "status": "completed"
    },
    "tags": []
   },
   "outputs": [
    {
     "data": {
      "text/html": [
       "<style>\n",
       ".list-inline {list-style: none; margin:0; padding: 0}\n",
       ".list-inline>li {display: inline-block}\n",
       ".list-inline>li:not(:last-child)::after {content: \"\\00b7\"; padding: 0 .5ex}\n",
       "</style>\n",
       "<ol class=list-inline><li>'adipose_subcutaneous'</li><li>'muscle_skeletal'</li><li>'artery_tibial'</li><li>'artery_coronary'</li><li>'heart_atrial_appendage'</li><li>'adipose_visceral_omentum'</li></ol>\n"
      ],
      "text/latex": [
       "\\begin{enumerate*}\n",
       "\\item 'adipose\\_subcutaneous'\n",
       "\\item 'muscle\\_skeletal'\n",
       "\\item 'artery\\_tibial'\n",
       "\\item 'artery\\_coronary'\n",
       "\\item 'heart\\_atrial\\_appendage'\n",
       "\\item 'adipose\\_visceral\\_omentum'\n",
       "\\end{enumerate*}\n"
      ],
      "text/markdown": [
       "1. 'adipose_subcutaneous'\n",
       "2. 'muscle_skeletal'\n",
       "3. 'artery_tibial'\n",
       "4. 'artery_coronary'\n",
       "5. 'heart_atrial_appendage'\n",
       "6. 'adipose_visceral_omentum'\n",
       "\n",
       "\n"
      ],
      "text/plain": [
       "[1] \"adipose_subcutaneous\"     \"muscle_skeletal\"         \n",
       "[3] \"artery_tibial\"            \"artery_coronary\"         \n",
       "[5] \"heart_atrial_appendage\"   \"adipose_visceral_omentum\""
      ]
     },
     "metadata": {},
     "output_type": "display_data"
    }
   ],
   "source": [
    "# convert the GTEx object via snakecase the name of the tissue to match\n",
    "#levels(pData(obj)$SMTSD)\n",
    "pData(obj)$SMTSD <- snakecase::to_snake_case(as.character(pData(obj)$SMTSD))\n",
    "head(pData(obj)$SMTSD)"
   ]
  },
  {
   "cell_type": "code",
   "execution_count": 5,
   "id": "406c1822",
   "metadata": {
    "execution": {
     "iopub.execute_input": "2021-09-23T14:35:11.864220Z",
     "iopub.status.busy": "2021-09-23T14:35:11.863200Z",
     "iopub.status.idle": "2021-09-23T14:35:11.874587Z",
     "shell.execute_reply": "2021-09-23T14:35:11.873683Z"
    },
    "papermill": {
     "duration": 0.023064,
     "end_time": "2021-09-23T14:35:11.874699",
     "exception": false,
     "start_time": "2021-09-23T14:35:11.851635",
     "status": "completed"
    },
    "tags": []
   },
   "outputs": [],
   "source": [
    "keep <- pData(obj)$SMTSD %in% tissue_reduction$SMTSD\n",
    "#table(keep)"
   ]
  },
  {
   "cell_type": "code",
   "execution_count": 6,
   "id": "49403d30",
   "metadata": {
    "execution": {
     "iopub.execute_input": "2021-09-23T14:35:11.895648Z",
     "iopub.status.busy": "2021-09-23T14:35:11.894538Z",
     "iopub.status.idle": "2021-09-23T14:35:19.362981Z",
     "shell.execute_reply": "2021-09-23T14:35:19.362079Z"
    },
    "papermill": {
     "duration": 7.479969,
     "end_time": "2021-09-23T14:35:19.363093",
     "exception": false,
     "start_time": "2021-09-23T14:35:11.883124",
     "status": "completed"
    },
    "tags": []
   },
   "outputs": [
    {
     "name": "stderr",
     "output_type": "stream",
     "text": [
      "\n",
      "ExpressionSet object extracted with dimensions: 55878x115531\n",
      "\n"
     ]
    }
   ],
   "source": [
    "obj   <-  obj[,keep == TRUE]\n",
    "message(\"\\nExpressionSet object extracted with dimensions: \", dim(obj)[1], \"x\", dim(obj[2]))"
   ]
  },
  {
   "cell_type": "markdown",
   "id": "13a9059d",
   "metadata": {
    "papermill": {
     "duration": 0.009258,
     "end_time": "2021-09-23T14:35:19.381428",
     "exception": false,
     "start_time": "2021-09-23T14:35:19.372170",
     "status": "completed"
    },
    "tags": []
   },
   "source": [
    "### 3. Differential analysis with edgeR and Limma\n",
    "\n",
    "Using edgeR expressionSet object for the GTEx data set, perform a linear fit after calculating normal factors (based on the library size) and calculate the dispersion using `voom` (mean variance model of dispersion). We are saving the resulting matrixes as files."
   ]
  },
  {
   "cell_type": "markdown",
   "id": "d6bf852f",
   "metadata": {
    "papermill": {
     "duration": 0.008572,
     "end_time": "2021-09-23T14:35:19.398721",
     "exception": false,
     "start_time": "2021-09-23T14:35:19.390149",
     "status": "completed"
    },
    "tags": []
   },
   "source": [
    "### 3.1 Function fit_tissue\n",
    "\n",
    "Function named `fit_tissue()`that accepts two arguments, the `tissue` and an `object` and create the **model matrix** based  that tissue's sex."
   ]
  },
  {
   "cell_type": "code",
   "execution_count": 7,
   "id": "5f087f8c",
   "metadata": {
    "execution": {
     "iopub.execute_input": "2021-09-23T14:35:19.420855Z",
     "iopub.status.busy": "2021-09-23T14:35:19.419332Z",
     "iopub.status.idle": "2021-09-23T14:35:19.430869Z",
     "shell.execute_reply": "2021-09-23T14:35:19.430020Z"
    },
    "papermill": {
     "duration": 0.023714,
     "end_time": "2021-09-23T14:35:19.430984",
     "exception": false,
     "start_time": "2021-09-23T14:35:19.407270",
     "status": "completed"
    },
    "tags": []
   },
   "outputs": [],
   "source": [
    "fit_tissue <- function (tissue, obj) {\n",
    "    tissue_true             <- pData(obj)$SMTSD == tissue\n",
    "    tissue_obj              <- obj[,tissue_true ==TRUE]\n",
    "    tissue_sex              <- factor(pData(tissue_obj)$SEX)\n",
    "    tissue_age              <- as.numeric(factor(as.character(pData(tissue_obj)$AGE)))\n",
    "    tissue_rin              <- as.numeric(pData(tissue_obj)$SMRIN)\n",
    "    tissue_ischemia         <- as.numeric(pData(tissue_obj)$SMTSISCH)\n",
    "\n",
    "    # if not defined - set it to median\n",
    "    tissue_ischemia[is.na(tissue_ischemia)] <- median(tissue_ischemia, na.rm=T)\n",
    "\n",
    "    # if not defined - set it to median\n",
    "    tissue_rin[is.na(tissue_rin)] <- median(tissue_rin, na.rm=T)\n",
    "    \n",
    "    # if not defined - set it to median\n",
    "    tissue_age[is.na(tissue_age)] <- median(tissue_age, na.rm=T)\n",
    "\n",
    "    # model matrix -- with added factors sex, age, RIN and Ischemia time\n",
    "    tissue_design           <- model.matrix(~tissue_sex+tissue_age+tissue_rin+tissue_ischemia)\n",
    "    colnames(tissue_design) <- c(\"intercept\",\"sex\",\"age\",\"rin\",\"ischemia\")\n",
    "\n",
    "    message (\"tissue design done\")\n",
    "    # female\n",
    "    female_obj           <- tissue_obj[,pData(tissue_obj)$SEX == 2]\n",
    "    female_exprs_rowSums <- rowSums(cpm(exprs(female_obj))>=1)\n",
    "    count_threshold      <- 0.25 * dim(female_obj)[2]\n",
    "   \n",
    "    # male\n",
    "    male_obj           <- tissue_obj[,pData(tissue_obj)$SEX == 1]\n",
    "    male_exprs_rowSums <- rowSums(cpm(exprs(male_obj))>=1)\n",
    "    \n",
    "\n",
    "    keep_male          <- male_exprs_rowSums >= count_threshold\n",
    "    keep_female        <- female_exprs_rowSums >= count_threshold\n",
    "    \n",
    "    # now keep only those events that are meet either the male or the female criteria\n",
    "    keep <- keep_male  & keep_female\n",
    "    \n",
    "    tissue_obj <- tissue_obj[keep==TRUE,]\n",
    "    rm(male_obj)\n",
    "    rm(female_obj)\n",
    "    \n",
    "    \n",
    "    y_tissue       <- DGEList(counts=exprs(tissue_obj), group=tissue_sex)\n",
    "    y_tissue       <- calcNormFactors(y_tissue)\n",
    "    y_tissue_voom  <- voom(y_tissue, tissue_design)\n",
    "    \n",
    "    sex            <- ifelse(pData(tissue_obj)$SEX==1,'male','female')\n",
    "    Gender         <- substring(sex,1,1)\n",
    "    filename       <- paste0(paste0(\"../pdf/\", snakecase::to_snake_case(tissue)),\"-gene-y-MDSplot-100.pdf\")\n",
    "    pdf (filename)\n",
    "        plotMDS(y_tissue, labels=Gender, top=100, col=ifelse(Gender==\"m\",\"blue\",\"red\"), \n",
    "                gene.selection=\"common\")\n",
    "    dev.off()\n",
    "    filename       <- paste0(paste0(\"../pdf/\", snakecase::to_snake_case(tissue)),\"-gene-y-voom-MDSplot-100.pdf\")\n",
    "    pdf (filename)    \n",
    "        plotMDS(y_tissue_voom, labels=Gender, top=100, col=ifelse(Gender==\"m\",\"blue\",\"red\"), \n",
    "                gene.selection=\"common\")\n",
    "    dev.off()\n",
    "\n",
    "    fit_tissue_res  <- lmFit(y_tissue_voom, tissue_design)\n",
    "    fit_tissue_res  <- eBayes(fit_tissue_res, robust=TRUE)\n",
    "    results_tissue  <- topTable (fit_tissue_res, coef='sex', number=nrow(y_tissue))\n",
    "    results_refined <- results_tissue$adj.P.Val <= 0.05 & abs(results_tissue$logFC) >= abs(log2(1.5))\n",
    "    ensgfile  = paste(paste(\"../data\",gsub(\" \",\"\",tissue), sep=\"/\"),\"DGE_ensg_map.csv\", sep=\"_\")\n",
    "    \n",
    "    \n",
    "    filename  = paste(paste(\"../data\",gsub(\" \",\"\",tissue), sep=\"/\"),\"DGE.csv\", sep=\"_\")\n",
    "    rfilename = paste(paste(\"../data\",gsub(\" \",\"\",tissue), sep=\"/\"),\"DGE_refined.csv\", sep=\"_\")\n",
    "   \n",
    "    ensg_names <- as.character(rownames(results_tissue[results_refined,]))\n",
    "    ensg_genes <- ensg_names\n",
    "\n",
    "    for (i in (1:length(ensg_names))) {\n",
    "        dont_convert = 0\n",
    "        ensg <- as.character(strsplit(ensg_names[i],'\\\\.\\\\w+$'))\n",
    "        ensg_names[i] = ensg[1]\n",
    "        if (ensg_names[i] == \"ENSG00000233864\") {\n",
    "            ensg_genes[i] = as.character(\"TTTY15\")\n",
    "            dont_convert = 1\n",
    "        } \n",
    "        if (ensg_names[i] == \"ENSG00000240800\") {\n",
    "            ensg_genes[i] = as.character(\"ATP8A2P1\")\n",
    "            dong_convert = 1\n",
    "        } \n",
    "        if (!dont_convert) {\n",
    "            \n",
    "            res <- gconvert(c(as.character(ensg_names[i])),\n",
    "                                      organism = \"hsapiens\",\n",
    "                                      target = \"ENSG\",\n",
    "                                      numeric_ns = \"\", \n",
    "                                      mthreshold = Inf,\n",
    "                                      filter_na = TRUE)\n",
    "            if (!is.null(res)) {\n",
    "                ensg_genes[i] <- res$name\n",
    "            }\n",
    "        }\n",
    "    }\n",
    "    \n",
    "    ensg_maps <- cbind(ensg_names, ensg_genes)\n",
    "\n",
    "    write.table(results_tissue, filename, sep=',', quote=FALSE)\n",
    "    write.table(results_tissue[results_refined,], rfilename, sep=',', quote=FALSE)\n",
    "    write.table(ensg_maps, ensgfile, sep=',', quote=FALSE, row.names=FALSE)\n",
    "    return (results_tissue)\n",
    "}"
   ]
  },
  {
   "cell_type": "code",
   "execution_count": 8,
   "id": "bc3e75b9",
   "metadata": {
    "execution": {
     "iopub.execute_input": "2021-09-23T14:35:19.452674Z",
     "iopub.status.busy": "2021-09-23T14:35:19.451604Z",
     "iopub.status.idle": "2021-09-23T14:35:19.468815Z",
     "shell.execute_reply": "2021-09-23T14:35:19.467840Z"
    },
    "papermill": {
     "duration": 0.029199,
     "end_time": "2021-09-23T14:35:19.468932",
     "exception": false,
     "start_time": "2021-09-23T14:35:19.439733",
     "status": "completed"
    },
    "tags": []
   },
   "outputs": [
    {
     "name": "stderr",
     "output_type": "stream",
     "text": [
      "Length of factors (SMTSD): 39\n",
      "\n"
     ]
    }
   ],
   "source": [
    "pData(obj)$SMTSD <- factor(pData(obj)$SMTSD)\n",
    "# levels(pData(obj)$SMTSD)\n",
    "smtsd_len <- length(levels(pData(obj)$SMTSD))\n",
    "message(\"Length of factors (SMTSD): \", smtsd_len)"
   ]
  },
  {
   "cell_type": "markdown",
   "id": "96ee0cbf",
   "metadata": {
    "papermill": {
     "duration": 0.009089,
     "end_time": "2021-09-23T14:35:19.487293",
     "exception": false,
     "start_time": "2021-09-23T14:35:19.478204",
     "status": "completed"
    },
    "tags": []
   },
   "source": [
    "### 3.2 Looping through reduced Tissue set\n",
    "\n",
    "Loop through all the tissues and do the differentialGeneExpression analysis per tissue."
   ]
  },
  {
   "cell_type": "code",
   "execution_count": 9,
   "id": "9829e021",
   "metadata": {
    "execution": {
     "iopub.execute_input": "2021-09-23T14:35:19.509469Z",
     "iopub.status.busy": "2021-09-23T14:35:19.508354Z",
     "iopub.status.idle": "2021-09-23T15:06:36.892254Z",
     "shell.execute_reply": "2021-09-23T15:06:36.891325Z"
    },
    "papermill": {
     "duration": 1877.396055,
     "end_time": "2021-09-23T15:06:36.892372",
     "exception": false,
     "start_time": "2021-09-23T14:35:19.496317",
     "status": "completed"
    },
    "tags": []
   },
   "outputs": [
    {
     "name": "stderr",
     "output_type": "stream",
     "text": [
      "tissue design done\n",
      "\n"
     ]
    },
    {
     "name": "stderr",
     "output_type": "stream",
     "text": [
      "Done fit tissue, adipose_subcutaneous\n",
      "\n"
     ]
    },
    {
     "name": "stderr",
     "output_type": "stream",
     "text": [
      "tissue design done\n",
      "\n"
     ]
    },
    {
     "name": "stderr",
     "output_type": "stream",
     "text": [
      "Done fit tissue, adipose_visceral_omentum\n",
      "\n"
     ]
    },
    {
     "name": "stderr",
     "output_type": "stream",
     "text": [
      "tissue design done\n",
      "\n"
     ]
    },
    {
     "name": "stderr",
     "output_type": "stream",
     "text": [
      "Done fit tissue, adrenal_gland\n",
      "\n"
     ]
    },
    {
     "name": "stderr",
     "output_type": "stream",
     "text": [
      "tissue design done\n",
      "\n"
     ]
    },
    {
     "name": "stderr",
     "output_type": "stream",
     "text": [
      "Done fit tissue, artery_aorta\n",
      "\n"
     ]
    },
    {
     "name": "stderr",
     "output_type": "stream",
     "text": [
      "tissue design done\n",
      "\n"
     ]
    },
    {
     "name": "stderr",
     "output_type": "stream",
     "text": [
      "Done fit tissue, artery_coronary\n",
      "\n"
     ]
    },
    {
     "name": "stderr",
     "output_type": "stream",
     "text": [
      "tissue design done\n",
      "\n"
     ]
    },
    {
     "name": "stderr",
     "output_type": "stream",
     "text": [
      "Done fit tissue, artery_tibial\n",
      "\n"
     ]
    },
    {
     "name": "stderr",
     "output_type": "stream",
     "text": [
      "tissue design done\n",
      "\n"
     ]
    },
    {
     "name": "stderr",
     "output_type": "stream",
     "text": [
      "Done fit tissue, brain_caudate_basal_ganglia\n",
      "\n"
     ]
    },
    {
     "name": "stderr",
     "output_type": "stream",
     "text": [
      "tissue design done\n",
      "\n"
     ]
    },
    {
     "name": "stderr",
     "output_type": "stream",
     "text": [
      "No results to show\n",
      "Please make sure that the organism or namespace is correct\n",
      "\n"
     ]
    },
    {
     "name": "stderr",
     "output_type": "stream",
     "text": [
      "Done fit tissue, brain_cerebellar_hemisphere\n",
      "\n"
     ]
    },
    {
     "name": "stderr",
     "output_type": "stream",
     "text": [
      "tissue design done\n",
      "\n"
     ]
    },
    {
     "name": "stderr",
     "output_type": "stream",
     "text": [
      "No results to show\n",
      "Please make sure that the organism or namespace is correct\n",
      "\n"
     ]
    },
    {
     "name": "stderr",
     "output_type": "stream",
     "text": [
      "Done fit tissue, brain_cerebellum\n",
      "\n"
     ]
    },
    {
     "name": "stderr",
     "output_type": "stream",
     "text": [
      "tissue design done\n",
      "\n"
     ]
    },
    {
     "name": "stderr",
     "output_type": "stream",
     "text": [
      "Done fit tissue, brain_cortex\n",
      "\n"
     ]
    },
    {
     "name": "stderr",
     "output_type": "stream",
     "text": [
      "tissue design done\n",
      "\n"
     ]
    },
    {
     "name": "stderr",
     "output_type": "stream",
     "text": [
      "Done fit tissue, brain_frontal_cortex_ba_9\n",
      "\n"
     ]
    },
    {
     "name": "stderr",
     "output_type": "stream",
     "text": [
      "tissue design done\n",
      "\n"
     ]
    },
    {
     "name": "stderr",
     "output_type": "stream",
     "text": [
      "Done fit tissue, brain_hippocampus\n",
      "\n"
     ]
    },
    {
     "name": "stderr",
     "output_type": "stream",
     "text": [
      "tissue design done\n",
      "\n"
     ]
    },
    {
     "name": "stderr",
     "output_type": "stream",
     "text": [
      "Done fit tissue, brain_hypothalamus\n",
      "\n"
     ]
    },
    {
     "name": "stderr",
     "output_type": "stream",
     "text": [
      "tissue design done\n",
      "\n"
     ]
    },
    {
     "name": "stderr",
     "output_type": "stream",
     "text": [
      "Done fit tissue, brain_nucleus_accumbens_basal_ganglia\n",
      "\n"
     ]
    },
    {
     "name": "stderr",
     "output_type": "stream",
     "text": [
      "tissue design done\n",
      "\n"
     ]
    },
    {
     "name": "stderr",
     "output_type": "stream",
     "text": [
      "Done fit tissue, brain_putamen_basal_ganglia\n",
      "\n"
     ]
    },
    {
     "name": "stderr",
     "output_type": "stream",
     "text": [
      "tissue design done\n",
      "\n"
     ]
    },
    {
     "name": "stderr",
     "output_type": "stream",
     "text": [
      "Done fit tissue, brain_spinal_cord_cervical_c_1\n",
      "\n"
     ]
    },
    {
     "name": "stderr",
     "output_type": "stream",
     "text": [
      "tissue design done\n",
      "\n"
     ]
    },
    {
     "name": "stderr",
     "output_type": "stream",
     "text": [
      "No results to show\n",
      "Please make sure that the organism or namespace is correct\n",
      "\n"
     ]
    },
    {
     "name": "stderr",
     "output_type": "stream",
     "text": [
      "No results to show\n",
      "Please make sure that the organism or namespace is correct\n",
      "\n"
     ]
    },
    {
     "name": "stderr",
     "output_type": "stream",
     "text": [
      "No results to show\n",
      "Please make sure that the organism or namespace is correct\n",
      "\n"
     ]
    },
    {
     "name": "stderr",
     "output_type": "stream",
     "text": [
      "No results to show\n",
      "Please make sure that the organism or namespace is correct\n",
      "\n"
     ]
    },
    {
     "name": "stderr",
     "output_type": "stream",
     "text": [
      "No results to show\n",
      "Please make sure that the organism or namespace is correct\n",
      "\n"
     ]
    },
    {
     "name": "stderr",
     "output_type": "stream",
     "text": [
      "No results to show\n",
      "Please make sure that the organism or namespace is correct\n",
      "\n"
     ]
    },
    {
     "name": "stderr",
     "output_type": "stream",
     "text": [
      "No results to show\n",
      "Please make sure that the organism or namespace is correct\n",
      "\n"
     ]
    },
    {
     "name": "stderr",
     "output_type": "stream",
     "text": [
      "No results to show\n",
      "Please make sure that the organism or namespace is correct\n",
      "\n"
     ]
    },
    {
     "name": "stderr",
     "output_type": "stream",
     "text": [
      "No results to show\n",
      "Please make sure that the organism or namespace is correct\n",
      "\n"
     ]
    },
    {
     "name": "stderr",
     "output_type": "stream",
     "text": [
      "Done fit tissue, breast_mammary_tissue\n",
      "\n"
     ]
    },
    {
     "name": "stderr",
     "output_type": "stream",
     "text": [
      "tissue design done\n",
      "\n"
     ]
    },
    {
     "name": "stderr",
     "output_type": "stream",
     "text": [
      "No results to show\n",
      "Please make sure that the organism or namespace is correct\n",
      "\n"
     ]
    },
    {
     "name": "stderr",
     "output_type": "stream",
     "text": [
      "Done fit tissue, cells_cultured_fibroblasts\n",
      "\n"
     ]
    },
    {
     "name": "stderr",
     "output_type": "stream",
     "text": [
      "tissue design done\n",
      "\n"
     ]
    },
    {
     "name": "stderr",
     "output_type": "stream",
     "text": [
      "No results to show\n",
      "Please make sure that the organism or namespace is correct\n",
      "\n"
     ]
    },
    {
     "name": "stderr",
     "output_type": "stream",
     "text": [
      "Done fit tissue, cells_ebv_transformed_lymphocytes\n",
      "\n"
     ]
    },
    {
     "name": "stderr",
     "output_type": "stream",
     "text": [
      "tissue design done\n",
      "\n"
     ]
    },
    {
     "name": "stderr",
     "output_type": "stream",
     "text": [
      "Done fit tissue, colon_sigmoid\n",
      "\n"
     ]
    },
    {
     "name": "stderr",
     "output_type": "stream",
     "text": [
      "tissue design done\n",
      "\n"
     ]
    },
    {
     "name": "stderr",
     "output_type": "stream",
     "text": [
      "Done fit tissue, colon_transverse\n",
      "\n"
     ]
    },
    {
     "name": "stderr",
     "output_type": "stream",
     "text": [
      "tissue design done\n",
      "\n"
     ]
    },
    {
     "name": "stderr",
     "output_type": "stream",
     "text": [
      "Done fit tissue, esophagus_gastroesophageal_junction\n",
      "\n"
     ]
    },
    {
     "name": "stderr",
     "output_type": "stream",
     "text": [
      "tissue design done\n",
      "\n"
     ]
    },
    {
     "name": "stderr",
     "output_type": "stream",
     "text": [
      "No results to show\n",
      "Please make sure that the organism or namespace is correct\n",
      "\n"
     ]
    },
    {
     "name": "stderr",
     "output_type": "stream",
     "text": [
      "No results to show\n",
      "Please make sure that the organism or namespace is correct\n",
      "\n"
     ]
    },
    {
     "name": "stderr",
     "output_type": "stream",
     "text": [
      "No results to show\n",
      "Please make sure that the organism or namespace is correct\n",
      "\n"
     ]
    },
    {
     "name": "stderr",
     "output_type": "stream",
     "text": [
      "Done fit tissue, esophagus_mucosa\n",
      "\n"
     ]
    },
    {
     "name": "stderr",
     "output_type": "stream",
     "text": [
      "tissue design done\n",
      "\n"
     ]
    },
    {
     "name": "stderr",
     "output_type": "stream",
     "text": [
      "Done fit tissue, esophagus_muscularis\n",
      "\n"
     ]
    },
    {
     "name": "stderr",
     "output_type": "stream",
     "text": [
      "tissue design done\n",
      "\n"
     ]
    },
    {
     "name": "stderr",
     "output_type": "stream",
     "text": [
      "Done fit tissue, heart_atrial_appendage\n",
      "\n"
     ]
    },
    {
     "name": "stderr",
     "output_type": "stream",
     "text": [
      "tissue design done\n",
      "\n"
     ]
    },
    {
     "name": "stderr",
     "output_type": "stream",
     "text": [
      "Done fit tissue, heart_left_ventricle\n",
      "\n"
     ]
    },
    {
     "name": "stderr",
     "output_type": "stream",
     "text": [
      "tissue design done\n",
      "\n"
     ]
    },
    {
     "name": "stderr",
     "output_type": "stream",
     "text": [
      "Done fit tissue, liver\n",
      "\n"
     ]
    },
    {
     "name": "stderr",
     "output_type": "stream",
     "text": [
      "tissue design done\n",
      "\n"
     ]
    },
    {
     "name": "stderr",
     "output_type": "stream",
     "text": [
      "Done fit tissue, lung\n",
      "\n"
     ]
    },
    {
     "name": "stderr",
     "output_type": "stream",
     "text": [
      "tissue design done\n",
      "\n"
     ]
    },
    {
     "name": "stderr",
     "output_type": "stream",
     "text": [
      "Done fit tissue, muscle_skeletal\n",
      "\n"
     ]
    },
    {
     "name": "stderr",
     "output_type": "stream",
     "text": [
      "tissue design done\n",
      "\n"
     ]
    },
    {
     "name": "stderr",
     "output_type": "stream",
     "text": [
      "Done fit tissue, nerve_tibial\n",
      "\n"
     ]
    },
    {
     "name": "stderr",
     "output_type": "stream",
     "text": [
      "tissue design done\n",
      "\n"
     ]
    },
    {
     "name": "stderr",
     "output_type": "stream",
     "text": [
      "Done fit tissue, pancreas\n",
      "\n"
     ]
    },
    {
     "name": "stderr",
     "output_type": "stream",
     "text": [
      "tissue design done\n",
      "\n"
     ]
    },
    {
     "name": "stderr",
     "output_type": "stream",
     "text": [
      "Done fit tissue, pituitary\n",
      "\n"
     ]
    },
    {
     "name": "stderr",
     "output_type": "stream",
     "text": [
      "tissue design done\n",
      "\n"
     ]
    },
    {
     "name": "stderr",
     "output_type": "stream",
     "text": [
      "No results to show\n",
      "Please make sure that the organism or namespace is correct\n",
      "\n"
     ]
    },
    {
     "name": "stderr",
     "output_type": "stream",
     "text": [
      "No results to show\n",
      "Please make sure that the organism or namespace is correct\n",
      "\n"
     ]
    },
    {
     "name": "stderr",
     "output_type": "stream",
     "text": [
      "No results to show\n",
      "Please make sure that the organism or namespace is correct\n",
      "\n"
     ]
    },
    {
     "name": "stderr",
     "output_type": "stream",
     "text": [
      "Done fit tissue, skin_not_sun_exposed_suprapubic\n",
      "\n"
     ]
    },
    {
     "name": "stderr",
     "output_type": "stream",
     "text": [
      "tissue design done\n",
      "\n"
     ]
    },
    {
     "name": "stderr",
     "output_type": "stream",
     "text": [
      "No results to show\n",
      "Please make sure that the organism or namespace is correct\n",
      "\n"
     ]
    },
    {
     "name": "stderr",
     "output_type": "stream",
     "text": [
      "No results to show\n",
      "Please make sure that the organism or namespace is correct\n",
      "\n"
     ]
    },
    {
     "name": "stderr",
     "output_type": "stream",
     "text": [
      "Done fit tissue, skin_sun_exposed_lower_leg\n",
      "\n"
     ]
    },
    {
     "name": "stderr",
     "output_type": "stream",
     "text": [
      "tissue design done\n",
      "\n"
     ]
    },
    {
     "name": "stderr",
     "output_type": "stream",
     "text": [
      "No results to show\n",
      "Please make sure that the organism or namespace is correct\n",
      "\n"
     ]
    },
    {
     "name": "stderr",
     "output_type": "stream",
     "text": [
      "Done fit tissue, small_intestine_terminal_ileum\n",
      "\n"
     ]
    },
    {
     "name": "stderr",
     "output_type": "stream",
     "text": [
      "tissue design done\n",
      "\n"
     ]
    },
    {
     "name": "stderr",
     "output_type": "stream",
     "text": [
      "Done fit tissue, spleen\n",
      "\n"
     ]
    },
    {
     "name": "stderr",
     "output_type": "stream",
     "text": [
      "tissue design done\n",
      "\n"
     ]
    },
    {
     "name": "stderr",
     "output_type": "stream",
     "text": [
      "Done fit tissue, stomach\n",
      "\n"
     ]
    },
    {
     "name": "stderr",
     "output_type": "stream",
     "text": [
      "tissue design done\n",
      "\n"
     ]
    },
    {
     "name": "stderr",
     "output_type": "stream",
     "text": [
      "No results to show\n",
      "Please make sure that the organism or namespace is correct\n",
      "\n"
     ]
    },
    {
     "name": "stderr",
     "output_type": "stream",
     "text": [
      "Done fit tissue, thyroid\n",
      "\n"
     ]
    },
    {
     "name": "stderr",
     "output_type": "stream",
     "text": [
      "tissue design done\n",
      "\n"
     ]
    },
    {
     "name": "stderr",
     "output_type": "stream",
     "text": [
      "No results to show\n",
      "Please make sure that the organism or namespace is correct\n",
      "\n"
     ]
    },
    {
     "name": "stderr",
     "output_type": "stream",
     "text": [
      "No results to show\n",
      "Please make sure that the organism or namespace is correct\n",
      "\n"
     ]
    },
    {
     "name": "stderr",
     "output_type": "stream",
     "text": [
      "Done fit tissue, whole_blood\n",
      "\n"
     ]
    }
   ],
   "source": [
    "for (tissue in levels(pData(obj)$SMTSD)) { \n",
    "    fit_tissue(tissue = tissue,obj = obj)\n",
    "    message(\"Done fit tissue, \", tissue)\n",
    "}"
   ]
  },
  {
   "cell_type": "markdown",
   "id": "993c118a",
   "metadata": {
    "papermill": {
     "duration": 0.025197,
     "end_time": "2021-09-23T15:06:36.942812",
     "exception": false,
     "start_time": "2021-09-23T15:06:36.917615",
     "status": "completed"
    },
    "tags": []
   },
   "source": [
    "### Appendix - Metadata\n",
    "\n",
    "For replicability and reproducibility purposes, we also print the following metadata:"
   ]
  },
  {
   "cell_type": "markdown",
   "id": "544d415e",
   "metadata": {
    "papermill": {
     "duration": 0.024725,
     "end_time": "2021-09-23T15:06:36.992392",
     "exception": false,
     "start_time": "2021-09-23T15:06:36.967667",
     "status": "completed"
    },
    "tags": []
   },
   "source": [
    "### Appendix - 1. Checksums with the sha256 algorithm\n",
    "1. Checksums of **'artefacts'**, files generated during the analysis and stored in the folder directory **`data`**\n",
    "2. List of environment metadata, dependencies, versions of libraries using `utils::sessionInfo()` and [`devtools::session_info()`](https://devtools.r-lib.org/reference/session_info.html)"
   ]
  },
  {
   "cell_type": "code",
   "execution_count": 10,
   "id": "f6183e14",
   "metadata": {
    "execution": {
     "iopub.execute_input": "2021-09-23T15:06:37.055889Z",
     "iopub.status.busy": "2021-09-23T15:06:37.054815Z",
     "iopub.status.idle": "2021-09-23T15:06:51.140859Z",
     "shell.execute_reply": "2021-09-23T15:06:51.139601Z"
    },
    "papermill": {
     "duration": 14.123953,
     "end_time": "2021-09-23T15:06:51.140968",
     "exception": false,
     "start_time": "2021-09-23T15:06:37.017015",
     "status": "completed"
    },
    "tags": []
   },
   "outputs": [
    {
     "name": "stderr",
     "output_type": "stream",
     "text": [
      "Generating sha256 checksums of the artefacts in the `..data/` directory .. \n",
      "\n"
     ]
    },
    {
     "data": {
      "text/html": [],
      "text/latex": [],
      "text/markdown": [],
      "text/plain": [
       "character(0)"
      ]
     },
     "metadata": {},
     "output_type": "display_data"
    },
    {
     "name": "stderr",
     "output_type": "stream",
     "text": [
      "Done!\n",
      "\n",
      "\n"
     ]
    },
    {
     "data": {
      "text/html": [
       "<table class=\"dataframe\">\n",
       "<caption>A data.table: 156 × 2</caption>\n",
       "<thead>\n",
       "\t<tr><th scope=col>sha256sum</th><th scope=col>file</th></tr>\n",
       "\t<tr><th scope=col>&lt;chr&gt;</th><th scope=col>&lt;chr&gt;</th></tr>\n",
       "</thead>\n",
       "<tbody>\n",
       "\t<tr><td>8fc197023652109dcfef894efa26e7ccc04077a4b67b79ccacc5089e9fc06464</td><td>./liver_DGE.csv                                  </td></tr>\n",
       "\t<tr><td>17103a26867545a2c0219c16a689868fa8a3ac338b00c64fbcc0ac93a9b2fa11</td><td>./esophagus_muscularis_DGE.csv                   </td></tr>\n",
       "\t<tr><td>ed3050e5ae8b2564fb04a9761cf300f629d85982874d2e32f263f7b2f08d5fc0</td><td>./brain_frontal_cortex_ba_9_DGE_ensg_map.csv     </td></tr>\n",
       "\t<tr><td>eb1c7d78388d98a948213356d009b1e3021c956cd0eb5aafaf01fc0792661e64</td><td>./pituitary_DGE_refined.csv                      </td></tr>\n",
       "\t<tr><td>402b609deee419ec9c2bdc107d298d04814ca7fae3d6dd9f877b70bff6dbf088</td><td>./brain_cortex_DGE_refined.csv                   </td></tr>\n",
       "\t<tr><td>2e10a4bdc3fa4a080346dad337cfd1daa130515a89b50d300ce4cd01f748606d</td><td>./liver_DGE_ensg_map.csv                         </td></tr>\n",
       "\t<tr><td>69681daa192eba6eacec2a9e8b8eee0ea76dc7da89eb1ff6e84ba7838641c886</td><td>./esophagus_muscularis_DGE_ensg_map.csv          </td></tr>\n",
       "\t<tr><td>e6edcdb4c192ca3ab182193f5367460a05aedb6f4530a13e6babcfe44425e3c5</td><td>./whole_blood_DGE_refined.csv                    </td></tr>\n",
       "\t<tr><td>fa43df9e4591a05e3f0592f4d9e1f9db9afdab1820ce8518500b0cf84e626068</td><td>./heart_atrial_appendage_DGE.csv                 </td></tr>\n",
       "\t<tr><td>3cf74d1a65cfd4dd9c450b9c5f46467eb4e3a440a3a8e9b2eaeac43d7a81320d</td><td>./nerve_tibial_DGE_ensg_map.csv                  </td></tr>\n",
       "\t<tr><td>f61fd14147a22b6b6971a4365c609b4375c0f50df3dd50e5b1ae25d55ea90c20</td><td>./heart_atrial_appendage_DGE_refined.csv         </td></tr>\n",
       "\t<tr><td>73a9486588ae03716e14a99c507f14044604cc22c68da5e43bfa2136dc79780c</td><td>./artery_tibial_DGE.csv                          </td></tr>\n",
       "\t<tr><td>52762ab7243a6450f74de24f84197b6ff4b3e1090693ba0931d7e0e0a843a160</td><td>./brain_spinal_cord_cervical_c_1_DGE_refined.csv </td></tr>\n",
       "\t<tr><td>1d057b2b0283a0f2541219ee1c3cb83c1e2aa650d007c04c8cd3bc39493e7bd0</td><td>./rmats_final.ri.jc.skiplen.txt.gz               </td></tr>\n",
       "\t<tr><td>d802915847965a30ca0c8d6486dc4c8c5a64984c11aadeee8eb1d8484ba0b248</td><td>./rmats_final.se.jc.inc.txt.gz                   </td></tr>\n",
       "\t<tr><td>49665e3284e88bd05117e891a0c437d811d796ee3ed10e5239a6dd5c491324eb</td><td>./brain_hypothalamus_DGE_ensg_map.csv            </td></tr>\n",
       "\t<tr><td>d5199ed895e35002ab8a30db9f61abf2a294ae865e85201a4dc7526cb7003b7b</td><td>./rmats_final.ri.jc.sjc.txt.gz                   </td></tr>\n",
       "\t<tr><td>b9886b1e4f50d35fc9e92d25933b901d66eab22e7f48d87c2ddc18d6379e9d9e</td><td>./brain_spinal_cord_cervical_c_1_DGE_ensg_map.csv</td></tr>\n",
       "\t<tr><td>85acd073d8742ef4a680a10ed509ccf6779f9fbfa86fb3fd2c5629ddfa7094dd</td><td>./rmats_final.a5ss.jc.skiplen.txt.gz             </td></tr>\n",
       "\t<tr><td>a91bad3e255bf8958176b6f49534cf6e78ae918a932b2c54585b99be66e33bbb</td><td>./spleen_DGE_ensg_map.csv                        </td></tr>\n",
       "\t<tr><td>888af319f2a80d4270206bdea66bc6616b5955025896270bb38ceb52dff81a9f</td><td>./pancreas_DGE_refined.csv                       </td></tr>\n",
       "\t<tr><td>0c97882c7711eefe187bfff5014e0899f50ffa591d85e5a44e75ef8c82ae8458</td><td>./brain_hippocampus_DGE_ensg_map.csv             </td></tr>\n",
       "\t<tr><td>a9ecc26293834534e3cd101fe5e0e7cf8a4417aee241542bb7bed302dcdd6acf</td><td>./brain_cortex_DGE_ensg_map.csv                  </td></tr>\n",
       "\t<tr><td>498da21b7121fc61a1fa54f7754257b88320fb7e914cac9298da563270fd18d9</td><td>./thyroid_DGE_ensg_map.csv                       </td></tr>\n",
       "\t<tr><td>f1cce0ddff847545e68bf9971c9e16e6959df156c3bc83d6ec262bd0e509e526</td><td>./rmats_final.ri.jc.inclen.txt.gz                </td></tr>\n",
       "\t<tr><td>3334227d90b52ba7e39c2f2bebd6166a9f09ac80d46f72f3ab309b0eb6518bed</td><td>./._fromGTF.SE.txt                               </td></tr>\n",
       "\t<tr><td>1f33caf1eb8e32ff9237323fecaf0f5460cc940cff73fde05798920eef516eb8</td><td>./spleen_DGE_refined.csv                         </td></tr>\n",
       "\t<tr><td>224a5abf62d4c3b6c5c0a0b31903e1929ea64597aa57913b0cc8b6c3f97fb638</td><td>./differentialGeneExpression_sha256sums.txt      </td></tr>\n",
       "\t<tr><td>4ccc66d7536adcfeb713344096f4d8cbebe996c750c27d79f316d0622cdc348a</td><td>./artery_aorta_DGE_refined.csv                   </td></tr>\n",
       "\t<tr><td>2b456aa4e56697fd5b693b353dd0fd4c0f13febbd14d206bcda7313c6fd8ad0b</td><td>./brain_putamen_basal_ganglia_DGE_ensg_map.csv   </td></tr>\n",
       "\t<tr><td>⋮</td><td>⋮</td></tr>\n",
       "\t<tr><td>c277ab764b652e8d65e07277df72933fee465806a5e6c1b018509f868ccfddad</td><td>./fromGTF.A5SS.txt                                      </td></tr>\n",
       "\t<tr><td>1e79cee643afd08b4d8ecade04af5b3392751ad8d4727aebf4f53bc53d2dd191</td><td>./artery_coronary_DGE_refined.csv                       </td></tr>\n",
       "\t<tr><td>ec941ebc9647caa1ff89e9b9c25fa87fab618865076b8b2794d7f35b8e2fea4d</td><td>./rmats_final.a5ss.jc.sjc.txt.gz                        </td></tr>\n",
       "\t<tr><td>2e475e31d2a53bf6e7947a0eab7d0a7cb7da84fad3ec9e177f191bc28bd08549</td><td>./brain_hippocampus_DGE.csv                             </td></tr>\n",
       "\t<tr><td>a2424d8ba1e4752524d36802786d401d70dd4b04501b09f961a69295e08eac47</td><td>./rmats_final.mxe.jc.inclen.txt.gz                      </td></tr>\n",
       "\t<tr><td>11b73d5a25dc6667529da47bf5bbfd6aa9f1dedfa628702a3a536d243685904f</td><td>./rmats_final.mxe.jc.ijc.txt.gz                         </td></tr>\n",
       "\t<tr><td>6295fcac793d3b8051cdbab15d0cf1df4b8ee4e734e259cd4df60ad327ddd2c4</td><td>./brain_nucleus_accumbens_basal_ganglia_DGE_ensg_map.csv</td></tr>\n",
       "\t<tr><td>2a59fe59fb90979cb949b7d57dc0d654a0d9f205955ebbcd56f0326702d25293</td><td>./colon_transverse_DGE.csv                              </td></tr>\n",
       "\t<tr><td>51c8250a1796196e3879d88186c5450e5b5efc1e9f3fa578f388e9ff380e2deb</td><td>./fromGTF.A3SS.txt                                      </td></tr>\n",
       "\t<tr><td>7c5097b81f8c0ec949e098bd5d0a9871e28201572c3093341b54284373f067d6</td><td>./cells_ebv_transformed_lymphocytes_DGE_refined.csv     </td></tr>\n",
       "\t<tr><td>6a6f8d37dde2716c6289535b2058d68c4959672043fa9c532ef623e91a5a6975</td><td>./srr_pdata.csv                                         </td></tr>\n",
       "\t<tr><td>8e0d2b3ad1a91c2c2d1054ea005a8ea9017a09ddd2715006189958e9d15bb983</td><td>./breast_mammary_tissue_DGE_refined.csv                 </td></tr>\n",
       "\t<tr><td>c966005e2c6da68a9e404f571fee4df1825d4785505e6383c37902e9ee660858</td><td>./lung_DGE_ensg_map.csv                                 </td></tr>\n",
       "\t<tr><td>7d9af4be00e3fc69fff562da7f625c2636b2c232ece51a2ba250563cb01b5e51</td><td>./stomach_DGE_ensg_map.csv                              </td></tr>\n",
       "\t<tr><td>5cf99b4abc23ce9f5d68fbad06f2c1778da9928df04247ee6a7524b7fa396ce6</td><td>./rmats_final.se.jc.inclen.txt.gz                       </td></tr>\n",
       "\t<tr><td>6e254a5c991a72d0f0a8bf7ae08b2e7919d124439505a77dd599e867a84f5203</td><td>./muscle_skeletal_DGE_ensg_map.csv                      </td></tr>\n",
       "\t<tr><td>4ad589d8fcf6a88226e61dec1f541f244e60fcb8cbcc2a4bd7d07cdc0ade5274</td><td>./rmats_final.mxe.jc.inc.txt.gz                         </td></tr>\n",
       "\t<tr><td>36a1ccb3b178ddb797186cb35450f57ae366ed0a98b6c60edc2d816198cca367</td><td>./esophagus_gastroesophageal_junction_DGE.csv           </td></tr>\n",
       "\t<tr><td>ab25e2a4253a15b93c6975422fa89bb5e5ab99107e5fe61c58dd664bc5aefb6c</td><td>./nerve_tibial_DGE.csv                                  </td></tr>\n",
       "\t<tr><td>171965d1f008769a85768fe6a03326756f4cccfddf093841b4cfa0dd9f9c674e</td><td>./rmats_final.mxe.jc.sjc.txt.gz                         </td></tr>\n",
       "\t<tr><td>a7998e56945834f5f8fd8610d8c5c860f10f1875e806040fb7193512fecd404a</td><td>./stomach_DGE.csv                                       </td></tr>\n",
       "\t<tr><td>16dccf12f585a5d6a1341b2ee7bf499d39ac336e22d07d460ba7e562715b16e4</td><td>./._fromGTF.A3SS.txt                                    </td></tr>\n",
       "\t<tr><td>5bc883569c55435d47bd046d42fef0cd57030f5365bbf2a595027746b79de6fe</td><td>./nerve_tibial_DGE_refined.csv                          </td></tr>\n",
       "\t<tr><td>864b71659f8c3efadf29966b83a45f500fba3d73d991949d9e5ab4d0220f5eb4</td><td>./brain_hypothalamus_DGE_refined.csv                    </td></tr>\n",
       "\t<tr><td>70ef11e73aafd8d8b98d6293523c0ca3404ba37af27820695bfb35014d19934b</td><td>./esophagus_gastroesophageal_junction_DGE_refined.csv   </td></tr>\n",
       "\t<tr><td>1e94bb3d6b35e3f3ee63cecb696753e5baa7d46ca19839de650bbcc6cf255c00</td><td>./stomach_DGE_refined.csv                               </td></tr>\n",
       "\t<tr><td>d05106029edb62b272d85553badb6156eb092aada4bcda54e0211b9464fb746a</td><td>./cells_cultured_fibroblasts_DGE_refined.csv            </td></tr>\n",
       "\t<tr><td>5b347c351c6afcf9467b3b9db70c5294b667076825987dfe989f35a2d8293b99</td><td>./small_intestine_terminal_ileum_DGE_refined.csv        </td></tr>\n",
       "\t<tr><td>d28fe907bbe2fe9ea999011cee177af560b3c3bbc43eff347ac4ea2d1909c66e</td><td>./adipose_visceral_omentum_DGE_ensg_map.csv             </td></tr>\n",
       "\t<tr><td>85dd8c5dc795d77f3dffd3921163552dff9bab5358ebd20151b850f504bc0263</td><td>./lung_DGE.csv                                          </td></tr>\n",
       "</tbody>\n",
       "</table>\n"
      ],
      "text/latex": [
       "A data.table: 156 × 2\n",
       "\\begin{tabular}{ll}\n",
       " sha256sum & file\\\\\n",
       " <chr> & <chr>\\\\\n",
       "\\hline\n",
       "\t 8fc197023652109dcfef894efa26e7ccc04077a4b67b79ccacc5089e9fc06464 & ./liver\\_DGE.csv                                  \\\\\n",
       "\t 17103a26867545a2c0219c16a689868fa8a3ac338b00c64fbcc0ac93a9b2fa11 & ./esophagus\\_muscularis\\_DGE.csv                   \\\\\n",
       "\t ed3050e5ae8b2564fb04a9761cf300f629d85982874d2e32f263f7b2f08d5fc0 & ./brain\\_frontal\\_cortex\\_ba\\_9\\_DGE\\_ensg\\_map.csv     \\\\\n",
       "\t eb1c7d78388d98a948213356d009b1e3021c956cd0eb5aafaf01fc0792661e64 & ./pituitary\\_DGE\\_refined.csv                      \\\\\n",
       "\t 402b609deee419ec9c2bdc107d298d04814ca7fae3d6dd9f877b70bff6dbf088 & ./brain\\_cortex\\_DGE\\_refined.csv                   \\\\\n",
       "\t 2e10a4bdc3fa4a080346dad337cfd1daa130515a89b50d300ce4cd01f748606d & ./liver\\_DGE\\_ensg\\_map.csv                         \\\\\n",
       "\t 69681daa192eba6eacec2a9e8b8eee0ea76dc7da89eb1ff6e84ba7838641c886 & ./esophagus\\_muscularis\\_DGE\\_ensg\\_map.csv          \\\\\n",
       "\t e6edcdb4c192ca3ab182193f5367460a05aedb6f4530a13e6babcfe44425e3c5 & ./whole\\_blood\\_DGE\\_refined.csv                    \\\\\n",
       "\t fa43df9e4591a05e3f0592f4d9e1f9db9afdab1820ce8518500b0cf84e626068 & ./heart\\_atrial\\_appendage\\_DGE.csv                 \\\\\n",
       "\t 3cf74d1a65cfd4dd9c450b9c5f46467eb4e3a440a3a8e9b2eaeac43d7a81320d & ./nerve\\_tibial\\_DGE\\_ensg\\_map.csv                  \\\\\n",
       "\t f61fd14147a22b6b6971a4365c609b4375c0f50df3dd50e5b1ae25d55ea90c20 & ./heart\\_atrial\\_appendage\\_DGE\\_refined.csv         \\\\\n",
       "\t 73a9486588ae03716e14a99c507f14044604cc22c68da5e43bfa2136dc79780c & ./artery\\_tibial\\_DGE.csv                          \\\\\n",
       "\t 52762ab7243a6450f74de24f84197b6ff4b3e1090693ba0931d7e0e0a843a160 & ./brain\\_spinal\\_cord\\_cervical\\_c\\_1\\_DGE\\_refined.csv \\\\\n",
       "\t 1d057b2b0283a0f2541219ee1c3cb83c1e2aa650d007c04c8cd3bc39493e7bd0 & ./rmats\\_final.ri.jc.skiplen.txt.gz               \\\\\n",
       "\t d802915847965a30ca0c8d6486dc4c8c5a64984c11aadeee8eb1d8484ba0b248 & ./rmats\\_final.se.jc.inc.txt.gz                   \\\\\n",
       "\t 49665e3284e88bd05117e891a0c437d811d796ee3ed10e5239a6dd5c491324eb & ./brain\\_hypothalamus\\_DGE\\_ensg\\_map.csv            \\\\\n",
       "\t d5199ed895e35002ab8a30db9f61abf2a294ae865e85201a4dc7526cb7003b7b & ./rmats\\_final.ri.jc.sjc.txt.gz                   \\\\\n",
       "\t b9886b1e4f50d35fc9e92d25933b901d66eab22e7f48d87c2ddc18d6379e9d9e & ./brain\\_spinal\\_cord\\_cervical\\_c\\_1\\_DGE\\_ensg\\_map.csv\\\\\n",
       "\t 85acd073d8742ef4a680a10ed509ccf6779f9fbfa86fb3fd2c5629ddfa7094dd & ./rmats\\_final.a5ss.jc.skiplen.txt.gz             \\\\\n",
       "\t a91bad3e255bf8958176b6f49534cf6e78ae918a932b2c54585b99be66e33bbb & ./spleen\\_DGE\\_ensg\\_map.csv                        \\\\\n",
       "\t 888af319f2a80d4270206bdea66bc6616b5955025896270bb38ceb52dff81a9f & ./pancreas\\_DGE\\_refined.csv                       \\\\\n",
       "\t 0c97882c7711eefe187bfff5014e0899f50ffa591d85e5a44e75ef8c82ae8458 & ./brain\\_hippocampus\\_DGE\\_ensg\\_map.csv             \\\\\n",
       "\t a9ecc26293834534e3cd101fe5e0e7cf8a4417aee241542bb7bed302dcdd6acf & ./brain\\_cortex\\_DGE\\_ensg\\_map.csv                  \\\\\n",
       "\t 498da21b7121fc61a1fa54f7754257b88320fb7e914cac9298da563270fd18d9 & ./thyroid\\_DGE\\_ensg\\_map.csv                       \\\\\n",
       "\t f1cce0ddff847545e68bf9971c9e16e6959df156c3bc83d6ec262bd0e509e526 & ./rmats\\_final.ri.jc.inclen.txt.gz                \\\\\n",
       "\t 3334227d90b52ba7e39c2f2bebd6166a9f09ac80d46f72f3ab309b0eb6518bed & ./.\\_fromGTF.SE.txt                               \\\\\n",
       "\t 1f33caf1eb8e32ff9237323fecaf0f5460cc940cff73fde05798920eef516eb8 & ./spleen\\_DGE\\_refined.csv                         \\\\\n",
       "\t 224a5abf62d4c3b6c5c0a0b31903e1929ea64597aa57913b0cc8b6c3f97fb638 & ./differentialGeneExpression\\_sha256sums.txt      \\\\\n",
       "\t 4ccc66d7536adcfeb713344096f4d8cbebe996c750c27d79f316d0622cdc348a & ./artery\\_aorta\\_DGE\\_refined.csv                   \\\\\n",
       "\t 2b456aa4e56697fd5b693b353dd0fd4c0f13febbd14d206bcda7313c6fd8ad0b & ./brain\\_putamen\\_basal\\_ganglia\\_DGE\\_ensg\\_map.csv   \\\\\n",
       "\t ⋮ & ⋮\\\\\n",
       "\t c277ab764b652e8d65e07277df72933fee465806a5e6c1b018509f868ccfddad & ./fromGTF.A5SS.txt                                      \\\\\n",
       "\t 1e79cee643afd08b4d8ecade04af5b3392751ad8d4727aebf4f53bc53d2dd191 & ./artery\\_coronary\\_DGE\\_refined.csv                       \\\\\n",
       "\t ec941ebc9647caa1ff89e9b9c25fa87fab618865076b8b2794d7f35b8e2fea4d & ./rmats\\_final.a5ss.jc.sjc.txt.gz                        \\\\\n",
       "\t 2e475e31d2a53bf6e7947a0eab7d0a7cb7da84fad3ec9e177f191bc28bd08549 & ./brain\\_hippocampus\\_DGE.csv                             \\\\\n",
       "\t a2424d8ba1e4752524d36802786d401d70dd4b04501b09f961a69295e08eac47 & ./rmats\\_final.mxe.jc.inclen.txt.gz                      \\\\\n",
       "\t 11b73d5a25dc6667529da47bf5bbfd6aa9f1dedfa628702a3a536d243685904f & ./rmats\\_final.mxe.jc.ijc.txt.gz                         \\\\\n",
       "\t 6295fcac793d3b8051cdbab15d0cf1df4b8ee4e734e259cd4df60ad327ddd2c4 & ./brain\\_nucleus\\_accumbens\\_basal\\_ganglia\\_DGE\\_ensg\\_map.csv\\\\\n",
       "\t 2a59fe59fb90979cb949b7d57dc0d654a0d9f205955ebbcd56f0326702d25293 & ./colon\\_transverse\\_DGE.csv                              \\\\\n",
       "\t 51c8250a1796196e3879d88186c5450e5b5efc1e9f3fa578f388e9ff380e2deb & ./fromGTF.A3SS.txt                                      \\\\\n",
       "\t 7c5097b81f8c0ec949e098bd5d0a9871e28201572c3093341b54284373f067d6 & ./cells\\_ebv\\_transformed\\_lymphocytes\\_DGE\\_refined.csv     \\\\\n",
       "\t 6a6f8d37dde2716c6289535b2058d68c4959672043fa9c532ef623e91a5a6975 & ./srr\\_pdata.csv                                         \\\\\n",
       "\t 8e0d2b3ad1a91c2c2d1054ea005a8ea9017a09ddd2715006189958e9d15bb983 & ./breast\\_mammary\\_tissue\\_DGE\\_refined.csv                 \\\\\n",
       "\t c966005e2c6da68a9e404f571fee4df1825d4785505e6383c37902e9ee660858 & ./lung\\_DGE\\_ensg\\_map.csv                                 \\\\\n",
       "\t 7d9af4be00e3fc69fff562da7f625c2636b2c232ece51a2ba250563cb01b5e51 & ./stomach\\_DGE\\_ensg\\_map.csv                              \\\\\n",
       "\t 5cf99b4abc23ce9f5d68fbad06f2c1778da9928df04247ee6a7524b7fa396ce6 & ./rmats\\_final.se.jc.inclen.txt.gz                       \\\\\n",
       "\t 6e254a5c991a72d0f0a8bf7ae08b2e7919d124439505a77dd599e867a84f5203 & ./muscle\\_skeletal\\_DGE\\_ensg\\_map.csv                      \\\\\n",
       "\t 4ad589d8fcf6a88226e61dec1f541f244e60fcb8cbcc2a4bd7d07cdc0ade5274 & ./rmats\\_final.mxe.jc.inc.txt.gz                         \\\\\n",
       "\t 36a1ccb3b178ddb797186cb35450f57ae366ed0a98b6c60edc2d816198cca367 & ./esophagus\\_gastroesophageal\\_junction\\_DGE.csv           \\\\\n",
       "\t ab25e2a4253a15b93c6975422fa89bb5e5ab99107e5fe61c58dd664bc5aefb6c & ./nerve\\_tibial\\_DGE.csv                                  \\\\\n",
       "\t 171965d1f008769a85768fe6a03326756f4cccfddf093841b4cfa0dd9f9c674e & ./rmats\\_final.mxe.jc.sjc.txt.gz                         \\\\\n",
       "\t a7998e56945834f5f8fd8610d8c5c860f10f1875e806040fb7193512fecd404a & ./stomach\\_DGE.csv                                       \\\\\n",
       "\t 16dccf12f585a5d6a1341b2ee7bf499d39ac336e22d07d460ba7e562715b16e4 & ./.\\_fromGTF.A3SS.txt                                    \\\\\n",
       "\t 5bc883569c55435d47bd046d42fef0cd57030f5365bbf2a595027746b79de6fe & ./nerve\\_tibial\\_DGE\\_refined.csv                          \\\\\n",
       "\t 864b71659f8c3efadf29966b83a45f500fba3d73d991949d9e5ab4d0220f5eb4 & ./brain\\_hypothalamus\\_DGE\\_refined.csv                    \\\\\n",
       "\t 70ef11e73aafd8d8b98d6293523c0ca3404ba37af27820695bfb35014d19934b & ./esophagus\\_gastroesophageal\\_junction\\_DGE\\_refined.csv   \\\\\n",
       "\t 1e94bb3d6b35e3f3ee63cecb696753e5baa7d46ca19839de650bbcc6cf255c00 & ./stomach\\_DGE\\_refined.csv                               \\\\\n",
       "\t d05106029edb62b272d85553badb6156eb092aada4bcda54e0211b9464fb746a & ./cells\\_cultured\\_fibroblasts\\_DGE\\_refined.csv            \\\\\n",
       "\t 5b347c351c6afcf9467b3b9db70c5294b667076825987dfe989f35a2d8293b99 & ./small\\_intestine\\_terminal\\_ileum\\_DGE\\_refined.csv        \\\\\n",
       "\t d28fe907bbe2fe9ea999011cee177af560b3c3bbc43eff347ac4ea2d1909c66e & ./adipose\\_visceral\\_omentum\\_DGE\\_ensg\\_map.csv             \\\\\n",
       "\t 85dd8c5dc795d77f3dffd3921163552dff9bab5358ebd20151b850f504bc0263 & ./lung\\_DGE.csv                                          \\\\\n",
       "\\end{tabular}\n"
      ],
      "text/markdown": [
       "\n",
       "A data.table: 156 × 2\n",
       "\n",
       "| sha256sum &lt;chr&gt; | file &lt;chr&gt; |\n",
       "|---|---|\n",
       "| 8fc197023652109dcfef894efa26e7ccc04077a4b67b79ccacc5089e9fc06464 | ./liver_DGE.csv                                   |\n",
       "| 17103a26867545a2c0219c16a689868fa8a3ac338b00c64fbcc0ac93a9b2fa11 | ./esophagus_muscularis_DGE.csv                    |\n",
       "| ed3050e5ae8b2564fb04a9761cf300f629d85982874d2e32f263f7b2f08d5fc0 | ./brain_frontal_cortex_ba_9_DGE_ensg_map.csv      |\n",
       "| eb1c7d78388d98a948213356d009b1e3021c956cd0eb5aafaf01fc0792661e64 | ./pituitary_DGE_refined.csv                       |\n",
       "| 402b609deee419ec9c2bdc107d298d04814ca7fae3d6dd9f877b70bff6dbf088 | ./brain_cortex_DGE_refined.csv                    |\n",
       "| 2e10a4bdc3fa4a080346dad337cfd1daa130515a89b50d300ce4cd01f748606d | ./liver_DGE_ensg_map.csv                          |\n",
       "| 69681daa192eba6eacec2a9e8b8eee0ea76dc7da89eb1ff6e84ba7838641c886 | ./esophagus_muscularis_DGE_ensg_map.csv           |\n",
       "| e6edcdb4c192ca3ab182193f5367460a05aedb6f4530a13e6babcfe44425e3c5 | ./whole_blood_DGE_refined.csv                     |\n",
       "| fa43df9e4591a05e3f0592f4d9e1f9db9afdab1820ce8518500b0cf84e626068 | ./heart_atrial_appendage_DGE.csv                  |\n",
       "| 3cf74d1a65cfd4dd9c450b9c5f46467eb4e3a440a3a8e9b2eaeac43d7a81320d | ./nerve_tibial_DGE_ensg_map.csv                   |\n",
       "| f61fd14147a22b6b6971a4365c609b4375c0f50df3dd50e5b1ae25d55ea90c20 | ./heart_atrial_appendage_DGE_refined.csv          |\n",
       "| 73a9486588ae03716e14a99c507f14044604cc22c68da5e43bfa2136dc79780c | ./artery_tibial_DGE.csv                           |\n",
       "| 52762ab7243a6450f74de24f84197b6ff4b3e1090693ba0931d7e0e0a843a160 | ./brain_spinal_cord_cervical_c_1_DGE_refined.csv  |\n",
       "| 1d057b2b0283a0f2541219ee1c3cb83c1e2aa650d007c04c8cd3bc39493e7bd0 | ./rmats_final.ri.jc.skiplen.txt.gz                |\n",
       "| d802915847965a30ca0c8d6486dc4c8c5a64984c11aadeee8eb1d8484ba0b248 | ./rmats_final.se.jc.inc.txt.gz                    |\n",
       "| 49665e3284e88bd05117e891a0c437d811d796ee3ed10e5239a6dd5c491324eb | ./brain_hypothalamus_DGE_ensg_map.csv             |\n",
       "| d5199ed895e35002ab8a30db9f61abf2a294ae865e85201a4dc7526cb7003b7b | ./rmats_final.ri.jc.sjc.txt.gz                    |\n",
       "| b9886b1e4f50d35fc9e92d25933b901d66eab22e7f48d87c2ddc18d6379e9d9e | ./brain_spinal_cord_cervical_c_1_DGE_ensg_map.csv |\n",
       "| 85acd073d8742ef4a680a10ed509ccf6779f9fbfa86fb3fd2c5629ddfa7094dd | ./rmats_final.a5ss.jc.skiplen.txt.gz              |\n",
       "| a91bad3e255bf8958176b6f49534cf6e78ae918a932b2c54585b99be66e33bbb | ./spleen_DGE_ensg_map.csv                         |\n",
       "| 888af319f2a80d4270206bdea66bc6616b5955025896270bb38ceb52dff81a9f | ./pancreas_DGE_refined.csv                        |\n",
       "| 0c97882c7711eefe187bfff5014e0899f50ffa591d85e5a44e75ef8c82ae8458 | ./brain_hippocampus_DGE_ensg_map.csv              |\n",
       "| a9ecc26293834534e3cd101fe5e0e7cf8a4417aee241542bb7bed302dcdd6acf | ./brain_cortex_DGE_ensg_map.csv                   |\n",
       "| 498da21b7121fc61a1fa54f7754257b88320fb7e914cac9298da563270fd18d9 | ./thyroid_DGE_ensg_map.csv                        |\n",
       "| f1cce0ddff847545e68bf9971c9e16e6959df156c3bc83d6ec262bd0e509e526 | ./rmats_final.ri.jc.inclen.txt.gz                 |\n",
       "| 3334227d90b52ba7e39c2f2bebd6166a9f09ac80d46f72f3ab309b0eb6518bed | ./._fromGTF.SE.txt                                |\n",
       "| 1f33caf1eb8e32ff9237323fecaf0f5460cc940cff73fde05798920eef516eb8 | ./spleen_DGE_refined.csv                          |\n",
       "| 224a5abf62d4c3b6c5c0a0b31903e1929ea64597aa57913b0cc8b6c3f97fb638 | ./differentialGeneExpression_sha256sums.txt       |\n",
       "| 4ccc66d7536adcfeb713344096f4d8cbebe996c750c27d79f316d0622cdc348a | ./artery_aorta_DGE_refined.csv                    |\n",
       "| 2b456aa4e56697fd5b693b353dd0fd4c0f13febbd14d206bcda7313c6fd8ad0b | ./brain_putamen_basal_ganglia_DGE_ensg_map.csv    |\n",
       "| ⋮ | ⋮ |\n",
       "| c277ab764b652e8d65e07277df72933fee465806a5e6c1b018509f868ccfddad | ./fromGTF.A5SS.txt                                       |\n",
       "| 1e79cee643afd08b4d8ecade04af5b3392751ad8d4727aebf4f53bc53d2dd191 | ./artery_coronary_DGE_refined.csv                        |\n",
       "| ec941ebc9647caa1ff89e9b9c25fa87fab618865076b8b2794d7f35b8e2fea4d | ./rmats_final.a5ss.jc.sjc.txt.gz                         |\n",
       "| 2e475e31d2a53bf6e7947a0eab7d0a7cb7da84fad3ec9e177f191bc28bd08549 | ./brain_hippocampus_DGE.csv                              |\n",
       "| a2424d8ba1e4752524d36802786d401d70dd4b04501b09f961a69295e08eac47 | ./rmats_final.mxe.jc.inclen.txt.gz                       |\n",
       "| 11b73d5a25dc6667529da47bf5bbfd6aa9f1dedfa628702a3a536d243685904f | ./rmats_final.mxe.jc.ijc.txt.gz                          |\n",
       "| 6295fcac793d3b8051cdbab15d0cf1df4b8ee4e734e259cd4df60ad327ddd2c4 | ./brain_nucleus_accumbens_basal_ganglia_DGE_ensg_map.csv |\n",
       "| 2a59fe59fb90979cb949b7d57dc0d654a0d9f205955ebbcd56f0326702d25293 | ./colon_transverse_DGE.csv                               |\n",
       "| 51c8250a1796196e3879d88186c5450e5b5efc1e9f3fa578f388e9ff380e2deb | ./fromGTF.A3SS.txt                                       |\n",
       "| 7c5097b81f8c0ec949e098bd5d0a9871e28201572c3093341b54284373f067d6 | ./cells_ebv_transformed_lymphocytes_DGE_refined.csv      |\n",
       "| 6a6f8d37dde2716c6289535b2058d68c4959672043fa9c532ef623e91a5a6975 | ./srr_pdata.csv                                          |\n",
       "| 8e0d2b3ad1a91c2c2d1054ea005a8ea9017a09ddd2715006189958e9d15bb983 | ./breast_mammary_tissue_DGE_refined.csv                  |\n",
       "| c966005e2c6da68a9e404f571fee4df1825d4785505e6383c37902e9ee660858 | ./lung_DGE_ensg_map.csv                                  |\n",
       "| 7d9af4be00e3fc69fff562da7f625c2636b2c232ece51a2ba250563cb01b5e51 | ./stomach_DGE_ensg_map.csv                               |\n",
       "| 5cf99b4abc23ce9f5d68fbad06f2c1778da9928df04247ee6a7524b7fa396ce6 | ./rmats_final.se.jc.inclen.txt.gz                        |\n",
       "| 6e254a5c991a72d0f0a8bf7ae08b2e7919d124439505a77dd599e867a84f5203 | ./muscle_skeletal_DGE_ensg_map.csv                       |\n",
       "| 4ad589d8fcf6a88226e61dec1f541f244e60fcb8cbcc2a4bd7d07cdc0ade5274 | ./rmats_final.mxe.jc.inc.txt.gz                          |\n",
       "| 36a1ccb3b178ddb797186cb35450f57ae366ed0a98b6c60edc2d816198cca367 | ./esophagus_gastroesophageal_junction_DGE.csv            |\n",
       "| ab25e2a4253a15b93c6975422fa89bb5e5ab99107e5fe61c58dd664bc5aefb6c | ./nerve_tibial_DGE.csv                                   |\n",
       "| 171965d1f008769a85768fe6a03326756f4cccfddf093841b4cfa0dd9f9c674e | ./rmats_final.mxe.jc.sjc.txt.gz                          |\n",
       "| a7998e56945834f5f8fd8610d8c5c860f10f1875e806040fb7193512fecd404a | ./stomach_DGE.csv                                        |\n",
       "| 16dccf12f585a5d6a1341b2ee7bf499d39ac336e22d07d460ba7e562715b16e4 | ./._fromGTF.A3SS.txt                                     |\n",
       "| 5bc883569c55435d47bd046d42fef0cd57030f5365bbf2a595027746b79de6fe | ./nerve_tibial_DGE_refined.csv                           |\n",
       "| 864b71659f8c3efadf29966b83a45f500fba3d73d991949d9e5ab4d0220f5eb4 | ./brain_hypothalamus_DGE_refined.csv                     |\n",
       "| 70ef11e73aafd8d8b98d6293523c0ca3404ba37af27820695bfb35014d19934b | ./esophagus_gastroesophageal_junction_DGE_refined.csv    |\n",
       "| 1e94bb3d6b35e3f3ee63cecb696753e5baa7d46ca19839de650bbcc6cf255c00 | ./stomach_DGE_refined.csv                                |\n",
       "| d05106029edb62b272d85553badb6156eb092aada4bcda54e0211b9464fb746a | ./cells_cultured_fibroblasts_DGE_refined.csv             |\n",
       "| 5b347c351c6afcf9467b3b9db70c5294b667076825987dfe989f35a2d8293b99 | ./small_intestine_terminal_ileum_DGE_refined.csv         |\n",
       "| d28fe907bbe2fe9ea999011cee177af560b3c3bbc43eff347ac4ea2d1909c66e | ./adipose_visceral_omentum_DGE_ensg_map.csv              |\n",
       "| 85dd8c5dc795d77f3dffd3921163552dff9bab5358ebd20151b850f504bc0263 | ./lung_DGE.csv                                           |\n",
       "\n"
      ],
      "text/plain": [
       "    sha256sum                                                       \n",
       "1   8fc197023652109dcfef894efa26e7ccc04077a4b67b79ccacc5089e9fc06464\n",
       "2   17103a26867545a2c0219c16a689868fa8a3ac338b00c64fbcc0ac93a9b2fa11\n",
       "3   ed3050e5ae8b2564fb04a9761cf300f629d85982874d2e32f263f7b2f08d5fc0\n",
       "4   eb1c7d78388d98a948213356d009b1e3021c956cd0eb5aafaf01fc0792661e64\n",
       "5   402b609deee419ec9c2bdc107d298d04814ca7fae3d6dd9f877b70bff6dbf088\n",
       "6   2e10a4bdc3fa4a080346dad337cfd1daa130515a89b50d300ce4cd01f748606d\n",
       "7   69681daa192eba6eacec2a9e8b8eee0ea76dc7da89eb1ff6e84ba7838641c886\n",
       "8   e6edcdb4c192ca3ab182193f5367460a05aedb6f4530a13e6babcfe44425e3c5\n",
       "9   fa43df9e4591a05e3f0592f4d9e1f9db9afdab1820ce8518500b0cf84e626068\n",
       "10  3cf74d1a65cfd4dd9c450b9c5f46467eb4e3a440a3a8e9b2eaeac43d7a81320d\n",
       "11  f61fd14147a22b6b6971a4365c609b4375c0f50df3dd50e5b1ae25d55ea90c20\n",
       "12  73a9486588ae03716e14a99c507f14044604cc22c68da5e43bfa2136dc79780c\n",
       "13  52762ab7243a6450f74de24f84197b6ff4b3e1090693ba0931d7e0e0a843a160\n",
       "14  1d057b2b0283a0f2541219ee1c3cb83c1e2aa650d007c04c8cd3bc39493e7bd0\n",
       "15  d802915847965a30ca0c8d6486dc4c8c5a64984c11aadeee8eb1d8484ba0b248\n",
       "16  49665e3284e88bd05117e891a0c437d811d796ee3ed10e5239a6dd5c491324eb\n",
       "17  d5199ed895e35002ab8a30db9f61abf2a294ae865e85201a4dc7526cb7003b7b\n",
       "18  b9886b1e4f50d35fc9e92d25933b901d66eab22e7f48d87c2ddc18d6379e9d9e\n",
       "19  85acd073d8742ef4a680a10ed509ccf6779f9fbfa86fb3fd2c5629ddfa7094dd\n",
       "20  a91bad3e255bf8958176b6f49534cf6e78ae918a932b2c54585b99be66e33bbb\n",
       "21  888af319f2a80d4270206bdea66bc6616b5955025896270bb38ceb52dff81a9f\n",
       "22  0c97882c7711eefe187bfff5014e0899f50ffa591d85e5a44e75ef8c82ae8458\n",
       "23  a9ecc26293834534e3cd101fe5e0e7cf8a4417aee241542bb7bed302dcdd6acf\n",
       "24  498da21b7121fc61a1fa54f7754257b88320fb7e914cac9298da563270fd18d9\n",
       "25  f1cce0ddff847545e68bf9971c9e16e6959df156c3bc83d6ec262bd0e509e526\n",
       "26  3334227d90b52ba7e39c2f2bebd6166a9f09ac80d46f72f3ab309b0eb6518bed\n",
       "27  1f33caf1eb8e32ff9237323fecaf0f5460cc940cff73fde05798920eef516eb8\n",
       "28  224a5abf62d4c3b6c5c0a0b31903e1929ea64597aa57913b0cc8b6c3f97fb638\n",
       "29  4ccc66d7536adcfeb713344096f4d8cbebe996c750c27d79f316d0622cdc348a\n",
       "30  2b456aa4e56697fd5b693b353dd0fd4c0f13febbd14d206bcda7313c6fd8ad0b\n",
       "⋮   ⋮                                                               \n",
       "127 c277ab764b652e8d65e07277df72933fee465806a5e6c1b018509f868ccfddad\n",
       "128 1e79cee643afd08b4d8ecade04af5b3392751ad8d4727aebf4f53bc53d2dd191\n",
       "129 ec941ebc9647caa1ff89e9b9c25fa87fab618865076b8b2794d7f35b8e2fea4d\n",
       "130 2e475e31d2a53bf6e7947a0eab7d0a7cb7da84fad3ec9e177f191bc28bd08549\n",
       "131 a2424d8ba1e4752524d36802786d401d70dd4b04501b09f961a69295e08eac47\n",
       "132 11b73d5a25dc6667529da47bf5bbfd6aa9f1dedfa628702a3a536d243685904f\n",
       "133 6295fcac793d3b8051cdbab15d0cf1df4b8ee4e734e259cd4df60ad327ddd2c4\n",
       "134 2a59fe59fb90979cb949b7d57dc0d654a0d9f205955ebbcd56f0326702d25293\n",
       "135 51c8250a1796196e3879d88186c5450e5b5efc1e9f3fa578f388e9ff380e2deb\n",
       "136 7c5097b81f8c0ec949e098bd5d0a9871e28201572c3093341b54284373f067d6\n",
       "137 6a6f8d37dde2716c6289535b2058d68c4959672043fa9c532ef623e91a5a6975\n",
       "138 8e0d2b3ad1a91c2c2d1054ea005a8ea9017a09ddd2715006189958e9d15bb983\n",
       "139 c966005e2c6da68a9e404f571fee4df1825d4785505e6383c37902e9ee660858\n",
       "140 7d9af4be00e3fc69fff562da7f625c2636b2c232ece51a2ba250563cb01b5e51\n",
       "141 5cf99b4abc23ce9f5d68fbad06f2c1778da9928df04247ee6a7524b7fa396ce6\n",
       "142 6e254a5c991a72d0f0a8bf7ae08b2e7919d124439505a77dd599e867a84f5203\n",
       "143 4ad589d8fcf6a88226e61dec1f541f244e60fcb8cbcc2a4bd7d07cdc0ade5274\n",
       "144 36a1ccb3b178ddb797186cb35450f57ae366ed0a98b6c60edc2d816198cca367\n",
       "145 ab25e2a4253a15b93c6975422fa89bb5e5ab99107e5fe61c58dd664bc5aefb6c\n",
       "146 171965d1f008769a85768fe6a03326756f4cccfddf093841b4cfa0dd9f9c674e\n",
       "147 a7998e56945834f5f8fd8610d8c5c860f10f1875e806040fb7193512fecd404a\n",
       "148 16dccf12f585a5d6a1341b2ee7bf499d39ac336e22d07d460ba7e562715b16e4\n",
       "149 5bc883569c55435d47bd046d42fef0cd57030f5365bbf2a595027746b79de6fe\n",
       "150 864b71659f8c3efadf29966b83a45f500fba3d73d991949d9e5ab4d0220f5eb4\n",
       "151 70ef11e73aafd8d8b98d6293523c0ca3404ba37af27820695bfb35014d19934b\n",
       "152 1e94bb3d6b35e3f3ee63cecb696753e5baa7d46ca19839de650bbcc6cf255c00\n",
       "153 d05106029edb62b272d85553badb6156eb092aada4bcda54e0211b9464fb746a\n",
       "154 5b347c351c6afcf9467b3b9db70c5294b667076825987dfe989f35a2d8293b99\n",
       "155 d28fe907bbe2fe9ea999011cee177af560b3c3bbc43eff347ac4ea2d1909c66e\n",
       "156 85dd8c5dc795d77f3dffd3921163552dff9bab5358ebd20151b850f504bc0263\n",
       "    file                                                    \n",
       "1   ./liver_DGE.csv                                         \n",
       "2   ./esophagus_muscularis_DGE.csv                          \n",
       "3   ./brain_frontal_cortex_ba_9_DGE_ensg_map.csv            \n",
       "4   ./pituitary_DGE_refined.csv                             \n",
       "5   ./brain_cortex_DGE_refined.csv                          \n",
       "6   ./liver_DGE_ensg_map.csv                                \n",
       "7   ./esophagus_muscularis_DGE_ensg_map.csv                 \n",
       "8   ./whole_blood_DGE_refined.csv                           \n",
       "9   ./heart_atrial_appendage_DGE.csv                        \n",
       "10  ./nerve_tibial_DGE_ensg_map.csv                         \n",
       "11  ./heart_atrial_appendage_DGE_refined.csv                \n",
       "12  ./artery_tibial_DGE.csv                                 \n",
       "13  ./brain_spinal_cord_cervical_c_1_DGE_refined.csv        \n",
       "14  ./rmats_final.ri.jc.skiplen.txt.gz                      \n",
       "15  ./rmats_final.se.jc.inc.txt.gz                          \n",
       "16  ./brain_hypothalamus_DGE_ensg_map.csv                   \n",
       "17  ./rmats_final.ri.jc.sjc.txt.gz                          \n",
       "18  ./brain_spinal_cord_cervical_c_1_DGE_ensg_map.csv       \n",
       "19  ./rmats_final.a5ss.jc.skiplen.txt.gz                    \n",
       "20  ./spleen_DGE_ensg_map.csv                               \n",
       "21  ./pancreas_DGE_refined.csv                              \n",
       "22  ./brain_hippocampus_DGE_ensg_map.csv                    \n",
       "23  ./brain_cortex_DGE_ensg_map.csv                         \n",
       "24  ./thyroid_DGE_ensg_map.csv                              \n",
       "25  ./rmats_final.ri.jc.inclen.txt.gz                       \n",
       "26  ./._fromGTF.SE.txt                                      \n",
       "27  ./spleen_DGE_refined.csv                                \n",
       "28  ./differentialGeneExpression_sha256sums.txt             \n",
       "29  ./artery_aorta_DGE_refined.csv                          \n",
       "30  ./brain_putamen_basal_ganglia_DGE_ensg_map.csv          \n",
       "⋮   ⋮                                                       \n",
       "127 ./fromGTF.A5SS.txt                                      \n",
       "128 ./artery_coronary_DGE_refined.csv                       \n",
       "129 ./rmats_final.a5ss.jc.sjc.txt.gz                        \n",
       "130 ./brain_hippocampus_DGE.csv                             \n",
       "131 ./rmats_final.mxe.jc.inclen.txt.gz                      \n",
       "132 ./rmats_final.mxe.jc.ijc.txt.gz                         \n",
       "133 ./brain_nucleus_accumbens_basal_ganglia_DGE_ensg_map.csv\n",
       "134 ./colon_transverse_DGE.csv                              \n",
       "135 ./fromGTF.A3SS.txt                                      \n",
       "136 ./cells_ebv_transformed_lymphocytes_DGE_refined.csv     \n",
       "137 ./srr_pdata.csv                                         \n",
       "138 ./breast_mammary_tissue_DGE_refined.csv                 \n",
       "139 ./lung_DGE_ensg_map.csv                                 \n",
       "140 ./stomach_DGE_ensg_map.csv                              \n",
       "141 ./rmats_final.se.jc.inclen.txt.gz                       \n",
       "142 ./muscle_skeletal_DGE_ensg_map.csv                      \n",
       "143 ./rmats_final.mxe.jc.inc.txt.gz                         \n",
       "144 ./esophagus_gastroesophageal_junction_DGE.csv           \n",
       "145 ./nerve_tibial_DGE.csv                                  \n",
       "146 ./rmats_final.mxe.jc.sjc.txt.gz                         \n",
       "147 ./stomach_DGE.csv                                       \n",
       "148 ./._fromGTF.A3SS.txt                                    \n",
       "149 ./nerve_tibial_DGE_refined.csv                          \n",
       "150 ./brain_hypothalamus_DGE_refined.csv                    \n",
       "151 ./esophagus_gastroesophageal_junction_DGE_refined.csv   \n",
       "152 ./stomach_DGE_refined.csv                               \n",
       "153 ./cells_cultured_fibroblasts_DGE_refined.csv            \n",
       "154 ./small_intestine_terminal_ileum_DGE_refined.csv        \n",
       "155 ./adipose_visceral_omentum_DGE_ensg_map.csv             \n",
       "156 ./lung_DGE.csv                                          "
      ]
     },
     "metadata": {},
     "output_type": "display_data"
    }
   ],
   "source": [
    "figure_id   = \"differentialGeneExpression\"\n",
    "\n",
    "message(\"Generating sha256 checksums of the artefacts in the `..data/` directory .. \")\n",
    "system(paste0(\"cd ../data && find . -type f -exec sha256sum {} \\\\;  >  ../data/\", figure_id, \"_sha256sums.txt\"), intern = TRUE)\n",
    "message(\"Done!\\n\")\n",
    "\n",
    "data.table::fread(paste0(\"../data/\", figure_id, \"_sha256sums.txt\"), header = FALSE, col.names = c(\"sha256sum\", \"file\"))"
   ]
  },
  {
   "cell_type": "markdown",
   "id": "be5c702d",
   "metadata": {
    "papermill": {
     "duration": 0.026816,
     "end_time": "2021-09-23T15:06:51.195006",
     "exception": false,
     "start_time": "2021-09-23T15:06:51.168190",
     "status": "completed"
    },
    "tags": []
   },
   "source": [
    "### Appendix - 2. Library Session Information"
   ]
  },
  {
   "cell_type": "code",
   "execution_count": 11,
   "id": "2fe652dc",
   "metadata": {
    "execution": {
     "iopub.execute_input": "2021-09-23T15:06:51.254013Z",
     "iopub.status.busy": "2021-09-23T15:06:51.252648Z",
     "iopub.status.idle": "2021-09-23T15:06:52.202345Z",
     "shell.execute_reply": "2021-09-23T15:06:52.201035Z"
    },
    "lines_to_next_cell": 0,
    "papermill": {
     "duration": 0.979978,
     "end_time": "2021-09-23T15:06:52.202468",
     "exception": false,
     "start_time": "2021-09-23T15:06:51.222490",
     "status": "completed"
    },
    "tags": []
   },
   "outputs": [
    {
     "name": "stderr",
     "output_type": "stream",
     "text": [
      "Saving `devtools::session_info()` objects in ../data/devtools_session_info.rds  ..\n",
      "\n"
     ]
    },
    {
     "name": "stderr",
     "output_type": "stream",
     "text": [
      "Done!\n",
      "\n",
      "\n"
     ]
    },
    {
     "name": "stderr",
     "output_type": "stream",
     "text": [
      "Saving `utils::sessionInfo()` objects in ../data/utils_session_info.rds  ..\n",
      "\n"
     ]
    },
    {
     "name": "stderr",
     "output_type": "stream",
     "text": [
      "Done!\n",
      "\n",
      "\n"
     ]
    },
    {
     "data": {
      "text/plain": [
       " setting  value                       \n",
       " version  R version 4.1.1 (2021-08-10)\n",
       " os       Ubuntu 18.04.4 LTS          \n",
       " system   x86_64, linux-gnu           \n",
       " ui       X11                         \n",
       " language en_US.UTF-8                 \n",
       " collate  en_US.UTF-8                 \n",
       " ctype    en_US.UTF-8                 \n",
       " tz       Etc/UTC                     \n",
       " date     2021-09-23                  "
      ]
     },
     "metadata": {},
     "output_type": "display_data"
    },
    {
     "data": {
      "text/html": [
       "<table class=\"dataframe\">\n",
       "<caption>A packages_info: 12 × 11</caption>\n",
       "<thead>\n",
       "\t<tr><th></th><th scope=col>package</th><th scope=col>ondiskversion</th><th scope=col>loadedversion</th><th scope=col>path</th><th scope=col>loadedpath</th><th scope=col>attached</th><th scope=col>is_base</th><th scope=col>date</th><th scope=col>source</th><th scope=col>md5ok</th><th scope=col>library</th></tr>\n",
       "\t<tr><th></th><th scope=col>&lt;chr&gt;</th><th scope=col>&lt;chr&gt;</th><th scope=col>&lt;chr&gt;</th><th scope=col>&lt;chr&gt;</th><th scope=col>&lt;chr&gt;</th><th scope=col>&lt;lgl&gt;</th><th scope=col>&lt;lgl&gt;</th><th scope=col>&lt;chr&gt;</th><th scope=col>&lt;chr&gt;</th><th scope=col>&lt;lgl&gt;</th><th scope=col>&lt;fct&gt;</th></tr>\n",
       "</thead>\n",
       "<tbody>\n",
       "\t<tr><th scope=row>Biobase</th><td>Biobase     </td><td>2.52.0</td><td>2.52.0</td><td>/opt/conda/envs/sbas/lib/R/library/Biobase     </td><td>/opt/conda/envs/sbas/lib/R/library/Biobase     </td><td>TRUE</td><td>FALSE</td><td>2021-05-19</td><td>Bioconductor  </td><td>NA</td><td>/opt/conda/envs/sbas/lib/R/library</td></tr>\n",
       "\t<tr><th scope=row>BiocGenerics</th><td>BiocGenerics</td><td>0.38.0</td><td>0.38.0</td><td>/opt/conda/envs/sbas/lib/R/library/BiocGenerics</td><td>/opt/conda/envs/sbas/lib/R/library/BiocGenerics</td><td>TRUE</td><td>FALSE</td><td>2021-05-19</td><td>Bioconductor  </td><td>NA</td><td>/opt/conda/envs/sbas/lib/R/library</td></tr>\n",
       "\t<tr><th scope=row>downloader</th><td>downloader  </td><td>0.4   </td><td>0.4   </td><td>/opt/conda/envs/sbas/lib/R/library/downloader  </td><td>/opt/conda/envs/sbas/lib/R/library/downloader  </td><td>TRUE</td><td>FALSE</td><td>2015-07-09</td><td>CRAN (R 4.1.0)</td><td>NA</td><td>/opt/conda/envs/sbas/lib/R/library</td></tr>\n",
       "\t<tr><th scope=row>dplyr</th><td>dplyr       </td><td>1.0.7 </td><td>1.0.7 </td><td>/opt/conda/envs/sbas/lib/R/library/dplyr       </td><td>/opt/conda/envs/sbas/lib/R/library/dplyr       </td><td>TRUE</td><td>FALSE</td><td>2021-06-18</td><td>CRAN (R 4.1.0)</td><td>NA</td><td>/opt/conda/envs/sbas/lib/R/library</td></tr>\n",
       "\t<tr><th scope=row>edgeR</th><td>edgeR       </td><td>3.34.0</td><td>3.34.0</td><td>/opt/conda/envs/sbas/lib/R/library/edgeR       </td><td>/opt/conda/envs/sbas/lib/R/library/edgeR       </td><td>TRUE</td><td>FALSE</td><td>2021-05-19</td><td>Bioconductor  </td><td>NA</td><td>/opt/conda/envs/sbas/lib/R/library</td></tr>\n",
       "\t<tr><th scope=row>gprofiler2</th><td>gprofiler2  </td><td>0.2.1 </td><td>0.2.1 </td><td>/opt/conda/envs/sbas/lib/R/library/gprofiler2  </td><td>/opt/conda/envs/sbas/lib/R/library/gprofiler2  </td><td>TRUE</td><td>FALSE</td><td>2021-08-23</td><td>CRAN (R 4.1.1)</td><td>NA</td><td>/opt/conda/envs/sbas/lib/R/library</td></tr>\n",
       "\t<tr><th scope=row>limma</th><td>limma       </td><td>3.48.0</td><td>3.48.0</td><td>/opt/conda/envs/sbas/lib/R/library/limma       </td><td>/opt/conda/envs/sbas/lib/R/library/limma       </td><td>TRUE</td><td>FALSE</td><td>2021-05-19</td><td>Bioconductor  </td><td>NA</td><td>/opt/conda/envs/sbas/lib/R/library</td></tr>\n",
       "\t<tr><th scope=row>multtest</th><td>multtest    </td><td>2.48.0</td><td>2.48.0</td><td>/opt/conda/envs/sbas/lib/R/library/multtest    </td><td>/opt/conda/envs/sbas/lib/R/library/multtest    </td><td>TRUE</td><td>FALSE</td><td>2021-05-19</td><td>Bioconductor  </td><td>NA</td><td>/opt/conda/envs/sbas/lib/R/library</td></tr>\n",
       "\t<tr><th scope=row>readr</th><td>readr       </td><td>2.0.1 </td><td>2.0.1 </td><td>/opt/conda/envs/sbas/lib/R/library/readr       </td><td>/opt/conda/envs/sbas/lib/R/library/readr       </td><td>TRUE</td><td>FALSE</td><td>2021-08-10</td><td>CRAN (R 4.1.1)</td><td>NA</td><td>/opt/conda/envs/sbas/lib/R/library</td></tr>\n",
       "\t<tr><th scope=row>snakecase</th><td>snakecase   </td><td>0.11.0</td><td>0.11.0</td><td>/opt/conda/envs/sbas/lib/R/library/snakecase   </td><td>/opt/conda/envs/sbas/lib/R/library/snakecase   </td><td>TRUE</td><td>FALSE</td><td>2019-05-25</td><td>CRAN (R 4.1.0)</td><td>NA</td><td>/opt/conda/envs/sbas/lib/R/library</td></tr>\n",
       "\t<tr><th scope=row>statmod</th><td>statmod     </td><td>1.4.36</td><td>1.4.36</td><td>/opt/conda/envs/sbas/lib/R/library/statmod     </td><td>/opt/conda/envs/sbas/lib/R/library/statmod     </td><td>TRUE</td><td>FALSE</td><td>2021-05-10</td><td>CRAN (R 4.1.0)</td><td>NA</td><td>/opt/conda/envs/sbas/lib/R/library</td></tr>\n",
       "\t<tr><th scope=row>stringi</th><td>stringi     </td><td>1.7.4 </td><td>1.7.4 </td><td>/opt/conda/envs/sbas/lib/R/library/stringi     </td><td>/opt/conda/envs/sbas/lib/R/library/stringi     </td><td>TRUE</td><td>FALSE</td><td>2021-08-25</td><td>CRAN (R 4.1.1)</td><td>NA</td><td>/opt/conda/envs/sbas/lib/R/library</td></tr>\n",
       "</tbody>\n",
       "</table>\n"
      ],
      "text/latex": [
       "A packages\\_info: 12 × 11\n",
       "\\begin{tabular}{r|lllllllllll}\n",
       "  & package & ondiskversion & loadedversion & path & loadedpath & attached & is\\_base & date & source & md5ok & library\\\\\n",
       "  & <chr> & <chr> & <chr> & <chr> & <chr> & <lgl> & <lgl> & <chr> & <chr> & <lgl> & <fct>\\\\\n",
       "\\hline\n",
       "\tBiobase & Biobase      & 2.52.0 & 2.52.0 & /opt/conda/envs/sbas/lib/R/library/Biobase      & /opt/conda/envs/sbas/lib/R/library/Biobase      & TRUE & FALSE & 2021-05-19 & Bioconductor   & NA & /opt/conda/envs/sbas/lib/R/library\\\\\n",
       "\tBiocGenerics & BiocGenerics & 0.38.0 & 0.38.0 & /opt/conda/envs/sbas/lib/R/library/BiocGenerics & /opt/conda/envs/sbas/lib/R/library/BiocGenerics & TRUE & FALSE & 2021-05-19 & Bioconductor   & NA & /opt/conda/envs/sbas/lib/R/library\\\\\n",
       "\tdownloader & downloader   & 0.4    & 0.4    & /opt/conda/envs/sbas/lib/R/library/downloader   & /opt/conda/envs/sbas/lib/R/library/downloader   & TRUE & FALSE & 2015-07-09 & CRAN (R 4.1.0) & NA & /opt/conda/envs/sbas/lib/R/library\\\\\n",
       "\tdplyr & dplyr        & 1.0.7  & 1.0.7  & /opt/conda/envs/sbas/lib/R/library/dplyr        & /opt/conda/envs/sbas/lib/R/library/dplyr        & TRUE & FALSE & 2021-06-18 & CRAN (R 4.1.0) & NA & /opt/conda/envs/sbas/lib/R/library\\\\\n",
       "\tedgeR & edgeR        & 3.34.0 & 3.34.0 & /opt/conda/envs/sbas/lib/R/library/edgeR        & /opt/conda/envs/sbas/lib/R/library/edgeR        & TRUE & FALSE & 2021-05-19 & Bioconductor   & NA & /opt/conda/envs/sbas/lib/R/library\\\\\n",
       "\tgprofiler2 & gprofiler2   & 0.2.1  & 0.2.1  & /opt/conda/envs/sbas/lib/R/library/gprofiler2   & /opt/conda/envs/sbas/lib/R/library/gprofiler2   & TRUE & FALSE & 2021-08-23 & CRAN (R 4.1.1) & NA & /opt/conda/envs/sbas/lib/R/library\\\\\n",
       "\tlimma & limma        & 3.48.0 & 3.48.0 & /opt/conda/envs/sbas/lib/R/library/limma        & /opt/conda/envs/sbas/lib/R/library/limma        & TRUE & FALSE & 2021-05-19 & Bioconductor   & NA & /opt/conda/envs/sbas/lib/R/library\\\\\n",
       "\tmulttest & multtest     & 2.48.0 & 2.48.0 & /opt/conda/envs/sbas/lib/R/library/multtest     & /opt/conda/envs/sbas/lib/R/library/multtest     & TRUE & FALSE & 2021-05-19 & Bioconductor   & NA & /opt/conda/envs/sbas/lib/R/library\\\\\n",
       "\treadr & readr        & 2.0.1  & 2.0.1  & /opt/conda/envs/sbas/lib/R/library/readr        & /opt/conda/envs/sbas/lib/R/library/readr        & TRUE & FALSE & 2021-08-10 & CRAN (R 4.1.1) & NA & /opt/conda/envs/sbas/lib/R/library\\\\\n",
       "\tsnakecase & snakecase    & 0.11.0 & 0.11.0 & /opt/conda/envs/sbas/lib/R/library/snakecase    & /opt/conda/envs/sbas/lib/R/library/snakecase    & TRUE & FALSE & 2019-05-25 & CRAN (R 4.1.0) & NA & /opt/conda/envs/sbas/lib/R/library\\\\\n",
       "\tstatmod & statmod      & 1.4.36 & 1.4.36 & /opt/conda/envs/sbas/lib/R/library/statmod      & /opt/conda/envs/sbas/lib/R/library/statmod      & TRUE & FALSE & 2021-05-10 & CRAN (R 4.1.0) & NA & /opt/conda/envs/sbas/lib/R/library\\\\\n",
       "\tstringi & stringi      & 1.7.4  & 1.7.4  & /opt/conda/envs/sbas/lib/R/library/stringi      & /opt/conda/envs/sbas/lib/R/library/stringi      & TRUE & FALSE & 2021-08-25 & CRAN (R 4.1.1) & NA & /opt/conda/envs/sbas/lib/R/library\\\\\n",
       "\\end{tabular}\n"
      ],
      "text/markdown": [
       "\n",
       "A packages_info: 12 × 11\n",
       "\n",
       "| <!--/--> | package &lt;chr&gt; | ondiskversion &lt;chr&gt; | loadedversion &lt;chr&gt; | path &lt;chr&gt; | loadedpath &lt;chr&gt; | attached &lt;lgl&gt; | is_base &lt;lgl&gt; | date &lt;chr&gt; | source &lt;chr&gt; | md5ok &lt;lgl&gt; | library &lt;fct&gt; |\n",
       "|---|---|---|---|---|---|---|---|---|---|---|---|\n",
       "| Biobase | Biobase      | 2.52.0 | 2.52.0 | /opt/conda/envs/sbas/lib/R/library/Biobase      | /opt/conda/envs/sbas/lib/R/library/Biobase      | TRUE | FALSE | 2021-05-19 | Bioconductor   | NA | /opt/conda/envs/sbas/lib/R/library |\n",
       "| BiocGenerics | BiocGenerics | 0.38.0 | 0.38.0 | /opt/conda/envs/sbas/lib/R/library/BiocGenerics | /opt/conda/envs/sbas/lib/R/library/BiocGenerics | TRUE | FALSE | 2021-05-19 | Bioconductor   | NA | /opt/conda/envs/sbas/lib/R/library |\n",
       "| downloader | downloader   | 0.4    | 0.4    | /opt/conda/envs/sbas/lib/R/library/downloader   | /opt/conda/envs/sbas/lib/R/library/downloader   | TRUE | FALSE | 2015-07-09 | CRAN (R 4.1.0) | NA | /opt/conda/envs/sbas/lib/R/library |\n",
       "| dplyr | dplyr        | 1.0.7  | 1.0.7  | /opt/conda/envs/sbas/lib/R/library/dplyr        | /opt/conda/envs/sbas/lib/R/library/dplyr        | TRUE | FALSE | 2021-06-18 | CRAN (R 4.1.0) | NA | /opt/conda/envs/sbas/lib/R/library |\n",
       "| edgeR | edgeR        | 3.34.0 | 3.34.0 | /opt/conda/envs/sbas/lib/R/library/edgeR        | /opt/conda/envs/sbas/lib/R/library/edgeR        | TRUE | FALSE | 2021-05-19 | Bioconductor   | NA | /opt/conda/envs/sbas/lib/R/library |\n",
       "| gprofiler2 | gprofiler2   | 0.2.1  | 0.2.1  | /opt/conda/envs/sbas/lib/R/library/gprofiler2   | /opt/conda/envs/sbas/lib/R/library/gprofiler2   | TRUE | FALSE | 2021-08-23 | CRAN (R 4.1.1) | NA | /opt/conda/envs/sbas/lib/R/library |\n",
       "| limma | limma        | 3.48.0 | 3.48.0 | /opt/conda/envs/sbas/lib/R/library/limma        | /opt/conda/envs/sbas/lib/R/library/limma        | TRUE | FALSE | 2021-05-19 | Bioconductor   | NA | /opt/conda/envs/sbas/lib/R/library |\n",
       "| multtest | multtest     | 2.48.0 | 2.48.0 | /opt/conda/envs/sbas/lib/R/library/multtest     | /opt/conda/envs/sbas/lib/R/library/multtest     | TRUE | FALSE | 2021-05-19 | Bioconductor   | NA | /opt/conda/envs/sbas/lib/R/library |\n",
       "| readr | readr        | 2.0.1  | 2.0.1  | /opt/conda/envs/sbas/lib/R/library/readr        | /opt/conda/envs/sbas/lib/R/library/readr        | TRUE | FALSE | 2021-08-10 | CRAN (R 4.1.1) | NA | /opt/conda/envs/sbas/lib/R/library |\n",
       "| snakecase | snakecase    | 0.11.0 | 0.11.0 | /opt/conda/envs/sbas/lib/R/library/snakecase    | /opt/conda/envs/sbas/lib/R/library/snakecase    | TRUE | FALSE | 2019-05-25 | CRAN (R 4.1.0) | NA | /opt/conda/envs/sbas/lib/R/library |\n",
       "| statmod | statmod      | 1.4.36 | 1.4.36 | /opt/conda/envs/sbas/lib/R/library/statmod      | /opt/conda/envs/sbas/lib/R/library/statmod      | TRUE | FALSE | 2021-05-10 | CRAN (R 4.1.0) | NA | /opt/conda/envs/sbas/lib/R/library |\n",
       "| stringi | stringi      | 1.7.4  | 1.7.4  | /opt/conda/envs/sbas/lib/R/library/stringi      | /opt/conda/envs/sbas/lib/R/library/stringi      | TRUE | FALSE | 2021-08-25 | CRAN (R 4.1.1) | NA | /opt/conda/envs/sbas/lib/R/library |\n",
       "\n"
      ],
      "text/plain": [
       "             package      ondiskversion loadedversion\n",
       "Biobase      Biobase      2.52.0        2.52.0       \n",
       "BiocGenerics BiocGenerics 0.38.0        0.38.0       \n",
       "downloader   downloader   0.4           0.4          \n",
       "dplyr        dplyr        1.0.7         1.0.7        \n",
       "edgeR        edgeR        3.34.0        3.34.0       \n",
       "gprofiler2   gprofiler2   0.2.1         0.2.1        \n",
       "limma        limma        3.48.0        3.48.0       \n",
       "multtest     multtest     2.48.0        2.48.0       \n",
       "readr        readr        2.0.1         2.0.1        \n",
       "snakecase    snakecase    0.11.0        0.11.0       \n",
       "statmod      statmod      1.4.36        1.4.36       \n",
       "stringi      stringi      1.7.4         1.7.4        \n",
       "             path                                           \n",
       "Biobase      /opt/conda/envs/sbas/lib/R/library/Biobase     \n",
       "BiocGenerics /opt/conda/envs/sbas/lib/R/library/BiocGenerics\n",
       "downloader   /opt/conda/envs/sbas/lib/R/library/downloader  \n",
       "dplyr        /opt/conda/envs/sbas/lib/R/library/dplyr       \n",
       "edgeR        /opt/conda/envs/sbas/lib/R/library/edgeR       \n",
       "gprofiler2   /opt/conda/envs/sbas/lib/R/library/gprofiler2  \n",
       "limma        /opt/conda/envs/sbas/lib/R/library/limma       \n",
       "multtest     /opt/conda/envs/sbas/lib/R/library/multtest    \n",
       "readr        /opt/conda/envs/sbas/lib/R/library/readr       \n",
       "snakecase    /opt/conda/envs/sbas/lib/R/library/snakecase   \n",
       "statmod      /opt/conda/envs/sbas/lib/R/library/statmod     \n",
       "stringi      /opt/conda/envs/sbas/lib/R/library/stringi     \n",
       "             loadedpath                                      attached is_base\n",
       "Biobase      /opt/conda/envs/sbas/lib/R/library/Biobase      TRUE     FALSE  \n",
       "BiocGenerics /opt/conda/envs/sbas/lib/R/library/BiocGenerics TRUE     FALSE  \n",
       "downloader   /opt/conda/envs/sbas/lib/R/library/downloader   TRUE     FALSE  \n",
       "dplyr        /opt/conda/envs/sbas/lib/R/library/dplyr        TRUE     FALSE  \n",
       "edgeR        /opt/conda/envs/sbas/lib/R/library/edgeR        TRUE     FALSE  \n",
       "gprofiler2   /opt/conda/envs/sbas/lib/R/library/gprofiler2   TRUE     FALSE  \n",
       "limma        /opt/conda/envs/sbas/lib/R/library/limma        TRUE     FALSE  \n",
       "multtest     /opt/conda/envs/sbas/lib/R/library/multtest     TRUE     FALSE  \n",
       "readr        /opt/conda/envs/sbas/lib/R/library/readr        TRUE     FALSE  \n",
       "snakecase    /opt/conda/envs/sbas/lib/R/library/snakecase    TRUE     FALSE  \n",
       "statmod      /opt/conda/envs/sbas/lib/R/library/statmod      TRUE     FALSE  \n",
       "stringi      /opt/conda/envs/sbas/lib/R/library/stringi      TRUE     FALSE  \n",
       "             date       source         md5ok library                           \n",
       "Biobase      2021-05-19 Bioconductor   NA    /opt/conda/envs/sbas/lib/R/library\n",
       "BiocGenerics 2021-05-19 Bioconductor   NA    /opt/conda/envs/sbas/lib/R/library\n",
       "downloader   2015-07-09 CRAN (R 4.1.0) NA    /opt/conda/envs/sbas/lib/R/library\n",
       "dplyr        2021-06-18 CRAN (R 4.1.0) NA    /opt/conda/envs/sbas/lib/R/library\n",
       "edgeR        2021-05-19 Bioconductor   NA    /opt/conda/envs/sbas/lib/R/library\n",
       "gprofiler2   2021-08-23 CRAN (R 4.1.1) NA    /opt/conda/envs/sbas/lib/R/library\n",
       "limma        2021-05-19 Bioconductor   NA    /opt/conda/envs/sbas/lib/R/library\n",
       "multtest     2021-05-19 Bioconductor   NA    /opt/conda/envs/sbas/lib/R/library\n",
       "readr        2021-08-10 CRAN (R 4.1.1) NA    /opt/conda/envs/sbas/lib/R/library\n",
       "snakecase    2019-05-25 CRAN (R 4.1.0) NA    /opt/conda/envs/sbas/lib/R/library\n",
       "statmod      2021-05-10 CRAN (R 4.1.0) NA    /opt/conda/envs/sbas/lib/R/library\n",
       "stringi      2021-08-25 CRAN (R 4.1.1) NA    /opt/conda/envs/sbas/lib/R/library"
      ]
     },
     "metadata": {},
     "output_type": "display_data"
    }
   ],
   "source": [
    "dev_session_info   <- devtools::session_info()\n",
    "utils_session_info <- utils::sessionInfo()\n",
    "\n",
    "message(\"Saving `devtools::session_info()` objects in ../data/devtools_session_info.rds  ..\")\n",
    "saveRDS(dev_session_info, file = paste0(\"../data/\", figure_id, \"_devtools_session_info.rds\"))\n",
    "message(\"Done!\\n\")\n",
    "\n",
    "message(\"Saving `utils::sessionInfo()` objects in ../data/utils_session_info.rds  ..\")\n",
    "saveRDS(utils_session_info, file = paste0(\"../data/\", figure_id ,\"_utils_info.rds\"))\n",
    "message(\"Done!\\n\")\n",
    "\n",
    "dev_session_info$platform\n",
    "dev_session_info$packages[dev_session_info$packages$attached==TRUE, ]"
   ]
  }
 ],
 "metadata": {
  "jupytext": {
   "cell_metadata_filter": "-all",
   "main_language": "R",
   "notebook_metadata_filter": "-all"
  },
  "kernelspec": {
   "display_name": "R",
   "language": "R",
   "name": "ir"
  },
  "language_info": {
   "codemirror_mode": "r",
   "file_extension": ".r",
   "mimetype": "text/x-r-source",
   "name": "R",
   "pygments_lexer": "r",
   "version": "4.1.1"
  },
  "papermill": {
   "default_parameters": {},
   "duration": 1945.908841,
   "end_time": "2021-09-23T15:06:52.942582",
   "environment_variables": {},
   "exception": null,
   "input_path": "differentialGeneExpressionAnalysis.ipynb",
   "output_path": "differentialGeneExpressionAnalysis.ipynb",
   "parameters": {},
   "start_time": "2021-09-23T14:34:27.033741",
   "version": "2.3.3"
  }
 },
 "nbformat": 4,
 "nbformat_minor": 5
}