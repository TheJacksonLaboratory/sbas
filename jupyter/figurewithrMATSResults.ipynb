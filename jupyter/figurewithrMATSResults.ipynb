{
 "cells": [
  {
   "cell_type": "markdown",
   "metadata": {},
   "source": [
    "# Figure 1. Sex-biased gene expression and alternative splicing. \n",
    "\n",
    "- (a) Pre-messenger RNA splicing occurs cotranscriptionally and is influenced by RNA binding proteins and epigenetic factors such as histone modifications that interact with the transcriptional machinery or other proteins to influence splicing and transcription.17 \n",
    "- (b) Flowchart depicting the analysis of GTEx RNA-seq data. Analysis of GTEx gene expression and AS profiles identified significantly sex-biased genes and AS events. Data were used as input for a hierarchical Bayesian model to characterize the influence of RBPs and gene expression on sex-biased AS events. \n",
    "- **(c) Heatplot representing similarity in the fold-changes between male and female samples, with the values in the heatmap being the correlation between the vectors of fold changes of the tissues.**\n",
    "\n",
    "- (d) The five categories of AS events that were investigated in this work <br>(**`SE`**: skipped exon/exon inclusion; **`A3SS/A5SS`**: alternative 3’/5’ splice site; **`MEX`**: mutually exclusive exons; **`RI`**: retained intron). \n",
    "\n",
    "- **(e) Number of sex-biased AS events per tissue type.**"
   ]
  },
  {
   "cell_type": "markdown",
   "metadata": {},
   "source": [
    "A `heatplot` representing similarity in the fold-changes between male and female samples, with the values in the heatmap being the correlation between the vectors of fold changes of the tissues. </b>"
   ]
  },
  {
   "cell_type": "markdown",
   "metadata": {},
   "source": [
    "## **NOTE**:\n",
    "\n",
    "We assume that you have cloned the analysis repository and have `cd` into the parent directory. Before starting with the analysis make sure you have first completed the dependencies set up by following the instructions described in the **`dependencies/README.md`** document. All paths defined in this Notebook are relative to the parent directory (repository). Please close this Notebook and start again by following the above guidelines if you have not completed the aforementioned steps."
   ]
  },
  {
   "cell_type": "markdown",
   "metadata": {},
   "source": [
    "## Loading dependencies"
   ]
  },
  {
   "cell_type": "code",
   "execution_count": 1,
   "metadata": {},
   "outputs": [
    {
     "name": "stderr",
     "output_type": "stream",
     "text": [
      "Loading required package: limma\n",
      "Warning message:\n",
      "“package ‘DBI’ was built under R version 3.6.2”Loading required package: Biobase\n",
      "Loading required package: BiocGenerics\n",
      "Loading required package: parallel\n",
      "\n",
      "Attaching package: ‘BiocGenerics’\n",
      "\n",
      "The following objects are masked from ‘package:parallel’:\n",
      "\n",
      "    clusterApply, clusterApplyLB, clusterCall, clusterEvalQ,\n",
      "    clusterExport, clusterMap, parApply, parCapply, parLapply,\n",
      "    parLapplyLB, parRapply, parSapply, parSapplyLB\n",
      "\n",
      "The following object is masked from ‘package:limma’:\n",
      "\n",
      "    plotMA\n",
      "\n",
      "The following objects are masked from ‘package:stats’:\n",
      "\n",
      "    IQR, mad, sd, var, xtabs\n",
      "\n",
      "The following objects are masked from ‘package:base’:\n",
      "\n",
      "    anyDuplicated, append, as.data.frame, basename, cbind, colnames,\n",
      "    dirname, do.call, duplicated, eval, evalq, Filter, Find, get, grep,\n",
      "    grepl, intersect, is.unsorted, lapply, Map, mapply, match, mget,\n",
      "    order, paste, pmax, pmax.int, pmin, pmin.int, Position, rank,\n",
      "    rbind, Reduce, rownames, sapply, setdiff, sort, table, tapply,\n",
      "    union, unique, unsplit, which, which.max, which.min\n",
      "\n",
      "Welcome to Bioconductor\n",
      "\n",
      "    Vignettes contain introductory material; view with\n",
      "    'browseVignettes()'. To cite Bioconductor, see\n",
      "    'citation(\"Biobase\")', and for packages 'citation(\"pkgname\")'.\n",
      "\n"
     ]
    },
    {
     "ename": "ERROR",
     "evalue": "Error: package or namespace load failed for ‘yarn’ in loadNamespace(i, c(lib.loc, .libPaths()), versionCheck = vI[[i]]):\n there is no package called ‘plyr’\n",
     "output_type": "error",
     "traceback": [
      "Error: package or namespace load failed for ‘yarn’ in loadNamespace(i, c(lib.loc, .libPaths()), versionCheck = vI[[i]]):\n there is no package called ‘plyr’\nTraceback:\n",
      "1. library(yarn)",
      "2. tryCatch({\n .     attr(package, \"LibPath\") <- which.lib.loc\n .     ns <- loadNamespace(package, lib.loc)\n .     env <- attachNamespace(ns, pos = pos, deps, exclude, include.only)\n . }, error = function(e) {\n .     P <- if (!is.null(cc <- conditionCall(e))) \n .         paste(\" in\", deparse(cc)[1L])\n .     else \"\"\n .     msg <- gettextf(\"package or namespace load failed for %s%s:\\n %s\", \n .         sQuote(package), P, conditionMessage(e))\n .     if (logical.return) \n .         message(paste(\"Error:\", msg), domain = NA)\n .     else stop(msg, call. = FALSE, domain = NA)\n . })",
      "3. tryCatchList(expr, classes, parentenv, handlers)",
      "4. tryCatchOne(expr, names, parentenv, handlers[[1L]])",
      "5. value[[3L]](cond)",
      "6. stop(msg, call. = FALSE, domain = NA)"
     ]
    }
   ],
   "source": [
    "library(downloader)\n",
    "library(readr)\n",
    "library(edgeR)\n",
    "library(biomaRt)\n",
    "library(DBI) # v >= 1.1.0 required for biomaRt\n",
    "library(devtools)\n",
    "library(yarn)\n",
    "library(statmod)\n",
    "library(piggyback)\n",
    "library(snakecase)\n",
    "library(stringr)\n",
    "library(pheatmap)\n",
    "library(magrittr)\n",
    "library(dplyr)\n",
    "library(ggplot2)\n",
    "library(scales)\n",
    "library(viridis)\n",
    "library(scales)\n",
    "\n",
    "Sys.setenv(TAR = \"/bin/tar\") # for gzfile"
   ]
  },
  {
   "cell_type": "markdown",
   "metadata": {},
   "source": [
    "## Figure 1c  Heatplot representing similarity in the fold-changes between male and female samples\n",
    "The values in the heatmap being the correlation between the vectors of fold changes of the tissues."
   ]
  },
  {
   "cell_type": "markdown",
   "metadata": {},
   "source": [
    "# Retrieving the GTEx archive\n",
    "\n",
    "We used the R package [{yarn}](https://bioconductor.org/packages/release/bioc/html/yarn.html) to retrieve the GTEx Biobank data. In order to downloaded the latest GTEx version 8.0 for RNA-seq and genotype data (phs000424.v8.v2), released 2019-08-26, we created a fork of the package's GitHub repository and created a new version of the function **`yarn::downloadGTEx()`**, namely **`yarn::downloadGTExV8()`** to download this release. \n",
    "\n",
    "We used the function to perform quality control, gene filtering and normalization pre-processing on the GTEx RNA-seq data, as described in (Paulson et al, 2017). This pipeline tested for sample sex-misidentification, merged related sub-tissues and performed tissue-aware normalization using the **`{yarn::qsmooth}`**  function (Hicks et al, 2017).\n",
    "\n",
    "We have archived the output of the **`yarn::downloadGTExV8()`** function, which is an `ExpressionSet` object in the repo `lifebitai/lifebitCloudOSDREgtex` for replicability and decreasing the runtime of this analysis. Below we retrieve this `gtex.rds` object from the GitHub releases using the **`{ropensci/piggyback}`** package, but we have also added the relevant command to retrieve the data from GTEx and generate the `ExpressionSet` object using  **`yarn::downloadGTExV8()`**. For the current analysis we are utilising a compute resource with 8 vCPUs and 60 GB of memory available.\n",
    "\n"
   ]
  },
  {
   "cell_type": "code",
   "execution_count": 2,
   "metadata": {},
   "outputs": [
    {
     "name": "stderr",
     "output_type": "stream",
     "text": [
      "Loading GTEx v8 rds object with readRDS from ../data/gtex.rds ..\n",
      "\n",
      "Done!\n",
      "\n",
      "Generating sha256sum for gtex.rds ..\n",
      "\n",
      "18e2c7a83c98dcf59ddab53e1281923979d49da6ea3acb68114c5a44057c57bc  ../data/gtex.rds\n",
      "Done!\n",
      "\n"
     ]
    }
   ],
   "source": [
    "# Load with readRDS() if gtex.rds available in data/\n",
    "if (\"gtex.rds\" %in% list.files(\"../data/\")) {\n",
    "    message(\"Loading GTEx v8 rds object with readRDS from ../data/gtex.rds ..\\n\")   \n",
    "    obj <- readRDS(file = \"../data/gtex.rds\")\n",
    "    message(\"Done!\\n\")\n",
    "    message(\"Generating sha256sum for gtex.rds ..\\n\")    \n",
    "    message(system(\"sha256sum ../data/gtex.rds\", intern = TRUE))\n",
    "    message(\"Done!\\n\")\n",
    "}\n",
    "\n",
    "# Download from archive if not available in ../data\n",
    "if (!(\"gtex.rds\" %in% list.files(\"../data/\"))) {\n",
    "    message(\"Downloading GTEx v8 from GitHub Releases archive into the ../data/ directory ..\\n\")\n",
    "    piggyback::pb_download(file = \"gtex.rds\", \n",
    "                                repo = \"lifebit-ai/lifebitCloudOSDREgtex\", \n",
    "                                tag  = \"fig1c_archive\", \n",
    "                                dest = \"../data/\")\n",
    "    message(\"Generating sha256sum for gtex.rds ..\")    \n",
    "    message(system(\"sha256sum ../data/gtex.rds\", intern = TRUE))\n",
    "    message(\"Done!\\n\")    \n",
    "    message(\"Loading GTEx v8 rds object with readRDS from ../data/gtex.rds ..\\n\")    \n",
    "    obj <- readRDS(file = \"../data/gtex.rds\" )\n",
    "    message(\"Done!\\n\")\n",
    "}\n",
    "\n",
    "# Download with yarn if you wish, this requires several minutes to complete\n",
    "if (!(\"gtex.rds\" %in% list.files(\"../data/\"))) {\n",
    "    message(\"Downloading GTEx v8 with 'yarn::downloadGTExV8()'\")\n",
    "    obj <- yarn::downloadGTExV8(type='genes',file='../data/gtex.rds')\n",
    "    message(\"Done!\")\n",
    "\n",
    "}"
   ]
  },
  {
   "cell_type": "code",
   "execution_count": 3,
   "metadata": {},
   "outputs": [
    {
     "data": {
      "text/html": [
       "'ExpressionSet'"
      ],
      "text/latex": [
       "'ExpressionSet'"
      ],
      "text/markdown": [
       "'ExpressionSet'"
      ],
      "text/plain": [
       "[1] \"ExpressionSet\"\n",
       "attr(,\"package\")\n",
       "[1] \"Biobase\""
      ]
     },
     "metadata": {},
     "output_type": "display_data"
    },
    {
     "data": {
      "text/html": [
       "<style>\n",
       ".dl-inline {width: auto; margin:0; padding: 0}\n",
       ".dl-inline>dt, .dl-inline>dd {float: none; width: auto; display: inline-block}\n",
       ".dl-inline>dt::after {content: \":\\0020\"; padding-right: .5ex}\n",
       ".dl-inline>dt:not(:first-of-type) {padding-left: .5ex}\n",
       "</style><dl class=dl-inline><dt>rowNames</dt><dd>17384</dd><dt>columnNames</dt><dd>67</dd></dl>\n"
      ],
      "text/latex": [
       "\\begin{description*}\n",
       "\\item[rowNames] 17384\n",
       "\\item[columnNames] 67\n",
       "\\end{description*}\n"
      ],
      "text/markdown": [
       "rowNames\n",
       ":   17384columnNames\n",
       ":   67\n",
       "\n"
      ],
      "text/plain": [
       "   rowNames columnNames \n",
       "      17384          67 "
      ]
     },
     "metadata": {},
     "output_type": "display_data"
    },
    {
     "data": {
      "text/html": [
       "<style>\n",
       ".dl-inline {width: auto; margin:0; padding: 0}\n",
       ".dl-inline>dt, .dl-inline>dd {float: none; width: auto; display: inline-block}\n",
       ".dl-inline>dt::after {content: \":\\0020\"; padding-right: .5ex}\n",
       ".dl-inline>dt:not(:first-of-type) {padding-left: .5ex}\n",
       "</style><dl class=dl-inline><dt>Features</dt><dd>55878</dd><dt>Samples</dt><dd>17382</dd></dl>\n"
      ],
      "text/latex": [
       "\\begin{description*}\n",
       "\\item[Features] 55878\n",
       "\\item[Samples] 17382\n",
       "\\end{description*}\n"
      ],
      "text/markdown": [
       "Features\n",
       ":   55878Samples\n",
       ":   17382\n",
       "\n"
      ],
      "text/plain": [
       "Features  Samples \n",
       "   55878    17382 "
      ]
     },
     "metadata": {},
     "output_type": "display_data"
    }
   ],
   "source": [
    "# Confirm that it is an expression set.\n",
    "# and check the dimensions of the objects, and the phenotype information of the objects\n",
    "class(obj) \n",
    "dim(phenoData(obj))\n",
    "dim(obj)"
   ]
  },
  {
   "cell_type": "markdown",
   "metadata": {},
   "source": [
    "### NOTE: \n",
    "\n",
    "We observe above that our phenotype data have 2 more observations than our expression data,  let's inspect what are these samples:"
   ]
  },
  {
   "cell_type": "code",
   "execution_count": 4,
   "metadata": {},
   "outputs": [
    {
     "data": {
      "text/html": [
       "17382"
      ],
      "text/latex": [
       "17382"
      ],
      "text/markdown": [
       "17382"
      ],
      "text/plain": [
       "[1] 17382"
      ]
     },
     "metadata": {},
     "output_type": "display_data"
    },
    {
     "data": {
      "text/html": [
       "17384"
      ],
      "text/latex": [
       "17384"
      ],
      "text/markdown": [
       "17384"
      ],
      "text/plain": [
       "[1] 17384"
      ]
     },
     "metadata": {},
     "output_type": "display_data"
    },
    {
     "name": "stderr",
     "output_type": "stream",
     "text": [
      "The non-overlapping IDs between pheno and count data are:\n",
      "\n",
      "GTEX-YF7O-2326-101833-SM-5CVN9\n",
      "GTEX-YEC3-1426-101806-SM-5PNXX\n"
     ]
    }
   ],
   "source": [
    "sample_names=as.vector(as.character(colnames(exprs(obj))))\n",
    "length(sample_names)\n",
    "\n",
    "pheno_sample_names=as.vector(as.character(rownames(pData(obj))))\n",
    "length(pheno_sample_names)\n",
    "\n",
    "if (length(pheno_sample_names) > length(sample_names)) {\n",
    "    superset <- pheno_sample_names\n",
    "    subset   <- sample_names    \n",
    "} \n",
    "\n",
    "if (length(pheno_sample_names) < length(sample_names)) {\n",
    "    superset <- sample_names\n",
    "    subset   <- pheno_sample_names   \n",
    "} \n",
    "\n",
    "non_overlaps <- setdiff( superset, subset)\n",
    "\n",
    "message(\"The non-overlapping IDs between pheno and count data are:\\n\\n\", \n",
    "        paste(non_overlaps, collapse = \"\\n\") )"
   ]
  },
  {
   "cell_type": "markdown",
   "metadata": {},
   "source": [
    "Let's keep only the overlapping IDs:"
   ]
  },
  {
   "cell_type": "code",
   "execution_count": 5,
   "metadata": {},
   "outputs": [
    {
     "data": {
      "text/html": [
       "17384"
      ],
      "text/latex": [
       "17384"
      ],
      "text/markdown": [
       "17384"
      ],
      "text/plain": [
       "[1] 17384"
      ]
     },
     "metadata": {},
     "output_type": "display_data"
    },
    {
     "data": {
      "text/plain": [
       "logical_match_names\n",
       "FALSE  TRUE \n",
       "    2 17382 "
      ]
     },
     "metadata": {},
     "output_type": "display_data"
    },
    {
     "data": {
      "text/html": [
       "<style>\n",
       ".list-inline {list-style: none; margin:0; padding: 0}\n",
       ".list-inline>li {display: inline-block}\n",
       ".list-inline>li:not(:last-child)::after {content: \"\\00b7\"; padding: 0 .5ex}\n",
       "</style>\n",
       "<ol class=list-inline><li>17382</li><li>67</li></ol>\n"
      ],
      "text/latex": [
       "\\begin{enumerate*}\n",
       "\\item 17382\n",
       "\\item 67\n",
       "\\end{enumerate*}\n"
      ],
      "text/markdown": [
       "1. 17382\n",
       "2. 67\n",
       "\n",
       "\n"
      ],
      "text/plain": [
       "[1] 17382    67"
      ]
     },
     "metadata": {},
     "output_type": "display_data"
    },
    {
     "data": {
      "text/html": [
       "<style>\n",
       ".dl-inline {width: auto; margin:0; padding: 0}\n",
       ".dl-inline>dt, .dl-inline>dd {float: none; width: auto; display: inline-block}\n",
       ".dl-inline>dt::after {content: \":\\0020\"; padding-right: .5ex}\n",
       ".dl-inline>dt:not(:first-of-type) {padding-left: .5ex}\n",
       "</style><dl class=dl-inline><dt>Features</dt><dd>55878</dd><dt>Samples</dt><dd>17382</dd></dl>\n"
      ],
      "text/latex": [
       "\\begin{description*}\n",
       "\\item[Features] 55878\n",
       "\\item[Samples] 17382\n",
       "\\end{description*}\n"
      ],
      "text/markdown": [
       "Features\n",
       ":   55878Samples\n",
       ":   17382\n",
       "\n"
      ],
      "text/plain": [
       "Features  Samples \n",
       "   55878    17382 "
      ]
     },
     "metadata": {},
     "output_type": "display_data"
    }
   ],
   "source": [
    "logical_match_names=pheno_sample_names %in% sample_names\n",
    "length(logical_match_names)\n",
    "table(logical_match_names)\n",
    "pData(obj) <- (pData(obj)[logical_match_names==TRUE,])\n",
    "dim(pData(obj))\n",
    "dim(obj)"
   ]
  },
  {
   "cell_type": "code",
   "execution_count": 6,
   "metadata": {},
   "outputs": [
    {
     "name": "stderr",
     "output_type": "stream",
     "text": [
      "Updating HTML index of packages in '.Library'\n",
      "Making 'packages.html' ... done\n"
     ]
    }
   ],
   "source": [
    "install.packages(\"R.utils\")"
   ]
  },
  {
   "cell_type": "code",
   "execution_count": 7,
   "metadata": {},
   "outputs": [
    {
     "name": "stderr",
     "output_type": "stream",
     "text": [
      "Loading required package: R.oo\n",
      "Loading required package: R.methodsS3\n",
      "R.methodsS3 v1.8.0 (2020-02-14 07:10:20 UTC) successfully loaded. See ?R.methodsS3 for help.\n",
      "R.oo v1.23.0 successfully loaded. See ?R.oo for help.\n",
      "\n",
      "Attaching package: ‘R.oo’\n",
      "\n",
      "The following object is masked from ‘package:R.methodsS3’:\n",
      "\n",
      "    throw\n",
      "\n",
      "The following objects are masked from ‘package:devtools’:\n",
      "\n",
      "    check, unload\n",
      "\n",
      "The following objects are masked from ‘package:methods’:\n",
      "\n",
      "    getClasses, getMethods\n",
      "\n",
      "The following objects are masked from ‘package:base’:\n",
      "\n",
      "    attach, detach, load, save\n",
      "\n",
      "R.utils v2.9.2 successfully loaded. See ?R.utils for help.\n",
      "\n",
      "Attaching package: ‘R.utils’\n",
      "\n",
      "The following object is masked from ‘package:utils’:\n",
      "\n",
      "    timestamp\n",
      "\n",
      "The following objects are masked from ‘package:base’:\n",
      "\n",
      "    cat, commandArgs, getOption, inherits, isOpen, nullfile, parse,\n",
      "    warnings\n",
      "\n"
     ]
    }
   ],
   "source": [
    "library(R.utils)"
   ]
  },
  {
   "cell_type": "markdown",
   "metadata": {},
   "source": [
    "We have currently all of our runs from rMATS stored with the SRR number - this maps to the annotation via the SraRunTable$biospecimen_repository_sample_id. \n",
    "\n",
    "What we will do here for scalling is read all the inc for this step, and then we will add a separate step for ijc/sjc analysis for comparison purposes.\n",
    "\n",
    "This step assumes that you either mounted the data from the bucket or you have used (after installing, the gsutil tools from google (on a google platform) or aws cli tools (on an amazon platform).  Or the equivalent on an Azure platform"
   ]
  },
  {
   "cell_type": "code",
   "execution_count": 8,
   "metadata": {},
   "outputs": [],
   "source": [
    "se.jc.inc <- data.table::fread(\"../data/rmats_final.se.jc.inc.txt.gz\") "
   ]
  },
  {
   "cell_type": "code",
   "execution_count": 97,
   "metadata": {},
   "outputs": [],
   "source": [
    "se.jcec.inc <- data.table::fread(\"../data/rmats_final.se.jcec.inc.txt.gz\") "
   ]
  },
  {
   "cell_type": "code",
   "execution_count": null,
   "metadata": {},
   "outputs": [],
   "source": [
    "ri.jc.inc <- data.table::fread(\"../data/rmats_final.ri.jc.inc.txt.gz\")"
   ]
  },
  {
   "cell_type": "code",
   "execution_count": null,
   "metadata": {},
   "outputs": [],
   "source": [
    "ri.jcec.inc <- data.table::fread(\"../data/rmats_final.ri.jcec.inc.txt.gz\")"
   ]
  },
  {
   "cell_type": "code",
   "execution_count": null,
   "metadata": {},
   "outputs": [],
   "source": [
    "mxe.jc.inc <- data.table::fread(\"../data/rmats_final.mxe.jc.inc.txt.gz\")"
   ]
  },
  {
   "cell_type": "code",
   "execution_count": null,
   "metadata": {},
   "outputs": [],
   "source": [
    "mxe.jcec.inc <- data.table::fread(\"../data/rmats_final.mxe.jcec.inc.txt.gz\")"
   ]
  },
  {
   "cell_type": "code",
   "execution_count": null,
   "metadata": {},
   "outputs": [],
   "source": [
    "a3ss.jc.inc <- data.table::fread(\"../data/rmats_final.a3ss.jc.inc.txt.gz\")"
   ]
  },
  {
   "cell_type": "code",
   "execution_count": null,
   "metadata": {},
   "outputs": [],
   "source": [
    "a3ss.jcec.inc <- data.table::fread(\"../data/rmats_final.a3ss.jc.inc.txt.gz\")"
   ]
  },
  {
   "cell_type": "code",
   "execution_count": 9,
   "metadata": {},
   "outputs": [
    {
     "data": {
      "text/html": [
       "<style>\n",
       ".list-inline {list-style: none; margin:0; padding: 0}\n",
       ".list-inline>li {display: inline-block}\n",
       ".list-inline>li:not(:last-child)::after {content: \"\\00b7\"; padding: 0 .5ex}\n",
       "</style>\n",
       "<ol class=list-inline><li>42611</li><li>8674</li></ol>\n"
      ],
      "text/latex": [
       "\\begin{enumerate*}\n",
       "\\item 42611\n",
       "\\item 8674\n",
       "\\end{enumerate*}\n"
      ],
      "text/markdown": [
       "1. 42611\n",
       "2. 8674\n",
       "\n",
       "\n"
      ],
      "text/plain": [
       "[1] 42611  8674"
      ]
     },
     "metadata": {},
     "output_type": "display_data"
    }
   ],
   "source": [
    "dim(se.jc.inc)"
   ]
  },
  {
   "cell_type": "code",
   "execution_count": 10,
   "metadata": {},
   "outputs": [
    {
     "data": {
      "text/html": [
       "<table>\n",
       "<caption>A data.table: 6 × 8674</caption>\n",
       "<thead>\n",
       "\t<tr><th scope=col>ID</th><th scope=col>SRR1068788</th><th scope=col>SRR1068808</th><th scope=col>SRR1068832</th><th scope=col>SRR1068855</th><th scope=col>SRR1068880</th><th scope=col>SRR1068929</th><th scope=col>SRR1068953</th><th scope=col>SRR1068977</th><th scope=col>SRR1068999</th><th scope=col>⋯</th><th scope=col>SRR821573</th><th scope=col>SRR821581</th><th scope=col>SRR821602</th><th scope=col>SRR821626</th><th scope=col>SRR821653</th><th scope=col>SRR821690</th><th scope=col>SRR821715</th><th scope=col>SRR823967</th><th scope=col>SRR823991</th><th scope=col>SRR824015</th></tr>\n",
       "\t<tr><th scope=col>&lt;int&gt;</th><th scope=col>&lt;dbl&gt;</th><th scope=col>&lt;dbl&gt;</th><th scope=col>&lt;dbl&gt;</th><th scope=col>&lt;dbl&gt;</th><th scope=col>&lt;dbl&gt;</th><th scope=col>&lt;dbl&gt;</th><th scope=col>&lt;dbl&gt;</th><th scope=col>&lt;dbl&gt;</th><th scope=col>&lt;dbl&gt;</th><th scope=col>⋯</th><th scope=col>&lt;dbl&gt;</th><th scope=col>&lt;dbl&gt;</th><th scope=col>&lt;dbl&gt;</th><th scope=col>&lt;dbl&gt;</th><th scope=col>&lt;dbl&gt;</th><th scope=col>&lt;dbl&gt;</th><th scope=col>&lt;dbl&gt;</th><th scope=col>&lt;dbl&gt;</th><th scope=col>&lt;dbl&gt;</th><th scope=col>&lt;dbl&gt;</th></tr>\n",
       "</thead>\n",
       "<tbody>\n",
       "\t<tr><td>1</td><td>0.0000</td><td>0.0000</td><td>0.000</td><td>0.0000</td><td>0.0769</td><td>0.0000</td><td>0.0000</td><td>0</td><td>0.0000</td><td>⋯</td><td>0.0000</td><td>0.000</td><td>0</td><td>0.0</td><td>0.0000</td><td>0</td><td>0.0000</td><td>0</td><td>0</td><td>0</td></tr>\n",
       "\t<tr><td>2</td><td>1.0000</td><td>1.0000</td><td>1.000</td><td>0.9972</td><td>1.0000</td><td>1.0000</td><td>0.9885</td><td>1</td><td>1.0000</td><td>⋯</td><td>1.0000</td><td>1.000</td><td>1</td><td>1.0</td><td>1.0000</td><td>1</td><td>1.0000</td><td>1</td><td>1</td><td>1</td></tr>\n",
       "\t<tr><td>3</td><td>1.0000</td><td>0.0000</td><td>1.000</td><td>0.0000</td><td>0.0000</td><td>0.0000</td><td>1.0000</td><td>1</td><td>1.0000</td><td>⋯</td><td>1.0000</td><td>1.000</td><td>0</td><td>1.0</td><td>1.0000</td><td>0</td><td>1.0000</td><td>0</td><td>0</td><td>0</td></tr>\n",
       "\t<tr><td>4</td><td>0.0000</td><td>1.0000</td><td>1.000</td><td>0.5000</td><td>0.0000</td><td>0.0000</td><td>1.0000</td><td>0</td><td>0.5000</td><td>⋯</td><td>0.0000</td><td>0.000</td><td>0</td><td>0.0</td><td>0.2000</td><td>0</td><td>0.0000</td><td>0</td><td>0</td><td>0</td></tr>\n",
       "\t<tr><td>5</td><td>1.0000</td><td>0.0000</td><td>0.250</td><td>0.1578</td><td>0.4285</td><td>1.0000</td><td>0.1428</td><td>1</td><td>0.4545</td><td>⋯</td><td>0.1428</td><td>0.250</td><td>0</td><td>0.2</td><td>0.5000</td><td>0</td><td>0.5000</td><td>0</td><td>0</td><td>0</td></tr>\n",
       "\t<tr><td>6</td><td>0.0833</td><td>0.0041</td><td>0.027</td><td>0.0087</td><td>0.0142</td><td>0.0082</td><td>0.0078</td><td>0</td><td>0.0084</td><td>⋯</td><td>0.0095</td><td>0.037</td><td>0</td><td>0.0</td><td>0.0058</td><td>0</td><td>0.0078</td><td>0</td><td>0</td><td>0</td></tr>\n",
       "</tbody>\n",
       "</table>\n"
      ],
      "text/latex": [
       "A data.table: 6 × 8674\n",
       "\\begin{tabular}{lllllllllllllllllllll}\n",
       " ID & SRR1068788 & SRR1068808 & SRR1068832 & SRR1068855 & SRR1068880 & SRR1068929 & SRR1068953 & SRR1068977 & SRR1068999 & ⋯ & SRR821573 & SRR821581 & SRR821602 & SRR821626 & SRR821653 & SRR821690 & SRR821715 & SRR823967 & SRR823991 & SRR824015\\\\\n",
       " <int> & <dbl> & <dbl> & <dbl> & <dbl> & <dbl> & <dbl> & <dbl> & <dbl> & <dbl> & ⋯ & <dbl> & <dbl> & <dbl> & <dbl> & <dbl> & <dbl> & <dbl> & <dbl> & <dbl> & <dbl>\\\\\n",
       "\\hline\n",
       "\t 1 & 0.0000 & 0.0000 & 0.000 & 0.0000 & 0.0769 & 0.0000 & 0.0000 & 0 & 0.0000 & ⋯ & 0.0000 & 0.000 & 0 & 0.0 & 0.0000 & 0 & 0.0000 & 0 & 0 & 0\\\\\n",
       "\t 2 & 1.0000 & 1.0000 & 1.000 & 0.9972 & 1.0000 & 1.0000 & 0.9885 & 1 & 1.0000 & ⋯ & 1.0000 & 1.000 & 1 & 1.0 & 1.0000 & 1 & 1.0000 & 1 & 1 & 1\\\\\n",
       "\t 3 & 1.0000 & 0.0000 & 1.000 & 0.0000 & 0.0000 & 0.0000 & 1.0000 & 1 & 1.0000 & ⋯ & 1.0000 & 1.000 & 0 & 1.0 & 1.0000 & 0 & 1.0000 & 0 & 0 & 0\\\\\n",
       "\t 4 & 0.0000 & 1.0000 & 1.000 & 0.5000 & 0.0000 & 0.0000 & 1.0000 & 0 & 0.5000 & ⋯ & 0.0000 & 0.000 & 0 & 0.0 & 0.2000 & 0 & 0.0000 & 0 & 0 & 0\\\\\n",
       "\t 5 & 1.0000 & 0.0000 & 0.250 & 0.1578 & 0.4285 & 1.0000 & 0.1428 & 1 & 0.4545 & ⋯ & 0.1428 & 0.250 & 0 & 0.2 & 0.5000 & 0 & 0.5000 & 0 & 0 & 0\\\\\n",
       "\t 6 & 0.0833 & 0.0041 & 0.027 & 0.0087 & 0.0142 & 0.0082 & 0.0078 & 0 & 0.0084 & ⋯ & 0.0095 & 0.037 & 0 & 0.0 & 0.0058 & 0 & 0.0078 & 0 & 0 & 0\\\\\n",
       "\\end{tabular}\n"
      ],
      "text/markdown": [
       "\n",
       "A data.table: 6 × 8674\n",
       "\n",
       "| ID &lt;int&gt; | SRR1068788 &lt;dbl&gt; | SRR1068808 &lt;dbl&gt; | SRR1068832 &lt;dbl&gt; | SRR1068855 &lt;dbl&gt; | SRR1068880 &lt;dbl&gt; | SRR1068929 &lt;dbl&gt; | SRR1068953 &lt;dbl&gt; | SRR1068977 &lt;dbl&gt; | SRR1068999 &lt;dbl&gt; | ⋯ ⋯ | SRR821573 &lt;dbl&gt; | SRR821581 &lt;dbl&gt; | SRR821602 &lt;dbl&gt; | SRR821626 &lt;dbl&gt; | SRR821653 &lt;dbl&gt; | SRR821690 &lt;dbl&gt; | SRR821715 &lt;dbl&gt; | SRR823967 &lt;dbl&gt; | SRR823991 &lt;dbl&gt; | SRR824015 &lt;dbl&gt; |\n",
       "|---|---|---|---|---|---|---|---|---|---|---|---|---|---|---|---|---|---|---|---|---|\n",
       "| 1 | 0.0000 | 0.0000 | 0.000 | 0.0000 | 0.0769 | 0.0000 | 0.0000 | 0 | 0.0000 | ⋯ | 0.0000 | 0.000 | 0 | 0.0 | 0.0000 | 0 | 0.0000 | 0 | 0 | 0 |\n",
       "| 2 | 1.0000 | 1.0000 | 1.000 | 0.9972 | 1.0000 | 1.0000 | 0.9885 | 1 | 1.0000 | ⋯ | 1.0000 | 1.000 | 1 | 1.0 | 1.0000 | 1 | 1.0000 | 1 | 1 | 1 |\n",
       "| 3 | 1.0000 | 0.0000 | 1.000 | 0.0000 | 0.0000 | 0.0000 | 1.0000 | 1 | 1.0000 | ⋯ | 1.0000 | 1.000 | 0 | 1.0 | 1.0000 | 0 | 1.0000 | 0 | 0 | 0 |\n",
       "| 4 | 0.0000 | 1.0000 | 1.000 | 0.5000 | 0.0000 | 0.0000 | 1.0000 | 0 | 0.5000 | ⋯ | 0.0000 | 0.000 | 0 | 0.0 | 0.2000 | 0 | 0.0000 | 0 | 0 | 0 |\n",
       "| 5 | 1.0000 | 0.0000 | 0.250 | 0.1578 | 0.4285 | 1.0000 | 0.1428 | 1 | 0.4545 | ⋯ | 0.1428 | 0.250 | 0 | 0.2 | 0.5000 | 0 | 0.5000 | 0 | 0 | 0 |\n",
       "| 6 | 0.0833 | 0.0041 | 0.027 | 0.0087 | 0.0142 | 0.0082 | 0.0078 | 0 | 0.0084 | ⋯ | 0.0095 | 0.037 | 0 | 0.0 | 0.0058 | 0 | 0.0078 | 0 | 0 | 0 |\n",
       "\n"
      ],
      "text/plain": [
       "  ID SRR1068788 SRR1068808 SRR1068832 SRR1068855 SRR1068880 SRR1068929\n",
       "1 1  0.0000     0.0000     0.000      0.0000     0.0769     0.0000    \n",
       "2 2  1.0000     1.0000     1.000      0.9972     1.0000     1.0000    \n",
       "3 3  1.0000     0.0000     1.000      0.0000     0.0000     0.0000    \n",
       "4 4  0.0000     1.0000     1.000      0.5000     0.0000     0.0000    \n",
       "5 5  1.0000     0.0000     0.250      0.1578     0.4285     1.0000    \n",
       "6 6  0.0833     0.0041     0.027      0.0087     0.0142     0.0082    \n",
       "  SRR1068953 SRR1068977 SRR1068999 ⋯ SRR821573 SRR821581 SRR821602 SRR821626\n",
       "1 0.0000     0          0.0000     ⋯ 0.0000    0.000     0         0.0      \n",
       "2 0.9885     1          1.0000     ⋯ 1.0000    1.000     1         1.0      \n",
       "3 1.0000     1          1.0000     ⋯ 1.0000    1.000     0         1.0      \n",
       "4 1.0000     0          0.5000     ⋯ 0.0000    0.000     0         0.0      \n",
       "5 0.1428     1          0.4545     ⋯ 0.1428    0.250     0         0.2      \n",
       "6 0.0078     0          0.0084     ⋯ 0.0095    0.037     0         0.0      \n",
       "  SRR821653 SRR821690 SRR821715 SRR823967 SRR823991 SRR824015\n",
       "1 0.0000    0         0.0000    0         0         0        \n",
       "2 1.0000    1         1.0000    1         1         1        \n",
       "3 1.0000    0         1.0000    0         0         0        \n",
       "4 0.2000    0         0.0000    0         0         0        \n",
       "5 0.5000    0         0.5000    0         0         0        \n",
       "6 0.0058    0         0.0078    0         0         0        "
      ]
     },
     "metadata": {},
     "output_type": "display_data"
    }
   ],
   "source": [
    "head (se.jc.inc)"
   ]
  },
  {
   "cell_type": "markdown",
   "metadata": {},
   "source": [
    "#  Now we want to replace all *dashes* with **dots \".\"**"
   ]
  },
  {
   "cell_type": "code",
   "execution_count": 11,
   "metadata": {},
   "outputs": [
    {
     "data": {
      "text/html": [
       "<strong>GTEX-1117F-0226-SM-5GZZ7:</strong> GTEX-1117F-0226-SM-5GZZ7\n",
       "<details>\n",
       "\t<summary style=display:list-item;cursor:pointer>\n",
       "\t\t<strong>Levels</strong>:\n",
       "\t</summary>\n",
       "\t<style>\n",
       "\t.list-inline {list-style: none; margin:0; padding: 0}\n",
       "\t.list-inline>li {display: inline-block}\n",
       "\t.list-inline>li:not(:last-child)::after {content: \"\\00b7\"; padding: 0 .5ex}\n",
       "\t</style>\n",
       "\t<ol class=list-inline><li>'GTEX-1117F-0003-SM-58Q7G'</li><li>'GTEX-1117F-0003-SM-5DWSB'</li><li>'GTEX-1117F-0003-SM-6WBT7'</li><li>'GTEX-1117F-0011-R10a-SM-AHZ7F'</li><li>'GTEX-1117F-0011-R10b-SM-CYKQ8'</li><li>'GTEX-1117F-0226-SM-5GZZ7'</li><li>'GTEX-1117F-0426-SM-5EGHI'</li><li>'GTEX-1117F-0526-SM-5EGHJ'</li><li>'GTEX-1117F-0626-SM-5N9CS'</li><li>'GTEX-1117F-0726-SM-5GIEN'</li><li>'GTEX-1117F-1326-SM-5EGHH'</li><li>'GTEX-1117F-2226-SM-5N9CH'</li><li>'GTEX-1117F-2426-SM-5EGGH'</li><li>'GTEX-1117F-2526-SM-5GZY6'</li><li>'GTEX-1117F-2826-SM-5GZXL'</li><li>'GTEX-1117F-2926-SM-5GZYI'</li><li>'GTEX-1117F-3026-SM-5GZYU'</li><li>'GTEX-1117F-3226-SM-5N9CT'</li><li>'GTEX-111CU-0003-SM-58Q95'</li><li>'GTEX-111CU-0003-SM-5DWTR'</li><li>'GTEX-111CU-0003-SM-6WBUD'</li><li>'GTEX-111CU-0126-SM-5GZWZ'</li><li>'GTEX-111CU-0226-SM-5GZXC'</li><li>'GTEX-111CU-0326-SM-5GZXO'</li><li>'GTEX-111CU-0426-SM-5GZY1'</li><li>'GTEX-111CU-0526-SM-5EGHK'</li><li>'GTEX-111CU-0626-SM-5EGHL'</li><li>'GTEX-111CU-0726-SM-5GZYD'</li><li>'GTEX-111CU-0826-SM-5EGIJ'</li><li>'GTEX-111CU-0926-SM-5EGIK'</li><li>'GTEX-111CU-1026-SM-5EGIL'</li><li>'GTEX-111CU-1126-SM-5EGIM'</li><li>'GTEX-111CU-1226-SM-5EGIN'</li><li>'GTEX-111CU-1326-SM-5NQ8L'</li><li>'GTEX-111CU-1426-SM-5GZYP'</li><li>'GTEX-111CU-1526-SM-5N9FS'</li><li>'GTEX-111CU-1726-SM-5EGHM'</li><li>'GTEX-111CU-1826-SM-5GZYN'</li><li>'GTEX-111CU-1926-SM-5GZYZ'</li><li>'GTEX-111CU-2026-SM-5GZZC'</li><li>'GTEX-111CU-2226-SM-5N9G5'</li><li>'GTEX-111FC-0001-SM-58Q7U'</li><li>'GTEX-111FC-0001-SM-5DWSO'</li><li>'GTEX-111FC-0001-SM-6WBTJ'</li><li>'GTEX-111FC-0011-R10a-SM-AHZ7K'</li><li>'GTEX-111FC-0011-R10a-SM-CYKQ9'</li><li>'GTEX-111FC-0126-SM-5N9DL'</li><li>'GTEX-111FC-0226-SM-5N9B8'</li><li>'GTEX-111FC-0326-SM-5GZZ1'</li><li>'GTEX-111FC-0426-SM-5N9CV'</li><li>'GTEX-111FC-0526-SM-5GZZ8'</li><li>'GTEX-111FC-0626-SM-5N9CU'</li><li>'GTEX-111FC-0826-SM-5GZWO'</li><li>'GTEX-111FC-0826-SM-CYKRT'</li><li>'GTEX-111FC-1026-SM-5GZX1'</li><li>'GTEX-111FC-1126-SM-5GZWU'</li><li>'GTEX-111FC-1326-SM-5N9D9'</li><li>'GTEX-111FC-1426-SM-5N9C7'</li><li>'GTEX-111FC-1926-SM-5GZYC'</li><li>'GTEX-111FC-2026-SM-5GZYO'</li><li>'GTEX-111FC-2526-SM-5GZXU'</li><li>'GTEX-111FC-2926-SM-5GZY7'</li><li>'GTEX-111FC-3026-SM-5GZYJ'</li><li>'GTEX-111FC-3126-SM-5GZZ2'</li><li>'GTEX-111FC-3326-SM-5GZYV'</li><li>'GTEX-111VG-0004-SM-58Q85'</li><li>'GTEX-111VG-0004-SM-5DWSX'</li><li>'GTEX-111VG-0004-SM-6WBTS'</li><li>'GTEX-111VG-0008-SM-5Q5BG'</li><li>'GTEX-111VG-0326-SM-5GZX7'</li><li>'GTEX-111VG-0526-SM-5N9BW'</li><li>'GTEX-111VG-0726-SM-5GIDC'</li><li>'GTEX-111VG-1626-SM-5EGIO'</li><li>'GTEX-111VG-1926-SM-5GIDO'</li><li>'GTEX-111VG-2226-SM-5N9DU'</li><li>'GTEX-111VG-2326-SM-5N9BK'</li><li>'GTEX-111VG-2426-SM-5GZXD'</li><li>'GTEX-111VG-2526-SM-5GZXP'</li><li>'GTEX-111VG-2626-SM-5GZY2'</li><li>'GTEX-111YS-0004-SM-58Q7Y'</li><li>'GTEX-111YS-0004-SM-5DWSS'</li><li>'GTEX-111YS-0004-SM-6WBTN'</li><li>'GTEX-111YS-0006-SM-5NQBE'</li><li>'GTEX-111YS-0008-SM-5Q5BH'</li><li>'GTEX-111YS-0126-SM-5987T'</li><li>'GTEX-111YS-0326-SM-5GZZ3'</li><li>'GTEX-111YS-0426-SM-5987O'</li><li>'GTEX-111YS-0526-SM-5GZXJ'</li><li>'GTEX-111YS-0626-SM-5GZXV'</li><li>'GTEX-111YS-0726-SM-5GZY8'</li><li>'GTEX-111YS-0826-SM-5GZYK'</li><li>'GTEX-111YS-0926-SM-5EGGI'</li><li>'GTEX-111YS-1026-SM-5GZYE'</li><li>'GTEX-111YS-1126-SM-5GZYQ'</li><li>'GTEX-111YS-1226-SM-5EGGJ'</li><li>'GTEX-111YS-1326-SM-5EGGK'</li><li>'GTEX-111YS-1426-SM-5GID8'</li><li>'GTEX-111YS-1526-SM-5GZYW'</li><li>'GTEX-111YS-1626-SM-5GZZ9'</li><li>'GTEX-111YS-1726-SM-5GIED'</li><li>'GTEX-111YS-1826-SM-5GIEP'</li><li>'GTEX-111YS-1926-SM-5GICC'</li><li>'GTEX-111YS-2026-SM-5EGGL'</li><li>'GTEX-111YS-2126-SM-5EGGM'</li><li>'GTEX-111YS-2226-SM-5987P'</li><li>'GTEX-111YS-2326-SM-5987L'</li><li>'GTEX-111YS-2426-SM-5GZZQ'</li><li>'GTEX-1122O-0003-SM-5Q5DL'</li><li>'GTEX-1122O-0004-SM-58Q7O'</li><li>'GTEX-1122O-0004-SM-5DWSJ'</li><li>'GTEX-1122O-0004-SM-6WBTE'</li><li>'GTEX-1122O-0005-SM-5O99J'</li><li>'GTEX-1122O-0008-SM-5QGR2'</li><li>'GTEX-1122O-0126-SM-5GICA'</li><li>'GTEX-1122O-0226-SM-5N9DA'</li><li>'GTEX-1122O-0326-SM-5H124'</li><li>'GTEX-1122O-0426-SM-5H12G'</li><li>'GTEX-1122O-0526-SM-5N9DM'</li><li>'GTEX-1122O-0626-SM-5N9B9'</li><li>'GTEX-1122O-0726-SM-5GIEV'</li><li>'GTEX-1122O-0826-SM-5GICV'</li><li>'GTEX-1122O-0926-SM-5N9C9'</li><li>'GTEX-1122O-0926-SM-9YFLC'</li><li>'GTEX-1122O-1026-SM-9WYSF'</li><li>'GTEX-1122O-1126-SM-5NQ8X'</li><li>'GTEX-1122O-1226-SM-5H113'</li><li>'GTEX-1122O-1326-SM-5H11F'</li><li>'GTEX-1122O-1426-SM-5H11R'</li><li>'GTEX-1122O-1526-SM-5N9CL'</li><li>'GTEX-1122O-1626-SM-5N9CX'</li><li>'GTEX-1122O-1726-SM-5GICM'</li><li>'GTEX-1122O-1826-SM-5EGIP'</li><li>'GTEX-1122O-1926-SM-5EGIQ'</li><li>'GTEX-1122O-2026-SM-5NQ91'</li><li>'GTEX-1122O-2026-SM-9YFMG'</li><li>'GTEX-1122O-2126-SM-5EGIR'</li><li>'GTEX-1122O-2326-SM-9YFL9'</li><li>'GTEX-1122O-2426-SM-5GIDN'</li><li>'GTEX-1128S-0001-SM-58Q96'</li><li>'GTEX-1128S-0001-SM-5DWTV'</li><li>'GTEX-1128S-0001-SM-6WBUH'</li><li>'GTEX-1128S-0005-SM-5P9HI'</li><li>'GTEX-1128S-0008-SM-5Q5DP'</li><li>'GTEX-1128S-0126-SM-5H12S'</li><li>'GTEX-1128S-0326-SM-5GZZF'</li><li>'GTEX-1128S-0726-SM-5N9D6'</li><li>'GTEX-1128S-0826-SM-5GZZI'</li><li>'GTEX-1128S-0926-SM-5GZZU'</li><li>'GTEX-1128S-1426-SM-5N9EF'</li><li>'GTEX-1128S-1626-SM-5H12O'</li><li>'GTEX-1128S-2126-SM-5H12U'</li><li>'GTEX-1128S-2326-SM-5GZZY'</li><li>'GTEX-1128S-2426-SM-5H11B'</li><li>'GTEX-1128S-2526-SM-5H11N'</li><li>'GTEX-1128S-2626-SM-5H11Z'</li><li>'GTEX-1128S-2726-SM-5H12C'</li><li>'GTEX-1128S-2826-SM-5N9DI'</li><li>'GTEX-113IC-0001-SM-58Q97'</li><li>'GTEX-113IC-0001-SM-5DWSI'</li><li>'GTEX-113IC-0001-SM-DLIPU'</li><li>'GTEX-113IC-0006-SM-5NQ9C'</li><li>'GTEX-113IC-0008-SM-5QGRF'</li><li>'GTEX-113IC-0126-SM-5HL6T'</li><li>'GTEX-113IC-0226-SM-5HL5C'</li><li>'GTEX-113IC-0426-SM-5HL5O'</li><li>'GTEX-113IC-0526-SM-5HL76'</li><li>'GTEX-113JC-0001-SM-58Q7M'</li><li>'GTEX-113JC-0001-SM-5DWSH'</li><li>'GTEX-113JC-0001-SM-6WBTD'</li><li>'GTEX-113JC-0006-SM-5O997'</li><li>'GTEX-113JC-0008-SM-5QGR6'</li><li>'GTEX-113JC-0126-SM-5EGJW'</li><li>'GTEX-113JC-0726-SM-5GZZR'</li><li>'GTEX-113JC-0926-SM-5H114'</li><li>'GTEX-113JC-1026-SM-5H117'</li><li>'GTEX-113JC-1926-SM-5N9GE'</li><li>'GTEX-113JC-2226-SM-5EGJG'</li><li>'GTEX-113JC-2326-SM-5EQ4E'</li><li>'GTEX-113JC-2726-SM-5EGIS'</li><li>'GTEX-113JC-2826-SM-5EGIT'</li><li>'GTEX-117XS-0001-SM-58Q7J'</li><li>'GTEX-117XS-0001-SM-5DWSE'</li><li>'GTEX-117XS-0001-SM-6WBTA'</li><li>'GTEX-117XS-0005-SM-5PNU6'</li><li>'GTEX-117XS-0008-SM-5Q5DQ'</li><li>'GTEX-117XS-0011-R10a-SM-AHZ7G'</li><li>'GTEX-117XS-0426-SM-5GZZN'</li><li>'GTEX-117XS-0526-SM-5987Q'</li><li>'GTEX-117XS-0726-SM-5H131'</li><li>'GTEX-117XS-1926-SM-5GICO'</li><li>'GTEX-117XS-2026-SM-5GID1'</li><li>'GTEX-117XS-2226-SM-5GIE1'</li><li>'GTEX-117XS-2526-SM-5H11G'</li><li>'GTEX-117XS-2526-SM-CYKR4'</li><li>'GTEX-117XS-2726-SM-5N9BL'</li><li>'GTEX-117XS-2926-SM-5N9BX'</li><li>'GTEX-117XS-3026-SM-5N9CA'</li><li>'GTEX-117XS-3026-SM-CYKOR'</li><li>'GTEX-117XS-3126-SM-5GIDP'</li><li>'GTEX-117YW-0003-SM-58Q99'</li><li>⋯</li><li>'K-562-SM-2S1RI'</li><li>'K-562-SM-2TC5E'</li><li>'K-562-SM-2TC6R'</li><li>'K-562-SM-2TF4E'</li><li>'K-562-SM-2TF5R'</li><li>'K-562-SM-2TO4S'</li><li>'K-562-SM-2TWBO'</li><li>'K-562-SM-2XCBH'</li><li>'K-562-SM-2XCE8'</li><li>'K-562-SM-2XCFL'</li><li>'K-562-SM-2XU9E'</li><li>'K-562-SM-2XV5K'</li><li>'K-562-SM-2YUNN'</li><li>'K-562-SM-32PLC'</li><li>'K-562-SM-32PMP'</li><li>'K-562-SM-32QPQ'</li><li>'K-562-SM-33HC7'</li><li>'K-562-SM-3DB9M'</li><li>'K-562-SM-3GADY'</li><li>'K-562-SM-3GAFC'</li><li>'K-562-SM-3GIKB'</li><li>'K-562-SM-3GILO'</li><li>'K-562-SM-3K2BF'</li><li>'K-562-SM-3LK7S'</li><li>'K-562-SM-3MJHH'</li><li>'K-562-SM-3NB3I'</li><li>'K-562-SM-3NMAP'</li><li>'K-562-SM-3NMDG'</li><li>'K-562-SM-3P61Y'</li><li>'K-562-SM-43ISS'</li><li>'K-562-SM-43V9A'</li><li>'K-562-SM-46MWI'</li><li>'K-562-SM-47JYY'</li><li>'K-562-SM-48FEU'</li><li>'K-562-SM-48TE3'</li><li>'K-562-SM-48U2C'</li><li>'K-562-SM-4AD4F'</li><li>'K-562-SM-4AT3W'</li><li>'K-562-SM-4B66B'</li><li>'K-562-SM-4BONS'</li><li>'K-562-SM-4BRWK'</li><li>'K-562-SM-4DM4W'</li><li>'K-562-SM-4DXSD'</li><li>'K-562-SM-4EDPU'</li><li>'K-562-SM-4GICD'</li><li>'K-562-SM-4IHK7'</li><li>'K-562-SM-4JBIQ'</li><li>'K-562-SM-4KKZ9'</li><li>'K-562-SM-4LMI2'</li><li>'K-562-SM-4LVKX'</li><li>'K-562-SM-4M1XD'</li><li>'K-562-SM-4MVNA'</li><li>'K-562-SM-4OOR8'</li><li>'K-562-SM-4PQYN'</li><li>'K-562-SM-4QAR5'</li><li>'K-562-SM-4R59E'</li><li>'K-562-SM-4RGL3'</li><li>'K-562-SM-4RH3A'</li><li>'K-562-SM-4RTUY'</li><li>'K-562-SM-4SOHT'</li><li>'K-562-SM-4SOLN'</li><li>'K-562-SM-4T8CH'</li><li>'K-562-SM-4TT1D'</li><li>'K-562-SM-4TT6S'</li><li>'K-562-SM-4U82S'</li><li>'K-562-SM-4V81D'</li><li>'K-562-SM-4VBPT'</li><li>'K-562-SM-4VDQQ'</li><li>'K-562-SM-4W1Y5'</li><li>'K-562-SM-4WAWH'</li><li>'K-562-SM-4WKF1'</li><li>'K-562-SM-4WWAK'</li><li>'K-562-SM-4YCCQ'</li><li>'K-562-SM-51MQT'</li><li>'K-562-SM-57WAW'</li><li>'K-562-SM-59HJ4'</li><li>'K-562-SM-5CVL5'</li><li>'K-562-SM-5DUV6'</li><li>'K-562-SM-5E43B'</li><li>'K-562-SM-5GZWN'</li><li>'K-562-SM-5GZZE'</li><li>'K-562-SM-5HL4J'</li><li>'K-562-SM-5HL7A'</li><li>'K-562-SM-5IFEL'</li><li>'K-562-SM-5IFHC'</li><li>'K-562-SM-5IJB7'</li><li>'K-562-SM-5IJDX'</li><li>'K-562-SM-5J1MB'</li><li>'K-562-SM-5J2LX'</li><li>'K-562-SM-5K7TT'</li><li>'K-562-SM-5K7WK'</li><li>'K-562-SM-5K7ZB'</li><li>'K-562-SM-5KM2I'</li><li>'K-562-SM-5L3FO'</li><li>'K-562-SM-5LU2Y'</li><li>'K-562-SM-5LU8G'</li><li>'K-562-SM-5LZU1'</li><li>'K-562-SM-5LZWR'</li><li>'K-562-SM-5MR32'</li><li>'K-562-SM-5MR5S'</li><li>'K-562-SM-5N9B7'</li><li>'K-562-SM-5N9DX'</li><li>'K-562-SM-5NQ6M'</li><li>'K-562-SM-5NQ9D'</li><li>'K-562-SM-5O98J'</li><li>'K-562-SM-5O9BA'</li><li>'K-562-SM-5P9EQ'</li><li>'K-562-SM-5P9HH'</li><li>'K-562-SM-5PNU4'</li><li>'K-562-SM-5PNWU'</li><li>'K-562-SM-5Q59U'</li><li>'K-562-SM-5Q5CL'</li><li>'K-562-SM-5QGOR'</li><li>'K-562-SM-5RQHM'</li><li>'K-562-SM-66EY4'</li><li>'K-562-SM-686YS'</li><li>'K-562-SM-69LO5'</li><li>'K-562-SM-6AJ95'</li><li>'K-562-SM-6ETZI'</li><li>'K-562-SM-6LLH2'</li><li>'K-562-SM-6LPHZ'</li><li>'K-562-SM-6M461'</li><li>'K-562-SM-6PAL1'</li><li>'K-562-SM-7189B'</li><li>'K-562-SM-72D4W'</li><li>'K-562-SM-731AF'</li><li>'K-562-SM-731D6'</li><li>'K-562-SM-73KTR'</li><li>'K-562-SM-73KWI'</li><li>'K-562-SM-7938F'</li><li>'K-562-SM-793B6'</li><li>'K-562-SM-79OJI'</li><li>'K-562-SM-79OM9'</li><li>'K-562-SM-7DHKI'</li><li>'K-562-SM-7DUEE'</li><li>'K-562-SM-7EPG4'</li><li>'K-562-SM-7EWCW'</li><li>'K-562-SM-7IGL8'</li><li>'K-562-SM-7IGNY'</li><li>'K-562-SM-7KFRB'</li><li>'K-562-SM-7KUDR'</li><li>'K-562-SM-7KUKI'</li><li>'K-562-SM-7LG4B'</li><li>'K-562-SM-7LT88'</li><li>'K-562-SM-7MGVH'</li><li>'K-562-SM-7MKF2'</li><li>'K-562-SM-7MXT1'</li><li>'K-562-SM-7P8RB'</li><li>'K-562-SM-7RHFN'</li><li>'K-562-SM-9HWNP'</li><li>'K-562-SM-9HWNQ'</li><li>'K-562-SM-9HWNT'</li><li>'K-562-SM-9HWNU'</li><li>'K-562-SM-9HWNV'</li><li>'K-562-SM-9HWNW'</li><li>'K-562-SM-9HWO3'</li><li>'K-562-SM-9HWO4'</li><li>'K-562-SM-9HWOB'</li><li>'K-562-SM-9HWOD'</li><li>'K-562-SM-9HWOI'</li><li>'K-562-SM-9HWOK'</li><li>'K-562-SM-9HWOP'</li><li>'K-562-SM-9HWOQ'</li><li>'K-562-SM-9HWOR'</li><li>'K-562-SM-9HWOX'</li><li>'K-562-SM-9HWOY'</li><li>'K-562-SM-9HWP4'</li><li>'K-562-SM-9HWP5'</li><li>'K-562-SM-9HWP6'</li><li>'K-562-SM-9HWP7'</li><li>'K-562-SM-9HWP8'</li><li>'K-562-SM-9HWP9'</li><li>'K-562-SM-9HWPF'</li><li>'K-562-SM-9HWPM'</li><li>'K-562-SM-9HWPN'</li><li>'K-562-SM-9HWPV'</li><li>'K-562-SM-9HWPW'</li><li>'K-562-SM-9HWPX'</li><li>'K-562-SM-9HWPY'</li><li>'K-562-SM-9HWPZ'</li><li>'K-562-SM-9HWQ7'</li><li>'K-562-SM-9HWQ9'</li><li>'K-562-SM-9HWQF'</li><li>'K-562-SM-9HWQG'</li><li>'K-562-SM-9JGFK'</li><li>'K-562-SM-9MQJO'</li><li>'K-562-SM-CJI1Q'</li><li>'K-562-SM-CKZN7'</li><li>'K-562-SM-E9EYN'</li><li>'K-562-SM-E9EYO'</li><li>'K-562-SM-E9EYP'</li><li>'K-562-SM-E9EYT'</li><li>'K-562-SM-E9EYU'</li><li>'K-562-SM-E9EYV'</li><li>'K-562-SM-E9EYZ'</li><li>'K-562-SM-E9EZC'</li><li>'K-562-SM-E9EZI'</li><li>'K-562-SM-E9EZO'</li><li>'K-562-SM-E9EZT'</li><li>'K-562-SM-E9EZZ'</li></ol>\n",
       "</details>"
      ],
      "text/latex": [
       "\\textbf{GTEX-1117F-0226-SM-5GZZ7:} GTEX-1117F-0226-SM-5GZZ7\n",
       "\\emph{Levels}: \\begin{enumerate*}\n",
       "\\item 'GTEX-1117F-0003-SM-58Q7G'\n",
       "\\item 'GTEX-1117F-0003-SM-5DWSB'\n",
       "\\item 'GTEX-1117F-0003-SM-6WBT7'\n",
       "\\item 'GTEX-1117F-0011-R10a-SM-AHZ7F'\n",
       "\\item 'GTEX-1117F-0011-R10b-SM-CYKQ8'\n",
       "\\item 'GTEX-1117F-0226-SM-5GZZ7'\n",
       "\\item 'GTEX-1117F-0426-SM-5EGHI'\n",
       "\\item 'GTEX-1117F-0526-SM-5EGHJ'\n",
       "\\item 'GTEX-1117F-0626-SM-5N9CS'\n",
       "\\item 'GTEX-1117F-0726-SM-5GIEN'\n",
       "\\item 'GTEX-1117F-1326-SM-5EGHH'\n",
       "\\item 'GTEX-1117F-2226-SM-5N9CH'\n",
       "\\item 'GTEX-1117F-2426-SM-5EGGH'\n",
       "\\item 'GTEX-1117F-2526-SM-5GZY6'\n",
       "\\item 'GTEX-1117F-2826-SM-5GZXL'\n",
       "\\item 'GTEX-1117F-2926-SM-5GZYI'\n",
       "\\item 'GTEX-1117F-3026-SM-5GZYU'\n",
       "\\item 'GTEX-1117F-3226-SM-5N9CT'\n",
       "\\item 'GTEX-111CU-0003-SM-58Q95'\n",
       "\\item 'GTEX-111CU-0003-SM-5DWTR'\n",
       "\\item 'GTEX-111CU-0003-SM-6WBUD'\n",
       "\\item 'GTEX-111CU-0126-SM-5GZWZ'\n",
       "\\item 'GTEX-111CU-0226-SM-5GZXC'\n",
       "\\item 'GTEX-111CU-0326-SM-5GZXO'\n",
       "\\item 'GTEX-111CU-0426-SM-5GZY1'\n",
       "\\item 'GTEX-111CU-0526-SM-5EGHK'\n",
       "\\item 'GTEX-111CU-0626-SM-5EGHL'\n",
       "\\item 'GTEX-111CU-0726-SM-5GZYD'\n",
       "\\item 'GTEX-111CU-0826-SM-5EGIJ'\n",
       "\\item 'GTEX-111CU-0926-SM-5EGIK'\n",
       "\\item 'GTEX-111CU-1026-SM-5EGIL'\n",
       "\\item 'GTEX-111CU-1126-SM-5EGIM'\n",
       "\\item 'GTEX-111CU-1226-SM-5EGIN'\n",
       "\\item 'GTEX-111CU-1326-SM-5NQ8L'\n",
       "\\item 'GTEX-111CU-1426-SM-5GZYP'\n",
       "\\item 'GTEX-111CU-1526-SM-5N9FS'\n",
       "\\item 'GTEX-111CU-1726-SM-5EGHM'\n",
       "\\item 'GTEX-111CU-1826-SM-5GZYN'\n",
       "\\item 'GTEX-111CU-1926-SM-5GZYZ'\n",
       "\\item 'GTEX-111CU-2026-SM-5GZZC'\n",
       "\\item 'GTEX-111CU-2226-SM-5N9G5'\n",
       "\\item 'GTEX-111FC-0001-SM-58Q7U'\n",
       "\\item 'GTEX-111FC-0001-SM-5DWSO'\n",
       "\\item 'GTEX-111FC-0001-SM-6WBTJ'\n",
       "\\item 'GTEX-111FC-0011-R10a-SM-AHZ7K'\n",
       "\\item 'GTEX-111FC-0011-R10a-SM-CYKQ9'\n",
       "\\item 'GTEX-111FC-0126-SM-5N9DL'\n",
       "\\item 'GTEX-111FC-0226-SM-5N9B8'\n",
       "\\item 'GTEX-111FC-0326-SM-5GZZ1'\n",
       "\\item 'GTEX-111FC-0426-SM-5N9CV'\n",
       "\\item 'GTEX-111FC-0526-SM-5GZZ8'\n",
       "\\item 'GTEX-111FC-0626-SM-5N9CU'\n",
       "\\item 'GTEX-111FC-0826-SM-5GZWO'\n",
       "\\item 'GTEX-111FC-0826-SM-CYKRT'\n",
       "\\item 'GTEX-111FC-1026-SM-5GZX1'\n",
       "\\item 'GTEX-111FC-1126-SM-5GZWU'\n",
       "\\item 'GTEX-111FC-1326-SM-5N9D9'\n",
       "\\item 'GTEX-111FC-1426-SM-5N9C7'\n",
       "\\item 'GTEX-111FC-1926-SM-5GZYC'\n",
       "\\item 'GTEX-111FC-2026-SM-5GZYO'\n",
       "\\item 'GTEX-111FC-2526-SM-5GZXU'\n",
       "\\item 'GTEX-111FC-2926-SM-5GZY7'\n",
       "\\item 'GTEX-111FC-3026-SM-5GZYJ'\n",
       "\\item 'GTEX-111FC-3126-SM-5GZZ2'\n",
       "\\item 'GTEX-111FC-3326-SM-5GZYV'\n",
       "\\item 'GTEX-111VG-0004-SM-58Q85'\n",
       "\\item 'GTEX-111VG-0004-SM-5DWSX'\n",
       "\\item 'GTEX-111VG-0004-SM-6WBTS'\n",
       "\\item 'GTEX-111VG-0008-SM-5Q5BG'\n",
       "\\item 'GTEX-111VG-0326-SM-5GZX7'\n",
       "\\item 'GTEX-111VG-0526-SM-5N9BW'\n",
       "\\item 'GTEX-111VG-0726-SM-5GIDC'\n",
       "\\item 'GTEX-111VG-1626-SM-5EGIO'\n",
       "\\item 'GTEX-111VG-1926-SM-5GIDO'\n",
       "\\item 'GTEX-111VG-2226-SM-5N9DU'\n",
       "\\item 'GTEX-111VG-2326-SM-5N9BK'\n",
       "\\item 'GTEX-111VG-2426-SM-5GZXD'\n",
       "\\item 'GTEX-111VG-2526-SM-5GZXP'\n",
       "\\item 'GTEX-111VG-2626-SM-5GZY2'\n",
       "\\item 'GTEX-111YS-0004-SM-58Q7Y'\n",
       "\\item 'GTEX-111YS-0004-SM-5DWSS'\n",
       "\\item 'GTEX-111YS-0004-SM-6WBTN'\n",
       "\\item 'GTEX-111YS-0006-SM-5NQBE'\n",
       "\\item 'GTEX-111YS-0008-SM-5Q5BH'\n",
       "\\item 'GTEX-111YS-0126-SM-5987T'\n",
       "\\item 'GTEX-111YS-0326-SM-5GZZ3'\n",
       "\\item 'GTEX-111YS-0426-SM-5987O'\n",
       "\\item 'GTEX-111YS-0526-SM-5GZXJ'\n",
       "\\item 'GTEX-111YS-0626-SM-5GZXV'\n",
       "\\item 'GTEX-111YS-0726-SM-5GZY8'\n",
       "\\item 'GTEX-111YS-0826-SM-5GZYK'\n",
       "\\item 'GTEX-111YS-0926-SM-5EGGI'\n",
       "\\item 'GTEX-111YS-1026-SM-5GZYE'\n",
       "\\item 'GTEX-111YS-1126-SM-5GZYQ'\n",
       "\\item 'GTEX-111YS-1226-SM-5EGGJ'\n",
       "\\item 'GTEX-111YS-1326-SM-5EGGK'\n",
       "\\item 'GTEX-111YS-1426-SM-5GID8'\n",
       "\\item 'GTEX-111YS-1526-SM-5GZYW'\n",
       "\\item 'GTEX-111YS-1626-SM-5GZZ9'\n",
       "\\item 'GTEX-111YS-1726-SM-5GIED'\n",
       "\\item 'GTEX-111YS-1826-SM-5GIEP'\n",
       "\\item 'GTEX-111YS-1926-SM-5GICC'\n",
       "\\item 'GTEX-111YS-2026-SM-5EGGL'\n",
       "\\item 'GTEX-111YS-2126-SM-5EGGM'\n",
       "\\item 'GTEX-111YS-2226-SM-5987P'\n",
       "\\item 'GTEX-111YS-2326-SM-5987L'\n",
       "\\item 'GTEX-111YS-2426-SM-5GZZQ'\n",
       "\\item 'GTEX-1122O-0003-SM-5Q5DL'\n",
       "\\item 'GTEX-1122O-0004-SM-58Q7O'\n",
       "\\item 'GTEX-1122O-0004-SM-5DWSJ'\n",
       "\\item 'GTEX-1122O-0004-SM-6WBTE'\n",
       "\\item 'GTEX-1122O-0005-SM-5O99J'\n",
       "\\item 'GTEX-1122O-0008-SM-5QGR2'\n",
       "\\item 'GTEX-1122O-0126-SM-5GICA'\n",
       "\\item 'GTEX-1122O-0226-SM-5N9DA'\n",
       "\\item 'GTEX-1122O-0326-SM-5H124'\n",
       "\\item 'GTEX-1122O-0426-SM-5H12G'\n",
       "\\item 'GTEX-1122O-0526-SM-5N9DM'\n",
       "\\item 'GTEX-1122O-0626-SM-5N9B9'\n",
       "\\item 'GTEX-1122O-0726-SM-5GIEV'\n",
       "\\item 'GTEX-1122O-0826-SM-5GICV'\n",
       "\\item 'GTEX-1122O-0926-SM-5N9C9'\n",
       "\\item 'GTEX-1122O-0926-SM-9YFLC'\n",
       "\\item 'GTEX-1122O-1026-SM-9WYSF'\n",
       "\\item 'GTEX-1122O-1126-SM-5NQ8X'\n",
       "\\item 'GTEX-1122O-1226-SM-5H113'\n",
       "\\item 'GTEX-1122O-1326-SM-5H11F'\n",
       "\\item 'GTEX-1122O-1426-SM-5H11R'\n",
       "\\item 'GTEX-1122O-1526-SM-5N9CL'\n",
       "\\item 'GTEX-1122O-1626-SM-5N9CX'\n",
       "\\item 'GTEX-1122O-1726-SM-5GICM'\n",
       "\\item 'GTEX-1122O-1826-SM-5EGIP'\n",
       "\\item 'GTEX-1122O-1926-SM-5EGIQ'\n",
       "\\item 'GTEX-1122O-2026-SM-5NQ91'\n",
       "\\item 'GTEX-1122O-2026-SM-9YFMG'\n",
       "\\item 'GTEX-1122O-2126-SM-5EGIR'\n",
       "\\item 'GTEX-1122O-2326-SM-9YFL9'\n",
       "\\item 'GTEX-1122O-2426-SM-5GIDN'\n",
       "\\item 'GTEX-1128S-0001-SM-58Q96'\n",
       "\\item 'GTEX-1128S-0001-SM-5DWTV'\n",
       "\\item 'GTEX-1128S-0001-SM-6WBUH'\n",
       "\\item 'GTEX-1128S-0005-SM-5P9HI'\n",
       "\\item 'GTEX-1128S-0008-SM-5Q5DP'\n",
       "\\item 'GTEX-1128S-0126-SM-5H12S'\n",
       "\\item 'GTEX-1128S-0326-SM-5GZZF'\n",
       "\\item 'GTEX-1128S-0726-SM-5N9D6'\n",
       "\\item 'GTEX-1128S-0826-SM-5GZZI'\n",
       "\\item 'GTEX-1128S-0926-SM-5GZZU'\n",
       "\\item 'GTEX-1128S-1426-SM-5N9EF'\n",
       "\\item 'GTEX-1128S-1626-SM-5H12O'\n",
       "\\item 'GTEX-1128S-2126-SM-5H12U'\n",
       "\\item 'GTEX-1128S-2326-SM-5GZZY'\n",
       "\\item 'GTEX-1128S-2426-SM-5H11B'\n",
       "\\item 'GTEX-1128S-2526-SM-5H11N'\n",
       "\\item 'GTEX-1128S-2626-SM-5H11Z'\n",
       "\\item 'GTEX-1128S-2726-SM-5H12C'\n",
       "\\item 'GTEX-1128S-2826-SM-5N9DI'\n",
       "\\item 'GTEX-113IC-0001-SM-58Q97'\n",
       "\\item 'GTEX-113IC-0001-SM-5DWSI'\n",
       "\\item 'GTEX-113IC-0001-SM-DLIPU'\n",
       "\\item 'GTEX-113IC-0006-SM-5NQ9C'\n",
       "\\item 'GTEX-113IC-0008-SM-5QGRF'\n",
       "\\item 'GTEX-113IC-0126-SM-5HL6T'\n",
       "\\item 'GTEX-113IC-0226-SM-5HL5C'\n",
       "\\item 'GTEX-113IC-0426-SM-5HL5O'\n",
       "\\item 'GTEX-113IC-0526-SM-5HL76'\n",
       "\\item 'GTEX-113JC-0001-SM-58Q7M'\n",
       "\\item 'GTEX-113JC-0001-SM-5DWSH'\n",
       "\\item 'GTEX-113JC-0001-SM-6WBTD'\n",
       "\\item 'GTEX-113JC-0006-SM-5O997'\n",
       "\\item 'GTEX-113JC-0008-SM-5QGR6'\n",
       "\\item 'GTEX-113JC-0126-SM-5EGJW'\n",
       "\\item 'GTEX-113JC-0726-SM-5GZZR'\n",
       "\\item 'GTEX-113JC-0926-SM-5H114'\n",
       "\\item 'GTEX-113JC-1026-SM-5H117'\n",
       "\\item 'GTEX-113JC-1926-SM-5N9GE'\n",
       "\\item 'GTEX-113JC-2226-SM-5EGJG'\n",
       "\\item 'GTEX-113JC-2326-SM-5EQ4E'\n",
       "\\item 'GTEX-113JC-2726-SM-5EGIS'\n",
       "\\item 'GTEX-113JC-2826-SM-5EGIT'\n",
       "\\item 'GTEX-117XS-0001-SM-58Q7J'\n",
       "\\item 'GTEX-117XS-0001-SM-5DWSE'\n",
       "\\item 'GTEX-117XS-0001-SM-6WBTA'\n",
       "\\item 'GTEX-117XS-0005-SM-5PNU6'\n",
       "\\item 'GTEX-117XS-0008-SM-5Q5DQ'\n",
       "\\item 'GTEX-117XS-0011-R10a-SM-AHZ7G'\n",
       "\\item 'GTEX-117XS-0426-SM-5GZZN'\n",
       "\\item 'GTEX-117XS-0526-SM-5987Q'\n",
       "\\item 'GTEX-117XS-0726-SM-5H131'\n",
       "\\item 'GTEX-117XS-1926-SM-5GICO'\n",
       "\\item 'GTEX-117XS-2026-SM-5GID1'\n",
       "\\item 'GTEX-117XS-2226-SM-5GIE1'\n",
       "\\item 'GTEX-117XS-2526-SM-5H11G'\n",
       "\\item 'GTEX-117XS-2526-SM-CYKR4'\n",
       "\\item 'GTEX-117XS-2726-SM-5N9BL'\n",
       "\\item 'GTEX-117XS-2926-SM-5N9BX'\n",
       "\\item 'GTEX-117XS-3026-SM-5N9CA'\n",
       "\\item 'GTEX-117XS-3026-SM-CYKOR'\n",
       "\\item 'GTEX-117XS-3126-SM-5GIDP'\n",
       "\\item 'GTEX-117YW-0003-SM-58Q99'\n",
       "\\item ⋯\n",
       "\\item 'K-562-SM-2S1RI'\n",
       "\\item 'K-562-SM-2TC5E'\n",
       "\\item 'K-562-SM-2TC6R'\n",
       "\\item 'K-562-SM-2TF4E'\n",
       "\\item 'K-562-SM-2TF5R'\n",
       "\\item 'K-562-SM-2TO4S'\n",
       "\\item 'K-562-SM-2TWBO'\n",
       "\\item 'K-562-SM-2XCBH'\n",
       "\\item 'K-562-SM-2XCE8'\n",
       "\\item 'K-562-SM-2XCFL'\n",
       "\\item 'K-562-SM-2XU9E'\n",
       "\\item 'K-562-SM-2XV5K'\n",
       "\\item 'K-562-SM-2YUNN'\n",
       "\\item 'K-562-SM-32PLC'\n",
       "\\item 'K-562-SM-32PMP'\n",
       "\\item 'K-562-SM-32QPQ'\n",
       "\\item 'K-562-SM-33HC7'\n",
       "\\item 'K-562-SM-3DB9M'\n",
       "\\item 'K-562-SM-3GADY'\n",
       "\\item 'K-562-SM-3GAFC'\n",
       "\\item 'K-562-SM-3GIKB'\n",
       "\\item 'K-562-SM-3GILO'\n",
       "\\item 'K-562-SM-3K2BF'\n",
       "\\item 'K-562-SM-3LK7S'\n",
       "\\item 'K-562-SM-3MJHH'\n",
       "\\item 'K-562-SM-3NB3I'\n",
       "\\item 'K-562-SM-3NMAP'\n",
       "\\item 'K-562-SM-3NMDG'\n",
       "\\item 'K-562-SM-3P61Y'\n",
       "\\item 'K-562-SM-43ISS'\n",
       "\\item 'K-562-SM-43V9A'\n",
       "\\item 'K-562-SM-46MWI'\n",
       "\\item 'K-562-SM-47JYY'\n",
       "\\item 'K-562-SM-48FEU'\n",
       "\\item 'K-562-SM-48TE3'\n",
       "\\item 'K-562-SM-48U2C'\n",
       "\\item 'K-562-SM-4AD4F'\n",
       "\\item 'K-562-SM-4AT3W'\n",
       "\\item 'K-562-SM-4B66B'\n",
       "\\item 'K-562-SM-4BONS'\n",
       "\\item 'K-562-SM-4BRWK'\n",
       "\\item 'K-562-SM-4DM4W'\n",
       "\\item 'K-562-SM-4DXSD'\n",
       "\\item 'K-562-SM-4EDPU'\n",
       "\\item 'K-562-SM-4GICD'\n",
       "\\item 'K-562-SM-4IHK7'\n",
       "\\item 'K-562-SM-4JBIQ'\n",
       "\\item 'K-562-SM-4KKZ9'\n",
       "\\item 'K-562-SM-4LMI2'\n",
       "\\item 'K-562-SM-4LVKX'\n",
       "\\item 'K-562-SM-4M1XD'\n",
       "\\item 'K-562-SM-4MVNA'\n",
       "\\item 'K-562-SM-4OOR8'\n",
       "\\item 'K-562-SM-4PQYN'\n",
       "\\item 'K-562-SM-4QAR5'\n",
       "\\item 'K-562-SM-4R59E'\n",
       "\\item 'K-562-SM-4RGL3'\n",
       "\\item 'K-562-SM-4RH3A'\n",
       "\\item 'K-562-SM-4RTUY'\n",
       "\\item 'K-562-SM-4SOHT'\n",
       "\\item 'K-562-SM-4SOLN'\n",
       "\\item 'K-562-SM-4T8CH'\n",
       "\\item 'K-562-SM-4TT1D'\n",
       "\\item 'K-562-SM-4TT6S'\n",
       "\\item 'K-562-SM-4U82S'\n",
       "\\item 'K-562-SM-4V81D'\n",
       "\\item 'K-562-SM-4VBPT'\n",
       "\\item 'K-562-SM-4VDQQ'\n",
       "\\item 'K-562-SM-4W1Y5'\n",
       "\\item 'K-562-SM-4WAWH'\n",
       "\\item 'K-562-SM-4WKF1'\n",
       "\\item 'K-562-SM-4WWAK'\n",
       "\\item 'K-562-SM-4YCCQ'\n",
       "\\item 'K-562-SM-51MQT'\n",
       "\\item 'K-562-SM-57WAW'\n",
       "\\item 'K-562-SM-59HJ4'\n",
       "\\item 'K-562-SM-5CVL5'\n",
       "\\item 'K-562-SM-5DUV6'\n",
       "\\item 'K-562-SM-5E43B'\n",
       "\\item 'K-562-SM-5GZWN'\n",
       "\\item 'K-562-SM-5GZZE'\n",
       "\\item 'K-562-SM-5HL4J'\n",
       "\\item 'K-562-SM-5HL7A'\n",
       "\\item 'K-562-SM-5IFEL'\n",
       "\\item 'K-562-SM-5IFHC'\n",
       "\\item 'K-562-SM-5IJB7'\n",
       "\\item 'K-562-SM-5IJDX'\n",
       "\\item 'K-562-SM-5J1MB'\n",
       "\\item 'K-562-SM-5J2LX'\n",
       "\\item 'K-562-SM-5K7TT'\n",
       "\\item 'K-562-SM-5K7WK'\n",
       "\\item 'K-562-SM-5K7ZB'\n",
       "\\item 'K-562-SM-5KM2I'\n",
       "\\item 'K-562-SM-5L3FO'\n",
       "\\item 'K-562-SM-5LU2Y'\n",
       "\\item 'K-562-SM-5LU8G'\n",
       "\\item 'K-562-SM-5LZU1'\n",
       "\\item 'K-562-SM-5LZWR'\n",
       "\\item 'K-562-SM-5MR32'\n",
       "\\item 'K-562-SM-5MR5S'\n",
       "\\item 'K-562-SM-5N9B7'\n",
       "\\item 'K-562-SM-5N9DX'\n",
       "\\item 'K-562-SM-5NQ6M'\n",
       "\\item 'K-562-SM-5NQ9D'\n",
       "\\item 'K-562-SM-5O98J'\n",
       "\\item 'K-562-SM-5O9BA'\n",
       "\\item 'K-562-SM-5P9EQ'\n",
       "\\item 'K-562-SM-5P9HH'\n",
       "\\item 'K-562-SM-5PNU4'\n",
       "\\item 'K-562-SM-5PNWU'\n",
       "\\item 'K-562-SM-5Q59U'\n",
       "\\item 'K-562-SM-5Q5CL'\n",
       "\\item 'K-562-SM-5QGOR'\n",
       "\\item 'K-562-SM-5RQHM'\n",
       "\\item 'K-562-SM-66EY4'\n",
       "\\item 'K-562-SM-686YS'\n",
       "\\item 'K-562-SM-69LO5'\n",
       "\\item 'K-562-SM-6AJ95'\n",
       "\\item 'K-562-SM-6ETZI'\n",
       "\\item 'K-562-SM-6LLH2'\n",
       "\\item 'K-562-SM-6LPHZ'\n",
       "\\item 'K-562-SM-6M461'\n",
       "\\item 'K-562-SM-6PAL1'\n",
       "\\item 'K-562-SM-7189B'\n",
       "\\item 'K-562-SM-72D4W'\n",
       "\\item 'K-562-SM-731AF'\n",
       "\\item 'K-562-SM-731D6'\n",
       "\\item 'K-562-SM-73KTR'\n",
       "\\item 'K-562-SM-73KWI'\n",
       "\\item 'K-562-SM-7938F'\n",
       "\\item 'K-562-SM-793B6'\n",
       "\\item 'K-562-SM-79OJI'\n",
       "\\item 'K-562-SM-79OM9'\n",
       "\\item 'K-562-SM-7DHKI'\n",
       "\\item 'K-562-SM-7DUEE'\n",
       "\\item 'K-562-SM-7EPG4'\n",
       "\\item 'K-562-SM-7EWCW'\n",
       "\\item 'K-562-SM-7IGL8'\n",
       "\\item 'K-562-SM-7IGNY'\n",
       "\\item 'K-562-SM-7KFRB'\n",
       "\\item 'K-562-SM-7KUDR'\n",
       "\\item 'K-562-SM-7KUKI'\n",
       "\\item 'K-562-SM-7LG4B'\n",
       "\\item 'K-562-SM-7LT88'\n",
       "\\item 'K-562-SM-7MGVH'\n",
       "\\item 'K-562-SM-7MKF2'\n",
       "\\item 'K-562-SM-7MXT1'\n",
       "\\item 'K-562-SM-7P8RB'\n",
       "\\item 'K-562-SM-7RHFN'\n",
       "\\item 'K-562-SM-9HWNP'\n",
       "\\item 'K-562-SM-9HWNQ'\n",
       "\\item 'K-562-SM-9HWNT'\n",
       "\\item 'K-562-SM-9HWNU'\n",
       "\\item 'K-562-SM-9HWNV'\n",
       "\\item 'K-562-SM-9HWNW'\n",
       "\\item 'K-562-SM-9HWO3'\n",
       "\\item 'K-562-SM-9HWO4'\n",
       "\\item 'K-562-SM-9HWOB'\n",
       "\\item 'K-562-SM-9HWOD'\n",
       "\\item 'K-562-SM-9HWOI'\n",
       "\\item 'K-562-SM-9HWOK'\n",
       "\\item 'K-562-SM-9HWOP'\n",
       "\\item 'K-562-SM-9HWOQ'\n",
       "\\item 'K-562-SM-9HWOR'\n",
       "\\item 'K-562-SM-9HWOX'\n",
       "\\item 'K-562-SM-9HWOY'\n",
       "\\item 'K-562-SM-9HWP4'\n",
       "\\item 'K-562-SM-9HWP5'\n",
       "\\item 'K-562-SM-9HWP6'\n",
       "\\item 'K-562-SM-9HWP7'\n",
       "\\item 'K-562-SM-9HWP8'\n",
       "\\item 'K-562-SM-9HWP9'\n",
       "\\item 'K-562-SM-9HWPF'\n",
       "\\item 'K-562-SM-9HWPM'\n",
       "\\item 'K-562-SM-9HWPN'\n",
       "\\item 'K-562-SM-9HWPV'\n",
       "\\item 'K-562-SM-9HWPW'\n",
       "\\item 'K-562-SM-9HWPX'\n",
       "\\item 'K-562-SM-9HWPY'\n",
       "\\item 'K-562-SM-9HWPZ'\n",
       "\\item 'K-562-SM-9HWQ7'\n",
       "\\item 'K-562-SM-9HWQ9'\n",
       "\\item 'K-562-SM-9HWQF'\n",
       "\\item 'K-562-SM-9HWQG'\n",
       "\\item 'K-562-SM-9JGFK'\n",
       "\\item 'K-562-SM-9MQJO'\n",
       "\\item 'K-562-SM-CJI1Q'\n",
       "\\item 'K-562-SM-CKZN7'\n",
       "\\item 'K-562-SM-E9EYN'\n",
       "\\item 'K-562-SM-E9EYO'\n",
       "\\item 'K-562-SM-E9EYP'\n",
       "\\item 'K-562-SM-E9EYT'\n",
       "\\item 'K-562-SM-E9EYU'\n",
       "\\item 'K-562-SM-E9EYV'\n",
       "\\item 'K-562-SM-E9EYZ'\n",
       "\\item 'K-562-SM-E9EZC'\n",
       "\\item 'K-562-SM-E9EZI'\n",
       "\\item 'K-562-SM-E9EZO'\n",
       "\\item 'K-562-SM-E9EZT'\n",
       "\\item 'K-562-SM-E9EZZ'\n",
       "\\end{enumerate*}\n"
      ],
      "text/markdown": [
       "**GTEX-1117F-0226-SM-5GZZ7:** GTEX-1117F-0226-SM-5GZZ7\n",
       "**Levels**: 1. 'GTEX-1117F-0003-SM-58Q7G'\n",
       "2. 'GTEX-1117F-0003-SM-5DWSB'\n",
       "3. 'GTEX-1117F-0003-SM-6WBT7'\n",
       "4. 'GTEX-1117F-0011-R10a-SM-AHZ7F'\n",
       "5. 'GTEX-1117F-0011-R10b-SM-CYKQ8'\n",
       "6. 'GTEX-1117F-0226-SM-5GZZ7'\n",
       "7. 'GTEX-1117F-0426-SM-5EGHI'\n",
       "8. 'GTEX-1117F-0526-SM-5EGHJ'\n",
       "9. 'GTEX-1117F-0626-SM-5N9CS'\n",
       "10. 'GTEX-1117F-0726-SM-5GIEN'\n",
       "11. 'GTEX-1117F-1326-SM-5EGHH'\n",
       "12. 'GTEX-1117F-2226-SM-5N9CH'\n",
       "13. 'GTEX-1117F-2426-SM-5EGGH'\n",
       "14. 'GTEX-1117F-2526-SM-5GZY6'\n",
       "15. 'GTEX-1117F-2826-SM-5GZXL'\n",
       "16. 'GTEX-1117F-2926-SM-5GZYI'\n",
       "17. 'GTEX-1117F-3026-SM-5GZYU'\n",
       "18. 'GTEX-1117F-3226-SM-5N9CT'\n",
       "19. 'GTEX-111CU-0003-SM-58Q95'\n",
       "20. 'GTEX-111CU-0003-SM-5DWTR'\n",
       "21. 'GTEX-111CU-0003-SM-6WBUD'\n",
       "22. 'GTEX-111CU-0126-SM-5GZWZ'\n",
       "23. 'GTEX-111CU-0226-SM-5GZXC'\n",
       "24. 'GTEX-111CU-0326-SM-5GZXO'\n",
       "25. 'GTEX-111CU-0426-SM-5GZY1'\n",
       "26. 'GTEX-111CU-0526-SM-5EGHK'\n",
       "27. 'GTEX-111CU-0626-SM-5EGHL'\n",
       "28. 'GTEX-111CU-0726-SM-5GZYD'\n",
       "29. 'GTEX-111CU-0826-SM-5EGIJ'\n",
       "30. 'GTEX-111CU-0926-SM-5EGIK'\n",
       "31. 'GTEX-111CU-1026-SM-5EGIL'\n",
       "32. 'GTEX-111CU-1126-SM-5EGIM'\n",
       "33. 'GTEX-111CU-1226-SM-5EGIN'\n",
       "34. 'GTEX-111CU-1326-SM-5NQ8L'\n",
       "35. 'GTEX-111CU-1426-SM-5GZYP'\n",
       "36. 'GTEX-111CU-1526-SM-5N9FS'\n",
       "37. 'GTEX-111CU-1726-SM-5EGHM'\n",
       "38. 'GTEX-111CU-1826-SM-5GZYN'\n",
       "39. 'GTEX-111CU-1926-SM-5GZYZ'\n",
       "40. 'GTEX-111CU-2026-SM-5GZZC'\n",
       "41. 'GTEX-111CU-2226-SM-5N9G5'\n",
       "42. 'GTEX-111FC-0001-SM-58Q7U'\n",
       "43. 'GTEX-111FC-0001-SM-5DWSO'\n",
       "44. 'GTEX-111FC-0001-SM-6WBTJ'\n",
       "45. 'GTEX-111FC-0011-R10a-SM-AHZ7K'\n",
       "46. 'GTEX-111FC-0011-R10a-SM-CYKQ9'\n",
       "47. 'GTEX-111FC-0126-SM-5N9DL'\n",
       "48. 'GTEX-111FC-0226-SM-5N9B8'\n",
       "49. 'GTEX-111FC-0326-SM-5GZZ1'\n",
       "50. 'GTEX-111FC-0426-SM-5N9CV'\n",
       "51. 'GTEX-111FC-0526-SM-5GZZ8'\n",
       "52. 'GTEX-111FC-0626-SM-5N9CU'\n",
       "53. 'GTEX-111FC-0826-SM-5GZWO'\n",
       "54. 'GTEX-111FC-0826-SM-CYKRT'\n",
       "55. 'GTEX-111FC-1026-SM-5GZX1'\n",
       "56. 'GTEX-111FC-1126-SM-5GZWU'\n",
       "57. 'GTEX-111FC-1326-SM-5N9D9'\n",
       "58. 'GTEX-111FC-1426-SM-5N9C7'\n",
       "59. 'GTEX-111FC-1926-SM-5GZYC'\n",
       "60. 'GTEX-111FC-2026-SM-5GZYO'\n",
       "61. 'GTEX-111FC-2526-SM-5GZXU'\n",
       "62. 'GTEX-111FC-2926-SM-5GZY7'\n",
       "63. 'GTEX-111FC-3026-SM-5GZYJ'\n",
       "64. 'GTEX-111FC-3126-SM-5GZZ2'\n",
       "65. 'GTEX-111FC-3326-SM-5GZYV'\n",
       "66. 'GTEX-111VG-0004-SM-58Q85'\n",
       "67. 'GTEX-111VG-0004-SM-5DWSX'\n",
       "68. 'GTEX-111VG-0004-SM-6WBTS'\n",
       "69. 'GTEX-111VG-0008-SM-5Q5BG'\n",
       "70. 'GTEX-111VG-0326-SM-5GZX7'\n",
       "71. 'GTEX-111VG-0526-SM-5N9BW'\n",
       "72. 'GTEX-111VG-0726-SM-5GIDC'\n",
       "73. 'GTEX-111VG-1626-SM-5EGIO'\n",
       "74. 'GTEX-111VG-1926-SM-5GIDO'\n",
       "75. 'GTEX-111VG-2226-SM-5N9DU'\n",
       "76. 'GTEX-111VG-2326-SM-5N9BK'\n",
       "77. 'GTEX-111VG-2426-SM-5GZXD'\n",
       "78. 'GTEX-111VG-2526-SM-5GZXP'\n",
       "79. 'GTEX-111VG-2626-SM-5GZY2'\n",
       "80. 'GTEX-111YS-0004-SM-58Q7Y'\n",
       "81. 'GTEX-111YS-0004-SM-5DWSS'\n",
       "82. 'GTEX-111YS-0004-SM-6WBTN'\n",
       "83. 'GTEX-111YS-0006-SM-5NQBE'\n",
       "84. 'GTEX-111YS-0008-SM-5Q5BH'\n",
       "85. 'GTEX-111YS-0126-SM-5987T'\n",
       "86. 'GTEX-111YS-0326-SM-5GZZ3'\n",
       "87. 'GTEX-111YS-0426-SM-5987O'\n",
       "88. 'GTEX-111YS-0526-SM-5GZXJ'\n",
       "89. 'GTEX-111YS-0626-SM-5GZXV'\n",
       "90. 'GTEX-111YS-0726-SM-5GZY8'\n",
       "91. 'GTEX-111YS-0826-SM-5GZYK'\n",
       "92. 'GTEX-111YS-0926-SM-5EGGI'\n",
       "93. 'GTEX-111YS-1026-SM-5GZYE'\n",
       "94. 'GTEX-111YS-1126-SM-5GZYQ'\n",
       "95. 'GTEX-111YS-1226-SM-5EGGJ'\n",
       "96. 'GTEX-111YS-1326-SM-5EGGK'\n",
       "97. 'GTEX-111YS-1426-SM-5GID8'\n",
       "98. 'GTEX-111YS-1526-SM-5GZYW'\n",
       "99. 'GTEX-111YS-1626-SM-5GZZ9'\n",
       "100. 'GTEX-111YS-1726-SM-5GIED'\n",
       "101. 'GTEX-111YS-1826-SM-5GIEP'\n",
       "102. 'GTEX-111YS-1926-SM-5GICC'\n",
       "103. 'GTEX-111YS-2026-SM-5EGGL'\n",
       "104. 'GTEX-111YS-2126-SM-5EGGM'\n",
       "105. 'GTEX-111YS-2226-SM-5987P'\n",
       "106. 'GTEX-111YS-2326-SM-5987L'\n",
       "107. 'GTEX-111YS-2426-SM-5GZZQ'\n",
       "108. 'GTEX-1122O-0003-SM-5Q5DL'\n",
       "109. 'GTEX-1122O-0004-SM-58Q7O'\n",
       "110. 'GTEX-1122O-0004-SM-5DWSJ'\n",
       "111. 'GTEX-1122O-0004-SM-6WBTE'\n",
       "112. 'GTEX-1122O-0005-SM-5O99J'\n",
       "113. 'GTEX-1122O-0008-SM-5QGR2'\n",
       "114. 'GTEX-1122O-0126-SM-5GICA'\n",
       "115. 'GTEX-1122O-0226-SM-5N9DA'\n",
       "116. 'GTEX-1122O-0326-SM-5H124'\n",
       "117. 'GTEX-1122O-0426-SM-5H12G'\n",
       "118. 'GTEX-1122O-0526-SM-5N9DM'\n",
       "119. 'GTEX-1122O-0626-SM-5N9B9'\n",
       "120. 'GTEX-1122O-0726-SM-5GIEV'\n",
       "121. 'GTEX-1122O-0826-SM-5GICV'\n",
       "122. 'GTEX-1122O-0926-SM-5N9C9'\n",
       "123. 'GTEX-1122O-0926-SM-9YFLC'\n",
       "124. 'GTEX-1122O-1026-SM-9WYSF'\n",
       "125. 'GTEX-1122O-1126-SM-5NQ8X'\n",
       "126. 'GTEX-1122O-1226-SM-5H113'\n",
       "127. 'GTEX-1122O-1326-SM-5H11F'\n",
       "128. 'GTEX-1122O-1426-SM-5H11R'\n",
       "129. 'GTEX-1122O-1526-SM-5N9CL'\n",
       "130. 'GTEX-1122O-1626-SM-5N9CX'\n",
       "131. 'GTEX-1122O-1726-SM-5GICM'\n",
       "132. 'GTEX-1122O-1826-SM-5EGIP'\n",
       "133. 'GTEX-1122O-1926-SM-5EGIQ'\n",
       "134. 'GTEX-1122O-2026-SM-5NQ91'\n",
       "135. 'GTEX-1122O-2026-SM-9YFMG'\n",
       "136. 'GTEX-1122O-2126-SM-5EGIR'\n",
       "137. 'GTEX-1122O-2326-SM-9YFL9'\n",
       "138. 'GTEX-1122O-2426-SM-5GIDN'\n",
       "139. 'GTEX-1128S-0001-SM-58Q96'\n",
       "140. 'GTEX-1128S-0001-SM-5DWTV'\n",
       "141. 'GTEX-1128S-0001-SM-6WBUH'\n",
       "142. 'GTEX-1128S-0005-SM-5P9HI'\n",
       "143. 'GTEX-1128S-0008-SM-5Q5DP'\n",
       "144. 'GTEX-1128S-0126-SM-5H12S'\n",
       "145. 'GTEX-1128S-0326-SM-5GZZF'\n",
       "146. 'GTEX-1128S-0726-SM-5N9D6'\n",
       "147. 'GTEX-1128S-0826-SM-5GZZI'\n",
       "148. 'GTEX-1128S-0926-SM-5GZZU'\n",
       "149. 'GTEX-1128S-1426-SM-5N9EF'\n",
       "150. 'GTEX-1128S-1626-SM-5H12O'\n",
       "151. 'GTEX-1128S-2126-SM-5H12U'\n",
       "152. 'GTEX-1128S-2326-SM-5GZZY'\n",
       "153. 'GTEX-1128S-2426-SM-5H11B'\n",
       "154. 'GTEX-1128S-2526-SM-5H11N'\n",
       "155. 'GTEX-1128S-2626-SM-5H11Z'\n",
       "156. 'GTEX-1128S-2726-SM-5H12C'\n",
       "157. 'GTEX-1128S-2826-SM-5N9DI'\n",
       "158. 'GTEX-113IC-0001-SM-58Q97'\n",
       "159. 'GTEX-113IC-0001-SM-5DWSI'\n",
       "160. 'GTEX-113IC-0001-SM-DLIPU'\n",
       "161. 'GTEX-113IC-0006-SM-5NQ9C'\n",
       "162. 'GTEX-113IC-0008-SM-5QGRF'\n",
       "163. 'GTEX-113IC-0126-SM-5HL6T'\n",
       "164. 'GTEX-113IC-0226-SM-5HL5C'\n",
       "165. 'GTEX-113IC-0426-SM-5HL5O'\n",
       "166. 'GTEX-113IC-0526-SM-5HL76'\n",
       "167. 'GTEX-113JC-0001-SM-58Q7M'\n",
       "168. 'GTEX-113JC-0001-SM-5DWSH'\n",
       "169. 'GTEX-113JC-0001-SM-6WBTD'\n",
       "170. 'GTEX-113JC-0006-SM-5O997'\n",
       "171. 'GTEX-113JC-0008-SM-5QGR6'\n",
       "172. 'GTEX-113JC-0126-SM-5EGJW'\n",
       "173. 'GTEX-113JC-0726-SM-5GZZR'\n",
       "174. 'GTEX-113JC-0926-SM-5H114'\n",
       "175. 'GTEX-113JC-1026-SM-5H117'\n",
       "176. 'GTEX-113JC-1926-SM-5N9GE'\n",
       "177. 'GTEX-113JC-2226-SM-5EGJG'\n",
       "178. 'GTEX-113JC-2326-SM-5EQ4E'\n",
       "179. 'GTEX-113JC-2726-SM-5EGIS'\n",
       "180. 'GTEX-113JC-2826-SM-5EGIT'\n",
       "181. 'GTEX-117XS-0001-SM-58Q7J'\n",
       "182. 'GTEX-117XS-0001-SM-5DWSE'\n",
       "183. 'GTEX-117XS-0001-SM-6WBTA'\n",
       "184. 'GTEX-117XS-0005-SM-5PNU6'\n",
       "185. 'GTEX-117XS-0008-SM-5Q5DQ'\n",
       "186. 'GTEX-117XS-0011-R10a-SM-AHZ7G'\n",
       "187. 'GTEX-117XS-0426-SM-5GZZN'\n",
       "188. 'GTEX-117XS-0526-SM-5987Q'\n",
       "189. 'GTEX-117XS-0726-SM-5H131'\n",
       "190. 'GTEX-117XS-1926-SM-5GICO'\n",
       "191. 'GTEX-117XS-2026-SM-5GID1'\n",
       "192. 'GTEX-117XS-2226-SM-5GIE1'\n",
       "193. 'GTEX-117XS-2526-SM-5H11G'\n",
       "194. 'GTEX-117XS-2526-SM-CYKR4'\n",
       "195. 'GTEX-117XS-2726-SM-5N9BL'\n",
       "196. 'GTEX-117XS-2926-SM-5N9BX'\n",
       "197. 'GTEX-117XS-3026-SM-5N9CA'\n",
       "198. 'GTEX-117XS-3026-SM-CYKOR'\n",
       "199. 'GTEX-117XS-3126-SM-5GIDP'\n",
       "200. 'GTEX-117YW-0003-SM-58Q99'\n",
       "201. ⋯\n",
       "202. 'K-562-SM-2S1RI'\n",
       "203. 'K-562-SM-2TC5E'\n",
       "204. 'K-562-SM-2TC6R'\n",
       "205. 'K-562-SM-2TF4E'\n",
       "206. 'K-562-SM-2TF5R'\n",
       "207. 'K-562-SM-2TO4S'\n",
       "208. 'K-562-SM-2TWBO'\n",
       "209. 'K-562-SM-2XCBH'\n",
       "210. 'K-562-SM-2XCE8'\n",
       "211. 'K-562-SM-2XCFL'\n",
       "212. 'K-562-SM-2XU9E'\n",
       "213. 'K-562-SM-2XV5K'\n",
       "214. 'K-562-SM-2YUNN'\n",
       "215. 'K-562-SM-32PLC'\n",
       "216. 'K-562-SM-32PMP'\n",
       "217. 'K-562-SM-32QPQ'\n",
       "218. 'K-562-SM-33HC7'\n",
       "219. 'K-562-SM-3DB9M'\n",
       "220. 'K-562-SM-3GADY'\n",
       "221. 'K-562-SM-3GAFC'\n",
       "222. 'K-562-SM-3GIKB'\n",
       "223. 'K-562-SM-3GILO'\n",
       "224. 'K-562-SM-3K2BF'\n",
       "225. 'K-562-SM-3LK7S'\n",
       "226. 'K-562-SM-3MJHH'\n",
       "227. 'K-562-SM-3NB3I'\n",
       "228. 'K-562-SM-3NMAP'\n",
       "229. 'K-562-SM-3NMDG'\n",
       "230. 'K-562-SM-3P61Y'\n",
       "231. 'K-562-SM-43ISS'\n",
       "232. 'K-562-SM-43V9A'\n",
       "233. 'K-562-SM-46MWI'\n",
       "234. 'K-562-SM-47JYY'\n",
       "235. 'K-562-SM-48FEU'\n",
       "236. 'K-562-SM-48TE3'\n",
       "237. 'K-562-SM-48U2C'\n",
       "238. 'K-562-SM-4AD4F'\n",
       "239. 'K-562-SM-4AT3W'\n",
       "240. 'K-562-SM-4B66B'\n",
       "241. 'K-562-SM-4BONS'\n",
       "242. 'K-562-SM-4BRWK'\n",
       "243. 'K-562-SM-4DM4W'\n",
       "244. 'K-562-SM-4DXSD'\n",
       "245. 'K-562-SM-4EDPU'\n",
       "246. 'K-562-SM-4GICD'\n",
       "247. 'K-562-SM-4IHK7'\n",
       "248. 'K-562-SM-4JBIQ'\n",
       "249. 'K-562-SM-4KKZ9'\n",
       "250. 'K-562-SM-4LMI2'\n",
       "251. 'K-562-SM-4LVKX'\n",
       "252. 'K-562-SM-4M1XD'\n",
       "253. 'K-562-SM-4MVNA'\n",
       "254. 'K-562-SM-4OOR8'\n",
       "255. 'K-562-SM-4PQYN'\n",
       "256. 'K-562-SM-4QAR5'\n",
       "257. 'K-562-SM-4R59E'\n",
       "258. 'K-562-SM-4RGL3'\n",
       "259. 'K-562-SM-4RH3A'\n",
       "260. 'K-562-SM-4RTUY'\n",
       "261. 'K-562-SM-4SOHT'\n",
       "262. 'K-562-SM-4SOLN'\n",
       "263. 'K-562-SM-4T8CH'\n",
       "264. 'K-562-SM-4TT1D'\n",
       "265. 'K-562-SM-4TT6S'\n",
       "266. 'K-562-SM-4U82S'\n",
       "267. 'K-562-SM-4V81D'\n",
       "268. 'K-562-SM-4VBPT'\n",
       "269. 'K-562-SM-4VDQQ'\n",
       "270. 'K-562-SM-4W1Y5'\n",
       "271. 'K-562-SM-4WAWH'\n",
       "272. 'K-562-SM-4WKF1'\n",
       "273. 'K-562-SM-4WWAK'\n",
       "274. 'K-562-SM-4YCCQ'\n",
       "275. 'K-562-SM-51MQT'\n",
       "276. 'K-562-SM-57WAW'\n",
       "277. 'K-562-SM-59HJ4'\n",
       "278. 'K-562-SM-5CVL5'\n",
       "279. 'K-562-SM-5DUV6'\n",
       "280. 'K-562-SM-5E43B'\n",
       "281. 'K-562-SM-5GZWN'\n",
       "282. 'K-562-SM-5GZZE'\n",
       "283. 'K-562-SM-5HL4J'\n",
       "284. 'K-562-SM-5HL7A'\n",
       "285. 'K-562-SM-5IFEL'\n",
       "286. 'K-562-SM-5IFHC'\n",
       "287. 'K-562-SM-5IJB7'\n",
       "288. 'K-562-SM-5IJDX'\n",
       "289. 'K-562-SM-5J1MB'\n",
       "290. 'K-562-SM-5J2LX'\n",
       "291. 'K-562-SM-5K7TT'\n",
       "292. 'K-562-SM-5K7WK'\n",
       "293. 'K-562-SM-5K7ZB'\n",
       "294. 'K-562-SM-5KM2I'\n",
       "295. 'K-562-SM-5L3FO'\n",
       "296. 'K-562-SM-5LU2Y'\n",
       "297. 'K-562-SM-5LU8G'\n",
       "298. 'K-562-SM-5LZU1'\n",
       "299. 'K-562-SM-5LZWR'\n",
       "300. 'K-562-SM-5MR32'\n",
       "301. 'K-562-SM-5MR5S'\n",
       "302. 'K-562-SM-5N9B7'\n",
       "303. 'K-562-SM-5N9DX'\n",
       "304. 'K-562-SM-5NQ6M'\n",
       "305. 'K-562-SM-5NQ9D'\n",
       "306. 'K-562-SM-5O98J'\n",
       "307. 'K-562-SM-5O9BA'\n",
       "308. 'K-562-SM-5P9EQ'\n",
       "309. 'K-562-SM-5P9HH'\n",
       "310. 'K-562-SM-5PNU4'\n",
       "311. 'K-562-SM-5PNWU'\n",
       "312. 'K-562-SM-5Q59U'\n",
       "313. 'K-562-SM-5Q5CL'\n",
       "314. 'K-562-SM-5QGOR'\n",
       "315. 'K-562-SM-5RQHM'\n",
       "316. 'K-562-SM-66EY4'\n",
       "317. 'K-562-SM-686YS'\n",
       "318. 'K-562-SM-69LO5'\n",
       "319. 'K-562-SM-6AJ95'\n",
       "320. 'K-562-SM-6ETZI'\n",
       "321. 'K-562-SM-6LLH2'\n",
       "322. 'K-562-SM-6LPHZ'\n",
       "323. 'K-562-SM-6M461'\n",
       "324. 'K-562-SM-6PAL1'\n",
       "325. 'K-562-SM-7189B'\n",
       "326. 'K-562-SM-72D4W'\n",
       "327. 'K-562-SM-731AF'\n",
       "328. 'K-562-SM-731D6'\n",
       "329. 'K-562-SM-73KTR'\n",
       "330. 'K-562-SM-73KWI'\n",
       "331. 'K-562-SM-7938F'\n",
       "332. 'K-562-SM-793B6'\n",
       "333. 'K-562-SM-79OJI'\n",
       "334. 'K-562-SM-79OM9'\n",
       "335. 'K-562-SM-7DHKI'\n",
       "336. 'K-562-SM-7DUEE'\n",
       "337. 'K-562-SM-7EPG4'\n",
       "338. 'K-562-SM-7EWCW'\n",
       "339. 'K-562-SM-7IGL8'\n",
       "340. 'K-562-SM-7IGNY'\n",
       "341. 'K-562-SM-7KFRB'\n",
       "342. 'K-562-SM-7KUDR'\n",
       "343. 'K-562-SM-7KUKI'\n",
       "344. 'K-562-SM-7LG4B'\n",
       "345. 'K-562-SM-7LT88'\n",
       "346. 'K-562-SM-7MGVH'\n",
       "347. 'K-562-SM-7MKF2'\n",
       "348. 'K-562-SM-7MXT1'\n",
       "349. 'K-562-SM-7P8RB'\n",
       "350. 'K-562-SM-7RHFN'\n",
       "351. 'K-562-SM-9HWNP'\n",
       "352. 'K-562-SM-9HWNQ'\n",
       "353. 'K-562-SM-9HWNT'\n",
       "354. 'K-562-SM-9HWNU'\n",
       "355. 'K-562-SM-9HWNV'\n",
       "356. 'K-562-SM-9HWNW'\n",
       "357. 'K-562-SM-9HWO3'\n",
       "358. 'K-562-SM-9HWO4'\n",
       "359. 'K-562-SM-9HWOB'\n",
       "360. 'K-562-SM-9HWOD'\n",
       "361. 'K-562-SM-9HWOI'\n",
       "362. 'K-562-SM-9HWOK'\n",
       "363. 'K-562-SM-9HWOP'\n",
       "364. 'K-562-SM-9HWOQ'\n",
       "365. 'K-562-SM-9HWOR'\n",
       "366. 'K-562-SM-9HWOX'\n",
       "367. 'K-562-SM-9HWOY'\n",
       "368. 'K-562-SM-9HWP4'\n",
       "369. 'K-562-SM-9HWP5'\n",
       "370. 'K-562-SM-9HWP6'\n",
       "371. 'K-562-SM-9HWP7'\n",
       "372. 'K-562-SM-9HWP8'\n",
       "373. 'K-562-SM-9HWP9'\n",
       "374. 'K-562-SM-9HWPF'\n",
       "375. 'K-562-SM-9HWPM'\n",
       "376. 'K-562-SM-9HWPN'\n",
       "377. 'K-562-SM-9HWPV'\n",
       "378. 'K-562-SM-9HWPW'\n",
       "379. 'K-562-SM-9HWPX'\n",
       "380. 'K-562-SM-9HWPY'\n",
       "381. 'K-562-SM-9HWPZ'\n",
       "382. 'K-562-SM-9HWQ7'\n",
       "383. 'K-562-SM-9HWQ9'\n",
       "384. 'K-562-SM-9HWQF'\n",
       "385. 'K-562-SM-9HWQG'\n",
       "386. 'K-562-SM-9JGFK'\n",
       "387. 'K-562-SM-9MQJO'\n",
       "388. 'K-562-SM-CJI1Q'\n",
       "389. 'K-562-SM-CKZN7'\n",
       "390. 'K-562-SM-E9EYN'\n",
       "391. 'K-562-SM-E9EYO'\n",
       "392. 'K-562-SM-E9EYP'\n",
       "393. 'K-562-SM-E9EYT'\n",
       "394. 'K-562-SM-E9EYU'\n",
       "395. 'K-562-SM-E9EYV'\n",
       "396. 'K-562-SM-E9EYZ'\n",
       "397. 'K-562-SM-E9EZC'\n",
       "398. 'K-562-SM-E9EZI'\n",
       "399. 'K-562-SM-E9EZO'\n",
       "400. 'K-562-SM-E9EZT'\n",
       "401. 'K-562-SM-E9EZZ'\n",
       "\n",
       "\n"
      ],
      "text/plain": [
       "GTEX-1117F-0226-SM-5GZZ7 \n",
       "GTEX-1117F-0226-SM-5GZZ7 \n",
       "22951 Levels: GTEX-1117F-0003-SM-58Q7G ... K-562-SM-E9EZZ"
      ]
     },
     "metadata": {},
     "output_type": "display_data"
    },
    {
     "data": {
      "text/html": [
       "'GTEX.1117F.0226.SM.5GZZ7'"
      ],
      "text/latex": [
       "'GTEX.1117F.0226.SM.5GZZ7'"
      ],
      "text/markdown": [
       "'GTEX.1117F.0226.SM.5GZZ7'"
      ],
      "text/plain": [
       "[1] \"GTEX.1117F.0226.SM.5GZZ7\""
      ]
     },
     "metadata": {},
     "output_type": "display_data"
    }
   ],
   "source": [
    "pData(obj)$SAMPID[1]\n",
    "pData(obj)$SAMPID                            <- gsub('-','\\\\.',pData(obj)$SAMPID)\n",
    "pData(obj)$SAMPID[1]"
   ]
  },
  {
   "cell_type": "code",
   "execution_count": 12,
   "metadata": {},
   "outputs": [
    {
     "data": {
      "text/html": [
       "<style>\n",
       ".list-inline {list-style: none; margin:0; padding: 0}\n",
       ".list-inline>li {display: inline-block}\n",
       ".list-inline>li:not(:last-child)::after {content: \"\\00b7\"; padding: 0 .5ex}\n",
       "</style>\n",
       "<ol class=list-inline><li>'SAMPID'</li><li>'SMATSSCR'</li><li>'SMCENTER'</li><li>'SMPTHNTS'</li><li>'SMRIN'</li><li>'SMTS'</li><li>'SMTSD'</li><li>'SMUBRID'</li><li>'SMTSISCH'</li><li>'SMTSPAX'</li><li>'SMNABTCH'</li><li>'SMNABTCHT'</li><li>'SMNABTCHD'</li><li>'SMGEBTCH'</li><li>'SMGEBTCHD'</li><li>'SMGEBTCHT'</li><li>'SMAFRZE'</li><li>'SMGTC'</li><li>'SME2MPRT'</li><li>'SMCHMPRS'</li><li>'SMNTRART'</li><li>'SMNUMGPS'</li><li>'SMMAPRT'</li><li>'SMEXNCRT'</li><li>'SM550NRM'</li><li>'SMGNSDTC'</li><li>'SMUNMPRT'</li><li>'SM350NRM'</li><li>'SMRDLGTH'</li><li>'SMMNCPB'</li><li>'SME1MMRT'</li><li>'SMSFLGTH'</li><li>'SMESTLBS'</li><li>'SMMPPD'</li><li>'SMNTERRT'</li><li>'SMRRNANM'</li><li>'SMRDTTL'</li><li>'SMVQCFL'</li><li>'SMMNCV'</li><li>'SMTRSCPT'</li><li>'SMMPPDPR'</li><li>'SMCGLGTH'</li><li>'SMGAPPCT'</li><li>'SMUNPDRD'</li><li>'SMNTRNRT'</li><li>'SMMPUNRT'</li><li>'SMEXPEFF'</li><li>'SMMPPDUN'</li><li>'SME2MMRT'</li><li>'SME2ANTI'</li><li>'SMALTALG'</li><li>'SME2SNSE'</li><li>'SMMFLGTH'</li><li>'SME1ANTI'</li><li>'SMSPLTRD'</li><li>'SMBSMMRT'</li><li>'SME1SNSE'</li><li>'SME1PCTS'</li><li>'SMRRNART'</li><li>'SME1MPRT'</li><li>'SMNUM5CD'</li><li>'SMDPMPRT'</li><li>'SME2PCTS'</li><li>'SUBJID'</li><li>'SEX'</li><li>'AGE'</li><li>'DTHHRDY'</li></ol>\n"
      ],
      "text/latex": [
       "\\begin{enumerate*}\n",
       "\\item 'SAMPID'\n",
       "\\item 'SMATSSCR'\n",
       "\\item 'SMCENTER'\n",
       "\\item 'SMPTHNTS'\n",
       "\\item 'SMRIN'\n",
       "\\item 'SMTS'\n",
       "\\item 'SMTSD'\n",
       "\\item 'SMUBRID'\n",
       "\\item 'SMTSISCH'\n",
       "\\item 'SMTSPAX'\n",
       "\\item 'SMNABTCH'\n",
       "\\item 'SMNABTCHT'\n",
       "\\item 'SMNABTCHD'\n",
       "\\item 'SMGEBTCH'\n",
       "\\item 'SMGEBTCHD'\n",
       "\\item 'SMGEBTCHT'\n",
       "\\item 'SMAFRZE'\n",
       "\\item 'SMGTC'\n",
       "\\item 'SME2MPRT'\n",
       "\\item 'SMCHMPRS'\n",
       "\\item 'SMNTRART'\n",
       "\\item 'SMNUMGPS'\n",
       "\\item 'SMMAPRT'\n",
       "\\item 'SMEXNCRT'\n",
       "\\item 'SM550NRM'\n",
       "\\item 'SMGNSDTC'\n",
       "\\item 'SMUNMPRT'\n",
       "\\item 'SM350NRM'\n",
       "\\item 'SMRDLGTH'\n",
       "\\item 'SMMNCPB'\n",
       "\\item 'SME1MMRT'\n",
       "\\item 'SMSFLGTH'\n",
       "\\item 'SMESTLBS'\n",
       "\\item 'SMMPPD'\n",
       "\\item 'SMNTERRT'\n",
       "\\item 'SMRRNANM'\n",
       "\\item 'SMRDTTL'\n",
       "\\item 'SMVQCFL'\n",
       "\\item 'SMMNCV'\n",
       "\\item 'SMTRSCPT'\n",
       "\\item 'SMMPPDPR'\n",
       "\\item 'SMCGLGTH'\n",
       "\\item 'SMGAPPCT'\n",
       "\\item 'SMUNPDRD'\n",
       "\\item 'SMNTRNRT'\n",
       "\\item 'SMMPUNRT'\n",
       "\\item 'SMEXPEFF'\n",
       "\\item 'SMMPPDUN'\n",
       "\\item 'SME2MMRT'\n",
       "\\item 'SME2ANTI'\n",
       "\\item 'SMALTALG'\n",
       "\\item 'SME2SNSE'\n",
       "\\item 'SMMFLGTH'\n",
       "\\item 'SME1ANTI'\n",
       "\\item 'SMSPLTRD'\n",
       "\\item 'SMBSMMRT'\n",
       "\\item 'SME1SNSE'\n",
       "\\item 'SME1PCTS'\n",
       "\\item 'SMRRNART'\n",
       "\\item 'SME1MPRT'\n",
       "\\item 'SMNUM5CD'\n",
       "\\item 'SMDPMPRT'\n",
       "\\item 'SME2PCTS'\n",
       "\\item 'SUBJID'\n",
       "\\item 'SEX'\n",
       "\\item 'AGE'\n",
       "\\item 'DTHHRDY'\n",
       "\\end{enumerate*}\n"
      ],
      "text/markdown": [
       "1. 'SAMPID'\n",
       "2. 'SMATSSCR'\n",
       "3. 'SMCENTER'\n",
       "4. 'SMPTHNTS'\n",
       "5. 'SMRIN'\n",
       "6. 'SMTS'\n",
       "7. 'SMTSD'\n",
       "8. 'SMUBRID'\n",
       "9. 'SMTSISCH'\n",
       "10. 'SMTSPAX'\n",
       "11. 'SMNABTCH'\n",
       "12. 'SMNABTCHT'\n",
       "13. 'SMNABTCHD'\n",
       "14. 'SMGEBTCH'\n",
       "15. 'SMGEBTCHD'\n",
       "16. 'SMGEBTCHT'\n",
       "17. 'SMAFRZE'\n",
       "18. 'SMGTC'\n",
       "19. 'SME2MPRT'\n",
       "20. 'SMCHMPRS'\n",
       "21. 'SMNTRART'\n",
       "22. 'SMNUMGPS'\n",
       "23. 'SMMAPRT'\n",
       "24. 'SMEXNCRT'\n",
       "25. 'SM550NRM'\n",
       "26. 'SMGNSDTC'\n",
       "27. 'SMUNMPRT'\n",
       "28. 'SM350NRM'\n",
       "29. 'SMRDLGTH'\n",
       "30. 'SMMNCPB'\n",
       "31. 'SME1MMRT'\n",
       "32. 'SMSFLGTH'\n",
       "33. 'SMESTLBS'\n",
       "34. 'SMMPPD'\n",
       "35. 'SMNTERRT'\n",
       "36. 'SMRRNANM'\n",
       "37. 'SMRDTTL'\n",
       "38. 'SMVQCFL'\n",
       "39. 'SMMNCV'\n",
       "40. 'SMTRSCPT'\n",
       "41. 'SMMPPDPR'\n",
       "42. 'SMCGLGTH'\n",
       "43. 'SMGAPPCT'\n",
       "44. 'SMUNPDRD'\n",
       "45. 'SMNTRNRT'\n",
       "46. 'SMMPUNRT'\n",
       "47. 'SMEXPEFF'\n",
       "48. 'SMMPPDUN'\n",
       "49. 'SME2MMRT'\n",
       "50. 'SME2ANTI'\n",
       "51. 'SMALTALG'\n",
       "52. 'SME2SNSE'\n",
       "53. 'SMMFLGTH'\n",
       "54. 'SME1ANTI'\n",
       "55. 'SMSPLTRD'\n",
       "56. 'SMBSMMRT'\n",
       "57. 'SME1SNSE'\n",
       "58. 'SME1PCTS'\n",
       "59. 'SMRRNART'\n",
       "60. 'SME1MPRT'\n",
       "61. 'SMNUM5CD'\n",
       "62. 'SMDPMPRT'\n",
       "63. 'SME2PCTS'\n",
       "64. 'SUBJID'\n",
       "65. 'SEX'\n",
       "66. 'AGE'\n",
       "67. 'DTHHRDY'\n",
       "\n",
       "\n"
      ],
      "text/plain": [
       " [1] \"SAMPID\"    \"SMATSSCR\"  \"SMCENTER\"  \"SMPTHNTS\"  \"SMRIN\"     \"SMTS\"     \n",
       " [7] \"SMTSD\"     \"SMUBRID\"   \"SMTSISCH\"  \"SMTSPAX\"   \"SMNABTCH\"  \"SMNABTCHT\"\n",
       "[13] \"SMNABTCHD\" \"SMGEBTCH\"  \"SMGEBTCHD\" \"SMGEBTCHT\" \"SMAFRZE\"   \"SMGTC\"    \n",
       "[19] \"SME2MPRT\"  \"SMCHMPRS\"  \"SMNTRART\"  \"SMNUMGPS\"  \"SMMAPRT\"   \"SMEXNCRT\" \n",
       "[25] \"SM550NRM\"  \"SMGNSDTC\"  \"SMUNMPRT\"  \"SM350NRM\"  \"SMRDLGTH\"  \"SMMNCPB\"  \n",
       "[31] \"SME1MMRT\"  \"SMSFLGTH\"  \"SMESTLBS\"  \"SMMPPD\"    \"SMNTERRT\"  \"SMRRNANM\" \n",
       "[37] \"SMRDTTL\"   \"SMVQCFL\"   \"SMMNCV\"    \"SMTRSCPT\"  \"SMMPPDPR\"  \"SMCGLGTH\" \n",
       "[43] \"SMGAPPCT\"  \"SMUNPDRD\"  \"SMNTRNRT\"  \"SMMPUNRT\"  \"SMEXPEFF\"  \"SMMPPDUN\" \n",
       "[49] \"SME2MMRT\"  \"SME2ANTI\"  \"SMALTALG\"  \"SME2SNSE\"  \"SMMFLGTH\"  \"SME1ANTI\" \n",
       "[55] \"SMSPLTRD\"  \"SMBSMMRT\"  \"SME1SNSE\"  \"SME1PCTS\"  \"SMRRNART\"  \"SME1MPRT\" \n",
       "[61] \"SMNUM5CD\"  \"SMDPMPRT\"  \"SME2PCTS\"  \"SUBJID\"    \"SEX\"       \"AGE\"      \n",
       "[67] \"DTHHRDY\"  "
      ]
     },
     "metadata": {},
     "output_type": "display_data"
    }
   ],
   "source": [
    "colnames(pData(obj))"
   ]
  },
  {
   "cell_type": "code",
   "execution_count": 13,
   "metadata": {},
   "outputs": [
    {
     "data": {
      "text/html": [
       "<table>\n",
       "<caption>A matrix: 6 × 17382 of type dbl</caption>\n",
       "<thead>\n",
       "\t<tr><th></th><th scope=col>GTEX-1117F-0226-SM-5GZZ7</th><th scope=col>GTEX-1117F-0426-SM-5EGHI</th><th scope=col>GTEX-1117F-0526-SM-5EGHJ</th><th scope=col>GTEX-1117F-0626-SM-5N9CS</th><th scope=col>GTEX-1117F-0726-SM-5GIEN</th><th scope=col>GTEX-1117F-1326-SM-5EGHH</th><th scope=col>GTEX-1117F-2426-SM-5EGGH</th><th scope=col>GTEX-1117F-2526-SM-5GZY6</th><th scope=col>GTEX-1117F-2826-SM-5GZXL</th><th scope=col>GTEX-1117F-2926-SM-5GZYI</th><th scope=col>⋯</th><th scope=col>GTEX-ZZPU-1126-SM-5N9CW</th><th scope=col>GTEX-ZZPU-1226-SM-5N9CK</th><th scope=col>GTEX-ZZPU-1326-SM-5GZWS</th><th scope=col>GTEX-ZZPU-1426-SM-5GZZ6</th><th scope=col>GTEX-ZZPU-1826-SM-5E43L</th><th scope=col>GTEX-ZZPU-2126-SM-5EGIU</th><th scope=col>GTEX-ZZPU-2226-SM-5EGIV</th><th scope=col>GTEX-ZZPU-2426-SM-5E44I</th><th scope=col>GTEX-ZZPU-2626-SM-5E45Y</th><th scope=col>GTEX-ZZPU-2726-SM-5NQ8O</th></tr>\n",
       "</thead>\n",
       "<tbody>\n",
       "\t<tr><th scope=row>ENSG00000223972.5</th><td>  0</td><td>  0</td><td>  0</td><td>  0</td><td>  0</td><td>  0</td><td>  0</td><td>  0</td><td>  0</td><td>  0</td><td>⋯</td><td> 0</td><td> 2</td><td>  0</td><td> 0</td><td> 0</td><td> 0</td><td> 0</td><td> 0</td><td> 1</td><td> 1</td></tr>\n",
       "\t<tr><th scope=row>ENSG00000227232.5</th><td>187</td><td>109</td><td>143</td><td>251</td><td>113</td><td>139</td><td>199</td><td>473</td><td>286</td><td>306</td><td>⋯</td><td>72</td><td>96</td><td>136</td><td>79</td><td>89</td><td>86</td><td>49</td><td>84</td><td>34</td><td>66</td></tr>\n",
       "\t<tr><th scope=row>ENSG00000278267.1</th><td>  0</td><td>  0</td><td>  1</td><td>  0</td><td>  0</td><td>  0</td><td>  0</td><td>  0</td><td>  0</td><td>  0</td><td>⋯</td><td> 0</td><td> 0</td><td>  0</td><td> 0</td><td> 0</td><td> 0</td><td> 0</td><td> 0</td><td> 0</td><td> 0</td></tr>\n",
       "\t<tr><th scope=row>ENSG00000243485.5</th><td>  1</td><td>  0</td><td>  0</td><td>  1</td><td>  0</td><td>  0</td><td>  0</td><td>  0</td><td>  0</td><td>  1</td><td>⋯</td><td> 0</td><td> 0</td><td>  1</td><td> 0</td><td> 2</td><td> 2</td><td> 0</td><td> 1</td><td> 0</td><td> 0</td></tr>\n",
       "\t<tr><th scope=row>ENSG00000237613.2</th><td>  0</td><td>  0</td><td>  0</td><td>  0</td><td>  0</td><td>  0</td><td>  0</td><td>  1</td><td>  0</td><td>  0</td><td>⋯</td><td> 1</td><td> 0</td><td>  0</td><td> 0</td><td> 0</td><td> 0</td><td> 0</td><td> 0</td><td> 0</td><td> 0</td></tr>\n",
       "\t<tr><th scope=row>ENSG00000268020.3</th><td>  0</td><td>  1</td><td>  0</td><td>  0</td><td>  0</td><td>  1</td><td>  1</td><td>  0</td><td>  1</td><td>  2</td><td>⋯</td><td> 1</td><td> 0</td><td>  0</td><td> 1</td><td> 2</td><td> 0</td><td> 0</td><td> 0</td><td> 1</td><td> 1</td></tr>\n",
       "</tbody>\n",
       "</table>\n"
      ],
      "text/latex": [
       "A matrix: 6 × 17382 of type dbl\n",
       "\\begin{tabular}{r|lllllllllllllllllllll}\n",
       "  & GTEX-1117F-0226-SM-5GZZ7 & GTEX-1117F-0426-SM-5EGHI & GTEX-1117F-0526-SM-5EGHJ & GTEX-1117F-0626-SM-5N9CS & GTEX-1117F-0726-SM-5GIEN & GTEX-1117F-1326-SM-5EGHH & GTEX-1117F-2426-SM-5EGGH & GTEX-1117F-2526-SM-5GZY6 & GTEX-1117F-2826-SM-5GZXL & GTEX-1117F-2926-SM-5GZYI & ⋯ & GTEX-ZZPU-1126-SM-5N9CW & GTEX-ZZPU-1226-SM-5N9CK & GTEX-ZZPU-1326-SM-5GZWS & GTEX-ZZPU-1426-SM-5GZZ6 & GTEX-ZZPU-1826-SM-5E43L & GTEX-ZZPU-2126-SM-5EGIU & GTEX-ZZPU-2226-SM-5EGIV & GTEX-ZZPU-2426-SM-5E44I & GTEX-ZZPU-2626-SM-5E45Y & GTEX-ZZPU-2726-SM-5NQ8O\\\\\n",
       "\\hline\n",
       "\tENSG00000223972.5 &   0 &   0 &   0 &   0 &   0 &   0 &   0 &   0 &   0 &   0 & ⋯ &  0 &  2 &   0 &  0 &  0 &  0 &  0 &  0 &  1 &  1\\\\\n",
       "\tENSG00000227232.5 & 187 & 109 & 143 & 251 & 113 & 139 & 199 & 473 & 286 & 306 & ⋯ & 72 & 96 & 136 & 79 & 89 & 86 & 49 & 84 & 34 & 66\\\\\n",
       "\tENSG00000278267.1 &   0 &   0 &   1 &   0 &   0 &   0 &   0 &   0 &   0 &   0 & ⋯ &  0 &  0 &   0 &  0 &  0 &  0 &  0 &  0 &  0 &  0\\\\\n",
       "\tENSG00000243485.5 &   1 &   0 &   0 &   1 &   0 &   0 &   0 &   0 &   0 &   1 & ⋯ &  0 &  0 &   1 &  0 &  2 &  2 &  0 &  1 &  0 &  0\\\\\n",
       "\tENSG00000237613.2 &   0 &   0 &   0 &   0 &   0 &   0 &   0 &   1 &   0 &   0 & ⋯ &  1 &  0 &   0 &  0 &  0 &  0 &  0 &  0 &  0 &  0\\\\\n",
       "\tENSG00000268020.3 &   0 &   1 &   0 &   0 &   0 &   1 &   1 &   0 &   1 &   2 & ⋯ &  1 &  0 &   0 &  1 &  2 &  0 &  0 &  0 &  1 &  1\\\\\n",
       "\\end{tabular}\n"
      ],
      "text/markdown": [
       "\n",
       "A matrix: 6 × 17382 of type dbl\n",
       "\n",
       "| <!--/--> | GTEX-1117F-0226-SM-5GZZ7 | GTEX-1117F-0426-SM-5EGHI | GTEX-1117F-0526-SM-5EGHJ | GTEX-1117F-0626-SM-5N9CS | GTEX-1117F-0726-SM-5GIEN | GTEX-1117F-1326-SM-5EGHH | GTEX-1117F-2426-SM-5EGGH | GTEX-1117F-2526-SM-5GZY6 | GTEX-1117F-2826-SM-5GZXL | GTEX-1117F-2926-SM-5GZYI | ⋯ | GTEX-ZZPU-1126-SM-5N9CW | GTEX-ZZPU-1226-SM-5N9CK | GTEX-ZZPU-1326-SM-5GZWS | GTEX-ZZPU-1426-SM-5GZZ6 | GTEX-ZZPU-1826-SM-5E43L | GTEX-ZZPU-2126-SM-5EGIU | GTEX-ZZPU-2226-SM-5EGIV | GTEX-ZZPU-2426-SM-5E44I | GTEX-ZZPU-2626-SM-5E45Y | GTEX-ZZPU-2726-SM-5NQ8O |\n",
       "|---|---|---|---|---|---|---|---|---|---|---|---|---|---|---|---|---|---|---|---|---|---|\n",
       "| ENSG00000223972.5 |   0 |   0 |   0 |   0 |   0 |   0 |   0 |   0 |   0 |   0 | ⋯ |  0 |  2 |   0 |  0 |  0 |  0 |  0 |  0 |  1 |  1 |\n",
       "| ENSG00000227232.5 | 187 | 109 | 143 | 251 | 113 | 139 | 199 | 473 | 286 | 306 | ⋯ | 72 | 96 | 136 | 79 | 89 | 86 | 49 | 84 | 34 | 66 |\n",
       "| ENSG00000278267.1 |   0 |   0 |   1 |   0 |   0 |   0 |   0 |   0 |   0 |   0 | ⋯ |  0 |  0 |   0 |  0 |  0 |  0 |  0 |  0 |  0 |  0 |\n",
       "| ENSG00000243485.5 |   1 |   0 |   0 |   1 |   0 |   0 |   0 |   0 |   0 |   1 | ⋯ |  0 |  0 |   1 |  0 |  2 |  2 |  0 |  1 |  0 |  0 |\n",
       "| ENSG00000237613.2 |   0 |   0 |   0 |   0 |   0 |   0 |   0 |   1 |   0 |   0 | ⋯ |  1 |  0 |   0 |  0 |  0 |  0 |  0 |  0 |  0 |  0 |\n",
       "| ENSG00000268020.3 |   0 |   1 |   0 |   0 |   0 |   1 |   1 |   0 |   1 |   2 | ⋯ |  1 |  0 |   0 |  1 |  2 |  0 |  0 |  0 |  1 |  1 |\n",
       "\n"
      ],
      "text/plain": [
       "                  GTEX-1117F-0226-SM-5GZZ7 GTEX-1117F-0426-SM-5EGHI\n",
       "ENSG00000223972.5   0                        0                     \n",
       "ENSG00000227232.5 187                      109                     \n",
       "ENSG00000278267.1   0                        0                     \n",
       "ENSG00000243485.5   1                        0                     \n",
       "ENSG00000237613.2   0                        0                     \n",
       "ENSG00000268020.3   0                        1                     \n",
       "                  GTEX-1117F-0526-SM-5EGHJ GTEX-1117F-0626-SM-5N9CS\n",
       "ENSG00000223972.5   0                        0                     \n",
       "ENSG00000227232.5 143                      251                     \n",
       "ENSG00000278267.1   1                        0                     \n",
       "ENSG00000243485.5   0                        1                     \n",
       "ENSG00000237613.2   0                        0                     \n",
       "ENSG00000268020.3   0                        0                     \n",
       "                  GTEX-1117F-0726-SM-5GIEN GTEX-1117F-1326-SM-5EGHH\n",
       "ENSG00000223972.5   0                        0                     \n",
       "ENSG00000227232.5 113                      139                     \n",
       "ENSG00000278267.1   0                        0                     \n",
       "ENSG00000243485.5   0                        0                     \n",
       "ENSG00000237613.2   0                        0                     \n",
       "ENSG00000268020.3   0                        1                     \n",
       "                  GTEX-1117F-2426-SM-5EGGH GTEX-1117F-2526-SM-5GZY6\n",
       "ENSG00000223972.5   0                        0                     \n",
       "ENSG00000227232.5 199                      473                     \n",
       "ENSG00000278267.1   0                        0                     \n",
       "ENSG00000243485.5   0                        0                     \n",
       "ENSG00000237613.2   0                        1                     \n",
       "ENSG00000268020.3   1                        0                     \n",
       "                  GTEX-1117F-2826-SM-5GZXL GTEX-1117F-2926-SM-5GZYI ⋯\n",
       "ENSG00000223972.5   0                        0                      ⋯\n",
       "ENSG00000227232.5 286                      306                      ⋯\n",
       "ENSG00000278267.1   0                        0                      ⋯\n",
       "ENSG00000243485.5   0                        1                      ⋯\n",
       "ENSG00000237613.2   0                        0                      ⋯\n",
       "ENSG00000268020.3   1                        2                      ⋯\n",
       "                  GTEX-ZZPU-1126-SM-5N9CW GTEX-ZZPU-1226-SM-5N9CK\n",
       "ENSG00000223972.5  0                       2                     \n",
       "ENSG00000227232.5 72                      96                     \n",
       "ENSG00000278267.1  0                       0                     \n",
       "ENSG00000243485.5  0                       0                     \n",
       "ENSG00000237613.2  1                       0                     \n",
       "ENSG00000268020.3  1                       0                     \n",
       "                  GTEX-ZZPU-1326-SM-5GZWS GTEX-ZZPU-1426-SM-5GZZ6\n",
       "ENSG00000223972.5   0                      0                     \n",
       "ENSG00000227232.5 136                     79                     \n",
       "ENSG00000278267.1   0                      0                     \n",
       "ENSG00000243485.5   1                      0                     \n",
       "ENSG00000237613.2   0                      0                     \n",
       "ENSG00000268020.3   0                      1                     \n",
       "                  GTEX-ZZPU-1826-SM-5E43L GTEX-ZZPU-2126-SM-5EGIU\n",
       "ENSG00000223972.5  0                       0                     \n",
       "ENSG00000227232.5 89                      86                     \n",
       "ENSG00000278267.1  0                       0                     \n",
       "ENSG00000243485.5  2                       2                     \n",
       "ENSG00000237613.2  0                       0                     \n",
       "ENSG00000268020.3  2                       0                     \n",
       "                  GTEX-ZZPU-2226-SM-5EGIV GTEX-ZZPU-2426-SM-5E44I\n",
       "ENSG00000223972.5  0                       0                     \n",
       "ENSG00000227232.5 49                      84                     \n",
       "ENSG00000278267.1  0                       0                     \n",
       "ENSG00000243485.5  0                       1                     \n",
       "ENSG00000237613.2  0                       0                     \n",
       "ENSG00000268020.3  0                       0                     \n",
       "                  GTEX-ZZPU-2626-SM-5E45Y GTEX-ZZPU-2726-SM-5NQ8O\n",
       "ENSG00000223972.5  1                       1                     \n",
       "ENSG00000227232.5 34                      66                     \n",
       "ENSG00000278267.1  0                       0                     \n",
       "ENSG00000243485.5  0                       0                     \n",
       "ENSG00000237613.2  0                       0                     \n",
       "ENSG00000268020.3  1                       1                     "
      ]
     },
     "metadata": {},
     "output_type": "display_data"
    }
   ],
   "source": [
    "head(exprs(obj))"
   ]
  },
  {
   "cell_type": "markdown",
   "metadata": {},
   "source": [
    "This data file needs to be acquired from a release. This is done nicely using the piggyback tool to download from the stored release.  To run this command to access a private release, a user needs to generate their own github token and then in an R or Jupyter Console window use the Sys.setenv(GITHUB_TOKEN=\"xxxx\") command to set it."
   ]
  },
  {
   "cell_type": "code",
   "execution_count": 15,
   "metadata": {},
   "outputs": [
    {
     "name": "stderr",
     "output_type": "stream",
     "text": [
      "All files up-to-date already\n",
      "\n"
     ]
    }
   ],
   "source": [
    "# devtools::install_github(\"ropensci/piggyback@87f71e8\", upgrade=\"never\")\n",
    "piggyback::pb_download(\n",
    "repo = \"TheJacksonLaboratory/sbas\", \n",
    "file = \"SraRunTable.noCram.noExome.noWGS.totalRNA.txt.gz\", \n",
    "tag  = \"GTExV8.v1.0\", \n",
    "dest = \"../data/\")"
   ]
  },
  {
   "cell_type": "code",
   "execution_count": 16,
   "metadata": {},
   "outputs": [
    {
     "data": {
      "text/html": [
       "<style>\n",
       ".list-inline {list-style: none; margin:0; padding: 0}\n",
       ".list-inline>li {display: inline-block}\n",
       ".list-inline>li:not(:last-child)::after {content: \"\\00b7\"; padding: 0 .5ex}\n",
       "</style>\n",
       "<ol class=list-inline><li>8781</li><li>146</li></ol>\n"
      ],
      "text/latex": [
       "\\begin{enumerate*}\n",
       "\\item 8781\n",
       "\\item 146\n",
       "\\end{enumerate*}\n"
      ],
      "text/markdown": [
       "1. 8781\n",
       "2. 146\n",
       "\n",
       "\n"
      ],
      "text/plain": [
       "[1] 8781  146"
      ]
     },
     "metadata": {},
     "output_type": "display_data"
    },
    {
     "data": {
      "text/plain": [
       "\n",
       "   0    1    2    3    4 \n",
       "8814  711 4839  868 2039 "
      ]
     },
     "metadata": {},
     "output_type": "display_data"
    },
    {
     "data": {
      "text/html": [
       "17382"
      ],
      "text/latex": [
       "17382"
      ],
      "text/markdown": [
       "17382"
      ],
      "text/plain": [
       "[1] 17382"
      ]
     },
     "metadata": {},
     "output_type": "display_data"
    },
    {
     "data": {
      "text/html": [
       "FALSE"
      ],
      "text/latex": [
       "FALSE"
      ],
      "text/markdown": [
       "FALSE"
      ],
      "text/plain": [
       "[1] FALSE"
      ]
     },
     "metadata": {},
     "output_type": "display_data"
    },
    {
     "data": {
      "text/plain": [
       "death_cause\n",
       "   1    2    3    4    5 \n",
       "8814  711 4839  868 2039 "
      ]
     },
     "metadata": {},
     "output_type": "display_data"
    },
    {
     "data": {
      "text/plain": [
       "non_intubation_death_cause\n",
       "FALSE  TRUE \n",
       " 8457  8814 "
      ]
     },
     "metadata": {},
     "output_type": "display_data"
    },
    {
     "data": {
      "text/plain": [
       "lung_non_intubation\n",
       "FALSE  TRUE \n",
       " 8515   299 "
      ]
     },
     "metadata": {},
     "output_type": "display_data"
    },
    {
     "data": {
      "text/plain": [
       "\n",
       "   0    1    2    3    4 \n",
       "4733  440 2137  488  866 "
      ]
     },
     "metadata": {},
     "output_type": "display_data"
    },
    {
     "data": {
      "text/plain": [
       "\n",
       "   1    2    3    4    5 \n",
       "4733  440 2137  488  866 "
      ]
     },
     "metadata": {},
     "output_type": "display_data"
    },
    {
     "data": {
      "text/plain": [
       "non_intubation_death_cause\n",
       "FALSE  TRUE \n",
       " 3931  4733 "
      ]
     },
     "metadata": {},
     "output_type": "display_data"
    },
    {
     "data": {
      "text/html": [
       "<style>\n",
       ".list-inline {list-style: none; margin:0; padding: 0}\n",
       ".list-inline>li {display: inline-block}\n",
       ".list-inline>li:not(:last-child)::after {content: \"\\00b7\"; padding: 0 .5ex}\n",
       "</style>\n",
       "<ol class=list-inline><li>179</li><li>147</li></ol>\n"
      ],
      "text/latex": [
       "\\begin{enumerate*}\n",
       "\\item 179\n",
       "\\item 147\n",
       "\\end{enumerate*}\n"
      ],
      "text/markdown": [
       "1. 179\n",
       "2. 147\n",
       "\n",
       "\n"
      ],
      "text/plain": [
       "[1] 179 147"
      ]
     },
     "metadata": {},
     "output_type": "display_data"
    },
    {
     "data": {
      "text/html": [
       "<style>\n",
       ".list-inline {list-style: none; margin:0; padding: 0}\n",
       ".list-inline>li {display: inline-block}\n",
       ".list-inline>li:not(:last-child)::after {content: \"\\00b7\"; padding: 0 .5ex}\n",
       "</style>\n",
       "<ol class=list-inline><li>206</li><li>147</li></ol>\n"
      ],
      "text/latex": [
       "\\begin{enumerate*}\n",
       "\\item 206\n",
       "\\item 147\n",
       "\\end{enumerate*}\n"
      ],
      "text/markdown": [
       "1. 206\n",
       "2. 147\n",
       "\n",
       "\n"
      ],
      "text/plain": [
       "[1] 206 147"
      ]
     },
     "metadata": {},
     "output_type": "display_data"
    }
   ],
   "source": [
    "# From SraRunTable\n",
    "meta.data           <-  data.table::fread(\"../data/SraRunTable.noCram.noExome.noWGS.totalRNA.txt.gz\")\n",
    "\n",
    "# Reform GTEX ids in meta.data$biospecimen_repository_sample_id to match pData$SAMPID\n",
    "meta.data$SAMPID<- gsub(\"-\",\".\" , meta.data$biospecimen_repository_sample_id)\n",
    "\n",
    "# Merge the 2 metadata tables by column SAMPID\n",
    "merged <- merge(meta.data, pData(obj), by = \"SAMPID\")\n",
    "dim(merged)\n",
    "\n",
    "# something odd about the DTHHRDY column, rendered effective through as.numeric.\n",
    "# of note, the cause because cause + 1, so that non-intubation death case in original is 0,\n",
    "# becomes 1 in the death_cause\n",
    "\n",
    "table(pData(obj)$DTHHRDY)\n",
    "length(pData(obj)$DTHHRDY)\n",
    "is.numeric(pData(obj)$DTHHRDY)\n",
    "death_cause <- as.numeric(pData(obj)$DTHHRDY)\n",
    "table(death_cause)\n",
    "non_intubation_death_cause <- death_cause == 1\n",
    "table(non_intubation_death_cause)\n",
    "lung_non_intubation <- (pData(obj)$SMTSD == \"Lung\")[non_intubation_death_cause == TRUE]\n",
    "table(lung_non_intubation)\n",
    "\n",
    "table(merged$DTHHRDY)\n",
    "merged$death_cause = as.numeric(merged$DTHHRDY)\n",
    "table(merged$death_cause)\n",
    "\n",
    "# Write dataframe into .csv file\n",
    "FILE = paste0('../data/merged_metadata', '.csv')\n",
    "write.table( merged,\n",
    "             file      = FILE,\n",
    "             append    = FALSE,\n",
    "             quote     = FALSE,\n",
    "             sep       = \",\",\n",
    "             row.names = F,\n",
    "             col.names = T)\n",
    "\n",
    "non_intubation_death_cause <- merged$death_cause == 1\n",
    "table(non_intubation_death_cause)\n",
    "\n",
    "lung_non_intubation  <- merged[(merged$SMTSD == \"Lung\" & non_intubation_death_cause == TRUE), ]\n",
    "dim(lung_non_intubation)\n",
    "\n",
    "breast               <- merged[merged$SMTSD == \"Breast - Mammary Tissue\"  , ]\n",
    "dim(breast)\n"
   ]
  },
  {
   "cell_type": "code",
   "execution_count": 17,
   "metadata": {},
   "outputs": [
    {
     "data": {
      "text/html": [
       "<style>\n",
       ".list-inline {list-style: none; margin:0; padding: 0}\n",
       ".list-inline>li {display: inline-block}\n",
       ".list-inline>li:not(:last-child)::after {content: \"\\00b7\"; padding: 0 .5ex}\n",
       "</style>\n",
       "<ol class=list-inline><li>'SAMPID'</li><li>'Run'</li><li>'analyte_type'</li><li>'Assay Type'</li><li>'AvgSpotLen'</li><li>'Bases'</li><li>'BioProject'</li><li>'BioSample'</li><li>'biospecimen_repository'</li><li>'biospecimen_repository_sample_id'</li><li>'body_site'</li><li>'Bytes'</li><li>'Center Name'</li><li>'Consent_Code'</li><li>'Consent'</li><li>'DATASTORE filetype'</li><li>'DATASTORE provider'</li><li>'DATASTORE region'</li><li>'Experiment'</li><li>'gap_accession'</li><li>'Instrument'</li><li>'Is_Tumor'</li><li>'Library Name'</li><li>'LibraryLayout'</li><li>'LibrarySelection'</li><li>'LibrarySource'</li><li>'Organism'</li><li>'Platform'</li><li>'ReleaseDate'</li><li>'Sample Name'</li><li>'SRA Study'</li><li>'study_design'</li><li>'study_name'</li><li>'submitted_subject_id'</li><li>'sex'</li><li>'AssemblyName'</li><li>'histological_type'</li><li>'molecular_data_type'</li><li>'alignment_software (exp)'</li><li>'AvgReadLength (run)'</li><li>'coverage (run)'</li><li>'lsid (exp)'</li><li>'lsid (run)'</li><li>'project (exp)'</li><li>'project (run)'</li><li>'run_barcode (run)'</li><li>'run_name (run)'</li><li>'work_request (exp)'</li><li>'work_request (run)'</li><li>'flowcell_barcode (run)'</li><li>'gssr_id (exp)'</li><li>'gssr_id (run)'</li><li>'material_type (exp)'</li><li>'read_group_id (run)'</li><li>'research_project (exp)'</li><li>'research_project (run)'</li><li>'root_sample_id (exp)'</li><li>'root_sample_id (run)'</li><li>'sample_id (exp)'</li><li>'Sample_ID (run)'</li><li>'analysis_type (exp)'</li><li>'analysis_type (run)'</li><li>'instrument_name (run)'</li><li>'lane (run)'</li><li>'library_type (exp)'</li><li>'library_type (run)'</li><li>'sample_type (exp)'</li><li>'product_order (exp)'</li><li>'product_order (run)'</li><li>'data_type (exp)'</li><li>'data_type (run)'</li><li>'product_part_number (exp)'</li><li>'product_part_number (run)'</li><li>'sample_barcode (exp)'</li><li>'sample_barcode (run)'</li><li>'is_technical_control'</li><li>'target_set (exp)'</li><li>'primary_disease (exp)'</li><li>'secondary_accessions (run)'</li><li>'Alignment_Provider (run)'</li><li>'SMATSSCR'</li><li>'SMCENTER'</li><li>'SMPTHNTS'</li><li>'SMRIN'</li><li>'SMTS'</li><li>'SMTSD'</li><li>'SMUBRID'</li><li>'SMTSISCH'</li><li>'SMTSPAX'</li><li>'SMNABTCH'</li><li>'SMNABTCHT'</li><li>'SMNABTCHD'</li><li>'SMGEBTCH'</li><li>'SMGEBTCHD'</li><li>'SMGEBTCHT'</li><li>'SMAFRZE'</li><li>'SMGTC'</li><li>'SME2MPRT'</li><li>'SMCHMPRS'</li><li>'SMNTRART'</li><li>'SMNUMGPS'</li><li>'SMMAPRT'</li><li>'SMEXNCRT'</li><li>'SM550NRM'</li><li>'SMGNSDTC'</li><li>'SMUNMPRT'</li><li>'SM350NRM'</li><li>'SMRDLGTH'</li><li>'SMMNCPB'</li><li>'SME1MMRT'</li><li>'SMSFLGTH'</li><li>'SMESTLBS'</li><li>'SMMPPD'</li><li>'SMNTERRT'</li><li>'SMRRNANM'</li><li>'SMRDTTL'</li><li>'SMVQCFL'</li><li>'SMMNCV'</li><li>'SMTRSCPT'</li><li>'SMMPPDPR'</li><li>'SMCGLGTH'</li><li>'SMGAPPCT'</li><li>'SMUNPDRD'</li><li>'SMNTRNRT'</li><li>'SMMPUNRT'</li><li>'SMEXPEFF'</li><li>'SMMPPDUN'</li><li>'SME2MMRT'</li><li>'SME2ANTI'</li><li>'SMALTALG'</li><li>'SME2SNSE'</li><li>'SMMFLGTH'</li><li>'SME1ANTI'</li><li>'SMSPLTRD'</li><li>'SMBSMMRT'</li><li>'SME1SNSE'</li><li>'SME1PCTS'</li><li>'SMRRNART'</li><li>'SME1MPRT'</li><li>'SMNUM5CD'</li><li>'SMDPMPRT'</li><li>'SME2PCTS'</li><li>'SUBJID'</li><li>'SEX'</li><li>'AGE'</li><li>'DTHHRDY'</li><li>'death_cause'</li></ol>\n"
      ],
      "text/latex": [
       "\\begin{enumerate*}\n",
       "\\item 'SAMPID'\n",
       "\\item 'Run'\n",
       "\\item 'analyte\\_type'\n",
       "\\item 'Assay Type'\n",
       "\\item 'AvgSpotLen'\n",
       "\\item 'Bases'\n",
       "\\item 'BioProject'\n",
       "\\item 'BioSample'\n",
       "\\item 'biospecimen\\_repository'\n",
       "\\item 'biospecimen\\_repository\\_sample\\_id'\n",
       "\\item 'body\\_site'\n",
       "\\item 'Bytes'\n",
       "\\item 'Center Name'\n",
       "\\item 'Consent\\_Code'\n",
       "\\item 'Consent'\n",
       "\\item 'DATASTORE filetype'\n",
       "\\item 'DATASTORE provider'\n",
       "\\item 'DATASTORE region'\n",
       "\\item 'Experiment'\n",
       "\\item 'gap\\_accession'\n",
       "\\item 'Instrument'\n",
       "\\item 'Is\\_Tumor'\n",
       "\\item 'Library Name'\n",
       "\\item 'LibraryLayout'\n",
       "\\item 'LibrarySelection'\n",
       "\\item 'LibrarySource'\n",
       "\\item 'Organism'\n",
       "\\item 'Platform'\n",
       "\\item 'ReleaseDate'\n",
       "\\item 'Sample Name'\n",
       "\\item 'SRA Study'\n",
       "\\item 'study\\_design'\n",
       "\\item 'study\\_name'\n",
       "\\item 'submitted\\_subject\\_id'\n",
       "\\item 'sex'\n",
       "\\item 'AssemblyName'\n",
       "\\item 'histological\\_type'\n",
       "\\item 'molecular\\_data\\_type'\n",
       "\\item 'alignment\\_software (exp)'\n",
       "\\item 'AvgReadLength (run)'\n",
       "\\item 'coverage (run)'\n",
       "\\item 'lsid (exp)'\n",
       "\\item 'lsid (run)'\n",
       "\\item 'project (exp)'\n",
       "\\item 'project (run)'\n",
       "\\item 'run\\_barcode (run)'\n",
       "\\item 'run\\_name (run)'\n",
       "\\item 'work\\_request (exp)'\n",
       "\\item 'work\\_request (run)'\n",
       "\\item 'flowcell\\_barcode (run)'\n",
       "\\item 'gssr\\_id (exp)'\n",
       "\\item 'gssr\\_id (run)'\n",
       "\\item 'material\\_type (exp)'\n",
       "\\item 'read\\_group\\_id (run)'\n",
       "\\item 'research\\_project (exp)'\n",
       "\\item 'research\\_project (run)'\n",
       "\\item 'root\\_sample\\_id (exp)'\n",
       "\\item 'root\\_sample\\_id (run)'\n",
       "\\item 'sample\\_id (exp)'\n",
       "\\item 'Sample\\_ID (run)'\n",
       "\\item 'analysis\\_type (exp)'\n",
       "\\item 'analysis\\_type (run)'\n",
       "\\item 'instrument\\_name (run)'\n",
       "\\item 'lane (run)'\n",
       "\\item 'library\\_type (exp)'\n",
       "\\item 'library\\_type (run)'\n",
       "\\item 'sample\\_type (exp)'\n",
       "\\item 'product\\_order (exp)'\n",
       "\\item 'product\\_order (run)'\n",
       "\\item 'data\\_type (exp)'\n",
       "\\item 'data\\_type (run)'\n",
       "\\item 'product\\_part\\_number (exp)'\n",
       "\\item 'product\\_part\\_number (run)'\n",
       "\\item 'sample\\_barcode (exp)'\n",
       "\\item 'sample\\_barcode (run)'\n",
       "\\item 'is\\_technical\\_control'\n",
       "\\item 'target\\_set (exp)'\n",
       "\\item 'primary\\_disease (exp)'\n",
       "\\item 'secondary\\_accessions (run)'\n",
       "\\item 'Alignment\\_Provider (run)'\n",
       "\\item 'SMATSSCR'\n",
       "\\item 'SMCENTER'\n",
       "\\item 'SMPTHNTS'\n",
       "\\item 'SMRIN'\n",
       "\\item 'SMTS'\n",
       "\\item 'SMTSD'\n",
       "\\item 'SMUBRID'\n",
       "\\item 'SMTSISCH'\n",
       "\\item 'SMTSPAX'\n",
       "\\item 'SMNABTCH'\n",
       "\\item 'SMNABTCHT'\n",
       "\\item 'SMNABTCHD'\n",
       "\\item 'SMGEBTCH'\n",
       "\\item 'SMGEBTCHD'\n",
       "\\item 'SMGEBTCHT'\n",
       "\\item 'SMAFRZE'\n",
       "\\item 'SMGTC'\n",
       "\\item 'SME2MPRT'\n",
       "\\item 'SMCHMPRS'\n",
       "\\item 'SMNTRART'\n",
       "\\item 'SMNUMGPS'\n",
       "\\item 'SMMAPRT'\n",
       "\\item 'SMEXNCRT'\n",
       "\\item 'SM550NRM'\n",
       "\\item 'SMGNSDTC'\n",
       "\\item 'SMUNMPRT'\n",
       "\\item 'SM350NRM'\n",
       "\\item 'SMRDLGTH'\n",
       "\\item 'SMMNCPB'\n",
       "\\item 'SME1MMRT'\n",
       "\\item 'SMSFLGTH'\n",
       "\\item 'SMESTLBS'\n",
       "\\item 'SMMPPD'\n",
       "\\item 'SMNTERRT'\n",
       "\\item 'SMRRNANM'\n",
       "\\item 'SMRDTTL'\n",
       "\\item 'SMVQCFL'\n",
       "\\item 'SMMNCV'\n",
       "\\item 'SMTRSCPT'\n",
       "\\item 'SMMPPDPR'\n",
       "\\item 'SMCGLGTH'\n",
       "\\item 'SMGAPPCT'\n",
       "\\item 'SMUNPDRD'\n",
       "\\item 'SMNTRNRT'\n",
       "\\item 'SMMPUNRT'\n",
       "\\item 'SMEXPEFF'\n",
       "\\item 'SMMPPDUN'\n",
       "\\item 'SME2MMRT'\n",
       "\\item 'SME2ANTI'\n",
       "\\item 'SMALTALG'\n",
       "\\item 'SME2SNSE'\n",
       "\\item 'SMMFLGTH'\n",
       "\\item 'SME1ANTI'\n",
       "\\item 'SMSPLTRD'\n",
       "\\item 'SMBSMMRT'\n",
       "\\item 'SME1SNSE'\n",
       "\\item 'SME1PCTS'\n",
       "\\item 'SMRRNART'\n",
       "\\item 'SME1MPRT'\n",
       "\\item 'SMNUM5CD'\n",
       "\\item 'SMDPMPRT'\n",
       "\\item 'SME2PCTS'\n",
       "\\item 'SUBJID'\n",
       "\\item 'SEX'\n",
       "\\item 'AGE'\n",
       "\\item 'DTHHRDY'\n",
       "\\item 'death\\_cause'\n",
       "\\end{enumerate*}\n"
      ],
      "text/markdown": [
       "1. 'SAMPID'\n",
       "2. 'Run'\n",
       "3. 'analyte_type'\n",
       "4. 'Assay Type'\n",
       "5. 'AvgSpotLen'\n",
       "6. 'Bases'\n",
       "7. 'BioProject'\n",
       "8. 'BioSample'\n",
       "9. 'biospecimen_repository'\n",
       "10. 'biospecimen_repository_sample_id'\n",
       "11. 'body_site'\n",
       "12. 'Bytes'\n",
       "13. 'Center Name'\n",
       "14. 'Consent_Code'\n",
       "15. 'Consent'\n",
       "16. 'DATASTORE filetype'\n",
       "17. 'DATASTORE provider'\n",
       "18. 'DATASTORE region'\n",
       "19. 'Experiment'\n",
       "20. 'gap_accession'\n",
       "21. 'Instrument'\n",
       "22. 'Is_Tumor'\n",
       "23. 'Library Name'\n",
       "24. 'LibraryLayout'\n",
       "25. 'LibrarySelection'\n",
       "26. 'LibrarySource'\n",
       "27. 'Organism'\n",
       "28. 'Platform'\n",
       "29. 'ReleaseDate'\n",
       "30. 'Sample Name'\n",
       "31. 'SRA Study'\n",
       "32. 'study_design'\n",
       "33. 'study_name'\n",
       "34. 'submitted_subject_id'\n",
       "35. 'sex'\n",
       "36. 'AssemblyName'\n",
       "37. 'histological_type'\n",
       "38. 'molecular_data_type'\n",
       "39. 'alignment_software (exp)'\n",
       "40. 'AvgReadLength (run)'\n",
       "41. 'coverage (run)'\n",
       "42. 'lsid (exp)'\n",
       "43. 'lsid (run)'\n",
       "44. 'project (exp)'\n",
       "45. 'project (run)'\n",
       "46. 'run_barcode (run)'\n",
       "47. 'run_name (run)'\n",
       "48. 'work_request (exp)'\n",
       "49. 'work_request (run)'\n",
       "50. 'flowcell_barcode (run)'\n",
       "51. 'gssr_id (exp)'\n",
       "52. 'gssr_id (run)'\n",
       "53. 'material_type (exp)'\n",
       "54. 'read_group_id (run)'\n",
       "55. 'research_project (exp)'\n",
       "56. 'research_project (run)'\n",
       "57. 'root_sample_id (exp)'\n",
       "58. 'root_sample_id (run)'\n",
       "59. 'sample_id (exp)'\n",
       "60. 'Sample_ID (run)'\n",
       "61. 'analysis_type (exp)'\n",
       "62. 'analysis_type (run)'\n",
       "63. 'instrument_name (run)'\n",
       "64. 'lane (run)'\n",
       "65. 'library_type (exp)'\n",
       "66. 'library_type (run)'\n",
       "67. 'sample_type (exp)'\n",
       "68. 'product_order (exp)'\n",
       "69. 'product_order (run)'\n",
       "70. 'data_type (exp)'\n",
       "71. 'data_type (run)'\n",
       "72. 'product_part_number (exp)'\n",
       "73. 'product_part_number (run)'\n",
       "74. 'sample_barcode (exp)'\n",
       "75. 'sample_barcode (run)'\n",
       "76. 'is_technical_control'\n",
       "77. 'target_set (exp)'\n",
       "78. 'primary_disease (exp)'\n",
       "79. 'secondary_accessions (run)'\n",
       "80. 'Alignment_Provider (run)'\n",
       "81. 'SMATSSCR'\n",
       "82. 'SMCENTER'\n",
       "83. 'SMPTHNTS'\n",
       "84. 'SMRIN'\n",
       "85. 'SMTS'\n",
       "86. 'SMTSD'\n",
       "87. 'SMUBRID'\n",
       "88. 'SMTSISCH'\n",
       "89. 'SMTSPAX'\n",
       "90. 'SMNABTCH'\n",
       "91. 'SMNABTCHT'\n",
       "92. 'SMNABTCHD'\n",
       "93. 'SMGEBTCH'\n",
       "94. 'SMGEBTCHD'\n",
       "95. 'SMGEBTCHT'\n",
       "96. 'SMAFRZE'\n",
       "97. 'SMGTC'\n",
       "98. 'SME2MPRT'\n",
       "99. 'SMCHMPRS'\n",
       "100. 'SMNTRART'\n",
       "101. 'SMNUMGPS'\n",
       "102. 'SMMAPRT'\n",
       "103. 'SMEXNCRT'\n",
       "104. 'SM550NRM'\n",
       "105. 'SMGNSDTC'\n",
       "106. 'SMUNMPRT'\n",
       "107. 'SM350NRM'\n",
       "108. 'SMRDLGTH'\n",
       "109. 'SMMNCPB'\n",
       "110. 'SME1MMRT'\n",
       "111. 'SMSFLGTH'\n",
       "112. 'SMESTLBS'\n",
       "113. 'SMMPPD'\n",
       "114. 'SMNTERRT'\n",
       "115. 'SMRRNANM'\n",
       "116. 'SMRDTTL'\n",
       "117. 'SMVQCFL'\n",
       "118. 'SMMNCV'\n",
       "119. 'SMTRSCPT'\n",
       "120. 'SMMPPDPR'\n",
       "121. 'SMCGLGTH'\n",
       "122. 'SMGAPPCT'\n",
       "123. 'SMUNPDRD'\n",
       "124. 'SMNTRNRT'\n",
       "125. 'SMMPUNRT'\n",
       "126. 'SMEXPEFF'\n",
       "127. 'SMMPPDUN'\n",
       "128. 'SME2MMRT'\n",
       "129. 'SME2ANTI'\n",
       "130. 'SMALTALG'\n",
       "131. 'SME2SNSE'\n",
       "132. 'SMMFLGTH'\n",
       "133. 'SME1ANTI'\n",
       "134. 'SMSPLTRD'\n",
       "135. 'SMBSMMRT'\n",
       "136. 'SME1SNSE'\n",
       "137. 'SME1PCTS'\n",
       "138. 'SMRRNART'\n",
       "139. 'SME1MPRT'\n",
       "140. 'SMNUM5CD'\n",
       "141. 'SMDPMPRT'\n",
       "142. 'SME2PCTS'\n",
       "143. 'SUBJID'\n",
       "144. 'SEX'\n",
       "145. 'AGE'\n",
       "146. 'DTHHRDY'\n",
       "147. 'death_cause'\n",
       "\n",
       "\n"
      ],
      "text/plain": [
       "  [1] \"SAMPID\"                           \"Run\"                             \n",
       "  [3] \"analyte_type\"                     \"Assay Type\"                      \n",
       "  [5] \"AvgSpotLen\"                       \"Bases\"                           \n",
       "  [7] \"BioProject\"                       \"BioSample\"                       \n",
       "  [9] \"biospecimen_repository\"           \"biospecimen_repository_sample_id\"\n",
       " [11] \"body_site\"                        \"Bytes\"                           \n",
       " [13] \"Center Name\"                      \"Consent_Code\"                    \n",
       " [15] \"Consent\"                          \"DATASTORE filetype\"              \n",
       " [17] \"DATASTORE provider\"               \"DATASTORE region\"                \n",
       " [19] \"Experiment\"                       \"gap_accession\"                   \n",
       " [21] \"Instrument\"                       \"Is_Tumor\"                        \n",
       " [23] \"Library Name\"                     \"LibraryLayout\"                   \n",
       " [25] \"LibrarySelection\"                 \"LibrarySource\"                   \n",
       " [27] \"Organism\"                         \"Platform\"                        \n",
       " [29] \"ReleaseDate\"                      \"Sample Name\"                     \n",
       " [31] \"SRA Study\"                        \"study_design\"                    \n",
       " [33] \"study_name\"                       \"submitted_subject_id\"            \n",
       " [35] \"sex\"                              \"AssemblyName\"                    \n",
       " [37] \"histological_type\"                \"molecular_data_type\"             \n",
       " [39] \"alignment_software (exp)\"         \"AvgReadLength (run)\"             \n",
       " [41] \"coverage (run)\"                   \"lsid (exp)\"                      \n",
       " [43] \"lsid (run)\"                       \"project (exp)\"                   \n",
       " [45] \"project (run)\"                    \"run_barcode (run)\"               \n",
       " [47] \"run_name (run)\"                   \"work_request (exp)\"              \n",
       " [49] \"work_request (run)\"               \"flowcell_barcode (run)\"          \n",
       " [51] \"gssr_id (exp)\"                    \"gssr_id (run)\"                   \n",
       " [53] \"material_type (exp)\"              \"read_group_id (run)\"             \n",
       " [55] \"research_project (exp)\"           \"research_project (run)\"          \n",
       " [57] \"root_sample_id (exp)\"             \"root_sample_id (run)\"            \n",
       " [59] \"sample_id (exp)\"                  \"Sample_ID (run)\"                 \n",
       " [61] \"analysis_type (exp)\"              \"analysis_type (run)\"             \n",
       " [63] \"instrument_name (run)\"            \"lane (run)\"                      \n",
       " [65] \"library_type (exp)\"               \"library_type (run)\"              \n",
       " [67] \"sample_type (exp)\"                \"product_order (exp)\"             \n",
       " [69] \"product_order (run)\"              \"data_type (exp)\"                 \n",
       " [71] \"data_type (run)\"                  \"product_part_number (exp)\"       \n",
       " [73] \"product_part_number (run)\"        \"sample_barcode (exp)\"            \n",
       " [75] \"sample_barcode (run)\"             \"is_technical_control\"            \n",
       " [77] \"target_set (exp)\"                 \"primary_disease (exp)\"           \n",
       " [79] \"secondary_accessions (run)\"       \"Alignment_Provider (run)\"        \n",
       " [81] \"SMATSSCR\"                         \"SMCENTER\"                        \n",
       " [83] \"SMPTHNTS\"                         \"SMRIN\"                           \n",
       " [85] \"SMTS\"                             \"SMTSD\"                           \n",
       " [87] \"SMUBRID\"                          \"SMTSISCH\"                        \n",
       " [89] \"SMTSPAX\"                          \"SMNABTCH\"                        \n",
       " [91] \"SMNABTCHT\"                        \"SMNABTCHD\"                       \n",
       " [93] \"SMGEBTCH\"                         \"SMGEBTCHD\"                       \n",
       " [95] \"SMGEBTCHT\"                        \"SMAFRZE\"                         \n",
       " [97] \"SMGTC\"                            \"SME2MPRT\"                        \n",
       " [99] \"SMCHMPRS\"                         \"SMNTRART\"                        \n",
       "[101] \"SMNUMGPS\"                         \"SMMAPRT\"                         \n",
       "[103] \"SMEXNCRT\"                         \"SM550NRM\"                        \n",
       "[105] \"SMGNSDTC\"                         \"SMUNMPRT\"                        \n",
       "[107] \"SM350NRM\"                         \"SMRDLGTH\"                        \n",
       "[109] \"SMMNCPB\"                          \"SME1MMRT\"                        \n",
       "[111] \"SMSFLGTH\"                         \"SMESTLBS\"                        \n",
       "[113] \"SMMPPD\"                           \"SMNTERRT\"                        \n",
       "[115] \"SMRRNANM\"                         \"SMRDTTL\"                         \n",
       "[117] \"SMVQCFL\"                          \"SMMNCV\"                          \n",
       "[119] \"SMTRSCPT\"                         \"SMMPPDPR\"                        \n",
       "[121] \"SMCGLGTH\"                         \"SMGAPPCT\"                        \n",
       "[123] \"SMUNPDRD\"                         \"SMNTRNRT\"                        \n",
       "[125] \"SMMPUNRT\"                         \"SMEXPEFF\"                        \n",
       "[127] \"SMMPPDUN\"                         \"SME2MMRT\"                        \n",
       "[129] \"SME2ANTI\"                         \"SMALTALG\"                        \n",
       "[131] \"SME2SNSE\"                         \"SMMFLGTH\"                        \n",
       "[133] \"SME1ANTI\"                         \"SMSPLTRD\"                        \n",
       "[135] \"SMBSMMRT\"                         \"SME1SNSE\"                        \n",
       "[137] \"SME1PCTS\"                         \"SMRRNART\"                        \n",
       "[139] \"SME1MPRT\"                         \"SMNUM5CD\"                        \n",
       "[141] \"SMDPMPRT\"                         \"SME2PCTS\"                        \n",
       "[143] \"SUBJID\"                           \"SEX\"                             \n",
       "[145] \"AGE\"                              \"DTHHRDY\"                         \n",
       "[147] \"death_cause\"                     "
      ]
     },
     "metadata": {},
     "output_type": "display_data"
    }
   ],
   "source": [
    "colnames(merged)"
   ]
  },
  {
   "cell_type": "code",
   "execution_count": 18,
   "metadata": {},
   "outputs": [
    {
     "data": {
      "text/html": [
       "<style>\n",
       ".list-inline {list-style: none; margin:0; padding: 0}\n",
       ".list-inline>li {display: inline-block}\n",
       ".list-inline>li:not(:last-child)::after {content: \"\\00b7\"; padding: 0 .5ex}\n",
       "</style>\n",
       "<ol class=list-inline><li>42611</li><li>8674</li></ol>\n"
      ],
      "text/latex": [
       "\\begin{enumerate*}\n",
       "\\item 42611\n",
       "\\item 8674\n",
       "\\end{enumerate*}\n"
      ],
      "text/markdown": [
       "1. 42611\n",
       "2. 8674\n",
       "\n",
       "\n"
      ],
      "text/plain": [
       "[1] 42611  8674"
      ]
     },
     "metadata": {},
     "output_type": "display_data"
    },
    {
     "data": {
      "text/html": [
       "<style>\n",
       ".list-inline {list-style: none; margin:0; padding: 0}\n",
       ".list-inline>li {display: inline-block}\n",
       ".list-inline>li:not(:last-child)::after {content: \"\\00b7\"; padding: 0 .5ex}\n",
       "</style>\n",
       "<ol class=list-inline><li>42611</li><li>8673</li></ol>\n"
      ],
      "text/latex": [
       "\\begin{enumerate*}\n",
       "\\item 42611\n",
       "\\item 8673\n",
       "\\end{enumerate*}\n"
      ],
      "text/markdown": [
       "1. 42611\n",
       "2. 8673\n",
       "\n",
       "\n"
      ],
      "text/plain": [
       "[1] 42611  8673"
      ]
     },
     "metadata": {},
     "output_type": "display_data"
    }
   ],
   "source": [
    "dim(se.jc.inc)\n",
    "ID <- se.jc.inc [,1]\n",
    "se.jc.inc <- data.matrix(se.jc.inc[,-1])\n",
    "dim(se.jc.inc)"
   ]
  },
  {
   "cell_type": "code",
   "execution_count": 19,
   "metadata": {},
   "outputs": [
    {
     "data": {
      "text/html": [
       "<style>\n",
       ".list-inline {list-style: none; margin:0; padding: 0}\n",
       ".list-inline>li {display: inline-block}\n",
       ".list-inline>li:not(:last-child)::after {content: \"\\00b7\"; padding: 0 .5ex}\n",
       "</style>\n",
       "<ol class=list-inline><li>'SRR1068788'</li><li>'SRR1068808'</li><li>'SRR1068832'</li><li>'SRR1068855'</li><li>'SRR1068880'</li><li>'SRR1068929'</li></ol>\n"
      ],
      "text/latex": [
       "\\begin{enumerate*}\n",
       "\\item 'SRR1068788'\n",
       "\\item 'SRR1068808'\n",
       "\\item 'SRR1068832'\n",
       "\\item 'SRR1068855'\n",
       "\\item 'SRR1068880'\n",
       "\\item 'SRR1068929'\n",
       "\\end{enumerate*}\n"
      ],
      "text/markdown": [
       "1. 'SRR1068788'\n",
       "2. 'SRR1068808'\n",
       "3. 'SRR1068832'\n",
       "4. 'SRR1068855'\n",
       "5. 'SRR1068880'\n",
       "6. 'SRR1068929'\n",
       "\n",
       "\n"
      ],
      "text/plain": [
       "[1] \"SRR1068788\" \"SRR1068808\" \"SRR1068832\" \"SRR1068855\" \"SRR1068880\"\n",
       "[6] \"SRR1068929\""
      ]
     },
     "metadata": {},
     "output_type": "display_data"
    }
   ],
   "source": [
    "head(colnames(se.jc.inc))"
   ]
  },
  {
   "cell_type": "markdown",
   "metadata": {},
   "source": [
    "We have a few more samples with metadata than what we have in our matrix (8781 vs 8673), so limit the metadata only to those within the rmats sample"
   ]
  },
  {
   "cell_type": "code",
   "execution_count": 20,
   "metadata": {},
   "outputs": [
    {
     "data": {
      "text/html": [
       "8673"
      ],
      "text/latex": [
       "8673"
      ],
      "text/markdown": [
       "8673"
      ],
      "text/plain": [
       "[1] 8673"
      ]
     },
     "metadata": {},
     "output_type": "display_data"
    },
    {
     "data": {
      "text/html": [
       "<style>\n",
       ".list-inline {list-style: none; margin:0; padding: 0}\n",
       ".list-inline>li {display: inline-block}\n",
       ".list-inline>li:not(:last-child)::after {content: \"\\00b7\"; padding: 0 .5ex}\n",
       "</style>\n",
       "<ol class=list-inline><li>'SRR1068788'</li><li>'SRR1068808'</li><li>'SRR1068832'</li><li>'SRR1068855'</li><li>'SRR1068880'</li><li>'SRR1068929'</li><li>'SRR1068953'</li><li>'SRR1068977'</li><li>'SRR1068999'</li><li>'SRR1069024'</li></ol>\n"
      ],
      "text/latex": [
       "\\begin{enumerate*}\n",
       "\\item 'SRR1068788'\n",
       "\\item 'SRR1068808'\n",
       "\\item 'SRR1068832'\n",
       "\\item 'SRR1068855'\n",
       "\\item 'SRR1068880'\n",
       "\\item 'SRR1068929'\n",
       "\\item 'SRR1068953'\n",
       "\\item 'SRR1068977'\n",
       "\\item 'SRR1068999'\n",
       "\\item 'SRR1069024'\n",
       "\\end{enumerate*}\n"
      ],
      "text/markdown": [
       "1. 'SRR1068788'\n",
       "2. 'SRR1068808'\n",
       "3. 'SRR1068832'\n",
       "4. 'SRR1068855'\n",
       "5. 'SRR1068880'\n",
       "6. 'SRR1068929'\n",
       "7. 'SRR1068953'\n",
       "8. 'SRR1068977'\n",
       "9. 'SRR1068999'\n",
       "10. 'SRR1069024'\n",
       "\n",
       "\n"
      ],
      "text/plain": [
       " [1] \"SRR1068788\" \"SRR1068808\" \"SRR1068832\" \"SRR1068855\" \"SRR1068880\"\n",
       " [6] \"SRR1068929\" \"SRR1068953\" \"SRR1068977\" \"SRR1068999\" \"SRR1069024\""
      ]
     },
     "metadata": {},
     "output_type": "display_data"
    },
    {
     "data": {
      "text/html": [
       "8781"
      ],
      "text/latex": [
       "8781"
      ],
      "text/markdown": [
       "8781"
      ],
      "text/plain": [
       "[1] 8781"
      ]
     },
     "metadata": {},
     "output_type": "display_data"
    },
    {
     "data": {
      "text/html": [
       "<style>\n",
       ".list-inline {list-style: none; margin:0; padding: 0}\n",
       ".list-inline>li {display: inline-block}\n",
       ".list-inline>li:not(:last-child)::after {content: \"\\00b7\"; padding: 0 .5ex}\n",
       "</style>\n",
       "<ol class=list-inline><li>'SRR1455038'</li><li>'SRR1309070'</li><li>'SRR1500555'</li><li>'SRR1317257'</li><li>'SRR1368794'</li><li>'SRR1309248'</li><li>'SRR1479826'</li><li>'SRR1313747'</li><li>'SRR1364871'</li><li>'SRR1465418'</li></ol>\n"
      ],
      "text/latex": [
       "\\begin{enumerate*}\n",
       "\\item 'SRR1455038'\n",
       "\\item 'SRR1309070'\n",
       "\\item 'SRR1500555'\n",
       "\\item 'SRR1317257'\n",
       "\\item 'SRR1368794'\n",
       "\\item 'SRR1309248'\n",
       "\\item 'SRR1479826'\n",
       "\\item 'SRR1313747'\n",
       "\\item 'SRR1364871'\n",
       "\\item 'SRR1465418'\n",
       "\\end{enumerate*}\n"
      ],
      "text/markdown": [
       "1. 'SRR1455038'\n",
       "2. 'SRR1309070'\n",
       "3. 'SRR1500555'\n",
       "4. 'SRR1317257'\n",
       "5. 'SRR1368794'\n",
       "6. 'SRR1309248'\n",
       "7. 'SRR1479826'\n",
       "8. 'SRR1313747'\n",
       "9. 'SRR1364871'\n",
       "10. 'SRR1465418'\n",
       "\n",
       "\n"
      ],
      "text/plain": [
       " [1] \"SRR1455038\" \"SRR1309070\" \"SRR1500555\" \"SRR1317257\" \"SRR1368794\"\n",
       " [6] \"SRR1309248\" \"SRR1479826\" \"SRR1313747\" \"SRR1364871\" \"SRR1465418\""
      ]
     },
     "metadata": {},
     "output_type": "display_data"
    },
    {
     "data": {
      "text/html": [
       "7872"
      ],
      "text/latex": [
       "7872"
      ],
      "text/markdown": [
       "7872"
      ],
      "text/plain": [
       "[1] 7872"
      ]
     },
     "metadata": {},
     "output_type": "display_data"
    }
   ],
   "source": [
    "rmats_names=as.vector(as.character(colnames(se.jc.inc)))\n",
    "length(rmats_names)\n",
    "rmats_names[1:10]\n",
    "merged_names=as.vector(as.character(merged$Run))\n",
    "length(merged_names)\n",
    "merged_names[1:10]\n",
    "if (length(merged_names) > length(rmats_names)) {\n",
    "    superset <- merged_names\n",
    "    subset   <- rmats_names    \n",
    "} \n",
    "\n",
    "if (length(merged_names) < length(rmats_names)) {\n",
    "    superset <- rmats_names\n",
    "    subset   <- merged_names   \n",
    "} \n",
    "\n",
    "#non_overlaps <- setdiff( superset, subset)\n",
    "rmats_merged_intersect <- intersect(superset, subset)\n",
    "length(rmats_merged_intersect)\n",
    "#length(non_overlaps)\n",
    "#message(\"The non-overlapping IDs between merged and rmats count data are:\\n\\n\", \n",
    "#        paste(non_overlaps, collapse = \"\\n\") )"
   ]
  },
  {
   "cell_type": "code",
   "execution_count": 21,
   "metadata": {},
   "outputs": [
    {
     "data": {
      "text/html": [
       "7872"
      ],
      "text/latex": [
       "7872"
      ],
      "text/markdown": [
       "7872"
      ],
      "text/plain": [
       "[1] 7872"
      ]
     },
     "metadata": {},
     "output_type": "display_data"
    },
    {
     "data": {
      "text/html": [
       "8673"
      ],
      "text/latex": [
       "8673"
      ],
      "text/markdown": [
       "8673"
      ],
      "text/plain": [
       "[1] 8673"
      ]
     },
     "metadata": {},
     "output_type": "display_data"
    },
    {
     "data": {
      "text/html": [
       "8781"
      ],
      "text/latex": [
       "8781"
      ],
      "text/markdown": [
       "8781"
      ],
      "text/plain": [
       "[1] 8781"
      ]
     },
     "metadata": {},
     "output_type": "display_data"
    },
    {
     "data": {
      "text/plain": [
       "keep_merged\n",
       "FALSE  TRUE \n",
       "  909  7872 "
      ]
     },
     "metadata": {},
     "output_type": "display_data"
    },
    {
     "data": {
      "text/plain": [
       "keep_rmats\n",
       "FALSE  TRUE \n",
       "  801  7872 "
      ]
     },
     "metadata": {},
     "output_type": "display_data"
    }
   ],
   "source": [
    "length(rmats_merged_intersect)\n",
    "length(rmats_names)\n",
    "length(merged_names)\n",
    "\n",
    "keep_merged <- merged_names %in% rmats_merged_intersect\n",
    "keep_rmats  <- rmats_names  %in% rmats_merged_intersect\n",
    "\n",
    "table(keep_merged)\n",
    "table(keep_rmats)"
   ]
  },
  {
   "cell_type": "code",
   "execution_count": 22,
   "metadata": {},
   "outputs": [
    {
     "data": {
      "text/html": [
       "<style>\n",
       ".list-inline {list-style: none; margin:0; padding: 0}\n",
       ".list-inline>li {display: inline-block}\n",
       ".list-inline>li:not(:last-child)::after {content: \"\\00b7\"; padding: 0 .5ex}\n",
       "</style>\n",
       "<ol class=list-inline><li>TRUE</li><li>TRUE</li><li>FALSE</li><li>TRUE</li><li>TRUE</li><li>TRUE</li></ol>\n"
      ],
      "text/latex": [
       "\\begin{enumerate*}\n",
       "\\item TRUE\n",
       "\\item TRUE\n",
       "\\item FALSE\n",
       "\\item TRUE\n",
       "\\item TRUE\n",
       "\\item TRUE\n",
       "\\end{enumerate*}\n"
      ],
      "text/markdown": [
       "1. TRUE\n",
       "2. TRUE\n",
       "3. FALSE\n",
       "4. TRUE\n",
       "5. TRUE\n",
       "6. TRUE\n",
       "\n",
       "\n"
      ],
      "text/plain": [
       "[1]  TRUE  TRUE FALSE  TRUE  TRUE  TRUE"
      ]
     },
     "metadata": {},
     "output_type": "display_data"
    },
    {
     "data": {
      "text/html": [
       "<style>\n",
       ".list-inline {list-style: none; margin:0; padding: 0}\n",
       ".list-inline>li {display: inline-block}\n",
       ".list-inline>li:not(:last-child)::after {content: \"\\00b7\"; padding: 0 .5ex}\n",
       "</style>\n",
       "<ol class=list-inline><li>TRUE</li><li>TRUE</li><li>TRUE</li><li>FALSE</li><li>TRUE</li><li>TRUE</li></ol>\n"
      ],
      "text/latex": [
       "\\begin{enumerate*}\n",
       "\\item TRUE\n",
       "\\item TRUE\n",
       "\\item TRUE\n",
       "\\item FALSE\n",
       "\\item TRUE\n",
       "\\item TRUE\n",
       "\\end{enumerate*}\n"
      ],
      "text/markdown": [
       "1. TRUE\n",
       "2. TRUE\n",
       "3. TRUE\n",
       "4. FALSE\n",
       "5. TRUE\n",
       "6. TRUE\n",
       "\n",
       "\n"
      ],
      "text/plain": [
       "[1]  TRUE  TRUE  TRUE FALSE  TRUE  TRUE"
      ]
     },
     "metadata": {},
     "output_type": "display_data"
    }
   ],
   "source": [
    "head(keep_merged)\n",
    "head(keep_rmats)"
   ]
  },
  {
   "cell_type": "code",
   "execution_count": 23,
   "metadata": {},
   "outputs": [
    {
     "data": {
      "text/html": [
       "<style>\n",
       ".list-inline {list-style: none; margin:0; padding: 0}\n",
       ".list-inline>li {display: inline-block}\n",
       ".list-inline>li:not(:last-child)::after {content: \"\\00b7\"; padding: 0 .5ex}\n",
       "</style>\n",
       "<ol class=list-inline><li>8781</li><li>147</li></ol>\n"
      ],
      "text/latex": [
       "\\begin{enumerate*}\n",
       "\\item 8781\n",
       "\\item 147\n",
       "\\end{enumerate*}\n"
      ],
      "text/markdown": [
       "1. 8781\n",
       "2. 147\n",
       "\n",
       "\n"
      ],
      "text/plain": [
       "[1] 8781  147"
      ]
     },
     "metadata": {},
     "output_type": "display_data"
    },
    {
     "data": {
      "text/html": [
       "<style>\n",
       ".list-inline {list-style: none; margin:0; padding: 0}\n",
       ".list-inline>li {display: inline-block}\n",
       ".list-inline>li:not(:last-child)::after {content: \"\\00b7\"; padding: 0 .5ex}\n",
       "</style>\n",
       "<ol class=list-inline><li>42611</li><li>8673</li></ol>\n"
      ],
      "text/latex": [
       "\\begin{enumerate*}\n",
       "\\item 42611\n",
       "\\item 8673\n",
       "\\end{enumerate*}\n"
      ],
      "text/markdown": [
       "1. 42611\n",
       "2. 8673\n",
       "\n",
       "\n"
      ],
      "text/plain": [
       "[1] 42611  8673"
      ]
     },
     "metadata": {},
     "output_type": "display_data"
    }
   ],
   "source": [
    "dim(merged)\n",
    "dim(se.jc.inc)"
   ]
  },
  {
   "cell_type": "markdown",
   "metadata": {},
   "source": [
    "Now we have our truth statements, and we have at a counts table (`merged_se.jc.inc` as a datamatrix) that can be reconciled with the metadata, `merged_rmats`"
   ]
  },
  {
   "cell_type": "code",
   "execution_count": 24,
   "metadata": {},
   "outputs": [
    {
     "data": {
      "text/html": [
       "<style>\n",
       ".list-inline {list-style: none; margin:0; padding: 0}\n",
       ".list-inline>li {display: inline-block}\n",
       ".list-inline>li:not(:last-child)::after {content: \"\\00b7\"; padding: 0 .5ex}\n",
       "</style>\n",
       "<ol class=list-inline><li>7872</li><li>147</li></ol>\n"
      ],
      "text/latex": [
       "\\begin{enumerate*}\n",
       "\\item 7872\n",
       "\\item 147\n",
       "\\end{enumerate*}\n"
      ],
      "text/markdown": [
       "1. 7872\n",
       "2. 147\n",
       "\n",
       "\n"
      ],
      "text/plain": [
       "[1] 7872  147"
      ]
     },
     "metadata": {},
     "output_type": "display_data"
    },
    {
     "data": {
      "text/html": [
       "<style>\n",
       ".list-inline {list-style: none; margin:0; padding: 0}\n",
       ".list-inline>li {display: inline-block}\n",
       ".list-inline>li:not(:last-child)::after {content: \"\\00b7\"; padding: 0 .5ex}\n",
       "</style>\n",
       "<ol class=list-inline><li>42611</li><li>7872</li></ol>\n"
      ],
      "text/latex": [
       "\\begin{enumerate*}\n",
       "\\item 42611\n",
       "\\item 7872\n",
       "\\end{enumerate*}\n"
      ],
      "text/markdown": [
       "1. 42611\n",
       "2. 7872\n",
       "\n",
       "\n"
      ],
      "text/plain": [
       "[1] 42611  7872"
      ]
     },
     "metadata": {},
     "output_type": "display_data"
    }
   ],
   "source": [
    "merged_rmats     <- merged   [keep_merged==TRUE,]\n",
    "merged_se.jc.inc <- se.jc.inc[                 ,keep_rmats==TRUE]\n",
    "dim(merged_rmats)\n",
    "dim(merged_se.jc.inc)\n"
   ]
  },
  {
   "cell_type": "markdown",
   "metadata": {},
   "source": [
    "#  Differential Expression using `{edgeR}`"
   ]
  },
  {
   "cell_type": "markdown",
   "metadata": {},
   "source": [
    "For gene expression analysis, we used the exprs(obj) function to obtain the counts matrix via transcript_counts_matrix <- exprs(obj).  We have our metadata in the 'merged' file this file is a different size at the moment than our sample file.  That is we have more metadata then we"
   ]
  },
  {
   "cell_type": "markdown",
   "metadata": {},
   "source": [
    "To use the **`edgeR::DGEList()`** function, we need to transpose our `transcript_counts_matrix` so that the length of group is equal to the number of columns in our counts (`transcript_counts_matrix`). You will get an error from the   **`edgeR::DGEList()`** function (counts = x, group = group) if the length of group is not equal to the number of columns in counts."
   ]
  },
  {
   "cell_type": "code",
   "execution_count": 25,
   "metadata": {},
   "outputs": [],
   "source": [
    "groupiso <- factor(merged_rmats$SEX)"
   ]
  },
  {
   "cell_type": "code",
   "execution_count": 26,
   "metadata": {},
   "outputs": [
    {
     "data": {
      "text/plain": [
       "groupiso\n",
       "   1    2 \n",
       "4998 2874 "
      ]
     },
     "metadata": {},
     "output_type": "display_data"
    }
   ],
   "source": [
    "table(groupiso)"
   ]
  },
  {
   "cell_type": "code",
   "execution_count": 27,
   "metadata": {},
   "outputs": [
    {
     "data": {
      "text/html": [
       "7872"
      ],
      "text/latex": [
       "7872"
      ],
      "text/markdown": [
       "7872"
      ],
      "text/plain": [
       "[1] 7872"
      ]
     },
     "metadata": {},
     "output_type": "display_data"
    },
    {
     "data": {
      "text/html": [
       "<style>\n",
       ".list-inline {list-style: none; margin:0; padding: 0}\n",
       ".list-inline>li {display: inline-block}\n",
       ".list-inline>li:not(:last-child)::after {content: \"\\00b7\"; padding: 0 .5ex}\n",
       "</style>\n",
       "<ol class=list-inline><li>42611</li><li>7872</li></ol>\n"
      ],
      "text/latex": [
       "\\begin{enumerate*}\n",
       "\\item 42611\n",
       "\\item 7872\n",
       "\\end{enumerate*}\n"
      ],
      "text/markdown": [
       "1. 42611\n",
       "2. 7872\n",
       "\n",
       "\n"
      ],
      "text/plain": [
       "[1] 42611  7872"
      ]
     },
     "metadata": {},
     "output_type": "display_data"
    }
   ],
   "source": [
    "length(groupiso)\n",
    "dim(merged_se.jc.inc)"
   ]
  },
  {
   "cell_type": "code",
   "execution_count": 28,
   "metadata": {},
   "outputs": [
    {
     "ename": "ERROR",
     "evalue": "Error in eval(expr, envir, enclos): object 'y.se.jc.inc' not found\n",
     "output_type": "error",
     "traceback": [
      "Error in eval(expr, envir, enclos): object 'y.se.jc.inc' not found\nTraceback:\n"
     ]
    }
   ],
   "source": [
    "if (!(\"DGENormFactors.y.se.jc.inc.rds\" %in% list.files(\"../data\"))) {\n",
    "    y.se.jc.inc <- edgeR::DGEList(counts = merged_se.jc.inc, \n",
    "                                  group  = groupiso)\n",
    "    message(\"Done!\\n\")    \n",
    "    message(\"Calculating normalization factors on `DGEList` object to scale the raw library sizes with 'edgeR::DGEList()' ..\")    \n",
    "    y.se.jc.inc <- edgeR::calcNormFactors(y.se.jc.inc)\n",
    "    message(\"Done!\\n\")    \n",
    "    message(\"Saving normalization factors object in '../data/DGENormFactors.y.se.jc.inc.rds' ..\")        \n",
    "    saveRDS(y.se.jc.inc, file = \"../data/DGENormFactors.y.se.jc.inc.rds\")\n",
    "    message(\"Done!\\n\")    \n",
    "    message(\"Generating sha256sum for DGENormFactors.y.se.jc.inc.rds ..\\n\")    \n",
    "    message(system(\"sha256sum ../data/DGENormFactors.y.se.jc.inc.rds\", intern = TRUE))\n",
    "    message(\"Done!\\n\")\n",
    "}\n",
    "\n",
    "attributes(y.se.jc.inc)"
   ]
  },
  {
   "cell_type": "code",
   "execution_count": 30,
   "metadata": {},
   "outputs": [
    {
     "data": {
      "text/html": [
       "<style>\n",
       ".list-inline {list-style: none; margin:0; padding: 0}\n",
       ".list-inline>li {display: inline-block}\n",
       ".list-inline>li:not(:last-child)::after {content: \"\\00b7\"; padding: 0 .5ex}\n",
       "</style>\n",
       "<ol class=list-inline><li>42611</li><li>7872</li></ol>\n"
      ],
      "text/latex": [
       "\\begin{enumerate*}\n",
       "\\item 42611\n",
       "\\item 7872\n",
       "\\end{enumerate*}\n"
      ],
      "text/markdown": [
       "1. 42611\n",
       "2. 7872\n",
       "\n",
       "\n"
      ],
      "text/plain": [
       "[1] 42611  7872"
      ]
     },
     "metadata": {},
     "output_type": "display_data"
    }
   ],
   "source": [
    "dim(y.se.jc.inc)"
   ]
  },
  {
   "cell_type": "markdown",
   "metadata": {},
   "source": [
    "The challenge with the `inc` number is that it is a calculated `percent spliced in or psi` number.  For the statistics, it is best to have counts - which is where the `ijc` and `sjc` numbers come in and can be used for the calculations.  Using the `psi` we should calculate by, say `1000` to do differental analysis on expected count data and treat it as an integer"
   ]
  },
  {
   "cell_type": "code",
   "execution_count": 31,
   "metadata": {},
   "outputs": [],
   "source": [
    "y.se.jc.inc_as_counts = y.se.jc.inc"
   ]
  },
  {
   "cell_type": "code",
   "execution_count": 32,
   "metadata": {},
   "outputs": [],
   "source": [
    "y.se.jc.inc_as_counts$counts <- y.se.jc.inc$counts * 1000"
   ]
  },
  {
   "cell_type": "code",
   "execution_count": 33,
   "metadata": {},
   "outputs": [],
   "source": [
    "mode(y.se.jc.inc_as_counts$counts) <- \"integer\""
   ]
  },
  {
   "cell_type": "code",
   "execution_count": 34,
   "metadata": {},
   "outputs": [
    {
     "data": {
      "text/html": [
       "<style>\n",
       ".list-inline {list-style: none; margin:0; padding: 0}\n",
       ".list-inline>li {display: inline-block}\n",
       ".list-inline>li:not(:last-child)::after {content: \"\\00b7\"; padding: 0 .5ex}\n",
       "</style>\n",
       "<ol class=list-inline><li>42611</li><li>7872</li></ol>\n"
      ],
      "text/latex": [
       "\\begin{enumerate*}\n",
       "\\item 42611\n",
       "\\item 7872\n",
       "\\end{enumerate*}\n"
      ],
      "text/markdown": [
       "1. 42611\n",
       "2. 7872\n",
       "\n",
       "\n"
      ],
      "text/plain": [
       "[1] 42611  7872"
      ]
     },
     "metadata": {},
     "output_type": "display_data"
    }
   ],
   "source": [
    "dim(y.se.jc.inc_as_counts$counts)"
   ]
  },
  {
   "cell_type": "code",
   "execution_count": 35,
   "metadata": {},
   "outputs": [],
   "source": [
    "# For Guy -- does this do what you are expecting -- I am confused because what you get when you\n",
    "#        ask for the min (table(groups)) is the smaller sized group -- which in this case is \n",
    "#        female -- it will help the reader to know what you are doing here with the statement.\n",
    "#        one can read what it is doing but not understand your objective.groups <- pData(obj)$SEX\n",
    "# keep.events <- rep(TRUE, nrow(y))\n",
    "# for (group in c(1,2)) {\n",
    "#    keep.events <- keep.events & \n",
    "#                   rowSums(cpm(y[,groups %in% group]) > 1) >= 0.25*min(table(groups))\n",
    "# }\n",
    "\n",
    "#  From Anne - I believe the objective in this step is to keep only those genes that are in the\n",
    "#    that are above the threshold of expression for the lower quartile of all sex specific genes.\n",
    "#    groups = (1,2) -- lots of confusion in logic between groups and group and male and female\n",
    "#    I recommend we use male and female.\n",
    "#    two errors then in the above loop - \n",
    "#     1. min(table(groups)) will always return the\n",
    "#        length of the number of samples that are female \n",
    "#        (which is 5978 for this v8 GTEx)\n",
    "#     2. sum(table(group)) will return the number of samples that are either male or female\n",
    "#        depending upon whether you are in the loop for male or female consideration.\n",
    "\n",
    "#    If my assumption is true - I recommend replacing it with the following.\n",
    "\n",
    "#  this should be replaced \n"
   ]
  },
  {
   "cell_type": "code",
   "execution_count": 36,
   "metadata": {},
   "outputs": [
    {
     "data": {
      "text/html": [
       "42611"
      ],
      "text/latex": [
       "42611"
      ],
      "text/markdown": [
       "42611"
      ],
      "text/plain": [
       "[1] 42611"
      ]
     },
     "metadata": {},
     "output_type": "display_data"
    },
    {
     "data": {
      "text/plain": [
       "keep.events\n",
       "FALSE  TRUE \n",
       "16377 26234 "
      ]
     },
     "metadata": {},
     "output_type": "display_data"
    },
    {
     "data": {
      "text/plain": [
       "keep.events2\n",
       "FALSE  TRUE \n",
       "16377 26234 "
      ]
     },
     "metadata": {},
     "output_type": "display_data"
    }
   ],
   "source": [
    "keep.events <- rep(TRUE, nrow(y.se.jc.inc_as_counts))\n",
    "nrow(y.se.jc.inc_as_counts)\n",
    "\n",
    "#\n",
    "keep.events  <- keep.events & rowSums(edgeR::cpm(y.se.jc.inc_as_counts$counts[,groupiso == 1]) > 1) >= 0.25*length(groupiso==1)\n",
    "#\n",
    "# now keep all the male subsets or the female subsets meeting our criteria\n",
    "#\n",
    "keep.events2 <- keep.events | rowSums(edgeR::cpm(y.se.jc.inc_as_counts$counts[,groupiso == 2]) > 1) >= 0.25*length(groupiso==2)\n",
    "table(keep.events)\n",
    "table(keep.events2)"
   ]
  },
  {
   "cell_type": "code",
   "execution_count": 39,
   "metadata": {},
   "outputs": [
    {
     "name": "stderr",
     "output_type": "stream",
     "text": [
      "Creating `reduced_y.se.jc.inc_as_counts.rds` keeping only rows that match `keep.events2` list ..\n",
      "Done!\n",
      "\n",
      "Saving `reduced_y.rds` in ../data/\n",
      "Done!\n",
      "\n"
     ]
    },
    {
     "data": {
      "text/html": [
       "<style>\n",
       ".list-inline {list-style: none; margin:0; padding: 0}\n",
       ".list-inline>li {display: inline-block}\n",
       ".list-inline>li:not(:last-child)::after {content: \"\\00b7\"; padding: 0 .5ex}\n",
       "</style>\n",
       "<ol class=list-inline><li>26234</li><li>7872</li></ol>\n"
      ],
      "text/latex": [
       "\\begin{enumerate*}\n",
       "\\item 26234\n",
       "\\item 7872\n",
       "\\end{enumerate*}\n"
      ],
      "text/markdown": [
       "1. 26234\n",
       "2. 7872\n",
       "\n",
       "\n"
      ],
      "text/plain": [
       "[1] 26234  7872"
      ]
     },
     "metadata": {},
     "output_type": "display_data"
    }
   ],
   "source": [
    "# Load with readRDS() if `../data/reduced_y.se.jc.inc_as_counts.rds` available in data/\n",
    "#if  ('reduced_y.se.jc.inc_as_counts.rds' %in% list.files(\"../data/\")){\n",
    "#    message(\"Loading  `reduced_y.rds` and  `reduced_obj` objects with `readRDS()` from ../data/ \\n\")    \n",
    "#    reduced_reduced_y.se.jc.inc_as_counts   <- readRDS(file = \"../data/reduced_reduced_y.se.jc.inc_as_counts.rds\")\n",
    "#    message(\"Done!\")    \n",
    "#}\n",
    "\n",
    "\n",
    "# Create if not available in ../data\n",
    "#if  (!('reduced_y.se.jc.inc_as_counts.rds' %in% list.files(\"../data/\"))) {\n",
    "\n",
    "    message(\"Creating `reduced_y.se.jc.inc_as_counts.rds` keeping only rows that match `keep.events2` list ..\")\n",
    "    reduced_y.se.jc.inc_as_counts<- y.se.jc.inc_as_counts[keep.events2,]\n",
    "    message(\"Done!\\n\")    \n",
    "       \n",
    "    message(\"Saving `reduced_y.se.jc.inc_as_counts.rds` in ../data/\")        \n",
    "    saveRDS(reduced_y.se.jc.inc_as_counts, file = \"../data/reduced_y.se.jc.inc_as_counts.rds\")\n",
    "    message(\"Done!\\n\")     \n",
    "#}\n",
    "\n",
    "dim(reduced_y.se.jc.inc_as_counts)"
   ]
  },
  {
   "cell_type": "markdown",
   "metadata": {},
   "source": [
    "# Separate the analysis by male and by female"
   ]
  },
  {
   "cell_type": "code",
   "execution_count": 41,
   "metadata": {},
   "outputs": [
    {
     "data": {
      "text/html": [
       "<style>\n",
       ".list-inline {list-style: none; margin:0; padding: 0}\n",
       ".list-inline>li {display: inline-block}\n",
       ".list-inline>li:not(:last-child)::after {content: \"\\00b7\"; padding: 0 .5ex}\n",
       "</style>\n",
       "<ol class=list-inline><li>26234</li><li>7872</li></ol>\n"
      ],
      "text/latex": [
       "\\begin{enumerate*}\n",
       "\\item 26234\n",
       "\\item 7872\n",
       "\\end{enumerate*}\n"
      ],
      "text/markdown": [
       "1. 26234\n",
       "2. 7872\n",
       "\n",
       "\n"
      ],
      "text/plain": [
       "[1] 26234  7872"
      ]
     },
     "metadata": {},
     "output_type": "display_data"
    },
    {
     "data": {
      "text/html": [
       "<style>\n",
       ".list-inline {list-style: none; margin:0; padding: 0}\n",
       ".list-inline>li {display: inline-block}\n",
       ".list-inline>li:not(:last-child)::after {content: \"\\00b7\"; padding: 0 .5ex}\n",
       "</style>\n",
       "<ol class=list-inline><li>7872</li><li>147</li></ol>\n"
      ],
      "text/latex": [
       "\\begin{enumerate*}\n",
       "\\item 7872\n",
       "\\item 147\n",
       "\\end{enumerate*}\n"
      ],
      "text/markdown": [
       "1. 7872\n",
       "2. 147\n",
       "\n",
       "\n"
      ],
      "text/plain": [
       "[1] 7872  147"
      ]
     },
     "metadata": {},
     "output_type": "display_data"
    }
   ],
   "source": [
    "dim(reduced_y.se.jc.inc_as_counts)\n",
    "dim(merged_rmats)"
   ]
  },
  {
   "cell_type": "code",
   "execution_count": 42,
   "metadata": {},
   "outputs": [],
   "source": [
    "reorder_rmats_idx = match(colnames(reduced_y.se.jc.inc_as_counts), merged_rmats$Run)\n",
    "ordered_merged_rmats = merged_rmats[reorder_rmats_idx,]"
   ]
  },
  {
   "cell_type": "code",
   "execution_count": 43,
   "metadata": {},
   "outputs": [
    {
     "data": {
      "text/plain": [
       "\n",
       "   1    2 \n",
       "4998 2874 "
      ]
     },
     "metadata": {},
     "output_type": "display_data"
    },
    {
     "data": {
      "text/plain": [
       "male\n",
       "FALSE  TRUE \n",
       " 2874  4998 "
      ]
     },
     "metadata": {},
     "output_type": "display_data"
    },
    {
     "data": {
      "text/plain": [
       "female\n",
       "FALSE  TRUE \n",
       " 4998  2874 "
      ]
     },
     "metadata": {},
     "output_type": "display_data"
    },
    {
     "data": {
      "text/html": [
       "<style>\n",
       ".list-inline {list-style: none; margin:0; padding: 0}\n",
       ".list-inline>li {display: inline-block}\n",
       ".list-inline>li:not(:last-child)::after {content: \"\\00b7\"; padding: 0 .5ex}\n",
       "</style>\n",
       "<ol class=list-inline><li>4998</li><li>147</li></ol>\n"
      ],
      "text/latex": [
       "\\begin{enumerate*}\n",
       "\\item 4998\n",
       "\\item 147\n",
       "\\end{enumerate*}\n"
      ],
      "text/markdown": [
       "1. 4998\n",
       "2. 147\n",
       "\n",
       "\n"
      ],
      "text/plain": [
       "[1] 4998  147"
      ]
     },
     "metadata": {},
     "output_type": "display_data"
    }
   ],
   "source": [
    "male   <- ordered_merged_rmats$SEX==1\n",
    "female <- ordered_merged_rmats$SEX==2\n",
    "table(ordered_merged_rmats$SEX)\n",
    "table(male)\n",
    "table(female)\n",
    "ordered_merged_rmats_male   <- ordered_merged_rmats[male==TRUE,]\n",
    "ordered_merged_rmats_female <- ordered_merged_rmats[female==TRUE,]\n",
    "dim(ordered_merged_rmats_male)"
   ]
  },
  {
   "cell_type": "code",
   "execution_count": 44,
   "metadata": {},
   "outputs": [],
   "source": [
    "# changing from SMTS to SMTSD - more granularity -- but we could produce both figures\n",
    "tissue_groupiso        <- factor(ordered_merged_rmats$SMTSD)\n",
    "tissue_groupiso_male   <- factor(ordered_merged_rmats_male$SMTSD)\n",
    "tissue_groupiso_female <- factor(ordered_merged_rmats_female$SMTSD)"
   ]
  },
  {
   "cell_type": "code",
   "execution_count": 45,
   "metadata": {},
   "outputs": [
    {
     "data": {
      "text/plain": [
       "tissue_groupiso_male\n",
       "                   Adipose - Subcutaneous \n",
       "                                      190 \n",
       "             Adipose - Visceral (Omentum) \n",
       "                                      135 \n",
       "                            Adrenal Gland \n",
       "                                       81 \n",
       "                           Artery - Aorta \n",
       "                                      129 \n",
       "                        Artery - Coronary \n",
       "                                       72 \n",
       "                          Artery - Tibial \n",
       "                                      201 \n",
       "                                  Bladder \n",
       "                                        5 \n",
       "                         Brain - Amygdala \n",
       "                                       49 \n",
       " Brain - Anterior cingulate cortex (BA24) \n",
       "                                       57 \n",
       "          Brain - Caudate (basal ganglia) \n",
       "                                       75 \n",
       "            Brain - Cerebellar Hemisphere \n",
       "                                       70 \n",
       "                       Brain - Cerebellum \n",
       "                                       74 \n",
       "                           Brain - Cortex \n",
       "                                       70 \n",
       "             Brain - Frontal Cortex (BA9) \n",
       "                                       69 \n",
       "                      Brain - Hippocampus \n",
       "                                       65 \n",
       "                     Brain - Hypothalamus \n",
       "                                       65 \n",
       "Brain - Nucleus accumbens (basal ganglia) \n",
       "                                       72 \n",
       "          Brain - Putamen (basal ganglia) \n",
       "                                       66 \n",
       "       Brain - Spinal cord (cervical c-1) \n",
       "                                       38 \n",
       "                 Brain - Substantia nigra \n",
       "                                       37 \n",
       "                  Breast - Mammary Tissue \n",
       "                                      103 \n",
       "             Cells - Cultured fibroblasts \n",
       "                                      167 \n",
       "      Cells - EBV-transformed lymphocytes \n",
       "                                       76 \n",
       "                          Colon - Sigmoid \n",
       "                                       95 \n",
       "                       Colon - Transverse \n",
       "                                      110 \n",
       "    Esophagus - Gastroesophageal Junction \n",
       "                                       92 \n",
       "                       Esophagus - Mucosa \n",
       "                                      169 \n",
       "                   Esophagus - Muscularis \n",
       "                                      156 \n",
       "                 Heart - Atrial Appendage \n",
       "                                      120 \n",
       "                   Heart - Left Ventricle \n",
       "                                      127 \n",
       "                          Kidney - Cortex \n",
       "                                       22 \n",
       "                                    Liver \n",
       "                                       74 \n",
       "                                     Lung \n",
       "                                      189 \n",
       "                     Minor Salivary Gland \n",
       "                                       41 \n",
       "                        Muscle - Skeletal \n",
       "                                      241 \n",
       "                           Nerve - Tibial \n",
       "                                      189 \n",
       "                                 Pancreas \n",
       "                                       94 \n",
       "                                Pituitary \n",
       "                                       81 \n",
       "                                 Prostate \n",
       "                                      101 \n",
       "      Skin - Not Sun Exposed (Suprapubic) \n",
       "                                      151 \n",
       "           Skin - Sun Exposed (Lower leg) \n",
       "                                      196 \n",
       "         Small Intestine - Terminal Ileum \n",
       "                                       59 \n",
       "                                   Spleen \n",
       "                                       58 \n",
       "                                  Stomach \n",
       "                                      101 \n",
       "                                   Testis \n",
       "                                      167 \n",
       "                                  Thyroid \n",
       "                                      179 \n",
       "                              Whole Blood \n",
       "                                      220 "
      ]
     },
     "metadata": {},
     "output_type": "display_data"
    }
   ],
   "source": [
    "# good sanity check, the male set does not have any vaginas or uterus\n",
    "table (tissue_groupiso_male)"
   ]
  },
  {
   "cell_type": "code",
   "execution_count": 46,
   "metadata": {},
   "outputs": [
    {
     "data": {
      "text/plain": [
       "tissue_groupiso_female\n",
       "                   Adipose - Subcutaneous \n",
       "                                      104 \n",
       "             Adipose - Visceral (Omentum) \n",
       "                                       75 \n",
       "                            Adrenal Gland \n",
       "                                       61 \n",
       "                           Artery - Aorta \n",
       "                                       84 \n",
       "                        Artery - Coronary \n",
       "                                       48 \n",
       "                          Artery - Tibial \n",
       "                                      107 \n",
       "                                  Bladder \n",
       "                                        5 \n",
       "                         Brain - Amygdala \n",
       "                                       20 \n",
       " Brain - Anterior cingulate cortex (BA24) \n",
       "                                       23 \n",
       "          Brain - Caudate (basal ganglia) \n",
       "                                       29 \n",
       "            Brain - Cerebellar Hemisphere \n",
       "                                       24 \n",
       "                       Brain - Cerebellum \n",
       "                                       36 \n",
       "                           Brain - Cortex \n",
       "                                       32 \n",
       "             Brain - Frontal Cortex (BA9) \n",
       "                                       29 \n",
       "                      Brain - Hippocampus \n",
       "                                       29 \n",
       "                     Brain - Hypothalamus \n",
       "                                       24 \n",
       "Brain - Nucleus accumbens (basal ganglia) \n",
       "                                       31 \n",
       "          Brain - Putamen (basal ganglia) \n",
       "                                       22 \n",
       "       Brain - Spinal cord (cervical c-1) \n",
       "                                       25 \n",
       "                 Brain - Substantia nigra \n",
       "                                       20 \n",
       "                  Breast - Mammary Tissue \n",
       "                                       75 \n",
       "             Cells - Cultured fibroblasts \n",
       "                                       94 \n",
       "      Cells - EBV-transformed lymphocytes \n",
       "                                       44 \n",
       "                      Cervix - Ectocervix \n",
       "                                        6 \n",
       "                      Cervix - Endocervix \n",
       "                                        5 \n",
       "                          Colon - Sigmoid \n",
       "                                       59 \n",
       "                       Colon - Transverse \n",
       "                                       67 \n",
       "    Esophagus - Gastroesophageal Junction \n",
       "                                       52 \n",
       "                       Esophagus - Mucosa \n",
       "                                      109 \n",
       "                   Esophagus - Muscularis \n",
       "                                       82 \n",
       "                           Fallopian Tube \n",
       "                                        7 \n",
       "                 Heart - Atrial Appendage \n",
       "                                       68 \n",
       "                   Heart - Left Ventricle \n",
       "                                       67 \n",
       "                          Kidney - Cortex \n",
       "                                        5 \n",
       "                                    Liver \n",
       "                                       40 \n",
       "                                     Lung \n",
       "                                       92 \n",
       "                     Minor Salivary Gland \n",
       "                                       18 \n",
       "                        Muscle - Skeletal \n",
       "                                      134 \n",
       "                           Nerve - Tibial \n",
       "                                       99 \n",
       "                                    Ovary \n",
       "                                       97 \n",
       "                                 Pancreas \n",
       "                                       63 \n",
       "                                Pituitary \n",
       "                                       35 \n",
       "      Skin - Not Sun Exposed (Suprapubic) \n",
       "                                       76 \n",
       "           Skin - Sun Exposed (Lower leg) \n",
       "                                      107 \n",
       "         Small Intestine - Terminal Ileum \n",
       "                                       37 \n",
       "                                   Spleen \n",
       "                                       42 \n",
       "                                  Stomach \n",
       "                                       76 \n",
       "                                  Thyroid \n",
       "                                      100 \n",
       "                                   Uterus \n",
       "                                       83 \n",
       "                                   Vagina \n",
       "                                       84 \n",
       "                              Whole Blood \n",
       "                                      123 "
      ]
     },
     "metadata": {},
     "output_type": "display_data"
    }
   ],
   "source": [
    "# and the females have no prostate or testis\n",
    "table(tissue_groupiso_female)"
   ]
  },
  {
   "cell_type": "markdown",
   "metadata": {},
   "source": [
    "Reproducing previous results using the `yarn` expression object, loop through the tissues and for those tissues that are shared between the two sexes perform a differential gene analysis on a per tissue basis.\n"
   ]
  },
  {
   "cell_type": "code",
   "execution_count": 47,
   "metadata": {},
   "outputs": [
    {
     "data": {
      "text/plain": [
       "tissue_male_female\n",
       "FALSE  TRUE \n",
       "  268  4730 "
      ]
     },
     "metadata": {},
     "output_type": "display_data"
    }
   ],
   "source": [
    "tissue_male_female <- tissue_groupiso_male %in% tissue_groupiso_female\n",
    "table(tissue_male_female)"
   ]
  },
  {
   "cell_type": "code",
   "execution_count": 139,
   "metadata": {},
   "outputs": [
    {
     "data": {
      "text/plain": [
       "tissue_shared_male_female\n",
       "                   Adipose - Subcutaneous \n",
       "                                      190 \n",
       "             Adipose - Visceral (Omentum) \n",
       "                                      135 \n",
       "                            Adrenal Gland \n",
       "                                       81 \n",
       "                           Artery - Aorta \n",
       "                                      129 \n",
       "                        Artery - Coronary \n",
       "                                       72 \n",
       "                          Artery - Tibial \n",
       "                                      201 \n",
       "                                  Bladder \n",
       "                                        5 \n",
       "                         Brain - Amygdala \n",
       "                                       49 \n",
       " Brain - Anterior cingulate cortex (BA24) \n",
       "                                       57 \n",
       "          Brain - Caudate (basal ganglia) \n",
       "                                       75 \n",
       "            Brain - Cerebellar Hemisphere \n",
       "                                       70 \n",
       "                       Brain - Cerebellum \n",
       "                                       74 \n",
       "                           Brain - Cortex \n",
       "                                       70 \n",
       "             Brain - Frontal Cortex (BA9) \n",
       "                                       69 \n",
       "                      Brain - Hippocampus \n",
       "                                       65 \n",
       "                     Brain - Hypothalamus \n",
       "                                       65 \n",
       "Brain - Nucleus accumbens (basal ganglia) \n",
       "                                       72 \n",
       "          Brain - Putamen (basal ganglia) \n",
       "                                       66 \n",
       "       Brain - Spinal cord (cervical c-1) \n",
       "                                       38 \n",
       "                 Brain - Substantia nigra \n",
       "                                       37 \n",
       "                  Breast - Mammary Tissue \n",
       "                                      103 \n",
       "             Cells - Cultured fibroblasts \n",
       "                                      167 \n",
       "      Cells - EBV-transformed lymphocytes \n",
       "                                       76 \n",
       "                          Colon - Sigmoid \n",
       "                                       95 \n",
       "                       Colon - Transverse \n",
       "                                      110 \n",
       "    Esophagus - Gastroesophageal Junction \n",
       "                                       92 \n",
       "                       Esophagus - Mucosa \n",
       "                                      169 \n",
       "                   Esophagus - Muscularis \n",
       "                                      156 \n",
       "                 Heart - Atrial Appendage \n",
       "                                      120 \n",
       "                   Heart - Left Ventricle \n",
       "                                      127 \n",
       "                          Kidney - Cortex \n",
       "                                       22 \n",
       "                                    Liver \n",
       "                                       74 \n",
       "                                     Lung \n",
       "                                      189 \n",
       "                     Minor Salivary Gland \n",
       "                                       41 \n",
       "                        Muscle - Skeletal \n",
       "                                      241 \n",
       "                           Nerve - Tibial \n",
       "                                      189 \n",
       "                                 Pancreas \n",
       "                                       94 \n",
       "                                Pituitary \n",
       "                                       81 \n",
       "      Skin - Not Sun Exposed (Suprapubic) \n",
       "                                      151 \n",
       "           Skin - Sun Exposed (Lower leg) \n",
       "                                      196 \n",
       "         Small Intestine - Terminal Ileum \n",
       "                                       59 \n",
       "                                   Spleen \n",
       "                                       58 \n",
       "                                  Stomach \n",
       "                                      101 \n",
       "                                  Thyroid \n",
       "                                      179 \n",
       "                              Whole Blood \n",
       "                                      220 "
      ]
     },
     "metadata": {},
     "output_type": "display_data"
    }
   ],
   "source": [
    "tissue_shared_male_female <- factor(tissue_groupiso_male[tissue_male_female==TRUE])\n",
    "table(tissue_shared_male_female)"
   ]
  },
  {
   "cell_type": "code",
   "execution_count": 140,
   "metadata": {},
   "outputs": [],
   "source": [
    "# SEX is coded 1 == Male\n",
    "#              2 == Female\n",
    "sex = factor(ordered_merged_rmats$SEX)"
   ]
  },
  {
   "cell_type": "markdown",
   "metadata": {},
   "source": [
    "Let's now define a function named `fit_tissue()`that accepts two arguments, the `tissue` and an `object` and create the **model matrix** based  that tissue's sex. We will perform a linear fit after calculating normal factors (based on the library size) and calculate the dispersion using `{voom}` (mean variance model of dispersion). We are saving the resulting matrixes as files.\n"
   ]
  },
  {
   "cell_type": "markdown",
   "metadata": {},
   "source": [
    "## rMATS RNASeq-MATS.py produces 10 different output types which get assembled into as type junction ID by sample ID matrices\n",
    "\n",
    "### Alternative Splice Site Types are: (se, a3ss, a5ss, mxe, ri)\n",
    "\n",
    " This is input as ARGV1 into variable 'astype'\n",
    "\n",
    "  * Skipped Exon events (se),\n",
    "  * Alternative 3' splice site (a3ss),\n",
    "  * Alternative 5' splice site (a5ss),\n",
    "  * Mutually exclusive exon (mxe),\n",
    "  * and retention intron (ri)\n",
    "\n",
    "### There are two different kinds of junction counts\n",
    "\n",
    "  * jc = junction counts - reads that cross the junction\n",
    "  * jcec = junction counts plus reads on the target (such as included exon\n",
    "\n",
    "### And the count type -- there are 5 types\n",
    "\n",
    "  * inclusion levels (percent spliced in)\n",
    "  * included junction counts (ijc)\n",
    "  * skipped junction counts (sjc)\n",
    "  * inclusion length (inclen)\n",
    "  * skipped length (skiplen)\n",
    "\n",
    "### function: fit_iso_tissue \n",
    "\n",
    "fit_iso_tissue expects the following input:\n",
    "\n",
    "  * the tissue of interest (SMSTD) \n",
    "  * an ordered_merged_rmats -- which will be ordered to fit the count matrix\n",
    "  * count matrix (inc or ijc & sjc merged)\n",
    "  * splice type (a3ss, a5ss, mxe, ri or se)\n",
    "  * junction_count type (jc or jcec)\n",
    "  * count type (inc or the merged ijc,sjc)\n",
    "  \n",
    "### reordering to match annotations between count matrix and annotation matrix\n",
    "\n",
    "Common problem is to match specifically the rows of an annotation matrix with the columns of a count matrix\n",
    "`match` is the function that gives the re-ordering index required to accomplish this\n",
    "\n",
    "  "
   ]
  },
  {
   "cell_type": "code",
   "execution_count": 167,
   "metadata": {},
   "outputs": [],
   "source": [
    "fit_iso_tissue <- function (tissue, merged_rmats, counts, pVal, logFC, splice_type, junction_count, count_type) {\n",
    "    tissue_true    <- merged_rmats$SMTSD == tissue\n",
    "    tissue_obj     <- merged_rmats[tissue_true ==TRUE,]\n",
    "    tissue_counts  <- counts[, tissue_true == TRUE]\n",
    "    tissue_sex     <- factor(tissue_obj$SEX)\n",
    "    tissue_design  <- model.matrix(~tissue_sex)\n",
    "    y_tissue       <- DGEList(counts=tissue_counts, group=tissue_sex)\n",
    "    y_tissue       <- calcNormFactors(y_tissue)\n",
    "    y_tissue_voom  <- voom(y_tissue, tissue_design)\n",
    "    fit_tissue     <- lmFit(y_tissue_voom, tissue_design)\n",
    "    fit_tissue     <- eBayes(fit_tissue, robust=TRUE)\n",
    "    results_tissue <- topTable (fit_tissue, coef='tissue_sex2', number=nrow(y_tissue))\n",
    "\n",
    "    refined_filename = paste(paste(paste(paste(paste(paste(paste(\"../data\",gsub(\" \",\"\",tissue), sep=\"/\"),\n",
    "                                                                        splice_type,sep=\"_\"),\n",
    "                                                                     junction_count,sep=\"_\"),\n",
    "                                                                         count_type,sep=\"_\"),\n",
    "                                                                               pVal,sep=\"_\"),\n",
    "                                                                              logFC,sep=\"_\"),\n",
    "                                                                          \"DGE.csv\",sep=\"_\")\n",
    "\n",
    "    filename         = paste(paste(paste(paste(paste(\"../data\",gsub(\" \",\"\",tissue), sep=\"/\"),\n",
    "                                                                     splice_type   ,sep=\"_\"),\n",
    "                                                                     junction_count,sep=\"_\"),\n",
    "                                                                         count_type,sep=\"_\"),\n",
    "                                                                          \"DGE.csv\",sep=\"_\")\n",
    "    \n",
    "    refined_filenameGenes = paste(paste(paste(paste(paste(paste(paste(\"../data\",gsub(\" \",\"\",tissue), sep=\"/\"),\n",
    "                                                                        splice_type,sep=\"_\"),\n",
    "                                                                     junction_count,sep=\"_\"),\n",
    "                                                                         count_type,sep=\"_\"),\n",
    "                                                                               pVal,sep=\"_\"),\n",
    "                                                                              logFC,sep=\"_\"),\n",
    "                                                                    \"all_genes.csv\",sep=\"_\")\n",
    " \n",
    "    refined_results_tissue <- results_tissue[results_tissue$adj.P.Val<=pVal & abs(results_tissue$logFC)>=log2(logFC),]\n",
    "\n",
    "    write.table(results_tissue,                           filename,      sep=',', quote=FALSE)\n",
    "    write.table(refined_results_tissue,           refined_filename,      sep=',', quote=FALSE)\n",
    "    write.table(rownames(refined_results_tissue), refined_filenameGenes, sep=',', quote=FALSE)\n",
    "    \n",
    "    return (results_tissue)\n",
    "}"
   ]
  },
  {
   "cell_type": "code",
   "execution_count": null,
   "metadata": {},
   "outputs": [],
   "source": []
  },
  {
   "cell_type": "code",
   "execution_count": 168,
   "metadata": {},
   "outputs": [
    {
     "data": {
      "text/html": [
       "<style>\n",
       ".list-inline {list-style: none; margin:0; padding: 0}\n",
       ".list-inline>li {display: inline-block}\n",
       ".list-inline>li:not(:last-child)::after {content: \"\\00b7\"; padding: 0 .5ex}\n",
       "</style>\n",
       "<ol class=list-inline><li>'Adipose - Subcutaneous'</li><li>'Adipose - Visceral (Omentum)'</li><li>'Adrenal Gland'</li><li>'Artery - Aorta'</li><li>'Artery - Coronary'</li><li>'Artery - Tibial'</li><li>'Bladder'</li><li>'Brain - Amygdala'</li><li>'Brain - Anterior cingulate cortex (BA24)'</li><li>'Brain - Caudate (basal ganglia)'</li><li>'Brain - Cerebellar Hemisphere'</li><li>'Brain - Cerebellum'</li><li>'Brain - Cortex'</li><li>'Brain - Frontal Cortex (BA9)'</li><li>'Brain - Hippocampus'</li><li>'Brain - Hypothalamus'</li><li>'Brain - Nucleus accumbens (basal ganglia)'</li><li>'Brain - Putamen (basal ganglia)'</li><li>'Brain - Spinal cord (cervical c-1)'</li><li>'Brain - Substantia nigra'</li><li>'Breast - Mammary Tissue'</li><li>'Cells - Cultured fibroblasts'</li><li>'Cells - EBV-transformed lymphocytes'</li><li>'Colon - Sigmoid'</li><li>'Colon - Transverse'</li><li>'Esophagus - Gastroesophageal Junction'</li><li>'Esophagus - Mucosa'</li><li>'Esophagus - Muscularis'</li><li>'Heart - Atrial Appendage'</li><li>'Heart - Left Ventricle'</li><li>'Kidney - Cortex'</li><li>'Liver'</li><li>'Lung'</li><li>'Minor Salivary Gland'</li><li>'Muscle - Skeletal'</li><li>'Nerve - Tibial'</li><li>'Pancreas'</li><li>'Pituitary'</li><li>'Skin - Not Sun Exposed (Suprapubic)'</li><li>'Skin - Sun Exposed (Lower leg)'</li><li>'Small Intestine - Terminal Ileum'</li><li>'Spleen'</li><li>'Stomach'</li><li>'Thyroid'</li><li>'Whole Blood'</li></ol>\n"
      ],
      "text/latex": [
       "\\begin{enumerate*}\n",
       "\\item 'Adipose - Subcutaneous'\n",
       "\\item 'Adipose - Visceral (Omentum)'\n",
       "\\item 'Adrenal Gland'\n",
       "\\item 'Artery - Aorta'\n",
       "\\item 'Artery - Coronary'\n",
       "\\item 'Artery - Tibial'\n",
       "\\item 'Bladder'\n",
       "\\item 'Brain - Amygdala'\n",
       "\\item 'Brain - Anterior cingulate cortex (BA24)'\n",
       "\\item 'Brain - Caudate (basal ganglia)'\n",
       "\\item 'Brain - Cerebellar Hemisphere'\n",
       "\\item 'Brain - Cerebellum'\n",
       "\\item 'Brain - Cortex'\n",
       "\\item 'Brain - Frontal Cortex (BA9)'\n",
       "\\item 'Brain - Hippocampus'\n",
       "\\item 'Brain - Hypothalamus'\n",
       "\\item 'Brain - Nucleus accumbens (basal ganglia)'\n",
       "\\item 'Brain - Putamen (basal ganglia)'\n",
       "\\item 'Brain - Spinal cord (cervical c-1)'\n",
       "\\item 'Brain - Substantia nigra'\n",
       "\\item 'Breast - Mammary Tissue'\n",
       "\\item 'Cells - Cultured fibroblasts'\n",
       "\\item 'Cells - EBV-transformed lymphocytes'\n",
       "\\item 'Colon - Sigmoid'\n",
       "\\item 'Colon - Transverse'\n",
       "\\item 'Esophagus - Gastroesophageal Junction'\n",
       "\\item 'Esophagus - Mucosa'\n",
       "\\item 'Esophagus - Muscularis'\n",
       "\\item 'Heart - Atrial Appendage'\n",
       "\\item 'Heart - Left Ventricle'\n",
       "\\item 'Kidney - Cortex'\n",
       "\\item 'Liver'\n",
       "\\item 'Lung'\n",
       "\\item 'Minor Salivary Gland'\n",
       "\\item 'Muscle - Skeletal'\n",
       "\\item 'Nerve - Tibial'\n",
       "\\item 'Pancreas'\n",
       "\\item 'Pituitary'\n",
       "\\item 'Skin - Not Sun Exposed (Suprapubic)'\n",
       "\\item 'Skin - Sun Exposed (Lower leg)'\n",
       "\\item 'Small Intestine - Terminal Ileum'\n",
       "\\item 'Spleen'\n",
       "\\item 'Stomach'\n",
       "\\item 'Thyroid'\n",
       "\\item 'Whole Blood'\n",
       "\\end{enumerate*}\n"
      ],
      "text/markdown": [
       "1. 'Adipose - Subcutaneous'\n",
       "2. 'Adipose - Visceral (Omentum)'\n",
       "3. 'Adrenal Gland'\n",
       "4. 'Artery - Aorta'\n",
       "5. 'Artery - Coronary'\n",
       "6. 'Artery - Tibial'\n",
       "7. 'Bladder'\n",
       "8. 'Brain - Amygdala'\n",
       "9. 'Brain - Anterior cingulate cortex (BA24)'\n",
       "10. 'Brain - Caudate (basal ganglia)'\n",
       "11. 'Brain - Cerebellar Hemisphere'\n",
       "12. 'Brain - Cerebellum'\n",
       "13. 'Brain - Cortex'\n",
       "14. 'Brain - Frontal Cortex (BA9)'\n",
       "15. 'Brain - Hippocampus'\n",
       "16. 'Brain - Hypothalamus'\n",
       "17. 'Brain - Nucleus accumbens (basal ganglia)'\n",
       "18. 'Brain - Putamen (basal ganglia)'\n",
       "19. 'Brain - Spinal cord (cervical c-1)'\n",
       "20. 'Brain - Substantia nigra'\n",
       "21. 'Breast - Mammary Tissue'\n",
       "22. 'Cells - Cultured fibroblasts'\n",
       "23. 'Cells - EBV-transformed lymphocytes'\n",
       "24. 'Colon - Sigmoid'\n",
       "25. 'Colon - Transverse'\n",
       "26. 'Esophagus - Gastroesophageal Junction'\n",
       "27. 'Esophagus - Mucosa'\n",
       "28. 'Esophagus - Muscularis'\n",
       "29. 'Heart - Atrial Appendage'\n",
       "30. 'Heart - Left Ventricle'\n",
       "31. 'Kidney - Cortex'\n",
       "32. 'Liver'\n",
       "33. 'Lung'\n",
       "34. 'Minor Salivary Gland'\n",
       "35. 'Muscle - Skeletal'\n",
       "36. 'Nerve - Tibial'\n",
       "37. 'Pancreas'\n",
       "38. 'Pituitary'\n",
       "39. 'Skin - Not Sun Exposed (Suprapubic)'\n",
       "40. 'Skin - Sun Exposed (Lower leg)'\n",
       "41. 'Small Intestine - Terminal Ileum'\n",
       "42. 'Spleen'\n",
       "43. 'Stomach'\n",
       "44. 'Thyroid'\n",
       "45. 'Whole Blood'\n",
       "\n",
       "\n"
      ],
      "text/plain": [
       " [1] \"Adipose - Subcutaneous\"                   \n",
       " [2] \"Adipose - Visceral (Omentum)\"             \n",
       " [3] \"Adrenal Gland\"                            \n",
       " [4] \"Artery - Aorta\"                           \n",
       " [5] \"Artery - Coronary\"                        \n",
       " [6] \"Artery - Tibial\"                          \n",
       " [7] \"Bladder\"                                  \n",
       " [8] \"Brain - Amygdala\"                         \n",
       " [9] \"Brain - Anterior cingulate cortex (BA24)\" \n",
       "[10] \"Brain - Caudate (basal ganglia)\"          \n",
       "[11] \"Brain - Cerebellar Hemisphere\"            \n",
       "[12] \"Brain - Cerebellum\"                       \n",
       "[13] \"Brain - Cortex\"                           \n",
       "[14] \"Brain - Frontal Cortex (BA9)\"             \n",
       "[15] \"Brain - Hippocampus\"                      \n",
       "[16] \"Brain - Hypothalamus\"                     \n",
       "[17] \"Brain - Nucleus accumbens (basal ganglia)\"\n",
       "[18] \"Brain - Putamen (basal ganglia)\"          \n",
       "[19] \"Brain - Spinal cord (cervical c-1)\"       \n",
       "[20] \"Brain - Substantia nigra\"                 \n",
       "[21] \"Breast - Mammary Tissue\"                  \n",
       "[22] \"Cells - Cultured fibroblasts\"             \n",
       "[23] \"Cells - EBV-transformed lymphocytes\"      \n",
       "[24] \"Colon - Sigmoid\"                          \n",
       "[25] \"Colon - Transverse\"                       \n",
       "[26] \"Esophagus - Gastroesophageal Junction\"    \n",
       "[27] \"Esophagus - Mucosa\"                       \n",
       "[28] \"Esophagus - Muscularis\"                   \n",
       "[29] \"Heart - Atrial Appendage\"                 \n",
       "[30] \"Heart - Left Ventricle\"                   \n",
       "[31] \"Kidney - Cortex\"                          \n",
       "[32] \"Liver\"                                    \n",
       "[33] \"Lung\"                                     \n",
       "[34] \"Minor Salivary Gland\"                     \n",
       "[35] \"Muscle - Skeletal\"                        \n",
       "[36] \"Nerve - Tibial\"                           \n",
       "[37] \"Pancreas\"                                 \n",
       "[38] \"Pituitary\"                                \n",
       "[39] \"Skin - Not Sun Exposed (Suprapubic)\"      \n",
       "[40] \"Skin - Sun Exposed (Lower leg)\"           \n",
       "[41] \"Small Intestine - Terminal Ileum\"         \n",
       "[42] \"Spleen\"                                   \n",
       "[43] \"Stomach\"                                  \n",
       "[44] \"Thyroid\"                                  \n",
       "[45] \"Whole Blood\"                              "
      ]
     },
     "metadata": {},
     "output_type": "display_data"
    },
    {
     "data": {
      "text/html": [
       "45"
      ],
      "text/latex": [
       "45"
      ],
      "text/markdown": [
       "45"
      ],
      "text/plain": [
       "[1] 45"
      ]
     },
     "metadata": {},
     "output_type": "display_data"
    }
   ],
   "source": [
    "tissues <- levels(tissue_shared_male_female)\n",
    "tissues\n",
    "length(tissues)"
   ]
  },
  {
   "cell_type": "code",
   "execution_count": null,
   "metadata": {},
   "outputs": [],
   "source": [
    "# debugging the function with using the 'Thyroid' tissue\n",
    "#thyroid_logFC <- fit_iso_tissue('Thyroid', ordered_merged_rmats,reduced_y.se.jc.inc_as_counts, \"se\", \"jc\",\"inc_as_counts\")\n",
    "#thyroid_logFC\n",
    "# \n",
    "all_se_jc_inc_logFC <- lapply(X              = tissues, \n",
    "                              FUN            = fit_iso_tissue,\n",
    "                              merged_rmats   = ordered_merged_rmats,\n",
    "                              counts         = reduced_y.se.jc.inc_as_counts,\n",
    "                              pVal           = 0.05,\n",
    "                              logFC          = 1.5,\n",
    "                              splice_type    = \"se\",\n",
    "                              junction_count = \"jc\",\n",
    "                              count_type     = \"inc_as_counts\")"
   ]
  },
  {
   "cell_type": "code",
   "execution_count": 264,
   "metadata": {},
   "outputs": [
    {
     "data": {
      "text/html": [],
      "text/latex": [],
      "text/markdown": [],
      "text/plain": [
       "character(0)"
      ]
     },
     "metadata": {},
     "output_type": "display_data"
    }
   ],
   "source": []
  },
  {
   "cell_type": "code",
   "execution_count": null,
   "metadata": {},
   "outputs": [],
   "source": [
    "all_se_jcec_inc_logFC<- lapply(X             = tissues, \n",
    "                              FUN            = fit_iso_tissue,\n",
    "                              merged_rmats   = ordered_merged_rmats,\n",
    "                              counts         = reduced_y.se.jcec.inc_as_counts,\n",
    "                              pVal           = 0.05,\n",
    "                              logFC          = 1.5,\n",
    "                              splice_type    = \"se\",\n",
    "                              junction_count = \"jcec\",\n",
    "                              count_type     = \"inc_as_counts\")"
   ]
  },
  {
   "cell_type": "code",
   "execution_count": 258,
   "metadata": {},
   "outputs": [
    {
     "ename": "ERROR",
     "evalue": "Error in FUN(X[[i]], ...): object 'reduced_y.ri.jc.inc_as_counts' not found\n",
     "output_type": "error",
     "traceback": [
      "Error in FUN(X[[i]], ...): object 'reduced_y.ri.jc.inc_as_counts' not found\nTraceback:\n",
      "1. lapply(X = tissues, FUN = fit_iso_tissue, merged_rmats = ordered_merged_rmats, \n .     counts = reduced_y.ri.jc.inc_as_counts, pVal = 0.05, logFC = 1.5, \n .     splice_type = \"ri\", junction_count = \"jc\", count_type = \"inc_as_counts\")",
      "2. lapply(X = tissues, FUN = fit_iso_tissue, merged_rmats = ordered_merged_rmats, \n .     counts = reduced_y.ri.jc.inc_as_counts, pVal = 0.05, logFC = 1.5, \n .     splice_type = \"ri\", junction_count = \"jc\", count_type = \"inc_as_counts\")",
      "3. FUN(X[[i]], ...)"
     ]
    }
   ],
   "source": [
    "all_ri_jc_inc_logFC <- lapply(X              = tissues, \n",
    "                              FUN            = fit_iso_tissue,\n",
    "                              merged_rmats   = ordered_merged_rmats,\n",
    "                              counts         = reduced_y.ri.jc.inc_as_counts,\n",
    "                              pVal           = 0.05,\n",
    "                              logFC          = 1.5,\n",
    "                              splice_type    = \"ri\",\n",
    "                              junction_count = \"jc\",\n",
    "                              count_type     = \"inc_as_counts\")\n"
   ]
  },
  {
   "cell_type": "code",
   "execution_count": null,
   "metadata": {},
   "outputs": [],
   "source": [
    "all_ri_jcec_inc_logFC<- lapply(X             = tissues, \n",
    "                              FUN            = fit_iso_tissue,\n",
    "                              merged_rmats   = ordered_merged_rmats,\n",
    "                              counts         = reduced_y.ri.jcec.inc_as_counts,\n",
    "                              pVal           = 0.05,\n",
    "                              logFC          = 1.5,\n",
    "                              splice_type    = \"ri\",\n",
    "                              junction_count = \"jcec\",\n",
    "                              count_type     = \"inc_as_counts\")"
   ]
  },
  {
   "cell_type": "code",
   "execution_count": null,
   "metadata": {},
   "outputs": [],
   "source": [
    "all_mxe_jc_inc_logFC <- lapply(X             = tissues, \n",
    "                              FUN            = fit_iso_tissue,\n",
    "                              merged_rmats   = ordered_merged_rmats,\n",
    "                              counts         = reduced_y.mxe.jc.inc_as_counts,\n",
    "                              pVal           = 0.05,\n",
    "                              logFC          = 1.5,\n",
    "                              splice_type    = \"mxe\",\n",
    "                              junction_count = \"jc\",\n",
    "                              count_type     = \"inc_as_counts\")\n"
   ]
  },
  {
   "cell_type": "code",
   "execution_count": null,
   "metadata": {},
   "outputs": [],
   "source": [
    "all_mxe_jcec_inc_logFC<- lapply(X            = tissues, \n",
    "                              FUN            = fit_iso_tissue,\n",
    "                              merged_rmats   = ordered_merged_rmats,\n",
    "                              counts         = reduced_y.mxe.jcec.inc_as_counts,\n",
    "                              pVal           = 0.05,\n",
    "                              logFC          = 1.5,\n",
    "                              splice_type    = \"mxe\",\n",
    "                              junction_count = \"jcec\",\n",
    "                              count_type     = \"inc_as_counts\")"
   ]
  },
  {
   "cell_type": "code",
   "execution_count": null,
   "metadata": {},
   "outputs": [],
   "source": [
    "\n",
    "all_a3ss_jc_inc_logFC  <- lapply(X           = tissues, \n",
    "                              FUN            = fit_iso_tissue,\n",
    "                              merged_rmats   = ordered_merged_rmats,\n",
    "                              counts         = reduced_y.a3ss.jc.inc_as_counts,\n",
    "                              pVal           = 0.05,\n",
    "                              logFC          = 1.5,\n",
    "                              splice_type    = \"a3ss\",\n",
    "                              junction_count = \"jc\",\n",
    "                              count_type     = \"inc_as_counts\")"
   ]
  },
  {
   "cell_type": "code",
   "execution_count": null,
   "metadata": {},
   "outputs": [],
   "source": [
    "all_a3ss_jcec_inc_logFC<- lapply(X           = tissues, \n",
    "                              FUN            = fit_iso_tissue,\n",
    "                              merged_rmats   = ordered_merged_rmats,\n",
    "                              counts         = reduced_y.a3ss.jcec.inc_as_counts,\n",
    "                              pVal           = 0.05,\n",
    "                              logFC          = 1.5,\n",
    "                              splice_type    = \"a3ss\",\n",
    "                              junction_count = \"jcec\",\n",
    "                              count_type     = \"inc_as_counts\")"
   ]
  },
  {
   "cell_type": "code",
   "execution_count": null,
   "metadata": {},
   "outputs": [],
   "source": [
    "all_a5ss_jc_inc_logFC  <- lapply(X           = tissues, \n",
    "                              FUN            = fit_iso_tissue,\n",
    "                              merged_rmats   = ordered_merged_rmats,\n",
    "                              counts         = reduced_y.a5ss.jc.inc_as_counts,\n",
    "                              pVal           = 0.05,\n",
    "                              logFC          = 1.5,\n",
    "                              splice_type    = \"a5ss\",\n",
    "                              junction_count = \"jc\",\n",
    "                              count_type     = \"inc_as_counts\")"
   ]
  },
  {
   "cell_type": "code",
   "execution_count": null,
   "metadata": {},
   "outputs": [],
   "source": [
    "all_a5ss_jcec_inc_logFC<- lapply(X           = tissues, \n",
    "                              FUN            = fit_iso_tissue,\n",
    "                              merged_rmats   = ordered_merged_rmats,\n",
    "                              counts         = reduced_y.a5ss.jcec.inc_as_counts,\n",
    "                              pVal           = 0.05,\n",
    "                              logFC          = 1.5,\n",
    "                              splice_type    = \"a5ss\",\n",
    "                              junction_count = \"jcec\",\n",
    "                              count_type     = \"inc_as_counts\")"
   ]
  },
  {
   "cell_type": "code",
   "execution_count": 224,
   "metadata": {},
   "outputs": [
    {
     "data": {
      "text/html": [
       "45"
      ],
      "text/latex": [
       "45"
      ],
      "text/markdown": [
       "45"
      ],
      "text/plain": [
       "[1] 45"
      ]
     },
     "metadata": {},
     "output_type": "display_data"
    }
   ],
   "source": [
    "length(all_se_jc_inc_logFC)"
   ]
  },
  {
   "cell_type": "code",
   "execution_count": 226,
   "metadata": {},
   "outputs": [
    {
     "data": {
      "text/html": [
       "45"
      ],
      "text/latex": [
       "45"
      ],
      "text/markdown": [
       "45"
      ],
      "text/plain": [
       "[1] 45"
      ]
     },
     "metadata": {},
     "output_type": "display_data"
    },
    {
     "data": {
      "text/html": [
       "<style>\n",
       ".list-inline {list-style: none; margin:0; padding: 0}\n",
       ".list-inline>li {display: inline-block}\n",
       ".list-inline>li:not(:last-child)::after {content: \"\\00b7\"; padding: 0 .5ex}\n",
       "</style>\n",
       "<ol class=list-inline><li>'10'</li><li>'100'</li><li>'10000'</li><li>'10001'</li><li>'10002'</li><li>'10003'</li></ol>\n"
      ],
      "text/latex": [
       "\\begin{enumerate*}\n",
       "\\item '10'\n",
       "\\item '100'\n",
       "\\item '10000'\n",
       "\\item '10001'\n",
       "\\item '10002'\n",
       "\\item '10003'\n",
       "\\end{enumerate*}\n"
      ],
      "text/markdown": [
       "1. '10'\n",
       "2. '100'\n",
       "3. '10000'\n",
       "4. '10001'\n",
       "5. '10002'\n",
       "6. '10003'\n",
       "\n",
       "\n"
      ],
      "text/plain": [
       "[1] \"10\"    \"100\"   \"10000\" \"10001\" \"10002\" \"10003\""
      ]
     },
     "metadata": {},
     "output_type": "display_data"
    }
   ],
   "source": [
    "filenames <- list.files(\"../data\", pattern=\"*_as_counts_DGE.csv\", all.files=FALSE, full.names=TRUE)\n",
    "length(filenames)\n",
    "# preserve the ordered rownames for later assignment to matrix\n",
    "fullfilename <-filenames[1]\n",
    "all_se_jc_inc_logFC_mat    <- read.csv(fullfilename)\n",
    "all_se_jc_inc_logFC_mat    <- all_se_jc_inc_logFC_mat[order(rownames(all_se_jc_inc_logFC_mat)),]\n",
    "all_se_jc_inc_logFC_mat_rownames <- as.character(rownames(all_se_jc_inc_logFC_mat)) \n",
    "head(all_se_jc_inc_logFC_mat_rownames)"
   ]
  },
  {
   "cell_type": "markdown",
   "metadata": {},
   "source": [
    "## Make a matrix for a heat map of the more stringent cutoff values\n",
    "We have the set of files with more stringent cutoffs (pVal = 0.05 and absolute log Fold Change > 1.5).  However, the most significant expression values will be different depending upon the tissue, we need to build the matrix populating with values for genes already seen (as encoded by the first column) as well as for those not seen."
   ]
  },
  {
   "cell_type": "code",
   "execution_count": 287,
   "metadata": {},
   "outputs": [
    {
     "name": "stderr",
     "output_type": "stream",
     "text": [
      "Removing package from ‘/opt/conda/lib/R/library’\n",
      "(as ‘lib’ is unspecified)\n",
      "Updating HTML index of packages in '.Library'\n",
      "Making 'packages.html' ... done\n"
     ]
    }
   ],
   "source": [
    "# The easiest way to get dplyr is to install the whole tidyverse:\n",
    "require(dplyr)\n",
    "remove.packages(c(\"plyr\"))"
   ]
  },
  {
   "cell_type": "code",
   "execution_count": 301,
   "metadata": {},
   "outputs": [
    {
     "name": "stderr",
     "output_type": "stream",
     "text": [
      "Updating HTML index of packages in '.Library'\n",
      "Making 'packages.html' ... done\n"
     ]
    }
   ],
   "source": [
    "#remove.packages(\"dplyr\")\n",
    "#remove.packages(\"tidyverse\")\n",
    "install.packages(\"tidyverse\")\n",
    "library(tidyverse)\n",
    "require(tidyverse)\n"
   ]
  },
  {
   "cell_type": "code",
   "execution_count": 302,
   "metadata": {},
   "outputs": [
    {
     "data": {
      "text/html": [
       "45"
      ],
      "text/latex": [
       "45"
      ],
      "text/markdown": [
       "45"
      ],
      "text/plain": [
       "[1] 45"
      ]
     },
     "metadata": {},
     "output_type": "display_data"
    },
    {
     "data": {
      "text/html": [
       "<table>\n",
       "<caption>A data.frame: 6 × 7</caption>\n",
       "<thead>\n",
       "\t<tr><th></th><th scope=col>logFC</th><th scope=col>AveExpr</th><th scope=col>t</th><th scope=col>P.Value</th><th scope=col>adj.P.Val</th><th scope=col>B</th><th scope=col>ID</th></tr>\n",
       "\t<tr><th></th><th scope=col>&lt;dbl&gt;</th><th scope=col>&lt;dbl&gt;</th><th scope=col>&lt;dbl&gt;</th><th scope=col>&lt;dbl&gt;</th><th scope=col>&lt;dbl&gt;</th><th scope=col>&lt;dbl&gt;</th><th scope=col>&lt;chr&gt;</th></tr>\n",
       "</thead>\n",
       "<tbody>\n",
       "\t<tr><th scope=row>5963</th><td> -9.669589</td><td> 2.09438421</td><td>-43.10405</td><td>5.728875e-129</td><td>1.502913e-124</td><td>248.9293</td><td>5963 </td></tr>\n",
       "\t<tr><th scope=row>10153</th><td>  8.608385</td><td>-0.52572028</td><td> 34.94733</td><td>1.419662e-106</td><td>1.862171e-102</td><td>218.9283</td><td>10153</td></tr>\n",
       "\t<tr><th scope=row>10151</th><td>  8.254205</td><td>-0.06547241</td><td> 30.59920</td><td> 2.765884e-93</td><td> 2.418673e-89</td><td>192.9263</td><td>10151</td></tr>\n",
       "\t<tr><th scope=row>10155</th><td>  7.957042</td><td> 0.23479402</td><td> 28.08059</td><td> 4.046842e-85</td><td> 2.654121e-81</td><td>176.2549</td><td>10155</td></tr>\n",
       "\t<tr><th scope=row>19073</th><td>-10.427779</td><td> 1.95074715</td><td>-24.70016</td><td> 1.267569e-73</td><td> 6.650682e-70</td><td>145.3995</td><td>19073</td></tr>\n",
       "\t<tr><th scope=row>5962</th><td> -9.998613</td><td> 2.20125676</td><td>-23.59278</td><td> 9.911198e-70</td><td> 3.714434e-66</td><td>137.8810</td><td>5962 </td></tr>\n",
       "</tbody>\n",
       "</table>\n"
      ],
      "text/latex": [
       "A data.frame: 6 × 7\n",
       "\\begin{tabular}{r|lllllll}\n",
       "  & logFC & AveExpr & t & P.Value & adj.P.Val & B & ID\\\\\n",
       "  & <dbl> & <dbl> & <dbl> & <dbl> & <dbl> & <dbl> & <chr>\\\\\n",
       "\\hline\n",
       "\t5963 &  -9.669589 &  2.09438421 & -43.10405 & 5.728875e-129 & 1.502913e-124 & 248.9293 & 5963 \\\\\n",
       "\t10153 &   8.608385 & -0.52572028 &  34.94733 & 1.419662e-106 & 1.862171e-102 & 218.9283 & 10153\\\\\n",
       "\t10151 &   8.254205 & -0.06547241 &  30.59920 &  2.765884e-93 &  2.418673e-89 & 192.9263 & 10151\\\\\n",
       "\t10155 &   7.957042 &  0.23479402 &  28.08059 &  4.046842e-85 &  2.654121e-81 & 176.2549 & 10155\\\\\n",
       "\t19073 & -10.427779 &  1.95074715 & -24.70016 &  1.267569e-73 &  6.650682e-70 & 145.3995 & 19073\\\\\n",
       "\t5962 &  -9.998613 &  2.20125676 & -23.59278 &  9.911198e-70 &  3.714434e-66 & 137.8810 & 5962 \\\\\n",
       "\\end{tabular}\n"
      ],
      "text/markdown": [
       "\n",
       "A data.frame: 6 × 7\n",
       "\n",
       "| <!--/--> | logFC &lt;dbl&gt; | AveExpr &lt;dbl&gt; | t &lt;dbl&gt; | P.Value &lt;dbl&gt; | adj.P.Val &lt;dbl&gt; | B &lt;dbl&gt; | ID &lt;chr&gt; |\n",
       "|---|---|---|---|---|---|---|---|\n",
       "| 5963 |  -9.669589 |  2.09438421 | -43.10405 | 5.728875e-129 | 1.502913e-124 | 248.9293 | 5963  |\n",
       "| 10153 |   8.608385 | -0.52572028 |  34.94733 | 1.419662e-106 | 1.862171e-102 | 218.9283 | 10153 |\n",
       "| 10151 |   8.254205 | -0.06547241 |  30.59920 |  2.765884e-93 |  2.418673e-89 | 192.9263 | 10151 |\n",
       "| 10155 |   7.957042 |  0.23479402 |  28.08059 |  4.046842e-85 |  2.654121e-81 | 176.2549 | 10155 |\n",
       "| 19073 | -10.427779 |  1.95074715 | -24.70016 |  1.267569e-73 |  6.650682e-70 | 145.3995 | 19073 |\n",
       "| 5962 |  -9.998613 |  2.20125676 | -23.59278 |  9.911198e-70 |  3.714434e-66 | 137.8810 | 5962  |\n",
       "\n"
      ],
      "text/plain": [
       "      logFC      AveExpr     t         P.Value       adj.P.Val     B       \n",
       "5963   -9.669589  2.09438421 -43.10405 5.728875e-129 1.502913e-124 248.9293\n",
       "10153   8.608385 -0.52572028  34.94733 1.419662e-106 1.862171e-102 218.9283\n",
       "10151   8.254205 -0.06547241  30.59920  2.765884e-93  2.418673e-89 192.9263\n",
       "10155   7.957042  0.23479402  28.08059  4.046842e-85  2.654121e-81 176.2549\n",
       "19073 -10.427779  1.95074715 -24.70016  1.267569e-73  6.650682e-70 145.3995\n",
       "5962   -9.998613  2.20125676 -23.59278  9.911198e-70  3.714434e-66 137.8810\n",
       "      ID   \n",
       "5963  5963 \n",
       "10153 10153\n",
       "10151 10151\n",
       "10155 10155\n",
       "19073 19073\n",
       "5962  5962 "
      ]
     },
     "metadata": {},
     "output_type": "display_data"
    },
    {
     "data": {
      "text/html": [
       "<table>\n",
       "<caption>A data.frame: 6 × 7</caption>\n",
       "<thead>\n",
       "\t<tr><th></th><th scope=col>logFC</th><th scope=col>AveExpr</th><th scope=col>t</th><th scope=col>P.Value</th><th scope=col>adj.P.Val</th><th scope=col>B</th><th scope=col>ID</th></tr>\n",
       "\t<tr><th></th><th scope=col>&lt;dbl&gt;</th><th scope=col>&lt;dbl&gt;</th><th scope=col>&lt;dbl&gt;</th><th scope=col>&lt;dbl&gt;</th><th scope=col>&lt;dbl&gt;</th><th scope=col>&lt;dbl&gt;</th><th scope=col>&lt;chr&gt;</th></tr>\n",
       "</thead>\n",
       "<tbody>\n",
       "\t<tr><th scope=row>5963</th><td> -9.742201</td><td> 2.06913654</td><td>-35.03330</td><td>1.605144e-89</td><td>4.210934e-85</td><td>169.4656</td><td>5963 </td></tr>\n",
       "\t<tr><th scope=row>10151</th><td>  8.523954</td><td>-0.51013520</td><td> 29.13130</td><td>1.393380e-75</td><td>1.827696e-71</td><td>151.2912</td><td>10151</td></tr>\n",
       "\t<tr><th scope=row>10155</th><td>  7.952640</td><td> 0.02703173</td><td> 24.21340</td><td>1.305032e-62</td><td>1.141207e-58</td><td>125.8001</td><td>10155</td></tr>\n",
       "\t<tr><th scope=row>10153</th><td>  7.940307</td><td>-0.46313742</td><td> 23.91154</td><td>9.008142e-62</td><td>5.907990e-58</td><td>122.3635</td><td>10153</td></tr>\n",
       "\t<tr><th scope=row>21185</th><td> -9.211822</td><td> 0.70472531</td><td>-23.06524</td><td>2.154565e-59</td><td>1.130457e-55</td><td>112.0688</td><td>21185</td></tr>\n",
       "\t<tr><th scope=row>6300</th><td>-10.771993</td><td> 1.85317259</td><td>-20.89666</td><td>4.008788e-53</td><td>1.752776e-49</td><td>101.8118</td><td>6300 </td></tr>\n",
       "</tbody>\n",
       "</table>\n"
      ],
      "text/latex": [
       "A data.frame: 6 × 7\n",
       "\\begin{tabular}{r|lllllll}\n",
       "  & logFC & AveExpr & t & P.Value & adj.P.Val & B & ID\\\\\n",
       "  & <dbl> & <dbl> & <dbl> & <dbl> & <dbl> & <dbl> & <chr>\\\\\n",
       "\\hline\n",
       "\t5963 &  -9.742201 &  2.06913654 & -35.03330 & 1.605144e-89 & 4.210934e-85 & 169.4656 & 5963 \\\\\n",
       "\t10151 &   8.523954 & -0.51013520 &  29.13130 & 1.393380e-75 & 1.827696e-71 & 151.2912 & 10151\\\\\n",
       "\t10155 &   7.952640 &  0.02703173 &  24.21340 & 1.305032e-62 & 1.141207e-58 & 125.8001 & 10155\\\\\n",
       "\t10153 &   7.940307 & -0.46313742 &  23.91154 & 9.008142e-62 & 5.907990e-58 & 122.3635 & 10153\\\\\n",
       "\t21185 &  -9.211822 &  0.70472531 & -23.06524 & 2.154565e-59 & 1.130457e-55 & 112.0688 & 21185\\\\\n",
       "\t6300 & -10.771993 &  1.85317259 & -20.89666 & 4.008788e-53 & 1.752776e-49 & 101.8118 & 6300 \\\\\n",
       "\\end{tabular}\n"
      ],
      "text/markdown": [
       "\n",
       "A data.frame: 6 × 7\n",
       "\n",
       "| <!--/--> | logFC &lt;dbl&gt; | AveExpr &lt;dbl&gt; | t &lt;dbl&gt; | P.Value &lt;dbl&gt; | adj.P.Val &lt;dbl&gt; | B &lt;dbl&gt; | ID &lt;chr&gt; |\n",
       "|---|---|---|---|---|---|---|---|\n",
       "| 5963 |  -9.742201 |  2.06913654 | -35.03330 | 1.605144e-89 | 4.210934e-85 | 169.4656 | 5963  |\n",
       "| 10151 |   8.523954 | -0.51013520 |  29.13130 | 1.393380e-75 | 1.827696e-71 | 151.2912 | 10151 |\n",
       "| 10155 |   7.952640 |  0.02703173 |  24.21340 | 1.305032e-62 | 1.141207e-58 | 125.8001 | 10155 |\n",
       "| 10153 |   7.940307 | -0.46313742 |  23.91154 | 9.008142e-62 | 5.907990e-58 | 122.3635 | 10153 |\n",
       "| 21185 |  -9.211822 |  0.70472531 | -23.06524 | 2.154565e-59 | 1.130457e-55 | 112.0688 | 21185 |\n",
       "| 6300 | -10.771993 |  1.85317259 | -20.89666 | 4.008788e-53 | 1.752776e-49 | 101.8118 | 6300  |\n",
       "\n"
      ],
      "text/plain": [
       "      logFC      AveExpr     t         P.Value      adj.P.Val    B        ID   \n",
       "5963   -9.742201  2.06913654 -35.03330 1.605144e-89 4.210934e-85 169.4656 5963 \n",
       "10151   8.523954 -0.51013520  29.13130 1.393380e-75 1.827696e-71 151.2912 10151\n",
       "10155   7.952640  0.02703173  24.21340 1.305032e-62 1.141207e-58 125.8001 10155\n",
       "10153   7.940307 -0.46313742  23.91154 9.008142e-62 5.907990e-58 122.3635 10153\n",
       "21185  -9.211822  0.70472531 -23.06524 2.154565e-59 1.130457e-55 112.0688 21185\n",
       "6300  -10.771993  1.85317259 -20.89666 4.008788e-53 1.752776e-49 101.8118 6300 "
      ]
     },
     "metadata": {},
     "output_type": "display_data"
    }
   ],
   "source": [
    "# make a matrix of all the samples add a column to reflect tissue\n",
    "p0.05_1.5_DGE_filenames <- list.files(\"../data\", pattern=\"*0.05_1.5_DGE.csv\", all.files=FALSE, full.names=TRUE)\n",
    "length(p0.05_1.5_DGE_filenames)\n",
    "# preserve the ordered rownames for later assignment to matrix\n",
    "t1 <- read.csv(p0.05_1.5_DGE_filenames[1])\n",
    "t1rownames <- as.character(rownames(t1))\n",
    "t1$ID <- t1rownames\n",
    "t2 <- read.csv(p0.05_1.5_DGE_filenames[2])\n",
    "t2rownames <- as.character(rownames(t2))\n",
    "t2$ID <- t2rownames\n",
    "head(t1)\n",
    "head(t2)\n"
   ]
  },
  {
   "cell_type": "code",
   "execution_count": 304,
   "metadata": {},
   "outputs": [
    {
     "data": {
      "text/html": [
       "<table>\n",
       "<caption>A data.frame: 6 × 13</caption>\n",
       "<thead>\n",
       "\t<tr><th></th><th scope=col>logFC.x</th><th scope=col>AveExpr.x</th><th scope=col>t.x</th><th scope=col>P.Value.x</th><th scope=col>adj.P.Val.x</th><th scope=col>B.x</th><th scope=col>ID</th><th scope=col>logFC.y</th><th scope=col>AveExpr.y</th><th scope=col>t.y</th><th scope=col>P.Value.y</th><th scope=col>adj.P.Val.y</th><th scope=col>B.y</th></tr>\n",
       "\t<tr><th></th><th scope=col>&lt;dbl&gt;</th><th scope=col>&lt;dbl&gt;</th><th scope=col>&lt;dbl&gt;</th><th scope=col>&lt;dbl&gt;</th><th scope=col>&lt;dbl&gt;</th><th scope=col>&lt;dbl&gt;</th><th scope=col>&lt;chr&gt;</th><th scope=col>&lt;dbl&gt;</th><th scope=col>&lt;dbl&gt;</th><th scope=col>&lt;dbl&gt;</th><th scope=col>&lt;dbl&gt;</th><th scope=col>&lt;dbl&gt;</th><th scope=col>&lt;dbl&gt;</th></tr>\n",
       "</thead>\n",
       "<tbody>\n",
       "\t<tr><th scope=row>1</th><td> -9.669589</td><td> 2.09438421</td><td>-43.10405</td><td>5.728875e-129</td><td>1.502913e-124</td><td>248.9293</td><td>5963 </td><td> -9.742201</td><td> 2.06913654</td><td>-35.03330</td><td>1.605144e-89</td><td>4.210934e-85</td><td>169.46562</td></tr>\n",
       "\t<tr><th scope=row>2</th><td>  8.608385</td><td>-0.52572028</td><td> 34.94733</td><td>1.419662e-106</td><td>1.862171e-102</td><td>218.9283</td><td>10153</td><td>  7.940307</td><td>-0.46313742</td><td> 23.91154</td><td>9.008142e-62</td><td>5.907990e-58</td><td>122.36347</td></tr>\n",
       "\t<tr><th scope=row>3</th><td>  8.254205</td><td>-0.06547241</td><td> 30.59920</td><td> 2.765884e-93</td><td> 2.418673e-89</td><td>192.9263</td><td>10151</td><td>  8.523954</td><td>-0.51013520</td><td> 29.13130</td><td>1.393380e-75</td><td>1.827696e-71</td><td>151.29115</td></tr>\n",
       "\t<tr><th scope=row>4</th><td>  7.957042</td><td> 0.23479402</td><td> 28.08059</td><td> 4.046842e-85</td><td> 2.654121e-81</td><td>176.2549</td><td>10155</td><td>  7.952640</td><td> 0.02703173</td><td> 24.21340</td><td>1.305032e-62</td><td>1.141207e-58</td><td>125.80008</td></tr>\n",
       "\t<tr><th scope=row>5</th><td>-10.427779</td><td> 1.95074715</td><td>-24.70016</td><td> 1.267569e-73</td><td> 6.650682e-70</td><td>145.3995</td><td>19073</td><td>-10.588401</td><td> 1.88171505</td><td>-13.43377</td><td>4.426938e-30</td><td>5.049404e-27</td><td> 54.78081</td></tr>\n",
       "\t<tr><th scope=row>6</th><td> -9.998613</td><td> 2.20125676</td><td>-23.59278</td><td> 9.911198e-70</td><td> 3.714434e-66</td><td>137.8810</td><td>5962 </td><td> -9.929166</td><td> 2.18948646</td><td>-18.61880</td><td>2.758352e-46</td><td>7.236260e-43</td><td> 88.28075</td></tr>\n",
       "</tbody>\n",
       "</table>\n"
      ],
      "text/latex": [
       "A data.frame: 6 × 13\n",
       "\\begin{tabular}{r|lllllllllllll}\n",
       "  & logFC.x & AveExpr.x & t.x & P.Value.x & adj.P.Val.x & B.x & ID & logFC.y & AveExpr.y & t.y & P.Value.y & adj.P.Val.y & B.y\\\\\n",
       "  & <dbl> & <dbl> & <dbl> & <dbl> & <dbl> & <dbl> & <chr> & <dbl> & <dbl> & <dbl> & <dbl> & <dbl> & <dbl>\\\\\n",
       "\\hline\n",
       "\t1 &  -9.669589 &  2.09438421 & -43.10405 & 5.728875e-129 & 1.502913e-124 & 248.9293 & 5963  &  -9.742201 &  2.06913654 & -35.03330 & 1.605144e-89 & 4.210934e-85 & 169.46562\\\\\n",
       "\t2 &   8.608385 & -0.52572028 &  34.94733 & 1.419662e-106 & 1.862171e-102 & 218.9283 & 10153 &   7.940307 & -0.46313742 &  23.91154 & 9.008142e-62 & 5.907990e-58 & 122.36347\\\\\n",
       "\t3 &   8.254205 & -0.06547241 &  30.59920 &  2.765884e-93 &  2.418673e-89 & 192.9263 & 10151 &   8.523954 & -0.51013520 &  29.13130 & 1.393380e-75 & 1.827696e-71 & 151.29115\\\\\n",
       "\t4 &   7.957042 &  0.23479402 &  28.08059 &  4.046842e-85 &  2.654121e-81 & 176.2549 & 10155 &   7.952640 &  0.02703173 &  24.21340 & 1.305032e-62 & 1.141207e-58 & 125.80008\\\\\n",
       "\t5 & -10.427779 &  1.95074715 & -24.70016 &  1.267569e-73 &  6.650682e-70 & 145.3995 & 19073 & -10.588401 &  1.88171505 & -13.43377 & 4.426938e-30 & 5.049404e-27 &  54.78081\\\\\n",
       "\t6 &  -9.998613 &  2.20125676 & -23.59278 &  9.911198e-70 &  3.714434e-66 & 137.8810 & 5962  &  -9.929166 &  2.18948646 & -18.61880 & 2.758352e-46 & 7.236260e-43 &  88.28075\\\\\n",
       "\\end{tabular}\n"
      ],
      "text/markdown": [
       "\n",
       "A data.frame: 6 × 13\n",
       "\n",
       "| <!--/--> | logFC.x &lt;dbl&gt; | AveExpr.x &lt;dbl&gt; | t.x &lt;dbl&gt; | P.Value.x &lt;dbl&gt; | adj.P.Val.x &lt;dbl&gt; | B.x &lt;dbl&gt; | ID &lt;chr&gt; | logFC.y &lt;dbl&gt; | AveExpr.y &lt;dbl&gt; | t.y &lt;dbl&gt; | P.Value.y &lt;dbl&gt; | adj.P.Val.y &lt;dbl&gt; | B.y &lt;dbl&gt; |\n",
       "|---|---|---|---|---|---|---|---|---|---|---|---|---|---|\n",
       "| 1 |  -9.669589 |  2.09438421 | -43.10405 | 5.728875e-129 | 1.502913e-124 | 248.9293 | 5963  |  -9.742201 |  2.06913654 | -35.03330 | 1.605144e-89 | 4.210934e-85 | 169.46562 |\n",
       "| 2 |   8.608385 | -0.52572028 |  34.94733 | 1.419662e-106 | 1.862171e-102 | 218.9283 | 10153 |   7.940307 | -0.46313742 |  23.91154 | 9.008142e-62 | 5.907990e-58 | 122.36347 |\n",
       "| 3 |   8.254205 | -0.06547241 |  30.59920 |  2.765884e-93 |  2.418673e-89 | 192.9263 | 10151 |   8.523954 | -0.51013520 |  29.13130 | 1.393380e-75 | 1.827696e-71 | 151.29115 |\n",
       "| 4 |   7.957042 |  0.23479402 |  28.08059 |  4.046842e-85 |  2.654121e-81 | 176.2549 | 10155 |   7.952640 |  0.02703173 |  24.21340 | 1.305032e-62 | 1.141207e-58 | 125.80008 |\n",
       "| 5 | -10.427779 |  1.95074715 | -24.70016 |  1.267569e-73 |  6.650682e-70 | 145.3995 | 19073 | -10.588401 |  1.88171505 | -13.43377 | 4.426938e-30 | 5.049404e-27 |  54.78081 |\n",
       "| 6 |  -9.998613 |  2.20125676 | -23.59278 |  9.911198e-70 |  3.714434e-66 | 137.8810 | 5962  |  -9.929166 |  2.18948646 | -18.61880 | 2.758352e-46 | 7.236260e-43 |  88.28075 |\n",
       "\n"
      ],
      "text/plain": [
       "  logFC.x    AveExpr.x   t.x       P.Value.x     adj.P.Val.x   B.x      ID   \n",
       "1  -9.669589  2.09438421 -43.10405 5.728875e-129 1.502913e-124 248.9293 5963 \n",
       "2   8.608385 -0.52572028  34.94733 1.419662e-106 1.862171e-102 218.9283 10153\n",
       "3   8.254205 -0.06547241  30.59920  2.765884e-93  2.418673e-89 192.9263 10151\n",
       "4   7.957042  0.23479402  28.08059  4.046842e-85  2.654121e-81 176.2549 10155\n",
       "5 -10.427779  1.95074715 -24.70016  1.267569e-73  6.650682e-70 145.3995 19073\n",
       "6  -9.998613  2.20125676 -23.59278  9.911198e-70  3.714434e-66 137.8810 5962 \n",
       "  logFC.y    AveExpr.y   t.y       P.Value.y    adj.P.Val.y  B.y      \n",
       "1  -9.742201  2.06913654 -35.03330 1.605144e-89 4.210934e-85 169.46562\n",
       "2   7.940307 -0.46313742  23.91154 9.008142e-62 5.907990e-58 122.36347\n",
       "3   8.523954 -0.51013520  29.13130 1.393380e-75 1.827696e-71 151.29115\n",
       "4   7.952640  0.02703173  24.21340 1.305032e-62 1.141207e-58 125.80008\n",
       "5 -10.588401  1.88171505 -13.43377 4.426938e-30 5.049404e-27  54.78081\n",
       "6  -9.929166  2.18948646 -18.61880 2.758352e-46 7.236260e-43  88.28075"
      ]
     },
     "metadata": {},
     "output_type": "display_data"
    }
   ],
   "source": [
    "t1t2 <- dplyr::full_join(t1,t2, by = (\"ID\"))\n",
    "head (t1t2)"
   ]
  },
  {
   "cell_type": "code",
   "execution_count": 228,
   "metadata": {},
   "outputs": [],
   "source": [
    "# Make a matrix for each of the tissues\n",
    "# from what files are saved\n",
    "\n",
    "make_tissue_matrix_ready <- function (file, logFC_mat) {\n",
    "    filename        <- paste('../data',file,sep=\"/\")\n",
    "    logFC_mat       <- read.csv(filename)\n",
    "    logFC_mat       <- logFC_mat[order(rownames(logFC_mat)),]\n",
    "    logFC           <- as.matrix(as.numeric(logFC_mat$logFC),ncol=1)\n",
    "    rownames(logFC) <- rownames(logFC_mat)\n",
    "    return(logFC)\n",
    "}"
   ]
  },
  {
   "cell_type": "code",
   "execution_count": 229,
   "metadata": {},
   "outputs": [
    {
     "data": {
      "text/html": [
       "45"
      ],
      "text/latex": [
       "45"
      ],
      "text/markdown": [
       "45"
      ],
      "text/plain": [
       "[1] 45"
      ]
     },
     "metadata": {},
     "output_type": "display_data"
    }
   ],
   "source": [
    "\n",
    "matrix_list <- lapply(                     X  = filenames, \n",
    "                                          FUN = make_tissue_matrix_ready, \n",
    "                                    logFC_mat = all_se_jc_inc_logFC)\n",
    "length(matrix_list)\n"
   ]
  },
  {
   "cell_type": "code",
   "execution_count": 305,
   "metadata": {},
   "outputs": [
    {
     "data": {
      "text/html": [
       "45"
      ],
      "text/latex": [
       "45"
      ],
      "text/markdown": [
       "45"
      ],
      "text/plain": [
       "[1] 45"
      ]
     },
     "metadata": {},
     "output_type": "display_data"
    },
    {
     "data": {
      "text/html": [
       "45"
      ],
      "text/latex": [
       "45"
      ],
      "text/markdown": [
       "45"
      ],
      "text/plain": [
       "[1] 45"
      ]
     },
     "metadata": {},
     "output_type": "display_data"
    }
   ],
   "source": [
    "length(matrix_list)\n",
    "all_se_jc_inc_logFC_mat = as.matrix(lapply(X   = matrix_list, \n",
    "                                           FUN = cbind),\n",
    "                                          nrow = dim(ordered_merged_rmats)[2], \n",
    "                                          ncol = length(matrix_list))\n",
    "length(all_se_jc_inc_logFC_mat)"
   ]
  },
  {
   "cell_type": "code",
   "execution_count": null,
   "metadata": {},
   "outputs": [],
   "source": [
    "head(all_se_jc_inc_logFC)\n"
   ]
  },
  {
   "cell_type": "code",
   "execution_count": 233,
   "metadata": {},
   "outputs": [
    {
     "data": {
      "text/html": [
       "<style>\n",
       ".list-inline {list-style: none; margin:0; padding: 0}\n",
       ".list-inline>li {display: inline-block}\n",
       ".list-inline>li:not(:last-child)::after {content: \"\\00b7\"; padding: 0 .5ex}\n",
       "</style>\n",
       "<ol class=list-inline><li>Cells - Cultured fibroblasts</li><li>Artery - Coronary</li><li>Cells - Cultured fibroblasts</li><li>Breast - Mammary Tissue</li><li>Breast - Mammary Tissue</li><li>Whole Blood</li></ol>\n",
       "\n",
       "<details>\n",
       "\t<summary style=display:list-item;cursor:pointer>\n",
       "\t\t<strong>Levels</strong>:\n",
       "\t</summary>\n",
       "\t<style>\n",
       "\t.list-inline {list-style: none; margin:0; padding: 0}\n",
       "\t.list-inline>li {display: inline-block}\n",
       "\t.list-inline>li:not(:last-child)::after {content: \"\\00b7\"; padding: 0 .5ex}\n",
       "\t</style>\n",
       "\t<ol class=list-inline><li>'Adipose - Subcutaneous'</li><li>'Adipose - Visceral (Omentum)'</li><li>'Adrenal Gland'</li><li>'Artery - Aorta'</li><li>'Artery - Coronary'</li><li>'Artery - Tibial'</li><li>'Bladder'</li><li>'Brain - Amygdala'</li><li>'Brain - Anterior cingulate cortex (BA24)'</li><li>'Brain - Caudate (basal ganglia)'</li><li>'Brain - Cerebellar Hemisphere'</li><li>'Brain - Cerebellum'</li><li>'Brain - Cortex'</li><li>'Brain - Frontal Cortex (BA9)'</li><li>'Brain - Hippocampus'</li><li>'Brain - Hypothalamus'</li><li>'Brain - Nucleus accumbens (basal ganglia)'</li><li>'Brain - Putamen (basal ganglia)'</li><li>'Brain - Spinal cord (cervical c-1)'</li><li>'Brain - Substantia nigra'</li><li>'Breast - Mammary Tissue'</li><li>'Cells - Cultured fibroblasts'</li><li>'Cells - EBV-transformed lymphocytes'</li><li>'Colon - Sigmoid'</li><li>'Colon - Transverse'</li><li>'Esophagus - Gastroesophageal Junction'</li><li>'Esophagus - Mucosa'</li><li>'Esophagus - Muscularis'</li><li>'Heart - Atrial Appendage'</li><li>'Heart - Left Ventricle'</li><li>'Kidney - Cortex'</li><li>'Liver'</li><li>'Lung'</li><li>'Minor Salivary Gland'</li><li>'Muscle - Skeletal'</li><li>'Nerve - Tibial'</li><li>'Pancreas'</li><li>'Pituitary'</li><li>'Skin - Not Sun Exposed (Suprapubic)'</li><li>'Skin - Sun Exposed (Lower leg)'</li><li>'Small Intestine - Terminal Ileum'</li><li>'Spleen'</li><li>'Stomach'</li><li>'Thyroid'</li><li>'Whole Blood'</li></ol>\n",
       "</details>"
      ],
      "text/latex": [
       "\\begin{enumerate*}\n",
       "\\item Cells - Cultured fibroblasts\n",
       "\\item Artery - Coronary\n",
       "\\item Cells - Cultured fibroblasts\n",
       "\\item Breast - Mammary Tissue\n",
       "\\item Breast - Mammary Tissue\n",
       "\\item Whole Blood\n",
       "\\end{enumerate*}\n",
       "\n",
       "\\emph{Levels}: \\begin{enumerate*}\n",
       "\\item 'Adipose - Subcutaneous'\n",
       "\\item 'Adipose - Visceral (Omentum)'\n",
       "\\item 'Adrenal Gland'\n",
       "\\item 'Artery - Aorta'\n",
       "\\item 'Artery - Coronary'\n",
       "\\item 'Artery - Tibial'\n",
       "\\item 'Bladder'\n",
       "\\item 'Brain - Amygdala'\n",
       "\\item 'Brain - Anterior cingulate cortex (BA24)'\n",
       "\\item 'Brain - Caudate (basal ganglia)'\n",
       "\\item 'Brain - Cerebellar Hemisphere'\n",
       "\\item 'Brain - Cerebellum'\n",
       "\\item 'Brain - Cortex'\n",
       "\\item 'Brain - Frontal Cortex (BA9)'\n",
       "\\item 'Brain - Hippocampus'\n",
       "\\item 'Brain - Hypothalamus'\n",
       "\\item 'Brain - Nucleus accumbens (basal ganglia)'\n",
       "\\item 'Brain - Putamen (basal ganglia)'\n",
       "\\item 'Brain - Spinal cord (cervical c-1)'\n",
       "\\item 'Brain - Substantia nigra'\n",
       "\\item 'Breast - Mammary Tissue'\n",
       "\\item 'Cells - Cultured fibroblasts'\n",
       "\\item 'Cells - EBV-transformed lymphocytes'\n",
       "\\item 'Colon - Sigmoid'\n",
       "\\item 'Colon - Transverse'\n",
       "\\item 'Esophagus - Gastroesophageal Junction'\n",
       "\\item 'Esophagus - Mucosa'\n",
       "\\item 'Esophagus - Muscularis'\n",
       "\\item 'Heart - Atrial Appendage'\n",
       "\\item 'Heart - Left Ventricle'\n",
       "\\item 'Kidney - Cortex'\n",
       "\\item 'Liver'\n",
       "\\item 'Lung'\n",
       "\\item 'Minor Salivary Gland'\n",
       "\\item 'Muscle - Skeletal'\n",
       "\\item 'Nerve - Tibial'\n",
       "\\item 'Pancreas'\n",
       "\\item 'Pituitary'\n",
       "\\item 'Skin - Not Sun Exposed (Suprapubic)'\n",
       "\\item 'Skin - Sun Exposed (Lower leg)'\n",
       "\\item 'Small Intestine - Terminal Ileum'\n",
       "\\item 'Spleen'\n",
       "\\item 'Stomach'\n",
       "\\item 'Thyroid'\n",
       "\\item 'Whole Blood'\n",
       "\\end{enumerate*}\n"
      ],
      "text/markdown": [
       "1. Cells - Cultured fibroblasts\n",
       "2. Artery - Coronary\n",
       "3. Cells - Cultured fibroblasts\n",
       "4. Breast - Mammary Tissue\n",
       "5. Breast - Mammary Tissue\n",
       "6. Whole Blood\n",
       "\n",
       "\n",
       "\n",
       "**Levels**: 1. 'Adipose - Subcutaneous'\n",
       "2. 'Adipose - Visceral (Omentum)'\n",
       "3. 'Adrenal Gland'\n",
       "4. 'Artery - Aorta'\n",
       "5. 'Artery - Coronary'\n",
       "6. 'Artery - Tibial'\n",
       "7. 'Bladder'\n",
       "8. 'Brain - Amygdala'\n",
       "9. 'Brain - Anterior cingulate cortex (BA24)'\n",
       "10. 'Brain - Caudate (basal ganglia)'\n",
       "11. 'Brain - Cerebellar Hemisphere'\n",
       "12. 'Brain - Cerebellum'\n",
       "13. 'Brain - Cortex'\n",
       "14. 'Brain - Frontal Cortex (BA9)'\n",
       "15. 'Brain - Hippocampus'\n",
       "16. 'Brain - Hypothalamus'\n",
       "17. 'Brain - Nucleus accumbens (basal ganglia)'\n",
       "18. 'Brain - Putamen (basal ganglia)'\n",
       "19. 'Brain - Spinal cord (cervical c-1)'\n",
       "20. 'Brain - Substantia nigra'\n",
       "21. 'Breast - Mammary Tissue'\n",
       "22. 'Cells - Cultured fibroblasts'\n",
       "23. 'Cells - EBV-transformed lymphocytes'\n",
       "24. 'Colon - Sigmoid'\n",
       "25. 'Colon - Transverse'\n",
       "26. 'Esophagus - Gastroesophageal Junction'\n",
       "27. 'Esophagus - Mucosa'\n",
       "28. 'Esophagus - Muscularis'\n",
       "29. 'Heart - Atrial Appendage'\n",
       "30. 'Heart - Left Ventricle'\n",
       "31. 'Kidney - Cortex'\n",
       "32. 'Liver'\n",
       "33. 'Lung'\n",
       "34. 'Minor Salivary Gland'\n",
       "35. 'Muscle - Skeletal'\n",
       "36. 'Nerve - Tibial'\n",
       "37. 'Pancreas'\n",
       "38. 'Pituitary'\n",
       "39. 'Skin - Not Sun Exposed (Suprapubic)'\n",
       "40. 'Skin - Sun Exposed (Lower leg)'\n",
       "41. 'Small Intestine - Terminal Ileum'\n",
       "42. 'Spleen'\n",
       "43. 'Stomach'\n",
       "44. 'Thyroid'\n",
       "45. 'Whole Blood'\n",
       "\n",
       "\n"
      ],
      "text/plain": [
       "[1] Cells - Cultured fibroblasts Artery - Coronary           \n",
       "[3] Cells - Cultured fibroblasts Breast - Mammary Tissue     \n",
       "[5] Breast - Mammary Tissue      Whole Blood                 \n",
       "45 Levels: Adipose - Subcutaneous ... Whole Blood"
      ]
     },
     "metadata": {},
     "output_type": "display_data"
    },
    {
     "data": {
      "text/html": [
       "<style>\n",
       ".list-inline {list-style: none; margin:0; padding: 0}\n",
       ".list-inline>li {display: inline-block}\n",
       ".list-inline>li:not(:last-child)::after {content: \"\\00b7\"; padding: 0 .5ex}\n",
       "</style>\n",
       "<ol class=list-inline><li>'Cells - Cultured fibroblasts'</li><li>'Artery - Coronary'</li><li>'Cells - Cultured fibroblasts'</li><li>'Breast - Mammary Tissue'</li><li>'Breast - Mammary Tissue'</li><li>'Whole Blood'</li></ol>\n"
      ],
      "text/latex": [
       "\\begin{enumerate*}\n",
       "\\item 'Cells - Cultured fibroblasts'\n",
       "\\item 'Artery - Coronary'\n",
       "\\item 'Cells - Cultured fibroblasts'\n",
       "\\item 'Breast - Mammary Tissue'\n",
       "\\item 'Breast - Mammary Tissue'\n",
       "\\item 'Whole Blood'\n",
       "\\end{enumerate*}\n"
      ],
      "text/markdown": [
       "1. 'Cells - Cultured fibroblasts'\n",
       "2. 'Artery - Coronary'\n",
       "3. 'Cells - Cultured fibroblasts'\n",
       "4. 'Breast - Mammary Tissue'\n",
       "5. 'Breast - Mammary Tissue'\n",
       "6. 'Whole Blood'\n",
       "\n",
       "\n"
      ],
      "text/plain": [
       "[1] \"Cells - Cultured fibroblasts\" \"Artery - Coronary\"           \n",
       "[3] \"Cells - Cultured fibroblasts\" \"Breast - Mammary Tissue\"     \n",
       "[5] \"Breast - Mammary Tissue\"      \"Whole Blood\"                 "
      ]
     },
     "metadata": {},
     "output_type": "display_data"
    }
   ],
   "source": [
    "head(tissue_shared_male_female)\n",
    "tissue <- str_replace(tissue_shared_male_female,'_DGE.txt','')\n",
    "head(tissue)"
   ]
  },
  {
   "cell_type": "code",
   "execution_count": 234,
   "metadata": {},
   "outputs": [],
   "source": [
    "get_tissue_name <- function (tissue_name) {\n",
    "            tissue <- str_replace(tissue_name,'_DGE.csv','')\n",
    "            return(tissue)\n",
    "}"
   ]
  },
  {
   "cell_type": "code",
   "execution_count": 235,
   "metadata": {},
   "outputs": [
    {
     "data": {
      "text/html": [
       "45"
      ],
      "text/latex": [
       "45"
      ],
      "text/markdown": [
       "45"
      ],
      "text/plain": [
       "[1] 45"
      ]
     },
     "metadata": {},
     "output_type": "display_data"
    },
    {
     "data": {
      "text/html": [
       "<ol>\n",
       "\t<li>'Adipose - Subcutaneous'</li>\n",
       "\t<li>'Adipose - Visceral (Omentum)'</li>\n",
       "\t<li>'Adrenal Gland'</li>\n",
       "\t<li>'Artery - Aorta'</li>\n",
       "\t<li>'Artery - Coronary'</li>\n",
       "\t<li>'Artery - Tibial'</li>\n",
       "</ol>\n"
      ],
      "text/latex": [
       "\\begin{enumerate}\n",
       "\\item 'Adipose - Subcutaneous'\n",
       "\\item 'Adipose - Visceral (Omentum)'\n",
       "\\item 'Adrenal Gland'\n",
       "\\item 'Artery - Aorta'\n",
       "\\item 'Artery - Coronary'\n",
       "\\item 'Artery - Tibial'\n",
       "\\end{enumerate}\n"
      ],
      "text/markdown": [
       "1. 'Adipose - Subcutaneous'\n",
       "2. 'Adipose - Visceral (Omentum)'\n",
       "3. 'Adrenal Gland'\n",
       "4. 'Artery - Aorta'\n",
       "5. 'Artery - Coronary'\n",
       "6. 'Artery - Tibial'\n",
       "\n",
       "\n"
      ],
      "text/plain": [
       "[[1]]\n",
       "[1] \"Adipose - Subcutaneous\"\n",
       "\n",
       "[[2]]\n",
       "[1] \"Adipose - Visceral (Omentum)\"\n",
       "\n",
       "[[3]]\n",
       "[1] \"Adrenal Gland\"\n",
       "\n",
       "[[4]]\n",
       "[1] \"Artery - Aorta\"\n",
       "\n",
       "[[5]]\n",
       "[1] \"Artery - Coronary\"\n",
       "\n",
       "[[6]]\n",
       "[1] \"Artery - Tibial\"\n"
      ]
     },
     "metadata": {},
     "output_type": "display_data"
    }
   ],
   "source": [
    "tissue_list <- lapply(X=levels(tissue_shared_male_female), FUN=get_tissue_name)\n",
    "length(tissue_list)\n",
    "head(tissue_list)"
   ]
  },
  {
   "cell_type": "markdown",
   "metadata": {},
   "source": [
    "Using the matrix_list - create a matrix for calculation of tissue comparisons"
   ]
  },
  {
   "cell_type": "code",
   "execution_count": 236,
   "metadata": {},
   "outputs": [
    {
     "data": {
      "text/html": [
       "26234"
      ],
      "text/latex": [
       "26234"
      ],
      "text/markdown": [
       "26234"
      ],
      "text/plain": [
       "[1] 26234"
      ]
     },
     "metadata": {},
     "output_type": "display_data"
    },
    {
     "data": {
      "text/html": [
       "26234"
      ],
      "text/latex": [
       "26234"
      ],
      "text/markdown": [
       "26234"
      ],
      "text/plain": [
       "[1] 26234"
      ]
     },
     "metadata": {},
     "output_type": "display_data"
    }
   ],
   "source": [
    "length(unlist(matrix_list[1]))\n",
    "length(unlist(matrix_list[2]))"
   ]
  },
  {
   "cell_type": "code",
   "execution_count": 238,
   "metadata": {},
   "outputs": [
    {
     "data": {
      "text/html": [
       "<style>\n",
       ".list-inline {list-style: none; margin:0; padding: 0}\n",
       ".list-inline>li {display: inline-block}\n",
       ".list-inline>li:not(:last-child)::after {content: \"\\00b7\"; padding: 0 .5ex}\n",
       "</style>\n",
       "<ol class=list-inline><li>26234</li><li>45</li></ol>\n"
      ],
      "text/latex": [
       "\\begin{enumerate*}\n",
       "\\item 26234\n",
       "\\item 45\n",
       "\\end{enumerate*}\n"
      ],
      "text/markdown": [
       "1. 26234\n",
       "2. 45\n",
       "\n",
       "\n"
      ],
      "text/plain": [
       "[1] 26234    45"
      ]
     },
     "metadata": {},
     "output_type": "display_data"
    },
    {
     "data": {
      "text/html": [
       "<table>\n",
       "<caption>A matrix: 6 × 45 of type dbl</caption>\n",
       "<thead>\n",
       "\t<tr><th></th><th scope=col>Adipose - Subcutaneous</th><th scope=col>Adipose - Visceral (Omentum)</th><th scope=col>Adrenal Gland</th><th scope=col>Artery - Aorta</th><th scope=col>Artery - Coronary</th><th scope=col>Artery - Tibial</th><th scope=col>Bladder</th><th scope=col>Brain - Amygdala</th><th scope=col>Brain - Anterior cingulate cortex (BA24)</th><th scope=col>Brain - Caudate (basal ganglia)</th><th scope=col>⋯</th><th scope=col>Nerve - Tibial</th><th scope=col>Pancreas</th><th scope=col>Pituitary</th><th scope=col>Skin - Not Sun Exposed (Suprapubic)</th><th scope=col>Skin - Sun Exposed (Lower leg)</th><th scope=col>Small Intestine - Terminal Ileum</th><th scope=col>Spleen</th><th scope=col>Stomach</th><th scope=col>Thyroid</th><th scope=col>Whole Blood</th></tr>\n",
       "</thead>\n",
       "<tbody>\n",
       "\t<tr><th scope=row>10</th><td> 0.5449970032</td><td> 0.7290307900</td><td> 0.157688465</td><td>-0.681257011</td><td> 0.696640213</td><td>-0.4220966891</td><td> 0.001224291</td><td>-1.105006446</td><td>-1.472028023</td><td>-1.114147686</td><td>⋯</td><td> 0.657740409</td><td> 0.67967103</td><td>-2.061986520</td><td>0.167202495</td><td> 0.856345745</td><td> 1.004428930</td><td> 0.693403071</td><td> 0.845766331</td><td> 0.157145732</td><td>0.27807653</td></tr>\n",
       "\t<tr><th scope=row>100</th><td>-0.0022491133</td><td>-0.1299756645</td><td>-0.005963905</td><td> 0.009293013</td><td> 0.165751222</td><td> 0.0503973381</td><td> 0.123256704</td><td>-0.004501706</td><td>-0.002413452</td><td>-0.028746194</td><td>⋯</td><td> 0.014805204</td><td> 0.01353249</td><td> 0.002140713</td><td>0.002473817</td><td>-0.002995103</td><td>-0.008681202</td><td>-0.002329564</td><td> 0.101898597</td><td> 0.001281643</td><td>0.07720383</td></tr>\n",
       "\t<tr><th scope=row>10000</th><td>-0.0009602978</td><td>-0.0024712209</td><td> 0.003044611</td><td> 0.009081834</td><td> 0.003772965</td><td>-0.0005629212</td><td>-0.002238183</td><td> 0.006620564</td><td>-0.007752461</td><td>-0.016056033</td><td>⋯</td><td> 0.001147921</td><td> 0.01274941</td><td>-0.002486328</td><td>0.003871101</td><td>-0.003171909</td><td>-0.003949746</td><td> 0.002861292</td><td>-0.007564969</td><td>-0.002077912</td><td>0.10118047</td></tr>\n",
       "\t<tr><th scope=row>10001</th><td>-0.0054408951</td><td> 0.0066989052</td><td>-0.004357054</td><td>-0.008491447</td><td>-0.005919401</td><td>-0.0004013086</td><td>-0.019139497</td><td> 0.007393137</td><td> 0.015999151</td><td>-0.007068036</td><td>⋯</td><td> 0.005761298</td><td> 0.01675257</td><td>-0.012367391</td><td>0.002479011</td><td> 0.005855248</td><td>-0.007050006</td><td> 0.005924584</td><td>-0.009422937</td><td>-0.004784981</td><td>0.10309751</td></tr>\n",
       "\t<tr><th scope=row>10002</th><td>-0.0140102847</td><td> 0.0001338165</td><td>-0.060577755</td><td>-0.020645255</td><td> 0.048865720</td><td> 0.0489094172</td><td>-0.327613411</td><td>-0.106836366</td><td> 0.291513909</td><td>-0.285173302</td><td>⋯</td><td> 0.049620705</td><td>-0.12800813</td><td>-0.034395852</td><td>0.009411688</td><td> 0.080174452</td><td>-0.017601166</td><td> 0.105146518</td><td>-0.032028685</td><td> 0.044443483</td><td>0.04760446</td></tr>\n",
       "\t<tr><th scope=row>10003</th><td>-0.2837679270</td><td> 0.2463674492</td><td> 0.360410767</td><td> 0.665249774</td><td> 0.990525521</td><td>-0.0237884919</td><td>-4.385512846</td><td> 3.031257179</td><td> 0.317318658</td><td> 0.131067721</td><td>⋯</td><td>-0.190205196</td><td> 0.35739756</td><td>-0.078216842</td><td>0.079388559</td><td>-0.112767333</td><td> 0.267479458</td><td>-0.001206489</td><td>-0.025165446</td><td> 0.230207606</td><td>0.48202810</td></tr>\n",
       "</tbody>\n",
       "</table>\n"
      ],
      "text/latex": [
       "A matrix: 6 × 45 of type dbl\n",
       "\\begin{tabular}{r|lllllllllllllllllllll}\n",
       "  & Adipose - Subcutaneous & Adipose - Visceral (Omentum) & Adrenal Gland & Artery - Aorta & Artery - Coronary & Artery - Tibial & Bladder & Brain - Amygdala & Brain - Anterior cingulate cortex (BA24) & Brain - Caudate (basal ganglia) & ⋯ & Nerve - Tibial & Pancreas & Pituitary & Skin - Not Sun Exposed (Suprapubic) & Skin - Sun Exposed (Lower leg) & Small Intestine - Terminal Ileum & Spleen & Stomach & Thyroid & Whole Blood\\\\\n",
       "\\hline\n",
       "\t10 &  0.5449970032 &  0.7290307900 &  0.157688465 & -0.681257011 &  0.696640213 & -0.4220966891 &  0.001224291 & -1.105006446 & -1.472028023 & -1.114147686 & ⋯ &  0.657740409 &  0.67967103 & -2.061986520 & 0.167202495 &  0.856345745 &  1.004428930 &  0.693403071 &  0.845766331 &  0.157145732 & 0.27807653\\\\\n",
       "\t100 & -0.0022491133 & -0.1299756645 & -0.005963905 &  0.009293013 &  0.165751222 &  0.0503973381 &  0.123256704 & -0.004501706 & -0.002413452 & -0.028746194 & ⋯ &  0.014805204 &  0.01353249 &  0.002140713 & 0.002473817 & -0.002995103 & -0.008681202 & -0.002329564 &  0.101898597 &  0.001281643 & 0.07720383\\\\\n",
       "\t10000 & -0.0009602978 & -0.0024712209 &  0.003044611 &  0.009081834 &  0.003772965 & -0.0005629212 & -0.002238183 &  0.006620564 & -0.007752461 & -0.016056033 & ⋯ &  0.001147921 &  0.01274941 & -0.002486328 & 0.003871101 & -0.003171909 & -0.003949746 &  0.002861292 & -0.007564969 & -0.002077912 & 0.10118047\\\\\n",
       "\t10001 & -0.0054408951 &  0.0066989052 & -0.004357054 & -0.008491447 & -0.005919401 & -0.0004013086 & -0.019139497 &  0.007393137 &  0.015999151 & -0.007068036 & ⋯ &  0.005761298 &  0.01675257 & -0.012367391 & 0.002479011 &  0.005855248 & -0.007050006 &  0.005924584 & -0.009422937 & -0.004784981 & 0.10309751\\\\\n",
       "\t10002 & -0.0140102847 &  0.0001338165 & -0.060577755 & -0.020645255 &  0.048865720 &  0.0489094172 & -0.327613411 & -0.106836366 &  0.291513909 & -0.285173302 & ⋯ &  0.049620705 & -0.12800813 & -0.034395852 & 0.009411688 &  0.080174452 & -0.017601166 &  0.105146518 & -0.032028685 &  0.044443483 & 0.04760446\\\\\n",
       "\t10003 & -0.2837679270 &  0.2463674492 &  0.360410767 &  0.665249774 &  0.990525521 & -0.0237884919 & -4.385512846 &  3.031257179 &  0.317318658 &  0.131067721 & ⋯ & -0.190205196 &  0.35739756 & -0.078216842 & 0.079388559 & -0.112767333 &  0.267479458 & -0.001206489 & -0.025165446 &  0.230207606 & 0.48202810\\\\\n",
       "\\end{tabular}\n"
      ],
      "text/markdown": [
       "\n",
       "A matrix: 6 × 45 of type dbl\n",
       "\n",
       "| <!--/--> | Adipose - Subcutaneous | Adipose - Visceral (Omentum) | Adrenal Gland | Artery - Aorta | Artery - Coronary | Artery - Tibial | Bladder | Brain - Amygdala | Brain - Anterior cingulate cortex (BA24) | Brain - Caudate (basal ganglia) | ⋯ | Nerve - Tibial | Pancreas | Pituitary | Skin - Not Sun Exposed (Suprapubic) | Skin - Sun Exposed (Lower leg) | Small Intestine - Terminal Ileum | Spleen | Stomach | Thyroid | Whole Blood |\n",
       "|---|---|---|---|---|---|---|---|---|---|---|---|---|---|---|---|---|---|---|---|---|---|\n",
       "| 10 |  0.5449970032 |  0.7290307900 |  0.157688465 | -0.681257011 |  0.696640213 | -0.4220966891 |  0.001224291 | -1.105006446 | -1.472028023 | -1.114147686 | ⋯ |  0.657740409 |  0.67967103 | -2.061986520 | 0.167202495 |  0.856345745 |  1.004428930 |  0.693403071 |  0.845766331 |  0.157145732 | 0.27807653 |\n",
       "| 100 | -0.0022491133 | -0.1299756645 | -0.005963905 |  0.009293013 |  0.165751222 |  0.0503973381 |  0.123256704 | -0.004501706 | -0.002413452 | -0.028746194 | ⋯ |  0.014805204 |  0.01353249 |  0.002140713 | 0.002473817 | -0.002995103 | -0.008681202 | -0.002329564 |  0.101898597 |  0.001281643 | 0.07720383 |\n",
       "| 10000 | -0.0009602978 | -0.0024712209 |  0.003044611 |  0.009081834 |  0.003772965 | -0.0005629212 | -0.002238183 |  0.006620564 | -0.007752461 | -0.016056033 | ⋯ |  0.001147921 |  0.01274941 | -0.002486328 | 0.003871101 | -0.003171909 | -0.003949746 |  0.002861292 | -0.007564969 | -0.002077912 | 0.10118047 |\n",
       "| 10001 | -0.0054408951 |  0.0066989052 | -0.004357054 | -0.008491447 | -0.005919401 | -0.0004013086 | -0.019139497 |  0.007393137 |  0.015999151 | -0.007068036 | ⋯ |  0.005761298 |  0.01675257 | -0.012367391 | 0.002479011 |  0.005855248 | -0.007050006 |  0.005924584 | -0.009422937 | -0.004784981 | 0.10309751 |\n",
       "| 10002 | -0.0140102847 |  0.0001338165 | -0.060577755 | -0.020645255 |  0.048865720 |  0.0489094172 | -0.327613411 | -0.106836366 |  0.291513909 | -0.285173302 | ⋯ |  0.049620705 | -0.12800813 | -0.034395852 | 0.009411688 |  0.080174452 | -0.017601166 |  0.105146518 | -0.032028685 |  0.044443483 | 0.04760446 |\n",
       "| 10003 | -0.2837679270 |  0.2463674492 |  0.360410767 |  0.665249774 |  0.990525521 | -0.0237884919 | -4.385512846 |  3.031257179 |  0.317318658 |  0.131067721 | ⋯ | -0.190205196 |  0.35739756 | -0.078216842 | 0.079388559 | -0.112767333 |  0.267479458 | -0.001206489 | -0.025165446 |  0.230207606 | 0.48202810 |\n",
       "\n"
      ],
      "text/plain": [
       "      Adipose - Subcutaneous Adipose - Visceral (Omentum) Adrenal Gland\n",
       "10     0.5449970032           0.7290307900                 0.157688465 \n",
       "100   -0.0022491133          -0.1299756645                -0.005963905 \n",
       "10000 -0.0009602978          -0.0024712209                 0.003044611 \n",
       "10001 -0.0054408951           0.0066989052                -0.004357054 \n",
       "10002 -0.0140102847           0.0001338165                -0.060577755 \n",
       "10003 -0.2837679270           0.2463674492                 0.360410767 \n",
       "      Artery - Aorta Artery - Coronary Artery - Tibial Bladder     \n",
       "10    -0.681257011    0.696640213      -0.4220966891    0.001224291\n",
       "100    0.009293013    0.165751222       0.0503973381    0.123256704\n",
       "10000  0.009081834    0.003772965      -0.0005629212   -0.002238183\n",
       "10001 -0.008491447   -0.005919401      -0.0004013086   -0.019139497\n",
       "10002 -0.020645255    0.048865720       0.0489094172   -0.327613411\n",
       "10003  0.665249774    0.990525521      -0.0237884919   -4.385512846\n",
       "      Brain - Amygdala Brain - Anterior cingulate cortex (BA24)\n",
       "10    -1.105006446     -1.472028023                            \n",
       "100   -0.004501706     -0.002413452                            \n",
       "10000  0.006620564     -0.007752461                            \n",
       "10001  0.007393137      0.015999151                            \n",
       "10002 -0.106836366      0.291513909                            \n",
       "10003  3.031257179      0.317318658                            \n",
       "      Brain - Caudate (basal ganglia) ⋯ Nerve - Tibial Pancreas    Pituitary   \n",
       "10    -1.114147686                    ⋯  0.657740409    0.67967103 -2.061986520\n",
       "100   -0.028746194                    ⋯  0.014805204    0.01353249  0.002140713\n",
       "10000 -0.016056033                    ⋯  0.001147921    0.01274941 -0.002486328\n",
       "10001 -0.007068036                    ⋯  0.005761298    0.01675257 -0.012367391\n",
       "10002 -0.285173302                    ⋯  0.049620705   -0.12800813 -0.034395852\n",
       "10003  0.131067721                    ⋯ -0.190205196    0.35739756 -0.078216842\n",
       "      Skin - Not Sun Exposed (Suprapubic) Skin - Sun Exposed (Lower leg)\n",
       "10    0.167202495                          0.856345745                  \n",
       "100   0.002473817                         -0.002995103                  \n",
       "10000 0.003871101                         -0.003171909                  \n",
       "10001 0.002479011                          0.005855248                  \n",
       "10002 0.009411688                          0.080174452                  \n",
       "10003 0.079388559                         -0.112767333                  \n",
       "      Small Intestine - Terminal Ileum Spleen       Stomach      Thyroid     \n",
       "10     1.004428930                      0.693403071  0.845766331  0.157145732\n",
       "100   -0.008681202                     -0.002329564  0.101898597  0.001281643\n",
       "10000 -0.003949746                      0.002861292 -0.007564969 -0.002077912\n",
       "10001 -0.007050006                      0.005924584 -0.009422937 -0.004784981\n",
       "10002 -0.017601166                      0.105146518 -0.032028685  0.044443483\n",
       "10003  0.267479458                     -0.001206489 -0.025165446  0.230207606\n",
       "      Whole Blood\n",
       "10    0.27807653 \n",
       "100   0.07720383 \n",
       "10000 0.10118047 \n",
       "10001 0.10309751 \n",
       "10002 0.04760446 \n",
       "10003 0.48202810 "
      ]
     },
     "metadata": {},
     "output_type": "display_data"
    }
   ],
   "source": [
    "all_se_jc_inc_logFC_mat = as.matrix(as.numeric(unlist(matrix_list[1]), ncol=1))\n",
    "for (i in (2:length(matrix_list))) {\n",
    "    n = as.matrix(as.numeric(unlist(matrix_list[i]), ncol=1))\n",
    "    all_se_jc_inc_logFC_mat = cbind(all_se_jc_inc_logFC_mat, n)\n",
    "}\n",
    "\n",
    "dim(all_se_jc_inc_logFC_mat)\n",
    "rownames(all_se_jc_inc_logFC_mat) = all_se_jc_inc_logFC_mat_rownames\n",
    "colnames(all_se_jc_inc_logFC_mat) = tissue_list\n",
    "head(all_se_jc_inc_logFC_mat)"
   ]
  },
  {
   "cell_type": "code",
   "execution_count": 242,
   "metadata": {},
   "outputs": [
    {
     "data": {
      "text/html": [
       "<style>\n",
       ".list-inline {list-style: none; margin:0; padding: 0}\n",
       ".list-inline>li {display: inline-block}\n",
       ".list-inline>li:not(:last-child)::after {content: \"\\00b7\"; padding: 0 .5ex}\n",
       "</style>\n",
       "<ol class=list-inline><li>26234</li><li>45</li></ol>\n"
      ],
      "text/latex": [
       "\\begin{enumerate*}\n",
       "\\item 26234\n",
       "\\item 45\n",
       "\\end{enumerate*}\n"
      ],
      "text/markdown": [
       "1. 26234\n",
       "2. 45\n",
       "\n",
       "\n"
      ],
      "text/plain": [
       "[1] 26234    45"
      ]
     },
     "metadata": {},
     "output_type": "display_data"
    }
   ],
   "source": [
    "dim(all_se_jc_inc_logFC_mat)"
   ]
  },
  {
   "cell_type": "code",
   "execution_count": 243,
   "metadata": {},
   "outputs": [
    {
     "data": {
      "text/html": [
       "45"
      ],
      "text/latex": [
       "45"
      ],
      "text/markdown": [
       "45"
      ],
      "text/plain": [
       "[1] 45"
      ]
     },
     "metadata": {},
     "output_type": "display_data"
    }
   ],
   "source": [
    "length(tissue_list)"
   ]
  },
  {
   "cell_type": "markdown",
   "metadata": {},
   "source": [
    "With the rmats PSI or se.inc.jc results, are expressed as percentages, there is no need to further further normalize "
   ]
  },
  {
   "cell_type": "code",
   "execution_count": 252,
   "metadata": {},
   "outputs": [],
   "source": [
    "all_se_jc_inc_dist_mat <- as.matrix(cor(all_se_jc_inc_logFC_mat))"
   ]
  },
  {
   "cell_type": "code",
   "execution_count": 253,
   "metadata": {},
   "outputs": [
    {
     "data": {
      "text/html": [
       "<table>\n",
       "<caption>A matrix: 6 × 45 of type dbl</caption>\n",
       "<thead>\n",
       "\t<tr><th></th><th scope=col>Adipose - Subcutaneous</th><th scope=col>Adipose - Visceral (Omentum)</th><th scope=col>Adrenal Gland</th><th scope=col>Artery - Aorta</th><th scope=col>Artery - Coronary</th><th scope=col>Artery - Tibial</th><th scope=col>Bladder</th><th scope=col>Brain - Amygdala</th><th scope=col>Brain - Anterior cingulate cortex (BA24)</th><th scope=col>Brain - Caudate (basal ganglia)</th><th scope=col>⋯</th><th scope=col>Nerve - Tibial</th><th scope=col>Pancreas</th><th scope=col>Pituitary</th><th scope=col>Skin - Not Sun Exposed (Suprapubic)</th><th scope=col>Skin - Sun Exposed (Lower leg)</th><th scope=col>Small Intestine - Terminal Ileum</th><th scope=col>Spleen</th><th scope=col>Stomach</th><th scope=col>Thyroid</th><th scope=col>Whole Blood</th></tr>\n",
       "</thead>\n",
       "<tbody>\n",
       "\t<tr><th scope=row>Adipose - Subcutaneous</th><td>1.0000000</td><td>0.5506470</td><td>0.4646267</td><td>0.5160996</td><td>0.4559748</td><td>0.5374858</td><td>0.1791434</td><td>0.2949426</td><td>0.2849664</td><td>0.3602522</td><td>⋯</td><td>0.5189147</td><td>0.4240810</td><td>0.3826052</td><td>0.5067593</td><td>0.5335609</td><td>0.4459289</td><td>0.3912900</td><td>0.4721441</td><td>0.5665487</td><td>0.4224518</td></tr>\n",
       "\t<tr><th scope=row>Adipose - Visceral (Omentum)</th><td>0.5506470</td><td>1.0000000</td><td>0.4692402</td><td>0.5047938</td><td>0.4651221</td><td>0.5097887</td><td>0.1641449</td><td>0.2698632</td><td>0.2638845</td><td>0.3619639</td><td>⋯</td><td>0.4906039</td><td>0.4085189</td><td>0.3695846</td><td>0.4950341</td><td>0.4929599</td><td>0.4450121</td><td>0.4086211</td><td>0.4558789</td><td>0.5396073</td><td>0.4025365</td></tr>\n",
       "\t<tr><th scope=row>Adrenal Gland</th><td>0.4646267</td><td>0.4692402</td><td>1.0000000</td><td>0.4688990</td><td>0.4042411</td><td>0.4672521</td><td>0.1504960</td><td>0.2572210</td><td>0.2168025</td><td>0.3332680</td><td>⋯</td><td>0.4060995</td><td>0.4042079</td><td>0.3242154</td><td>0.4435542</td><td>0.4517187</td><td>0.3984039</td><td>0.3793173</td><td>0.4361304</td><td>0.4609374</td><td>0.3595106</td></tr>\n",
       "\t<tr><th scope=row>Artery - Aorta</th><td>0.5160996</td><td>0.5047938</td><td>0.4688990</td><td>1.0000000</td><td>0.4624017</td><td>0.5541902</td><td>0.1705665</td><td>0.3014751</td><td>0.2475446</td><td>0.3582684</td><td>⋯</td><td>0.4566379</td><td>0.4019816</td><td>0.3521983</td><td>0.4552265</td><td>0.4648750</td><td>0.4202982</td><td>0.3704623</td><td>0.4652492</td><td>0.4951588</td><td>0.3945283</td></tr>\n",
       "\t<tr><th scope=row>Artery - Coronary</th><td>0.4559748</td><td>0.4651221</td><td>0.4042411</td><td>0.4624017</td><td>1.0000000</td><td>0.4703467</td><td>0.1289821</td><td>0.2209214</td><td>0.2317372</td><td>0.2959252</td><td>⋯</td><td>0.4163924</td><td>0.3530272</td><td>0.2904616</td><td>0.4256969</td><td>0.4441992</td><td>0.3778351</td><td>0.3754148</td><td>0.3869624</td><td>0.4352959</td><td>0.3450813</td></tr>\n",
       "\t<tr><th scope=row>Artery - Tibial</th><td>0.5374858</td><td>0.5097887</td><td>0.4672521</td><td>0.5541902</td><td>0.4703467</td><td>1.0000000</td><td>0.1791821</td><td>0.3051111</td><td>0.2576249</td><td>0.3691252</td><td>⋯</td><td>0.4854099</td><td>0.4422041</td><td>0.4021182</td><td>0.4990074</td><td>0.5143364</td><td>0.4306282</td><td>0.3902813</td><td>0.4708141</td><td>0.5166538</td><td>0.4181563</td></tr>\n",
       "</tbody>\n",
       "</table>\n"
      ],
      "text/latex": [
       "A matrix: 6 × 45 of type dbl\n",
       "\\begin{tabular}{r|lllllllllllllllllllll}\n",
       "  & Adipose - Subcutaneous & Adipose - Visceral (Omentum) & Adrenal Gland & Artery - Aorta & Artery - Coronary & Artery - Tibial & Bladder & Brain - Amygdala & Brain - Anterior cingulate cortex (BA24) & Brain - Caudate (basal ganglia) & ⋯ & Nerve - Tibial & Pancreas & Pituitary & Skin - Not Sun Exposed (Suprapubic) & Skin - Sun Exposed (Lower leg) & Small Intestine - Terminal Ileum & Spleen & Stomach & Thyroid & Whole Blood\\\\\n",
       "\\hline\n",
       "\tAdipose - Subcutaneous & 1.0000000 & 0.5506470 & 0.4646267 & 0.5160996 & 0.4559748 & 0.5374858 & 0.1791434 & 0.2949426 & 0.2849664 & 0.3602522 & ⋯ & 0.5189147 & 0.4240810 & 0.3826052 & 0.5067593 & 0.5335609 & 0.4459289 & 0.3912900 & 0.4721441 & 0.5665487 & 0.4224518\\\\\n",
       "\tAdipose - Visceral (Omentum) & 0.5506470 & 1.0000000 & 0.4692402 & 0.5047938 & 0.4651221 & 0.5097887 & 0.1641449 & 0.2698632 & 0.2638845 & 0.3619639 & ⋯ & 0.4906039 & 0.4085189 & 0.3695846 & 0.4950341 & 0.4929599 & 0.4450121 & 0.4086211 & 0.4558789 & 0.5396073 & 0.4025365\\\\\n",
       "\tAdrenal Gland & 0.4646267 & 0.4692402 & 1.0000000 & 0.4688990 & 0.4042411 & 0.4672521 & 0.1504960 & 0.2572210 & 0.2168025 & 0.3332680 & ⋯ & 0.4060995 & 0.4042079 & 0.3242154 & 0.4435542 & 0.4517187 & 0.3984039 & 0.3793173 & 0.4361304 & 0.4609374 & 0.3595106\\\\\n",
       "\tArtery - Aorta & 0.5160996 & 0.5047938 & 0.4688990 & 1.0000000 & 0.4624017 & 0.5541902 & 0.1705665 & 0.3014751 & 0.2475446 & 0.3582684 & ⋯ & 0.4566379 & 0.4019816 & 0.3521983 & 0.4552265 & 0.4648750 & 0.4202982 & 0.3704623 & 0.4652492 & 0.4951588 & 0.3945283\\\\\n",
       "\tArtery - Coronary & 0.4559748 & 0.4651221 & 0.4042411 & 0.4624017 & 1.0000000 & 0.4703467 & 0.1289821 & 0.2209214 & 0.2317372 & 0.2959252 & ⋯ & 0.4163924 & 0.3530272 & 0.2904616 & 0.4256969 & 0.4441992 & 0.3778351 & 0.3754148 & 0.3869624 & 0.4352959 & 0.3450813\\\\\n",
       "\tArtery - Tibial & 0.5374858 & 0.5097887 & 0.4672521 & 0.5541902 & 0.4703467 & 1.0000000 & 0.1791821 & 0.3051111 & 0.2576249 & 0.3691252 & ⋯ & 0.4854099 & 0.4422041 & 0.4021182 & 0.4990074 & 0.5143364 & 0.4306282 & 0.3902813 & 0.4708141 & 0.5166538 & 0.4181563\\\\\n",
       "\\end{tabular}\n"
      ],
      "text/markdown": [
       "\n",
       "A matrix: 6 × 45 of type dbl\n",
       "\n",
       "| <!--/--> | Adipose - Subcutaneous | Adipose - Visceral (Omentum) | Adrenal Gland | Artery - Aorta | Artery - Coronary | Artery - Tibial | Bladder | Brain - Amygdala | Brain - Anterior cingulate cortex (BA24) | Brain - Caudate (basal ganglia) | ⋯ | Nerve - Tibial | Pancreas | Pituitary | Skin - Not Sun Exposed (Suprapubic) | Skin - Sun Exposed (Lower leg) | Small Intestine - Terminal Ileum | Spleen | Stomach | Thyroid | Whole Blood |\n",
       "|---|---|---|---|---|---|---|---|---|---|---|---|---|---|---|---|---|---|---|---|---|---|\n",
       "| Adipose - Subcutaneous | 1.0000000 | 0.5506470 | 0.4646267 | 0.5160996 | 0.4559748 | 0.5374858 | 0.1791434 | 0.2949426 | 0.2849664 | 0.3602522 | ⋯ | 0.5189147 | 0.4240810 | 0.3826052 | 0.5067593 | 0.5335609 | 0.4459289 | 0.3912900 | 0.4721441 | 0.5665487 | 0.4224518 |\n",
       "| Adipose - Visceral (Omentum) | 0.5506470 | 1.0000000 | 0.4692402 | 0.5047938 | 0.4651221 | 0.5097887 | 0.1641449 | 0.2698632 | 0.2638845 | 0.3619639 | ⋯ | 0.4906039 | 0.4085189 | 0.3695846 | 0.4950341 | 0.4929599 | 0.4450121 | 0.4086211 | 0.4558789 | 0.5396073 | 0.4025365 |\n",
       "| Adrenal Gland | 0.4646267 | 0.4692402 | 1.0000000 | 0.4688990 | 0.4042411 | 0.4672521 | 0.1504960 | 0.2572210 | 0.2168025 | 0.3332680 | ⋯ | 0.4060995 | 0.4042079 | 0.3242154 | 0.4435542 | 0.4517187 | 0.3984039 | 0.3793173 | 0.4361304 | 0.4609374 | 0.3595106 |\n",
       "| Artery - Aorta | 0.5160996 | 0.5047938 | 0.4688990 | 1.0000000 | 0.4624017 | 0.5541902 | 0.1705665 | 0.3014751 | 0.2475446 | 0.3582684 | ⋯ | 0.4566379 | 0.4019816 | 0.3521983 | 0.4552265 | 0.4648750 | 0.4202982 | 0.3704623 | 0.4652492 | 0.4951588 | 0.3945283 |\n",
       "| Artery - Coronary | 0.4559748 | 0.4651221 | 0.4042411 | 0.4624017 | 1.0000000 | 0.4703467 | 0.1289821 | 0.2209214 | 0.2317372 | 0.2959252 | ⋯ | 0.4163924 | 0.3530272 | 0.2904616 | 0.4256969 | 0.4441992 | 0.3778351 | 0.3754148 | 0.3869624 | 0.4352959 | 0.3450813 |\n",
       "| Artery - Tibial | 0.5374858 | 0.5097887 | 0.4672521 | 0.5541902 | 0.4703467 | 1.0000000 | 0.1791821 | 0.3051111 | 0.2576249 | 0.3691252 | ⋯ | 0.4854099 | 0.4422041 | 0.4021182 | 0.4990074 | 0.5143364 | 0.4306282 | 0.3902813 | 0.4708141 | 0.5166538 | 0.4181563 |\n",
       "\n"
      ],
      "text/plain": [
       "                             Adipose - Subcutaneous\n",
       "Adipose - Subcutaneous       1.0000000             \n",
       "Adipose - Visceral (Omentum) 0.5506470             \n",
       "Adrenal Gland                0.4646267             \n",
       "Artery - Aorta               0.5160996             \n",
       "Artery - Coronary            0.4559748             \n",
       "Artery - Tibial              0.5374858             \n",
       "                             Adipose - Visceral (Omentum) Adrenal Gland\n",
       "Adipose - Subcutaneous       0.5506470                    0.4646267    \n",
       "Adipose - Visceral (Omentum) 1.0000000                    0.4692402    \n",
       "Adrenal Gland                0.4692402                    1.0000000    \n",
       "Artery - Aorta               0.5047938                    0.4688990    \n",
       "Artery - Coronary            0.4651221                    0.4042411    \n",
       "Artery - Tibial              0.5097887                    0.4672521    \n",
       "                             Artery - Aorta Artery - Coronary Artery - Tibial\n",
       "Adipose - Subcutaneous       0.5160996      0.4559748         0.5374858      \n",
       "Adipose - Visceral (Omentum) 0.5047938      0.4651221         0.5097887      \n",
       "Adrenal Gland                0.4688990      0.4042411         0.4672521      \n",
       "Artery - Aorta               1.0000000      0.4624017         0.5541902      \n",
       "Artery - Coronary            0.4624017      1.0000000         0.4703467      \n",
       "Artery - Tibial              0.5541902      0.4703467         1.0000000      \n",
       "                             Bladder   Brain - Amygdala\n",
       "Adipose - Subcutaneous       0.1791434 0.2949426       \n",
       "Adipose - Visceral (Omentum) 0.1641449 0.2698632       \n",
       "Adrenal Gland                0.1504960 0.2572210       \n",
       "Artery - Aorta               0.1705665 0.3014751       \n",
       "Artery - Coronary            0.1289821 0.2209214       \n",
       "Artery - Tibial              0.1791821 0.3051111       \n",
       "                             Brain - Anterior cingulate cortex (BA24)\n",
       "Adipose - Subcutaneous       0.2849664                               \n",
       "Adipose - Visceral (Omentum) 0.2638845                               \n",
       "Adrenal Gland                0.2168025                               \n",
       "Artery - Aorta               0.2475446                               \n",
       "Artery - Coronary            0.2317372                               \n",
       "Artery - Tibial              0.2576249                               \n",
       "                             Brain - Caudate (basal ganglia) ⋯ Nerve - Tibial\n",
       "Adipose - Subcutaneous       0.3602522                       ⋯ 0.5189147     \n",
       "Adipose - Visceral (Omentum) 0.3619639                       ⋯ 0.4906039     \n",
       "Adrenal Gland                0.3332680                       ⋯ 0.4060995     \n",
       "Artery - Aorta               0.3582684                       ⋯ 0.4566379     \n",
       "Artery - Coronary            0.2959252                       ⋯ 0.4163924     \n",
       "Artery - Tibial              0.3691252                       ⋯ 0.4854099     \n",
       "                             Pancreas  Pituitary\n",
       "Adipose - Subcutaneous       0.4240810 0.3826052\n",
       "Adipose - Visceral (Omentum) 0.4085189 0.3695846\n",
       "Adrenal Gland                0.4042079 0.3242154\n",
       "Artery - Aorta               0.4019816 0.3521983\n",
       "Artery - Coronary            0.3530272 0.2904616\n",
       "Artery - Tibial              0.4422041 0.4021182\n",
       "                             Skin - Not Sun Exposed (Suprapubic)\n",
       "Adipose - Subcutaneous       0.5067593                          \n",
       "Adipose - Visceral (Omentum) 0.4950341                          \n",
       "Adrenal Gland                0.4435542                          \n",
       "Artery - Aorta               0.4552265                          \n",
       "Artery - Coronary            0.4256969                          \n",
       "Artery - Tibial              0.4990074                          \n",
       "                             Skin - Sun Exposed (Lower leg)\n",
       "Adipose - Subcutaneous       0.5335609                     \n",
       "Adipose - Visceral (Omentum) 0.4929599                     \n",
       "Adrenal Gland                0.4517187                     \n",
       "Artery - Aorta               0.4648750                     \n",
       "Artery - Coronary            0.4441992                     \n",
       "Artery - Tibial              0.5143364                     \n",
       "                             Small Intestine - Terminal Ileum Spleen   \n",
       "Adipose - Subcutaneous       0.4459289                        0.3912900\n",
       "Adipose - Visceral (Omentum) 0.4450121                        0.4086211\n",
       "Adrenal Gland                0.3984039                        0.3793173\n",
       "Artery - Aorta               0.4202982                        0.3704623\n",
       "Artery - Coronary            0.3778351                        0.3754148\n",
       "Artery - Tibial              0.4306282                        0.3902813\n",
       "                             Stomach   Thyroid   Whole Blood\n",
       "Adipose - Subcutaneous       0.4721441 0.5665487 0.4224518  \n",
       "Adipose - Visceral (Omentum) 0.4558789 0.5396073 0.4025365  \n",
       "Adrenal Gland                0.4361304 0.4609374 0.3595106  \n",
       "Artery - Aorta               0.4652492 0.4951588 0.3945283  \n",
       "Artery - Coronary            0.3869624 0.4352959 0.3450813  \n",
       "Artery - Tibial              0.4708141 0.5166538 0.4181563  "
      ]
     },
     "metadata": {},
     "output_type": "display_data"
    }
   ],
   "source": [
    "head(all_se_jc_inc_dist_mat)"
   ]
  },
  {
   "cell_type": "code",
   "execution_count": 255,
   "metadata": {},
   "outputs": [
    {
     "name": "stderr",
     "output_type": "stream",
     "text": [
      "Saving all_se_jc_inc_dist_mat object\n",
      "Done!\n"
     ]
    }
   ],
   "source": [
    "rownames(all_se_jc_inc_dist_mat) <- colnames(all_se_jc_inc_logFC_mat)\n",
    "colnames(all_se_jc_inc_dist_mat) <- colnames(all_se_jc_inc_logFC_mat)\n",
    "\n",
    "message(\"Saving all_se_jc_inc_dist_mat object\")\n",
    "saveRDS(object = all_se_jc_inc_dist_mat, file = \"../data/all_se_jc_inc_dist_mat.rds\")\n",
    "message(\"Done!\")"
   ]
  },
  {
   "cell_type": "code",
   "execution_count": 257,
   "metadata": {},
   "outputs": [
    {
     "data": {
      "image/png": "[encoded data removed]",
      "text/plain": [
       "plot without title"
      ]
     },
     "metadata": {},
     "output_type": "display_data"
    }
   ],
   "source": [
    "library(pheatmap)\n",
    "pheatmap(as.matrix(all_se_jc_inc_dist_mat),   fontsize = 6)\n",
    "hm.parameters <- list(all_se_jc_inc_dist_mat, fontsize = 6)\n",
    "do.call(\"pheatmap\", c(hm.parameters,  filename=\"../pdf/Figure1cwithrMATS.all_se_jc_inc_PSI.values.pdf\"))"
   ]
  },
  {
   "cell_type": "code",
   "execution_count": null,
   "metadata": {},
   "outputs": [],
   "source": []
  },
  {
   "cell_type": "markdown",
   "metadata": {},
   "source": [
    "## Metadata\n",
    "\n",
    "For replicability and reproducibility purposes, we also print the following metadata:\n",
    "\n",
    "1. Checksums of **'artefacts'**, files generated during the analysis and stored in the folder directory **`data`**\n",
    "2. List of environment metadata, dependencies, versions of libraries using `utils::sessionInfo()` and [`devtools::session_info()`](https://devtools.r-lib.org/reference/session_info.html)"
   ]
  },
  {
   "cell_type": "markdown",
   "metadata": {},
   "source": [
    "### 1. Checksums with the sha256 algorithm"
   ]
  },
  {
   "cell_type": "code",
   "execution_count": 96,
   "metadata": {},
   "outputs": [
    {
     "name": "stderr",
     "output_type": "stream",
     "text": [
      "Generating sha256 checksums of the artefacts in the `..data/` directory .. \n"
     ]
    },
    {
     "data": {
      "text/html": [],
      "text/latex": [],
      "text/markdown": [],
      "text/plain": [
       "character(0)"
      ]
     },
     "metadata": {},
     "output_type": "display_data"
    },
    {
     "name": "stderr",
     "output_type": "stream",
     "text": [
      "Done!\n",
      "\n"
     ]
    },
    {
     "data": {
      "text/html": [
       "<table>\n",
       "<caption>A data.table: 162 × 2</caption>\n",
       "<thead>\n",
       "\t<tr><th scope=col>sha256sum</th><th scope=col>file</th></tr>\n",
       "\t<tr><th scope=col>&lt;chr&gt;</th><th scope=col>&lt;chr&gt;</th></tr>\n",
       "</thead>\n",
       "<tbody>\n",
       "\t<tr><td>80301ccdc5323e378d1a2e644360762b44c2a53f8d96ca26f6c4fc0ea03ca452</td><td>./Heart-LeftVentricle_se_jc_inc_as_counts_DGE.csv               </td></tr>\n",
       "\t<tr><td>ebe1713963cd88e7bb2ac961e7d7209b38d2b0e8136b28fe4425ac8d04ad0b18</td><td>./rmats_final.mxe.jcec.skiplen.txt.gz                           </td></tr>\n",
       "\t<tr><td>a69a0f72121d0746e015da13a23aea6a46a05691b1f90cf0177a1b77c5f49de1</td><td>./Colon-Sigmoid_se_jc_inc_as_counts_DGE.csv                     </td></tr>\n",
       "\t<tr><td>43096e5730db80217eb9869b25c60bd5336061801cea02009bd646e241b487a8</td><td>./Brain-FrontalCortex(BA9)_se_jc_inc_as_counts_DGE.csv          </td></tr>\n",
       "\t<tr><td>76796c62a25075899ff58ee7b5258b59bdf4eb1b42242579afd86eb9a4cfd10d</td><td>./Brain-Putamen(basalganglia)_se_jc_inc_as_counts_DGE.csv       </td></tr>\n",
       "\t<tr><td>a918d8d065f85b24a787f6013f10881463c0d0975509a8a9ef50b7c2348dc527</td><td>./reduced_y.se.jc.inc_as_counts.rds                             </td></tr>\n",
       "\t<tr><td>490afac0f9797126ea051b167f409bbc011a8bdbe190b991ce0da972c5424cbf</td><td>./Cells-EBV-transformedlymphocytes_DGE.csv                      </td></tr>\n",
       "\t<tr><td>cbaf828b429e0ef03c87ffa4cd52f7daaf71b0175aae79283c22bb42bda42336</td><td>./Colon-Transverse_se_jc_inc_as_counts_DGE.csv                  </td></tr>\n",
       "\t<tr><td>daf29468f41a08053016310958de33d7b210e81c75a52d32c2e49ed17c9e1925</td><td>./Spleen_se_jc_inc_as_counts_DGE.csv                            </td></tr>\n",
       "\t<tr><td>38307c2edf8434a57dc1113575887aafd735a529412046ba10f46c716fedcd2f</td><td>./Brain-CerebellarHemisphere_DGE.csv                            </td></tr>\n",
       "\t<tr><td>3c2b1e7b7d790226bf24fa1b87e59f2516b0439b37d738ce74e43879686650a1</td><td>./Breast-MammaryTissue_DGE.csv                                  </td></tr>\n",
       "\t<tr><td>67f9d76fba4f2b7b147a03cba384841ad1480ae52a154696850e023870d20fea</td><td>./Adipose-Subcutaneous_se_jc_inc_as_counts_DGE.csv              </td></tr>\n",
       "\t<tr><td>eae3f98905a92c8b723ffe85845fadf7f486bb1c5e17522aeb6e419e6005f1d4</td><td>./Esophagus-Mucosa_DGE.csv                                      </td></tr>\n",
       "\t<tr><td>9b94ea1504ffee1f527adda116b8c0525d2d310d6a4e161dee08bea6c0bb3d21</td><td>./AdrenalGland_se_jc_inc_as_counts_DGE.csv                      </td></tr>\n",
       "\t<tr><td>9b3dc61ad10508fa9d1e227975ad677e9014b8487590d27f6425e9063330a1e0</td><td>./Lung_se_jc_inc_as_counts_DGE.csv                              </td></tr>\n",
       "\t<tr><td>2d353f064094a4aa5270f7653a85581520553e03b53f0712bf41934c85b21112</td><td>./Heart-AtrialAppendage_DGE.csv                                 </td></tr>\n",
       "\t<tr><td>efac2ae7129639f13e6c54135aa8f7b41651caf799b0d64209561a85d00e860b</td><td>./Brain-CerebellarHemisphere_se_jc_inc_as_counts_DGE.csv        </td></tr>\n",
       "\t<tr><td>be53124f034b2e33e0868604b2ff8f8864af7427a39127229de888cb9b12420a</td><td>./reduced_y.rds                                                 </td></tr>\n",
       "\t<tr><td>0d608f15ef03b589bf111b15a84b67c96b80531cf217c314d005c6ce8f4ce1cf</td><td>./Liver_DGE.csv                                                 </td></tr>\n",
       "\t<tr><td>711f9ffa6b633dd2db3fd71de8bdcdde759d4493c7972d5a5b4a188e219afb07</td><td>./Esophagus-GastroesophagealJunction_se_jc_inc_as_counts_DGE.csv</td></tr>\n",
       "\t<tr><td>1d057b2b0283a0f2541219ee1c3cb83c1e2aa650d007c04c8cd3bc39493e7bd0</td><td>./rmats_final.ri.jc.skiplen.txt.gz                              </td></tr>\n",
       "\t<tr><td>d802915847965a30ca0c8d6486dc4c8c5a64984c11aadeee8eb1d8484ba0b248</td><td>./rmats_final.se.jc.inc.txt.gz                                  </td></tr>\n",
       "\t<tr><td>d69d65a06c9f9824f7d9c5b57ba166d9f7f89b90ad1f609ce3d878c0d275812c</td><td>./Thyroid_se_jc_inc_DGE.csv                                     </td></tr>\n",
       "\t<tr><td>81f80daf0c22b6b1002b819e4fab72c3adf12aa8332a70b6a2d8a560b7ae5ea9</td><td>./MinorSalivaryGland_se_jc_inc_as_counts_DGE.csv                </td></tr>\n",
       "\t<tr><td>28764f9f1e0f14e399d555e448b5490c7221454e7d34d220f79b537376ca017b</td><td>./fromGTF.novelEvents.SE.txt                                    </td></tr>\n",
       "\t<tr><td>fd258e795ef0128caa7234bbd83131720db2896e7481854b062ec7be085a961e</td><td>./Nerve-Tibial_DGE.csv                                          </td></tr>\n",
       "\t<tr><td>344d2c904adc99bd3bd715266ebe05088aefbd32f1d75ecfaad74fec110133fd</td><td>./Esophagus-Muscularis_se_jc_inc_as_counts_DGE.csv              </td></tr>\n",
       "\t<tr><td>86f3a2b104b1ffe297df668b0b0e1e4d5f61836c3ad8a574b89bf24a090ca9c0</td><td>./rmats_final.ri.jc.sjc.txt.gz                                  </td></tr>\n",
       "\t<tr><td>4b9cffb76cf84c41025b5909bfe75270c6d504a404d42cba631053e9f6ecd69b</td><td>./Brain-Anteriorcingulatecortex(BA24)_DGE.csv                   </td></tr>\n",
       "\t<tr><td>85acd073d8742ef4a680a10ed509ccf6779f9fbfa86fb3fd2c5629ddfa7094dd</td><td>./rmats_final.a5ss.jc.skiplen.txt.gz                            </td></tr>\n",
       "\t<tr><td>⋮</td><td>⋮</td></tr>\n",
       "\t<tr><td>4cff41064f29fe16e0b549eec5ffb59e4eae38efe548d6d4692042e9ad2204a4</td><td>./rmats_final.a5ss.jcec.inclen.txt.gz                       </td></tr>\n",
       "\t<tr><td>d7639443651c3b508772ee89728f8ab41d62414672c41e68a78947be14e07cd6</td><td>./rmats_final.se.jcec.sjc.txt.gz                            </td></tr>\n",
       "\t<tr><td>22cb3faa337ae24b7b423a985fd2056047400eccb83b716eff2e33cce9159e53</td><td>./fromGTF.SE.txt                                            </td></tr>\n",
       "\t<tr><td>fdcaf28412c4a9be6de6c7e47c1d28e4d986a44c3d86ee96cae107872954f6ef</td><td>./rmats_final.a3ss.jcec.inc.txt.gz                          </td></tr>\n",
       "\t<tr><td>7239a05424eed9822b2fe2ba9ce1a3894c1aab5f895f9e39a540b36cf0598fae</td><td>./rmats_final.ri.jc.ijc.txt.gz                              </td></tr>\n",
       "\t<tr><td>88520b1bc33869bd8efaa3984c95cf855e04df122648bc109d00d5821debbd6e</td><td>./Colon-Sigmoid_DGE.csv                                     </td></tr>\n",
       "\t<tr><td>4c7d1f1a9dbcfd148025fcd727c22e9ce12f6bbf3d94dcf898e0daebd54f7dba</td><td>./Esophagus-Muscularis_DGE.csv                              </td></tr>\n",
       "\t<tr><td>c277ab764b652e8d65e07277df72933fee465806a5e6c1b018509f868ccfddad</td><td>./fromGTF.A5SS.txt                                          </td></tr>\n",
       "\t<tr><td>51975d86053bfa441c941a6a8a5208d08640cd24f708bced1a1d5aa43d3117ed</td><td>./rmats_final.mxe.jcec.sjc.txt.gz                           </td></tr>\n",
       "\t<tr><td>aee4faefee801e4bca5b2250fc0914c1f024404f5df525b617f920f2f80f9729</td><td>./Lung_DGE.csv                                              </td></tr>\n",
       "\t<tr><td>3e1a88ddc110bf83c566907703b2022d36054bfcc72b131b7fd9efea142ffa11</td><td>./Cells-Culturedfibroblasts_DGE.csv                         </td></tr>\n",
       "\t<tr><td>ec941ebc9647caa1ff89e9b9c25fa87fab618865076b8b2794d7f35b8e2fea4d</td><td>./rmats_final.a5ss.jc.sjc.txt.gz                            </td></tr>\n",
       "\t<tr><td>c1b1a840d09dd9e8fa9cb53694587b9bab50a04c9faa6a24597081e5db61c553</td><td>./Brain-Spinalcord(cervicalc-1)_se_jc_inc_as_counts_DGE.csv </td></tr>\n",
       "\t<tr><td>a2424d8ba1e4752524d36802786d401d70dd4b04501b09f961a69295e08eac47</td><td>./rmats_final.mxe.jc.inclen.txt.gz                          </td></tr>\n",
       "\t<tr><td>11b73d5a25dc6667529da47bf5bbfd6aa9f1dedfa628702a3a536d243685904f</td><td>./rmats_final.mxe.jc.ijc.txt.gz                             </td></tr>\n",
       "\t<tr><td>6e3f1d335ce05c887363d092b0100b9f3603a964c8fe6e8c20f4c547b4f52280</td><td>./fromGTF.novelEvents.MXE.txt                               </td></tr>\n",
       "\t<tr><td>51c8250a1796196e3879d88186c5450e5b5efc1e9f3fa578f388e9ff380e2deb</td><td>./fromGTF.A3SS.txt                                          </td></tr>\n",
       "\t<tr><td>2c1b558cdd3a2c6bffac32a58f9335f6722728e439cbe916c10cf7b766c006b1</td><td>./Adipose-Subcutaneous_DGE.csv                              </td></tr>\n",
       "\t<tr><td>1f652eb50bdc2d60e29d0b87c7e8fdfc964a6488dfc882f6d18e98781c139f6b</td><td>./Brain-Cortex_se_jc_inc_as_counts_DGE.csv                  </td></tr>\n",
       "\t<tr><td>dbb63d775973e415ecb283d602c53bc0301b60858a54a1ef787b6f992921ed54</td><td>./Brain-Hypothalamus_se_jc_inc_as_counts_DGE.csv            </td></tr>\n",
       "\t<tr><td>454d0369cbf3441c6474749c3cc26caf39dac7238d9d0981898cc0ebee9747d5</td><td>./Colon-Transverse_DGE.csv                                  </td></tr>\n",
       "\t<tr><td>5cf99b4abc23ce9f5d68fbad06f2c1778da9928df04247ee6a7524b7fa396ce6</td><td>./rmats_final.se.jc.inclen.txt.gz                           </td></tr>\n",
       "\t<tr><td>4ad589d8fcf6a88226e61dec1f541f244e60fcb8cbcc2a4bd7d07cdc0ade5274</td><td>./rmats_final.mxe.jc.inc.txt.gz                             </td></tr>\n",
       "\t<tr><td>171965d1f008769a85768fe6a03326756f4cccfddf093841b4cfa0dd9f9c674e</td><td>./rmats_final.mxe.jc.sjc.txt.gz                             </td></tr>\n",
       "\t<tr><td>d9ffef4ed51d44e60867a1c1c12569d23901435e20f83c681fec3bf2862bbf6f</td><td>./Artery-Coronary_DGE.csv                                   </td></tr>\n",
       "\t<tr><td>38066d36b564ab7869f5c5651fc0b3ec466d6b57fe9faa96a7a0d959afb5ab80</td><td>./Skin-NotSunExposed(Suprapubic)_se_jc_inc_as_counts_DGE.csv</td></tr>\n",
       "\t<tr><td>1f25799df2650de10c54b5beac57cbc09c3289ded6d8600e98bcd3af9896d7cf</td><td>./Brain-Hypothalamus_DGE.csv                                </td></tr>\n",
       "\t<tr><td>0c1f8cc1de30d945454549cd680bb38e5a2663ab4167cb5c20490e72fefef81f</td><td>./Brain-Hippocampus_DGE.csv                                 </td></tr>\n",
       "\t<tr><td>afac698dd2ede36d3f7ba1a98f94893fb528e15664fe0c7b0e535fab7629ebbd</td><td>./Bladder_DGE.csv                                           </td></tr>\n",
       "\t<tr><td>825542621772c3a31447cab2898593341cf0d748336c5e33ff0094d8b8f109ff</td><td>./Muscle-Skeletal_se_jc_inc_as_counts_DGE.csv               </td></tr>\n",
       "</tbody>\n",
       "</table>\n"
      ],
      "text/latex": [
       "A data.table: 162 × 2\n",
       "\\begin{tabular}{ll}\n",
       " sha256sum & file\\\\\n",
       " <chr> & <chr>\\\\\n",
       "\\hline\n",
       "\t 80301ccdc5323e378d1a2e644360762b44c2a53f8d96ca26f6c4fc0ea03ca452 & ./Heart-LeftVentricle\\_se\\_jc\\_inc\\_as\\_counts\\_DGE.csv               \\\\\n",
       "\t ebe1713963cd88e7bb2ac961e7d7209b38d2b0e8136b28fe4425ac8d04ad0b18 & ./rmats\\_final.mxe.jcec.skiplen.txt.gz                           \\\\\n",
       "\t a69a0f72121d0746e015da13a23aea6a46a05691b1f90cf0177a1b77c5f49de1 & ./Colon-Sigmoid\\_se\\_jc\\_inc\\_as\\_counts\\_DGE.csv                     \\\\\n",
       "\t 43096e5730db80217eb9869b25c60bd5336061801cea02009bd646e241b487a8 & ./Brain-FrontalCortex(BA9)\\_se\\_jc\\_inc\\_as\\_counts\\_DGE.csv          \\\\\n",
       "\t 76796c62a25075899ff58ee7b5258b59bdf4eb1b42242579afd86eb9a4cfd10d & ./Brain-Putamen(basalganglia)\\_se\\_jc\\_inc\\_as\\_counts\\_DGE.csv       \\\\\n",
       "\t a918d8d065f85b24a787f6013f10881463c0d0975509a8a9ef50b7c2348dc527 & ./reduced\\_y.se.jc.inc\\_as\\_counts.rds                             \\\\\n",
       "\t 490afac0f9797126ea051b167f409bbc011a8bdbe190b991ce0da972c5424cbf & ./Cells-EBV-transformedlymphocytes\\_DGE.csv                      \\\\\n",
       "\t cbaf828b429e0ef03c87ffa4cd52f7daaf71b0175aae79283c22bb42bda42336 & ./Colon-Transverse\\_se\\_jc\\_inc\\_as\\_counts\\_DGE.csv                  \\\\\n",
       "\t daf29468f41a08053016310958de33d7b210e81c75a52d32c2e49ed17c9e1925 & ./Spleen\\_se\\_jc\\_inc\\_as\\_counts\\_DGE.csv                            \\\\\n",
       "\t 38307c2edf8434a57dc1113575887aafd735a529412046ba10f46c716fedcd2f & ./Brain-CerebellarHemisphere\\_DGE.csv                            \\\\\n",
       "\t 3c2b1e7b7d790226bf24fa1b87e59f2516b0439b37d738ce74e43879686650a1 & ./Breast-MammaryTissue\\_DGE.csv                                  \\\\\n",
       "\t 67f9d76fba4f2b7b147a03cba384841ad1480ae52a154696850e023870d20fea & ./Adipose-Subcutaneous\\_se\\_jc\\_inc\\_as\\_counts\\_DGE.csv              \\\\\n",
       "\t eae3f98905a92c8b723ffe85845fadf7f486bb1c5e17522aeb6e419e6005f1d4 & ./Esophagus-Mucosa\\_DGE.csv                                      \\\\\n",
       "\t 9b94ea1504ffee1f527adda116b8c0525d2d310d6a4e161dee08bea6c0bb3d21 & ./AdrenalGland\\_se\\_jc\\_inc\\_as\\_counts\\_DGE.csv                      \\\\\n",
       "\t 9b3dc61ad10508fa9d1e227975ad677e9014b8487590d27f6425e9063330a1e0 & ./Lung\\_se\\_jc\\_inc\\_as\\_counts\\_DGE.csv                              \\\\\n",
       "\t 2d353f064094a4aa5270f7653a85581520553e03b53f0712bf41934c85b21112 & ./Heart-AtrialAppendage\\_DGE.csv                                 \\\\\n",
       "\t efac2ae7129639f13e6c54135aa8f7b41651caf799b0d64209561a85d00e860b & ./Brain-CerebellarHemisphere\\_se\\_jc\\_inc\\_as\\_counts\\_DGE.csv        \\\\\n",
       "\t be53124f034b2e33e0868604b2ff8f8864af7427a39127229de888cb9b12420a & ./reduced\\_y.rds                                                 \\\\\n",
       "\t 0d608f15ef03b589bf111b15a84b67c96b80531cf217c314d005c6ce8f4ce1cf & ./Liver\\_DGE.csv                                                 \\\\\n",
       "\t 711f9ffa6b633dd2db3fd71de8bdcdde759d4493c7972d5a5b4a188e219afb07 & ./Esophagus-GastroesophagealJunction\\_se\\_jc\\_inc\\_as\\_counts\\_DGE.csv\\\\\n",
       "\t 1d057b2b0283a0f2541219ee1c3cb83c1e2aa650d007c04c8cd3bc39493e7bd0 & ./rmats\\_final.ri.jc.skiplen.txt.gz                              \\\\\n",
       "\t d802915847965a30ca0c8d6486dc4c8c5a64984c11aadeee8eb1d8484ba0b248 & ./rmats\\_final.se.jc.inc.txt.gz                                  \\\\\n",
       "\t d69d65a06c9f9824f7d9c5b57ba166d9f7f89b90ad1f609ce3d878c0d275812c & ./Thyroid\\_se\\_jc\\_inc\\_DGE.csv                                     \\\\\n",
       "\t 81f80daf0c22b6b1002b819e4fab72c3adf12aa8332a70b6a2d8a560b7ae5ea9 & ./MinorSalivaryGland\\_se\\_jc\\_inc\\_as\\_counts\\_DGE.csv                \\\\\n",
       "\t 28764f9f1e0f14e399d555e448b5490c7221454e7d34d220f79b537376ca017b & ./fromGTF.novelEvents.SE.txt                                    \\\\\n",
       "\t fd258e795ef0128caa7234bbd83131720db2896e7481854b062ec7be085a961e & ./Nerve-Tibial\\_DGE.csv                                          \\\\\n",
       "\t 344d2c904adc99bd3bd715266ebe05088aefbd32f1d75ecfaad74fec110133fd & ./Esophagus-Muscularis\\_se\\_jc\\_inc\\_as\\_counts\\_DGE.csv              \\\\\n",
       "\t 86f3a2b104b1ffe297df668b0b0e1e4d5f61836c3ad8a574b89bf24a090ca9c0 & ./rmats\\_final.ri.jc.sjc.txt.gz                                  \\\\\n",
       "\t 4b9cffb76cf84c41025b5909bfe75270c6d504a404d42cba631053e9f6ecd69b & ./Brain-Anteriorcingulatecortex(BA24)\\_DGE.csv                   \\\\\n",
       "\t 85acd073d8742ef4a680a10ed509ccf6779f9fbfa86fb3fd2c5629ddfa7094dd & ./rmats\\_final.a5ss.jc.skiplen.txt.gz                            \\\\\n",
       "\t ⋮ & ⋮\\\\\n",
       "\t 4cff41064f29fe16e0b549eec5ffb59e4eae38efe548d6d4692042e9ad2204a4 & ./rmats\\_final.a5ss.jcec.inclen.txt.gz                       \\\\\n",
       "\t d7639443651c3b508772ee89728f8ab41d62414672c41e68a78947be14e07cd6 & ./rmats\\_final.se.jcec.sjc.txt.gz                            \\\\\n",
       "\t 22cb3faa337ae24b7b423a985fd2056047400eccb83b716eff2e33cce9159e53 & ./fromGTF.SE.txt                                            \\\\\n",
       "\t fdcaf28412c4a9be6de6c7e47c1d28e4d986a44c3d86ee96cae107872954f6ef & ./rmats\\_final.a3ss.jcec.inc.txt.gz                          \\\\\n",
       "\t 7239a05424eed9822b2fe2ba9ce1a3894c1aab5f895f9e39a540b36cf0598fae & ./rmats\\_final.ri.jc.ijc.txt.gz                              \\\\\n",
       "\t 88520b1bc33869bd8efaa3984c95cf855e04df122648bc109d00d5821debbd6e & ./Colon-Sigmoid\\_DGE.csv                                     \\\\\n",
       "\t 4c7d1f1a9dbcfd148025fcd727c22e9ce12f6bbf3d94dcf898e0daebd54f7dba & ./Esophagus-Muscularis\\_DGE.csv                              \\\\\n",
       "\t c277ab764b652e8d65e07277df72933fee465806a5e6c1b018509f868ccfddad & ./fromGTF.A5SS.txt                                          \\\\\n",
       "\t 51975d86053bfa441c941a6a8a5208d08640cd24f708bced1a1d5aa43d3117ed & ./rmats\\_final.mxe.jcec.sjc.txt.gz                           \\\\\n",
       "\t aee4faefee801e4bca5b2250fc0914c1f024404f5df525b617f920f2f80f9729 & ./Lung\\_DGE.csv                                              \\\\\n",
       "\t 3e1a88ddc110bf83c566907703b2022d36054bfcc72b131b7fd9efea142ffa11 & ./Cells-Culturedfibroblasts\\_DGE.csv                         \\\\\n",
       "\t ec941ebc9647caa1ff89e9b9c25fa87fab618865076b8b2794d7f35b8e2fea4d & ./rmats\\_final.a5ss.jc.sjc.txt.gz                            \\\\\n",
       "\t c1b1a840d09dd9e8fa9cb53694587b9bab50a04c9faa6a24597081e5db61c553 & ./Brain-Spinalcord(cervicalc-1)\\_se\\_jc\\_inc\\_as\\_counts\\_DGE.csv \\\\\n",
       "\t a2424d8ba1e4752524d36802786d401d70dd4b04501b09f961a69295e08eac47 & ./rmats\\_final.mxe.jc.inclen.txt.gz                          \\\\\n",
       "\t 11b73d5a25dc6667529da47bf5bbfd6aa9f1dedfa628702a3a536d243685904f & ./rmats\\_final.mxe.jc.ijc.txt.gz                             \\\\\n",
       "\t 6e3f1d335ce05c887363d092b0100b9f3603a964c8fe6e8c20f4c547b4f52280 & ./fromGTF.novelEvents.MXE.txt                               \\\\\n",
       "\t 51c8250a1796196e3879d88186c5450e5b5efc1e9f3fa578f388e9ff380e2deb & ./fromGTF.A3SS.txt                                          \\\\\n",
       "\t 2c1b558cdd3a2c6bffac32a58f9335f6722728e439cbe916c10cf7b766c006b1 & ./Adipose-Subcutaneous\\_DGE.csv                              \\\\\n",
       "\t 1f652eb50bdc2d60e29d0b87c7e8fdfc964a6488dfc882f6d18e98781c139f6b & ./Brain-Cortex\\_se\\_jc\\_inc\\_as\\_counts\\_DGE.csv                  \\\\\n",
       "\t dbb63d775973e415ecb283d602c53bc0301b60858a54a1ef787b6f992921ed54 & ./Brain-Hypothalamus\\_se\\_jc\\_inc\\_as\\_counts\\_DGE.csv            \\\\\n",
       "\t 454d0369cbf3441c6474749c3cc26caf39dac7238d9d0981898cc0ebee9747d5 & ./Colon-Transverse\\_DGE.csv                                  \\\\\n",
       "\t 5cf99b4abc23ce9f5d68fbad06f2c1778da9928df04247ee6a7524b7fa396ce6 & ./rmats\\_final.se.jc.inclen.txt.gz                           \\\\\n",
       "\t 4ad589d8fcf6a88226e61dec1f541f244e60fcb8cbcc2a4bd7d07cdc0ade5274 & ./rmats\\_final.mxe.jc.inc.txt.gz                             \\\\\n",
       "\t 171965d1f008769a85768fe6a03326756f4cccfddf093841b4cfa0dd9f9c674e & ./rmats\\_final.mxe.jc.sjc.txt.gz                             \\\\\n",
       "\t d9ffef4ed51d44e60867a1c1c12569d23901435e20f83c681fec3bf2862bbf6f & ./Artery-Coronary\\_DGE.csv                                   \\\\\n",
       "\t 38066d36b564ab7869f5c5651fc0b3ec466d6b57fe9faa96a7a0d959afb5ab80 & ./Skin-NotSunExposed(Suprapubic)\\_se\\_jc\\_inc\\_as\\_counts\\_DGE.csv\\\\\n",
       "\t 1f25799df2650de10c54b5beac57cbc09c3289ded6d8600e98bcd3af9896d7cf & ./Brain-Hypothalamus\\_DGE.csv                                \\\\\n",
       "\t 0c1f8cc1de30d945454549cd680bb38e5a2663ab4167cb5c20490e72fefef81f & ./Brain-Hippocampus\\_DGE.csv                                 \\\\\n",
       "\t afac698dd2ede36d3f7ba1a98f94893fb528e15664fe0c7b0e535fab7629ebbd & ./Bladder\\_DGE.csv                                           \\\\\n",
       "\t 825542621772c3a31447cab2898593341cf0d748336c5e33ff0094d8b8f109ff & ./Muscle-Skeletal\\_se\\_jc\\_inc\\_as\\_counts\\_DGE.csv               \\\\\n",
       "\\end{tabular}\n"
      ],
      "text/markdown": [
       "\n",
       "A data.table: 162 × 2\n",
       "\n",
       "| sha256sum &lt;chr&gt; | file &lt;chr&gt; |\n",
       "|---|---|\n",
       "| 80301ccdc5323e378d1a2e644360762b44c2a53f8d96ca26f6c4fc0ea03ca452 | ./Heart-LeftVentricle_se_jc_inc_as_counts_DGE.csv                |\n",
       "| ebe1713963cd88e7bb2ac961e7d7209b38d2b0e8136b28fe4425ac8d04ad0b18 | ./rmats_final.mxe.jcec.skiplen.txt.gz                            |\n",
       "| a69a0f72121d0746e015da13a23aea6a46a05691b1f90cf0177a1b77c5f49de1 | ./Colon-Sigmoid_se_jc_inc_as_counts_DGE.csv                      |\n",
       "| 43096e5730db80217eb9869b25c60bd5336061801cea02009bd646e241b487a8 | ./Brain-FrontalCortex(BA9)_se_jc_inc_as_counts_DGE.csv           |\n",
       "| 76796c62a25075899ff58ee7b5258b59bdf4eb1b42242579afd86eb9a4cfd10d | ./Brain-Putamen(basalganglia)_se_jc_inc_as_counts_DGE.csv        |\n",
       "| a918d8d065f85b24a787f6013f10881463c0d0975509a8a9ef50b7c2348dc527 | ./reduced_y.se.jc.inc_as_counts.rds                              |\n",
       "| 490afac0f9797126ea051b167f409bbc011a8bdbe190b991ce0da972c5424cbf | ./Cells-EBV-transformedlymphocytes_DGE.csv                       |\n",
       "| cbaf828b429e0ef03c87ffa4cd52f7daaf71b0175aae79283c22bb42bda42336 | ./Colon-Transverse_se_jc_inc_as_counts_DGE.csv                   |\n",
       "| daf29468f41a08053016310958de33d7b210e81c75a52d32c2e49ed17c9e1925 | ./Spleen_se_jc_inc_as_counts_DGE.csv                             |\n",
       "| 38307c2edf8434a57dc1113575887aafd735a529412046ba10f46c716fedcd2f | ./Brain-CerebellarHemisphere_DGE.csv                             |\n",
       "| 3c2b1e7b7d790226bf24fa1b87e59f2516b0439b37d738ce74e43879686650a1 | ./Breast-MammaryTissue_DGE.csv                                   |\n",
       "| 67f9d76fba4f2b7b147a03cba384841ad1480ae52a154696850e023870d20fea | ./Adipose-Subcutaneous_se_jc_inc_as_counts_DGE.csv               |\n",
       "| eae3f98905a92c8b723ffe85845fadf7f486bb1c5e17522aeb6e419e6005f1d4 | ./Esophagus-Mucosa_DGE.csv                                       |\n",
       "| 9b94ea1504ffee1f527adda116b8c0525d2d310d6a4e161dee08bea6c0bb3d21 | ./AdrenalGland_se_jc_inc_as_counts_DGE.csv                       |\n",
       "| 9b3dc61ad10508fa9d1e227975ad677e9014b8487590d27f6425e9063330a1e0 | ./Lung_se_jc_inc_as_counts_DGE.csv                               |\n",
       "| 2d353f064094a4aa5270f7653a85581520553e03b53f0712bf41934c85b21112 | ./Heart-AtrialAppendage_DGE.csv                                  |\n",
       "| efac2ae7129639f13e6c54135aa8f7b41651caf799b0d64209561a85d00e860b | ./Brain-CerebellarHemisphere_se_jc_inc_as_counts_DGE.csv         |\n",
       "| be53124f034b2e33e0868604b2ff8f8864af7427a39127229de888cb9b12420a | ./reduced_y.rds                                                  |\n",
       "| 0d608f15ef03b589bf111b15a84b67c96b80531cf217c314d005c6ce8f4ce1cf | ./Liver_DGE.csv                                                  |\n",
       "| 711f9ffa6b633dd2db3fd71de8bdcdde759d4493c7972d5a5b4a188e219afb07 | ./Esophagus-GastroesophagealJunction_se_jc_inc_as_counts_DGE.csv |\n",
       "| 1d057b2b0283a0f2541219ee1c3cb83c1e2aa650d007c04c8cd3bc39493e7bd0 | ./rmats_final.ri.jc.skiplen.txt.gz                               |\n",
       "| d802915847965a30ca0c8d6486dc4c8c5a64984c11aadeee8eb1d8484ba0b248 | ./rmats_final.se.jc.inc.txt.gz                                   |\n",
       "| d69d65a06c9f9824f7d9c5b57ba166d9f7f89b90ad1f609ce3d878c0d275812c | ./Thyroid_se_jc_inc_DGE.csv                                      |\n",
       "| 81f80daf0c22b6b1002b819e4fab72c3adf12aa8332a70b6a2d8a560b7ae5ea9 | ./MinorSalivaryGland_se_jc_inc_as_counts_DGE.csv                 |\n",
       "| 28764f9f1e0f14e399d555e448b5490c7221454e7d34d220f79b537376ca017b | ./fromGTF.novelEvents.SE.txt                                     |\n",
       "| fd258e795ef0128caa7234bbd83131720db2896e7481854b062ec7be085a961e | ./Nerve-Tibial_DGE.csv                                           |\n",
       "| 344d2c904adc99bd3bd715266ebe05088aefbd32f1d75ecfaad74fec110133fd | ./Esophagus-Muscularis_se_jc_inc_as_counts_DGE.csv               |\n",
       "| 86f3a2b104b1ffe297df668b0b0e1e4d5f61836c3ad8a574b89bf24a090ca9c0 | ./rmats_final.ri.jc.sjc.txt.gz                                   |\n",
       "| 4b9cffb76cf84c41025b5909bfe75270c6d504a404d42cba631053e9f6ecd69b | ./Brain-Anteriorcingulatecortex(BA24)_DGE.csv                    |\n",
       "| 85acd073d8742ef4a680a10ed509ccf6779f9fbfa86fb3fd2c5629ddfa7094dd | ./rmats_final.a5ss.jc.skiplen.txt.gz                             |\n",
       "| ⋮ | ⋮ |\n",
       "| 4cff41064f29fe16e0b549eec5ffb59e4eae38efe548d6d4692042e9ad2204a4 | ./rmats_final.a5ss.jcec.inclen.txt.gz                        |\n",
       "| d7639443651c3b508772ee89728f8ab41d62414672c41e68a78947be14e07cd6 | ./rmats_final.se.jcec.sjc.txt.gz                             |\n",
       "| 22cb3faa337ae24b7b423a985fd2056047400eccb83b716eff2e33cce9159e53 | ./fromGTF.SE.txt                                             |\n",
       "| fdcaf28412c4a9be6de6c7e47c1d28e4d986a44c3d86ee96cae107872954f6ef | ./rmats_final.a3ss.jcec.inc.txt.gz                           |\n",
       "| 7239a05424eed9822b2fe2ba9ce1a3894c1aab5f895f9e39a540b36cf0598fae | ./rmats_final.ri.jc.ijc.txt.gz                               |\n",
       "| 88520b1bc33869bd8efaa3984c95cf855e04df122648bc109d00d5821debbd6e | ./Colon-Sigmoid_DGE.csv                                      |\n",
       "| 4c7d1f1a9dbcfd148025fcd727c22e9ce12f6bbf3d94dcf898e0daebd54f7dba | ./Esophagus-Muscularis_DGE.csv                               |\n",
       "| c277ab764b652e8d65e07277df72933fee465806a5e6c1b018509f868ccfddad | ./fromGTF.A5SS.txt                                           |\n",
       "| 51975d86053bfa441c941a6a8a5208d08640cd24f708bced1a1d5aa43d3117ed | ./rmats_final.mxe.jcec.sjc.txt.gz                            |\n",
       "| aee4faefee801e4bca5b2250fc0914c1f024404f5df525b617f920f2f80f9729 | ./Lung_DGE.csv                                               |\n",
       "| 3e1a88ddc110bf83c566907703b2022d36054bfcc72b131b7fd9efea142ffa11 | ./Cells-Culturedfibroblasts_DGE.csv                          |\n",
       "| ec941ebc9647caa1ff89e9b9c25fa87fab618865076b8b2794d7f35b8e2fea4d | ./rmats_final.a5ss.jc.sjc.txt.gz                             |\n",
       "| c1b1a840d09dd9e8fa9cb53694587b9bab50a04c9faa6a24597081e5db61c553 | ./Brain-Spinalcord(cervicalc-1)_se_jc_inc_as_counts_DGE.csv  |\n",
       "| a2424d8ba1e4752524d36802786d401d70dd4b04501b09f961a69295e08eac47 | ./rmats_final.mxe.jc.inclen.txt.gz                           |\n",
       "| 11b73d5a25dc6667529da47bf5bbfd6aa9f1dedfa628702a3a536d243685904f | ./rmats_final.mxe.jc.ijc.txt.gz                              |\n",
       "| 6e3f1d335ce05c887363d092b0100b9f3603a964c8fe6e8c20f4c547b4f52280 | ./fromGTF.novelEvents.MXE.txt                                |\n",
       "| 51c8250a1796196e3879d88186c5450e5b5efc1e9f3fa578f388e9ff380e2deb | ./fromGTF.A3SS.txt                                           |\n",
       "| 2c1b558cdd3a2c6bffac32a58f9335f6722728e439cbe916c10cf7b766c006b1 | ./Adipose-Subcutaneous_DGE.csv                               |\n",
       "| 1f652eb50bdc2d60e29d0b87c7e8fdfc964a6488dfc882f6d18e98781c139f6b | ./Brain-Cortex_se_jc_inc_as_counts_DGE.csv                   |\n",
       "| dbb63d775973e415ecb283d602c53bc0301b60858a54a1ef787b6f992921ed54 | ./Brain-Hypothalamus_se_jc_inc_as_counts_DGE.csv             |\n",
       "| 454d0369cbf3441c6474749c3cc26caf39dac7238d9d0981898cc0ebee9747d5 | ./Colon-Transverse_DGE.csv                                   |\n",
       "| 5cf99b4abc23ce9f5d68fbad06f2c1778da9928df04247ee6a7524b7fa396ce6 | ./rmats_final.se.jc.inclen.txt.gz                            |\n",
       "| 4ad589d8fcf6a88226e61dec1f541f244e60fcb8cbcc2a4bd7d07cdc0ade5274 | ./rmats_final.mxe.jc.inc.txt.gz                              |\n",
       "| 171965d1f008769a85768fe6a03326756f4cccfddf093841b4cfa0dd9f9c674e | ./rmats_final.mxe.jc.sjc.txt.gz                              |\n",
       "| d9ffef4ed51d44e60867a1c1c12569d23901435e20f83c681fec3bf2862bbf6f | ./Artery-Coronary_DGE.csv                                    |\n",
       "| 38066d36b564ab7869f5c5651fc0b3ec466d6b57fe9faa96a7a0d959afb5ab80 | ./Skin-NotSunExposed(Suprapubic)_se_jc_inc_as_counts_DGE.csv |\n",
       "| 1f25799df2650de10c54b5beac57cbc09c3289ded6d8600e98bcd3af9896d7cf | ./Brain-Hypothalamus_DGE.csv                                 |\n",
       "| 0c1f8cc1de30d945454549cd680bb38e5a2663ab4167cb5c20490e72fefef81f | ./Brain-Hippocampus_DGE.csv                                  |\n",
       "| afac698dd2ede36d3f7ba1a98f94893fb528e15664fe0c7b0e535fab7629ebbd | ./Bladder_DGE.csv                                            |\n",
       "| 825542621772c3a31447cab2898593341cf0d748336c5e33ff0094d8b8f109ff | ./Muscle-Skeletal_se_jc_inc_as_counts_DGE.csv                |\n",
       "\n"
      ],
      "text/plain": [
       "    sha256sum                                                       \n",
       "1   80301ccdc5323e378d1a2e644360762b44c2a53f8d96ca26f6c4fc0ea03ca452\n",
       "2   ebe1713963cd88e7bb2ac961e7d7209b38d2b0e8136b28fe4425ac8d04ad0b18\n",
       "3   a69a0f72121d0746e015da13a23aea6a46a05691b1f90cf0177a1b77c5f49de1\n",
       "4   43096e5730db80217eb9869b25c60bd5336061801cea02009bd646e241b487a8\n",
       "5   76796c62a25075899ff58ee7b5258b59bdf4eb1b42242579afd86eb9a4cfd10d\n",
       "6   a918d8d065f85b24a787f6013f10881463c0d0975509a8a9ef50b7c2348dc527\n",
       "7   490afac0f9797126ea051b167f409bbc011a8bdbe190b991ce0da972c5424cbf\n",
       "8   cbaf828b429e0ef03c87ffa4cd52f7daaf71b0175aae79283c22bb42bda42336\n",
       "9   daf29468f41a08053016310958de33d7b210e81c75a52d32c2e49ed17c9e1925\n",
       "10  38307c2edf8434a57dc1113575887aafd735a529412046ba10f46c716fedcd2f\n",
       "11  3c2b1e7b7d790226bf24fa1b87e59f2516b0439b37d738ce74e43879686650a1\n",
       "12  67f9d76fba4f2b7b147a03cba384841ad1480ae52a154696850e023870d20fea\n",
       "13  eae3f98905a92c8b723ffe85845fadf7f486bb1c5e17522aeb6e419e6005f1d4\n",
       "14  9b94ea1504ffee1f527adda116b8c0525d2d310d6a4e161dee08bea6c0bb3d21\n",
       "15  9b3dc61ad10508fa9d1e227975ad677e9014b8487590d27f6425e9063330a1e0\n",
       "16  2d353f064094a4aa5270f7653a85581520553e03b53f0712bf41934c85b21112\n",
       "17  efac2ae7129639f13e6c54135aa8f7b41651caf799b0d64209561a85d00e860b\n",
       "18  be53124f034b2e33e0868604b2ff8f8864af7427a39127229de888cb9b12420a\n",
       "19  0d608f15ef03b589bf111b15a84b67c96b80531cf217c314d005c6ce8f4ce1cf\n",
       "20  711f9ffa6b633dd2db3fd71de8bdcdde759d4493c7972d5a5b4a188e219afb07\n",
       "21  1d057b2b0283a0f2541219ee1c3cb83c1e2aa650d007c04c8cd3bc39493e7bd0\n",
       "22  d802915847965a30ca0c8d6486dc4c8c5a64984c11aadeee8eb1d8484ba0b248\n",
       "23  d69d65a06c9f9824f7d9c5b57ba166d9f7f89b90ad1f609ce3d878c0d275812c\n",
       "24  81f80daf0c22b6b1002b819e4fab72c3adf12aa8332a70b6a2d8a560b7ae5ea9\n",
       "25  28764f9f1e0f14e399d555e448b5490c7221454e7d34d220f79b537376ca017b\n",
       "26  fd258e795ef0128caa7234bbd83131720db2896e7481854b062ec7be085a961e\n",
       "27  344d2c904adc99bd3bd715266ebe05088aefbd32f1d75ecfaad74fec110133fd\n",
       "28  86f3a2b104b1ffe297df668b0b0e1e4d5f61836c3ad8a574b89bf24a090ca9c0\n",
       "29  4b9cffb76cf84c41025b5909bfe75270c6d504a404d42cba631053e9f6ecd69b\n",
       "30  85acd073d8742ef4a680a10ed509ccf6779f9fbfa86fb3fd2c5629ddfa7094dd\n",
       "⋮   ⋮                                                               \n",
       "133 4cff41064f29fe16e0b549eec5ffb59e4eae38efe548d6d4692042e9ad2204a4\n",
       "134 d7639443651c3b508772ee89728f8ab41d62414672c41e68a78947be14e07cd6\n",
       "135 22cb3faa337ae24b7b423a985fd2056047400eccb83b716eff2e33cce9159e53\n",
       "136 fdcaf28412c4a9be6de6c7e47c1d28e4d986a44c3d86ee96cae107872954f6ef\n",
       "137 7239a05424eed9822b2fe2ba9ce1a3894c1aab5f895f9e39a540b36cf0598fae\n",
       "138 88520b1bc33869bd8efaa3984c95cf855e04df122648bc109d00d5821debbd6e\n",
       "139 4c7d1f1a9dbcfd148025fcd727c22e9ce12f6bbf3d94dcf898e0daebd54f7dba\n",
       "140 c277ab764b652e8d65e07277df72933fee465806a5e6c1b018509f868ccfddad\n",
       "141 51975d86053bfa441c941a6a8a5208d08640cd24f708bced1a1d5aa43d3117ed\n",
       "142 aee4faefee801e4bca5b2250fc0914c1f024404f5df525b617f920f2f80f9729\n",
       "143 3e1a88ddc110bf83c566907703b2022d36054bfcc72b131b7fd9efea142ffa11\n",
       "144 ec941ebc9647caa1ff89e9b9c25fa87fab618865076b8b2794d7f35b8e2fea4d\n",
       "145 c1b1a840d09dd9e8fa9cb53694587b9bab50a04c9faa6a24597081e5db61c553\n",
       "146 a2424d8ba1e4752524d36802786d401d70dd4b04501b09f961a69295e08eac47\n",
       "147 11b73d5a25dc6667529da47bf5bbfd6aa9f1dedfa628702a3a536d243685904f\n",
       "148 6e3f1d335ce05c887363d092b0100b9f3603a964c8fe6e8c20f4c547b4f52280\n",
       "149 51c8250a1796196e3879d88186c5450e5b5efc1e9f3fa578f388e9ff380e2deb\n",
       "150 2c1b558cdd3a2c6bffac32a58f9335f6722728e439cbe916c10cf7b766c006b1\n",
       "151 1f652eb50bdc2d60e29d0b87c7e8fdfc964a6488dfc882f6d18e98781c139f6b\n",
       "152 dbb63d775973e415ecb283d602c53bc0301b60858a54a1ef787b6f992921ed54\n",
       "153 454d0369cbf3441c6474749c3cc26caf39dac7238d9d0981898cc0ebee9747d5\n",
       "154 5cf99b4abc23ce9f5d68fbad06f2c1778da9928df04247ee6a7524b7fa396ce6\n",
       "155 4ad589d8fcf6a88226e61dec1f541f244e60fcb8cbcc2a4bd7d07cdc0ade5274\n",
       "156 171965d1f008769a85768fe6a03326756f4cccfddf093841b4cfa0dd9f9c674e\n",
       "157 d9ffef4ed51d44e60867a1c1c12569d23901435e20f83c681fec3bf2862bbf6f\n",
       "158 38066d36b564ab7869f5c5651fc0b3ec466d6b57fe9faa96a7a0d959afb5ab80\n",
       "159 1f25799df2650de10c54b5beac57cbc09c3289ded6d8600e98bcd3af9896d7cf\n",
       "160 0c1f8cc1de30d945454549cd680bb38e5a2663ab4167cb5c20490e72fefef81f\n",
       "161 afac698dd2ede36d3f7ba1a98f94893fb528e15664fe0c7b0e535fab7629ebbd\n",
       "162 825542621772c3a31447cab2898593341cf0d748336c5e33ff0094d8b8f109ff\n",
       "    file                                                            \n",
       "1   ./Heart-LeftVentricle_se_jc_inc_as_counts_DGE.csv               \n",
       "2   ./rmats_final.mxe.jcec.skiplen.txt.gz                           \n",
       "3   ./Colon-Sigmoid_se_jc_inc_as_counts_DGE.csv                     \n",
       "4   ./Brain-FrontalCortex(BA9)_se_jc_inc_as_counts_DGE.csv          \n",
       "5   ./Brain-Putamen(basalganglia)_se_jc_inc_as_counts_DGE.csv       \n",
       "6   ./reduced_y.se.jc.inc_as_counts.rds                             \n",
       "7   ./Cells-EBV-transformedlymphocytes_DGE.csv                      \n",
       "8   ./Colon-Transverse_se_jc_inc_as_counts_DGE.csv                  \n",
       "9   ./Spleen_se_jc_inc_as_counts_DGE.csv                            \n",
       "10  ./Brain-CerebellarHemisphere_DGE.csv                            \n",
       "11  ./Breast-MammaryTissue_DGE.csv                                  \n",
       "12  ./Adipose-Subcutaneous_se_jc_inc_as_counts_DGE.csv              \n",
       "13  ./Esophagus-Mucosa_DGE.csv                                      \n",
       "14  ./AdrenalGland_se_jc_inc_as_counts_DGE.csv                      \n",
       "15  ./Lung_se_jc_inc_as_counts_DGE.csv                              \n",
       "16  ./Heart-AtrialAppendage_DGE.csv                                 \n",
       "17  ./Brain-CerebellarHemisphere_se_jc_inc_as_counts_DGE.csv        \n",
       "18  ./reduced_y.rds                                                 \n",
       "19  ./Liver_DGE.csv                                                 \n",
       "20  ./Esophagus-GastroesophagealJunction_se_jc_inc_as_counts_DGE.csv\n",
       "21  ./rmats_final.ri.jc.skiplen.txt.gz                              \n",
       "22  ./rmats_final.se.jc.inc.txt.gz                                  \n",
       "23  ./Thyroid_se_jc_inc_DGE.csv                                     \n",
       "24  ./MinorSalivaryGland_se_jc_inc_as_counts_DGE.csv                \n",
       "25  ./fromGTF.novelEvents.SE.txt                                    \n",
       "26  ./Nerve-Tibial_DGE.csv                                          \n",
       "27  ./Esophagus-Muscularis_se_jc_inc_as_counts_DGE.csv              \n",
       "28  ./rmats_final.ri.jc.sjc.txt.gz                                  \n",
       "29  ./Brain-Anteriorcingulatecortex(BA24)_DGE.csv                   \n",
       "30  ./rmats_final.a5ss.jc.skiplen.txt.gz                            \n",
       "⋮   ⋮                                                               \n",
       "133 ./rmats_final.a5ss.jcec.inclen.txt.gz                           \n",
       "134 ./rmats_final.se.jcec.sjc.txt.gz                                \n",
       "135 ./fromGTF.SE.txt                                                \n",
       "136 ./rmats_final.a3ss.jcec.inc.txt.gz                              \n",
       "137 ./rmats_final.ri.jc.ijc.txt.gz                                  \n",
       "138 ./Colon-Sigmoid_DGE.csv                                         \n",
       "139 ./Esophagus-Muscularis_DGE.csv                                  \n",
       "140 ./fromGTF.A5SS.txt                                              \n",
       "141 ./rmats_final.mxe.jcec.sjc.txt.gz                               \n",
       "142 ./Lung_DGE.csv                                                  \n",
       "143 ./Cells-Culturedfibroblasts_DGE.csv                             \n",
       "144 ./rmats_final.a5ss.jc.sjc.txt.gz                                \n",
       "145 ./Brain-Spinalcord(cervicalc-1)_se_jc_inc_as_counts_DGE.csv     \n",
       "146 ./rmats_final.mxe.jc.inclen.txt.gz                              \n",
       "147 ./rmats_final.mxe.jc.ijc.txt.gz                                 \n",
       "148 ./fromGTF.novelEvents.MXE.txt                                   \n",
       "149 ./fromGTF.A3SS.txt                                              \n",
       "150 ./Adipose-Subcutaneous_DGE.csv                                  \n",
       "151 ./Brain-Cortex_se_jc_inc_as_counts_DGE.csv                      \n",
       "152 ./Brain-Hypothalamus_se_jc_inc_as_counts_DGE.csv                \n",
       "153 ./Colon-Transverse_DGE.csv                                      \n",
       "154 ./rmats_final.se.jc.inclen.txt.gz                               \n",
       "155 ./rmats_final.mxe.jc.inc.txt.gz                                 \n",
       "156 ./rmats_final.mxe.jc.sjc.txt.gz                                 \n",
       "157 ./Artery-Coronary_DGE.csv                                       \n",
       "158 ./Skin-NotSunExposed(Suprapubic)_se_jc_inc_as_counts_DGE.csv    \n",
       "159 ./Brain-Hypothalamus_DGE.csv                                    \n",
       "160 ./Brain-Hippocampus_DGE.csv                                     \n",
       "161 ./Bladder_DGE.csv                                               \n",
       "162 ./Muscle-Skeletal_se_jc_inc_as_counts_DGE.csv                   "
      ]
     },
     "metadata": {},
     "output_type": "display_data"
    }
   ],
   "source": [
    "figure_id   = \"DEFigurewithrMATS\"\n",
    "\n",
    "message(\"Generating sha256 checksums of the artefacts in the `..data/` directory .. \")\n",
    "system(paste0(\"cd ../data && find . -type f -exec sha256sum {} \\\\;  >  ../metadata/\", figure_id, \"_sha256sums.txt\"), intern = TRUE)\n",
    "message(\"Done!\\n\")\n",
    "\n",
    "data.table::fread(paste0(\"../metadata/\", figure_id, \"_sha256sums.txt\"), header = FALSE, col.names = c(\"sha256sum\", \"file\"))"
   ]
  },
  {
   "cell_type": "markdown",
   "metadata": {},
   "source": [
    "### 2. Libraries metadata"
   ]
  },
  {
   "cell_type": "code",
   "execution_count": 67,
   "metadata": {},
   "outputs": [
    {
     "name": "stderr",
     "output_type": "stream",
     "text": [
      "Saving `devtools::session_info()` objects in ../metadata/devtools_session_info.rds  ..\n",
      "Done!\n",
      "\n",
      "Saving `utils::sessionInfo()` objects in ../metadata/utils_session_info.rds  ..\n",
      "Done!\n",
      "\n"
     ]
    },
    {
     "data": {
      "text/plain": [
       " setting  value                       \n",
       " version  R version 3.6.1 (2019-07-05)\n",
       " os       Ubuntu 18.04.3 LTS          \n",
       " system   x86_64, linux-gnu           \n",
       " ui       X11                         \n",
       " language en_US.UTF-8                 \n",
       " collate  en_US.UTF-8                 \n",
       " ctype    en_US.UTF-8                 \n",
       " tz       Etc/UTC                     \n",
       " date     2020-03-10                  "
      ]
     },
     "metadata": {},
     "output_type": "display_data"
    },
    {
     "data": {
      "text/html": [
       "<table>\n",
       "<caption>A packages_info: 22 × 11</caption>\n",
       "<thead>\n",
       "\t<tr><th></th><th scope=col>package</th><th scope=col>ondiskversion</th><th scope=col>loadedversion</th><th scope=col>path</th><th scope=col>loadedpath</th><th scope=col>attached</th><th scope=col>is_base</th><th scope=col>date</th><th scope=col>source</th><th scope=col>md5ok</th><th scope=col>library</th></tr>\n",
       "\t<tr><th></th><th scope=col>&lt;chr&gt;</th><th scope=col>&lt;chr&gt;</th><th scope=col>&lt;chr&gt;</th><th scope=col>&lt;chr&gt;</th><th scope=col>&lt;chr&gt;</th><th scope=col>&lt;lgl&gt;</th><th scope=col>&lt;lgl&gt;</th><th scope=col>&lt;chr&gt;</th><th scope=col>&lt;chr&gt;</th><th scope=col>&lt;lgl&gt;</th><th scope=col>&lt;fct&gt;</th></tr>\n",
       "</thead>\n",
       "<tbody>\n",
       "\t<tr><th scope=row>Biobase</th><td>Biobase     </td><td>2.46.0   </td><td>2.46.0   </td><td>/opt/conda/lib/R/library/Biobase     </td><td>/opt/conda/lib/R/library/Biobase     </td><td>TRUE</td><td>FALSE</td><td>2019-10-29</td><td>Bioconductor                              </td><td>NA</td><td>/opt/conda/lib/R/library</td></tr>\n",
       "\t<tr><th scope=row>BiocGenerics</th><td>BiocGenerics</td><td>0.32.0   </td><td>0.32.0   </td><td>/opt/conda/lib/R/library/BiocGenerics</td><td>/opt/conda/lib/R/library/BiocGenerics</td><td>TRUE</td><td>FALSE</td><td>2019-10-29</td><td>Bioconductor                              </td><td>NA</td><td>/opt/conda/lib/R/library</td></tr>\n",
       "\t<tr><th scope=row>biomaRt</th><td>biomaRt     </td><td>2.42.0   </td><td>2.42.0   </td><td>/opt/conda/lib/R/library/biomaRt     </td><td>/opt/conda/lib/R/library/biomaRt     </td><td>TRUE</td><td>FALSE</td><td>2019-10-29</td><td>Bioconductor                              </td><td>NA</td><td>/opt/conda/lib/R/library</td></tr>\n",
       "\t<tr><th scope=row>DBI</th><td>DBI         </td><td>1.1.0    </td><td>1.1.0    </td><td>/opt/conda/lib/R/library/DBI         </td><td>/opt/conda/lib/R/library/DBI         </td><td>TRUE</td><td>FALSE</td><td>2019-12-15</td><td>CRAN (R 3.6.2)                            </td><td>NA</td><td>/opt/conda/lib/R/library</td></tr>\n",
       "\t<tr><th scope=row>devtools</th><td>devtools    </td><td>2.0.2    </td><td>2.0.2    </td><td>/opt/conda/lib/R/library/devtools    </td><td>/opt/conda/lib/R/library/devtools    </td><td>TRUE</td><td>FALSE</td><td>2019-04-08</td><td>CRAN (R 3.6.0)                            </td><td>NA</td><td>/opt/conda/lib/R/library</td></tr>\n",
       "\t<tr><th scope=row>downloader</th><td>downloader  </td><td>0.4      </td><td>0.4      </td><td>/opt/conda/lib/R/library/downloader  </td><td>/opt/conda/lib/R/library/downloader  </td><td>TRUE</td><td>FALSE</td><td>2015-07-09</td><td>CRAN (R 3.6.1)                            </td><td>NA</td><td>/opt/conda/lib/R/library</td></tr>\n",
       "\t<tr><th scope=row>dplyr</th><td>dplyr       </td><td>0.8.4    </td><td>0.8.4    </td><td>/opt/conda/lib/R/library/dplyr       </td><td>/opt/conda/lib/R/library/dplyr       </td><td>TRUE</td><td>FALSE</td><td>2020-01-31</td><td>CRAN (R 3.6.2)                            </td><td>NA</td><td>/opt/conda/lib/R/library</td></tr>\n",
       "\t<tr><th scope=row>edgeR</th><td>edgeR       </td><td>3.28.1   </td><td>3.28.1   </td><td>/opt/conda/lib/R/library/edgeR       </td><td>/opt/conda/lib/R/library/edgeR       </td><td>TRUE</td><td>FALSE</td><td>2020-02-26</td><td>Bioconductor                              </td><td>NA</td><td>/opt/conda/lib/R/library</td></tr>\n",
       "\t<tr><th scope=row>ggplot2</th><td>ggplot2     </td><td>3.2.1    </td><td>3.2.1    </td><td>/opt/conda/lib/R/library/ggplot2     </td><td>/opt/conda/lib/R/library/ggplot2     </td><td>TRUE</td><td>FALSE</td><td>2019-08-10</td><td>CRAN (R 3.6.1)                            </td><td>NA</td><td>/opt/conda/lib/R/library</td></tr>\n",
       "\t<tr><th scope=row>limma</th><td>limma       </td><td>3.42.0   </td><td>3.42.0   </td><td>/opt/conda/lib/R/library/limma       </td><td>/opt/conda/lib/R/library/limma       </td><td>TRUE</td><td>FALSE</td><td>2019-10-29</td><td>Bioconductor                              </td><td>NA</td><td>/opt/conda/lib/R/library</td></tr>\n",
       "\t<tr><th scope=row>magrittr</th><td>magrittr    </td><td>1.5      </td><td>1.5      </td><td>/opt/conda/lib/R/library/magrittr    </td><td>/opt/conda/lib/R/library/magrittr    </td><td>TRUE</td><td>FALSE</td><td>2014-11-22</td><td>CRAN (R 3.6.1)                            </td><td>NA</td><td>/opt/conda/lib/R/library</td></tr>\n",
       "\t<tr><th scope=row>pheatmap</th><td>pheatmap    </td><td>1.0.12   </td><td>1.0.12   </td><td>/opt/conda/lib/R/library/pheatmap    </td><td>/opt/conda/lib/R/library/pheatmap    </td><td>TRUE</td><td>FALSE</td><td>2019-01-04</td><td>CRAN (R 3.6.1)                            </td><td>NA</td><td>/opt/conda/lib/R/library</td></tr>\n",
       "\t<tr><th scope=row>piggyback</th><td>piggyback   </td><td>0.0.10.99</td><td>0.0.10.99</td><td>/opt/conda/lib/R/library/piggyback   </td><td>/opt/conda/lib/R/library/piggyback   </td><td>TRUE</td><td>FALSE</td><td>2020-03-10</td><td>Github (ropensci/piggyback@87f71e8)       </td><td>NA</td><td>/opt/conda/lib/R/library</td></tr>\n",
       "\t<tr><th scope=row>readr</th><td>readr       </td><td>1.3.1    </td><td>1.3.1    </td><td>/opt/conda/lib/R/library/readr       </td><td>/opt/conda/lib/R/library/readr       </td><td>TRUE</td><td>FALSE</td><td>2018-12-21</td><td>CRAN (R 3.6.1)                            </td><td>NA</td><td>/opt/conda/lib/R/library</td></tr>\n",
       "\t<tr><th scope=row>scales</th><td>scales      </td><td>1.1.0    </td><td>1.1.0    </td><td>/opt/conda/lib/R/library/scales      </td><td>/opt/conda/lib/R/library/scales      </td><td>TRUE</td><td>FALSE</td><td>2019-11-18</td><td>CRAN (R 3.6.1)                            </td><td>NA</td><td>/opt/conda/lib/R/library</td></tr>\n",
       "\t<tr><th scope=row>snakecase</th><td>snakecase   </td><td>0.11.0   </td><td>0.11.0   </td><td>/opt/conda/lib/R/library/snakecase   </td><td>/opt/conda/lib/R/library/snakecase   </td><td>TRUE</td><td>FALSE</td><td>2019-05-25</td><td>CRAN (R 3.6.1)                            </td><td>NA</td><td>/opt/conda/lib/R/library</td></tr>\n",
       "\t<tr><th scope=row>statmod</th><td>statmod     </td><td>1.4.34   </td><td>1.4.34   </td><td>/opt/conda/lib/R/library/statmod     </td><td>/opt/conda/lib/R/library/statmod     </td><td>TRUE</td><td>FALSE</td><td>2020-02-17</td><td>CRAN (R 3.6.1)                            </td><td>NA</td><td>/opt/conda/lib/R/library</td></tr>\n",
       "\t<tr><th scope=row>stringr</th><td>stringr     </td><td>1.4.0    </td><td>1.4.0    </td><td>/opt/conda/lib/R/library/stringr     </td><td>/opt/conda/lib/R/library/stringr     </td><td>TRUE</td><td>FALSE</td><td>2019-02-10</td><td>CRAN (R 3.6.1)                            </td><td>NA</td><td>/opt/conda/lib/R/library</td></tr>\n",
       "\t<tr><th scope=row>usethis</th><td>usethis     </td><td>1.5.1    </td><td>1.5.1    </td><td>/opt/conda/lib/R/library/usethis     </td><td>/opt/conda/lib/R/library/usethis     </td><td>TRUE</td><td>FALSE</td><td>2019-07-04</td><td>CRAN (R 3.6.1)                            </td><td>NA</td><td>/opt/conda/lib/R/library</td></tr>\n",
       "\t<tr><th scope=row>viridis</th><td>viridis     </td><td>0.5.1    </td><td>0.5.1    </td><td>/opt/conda/lib/R/library/viridis     </td><td>/opt/conda/lib/R/library/viridis     </td><td>TRUE</td><td>FALSE</td><td>2018-03-29</td><td>CRAN (R 3.6.1)                            </td><td>NA</td><td>/opt/conda/lib/R/library</td></tr>\n",
       "\t<tr><th scope=row>viridisLite</th><td>viridisLite </td><td>0.3.0    </td><td>0.3.0    </td><td>/opt/conda/lib/R/library/viridisLite </td><td>/opt/conda/lib/R/library/viridisLite </td><td>TRUE</td><td>FALSE</td><td>2018-02-01</td><td>CRAN (R 3.6.1)                            </td><td>NA</td><td>/opt/conda/lib/R/library</td></tr>\n",
       "\t<tr><th scope=row>yarn</th><td>yarn        </td><td>1.13.1   </td><td>1.13.1   </td><td>/opt/conda/lib/R/library/yarn        </td><td>/opt/conda/lib/R/library/yarn        </td><td>TRUE</td><td>FALSE</td><td>2020-03-10</td><td>Github (TheJacksonLaboratory/yarn@3ff72c0)</td><td>NA</td><td>/opt/conda/lib/R/library</td></tr>\n",
       "</tbody>\n",
       "</table>\n"
      ],
      "text/latex": [
       "A packages\\_info: 22 × 11\n",
       "\\begin{tabular}{r|lllllllllll}\n",
       "  & package & ondiskversion & loadedversion & path & loadedpath & attached & is\\_base & date & source & md5ok & library\\\\\n",
       "  & <chr> & <chr> & <chr> & <chr> & <chr> & <lgl> & <lgl> & <chr> & <chr> & <lgl> & <fct>\\\\\n",
       "\\hline\n",
       "\tBiobase & Biobase      & 2.46.0    & 2.46.0    & /opt/conda/lib/R/library/Biobase      & /opt/conda/lib/R/library/Biobase      & TRUE & FALSE & 2019-10-29 & Bioconductor                               & NA & /opt/conda/lib/R/library\\\\\n",
       "\tBiocGenerics & BiocGenerics & 0.32.0    & 0.32.0    & /opt/conda/lib/R/library/BiocGenerics & /opt/conda/lib/R/library/BiocGenerics & TRUE & FALSE & 2019-10-29 & Bioconductor                               & NA & /opt/conda/lib/R/library\\\\\n",
       "\tbiomaRt & biomaRt      & 2.42.0    & 2.42.0    & /opt/conda/lib/R/library/biomaRt      & /opt/conda/lib/R/library/biomaRt      & TRUE & FALSE & 2019-10-29 & Bioconductor                               & NA & /opt/conda/lib/R/library\\\\\n",
       "\tDBI & DBI          & 1.1.0     & 1.1.0     & /opt/conda/lib/R/library/DBI          & /opt/conda/lib/R/library/DBI          & TRUE & FALSE & 2019-12-15 & CRAN (R 3.6.2)                             & NA & /opt/conda/lib/R/library\\\\\n",
       "\tdevtools & devtools     & 2.0.2     & 2.0.2     & /opt/conda/lib/R/library/devtools     & /opt/conda/lib/R/library/devtools     & TRUE & FALSE & 2019-04-08 & CRAN (R 3.6.0)                             & NA & /opt/conda/lib/R/library\\\\\n",
       "\tdownloader & downloader   & 0.4       & 0.4       & /opt/conda/lib/R/library/downloader   & /opt/conda/lib/R/library/downloader   & TRUE & FALSE & 2015-07-09 & CRAN (R 3.6.1)                             & NA & /opt/conda/lib/R/library\\\\\n",
       "\tdplyr & dplyr        & 0.8.4     & 0.8.4     & /opt/conda/lib/R/library/dplyr        & /opt/conda/lib/R/library/dplyr        & TRUE & FALSE & 2020-01-31 & CRAN (R 3.6.2)                             & NA & /opt/conda/lib/R/library\\\\\n",
       "\tedgeR & edgeR        & 3.28.1    & 3.28.1    & /opt/conda/lib/R/library/edgeR        & /opt/conda/lib/R/library/edgeR        & TRUE & FALSE & 2020-02-26 & Bioconductor                               & NA & /opt/conda/lib/R/library\\\\\n",
       "\tggplot2 & ggplot2      & 3.2.1     & 3.2.1     & /opt/conda/lib/R/library/ggplot2      & /opt/conda/lib/R/library/ggplot2      & TRUE & FALSE & 2019-08-10 & CRAN (R 3.6.1)                             & NA & /opt/conda/lib/R/library\\\\\n",
       "\tlimma & limma        & 3.42.0    & 3.42.0    & /opt/conda/lib/R/library/limma        & /opt/conda/lib/R/library/limma        & TRUE & FALSE & 2019-10-29 & Bioconductor                               & NA & /opt/conda/lib/R/library\\\\\n",
       "\tmagrittr & magrittr     & 1.5       & 1.5       & /opt/conda/lib/R/library/magrittr     & /opt/conda/lib/R/library/magrittr     & TRUE & FALSE & 2014-11-22 & CRAN (R 3.6.1)                             & NA & /opt/conda/lib/R/library\\\\\n",
       "\tpheatmap & pheatmap     & 1.0.12    & 1.0.12    & /opt/conda/lib/R/library/pheatmap     & /opt/conda/lib/R/library/pheatmap     & TRUE & FALSE & 2019-01-04 & CRAN (R 3.6.1)                             & NA & /opt/conda/lib/R/library\\\\\n",
       "\tpiggyback & piggyback    & 0.0.10.99 & 0.0.10.99 & /opt/conda/lib/R/library/piggyback    & /opt/conda/lib/R/library/piggyback    & TRUE & FALSE & 2020-03-10 & Github (ropensci/piggyback@87f71e8)        & NA & /opt/conda/lib/R/library\\\\\n",
       "\treadr & readr        & 1.3.1     & 1.3.1     & /opt/conda/lib/R/library/readr        & /opt/conda/lib/R/library/readr        & TRUE & FALSE & 2018-12-21 & CRAN (R 3.6.1)                             & NA & /opt/conda/lib/R/library\\\\\n",
       "\tscales & scales       & 1.1.0     & 1.1.0     & /opt/conda/lib/R/library/scales       & /opt/conda/lib/R/library/scales       & TRUE & FALSE & 2019-11-18 & CRAN (R 3.6.1)                             & NA & /opt/conda/lib/R/library\\\\\n",
       "\tsnakecase & snakecase    & 0.11.0    & 0.11.0    & /opt/conda/lib/R/library/snakecase    & /opt/conda/lib/R/library/snakecase    & TRUE & FALSE & 2019-05-25 & CRAN (R 3.6.1)                             & NA & /opt/conda/lib/R/library\\\\\n",
       "\tstatmod & statmod      & 1.4.34    & 1.4.34    & /opt/conda/lib/R/library/statmod      & /opt/conda/lib/R/library/statmod      & TRUE & FALSE & 2020-02-17 & CRAN (R 3.6.1)                             & NA & /opt/conda/lib/R/library\\\\\n",
       "\tstringr & stringr      & 1.4.0     & 1.4.0     & /opt/conda/lib/R/library/stringr      & /opt/conda/lib/R/library/stringr      & TRUE & FALSE & 2019-02-10 & CRAN (R 3.6.1)                             & NA & /opt/conda/lib/R/library\\\\\n",
       "\tusethis & usethis      & 1.5.1     & 1.5.1     & /opt/conda/lib/R/library/usethis      & /opt/conda/lib/R/library/usethis      & TRUE & FALSE & 2019-07-04 & CRAN (R 3.6.1)                             & NA & /opt/conda/lib/R/library\\\\\n",
       "\tviridis & viridis      & 0.5.1     & 0.5.1     & /opt/conda/lib/R/library/viridis      & /opt/conda/lib/R/library/viridis      & TRUE & FALSE & 2018-03-29 & CRAN (R 3.6.1)                             & NA & /opt/conda/lib/R/library\\\\\n",
       "\tviridisLite & viridisLite  & 0.3.0     & 0.3.0     & /opt/conda/lib/R/library/viridisLite  & /opt/conda/lib/R/library/viridisLite  & TRUE & FALSE & 2018-02-01 & CRAN (R 3.6.1)                             & NA & /opt/conda/lib/R/library\\\\\n",
       "\tyarn & yarn         & 1.13.1    & 1.13.1    & /opt/conda/lib/R/library/yarn         & /opt/conda/lib/R/library/yarn         & TRUE & FALSE & 2020-03-10 & Github (TheJacksonLaboratory/yarn@3ff72c0) & NA & /opt/conda/lib/R/library\\\\\n",
       "\\end{tabular}\n"
      ],
      "text/markdown": [
       "\n",
       "A packages_info: 22 × 11\n",
       "\n",
       "| <!--/--> | package &lt;chr&gt; | ondiskversion &lt;chr&gt; | loadedversion &lt;chr&gt; | path &lt;chr&gt; | loadedpath &lt;chr&gt; | attached &lt;lgl&gt; | is_base &lt;lgl&gt; | date &lt;chr&gt; | source &lt;chr&gt; | md5ok &lt;lgl&gt; | library &lt;fct&gt; |\n",
       "|---|---|---|---|---|---|---|---|---|---|---|---|\n",
       "| Biobase | Biobase      | 2.46.0    | 2.46.0    | /opt/conda/lib/R/library/Biobase      | /opt/conda/lib/R/library/Biobase      | TRUE | FALSE | 2019-10-29 | Bioconductor                               | NA | /opt/conda/lib/R/library |\n",
       "| BiocGenerics | BiocGenerics | 0.32.0    | 0.32.0    | /opt/conda/lib/R/library/BiocGenerics | /opt/conda/lib/R/library/BiocGenerics | TRUE | FALSE | 2019-10-29 | Bioconductor                               | NA | /opt/conda/lib/R/library |\n",
       "| biomaRt | biomaRt      | 2.42.0    | 2.42.0    | /opt/conda/lib/R/library/biomaRt      | /opt/conda/lib/R/library/biomaRt      | TRUE | FALSE | 2019-10-29 | Bioconductor                               | NA | /opt/conda/lib/R/library |\n",
       "| DBI | DBI          | 1.1.0     | 1.1.0     | /opt/conda/lib/R/library/DBI          | /opt/conda/lib/R/library/DBI          | TRUE | FALSE | 2019-12-15 | CRAN (R 3.6.2)                             | NA | /opt/conda/lib/R/library |\n",
       "| devtools | devtools     | 2.0.2     | 2.0.2     | /opt/conda/lib/R/library/devtools     | /opt/conda/lib/R/library/devtools     | TRUE | FALSE | 2019-04-08 | CRAN (R 3.6.0)                             | NA | /opt/conda/lib/R/library |\n",
       "| downloader | downloader   | 0.4       | 0.4       | /opt/conda/lib/R/library/downloader   | /opt/conda/lib/R/library/downloader   | TRUE | FALSE | 2015-07-09 | CRAN (R 3.6.1)                             | NA | /opt/conda/lib/R/library |\n",
       "| dplyr | dplyr        | 0.8.4     | 0.8.4     | /opt/conda/lib/R/library/dplyr        | /opt/conda/lib/R/library/dplyr        | TRUE | FALSE | 2020-01-31 | CRAN (R 3.6.2)                             | NA | /opt/conda/lib/R/library |\n",
       "| edgeR | edgeR        | 3.28.1    | 3.28.1    | /opt/conda/lib/R/library/edgeR        | /opt/conda/lib/R/library/edgeR        | TRUE | FALSE | 2020-02-26 | Bioconductor                               | NA | /opt/conda/lib/R/library |\n",
       "| ggplot2 | ggplot2      | 3.2.1     | 3.2.1     | /opt/conda/lib/R/library/ggplot2      | /opt/conda/lib/R/library/ggplot2      | TRUE | FALSE | 2019-08-10 | CRAN (R 3.6.1)                             | NA | /opt/conda/lib/R/library |\n",
       "| limma | limma        | 3.42.0    | 3.42.0    | /opt/conda/lib/R/library/limma        | /opt/conda/lib/R/library/limma        | TRUE | FALSE | 2019-10-29 | Bioconductor                               | NA | /opt/conda/lib/R/library |\n",
       "| magrittr | magrittr     | 1.5       | 1.5       | /opt/conda/lib/R/library/magrittr     | /opt/conda/lib/R/library/magrittr     | TRUE | FALSE | 2014-11-22 | CRAN (R 3.6.1)                             | NA | /opt/conda/lib/R/library |\n",
       "| pheatmap | pheatmap     | 1.0.12    | 1.0.12    | /opt/conda/lib/R/library/pheatmap     | /opt/conda/lib/R/library/pheatmap     | TRUE | FALSE | 2019-01-04 | CRAN (R 3.6.1)                             | NA | /opt/conda/lib/R/library |\n",
       "| piggyback | piggyback    | 0.0.10.99 | 0.0.10.99 | /opt/conda/lib/R/library/piggyback    | /opt/conda/lib/R/library/piggyback    | TRUE | FALSE | 2020-03-10 | Github (ropensci/piggyback@87f71e8)        | NA | /opt/conda/lib/R/library |\n",
       "| readr | readr        | 1.3.1     | 1.3.1     | /opt/conda/lib/R/library/readr        | /opt/conda/lib/R/library/readr        | TRUE | FALSE | 2018-12-21 | CRAN (R 3.6.1)                             | NA | /opt/conda/lib/R/library |\n",
       "| scales | scales       | 1.1.0     | 1.1.0     | /opt/conda/lib/R/library/scales       | /opt/conda/lib/R/library/scales       | TRUE | FALSE | 2019-11-18 | CRAN (R 3.6.1)                             | NA | /opt/conda/lib/R/library |\n",
       "| snakecase | snakecase    | 0.11.0    | 0.11.0    | /opt/conda/lib/R/library/snakecase    | /opt/conda/lib/R/library/snakecase    | TRUE | FALSE | 2019-05-25 | CRAN (R 3.6.1)                             | NA | /opt/conda/lib/R/library |\n",
       "| statmod | statmod      | 1.4.34    | 1.4.34    | /opt/conda/lib/R/library/statmod      | /opt/conda/lib/R/library/statmod      | TRUE | FALSE | 2020-02-17 | CRAN (R 3.6.1)                             | NA | /opt/conda/lib/R/library |\n",
       "| stringr | stringr      | 1.4.0     | 1.4.0     | /opt/conda/lib/R/library/stringr      | /opt/conda/lib/R/library/stringr      | TRUE | FALSE | 2019-02-10 | CRAN (R 3.6.1)                             | NA | /opt/conda/lib/R/library |\n",
       "| usethis | usethis      | 1.5.1     | 1.5.1     | /opt/conda/lib/R/library/usethis      | /opt/conda/lib/R/library/usethis      | TRUE | FALSE | 2019-07-04 | CRAN (R 3.6.1)                             | NA | /opt/conda/lib/R/library |\n",
       "| viridis | viridis      | 0.5.1     | 0.5.1     | /opt/conda/lib/R/library/viridis      | /opt/conda/lib/R/library/viridis      | TRUE | FALSE | 2018-03-29 | CRAN (R 3.6.1)                             | NA | /opt/conda/lib/R/library |\n",
       "| viridisLite | viridisLite  | 0.3.0     | 0.3.0     | /opt/conda/lib/R/library/viridisLite  | /opt/conda/lib/R/library/viridisLite  | TRUE | FALSE | 2018-02-01 | CRAN (R 3.6.1)                             | NA | /opt/conda/lib/R/library |\n",
       "| yarn | yarn         | 1.13.1    | 1.13.1    | /opt/conda/lib/R/library/yarn         | /opt/conda/lib/R/library/yarn         | TRUE | FALSE | 2020-03-10 | Github (TheJacksonLaboratory/yarn@3ff72c0) | NA | /opt/conda/lib/R/library |\n",
       "\n"
      ],
      "text/plain": [
       "             package      ondiskversion loadedversion\n",
       "Biobase      Biobase      2.46.0        2.46.0       \n",
       "BiocGenerics BiocGenerics 0.32.0        0.32.0       \n",
       "biomaRt      biomaRt      2.42.0        2.42.0       \n",
       "DBI          DBI          1.1.0         1.1.0        \n",
       "devtools     devtools     2.0.2         2.0.2        \n",
       "downloader   downloader   0.4           0.4          \n",
       "dplyr        dplyr        0.8.4         0.8.4        \n",
       "edgeR        edgeR        3.28.1        3.28.1       \n",
       "ggplot2      ggplot2      3.2.1         3.2.1        \n",
       "limma        limma        3.42.0        3.42.0       \n",
       "magrittr     magrittr     1.5           1.5          \n",
       "pheatmap     pheatmap     1.0.12        1.0.12       \n",
       "piggyback    piggyback    0.0.10.99     0.0.10.99    \n",
       "readr        readr        1.3.1         1.3.1        \n",
       "scales       scales       1.1.0         1.1.0        \n",
       "snakecase    snakecase    0.11.0        0.11.0       \n",
       "statmod      statmod      1.4.34        1.4.34       \n",
       "stringr      stringr      1.4.0         1.4.0        \n",
       "usethis      usethis      1.5.1         1.5.1        \n",
       "viridis      viridis      0.5.1         0.5.1        \n",
       "viridisLite  viridisLite  0.3.0         0.3.0        \n",
       "yarn         yarn         1.13.1        1.13.1       \n",
       "             path                                 \n",
       "Biobase      /opt/conda/lib/R/library/Biobase     \n",
       "BiocGenerics /opt/conda/lib/R/library/BiocGenerics\n",
       "biomaRt      /opt/conda/lib/R/library/biomaRt     \n",
       "DBI          /opt/conda/lib/R/library/DBI         \n",
       "devtools     /opt/conda/lib/R/library/devtools    \n",
       "downloader   /opt/conda/lib/R/library/downloader  \n",
       "dplyr        /opt/conda/lib/R/library/dplyr       \n",
       "edgeR        /opt/conda/lib/R/library/edgeR       \n",
       "ggplot2      /opt/conda/lib/R/library/ggplot2     \n",
       "limma        /opt/conda/lib/R/library/limma       \n",
       "magrittr     /opt/conda/lib/R/library/magrittr    \n",
       "pheatmap     /opt/conda/lib/R/library/pheatmap    \n",
       "piggyback    /opt/conda/lib/R/library/piggyback   \n",
       "readr        /opt/conda/lib/R/library/readr       \n",
       "scales       /opt/conda/lib/R/library/scales      \n",
       "snakecase    /opt/conda/lib/R/library/snakecase   \n",
       "statmod      /opt/conda/lib/R/library/statmod     \n",
       "stringr      /opt/conda/lib/R/library/stringr     \n",
       "usethis      /opt/conda/lib/R/library/usethis     \n",
       "viridis      /opt/conda/lib/R/library/viridis     \n",
       "viridisLite  /opt/conda/lib/R/library/viridisLite \n",
       "yarn         /opt/conda/lib/R/library/yarn        \n",
       "             loadedpath                            attached is_base date      \n",
       "Biobase      /opt/conda/lib/R/library/Biobase      TRUE     FALSE   2019-10-29\n",
       "BiocGenerics /opt/conda/lib/R/library/BiocGenerics TRUE     FALSE   2019-10-29\n",
       "biomaRt      /opt/conda/lib/R/library/biomaRt      TRUE     FALSE   2019-10-29\n",
       "DBI          /opt/conda/lib/R/library/DBI          TRUE     FALSE   2019-12-15\n",
       "devtools     /opt/conda/lib/R/library/devtools     TRUE     FALSE   2019-04-08\n",
       "downloader   /opt/conda/lib/R/library/downloader   TRUE     FALSE   2015-07-09\n",
       "dplyr        /opt/conda/lib/R/library/dplyr        TRUE     FALSE   2020-01-31\n",
       "edgeR        /opt/conda/lib/R/library/edgeR        TRUE     FALSE   2020-02-26\n",
       "ggplot2      /opt/conda/lib/R/library/ggplot2      TRUE     FALSE   2019-08-10\n",
       "limma        /opt/conda/lib/R/library/limma        TRUE     FALSE   2019-10-29\n",
       "magrittr     /opt/conda/lib/R/library/magrittr     TRUE     FALSE   2014-11-22\n",
       "pheatmap     /opt/conda/lib/R/library/pheatmap     TRUE     FALSE   2019-01-04\n",
       "piggyback    /opt/conda/lib/R/library/piggyback    TRUE     FALSE   2020-03-10\n",
       "readr        /opt/conda/lib/R/library/readr        TRUE     FALSE   2018-12-21\n",
       "scales       /opt/conda/lib/R/library/scales       TRUE     FALSE   2019-11-18\n",
       "snakecase    /opt/conda/lib/R/library/snakecase    TRUE     FALSE   2019-05-25\n",
       "statmod      /opt/conda/lib/R/library/statmod      TRUE     FALSE   2020-02-17\n",
       "stringr      /opt/conda/lib/R/library/stringr      TRUE     FALSE   2019-02-10\n",
       "usethis      /opt/conda/lib/R/library/usethis      TRUE     FALSE   2019-07-04\n",
       "viridis      /opt/conda/lib/R/library/viridis      TRUE     FALSE   2018-03-29\n",
       "viridisLite  /opt/conda/lib/R/library/viridisLite  TRUE     FALSE   2018-02-01\n",
       "yarn         /opt/conda/lib/R/library/yarn         TRUE     FALSE   2020-03-10\n",
       "             source                                     md5ok\n",
       "Biobase      Bioconductor                               NA   \n",
       "BiocGenerics Bioconductor                               NA   \n",
       "biomaRt      Bioconductor                               NA   \n",
       "DBI          CRAN (R 3.6.2)                             NA   \n",
       "devtools     CRAN (R 3.6.0)                             NA   \n",
       "downloader   CRAN (R 3.6.1)                             NA   \n",
       "dplyr        CRAN (R 3.6.2)                             NA   \n",
       "edgeR        Bioconductor                               NA   \n",
       "ggplot2      CRAN (R 3.6.1)                             NA   \n",
       "limma        Bioconductor                               NA   \n",
       "magrittr     CRAN (R 3.6.1)                             NA   \n",
       "pheatmap     CRAN (R 3.6.1)                             NA   \n",
       "piggyback    Github (ropensci/piggyback@87f71e8)        NA   \n",
       "readr        CRAN (R 3.6.1)                             NA   \n",
       "scales       CRAN (R 3.6.1)                             NA   \n",
       "snakecase    CRAN (R 3.6.1)                             NA   \n",
       "statmod      CRAN (R 3.6.1)                             NA   \n",
       "stringr      CRAN (R 3.6.1)                             NA   \n",
       "usethis      CRAN (R 3.6.1)                             NA   \n",
       "viridis      CRAN (R 3.6.1)                             NA   \n",
       "viridisLite  CRAN (R 3.6.1)                             NA   \n",
       "yarn         Github (TheJacksonLaboratory/yarn@3ff72c0) NA   \n",
       "             library                 \n",
       "Biobase      /opt/conda/lib/R/library\n",
       "BiocGenerics /opt/conda/lib/R/library\n",
       "biomaRt      /opt/conda/lib/R/library\n",
       "DBI          /opt/conda/lib/R/library\n",
       "devtools     /opt/conda/lib/R/library\n",
       "downloader   /opt/conda/lib/R/library\n",
       "dplyr        /opt/conda/lib/R/library\n",
       "edgeR        /opt/conda/lib/R/library\n",
       "ggplot2      /opt/conda/lib/R/library\n",
       "limma        /opt/conda/lib/R/library\n",
       "magrittr     /opt/conda/lib/R/library\n",
       "pheatmap     /opt/conda/lib/R/library\n",
       "piggyback    /opt/conda/lib/R/library\n",
       "readr        /opt/conda/lib/R/library\n",
       "scales       /opt/conda/lib/R/library\n",
       "snakecase    /opt/conda/lib/R/library\n",
       "statmod      /opt/conda/lib/R/library\n",
       "stringr      /opt/conda/lib/R/library\n",
       "usethis      /opt/conda/lib/R/library\n",
       "viridis      /opt/conda/lib/R/library\n",
       "viridisLite  /opt/conda/lib/R/library\n",
       "yarn         /opt/conda/lib/R/library"
      ]
     },
     "metadata": {},
     "output_type": "display_data"
    }
   ],
   "source": [
    "dev_session_info   <- devtools::session_info()\n",
    "utils_session_info <- utils::sessionInfo()\n",
    "\n",
    "message(\"Saving `devtools::session_info()` objects in ../metadata/devtools_session_info.rds  ..\")\n",
    "saveRDS(dev_session_info, file = paste0(\"../metadata/\", figure_id, \"_devtools_session_info.rds\"))\n",
    "message(\"Done!\\n\")\n",
    "\n",
    "message(\"Saving `utils::sessionInfo()` objects in ../metadata/utils_session_info.rds  ..\")\n",
    "saveRDS(utils_session_info, file = paste0(\"../metadata/\", figure_id ,\"_utils_info.rds\"))\n",
    "message(\"Done!\\n\")\n",
    "\n",
    "dev_session_info$platform\n",
    "dev_session_info$packages[dev_session_info$packages$attached==TRUE, ]"
   ]
  }
 ],
 "metadata": {
  "kernelspec": {
   "display_name": "R",
   "language": "R",
   "name": "ir"
  },
  "language_info": {
   "codemirror_mode": "r",
   "file_extension": ".r",
   "mimetype": "text/x-r-source",
   "name": "R",
   "pygments_lexer": "r",
   "version": "3.6.1"
  }
 },
 "nbformat": 4,
 "nbformat_minor": 4
}
