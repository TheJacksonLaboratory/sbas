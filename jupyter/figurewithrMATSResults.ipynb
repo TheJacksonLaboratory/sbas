{
 "cells": [
  {
   "cell_type": "markdown",
   "metadata": {},
   "source": [
    "# Figure 1. Sex-biased gene expression and alternative splicing. \n",
    "\n",
    "- (a) Pre-messenger RNA splicing occurs cotranscriptionally and is influenced by RNA binding proteins and epigenetic factors such as histone modifications that interact with the transcriptional machinery or other proteins to influence splicing and transcription.17 \n",
    "- (b) Flowchart depicting the analysis of GTEx RNA-seq data. Analysis of GTEx gene expression and AS profiles identified significantly sex-biased genes and AS events. Data were used as input for a hierarchical Bayesian model to characterize the influence of RBPs and gene expression on sex-biased AS events. \n",
    "- **(c) Heatplot representing similarity in the fold-changes between male and female samples, with the values in the heatmap being the correlation between the vectors of fold changes of the tissues.**\n",
    "\n",
    "- (d) The five categories of AS events that were investigated in this work <br>(**`SE`**: skipped exon/exon inclusion; **`A3SS/A5SS`**: alternative 3’/5’ splice site; **`MEX`**: mutually exclusive exons; **`RI`**: retained intron). \n",
    "\n",
    "- **(e) Number of sex-biased AS events per tissue type.**"
   ]
  },
  {
   "cell_type": "markdown",
   "metadata": {},
   "source": [
    "A `heatplot` representing similarity in the fold-changes between male and female samples, with the values in the heatmap being the correlation between the vectors of fold changes of the tissues. </b>"
   ]
  },
  {
   "cell_type": "markdown",
   "metadata": {},
   "source": [
    "## **NOTE**:\n",
    "\n",
    "We assume that you have cloned the analysis repository and have `cd` into the parent directory. Before starting with the analysis make sure you have first completed the dependencies set up by following the instructions described in the **`dependencies/README.md`** document. All paths defined in this Notebook are relative to the parent directory (repository). Please close this Notebook and start again by following the above guidelines if you have not completed the aforementioned steps."
   ]
  },
  {
   "cell_type": "markdown",
   "metadata": {},
   "source": [
    "## Loading dependencies"
   ]
  },
  {
   "cell_type": "code",
   "execution_count": 1,
   "metadata": {},
   "outputs": [
    {
     "name": "stderr",
     "output_type": "stream",
     "text": [
      "Loading required package: limma\n",
      "Warning message:\n",
      "“package ‘DBI’ was built under R version 3.6.2”Loading required package: Biobase\n",
      "Loading required package: BiocGenerics\n",
      "Loading required package: parallel\n",
      "\n",
      "Attaching package: ‘BiocGenerics’\n",
      "\n",
      "The following objects are masked from ‘package:parallel’:\n",
      "\n",
      "    clusterApply, clusterApplyLB, clusterCall, clusterEvalQ,\n",
      "    clusterExport, clusterMap, parApply, parCapply, parLapply,\n",
      "    parLapplyLB, parRapply, parSapply, parSapplyLB\n",
      "\n",
      "The following object is masked from ‘package:limma’:\n",
      "\n",
      "    plotMA\n",
      "\n",
      "The following objects are masked from ‘package:stats’:\n",
      "\n",
      "    IQR, mad, sd, var, xtabs\n",
      "\n",
      "The following objects are masked from ‘package:base’:\n",
      "\n",
      "    anyDuplicated, append, as.data.frame, basename, cbind, colnames,\n",
      "    dirname, do.call, duplicated, eval, evalq, Filter, Find, get, grep,\n",
      "    grepl, intersect, is.unsorted, lapply, Map, mapply, match, mget,\n",
      "    order, paste, pmax, pmax.int, pmin, pmin.int, Position, rank,\n",
      "    rbind, Reduce, rownames, sapply, setdiff, sort, table, tapply,\n",
      "    union, unique, unsplit, which, which.max, which.min\n",
      "\n",
      "Welcome to Bioconductor\n",
      "\n",
      "    Vignettes contain introductory material; view with\n",
      "    'browseVignettes()'. To cite Bioconductor, see\n",
      "    'citation(\"Biobase\")', and for packages 'citation(\"pkgname\")'.\n",
      "\n",
      "Setting options('download.file.method.GEOquery'='auto')\n",
      "Setting options('GEOquery.inmemory.gpl'=FALSE)\n",
      "Warning message:\n",
      "“package ‘dplyr’ was built under R version 3.6.2”\n",
      "Attaching package: ‘dplyr’\n",
      "\n",
      "The following object is masked from ‘package:Biobase’:\n",
      "\n",
      "    combine\n",
      "\n",
      "The following objects are masked from ‘package:BiocGenerics’:\n",
      "\n",
      "    combine, intersect, setdiff, union\n",
      "\n",
      "The following object is masked from ‘package:biomaRt’:\n",
      "\n",
      "    select\n",
      "\n",
      "The following objects are masked from ‘package:stats’:\n",
      "\n",
      "    filter, lag\n",
      "\n",
      "The following objects are masked from ‘package:base’:\n",
      "\n",
      "    intersect, setdiff, setequal, union\n",
      "\n",
      "\n",
      "Attaching package: ‘scales’\n",
      "\n",
      "The following object is masked from ‘package:readr’:\n",
      "\n",
      "    col_factor\n",
      "\n",
      "Loading required package: viridisLite\n",
      "\n",
      "Attaching package: ‘viridis’\n",
      "\n",
      "The following object is masked from ‘package:scales’:\n",
      "\n",
      "    viridis_pal\n",
      "\n"
     ]
    }
   ],
   "source": [
    "library(downloader)\n",
    "library(readr)\n",
    "library(edgeR)\n",
    "library(biomaRt)\n",
    "library(DBI) # v >= 1.1.0 required for biomaRt\n",
    "library(devtools)\n",
    "library(yarn)\n",
    "library(statmod)\n",
    "library(piggyback)\n",
    "library(snakecase)\n",
    "library(stringr)\n",
    "library(pheatmap)\n",
    "library(magrittr)\n",
    "library(dplyr)\n",
    "library(ggplot2)\n",
    "library(scales)\n",
    "library(viridis)\n",
    "library(scales)\n",
    "\n",
    "Sys.setenv(TAR = \"/bin/tar\") # for gzfile"
   ]
  },
  {
   "cell_type": "markdown",
   "metadata": {},
   "source": [
    "## Figure 1c  Heatplot representing similarity in the fold-changes between male and female samples\n",
    "The values in the heatmap being the correlation between the vectors of fold changes of the tissues."
   ]
  },
  {
   "cell_type": "markdown",
   "metadata": {},
   "source": [
    "# Retrieving the GTEx archive\n",
    "\n",
    "We used the R package [{yarn}](https://bioconductor.org/packages/release/bioc/html/yarn.html) to retrieve the GTEx Biobank data. In order to downloaded the latest GTEx version 8.0 for RNA-seq and genotype data (phs000424.v8.v2), released 2019-08-26, we created a fork of the package's GitHub repository and created a new version of the function **`yarn::downloadGTEx()`**, namely **`yarn::downloadGTExV8()`** to download this release. \n",
    "\n",
    "We used the function to perform quality control, gene filtering and normalization pre-processing on the GTEx RNA-seq data, as described in (Paulson et al, 2017). This pipeline tested for sample sex-misidentification, merged related sub-tissues and performed tissue-aware normalization using the **`{yarn::qsmooth}`**  function (Hicks et al, 2017).\n",
    "\n",
    "We have archived the output of the **`yarn::downloadGTExV8()`** function, which is an `ExpressionSet` object in the repo `lifebitai/lifebitCloudOSDREgtex` for replicability and decreasing the runtime of this analysis. Below we retrieve this `gtex.rds` object from the GitHub releases using the **`{ropensci/piggyback}`** package, but we have also added the relevant command to retrieve the data from GTEx and generate the `ExpressionSet` object using  **`yarn::downloadGTExV8()`**. For the current analysis we are utilising a compute resource with 8 vCPUs and 60 GB of memory available.\n",
    "\n"
   ]
  },
  {
   "cell_type": "code",
   "execution_count": 2,
   "metadata": {},
   "outputs": [
    {
     "name": "stderr",
     "output_type": "stream",
     "text": [
      "Downloading GTEx v8 from GitHub Releases archive into the ../data/ directory ..\n",
      "\n",
      "Warning message in get_token():\n",
      "“Using default public GITHUB_TOKEN.\n",
      "downloading gtex.rds ...                         about 200 Running gh query\n",
      "Warning message in get_token():\n",
      "“Using default public GITHUB_TOKEN.\n",
      "                     Please set your own token”"
     ]
    },
    {
     "name": "stdout",
     "output_type": "stream",
     "text": [
      "  |======================================================================| 100%\n"
     ]
    },
    {
     "name": "stderr",
     "output_type": "stream",
     "text": [
      "Generating sha256sum for gtex.rds ..\n",
      "18e2c7a83c98dcf59ddab53e1281923979d49da6ea3acb68114c5a44057c57bc  ../data/gtex.rds\n",
      "Done!\n",
      "\n",
      "Loading GTEx v8 rds object with readRDS from ../data/gtex.rds ..\n",
      "\n",
      "Done!\n",
      "\n"
     ]
    }
   ],
   "source": [
    "# Load with readRDS() if gtex.rds available in data/\n",
    "if (\"gtex.rds\" %in% list.files(\"../data/\")) {\n",
    "    message(\"Loading GTEx v8 rds object with readRDS from ../data/gtex.rds ..\\n\")   \n",
    "    obj <- readRDS(file = \"../data/gtex.rds\")\n",
    "    message(\"Done!\\n\")\n",
    "    message(\"Generating sha256sum for gtex.rds ..\\n\")    \n",
    "    message(system(\"sha256sum ../data/gtex.rds\", intern = TRUE))\n",
    "    message(\"Done!\\n\")\n",
    "}\n",
    "\n",
    "# Download from archive if not available in ../data\n",
    "if (!(\"gtex.rds\" %in% list.files(\"../data/\"))) {\n",
    "    message(\"Downloading GTEx v8 from GitHub Releases archive into the ../data/ directory ..\\n\")\n",
    "    piggyback::pb_download(file = \"gtex.rds\", \n",
    "                                repo = \"lifebit-ai/lifebitCloudOSDREgtex\", \n",
    "                                tag  = \"fig1c_archive\", \n",
    "                                dest = \"../data/\")\n",
    "    message(\"Generating sha256sum for gtex.rds ..\")    \n",
    "    message(system(\"sha256sum ../data/gtex.rds\", intern = TRUE))\n",
    "    message(\"Done!\\n\")    \n",
    "    message(\"Loading GTEx v8 rds object with readRDS from ../data/gtex.rds ..\\n\")    \n",
    "    obj <- readRDS(file = \"../data/gtex.rds\" )\n",
    "    message(\"Done!\\n\")\n",
    "}\n",
    "\n",
    "# Download with yarn if you wish, this requires several minutes to complete\n",
    "if (!(\"gtex.rds\" %in% list.files(\"../data/\"))) {\n",
    "    message(\"Downloading GTEx v8 with 'yarn::downloadGTExV8()'\")\n",
    "    obj <- yarn::downloadGTExV8(type='genes',file='../data/gtex.rds')\n",
    "    message(\"Done!\")\n",
    "\n",
    "}"
   ]
  },
  {
   "cell_type": "code",
   "execution_count": 3,
   "metadata": {},
   "outputs": [
    {
     "data": {
      "text/html": [
       "'ExpressionSet'"
      ],
      "text/latex": [
       "'ExpressionSet'"
      ],
      "text/markdown": [
       "'ExpressionSet'"
      ],
      "text/plain": [
       "[1] \"ExpressionSet\"\n",
       "attr(,\"package\")\n",
       "[1] \"Biobase\""
      ]
     },
     "metadata": {},
     "output_type": "display_data"
    },
    {
     "data": {
      "text/html": [
       "<style>\n",
       ".dl-inline {width: auto; margin:0; padding: 0}\n",
       ".dl-inline>dt, .dl-inline>dd {float: none; width: auto; display: inline-block}\n",
       ".dl-inline>dt::after {content: \":\\0020\"; padding-right: .5ex}\n",
       ".dl-inline>dt:not(:first-of-type) {padding-left: .5ex}\n",
       "</style><dl class=dl-inline><dt>rowNames</dt><dd>17384</dd><dt>columnNames</dt><dd>67</dd></dl>\n"
      ],
      "text/latex": [
       "\\begin{description*}\n",
       "\\item[rowNames] 17384\n",
       "\\item[columnNames] 67\n",
       "\\end{description*}\n"
      ],
      "text/markdown": [
       "rowNames\n",
       ":   17384columnNames\n",
       ":   67\n",
       "\n"
      ],
      "text/plain": [
       "   rowNames columnNames \n",
       "      17384          67 "
      ]
     },
     "metadata": {},
     "output_type": "display_data"
    },
    {
     "data": {
      "text/html": [
       "<style>\n",
       ".dl-inline {width: auto; margin:0; padding: 0}\n",
       ".dl-inline>dt, .dl-inline>dd {float: none; width: auto; display: inline-block}\n",
       ".dl-inline>dt::after {content: \":\\0020\"; padding-right: .5ex}\n",
       ".dl-inline>dt:not(:first-of-type) {padding-left: .5ex}\n",
       "</style><dl class=dl-inline><dt>Features</dt><dd>55878</dd><dt>Samples</dt><dd>17382</dd></dl>\n"
      ],
      "text/latex": [
       "\\begin{description*}\n",
       "\\item[Features] 55878\n",
       "\\item[Samples] 17382\n",
       "\\end{description*}\n"
      ],
      "text/markdown": [
       "Features\n",
       ":   55878Samples\n",
       ":   17382\n",
       "\n"
      ],
      "text/plain": [
       "Features  Samples \n",
       "   55878    17382 "
      ]
     },
     "metadata": {},
     "output_type": "display_data"
    }
   ],
   "source": [
    "# Confirm that it is an expression set.\n",
    "# and check the dimensions of the objects, and the phenotype information of the objects\n",
    "class(obj) \n",
    "dim(phenoData(obj))\n",
    "dim(obj)"
   ]
  },
  {
   "cell_type": "markdown",
   "metadata": {},
   "source": [
    "### NOTE: \n",
    "\n",
    "We observe above that our phenotype data have 2 more observations than our expression data,  let's inspect what are these samples:"
   ]
  },
  {
   "cell_type": "code",
   "execution_count": 4,
   "metadata": {},
   "outputs": [
    {
     "data": {
      "text/html": [
       "17382"
      ],
      "text/latex": [
       "17382"
      ],
      "text/markdown": [
       "17382"
      ],
      "text/plain": [
       "[1] 17382"
      ]
     },
     "metadata": {},
     "output_type": "display_data"
    },
    {
     "data": {
      "text/html": [
       "17384"
      ],
      "text/latex": [
       "17384"
      ],
      "text/markdown": [
       "17384"
      ],
      "text/plain": [
       "[1] 17384"
      ]
     },
     "metadata": {},
     "output_type": "display_data"
    },
    {
     "name": "stderr",
     "output_type": "stream",
     "text": [
      "The non-overlapping IDs between pheno and count data are:\n",
      "\n",
      "GTEX-YF7O-2326-101833-SM-5CVN9\n",
      "GTEX-YEC3-1426-101806-SM-5PNXX\n"
     ]
    }
   ],
   "source": [
    "sample_names=as.vector(as.character(colnames(exprs(obj))))\n",
    "length(sample_names)\n",
    "\n",
    "pheno_sample_names=as.vector(as.character(rownames(pData(obj))))\n",
    "length(pheno_sample_names)\n",
    "\n",
    "if (length(pheno_sample_names) > length(sample_names)) {\n",
    "    superset <- pheno_sample_names\n",
    "    subset   <- sample_names    \n",
    "} \n",
    "\n",
    "if (length(pheno_sample_names) < length(sample_names)) {\n",
    "    superset <- sample_names\n",
    "    subset   <- pheno_sample_names   \n",
    "} \n",
    "\n",
    "non_overlaps <- setdiff( superset, subset)\n",
    "\n",
    "message(\"The non-overlapping IDs between pheno and count data are:\\n\\n\", \n",
    "        paste(non_overlaps, collapse = \"\\n\") )"
   ]
  },
  {
   "cell_type": "markdown",
   "metadata": {},
   "source": [
    "Let's keep only the overlapping IDs:"
   ]
  },
  {
   "cell_type": "code",
   "execution_count": 5,
   "metadata": {},
   "outputs": [
    {
     "data": {
      "text/html": [
       "17384"
      ],
      "text/latex": [
       "17384"
      ],
      "text/markdown": [
       "17384"
      ],
      "text/plain": [
       "[1] 17384"
      ]
     },
     "metadata": {},
     "output_type": "display_data"
    },
    {
     "data": {
      "text/plain": [
       "logical_match_names\n",
       "FALSE  TRUE \n",
       "    2 17382 "
      ]
     },
     "metadata": {},
     "output_type": "display_data"
    },
    {
     "data": {
      "text/html": [
       "<style>\n",
       ".list-inline {list-style: none; margin:0; padding: 0}\n",
       ".list-inline>li {display: inline-block}\n",
       ".list-inline>li:not(:last-child)::after {content: \"\\00b7\"; padding: 0 .5ex}\n",
       "</style>\n",
       "<ol class=list-inline><li>17382</li><li>67</li></ol>\n"
      ],
      "text/latex": [
       "\\begin{enumerate*}\n",
       "\\item 17382\n",
       "\\item 67\n",
       "\\end{enumerate*}\n"
      ],
      "text/markdown": [
       "1. 17382\n",
       "2. 67\n",
       "\n",
       "\n"
      ],
      "text/plain": [
       "[1] 17382    67"
      ]
     },
     "metadata": {},
     "output_type": "display_data"
    },
    {
     "data": {
      "text/html": [
       "<style>\n",
       ".dl-inline {width: auto; margin:0; padding: 0}\n",
       ".dl-inline>dt, .dl-inline>dd {float: none; width: auto; display: inline-block}\n",
       ".dl-inline>dt::after {content: \":\\0020\"; padding-right: .5ex}\n",
       ".dl-inline>dt:not(:first-of-type) {padding-left: .5ex}\n",
       "</style><dl class=dl-inline><dt>Features</dt><dd>55878</dd><dt>Samples</dt><dd>17382</dd></dl>\n"
      ],
      "text/latex": [
       "\\begin{description*}\n",
       "\\item[Features] 55878\n",
       "\\item[Samples] 17382\n",
       "\\end{description*}\n"
      ],
      "text/markdown": [
       "Features\n",
       ":   55878Samples\n",
       ":   17382\n",
       "\n"
      ],
      "text/plain": [
       "Features  Samples \n",
       "   55878    17382 "
      ]
     },
     "metadata": {},
     "output_type": "display_data"
    }
   ],
   "source": [
    "logical_match_names=pheno_sample_names %in% sample_names\n",
    "length(logical_match_names)\n",
    "table(logical_match_names)\n",
    "pData(obj) <- (pData(obj)[logical_match_names==TRUE,])\n",
    "dim(pData(obj))\n",
    "dim(obj)"
   ]
  },
  {
   "cell_type": "code",
   "execution_count": 8,
   "metadata": {},
   "outputs": [],
   "source": [
    "# read in the metadata file for the samples - which links the SRR numbers to the GTEx sample numbers as well as other info"
   ]
  },
  {
   "cell_type": "code",
   "execution_count": 10,
   "metadata": {},
   "outputs": [],
   "source": [
    "SraRunTable <- read.csv(\"../data/SraRunTable.noCram.noExome.noWGS.totalRNA.txt\", stringsAsFactors = FALSE)"
   ]
  },
  {
   "cell_type": "code",
   "execution_count": 11,
   "metadata": {},
   "outputs": [
    {
     "data": {
      "text/html": [
       "<table>\n",
       "<caption>A data.frame: 6 × 79</caption>\n",
       "<thead>\n",
       "\t<tr><th></th><th scope=col>Run</th><th scope=col>analyte_type</th><th scope=col>Assay.Type</th><th scope=col>AvgSpotLen</th><th scope=col>Bases</th><th scope=col>BioProject</th><th scope=col>BioSample</th><th scope=col>biospecimen_repository</th><th scope=col>biospecimen_repository_sample_id</th><th scope=col>body_site</th><th scope=col>⋯</th><th scope=col>data_type..run.</th><th scope=col>product_part_number..exp.</th><th scope=col>product_part_number..run.</th><th scope=col>sample_barcode..exp.</th><th scope=col>sample_barcode..run.</th><th scope=col>is_technical_control</th><th scope=col>target_set..exp.</th><th scope=col>primary_disease..exp.</th><th scope=col>secondary_accessions..run.</th><th scope=col>Alignment_Provider..run.</th></tr>\n",
       "\t<tr><th></th><th scope=col>&lt;chr&gt;</th><th scope=col>&lt;chr&gt;</th><th scope=col>&lt;chr&gt;</th><th scope=col>&lt;int&gt;</th><th scope=col>&lt;dbl&gt;</th><th scope=col>&lt;chr&gt;</th><th scope=col>&lt;chr&gt;</th><th scope=col>&lt;chr&gt;</th><th scope=col>&lt;chr&gt;</th><th scope=col>&lt;chr&gt;</th><th scope=col>⋯</th><th scope=col>&lt;chr&gt;</th><th scope=col>&lt;chr&gt;</th><th scope=col>&lt;chr&gt;</th><th scope=col>&lt;dbl&gt;</th><th scope=col>&lt;dbl&gt;</th><th scope=col>&lt;chr&gt;</th><th scope=col>&lt;lgl&gt;</th><th scope=col>&lt;chr&gt;</th><th scope=col>&lt;chr&gt;</th><th scope=col>&lt;lgl&gt;</th></tr>\n",
       "</thead>\n",
       "<tbody>\n",
       "\t<tr><th scope=row>1</th><td>SRR2911715</td><td>RNA</td><td>RNA-Seq</td><td>150</td><td>3852895500</td><td>PRJNA244100</td><td>SAMN04216864</td><td>Cloud Testing</td><td>HG00103</td><td>Lymphoblastoid cell line</td><td>⋯</td><td></td><td></td><td></td><td>NA</td><td>NA</td><td></td><td>NA</td><td></td><td></td><td>NA</td></tr>\n",
       "\t<tr><th scope=row>2</th><td>SRR2911716</td><td>RNA</td><td>RNA-Seq</td><td>150</td><td>4885577400</td><td>PRJNA244100</td><td>SAMN04216866</td><td>Cloud Testing</td><td>HG00154</td><td>Lymphoblastoid cell line</td><td>⋯</td><td></td><td></td><td></td><td>NA</td><td>NA</td><td></td><td>NA</td><td></td><td></td><td>NA</td></tr>\n",
       "\t<tr><th scope=row>3</th><td>SRR2911718</td><td>RNA</td><td>RNA-Seq</td><td>150</td><td>2690545500</td><td>PRJNA244100</td><td>SAMN04216863</td><td>Cloud Testing</td><td>NA18910</td><td>Lymphoblastoid cell line</td><td>⋯</td><td></td><td></td><td></td><td>NA</td><td>NA</td><td></td><td>NA</td><td></td><td></td><td>NA</td></tr>\n",
       "\t<tr><th scope=row>4</th><td>SRR2911719</td><td>RNA</td><td>RNA-Seq</td><td>150</td><td>2699599350</td><td>PRJNA244100</td><td>SAMN04216865</td><td>Cloud Testing</td><td>NA19200</td><td>Lymphoblastoid cell line</td><td>⋯</td><td></td><td></td><td></td><td>NA</td><td>NA</td><td></td><td>NA</td><td></td><td></td><td>NA</td></tr>\n",
       "\t<tr><th scope=row>5</th><td>SRR2911720</td><td>RNA</td><td>RNA-Seq</td><td>152</td><td>4300467752</td><td>PRJNA244100</td><td>SAMN04216865</td><td>Cloud Testing</td><td>NA19200</td><td>Lymphoblastoid cell line</td><td>⋯</td><td></td><td></td><td></td><td>NA</td><td>NA</td><td></td><td>NA</td><td></td><td></td><td>NA</td></tr>\n",
       "\t<tr><th scope=row>6</th><td>SRR2911717</td><td>RNA</td><td>RNA-Seq</td><td>150</td><td>2666546700</td><td>PRJNA244100</td><td>SAMN04216863</td><td>Cloud Testing</td><td>NA18910</td><td>Lymphoblastoid cell line</td><td>⋯</td><td></td><td></td><td></td><td>NA</td><td>NA</td><td></td><td>NA</td><td></td><td></td><td>NA</td></tr>\n",
       "</tbody>\n",
       "</table>\n"
      ],
      "text/latex": [
       "A data.frame: 6 × 79\n",
       "\\begin{tabular}{r|lllllllllllllllllllll}\n",
       "  & Run & analyte\\_type & Assay.Type & AvgSpotLen & Bases & BioProject & BioSample & biospecimen\\_repository & biospecimen\\_repository\\_sample\\_id & body\\_site & ⋯ & data\\_type..run. & product\\_part\\_number..exp. & product\\_part\\_number..run. & sample\\_barcode..exp. & sample\\_barcode..run. & is\\_technical\\_control & target\\_set..exp. & primary\\_disease..exp. & secondary\\_accessions..run. & Alignment\\_Provider..run.\\\\\n",
       "  & <chr> & <chr> & <chr> & <int> & <dbl> & <chr> & <chr> & <chr> & <chr> & <chr> & ⋯ & <chr> & <chr> & <chr> & <dbl> & <dbl> & <chr> & <lgl> & <chr> & <chr> & <lgl>\\\\\n",
       "\\hline\n",
       "\t1 & SRR2911715 & RNA & RNA-Seq & 150 & 3852895500 & PRJNA244100 & SAMN04216864 & Cloud Testing & HG00103 & Lymphoblastoid cell line & ⋯ &  &  &  & NA & NA &  & NA &  &  & NA\\\\\n",
       "\t2 & SRR2911716 & RNA & RNA-Seq & 150 & 4885577400 & PRJNA244100 & SAMN04216866 & Cloud Testing & HG00154 & Lymphoblastoid cell line & ⋯ &  &  &  & NA & NA &  & NA &  &  & NA\\\\\n",
       "\t3 & SRR2911718 & RNA & RNA-Seq & 150 & 2690545500 & PRJNA244100 & SAMN04216863 & Cloud Testing & NA18910 & Lymphoblastoid cell line & ⋯ &  &  &  & NA & NA &  & NA &  &  & NA\\\\\n",
       "\t4 & SRR2911719 & RNA & RNA-Seq & 150 & 2699599350 & PRJNA244100 & SAMN04216865 & Cloud Testing & NA19200 & Lymphoblastoid cell line & ⋯ &  &  &  & NA & NA &  & NA &  &  & NA\\\\\n",
       "\t5 & SRR2911720 & RNA & RNA-Seq & 152 & 4300467752 & PRJNA244100 & SAMN04216865 & Cloud Testing & NA19200 & Lymphoblastoid cell line & ⋯ &  &  &  & NA & NA &  & NA &  &  & NA\\\\\n",
       "\t6 & SRR2911717 & RNA & RNA-Seq & 150 & 2666546700 & PRJNA244100 & SAMN04216863 & Cloud Testing & NA18910 & Lymphoblastoid cell line & ⋯ &  &  &  & NA & NA &  & NA &  &  & NA\\\\\n",
       "\\end{tabular}\n"
      ],
      "text/markdown": [
       "\n",
       "A data.frame: 6 × 79\n",
       "\n",
       "| <!--/--> | Run &lt;chr&gt; | analyte_type &lt;chr&gt; | Assay.Type &lt;chr&gt; | AvgSpotLen &lt;int&gt; | Bases &lt;dbl&gt; | BioProject &lt;chr&gt; | BioSample &lt;chr&gt; | biospecimen_repository &lt;chr&gt; | biospecimen_repository_sample_id &lt;chr&gt; | body_site &lt;chr&gt; | ⋯ ⋯ | data_type..run. &lt;chr&gt; | product_part_number..exp. &lt;chr&gt; | product_part_number..run. &lt;chr&gt; | sample_barcode..exp. &lt;dbl&gt; | sample_barcode..run. &lt;dbl&gt; | is_technical_control &lt;chr&gt; | target_set..exp. &lt;lgl&gt; | primary_disease..exp. &lt;chr&gt; | secondary_accessions..run. &lt;chr&gt; | Alignment_Provider..run. &lt;lgl&gt; |\n",
       "|---|---|---|---|---|---|---|---|---|---|---|---|---|---|---|---|---|---|---|---|---|---|\n",
       "| 1 | SRR2911715 | RNA | RNA-Seq | 150 | 3852895500 | PRJNA244100 | SAMN04216864 | Cloud Testing | HG00103 | Lymphoblastoid cell line | ⋯ | <!----> | <!----> | <!----> | NA | NA | <!----> | NA | <!----> | <!----> | NA |\n",
       "| 2 | SRR2911716 | RNA | RNA-Seq | 150 | 4885577400 | PRJNA244100 | SAMN04216866 | Cloud Testing | HG00154 | Lymphoblastoid cell line | ⋯ | <!----> | <!----> | <!----> | NA | NA | <!----> | NA | <!----> | <!----> | NA |\n",
       "| 3 | SRR2911718 | RNA | RNA-Seq | 150 | 2690545500 | PRJNA244100 | SAMN04216863 | Cloud Testing | NA18910 | Lymphoblastoid cell line | ⋯ | <!----> | <!----> | <!----> | NA | NA | <!----> | NA | <!----> | <!----> | NA |\n",
       "| 4 | SRR2911719 | RNA | RNA-Seq | 150 | 2699599350 | PRJNA244100 | SAMN04216865 | Cloud Testing | NA19200 | Lymphoblastoid cell line | ⋯ | <!----> | <!----> | <!----> | NA | NA | <!----> | NA | <!----> | <!----> | NA |\n",
       "| 5 | SRR2911720 | RNA | RNA-Seq | 152 | 4300467752 | PRJNA244100 | SAMN04216865 | Cloud Testing | NA19200 | Lymphoblastoid cell line | ⋯ | <!----> | <!----> | <!----> | NA | NA | <!----> | NA | <!----> | <!----> | NA |\n",
       "| 6 | SRR2911717 | RNA | RNA-Seq | 150 | 2666546700 | PRJNA244100 | SAMN04216863 | Cloud Testing | NA18910 | Lymphoblastoid cell line | ⋯ | <!----> | <!----> | <!----> | NA | NA | <!----> | NA | <!----> | <!----> | NA |\n",
       "\n"
      ],
      "text/plain": [
       "  Run        analyte_type Assay.Type AvgSpotLen Bases      BioProject \n",
       "1 SRR2911715 RNA          RNA-Seq    150        3852895500 PRJNA244100\n",
       "2 SRR2911716 RNA          RNA-Seq    150        4885577400 PRJNA244100\n",
       "3 SRR2911718 RNA          RNA-Seq    150        2690545500 PRJNA244100\n",
       "4 SRR2911719 RNA          RNA-Seq    150        2699599350 PRJNA244100\n",
       "5 SRR2911720 RNA          RNA-Seq    152        4300467752 PRJNA244100\n",
       "6 SRR2911717 RNA          RNA-Seq    150        2666546700 PRJNA244100\n",
       "  BioSample    biospecimen_repository biospecimen_repository_sample_id\n",
       "1 SAMN04216864 Cloud Testing          HG00103                         \n",
       "2 SAMN04216866 Cloud Testing          HG00154                         \n",
       "3 SAMN04216863 Cloud Testing          NA18910                         \n",
       "4 SAMN04216865 Cloud Testing          NA19200                         \n",
       "5 SAMN04216865 Cloud Testing          NA19200                         \n",
       "6 SAMN04216863 Cloud Testing          NA18910                         \n",
       "  body_site                ⋯ data_type..run. product_part_number..exp.\n",
       "1 Lymphoblastoid cell line ⋯                                          \n",
       "2 Lymphoblastoid cell line ⋯                                          \n",
       "3 Lymphoblastoid cell line ⋯                                          \n",
       "4 Lymphoblastoid cell line ⋯                                          \n",
       "5 Lymphoblastoid cell line ⋯                                          \n",
       "6 Lymphoblastoid cell line ⋯                                          \n",
       "  product_part_number..run. sample_barcode..exp. sample_barcode..run.\n",
       "1                           NA                   NA                  \n",
       "2                           NA                   NA                  \n",
       "3                           NA                   NA                  \n",
       "4                           NA                   NA                  \n",
       "5                           NA                   NA                  \n",
       "6                           NA                   NA                  \n",
       "  is_technical_control target_set..exp. primary_disease..exp.\n",
       "1                      NA                                    \n",
       "2                      NA                                    \n",
       "3                      NA                                    \n",
       "4                      NA                                    \n",
       "5                      NA                                    \n",
       "6                      NA                                    \n",
       "  secondary_accessions..run. Alignment_Provider..run.\n",
       "1                            NA                      \n",
       "2                            NA                      \n",
       "3                            NA                      \n",
       "4                            NA                      \n",
       "5                            NA                      \n",
       "6                            NA                      "
      ]
     },
     "metadata": {},
     "output_type": "display_data"
    }
   ],
   "source": [
    "head(SraRunTable)"
   ]
  },
  {
   "cell_type": "code",
   "execution_count": 12,
   "metadata": {},
   "outputs": [
    {
     "data": {
      "text/html": [
       "<style>\n",
       ".list-inline {list-style: none; margin:0; padding: 0}\n",
       ".list-inline>li {display: inline-block}\n",
       ".list-inline>li:not(:last-child)::after {content: \"\\00b7\"; padding: 0 .5ex}\n",
       "</style>\n",
       "<ol class=list-inline><li>'Run'</li><li>'analyte_type'</li><li>'Assay.Type'</li><li>'AvgSpotLen'</li><li>'Bases'</li><li>'BioProject'</li><li>'BioSample'</li><li>'biospecimen_repository'</li><li>'biospecimen_repository_sample_id'</li><li>'body_site'</li><li>'Bytes'</li><li>'Center.Name'</li><li>'Consent_Code'</li><li>'Consent'</li><li>'DATASTORE.filetype'</li><li>'DATASTORE.provider'</li><li>'DATASTORE.region'</li><li>'Experiment'</li><li>'gap_accession'</li><li>'Instrument'</li><li>'Is_Tumor'</li><li>'Library.Name'</li><li>'LibraryLayout'</li><li>'LibrarySelection'</li><li>'LibrarySource'</li><li>'Organism'</li><li>'Platform'</li><li>'ReleaseDate'</li><li>'Sample.Name'</li><li>'SRA.Study'</li><li>'study_design'</li><li>'study_name'</li><li>'submitted_subject_id'</li><li>'sex'</li><li>'AssemblyName'</li><li>'histological_type'</li><li>'molecular_data_type'</li><li>'alignment_software..exp.'</li><li>'AvgReadLength..run.'</li><li>'coverage..run.'</li><li>'lsid..exp.'</li><li>'lsid..run.'</li><li>'project..exp.'</li><li>'project..run.'</li><li>'run_barcode..run.'</li><li>'run_name..run.'</li><li>'work_request..exp.'</li><li>'work_request..run.'</li><li>'flowcell_barcode..run.'</li><li>'gssr_id..exp.'</li><li>'gssr_id..run.'</li><li>'material_type..exp.'</li><li>'read_group_id..run.'</li><li>'research_project..exp.'</li><li>'research_project..run.'</li><li>'root_sample_id..exp.'</li><li>'root_sample_id..run.'</li><li>'sample_id..exp.'</li><li>'Sample_ID..run.'</li><li>'analysis_type..exp.'</li><li>'analysis_type..run.'</li><li>'instrument_name..run.'</li><li>'lane..run.'</li><li>'library_type..exp.'</li><li>'library_type..run.'</li><li>'sample_type..exp.'</li><li>'product_order..exp.'</li><li>'product_order..run.'</li><li>'data_type..exp.'</li><li>'data_type..run.'</li><li>'product_part_number..exp.'</li><li>'product_part_number..run.'</li><li>'sample_barcode..exp.'</li><li>'sample_barcode..run.'</li><li>'is_technical_control'</li><li>'target_set..exp.'</li><li>'primary_disease..exp.'</li><li>'secondary_accessions..run.'</li><li>'Alignment_Provider..run.'</li></ol>\n"
      ],
      "text/latex": [
       "\\begin{enumerate*}\n",
       "\\item 'Run'\n",
       "\\item 'analyte\\_type'\n",
       "\\item 'Assay.Type'\n",
       "\\item 'AvgSpotLen'\n",
       "\\item 'Bases'\n",
       "\\item 'BioProject'\n",
       "\\item 'BioSample'\n",
       "\\item 'biospecimen\\_repository'\n",
       "\\item 'biospecimen\\_repository\\_sample\\_id'\n",
       "\\item 'body\\_site'\n",
       "\\item 'Bytes'\n",
       "\\item 'Center.Name'\n",
       "\\item 'Consent\\_Code'\n",
       "\\item 'Consent'\n",
       "\\item 'DATASTORE.filetype'\n",
       "\\item 'DATASTORE.provider'\n",
       "\\item 'DATASTORE.region'\n",
       "\\item 'Experiment'\n",
       "\\item 'gap\\_accession'\n",
       "\\item 'Instrument'\n",
       "\\item 'Is\\_Tumor'\n",
       "\\item 'Library.Name'\n",
       "\\item 'LibraryLayout'\n",
       "\\item 'LibrarySelection'\n",
       "\\item 'LibrarySource'\n",
       "\\item 'Organism'\n",
       "\\item 'Platform'\n",
       "\\item 'ReleaseDate'\n",
       "\\item 'Sample.Name'\n",
       "\\item 'SRA.Study'\n",
       "\\item 'study\\_design'\n",
       "\\item 'study\\_name'\n",
       "\\item 'submitted\\_subject\\_id'\n",
       "\\item 'sex'\n",
       "\\item 'AssemblyName'\n",
       "\\item 'histological\\_type'\n",
       "\\item 'molecular\\_data\\_type'\n",
       "\\item 'alignment\\_software..exp.'\n",
       "\\item 'AvgReadLength..run.'\n",
       "\\item 'coverage..run.'\n",
       "\\item 'lsid..exp.'\n",
       "\\item 'lsid..run.'\n",
       "\\item 'project..exp.'\n",
       "\\item 'project..run.'\n",
       "\\item 'run\\_barcode..run.'\n",
       "\\item 'run\\_name..run.'\n",
       "\\item 'work\\_request..exp.'\n",
       "\\item 'work\\_request..run.'\n",
       "\\item 'flowcell\\_barcode..run.'\n",
       "\\item 'gssr\\_id..exp.'\n",
       "\\item 'gssr\\_id..run.'\n",
       "\\item 'material\\_type..exp.'\n",
       "\\item 'read\\_group\\_id..run.'\n",
       "\\item 'research\\_project..exp.'\n",
       "\\item 'research\\_project..run.'\n",
       "\\item 'root\\_sample\\_id..exp.'\n",
       "\\item 'root\\_sample\\_id..run.'\n",
       "\\item 'sample\\_id..exp.'\n",
       "\\item 'Sample\\_ID..run.'\n",
       "\\item 'analysis\\_type..exp.'\n",
       "\\item 'analysis\\_type..run.'\n",
       "\\item 'instrument\\_name..run.'\n",
       "\\item 'lane..run.'\n",
       "\\item 'library\\_type..exp.'\n",
       "\\item 'library\\_type..run.'\n",
       "\\item 'sample\\_type..exp.'\n",
       "\\item 'product\\_order..exp.'\n",
       "\\item 'product\\_order..run.'\n",
       "\\item 'data\\_type..exp.'\n",
       "\\item 'data\\_type..run.'\n",
       "\\item 'product\\_part\\_number..exp.'\n",
       "\\item 'product\\_part\\_number..run.'\n",
       "\\item 'sample\\_barcode..exp.'\n",
       "\\item 'sample\\_barcode..run.'\n",
       "\\item 'is\\_technical\\_control'\n",
       "\\item 'target\\_set..exp.'\n",
       "\\item 'primary\\_disease..exp.'\n",
       "\\item 'secondary\\_accessions..run.'\n",
       "\\item 'Alignment\\_Provider..run.'\n",
       "\\end{enumerate*}\n"
      ],
      "text/markdown": [
       "1. 'Run'\n",
       "2. 'analyte_type'\n",
       "3. 'Assay.Type'\n",
       "4. 'AvgSpotLen'\n",
       "5. 'Bases'\n",
       "6. 'BioProject'\n",
       "7. 'BioSample'\n",
       "8. 'biospecimen_repository'\n",
       "9. 'biospecimen_repository_sample_id'\n",
       "10. 'body_site'\n",
       "11. 'Bytes'\n",
       "12. 'Center.Name'\n",
       "13. 'Consent_Code'\n",
       "14. 'Consent'\n",
       "15. 'DATASTORE.filetype'\n",
       "16. 'DATASTORE.provider'\n",
       "17. 'DATASTORE.region'\n",
       "18. 'Experiment'\n",
       "19. 'gap_accession'\n",
       "20. 'Instrument'\n",
       "21. 'Is_Tumor'\n",
       "22. 'Library.Name'\n",
       "23. 'LibraryLayout'\n",
       "24. 'LibrarySelection'\n",
       "25. 'LibrarySource'\n",
       "26. 'Organism'\n",
       "27. 'Platform'\n",
       "28. 'ReleaseDate'\n",
       "29. 'Sample.Name'\n",
       "30. 'SRA.Study'\n",
       "31. 'study_design'\n",
       "32. 'study_name'\n",
       "33. 'submitted_subject_id'\n",
       "34. 'sex'\n",
       "35. 'AssemblyName'\n",
       "36. 'histological_type'\n",
       "37. 'molecular_data_type'\n",
       "38. 'alignment_software..exp.'\n",
       "39. 'AvgReadLength..run.'\n",
       "40. 'coverage..run.'\n",
       "41. 'lsid..exp.'\n",
       "42. 'lsid..run.'\n",
       "43. 'project..exp.'\n",
       "44. 'project..run.'\n",
       "45. 'run_barcode..run.'\n",
       "46. 'run_name..run.'\n",
       "47. 'work_request..exp.'\n",
       "48. 'work_request..run.'\n",
       "49. 'flowcell_barcode..run.'\n",
       "50. 'gssr_id..exp.'\n",
       "51. 'gssr_id..run.'\n",
       "52. 'material_type..exp.'\n",
       "53. 'read_group_id..run.'\n",
       "54. 'research_project..exp.'\n",
       "55. 'research_project..run.'\n",
       "56. 'root_sample_id..exp.'\n",
       "57. 'root_sample_id..run.'\n",
       "58. 'sample_id..exp.'\n",
       "59. 'Sample_ID..run.'\n",
       "60. 'analysis_type..exp.'\n",
       "61. 'analysis_type..run.'\n",
       "62. 'instrument_name..run.'\n",
       "63. 'lane..run.'\n",
       "64. 'library_type..exp.'\n",
       "65. 'library_type..run.'\n",
       "66. 'sample_type..exp.'\n",
       "67. 'product_order..exp.'\n",
       "68. 'product_order..run.'\n",
       "69. 'data_type..exp.'\n",
       "70. 'data_type..run.'\n",
       "71. 'product_part_number..exp.'\n",
       "72. 'product_part_number..run.'\n",
       "73. 'sample_barcode..exp.'\n",
       "74. 'sample_barcode..run.'\n",
       "75. 'is_technical_control'\n",
       "76. 'target_set..exp.'\n",
       "77. 'primary_disease..exp.'\n",
       "78. 'secondary_accessions..run.'\n",
       "79. 'Alignment_Provider..run.'\n",
       "\n",
       "\n"
      ],
      "text/plain": [
       " [1] \"Run\"                              \"analyte_type\"                    \n",
       " [3] \"Assay.Type\"                       \"AvgSpotLen\"                      \n",
       " [5] \"Bases\"                            \"BioProject\"                      \n",
       " [7] \"BioSample\"                        \"biospecimen_repository\"          \n",
       " [9] \"biospecimen_repository_sample_id\" \"body_site\"                       \n",
       "[11] \"Bytes\"                            \"Center.Name\"                     \n",
       "[13] \"Consent_Code\"                     \"Consent\"                         \n",
       "[15] \"DATASTORE.filetype\"               \"DATASTORE.provider\"              \n",
       "[17] \"DATASTORE.region\"                 \"Experiment\"                      \n",
       "[19] \"gap_accession\"                    \"Instrument\"                      \n",
       "[21] \"Is_Tumor\"                         \"Library.Name\"                    \n",
       "[23] \"LibraryLayout\"                    \"LibrarySelection\"                \n",
       "[25] \"LibrarySource\"                    \"Organism\"                        \n",
       "[27] \"Platform\"                         \"ReleaseDate\"                     \n",
       "[29] \"Sample.Name\"                      \"SRA.Study\"                       \n",
       "[31] \"study_design\"                     \"study_name\"                      \n",
       "[33] \"submitted_subject_id\"             \"sex\"                             \n",
       "[35] \"AssemblyName\"                     \"histological_type\"               \n",
       "[37] \"molecular_data_type\"              \"alignment_software..exp.\"        \n",
       "[39] \"AvgReadLength..run.\"              \"coverage..run.\"                  \n",
       "[41] \"lsid..exp.\"                       \"lsid..run.\"                      \n",
       "[43] \"project..exp.\"                    \"project..run.\"                   \n",
       "[45] \"run_barcode..run.\"                \"run_name..run.\"                  \n",
       "[47] \"work_request..exp.\"               \"work_request..run.\"              \n",
       "[49] \"flowcell_barcode..run.\"           \"gssr_id..exp.\"                   \n",
       "[51] \"gssr_id..run.\"                    \"material_type..exp.\"             \n",
       "[53] \"read_group_id..run.\"              \"research_project..exp.\"          \n",
       "[55] \"research_project..run.\"           \"root_sample_id..exp.\"            \n",
       "[57] \"root_sample_id..run.\"             \"sample_id..exp.\"                 \n",
       "[59] \"Sample_ID..run.\"                  \"analysis_type..exp.\"             \n",
       "[61] \"analysis_type..run.\"              \"instrument_name..run.\"           \n",
       "[63] \"lane..run.\"                       \"library_type..exp.\"              \n",
       "[65] \"library_type..run.\"               \"sample_type..exp.\"               \n",
       "[67] \"product_order..exp.\"              \"product_order..run.\"             \n",
       "[69] \"data_type..exp.\"                  \"data_type..run.\"                 \n",
       "[71] \"product_part_number..exp.\"        \"product_part_number..run.\"       \n",
       "[73] \"sample_barcode..exp.\"             \"sample_barcode..run.\"            \n",
       "[75] \"is_technical_control\"             \"target_set..exp.\"                \n",
       "[77] \"primary_disease..exp.\"            \"secondary_accessions..run.\"      \n",
       "[79] \"Alignment_Provider..run.\"        "
      ]
     },
     "metadata": {},
     "output_type": "display_data"
    }
   ],
   "source": [
    "colnames(SraRunTable)"
   ]
  },
  {
   "cell_type": "code",
   "execution_count": 35,
   "metadata": {},
   "outputs": [
    {
     "name": "stderr",
     "output_type": "stream",
     "text": [
      "also installing the dependencies ‘R.oo’, ‘R.methodsS3’\n",
      "\n",
      "Updating HTML index of packages in '.Library'\n",
      "Making 'packages.html' ... done\n"
     ]
    }
   ],
   "source": [
    "install.packages(\"R.utils\")"
   ]
  },
  {
   "cell_type": "code",
   "execution_count": 36,
   "metadata": {},
   "outputs": [
    {
     "name": "stderr",
     "output_type": "stream",
     "text": [
      "Loading required package: R.oo\n",
      "Loading required package: R.methodsS3\n",
      "R.methodsS3 v1.8.0 (2020-02-14 07:10:20 UTC) successfully loaded. See ?R.methodsS3 for help.\n",
      "R.oo v1.23.0 successfully loaded. See ?R.oo for help.\n",
      "\n",
      "Attaching package: ‘R.oo’\n",
      "\n",
      "The following object is masked from ‘package:R.methodsS3’:\n",
      "\n",
      "    throw\n",
      "\n",
      "The following object is masked from ‘package:magrittr’:\n",
      "\n",
      "    equals\n",
      "\n",
      "The following objects are masked from ‘package:devtools’:\n",
      "\n",
      "    check, unload\n",
      "\n",
      "The following objects are masked from ‘package:methods’:\n",
      "\n",
      "    getClasses, getMethods\n",
      "\n",
      "The following objects are masked from ‘package:base’:\n",
      "\n",
      "    attach, detach, load, save\n",
      "\n",
      "R.utils v2.9.2 successfully loaded. See ?R.utils for help.\n",
      "\n",
      "Attaching package: ‘R.utils’\n",
      "\n",
      "The following object is masked from ‘package:magrittr’:\n",
      "\n",
      "    extract\n",
      "\n",
      "The following object is masked from ‘package:utils’:\n",
      "\n",
      "    timestamp\n",
      "\n",
      "The following objects are masked from ‘package:base’:\n",
      "\n",
      "    cat, commandArgs, getOption, inherits, isOpen, nullfile, parse,\n",
      "    warnings\n",
      "\n"
     ]
    }
   ],
   "source": [
    "library(R.utils)"
   ]
  },
  {
   "cell_type": "code",
   "execution_count": 37,
   "metadata": {},
   "outputs": [],
   "source": [
    "# We have currently all of our runs from rMATS stored with the SRR number - this maps to the annotation via the SraRunTable$biospecimen_repository_sample_id"
   ]
  },
  {
   "cell_type": "code",
   "execution_count": 38,
   "metadata": {},
   "outputs": [],
   "source": [
    "se.jc.inc <- data.table::fread(\"../data/rmats_final.se.jc.inc.txt.gz\") "
   ]
  },
  {
   "cell_type": "code",
   "execution_count": 39,
   "metadata": {},
   "outputs": [
    {
     "data": {
      "text/html": [
       "<style>\n",
       ".list-inline {list-style: none; margin:0; padding: 0}\n",
       ".list-inline>li {display: inline-block}\n",
       ".list-inline>li:not(:last-child)::after {content: \"\\00b7\"; padding: 0 .5ex}\n",
       "</style>\n",
       "<ol class=list-inline><li>42611</li><li>8674</li></ol>\n"
      ],
      "text/latex": [
       "\\begin{enumerate*}\n",
       "\\item 42611\n",
       "\\item 8674\n",
       "\\end{enumerate*}\n"
      ],
      "text/markdown": [
       "1. 42611\n",
       "2. 8674\n",
       "\n",
       "\n"
      ],
      "text/plain": [
       "[1] 42611  8674"
      ]
     },
     "metadata": {},
     "output_type": "display_data"
    }
   ],
   "source": [
    "dim(se.jc.inc)"
   ]
  },
  {
   "cell_type": "code",
   "execution_count": 40,
   "metadata": {},
   "outputs": [
    {
     "data": {
      "text/html": [
       "<table>\n",
       "<caption>A data.table: 6 × 8674</caption>\n",
       "<thead>\n",
       "\t<tr><th scope=col>ID</th><th scope=col>SRR1068788</th><th scope=col>SRR1068808</th><th scope=col>SRR1068832</th><th scope=col>SRR1068855</th><th scope=col>SRR1068880</th><th scope=col>SRR1068929</th><th scope=col>SRR1068953</th><th scope=col>SRR1068977</th><th scope=col>SRR1068999</th><th scope=col>⋯</th><th scope=col>SRR821573</th><th scope=col>SRR821581</th><th scope=col>SRR821602</th><th scope=col>SRR821626</th><th scope=col>SRR821653</th><th scope=col>SRR821690</th><th scope=col>SRR821715</th><th scope=col>SRR823967</th><th scope=col>SRR823991</th><th scope=col>SRR824015</th></tr>\n",
       "\t<tr><th scope=col>&lt;int&gt;</th><th scope=col>&lt;dbl&gt;</th><th scope=col>&lt;dbl&gt;</th><th scope=col>&lt;dbl&gt;</th><th scope=col>&lt;dbl&gt;</th><th scope=col>&lt;dbl&gt;</th><th scope=col>&lt;dbl&gt;</th><th scope=col>&lt;dbl&gt;</th><th scope=col>&lt;dbl&gt;</th><th scope=col>&lt;dbl&gt;</th><th scope=col>⋯</th><th scope=col>&lt;dbl&gt;</th><th scope=col>&lt;dbl&gt;</th><th scope=col>&lt;dbl&gt;</th><th scope=col>&lt;dbl&gt;</th><th scope=col>&lt;dbl&gt;</th><th scope=col>&lt;dbl&gt;</th><th scope=col>&lt;dbl&gt;</th><th scope=col>&lt;dbl&gt;</th><th scope=col>&lt;dbl&gt;</th><th scope=col>&lt;dbl&gt;</th></tr>\n",
       "</thead>\n",
       "<tbody>\n",
       "\t<tr><td>1</td><td>0.0000</td><td>0.0000</td><td>0.000</td><td>0.0000</td><td>0.0769</td><td>0.0000</td><td>0.0000</td><td>0</td><td>0.0000</td><td>⋯</td><td>0.0000</td><td>0.000</td><td>0</td><td>0.0</td><td>0.0000</td><td>0</td><td>0.0000</td><td>0</td><td>0</td><td>0</td></tr>\n",
       "\t<tr><td>2</td><td>1.0000</td><td>1.0000</td><td>1.000</td><td>0.9972</td><td>1.0000</td><td>1.0000</td><td>0.9885</td><td>1</td><td>1.0000</td><td>⋯</td><td>1.0000</td><td>1.000</td><td>1</td><td>1.0</td><td>1.0000</td><td>1</td><td>1.0000</td><td>1</td><td>1</td><td>1</td></tr>\n",
       "\t<tr><td>3</td><td>1.0000</td><td>0.0000</td><td>1.000</td><td>0.0000</td><td>0.0000</td><td>0.0000</td><td>1.0000</td><td>1</td><td>1.0000</td><td>⋯</td><td>1.0000</td><td>1.000</td><td>0</td><td>1.0</td><td>1.0000</td><td>0</td><td>1.0000</td><td>0</td><td>0</td><td>0</td></tr>\n",
       "\t<tr><td>4</td><td>0.0000</td><td>1.0000</td><td>1.000</td><td>0.5000</td><td>0.0000</td><td>0.0000</td><td>1.0000</td><td>0</td><td>0.5000</td><td>⋯</td><td>0.0000</td><td>0.000</td><td>0</td><td>0.0</td><td>0.2000</td><td>0</td><td>0.0000</td><td>0</td><td>0</td><td>0</td></tr>\n",
       "\t<tr><td>5</td><td>1.0000</td><td>0.0000</td><td>0.250</td><td>0.1578</td><td>0.4285</td><td>1.0000</td><td>0.1428</td><td>1</td><td>0.4545</td><td>⋯</td><td>0.1428</td><td>0.250</td><td>0</td><td>0.2</td><td>0.5000</td><td>0</td><td>0.5000</td><td>0</td><td>0</td><td>0</td></tr>\n",
       "\t<tr><td>6</td><td>0.0833</td><td>0.0041</td><td>0.027</td><td>0.0087</td><td>0.0142</td><td>0.0082</td><td>0.0078</td><td>0</td><td>0.0084</td><td>⋯</td><td>0.0095</td><td>0.037</td><td>0</td><td>0.0</td><td>0.0058</td><td>0</td><td>0.0078</td><td>0</td><td>0</td><td>0</td></tr>\n",
       "</tbody>\n",
       "</table>\n"
      ],
      "text/latex": [
       "A data.table: 6 × 8674\n",
       "\\begin{tabular}{lllllllllllllllllllll}\n",
       " ID & SRR1068788 & SRR1068808 & SRR1068832 & SRR1068855 & SRR1068880 & SRR1068929 & SRR1068953 & SRR1068977 & SRR1068999 & ⋯ & SRR821573 & SRR821581 & SRR821602 & SRR821626 & SRR821653 & SRR821690 & SRR821715 & SRR823967 & SRR823991 & SRR824015\\\\\n",
       " <int> & <dbl> & <dbl> & <dbl> & <dbl> & <dbl> & <dbl> & <dbl> & <dbl> & <dbl> & ⋯ & <dbl> & <dbl> & <dbl> & <dbl> & <dbl> & <dbl> & <dbl> & <dbl> & <dbl> & <dbl>\\\\\n",
       "\\hline\n",
       "\t 1 & 0.0000 & 0.0000 & 0.000 & 0.0000 & 0.0769 & 0.0000 & 0.0000 & 0 & 0.0000 & ⋯ & 0.0000 & 0.000 & 0 & 0.0 & 0.0000 & 0 & 0.0000 & 0 & 0 & 0\\\\\n",
       "\t 2 & 1.0000 & 1.0000 & 1.000 & 0.9972 & 1.0000 & 1.0000 & 0.9885 & 1 & 1.0000 & ⋯ & 1.0000 & 1.000 & 1 & 1.0 & 1.0000 & 1 & 1.0000 & 1 & 1 & 1\\\\\n",
       "\t 3 & 1.0000 & 0.0000 & 1.000 & 0.0000 & 0.0000 & 0.0000 & 1.0000 & 1 & 1.0000 & ⋯ & 1.0000 & 1.000 & 0 & 1.0 & 1.0000 & 0 & 1.0000 & 0 & 0 & 0\\\\\n",
       "\t 4 & 0.0000 & 1.0000 & 1.000 & 0.5000 & 0.0000 & 0.0000 & 1.0000 & 0 & 0.5000 & ⋯ & 0.0000 & 0.000 & 0 & 0.0 & 0.2000 & 0 & 0.0000 & 0 & 0 & 0\\\\\n",
       "\t 5 & 1.0000 & 0.0000 & 0.250 & 0.1578 & 0.4285 & 1.0000 & 0.1428 & 1 & 0.4545 & ⋯ & 0.1428 & 0.250 & 0 & 0.2 & 0.5000 & 0 & 0.5000 & 0 & 0 & 0\\\\\n",
       "\t 6 & 0.0833 & 0.0041 & 0.027 & 0.0087 & 0.0142 & 0.0082 & 0.0078 & 0 & 0.0084 & ⋯ & 0.0095 & 0.037 & 0 & 0.0 & 0.0058 & 0 & 0.0078 & 0 & 0 & 0\\\\\n",
       "\\end{tabular}\n"
      ],
      "text/markdown": [
       "\n",
       "A data.table: 6 × 8674\n",
       "\n",
       "| ID &lt;int&gt; | SRR1068788 &lt;dbl&gt; | SRR1068808 &lt;dbl&gt; | SRR1068832 &lt;dbl&gt; | SRR1068855 &lt;dbl&gt; | SRR1068880 &lt;dbl&gt; | SRR1068929 &lt;dbl&gt; | SRR1068953 &lt;dbl&gt; | SRR1068977 &lt;dbl&gt; | SRR1068999 &lt;dbl&gt; | ⋯ ⋯ | SRR821573 &lt;dbl&gt; | SRR821581 &lt;dbl&gt; | SRR821602 &lt;dbl&gt; | SRR821626 &lt;dbl&gt; | SRR821653 &lt;dbl&gt; | SRR821690 &lt;dbl&gt; | SRR821715 &lt;dbl&gt; | SRR823967 &lt;dbl&gt; | SRR823991 &lt;dbl&gt; | SRR824015 &lt;dbl&gt; |\n",
       "|---|---|---|---|---|---|---|---|---|---|---|---|---|---|---|---|---|---|---|---|---|\n",
       "| 1 | 0.0000 | 0.0000 | 0.000 | 0.0000 | 0.0769 | 0.0000 | 0.0000 | 0 | 0.0000 | ⋯ | 0.0000 | 0.000 | 0 | 0.0 | 0.0000 | 0 | 0.0000 | 0 | 0 | 0 |\n",
       "| 2 | 1.0000 | 1.0000 | 1.000 | 0.9972 | 1.0000 | 1.0000 | 0.9885 | 1 | 1.0000 | ⋯ | 1.0000 | 1.000 | 1 | 1.0 | 1.0000 | 1 | 1.0000 | 1 | 1 | 1 |\n",
       "| 3 | 1.0000 | 0.0000 | 1.000 | 0.0000 | 0.0000 | 0.0000 | 1.0000 | 1 | 1.0000 | ⋯ | 1.0000 | 1.000 | 0 | 1.0 | 1.0000 | 0 | 1.0000 | 0 | 0 | 0 |\n",
       "| 4 | 0.0000 | 1.0000 | 1.000 | 0.5000 | 0.0000 | 0.0000 | 1.0000 | 0 | 0.5000 | ⋯ | 0.0000 | 0.000 | 0 | 0.0 | 0.2000 | 0 | 0.0000 | 0 | 0 | 0 |\n",
       "| 5 | 1.0000 | 0.0000 | 0.250 | 0.1578 | 0.4285 | 1.0000 | 0.1428 | 1 | 0.4545 | ⋯ | 0.1428 | 0.250 | 0 | 0.2 | 0.5000 | 0 | 0.5000 | 0 | 0 | 0 |\n",
       "| 6 | 0.0833 | 0.0041 | 0.027 | 0.0087 | 0.0142 | 0.0082 | 0.0078 | 0 | 0.0084 | ⋯ | 0.0095 | 0.037 | 0 | 0.0 | 0.0058 | 0 | 0.0078 | 0 | 0 | 0 |\n",
       "\n"
      ],
      "text/plain": [
       "  ID SRR1068788 SRR1068808 SRR1068832 SRR1068855 SRR1068880 SRR1068929\n",
       "1 1  0.0000     0.0000     0.000      0.0000     0.0769     0.0000    \n",
       "2 2  1.0000     1.0000     1.000      0.9972     1.0000     1.0000    \n",
       "3 3  1.0000     0.0000     1.000      0.0000     0.0000     0.0000    \n",
       "4 4  0.0000     1.0000     1.000      0.5000     0.0000     0.0000    \n",
       "5 5  1.0000     0.0000     0.250      0.1578     0.4285     1.0000    \n",
       "6 6  0.0833     0.0041     0.027      0.0087     0.0142     0.0082    \n",
       "  SRR1068953 SRR1068977 SRR1068999 ⋯ SRR821573 SRR821581 SRR821602 SRR821626\n",
       "1 0.0000     0          0.0000     ⋯ 0.0000    0.000     0         0.0      \n",
       "2 0.9885     1          1.0000     ⋯ 1.0000    1.000     1         1.0      \n",
       "3 1.0000     1          1.0000     ⋯ 1.0000    1.000     0         1.0      \n",
       "4 1.0000     0          0.5000     ⋯ 0.0000    0.000     0         0.0      \n",
       "5 0.1428     1          0.4545     ⋯ 0.1428    0.250     0         0.2      \n",
       "6 0.0078     0          0.0084     ⋯ 0.0095    0.037     0         0.0      \n",
       "  SRR821653 SRR821690 SRR821715 SRR823967 SRR823991 SRR824015\n",
       "1 0.0000    0         0.0000    0         0         0        \n",
       "2 1.0000    1         1.0000    1         1         1        \n",
       "3 1.0000    0         1.0000    0         0         0        \n",
       "4 0.2000    0         0.0000    0         0         0        \n",
       "5 0.5000    0         0.5000    0         0         0        \n",
       "6 0.0058    0         0.0078    0         0         0        "
      ]
     },
     "metadata": {},
     "output_type": "display_data"
    }
   ],
   "source": [
    "head (se.jc.inc)"
   ]
  },
  {
   "cell_type": "markdown",
   "metadata": {},
   "source": [
    "#  Now we want to replace all *dashes* with **dots \".\"**"
   ]
  },
  {
   "cell_type": "code",
   "execution_count": 17,
   "metadata": {},
   "outputs": [
    {
     "data": {
      "text/html": [
       "'GTEX.1117F.0226.SM.5GZZ7'"
      ],
      "text/latex": [
       "'GTEX.1117F.0226.SM.5GZZ7'"
      ],
      "text/markdown": [
       "'GTEX.1117F.0226.SM.5GZZ7'"
      ],
      "text/plain": [
       "[1] \"GTEX.1117F.0226.SM.5GZZ7\""
      ]
     },
     "metadata": {},
     "output_type": "display_data"
    },
    {
     "data": {
      "text/html": [
       "'GTEX-WHSB-2026-SM-3LK6H'"
      ],
      "text/latex": [
       "'GTEX-WHSB-2026-SM-3LK6H'"
      ],
      "text/markdown": [
       "'GTEX-WHSB-2026-SM-3LK6H'"
      ],
      "text/plain": [
       "[1] \"GTEX-WHSB-2026-SM-3LK6H\""
      ]
     },
     "metadata": {},
     "output_type": "display_data"
    },
    {
     "data": {
      "text/html": [
       "'GTEX.1117F.0226.SM.5GZZ7'"
      ],
      "text/latex": [
       "'GTEX.1117F.0226.SM.5GZZ7'"
      ],
      "text/markdown": [
       "'GTEX.1117F.0226.SM.5GZZ7'"
      ],
      "text/plain": [
       "[1] \"GTEX.1117F.0226.SM.5GZZ7\""
      ]
     },
     "metadata": {},
     "output_type": "display_data"
    },
    {
     "data": {
      "text/html": [
       "'GTEX.WHSB.2026.SM.3LK6H'"
      ],
      "text/latex": [
       "'GTEX.WHSB.2026.SM.3LK6H'"
      ],
      "text/markdown": [
       "'GTEX.WHSB.2026.SM.3LK6H'"
      ],
      "text/plain": [
       "[1] \"GTEX.WHSB.2026.SM.3LK6H\""
      ]
     },
     "metadata": {},
     "output_type": "display_data"
    }
   ],
   "source": [
    "pData(obj)$SAMPID[1]\n",
    "SraRunTable$biospecimen_repository_sample_id[10]\n",
    "pData(obj)$SAMPID                            <- gsub('-','\\\\.',pData(obj)$SAMPID)\n",
    "SraRunTable$biospecimen_repository_sample_id <- gsub('-','\\\\.',SraRunTable$biospecimen_repository_sample_id)\n",
    "pData(obj)$SAMPID[1]\n",
    "SraRunTable$biospecimen_repository_sample_id[10]\n"
   ]
  },
  {
   "cell_type": "code",
   "execution_count": 7,
   "metadata": {},
   "outputs": [
    {
     "data": {
      "text/html": [
       "<style>\n",
       ".list-inline {list-style: none; margin:0; padding: 0}\n",
       ".list-inline>li {display: inline-block}\n",
       ".list-inline>li:not(:last-child)::after {content: \"\\00b7\"; padding: 0 .5ex}\n",
       "</style>\n",
       "<ol class=list-inline><li>'SAMPID'</li><li>'SMATSSCR'</li><li>'SMCENTER'</li><li>'SMPTHNTS'</li><li>'SMRIN'</li><li>'SMTS'</li><li>'SMTSD'</li><li>'SMUBRID'</li><li>'SMTSISCH'</li><li>'SMTSPAX'</li><li>'SMNABTCH'</li><li>'SMNABTCHT'</li><li>'SMNABTCHD'</li><li>'SMGEBTCH'</li><li>'SMGEBTCHD'</li><li>'SMGEBTCHT'</li><li>'SMAFRZE'</li><li>'SMGTC'</li><li>'SME2MPRT'</li><li>'SMCHMPRS'</li><li>'SMNTRART'</li><li>'SMNUMGPS'</li><li>'SMMAPRT'</li><li>'SMEXNCRT'</li><li>'SM550NRM'</li><li>'SMGNSDTC'</li><li>'SMUNMPRT'</li><li>'SM350NRM'</li><li>'SMRDLGTH'</li><li>'SMMNCPB'</li><li>'SME1MMRT'</li><li>'SMSFLGTH'</li><li>'SMESTLBS'</li><li>'SMMPPD'</li><li>'SMNTERRT'</li><li>'SMRRNANM'</li><li>'SMRDTTL'</li><li>'SMVQCFL'</li><li>'SMMNCV'</li><li>'SMTRSCPT'</li><li>'SMMPPDPR'</li><li>'SMCGLGTH'</li><li>'SMGAPPCT'</li><li>'SMUNPDRD'</li><li>'SMNTRNRT'</li><li>'SMMPUNRT'</li><li>'SMEXPEFF'</li><li>'SMMPPDUN'</li><li>'SME2MMRT'</li><li>'SME2ANTI'</li><li>'SMALTALG'</li><li>'SME2SNSE'</li><li>'SMMFLGTH'</li><li>'SME1ANTI'</li><li>'SMSPLTRD'</li><li>'SMBSMMRT'</li><li>'SME1SNSE'</li><li>'SME1PCTS'</li><li>'SMRRNART'</li><li>'SME1MPRT'</li><li>'SMNUM5CD'</li><li>'SMDPMPRT'</li><li>'SME2PCTS'</li><li>'SUBJID'</li><li>'SEX'</li><li>'AGE'</li><li>'DTHHRDY'</li></ol>\n"
      ],
      "text/latex": [
       "\\begin{enumerate*}\n",
       "\\item 'SAMPID'\n",
       "\\item 'SMATSSCR'\n",
       "\\item 'SMCENTER'\n",
       "\\item 'SMPTHNTS'\n",
       "\\item 'SMRIN'\n",
       "\\item 'SMTS'\n",
       "\\item 'SMTSD'\n",
       "\\item 'SMUBRID'\n",
       "\\item 'SMTSISCH'\n",
       "\\item 'SMTSPAX'\n",
       "\\item 'SMNABTCH'\n",
       "\\item 'SMNABTCHT'\n",
       "\\item 'SMNABTCHD'\n",
       "\\item 'SMGEBTCH'\n",
       "\\item 'SMGEBTCHD'\n",
       "\\item 'SMGEBTCHT'\n",
       "\\item 'SMAFRZE'\n",
       "\\item 'SMGTC'\n",
       "\\item 'SME2MPRT'\n",
       "\\item 'SMCHMPRS'\n",
       "\\item 'SMNTRART'\n",
       "\\item 'SMNUMGPS'\n",
       "\\item 'SMMAPRT'\n",
       "\\item 'SMEXNCRT'\n",
       "\\item 'SM550NRM'\n",
       "\\item 'SMGNSDTC'\n",
       "\\item 'SMUNMPRT'\n",
       "\\item 'SM350NRM'\n",
       "\\item 'SMRDLGTH'\n",
       "\\item 'SMMNCPB'\n",
       "\\item 'SME1MMRT'\n",
       "\\item 'SMSFLGTH'\n",
       "\\item 'SMESTLBS'\n",
       "\\item 'SMMPPD'\n",
       "\\item 'SMNTERRT'\n",
       "\\item 'SMRRNANM'\n",
       "\\item 'SMRDTTL'\n",
       "\\item 'SMVQCFL'\n",
       "\\item 'SMMNCV'\n",
       "\\item 'SMTRSCPT'\n",
       "\\item 'SMMPPDPR'\n",
       "\\item 'SMCGLGTH'\n",
       "\\item 'SMGAPPCT'\n",
       "\\item 'SMUNPDRD'\n",
       "\\item 'SMNTRNRT'\n",
       "\\item 'SMMPUNRT'\n",
       "\\item 'SMEXPEFF'\n",
       "\\item 'SMMPPDUN'\n",
       "\\item 'SME2MMRT'\n",
       "\\item 'SME2ANTI'\n",
       "\\item 'SMALTALG'\n",
       "\\item 'SME2SNSE'\n",
       "\\item 'SMMFLGTH'\n",
       "\\item 'SME1ANTI'\n",
       "\\item 'SMSPLTRD'\n",
       "\\item 'SMBSMMRT'\n",
       "\\item 'SME1SNSE'\n",
       "\\item 'SME1PCTS'\n",
       "\\item 'SMRRNART'\n",
       "\\item 'SME1MPRT'\n",
       "\\item 'SMNUM5CD'\n",
       "\\item 'SMDPMPRT'\n",
       "\\item 'SME2PCTS'\n",
       "\\item 'SUBJID'\n",
       "\\item 'SEX'\n",
       "\\item 'AGE'\n",
       "\\item 'DTHHRDY'\n",
       "\\end{enumerate*}\n"
      ],
      "text/markdown": [
       "1. 'SAMPID'\n",
       "2. 'SMATSSCR'\n",
       "3. 'SMCENTER'\n",
       "4. 'SMPTHNTS'\n",
       "5. 'SMRIN'\n",
       "6. 'SMTS'\n",
       "7. 'SMTSD'\n",
       "8. 'SMUBRID'\n",
       "9. 'SMTSISCH'\n",
       "10. 'SMTSPAX'\n",
       "11. 'SMNABTCH'\n",
       "12. 'SMNABTCHT'\n",
       "13. 'SMNABTCHD'\n",
       "14. 'SMGEBTCH'\n",
       "15. 'SMGEBTCHD'\n",
       "16. 'SMGEBTCHT'\n",
       "17. 'SMAFRZE'\n",
       "18. 'SMGTC'\n",
       "19. 'SME2MPRT'\n",
       "20. 'SMCHMPRS'\n",
       "21. 'SMNTRART'\n",
       "22. 'SMNUMGPS'\n",
       "23. 'SMMAPRT'\n",
       "24. 'SMEXNCRT'\n",
       "25. 'SM550NRM'\n",
       "26. 'SMGNSDTC'\n",
       "27. 'SMUNMPRT'\n",
       "28. 'SM350NRM'\n",
       "29. 'SMRDLGTH'\n",
       "30. 'SMMNCPB'\n",
       "31. 'SME1MMRT'\n",
       "32. 'SMSFLGTH'\n",
       "33. 'SMESTLBS'\n",
       "34. 'SMMPPD'\n",
       "35. 'SMNTERRT'\n",
       "36. 'SMRRNANM'\n",
       "37. 'SMRDTTL'\n",
       "38. 'SMVQCFL'\n",
       "39. 'SMMNCV'\n",
       "40. 'SMTRSCPT'\n",
       "41. 'SMMPPDPR'\n",
       "42. 'SMCGLGTH'\n",
       "43. 'SMGAPPCT'\n",
       "44. 'SMUNPDRD'\n",
       "45. 'SMNTRNRT'\n",
       "46. 'SMMPUNRT'\n",
       "47. 'SMEXPEFF'\n",
       "48. 'SMMPPDUN'\n",
       "49. 'SME2MMRT'\n",
       "50. 'SME2ANTI'\n",
       "51. 'SMALTALG'\n",
       "52. 'SME2SNSE'\n",
       "53. 'SMMFLGTH'\n",
       "54. 'SME1ANTI'\n",
       "55. 'SMSPLTRD'\n",
       "56. 'SMBSMMRT'\n",
       "57. 'SME1SNSE'\n",
       "58. 'SME1PCTS'\n",
       "59. 'SMRRNART'\n",
       "60. 'SME1MPRT'\n",
       "61. 'SMNUM5CD'\n",
       "62. 'SMDPMPRT'\n",
       "63. 'SME2PCTS'\n",
       "64. 'SUBJID'\n",
       "65. 'SEX'\n",
       "66. 'AGE'\n",
       "67. 'DTHHRDY'\n",
       "\n",
       "\n"
      ],
      "text/plain": [
       " [1] \"SAMPID\"    \"SMATSSCR\"  \"SMCENTER\"  \"SMPTHNTS\"  \"SMRIN\"     \"SMTS\"     \n",
       " [7] \"SMTSD\"     \"SMUBRID\"   \"SMTSISCH\"  \"SMTSPAX\"   \"SMNABTCH\"  \"SMNABTCHT\"\n",
       "[13] \"SMNABTCHD\" \"SMGEBTCH\"  \"SMGEBTCHD\" \"SMGEBTCHT\" \"SMAFRZE\"   \"SMGTC\"    \n",
       "[19] \"SME2MPRT\"  \"SMCHMPRS\"  \"SMNTRART\"  \"SMNUMGPS\"  \"SMMAPRT\"   \"SMEXNCRT\" \n",
       "[25] \"SM550NRM\"  \"SMGNSDTC\"  \"SMUNMPRT\"  \"SM350NRM\"  \"SMRDLGTH\"  \"SMMNCPB\"  \n",
       "[31] \"SME1MMRT\"  \"SMSFLGTH\"  \"SMESTLBS\"  \"SMMPPD\"    \"SMNTERRT\"  \"SMRRNANM\" \n",
       "[37] \"SMRDTTL\"   \"SMVQCFL\"   \"SMMNCV\"    \"SMTRSCPT\"  \"SMMPPDPR\"  \"SMCGLGTH\" \n",
       "[43] \"SMGAPPCT\"  \"SMUNPDRD\"  \"SMNTRNRT\"  \"SMMPUNRT\"  \"SMEXPEFF\"  \"SMMPPDUN\" \n",
       "[49] \"SME2MMRT\"  \"SME2ANTI\"  \"SMALTALG\"  \"SME2SNSE\"  \"SMMFLGTH\"  \"SME1ANTI\" \n",
       "[55] \"SMSPLTRD\"  \"SMBSMMRT\"  \"SME1SNSE\"  \"SME1PCTS\"  \"SMRRNART\"  \"SME1MPRT\" \n",
       "[61] \"SMNUM5CD\"  \"SMDPMPRT\"  \"SME2PCTS\"  \"SUBJID\"    \"SEX\"       \"AGE\"      \n",
       "[67] \"DTHHRDY\"  "
      ]
     },
     "metadata": {},
     "output_type": "display_data"
    }
   ],
   "source": [
    "colnames(pData(obj))"
   ]
  },
  {
   "cell_type": "code",
   "execution_count": 8,
   "metadata": {},
   "outputs": [
    {
     "data": {
      "text/html": [
       "<table>\n",
       "<caption>A matrix: 6 × 17382 of type dbl</caption>\n",
       "<thead>\n",
       "\t<tr><th></th><th scope=col>GTEX-1117F-0226-SM-5GZZ7</th><th scope=col>GTEX-1117F-0426-SM-5EGHI</th><th scope=col>GTEX-1117F-0526-SM-5EGHJ</th><th scope=col>GTEX-1117F-0626-SM-5N9CS</th><th scope=col>GTEX-1117F-0726-SM-5GIEN</th><th scope=col>GTEX-1117F-1326-SM-5EGHH</th><th scope=col>GTEX-1117F-2426-SM-5EGGH</th><th scope=col>GTEX-1117F-2526-SM-5GZY6</th><th scope=col>GTEX-1117F-2826-SM-5GZXL</th><th scope=col>GTEX-1117F-2926-SM-5GZYI</th><th scope=col>⋯</th><th scope=col>GTEX-ZZPU-1126-SM-5N9CW</th><th scope=col>GTEX-ZZPU-1226-SM-5N9CK</th><th scope=col>GTEX-ZZPU-1326-SM-5GZWS</th><th scope=col>GTEX-ZZPU-1426-SM-5GZZ6</th><th scope=col>GTEX-ZZPU-1826-SM-5E43L</th><th scope=col>GTEX-ZZPU-2126-SM-5EGIU</th><th scope=col>GTEX-ZZPU-2226-SM-5EGIV</th><th scope=col>GTEX-ZZPU-2426-SM-5E44I</th><th scope=col>GTEX-ZZPU-2626-SM-5E45Y</th><th scope=col>GTEX-ZZPU-2726-SM-5NQ8O</th></tr>\n",
       "</thead>\n",
       "<tbody>\n",
       "\t<tr><th scope=row>ENSG00000223972.5</th><td>  0</td><td>  0</td><td>  0</td><td>  0</td><td>  0</td><td>  0</td><td>  0</td><td>  0</td><td>  0</td><td>  0</td><td>⋯</td><td> 0</td><td> 2</td><td>  0</td><td> 0</td><td> 0</td><td> 0</td><td> 0</td><td> 0</td><td> 1</td><td> 1</td></tr>\n",
       "\t<tr><th scope=row>ENSG00000227232.5</th><td>187</td><td>109</td><td>143</td><td>251</td><td>113</td><td>139</td><td>199</td><td>473</td><td>286</td><td>306</td><td>⋯</td><td>72</td><td>96</td><td>136</td><td>79</td><td>89</td><td>86</td><td>49</td><td>84</td><td>34</td><td>66</td></tr>\n",
       "\t<tr><th scope=row>ENSG00000278267.1</th><td>  0</td><td>  0</td><td>  1</td><td>  0</td><td>  0</td><td>  0</td><td>  0</td><td>  0</td><td>  0</td><td>  0</td><td>⋯</td><td> 0</td><td> 0</td><td>  0</td><td> 0</td><td> 0</td><td> 0</td><td> 0</td><td> 0</td><td> 0</td><td> 0</td></tr>\n",
       "\t<tr><th scope=row>ENSG00000243485.5</th><td>  1</td><td>  0</td><td>  0</td><td>  1</td><td>  0</td><td>  0</td><td>  0</td><td>  0</td><td>  0</td><td>  1</td><td>⋯</td><td> 0</td><td> 0</td><td>  1</td><td> 0</td><td> 2</td><td> 2</td><td> 0</td><td> 1</td><td> 0</td><td> 0</td></tr>\n",
       "\t<tr><th scope=row>ENSG00000237613.2</th><td>  0</td><td>  0</td><td>  0</td><td>  0</td><td>  0</td><td>  0</td><td>  0</td><td>  1</td><td>  0</td><td>  0</td><td>⋯</td><td> 1</td><td> 0</td><td>  0</td><td> 0</td><td> 0</td><td> 0</td><td> 0</td><td> 0</td><td> 0</td><td> 0</td></tr>\n",
       "\t<tr><th scope=row>ENSG00000268020.3</th><td>  0</td><td>  1</td><td>  0</td><td>  0</td><td>  0</td><td>  1</td><td>  1</td><td>  0</td><td>  1</td><td>  2</td><td>⋯</td><td> 1</td><td> 0</td><td>  0</td><td> 1</td><td> 2</td><td> 0</td><td> 0</td><td> 0</td><td> 1</td><td> 1</td></tr>\n",
       "</tbody>\n",
       "</table>\n"
      ],
      "text/latex": [
       "A matrix: 6 × 17382 of type dbl\n",
       "\\begin{tabular}{r|lllllllllllllllllllll}\n",
       "  & GTEX-1117F-0226-SM-5GZZ7 & GTEX-1117F-0426-SM-5EGHI & GTEX-1117F-0526-SM-5EGHJ & GTEX-1117F-0626-SM-5N9CS & GTEX-1117F-0726-SM-5GIEN & GTEX-1117F-1326-SM-5EGHH & GTEX-1117F-2426-SM-5EGGH & GTEX-1117F-2526-SM-5GZY6 & GTEX-1117F-2826-SM-5GZXL & GTEX-1117F-2926-SM-5GZYI & ⋯ & GTEX-ZZPU-1126-SM-5N9CW & GTEX-ZZPU-1226-SM-5N9CK & GTEX-ZZPU-1326-SM-5GZWS & GTEX-ZZPU-1426-SM-5GZZ6 & GTEX-ZZPU-1826-SM-5E43L & GTEX-ZZPU-2126-SM-5EGIU & GTEX-ZZPU-2226-SM-5EGIV & GTEX-ZZPU-2426-SM-5E44I & GTEX-ZZPU-2626-SM-5E45Y & GTEX-ZZPU-2726-SM-5NQ8O\\\\\n",
       "\\hline\n",
       "\tENSG00000223972.5 &   0 &   0 &   0 &   0 &   0 &   0 &   0 &   0 &   0 &   0 & ⋯ &  0 &  2 &   0 &  0 &  0 &  0 &  0 &  0 &  1 &  1\\\\\n",
       "\tENSG00000227232.5 & 187 & 109 & 143 & 251 & 113 & 139 & 199 & 473 & 286 & 306 & ⋯ & 72 & 96 & 136 & 79 & 89 & 86 & 49 & 84 & 34 & 66\\\\\n",
       "\tENSG00000278267.1 &   0 &   0 &   1 &   0 &   0 &   0 &   0 &   0 &   0 &   0 & ⋯ &  0 &  0 &   0 &  0 &  0 &  0 &  0 &  0 &  0 &  0\\\\\n",
       "\tENSG00000243485.5 &   1 &   0 &   0 &   1 &   0 &   0 &   0 &   0 &   0 &   1 & ⋯ &  0 &  0 &   1 &  0 &  2 &  2 &  0 &  1 &  0 &  0\\\\\n",
       "\tENSG00000237613.2 &   0 &   0 &   0 &   0 &   0 &   0 &   0 &   1 &   0 &   0 & ⋯ &  1 &  0 &   0 &  0 &  0 &  0 &  0 &  0 &  0 &  0\\\\\n",
       "\tENSG00000268020.3 &   0 &   1 &   0 &   0 &   0 &   1 &   1 &   0 &   1 &   2 & ⋯ &  1 &  0 &   0 &  1 &  2 &  0 &  0 &  0 &  1 &  1\\\\\n",
       "\\end{tabular}\n"
      ],
      "text/markdown": [
       "\n",
       "A matrix: 6 × 17382 of type dbl\n",
       "\n",
       "| <!--/--> | GTEX-1117F-0226-SM-5GZZ7 | GTEX-1117F-0426-SM-5EGHI | GTEX-1117F-0526-SM-5EGHJ | GTEX-1117F-0626-SM-5N9CS | GTEX-1117F-0726-SM-5GIEN | GTEX-1117F-1326-SM-5EGHH | GTEX-1117F-2426-SM-5EGGH | GTEX-1117F-2526-SM-5GZY6 | GTEX-1117F-2826-SM-5GZXL | GTEX-1117F-2926-SM-5GZYI | ⋯ | GTEX-ZZPU-1126-SM-5N9CW | GTEX-ZZPU-1226-SM-5N9CK | GTEX-ZZPU-1326-SM-5GZWS | GTEX-ZZPU-1426-SM-5GZZ6 | GTEX-ZZPU-1826-SM-5E43L | GTEX-ZZPU-2126-SM-5EGIU | GTEX-ZZPU-2226-SM-5EGIV | GTEX-ZZPU-2426-SM-5E44I | GTEX-ZZPU-2626-SM-5E45Y | GTEX-ZZPU-2726-SM-5NQ8O |\n",
       "|---|---|---|---|---|---|---|---|---|---|---|---|---|---|---|---|---|---|---|---|---|---|\n",
       "| ENSG00000223972.5 |   0 |   0 |   0 |   0 |   0 |   0 |   0 |   0 |   0 |   0 | ⋯ |  0 |  2 |   0 |  0 |  0 |  0 |  0 |  0 |  1 |  1 |\n",
       "| ENSG00000227232.5 | 187 | 109 | 143 | 251 | 113 | 139 | 199 | 473 | 286 | 306 | ⋯ | 72 | 96 | 136 | 79 | 89 | 86 | 49 | 84 | 34 | 66 |\n",
       "| ENSG00000278267.1 |   0 |   0 |   1 |   0 |   0 |   0 |   0 |   0 |   0 |   0 | ⋯ |  0 |  0 |   0 |  0 |  0 |  0 |  0 |  0 |  0 |  0 |\n",
       "| ENSG00000243485.5 |   1 |   0 |   0 |   1 |   0 |   0 |   0 |   0 |   0 |   1 | ⋯ |  0 |  0 |   1 |  0 |  2 |  2 |  0 |  1 |  0 |  0 |\n",
       "| ENSG00000237613.2 |   0 |   0 |   0 |   0 |   0 |   0 |   0 |   1 |   0 |   0 | ⋯ |  1 |  0 |   0 |  0 |  0 |  0 |  0 |  0 |  0 |  0 |\n",
       "| ENSG00000268020.3 |   0 |   1 |   0 |   0 |   0 |   1 |   1 |   0 |   1 |   2 | ⋯ |  1 |  0 |   0 |  1 |  2 |  0 |  0 |  0 |  1 |  1 |\n",
       "\n"
      ],
      "text/plain": [
       "                  GTEX-1117F-0226-SM-5GZZ7 GTEX-1117F-0426-SM-5EGHI\n",
       "ENSG00000223972.5   0                        0                     \n",
       "ENSG00000227232.5 187                      109                     \n",
       "ENSG00000278267.1   0                        0                     \n",
       "ENSG00000243485.5   1                        0                     \n",
       "ENSG00000237613.2   0                        0                     \n",
       "ENSG00000268020.3   0                        1                     \n",
       "                  GTEX-1117F-0526-SM-5EGHJ GTEX-1117F-0626-SM-5N9CS\n",
       "ENSG00000223972.5   0                        0                     \n",
       "ENSG00000227232.5 143                      251                     \n",
       "ENSG00000278267.1   1                        0                     \n",
       "ENSG00000243485.5   0                        1                     \n",
       "ENSG00000237613.2   0                        0                     \n",
       "ENSG00000268020.3   0                        0                     \n",
       "                  GTEX-1117F-0726-SM-5GIEN GTEX-1117F-1326-SM-5EGHH\n",
       "ENSG00000223972.5   0                        0                     \n",
       "ENSG00000227232.5 113                      139                     \n",
       "ENSG00000278267.1   0                        0                     \n",
       "ENSG00000243485.5   0                        0                     \n",
       "ENSG00000237613.2   0                        0                     \n",
       "ENSG00000268020.3   0                        1                     \n",
       "                  GTEX-1117F-2426-SM-5EGGH GTEX-1117F-2526-SM-5GZY6\n",
       "ENSG00000223972.5   0                        0                     \n",
       "ENSG00000227232.5 199                      473                     \n",
       "ENSG00000278267.1   0                        0                     \n",
       "ENSG00000243485.5   0                        0                     \n",
       "ENSG00000237613.2   0                        1                     \n",
       "ENSG00000268020.3   1                        0                     \n",
       "                  GTEX-1117F-2826-SM-5GZXL GTEX-1117F-2926-SM-5GZYI ⋯\n",
       "ENSG00000223972.5   0                        0                      ⋯\n",
       "ENSG00000227232.5 286                      306                      ⋯\n",
       "ENSG00000278267.1   0                        0                      ⋯\n",
       "ENSG00000243485.5   0                        1                      ⋯\n",
       "ENSG00000237613.2   0                        0                      ⋯\n",
       "ENSG00000268020.3   1                        2                      ⋯\n",
       "                  GTEX-ZZPU-1126-SM-5N9CW GTEX-ZZPU-1226-SM-5N9CK\n",
       "ENSG00000223972.5  0                       2                     \n",
       "ENSG00000227232.5 72                      96                     \n",
       "ENSG00000278267.1  0                       0                     \n",
       "ENSG00000243485.5  0                       0                     \n",
       "ENSG00000237613.2  1                       0                     \n",
       "ENSG00000268020.3  1                       0                     \n",
       "                  GTEX-ZZPU-1326-SM-5GZWS GTEX-ZZPU-1426-SM-5GZZ6\n",
       "ENSG00000223972.5   0                      0                     \n",
       "ENSG00000227232.5 136                     79                     \n",
       "ENSG00000278267.1   0                      0                     \n",
       "ENSG00000243485.5   1                      0                     \n",
       "ENSG00000237613.2   0                      0                     \n",
       "ENSG00000268020.3   0                      1                     \n",
       "                  GTEX-ZZPU-1826-SM-5E43L GTEX-ZZPU-2126-SM-5EGIU\n",
       "ENSG00000223972.5  0                       0                     \n",
       "ENSG00000227232.5 89                      86                     \n",
       "ENSG00000278267.1  0                       0                     \n",
       "ENSG00000243485.5  2                       2                     \n",
       "ENSG00000237613.2  0                       0                     \n",
       "ENSG00000268020.3  2                       0                     \n",
       "                  GTEX-ZZPU-2226-SM-5EGIV GTEX-ZZPU-2426-SM-5E44I\n",
       "ENSG00000223972.5  0                       0                     \n",
       "ENSG00000227232.5 49                      84                     \n",
       "ENSG00000278267.1  0                       0                     \n",
       "ENSG00000243485.5  0                       1                     \n",
       "ENSG00000237613.2  0                       0                     \n",
       "ENSG00000268020.3  0                       0                     \n",
       "                  GTEX-ZZPU-2626-SM-5E45Y GTEX-ZZPU-2726-SM-5NQ8O\n",
       "ENSG00000223972.5  1                       1                     \n",
       "ENSG00000227232.5 34                      66                     \n",
       "ENSG00000278267.1  0                       0                     \n",
       "ENSG00000243485.5  0                       0                     \n",
       "ENSG00000237613.2  0                       0                     \n",
       "ENSG00000268020.3  1                       1                     "
      ]
     },
     "metadata": {},
     "output_type": "display_data"
    }
   ],
   "source": [
    "head(exprs(obj))"
   ]
  },
  {
   "cell_type": "code",
   "execution_count": 25,
   "metadata": {},
   "outputs": [
    {
     "data": {
      "text/html": [
       "<style>\n",
       ".list-inline {list-style: none; margin:0; padding: 0}\n",
       ".list-inline>li {display: inline-block}\n",
       ".list-inline>li:not(:last-child)::after {content: \"\\00b7\"; padding: 0 .5ex}\n",
       "</style>\n",
       "<ol class=list-inline><li>8781</li><li>146</li></ol>\n"
      ],
      "text/latex": [
       "\\begin{enumerate*}\n",
       "\\item 8781\n",
       "\\item 146\n",
       "\\end{enumerate*}\n"
      ],
      "text/markdown": [
       "1. 8781\n",
       "2. 146\n",
       "\n",
       "\n"
      ],
      "text/plain": [
       "[1] 8781  146"
      ]
     },
     "metadata": {},
     "output_type": "display_data"
    },
    {
     "data": {
      "text/html": [
       "<style>\n",
       ".list-inline {list-style: none; margin:0; padding: 0}\n",
       ".list-inline>li {display: inline-block}\n",
       ".list-inline>li:not(:last-child)::after {content: \"\\00b7\"; padding: 0 .5ex}\n",
       "</style>\n",
       "<ol class=list-inline><li>2</li><li>146</li></ol>\n"
      ],
      "text/latex": [
       "\\begin{enumerate*}\n",
       "\\item 2\n",
       "\\item 146\n",
       "\\end{enumerate*}\n"
      ],
      "text/markdown": [
       "1. 2\n",
       "2. 146\n",
       "\n",
       "\n"
      ],
      "text/plain": [
       "[1]   2 146"
      ]
     },
     "metadata": {},
     "output_type": "display_data"
    },
    {
     "data": {
      "text/html": [
       "<style>\n",
       ".list-inline {list-style: none; margin:0; padding: 0}\n",
       ".list-inline>li {display: inline-block}\n",
       ".list-inline>li:not(:last-child)::after {content: \"\\00b7\"; padding: 0 .5ex}\n",
       "</style>\n",
       "<ol class=list-inline><li>206</li><li>146</li></ol>\n"
      ],
      "text/latex": [
       "\\begin{enumerate*}\n",
       "\\item 206\n",
       "\\item 146\n",
       "\\end{enumerate*}\n"
      ],
      "text/markdown": [
       "1. 206\n",
       "2. 146\n",
       "\n",
       "\n"
      ],
      "text/plain": [
       "[1] 206 146"
      ]
     },
     "metadata": {},
     "output_type": "display_data"
    }
   ],
   "source": [
    "# From SraRunTable\n",
    "meta.data           <- read.csv(\"../data/SraRunTable.noCram.noExome.noWGS.totalRNA.txt\", header = T)\n",
    "\n",
    "# Reform GTEX ids in meta.data$biospecimen_repository_sample_id to match pData$SAMPID\n",
    "meta.data$SAMPID<- gsub(\"-\",\".\" , meta.data$biospecimen_repository_sample_id)\n",
    "\n",
    "# Merge the 2 metadata tables by column SAMPID\n",
    "merged <- merge(meta.data, pData(obj), by = \"SAMPID\")\n",
    "dim(merged)\n",
    "\n",
    "# Write dataframe into .csv file\n",
    "FILE = paste0('../data/merged_metadata', '.csv')\n",
    "write.table( merged,\n",
    "             file      = FILE,\n",
    "             append    = FALSE,\n",
    "             quote     = FALSE,\n",
    "             sep       = \",\",\n",
    "             row.names = F,\n",
    "             col.names = T)\n",
    "\n",
    "lung_DTHHRDY_equal_zero          <- merged[(merged$SMTSD == \"Lung\") & (merged$DTHHRDY == 0), ]\n",
    "dim(lung_DTHHRDY_equal_zero)\n",
    "\n",
    "breast                           <- merged[merged$SMTSD == \"Breast - Mammary Tissue\"  , ]\n",
    "dim(breast)\n"
   ]
  },
  {
   "cell_type": "code",
   "execution_count": null,
   "metadata": {},
   "outputs": [],
   "source": []
  },
  {
   "cell_type": "markdown",
   "metadata": {},
   "source": [
    "#  Differential Expression using `{edgeR}`"
   ]
  },
  {
   "cell_type": "markdown",
   "metadata": {},
   "source": [
    "For gene expression analysis, we used the exprs(obj) function to obtain the counts matrix via transcript_counts_matrix <- exprs(obj).  For us we will use the results from our rMATS - first with se.inc.jc.txt but then for all"
   ]
  },
  {
   "cell_type": "code",
   "execution_count": 20,
   "metadata": {},
   "outputs": [
    {
     "data": {
      "text/html": [
       "<style>\n",
       ".list-inline {list-style: none; margin:0; padding: 0}\n",
       ".list-inline>li {display: inline-block}\n",
       ".list-inline>li:not(:last-child)::after {content: \"\\00b7\"; padding: 0 .5ex}\n",
       "</style>\n",
       "<ol class=list-inline><li>42611</li><li>7355</li></ol>\n"
      ],
      "text/latex": [
       "\\begin{enumerate*}\n",
       "\\item 42611\n",
       "\\item 7355\n",
       "\\end{enumerate*}\n"
      ],
      "text/markdown": [
       "1. 42611\n",
       "2. 7355\n",
       "\n",
       "\n"
      ],
      "text/plain": [
       "[1] 42611  7355"
      ]
     },
     "metadata": {},
     "output_type": "display_data"
    }
   ],
   "source": [
    "dim(se.jc.inc)"
   ]
  },
  {
   "cell_type": "code",
   "execution_count": 10,
   "metadata": {},
   "outputs": [
    {
     "data": {
      "text/html": [
       "<style>\n",
       ".list-inline {list-style: none; margin:0; padding: 0}\n",
       ".list-inline>li {display: inline-block}\n",
       ".list-inline>li:not(:last-child)::after {content: \"\\00b7\"; padding: 0 .5ex}\n",
       "</style>\n",
       "<ol class=list-inline><li>55878</li><li>17382</li></ol>\n"
      ],
      "text/latex": [
       "\\begin{enumerate*}\n",
       "\\item 55878\n",
       "\\item 17382\n",
       "\\end{enumerate*}\n"
      ],
      "text/markdown": [
       "1. 55878\n",
       "2. 17382\n",
       "\n",
       "\n"
      ],
      "text/plain": [
       "[1] 55878 17382"
      ]
     },
     "metadata": {},
     "output_type": "display_data"
    }
   ],
   "source": [
    "dim(transcript_counts_matrix)"
   ]
  },
  {
   "cell_type": "markdown",
   "metadata": {},
   "source": [
    "To use the **`edgeR::DGEList()`** function, we need to transpose our `transcript_counts_matrix` so that the length of group is equal to the number of columns in our counts (`transcript_counts_matrix`). You will get an error from the   **`edgeR::DGEList()`** function (counts = x, group = group) if the length of group is not equal to the number of columns in counts."
   ]
  },
  {
   "cell_type": "code",
   "execution_count": 11,
   "metadata": {},
   "outputs": [],
   "source": [
    "group <- factor(pData(obj)$SEX)"
   ]
  },
  {
   "cell_type": "code",
   "execution_count": 21,
   "metadata": {},
   "outputs": [],
   "source": [
    "groupiso <- factor(SraRunTable$sex)"
   ]
  },
  {
   "cell_type": "code",
   "execution_count": 12,
   "metadata": {},
   "outputs": [
    {
     "data": {
      "text/plain": [
       "group\n",
       "    1     2 \n",
       "11584  5798 "
      ]
     },
     "metadata": {},
     "output_type": "display_data"
    }
   ],
   "source": [
    "table(group)"
   ]
  },
  {
   "cell_type": "code",
   "execution_count": 22,
   "metadata": {},
   "outputs": [
    {
     "data": {
      "text/plain": [
       "groupiso\n",
       "       female   male \n",
       "     6   3688   6090 "
      ]
     },
     "metadata": {},
     "output_type": "display_data"
    }
   ],
   "source": [
    "table(groupiso)"
   ]
  },
  {
   "cell_type": "markdown",
   "metadata": {},
   "source": [
    "### NOTE: \n",
    "\n",
    "This step takes several minutes to complete. If you have **not** applied other filtering options or you are coming back to your analysis and want to continue from this step, feel free to use the cached version using the following command:\n",
    "\n",
    "```\n",
    "# Load with readRDS() if `../data/DGENormFactorsy.rds` available in data/\n",
    "if (\"DGENormFactorsy.rds\" %in% list.files(\"../data/\")) {\n",
    "    message(\"Loading  `../data/DGENormFactorsy.rds` object with `readRDS()` from ../data/ \\n\")    \n",
    "    y <- readRDS(\"../data/DGENormFactorsy.rds\")\n",
    "    message(\"Done!\")    \n",
    "}\n",
    "```\n",
    "\n",
    "By default, these objects will be regenarated the making sure the changes from above are applied to these objects as well."
   ]
  },
  {
   "cell_type": "code",
   "execution_count": 13,
   "metadata": {},
   "outputs": [
    {
     "name": "stderr",
     "output_type": "stream",
     "text": [
      "Creating `DGEList` object from counts matrix with 'edgeR::DGEList()' ..\n",
      "Done!\n",
      "\n",
      "Calculating normalization factors on `DGEList` object to scale the raw library sizes with 'edgeR::DGEList()' ..\n",
      "Done!\n",
      "\n",
      "Saving normalization factors object in '../data/DGENormFactorsy.rds' ..\n",
      "Done!\n",
      "\n",
      "Generating sha256sum for DGENormFactorsy.rds ..\n",
      "\n",
      "1de1314915e6e3112033c100d95da7bebcc829dd6e94d35b2dd00bfb713dec98  ../data/DGENormFactorsy.rds\n",
      "Done!\n",
      "\n"
     ]
    },
    {
     "data": {
      "text/html": [
       "<dl>\n",
       "\t<dt>$class</dt>\n",
       "\t\t<dd>'DGEList'</dd>\n",
       "\t<dt>$names</dt>\n",
       "\t\t<dd><style>\n",
       ".list-inline {list-style: none; margin:0; padding: 0}\n",
       ".list-inline>li {display: inline-block}\n",
       ".list-inline>li:not(:last-child)::after {content: \"\\00b7\"; padding: 0 .5ex}\n",
       "</style>\n",
       "<ol class=list-inline><li>'counts'</li><li>'samples'</li></ol>\n",
       "</dd>\n",
       "</dl>\n"
      ],
      "text/latex": [
       "\\begin{description}\n",
       "\\item[\\$class] 'DGEList'\n",
       "\\item[\\$names] \\begin{enumerate*}\n",
       "\\item 'counts'\n",
       "\\item 'samples'\n",
       "\\end{enumerate*}\n",
       "\n",
       "\\end{description}\n"
      ],
      "text/markdown": [
       "$class\n",
       ":   'DGEList'\n",
       "$names\n",
       ":   1. 'counts'\n",
       "2. 'samples'\n",
       "\n",
       "\n",
       "\n",
       "\n",
       "\n"
      ],
      "text/plain": [
       "$class\n",
       "[1] \"DGEList\"\n",
       "attr(,\"package\")\n",
       "[1] \"edgeR\"\n",
       "\n",
       "$names\n",
       "[1] \"counts\"  \"samples\"\n"
      ]
     },
     "metadata": {},
     "output_type": "display_data"
    }
   ],
   "source": [
    "# Download if not available in ../data\n",
    "if (!(\"DGENormFactorsy.rds\" %in% list.files(\"../data/\"))) {\n",
    "    message(\"Creating `DGEList` object from counts matrix with 'edgeR::DGEList()' ..\")\n",
    "    y <- edgeR::DGEList(counts = transcript_counts_matrix, \n",
    "                        group  = group)\n",
    "    message(\"Done!\\n\")    \n",
    "\n",
    "    message(\"Calculating normalization factors on `DGEList` object to scale the raw library sizes with 'edgeR::DGEList()' ..\")    \n",
    "    y <- edgeR::calcNormFactors(y)\n",
    "    message(\"Done!\\n\")    \n",
    "    message(\"Saving normalization factors object in '../data/DGENormFactorsy.rds' ..\")        \n",
    "    saveRDS(y, file = \"../data/DGENormFactorsy.rds\")\n",
    "    message(\"Done!\\n\")    \n",
    "    message(\"Generating sha256sum for DGENormFactorsy.rds ..\\n\")    \n",
    "    message(system(\"sha256sum ../data/DGENormFactorsy.rds\", intern = TRUE))\n",
    "    message(\"Done!\\n\")\n",
    "}\n",
    "\n",
    "attributes(y)"
   ]
  },
  {
   "cell_type": "code",
   "execution_count": 23,
   "metadata": {},
   "outputs": [
    {
     "ename": "ERROR",
     "evalue": "Error in edgeR::DGEList(counts = se.jc.inc, group = groupiso): Length of 'group' must equal number of columns in 'counts'\n",
     "output_type": "error",
     "traceback": [
      "Error in edgeR::DGEList(counts = se.jc.inc, group = groupiso): Length of 'group' must equal number of columns in 'counts'\nTraceback:\n",
      "1. edgeR::DGEList(counts = se.jc.inc, group = groupiso)   # at line 2-3 of file <text>",
      "2. stop(\"Length of 'group' must equal number of columns in 'counts'\")"
     ]
    }
   ],
   "source": [
    "if (!(\"DGENormFactors.y.se.jc.inc.rds\" %in% list.files(\"../data\"))) {\n",
    "    y.se.jc.inc <- edgeR::DGEList(counts = se.jc.inc, \n",
    "                        group  = groupiso)\n",
    "    message(\"Done!\\n\")    \n",
    "\n",
    "    message(\"Calculating normalization factors on `DGEList` object to scale the raw library sizes with 'edgeR::DGEList()' ..\")    \n",
    "    y.se.jc.inc <- edgeR::calcNormFactors(y.se.jc.inc)\n",
    "    message(\"Done!\\n\")    \n",
    "    message(\"Saving normalization factors object in '../data/DGENormFactors.y.se.jc.inc.rds' ..\")        \n",
    "    saveRDS(y, file = \"../data/DGENormFactors.y.se.jc.inc.rds\")\n",
    "    message(\"Done!\\n\")    \n",
    "    message(\"Generating sha256sum for DGENormFactors.y.se.jc.inc.rds ..\\n\")    \n",
    "    message(system(\"sha256sum ../data/DGENormFactors.y.se.jc.inc.rds\", intern = TRUE))\n",
    "    message(\"Done!\\n\")\n",
    "}\n",
    "\n",
    "attributes(y.se.jc.inc)"
   ]
  },
  {
   "cell_type": "code",
   "execution_count": 14,
   "metadata": {},
   "outputs": [
    {
     "data": {
      "text/html": [
       "<style>\n",
       ".list-inline {list-style: none; margin:0; padding: 0}\n",
       ".list-inline>li {display: inline-block}\n",
       ".list-inline>li:not(:last-child)::after {content: \"\\00b7\"; padding: 0 .5ex}\n",
       "</style>\n",
       "<ol class=list-inline><li>55878</li><li>17382</li></ol>\n"
      ],
      "text/latex": [
       "\\begin{enumerate*}\n",
       "\\item 55878\n",
       "\\item 17382\n",
       "\\end{enumerate*}\n"
      ],
      "text/markdown": [
       "1. 55878\n",
       "2. 17382\n",
       "\n",
       "\n"
      ],
      "text/plain": [
       "[1] 55878 17382"
      ]
     },
     "metadata": {},
     "output_type": "display_data"
    }
   ],
   "source": [
    "dim(y$counts)"
   ]
  },
  {
   "cell_type": "code",
   "execution_count": 15,
   "metadata": {},
   "outputs": [],
   "source": [
    "# For Guy -- does this do what you are expecting -- I am confused because what you get when you\n",
    "#        ask for the min (table(groups)) is the smaller sized group -- which in this case is \n",
    "#        female -- it will help the reader to know what you are doing here with the statement.\n",
    "#        one can read what it is doing but not understand your objective.groups <- pData(obj)$SEX\n",
    "# keep.events <- rep(TRUE, nrow(y))\n",
    "# for (group in c(1,2)) {\n",
    "#    keep.events <- keep.events & \n",
    "#                   rowSums(cpm(y[,groups %in% group]) > 1) >= 0.25*min(table(groups))\n",
    "# }\n",
    "\n",
    "#  From Anne - I believe the objective in this step is to keep only those genes that are in the\n",
    "#    that are above the threshold of expression for the lower quartile of all sex specific genes.\n",
    "#    groups = (1,2) -- lots of confusion in logic between groups and group and male and female\n",
    "#    I recommend we use male and female.\n",
    "#    two errors then in the above loop - \n",
    "#     1. min(table(groups)) will always return the\n",
    "#        length of the number of samples that are female \n",
    "#        (which is 5978 for this v8 GTEx)\n",
    "#     2. sum(table(group)) will return the number of samples that are either male or female\n",
    "#        depending upon whether you are in the loop for male or female consideration.\n",
    "\n",
    "#    If my assumption is true - I recommend replacing it with the following.\n",
    "\n",
    "#  this should be replaced \n"
   ]
  },
  {
   "cell_type": "code",
   "execution_count": 42,
   "metadata": {},
   "outputs": [
    {
     "data": {
      "text/plain": [
       "\n",
       "   1    2 \n",
       "5579 3202 "
      ]
     },
     "metadata": {},
     "output_type": "display_data"
    },
    {
     "data": {
      "text/plain": [
       "male\n",
       "FALSE  TRUE \n",
       " 3202  5579 "
      ]
     },
     "metadata": {},
     "output_type": "display_data"
    },
    {
     "data": {
      "text/plain": [
       "female\n",
       "FALSE  TRUE \n",
       " 5579  3202 "
      ]
     },
     "metadata": {},
     "output_type": "display_data"
    },
    {
     "data": {
      "text/html": [
       "<style>\n",
       ".list-inline {list-style: none; margin:0; padding: 0}\n",
       ".list-inline>li {display: inline-block}\n",
       ".list-inline>li:not(:last-child)::after {content: \"\\00b7\"; padding: 0 .5ex}\n",
       "</style>\n",
       "<ol class=list-inline><li>8781</li><li>146</li></ol>\n"
      ],
      "text/latex": [
       "\\begin{enumerate*}\n",
       "\\item 8781\n",
       "\\item 146\n",
       "\\end{enumerate*}\n"
      ],
      "text/markdown": [
       "1. 8781\n",
       "2. 146\n",
       "\n",
       "\n"
      ],
      "text/plain": [
       "[1] 8781  146"
      ]
     },
     "metadata": {},
     "output_type": "display_data"
    }
   ],
   "source": [
    "male   <- merged$SEX==1\n",
    "female <- merged$SEX==2\n",
    "table(merged$SEX)\n",
    "table(male)\n",
    "table(female)\n",
    "\n",
    "dim(merged)"
   ]
  },
  {
   "cell_type": "code",
   "execution_count": null,
   "metadata": {},
   "outputs": [],
   "source": [
    "keep.events <- rep(TRUE, nrow(se.jc.inc))\n",
    "nrow(se.jc.inc)\n",
    "\n",
    "#\n",
    "keep.events  <- keep.events & rowSums(edgeR::cpm(y$counts[,group == 1]) > 1) >= 0.25*length(group==1)\n",
    "#\n",
    "# now keep all the male subsets or the female subsets meeting our criteria\n",
    "#\n",
    "keep.events2 <- keep.events | rowSums(edgeR::cpm(y$counts[,group == 2]) > 1) >= 0.25*length(group==2)\n",
    "table(keep.events)\n",
    "table(keep.events2)"
   ]
  },
  {
   "cell_type": "code",
   "execution_count": 17,
   "metadata": {},
   "outputs": [
    {
     "name": "stderr",
     "output_type": "stream",
     "text": [
      "Creating `reduced_y` keeping only rows that match `keep.events2` list ..\n",
      "Done!\n",
      "\n",
      "Creating `reduced_obj` keeping only rows that match `keep.events2` list ..\n",
      "Done!\n",
      "\n",
      "Saving `reduced_y.rds`, `reduced_obj.rds` in '../data/' ..\n",
      "Done!\n",
      "\n"
     ]
    },
    {
     "data": {
      "text/html": [
       "<style>\n",
       ".dl-inline {width: auto; margin:0; padding: 0}\n",
       ".dl-inline>dt, .dl-inline>dd {float: none; width: auto; display: inline-block}\n",
       ".dl-inline>dt::after {content: \":\\0020\"; padding-right: .5ex}\n",
       ".dl-inline>dt:not(:first-of-type) {padding-left: .5ex}\n",
       "</style><dl class=dl-inline><dt>Features</dt><dd>15895</dd><dt>Samples</dt><dd>17382</dd></dl>\n"
      ],
      "text/latex": [
       "\\begin{description*}\n",
       "\\item[Features] 15895\n",
       "\\item[Samples] 17382\n",
       "\\end{description*}\n"
      ],
      "text/markdown": [
       "Features\n",
       ":   15895Samples\n",
       ":   17382\n",
       "\n"
      ],
      "text/plain": [
       "Features  Samples \n",
       "   15895    17382 "
      ]
     },
     "metadata": {},
     "output_type": "display_data"
    }
   ],
   "source": [
    "# Load with readRDS() if `../data/reduced_y.rds` available in data/\n",
    "if  ( ('reduced_y.rds' %in% list.files(\"../data/\")) && ('reduced_obj' %in% list.files(\"../data/\"))) {\n",
    "    message(\"Loading  `reduced_y.rds` and  `reduced_obj` objects with `readRDS()` from ../data/ \\n\")    \n",
    "    reduced_obj <- readRDS(file = \"../data/reduced_obj.rds\")\n",
    "    reduced_y   <- readRDS(file = \"../data/reduced_y.rds\")\n",
    "    message(\"Done!\")    \n",
    "}\n",
    "\n",
    "\n",
    "# Create if not available in ../data\n",
    "if  ( !(('reduced_y.rds' %in% list.files(\"../data/\")) && ('reduced_obj' %in% list.files(\"../data/\")))) {\n",
    "\n",
    "    message(\"Creating `reduced_y` keeping only rows that match `keep.events2` list ..\")\n",
    "    reduced_y<- y[keep.events2,]\n",
    "    message(\"Done!\\n\")    \n",
    "    \n",
    "    message(\"Creating `reduced_obj` keeping only rows that match `keep.events2` list ..\")    \n",
    "    reduced_obj <- obj[keep.events2==TRUE,]\n",
    "    message(\"Done!\\n\")    \n",
    "    \n",
    "    message(\"Saving `reduced_y.rds`, `reduced_obj.rds` in '../data/' ..\")        \n",
    "    saveRDS(reduced_y, file = \"../data/reduced_y.rds\")\n",
    "    saveRDS(reduced_obj, file = \"../data/reduced_obj.rds\")\n",
    "    message(\"Done!\\n\")     \n",
    "}\n",
    "\n",
    "dim(reduced_obj)"
   ]
  },
  {
   "cell_type": "markdown",
   "metadata": {},
   "source": [
    "# Separate the analysis by male and by female"
   ]
  },
  {
   "cell_type": "code",
   "execution_count": 30,
   "metadata": {},
   "outputs": [
    {
     "data": {
      "text/plain": [
       "\n",
       "   1    2 \n",
       "5579 3202 "
      ]
     },
     "metadata": {},
     "output_type": "display_data"
    },
    {
     "data": {
      "text/plain": [
       "male\n",
       "FALSE  TRUE \n",
       " 3202  5579 "
      ]
     },
     "metadata": {},
     "output_type": "display_data"
    },
    {
     "data": {
      "text/plain": [
       "female\n",
       "FALSE  TRUE \n",
       " 5579  3202 "
      ]
     },
     "metadata": {},
     "output_type": "display_data"
    }
   ],
   "source": []
  },
  {
   "cell_type": "code",
   "execution_count": 31,
   "metadata": {},
   "outputs": [
    {
     "data": {
      "text/html": [
       "<style>\n",
       ".list-inline {list-style: none; margin:0; padding: 0}\n",
       ".list-inline>li {display: inline-block}\n",
       ".list-inline>li:not(:last-child)::after {content: \"\\00b7\"; padding: 0 .5ex}\n",
       "</style>\n",
       "<ol class=list-inline><li>42611</li><li>7355</li></ol>\n"
      ],
      "text/latex": [
       "\\begin{enumerate*}\n",
       "\\item 42611\n",
       "\\item 7355\n",
       "\\end{enumerate*}\n"
      ],
      "text/markdown": [
       "1. 42611\n",
       "2. 7355\n",
       "\n",
       "\n"
      ],
      "text/plain": [
       "[1] 42611  7355"
      ]
     },
     "metadata": {},
     "output_type": "display_data"
    }
   ],
   "source": [
    "dim(se.jc.inc)"
   ]
  },
  {
   "cell_type": "code",
   "execution_count": 32,
   "metadata": {},
   "outputs": [
    {
     "data": {
      "text/html": [
       "<style>\n",
       ".list-inline {list-style: none; margin:0; padding: 0}\n",
       ".list-inline>li {display: inline-block}\n",
       ".list-inline>li:not(:last-child)::after {content: \"\\00b7\"; padding: 0 .5ex}\n",
       "</style>\n",
       "<ol class=list-inline><li>8781</li><li>146</li></ol>\n"
      ],
      "text/latex": [
       "\\begin{enumerate*}\n",
       "\\item 8781\n",
       "\\item 146\n",
       "\\end{enumerate*}\n"
      ],
      "text/markdown": [
       "1. 8781\n",
       "2. 146\n",
       "\n",
       "\n"
      ],
      "text/plain": [
       "[1] 8781  146"
      ]
     },
     "metadata": {},
     "output_type": "display_data"
    }
   ],
   "source": [
    "dim(merged)"
   ]
  },
  {
   "cell_type": "code",
   "execution_count": 20,
   "metadata": {},
   "outputs": [
    {
     "data": {
      "text/html": [
       "<style>\n",
       ".dl-inline {width: auto; margin:0; padding: 0}\n",
       ".dl-inline>dt, .dl-inline>dd {float: none; width: auto; display: inline-block}\n",
       ".dl-inline>dt::after {content: \":\\0020\"; padding-right: .5ex}\n",
       ".dl-inline>dt:not(:first-of-type) {padding-left: .5ex}\n",
       "</style><dl class=dl-inline><dt>Features</dt><dd>15895</dd><dt>Samples</dt><dd>11584</dd></dl>\n"
      ],
      "text/latex": [
       "\\begin{description*}\n",
       "\\item[Features] 15895\n",
       "\\item[Samples] 11584\n",
       "\\end{description*}\n"
      ],
      "text/markdown": [
       "Features\n",
       ":   15895Samples\n",
       ":   11584\n",
       "\n"
      ],
      "text/plain": [
       "Features  Samples \n",
       "   15895    11584 "
      ]
     },
     "metadata": {},
     "output_type": "display_data"
    },
    {
     "data": {
      "text/html": [
       "<style>\n",
       ".dl-inline {width: auto; margin:0; padding: 0}\n",
       ".dl-inline>dt, .dl-inline>dd {float: none; width: auto; display: inline-block}\n",
       ".dl-inline>dt::after {content: \":\\0020\"; padding-right: .5ex}\n",
       ".dl-inline>dt:not(:first-of-type) {padding-left: .5ex}\n",
       "</style><dl class=dl-inline><dt>Features</dt><dd>15895</dd><dt>Samples</dt><dd>5798</dd></dl>\n"
      ],
      "text/latex": [
       "\\begin{description*}\n",
       "\\item[Features] 15895\n",
       "\\item[Samples] 5798\n",
       "\\end{description*}\n"
      ],
      "text/markdown": [
       "Features\n",
       ":   15895Samples\n",
       ":   5798\n",
       "\n"
      ],
      "text/plain": [
       "Features  Samples \n",
       "   15895     5798 "
      ]
     },
     "metadata": {},
     "output_type": "display_data"
    }
   ],
   "source": [
    "dim(reduced_obj_male)\n",
    "dim(reduced_obj_female)"
   ]
  },
  {
   "cell_type": "code",
   "execution_count": 21,
   "metadata": {},
   "outputs": [],
   "source": [
    "# changing from SMTS to SMTSD - more granularity -- but we could produce both figures\n",
    "tissue_groups_male <- factor(pData(reduced_obj_male)$SMTSD)\n",
    "tissue_groups_female <- factor(pData(reduced_obj_female)$SMTSD)"
   ]
  },
  {
   "cell_type": "code",
   "execution_count": 22,
   "metadata": {},
   "outputs": [
    {
     "data": {
      "text/plain": [
       "tissue_groups_male\n",
       "                   Adipose - Subcutaneous \n",
       "                                      445 \n",
       "             Adipose - Visceral (Omentum) \n",
       "                                      371 \n",
       "                            Adrenal Gland \n",
       "                                      157 \n",
       "                           Artery - Aorta \n",
       "                                      279 \n",
       "                        Artery - Coronary \n",
       "                                      146 \n",
       "                          Artery - Tibial \n",
       "                                      454 \n",
       "                                  Bladder \n",
       "                                       14 \n",
       "                         Brain - Amygdala \n",
       "                                      107 \n",
       " Brain - Anterior cingulate cortex (BA24) \n",
       "                                      128 \n",
       "          Brain - Caudate (basal ganglia) \n",
       "                                      183 \n",
       "            Brain - Cerebellar Hemisphere \n",
       "                                      157 \n",
       "                       Brain - Cerebellum \n",
       "                                      174 \n",
       "                           Brain - Cortex \n",
       "                                      181 \n",
       "             Brain - Frontal Cortex (BA9) \n",
       "                                      153 \n",
       "                      Brain - Hippocampus \n",
       "                                      143 \n",
       "                     Brain - Hypothalamus \n",
       "                                      147 \n",
       "Brain - Nucleus accumbens (basal ganglia) \n",
       "                                      182 \n",
       "          Brain - Putamen (basal ganglia) \n",
       "                                      156 \n",
       "       Brain - Spinal cord (cervical c-1) \n",
       "                                      102 \n",
       "                 Brain - Substantia nigra \n",
       "                                      101 \n",
       "                  Breast - Mammary Tissue \n",
       "                                      291 \n",
       "             Cells - Cultured fibroblasts \n",
       "                                      330 \n",
       "      Cells - EBV-transformed lymphocytes \n",
       "                                      112 \n",
       "                          Colon - Sigmoid \n",
       "                                      240 \n",
       "                       Colon - Transverse \n",
       "                                      259 \n",
       "    Esophagus - Gastroesophageal Junction \n",
       "                                      251 \n",
       "                       Esophagus - Mucosa \n",
       "                                      363 \n",
       "                   Esophagus - Muscularis \n",
       "                                      338 \n",
       "                 Heart - Atrial Appendage \n",
       "                                      293 \n",
       "                   Heart - Left Ventricle \n",
       "                                      294 \n",
       "                          Kidney - Cortex \n",
       "                                       66 \n",
       "                         Kidney - Medulla \n",
       "                                        3 \n",
       "                                    Liver \n",
       "                                      161 \n",
       "                                     Lung \n",
       "                                      395 \n",
       "                     Minor Salivary Gland \n",
       "                                      115 \n",
       "                        Muscle - Skeletal \n",
       "                                      543 \n",
       "                           Nerve - Tibial \n",
       "                                      419 \n",
       "                                 Pancreas \n",
       "                                      207 \n",
       "                                Pituitary \n",
       "                                      204 \n",
       "                                 Prostate \n",
       "                                      245 \n",
       "      Skin - Not Sun Exposed (Suprapubic) \n",
       "                                      411 \n",
       "           Skin - Sun Exposed (Lower leg) \n",
       "                                      467 \n",
       "         Small Intestine - Terminal Ileum \n",
       "                                      120 \n",
       "                                   Spleen \n",
       "                                      154 \n",
       "                                  Stomach \n",
       "                                      227 \n",
       "                                   Testis \n",
       "                                      361 \n",
       "                                  Thyroid \n",
       "                                      434 \n",
       "                              Whole Blood \n",
       "                                      501 "
      ]
     },
     "metadata": {},
     "output_type": "display_data"
    }
   ],
   "source": [
    "# good sanity check, the male set does not have any vaginas or uterus\n",
    "table (tissue_groups_male)"
   ]
  },
  {
   "cell_type": "code",
   "execution_count": 23,
   "metadata": {},
   "outputs": [
    {
     "data": {
      "text/plain": [
       "tissue_groups_female\n",
       "                   Adipose - Subcutaneous \n",
       "                                      218 \n",
       "             Adipose - Visceral (Omentum) \n",
       "                                      170 \n",
       "                            Adrenal Gland \n",
       "                                      101 \n",
       "                           Artery - Aorta \n",
       "                                      153 \n",
       "                        Artery - Coronary \n",
       "                                       94 \n",
       "                          Artery - Tibial \n",
       "                                      209 \n",
       "                                  Bladder \n",
       "                                        7 \n",
       "                         Brain - Amygdala \n",
       "                                       45 \n",
       " Brain - Anterior cingulate cortex (BA24) \n",
       "                                       48 \n",
       "          Brain - Caudate (basal ganglia) \n",
       "                                       63 \n",
       "            Brain - Cerebellar Hemisphere \n",
       "                                       58 \n",
       "                       Brain - Cerebellum \n",
       "                                       67 \n",
       "                           Brain - Cortex \n",
       "                                       74 \n",
       "             Brain - Frontal Cortex (BA9) \n",
       "                                       56 \n",
       "                      Brain - Hippocampus \n",
       "                                       54 \n",
       "                     Brain - Hypothalamus \n",
       "                                       55 \n",
       "Brain - Nucleus accumbens (basal ganglia) \n",
       "                                       64 \n",
       "          Brain - Putamen (basal ganglia) \n",
       "                                       49 \n",
       "       Brain - Spinal cord (cervical c-1) \n",
       "                                       57 \n",
       "                 Brain - Substantia nigra \n",
       "                                       38 \n",
       "                  Breast - Mammary Tissue \n",
       "                                      168 \n",
       "             Cells - Cultured fibroblasts \n",
       "                                      174 \n",
       "      Cells - EBV-transformed lymphocytes \n",
       "                                       62 \n",
       "                      Cervix - Ectocervix \n",
       "                                        9 \n",
       "                      Cervix - Endocervix \n",
       "                                       10 \n",
       "                          Colon - Sigmoid \n",
       "                                      133 \n",
       "                       Colon - Transverse \n",
       "                                      147 \n",
       "    Esophagus - Gastroesophageal Junction \n",
       "                                      124 \n",
       "                       Esophagus - Mucosa \n",
       "                                      192 \n",
       "                   Esophagus - Muscularis \n",
       "                                      177 \n",
       "                           Fallopian Tube \n",
       "                                        9 \n",
       "                 Heart - Atrial Appendage \n",
       "                                      136 \n",
       "                   Heart - Left Ventricle \n",
       "                                      138 \n",
       "                          Kidney - Cortex \n",
       "                                       19 \n",
       "                         Kidney - Medulla \n",
       "                                        1 \n",
       "                                    Liver \n",
       "                                       65 \n",
       "                                     Lung \n",
       "                                      183 \n",
       "                     Minor Salivary Gland \n",
       "                                       47 \n",
       "                        Muscle - Skeletal \n",
       "                                      260 \n",
       "                           Nerve - Tibial \n",
       "                                      200 \n",
       "                                    Ovary \n",
       "                                      180 \n",
       "                                 Pancreas \n",
       "                                      121 \n",
       "                                Pituitary \n",
       "                                       79 \n",
       "      Skin - Not Sun Exposed (Suprapubic) \n",
       "                                      193 \n",
       "           Skin - Sun Exposed (Lower leg) \n",
       "                                      234 \n",
       "         Small Intestine - Terminal Ileum \n",
       "                                       67 \n",
       "                                   Spleen \n",
       "                                       87 \n",
       "                                  Stomach \n",
       "                                      132 \n",
       "                                  Thyroid \n",
       "                                      219 \n",
       "                                   Uterus \n",
       "                                      142 \n",
       "                                   Vagina \n",
       "                                      156 \n",
       "                              Whole Blood \n",
       "                                      254 "
      ]
     },
     "metadata": {},
     "output_type": "display_data"
    }
   ],
   "source": [
    "# and the females have no prostate or testis\n",
    "table(tissue_groups_female)"
   ]
  },
  {
   "cell_type": "markdown",
   "metadata": {},
   "source": [
    "Reproducing previous results using the `yarn` expression object, loop through the tissues and for those tissues that are shared between the two sexes perform a differential gene analysis on a per tissue basis.\n"
   ]
  },
  {
   "cell_type": "code",
   "execution_count": 24,
   "metadata": {},
   "outputs": [],
   "source": [
    "tissue_groups <- factor(pData(reduced_obj)$SMTSD)"
   ]
  },
  {
   "cell_type": "code",
   "execution_count": 25,
   "metadata": {},
   "outputs": [
    {
     "data": {
      "text/plain": [
       "tissue_male_female\n",
       "FALSE  TRUE \n",
       "  606 10978 "
      ]
     },
     "metadata": {},
     "output_type": "display_data"
    }
   ],
   "source": [
    "tissue_male_female <- tissue_groups_male %in% tissue_groups_female\n",
    "table(tissue_male_female)"
   ]
  },
  {
   "cell_type": "code",
   "execution_count": 26,
   "metadata": {},
   "outputs": [
    {
     "data": {
      "text/plain": [
       "tissue_shared_male_female\n",
       "                   Adipose - Subcutaneous \n",
       "                                      445 \n",
       "             Adipose - Visceral (Omentum) \n",
       "                                      371 \n",
       "                            Adrenal Gland \n",
       "                                      157 \n",
       "                           Artery - Aorta \n",
       "                                      279 \n",
       "                        Artery - Coronary \n",
       "                                      146 \n",
       "                          Artery - Tibial \n",
       "                                      454 \n",
       "                                  Bladder \n",
       "                                       14 \n",
       "                         Brain - Amygdala \n",
       "                                      107 \n",
       " Brain - Anterior cingulate cortex (BA24) \n",
       "                                      128 \n",
       "          Brain - Caudate (basal ganglia) \n",
       "                                      183 \n",
       "            Brain - Cerebellar Hemisphere \n",
       "                                      157 \n",
       "                       Brain - Cerebellum \n",
       "                                      174 \n",
       "                           Brain - Cortex \n",
       "                                      181 \n",
       "             Brain - Frontal Cortex (BA9) \n",
       "                                      153 \n",
       "                      Brain - Hippocampus \n",
       "                                      143 \n",
       "                     Brain - Hypothalamus \n",
       "                                      147 \n",
       "Brain - Nucleus accumbens (basal ganglia) \n",
       "                                      182 \n",
       "          Brain - Putamen (basal ganglia) \n",
       "                                      156 \n",
       "       Brain - Spinal cord (cervical c-1) \n",
       "                                      102 \n",
       "                 Brain - Substantia nigra \n",
       "                                      101 \n",
       "                  Breast - Mammary Tissue \n",
       "                                      291 \n",
       "             Cells - Cultured fibroblasts \n",
       "                                      330 \n",
       "      Cells - EBV-transformed lymphocytes \n",
       "                                      112 \n",
       "                          Colon - Sigmoid \n",
       "                                      240 \n",
       "                       Colon - Transverse \n",
       "                                      259 \n",
       "    Esophagus - Gastroesophageal Junction \n",
       "                                      251 \n",
       "                       Esophagus - Mucosa \n",
       "                                      363 \n",
       "                   Esophagus - Muscularis \n",
       "                                      338 \n",
       "                 Heart - Atrial Appendage \n",
       "                                      293 \n",
       "                   Heart - Left Ventricle \n",
       "                                      294 \n",
       "                          Kidney - Cortex \n",
       "                                       66 \n",
       "                         Kidney - Medulla \n",
       "                                        3 \n",
       "                                    Liver \n",
       "                                      161 \n",
       "                                     Lung \n",
       "                                      395 \n",
       "                     Minor Salivary Gland \n",
       "                                      115 \n",
       "                        Muscle - Skeletal \n",
       "                                      543 \n",
       "                           Nerve - Tibial \n",
       "                                      419 \n",
       "                                 Pancreas \n",
       "                                      207 \n",
       "                                Pituitary \n",
       "                                      204 \n",
       "      Skin - Not Sun Exposed (Suprapubic) \n",
       "                                      411 \n",
       "           Skin - Sun Exposed (Lower leg) \n",
       "                                      467 \n",
       "         Small Intestine - Terminal Ileum \n",
       "                                      120 \n",
       "                                   Spleen \n",
       "                                      154 \n",
       "                                  Stomach \n",
       "                                      227 \n",
       "                                  Thyroid \n",
       "                                      434 \n",
       "                              Whole Blood \n",
       "                                      501 "
      ]
     },
     "metadata": {},
     "output_type": "display_data"
    }
   ],
   "source": [
    "tissue_shared_male_female <- factor(tissue_groups_male[tissue_male_female])\n",
    "table(tissue_shared_male_female)"
   ]
  },
  {
   "cell_type": "code",
   "execution_count": 27,
   "metadata": {},
   "outputs": [],
   "source": [
    "# SEX is coded 1 == Male\n",
    "#              2 == Female\n",
    "sex = factor(pData(reduced_obj)$SEX)"
   ]
  },
  {
   "cell_type": "markdown",
   "metadata": {},
   "source": [
    "Let's now define a function named `fit_tissue()`that accepts two arguments, the `tissue` and an `object` and create the **model matrix** based  that tissue's sex. We will perform a linear fit after calculating normal factors (based on the library size) and calculate the dispersion using `{voom}` (mean variance model of dispersion). We are saving the resulting matrixes as files.\n"
   ]
  },
  {
   "cell_type": "code",
   "execution_count": 28,
   "metadata": {},
   "outputs": [],
   "source": [
    "fit_tissue <- function (tissue, obj) {\n",
    "    tissue_true    <- pData(obj)$SMTSD == tissue\n",
    "    tissue_obj     <- obj[,tissue_true ==TRUE]\n",
    "    tissue_sex     <- factor(pData(tissue_obj)$SEX)\n",
    "    tissue_design  <- model.matrix(~tissue_sex)\n",
    "    y_tissue       <- DGEList(counts=exprs(tissue_obj), group=tissue_sex)\n",
    "    y_tissue       <- calcNormFactors(y_tissue)\n",
    "    y_tissue_voom  <- voom(y_tissue, tissue_design)\n",
    "    fit_tissue     <- lmFit(y_tissue_voom, tissue_design)\n",
    "    fit_tissue     <- eBayes(fit_tissue, robust=TRUE)\n",
    "    results_tissue <- topTable (fit_tissue, coef='tissue_sex2', number=nrow(y_tissue))\n",
    "    filename = paste(paste(\"../data\",gsub(\" \",\"\",tissue), sep=\"/\"),\"DGE.csv\", sep=\"_\")    \n",
    "    write.table(results_tissue, filename, sep=',', quote=FALSE)\n",
    "    return (results_tissue)\n",
    "}"
   ]
  },
  {
   "cell_type": "code",
   "execution_count": 29,
   "metadata": {},
   "outputs": [],
   "source": [
    "# debugging with using the 'Thyroid' tissue\n",
    "#thyroid_logFC <- fit_tissue('Thyroid',reduced_obj)\n",
    "#thyroid_logFC\n",
    "# \n",
    "all_logFC <- lapply(X=levels(tissue_shared_male_female), FUN=fit_tissue, obj=reduced_obj)"
   ]
  },
  {
   "cell_type": "code",
   "execution_count": 30,
   "metadata": {},
   "outputs": [
    {
     "data": {
      "text/html": [
       "<style>\n",
       ".list-inline {list-style: none; margin:0; padding: 0}\n",
       ".list-inline>li {display: inline-block}\n",
       ".list-inline>li:not(:last-child)::after {content: \"\\00b7\"; padding: 0 .5ex}\n",
       "</style>\n",
       "<ol class=list-inline><li>'../data/Adipose-Subcutaneous_DGE.csv'</li><li>'../data/Adipose-Visceral(Omentum)_DGE.csv'</li><li>'../data/AdrenalGland_DGE.csv'</li><li>'../data/Artery-Aorta_DGE.csv'</li><li>'../data/Artery-Coronary_DGE.csv'</li><li>'../data/Artery-Tibial_DGE.csv'</li><li>'../data/Bladder_DGE.csv'</li><li>'../data/Brain-Amygdala_DGE.csv'</li><li>'../data/Brain-Anteriorcingulatecortex(BA24)_DGE.csv'</li><li>'../data/Brain-Caudate(basalganglia)_DGE.csv'</li><li>'../data/Brain-CerebellarHemisphere_DGE.csv'</li><li>'../data/Brain-Cerebellum_DGE.csv'</li><li>'../data/Brain-Cortex_DGE.csv'</li><li>'../data/Brain-FrontalCortex(BA9)_DGE.csv'</li><li>'../data/Brain-Hippocampus_DGE.csv'</li><li>'../data/Brain-Hypothalamus_DGE.csv'</li><li>'../data/Brain-Nucleusaccumbens(basalganglia)_DGE.csv'</li><li>'../data/Brain-Putamen(basalganglia)_DGE.csv'</li><li>'../data/Brain-Spinalcord(cervicalc-1)_DGE.csv'</li><li>'../data/Brain-Substantianigra_DGE.csv'</li><li>'../data/Breast-MammaryTissue_DGE.csv'</li><li>'../data/Cells-Culturedfibroblasts_DGE.csv'</li><li>'../data/Cells-EBV-transformedlymphocytes_DGE.csv'</li><li>'../data/Colon-Sigmoid_DGE.csv'</li><li>'../data/Colon-Transverse_DGE.csv'</li><li>'../data/Esophagus-GastroesophagealJunction_DGE.csv'</li><li>'../data/Esophagus-Mucosa_DGE.csv'</li><li>'../data/Esophagus-Muscularis_DGE.csv'</li><li>'../data/Heart-AtrialAppendage_DGE.csv'</li><li>'../data/Heart-LeftVentricle_DGE.csv'</li><li>'../data/Kidney-Cortex_DGE.csv'</li><li>'../data/Kidney-Medulla_DGE.csv'</li><li>'../data/Liver_DGE.csv'</li><li>'../data/Lung_DGE.csv'</li><li>'../data/MinorSalivaryGland_DGE.csv'</li><li>'../data/Muscle-Skeletal_DGE.csv'</li><li>'../data/Nerve-Tibial_DGE.csv'</li><li>'../data/Pancreas_DGE.csv'</li><li>'../data/Pituitary_DGE.csv'</li><li>'../data/Skin-NotSunExposed(Suprapubic)_DGE.csv'</li><li>'../data/Skin-SunExposed(Lowerleg)_DGE.csv'</li><li>'../data/SmallIntestine-TerminalIleum_DGE.csv'</li><li>'../data/Spleen_DGE.csv'</li><li>'../data/Stomach_DGE.csv'</li><li>'../data/Thyroid_DGE.csv'</li><li>'../data/WholeBlood_DGE.csv'</li></ol>\n"
      ],
      "text/latex": [
       "\\begin{enumerate*}\n",
       "\\item '../data/Adipose-Subcutaneous\\_DGE.csv'\n",
       "\\item '../data/Adipose-Visceral(Omentum)\\_DGE.csv'\n",
       "\\item '../data/AdrenalGland\\_DGE.csv'\n",
       "\\item '../data/Artery-Aorta\\_DGE.csv'\n",
       "\\item '../data/Artery-Coronary\\_DGE.csv'\n",
       "\\item '../data/Artery-Tibial\\_DGE.csv'\n",
       "\\item '../data/Bladder\\_DGE.csv'\n",
       "\\item '../data/Brain-Amygdala\\_DGE.csv'\n",
       "\\item '../data/Brain-Anteriorcingulatecortex(BA24)\\_DGE.csv'\n",
       "\\item '../data/Brain-Caudate(basalganglia)\\_DGE.csv'\n",
       "\\item '../data/Brain-CerebellarHemisphere\\_DGE.csv'\n",
       "\\item '../data/Brain-Cerebellum\\_DGE.csv'\n",
       "\\item '../data/Brain-Cortex\\_DGE.csv'\n",
       "\\item '../data/Brain-FrontalCortex(BA9)\\_DGE.csv'\n",
       "\\item '../data/Brain-Hippocampus\\_DGE.csv'\n",
       "\\item '../data/Brain-Hypothalamus\\_DGE.csv'\n",
       "\\item '../data/Brain-Nucleusaccumbens(basalganglia)\\_DGE.csv'\n",
       "\\item '../data/Brain-Putamen(basalganglia)\\_DGE.csv'\n",
       "\\item '../data/Brain-Spinalcord(cervicalc-1)\\_DGE.csv'\n",
       "\\item '../data/Brain-Substantianigra\\_DGE.csv'\n",
       "\\item '../data/Breast-MammaryTissue\\_DGE.csv'\n",
       "\\item '../data/Cells-Culturedfibroblasts\\_DGE.csv'\n",
       "\\item '../data/Cells-EBV-transformedlymphocytes\\_DGE.csv'\n",
       "\\item '../data/Colon-Sigmoid\\_DGE.csv'\n",
       "\\item '../data/Colon-Transverse\\_DGE.csv'\n",
       "\\item '../data/Esophagus-GastroesophagealJunction\\_DGE.csv'\n",
       "\\item '../data/Esophagus-Mucosa\\_DGE.csv'\n",
       "\\item '../data/Esophagus-Muscularis\\_DGE.csv'\n",
       "\\item '../data/Heart-AtrialAppendage\\_DGE.csv'\n",
       "\\item '../data/Heart-LeftVentricle\\_DGE.csv'\n",
       "\\item '../data/Kidney-Cortex\\_DGE.csv'\n",
       "\\item '../data/Kidney-Medulla\\_DGE.csv'\n",
       "\\item '../data/Liver\\_DGE.csv'\n",
       "\\item '../data/Lung\\_DGE.csv'\n",
       "\\item '../data/MinorSalivaryGland\\_DGE.csv'\n",
       "\\item '../data/Muscle-Skeletal\\_DGE.csv'\n",
       "\\item '../data/Nerve-Tibial\\_DGE.csv'\n",
       "\\item '../data/Pancreas\\_DGE.csv'\n",
       "\\item '../data/Pituitary\\_DGE.csv'\n",
       "\\item '../data/Skin-NotSunExposed(Suprapubic)\\_DGE.csv'\n",
       "\\item '../data/Skin-SunExposed(Lowerleg)\\_DGE.csv'\n",
       "\\item '../data/SmallIntestine-TerminalIleum\\_DGE.csv'\n",
       "\\item '../data/Spleen\\_DGE.csv'\n",
       "\\item '../data/Stomach\\_DGE.csv'\n",
       "\\item '../data/Thyroid\\_DGE.csv'\n",
       "\\item '../data/WholeBlood\\_DGE.csv'\n",
       "\\end{enumerate*}\n"
      ],
      "text/markdown": [
       "1. '../data/Adipose-Subcutaneous_DGE.csv'\n",
       "2. '../data/Adipose-Visceral(Omentum)_DGE.csv'\n",
       "3. '../data/AdrenalGland_DGE.csv'\n",
       "4. '../data/Artery-Aorta_DGE.csv'\n",
       "5. '../data/Artery-Coronary_DGE.csv'\n",
       "6. '../data/Artery-Tibial_DGE.csv'\n",
       "7. '../data/Bladder_DGE.csv'\n",
       "8. '../data/Brain-Amygdala_DGE.csv'\n",
       "9. '../data/Brain-Anteriorcingulatecortex(BA24)_DGE.csv'\n",
       "10. '../data/Brain-Caudate(basalganglia)_DGE.csv'\n",
       "11. '../data/Brain-CerebellarHemisphere_DGE.csv'\n",
       "12. '../data/Brain-Cerebellum_DGE.csv'\n",
       "13. '../data/Brain-Cortex_DGE.csv'\n",
       "14. '../data/Brain-FrontalCortex(BA9)_DGE.csv'\n",
       "15. '../data/Brain-Hippocampus_DGE.csv'\n",
       "16. '../data/Brain-Hypothalamus_DGE.csv'\n",
       "17. '../data/Brain-Nucleusaccumbens(basalganglia)_DGE.csv'\n",
       "18. '../data/Brain-Putamen(basalganglia)_DGE.csv'\n",
       "19. '../data/Brain-Spinalcord(cervicalc-1)_DGE.csv'\n",
       "20. '../data/Brain-Substantianigra_DGE.csv'\n",
       "21. '../data/Breast-MammaryTissue_DGE.csv'\n",
       "22. '../data/Cells-Culturedfibroblasts_DGE.csv'\n",
       "23. '../data/Cells-EBV-transformedlymphocytes_DGE.csv'\n",
       "24. '../data/Colon-Sigmoid_DGE.csv'\n",
       "25. '../data/Colon-Transverse_DGE.csv'\n",
       "26. '../data/Esophagus-GastroesophagealJunction_DGE.csv'\n",
       "27. '../data/Esophagus-Mucosa_DGE.csv'\n",
       "28. '../data/Esophagus-Muscularis_DGE.csv'\n",
       "29. '../data/Heart-AtrialAppendage_DGE.csv'\n",
       "30. '../data/Heart-LeftVentricle_DGE.csv'\n",
       "31. '../data/Kidney-Cortex_DGE.csv'\n",
       "32. '../data/Kidney-Medulla_DGE.csv'\n",
       "33. '../data/Liver_DGE.csv'\n",
       "34. '../data/Lung_DGE.csv'\n",
       "35. '../data/MinorSalivaryGland_DGE.csv'\n",
       "36. '../data/Muscle-Skeletal_DGE.csv'\n",
       "37. '../data/Nerve-Tibial_DGE.csv'\n",
       "38. '../data/Pancreas_DGE.csv'\n",
       "39. '../data/Pituitary_DGE.csv'\n",
       "40. '../data/Skin-NotSunExposed(Suprapubic)_DGE.csv'\n",
       "41. '../data/Skin-SunExposed(Lowerleg)_DGE.csv'\n",
       "42. '../data/SmallIntestine-TerminalIleum_DGE.csv'\n",
       "43. '../data/Spleen_DGE.csv'\n",
       "44. '../data/Stomach_DGE.csv'\n",
       "45. '../data/Thyroid_DGE.csv'\n",
       "46. '../data/WholeBlood_DGE.csv'\n",
       "\n",
       "\n"
      ],
      "text/plain": [
       " [1] \"../data/Adipose-Subcutaneous_DGE.csv\"                \n",
       " [2] \"../data/Adipose-Visceral(Omentum)_DGE.csv\"           \n",
       " [3] \"../data/AdrenalGland_DGE.csv\"                        \n",
       " [4] \"../data/Artery-Aorta_DGE.csv\"                        \n",
       " [5] \"../data/Artery-Coronary_DGE.csv\"                     \n",
       " [6] \"../data/Artery-Tibial_DGE.csv\"                       \n",
       " [7] \"../data/Bladder_DGE.csv\"                             \n",
       " [8] \"../data/Brain-Amygdala_DGE.csv\"                      \n",
       " [9] \"../data/Brain-Anteriorcingulatecortex(BA24)_DGE.csv\" \n",
       "[10] \"../data/Brain-Caudate(basalganglia)_DGE.csv\"         \n",
       "[11] \"../data/Brain-CerebellarHemisphere_DGE.csv\"          \n",
       "[12] \"../data/Brain-Cerebellum_DGE.csv\"                    \n",
       "[13] \"../data/Brain-Cortex_DGE.csv\"                        \n",
       "[14] \"../data/Brain-FrontalCortex(BA9)_DGE.csv\"            \n",
       "[15] \"../data/Brain-Hippocampus_DGE.csv\"                   \n",
       "[16] \"../data/Brain-Hypothalamus_DGE.csv\"                  \n",
       "[17] \"../data/Brain-Nucleusaccumbens(basalganglia)_DGE.csv\"\n",
       "[18] \"../data/Brain-Putamen(basalganglia)_DGE.csv\"         \n",
       "[19] \"../data/Brain-Spinalcord(cervicalc-1)_DGE.csv\"       \n",
       "[20] \"../data/Brain-Substantianigra_DGE.csv\"               \n",
       "[21] \"../data/Breast-MammaryTissue_DGE.csv\"                \n",
       "[22] \"../data/Cells-Culturedfibroblasts_DGE.csv\"           \n",
       "[23] \"../data/Cells-EBV-transformedlymphocytes_DGE.csv\"    \n",
       "[24] \"../data/Colon-Sigmoid_DGE.csv\"                       \n",
       "[25] \"../data/Colon-Transverse_DGE.csv\"                    \n",
       "[26] \"../data/Esophagus-GastroesophagealJunction_DGE.csv\"  \n",
       "[27] \"../data/Esophagus-Mucosa_DGE.csv\"                    \n",
       "[28] \"../data/Esophagus-Muscularis_DGE.csv\"                \n",
       "[29] \"../data/Heart-AtrialAppendage_DGE.csv\"               \n",
       "[30] \"../data/Heart-LeftVentricle_DGE.csv\"                 \n",
       "[31] \"../data/Kidney-Cortex_DGE.csv\"                       \n",
       "[32] \"../data/Kidney-Medulla_DGE.csv\"                      \n",
       "[33] \"../data/Liver_DGE.csv\"                               \n",
       "[34] \"../data/Lung_DGE.csv\"                                \n",
       "[35] \"../data/MinorSalivaryGland_DGE.csv\"                  \n",
       "[36] \"../data/Muscle-Skeletal_DGE.csv\"                     \n",
       "[37] \"../data/Nerve-Tibial_DGE.csv\"                        \n",
       "[38] \"../data/Pancreas_DGE.csv\"                            \n",
       "[39] \"../data/Pituitary_DGE.csv\"                           \n",
       "[40] \"../data/Skin-NotSunExposed(Suprapubic)_DGE.csv\"      \n",
       "[41] \"../data/Skin-SunExposed(Lowerleg)_DGE.csv\"           \n",
       "[42] \"../data/SmallIntestine-TerminalIleum_DGE.csv\"        \n",
       "[43] \"../data/Spleen_DGE.csv\"                              \n",
       "[44] \"../data/Stomach_DGE.csv\"                             \n",
       "[45] \"../data/Thyroid_DGE.csv\"                             \n",
       "[46] \"../data/WholeBlood_DGE.csv\"                          "
      ]
     },
     "metadata": {},
     "output_type": "display_data"
    }
   ],
   "source": [
    "filenames <- list.files(\"../data\", pattern=\"*_DGE.csv\", all.files=FALSE, full.names=TRUE)\n",
    "(filenames)"
   ]
  },
  {
   "cell_type": "code",
   "execution_count": 31,
   "metadata": {},
   "outputs": [],
   "source": [
    "# preserve the ordered rownames for later assignment to matrix\n",
    "fullfilename <-filenames[1]\n",
    "logFC_mat    <- read.csv(fullfilename)\n",
    "logFC_mat    <- logFC_mat[order(rownames(logFC_mat)),]\n",
    "logFC_mat_rownames <- as.character(rownames(logFC_mat)) "
   ]
  },
  {
   "cell_type": "code",
   "execution_count": 32,
   "metadata": {},
   "outputs": [],
   "source": [
    "# Make a matrix for each of the tissues\n",
    "# from what files are saved\n",
    "\n",
    "make_tissue_matrix_ready <- function (file, obj) {\n",
    "    filename        <- paste('../data',file,sep=\"/\")\n",
    "    logFC_mat       <- read.csv(filename)\n",
    "    logFC_mat       <- logFC_mat[order(rownames(logFC_mat)),]\n",
    "    logFC           <- as.matrix(as.numeric(logFC_mat$logFC),nrow=dim(obj)[2],ncol=1)\n",
    "    rownames(logFC) <- rownames(logFC_mat)\n",
    "    return(logFC)\n",
    "}"
   ]
  },
  {
   "cell_type": "code",
   "execution_count": 33,
   "metadata": {},
   "outputs": [],
   "source": [
    "matrix_list <- lapply(X=filenames, FUN=make_tissue_matrix_ready, obj=reduced_obj)"
   ]
  },
  {
   "cell_type": "code",
   "execution_count": 34,
   "metadata": {},
   "outputs": [
    {
     "data": {
      "text/html": [
       "46"
      ],
      "text/latex": [
       "46"
      ],
      "text/markdown": [
       "46"
      ],
      "text/plain": [
       "[1] 46"
      ]
     },
     "metadata": {},
     "output_type": "display_data"
    },
    {
     "data": {
      "text/html": [
       "46"
      ],
      "text/latex": [
       "46"
      ],
      "text/markdown": [
       "46"
      ],
      "text/plain": [
       "[1] 46"
      ]
     },
     "metadata": {},
     "output_type": "display_data"
    }
   ],
   "source": [
    "length(matrix_list)\n",
    "logFC_mat = as.matrix(lapply(X   = matrix_list, \n",
    "                             FUN = cbind),\n",
    "                      nrow = dim(reduced_obj)[2], \n",
    "                      ncol = length(matrix_list))\n",
    "length(logFC_mat)"
   ]
  },
  {
   "cell_type": "code",
   "execution_count": 35,
   "metadata": {},
   "outputs": [],
   "source": [
    "get_tissue_name <- function (tissue_name) {\n",
    "            tissue <- str_replace(tissue_name,'_DGE.txt','')\n",
    "            return(tissue)\n",
    "}"
   ]
  },
  {
   "cell_type": "code",
   "execution_count": 36,
   "metadata": {},
   "outputs": [
    {
     "data": {
      "text/html": [
       "46"
      ],
      "text/latex": [
       "46"
      ],
      "text/markdown": [
       "46"
      ],
      "text/plain": [
       "[1] 46"
      ]
     },
     "metadata": {},
     "output_type": "display_data"
    },
    {
     "data": {
      "text/html": [
       "<ol>\n",
       "\t<li>'Adipose - Subcutaneous'</li>\n",
       "\t<li>'Adipose - Visceral (Omentum)'</li>\n",
       "\t<li>'Adrenal Gland'</li>\n",
       "\t<li>'Artery - Aorta'</li>\n",
       "\t<li>'Artery - Coronary'</li>\n",
       "\t<li>'Artery - Tibial'</li>\n",
       "</ol>\n"
      ],
      "text/latex": [
       "\\begin{enumerate}\n",
       "\\item 'Adipose - Subcutaneous'\n",
       "\\item 'Adipose - Visceral (Omentum)'\n",
       "\\item 'Adrenal Gland'\n",
       "\\item 'Artery - Aorta'\n",
       "\\item 'Artery - Coronary'\n",
       "\\item 'Artery - Tibial'\n",
       "\\end{enumerate}\n"
      ],
      "text/markdown": [
       "1. 'Adipose - Subcutaneous'\n",
       "2. 'Adipose - Visceral (Omentum)'\n",
       "3. 'Adrenal Gland'\n",
       "4. 'Artery - Aorta'\n",
       "5. 'Artery - Coronary'\n",
       "6. 'Artery - Tibial'\n",
       "\n",
       "\n"
      ],
      "text/plain": [
       "[[1]]\n",
       "[1] \"Adipose - Subcutaneous\"\n",
       "\n",
       "[[2]]\n",
       "[1] \"Adipose - Visceral (Omentum)\"\n",
       "\n",
       "[[3]]\n",
       "[1] \"Adrenal Gland\"\n",
       "\n",
       "[[4]]\n",
       "[1] \"Artery - Aorta\"\n",
       "\n",
       "[[5]]\n",
       "[1] \"Artery - Coronary\"\n",
       "\n",
       "[[6]]\n",
       "[1] \"Artery - Tibial\"\n"
      ]
     },
     "metadata": {},
     "output_type": "display_data"
    }
   ],
   "source": [
    "tissue_list <- lapply(X=levels(tissue_shared_male_female), FUN=get_tissue_name)\n",
    "length(tissue_list)\n",
    "head(tissue_list)"
   ]
  },
  {
   "cell_type": "code",
   "execution_count": 37,
   "metadata": {},
   "outputs": [
    {
     "data": {
      "text/html": [
       "<style>\n",
       ".list-inline {list-style: none; margin:0; padding: 0}\n",
       ".list-inline>li {display: inline-block}\n",
       ".list-inline>li:not(:last-child)::after {content: \"\\00b7\"; padding: 0 .5ex}\n",
       "</style>\n",
       "<ol class=list-inline><li>15895</li><li>46</li></ol>\n"
      ],
      "text/latex": [
       "\\begin{enumerate*}\n",
       "\\item 15895\n",
       "\\item 46\n",
       "\\end{enumerate*}\n"
      ],
      "text/markdown": [
       "1. 15895\n",
       "2. 46\n",
       "\n",
       "\n"
      ],
      "text/plain": [
       "[1] 15895    46"
      ]
     },
     "metadata": {},
     "output_type": "display_data"
    },
    {
     "data": {
      "text/html": [
       "<table>\n",
       "<caption>A matrix: 6 × 46 of type dbl</caption>\n",
       "<thead>\n",
       "\t<tr><th></th><th scope=col>Adipose - Subcutaneous</th><th scope=col>Adipose - Visceral (Omentum)</th><th scope=col>Adrenal Gland</th><th scope=col>Artery - Aorta</th><th scope=col>Artery - Coronary</th><th scope=col>Artery - Tibial</th><th scope=col>Bladder</th><th scope=col>Brain - Amygdala</th><th scope=col>Brain - Anterior cingulate cortex (BA24)</th><th scope=col>Brain - Caudate (basal ganglia)</th><th scope=col>⋯</th><th scope=col>Nerve - Tibial</th><th scope=col>Pancreas</th><th scope=col>Pituitary</th><th scope=col>Skin - Not Sun Exposed (Suprapubic)</th><th scope=col>Skin - Sun Exposed (Lower leg)</th><th scope=col>Small Intestine - Terminal Ileum</th><th scope=col>Spleen</th><th scope=col>Stomach</th><th scope=col>Thyroid</th><th scope=col>Whole Blood</th></tr>\n",
       "</thead>\n",
       "<tbody>\n",
       "\t<tr><th scope=row>ENSG00000000003.14</th><td> 0.159867956</td><td>-0.054390442</td><td>-0.001420062</td><td>0.01910579</td><td> 0.055831994</td><td> 0.01975686</td><td> 0.03369222</td><td> 0.037372370</td><td>-0.05653552</td><td> 0.01459946</td><td>⋯</td><td>-0.003767259</td><td> 0.076920723</td><td>-0.29786285</td><td>-0.057271529</td><td> 0.07130993</td><td> 0.152350904</td><td>-0.014153064</td><td> 0.043080117</td><td>-0.083539471</td><td> 0.14002859</td></tr>\n",
       "\t<tr><th scope=row>ENSG00000000419.12</th><td>-0.015111798</td><td> 0.054725155</td><td> 0.029764670</td><td>0.01092628</td><td> 0.036753966</td><td> 0.01059017</td><td>-0.04660812</td><td>-0.001611315</td><td> 0.02301793</td><td> 0.06902469</td><td>⋯</td><td>-0.001930505</td><td>-0.022461103</td><td>-0.05328584</td><td> 0.005487066</td><td> 0.05605845</td><td>-0.007142621</td><td> 0.005660932</td><td>-0.055294508</td><td>-0.012258786</td><td> 0.14732442</td></tr>\n",
       "\t<tr><th scope=row>ENSG00000000457.13</th><td> 0.009501953</td><td> 0.001604707</td><td>-0.044547080</td><td>0.02654465</td><td> 0.001420152</td><td> 0.07241408</td><td> 0.01623332</td><td> 0.069141796</td><td> 0.06588816</td><td> 0.03153251</td><td>⋯</td><td>-0.016295587</td><td>-0.008384726</td><td> 0.04280993</td><td>-0.035631149</td><td>-0.06907719</td><td> 0.022458670</td><td> 0.031778550</td><td>-0.007238725</td><td> 0.023054013</td><td> 0.18745209</td></tr>\n",
       "\t<tr><th scope=row>ENSG00000000460.16</th><td>-0.036024716</td><td> 0.016972717</td><td> 0.015813767</td><td>0.04380547</td><td>-0.030048709</td><td> 0.03885698</td><td>-0.07443956</td><td> 0.036740174</td><td> 0.06604508</td><td>-0.01706688</td><td>⋯</td><td>-0.015547288</td><td> 0.017757642</td><td> 0.06010527</td><td> 0.012014626</td><td>-0.04743994</td><td> 0.056236812</td><td> 0.075831554</td><td>-0.017456828</td><td> 0.053498280</td><td> 0.01243589</td></tr>\n",
       "\t<tr><th scope=row>ENSG00000000938.12</th><td> 0.371970973</td><td> 0.133928403</td><td>-0.178667703</td><td>0.11281414</td><td>-0.005249730</td><td> 0.02795555</td><td> 0.23602905</td><td> 0.194845873</td><td> 0.20882122</td><td> 0.33196655</td><td>⋯</td><td> 0.178659024</td><td>-0.309908157</td><td> 0.03900437</td><td> 0.256315471</td><td> 0.33101095</td><td>-0.008547992</td><td>-0.114185714</td><td> 0.032198632</td><td> 0.152990274</td><td> 0.06422003</td></tr>\n",
       "\t<tr><th scope=row>ENSG00000000971.15</th><td> 0.101369591</td><td>-0.052725628</td><td> 0.215478378</td><td>0.01473135</td><td>-0.118761119</td><td>-0.08043895</td><td>-0.15960934</td><td> 0.286809636</td><td> 0.12973142</td><td> 0.25777970</td><td>⋯</td><td> 0.032645652</td><td>-0.174701746</td><td> 0.02503865</td><td> 0.247245406</td><td> 0.28298039</td><td>-0.365205249</td><td>-0.004167090</td><td> 0.033286928</td><td> 0.007787418</td><td>-0.19620740</td></tr>\n",
       "</tbody>\n",
       "</table>\n"
      ],
      "text/latex": [
       "A matrix: 6 × 46 of type dbl\n",
       "\\begin{tabular}{r|lllllllllllllllllllll}\n",
       "  & Adipose - Subcutaneous & Adipose - Visceral (Omentum) & Adrenal Gland & Artery - Aorta & Artery - Coronary & Artery - Tibial & Bladder & Brain - Amygdala & Brain - Anterior cingulate cortex (BA24) & Brain - Caudate (basal ganglia) & ⋯ & Nerve - Tibial & Pancreas & Pituitary & Skin - Not Sun Exposed (Suprapubic) & Skin - Sun Exposed (Lower leg) & Small Intestine - Terminal Ileum & Spleen & Stomach & Thyroid & Whole Blood\\\\\n",
       "\\hline\n",
       "\tENSG00000000003.14 &  0.159867956 & -0.054390442 & -0.001420062 & 0.01910579 &  0.055831994 &  0.01975686 &  0.03369222 &  0.037372370 & -0.05653552 &  0.01459946 & ⋯ & -0.003767259 &  0.076920723 & -0.29786285 & -0.057271529 &  0.07130993 &  0.152350904 & -0.014153064 &  0.043080117 & -0.083539471 &  0.14002859\\\\\n",
       "\tENSG00000000419.12 & -0.015111798 &  0.054725155 &  0.029764670 & 0.01092628 &  0.036753966 &  0.01059017 & -0.04660812 & -0.001611315 &  0.02301793 &  0.06902469 & ⋯ & -0.001930505 & -0.022461103 & -0.05328584 &  0.005487066 &  0.05605845 & -0.007142621 &  0.005660932 & -0.055294508 & -0.012258786 &  0.14732442\\\\\n",
       "\tENSG00000000457.13 &  0.009501953 &  0.001604707 & -0.044547080 & 0.02654465 &  0.001420152 &  0.07241408 &  0.01623332 &  0.069141796 &  0.06588816 &  0.03153251 & ⋯ & -0.016295587 & -0.008384726 &  0.04280993 & -0.035631149 & -0.06907719 &  0.022458670 &  0.031778550 & -0.007238725 &  0.023054013 &  0.18745209\\\\\n",
       "\tENSG00000000460.16 & -0.036024716 &  0.016972717 &  0.015813767 & 0.04380547 & -0.030048709 &  0.03885698 & -0.07443956 &  0.036740174 &  0.06604508 & -0.01706688 & ⋯ & -0.015547288 &  0.017757642 &  0.06010527 &  0.012014626 & -0.04743994 &  0.056236812 &  0.075831554 & -0.017456828 &  0.053498280 &  0.01243589\\\\\n",
       "\tENSG00000000938.12 &  0.371970973 &  0.133928403 & -0.178667703 & 0.11281414 & -0.005249730 &  0.02795555 &  0.23602905 &  0.194845873 &  0.20882122 &  0.33196655 & ⋯ &  0.178659024 & -0.309908157 &  0.03900437 &  0.256315471 &  0.33101095 & -0.008547992 & -0.114185714 &  0.032198632 &  0.152990274 &  0.06422003\\\\\n",
       "\tENSG00000000971.15 &  0.101369591 & -0.052725628 &  0.215478378 & 0.01473135 & -0.118761119 & -0.08043895 & -0.15960934 &  0.286809636 &  0.12973142 &  0.25777970 & ⋯ &  0.032645652 & -0.174701746 &  0.02503865 &  0.247245406 &  0.28298039 & -0.365205249 & -0.004167090 &  0.033286928 &  0.007787418 & -0.19620740\\\\\n",
       "\\end{tabular}\n"
      ],
      "text/markdown": [
       "\n",
       "A matrix: 6 × 46 of type dbl\n",
       "\n",
       "| <!--/--> | Adipose - Subcutaneous | Adipose - Visceral (Omentum) | Adrenal Gland | Artery - Aorta | Artery - Coronary | Artery - Tibial | Bladder | Brain - Amygdala | Brain - Anterior cingulate cortex (BA24) | Brain - Caudate (basal ganglia) | ⋯ | Nerve - Tibial | Pancreas | Pituitary | Skin - Not Sun Exposed (Suprapubic) | Skin - Sun Exposed (Lower leg) | Small Intestine - Terminal Ileum | Spleen | Stomach | Thyroid | Whole Blood |\n",
       "|---|---|---|---|---|---|---|---|---|---|---|---|---|---|---|---|---|---|---|---|---|---|\n",
       "| ENSG00000000003.14 |  0.159867956 | -0.054390442 | -0.001420062 | 0.01910579 |  0.055831994 |  0.01975686 |  0.03369222 |  0.037372370 | -0.05653552 |  0.01459946 | ⋯ | -0.003767259 |  0.076920723 | -0.29786285 | -0.057271529 |  0.07130993 |  0.152350904 | -0.014153064 |  0.043080117 | -0.083539471 |  0.14002859 |\n",
       "| ENSG00000000419.12 | -0.015111798 |  0.054725155 |  0.029764670 | 0.01092628 |  0.036753966 |  0.01059017 | -0.04660812 | -0.001611315 |  0.02301793 |  0.06902469 | ⋯ | -0.001930505 | -0.022461103 | -0.05328584 |  0.005487066 |  0.05605845 | -0.007142621 |  0.005660932 | -0.055294508 | -0.012258786 |  0.14732442 |\n",
       "| ENSG00000000457.13 |  0.009501953 |  0.001604707 | -0.044547080 | 0.02654465 |  0.001420152 |  0.07241408 |  0.01623332 |  0.069141796 |  0.06588816 |  0.03153251 | ⋯ | -0.016295587 | -0.008384726 |  0.04280993 | -0.035631149 | -0.06907719 |  0.022458670 |  0.031778550 | -0.007238725 |  0.023054013 |  0.18745209 |\n",
       "| ENSG00000000460.16 | -0.036024716 |  0.016972717 |  0.015813767 | 0.04380547 | -0.030048709 |  0.03885698 | -0.07443956 |  0.036740174 |  0.06604508 | -0.01706688 | ⋯ | -0.015547288 |  0.017757642 |  0.06010527 |  0.012014626 | -0.04743994 |  0.056236812 |  0.075831554 | -0.017456828 |  0.053498280 |  0.01243589 |\n",
       "| ENSG00000000938.12 |  0.371970973 |  0.133928403 | -0.178667703 | 0.11281414 | -0.005249730 |  0.02795555 |  0.23602905 |  0.194845873 |  0.20882122 |  0.33196655 | ⋯ |  0.178659024 | -0.309908157 |  0.03900437 |  0.256315471 |  0.33101095 | -0.008547992 | -0.114185714 |  0.032198632 |  0.152990274 |  0.06422003 |\n",
       "| ENSG00000000971.15 |  0.101369591 | -0.052725628 |  0.215478378 | 0.01473135 | -0.118761119 | -0.08043895 | -0.15960934 |  0.286809636 |  0.12973142 |  0.25777970 | ⋯ |  0.032645652 | -0.174701746 |  0.02503865 |  0.247245406 |  0.28298039 | -0.365205249 | -0.004167090 |  0.033286928 |  0.007787418 | -0.19620740 |\n",
       "\n"
      ],
      "text/plain": [
       "                   Adipose - Subcutaneous Adipose - Visceral (Omentum)\n",
       "ENSG00000000003.14  0.159867956           -0.054390442                \n",
       "ENSG00000000419.12 -0.015111798            0.054725155                \n",
       "ENSG00000000457.13  0.009501953            0.001604707                \n",
       "ENSG00000000460.16 -0.036024716            0.016972717                \n",
       "ENSG00000000938.12  0.371970973            0.133928403                \n",
       "ENSG00000000971.15  0.101369591           -0.052725628                \n",
       "                   Adrenal Gland Artery - Aorta Artery - Coronary\n",
       "ENSG00000000003.14 -0.001420062  0.01910579      0.055831994     \n",
       "ENSG00000000419.12  0.029764670  0.01092628      0.036753966     \n",
       "ENSG00000000457.13 -0.044547080  0.02654465      0.001420152     \n",
       "ENSG00000000460.16  0.015813767  0.04380547     -0.030048709     \n",
       "ENSG00000000938.12 -0.178667703  0.11281414     -0.005249730     \n",
       "ENSG00000000971.15  0.215478378  0.01473135     -0.118761119     \n",
       "                   Artery - Tibial Bladder     Brain - Amygdala\n",
       "ENSG00000000003.14  0.01975686      0.03369222  0.037372370    \n",
       "ENSG00000000419.12  0.01059017     -0.04660812 -0.001611315    \n",
       "ENSG00000000457.13  0.07241408      0.01623332  0.069141796    \n",
       "ENSG00000000460.16  0.03885698     -0.07443956  0.036740174    \n",
       "ENSG00000000938.12  0.02795555      0.23602905  0.194845873    \n",
       "ENSG00000000971.15 -0.08043895     -0.15960934  0.286809636    \n",
       "                   Brain - Anterior cingulate cortex (BA24)\n",
       "ENSG00000000003.14 -0.05653552                             \n",
       "ENSG00000000419.12  0.02301793                             \n",
       "ENSG00000000457.13  0.06588816                             \n",
       "ENSG00000000460.16  0.06604508                             \n",
       "ENSG00000000938.12  0.20882122                             \n",
       "ENSG00000000971.15  0.12973142                             \n",
       "                   Brain - Caudate (basal ganglia) ⋯ Nerve - Tibial\n",
       "ENSG00000000003.14  0.01459946                     ⋯ -0.003767259  \n",
       "ENSG00000000419.12  0.06902469                     ⋯ -0.001930505  \n",
       "ENSG00000000457.13  0.03153251                     ⋯ -0.016295587  \n",
       "ENSG00000000460.16 -0.01706688                     ⋯ -0.015547288  \n",
       "ENSG00000000938.12  0.33196655                     ⋯  0.178659024  \n",
       "ENSG00000000971.15  0.25777970                     ⋯  0.032645652  \n",
       "                   Pancreas     Pituitary   Skin - Not Sun Exposed (Suprapubic)\n",
       "ENSG00000000003.14  0.076920723 -0.29786285 -0.057271529                       \n",
       "ENSG00000000419.12 -0.022461103 -0.05328584  0.005487066                       \n",
       "ENSG00000000457.13 -0.008384726  0.04280993 -0.035631149                       \n",
       "ENSG00000000460.16  0.017757642  0.06010527  0.012014626                       \n",
       "ENSG00000000938.12 -0.309908157  0.03900437  0.256315471                       \n",
       "ENSG00000000971.15 -0.174701746  0.02503865  0.247245406                       \n",
       "                   Skin - Sun Exposed (Lower leg)\n",
       "ENSG00000000003.14  0.07130993                   \n",
       "ENSG00000000419.12  0.05605845                   \n",
       "ENSG00000000457.13 -0.06907719                   \n",
       "ENSG00000000460.16 -0.04743994                   \n",
       "ENSG00000000938.12  0.33101095                   \n",
       "ENSG00000000971.15  0.28298039                   \n",
       "                   Small Intestine - Terminal Ileum Spleen       Stomach     \n",
       "ENSG00000000003.14  0.152350904                     -0.014153064  0.043080117\n",
       "ENSG00000000419.12 -0.007142621                      0.005660932 -0.055294508\n",
       "ENSG00000000457.13  0.022458670                      0.031778550 -0.007238725\n",
       "ENSG00000000460.16  0.056236812                      0.075831554 -0.017456828\n",
       "ENSG00000000938.12 -0.008547992                     -0.114185714  0.032198632\n",
       "ENSG00000000971.15 -0.365205249                     -0.004167090  0.033286928\n",
       "                   Thyroid      Whole Blood\n",
       "ENSG00000000003.14 -0.083539471  0.14002859\n",
       "ENSG00000000419.12 -0.012258786  0.14732442\n",
       "ENSG00000000457.13  0.023054013  0.18745209\n",
       "ENSG00000000460.16  0.053498280  0.01243589\n",
       "ENSG00000000938.12  0.152990274  0.06422003\n",
       "ENSG00000000971.15  0.007787418 -0.19620740"
      ]
     },
     "metadata": {},
     "output_type": "display_data"
    }
   ],
   "source": [
    "logFC_mat = as.matrix(as.numeric(unlist(matrix_list[1]),nrow=dim(reduced_obj)[2], ncol=1))\n",
    "\n",
    "for (i in (2:length(matrix_list))) {\n",
    "    n = as.matrix(as.numeric(unlist(matrix_list[i]),nrow=dim(reduced_obj)[2], ncol=1))\n",
    "    logFC_mat = cbind(logFC_mat, n)\n",
    "}\n",
    "\n",
    "dim(logFC_mat)\n",
    "rownames(logFC_mat) = logFC_mat_rownames\n",
    "colnames(logFC_mat) = tissue_list\n",
    "head(logFC_mat)"
   ]
  },
  {
   "cell_type": "code",
   "execution_count": 38,
   "metadata": {},
   "outputs": [],
   "source": [
    "logFC_mat_NQ <- normalizeQuantiles(logFC_mat)"
   ]
  },
  {
   "cell_type": "code",
   "execution_count": 39,
   "metadata": {},
   "outputs": [
    {
     "data": {
      "text/html": [
       "<table>\n",
       "<caption>A matrix: 6 × 46 of type dbl</caption>\n",
       "<thead>\n",
       "\t<tr><th></th><th scope=col>Adipose - Subcutaneous</th><th scope=col>Adipose - Visceral (Omentum)</th><th scope=col>Adrenal Gland</th><th scope=col>Artery - Aorta</th><th scope=col>Artery - Coronary</th><th scope=col>Artery - Tibial</th><th scope=col>Bladder</th><th scope=col>Brain - Amygdala</th><th scope=col>Brain - Anterior cingulate cortex (BA24)</th><th scope=col>Brain - Caudate (basal ganglia)</th><th scope=col>⋯</th><th scope=col>Nerve - Tibial</th><th scope=col>Pancreas</th><th scope=col>Pituitary</th><th scope=col>Skin - Not Sun Exposed (Suprapubic)</th><th scope=col>Skin - Sun Exposed (Lower leg)</th><th scope=col>Small Intestine - Terminal Ileum</th><th scope=col>Spleen</th><th scope=col>Stomach</th><th scope=col>Thyroid</th><th scope=col>Whole Blood</th></tr>\n",
       "</thead>\n",
       "<tbody>\n",
       "\t<tr><th scope=row>ENSG00000000003.14</th><td> 0.18163856</td><td>-0.057699749</td><td>-0.002561785</td><td>0.03100612</td><td> 0.0671783351</td><td> 0.02962109</td><td> 0.02421133</td><td> 0.0414066450</td><td>-0.07948192</td><td> 0.009461349</td><td>⋯</td><td>-0.007560889</td><td> 0.12859512</td><td>-0.20844639</td><td>-0.068721403</td><td> 0.09323422</td><td> 0.16301173</td><td>-0.016072268</td><td> 0.071045424</td><td>-0.124524045</td><td> 0.109587317</td></tr>\n",
       "\t<tr><th scope=row>ENSG00000000419.12</th><td>-0.01290889</td><td> 0.072514519</td><td> 0.036283839</td><td>0.01793584</td><td> 0.0416967915</td><td> 0.01572716</td><td>-0.02702430</td><td>-0.0005564463</td><td> 0.02096841</td><td> 0.081626002</td><td>⋯</td><td>-0.003155334</td><td>-0.03289401</td><td>-0.05493662</td><td> 0.003479065</td><td> 0.07420289</td><td>-0.01129464</td><td> 0.009315197</td><td>-0.096737082</td><td>-0.021242066</td><td> 0.116820740</td></tr>\n",
       "\t<tr><th scope=row>ENSG00000000457.13</th><td> 0.01753074</td><td> 0.007059282</td><td>-0.054765500</td><td>0.04220573</td><td> 0.0003125237</td><td> 0.12100082</td><td> 0.01288429</td><td> 0.0755805325</td><td> 0.07373944</td><td> 0.032011415</td><td>⋯</td><td>-0.036807183</td><td>-0.01040080</td><td> 0.05439554</td><td>-0.044553550</td><td>-0.09598508</td><td> 0.02152593</td><td> 0.041177680</td><td>-0.009562226</td><td> 0.029252925</td><td> 0.159291298</td></tr>\n",
       "\t<tr><th scope=row>ENSG00000000460.16</th><td>-0.03704866</td><td> 0.025192776</td><td> 0.018491241</td><td>0.06727793</td><td>-0.0331672748</td><td> 0.05999445</td><td>-0.04329810</td><td> 0.0408642805</td><td> 0.07391683</td><td>-0.028678481</td><td>⋯</td><td>-0.035249020</td><td> 0.03213168</td><td> 0.07909456</td><td> 0.010959443</td><td>-0.06915861</td><td> 0.05783887</td><td> 0.099170937</td><td>-0.027087795</td><td> 0.070267301</td><td> 0.002878269</td></tr>\n",
       "\t<tr><th scope=row>ENSG00000000938.12</th><td> 0.40449005</td><td> 0.183163005</td><td>-0.234672498</td><td>0.14864390</td><td>-0.0067902018</td><td> 0.04212011</td><td> 0.15156786</td><td> 0.2121257423</td><td> 0.26199942</td><td> 0.413599973</td><td>⋯</td><td> 0.344435114</td><td>-0.37680111</td><td> 0.04905316</td><td> 0.311078523</td><td> 0.37250988</td><td>-0.01303658</td><td>-0.146072512</td><td> 0.054242144</td><td> 0.186963834</td><td> 0.042745248</td></tr>\n",
       "\t<tr><th scope=row>ENSG00000000971.15</th><td> 0.12194223</td><td>-0.056092042</td><td> 0.243680747</td><td>0.02400421</td><td>-0.1206659800</td><td>-0.09712891</td><td>-0.09392522</td><td> 0.3355878654</td><td> 0.15231143</td><td> 0.306434374</td><td>⋯</td><td> 0.075144397</td><td>-0.22330161</td><td> 0.03107249</td><td> 0.300366927</td><td> 0.32556092</td><td>-0.40784357</td><td>-0.003512847</td><td> 0.055919787</td><td> 0.008558994</td><td>-0.216267208</td></tr>\n",
       "</tbody>\n",
       "</table>\n"
      ],
      "text/latex": [
       "A matrix: 6 × 46 of type dbl\n",
       "\\begin{tabular}{r|lllllllllllllllllllll}\n",
       "  & Adipose - Subcutaneous & Adipose - Visceral (Omentum) & Adrenal Gland & Artery - Aorta & Artery - Coronary & Artery - Tibial & Bladder & Brain - Amygdala & Brain - Anterior cingulate cortex (BA24) & Brain - Caudate (basal ganglia) & ⋯ & Nerve - Tibial & Pancreas & Pituitary & Skin - Not Sun Exposed (Suprapubic) & Skin - Sun Exposed (Lower leg) & Small Intestine - Terminal Ileum & Spleen & Stomach & Thyroid & Whole Blood\\\\\n",
       "\\hline\n",
       "\tENSG00000000003.14 &  0.18163856 & -0.057699749 & -0.002561785 & 0.03100612 &  0.0671783351 &  0.02962109 &  0.02421133 &  0.0414066450 & -0.07948192 &  0.009461349 & ⋯ & -0.007560889 &  0.12859512 & -0.20844639 & -0.068721403 &  0.09323422 &  0.16301173 & -0.016072268 &  0.071045424 & -0.124524045 &  0.109587317\\\\\n",
       "\tENSG00000000419.12 & -0.01290889 &  0.072514519 &  0.036283839 & 0.01793584 &  0.0416967915 &  0.01572716 & -0.02702430 & -0.0005564463 &  0.02096841 &  0.081626002 & ⋯ & -0.003155334 & -0.03289401 & -0.05493662 &  0.003479065 &  0.07420289 & -0.01129464 &  0.009315197 & -0.096737082 & -0.021242066 &  0.116820740\\\\\n",
       "\tENSG00000000457.13 &  0.01753074 &  0.007059282 & -0.054765500 & 0.04220573 &  0.0003125237 &  0.12100082 &  0.01288429 &  0.0755805325 &  0.07373944 &  0.032011415 & ⋯ & -0.036807183 & -0.01040080 &  0.05439554 & -0.044553550 & -0.09598508 &  0.02152593 &  0.041177680 & -0.009562226 &  0.029252925 &  0.159291298\\\\\n",
       "\tENSG00000000460.16 & -0.03704866 &  0.025192776 &  0.018491241 & 0.06727793 & -0.0331672748 &  0.05999445 & -0.04329810 &  0.0408642805 &  0.07391683 & -0.028678481 & ⋯ & -0.035249020 &  0.03213168 &  0.07909456 &  0.010959443 & -0.06915861 &  0.05783887 &  0.099170937 & -0.027087795 &  0.070267301 &  0.002878269\\\\\n",
       "\tENSG00000000938.12 &  0.40449005 &  0.183163005 & -0.234672498 & 0.14864390 & -0.0067902018 &  0.04212011 &  0.15156786 &  0.2121257423 &  0.26199942 &  0.413599973 & ⋯ &  0.344435114 & -0.37680111 &  0.04905316 &  0.311078523 &  0.37250988 & -0.01303658 & -0.146072512 &  0.054242144 &  0.186963834 &  0.042745248\\\\\n",
       "\tENSG00000000971.15 &  0.12194223 & -0.056092042 &  0.243680747 & 0.02400421 & -0.1206659800 & -0.09712891 & -0.09392522 &  0.3355878654 &  0.15231143 &  0.306434374 & ⋯ &  0.075144397 & -0.22330161 &  0.03107249 &  0.300366927 &  0.32556092 & -0.40784357 & -0.003512847 &  0.055919787 &  0.008558994 & -0.216267208\\\\\n",
       "\\end{tabular}\n"
      ],
      "text/markdown": [
       "\n",
       "A matrix: 6 × 46 of type dbl\n",
       "\n",
       "| <!--/--> | Adipose - Subcutaneous | Adipose - Visceral (Omentum) | Adrenal Gland | Artery - Aorta | Artery - Coronary | Artery - Tibial | Bladder | Brain - Amygdala | Brain - Anterior cingulate cortex (BA24) | Brain - Caudate (basal ganglia) | ⋯ | Nerve - Tibial | Pancreas | Pituitary | Skin - Not Sun Exposed (Suprapubic) | Skin - Sun Exposed (Lower leg) | Small Intestine - Terminal Ileum | Spleen | Stomach | Thyroid | Whole Blood |\n",
       "|---|---|---|---|---|---|---|---|---|---|---|---|---|---|---|---|---|---|---|---|---|---|\n",
       "| ENSG00000000003.14 |  0.18163856 | -0.057699749 | -0.002561785 | 0.03100612 |  0.0671783351 |  0.02962109 |  0.02421133 |  0.0414066450 | -0.07948192 |  0.009461349 | ⋯ | -0.007560889 |  0.12859512 | -0.20844639 | -0.068721403 |  0.09323422 |  0.16301173 | -0.016072268 |  0.071045424 | -0.124524045 |  0.109587317 |\n",
       "| ENSG00000000419.12 | -0.01290889 |  0.072514519 |  0.036283839 | 0.01793584 |  0.0416967915 |  0.01572716 | -0.02702430 | -0.0005564463 |  0.02096841 |  0.081626002 | ⋯ | -0.003155334 | -0.03289401 | -0.05493662 |  0.003479065 |  0.07420289 | -0.01129464 |  0.009315197 | -0.096737082 | -0.021242066 |  0.116820740 |\n",
       "| ENSG00000000457.13 |  0.01753074 |  0.007059282 | -0.054765500 | 0.04220573 |  0.0003125237 |  0.12100082 |  0.01288429 |  0.0755805325 |  0.07373944 |  0.032011415 | ⋯ | -0.036807183 | -0.01040080 |  0.05439554 | -0.044553550 | -0.09598508 |  0.02152593 |  0.041177680 | -0.009562226 |  0.029252925 |  0.159291298 |\n",
       "| ENSG00000000460.16 | -0.03704866 |  0.025192776 |  0.018491241 | 0.06727793 | -0.0331672748 |  0.05999445 | -0.04329810 |  0.0408642805 |  0.07391683 | -0.028678481 | ⋯ | -0.035249020 |  0.03213168 |  0.07909456 |  0.010959443 | -0.06915861 |  0.05783887 |  0.099170937 | -0.027087795 |  0.070267301 |  0.002878269 |\n",
       "| ENSG00000000938.12 |  0.40449005 |  0.183163005 | -0.234672498 | 0.14864390 | -0.0067902018 |  0.04212011 |  0.15156786 |  0.2121257423 |  0.26199942 |  0.413599973 | ⋯ |  0.344435114 | -0.37680111 |  0.04905316 |  0.311078523 |  0.37250988 | -0.01303658 | -0.146072512 |  0.054242144 |  0.186963834 |  0.042745248 |\n",
       "| ENSG00000000971.15 |  0.12194223 | -0.056092042 |  0.243680747 | 0.02400421 | -0.1206659800 | -0.09712891 | -0.09392522 |  0.3355878654 |  0.15231143 |  0.306434374 | ⋯ |  0.075144397 | -0.22330161 |  0.03107249 |  0.300366927 |  0.32556092 | -0.40784357 | -0.003512847 |  0.055919787 |  0.008558994 | -0.216267208 |\n",
       "\n"
      ],
      "text/plain": [
       "                   Adipose - Subcutaneous Adipose - Visceral (Omentum)\n",
       "ENSG00000000003.14  0.18163856            -0.057699749                \n",
       "ENSG00000000419.12 -0.01290889             0.072514519                \n",
       "ENSG00000000457.13  0.01753074             0.007059282                \n",
       "ENSG00000000460.16 -0.03704866             0.025192776                \n",
       "ENSG00000000938.12  0.40449005             0.183163005                \n",
       "ENSG00000000971.15  0.12194223            -0.056092042                \n",
       "                   Adrenal Gland Artery - Aorta Artery - Coronary\n",
       "ENSG00000000003.14 -0.002561785  0.03100612      0.0671783351    \n",
       "ENSG00000000419.12  0.036283839  0.01793584      0.0416967915    \n",
       "ENSG00000000457.13 -0.054765500  0.04220573      0.0003125237    \n",
       "ENSG00000000460.16  0.018491241  0.06727793     -0.0331672748    \n",
       "ENSG00000000938.12 -0.234672498  0.14864390     -0.0067902018    \n",
       "ENSG00000000971.15  0.243680747  0.02400421     -0.1206659800    \n",
       "                   Artery - Tibial Bladder     Brain - Amygdala\n",
       "ENSG00000000003.14  0.02962109      0.02421133  0.0414066450   \n",
       "ENSG00000000419.12  0.01572716     -0.02702430 -0.0005564463   \n",
       "ENSG00000000457.13  0.12100082      0.01288429  0.0755805325   \n",
       "ENSG00000000460.16  0.05999445     -0.04329810  0.0408642805   \n",
       "ENSG00000000938.12  0.04212011      0.15156786  0.2121257423   \n",
       "ENSG00000000971.15 -0.09712891     -0.09392522  0.3355878654   \n",
       "                   Brain - Anterior cingulate cortex (BA24)\n",
       "ENSG00000000003.14 -0.07948192                             \n",
       "ENSG00000000419.12  0.02096841                             \n",
       "ENSG00000000457.13  0.07373944                             \n",
       "ENSG00000000460.16  0.07391683                             \n",
       "ENSG00000000938.12  0.26199942                             \n",
       "ENSG00000000971.15  0.15231143                             \n",
       "                   Brain - Caudate (basal ganglia) ⋯ Nerve - Tibial Pancreas   \n",
       "ENSG00000000003.14  0.009461349                    ⋯ -0.007560889    0.12859512\n",
       "ENSG00000000419.12  0.081626002                    ⋯ -0.003155334   -0.03289401\n",
       "ENSG00000000457.13  0.032011415                    ⋯ -0.036807183   -0.01040080\n",
       "ENSG00000000460.16 -0.028678481                    ⋯ -0.035249020    0.03213168\n",
       "ENSG00000000938.12  0.413599973                    ⋯  0.344435114   -0.37680111\n",
       "ENSG00000000971.15  0.306434374                    ⋯  0.075144397   -0.22330161\n",
       "                   Pituitary   Skin - Not Sun Exposed (Suprapubic)\n",
       "ENSG00000000003.14 -0.20844639 -0.068721403                       \n",
       "ENSG00000000419.12 -0.05493662  0.003479065                       \n",
       "ENSG00000000457.13  0.05439554 -0.044553550                       \n",
       "ENSG00000000460.16  0.07909456  0.010959443                       \n",
       "ENSG00000000938.12  0.04905316  0.311078523                       \n",
       "ENSG00000000971.15  0.03107249  0.300366927                       \n",
       "                   Skin - Sun Exposed (Lower leg)\n",
       "ENSG00000000003.14  0.09323422                   \n",
       "ENSG00000000419.12  0.07420289                   \n",
       "ENSG00000000457.13 -0.09598508                   \n",
       "ENSG00000000460.16 -0.06915861                   \n",
       "ENSG00000000938.12  0.37250988                   \n",
       "ENSG00000000971.15  0.32556092                   \n",
       "                   Small Intestine - Terminal Ileum Spleen       Stomach     \n",
       "ENSG00000000003.14  0.16301173                      -0.016072268  0.071045424\n",
       "ENSG00000000419.12 -0.01129464                       0.009315197 -0.096737082\n",
       "ENSG00000000457.13  0.02152593                       0.041177680 -0.009562226\n",
       "ENSG00000000460.16  0.05783887                       0.099170937 -0.027087795\n",
       "ENSG00000000938.12 -0.01303658                      -0.146072512  0.054242144\n",
       "ENSG00000000971.15 -0.40784357                      -0.003512847  0.055919787\n",
       "                   Thyroid      Whole Blood \n",
       "ENSG00000000003.14 -0.124524045  0.109587317\n",
       "ENSG00000000419.12 -0.021242066  0.116820740\n",
       "ENSG00000000457.13  0.029252925  0.159291298\n",
       "ENSG00000000460.16  0.070267301  0.002878269\n",
       "ENSG00000000938.12  0.186963834  0.042745248\n",
       "ENSG00000000971.15  0.008558994 -0.216267208"
      ]
     },
     "metadata": {},
     "output_type": "display_data"
    }
   ],
   "source": [
    "head(logFC_mat_NQ)"
   ]
  },
  {
   "cell_type": "code",
   "execution_count": 40,
   "metadata": {},
   "outputs": [],
   "source": [
    "dist_mat <- as.matrix(cor(logFC_mat_NQ))"
   ]
  },
  {
   "cell_type": "code",
   "execution_count": 41,
   "metadata": {},
   "outputs": [
    {
     "data": {
      "text/html": [
       "<table>\n",
       "<caption>A matrix: 6 × 46 of type dbl</caption>\n",
       "<thead>\n",
       "\t<tr><th></th><th scope=col>Adipose - Subcutaneous</th><th scope=col>Adipose - Visceral (Omentum)</th><th scope=col>Adrenal Gland</th><th scope=col>Artery - Aorta</th><th scope=col>Artery - Coronary</th><th scope=col>Artery - Tibial</th><th scope=col>Bladder</th><th scope=col>Brain - Amygdala</th><th scope=col>Brain - Anterior cingulate cortex (BA24)</th><th scope=col>Brain - Caudate (basal ganglia)</th><th scope=col>⋯</th><th scope=col>Nerve - Tibial</th><th scope=col>Pancreas</th><th scope=col>Pituitary</th><th scope=col>Skin - Not Sun Exposed (Suprapubic)</th><th scope=col>Skin - Sun Exposed (Lower leg)</th><th scope=col>Small Intestine - Terminal Ileum</th><th scope=col>Spleen</th><th scope=col>Stomach</th><th scope=col>Thyroid</th><th scope=col>Whole Blood</th></tr>\n",
       "</thead>\n",
       "<tbody>\n",
       "\t<tr><th scope=row>Adipose - Subcutaneous</th><td>1.0000000</td><td>0.8365272</td><td>0.7440858</td><td>0.8033718</td><td>0.7970331</td><td>0.8053699</td><td>0.8231428</td><td>0.7739447</td><td>0.7843509</td><td>0.7867614</td><td>⋯</td><td>0.8650933</td><td>0.7583434</td><td>0.7764261</td><td>0.8086684</td><td>0.8132758</td><td>0.8384233</td><td>0.7820020</td><td>0.8116124</td><td>0.8479777</td><td>0.7859629</td></tr>\n",
       "\t<tr><th scope=row>Adipose - Visceral (Omentum)</th><td>0.8365272</td><td>1.0000000</td><td>0.7807381</td><td>0.7840836</td><td>0.8462510</td><td>0.8220345</td><td>0.8159421</td><td>0.7563617</td><td>0.7623832</td><td>0.7814339</td><td>⋯</td><td>0.8200249</td><td>0.7763044</td><td>0.7703798</td><td>0.8054233</td><td>0.8102348</td><td>0.8240124</td><td>0.7958134</td><td>0.7946560</td><td>0.8242039</td><td>0.7790460</td></tr>\n",
       "\t<tr><th scope=row>Adrenal Gland</th><td>0.7440858</td><td>0.7807381</td><td>1.0000000</td><td>0.8007187</td><td>0.8291998</td><td>0.7873730</td><td>0.7711136</td><td>0.7459315</td><td>0.7454137</td><td>0.7447619</td><td>⋯</td><td>0.7647180</td><td>0.8304141</td><td>0.7528460</td><td>0.7532003</td><td>0.7575763</td><td>0.7812392</td><td>0.8224205</td><td>0.7992741</td><td>0.7598380</td><td>0.7694753</td></tr>\n",
       "\t<tr><th scope=row>Artery - Aorta</th><td>0.8033718</td><td>0.7840836</td><td>0.8007187</td><td>1.0000000</td><td>0.8620546</td><td>0.8465083</td><td>0.7943843</td><td>0.7737738</td><td>0.7845717</td><td>0.7753456</td><td>⋯</td><td>0.8113718</td><td>0.7865932</td><td>0.7611948</td><td>0.7810575</td><td>0.7804755</td><td>0.7861684</td><td>0.7920763</td><td>0.8156777</td><td>0.8001367</td><td>0.7968146</td></tr>\n",
       "\t<tr><th scope=row>Artery - Coronary</th><td>0.7970331</td><td>0.8462510</td><td>0.8291998</td><td>0.8620546</td><td>1.0000000</td><td>0.8724207</td><td>0.7847650</td><td>0.7530278</td><td>0.7585706</td><td>0.7692536</td><td>⋯</td><td>0.7987615</td><td>0.8127769</td><td>0.7682309</td><td>0.8066411</td><td>0.8146596</td><td>0.8146890</td><td>0.8147805</td><td>0.8007671</td><td>0.7817212</td><td>0.8061614</td></tr>\n",
       "\t<tr><th scope=row>Artery - Tibial</th><td>0.8053699</td><td>0.8220345</td><td>0.7873730</td><td>0.8465083</td><td>0.8724207</td><td>1.0000000</td><td>0.7852306</td><td>0.7644496</td><td>0.7636510</td><td>0.7685798</td><td>⋯</td><td>0.8512421</td><td>0.8203590</td><td>0.7970638</td><td>0.8221117</td><td>0.8230303</td><td>0.8054339</td><td>0.7998696</td><td>0.8230236</td><td>0.8059742</td><td>0.7988171</td></tr>\n",
       "</tbody>\n",
       "</table>\n"
      ],
      "text/latex": [
       "A matrix: 6 × 46 of type dbl\n",
       "\\begin{tabular}{r|lllllllllllllllllllll}\n",
       "  & Adipose - Subcutaneous & Adipose - Visceral (Omentum) & Adrenal Gland & Artery - Aorta & Artery - Coronary & Artery - Tibial & Bladder & Brain - Amygdala & Brain - Anterior cingulate cortex (BA24) & Brain - Caudate (basal ganglia) & ⋯ & Nerve - Tibial & Pancreas & Pituitary & Skin - Not Sun Exposed (Suprapubic) & Skin - Sun Exposed (Lower leg) & Small Intestine - Terminal Ileum & Spleen & Stomach & Thyroid & Whole Blood\\\\\n",
       "\\hline\n",
       "\tAdipose - Subcutaneous & 1.0000000 & 0.8365272 & 0.7440858 & 0.8033718 & 0.7970331 & 0.8053699 & 0.8231428 & 0.7739447 & 0.7843509 & 0.7867614 & ⋯ & 0.8650933 & 0.7583434 & 0.7764261 & 0.8086684 & 0.8132758 & 0.8384233 & 0.7820020 & 0.8116124 & 0.8479777 & 0.7859629\\\\\n",
       "\tAdipose - Visceral (Omentum) & 0.8365272 & 1.0000000 & 0.7807381 & 0.7840836 & 0.8462510 & 0.8220345 & 0.8159421 & 0.7563617 & 0.7623832 & 0.7814339 & ⋯ & 0.8200249 & 0.7763044 & 0.7703798 & 0.8054233 & 0.8102348 & 0.8240124 & 0.7958134 & 0.7946560 & 0.8242039 & 0.7790460\\\\\n",
       "\tAdrenal Gland & 0.7440858 & 0.7807381 & 1.0000000 & 0.8007187 & 0.8291998 & 0.7873730 & 0.7711136 & 0.7459315 & 0.7454137 & 0.7447619 & ⋯ & 0.7647180 & 0.8304141 & 0.7528460 & 0.7532003 & 0.7575763 & 0.7812392 & 0.8224205 & 0.7992741 & 0.7598380 & 0.7694753\\\\\n",
       "\tArtery - Aorta & 0.8033718 & 0.7840836 & 0.8007187 & 1.0000000 & 0.8620546 & 0.8465083 & 0.7943843 & 0.7737738 & 0.7845717 & 0.7753456 & ⋯ & 0.8113718 & 0.7865932 & 0.7611948 & 0.7810575 & 0.7804755 & 0.7861684 & 0.7920763 & 0.8156777 & 0.8001367 & 0.7968146\\\\\n",
       "\tArtery - Coronary & 0.7970331 & 0.8462510 & 0.8291998 & 0.8620546 & 1.0000000 & 0.8724207 & 0.7847650 & 0.7530278 & 0.7585706 & 0.7692536 & ⋯ & 0.7987615 & 0.8127769 & 0.7682309 & 0.8066411 & 0.8146596 & 0.8146890 & 0.8147805 & 0.8007671 & 0.7817212 & 0.8061614\\\\\n",
       "\tArtery - Tibial & 0.8053699 & 0.8220345 & 0.7873730 & 0.8465083 & 0.8724207 & 1.0000000 & 0.7852306 & 0.7644496 & 0.7636510 & 0.7685798 & ⋯ & 0.8512421 & 0.8203590 & 0.7970638 & 0.8221117 & 0.8230303 & 0.8054339 & 0.7998696 & 0.8230236 & 0.8059742 & 0.7988171\\\\\n",
       "\\end{tabular}\n"
      ],
      "text/markdown": [
       "\n",
       "A matrix: 6 × 46 of type dbl\n",
       "\n",
       "| <!--/--> | Adipose - Subcutaneous | Adipose - Visceral (Omentum) | Adrenal Gland | Artery - Aorta | Artery - Coronary | Artery - Tibial | Bladder | Brain - Amygdala | Brain - Anterior cingulate cortex (BA24) | Brain - Caudate (basal ganglia) | ⋯ | Nerve - Tibial | Pancreas | Pituitary | Skin - Not Sun Exposed (Suprapubic) | Skin - Sun Exposed (Lower leg) | Small Intestine - Terminal Ileum | Spleen | Stomach | Thyroid | Whole Blood |\n",
       "|---|---|---|---|---|---|---|---|---|---|---|---|---|---|---|---|---|---|---|---|---|---|\n",
       "| Adipose - Subcutaneous | 1.0000000 | 0.8365272 | 0.7440858 | 0.8033718 | 0.7970331 | 0.8053699 | 0.8231428 | 0.7739447 | 0.7843509 | 0.7867614 | ⋯ | 0.8650933 | 0.7583434 | 0.7764261 | 0.8086684 | 0.8132758 | 0.8384233 | 0.7820020 | 0.8116124 | 0.8479777 | 0.7859629 |\n",
       "| Adipose - Visceral (Omentum) | 0.8365272 | 1.0000000 | 0.7807381 | 0.7840836 | 0.8462510 | 0.8220345 | 0.8159421 | 0.7563617 | 0.7623832 | 0.7814339 | ⋯ | 0.8200249 | 0.7763044 | 0.7703798 | 0.8054233 | 0.8102348 | 0.8240124 | 0.7958134 | 0.7946560 | 0.8242039 | 0.7790460 |\n",
       "| Adrenal Gland | 0.7440858 | 0.7807381 | 1.0000000 | 0.8007187 | 0.8291998 | 0.7873730 | 0.7711136 | 0.7459315 | 0.7454137 | 0.7447619 | ⋯ | 0.7647180 | 0.8304141 | 0.7528460 | 0.7532003 | 0.7575763 | 0.7812392 | 0.8224205 | 0.7992741 | 0.7598380 | 0.7694753 |\n",
       "| Artery - Aorta | 0.8033718 | 0.7840836 | 0.8007187 | 1.0000000 | 0.8620546 | 0.8465083 | 0.7943843 | 0.7737738 | 0.7845717 | 0.7753456 | ⋯ | 0.8113718 | 0.7865932 | 0.7611948 | 0.7810575 | 0.7804755 | 0.7861684 | 0.7920763 | 0.8156777 | 0.8001367 | 0.7968146 |\n",
       "| Artery - Coronary | 0.7970331 | 0.8462510 | 0.8291998 | 0.8620546 | 1.0000000 | 0.8724207 | 0.7847650 | 0.7530278 | 0.7585706 | 0.7692536 | ⋯ | 0.7987615 | 0.8127769 | 0.7682309 | 0.8066411 | 0.8146596 | 0.8146890 | 0.8147805 | 0.8007671 | 0.7817212 | 0.8061614 |\n",
       "| Artery - Tibial | 0.8053699 | 0.8220345 | 0.7873730 | 0.8465083 | 0.8724207 | 1.0000000 | 0.7852306 | 0.7644496 | 0.7636510 | 0.7685798 | ⋯ | 0.8512421 | 0.8203590 | 0.7970638 | 0.8221117 | 0.8230303 | 0.8054339 | 0.7998696 | 0.8230236 | 0.8059742 | 0.7988171 |\n",
       "\n"
      ],
      "text/plain": [
       "                             Adipose - Subcutaneous\n",
       "Adipose - Subcutaneous       1.0000000             \n",
       "Adipose - Visceral (Omentum) 0.8365272             \n",
       "Adrenal Gland                0.7440858             \n",
       "Artery - Aorta               0.8033718             \n",
       "Artery - Coronary            0.7970331             \n",
       "Artery - Tibial              0.8053699             \n",
       "                             Adipose - Visceral (Omentum) Adrenal Gland\n",
       "Adipose - Subcutaneous       0.8365272                    0.7440858    \n",
       "Adipose - Visceral (Omentum) 1.0000000                    0.7807381    \n",
       "Adrenal Gland                0.7807381                    1.0000000    \n",
       "Artery - Aorta               0.7840836                    0.8007187    \n",
       "Artery - Coronary            0.8462510                    0.8291998    \n",
       "Artery - Tibial              0.8220345                    0.7873730    \n",
       "                             Artery - Aorta Artery - Coronary Artery - Tibial\n",
       "Adipose - Subcutaneous       0.8033718      0.7970331         0.8053699      \n",
       "Adipose - Visceral (Omentum) 0.7840836      0.8462510         0.8220345      \n",
       "Adrenal Gland                0.8007187      0.8291998         0.7873730      \n",
       "Artery - Aorta               1.0000000      0.8620546         0.8465083      \n",
       "Artery - Coronary            0.8620546      1.0000000         0.8724207      \n",
       "Artery - Tibial              0.8465083      0.8724207         1.0000000      \n",
       "                             Bladder   Brain - Amygdala\n",
       "Adipose - Subcutaneous       0.8231428 0.7739447       \n",
       "Adipose - Visceral (Omentum) 0.8159421 0.7563617       \n",
       "Adrenal Gland                0.7711136 0.7459315       \n",
       "Artery - Aorta               0.7943843 0.7737738       \n",
       "Artery - Coronary            0.7847650 0.7530278       \n",
       "Artery - Tibial              0.7852306 0.7644496       \n",
       "                             Brain - Anterior cingulate cortex (BA24)\n",
       "Adipose - Subcutaneous       0.7843509                               \n",
       "Adipose - Visceral (Omentum) 0.7623832                               \n",
       "Adrenal Gland                0.7454137                               \n",
       "Artery - Aorta               0.7845717                               \n",
       "Artery - Coronary            0.7585706                               \n",
       "Artery - Tibial              0.7636510                               \n",
       "                             Brain - Caudate (basal ganglia) ⋯ Nerve - Tibial\n",
       "Adipose - Subcutaneous       0.7867614                       ⋯ 0.8650933     \n",
       "Adipose - Visceral (Omentum) 0.7814339                       ⋯ 0.8200249     \n",
       "Adrenal Gland                0.7447619                       ⋯ 0.7647180     \n",
       "Artery - Aorta               0.7753456                       ⋯ 0.8113718     \n",
       "Artery - Coronary            0.7692536                       ⋯ 0.7987615     \n",
       "Artery - Tibial              0.7685798                       ⋯ 0.8512421     \n",
       "                             Pancreas  Pituitary\n",
       "Adipose - Subcutaneous       0.7583434 0.7764261\n",
       "Adipose - Visceral (Omentum) 0.7763044 0.7703798\n",
       "Adrenal Gland                0.8304141 0.7528460\n",
       "Artery - Aorta               0.7865932 0.7611948\n",
       "Artery - Coronary            0.8127769 0.7682309\n",
       "Artery - Tibial              0.8203590 0.7970638\n",
       "                             Skin - Not Sun Exposed (Suprapubic)\n",
       "Adipose - Subcutaneous       0.8086684                          \n",
       "Adipose - Visceral (Omentum) 0.8054233                          \n",
       "Adrenal Gland                0.7532003                          \n",
       "Artery - Aorta               0.7810575                          \n",
       "Artery - Coronary            0.8066411                          \n",
       "Artery - Tibial              0.8221117                          \n",
       "                             Skin - Sun Exposed (Lower leg)\n",
       "Adipose - Subcutaneous       0.8132758                     \n",
       "Adipose - Visceral (Omentum) 0.8102348                     \n",
       "Adrenal Gland                0.7575763                     \n",
       "Artery - Aorta               0.7804755                     \n",
       "Artery - Coronary            0.8146596                     \n",
       "Artery - Tibial              0.8230303                     \n",
       "                             Small Intestine - Terminal Ileum Spleen   \n",
       "Adipose - Subcutaneous       0.8384233                        0.7820020\n",
       "Adipose - Visceral (Omentum) 0.8240124                        0.7958134\n",
       "Adrenal Gland                0.7812392                        0.8224205\n",
       "Artery - Aorta               0.7861684                        0.7920763\n",
       "Artery - Coronary            0.8146890                        0.8147805\n",
       "Artery - Tibial              0.8054339                        0.7998696\n",
       "                             Stomach   Thyroid   Whole Blood\n",
       "Adipose - Subcutaneous       0.8116124 0.8479777 0.7859629  \n",
       "Adipose - Visceral (Omentum) 0.7946560 0.8242039 0.7790460  \n",
       "Adrenal Gland                0.7992741 0.7598380 0.7694753  \n",
       "Artery - Aorta               0.8156777 0.8001367 0.7968146  \n",
       "Artery - Coronary            0.8007671 0.7817212 0.8061614  \n",
       "Artery - Tibial              0.8230236 0.8059742 0.7988171  "
      ]
     },
     "metadata": {},
     "output_type": "display_data"
    }
   ],
   "source": [
    "head(dist_mat)"
   ]
  },
  {
   "cell_type": "code",
   "execution_count": 42,
   "metadata": {},
   "outputs": [
    {
     "name": "stderr",
     "output_type": "stream",
     "text": [
      "Saving dist_mat object\n",
      "Done!\n"
     ]
    }
   ],
   "source": [
    "rownames(dist_mat) <- colnames(logFC_mat)\n",
    "colnames(dist_mat) <- colnames(logFC_mat)\n",
    "\n",
    "message(\"Saving dist_mat object\")\n",
    "saveRDS(object = dist_mat, file = \"../data/dist_mat.rds\")\n",
    "message(\"Done!\")"
   ]
  },
  {
   "cell_type": "code",
   "execution_count": 43,
   "metadata": {},
   "outputs": [
    {
     "data": {
      "image/png": "[encoded data removed]",
      "text/plain": [
       "plot without title"
      ]
     },
     "metadata": {},
     "output_type": "display_data"
    }
   ],
   "source": [
    "library(pheatmap)\n",
    "pheatmap(as.matrix(dist_mat),   fontsize = 6)\n",
    "hm.parameters <- list(dist_mat, fontsize = 6)\n",
    "do.call(\"pheatmap\", c(hm.parameters,  filename=\"../pdf/Figure1c.pdf\"))"
   ]
  },
  {
   "cell_type": "markdown",
   "metadata": {},
   "source": [
    "## Figure 1e - Number of sex-biased AS events per tissue type."
   ]
  },
  {
   "cell_type": "code",
   "execution_count": 44,
   "metadata": {},
   "outputs": [
    {
     "name": "stderr",
     "output_type": "stream",
     "text": [
      "Warning message:\n",
      "“Transformation introduced infinite values in continuous x-axis”Warning message:\n",
      "“Transformation introduced infinite values in continuous x-axis”"
     ]
    },
    {
     "data": {
      "image/png": "[encoded data removed]",
      "text/plain": [
       "plot without title"
      ]
     },
     "metadata": {},
     "output_type": "display_data"
    }
   ],
   "source": [
    "totals <- read.table(\"../dimorphAS/figures/figure1/Totals_by_tissue_annotated.txt\", sep = \"\\t\", quote = NULL, header = T)\n",
    "totals_s <- totals %>% arrange(Total)\n",
    "totals_s$Label <- factor(totals_s$Label, levels = totals_s$Label)\n",
    "\n",
    "\n",
    "## Function to get a reverse log10 scale on the x axis\n",
    "reverselog_trans <- function(base = exp(1)) {\n",
    "  trans <- function(x) -log(x, base)\n",
    "  inv <- function(x) base^(-x)\n",
    "  trans_new(paste0(\"reverselog-\", format(base)), trans, inv, \n",
    "            log_breaks(base = base), \n",
    "            domain = c(1e-100, Inf))\n",
    "}\n",
    "\n",
    "\n",
    "\n",
    "g<-ggplot(totals_s, aes(y = Label, x = Total, size = Total)) +\n",
    "  geom_point(color = \"red\") +\n",
    "  theme_bw() +\n",
    "  scale_x_continuous(trans=reverselog_trans(), breaks=c(1,10,100,1000,5000,10000)) +#breaks=c(10000, 5000,1000,100,10,1)) +\n",
    "  scale_y_discrete(position = \"right\") +\n",
    "  theme(axis.text.x = element_text(size=8, angle = 0, hjust = 0.0, vjust = 0.5),\n",
    "        axis.text.y = element_text(size=8),\n",
    "        axis.title.x = element_text(face=\"plain\", colour=\"black\", \n",
    "                                    size=10),\n",
    "        axis.title.y = element_blank(),\n",
    "        legend.title=element_blank(),\n",
    "        legend.text = element_text(face=\"plain\", colour=\"black\", \n",
    "                                   size=8)) +\n",
    "  xlab(paste(\"Number of sex-biased splicing events\")) +\n",
    "  ylab(\"Tissue\") + \n",
    "  guides(size=FALSE)\n",
    "\n",
    "g\n",
    "ggsave(\"figure1e.pdf\",g, height = 4.5, width = 4)"
   ]
  },
  {
   "cell_type": "markdown",
   "metadata": {},
   "source": [
    "## Metadata\n",
    "\n",
    "For replicability and reproducibility purposes, we also print the following metadata:\n",
    "\n",
    "1. Checksums of **'artefacts'**, files generated during the analysis and stored in the folder directory **`data`**\n",
    "2. List of environment metadata, dependencies, versions of libraries using `utils::sessionInfo()` and [`devtools::session_info()`](https://devtools.r-lib.org/reference/session_info.html)"
   ]
  },
  {
   "cell_type": "markdown",
   "metadata": {},
   "source": [
    "### 1. Checksums with the sha256 algorithm"
   ]
  },
  {
   "cell_type": "code",
   "execution_count": 66,
   "metadata": {},
   "outputs": [
    {
     "name": "stderr",
     "output_type": "stream",
     "text": [
      "Generating sha256 checksums of the artefacts in the `..data/` directory .. \n"
     ]
    },
    {
     "data": {
      "text/html": [],
      "text/latex": [],
      "text/markdown": [],
      "text/plain": [
       "character(0)"
      ]
     },
     "metadata": {},
     "output_type": "display_data"
    },
    {
     "name": "stderr",
     "output_type": "stream",
     "text": [
      "Done!\n",
      "\n"
     ]
    },
    {
     "data": {
      "text/html": [
       "<table>\n",
       "<caption>A data.table: 7 × 2</caption>\n",
       "<thead>\n",
       "\t<tr><th scope=col>sha256sum</th><th scope=col>file</th></tr>\n",
       "\t<tr><th scope=col>&lt;chr&gt;</th><th scope=col>&lt;chr&gt;</th></tr>\n",
       "</thead>\n",
       "<tbody>\n",
       "\t<tr><td>2c22da474cfcf3e0f2eed020b22d11b32192d92a483d185ff90738622204babf</td><td>./reduced_obj.rds    </td></tr>\n",
       "\t<tr><td>2b4e03c09d1b0faf96ca24c347a10d7cdfe9eef7c40b2615d8de01b1fd820670</td><td>./dist_mat.rds       </td></tr>\n",
       "\t<tr><td>18e2c7a83c98dcf59ddab53e1281923979d49da6ea3acb68114c5a44057c57bc</td><td>./gtex.rds           </td></tr>\n",
       "\t<tr><td>58dede0438acb2c7ce3d5bb1e1bdf0dae82ab4ab725cdbfb6a080c23b63f7b16</td><td>./csv.tar.gz         </td></tr>\n",
       "\t<tr><td>1de1314915e6e3112033c100d95da7bebcc829dd6e94d35b2dd00bfb713dec98</td><td>./DGENormFactorsy.rds</td></tr>\n",
       "\t<tr><td>be53124f034b2e33e0868604b2ff8f8864af7427a39127229de888cb9b12420a</td><td>./reduced_y.rds      </td></tr>\n",
       "\t<tr><td>5146c849c9354129590c59da5e6040a074523b4827d0975e3f5fa43737af7e9a</td><td>./README.md          </td></tr>\n",
       "</tbody>\n",
       "</table>\n"
      ],
      "text/latex": [
       "A data.table: 7 × 2\n",
       "\\begin{tabular}{ll}\n",
       " sha256sum & file\\\\\n",
       " <chr> & <chr>\\\\\n",
       "\\hline\n",
       "\t 2c22da474cfcf3e0f2eed020b22d11b32192d92a483d185ff90738622204babf & ./reduced\\_obj.rds    \\\\\n",
       "\t 2b4e03c09d1b0faf96ca24c347a10d7cdfe9eef7c40b2615d8de01b1fd820670 & ./dist\\_mat.rds       \\\\\n",
       "\t 18e2c7a83c98dcf59ddab53e1281923979d49da6ea3acb68114c5a44057c57bc & ./gtex.rds           \\\\\n",
       "\t 58dede0438acb2c7ce3d5bb1e1bdf0dae82ab4ab725cdbfb6a080c23b63f7b16 & ./csv.tar.gz         \\\\\n",
       "\t 1de1314915e6e3112033c100d95da7bebcc829dd6e94d35b2dd00bfb713dec98 & ./DGENormFactorsy.rds\\\\\n",
       "\t be53124f034b2e33e0868604b2ff8f8864af7427a39127229de888cb9b12420a & ./reduced\\_y.rds      \\\\\n",
       "\t 5146c849c9354129590c59da5e6040a074523b4827d0975e3f5fa43737af7e9a & ./README.md          \\\\\n",
       "\\end{tabular}\n"
      ],
      "text/markdown": [
       "\n",
       "A data.table: 7 × 2\n",
       "\n",
       "| sha256sum &lt;chr&gt; | file &lt;chr&gt; |\n",
       "|---|---|\n",
       "| 2c22da474cfcf3e0f2eed020b22d11b32192d92a483d185ff90738622204babf | ./reduced_obj.rds     |\n",
       "| 2b4e03c09d1b0faf96ca24c347a10d7cdfe9eef7c40b2615d8de01b1fd820670 | ./dist_mat.rds        |\n",
       "| 18e2c7a83c98dcf59ddab53e1281923979d49da6ea3acb68114c5a44057c57bc | ./gtex.rds            |\n",
       "| 58dede0438acb2c7ce3d5bb1e1bdf0dae82ab4ab725cdbfb6a080c23b63f7b16 | ./csv.tar.gz          |\n",
       "| 1de1314915e6e3112033c100d95da7bebcc829dd6e94d35b2dd00bfb713dec98 | ./DGENormFactorsy.rds |\n",
       "| be53124f034b2e33e0868604b2ff8f8864af7427a39127229de888cb9b12420a | ./reduced_y.rds       |\n",
       "| 5146c849c9354129590c59da5e6040a074523b4827d0975e3f5fa43737af7e9a | ./README.md           |\n",
       "\n"
      ],
      "text/plain": [
       "  sha256sum                                                       \n",
       "1 2c22da474cfcf3e0f2eed020b22d11b32192d92a483d185ff90738622204babf\n",
       "2 2b4e03c09d1b0faf96ca24c347a10d7cdfe9eef7c40b2615d8de01b1fd820670\n",
       "3 18e2c7a83c98dcf59ddab53e1281923979d49da6ea3acb68114c5a44057c57bc\n",
       "4 58dede0438acb2c7ce3d5bb1e1bdf0dae82ab4ab725cdbfb6a080c23b63f7b16\n",
       "5 1de1314915e6e3112033c100d95da7bebcc829dd6e94d35b2dd00bfb713dec98\n",
       "6 be53124f034b2e33e0868604b2ff8f8864af7427a39127229de888cb9b12420a\n",
       "7 5146c849c9354129590c59da5e6040a074523b4827d0975e3f5fa43737af7e9a\n",
       "  file                 \n",
       "1 ./reduced_obj.rds    \n",
       "2 ./dist_mat.rds       \n",
       "3 ./gtex.rds           \n",
       "4 ./csv.tar.gz         \n",
       "5 ./DGENormFactorsy.rds\n",
       "6 ./reduced_y.rds      \n",
       "7 ./README.md          "
      ]
     },
     "metadata": {},
     "output_type": "display_data"
    }
   ],
   "source": [
    "figure_id   = \"figure1\"\n",
    "\n",
    "message(\"Generating sha256 checksums of the artefacts in the `..data/` directory .. \")\n",
    "system(paste0(\"cd ../data && find . -type f -exec sha256sum {} \\\\;  >  ../metadata/\", figure_id, \"_sha256sums.txt\"), intern = TRUE)\n",
    "message(\"Done!\\n\")\n",
    "\n",
    "data.table::fread(paste0(\"../metadata/\", figure_id, \"_sha256sums.txt\"), header = FALSE, col.names = c(\"sha256sum\", \"file\"))"
   ]
  },
  {
   "cell_type": "markdown",
   "metadata": {},
   "source": [
    "### 2. Libraries metadata"
   ]
  },
  {
   "cell_type": "code",
   "execution_count": 67,
   "metadata": {},
   "outputs": [
    {
     "name": "stderr",
     "output_type": "stream",
     "text": [
      "Saving `devtools::session_info()` objects in ../metadata/devtools_session_info.rds  ..\n",
      "Done!\n",
      "\n",
      "Saving `utils::sessionInfo()` objects in ../metadata/utils_session_info.rds  ..\n",
      "Done!\n",
      "\n"
     ]
    },
    {
     "data": {
      "text/plain": [
       " setting  value                       \n",
       " version  R version 3.6.1 (2019-07-05)\n",
       " os       Ubuntu 18.04.3 LTS          \n",
       " system   x86_64, linux-gnu           \n",
       " ui       X11                         \n",
       " language en_US.UTF-8                 \n",
       " collate  en_US.UTF-8                 \n",
       " ctype    en_US.UTF-8                 \n",
       " tz       Etc/UTC                     \n",
       " date     2020-03-10                  "
      ]
     },
     "metadata": {},
     "output_type": "display_data"
    },
    {
     "data": {
      "text/html": [
       "<table>\n",
       "<caption>A packages_info: 22 × 11</caption>\n",
       "<thead>\n",
       "\t<tr><th></th><th scope=col>package</th><th scope=col>ondiskversion</th><th scope=col>loadedversion</th><th scope=col>path</th><th scope=col>loadedpath</th><th scope=col>attached</th><th scope=col>is_base</th><th scope=col>date</th><th scope=col>source</th><th scope=col>md5ok</th><th scope=col>library</th></tr>\n",
       "\t<tr><th></th><th scope=col>&lt;chr&gt;</th><th scope=col>&lt;chr&gt;</th><th scope=col>&lt;chr&gt;</th><th scope=col>&lt;chr&gt;</th><th scope=col>&lt;chr&gt;</th><th scope=col>&lt;lgl&gt;</th><th scope=col>&lt;lgl&gt;</th><th scope=col>&lt;chr&gt;</th><th scope=col>&lt;chr&gt;</th><th scope=col>&lt;lgl&gt;</th><th scope=col>&lt;fct&gt;</th></tr>\n",
       "</thead>\n",
       "<tbody>\n",
       "\t<tr><th scope=row>Biobase</th><td>Biobase     </td><td>2.46.0   </td><td>2.46.0   </td><td>/opt/conda/lib/R/library/Biobase     </td><td>/opt/conda/lib/R/library/Biobase     </td><td>TRUE</td><td>FALSE</td><td>2019-10-29</td><td>Bioconductor                              </td><td>NA</td><td>/opt/conda/lib/R/library</td></tr>\n",
       "\t<tr><th scope=row>BiocGenerics</th><td>BiocGenerics</td><td>0.32.0   </td><td>0.32.0   </td><td>/opt/conda/lib/R/library/BiocGenerics</td><td>/opt/conda/lib/R/library/BiocGenerics</td><td>TRUE</td><td>FALSE</td><td>2019-10-29</td><td>Bioconductor                              </td><td>NA</td><td>/opt/conda/lib/R/library</td></tr>\n",
       "\t<tr><th scope=row>biomaRt</th><td>biomaRt     </td><td>2.42.0   </td><td>2.42.0   </td><td>/opt/conda/lib/R/library/biomaRt     </td><td>/opt/conda/lib/R/library/biomaRt     </td><td>TRUE</td><td>FALSE</td><td>2019-10-29</td><td>Bioconductor                              </td><td>NA</td><td>/opt/conda/lib/R/library</td></tr>\n",
       "\t<tr><th scope=row>DBI</th><td>DBI         </td><td>1.1.0    </td><td>1.1.0    </td><td>/opt/conda/lib/R/library/DBI         </td><td>/opt/conda/lib/R/library/DBI         </td><td>TRUE</td><td>FALSE</td><td>2019-12-15</td><td>CRAN (R 3.6.2)                            </td><td>NA</td><td>/opt/conda/lib/R/library</td></tr>\n",
       "\t<tr><th scope=row>devtools</th><td>devtools    </td><td>2.0.2    </td><td>2.0.2    </td><td>/opt/conda/lib/R/library/devtools    </td><td>/opt/conda/lib/R/library/devtools    </td><td>TRUE</td><td>FALSE</td><td>2019-04-08</td><td>CRAN (R 3.6.0)                            </td><td>NA</td><td>/opt/conda/lib/R/library</td></tr>\n",
       "\t<tr><th scope=row>downloader</th><td>downloader  </td><td>0.4      </td><td>0.4      </td><td>/opt/conda/lib/R/library/downloader  </td><td>/opt/conda/lib/R/library/downloader  </td><td>TRUE</td><td>FALSE</td><td>2015-07-09</td><td>CRAN (R 3.6.1)                            </td><td>NA</td><td>/opt/conda/lib/R/library</td></tr>\n",
       "\t<tr><th scope=row>dplyr</th><td>dplyr       </td><td>0.8.4    </td><td>0.8.4    </td><td>/opt/conda/lib/R/library/dplyr       </td><td>/opt/conda/lib/R/library/dplyr       </td><td>TRUE</td><td>FALSE</td><td>2020-01-31</td><td>CRAN (R 3.6.2)                            </td><td>NA</td><td>/opt/conda/lib/R/library</td></tr>\n",
       "\t<tr><th scope=row>edgeR</th><td>edgeR       </td><td>3.28.1   </td><td>3.28.1   </td><td>/opt/conda/lib/R/library/edgeR       </td><td>/opt/conda/lib/R/library/edgeR       </td><td>TRUE</td><td>FALSE</td><td>2020-02-26</td><td>Bioconductor                              </td><td>NA</td><td>/opt/conda/lib/R/library</td></tr>\n",
       "\t<tr><th scope=row>ggplot2</th><td>ggplot2     </td><td>3.2.1    </td><td>3.2.1    </td><td>/opt/conda/lib/R/library/ggplot2     </td><td>/opt/conda/lib/R/library/ggplot2     </td><td>TRUE</td><td>FALSE</td><td>2019-08-10</td><td>CRAN (R 3.6.1)                            </td><td>NA</td><td>/opt/conda/lib/R/library</td></tr>\n",
       "\t<tr><th scope=row>limma</th><td>limma       </td><td>3.42.0   </td><td>3.42.0   </td><td>/opt/conda/lib/R/library/limma       </td><td>/opt/conda/lib/R/library/limma       </td><td>TRUE</td><td>FALSE</td><td>2019-10-29</td><td>Bioconductor                              </td><td>NA</td><td>/opt/conda/lib/R/library</td></tr>\n",
       "\t<tr><th scope=row>magrittr</th><td>magrittr    </td><td>1.5      </td><td>1.5      </td><td>/opt/conda/lib/R/library/magrittr    </td><td>/opt/conda/lib/R/library/magrittr    </td><td>TRUE</td><td>FALSE</td><td>2014-11-22</td><td>CRAN (R 3.6.1)                            </td><td>NA</td><td>/opt/conda/lib/R/library</td></tr>\n",
       "\t<tr><th scope=row>pheatmap</th><td>pheatmap    </td><td>1.0.12   </td><td>1.0.12   </td><td>/opt/conda/lib/R/library/pheatmap    </td><td>/opt/conda/lib/R/library/pheatmap    </td><td>TRUE</td><td>FALSE</td><td>2019-01-04</td><td>CRAN (R 3.6.1)                            </td><td>NA</td><td>/opt/conda/lib/R/library</td></tr>\n",
       "\t<tr><th scope=row>piggyback</th><td>piggyback   </td><td>0.0.10.99</td><td>0.0.10.99</td><td>/opt/conda/lib/R/library/piggyback   </td><td>/opt/conda/lib/R/library/piggyback   </td><td>TRUE</td><td>FALSE</td><td>2020-03-10</td><td>Github (ropensci/piggyback@87f71e8)       </td><td>NA</td><td>/opt/conda/lib/R/library</td></tr>\n",
       "\t<tr><th scope=row>readr</th><td>readr       </td><td>1.3.1    </td><td>1.3.1    </td><td>/opt/conda/lib/R/library/readr       </td><td>/opt/conda/lib/R/library/readr       </td><td>TRUE</td><td>FALSE</td><td>2018-12-21</td><td>CRAN (R 3.6.1)                            </td><td>NA</td><td>/opt/conda/lib/R/library</td></tr>\n",
       "\t<tr><th scope=row>scales</th><td>scales      </td><td>1.1.0    </td><td>1.1.0    </td><td>/opt/conda/lib/R/library/scales      </td><td>/opt/conda/lib/R/library/scales      </td><td>TRUE</td><td>FALSE</td><td>2019-11-18</td><td>CRAN (R 3.6.1)                            </td><td>NA</td><td>/opt/conda/lib/R/library</td></tr>\n",
       "\t<tr><th scope=row>snakecase</th><td>snakecase   </td><td>0.11.0   </td><td>0.11.0   </td><td>/opt/conda/lib/R/library/snakecase   </td><td>/opt/conda/lib/R/library/snakecase   </td><td>TRUE</td><td>FALSE</td><td>2019-05-25</td><td>CRAN (R 3.6.1)                            </td><td>NA</td><td>/opt/conda/lib/R/library</td></tr>\n",
       "\t<tr><th scope=row>statmod</th><td>statmod     </td><td>1.4.34   </td><td>1.4.34   </td><td>/opt/conda/lib/R/library/statmod     </td><td>/opt/conda/lib/R/library/statmod     </td><td>TRUE</td><td>FALSE</td><td>2020-02-17</td><td>CRAN (R 3.6.1)                            </td><td>NA</td><td>/opt/conda/lib/R/library</td></tr>\n",
       "\t<tr><th scope=row>stringr</th><td>stringr     </td><td>1.4.0    </td><td>1.4.0    </td><td>/opt/conda/lib/R/library/stringr     </td><td>/opt/conda/lib/R/library/stringr     </td><td>TRUE</td><td>FALSE</td><td>2019-02-10</td><td>CRAN (R 3.6.1)                            </td><td>NA</td><td>/opt/conda/lib/R/library</td></tr>\n",
       "\t<tr><th scope=row>usethis</th><td>usethis     </td><td>1.5.1    </td><td>1.5.1    </td><td>/opt/conda/lib/R/library/usethis     </td><td>/opt/conda/lib/R/library/usethis     </td><td>TRUE</td><td>FALSE</td><td>2019-07-04</td><td>CRAN (R 3.6.1)                            </td><td>NA</td><td>/opt/conda/lib/R/library</td></tr>\n",
       "\t<tr><th scope=row>viridis</th><td>viridis     </td><td>0.5.1    </td><td>0.5.1    </td><td>/opt/conda/lib/R/library/viridis     </td><td>/opt/conda/lib/R/library/viridis     </td><td>TRUE</td><td>FALSE</td><td>2018-03-29</td><td>CRAN (R 3.6.1)                            </td><td>NA</td><td>/opt/conda/lib/R/library</td></tr>\n",
       "\t<tr><th scope=row>viridisLite</th><td>viridisLite </td><td>0.3.0    </td><td>0.3.0    </td><td>/opt/conda/lib/R/library/viridisLite </td><td>/opt/conda/lib/R/library/viridisLite </td><td>TRUE</td><td>FALSE</td><td>2018-02-01</td><td>CRAN (R 3.6.1)                            </td><td>NA</td><td>/opt/conda/lib/R/library</td></tr>\n",
       "\t<tr><th scope=row>yarn</th><td>yarn        </td><td>1.13.1   </td><td>1.13.1   </td><td>/opt/conda/lib/R/library/yarn        </td><td>/opt/conda/lib/R/library/yarn        </td><td>TRUE</td><td>FALSE</td><td>2020-03-10</td><td>Github (TheJacksonLaboratory/yarn@3ff72c0)</td><td>NA</td><td>/opt/conda/lib/R/library</td></tr>\n",
       "</tbody>\n",
       "</table>\n"
      ],
      "text/latex": [
       "A packages\\_info: 22 × 11\n",
       "\\begin{tabular}{r|lllllllllll}\n",
       "  & package & ondiskversion & loadedversion & path & loadedpath & attached & is\\_base & date & source & md5ok & library\\\\\n",
       "  & <chr> & <chr> & <chr> & <chr> & <chr> & <lgl> & <lgl> & <chr> & <chr> & <lgl> & <fct>\\\\\n",
       "\\hline\n",
       "\tBiobase & Biobase      & 2.46.0    & 2.46.0    & /opt/conda/lib/R/library/Biobase      & /opt/conda/lib/R/library/Biobase      & TRUE & FALSE & 2019-10-29 & Bioconductor                               & NA & /opt/conda/lib/R/library\\\\\n",
       "\tBiocGenerics & BiocGenerics & 0.32.0    & 0.32.0    & /opt/conda/lib/R/library/BiocGenerics & /opt/conda/lib/R/library/BiocGenerics & TRUE & FALSE & 2019-10-29 & Bioconductor                               & NA & /opt/conda/lib/R/library\\\\\n",
       "\tbiomaRt & biomaRt      & 2.42.0    & 2.42.0    & /opt/conda/lib/R/library/biomaRt      & /opt/conda/lib/R/library/biomaRt      & TRUE & FALSE & 2019-10-29 & Bioconductor                               & NA & /opt/conda/lib/R/library\\\\\n",
       "\tDBI & DBI          & 1.1.0     & 1.1.0     & /opt/conda/lib/R/library/DBI          & /opt/conda/lib/R/library/DBI          & TRUE & FALSE & 2019-12-15 & CRAN (R 3.6.2)                             & NA & /opt/conda/lib/R/library\\\\\n",
       "\tdevtools & devtools     & 2.0.2     & 2.0.2     & /opt/conda/lib/R/library/devtools     & /opt/conda/lib/R/library/devtools     & TRUE & FALSE & 2019-04-08 & CRAN (R 3.6.0)                             & NA & /opt/conda/lib/R/library\\\\\n",
       "\tdownloader & downloader   & 0.4       & 0.4       & /opt/conda/lib/R/library/downloader   & /opt/conda/lib/R/library/downloader   & TRUE & FALSE & 2015-07-09 & CRAN (R 3.6.1)                             & NA & /opt/conda/lib/R/library\\\\\n",
       "\tdplyr & dplyr        & 0.8.4     & 0.8.4     & /opt/conda/lib/R/library/dplyr        & /opt/conda/lib/R/library/dplyr        & TRUE & FALSE & 2020-01-31 & CRAN (R 3.6.2)                             & NA & /opt/conda/lib/R/library\\\\\n",
       "\tedgeR & edgeR        & 3.28.1    & 3.28.1    & /opt/conda/lib/R/library/edgeR        & /opt/conda/lib/R/library/edgeR        & TRUE & FALSE & 2020-02-26 & Bioconductor                               & NA & /opt/conda/lib/R/library\\\\\n",
       "\tggplot2 & ggplot2      & 3.2.1     & 3.2.1     & /opt/conda/lib/R/library/ggplot2      & /opt/conda/lib/R/library/ggplot2      & TRUE & FALSE & 2019-08-10 & CRAN (R 3.6.1)                             & NA & /opt/conda/lib/R/library\\\\\n",
       "\tlimma & limma        & 3.42.0    & 3.42.0    & /opt/conda/lib/R/library/limma        & /opt/conda/lib/R/library/limma        & TRUE & FALSE & 2019-10-29 & Bioconductor                               & NA & /opt/conda/lib/R/library\\\\\n",
       "\tmagrittr & magrittr     & 1.5       & 1.5       & /opt/conda/lib/R/library/magrittr     & /opt/conda/lib/R/library/magrittr     & TRUE & FALSE & 2014-11-22 & CRAN (R 3.6.1)                             & NA & /opt/conda/lib/R/library\\\\\n",
       "\tpheatmap & pheatmap     & 1.0.12    & 1.0.12    & /opt/conda/lib/R/library/pheatmap     & /opt/conda/lib/R/library/pheatmap     & TRUE & FALSE & 2019-01-04 & CRAN (R 3.6.1)                             & NA & /opt/conda/lib/R/library\\\\\n",
       "\tpiggyback & piggyback    & 0.0.10.99 & 0.0.10.99 & /opt/conda/lib/R/library/piggyback    & /opt/conda/lib/R/library/piggyback    & TRUE & FALSE & 2020-03-10 & Github (ropensci/piggyback@87f71e8)        & NA & /opt/conda/lib/R/library\\\\\n",
       "\treadr & readr        & 1.3.1     & 1.3.1     & /opt/conda/lib/R/library/readr        & /opt/conda/lib/R/library/readr        & TRUE & FALSE & 2018-12-21 & CRAN (R 3.6.1)                             & NA & /opt/conda/lib/R/library\\\\\n",
       "\tscales & scales       & 1.1.0     & 1.1.0     & /opt/conda/lib/R/library/scales       & /opt/conda/lib/R/library/scales       & TRUE & FALSE & 2019-11-18 & CRAN (R 3.6.1)                             & NA & /opt/conda/lib/R/library\\\\\n",
       "\tsnakecase & snakecase    & 0.11.0    & 0.11.0    & /opt/conda/lib/R/library/snakecase    & /opt/conda/lib/R/library/snakecase    & TRUE & FALSE & 2019-05-25 & CRAN (R 3.6.1)                             & NA & /opt/conda/lib/R/library\\\\\n",
       "\tstatmod & statmod      & 1.4.34    & 1.4.34    & /opt/conda/lib/R/library/statmod      & /opt/conda/lib/R/library/statmod      & TRUE & FALSE & 2020-02-17 & CRAN (R 3.6.1)                             & NA & /opt/conda/lib/R/library\\\\\n",
       "\tstringr & stringr      & 1.4.0     & 1.4.0     & /opt/conda/lib/R/library/stringr      & /opt/conda/lib/R/library/stringr      & TRUE & FALSE & 2019-02-10 & CRAN (R 3.6.1)                             & NA & /opt/conda/lib/R/library\\\\\n",
       "\tusethis & usethis      & 1.5.1     & 1.5.1     & /opt/conda/lib/R/library/usethis      & /opt/conda/lib/R/library/usethis      & TRUE & FALSE & 2019-07-04 & CRAN (R 3.6.1)                             & NA & /opt/conda/lib/R/library\\\\\n",
       "\tviridis & viridis      & 0.5.1     & 0.5.1     & /opt/conda/lib/R/library/viridis      & /opt/conda/lib/R/library/viridis      & TRUE & FALSE & 2018-03-29 & CRAN (R 3.6.1)                             & NA & /opt/conda/lib/R/library\\\\\n",
       "\tviridisLite & viridisLite  & 0.3.0     & 0.3.0     & /opt/conda/lib/R/library/viridisLite  & /opt/conda/lib/R/library/viridisLite  & TRUE & FALSE & 2018-02-01 & CRAN (R 3.6.1)                             & NA & /opt/conda/lib/R/library\\\\\n",
       "\tyarn & yarn         & 1.13.1    & 1.13.1    & /opt/conda/lib/R/library/yarn         & /opt/conda/lib/R/library/yarn         & TRUE & FALSE & 2020-03-10 & Github (TheJacksonLaboratory/yarn@3ff72c0) & NA & /opt/conda/lib/R/library\\\\\n",
       "\\end{tabular}\n"
      ],
      "text/markdown": [
       "\n",
       "A packages_info: 22 × 11\n",
       "\n",
       "| <!--/--> | package &lt;chr&gt; | ondiskversion &lt;chr&gt; | loadedversion &lt;chr&gt; | path &lt;chr&gt; | loadedpath &lt;chr&gt; | attached &lt;lgl&gt; | is_base &lt;lgl&gt; | date &lt;chr&gt; | source &lt;chr&gt; | md5ok &lt;lgl&gt; | library &lt;fct&gt; |\n",
       "|---|---|---|---|---|---|---|---|---|---|---|---|\n",
       "| Biobase | Biobase      | 2.46.0    | 2.46.0    | /opt/conda/lib/R/library/Biobase      | /opt/conda/lib/R/library/Biobase      | TRUE | FALSE | 2019-10-29 | Bioconductor                               | NA | /opt/conda/lib/R/library |\n",
       "| BiocGenerics | BiocGenerics | 0.32.0    | 0.32.0    | /opt/conda/lib/R/library/BiocGenerics | /opt/conda/lib/R/library/BiocGenerics | TRUE | FALSE | 2019-10-29 | Bioconductor                               | NA | /opt/conda/lib/R/library |\n",
       "| biomaRt | biomaRt      | 2.42.0    | 2.42.0    | /opt/conda/lib/R/library/biomaRt      | /opt/conda/lib/R/library/biomaRt      | TRUE | FALSE | 2019-10-29 | Bioconductor                               | NA | /opt/conda/lib/R/library |\n",
       "| DBI | DBI          | 1.1.0     | 1.1.0     | /opt/conda/lib/R/library/DBI          | /opt/conda/lib/R/library/DBI          | TRUE | FALSE | 2019-12-15 | CRAN (R 3.6.2)                             | NA | /opt/conda/lib/R/library |\n",
       "| devtools | devtools     | 2.0.2     | 2.0.2     | /opt/conda/lib/R/library/devtools     | /opt/conda/lib/R/library/devtools     | TRUE | FALSE | 2019-04-08 | CRAN (R 3.6.0)                             | NA | /opt/conda/lib/R/library |\n",
       "| downloader | downloader   | 0.4       | 0.4       | /opt/conda/lib/R/library/downloader   | /opt/conda/lib/R/library/downloader   | TRUE | FALSE | 2015-07-09 | CRAN (R 3.6.1)                             | NA | /opt/conda/lib/R/library |\n",
       "| dplyr | dplyr        | 0.8.4     | 0.8.4     | /opt/conda/lib/R/library/dplyr        | /opt/conda/lib/R/library/dplyr        | TRUE | FALSE | 2020-01-31 | CRAN (R 3.6.2)                             | NA | /opt/conda/lib/R/library |\n",
       "| edgeR | edgeR        | 3.28.1    | 3.28.1    | /opt/conda/lib/R/library/edgeR        | /opt/conda/lib/R/library/edgeR        | TRUE | FALSE | 2020-02-26 | Bioconductor                               | NA | /opt/conda/lib/R/library |\n",
       "| ggplot2 | ggplot2      | 3.2.1     | 3.2.1     | /opt/conda/lib/R/library/ggplot2      | /opt/conda/lib/R/library/ggplot2      | TRUE | FALSE | 2019-08-10 | CRAN (R 3.6.1)                             | NA | /opt/conda/lib/R/library |\n",
       "| limma | limma        | 3.42.0    | 3.42.0    | /opt/conda/lib/R/library/limma        | /opt/conda/lib/R/library/limma        | TRUE | FALSE | 2019-10-29 | Bioconductor                               | NA | /opt/conda/lib/R/library |\n",
       "| magrittr | magrittr     | 1.5       | 1.5       | /opt/conda/lib/R/library/magrittr     | /opt/conda/lib/R/library/magrittr     | TRUE | FALSE | 2014-11-22 | CRAN (R 3.6.1)                             | NA | /opt/conda/lib/R/library |\n",
       "| pheatmap | pheatmap     | 1.0.12    | 1.0.12    | /opt/conda/lib/R/library/pheatmap     | /opt/conda/lib/R/library/pheatmap     | TRUE | FALSE | 2019-01-04 | CRAN (R 3.6.1)                             | NA | /opt/conda/lib/R/library |\n",
       "| piggyback | piggyback    | 0.0.10.99 | 0.0.10.99 | /opt/conda/lib/R/library/piggyback    | /opt/conda/lib/R/library/piggyback    | TRUE | FALSE | 2020-03-10 | Github (ropensci/piggyback@87f71e8)        | NA | /opt/conda/lib/R/library |\n",
       "| readr | readr        | 1.3.1     | 1.3.1     | /opt/conda/lib/R/library/readr        | /opt/conda/lib/R/library/readr        | TRUE | FALSE | 2018-12-21 | CRAN (R 3.6.1)                             | NA | /opt/conda/lib/R/library |\n",
       "| scales | scales       | 1.1.0     | 1.1.0     | /opt/conda/lib/R/library/scales       | /opt/conda/lib/R/library/scales       | TRUE | FALSE | 2019-11-18 | CRAN (R 3.6.1)                             | NA | /opt/conda/lib/R/library |\n",
       "| snakecase | snakecase    | 0.11.0    | 0.11.0    | /opt/conda/lib/R/library/snakecase    | /opt/conda/lib/R/library/snakecase    | TRUE | FALSE | 2019-05-25 | CRAN (R 3.6.1)                             | NA | /opt/conda/lib/R/library |\n",
       "| statmod | statmod      | 1.4.34    | 1.4.34    | /opt/conda/lib/R/library/statmod      | /opt/conda/lib/R/library/statmod      | TRUE | FALSE | 2020-02-17 | CRAN (R 3.6.1)                             | NA | /opt/conda/lib/R/library |\n",
       "| stringr | stringr      | 1.4.0     | 1.4.0     | /opt/conda/lib/R/library/stringr      | /opt/conda/lib/R/library/stringr      | TRUE | FALSE | 2019-02-10 | CRAN (R 3.6.1)                             | NA | /opt/conda/lib/R/library |\n",
       "| usethis | usethis      | 1.5.1     | 1.5.1     | /opt/conda/lib/R/library/usethis      | /opt/conda/lib/R/library/usethis      | TRUE | FALSE | 2019-07-04 | CRAN (R 3.6.1)                             | NA | /opt/conda/lib/R/library |\n",
       "| viridis | viridis      | 0.5.1     | 0.5.1     | /opt/conda/lib/R/library/viridis      | /opt/conda/lib/R/library/viridis      | TRUE | FALSE | 2018-03-29 | CRAN (R 3.6.1)                             | NA | /opt/conda/lib/R/library |\n",
       "| viridisLite | viridisLite  | 0.3.0     | 0.3.0     | /opt/conda/lib/R/library/viridisLite  | /opt/conda/lib/R/library/viridisLite  | TRUE | FALSE | 2018-02-01 | CRAN (R 3.6.1)                             | NA | /opt/conda/lib/R/library |\n",
       "| yarn | yarn         | 1.13.1    | 1.13.1    | /opt/conda/lib/R/library/yarn         | /opt/conda/lib/R/library/yarn         | TRUE | FALSE | 2020-03-10 | Github (TheJacksonLaboratory/yarn@3ff72c0) | NA | /opt/conda/lib/R/library |\n",
       "\n"
      ],
      "text/plain": [
       "             package      ondiskversion loadedversion\n",
       "Biobase      Biobase      2.46.0        2.46.0       \n",
       "BiocGenerics BiocGenerics 0.32.0        0.32.0       \n",
       "biomaRt      biomaRt      2.42.0        2.42.0       \n",
       "DBI          DBI          1.1.0         1.1.0        \n",
       "devtools     devtools     2.0.2         2.0.2        \n",
       "downloader   downloader   0.4           0.4          \n",
       "dplyr        dplyr        0.8.4         0.8.4        \n",
       "edgeR        edgeR        3.28.1        3.28.1       \n",
       "ggplot2      ggplot2      3.2.1         3.2.1        \n",
       "limma        limma        3.42.0        3.42.0       \n",
       "magrittr     magrittr     1.5           1.5          \n",
       "pheatmap     pheatmap     1.0.12        1.0.12       \n",
       "piggyback    piggyback    0.0.10.99     0.0.10.99    \n",
       "readr        readr        1.3.1         1.3.1        \n",
       "scales       scales       1.1.0         1.1.0        \n",
       "snakecase    snakecase    0.11.0        0.11.0       \n",
       "statmod      statmod      1.4.34        1.4.34       \n",
       "stringr      stringr      1.4.0         1.4.0        \n",
       "usethis      usethis      1.5.1         1.5.1        \n",
       "viridis      viridis      0.5.1         0.5.1        \n",
       "viridisLite  viridisLite  0.3.0         0.3.0        \n",
       "yarn         yarn         1.13.1        1.13.1       \n",
       "             path                                 \n",
       "Biobase      /opt/conda/lib/R/library/Biobase     \n",
       "BiocGenerics /opt/conda/lib/R/library/BiocGenerics\n",
       "biomaRt      /opt/conda/lib/R/library/biomaRt     \n",
       "DBI          /opt/conda/lib/R/library/DBI         \n",
       "devtools     /opt/conda/lib/R/library/devtools    \n",
       "downloader   /opt/conda/lib/R/library/downloader  \n",
       "dplyr        /opt/conda/lib/R/library/dplyr       \n",
       "edgeR        /opt/conda/lib/R/library/edgeR       \n",
       "ggplot2      /opt/conda/lib/R/library/ggplot2     \n",
       "limma        /opt/conda/lib/R/library/limma       \n",
       "magrittr     /opt/conda/lib/R/library/magrittr    \n",
       "pheatmap     /opt/conda/lib/R/library/pheatmap    \n",
       "piggyback    /opt/conda/lib/R/library/piggyback   \n",
       "readr        /opt/conda/lib/R/library/readr       \n",
       "scales       /opt/conda/lib/R/library/scales      \n",
       "snakecase    /opt/conda/lib/R/library/snakecase   \n",
       "statmod      /opt/conda/lib/R/library/statmod     \n",
       "stringr      /opt/conda/lib/R/library/stringr     \n",
       "usethis      /opt/conda/lib/R/library/usethis     \n",
       "viridis      /opt/conda/lib/R/library/viridis     \n",
       "viridisLite  /opt/conda/lib/R/library/viridisLite \n",
       "yarn         /opt/conda/lib/R/library/yarn        \n",
       "             loadedpath                            attached is_base date      \n",
       "Biobase      /opt/conda/lib/R/library/Biobase      TRUE     FALSE   2019-10-29\n",
       "BiocGenerics /opt/conda/lib/R/library/BiocGenerics TRUE     FALSE   2019-10-29\n",
       "biomaRt      /opt/conda/lib/R/library/biomaRt      TRUE     FALSE   2019-10-29\n",
       "DBI          /opt/conda/lib/R/library/DBI          TRUE     FALSE   2019-12-15\n",
       "devtools     /opt/conda/lib/R/library/devtools     TRUE     FALSE   2019-04-08\n",
       "downloader   /opt/conda/lib/R/library/downloader   TRUE     FALSE   2015-07-09\n",
       "dplyr        /opt/conda/lib/R/library/dplyr        TRUE     FALSE   2020-01-31\n",
       "edgeR        /opt/conda/lib/R/library/edgeR        TRUE     FALSE   2020-02-26\n",
       "ggplot2      /opt/conda/lib/R/library/ggplot2      TRUE     FALSE   2019-08-10\n",
       "limma        /opt/conda/lib/R/library/limma        TRUE     FALSE   2019-10-29\n",
       "magrittr     /opt/conda/lib/R/library/magrittr     TRUE     FALSE   2014-11-22\n",
       "pheatmap     /opt/conda/lib/R/library/pheatmap     TRUE     FALSE   2019-01-04\n",
       "piggyback    /opt/conda/lib/R/library/piggyback    TRUE     FALSE   2020-03-10\n",
       "readr        /opt/conda/lib/R/library/readr        TRUE     FALSE   2018-12-21\n",
       "scales       /opt/conda/lib/R/library/scales       TRUE     FALSE   2019-11-18\n",
       "snakecase    /opt/conda/lib/R/library/snakecase    TRUE     FALSE   2019-05-25\n",
       "statmod      /opt/conda/lib/R/library/statmod      TRUE     FALSE   2020-02-17\n",
       "stringr      /opt/conda/lib/R/library/stringr      TRUE     FALSE   2019-02-10\n",
       "usethis      /opt/conda/lib/R/library/usethis      TRUE     FALSE   2019-07-04\n",
       "viridis      /opt/conda/lib/R/library/viridis      TRUE     FALSE   2018-03-29\n",
       "viridisLite  /opt/conda/lib/R/library/viridisLite  TRUE     FALSE   2018-02-01\n",
       "yarn         /opt/conda/lib/R/library/yarn         TRUE     FALSE   2020-03-10\n",
       "             source                                     md5ok\n",
       "Biobase      Bioconductor                               NA   \n",
       "BiocGenerics Bioconductor                               NA   \n",
       "biomaRt      Bioconductor                               NA   \n",
       "DBI          CRAN (R 3.6.2)                             NA   \n",
       "devtools     CRAN (R 3.6.0)                             NA   \n",
       "downloader   CRAN (R 3.6.1)                             NA   \n",
       "dplyr        CRAN (R 3.6.2)                             NA   \n",
       "edgeR        Bioconductor                               NA   \n",
       "ggplot2      CRAN (R 3.6.1)                             NA   \n",
       "limma        Bioconductor                               NA   \n",
       "magrittr     CRAN (R 3.6.1)                             NA   \n",
       "pheatmap     CRAN (R 3.6.1)                             NA   \n",
       "piggyback    Github (ropensci/piggyback@87f71e8)        NA   \n",
       "readr        CRAN (R 3.6.1)                             NA   \n",
       "scales       CRAN (R 3.6.1)                             NA   \n",
       "snakecase    CRAN (R 3.6.1)                             NA   \n",
       "statmod      CRAN (R 3.6.1)                             NA   \n",
       "stringr      CRAN (R 3.6.1)                             NA   \n",
       "usethis      CRAN (R 3.6.1)                             NA   \n",
       "viridis      CRAN (R 3.6.1)                             NA   \n",
       "viridisLite  CRAN (R 3.6.1)                             NA   \n",
       "yarn         Github (TheJacksonLaboratory/yarn@3ff72c0) NA   \n",
       "             library                 \n",
       "Biobase      /opt/conda/lib/R/library\n",
       "BiocGenerics /opt/conda/lib/R/library\n",
       "biomaRt      /opt/conda/lib/R/library\n",
       "DBI          /opt/conda/lib/R/library\n",
       "devtools     /opt/conda/lib/R/library\n",
       "downloader   /opt/conda/lib/R/library\n",
       "dplyr        /opt/conda/lib/R/library\n",
       "edgeR        /opt/conda/lib/R/library\n",
       "ggplot2      /opt/conda/lib/R/library\n",
       "limma        /opt/conda/lib/R/library\n",
       "magrittr     /opt/conda/lib/R/library\n",
       "pheatmap     /opt/conda/lib/R/library\n",
       "piggyback    /opt/conda/lib/R/library\n",
       "readr        /opt/conda/lib/R/library\n",
       "scales       /opt/conda/lib/R/library\n",
       "snakecase    /opt/conda/lib/R/library\n",
       "statmod      /opt/conda/lib/R/library\n",
       "stringr      /opt/conda/lib/R/library\n",
       "usethis      /opt/conda/lib/R/library\n",
       "viridis      /opt/conda/lib/R/library\n",
       "viridisLite  /opt/conda/lib/R/library\n",
       "yarn         /opt/conda/lib/R/library"
      ]
     },
     "metadata": {},
     "output_type": "display_data"
    }
   ],
   "source": [
    "dev_session_info   <- devtools::session_info()\n",
    "utils_session_info <- utils::sessionInfo()\n",
    "\n",
    "message(\"Saving `devtools::session_info()` objects in ../metadata/devtools_session_info.rds  ..\")\n",
    "saveRDS(dev_session_info, file = paste0(\"../metadata/\", figure_id, \"_devtools_session_info.rds\"))\n",
    "message(\"Done!\\n\")\n",
    "\n",
    "message(\"Saving `utils::sessionInfo()` objects in ../metadata/utils_session_info.rds  ..\")\n",
    "saveRDS(utils_session_info, file = paste0(\"../metadata/\", figure_id ,\"_utils_info.rds\"))\n",
    "message(\"Done!\\n\")\n",
    "\n",
    "dev_session_info$platform\n",
    "dev_session_info$packages[dev_session_info$packages$attached==TRUE, ]"
   ]
  }
 ],
 "metadata": {
  "kernelspec": {
   "display_name": "R",
   "language": "R",
   "name": "ir"
  },
  "language_info": {
   "codemirror_mode": "r",
   "file_extension": ".r",
   "mimetype": "text/x-r-source",
   "name": "R",
   "pygments_lexer": "r",
   "version": "3.6.1"
  }
 },
 "nbformat": 4,
 "nbformat_minor": 4
}
