{
 "cells": [
  {
   "cell_type": "markdown",
   "metadata": {
    "papermill": {
     "duration": 0.017283,
     "end_time": "2020-11-04T02:48:40.988456",
     "exception": false,
     "start_time": "2020-11-04T02:48:40.971173",
     "status": "completed"
    },
    "tags": []
   },
   "source": [
    "# Figure Generation Notebook - Tissue Piechart figure\n",
    "\n",
    "This notebook generates a single figure, a tissue piechart figure, **tissue-piechart.pdf**."
   ]
  },
  {
   "cell_type": "code",
   "execution_count": 1,
   "metadata": {
    "execution": {
     "iopub.execute_input": "2020-11-04T02:48:41.056716Z",
     "iopub.status.busy": "2020-11-04T02:48:41.053440Z",
     "iopub.status.idle": "2020-11-04T02:48:41.485189Z",
     "shell.execute_reply": "2020-11-04T02:48:41.483853Z"
    },
    "papermill": {
     "duration": 0.482295,
     "end_time": "2020-11-04T02:48:41.485381",
     "exception": false,
     "start_time": "2020-11-04T02:48:41.003086",
     "status": "completed"
    },
    "tags": []
   },
   "outputs": [],
   "source": [
    "start_time <- Sys.time()\n",
    "\n",
    "suppressMessages({\n",
    "    options(warn = -1) \n",
    "    library(dplyr)\n",
    "})"
   ]
  },
  {
   "cell_type": "markdown",
   "metadata": {
    "papermill": {
     "duration": 0.014276,
     "end_time": "2020-11-04T02:48:41.514549",
     "exception": false,
     "start_time": "2020-11-04T02:48:41.500273",
     "status": "completed"
    },
    "tags": []
   },
   "source": [
    "### 1. Read in all alternatively spliced events"
   ]
  },
  {
   "cell_type": "code",
   "execution_count": 2,
   "metadata": {
    "execution": {
     "iopub.execute_input": "2020-11-04T02:48:41.578126Z",
     "iopub.status.busy": "2020-11-04T02:48:41.546954Z",
     "iopub.status.idle": "2020-11-04T02:48:41.626423Z",
     "shell.execute_reply": "2020-11-04T02:48:41.625153Z"
    },
    "papermill": {
     "duration": 0.097737,
     "end_time": "2020-11-04T02:48:41.626587",
     "exception": false,
     "start_time": "2020-11-04T02:48:41.528850",
     "status": "completed"
    },
    "tags": []
   },
   "outputs": [
    {
     "data": {
      "text/html": [
       "<table>\n",
       "<caption>A data.frame: 2 × 15</caption>\n",
       "<thead>\n",
       "\t<tr><th></th><th scope=col>GeneJunction</th><th scope=col>ASE</th><th scope=col>ASE_IDX</th><th scope=col>Tissue</th><th scope=col>counts</th><th scope=col>Display</th><th scope=col>GeneSymbol</th><th scope=col>GeneID</th><th scope=col>chr</th><th scope=col>logFC</th><th scope=col>AveExpr</th><th scope=col>t</th><th scope=col>PValue</th><th scope=col>AdjPVal</th><th scope=col>B</th></tr>\n",
       "\t<tr><th></th><th scope=col>&lt;chr&gt;</th><th scope=col>&lt;chr&gt;</th><th scope=col>&lt;int&gt;</th><th scope=col>&lt;chr&gt;</th><th scope=col>&lt;int&gt;</th><th scope=col>&lt;chr&gt;</th><th scope=col>&lt;chr&gt;</th><th scope=col>&lt;chr&gt;</th><th scope=col>&lt;chr&gt;</th><th scope=col>&lt;dbl&gt;</th><th scope=col>&lt;dbl&gt;</th><th scope=col>&lt;dbl&gt;</th><th scope=col>&lt;dbl&gt;</th><th scope=col>&lt;dbl&gt;</th><th scope=col>&lt;dbl&gt;</th></tr>\n",
       "</thead>\n",
       "<tbody>\n",
       "\t<tr><th scope=row>1</th><td>SCO1-8452</td><td>A3SS</td><td>8452</td><td>adrenal_gland  </td><td>1</td><td>Adrenal gland  </td><td>SCO1</td><td>ENSG00000133028.12</td><td>chr17</td><td> 0.7715834</td><td>5.028635</td><td>  4.906848</td><td>1.533202e-06</td><td>8.170436e-03</td><td> 0.8561371</td></tr>\n",
       "\t<tr><th scope=row>2</th><td>XIST-2252</td><td>A3SS</td><td>2252</td><td>artery_coronary</td><td>1</td><td>Coronary artery</td><td>XIST</td><td>ENSG00000229807.11</td><td>chrX </td><td>-2.1880965</td><td>4.327079</td><td>-10.329346</td><td>4.631685e-21</td><td>2.464057e-17</td><td>16.7535120</td></tr>\n",
       "</tbody>\n",
       "</table>\n"
      ],
      "text/latex": [
       "A data.frame: 2 × 15\n",
       "\\begin{tabular}{r|lllllllllllllll}\n",
       "  & GeneJunction & ASE & ASE\\_IDX & Tissue & counts & Display & GeneSymbol & GeneID & chr & logFC & AveExpr & t & PValue & AdjPVal & B\\\\\n",
       "  & <chr> & <chr> & <int> & <chr> & <int> & <chr> & <chr> & <chr> & <chr> & <dbl> & <dbl> & <dbl> & <dbl> & <dbl> & <dbl>\\\\\n",
       "\\hline\n",
       "\t1 & SCO1-8452 & A3SS & 8452 & adrenal\\_gland   & 1 & Adrenal gland   & SCO1 & ENSG00000133028.12 & chr17 &  0.7715834 & 5.028635 &   4.906848 & 1.533202e-06 & 8.170436e-03 &  0.8561371\\\\\n",
       "\t2 & XIST-2252 & A3SS & 2252 & artery\\_coronary & 1 & Coronary artery & XIST & ENSG00000229807.11 & chrX  & -2.1880965 & 4.327079 & -10.329346 & 4.631685e-21 & 2.464057e-17 & 16.7535120\\\\\n",
       "\\end{tabular}\n"
      ],
      "text/markdown": [
       "\n",
       "A data.frame: 2 × 15\n",
       "\n",
       "| <!--/--> | GeneJunction &lt;chr&gt; | ASE &lt;chr&gt; | ASE_IDX &lt;int&gt; | Tissue &lt;chr&gt; | counts &lt;int&gt; | Display &lt;chr&gt; | GeneSymbol &lt;chr&gt; | GeneID &lt;chr&gt; | chr &lt;chr&gt; | logFC &lt;dbl&gt; | AveExpr &lt;dbl&gt; | t &lt;dbl&gt; | PValue &lt;dbl&gt; | AdjPVal &lt;dbl&gt; | B &lt;dbl&gt; |\n",
       "|---|---|---|---|---|---|---|---|---|---|---|---|---|---|---|---|\n",
       "| 1 | SCO1-8452 | A3SS | 8452 | adrenal_gland   | 1 | Adrenal gland   | SCO1 | ENSG00000133028.12 | chr17 |  0.7715834 | 5.028635 |   4.906848 | 1.533202e-06 | 8.170436e-03 |  0.8561371 |\n",
       "| 2 | XIST-2252 | A3SS | 2252 | artery_coronary | 1 | Coronary artery | XIST | ENSG00000229807.11 | chrX  | -2.1880965 | 4.327079 | -10.329346 | 4.631685e-21 | 2.464057e-17 | 16.7535120 |\n",
       "\n"
      ],
      "text/plain": [
       "  GeneJunction ASE  ASE_IDX Tissue          counts Display         GeneSymbol\n",
       "1 SCO1-8452    A3SS 8452    adrenal_gland   1      Adrenal gland   SCO1      \n",
       "2 XIST-2252    A3SS 2252    artery_coronary 1      Coronary artery XIST      \n",
       "  GeneID             chr   logFC      AveExpr  t          PValue      \n",
       "1 ENSG00000133028.12 chr17  0.7715834 5.028635   4.906848 1.533202e-06\n",
       "2 ENSG00000229807.11 chrX  -2.1880965 4.327079 -10.329346 4.631685e-21\n",
       "  AdjPVal      B         \n",
       "1 8.170436e-03  0.8561371\n",
       "2 2.464057e-17 16.7535120"
      ]
     },
     "metadata": {},
     "output_type": "display_data"
    }
   ],
   "source": [
    "filename <- \"../data/gene_as.tsv\"\n",
    "gene_as <- read.table(filename, header=TRUE, sep=\"\\t\",\n",
    "                               skipNul=FALSE, stringsAsFactors = FALSE)\n",
    "head(gene_as,2)"
   ]
  },
  {
   "cell_type": "markdown",
   "metadata": {
    "papermill": {
     "duration": 0.015439,
     "end_time": "2020-11-04T02:48:41.657989",
     "exception": false,
     "start_time": "2020-11-04T02:48:41.642550",
     "status": "completed"
    },
    "tags": []
   },
   "source": [
    "### 2. Pie chart\n",
    "Show recurrent vs unique splicing events with a piechart."
   ]
  },
  {
   "cell_type": "markdown",
   "metadata": {
    "papermill": {
     "duration": 0.015301,
     "end_time": "2020-11-04T02:48:41.688673",
     "exception": false,
     "start_time": "2020-11-04T02:48:41.673372",
     "status": "completed"
    },
    "tags": []
   },
   "source": [
    "Tissue specific 1 tissue\n",
    "Tissue group 2-5 tissues\n",
    "Recurrent > 5 tissues"
   ]
  },
  {
   "cell_type": "code",
   "execution_count": 3,
   "metadata": {
    "execution": {
     "iopub.execute_input": "2020-11-04T02:48:41.727416Z",
     "iopub.status.busy": "2020-11-04T02:48:41.725648Z",
     "iopub.status.idle": "2020-11-04T02:48:41.747037Z",
     "shell.execute_reply": "2020-11-04T02:48:41.745633Z"
    },
    "papermill": {
     "duration": 0.043142,
     "end_time": "2020-11-04T02:48:41.747198",
     "exception": false,
     "start_time": "2020-11-04T02:48:41.704056",
     "status": "completed"
    },
    "tags": []
   },
   "outputs": [],
   "source": [
    "# Colors for uniformity\n",
    "# Let's use the following colors for uniformity\n",
    "darkblue <- \"#3c5488\"\n",
    "red <- \"#e64b35\"\n",
    "nearlyblack <- \"#040C04\"\n",
    "purple <- \"#790079\"\n",
    "orange = \"#ff9900\""
   ]
  },
  {
   "cell_type": "code",
   "execution_count": 4,
   "metadata": {
    "execution": {
     "iopub.execute_input": "2020-11-04T02:48:41.784722Z",
     "iopub.status.busy": "2020-11-04T02:48:41.782952Z",
     "iopub.status.idle": "2020-11-04T02:48:43.151889Z",
     "shell.execute_reply": "2020-11-04T02:48:43.150308Z"
    },
    "papermill": {
     "duration": 1.388959,
     "end_time": "2020-11-04T02:48:43.152060",
     "exception": false,
     "start_time": "2020-11-04T02:48:41.763101",
     "status": "completed"
    },
    "tags": []
   },
   "outputs": [
    {
     "data": {
      "text/html": [
       "888"
      ],
      "text/latex": [
       "888"
      ],
      "text/markdown": [
       "888"
      ],
      "text/plain": [
       "[1] 888"
      ]
     },
     "metadata": {},
     "output_type": "display_data"
    }
   ],
   "source": [
    "# Count most frequent spliced genes\n",
    "res <- gene_as %>% group_by(GeneSymbol) %>% count(GeneSymbol) %>% arrange(desc(n)) %>% as.data.frame()\n",
    "res$GeneSymbol <- factor(res$GeneSymbol, levels = res$GeneSymbol)\n",
    "length(res$GeneSymbol)\n",
    "\n",
    "#Add number of tissues\n",
    "nTissues <- rep(NA, length(res))\n",
    "for (i in 1:nrow(res)) {\n",
    "  df_gene <- gene_as %>% filter(GeneSymbol == res$GeneSymbol[i])\n",
    "  nTissues[i] <- length(unique(df_gene$Tissue))\n",
    "}\n",
    "res$Tissues <- nTissues"
   ]
  },
  {
   "cell_type": "code",
   "execution_count": 5,
   "metadata": {
    "execution": {
     "iopub.execute_input": "2020-11-04T02:48:43.191628Z",
     "iopub.status.busy": "2020-11-04T02:48:43.189742Z",
     "iopub.status.idle": "2020-11-04T02:48:43.213874Z",
     "shell.execute_reply": "2020-11-04T02:48:43.212108Z"
    },
    "papermill": {
     "duration": 0.045175,
     "end_time": "2020-11-04T02:48:43.214042",
     "exception": false,
     "start_time": "2020-11-04T02:48:43.168867",
     "status": "completed"
    },
    "tags": []
   },
   "outputs": [
    {
     "data": {
      "text/html": [
       "<table>\n",
       "<caption>A data.frame: 6 × 3</caption>\n",
       "<thead>\n",
       "\t<tr><th></th><th scope=col>GeneSymbol</th><th scope=col>n</th><th scope=col>Tissues</th></tr>\n",
       "\t<tr><th></th><th scope=col>&lt;fct&gt;</th><th scope=col>&lt;int&gt;</th><th scope=col>&lt;int&gt;</th></tr>\n",
       "</thead>\n",
       "<tbody>\n",
       "\t<tr><th scope=row>1</th><td>XIST  </td><td>27</td><td>23</td></tr>\n",
       "\t<tr><th scope=row>2</th><td>KDM5C </td><td>23</td><td>22</td></tr>\n",
       "\t<tr><th scope=row>3</th><td>CD44  </td><td> 9</td><td> 1</td></tr>\n",
       "\t<tr><th scope=row>4</th><td>DMKN  </td><td> 9</td><td> 1</td></tr>\n",
       "\t<tr><th scope=row>5</th><td>SORBS2</td><td> 9</td><td> 1</td></tr>\n",
       "\t<tr><th scope=row>6</th><td>DDX3X </td><td> 8</td><td> 4</td></tr>\n",
       "</tbody>\n",
       "</table>\n"
      ],
      "text/latex": [
       "A data.frame: 6 × 3\n",
       "\\begin{tabular}{r|lll}\n",
       "  & GeneSymbol & n & Tissues\\\\\n",
       "  & <fct> & <int> & <int>\\\\\n",
       "\\hline\n",
       "\t1 & XIST   & 27 & 23\\\\\n",
       "\t2 & KDM5C  & 23 & 22\\\\\n",
       "\t3 & CD44   &  9 &  1\\\\\n",
       "\t4 & DMKN   &  9 &  1\\\\\n",
       "\t5 & SORBS2 &  9 &  1\\\\\n",
       "\t6 & DDX3X  &  8 &  4\\\\\n",
       "\\end{tabular}\n"
      ],
      "text/markdown": [
       "\n",
       "A data.frame: 6 × 3\n",
       "\n",
       "| <!--/--> | GeneSymbol &lt;fct&gt; | n &lt;int&gt; | Tissues &lt;int&gt; |\n",
       "|---|---|---|---|\n",
       "| 1 | XIST   | 27 | 23 |\n",
       "| 2 | KDM5C  | 23 | 22 |\n",
       "| 3 | CD44   |  9 |  1 |\n",
       "| 4 | DMKN   |  9 |  1 |\n",
       "| 5 | SORBS2 |  9 |  1 |\n",
       "| 6 | DDX3X  |  8 |  4 |\n",
       "\n"
      ],
      "text/plain": [
       "  GeneSymbol n  Tissues\n",
       "1 XIST       27 23     \n",
       "2 KDM5C      23 22     \n",
       "3 CD44        9  1     \n",
       "4 DMKN        9  1     \n",
       "5 SORBS2      9  1     \n",
       "6 DDX3X       8  4     "
      ]
     },
     "metadata": {},
     "output_type": "display_data"
    }
   ],
   "source": [
    "head(res)"
   ]
  },
  {
   "cell_type": "code",
   "execution_count": 6,
   "metadata": {
    "execution": {
     "iopub.execute_input": "2020-11-04T02:48:43.255630Z",
     "iopub.status.busy": "2020-11-04T02:48:43.253885Z",
     "iopub.status.idle": "2020-11-04T02:48:43.277685Z",
     "shell.execute_reply": "2020-11-04T02:48:43.276159Z"
    },
    "papermill": {
     "duration": 0.045815,
     "end_time": "2020-11-04T02:48:43.277855",
     "exception": false,
     "start_time": "2020-11-04T02:48:43.232040",
     "status": "completed"
    },
    "tags": []
   },
   "outputs": [],
   "source": [
    "#Pie chart - Number of patients with 0, 1, >1 events\n",
    "counts <- c(res %>% filter(Tissues == 1) %>% count() %>% as.numeric(),\n",
    "            res %>% filter(Tissues > 1 & Tissues < 6) %>% count() %>% as.numeric(),\n",
    "            res %>% filter(Tissues > 5) %>% count() %>% as.numeric())"
   ]
  },
  {
   "cell_type": "code",
   "execution_count": 7,
   "metadata": {
    "execution": {
     "iopub.execute_input": "2020-11-04T02:48:43.319882Z",
     "iopub.status.busy": "2020-11-04T02:48:43.317914Z",
     "iopub.status.idle": "2020-11-04T02:48:43.335978Z",
     "shell.execute_reply": "2020-11-04T02:48:43.334349Z"
    },
    "papermill": {
     "duration": 0.040427,
     "end_time": "2020-11-04T02:48:43.336144",
     "exception": false,
     "start_time": "2020-11-04T02:48:43.295717",
     "status": "completed"
    },
    "tags": []
   },
   "outputs": [
    {
     "data": {
      "text/html": [
       "<style>\n",
       ".list-inline {list-style: none; margin:0; padding: 0}\n",
       ".list-inline>li {display: inline-block}\n",
       ".list-inline>li:not(:last-child)::after {content: \"\\00b7\"; padding: 0 .5ex}\n",
       "</style>\n",
       "<ol class=list-inline><li>867</li><li>19</li><li>2</li></ol>\n"
      ],
      "text/latex": [
       "\\begin{enumerate*}\n",
       "\\item 867\n",
       "\\item 19\n",
       "\\item 2\n",
       "\\end{enumerate*}\n"
      ],
      "text/markdown": [
       "1. 867\n",
       "2. 19\n",
       "3. 2\n",
       "\n",
       "\n"
      ],
      "text/plain": [
       "[1] 867  19   2"
      ]
     },
     "metadata": {},
     "output_type": "display_data"
    }
   ],
   "source": [
    "counts"
   ]
  },
  {
   "cell_type": "code",
   "execution_count": 8,
   "metadata": {
    "execution": {
     "iopub.execute_input": "2020-11-04T02:48:43.380281Z",
     "iopub.status.busy": "2020-11-04T02:48:43.378512Z",
     "iopub.status.idle": "2020-11-04T02:48:43.391661Z",
     "shell.execute_reply": "2020-11-04T02:48:43.390221Z"
    },
    "papermill": {
     "duration": 0.036435,
     "end_time": "2020-11-04T02:48:43.391831",
     "exception": false,
     "start_time": "2020-11-04T02:48:43.355396",
     "status": "completed"
    },
    "tags": []
   },
   "outputs": [],
   "source": [
    "piecolors <- c(darkblue,red,orange)"
   ]
  },
  {
   "cell_type": "markdown",
   "metadata": {
    "papermill": {
     "duration": 0.018932,
     "end_time": "2020-11-04T02:48:43.429855",
     "exception": false,
     "start_time": "2020-11-04T02:48:43.410923",
     "status": "completed"
    },
    "tags": []
   },
   "source": [
    "Calculate the percentage for each category"
   ]
  },
  {
   "cell_type": "code",
   "execution_count": 9,
   "metadata": {
    "execution": {
     "iopub.execute_input": "2020-11-04T02:48:43.473830Z",
     "iopub.status.busy": "2020-11-04T02:48:43.471947Z",
     "iopub.status.idle": "2020-11-04T02:48:43.489003Z",
     "shell.execute_reply": "2020-11-04T02:48:43.487563Z"
    },
    "lines_to_next_cell": 2,
    "papermill": {
     "duration": 0.040346,
     "end_time": "2020-11-04T02:48:43.489169",
     "exception": false,
     "start_time": "2020-11-04T02:48:43.448823",
     "status": "completed"
    },
    "tags": []
   },
   "outputs": [],
   "source": [
    "counts_labels <- round(counts/sum(counts) * 100, 1)\n",
    "counts_labels <- paste(\"(\",counts_labels,\")\", \"%\", sep=\"\")\n",
    "counts_labels <- paste(counts, counts_labels,sep =\" \")"
   ]
  },
  {
   "cell_type": "code",
   "execution_count": 10,
   "metadata": {
    "execution": {
     "iopub.execute_input": "2020-11-04T02:48:43.537655Z",
     "iopub.status.busy": "2020-11-04T02:48:43.532034Z",
     "iopub.status.idle": "2020-11-04T02:48:43.700538Z",
     "shell.execute_reply": "2020-11-04T02:48:43.699633Z"
    },
    "papermill": {
     "duration": 0.192115,
     "end_time": "2020-11-04T02:48:43.700699",
     "exception": false,
     "start_time": "2020-11-04T02:48:43.508584",
     "status": "completed"
    },
    "tags": []
   },
   "outputs": [
    {
     "data": {
      "text/html": [
       "<strong>png:</strong> 2"
      ],
      "text/latex": [
       "\\textbf{png:} 2"
      ],
      "text/markdown": [
       "**png:** 2"
      ],
      "text/plain": [
       "png \n",
       "  2 "
      ]
     },
     "metadata": {},
     "output_type": "display_data"
    },
    {
     "name": "stderr",
     "output_type": "stream",
     "text": [
      "Wrote file to ../pdf/tissue-piechart.pdf\n",
      "\n"
     ]
    },
    {
     "data": {
      "image/png": "[encoded data removed]",
      "text/plain": [
       "Plot with title “”"
      ]
     },
     "metadata": {
      "image/png": {
       "height": 420,
       "width": 420
      }
     },
     "output_type": "display_data"
    }
   ],
   "source": [
    "pdf(\"../pdf/tissue-piechart.pdf\")\n",
    "pie(counts, main=\"\", col=piecolors, labels=counts_labels, cex=1.5)\n",
    "# Create a legend at the right   \n",
    "legend(-.425,0.6, c(\"1 tissue\",\"2-5 tissues\",\"> 5 tissues\"), cex=1.5, \n",
    "       fill=piecolors, bg=\"white\")\n",
    "dev.off()\n",
    "message(\"Wrote file to ../pdf/tissue-piechart.pdf\")\n",
    "pie(counts, main=\"\", col=piecolors, labels=counts_labels,\n",
    "    cex=1.5)\n",
    "# Create a legend at the right   \n",
    "legend(-.425,0.6, c(\"1 tissue\",\"2-5 tissues\",\"> 5 tissues\"), cex=1.5, \n",
    "       fill=piecolors, bg=\"white\")"
   ]
  },
  {
   "cell_type": "markdown",
   "metadata": {
    "papermill": {
     "duration": 0.022229,
     "end_time": "2020-11-04T02:48:43.745483",
     "exception": false,
     "start_time": "2020-11-04T02:48:43.723254",
     "status": "completed"
    },
    "tags": []
   },
   "source": [
    "### Appendix - Metadata\n",
    "\n",
    "For replicability and reproducibility purposes, we also print the following metadata:\n",
    "\n",
    "1. Checksums of **'artefacts'**, files generated during the analysis and stored in the folder directory **`data`**\n",
    "2. List of environment metadata, dependencies, versions of libraries using `utils::sessionInfo()` and [`devtools::session_info()`](https://devtools.r-lib.org/reference/session_info.html)"
   ]
  },
  {
   "cell_type": "markdown",
   "metadata": {
    "papermill": {
     "duration": 0.022397,
     "end_time": "2020-11-04T02:48:43.790488",
     "exception": false,
     "start_time": "2020-11-04T02:48:43.768091",
     "status": "completed"
    },
    "tags": []
   },
   "source": [
    "### Appendix 1. Checksums with the sha256 algorithm"
   ]
  },
  {
   "cell_type": "code",
   "execution_count": 11,
   "metadata": {
    "execution": {
     "iopub.execute_input": "2020-11-04T02:48:43.841239Z",
     "iopub.status.busy": "2020-11-04T02:48:43.839516Z",
     "iopub.status.idle": "2020-11-04T02:48:43.852895Z",
     "shell.execute_reply": "2020-11-04T02:48:43.851441Z"
    },
    "papermill": {
     "duration": 0.040209,
     "end_time": "2020-11-04T02:48:43.853058",
     "exception": false,
     "start_time": "2020-11-04T02:48:43.812849",
     "status": "completed"
    },
    "tags": []
   },
   "outputs": [],
   "source": [
    "notebookid   = \"create_tissue_piechart_figure\""
   ]
  },
  {
   "cell_type": "markdown",
   "metadata": {
    "papermill": {
     "duration": 0.022594,
     "end_time": "2020-11-04T02:48:43.898525",
     "exception": false,
     "start_time": "2020-11-04T02:48:43.875931",
     "status": "completed"
    },
    "tags": []
   },
   "source": [
    "### Appendix 2. Libraries metadata"
   ]
  },
  {
   "cell_type": "code",
   "execution_count": 12,
   "metadata": {
    "execution": {
     "iopub.execute_input": "2020-11-04T02:48:43.949560Z",
     "iopub.status.busy": "2020-11-04T02:48:43.947664Z",
     "iopub.status.idle": "2020-11-04T02:48:44.753333Z",
     "shell.execute_reply": "2020-11-04T02:48:44.751621Z"
    },
    "papermill": {
     "duration": 0.832455,
     "end_time": "2020-11-04T02:48:44.753501",
     "exception": false,
     "start_time": "2020-11-04T02:48:43.921046",
     "status": "completed"
    },
    "tags": []
   },
   "outputs": [
    {
     "name": "stderr",
     "output_type": "stream",
     "text": [
      "Saving `devtools::session_info()` objects in ../data/devtools_session_info.rds  ..\n",
      "\n"
     ]
    },
    {
     "name": "stderr",
     "output_type": "stream",
     "text": [
      "Done!\n",
      "\n",
      "\n"
     ]
    },
    {
     "name": "stderr",
     "output_type": "stream",
     "text": [
      "Saving `utils::sessionInfo()` objects in ../data/utils_session_info.rds  ..\n",
      "\n"
     ]
    },
    {
     "name": "stderr",
     "output_type": "stream",
     "text": [
      "Done!\n",
      "\n",
      "\n"
     ]
    },
    {
     "data": {
      "text/plain": [
       " setting  value                       \n",
       " version  R version 4.0.3 (2020-10-10)\n",
       " os       Ubuntu 18.04.4 LTS          \n",
       " system   x86_64, linux-gnu           \n",
       " ui       X11                         \n",
       " language en_US.UTF-8                 \n",
       " collate  en_US.UTF-8                 \n",
       " ctype    en_US.UTF-8                 \n",
       " tz       Etc/UTC                     \n",
       " date     2020-11-04                  "
      ]
     },
     "metadata": {},
     "output_type": "display_data"
    },
    {
     "data": {
      "text/html": [
       "<table>\n",
       "<caption>A packages_info: 1 × 11</caption>\n",
       "<thead>\n",
       "\t<tr><th></th><th scope=col>package</th><th scope=col>ondiskversion</th><th scope=col>loadedversion</th><th scope=col>path</th><th scope=col>loadedpath</th><th scope=col>attached</th><th scope=col>is_base</th><th scope=col>date</th><th scope=col>source</th><th scope=col>md5ok</th><th scope=col>library</th></tr>\n",
       "\t<tr><th></th><th scope=col>&lt;chr&gt;</th><th scope=col>&lt;chr&gt;</th><th scope=col>&lt;chr&gt;</th><th scope=col>&lt;chr&gt;</th><th scope=col>&lt;chr&gt;</th><th scope=col>&lt;lgl&gt;</th><th scope=col>&lt;lgl&gt;</th><th scope=col>&lt;chr&gt;</th><th scope=col>&lt;chr&gt;</th><th scope=col>&lt;lgl&gt;</th><th scope=col>&lt;fct&gt;</th></tr>\n",
       "</thead>\n",
       "<tbody>\n",
       "\t<tr><th scope=row>dplyr</th><td>dplyr</td><td>1.0.2</td><td>1.0.2</td><td>/opt/conda/lib/R/library/dplyr</td><td>/opt/conda/lib/R/library/dplyr</td><td>TRUE</td><td>FALSE</td><td>2020-08-18</td><td>CRAN (R 4.0.2)</td><td>NA</td><td>/opt/conda/lib/R/library</td></tr>\n",
       "</tbody>\n",
       "</table>\n"
      ],
      "text/latex": [
       "A packages\\_info: 1 × 11\n",
       "\\begin{tabular}{r|lllllllllll}\n",
       "  & package & ondiskversion & loadedversion & path & loadedpath & attached & is\\_base & date & source & md5ok & library\\\\\n",
       "  & <chr> & <chr> & <chr> & <chr> & <chr> & <lgl> & <lgl> & <chr> & <chr> & <lgl> & <fct>\\\\\n",
       "\\hline\n",
       "\tdplyr & dplyr & 1.0.2 & 1.0.2 & /opt/conda/lib/R/library/dplyr & /opt/conda/lib/R/library/dplyr & TRUE & FALSE & 2020-08-18 & CRAN (R 4.0.2) & NA & /opt/conda/lib/R/library\\\\\n",
       "\\end{tabular}\n"
      ],
      "text/markdown": [
       "\n",
       "A packages_info: 1 × 11\n",
       "\n",
       "| <!--/--> | package &lt;chr&gt; | ondiskversion &lt;chr&gt; | loadedversion &lt;chr&gt; | path &lt;chr&gt; | loadedpath &lt;chr&gt; | attached &lt;lgl&gt; | is_base &lt;lgl&gt; | date &lt;chr&gt; | source &lt;chr&gt; | md5ok &lt;lgl&gt; | library &lt;fct&gt; |\n",
       "|---|---|---|---|---|---|---|---|---|---|---|---|\n",
       "| dplyr | dplyr | 1.0.2 | 1.0.2 | /opt/conda/lib/R/library/dplyr | /opt/conda/lib/R/library/dplyr | TRUE | FALSE | 2020-08-18 | CRAN (R 4.0.2) | NA | /opt/conda/lib/R/library |\n",
       "\n"
      ],
      "text/plain": [
       "      package ondiskversion loadedversion path                          \n",
       "dplyr dplyr   1.0.2         1.0.2         /opt/conda/lib/R/library/dplyr\n",
       "      loadedpath                     attached is_base date       source        \n",
       "dplyr /opt/conda/lib/R/library/dplyr TRUE     FALSE   2020-08-18 CRAN (R 4.0.2)\n",
       "      md5ok library                 \n",
       "dplyr NA    /opt/conda/lib/R/library"
      ]
     },
     "metadata": {},
     "output_type": "display_data"
    }
   ],
   "source": [
    "dev_session_info   <- devtools::session_info()\n",
    "utils_session_info <- utils::sessionInfo()\n",
    "\n",
    "message(\"Saving `devtools::session_info()` objects in ../data/devtools_session_info.rds  ..\")\n",
    "saveRDS(dev_session_info, file = paste0(\"../data/\", notebookid, \"_devtools_session_info.rds\"))\n",
    "message(\"Done!\\n\")\n",
    "\n",
    "message(\"Saving `utils::sessionInfo()` objects in ../data/utils_session_info.rds  ..\")\n",
    "saveRDS(utils_session_info, file = paste0(\"../data/\", notebookid ,\"_utils_info.rds\"))\n",
    "message(\"Done!\\n\")\n",
    "\n",
    "dev_session_info$platform\n",
    "dev_session_info$packages[dev_session_info$packages$attached==TRUE, ]"
   ]
  },
  {
   "cell_type": "code",
   "execution_count": 13,
   "metadata": {
    "execution": {
     "iopub.execute_input": "2020-11-04T02:48:44.811122Z",
     "iopub.status.busy": "2020-11-04T02:48:44.809736Z",
     "iopub.status.idle": "2020-11-04T02:48:44.828853Z",
     "shell.execute_reply": "2020-11-04T02:48:44.827580Z"
    },
    "papermill": {
     "duration": 0.049347,
     "end_time": "2020-11-04T02:48:44.829011",
     "exception": false,
     "start_time": "2020-11-04T02:48:44.779664",
     "status": "completed"
    },
    "tags": []
   },
   "outputs": [
    {
     "data": {
      "text/plain": [
       "Time difference of 3.73437 secs"
      ]
     },
     "metadata": {},
     "output_type": "display_data"
    }
   ],
   "source": [
    "end_time <- Sys.time()\n",
    "end_time - start_time"
   ]
  }
 ],
 "metadata": {
  "jupytext": {
   "cell_metadata_filter": "-all",
   "encoding": "# -*- coding: utf-8 -*-",
   "main_language": "R",
   "notebook_metadata_filter": "-all"
  },
  "kernelspec": {
   "display_name": "R",
   "language": "R",
   "name": "ir"
  },
  "language_info": {
   "codemirror_mode": "r",
   "file_extension": ".r",
   "mimetype": "text/x-r-source",
   "name": "R",
   "pygments_lexer": "r",
   "version": "4.0.3"
  },
  "papermill": {
   "duration": 4.819408,
   "end_time": "2020-11-04T02:48:44.966715",
   "environment_variables": {},
   "exception": null,
   "input_path": "tissue_piechart.ipynb",
   "output_path": "tissue_piechart.ipynb",
   "parameters": {},
   "start_time": "2020-11-04T02:48:40.147307",
   "version": "2.1.2"
  }
 },
 "nbformat": 4,
 "nbformat_minor": 4
}