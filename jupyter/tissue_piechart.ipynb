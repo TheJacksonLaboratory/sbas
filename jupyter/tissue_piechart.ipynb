{
 "cells": [
  {
   "cell_type": "markdown",
   "id": "ea9d6353",
   "metadata": {
    "papermill": {
     "duration": 0.01086,
     "end_time": "2021-06-27T19:29:28.213924",
     "exception": false,
     "start_time": "2021-06-27T19:29:28.203064",
     "status": "completed"
    },
    "tags": []
   },
   "source": [
    "# Figure Generation Notebook - Tissue Piechart figure\n",
    "\n",
    "This notebook generates a single figure, a tissue piechart figure, **tissue-piechart.pdf**."
   ]
  },
  {
   "cell_type": "code",
   "execution_count": 1,
   "id": "86682f96",
   "metadata": {
    "execution": {
     "iopub.execute_input": "2021-06-27T19:29:28.361232Z",
     "iopub.status.busy": "2021-06-27T19:29:28.358346Z",
     "iopub.status.idle": "2021-06-27T19:29:28.694445Z",
     "shell.execute_reply": "2021-06-27T19:29:28.693431Z"
    },
    "papermill": {
     "duration": 0.470938,
     "end_time": "2021-06-27T19:29:28.694629",
     "exception": false,
     "start_time": "2021-06-27T19:29:28.223691",
     "status": "completed"
    },
    "tags": []
   },
   "outputs": [],
   "source": [
    "start_time <- Sys.time()\n",
    "\n",
    "suppressMessages({\n",
    "    options(warn = -1) \n",
    "    library(dplyr)\n",
    "})"
   ]
  },
  {
   "cell_type": "markdown",
   "id": "505f0870",
   "metadata": {
    "papermill": {
     "duration": 0.012424,
     "end_time": "2021-06-27T19:29:28.718583",
     "exception": false,
     "start_time": "2021-06-27T19:29:28.706159",
     "status": "completed"
    },
    "tags": []
   },
   "source": [
    "### 1. Read in all alternatively spliced events"
   ]
  },
  {
   "cell_type": "code",
   "execution_count": 2,
   "id": "2dd210a2",
   "metadata": {
    "execution": {
     "iopub.execute_input": "2021-06-27T19:29:28.778246Z",
     "iopub.status.busy": "2021-06-27T19:29:28.746685Z",
     "iopub.status.idle": "2021-06-27T19:29:28.813353Z",
     "shell.execute_reply": "2021-06-27T19:29:28.812209Z"
    },
    "papermill": {
     "duration": 0.082905,
     "end_time": "2021-06-27T19:29:28.813486",
     "exception": false,
     "start_time": "2021-06-27T19:29:28.730581",
     "status": "completed"
    },
    "tags": []
   },
   "outputs": [
    {
     "data": {
      "text/html": [
       "<table class=\"dataframe\">\n",
       "<caption>A data.frame: 2 × 15</caption>\n",
       "<thead>\n",
       "\t<tr><th></th><th scope=col>GeneJunction</th><th scope=col>ASE</th><th scope=col>ASE_IDX</th><th scope=col>Tissue</th><th scope=col>counts</th><th scope=col>Display</th><th scope=col>GeneSymbol</th><th scope=col>GeneID</th><th scope=col>chr</th><th scope=col>logFC</th><th scope=col>AveExpr</th><th scope=col>t</th><th scope=col>PValue</th><th scope=col>AdjPVal</th><th scope=col>B</th></tr>\n",
       "\t<tr><th></th><th scope=col>&lt;chr&gt;</th><th scope=col>&lt;chr&gt;</th><th scope=col>&lt;int&gt;</th><th scope=col>&lt;chr&gt;</th><th scope=col>&lt;int&gt;</th><th scope=col>&lt;chr&gt;</th><th scope=col>&lt;chr&gt;</th><th scope=col>&lt;chr&gt;</th><th scope=col>&lt;chr&gt;</th><th scope=col>&lt;dbl&gt;</th><th scope=col>&lt;dbl&gt;</th><th scope=col>&lt;dbl&gt;</th><th scope=col>&lt;dbl&gt;</th><th scope=col>&lt;dbl&gt;</th><th scope=col>&lt;dbl&gt;</th></tr>\n",
       "</thead>\n",
       "<tbody>\n",
       "\t<tr><th scope=row>1</th><td>SCO1-8452</td><td>A3SS</td><td>8452</td><td>adrenal_gland  </td><td>1</td><td>Adrenal gland  </td><td>SCO1</td><td>ENSG00000133028.12</td><td>chr17</td><td> 0.7715834</td><td>5.028635</td><td>  4.906848</td><td>1.533202e-06</td><td>8.170436e-03</td><td> 0.8561371</td></tr>\n",
       "\t<tr><th scope=row>2</th><td>XIST-2252</td><td>A3SS</td><td>2252</td><td>artery_coronary</td><td>1</td><td>Coronary artery</td><td>XIST</td><td>ENSG00000229807.11</td><td>chrX </td><td>-2.1880965</td><td>4.327079</td><td>-10.329346</td><td>4.631685e-21</td><td>2.464057e-17</td><td>16.7535120</td></tr>\n",
       "</tbody>\n",
       "</table>\n"
      ],
      "text/latex": [
       "A data.frame: 2 × 15\n",
       "\\begin{tabular}{r|lllllllllllllll}\n",
       "  & GeneJunction & ASE & ASE\\_IDX & Tissue & counts & Display & GeneSymbol & GeneID & chr & logFC & AveExpr & t & PValue & AdjPVal & B\\\\\n",
       "  & <chr> & <chr> & <int> & <chr> & <int> & <chr> & <chr> & <chr> & <chr> & <dbl> & <dbl> & <dbl> & <dbl> & <dbl> & <dbl>\\\\\n",
       "\\hline\n",
       "\t1 & SCO1-8452 & A3SS & 8452 & adrenal\\_gland   & 1 & Adrenal gland   & SCO1 & ENSG00000133028.12 & chr17 &  0.7715834 & 5.028635 &   4.906848 & 1.533202e-06 & 8.170436e-03 &  0.8561371\\\\\n",
       "\t2 & XIST-2252 & A3SS & 2252 & artery\\_coronary & 1 & Coronary artery & XIST & ENSG00000229807.11 & chrX  & -2.1880965 & 4.327079 & -10.329346 & 4.631685e-21 & 2.464057e-17 & 16.7535120\\\\\n",
       "\\end{tabular}\n"
      ],
      "text/markdown": [
       "\n",
       "A data.frame: 2 × 15\n",
       "\n",
       "| <!--/--> | GeneJunction &lt;chr&gt; | ASE &lt;chr&gt; | ASE_IDX &lt;int&gt; | Tissue &lt;chr&gt; | counts &lt;int&gt; | Display &lt;chr&gt; | GeneSymbol &lt;chr&gt; | GeneID &lt;chr&gt; | chr &lt;chr&gt; | logFC &lt;dbl&gt; | AveExpr &lt;dbl&gt; | t &lt;dbl&gt; | PValue &lt;dbl&gt; | AdjPVal &lt;dbl&gt; | B &lt;dbl&gt; |\n",
       "|---|---|---|---|---|---|---|---|---|---|---|---|---|---|---|---|\n",
       "| 1 | SCO1-8452 | A3SS | 8452 | adrenal_gland   | 1 | Adrenal gland   | SCO1 | ENSG00000133028.12 | chr17 |  0.7715834 | 5.028635 |   4.906848 | 1.533202e-06 | 8.170436e-03 |  0.8561371 |\n",
       "| 2 | XIST-2252 | A3SS | 2252 | artery_coronary | 1 | Coronary artery | XIST | ENSG00000229807.11 | chrX  | -2.1880965 | 4.327079 | -10.329346 | 4.631685e-21 | 2.464057e-17 | 16.7535120 |\n",
       "\n"
      ],
      "text/plain": [
       "  GeneJunction ASE  ASE_IDX Tissue          counts Display         GeneSymbol\n",
       "1 SCO1-8452    A3SS 8452    adrenal_gland   1      Adrenal gland   SCO1      \n",
       "2 XIST-2252    A3SS 2252    artery_coronary 1      Coronary artery XIST      \n",
       "  GeneID             chr   logFC      AveExpr  t          PValue      \n",
       "1 ENSG00000133028.12 chr17  0.7715834 5.028635   4.906848 1.533202e-06\n",
       "2 ENSG00000229807.11 chrX  -2.1880965 4.327079 -10.329346 4.631685e-21\n",
       "  AdjPVal      B         \n",
       "1 8.170436e-03  0.8561371\n",
       "2 2.464057e-17 16.7535120"
      ]
     },
     "metadata": {},
     "output_type": "display_data"
    }
   ],
   "source": [
    "filename <- \"../data/gene_as.tsv\"\n",
    "gene_as <- read.table(filename, header=TRUE, sep=\"\\t\",\n",
    "                               skipNul=FALSE, stringsAsFactors = FALSE)\n",
    "head(gene_as,2)"
   ]
  },
  {
   "cell_type": "markdown",
   "id": "8aa277d4",
   "metadata": {
    "papermill": {
     "duration": 0.010184,
     "end_time": "2021-06-27T19:29:28.833937",
     "exception": false,
     "start_time": "2021-06-27T19:29:28.823753",
     "status": "completed"
    },
    "tags": []
   },
   "source": [
    "### 2. Pie chart\n",
    "Show recurrent vs unique splicing events with a piechart."
   ]
  },
  {
   "cell_type": "markdown",
   "id": "8b69c395",
   "metadata": {
    "papermill": {
     "duration": 0.009786,
     "end_time": "2021-06-27T19:29:28.853560",
     "exception": false,
     "start_time": "2021-06-27T19:29:28.843774",
     "status": "completed"
    },
    "tags": []
   },
   "source": [
    "Tissue specific 1 tissue\n",
    "Tissue group 2-5 tissues\n",
    "Recurrent > 5 tissues"
   ]
  },
  {
   "cell_type": "code",
   "execution_count": 3,
   "id": "81d22cf1",
   "metadata": {
    "execution": {
     "iopub.execute_input": "2021-06-27T19:29:28.878570Z",
     "iopub.status.busy": "2021-06-27T19:29:28.877243Z",
     "iopub.status.idle": "2021-06-27T19:29:28.896536Z",
     "shell.execute_reply": "2021-06-27T19:29:28.895207Z"
    },
    "papermill": {
     "duration": 0.033335,
     "end_time": "2021-06-27T19:29:28.896689",
     "exception": false,
     "start_time": "2021-06-27T19:29:28.863354",
     "status": "completed"
    },
    "tags": []
   },
   "outputs": [],
   "source": [
    "# Colors for uniformity\n",
    "# Let's use the following colors for uniformity\n",
    "darkblue <- \"#3c5488\"\n",
    "red <- \"#e64b35\"\n",
    "nearlyblack <- \"#040C04\"\n",
    "purple <- \"#790079\"\n",
    "orange = \"#ff9900\""
   ]
  },
  {
   "cell_type": "code",
   "execution_count": 4,
   "id": "95b18e33",
   "metadata": {
    "execution": {
     "iopub.execute_input": "2021-06-27T19:29:28.921925Z",
     "iopub.status.busy": "2021-06-27T19:29:28.920559Z",
     "iopub.status.idle": "2021-06-27T19:29:29.887455Z",
     "shell.execute_reply": "2021-06-27T19:29:29.886381Z"
    },
    "papermill": {
     "duration": 0.981165,
     "end_time": "2021-06-27T19:29:29.887835",
     "exception": false,
     "start_time": "2021-06-27T19:29:28.906670",
     "status": "completed"
    },
    "tags": []
   },
   "outputs": [
    {
     "data": {
      "text/html": [
       "581"
      ],
      "text/latex": [
       "581"
      ],
      "text/markdown": [
       "581"
      ],
      "text/plain": [
       "[1] 581"
      ]
     },
     "metadata": {},
     "output_type": "display_data"
    }
   ],
   "source": [
    "# Count most frequent spliced genes\n",
    "res <- gene_as %>% group_by(GeneSymbol) %>% count(GeneSymbol) %>% arrange(desc(n)) %>% as.data.frame()\n",
    "res$GeneSymbol <- factor(res$GeneSymbol, levels = res$GeneSymbol)\n",
    "length(res$GeneSymbol)\n",
    "\n",
    "#Add number of tissues\n",
    "nTissues <- rep(NA, length(res))\n",
    "for (i in 1:nrow(res)) {\n",
    "  df_gene <- gene_as %>% filter(GeneSymbol == res$GeneSymbol[i])\n",
    "  nTissues[i] <- length(unique(df_gene$Tissue))\n",
    "}\n",
    "res$Tissues <- nTissues"
   ]
  },
  {
   "cell_type": "code",
   "execution_count": 5,
   "id": "b8a22a85",
   "metadata": {
    "execution": {
     "iopub.execute_input": "2021-06-27T19:29:29.914816Z",
     "iopub.status.busy": "2021-06-27T19:29:29.913606Z",
     "iopub.status.idle": "2021-06-27T19:29:29.934001Z",
     "shell.execute_reply": "2021-06-27T19:29:29.932583Z"
    },
    "papermill": {
     "duration": 0.035201,
     "end_time": "2021-06-27T19:29:29.934142",
     "exception": false,
     "start_time": "2021-06-27T19:29:29.898941",
     "status": "completed"
    },
    "tags": []
   },
   "outputs": [
    {
     "data": {
      "text/html": [
       "<table class=\"dataframe\">\n",
       "<caption>A data.frame: 6 × 3</caption>\n",
       "<thead>\n",
       "\t<tr><th></th><th scope=col>GeneSymbol</th><th scope=col>n</th><th scope=col>Tissues</th></tr>\n",
       "\t<tr><th></th><th scope=col>&lt;fct&gt;</th><th scope=col>&lt;int&gt;</th><th scope=col>&lt;int&gt;</th></tr>\n",
       "</thead>\n",
       "<tbody>\n",
       "\t<tr><th scope=row>1</th><td>XIST  </td><td>25</td><td>23</td></tr>\n",
       "\t<tr><th scope=row>2</th><td>KDM5C </td><td>14</td><td>14</td></tr>\n",
       "\t<tr><th scope=row>3</th><td>MUC1  </td><td> 6</td><td> 1</td></tr>\n",
       "\t<tr><th scope=row>4</th><td>SORBS2</td><td> 6</td><td> 1</td></tr>\n",
       "\t<tr><th scope=row>5</th><td>DDX3X </td><td> 5</td><td> 4</td></tr>\n",
       "\t<tr><th scope=row>6</th><td>CELSR2</td><td> 4</td><td> 1</td></tr>\n",
       "</tbody>\n",
       "</table>\n"
      ],
      "text/latex": [
       "A data.frame: 6 × 3\n",
       "\\begin{tabular}{r|lll}\n",
       "  & GeneSymbol & n & Tissues\\\\\n",
       "  & <fct> & <int> & <int>\\\\\n",
       "\\hline\n",
       "\t1 & XIST   & 25 & 23\\\\\n",
       "\t2 & KDM5C  & 14 & 14\\\\\n",
       "\t3 & MUC1   &  6 &  1\\\\\n",
       "\t4 & SORBS2 &  6 &  1\\\\\n",
       "\t5 & DDX3X  &  5 &  4\\\\\n",
       "\t6 & CELSR2 &  4 &  1\\\\\n",
       "\\end{tabular}\n"
      ],
      "text/markdown": [
       "\n",
       "A data.frame: 6 × 3\n",
       "\n",
       "| <!--/--> | GeneSymbol &lt;fct&gt; | n &lt;int&gt; | Tissues &lt;int&gt; |\n",
       "|---|---|---|---|\n",
       "| 1 | XIST   | 25 | 23 |\n",
       "| 2 | KDM5C  | 14 | 14 |\n",
       "| 3 | MUC1   |  6 |  1 |\n",
       "| 4 | SORBS2 |  6 |  1 |\n",
       "| 5 | DDX3X  |  5 |  4 |\n",
       "| 6 | CELSR2 |  4 |  1 |\n",
       "\n"
      ],
      "text/plain": [
       "  GeneSymbol n  Tissues\n",
       "1 XIST       25 23     \n",
       "2 KDM5C      14 14     \n",
       "3 MUC1        6  1     \n",
       "4 SORBS2      6  1     \n",
       "5 DDX3X       5  4     \n",
       "6 CELSR2      4  1     "
      ]
     },
     "metadata": {},
     "output_type": "display_data"
    }
   ],
   "source": [
    "head(res)"
   ]
  },
  {
   "cell_type": "code",
   "execution_count": 6,
   "id": "b03b9695",
   "metadata": {
    "execution": {
     "iopub.execute_input": "2021-06-27T19:29:29.961830Z",
     "iopub.status.busy": "2021-06-27T19:29:29.960622Z",
     "iopub.status.idle": "2021-06-27T19:29:29.986091Z",
     "shell.execute_reply": "2021-06-27T19:29:29.981360Z"
    },
    "papermill": {
     "duration": 0.0408,
     "end_time": "2021-06-27T19:29:29.986246",
     "exception": false,
     "start_time": "2021-06-27T19:29:29.945446",
     "status": "completed"
    },
    "tags": []
   },
   "outputs": [],
   "source": [
    "#Pie chart - Number of patients with 0, 1, >1 events\n",
    "counts <- c(res %>% filter(Tissues == 1) %>% count() %>% as.numeric(),\n",
    "            res %>% filter(Tissues > 1 & Tissues < 6) %>% count() %>% as.numeric(),\n",
    "            res %>% filter(Tissues > 5) %>% count() %>% as.numeric())"
   ]
  },
  {
   "cell_type": "code",
   "execution_count": 7,
   "id": "aef66fc3",
   "metadata": {
    "execution": {
     "iopub.execute_input": "2021-06-27T19:29:30.014027Z",
     "iopub.status.busy": "2021-06-27T19:29:30.012637Z",
     "iopub.status.idle": "2021-06-27T19:29:30.028719Z",
     "shell.execute_reply": "2021-06-27T19:29:30.026517Z"
    },
    "papermill": {
     "duration": 0.031678,
     "end_time": "2021-06-27T19:29:30.028921",
     "exception": false,
     "start_time": "2021-06-27T19:29:29.997243",
     "status": "completed"
    },
    "tags": []
   },
   "outputs": [
    {
     "data": {
      "text/html": [
       "<style>\n",
       ".list-inline {list-style: none; margin:0; padding: 0}\n",
       ".list-inline>li {display: inline-block}\n",
       ".list-inline>li:not(:last-child)::after {content: \"\\00b7\"; padding: 0 .5ex}\n",
       "</style>\n",
       "<ol class=list-inline><li>562</li><li>17</li><li>2</li></ol>\n"
      ],
      "text/latex": [
       "\\begin{enumerate*}\n",
       "\\item 562\n",
       "\\item 17\n",
       "\\item 2\n",
       "\\end{enumerate*}\n"
      ],
      "text/markdown": [
       "1. 562\n",
       "2. 17\n",
       "3. 2\n",
       "\n",
       "\n"
      ],
      "text/plain": [
       "[1] 562  17   2"
      ]
     },
     "metadata": {},
     "output_type": "display_data"
    }
   ],
   "source": [
    "counts"
   ]
  },
  {
   "cell_type": "code",
   "execution_count": 8,
   "id": "816c9494",
   "metadata": {
    "execution": {
     "iopub.execute_input": "2021-06-27T19:29:30.058516Z",
     "iopub.status.busy": "2021-06-27T19:29:30.056729Z",
     "iopub.status.idle": "2021-06-27T19:29:30.069035Z",
     "shell.execute_reply": "2021-06-27T19:29:30.067834Z"
    },
    "papermill": {
     "duration": 0.028561,
     "end_time": "2021-06-27T19:29:30.069177",
     "exception": false,
     "start_time": "2021-06-27T19:29:30.040616",
     "status": "completed"
    },
    "tags": []
   },
   "outputs": [],
   "source": [
    "piecolors <- c(darkblue,red,orange)"
   ]
  },
  {
   "cell_type": "markdown",
   "id": "76141123",
   "metadata": {
    "papermill": {
     "duration": 0.012568,
     "end_time": "2021-06-27T19:29:30.094932",
     "exception": false,
     "start_time": "2021-06-27T19:29:30.082364",
     "status": "completed"
    },
    "tags": []
   },
   "source": [
    "Calculate the percentage for each category"
   ]
  },
  {
   "cell_type": "code",
   "execution_count": 9,
   "id": "2d607278",
   "metadata": {
    "execution": {
     "iopub.execute_input": "2021-06-27T19:29:30.123186Z",
     "iopub.status.busy": "2021-06-27T19:29:30.121892Z",
     "iopub.status.idle": "2021-06-27T19:29:30.136991Z",
     "shell.execute_reply": "2021-06-27T19:29:30.135919Z"
    },
    "lines_to_next_cell": 2,
    "papermill": {
     "duration": 0.030327,
     "end_time": "2021-06-27T19:29:30.137125",
     "exception": false,
     "start_time": "2021-06-27T19:29:30.106798",
     "status": "completed"
    },
    "tags": []
   },
   "outputs": [],
   "source": [
    "counts_labels <- round(counts/sum(counts) * 100, 1)\n",
    "counts_labels <- paste(\"(\",counts_labels,\")\", \"%\", sep=\"\")\n",
    "counts_labels <- paste(counts, counts_labels,sep =\" \")"
   ]
  },
  {
   "cell_type": "code",
   "execution_count": 10,
   "id": "0733b306",
   "metadata": {
    "execution": {
     "iopub.execute_input": "2021-06-27T19:29:30.167175Z",
     "iopub.status.busy": "2021-06-27T19:29:30.165762Z",
     "iopub.status.idle": "2021-06-27T19:29:30.345166Z",
     "shell.execute_reply": "2021-06-27T19:29:30.343638Z"
    },
    "papermill": {
     "duration": 0.195244,
     "end_time": "2021-06-27T19:29:30.345314",
     "exception": false,
     "start_time": "2021-06-27T19:29:30.150070",
     "status": "completed"
    },
    "tags": []
   },
   "outputs": [
    {
     "data": {
      "text/html": [
       "<strong>png:</strong> 2"
      ],
      "text/latex": [
       "\\textbf{png:} 2"
      ],
      "text/markdown": [
       "**png:** 2"
      ],
      "text/plain": [
       "png \n",
       "  2 "
      ]
     },
     "metadata": {},
     "output_type": "display_data"
    },
    {
     "name": "stderr",
     "output_type": "stream",
     "text": [
      "Wrote file to ../pdf/tissue-piechart.pdf\n",
      "\n"
     ]
    },
    {
     "data": {
      "image/png": "[encoded data removed]",
      "text/plain": [
       "Plot with title “”"
      ]
     },
     "metadata": {
      "image/png": {
       "height": 420,
       "width": 420
      }
     },
     "output_type": "display_data"
    }
   ],
   "source": [
    "pdf(\"../pdf/tissue-piechart.pdf\")\n",
    "pie(counts, main=\"\", col=piecolors, labels=counts_labels, cex=1.5)\n",
    "# Create a legend at the right   \n",
    "legend(-.425,0.6, c(\"1 tissue\",\"2-5 tissues\",\"> 5 tissues\"), cex=1.5, \n",
    "       fill=piecolors, bg=\"white\")\n",
    "dev.off()\n",
    "message(\"Wrote file to ../pdf/tissue-piechart.pdf\")\n",
    "pie(counts, main=\"\", col=piecolors, labels=counts_labels,\n",
    "    cex=1.5)\n",
    "# Create a legend at the right   \n",
    "legend(-.425,0.6, c(\"1 tissue\",\"2-5 tissues\",\"> 5 tissues\"), cex=1.5, \n",
    "       fill=piecolors, bg=\"white\")"
   ]
  },
  {
   "cell_type": "markdown",
   "id": "f87bf23e",
   "metadata": {
    "papermill": {
     "duration": 0.013365,
     "end_time": "2021-06-27T19:29:30.372738",
     "exception": false,
     "start_time": "2021-06-27T19:29:30.359373",
     "status": "completed"
    },
    "tags": []
   },
   "source": [
    "### Appendix - Metadata\n",
    "\n",
    "For replicability and reproducibility purposes, we also print the following metadata:\n",
    "\n",
    "1. Checksums of **'artefacts'**, files generated during the analysis and stored in the folder directory **`data`**\n",
    "2. List of environment metadata, dependencies, versions of libraries using `utils::sessionInfo()` and [`devtools::session_info()`](https://devtools.r-lib.org/reference/session_info.html)"
   ]
  },
  {
   "cell_type": "markdown",
   "id": "b4a3dd1b",
   "metadata": {
    "papermill": {
     "duration": 0.017221,
     "end_time": "2021-06-27T19:29:30.403632",
     "exception": false,
     "start_time": "2021-06-27T19:29:30.386411",
     "status": "completed"
    },
    "tags": []
   },
   "source": [
    "### Appendix 1. Checksums with the sha256 algorithm"
   ]
  },
  {
   "cell_type": "code",
   "execution_count": 11,
   "id": "bba8e5a2",
   "metadata": {
    "execution": {
     "iopub.execute_input": "2021-06-27T19:29:30.436726Z",
     "iopub.status.busy": "2021-06-27T19:29:30.435192Z",
     "iopub.status.idle": "2021-06-27T19:29:30.447512Z",
     "shell.execute_reply": "2021-06-27T19:29:30.446272Z"
    },
    "papermill": {
     "duration": 0.030068,
     "end_time": "2021-06-27T19:29:30.447715",
     "exception": false,
     "start_time": "2021-06-27T19:29:30.417647",
     "status": "completed"
    },
    "tags": []
   },
   "outputs": [],
   "source": [
    "notebookid   = \"create_tissue_piechart_figure\""
   ]
  },
  {
   "cell_type": "markdown",
   "id": "d34c7bfe",
   "metadata": {
    "papermill": {
     "duration": 0.013608,
     "end_time": "2021-06-27T19:29:30.475260",
     "exception": false,
     "start_time": "2021-06-27T19:29:30.461652",
     "status": "completed"
    },
    "tags": []
   },
   "source": [
    "### Appendix 2. Libraries metadata"
   ]
  },
  {
   "cell_type": "code",
   "execution_count": 12,
   "id": "16417587",
   "metadata": {
    "execution": {
     "iopub.execute_input": "2021-06-27T19:29:30.508447Z",
     "iopub.status.busy": "2021-06-27T19:29:30.506979Z",
     "iopub.status.idle": "2021-06-27T19:29:31.162028Z",
     "shell.execute_reply": "2021-06-27T19:29:31.160596Z"
    },
    "papermill": {
     "duration": 0.672867,
     "end_time": "2021-06-27T19:29:31.162175",
     "exception": false,
     "start_time": "2021-06-27T19:29:30.489308",
     "status": "completed"
    },
    "tags": []
   },
   "outputs": [
    {
     "name": "stderr",
     "output_type": "stream",
     "text": [
      "Saving `devtools::session_info()` objects in ../data/devtools_session_info.rds  ..\n",
      "\n"
     ]
    },
    {
     "name": "stderr",
     "output_type": "stream",
     "text": [
      "Done!\n",
      "\n",
      "\n"
     ]
    },
    {
     "name": "stderr",
     "output_type": "stream",
     "text": [
      "Saving `utils::sessionInfo()` objects in ../data/utils_session_info.rds  ..\n",
      "\n"
     ]
    },
    {
     "name": "stderr",
     "output_type": "stream",
     "text": [
      "Done!\n",
      "\n",
      "\n"
     ]
    },
    {
     "data": {
      "text/plain": [
       " setting  value                       \n",
       " version  R version 4.1.0 (2021-05-18)\n",
       " os       Ubuntu 18.04.4 LTS          \n",
       " system   x86_64, linux-gnu           \n",
       " ui       X11                         \n",
       " language en_US.UTF-8                 \n",
       " collate  en_US.UTF-8                 \n",
       " ctype    en_US.UTF-8                 \n",
       " tz       Etc/UTC                     \n",
       " date     2021-06-27                  "
      ]
     },
     "metadata": {},
     "output_type": "display_data"
    },
    {
     "data": {
      "text/html": [
       "<table class=\"dataframe\">\n",
       "<caption>A packages_info: 1 × 11</caption>\n",
       "<thead>\n",
       "\t<tr><th></th><th scope=col>package</th><th scope=col>ondiskversion</th><th scope=col>loadedversion</th><th scope=col>path</th><th scope=col>loadedpath</th><th scope=col>attached</th><th scope=col>is_base</th><th scope=col>date</th><th scope=col>source</th><th scope=col>md5ok</th><th scope=col>library</th></tr>\n",
       "\t<tr><th></th><th scope=col>&lt;chr&gt;</th><th scope=col>&lt;chr&gt;</th><th scope=col>&lt;chr&gt;</th><th scope=col>&lt;chr&gt;</th><th scope=col>&lt;chr&gt;</th><th scope=col>&lt;lgl&gt;</th><th scope=col>&lt;lgl&gt;</th><th scope=col>&lt;chr&gt;</th><th scope=col>&lt;chr&gt;</th><th scope=col>&lt;lgl&gt;</th><th scope=col>&lt;fct&gt;</th></tr>\n",
       "</thead>\n",
       "<tbody>\n",
       "\t<tr><th scope=row>dplyr</th><td>dplyr</td><td>1.0.7</td><td>1.0.7</td><td>/opt/conda/envs/sbas/lib/R/library/dplyr</td><td>/opt/conda/envs/sbas/lib/R/library/dplyr</td><td>TRUE</td><td>FALSE</td><td>2021-06-18</td><td>CRAN (R 4.1.0)</td><td>NA</td><td>/opt/conda/envs/sbas/lib/R/library</td></tr>\n",
       "</tbody>\n",
       "</table>\n"
      ],
      "text/latex": [
       "A packages\\_info: 1 × 11\n",
       "\\begin{tabular}{r|lllllllllll}\n",
       "  & package & ondiskversion & loadedversion & path & loadedpath & attached & is\\_base & date & source & md5ok & library\\\\\n",
       "  & <chr> & <chr> & <chr> & <chr> & <chr> & <lgl> & <lgl> & <chr> & <chr> & <lgl> & <fct>\\\\\n",
       "\\hline\n",
       "\tdplyr & dplyr & 1.0.7 & 1.0.7 & /opt/conda/envs/sbas/lib/R/library/dplyr & /opt/conda/envs/sbas/lib/R/library/dplyr & TRUE & FALSE & 2021-06-18 & CRAN (R 4.1.0) & NA & /opt/conda/envs/sbas/lib/R/library\\\\\n",
       "\\end{tabular}\n"
      ],
      "text/markdown": [
       "\n",
       "A packages_info: 1 × 11\n",
       "\n",
       "| <!--/--> | package &lt;chr&gt; | ondiskversion &lt;chr&gt; | loadedversion &lt;chr&gt; | path &lt;chr&gt; | loadedpath &lt;chr&gt; | attached &lt;lgl&gt; | is_base &lt;lgl&gt; | date &lt;chr&gt; | source &lt;chr&gt; | md5ok &lt;lgl&gt; | library &lt;fct&gt; |\n",
       "|---|---|---|---|---|---|---|---|---|---|---|---|\n",
       "| dplyr | dplyr | 1.0.7 | 1.0.7 | /opt/conda/envs/sbas/lib/R/library/dplyr | /opt/conda/envs/sbas/lib/R/library/dplyr | TRUE | FALSE | 2021-06-18 | CRAN (R 4.1.0) | NA | /opt/conda/envs/sbas/lib/R/library |\n",
       "\n"
      ],
      "text/plain": [
       "      package ondiskversion loadedversion\n",
       "dplyr dplyr   1.0.7         1.0.7        \n",
       "      path                                    \n",
       "dplyr /opt/conda/envs/sbas/lib/R/library/dplyr\n",
       "      loadedpath                               attached is_base date      \n",
       "dplyr /opt/conda/envs/sbas/lib/R/library/dplyr TRUE     FALSE   2021-06-18\n",
       "      source         md5ok library                           \n",
       "dplyr CRAN (R 4.1.0) NA    /opt/conda/envs/sbas/lib/R/library"
      ]
     },
     "metadata": {},
     "output_type": "display_data"
    }
   ],
   "source": [
    "dev_session_info   <- devtools::session_info()\n",
    "utils_session_info <- utils::sessionInfo()\n",
    "\n",
    "message(\"Saving `devtools::session_info()` objects in ../data/devtools_session_info.rds  ..\")\n",
    "saveRDS(dev_session_info, file = paste0(\"../data/\", notebookid, \"_devtools_session_info.rds\"))\n",
    "message(\"Done!\\n\")\n",
    "\n",
    "message(\"Saving `utils::sessionInfo()` objects in ../data/utils_session_info.rds  ..\")\n",
    "saveRDS(utils_session_info, file = paste0(\"../data/\", notebookid ,\"_utils_info.rds\"))\n",
    "message(\"Done!\\n\")\n",
    "\n",
    "dev_session_info$platform\n",
    "dev_session_info$packages[dev_session_info$packages$attached==TRUE, ]"
   ]
  },
  {
   "cell_type": "code",
   "execution_count": 13,
   "id": "f0c4c988",
   "metadata": {
    "execution": {
     "iopub.execute_input": "2021-06-27T19:29:31.197768Z",
     "iopub.status.busy": "2021-06-27T19:29:31.196451Z",
     "iopub.status.idle": "2021-06-27T19:29:31.214072Z",
     "shell.execute_reply": "2021-06-27T19:29:31.212837Z"
    },
    "papermill": {
     "duration": 0.036832,
     "end_time": "2021-06-27T19:29:31.214210",
     "exception": false,
     "start_time": "2021-06-27T19:29:31.177378",
     "status": "completed"
    },
    "tags": []
   },
   "outputs": [
    {
     "data": {
      "text/plain": [
       "Time difference of 2.8194 secs"
      ]
     },
     "metadata": {},
     "output_type": "display_data"
    }
   ],
   "source": [
    "end_time <- Sys.time()\n",
    "end_time - start_time"
   ]
  }
 ],
 "metadata": {
  "jupytext": {
   "cell_metadata_filter": "-all",
   "encoding": "# -*- coding: utf-8 -*-",
   "main_language": "R",
   "notebook_metadata_filter": "-all"
  },
  "kernelspec": {
   "display_name": "R",
   "language": "R",
   "name": "ir"
  },
  "language_info": {
   "codemirror_mode": "r",
   "file_extension": ".r",
   "mimetype": "text/x-r-source",
   "name": "R",
   "pygments_lexer": "r",
   "version": "4.1.0"
  },
  "papermill": {
   "duration": 4.156223,
   "end_time": "2021-06-27T19:29:31.339671",
   "environment_variables": {},
   "exception": null,
   "input_path": "tissue_piechart.ipynb",
   "output_path": "tissue_piechart.ipynb",
   "parameters": {},
   "start_time": "2021-06-27T19:29:27.183448",
   "version": "2.1.2"
  }
 },
 "nbformat": 4,
 "nbformat_minor": 5
}