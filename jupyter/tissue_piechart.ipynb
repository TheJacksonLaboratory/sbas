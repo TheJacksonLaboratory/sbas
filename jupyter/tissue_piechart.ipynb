{
 "cells": [
  {
   "cell_type": "markdown",
   "metadata": {
    "papermill": {
     "duration": 0.011333,
     "end_time": "2021-05-21T02:49:20.090153",
     "exception": false,
     "start_time": "2021-05-21T02:49:20.078820",
     "status": "completed"
    },
    "tags": []
   },
   "source": [
    "# Figure Generation Notebook - Tissue Piechart figure\n",
    "\n",
    "This notebook generates a single figure, a tissue piechart figure, **tissue-piechart.pdf**."
   ]
  },
  {
   "cell_type": "code",
   "execution_count": 1,
   "metadata": {
    "execution": {
     "iopub.execute_input": "2021-05-21T02:49:20.191462Z",
     "iopub.status.busy": "2021-05-21T02:49:20.188162Z",
     "iopub.status.idle": "2021-05-21T02:49:20.527573Z",
     "shell.execute_reply": "2021-05-21T02:49:20.525881Z"
    },
    "papermill": {
     "duration": 0.427007,
     "end_time": "2021-05-21T02:49:20.527745",
     "exception": false,
     "start_time": "2021-05-21T02:49:20.100738",
     "status": "completed"
    },
    "tags": []
   },
   "outputs": [],
   "source": [
    "start_time <- Sys.time()\n",
    "\n",
    "suppressMessages({\n",
    "    options(warn = -1) \n",
    "    library(dplyr)\n",
    "})"
   ]
  },
  {
   "cell_type": "markdown",
   "metadata": {
    "papermill": {
     "duration": 0.010378,
     "end_time": "2021-05-21T02:49:20.548795",
     "exception": false,
     "start_time": "2021-05-21T02:49:20.538417",
     "status": "completed"
    },
    "tags": []
   },
   "source": [
    "### 1. Read in all alternatively spliced events"
   ]
  },
  {
   "cell_type": "code",
   "execution_count": 2,
   "metadata": {
    "execution": {
     "iopub.execute_input": "2021-05-21T02:49:20.605257Z",
     "iopub.status.busy": "2021-05-21T02:49:20.573061Z",
     "iopub.status.idle": "2021-05-21T02:49:20.639408Z",
     "shell.execute_reply": "2021-05-21T02:49:20.638017Z"
    },
    "papermill": {
     "duration": 0.080591,
     "end_time": "2021-05-21T02:49:20.639554",
     "exception": false,
     "start_time": "2021-05-21T02:49:20.558963",
     "status": "completed"
    },
    "tags": []
   },
   "outputs": [
    {
     "data": {
      "text/html": [
       "<table class=\"dataframe\">\n",
       "<caption>A data.frame: 2 × 15</caption>\n",
       "<thead>\n",
       "\t<tr><th></th><th scope=col>GeneJunction</th><th scope=col>ASE</th><th scope=col>ASE_IDX</th><th scope=col>Tissue</th><th scope=col>counts</th><th scope=col>Display</th><th scope=col>GeneSymbol</th><th scope=col>GeneID</th><th scope=col>chr</th><th scope=col>logFC</th><th scope=col>AveExpr</th><th scope=col>t</th><th scope=col>PValue</th><th scope=col>AdjPVal</th><th scope=col>B</th></tr>\n",
       "\t<tr><th></th><th scope=col>&lt;chr&gt;</th><th scope=col>&lt;chr&gt;</th><th scope=col>&lt;int&gt;</th><th scope=col>&lt;chr&gt;</th><th scope=col>&lt;int&gt;</th><th scope=col>&lt;chr&gt;</th><th scope=col>&lt;chr&gt;</th><th scope=col>&lt;chr&gt;</th><th scope=col>&lt;chr&gt;</th><th scope=col>&lt;dbl&gt;</th><th scope=col>&lt;dbl&gt;</th><th scope=col>&lt;dbl&gt;</th><th scope=col>&lt;dbl&gt;</th><th scope=col>&lt;dbl&gt;</th><th scope=col>&lt;dbl&gt;</th></tr>\n",
       "</thead>\n",
       "<tbody>\n",
       "\t<tr><th scope=row>1</th><td>CYB5R1-2513</td><td>A3SS</td><td>2513</td><td>brain_hippocampus </td><td>1</td><td>Hippocampus </td><td>CYB5R1</td><td>ENSG00000159348.13</td><td>chr1 </td><td> 4.248889</td><td>5.779254</td><td> 5.126318</td><td>7.07777e-07</td><td>0.003560118</td><td>5.185446</td></tr>\n",
       "\t<tr><th scope=row>2</th><td>ANK3-4589  </td><td>A3SS</td><td>4589</td><td>brain_hypothalamus</td><td>1</td><td>Hypothalamus</td><td>ANK3  </td><td>ENSG00000151150.22</td><td>chr10</td><td>-6.419966</td><td>4.170207</td><td>-4.656180</td><td>6.14524e-06</td><td>0.032244072</td><td>3.210014</td></tr>\n",
       "</tbody>\n",
       "</table>\n"
      ],
      "text/latex": [
       "A data.frame: 2 × 15\n",
       "\\begin{tabular}{r|lllllllllllllll}\n",
       "  & GeneJunction & ASE & ASE\\_IDX & Tissue & counts & Display & GeneSymbol & GeneID & chr & logFC & AveExpr & t & PValue & AdjPVal & B\\\\\n",
       "  & <chr> & <chr> & <int> & <chr> & <int> & <chr> & <chr> & <chr> & <chr> & <dbl> & <dbl> & <dbl> & <dbl> & <dbl> & <dbl>\\\\\n",
       "\\hline\n",
       "\t1 & CYB5R1-2513 & A3SS & 2513 & brain\\_hippocampus  & 1 & Hippocampus  & CYB5R1 & ENSG00000159348.13 & chr1  &  4.248889 & 5.779254 &  5.126318 & 7.07777e-07 & 0.003560118 & 5.185446\\\\\n",
       "\t2 & ANK3-4589   & A3SS & 4589 & brain\\_hypothalamus & 1 & Hypothalamus & ANK3   & ENSG00000151150.22 & chr10 & -6.419966 & 4.170207 & -4.656180 & 6.14524e-06 & 0.032244072 & 3.210014\\\\\n",
       "\\end{tabular}\n"
      ],
      "text/markdown": [
       "\n",
       "A data.frame: 2 × 15\n",
       "\n",
       "| <!--/--> | GeneJunction &lt;chr&gt; | ASE &lt;chr&gt; | ASE_IDX &lt;int&gt; | Tissue &lt;chr&gt; | counts &lt;int&gt; | Display &lt;chr&gt; | GeneSymbol &lt;chr&gt; | GeneID &lt;chr&gt; | chr &lt;chr&gt; | logFC &lt;dbl&gt; | AveExpr &lt;dbl&gt; | t &lt;dbl&gt; | PValue &lt;dbl&gt; | AdjPVal &lt;dbl&gt; | B &lt;dbl&gt; |\n",
       "|---|---|---|---|---|---|---|---|---|---|---|---|---|---|---|---|\n",
       "| 1 | CYB5R1-2513 | A3SS | 2513 | brain_hippocampus  | 1 | Hippocampus  | CYB5R1 | ENSG00000159348.13 | chr1  |  4.248889 | 5.779254 |  5.126318 | 7.07777e-07 | 0.003560118 | 5.185446 |\n",
       "| 2 | ANK3-4589   | A3SS | 4589 | brain_hypothalamus | 1 | Hypothalamus | ANK3   | ENSG00000151150.22 | chr10 | -6.419966 | 4.170207 | -4.656180 | 6.14524e-06 | 0.032244072 | 3.210014 |\n",
       "\n"
      ],
      "text/plain": [
       "  GeneJunction ASE  ASE_IDX Tissue             counts Display      GeneSymbol\n",
       "1 CYB5R1-2513  A3SS 2513    brain_hippocampus  1      Hippocampus  CYB5R1    \n",
       "2 ANK3-4589    A3SS 4589    brain_hypothalamus 1      Hypothalamus ANK3      \n",
       "  GeneID             chr   logFC     AveExpr  t         PValue      AdjPVal    \n",
       "1 ENSG00000159348.13 chr1   4.248889 5.779254  5.126318 7.07777e-07 0.003560118\n",
       "2 ENSG00000151150.22 chr10 -6.419966 4.170207 -4.656180 6.14524e-06 0.032244072\n",
       "  B       \n",
       "1 5.185446\n",
       "2 3.210014"
      ]
     },
     "metadata": {},
     "output_type": "display_data"
    }
   ],
   "source": [
    "filename <- \"../data/gene_as.tsv\"\n",
    "gene_as <- read.table(filename, header=TRUE, sep=\"\\t\",\n",
    "                               skipNul=FALSE, stringsAsFactors = FALSE)\n",
    "head(gene_as,2)"
   ]
  },
  {
   "cell_type": "markdown",
   "metadata": {
    "papermill": {
     "duration": 0.010953,
     "end_time": "2021-05-21T02:49:20.661506",
     "exception": false,
     "start_time": "2021-05-21T02:49:20.650553",
     "status": "completed"
    },
    "tags": []
   },
   "source": [
    "### 2. Pie chart\n",
    "Show recurrent vs unique splicing events with a piechart."
   ]
  },
  {
   "cell_type": "markdown",
   "metadata": {
    "papermill": {
     "duration": 0.010586,
     "end_time": "2021-05-21T02:49:20.682819",
     "exception": false,
     "start_time": "2021-05-21T02:49:20.672233",
     "status": "completed"
    },
    "tags": []
   },
   "source": [
    "Tissue specific 1 tissue\n",
    "Tissue group 2-5 tissues\n",
    "Recurrent > 5 tissues"
   ]
  },
  {
   "cell_type": "code",
   "execution_count": 3,
   "metadata": {
    "execution": {
     "iopub.execute_input": "2021-05-21T02:49:20.710204Z",
     "iopub.status.busy": "2021-05-21T02:49:20.708353Z",
     "iopub.status.idle": "2021-05-21T02:49:20.728577Z",
     "shell.execute_reply": "2021-05-21T02:49:20.727242Z"
    },
    "papermill": {
     "duration": 0.035232,
     "end_time": "2021-05-21T02:49:20.728728",
     "exception": false,
     "start_time": "2021-05-21T02:49:20.693496",
     "status": "completed"
    },
    "tags": []
   },
   "outputs": [],
   "source": [
    "# Colors for uniformity\n",
    "# Let's use the following colors for uniformity\n",
    "darkblue <- \"#3c5488\"\n",
    "red <- \"#e64b35\"\n",
    "nearlyblack <- \"#040C04\"\n",
    "purple <- \"#790079\"\n",
    "orange = \"#ff9900\""
   ]
  },
  {
   "cell_type": "code",
   "execution_count": 4,
   "metadata": {
    "execution": {
     "iopub.execute_input": "2021-05-21T02:49:20.756355Z",
     "iopub.status.busy": "2021-05-21T02:49:20.754518Z",
     "iopub.status.idle": "2021-05-21T02:49:21.203044Z",
     "shell.execute_reply": "2021-05-21T02:49:21.202022Z"
    },
    "papermill": {
     "duration": 0.46373,
     "end_time": "2021-05-21T02:49:21.203195",
     "exception": false,
     "start_time": "2021-05-21T02:49:20.739465",
     "status": "completed"
    },
    "tags": []
   },
   "outputs": [
    {
     "data": {
      "text/html": [
       "254"
      ],
      "text/latex": [
       "254"
      ],
      "text/markdown": [
       "254"
      ],
      "text/plain": [
       "[1] 254"
      ]
     },
     "metadata": {},
     "output_type": "display_data"
    }
   ],
   "source": [
    "# Count most frequent spliced genes\n",
    "res <- gene_as %>% group_by(GeneSymbol) %>% count(GeneSymbol) %>% arrange(desc(n)) %>% as.data.frame()\n",
    "res$GeneSymbol <- factor(res$GeneSymbol, levels = res$GeneSymbol)\n",
    "length(res$GeneSymbol)\n",
    "\n",
    "#Add number of tissues\n",
    "nTissues <- rep(NA, length(res))\n",
    "for (i in 1:nrow(res)) {\n",
    "  df_gene <- gene_as %>% filter(GeneSymbol == res$GeneSymbol[i])\n",
    "  nTissues[i] <- length(unique(df_gene$Tissue))\n",
    "}\n",
    "res$Tissues <- nTissues"
   ]
  },
  {
   "cell_type": "code",
   "execution_count": 5,
   "metadata": {
    "execution": {
     "iopub.execute_input": "2021-05-21T02:49:21.235058Z",
     "iopub.status.busy": "2021-05-21T02:49:21.230283Z",
     "iopub.status.idle": "2021-05-21T02:49:21.253384Z",
     "shell.execute_reply": "2021-05-21T02:49:21.252161Z"
    },
    "papermill": {
     "duration": 0.038594,
     "end_time": "2021-05-21T02:49:21.253577",
     "exception": false,
     "start_time": "2021-05-21T02:49:21.214983",
     "status": "completed"
    },
    "tags": []
   },
   "outputs": [
    {
     "data": {
      "text/html": [
       "<table class=\"dataframe\">\n",
       "<caption>A data.frame: 6 × 3</caption>\n",
       "<thead>\n",
       "\t<tr><th></th><th scope=col>GeneSymbol</th><th scope=col>n</th><th scope=col>Tissues</th></tr>\n",
       "\t<tr><th></th><th scope=col>&lt;fct&gt;</th><th scope=col>&lt;int&gt;</th><th scope=col>&lt;int&gt;</th></tr>\n",
       "</thead>\n",
       "<tbody>\n",
       "\t<tr><th scope=row>1</th><td>KDM5C </td><td>8</td><td>8</td></tr>\n",
       "\t<tr><th scope=row>2</th><td>SORBS2</td><td>5</td><td>1</td></tr>\n",
       "\t<tr><th scope=row>3</th><td>ABCD4 </td><td>3</td><td>1</td></tr>\n",
       "\t<tr><th scope=row>4</th><td>BNIP2 </td><td>3</td><td>1</td></tr>\n",
       "\t<tr><th scope=row>5</th><td>FGFR2 </td><td>3</td><td>1</td></tr>\n",
       "\t<tr><th scope=row>6</th><td>MLH1  </td><td>3</td><td>3</td></tr>\n",
       "</tbody>\n",
       "</table>\n"
      ],
      "text/latex": [
       "A data.frame: 6 × 3\n",
       "\\begin{tabular}{r|lll}\n",
       "  & GeneSymbol & n & Tissues\\\\\n",
       "  & <fct> & <int> & <int>\\\\\n",
       "\\hline\n",
       "\t1 & KDM5C  & 8 & 8\\\\\n",
       "\t2 & SORBS2 & 5 & 1\\\\\n",
       "\t3 & ABCD4  & 3 & 1\\\\\n",
       "\t4 & BNIP2  & 3 & 1\\\\\n",
       "\t5 & FGFR2  & 3 & 1\\\\\n",
       "\t6 & MLH1   & 3 & 3\\\\\n",
       "\\end{tabular}\n"
      ],
      "text/markdown": [
       "\n",
       "A data.frame: 6 × 3\n",
       "\n",
       "| <!--/--> | GeneSymbol &lt;fct&gt; | n &lt;int&gt; | Tissues &lt;int&gt; |\n",
       "|---|---|---|---|\n",
       "| 1 | KDM5C  | 8 | 8 |\n",
       "| 2 | SORBS2 | 5 | 1 |\n",
       "| 3 | ABCD4  | 3 | 1 |\n",
       "| 4 | BNIP2  | 3 | 1 |\n",
       "| 5 | FGFR2  | 3 | 1 |\n",
       "| 6 | MLH1   | 3 | 3 |\n",
       "\n"
      ],
      "text/plain": [
       "  GeneSymbol n Tissues\n",
       "1 KDM5C      8 8      \n",
       "2 SORBS2     5 1      \n",
       "3 ABCD4      3 1      \n",
       "4 BNIP2      3 1      \n",
       "5 FGFR2      3 1      \n",
       "6 MLH1       3 3      "
      ]
     },
     "metadata": {},
     "output_type": "display_data"
    }
   ],
   "source": [
    "head(res)"
   ]
  },
  {
   "cell_type": "code",
   "execution_count": 6,
   "metadata": {
    "execution": {
     "iopub.execute_input": "2021-05-21T02:49:21.283106Z",
     "iopub.status.busy": "2021-05-21T02:49:21.281813Z",
     "iopub.status.idle": "2021-05-21T02:49:21.304036Z",
     "shell.execute_reply": "2021-05-21T02:49:21.303082Z"
    },
    "papermill": {
     "duration": 0.038897,
     "end_time": "2021-05-21T02:49:21.304173",
     "exception": false,
     "start_time": "2021-05-21T02:49:21.265276",
     "status": "completed"
    },
    "tags": []
   },
   "outputs": [],
   "source": [
    "#Pie chart - Number of patients with 0, 1, >1 events\n",
    "counts <- c(res %>% filter(Tissues == 1) %>% count() %>% as.numeric(),\n",
    "            res %>% filter(Tissues > 1 & Tissues < 6) %>% count() %>% as.numeric(),\n",
    "            res %>% filter(Tissues > 5) %>% count() %>% as.numeric())"
   ]
  },
  {
   "cell_type": "code",
   "execution_count": 7,
   "metadata": {
    "execution": {
     "iopub.execute_input": "2021-05-21T02:49:21.333631Z",
     "iopub.status.busy": "2021-05-21T02:49:21.332331Z",
     "iopub.status.idle": "2021-05-21T02:49:21.347044Z",
     "shell.execute_reply": "2021-05-21T02:49:21.345872Z"
    },
    "papermill": {
     "duration": 0.030965,
     "end_time": "2021-05-21T02:49:21.347171",
     "exception": false,
     "start_time": "2021-05-21T02:49:21.316206",
     "status": "completed"
    },
    "tags": []
   },
   "outputs": [
    {
     "data": {
      "text/html": [
       "<style>\n",
       ".list-inline {list-style: none; margin:0; padding: 0}\n",
       ".list-inline>li {display: inline-block}\n",
       ".list-inline>li:not(:last-child)::after {content: \"\\00b7\"; padding: 0 .5ex}\n",
       "</style>\n",
       "<ol class=list-inline><li>247</li><li>6</li><li>1</li></ol>\n"
      ],
      "text/latex": [
       "\\begin{enumerate*}\n",
       "\\item 247\n",
       "\\item 6\n",
       "\\item 1\n",
       "\\end{enumerate*}\n"
      ],
      "text/markdown": [
       "1. 247\n",
       "2. 6\n",
       "3. 1\n",
       "\n",
       "\n"
      ],
      "text/plain": [
       "[1] 247   6   1"
      ]
     },
     "metadata": {},
     "output_type": "display_data"
    }
   ],
   "source": [
    "counts"
   ]
  },
  {
   "cell_type": "code",
   "execution_count": 8,
   "metadata": {
    "execution": {
     "iopub.execute_input": "2021-05-21T02:49:21.376992Z",
     "iopub.status.busy": "2021-05-21T02:49:21.375625Z",
     "iopub.status.idle": "2021-05-21T02:49:21.387076Z",
     "shell.execute_reply": "2021-05-21T02:49:21.385963Z"
    },
    "papermill": {
     "duration": 0.027708,
     "end_time": "2021-05-21T02:49:21.387203",
     "exception": false,
     "start_time": "2021-05-21T02:49:21.359495",
     "status": "completed"
    },
    "tags": []
   },
   "outputs": [],
   "source": [
    "piecolors <- c(darkblue,red,orange)"
   ]
  },
  {
   "cell_type": "markdown",
   "metadata": {
    "papermill": {
     "duration": 0.012072,
     "end_time": "2021-05-21T02:49:21.411461",
     "exception": false,
     "start_time": "2021-05-21T02:49:21.399389",
     "status": "completed"
    },
    "tags": []
   },
   "source": [
    "Calculate the percentage for each category"
   ]
  },
  {
   "cell_type": "code",
   "execution_count": 9,
   "metadata": {
    "execution": {
     "iopub.execute_input": "2021-05-21T02:49:21.441811Z",
     "iopub.status.busy": "2021-05-21T02:49:21.440399Z",
     "iopub.status.idle": "2021-05-21T02:49:21.459817Z",
     "shell.execute_reply": "2021-05-21T02:49:21.458945Z"
    },
    "lines_to_next_cell": 2,
    "papermill": {
     "duration": 0.03589,
     "end_time": "2021-05-21T02:49:21.459953",
     "exception": false,
     "start_time": "2021-05-21T02:49:21.424063",
     "status": "completed"
    },
    "tags": []
   },
   "outputs": [],
   "source": [
    "counts_labels <- round(counts/sum(counts) * 100, 1)\n",
    "counts_labels <- paste(\"(\",counts_labels,\")\", \"%\", sep=\"\")\n",
    "counts_labels <- paste(counts, counts_labels,sep =\" \")"
   ]
  },
  {
   "cell_type": "code",
   "execution_count": 10,
   "metadata": {
    "execution": {
     "iopub.execute_input": "2021-05-21T02:49:21.489086Z",
     "iopub.status.busy": "2021-05-21T02:49:21.487820Z",
     "iopub.status.idle": "2021-05-21T02:49:21.625477Z",
     "shell.execute_reply": "2021-05-21T02:49:21.624959Z"
    },
    "papermill": {
     "duration": 0.15363,
     "end_time": "2021-05-21T02:49:21.625595",
     "exception": false,
     "start_time": "2021-05-21T02:49:21.471965",
     "status": "completed"
    },
    "tags": []
   },
   "outputs": [
    {
     "data": {
      "text/html": [
       "<strong>png:</strong> 2"
      ],
      "text/latex": [
       "\\textbf{png:} 2"
      ],
      "text/markdown": [
       "**png:** 2"
      ],
      "text/plain": [
       "png \n",
       "  2 "
      ]
     },
     "metadata": {},
     "output_type": "display_data"
    },
    {
     "name": "stderr",
     "output_type": "stream",
     "text": [
      "Wrote file to ../pdf/tissue-piechart.pdf\n",
      "\n"
     ]
    },
    {
     "data": {
      "image/png": "[encoded data removed]",
      "text/plain": [
       "Plot with title “”"
      ]
     },
     "metadata": {
      "image/png": {
       "height": 420,
       "width": 420
      }
     },
     "output_type": "display_data"
    }
   ],
   "source": [
    "pdf(\"../pdf/tissue-piechart.pdf\")\n",
    "pie(counts, main=\"\", col=piecolors, labels=counts_labels, cex=1.5)\n",
    "# Create a legend at the right   \n",
    "legend(-.425,0.6, c(\"1 tissue\",\"2-5 tissues\",\"> 5 tissues\"), cex=1.5, \n",
    "       fill=piecolors, bg=\"white\")\n",
    "dev.off()\n",
    "message(\"Wrote file to ../pdf/tissue-piechart.pdf\")\n",
    "pie(counts, main=\"\", col=piecolors, labels=counts_labels,\n",
    "    cex=1.5)\n",
    "# Create a legend at the right   \n",
    "legend(-.425,0.6, c(\"1 tissue\",\"2-5 tissues\",\"> 5 tissues\"), cex=1.5, \n",
    "       fill=piecolors, bg=\"white\")"
   ]
  },
  {
   "cell_type": "markdown",
   "metadata": {
    "papermill": {
     "duration": 0.013957,
     "end_time": "2021-05-21T02:49:21.653789",
     "exception": false,
     "start_time": "2021-05-21T02:49:21.639832",
     "status": "completed"
    },
    "tags": []
   },
   "source": [
    "### Appendix - Metadata\n",
    "\n",
    "For replicability and reproducibility purposes, we also print the following metadata:\n",
    "\n",
    "1. Checksums of **'artefacts'**, files generated during the analysis and stored in the folder directory **`data`**\n",
    "2. List of environment metadata, dependencies, versions of libraries using `utils::sessionInfo()` and [`devtools::session_info()`](https://devtools.r-lib.org/reference/session_info.html)"
   ]
  },
  {
   "cell_type": "markdown",
   "metadata": {
    "papermill": {
     "duration": 0.014434,
     "end_time": "2021-05-21T02:49:21.682295",
     "exception": false,
     "start_time": "2021-05-21T02:49:21.667861",
     "status": "completed"
    },
    "tags": []
   },
   "source": [
    "### Appendix 1. Checksums with the sha256 algorithm"
   ]
  },
  {
   "cell_type": "code",
   "execution_count": 11,
   "metadata": {
    "execution": {
     "iopub.execute_input": "2021-05-21T02:49:21.716088Z",
     "iopub.status.busy": "2021-05-21T02:49:21.714920Z",
     "iopub.status.idle": "2021-05-21T02:49:21.726671Z",
     "shell.execute_reply": "2021-05-21T02:49:21.725592Z"
    },
    "papermill": {
     "duration": 0.030333,
     "end_time": "2021-05-21T02:49:21.726807",
     "exception": false,
     "start_time": "2021-05-21T02:49:21.696474",
     "status": "completed"
    },
    "tags": []
   },
   "outputs": [],
   "source": [
    "notebookid   = \"create_tissue_piechart_figure\""
   ]
  },
  {
   "cell_type": "markdown",
   "metadata": {
    "papermill": {
     "duration": 0.014554,
     "end_time": "2021-05-21T02:49:21.755810",
     "exception": false,
     "start_time": "2021-05-21T02:49:21.741256",
     "status": "completed"
    },
    "tags": []
   },
   "source": [
    "### Appendix 2. Libraries metadata"
   ]
  },
  {
   "cell_type": "code",
   "execution_count": 12,
   "metadata": {
    "execution": {
     "iopub.execute_input": "2021-05-21T02:49:21.790027Z",
     "iopub.status.busy": "2021-05-21T02:49:21.788930Z",
     "iopub.status.idle": "2021-05-21T02:49:22.429522Z",
     "shell.execute_reply": "2021-05-21T02:49:22.428314Z"
    },
    "papermill": {
     "duration": 0.659332,
     "end_time": "2021-05-21T02:49:22.429726",
     "exception": false,
     "start_time": "2021-05-21T02:49:21.770394",
     "status": "completed"
    },
    "tags": []
   },
   "outputs": [
    {
     "name": "stderr",
     "output_type": "stream",
     "text": [
      "Saving `devtools::session_info()` objects in ../data/devtools_session_info.rds  ..\n",
      "\n",
      "Done!\n",
      "\n",
      "\n",
      "Saving `utils::sessionInfo()` objects in ../data/utils_session_info.rds  ..\n",
      "\n",
      "Done!\n",
      "\n",
      "\n"
     ]
    },
    {
     "data": {
      "text/plain": [
       " setting  value                       \n",
       " version  R version 4.0.5 (2021-03-31)\n",
       " os       Ubuntu 18.04.4 LTS          \n",
       " system   x86_64, linux-gnu           \n",
       " ui       X11                         \n",
       " language en_US.UTF-8                 \n",
       " collate  en_US.UTF-8                 \n",
       " ctype    en_US.UTF-8                 \n",
       " tz       Etc/UTC                     \n",
       " date     2021-05-21                  "
      ]
     },
     "metadata": {},
     "output_type": "display_data"
    },
    {
     "data": {
      "text/html": [
       "<table class=\"dataframe\">\n",
       "<caption>A packages_info: 1 × 11</caption>\n",
       "<thead>\n",
       "\t<tr><th></th><th scope=col>package</th><th scope=col>ondiskversion</th><th scope=col>loadedversion</th><th scope=col>path</th><th scope=col>loadedpath</th><th scope=col>attached</th><th scope=col>is_base</th><th scope=col>date</th><th scope=col>source</th><th scope=col>md5ok</th><th scope=col>library</th></tr>\n",
       "\t<tr><th></th><th scope=col>&lt;chr&gt;</th><th scope=col>&lt;chr&gt;</th><th scope=col>&lt;chr&gt;</th><th scope=col>&lt;chr&gt;</th><th scope=col>&lt;chr&gt;</th><th scope=col>&lt;lgl&gt;</th><th scope=col>&lt;lgl&gt;</th><th scope=col>&lt;chr&gt;</th><th scope=col>&lt;chr&gt;</th><th scope=col>&lt;lgl&gt;</th><th scope=col>&lt;fct&gt;</th></tr>\n",
       "</thead>\n",
       "<tbody>\n",
       "\t<tr><th scope=row>dplyr</th><td>dplyr</td><td>1.0.6</td><td>1.0.6</td><td>/opt/conda/envs/sbas/lib/R/library/dplyr</td><td>/opt/conda/envs/sbas/lib/R/library/dplyr</td><td>TRUE</td><td>FALSE</td><td>2021-05-05</td><td>CRAN (R 4.0.3)</td><td>NA</td><td>/opt/conda/envs/sbas/lib/R/library</td></tr>\n",
       "</tbody>\n",
       "</table>\n"
      ],
      "text/latex": [
       "A packages\\_info: 1 × 11\n",
       "\\begin{tabular}{r|lllllllllll}\n",
       "  & package & ondiskversion & loadedversion & path & loadedpath & attached & is\\_base & date & source & md5ok & library\\\\\n",
       "  & <chr> & <chr> & <chr> & <chr> & <chr> & <lgl> & <lgl> & <chr> & <chr> & <lgl> & <fct>\\\\\n",
       "\\hline\n",
       "\tdplyr & dplyr & 1.0.6 & 1.0.6 & /opt/conda/envs/sbas/lib/R/library/dplyr & /opt/conda/envs/sbas/lib/R/library/dplyr & TRUE & FALSE & 2021-05-05 & CRAN (R 4.0.3) & NA & /opt/conda/envs/sbas/lib/R/library\\\\\n",
       "\\end{tabular}\n"
      ],
      "text/markdown": [
       "\n",
       "A packages_info: 1 × 11\n",
       "\n",
       "| <!--/--> | package &lt;chr&gt; | ondiskversion &lt;chr&gt; | loadedversion &lt;chr&gt; | path &lt;chr&gt; | loadedpath &lt;chr&gt; | attached &lt;lgl&gt; | is_base &lt;lgl&gt; | date &lt;chr&gt; | source &lt;chr&gt; | md5ok &lt;lgl&gt; | library &lt;fct&gt; |\n",
       "|---|---|---|---|---|---|---|---|---|---|---|---|\n",
       "| dplyr | dplyr | 1.0.6 | 1.0.6 | /opt/conda/envs/sbas/lib/R/library/dplyr | /opt/conda/envs/sbas/lib/R/library/dplyr | TRUE | FALSE | 2021-05-05 | CRAN (R 4.0.3) | NA | /opt/conda/envs/sbas/lib/R/library |\n",
       "\n"
      ],
      "text/plain": [
       "      package ondiskversion loadedversion\n",
       "dplyr dplyr   1.0.6         1.0.6        \n",
       "      path                                    \n",
       "dplyr /opt/conda/envs/sbas/lib/R/library/dplyr\n",
       "      loadedpath                               attached is_base date      \n",
       "dplyr /opt/conda/envs/sbas/lib/R/library/dplyr TRUE     FALSE   2021-05-05\n",
       "      source         md5ok library                           \n",
       "dplyr CRAN (R 4.0.3) NA    /opt/conda/envs/sbas/lib/R/library"
      ]
     },
     "metadata": {},
     "output_type": "display_data"
    }
   ],
   "source": [
    "dev_session_info   <- devtools::session_info()\n",
    "utils_session_info <- utils::sessionInfo()\n",
    "\n",
    "message(\"Saving `devtools::session_info()` objects in ../data/devtools_session_info.rds  ..\")\n",
    "saveRDS(dev_session_info, file = paste0(\"../data/\", notebookid, \"_devtools_session_info.rds\"))\n",
    "message(\"Done!\\n\")\n",
    "\n",
    "message(\"Saving `utils::sessionInfo()` objects in ../data/utils_session_info.rds  ..\")\n",
    "saveRDS(utils_session_info, file = paste0(\"../data/\", notebookid ,\"_utils_info.rds\"))\n",
    "message(\"Done!\\n\")\n",
    "\n",
    "dev_session_info$platform\n",
    "dev_session_info$packages[dev_session_info$packages$attached==TRUE, ]"
   ]
  },
  {
   "cell_type": "code",
   "execution_count": 13,
   "metadata": {
    "execution": {
     "iopub.execute_input": "2021-05-21T02:49:22.467189Z",
     "iopub.status.busy": "2021-05-21T02:49:22.466021Z",
     "iopub.status.idle": "2021-05-21T02:49:22.483346Z",
     "shell.execute_reply": "2021-05-21T02:49:22.481891Z"
    },
    "papermill": {
     "duration": 0.037183,
     "end_time": "2021-05-21T02:49:22.483478",
     "exception": false,
     "start_time": "2021-05-21T02:49:22.446295",
     "status": "completed"
    },
    "tags": []
   },
   "outputs": [
    {
     "data": {
      "text/plain": [
       "Time difference of 2.259491 secs"
      ]
     },
     "metadata": {},
     "output_type": "display_data"
    }
   ],
   "source": [
    "end_time <- Sys.time()\n",
    "end_time - start_time"
   ]
  }
 ],
 "metadata": {
  "jupytext": {
   "cell_metadata_filter": "-all",
   "encoding": "# -*- coding: utf-8 -*-",
   "main_language": "R",
   "notebook_metadata_filter": "-all"
  },
  "kernelspec": {
   "display_name": "R",
   "language": "R",
   "name": "ir"
  },
  "language_info": {
   "codemirror_mode": "r",
   "file_extension": ".r",
   "mimetype": "text/x-r-source",
   "name": "R",
   "pygments_lexer": "r",
   "version": "3.6.1"
  },
  "papermill": {
   "duration": 3.391865,
   "end_time": "2021-05-21T02:49:22.610419",
   "environment_variables": {},
   "exception": null,
   "input_path": "tissue_piechart.ipynb",
   "output_path": "tissue_piechart.ipynb",
   "parameters": {},
   "start_time": "2021-05-21T02:49:19.218554",
   "version": "2.1.2"
  }
 },
 "nbformat": 4,
 "nbformat_minor": 5
}
