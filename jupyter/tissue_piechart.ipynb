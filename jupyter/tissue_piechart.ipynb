{
 "cells": [
  {
   "cell_type": "markdown",
   "metadata": {},
   "source": [
    "# Figure Generation Notebook - Tissue Piechart figure\n",
    "\n",
    "This notebook generates a single figure, a tissue piechart figure, **tissue-piechart.pdf**."
   ]
  },
  {
   "cell_type": "code",
   "execution_count": 1,
   "metadata": {},
   "outputs": [],
   "source": [
    "suppressMessages({\n",
    "    options(warn = -1) \n",
    "    library(dplyr)\n",
    "})"
   ]
  },
  {
   "cell_type": "markdown",
   "metadata": {},
   "source": [
    "### 1. Read in all alternatively spliced events"
   ]
  },
  {
   "cell_type": "code",
   "execution_count": 2,
   "metadata": {},
   "outputs": [
    {
     "data": {
      "text/html": [
       "<table>\n",
       "<caption>A data.frame: 2 × 15</caption>\n",
       "<thead>\n",
       "\t<tr><th></th><th scope=col>GeneJunction</th><th scope=col>ASE</th><th scope=col>ASE_IDX</th><th scope=col>Tissue</th><th scope=col>counts</th><th scope=col>Display</th><th scope=col>GeneSymbol</th><th scope=col>GeneID</th><th scope=col>chr</th><th scope=col>logFC</th><th scope=col>AveExpr</th><th scope=col>t</th><th scope=col>PValue</th><th scope=col>AdjPVal</th><th scope=col>B</th></tr>\n",
       "\t<tr><th></th><th scope=col>&lt;chr&gt;</th><th scope=col>&lt;chr&gt;</th><th scope=col>&lt;int&gt;</th><th scope=col>&lt;chr&gt;</th><th scope=col>&lt;int&gt;</th><th scope=col>&lt;chr&gt;</th><th scope=col>&lt;chr&gt;</th><th scope=col>&lt;chr&gt;</th><th scope=col>&lt;chr&gt;</th><th scope=col>&lt;dbl&gt;</th><th scope=col>&lt;dbl&gt;</th><th scope=col>&lt;dbl&gt;</th><th scope=col>&lt;dbl&gt;</th><th scope=col>&lt;dbl&gt;</th><th scope=col>&lt;dbl&gt;</th></tr>\n",
       "</thead>\n",
       "<tbody>\n",
       "\t<tr><th scope=row>1</th><td>XIST-2253</td><td>A3SS</td><td>2253</td><td>adipose_subcutaneous</td><td>3</td><td>Adipose (sc)</td><td>XIST</td><td>ENSG00000229807.11</td><td>chrX</td><td>-4.410265</td><td>3.196555</td><td>-35.99306</td><td>1.037929e-151</td><td>7.98686e-148</td><td>303.0562</td></tr>\n",
       "\t<tr><th scope=row>2</th><td>XIST-2252</td><td>A3SS</td><td>2252</td><td>adipose_subcutaneous</td><td>3</td><td>Adipose (sc)</td><td>XIST</td><td>ENSG00000229807.11</td><td>chrX</td><td>-2.409615</td><td>3.647928</td><td>-21.32460</td><td> 1.906043e-75</td><td> 7.33350e-72</td><td>152.3585</td></tr>\n",
       "</tbody>\n",
       "</table>\n"
      ],
      "text/latex": [
       "A data.frame: 2 × 15\n",
       "\\begin{tabular}{r|lllllllllllllll}\n",
       "  & GeneJunction & ASE & ASE\\_IDX & Tissue & counts & Display & GeneSymbol & GeneID & chr & logFC & AveExpr & t & PValue & AdjPVal & B\\\\\n",
       "  & <chr> & <chr> & <int> & <chr> & <int> & <chr> & <chr> & <chr> & <chr> & <dbl> & <dbl> & <dbl> & <dbl> & <dbl> & <dbl>\\\\\n",
       "\\hline\n",
       "\t1 & XIST-2253 & A3SS & 2253 & adipose\\_subcutaneous & 3 & Adipose (sc) & XIST & ENSG00000229807.11 & chrX & -4.410265 & 3.196555 & -35.99306 & 1.037929e-151 & 7.98686e-148 & 303.0562\\\\\n",
       "\t2 & XIST-2252 & A3SS & 2252 & adipose\\_subcutaneous & 3 & Adipose (sc) & XIST & ENSG00000229807.11 & chrX & -2.409615 & 3.647928 & -21.32460 &  1.906043e-75 &  7.33350e-72 & 152.3585\\\\\n",
       "\\end{tabular}\n"
      ],
      "text/markdown": [
       "\n",
       "A data.frame: 2 × 15\n",
       "\n",
       "| <!--/--> | GeneJunction &lt;chr&gt; | ASE &lt;chr&gt; | ASE_IDX &lt;int&gt; | Tissue &lt;chr&gt; | counts &lt;int&gt; | Display &lt;chr&gt; | GeneSymbol &lt;chr&gt; | GeneID &lt;chr&gt; | chr &lt;chr&gt; | logFC &lt;dbl&gt; | AveExpr &lt;dbl&gt; | t &lt;dbl&gt; | PValue &lt;dbl&gt; | AdjPVal &lt;dbl&gt; | B &lt;dbl&gt; |\n",
       "|---|---|---|---|---|---|---|---|---|---|---|---|---|---|---|---|\n",
       "| 1 | XIST-2253 | A3SS | 2253 | adipose_subcutaneous | 3 | Adipose (sc) | XIST | ENSG00000229807.11 | chrX | -4.410265 | 3.196555 | -35.99306 | 1.037929e-151 | 7.98686e-148 | 303.0562 |\n",
       "| 2 | XIST-2252 | A3SS | 2252 | adipose_subcutaneous | 3 | Adipose (sc) | XIST | ENSG00000229807.11 | chrX | -2.409615 | 3.647928 | -21.32460 |  1.906043e-75 |  7.33350e-72 | 152.3585 |\n",
       "\n"
      ],
      "text/plain": [
       "  GeneJunction ASE  ASE_IDX Tissue               counts Display      GeneSymbol\n",
       "1 XIST-2253    A3SS 2253    adipose_subcutaneous 3      Adipose (sc) XIST      \n",
       "2 XIST-2252    A3SS 2252    adipose_subcutaneous 3      Adipose (sc) XIST      \n",
       "  GeneID             chr  logFC     AveExpr  t         PValue       \n",
       "1 ENSG00000229807.11 chrX -4.410265 3.196555 -35.99306 1.037929e-151\n",
       "2 ENSG00000229807.11 chrX -2.409615 3.647928 -21.32460  1.906043e-75\n",
       "  AdjPVal      B       \n",
       "1 7.98686e-148 303.0562\n",
       "2  7.33350e-72 152.3585"
      ]
     },
     "metadata": {},
     "output_type": "display_data"
    }
   ],
   "source": [
    "filename <- \"../data/gene_as.tsv\"\n",
    "gene_as <- read.table(filename, header=TRUE, sep=\"\\t\",\n",
    "                               skipNul=FALSE, stringsAsFactors = FALSE)\n",
    "head(gene_as,2)"
   ]
  },
  {
   "cell_type": "markdown",
   "metadata": {},
   "source": [
    "### 2. Pie chart\n",
    "Show recurrent vs unique splicing events with a piechart."
   ]
  },
  {
   "cell_type": "markdown",
   "metadata": {},
   "source": [
    "Tissue specific 1 tissue\n",
    "Tissue group 2-5 tissues\n",
    "Recurrent > 5 tissues"
   ]
  },
  {
   "cell_type": "code",
   "execution_count": 3,
   "metadata": {},
   "outputs": [],
   "source": [
    "# Colors for uniformity\n",
    "# Let's use the following colors for uniformity\n",
    "darkblue <- \"#3c5488\"\n",
    "red <- \"#e64b35\"\n",
    "nearlyblack <- \"#040C04\"\n",
    "purple <- \"#790079\"\n",
    "orange = \"#ff9900\""
   ]
  },
  {
   "cell_type": "code",
   "execution_count": 4,
   "metadata": {},
   "outputs": [
    {
     "data": {
      "text/html": [
       "2386"
      ],
      "text/latex": [
       "2386"
      ],
      "text/markdown": [
       "2386"
      ],
      "text/plain": [
       "[1] 2386"
      ]
     },
     "metadata": {},
     "output_type": "display_data"
    }
   ],
   "source": [
    "# Count most frequent spliced genes\n",
    "res <- gene_as %>% group_by(GeneSymbol) %>% count(GeneSymbol) %>% arrange(desc(n)) %>% as.data.frame()\n",
    "res$GeneSymbol <- factor(res$GeneSymbol, levels = res$GeneSymbol)\n",
    "length(res$GeneSymbol)\n",
    "\n",
    "#Add number of tissues\n",
    "nTissues <- rep(NA, length(res))\n",
    "for (i in 1:nrow(res)) {\n",
    "  df_gene <- gene_as %>% filter(GeneSymbol == res$GeneSymbol[i])\n",
    "  nTissues[i] <- length(unique(df_gene$Tissue))\n",
    "}\n",
    "res$Tissues <- nTissues"
   ]
  },
  {
   "cell_type": "code",
   "execution_count": 5,
   "metadata": {},
   "outputs": [
    {
     "data": {
      "text/html": [
       "<table>\n",
       "<caption>A data.frame: 6 × 3</caption>\n",
       "<thead>\n",
       "\t<tr><th></th><th scope=col>GeneSymbol</th><th scope=col>n</th><th scope=col>Tissues</th></tr>\n",
       "\t<tr><th></th><th scope=col>&lt;fct&gt;</th><th scope=col>&lt;int&gt;</th><th scope=col>&lt;int&gt;</th></tr>\n",
       "</thead>\n",
       "<tbody>\n",
       "\t<tr><th scope=row>1</th><td>XIST </td><td>229</td><td>39</td></tr>\n",
       "\t<tr><th scope=row>2</th><td>DDX3X</td><td> 70</td><td>17</td></tr>\n",
       "\t<tr><th scope=row>3</th><td>KDM5C</td><td> 44</td><td>32</td></tr>\n",
       "\t<tr><th scope=row>4</th><td>ZFX  </td><td> 41</td><td>25</td></tr>\n",
       "\t<tr><th scope=row>5</th><td>KDM6A</td><td> 25</td><td>22</td></tr>\n",
       "\t<tr><th scope=row>6</th><td>MYB  </td><td> 20</td><td> 1</td></tr>\n",
       "</tbody>\n",
       "</table>\n"
      ],
      "text/latex": [
       "A data.frame: 6 × 3\n",
       "\\begin{tabular}{r|lll}\n",
       "  & GeneSymbol & n & Tissues\\\\\n",
       "  & <fct> & <int> & <int>\\\\\n",
       "\\hline\n",
       "\t1 & XIST  & 229 & 39\\\\\n",
       "\t2 & DDX3X &  70 & 17\\\\\n",
       "\t3 & KDM5C &  44 & 32\\\\\n",
       "\t4 & ZFX   &  41 & 25\\\\\n",
       "\t5 & KDM6A &  25 & 22\\\\\n",
       "\t6 & MYB   &  20 &  1\\\\\n",
       "\\end{tabular}\n"
      ],
      "text/markdown": [
       "\n",
       "A data.frame: 6 × 3\n",
       "\n",
       "| <!--/--> | GeneSymbol &lt;fct&gt; | n &lt;int&gt; | Tissues &lt;int&gt; |\n",
       "|---|---|---|---|\n",
       "| 1 | XIST  | 229 | 39 |\n",
       "| 2 | DDX3X |  70 | 17 |\n",
       "| 3 | KDM5C |  44 | 32 |\n",
       "| 4 | ZFX   |  41 | 25 |\n",
       "| 5 | KDM6A |  25 | 22 |\n",
       "| 6 | MYB   |  20 |  1 |\n",
       "\n"
      ],
      "text/plain": [
       "  GeneSymbol n   Tissues\n",
       "1 XIST       229 39     \n",
       "2 DDX3X       70 17     \n",
       "3 KDM5C       44 32     \n",
       "4 ZFX         41 25     \n",
       "5 KDM6A       25 22     \n",
       "6 MYB         20  1     "
      ]
     },
     "metadata": {},
     "output_type": "display_data"
    }
   ],
   "source": [
    "head(res)"
   ]
  },
  {
   "cell_type": "code",
   "execution_count": 6,
   "metadata": {},
   "outputs": [],
   "source": [
    "#Pie chart - Number of patients with 0, 1, >1 events\n",
    "counts <- c(res %>% filter(Tissues == 1) %>% count() %>% as.numeric(),\n",
    "            res %>% filter(Tissues > 1 & Tissues < 6) %>% count() %>% as.numeric(),\n",
    "            res %>% filter(Tissues > 5) %>% count() %>% as.numeric())"
   ]
  },
  {
   "cell_type": "code",
   "execution_count": 7,
   "metadata": {},
   "outputs": [
    {
     "data": {
      "text/html": [
       "<style>\n",
       ".list-inline {list-style: none; margin:0; padding: 0}\n",
       ".list-inline>li {display: inline-block}\n",
       ".list-inline>li:not(:last-child)::after {content: \"\\00b7\"; padding: 0 .5ex}\n",
       "</style>\n",
       "<ol class=list-inline><li>2241</li><li>136</li><li>9</li></ol>\n"
      ],
      "text/latex": [
       "\\begin{enumerate*}\n",
       "\\item 2241\n",
       "\\item 136\n",
       "\\item 9\n",
       "\\end{enumerate*}\n"
      ],
      "text/markdown": [
       "1. 2241\n",
       "2. 136\n",
       "3. 9\n",
       "\n",
       "\n"
      ],
      "text/plain": [
       "[1] 2241  136    9"
      ]
     },
     "metadata": {},
     "output_type": "display_data"
    }
   ],
   "source": [
    "counts"
   ]
  },
  {
   "cell_type": "code",
   "execution_count": 8,
   "metadata": {},
   "outputs": [],
   "source": [
    "piecolors <- c(darkblue,red,orange)"
   ]
  },
  {
   "cell_type": "markdown",
   "metadata": {},
   "source": [
    "Calculate the percentage for each category"
   ]
  },
  {
   "cell_type": "code",
   "execution_count": 9,
   "metadata": {
    "lines_to_next_cell": 2
   },
   "outputs": [],
   "source": [
    "counts_labels <- round(counts/sum(counts) * 100, 1)\n",
    "counts_labels <- paste(\"(\",counts_labels,\")\", \"%\", sep=\"\")\n",
    "counts_labels <- paste(counts, counts_labels,sep =\" \")"
   ]
  },
  {
   "cell_type": "code",
   "execution_count": 10,
   "metadata": {},
   "outputs": [
    {
     "data": {
      "text/html": [
       "<strong>png:</strong> 2"
      ],
      "text/latex": [
       "\\textbf{png:} 2"
      ],
      "text/markdown": [
       "**png:** 2"
      ],
      "text/plain": [
       "png \n",
       "  2 "
      ]
     },
     "metadata": {},
     "output_type": "display_data"
    },
    {
     "name": "stderr",
     "output_type": "stream",
     "text": [
      "Wrote file to ../pdf/tissue-piechart.pdf\n",
      "\n"
     ]
    },
    {
     "data": {
      "image/png": "[encoded data removed]",
      "text/plain": [
       "Plot with title “”"
      ]
     },
     "metadata": {
      "image/png": {
       "height": 420,
       "width": 420
      },
      "text/plain": {
       "height": 420,
       "width": 420
      }
     },
     "output_type": "display_data"
    }
   ],
   "source": [
    "pdf(\"../pdf/tissue-piechart.pdf\")\n",
    "pie(counts, main=\"\", col=piecolors, labels=counts_labels, cex=1.5)\n",
    "# Create a legend at the right   \n",
    "legend(-.425,0.6, c(\"1 tissue\",\"2-5 tissues\",\"> 5 tissues\"), cex=1.5, \n",
    "       fill=piecolors, bg=\"white\")\n",
    "dev.off()\n",
    "message(\"Wrote file to ../pdf/tissue-piechart.pdf\")\n",
    "pie(counts, main=\"\", col=piecolors, labels=counts_labels,\n",
    "    cex=1.5)\n",
    "# Create a legend at the right   \n",
    "legend(-.425,0.6, c(\"1 tissue\",\"2-5 tissues\",\"> 5 tissues\"), cex=1.5, \n",
    "       fill=piecolors, bg=\"white\")"
   ]
  },
  {
   "cell_type": "markdown",
   "metadata": {},
   "source": [
    "### Appendix - Metadata\n",
    "\n",
    "For replicability and reproducibility purposes, we also print the following metadata:\n",
    "\n",
    "1. Checksums of **'artefacts'**, files generated during the analysis and stored in the folder directory **`data`**\n",
    "2. List of environment metadata, dependencies, versions of libraries using `utils::sessionInfo()` and [`devtools::session_info()`](https://devtools.r-lib.org/reference/session_info.html)"
   ]
  },
  {
   "cell_type": "markdown",
   "metadata": {},
   "source": [
    "### Appendix 1. Checksums with the sha256 algorithm"
   ]
  },
  {
   "cell_type": "code",
   "execution_count": 11,
   "metadata": {},
   "outputs": [],
   "source": [
    "notebookid   = \"create_tissue_piechart_figure\""
   ]
  },
  {
   "cell_type": "markdown",
   "metadata": {},
   "source": [
    "### Appendix 2. Libraries metadata"
   ]
  },
  {
   "cell_type": "code",
   "execution_count": 12,
   "metadata": {},
   "outputs": [
    {
     "name": "stderr",
     "output_type": "stream",
     "text": [
      "Saving `devtools::session_info()` objects in ../metadata/devtools_session_info.rds  ..\n",
      "\n",
      "Done!\n",
      "\n",
      "\n",
      "Saving `utils::sessionInfo()` objects in ../metadata/utils_session_info.rds  ..\n",
      "\n",
      "Done!\n",
      "\n",
      "\n"
     ]
    },
    {
     "data": {
      "text/plain": [
       " setting  value                       \n",
       " version  R version 3.6.1 (2019-07-05)\n",
       " os       Ubuntu 18.04.4 LTS          \n",
       " system   x86_64, linux-gnu           \n",
       " ui       X11                         \n",
       " language en_US.UTF-8                 \n",
       " collate  en_US.UTF-8                 \n",
       " ctype    en_US.UTF-8                 \n",
       " tz       Etc/UTC                     \n",
       " date     2020-09-02                  "
      ]
     },
     "metadata": {},
     "output_type": "display_data"
    },
    {
     "data": {
      "text/html": [
       "<table>\n",
       "<caption>A packages_info: 2 × 11</caption>\n",
       "<thead>\n",
       "\t<tr><th></th><th scope=col>package</th><th scope=col>ondiskversion</th><th scope=col>loadedversion</th><th scope=col>path</th><th scope=col>loadedpath</th><th scope=col>attached</th><th scope=col>is_base</th><th scope=col>date</th><th scope=col>source</th><th scope=col>md5ok</th><th scope=col>library</th></tr>\n",
       "\t<tr><th></th><th scope=col>&lt;chr&gt;</th><th scope=col>&lt;chr&gt;</th><th scope=col>&lt;chr&gt;</th><th scope=col>&lt;chr&gt;</th><th scope=col>&lt;chr&gt;</th><th scope=col>&lt;lgl&gt;</th><th scope=col>&lt;lgl&gt;</th><th scope=col>&lt;chr&gt;</th><th scope=col>&lt;chr&gt;</th><th scope=col>&lt;lgl&gt;</th><th scope=col>&lt;fct&gt;</th></tr>\n",
       "</thead>\n",
       "<tbody>\n",
       "\t<tr><th scope=row>dplyr</th><td>dplyr</td><td>0.8.5</td><td>0.8.5</td><td>/opt/conda/lib/R/library/dplyr</td><td>/opt/conda/lib/R/library/dplyr</td><td>TRUE</td><td>FALSE</td><td>2020-03-07</td><td>CRAN (R 3.6.1)</td><td>NA</td><td>/opt/conda/lib/R/library</td></tr>\n",
       "\t<tr><th scope=row>repr</th><td>repr </td><td>1.1.0</td><td>1.1.0</td><td>/opt/conda/lib/R/library/repr </td><td>/opt/conda/lib/R/library/repr </td><td>TRUE</td><td>FALSE</td><td>2020-01-28</td><td>CRAN (R 3.6.3)</td><td>NA</td><td>/opt/conda/lib/R/library</td></tr>\n",
       "</tbody>\n",
       "</table>\n"
      ],
      "text/latex": [
       "A packages\\_info: 2 × 11\n",
       "\\begin{tabular}{r|lllllllllll}\n",
       "  & package & ondiskversion & loadedversion & path & loadedpath & attached & is\\_base & date & source & md5ok & library\\\\\n",
       "  & <chr> & <chr> & <chr> & <chr> & <chr> & <lgl> & <lgl> & <chr> & <chr> & <lgl> & <fct>\\\\\n",
       "\\hline\n",
       "\tdplyr & dplyr & 0.8.5 & 0.8.5 & /opt/conda/lib/R/library/dplyr & /opt/conda/lib/R/library/dplyr & TRUE & FALSE & 2020-03-07 & CRAN (R 3.6.1) & NA & /opt/conda/lib/R/library\\\\\n",
       "\trepr & repr  & 1.1.0 & 1.1.0 & /opt/conda/lib/R/library/repr  & /opt/conda/lib/R/library/repr  & TRUE & FALSE & 2020-01-28 & CRAN (R 3.6.3) & NA & /opt/conda/lib/R/library\\\\\n",
       "\\end{tabular}\n"
      ],
      "text/markdown": [
       "\n",
       "A packages_info: 2 × 11\n",
       "\n",
       "| <!--/--> | package &lt;chr&gt; | ondiskversion &lt;chr&gt; | loadedversion &lt;chr&gt; | path &lt;chr&gt; | loadedpath &lt;chr&gt; | attached &lt;lgl&gt; | is_base &lt;lgl&gt; | date &lt;chr&gt; | source &lt;chr&gt; | md5ok &lt;lgl&gt; | library &lt;fct&gt; |\n",
       "|---|---|---|---|---|---|---|---|---|---|---|---|\n",
       "| dplyr | dplyr | 0.8.5 | 0.8.5 | /opt/conda/lib/R/library/dplyr | /opt/conda/lib/R/library/dplyr | TRUE | FALSE | 2020-03-07 | CRAN (R 3.6.1) | NA | /opt/conda/lib/R/library |\n",
       "| repr | repr  | 1.1.0 | 1.1.0 | /opt/conda/lib/R/library/repr  | /opt/conda/lib/R/library/repr  | TRUE | FALSE | 2020-01-28 | CRAN (R 3.6.3) | NA | /opt/conda/lib/R/library |\n",
       "\n"
      ],
      "text/plain": [
       "      package ondiskversion loadedversion path                          \n",
       "dplyr dplyr   0.8.5         0.8.5         /opt/conda/lib/R/library/dplyr\n",
       "repr  repr    1.1.0         1.1.0         /opt/conda/lib/R/library/repr \n",
       "      loadedpath                     attached is_base date       source        \n",
       "dplyr /opt/conda/lib/R/library/dplyr TRUE     FALSE   2020-03-07 CRAN (R 3.6.1)\n",
       "repr  /opt/conda/lib/R/library/repr  TRUE     FALSE   2020-01-28 CRAN (R 3.6.3)\n",
       "      md5ok library                 \n",
       "dplyr NA    /opt/conda/lib/R/library\n",
       "repr  NA    /opt/conda/lib/R/library"
      ]
     },
     "metadata": {},
     "output_type": "display_data"
    }
   ],
   "source": [
    "dev_session_info   <- devtools::session_info()\n",
    "utils_session_info <- utils::sessionInfo()\n",
    "\n",
    "message(\"Saving `devtools::session_info()` objects in ../metadata/devtools_session_info.rds  ..\")\n",
    "saveRDS(dev_session_info, file = paste0(\"../metadata/\", notebookid, \"_devtools_session_info.rds\"))\n",
    "message(\"Done!\\n\")\n",
    "\n",
    "message(\"Saving `utils::sessionInfo()` objects in ../metadata/utils_session_info.rds  ..\")\n",
    "saveRDS(utils_session_info, file = paste0(\"../metadata/\", notebookid ,\"_utils_info.rds\"))\n",
    "message(\"Done!\\n\")\n",
    "\n",
    "dev_session_info$platform\n",
    "dev_session_info$packages[dev_session_info$packages$attached==TRUE, ]"
   ]
  }
 ],
 "metadata": {
  "jupytext": {
   "cell_metadata_filter": "-all",
   "main_language": "R",
   "notebook_metadata_filter": "-all"
  },
  "kernelspec": {
   "display_name": "R",
   "language": "R",
   "name": "ir"
  },
  "language_info": {
   "codemirror_mode": "r",
   "file_extension": ".r",
   "mimetype": "text/x-r-source",
   "name": "R",
   "pygments_lexer": "r",
   "version": "3.6.1"
  }
 },
 "nbformat": 4,
 "nbformat_minor": 4
}
