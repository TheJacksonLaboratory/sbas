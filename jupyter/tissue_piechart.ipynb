{
 "cells": [
  {
   "cell_type": "markdown",
   "id": "9a07d118",
   "metadata": {
    "papermill": {
     "duration": 0.008017,
     "end_time": "2021-09-24T05:04:03.072083",
     "exception": false,
     "start_time": "2021-09-24T05:04:03.064066",
     "status": "completed"
    },
    "tags": []
   },
   "source": [
    "# Figure Generation Notebook - Tissue Piechart figure\n",
    "\n",
    "This notebook generates a single figure, a tissue piechart figure, **tissue-piechart.pdf**."
   ]
  },
  {
   "cell_type": "code",
   "execution_count": 1,
   "id": "581059c1",
   "metadata": {
    "execution": {
     "iopub.execute_input": "2021-09-24T05:04:03.153450Z",
     "iopub.status.busy": "2021-09-24T05:04:03.151489Z",
     "iopub.status.idle": "2021-09-24T05:04:03.422600Z",
     "shell.execute_reply": "2021-09-24T05:04:03.421822Z"
    },
    "papermill": {
     "duration": 0.343397,
     "end_time": "2021-09-24T05:04:03.422721",
     "exception": false,
     "start_time": "2021-09-24T05:04:03.079324",
     "status": "completed"
    },
    "tags": []
   },
   "outputs": [],
   "source": [
    "start_time <- Sys.time()\n",
    "\n",
    "suppressMessages({\n",
    "    options(warn = -1) \n",
    "    library(dplyr)\n",
    "})"
   ]
  },
  {
   "cell_type": "markdown",
   "id": "0919e477",
   "metadata": {
    "papermill": {
     "duration": 0.006866,
     "end_time": "2021-09-24T05:04:03.436629",
     "exception": false,
     "start_time": "2021-09-24T05:04:03.429763",
     "status": "completed"
    },
    "tags": []
   },
   "source": [
    "### 1. Read in all alternatively spliced events"
   ]
  },
  {
   "cell_type": "code",
   "execution_count": 2,
   "id": "319185e1",
   "metadata": {
    "execution": {
     "iopub.execute_input": "2021-09-24T05:04:03.477931Z",
     "iopub.status.busy": "2021-09-24T05:04:03.452638Z",
     "iopub.status.idle": "2021-09-24T05:04:03.503789Z",
     "shell.execute_reply": "2021-09-24T05:04:03.502774Z"
    },
    "papermill": {
     "duration": 0.060591,
     "end_time": "2021-09-24T05:04:03.503899",
     "exception": false,
     "start_time": "2021-09-24T05:04:03.443308",
     "status": "completed"
    },
    "tags": []
   },
   "outputs": [
    {
     "data": {
      "text/html": [
       "<table class=\"dataframe\">\n",
       "<caption>A data.frame: 2 × 15</caption>\n",
       "<thead>\n",
       "\t<tr><th></th><th scope=col>GeneJunction</th><th scope=col>ASE</th><th scope=col>ASE_IDX</th><th scope=col>Tissue</th><th scope=col>counts</th><th scope=col>Display</th><th scope=col>GeneSymbol</th><th scope=col>GeneID</th><th scope=col>chr</th><th scope=col>logFC</th><th scope=col>AveExpr</th><th scope=col>t</th><th scope=col>PValue</th><th scope=col>AdjPVal</th><th scope=col>B</th></tr>\n",
       "\t<tr><th></th><th scope=col>&lt;chr&gt;</th><th scope=col>&lt;chr&gt;</th><th scope=col>&lt;int&gt;</th><th scope=col>&lt;chr&gt;</th><th scope=col>&lt;int&gt;</th><th scope=col>&lt;chr&gt;</th><th scope=col>&lt;chr&gt;</th><th scope=col>&lt;chr&gt;</th><th scope=col>&lt;chr&gt;</th><th scope=col>&lt;dbl&gt;</th><th scope=col>&lt;dbl&gt;</th><th scope=col>&lt;dbl&gt;</th><th scope=col>&lt;dbl&gt;</th><th scope=col>&lt;dbl&gt;</th><th scope=col>&lt;dbl&gt;</th></tr>\n",
       "</thead>\n",
       "<tbody>\n",
       "\t<tr><th scope=row>1</th><td>CYB5R1-2513</td><td>A3SS</td><td>2513</td><td>brain_hippocampus </td><td>1</td><td>Hippocampus </td><td>CYB5R1</td><td>ENSG00000159348.13</td><td>chr1 </td><td> 4.248889</td><td>5.779254</td><td> 5.126318</td><td>7.07777e-07</td><td>0.003560118</td><td>5.185446</td></tr>\n",
       "\t<tr><th scope=row>2</th><td>ANK3-4589  </td><td>A3SS</td><td>4589</td><td>brain_hypothalamus</td><td>1</td><td>Hypothalamus</td><td>ANK3  </td><td>ENSG00000151150.22</td><td>chr10</td><td>-6.419966</td><td>4.170207</td><td>-4.656180</td><td>6.14524e-06</td><td>0.032244072</td><td>3.210014</td></tr>\n",
       "</tbody>\n",
       "</table>\n"
      ],
      "text/latex": [
       "A data.frame: 2 × 15\n",
       "\\begin{tabular}{r|lllllllllllllll}\n",
       "  & GeneJunction & ASE & ASE\\_IDX & Tissue & counts & Display & GeneSymbol & GeneID & chr & logFC & AveExpr & t & PValue & AdjPVal & B\\\\\n",
       "  & <chr> & <chr> & <int> & <chr> & <int> & <chr> & <chr> & <chr> & <chr> & <dbl> & <dbl> & <dbl> & <dbl> & <dbl> & <dbl>\\\\\n",
       "\\hline\n",
       "\t1 & CYB5R1-2513 & A3SS & 2513 & brain\\_hippocampus  & 1 & Hippocampus  & CYB5R1 & ENSG00000159348.13 & chr1  &  4.248889 & 5.779254 &  5.126318 & 7.07777e-07 & 0.003560118 & 5.185446\\\\\n",
       "\t2 & ANK3-4589   & A3SS & 4589 & brain\\_hypothalamus & 1 & Hypothalamus & ANK3   & ENSG00000151150.22 & chr10 & -6.419966 & 4.170207 & -4.656180 & 6.14524e-06 & 0.032244072 & 3.210014\\\\\n",
       "\\end{tabular}\n"
      ],
      "text/markdown": [
       "\n",
       "A data.frame: 2 × 15\n",
       "\n",
       "| <!--/--> | GeneJunction &lt;chr&gt; | ASE &lt;chr&gt; | ASE_IDX &lt;int&gt; | Tissue &lt;chr&gt; | counts &lt;int&gt; | Display &lt;chr&gt; | GeneSymbol &lt;chr&gt; | GeneID &lt;chr&gt; | chr &lt;chr&gt; | logFC &lt;dbl&gt; | AveExpr &lt;dbl&gt; | t &lt;dbl&gt; | PValue &lt;dbl&gt; | AdjPVal &lt;dbl&gt; | B &lt;dbl&gt; |\n",
       "|---|---|---|---|---|---|---|---|---|---|---|---|---|---|---|---|\n",
       "| 1 | CYB5R1-2513 | A3SS | 2513 | brain_hippocampus  | 1 | Hippocampus  | CYB5R1 | ENSG00000159348.13 | chr1  |  4.248889 | 5.779254 |  5.126318 | 7.07777e-07 | 0.003560118 | 5.185446 |\n",
       "| 2 | ANK3-4589   | A3SS | 4589 | brain_hypothalamus | 1 | Hypothalamus | ANK3   | ENSG00000151150.22 | chr10 | -6.419966 | 4.170207 | -4.656180 | 6.14524e-06 | 0.032244072 | 3.210014 |\n",
       "\n"
      ],
      "text/plain": [
       "  GeneJunction ASE  ASE_IDX Tissue             counts Display      GeneSymbol\n",
       "1 CYB5R1-2513  A3SS 2513    brain_hippocampus  1      Hippocampus  CYB5R1    \n",
       "2 ANK3-4589    A3SS 4589    brain_hypothalamus 1      Hypothalamus ANK3      \n",
       "  GeneID             chr   logFC     AveExpr  t         PValue      AdjPVal    \n",
       "1 ENSG00000159348.13 chr1   4.248889 5.779254  5.126318 7.07777e-07 0.003560118\n",
       "2 ENSG00000151150.22 chr10 -6.419966 4.170207 -4.656180 6.14524e-06 0.032244072\n",
       "  B       \n",
       "1 5.185446\n",
       "2 3.210014"
      ]
     },
     "metadata": {},
     "output_type": "display_data"
    }
   ],
   "source": [
    "filename <- \"../data/gene_as.tsv\"\n",
    "gene_as <- read.table(filename, header=TRUE, sep=\"\\t\",\n",
    "                               skipNul=FALSE, stringsAsFactors = FALSE)\n",
    "head(gene_as,2)"
   ]
  },
  {
   "cell_type": "markdown",
   "id": "f1fd6f76",
   "metadata": {
    "papermill": {
     "duration": 0.007221,
     "end_time": "2021-09-24T05:04:03.518484",
     "exception": false,
     "start_time": "2021-09-24T05:04:03.511263",
     "status": "completed"
    },
    "tags": []
   },
   "source": [
    "### 2. Pie chart\n",
    "Show recurrent vs unique splicing events with a piechart."
   ]
  },
  {
   "cell_type": "markdown",
   "id": "973463f8",
   "metadata": {
    "papermill": {
     "duration": 0.007053,
     "end_time": "2021-09-24T05:04:03.532705",
     "exception": false,
     "start_time": "2021-09-24T05:04:03.525652",
     "status": "completed"
    },
    "tags": []
   },
   "source": [
    "Tissue specific 1 tissue\n",
    "Tissue group 2-5 tissues\n",
    "Recurrent > 5 tissues"
   ]
  },
  {
   "cell_type": "code",
   "execution_count": 3,
   "id": "3a4273be",
   "metadata": {
    "execution": {
     "iopub.execute_input": "2021-09-24T05:04:03.551072Z",
     "iopub.status.busy": "2021-09-24T05:04:03.549916Z",
     "iopub.status.idle": "2021-09-24T05:04:03.564308Z",
     "shell.execute_reply": "2021-09-24T05:04:03.563365Z"
    },
    "papermill": {
     "duration": 0.024408,
     "end_time": "2021-09-24T05:04:03.564401",
     "exception": false,
     "start_time": "2021-09-24T05:04:03.539993",
     "status": "completed"
    },
    "tags": []
   },
   "outputs": [],
   "source": [
    "# Colors for uniformity\n",
    "# Let's use the following colors for uniformity\n",
    "darkblue <- \"#3c5488\"\n",
    "red <- \"#e64b35\"\n",
    "nearlyblack <- \"#040C04\"\n",
    "purple <- \"#790079\"\n",
    "orange = \"#ff9900\""
   ]
  },
  {
   "cell_type": "code",
   "execution_count": 4,
   "id": "901d38e5",
   "metadata": {
    "execution": {
     "iopub.execute_input": "2021-09-24T05:04:03.582493Z",
     "iopub.status.busy": "2021-09-24T05:04:03.581361Z",
     "iopub.status.idle": "2021-09-24T05:04:03.949645Z",
     "shell.execute_reply": "2021-09-24T05:04:03.948812Z"
    },
    "papermill": {
     "duration": 0.378071,
     "end_time": "2021-09-24T05:04:03.949755",
     "exception": false,
     "start_time": "2021-09-24T05:04:03.571684",
     "status": "completed"
    },
    "tags": []
   },
   "outputs": [
    {
     "data": {
      "text/html": [
       "250"
      ],
      "text/latex": [
       "250"
      ],
      "text/markdown": [
       "250"
      ],
      "text/plain": [
       "[1] 250"
      ]
     },
     "metadata": {},
     "output_type": "display_data"
    }
   ],
   "source": [
    "# Count most frequent spliced genes\n",
    "res <- gene_as %>% group_by(GeneSymbol) %>% count(GeneSymbol) %>% arrange(desc(n)) %>% as.data.frame()\n",
    "res$GeneSymbol <- factor(res$GeneSymbol, levels = res$GeneSymbol)\n",
    "length(res$GeneSymbol)\n",
    "\n",
    "#Add number of tissues\n",
    "nTissues <- rep(NA, length(res))\n",
    "for (i in 1:nrow(res)) {\n",
    "  df_gene <- gene_as %>% filter(GeneSymbol == res$GeneSymbol[i])\n",
    "  nTissues[i] <- length(unique(df_gene$Tissue))\n",
    "}\n",
    "res$Tissues <- nTissues"
   ]
  },
  {
   "cell_type": "code",
   "execution_count": 5,
   "id": "a9596515",
   "metadata": {
    "execution": {
     "iopub.execute_input": "2021-09-24T05:04:03.969329Z",
     "iopub.status.busy": "2021-09-24T05:04:03.968247Z",
     "iopub.status.idle": "2021-09-24T05:04:03.987549Z",
     "shell.execute_reply": "2021-09-24T05:04:03.983686Z"
    },
    "papermill": {
     "duration": 0.029866,
     "end_time": "2021-09-24T05:04:03.987650",
     "exception": false,
     "start_time": "2021-09-24T05:04:03.957784",
     "status": "completed"
    },
    "tags": []
   },
   "outputs": [
    {
     "data": {
      "text/html": [
       "<table class=\"dataframe\">\n",
       "<caption>A data.frame: 6 × 3</caption>\n",
       "<thead>\n",
       "\t<tr><th></th><th scope=col>GeneSymbol</th><th scope=col>n</th><th scope=col>Tissues</th></tr>\n",
       "\t<tr><th></th><th scope=col>&lt;fct&gt;</th><th scope=col>&lt;int&gt;</th><th scope=col>&lt;int&gt;</th></tr>\n",
       "</thead>\n",
       "<tbody>\n",
       "\t<tr><th scope=row>1</th><td>KDM5C   </td><td>7</td><td>7</td></tr>\n",
       "\t<tr><th scope=row>2</th><td>SORBS2  </td><td>5</td><td>1</td></tr>\n",
       "\t<tr><th scope=row>3</th><td>ABCD4   </td><td>3</td><td>1</td></tr>\n",
       "\t<tr><th scope=row>4</th><td>BNIP2   </td><td>3</td><td>1</td></tr>\n",
       "\t<tr><th scope=row>5</th><td>CDK5RAP3</td><td>3</td><td>2</td></tr>\n",
       "\t<tr><th scope=row>6</th><td>FGFR2   </td><td>3</td><td>1</td></tr>\n",
       "</tbody>\n",
       "</table>\n"
      ],
      "text/latex": [
       "A data.frame: 6 × 3\n",
       "\\begin{tabular}{r|lll}\n",
       "  & GeneSymbol & n & Tissues\\\\\n",
       "  & <fct> & <int> & <int>\\\\\n",
       "\\hline\n",
       "\t1 & KDM5C    & 7 & 7\\\\\n",
       "\t2 & SORBS2   & 5 & 1\\\\\n",
       "\t3 & ABCD4    & 3 & 1\\\\\n",
       "\t4 & BNIP2    & 3 & 1\\\\\n",
       "\t5 & CDK5RAP3 & 3 & 2\\\\\n",
       "\t6 & FGFR2    & 3 & 1\\\\\n",
       "\\end{tabular}\n"
      ],
      "text/markdown": [
       "\n",
       "A data.frame: 6 × 3\n",
       "\n",
       "| <!--/--> | GeneSymbol &lt;fct&gt; | n &lt;int&gt; | Tissues &lt;int&gt; |\n",
       "|---|---|---|---|\n",
       "| 1 | KDM5C    | 7 | 7 |\n",
       "| 2 | SORBS2   | 5 | 1 |\n",
       "| 3 | ABCD4    | 3 | 1 |\n",
       "| 4 | BNIP2    | 3 | 1 |\n",
       "| 5 | CDK5RAP3 | 3 | 2 |\n",
       "| 6 | FGFR2    | 3 | 1 |\n",
       "\n"
      ],
      "text/plain": [
       "  GeneSymbol n Tissues\n",
       "1 KDM5C      7 7      \n",
       "2 SORBS2     5 1      \n",
       "3 ABCD4      3 1      \n",
       "4 BNIP2      3 1      \n",
       "5 CDK5RAP3   3 2      \n",
       "6 FGFR2      3 1      "
      ]
     },
     "metadata": {},
     "output_type": "display_data"
    }
   ],
   "source": [
    "head(res)"
   ]
  },
  {
   "cell_type": "code",
   "execution_count": 6,
   "id": "e8fb1429",
   "metadata": {
    "execution": {
     "iopub.execute_input": "2021-09-24T05:04:04.007501Z",
     "iopub.status.busy": "2021-09-24T05:04:04.006441Z",
     "iopub.status.idle": "2021-09-24T05:04:04.023170Z",
     "shell.execute_reply": "2021-09-24T05:04:04.022220Z"
    },
    "papermill": {
     "duration": 0.027494,
     "end_time": "2021-09-24T05:04:04.023273",
     "exception": false,
     "start_time": "2021-09-24T05:04:03.995779",
     "status": "completed"
    },
    "tags": []
   },
   "outputs": [],
   "source": [
    "#Pie chart - Number of patients with 0, 1, >1 events\n",
    "counts <- c(res %>% filter(Tissues == 1) %>% count() %>% as.numeric(),\n",
    "            res %>% filter(Tissues > 1 & Tissues < 6) %>% count() %>% as.numeric(),\n",
    "            res %>% filter(Tissues > 5) %>% count() %>% as.numeric())"
   ]
  },
  {
   "cell_type": "code",
   "execution_count": 7,
   "id": "4006ceab",
   "metadata": {
    "execution": {
     "iopub.execute_input": "2021-09-24T05:04:04.043200Z",
     "iopub.status.busy": "2021-09-24T05:04:04.042109Z",
     "iopub.status.idle": "2021-09-24T05:04:04.053357Z",
     "shell.execute_reply": "2021-09-24T05:04:04.052352Z"
    },
    "papermill": {
     "duration": 0.021959,
     "end_time": "2021-09-24T05:04:04.053450",
     "exception": false,
     "start_time": "2021-09-24T05:04:04.031491",
     "status": "completed"
    },
    "tags": []
   },
   "outputs": [
    {
     "data": {
      "text/html": [
       "<style>\n",
       ".list-inline {list-style: none; margin:0; padding: 0}\n",
       ".list-inline>li {display: inline-block}\n",
       ".list-inline>li:not(:last-child)::after {content: \"\\00b7\"; padding: 0 .5ex}\n",
       "</style>\n",
       "<ol class=list-inline><li>243</li><li>6</li><li>1</li></ol>\n"
      ],
      "text/latex": [
       "\\begin{enumerate*}\n",
       "\\item 243\n",
       "\\item 6\n",
       "\\item 1\n",
       "\\end{enumerate*}\n"
      ],
      "text/markdown": [
       "1. 243\n",
       "2. 6\n",
       "3. 1\n",
       "\n",
       "\n"
      ],
      "text/plain": [
       "[1] 243   6   1"
      ]
     },
     "metadata": {},
     "output_type": "display_data"
    }
   ],
   "source": [
    "counts"
   ]
  },
  {
   "cell_type": "code",
   "execution_count": 8,
   "id": "bf194d58",
   "metadata": {
    "execution": {
     "iopub.execute_input": "2021-09-24T05:04:04.074473Z",
     "iopub.status.busy": "2021-09-24T05:04:04.073399Z",
     "iopub.status.idle": "2021-09-24T05:04:04.082172Z",
     "shell.execute_reply": "2021-09-24T05:04:04.081158Z"
    },
    "papermill": {
     "duration": 0.020026,
     "end_time": "2021-09-24T05:04:04.082266",
     "exception": false,
     "start_time": "2021-09-24T05:04:04.062240",
     "status": "completed"
    },
    "tags": []
   },
   "outputs": [],
   "source": [
    "piecolors <- c(darkblue,red,orange)"
   ]
  },
  {
   "cell_type": "markdown",
   "id": "fe86f1e5",
   "metadata": {
    "papermill": {
     "duration": 0.008501,
     "end_time": "2021-09-24T05:04:04.099417",
     "exception": false,
     "start_time": "2021-09-24T05:04:04.090916",
     "status": "completed"
    },
    "tags": []
   },
   "source": [
    "Calculate the percentage for each category"
   ]
  },
  {
   "cell_type": "code",
   "execution_count": 9,
   "id": "11b0b326",
   "metadata": {
    "execution": {
     "iopub.execute_input": "2021-09-24T05:04:04.120084Z",
     "iopub.status.busy": "2021-09-24T05:04:04.119024Z",
     "iopub.status.idle": "2021-09-24T05:04:04.130529Z",
     "shell.execute_reply": "2021-09-24T05:04:04.129506Z"
    },
    "lines_to_next_cell": 2,
    "papermill": {
     "duration": 0.02266,
     "end_time": "2021-09-24T05:04:04.130624",
     "exception": false,
     "start_time": "2021-09-24T05:04:04.107964",
     "status": "completed"
    },
    "tags": []
   },
   "outputs": [],
   "source": [
    "counts_labels <- round(counts/sum(counts) * 100, 1)\n",
    "counts_labels <- paste(\"(\",counts_labels,\")\", \"%\", sep=\"\")\n",
    "counts_labels <- paste(counts, counts_labels,sep =\" \")"
   ]
  },
  {
   "cell_type": "code",
   "execution_count": 10,
   "id": "c8ce44b4",
   "metadata": {
    "execution": {
     "iopub.execute_input": "2021-09-24T05:04:04.151346Z",
     "iopub.status.busy": "2021-09-24T05:04:04.150261Z",
     "iopub.status.idle": "2021-09-24T05:04:04.275232Z",
     "shell.execute_reply": "2021-09-24T05:04:04.274724Z"
    },
    "papermill": {
     "duration": 0.13609,
     "end_time": "2021-09-24T05:04:04.275334",
     "exception": false,
     "start_time": "2021-09-24T05:04:04.139244",
     "status": "completed"
    },
    "tags": []
   },
   "outputs": [
    {
     "data": {
      "text/html": [
       "<strong>png:</strong> 2"
      ],
      "text/latex": [
       "\\textbf{png:} 2"
      ],
      "text/markdown": [
       "**png:** 2"
      ],
      "text/plain": [
       "png \n",
       "  2 "
      ]
     },
     "metadata": {},
     "output_type": "display_data"
    },
    {
     "name": "stderr",
     "output_type": "stream",
     "text": [
      "Wrote file to ../pdf/tissue-piechart.pdf\n",
      "\n"
     ]
    },
    {
     "data": {
      "image/png": "[encoded data removed]",
      "text/plain": [
       "Plot with title “”"
      ]
     },
     "metadata": {
      "image/png": {
       "height": 420,
       "width": 420
      }
     },
     "output_type": "display_data"
    }
   ],
   "source": [
    "pdf(\"../pdf/tissue-piechart.pdf\")\n",
    "pie(counts, main=\"\", col=piecolors, labels=counts_labels, cex=1.5)\n",
    "# Create a legend at the right   \n",
    "legend(-.425,0.6, c(\"1 tissue\",\"2-5 tissues\",\"> 5 tissues\"), cex=1.5, \n",
    "       fill=piecolors, bg=\"white\")\n",
    "dev.off()\n",
    "message(\"Wrote file to ../pdf/tissue-piechart.pdf\")\n",
    "pie(counts, main=\"\", col=piecolors, labels=counts_labels,\n",
    "    cex=1.5)\n",
    "# Create a legend at the right   \n",
    "legend(-.425,0.6, c(\"1 tissue\",\"2-5 tissues\",\"> 5 tissues\"), cex=1.5, \n",
    "       fill=piecolors, bg=\"white\")"
   ]
  },
  {
   "cell_type": "markdown",
   "id": "fdea5b02",
   "metadata": {
    "papermill": {
     "duration": 0.010589,
     "end_time": "2021-09-24T05:04:04.296961",
     "exception": false,
     "start_time": "2021-09-24T05:04:04.286372",
     "status": "completed"
    },
    "tags": []
   },
   "source": [
    "### Appendix - Metadata\n",
    "\n",
    "For replicability and reproducibility purposes, we also print the following metadata:\n",
    "\n",
    "1. Checksums of **'artefacts'**, files generated during the analysis and stored in the folder directory **`data`**\n",
    "2. List of environment metadata, dependencies, versions of libraries using `utils::sessionInfo()` and [`devtools::session_info()`](https://devtools.r-lib.org/reference/session_info.html)"
   ]
  },
  {
   "cell_type": "markdown",
   "id": "4050ad0b",
   "metadata": {
    "papermill": {
     "duration": 0.010456,
     "end_time": "2021-09-24T05:04:04.317850",
     "exception": false,
     "start_time": "2021-09-24T05:04:04.307394",
     "status": "completed"
    },
    "tags": []
   },
   "source": [
    "### Appendix 1. Checksums with the sha256 algorithm"
   ]
  },
  {
   "cell_type": "code",
   "execution_count": 11,
   "id": "4f4a0bd6",
   "metadata": {
    "execution": {
     "iopub.execute_input": "2021-09-24T05:04:04.343167Z",
     "iopub.status.busy": "2021-09-24T05:04:04.341948Z",
     "iopub.status.idle": "2021-09-24T05:04:04.351503Z",
     "shell.execute_reply": "2021-09-24T05:04:04.350437Z"
    },
    "papermill": {
     "duration": 0.0233,
     "end_time": "2021-09-24T05:04:04.351599",
     "exception": false,
     "start_time": "2021-09-24T05:04:04.328299",
     "status": "completed"
    },
    "tags": []
   },
   "outputs": [],
   "source": [
    "notebookid   = \"create_tissue_piechart_figure\""
   ]
  },
  {
   "cell_type": "markdown",
   "id": "c60d8e04",
   "metadata": {
    "papermill": {
     "duration": 0.011125,
     "end_time": "2021-09-24T05:04:04.373187",
     "exception": false,
     "start_time": "2021-09-24T05:04:04.362062",
     "status": "completed"
    },
    "tags": []
   },
   "source": [
    "### Appendix 2. Libraries metadata"
   ]
  },
  {
   "cell_type": "code",
   "execution_count": 12,
   "id": "650b8875",
   "metadata": {
    "execution": {
     "iopub.execute_input": "2021-09-24T05:04:04.398327Z",
     "iopub.status.busy": "2021-09-24T05:04:04.397196Z",
     "iopub.status.idle": "2021-09-24T05:04:04.925457Z",
     "shell.execute_reply": "2021-09-24T05:04:04.924461Z"
    },
    "papermill": {
     "duration": 0.541781,
     "end_time": "2021-09-24T05:04:04.925562",
     "exception": false,
     "start_time": "2021-09-24T05:04:04.383781",
     "status": "completed"
    },
    "tags": []
   },
   "outputs": [
    {
     "name": "stderr",
     "output_type": "stream",
     "text": [
      "Saving `devtools::session_info()` objects in ../data/devtools_session_info.rds  ..\n",
      "\n"
     ]
    },
    {
     "name": "stderr",
     "output_type": "stream",
     "text": [
      "Done!\n",
      "\n",
      "\n"
     ]
    },
    {
     "name": "stderr",
     "output_type": "stream",
     "text": [
      "Saving `utils::sessionInfo()` objects in ../data/utils_session_info.rds  ..\n",
      "\n"
     ]
    },
    {
     "name": "stderr",
     "output_type": "stream",
     "text": [
      "Done!\n",
      "\n",
      "\n"
     ]
    },
    {
     "data": {
      "text/plain": [
       " setting  value                       \n",
       " version  R version 4.1.1 (2021-08-10)\n",
       " os       Ubuntu 18.04.4 LTS          \n",
       " system   x86_64, linux-gnu           \n",
       " ui       X11                         \n",
       " language en_US.UTF-8                 \n",
       " collate  en_US.UTF-8                 \n",
       " ctype    en_US.UTF-8                 \n",
       " tz       Etc/UTC                     \n",
       " date     2021-09-24                  "
      ]
     },
     "metadata": {},
     "output_type": "display_data"
    },
    {
     "data": {
      "text/html": [
       "<table class=\"dataframe\">\n",
       "<caption>A packages_info: 1 × 11</caption>\n",
       "<thead>\n",
       "\t<tr><th></th><th scope=col>package</th><th scope=col>ondiskversion</th><th scope=col>loadedversion</th><th scope=col>path</th><th scope=col>loadedpath</th><th scope=col>attached</th><th scope=col>is_base</th><th scope=col>date</th><th scope=col>source</th><th scope=col>md5ok</th><th scope=col>library</th></tr>\n",
       "\t<tr><th></th><th scope=col>&lt;chr&gt;</th><th scope=col>&lt;chr&gt;</th><th scope=col>&lt;chr&gt;</th><th scope=col>&lt;chr&gt;</th><th scope=col>&lt;chr&gt;</th><th scope=col>&lt;lgl&gt;</th><th scope=col>&lt;lgl&gt;</th><th scope=col>&lt;chr&gt;</th><th scope=col>&lt;chr&gt;</th><th scope=col>&lt;lgl&gt;</th><th scope=col>&lt;fct&gt;</th></tr>\n",
       "</thead>\n",
       "<tbody>\n",
       "\t<tr><th scope=row>dplyr</th><td>dplyr</td><td>1.0.7</td><td>1.0.7</td><td>/opt/conda/envs/sbas/lib/R/library/dplyr</td><td>/opt/conda/envs/sbas/lib/R/library/dplyr</td><td>TRUE</td><td>FALSE</td><td>2021-06-18</td><td>CRAN (R 4.1.0)</td><td>NA</td><td>/opt/conda/envs/sbas/lib/R/library</td></tr>\n",
       "</tbody>\n",
       "</table>\n"
      ],
      "text/latex": [
       "A packages\\_info: 1 × 11\n",
       "\\begin{tabular}{r|lllllllllll}\n",
       "  & package & ondiskversion & loadedversion & path & loadedpath & attached & is\\_base & date & source & md5ok & library\\\\\n",
       "  & <chr> & <chr> & <chr> & <chr> & <chr> & <lgl> & <lgl> & <chr> & <chr> & <lgl> & <fct>\\\\\n",
       "\\hline\n",
       "\tdplyr & dplyr & 1.0.7 & 1.0.7 & /opt/conda/envs/sbas/lib/R/library/dplyr & /opt/conda/envs/sbas/lib/R/library/dplyr & TRUE & FALSE & 2021-06-18 & CRAN (R 4.1.0) & NA & /opt/conda/envs/sbas/lib/R/library\\\\\n",
       "\\end{tabular}\n"
      ],
      "text/markdown": [
       "\n",
       "A packages_info: 1 × 11\n",
       "\n",
       "| <!--/--> | package &lt;chr&gt; | ondiskversion &lt;chr&gt; | loadedversion &lt;chr&gt; | path &lt;chr&gt; | loadedpath &lt;chr&gt; | attached &lt;lgl&gt; | is_base &lt;lgl&gt; | date &lt;chr&gt; | source &lt;chr&gt; | md5ok &lt;lgl&gt; | library &lt;fct&gt; |\n",
       "|---|---|---|---|---|---|---|---|---|---|---|---|\n",
       "| dplyr | dplyr | 1.0.7 | 1.0.7 | /opt/conda/envs/sbas/lib/R/library/dplyr | /opt/conda/envs/sbas/lib/R/library/dplyr | TRUE | FALSE | 2021-06-18 | CRAN (R 4.1.0) | NA | /opt/conda/envs/sbas/lib/R/library |\n",
       "\n"
      ],
      "text/plain": [
       "      package ondiskversion loadedversion\n",
       "dplyr dplyr   1.0.7         1.0.7        \n",
       "      path                                    \n",
       "dplyr /opt/conda/envs/sbas/lib/R/library/dplyr\n",
       "      loadedpath                               attached is_base date      \n",
       "dplyr /opt/conda/envs/sbas/lib/R/library/dplyr TRUE     FALSE   2021-06-18\n",
       "      source         md5ok library                           \n",
       "dplyr CRAN (R 4.1.0) NA    /opt/conda/envs/sbas/lib/R/library"
      ]
     },
     "metadata": {},
     "output_type": "display_data"
    }
   ],
   "source": [
    "dev_session_info   <- devtools::session_info()\n",
    "utils_session_info <- utils::sessionInfo()\n",
    "\n",
    "message(\"Saving `devtools::session_info()` objects in ../data/devtools_session_info.rds  ..\")\n",
    "saveRDS(dev_session_info, file = paste0(\"../data/\", notebookid, \"_devtools_session_info.rds\"))\n",
    "message(\"Done!\\n\")\n",
    "\n",
    "message(\"Saving `utils::sessionInfo()` objects in ../data/utils_session_info.rds  ..\")\n",
    "saveRDS(utils_session_info, file = paste0(\"../data/\", notebookid ,\"_utils_info.rds\"))\n",
    "message(\"Done!\\n\")\n",
    "\n",
    "dev_session_info$platform\n",
    "dev_session_info$packages[dev_session_info$packages$attached==TRUE, ]"
   ]
  },
  {
   "cell_type": "code",
   "execution_count": 13,
   "id": "084ebd87",
   "metadata": {
    "execution": {
     "iopub.execute_input": "2021-09-24T05:04:04.953602Z",
     "iopub.status.busy": "2021-09-24T05:04:04.952529Z",
     "iopub.status.idle": "2021-09-24T05:04:04.970100Z",
     "shell.execute_reply": "2021-09-24T05:04:04.969042Z"
    },
    "papermill": {
     "duration": 0.032363,
     "end_time": "2021-09-24T05:04:04.970213",
     "exception": false,
     "start_time": "2021-09-24T05:04:04.937850",
     "status": "completed"
    },
    "tags": []
   },
   "outputs": [
    {
     "data": {
      "text/plain": [
       "Time difference of 1.785809 secs"
      ]
     },
     "metadata": {},
     "output_type": "display_data"
    }
   ],
   "source": [
    "end_time <- Sys.time()\n",
    "end_time - start_time"
   ]
  }
 ],
 "metadata": {
  "jupytext": {
   "cell_metadata_filter": "-all",
   "encoding": "# -*- coding: utf-8 -*-",
   "main_language": "R",
   "notebook_metadata_filter": "-all"
  },
  "kernelspec": {
   "display_name": "R",
   "language": "R",
   "name": "ir"
  },
  "language_info": {
   "codemirror_mode": "r",
   "file_extension": ".r",
   "mimetype": "text/x-r-source",
   "name": "R",
   "pygments_lexer": "r",
   "version": "4.1.1"
  },
  "papermill": {
   "duration": 2.882645,
   "end_time": "2021-09-24T05:04:05.090026",
   "environment_variables": {},
   "exception": null,
   "input_path": "tissue_piechart.ipynb",
   "output_path": "tissue_piechart.ipynb",
   "parameters": {},
   "start_time": "2021-09-24T05:04:02.207381",
   "version": "2.1.2"
  }
 },
 "nbformat": 4,
 "nbformat_minor": 5
}