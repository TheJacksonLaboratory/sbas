{
 "cells": [
  {
   "cell_type": "raw",
   "metadata": {},
   "source": [
    "We read in the table of events and reformat them in .bed format, in order to perform bedtools intersection with the file that contrains the Alu coordinates"
   ]
  },
  {
   "cell_type": "code",
   "execution_count": 156,
   "metadata": {},
   "outputs": [],
   "source": [
    "events.tab<-read.table('data/fromGTF.SE.txt',sep='\\t',header=T)\n",
    "\n",
    "up.intron.s<-events.tab$upstreamEE\n",
    "\n",
    "up.intron.e<-events.tab$exonStart_0base\n",
    "\n",
    "down.intron.s<-events.tab$exonEnd\n",
    "\n",
    "down.intron.e<-events.tab$downstreamES\n",
    "\n",
    "out.tab<-cbind(as.character(events.tab$chr),up.intron.s,up.intron.e,as.character(events.tab$geneSymbol),\n",
    "               up.intron.e-up.intron.s-1,as.character(events.tab$strand),events.tab$ID)\n",
    "\n",
    "out.tab<-rbind(out.tab,cbind(as.character(events.tab$chr),down.intron.s,down.intron.e,as.character(events.tab$geneSymbol),\n",
    "               down.intron.e-down.intron.s-1,as.character(events.tab$strand),events.tab$ID))\n",
    "\n",
    "write.table(out.tab,'flanking_introns.bed',sep='\\t',col.names = F,row.names = F,quote = F)\n"
   ]
  },
  {
   "cell_type": "code",
   "execution_count": 157,
   "metadata": {},
   "outputs": [],
   "source": [
    "system('conda install -c bioconda bedtools')"
   ]
  },
  {
   "cell_type": "raw",
   "metadata": {},
   "source": [
    "Intersect the upstream introns with Alu sites"
   ]
  },
  {
   "cell_type": "code",
   "execution_count": 158,
   "metadata": {},
   "outputs": [],
   "source": [
    "system('bedtools intersect -wa -wb -s -F 1 -a flanking_introns.bed -b repeats.bed > intron_alu_intersections.bed')\n",
    "\n",
    "all.intron.alu.intr<-read.table('intron_alu_intersections.bed',sep='\\t',header = F)\n",
    "\n",
    "colnames(all.intron.alu.intr)<-c('chr','up_intr_s','up_intr_e','gene','up_intr_l','strand','ID','chr','alu_s','alu_e','alu','blank','strand')\n"
   ]
  },
  {
   "cell_type": "raw",
   "metadata": {},
   "source": [
    "Only keep coordinates of Alu elements"
   ]
  },
  {
   "cell_type": "code",
   "execution_count": 159,
   "metadata": {},
   "outputs": [],
   "source": [
    "all.intron.alu.intr<-all.intron.alu.intr[grepl('^Alu',all.intron.alu.intr$alu),]"
   ]
  },
  {
   "cell_type": "raw",
   "metadata": {},
   "source": [
    "From each Alu family keep one overlap with each gene:"
   ]
  },
  {
   "cell_type": "code",
   "execution_count": 160,
   "metadata": {},
   "outputs": [],
   "source": [
    "all.intron.alu.intr=all.intron.alu.intr[!duplicated(paste0(all.intron.alu.intr$ID,all.intron.alu.intr$alu)),]"
   ]
  },
  {
   "cell_type": "raw",
   "metadata": {},
   "source": [
    "Create a set of all alternatively spliced events that were tested for sex-bias and a set of only those that were detected as sex-biased:"
   ]
  },
  {
   "cell_type": "code",
   "execution_count": 161,
   "metadata": {
    "jupyter": {
     "source_hidden": true
    }
   },
   "outputs": [],
   "source": [
    "tissue.list=read.csv('data/tissue_list.csv',header=FALSE)\n",
    "\n",
    "sb.events=c()\n",
    "\n",
    "all.events=c()\n",
    "\n",
    "for (tissue in tissue.list$V2)\n",
    "{\n",
    "    \n",
    "    all.tissue.events=read.csv(paste0('data/se_',tissue,'_AS_model_B_sex_as_events.csv'))\n",
    "  \n",
    "    tissue.all.event.ids=lapply(lapply(lapply(as.character(rownames(all.tissue.events)),strsplit,split='-'),unlist)\n",
    "                                ,'[[',2)\n",
    "    \n",
    "    all.events=unique(c(all.events,tissue.all.event.ids))\n",
    "                        \n",
    "    tissue.sb.events=read.csv(paste0('data/se_',tissue,'_AS_model_B_sex_as_events_refined.csv'))\n",
    "    \n",
    "    tissue.sb.event.ids=lapply(lapply(lapply(as.character(rownames(tissue.sb.events)),strsplit,split='-'),unlist)\n",
    "                               ,'[[',2)\n",
    "  \n",
    "    sb.events=unique(c(sb.events,tissue.sb.event.ids))\n",
    "    \n",
    "}"
   ]
  },
  {
   "cell_type": "raw",
   "metadata": {},
   "source": [
    "Test Alu enrichment in sex-biased events for each Alu family:"
   ]
  },
  {
   "cell_type": "code",
   "execution_count": 162,
   "metadata": {},
   "outputs": [],
   "source": [
    "alu.enrich=matrix(ncol=7,nrow=0)\n",
    "\n",
    "colnames(alu.enrich)<-c('Alu','AluASCount','AluSBCount','TotalAS','TotalSB','PVal','FDR')\n",
    "\n",
    "num.sb.events=length(sb.events) #total number of sex-biased events\n",
    "\n",
    "num.as.events=length(all.events) #total number of alternative splicing events\n",
    "\n",
    "all.events.per.alu=table(all.intron.alu.intr$alu[all.intron.alu.intr$ID %in% all.events])   #number of events per Alu family\n",
    "\n",
    "sb.events.per.alu=table(all.intron.alu.intr$alu[all.intron.alu.intr$ID %in% sb.events]) #number of sex-biased events per Alu family\n",
    "\n",
    "for (i in (1:length(all.events.per.alu)))    \n",
    "{\n",
    "  \n",
    "  cur.alu<-names(all.events.per.alu)[i]  #get the name of the next Alu family\n",
    "  \n",
    "  if (!cur.alu %in% names(sb.events.per.alu) | all.events.per.alu[cur.alu]<10 | !grepl('^Alu',cur.alu))\n",
    "    \n",
    "    next\n",
    "  \n",
    "  alu.sb<-sb.events.per.alu[cur.alu]  #sex-biased events with this Alu family\n",
    "  \n",
    "  alu.as<-all.events.per.alu[cur.alu]  #all AS events with this Alu family\n",
    "  \n",
    "  pval<-exp(phyper(q=alu.sb, m=alu.as, n=num.as.events-alu.as, k=num.sb.events,log.p = T,lower.tail = F))\n",
    "  \n",
    "  alu.enrich<-rbind(alu.enrich, c(cur.alu,alu.as,alu.sb,num.as.events,num.sb.events,pval,0))\n",
    "  \n",
    "}\n",
    "\n"
   ]
  },
  {
   "cell_type": "code",
   "execution_count": 163,
   "metadata": {},
   "outputs": [
    {
     "data": {
      "text/html": [
       "<table>\n",
       "<caption>A matrix: 46 × 7 of type chr</caption>\n",
       "<thead>\n",
       "\t<tr><th scope=col>Alu</th><th scope=col>AluASCount</th><th scope=col>AluSBCount</th><th scope=col>TotalAS</th><th scope=col>TotalSB</th><th scope=col>PVal</th><th scope=col>FDR</th></tr>\n",
       "</thead>\n",
       "<tbody>\n",
       "\t<tr><td>AluYe6   </td><td>25  </td><td>6  </td><td>39970</td><td>3948</td><td>0.00885041969097088</td><td>0</td></tr>\n",
       "\t<tr><td>AluYk2   </td><td>81  </td><td>12 </td><td>39970</td><td>3948</td><td>0.0538096385965136 </td><td>0</td></tr>\n",
       "\t<tr><td>AluYb9   </td><td>45  </td><td>7  </td><td>39970</td><td>3948</td><td>0.0713761391664266 </td><td>0</td></tr>\n",
       "\t<tr><td>AluYh7   </td><td>12  </td><td>2  </td><td>39970</td><td>3948</td><td>0.1077257677052    </td><td>0</td></tr>\n",
       "\t<tr><td>AluYf1   </td><td>180 </td><td>22 </td><td>39970</td><td>3948</td><td>0.120608955681909  </td><td>0</td></tr>\n",
       "\t<tr><td>AluYc3   </td><td>66  </td><td>8  </td><td>39970</td><td>3948</td><td>0.201043020038783  </td><td>0</td></tr>\n",
       "\t<tr><td>AluYk12  </td><td>18  </td><td>2  </td><td>39970</td><td>3948</td><td>0.260017900341417  </td><td>0</td></tr>\n",
       "\t<tr><td>AluYk4   </td><td>148 </td><td>15 </td><td>39970</td><td>3948</td><td>0.390636366257782  </td><td>0</td></tr>\n",
       "\t<tr><td>AluSq10  </td><td>239 </td><td>24 </td><td>39970</td><td>3948</td><td>0.412244372530931  </td><td>0</td></tr>\n",
       "\t<tr><td>AluYh3   </td><td>309 </td><td>31 </td><td>39970</td><td>3948</td><td>0.416202006192871  </td><td>0</td></tr>\n",
       "\t<tr><td>AluYi6   </td><td>43  </td><td>3  </td><td>39970</td><td>3948</td><td>0.625306742102066  </td><td>0</td></tr>\n",
       "\t<tr><td>AluYg6   </td><td>98  </td><td>8  </td><td>39970</td><td>3948</td><td>0.640779652286108  </td><td>0</td></tr>\n",
       "\t<tr><td>AluYe5   </td><td>160 </td><td>13 </td><td>39970</td><td>3948</td><td>0.722082064784147  </td><td>0</td></tr>\n",
       "\t<tr><td>AluYh3a3 </td><td>38  </td><td>2  </td><td>39970</td><td>3948</td><td>0.738608137443571  </td><td>0</td></tr>\n",
       "\t<tr><td>AluSq4   </td><td>254 </td><td>21 </td><td>39970</td><td>3948</td><td>0.771929691859625  </td><td>0</td></tr>\n",
       "\t<tr><td>AluYj4   </td><td>375 </td><td>32 </td><td>39970</td><td>3948</td><td>0.782609420478177  </td><td>0</td></tr>\n",
       "\t<tr><td>AluYa5   </td><td>377 </td><td>32 </td><td>39970</td><td>3948</td><td>0.792321607185277  </td><td>0</td></tr>\n",
       "\t<tr><td>AluYi6_4d</td><td>16  </td><td>0  </td><td>39970</td><td>3948</td><td>0.81068028750074   </td><td>0</td></tr>\n",
       "\t<tr><td>AluYd8   </td><td>21  </td><td>0  </td><td>39970</td><td>3948</td><td>0.887472938993076  </td><td>0</td></tr>\n",
       "\t<tr><td>AluSg7   </td><td>1074</td><td>92 </td><td>39970</td><td>3948</td><td>0.922531694857048  </td><td>0</td></tr>\n",
       "\t<tr><td>AluYa8   </td><td>29  </td><td>0  </td><td>39970</td><td>3948</td><td>0.951056749972143  </td><td>0</td></tr>\n",
       "\t<tr><td>AluSc5   </td><td>802 </td><td>63 </td><td>39970</td><td>3948</td><td>0.972722716992425  </td><td>0</td></tr>\n",
       "\t<tr><td>AluJr4   </td><td>2410</td><td>210</td><td>39970</td><td>3948</td><td>0.975257052404978  </td><td>0</td></tr>\n",
       "\t<tr><td>AluSx3   </td><td>3410</td><td>303</td><td>39970</td><td>3948</td><td>0.978342179033591  </td><td>0</td></tr>\n",
       "\t<tr><td>AluYb8   </td><td>305 </td><td>19 </td><td>39970</td><td>3948</td><td>0.984064847214385  </td><td>0</td></tr>\n",
       "\t<tr><td>AluSq    </td><td>1680</td><td>136</td><td>39970</td><td>3948</td><td>0.994069101128363  </td><td>0</td></tr>\n",
       "\t<tr><td>AluSx4   </td><td>1285</td><td>100</td><td>39970</td><td>3948</td><td>0.995083024339502  </td><td>0</td></tr>\n",
       "\t<tr><td>AluYk11  </td><td>195 </td><td>8  </td><td>39970</td><td>3948</td><td>0.99776132289608   </td><td>0</td></tr>\n",
       "\t<tr><td>AluYk3   </td><td>119 </td><td>3  </td><td>39970</td><td>3948</td><td>0.998085174335669  </td><td>0</td></tr>\n",
       "\t<tr><td>AluSq2   </td><td>5693</td><td>502</td><td>39970</td><td>3948</td><td>0.998161030579526  </td><td>0</td></tr>\n",
       "\t<tr><td>AluJo    </td><td>7142</td><td>636</td><td>39970</td><td>3948</td><td>0.998852742033464  </td><td>0</td></tr>\n",
       "\t<tr><td>AluSg4   </td><td>849 </td><td>57 </td><td>39970</td><td>3948</td><td>0.999340550236313  </td><td>0</td></tr>\n",
       "\t<tr><td>AluSp    </td><td>4903</td><td>421</td><td>39970</td><td>3948</td><td>0.999442686937143  </td><td>0</td></tr>\n",
       "\t<tr><td>AluJr    </td><td>7373</td><td>652</td><td>39970</td><td>3948</td><td>0.999536982579888  </td><td>0</td></tr>\n",
       "\t<tr><td>AluYc    </td><td>519 </td><td>29 </td><td>39970</td><td>3948</td><td>0.999720412345367  </td><td>0</td></tr>\n",
       "\t<tr><td>AluYm1   </td><td>468 </td><td>25 </td><td>39970</td><td>3948</td><td>0.999744966763158  </td><td>0</td></tr>\n",
       "\t<tr><td>Alu      </td><td>451 </td><td>23 </td><td>39970</td><td>3948</td><td>0.999849323180515  </td><td>0</td></tr>\n",
       "\t<tr><td>AluSx1   </td><td>8758</td><td>773</td><td>39970</td><td>3948</td><td>0.999912333174168  </td><td>0</td></tr>\n",
       "\t<tr><td>AluSx    </td><td>8774</td><td>769</td><td>39970</td><td>3948</td><td>0.99996572894615   </td><td>0</td></tr>\n",
       "\t<tr><td>AluSg    </td><td>3853</td><td>310</td><td>39970</td><td>3948</td><td>0.999977504143678  </td><td>0</td></tr>\n",
       "\t<tr><td>AluSz    </td><td>8462</td><td>736</td><td>39970</td><td>3948</td><td>0.999981762682526  </td><td>0</td></tr>\n",
       "\t<tr><td>AluY     </td><td>8201</td><td>707</td><td>39970</td><td>3948</td><td>0.999992092458837  </td><td>0</td></tr>\n",
       "\t<tr><td>AluSc8   </td><td>2283</td><td>157</td><td>39970</td><td>3948</td><td>0.999999864618686  </td><td>0</td></tr>\n",
       "\t<tr><td>AluSc    </td><td>3427</td><td>251</td><td>39970</td><td>3948</td><td>0.999999967844079  </td><td>0</td></tr>\n",
       "\t<tr><td>AluSz6   </td><td>4784</td><td>366</td><td>39970</td><td>3948</td><td>0.99999999182604   </td><td>0</td></tr>\n",
       "\t<tr><td>AluJb    </td><td>9921</td><td>836</td><td>39970</td><td>3948</td><td>0.999999992064975  </td><td>0</td></tr>\n",
       "</tbody>\n",
       "</table>\n"
      ],
      "text/latex": [
       "A matrix: 46 × 7 of type chr\n",
       "\\begin{tabular}{lllllll}\n",
       " Alu & AluASCount & AluSBCount & TotalAS & TotalSB & PVal & FDR\\\\\n",
       "\\hline\n",
       "\t AluYe6    & 25   & 6   & 39970 & 3948 & 0.00885041969097088 & 0\\\\\n",
       "\t AluYk2    & 81   & 12  & 39970 & 3948 & 0.0538096385965136  & 0\\\\\n",
       "\t AluYb9    & 45   & 7   & 39970 & 3948 & 0.0713761391664266  & 0\\\\\n",
       "\t AluYh7    & 12   & 2   & 39970 & 3948 & 0.1077257677052     & 0\\\\\n",
       "\t AluYf1    & 180  & 22  & 39970 & 3948 & 0.120608955681909   & 0\\\\\n",
       "\t AluYc3    & 66   & 8   & 39970 & 3948 & 0.201043020038783   & 0\\\\\n",
       "\t AluYk12   & 18   & 2   & 39970 & 3948 & 0.260017900341417   & 0\\\\\n",
       "\t AluYk4    & 148  & 15  & 39970 & 3948 & 0.390636366257782   & 0\\\\\n",
       "\t AluSq10   & 239  & 24  & 39970 & 3948 & 0.412244372530931   & 0\\\\\n",
       "\t AluYh3    & 309  & 31  & 39970 & 3948 & 0.416202006192871   & 0\\\\\n",
       "\t AluYi6    & 43   & 3   & 39970 & 3948 & 0.625306742102066   & 0\\\\\n",
       "\t AluYg6    & 98   & 8   & 39970 & 3948 & 0.640779652286108   & 0\\\\\n",
       "\t AluYe5    & 160  & 13  & 39970 & 3948 & 0.722082064784147   & 0\\\\\n",
       "\t AluYh3a3  & 38   & 2   & 39970 & 3948 & 0.738608137443571   & 0\\\\\n",
       "\t AluSq4    & 254  & 21  & 39970 & 3948 & 0.771929691859625   & 0\\\\\n",
       "\t AluYj4    & 375  & 32  & 39970 & 3948 & 0.782609420478177   & 0\\\\\n",
       "\t AluYa5    & 377  & 32  & 39970 & 3948 & 0.792321607185277   & 0\\\\\n",
       "\t AluYi6\\_4d & 16   & 0   & 39970 & 3948 & 0.81068028750074    & 0\\\\\n",
       "\t AluYd8    & 21   & 0   & 39970 & 3948 & 0.887472938993076   & 0\\\\\n",
       "\t AluSg7    & 1074 & 92  & 39970 & 3948 & 0.922531694857048   & 0\\\\\n",
       "\t AluYa8    & 29   & 0   & 39970 & 3948 & 0.951056749972143   & 0\\\\\n",
       "\t AluSc5    & 802  & 63  & 39970 & 3948 & 0.972722716992425   & 0\\\\\n",
       "\t AluJr4    & 2410 & 210 & 39970 & 3948 & 0.975257052404978   & 0\\\\\n",
       "\t AluSx3    & 3410 & 303 & 39970 & 3948 & 0.978342179033591   & 0\\\\\n",
       "\t AluYb8    & 305  & 19  & 39970 & 3948 & 0.984064847214385   & 0\\\\\n",
       "\t AluSq     & 1680 & 136 & 39970 & 3948 & 0.994069101128363   & 0\\\\\n",
       "\t AluSx4    & 1285 & 100 & 39970 & 3948 & 0.995083024339502   & 0\\\\\n",
       "\t AluYk11   & 195  & 8   & 39970 & 3948 & 0.99776132289608    & 0\\\\\n",
       "\t AluYk3    & 119  & 3   & 39970 & 3948 & 0.998085174335669   & 0\\\\\n",
       "\t AluSq2    & 5693 & 502 & 39970 & 3948 & 0.998161030579526   & 0\\\\\n",
       "\t AluJo     & 7142 & 636 & 39970 & 3948 & 0.998852742033464   & 0\\\\\n",
       "\t AluSg4    & 849  & 57  & 39970 & 3948 & 0.999340550236313   & 0\\\\\n",
       "\t AluSp     & 4903 & 421 & 39970 & 3948 & 0.999442686937143   & 0\\\\\n",
       "\t AluJr     & 7373 & 652 & 39970 & 3948 & 0.999536982579888   & 0\\\\\n",
       "\t AluYc     & 519  & 29  & 39970 & 3948 & 0.999720412345367   & 0\\\\\n",
       "\t AluYm1    & 468  & 25  & 39970 & 3948 & 0.999744966763158   & 0\\\\\n",
       "\t Alu       & 451  & 23  & 39970 & 3948 & 0.999849323180515   & 0\\\\\n",
       "\t AluSx1    & 8758 & 773 & 39970 & 3948 & 0.999912333174168   & 0\\\\\n",
       "\t AluSx     & 8774 & 769 & 39970 & 3948 & 0.99996572894615    & 0\\\\\n",
       "\t AluSg     & 3853 & 310 & 39970 & 3948 & 0.999977504143678   & 0\\\\\n",
       "\t AluSz     & 8462 & 736 & 39970 & 3948 & 0.999981762682526   & 0\\\\\n",
       "\t AluY      & 8201 & 707 & 39970 & 3948 & 0.999992092458837   & 0\\\\\n",
       "\t AluSc8    & 2283 & 157 & 39970 & 3948 & 0.999999864618686   & 0\\\\\n",
       "\t AluSc     & 3427 & 251 & 39970 & 3948 & 0.999999967844079   & 0\\\\\n",
       "\t AluSz6    & 4784 & 366 & 39970 & 3948 & 0.99999999182604    & 0\\\\\n",
       "\t AluJb     & 9921 & 836 & 39970 & 3948 & 0.999999992064975   & 0\\\\\n",
       "\\end{tabular}\n"
      ],
      "text/markdown": [
       "\n",
       "A matrix: 46 × 7 of type chr\n",
       "\n",
       "| Alu | AluASCount | AluSBCount | TotalAS | TotalSB | PVal | FDR |\n",
       "|---|---|---|---|---|---|---|\n",
       "| AluYe6    | 25   | 6   | 39970 | 3948 | 0.00885041969097088 | 0 |\n",
       "| AluYk2    | 81   | 12  | 39970 | 3948 | 0.0538096385965136  | 0 |\n",
       "| AluYb9    | 45   | 7   | 39970 | 3948 | 0.0713761391664266  | 0 |\n",
       "| AluYh7    | 12   | 2   | 39970 | 3948 | 0.1077257677052     | 0 |\n",
       "| AluYf1    | 180  | 22  | 39970 | 3948 | 0.120608955681909   | 0 |\n",
       "| AluYc3    | 66   | 8   | 39970 | 3948 | 0.201043020038783   | 0 |\n",
       "| AluYk12   | 18   | 2   | 39970 | 3948 | 0.260017900341417   | 0 |\n",
       "| AluYk4    | 148  | 15  | 39970 | 3948 | 0.390636366257782   | 0 |\n",
       "| AluSq10   | 239  | 24  | 39970 | 3948 | 0.412244372530931   | 0 |\n",
       "| AluYh3    | 309  | 31  | 39970 | 3948 | 0.416202006192871   | 0 |\n",
       "| AluYi6    | 43   | 3   | 39970 | 3948 | 0.625306742102066   | 0 |\n",
       "| AluYg6    | 98   | 8   | 39970 | 3948 | 0.640779652286108   | 0 |\n",
       "| AluYe5    | 160  | 13  | 39970 | 3948 | 0.722082064784147   | 0 |\n",
       "| AluYh3a3  | 38   | 2   | 39970 | 3948 | 0.738608137443571   | 0 |\n",
       "| AluSq4    | 254  | 21  | 39970 | 3948 | 0.771929691859625   | 0 |\n",
       "| AluYj4    | 375  | 32  | 39970 | 3948 | 0.782609420478177   | 0 |\n",
       "| AluYa5    | 377  | 32  | 39970 | 3948 | 0.792321607185277   | 0 |\n",
       "| AluYi6_4d | 16   | 0   | 39970 | 3948 | 0.81068028750074    | 0 |\n",
       "| AluYd8    | 21   | 0   | 39970 | 3948 | 0.887472938993076   | 0 |\n",
       "| AluSg7    | 1074 | 92  | 39970 | 3948 | 0.922531694857048   | 0 |\n",
       "| AluYa8    | 29   | 0   | 39970 | 3948 | 0.951056749972143   | 0 |\n",
       "| AluSc5    | 802  | 63  | 39970 | 3948 | 0.972722716992425   | 0 |\n",
       "| AluJr4    | 2410 | 210 | 39970 | 3948 | 0.975257052404978   | 0 |\n",
       "| AluSx3    | 3410 | 303 | 39970 | 3948 | 0.978342179033591   | 0 |\n",
       "| AluYb8    | 305  | 19  | 39970 | 3948 | 0.984064847214385   | 0 |\n",
       "| AluSq     | 1680 | 136 | 39970 | 3948 | 0.994069101128363   | 0 |\n",
       "| AluSx4    | 1285 | 100 | 39970 | 3948 | 0.995083024339502   | 0 |\n",
       "| AluYk11   | 195  | 8   | 39970 | 3948 | 0.99776132289608    | 0 |\n",
       "| AluYk3    | 119  | 3   | 39970 | 3948 | 0.998085174335669   | 0 |\n",
       "| AluSq2    | 5693 | 502 | 39970 | 3948 | 0.998161030579526   | 0 |\n",
       "| AluJo     | 7142 | 636 | 39970 | 3948 | 0.998852742033464   | 0 |\n",
       "| AluSg4    | 849  | 57  | 39970 | 3948 | 0.999340550236313   | 0 |\n",
       "| AluSp     | 4903 | 421 | 39970 | 3948 | 0.999442686937143   | 0 |\n",
       "| AluJr     | 7373 | 652 | 39970 | 3948 | 0.999536982579888   | 0 |\n",
       "| AluYc     | 519  | 29  | 39970 | 3948 | 0.999720412345367   | 0 |\n",
       "| AluYm1    | 468  | 25  | 39970 | 3948 | 0.999744966763158   | 0 |\n",
       "| Alu       | 451  | 23  | 39970 | 3948 | 0.999849323180515   | 0 |\n",
       "| AluSx1    | 8758 | 773 | 39970 | 3948 | 0.999912333174168   | 0 |\n",
       "| AluSx     | 8774 | 769 | 39970 | 3948 | 0.99996572894615    | 0 |\n",
       "| AluSg     | 3853 | 310 | 39970 | 3948 | 0.999977504143678   | 0 |\n",
       "| AluSz     | 8462 | 736 | 39970 | 3948 | 0.999981762682526   | 0 |\n",
       "| AluY      | 8201 | 707 | 39970 | 3948 | 0.999992092458837   | 0 |\n",
       "| AluSc8    | 2283 | 157 | 39970 | 3948 | 0.999999864618686   | 0 |\n",
       "| AluSc     | 3427 | 251 | 39970 | 3948 | 0.999999967844079   | 0 |\n",
       "| AluSz6    | 4784 | 366 | 39970 | 3948 | 0.99999999182604    | 0 |\n",
       "| AluJb     | 9921 | 836 | 39970 | 3948 | 0.999999992064975   | 0 |\n",
       "\n"
      ],
      "text/plain": [
       "      Alu       AluASCount AluSBCount TotalAS TotalSB PVal                FDR\n",
       " [1,] AluYe6    25         6          39970   3948    0.00885041969097088 0  \n",
       " [2,] AluYk2    81         12         39970   3948    0.0538096385965136  0  \n",
       " [3,] AluYb9    45         7          39970   3948    0.0713761391664266  0  \n",
       " [4,] AluYh7    12         2          39970   3948    0.1077257677052     0  \n",
       " [5,] AluYf1    180        22         39970   3948    0.120608955681909   0  \n",
       " [6,] AluYc3    66         8          39970   3948    0.201043020038783   0  \n",
       " [7,] AluYk12   18         2          39970   3948    0.260017900341417   0  \n",
       " [8,] AluYk4    148        15         39970   3948    0.390636366257782   0  \n",
       " [9,] AluSq10   239        24         39970   3948    0.412244372530931   0  \n",
       "[10,] AluYh3    309        31         39970   3948    0.416202006192871   0  \n",
       "[11,] AluYi6    43         3          39970   3948    0.625306742102066   0  \n",
       "[12,] AluYg6    98         8          39970   3948    0.640779652286108   0  \n",
       "[13,] AluYe5    160        13         39970   3948    0.722082064784147   0  \n",
       "[14,] AluYh3a3  38         2          39970   3948    0.738608137443571   0  \n",
       "[15,] AluSq4    254        21         39970   3948    0.771929691859625   0  \n",
       "[16,] AluYj4    375        32         39970   3948    0.782609420478177   0  \n",
       "[17,] AluYa5    377        32         39970   3948    0.792321607185277   0  \n",
       "[18,] AluYi6_4d 16         0          39970   3948    0.81068028750074    0  \n",
       "[19,] AluYd8    21         0          39970   3948    0.887472938993076   0  \n",
       "[20,] AluSg7    1074       92         39970   3948    0.922531694857048   0  \n",
       "[21,] AluYa8    29         0          39970   3948    0.951056749972143   0  \n",
       "[22,] AluSc5    802        63         39970   3948    0.972722716992425   0  \n",
       "[23,] AluJr4    2410       210        39970   3948    0.975257052404978   0  \n",
       "[24,] AluSx3    3410       303        39970   3948    0.978342179033591   0  \n",
       "[25,] AluYb8    305        19         39970   3948    0.984064847214385   0  \n",
       "[26,] AluSq     1680       136        39970   3948    0.994069101128363   0  \n",
       "[27,] AluSx4    1285       100        39970   3948    0.995083024339502   0  \n",
       "[28,] AluYk11   195        8          39970   3948    0.99776132289608    0  \n",
       "[29,] AluYk3    119        3          39970   3948    0.998085174335669   0  \n",
       "[30,] AluSq2    5693       502        39970   3948    0.998161030579526   0  \n",
       "[31,] AluJo     7142       636        39970   3948    0.998852742033464   0  \n",
       "[32,] AluSg4    849        57         39970   3948    0.999340550236313   0  \n",
       "[33,] AluSp     4903       421        39970   3948    0.999442686937143   0  \n",
       "[34,] AluJr     7373       652        39970   3948    0.999536982579888   0  \n",
       "[35,] AluYc     519        29         39970   3948    0.999720412345367   0  \n",
       "[36,] AluYm1    468        25         39970   3948    0.999744966763158   0  \n",
       "[37,] Alu       451        23         39970   3948    0.999849323180515   0  \n",
       "[38,] AluSx1    8758       773        39970   3948    0.999912333174168   0  \n",
       "[39,] AluSx     8774       769        39970   3948    0.99996572894615    0  \n",
       "[40,] AluSg     3853       310        39970   3948    0.999977504143678   0  \n",
       "[41,] AluSz     8462       736        39970   3948    0.999981762682526   0  \n",
       "[42,] AluY      8201       707        39970   3948    0.999992092458837   0  \n",
       "[43,] AluSc8    2283       157        39970   3948    0.999999864618686   0  \n",
       "[44,] AluSc     3427       251        39970   3948    0.999999967844079   0  \n",
       "[45,] AluSz6    4784       366        39970   3948    0.99999999182604    0  \n",
       "[46,] AluJb     9921       836        39970   3948    0.999999992064975   0  "
      ]
     },
     "metadata": {},
     "output_type": "display_data"
    }
   ],
   "source": [
    "alu.enrich[order(alu.enrich[,'PVal']),]"
   ]
  },
  {
   "cell_type": "raw",
   "metadata": {},
   "source": [
    "Find Alu elements with an estrogen receptor motif in the upstream exons"
   ]
  },
  {
   "cell_type": "raw",
   "metadata": {},
   "source": [
    "Read Alus with esr motif:"
   ]
  },
  {
   "cell_type": "code",
   "execution_count": 171,
   "metadata": {},
   "outputs": [],
   "source": [
    "esr.tab<-read.table('data/all-byclass-noM-plusminus-hits-uniq.txt',sep=' ',header = T)\n",
    "\n",
    "chr<-unlist(lapply(lapply(lapply(lapply(as.character(esr.tab$item_coordinates),strsplit,split=':'),'[[',1),'[[',1),'[',1))\n",
    "\n",
    "start<-unlist(lapply(lapply(lapply(as.character(esr.tab$item_coordinates),strsplit,split=':'),'[[',1),'[',2))\n",
    "\n",
    "start<-unlist(lapply(lapply(lapply(start,strsplit,split='-'),'[[',1),'[',1))\n",
    "\n",
    "end<-unlist(lapply(lapply(lapply(as.character(esr.tab$item_coordinates),strsplit,split=':'),'[[',1),'[',2))\n",
    "\n",
    "end<-unlist(lapply(lapply(lapply(end,strsplit,split='-'),'[[',1),'[',2))\n",
    "\n",
    "end<-unlist(lapply(lapply(lapply(end,strsplit,split=','),'[[',1),'[',1))\n",
    "\n",
    "strand<-unlist(lapply(lapply(lapply(as.character(esr.tab$item_coordinates),strsplit,split=':'),'[[',1),'[',2))\n",
    "\n",
    "strand<-unlist(lapply(lapply(lapply(strand,strsplit,split=','),'[[',1),'[',2))\n",
    "\n",
    "out.tab<-cbind(chr,start,end,rep('NA',length(chr)),as.integer(end)-as.integer(start)-1,strand,as.character(esr.tab$sequence_name),esr.tab$item_antisense)\n",
    "\n",
    "write.table(out.tab,'alu_with_esr.bed',sep='\\t',col.names = F,row.names = F,quote = F)\n",
    "\n",
    "system('bedtools intersect -wa -wb -s -F 1 -a flanking_introns.bed -b alu_with_esr.bed > intron_esr_intersections.bed')\n"
   ]
  },
  {
   "cell_type": "code",
   "execution_count": 165,
   "metadata": {},
   "outputs": [],
   "source": [
    "rm(out.tab)\n",
    "\n",
    "rm(esr.tab)\n",
    "\n",
    "rm(chr)\n",
    "\n",
    "rm(start)\n",
    "\n",
    "rm(end)\n",
    "\n",
    "rm(strand)"
   ]
  },
  {
   "cell_type": "raw",
   "metadata": {},
   "source": [
    "Compute enrichment scores:"
   ]
  },
  {
   "cell_type": "code",
   "execution_count": 169,
   "metadata": {},
   "outputs": [],
   "source": [
    "alu.esr.tab<-read.table('intron_esr_intersections.bed',sep='\\t',header = F)\n",
    "\n",
    "alu.esr.tab<-alu.esr.tab[grepl('^Alu',alu.esr.tab$V14),]\n",
    "\n",
    "alu.esr.tab<-alu.esr.tab[alu.esr.tab$V15==TRUE,]\n",
    "\n",
    "alu.esr.tab<-alu.esr.tab[!duplicated(paste0(alu.esr.tab$V7,alu.esr.tab$V14)),]\n",
    "\n",
    "alu.esr.tab<-alu.esr.tab[alu.esr.tab$V7 %in% all.events,]\n",
    "\n",
    "alu.types<-table(as.character(alu.esr.tab$V14))\n",
    "\n",
    "sb.esr.tab<-table(as.character(alu.esr.tab$V14[alu.esr.tab$V7 %in% sb.events]))\n",
    "\n",
    "alu.esr.enrich<-matrix(ncol=7,nrow=0)\n",
    "\n",
    "colnames(alu.esr.enrich)<-c('Alu','CountAS','CountSB','TotalAS','TotalSB','PVal','FDR')\n",
    "\n",
    "for (i in (1:length(alu.types)))\n",
    "{\n",
    "  \n",
    "  cur.cat<-names(alu.types)[i]  \n",
    "  \n",
    "  count.sb<-sb.esr.tab[cur.cat]\n",
    "  \n",
    "  count.as<-alu.types[cur.cat]\n",
    "  \n",
    "  if (is.na(count.sb) || all.events.per.alu[cur.cat]+sb.events.per.alu[cur.cat]<25 || count.sb<25)\n",
    "    \n",
    "    next\n",
    "          \n",
    "  pval<-exp(phyper(q=count.sb, m=count.as, n=all.events.per.alu[cur.cat]-count.as, k=sb.events.per.alu[cur.cat],log.p = T,lower.tail = F))\n",
    "  \n",
    "  alu.esr.enrich<-rbind(alu.esr.enrich, c(cur.cat,count.as,count.sb,all.events.per.alu[cur.cat],sb.events.per.alu[cur.cat],pval,0))\n",
    "}\n",
    "\n"
   ]
  },
  {
   "cell_type": "code",
   "execution_count": 173,
   "metadata": {},
   "outputs": [
    {
     "data": {
      "text/html": [
       "<table>\n",
       "<caption>A matrix: 20 × 7 of type chr</caption>\n",
       "<thead>\n",
       "\t<tr><th scope=col>Alu</th><th scope=col>CountAS</th><th scope=col>CountSB</th><th scope=col>TotalAS</th><th scope=col>TotalSB</th><th scope=col>PVal</th><th scope=col>FDR</th></tr>\n",
       "</thead>\n",
       "<tbody>\n",
       "\t<tr><td>AluSx1</td><td>4837</td><td>447</td><td>8758</td><td>773</td><td>0.0593287357781814</td><td>0</td></tr>\n",
       "\t<tr><td>AluJo </td><td>3292</td><td>308</td><td>7142</td><td>636</td><td>0.100540526736884 </td><td>0</td></tr>\n",
       "\t<tr><td>AluY  </td><td>2895</td><td>262</td><td>8201</td><td>707</td><td>0.143748843986385 </td><td>0</td></tr>\n",
       "\t<tr><td>AluSq </td><td>853 </td><td>73 </td><td>1680</td><td>136</td><td>0.213178593181609 </td><td>0</td></tr>\n",
       "\t<tr><td>AluSc5</td><td>381 </td><td>32 </td><td>802 </td><td>63 </td><td>0.249417737807356 </td><td>0</td></tr>\n",
       "\t<tr><td>AluJb </td><td>5247</td><td>448</td><td>9921</td><td>836</td><td>0.322810663420517 </td><td>0</td></tr>\n",
       "\t<tr><td>AluSg </td><td>1972</td><td>161</td><td>3853</td><td>310</td><td>0.368433669930801 </td><td>0</td></tr>\n",
       "\t<tr><td>AluSz6</td><td>2423</td><td>186</td><td>4784</td><td>366</td><td>0.451236374231679 </td><td>0</td></tr>\n",
       "\t<tr><td>AluSp </td><td>2577</td><td>220</td><td>4903</td><td>421</td><td>0.531856367563687 </td><td>0</td></tr>\n",
       "\t<tr><td>AluJr4</td><td>1105</td><td>95 </td><td>2410</td><td>210</td><td>0.544707024875345 </td><td>0</td></tr>\n",
       "\t<tr><td>AluSx3</td><td>1671</td><td>147</td><td>3410</td><td>303</td><td>0.546767832062465 </td><td>0</td></tr>\n",
       "\t<tr><td>AluSz </td><td>4609</td><td>398</td><td>8462</td><td>736</td><td>0.573408156430829 </td><td>0</td></tr>\n",
       "\t<tr><td>AluSx </td><td>4693</td><td>403</td><td>8774</td><td>769</td><td>0.723175135965562 </td><td>0</td></tr>\n",
       "\t<tr><td>AluSg4</td><td>413 </td><td>25 </td><td>849 </td><td>57 </td><td>0.729099457159974 </td><td>0</td></tr>\n",
       "\t<tr><td>AluSc </td><td>1833</td><td>129</td><td>3427</td><td>251</td><td>0.734146802646123 </td><td>0</td></tr>\n",
       "\t<tr><td>AluSc8</td><td>1145</td><td>73 </td><td>2283</td><td>157</td><td>0.806963674291288 </td><td>0</td></tr>\n",
       "\t<tr><td>AluJr </td><td>3517</td><td>298</td><td>7373</td><td>652</td><td>0.847904886734659 </td><td>0</td></tr>\n",
       "\t<tr><td>AluSx4</td><td>643 </td><td>42 </td><td>1285</td><td>100</td><td>0.941991048174425 </td><td>0</td></tr>\n",
       "\t<tr><td>AluSq2</td><td>2985</td><td>245</td><td>5693</td><td>502</td><td>0.951247776542249 </td><td>0</td></tr>\n",
       "\t<tr><td>AluSg7</td><td>543 </td><td>38 </td><td>1074</td><td>92 </td><td>0.959914185717135 </td><td>0</td></tr>\n",
       "</tbody>\n",
       "</table>\n"
      ],
      "text/latex": [
       "A matrix: 20 × 7 of type chr\n",
       "\\begin{tabular}{lllllll}\n",
       " Alu & CountAS & CountSB & TotalAS & TotalSB & PVal & FDR\\\\\n",
       "\\hline\n",
       "\t AluSx1 & 4837 & 447 & 8758 & 773 & 0.0593287357781814 & 0\\\\\n",
       "\t AluJo  & 3292 & 308 & 7142 & 636 & 0.100540526736884  & 0\\\\\n",
       "\t AluY   & 2895 & 262 & 8201 & 707 & 0.143748843986385  & 0\\\\\n",
       "\t AluSq  & 853  & 73  & 1680 & 136 & 0.213178593181609  & 0\\\\\n",
       "\t AluSc5 & 381  & 32  & 802  & 63  & 0.249417737807356  & 0\\\\\n",
       "\t AluJb  & 5247 & 448 & 9921 & 836 & 0.322810663420517  & 0\\\\\n",
       "\t AluSg  & 1972 & 161 & 3853 & 310 & 0.368433669930801  & 0\\\\\n",
       "\t AluSz6 & 2423 & 186 & 4784 & 366 & 0.451236374231679  & 0\\\\\n",
       "\t AluSp  & 2577 & 220 & 4903 & 421 & 0.531856367563687  & 0\\\\\n",
       "\t AluJr4 & 1105 & 95  & 2410 & 210 & 0.544707024875345  & 0\\\\\n",
       "\t AluSx3 & 1671 & 147 & 3410 & 303 & 0.546767832062465  & 0\\\\\n",
       "\t AluSz  & 4609 & 398 & 8462 & 736 & 0.573408156430829  & 0\\\\\n",
       "\t AluSx  & 4693 & 403 & 8774 & 769 & 0.723175135965562  & 0\\\\\n",
       "\t AluSg4 & 413  & 25  & 849  & 57  & 0.729099457159974  & 0\\\\\n",
       "\t AluSc  & 1833 & 129 & 3427 & 251 & 0.734146802646123  & 0\\\\\n",
       "\t AluSc8 & 1145 & 73  & 2283 & 157 & 0.806963674291288  & 0\\\\\n",
       "\t AluJr  & 3517 & 298 & 7373 & 652 & 0.847904886734659  & 0\\\\\n",
       "\t AluSx4 & 643  & 42  & 1285 & 100 & 0.941991048174425  & 0\\\\\n",
       "\t AluSq2 & 2985 & 245 & 5693 & 502 & 0.951247776542249  & 0\\\\\n",
       "\t AluSg7 & 543  & 38  & 1074 & 92  & 0.959914185717135  & 0\\\\\n",
       "\\end{tabular}\n"
      ],
      "text/markdown": [
       "\n",
       "A matrix: 20 × 7 of type chr\n",
       "\n",
       "| Alu | CountAS | CountSB | TotalAS | TotalSB | PVal | FDR |\n",
       "|---|---|---|---|---|---|---|\n",
       "| AluSx1 | 4837 | 447 | 8758 | 773 | 0.0593287357781814 | 0 |\n",
       "| AluJo  | 3292 | 308 | 7142 | 636 | 0.100540526736884  | 0 |\n",
       "| AluY   | 2895 | 262 | 8201 | 707 | 0.143748843986385  | 0 |\n",
       "| AluSq  | 853  | 73  | 1680 | 136 | 0.213178593181609  | 0 |\n",
       "| AluSc5 | 381  | 32  | 802  | 63  | 0.249417737807356  | 0 |\n",
       "| AluJb  | 5247 | 448 | 9921 | 836 | 0.322810663420517  | 0 |\n",
       "| AluSg  | 1972 | 161 | 3853 | 310 | 0.368433669930801  | 0 |\n",
       "| AluSz6 | 2423 | 186 | 4784 | 366 | 0.451236374231679  | 0 |\n",
       "| AluSp  | 2577 | 220 | 4903 | 421 | 0.531856367563687  | 0 |\n",
       "| AluJr4 | 1105 | 95  | 2410 | 210 | 0.544707024875345  | 0 |\n",
       "| AluSx3 | 1671 | 147 | 3410 | 303 | 0.546767832062465  | 0 |\n",
       "| AluSz  | 4609 | 398 | 8462 | 736 | 0.573408156430829  | 0 |\n",
       "| AluSx  | 4693 | 403 | 8774 | 769 | 0.723175135965562  | 0 |\n",
       "| AluSg4 | 413  | 25  | 849  | 57  | 0.729099457159974  | 0 |\n",
       "| AluSc  | 1833 | 129 | 3427 | 251 | 0.734146802646123  | 0 |\n",
       "| AluSc8 | 1145 | 73  | 2283 | 157 | 0.806963674291288  | 0 |\n",
       "| AluJr  | 3517 | 298 | 7373 | 652 | 0.847904886734659  | 0 |\n",
       "| AluSx4 | 643  | 42  | 1285 | 100 | 0.941991048174425  | 0 |\n",
       "| AluSq2 | 2985 | 245 | 5693 | 502 | 0.951247776542249  | 0 |\n",
       "| AluSg7 | 543  | 38  | 1074 | 92  | 0.959914185717135  | 0 |\n",
       "\n"
      ],
      "text/plain": [
       "      Alu    CountAS CountSB TotalAS TotalSB PVal               FDR\n",
       " [1,] AluSx1 4837    447     8758    773     0.0593287357781814 0  \n",
       " [2,] AluJo  3292    308     7142    636     0.100540526736884  0  \n",
       " [3,] AluY   2895    262     8201    707     0.143748843986385  0  \n",
       " [4,] AluSq  853     73      1680    136     0.213178593181609  0  \n",
       " [5,] AluSc5 381     32      802     63      0.249417737807356  0  \n",
       " [6,] AluJb  5247    448     9921    836     0.322810663420517  0  \n",
       " [7,] AluSg  1972    161     3853    310     0.368433669930801  0  \n",
       " [8,] AluSz6 2423    186     4784    366     0.451236374231679  0  \n",
       " [9,] AluSp  2577    220     4903    421     0.531856367563687  0  \n",
       "[10,] AluJr4 1105    95      2410    210     0.544707024875345  0  \n",
       "[11,] AluSx3 1671    147     3410    303     0.546767832062465  0  \n",
       "[12,] AluSz  4609    398     8462    736     0.573408156430829  0  \n",
       "[13,] AluSx  4693    403     8774    769     0.723175135965562  0  \n",
       "[14,] AluSg4 413     25      849     57      0.729099457159974  0  \n",
       "[15,] AluSc  1833    129     3427    251     0.734146802646123  0  \n",
       "[16,] AluSc8 1145    73      2283    157     0.806963674291288  0  \n",
       "[17,] AluJr  3517    298     7373    652     0.847904886734659  0  \n",
       "[18,] AluSx4 643     42      1285    100     0.941991048174425  0  \n",
       "[19,] AluSq2 2985    245     5693    502     0.951247776542249  0  \n",
       "[20,] AluSg7 543     38      1074    92      0.959914185717135  0  "
      ]
     },
     "metadata": {},
     "output_type": "display_data"
    }
   ],
   "source": [
    "alu.esr.enrich[order(alu.esr.enrich[,'PVal']),]"
   ]
  },
  {
   "cell_type": "code",
   "execution_count": 175,
   "metadata": {},
   "outputs": [
    {
     "data": {
      "text/html": [
       "39970"
      ],
      "text/latex": [
       "39970"
      ],
      "text/markdown": [
       "39970"
      ],
      "text/plain": [
       "[1] 39970"
      ]
     },
     "metadata": {},
     "output_type": "display_data"
    }
   ],
   "source": []
  },
  {
   "cell_type": "code",
   "execution_count": null,
   "metadata": {},
   "outputs": [],
   "source": []
  },
  {
   "cell_type": "code",
   "execution_count": null,
   "metadata": {},
   "outputs": [],
   "source": []
  }
 ],
 "metadata": {
  "kernelspec": {
   "display_name": "R",
   "language": "R",
   "name": "ir"
  },
  "language_info": {
   "codemirror_mode": "r",
   "file_extension": ".r",
   "mimetype": "text/x-r-source",
   "name": "R",
   "pygments_lexer": "r",
   "version": "3.6.2"
  },
  "toc-showcode": false
 },
 "nbformat": 4,
 "nbformat_minor": 4
}
