{
 "cells": [
  {
   "cell_type": "markdown",
   "metadata": {},
   "source": [
    "# event boxplot\n",
    "This notebook is dedicated to extracting counts values for specific alternative splicing events or gene expression differences.\n",
    "For example:\n",
    "```\n",
    "fromGTF.SE.txt:10149\t\"ENSG00000229807.11\"\t\"XIST\"\tchrX\t-\t73831065\t73831274\t73829067\t73829231\t73833237\t73833374\n",
    "```\n",
    "Here 10149 is a valid key for all  rmats_final.se* files"
   ]
  },
  {
   "cell_type": "code",
   "execution_count": 64,
   "metadata": {},
   "outputs": [],
   "source": [
    "from collections import defaultdict\n",
    "import os\n",
    "import gzip\n",
    "import requests\n",
    "import csv\n",
    "import numpy as np\n",
    "import matplotlib.pyplot as plt\n",
    "%matplotlib inline"
   ]
  },
  {
   "cell_type": "code",
   "execution_count": 20,
   "metadata": {},
   "outputs": [],
   "source": [
    "base_dir = '../data'"
   ]
  },
  {
   "cell_type": "code",
   "execution_count": 44,
   "metadata": {},
   "outputs": [],
   "source": [
    "def get_srr_pdata_map():\n",
    "    fname = os.path.join(base_dir, 'srr_pdata.csv')\n",
    "    if not os.path.exists(fname):\n",
    "        raise Error(\"srr_pdata.csv cannot be found\")\n",
    "    srr_dict = defaultdict(int)\n",
    "    with open(fname) as f:\n",
    "        reader = csv.DictReader(f, delimiter=\",\")\n",
    "        for row in reader: \n",
    "            srr = row['SRR']\n",
    "            sex = int(row['SEX'])\n",
    "            srr_dict[srr] = sex\n",
    "    return srr_dict"
   ]
  },
  {
   "cell_type": "code",
   "execution_count": 45,
   "metadata": {},
   "outputs": [],
   "source": [
    "## This is probably not needed! Can be deleted\n",
    "\n",
    "def download_subject_phenotypes_if_needed():\n",
    "    fname = os.path.join(base_dir, 'GTEx_Analysis_v8_Annotations_SubjectPhenotypesDS.txt')\n",
    "    if os.path.exists(fname):\n",
    "        print(\"GTEx phenotype file alreaday downloaded\")\n",
    "    pheno_url = 'https://storage.googleapis.com/gtex_analysis_v8/annotations/GTEx_Analysis_v8_Annotations_SubjectPhenotypesDS.txt'\n",
    "    r = requests.get(pheno_url)\n",
    "    if r is None:\n",
    "        raise Exception(\"Could not download pheno URL\")\n",
    "    fname = os.path.join(base_dir, 'GTEx_Analysis_v8_Annotations_SubjectPhenotypesDS.txt')\n",
    "    fh = open(fname, 'wt')\n",
    "    fh.write(r.text)\n",
    "\n",
    "# download_subject_phenotypes_if_needed()  "
   ]
  },
  {
   "cell_type": "code",
   "execution_count": 37,
   "metadata": {},
   "outputs": [],
   "source": [
    "## This is probably not needed! Can be deleted\n",
    "def get_subject_phenotypes():\n",
    "    fname = os.path.join(base_dir, 'GTEx_Analysis_v8_Annotations_SubjectPhenotypesDS.txt')\n",
    "    if not os.path.exists(fname):\n",
    "        raise Error(\"GTEx phenotype file must be downloaded first\")\n",
    "    subjectdict = defaultdict(int)\n",
    "    with open(fname) as f:\n",
    "        reader = csv.DictReader(f, delimiter=\"\\t\")\n",
    "        for row in reader:\n",
    "            subjectdict[row['SUBJID']] = int(row['SEX'])\n",
    "        \n",
    "        \n",
    "# get_subject_phenotypes()"
   ]
  },
  {
   "cell_type": "code",
   "execution_count": 79,
   "metadata": {},
   "outputs": [],
   "source": [
    "def get_rmats_files(category, typ):\n",
    "    \"\"\"\n",
    "    category is a string such as SE or A3SS\n",
    "    \"\"\"\n",
    "    lccat = category.lower()\n",
    "    valid_cats = {'se', 'mxe', 'ri', 'a3ss', 'a5ss'}\n",
    "    files = []\n",
    "    if not lccat in valid_cats:\n",
    "        raise ValueError(\"Invalid category passed: \\\"%s\\\"\" % category)\n",
    "    search_string = 'rmats_final.%s' % lccat\n",
    "    for file in os.listdir(base_dir):\n",
    "        if search_string in file and typ in file:\n",
    "            #print(os.path.join(base_dir, file))\n",
    "            files.append(os.path.join(base_dir, file))\n",
    "    return files\n",
    "    "
   ]
  },
  {
   "cell_type": "code",
   "execution_count": 67,
   "metadata": {},
   "outputs": [],
   "source": [
    "def get_inc_dot_txt_values(path, rmats_id, srr_dict):\n",
    "    \"\"\"\n",
    "    path: path to a rmats_final.*.jc.inc.txt.gz file, where * is one of 'se', 'mxe', 'ri', 'a3ss', 'a5ss'\n",
    "    rmats_id: id of the splicing event, e.g., fromGTF.SE.txt:10149 is event 10149 in the \"se\" file.\n",
    "    \"\"\"\n",
    "    searchstring = \"%s,\" % rmats_id\n",
    "    values_m = []\n",
    "    values_f = []\n",
    "    with gzip.open(fname,'rt') as f:\n",
    "        header = next(f)\n",
    "        header_fields = header.rstrip().split(\",\")[1:]\n",
    "        not_found = 0\n",
    "        for line in f:\n",
    "            if line.startswith(searchstring):\n",
    "                fields = line.rstrip().split(\",\")\n",
    "                for i in range(1, len(header_fields)):\n",
    "                    val = float(fields[i])\n",
    "                    srr = header_fields[i]\n",
    "                    if srr in srr_dict:\n",
    "                        if srr_dict[srr] == 1:\n",
    "                            values_m.append(val)\n",
    "                        elif srr_dict[srr] == 2:\n",
    "                            values_f.append(val)\n",
    "                        else:\n",
    "                            raise ValueError(\"Unknown gender code: \", srr_dict[srr])\n",
    "                    else:\n",
    "                        #print(\"[WARN] could not find %s in srr_dict.\" % srr)\n",
    "                        not_found += 1\n",
    "    print(\"Not found samples, \", not_found)\n",
    "    return values_m, values_f\n",
    "            "
   ]
  },
  {
   "cell_type": "code",
   "execution_count": 81,
   "metadata": {},
   "outputs": [],
   "source": [
    "def get_jc_txt_values(path, rmats_id, srr_dict):\n",
    "    \"\"\"\n",
    "    path: path to a rmats_final.*.jc.inc.txt.gz file, where * is one of 'se', 'mxe', 'ri', 'a3ss', 'a5ss'\n",
    "    rmats_id: id of the splicing event, e.g., fromGTF.SE.txt:10149 is event 10149 in the \"se\" file.\n",
    "    \"\"\"\n",
    "    searchstring = \"%s,\" % rmats_id\n",
    "    m_dict = defaultdict(float)\n",
    "    f_dict = defaultdict(float)\n",
    "    with gzip.open(fname,'rt') as f:\n",
    "        header = next(f)\n",
    "        header_fields = header.rstrip().split(\",\")[1:]\n",
    "        not_found = 0\n",
    "        for line in f:\n",
    "            if line.startswith(searchstring):\n",
    "                fields = line.rstrip().split(\",\")\n",
    "                for i in range(1, len(header_fields)):\n",
    "                    val = float(fields[i])\n",
    "                    srr = header_fields[i]\n",
    "                    if srr in srr_dict:\n",
    "                        if srr_dict[srr] == 1:\n",
    "                            m_dict[srr] = val\n",
    "                        elif srr_dict[srr] == 2:\n",
    "                            f_dict[srr] = val\n",
    "                        else:\n",
    "                            raise ValueError(\"Unknown gender code: \", srr_dict[srr])\n",
    "                    else:\n",
    "                        #print(\"[WARN] could not find %s in srr_dict.\" % srr)\n",
    "                        not_found += 1\n",
    "    print(\"Not found samples, \", not_found)\n",
    "    return m_dict, f_dict\n",
    "\n",
    "def get_psi(sjc_path, ijc_path, rmats_id, srr_dict):\n",
    "    m_ijc_dict, f_ijc_dict = get_jc_txt_values(ijc_path, rmats_id, srr_dict)\n",
    "    m_sjc_dict, f_sjc_dict = get_jc_txt_values(sjc_path, rmats_id, srr_dict)\n",
    "    m_values = []\n",
    "    f_values = []\n",
    "    for k, ijc in m_ijc_dict.items():\n",
    "        if k in m_sjc_dict:\n",
    "            sjc = m_sjc_dict.get(k)\n",
    "            denom = ijc+sjc\n",
    "            if denom == 0:\n",
    "                continue\n",
    "            psi = ijc/denom\n",
    "            m_values.append(psi)\n",
    "    for k, ijc in f_ijc_dict.items():\n",
    "        if k in f_sjc_dict:\n",
    "            sjc = f_sjc_dict.get(k)\n",
    "            denom = ijc+sjc\n",
    "            if denom == 0:\n",
    "                continue\n",
    "            psi = ijc/denom\n",
    "            f_values.append(psi)\n",
    "    return m_values, f_values\n",
    "            "
   ]
  },
  {
   "cell_type": "code",
   "execution_count": 68,
   "metadata": {},
   "outputs": [
    {
     "name": "stdout",
     "output_type": "stream",
     "text": [
      "../data/rmats_final.se.jc.inc.txt.gz\n"
     ]
    }
   ],
   "source": [
    "files = get_rmats_files(\"SE\")\n",
    "for f in files:\n",
    "    print(f)"
   ]
  },
  {
   "cell_type": "code",
   "execution_count": 75,
   "metadata": {},
   "outputs": [
    {
     "name": "stdout",
     "output_type": "stream",
     "text": [
      "Not found samples,  801\n"
     ]
    }
   ],
   "source": [
    "fname = files[0]\n",
    "srr_dict = get_srr_pdata_map()\n",
    "#values_m, values_f = get_inc_dot_txt_values(files[0], \"10151\", srr_dict)\n",
    "\n"
   ]
  },
  {
   "cell_type": "code",
   "execution_count": 80,
   "metadata": {},
   "outputs": [
    {
     "name": "stdout",
     "output_type": "stream",
     "text": [
      "ijc: ['../data/rmats_final.se.jc.ijc.txt.gz']; sjc: ['../data/rmats_final.se.jc.sjc.txt.gz']\n"
     ]
    }
   ],
   "source": [
    "ijc_file = get_rmats_files('SE', 'ijc.txt')\n",
    "sjc_file = get_rmats_files('SE', 'sjc.txt')\n",
    "print(\"ijc: %s; sjc: %s\" % (ijc_file, sjc_file))\n",
    "m_values, f_values = get_psi(sjc_file, ijc_file, rmats_id=)"
   ]
  },
  {
   "cell_type": "code",
   "execution_count": 76,
   "metadata": {},
   "outputs": [
    {
     "data": {
      "text/plain": [
       "7872"
      ]
     },
     "execution_count": 76,
     "metadata": {},
     "output_type": "execute_result"
    }
   ],
   "source": [
    "len(srr_dict)"
   ]
  },
  {
   "cell_type": "code",
   "execution_count": 77,
   "metadata": {},
   "outputs": [
    {
     "data": {
      "image/png": "[encoded data removed]",
      "text/plain": [
       "<Figure size 720x504 with 1 Axes>"
      ]
     },
     "metadata": {
      "needs_background": "light"
     },
     "output_type": "display_data"
    }
   ],
   "source": [
    "data = [np.array(values_m), np.array(values_f)] \n",
    "  \n",
    "fig = plt.figure(figsize =(10, 7)) \n",
    "  \n",
    "# Creating axes instance \n",
    "ax = fig.add_axes([0, 0, 1, 1]) \n",
    "  \n",
    "# Creating plot \n",
    "bp = ax.boxplot(data) \n",
    "  \n",
    "# show plot \n",
    "plt.show() "
   ]
  },
  {
   "cell_type": "code",
   "execution_count": null,
   "metadata": {},
   "outputs": [],
   "source": []
  }
 ],
 "metadata": {
  "kernelspec": {
   "display_name": "Python 3",
   "language": "python",
   "name": "python3"
  },
  "language_info": {
   "codemirror_mode": {
    "name": "ipython",
    "version": 3
   },
   "file_extension": ".py",
   "mimetype": "text/x-python",
   "name": "python",
   "nbconvert_exporter": "python",
   "pygments_lexer": "ipython3",
   "version": "3.7.6"
  }
 },
 "nbformat": 4,
 "nbformat_minor": 4
}
