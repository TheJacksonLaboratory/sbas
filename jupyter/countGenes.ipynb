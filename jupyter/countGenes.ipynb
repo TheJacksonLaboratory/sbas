{
 "cells": [
  {
   "cell_type": "code",
   "execution_count": null,
   "metadata": {},
   "outputs": [],
   "source": [
    "library(dplyr)\n",
    "library(ggplot2)"
   ]
  },
  {
   "cell_type": "markdown",
   "metadata": {},
   "source": [
    "Parse files to create a data frame with counts"
   ]
  },
  {
   "cell_type": "code",
   "execution_count": null,
   "metadata": {},
   "outputs": [],
   "source": [
    "files <- list.files(path = \"significant_events/\", pattern = \"*.txt\")\n",
    "as_types <- c(\"a3ss\", \"a5ss\", \"mxe\", \"ri\", \"se\")"
   ]
  },
  {
   "cell_type": "code",
   "execution_count": null,
   "metadata": {},
   "outputs": [],
   "source": [
    "files_aux <- gsub(pattern = \".txt\", replacement = \"\", x = files)\n",
    "files_aux <- gsub(pattern = \"a3ss$|a5ss$|mxe$|ri$|se$\", replacement = \"\", files_aux)"
   ]
  },
  {
   "cell_type": "code",
   "execution_count": null,
   "metadata": {},
   "outputs": [],
   "source": [
    "a3ss_annot <- read.table(file = \"fromGTF.A3SS.txt\", sep = \"\\t\", quote = \"\\\"\", header = T, stringsAsFactors = F)\n",
    "a5ss_annot <- read.table(file = \"fromGTF.A5SS.txt\", sep = \"\\t\", quote = \"\\\"\", header = T, stringsAsFactors = F)\n",
    "mxe_annot <- read.table(file = \"fromGTF.MXE.txt\", sep = \"\\t\", quote = \"\\\"\", header = T, stringsAsFactors = F)\n",
    "ri_annot <- read.table(file = \"fromGTF.RI.txt\", sep = \"\\t\", quote = \"\\\"\", header = T, stringsAsFactors = F)\n",
    "se_annot <- read.table(file = \"fromGTF.SE.txt\", sep = \"\\t\", quote = \"\\\"\", header = T, stringsAsFactors = F)"
   ]
  },
  {
   "cell_type": "code",
   "execution_count": null,
   "metadata": {},
   "outputs": [],
   "source": [
    "gene_as <- data.frame()"
   ]
  },
  {
   "cell_type": "code",
   "execution_count": null,
   "metadata": {},
   "outputs": [],
   "source": [
    "for (i in 1:length(files)) {\n",
    "  \n",
    "  lines <- readLines(paste0(\"./significant_events/\", files[i]))\n",
    "  \n",
    "  if(length(lines) > 1){ #has significant events\n",
    "    events <- read.table(paste0(\"./significant_events/\", files[i]), sep = \"\\t\", skip = 1) \n",
    "    \n",
    "    if(grepl(\"a3ss.txt$\", files[i])){\n",
    "      idx <- match(events$V1, a3ss_annot$ID)\n",
    "      res <- data.frame(Tissue = files_aux[i], ASE = \"A3SS\", \n",
    "                        GeneSymbol = a3ss_annot$geneSymbol[idx],\n",
    "                        chr = a3ss_annot$chr[idx])\n",
    "    }\n",
    "    if(grepl(\"a5ss.txt$\", files[i])){\n",
    "      idx <- match(events$V1, a5ss_annot$ID)\n",
    "      res <- data.frame(Tissue = files_aux[i], ASE = \"A5SS\", \n",
    "                        GeneSymbol = a5ss_annot$geneSymbol[idx],\n",
    "                        chr = a5ss_annot$chr[idx])\n",
    "    }\n",
    "    if(grepl(\"mxe.txt$\", files[i])){\n",
    "      idx <- match(events$V1, mxe_annot$ID)\n",
    "      res <- data.frame(Tissue = files_aux[i], ASE = \"MXE\", \n",
    "                        GeneSymbol = mxe_annot$geneSymbol[idx],\n",
    "                        chr = mxe_annot$chr[idx])\n",
    "    }\n",
    "    if(grepl(\"se.txt$\", files[i])){\n",
    "      idx <- match(events$V1, se_annot$ID)\n",
    "      res <- data.frame(Tissue = files_aux[i], ASE = \"SE\", \n",
    "                        GeneSymbol = se_annot$geneSymbol[idx],\n",
    "                        chr = se_annot$chr[idx])\n",
    "    }\n",
    "    if(grepl(\"ri.txt$\", files[i])){\n",
    "      idx <- match(events$V1, ri_annot$ID)\n",
    "      res <- data.frame(Tissue = files_aux[i], ASE = \"RI\", \n",
    "                        GeneSymbol = ri_annot$geneSymbol[idx],\n",
    "                        chr = ri_annot$chr[idx])\n",
    "    }\n",
    "    \n",
    "    gene_as <- rbind(gene_as, res)\n",
    "    \n",
    "  } #if has sig. events"
   ]
  },
  {
   "cell_type": "code",
   "execution_count": null,
   "metadata": {},
   "outputs": [],
   "source": [
    "} #for all files"
   ]
  },
  {
   "cell_type": "code",
   "execution_count": null,
   "metadata": {},
   "outputs": [],
   "source": [
    "# Count most frequent spliced genes\n",
    "res <- gene_as %>% group_by(GeneSymbol) %>% count(GeneSymbol) %>% arrange(desc(n)) %>% as.data.frame()\n",
    "res$GeneSymbol <- factor(res$GeneSymbol, levels = res$GeneSymbol)\n",
    "length(res$GeneSymbol)"
   ]
  },
  {
   "cell_type": "code",
   "execution_count": null,
   "metadata": {},
   "outputs": [],
   "source": [
    "#Add number of tissues\n",
    "nTissues <- rep(NA, length(res))\n",
    "for (i in 1:nrow(res)) {\n",
    "  df_gene <- gene_as %>% filter(GeneSymbol == res$GeneSymbol[i])\n",
    "  nTissues[i] <- length(unique(df_gene$Tissue))\n",
    "}\n",
    "res$Tissues <- nTissues"
   ]
  },
  {
   "cell_type": "code",
   "execution_count": null,
   "metadata": {},
   "outputs": [],
   "source": [
    "# Genes with more than 10 splicing events\n",
    "ggplot(res[res$n > 10, ], aes(x = GeneSymbol, y = n)) +\n",
    "  geom_point(size = 4, aes(fill = Tissues, color = Tissues)) +\n",
    "  theme_bw() +\n",
    "  theme(axis.text.x = element_text(size=10, angle = 270, hjust = 0.0, vjust = 0.5),\n",
    "        axis.text.y = element_text(size=16),\n",
    "        axis.title.x = element_text(face=\"plain\", colour=\"black\", \n",
    "                                    size=14),\n",
    "        axis.title.y = element_text(face=\"plain\", colour=\"black\", \n",
    "                                    size=14),\n",
    "        legend.title=element_blank(),\n",
    "        legend.text = element_text(face=\"plain\", colour=\"black\", \n",
    "                                   size=12)) +\n",
    "  scale_fill_viridis_c(aesthetics = c(\"colour\", \"fill\"),\n",
    "                       option = \"plasma\",\n",
    "                       limits = c(1, 30), breaks = c(10, 20, 30)) +\n",
    "  ylab(paste(\"Number of sex-biased splicing events\")) +\n",
    "  xlab(\"Genes\")"
   ]
  },
  {
   "cell_type": "code",
   "execution_count": null,
   "metadata": {},
   "outputs": [],
   "source": []
  },
  {
   "cell_type": "markdown",
   "metadata": {},
   "source": [
    "Pie chart"
   ]
  },
  {
   "cell_type": "markdown",
   "metadata": {},
   "source": [
    "Tissue specific 1 tissue\n",
    "Tissue group 2-5 tissues\n",
    "Recurrent > 5 tissues"
   ]
  },
  {
   "cell_type": "code",
   "execution_count": null,
   "metadata": {},
   "outputs": [],
   "source": [
    "#Pie chart - Number of patients with 0, 1, >1 events\n",
    "counts <- c(res %>% filter(Tissues == 1) %>% count() %>% as.numeric(),\n",
    "            res %>% filter(Tissues > 1 & Tissues < 5) %>% count() %>% as.numeric(),\n",
    "            res %>% filter(Tissues > 5) %>% count() %>% as.numeric())"
   ]
  },
  {
   "cell_type": "code",
   "execution_count": null,
   "metadata": {},
   "outputs": [],
   "source": [
    "# Define some colors ideal for black & white print\n",
    "colors <- c(\"white\",\"grey70\",\"grey90\",\"grey50\",\"black\")\n",
    "colors <- c(\"grey90\",\"grey50\", \"black\")"
   ]
  },
  {
   "cell_type": "markdown",
   "metadata": {},
   "source": [
    "Calculate the percentage for each category"
   ]
  },
  {
   "cell_type": "code",
   "execution_count": null,
   "metadata": {
    "lines_to_next_cell": 2
   },
   "outputs": [],
   "source": [
    "counts_labels <- round(counts/sum(counts) * 100, 1)\n",
    "counts_labels <- paste(counts_labels, \"%\", sep=\"\")\n",
    "counts_labels <- paste(counts_labels, counts, sep =\" \")"
   ]
  },
  {
   "cell_type": "code",
   "execution_count": null,
   "metadata": {},
   "outputs": [],
   "source": [
    "# Create a pie chart with defined heading and custom colors\n",
    "# and labels\n",
    "pie(counts, main=\"\", col=colors, labels=counts_labels,\n",
    "    cex=1.2)"
   ]
  },
  {
   "cell_type": "code",
   "execution_count": null,
   "metadata": {
    "lines_to_next_cell": 2
   },
   "outputs": [],
   "source": [
    "# Create a legend at the right   \n",
    "legend(1.5, 0.5, c(\"1 tissue\",\"2-5 tissues\",\"> 5 tissues\"), cex=1.2, \n",
    "       fill=colors)"
   ]
  },
  {
   "cell_type": "code",
   "execution_count": null,
   "metadata": {},
   "outputs": [],
   "source": [
    "# Number of splicing events normalized per chromosome\n",
    "library(rtracklayer)\n",
    "gencode <- import.gff(\"/Users/dveiga/tools/Gencode/gencode.v25.annotation.gtf\")"
   ]
  },
  {
   "cell_type": "code",
   "execution_count": null,
   "metadata": {},
   "outputs": [],
   "source": [
    "exons <- gencode[ gencode$type == \"exon\", ]\n",
    "exons <- as.data.frame(exons)"
   ]
  },
  {
   "cell_type": "code",
   "execution_count": null,
   "metadata": {},
   "outputs": [],
   "source": [
    "all_chr <- as.character(unique(gene_as$chr))\n",
    "chr_counts <- rep(0, length(all_chr))"
   ]
  },
  {
   "cell_type": "code",
   "execution_count": null,
   "metadata": {},
   "outputs": [],
   "source": [
    "for (i in 1:length(all_chr)) {\n",
    "  chr_counts[i] <- nrow(exons[exons$seqnames == all_chr[i], ])\n",
    "}"
   ]
  },
  {
   "cell_type": "code",
   "execution_count": null,
   "metadata": {},
   "outputs": [],
   "source": [
    "exon_counts <- data.frame(chr = all_chr, counts = chr_counts)"
   ]
  },
  {
   "cell_type": "code",
   "execution_count": null,
   "metadata": {},
   "outputs": [],
   "source": [
    "# Count most frequent spliced chromosomes\n",
    "res <- gene_as %>% group_by(chr) %>% count(chr) %>% arrange(desc(n)) %>% as.data.frame()\n",
    "res$chr <- factor(res$chr, levels = res$chr)"
   ]
  },
  {
   "cell_type": "code",
   "execution_count": null,
   "metadata": {},
   "outputs": [],
   "source": [
    "idx <- match(res$chr, exon_counts$chr)"
   ]
  },
  {
   "cell_type": "code",
   "execution_count": null,
   "metadata": {},
   "outputs": [],
   "source": [
    "res$ExonCounts <- exon_counts$counts[idx]"
   ]
  },
  {
   "cell_type": "code",
   "execution_count": null,
   "metadata": {},
   "outputs": [],
   "source": [
    "res$Index <- (res$n / res$ExonCounts) * 1000"
   ]
  },
  {
   "cell_type": "code",
   "execution_count": null,
   "metadata": {},
   "outputs": [],
   "source": [
    "res_sorted <- res %>% arrange(desc(Index))\n",
    "res_sorted$chr <- factor(res_sorted$chr, levels = res_sorted$chr)"
   ]
  },
  {
   "cell_type": "code",
   "execution_count": null,
   "metadata": {},
   "outputs": [],
   "source": [
    "ggplot(res_sorted, aes(x = chr, y = Index, size = n)) +\n",
    "  geom_point(color = \"red\") +\n",
    "  theme_bw() +\n",
    "  theme(axis.text.x = element_text(size=10, angle = 270, hjust = 0.0, vjust = 0.5),\n",
    "        axis.text.y = element_text(size=16),\n",
    "        axis.title.x = element_text(face=\"plain\", colour=\"black\", \n",
    "                                    size=14),\n",
    "        axis.title.y = element_text(face=\"plain\", colour=\"black\", \n",
    "                                    size=14),\n",
    "        legend.title=element_blank(),\n",
    "        legend.text = element_text(face=\"plain\", colour=\"black\", \n",
    "                                   size=12)) +\n",
    "  scale_fill_viridis_c(aesthetics = c(\"colour\", \"fill\"),\n",
    "                       option = \"plasma\",\n",
    "                       limits = c(1, 650)) +\n",
    "  ylab(paste(\"Normalized Number of sex-biased ASE\")) +\n",
    "  xlab(\"Chromosomes\") +\n",
    "  guides(size = guide_legend(title = \"Number of ASE\"))"
   ]
  },
  {
   "cell_type": "code",
   "execution_count": null,
   "metadata": {},
   "outputs": [],
   "source": [
    "write.table(res_sorted, file = \"SplicingIndex_chr.tsv\", sep = \"\\t\", quote = F,\n",
    "            row.names = F)"
   ]
  }
 ],
 "metadata": {
  "jupytext": {
   "cell_metadata_filter": "-all",
   "main_language": "R",
   "notebook_metadata_filter": "-all"
  }
 },
 "nbformat": 4,
 "nbformat_minor": 4
}
