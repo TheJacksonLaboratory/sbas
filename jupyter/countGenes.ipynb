{
 "cells": [
  {
   "cell_type": "markdown",
   "metadata": {},
   "source": [
    "# Analysis Notebook - Count Genes - `CountGenes`\n",
    "\n",
    "As instructed by the software, we are using the raw counts as provided by rMATS.  The raw counts we are using in the model are `ijc` and `sjc`, the sample specific raw read counts as they align to the junctions of the `included exon (ijc)` and the junctions of the `excluded or skipped exon (sjc)` respectively.\n",
    "\n",
    "\n",
    "Be sure to set your GITHUB_TOKEN, prior to downloading files\n",
    "\n",
    "One suggestion is change it to your token and then run it then immediately change it back to this:\n",
    "\n",
    "Sys.setenv(GITHUB_TOKEN = \"your-very-own-github-token\")"
   ]
  },
  {
   "cell_type": "code",
   "execution_count": null,
   "metadata": {},
   "outputs": [],
   "source": [
    "# Sys.setenv(GITHUB_TOKEN=\"your-very-own-github-token\")"
   ]
  },
  {
   "cell_type": "code",
   "execution_count": 1,
   "metadata": {},
   "outputs": [
    {
     "name": "stderr",
     "output_type": "stream",
     "text": [
      "Warning message:\n",
      "“package ‘dplyr’ was built under R version 3.6.2”\n",
      "Attaching package: ‘dplyr’\n",
      "\n",
      "The following objects are masked from ‘package:stats’:\n",
      "\n",
      "    filter, lag\n",
      "\n",
      "The following objects are masked from ‘package:base’:\n",
      "\n",
      "    intersect, setdiff, setequal, union\n",
      "\n",
      "Loading required package: BiocGenerics\n",
      "Loading required package: parallel\n",
      "\n",
      "Attaching package: ‘BiocGenerics’\n",
      "\n",
      "The following objects are masked from ‘package:parallel’:\n",
      "\n",
      "    clusterApply, clusterApplyLB, clusterCall, clusterEvalQ,\n",
      "    clusterExport, clusterMap, parApply, parCapply, parLapply,\n",
      "    parLapplyLB, parRapply, parSapply, parSapplyLB\n",
      "\n",
      "The following object is masked from ‘package:limma’:\n",
      "\n",
      "    plotMA\n",
      "\n",
      "The following objects are masked from ‘package:dplyr’:\n",
      "\n",
      "    combine, intersect, setdiff, union\n",
      "\n",
      "The following objects are masked from ‘package:stats’:\n",
      "\n",
      "    IQR, mad, sd, var, xtabs\n",
      "\n",
      "The following objects are masked from ‘package:base’:\n",
      "\n",
      "    anyDuplicated, append, as.data.frame, basename, cbind, colnames,\n",
      "    dirname, do.call, duplicated, eval, evalq, Filter, Find, get, grep,\n",
      "    grepl, intersect, is.unsorted, lapply, Map, mapply, match, mget,\n",
      "    order, paste, pmax, pmax.int, pmin, pmin.int, Position, rank,\n",
      "    rbind, Reduce, rownames, sapply, setdiff, sort, table, tapply,\n",
      "    union, unique, unsplit, which, which.max, which.min\n",
      "\n",
      "Loading required package: Biobase\n",
      "Welcome to Bioconductor\n",
      "\n",
      "    Vignettes contain introductory material; view with\n",
      "    'browseVignettes()'. To cite Bioconductor, see\n",
      "    'citation(\"Biobase\")', and for packages 'citation(\"pkgname\")'.\n",
      "\n",
      "Loading required package: R.oo\n",
      "Loading required package: R.methodsS3\n",
      "R.methodsS3 v1.8.0 (2020-02-14 07:10:20 UTC) successfully loaded. See ?R.methodsS3 for help.\n",
      "R.oo v1.23.0 successfully loaded. See ?R.oo for help.\n",
      "\n",
      "Attaching package: ‘R.oo’\n",
      "\n",
      "The following object is masked from ‘package:R.methodsS3’:\n",
      "\n",
      "    throw\n",
      "\n",
      "The following objects are masked from ‘package:methods’:\n",
      "\n",
      "    getClasses, getMethods\n",
      "\n",
      "The following objects are masked from ‘package:base’:\n",
      "\n",
      "    attach, detach, load, save\n",
      "\n",
      "R.utils v2.9.2 successfully loaded. See ?R.utils for help.\n",
      "\n",
      "Attaching package: ‘R.utils’\n",
      "\n",
      "The following object is masked from ‘package:utils’:\n",
      "\n",
      "    timestamp\n",
      "\n",
      "The following objects are masked from ‘package:base’:\n",
      "\n",
      "    cat, commandArgs, getOption, inherits, isOpen, nullfile, parse,\n",
      "    warnings\n",
      "\n"
     ]
    }
   ],
   "source": [
    "library(dplyr)\n",
    "library(ggplot2)\n",
    "library(limma)\n",
    "library(piggyback)\n",
    "library(multtest)\n",
    "library(Biobase)\n",
    "library(edgeR)\n",
    "library(tibble)\n",
    "#install.packages('R.utils')\n",
    "library(R.utils)"
   ]
  },
  {
   "cell_type": "markdown",
   "metadata": {},
   "source": [
    "## Download all the rMATS results\n",
    "\n",
    "Each of the alternative splicing output files are downloaded here:"
   ]
  },
  {
   "cell_type": "code",
   "execution_count": 2,
   "metadata": {},
   "outputs": [],
   "source": [
    "#\n",
    "# refined results (FC > 1.5 and pVal < 0.05)\n",
    "# for the sex*as_event coefficient result for the linear model\n",
    "#\n",
    "significant_results_dir = \"../data/\"\n",
    "pattern = \"DGE_sex_as_events_refined.csv\"\n",
    "files <- list.files(path = significant_results_dir, pattern = pattern)\n",
    "as_types <- c(\"a3ss\", \"a5ss\", \"mxe\", \"ri\", \"se\")"
   ]
  },
  {
   "cell_type": "code",
   "execution_count": 4,
   "metadata": {},
   "outputs": [],
   "source": [
    "a3ss_annot <- read.table(file = \"../data/fromGTF.A3SS.txt\", sep = \"\\t\", quote = \"\\\"\", header = T, stringsAsFactors = F)\n",
    "a5ss_annot <- read.table(file = \"../data/fromGTF.A5SS.txt\", sep = \"\\t\", quote = \"\\\"\", header = T, stringsAsFactors = F)\n",
    "mxe_annot <- read.table(file = \"../data/fromGTF.MXE.txt\", sep = \"\\t\", quote = \"\\\"\", header = T, stringsAsFactors = F)\n",
    "ri_annot <- read.table(file = \"../data/fromGTF.RI.txt\", sep = \"\\t\", quote = \"\\\"\", header = T, stringsAsFactors = F)\n",
    "se_annot <- read.table(file = \"../data/fromGTF.SE.txt\", sep = \"\\t\", quote = \"\\\"\", header = T, stringsAsFactors = F)"
   ]
  },
  {
   "cell_type": "code",
   "execution_count": 6,
   "metadata": {},
   "outputs": [
    {
     "name": "stderr",
     "output_type": "stream",
     "text": [
      "\n",
      "Reading significant events for each splicing factor\n",
      "\n",
      "\n",
      "Done reading significant events!\n",
      "\n"
     ]
    }
   ],
   "source": [
    "message (\"\\nReading significant events for each splicing factor\\n\")\n",
    "gene_as = data.frame()\n",
    "for (i in 1:length(files)) {\n",
    "    lines <- read.csv(paste0(significant_results_dir, files[i]),header = TRUE)\n",
    "    event     <- as.vector(as.character(rownames(lines)))\n",
    "    tissue <- gsub(\"_DGE_sex_as_events_refined.csv\",\"\", files[i], fixed = TRUE)\n",
    "    \n",
    "    if (dim(lines)[1] > 0) { #has significant events\n",
    "        # rownames of the significant results file are a combination of gene-symbol and junction name\n",
    "        # using a regular expression - extract the last numbers that then are the index to the annotation table\n",
    "        event_idx <- substring(event, regexpr(\"[0-9]+$\", event))\n",
    "        \n",
    "        if (grepl(\"a3ss_\", files[i])) {\n",
    "            tissue <- gsub(\"a3ss_\",\"\", tissue, fixed = TRUE)\n",
    "            idx <- match(event_idx, a3ss_annot$ID)\n",
    "            res <- data.frame(Tissue = tissue, ASE = \"A3SS\", \n",
    "                              GeneSymbol = a3ss_annot$geneSymbol[idx],\n",
    "                              chr = a3ss_annot$chr[idx])\n",
    "        }\n",
    "        if (grepl(\"a5ss_\", files[i])) {\n",
    "            tissue <- gsub(\"a5ss_\",\"\", tissue, fixed = TRUE)\n",
    "            idx <- match(event_idx, a5ss_annot$ID)\n",
    "            res <- data.frame(Tissue = tissue, ASE = \"A5SS\", \n",
    "                              GeneSymbol = a5ss_annot$geneSymbol[idx],\n",
    "                              chr = a5ss_annot$chr[idx])\n",
    "        }\n",
    "        if (grepl(\"mxe_\", files[i])) {\n",
    "            tissue <- gsub(\"mxe_\",\"\", tissue, fixed = TRUE)\n",
    "            idx <- match(event_idx, a3ss_annot$ID)\n",
    "            res <- data.frame(Tissue = tissue, ASE = \"MXE\", \n",
    "                              GeneSymbol = mxe_annot$geneSymbol[idx],\n",
    "                              chr = mxe_annot$chr[idx])\n",
    "        }\n",
    "        if (grepl(\"se_\", files[i])) {\n",
    "            idx <- match(event_idx, se_annot$ID)\n",
    "            res <- data.frame(Tissue = tissue, ASE = \"SE\", \n",
    "                              GeneSymbol = se_annot$geneSymbol[idx],\n",
    "                              chr = se_annot$chr[idx])\n",
    "            tissue <- gsub(\"se_\",\"\", tissue, fixed = TRUE)\n",
    "        }\n",
    "        if (grepl(\"ri_\", files[i])){\n",
    "            tissue <- gsub(\"ri_\",\"\", tissue, fixed = TRUE)\n",
    "            idx <- match(event_idx, ri_annot$ID)\n",
    "            res <- data.frame(Tissue = tissue, ASE = \"RI\", \n",
    "                              GeneSymbol = ri_annot$geneSymbol[idx],\n",
    "                              chr = a3ss_annot$chr[idx])\n",
    "        }\n",
    "        gene_as <- rbind(gene_as, res)\n",
    "        \n",
    "    } #if has sig. events\n",
    "    \n",
    "} #for all files    \n",
    "message (\"\\nDone reading significant events!\\n\")"
   ]
  },
  {
   "cell_type": "code",
   "execution_count": 10,
   "metadata": {},
   "outputs": [
    {
     "data": {
      "text/html": [
       "<table>\n",
       "<caption>A data.frame: 6 × 4</caption>\n",
       "<thead>\n",
       "\t<tr><th></th><th scope=col>Tissue</th><th scope=col>ASE</th><th scope=col>GeneSymbol</th><th scope=col>chr</th></tr>\n",
       "\t<tr><th></th><th scope=col>&lt;fct&gt;</th><th scope=col>&lt;fct&gt;</th><th scope=col>&lt;fct&gt;</th><th scope=col>&lt;fct&gt;</th></tr>\n",
       "</thead>\n",
       "<tbody>\n",
       "\t<tr><th scope=row>1</th><td>adipose_subcutaneous    </td><td>SE</td><td>DLEU1</td><td>chr13</td></tr>\n",
       "\t<tr><th scope=row>2</th><td>adipose_subcutaneous    </td><td>SE</td><td>DLEU1</td><td>chr13</td></tr>\n",
       "\t<tr><th scope=row>3</th><td>adipose_subcutaneous    </td><td>SE</td><td>AKT1 </td><td>chr14</td></tr>\n",
       "\t<tr><th scope=row>4</th><td>adipose_subcutaneous    </td><td>SE</td><td>MLF1 </td><td>chr3 </td></tr>\n",
       "\t<tr><th scope=row>5</th><td>adipose_visceral_omentum</td><td>SE</td><td>DLEU1</td><td>chr13</td></tr>\n",
       "\t<tr><th scope=row>6</th><td>adipose_visceral_omentum</td><td>SE</td><td>DLEU1</td><td>chr13</td></tr>\n",
       "</tbody>\n",
       "</table>\n"
      ],
      "text/latex": [
       "A data.frame: 6 × 4\n",
       "\\begin{tabular}{r|llll}\n",
       "  & Tissue & ASE & GeneSymbol & chr\\\\\n",
       "  & <fct> & <fct> & <fct> & <fct>\\\\\n",
       "\\hline\n",
       "\t1 & adipose\\_subcutaneous     & SE & DLEU1 & chr13\\\\\n",
       "\t2 & adipose\\_subcutaneous     & SE & DLEU1 & chr13\\\\\n",
       "\t3 & adipose\\_subcutaneous     & SE & AKT1  & chr14\\\\\n",
       "\t4 & adipose\\_subcutaneous     & SE & MLF1  & chr3 \\\\\n",
       "\t5 & adipose\\_visceral\\_omentum & SE & DLEU1 & chr13\\\\\n",
       "\t6 & adipose\\_visceral\\_omentum & SE & DLEU1 & chr13\\\\\n",
       "\\end{tabular}\n"
      ],
      "text/markdown": [
       "\n",
       "A data.frame: 6 × 4\n",
       "\n",
       "| <!--/--> | Tissue &lt;fct&gt; | ASE &lt;fct&gt; | GeneSymbol &lt;fct&gt; | chr &lt;fct&gt; |\n",
       "|---|---|---|---|---|\n",
       "| 1 | adipose_subcutaneous     | SE | DLEU1 | chr13 |\n",
       "| 2 | adipose_subcutaneous     | SE | DLEU1 | chr13 |\n",
       "| 3 | adipose_subcutaneous     | SE | AKT1  | chr14 |\n",
       "| 4 | adipose_subcutaneous     | SE | MLF1  | chr3  |\n",
       "| 5 | adipose_visceral_omentum | SE | DLEU1 | chr13 |\n",
       "| 6 | adipose_visceral_omentum | SE | DLEU1 | chr13 |\n",
       "\n"
      ],
      "text/plain": [
       "  Tissue                   ASE GeneSymbol chr  \n",
       "1 adipose_subcutaneous     SE  DLEU1      chr13\n",
       "2 adipose_subcutaneous     SE  DLEU1      chr13\n",
       "3 adipose_subcutaneous     SE  AKT1       chr14\n",
       "4 adipose_subcutaneous     SE  MLF1       chr3 \n",
       "5 adipose_visceral_omentum SE  DLEU1      chr13\n",
       "6 adipose_visceral_omentum SE  DLEU1      chr13"
      ]
     },
     "metadata": {},
     "output_type": "display_data"
    },
    {
     "data": {
      "text/html": [
       "<table>\n",
       "<caption>A data.frame: 6 × 4</caption>\n",
       "<thead>\n",
       "\t<tr><th></th><th scope=col>Tissue</th><th scope=col>ASE</th><th scope=col>GeneSymbol</th><th scope=col>chr</th></tr>\n",
       "\t<tr><th></th><th scope=col>&lt;fct&gt;</th><th scope=col>&lt;fct&gt;</th><th scope=col>&lt;fct&gt;</th><th scope=col>&lt;fct&gt;</th></tr>\n",
       "</thead>\n",
       "<tbody>\n",
       "\t<tr><th scope=row>7072</th><td>se_whole_blood</td><td>SE</td><td>XIST </td><td>chrX</td></tr>\n",
       "\t<tr><th scope=row>7073</th><td>se_whole_blood</td><td>SE</td><td>KDM5C</td><td>chrX</td></tr>\n",
       "\t<tr><th scope=row>7074</th><td>se_whole_blood</td><td>SE</td><td>ZFX  </td><td>chrX</td></tr>\n",
       "\t<tr><th scope=row>7075</th><td>se_whole_blood</td><td>SE</td><td>ZFX  </td><td>chrX</td></tr>\n",
       "\t<tr><th scope=row>7076</th><td>se_whole_blood</td><td>SE</td><td>KDM6A</td><td>chrX</td></tr>\n",
       "\t<tr><th scope=row>7077</th><td>se_whole_blood</td><td>SE</td><td>MMEL1</td><td>chr1</td></tr>\n",
       "</tbody>\n",
       "</table>\n"
      ],
      "text/latex": [
       "A data.frame: 6 × 4\n",
       "\\begin{tabular}{r|llll}\n",
       "  & Tissue & ASE & GeneSymbol & chr\\\\\n",
       "  & <fct> & <fct> & <fct> & <fct>\\\\\n",
       "\\hline\n",
       "\t7072 & se\\_whole\\_blood & SE & XIST  & chrX\\\\\n",
       "\t7073 & se\\_whole\\_blood & SE & KDM5C & chrX\\\\\n",
       "\t7074 & se\\_whole\\_blood & SE & ZFX   & chrX\\\\\n",
       "\t7075 & se\\_whole\\_blood & SE & ZFX   & chrX\\\\\n",
       "\t7076 & se\\_whole\\_blood & SE & KDM6A & chrX\\\\\n",
       "\t7077 & se\\_whole\\_blood & SE & MMEL1 & chr1\\\\\n",
       "\\end{tabular}\n"
      ],
      "text/markdown": [
       "\n",
       "A data.frame: 6 × 4\n",
       "\n",
       "| <!--/--> | Tissue &lt;fct&gt; | ASE &lt;fct&gt; | GeneSymbol &lt;fct&gt; | chr &lt;fct&gt; |\n",
       "|---|---|---|---|---|\n",
       "| 7072 | se_whole_blood | SE | XIST  | chrX |\n",
       "| 7073 | se_whole_blood | SE | KDM5C | chrX |\n",
       "| 7074 | se_whole_blood | SE | ZFX   | chrX |\n",
       "| 7075 | se_whole_blood | SE | ZFX   | chrX |\n",
       "| 7076 | se_whole_blood | SE | KDM6A | chrX |\n",
       "| 7077 | se_whole_blood | SE | MMEL1 | chr1 |\n",
       "\n"
      ],
      "text/plain": [
       "     Tissue         ASE GeneSymbol chr \n",
       "7072 se_whole_blood SE  XIST       chrX\n",
       "7073 se_whole_blood SE  KDM5C      chrX\n",
       "7074 se_whole_blood SE  ZFX        chrX\n",
       "7075 se_whole_blood SE  ZFX        chrX\n",
       "7076 se_whole_blood SE  KDM6A      chrX\n",
       "7077 se_whole_blood SE  MMEL1      chr1"
      ]
     },
     "metadata": {},
     "output_type": "display_data"
    },
    {
     "data": {
      "text/html": [
       "<style>\n",
       ".list-inline {list-style: none; margin:0; padding: 0}\n",
       ".list-inline>li {display: inline-block}\n",
       ".list-inline>li:not(:last-child)::after {content: \"\\00b7\"; padding: 0 .5ex}\n",
       "</style>\n",
       "<ol class=list-inline><li>7077</li><li>4</li></ol>\n"
      ],
      "text/latex": [
       "\\begin{enumerate*}\n",
       "\\item 7077\n",
       "\\item 4\n",
       "\\end{enumerate*}\n"
      ],
      "text/markdown": [
       "1. 7077\n",
       "2. 4\n",
       "\n",
       "\n"
      ],
      "text/plain": [
       "[1] 7077    4"
      ]
     },
     "metadata": {},
     "output_type": "display_data"
    }
   ],
   "source": [
    "head(gene_as)\n",
    "tail(gene_as)\n",
    "dim(gene_as)"
   ]
  },
  {
   "cell_type": "code",
   "execution_count": 12,
   "metadata": {},
   "outputs": [
    {
     "data": {
      "text/html": [
       "3231"
      ],
      "text/latex": [
       "3231"
      ],
      "text/markdown": [
       "3231"
      ],
      "text/plain": [
       "[1] 3231"
      ]
     },
     "metadata": {},
     "output_type": "display_data"
    }
   ],
   "source": [
    "# Count most frequent spliced genes\n",
    "res <- gene_as %>% group_by(GeneSymbol) %>% count(GeneSymbol) %>% arrange(desc(n)) %>% as.data.frame()\n",
    "res$GeneSymbol <- factor(res$GeneSymbol, levels = res$GeneSymbol)\n",
    "length(res$GeneSymbol)"
   ]
  },
  {
   "cell_type": "code",
   "execution_count": 13,
   "metadata": {},
   "outputs": [],
   "source": [
    "#Add number of tissues\n",
    "nTissues <- rep(NA, length(res))\n",
    "for (i in 1:nrow(res)) {\n",
    "  df_gene <- gene_as %>% filter(GeneSymbol == res$GeneSymbol[i])\n",
    "  nTissues[i] <- length(unique(df_gene$Tissue))\n",
    "}\n",
    "res$Tissues <- nTissues"
   ]
  },
  {
   "cell_type": "code",
   "execution_count": 14,
   "metadata": {},
   "outputs": [
    {
     "data": {
      "image/png": "[encoded data removed]",
      "text/plain": [
       "plot without title"
      ]
     },
     "metadata": {},
     "output_type": "display_data"
    }
   ],
   "source": [
    "# Genes with more than 10 splicing events\n",
    "ggplot(res[res$n > 10, ], aes(x = GeneSymbol, y = n)) +\n",
    "  geom_point(size = 4, aes(fill = Tissues, color = Tissues)) +\n",
    "  theme_bw() +\n",
    "  theme(axis.text.x = element_text(size=10, angle = 270, hjust = 0.0, vjust = 0.5),\n",
    "        axis.text.y = element_text(size=16),\n",
    "        axis.title.x = element_text(face=\"plain\", colour=\"black\", \n",
    "                                    size=14),\n",
    "        axis.title.y = element_text(face=\"plain\", colour=\"black\", \n",
    "                                    size=14),\n",
    "        legend.title=element_blank(),\n",
    "        legend.text = element_text(face=\"plain\", colour=\"black\", \n",
    "                                   size=12)) +\n",
    "  scale_fill_viridis_c(aesthetics = c(\"colour\", \"fill\"),\n",
    "                       option = \"plasma\",\n",
    "                       limits = c(1, 30), breaks = c(10, 20, 30)) +\n",
    "  ylab(paste(\"Number of sex-biased splicing events\")) +\n",
    "  xlab(\"Genes\")"
   ]
  },
  {
   "cell_type": "markdown",
   "metadata": {},
   "source": [
    "Pie chart"
   ]
  },
  {
   "cell_type": "markdown",
   "metadata": {},
   "source": [
    "Tissue specific 1 tissue\n",
    "Tissue group 2-5 tissues\n",
    "Recurrent > 5 tissues"
   ]
  },
  {
   "cell_type": "code",
   "execution_count": 15,
   "metadata": {},
   "outputs": [],
   "source": [
    "#Pie chart - Number of patients with 0, 1, >1 events\n",
    "counts <- c(res %>% filter(Tissues == 1) %>% count() %>% as.numeric(),\n",
    "            res %>% filter(Tissues > 1 & Tissues < 5) %>% count() %>% as.numeric(),\n",
    "            res %>% filter(Tissues > 5) %>% count() %>% as.numeric())"
   ]
  },
  {
   "cell_type": "code",
   "execution_count": 16,
   "metadata": {},
   "outputs": [],
   "source": [
    "# Define some colors ideal for black & white print\n",
    "colors <- c(\"white\",\"grey70\",\"grey90\",\"grey50\",\"black\")\n",
    "colors <- c(\"grey90\",\"grey50\", \"black\")"
   ]
  },
  {
   "cell_type": "markdown",
   "metadata": {},
   "source": [
    "Calculate the percentage for each category"
   ]
  },
  {
   "cell_type": "code",
   "execution_count": 17,
   "metadata": {
    "lines_to_next_cell": 2
   },
   "outputs": [],
   "source": [
    "counts_labels <- round(counts/sum(counts) * 100, 1)\n",
    "counts_labels <- paste(counts_labels, \"%\", sep=\"\")\n",
    "counts_labels <- paste(counts_labels, counts, sep =\" \")"
   ]
  },
  {
   "cell_type": "code",
   "execution_count": 42,
   "metadata": {},
   "outputs": [
    {
     "data": {
      "image/png": "[encoded data removed]",
      "text/plain": [
       "Plot with title “”"
      ]
     },
     "metadata": {},
     "output_type": "display_data"
    }
   ],
   "source": [
    "# Create a pie chart with defined heading and custom colors\n",
    "# and labels\n",
    "pie(counts, main=\"\", col=colors, labels=counts_labels,\n",
    "    cex=1.2)\n",
    "# Create a legend at the right   \n",
    "legend(1.5, 0.5, c(\"1 tissue\",\"2-5 tissues\",\"> 5 tissues\"), cex=1.2, \n",
    "       fill=colors)"
   ]
  },
  {
   "cell_type": "code",
   "execution_count": 25,
   "metadata": {},
   "outputs": [
    {
     "data": {
      "text/html": [
       "'/mnt/shared/gcp-user/session_data/sbas/jupyter'"
      ],
      "text/latex": [
       "'/mnt/shared/gcp-user/session\\_data/sbas/jupyter'"
      ],
      "text/markdown": [
       "'/mnt/shared/gcp-user/session_data/sbas/jupyter'"
      ],
      "text/plain": [
       "[1] \"/mnt/shared/gcp-user/session_data/sbas/jupyter\""
      ]
     },
     "metadata": {},
     "output_type": "display_data"
    },
    {
     "data": {
      "text/html": [
       "'/mnt/shared/gcp-user/session_data/sbas/data'"
      ],
      "text/latex": [
       "'/mnt/shared/gcp-user/session\\_data/sbas/data'"
      ],
      "text/markdown": [
       "'/mnt/shared/gcp-user/session_data/sbas/data'"
      ],
      "text/plain": [
       "[1] \"/mnt/shared/gcp-user/session_data/sbas/data\""
      ]
     },
     "metadata": {},
     "output_type": "display_data"
    },
    {
     "data": {
      "text/html": [
       "'/mnt/shared/gcp-user/session_data/sbas/data'"
      ],
      "text/latex": [
       "'/mnt/shared/gcp-user/session\\_data/sbas/data'"
      ],
      "text/markdown": [
       "'/mnt/shared/gcp-user/session_data/sbas/data'"
      ],
      "text/plain": [
       "[1] \"/mnt/shared/gcp-user/session_data/sbas/data\""
      ]
     },
     "metadata": {},
     "output_type": "display_data"
    },
    {
     "data": {
      "text/html": [
       "'/mnt/shared/gcp-user/session_data/sbas/jupyter'"
      ],
      "text/latex": [
       "'/mnt/shared/gcp-user/session\\_data/sbas/jupyter'"
      ],
      "text/markdown": [
       "'/mnt/shared/gcp-user/session_data/sbas/jupyter'"
      ],
      "text/plain": [
       "[1] \"/mnt/shared/gcp-user/session_data/sbas/jupyter\""
      ]
     },
     "metadata": {},
     "output_type": "display_data"
    }
   ],
   "source": [
    "getwd()\n",
    "setwd(\"../data\")\n",
    "getwd()\n",
    "system(\"wget ftp://ftp.ebi.ac.uk/pub/databases/gencode/Gencode_human/release_30/gencode.v30.annotation.gtf.gz\")\n",
    "system(\"gunzip gencode.v30.annotation.gtf.gz\")\n",
    "getwd()\n",
    "setwd(\"../jupyter\")\n",
    "getwd()"
   ]
  },
  {
   "cell_type": "code",
   "execution_count": 26,
   "metadata": {},
   "outputs": [],
   "source": [
    "# Number of splicing events normalized per chromosome\n",
    "library(rtracklayer)\n",
    "\n",
    "gencode <- import.gff(\"../data/gencode.v30.annotation.gtf\")"
   ]
  },
  {
   "cell_type": "code",
   "execution_count": 27,
   "metadata": {},
   "outputs": [],
   "source": [
    "exons <- gencode[ gencode$type == \"exon\", ]\n",
    "exons <- as.data.frame(exons)"
   ]
  },
  {
   "cell_type": "code",
   "execution_count": 28,
   "metadata": {},
   "outputs": [],
   "source": [
    "all_chr <- as.character(unique(gene_as$chr))\n",
    "chr_counts <- rep(0, length(all_chr))"
   ]
  },
  {
   "cell_type": "code",
   "execution_count": 29,
   "metadata": {},
   "outputs": [],
   "source": [
    "for (i in 1:length(all_chr)) {\n",
    "  chr_counts[i] <- nrow(exons[exons$seqnames == all_chr[i], ])\n",
    "}"
   ]
  },
  {
   "cell_type": "code",
   "execution_count": 30,
   "metadata": {},
   "outputs": [],
   "source": [
    "exon_counts <- data.frame(chr = all_chr, counts = chr_counts)"
   ]
  },
  {
   "cell_type": "code",
   "execution_count": 31,
   "metadata": {},
   "outputs": [],
   "source": [
    "# Count most frequent spliced chromosomes\n",
    "res <- gene_as %>% group_by(chr) %>% count(chr) %>% arrange(desc(n)) %>% as.data.frame()\n",
    "res$chr <- factor(res$chr, levels = res$chr)"
   ]
  },
  {
   "cell_type": "code",
   "execution_count": 32,
   "metadata": {},
   "outputs": [],
   "source": [
    "idx <- match(res$chr, exon_counts$chr)"
   ]
  },
  {
   "cell_type": "code",
   "execution_count": 33,
   "metadata": {},
   "outputs": [],
   "source": [
    "res$ExonCounts <- exon_counts$counts[idx]"
   ]
  },
  {
   "cell_type": "code",
   "execution_count": 34,
   "metadata": {},
   "outputs": [],
   "source": [
    "res$Index <- (res$n / res$ExonCounts) * 1000"
   ]
  },
  {
   "cell_type": "code",
   "execution_count": 35,
   "metadata": {},
   "outputs": [],
   "source": [
    "res_sorted <- res %>% arrange(desc(Index))\n",
    "res_sorted$chr <- factor(res_sorted$chr, levels = res_sorted$chr)"
   ]
  },
  {
   "cell_type": "code",
   "execution_count": 36,
   "metadata": {},
   "outputs": [
    {
     "data": {
      "image/png": "[encoded data removed]",
      "text/plain": [
       "plot without title"
      ]
     },
     "metadata": {},
     "output_type": "display_data"
    }
   ],
   "source": [
    "ggplot(res_sorted, aes(x = chr, y = Index, size = n)) +\n",
    "  geom_point(color = \"red\") +\n",
    "  theme_bw() +\n",
    "  theme(axis.text.x = element_text(size=10, angle = 270, hjust = 0.0, vjust = 0.5),\n",
    "        axis.text.y = element_text(size=16),\n",
    "        axis.title.x = element_text(face=\"plain\", colour=\"black\", \n",
    "                                    size=14),\n",
    "        axis.title.y = element_text(face=\"plain\", colour=\"black\", \n",
    "                                    size=14),\n",
    "        legend.title=element_blank(),\n",
    "        legend.text = element_text(face=\"plain\", colour=\"black\", \n",
    "                                   size=12)) +\n",
    "  scale_fill_viridis_c(aesthetics = c(\"colour\", \"fill\"),\n",
    "                       option = \"plasma\",\n",
    "                       limits = c(1, 650)) +\n",
    "  ylab(paste(\"Normalized Number of sex-biased ASE\")) +\n",
    "  xlab(\"Chromosomes\") +\n",
    "  guides(size = guide_legend(title = \"Number of ASE\"))"
   ]
  },
  {
   "cell_type": "code",
   "execution_count": 38,
   "metadata": {},
   "outputs": [],
   "source": [
    "write.table(res_sorted, file = \"../data/SplicingIndex_chr.tsv\", sep = \"\\t\", quote = F,\n",
    "            row.names = F)"
   ]
  },
  {
   "cell_type": "markdown",
   "metadata": {},
   "source": [
    "## Metadata\n",
    "\n",
    "For replicability and reproducibility purposes, we also print the following metadata:\n",
    "\n",
    "1. Checksums of **'artefacts'**, files generated during the analysis and stored in the folder directory **`data`**\n",
    "2. List of environment metadata, dependencies, versions of libraries using `utils::sessionInfo()` and [`devtools::session_info()`](https://devtools.r-lib.org/reference/session_info.html)"
   ]
  },
  {
   "cell_type": "markdown",
   "metadata": {},
   "source": [
    "### 1. Checksums with the sha256 algorithm"
   ]
  },
  {
   "cell_type": "code",
   "execution_count": 39,
   "metadata": {},
   "outputs": [
    {
     "name": "stderr",
     "output_type": "stream",
     "text": [
      "Warning message in rm(notebookid):\n",
      "“object 'notebookid' not found”"
     ]
    },
    {
     "data": {
      "text/html": [
       "'countGenes'"
      ],
      "text/latex": [
       "'countGenes'"
      ],
      "text/markdown": [
       "'countGenes'"
      ],
      "text/plain": [
       "[1] \"countGenes\""
      ]
     },
     "metadata": {},
     "output_type": "display_data"
    },
    {
     "name": "stderr",
     "output_type": "stream",
     "text": [
      "Generating sha256 checksums of the file `../data/SplicingIndex_chr.tsv` directory .. \n"
     ]
    },
    {
     "data": {
      "text/html": [],
      "text/latex": [],
      "text/markdown": [],
      "text/plain": [
       "character(0)"
      ]
     },
     "metadata": {},
     "output_type": "display_data"
    },
    {
     "name": "stderr",
     "output_type": "stream",
     "text": [
      "Done!\n",
      "\n"
     ]
    },
    {
     "data": {
      "text/html": [
       "'../metadata/countGenes_sha256sums.txt'"
      ],
      "text/latex": [
       "'../metadata/countGenes\\_sha256sums.txt'"
      ],
      "text/markdown": [
       "'../metadata/countGenes_sha256sums.txt'"
      ],
      "text/plain": [
       "[1] \"../metadata/countGenes_sha256sums.txt\""
      ]
     },
     "metadata": {},
     "output_type": "display_data"
    },
    {
     "data": {
      "text/html": [
       "<table>\n",
       "<caption>A data.table: 1 × 2</caption>\n",
       "<thead>\n",
       "\t<tr><th scope=col>sha256sum</th><th scope=col>file</th></tr>\n",
       "\t<tr><th scope=col>&lt;chr&gt;</th><th scope=col>&lt;chr&gt;</th></tr>\n",
       "</thead>\n",
       "<tbody>\n",
       "\t<tr><td>02a4693f9fccc6d7dd8dd27fd72500c5cea03b7b442e36f830295247d3a9949d</td><td>./SplicingIndex_chr.tsv</td></tr>\n",
       "</tbody>\n",
       "</table>\n"
      ],
      "text/latex": [
       "A data.table: 1 × 2\n",
       "\\begin{tabular}{ll}\n",
       " sha256sum & file\\\\\n",
       " <chr> & <chr>\\\\\n",
       "\\hline\n",
       "\t 02a4693f9fccc6d7dd8dd27fd72500c5cea03b7b442e36f830295247d3a9949d & ./SplicingIndex\\_chr.tsv\\\\\n",
       "\\end{tabular}\n"
      ],
      "text/markdown": [
       "\n",
       "A data.table: 1 × 2\n",
       "\n",
       "| sha256sum &lt;chr&gt; | file &lt;chr&gt; |\n",
       "|---|---|\n",
       "| 02a4693f9fccc6d7dd8dd27fd72500c5cea03b7b442e36f830295247d3a9949d | ./SplicingIndex_chr.tsv |\n",
       "\n"
      ],
      "text/plain": [
       "  sha256sum                                                       \n",
       "1 02a4693f9fccc6d7dd8dd27fd72500c5cea03b7b442e36f830295247d3a9949d\n",
       "  file                   \n",
       "1 ./SplicingIndex_chr.tsv"
      ]
     },
     "metadata": {},
     "output_type": "display_data"
    }
   ],
   "source": [
    "rm (notebookid)\n",
    "notebookid   = \"countGenes\"\n",
    "notebookid\n",
    "\n",
    "message(\"Generating sha256 checksums of the file `../data/SplicingIndex_chr.tsv` directory .. \")\n",
    "system(paste0(\"cd ../data && find . -name SplicingIndex_chr.tsv -exec sha256sum {} \\\\;  >  ../metadata/\", notebookid, \"_sha256sums.txt\"), intern = TRUE)\n",
    "message(\"Done!\\n\")\n",
    "\n",
    "paste0(\"../metadata/\", notebookid, \"_sha256sums.txt\")\n",
    "\n",
    "data.table::fread(paste0(\"../metadata/\", notebookid, \"_sha256sums.txt\"), header = FALSE, col.names = c(\"sha256sum\", \"file\"))"
   ]
  },
  {
   "cell_type": "markdown",
   "metadata": {},
   "source": [
    "### 2. Libraries metadata"
   ]
  },
  {
   "cell_type": "code",
   "execution_count": 44,
   "metadata": {},
   "outputs": [
    {
     "name": "stderr",
     "output_type": "stream",
     "text": [
      "Saving `devtools::session_info()` objects in ../metadata/devtools_session_info.rds  ..\n",
      "Done!\n",
      "\n",
      "Saving `utils::sessionInfo()` objects in ../metadata/utils_session_info.rds  ..\n",
      "Done!\n",
      "\n"
     ]
    },
    {
     "data": {
      "text/plain": [
       " setting  value                       \n",
       " version  R version 3.6.1 (2019-07-05)\n",
       " os       Ubuntu 18.04.3 LTS          \n",
       " system   x86_64, linux-gnu           \n",
       " ui       X11                         \n",
       " language en_US.UTF-8                 \n",
       " collate  en_US.UTF-8                 \n",
       " ctype    en_US.UTF-8                 \n",
       " tz       Etc/UTC                     \n",
       " date     2020-05-27                  "
      ]
     },
     "metadata": {},
     "output_type": "display_data"
    },
    {
     "data": {
      "text/html": [
       "<table>\n",
       "<caption>A packages_info: 17 × 11</caption>\n",
       "<thead>\n",
       "\t<tr><th></th><th scope=col>package</th><th scope=col>ondiskversion</th><th scope=col>loadedversion</th><th scope=col>path</th><th scope=col>loadedpath</th><th scope=col>attached</th><th scope=col>is_base</th><th scope=col>date</th><th scope=col>source</th><th scope=col>md5ok</th><th scope=col>library</th></tr>\n",
       "\t<tr><th></th><th scope=col>&lt;chr&gt;</th><th scope=col>&lt;chr&gt;</th><th scope=col>&lt;chr&gt;</th><th scope=col>&lt;chr&gt;</th><th scope=col>&lt;chr&gt;</th><th scope=col>&lt;lgl&gt;</th><th scope=col>&lt;lgl&gt;</th><th scope=col>&lt;chr&gt;</th><th scope=col>&lt;chr&gt;</th><th scope=col>&lt;lgl&gt;</th><th scope=col>&lt;fct&gt;</th></tr>\n",
       "</thead>\n",
       "<tbody>\n",
       "\t<tr><th scope=row>Biobase</th><td>Biobase      </td><td>2.46.0   </td><td>2.46.0   </td><td>/opt/conda/lib/R/library/Biobase      </td><td>/opt/conda/lib/R/library/Biobase      </td><td>TRUE</td><td>FALSE</td><td>2019-10-29</td><td>Bioconductor                       </td><td>NA</td><td>/opt/conda/lib/R/library</td></tr>\n",
       "\t<tr><th scope=row>BiocGenerics</th><td>BiocGenerics </td><td>0.32.0   </td><td>0.32.0   </td><td>/opt/conda/lib/R/library/BiocGenerics </td><td>/opt/conda/lib/R/library/BiocGenerics </td><td>TRUE</td><td>FALSE</td><td>2019-10-29</td><td>Bioconductor                       </td><td>NA</td><td>/opt/conda/lib/R/library</td></tr>\n",
       "\t<tr><th scope=row>dplyr</th><td>dplyr        </td><td>0.8.4    </td><td>0.8.4    </td><td>/opt/conda/lib/R/library/dplyr        </td><td>/opt/conda/lib/R/library/dplyr        </td><td>TRUE</td><td>FALSE</td><td>2020-01-31</td><td>CRAN (R 3.6.2)                     </td><td>NA</td><td>/opt/conda/lib/R/library</td></tr>\n",
       "\t<tr><th scope=row>edgeR</th><td>edgeR        </td><td>3.28.1   </td><td>3.28.1   </td><td>/opt/conda/lib/R/library/edgeR        </td><td>/opt/conda/lib/R/library/edgeR        </td><td>TRUE</td><td>FALSE</td><td>2020-02-26</td><td>Bioconductor                       </td><td>NA</td><td>/opt/conda/lib/R/library</td></tr>\n",
       "\t<tr><th scope=row>GenomeInfoDb</th><td>GenomeInfoDb </td><td>1.22.1   </td><td>1.22.1   </td><td>/opt/conda/lib/R/library/GenomeInfoDb </td><td>/opt/conda/lib/R/library/GenomeInfoDb </td><td>TRUE</td><td>FALSE</td><td>2020-03-27</td><td>Bioconductor                       </td><td>NA</td><td>/opt/conda/lib/R/library</td></tr>\n",
       "\t<tr><th scope=row>GenomicRanges</th><td>GenomicRanges</td><td>1.38.0   </td><td>1.38.0   </td><td>/opt/conda/lib/R/library/GenomicRanges</td><td>/opt/conda/lib/R/library/GenomicRanges</td><td>TRUE</td><td>FALSE</td><td>2019-10-29</td><td>Bioconductor                       </td><td>NA</td><td>/opt/conda/lib/R/library</td></tr>\n",
       "\t<tr><th scope=row>ggplot2</th><td>ggplot2      </td><td>3.2.1    </td><td>3.2.1    </td><td>/opt/conda/lib/R/library/ggplot2      </td><td>/opt/conda/lib/R/library/ggplot2      </td><td>TRUE</td><td>FALSE</td><td>2019-08-10</td><td>CRAN (R 3.6.1)                     </td><td>NA</td><td>/opt/conda/lib/R/library</td></tr>\n",
       "\t<tr><th scope=row>IRanges</th><td>IRanges      </td><td>2.20.0   </td><td>2.20.0   </td><td>/opt/conda/lib/R/library/IRanges      </td><td>/opt/conda/lib/R/library/IRanges      </td><td>TRUE</td><td>FALSE</td><td>2019-10-29</td><td>Bioconductor                       </td><td>NA</td><td>/opt/conda/lib/R/library</td></tr>\n",
       "\t<tr><th scope=row>limma</th><td>limma        </td><td>3.42.0   </td><td>3.42.0   </td><td>/opt/conda/lib/R/library/limma        </td><td>/opt/conda/lib/R/library/limma        </td><td>TRUE</td><td>FALSE</td><td>2019-10-29</td><td>Bioconductor                       </td><td>NA</td><td>/opt/conda/lib/R/library</td></tr>\n",
       "\t<tr><th scope=row>multtest</th><td>multtest     </td><td>2.42.0   </td><td>2.42.0   </td><td>/opt/conda/lib/R/library/multtest     </td><td>/opt/conda/lib/R/library/multtest     </td><td>TRUE</td><td>FALSE</td><td>2019-10-29</td><td>Bioconductor                       </td><td>NA</td><td>/opt/conda/lib/R/library</td></tr>\n",
       "\t<tr><th scope=row>piggyback</th><td>piggyback    </td><td>0.0.10.99</td><td>0.0.10.99</td><td>/opt/conda/lib/R/library/piggyback    </td><td>/opt/conda/lib/R/library/piggyback    </td><td>TRUE</td><td>FALSE</td><td>2020-05-20</td><td>Github (ropensci/piggyback@87f71e8)</td><td>NA</td><td>/opt/conda/lib/R/library</td></tr>\n",
       "\t<tr><th scope=row>R.methodsS3</th><td>R.methodsS3  </td><td>1.8.0    </td><td>1.8.0    </td><td>/opt/conda/lib/R/library/R.methodsS3  </td><td>/opt/conda/lib/R/library/R.methodsS3  </td><td>TRUE</td><td>FALSE</td><td>2020-02-14</td><td>CRAN (R 3.6.1)                     </td><td>NA</td><td>/opt/conda/lib/R/library</td></tr>\n",
       "\t<tr><th scope=row>R.oo</th><td>R.oo         </td><td>1.23.0   </td><td>1.23.0   </td><td>/opt/conda/lib/R/library/R.oo         </td><td>/opt/conda/lib/R/library/R.oo         </td><td>TRUE</td><td>FALSE</td><td>2019-11-03</td><td>CRAN (R 3.6.1)                     </td><td>NA</td><td>/opt/conda/lib/R/library</td></tr>\n",
       "\t<tr><th scope=row>R.utils</th><td>R.utils      </td><td>2.9.2    </td><td>2.9.2    </td><td>/opt/conda/lib/R/library/R.utils      </td><td>/opt/conda/lib/R/library/R.utils      </td><td>TRUE</td><td>FALSE</td><td>2019-12-08</td><td>CRAN (R 3.6.1)                     </td><td>NA</td><td>/opt/conda/lib/R/library</td></tr>\n",
       "\t<tr><th scope=row>rtracklayer</th><td>rtracklayer  </td><td>1.46.0   </td><td>1.46.0   </td><td>/opt/conda/lib/R/library/rtracklayer  </td><td>/opt/conda/lib/R/library/rtracklayer  </td><td>TRUE</td><td>FALSE</td><td>2019-10-29</td><td>Bioconductor                       </td><td>NA</td><td>/opt/conda/lib/R/library</td></tr>\n",
       "\t<tr><th scope=row>S4Vectors</th><td>S4Vectors    </td><td>0.24.4   </td><td>0.24.4   </td><td>/opt/conda/lib/R/library/S4Vectors    </td><td>/opt/conda/lib/R/library/S4Vectors    </td><td>TRUE</td><td>FALSE</td><td>2020-04-09</td><td>Bioconductor                       </td><td>NA</td><td>/opt/conda/lib/R/library</td></tr>\n",
       "\t<tr><th scope=row>tibble</th><td>tibble       </td><td>3.0.1    </td><td>3.0.1    </td><td>/opt/conda/lib/R/library/tibble       </td><td>/opt/conda/lib/R/library/tibble       </td><td>TRUE</td><td>FALSE</td><td>2020-04-20</td><td>CRAN (R 3.6.1)                     </td><td>NA</td><td>/opt/conda/lib/R/library</td></tr>\n",
       "</tbody>\n",
       "</table>\n"
      ],
      "text/latex": [
       "A packages\\_info: 17 × 11\n",
       "\\begin{tabular}{r|lllllllllll}\n",
       "  & package & ondiskversion & loadedversion & path & loadedpath & attached & is\\_base & date & source & md5ok & library\\\\\n",
       "  & <chr> & <chr> & <chr> & <chr> & <chr> & <lgl> & <lgl> & <chr> & <chr> & <lgl> & <fct>\\\\\n",
       "\\hline\n",
       "\tBiobase & Biobase       & 2.46.0    & 2.46.0    & /opt/conda/lib/R/library/Biobase       & /opt/conda/lib/R/library/Biobase       & TRUE & FALSE & 2019-10-29 & Bioconductor                        & NA & /opt/conda/lib/R/library\\\\\n",
       "\tBiocGenerics & BiocGenerics  & 0.32.0    & 0.32.0    & /opt/conda/lib/R/library/BiocGenerics  & /opt/conda/lib/R/library/BiocGenerics  & TRUE & FALSE & 2019-10-29 & Bioconductor                        & NA & /opt/conda/lib/R/library\\\\\n",
       "\tdplyr & dplyr         & 0.8.4     & 0.8.4     & /opt/conda/lib/R/library/dplyr         & /opt/conda/lib/R/library/dplyr         & TRUE & FALSE & 2020-01-31 & CRAN (R 3.6.2)                      & NA & /opt/conda/lib/R/library\\\\\n",
       "\tedgeR & edgeR         & 3.28.1    & 3.28.1    & /opt/conda/lib/R/library/edgeR         & /opt/conda/lib/R/library/edgeR         & TRUE & FALSE & 2020-02-26 & Bioconductor                        & NA & /opt/conda/lib/R/library\\\\\n",
       "\tGenomeInfoDb & GenomeInfoDb  & 1.22.1    & 1.22.1    & /opt/conda/lib/R/library/GenomeInfoDb  & /opt/conda/lib/R/library/GenomeInfoDb  & TRUE & FALSE & 2020-03-27 & Bioconductor                        & NA & /opt/conda/lib/R/library\\\\\n",
       "\tGenomicRanges & GenomicRanges & 1.38.0    & 1.38.0    & /opt/conda/lib/R/library/GenomicRanges & /opt/conda/lib/R/library/GenomicRanges & TRUE & FALSE & 2019-10-29 & Bioconductor                        & NA & /opt/conda/lib/R/library\\\\\n",
       "\tggplot2 & ggplot2       & 3.2.1     & 3.2.1     & /opt/conda/lib/R/library/ggplot2       & /opt/conda/lib/R/library/ggplot2       & TRUE & FALSE & 2019-08-10 & CRAN (R 3.6.1)                      & NA & /opt/conda/lib/R/library\\\\\n",
       "\tIRanges & IRanges       & 2.20.0    & 2.20.0    & /opt/conda/lib/R/library/IRanges       & /opt/conda/lib/R/library/IRanges       & TRUE & FALSE & 2019-10-29 & Bioconductor                        & NA & /opt/conda/lib/R/library\\\\\n",
       "\tlimma & limma         & 3.42.0    & 3.42.0    & /opt/conda/lib/R/library/limma         & /opt/conda/lib/R/library/limma         & TRUE & FALSE & 2019-10-29 & Bioconductor                        & NA & /opt/conda/lib/R/library\\\\\n",
       "\tmulttest & multtest      & 2.42.0    & 2.42.0    & /opt/conda/lib/R/library/multtest      & /opt/conda/lib/R/library/multtest      & TRUE & FALSE & 2019-10-29 & Bioconductor                        & NA & /opt/conda/lib/R/library\\\\\n",
       "\tpiggyback & piggyback     & 0.0.10.99 & 0.0.10.99 & /opt/conda/lib/R/library/piggyback     & /opt/conda/lib/R/library/piggyback     & TRUE & FALSE & 2020-05-20 & Github (ropensci/piggyback@87f71e8) & NA & /opt/conda/lib/R/library\\\\\n",
       "\tR.methodsS3 & R.methodsS3   & 1.8.0     & 1.8.0     & /opt/conda/lib/R/library/R.methodsS3   & /opt/conda/lib/R/library/R.methodsS3   & TRUE & FALSE & 2020-02-14 & CRAN (R 3.6.1)                      & NA & /opt/conda/lib/R/library\\\\\n",
       "\tR.oo & R.oo          & 1.23.0    & 1.23.0    & /opt/conda/lib/R/library/R.oo          & /opt/conda/lib/R/library/R.oo          & TRUE & FALSE & 2019-11-03 & CRAN (R 3.6.1)                      & NA & /opt/conda/lib/R/library\\\\\n",
       "\tR.utils & R.utils       & 2.9.2     & 2.9.2     & /opt/conda/lib/R/library/R.utils       & /opt/conda/lib/R/library/R.utils       & TRUE & FALSE & 2019-12-08 & CRAN (R 3.6.1)                      & NA & /opt/conda/lib/R/library\\\\\n",
       "\trtracklayer & rtracklayer   & 1.46.0    & 1.46.0    & /opt/conda/lib/R/library/rtracklayer   & /opt/conda/lib/R/library/rtracklayer   & TRUE & FALSE & 2019-10-29 & Bioconductor                        & NA & /opt/conda/lib/R/library\\\\\n",
       "\tS4Vectors & S4Vectors     & 0.24.4    & 0.24.4    & /opt/conda/lib/R/library/S4Vectors     & /opt/conda/lib/R/library/S4Vectors     & TRUE & FALSE & 2020-04-09 & Bioconductor                        & NA & /opt/conda/lib/R/library\\\\\n",
       "\ttibble & tibble        & 3.0.1     & 3.0.1     & /opt/conda/lib/R/library/tibble        & /opt/conda/lib/R/library/tibble        & TRUE & FALSE & 2020-04-20 & CRAN (R 3.6.1)                      & NA & /opt/conda/lib/R/library\\\\\n",
       "\\end{tabular}\n"
      ],
      "text/markdown": [
       "\n",
       "A packages_info: 17 × 11\n",
       "\n",
       "| <!--/--> | package &lt;chr&gt; | ondiskversion &lt;chr&gt; | loadedversion &lt;chr&gt; | path &lt;chr&gt; | loadedpath &lt;chr&gt; | attached &lt;lgl&gt; | is_base &lt;lgl&gt; | date &lt;chr&gt; | source &lt;chr&gt; | md5ok &lt;lgl&gt; | library &lt;fct&gt; |\n",
       "|---|---|---|---|---|---|---|---|---|---|---|---|\n",
       "| Biobase | Biobase       | 2.46.0    | 2.46.0    | /opt/conda/lib/R/library/Biobase       | /opt/conda/lib/R/library/Biobase       | TRUE | FALSE | 2019-10-29 | Bioconductor                        | NA | /opt/conda/lib/R/library |\n",
       "| BiocGenerics | BiocGenerics  | 0.32.0    | 0.32.0    | /opt/conda/lib/R/library/BiocGenerics  | /opt/conda/lib/R/library/BiocGenerics  | TRUE | FALSE | 2019-10-29 | Bioconductor                        | NA | /opt/conda/lib/R/library |\n",
       "| dplyr | dplyr         | 0.8.4     | 0.8.4     | /opt/conda/lib/R/library/dplyr         | /opt/conda/lib/R/library/dplyr         | TRUE | FALSE | 2020-01-31 | CRAN (R 3.6.2)                      | NA | /opt/conda/lib/R/library |\n",
       "| edgeR | edgeR         | 3.28.1    | 3.28.1    | /opt/conda/lib/R/library/edgeR         | /opt/conda/lib/R/library/edgeR         | TRUE | FALSE | 2020-02-26 | Bioconductor                        | NA | /opt/conda/lib/R/library |\n",
       "| GenomeInfoDb | GenomeInfoDb  | 1.22.1    | 1.22.1    | /opt/conda/lib/R/library/GenomeInfoDb  | /opt/conda/lib/R/library/GenomeInfoDb  | TRUE | FALSE | 2020-03-27 | Bioconductor                        | NA | /opt/conda/lib/R/library |\n",
       "| GenomicRanges | GenomicRanges | 1.38.0    | 1.38.0    | /opt/conda/lib/R/library/GenomicRanges | /opt/conda/lib/R/library/GenomicRanges | TRUE | FALSE | 2019-10-29 | Bioconductor                        | NA | /opt/conda/lib/R/library |\n",
       "| ggplot2 | ggplot2       | 3.2.1     | 3.2.1     | /opt/conda/lib/R/library/ggplot2       | /opt/conda/lib/R/library/ggplot2       | TRUE | FALSE | 2019-08-10 | CRAN (R 3.6.1)                      | NA | /opt/conda/lib/R/library |\n",
       "| IRanges | IRanges       | 2.20.0    | 2.20.0    | /opt/conda/lib/R/library/IRanges       | /opt/conda/lib/R/library/IRanges       | TRUE | FALSE | 2019-10-29 | Bioconductor                        | NA | /opt/conda/lib/R/library |\n",
       "| limma | limma         | 3.42.0    | 3.42.0    | /opt/conda/lib/R/library/limma         | /opt/conda/lib/R/library/limma         | TRUE | FALSE | 2019-10-29 | Bioconductor                        | NA | /opt/conda/lib/R/library |\n",
       "| multtest | multtest      | 2.42.0    | 2.42.0    | /opt/conda/lib/R/library/multtest      | /opt/conda/lib/R/library/multtest      | TRUE | FALSE | 2019-10-29 | Bioconductor                        | NA | /opt/conda/lib/R/library |\n",
       "| piggyback | piggyback     | 0.0.10.99 | 0.0.10.99 | /opt/conda/lib/R/library/piggyback     | /opt/conda/lib/R/library/piggyback     | TRUE | FALSE | 2020-05-20 | Github (ropensci/piggyback@87f71e8) | NA | /opt/conda/lib/R/library |\n",
       "| R.methodsS3 | R.methodsS3   | 1.8.0     | 1.8.0     | /opt/conda/lib/R/library/R.methodsS3   | /opt/conda/lib/R/library/R.methodsS3   | TRUE | FALSE | 2020-02-14 | CRAN (R 3.6.1)                      | NA | /opt/conda/lib/R/library |\n",
       "| R.oo | R.oo          | 1.23.0    | 1.23.0    | /opt/conda/lib/R/library/R.oo          | /opt/conda/lib/R/library/R.oo          | TRUE | FALSE | 2019-11-03 | CRAN (R 3.6.1)                      | NA | /opt/conda/lib/R/library |\n",
       "| R.utils | R.utils       | 2.9.2     | 2.9.2     | /opt/conda/lib/R/library/R.utils       | /opt/conda/lib/R/library/R.utils       | TRUE | FALSE | 2019-12-08 | CRAN (R 3.6.1)                      | NA | /opt/conda/lib/R/library |\n",
       "| rtracklayer | rtracklayer   | 1.46.0    | 1.46.0    | /opt/conda/lib/R/library/rtracklayer   | /opt/conda/lib/R/library/rtracklayer   | TRUE | FALSE | 2019-10-29 | Bioconductor                        | NA | /opt/conda/lib/R/library |\n",
       "| S4Vectors | S4Vectors     | 0.24.4    | 0.24.4    | /opt/conda/lib/R/library/S4Vectors     | /opt/conda/lib/R/library/S4Vectors     | TRUE | FALSE | 2020-04-09 | Bioconductor                        | NA | /opt/conda/lib/R/library |\n",
       "| tibble | tibble        | 3.0.1     | 3.0.1     | /opt/conda/lib/R/library/tibble        | /opt/conda/lib/R/library/tibble        | TRUE | FALSE | 2020-04-20 | CRAN (R 3.6.1)                      | NA | /opt/conda/lib/R/library |\n",
       "\n"
      ],
      "text/plain": [
       "              package       ondiskversion loadedversion\n",
       "Biobase       Biobase       2.46.0        2.46.0       \n",
       "BiocGenerics  BiocGenerics  0.32.0        0.32.0       \n",
       "dplyr         dplyr         0.8.4         0.8.4        \n",
       "edgeR         edgeR         3.28.1        3.28.1       \n",
       "GenomeInfoDb  GenomeInfoDb  1.22.1        1.22.1       \n",
       "GenomicRanges GenomicRanges 1.38.0        1.38.0       \n",
       "ggplot2       ggplot2       3.2.1         3.2.1        \n",
       "IRanges       IRanges       2.20.0        2.20.0       \n",
       "limma         limma         3.42.0        3.42.0       \n",
       "multtest      multtest      2.42.0        2.42.0       \n",
       "piggyback     piggyback     0.0.10.99     0.0.10.99    \n",
       "R.methodsS3   R.methodsS3   1.8.0         1.8.0        \n",
       "R.oo          R.oo          1.23.0        1.23.0       \n",
       "R.utils       R.utils       2.9.2         2.9.2        \n",
       "rtracklayer   rtracklayer   1.46.0        1.46.0       \n",
       "S4Vectors     S4Vectors     0.24.4        0.24.4       \n",
       "tibble        tibble        3.0.1         3.0.1        \n",
       "              path                                  \n",
       "Biobase       /opt/conda/lib/R/library/Biobase      \n",
       "BiocGenerics  /opt/conda/lib/R/library/BiocGenerics \n",
       "dplyr         /opt/conda/lib/R/library/dplyr        \n",
       "edgeR         /opt/conda/lib/R/library/edgeR        \n",
       "GenomeInfoDb  /opt/conda/lib/R/library/GenomeInfoDb \n",
       "GenomicRanges /opt/conda/lib/R/library/GenomicRanges\n",
       "ggplot2       /opt/conda/lib/R/library/ggplot2      \n",
       "IRanges       /opt/conda/lib/R/library/IRanges      \n",
       "limma         /opt/conda/lib/R/library/limma        \n",
       "multtest      /opt/conda/lib/R/library/multtest     \n",
       "piggyback     /opt/conda/lib/R/library/piggyback    \n",
       "R.methodsS3   /opt/conda/lib/R/library/R.methodsS3  \n",
       "R.oo          /opt/conda/lib/R/library/R.oo         \n",
       "R.utils       /opt/conda/lib/R/library/R.utils      \n",
       "rtracklayer   /opt/conda/lib/R/library/rtracklayer  \n",
       "S4Vectors     /opt/conda/lib/R/library/S4Vectors    \n",
       "tibble        /opt/conda/lib/R/library/tibble       \n",
       "              loadedpath                             attached is_base\n",
       "Biobase       /opt/conda/lib/R/library/Biobase       TRUE     FALSE  \n",
       "BiocGenerics  /opt/conda/lib/R/library/BiocGenerics  TRUE     FALSE  \n",
       "dplyr         /opt/conda/lib/R/library/dplyr         TRUE     FALSE  \n",
       "edgeR         /opt/conda/lib/R/library/edgeR         TRUE     FALSE  \n",
       "GenomeInfoDb  /opt/conda/lib/R/library/GenomeInfoDb  TRUE     FALSE  \n",
       "GenomicRanges /opt/conda/lib/R/library/GenomicRanges TRUE     FALSE  \n",
       "ggplot2       /opt/conda/lib/R/library/ggplot2       TRUE     FALSE  \n",
       "IRanges       /opt/conda/lib/R/library/IRanges       TRUE     FALSE  \n",
       "limma         /opt/conda/lib/R/library/limma         TRUE     FALSE  \n",
       "multtest      /opt/conda/lib/R/library/multtest      TRUE     FALSE  \n",
       "piggyback     /opt/conda/lib/R/library/piggyback     TRUE     FALSE  \n",
       "R.methodsS3   /opt/conda/lib/R/library/R.methodsS3   TRUE     FALSE  \n",
       "R.oo          /opt/conda/lib/R/library/R.oo          TRUE     FALSE  \n",
       "R.utils       /opt/conda/lib/R/library/R.utils       TRUE     FALSE  \n",
       "rtracklayer   /opt/conda/lib/R/library/rtracklayer   TRUE     FALSE  \n",
       "S4Vectors     /opt/conda/lib/R/library/S4Vectors     TRUE     FALSE  \n",
       "tibble        /opt/conda/lib/R/library/tibble        TRUE     FALSE  \n",
       "              date       source                              md5ok\n",
       "Biobase       2019-10-29 Bioconductor                        NA   \n",
       "BiocGenerics  2019-10-29 Bioconductor                        NA   \n",
       "dplyr         2020-01-31 CRAN (R 3.6.2)                      NA   \n",
       "edgeR         2020-02-26 Bioconductor                        NA   \n",
       "GenomeInfoDb  2020-03-27 Bioconductor                        NA   \n",
       "GenomicRanges 2019-10-29 Bioconductor                        NA   \n",
       "ggplot2       2019-08-10 CRAN (R 3.6.1)                      NA   \n",
       "IRanges       2019-10-29 Bioconductor                        NA   \n",
       "limma         2019-10-29 Bioconductor                        NA   \n",
       "multtest      2019-10-29 Bioconductor                        NA   \n",
       "piggyback     2020-05-20 Github (ropensci/piggyback@87f71e8) NA   \n",
       "R.methodsS3   2020-02-14 CRAN (R 3.6.1)                      NA   \n",
       "R.oo          2019-11-03 CRAN (R 3.6.1)                      NA   \n",
       "R.utils       2019-12-08 CRAN (R 3.6.1)                      NA   \n",
       "rtracklayer   2019-10-29 Bioconductor                        NA   \n",
       "S4Vectors     2020-04-09 Bioconductor                        NA   \n",
       "tibble        2020-04-20 CRAN (R 3.6.1)                      NA   \n",
       "              library                 \n",
       "Biobase       /opt/conda/lib/R/library\n",
       "BiocGenerics  /opt/conda/lib/R/library\n",
       "dplyr         /opt/conda/lib/R/library\n",
       "edgeR         /opt/conda/lib/R/library\n",
       "GenomeInfoDb  /opt/conda/lib/R/library\n",
       "GenomicRanges /opt/conda/lib/R/library\n",
       "ggplot2       /opt/conda/lib/R/library\n",
       "IRanges       /opt/conda/lib/R/library\n",
       "limma         /opt/conda/lib/R/library\n",
       "multtest      /opt/conda/lib/R/library\n",
       "piggyback     /opt/conda/lib/R/library\n",
       "R.methodsS3   /opt/conda/lib/R/library\n",
       "R.oo          /opt/conda/lib/R/library\n",
       "R.utils       /opt/conda/lib/R/library\n",
       "rtracklayer   /opt/conda/lib/R/library\n",
       "S4Vectors     /opt/conda/lib/R/library\n",
       "tibble        /opt/conda/lib/R/library"
      ]
     },
     "metadata": {},
     "output_type": "display_data"
    }
   ],
   "source": [
    "dev_session_info   <- devtools::session_info()\n",
    "utils_session_info <- utils::sessionInfo()\n",
    "\n",
    "message(\"Saving `devtools::session_info()` objects in ../metadata/devtools_session_info.rds  ..\")\n",
    "saveRDS(dev_session_info, file = paste0(\"../metadata/\", notebookid, \"_devtools_session_info.rds\"))\n",
    "message(\"Done!\\n\")\n",
    "\n",
    "message(\"Saving `utils::sessionInfo()` objects in ../metadata/utils_session_info.rds  ..\")\n",
    "saveRDS(utils_session_info, file = paste0(\"../metadata/\", notebookid ,\"_utils_info.rds\"))\n",
    "message(\"Done!\\n\")\n",
    "\n",
    "dev_session_info$platform\n",
    "dev_session_info$packages[dev_session_info$packages$attached==TRUE, ]"
   ]
  },
  {
   "cell_type": "code",
   "execution_count": null,
   "metadata": {},
   "outputs": [],
   "source": []
  }
 ],
 "metadata": {
  "jupytext": {
   "cell_metadata_filter": "-all",
   "main_language": "R",
   "notebook_metadata_filter": "-all"
  },
  "kernelspec": {
   "display_name": "R",
   "language": "R",
   "name": "ir"
  },
  "language_info": {
   "codemirror_mode": "r",
   "file_extension": ".r",
   "mimetype": "text/x-r-source",
   "name": "R",
   "pygments_lexer": "r",
   "version": "3.6.1"
  }
 },
 "nbformat": 4,
 "nbformat_minor": 4
}
