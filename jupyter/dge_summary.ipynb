{
 "cells": [
  {
   "cell_type": "markdown",
   "metadata": {},
   "source": [
    "# Extract Gene Expression Files\n",
    "\n",
    "This script will extract the data from the various files and put a summary into the assets folder"
   ]
  },
  {
   "cell_type": "code",
   "execution_count": 2,
   "metadata": {},
   "outputs": [],
   "source": [
    "import os\n",
    "from os import listdir\n",
    "from os.path import isfile, join\n"
   ]
  },
  {
   "cell_type": "code",
   "execution_count": 21,
   "metadata": {},
   "outputs": [],
   "source": [
    "base_directory = '../data'\n",
    "if not os.path.exists(base_directory):\n",
    "    raise ValueError(\"Could not find base directory\")\n",
    "\n",
    "myfiles = [f for f in listdir(base_directory) if isfile(join(base_directory, f))]"
   ]
  },
  {
   "cell_type": "code",
   "execution_count": 22,
   "metadata": {},
   "outputs": [],
   "source": [
    "## Get the refined DGE files for each of the 39 tissues"
   ]
  },
  {
   "cell_type": "code",
   "execution_count": 23,
   "metadata": {},
   "outputs": [],
   "source": [
    "dgefiles = [f for f in myfiles if 'DGE_refined' in f]"
   ]
  },
  {
   "cell_type": "code",
   "execution_count": 24,
   "metadata": {},
   "outputs": [
    {
     "name": "stdout",
     "output_type": "stream",
     "text": [
      "We extracted a total of 39 DGE files, e.g. pituitary_DGE_refined.csv, brain_cortex_DGE_refined.csv\n"
     ]
    }
   ],
   "source": [
    "if len(dgefiles) != 39:\n",
    "    raise ValueError(\"We were expecting 39 tissues, but we got \", len(dgefiles))\n",
    "print(\"We extracted a total of %d DGE files, e.g. %s, %s\" % (len(dgefiles), dgefiles[0], dgefiles[1]))"
   ]
  },
  {
   "cell_type": "markdown",
   "metadata": {},
   "source": [
    "## Get the mapping files for each of the 39 tissues"
   ]
  },
  {
   "cell_type": "code",
   "execution_count": 26,
   "metadata": {},
   "outputs": [
    {
     "name": "stdout",
     "output_type": "stream",
     "text": [
      "We extracted a total of 39 DGE files, e.g. brain_frontal_cortex_ba_9_DGE_ensg_map.csv, liver_DGE_ensg_map.csv\n"
     ]
    }
   ],
   "source": [
    "ensgfiles = [f for f in myfiles if 'ensg' in f]\n",
    "if len(ensgfiles) != 39:\n",
    "    raise ValueError(\"We were expecting 39 tissues, but we got \", len(ensgfiles))\n",
    "print(\"We extracted a total of %d DGE files, e.g. %s, %s\" % (len(ensgfiles), ensgfiles[0], ensgfiles[1]))"
   ]
  },
  {
   "cell_type": "markdown",
   "metadata": {},
   "source": [
    "## Make a dictionary of ensg - symbol and vice versa"
   ]
  },
  {
   "cell_type": "code",
   "execution_count": 27,
   "metadata": {},
   "outputs": [],
   "source": [
    "from collections import defaultdict"
   ]
  },
  {
   "cell_type": "code",
   "execution_count": 30,
   "metadata": {},
   "outputs": [
    {
     "name": "stdout",
     "output_type": "stream",
     "text": [
      "We got 8202 entries for ens2sym and 8202 entries for sym2ens\n"
     ]
    }
   ],
   "source": [
    "ens2sym = defaultdict(str)\n",
    "sym2ens = defaultdict(str)\n",
    "for f in ensgfiles:\n",
    "    mypath = os.path.join(base_directory, f)\n",
    "    with open(mypath) as fh:\n",
    "        for line in fh:\n",
    "            fields = line.rstrip('\\n').split(',')\n",
    "            if len(fields) != 2:\n",
    "                raise ValueError(\"Bad line: \", line)\n",
    "            ensg = fields[0]\n",
    "            sym = fields[1]\n",
    "            ens2sym[ensg] = sym\n",
    "            sym2ens[sym] = ensg\n",
    "print(\"We got %d entries for ens2sym and %d entries for sym2ens\" % (len(ens2sym), len(sym2ens)))"
   ]
  },
  {
   "cell_type": "markdown",
   "metadata": {},
   "source": [
    "## Make a summary of all DGE events\n",
    "\n",
    "header is logFC,AveExpr,t,P.Value,adj.P.Val,B"
   ]
  },
  {
   "cell_type": "code",
   "execution_count": 39,
   "metadata": {},
   "outputs": [
    {
     "name": "stdout",
     "output_type": "stream",
     "text": [
      "Wrote 12716 DGE by tissue events\n"
     ]
    }
   ],
   "source": [
    "import csv\n",
    "outfile = '../assets/dge_by_tissue_summary.tsv'\n",
    "gh = open(outfile, 'wt')\n",
    "c = 0\n",
    "dge_genes = set()\n",
    "for f in dgefiles:\n",
    "    tissue = f.split('_')[0]\n",
    "    mypath = os.path.join(base_directory, f)\n",
    "    with open(mypath) as fh:\n",
    "        csvreader = csv.reader(fh, delimiter=',')\n",
    "        header = next(csvreader) # discard header\n",
    "        for row in csvreader:\n",
    "            ensg = row[0]\n",
    "            ensg = ensg.split('.')[0] # remove version number\n",
    "            if not ensg in ens2sym:\n",
    "                raise ValueError(\"Could not find symbol for \", ensg)\n",
    "            sym = ens2sym[ensg]\n",
    "            gh.write(\"%s\\t%s\\t%s\\n\" %(tissue, sym, ensg))\n",
    "            dge_genes.add(s)\n",
    "            c += 1\n",
    "gh.close()\n",
    "print(\"Wrote %d DGE by tissue events\" % c)\n",
    "\n",
    "    "
   ]
  },
  {
   "cell_type": "code",
   "execution_count": null,
   "metadata": {},
   "outputs": [],
   "source": []
  }
 ],
 "metadata": {
  "kernelspec": {
   "display_name": "Python 3",
   "language": "python",
   "name": "python3"
  },
  "language_info": {
   "codemirror_mode": {
    "name": "ipython",
    "version": 3
   },
   "file_extension": ".py",
   "mimetype": "text/x-python",
   "name": "python",
   "nbconvert_exporter": "python",
   "pygments_lexer": "ipython3",
   "version": "3.7.6"
  }
 },
 "nbformat": 4,
 "nbformat_minor": 4
}
