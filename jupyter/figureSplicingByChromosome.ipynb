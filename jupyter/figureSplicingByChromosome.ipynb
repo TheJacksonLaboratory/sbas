{
 "cells": [
  {
   "cell_type": "markdown",
   "metadata": {},
   "source": [
    "# Figure 2a - X chromosomal genes showing inactivation, escape from inactivation or variable escape"
   ]
  },
  {
   "cell_type": "markdown",
   "metadata": {},
   "source": [
    "Percentage is shown for the entire set of 631 investigated X chromosomal genes, as well as the subsets of 248 genes with differential expression (DE) and 166 with at least one AS event. P-values were derived with Fisher’s exact test comparing genes with DE or AS to the entire set of 631 genes"
   ]
  },
  {
   "cell_type": "markdown",
   "metadata": {},
   "source": [
    "## Loading dependencies"
   ]
  },
  {
   "cell_type": "code",
   "execution_count": null,
   "metadata": {},
   "outputs": [],
   "source": [
    "install.packages(\"viridis\")\n",
    "library(viridis)\n",
    "library(ggplot2)\n",
    "library(magrittr)\n",
    "Sys.setenv(TAR = \"/bin/tar\") # for gzfile"
   ]
  },
  {
   "cell_type": "markdown",
   "metadata": {},
   "source": [
    "## Read in the rMATS results for parsing the gencode or other GTF"
   ]
  },
  {
   "cell_type": "markdown",
   "metadata": {},
   "source": [
    "rMATS 3.2.5 parses the annotation file, gencode v.30 in this example, and creates the SE, RI, MXE, A3SS, A5SS events."
   ]
  },
  {
   "cell_type": "code",
   "execution_count": null,
   "metadata": {},
   "outputs": [],
   "source": [
    "# a code block\n",
    "getwd()\n",
    "fromGTFSE.dat <- read.table(\"https://github.com/adeslatt/sbas_test/releases/download/rmats_final.gencode.v30/fromGTF.SE.txt\", \n",
    "                  stringsAsFactors = TRUE,\n",
    "                  header=TRUE)\n",
    "fromGTFSE.dat$AStype <- 'SE'\n",
    "fromGTFRI.dat <- read.table(\"https://github.com/adeslatt/sbas_test/releases/download/rmats_final.gencode.v30/fromGTF.RI.txt\", \n",
    "                  stringsAsFactors = TRUE,\n",
    "                  header=TRUE)\n",
    "fromGTFRI.dat$AStype <- 'RI'\n",
    "fromGTFMXE.dat <- read.table(\"https://github.com/adeslatt/sbas_test/releases/download/rmats_final.gencode.v30/fromGTF.MXE.txt\", \n",
    "                  stringsAsFactors = TRUE,\n",
    "                  header=TRUE)\n",
    "fromGTFMXE.dat$AStype <- 'MXE'\n",
    "fromGTFA5SS.dat <- read.table(\"https://github.com/adeslatt/sbas_test/releases/download/rmats_final.gencode.v30/fromGTF.A5SS.txt\", \n",
    "                  stringsAsFactors = TRUE,\n",
    "                  header=TRUE)\n",
    "fromGTFA5SS.dat$AStype <- 'A5SS'\n",
    "fromGTFA3SS.dat <- read.table(\"https://github.com/adeslatt/sbas_test/releases/download/rmats_final.gencode.v30/fromGTF.A3SS.txt\", \n",
    "                  stringsAsFactors = TRUE,\n",
    "                  header=TRUE)\n",
    "fromGTFA3SS.dat$AStype <- 'A3SS'\n",
    "\n",
    "head(fromGTFSE.dat)\n",
    "head(fromGTFMXE.dat)\n",
    "head(fromGTFRI.dat)\n",
    "head(fromGTFA3SS.dat)\n",
    "head(fromGTFA5SS.dat)"
   ]
  },
  {
   "cell_type": "code",
   "execution_count": null,
   "metadata": {},
   "outputs": [],
   "source": [
    "summaryAS.df <- rbind(fromGTFSE.dat[,c(\"ID\",\"GeneID\",\"geneSymbol\",\"chr\",\"strand\",\"AStype\")],\n",
    "                      fromGTFRI.dat[,c(\"ID\",\"GeneID\",\"geneSymbol\",\"chr\",\"strand\",\"AStype\")],\n",
    "                      fromGTFMXE.dat[,c(\"ID\",\"GeneID\",\"geneSymbol\",\"chr\",\"strand\",\"AStype\")],\n",
    "                      fromGTFA5SS.dat[,c(\"ID\",\"GeneID\",\"geneSymbol\",\"chr\",\"strand\",\"AStype\")],\n",
    "                      fromGTFA3SS.dat[,c(\"ID\",\"GeneID\",\"geneSymbol\",\"chr\",\"strand\",\"AStype\")])"
   ]
  },
  {
   "cell_type": "code",
   "execution_count": null,
   "metadata": {},
   "outputs": [],
   "source": [
    "chr_specific_splicing_SE <- table(summaryAS.df$chr[summaryAS.df$AStype == \"SE\"])\n",
    "a_chr_SE <- unclass(chr_specific_splicing_SE)\n",
    "a_chr_SE\n",
    "chr_specific_splicing_RI <- table(summaryAS.df$chr[summaryAS.df$AStype == \"RI\"])\n",
    "a_chr_RI <- unclass(chr_specific_splicing_RI)\n",
    "a_chr_RI\n",
    "chr_specific_splicing_MXE <- table(summaryAS.df$chr[summaryAS.df$AStype == \"MXE\"])\n",
    "a_chr_MXE <- unclass(chr_specific_splicing_MXE)\n",
    "a_chr_MXE\n",
    "chr_specific_splicing_A3SS <- table(summaryAS.df$chr[summaryAS.df$AStype == \"A3SS\"])\n",
    "a_chr_A3SS <- unclass(chr_specific_splicing_A3SS)\n",
    "a_chr_A3SS\n",
    "chr_specific_splicing_A5SS <- table(summaryAS.df$chr[summaryAS.df$AStype == \"A5SS\"])\n",
    "a_chr_A5SS <- unclass(chr_specific_splicing_A5SS)\n",
    "table(summaryAS.df$chr[summaryAS.df$AStype == \"A5SS\"])\n",
    "a_chr_A5SS"
   ]
  },
  {
   "cell_type": "code",
   "execution_count": null,
   "metadata": {},
   "outputs": [],
   "source": [
    "chr_splicing_dist <- rbind(cbind(data.matrix(a_chr_SE),   chr=names(a_chr_SE),  AStype = \"SE\"),\n",
    "                           cbind(data.matrix(a_chr_RI),   chr=names(a_chr_RI),  AStype = \"RI\"),\n",
    "                           cbind(data.matrix(a_chr_MXE),  chr=names(a_chr_MXE), AStype = \"MXE\"),\n",
    "                           cbind(data.matrix(a_chr_A3SS), chr=names(a_chr_A3SS),AStype = \"A3SS\"),\n",
    "                           cbind(data.matrix(a_chr_A5SS), chr=names(a_chr_A5SS),AStype = \"A5SS\"))\n",
    "colnames(chr_splicing_dist)=c(\"Counts\",\"Chr\",\"AStype\")\n",
    "counts <- chr_splicing_dist[,\"Counts\"]\n",
    "chr_splicing_df <- data.frame(chr_splicing_dist)\n",
    "head(chr_splicing_df)\n",
    "chr_splicing_df$Counts <- as.integer(counts)\n",
    "head(chr_splicing_df)\n",
    "head(chr_splicing_df$Counts)"
   ]
  },
  {
   "cell_type": "code",
   "execution_count": null,
   "metadata": {},
   "outputs": [],
   "source": [
    "dim(chr_splicing_dist)"
   ]
  },
  {
   "cell_type": "code",
   "execution_count": null,
   "metadata": {},
   "outputs": [],
   "source": [
    "chromosomes <- names(a_chr_SE)\n",
    "chromosomes <- chromosomes[order(chromosomes)]\n",
    "chromosomes"
   ]
  },
  {
   "cell_type": "code",
   "execution_count": null,
   "metadata": {},
   "outputs": [],
   "source": [
    "colnames(chr_splicing_dist)"
   ]
  },
  {
   "cell_type": "code",
   "execution_count": null,
   "metadata": {},
   "outputs": [],
   "source": [
    "chr_splicing_df[chr_splicing_df$Chr==chromosomes[1],]"
   ]
  },
  {
   "cell_type": "code",
   "execution_count": null,
   "metadata": {},
   "outputs": [],
   "source": [
    "chr_splicing_df$Chr\n",
    "sum(chr_splicing_df[chr_splicing_df$Chr ==chromosomes[1],\"Counts\"])"
   ]
  },
  {
   "cell_type": "code",
   "execution_count": null,
   "metadata": {},
   "outputs": [],
   "source": [
    "df_chromosome     <- chr_splicing_df[chr_splicing_df$Chr ==chromosomes[1],]\n",
    "df_chromosome"
   ]
  },
  {
   "cell_type": "code",
   "execution_count": null,
   "metadata": {},
   "outputs": [],
   "source": [
    "percentage <- df_chromosome$Counts/sum(df_chromosome$Counts)*100\n",
    "percentage"
   ]
  },
  {
   "cell_type": "code",
   "execution_count": null,
   "metadata": {},
   "outputs": [],
   "source": [
    "df_plot <- data.frame()\n",
    "\n",
    "for (i in 1:length(chromosomes)) {\n",
    "    df_chromosome  <- chr_splicing_df[chr_splicing_df$Chr ==chromosomes[i],]\n",
    "    percentage     <- df_chromosome$Counts/sum(df_chromosome$Counts)*100\n",
    "    final <- cbind(df_chromosome, Perc=percentage)\n",
    "    if (i == 1)\n",
    "        df_plot <- final \n",
    "    else\n",
    "        df_plot <- rbind(df_plot, final)\n",
    "}  \n",
    "\n",
    "dim(df_plot)\n",
    "head(df_plot)"
   ]
  },
  {
   "cell_type": "code",
   "execution_count": null,
   "metadata": {},
   "outputs": [],
   "source": [
    "p<-ggplot(df_plot, \n",
    "       aes(x=Chr, y=Perc, fill = AStype, by = Chr)) +\n",
    "  geom_bar(stat = \"identity\", width = 0.8) +\n",
    "  theme_bw() +\n",
    "  theme(axis.text.x = element_text(size=12, angle = 270, hjust = 0.0, vjust = 0.5),\n",
    "        #axis.ticks.x = element_blank(),\n",
    "        axis.text.y = element_text(size=12),\n",
    "        axis.title.x = element_text(face=\"plain\", colour=\"black\", size=12),\n",
    "        axis.title.y = element_text(face=\"plain\", colour=\"black\", size=12),\n",
    "        legend.title=element_blank(),\n",
    "        panel.background=element_blank(),\n",
    "        panel.border=element_blank(),\n",
    "        panel.grid.major=element_blank(),\n",
    "        legend.text = element_text(face=\"plain\", colour=\"black\", size=12)\n",
    "  ) +\n",
    "  #scale_fill_brewer(palette=\"Dark2\") +\n",
    "  #scale_fill_manual(values = palette_npg) +\n",
    "  scale_fill_viridis(discrete=TRUE) +\n",
    "  ylab(\"Splicing type (%)\") +\n",
    "  xlab(\"Chromosome\")\n",
    "p"
   ]
  },
  {
   "cell_type": "code",
   "execution_count": null,
   "metadata": {},
   "outputs": [],
   "source": [
    "ggsave(file = \"../pdf/figureSplicingByChromosome.pdf\", plot = p)"
   ]
  },
  {
   "cell_type": "markdown",
   "metadata": {},
   "source": [
    "## ... \n",
    "more of the above sequence"
   ]
  },
  {
   "cell_type": "markdown",
   "metadata": {},
   "source": [
    "## Metadata\n",
    "\n",
    "For replicability and reproducibility purposes, we also print the following metadata:\n",
    "\n",
    "1. Checksums of **'artefacts'**, files generated during the analysis and stored in the folder directory **`data`**\n",
    "2. List of environment metadata, dependencies, versions of libraries using `utils::sessionInfo()` and [`devtools::session_info()`](https://devtools.r-lib.org/reference/session_info.html)"
   ]
  },
  {
   "cell_type": "markdown",
   "metadata": {},
   "source": [
    "### 1. Checksums with the sha256 algorithm"
   ]
  },
  {
   "cell_type": "code",
   "execution_count": null,
   "metadata": {},
   "outputs": [],
   "source": [
    "figure_id   = \"FigureSplicingByChromosome\"\n",
    "\n",
    "message(\"Generating sha256 checksums of the artefacts in the `..data/` directory .. \")\n",
    "system(paste0(\"cd ../data/ && sha256sum * > ../metadata/\", figure_id, \"_sha256sums.txt\"), intern = TRUE)\n",
    "message(\"Done!\\n\")\n",
    "\n",
    "data.table::fread(paste0(\"../metadata/\", figure_id, \"_sha256sums.txt\"), header = FALSE, col.names = c(\"sha256sum\", \"file\"))"
   ]
  },
  {
   "cell_type": "markdown",
   "metadata": {},
   "source": [
    "### 2. Libraries metadata"
   ]
  },
  {
   "cell_type": "code",
   "execution_count": null,
   "metadata": {},
   "outputs": [],
   "source": [
    "figure_id   = \"FigureSplicingByChromosome\"\n",
    "\n",
    "dev_session_info   <- devtools::session_info()\n",
    "utils_session_info <- utils::sessionInfo()\n",
    "\n",
    "message(\"Saving `devtools::session_info()` objects in ../metadata/devtools_session_info.rds  ..\")\n",
    "saveRDS(dev_session_info, file = paste0(\"../metadata/\", figure_id, \"_devtools_session_info.rds\"))\n",
    "message(\"Done!\\n\")\n",
    "\n",
    "message(\"Saving `utils::sessionInfo()` objects in ../metadata/utils_session_info.rds  ..\")\n",
    "saveRDS(utils_session_info, file = paste0(\"../metadata/\", figure_id ,\"_utils_info.rds\"))\n",
    "message(\"Done!\\n\")\n",
    "\n",
    "dev_session_info$platform\n",
    "dev_session_info$packages[dev_session_info$packages$attached==TRUE, ]"
   ]
  },
  {
   "cell_type": "code",
   "execution_count": null,
   "metadata": {},
   "outputs": [],
   "source": []
  }
 ],
 "metadata": {
  "kernelspec": {
   "display_name": "R",
   "language": "R",
   "name": "ir"
  },
  "language_info": {
   "codemirror_mode": "r",
   "file_extension": ".r",
   "mimetype": "text/x-r-source",
   "name": "R",
   "pygments_lexer": "r",
   "version": "3.6.1"
  }
 },
 "nbformat": 4,
 "nbformat_minor": 4
}
