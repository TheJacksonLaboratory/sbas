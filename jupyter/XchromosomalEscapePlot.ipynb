{
 "cells": [
  {
   "cell_type": "markdown",
   "metadata": {},
   "source": [
    "# **AS events vs X chromosomal escape**\n"
   ]
  },
  {
   "cell_type": "markdown",
   "metadata": {},
   "source": [
    "It has been reported that differentially expressed sex-biased genes are likely to be \n",
    "linked to escape from X chromosome inactivation (Landscape of X chromosome inactivation across human tissues.\n",
    "Tukiainen T, et al. Nature. 2017 Oct 11;550(7675):244-248). \n",
    "\n",
    "Because of the observed overlap between sex-biased differential expression and AS, we hypothesized that AS e\n",
    "vents might be more commonly observed in X chromosomal genes that escape inactivation. "
   ]
  },
  {
   "cell_type": "markdown",
   "metadata": {},
   "source": [
    "## Retrieve data about X chromosomal escape\n",
    "This data was extracted from the supplemental material of the Tukiainen paper. Genes are characterized as\n",
    "\n",
    "1. Escape\n",
    "2. Inactive\n",
    "3. Variable\n",
    "4. Unknown\n",
    "\n",
    "We examine here the hypothesis that alternatively spliced genes are more likely to escape X inactivation than one would expect\n",
    "from the X chromosomal average."
   ]
  },
  {
   "cell_type": "code",
   "execution_count": 20,
   "metadata": {},
   "outputs": [],
   "source": [
    "xchromgenetable <- read.table(file=\"../assets/TukiainenSuppFig2extract.tsv\", header=FALSE, sep=\"\\t\",\n",
    "                               skipNul=FALSE, stringsAsFactors = FALSE)\n",
    "colnames(xchromgenetable)  <- c(\"ENSG.id\",\"symbol\",\"escape.status\",\"par.status\")"
   ]
  },
  {
   "cell_type": "code",
   "execution_count": 21,
   "metadata": {},
   "outputs": [
    {
     "data": {
      "text/html": [
       "<table>\n",
       "<caption>A data.frame: 6 × 4</caption>\n",
       "<thead>\n",
       "\t<tr><th></th><th scope=col>ENSG.id</th><th scope=col>symbol</th><th scope=col>escape.status</th><th scope=col>par.status</th></tr>\n",
       "\t<tr><th></th><th scope=col>&lt;chr&gt;</th><th scope=col>&lt;chr&gt;</th><th scope=col>&lt;chr&gt;</th><th scope=col>&lt;chr&gt;</th></tr>\n",
       "</thead>\n",
       "<tbody>\n",
       "\t<tr><th scope=row>1</th><td>ENSG00000000003.10</td><td>TSPAN6</td><td>Variable</td><td>nonPAR</td></tr>\n",
       "\t<tr><th scope=row>2</th><td>ENSG00000000005.5 </td><td>TNMD  </td><td>Unknown </td><td>nonPAR</td></tr>\n",
       "\t<tr><th scope=row>3</th><td>ENSG00000001497.12</td><td>LAS1L </td><td>Inactive</td><td>nonPAR</td></tr>\n",
       "\t<tr><th scope=row>4</th><td>ENSG00000002586.13</td><td>CD99  </td><td>Escape  </td><td>PAR   </td></tr>\n",
       "\t<tr><th scope=row>5</th><td>ENSG00000003096.9 </td><td>KLHL13</td><td>Inactive</td><td>nonPAR</td></tr>\n",
       "\t<tr><th scope=row>6</th><td>ENSG00000004848.6 </td><td>ARX   </td><td>Unknown </td><td>nonPAR</td></tr>\n",
       "</tbody>\n",
       "</table>\n"
      ],
      "text/latex": [
       "A data.frame: 6 × 4\n",
       "\\begin{tabular}{r|llll}\n",
       "  & ENSG.id & symbol & escape.status & par.status\\\\\n",
       "  & <chr> & <chr> & <chr> & <chr>\\\\\n",
       "\\hline\n",
       "\t1 & ENSG00000000003.10 & TSPAN6 & Variable & nonPAR\\\\\n",
       "\t2 & ENSG00000000005.5  & TNMD   & Unknown  & nonPAR\\\\\n",
       "\t3 & ENSG00000001497.12 & LAS1L  & Inactive & nonPAR\\\\\n",
       "\t4 & ENSG00000002586.13 & CD99   & Escape   & PAR   \\\\\n",
       "\t5 & ENSG00000003096.9  & KLHL13 & Inactive & nonPAR\\\\\n",
       "\t6 & ENSG00000004848.6  & ARX    & Unknown  & nonPAR\\\\\n",
       "\\end{tabular}\n"
      ],
      "text/markdown": [
       "\n",
       "A data.frame: 6 × 4\n",
       "\n",
       "| <!--/--> | ENSG.id &lt;chr&gt; | symbol &lt;chr&gt; | escape.status &lt;chr&gt; | par.status &lt;chr&gt; |\n",
       "|---|---|---|---|---|\n",
       "| 1 | ENSG00000000003.10 | TSPAN6 | Variable | nonPAR |\n",
       "| 2 | ENSG00000000005.5  | TNMD   | Unknown  | nonPAR |\n",
       "| 3 | ENSG00000001497.12 | LAS1L  | Inactive | nonPAR |\n",
       "| 4 | ENSG00000002586.13 | CD99   | Escape   | PAR    |\n",
       "| 5 | ENSG00000003096.9  | KLHL13 | Inactive | nonPAR |\n",
       "| 6 | ENSG00000004848.6  | ARX    | Unknown  | nonPAR |\n",
       "\n"
      ],
      "text/plain": [
       "  ENSG.id            symbol escape.status par.status\n",
       "1 ENSG00000000003.10 TSPAN6 Variable      nonPAR    \n",
       "2 ENSG00000000005.5  TNMD   Unknown       nonPAR    \n",
       "3 ENSG00000001497.12 LAS1L  Inactive      nonPAR    \n",
       "4 ENSG00000002586.13 CD99   Escape        PAR       \n",
       "5 ENSG00000003096.9  KLHL13 Inactive      nonPAR    \n",
       "6 ENSG00000004848.6  ARX    Unknown       nonPAR    "
      ]
     },
     "metadata": {},
     "output_type": "display_data"
    }
   ],
   "source": [
    "head(xchromgenetable)"
   ]
  },
  {
   "cell_type": "code",
   "execution_count": 12,
   "metadata": {},
   "outputs": [],
   "source": [
    "total_AS_Genes <- read.table(file=\"../data/Total_AS_by_geneSymbol.tsv\", header=TRUE, sep=\"\\t\",\n",
    "                               skipNul=FALSE, stringsAsFactors = FALSE)\n",
    "\n"
   ]
  },
  {
   "cell_type": "code",
   "execution_count": 14,
   "metadata": {},
   "outputs": [
    {
     "data": {
      "text/html": [
       "<table>\n",
       "<caption>A data.frame: 6 × 2</caption>\n",
       "<thead>\n",
       "\t<tr><th></th><th scope=col>GeneSymbol</th><th scope=col>n</th></tr>\n",
       "\t<tr><th></th><th scope=col>&lt;chr&gt;</th><th scope=col>&lt;int&gt;</th></tr>\n",
       "</thead>\n",
       "<tbody>\n",
       "\t<tr><th scope=row>1</th><td>DDX3X </td><td>84</td></tr>\n",
       "\t<tr><th scope=row>2</th><td>KDM5C </td><td>40</td></tr>\n",
       "\t<tr><th scope=row>3</th><td>ZFX   </td><td>21</td></tr>\n",
       "\t<tr><th scope=row>4</th><td>SORBS2</td><td>18</td></tr>\n",
       "\t<tr><th scope=row>5</th><td>CD44  </td><td>16</td></tr>\n",
       "\t<tr><th scope=row>6</th><td>CACNB4</td><td>12</td></tr>\n",
       "</tbody>\n",
       "</table>\n"
      ],
      "text/latex": [
       "A data.frame: 6 × 2\n",
       "\\begin{tabular}{r|ll}\n",
       "  & GeneSymbol & n\\\\\n",
       "  & <chr> & <int>\\\\\n",
       "\\hline\n",
       "\t1 & DDX3X  & 84\\\\\n",
       "\t2 & KDM5C  & 40\\\\\n",
       "\t3 & ZFX    & 21\\\\\n",
       "\t4 & SORBS2 & 18\\\\\n",
       "\t5 & CD44   & 16\\\\\n",
       "\t6 & CACNB4 & 12\\\\\n",
       "\\end{tabular}\n"
      ],
      "text/markdown": [
       "\n",
       "A data.frame: 6 × 2\n",
       "\n",
       "| <!--/--> | GeneSymbol &lt;chr&gt; | n &lt;int&gt; |\n",
       "|---|---|---|\n",
       "| 1 | DDX3X  | 84 |\n",
       "| 2 | KDM5C  | 40 |\n",
       "| 3 | ZFX    | 21 |\n",
       "| 4 | SORBS2 | 18 |\n",
       "| 5 | CD44   | 16 |\n",
       "| 6 | CACNB4 | 12 |\n",
       "\n"
      ],
      "text/plain": [
       "  GeneSymbol n \n",
       "1 DDX3X      84\n",
       "2 KDM5C      40\n",
       "3 ZFX        21\n",
       "4 SORBS2     18\n",
       "5 CD44       16\n",
       "6 CACNB4     12"
      ]
     },
     "metadata": {},
     "output_type": "display_data"
    }
   ],
   "source": [
    "head(total_AS_Genes)"
   ]
  },
  {
   "cell_type": "code",
   "execution_count": 40,
   "metadata": {},
   "outputs": [],
   "source": [
    "sigAsGenes <- sort(total_AS_Genes$GeneSymbol)"
   ]
  },
  {
   "cell_type": "code",
   "execution_count": 22,
   "metadata": {},
   "outputs": [],
   "source": [
    "XchromGenes <- sort(xchromgenetable$symbol)"
   ]
  },
  {
   "cell_type": "markdown",
   "metadata": {},
   "source": [
    "## Get lists of escaped/inactive/variable genes"
   ]
  },
  {
   "cell_type": "code",
   "execution_count": 33,
   "metadata": {},
   "outputs": [
    {
     "name": "stderr",
     "output_type": "stream",
     "text": [
      "Escaped X chromomosal genes: 94\n",
      "\n"
     ]
    }
   ],
   "source": [
    "escaped <- sort(xchromgenetable[xchromgenetable$escape.status=='Escape',]$symbol)\n",
    "message(\"Escaped X chromomosal genes: \", length(escaped))"
   ]
  },
  {
   "cell_type": "code",
   "execution_count": 34,
   "metadata": {},
   "outputs": [
    {
     "name": "stderr",
     "output_type": "stream",
     "text": [
      "Inactive X chromomosal genes: 408\n",
      "\n"
     ]
    }
   ],
   "source": [
    "inactive <- sort(xchromgenetable[xchromgenetable$escape.status=='Inactive',]$symbol)\n",
    "message(\"Inactive X chromomosal genes: \", length(inactive))"
   ]
  },
  {
   "cell_type": "code",
   "execution_count": 35,
   "metadata": {},
   "outputs": [
    {
     "name": "stderr",
     "output_type": "stream",
     "text": [
      "Variable X chromomosal genes: 95\n",
      "\n"
     ]
    }
   ],
   "source": [
    "variable <- sort(xchromgenetable[xchromgenetable$escape.status=='Variable',]$symbol)\n",
    "message(\"Variable X chromomosal genes: \", length(variable))"
   ]
  },
  {
   "cell_type": "markdown",
   "metadata": {},
   "source": [
    "# **Make grouped bar plot**\n",
    "### First collect the counts of escape/inactive/variable X chromosomal, AS, and DGE genes"
   ]
  },
  {
   "cell_type": "code",
   "execution_count": 54,
   "metadata": {},
   "outputs": [
    {
     "name": "stderr",
     "output_type": "stream",
     "text": [
      "AS escape: 16 AS inactive: 34 AS variable: 4\n",
      "\n"
     ]
    }
   ],
   "source": [
    "# First collect the numbers\n",
    "as.escape <- intersect(escaped, sigAsGenes)\n",
    "as.inactive <- intersect(inactive, sigAsGenes)\n",
    "as.variable <- intersect(variable, sigAsGenes)\n",
    "as.escape.len <- length(as.escape)\n",
    "as.inactive.len <- length(as.inactive)\n",
    "as.variable.len <- length(as.variable)\n",
    "message(\"AS escape: \", as.escape.len, \" AS inactive: \", as.inactive.len, \" AS variable: \", as.variable.len)"
   ]
  },
  {
   "cell_type": "code",
   "execution_count": 55,
   "metadata": {},
   "outputs": [
    {
     "name": "stderr",
     "output_type": "stream",
     "text": [
      "X chr escape: 94 X chr  inactive: 408 X chr  variable: 95\n",
      "\n"
     ]
    }
   ],
   "source": [
    "x.escape.len <- length(escaped)\n",
    "x.inactive.len <- length(inactive)\n",
    "x.variable.len <- length(variable)\n",
    "message(\"X chr escape: \", x.escape.len, \" X chr  inactive: \", x.inactive.len, \" X chr  variable: \", x.variable.len)"
   ]
  },
  {
   "cell_type": "code",
   "execution_count": 56,
   "metadata": {},
   "outputs": [],
   "source": [
    "# TODO GET NUMBERS for DGE\n",
    "dge.escape.len <- 42\n",
    "dge.inactive.len <- 42\n",
    "dge.variable.len <- 42"
   ]
  },
  {
   "cell_type": "markdown",
   "metadata": {},
   "source": [
    "### Transform counts into percentages"
   ]
  },
  {
   "cell_type": "code",
   "execution_count": 58,
   "metadata": {},
   "outputs": [
    {
     "name": "stderr",
     "output_type": "stream",
     "text": [
      "AS escape: 29.6296296296296 AS inactive: 62.962962962963 AS variable: 7.40740740740741\n",
      "\n",
      "X chr escape: 15.7453936348409 X chr inactive: 68.3417085427136 X chr variable: 15.9128978224456\n",
      "\n",
      "DGE escape: 33.3333333333333 DGE inactive: 33.3333333333333 DGE variable: 33.3333333333333\n",
      "\n"
     ]
    }
   ],
   "source": [
    "as.total <- as.escape.len + as.inactive.len + as.variable.len\n",
    "as.escape.per <- 100 * as.escape.len/as.total\n",
    "as.inactive.per <- 100 * as.inactive.len/as.total\n",
    "as.variable.per <- 100 * as.variable.len/as.total\n",
    "x.total <- x.escape.len + x.inactive.len + x.variable.len\n",
    "x.escape.per <- 100 * x.escape.len/x.total\n",
    "x.inactive.per <- 100 * x.inactive.len/x.total\n",
    "x.variable.per <- 100 * x.variable.len/x.total\n",
    "dge.total <- dge.escape.len + dge.inactive.len + dge.variable.len\n",
    "dge.escape.per <- 100 * dge.escape.len/dge.total\n",
    "dge.inactive.per <- 100 * dge.inactive.len/dge.total\n",
    "dge.variable.per <- 100 * dge.variable.len/dge.total\n",
    "message(\"AS escape: \", as.escape.per, \" AS inactive: \", as.inactive.per, \" AS variable: \", as.variable.per)\n",
    "message(\"X chr escape: \", x.escape.per, \" X chr inactive: \", x.inactive.per, \" X chr variable: \", x.variable.per)\n",
    "message(\"DGE escape: \", dge.escape.per, \" DGE inactive: \", dge.inactive.per, \" DGE variable: \", dge.variable.per)"
   ]
  },
  {
   "cell_type": "code",
   "execution_count": 59,
   "metadata": {},
   "outputs": [
    {
     "data": {
      "image/png": "[encoded data removed]",
      "text/plain": [
       "plot without title"
      ]
     },
     "metadata": {
      "image/png": {
       "height": 420,
       "width": 420
      },
      "text/plain": {
       "height": 420,
       "width": 420
      }
     },
     "output_type": "display_data"
    }
   ],
   "source": [
    "library(ggplot2)\n",
    " \n",
    "# create a dataset\n",
    "category <- c(rep(\"AS\" , 3) , rep(\"chr X\" , 3) , rep(\"DE\" , 3) )\n",
    "condition <- rep(c(\"escape\" , \"inactive\" , \"variable\") , 3)\n",
    "value <- c(as.escape.per, as.inactive.per,as.variable.per,x.escape.per, x.inactive.per,x.variable.per,dge.escape.per, dge.inactive.per, dge.variable.per)\n",
    "data <- data.frame(category,condition,value)\n",
    " \n",
    "# Grouped\n",
    "ggplot(data, aes(fill=condition, y=value, x=category)) + \n",
    "    geom_bar(position=\"dodge\", stat=\"identity\")"
   ]
  },
  {
   "cell_type": "code",
   "execution_count": null,
   "metadata": {},
   "outputs": [],
   "source": []
  }
 ],
 "metadata": {
  "kernelspec": {
   "display_name": "R",
   "language": "R",
   "name": "ir"
  },
  "language_info": {
   "codemirror_mode": "r",
   "file_extension": ".r",
   "mimetype": "text/x-r-source",
   "name": "R",
   "pygments_lexer": "r",
   "version": "3.6.2"
  }
 },
 "nbformat": 4,
 "nbformat_minor": 4
}
