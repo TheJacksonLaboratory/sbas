{
 "cells": [
  {
   "cell_type": "markdown",
   "metadata": {},
   "source": [
    "# Figure Generation Notebook - SplicingIndex figure\n",
    "\n",
    "This notebook creates a single figure, SplicingIndexFigure a plot showing the number of AS events per 1000 exons for each chromosome\n",
    "\n",
    "## Figures (PDF files) created by this notebook\n",
    "Output PDF Figures are written to the ``pdf/`` directory.\n",
    "\n",
    "**tissue-piechart.pdf**: Plot showing number of tissues-per gene with AS events\n"
   ]
  },
  {
   "cell_type": "code",
   "execution_count": 2,
   "metadata": {},
   "outputs": [],
   "source": [
    "defaultW <- getOption(\"warn\")  # suppress warnings for this cell\n",
    "options(warn = -1) \n",
    "\n",
    "library(dplyr)\n",
    "library(ggplot2)\n",
    "library(limma)\n",
    "library(multtest)\n",
    "library(Biobase)\n",
    "library(edgeR)\n",
    "library(tibble)\n",
    "library(R.utils)\n",
    "library(rtracklayer)\n",
    "\n",
    "options(warn = defaultW)"
   ]
  },
  {
   "cell_type": "markdown",
   "metadata": {},
   "source": [
    "## 1. Download all the rMATS results\n",
    "\n",
    "Each of the alternative splicing output files are downloaded here:"
   ]
  },
  {
   "cell_type": "markdown",
   "metadata": {},
   "source": [
    "### 1.1 get released rMATS GTF annotations\n",
    "\n",
    "For each splicing type, the junctions are defined, so we have 5 specific annotated splicing specific junction ID annotation files:\n",
    "\n",
    "1. **fromGTF.A3SS.txt**: annotations for the alternative 3' splice site junctions\n",
    "2. **fromGTF.A5SS.txt**: annotations for the alternative 5' splice site junctions\n",
    "3. **fromGTF.MXE.txt**: annotations for the mutually exclusive exon junctions\n",
    "4. **fromGTF.RI.txt**: annotations for the retained introns junctions\n",
    "5. **fromGTF.SE.txt**: annotations for the skipped exon junctions"
   ]
  },
  {
   "cell_type": "markdown",
   "metadata": {},
   "source": [
    "## 1.2 Unpacked the data.tar file if necessaty"
   ]
  },
  {
   "cell_type": "code",
   "execution_count": 3,
   "metadata": {},
   "outputs": [
    {
     "name": "stderr",
     "output_type": "stream",
     "text": [
      "tar xvfz  ../../mounted-data//robinson-bucket/notebooks/DGE_splicing_data.tar.gz -C ../data\n",
      "\n",
      "Warning message in system(mycommand, intern = TRUE):\n",
      "“running command 'tar xvfz  ../../mounted-data//robinson-bucket/notebooks/DGE_splicing_data.tar.gz -C ../data' had status 2”\n",
      "Done unpacking ../../mounted-data//robinson-bucket/notebooks/DGE_splicing_data.tar.gz\n",
      "\n"
     ]
    }
   ],
   "source": [
    "dge_splicing_file_dir <- list.files(\"../../mounted-data\", pattern='DGE_splicing_data.tar.gz')\n",
    "dge_splicing_file <- paste(\"../../mounted-data\", dge_splicing_file_dir, 'robinson-bucket/notebooks/DGE_splicing_data', sep='/')\n",
    "dge_splicing_file_tar_gz <- paste(dge_splicing_file, '.tar.gz', sep='')\n",
    "example_unpacked_file = '../data/ri_brain_cerebellum_DGE_sex.csv'\n",
    "if (! file.exists(example_unpacked_file)) {\n",
    "    mycommand = paste(\"tar xvfz \",dge_splicing_file_tar_gz, \"-C ../data\", sep=\" \")\n",
    "    message(mycommand)\n",
    "    system(mycommand, intern = TRUE)\n",
    "    message(\"Done unpacking \", dge_splicing_file_tar_gz)\n",
    "} else {\n",
    "    message(\"Cowardly refusing to unpack \", dge_splicing_file_tar_gz, \" since it was previously unapcked\")\n",
    "}\n",
    "\n",
    "\n"
   ]
  },
  {
   "cell_type": "code",
   "execution_count": 4,
   "metadata": {},
   "outputs": [
    {
     "name": "stderr",
     "output_type": "stream",
     "text": [
      "Cowardly refusing to unpack ../../mounted-data//robinson-bucket/notebooks/data.tar.gz since it was previously unapcked\n",
      "\n"
     ]
    }
   ],
   "source": [
    "data_file_dir <- list.files(\"../../mounted-data\", pattern='-data.tar.gz')\n",
    "data_file_tar_gz <- paste(\"../../mounted-data\", data_file_dir, 'robinson-bucket/notebooks/data.tar.gz', sep='/')\n",
    "example_unpacked_file = '../data/SraRunTable.txt.gz'\n",
    "if (! file.exists(example_unpacked_file)) {\n",
    "    mycommand = paste(\"tar xvfz \",data_file_tar_gz, \"-C ../data\", sep=\" \")\n",
    "    message(mycommand)\n",
    "    system(mycommand, intern = TRUE)\n",
    "    message(\"Done unpacking \", data_file_tar_gz)\n",
    "} else {\n",
    "    message(\"Cowardly refusing to unpack \", data_file_tar_gz, \" since it was previously unapcked\")\n",
    "}\n"
   ]
  },
  {
   "cell_type": "code",
   "execution_count": 5,
   "metadata": {},
   "outputs": [
    {
     "name": "stderr",
     "output_type": "stream",
     "text": [
      "Decompressing fromGTF.tar.gz into ../data\n",
      "\n",
      "Done!\n",
      "\n",
      "\n",
      "Gunzipping files into ../data\n",
      "\n",
      "Warning message in system(\"gunzip ../data/fromGTF.*txt.gz\", intern = TRUE):\n",
      "“running command 'gunzip ../data/fromGTF.*txt.gz' had status 2”\n",
      "Done!\n",
      "\n",
      "\n"
     ]
    }
   ],
   "source": [
    "getReleasedGTFAnnotations <- function ( destDir ) {\n",
    "    message(\"Decompressing fromGTF.tar.gz into ../data\")\n",
    "    system(\"mkdir -p ../data && tar xvfz ../data/fromGTF.tar.gz -C ../data\", intern = TRUE)\n",
    "    message(\"Done!\\n\")\n",
    "    message(\"Gunzipping files into ../data\")\n",
    "    system(\"gunzip ../data/fromGTF.*txt.gz\", intern = TRUE)\n",
    "    message(\"Done!\\n\")\n",
    "}\n",
    "\n",
    "#\n",
    "# 1.2.2 get the rmats 3.2.5 discovered/annoated junction information in GTF format\n",
    "#\n",
    "getReleasedGTFAnnotations (destDir <- \"../data/\")"
   ]
  },
  {
   "cell_type": "markdown",
   "metadata": {},
   "source": [
    "### 2  Refined results\n",
    "We define **refined results* as (FC > 1.5 and pVal < 0.05) for the sex\\*as_event coefficient result for the linear model"
   ]
  },
  {
   "cell_type": "markdown",
   "metadata": {},
   "source": [
    "### 2.1 getTissueReduction"
   ]
  },
  {
   "cell_type": "code",
   "execution_count": 6,
   "metadata": {},
   "outputs": [],
   "source": [
    "getTissueReduction <- function ( filename ) {\n",
    "\n",
    "    tissue_reduction <- read.table(filename, header=TRUE, sep=\"\\t\",\n",
    "                               skipNul=FALSE, stringsAsFactors = FALSE)\n",
    "    colnames(tissue_reduction)  <- c(\"SMTSD\",\"female\",\"male\",\"include\",\"display_name\")\n",
    "\n",
    "    return(tissue_reduction)\n",
    "}\n",
    "tissue_reduction <- getTissueReduction (\"../assets/tissues.tsv\")"
   ]
  },
  {
   "cell_type": "markdown",
   "metadata": {},
   "source": [
    "### 2.2 Read in refined results and annotations"
   ]
  },
  {
   "cell_type": "code",
   "execution_count": 16,
   "metadata": {},
   "outputs": [],
   "source": [
    "significant_results_dir = \"../data/\"\n",
    "pattern = \"AS_model_B_sex_as_events_refined.csv\"\n",
    "files <- list.files(path = significant_results_dir, pattern = pattern)\n",
    "as_types <- c(\"a3ss\", \"a5ss\", \"mxe\", \"ri\", \"se\")"
   ]
  },
  {
   "cell_type": "code",
   "execution_count": 17,
   "metadata": {},
   "outputs": [],
   "source": [
    "a3ss_annot <- read.table(file = \"../data/fromGTF.A3SS.txt\", sep = \"\\t\", quote = \"\\\"\", header = T, stringsAsFactors = F)\n",
    "a5ss_annot <- read.table(file = \"../data/fromGTF.A5SS.txt\", sep = \"\\t\", quote = \"\\\"\", header = T, stringsAsFactors = F)\n",
    "mxe_annot <- read.table(file = \"../data/fromGTF.MXE.txt\", sep = \"\\t\", quote = \"\\\"\", header = T, stringsAsFactors = F)\n",
    "ri_annot <- read.table(file = \"../data/fromGTF.RI.txt\", sep = \"\\t\", quote = \"\\\"\", header = T, stringsAsFactors = F)\n",
    "se_annot <- read.table(file = \"../data/fromGTF.SE.txt\", sep = \"\\t\", quote = \"\\\"\", header = T, stringsAsFactors = F)"
   ]
  },
  {
   "cell_type": "code",
   "execution_count": 19,
   "metadata": {},
   "outputs": [
    {
     "name": "stderr",
     "output_type": "stream",
     "text": [
      "We found 195 AS_model_B_sex_as_events_refined files\n",
      "\n"
     ]
    }
   ],
   "source": [
    "message(\"We found \", length(files), \" AS_model_B_sex_as_events_refined files\")"
   ]
  },
  {
   "cell_type": "code",
   "execution_count": 20,
   "metadata": {},
   "outputs": [
    {
     "name": "stderr",
     "output_type": "stream",
     "text": [
      "\n",
      "Done reading significant events!\n",
      "\n",
      "\n"
     ]
    }
   ],
   "source": [
    "gene_as = data.frame()\n",
    "counts <- rep(NA, length(files))\n",
    "ASE <- rep(\"NA\", length(files))\n",
    "Tissue <- rep(\"NA\", length(files))\n",
    "\n",
    "for (i in 1:length(files)) {\n",
    "    lines <- read.csv(paste0(significant_results_dir, files[i]),header = TRUE)\n",
    "    event     <- as.vector(as.character(rownames(lines)))\n",
    "    tissue <- gsub(\"_DGE_sex_as_events_refined.csv\",\"\", files[i], fixed = TRUE)\n",
    "\n",
    "    counts[i] <- dim(lines)[1]\n",
    "    \n",
    "    if (dim(lines)[1] > 0) { #has significant events\n",
    "        # rownames of the significant results file are a combination of gene-symbol and junction name\n",
    "        # using a regular expression - extract the last numbers that then are the index to the annotation table\n",
    "        event_idx <- substring(event, regexpr(\"[0-9]+$\", event))\n",
    "        \n",
    "        if (grepl(\"a3ss_\", files[i])) {\n",
    "            tissue <- gsub(\"a3ss_\",\"\", tissue, fixed = TRUE)\n",
    "            ASE[i] <- \"A3SS\"\n",
    "            Tissue[i] <- tissue\n",
    "            idx <- match(event_idx, a3ss_annot$ID)\n",
    "            res <- data.frame(GeneJunction = event,\n",
    "                              ASE = \"A3SS\", \n",
    "                              ASE_IDX = idx,\n",
    "                              Tissue = tissue, \n",
    "                              GeneSymbol = a3ss_annot$geneSymbol[idx],\n",
    "                              chr = a3ss_annot$chr[idx])\n",
    "        }\n",
    "        if (grepl(\"a5ss_\", files[i])) {\n",
    "            tissue <- gsub(\"a5ss_\",\"\", tissue, fixed = TRUE)\n",
    "            ASE[i] <- \"A5SS\"\n",
    "            Tissue[i] <- tissue\n",
    "            idx <- match(event_idx, a5ss_annot$ID)\n",
    "            res <- data.frame(GeneJunction = event,\n",
    "                              ASE = \"A5SS\", \n",
    "                              ASE_IDX = idx,\n",
    "                              Tissue = tissue, \n",
    "                              GeneSymbol = a5ss_annot$geneSymbol[idx],\n",
    "                              chr = a5ss_annot$chr[idx])\n",
    "        }\n",
    "        if (grepl(\"mxe_\", files[i])) {\n",
    "            ASE[i] <- \"MXE\"\n",
    "            tissue <- gsub(\"mxe_\",\"\", tissue, fixed = TRUE)\n",
    "            Tissue[i] <- tissue\n",
    "            idx <- match(event_idx, a3ss_annot$ID)\n",
    "            res <- data.frame(GeneJunction = event,\n",
    "                              ASE = \"MXE\", \n",
    "                              ASE_IDX = idx,\n",
    "                              Tissue = tissue, \n",
    "                              GeneSymbol = mxe_annot$geneSymbol[idx],\n",
    "                              chr = mxe_annot$chr[idx])\n",
    "        }\n",
    "        if (grepl(\"se_\", files[i])) {\n",
    "            ASE[i] <- \"SE\"\n",
    "            tissue <- gsub(\"se_\",\"\", tissue, fixed = TRUE)\n",
    "            Tissue[i] <- tissue\n",
    "            idx <- match(event_idx, se_annot$ID)\n",
    "            res <- data.frame(GeneJunction = event,\n",
    "                              ASE = \"SE\", \n",
    "                              ASE_IDX = idx,\n",
    "                              Tissue = tissue, \n",
    "                              GeneSymbol = se_annot$geneSymbol[idx],\n",
    "                              chr = se_annot$chr[idx])\n",
    "        }\n",
    "        if (grepl(\"ri_\", files[i])){\n",
    "            ASE[i] <- \"RI\"\n",
    "            tissue <- gsub(\"ri_\",\"\", tissue, fixed = TRUE)\n",
    "            Tissue[i] <- tissue\n",
    "            idx <- match(event_idx, ri_annot$ID)\n",
    "            res <- data.frame(GeneJunction = event,\n",
    "                              ASE = \"RI\", \n",
    "                              ASE_IDX = idx,\n",
    "                              Tissue = tissue, \n",
    "                              GeneSymbol = ri_annot$geneSymbol[idx],\n",
    "                              chr = a3ss_annot$chr[idx])\n",
    "        }\n",
    "        gene_as <- rbind(gene_as, res)\n",
    "        \n",
    "    } #if has sig. events\n",
    "    \n",
    "} #for all files\n",
    "message (\"\\nDone reading significant events!\\n\")"
   ]
  },
  {
   "cell_type": "markdown",
   "metadata": {},
   "source": [
    "### 3 Data Structures for Figures"
   ]
  },
  {
   "cell_type": "markdown",
   "metadata": {},
   "source": [
    "### 3.1 gene_as.tsv\n",
    "\n",
    "This file contains (description)\n",
    "Here is a typical line\n",
    "<pre>\n",
    "        GeneJunction    ASE     ASE_IDX Tissue  GeneSymbol      chr\n",
    "1       MDM4-3553       SE      3553    adipovisceral_omentum   RNPEP   chr1\n",
    "2       WDR17-8668      SE      8668    adipovisceral_omentum   ANKMY1  chr2\n",
    "3       IL17RC-5032     SE      5032    adipovisceral_omentum   SNCAIP  chr5\n",
    "4       DDX3X-5712      A3SS    5712    adrenal_gland   DDX3X   chrX\n",
    "</pre>\n",
    "There are 2848 significant events in the file."
   ]
  },
  {
   "cell_type": "code",
   "execution_count": 21,
   "metadata": {},
   "outputs": [
    {
     "name": "stdout",
     "output_type": "stream",
     "text": [
      "Observations: 6,370\n",
      "Variables: 6\n",
      "$ GeneJunction \u001b[3m\u001b[90m<fct>\u001b[39m\u001b[23m XIST-2253, XIST-2252, GREB1L-4933, RHCG-1776, XIST-2253,…\n",
      "$ ASE          \u001b[3m\u001b[90m<fct>\u001b[39m\u001b[23m SE, SE, SE, SE, SE, SE, SE, SE, SE, SE, SE, SE, SE, SE, …\n",
      "$ ASE_IDX      \u001b[3m\u001b[90m<int>\u001b[39m\u001b[23m 2253, 2252, 4933, 1776, 2253, 2252, 4819, 4818, 4820, 45…\n",
      "$ Tissue       \u001b[3m\u001b[90m<fct>\u001b[39m\u001b[23m adiposubcutaneous_AS_model_B_sex_as_events_refined.csv, …\n",
      "$ GeneSymbol   \u001b[3m\u001b[90m<fct>\u001b[39m\u001b[23m DLEU1, DLEU1, AKT1, MLF1, DLEU1, DLEU1, CNN2, KCNK7, CNN…\n",
      "$ chr          \u001b[3m\u001b[90m<fct>\u001b[39m\u001b[23m chr13, chr13, chr14, chr3, chr13, chr13, chr19, chr11, c…\n"
     ]
    },
    {
     "data": {
      "text/plain": [
       "\n",
       "FALSE \n",
       " 6370 "
      ]
     },
     "metadata": {},
     "output_type": "display_data"
    },
    {
     "data": {
      "text/html": [
       "<style>\n",
       ".list-inline {list-style: none; margin:0; padding: 0}\n",
       ".list-inline>li {display: inline-block}\n",
       ".list-inline>li:not(:last-child)::after {content: \"\\00b7\"; padding: 0 .5ex}\n",
       "</style>\n",
       "<ol class=list-inline><li>'GeneJunction'</li><li>'ASE'</li><li>'ASE_IDX'</li><li>'Tissue'</li><li>'GeneSymbol'</li><li>'chr'</li></ol>\n"
      ],
      "text/latex": [
       "\\begin{enumerate*}\n",
       "\\item 'GeneJunction'\n",
       "\\item 'ASE'\n",
       "\\item 'ASE\\_IDX'\n",
       "\\item 'Tissue'\n",
       "\\item 'GeneSymbol'\n",
       "\\item 'chr'\n",
       "\\end{enumerate*}\n"
      ],
      "text/markdown": [
       "1. 'GeneJunction'\n",
       "2. 'ASE'\n",
       "3. 'ASE_IDX'\n",
       "4. 'Tissue'\n",
       "5. 'GeneSymbol'\n",
       "6. 'chr'\n",
       "\n",
       "\n"
      ],
      "text/plain": [
       "[1] \"GeneJunction\" \"ASE\"          \"ASE_IDX\"      \"Tissue\"       \"GeneSymbol\"  \n",
       "[6] \"chr\"         "
      ]
     },
     "metadata": {},
     "output_type": "display_data"
    },
    {
     "data": {
      "text/html": [
       "<table>\n",
       "<caption>A data.frame: 6 × 6</caption>\n",
       "<thead>\n",
       "\t<tr><th></th><th scope=col>GeneJunction</th><th scope=col>ASE</th><th scope=col>ASE_IDX</th><th scope=col>Tissue</th><th scope=col>GeneSymbol</th><th scope=col>chr</th></tr>\n",
       "\t<tr><th></th><th scope=col>&lt;fct&gt;</th><th scope=col>&lt;fct&gt;</th><th scope=col>&lt;int&gt;</th><th scope=col>&lt;fct&gt;</th><th scope=col>&lt;fct&gt;</th><th scope=col>&lt;fct&gt;</th></tr>\n",
       "</thead>\n",
       "<tbody>\n",
       "\t<tr><th scope=row>1</th><td>XIST-2253  </td><td>SE</td><td>2253</td><td>adiposubcutaneous_AS_model_B_sex_as_events_refined.csv    </td><td>DLEU1</td><td>chr13</td></tr>\n",
       "\t<tr><th scope=row>2</th><td>XIST-2252  </td><td>SE</td><td>2252</td><td>adiposubcutaneous_AS_model_B_sex_as_events_refined.csv    </td><td>DLEU1</td><td>chr13</td></tr>\n",
       "\t<tr><th scope=row>3</th><td>GREB1L-4933</td><td>SE</td><td>4933</td><td>adiposubcutaneous_AS_model_B_sex_as_events_refined.csv    </td><td>AKT1 </td><td>chr14</td></tr>\n",
       "\t<tr><th scope=row>4</th><td>RHCG-1776  </td><td>SE</td><td>1776</td><td>adiposubcutaneous_AS_model_B_sex_as_events_refined.csv    </td><td>MLF1 </td><td>chr3 </td></tr>\n",
       "\t<tr><th scope=row>5</th><td>XIST-2253  </td><td>SE</td><td>2253</td><td>adipovisceral_omentum_AS_model_B_sex_as_events_refined.csv</td><td>DLEU1</td><td>chr13</td></tr>\n",
       "\t<tr><th scope=row>6</th><td>XIST-2252  </td><td>SE</td><td>2252</td><td>adipovisceral_omentum_AS_model_B_sex_as_events_refined.csv</td><td>DLEU1</td><td>chr13</td></tr>\n",
       "</tbody>\n",
       "</table>\n"
      ],
      "text/latex": [
       "A data.frame: 6 × 6\n",
       "\\begin{tabular}{r|llllll}\n",
       "  & GeneJunction & ASE & ASE\\_IDX & Tissue & GeneSymbol & chr\\\\\n",
       "  & <fct> & <fct> & <int> & <fct> & <fct> & <fct>\\\\\n",
       "\\hline\n",
       "\t1 & XIST-2253   & SE & 2253 & adiposubcutaneous\\_AS\\_model\\_B\\_sex\\_as\\_events\\_refined.csv     & DLEU1 & chr13\\\\\n",
       "\t2 & XIST-2252   & SE & 2252 & adiposubcutaneous\\_AS\\_model\\_B\\_sex\\_as\\_events\\_refined.csv     & DLEU1 & chr13\\\\\n",
       "\t3 & GREB1L-4933 & SE & 4933 & adiposubcutaneous\\_AS\\_model\\_B\\_sex\\_as\\_events\\_refined.csv     & AKT1  & chr14\\\\\n",
       "\t4 & RHCG-1776   & SE & 1776 & adiposubcutaneous\\_AS\\_model\\_B\\_sex\\_as\\_events\\_refined.csv     & MLF1  & chr3 \\\\\n",
       "\t5 & XIST-2253   & SE & 2253 & adipovisceral\\_omentum\\_AS\\_model\\_B\\_sex\\_as\\_events\\_refined.csv & DLEU1 & chr13\\\\\n",
       "\t6 & XIST-2252   & SE & 2252 & adipovisceral\\_omentum\\_AS\\_model\\_B\\_sex\\_as\\_events\\_refined.csv & DLEU1 & chr13\\\\\n",
       "\\end{tabular}\n"
      ],
      "text/markdown": [
       "\n",
       "A data.frame: 6 × 6\n",
       "\n",
       "| <!--/--> | GeneJunction &lt;fct&gt; | ASE &lt;fct&gt; | ASE_IDX &lt;int&gt; | Tissue &lt;fct&gt; | GeneSymbol &lt;fct&gt; | chr &lt;fct&gt; |\n",
       "|---|---|---|---|---|---|---|\n",
       "| 1 | XIST-2253   | SE | 2253 | adiposubcutaneous_AS_model_B_sex_as_events_refined.csv     | DLEU1 | chr13 |\n",
       "| 2 | XIST-2252   | SE | 2252 | adiposubcutaneous_AS_model_B_sex_as_events_refined.csv     | DLEU1 | chr13 |\n",
       "| 3 | GREB1L-4933 | SE | 4933 | adiposubcutaneous_AS_model_B_sex_as_events_refined.csv     | AKT1  | chr14 |\n",
       "| 4 | RHCG-1776   | SE | 1776 | adiposubcutaneous_AS_model_B_sex_as_events_refined.csv     | MLF1  | chr3  |\n",
       "| 5 | XIST-2253   | SE | 2253 | adipovisceral_omentum_AS_model_B_sex_as_events_refined.csv | DLEU1 | chr13 |\n",
       "| 6 | XIST-2252   | SE | 2252 | adipovisceral_omentum_AS_model_B_sex_as_events_refined.csv | DLEU1 | chr13 |\n",
       "\n"
      ],
      "text/plain": [
       "  GeneJunction ASE ASE_IDX\n",
       "1 XIST-2253    SE  2253   \n",
       "2 XIST-2252    SE  2252   \n",
       "3 GREB1L-4933  SE  4933   \n",
       "4 RHCG-1776    SE  1776   \n",
       "5 XIST-2253    SE  2253   \n",
       "6 XIST-2252    SE  2252   \n",
       "  Tissue                                                     GeneSymbol chr  \n",
       "1 adiposubcutaneous_AS_model_B_sex_as_events_refined.csv     DLEU1      chr13\n",
       "2 adiposubcutaneous_AS_model_B_sex_as_events_refined.csv     DLEU1      chr13\n",
       "3 adiposubcutaneous_AS_model_B_sex_as_events_refined.csv     AKT1       chr14\n",
       "4 adiposubcutaneous_AS_model_B_sex_as_events_refined.csv     MLF1       chr3 \n",
       "5 adipovisceral_omentum_AS_model_B_sex_as_events_refined.csv DLEU1      chr13\n",
       "6 adipovisceral_omentum_AS_model_B_sex_as_events_refined.csv DLEU1      chr13"
      ]
     },
     "metadata": {},
     "output_type": "display_data"
    }
   ],
   "source": [
    "glimpse(gene_as)\n",
    "table(is.na(gene_as$Tissue))\n",
    "colnames(gene_as)\n",
    "write.table(gene_as, \"../data/gene_as.tsv\", quote=FALSE, sep=\"\\t\")\n",
    "head(gene_as)"
   ]
  },
  {
   "cell_type": "markdown",
   "metadata": {},
   "source": [
    "### 3.2 Tissue specific data frame"
   ]
  },
  {
   "cell_type": "code",
   "execution_count": 22,
   "metadata": {},
   "outputs": [
    {
     "data": {
      "text/html": [
       "41"
      ],
      "text/latex": [
       "41"
      ],
      "text/markdown": [
       "41"
      ],
      "text/plain": [
       "[1] 41"
      ]
     },
     "metadata": {},
     "output_type": "display_data"
    },
    {
     "name": "stderr",
     "output_type": "stream",
     "text": [
      "data now has 40 tissues and 6 ASE categories\n",
      "\n",
      "ASE:\n",
      "\n"
     ]
    },
    {
     "data": {
      "text/html": [
       "<style>\n",
       ".dl-inline {width: auto; margin:0; padding: 0}\n",
       ".dl-inline>dt, .dl-inline>dd {float: none; width: auto; display: inline-block}\n",
       ".dl-inline>dt::after {content: \":\\0020\"; padding-right: .5ex}\n",
       ".dl-inline>dt:not(:first-of-type) {padding-left: .5ex}\n",
       "</style><dl class=dl-inline><dt>A3SS</dt><dd>36</dd><dt>A5SS</dt><dd>24</dd><dt>MXE</dt><dd>26</dd><dt>NA</dt><dd>0</dd><dt>RI</dt><dd>21</dd><dt>SE</dt><dd>47</dd></dl>\n"
      ],
      "text/latex": [
       "\\begin{description*}\n",
       "\\item[A3SS] 36\n",
       "\\item[A5SS] 24\n",
       "\\item[MXE] 26\n",
       "\\item[NA] 0\n",
       "\\item[RI] 21\n",
       "\\item[SE] 47\n",
       "\\end{description*}\n"
      ],
      "text/markdown": [
       "A3SS\n",
       ":   36A5SS\n",
       ":   24MXE\n",
       ":   26NA\n",
       ":   0RI\n",
       ":   21SE\n",
       ":   47\n",
       "\n"
      ],
      "text/plain": [
       "A3SS A5SS  MXE   NA   RI   SE \n",
       "  36   24   26    0   21   47 "
      ]
     },
     "metadata": {},
     "output_type": "display_data"
    }
   ],
   "source": [
    "sum(Tissue == \"NA\")\n",
    "data <- data.frame(Tissue = Tissue, ASE = ASE, Counts = counts)\n",
    "data <- data[!(Tissue==\"NA\"),]\n",
    "numberOfUniqueTissues <- length(summary(as.factor(data$Tissue),maxsum=500))\n",
    "numberOfASEmechanisms <- length(summary(as.factor(data$ASE),maxsum=500))\n",
    "message(\"data now has \",numberOfUniqueTissues, \" tissues and \", numberOfASEmechanisms, \" ASE categories\")\n",
    "message(\"ASE:\")\n",
    "summary(as.factor(data$ASE),maxsum=500)"
   ]
  },
  {
   "cell_type": "markdown",
   "metadata": {},
   "source": [
    "### 3.3 Count splicing event by chromosome\n",
    "\n",
    "Count the number of significant alternative splicing events per chromosome and write to the file **Total_AS_by_chr.tsv**."
   ]
  },
  {
   "cell_type": "code",
   "execution_count": 23,
   "metadata": {},
   "outputs": [
    {
     "data": {
      "text/html": [
       "23"
      ],
      "text/latex": [
       "23"
      ],
      "text/markdown": [
       "23"
      ],
      "text/plain": [
       "[1] 23"
      ]
     },
     "metadata": {},
     "output_type": "display_data"
    },
    {
     "data": {
      "text/html": [
       "<table>\n",
       "<caption>A data.frame: 23 × 2</caption>\n",
       "<thead>\n",
       "\t<tr><th scope=col>chr</th><th scope=col>n</th></tr>\n",
       "\t<tr><th scope=col>&lt;fct&gt;</th><th scope=col>&lt;int&gt;</th></tr>\n",
       "</thead>\n",
       "<tbody>\n",
       "\t<tr><td>chrX </td><td>762</td></tr>\n",
       "\t<tr><td>chr1 </td><td>631</td></tr>\n",
       "\t<tr><td>chr19</td><td>433</td></tr>\n",
       "\t<tr><td>chr11</td><td>388</td></tr>\n",
       "\t<tr><td>chr3 </td><td>381</td></tr>\n",
       "\t<tr><td>chr2 </td><td>376</td></tr>\n",
       "\t<tr><td>chr17</td><td>360</td></tr>\n",
       "\t<tr><td>chr12</td><td>333</td></tr>\n",
       "\t<tr><td>chr16</td><td>305</td></tr>\n",
       "\t<tr><td>chr4 </td><td>290</td></tr>\n",
       "\t<tr><td>chr6 </td><td>248</td></tr>\n",
       "\t<tr><td>chr7 </td><td>238</td></tr>\n",
       "\t<tr><td>chr5 </td><td>217</td></tr>\n",
       "\t<tr><td>chr15</td><td>215</td></tr>\n",
       "\t<tr><td>chr10</td><td>195</td></tr>\n",
       "\t<tr><td>chr8 </td><td>185</td></tr>\n",
       "\t<tr><td>chr9 </td><td>174</td></tr>\n",
       "\t<tr><td>chr22</td><td>168</td></tr>\n",
       "\t<tr><td>chr14</td><td>155</td></tr>\n",
       "\t<tr><td>chr20</td><td>113</td></tr>\n",
       "\t<tr><td>chr18</td><td> 94</td></tr>\n",
       "\t<tr><td>chr13</td><td> 69</td></tr>\n",
       "\t<tr><td>chr21</td><td> 40</td></tr>\n",
       "</tbody>\n",
       "</table>\n"
      ],
      "text/latex": [
       "A data.frame: 23 × 2\n",
       "\\begin{tabular}{ll}\n",
       " chr & n\\\\\n",
       " <fct> & <int>\\\\\n",
       "\\hline\n",
       "\t chrX  & 762\\\\\n",
       "\t chr1  & 631\\\\\n",
       "\t chr19 & 433\\\\\n",
       "\t chr11 & 388\\\\\n",
       "\t chr3  & 381\\\\\n",
       "\t chr2  & 376\\\\\n",
       "\t chr17 & 360\\\\\n",
       "\t chr12 & 333\\\\\n",
       "\t chr16 & 305\\\\\n",
       "\t chr4  & 290\\\\\n",
       "\t chr6  & 248\\\\\n",
       "\t chr7  & 238\\\\\n",
       "\t chr5  & 217\\\\\n",
       "\t chr15 & 215\\\\\n",
       "\t chr10 & 195\\\\\n",
       "\t chr8  & 185\\\\\n",
       "\t chr9  & 174\\\\\n",
       "\t chr22 & 168\\\\\n",
       "\t chr14 & 155\\\\\n",
       "\t chr20 & 113\\\\\n",
       "\t chr18 &  94\\\\\n",
       "\t chr13 &  69\\\\\n",
       "\t chr21 &  40\\\\\n",
       "\\end{tabular}\n"
      ],
      "text/markdown": [
       "\n",
       "A data.frame: 23 × 2\n",
       "\n",
       "| chr &lt;fct&gt; | n &lt;int&gt; |\n",
       "|---|---|\n",
       "| chrX  | 762 |\n",
       "| chr1  | 631 |\n",
       "| chr19 | 433 |\n",
       "| chr11 | 388 |\n",
       "| chr3  | 381 |\n",
       "| chr2  | 376 |\n",
       "| chr17 | 360 |\n",
       "| chr12 | 333 |\n",
       "| chr16 | 305 |\n",
       "| chr4  | 290 |\n",
       "| chr6  | 248 |\n",
       "| chr7  | 238 |\n",
       "| chr5  | 217 |\n",
       "| chr15 | 215 |\n",
       "| chr10 | 195 |\n",
       "| chr8  | 185 |\n",
       "| chr9  | 174 |\n",
       "| chr22 | 168 |\n",
       "| chr14 | 155 |\n",
       "| chr20 | 113 |\n",
       "| chr18 |  94 |\n",
       "| chr13 |  69 |\n",
       "| chr21 |  40 |\n",
       "\n"
      ],
      "text/plain": [
       "   chr   n  \n",
       "1  chrX  762\n",
       "2  chr1  631\n",
       "3  chr19 433\n",
       "4  chr11 388\n",
       "5  chr3  381\n",
       "6  chr2  376\n",
       "7  chr17 360\n",
       "8  chr12 333\n",
       "9  chr16 305\n",
       "10 chr4  290\n",
       "11 chr6  248\n",
       "12 chr7  238\n",
       "13 chr5  217\n",
       "14 chr15 215\n",
       "15 chr10 195\n",
       "16 chr8  185\n",
       "17 chr9  174\n",
       "18 chr22 168\n",
       "19 chr14 155\n",
       "20 chr20 113\n",
       "21 chr18  94\n",
       "22 chr13  69\n",
       "23 chr21  40"
      ]
     },
     "metadata": {},
     "output_type": "display_data"
    },
    {
     "name": "stdout",
     "output_type": "stream",
     "text": [
      "Observations: 23\n",
      "Variables: 2\n",
      "$ chr \u001b[3m\u001b[90m<fct>\u001b[39m\u001b[23m chrX, chr1, chr19, chr11, chr3, chr2, chr17, chr12, chr16, chr4, …\n",
      "$ n   \u001b[3m\u001b[90m<int>\u001b[39m\u001b[23m 762, 631, 433, 388, 381, 376, 360, 333, 305, 290, 248, 238, 217, …\n"
     ]
    }
   ],
   "source": [
    "res2 <- gene_as          %>% \n",
    "       group_by(chr)    %>% \n",
    "       count(chr)       %>% \n",
    "       arrange(desc(n)) %>% \n",
    "       as.data.frame()\n",
    "res2$chr <- factor(res2$chr, levels = res2$chr)\n",
    "length(res2$chr)\n",
    "res2\n",
    "glimpse(res2)\n",
    "write.table(res2, file= \"../data/Total_AS_by_chr.tsv\", sep=\"\\t\", quote = FALSE, row.names=F)"
   ]
  },
  {
   "cell_type": "markdown",
   "metadata": {},
   "source": [
    "### 3.4 Count most frequent spliced genes "
   ]
  },
  {
   "cell_type": "code",
   "execution_count": 24,
   "metadata": {
    "lines_to_next_cell": 0
   },
   "outputs": [
    {
     "data": {
      "text/html": [
       "2899"
      ],
      "text/latex": [
       "2899"
      ],
      "text/markdown": [
       "2899"
      ],
      "text/plain": [
       "[1] 2899"
      ]
     },
     "metadata": {},
     "output_type": "display_data"
    },
    {
     "data": {
      "text/html": [
       "<table>\n",
       "<caption>A data.frame: 6 × 2</caption>\n",
       "<thead>\n",
       "\t<tr><th></th><th scope=col>GeneSymbol</th><th scope=col>n</th></tr>\n",
       "\t<tr><th></th><th scope=col>&lt;fct&gt;</th><th scope=col>&lt;int&gt;</th></tr>\n",
       "</thead>\n",
       "<tbody>\n",
       "\t<tr><th scope=row>1</th><td>XIST </td><td>335</td></tr>\n",
       "\t<tr><th scope=row>2</th><td>DDX3X</td><td> 96</td></tr>\n",
       "\t<tr><th scope=row>3</th><td>KDM5C</td><td> 47</td></tr>\n",
       "\t<tr><th scope=row>4</th><td>ZFX  </td><td> 47</td></tr>\n",
       "\t<tr><th scope=row>5</th><td>KDM6A</td><td> 27</td></tr>\n",
       "\t<tr><th scope=row>6</th><td>UCA1 </td><td> 25</td></tr>\n",
       "</tbody>\n",
       "</table>\n"
      ],
      "text/latex": [
       "A data.frame: 6 × 2\n",
       "\\begin{tabular}{r|ll}\n",
       "  & GeneSymbol & n\\\\\n",
       "  & <fct> & <int>\\\\\n",
       "\\hline\n",
       "\t1 & XIST  & 335\\\\\n",
       "\t2 & DDX3X &  96\\\\\n",
       "\t3 & KDM5C &  47\\\\\n",
       "\t4 & ZFX   &  47\\\\\n",
       "\t5 & KDM6A &  27\\\\\n",
       "\t6 & UCA1  &  25\\\\\n",
       "\\end{tabular}\n"
      ],
      "text/markdown": [
       "\n",
       "A data.frame: 6 × 2\n",
       "\n",
       "| <!--/--> | GeneSymbol &lt;fct&gt; | n &lt;int&gt; |\n",
       "|---|---|---|\n",
       "| 1 | XIST  | 335 |\n",
       "| 2 | DDX3X |  96 |\n",
       "| 3 | KDM5C |  47 |\n",
       "| 4 | ZFX   |  47 |\n",
       "| 5 | KDM6A |  27 |\n",
       "| 6 | UCA1  |  25 |\n",
       "\n"
      ],
      "text/plain": [
       "  GeneSymbol n  \n",
       "1 XIST       335\n",
       "2 DDX3X       96\n",
       "3 KDM5C       47\n",
       "4 ZFX         47\n",
       "5 KDM6A       27\n",
       "6 UCA1        25"
      ]
     },
     "metadata": {},
     "output_type": "display_data"
    }
   ],
   "source": [
    "res3 <- gene_as %>% \n",
    "       group_by(GeneSymbol) %>% count(GeneSymbol) %>% arrange(desc(n)) %>% as.data.frame()\n",
    "res3$GeneSymbol <- factor(res3$GeneSymbol, levels = res3$GeneSymbol)\n",
    "length(res3$GeneSymbol)\n",
    "head(res3)\n",
    "write.table(res3, file = \"../data/Total_AS_by_geneSymbol.tsv\", sep = \"\\t\", quote=FALSE, row.names = F)"
   ]
  },
  {
   "cell_type": "markdown",
   "metadata": {},
   "source": [
    "\n",
    "\n"
   ]
  },
  {
   "cell_type": "markdown",
   "metadata": {},
   "source": [
    "### 3.5 Count most frequent splicing by tissue"
   ]
  },
  {
   "cell_type": "code",
   "execution_count": 25,
   "metadata": {},
   "outputs": [
    {
     "data": {
      "text/html": [
       "39"
      ],
      "text/latex": [
       "39"
      ],
      "text/markdown": [
       "39"
      ],
      "text/plain": [
       "[1] 39"
      ]
     },
     "metadata": {},
     "output_type": "display_data"
    },
    {
     "data": {
      "text/html": [
       "<table>\n",
       "<caption>A data.frame: 39 × 2</caption>\n",
       "<thead>\n",
       "\t<tr><th scope=col>Tissue</th><th scope=col>n</th></tr>\n",
       "\t<tr><th scope=col>&lt;fct&gt;</th><th scope=col>&lt;int&gt;</th></tr>\n",
       "</thead>\n",
       "<tbody>\n",
       "\t<tr><td>breast_mammary_tissue_AS_model_B_sex_as_events_refined.csv                </td><td>4361</td></tr>\n",
       "\t<tr><td>brain_nucleus_accumbens_basal_ganglia_AS_model_B_sex_as_events_refined.csv</td><td> 335</td></tr>\n",
       "\t<tr><td>esophagus_muscularis_AS_model_B_sex_as_events_refined.csv                 </td><td> 261</td></tr>\n",
       "\t<tr><td>artery_aorta_AS_model_B_sex_as_events_refined.csv                         </td><td> 139</td></tr>\n",
       "\t<tr><td>thyroid_AS_model_B_sex_as_events_refined.csv                              </td><td> 104</td></tr>\n",
       "\t<tr><td>cells_cultured_fibroblasts_AS_model_B_sex_as_events_refined.csv           </td><td>  97</td></tr>\n",
       "\t<tr><td>muscle_skeletal_AS_model_B_sex_as_events_refined.csv                      </td><td>  80</td></tr>\n",
       "\t<tr><td>adiposubcutaneous_AS_model_B_sex_as_events_refined.csv                    </td><td>  78</td></tr>\n",
       "\t<tr><td>pituitary_AS_model_B_sex_as_events_refined.csv                            </td><td>  65</td></tr>\n",
       "\t<tr><td>skin_sun_exposed_lower_leg_AS_model_B_sex_as_events_refined.csv           </td><td>  64</td></tr>\n",
       "\t<tr><td>adipovisceral_omentum_AS_model_B_sex_as_events_refined.csv                </td><td>  58</td></tr>\n",
       "\t<tr><td>spleen_AS_model_B_sex_as_events_refined.csv                               </td><td>  58</td></tr>\n",
       "\t<tr><td>artery_tibial_AS_model_B_sex_as_events_refined.csv                        </td><td>  49</td></tr>\n",
       "\t<tr><td>adrenal_gland_AS_model_B_sex_as_events_refined.csv                        </td><td>  46</td></tr>\n",
       "\t<tr><td>liver_AS_model_B_sex_as_events_refined.csv                                </td><td>  37</td></tr>\n",
       "\t<tr><td>brain_hippocampus_AS_model_B_sex_as_events_refined.csv                    </td><td>  36</td></tr>\n",
       "\t<tr><td>brain_cerebellum_AS_model_B_sex_as_events_refined.csv                     </td><td>  35</td></tr>\n",
       "\t<tr><td>esophagus_mucosa_AS_model_B_sex_as_events_refined.csv                     </td><td>  33</td></tr>\n",
       "\t<tr><td>skin_not_sun_exposed_suprapubic_AS_model_B_sex_as_events_refined.csv      </td><td>  33</td></tr>\n",
       "\t<tr><td>lung_AS_model_B_sex_as_events_refined.csv                                 </td><td>  31</td></tr>\n",
       "\t<tr><td>pancreas_AS_model_B_sex_as_events_refined.csv                             </td><td>  31</td></tr>\n",
       "\t<tr><td>esophagus_gastroesophageal_junction_AS_model_B_sex_as_events_refined.csv  </td><td>  29</td></tr>\n",
       "\t<tr><td>heart_atrial_appendage_AS_model_B_sex_as_events_refined.csv               </td><td>  27</td></tr>\n",
       "\t<tr><td>brain_cortex_AS_model_B_sex_as_events_refined.csv                         </td><td>  26</td></tr>\n",
       "\t<tr><td>nerve_tibial_AS_model_B_sex_as_events_refined.csv                         </td><td>  26</td></tr>\n",
       "\t<tr><td>heart_left_ventricle_AS_model_B_sex_as_events_refined.csv                 </td><td>  24</td></tr>\n",
       "\t<tr><td>stomach_AS_model_B_sex_as_events_refined.csv                              </td><td>  24</td></tr>\n",
       "\t<tr><td>cells_ebv_transformed_lymphocytes_AS_model_B_sex_as_events_refined.csv    </td><td>  23</td></tr>\n",
       "\t<tr><td>artery_coronary_AS_model_B_sex_as_events_refined.csv                      </td><td>  21</td></tr>\n",
       "\t<tr><td>colon_transverAS_model_B_sex_as_events_refined.csv                        </td><td>  17</td></tr>\n",
       "\t<tr><td>whole_blood_AS_model_B_sex_as_events_refined.csv                          </td><td>  17</td></tr>\n",
       "\t<tr><td>brain_caudate_basal_ganglia_AS_model_B_sex_as_events_refined.csv          </td><td>  16</td></tr>\n",
       "\t<tr><td>small_intestine_terminal_ileum_AS_model_B_sex_as_events_refined.csv       </td><td>  16</td></tr>\n",
       "\t<tr><td>brain_spinal_cord_cervical_c_1_AS_model_B_sex_as_events_refined.csv       </td><td>  15</td></tr>\n",
       "\t<tr><td>brain_hypothalamus_AS_model_B_sex_as_events_refined.csv                   </td><td>  13</td></tr>\n",
       "\t<tr><td>brain_cerebellar_hemisphere_AS_model_B_sex_as_events_refined.csv          </td><td>  12</td></tr>\n",
       "\t<tr><td>brain_putamen_basal_ganglia_AS_model_B_sex_as_events_refined.csv          </td><td>  12</td></tr>\n",
       "\t<tr><td>brain_frontal_cortex_ba_9_AS_model_B_sex_as_events_refined.csv            </td><td>  11</td></tr>\n",
       "\t<tr><td>colon_sigmoid_AS_model_B_sex_as_events_refined.csv                        </td><td>  10</td></tr>\n",
       "</tbody>\n",
       "</table>\n"
      ],
      "text/latex": [
       "A data.frame: 39 × 2\n",
       "\\begin{tabular}{ll}\n",
       " Tissue & n\\\\\n",
       " <fct> & <int>\\\\\n",
       "\\hline\n",
       "\t breast\\_mammary\\_tissue\\_AS\\_model\\_B\\_sex\\_as\\_events\\_refined.csv                 & 4361\\\\\n",
       "\t brain\\_nucleus\\_accumbens\\_basal\\_ganglia\\_AS\\_model\\_B\\_sex\\_as\\_events\\_refined.csv &  335\\\\\n",
       "\t esophagus\\_muscularis\\_AS\\_model\\_B\\_sex\\_as\\_events\\_refined.csv                  &  261\\\\\n",
       "\t artery\\_aorta\\_AS\\_model\\_B\\_sex\\_as\\_events\\_refined.csv                          &  139\\\\\n",
       "\t thyroid\\_AS\\_model\\_B\\_sex\\_as\\_events\\_refined.csv                               &  104\\\\\n",
       "\t cells\\_cultured\\_fibroblasts\\_AS\\_model\\_B\\_sex\\_as\\_events\\_refined.csv            &   97\\\\\n",
       "\t muscle\\_skeletal\\_AS\\_model\\_B\\_sex\\_as\\_events\\_refined.csv                       &   80\\\\\n",
       "\t adiposubcutaneous\\_AS\\_model\\_B\\_sex\\_as\\_events\\_refined.csv                     &   78\\\\\n",
       "\t pituitary\\_AS\\_model\\_B\\_sex\\_as\\_events\\_refined.csv                             &   65\\\\\n",
       "\t skin\\_sun\\_exposed\\_lower\\_leg\\_AS\\_model\\_B\\_sex\\_as\\_events\\_refined.csv            &   64\\\\\n",
       "\t adipovisceral\\_omentum\\_AS\\_model\\_B\\_sex\\_as\\_events\\_refined.csv                 &   58\\\\\n",
       "\t spleen\\_AS\\_model\\_B\\_sex\\_as\\_events\\_refined.csv                                &   58\\\\\n",
       "\t artery\\_tibial\\_AS\\_model\\_B\\_sex\\_as\\_events\\_refined.csv                         &   49\\\\\n",
       "\t adrenal\\_gland\\_AS\\_model\\_B\\_sex\\_as\\_events\\_refined.csv                         &   46\\\\\n",
       "\t liver\\_AS\\_model\\_B\\_sex\\_as\\_events\\_refined.csv                                 &   37\\\\\n",
       "\t brain\\_hippocampus\\_AS\\_model\\_B\\_sex\\_as\\_events\\_refined.csv                     &   36\\\\\n",
       "\t brain\\_cerebellum\\_AS\\_model\\_B\\_sex\\_as\\_events\\_refined.csv                      &   35\\\\\n",
       "\t esophagus\\_mucosa\\_AS\\_model\\_B\\_sex\\_as\\_events\\_refined.csv                      &   33\\\\\n",
       "\t skin\\_not\\_sun\\_exposed\\_suprapubic\\_AS\\_model\\_B\\_sex\\_as\\_events\\_refined.csv       &   33\\\\\n",
       "\t lung\\_AS\\_model\\_B\\_sex\\_as\\_events\\_refined.csv                                  &   31\\\\\n",
       "\t pancreas\\_AS\\_model\\_B\\_sex\\_as\\_events\\_refined.csv                              &   31\\\\\n",
       "\t esophagus\\_gastroesophageal\\_junction\\_AS\\_model\\_B\\_sex\\_as\\_events\\_refined.csv   &   29\\\\\n",
       "\t heart\\_atrial\\_appendage\\_AS\\_model\\_B\\_sex\\_as\\_events\\_refined.csv                &   27\\\\\n",
       "\t brain\\_cortex\\_AS\\_model\\_B\\_sex\\_as\\_events\\_refined.csv                          &   26\\\\\n",
       "\t nerve\\_tibial\\_AS\\_model\\_B\\_sex\\_as\\_events\\_refined.csv                          &   26\\\\\n",
       "\t heart\\_left\\_ventricle\\_AS\\_model\\_B\\_sex\\_as\\_events\\_refined.csv                  &   24\\\\\n",
       "\t stomach\\_AS\\_model\\_B\\_sex\\_as\\_events\\_refined.csv                               &   24\\\\\n",
       "\t cells\\_ebv\\_transformed\\_lymphocytes\\_AS\\_model\\_B\\_sex\\_as\\_events\\_refined.csv     &   23\\\\\n",
       "\t artery\\_coronary\\_AS\\_model\\_B\\_sex\\_as\\_events\\_refined.csv                       &   21\\\\\n",
       "\t colon\\_transverAS\\_model\\_B\\_sex\\_as\\_events\\_refined.csv                         &   17\\\\\n",
       "\t whole\\_blood\\_AS\\_model\\_B\\_sex\\_as\\_events\\_refined.csv                           &   17\\\\\n",
       "\t brain\\_caudate\\_basal\\_ganglia\\_AS\\_model\\_B\\_sex\\_as\\_events\\_refined.csv           &   16\\\\\n",
       "\t small\\_intestine\\_terminal\\_ileum\\_AS\\_model\\_B\\_sex\\_as\\_events\\_refined.csv        &   16\\\\\n",
       "\t brain\\_spinal\\_cord\\_cervical\\_c\\_1\\_AS\\_model\\_B\\_sex\\_as\\_events\\_refined.csv        &   15\\\\\n",
       "\t brain\\_hypothalamus\\_AS\\_model\\_B\\_sex\\_as\\_events\\_refined.csv                    &   13\\\\\n",
       "\t brain\\_cerebellar\\_hemisphere\\_AS\\_model\\_B\\_sex\\_as\\_events\\_refined.csv           &   12\\\\\n",
       "\t brain\\_putamen\\_basal\\_ganglia\\_AS\\_model\\_B\\_sex\\_as\\_events\\_refined.csv           &   12\\\\\n",
       "\t brain\\_frontal\\_cortex\\_ba\\_9\\_AS\\_model\\_B\\_sex\\_as\\_events\\_refined.csv             &   11\\\\\n",
       "\t colon\\_sigmoid\\_AS\\_model\\_B\\_sex\\_as\\_events\\_refined.csv                         &   10\\\\\n",
       "\\end{tabular}\n"
      ],
      "text/markdown": [
       "\n",
       "A data.frame: 39 × 2\n",
       "\n",
       "| Tissue &lt;fct&gt; | n &lt;int&gt; |\n",
       "|---|---|\n",
       "| breast_mammary_tissue_AS_model_B_sex_as_events_refined.csv                 | 4361 |\n",
       "| brain_nucleus_accumbens_basal_ganglia_AS_model_B_sex_as_events_refined.csv |  335 |\n",
       "| esophagus_muscularis_AS_model_B_sex_as_events_refined.csv                  |  261 |\n",
       "| artery_aorta_AS_model_B_sex_as_events_refined.csv                          |  139 |\n",
       "| thyroid_AS_model_B_sex_as_events_refined.csv                               |  104 |\n",
       "| cells_cultured_fibroblasts_AS_model_B_sex_as_events_refined.csv            |   97 |\n",
       "| muscle_skeletal_AS_model_B_sex_as_events_refined.csv                       |   80 |\n",
       "| adiposubcutaneous_AS_model_B_sex_as_events_refined.csv                     |   78 |\n",
       "| pituitary_AS_model_B_sex_as_events_refined.csv                             |   65 |\n",
       "| skin_sun_exposed_lower_leg_AS_model_B_sex_as_events_refined.csv            |   64 |\n",
       "| adipovisceral_omentum_AS_model_B_sex_as_events_refined.csv                 |   58 |\n",
       "| spleen_AS_model_B_sex_as_events_refined.csv                                |   58 |\n",
       "| artery_tibial_AS_model_B_sex_as_events_refined.csv                         |   49 |\n",
       "| adrenal_gland_AS_model_B_sex_as_events_refined.csv                         |   46 |\n",
       "| liver_AS_model_B_sex_as_events_refined.csv                                 |   37 |\n",
       "| brain_hippocampus_AS_model_B_sex_as_events_refined.csv                     |   36 |\n",
       "| brain_cerebellum_AS_model_B_sex_as_events_refined.csv                      |   35 |\n",
       "| esophagus_mucosa_AS_model_B_sex_as_events_refined.csv                      |   33 |\n",
       "| skin_not_sun_exposed_suprapubic_AS_model_B_sex_as_events_refined.csv       |   33 |\n",
       "| lung_AS_model_B_sex_as_events_refined.csv                                  |   31 |\n",
       "| pancreas_AS_model_B_sex_as_events_refined.csv                              |   31 |\n",
       "| esophagus_gastroesophageal_junction_AS_model_B_sex_as_events_refined.csv   |   29 |\n",
       "| heart_atrial_appendage_AS_model_B_sex_as_events_refined.csv                |   27 |\n",
       "| brain_cortex_AS_model_B_sex_as_events_refined.csv                          |   26 |\n",
       "| nerve_tibial_AS_model_B_sex_as_events_refined.csv                          |   26 |\n",
       "| heart_left_ventricle_AS_model_B_sex_as_events_refined.csv                  |   24 |\n",
       "| stomach_AS_model_B_sex_as_events_refined.csv                               |   24 |\n",
       "| cells_ebv_transformed_lymphocytes_AS_model_B_sex_as_events_refined.csv     |   23 |\n",
       "| artery_coronary_AS_model_B_sex_as_events_refined.csv                       |   21 |\n",
       "| colon_transverAS_model_B_sex_as_events_refined.csv                         |   17 |\n",
       "| whole_blood_AS_model_B_sex_as_events_refined.csv                           |   17 |\n",
       "| brain_caudate_basal_ganglia_AS_model_B_sex_as_events_refined.csv           |   16 |\n",
       "| small_intestine_terminal_ileum_AS_model_B_sex_as_events_refined.csv        |   16 |\n",
       "| brain_spinal_cord_cervical_c_1_AS_model_B_sex_as_events_refined.csv        |   15 |\n",
       "| brain_hypothalamus_AS_model_B_sex_as_events_refined.csv                    |   13 |\n",
       "| brain_cerebellar_hemisphere_AS_model_B_sex_as_events_refined.csv           |   12 |\n",
       "| brain_putamen_basal_ganglia_AS_model_B_sex_as_events_refined.csv           |   12 |\n",
       "| brain_frontal_cortex_ba_9_AS_model_B_sex_as_events_refined.csv             |   11 |\n",
       "| colon_sigmoid_AS_model_B_sex_as_events_refined.csv                         |   10 |\n",
       "\n"
      ],
      "text/plain": [
       "   Tissue                                                                    \n",
       "1  breast_mammary_tissue_AS_model_B_sex_as_events_refined.csv                \n",
       "2  brain_nucleus_accumbens_basal_ganglia_AS_model_B_sex_as_events_refined.csv\n",
       "3  esophagus_muscularis_AS_model_B_sex_as_events_refined.csv                 \n",
       "4  artery_aorta_AS_model_B_sex_as_events_refined.csv                         \n",
       "5  thyroid_AS_model_B_sex_as_events_refined.csv                              \n",
       "6  cells_cultured_fibroblasts_AS_model_B_sex_as_events_refined.csv           \n",
       "7  muscle_skeletal_AS_model_B_sex_as_events_refined.csv                      \n",
       "8  adiposubcutaneous_AS_model_B_sex_as_events_refined.csv                    \n",
       "9  pituitary_AS_model_B_sex_as_events_refined.csv                            \n",
       "10 skin_sun_exposed_lower_leg_AS_model_B_sex_as_events_refined.csv           \n",
       "11 adipovisceral_omentum_AS_model_B_sex_as_events_refined.csv                \n",
       "12 spleen_AS_model_B_sex_as_events_refined.csv                               \n",
       "13 artery_tibial_AS_model_B_sex_as_events_refined.csv                        \n",
       "14 adrenal_gland_AS_model_B_sex_as_events_refined.csv                        \n",
       "15 liver_AS_model_B_sex_as_events_refined.csv                                \n",
       "16 brain_hippocampus_AS_model_B_sex_as_events_refined.csv                    \n",
       "17 brain_cerebellum_AS_model_B_sex_as_events_refined.csv                     \n",
       "18 esophagus_mucosa_AS_model_B_sex_as_events_refined.csv                     \n",
       "19 skin_not_sun_exposed_suprapubic_AS_model_B_sex_as_events_refined.csv      \n",
       "20 lung_AS_model_B_sex_as_events_refined.csv                                 \n",
       "21 pancreas_AS_model_B_sex_as_events_refined.csv                             \n",
       "22 esophagus_gastroesophageal_junction_AS_model_B_sex_as_events_refined.csv  \n",
       "23 heart_atrial_appendage_AS_model_B_sex_as_events_refined.csv               \n",
       "24 brain_cortex_AS_model_B_sex_as_events_refined.csv                         \n",
       "25 nerve_tibial_AS_model_B_sex_as_events_refined.csv                         \n",
       "26 heart_left_ventricle_AS_model_B_sex_as_events_refined.csv                 \n",
       "27 stomach_AS_model_B_sex_as_events_refined.csv                              \n",
       "28 cells_ebv_transformed_lymphocytes_AS_model_B_sex_as_events_refined.csv    \n",
       "29 artery_coronary_AS_model_B_sex_as_events_refined.csv                      \n",
       "30 colon_transverAS_model_B_sex_as_events_refined.csv                        \n",
       "31 whole_blood_AS_model_B_sex_as_events_refined.csv                          \n",
       "32 brain_caudate_basal_ganglia_AS_model_B_sex_as_events_refined.csv          \n",
       "33 small_intestine_terminal_ileum_AS_model_B_sex_as_events_refined.csv       \n",
       "34 brain_spinal_cord_cervical_c_1_AS_model_B_sex_as_events_refined.csv       \n",
       "35 brain_hypothalamus_AS_model_B_sex_as_events_refined.csv                   \n",
       "36 brain_cerebellar_hemisphere_AS_model_B_sex_as_events_refined.csv          \n",
       "37 brain_putamen_basal_ganglia_AS_model_B_sex_as_events_refined.csv          \n",
       "38 brain_frontal_cortex_ba_9_AS_model_B_sex_as_events_refined.csv            \n",
       "39 colon_sigmoid_AS_model_B_sex_as_events_refined.csv                        \n",
       "   n   \n",
       "1  4361\n",
       "2   335\n",
       "3   261\n",
       "4   139\n",
       "5   104\n",
       "6    97\n",
       "7    80\n",
       "8    78\n",
       "9    65\n",
       "10   64\n",
       "11   58\n",
       "12   58\n",
       "13   49\n",
       "14   46\n",
       "15   37\n",
       "16   36\n",
       "17   35\n",
       "18   33\n",
       "19   33\n",
       "20   31\n",
       "21   31\n",
       "22   29\n",
       "23   27\n",
       "24   26\n",
       "25   26\n",
       "26   24\n",
       "27   24\n",
       "28   23\n",
       "29   21\n",
       "30   17\n",
       "31   17\n",
       "32   16\n",
       "33   16\n",
       "34   15\n",
       "35   13\n",
       "36   12\n",
       "37   12\n",
       "38   11\n",
       "39   10"
      ]
     },
     "metadata": {},
     "output_type": "display_data"
    }
   ],
   "source": [
    "res4 <- gene_as %>% \n",
    "       group_by(Tissue) %>% \n",
    "       count(Tissue) %>% \n",
    "       arrange(desc(n)) %>% \n",
    "       as.data.frame()\n",
    "res4$Tissue <- factor(res4$Tissue, levels = res4$Tissue)\n",
    "length(res4$Tissue)\n",
    "res4\n",
    "write.table(res4, file = \"../data/Total_AS_by_tissue.tsv\", sep = \"\\t\", row.names = F)"
   ]
  },
  {
   "cell_type": "markdown",
   "metadata": {},
   "source": [
    "###  3.6 Significant Count by splicing type \n",
    "We define **significant** to be FC > 1.5 and pVal < 0.05\n",
    "\n",
    "Our starting values were the significant events, all meeting the criteria FC > 1.5 and pVal < 0.05\n"
   ]
  },
  {
   "cell_type": "code",
   "execution_count": 26,
   "metadata": {},
   "outputs": [
    {
     "data": {
      "text/html": [
       "<table>\n",
       "<caption>A data.frame: 5 × 2</caption>\n",
       "<thead>\n",
       "\t<tr><th></th><th scope=col>ASE</th><th scope=col>n</th></tr>\n",
       "\t<tr><th></th><th scope=col>&lt;fct&gt;</th><th scope=col>&lt;int&gt;</th></tr>\n",
       "</thead>\n",
       "<tbody>\n",
       "\t<tr><th scope=row>1</th><td>SE  </td><td>4675</td></tr>\n",
       "\t<tr><th scope=row>2</th><td>A3SS</td><td> 675</td></tr>\n",
       "\t<tr><th scope=row>3</th><td>RI  </td><td> 418</td></tr>\n",
       "\t<tr><th scope=row>4</th><td>A5SS</td><td> 409</td></tr>\n",
       "\t<tr><th scope=row>5</th><td>MXE </td><td> 193</td></tr>\n",
       "</tbody>\n",
       "</table>\n"
      ],
      "text/latex": [
       "A data.frame: 5 × 2\n",
       "\\begin{tabular}{r|ll}\n",
       "  & ASE & n\\\\\n",
       "  & <fct> & <int>\\\\\n",
       "\\hline\n",
       "\t1 & SE   & 4675\\\\\n",
       "\t2 & A3SS &  675\\\\\n",
       "\t3 & RI   &  418\\\\\n",
       "\t4 & A5SS &  409\\\\\n",
       "\t5 & MXE  &  193\\\\\n",
       "\\end{tabular}\n"
      ],
      "text/markdown": [
       "\n",
       "A data.frame: 5 × 2\n",
       "\n",
       "| <!--/--> | ASE &lt;fct&gt; | n &lt;int&gt; |\n",
       "|---|---|---|\n",
       "| 1 | SE   | 4675 |\n",
       "| 2 | A3SS |  675 |\n",
       "| 3 | RI   |  418 |\n",
       "| 4 | A5SS |  409 |\n",
       "| 5 | MXE  |  193 |\n",
       "\n"
      ],
      "text/plain": [
       "  ASE  n   \n",
       "1 SE   4675\n",
       "2 A3SS  675\n",
       "3 RI    418\n",
       "4 A5SS  409\n",
       "5 MXE   193"
      ]
     },
     "metadata": {},
     "output_type": "display_data"
    }
   ],
   "source": [
    "res5 <- gene_as %>% group_by(ASE) %>% count(ASE) %>% arrange(desc(n)) %>% as.data.frame()\n",
    "res5$ASE <- factor(res5$ASE, levels = res5$ASE)\n",
    "head(res5)\n",
    "write.table(res5, file= \"../data/Total_AS_by_splicingtype.tsv\")"
   ]
  },
  {
   "cell_type": "markdown",
   "metadata": {},
   "source": [
    "###  3.7 Significant Count by splicing type (significant == FC > 1.5 and pVal < 0.05)"
   ]
  },
  {
   "cell_type": "code",
   "execution_count": 27,
   "metadata": {
    "lines_to_next_cell": 0
   },
   "outputs": [
    {
     "data": {
      "text/plain": [
       "A3SS_keep\n",
       "FALSE  TRUE \n",
       " 5695   675 "
      ]
     },
     "metadata": {},
     "output_type": "display_data"
    },
    {
     "data": {
      "text/plain": [
       "A5SS_keep\n",
       "FALSE  TRUE \n",
       " 5961   409 "
      ]
     },
     "metadata": {},
     "output_type": "display_data"
    },
    {
     "data": {
      "text/plain": [
       "MXE_keep\n",
       "FALSE  TRUE \n",
       " 6177   193 "
      ]
     },
     "metadata": {},
     "output_type": "display_data"
    },
    {
     "data": {
      "text/plain": [
       "SE_keep\n",
       "FALSE  TRUE \n",
       " 1695  4675 "
      ]
     },
     "metadata": {},
     "output_type": "display_data"
    },
    {
     "data": {
      "text/plain": [
       "RI_keep\n",
       "FALSE  TRUE \n",
       " 5952   418 "
      ]
     },
     "metadata": {},
     "output_type": "display_data"
    },
    {
     "data": {
      "text/html": [
       "<style>\n",
       ".list-inline {list-style: none; margin:0; padding: 0}\n",
       ".list-inline>li {display: inline-block}\n",
       ".list-inline>li:not(:last-child)::after {content: \"\\00b7\"; padding: 0 .5ex}\n",
       "</style>\n",
       "<ol class=list-inline><li>675</li><li>6</li></ol>\n"
      ],
      "text/latex": [
       "\\begin{enumerate*}\n",
       "\\item 675\n",
       "\\item 6\n",
       "\\end{enumerate*}\n"
      ],
      "text/markdown": [
       "1. 675\n",
       "2. 6\n",
       "\n",
       "\n"
      ],
      "text/plain": [
       "[1] 675   6"
      ]
     },
     "metadata": {},
     "output_type": "display_data"
    },
    {
     "data": {
      "text/html": [
       "<style>\n",
       ".list-inline {list-style: none; margin:0; padding: 0}\n",
       ".list-inline>li {display: inline-block}\n",
       ".list-inline>li:not(:last-child)::after {content: \"\\00b7\"; padding: 0 .5ex}\n",
       "</style>\n",
       "<ol class=list-inline><li>409</li><li>6</li></ol>\n"
      ],
      "text/latex": [
       "\\begin{enumerate*}\n",
       "\\item 409\n",
       "\\item 6\n",
       "\\end{enumerate*}\n"
      ],
      "text/markdown": [
       "1. 409\n",
       "2. 6\n",
       "\n",
       "\n"
      ],
      "text/plain": [
       "[1] 409   6"
      ]
     },
     "metadata": {},
     "output_type": "display_data"
    },
    {
     "data": {
      "text/html": [
       "<style>\n",
       ".list-inline {list-style: none; margin:0; padding: 0}\n",
       ".list-inline>li {display: inline-block}\n",
       ".list-inline>li:not(:last-child)::after {content: \"\\00b7\"; padding: 0 .5ex}\n",
       "</style>\n",
       "<ol class=list-inline><li>193</li><li>6</li></ol>\n"
      ],
      "text/latex": [
       "\\begin{enumerate*}\n",
       "\\item 193\n",
       "\\item 6\n",
       "\\end{enumerate*}\n"
      ],
      "text/markdown": [
       "1. 193\n",
       "2. 6\n",
       "\n",
       "\n"
      ],
      "text/plain": [
       "[1] 193   6"
      ]
     },
     "metadata": {},
     "output_type": "display_data"
    },
    {
     "data": {
      "text/html": [
       "<style>\n",
       ".list-inline {list-style: none; margin:0; padding: 0}\n",
       ".list-inline>li {display: inline-block}\n",
       ".list-inline>li:not(:last-child)::after {content: \"\\00b7\"; padding: 0 .5ex}\n",
       "</style>\n",
       "<ol class=list-inline><li>4675</li><li>6</li></ol>\n"
      ],
      "text/latex": [
       "\\begin{enumerate*}\n",
       "\\item 4675\n",
       "\\item 6\n",
       "\\end{enumerate*}\n"
      ],
      "text/markdown": [
       "1. 4675\n",
       "2. 6\n",
       "\n",
       "\n"
      ],
      "text/plain": [
       "[1] 4675    6"
      ]
     },
     "metadata": {},
     "output_type": "display_data"
    },
    {
     "data": {
      "text/html": [
       "<style>\n",
       ".list-inline {list-style: none; margin:0; padding: 0}\n",
       ".list-inline>li {display: inline-block}\n",
       ".list-inline>li:not(:last-child)::after {content: \"\\00b7\"; padding: 0 .5ex}\n",
       "</style>\n",
       "<ol class=list-inline><li>418</li><li>6</li></ol>\n"
      ],
      "text/latex": [
       "\\begin{enumerate*}\n",
       "\\item 418\n",
       "\\item 6\n",
       "\\end{enumerate*}\n"
      ],
      "text/markdown": [
       "1. 418\n",
       "2. 6\n",
       "\n",
       "\n"
      ],
      "text/plain": [
       "[1] 418   6"
      ]
     },
     "metadata": {},
     "output_type": "display_data"
    }
   ],
   "source": [
    "A3SS_keep <- as.character(gene_as$ASE) %in% \"A3SS\"\n",
    "table(A3SS_keep)\n",
    "A3SS.gene_as <- data.frame(gene_as[A3SS_keep == TRUE,])\n",
    "\n",
    "A5SS_keep <- as.character(gene_as$ASE) %in% \"A5SS\"\n",
    "table(A5SS_keep)\n",
    "A5SS.gene_as <- data.frame(gene_as[A5SS_keep == TRUE,])\n",
    "\n",
    "MXE_keep  <- as.character(gene_as$ASE) %in% \"MXE\"\n",
    "table(MXE_keep)\n",
    "MXE.gene_as <- data.frame(gene_as[MXE_keep == TRUE,])\n",
    "\n",
    "SE_keep   <- as.character(gene_as$ASE) %in% \"SE\"\n",
    "table(SE_keep)\n",
    "SE.gene_as <- data.frame(gene_as[SE_keep == TRUE,])\n",
    "\n",
    "RI_keep   <- as.character(gene_as$ASE) %in% \"RI\"\n",
    "table(RI_keep)\n",
    "RI.gene_as <- data.frame(gene_as[RI_keep == TRUE,])\n",
    "\n",
    "dim(A3SS.gene_as)\n",
    "dim(A5SS.gene_as)\n",
    "dim(MXE.gene_as)\n",
    "dim(SE.gene_as)\n",
    "dim(RI.gene_as)\n"
   ]
  },
  {
   "cell_type": "markdown",
   "metadata": {},
   "source": [
    "### 3.8 Siginficant spliced by Gene for each splicing factor"
   ]
  },
  {
   "cell_type": "code",
   "execution_count": 28,
   "metadata": {},
   "outputs": [
    {
     "name": "stderr",
     "output_type": "stream",
     "text": [
      "Significant spliced genes for A3SS\n",
      "450 \n",
      "\n"
     ]
    },
    {
     "data": {
      "text/html": [
       "<table>\n",
       "<caption>A data.frame: 6 × 2</caption>\n",
       "<thead>\n",
       "\t<tr><th></th><th scope=col>GeneSymbol</th><th scope=col>n</th></tr>\n",
       "\t<tr><th></th><th scope=col>&lt;fct&gt;</th><th scope=col>&lt;int&gt;</th></tr>\n",
       "</thead>\n",
       "<tbody>\n",
       "\t<tr><th scope=row>1</th><td>XIST     </td><td>71</td></tr>\n",
       "\t<tr><th scope=row>2</th><td>DDX3X    </td><td>21</td></tr>\n",
       "\t<tr><th scope=row>3</th><td>UCA1     </td><td>11</td></tr>\n",
       "\t<tr><th scope=row>4</th><td>HAND2-AS1</td><td> 7</td></tr>\n",
       "\t<tr><th scope=row>5</th><td>NDRG4    </td><td> 6</td></tr>\n",
       "\t<tr><th scope=row>6</th><td>STRA6    </td><td> 5</td></tr>\n",
       "</tbody>\n",
       "</table>\n"
      ],
      "text/latex": [
       "A data.frame: 6 × 2\n",
       "\\begin{tabular}{r|ll}\n",
       "  & GeneSymbol & n\\\\\n",
       "  & <fct> & <int>\\\\\n",
       "\\hline\n",
       "\t1 & XIST      & 71\\\\\n",
       "\t2 & DDX3X     & 21\\\\\n",
       "\t3 & UCA1      & 11\\\\\n",
       "\t4 & HAND2-AS1 &  7\\\\\n",
       "\t5 & NDRG4     &  6\\\\\n",
       "\t6 & STRA6     &  5\\\\\n",
       "\\end{tabular}\n"
      ],
      "text/markdown": [
       "\n",
       "A data.frame: 6 × 2\n",
       "\n",
       "| <!--/--> | GeneSymbol &lt;fct&gt; | n &lt;int&gt; |\n",
       "|---|---|---|\n",
       "| 1 | XIST      | 71 |\n",
       "| 2 | DDX3X     | 21 |\n",
       "| 3 | UCA1      | 11 |\n",
       "| 4 | HAND2-AS1 |  7 |\n",
       "| 5 | NDRG4     |  6 |\n",
       "| 6 | STRA6     |  5 |\n",
       "\n"
      ],
      "text/plain": [
       "  GeneSymbol n \n",
       "1 XIST       71\n",
       "2 DDX3X      21\n",
       "3 UCA1       11\n",
       "4 HAND2-AS1   7\n",
       "5 NDRG4       6\n",
       "6 STRA6       5"
      ]
     },
     "metadata": {},
     "output_type": "display_data"
    },
    {
     "name": "stderr",
     "output_type": "stream",
     "text": [
      "Significant spliced genes for A5SS\n",
      "325 \n",
      "\n"
     ]
    },
    {
     "data": {
      "text/html": [
       "<table>\n",
       "<caption>A data.frame: 6 × 2</caption>\n",
       "<thead>\n",
       "\t<tr><th></th><th scope=col>GeneSymbol</th><th scope=col>n</th></tr>\n",
       "\t<tr><th></th><th scope=col>&lt;fct&gt;</th><th scope=col>&lt;int&gt;</th></tr>\n",
       "</thead>\n",
       "<tbody>\n",
       "\t<tr><th scope=row>1</th><td>DDX3X    </td><td>22</td></tr>\n",
       "\t<tr><th scope=row>2</th><td>PUDP     </td><td>12</td></tr>\n",
       "\t<tr><th scope=row>3</th><td>MYB      </td><td> 6</td></tr>\n",
       "\t<tr><th scope=row>4</th><td>LINC01198</td><td> 4</td></tr>\n",
       "\t<tr><th scope=row>5</th><td>FRMD5    </td><td> 4</td></tr>\n",
       "\t<tr><th scope=row>6</th><td>WDR31    </td><td> 4</td></tr>\n",
       "</tbody>\n",
       "</table>\n"
      ],
      "text/latex": [
       "A data.frame: 6 × 2\n",
       "\\begin{tabular}{r|ll}\n",
       "  & GeneSymbol & n\\\\\n",
       "  & <fct> & <int>\\\\\n",
       "\\hline\n",
       "\t1 & DDX3X     & 22\\\\\n",
       "\t2 & PUDP      & 12\\\\\n",
       "\t3 & MYB       &  6\\\\\n",
       "\t4 & LINC01198 &  4\\\\\n",
       "\t5 & FRMD5     &  4\\\\\n",
       "\t6 & WDR31     &  4\\\\\n",
       "\\end{tabular}\n"
      ],
      "text/markdown": [
       "\n",
       "A data.frame: 6 × 2\n",
       "\n",
       "| <!--/--> | GeneSymbol &lt;fct&gt; | n &lt;int&gt; |\n",
       "|---|---|---|\n",
       "| 1 | DDX3X     | 22 |\n",
       "| 2 | PUDP      | 12 |\n",
       "| 3 | MYB       |  6 |\n",
       "| 4 | LINC01198 |  4 |\n",
       "| 5 | FRMD5     |  4 |\n",
       "| 6 | WDR31     |  4 |\n",
       "\n"
      ],
      "text/plain": [
       "  GeneSymbol n \n",
       "1 DDX3X      22\n",
       "2 PUDP       12\n",
       "3 MYB         6\n",
       "4 LINC01198   4\n",
       "5 FRMD5       4\n",
       "6 WDR31       4"
      ]
     },
     "metadata": {},
     "output_type": "display_data"
    },
    {
     "name": "stderr",
     "output_type": "stream",
     "text": [
      "Significant spliced genes for MXE\n",
      "121 \n",
      "\n"
     ]
    },
    {
     "data": {
      "text/html": [
       "<table>\n",
       "<caption>A data.frame: 6 × 2</caption>\n",
       "<thead>\n",
       "\t<tr><th></th><th scope=col>GeneSymbol</th><th scope=col>n</th></tr>\n",
       "\t<tr><th></th><th scope=col>&lt;fct&gt;</th><th scope=col>&lt;int&gt;</th></tr>\n",
       "</thead>\n",
       "<tbody>\n",
       "\t<tr><th scope=row>1</th><td>XIST   </td><td>21</td></tr>\n",
       "\t<tr><th scope=row>2</th><td>DDX3X  </td><td> 7</td></tr>\n",
       "\t<tr><th scope=row>3</th><td>SORBS2 </td><td> 5</td></tr>\n",
       "\t<tr><th scope=row>4</th><td>AMT    </td><td> 4</td></tr>\n",
       "\t<tr><th scope=row>5</th><td>ACSL6  </td><td> 4</td></tr>\n",
       "\t<tr><th scope=row>6</th><td>CACNA1D</td><td> 3</td></tr>\n",
       "</tbody>\n",
       "</table>\n"
      ],
      "text/latex": [
       "A data.frame: 6 × 2\n",
       "\\begin{tabular}{r|ll}\n",
       "  & GeneSymbol & n\\\\\n",
       "  & <fct> & <int>\\\\\n",
       "\\hline\n",
       "\t1 & XIST    & 21\\\\\n",
       "\t2 & DDX3X   &  7\\\\\n",
       "\t3 & SORBS2  &  5\\\\\n",
       "\t4 & AMT     &  4\\\\\n",
       "\t5 & ACSL6   &  4\\\\\n",
       "\t6 & CACNA1D &  3\\\\\n",
       "\\end{tabular}\n"
      ],
      "text/markdown": [
       "\n",
       "A data.frame: 6 × 2\n",
       "\n",
       "| <!--/--> | GeneSymbol &lt;fct&gt; | n &lt;int&gt; |\n",
       "|---|---|---|\n",
       "| 1 | XIST    | 21 |\n",
       "| 2 | DDX3X   |  7 |\n",
       "| 3 | SORBS2  |  5 |\n",
       "| 4 | AMT     |  4 |\n",
       "| 5 | ACSL6   |  4 |\n",
       "| 6 | CACNA1D |  3 |\n",
       "\n"
      ],
      "text/plain": [
       "  GeneSymbol n \n",
       "1 XIST       21\n",
       "2 DDX3X       7\n",
       "3 SORBS2      5\n",
       "4 AMT         4\n",
       "5 ACSL6       4\n",
       "6 CACNA1D     3"
      ]
     },
     "metadata": {},
     "output_type": "display_data"
    },
    {
     "name": "stderr",
     "output_type": "stream",
     "text": [
      "Significant spliced genes for RI\n",
      "327 \n",
      "\n"
     ]
    },
    {
     "data": {
      "text/html": [
       "<table>\n",
       "<caption>A data.frame: 6 × 2</caption>\n",
       "<thead>\n",
       "\t<tr><th></th><th scope=col>GeneSymbol</th><th scope=col>n</th></tr>\n",
       "\t<tr><th></th><th scope=col>&lt;fct&gt;</th><th scope=col>&lt;int&gt;</th></tr>\n",
       "</thead>\n",
       "<tbody>\n",
       "\t<tr><th scope=row>1</th><td>DDX3X </td><td>14</td></tr>\n",
       "\t<tr><th scope=row>2</th><td>NLRP2 </td><td> 4</td></tr>\n",
       "\t<tr><th scope=row>3</th><td>UCA1  </td><td> 4</td></tr>\n",
       "\t<tr><th scope=row>4</th><td>PLCXD1</td><td> 4</td></tr>\n",
       "\t<tr><th scope=row>5</th><td>CELSR2</td><td> 4</td></tr>\n",
       "\t<tr><th scope=row>6</th><td>MYH14 </td><td> 4</td></tr>\n",
       "</tbody>\n",
       "</table>\n"
      ],
      "text/latex": [
       "A data.frame: 6 × 2\n",
       "\\begin{tabular}{r|ll}\n",
       "  & GeneSymbol & n\\\\\n",
       "  & <fct> & <int>\\\\\n",
       "\\hline\n",
       "\t1 & DDX3X  & 14\\\\\n",
       "\t2 & NLRP2  &  4\\\\\n",
       "\t3 & UCA1   &  4\\\\\n",
       "\t4 & PLCXD1 &  4\\\\\n",
       "\t5 & CELSR2 &  4\\\\\n",
       "\t6 & MYH14  &  4\\\\\n",
       "\\end{tabular}\n"
      ],
      "text/markdown": [
       "\n",
       "A data.frame: 6 × 2\n",
       "\n",
       "| <!--/--> | GeneSymbol &lt;fct&gt; | n &lt;int&gt; |\n",
       "|---|---|---|\n",
       "| 1 | DDX3X  | 14 |\n",
       "| 2 | NLRP2  |  4 |\n",
       "| 3 | UCA1   |  4 |\n",
       "| 4 | PLCXD1 |  4 |\n",
       "| 5 | CELSR2 |  4 |\n",
       "| 6 | MYH14  |  4 |\n",
       "\n"
      ],
      "text/plain": [
       "  GeneSymbol n \n",
       "1 DDX3X      14\n",
       "2 NLRP2       4\n",
       "3 UCA1        4\n",
       "4 PLCXD1      4\n",
       "5 CELSR2      4\n",
       "6 MYH14       4"
      ]
     },
     "metadata": {},
     "output_type": "display_data"
    },
    {
     "name": "stderr",
     "output_type": "stream",
     "text": [
      "Significant spliced genes for SE\n",
      "2380 \n",
      "\n"
     ]
    },
    {
     "data": {
      "text/html": [
       "<table>\n",
       "<caption>A data.frame: 6 × 2</caption>\n",
       "<thead>\n",
       "\t<tr><th></th><th scope=col>GeneSymbol</th><th scope=col>n</th></tr>\n",
       "\t<tr><th></th><th scope=col>&lt;fct&gt;</th><th scope=col>&lt;int&gt;</th></tr>\n",
       "</thead>\n",
       "<tbody>\n",
       "\t<tr><th scope=row>1</th><td>XIST </td><td>243</td></tr>\n",
       "\t<tr><th scope=row>2</th><td>KDM5C</td><td> 47</td></tr>\n",
       "\t<tr><th scope=row>3</th><td>ZFX  </td><td> 47</td></tr>\n",
       "\t<tr><th scope=row>4</th><td>DDX3X</td><td> 32</td></tr>\n",
       "\t<tr><th scope=row>5</th><td>KDM6A</td><td> 24</td></tr>\n",
       "\t<tr><th scope=row>6</th><td>CES1 </td><td> 18</td></tr>\n",
       "</tbody>\n",
       "</table>\n"
      ],
      "text/latex": [
       "A data.frame: 6 × 2\n",
       "\\begin{tabular}{r|ll}\n",
       "  & GeneSymbol & n\\\\\n",
       "  & <fct> & <int>\\\\\n",
       "\\hline\n",
       "\t1 & XIST  & 243\\\\\n",
       "\t2 & KDM5C &  47\\\\\n",
       "\t3 & ZFX   &  47\\\\\n",
       "\t4 & DDX3X &  32\\\\\n",
       "\t5 & KDM6A &  24\\\\\n",
       "\t6 & CES1  &  18\\\\\n",
       "\\end{tabular}\n"
      ],
      "text/markdown": [
       "\n",
       "A data.frame: 6 × 2\n",
       "\n",
       "| <!--/--> | GeneSymbol &lt;fct&gt; | n &lt;int&gt; |\n",
       "|---|---|---|\n",
       "| 1 | XIST  | 243 |\n",
       "| 2 | KDM5C |  47 |\n",
       "| 3 | ZFX   |  47 |\n",
       "| 4 | DDX3X |  32 |\n",
       "| 5 | KDM6A |  24 |\n",
       "| 6 | CES1  |  18 |\n",
       "\n"
      ],
      "text/plain": [
       "  GeneSymbol n  \n",
       "1 XIST       243\n",
       "2 KDM5C       47\n",
       "3 ZFX         47\n",
       "4 DDX3X       32\n",
       "5 KDM6A       24\n",
       "6 CES1        18"
      ]
     },
     "metadata": {},
     "output_type": "display_data"
    }
   ],
   "source": [
    "A3SS.res <- A3SS.gene_as %>% group_by(GeneSymbol) %>% count(GeneSymbol) %>% arrange(desc(n)) %>% as.data.frame()\n",
    "A3SS.res$GeneSymbol <- factor(A3SS.res$GeneSymbol, levels = A3SS.res$GeneSymbol)\n",
    "message(\"Significant spliced genes for A3SS\\n\",\n",
    "        paste(length(A3SS.res$GeneSymbol)), collapse=\" \")\n",
    "head(A3SS.res)\n",
    "\n",
    "A5SS.res <- A5SS.gene_as %>% group_by(GeneSymbol) %>% count(GeneSymbol) %>% arrange(desc(n)) %>% as.data.frame()\n",
    "A5SS.res$GeneSymbol <- factor(A5SS.res$GeneSymbol, levels = A5SS.res$GeneSymbol)\n",
    "message(\"Significant spliced genes for A5SS\\n\",\n",
    "        paste(length(A5SS.res$GeneSymbol)), collapse=\" \")\n",
    "head(A5SS.res)\n",
    "\n",
    "MXE.res <- MXE.gene_as %>% group_by(GeneSymbol) %>% count(GeneSymbol) %>% arrange(desc(n)) %>% as.data.frame()\n",
    "MXE.res$GeneSymbol <- factor(MXE.res$GeneSymbol, levels = MXE.res$GeneSymbol)\n",
    "message(\"Significant spliced genes for MXE\\n\",\n",
    "        paste(length(MXE.res$GeneSymbol)), collapse=\" \")\n",
    "head(MXE.res)\n",
    "\n",
    "RI.res <- RI.gene_as %>% group_by(GeneSymbol) %>% count(GeneSymbol) %>% arrange(desc(n)) %>% as.data.frame()\n",
    "RI.res$GeneSymbol <- factor(RI.res$GeneSymbol, levels = RI.res$GeneSymbol)\n",
    "message(\"Significant spliced genes for RI\\n\",\n",
    "        paste(length(RI.res$GeneSymbol)), collapse=\" \")\n",
    "head(RI.res)\n",
    "\n",
    "SE.res <- SE.gene_as %>% group_by(GeneSymbol) %>% count(GeneSymbol) %>% arrange(desc(n)) %>% as.data.frame()\n",
    "SE.res$GeneSymbol <- factor(SE.res$GeneSymbol, levels = SE.res$GeneSymbol)\n",
    "message(\"Significant spliced genes for SE\\n\",\n",
    "        paste(length(SE.res$GeneSymbol)), collapse=\" \")\n",
    "head(SE.res)"
   ]
  },
  {
   "cell_type": "markdown",
   "metadata": {},
   "source": [
    "### 3.9 Count most frequent spliced genes"
   ]
  },
  {
   "cell_type": "code",
   "execution_count": 40,
   "metadata": {},
   "outputs": [
    {
     "data": {
      "text/html": [
       "2899"
      ],
      "text/latex": [
       "2899"
      ],
      "text/markdown": [
       "2899"
      ],
      "text/plain": [
       "[1] 2899"
      ]
     },
     "metadata": {},
     "output_type": "display_data"
    },
    {
     "data": {
      "text/html": [
       "<table>\n",
       "<caption>A data.frame: 6 × 3</caption>\n",
       "<thead>\n",
       "\t<tr><th></th><th scope=col>GeneSymbol</th><th scope=col>n</th><th scope=col>Tissues</th></tr>\n",
       "\t<tr><th></th><th scope=col>&lt;fct&gt;</th><th scope=col>&lt;int&gt;</th><th scope=col>&lt;int&gt;</th></tr>\n",
       "</thead>\n",
       "<tbody>\n",
       "\t<tr><th scope=row>1</th><td>XIST </td><td>335</td><td>39</td></tr>\n",
       "\t<tr><th scope=row>2</th><td>DDX3X</td><td> 96</td><td>20</td></tr>\n",
       "\t<tr><th scope=row>3</th><td>KDM5C</td><td> 47</td><td>33</td></tr>\n",
       "\t<tr><th scope=row>4</th><td>ZFX  </td><td> 47</td><td>27</td></tr>\n",
       "\t<tr><th scope=row>5</th><td>KDM6A</td><td> 27</td><td>24</td></tr>\n",
       "\t<tr><th scope=row>6</th><td>UCA1 </td><td> 25</td><td> 1</td></tr>\n",
       "</tbody>\n",
       "</table>\n"
      ],
      "text/latex": [
       "A data.frame: 6 × 3\n",
       "\\begin{tabular}{r|lll}\n",
       "  & GeneSymbol & n & Tissues\\\\\n",
       "  & <fct> & <int> & <int>\\\\\n",
       "\\hline\n",
       "\t1 & XIST  & 335 & 39\\\\\n",
       "\t2 & DDX3X &  96 & 20\\\\\n",
       "\t3 & KDM5C &  47 & 33\\\\\n",
       "\t4 & ZFX   &  47 & 27\\\\\n",
       "\t5 & KDM6A &  27 & 24\\\\\n",
       "\t6 & UCA1  &  25 &  1\\\\\n",
       "\\end{tabular}\n"
      ],
      "text/markdown": [
       "\n",
       "A data.frame: 6 × 3\n",
       "\n",
       "| <!--/--> | GeneSymbol &lt;fct&gt; | n &lt;int&gt; | Tissues &lt;int&gt; |\n",
       "|---|---|---|---|\n",
       "| 1 | XIST  | 335 | 39 |\n",
       "| 2 | DDX3X |  96 | 20 |\n",
       "| 3 | KDM5C |  47 | 33 |\n",
       "| 4 | ZFX   |  47 | 27 |\n",
       "| 5 | KDM6A |  27 | 24 |\n",
       "| 6 | UCA1  |  25 |  1 |\n",
       "\n"
      ],
      "text/plain": [
       "  GeneSymbol n   Tissues\n",
       "1 XIST       335 39     \n",
       "2 DDX3X       96 20     \n",
       "3 KDM5C       47 33     \n",
       "4 ZFX         47 27     \n",
       "5 KDM6A       27 24     \n",
       "6 UCA1        25  1     "
      ]
     },
     "metadata": {},
     "output_type": "display_data"
    }
   ],
   "source": [
    "res <- gene_as %>% group_by(GeneSymbol) %>% count(GeneSymbol) %>% arrange(desc(n)) %>% as.data.frame()\n",
    "res$GeneSymbol <- factor(res$GeneSymbol, levels = res$GeneSymbol)\n",
    "length(res$GeneSymbol)\n",
    "res2 <- data %>% group_by(Tissue) %>% \n",
    "    summarise(Total = sum(Counts)) %>%\n",
    "    arrange(desc(Total)) %>%\n",
    "    as.data.frame()\n",
    "\n",
    "#Add number of tissues\n",
    "nTissues <- rep(NA, length(res))\n",
    "for (i in 1:nrow(res)) {\n",
    "  df_gene <- gene_as %>% filter(GeneSymbol == res$GeneSymbol[i])\n",
    "  nTissues[i] <- length(unique(df_gene$Tissue))\n",
    "}\n",
    "res$Tissues <- nTissues\n",
    "head(res)\n",
    "write.table(res, file = \"../data/genesWithCommonAS.tsv\", sep = \"\\t\", quote = F, row.names = F)"
   ]
  },
  {
   "cell_type": "markdown",
   "metadata": {},
   "source": [
    "### 3.10 Genes with more than 10 splicing events"
   ]
  },
  {
   "cell_type": "code",
   "execution_count": 30,
   "metadata": {},
   "outputs": [],
   "source": [
    "# Colors for uniformity\n",
    "# Let's use the following colors for uniformity\n",
    "darkblue <- \"#3c5488\"\n",
    "red <- \"#e64b35\"\n",
    "nearlyblack <- \"#040C04\"\n",
    "purple <- \"#790079\"\n",
    "orange = \"#ff9900\""
   ]
  },
  {
   "cell_type": "markdown",
   "metadata": {},
   "source": [
    "## Reduce the results to genes that have 5 or more tissues.\n",
    "Sort the data frame and remove \"n\", which is not needed."
   ]
  },
  {
   "cell_type": "code",
   "execution_count": 55,
   "metadata": {},
   "outputs": [
    {
     "data": {
      "text/html": [
       "<table>\n",
       "<caption>A data.frame: 14 × 2</caption>\n",
       "<thead>\n",
       "\t<tr><th></th><th scope=col>GeneSymbol</th><th scope=col>Tissues</th></tr>\n",
       "\t<tr><th></th><th scope=col>&lt;fct&gt;</th><th scope=col>&lt;int&gt;</th></tr>\n",
       "</thead>\n",
       "<tbody>\n",
       "\t<tr><th scope=row>1</th><td>XIST  </td><td>39</td></tr>\n",
       "\t<tr><th scope=row>3</th><td>KDM5C </td><td>33</td></tr>\n",
       "\t<tr><th scope=row>4</th><td>ZFX   </td><td>27</td></tr>\n",
       "\t<tr><th scope=row>5</th><td>KDM6A </td><td>24</td></tr>\n",
       "\t<tr><th scope=row>2</th><td>DDX3X </td><td>20</td></tr>\n",
       "\t<tr><th scope=row>15</th><td>PUDP  </td><td>13</td></tr>\n",
       "\t<tr><th scope=row>44</th><td>EIF1AX</td><td>10</td></tr>\n",
       "\t<tr><th scope=row>58</th><td>PNPLA4</td><td> 9</td></tr>\n",
       "\t<tr><th scope=row>12</th><td>CES1  </td><td> 8</td></tr>\n",
       "\t<tr><th scope=row>45</th><td>JPX   </td><td> 8</td></tr>\n",
       "\t<tr><th scope=row>8</th><td>NLRP2 </td><td> 6</td></tr>\n",
       "\t<tr><th scope=row>57</th><td>GYG2  </td><td> 6</td></tr>\n",
       "\t<tr><th scope=row>46</th><td>GLDC  </td><td> 5</td></tr>\n",
       "\t<tr><th scope=row>82</th><td>NOX5  </td><td> 5</td></tr>\n",
       "</tbody>\n",
       "</table>\n"
      ],
      "text/latex": [
       "A data.frame: 14 × 2\n",
       "\\begin{tabular}{r|ll}\n",
       "  & GeneSymbol & Tissues\\\\\n",
       "  & <fct> & <int>\\\\\n",
       "\\hline\n",
       "\t1 & XIST   & 39\\\\\n",
       "\t3 & KDM5C  & 33\\\\\n",
       "\t4 & ZFX    & 27\\\\\n",
       "\t5 & KDM6A  & 24\\\\\n",
       "\t2 & DDX3X  & 20\\\\\n",
       "\t15 & PUDP   & 13\\\\\n",
       "\t44 & EIF1AX & 10\\\\\n",
       "\t58 & PNPLA4 &  9\\\\\n",
       "\t12 & CES1   &  8\\\\\n",
       "\t45 & JPX    &  8\\\\\n",
       "\t8 & NLRP2  &  6\\\\\n",
       "\t57 & GYG2   &  6\\\\\n",
       "\t46 & GLDC   &  5\\\\\n",
       "\t82 & NOX5   &  5\\\\\n",
       "\\end{tabular}\n"
      ],
      "text/markdown": [
       "\n",
       "A data.frame: 14 × 2\n",
       "\n",
       "| <!--/--> | GeneSymbol &lt;fct&gt; | Tissues &lt;int&gt; |\n",
       "|---|---|---|\n",
       "| 1 | XIST   | 39 |\n",
       "| 3 | KDM5C  | 33 |\n",
       "| 4 | ZFX    | 27 |\n",
       "| 5 | KDM6A  | 24 |\n",
       "| 2 | DDX3X  | 20 |\n",
       "| 15 | PUDP   | 13 |\n",
       "| 44 | EIF1AX | 10 |\n",
       "| 58 | PNPLA4 |  9 |\n",
       "| 12 | CES1   |  8 |\n",
       "| 45 | JPX    |  8 |\n",
       "| 8 | NLRP2  |  6 |\n",
       "| 57 | GYG2   |  6 |\n",
       "| 46 | GLDC   |  5 |\n",
       "| 82 | NOX5   |  5 |\n",
       "\n"
      ],
      "text/plain": [
       "   GeneSymbol Tissues\n",
       "1  XIST       39     \n",
       "3  KDM5C      33     \n",
       "4  ZFX        27     \n",
       "5  KDM6A      24     \n",
       "2  DDX3X      20     \n",
       "15 PUDP       13     \n",
       "44 EIF1AX     10     \n",
       "58 PNPLA4      9     \n",
       "12 CES1        8     \n",
       "45 JPX         8     \n",
       "8  NLRP2       6     \n",
       "57 GYG2        6     \n",
       "46 GLDC        5     \n",
       "82 NOX5        5     "
      ]
     },
     "metadata": {},
     "output_type": "display_data"
    }
   ],
   "source": [
    "sorted_res <- res\n",
    "sorted_res$Tissues <- as.numeric(as.character(sorted_res$Tissues))\n",
    "sorted_res <- res[order(-res$Tissues),]\n",
    "sorted_res <- sorted_res[sorted_res$Tissues > 4, ]\n",
    "drops <- c(\"n\")\n",
    "sorted_res <- sorted_res[ , !(names(sorted_res) %in% drops)]\n",
    "sorted_res"
   ]
  },
  {
   "cell_type": "code",
   "execution_count": 85,
   "metadata": {},
   "outputs": [
    {
     "name": "stderr",
     "output_type": "stream",
     "text": [
      "Saving 6.67 x 6.67 in image\n",
      "\n",
      "Saved plot as ../pdf/AS_events_per_gene.pdf\n",
      "\n"
     ]
    },
    {
     "data": {
      "image/png": "[encoded data removed]",
      "text/plain": [
       "plot without title"
      ]
     },
     "metadata": {
      "image/png": {
       "height": 420,
       "width": 420
      },
      "text/plain": {
       "height": 420,
       "width": 420
      }
     },
     "output_type": "display_data"
    }
   ],
   "source": [
    "g <- ggplot(sorted_res, aes(x = reorder(GeneSymbol,-Tissues), y = Tissues)) +\n",
    "  geom_point(colour = darkblue, size = 5) +\n",
    "  theme_bw() +\n",
    "  theme(axis.text.x = element_text(size=24, angle = 270, hjust = 0.0, vjust = 0.5),\n",
    "        axis.text.y = element_text(size=24),\n",
    "        axis.title.x = element_blank(),\n",
    "        axis.title.y = element_text(face=\"plain\", colour=\"black\", size=22),\n",
    "        legend.title=element_blank(),\n",
    "        legend.position = \"none\" ) +\n",
    "  ylab(paste(\"Tissues\"))\n",
    "ggsave(\"../pdf/AS_events_per_gene.pdf\",g)\n",
    "message(\"Saved plot as ../pdf/AS_events_per_gene.pdf\")\n",
    "g"
   ]
  },
  {
   "cell_type": "markdown",
   "metadata": {},
   "source": [
    "### 3.11 Pie chart\n",
    "Show recurrent vs unique splicing events with a piechart."
   ]
  },
  {
   "cell_type": "markdown",
   "metadata": {},
   "source": [
    "Tissue specific 1 tissue\n",
    "Tissue group 2-5 tissues\n",
    "Recurrent > 5 tissues"
   ]
  },
  {
   "cell_type": "code",
   "execution_count": 67,
   "metadata": {},
   "outputs": [],
   "source": [
    "#Pie chart - Number of patients with 0, 1, >1 events\n",
    "counts <- c(res %>% filter(Tissues == 1) %>% count() %>% as.numeric(),\n",
    "            res %>% filter(Tissues > 1 & Tissues < 6) %>% count() %>% as.numeric(),\n",
    "            res %>% filter(Tissues > 5) %>% count() %>% as.numeric())"
   ]
  },
  {
   "cell_type": "code",
   "execution_count": 68,
   "metadata": {},
   "outputs": [],
   "source": [
    "piecolors <- c(darkblue,red,orange)"
   ]
  },
  {
   "cell_type": "markdown",
   "metadata": {},
   "source": [
    "Calculate the percentage for each category"
   ]
  },
  {
   "cell_type": "code",
   "execution_count": 69,
   "metadata": {
    "lines_to_next_cell": 2
   },
   "outputs": [],
   "source": [
    "counts_labels <- round(counts/sum(counts) * 100, 1)\n",
    "counts_labels <- paste(\"(\",counts_labels,\")\", \"%\", sep=\"\")\n",
    "counts_labels <- paste(counts, counts_labels,sep =\" \")"
   ]
  },
  {
   "cell_type": "code",
   "execution_count": 70,
   "metadata": {},
   "outputs": [
    {
     "data": {
      "text/html": [
       "<strong>png:</strong> 2"
      ],
      "text/latex": [
       "\\textbf{png:} 2"
      ],
      "text/markdown": [
       "**png:** 2"
      ],
      "text/plain": [
       "png \n",
       "  2 "
      ]
     },
     "metadata": {},
     "output_type": "display_data"
    },
    {
     "name": "stderr",
     "output_type": "stream",
     "text": [
      "Wrote file to ../pdf/tissue-piechart.pdf\n",
      "\n"
     ]
    },
    {
     "data": {
      "image/png": "[encoded data removed]",
      "text/plain": [
       "Plot with title “”"
      ]
     },
     "metadata": {
      "image/png": {
       "height": 420,
       "width": 420
      },
      "text/plain": {
       "height": 420,
       "width": 420
      }
     },
     "output_type": "display_data"
    }
   ],
   "source": [
    "pdf(\"../pdf/tissue-piechart.pdf\")\n",
    "pie(counts, main=\"\", col=piecolors, labels=counts_labels, cex=1.5)\n",
    "# Create a legend at the right   \n",
    "legend(-.425,0.6, c(\"1 tissue\",\"2-5 tissues\",\"> 5 tissues\"), cex=1.5, \n",
    "       fill=piecolors, bg=\"white\")\n",
    "dev.off()\n",
    "message(\"Wrote file to ../pdf/tissue-piechart.pdf\")\n",
    "pie(counts, main=\"\", col=piecolors, labels=counts_labels,\n",
    "    cex=1.5)\n",
    "# Create a legend at the right   \n",
    "legend(-.425,0.6, c(\"1 tissue\",\"2-5 tissues\",\"> 5 tissues\"), cex=1.5, \n",
    "       fill=piecolors, bg=\"white\")"
   ]
  },
  {
   "cell_type": "code",
   "execution_count": 87,
   "metadata": {},
   "outputs": [
    {
     "name": "stderr",
     "output_type": "stream",
     "text": [
      "Genes with DAS in 1 tissue \n",
      "\n"
     ]
    },
    {
     "data": {
      "text/html": [
       "<style>\n",
       ".list-inline {list-style: none; margin:0; padding: 0}\n",
       ".list-inline>li {display: inline-block}\n",
       ".list-inline>li:not(:last-child)::after {content: \"\\00b7\"; padding: 0 .5ex}\n",
       "</style>\n",
       "<ol class=list-inline><li>2578</li><li>309</li><li>12</li></ol>\n"
      ],
      "text/latex": [
       "\\begin{enumerate*}\n",
       "\\item 2578\n",
       "\\item 309\n",
       "\\item 12\n",
       "\\end{enumerate*}\n"
      ],
      "text/markdown": [
       "1. 2578\n",
       "2. 309\n",
       "3. 12\n",
       "\n",
       "\n"
      ],
      "text/plain": [
       "[1] 2578  309   12"
      ]
     },
     "metadata": {},
     "output_type": "display_data"
    }
   ],
   "source": [
    "message(\"Genes with DAS in 1 tissue \", counts[0])\n",
    "counts"
   ]
  },
  {
   "cell_type": "markdown",
   "metadata": {},
   "source": [
    "### 3.12 Count most frequent spliced chromosomes\n",
    "To get an indication of which chromosome has the most frequent slicing event (regardless of type)\n",
    "We create an index based upon the number of exons per chromosome.\n",
    "\n",
    "get the annotation file, at this writing, gencode.v30.annotation.gtf\n",
    "The information as to the number of exons within the chromosome may be found there"
   ]
  },
  {
   "cell_type": "code",
   "execution_count": 71,
   "metadata": {},
   "outputs": [
    {
     "name": "stderr",
     "output_type": "stream",
     "text": [
      "downloading gencode v30 annotation\n",
      "\n",
      "\n",
      "Done!\n",
      "\n",
      "\n",
      "Unzipping compressed file gencode.v30.annotation.gtf.gz..\n",
      "\n",
      "Warning message in system(\"gunzip ../data/gencode.v30.annotation.gtf.gz\", intern = TRUE):\n",
      "“running command 'gunzip ../data/gencode.v30.annotation.gtf.gz' had status 2”\n",
      "Done! gencode.v30.annotation.gtf can be found in ../data/\n",
      "\n"
     ]
    }
   ],
   "source": [
    "if (!(\"GTEx_Analysis_2017-06-05_v8_RNASeQCv1.1.9_gene_tpm.gct\" %in% list.files(\"../data/\"))) {\n",
    "    message(\"downloading gencode v30 annotation\\n\")\n",
    "    system(\"wget -O ../data/gencode.v30.annotation.gtf.gz ftp://ftp.ebi.ac.uk/pub/databases/gencode/Gencode_human/release_30/gencode.v30.annotation.gtf.gz\")\n",
    "    message(\"Done!\\n\")\n",
    "    message(\"Unzipping compressed file gencode.v30.annotation.gtf.gz..\")\n",
    "    system(\"gunzip ../data/gencode.v30.annotation.gtf.gz\", intern = TRUE)\n",
    "    message(\"Done! gencode.v30.annotation.gtf can be found in ../data/\")\n",
    "}\n",
    "gencode <- import(\"../data/gencode.v30.annotation.gtf\")"
   ]
  },
  {
   "cell_type": "code",
   "execution_count": 75,
   "metadata": {},
   "outputs": [
    {
     "name": "stdout",
     "output_type": "stream",
     "text": [
      "Observations: 23\n",
      "Variables: 4\n",
      "$ chr        \u001b[3m\u001b[90m<fct>\u001b[39m\u001b[23m chrX, chr22, chr19, chr4, chr1, chr11, chr16, chr3, chr17,…\n",
      "$ n          \u001b[3m\u001b[90m<int>\u001b[39m\u001b[23m 762, 168, 433, 290, 631, 388, 305, 381, 360, 215, 333, 248…\n",
      "$ ExonCounts \u001b[3m\u001b[90m<dbl>\u001b[39m\u001b[23m 40029, 28655, 74466, 50420, 118996, 75976, 61199, 81519, 7…\n",
      "$ Index      \u001b[3m\u001b[90m<dbl>\u001b[39m\u001b[23m 19.036199, 5.862851, 5.814734, 5.751686, 5.302699, 5.10687…\n"
     ]
    },
    {
     "name": "stderr",
     "output_type": "stream",
     "text": [
      "res_sorted has 23 chromosomes with data about events, exons, and the splicing index\n",
      "\n"
     ]
    }
   ],
   "source": [
    "exons <- gencode[ gencode$type == \"exon\", ]\n",
    "exons <- as.data.frame(exons)\n",
    "\n",
    "#Obtain chromosomes we have splicing information for (recall we did not use chr Y in our analysis)\n",
    "all_chr <- as.character(unique(gene_as$chr))\n",
    "chr_counts <- rep(0, length(all_chr))\n",
    "\n",
    "\n",
    "for (i in 1:length(all_chr)) {\n",
    "  chr_counts[i] <- nrow(exons[exons$seqnames == all_chr[i], ])\n",
    "}\n",
    "\n",
    "exon_counts <- data.frame(chr = all_chr, counts = chr_counts)\n",
    "\n",
    "# Count most frequent spliced chromosomes\n",
    "res <- gene_as %>% group_by(chr) %>% count(chr) %>% arrange(desc(n)) %>% as.data.frame()\n",
    "res$chr <- factor(res$chr, levels = res$chr)\n",
    "\n",
    "idx <- match(res$chr, exon_counts$chr)\n",
    "\n",
    "res$ExonCounts <- exon_counts$counts[idx]\n",
    "\n",
    "res$Index <- (res$n / res$ExonCounts) * 1000\n",
    "\n",
    "res_sorted <- res %>% arrange(desc(Index))\n",
    "res_sorted$chr <- factor(res_sorted$chr, levels = res_sorted$chr)\n",
    "glimpse(res_sorted)\n",
    "message(\"res_sorted has \", length(res_sorted$chr), \" chromosomes with data about events, exons, and the splicing index\")"
   ]
  },
  {
   "cell_type": "code",
   "execution_count": 84,
   "metadata": {},
   "outputs": [
    {
     "name": "stderr",
     "output_type": "stream",
     "text": [
      "Saving 6.67 x 6.67 in image\n",
      "\n",
      "Saved plot as ../pdf/splicingIndex.pdf\n",
      "\n"
     ]
    },
    {
     "data": {
      "image/png": "[encoded data removed]",
      "text/plain": [
       "plot without title"
      ]
     },
     "metadata": {
      "image/png": {
       "height": 420,
       "width": 420
      },
      "text/plain": {
       "height": 420,
       "width": 420
      }
     },
     "output_type": "display_data"
    }
   ],
   "source": [
    "g2 <- ggplot(res_sorted, aes(x = chr, y = Index, size = n)) +\n",
    "  geom_point(color = darkblue) +\n",
    "  theme_bw() +\n",
    "  theme(axis.text.x = element_text(size=16, angle = 270, hjust = 0.0, vjust = 0.5),\n",
    "        axis.text.y = element_text(size=32),\n",
    "        axis.title.x = element_blank(),\n",
    "        axis.title.y = element_text(face=\"plain\", colour=\"black\", \n",
    "                                    size=18),\n",
    "        legend.title=element_text(face=\"plain\", colour=\"black\", \n",
    "                                    size=18),\n",
    "        legend.text = element_text(face=\"plain\", colour=\"black\", \n",
    "                                   size=32),\n",
    "        legend.position = c(0.8, 0.7)) +\n",
    "  scale_fill_viridis_c(aesthetics = c(\"colour\", \"fill\"),\n",
    "                       option = \"plasma\",\n",
    "                       limits = c(1, 650)) +\n",
    "  ylab(paste(\"Normalized number of sex-biased ASE\")) +\n",
    "  guides(size = guide_legend(title = \"Unnormalized\\nnumber of\\nsex-biased\\nASE per\\nchromosome\"))\n",
    "ggsave(\"../pdf/splicingIndex.pdf\",g2)\n",
    "message(\"Saved plot as ../pdf/splicingIndex.pdf\")\n",
    "g2"
   ]
  },
  {
   "cell_type": "code",
   "execution_count": null,
   "metadata": {},
   "outputs": [],
   "source": [
    "write.table(data,       file = \"../data/Significant_AS_events.tsv\", sep = \"\\t\", row.names = F, quote = F)\n",
    "write.table(res_sorted, file = \"../data/SplicingIndex_chr.tsv\", sep = \"\\t\", quote = F, row.names = F)"
   ]
  },
  {
   "cell_type": "markdown",
   "metadata": {},
   "source": [
    "### Appendix - Metadata\n",
    "\n",
    "For replicability and reproducibility purposes, we also print the following metadata:\n",
    "\n",
    "1. Checksums of **'artefacts'**, files generated during the analysis and stored in the folder directory **`data`**\n",
    "2. List of environment metadata, dependencies, versions of libraries using `utils::sessionInfo()` and [`devtools::session_info()`](https://devtools.r-lib.org/reference/session_info.html)"
   ]
  },
  {
   "cell_type": "markdown",
   "metadata": {},
   "source": [
    "### Appendix 1. Checksums with the sha256 algorithm"
   ]
  },
  {
   "cell_type": "code",
   "execution_count": null,
   "metadata": {},
   "outputs": [],
   "source": [
    "rm (notebookid)\n",
    "notebookid   = \"countGenesAndEvents\"\n",
    "notebookid\n",
    "\n",
    "message(\"Generating sha256 checksums of the file `../data/Total_AS_by_tissue.tsv` directory .. \")\n",
    "system(paste0(\"cd ../data && find . -name SplicingIndex_chr.tsv -exec sha256sum {} \\\\;  >  ../metadata/\", notebookid, \"_sha256sums.txt\"), intern = TRUE)\n",
    "message(\"Done!\\n\")\n",
    "\n",
    "message(\"Generating sha256 checksums of the file `../data/Significant_events.tsv` directory .. \")\n",
    "system(paste0(\"cd ../data && find . -name SplicingIndex_chr.tsv -exec sha256sum {} \\\\;  >  ../metadata/\", notebookid, \"_sha256sums.txt\"), intern = TRUE)\n",
    "message(\"Done!\\n\")\n",
    "\n",
    "message(\"Generating sha256 checksums of the file `../data/Significant_events.tsv` directory .. \")\n",
    "system(paste0(\"cd ../data && find . -name SplicingIndex_chr.tsv -exec sha256sum {} \\\\;  >  ../metadata/\", notebookid, \"_sha256sums.txt\"), intern = TRUE)\n",
    "message(\"Done!\\n\")\n",
    "\n",
    "\n",
    "paste0(\"../metadata/\", notebookid, \"_sha256sums.txt\")\n",
    "\n",
    "data.table::fread(paste0(\"../metadata/\", notebookid, \"_sha256sums.txt\"), header = FALSE, col.names = c(\"sha256sum\", \"file\"))"
   ]
  },
  {
   "cell_type": "markdown",
   "metadata": {},
   "source": [
    "### Appendix 2. Libraries metadata"
   ]
  },
  {
   "cell_type": "code",
   "execution_count": null,
   "metadata": {},
   "outputs": [],
   "source": [
    "dev_session_info   <- devtools::session_info()\n",
    "utils_session_info <- utils::sessionInfo()\n",
    "\n",
    "message(\"Saving `devtools::session_info()` objects in ../metadata/devtools_session_info.rds  ..\")\n",
    "saveRDS(dev_session_info, file = paste0(\"../metadata/\", notebookid, \"_devtools_session_info.rds\"))\n",
    "message(\"Done!\\n\")\n",
    "\n",
    "message(\"Saving `utils::sessionInfo()` objects in ../metadata/utils_session_info.rds  ..\")\n",
    "saveRDS(utils_session_info, file = paste0(\"../metadata/\", notebookid ,\"_utils_info.rds\"))\n",
    "message(\"Done!\\n\")\n",
    "\n",
    "dev_session_info$platform\n",
    "dev_session_info$packages[dev_session_info$packages$attached==TRUE, ]"
   ]
  }
 ],
 "metadata": {
  "jupytext": {
   "cell_metadata_filter": "-all",
   "main_language": "R",
   "notebook_metadata_filter": "-all"
  },
  "kernelspec": {
   "display_name": "R",
   "language": "R",
   "name": "ir"
  },
  "language_info": {
   "codemirror_mode": "r",
   "file_extension": ".r",
   "mimetype": "text/x-r-source",
   "name": "R",
   "pygments_lexer": "r",
   "version": "3.6.2"
  }
 },
 "nbformat": 4,
 "nbformat_minor": 4
}
