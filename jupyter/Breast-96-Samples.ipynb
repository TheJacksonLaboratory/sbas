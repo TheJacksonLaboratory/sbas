{
 "cells": [
  {
   "cell_type": "markdown",
   "metadata": {},
   "source": [
    "# Breast-96-Samples.R as a Notebook \n",
    "\n",
    "rMATS 3.2.5 was run on controlled access RNASeq files retrieved experiments stored in the Sequence Read Archive with controlled access managed by dbGaP.   The data were generated under the Gene Tissue Expression."
   ]
  },
  {
   "cell_type": "markdown",
   "metadata": {},
   "source": [
    "## **NOTE**:\n",
    "\n",
    "We assume that you have cloned the analysis repository and have `cd` into the parent directory. Before starting with the analysis make sure you have first completed the dependencies set up by following the instructions described in the **`dependencies/README.md`** document. All paths defined in this Notebook are relative to the parent directory (repository). Please close this Notebook and start again by following the above guidelines if you have not completed the aforementioned steps.\n",
    "\n",
    "## rMATS-final-merged\n",
    "the rmats-nf NextFlow was executed and the results released here:"
   ]
  },
  {
   "cell_type": "markdown",
   "metadata": {},
   "source": [
    "## Loading dependencies"
   ]
  },
  {
   "cell_type": "code",
   "execution_count": 46,
   "metadata": {},
   "outputs": [],
   "source": [
    "library(limma)\n",
    "library(multtest)\n",
    "library(Biobase)\n",
    "library(edgeR)"
   ]
  },
  {
   "cell_type": "code",
   "execution_count": 47,
   "metadata": {},
   "outputs": [
    {
     "name": "stderr",
     "output_type": "stream",
     "text": [
      "Updating HTML index of packages in '.Library'\n",
      "Making 'packages.html' ... done\n"
     ]
    }
   ],
   "source": [
    "install.packages('R.utils')\n",
    "library(R.utils)"
   ]
  },
  {
   "cell_type": "code",
   "execution_count": 48,
   "metadata": {},
   "outputs": [
    {
     "data": {
      "text/html": [
       "'/mnt/shared/gcp-user/session_data/sbas/jupyter'"
      ],
      "text/latex": [
       "'/mnt/shared/gcp-user/session\\_data/sbas/jupyter'"
      ],
      "text/markdown": [
       "'/mnt/shared/gcp-user/session_data/sbas/jupyter'"
      ],
      "text/plain": [
       "[1] \"/mnt/shared/gcp-user/session_data/sbas/jupyter\""
      ]
     },
     "metadata": {},
     "output_type": "display_data"
    }
   ],
   "source": [
    "# jupyter notebooks are in one subdirectory -- data directories are up and over in another - but verify.\n",
    "getwd()"
   ]
  },
  {
   "cell_type": "code",
   "execution_count": 49,
   "metadata": {},
   "outputs": [
    {
     "data": {
      "text/html": [
       "<table>\n",
       "<caption>A data.table: 6 × 8674</caption>\n",
       "<thead>\n",
       "\t<tr><th scope=col>ID</th><th scope=col>SRR1068788</th><th scope=col>SRR1068808</th><th scope=col>SRR1068832</th><th scope=col>SRR1068855</th><th scope=col>SRR1068880</th><th scope=col>SRR1068929</th><th scope=col>SRR1068953</th><th scope=col>SRR1068977</th><th scope=col>SRR1068999</th><th scope=col>⋯</th><th scope=col>SRR821573</th><th scope=col>SRR821581</th><th scope=col>SRR821602</th><th scope=col>SRR821626</th><th scope=col>SRR821653</th><th scope=col>SRR821690</th><th scope=col>SRR821715</th><th scope=col>SRR823967</th><th scope=col>SRR823991</th><th scope=col>SRR824015</th></tr>\n",
       "\t<tr><th scope=col>&lt;int&gt;</th><th scope=col>&lt;int&gt;</th><th scope=col>&lt;int&gt;</th><th scope=col>&lt;int&gt;</th><th scope=col>&lt;int&gt;</th><th scope=col>&lt;int&gt;</th><th scope=col>&lt;int&gt;</th><th scope=col>&lt;int&gt;</th><th scope=col>&lt;int&gt;</th><th scope=col>&lt;int&gt;</th><th scope=col>⋯</th><th scope=col>&lt;int&gt;</th><th scope=col>&lt;int&gt;</th><th scope=col>&lt;int&gt;</th><th scope=col>&lt;int&gt;</th><th scope=col>&lt;int&gt;</th><th scope=col>&lt;int&gt;</th><th scope=col>&lt;int&gt;</th><th scope=col>&lt;int&gt;</th><th scope=col>&lt;int&gt;</th><th scope=col>&lt;int&gt;</th></tr>\n",
       "</thead>\n",
       "<tbody>\n",
       "\t<tr><td>1</td><td> 0</td><td>  0</td><td>  0</td><td>  0</td><td>  1</td><td>  0</td><td>  0</td><td>  0</td><td>  0</td><td>⋯</td><td>  0</td><td> 0</td><td> 0</td><td> 0</td><td>  0</td><td> 0</td><td>  0</td><td> 0</td><td> 0</td><td> 0</td></tr>\n",
       "\t<tr><td>2</td><td>26</td><td>247</td><td>103</td><td>620</td><td>494</td><td>145</td><td>145</td><td>139</td><td>697</td><td>⋯</td><td>151</td><td>32</td><td>62</td><td>48</td><td>963</td><td>25</td><td>196</td><td>76</td><td>72</td><td>61</td></tr>\n",
       "\t<tr><td>3</td><td> 1</td><td>  0</td><td>  1</td><td>  0</td><td>  0</td><td>  0</td><td>  1</td><td>  1</td><td>  2</td><td>⋯</td><td>  2</td><td> 1</td><td> 0</td><td> 1</td><td>  3</td><td> 0</td><td>  1</td><td> 0</td><td> 0</td><td> 0</td></tr>\n",
       "\t<tr><td>4</td><td> 0</td><td>  1</td><td>  1</td><td>  2</td><td>  0</td><td>  0</td><td>  1</td><td>  0</td><td>  2</td><td>⋯</td><td>  0</td><td> 0</td><td> 0</td><td> 0</td><td>  1</td><td> 0</td><td>  0</td><td> 0</td><td> 0</td><td> 0</td></tr>\n",
       "\t<tr><td>5</td><td> 3</td><td>  0</td><td>  2</td><td>  3</td><td>  6</td><td>  1</td><td>  1</td><td>  1</td><td>  5</td><td>⋯</td><td>  3</td><td> 2</td><td> 0</td><td> 1</td><td>  6</td><td> 0</td><td>  2</td><td> 0</td><td> 0</td><td> 0</td></tr>\n",
       "\t<tr><td>6</td><td> 2</td><td>  1</td><td>  2</td><td>  5</td><td>  6</td><td>  1</td><td>  1</td><td>  0</td><td>  5</td><td>⋯</td><td>  1</td><td> 1</td><td> 0</td><td> 0</td><td>  4</td><td> 0</td><td>  1</td><td> 0</td><td> 0</td><td> 0</td></tr>\n",
       "</tbody>\n",
       "</table>\n"
      ],
      "text/latex": [
       "A data.table: 6 × 8674\n",
       "\\begin{tabular}{lllllllllllllllllllll}\n",
       " ID & SRR1068788 & SRR1068808 & SRR1068832 & SRR1068855 & SRR1068880 & SRR1068929 & SRR1068953 & SRR1068977 & SRR1068999 & ⋯ & SRR821573 & SRR821581 & SRR821602 & SRR821626 & SRR821653 & SRR821690 & SRR821715 & SRR823967 & SRR823991 & SRR824015\\\\\n",
       " <int> & <int> & <int> & <int> & <int> & <int> & <int> & <int> & <int> & <int> & ⋯ & <int> & <int> & <int> & <int> & <int> & <int> & <int> & <int> & <int> & <int>\\\\\n",
       "\\hline\n",
       "\t 1 &  0 &   0 &   0 &   0 &   1 &   0 &   0 &   0 &   0 & ⋯ &   0 &  0 &  0 &  0 &   0 &  0 &   0 &  0 &  0 &  0\\\\\n",
       "\t 2 & 26 & 247 & 103 & 620 & 494 & 145 & 145 & 139 & 697 & ⋯ & 151 & 32 & 62 & 48 & 963 & 25 & 196 & 76 & 72 & 61\\\\\n",
       "\t 3 &  1 &   0 &   1 &   0 &   0 &   0 &   1 &   1 &   2 & ⋯ &   2 &  1 &  0 &  1 &   3 &  0 &   1 &  0 &  0 &  0\\\\\n",
       "\t 4 &  0 &   1 &   1 &   2 &   0 &   0 &   1 &   0 &   2 & ⋯ &   0 &  0 &  0 &  0 &   1 &  0 &   0 &  0 &  0 &  0\\\\\n",
       "\t 5 &  3 &   0 &   2 &   3 &   6 &   1 &   1 &   1 &   5 & ⋯ &   3 &  2 &  0 &  1 &   6 &  0 &   2 &  0 &  0 &  0\\\\\n",
       "\t 6 &  2 &   1 &   2 &   5 &   6 &   1 &   1 &   0 &   5 & ⋯ &   1 &  1 &  0 &  0 &   4 &  0 &   1 &  0 &  0 &  0\\\\\n",
       "\\end{tabular}\n"
      ],
      "text/markdown": [
       "\n",
       "A data.table: 6 × 8674\n",
       "\n",
       "| ID &lt;int&gt; | SRR1068788 &lt;int&gt; | SRR1068808 &lt;int&gt; | SRR1068832 &lt;int&gt; | SRR1068855 &lt;int&gt; | SRR1068880 &lt;int&gt; | SRR1068929 &lt;int&gt; | SRR1068953 &lt;int&gt; | SRR1068977 &lt;int&gt; | SRR1068999 &lt;int&gt; | ⋯ ⋯ | SRR821573 &lt;int&gt; | SRR821581 &lt;int&gt; | SRR821602 &lt;int&gt; | SRR821626 &lt;int&gt; | SRR821653 &lt;int&gt; | SRR821690 &lt;int&gt; | SRR821715 &lt;int&gt; | SRR823967 &lt;int&gt; | SRR823991 &lt;int&gt; | SRR824015 &lt;int&gt; |\n",
       "|---|---|---|---|---|---|---|---|---|---|---|---|---|---|---|---|---|---|---|---|---|\n",
       "| 1 |  0 |   0 |   0 |   0 |   1 |   0 |   0 |   0 |   0 | ⋯ |   0 |  0 |  0 |  0 |   0 |  0 |   0 |  0 |  0 |  0 |\n",
       "| 2 | 26 | 247 | 103 | 620 | 494 | 145 | 145 | 139 | 697 | ⋯ | 151 | 32 | 62 | 48 | 963 | 25 | 196 | 76 | 72 | 61 |\n",
       "| 3 |  1 |   0 |   1 |   0 |   0 |   0 |   1 |   1 |   2 | ⋯ |   2 |  1 |  0 |  1 |   3 |  0 |   1 |  0 |  0 |  0 |\n",
       "| 4 |  0 |   1 |   1 |   2 |   0 |   0 |   1 |   0 |   2 | ⋯ |   0 |  0 |  0 |  0 |   1 |  0 |   0 |  0 |  0 |  0 |\n",
       "| 5 |  3 |   0 |   2 |   3 |   6 |   1 |   1 |   1 |   5 | ⋯ |   3 |  2 |  0 |  1 |   6 |  0 |   2 |  0 |  0 |  0 |\n",
       "| 6 |  2 |   1 |   2 |   5 |   6 |   1 |   1 |   0 |   5 | ⋯ |   1 |  1 |  0 |  0 |   4 |  0 |   1 |  0 |  0 |  0 |\n",
       "\n"
      ],
      "text/plain": [
       "  ID SRR1068788 SRR1068808 SRR1068832 SRR1068855 SRR1068880 SRR1068929\n",
       "1 1   0           0          0          0          1          0       \n",
       "2 2  26         247        103        620        494        145       \n",
       "3 3   1           0          1          0          0          0       \n",
       "4 4   0           1          1          2          0          0       \n",
       "5 5   3           0          2          3          6          1       \n",
       "6 6   2           1          2          5          6          1       \n",
       "  SRR1068953 SRR1068977 SRR1068999 ⋯ SRR821573 SRR821581 SRR821602 SRR821626\n",
       "1   0          0          0        ⋯   0        0         0         0       \n",
       "2 145        139        697        ⋯ 151       32        62        48       \n",
       "3   1          1          2        ⋯   2        1         0         1       \n",
       "4   1          0          2        ⋯   0        0         0         0       \n",
       "5   1          1          5        ⋯   3        2         0         1       \n",
       "6   1          0          5        ⋯   1        1         0         0       \n",
       "  SRR821653 SRR821690 SRR821715 SRR823967 SRR823991 SRR824015\n",
       "1   0        0          0        0         0         0       \n",
       "2 963       25        196       76        72        61       \n",
       "3   3        0          1        0         0         0       \n",
       "4   1        0          0        0         0         0       \n",
       "5   6        0          2        0         0         0       \n",
       "6   4        0          1        0         0         0       "
      ]
     },
     "metadata": {},
     "output_type": "display_data"
    },
    {
     "data": {
      "text/html": [
       "<table>\n",
       "<caption>A data.table: 6 × 8674</caption>\n",
       "<thead>\n",
       "\t<tr><th scope=col>ID</th><th scope=col>SRR1068788</th><th scope=col>SRR1068808</th><th scope=col>SRR1068832</th><th scope=col>SRR1068855</th><th scope=col>SRR1068880</th><th scope=col>SRR1068929</th><th scope=col>SRR1068953</th><th scope=col>SRR1068977</th><th scope=col>SRR1068999</th><th scope=col>⋯</th><th scope=col>SRR821573</th><th scope=col>SRR821581</th><th scope=col>SRR821602</th><th scope=col>SRR821626</th><th scope=col>SRR821653</th><th scope=col>SRR821690</th><th scope=col>SRR821715</th><th scope=col>SRR823967</th><th scope=col>SRR823991</th><th scope=col>SRR824015</th></tr>\n",
       "\t<tr><th scope=col>&lt;int&gt;</th><th scope=col>&lt;int&gt;</th><th scope=col>&lt;int&gt;</th><th scope=col>&lt;int&gt;</th><th scope=col>&lt;int&gt;</th><th scope=col>&lt;int&gt;</th><th scope=col>&lt;int&gt;</th><th scope=col>&lt;int&gt;</th><th scope=col>&lt;int&gt;</th><th scope=col>&lt;int&gt;</th><th scope=col>⋯</th><th scope=col>&lt;int&gt;</th><th scope=col>&lt;int&gt;</th><th scope=col>&lt;int&gt;</th><th scope=col>&lt;int&gt;</th><th scope=col>&lt;int&gt;</th><th scope=col>&lt;int&gt;</th><th scope=col>&lt;int&gt;</th><th scope=col>&lt;int&gt;</th><th scope=col>&lt;int&gt;</th><th scope=col>&lt;int&gt;</th></tr>\n",
       "</thead>\n",
       "<tbody>\n",
       "\t<tr><td>1</td><td> 2</td><td>  0</td><td> 1</td><td>  3</td><td>  6</td><td> 1</td><td> 0</td><td> 0</td><td>  3</td><td>⋯</td><td> 1</td><td> 1</td><td> 0</td><td>0</td><td>  3</td><td>0</td><td> 1</td><td> 0</td><td> 0</td><td> 0</td></tr>\n",
       "\t<tr><td>2</td><td> 0</td><td>  0</td><td> 0</td><td>  1</td><td>  0</td><td> 0</td><td> 1</td><td> 0</td><td>  0</td><td>⋯</td><td> 0</td><td> 0</td><td> 0</td><td>0</td><td>  0</td><td>0</td><td> 0</td><td> 0</td><td> 0</td><td> 0</td></tr>\n",
       "\t<tr><td>3</td><td> 0</td><td>  0</td><td> 0</td><td>  1</td><td>  0</td><td> 0</td><td> 0</td><td> 0</td><td>  0</td><td>⋯</td><td> 0</td><td> 0</td><td> 0</td><td>0</td><td>  0</td><td>0</td><td> 0</td><td> 0</td><td> 0</td><td> 0</td></tr>\n",
       "\t<tr><td>4</td><td> 0</td><td>  0</td><td> 0</td><td>  1</td><td>  0</td><td> 0</td><td> 0</td><td> 0</td><td>  1</td><td>⋯</td><td> 0</td><td> 0</td><td> 0</td><td>0</td><td>  2</td><td>0</td><td> 1</td><td> 0</td><td> 0</td><td> 0</td></tr>\n",
       "\t<tr><td>5</td><td> 0</td><td>  5</td><td> 3</td><td>  8</td><td>  4</td><td> 0</td><td> 3</td><td> 0</td><td>  3</td><td>⋯</td><td> 9</td><td> 3</td><td> 1</td><td>2</td><td>  3</td><td>0</td><td> 1</td><td> 0</td><td> 1</td><td> 0</td></tr>\n",
       "\t<tr><td>6</td><td>11</td><td>119</td><td>36</td><td>284</td><td>207</td><td>60</td><td>63</td><td>43</td><td>295</td><td>⋯</td><td>52</td><td>13</td><td>14</td><td>9</td><td>338</td><td>8</td><td>63</td><td>25</td><td>20</td><td>18</td></tr>\n",
       "</tbody>\n",
       "</table>\n"
      ],
      "text/latex": [
       "A data.table: 6 × 8674\n",
       "\\begin{tabular}{lllllllllllllllllllll}\n",
       " ID & SRR1068788 & SRR1068808 & SRR1068832 & SRR1068855 & SRR1068880 & SRR1068929 & SRR1068953 & SRR1068977 & SRR1068999 & ⋯ & SRR821573 & SRR821581 & SRR821602 & SRR821626 & SRR821653 & SRR821690 & SRR821715 & SRR823967 & SRR823991 & SRR824015\\\\\n",
       " <int> & <int> & <int> & <int> & <int> & <int> & <int> & <int> & <int> & <int> & ⋯ & <int> & <int> & <int> & <int> & <int> & <int> & <int> & <int> & <int> & <int>\\\\\n",
       "\\hline\n",
       "\t 1 &  2 &   0 &  1 &   3 &   6 &  1 &  0 &  0 &   3 & ⋯ &  1 &  1 &  0 & 0 &   3 & 0 &  1 &  0 &  0 &  0\\\\\n",
       "\t 2 &  0 &   0 &  0 &   1 &   0 &  0 &  1 &  0 &   0 & ⋯ &  0 &  0 &  0 & 0 &   0 & 0 &  0 &  0 &  0 &  0\\\\\n",
       "\t 3 &  0 &   0 &  0 &   1 &   0 &  0 &  0 &  0 &   0 & ⋯ &  0 &  0 &  0 & 0 &   0 & 0 &  0 &  0 &  0 &  0\\\\\n",
       "\t 4 &  0 &   0 &  0 &   1 &   0 &  0 &  0 &  0 &   1 & ⋯ &  0 &  0 &  0 & 0 &   2 & 0 &  1 &  0 &  0 &  0\\\\\n",
       "\t 5 &  0 &   5 &  3 &   8 &   4 &  0 &  3 &  0 &   3 & ⋯ &  9 &  3 &  1 & 2 &   3 & 0 &  1 &  0 &  1 &  0\\\\\n",
       "\t 6 & 11 & 119 & 36 & 284 & 207 & 60 & 63 & 43 & 295 & ⋯ & 52 & 13 & 14 & 9 & 338 & 8 & 63 & 25 & 20 & 18\\\\\n",
       "\\end{tabular}\n"
      ],
      "text/markdown": [
       "\n",
       "A data.table: 6 × 8674\n",
       "\n",
       "| ID &lt;int&gt; | SRR1068788 &lt;int&gt; | SRR1068808 &lt;int&gt; | SRR1068832 &lt;int&gt; | SRR1068855 &lt;int&gt; | SRR1068880 &lt;int&gt; | SRR1068929 &lt;int&gt; | SRR1068953 &lt;int&gt; | SRR1068977 &lt;int&gt; | SRR1068999 &lt;int&gt; | ⋯ ⋯ | SRR821573 &lt;int&gt; | SRR821581 &lt;int&gt; | SRR821602 &lt;int&gt; | SRR821626 &lt;int&gt; | SRR821653 &lt;int&gt; | SRR821690 &lt;int&gt; | SRR821715 &lt;int&gt; | SRR823967 &lt;int&gt; | SRR823991 &lt;int&gt; | SRR824015 &lt;int&gt; |\n",
       "|---|---|---|---|---|---|---|---|---|---|---|---|---|---|---|---|---|---|---|---|---|\n",
       "| 1 |  2 |   0 |  1 |   3 |   6 |  1 |  0 |  0 |   3 | ⋯ |  1 |  1 |  0 | 0 |   3 | 0 |  1 |  0 |  0 |  0 |\n",
       "| 2 |  0 |   0 |  0 |   1 |   0 |  0 |  1 |  0 |   0 | ⋯ |  0 |  0 |  0 | 0 |   0 | 0 |  0 |  0 |  0 |  0 |\n",
       "| 3 |  0 |   0 |  0 |   1 |   0 |  0 |  0 |  0 |   0 | ⋯ |  0 |  0 |  0 | 0 |   0 | 0 |  0 |  0 |  0 |  0 |\n",
       "| 4 |  0 |   0 |  0 |   1 |   0 |  0 |  0 |  0 |   1 | ⋯ |  0 |  0 |  0 | 0 |   2 | 0 |  1 |  0 |  0 |  0 |\n",
       "| 5 |  0 |   5 |  3 |   8 |   4 |  0 |  3 |  0 |   3 | ⋯ |  9 |  3 |  1 | 2 |   3 | 0 |  1 |  0 |  1 |  0 |\n",
       "| 6 | 11 | 119 | 36 | 284 | 207 | 60 | 63 | 43 | 295 | ⋯ | 52 | 13 | 14 | 9 | 338 | 8 | 63 | 25 | 20 | 18 |\n",
       "\n"
      ],
      "text/plain": [
       "  ID SRR1068788 SRR1068808 SRR1068832 SRR1068855 SRR1068880 SRR1068929\n",
       "1 1   2           0         1           3          6         1        \n",
       "2 2   0           0         0           1          0         0        \n",
       "3 3   0           0         0           1          0         0        \n",
       "4 4   0           0         0           1          0         0        \n",
       "5 5   0           5         3           8          4         0        \n",
       "6 6  11         119        36         284        207        60        \n",
       "  SRR1068953 SRR1068977 SRR1068999 ⋯ SRR821573 SRR821581 SRR821602 SRR821626\n",
       "1  0          0           3        ⋯  1         1         0        0        \n",
       "2  1          0           0        ⋯  0         0         0        0        \n",
       "3  0          0           0        ⋯  0         0         0        0        \n",
       "4  0          0           1        ⋯  0         0         0        0        \n",
       "5  3          0           3        ⋯  9         3         1        2        \n",
       "6 63         43         295        ⋯ 52        13        14        9        \n",
       "  SRR821653 SRR821690 SRR821715 SRR823967 SRR823991 SRR824015\n",
       "1   3       0          1         0         0         0       \n",
       "2   0       0          0         0         0         0       \n",
       "3   0       0          0         0         0         0       \n",
       "4   2       0          1         0         0         0       \n",
       "5   3       0          1         0         1         0       \n",
       "6 338       8         63        25        20        18       "
      ]
     },
     "metadata": {},
     "output_type": "display_data"
    },
    {
     "data": {
      "text/html": [
       "<table>\n",
       "<caption>A data.frame: 6 × 79</caption>\n",
       "<thead>\n",
       "\t<tr><th></th><th scope=col>Run</th><th scope=col>analyte_type</th><th scope=col>Assay.Type</th><th scope=col>AvgSpotLen</th><th scope=col>Bases</th><th scope=col>BioProject</th><th scope=col>BioSample</th><th scope=col>biospecimen_repository</th><th scope=col>biospecimen_repository_sample_id</th><th scope=col>body_site</th><th scope=col>⋯</th><th scope=col>data_type..run.</th><th scope=col>product_part_number..exp.</th><th scope=col>product_part_number..run.</th><th scope=col>sample_barcode..exp.</th><th scope=col>sample_barcode..run.</th><th scope=col>is_technical_control</th><th scope=col>target_set..exp.</th><th scope=col>primary_disease..exp.</th><th scope=col>secondary_accessions..run.</th><th scope=col>Alignment_Provider..run.</th></tr>\n",
       "\t<tr><th></th><th scope=col>&lt;fct&gt;</th><th scope=col>&lt;fct&gt;</th><th scope=col>&lt;fct&gt;</th><th scope=col>&lt;int&gt;</th><th scope=col>&lt;dbl&gt;</th><th scope=col>&lt;fct&gt;</th><th scope=col>&lt;fct&gt;</th><th scope=col>&lt;fct&gt;</th><th scope=col>&lt;fct&gt;</th><th scope=col>&lt;fct&gt;</th><th scope=col>⋯</th><th scope=col>&lt;fct&gt;</th><th scope=col>&lt;fct&gt;</th><th scope=col>&lt;fct&gt;</th><th scope=col>&lt;dbl&gt;</th><th scope=col>&lt;dbl&gt;</th><th scope=col>&lt;fct&gt;</th><th scope=col>&lt;lgl&gt;</th><th scope=col>&lt;fct&gt;</th><th scope=col>&lt;fct&gt;</th><th scope=col>&lt;lgl&gt;</th></tr>\n",
       "</thead>\n",
       "<tbody>\n",
       "\t<tr><th scope=row>1</th><td>SRR2911715</td><td>RNA</td><td>RNA-Seq</td><td>150</td><td>3852895500</td><td>PRJNA244100</td><td>SAMN04216864</td><td>Cloud Testing</td><td>HG00103</td><td>Lymphoblastoid cell line</td><td>⋯</td><td></td><td></td><td></td><td>NA</td><td>NA</td><td></td><td>NA</td><td></td><td></td><td>NA</td></tr>\n",
       "\t<tr><th scope=row>2</th><td>SRR2911716</td><td>RNA</td><td>RNA-Seq</td><td>150</td><td>4885577400</td><td>PRJNA244100</td><td>SAMN04216866</td><td>Cloud Testing</td><td>HG00154</td><td>Lymphoblastoid cell line</td><td>⋯</td><td></td><td></td><td></td><td>NA</td><td>NA</td><td></td><td>NA</td><td></td><td></td><td>NA</td></tr>\n",
       "\t<tr><th scope=row>3</th><td>SRR2911718</td><td>RNA</td><td>RNA-Seq</td><td>150</td><td>2690545500</td><td>PRJNA244100</td><td>SAMN04216863</td><td>Cloud Testing</td><td>NA18910</td><td>Lymphoblastoid cell line</td><td>⋯</td><td></td><td></td><td></td><td>NA</td><td>NA</td><td></td><td>NA</td><td></td><td></td><td>NA</td></tr>\n",
       "\t<tr><th scope=row>4</th><td>SRR2911719</td><td>RNA</td><td>RNA-Seq</td><td>150</td><td>2699599350</td><td>PRJNA244100</td><td>SAMN04216865</td><td>Cloud Testing</td><td>NA19200</td><td>Lymphoblastoid cell line</td><td>⋯</td><td></td><td></td><td></td><td>NA</td><td>NA</td><td></td><td>NA</td><td></td><td></td><td>NA</td></tr>\n",
       "\t<tr><th scope=row>5</th><td>SRR2911720</td><td>RNA</td><td>RNA-Seq</td><td>152</td><td>4300467752</td><td>PRJNA244100</td><td>SAMN04216865</td><td>Cloud Testing</td><td>NA19200</td><td>Lymphoblastoid cell line</td><td>⋯</td><td></td><td></td><td></td><td>NA</td><td>NA</td><td></td><td>NA</td><td></td><td></td><td>NA</td></tr>\n",
       "\t<tr><th scope=row>6</th><td>SRR2911717</td><td>RNA</td><td>RNA-Seq</td><td>150</td><td>2666546700</td><td>PRJNA244100</td><td>SAMN04216863</td><td>Cloud Testing</td><td>NA18910</td><td>Lymphoblastoid cell line</td><td>⋯</td><td></td><td></td><td></td><td>NA</td><td>NA</td><td></td><td>NA</td><td></td><td></td><td>NA</td></tr>\n",
       "</tbody>\n",
       "</table>\n"
      ],
      "text/latex": [
       "A data.frame: 6 × 79\n",
       "\\begin{tabular}{r|lllllllllllllllllllll}\n",
       "  & Run & analyte\\_type & Assay.Type & AvgSpotLen & Bases & BioProject & BioSample & biospecimen\\_repository & biospecimen\\_repository\\_sample\\_id & body\\_site & ⋯ & data\\_type..run. & product\\_part\\_number..exp. & product\\_part\\_number..run. & sample\\_barcode..exp. & sample\\_barcode..run. & is\\_technical\\_control & target\\_set..exp. & primary\\_disease..exp. & secondary\\_accessions..run. & Alignment\\_Provider..run.\\\\\n",
       "  & <fct> & <fct> & <fct> & <int> & <dbl> & <fct> & <fct> & <fct> & <fct> & <fct> & ⋯ & <fct> & <fct> & <fct> & <dbl> & <dbl> & <fct> & <lgl> & <fct> & <fct> & <lgl>\\\\\n",
       "\\hline\n",
       "\t1 & SRR2911715 & RNA & RNA-Seq & 150 & 3852895500 & PRJNA244100 & SAMN04216864 & Cloud Testing & HG00103 & Lymphoblastoid cell line & ⋯ &  &  &  & NA & NA &  & NA &  &  & NA\\\\\n",
       "\t2 & SRR2911716 & RNA & RNA-Seq & 150 & 4885577400 & PRJNA244100 & SAMN04216866 & Cloud Testing & HG00154 & Lymphoblastoid cell line & ⋯ &  &  &  & NA & NA &  & NA &  &  & NA\\\\\n",
       "\t3 & SRR2911718 & RNA & RNA-Seq & 150 & 2690545500 & PRJNA244100 & SAMN04216863 & Cloud Testing & NA18910 & Lymphoblastoid cell line & ⋯ &  &  &  & NA & NA &  & NA &  &  & NA\\\\\n",
       "\t4 & SRR2911719 & RNA & RNA-Seq & 150 & 2699599350 & PRJNA244100 & SAMN04216865 & Cloud Testing & NA19200 & Lymphoblastoid cell line & ⋯ &  &  &  & NA & NA &  & NA &  &  & NA\\\\\n",
       "\t5 & SRR2911720 & RNA & RNA-Seq & 152 & 4300467752 & PRJNA244100 & SAMN04216865 & Cloud Testing & NA19200 & Lymphoblastoid cell line & ⋯ &  &  &  & NA & NA &  & NA &  &  & NA\\\\\n",
       "\t6 & SRR2911717 & RNA & RNA-Seq & 150 & 2666546700 & PRJNA244100 & SAMN04216863 & Cloud Testing & NA18910 & Lymphoblastoid cell line & ⋯ &  &  &  & NA & NA &  & NA &  &  & NA\\\\\n",
       "\\end{tabular}\n"
      ],
      "text/markdown": [
       "\n",
       "A data.frame: 6 × 79\n",
       "\n",
       "| <!--/--> | Run &lt;fct&gt; | analyte_type &lt;fct&gt; | Assay.Type &lt;fct&gt; | AvgSpotLen &lt;int&gt; | Bases &lt;dbl&gt; | BioProject &lt;fct&gt; | BioSample &lt;fct&gt; | biospecimen_repository &lt;fct&gt; | biospecimen_repository_sample_id &lt;fct&gt; | body_site &lt;fct&gt; | ⋯ ⋯ | data_type..run. &lt;fct&gt; | product_part_number..exp. &lt;fct&gt; | product_part_number..run. &lt;fct&gt; | sample_barcode..exp. &lt;dbl&gt; | sample_barcode..run. &lt;dbl&gt; | is_technical_control &lt;fct&gt; | target_set..exp. &lt;lgl&gt; | primary_disease..exp. &lt;fct&gt; | secondary_accessions..run. &lt;fct&gt; | Alignment_Provider..run. &lt;lgl&gt; |\n",
       "|---|---|---|---|---|---|---|---|---|---|---|---|---|---|---|---|---|---|---|---|---|---|\n",
       "| 1 | SRR2911715 | RNA | RNA-Seq | 150 | 3852895500 | PRJNA244100 | SAMN04216864 | Cloud Testing | HG00103 | Lymphoblastoid cell line | ⋯ | <!----> | <!----> | <!----> | NA | NA | <!----> | NA | <!----> | <!----> | NA |\n",
       "| 2 | SRR2911716 | RNA | RNA-Seq | 150 | 4885577400 | PRJNA244100 | SAMN04216866 | Cloud Testing | HG00154 | Lymphoblastoid cell line | ⋯ | <!----> | <!----> | <!----> | NA | NA | <!----> | NA | <!----> | <!----> | NA |\n",
       "| 3 | SRR2911718 | RNA | RNA-Seq | 150 | 2690545500 | PRJNA244100 | SAMN04216863 | Cloud Testing | NA18910 | Lymphoblastoid cell line | ⋯ | <!----> | <!----> | <!----> | NA | NA | <!----> | NA | <!----> | <!----> | NA |\n",
       "| 4 | SRR2911719 | RNA | RNA-Seq | 150 | 2699599350 | PRJNA244100 | SAMN04216865 | Cloud Testing | NA19200 | Lymphoblastoid cell line | ⋯ | <!----> | <!----> | <!----> | NA | NA | <!----> | NA | <!----> | <!----> | NA |\n",
       "| 5 | SRR2911720 | RNA | RNA-Seq | 152 | 4300467752 | PRJNA244100 | SAMN04216865 | Cloud Testing | NA19200 | Lymphoblastoid cell line | ⋯ | <!----> | <!----> | <!----> | NA | NA | <!----> | NA | <!----> | <!----> | NA |\n",
       "| 6 | SRR2911717 | RNA | RNA-Seq | 150 | 2666546700 | PRJNA244100 | SAMN04216863 | Cloud Testing | NA18910 | Lymphoblastoid cell line | ⋯ | <!----> | <!----> | <!----> | NA | NA | <!----> | NA | <!----> | <!----> | NA |\n",
       "\n"
      ],
      "text/plain": [
       "  Run        analyte_type Assay.Type AvgSpotLen Bases      BioProject \n",
       "1 SRR2911715 RNA          RNA-Seq    150        3852895500 PRJNA244100\n",
       "2 SRR2911716 RNA          RNA-Seq    150        4885577400 PRJNA244100\n",
       "3 SRR2911718 RNA          RNA-Seq    150        2690545500 PRJNA244100\n",
       "4 SRR2911719 RNA          RNA-Seq    150        2699599350 PRJNA244100\n",
       "5 SRR2911720 RNA          RNA-Seq    152        4300467752 PRJNA244100\n",
       "6 SRR2911717 RNA          RNA-Seq    150        2666546700 PRJNA244100\n",
       "  BioSample    biospecimen_repository biospecimen_repository_sample_id\n",
       "1 SAMN04216864 Cloud Testing          HG00103                         \n",
       "2 SAMN04216866 Cloud Testing          HG00154                         \n",
       "3 SAMN04216863 Cloud Testing          NA18910                         \n",
       "4 SAMN04216865 Cloud Testing          NA19200                         \n",
       "5 SAMN04216865 Cloud Testing          NA19200                         \n",
       "6 SAMN04216863 Cloud Testing          NA18910                         \n",
       "  body_site                ⋯ data_type..run. product_part_number..exp.\n",
       "1 Lymphoblastoid cell line ⋯                                          \n",
       "2 Lymphoblastoid cell line ⋯                                          \n",
       "3 Lymphoblastoid cell line ⋯                                          \n",
       "4 Lymphoblastoid cell line ⋯                                          \n",
       "5 Lymphoblastoid cell line ⋯                                          \n",
       "6 Lymphoblastoid cell line ⋯                                          \n",
       "  product_part_number..run. sample_barcode..exp. sample_barcode..run.\n",
       "1                           NA                   NA                  \n",
       "2                           NA                   NA                  \n",
       "3                           NA                   NA                  \n",
       "4                           NA                   NA                  \n",
       "5                           NA                   NA                  \n",
       "6                           NA                   NA                  \n",
       "  is_technical_control target_set..exp. primary_disease..exp.\n",
       "1                      NA                                    \n",
       "2                      NA                                    \n",
       "3                      NA                                    \n",
       "4                      NA                                    \n",
       "5                      NA                                    \n",
       "6                      NA                                    \n",
       "  secondary_accessions..run. Alignment_Provider..run.\n",
       "1                            NA                      \n",
       "2                            NA                      \n",
       "3                            NA                      \n",
       "4                            NA                      \n",
       "5                            NA                      \n",
       "6                            NA                      "
      ]
     },
     "metadata": {},
     "output_type": "display_data"
    }
   ],
   "source": [
    "#DS analysis\n",
    "\n",
    "#inc.iso.counts.mem<-read.csv('/Users/karleg/Downloads/rmats_final.se.jc.ijc.txt',header=TRUE)\n",
    "inc.iso.counts.mem <- data.table::fread(\"../data/rmats_final.se.jc.ijc.txt.gz\") \n",
    "\n",
    "#skip.iso.counts.mem<-read.csv('/Users/karleg/Downloads/rmats_final.se.jc.sjc.txt',header=TRUE)\n",
    "skip.iso.counts.mem <- data.table::fread(\"../data/rmats_final.se.jc.sjc.txt.gz\") \n",
    "\n",
    "meta.data<-read.csv('../data/SraRunTable.noCram.noExome.noWGS.totalRNA.txt',header=TRUE)\n",
    "head(inc.iso.counts.mem)\n",
    "head(skip.iso.counts.mem)\n",
    "head(meta.data)"
   ]
  },
  {
   "cell_type": "markdown",
   "metadata": {},
   "source": []
  },
  {
   "cell_type": "markdown",
   "metadata": {},
   "source": [
    "Keep only the runs that are in the ijc count list (assuming ijc and sjc are the same).  As well, name the rows with the junction id column and then make the matrix just about the counts."
   ]
  },
  {
   "cell_type": "code",
   "execution_count": 50,
   "metadata": {},
   "outputs": [
    {
     "data": {
      "text/html": [
       "<style>\n",
       ".list-inline {list-style: none; margin:0; padding: 0}\n",
       ".list-inline>li {display: inline-block}\n",
       ".list-inline>li:not(:last-child)::after {content: \"\\00b7\"; padding: 0 .5ex}\n",
       "</style>\n",
       "<ol class=list-inline><li>42611</li><li>8674</li></ol>\n"
      ],
      "text/latex": [
       "\\begin{enumerate*}\n",
       "\\item 42611\n",
       "\\item 8674\n",
       "\\end{enumerate*}\n"
      ],
      "text/markdown": [
       "1. 42611\n",
       "2. 8674\n",
       "\n",
       "\n"
      ],
      "text/plain": [
       "[1] 42611  8674"
      ]
     },
     "metadata": {},
     "output_type": "display_data"
    },
    {
     "data": {
      "text/html": [
       "<style>\n",
       ".list-inline {list-style: none; margin:0; padding: 0}\n",
       ".list-inline>li {display: inline-block}\n",
       ".list-inline>li:not(:last-child)::after {content: \"\\00b7\"; padding: 0 .5ex}\n",
       "</style>\n",
       "<ol class=list-inline><li>42611</li><li>8674</li></ol>\n"
      ],
      "text/latex": [
       "\\begin{enumerate*}\n",
       "\\item 42611\n",
       "\\item 8674\n",
       "\\end{enumerate*}\n"
      ],
      "text/markdown": [
       "1. 42611\n",
       "2. 8674\n",
       "\n",
       "\n"
      ],
      "text/plain": [
       "[1] 42611  8674"
      ]
     },
     "metadata": {},
     "output_type": "display_data"
    },
    {
     "data": {
      "text/html": [
       "<style>\n",
       ".list-inline {list-style: none; margin:0; padding: 0}\n",
       ".list-inline>li {display: inline-block}\n",
       ".list-inline>li:not(:last-child)::after {content: \"\\00b7\"; padding: 0 .5ex}\n",
       "</style>\n",
       "<ol class=list-inline><li>9784</li><li>79</li></ol>\n"
      ],
      "text/latex": [
       "\\begin{enumerate*}\n",
       "\\item 9784\n",
       "\\item 79\n",
       "\\end{enumerate*}\n"
      ],
      "text/markdown": [
       "1. 9784\n",
       "2. 79\n",
       "\n",
       "\n"
      ],
      "text/plain": [
       "[1] 9784   79"
      ]
     },
     "metadata": {},
     "output_type": "display_data"
    },
    {
     "data": {
      "text/plain": [
       "keep.meta.data\n",
       "FALSE  TRUE \n",
       " 1111  8673 "
      ]
     },
     "metadata": {},
     "output_type": "display_data"
    },
    {
     "data": {
      "text/html": [
       "<style>\n",
       ".list-inline {list-style: none; margin:0; padding: 0}\n",
       ".list-inline>li {display: inline-block}\n",
       ".list-inline>li:not(:last-child)::after {content: \"\\00b7\"; padding: 0 .5ex}\n",
       "</style>\n",
       "<ol class=list-inline><li>42611</li><li>8673</li></ol>\n"
      ],
      "text/latex": [
       "\\begin{enumerate*}\n",
       "\\item 42611\n",
       "\\item 8673\n",
       "\\end{enumerate*}\n"
      ],
      "text/markdown": [
       "1. 42611\n",
       "2. 8673\n",
       "\n",
       "\n"
      ],
      "text/plain": [
       "[1] 42611  8673"
      ]
     },
     "metadata": {},
     "output_type": "display_data"
    },
    {
     "data": {
      "text/html": [
       "<style>\n",
       ".list-inline {list-style: none; margin:0; padding: 0}\n",
       ".list-inline>li {display: inline-block}\n",
       ".list-inline>li:not(:last-child)::after {content: \"\\00b7\"; padding: 0 .5ex}\n",
       "</style>\n",
       "<ol class=list-inline><li>42611</li><li>8673</li></ol>\n"
      ],
      "text/latex": [
       "\\begin{enumerate*}\n",
       "\\item 42611\n",
       "\\item 8673\n",
       "\\end{enumerate*}\n"
      ],
      "text/markdown": [
       "1. 42611\n",
       "2. 8673\n",
       "\n",
       "\n"
      ],
      "text/plain": [
       "[1] 42611  8673"
      ]
     },
     "metadata": {},
     "output_type": "display_data"
    },
    {
     "data": {
      "text/html": [
       "<style>\n",
       ".list-inline {list-style: none; margin:0; padding: 0}\n",
       ".list-inline>li {display: inline-block}\n",
       ".list-inline>li:not(:last-child)::after {content: \"\\00b7\"; padding: 0 .5ex}\n",
       "</style>\n",
       "<ol class=list-inline><li>8673</li><li>79</li></ol>\n"
      ],
      "text/latex": [
       "\\begin{enumerate*}\n",
       "\\item 8673\n",
       "\\item 79\n",
       "\\end{enumerate*}\n"
      ],
      "text/markdown": [
       "1. 8673\n",
       "2. 79\n",
       "\n",
       "\n"
      ],
      "text/plain": [
       "[1] 8673   79"
      ]
     },
     "metadata": {},
     "output_type": "display_data"
    }
   ],
   "source": [
    "#dimensions before we make the changes.\n",
    "dim(inc.iso.counts.mem)\n",
    "dim(skip.iso.counts.mem)\n",
    "dim(meta.data)\n",
    "\n",
    "#logic to keep only those runs (rows) that are in the matrix of ijc counts (columns)\n",
    "keep.meta.data <- meta.data$Run %in% colnames(inc.iso.counts.mem)\n",
    "table(keep.meta.data)\n",
    "reduced.meta.data <- meta.data[keep.meta.data==TRUE,]\n",
    "\n",
    "# there is one more column that has the junction ID, preserve that as the row number\n",
    "rownames(inc.iso.counts.mem)<-inc.iso.counts.mem$ID\n",
    "rownames(skip.iso.counts.mem)<-skip.iso.counts.mem$ID\n",
    "\n",
    "#remove the id and now we should have parity between columns (which are the runs) for ijc, sjc with rows of the metadata (which are also runs)\n",
    "inc.iso.counts.mem  <-inc.iso.counts.mem[,-1]\n",
    "skip.iso.counts.mem <-skip.iso.counts.mem[,-1]\n",
    "dim(inc.iso.counts.mem)\n",
    "dim(skip.iso.counts.mem)\n",
    "dim(reduced.meta.data)"
   ]
  },
  {
   "cell_type": "markdown",
   "metadata": {},
   "source": [
    "Cool -- now we need to ensure the ordering of the metadata (rownames) is the same as the colnames, ijc and sjc.  Strings as factors, the metadata was read in with StringsAsFactors == TRUE, we will rearrange the order of the columns for our ijc, sjc count data to match that of the Run column of the metadata, our column names in the count data hold the Run names, we need to ensure we compare as.character (colnames can not be factors).\n",
    "\n",
    "using library tibble,  which we start by converting to a tibble data frame (tbl_df). Tibble is a modern rethinking of data frame providing a nicer printing method. This is useful when working with large data sets.   Using tibble, we can rearrange the columns as the column name.   Method to use is converting the ijc, sjc count data.frame to a tibble data frame."
   ]
  },
  {
   "cell_type": "code",
   "execution_count": 72,
   "metadata": {},
   "outputs": [],
   "source": [
    "library(tibble)"
   ]
  },
  {
   "cell_type": "code",
   "execution_count": 75,
   "metadata": {},
   "outputs": [
    {
     "data": {
      "text/html": [
       "<style>\n",
       ".list-inline {list-style: none; margin:0; padding: 0}\n",
       ".list-inline>li {display: inline-block}\n",
       ".list-inline>li:not(:last-child)::after {content: \"\\00b7\"; padding: 0 .5ex}\n",
       "</style>\n",
       "<ol class=list-inline><li>42611</li><li>8673</li></ol>\n"
      ],
      "text/latex": [
       "\\begin{enumerate*}\n",
       "\\item 42611\n",
       "\\item 8673\n",
       "\\end{enumerate*}\n"
      ],
      "text/markdown": [
       "1. 42611\n",
       "2. 8673\n",
       "\n",
       "\n"
      ],
      "text/plain": [
       "[1] 42611  8673"
      ]
     },
     "metadata": {},
     "output_type": "display_data"
    },
    {
     "data": {
      "text/html": [
       "<style>\n",
       ".list-inline {list-style: none; margin:0; padding: 0}\n",
       ".list-inline>li {display: inline-block}\n",
       ".list-inline>li:not(:last-child)::after {content: \"\\00b7\"; padding: 0 .5ex}\n",
       "</style>\n",
       "<ol class=list-inline><li>42611</li><li>8673</li></ol>\n"
      ],
      "text/latex": [
       "\\begin{enumerate*}\n",
       "\\item 42611\n",
       "\\item 8673\n",
       "\\end{enumerate*}\n"
      ],
      "text/markdown": [
       "1. 42611\n",
       "2. 8673\n",
       "\n",
       "\n"
      ],
      "text/plain": [
       "[1] 42611  8673"
      ]
     },
     "metadata": {},
     "output_type": "display_data"
    }
   ],
   "source": [
    "meta.data.colnames   <- as.character(reduced.meta.data$Run)\n",
    "inc.iso.counts.mem2  <- as_tibble(inc.iso.counts.mem)\n",
    "inc.iso.counts.mem2  <- inc.iso.counts.mem2[,c(meta.data.colnames)]\n",
    "skip.iso.counts.mem2 <- inc.iso.counts.mem2[,c(meta.data.colnames)]\n",
    "dim(skip.iso.counts.mem2)\n",
    "dim(inc.iso.counts.mem2)"
   ]
  },
  {
   "cell_type": "markdown",
   "metadata": {},
   "source": [
    "Remove samples that match '11IL0' from the ijc, sjc and metadata files and only look at breast tissue -- @Christina - we should make this a function that we pass all the tissues - like what I did in one of the figures..."
   ]
  },
  {
   "cell_type": "code",
   "execution_count": 79,
   "metadata": {},
   "outputs": [
    {
     "data": {
      "text/plain": [
       "keep.meta.data\n",
       "FALSE  TRUE \n",
       " 8470   191 "
      ]
     },
     "metadata": {},
     "output_type": "display_data"
    },
    {
     "data": {
      "text/html": [
       "<style>\n",
       ".list-inline {list-style: none; margin:0; padding: 0}\n",
       ".list-inline>li {display: inline-block}\n",
       ".list-inline>li:not(:last-child)::after {content: \"\\00b7\"; padding: 0 .5ex}\n",
       "</style>\n",
       "<ol class=list-inline><li>42611</li><li>191</li></ol>\n"
      ],
      "text/latex": [
       "\\begin{enumerate*}\n",
       "\\item 42611\n",
       "\\item 191\n",
       "\\end{enumerate*}\n"
      ],
      "text/markdown": [
       "1. 42611\n",
       "2. 191\n",
       "\n",
       "\n"
      ],
      "text/plain": [
       "[1] 42611   191"
      ]
     },
     "metadata": {},
     "output_type": "display_data"
    },
    {
     "data": {
      "text/html": [
       "<style>\n",
       ".list-inline {list-style: none; margin:0; padding: 0}\n",
       ".list-inline>li {display: inline-block}\n",
       ".list-inline>li:not(:last-child)::after {content: \"\\00b7\"; padding: 0 .5ex}\n",
       "</style>\n",
       "<ol class=list-inline><li>42611</li><li>191</li></ol>\n"
      ],
      "text/latex": [
       "\\begin{enumerate*}\n",
       "\\item 42611\n",
       "\\item 191\n",
       "\\end{enumerate*}\n"
      ],
      "text/markdown": [
       "1. 42611\n",
       "2. 191\n",
       "\n",
       "\n"
      ],
      "text/plain": [
       "[1] 42611   191"
      ]
     },
     "metadata": {},
     "output_type": "display_data"
    }
   ],
   "source": [
    "keep.meta.data <- (!grepl('11ILO',reduced.meta.data$Sample.Name) & (reduced.meta.data$body_site %in% 'Breast - Mammary Tissue'))\n",
    "table(keep.meta.data)\n",
    "inc.iso.counts.mem2  <-inc.iso.counts.mem2 [                    ,keep.meta.data==TRUE]\n",
    "skip.iso.counts.mem2 <-skip.iso.counts.mem2[                    ,keep.meta.data==TRUE]\n",
    "reduced.meta.data    <-reduced.meta.data   [keep.meta.data==TRUE,                    ]\n",
    "dim(inc.iso.counts.mem2)\n",
    "dim(skip.iso.counts.mem2)"
   ]
  },
  {
   "cell_type": "markdown",
   "metadata": {},
   "source": [
    "Make a single matrix combining the ijc, sjc counts "
   ]
  },
  {
   "cell_type": "code",
   "execution_count": 80,
   "metadata": {},
   "outputs": [],
   "source": [
    "exprs.mat <- matrix(data=cbind(as.matrix(skip.iso.counts.mem2),\n",
    "                               as.matrix(inc.iso.counts.mem2)),\n",
    "                    ncol=2*ncol(skip.iso.counts.mem2),\n",
    "                    nrow=nrow(skip.iso.counts.mem2),\n",
    "                    dimnames=list(1:nrow(skip.iso.counts.mem2),\n",
    "                                  c(colnames(skip.iso.counts.mem2),\n",
    "                                    paste(colnames(skip.iso.counts.mem2),'2',sep=''))))\n",
    "\n"
   ]
  },
  {
   "cell_type": "markdown",
   "metadata": {},
   "source": [
    "Now make groups for our analysis focused on sex but with two sub classifications, skip for our sjc counts and inc for our ijc counts - representing the number of reads that have skipped the exon and the number of reads that have included the exon."
   ]
  },
  {
   "cell_type": "code",
   "execution_count": 84,
   "metadata": {},
   "outputs": [],
   "source": [
    "keep.events<-rep(T,nrow(exprs.mat))\n",
    "\n",
    "groups=c(paste0(reduced.meta.data$sex,'-skip'),paste0(reduced.meta.data$sex,'-inc'))\n"
   ]
  },
  {
   "cell_type": "markdown",
   "metadata": {},
   "source": [
    "keep only the groups and the rows that have non-zero values"
   ]
  },
  {
   "cell_type": "code",
   "execution_count": 85,
   "metadata": {},
   "outputs": [
    {
     "data": {
      "text/html": [
       "382"
      ],
      "text/latex": [
       "382"
      ],
      "text/markdown": [
       "382"
      ],
      "text/plain": [
       "[1] 382"
      ]
     },
     "metadata": {},
     "output_type": "display_data"
    },
    {
     "data": {
      "text/html": [
       "<style>\n",
       ".list-inline {list-style: none; margin:0; padding: 0}\n",
       ".list-inline>li {display: inline-block}\n",
       ".list-inline>li:not(:last-child)::after {content: \"\\00b7\"; padding: 0 .5ex}\n",
       "</style>\n",
       "<ol class=list-inline><li>42611</li><li>382</li></ol>\n"
      ],
      "text/latex": [
       "\\begin{enumerate*}\n",
       "\\item 42611\n",
       "\\item 382\n",
       "\\end{enumerate*}\n"
      ],
      "text/markdown": [
       "1. 42611\n",
       "2. 382\n",
       "\n",
       "\n"
      ],
      "text/plain": [
       "[1] 42611   382"
      ]
     },
     "metadata": {},
     "output_type": "display_data"
    },
    {
     "data": {
      "text/html": [
       "382"
      ],
      "text/latex": [
       "382"
      ],
      "text/markdown": [
       "382"
      ],
      "text/plain": [
       "[1] 382"
      ]
     },
     "metadata": {},
     "output_type": "display_data"
    },
    {
     "data": {
      "text/html": [
       "<style>\n",
       ".list-inline {list-style: none; margin:0; padding: 0}\n",
       ".list-inline>li {display: inline-block}\n",
       ".list-inline>li:not(:last-child)::after {content: \"\\00b7\"; padding: 0 .5ex}\n",
       "</style>\n",
       "<ol class=list-inline><li>42611</li><li>382</li></ol>\n"
      ],
      "text/latex": [
       "\\begin{enumerate*}\n",
       "\\item 42611\n",
       "\\item 382\n",
       "\\end{enumerate*}\n"
      ],
      "text/markdown": [
       "1. 42611\n",
       "2. 382\n",
       "\n",
       "\n"
      ],
      "text/plain": [
       "[1] 42611   382"
      ]
     },
     "metadata": {},
     "output_type": "display_data"
    }
   ],
   "source": [
    "length(groups)\n",
    "dim(exprs.mat)\n",
    "groups<-groups[colSums(exprs.mat)>0]\n",
    "exprs.mat<-exprs.mat[,colSums(exprs.mat)>0]\n",
    "length(groups)\n",
    "dim(exprs.mat)"
   ]
  },
  {
   "cell_type": "code",
   "execution_count": null,
   "metadata": {},
   "outputs": [],
   "source": [
    "#zero.rows=rep(F,nrow(exprs.mat))\n",
    "\n",
    "#for (group in c('male-skip','female-skip','male-inc','female-inc'))\n",
    "  \n",
    "#  zero.rows=zero.rows | (rowSums(exprs.mat[,groups %in% group] >0) < (1/4)*min(table(groups)))\n",
    "\n",
    "#exprs.mat[zero.rows,]=0\n",
    "\n",
    "#for (group in c('male-skip','female-skip','male-inc','female-inc'))\n",
    "  \n",
    "#  keep.events<-keep.events & (rowSums((exprs.mat[,groups %in% group]) >= 1) >= (1/4)*min(table(groups)))\n",
    "\n",
    "#rm(exprs.mat)\n"
   ]
  },
  {
   "cell_type": "markdown",
   "metadata": {},
   "source": [
    "separate the matrices counts into male and female"
   ]
  },
  {
   "cell_type": "code",
   "execution_count": 88,
   "metadata": {},
   "outputs": [],
   "source": [
    "inc.counts.male   <-inc.iso.counts.mem2 [,reduced.meta.data$sex=='male']\n",
    "\n",
    "inc.counts.female <-inc.iso.counts.mem2 [,reduced.meta.data$sex=='female']\n",
    "\n",
    "skip.counts.male  <-skip.iso.counts.mem2[,reduced.meta.data$sex=='male']\n",
    "\n",
    "skip.counts.female<-skip.iso.counts.mem2[,reduced.meta.data$sex=='female']\n"
   ]
  },
  {
   "cell_type": "markdown",
   "metadata": {},
   "source": [
    "make the matrix, combining now the male and female counts - achieving a rearrangement count columns included counts male, female, followed by skiped counts male female"
   ]
  },
  {
   "cell_type": "code",
   "execution_count": 89,
   "metadata": {},
   "outputs": [],
   "source": [
    "inc.counts.mat<-cbind(inc.counts.male,inc.counts.female)\n",
    "\n",
    "rownames(inc.counts.mat)<-rownames(inc.iso.counts.mem)\n",
    "\n",
    "skip.counts.mat<-cbind(skip.counts.male,skip.counts.female)\n",
    "\n",
    "rownames(skip.counts.mat)<-rownames(skip.iso.counts.mem)\n",
    "\n",
    "counts.mat<-cbind(inc.counts.male,inc.counts.female,skip.counts.male,skip.counts.female)\n",
    "\n",
    "rownames(counts.mat)<-rownames(inc.iso.counts.mem)\n",
    "\n",
    "counts.mat<-counts.mat[keep.events,]"
   ]
  },
  {
   "cell_type": "markdown",
   "metadata": {},
   "source": [
    "this gives us then the ability to create an isoform.   For our modelling, included counts will be 1, skipped will be 0.   Sex will be modeled as well, this will be a block."
   ]
  },
  {
   "cell_type": "code",
   "execution_count": 90,
   "metadata": {},
   "outputs": [],
   "source": [
    "isoform<-c(rep(1,ncol(inc.counts.male)+ncol(inc.counts.female)),rep(0,ncol(skip.counts.male)+ncol(skip.counts.female)))\n",
    "sex<-c(rep(1,ncol(inc.counts.male)),rep(0,ncol(inc.counts.female)),rep(1,ncol(skip.counts.male)),rep(0,ncol(skip.counts.female)))\n",
    "block=rep(c(1:ncol(inc.counts.male),(1+ncol(inc.counts.male)):(ncol(inc.counts.female)+ncol(inc.counts.male))),2)"
   ]
  },
  {
   "cell_type": "markdown",
   "metadata": {},
   "source": [
    "keep only those rows which have non-zero columns"
   ]
  },
  {
   "cell_type": "code",
   "execution_count": 91,
   "metadata": {},
   "outputs": [
    {
     "data": {
      "text/html": [
       "<style>\n",
       ".list-inline {list-style: none; margin:0; padding: 0}\n",
       ".list-inline>li {display: inline-block}\n",
       ".list-inline>li:not(:last-child)::after {content: \"\\00b7\"; padding: 0 .5ex}\n",
       "</style>\n",
       "<ol class=list-inline><li>42611</li><li>382</li></ol>\n"
      ],
      "text/latex": [
       "\\begin{enumerate*}\n",
       "\\item 42611\n",
       "\\item 382\n",
       "\\end{enumerate*}\n"
      ],
      "text/markdown": [
       "1. 42611\n",
       "2. 382\n",
       "\n",
       "\n"
      ],
      "text/plain": [
       "[1] 42611   382"
      ]
     },
     "metadata": {},
     "output_type": "display_data"
    },
    {
     "data": {
      "text/plain": [
       "keep.cols\n",
       "TRUE \n",
       " 382 "
      ]
     },
     "metadata": {},
     "output_type": "display_data"
    },
    {
     "data": {
      "text/html": [
       "<style>\n",
       ".list-inline {list-style: none; margin:0; padding: 0}\n",
       ".list-inline>li {display: inline-block}\n",
       ".list-inline>li:not(:last-child)::after {content: \"\\00b7\"; padding: 0 .5ex}\n",
       "</style>\n",
       "<ol class=list-inline><li>42611</li><li>382</li></ol>\n"
      ],
      "text/latex": [
       "\\begin{enumerate*}\n",
       "\\item 42611\n",
       "\\item 382\n",
       "\\end{enumerate*}\n"
      ],
      "text/markdown": [
       "1. 42611\n",
       "2. 382\n",
       "\n",
       "\n"
      ],
      "text/plain": [
       "[1] 42611   382"
      ]
     },
     "metadata": {},
     "output_type": "display_data"
    }
   ],
   "source": [
    "dim(counts.mat)\n",
    "keep.cols<-colSums(counts.mat)>0\n",
    "table(keep.cols)\n",
    "isoform<-isoform[keep.cols]\n",
    "\n",
    "sex<-sex[keep.cols]\n",
    "\n",
    "block<-block[keep.cols]\n",
    "\n",
    "counts.mat<-counts.mat[,keep.cols]\n",
    "dim(counts.mat)"
   ]
  },
  {
   "cell_type": "markdown",
   "metadata": {},
   "source": [
    "finally we are able to perform our analysis."
   ]
  },
  {
   "cell_type": "code",
   "execution_count": null,
   "metadata": {},
   "outputs": [],
   "source": [
    "norm.factors=calcNormFactors(DGEList(counts=counts.mat[,isoform==1]+counts.mat[,isoform==0]))\n",
    "\n",
    "counts.mat=DGEList(counts=counts.mat)\n",
    "\n",
    "counts.mat$samples$norm.factors=rep(norm.factors$samples$norm.factors,2)\n",
    "\n",
    "design <- model.matrix(~sex+isoform+sex*isoform)\n",
    "\n",
    "correlation =  duplicateCorrelation(voom(counts.mat)$E,design,block=block)$consensus.correlation\n",
    "\n",
    "v <- voom(counts.mat, design,block = block, correlation = correlation)\n",
    "\n",
    "fit <- lmFit(v, design,block = block, correlation = correlation)\n",
    "\n",
    "fit <- eBayes(fit, robust=TRUE)\n",
    "\n",
    "res=topTable(fit, coef='sex:isoform',number=nrow(counts.mat))\n",
    "\n",
    "write.table(res[res$adj.P.Val<=0.05 & abs(res$logFC)>=log2(1.5),],paste(paste('Breast - Mammary Tissue',collapse='.'),'se.txt',sep=''),row.names = T,col.names = T,quote = F)\n",
    "\n",
    "write.table(rownames(res),paste0(paste('Breast - Mammary Tissue',collapse='.'),'all_genes.txt'))\n"
   ]
  },
  {
   "cell_type": "code",
   "execution_count": null,
   "metadata": {},
   "outputs": [],
   "source": []
  },
  {
   "cell_type": "code",
   "execution_count": null,
   "metadata": {},
   "outputs": [],
   "source": []
  },
  {
   "cell_type": "code",
   "execution_count": null,
   "metadata": {},
   "outputs": [],
   "source": [
    "#Run Ontologizer\n",
    "\n",
    "meta.data<-read.table('/Users/karleg/Downloads/fromGTF.SE.txt',sep='\\t',header=TRUE)\n",
    "\n",
    "de.tab<-read.table('Breast - Mammary Tissuese.txt')\n",
    "\n",
    "de.tab.with.meta<-merge(de.tab,meta.data,by.x='row.names',by.y='ID')\n",
    "\n",
    "all.genes<-read.table('Breast - Mammary Tissueall_genes.txt')\n",
    "\n",
    "write.table(meta.data$geneSymbol[meta.data$ID %in% all.genes[,1]],'universe.txt',quote = F,row.names = F,col.names = F)\n",
    "\n",
    "write.table(de.tab.with.meta$geneSymbol,'gene_set.txt',quote = F,row.names = F,col.names = F)\n",
    "\n",
    "system('java -jar /Users/karleg/Ontologizer/Ontologizer.jar -g /Users/karleg/Ontologizer/go.obo -a /Users/karleg/Ontologizer/goa_human.gaf -s gene_set.txt -p universe.txt -c Term-For-Term -m Benjamini-Hochberg -n')\n"
   ]
  },
  {
   "cell_type": "markdown",
   "metadata": {},
   "source": [
    "# Retrieving the GTEx archive\n",
    "\n",
    "We used the R package [{yarn}](https://bioconductor.org/packages/release/bioc/html/yarn.html) to retrieve the GTEx Biobank data. In order to downloaded the latest GTEx version 8.0 for RNA-seq and genotype data (phs000424.v8.v2), released 2019-08-26, we created a fork of the package's GitHub repository and created a new version of the function **`yarn::downloadGTEx()`**, namely **`yarn::downloadGTExV8()`** to download this release. \n",
    "\n",
    "We used the function to perform quality control, gene filtering and normalization pre-processing on the GTEx RNA-seq data, as described in (Paulson et al, 2017). This pipeline tested for sample sex-misidentification, merged related sub-tissues and performed tissue-aware normalization using the **`{yarn::qsmooth}`**  function (Hicks et al, 2017).\n",
    "\n",
    "We have archived the output of the **`yarn::downloadGTExV8()`** function, which is an `ExpressionSet` object in the repo `lifebitai/lifebitCloudOSDREgtex` for replicability and decreasing the runtime of this analysis. Below we retrieve this `gtex.rds` object from the GitHub releases using the **`{ropensci/piggyback}`** package, but we have also added the relevant command to retrieve the data from GTEx and generate the `ExpressionSet` object using  **`yarn::downloadGTExV8()`**. For the current analysis we are utilising a compute resource with 8 vCPUs and 60 GB of memory available.\n",
    "\n"
   ]
  },
  {
   "cell_type": "code",
   "execution_count": null,
   "metadata": {},
   "outputs": [],
   "source": [
    "# Load with readRDS() if gtex.rds available in data/\n",
    "if (\"gtex.rds\" %in% list.files(\"../data/\")) {\n",
    "    message(\"Loading GTEx v8 rds object with readRDS from ../data/gtex.rds ..\\n\")   \n",
    "    obj <- readRDS(file = \"../data/gtex.rds\")\n",
    "    message(\"Done!\\n\")\n",
    "    message(\"Generating sha256sum for gtex.rds ..\\n\")    \n",
    "    message(system(\"sha256sum ../data/gtex.rds\", intern = TRUE))\n",
    "    message(\"Done!\\n\")\n",
    "}\n",
    "\n",
    "# Download from archive if not available in ../data\n",
    "if (!(\"gtex.rds\" %in% list.files(\"../data/\"))) {\n",
    "    message(\"Downloading GTEx v8 from GitHub Releases archive into the ../data/ directory ..\\n\")\n",
    "    piggyback::pb_download(file = \"gtex.rds\", \n",
    "                                repo = \"lifebit-ai/lifebitCloudOSDREgtex\", \n",
    "                                tag  = \"fig1c_archive\", \n",
    "                                dest = \"../data/\")\n",
    "    message(\"Generating sha256sum for gtex.rds ..\")    \n",
    "    message(system(\"sha256sum ../data/gtex.rds\", intern = TRUE))\n",
    "    message(\"Done!\\n\")    \n",
    "    message(\"Loading GTEx v8 rds object with readRDS from ../data/gtex.rds ..\\n\")    \n",
    "    obj <- readRDS(file = \"../data/gtex.rds\" )\n",
    "    message(\"Done!\\n\")\n",
    "}\n",
    "\n",
    "# Download with yarn if you wish, this requires several minutes to complete\n",
    "if (!(\"gtex.rds\" %in% list.files(\"../data/\"))) {\n",
    "    message(\"Downloading GTEx v8 with 'yarn::downloadGTExV8()'\")\n",
    "    obj <- yarn::downloadGTExV8(type='genes',file='../data/gtex.rds')\n",
    "    message(\"Done!\")\n",
    "\n",
    "}"
   ]
  },
  {
   "cell_type": "code",
   "execution_count": null,
   "metadata": {},
   "outputs": [],
   "source": [
    "# Confirm that it is an expression set.\n",
    "# and check the dimensions of the objects, and the phenotype information of the objects\n",
    "class(obj) \n",
    "dim(phenoData(obj))\n",
    "dim(obj)"
   ]
  },
  {
   "cell_type": "markdown",
   "metadata": {},
   "source": [
    "### NOTE: \n",
    "\n",
    "We observe above that our phenotype data have 2 more observations than our expression data,  let's inspect what are these samples:"
   ]
  },
  {
   "cell_type": "code",
   "execution_count": null,
   "metadata": {},
   "outputs": [],
   "source": [
    "sample_names=as.vector(as.character(colnames(exprs(obj))))\n",
    "length(sample_names)\n",
    "\n",
    "pheno_sample_names=as.vector(as.character(rownames(pData(obj))))\n",
    "length(pheno_sample_names)\n",
    "\n",
    "if (length(pheno_sample_names) > length(sample_names)) {\n",
    "    superset <- pheno_sample_names\n",
    "    subset   <- sample_names    \n",
    "} \n",
    "\n",
    "if (length(pheno_sample_names) < length(sample_names)) {\n",
    "    superset <- sample_names\n",
    "    subset   <- pheno_sample_names   \n",
    "} \n",
    "\n",
    "non_overlaps <- setdiff( superset, subset)\n",
    "\n",
    "message(\"The non-overlapping IDs between pheno and count data are:\\n\\n\", \n",
    "        paste(non_overlaps, collapse = \"\\n\") )"
   ]
  },
  {
   "cell_type": "markdown",
   "metadata": {},
   "source": [
    "Let's keep only the overlapping IDs:"
   ]
  },
  {
   "cell_type": "code",
   "execution_count": null,
   "metadata": {},
   "outputs": [],
   "source": [
    "logical_match_names=pheno_sample_names %in% sample_names\n",
    "length(logical_match_names)\n",
    "table(logical_match_names)\n",
    "pData(obj) <- (pData(obj)[logical_match_names==TRUE,])\n",
    "dim(pData(obj))\n",
    "dim(obj)"
   ]
  },
  {
   "cell_type": "code",
   "execution_count": null,
   "metadata": {},
   "outputs": [],
   "source": [
    "install.packages(\"R.utils\")"
   ]
  },
  {
   "cell_type": "code",
   "execution_count": null,
   "metadata": {},
   "outputs": [],
   "source": [
    "library(R.utils)"
   ]
  },
  {
   "cell_type": "markdown",
   "metadata": {},
   "source": [
    "We have currently all of our runs from rMATS stored with the SRR number - this maps to the annotation via the SraRunTable$biospecimen_repository_sample_id. \n",
    "\n",
    "What we will do here for scalling is read all the inc for this step, and then we will add a separate step for ijc/sjc analysis for comparison purposes.\n",
    "\n",
    "This step assumes that you either mounted the data from the bucket or you have used (after installing, the gsutil tools from google (on a google platform) or aws cli tools (on an amazon platform).  Or the equivalent on an Azure platform"
   ]
  },
  {
   "cell_type": "code",
   "execution_count": null,
   "metadata": {},
   "outputs": [],
   "source": [
    "se.jc.inc <- data.table::fread(\"../data/rmats_final.se.jc.inc.txt.gz\") "
   ]
  },
  {
   "cell_type": "code",
   "execution_count": null,
   "metadata": {},
   "outputs": [],
   "source": [
    "se.jcec.inc <- data.table::fread(\"../data/rmats_final.se.jcec.inc.txt.gz\") "
   ]
  },
  {
   "cell_type": "code",
   "execution_count": null,
   "metadata": {},
   "outputs": [],
   "source": [
    "ri.jc.inc <- data.table::fread(\"../data/rmats_final.ri.jc.inc.txt.gz\")"
   ]
  },
  {
   "cell_type": "code",
   "execution_count": null,
   "metadata": {},
   "outputs": [],
   "source": [
    "ri.jcec.inc <- data.table::fread(\"../data/rmats_final.ri.jcec.inc.txt.gz\")"
   ]
  },
  {
   "cell_type": "code",
   "execution_count": null,
   "metadata": {},
   "outputs": [],
   "source": [
    "mxe.jc.inc <- data.table::fread(\"../data/rmats_final.mxe.jc.inc.txt.gz\")"
   ]
  },
  {
   "cell_type": "code",
   "execution_count": null,
   "metadata": {},
   "outputs": [],
   "source": [
    "mxe.jcec.inc <- data.table::fread(\"../data/rmats_final.mxe.jcec.inc.txt.gz\")"
   ]
  },
  {
   "cell_type": "code",
   "execution_count": null,
   "metadata": {},
   "outputs": [],
   "source": [
    "a3ss.jc.inc <- data.table::fread(\"../data/rmats_final.a3ss.jc.inc.txt.gz\")"
   ]
  },
  {
   "cell_type": "code",
   "execution_count": null,
   "metadata": {},
   "outputs": [],
   "source": [
    "a3ss.jcec.inc <- data.table::fread(\"../data/rmats_final.a3ss.jc.inc.txt.gz\")"
   ]
  },
  {
   "cell_type": "code",
   "execution_count": null,
   "metadata": {},
   "outputs": [],
   "source": [
    "dim(se.jc.inc)"
   ]
  },
  {
   "cell_type": "code",
   "execution_count": null,
   "metadata": {},
   "outputs": [],
   "source": [
    "head (se.jc.inc)"
   ]
  },
  {
   "cell_type": "markdown",
   "metadata": {},
   "source": [
    "#  Now we want to replace all *dashes* with **dots \".\"**"
   ]
  },
  {
   "cell_type": "code",
   "execution_count": null,
   "metadata": {},
   "outputs": [],
   "source": [
    "pData(obj)$SAMPID[1]\n",
    "pData(obj)$SAMPID                            <- gsub('-','\\\\.',pData(obj)$SAMPID)\n",
    "pData(obj)$SAMPID[1]"
   ]
  },
  {
   "cell_type": "code",
   "execution_count": null,
   "metadata": {},
   "outputs": [],
   "source": [
    "colnames(pData(obj))"
   ]
  },
  {
   "cell_type": "code",
   "execution_count": null,
   "metadata": {},
   "outputs": [],
   "source": [
    "head(exprs(obj))"
   ]
  },
  {
   "cell_type": "markdown",
   "metadata": {},
   "source": [
    "This data file needs to be acquired from a release. This is done nicely using the piggyback tool to download from the stored release.  To run this command to access a private release, a user needs to generate their own github token and then in an R or Jupyter Console window use the Sys.setenv(GITHUB_TOKEN=\"xxxx\") command to set it."
   ]
  },
  {
   "cell_type": "code",
   "execution_count": null,
   "metadata": {},
   "outputs": [],
   "source": [
    "# devtools::install_github(\"ropensci/piggyback@87f71e8\", upgrade=\"never\")\n",
    "piggyback::pb_download(\n",
    "repo = \"TheJacksonLaboratory/sbas\", \n",
    "file = \"SraRunTable.noCram.noExome.noWGS.totalRNA.txt.gz\", \n",
    "tag  = \"GTExV8.v1.0\", \n",
    "dest = \"../data/\")"
   ]
  },
  {
   "cell_type": "code",
   "execution_count": null,
   "metadata": {},
   "outputs": [],
   "source": [
    "# From SraRunTable\n",
    "meta.data           <-  data.table::fread(\"../data/SraRunTable.noCram.noExome.noWGS.totalRNA.txt.gz\")\n",
    "\n",
    "# Reform GTEX ids in meta.data$biospecimen_repository_sample_id to match pData$SAMPID\n",
    "meta.data$SAMPID<- gsub(\"-\",\".\" , meta.data$biospecimen_repository_sample_id)\n",
    "\n",
    "# Merge the 2 metadata tables by column SAMPID\n",
    "merged <- merge(meta.data, pData(obj), by = \"SAMPID\")\n",
    "dim(merged)\n",
    "\n",
    "# something odd about the DTHHRDY column, rendered effective through as.numeric.\n",
    "# of note, the cause because cause + 1, so that non-intubation death case in original is 0,\n",
    "# becomes 1 in the death_cause\n",
    "\n",
    "table(pData(obj)$DTHHRDY)\n",
    "length(pData(obj)$DTHHRDY)\n",
    "is.numeric(pData(obj)$DTHHRDY)\n",
    "death_cause <- as.numeric(pData(obj)$DTHHRDY)\n",
    "table(death_cause)\n",
    "non_intubation_death_cause <- death_cause == 1\n",
    "table(non_intubation_death_cause)\n",
    "lung_non_intubation <- (pData(obj)$SMTSD == \"Lung\")[non_intubation_death_cause == TRUE]\n",
    "table(lung_non_intubation)\n",
    "\n",
    "table(merged$DTHHRDY)\n",
    "merged$death_cause = as.numeric(merged$DTHHRDY)\n",
    "table(merged$death_cause)\n",
    "\n",
    "# Write dataframe into .csv file\n",
    "FILE = paste0('../data/merged_metadata', '.csv')\n",
    "write.table( merged,\n",
    "             file      = FILE,\n",
    "             append    = FALSE,\n",
    "             quote     = FALSE,\n",
    "             sep       = \",\",\n",
    "             row.names = F,\n",
    "             col.names = T)\n",
    "\n",
    "non_intubation_death_cause <- merged$death_cause == 1\n",
    "table(non_intubation_death_cause)\n",
    "\n",
    "lung_non_intubation  <- merged[(merged$SMTSD == \"Lung\" & non_intubation_death_cause == TRUE), ]\n",
    "dim(lung_non_intubation)\n",
    "\n",
    "breast               <- merged[merged$SMTSD == \"Breast - Mammary Tissue\"  , ]\n",
    "dim(breast)\n"
   ]
  },
  {
   "cell_type": "code",
   "execution_count": null,
   "metadata": {},
   "outputs": [],
   "source": [
    "colnames(merged)"
   ]
  },
  {
   "cell_type": "code",
   "execution_count": null,
   "metadata": {},
   "outputs": [],
   "source": [
    "dim(se.jc.inc)\n",
    "ID <- se.jc.inc [,1]\n",
    "se.jc.inc <- data.matrix(se.jc.inc[,-1])\n",
    "dim(se.jc.inc)"
   ]
  },
  {
   "cell_type": "code",
   "execution_count": null,
   "metadata": {},
   "outputs": [],
   "source": [
    "head(colnames(se.jc.inc))"
   ]
  },
  {
   "cell_type": "markdown",
   "metadata": {},
   "source": [
    "We have a few more samples with metadata than what we have in our matrix (8781 vs 8673), so limit the metadata only to those within the rmats sample"
   ]
  },
  {
   "cell_type": "code",
   "execution_count": null,
   "metadata": {},
   "outputs": [],
   "source": [
    "rmats_names=as.vector(as.character(colnames(se.jc.inc)))\n",
    "length(rmats_names)\n",
    "rmats_names[1:10]\n",
    "merged_names=as.vector(as.character(merged$Run))\n",
    "length(merged_names)\n",
    "merged_names[1:10]\n",
    "if (length(merged_names) > length(rmats_names)) {\n",
    "    superset <- merged_names\n",
    "    subset   <- rmats_names    \n",
    "} \n",
    "\n",
    "if (length(merged_names) < length(rmats_names)) {\n",
    "    superset <- rmats_names\n",
    "    subset   <- merged_names   \n",
    "} \n",
    "\n",
    "#non_overlaps <- setdiff( superset, subset)\n",
    "rmats_merged_intersect <- intersect(superset, subset)\n",
    "length(rmats_merged_intersect)\n",
    "#length(non_overlaps)\n",
    "#message(\"The non-overlapping IDs between merged and rmats count data are:\\n\\n\", \n",
    "#        paste(non_overlaps, collapse = \"\\n\") )"
   ]
  },
  {
   "cell_type": "code",
   "execution_count": null,
   "metadata": {},
   "outputs": [],
   "source": [
    "length(rmats_merged_intersect)\n",
    "length(rmats_names)\n",
    "length(merged_names)\n",
    "\n",
    "keep_merged <- merged_names %in% rmats_merged_intersect\n",
    "keep_rmats  <- rmats_names  %in% rmats_merged_intersect\n",
    "\n",
    "table(keep_merged)\n",
    "table(keep_rmats)"
   ]
  },
  {
   "cell_type": "code",
   "execution_count": null,
   "metadata": {},
   "outputs": [],
   "source": [
    "head(keep_merged)\n",
    "head(keep_rmats)"
   ]
  },
  {
   "cell_type": "code",
   "execution_count": null,
   "metadata": {},
   "outputs": [],
   "source": [
    "dim(merged)\n",
    "dim(se.jc.inc)"
   ]
  },
  {
   "cell_type": "markdown",
   "metadata": {},
   "source": [
    "Now we have our truth statements, and we have at a counts table (`merged_se.jc.inc` as a datamatrix) that can be reconciled with the metadata, `merged_rmats`"
   ]
  },
  {
   "cell_type": "code",
   "execution_count": null,
   "metadata": {},
   "outputs": [],
   "source": [
    "merged_rmats     <- merged   [keep_merged==TRUE,]\n",
    "merged_se.jc.inc <- se.jc.inc[                 ,keep_rmats==TRUE]\n",
    "dim(merged_rmats)\n",
    "dim(merged_se.jc.inc)\n"
   ]
  },
  {
   "cell_type": "markdown",
   "metadata": {},
   "source": [
    "#  Differential Expression using `{edgeR}`"
   ]
  },
  {
   "cell_type": "markdown",
   "metadata": {},
   "source": [
    "For gene expression analysis, we used the exprs(obj) function to obtain the counts matrix via transcript_counts_matrix <- exprs(obj).  We have our metadata in the 'merged' file this file is a different size at the moment than our sample file.  That is we have more metadata then we"
   ]
  },
  {
   "cell_type": "markdown",
   "metadata": {},
   "source": [
    "To use the **`edgeR::DGEList()`** function, we need to transpose our `transcript_counts_matrix` so that the length of group is equal to the number of columns in our counts (`transcript_counts_matrix`). You will get an error from the   **`edgeR::DGEList()`** function (counts = x, group = group) if the length of group is not equal to the number of columns in counts."
   ]
  },
  {
   "cell_type": "code",
   "execution_count": null,
   "metadata": {},
   "outputs": [],
   "source": [
    "groupiso <- factor(merged_rmats$SEX)"
   ]
  },
  {
   "cell_type": "code",
   "execution_count": null,
   "metadata": {},
   "outputs": [],
   "source": [
    "table(groupiso)"
   ]
  },
  {
   "cell_type": "code",
   "execution_count": null,
   "metadata": {},
   "outputs": [],
   "source": [
    "length(groupiso)\n",
    "dim(merged_se.jc.inc)"
   ]
  },
  {
   "cell_type": "code",
   "execution_count": null,
   "metadata": {},
   "outputs": [],
   "source": [
    "if (!(\"DGENormFactors.y.se.jc.inc.rds\" %in% list.files(\"../data\"))) {\n",
    "    y.se.jc.inc <- edgeR::DGEList(counts = merged_se.jc.inc, \n",
    "                                  group  = groupiso)\n",
    "    message(\"Done!\\n\")    \n",
    "    message(\"Calculating normalization factors on `DGEList` object to scale the raw library sizes with 'edgeR::DGEList()' ..\")    \n",
    "    y.se.jc.inc <- edgeR::calcNormFactors(y.se.jc.inc)\n",
    "    message(\"Done!\\n\")    \n",
    "    message(\"Saving normalization factors object in '../data/DGENormFactors.y.se.jc.inc.rds' ..\")        \n",
    "    saveRDS(y.se.jc.inc, file = \"../data/DGENormFactors.y.se.jc.inc.rds\")\n",
    "    message(\"Done!\\n\")    \n",
    "    message(\"Generating sha256sum for DGENormFactors.y.se.jc.inc.rds ..\\n\")    \n",
    "    message(system(\"sha256sum ../data/DGENormFactors.y.se.jc.inc.rds\", intern = TRUE))\n",
    "    message(\"Done!\\n\")\n",
    "}\n",
    "\n",
    "attributes(y.se.jc.inc)"
   ]
  },
  {
   "cell_type": "code",
   "execution_count": null,
   "metadata": {},
   "outputs": [],
   "source": [
    "dim(y.se.jc.inc)"
   ]
  },
  {
   "cell_type": "markdown",
   "metadata": {},
   "source": [
    "The challenge with the `inc` number is that it is a calculated `percent spliced in or psi` number.  For the statistics, it is best to have counts - which is where the `ijc` and `sjc` numbers come in and can be used for the calculations.  Using the `psi` we should calculate by, say `1000` to do differental analysis on expected count data and treat it as an integer"
   ]
  },
  {
   "cell_type": "code",
   "execution_count": null,
   "metadata": {},
   "outputs": [],
   "source": [
    "y.se.jc.inc_as_counts = y.se.jc.inc"
   ]
  },
  {
   "cell_type": "code",
   "execution_count": null,
   "metadata": {},
   "outputs": [],
   "source": [
    "y.se.jc.inc_as_counts$counts <- y.se.jc.inc$counts * 1000"
   ]
  },
  {
   "cell_type": "code",
   "execution_count": null,
   "metadata": {},
   "outputs": [],
   "source": [
    "mode(y.se.jc.inc_as_counts$counts) <- \"integer\""
   ]
  },
  {
   "cell_type": "code",
   "execution_count": null,
   "metadata": {},
   "outputs": [],
   "source": [
    "dim(y.se.jc.inc_as_counts$counts)"
   ]
  },
  {
   "cell_type": "code",
   "execution_count": null,
   "metadata": {},
   "outputs": [],
   "source": [
    "# For Guy -- does this do what you are expecting -- I am confused because what you get when you\n",
    "#        ask for the min (table(groups)) is the smaller sized group -- which in this case is \n",
    "#        female -- it will help the reader to know what you are doing here with the statement.\n",
    "#        one can read what it is doing but not understand your objective.groups <- pData(obj)$SEX\n",
    "# keep.events <- rep(TRUE, nrow(y))\n",
    "# for (group in c(1,2)) {\n",
    "#    keep.events <- keep.events & \n",
    "#                   rowSums(cpm(y[,groups %in% group]) > 1) >= 0.25*min(table(groups))\n",
    "# }\n",
    "\n",
    "#  From Anne - I believe the objective in this step is to keep only those genes that are in the\n",
    "#    that are above the threshold of expression for the lower quartile of all sex specific genes.\n",
    "#    groups = (1,2) -- lots of confusion in logic between groups and group and male and female\n",
    "#    I recommend we use male and female.\n",
    "#    two errors then in the above loop - \n",
    "#     1. min(table(groups)) will always return the\n",
    "#        length of the number of samples that are female \n",
    "#        (which is 5978 for this v8 GTEx)\n",
    "#     2. sum(table(group)) will return the number of samples that are either male or female\n",
    "#        depending upon whether you are in the loop for male or female consideration.\n",
    "\n",
    "#    If my assumption is true - I recommend replacing it with the following.\n",
    "\n",
    "#  this should be replaced \n"
   ]
  },
  {
   "cell_type": "code",
   "execution_count": null,
   "metadata": {},
   "outputs": [],
   "source": [
    "keep.events <- rep(TRUE, nrow(y.se.jc.inc_as_counts))\n",
    "nrow(y.se.jc.inc_as_counts)\n",
    "\n",
    "#\n",
    "keep.events  <- keep.events & rowSums(edgeR::cpm(y.se.jc.inc_as_counts$counts[,groupiso == 1]) > 1) >= 0.25*length(groupiso==1)\n",
    "#\n",
    "# now keep all the male subsets or the female subsets meeting our criteria\n",
    "#\n",
    "keep.events2 <- keep.events | rowSums(edgeR::cpm(y.se.jc.inc_as_counts$counts[,groupiso == 2]) > 1) >= 0.25*length(groupiso==2)\n",
    "table(keep.events)\n",
    "table(keep.events2)"
   ]
  },
  {
   "cell_type": "code",
   "execution_count": null,
   "metadata": {},
   "outputs": [],
   "source": [
    "# Load with readRDS() if `../data/reduced_y.se.jc.inc_as_counts.rds` available in data/\n",
    "#if  ('reduced_y.se.jc.inc_as_counts.rds' %in% list.files(\"../data/\")){\n",
    "#    message(\"Loading  `reduced_y.rds` and  `reduced_obj` objects with `readRDS()` from ../data/ \\n\")    \n",
    "#    reduced_reduced_y.se.jc.inc_as_counts   <- readRDS(file = \"../data/reduced_reduced_y.se.jc.inc_as_counts.rds\")\n",
    "#    message(\"Done!\")    \n",
    "#}\n",
    "\n",
    "\n",
    "# Create if not available in ../data\n",
    "#if  (!('reduced_y.se.jc.inc_as_counts.rds' %in% list.files(\"../data/\"))) {\n",
    "\n",
    "    message(\"Creating `reduced_y.se.jc.inc_as_counts.rds` keeping only rows that match `keep.events2` list ..\")\n",
    "    reduced_y.se.jc.inc_as_counts<- y.se.jc.inc_as_counts[keep.events2,]\n",
    "    message(\"Done!\\n\")    \n",
    "       \n",
    "    message(\"Saving `reduced_y.se.jc.inc_as_counts.rds` in ../data/\")        \n",
    "    saveRDS(reduced_y.se.jc.inc_as_counts, file = \"../data/reduced_y.se.jc.inc_as_counts.rds\")\n",
    "    message(\"Done!\\n\")     \n",
    "#}\n",
    "\n",
    "dim(reduced_y.se.jc.inc_as_counts)"
   ]
  },
  {
   "cell_type": "markdown",
   "metadata": {},
   "source": [
    "# Separate the analysis by male and by female"
   ]
  },
  {
   "cell_type": "code",
   "execution_count": null,
   "metadata": {},
   "outputs": [],
   "source": [
    "dim(reduced_y.se.jc.inc_as_counts)\n",
    "dim(merged_rmats)"
   ]
  },
  {
   "cell_type": "code",
   "execution_count": null,
   "metadata": {},
   "outputs": [],
   "source": [
    "reorder_rmats_idx = match(colnames(reduced_y.se.jc.inc_as_counts), merged_rmats$Run)\n",
    "ordered_merged_rmats = merged_rmats[reorder_rmats_idx,]"
   ]
  },
  {
   "cell_type": "code",
   "execution_count": null,
   "metadata": {},
   "outputs": [],
   "source": [
    "male   <- ordered_merged_rmats$SEX==1\n",
    "female <- ordered_merged_rmats$SEX==2\n",
    "table(ordered_merged_rmats$SEX)\n",
    "table(male)\n",
    "table(female)\n",
    "ordered_merged_rmats_male   <- ordered_merged_rmats[male==TRUE,]\n",
    "ordered_merged_rmats_female <- ordered_merged_rmats[female==TRUE,]\n",
    "dim(ordered_merged_rmats_male)"
   ]
  },
  {
   "cell_type": "code",
   "execution_count": null,
   "metadata": {},
   "outputs": [],
   "source": [
    "# changing from SMTS to SMTSD - more granularity -- but we could produce both figures\n",
    "tissue_groupiso        <- factor(ordered_merged_rmats$SMTSD)\n",
    "tissue_groupiso_male   <- factor(ordered_merged_rmats_male$SMTSD)\n",
    "tissue_groupiso_female <- factor(ordered_merged_rmats_female$SMTSD)"
   ]
  },
  {
   "cell_type": "code",
   "execution_count": null,
   "metadata": {},
   "outputs": [],
   "source": [
    "# good sanity check, the male set does not have any vaginas or uterus\n",
    "table (tissue_groupiso_male)"
   ]
  },
  {
   "cell_type": "code",
   "execution_count": null,
   "metadata": {},
   "outputs": [],
   "source": [
    "# and the females have no prostate or testis\n",
    "table(tissue_groupiso_female)"
   ]
  },
  {
   "cell_type": "markdown",
   "metadata": {},
   "source": [
    "Reproducing previous results using the `yarn` expression object, loop through the tissues and for those tissues that are shared between the two sexes perform a differential gene analysis on a per tissue basis.\n"
   ]
  },
  {
   "cell_type": "code",
   "execution_count": null,
   "metadata": {},
   "outputs": [],
   "source": [
    "tissue_male_female <- tissue_groupiso_male %in% tissue_groupiso_female\n",
    "table(tissue_male_female)"
   ]
  },
  {
   "cell_type": "code",
   "execution_count": null,
   "metadata": {},
   "outputs": [],
   "source": [
    "tissue_shared_male_female <- factor(tissue_groupiso_male[tissue_male_female==TRUE])\n",
    "table(tissue_shared_male_female)"
   ]
  },
  {
   "cell_type": "code",
   "execution_count": null,
   "metadata": {},
   "outputs": [],
   "source": [
    "# SEX is coded 1 == Male\n",
    "#              2 == Female\n",
    "sex = factor(ordered_merged_rmats$SEX)"
   ]
  },
  {
   "cell_type": "markdown",
   "metadata": {},
   "source": [
    "Let's now define a function named `fit_tissue()`that accepts two arguments, the `tissue` and an `object` and create the **model matrix** based  that tissue's sex. We will perform a linear fit after calculating normal factors (based on the library size) and calculate the dispersion using `{voom}` (mean variance model of dispersion). We are saving the resulting matrixes as files.\n"
   ]
  },
  {
   "cell_type": "markdown",
   "metadata": {},
   "source": [
    "## rMATS RNASeq-MATS.py produces 10 different output types which get assembled into as type junction ID by sample ID matrices\n",
    "\n",
    "### Alternative Splice Site Types are: (se, a3ss, a5ss, mxe, ri)\n",
    "\n",
    " This is input as ARGV1 into variable 'astype'\n",
    "\n",
    "  * Skipped Exon events (se),\n",
    "  * Alternative 3' splice site (a3ss),\n",
    "  * Alternative 5' splice site (a5ss),\n",
    "  * Mutually exclusive exon (mxe),\n",
    "  * and retention intron (ri)\n",
    "\n",
    "### There are two different kinds of junction counts\n",
    "\n",
    "  * jc = junction counts - reads that cross the junction\n",
    "  * jcec = junction counts plus reads on the target (such as included exon\n",
    "\n",
    "### And the count type -- there are 5 types\n",
    "\n",
    "  * inclusion levels (percent spliced in)\n",
    "  * included junction counts (ijc)\n",
    "  * skipped junction counts (sjc)\n",
    "  * inclusion length (inclen)\n",
    "  * skipped length (skiplen)\n",
    "\n",
    "### function: fit_iso_tissue \n",
    "\n",
    "fit_iso_tissue expects the following input:\n",
    "\n",
    "  * the tissue of interest (SMSTD) \n",
    "  * an ordered_merged_rmats -- which will be ordered to fit the count matrix\n",
    "  * count matrix (inc or ijc & sjc merged)\n",
    "  * splice type (a3ss, a5ss, mxe, ri or se)\n",
    "  * junction_count type (jc or jcec)\n",
    "  * count type (inc or the merged ijc,sjc)\n",
    "  \n",
    "### reordering to match annotations between count matrix and annotation matrix\n",
    "\n",
    "Common problem is to match specifically the rows of an annotation matrix with the columns of a count matrix\n",
    "`match` is the function that gives the re-ordering index required to accomplish this\n",
    "\n",
    "  "
   ]
  },
  {
   "cell_type": "code",
   "execution_count": null,
   "metadata": {},
   "outputs": [],
   "source": [
    "fit_iso_tissue <- function (tissue, merged_rmats, counts, pVal, logFC, splice_type, junction_count, count_type) {\n",
    "    tissue_true    <- merged_rmats$SMTSD == tissue\n",
    "    tissue_obj     <- merged_rmats[tissue_true ==TRUE,]\n",
    "    tissue_counts  <- counts[, tissue_true == TRUE]\n",
    "    tissue_sex     <- factor(tissue_obj$SEX)\n",
    "    tissue_design  <- model.matrix(~tissue_sex)\n",
    "    y_tissue       <- DGEList(counts=tissue_counts, group=tissue_sex)\n",
    "    y_tissue       <- calcNormFactors(y_tissue)\n",
    "    y_tissue_voom  <- voom(y_tissue, tissue_design)\n",
    "    fit_tissue     <- lmFit(y_tissue_voom, tissue_design)\n",
    "    fit_tissue     <- eBayes(fit_tissue, robust=TRUE)\n",
    "    results_tissue <- topTable (fit_tissue, coef='tissue_sex2', number=nrow(y_tissue))\n",
    "\n",
    "    refined_filename = paste(paste(paste(paste(paste(paste(paste(\"../data\",gsub(\" \",\"\",tissue), sep=\"/\"),\n",
    "                                                                        splice_type,sep=\"_\"),\n",
    "                                                                     junction_count,sep=\"_\"),\n",
    "                                                                         count_type,sep=\"_\"),\n",
    "                                                                               pVal,sep=\"_\"),\n",
    "                                                                              logFC,sep=\"_\"),\n",
    "                                                                          \"DGE.csv\",sep=\"_\")\n",
    "\n",
    "    filename         = paste(paste(paste(paste(paste(\"../data\",gsub(\" \",\"\",tissue), sep=\"/\"),\n",
    "                                                                     splice_type   ,sep=\"_\"),\n",
    "                                                                     junction_count,sep=\"_\"),\n",
    "                                                                         count_type,sep=\"_\"),\n",
    "                                                                          \"DGE.csv\",sep=\"_\")\n",
    "    \n",
    "    refined_filenameGenes = paste(paste(paste(paste(paste(paste(paste(\"../data\",gsub(\" \",\"\",tissue), sep=\"/\"),\n",
    "                                                                        splice_type,sep=\"_\"),\n",
    "                                                                     junction_count,sep=\"_\"),\n",
    "                                                                         count_type,sep=\"_\"),\n",
    "                                                                               pVal,sep=\"_\"),\n",
    "                                                                              logFC,sep=\"_\"),\n",
    "                                                                    \"all_genes.csv\",sep=\"_\")\n",
    " \n",
    "    refined_results_tissue <- results_tissue[results_tissue$adj.P.Val<=pVal & abs(results_tissue$logFC)>=log2(logFC),]\n",
    "\n",
    "    write.table(results_tissue,                           filename,      sep=',', quote=FALSE)\n",
    "    write.table(refined_results_tissue,           refined_filename,      sep=',', quote=FALSE)\n",
    "    write.table(rownames(refined_results_tissue), refined_filenameGenes, sep=',', quote=FALSE)\n",
    "    \n",
    "    return (results_tissue)\n",
    "}"
   ]
  },
  {
   "cell_type": "code",
   "execution_count": null,
   "metadata": {},
   "outputs": [],
   "source": []
  },
  {
   "cell_type": "code",
   "execution_count": null,
   "metadata": {},
   "outputs": [],
   "source": [
    "tissues <- levels(tissue_shared_male_female)\n",
    "tissues\n",
    "length(tissues)"
   ]
  },
  {
   "cell_type": "code",
   "execution_count": null,
   "metadata": {},
   "outputs": [],
   "source": [
    "# debugging the function with using the 'Thyroid' tissue\n",
    "#thyroid_logFC <- fit_iso_tissue('Thyroid', ordered_merged_rmats,reduced_y.se.jc.inc_as_counts, \"se\", \"jc\",\"inc_as_counts\")\n",
    "#thyroid_logFC\n",
    "# \n",
    "all_se_jc_inc_logFC <- lapply(X              = tissues, \n",
    "                              FUN            = fit_iso_tissue,\n",
    "                              merged_rmats   = ordered_merged_rmats,\n",
    "                              counts         = reduced_y.se.jc.inc_as_counts,\n",
    "                              pVal           = 0.05,\n",
    "                              logFC          = 1.5,\n",
    "                              splice_type    = \"se\",\n",
    "                              junction_count = \"jc\",\n",
    "                              count_type     = \"inc_as_counts\")"
   ]
  },
  {
   "cell_type": "code",
   "execution_count": null,
   "metadata": {},
   "outputs": [],
   "source": []
  },
  {
   "cell_type": "code",
   "execution_count": null,
   "metadata": {},
   "outputs": [],
   "source": [
    "all_se_jcec_inc_logFC<- lapply(X             = tissues, \n",
    "                              FUN            = fit_iso_tissue,\n",
    "                              merged_rmats   = ordered_merged_rmats,\n",
    "                              counts         = reduced_y.se.jcec.inc_as_counts,\n",
    "                              pVal           = 0.05,\n",
    "                              logFC          = 1.5,\n",
    "                              splice_type    = \"se\",\n",
    "                              junction_count = \"jcec\",\n",
    "                              count_type     = \"inc_as_counts\")"
   ]
  },
  {
   "cell_type": "code",
   "execution_count": null,
   "metadata": {},
   "outputs": [],
   "source": [
    "all_ri_jc_inc_logFC <- lapply(X              = tissues, \n",
    "                              FUN            = fit_iso_tissue,\n",
    "                              merged_rmats   = ordered_merged_rmats,\n",
    "                              counts         = reduced_y.ri.jc.inc_as_counts,\n",
    "                              pVal           = 0.05,\n",
    "                              logFC          = 1.5,\n",
    "                              splice_type    = \"ri\",\n",
    "                              junction_count = \"jc\",\n",
    "                              count_type     = \"inc_as_counts\")\n"
   ]
  },
  {
   "cell_type": "code",
   "execution_count": null,
   "metadata": {},
   "outputs": [],
   "source": [
    "all_ri_jcec_inc_logFC<- lapply(X             = tissues, \n",
    "                              FUN            = fit_iso_tissue,\n",
    "                              merged_rmats   = ordered_merged_rmats,\n",
    "                              counts         = reduced_y.ri.jcec.inc_as_counts,\n",
    "                              pVal           = 0.05,\n",
    "                              logFC          = 1.5,\n",
    "                              splice_type    = \"ri\",\n",
    "                              junction_count = \"jcec\",\n",
    "                              count_type     = \"inc_as_counts\")"
   ]
  },
  {
   "cell_type": "code",
   "execution_count": null,
   "metadata": {},
   "outputs": [],
   "source": [
    "all_mxe_jc_inc_logFC <- lapply(X             = tissues, \n",
    "                              FUN            = fit_iso_tissue,\n",
    "                              merged_rmats   = ordered_merged_rmats,\n",
    "                              counts         = reduced_y.mxe.jc.inc_as_counts,\n",
    "                              pVal           = 0.05,\n",
    "                              logFC          = 1.5,\n",
    "                              splice_type    = \"mxe\",\n",
    "                              junction_count = \"jc\",\n",
    "                              count_type     = \"inc_as_counts\")\n"
   ]
  },
  {
   "cell_type": "code",
   "execution_count": null,
   "metadata": {},
   "outputs": [],
   "source": [
    "all_mxe_jcec_inc_logFC<- lapply(X            = tissues, \n",
    "                              FUN            = fit_iso_tissue,\n",
    "                              merged_rmats   = ordered_merged_rmats,\n",
    "                              counts         = reduced_y.mxe.jcec.inc_as_counts,\n",
    "                              pVal           = 0.05,\n",
    "                              logFC          = 1.5,\n",
    "                              splice_type    = \"mxe\",\n",
    "                              junction_count = \"jcec\",\n",
    "                              count_type     = \"inc_as_counts\")"
   ]
  },
  {
   "cell_type": "code",
   "execution_count": null,
   "metadata": {},
   "outputs": [],
   "source": [
    "\n",
    "all_a3ss_jc_inc_logFC  <- lapply(X           = tissues, \n",
    "                              FUN            = fit_iso_tissue,\n",
    "                              merged_rmats   = ordered_merged_rmats,\n",
    "                              counts         = reduced_y.a3ss.jc.inc_as_counts,\n",
    "                              pVal           = 0.05,\n",
    "                              logFC          = 1.5,\n",
    "                              splice_type    = \"a3ss\",\n",
    "                              junction_count = \"jc\",\n",
    "                              count_type     = \"inc_as_counts\")"
   ]
  },
  {
   "cell_type": "code",
   "execution_count": null,
   "metadata": {},
   "outputs": [],
   "source": [
    "all_a3ss_jcec_inc_logFC<- lapply(X           = tissues, \n",
    "                              FUN            = fit_iso_tissue,\n",
    "                              merged_rmats   = ordered_merged_rmats,\n",
    "                              counts         = reduced_y.a3ss.jcec.inc_as_counts,\n",
    "                              pVal           = 0.05,\n",
    "                              logFC          = 1.5,\n",
    "                              splice_type    = \"a3ss\",\n",
    "                              junction_count = \"jcec\",\n",
    "                              count_type     = \"inc_as_counts\")"
   ]
  },
  {
   "cell_type": "code",
   "execution_count": null,
   "metadata": {},
   "outputs": [],
   "source": [
    "all_a5ss_jc_inc_logFC  <- lapply(X           = tissues, \n",
    "                              FUN            = fit_iso_tissue,\n",
    "                              merged_rmats   = ordered_merged_rmats,\n",
    "                              counts         = reduced_y.a5ss.jc.inc_as_counts,\n",
    "                              pVal           = 0.05,\n",
    "                              logFC          = 1.5,\n",
    "                              splice_type    = \"a5ss\",\n",
    "                              junction_count = \"jc\",\n",
    "                              count_type     = \"inc_as_counts\")"
   ]
  },
  {
   "cell_type": "code",
   "execution_count": null,
   "metadata": {},
   "outputs": [],
   "source": [
    "all_a5ss_jcec_inc_logFC<- lapply(X           = tissues, \n",
    "                              FUN            = fit_iso_tissue,\n",
    "                              merged_rmats   = ordered_merged_rmats,\n",
    "                              counts         = reduced_y.a5ss.jcec.inc_as_counts,\n",
    "                              pVal           = 0.05,\n",
    "                              logFC          = 1.5,\n",
    "                              splice_type    = \"a5ss\",\n",
    "                              junction_count = \"jcec\",\n",
    "                              count_type     = \"inc_as_counts\")"
   ]
  },
  {
   "cell_type": "code",
   "execution_count": null,
   "metadata": {},
   "outputs": [],
   "source": [
    "length(all_se_jc_inc_logFC)"
   ]
  },
  {
   "cell_type": "code",
   "execution_count": null,
   "metadata": {},
   "outputs": [],
   "source": [
    "filenames <- list.files(\"../data\", pattern=\"*_as_counts_DGE.csv\", all.files=FALSE, full.names=TRUE)\n",
    "length(filenames)\n",
    "# preserve the ordered rownames for later assignment to matrix\n",
    "fullfilename <-filenames[1]\n",
    "all_se_jc_inc_logFC_mat    <- read.csv(fullfilename)\n",
    "all_se_jc_inc_logFC_mat    <- all_se_jc_inc_logFC_mat[order(rownames(all_se_jc_inc_logFC_mat)),]\n",
    "all_se_jc_inc_logFC_mat_rownames <- as.character(rownames(all_se_jc_inc_logFC_mat)) \n",
    "head(all_se_jc_inc_logFC_mat_rownames)"
   ]
  },
  {
   "cell_type": "markdown",
   "metadata": {},
   "source": [
    "## Make a matrix for a heat map of the more stringent cutoff values\n",
    "We have the set of files with more stringent cutoffs (pVal = 0.05 and absolute log Fold Change > 1.5).  However, the most significant expression values will be different depending upon the tissue, we need to build the matrix populating with values for genes already seen (as encoded by the first column) as well as for those not seen."
   ]
  },
  {
   "cell_type": "code",
   "execution_count": null,
   "metadata": {},
   "outputs": [],
   "source": [
    "# The easiest way to get dplyr is to install the whole tidyverse:\n",
    "require(dplyr)\n",
    "remove.packages(c(\"plyr\"))"
   ]
  },
  {
   "cell_type": "code",
   "execution_count": null,
   "metadata": {},
   "outputs": [],
   "source": [
    "#remove.packages(\"dplyr\")\n",
    "#remove.packages(\"tidyverse\")\n",
    "install.packages(\"tidyverse\")\n",
    "library(tidyverse)\n",
    "require(tidyverse)\n"
   ]
  },
  {
   "cell_type": "code",
   "execution_count": null,
   "metadata": {},
   "outputs": [],
   "source": [
    "# make a matrix of all the samples add a column to reflect tissue\n",
    "p0.05_1.5_DGE_filenames <- list.files(\"../data\", pattern=\"*0.05_1.5_DGE.csv\", all.files=FALSE, full.names=TRUE)\n",
    "length(p0.05_1.5_DGE_filenames)\n",
    "# preserve the ordered rownames for later assignment to matrix\n",
    "t1 <- read.csv(p0.05_1.5_DGE_filenames[1])\n",
    "t1rownames <- as.character(rownames(t1))\n",
    "t1$ID <- t1rownames\n",
    "t2 <- read.csv(p0.05_1.5_DGE_filenames[2])\n",
    "t2rownames <- as.character(rownames(t2))\n",
    "t2$ID <- t2rownames\n",
    "head(t1)\n",
    "head(t2)\n"
   ]
  },
  {
   "cell_type": "code",
   "execution_count": null,
   "metadata": {},
   "outputs": [],
   "source": [
    "t1t2 <- dplyr::full_join(t1,t2, by = (\"ID\"))\n",
    "head (t1t2)"
   ]
  },
  {
   "cell_type": "code",
   "execution_count": null,
   "metadata": {},
   "outputs": [],
   "source": [
    "# Make a matrix for each of the tissues\n",
    "# from what files are saved\n",
    "\n",
    "make_tissue_matrix_ready <- function (file, logFC_mat) {\n",
    "    filename        <- paste('../data',file,sep=\"/\")\n",
    "    logFC_mat       <- read.csv(filename)\n",
    "    logFC_mat       <- logFC_mat[order(rownames(logFC_mat)),]\n",
    "    logFC           <- as.matrix(as.numeric(logFC_mat$logFC),ncol=1)\n",
    "    rownames(logFC) <- rownames(logFC_mat)\n",
    "    return(logFC)\n",
    "}"
   ]
  },
  {
   "cell_type": "code",
   "execution_count": null,
   "metadata": {},
   "outputs": [],
   "source": [
    "\n",
    "matrix_list <- lapply(                     X  = filenames, \n",
    "                                          FUN = make_tissue_matrix_ready, \n",
    "                                    logFC_mat = all_se_jc_inc_logFC)\n",
    "length(matrix_list)\n"
   ]
  },
  {
   "cell_type": "code",
   "execution_count": null,
   "metadata": {},
   "outputs": [],
   "source": [
    "length(matrix_list)\n",
    "all_se_jc_inc_logFC_mat = as.matrix(lapply(X   = matrix_list, \n",
    "                                           FUN = cbind),\n",
    "                                          nrow = dim(ordered_merged_rmats)[2], \n",
    "                                          ncol = length(matrix_list))\n",
    "length(all_se_jc_inc_logFC_mat)"
   ]
  },
  {
   "cell_type": "code",
   "execution_count": null,
   "metadata": {},
   "outputs": [],
   "source": [
    "head(all_se_jc_inc_logFC)\n"
   ]
  },
  {
   "cell_type": "code",
   "execution_count": null,
   "metadata": {},
   "outputs": [],
   "source": [
    "head(tissue_shared_male_female)\n",
    "tissue <- str_replace(tissue_shared_male_female,'_DGE.txt','')\n",
    "head(tissue)"
   ]
  },
  {
   "cell_type": "code",
   "execution_count": null,
   "metadata": {},
   "outputs": [],
   "source": [
    "get_tissue_name <- function (tissue_name) {\n",
    "            tissue <- str_replace(tissue_name,'_DGE.csv','')\n",
    "            return(tissue)\n",
    "}"
   ]
  },
  {
   "cell_type": "code",
   "execution_count": null,
   "metadata": {},
   "outputs": [],
   "source": [
    "tissue_list <- lapply(X=levels(tissue_shared_male_female), FUN=get_tissue_name)\n",
    "length(tissue_list)\n",
    "head(tissue_list)"
   ]
  },
  {
   "cell_type": "markdown",
   "metadata": {},
   "source": [
    "Using the matrix_list - create a matrix for calculation of tissue comparisons"
   ]
  },
  {
   "cell_type": "code",
   "execution_count": null,
   "metadata": {},
   "outputs": [],
   "source": [
    "length(unlist(matrix_list[1]))\n",
    "length(unlist(matrix_list[2]))"
   ]
  },
  {
   "cell_type": "code",
   "execution_count": null,
   "metadata": {},
   "outputs": [],
   "source": [
    "all_se_jc_inc_logFC_mat = as.matrix(as.numeric(unlist(matrix_list[1]), ncol=1))\n",
    "for (i in (2:length(matrix_list))) {\n",
    "    n = as.matrix(as.numeric(unlist(matrix_list[i]), ncol=1))\n",
    "    all_se_jc_inc_logFC_mat = cbind(all_se_jc_inc_logFC_mat, n)\n",
    "}\n",
    "\n",
    "dim(all_se_jc_inc_logFC_mat)\n",
    "rownames(all_se_jc_inc_logFC_mat) = all_se_jc_inc_logFC_mat_rownames\n",
    "colnames(all_se_jc_inc_logFC_mat) = tissue_list\n",
    "head(all_se_jc_inc_logFC_mat)"
   ]
  },
  {
   "cell_type": "code",
   "execution_count": null,
   "metadata": {},
   "outputs": [],
   "source": [
    "dim(all_se_jc_inc_logFC_mat)"
   ]
  },
  {
   "cell_type": "code",
   "execution_count": null,
   "metadata": {},
   "outputs": [],
   "source": [
    "length(tissue_list)"
   ]
  },
  {
   "cell_type": "markdown",
   "metadata": {},
   "source": [
    "With the rmats PSI or se.inc.jc results, are expressed as percentages, there is no need to further further normalize "
   ]
  },
  {
   "cell_type": "code",
   "execution_count": null,
   "metadata": {},
   "outputs": [],
   "source": [
    "all_se_jc_inc_dist_mat <- as.matrix(cor(all_se_jc_inc_logFC_mat))"
   ]
  },
  {
   "cell_type": "code",
   "execution_count": null,
   "metadata": {},
   "outputs": [],
   "source": [
    "head(all_se_jc_inc_dist_mat)"
   ]
  },
  {
   "cell_type": "code",
   "execution_count": null,
   "metadata": {},
   "outputs": [],
   "source": [
    "rownames(all_se_jc_inc_dist_mat) <- colnames(all_se_jc_inc_logFC_mat)\n",
    "colnames(all_se_jc_inc_dist_mat) <- colnames(all_se_jc_inc_logFC_mat)\n",
    "\n",
    "message(\"Saving all_se_jc_inc_dist_mat object\")\n",
    "saveRDS(object = all_se_jc_inc_dist_mat, file = \"../data/all_se_jc_inc_dist_mat.rds\")\n",
    "message(\"Done!\")"
   ]
  },
  {
   "cell_type": "code",
   "execution_count": null,
   "metadata": {},
   "outputs": [],
   "source": [
    "library(pheatmap)\n",
    "pheatmap(as.matrix(all_se_jc_inc_dist_mat),   fontsize = 6)\n",
    "hm.parameters <- list(all_se_jc_inc_dist_mat, fontsize = 6)\n",
    "do.call(\"pheatmap\", c(hm.parameters,  filename=\"../pdf/Figure1cwithrMATS.all_se_jc_inc_PSI.values.pdf\"))"
   ]
  },
  {
   "cell_type": "code",
   "execution_count": null,
   "metadata": {},
   "outputs": [],
   "source": []
  },
  {
   "cell_type": "markdown",
   "metadata": {},
   "source": [
    "## Metadata\n",
    "\n",
    "For replicability and reproducibility purposes, we also print the following metadata:\n",
    "\n",
    "1. Checksums of **'artefacts'**, files generated during the analysis and stored in the folder directory **`data`**\n",
    "2. List of environment metadata, dependencies, versions of libraries using `utils::sessionInfo()` and [`devtools::session_info()`](https://devtools.r-lib.org/reference/session_info.html)"
   ]
  },
  {
   "cell_type": "markdown",
   "metadata": {},
   "source": [
    "### 1. Checksums with the sha256 algorithm"
   ]
  },
  {
   "cell_type": "code",
   "execution_count": null,
   "metadata": {},
   "outputs": [],
   "source": [
    "figure_id   = \"DEFigurewithrMATS\"\n",
    "\n",
    "message(\"Generating sha256 checksums of the artefacts in the `..data/` directory .. \")\n",
    "system(paste0(\"cd ../data && find . -type f -exec sha256sum {} \\\\;  >  ../metadata/\", figure_id, \"_sha256sums.txt\"), intern = TRUE)\n",
    "message(\"Done!\\n\")\n",
    "\n",
    "data.table::fread(paste0(\"../metadata/\", figure_id, \"_sha256sums.txt\"), header = FALSE, col.names = c(\"sha256sum\", \"file\"))"
   ]
  },
  {
   "cell_type": "markdown",
   "metadata": {},
   "source": [
    "### 2. Libraries metadata"
   ]
  },
  {
   "cell_type": "code",
   "execution_count": null,
   "metadata": {},
   "outputs": [],
   "source": [
    "dev_session_info   <- devtools::session_info()\n",
    "utils_session_info <- utils::sessionInfo()\n",
    "\n",
    "message(\"Saving `devtools::session_info()` objects in ../metadata/devtools_session_info.rds  ..\")\n",
    "saveRDS(dev_session_info, file = paste0(\"../metadata/\", figure_id, \"_devtools_session_info.rds\"))\n",
    "message(\"Done!\\n\")\n",
    "\n",
    "message(\"Saving `utils::sessionInfo()` objects in ../metadata/utils_session_info.rds  ..\")\n",
    "saveRDS(utils_session_info, file = paste0(\"../metadata/\", figure_id ,\"_utils_info.rds\"))\n",
    "message(\"Done!\\n\")\n",
    "\n",
    "dev_session_info$platform\n",
    "dev_session_info$packages[dev_session_info$packages$attached==TRUE, ]"
   ]
  }
 ],
 "metadata": {
  "kernelspec": {
   "display_name": "R",
   "language": "R",
   "name": "ir"
  },
  "language_info": {
   "codemirror_mode": "r",
   "file_extension": ".r",
   "mimetype": "text/x-r-source",
   "name": "R",
   "pygments_lexer": "r",
   "version": "3.6.1"
  }
 },
 "nbformat": 4,
 "nbformat_minor": 4
}
