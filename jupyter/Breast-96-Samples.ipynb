{
 "cells": [
  {
   "cell_type": "markdown",
   "metadata": {},
   "source": [
    "# Breast-96-Samples.R as a Notebook \n",
    "\n",
    "rMATS 3.2.5 was run on controlled access RNASeq files retrieved experiments stored in the Sequence Read Archive with controlled access managed by dbGaP.   The data were generated under the Gene Tissue Expression.\n",
    "\n",
    "## rMATS RNASeq-MATS.py produces 10 different output types which get assembled into as type junction ID by sample ID matrices\n",
    "\n",
    "### Alternative Splice Site Types are: (se, a3ss, a5ss, mxe, ri)\n",
    "\n",
    " This is input as ARGV1 into variable 'astype'\n",
    "\n",
    "  * Skipped Exon events (se),\n",
    "  * Alternative 3' splice site (a3ss),\n",
    "  * Alternative 5' splice site (a5ss),\n",
    "  * Mutually exclusive exon (mxe),\n",
    "  * and retention intron (ri)\n",
    "\n",
    "### There are two different kinds of junction counts\n",
    "\n",
    "  * jc = junction counts - reads that cross the junction\n",
    "  * jcec = junction counts plus reads on the target (such as included exon\n",
    "\n",
    "### And the count type -- there are 5 types\n",
    "\n",
    "  * inclusion levels (percent spliced in)\n",
    "  * included junction counts (ijc)\n",
    "  * skipped junction counts (sjc)\n",
    "  * inclusion length (inclen)\n",
    "  * skipped length (skiplen)\n",
    "\n",
    "### function: fit_iso_tissue \n",
    "\n",
    "fit_iso_tissue expects the following input:\n",
    "\n",
    "  * the tissue of interest (SMSTD) \n",
    "  * an ordered_merged_rmats -- which will be ordered to fit the count matrix\n",
    "  * count matrix (inc or ijc & sjc merged)\n",
    "  * splice type (a3ss, a5ss, mxe, ri or se)\n",
    "  * junction_count type (jc or jcec)\n",
    "  * count type (inc or the merged ijc,sjc)\n",
    "  \n",
    "### reordering to match annotations between count matrix and annotation matrix\n",
    "\n",
    "Common problem is to match specifically the rows of an annotation matrix with the columns of a count matrix\n",
    "`match` is the function that gives the re-ordering index required to accomplish this\n"
   ]
  },
  {
   "cell_type": "markdown",
   "metadata": {},
   "source": [
    "## **NOTE**:\n",
    "\n",
    "We assume that you have cloned the analysis repository and have `cd` into the parent directory. Before starting with the analysis make sure you have first completed the dependencies set up by following the instructions described in the **`dependencies/README.md`** document. All paths defined in this Notebook are relative to the parent directory (repository). Please close this Notebook and start again by following the above guidelines if you have not completed the aforementioned steps.\n",
    "\n",
    "## rMATS-final-merged\n",
    "the rmats-nf NextFlow was executed and the results released here:"
   ]
  },
  {
   "cell_type": "markdown",
   "metadata": {},
   "source": [
    "## Loading dependencies"
   ]
  },
  {
   "cell_type": "code",
   "execution_count": null,
   "metadata": {},
   "outputs": [],
   "source": [
    "library(limma)\n",
    "library(multtest)\n",
    "library(Biobase)\n",
    "library(edgeR)\n",
    "library(tibble)\n",
    "install.packages('R.utils')\n",
    "library(R.utils)"
   ]
  },
  {
   "cell_type": "markdown",
   "metadata": {},
   "source": [
    "## Modeling\n",
    "\n",
    "This analysis uses edgeR.  From the documentation, it is important to note that normalization takes the form of correction factors that enter into the statistical model. Such correction factors are usually computed internally by edgeR functions, but it is also possible for a user to supply them. The correction factors may take the form of scaling factors for the library sizes, such as computed by calcNormFactors, which are then used to compute the effective library sizes. \n",
    "\n",
    "Alternatively, gene-specific correction factors can be entered into the glm functions of edgeR as offsets. In the latter case, the offset matrix will be assumed to account for all normalization issues, including sequencing depth and RNA composition.\n",
    "\n",
    "Note that normalization in edgeR is model-based, and the original read counts are not themselves transformed. This means that users should not transform the read counts in any way before inputing them to edgeR. For example, users should not enter RPKM or FPKM val- ues to edgeR in place of read counts. Such quantities will prevent edgeR from correctly estimating the mean-variance relationship in the data, which is a crucial to the statistical strategies underlying edgeR. Similarly, users should not add artificial values to the counts before inputing them to edgeR.\n",
    "\n",
    "edgeR is not designed to work with estimated expression levels, for example as might be output by Cufflinks. \n",
    "edgeR can work with expected counts as output by RSEM, but raw counts are still preferred. \n",
    "\n",
    "As instructed by the software, we are using the raw counts as provided by rMATS.  The raw counts we are using in the model are `ijc` and `sjc`, the sample specific raw read counts as they align to the junctions of the `included exon (ijc)` and the junctions of the `excluded or skipped exon (sjc)` respectively.\n",
    "\n"
   ]
  },
  {
   "cell_type": "code",
   "execution_count": null,
   "metadata": {},
   "outputs": [],
   "source": [
    "ijc.iso.counts.mem <- data.table::fread(\"../data/rmats_final.se.jc.ijc.txt.gz\") \n",
    "sjc.iso.counts.mem <- data.table::fread(\"../data/rmats_final.se.jc.sjc.txt.gz\") \n",
    "inc.iso.counts.mem <- data.table::fread(\"../data/rmats_final.se.jc.inc.txt.gz\")\n",
    "\n",
    "meta.data<-read.csv('../data/SraRunTable.noCram.noExome.noWGS.totalRNA.txt',header=TRUE, stringsAsFactors=FALSE)\n",
    "head(ijc.iso.counts.mem)\n",
    "head(sjc.iso.counts.mem)\n",
    "head(inc.iso.counts.mem)\n",
    "head(meta.data)"
   ]
  },
  {
   "cell_type": "markdown",
   "metadata": {},
   "source": [
    "## Synchronize metadata samples with ijc, sjc and inc samples\n",
    "\n",
    "Keep only the runs that are in the ijc count list (assuming ijc and sjc are the same).  As well, name the rows with the junction id column and then make the matrix just about the counts."
   ]
  },
  {
   "cell_type": "code",
   "execution_count": null,
   "metadata": {},
   "outputs": [],
   "source": [
    "#dimensions before we make the changes.\n",
    "dim(ijc.iso.counts.mem)\n",
    "dim(sjc.iso.counts.mem)\n",
    "dim(inc.iso.counts.mem)\n",
    "dim(meta.data)\n",
    "\n",
    "# the sample names are in the columns of both the ijc and the sjc matrices, these matrices have the identical column order)\n",
    "keep.meta.data <- meta.data$Run %in% colnames(ijc.iso.counts.mem)\n",
    "table(keep.meta.data)\n",
    "reduced.meta.data <- meta.data[keep.meta.data==TRUE,]"
   ]
  },
  {
   "cell_type": "markdown",
   "metadata": {},
   "source": [
    "## Construct the ijc, sjc and inc as data matrices\n",
    "The Junction ID is encoded in the first column of the matrix.  We need to both preserve it (and it is unique) as well as remove it so we may do our calculations."
   ]
  },
  {
   "cell_type": "code",
   "execution_count": null,
   "metadata": {},
   "outputs": [],
   "source": [
    "# preserve junction id as rowname\n",
    "rownames(ijc.iso.counts.mem) <- ijc.iso.counts.mem$ID\n",
    "rownames(sjc.iso.counts.mem) <- sjc.iso.counts.mem$ID\n",
    "rownames(inc.iso.counts.mem) <- inc.iso.counts.mem$ID\n",
    "\n",
    "# and remove the id to have a data matrix\n",
    "ijc.iso.counts.mem  <- ijc.iso.counts.mem[,-1]\n",
    "sjc.iso.counts.mem  <- sjc.iso.counts.mem[,-1]\n",
    "inc.iso.counts.mem  <- inc.iso.counts.mem[,-1]\n",
    "dim(ijc.iso.counts.mem)\n",
    "dim(sjc.iso.counts.mem)\n",
    "dim(inc.iso.counts.mem)\n",
    "dim(reduced.meta.data)"
   ]
  },
  {
   "cell_type": "markdown",
   "metadata": {},
   "source": [
    "## Order ijc and sjc columns in the same order as the metadata Run order\n",
    "\n",
    "Using tibble library, we can rearrange the columns as the column name.  "
   ]
  },
  {
   "cell_type": "code",
   "execution_count": null,
   "metadata": {},
   "outputs": [],
   "source": [
    "meta.data.run.names  <- as.character(reduced.meta.data$Run)\n",
    "ijc.iso.counts.mem2  <- as_tibble(ijc.iso.counts.mem)\n",
    "sjc.iso.counts.mem2  <- as_tibble(sjc.iso.counts.mem)\n",
    "inc.iso.counts.mem2  <- as_tibble(inc.iso.counts.mem)\n",
    "\n",
    "ijc.iso.counts.mem2  <- ijc.iso.counts.mem2[,c(meta.data.run.names)]\n",
    "sjc.iso.counts.mem2  <- sjc.iso.counts.mem2[,c(meta.data.run.names)]\n",
    "inc.iso.counts.mem2  <- inc.iso.counts.mem2[,c(meta.data.run.names)]"
   ]
  },
  {
   "cell_type": "markdown",
   "metadata": {},
   "source": [
    "Remove samples that match '11IL0' from the ijc, sjc and metadata files"
   ]
  },
  {
   "cell_type": "code",
   "execution_count": null,
   "metadata": {},
   "outputs": [],
   "source": [
    "keep.meta.data <- (!grepl('11ILO',reduced.meta.data$Sample.Name))\n",
    "table(keep.meta.data)\n",
    "ijc.iso.counts.mem2 <-ijc.iso.counts.mem2 [                    ,keep.meta.data==TRUE]\n",
    "sjc.iso.counts.mem2 <-sjc.iso.counts.mem2 [                    ,keep.meta.data==TRUE]\n",
    "inc.iso.counts.mem2 <-inc.iso.counts.mem2 [                    ,keep.meta.data==TRUE]\n",
    "reduced.meta.data   <-reduced.meta.data   [keep.meta.data==TRUE,                    ]\n",
    "dim(ijc.iso.counts.mem2)\n",
    "dim(sjc.iso.counts.mem2)\n",
    "dim(inc.iso.counts.mem2)"
   ]
  },
  {
   "cell_type": "markdown",
   "metadata": {},
   "source": [
    "### and focus on a single tissue"
   ]
  },
  {
   "cell_type": "code",
   "execution_count": null,
   "metadata": {},
   "outputs": [],
   "source": [
    "tissue <- reduced.meta.data$body_site %in% 'Breast - Mammary Tissue'\n",
    "table(tissue)\n",
    "\n",
    "ijc.iso.counts.mem2 <-ijc.iso.counts.mem2 [                    ,tissue==TRUE]\n",
    "sjc.iso.counts.mem2 <-sjc.iso.counts.mem2 [                    ,tissue==TRUE]\n",
    "inc.iso.counts.mem2 <-inc.iso.counts.mem2 [                    ,tissue==TRUE]\n",
    "reduced.meta.data   <-reduced.meta.data   [tissue==TRUE,                    ]\n",
    "dim(ijc.iso.counts.mem2)\n",
    "dim(sjc.iso.counts.mem2)\n",
    "dim(inc.iso.counts.mem2)"
   ]
  },
  {
   "cell_type": "markdown",
   "metadata": {},
   "source": [
    "## The Generalized linear model\n",
    "\n",
    "For each sample, we have ijc and sjc count data and demographics of gender.\n",
    "Our question is regarding the sex biased differences.\n",
    "For each junction we have 8,000 samples with these count data.   The way to think about the model is that we have in fact for all of these junctions, these are our co-variates in this global transcriptomic model. \n",
    "In our example, we have 42,611 non-zero junction IDs for the skipped exon event for breast-Mammary Tissue, 191 individuals.\n",
    "These are healthy individuals, and we are studying the impact of sex on the occurrence or non-occurance of specific alternative splicing events.   Giving us a matrix size of 191 samples by 85,222 measurements.   And we are interested in asking the question, what is the impact of sex on these splicing events.   These IJCs and SJCs are not independent.  In fact there is another layer of annotation, that is the gene.   Many of these junctions all belong to the same genomic location on the genome.\n",
    "\n",
    "And in fact, the specific events in terms of their presence or absence within a specific individual will help us to see these differences.\n",
    "\n",
    "191 x 85,222\n",
    "\n",
    "                gene1    ...  gene5000  gene1         gene5000\n",
    "Individual  Sex IJC1 IJC2 ... IJC42,611 SJC1 SJC2 ... SJC42,611"
   ]
  },
  {
   "cell_type": "code",
   "execution_count": null,
   "metadata": {},
   "outputs": [],
   "source": [
    "ijc <- as.data.frame(ijc.iso.counts.mem2)\n",
    "sjc <- as.data.frame(sjc.iso.counts.mem2)\n",
    "ijcrownames <- paste0(rownames(ijc),'-ijc')\n",
    "sjcrownames <- paste0(rownames(sjc),'-sjc')\n",
    "rownames(ijc) <- ijcrownames\n",
    "rownames(sjc) <- sjcrownames\n",
    "ijc[1:5,1:5]\n",
    "sjc[1:5,1:5]\n",
    "dim(ijc)\n",
    "dim(sjc)\n",
    "ijc <- data.matrix(ijc)\n",
    "sjc <- data.matrix(sjc)\n",
    "sex<-factor(reduced.meta.data$sex,levels=c('male','female'))\n",
    "table(sex)\n"
   ]
  },
  {
   "cell_type": "markdown",
   "metadata": {},
   "source": [
    "### Differential expression analysis\n",
    "\n",
    "Differential expression (DE) analysis was performd using voom (Law et al, 2014) to transform rMATS counts of aligned RNA-seq reads in exon skipping events (SE) with associated precision weights, followed by liniear modeling and emperical Bayes procedure using limma.   These counts are obtained from alignment of the RNA-seq reads to junctions involved in the event the exon is included shown as included junction counts (ijc), to junctions involved in the event the exon is excluded, shown as skipped junction counts (sjc).   In each tissue, the following linear regression model was used to detect sexually dimorphic gene expression:\n",
    "\n",
    "     y = B0 + B1 ijc + B2 sjc + B3 sex + B4 ijc * sjc * sex + epsilon\n",
    "     \n",
    "Where Y is the isoform expression; ijc is the count of the number of reads that align to an included exons junction (there are 2 per included exon), and sjc is the count of the number of reads that align to the junction that results when that exon is skipped (there is one per exon skipping event); sex denotes the reported sex of the subject."
   ]
  },
  {
   "cell_type": "code",
   "execution_count": null,
   "metadata": {},
   "outputs": [],
   "source": [
    "\n",
    "y <- DGEList(counts=ijc, group = sex)\n",
    "y <- calcNormFactors(y, method=\"upperquartile\")\n",
    "\n",
    "Gender <- substring(sex,1,1)\n",
    "plotMDS(y, labels=Gender, top=50, col=ifelse(Gender==\"m\",\"blue\",\"red\"), \n",
    "        gene.selection=\"common\")"
   ]
  },
  {
   "cell_type": "code",
   "execution_count": null,
   "metadata": {},
   "outputs": [],
   "source": [
    "design <- model.matrix( ~ sex + t(sjc))\n",
    "y_voom <- voom (y, design=design, plot = TRUE)"
   ]
  },
  {
   "cell_type": "code",
   "execution_count": null,
   "metadata": {},
   "outputs": [],
   "source": [
    "    tissue_sex     <- rsex\n",
    "    tissue_design  <- model.matrix(~tissue_sex)\n",
    "    y_tissue       <- DGEList(counts=y, group=tissue_sex)\n",
    "    y_tissue       <- calcNormFactors(y_tissue)\n",
    "    y_tissue_voom  <- voom(y_tissue, tissue_design, plot=TRUE)\n",
    "    fit_tissue     <- lmFit(y_tissue_voom, tissue_design)\n",
    "    fit_tissue     <- eBayes(fit_tissue)\n",
    "    results_tissue <- topTable (fit_tissue, coef='tissue_sexmale', number=nrow(y_tissue))\n",
    "    head(results_tissue)\n",
    "\n"
   ]
  },
  {
   "cell_type": "code",
   "execution_count": null,
   "metadata": {},
   "outputs": [],
   "source": [
    "\n",
    "filename      = paste(paste('../data/BreastMammaryTissue',collapse='.'),'.sex.isoform.se.txt',sep='')\n",
    "genesFilename = paste(paste('../data/BreastMammaryTissue',collapse='.'),'.sex.isoform.all_genes.txt',sep='')\n",
    "\n",
    "res.robust <- results_tissue$adj.P.Val <= 0.05 & abs(results_tissue$logFC) > 1.5\n",
    "table(res.robust)\n",
    "\n",
    "res.refined <- results_tissue[res.robust==TRUE,]\n",
    "\n",
    "#write.table(res.refined,          file=filename,      row.names = T, col.names = T, quote = F)\n",
    "\n",
    "r <- strsplit(rownames(res.refined),'-')\n",
    "head(r)\n",
    "length(r)\n",
    "\n",
    "#write.table(rownames(res.refined),file=genesFilename, row.names = T, col.names = T, quote = F)\n",
    "\n"
   ]
  },
  {
   "cell_type": "markdown",
   "metadata": {},
   "source": [
    "## Modeling \n",
    "\n"
   ]
  },
  {
   "cell_type": "code",
   "execution_count": null,
   "metadata": {},
   "outputs": [],
   "source": [
    "groups=c(paste0(reduced.meta.data$sex,'-sjc'),paste0(reduced.meta.data$sex,'-ijc'))\n",
    "table(groups)"
   ]
  },
  {
   "cell_type": "markdown",
   "metadata": {},
   "source": [
    "separate the matrices counts into male and female"
   ]
  },
  {
   "cell_type": "code",
   "execution_count": null,
   "metadata": {},
   "outputs": [],
   "source": [
    "ijc.counts.male   <- ijc.iso.counts.mem2 [,reduced.meta.data$sex=='male']\n",
    "ijc.counts.female <- ijc.iso.counts.mem2 [,reduced.meta.data$sex=='female']\n",
    "\n",
    "sjc.counts.male   <- sjc.iso.counts.mem2 [,reduced.meta.data$sex=='male']\n",
    "sjc.counts.female <- sjc.iso.counts.mem2 [,reduced.meta.data$sex=='female']\n",
    "\n",
    "inc.counts.male   <- inc.iso.counts.mem2 [,reduced.meta.data$sex=='male']\n",
    "inc.counts.female <- inc.iso.counts.mem2 [,reduced.meta.data$sex=='female']\n"
   ]
  },
  {
   "cell_type": "markdown",
   "metadata": {},
   "source": [
    "make the matrix, combining now the male and female counts - achieving a rearrangement count columns included counts male, female, followed by skiped counts male female\n",
    "rownames remain the junction id's which we will use later to resolve the genes from which these isoforms come."
   ]
  },
  {
   "cell_type": "code",
   "execution_count": null,
   "metadata": {},
   "outputs": [],
   "source": [
    "ijc.counts.mat           <- cbind(ijc.counts.male, ijc.counts.female)\n",
    "sjc.counts.mat           <- cbind(sjc.counts.male, sjc.counts.female)\n",
    "\n",
    "counts.mat               <- cbind(ijc.counts.male, ijc.counts.female, sjc.counts.male, sjc.counts.female)\n",
    "\n",
    "rownames(sjc.counts.mat) <- rownames(sjc.iso.counts.mem)\n",
    "rownames(ijc.counts.mat) <- rownames(ijc.iso.counts.mem2)\n",
    "rownames(counts.mat)     <- rownames(ijc.iso.counts.mem)"
   ]
  },
  {
   "cell_type": "code",
   "execution_count": null,
   "metadata": {},
   "outputs": [],
   "source": [
    "dim(inc.counts.male)\n",
    "dim(inc.counts.female)\n"
   ]
  },
  {
   "cell_type": "code",
   "execution_count": null,
   "metadata": {},
   "outputs": [],
   "source": [
    "inc.counts.mat <- data.matrix(inc.iso.counts.mem2)\n",
    "\n",
    "obj           <- reduced.meta.data\n",
    "sex           <- factor(reduced.meta.data$sex)\n",
    "table(sex)\n",
    "tissue_counts <- inc.counts.mat\n",
    "tissue_name   <- 'Breast - Mammary Tissue'\n",
    "head(tissue_counts)"
   ]
  },
  {
   "cell_type": "code",
   "execution_count": null,
   "metadata": {},
   "outputs": [],
   "source": [
    "#fit_tissue <- function (tissue_name, tissue, tissue_counts, sex) {\n",
    "#    tissue_true    <- pData(obj)$SMTSD == tissue\n",
    "#    tissue_obj     <- obj[,tissue_true ==TRUE]\n",
    "    tissue_sex     <- sex\n",
    "    tissue_design  <- model.matrix(~tissue_sex)\n",
    "    y_tissue       <- DGEList(counts=tissue_counts, group=tissue_sex)\n",
    "    y_tissue       <- calcNormFactors(y_tissue)\n",
    "    y_tissue_voom  <- voom(y_tissue, tissue_design, plot=TRUE)\n",
    "    fit_tissue     <- lmFit(y_tissue_voom, tissue_design)\n",
    "    fit_tissue     <- eBayes(fit_tissue)\n",
    "    results_tissue <- topTable (fit_tissue, coef='tissue_sexmale', number=nrow(y_tissue))\n",
    "    head(results_tissue)\n",
    "#    filename = paste(paste(\"../data\",gsub(\" \",\"\",tissue_name), sep=\"/\"),\"DGE.csv\", sep=\"_\")    \n",
    "#    write.table(results_tissue, filename, sep=',', quote=FALSE)\n",
    "#    return (results_tissue)\n",
    "#}"
   ]
  },
  {
   "cell_type": "markdown",
   "metadata": {},
   "source": [
    "## isoform\n",
    "Create an isoform, this will be used in the modeling.  The sum is equal to the total number of samples.   For each sample, they will be represented in each of the forms, so that the modeling could occur, it does make the assumption that there are at least 2 isoforms.   One that has representation as an isoform with includes reads on a specific junction, and one that is an isoform that excludes that particular junction.   This is an over simplification of what is an isoform.   But a useful technique for modeling for differential expression."
   ]
  },
  {
   "cell_type": "code",
   "execution_count": null,
   "metadata": {},
   "outputs": [],
   "source": [
    "isoform<-c(rep(1,ncol(ijc.counts.male)+ncol(ijc.counts.female)),rep(0,ncol(sjc.counts.male)+ncol(sjc.counts.female)))"
   ]
  },
  {
   "cell_type": "markdown",
   "metadata": {},
   "source": [
    "## sex\n",
    "Encode then in the matrix the sex values.   This will also be used for making the differential analysis model.  "
   ]
  },
  {
   "cell_type": "code",
   "execution_count": null,
   "metadata": {},
   "outputs": [],
   "source": [
    "sex<-c(rep(1,ncol(ijc.counts.male)),rep(0,ncol(ijc.counts.female)),rep(1,ncol(sjc.counts.male)),rep(0,ncol(sjc.counts.female)))"
   ]
  },
  {
   "cell_type": "markdown",
   "metadata": {},
   "source": [
    "## block - accounting for duplicate correlation\n",
    "\n",
    "The counts ijc and sjc are from the same sample and are two different measure that are tightly correlated.   We want to account for that.  In order to do this, we create a counts matrix, that keeps the inclusion junction counts (male and then female) separated by the skipped junction counts (male and then female). We calculate the normalization factors by just using one of the counts, so that we don't duplicate it -- this is done by first making the matrix wide -- so that the library count information is done just one per row.   And then repeating these normalization factors in such a way to allow them to be accounted for with the duplicateCorrelation function, which is made to do so when block is defined, which we have done so, matching exactly the design as stated here.  We have two counts closely related within one sample."
   ]
  },
  {
   "cell_type": "code",
   "execution_count": null,
   "metadata": {},
   "outputs": [],
   "source": [
    "block<-c(rep(1,c(ncol(ijc.counts.male)+ncol(ijc.counts.female))), rep(2, c(ncol(sjc.counts.male)+ncol(sjc.counts.female))))"
   ]
  },
  {
   "cell_type": "code",
   "execution_count": null,
   "metadata": {},
   "outputs": [],
   "source": [
    "block"
   ]
  },
  {
   "cell_type": "markdown",
   "metadata": {},
   "source": [
    "# removing zero rows \n",
    "Voom adds 0.05 so that the typical log2 error does not occur -- we can safely cut off values < 1.  Lets plot just to see.\n",
    "The ideal here is to keep only those rows which have non-zero values\n"
   ]
  },
  {
   "cell_type": "code",
   "execution_count": null,
   "metadata": {},
   "outputs": [],
   "source": [
    "rowDistribution <- rowSums(counts.mat)\n",
    "names(rowDistribution) <- rownames(counts.mat)\n",
    "index <- order(rowDistribution, decreasing=FALSE)\n",
    "y <- rowDistribution[index]\n",
    "y.gt.1 <- y[y > 1]\n",
    "y.gt.5 <- y[y > 5]\n",
    "sum(y<=1)\n",
    "sum(y<=5)\n",
    "max(y.gt.1)\n",
    "min(y.gt.1)\n",
    "max(y.gt.5)\n",
    "min(y.gt.5)\n",
    "median(y)\n",
    "median(y.gt.1)\n",
    "median(y.gt.5)\n",
    "log2y.gt.1 <- log2(y.gt.1)\n",
    "log2y.gt.5 <- log2(y.gt.5)"
   ]
  },
  {
   "cell_type": "code",
   "execution_count": null,
   "metadata": {},
   "outputs": [],
   "source": [
    "tail(log2y.gt.1)\n",
    "tail(names(log2y.gt.1))\n",
    "log2.df <- data.frame(log2y<-factor(log2y.gt.1))\n",
    "colnames(log2.df) <- 'log2y'\n",
    "tail(log2.df)"
   ]
  },
  {
   "cell_type": "code",
   "execution_count": null,
   "metadata": {},
   "outputs": [],
   "source": [
    "library(ggplot2)\n",
    "\n",
    "barplot(log2y.gt.1, main=\"log2(y > 1) Junction Distribution\",\n",
    "   xlab=\"Junction\")\n"
   ]
  },
  {
   "cell_type": "code",
   "execution_count": null,
   "metadata": {},
   "outputs": [],
   "source": [
    "pdf (\"../pdf/log2.y.gt.1.rowcnts.pdf\")\n",
    "barplot(log2y.gt.1, main=\"log2(y > 1) Junction Distribution\",\n",
    "   xlab=\"Junction\")\n",
    "dev.off()"
   ]
  },
  {
   "cell_type": "markdown",
   "metadata": {},
   "source": [
    "# Eliminate zero rows\n",
    "\n",
    "As shown above -- there are over 2000 zero rows.  These are junctions without counts in either ijc or sjc.  We eliminate them."
   ]
  },
  {
   "cell_type": "code",
   "execution_count": null,
   "metadata": {},
   "outputs": [],
   "source": [
    "# we will plot what we have \n",
    "keep.rows <- y > 1\n",
    "table(keep.rows)\n",
    "\n",
    "dim(counts.mat)\n",
    "\n",
    "isoform   <-isoform   \n",
    "sex       <-sex       \n",
    "block     <-block     \n",
    "counts.mat<-counts.mat[keep.rows==TRUE,]\n",
    "\n",
    "dim(counts.mat)\n",
    "table(block)\n",
    "table(isoform)\n",
    "table(sex)"
   ]
  },
  {
   "cell_type": "markdown",
   "metadata": {},
   "source": [
    "finally we are able to perform our analysis."
   ]
  },
  {
   "cell_type": "code",
   "execution_count": null,
   "metadata": {},
   "outputs": [],
   "source": [
    "is.matrix(counts.mat)\n",
    "counts.mat.dm <- data.matrix(counts.mat)\n",
    "is.matrix(counts.mat.dm)\n",
    "counts.mat <- counts.mat.dm"
   ]
  },
  {
   "cell_type": "markdown",
   "metadata": {},
   "source": [
    "make an EDGR DGEList for our differential analysis"
   ]
  },
  {
   "cell_type": "code",
   "execution_count": null,
   "metadata": {},
   "outputs": [],
   "source": [
    "y <- edgeR::DGEList(counts=counts.mat,\n",
    "                    group =block)\n"
   ]
  },
  {
   "cell_type": "markdown",
   "metadata": {},
   "source": [
    "## accounting for duplicate correlation\n",
    "\n",
    "The counts ijc and sjc are from the same sample and are two different measure that are tightly correlated.   We want to account for that.  In order to do this, we create a counts matrix, that keeps the inclusion junction counts (male and then female) separated by the skipped junction counts (male and then female). We calculate the normalization factors by just using one of the counts, so that we don't duplicate it -- this is done by first making the matrix wide -- so that the library count information is done just one per row.   And then repeating these normalization factors in such a way to allow them to be accounted for with the duplicateCorrelation function, which is made to do so when block is defined, which we have done so, matching exactly the design as stated here.  We have two counts closely related within one sample."
   ]
  },
  {
   "cell_type": "code",
   "execution_count": null,
   "metadata": {},
   "outputs": [],
   "source": [
    "counts.isoform.mat =  cbind(counts.mat[,isoform==1] + counts.mat[,isoform==0])\n",
    "y.isoform          <- DGEList(counts=counts.isoform.mat)\n",
    "y.isoform          <- calcNormFactors(y.isoform)\n",
    "y                  <- DGEList(counts=counts.mat)\n",
    "y                  <- calcNormFactors(y)\n",
    "\n",
    "dim   (y.isoform$counts)\n",
    "length(y.isoform$samples$norm.factors)\n",
    "dim   (y$counts)\n",
    "length(y$samples$norm.factors)"
   ]
  },
  {
   "cell_type": "code",
   "execution_count": null,
   "metadata": {},
   "outputs": [],
   "source": [
    "y$samples$norm.factors=rep(y.isoform$samples$norm.factors,2)"
   ]
  },
  {
   "cell_type": "markdown",
   "metadata": {},
   "source": [
    "Here we create the design matrix for our linear model, we are interested in seeing separately the impact of sex and isoform as well as their interaction factor."
   ]
  },
  {
   "cell_type": "code",
   "execution_count": null,
   "metadata": {},
   "outputs": [],
   "source": [
    "design <- model.matrix(~sex+isoform+sex*isoform)"
   ]
  },
  {
   "cell_type": "code",
   "execution_count": null,
   "metadata": {},
   "outputs": [],
   "source": [
    "table(design[,'sex'])\n",
    "table(design[,'isoform'])\n",
    "table(design[,'sex:isoform'])"
   ]
  },
  {
   "cell_type": "markdown",
   "metadata": {},
   "source": [
    "## voom\n",
    "mean variance plot of the raw counts and the DGEList should be the same\n",
    "\n",
    "### voom raw counts"
   ]
  },
  {
   "cell_type": "markdown",
   "metadata": {},
   "source": [
    "### voom DGEList"
   ]
  },
  {
   "cell_type": "code",
   "execution_count": null,
   "metadata": {},
   "outputs": [],
   "source": [
    "voom.y.DGEList <- voom(y, plot=TRUE)"
   ]
  },
  {
   "cell_type": "markdown",
   "metadata": {},
   "source": [
    "# duplicateCorrelation\n",
    "Using the block design, and noting that likely, on average, there are at least 2 junctions for a skipped exon event, if we analyze the other events, such as mutually exclusive exons, the number of junctions will be different, we can model the multiple features.  There may be an argument for a different way of proceeding with this modeling.  For example, one could model in the design model itself this feature or argue that the feature is accounted for in the isoform definition.   Warnings occur in the underlying modeling program used here, a gamma generalized linear model by Fisher Scoring with Identity link.  statmod::glmgam.fit.  This function implements a modified Fisher scoring algorithm for generalized linear models, similar to the Levenberg-Marquardt algorithm for nonlinear least squares. The Levenberg-Marquardt modification checks for a reduction in the deviance at each step, and avoids the possibility of divergence. The result is a very secure algorithm that converges for almost all datasets."
   ]
  },
  {
   "cell_type": "code",
   "execution_count": null,
   "metadata": {},
   "outputs": [],
   "source": [
    "dup.corr = duplicateCorrelation(voom.y.DGEList, ndups=2, block=block)"
   ]
  },
  {
   "cell_type": "code",
   "execution_count": null,
   "metadata": {},
   "outputs": [],
   "source": [
    "dup.corr$consensus.correlation\n"
   ]
  },
  {
   "cell_type": "markdown",
   "metadata": {},
   "source": [
    "## voom \n",
    "\n",
    "We have now obtained the model for the correlation between the two features of ijc and sjc to be used in the model.\n",
    "we will use the just now calculated correlation event.   Our counts data will now be converted to log2 counts."
   ]
  },
  {
   "cell_type": "markdown",
   "metadata": {},
   "source": [
    "Let us see the results without the blocks in the design."
   ]
  },
  {
   "cell_type": "code",
   "execution_count": null,
   "metadata": {},
   "outputs": [],
   "source": [
    "v <- voom(counts.mat, design=design, correlation = dup.corr$consensus.correlation, plot=TRUE, save.plot=TRUE)"
   ]
  },
  {
   "cell_type": "markdown",
   "metadata": {},
   "source": [
    "## Bayes fit\n",
    "\n",
    "done with out block, as it does not to appear to make a significant difference.   \n"
   ]
  },
  {
   "cell_type": "code",
   "execution_count": null,
   "metadata": {},
   "outputs": [],
   "source": [
    "fit <- lmFit(v$E, design)\n",
    "fit <- eBayes(fit)\n",
    "sex.res         = topTable(fit, coef='sex',         number=nrow(counts.mat))\n",
    "sex.isoform.res = topTable(fit, coef='sex:isoform', number=nrow(counts.mat))\n",
    "isoform.res     = topTable(fit, coef='isoform',     number=nrow(counts.mat))"
   ]
  },
  {
   "cell_type": "code",
   "execution_count": null,
   "metadata": {},
   "outputs": [],
   "source": [
    "fit.corr <- lmFit(v$E, design=design, block=block, correlation=dup.corr$consensus.correlation)\n",
    "fit.corr <- eBayes(fit.corr)\n",
    "sex.res.corr         = topTable(fit.corr, coef='sex',         number=nrow(counts.mat))\n",
    "sex.isoform.res.corr = topTable(fit.corr, coef='sex:isoform', number=nrow(counts.mat))\n",
    "isoform.res.corr     = topTable(fit.corr, coef='isoform',     number=nrow(counts.mat))"
   ]
  },
  {
   "cell_type": "code",
   "execution_count": null,
   "metadata": {},
   "outputs": [],
   "source": [
    "head(sex.res)\n",
    "head(sex.res.corr)"
   ]
  },
  {
   "cell_type": "code",
   "execution_count": null,
   "metadata": {},
   "outputs": [],
   "source": [
    "head(isoform.res)\n",
    "head(isoform.res.corr)\n"
   ]
  },
  {
   "cell_type": "code",
   "execution_count": null,
   "metadata": {},
   "outputs": [],
   "source": [
    "head(sex.isoform.res)\n",
    "head(sex.isoform.res.corr)"
   ]
  },
  {
   "cell_type": "raw",
   "metadata": {},
   "source": [
    "\n",
    "filename      = paste(paste('../data/BreastMammaryTissue',collapse='.'),'.sex.isoform.se.txt',sep='')\n",
    "genesFilename = paste(paste('../data/BreastMammaryTissue',collapse='.'),'.sex.isoform.all_genes.txt',sep='')\n",
    "\n",
    "sex.isoform.res.pVal.0.05.logFC.gt.1.5 <- sex.isoform.res$adj.P.Val <= 0.05 & abs(sex.isoform.res$logFC) > 1.5\n",
    "table(sex.isoform.res.pVal.0.05.logFC.gt.1.5)\n",
    "\n",
    "sex.isoform.res.refined <- sex.res[sex.isoform.res.pVal.0.05.logFC.gt.1.5==TRUE,]\n",
    "\n",
    "write.table(sex.isoform.res.refined,          file=filename,      row.names = T, col.names = T, quote = F)\n",
    "write.table(rownames(sex.isoform.res.refined),file=genesFilename, row.names = T, col.names = T, quote = F)\n"
   ]
  },
  {
   "cell_type": "markdown",
   "metadata": {},
   "source": [
    "## Ontologizer\n"
   ]
  },
  {
   "cell_type": "code",
   "execution_count": null,
   "metadata": {},
   "outputs": [],
   "source": [
    "meta.data       <-read.table('../data/fromGTF.SE.txt',sep='\\t',header=TRUE)\n",
    "all.genes       <-read.table('../data/BreastMammaryTissue.sex.isoform.all_genes.txt')\n",
    "de.tab          <-read.table('../data/BreastMammaryTissue.sex.isoform.se.txt')\n",
    "\n",
    "de.tab.with.meta<-merge(de.tab,meta.data,by.x='row.names',by.y='ID')\n"
   ]
  },
  {
   "cell_type": "code",
   "execution_count": null,
   "metadata": {},
   "outputs": [],
   "source": [
    "dim(de.tab.with.meta)\n",
    "head(de.tab.with.meta)"
   ]
  },
  {
   "cell_type": "markdown",
   "metadata": {},
   "source": [
    "## subset\n",
    "Based upon our significant results, keep only those subsetted genes\n"
   ]
  },
  {
   "cell_type": "code",
   "execution_count": null,
   "metadata": {},
   "outputs": [],
   "source": [
    "subset <- meta.data$ID %in% all.genes[,1]\n",
    "table(subset)\n",
    "significant.genes <- meta.data$geneSymbol[subset==TRUE]\n",
    "length(significant.genes)"
   ]
  },
  {
   "cell_type": "markdown",
   "metadata": {},
   "source": [
    "## Ontologizer\n",
    "\n",
    "Use the ontologizer to show the significance of the subsetted genes against the backdrop of all the genes within the experiment set.\n",
    "rMATS stores this in the fromGTF folder in the geneSymbol category"
   ]
  },
  {
   "cell_type": "code",
   "execution_count": null,
   "metadata": {},
   "outputs": [],
   "source": [
    "setwd('/mnt/shared/gcp-user/session_data/sbas/jupyter')\n",
    "getwd()"
   ]
  },
  {
   "cell_type": "code",
   "execution_count": null,
   "metadata": {},
   "outputs": [],
   "source": [
    "write.table(meta.data$geneSymbol,       '../data/universe.txt',quote = F,row.names = F,col.names = F)\n",
    "write.table(de.tab.with.meta$geneSymbol,'../data/gene_set.txt',quote = F,row.names = F,col.names = F)"
   ]
  },
  {
   "cell_type": "code",
   "execution_count": null,
   "metadata": {},
   "outputs": [],
   "source": [
    "system('java -jar ../../ontologizer/Ontologizer.jar -g ../../ontologizer/go.obo -a ../../ontologizer/goa_human.gaf -s ../data/gene_set.txt -p ../data/universe.txt -c Term-For-Term -m Benjamini-Hochberg -n -o ../data')"
   ]
  },
  {
   "cell_type": "markdown",
   "metadata": {},
   "source": [
    "## Metadata\n",
    "\n",
    "For replicability and reproducibility purposes, we also print the following metadata:\n",
    "\n",
    "1. Checksums of **'artefacts'**, files generated during the analysis and stored in the folder directory **`data`**\n",
    "2. List of environment metadata, dependencies, versions of libraries using `utils::sessionInfo()` and [`devtools::session_info()`](https://devtools.r-lib.org/reference/session_info.html)"
   ]
  },
  {
   "cell_type": "markdown",
   "metadata": {},
   "source": [
    "### 1. Checksums with the sha256 algorithm"
   ]
  },
  {
   "cell_type": "code",
   "execution_count": null,
   "metadata": {},
   "outputs": [],
   "source": [
    "notebookid   = \"Breast-96-Samples\"\n",
    "\n",
    "message(\"Generating sha256 checksums of the artefacts in the `..data/` directory .. \")\n",
    "system(paste0(\"cd ../data && find . -type f -exec sha256sum {} \\\\;  >  ../metadata/\", notebookid, \"_sha256sums.txt\"), intern = TRUE)\n",
    "message(\"Done!\\n\")\n",
    "\n",
    "data.table::fread(paste0(\"../metadata/\", notebookid, \"_sha256sums.txt\"), header = FALSE, col.names = c(\"sha256sum\", \"file\"))"
   ]
  },
  {
   "cell_type": "markdown",
   "metadata": {},
   "source": [
    "### 2. Libraries metadata"
   ]
  },
  {
   "cell_type": "code",
   "execution_count": null,
   "metadata": {},
   "outputs": [],
   "source": [
    "dev_session_info   <- devtools::session_info()\n",
    "utils_session_info <- utils::sessionInfo()\n",
    "\n",
    "message(\"Saving `devtools::session_info()` objects in ../metadata/devtools_session_info.rds  ..\")\n",
    "saveRDS(dev_session_info, file = paste0(\"../metadata/\", notebookid, \"_devtools_session_info.rds\"))\n",
    "message(\"Done!\\n\")\n",
    "\n",
    "message(\"Saving `utils::sessionInfo()` objects in ../metadata/utils_session_info.rds  ..\")\n",
    "saveRDS(utils_session_info, file = paste0(\"../metadata/\", notebookid ,\"_utils_info.rds\"))\n",
    "message(\"Done!\\n\")\n",
    "\n",
    "dev_session_info$platform\n",
    "dev_session_info$packages[dev_session_info$packages$attached==TRUE, ]"
   ]
  }
 ],
 "metadata": {
  "kernelspec": {
   "display_name": "R",
   "language": "R",
   "name": "ir"
  },
  "language_info": {
   "codemirror_mode": "r",
   "file_extension": ".r",
   "mimetype": "text/x-r-source",
   "name": "R",
   "pygments_lexer": "r",
   "version": "3.6.1"
  }
 },
 "nbformat": 4,
 "nbformat_minor": 4
}
