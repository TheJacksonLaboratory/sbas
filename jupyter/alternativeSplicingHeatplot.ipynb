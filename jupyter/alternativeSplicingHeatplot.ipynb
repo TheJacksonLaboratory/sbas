{
 "cells": [
  {
   "cell_type": "markdown",
   "id": "79de189a",
   "metadata": {
    "papermill": {
     "duration": 0.009254,
     "end_time": "2021-09-24T04:49:16.033159",
     "exception": false,
     "start_time": "2021-09-24T04:49:16.023905",
     "status": "completed"
    },
    "tags": []
   },
   "source": [
    "# **Alternative Splicing  Heatplot**\n",
    "This notebook generates a heat plot representing sex-biased differential gene expression as well as a plot showing the counts of differentially expressed genes per tissue.\n",
    "\n",
    "The values in the heatmap represent the correlation (similarity in the fold-changes) between male and female samples, with the values in the heatmap being the correlation between the vectors of fold changes of the tissues.\n",
    "\n",
    "The assumptions made before rendering the heatmaps \n",
    "1. Get differential gene expression (DGE) files\n",
    "2. Use the ``../assets/tissues.tsv`` to limit the tissues to those with at least 50 samples in each sex (``tissues.tsv`` was produced by a Python script)\n",
    "3. Use the pattern for the differentially expressed genes **\"../data/*_AS_model_B_sex_as_events.csv\"** to get all the values for the matrix."
   ]
  },
  {
   "cell_type": "markdown",
   "id": "b70815f3",
   "metadata": {
    "papermill": {
     "duration": 0.008139,
     "end_time": "2021-09-24T04:49:16.049843",
     "exception": false,
     "start_time": "2021-09-24T04:49:16.041704",
     "status": "completed"
    },
    "tags": []
   },
   "source": [
    "## **Running this notebook**:\n",
    "\n",
    "See the README for setting up prerequisites for the notebook."
   ]
  },
  {
   "cell_type": "markdown",
   "id": "441596fd",
   "metadata": {
    "papermill": {
     "duration": 0.008122,
     "end_time": "2021-09-24T04:49:16.066115",
     "exception": false,
     "start_time": "2021-09-24T04:49:16.057993",
     "status": "completed"
    },
    "tags": []
   },
   "source": [
    "## 1. Setup \n",
    "\n",
    "Assumes the `countGenesAndEvents.ipynb` notebook was run -- unpacking the results from the differential Gene Expression Analysis as run in the `differentialAlternativeSplicingJunctionAnalysis.ipynb` notebook."
   ]
  },
  {
   "cell_type": "code",
   "execution_count": 1,
   "id": "1fbaeebb",
   "metadata": {
    "execution": {
     "iopub.execute_input": "2021-09-24T04:49:16.148930Z",
     "iopub.status.busy": "2021-09-24T04:49:16.146775Z",
     "iopub.status.idle": "2021-09-24T04:49:22.397348Z",
     "shell.execute_reply": "2021-09-24T04:49:22.396315Z"
    },
    "papermill": {
     "duration": 6.323287,
     "end_time": "2021-09-24T04:49:22.397474",
     "exception": false,
     "start_time": "2021-09-24T04:49:16.074187",
     "status": "completed"
    },
    "tags": []
   },
   "outputs": [
    {
     "name": "stderr",
     "output_type": "stream",
     "text": [
      "'getOption(\"repos\")' replaces Bioconductor standard repositories, see\n",
      "'?repositories' for details\n",
      "\n",
      "replacement repositories:\n",
      "    CRAN: https://cran.r-project.org\n",
      "\n",
      "\n"
     ]
    },
    {
     "name": "stderr",
     "output_type": "stream",
     "text": [
      "Bioconductor version 3.13 (BiocManager 1.30.16), R 4.1.1 (2021-08-10)\n",
      "\n"
     ]
    },
    {
     "name": "stderr",
     "output_type": "stream",
     "text": [
      "Warning message:\n",
      "“package(s) not installed when version(s) same as current; use `force = TRUE` to\n",
      "  re-install: 'edgeR'”\n"
     ]
    },
    {
     "name": "stderr",
     "output_type": "stream",
     "text": [
      "Old packages: 'BiocParallel', 'Biostrings', 'digest', 'fansi', 'GenomeInfoDb',\n",
      "  'later', 'limma', 'MatrixGenerics', 'mgcv', 'rtracklayer', 'xfun'\n",
      "\n"
     ]
    },
    {
     "name": "stderr",
     "output_type": "stream",
     "text": [
      "'getOption(\"repos\")' replaces Bioconductor standard repositories, see\n",
      "'?repositories' for details\n",
      "\n",
      "replacement repositories:\n",
      "    CRAN: https://cran.r-project.org\n",
      "\n",
      "\n"
     ]
    },
    {
     "name": "stderr",
     "output_type": "stream",
     "text": [
      "Bioconductor version 3.13 (BiocManager 1.30.16), R 4.1.1 (2021-08-10)\n",
      "\n"
     ]
    },
    {
     "name": "stderr",
     "output_type": "stream",
     "text": [
      "Warning message:\n",
      "“package(s) not installed when version(s) same as current; use `force = TRUE` to\n",
      "  re-install: 'pheatmap'”\n"
     ]
    },
    {
     "name": "stderr",
     "output_type": "stream",
     "text": [
      "Old packages: 'BiocParallel', 'Biostrings', 'digest', 'fansi', 'GenomeInfoDb',\n",
      "  'later', 'limma', 'MatrixGenerics', 'mgcv', 'rtracklayer', 'xfun'\n",
      "\n"
     ]
    }
   ],
   "source": [
    "if (!requireNamespace(\"BiocManager\", quietly = TRUE))\n",
    "    install.packages(\"BiocManager\")\n",
    "\n",
    "BiocManager::install(\"edgeR\")\n",
    "BiocManager::install(\"pheatmap\")"
   ]
  },
  {
   "cell_type": "code",
   "execution_count": 2,
   "id": "5e020a80",
   "metadata": {
    "execution": {
     "iopub.execute_input": "2021-09-24T04:49:22.444639Z",
     "iopub.status.busy": "2021-09-24T04:49:22.420397Z",
     "iopub.status.idle": "2021-09-24T04:49:22.914722Z",
     "shell.execute_reply": "2021-09-24T04:49:22.913949Z"
    },
    "papermill": {
     "duration": 0.506852,
     "end_time": "2021-09-24T04:49:22.914860",
     "exception": false,
     "start_time": "2021-09-24T04:49:22.408008",
     "status": "completed"
    },
    "tags": []
   },
   "outputs": [],
   "source": [
    "start_time <- Sys.time()\n",
    "\n",
    "suppressMessages({\n",
    "    options(warn = -1) \n",
    "    library(readr)\n",
    "    library(edgeR)\n",
    "    library(stringr)\n",
    "    library(pheatmap)\n",
    "    library(snakecase)\n",
    "    Sys.setenv(TAR = \"/bin/tar\") # for gzfile\n",
    "})"
   ]
  },
  {
   "cell_type": "markdown",
   "id": "36aa3a5f",
   "metadata": {
    "papermill": {
     "duration": 0.009782,
     "end_time": "2021-09-24T04:49:22.934759",
     "exception": false,
     "start_time": "2021-09-24T04:49:22.924977",
     "status": "completed"
    },
    "tags": []
   },
   "source": [
    "## 2. Making the matrices"
   ]
  },
  {
   "cell_type": "markdown",
   "id": "7aa5ab76",
   "metadata": {
    "papermill": {
     "duration": 0.009641,
     "end_time": "2021-09-24T04:49:22.954042",
     "exception": false,
     "start_time": "2021-09-24T04:49:22.944401",
     "status": "completed"
    },
    "tags": []
   },
   "source": [
    "### 2.1 Read in all the alternative Splicing Junction Analysis results\n",
    "\n",
    "Start with the Skipped Exon alternative Splicing Junction Analysis results"
   ]
  },
  {
   "cell_type": "code",
   "execution_count": 3,
   "id": "97099b78",
   "metadata": {
    "execution": {
     "iopub.execute_input": "2021-09-24T04:49:22.977238Z",
     "iopub.status.busy": "2021-09-24T04:49:22.975816Z",
     "iopub.status.idle": "2021-09-24T04:49:23.020510Z",
     "shell.execute_reply": "2021-09-24T04:49:23.019044Z"
    },
    "papermill": {
     "duration": 0.056974,
     "end_time": "2021-09-24T04:49:23.020611",
     "exception": false,
     "start_time": "2021-09-24T04:49:22.963637",
     "status": "completed"
    },
    "tags": []
   },
   "outputs": [
    {
     "name": "stderr",
     "output_type": "stream",
     "text": [
      "Number of se AS files found with *AS_model_B_sex_as_events_refined.csv pattern: 195\n",
      "\n"
     ]
    },
    {
     "data": {
      "text/html": [
       "39"
      ],
      "text/latex": [
       "39"
      ],
      "text/markdown": [
       "39"
      ],
      "text/plain": [
       "[1] 39"
      ]
     },
     "metadata": {},
     "output_type": "display_data"
    }
   ],
   "source": [
    "results_dir <- \"../data/\"\n",
    "pattern     <- \"*_AS_model_B_sex_as_events_refined.csv\"\n",
    "files       <- list.files(path = results_dir, pattern = pattern)\n",
    "message(\"Number of se AS files found with *AS_model_B_sex_as_events_refined.csv pattern: \",\n",
    "        length(files))\n",
    "se_files <- files[grepl(\"^se_\", files)]\n",
    "length(se_files)"
   ]
  },
  {
   "cell_type": "markdown",
   "id": "57e96366",
   "metadata": {
    "papermill": {
     "duration": 0.010165,
     "end_time": "2021-09-24T04:49:23.041288",
     "exception": false,
     "start_time": "2021-09-24T04:49:23.031123",
     "status": "completed"
    },
    "tags": []
   },
   "source": [
    "### 2.2 read in the curated \"../assets/tissues.tsv\" \n",
    "\n",
    "The **`../assets/tissues.tsv`** file contains an indication to include the tissue if the file has at least **50** samples in that tissue with either **male** or **female** sex reporting"
   ]
  },
  {
   "cell_type": "code",
   "execution_count": 4,
   "id": "5c48eeb7",
   "metadata": {
    "execution": {
     "iopub.execute_input": "2021-09-24T04:49:23.065929Z",
     "iopub.status.busy": "2021-09-24T04:49:23.064768Z",
     "iopub.status.idle": "2021-09-24T04:49:23.094691Z",
     "shell.execute_reply": "2021-09-24T04:49:23.093666Z"
    },
    "papermill": {
     "duration": 0.043458,
     "end_time": "2021-09-24T04:49:23.094792",
     "exception": false,
     "start_time": "2021-09-24T04:49:23.051334",
     "status": "completed"
    },
    "tags": []
   },
   "outputs": [
    {
     "data": {
      "text/plain": [
       "\n",
       " 0  1 \n",
       "11 39 "
      ]
     },
     "metadata": {},
     "output_type": "display_data"
    },
    {
     "name": "stderr",
     "output_type": "stream",
     "text": [
      "Number of tissues with >=50 samples each in ../assets/tissues.tsv (tissue_reduction)39 5\n",
      "\n"
     ]
    }
   ],
   "source": [
    "# read in all requirements so that the stage is properly set -- \n",
    "# if it is clear here -- it will remain clear for the rest of the time\n",
    "# tissues.tsv contains the subset of files desired for analysis.\n",
    "tissue_reduction <- read.table(file=\"../assets/tissues.tsv\", header=TRUE, sep=\"\\t\",\n",
    "                               skipNul=FALSE, stringsAsFactors = FALSE)\n",
    "colnames(tissue_reduction)  <- c(\"SMTSD\",\"female\",\"male\",\"include\",\"display_name\")\n",
    "tissue_reduction$SMTSD <- factor(snakecase::to_snake_case(as.character(tissue_reduction$SMTSD)))\n",
    "# only include those tissues we wish to continue with\n",
    "table(tissue_reduction$include)\n",
    "tissue_reduction <- tissue_reduction[tissue_reduction$include==1,]\n",
    "\n",
    "message(\"Number of tissues with >=50 samples each in ../assets/tissues.tsv (tissue_reduction)\",\n",
    "        paste(dim(tissue_reduction), collapse=\" \"))"
   ]
  },
  {
   "cell_type": "markdown",
   "id": "0c4d875b",
   "metadata": {
    "papermill": {
     "duration": 0.010658,
     "end_time": "2021-09-24T04:49:23.116123",
     "exception": false,
     "start_time": "2021-09-24T04:49:23.105465",
     "status": "completed"
    },
    "tags": []
   },
   "source": [
    "### 2.3 Heatmap gene-junction ids are union of events from all tissues\n",
    "\n",
    "Junctions were removed for statistical requirements -- there are not the same number of results for all of the tissues.  As such we need to build the union of all the ids, order this and use this to enable making all of the matrices."
   ]
  },
  {
   "cell_type": "code",
   "execution_count": 5,
   "id": "9b2a76c2",
   "metadata": {
    "execution": {
     "iopub.execute_input": "2021-09-24T04:49:23.141086Z",
     "iopub.status.busy": "2021-09-24T04:49:23.140036Z",
     "iopub.status.idle": "2021-09-24T04:49:23.305131Z",
     "shell.execute_reply": "2021-09-24T04:49:23.304162Z"
    },
    "papermill": {
     "duration": 0.178296,
     "end_time": "2021-09-24T04:49:23.305240",
     "exception": false,
     "start_time": "2021-09-24T04:49:23.126944",
     "status": "completed"
    },
    "tags": []
   },
   "outputs": [
    {
     "data": {
      "text/html": [
       "39"
      ],
      "text/latex": [
       "39"
      ],
      "text/markdown": [
       "39"
      ],
      "text/plain": [
       "[1] 39"
      ]
     },
     "metadata": {},
     "output_type": "display_data"
    },
    {
     "data": {
      "text/html": [
       "204"
      ],
      "text/latex": [
       "204"
      ],
      "text/markdown": [
       "204"
      ],
      "text/plain": [
       "[1] 204"
      ]
     },
     "metadata": {},
     "output_type": "display_data"
    },
    {
     "data": {
      "text/html": [
       "<style>\n",
       ".list-inline {list-style: none; margin:0; padding: 0}\n",
       ".list-inline>li {display: inline-block}\n",
       ".list-inline>li:not(:last-child)::after {content: \"\\00b7\"; padding: 0 .5ex}\n",
       "</style>\n",
       "<ol class=list-inline><li>'ABCD4-4399'</li><li>'ABCD4-4404'</li><li>'ABCD4-4409'</li><li>'ABI1-35905'</li><li>'ABI1-35908'</li><li>'ACAA1-35871'</li></ol>\n"
      ],
      "text/latex": [
       "\\begin{enumerate*}\n",
       "\\item 'ABCD4-4399'\n",
       "\\item 'ABCD4-4404'\n",
       "\\item 'ABCD4-4409'\n",
       "\\item 'ABI1-35905'\n",
       "\\item 'ABI1-35908'\n",
       "\\item 'ACAA1-35871'\n",
       "\\end{enumerate*}\n"
      ],
      "text/markdown": [
       "1. 'ABCD4-4399'\n",
       "2. 'ABCD4-4404'\n",
       "3. 'ABCD4-4409'\n",
       "4. 'ABI1-35905'\n",
       "5. 'ABI1-35908'\n",
       "6. 'ACAA1-35871'\n",
       "\n",
       "\n"
      ],
      "text/plain": [
       "[1] \"ABCD4-4399\"  \"ABCD4-4404\"  \"ABCD4-4409\"  \"ABI1-35905\"  \"ABI1-35908\" \n",
       "[6] \"ACAA1-35871\""
      ]
     },
     "metadata": {},
     "output_type": "display_data"
    }
   ],
   "source": [
    "begun = 0\n",
    "for (i in 1:length(se_files)) {\n",
    "    fullfilename  <- paste0(\"../data/\",se_files[i])\n",
    "    logFC_result  <- read.csv(fullfilename)\n",
    "    \n",
    "    if (dim(logFC_result)[1] > 1) {\n",
    "       filegenesids  <- as.character(rownames(logFC_result))\n",
    "       if (!begun) {\n",
    "           genesids <- filegenesids\n",
    "           begun = 1\n",
    "       }\n",
    "       genesids      <- union(as.character(genesids),filegenesids)\n",
    "    }\n",
    "}\n",
    "length(se_files)\n",
    "idx <- str_order(genesids)\n",
    "genesids <- genesids[idx]\n",
    "length(genesids)\n",
    "head(genesids)"
   ]
  },
  {
   "cell_type": "markdown",
   "id": "d72f4b5a",
   "metadata": {
    "papermill": {
     "duration": 0.011723,
     "end_time": "2021-09-24T04:49:23.329064",
     "exception": false,
     "start_time": "2021-09-24T04:49:23.317341",
     "status": "completed"
    },
    "tags": []
   },
   "source": [
    "### 2.4 With the union of gene-junction ids make a matrix of logFC and adjusted pValue data"
   ]
  },
  {
   "cell_type": "markdown",
   "id": "86968f7b",
   "metadata": {
    "papermill": {
     "duration": 0.012112,
     "end_time": "2021-09-24T04:49:23.352799",
     "exception": false,
     "start_time": "2021-09-24T04:49:23.340687",
     "status": "completed"
    },
    "tags": []
   },
   "source": [
    "all these results are already refined, i.e. logFC > log(1.5) and adjusted P-value < 0.05"
   ]
  },
  {
   "cell_type": "code",
   "execution_count": 6,
   "id": "6b162c55",
   "metadata": {
    "execution": {
     "iopub.execute_input": "2021-09-24T04:49:23.380310Z",
     "iopub.status.busy": "2021-09-24T04:49:23.379207Z",
     "iopub.status.idle": "2021-09-24T04:49:23.451188Z",
     "shell.execute_reply": "2021-09-24T04:49:23.450334Z"
    },
    "papermill": {
     "duration": 0.086715,
     "end_time": "2021-09-24T04:49:23.451292",
     "exception": false,
     "start_time": "2021-09-24T04:49:23.364577",
     "status": "completed"
    },
    "tags": []
   },
   "outputs": [],
   "source": [
    "#files <- se_files\n",
    "mat_colnames = NA\n",
    "logFC_mat <- matrix(0.0, nrow=length(genesids), ncol = 1)\n",
    "next_col  <- matrix(0.0, nrow=length(genesids), ncol = 1)\n",
    "mat_col_num <- 0\n",
    "\n",
    "#for (i in 1:length(se_files)) {\n",
    "for (i in 1:length(se_files)) {\n",
    "    fullfilename  <- paste0(\"../data/\",se_files[i])\n",
    "    logFC_result  <- read.csv(fullfilename)\n",
    "    if (dim(logFC_result)[1] > 0) {\n",
    "        logFC_result  <- read.csv(fullfilename)\n",
    "        if (is.na(mat_colnames)) {\n",
    "            rownames(logFC_mat) <- as.character(genesids)\n",
    "            mat_colnames <- as.vector(se_files[i])\n",
    "            mat_col_num  <- 1\n",
    "        } else {\n",
    "            logFC_mat    <- cbind(logFC_mat, next_col)\n",
    "            mat_colnames <- as.vector(c(mat_colnames, se_files[i]))\n",
    "            mat_col_num  <- mat_col_num + 1\n",
    "        }\n",
    "        filegenesids  <- as.character(rownames(logFC_result))\n",
    "        # match the filegenesids in the list of unioned genesids for placing the significant gene-junction values\n",
    "        # in the matrix where rows are gene-junctions and columns are tissues (filegenesids)\n",
    "        for (j in 1:length(filegenesids)) {\n",
    "            genesids_match <- genesids %in% filegenesids[j]\n",
    "            logFC_mat[genesids_match==TRUE,mat_col_num] <- logFC_result[filegenesids[j],\"logFC\"]\n",
    "        }\n",
    "    }\n",
    "}\n",
    "\n",
    "mat_colnames <- as.vector(unclass(mat_colnames))\n",
    "display_name <- mat_colnames\n",
    "for (i in 1:length(mat_colnames)) {\n",
    "    mat_colnames[i] <- gsub(pattern,\"\", mat_colnames[i])\n",
    "    mat_colnames[i] <- substring(mat_colnames[i], 4)\n",
    "    display_name[i] <- ifelse(mat_colnames[i] == tissue_reduction$SMTSD,\n",
    "                                                 tissue_reduction$display_name,\n",
    "                                                 mat_colnames[i])\n",
    "}\n",
    "\n",
    "\n",
    "colnames(logFC_mat) <- as.character(display_name)"
   ]
  },
  {
   "cell_type": "markdown",
   "id": "510ab1f7",
   "metadata": {
    "papermill": {
     "duration": 0.011771,
     "end_time": "2021-09-24T04:49:23.475397",
     "exception": false,
     "start_time": "2021-09-24T04:49:23.463626",
     "status": "completed"
    },
    "tags": []
   },
   "source": [
    "### 2.5 Calculate the correlation between the tissues using the logFC\n",
    "\n",
    "Calculate the correlation distances between the tissues using the logFC within each of the tissues.   Clustering by similar expression."
   ]
  },
  {
   "cell_type": "code",
   "execution_count": 7,
   "id": "b78f200a",
   "metadata": {
    "execution": {
     "iopub.execute_input": "2021-09-24T04:49:23.503198Z",
     "iopub.status.busy": "2021-09-24T04:49:23.502002Z",
     "iopub.status.idle": "2021-09-24T04:49:23.523487Z",
     "shell.execute_reply": "2021-09-24T04:49:23.522486Z"
    },
    "papermill": {
     "duration": 0.036489,
     "end_time": "2021-09-24T04:49:23.523581",
     "exception": false,
     "start_time": "2021-09-24T04:49:23.487092",
     "status": "completed"
    },
    "tags": []
   },
   "outputs": [
    {
     "data": {
      "text/html": [
       "<table class=\"dataframe\">\n",
       "<caption>A matrix: 2 × 16 of type dbl</caption>\n",
       "<thead>\n",
       "\t<tr><th></th><th scope=col>adipose_visceral_omentum</th><th scope=col>artery_aorta</th><th scope=col>brain_cerebellum</th><th scope=col>brain_cortex</th><th scope=col>brain_nucleus_accumbens_basal_ganglia</th><th scope=col>breast_mammary_tissue</th><th scope=col>cells_ebv_transformed_lymphocytes</th><th scope=col>colon_sigmoid</th><th scope=col>colon_transverse</th><th scope=col>esophagus_gastroesophageal_junction</th><th scope=col>esophagus_muscularis</th><th scope=col>nerve_tibial</th><th scope=col>pancreas</th><th scope=col>spleen</th><th scope=col>stomach</th><th scope=col>thyroid</th></tr>\n",
       "</thead>\n",
       "<tbody>\n",
       "\t<tr><th scope=row>adipose_visceral_omentum</th><td>1.000000000</td><td>0.009680917</td><td>-0.0007563798</td><td> 0.005822203</td><td>NA</td><td>0.03648786</td><td>NA</td><td>0.005040031</td><td>-0.0006882134</td><td>0.006858575</td><td>-0.01004723</td><td>0.006858575</td><td> 0.006858575</td><td>NA</td><td>NA</td><td>0.006858575</td></tr>\n",
       "\t<tr><th scope=row>artery_aorta</th><td>0.009680917</td><td>1.000000000</td><td> 0.0007668185</td><td>-0.005902555</td><td>NA</td><td>0.01806534</td><td>NA</td><td>0.218477884</td><td> 0.4208449638</td><td>0.768518988</td><td> 0.38997955</td><td>0.768518988</td><td>-0.006953230</td><td>NA</td><td>NA</td><td>0.768518988</td></tr>\n",
       "</tbody>\n",
       "</table>\n"
      ],
      "text/latex": [
       "A matrix: 2 × 16 of type dbl\n",
       "\\begin{tabular}{r|llllllllllllllll}\n",
       "  & adipose\\_visceral\\_omentum & artery\\_aorta & brain\\_cerebellum & brain\\_cortex & brain\\_nucleus\\_accumbens\\_basal\\_ganglia & breast\\_mammary\\_tissue & cells\\_ebv\\_transformed\\_lymphocytes & colon\\_sigmoid & colon\\_transverse & esophagus\\_gastroesophageal\\_junction & esophagus\\_muscularis & nerve\\_tibial & pancreas & spleen & stomach & thyroid\\\\\n",
       "\\hline\n",
       "\tadipose\\_visceral\\_omentum & 1.000000000 & 0.009680917 & -0.0007563798 &  0.005822203 & NA & 0.03648786 & NA & 0.005040031 & -0.0006882134 & 0.006858575 & -0.01004723 & 0.006858575 &  0.006858575 & NA & NA & 0.006858575\\\\\n",
       "\tartery\\_aorta & 0.009680917 & 1.000000000 &  0.0007668185 & -0.005902555 & NA & 0.01806534 & NA & 0.218477884 &  0.4208449638 & 0.768518988 &  0.38997955 & 0.768518988 & -0.006953230 & NA & NA & 0.768518988\\\\\n",
       "\\end{tabular}\n"
      ],
      "text/markdown": [
       "\n",
       "A matrix: 2 × 16 of type dbl\n",
       "\n",
       "| <!--/--> | adipose_visceral_omentum | artery_aorta | brain_cerebellum | brain_cortex | brain_nucleus_accumbens_basal_ganglia | breast_mammary_tissue | cells_ebv_transformed_lymphocytes | colon_sigmoid | colon_transverse | esophagus_gastroesophageal_junction | esophagus_muscularis | nerve_tibial | pancreas | spleen | stomach | thyroid |\n",
       "|---|---|---|---|---|---|---|---|---|---|---|---|---|---|---|---|---|\n",
       "| adipose_visceral_omentum | 1.000000000 | 0.009680917 | -0.0007563798 |  0.005822203 | NA | 0.03648786 | NA | 0.005040031 | -0.0006882134 | 0.006858575 | -0.01004723 | 0.006858575 |  0.006858575 | NA | NA | 0.006858575 |\n",
       "| artery_aorta | 0.009680917 | 1.000000000 |  0.0007668185 | -0.005902555 | NA | 0.01806534 | NA | 0.218477884 |  0.4208449638 | 0.768518988 |  0.38997955 | 0.768518988 | -0.006953230 | NA | NA | 0.768518988 |\n",
       "\n"
      ],
      "text/plain": [
       "                         adipose_visceral_omentum artery_aorta brain_cerebellum\n",
       "adipose_visceral_omentum 1.000000000              0.009680917  -0.0007563798   \n",
       "artery_aorta             0.009680917              1.000000000   0.0007668185   \n",
       "                         brain_cortex brain_nucleus_accumbens_basal_ganglia\n",
       "adipose_visceral_omentum  0.005822203 NA                                   \n",
       "artery_aorta             -0.005902555 NA                                   \n",
       "                         breast_mammary_tissue\n",
       "adipose_visceral_omentum 0.03648786           \n",
       "artery_aorta             0.01806534           \n",
       "                         cells_ebv_transformed_lymphocytes colon_sigmoid\n",
       "adipose_visceral_omentum NA                                0.005040031  \n",
       "artery_aorta             NA                                0.218477884  \n",
       "                         colon_transverse esophagus_gastroesophageal_junction\n",
       "adipose_visceral_omentum -0.0006882134    0.006858575                        \n",
       "artery_aorta              0.4208449638    0.768518988                        \n",
       "                         esophagus_muscularis nerve_tibial pancreas     spleen\n",
       "adipose_visceral_omentum -0.01004723          0.006858575   0.006858575 NA    \n",
       "artery_aorta              0.38997955          0.768518988  -0.006953230 NA    \n",
       "                         stomach thyroid    \n",
       "adipose_visceral_omentum NA      0.006858575\n",
       "artery_aorta             NA      0.768518988"
      ]
     },
     "metadata": {},
     "output_type": "display_data"
    }
   ],
   "source": [
    "dist_mat<-as.matrix(cor(logFC_mat))\n",
    "colnames(dist_mat) <- as.character(display_name)\n",
    "rownames(dist_mat) <- as.character(display_name)\n",
    "head(dist_mat,2)"
   ]
  },
  {
   "cell_type": "code",
   "execution_count": 8,
   "id": "78a82a74",
   "metadata": {
    "execution": {
     "iopub.execute_input": "2021-09-24T04:49:23.551496Z",
     "iopub.status.busy": "2021-09-24T04:49:23.550435Z",
     "iopub.status.idle": "2021-09-24T04:49:23.593809Z",
     "shell.execute_reply": "2021-09-24T04:49:23.592790Z"
    },
    "papermill": {
     "duration": 0.058065,
     "end_time": "2021-09-24T04:49:23.593905",
     "exception": false,
     "start_time": "2021-09-24T04:49:23.535840",
     "status": "completed"
    },
    "tags": []
   },
   "outputs": [
    {
     "data": {
      "text/html": [
       "108"
      ],
      "text/latex": [
       "108"
      ],
      "text/markdown": [
       "108"
      ],
      "text/plain": [
       "[1] 108"
      ]
     },
     "metadata": {},
     "output_type": "display_data"
    },
    {
     "data": {
      "text/html": [
       "148"
      ],
      "text/latex": [
       "148"
      ],
      "text/markdown": [
       "148"
      ],
      "text/plain": [
       "[1] 148"
      ]
     },
     "metadata": {},
     "output_type": "display_data"
    },
    {
     "data": {
      "text/html": [
       "0"
      ],
      "text/latex": [
       "0"
      ],
      "text/markdown": [
       "0"
      ],
      "text/plain": [
       "[1] 0"
      ]
     },
     "metadata": {},
     "output_type": "display_data"
    },
    {
     "data": {
      "text/html": [
       "256"
      ],
      "text/latex": [
       "256"
      ],
      "text/markdown": [
       "256"
      ],
      "text/plain": [
       "[1] 256"
      ]
     },
     "metadata": {},
     "output_type": "display_data"
    },
    {
     "data": {
      "text/html": [
       "36"
      ],
      "text/latex": [
       "36"
      ],
      "text/markdown": [
       "36"
      ],
      "text/plain": [
       "[1] 36"
      ]
     },
     "metadata": {},
     "output_type": "display_data"
    },
    {
     "data": {
      "text/html": [
       "0"
      ],
      "text/latex": [
       "0"
      ],
      "text/markdown": [
       "0"
      ],
      "text/plain": [
       "[1] 0"
      ]
     },
     "metadata": {},
     "output_type": "display_data"
    },
    {
     "data": {
      "text/html": [
       "112"
      ],
      "text/latex": [
       "112"
      ],
      "text/markdown": [
       "112"
      ],
      "text/plain": [
       "[1] 112"
      ]
     },
     "metadata": {},
     "output_type": "display_data"
    },
    {
     "data": {
      "text/html": [
       "<style>\n",
       ".dl-inline {width: auto; margin:0; padding: 0}\n",
       ".dl-inline>dt, .dl-inline>dd {float: none; width: auto; display: inline-block}\n",
       ".dl-inline>dt::after {content: \":\\0020\"; padding-right: .5ex}\n",
       ".dl-inline>dt:not(:first-of-type) {padding-left: .5ex}\n",
       "</style><dl class=dl-inline><dt>adipose_visceral_omentum</dt><dd>0.0677790821896394</dd><dt>artery_aorta</dt><dd>0.272710777833092</dd><dt>brain_cerebellum</dt><dd>0.0629181523218901</dd><dt>brain_cortex</dt><dd>0.0633018055128239</dd><dt>brain_nucleus_accumbens_basal_ganglia</dt><dd>0.0625</dd><dt>breast_mammary_tissue</dt><dd>0.0793838359859623</dd><dt>cells_ebv_transformed_lymphocytes</dt><dd>0.0625</dd><dt>colon_sigmoid</dt><dd>0.1778041486319</dd><dt>colon_transverse</dt><dd>0.0891396708884095</dd><dt>esophagus_gastroesophageal_junction</dt><dd>0.287941689698454</dd><dt>esophagus_muscularis</dt><dd>0.195126508090909</dd><dt>nerve_tibial</dt><dd>0.287941689698454</dd><dt>pancreas</dt><dd>0.101800249011878</dd><dt>spleen</dt><dd>0.0625</dd><dt>stomach</dt><dd>0.0625</dd><dt>thyroid</dt><dd>0.287941689698454</dd></dl>\n"
      ],
      "text/latex": [
       "\\begin{description*}\n",
       "\\item[adipose\\textbackslash{}\\_visceral\\textbackslash{}\\_omentum] 0.0677790821896394\n",
       "\\item[artery\\textbackslash{}\\_aorta] 0.272710777833092\n",
       "\\item[brain\\textbackslash{}\\_cerebellum] 0.0629181523218901\n",
       "\\item[brain\\textbackslash{}\\_cortex] 0.0633018055128239\n",
       "\\item[brain\\textbackslash{}\\_nucleus\\textbackslash{}\\_accumbens\\textbackslash{}\\_basal\\textbackslash{}\\_ganglia] 0.0625\n",
       "\\item[breast\\textbackslash{}\\_mammary\\textbackslash{}\\_tissue] 0.0793838359859623\n",
       "\\item[cells\\textbackslash{}\\_ebv\\textbackslash{}\\_transformed\\textbackslash{}\\_lymphocytes] 0.0625\n",
       "\\item[colon\\textbackslash{}\\_sigmoid] 0.1778041486319\n",
       "\\item[colon\\textbackslash{}\\_transverse] 0.0891396708884095\n",
       "\\item[esophagus\\textbackslash{}\\_gastroesophageal\\textbackslash{}\\_junction] 0.287941689698454\n",
       "\\item[esophagus\\textbackslash{}\\_muscularis] 0.195126508090909\n",
       "\\item[nerve\\textbackslash{}\\_tibial] 0.287941689698454\n",
       "\\item[pancreas] 0.101800249011878\n",
       "\\item[spleen] 0.0625\n",
       "\\item[stomach] 0.0625\n",
       "\\item[thyroid] 0.287941689698454\n",
       "\\end{description*}\n"
      ],
      "text/markdown": [
       "adipose_visceral_omentum\n",
       ":   0.0677790821896394artery_aorta\n",
       ":   0.272710777833092brain_cerebellum\n",
       ":   0.0629181523218901brain_cortex\n",
       ":   0.0633018055128239brain_nucleus_accumbens_basal_ganglia\n",
       ":   0.0625breast_mammary_tissue\n",
       ":   0.0793838359859623cells_ebv_transformed_lymphocytes\n",
       ":   0.0625colon_sigmoid\n",
       ":   0.1778041486319colon_transverse\n",
       ":   0.0891396708884095esophagus_gastroesophageal_junction\n",
       ":   0.287941689698454esophagus_muscularis\n",
       ":   0.195126508090909nerve_tibial\n",
       ":   0.287941689698454pancreas\n",
       ":   0.101800249011878spleen\n",
       ":   0.0625stomach\n",
       ":   0.0625thyroid\n",
       ":   0.287941689698454\n",
       "\n"
      ],
      "text/plain": [
       "             adipose_visceral_omentum                          artery_aorta \n",
       "                           0.06777908                            0.27271078 \n",
       "                     brain_cerebellum                          brain_cortex \n",
       "                           0.06291815                            0.06330181 \n",
       "brain_nucleus_accumbens_basal_ganglia                 breast_mammary_tissue \n",
       "                           0.06250000                            0.07938384 \n",
       "    cells_ebv_transformed_lymphocytes                         colon_sigmoid \n",
       "                           0.06250000                            0.17780415 \n",
       "                     colon_transverse   esophagus_gastroesophageal_junction \n",
       "                           0.08913967                            0.28794169 \n",
       "                 esophagus_muscularis                          nerve_tibial \n",
       "                           0.19512651                            0.28794169 \n",
       "                             pancreas                                spleen \n",
       "                           0.10180025                            0.06250000 \n",
       "                              stomach                               thyroid \n",
       "                           0.06250000                            0.28794169 "
      ]
     },
     "metadata": {},
     "output_type": "display_data"
    }
   ],
   "source": [
    "sum(is.na(dist_mat))\n",
    "sum(!is.na(dist_mat))\n",
    "dist_mat_no_NA <- dist_mat\n",
    "dist_mat_no_NA[is.na(dist_mat_no_NA)] = 0\n",
    "sum(is.na(dist_mat_no_NA))\n",
    "sum(!is.na(dist_mat_no_NA))\n",
    "sum(dist_mat_no_NA <0)\n",
    "dist_mat_no_NA_NZ <- dist_mat_no_NA\n",
    "dist_mat_no_NA_NZ[dist_mat_no_NA_NZ <0] = 0\n",
    "sum(dist_mat_no_NA_NZ <0)\n",
    "sum(dist_mat_no_NA_NZ >0)\n",
    "base_mean = rowMeans(dist_mat_no_NA_NZ)\n",
    "base_mean"
   ]
  },
  {
   "cell_type": "markdown",
   "id": "1eb00f68",
   "metadata": {
    "papermill": {
     "duration": 0.014946,
     "end_time": "2021-09-24T04:49:23.624055",
     "exception": false,
     "start_time": "2021-09-24T04:49:23.609109",
     "status": "completed"
    },
    "tags": []
   },
   "source": [
    "## 3. Render the heatmaps of the distance correlations"
   ]
  },
  {
   "cell_type": "markdown",
   "id": "1e83b990",
   "metadata": {
    "papermill": {
     "duration": 0.014887,
     "end_time": "2021-09-24T04:49:23.654006",
     "exception": false,
     "start_time": "2021-09-24T04:49:23.639119",
     "status": "completed"
    },
    "tags": []
   },
   "source": [
    "### 3.1 heatmap dist_mat_no_NA_NZ"
   ]
  },
  {
   "cell_type": "code",
   "execution_count": 9,
   "id": "84f6e271",
   "metadata": {
    "execution": {
     "iopub.execute_input": "2021-09-24T04:49:23.687656Z",
     "iopub.status.busy": "2021-09-24T04:49:23.686569Z",
     "iopub.status.idle": "2021-09-24T04:49:23.852671Z",
     "shell.execute_reply": "2021-09-24T04:49:23.852240Z"
    },
    "papermill": {
     "duration": 0.183839,
     "end_time": "2021-09-24T04:49:23.852778",
     "exception": false,
     "start_time": "2021-09-24T04:49:23.668939",
     "status": "completed"
    },
    "tags": []
   },
   "outputs": [
    {
     "data": {
      "image/png": "[encoded data removed]",
      "text/plain": [
       "plot without title"
      ]
     },
     "metadata": {
      "image/png": {
       "height": 420,
       "width": 420
      }
     },
     "output_type": "display_data"
    }
   ],
   "source": [
    "pheatmap(as.matrix(dist_mat_no_NA_NZ), clustering_distance_rows = \"correlation\", clustering_distance_cols = \"correlation\", fontsize = 6)\n",
    "hm.parameters <- list(dist_mat_no_NA_NZ, fontsize = 6)\n",
    "do.call(\"pheatmap\", c(hm.parameters,  filename=\"../pdf/se_alternativeSplicingDistanceCorrelationHeatmapAlllogFC.pdf\"))"
   ]
  },
  {
   "cell_type": "markdown",
   "id": "d9b977a7",
   "metadata": {
    "papermill": {
     "duration": 0.01655,
     "end_time": "2021-09-24T04:49:23.886467",
     "exception": false,
     "start_time": "2021-09-24T04:49:23.869917",
     "status": "completed"
    },
    "tags": []
   },
   "source": [
    "### 3.2 heatmap normalize quantiles dist_mat_no_NA_NZ"
   ]
  },
  {
   "cell_type": "code",
   "execution_count": 10,
   "id": "dec41cba",
   "metadata": {
    "execution": {
     "iopub.execute_input": "2021-09-24T04:49:23.923435Z",
     "iopub.status.busy": "2021-09-24T04:49:23.922218Z",
     "iopub.status.idle": "2021-09-24T04:49:24.052971Z",
     "shell.execute_reply": "2021-09-24T04:49:24.052524Z"
    },
    "papermill": {
     "duration": 0.15013,
     "end_time": "2021-09-24T04:49:24.053081",
     "exception": false,
     "start_time": "2021-09-24T04:49:23.902951",
     "status": "completed"
    },
    "tags": []
   },
   "outputs": [
    {
     "data": {
      "image/png": "[encoded data removed]",
      "text/plain": [
       "plot without title"
      ]
     },
     "metadata": {
      "image/png": {
       "height": 420,
       "width": 420
      }
     },
     "output_type": "display_data"
    }
   ],
   "source": [
    "dist_mat_NQ <- normalizeQuantiles(dist_mat_no_NA_NZ)\n",
    "dist_mat <- as.matrix(cor(dist_mat_NQ))\n",
    "pheatmap(as.matrix(dist_mat), clustering_distance_rows = \"correlation\", clustering_distance_cols = \"correlation\", fontsize = 6)\n",
    "hm.parameters <- list(dist_mat, fontsize = 6)\n",
    "do.call(\"pheatmap\", c(hm.parameters,  filename=\"../pdf/se_alternativeSplicingDistanceCorrelationAlllogFC_NQ.pdf\"))"
   ]
  },
  {
   "cell_type": "markdown",
   "id": "014cce08",
   "metadata": {
    "papermill": {
     "duration": 0.018188,
     "end_time": "2021-09-24T04:49:24.089901",
     "exception": false,
     "start_time": "2021-09-24T04:49:24.071713",
     "status": "completed"
    },
    "tags": []
   },
   "source": [
    "## Appendix Metadata\n",
    "\n",
    "For replicability and reproducibility purposes, we also print the following metadata:\n",
    "\n",
    "### Appendix.1. Checksums with the sha256 algorithm\n",
    "1. Checksums of **'artefacts'**, files generated during the analysis and stored in the folder directory **`data`**\n",
    "2. List of environment metadata, dependencies, versions of libraries using `utils::sessionInfo()` and [`devtools::session_info()`](https://devtools.r-lib.org/reference/session_info.html)"
   ]
  },
  {
   "cell_type": "code",
   "execution_count": 11,
   "id": "84bf3821",
   "metadata": {
    "execution": {
     "iopub.execute_input": "2021-09-24T04:49:24.129697Z",
     "iopub.status.busy": "2021-09-24T04:49:24.128590Z",
     "iopub.status.idle": "2021-09-24T04:49:24.137872Z",
     "shell.execute_reply": "2021-09-24T04:49:24.136853Z"
    },
    "papermill": {
     "duration": 0.029934,
     "end_time": "2021-09-24T04:49:24.137967",
     "exception": false,
     "start_time": "2021-09-24T04:49:24.108033",
     "status": "completed"
    },
    "tags": []
   },
   "outputs": [],
   "source": [
    "figure_id   = \"alternativeSplicingHeatmap\""
   ]
  },
  {
   "cell_type": "markdown",
   "id": "b55ebfe8",
   "metadata": {
    "papermill": {
     "duration": 0.018102,
     "end_time": "2021-09-24T04:49:24.174209",
     "exception": false,
     "start_time": "2021-09-24T04:49:24.156107",
     "status": "completed"
    },
    "tags": []
   },
   "source": [
    "### Appendix.2. Libraries"
   ]
  },
  {
   "cell_type": "code",
   "execution_count": 12,
   "id": "b64755c8",
   "metadata": {
    "execution": {
     "iopub.execute_input": "2021-09-24T04:49:24.214179Z",
     "iopub.status.busy": "2021-09-24T04:49:24.213094Z",
     "iopub.status.idle": "2021-09-24T04:49:24.768058Z",
     "shell.execute_reply": "2021-09-24T04:49:24.766922Z"
    },
    "lines_to_next_cell": 0,
    "papermill": {
     "duration": 0.575732,
     "end_time": "2021-09-24T04:49:24.768167",
     "exception": false,
     "start_time": "2021-09-24T04:49:24.192435",
     "status": "completed"
    },
    "tags": []
   },
   "outputs": [
    {
     "name": "stderr",
     "output_type": "stream",
     "text": [
      "Saving `devtools::session_info()` objects in ../data/devtools_session_info.rds  ..\n",
      "\n"
     ]
    },
    {
     "name": "stderr",
     "output_type": "stream",
     "text": [
      "Done!\n",
      "\n",
      "\n"
     ]
    },
    {
     "name": "stderr",
     "output_type": "stream",
     "text": [
      "Saving `utils::sessionInfo()` objects in ../data/utils_session_info.rds  ..\n",
      "\n"
     ]
    },
    {
     "name": "stderr",
     "output_type": "stream",
     "text": [
      "Done!\n",
      "\n",
      "\n"
     ]
    },
    {
     "data": {
      "text/plain": [
       " setting  value                       \n",
       " version  R version 4.1.1 (2021-08-10)\n",
       " os       Ubuntu 18.04.4 LTS          \n",
       " system   x86_64, linux-gnu           \n",
       " ui       X11                         \n",
       " language en_US.UTF-8                 \n",
       " collate  en_US.UTF-8                 \n",
       " ctype    en_US.UTF-8                 \n",
       " tz       Etc/UTC                     \n",
       " date     2021-09-24                  "
      ]
     },
     "metadata": {},
     "output_type": "display_data"
    },
    {
     "data": {
      "text/html": [
       "<table class=\"dataframe\">\n",
       "<caption>A packages_info: 6 × 11</caption>\n",
       "<thead>\n",
       "\t<tr><th></th><th scope=col>package</th><th scope=col>ondiskversion</th><th scope=col>loadedversion</th><th scope=col>path</th><th scope=col>loadedpath</th><th scope=col>attached</th><th scope=col>is_base</th><th scope=col>date</th><th scope=col>source</th><th scope=col>md5ok</th><th scope=col>library</th></tr>\n",
       "\t<tr><th></th><th scope=col>&lt;chr&gt;</th><th scope=col>&lt;chr&gt;</th><th scope=col>&lt;chr&gt;</th><th scope=col>&lt;chr&gt;</th><th scope=col>&lt;chr&gt;</th><th scope=col>&lt;lgl&gt;</th><th scope=col>&lt;lgl&gt;</th><th scope=col>&lt;chr&gt;</th><th scope=col>&lt;chr&gt;</th><th scope=col>&lt;lgl&gt;</th><th scope=col>&lt;fct&gt;</th></tr>\n",
       "</thead>\n",
       "<tbody>\n",
       "\t<tr><th scope=row>edgeR</th><td>edgeR    </td><td>3.34.1</td><td>3.34.1</td><td>/opt/conda/envs/sbas/lib/R/library/edgeR    </td><td>/opt/conda/envs/sbas/lib/R/library/edgeR    </td><td>TRUE</td><td>FALSE</td><td>2021-09-05</td><td>Bioconductor  </td><td>NA</td><td>/opt/conda/envs/sbas/lib/R/library</td></tr>\n",
       "\t<tr><th scope=row>limma</th><td>limma    </td><td>3.48.0</td><td>3.48.0</td><td>/opt/conda/envs/sbas/lib/R/library/limma    </td><td>/opt/conda/envs/sbas/lib/R/library/limma    </td><td>TRUE</td><td>FALSE</td><td>2021-05-19</td><td>Bioconductor  </td><td>NA</td><td>/opt/conda/envs/sbas/lib/R/library</td></tr>\n",
       "\t<tr><th scope=row>pheatmap</th><td>pheatmap </td><td>1.0.12</td><td>1.0.12</td><td>/opt/conda/envs/sbas/lib/R/library/pheatmap </td><td>/opt/conda/envs/sbas/lib/R/library/pheatmap </td><td>TRUE</td><td>FALSE</td><td>2019-01-04</td><td>CRAN (R 4.1.0)</td><td>NA</td><td>/opt/conda/envs/sbas/lib/R/library</td></tr>\n",
       "\t<tr><th scope=row>readr</th><td>readr    </td><td>2.0.1 </td><td>2.0.1 </td><td>/opt/conda/envs/sbas/lib/R/library/readr    </td><td>/opt/conda/envs/sbas/lib/R/library/readr    </td><td>TRUE</td><td>FALSE</td><td>2021-08-10</td><td>CRAN (R 4.1.1)</td><td>NA</td><td>/opt/conda/envs/sbas/lib/R/library</td></tr>\n",
       "\t<tr><th scope=row>snakecase</th><td>snakecase</td><td>0.11.0</td><td>0.11.0</td><td>/opt/conda/envs/sbas/lib/R/library/snakecase</td><td>/opt/conda/envs/sbas/lib/R/library/snakecase</td><td>TRUE</td><td>FALSE</td><td>2019-05-25</td><td>CRAN (R 4.1.0)</td><td>NA</td><td>/opt/conda/envs/sbas/lib/R/library</td></tr>\n",
       "\t<tr><th scope=row>stringr</th><td>stringr  </td><td>1.4.0 </td><td>1.4.0 </td><td>/opt/conda/envs/sbas/lib/R/library/stringr  </td><td>/opt/conda/envs/sbas/lib/R/library/stringr  </td><td>TRUE</td><td>FALSE</td><td>2019-02-10</td><td>CRAN (R 4.1.0)</td><td>NA</td><td>/opt/conda/envs/sbas/lib/R/library</td></tr>\n",
       "</tbody>\n",
       "</table>\n"
      ],
      "text/latex": [
       "A packages\\_info: 6 × 11\n",
       "\\begin{tabular}{r|lllllllllll}\n",
       "  & package & ondiskversion & loadedversion & path & loadedpath & attached & is\\_base & date & source & md5ok & library\\\\\n",
       "  & <chr> & <chr> & <chr> & <chr> & <chr> & <lgl> & <lgl> & <chr> & <chr> & <lgl> & <fct>\\\\\n",
       "\\hline\n",
       "\tedgeR & edgeR     & 3.34.1 & 3.34.1 & /opt/conda/envs/sbas/lib/R/library/edgeR     & /opt/conda/envs/sbas/lib/R/library/edgeR     & TRUE & FALSE & 2021-09-05 & Bioconductor   & NA & /opt/conda/envs/sbas/lib/R/library\\\\\n",
       "\tlimma & limma     & 3.48.0 & 3.48.0 & /opt/conda/envs/sbas/lib/R/library/limma     & /opt/conda/envs/sbas/lib/R/library/limma     & TRUE & FALSE & 2021-05-19 & Bioconductor   & NA & /opt/conda/envs/sbas/lib/R/library\\\\\n",
       "\tpheatmap & pheatmap  & 1.0.12 & 1.0.12 & /opt/conda/envs/sbas/lib/R/library/pheatmap  & /opt/conda/envs/sbas/lib/R/library/pheatmap  & TRUE & FALSE & 2019-01-04 & CRAN (R 4.1.0) & NA & /opt/conda/envs/sbas/lib/R/library\\\\\n",
       "\treadr & readr     & 2.0.1  & 2.0.1  & /opt/conda/envs/sbas/lib/R/library/readr     & /opt/conda/envs/sbas/lib/R/library/readr     & TRUE & FALSE & 2021-08-10 & CRAN (R 4.1.1) & NA & /opt/conda/envs/sbas/lib/R/library\\\\\n",
       "\tsnakecase & snakecase & 0.11.0 & 0.11.0 & /opt/conda/envs/sbas/lib/R/library/snakecase & /opt/conda/envs/sbas/lib/R/library/snakecase & TRUE & FALSE & 2019-05-25 & CRAN (R 4.1.0) & NA & /opt/conda/envs/sbas/lib/R/library\\\\\n",
       "\tstringr & stringr   & 1.4.0  & 1.4.0  & /opt/conda/envs/sbas/lib/R/library/stringr   & /opt/conda/envs/sbas/lib/R/library/stringr   & TRUE & FALSE & 2019-02-10 & CRAN (R 4.1.0) & NA & /opt/conda/envs/sbas/lib/R/library\\\\\n",
       "\\end{tabular}\n"
      ],
      "text/markdown": [
       "\n",
       "A packages_info: 6 × 11\n",
       "\n",
       "| <!--/--> | package &lt;chr&gt; | ondiskversion &lt;chr&gt; | loadedversion &lt;chr&gt; | path &lt;chr&gt; | loadedpath &lt;chr&gt; | attached &lt;lgl&gt; | is_base &lt;lgl&gt; | date &lt;chr&gt; | source &lt;chr&gt; | md5ok &lt;lgl&gt; | library &lt;fct&gt; |\n",
       "|---|---|---|---|---|---|---|---|---|---|---|---|\n",
       "| edgeR | edgeR     | 3.34.1 | 3.34.1 | /opt/conda/envs/sbas/lib/R/library/edgeR     | /opt/conda/envs/sbas/lib/R/library/edgeR     | TRUE | FALSE | 2021-09-05 | Bioconductor   | NA | /opt/conda/envs/sbas/lib/R/library |\n",
       "| limma | limma     | 3.48.0 | 3.48.0 | /opt/conda/envs/sbas/lib/R/library/limma     | /opt/conda/envs/sbas/lib/R/library/limma     | TRUE | FALSE | 2021-05-19 | Bioconductor   | NA | /opt/conda/envs/sbas/lib/R/library |\n",
       "| pheatmap | pheatmap  | 1.0.12 | 1.0.12 | /opt/conda/envs/sbas/lib/R/library/pheatmap  | /opt/conda/envs/sbas/lib/R/library/pheatmap  | TRUE | FALSE | 2019-01-04 | CRAN (R 4.1.0) | NA | /opt/conda/envs/sbas/lib/R/library |\n",
       "| readr | readr     | 2.0.1  | 2.0.1  | /opt/conda/envs/sbas/lib/R/library/readr     | /opt/conda/envs/sbas/lib/R/library/readr     | TRUE | FALSE | 2021-08-10 | CRAN (R 4.1.1) | NA | /opt/conda/envs/sbas/lib/R/library |\n",
       "| snakecase | snakecase | 0.11.0 | 0.11.0 | /opt/conda/envs/sbas/lib/R/library/snakecase | /opt/conda/envs/sbas/lib/R/library/snakecase | TRUE | FALSE | 2019-05-25 | CRAN (R 4.1.0) | NA | /opt/conda/envs/sbas/lib/R/library |\n",
       "| stringr | stringr   | 1.4.0  | 1.4.0  | /opt/conda/envs/sbas/lib/R/library/stringr   | /opt/conda/envs/sbas/lib/R/library/stringr   | TRUE | FALSE | 2019-02-10 | CRAN (R 4.1.0) | NA | /opt/conda/envs/sbas/lib/R/library |\n",
       "\n"
      ],
      "text/plain": [
       "          package   ondiskversion loadedversion\n",
       "edgeR     edgeR     3.34.1        3.34.1       \n",
       "limma     limma     3.48.0        3.48.0       \n",
       "pheatmap  pheatmap  1.0.12        1.0.12       \n",
       "readr     readr     2.0.1         2.0.1        \n",
       "snakecase snakecase 0.11.0        0.11.0       \n",
       "stringr   stringr   1.4.0         1.4.0        \n",
       "          path                                        \n",
       "edgeR     /opt/conda/envs/sbas/lib/R/library/edgeR    \n",
       "limma     /opt/conda/envs/sbas/lib/R/library/limma    \n",
       "pheatmap  /opt/conda/envs/sbas/lib/R/library/pheatmap \n",
       "readr     /opt/conda/envs/sbas/lib/R/library/readr    \n",
       "snakecase /opt/conda/envs/sbas/lib/R/library/snakecase\n",
       "stringr   /opt/conda/envs/sbas/lib/R/library/stringr  \n",
       "          loadedpath                                   attached is_base\n",
       "edgeR     /opt/conda/envs/sbas/lib/R/library/edgeR     TRUE     FALSE  \n",
       "limma     /opt/conda/envs/sbas/lib/R/library/limma     TRUE     FALSE  \n",
       "pheatmap  /opt/conda/envs/sbas/lib/R/library/pheatmap  TRUE     FALSE  \n",
       "readr     /opt/conda/envs/sbas/lib/R/library/readr     TRUE     FALSE  \n",
       "snakecase /opt/conda/envs/sbas/lib/R/library/snakecase TRUE     FALSE  \n",
       "stringr   /opt/conda/envs/sbas/lib/R/library/stringr   TRUE     FALSE  \n",
       "          date       source         md5ok library                           \n",
       "edgeR     2021-09-05 Bioconductor   NA    /opt/conda/envs/sbas/lib/R/library\n",
       "limma     2021-05-19 Bioconductor   NA    /opt/conda/envs/sbas/lib/R/library\n",
       "pheatmap  2019-01-04 CRAN (R 4.1.0) NA    /opt/conda/envs/sbas/lib/R/library\n",
       "readr     2021-08-10 CRAN (R 4.1.1) NA    /opt/conda/envs/sbas/lib/R/library\n",
       "snakecase 2019-05-25 CRAN (R 4.1.0) NA    /opt/conda/envs/sbas/lib/R/library\n",
       "stringr   2019-02-10 CRAN (R 4.1.0) NA    /opt/conda/envs/sbas/lib/R/library"
      ]
     },
     "metadata": {},
     "output_type": "display_data"
    }
   ],
   "source": [
    "dev_session_info   <- devtools::session_info()\n",
    "utils_session_info <- utils::sessionInfo()\n",
    "\n",
    "message(\"Saving `devtools::session_info()` objects in ../data/devtools_session_info.rds  ..\")\n",
    "saveRDS(dev_session_info, file = paste0(\"../data/\", figure_id, \"_devtools_session_info.rds\"))\n",
    "message(\"Done!\\n\")\n",
    "\n",
    "message(\"Saving `utils::sessionInfo()` objects in ../data/utils_session_info.rds  ..\")\n",
    "saveRDS(utils_session_info, file = paste0(\"../data/\", figure_id ,\"_utils_info.rds\"))\n",
    "message(\"Done!\\n\")\n",
    "\n",
    "dev_session_info$platform\n",
    "dev_session_info$packages[dev_session_info$packages$attached==TRUE, ]"
   ]
  },
  {
   "cell_type": "code",
   "execution_count": 13,
   "id": "46835a9f",
   "metadata": {
    "execution": {
     "iopub.execute_input": "2021-09-24T04:49:24.811701Z",
     "iopub.status.busy": "2021-09-24T04:49:24.810546Z",
     "iopub.status.idle": "2021-09-24T04:49:24.824393Z",
     "shell.execute_reply": "2021-09-24T04:49:24.823415Z"
    },
    "papermill": {
     "duration": 0.036421,
     "end_time": "2021-09-24T04:49:24.824492",
     "exception": false,
     "start_time": "2021-09-24T04:49:24.788071",
     "status": "completed"
    },
    "tags": []
   },
   "outputs": [
    {
     "data": {
      "text/plain": [
       "Time difference of 2.367655 secs"
      ]
     },
     "metadata": {},
     "output_type": "display_data"
    }
   ],
   "source": [
    "end_time <- Sys.time()\n",
    "end_time - start_time\n"
   ]
  }
 ],
 "metadata": {
  "kernelspec": {
   "display_name": "R",
   "language": "R",
   "name": "ir"
  },
  "language_info": {
   "codemirror_mode": "r",
   "file_extension": ".r",
   "mimetype": "text/x-r-source",
   "name": "R",
   "pygments_lexer": "r",
   "version": "4.1.1"
  },
  "papermill": {
   "default_parameters": {},
   "duration": 9.770879,
   "end_time": "2021-09-24T04:49:24.951984",
   "environment_variables": {},
   "exception": null,
   "input_path": "alternativeSplicingHeatplot.ipynb",
   "output_path": "alternativeSplicingHeatplot.ipynb",
   "parameters": {},
   "start_time": "2021-09-24T04:49:15.181105",
   "version": "2.3.3"
  }
 },
 "nbformat": 4,
 "nbformat_minor": 5
}