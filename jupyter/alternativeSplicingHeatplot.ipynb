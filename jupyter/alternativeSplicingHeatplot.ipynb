{
 "cells": [
  {
   "cell_type": "markdown",
   "metadata": {},
   "source": [
    "# **Alternative Splicing  Heatplot**\n",
    "This notebook generates a heat plot representing sex-biased differential gene expression as well as a plot showing the counts of differentially expressed genes per tissue.\n",
    "\n",
    "The values in the heatmap represent the correlation (similarity in the fold-changes) between male and female samples, with the values in the heatmap being the correlation between the vectors of fold changes of the tissues.\n",
    "\n",
    "The assumptions made before rendering the heatmaps \n",
    "1. Get differential gene expression (DGE) files\n",
    "2. Use the ``../assets/tissues.tsv`` to limit the tissues to those with at least 50 samples in each sex (``tissues.tsv`` was produced by a Python script)\n",
    "3. Use the pattern for the differentially expressed genes **\"../data/*_AS_model_B_sex_as_events.csv\"** to get all the values for the matrix."
   ]
  },
  {
   "cell_type": "markdown",
   "metadata": {},
   "source": [
    "## **Running this notebook**:\n",
    "\n",
    "See the README for setting up prerequisites for the notebook."
   ]
  },
  {
   "cell_type": "markdown",
   "metadata": {},
   "source": [
    "## 1. Setup \n",
    "\n",
    "Assumes the `countGenesAndEvents.ipynb` notebook was run -- unpacking the results from the differential Gene Expression Analysis as run in the `differentialAlternativeSplicingJunctionAnalysis.ipynb` notebook."
   ]
  },
  {
   "cell_type": "code",
   "execution_count": null,
   "metadata": {},
   "outputs": [],
   "source": [
    "suppressMessages({\n",
    "    options(warn = -1) \n",
    "    library(stringr)\n",
    "    library(edgeR)\n",
    "    library(pheatmap)\n",
    "    library(snakecase)\n",
    "    Sys.setenv(TAR = \"/bin/tar\") # for gzfile\n",
    "})"
   ]
  },
  {
   "cell_type": "markdown",
   "metadata": {},
   "source": [
    "## 2. Making the matrices"
   ]
  },
  {
   "cell_type": "markdown",
   "metadata": {},
   "source": [
    "### 2.1 Read in all the alternative Splicing Junction Analysis results\n",
    "\n",
    "Start with the Skipped Exon alternative Splicing Junction Analysis results"
   ]
  },
  {
   "cell_type": "code",
   "execution_count": null,
   "metadata": {},
   "outputs": [],
   "source": [
    "results_dir <- \"../data/\"\n",
    "pattern     <- \"*_AS_model_B_sex_as_events_refined.csv\"\n",
    "files       <- list.files(path = results_dir, pattern = pattern)\n",
    "message(\"Number of se AS files found with *AS_model_B_sex_as_events_refined.csv pattern: \",\n",
    "        length(files))\n",
    "se_files <- files[grepl(\"^se_\", files)]\n",
    "length(se_files)"
   ]
  },
  {
   "cell_type": "markdown",
   "metadata": {},
   "source": [
    "### 2.2 read in the curated \"../assets/tissues.tsv\" \n",
    "\n",
    "The **`../assets/tissues.tsv`** file contains an indication to include the tissue if the file has at least **50** samples in that tissue with either **male** or **female** sex reporting"
   ]
  },
  {
   "cell_type": "code",
   "execution_count": null,
   "metadata": {},
   "outputs": [],
   "source": [
    "# read in all requirements so that the stage is properly set -- \n",
    "# if it is clear here -- it will remain clear for the rest of the time\n",
    "# tissues.tsv contains the subset of files desired for analysis.\n",
    "tissue_reduction <- read.table(file=\"../assets/tissues.tsv\", header=TRUE, sep=\"\\t\",\n",
    "                               skipNul=FALSE, stringsAsFactors = FALSE)\n",
    "colnames(tissue_reduction)  <- c(\"SMTSD\",\"female\",\"male\",\"include\",\"display_name\")\n",
    "tissue_reduction$SMTSD <- factor(snakecase::to_snake_case(as.character(tissue_reduction$SMTSD)))\n",
    "# only include those tissues we wish to continue with\n",
    "table(tissue_reduction$include)\n",
    "tissue_reduction <- tissue_reduction[tissue_reduction$include==1,]\n",
    "\n",
    "message(\"Number of tissues with >=50 samples each in ../assets/tissues.tsv (tissue_reduction)\",\n",
    "        paste(dim(tissue_reduction), collapse=\" \"))"
   ]
  },
  {
   "cell_type": "markdown",
   "metadata": {},
   "source": [
    "### 2.3 Heatmap gene-junction ids are union of events from all tissues\n",
    "\n",
    "Junctions were removed for statistical requirements -- there are not the same number of results for all of the tissues.  As such we need to build the union of all the ids, order this and use this to enable making all of the matrices."
   ]
  },
  {
   "cell_type": "code",
   "execution_count": null,
   "metadata": {},
   "outputs": [],
   "source": [
    "for (i in 1:length(se_files)) {\n",
    "    fullfilename  <- paste0(\"../data/\",se_files[i])\n",
    "    logFC_result  <- read.csv(fullfilename)\n",
    "    filegenesids  <- as.character(rownames(logFC_result))\n",
    "    if (i == 1) {\n",
    "        genesids <- filegenesids\n",
    "    }\n",
    "    genesids      <- union(as.character(genesids),filegenesids)\n",
    "}\n",
    "length(se_files)\n",
    "idx <- str_order(genesids)\n",
    "genesids <- genesids[idx]\n",
    "length(genesids)\n",
    "head(genesids)"
   ]
  },
  {
   "cell_type": "markdown",
   "metadata": {},
   "source": [
    "### 2.4 With the union of gene-junction ids make a matrix of logFC and adjusted pValue data"
   ]
  },
  {
   "cell_type": "markdown",
   "metadata": {},
   "source": [
    "all these results are already refined, i.e. logFC > log(1.5) and adjusted P-value < 0.05"
   ]
  },
  {
   "cell_type": "code",
   "execution_count": null,
   "metadata": {},
   "outputs": [],
   "source": [
    "files <- se_files\n",
    "logFC_mat <- matrix(0.0, nrow=length(genesids), ncol = length(files))\n",
    "rownames(logFC_mat) <- as.character(genesids)\n",
    "for (i in 1:length(files)) {\n",
    "    fullfilename  <- paste0(\"../data/\",files[i])\n",
    "    logFC_result  <- read.csv(fullfilename)\n",
    "    filegenesids  <- as.character(rownames(logFC_result))\n",
    "    # match the filegenesids in the list of unioned genesids for placing the significant gene-junction values\n",
    "    # in the matrix where rows are gene-junctions and columns are tissues (filegenesids)\n",
    "    for (j in 1:length(filegenesids)) {\n",
    "        genesids_match <- genesids %in% filegenesids[j]\n",
    "        logFC_mat[genesids_match==TRUE,i] <- logFC_result[filegenesids[j],\"logFC\"]\n",
    "    }\n",
    "}\n",
    "\n",
    "mat_colnames = files\n",
    "for (i in 1:length(mat_colnames)) {\n",
    "    mat_colnames[i] <- gsub(pattern,\"\", mat_colnames[i], fixed = TRUE)\n",
    "    mat_colnames[i] <- substring(mat_colnames[i],4)\n",
    "}\n",
    "\n",
    "display_name = ifelse(mat_colnames == tissue_reduction$SMTSD, \n",
    "                                      tissue_reduction$display_name,\n",
    "                                      mat_colnames)\n",
    "colnames(logFC_mat) <- as.character(display_name)"
   ]
  },
  {
   "cell_type": "markdown",
   "metadata": {},
   "source": [
    "### 2.5 Calculate the correlation between the tissues using the logFC\n",
    "\n",
    "Calculate the correlation distances between the tissues using the logFC within each of the tissues.   Clustering by similar expression."
   ]
  },
  {
   "cell_type": "code",
   "execution_count": null,
   "metadata": {},
   "outputs": [],
   "source": [
    "dist_mat<-as.matrix(cor(logFC_mat))\n",
    "colnames(dist_mat) <- as.character(tissue_reduction$display)\n",
    "rownames(dist_mat) <- as.character(tissue_reduction$display)\n",
    "head(dist_mat,2)"
   ]
  },
  {
   "cell_type": "code",
   "execution_count": null,
   "metadata": {},
   "outputs": [],
   "source": [
    "sum(is.na(dist_mat))\n",
    "sum(!is.na(dist_mat))\n",
    "dist_mat_no_NA <- dist_mat\n",
    "dist_mat_no_NA[is.na(dist_mat_no_NA)] = 0\n",
    "sum(is.na(dist_mat_no_NA))\n",
    "sum(!is.na(dist_mat_no_NA))\n",
    "sum(dist_mat_no_NA <0)\n",
    "dist_mat_no_NA_NZ <- dist_mat_no_NA\n",
    "dist_mat_no_NA_NZ[dist_mat_no_NA_NZ <0] = 0\n",
    "sum(dist_mat_no_NA_NZ <0)\n",
    "sum(dist_mat_no_NA_NZ >0)\n",
    "base_mean = rowMeans(dist_mat_no_NA_NZ)\n",
    "base_mean"
   ]
  },
  {
   "cell_type": "markdown",
   "metadata": {},
   "source": [
    "## 3. Render the heatmaps of the distance correlations"
   ]
  },
  {
   "cell_type": "markdown",
   "metadata": {},
   "source": [
    "### 3.1 heatmap dist_mat_no_NA_NZ"
   ]
  },
  {
   "cell_type": "code",
   "execution_count": null,
   "metadata": {},
   "outputs": [],
   "source": [
    "pheatmap(as.matrix(dist_mat_no_NA_NZ), clustering_distance_rows = \"correlation\", clustering_distance_cols = \"correlation\", fontsize = 6)\n",
    "hm.parameters <- list(dist_mat_no_NA_NZ, fontsize = 6)\n",
    "do.call(\"pheatmap\", c(hm.parameters,  filename=\"../pdf/se_alternativeSplicingDistanceCorrelationHeatmapAlllogFC.pdf\"))"
   ]
  },
  {
   "cell_type": "markdown",
   "metadata": {},
   "source": [
    "### 3.2 heatmap normalize quantiles dist_mat_no_NA_NZ"
   ]
  },
  {
   "cell_type": "code",
   "execution_count": null,
   "metadata": {},
   "outputs": [],
   "source": [
    "dist_mat_NQ <- normalizeQuantiles(dist_mat_no_NA_NZ)\n",
    "dist_mat <- as.matrix(cor(dist_mat_NQ))\n",
    "pheatmap(as.matrix(dist_mat), clustering_distance_rows = \"correlation\", clustering_distance_cols = \"correlation\", fontsize = 6)\n",
    "hm.parameters <- list(dist_mat, fontsize = 6)\n",
    "do.call(\"pheatmap\", c(hm.parameters,  filename=\"../pdf/se_alternativeSplicingDistanceCorrelationAlllogFC_NQ.pdf\"))"
   ]
  },
  {
   "cell_type": "markdown",
   "metadata": {},
   "source": [
    "## Appendix Metadata\n",
    "\n",
    "For replicability and reproducibility purposes, we also print the following metadata:\n",
    "\n",
    "### Appendix.1. Checksums with the sha256 algorithm\n",
    "1. Checksums of **'artefacts'**, files generated during the analysis and stored in the folder directory **`data`**\n",
    "2. List of environment metadata, dependencies, versions of libraries using `utils::sessionInfo()` and [`devtools::session_info()`](https://devtools.r-lib.org/reference/session_info.html)"
   ]
  },
  {
   "cell_type": "code",
   "execution_count": null,
   "metadata": {},
   "outputs": [],
   "source": [
    "figure_id   = \"alternativeSplicingHeatmap\""
   ]
  },
  {
   "cell_type": "markdown",
   "metadata": {},
   "source": [
    "### Appendix.2. Libraries"
   ]
  },
  {
   "cell_type": "code",
   "execution_count": null,
   "metadata": {
    "lines_to_next_cell": 0
   },
   "outputs": [],
   "source": [
    "dev_session_info   <- devtools::session_info()\n",
    "utils_session_info <- utils::sessionInfo()\n",
    "\n",
    "message(\"Saving `devtools::session_info()` objects in ../data/devtools_session_info.rds  ..\")\n",
    "saveRDS(dev_session_info, file = paste0(\"../data/\", figure_id, \"_devtools_session_info.rds\"))\n",
    "message(\"Done!\\n\")\n",
    "\n",
    "message(\"Saving `utils::sessionInfo()` objects in ../data/utils_session_info.rds  ..\")\n",
    "saveRDS(utils_session_info, file = paste0(\"../data/\", figure_id ,\"_utils_info.rds\"))\n",
    "message(\"Done!\\n\")\n",
    "\n",
    "dev_session_info$platform\n",
    "dev_session_info$packages[dev_session_info$packages$attached==TRUE, ]"
   ]
  },
  {
   "cell_type": "code",
   "execution_count": null,
   "metadata": {
    "lines_to_next_cell": 2
   },
   "outputs": [],
   "source": []
  }
 ],
 "metadata": {
  "kernelspec": {
   "display_name": "R",
   "language": "R",
   "name": "ir"
  }
 },
 "nbformat": 4,
 "nbformat_minor": 4
}
