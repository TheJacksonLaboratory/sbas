{
 "cells": [
  {
   "cell_type": "markdown",
   "id": "59714a14",
   "metadata": {
    "papermill": {
     "duration": 0.012008,
     "end_time": "2021-06-28T12:26:47.223079",
     "exception": false,
     "start_time": "2021-06-28T12:26:47.211071",
     "status": "completed"
    },
    "tags": []
   },
   "source": [
    "# **Alternative Splicing  Heatplot**\n",
    "This notebook generates a heat plot representing sex-biased differential gene expression as well as a plot showing the counts of differentially expressed genes per tissue.\n",
    "\n",
    "The values in the heatmap represent the correlation (similarity in the fold-changes) between male and female samples, with the values in the heatmap being the correlation between the vectors of fold changes of the tissues.\n",
    "\n",
    "The assumptions made before rendering the heatmaps \n",
    "1. Get differential gene expression (DGE) files\n",
    "2. Use the ``../assets/tissues.tsv`` to limit the tissues to those with at least 50 samples in each sex (``tissues.tsv`` was produced by a Python script)\n",
    "3. Use the pattern for the differentially expressed genes **\"../data/*_AS_model_B_sex_as_events.csv\"** to get all the values for the matrix."
   ]
  },
  {
   "cell_type": "markdown",
   "id": "c91577ca",
   "metadata": {
    "papermill": {
     "duration": 0.010729,
     "end_time": "2021-06-28T12:26:47.244906",
     "exception": false,
     "start_time": "2021-06-28T12:26:47.234177",
     "status": "completed"
    },
    "tags": []
   },
   "source": [
    "## **Running this notebook**:\n",
    "\n",
    "See the README for setting up prerequisites for the notebook."
   ]
  },
  {
   "cell_type": "markdown",
   "id": "b534e1ac",
   "metadata": {
    "papermill": {
     "duration": 0.010515,
     "end_time": "2021-06-28T12:26:47.265949",
     "exception": false,
     "start_time": "2021-06-28T12:26:47.255434",
     "status": "completed"
    },
    "tags": []
   },
   "source": [
    "## 1. Setup \n",
    "\n",
    "Assumes the `countGenesAndEvents.ipynb` notebook was run -- unpacking the results from the differential Gene Expression Analysis as run in the `differentialAlternativeSplicingJunctionAnalysis.ipynb` notebook."
   ]
  },
  {
   "cell_type": "code",
   "execution_count": 1,
   "id": "33cfb1ab",
   "metadata": {
    "execution": {
     "iopub.execute_input": "2021-06-28T12:26:47.408539Z",
     "iopub.status.busy": "2021-06-28T12:26:47.405759Z",
     "iopub.status.idle": "2021-06-28T12:26:54.274626Z",
     "shell.execute_reply": "2021-06-28T12:26:54.273017Z"
    },
    "papermill": {
     "duration": 6.998295,
     "end_time": "2021-06-28T12:26:54.274811",
     "exception": false,
     "start_time": "2021-06-28T12:26:47.276516",
     "status": "completed"
    },
    "tags": []
   },
   "outputs": [
    {
     "name": "stderr",
     "output_type": "stream",
     "text": [
      "'getOption(\"repos\")' replaces Bioconductor standard repositories, see\n",
      "'?repositories' for details\n",
      "\n",
      "replacement repositories:\n",
      "    CRAN: https://cran.r-project.org\n",
      "\n",
      "\n"
     ]
    },
    {
     "name": "stderr",
     "output_type": "stream",
     "text": [
      "Bioconductor version 3.13 (BiocManager 1.30.16), R 4.1.0 (2021-05-18)\n",
      "\n"
     ]
    },
    {
     "name": "stderr",
     "output_type": "stream",
     "text": [
      "Warning message:\n",
      "“package(s) not installed when version(s) same as current; use `force = TRUE` to\n",
      "  re-install: 'edgeR'”\n"
     ]
    },
    {
     "name": "stderr",
     "output_type": "stream",
     "text": [
      "Old packages: 'Biostrings', 'fansi', 'limma', 'RSQLite'\n",
      "\n"
     ]
    },
    {
     "name": "stderr",
     "output_type": "stream",
     "text": [
      "'getOption(\"repos\")' replaces Bioconductor standard repositories, see\n",
      "'?repositories' for details\n",
      "\n",
      "replacement repositories:\n",
      "    CRAN: https://cran.r-project.org\n",
      "\n",
      "\n"
     ]
    },
    {
     "name": "stderr",
     "output_type": "stream",
     "text": [
      "Bioconductor version 3.13 (BiocManager 1.30.16), R 4.1.0 (2021-05-18)\n",
      "\n"
     ]
    },
    {
     "name": "stderr",
     "output_type": "stream",
     "text": [
      "Warning message:\n",
      "“package(s) not installed when version(s) same as current; use `force = TRUE` to\n",
      "  re-install: 'pheatmap'”\n"
     ]
    },
    {
     "name": "stderr",
     "output_type": "stream",
     "text": [
      "Old packages: 'Biostrings', 'fansi', 'limma', 'RSQLite'\n",
      "\n"
     ]
    }
   ],
   "source": [
    "if (!requireNamespace(\"BiocManager\", quietly = TRUE))\n",
    "    install.packages(\"BiocManager\")\n",
    "\n",
    "BiocManager::install(\"edgeR\")\n",
    "BiocManager::install(\"pheatmap\")"
   ]
  },
  {
   "cell_type": "code",
   "execution_count": 2,
   "id": "59ee6fa7",
   "metadata": {
    "execution": {
     "iopub.execute_input": "2021-06-28T12:26:54.334777Z",
     "iopub.status.busy": "2021-06-28T12:26:54.304720Z",
     "iopub.status.idle": "2021-06-28T12:26:54.957728Z",
     "shell.execute_reply": "2021-06-28T12:26:54.956404Z"
    },
    "papermill": {
     "duration": 0.669766,
     "end_time": "2021-06-28T12:26:54.957921",
     "exception": false,
     "start_time": "2021-06-28T12:26:54.288155",
     "status": "completed"
    },
    "tags": []
   },
   "outputs": [],
   "source": [
    "start_time <- Sys.time()\n",
    "\n",
    "suppressMessages({\n",
    "    options(warn = -1) \n",
    "    library(readr)\n",
    "    library(edgeR)\n",
    "    library(stringr)\n",
    "    library(pheatmap)\n",
    "    library(snakecase)\n",
    "    Sys.setenv(TAR = \"/bin/tar\") # for gzfile\n",
    "})"
   ]
  },
  {
   "cell_type": "markdown",
   "id": "8227d765",
   "metadata": {
    "papermill": {
     "duration": 0.012654,
     "end_time": "2021-06-28T12:26:54.983611",
     "exception": false,
     "start_time": "2021-06-28T12:26:54.970957",
     "status": "completed"
    },
    "tags": []
   },
   "source": [
    "## 2. Making the matrices"
   ]
  },
  {
   "cell_type": "markdown",
   "id": "ac945493",
   "metadata": {
    "papermill": {
     "duration": 0.012477,
     "end_time": "2021-06-28T12:26:55.009007",
     "exception": false,
     "start_time": "2021-06-28T12:26:54.996530",
     "status": "completed"
    },
    "tags": []
   },
   "source": [
    "### 2.1 Read in all the alternative Splicing Junction Analysis results\n",
    "\n",
    "Start with the Skipped Exon alternative Splicing Junction Analysis results"
   ]
  },
  {
   "cell_type": "code",
   "execution_count": 3,
   "id": "c9f827e2",
   "metadata": {
    "execution": {
     "iopub.execute_input": "2021-06-28T12:26:55.039747Z",
     "iopub.status.busy": "2021-06-28T12:26:55.038090Z",
     "iopub.status.idle": "2021-06-28T12:26:55.095195Z",
     "shell.execute_reply": "2021-06-28T12:26:55.093890Z"
    },
    "papermill": {
     "duration": 0.07387,
     "end_time": "2021-06-28T12:26:55.095335",
     "exception": false,
     "start_time": "2021-06-28T12:26:55.021465",
     "status": "completed"
    },
    "tags": []
   },
   "outputs": [
    {
     "name": "stderr",
     "output_type": "stream",
     "text": [
      "Number of se AS files found with *AS_model_B_sex_as_events_refined.csv pattern: 195\n",
      "\n"
     ]
    },
    {
     "data": {
      "text/html": [
       "39"
      ],
      "text/latex": [
       "39"
      ],
      "text/markdown": [
       "39"
      ],
      "text/plain": [
       "[1] 39"
      ]
     },
     "metadata": {},
     "output_type": "display_data"
    }
   ],
   "source": [
    "results_dir <- \"../data/\"\n",
    "pattern     <- \"*_AS_model_B_sex_as_events_refined.csv\"\n",
    "files       <- list.files(path = results_dir, pattern = pattern)\n",
    "message(\"Number of se AS files found with *AS_model_B_sex_as_events_refined.csv pattern: \",\n",
    "        length(files))\n",
    "se_files <- files[grepl(\"^se_\", files)]\n",
    "length(se_files)"
   ]
  },
  {
   "cell_type": "markdown",
   "id": "1f852197",
   "metadata": {
    "papermill": {
     "duration": 0.013408,
     "end_time": "2021-06-28T12:26:55.123433",
     "exception": false,
     "start_time": "2021-06-28T12:26:55.110025",
     "status": "completed"
    },
    "tags": []
   },
   "source": [
    "### 2.2 read in the curated \"../assets/tissues.tsv\" \n",
    "\n",
    "The **`../assets/tissues.tsv`** file contains an indication to include the tissue if the file has at least **50** samples in that tissue with either **male** or **female** sex reporting"
   ]
  },
  {
   "cell_type": "code",
   "execution_count": 4,
   "id": "1a6e0da6",
   "metadata": {
    "execution": {
     "iopub.execute_input": "2021-06-28T12:26:55.155197Z",
     "iopub.status.busy": "2021-06-28T12:26:55.153766Z",
     "iopub.status.idle": "2021-06-28T12:26:55.298803Z",
     "shell.execute_reply": "2021-06-28T12:26:55.297479Z"
    },
    "papermill": {
     "duration": 0.162429,
     "end_time": "2021-06-28T12:26:55.298945",
     "exception": false,
     "start_time": "2021-06-28T12:26:55.136516",
     "status": "completed"
    },
    "tags": []
   },
   "outputs": [
    {
     "data": {
      "text/plain": [
       "\n",
       " 0  1 \n",
       "11 39 "
      ]
     },
     "metadata": {},
     "output_type": "display_data"
    },
    {
     "name": "stderr",
     "output_type": "stream",
     "text": [
      "Number of tissues with >=50 samples each in ../assets/tissues.tsv (tissue_reduction)39 5\n",
      "\n"
     ]
    }
   ],
   "source": [
    "# read in all requirements so that the stage is properly set -- \n",
    "# if it is clear here -- it will remain clear for the rest of the time\n",
    "# tissues.tsv contains the subset of files desired for analysis.\n",
    "tissue_reduction <- read.table(file=\"../assets/tissues.tsv\", header=TRUE, sep=\"\\t\",\n",
    "                               skipNul=FALSE, stringsAsFactors = FALSE)\n",
    "colnames(tissue_reduction)  <- c(\"SMTSD\",\"female\",\"male\",\"include\",\"display_name\")\n",
    "tissue_reduction$SMTSD <- factor(snakecase::to_snake_case(as.character(tissue_reduction$SMTSD)))\n",
    "# only include those tissues we wish to continue with\n",
    "table(tissue_reduction$include)\n",
    "tissue_reduction <- tissue_reduction[tissue_reduction$include==1,]\n",
    "\n",
    "message(\"Number of tissues with >=50 samples each in ../assets/tissues.tsv (tissue_reduction)\",\n",
    "        paste(dim(tissue_reduction), collapse=\" \"))"
   ]
  },
  {
   "cell_type": "markdown",
   "id": "74d03f03",
   "metadata": {
    "papermill": {
     "duration": 0.013992,
     "end_time": "2021-06-28T12:26:55.327214",
     "exception": false,
     "start_time": "2021-06-28T12:26:55.313222",
     "status": "completed"
    },
    "tags": []
   },
   "source": [
    "### 2.3 Heatmap gene-junction ids are union of events from all tissues\n",
    "\n",
    "Junctions were removed for statistical requirements -- there are not the same number of results for all of the tissues.  As such we need to build the union of all the ids, order this and use this to enable making all of the matrices."
   ]
  },
  {
   "cell_type": "code",
   "execution_count": 5,
   "id": "671c7712",
   "metadata": {
    "execution": {
     "iopub.execute_input": "2021-06-28T12:26:55.360651Z",
     "iopub.status.busy": "2021-06-28T12:26:55.358984Z",
     "iopub.status.idle": "2021-06-28T12:26:55.417814Z",
     "shell.execute_reply": "2021-06-28T12:26:55.416548Z"
    },
    "papermill": {
     "duration": 0.076842,
     "end_time": "2021-06-28T12:26:55.417948",
     "exception": false,
     "start_time": "2021-06-28T12:26:55.341106",
     "status": "completed"
    },
    "tags": []
   },
   "outputs": [
    {
     "data": {
      "text/html": [
       "39"
      ],
      "text/latex": [
       "39"
      ],
      "text/markdown": [
       "39"
      ],
      "text/plain": [
       "[1] 39"
      ]
     },
     "metadata": {},
     "output_type": "display_data"
    },
    {
     "data": {
      "text/html": [
       "236"
      ],
      "text/latex": [
       "236"
      ],
      "text/markdown": [
       "236"
      ],
      "text/plain": [
       "[1] 236"
      ]
     },
     "metadata": {},
     "output_type": "display_data"
    },
    {
     "data": {
      "text/html": [
       "<style>\n",
       ".list-inline {list-style: none; margin:0; padding: 0}\n",
       ".list-inline>li {display: inline-block}\n",
       ".list-inline>li:not(:last-child)::after {content: \"\\00b7\"; padding: 0 .5ex}\n",
       "</style>\n",
       "<ol class=list-inline><li>'ABCD4-4399'</li><li>'ABCD4-4404'</li><li>'ABCD4-4409'</li><li>'ABI1-35905'</li><li>'ABI1-35908'</li><li>'AC016629.3-27334'</li></ol>\n"
      ],
      "text/latex": [
       "\\begin{enumerate*}\n",
       "\\item 'ABCD4-4399'\n",
       "\\item 'ABCD4-4404'\n",
       "\\item 'ABCD4-4409'\n",
       "\\item 'ABI1-35905'\n",
       "\\item 'ABI1-35908'\n",
       "\\item 'AC016629.3-27334'\n",
       "\\end{enumerate*}\n"
      ],
      "text/markdown": [
       "1. 'ABCD4-4399'\n",
       "2. 'ABCD4-4404'\n",
       "3. 'ABCD4-4409'\n",
       "4. 'ABI1-35905'\n",
       "5. 'ABI1-35908'\n",
       "6. 'AC016629.3-27334'\n",
       "\n",
       "\n"
      ],
      "text/plain": [
       "[1] \"ABCD4-4399\"       \"ABCD4-4404\"       \"ABCD4-4409\"       \"ABI1-35905\"      \n",
       "[5] \"ABI1-35908\"       \"AC016629.3-27334\""
      ]
     },
     "metadata": {},
     "output_type": "display_data"
    }
   ],
   "source": [
    "for (i in 1:length(se_files)) {\n",
    "    fullfilename  <- paste0(\"../data/\",se_files[i])\n",
    "    logFC_result  <- read.csv(fullfilename)\n",
    "    if (dim(logFC_result)[1] > 0) {\n",
    "       filegenesids  <- as.character(rownames(logFC_result))\n",
    "       if (i == 1) {\n",
    "           genesids <- filegenesids\n",
    "       }\n",
    "       genesids      <- union(as.character(genesids),filegenesids)\n",
    "    }\n",
    "}\n",
    "length(se_files)\n",
    "idx <- str_order(genesids)\n",
    "genesids <- genesids[idx]\n",
    "length(genesids)\n",
    "head(genesids)"
   ]
  },
  {
   "cell_type": "markdown",
   "id": "e9c55846",
   "metadata": {
    "papermill": {
     "duration": 0.015293,
     "end_time": "2021-06-28T12:26:55.448741",
     "exception": false,
     "start_time": "2021-06-28T12:26:55.433448",
     "status": "completed"
    },
    "tags": []
   },
   "source": [
    "### 2.4 With the union of gene-junction ids make a matrix of logFC and adjusted pValue data"
   ]
  },
  {
   "cell_type": "markdown",
   "id": "154fdd36",
   "metadata": {
    "papermill": {
     "duration": 0.01499,
     "end_time": "2021-06-28T12:26:55.478992",
     "exception": false,
     "start_time": "2021-06-28T12:26:55.464002",
     "status": "completed"
    },
    "tags": []
   },
   "source": [
    "all these results are already refined, i.e. logFC > log(1.5) and adjusted P-value < 0.05"
   ]
  },
  {
   "cell_type": "code",
   "execution_count": 6,
   "id": "51711894",
   "metadata": {
    "execution": {
     "iopub.execute_input": "2021-06-28T12:26:55.514228Z",
     "iopub.status.busy": "2021-06-28T12:26:55.512737Z",
     "iopub.status.idle": "2021-06-28T12:26:55.618558Z",
     "shell.execute_reply": "2021-06-28T12:26:55.617458Z"
    },
    "papermill": {
     "duration": 0.124872,
     "end_time": "2021-06-28T12:26:55.618688",
     "exception": false,
     "start_time": "2021-06-28T12:26:55.493816",
     "status": "completed"
    },
    "tags": []
   },
   "outputs": [],
   "source": [
    "#files <- se_files\n",
    "mat_colnames = NA\n",
    "logFC_mat <- matrix(0.0, nrow=length(genesids), ncol = 1)\n",
    "next_col  <- matrix(0.0, nrow=length(genesids), ncol = 1)\n",
    "mat_col_num <- 0\n",
    "\n",
    "#for (i in 1:length(se_files)) {\n",
    "for (i in 1:length(se_files)) {\n",
    "    fullfilename  <- paste0(\"../data/\",se_files[i])\n",
    "    logFC_result  <- read.csv(fullfilename)\n",
    "    if (dim(logFC_result)[1] > 0) {\n",
    "        logFC_result  <- read.csv(fullfilename)\n",
    "        if (is.na(mat_colnames)) {\n",
    "            rownames(logFC_mat) <- as.character(genesids)\n",
    "            mat_colnames <- as.vector(se_files[i])\n",
    "            mat_col_num  <- 1\n",
    "        } else {\n",
    "            logFC_mat    <- cbind(logFC_mat, next_col)\n",
    "            mat_colnames <- as.vector(c(mat_colnames, se_files[i]))\n",
    "            mat_col_num  <- mat_col_num + 1\n",
    "        }\n",
    "        filegenesids  <- as.character(rownames(logFC_result))\n",
    "        # match the filegenesids in the list of unioned genesids for placing the significant gene-junction values\n",
    "        # in the matrix where rows are gene-junctions and columns are tissues (filegenesids)\n",
    "        for (j in 1:length(filegenesids)) {\n",
    "            genesids_match <- genesids %in% filegenesids[j]\n",
    "            logFC_mat[genesids_match==TRUE,mat_col_num] <- logFC_result[filegenesids[j],\"logFC\"]\n",
    "        }\n",
    "    }\n",
    "}\n",
    "\n",
    "mat_colnames <- as.vector(unclass(mat_colnames))\n",
    "display_name <- mat_colnames\n",
    "for (i in 1:length(mat_colnames)) {\n",
    "    mat_colnames[i] <- gsub(pattern,\"\", mat_colnames[i])\n",
    "    mat_colnames[i] <- substring(mat_colnames[i], 4)\n",
    "    display_name[i] <- ifelse(mat_colnames[i] == tissue_reduction$SMTSD,\n",
    "                                                 tissue_reduction$display_name,\n",
    "                                                 mat_colnames[i])\n",
    "}\n",
    "\n",
    "\n",
    "colnames(logFC_mat) <- as.character(display_name)"
   ]
  },
  {
   "cell_type": "markdown",
   "id": "f4d277de",
   "metadata": {
    "papermill": {
     "duration": 0.015257,
     "end_time": "2021-06-28T12:26:55.649407",
     "exception": false,
     "start_time": "2021-06-28T12:26:55.634150",
     "status": "completed"
    },
    "tags": []
   },
   "source": [
    "### 2.5 Calculate the correlation between the tissues using the logFC\n",
    "\n",
    "Calculate the correlation distances between the tissues using the logFC within each of the tissues.   Clustering by similar expression."
   ]
  },
  {
   "cell_type": "code",
   "execution_count": 7,
   "id": "ba5e0789",
   "metadata": {
    "execution": {
     "iopub.execute_input": "2021-06-28T12:26:55.685181Z",
     "iopub.status.busy": "2021-06-28T12:26:55.683705Z",
     "iopub.status.idle": "2021-06-28T12:26:55.713180Z",
     "shell.execute_reply": "2021-06-28T12:26:55.711845Z"
    },
    "papermill": {
     "duration": 0.048704,
     "end_time": "2021-06-28T12:26:55.713331",
     "exception": false,
     "start_time": "2021-06-28T12:26:55.664627",
     "status": "completed"
    },
    "tags": []
   },
   "outputs": [
    {
     "data": {
      "text/html": [
       "<table class=\"dataframe\">\n",
       "<caption>A matrix: 2 × 23 of type dbl</caption>\n",
       "<thead>\n",
       "\t<tr><th></th><th scope=col>Adipose (sc)</th><th scope=col>adipose_visceral_omentum</th><th scope=col>artery_aorta</th><th scope=col>artery_coronary</th><th scope=col>artery_tibial</th><th scope=col>brain_cerebellar_hemisphere</th><th scope=col>brain_cerebellum</th><th scope=col>brain_hippocampus</th><th scope=col>brain_nucleus_accumbens_basal_ganglia</th><th scope=col>brain_putamen_basal_ganglia</th><th scope=col>⋯</th><th scope=col>colon_sigmoid</th><th scope=col>colon_transverse</th><th scope=col>esophagus_gastroesophageal_junction</th><th scope=col>esophagus_muscularis</th><th scope=col>nerve_tibial</th><th scope=col>pancreas</th><th scope=col>skin_sun_exposed_lower_leg</th><th scope=col>spleen</th><th scope=col>stomach</th><th scope=col>thyroid</th></tr>\n",
       "</thead>\n",
       "<tbody>\n",
       "\t<tr><th scope=row>Adipose (sc)</th><td>1.0000000</td><td>0.7145397</td><td>0.4412615</td><td>0.7145397</td><td>0.4397744</td><td>0.7145397</td><td>0.2697280</td><td>0.004823877</td><td>0.012456584</td><td>0.007247911</td><td>⋯</td><td>0.2028139</td><td>0.0007275211</td><td>0.7145397</td><td>0.3639796</td><td>0.7145397</td><td>-0.007247911</td><td>0.4316909</td><td>0.007247911</td><td>-0.007247911</td><td>0.7145397</td></tr>\n",
       "\t<tr><th scope=row>adipose_visceral_omentum</th><td>0.7145397</td><td>1.0000000</td><td>0.6139824</td><td>1.0000000</td><td>0.6132745</td><td>1.0000000</td><td>0.3776775</td><td>0.002832145</td><td>0.007313382</td><td>0.004255319</td><td>⋯</td><td>0.2864682</td><td>0.0004271347</td><td>1.0000000</td><td>0.4978853</td><td>1.0000000</td><td>-0.004255319</td><td>0.6002262</td><td>0.004255319</td><td>-0.004255319</td><td>1.0000000</td></tr>\n",
       "</tbody>\n",
       "</table>\n"
      ],
      "text/latex": [
       "A matrix: 2 × 23 of type dbl\n",
       "\\begin{tabular}{r|lllllllllllllllllllll}\n",
       "  & Adipose (sc) & adipose\\_visceral\\_omentum & artery\\_aorta & artery\\_coronary & artery\\_tibial & brain\\_cerebellar\\_hemisphere & brain\\_cerebellum & brain\\_hippocampus & brain\\_nucleus\\_accumbens\\_basal\\_ganglia & brain\\_putamen\\_basal\\_ganglia & ⋯ & colon\\_sigmoid & colon\\_transverse & esophagus\\_gastroesophageal\\_junction & esophagus\\_muscularis & nerve\\_tibial & pancreas & skin\\_sun\\_exposed\\_lower\\_leg & spleen & stomach & thyroid\\\\\n",
       "\\hline\n",
       "\tAdipose (sc) & 1.0000000 & 0.7145397 & 0.4412615 & 0.7145397 & 0.4397744 & 0.7145397 & 0.2697280 & 0.004823877 & 0.012456584 & 0.007247911 & ⋯ & 0.2028139 & 0.0007275211 & 0.7145397 & 0.3639796 & 0.7145397 & -0.007247911 & 0.4316909 & 0.007247911 & -0.007247911 & 0.7145397\\\\\n",
       "\tadipose\\_visceral\\_omentum & 0.7145397 & 1.0000000 & 0.6139824 & 1.0000000 & 0.6132745 & 1.0000000 & 0.3776775 & 0.002832145 & 0.007313382 & 0.004255319 & ⋯ & 0.2864682 & 0.0004271347 & 1.0000000 & 0.4978853 & 1.0000000 & -0.004255319 & 0.6002262 & 0.004255319 & -0.004255319 & 1.0000000\\\\\n",
       "\\end{tabular}\n"
      ],
      "text/markdown": [
       "\n",
       "A matrix: 2 × 23 of type dbl\n",
       "\n",
       "| <!--/--> | Adipose (sc) | adipose_visceral_omentum | artery_aorta | artery_coronary | artery_tibial | brain_cerebellar_hemisphere | brain_cerebellum | brain_hippocampus | brain_nucleus_accumbens_basal_ganglia | brain_putamen_basal_ganglia | ⋯ | colon_sigmoid | colon_transverse | esophagus_gastroesophageal_junction | esophagus_muscularis | nerve_tibial | pancreas | skin_sun_exposed_lower_leg | spleen | stomach | thyroid |\n",
       "|---|---|---|---|---|---|---|---|---|---|---|---|---|---|---|---|---|---|---|---|---|---|\n",
       "| Adipose (sc) | 1.0000000 | 0.7145397 | 0.4412615 | 0.7145397 | 0.4397744 | 0.7145397 | 0.2697280 | 0.004823877 | 0.012456584 | 0.007247911 | ⋯ | 0.2028139 | 0.0007275211 | 0.7145397 | 0.3639796 | 0.7145397 | -0.007247911 | 0.4316909 | 0.007247911 | -0.007247911 | 0.7145397 |\n",
       "| adipose_visceral_omentum | 0.7145397 | 1.0000000 | 0.6139824 | 1.0000000 | 0.6132745 | 1.0000000 | 0.3776775 | 0.002832145 | 0.007313382 | 0.004255319 | ⋯ | 0.2864682 | 0.0004271347 | 1.0000000 | 0.4978853 | 1.0000000 | -0.004255319 | 0.6002262 | 0.004255319 | -0.004255319 | 1.0000000 |\n",
       "\n"
      ],
      "text/plain": [
       "                         Adipose (sc) adipose_visceral_omentum artery_aorta\n",
       "Adipose (sc)             1.0000000    0.7145397                0.4412615   \n",
       "adipose_visceral_omentum 0.7145397    1.0000000                0.6139824   \n",
       "                         artery_coronary artery_tibial\n",
       "Adipose (sc)             0.7145397       0.4397744    \n",
       "adipose_visceral_omentum 1.0000000       0.6132745    \n",
       "                         brain_cerebellar_hemisphere brain_cerebellum\n",
       "Adipose (sc)             0.7145397                   0.2697280       \n",
       "adipose_visceral_omentum 1.0000000                   0.3776775       \n",
       "                         brain_hippocampus\n",
       "Adipose (sc)             0.004823877      \n",
       "adipose_visceral_omentum 0.002832145      \n",
       "                         brain_nucleus_accumbens_basal_ganglia\n",
       "Adipose (sc)             0.012456584                          \n",
       "adipose_visceral_omentum 0.007313382                          \n",
       "                         brain_putamen_basal_ganglia ⋯ colon_sigmoid\n",
       "Adipose (sc)             0.007247911                 ⋯ 0.2028139    \n",
       "adipose_visceral_omentum 0.004255319                 ⋯ 0.2864682    \n",
       "                         colon_transverse esophagus_gastroesophageal_junction\n",
       "Adipose (sc)             0.0007275211     0.7145397                          \n",
       "adipose_visceral_omentum 0.0004271347     1.0000000                          \n",
       "                         esophagus_muscularis nerve_tibial pancreas    \n",
       "Adipose (sc)             0.3639796            0.7145397    -0.007247911\n",
       "adipose_visceral_omentum 0.4978853            1.0000000    -0.004255319\n",
       "                         skin_sun_exposed_lower_leg spleen      stomach     \n",
       "Adipose (sc)             0.4316909                  0.007247911 -0.007247911\n",
       "adipose_visceral_omentum 0.6002262                  0.004255319 -0.004255319\n",
       "                         thyroid  \n",
       "Adipose (sc)             0.7145397\n",
       "adipose_visceral_omentum 1.0000000"
      ]
     },
     "metadata": {},
     "output_type": "display_data"
    }
   ],
   "source": [
    "dist_mat<-as.matrix(cor(logFC_mat))\n",
    "colnames(dist_mat) <- as.character(display_name)\n",
    "rownames(dist_mat) <- as.character(display_name)\n",
    "head(dist_mat,2)"
   ]
  },
  {
   "cell_type": "code",
   "execution_count": 8,
   "id": "8ad43df6",
   "metadata": {
    "execution": {
     "iopub.execute_input": "2021-06-28T12:26:55.750435Z",
     "iopub.status.busy": "2021-06-28T12:26:55.749054Z",
     "iopub.status.idle": "2021-06-28T12:26:55.801709Z",
     "shell.execute_reply": "2021-06-28T12:26:55.800312Z"
    },
    "papermill": {
     "duration": 0.072529,
     "end_time": "2021-06-28T12:26:55.801839",
     "exception": false,
     "start_time": "2021-06-28T12:26:55.729310",
     "status": "completed"
    },
    "tags": []
   },
   "outputs": [
    {
     "data": {
      "text/html": [
       "0"
      ],
      "text/latex": [
       "0"
      ],
      "text/markdown": [
       "0"
      ],
      "text/plain": [
       "[1] 0"
      ]
     },
     "metadata": {},
     "output_type": "display_data"
    },
    {
     "data": {
      "text/html": [
       "529"
      ],
      "text/latex": [
       "529"
      ],
      "text/markdown": [
       "529"
      ],
      "text/plain": [
       "[1] 529"
      ]
     },
     "metadata": {},
     "output_type": "display_data"
    },
    {
     "data": {
      "text/html": [
       "0"
      ],
      "text/latex": [
       "0"
      ],
      "text/markdown": [
       "0"
      ],
      "text/plain": [
       "[1] 0"
      ]
     },
     "metadata": {},
     "output_type": "display_data"
    },
    {
     "data": {
      "text/html": [
       "529"
      ],
      "text/latex": [
       "529"
      ],
      "text/markdown": [
       "529"
      ],
      "text/plain": [
       "[1] 529"
      ]
     },
     "metadata": {},
     "output_type": "display_data"
    },
    {
     "data": {
      "text/html": [
       "130"
      ],
      "text/latex": [
       "130"
      ],
      "text/markdown": [
       "130"
      ],
      "text/plain": [
       "[1] 130"
      ]
     },
     "metadata": {},
     "output_type": "display_data"
    },
    {
     "data": {
      "text/html": [
       "0"
      ],
      "text/latex": [
       "0"
      ],
      "text/markdown": [
       "0"
      ],
      "text/plain": [
       "[1] 0"
      ]
     },
     "metadata": {},
     "output_type": "display_data"
    },
    {
     "data": {
      "text/html": [
       "399"
      ],
      "text/latex": [
       "399"
      ],
      "text/markdown": [
       "399"
      ],
      "text/plain": [
       "[1] 399"
      ]
     },
     "metadata": {},
     "output_type": "display_data"
    },
    {
     "data": {
      "text/html": [
       "<style>\n",
       ".dl-inline {width: auto; margin:0; padding: 0}\n",
       ".dl-inline>dt, .dl-inline>dd {float: none; width: auto; display: inline-block}\n",
       ".dl-inline>dt::after {content: \":\\0020\"; padding-right: .5ex}\n",
       ".dl-inline>dt:not(:first-of-type) {padding-left: .5ex}\n",
       "</style><dl class=dl-inline><dt>Adipose (sc)</dt><dd>0.325600452388384</dd><dt>adipose_visceral_omentum</dt><dd>0.425026799470552</dd><dt>artery_aorta</dt><dd>0.287843276294234</dd><dt>artery_coronary</dt><dd>0.425026799470552</dd><dt>artery_tibial</dt><dd>0.293386496706581</dd><dt>brain_cerebellar_hemisphere</dt><dd>0.425026799470552</dd><dt>brain_cerebellum</dt><dd>0.197814465796049</dd><dt>brain_hippocampus</dt><dd>0.0456167364207537</dd><dt>brain_nucleus_accumbens_basal_ganglia</dt><dd>0.0547443014023878</dd><dt>brain_putamen_basal_ganglia</dt><dd>0.0466913362625607</dd><dt>brain_spinal_cord_cervical_c_1</dt><dd>0.0447767536945522</dd><dt>breast_mammary_tissue</dt><dd>0.0712373322282047</dd><dt>cells_ebv_transformed_lymphocytes</dt><dd>0.0466913362625607</dd><dt>colon_sigmoid</dt><dd>0.188594373021576</dd><dt>colon_transverse</dt><dd>0.0438007786436255</dd><dt>esophagus_gastroesophageal_junction</dt><dd>0.425026799470552</dd><dt>esophagus_muscularis</dt><dd>0.246445609433949</dd><dt>nerve_tibial</dt><dd>0.425026799470552</dd><dt>pancreas</dt><dd>0.0714666073893245</dd><dt>skin_sun_exposed_lower_leg</dt><dd>0.282818644449181</dd><dt>spleen</dt><dd>0.0466913362625607</dd><dt>stomach</dt><dd>0.0447767536945522</dd><dt>thyroid</dt><dd>0.425026799470552</dd></dl>\n"
      ],
      "text/latex": [
       "\\begin{description*}\n",
       "\\item[Adipose (sc)] 0.325600452388384\n",
       "\\item[adipose\\textbackslash{}\\_visceral\\textbackslash{}\\_omentum] 0.425026799470552\n",
       "\\item[artery\\textbackslash{}\\_aorta] 0.287843276294234\n",
       "\\item[artery\\textbackslash{}\\_coronary] 0.425026799470552\n",
       "\\item[artery\\textbackslash{}\\_tibial] 0.293386496706581\n",
       "\\item[brain\\textbackslash{}\\_cerebellar\\textbackslash{}\\_hemisphere] 0.425026799470552\n",
       "\\item[brain\\textbackslash{}\\_cerebellum] 0.197814465796049\n",
       "\\item[brain\\textbackslash{}\\_hippocampus] 0.0456167364207537\n",
       "\\item[brain\\textbackslash{}\\_nucleus\\textbackslash{}\\_accumbens\\textbackslash{}\\_basal\\textbackslash{}\\_ganglia] 0.0547443014023878\n",
       "\\item[brain\\textbackslash{}\\_putamen\\textbackslash{}\\_basal\\textbackslash{}\\_ganglia] 0.0466913362625607\n",
       "\\item[brain\\textbackslash{}\\_spinal\\textbackslash{}\\_cord\\textbackslash{}\\_cervical\\textbackslash{}\\_c\\textbackslash{}\\_1] 0.0447767536945522\n",
       "\\item[breast\\textbackslash{}\\_mammary\\textbackslash{}\\_tissue] 0.0712373322282047\n",
       "\\item[cells\\textbackslash{}\\_ebv\\textbackslash{}\\_transformed\\textbackslash{}\\_lymphocytes] 0.0466913362625607\n",
       "\\item[colon\\textbackslash{}\\_sigmoid] 0.188594373021576\n",
       "\\item[colon\\textbackslash{}\\_transverse] 0.0438007786436255\n",
       "\\item[esophagus\\textbackslash{}\\_gastroesophageal\\textbackslash{}\\_junction] 0.425026799470552\n",
       "\\item[esophagus\\textbackslash{}\\_muscularis] 0.246445609433949\n",
       "\\item[nerve\\textbackslash{}\\_tibial] 0.425026799470552\n",
       "\\item[pancreas] 0.0714666073893245\n",
       "\\item[skin\\textbackslash{}\\_sun\\textbackslash{}\\_exposed\\textbackslash{}\\_lower\\textbackslash{}\\_leg] 0.282818644449181\n",
       "\\item[spleen] 0.0466913362625607\n",
       "\\item[stomach] 0.0447767536945522\n",
       "\\item[thyroid] 0.425026799470552\n",
       "\\end{description*}\n"
      ],
      "text/markdown": [
       "Adipose (sc)\n",
       ":   0.325600452388384adipose_visceral_omentum\n",
       ":   0.425026799470552artery_aorta\n",
       ":   0.287843276294234artery_coronary\n",
       ":   0.425026799470552artery_tibial\n",
       ":   0.293386496706581brain_cerebellar_hemisphere\n",
       ":   0.425026799470552brain_cerebellum\n",
       ":   0.197814465796049brain_hippocampus\n",
       ":   0.0456167364207537brain_nucleus_accumbens_basal_ganglia\n",
       ":   0.0547443014023878brain_putamen_basal_ganglia\n",
       ":   0.0466913362625607brain_spinal_cord_cervical_c_1\n",
       ":   0.0447767536945522breast_mammary_tissue\n",
       ":   0.0712373322282047cells_ebv_transformed_lymphocytes\n",
       ":   0.0466913362625607colon_sigmoid\n",
       ":   0.188594373021576colon_transverse\n",
       ":   0.0438007786436255esophagus_gastroesophageal_junction\n",
       ":   0.425026799470552esophagus_muscularis\n",
       ":   0.246445609433949nerve_tibial\n",
       ":   0.425026799470552pancreas\n",
       ":   0.0714666073893245skin_sun_exposed_lower_leg\n",
       ":   0.282818644449181spleen\n",
       ":   0.0466913362625607stomach\n",
       ":   0.0447767536945522thyroid\n",
       ":   0.425026799470552\n",
       "\n"
      ],
      "text/plain": [
       "                         Adipose (sc)              adipose_visceral_omentum \n",
       "                           0.32560045                            0.42502680 \n",
       "                         artery_aorta                       artery_coronary \n",
       "                           0.28784328                            0.42502680 \n",
       "                        artery_tibial           brain_cerebellar_hemisphere \n",
       "                           0.29338650                            0.42502680 \n",
       "                     brain_cerebellum                     brain_hippocampus \n",
       "                           0.19781447                            0.04561674 \n",
       "brain_nucleus_accumbens_basal_ganglia           brain_putamen_basal_ganglia \n",
       "                           0.05474430                            0.04669134 \n",
       "       brain_spinal_cord_cervical_c_1                 breast_mammary_tissue \n",
       "                           0.04477675                            0.07123733 \n",
       "    cells_ebv_transformed_lymphocytes                         colon_sigmoid \n",
       "                           0.04669134                            0.18859437 \n",
       "                     colon_transverse   esophagus_gastroesophageal_junction \n",
       "                           0.04380078                            0.42502680 \n",
       "                 esophagus_muscularis                          nerve_tibial \n",
       "                           0.24644561                            0.42502680 \n",
       "                             pancreas            skin_sun_exposed_lower_leg \n",
       "                           0.07146661                            0.28281864 \n",
       "                               spleen                               stomach \n",
       "                           0.04669134                            0.04477675 \n",
       "                              thyroid \n",
       "                           0.42502680 "
      ]
     },
     "metadata": {},
     "output_type": "display_data"
    }
   ],
   "source": [
    "sum(is.na(dist_mat))\n",
    "sum(!is.na(dist_mat))\n",
    "dist_mat_no_NA <- dist_mat\n",
    "dist_mat_no_NA[is.na(dist_mat_no_NA)] = 0\n",
    "sum(is.na(dist_mat_no_NA))\n",
    "sum(!is.na(dist_mat_no_NA))\n",
    "sum(dist_mat_no_NA <0)\n",
    "dist_mat_no_NA_NZ <- dist_mat_no_NA\n",
    "dist_mat_no_NA_NZ[dist_mat_no_NA_NZ <0] = 0\n",
    "sum(dist_mat_no_NA_NZ <0)\n",
    "sum(dist_mat_no_NA_NZ >0)\n",
    "base_mean = rowMeans(dist_mat_no_NA_NZ)\n",
    "base_mean"
   ]
  },
  {
   "cell_type": "markdown",
   "id": "8a91dff2",
   "metadata": {
    "papermill": {
     "duration": 0.019415,
     "end_time": "2021-06-28T12:26:55.840906",
     "exception": false,
     "start_time": "2021-06-28T12:26:55.821491",
     "status": "completed"
    },
    "tags": []
   },
   "source": [
    "## 3. Render the heatmaps of the distance correlations"
   ]
  },
  {
   "cell_type": "markdown",
   "id": "5a8f109a",
   "metadata": {
    "papermill": {
     "duration": 0.019403,
     "end_time": "2021-06-28T12:26:55.880744",
     "exception": false,
     "start_time": "2021-06-28T12:26:55.861341",
     "status": "completed"
    },
    "tags": []
   },
   "source": [
    "### 3.1 heatmap dist_mat_no_NA_NZ"
   ]
  },
  {
   "cell_type": "code",
   "execution_count": 9,
   "id": "3d99b5c3",
   "metadata": {
    "execution": {
     "iopub.execute_input": "2021-06-28T12:26:55.924481Z",
     "iopub.status.busy": "2021-06-28T12:26:55.923051Z",
     "iopub.status.idle": "2021-06-28T12:26:56.151372Z",
     "shell.execute_reply": "2021-06-28T12:26:56.150856Z"
    },
    "papermill": {
     "duration": 0.251523,
     "end_time": "2021-06-28T12:26:56.151490",
     "exception": false,
     "start_time": "2021-06-28T12:26:55.899967",
     "status": "completed"
    },
    "tags": []
   },
   "outputs": [
    {
     "data": {
      "image/png": "[encoded data removed]",
      "text/plain": [
       "plot without title"
      ]
     },
     "metadata": {
      "image/png": {
       "height": 420,
       "width": 420
      }
     },
     "output_type": "display_data"
    }
   ],
   "source": [
    "pheatmap(as.matrix(dist_mat_no_NA_NZ), clustering_distance_rows = \"correlation\", clustering_distance_cols = \"correlation\", fontsize = 6)\n",
    "hm.parameters <- list(dist_mat_no_NA_NZ, fontsize = 6)\n",
    "do.call(\"pheatmap\", c(hm.parameters,  filename=\"../pdf/se_alternativeSplicingDistanceCorrelationHeatmapAlllogFC.pdf\"))"
   ]
  },
  {
   "cell_type": "markdown",
   "id": "2d433037",
   "metadata": {
    "papermill": {
     "duration": 0.022831,
     "end_time": "2021-06-28T12:26:56.197162",
     "exception": false,
     "start_time": "2021-06-28T12:26:56.174331",
     "status": "completed"
    },
    "tags": []
   },
   "source": [
    "### 3.2 heatmap normalize quantiles dist_mat_no_NA_NZ"
   ]
  },
  {
   "cell_type": "code",
   "execution_count": 10,
   "id": "92acbe21",
   "metadata": {
    "execution": {
     "iopub.execute_input": "2021-06-28T12:26:56.246823Z",
     "iopub.status.busy": "2021-06-28T12:26:56.245577Z",
     "iopub.status.idle": "2021-06-28T12:26:56.419492Z",
     "shell.execute_reply": "2021-06-28T12:26:56.418975Z"
    },
    "papermill": {
     "duration": 0.200206,
     "end_time": "2021-06-28T12:26:56.419612",
     "exception": false,
     "start_time": "2021-06-28T12:26:56.219406",
     "status": "completed"
    },
    "tags": []
   },
   "outputs": [
    {
     "data": {
      "image/png": "[encoded data removed]",
      "text/plain": [
       "plot without title"
      ]
     },
     "metadata": {
      "image/png": {
       "height": 420,
       "width": 420
      }
     },
     "output_type": "display_data"
    }
   ],
   "source": [
    "dist_mat_NQ <- normalizeQuantiles(dist_mat_no_NA_NZ)\n",
    "dist_mat <- as.matrix(cor(dist_mat_NQ))\n",
    "pheatmap(as.matrix(dist_mat), clustering_distance_rows = \"correlation\", clustering_distance_cols = \"correlation\", fontsize = 6)\n",
    "hm.parameters <- list(dist_mat, fontsize = 6)\n",
    "do.call(\"pheatmap\", c(hm.parameters,  filename=\"../pdf/se_alternativeSplicingDistanceCorrelationAlllogFC_NQ.pdf\"))"
   ]
  },
  {
   "cell_type": "markdown",
   "id": "622451a8",
   "metadata": {
    "papermill": {
     "duration": 0.025392,
     "end_time": "2021-06-28T12:26:56.470682",
     "exception": false,
     "start_time": "2021-06-28T12:26:56.445290",
     "status": "completed"
    },
    "tags": []
   },
   "source": [
    "## Appendix Metadata\n",
    "\n",
    "For replicability and reproducibility purposes, we also print the following metadata:\n",
    "\n",
    "### Appendix.1. Checksums with the sha256 algorithm\n",
    "1. Checksums of **'artefacts'**, files generated during the analysis and stored in the folder directory **`data`**\n",
    "2. List of environment metadata, dependencies, versions of libraries using `utils::sessionInfo()` and [`devtools::session_info()`](https://devtools.r-lib.org/reference/session_info.html)"
   ]
  },
  {
   "cell_type": "code",
   "execution_count": 11,
   "id": "42367e4c",
   "metadata": {
    "execution": {
     "iopub.execute_input": "2021-06-28T12:26:56.525581Z",
     "iopub.status.busy": "2021-06-28T12:26:56.524450Z",
     "iopub.status.idle": "2021-06-28T12:26:56.536237Z",
     "shell.execute_reply": "2021-06-28T12:26:56.534951Z"
    },
    "papermill": {
     "duration": 0.040911,
     "end_time": "2021-06-28T12:26:56.536390",
     "exception": false,
     "start_time": "2021-06-28T12:26:56.495479",
     "status": "completed"
    },
    "tags": []
   },
   "outputs": [],
   "source": [
    "figure_id   = \"alternativeSplicingHeatmap\""
   ]
  },
  {
   "cell_type": "markdown",
   "id": "01b222d9",
   "metadata": {
    "papermill": {
     "duration": 0.025016,
     "end_time": "2021-06-28T12:26:56.586609",
     "exception": false,
     "start_time": "2021-06-28T12:26:56.561593",
     "status": "completed"
    },
    "tags": []
   },
   "source": [
    "### Appendix.2. Libraries"
   ]
  },
  {
   "cell_type": "code",
   "execution_count": 12,
   "id": "0d8de335",
   "metadata": {
    "execution": {
     "iopub.execute_input": "2021-06-28T12:26:56.641845Z",
     "iopub.status.busy": "2021-06-28T12:26:56.640445Z",
     "iopub.status.idle": "2021-06-28T12:26:57.325661Z",
     "shell.execute_reply": "2021-06-28T12:26:57.324333Z"
    },
    "lines_to_next_cell": 0,
    "papermill": {
     "duration": 0.714235,
     "end_time": "2021-06-28T12:26:57.325801",
     "exception": false,
     "start_time": "2021-06-28T12:26:56.611566",
     "status": "completed"
    },
    "tags": []
   },
   "outputs": [
    {
     "name": "stderr",
     "output_type": "stream",
     "text": [
      "Saving `devtools::session_info()` objects in ../data/devtools_session_info.rds  ..\n",
      "\n"
     ]
    },
    {
     "name": "stderr",
     "output_type": "stream",
     "text": [
      "Done!\n",
      "\n",
      "\n"
     ]
    },
    {
     "name": "stderr",
     "output_type": "stream",
     "text": [
      "Saving `utils::sessionInfo()` objects in ../data/utils_session_info.rds  ..\n",
      "\n"
     ]
    },
    {
     "name": "stderr",
     "output_type": "stream",
     "text": [
      "Done!\n",
      "\n",
      "\n"
     ]
    },
    {
     "data": {
      "text/plain": [
       " setting  value                       \n",
       " version  R version 4.1.0 (2021-05-18)\n",
       " os       Ubuntu 18.04.4 LTS          \n",
       " system   x86_64, linux-gnu           \n",
       " ui       X11                         \n",
       " language en_US.UTF-8                 \n",
       " collate  en_US.UTF-8                 \n",
       " ctype    en_US.UTF-8                 \n",
       " tz       Etc/UTC                     \n",
       " date     2021-06-28                  "
      ]
     },
     "metadata": {},
     "output_type": "display_data"
    },
    {
     "data": {
      "text/html": [
       "<table class=\"dataframe\">\n",
       "<caption>A packages_info: 6 × 11</caption>\n",
       "<thead>\n",
       "\t<tr><th></th><th scope=col>package</th><th scope=col>ondiskversion</th><th scope=col>loadedversion</th><th scope=col>path</th><th scope=col>loadedpath</th><th scope=col>attached</th><th scope=col>is_base</th><th scope=col>date</th><th scope=col>source</th><th scope=col>md5ok</th><th scope=col>library</th></tr>\n",
       "\t<tr><th></th><th scope=col>&lt;chr&gt;</th><th scope=col>&lt;chr&gt;</th><th scope=col>&lt;chr&gt;</th><th scope=col>&lt;chr&gt;</th><th scope=col>&lt;chr&gt;</th><th scope=col>&lt;lgl&gt;</th><th scope=col>&lt;lgl&gt;</th><th scope=col>&lt;chr&gt;</th><th scope=col>&lt;chr&gt;</th><th scope=col>&lt;lgl&gt;</th><th scope=col>&lt;fct&gt;</th></tr>\n",
       "</thead>\n",
       "<tbody>\n",
       "\t<tr><th scope=row>edgeR</th><td>edgeR    </td><td>3.34.0</td><td>3.34.0</td><td>/opt/conda/envs/sbas/lib/R/library/edgeR    </td><td>/opt/conda/envs/sbas/lib/R/library/edgeR    </td><td>TRUE</td><td>FALSE</td><td>2021-05-19</td><td>Bioconductor  </td><td>NA</td><td>/opt/conda/envs/sbas/lib/R/library</td></tr>\n",
       "\t<tr><th scope=row>limma</th><td>limma    </td><td>3.48.0</td><td>3.48.0</td><td>/opt/conda/envs/sbas/lib/R/library/limma    </td><td>/opt/conda/envs/sbas/lib/R/library/limma    </td><td>TRUE</td><td>FALSE</td><td>2021-05-19</td><td>Bioconductor  </td><td>NA</td><td>/opt/conda/envs/sbas/lib/R/library</td></tr>\n",
       "\t<tr><th scope=row>pheatmap</th><td>pheatmap </td><td>1.0.12</td><td>1.0.12</td><td>/opt/conda/envs/sbas/lib/R/library/pheatmap </td><td>/opt/conda/envs/sbas/lib/R/library/pheatmap </td><td>TRUE</td><td>FALSE</td><td>2019-01-04</td><td>CRAN (R 4.1.0)</td><td>NA</td><td>/opt/conda/envs/sbas/lib/R/library</td></tr>\n",
       "\t<tr><th scope=row>readr</th><td>readr    </td><td>1.4.0 </td><td>1.4.0 </td><td>/opt/conda/envs/sbas/lib/R/library/readr    </td><td>/opt/conda/envs/sbas/lib/R/library/readr    </td><td>TRUE</td><td>FALSE</td><td>2020-10-05</td><td>CRAN (R 4.1.0)</td><td>NA</td><td>/opt/conda/envs/sbas/lib/R/library</td></tr>\n",
       "\t<tr><th scope=row>snakecase</th><td>snakecase</td><td>0.11.0</td><td>0.11.0</td><td>/opt/conda/envs/sbas/lib/R/library/snakecase</td><td>/opt/conda/envs/sbas/lib/R/library/snakecase</td><td>TRUE</td><td>FALSE</td><td>2019-05-25</td><td>CRAN (R 4.1.0)</td><td>NA</td><td>/opt/conda/envs/sbas/lib/R/library</td></tr>\n",
       "\t<tr><th scope=row>stringr</th><td>stringr  </td><td>1.4.0 </td><td>1.4.0 </td><td>/opt/conda/envs/sbas/lib/R/library/stringr  </td><td>/opt/conda/envs/sbas/lib/R/library/stringr  </td><td>TRUE</td><td>FALSE</td><td>2019-02-10</td><td>CRAN (R 4.1.0)</td><td>NA</td><td>/opt/conda/envs/sbas/lib/R/library</td></tr>\n",
       "</tbody>\n",
       "</table>\n"
      ],
      "text/latex": [
       "A packages\\_info: 6 × 11\n",
       "\\begin{tabular}{r|lllllllllll}\n",
       "  & package & ondiskversion & loadedversion & path & loadedpath & attached & is\\_base & date & source & md5ok & library\\\\\n",
       "  & <chr> & <chr> & <chr> & <chr> & <chr> & <lgl> & <lgl> & <chr> & <chr> & <lgl> & <fct>\\\\\n",
       "\\hline\n",
       "\tedgeR & edgeR     & 3.34.0 & 3.34.0 & /opt/conda/envs/sbas/lib/R/library/edgeR     & /opt/conda/envs/sbas/lib/R/library/edgeR     & TRUE & FALSE & 2021-05-19 & Bioconductor   & NA & /opt/conda/envs/sbas/lib/R/library\\\\\n",
       "\tlimma & limma     & 3.48.0 & 3.48.0 & /opt/conda/envs/sbas/lib/R/library/limma     & /opt/conda/envs/sbas/lib/R/library/limma     & TRUE & FALSE & 2021-05-19 & Bioconductor   & NA & /opt/conda/envs/sbas/lib/R/library\\\\\n",
       "\tpheatmap & pheatmap  & 1.0.12 & 1.0.12 & /opt/conda/envs/sbas/lib/R/library/pheatmap  & /opt/conda/envs/sbas/lib/R/library/pheatmap  & TRUE & FALSE & 2019-01-04 & CRAN (R 4.1.0) & NA & /opt/conda/envs/sbas/lib/R/library\\\\\n",
       "\treadr & readr     & 1.4.0  & 1.4.0  & /opt/conda/envs/sbas/lib/R/library/readr     & /opt/conda/envs/sbas/lib/R/library/readr     & TRUE & FALSE & 2020-10-05 & CRAN (R 4.1.0) & NA & /opt/conda/envs/sbas/lib/R/library\\\\\n",
       "\tsnakecase & snakecase & 0.11.0 & 0.11.0 & /opt/conda/envs/sbas/lib/R/library/snakecase & /opt/conda/envs/sbas/lib/R/library/snakecase & TRUE & FALSE & 2019-05-25 & CRAN (R 4.1.0) & NA & /opt/conda/envs/sbas/lib/R/library\\\\\n",
       "\tstringr & stringr   & 1.4.0  & 1.4.0  & /opt/conda/envs/sbas/lib/R/library/stringr   & /opt/conda/envs/sbas/lib/R/library/stringr   & TRUE & FALSE & 2019-02-10 & CRAN (R 4.1.0) & NA & /opt/conda/envs/sbas/lib/R/library\\\\\n",
       "\\end{tabular}\n"
      ],
      "text/markdown": [
       "\n",
       "A packages_info: 6 × 11\n",
       "\n",
       "| <!--/--> | package &lt;chr&gt; | ondiskversion &lt;chr&gt; | loadedversion &lt;chr&gt; | path &lt;chr&gt; | loadedpath &lt;chr&gt; | attached &lt;lgl&gt; | is_base &lt;lgl&gt; | date &lt;chr&gt; | source &lt;chr&gt; | md5ok &lt;lgl&gt; | library &lt;fct&gt; |\n",
       "|---|---|---|---|---|---|---|---|---|---|---|---|\n",
       "| edgeR | edgeR     | 3.34.0 | 3.34.0 | /opt/conda/envs/sbas/lib/R/library/edgeR     | /opt/conda/envs/sbas/lib/R/library/edgeR     | TRUE | FALSE | 2021-05-19 | Bioconductor   | NA | /opt/conda/envs/sbas/lib/R/library |\n",
       "| limma | limma     | 3.48.0 | 3.48.0 | /opt/conda/envs/sbas/lib/R/library/limma     | /opt/conda/envs/sbas/lib/R/library/limma     | TRUE | FALSE | 2021-05-19 | Bioconductor   | NA | /opt/conda/envs/sbas/lib/R/library |\n",
       "| pheatmap | pheatmap  | 1.0.12 | 1.0.12 | /opt/conda/envs/sbas/lib/R/library/pheatmap  | /opt/conda/envs/sbas/lib/R/library/pheatmap  | TRUE | FALSE | 2019-01-04 | CRAN (R 4.1.0) | NA | /opt/conda/envs/sbas/lib/R/library |\n",
       "| readr | readr     | 1.4.0  | 1.4.0  | /opt/conda/envs/sbas/lib/R/library/readr     | /opt/conda/envs/sbas/lib/R/library/readr     | TRUE | FALSE | 2020-10-05 | CRAN (R 4.1.0) | NA | /opt/conda/envs/sbas/lib/R/library |\n",
       "| snakecase | snakecase | 0.11.0 | 0.11.0 | /opt/conda/envs/sbas/lib/R/library/snakecase | /opt/conda/envs/sbas/lib/R/library/snakecase | TRUE | FALSE | 2019-05-25 | CRAN (R 4.1.0) | NA | /opt/conda/envs/sbas/lib/R/library |\n",
       "| stringr | stringr   | 1.4.0  | 1.4.0  | /opt/conda/envs/sbas/lib/R/library/stringr   | /opt/conda/envs/sbas/lib/R/library/stringr   | TRUE | FALSE | 2019-02-10 | CRAN (R 4.1.0) | NA | /opt/conda/envs/sbas/lib/R/library |\n",
       "\n"
      ],
      "text/plain": [
       "          package   ondiskversion loadedversion\n",
       "edgeR     edgeR     3.34.0        3.34.0       \n",
       "limma     limma     3.48.0        3.48.0       \n",
       "pheatmap  pheatmap  1.0.12        1.0.12       \n",
       "readr     readr     1.4.0         1.4.0        \n",
       "snakecase snakecase 0.11.0        0.11.0       \n",
       "stringr   stringr   1.4.0         1.4.0        \n",
       "          path                                        \n",
       "edgeR     /opt/conda/envs/sbas/lib/R/library/edgeR    \n",
       "limma     /opt/conda/envs/sbas/lib/R/library/limma    \n",
       "pheatmap  /opt/conda/envs/sbas/lib/R/library/pheatmap \n",
       "readr     /opt/conda/envs/sbas/lib/R/library/readr    \n",
       "snakecase /opt/conda/envs/sbas/lib/R/library/snakecase\n",
       "stringr   /opt/conda/envs/sbas/lib/R/library/stringr  \n",
       "          loadedpath                                   attached is_base\n",
       "edgeR     /opt/conda/envs/sbas/lib/R/library/edgeR     TRUE     FALSE  \n",
       "limma     /opt/conda/envs/sbas/lib/R/library/limma     TRUE     FALSE  \n",
       "pheatmap  /opt/conda/envs/sbas/lib/R/library/pheatmap  TRUE     FALSE  \n",
       "readr     /opt/conda/envs/sbas/lib/R/library/readr     TRUE     FALSE  \n",
       "snakecase /opt/conda/envs/sbas/lib/R/library/snakecase TRUE     FALSE  \n",
       "stringr   /opt/conda/envs/sbas/lib/R/library/stringr   TRUE     FALSE  \n",
       "          date       source         md5ok library                           \n",
       "edgeR     2021-05-19 Bioconductor   NA    /opt/conda/envs/sbas/lib/R/library\n",
       "limma     2021-05-19 Bioconductor   NA    /opt/conda/envs/sbas/lib/R/library\n",
       "pheatmap  2019-01-04 CRAN (R 4.1.0) NA    /opt/conda/envs/sbas/lib/R/library\n",
       "readr     2020-10-05 CRAN (R 4.1.0) NA    /opt/conda/envs/sbas/lib/R/library\n",
       "snakecase 2019-05-25 CRAN (R 4.1.0) NA    /opt/conda/envs/sbas/lib/R/library\n",
       "stringr   2019-02-10 CRAN (R 4.1.0) NA    /opt/conda/envs/sbas/lib/R/library"
      ]
     },
     "metadata": {},
     "output_type": "display_data"
    }
   ],
   "source": [
    "dev_session_info   <- devtools::session_info()\n",
    "utils_session_info <- utils::sessionInfo()\n",
    "\n",
    "message(\"Saving `devtools::session_info()` objects in ../data/devtools_session_info.rds  ..\")\n",
    "saveRDS(dev_session_info, file = paste0(\"../data/\", figure_id, \"_devtools_session_info.rds\"))\n",
    "message(\"Done!\\n\")\n",
    "\n",
    "message(\"Saving `utils::sessionInfo()` objects in ../data/utils_session_info.rds  ..\")\n",
    "saveRDS(utils_session_info, file = paste0(\"../data/\", figure_id ,\"_utils_info.rds\"))\n",
    "message(\"Done!\\n\")\n",
    "\n",
    "dev_session_info$platform\n",
    "dev_session_info$packages[dev_session_info$packages$attached==TRUE, ]"
   ]
  },
  {
   "cell_type": "code",
   "execution_count": 13,
   "id": "adafd760",
   "metadata": {
    "execution": {
     "iopub.execute_input": "2021-06-28T12:26:57.386752Z",
     "iopub.status.busy": "2021-06-28T12:26:57.385023Z",
     "iopub.status.idle": "2021-06-28T12:26:57.408552Z",
     "shell.execute_reply": "2021-06-28T12:26:57.407336Z"
    },
    "lines_to_next_cell": 2,
    "papermill": {
     "duration": 0.055425,
     "end_time": "2021-06-28T12:26:57.408685",
     "exception": false,
     "start_time": "2021-06-28T12:26:57.353260",
     "status": "completed"
    },
    "tags": []
   },
   "outputs": [
    {
     "data": {
      "text/plain": [
       "Time difference of 3.052888 secs"
      ]
     },
     "metadata": {},
     "output_type": "display_data"
    }
   ],
   "source": [
    "end_time <- Sys.time()\n",
    "end_time - start_time"
   ]
  }
 ],
 "metadata": {
  "kernelspec": {
   "display_name": "R",
   "language": "R",
   "name": "ir"
  },
  "language_info": {
   "codemirror_mode": "r",
   "file_extension": ".r",
   "mimetype": "text/x-r-source",
   "name": "R",
   "pygments_lexer": "r",
   "version": "4.1.0"
  },
  "papermill": {
   "duration": 12.271626,
   "end_time": "2021-06-28T12:26:58.455576",
   "environment_variables": {},
   "exception": null,
   "input_path": "alternativeSplicingHeatplot.ipynb",
   "output_path": "alternativeSplicingHeatplot.ipynb",
   "parameters": {},
   "start_time": "2021-06-28T12:26:46.183950",
   "version": "2.1.2"
  }
 },
 "nbformat": 4,
 "nbformat_minor": 5
}