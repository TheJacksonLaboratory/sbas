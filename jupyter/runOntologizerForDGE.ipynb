{
 "cells": [
  {
   "cell_type": "markdown",
   "metadata": {},
   "source": [
    "# Notebook to prepare and run ontologizer for DGE results\n"
   ]
  },
  {
   "cell_type": "markdown",
   "metadata": {},
   "source": [
    "This notebook uses **gencode.v30.annotation.gtf** to resolve the **ENSG ids** to obtain **geneSymbols** for the **differential gene expression** results that come from the running of the **differentialGeneExpressionAnalysis.ipynb** notebook.   and the associated genome assembly **GRCH30.p12.genome.fa**.   \n",
    "\n",
    "The output of the **differentialGeneExpressionAnalysis.ipynb** notebook includes:\n",
    "\n",
    "1. **{tissue}_ensg_map.csv** \n",
    "2. **{tissue}_DSG.csv**\n",
    "3. **{tissue}_refined_DSG.csv**\n",
    "\n",
    "The **{tissue}_ensg_map.csv** file has the **ENSG ids** comma separated with the **geneSymbols**.   These will serve as the input for the **gene set** requirement of the **ontologizer** for each of the tissues.\n",
    "\n",
    "Using any **{tissue}_DSG.csv** file, they all have the same set of **ENSG**, the first column of this output contains the **ENSG** ids.  These need to be translated to **geneSymbols** to create the **universe** file also needed by **ontologizer.\n",
    "\n",
    "Using the **gencode.v30.annotation.txt** file that has been used througout this analysis, we will obtain these required **geneSymbols**.\n",
    "\n",
    "Finally, for each of the files to be run, the **ontologizer.jar** file will be downloaded from the link and the **ontologizer** will be run for each of the **39** tissues we have analyzed throughout this digital experiment."
   ]
  },
  {
   "cell_type": "markdown",
   "metadata": {},
   "source": [
    "## 1. Library Dependencies"
   ]
  },
  {
   "cell_type": "code",
   "execution_count": 74,
   "metadata": {},
   "outputs": [
    {
     "ename": "ERROR",
     "evalue": "Error in library(system): there is no package called ‘system’\n",
     "output_type": "error",
     "traceback": [
      "Error in library(system): there is no package called ‘system’\nTraceback:\n",
      "1. suppressWarnings({\n .     suppressMessages({\n .         library(Biostrings)\n .         library(rtracklayer)\n .         library(system)\n .     })\n . })",
      "2. withCallingHandlers(expr, warning = function(w) invokeRestart(\"muffleWarning\"))",
      "3. suppressMessages({\n .     library(Biostrings)\n .     library(rtracklayer)\n .     library(system)\n . })   # at line 1-5 of file <text>",
      "4. withCallingHandlers(expr, message = function(c) invokeRestart(\"muffleMessage\"))",
      "5. library(system)   # at line 4 of file <text>"
     ]
    }
   ],
   "source": [
    "suppressWarnings({suppressMessages({\n",
    "library(Biostrings)\n",
    "library(rtracklayer)\n",
    "})})"
   ]
  },
  {
   "cell_type": "markdown",
   "metadata": {},
   "source": [
    "## 1.1 Obtain ontologizer\n",
    "\n",
    "We will use the ontologizer to obtain the GO enrichments"
   ]
  },
  {
   "cell_type": "code",
   "execution_count": 3,
   "metadata": {},
   "outputs": [
    {
     "name": "stderr",
     "output_type": "stream",
     "text": [
      "running :wget http://ontologizer.de/cmdline/Ontologizer.jar\n",
      "\n"
     ]
    }
   ],
   "source": [
    "command <- 'wget http://ontologizer.de/cmdline/Ontologizer.jar'\n",
    "message(\"running :\", command)\n",
    "system(command)"
   ]
  },
  {
   "cell_type": "markdown",
   "metadata": {},
   "source": [
    "## 1.2 Obtain the gencode.v30.gtf file\n",
    "\n",
    "gencode.v30.annotation.gtf file was used for the rMATS 3.2.5 experiment.  "
   ]
  },
  {
   "cell_type": "code",
   "execution_count": 4,
   "metadata": {},
   "outputs": [],
   "source": [
    "#\n",
    "# add chr information for summary data later, use the annotation we used for rMATS\n",
    "#\n",
    "if (!(\"gencode.v30.annotation.gtf.gz\" %in% list.files(\"../data/\"))) {\n",
    "    message(\"downloading gencode v30 annotation\\n\")\n",
    "    system(\"wget -O ../data/gencode.v30.annotation.gtf.gz ftp://ftp.ebi.ac.uk/pub/databases/gencode/Gencode_human/release_30/gencode.v30.annotation.gtf.gz\")\n",
    "    message(\"Done!\\n\")\n",
    "    message(\"Unzipping compressed file gencode.v30.annotation.gtf.gz..\")\n",
    "    system(\"gunzip ../data/gencode.v30.annotation.gtf.gz\", intern = TRUE)\n",
    "    message(\"Done! gencode.v30.annotation.gtf can be found in ../data/\")\n",
    "}"
   ]
  },
  {
   "cell_type": "markdown",
   "metadata": {},
   "source": [
    "### 1.3 Creating the internal datastructure for gencode file\n",
    "\n",
    "Attempting to use rtracklayer::import rearranges the gtf file causing issues with the using gffread and other applications.   We convert our data to a data.frame for ease of use"
   ]
  },
  {
   "cell_type": "code",
   "execution_count": 5,
   "metadata": {},
   "outputs": [],
   "source": [
    "gencode <- import(\"../data/gencode.v30.annotation.gtf\")"
   ]
  },
  {
   "cell_type": "code",
   "execution_count": 6,
   "metadata": {},
   "outputs": [
    {
     "data": {
      "text/html": [
       "<table>\n",
       "<caption>A data.frame: 6 × 2</caption>\n",
       "<thead>\n",
       "\t<tr><th></th><th scope=col>GeneSymbol</th><th scope=col>ENSG</th></tr>\n",
       "\t<tr><th></th><th scope=col>&lt;chr&gt;</th><th scope=col>&lt;chr&gt;</th></tr>\n",
       "</thead>\n",
       "<tbody>\n",
       "\t<tr><th scope=row>1</th><td>DDX11L1    </td><td>ENSG00000223972.5</td></tr>\n",
       "\t<tr><th scope=row>13</th><td>WASH7P     </td><td>ENSG00000227232.5</td></tr>\n",
       "\t<tr><th scope=row>26</th><td>MIR6859-1  </td><td>ENSG00000278267.1</td></tr>\n",
       "\t<tr><th scope=row>29</th><td>MIR1302-2HG</td><td>ENSG00000243485.5</td></tr>\n",
       "\t<tr><th scope=row>37</th><td>MIR1302-2  </td><td>ENSG00000284332.1</td></tr>\n",
       "\t<tr><th scope=row>40</th><td>FAM138A    </td><td>ENSG00000237613.2</td></tr>\n",
       "</tbody>\n",
       "</table>\n"
      ],
      "text/latex": [
       "A data.frame: 6 × 2\n",
       "\\begin{tabular}{r|ll}\n",
       "  & GeneSymbol & ENSG\\\\\n",
       "  & <chr> & <chr>\\\\\n",
       "\\hline\n",
       "\t1 & DDX11L1     & ENSG00000223972.5\\\\\n",
       "\t13 & WASH7P      & ENSG00000227232.5\\\\\n",
       "\t26 & MIR6859-1   & ENSG00000278267.1\\\\\n",
       "\t29 & MIR1302-2HG & ENSG00000243485.5\\\\\n",
       "\t37 & MIR1302-2   & ENSG00000284332.1\\\\\n",
       "\t40 & FAM138A     & ENSG00000237613.2\\\\\n",
       "\\end{tabular}\n"
      ],
      "text/markdown": [
       "\n",
       "A data.frame: 6 × 2\n",
       "\n",
       "| <!--/--> | GeneSymbol &lt;chr&gt; | ENSG &lt;chr&gt; |\n",
       "|---|---|---|\n",
       "| 1 | DDX11L1     | ENSG00000223972.5 |\n",
       "| 13 | WASH7P      | ENSG00000227232.5 |\n",
       "| 26 | MIR6859-1   | ENSG00000278267.1 |\n",
       "| 29 | MIR1302-2HG | ENSG00000243485.5 |\n",
       "| 37 | MIR1302-2   | ENSG00000284332.1 |\n",
       "| 40 | FAM138A     | ENSG00000237613.2 |\n",
       "\n"
      ],
      "text/plain": [
       "   GeneSymbol  ENSG             \n",
       "1  DDX11L1     ENSG00000223972.5\n",
       "13 WASH7P      ENSG00000227232.5\n",
       "26 MIR6859-1   ENSG00000278267.1\n",
       "29 MIR1302-2HG ENSG00000243485.5\n",
       "37 MIR1302-2   ENSG00000284332.1\n",
       "40 FAM138A     ENSG00000237613.2"
      ]
     },
     "metadata": {},
     "output_type": "display_data"
    }
   ],
   "source": [
    "gtf.df <- as.data.frame (gencode)\n",
    "chr_genes <- unique(gtf.df[,c(\"gene_name\",\"gene_id\")])\n",
    "colnames(chr_genes) <- c(\"GeneSymbol\", \"ENSG\")\n",
    "head(chr_genes)\n",
    "write.table(chr_genes, \"../data/geneSymbolEnsgUniverse.txt\", \n",
    "            quote=FALSE,\n",
    "            col.names=TRUE,\n",
    "            row.names=FALSE,\n",
    "            sep=\"\\t\")"
   ]
  },
  {
   "cell_type": "markdown",
   "metadata": {},
   "source": [
    "## 1.3 Read in the universe as ENSG"
   ]
  },
  {
   "cell_type": "code",
   "execution_count": 22,
   "metadata": {},
   "outputs": [
    {
     "data": {
      "text/html": [
       "<table>\n",
       "<caption>A data.frame: 2 × 1</caption>\n",
       "<thead>\n",
       "\t<tr><th></th><th scope=col>ENSG</th></tr>\n",
       "\t<tr><th></th><th scope=col>&lt;chr&gt;</th></tr>\n",
       "</thead>\n",
       "<tbody>\n",
       "\t<tr><th scope=row>1</th><td>ENSG00000000003.14</td></tr>\n",
       "\t<tr><th scope=row>2</th><td>ENSG00000000005.5 </td></tr>\n",
       "</tbody>\n",
       "</table>\n"
      ],
      "text/latex": [
       "A data.frame: 2 × 1\n",
       "\\begin{tabular}{r|l}\n",
       "  & ENSG\\\\\n",
       "  & <chr>\\\\\n",
       "\\hline\n",
       "\t1 & ENSG00000000003.14\\\\\n",
       "\t2 & ENSG00000000005.5 \\\\\n",
       "\\end{tabular}\n"
      ],
      "text/markdown": [
       "\n",
       "A data.frame: 2 × 1\n",
       "\n",
       "| <!--/--> | ENSG &lt;chr&gt; |\n",
       "|---|---|\n",
       "| 1 | ENSG00000000003.14 |\n",
       "| 2 | ENSG00000000005.5  |\n",
       "\n"
      ],
      "text/plain": [
       "  ENSG              \n",
       "1 ENSG00000000003.14\n",
       "2 ENSG00000000005.5 "
      ]
     },
     "metadata": {},
     "output_type": "display_data"
    }
   ],
   "source": [
    "universe_as_ensg <- read.table(\"../data/DGE_universe_ENSG.txt\", \n",
    "                               header=TRUE, \n",
    "                               stringsAsFactors=FALSE)\n",
    "head(universe_as_ensg,2)"
   ]
  },
  {
   "cell_type": "code",
   "execution_count": 23,
   "metadata": {},
   "outputs": [
    {
     "data": {
      "text/html": [
       "<table>\n",
       "<caption>A data.frame: 2 × 1</caption>\n",
       "<thead>\n",
       "\t<tr><th></th><th scope=col>ENSG</th></tr>\n",
       "\t<tr><th></th><th scope=col>&lt;chr&gt;</th></tr>\n",
       "</thead>\n",
       "<tbody>\n",
       "\t<tr><th scope=row>1</th><td>ENSG00000000003</td></tr>\n",
       "\t<tr><th scope=row>2</th><td>ENSG00000000005</td></tr>\n",
       "</tbody>\n",
       "</table>\n"
      ],
      "text/latex": [
       "A data.frame: 2 × 1\n",
       "\\begin{tabular}{r|l}\n",
       "  & ENSG\\\\\n",
       "  & <chr>\\\\\n",
       "\\hline\n",
       "\t1 & ENSG00000000003\\\\\n",
       "\t2 & ENSG00000000005\\\\\n",
       "\\end{tabular}\n"
      ],
      "text/markdown": [
       "\n",
       "A data.frame: 2 × 1\n",
       "\n",
       "| <!--/--> | ENSG &lt;chr&gt; |\n",
       "|---|---|\n",
       "| 1 | ENSG00000000003 |\n",
       "| 2 | ENSG00000000005 |\n",
       "\n"
      ],
      "text/plain": [
       "  ENSG           \n",
       "1 ENSG00000000003\n",
       "2 ENSG00000000005"
      ]
     },
     "metadata": {},
     "output_type": "display_data"
    }
   ],
   "source": [
    "for (i in 1:dim(universe_as_ensg)[1]) {\n",
    "    ensg <- gsub(\"\\\\..*\",\"\",universe_as_ensg$ENSG[i])\n",
    "    universe_as_ensg$ENSG[i] <- ensg\n",
    "}\n",
    "head(universe_as_ensg,2)"
   ]
  },
  {
   "cell_type": "code",
   "execution_count": 24,
   "metadata": {},
   "outputs": [],
   "source": [
    "write.table(universe_as_ensg,\"../data/DGE_universe_ENSG_no_ver.txt\", \n",
    "            row.names=FALSE, \n",
    "            quote=FALSE,\n",
    "            col.names=TRUE)\n"
   ]
  },
  {
   "cell_type": "markdown",
   "metadata": {},
   "source": [
    "sorted externally "
   ]
  },
  {
   "cell_type": "code",
   "execution_count": 25,
   "metadata": {},
   "outputs": [
    {
     "data": {
      "text/html": [
       "<table>\n",
       "<caption>A data.frame: 6 × 2</caption>\n",
       "<thead>\n",
       "\t<tr><th></th><th scope=col>GeneSymbol</th><th scope=col>ENSG</th></tr>\n",
       "\t<tr><th></th><th scope=col>&lt;chr&gt;</th><th scope=col>&lt;chr&gt;</th></tr>\n",
       "</thead>\n",
       "<tbody>\n",
       "\t<tr><th scope=row>1</th><td>TSPAN6  </td><td>ENSG00000000003.14</td></tr>\n",
       "\t<tr><th scope=row>2</th><td>TNMD    </td><td>ENSG00000000005.6 </td></tr>\n",
       "\t<tr><th scope=row>3</th><td>DPM1    </td><td>ENSG00000000419.12</td></tr>\n",
       "\t<tr><th scope=row>4</th><td>SCYL3   </td><td>ENSG00000000457.14</td></tr>\n",
       "\t<tr><th scope=row>5</th><td>C1orf112</td><td>ENSG00000000460.17</td></tr>\n",
       "\t<tr><th scope=row>6</th><td>FGR     </td><td>ENSG00000000938.13</td></tr>\n",
       "</tbody>\n",
       "</table>\n"
      ],
      "text/latex": [
       "A data.frame: 6 × 2\n",
       "\\begin{tabular}{r|ll}\n",
       "  & GeneSymbol & ENSG\\\\\n",
       "  & <chr> & <chr>\\\\\n",
       "\\hline\n",
       "\t1 & TSPAN6   & ENSG00000000003.14\\\\\n",
       "\t2 & TNMD     & ENSG00000000005.6 \\\\\n",
       "\t3 & DPM1     & ENSG00000000419.12\\\\\n",
       "\t4 & SCYL3    & ENSG00000000457.14\\\\\n",
       "\t5 & C1orf112 & ENSG00000000460.17\\\\\n",
       "\t6 & FGR      & ENSG00000000938.13\\\\\n",
       "\\end{tabular}\n"
      ],
      "text/markdown": [
       "\n",
       "A data.frame: 6 × 2\n",
       "\n",
       "| <!--/--> | GeneSymbol &lt;chr&gt; | ENSG &lt;chr&gt; |\n",
       "|---|---|---|\n",
       "| 1 | TSPAN6   | ENSG00000000003.14 |\n",
       "| 2 | TNMD     | ENSG00000000005.6  |\n",
       "| 3 | DPM1     | ENSG00000000419.12 |\n",
       "| 4 | SCYL3    | ENSG00000000457.14 |\n",
       "| 5 | C1orf112 | ENSG00000000460.17 |\n",
       "| 6 | FGR      | ENSG00000000938.13 |\n",
       "\n"
      ],
      "text/plain": [
       "  GeneSymbol ENSG              \n",
       "1 TSPAN6     ENSG00000000003.14\n",
       "2 TNMD       ENSG00000000005.6 \n",
       "3 DPM1       ENSG00000000419.12\n",
       "4 SCYL3      ENSG00000000457.14\n",
       "5 C1orf112   ENSG00000000460.17\n",
       "6 FGR        ENSG00000000938.13"
      ]
     },
     "metadata": {},
     "output_type": "display_data"
    }
   ],
   "source": [
    "sortedGeneSymbolENSG <- read.table(\"../data/sortedGeneSymbolENSG.txt\", \n",
    "                                   stringsAsFactors=FALSE,\n",
    "                                  header=TRUE)\n",
    "head(sortedGeneSymbolENSG)"
   ]
  },
  {
   "cell_type": "code",
   "execution_count": 26,
   "metadata": {},
   "outputs": [
    {
     "data": {
      "text/html": [
       "<table>\n",
       "<caption>A data.frame: 2 × 2</caption>\n",
       "<thead>\n",
       "\t<tr><th></th><th scope=col>GeneSymbol</th><th scope=col>ENSG</th></tr>\n",
       "\t<tr><th></th><th scope=col>&lt;chr&gt;</th><th scope=col>&lt;chr&gt;</th></tr>\n",
       "</thead>\n",
       "<tbody>\n",
       "\t<tr><th scope=row>1</th><td>TSPAN6</td><td>ENSG00000000003</td></tr>\n",
       "\t<tr><th scope=row>2</th><td>TNMD  </td><td>ENSG00000000005</td></tr>\n",
       "</tbody>\n",
       "</table>\n"
      ],
      "text/latex": [
       "A data.frame: 2 × 2\n",
       "\\begin{tabular}{r|ll}\n",
       "  & GeneSymbol & ENSG\\\\\n",
       "  & <chr> & <chr>\\\\\n",
       "\\hline\n",
       "\t1 & TSPAN6 & ENSG00000000003\\\\\n",
       "\t2 & TNMD   & ENSG00000000005\\\\\n",
       "\\end{tabular}\n"
      ],
      "text/markdown": [
       "\n",
       "A data.frame: 2 × 2\n",
       "\n",
       "| <!--/--> | GeneSymbol &lt;chr&gt; | ENSG &lt;chr&gt; |\n",
       "|---|---|---|\n",
       "| 1 | TSPAN6 | ENSG00000000003 |\n",
       "| 2 | TNMD   | ENSG00000000005 |\n",
       "\n"
      ],
      "text/plain": [
       "  GeneSymbol ENSG           \n",
       "1 TSPAN6     ENSG00000000003\n",
       "2 TNMD       ENSG00000000005"
      ]
     },
     "metadata": {},
     "output_type": "display_data"
    }
   ],
   "source": [
    "for (i in 1:dim(sortedGeneSymbolENSG)[1]) {\n",
    "    ensg <- gsub(\"\\\\..*\",\"\",sortedGeneSymbolENSG$ENSG[i])\n",
    "    sortedGeneSymbolENSG$ENSG[i] <- ensg\n",
    "}\n",
    "head(sortedGeneSymbolENSG,2)\n",
    "write.table(sortedGeneSymbolENSG,\"../data/sortedGeneSymbolENSG_no_ver.txt\", \n",
    "            row.names=FALSE, \n",
    "            quote=FALSE,\n",
    "            col.names=TRUE)"
   ]
  },
  {
   "cell_type": "markdown",
   "metadata": {},
   "source": [
    "## 1.4 match the gencode v30 ENSGs to the universe"
   ]
  },
  {
   "cell_type": "code",
   "execution_count": 27,
   "metadata": {},
   "outputs": [],
   "source": [
    "geneSymbol <- rep(\"NA\",dim(universe_as_ensg)[1])"
   ]
  },
  {
   "cell_type": "code",
   "execution_count": 36,
   "metadata": {},
   "outputs": [
    {
     "data": {
      "text/html": [
       "<style>\n",
       ".list-inline {list-style: none; margin:0; padding: 0}\n",
       ".list-inline>li {display: inline-block}\n",
       ".list-inline>li:not(:last-child)::after {content: \"\\00b7\"; padding: 0 .5ex}\n",
       "</style>\n",
       "<ol class=list-inline><li>'TSPAN6'</li><li>'TNMD'</li></ol>\n"
      ],
      "text/latex": [
       "\\begin{enumerate*}\n",
       "\\item 'TSPAN6'\n",
       "\\item 'TNMD'\n",
       "\\end{enumerate*}\n"
      ],
      "text/markdown": [
       "1. 'TSPAN6'\n",
       "2. 'TNMD'\n",
       "\n",
       "\n"
      ],
      "text/plain": [
       "[1] \"TSPAN6\" \"TNMD\"  "
      ]
     },
     "metadata": {},
     "output_type": "display_data"
    }
   ],
   "source": [
    "for (i in 1:dim(universe_as_ensg)[1]) {\n",
    "    match  <- as.character(sortedGeneSymbolENSG$ENSG) %in% as.character((universe_as_ensg$ENSG[i]))\n",
    "    if (sum(match==TRUE)== 1) {\n",
    "        geneSymbol[i] <- sortedGeneSymbolENSG[match,]$GeneSymbol\n",
    "    } else if (sum(match==TRUE)>1) {\n",
    "        all <- as.vector(as.character(sortedGeneSymbolENSG[match,]$GeneSymbol))\n",
    "        geneSymbol[i] <- as.character(all[1])\n",
    "    }\n",
    "}\n",
    "head(geneSymbol,2)"
   ]
  },
  {
   "cell_type": "code",
   "execution_count": 38,
   "metadata": {},
   "outputs": [],
   "source": [
    "write.table(geneSymbol,\"../data/DGEuniverse.txt\", \n",
    "            row.names=FALSE, \n",
    "            quote=FALSE,\n",
    "            col.names=FALSE)"
   ]
  },
  {
   "cell_type": "markdown",
   "metadata": {},
   "source": [
    "## 1.5 download needed files for ontlogizer.\n",
    "\n",
    "To run the ontologizer 4 files are needed -- a universe.txt file, a gene-set file -- and 2 reference files.  For each tissue, we have for differential gene expression a ensg_map file that has the required gene symbol.\n",
    "\n",
    "| | FILE | DESCRIPTION|\n",
    "|--|:---|:---|\n",
    "|1|**`universe.txt`** | created by writing all the GeneSymbol entries in the HBA-DEALS results table. For retrieving `GeneSymbol`, the Gene column was splitted by `'_'` into `Geneid` and `GeneSymbol`, eg. `ENSG00000004059.11_ARF5` -> `ENSG00000004059.11`, `ARF5`\n",
    "|2|**`gene_set.txt`** | created by writing the `GeneSymbol` entries after applying a filtering criterion (for this test,  I used `P` < 0.05 and `ExpLogFc` > 1.2) |\n",
    "|3|**`goa_human.gaf`** | downloaded from here: http://current.geneontology.org/annotations/goa_human.gaf.gz |\n",
    "|4|**`go.obo`** | downloaded from here: http://purl.obolibrary.org/obo/go.obo |\n"
   ]
  },
  {
   "cell_type": "code",
   "execution_count": 40,
   "metadata": {},
   "outputs": [
    {
     "name": "stderr",
     "output_type": "stream",
     "text": [
      "running :wget http://current.geneontology.org/annotations/goa_human.gaf.gz\n",
      "\n",
      "running :wget http://purl.obolibrary.org/obo/go.obo\n",
      "\n"
     ]
    }
   ],
   "source": [
    "command <- 'wget http://current.geneontology.org/annotations/goa_human.gaf.gz'\n",
    "message(\"running :\", command)\n",
    "system(command)\n",
    "command <- 'wget http://purl.obolibrary.org/obo/go.obo'\n",
    "message(\"running :\", command)\n",
    "system(command)"
   ]
  },
  {
   "cell_type": "markdown",
   "metadata": {},
   "source": [
    "## 1.6 make the geneset for each of the tissues"
   ]
  },
  {
   "cell_type": "code",
   "execution_count": 41,
   "metadata": {},
   "outputs": [
    {
     "data": {
      "text/html": [
       "<style>\n",
       ".list-inline {list-style: none; margin:0; padding: 0}\n",
       ".list-inline>li {display: inline-block}\n",
       ".list-inline>li:not(:last-child)::after {content: \"\\00b7\"; padding: 0 .5ex}\n",
       "</style>\n",
       "<ol class=list-inline><li>'adipose_subcutaneous_DGE_ensg_map.csv'</li><li>'adipose_visceral_omentum_DGE_ensg_map.csv'</li></ol>\n"
      ],
      "text/latex": [
       "\\begin{enumerate*}\n",
       "\\item 'adipose\\_subcutaneous\\_DGE\\_ensg\\_map.csv'\n",
       "\\item 'adipose\\_visceral\\_omentum\\_DGE\\_ensg\\_map.csv'\n",
       "\\end{enumerate*}\n"
      ],
      "text/markdown": [
       "1. 'adipose_subcutaneous_DGE_ensg_map.csv'\n",
       "2. 'adipose_visceral_omentum_DGE_ensg_map.csv'\n",
       "\n",
       "\n"
      ],
      "text/plain": [
       "[1] \"adipose_subcutaneous_DGE_ensg_map.csv\"    \n",
       "[2] \"adipose_visceral_omentum_DGE_ensg_map.csv\""
      ]
     },
     "metadata": {},
     "output_type": "display_data"
    }
   ],
   "source": [
    "results_dir         <- \"../data/\"\n",
    "DGE_ensg_pattern <- \"_DGE_ensg_map.csv\"\n",
    "DGE_ensg_files   <- list.files(path = results_dir, pattern = DGE_ensg_pattern)\n",
    "head(DGE_ensg_files,2)"
   ]
  },
  {
   "cell_type": "code",
   "execution_count": 61,
   "metadata": {},
   "outputs": [],
   "source": [
    "for (i in 1:length(DGE_ensg_files)) {\n",
    "    file <- paste0(\"../data/\",DGE_ensg_files[i])\n",
    "    ensg_map <- read.table(file, \n",
    "                           stringsAsFactors=FALSE,\n",
    "                           sep=\",\",\n",
    "                           header=TRUE)\n",
    "    tissue  <- gsub(DGE_ensg_pattern,\"\", file, fixed = TRUE)\n",
    "    genesetfile <- paste0(tissue,\"_geneset.txt\")\n",
    "    write.table(ensg_map$ensg_genes,\n",
    "                genesetfile,\n",
    "                col.names=FALSE,\n",
    "                quote=FALSE,\n",
    "                row.names=FALSE)\n",
    "\n",
    "}"
   ]
  },
  {
   "cell_type": "markdown",
   "metadata": {},
   "source": [
    "## 2.0 run the ontologizer for each tissue\n"
   ]
  },
  {
   "cell_type": "code",
   "execution_count": 62,
   "metadata": {},
   "outputs": [
    {
     "data": {
      "text/html": [
       "<style>\n",
       ".list-inline {list-style: none; margin:0; padding: 0}\n",
       ".list-inline>li {display: inline-block}\n",
       ".list-inline>li:not(:last-child)::after {content: \"\\00b7\"; padding: 0 .5ex}\n",
       "</style>\n",
       "<ol class=list-inline><li>'adipose_subcutaneous_geneset.txt'</li><li>'adipose_visceral_omentum_geneset.txt'</li></ol>\n"
      ],
      "text/latex": [
       "\\begin{enumerate*}\n",
       "\\item 'adipose\\_subcutaneous\\_geneset.txt'\n",
       "\\item 'adipose\\_visceral\\_omentum\\_geneset.txt'\n",
       "\\end{enumerate*}\n"
      ],
      "text/markdown": [
       "1. 'adipose_subcutaneous_geneset.txt'\n",
       "2. 'adipose_visceral_omentum_geneset.txt'\n",
       "\n",
       "\n"
      ],
      "text/plain": [
       "[1] \"adipose_subcutaneous_geneset.txt\"    \n",
       "[2] \"adipose_visceral_omentum_geneset.txt\""
      ]
     },
     "metadata": {},
     "output_type": "display_data"
    }
   ],
   "source": [
    "results_dir         <- \"../data/\"\n",
    "geneset_pattern <- \"_geneset.txt\"\n",
    "genes_files   <- list.files(path = results_dir, pattern = geneset_pattern)\n",
    "head(genes_files,2)"
   ]
  },
  {
   "cell_type": "code",
   "execution_count": 70,
   "metadata": {},
   "outputs": [
    {
     "name": "stderr",
     "output_type": "stream",
     "text": [
      "making directory mkdir ../data/adipose_subcutaneous\n",
      "\n",
      "running java -jar Ontologizer.jar -g ../data/go.obo -a ../data/goa_human.gaf -s ../data/adipose_subcutaneous_geneset.txt -o ../data/adipose_subcutaneous -p ../data/sortedDGEuniverse.txt -c Term-For-Term -m Benjamini-Hochberg -n\n",
      "\n",
      "making directory mkdir ../data/adipose_visceral_omentum\n",
      "\n",
      "running java -jar Ontologizer.jar -g ../data/go.obo -a ../data/goa_human.gaf -s ../data/adipose_visceral_omentum_geneset.txt -o ../data/adipose_visceral_omentum -p ../data/sortedDGEuniverse.txt -c Term-For-Term -m Benjamini-Hochberg -n\n",
      "\n",
      "making directory mkdir ../data/adrenal_gland\n",
      "\n",
      "running java -jar Ontologizer.jar -g ../data/go.obo -a ../data/goa_human.gaf -s ../data/adrenal_gland_geneset.txt -o ../data/adrenal_gland -p ../data/sortedDGEuniverse.txt -c Term-For-Term -m Benjamini-Hochberg -n\n",
      "\n",
      "making directory mkdir ../data/artery_aorta\n",
      "\n",
      "running java -jar Ontologizer.jar -g ../data/go.obo -a ../data/goa_human.gaf -s ../data/artery_aorta_geneset.txt -o ../data/artery_aorta -p ../data/sortedDGEuniverse.txt -c Term-For-Term -m Benjamini-Hochberg -n\n",
      "\n",
      "making directory mkdir ../data/artery_coronary\n",
      "\n",
      "running java -jar Ontologizer.jar -g ../data/go.obo -a ../data/goa_human.gaf -s ../data/artery_coronary_geneset.txt -o ../data/artery_coronary -p ../data/sortedDGEuniverse.txt -c Term-For-Term -m Benjamini-Hochberg -n\n",
      "\n",
      "making directory mkdir ../data/artery_tibial\n",
      "\n",
      "running java -jar Ontologizer.jar -g ../data/go.obo -a ../data/goa_human.gaf -s ../data/artery_tibial_geneset.txt -o ../data/artery_tibial -p ../data/sortedDGEuniverse.txt -c Term-For-Term -m Benjamini-Hochberg -n\n",
      "\n",
      "making directory mkdir ../data/brain_caudate_basal_ganglia\n",
      "\n",
      "running java -jar Ontologizer.jar -g ../data/go.obo -a ../data/goa_human.gaf -s ../data/brain_caudate_basal_ganglia_geneset.txt -o ../data/brain_caudate_basal_ganglia -p ../data/sortedDGEuniverse.txt -c Term-For-Term -m Benjamini-Hochberg -n\n",
      "\n",
      "making directory mkdir ../data/brain_cerebellar_hemisphere\n",
      "\n",
      "running java -jar Ontologizer.jar -g ../data/go.obo -a ../data/goa_human.gaf -s ../data/brain_cerebellar_hemisphere_geneset.txt -o ../data/brain_cerebellar_hemisphere -p ../data/sortedDGEuniverse.txt -c Term-For-Term -m Benjamini-Hochberg -n\n",
      "\n",
      "making directory mkdir ../data/brain_cerebellum\n",
      "\n",
      "running java -jar Ontologizer.jar -g ../data/go.obo -a ../data/goa_human.gaf -s ../data/brain_cerebellum_geneset.txt -o ../data/brain_cerebellum -p ../data/sortedDGEuniverse.txt -c Term-For-Term -m Benjamini-Hochberg -n\n",
      "\n",
      "making directory mkdir ../data/brain_cortex\n",
      "\n",
      "running java -jar Ontologizer.jar -g ../data/go.obo -a ../data/goa_human.gaf -s ../data/brain_cortex_geneset.txt -o ../data/brain_cortex -p ../data/sortedDGEuniverse.txt -c Term-For-Term -m Benjamini-Hochberg -n\n",
      "\n",
      "making directory mkdir ../data/brain_frontal_cortex_ba_9\n",
      "\n",
      "running java -jar Ontologizer.jar -g ../data/go.obo -a ../data/goa_human.gaf -s ../data/brain_frontal_cortex_ba_9_geneset.txt -o ../data/brain_frontal_cortex_ba_9 -p ../data/sortedDGEuniverse.txt -c Term-For-Term -m Benjamini-Hochberg -n\n",
      "\n",
      "making directory mkdir ../data/brain_hippocampus\n",
      "\n",
      "running java -jar Ontologizer.jar -g ../data/go.obo -a ../data/goa_human.gaf -s ../data/brain_hippocampus_geneset.txt -o ../data/brain_hippocampus -p ../data/sortedDGEuniverse.txt -c Term-For-Term -m Benjamini-Hochberg -n\n",
      "\n",
      "making directory mkdir ../data/brain_hypothalamus\n",
      "\n",
      "running java -jar Ontologizer.jar -g ../data/go.obo -a ../data/goa_human.gaf -s ../data/brain_hypothalamus_geneset.txt -o ../data/brain_hypothalamus -p ../data/sortedDGEuniverse.txt -c Term-For-Term -m Benjamini-Hochberg -n\n",
      "\n",
      "making directory mkdir ../data/brain_nucleus_accumbens_basal_ganglia\n",
      "\n",
      "running java -jar Ontologizer.jar -g ../data/go.obo -a ../data/goa_human.gaf -s ../data/brain_nucleus_accumbens_basal_ganglia_geneset.txt -o ../data/brain_nucleus_accumbens_basal_ganglia -p ../data/sortedDGEuniverse.txt -c Term-For-Term -m Benjamini-Hochberg -n\n",
      "\n",
      "making directory mkdir ../data/brain_putamen_basal_ganglia\n",
      "\n",
      "running java -jar Ontologizer.jar -g ../data/go.obo -a ../data/goa_human.gaf -s ../data/brain_putamen_basal_ganglia_geneset.txt -o ../data/brain_putamen_basal_ganglia -p ../data/sortedDGEuniverse.txt -c Term-For-Term -m Benjamini-Hochberg -n\n",
      "\n",
      "making directory mkdir ../data/brain_spinal_cord_cervical_c_1\n",
      "\n",
      "running java -jar Ontologizer.jar -g ../data/go.obo -a ../data/goa_human.gaf -s ../data/brain_spinal_cord_cervical_c_1_geneset.txt -o ../data/brain_spinal_cord_cervical_c_1 -p ../data/sortedDGEuniverse.txt -c Term-For-Term -m Benjamini-Hochberg -n\n",
      "\n",
      "making directory mkdir ../data/breast_mammary_tissue\n",
      "\n",
      "running java -jar Ontologizer.jar -g ../data/go.obo -a ../data/goa_human.gaf -s ../data/breast_mammary_tissue_geneset.txt -o ../data/breast_mammary_tissue -p ../data/sortedDGEuniverse.txt -c Term-For-Term -m Benjamini-Hochberg -n\n",
      "\n",
      "making directory mkdir ../data/cells_cultured_fibroblasts\n",
      "\n",
      "running java -jar Ontologizer.jar -g ../data/go.obo -a ../data/goa_human.gaf -s ../data/cells_cultured_fibroblasts_geneset.txt -o ../data/cells_cultured_fibroblasts -p ../data/sortedDGEuniverse.txt -c Term-For-Term -m Benjamini-Hochberg -n\n",
      "\n",
      "making directory mkdir ../data/cells_ebv_transformed_lymphocytes\n",
      "\n",
      "running java -jar Ontologizer.jar -g ../data/go.obo -a ../data/goa_human.gaf -s ../data/cells_ebv_transformed_lymphocytes_geneset.txt -o ../data/cells_ebv_transformed_lymphocytes -p ../data/sortedDGEuniverse.txt -c Term-For-Term -m Benjamini-Hochberg -n\n",
      "\n",
      "making directory mkdir ../data/colon_sigmoid\n",
      "\n",
      "running java -jar Ontologizer.jar -g ../data/go.obo -a ../data/goa_human.gaf -s ../data/colon_sigmoid_geneset.txt -o ../data/colon_sigmoid -p ../data/sortedDGEuniverse.txt -c Term-For-Term -m Benjamini-Hochberg -n\n",
      "\n",
      "making directory mkdir ../data/colon_transverse\n",
      "\n",
      "running java -jar Ontologizer.jar -g ../data/go.obo -a ../data/goa_human.gaf -s ../data/colon_transverse_geneset.txt -o ../data/colon_transverse -p ../data/sortedDGEuniverse.txt -c Term-For-Term -m Benjamini-Hochberg -n\n",
      "\n",
      "making directory mkdir ../data/esophagus_gastroesophageal_junction\n",
      "\n",
      "running java -jar Ontologizer.jar -g ../data/go.obo -a ../data/goa_human.gaf -s ../data/esophagus_gastroesophageal_junction_geneset.txt -o ../data/esophagus_gastroesophageal_junction -p ../data/sortedDGEuniverse.txt -c Term-For-Term -m Benjamini-Hochberg -n\n",
      "\n",
      "making directory mkdir ../data/esophagus_mucosa\n",
      "\n",
      "running java -jar Ontologizer.jar -g ../data/go.obo -a ../data/goa_human.gaf -s ../data/esophagus_mucosa_geneset.txt -o ../data/esophagus_mucosa -p ../data/sortedDGEuniverse.txt -c Term-For-Term -m Benjamini-Hochberg -n\n",
      "\n",
      "making directory mkdir ../data/esophagus_muscularis\n",
      "\n",
      "running java -jar Ontologizer.jar -g ../data/go.obo -a ../data/goa_human.gaf -s ../data/esophagus_muscularis_geneset.txt -o ../data/esophagus_muscularis -p ../data/sortedDGEuniverse.txt -c Term-For-Term -m Benjamini-Hochberg -n\n",
      "\n",
      "making directory mkdir ../data/heart_atrial_appendage\n",
      "\n",
      "running java -jar Ontologizer.jar -g ../data/go.obo -a ../data/goa_human.gaf -s ../data/heart_atrial_appendage_geneset.txt -o ../data/heart_atrial_appendage -p ../data/sortedDGEuniverse.txt -c Term-For-Term -m Benjamini-Hochberg -n\n",
      "\n",
      "making directory mkdir ../data/heart_left_ventricle\n",
      "\n",
      "running java -jar Ontologizer.jar -g ../data/go.obo -a ../data/goa_human.gaf -s ../data/heart_left_ventricle_geneset.txt -o ../data/heart_left_ventricle -p ../data/sortedDGEuniverse.txt -c Term-For-Term -m Benjamini-Hochberg -n\n",
      "\n",
      "making directory mkdir ../data/liver\n",
      "\n",
      "running java -jar Ontologizer.jar -g ../data/go.obo -a ../data/goa_human.gaf -s ../data/liver_geneset.txt -o ../data/liver -p ../data/sortedDGEuniverse.txt -c Term-For-Term -m Benjamini-Hochberg -n\n",
      "\n",
      "making directory mkdir ../data/lung\n",
      "\n",
      "running java -jar Ontologizer.jar -g ../data/go.obo -a ../data/goa_human.gaf -s ../data/lung_geneset.txt -o ../data/lung -p ../data/sortedDGEuniverse.txt -c Term-For-Term -m Benjamini-Hochberg -n\n",
      "\n",
      "making directory mkdir ../data/muscle_skeletal\n",
      "\n",
      "running java -jar Ontologizer.jar -g ../data/go.obo -a ../data/goa_human.gaf -s ../data/muscle_skeletal_geneset.txt -o ../data/muscle_skeletal -p ../data/sortedDGEuniverse.txt -c Term-For-Term -m Benjamini-Hochberg -n\n",
      "\n",
      "making directory mkdir ../data/nerve_tibial\n",
      "\n",
      "running java -jar Ontologizer.jar -g ../data/go.obo -a ../data/goa_human.gaf -s ../data/nerve_tibial_geneset.txt -o ../data/nerve_tibial -p ../data/sortedDGEuniverse.txt -c Term-For-Term -m Benjamini-Hochberg -n\n",
      "\n",
      "making directory mkdir ../data/pancreas\n",
      "\n",
      "running java -jar Ontologizer.jar -g ../data/go.obo -a ../data/goa_human.gaf -s ../data/pancreas_geneset.txt -o ../data/pancreas -p ../data/sortedDGEuniverse.txt -c Term-For-Term -m Benjamini-Hochberg -n\n",
      "\n",
      "making directory mkdir ../data/pituitary\n",
      "\n",
      "running java -jar Ontologizer.jar -g ../data/go.obo -a ../data/goa_human.gaf -s ../data/pituitary_geneset.txt -o ../data/pituitary -p ../data/sortedDGEuniverse.txt -c Term-For-Term -m Benjamini-Hochberg -n\n",
      "\n",
      "making directory mkdir ../data/skin_not_sun_exposed_suprapubic\n",
      "\n",
      "running java -jar Ontologizer.jar -g ../data/go.obo -a ../data/goa_human.gaf -s ../data/skin_not_sun_exposed_suprapubic_geneset.txt -o ../data/skin_not_sun_exposed_suprapubic -p ../data/sortedDGEuniverse.txt -c Term-For-Term -m Benjamini-Hochberg -n\n",
      "\n",
      "making directory mkdir ../data/skin_sun_exposed_lower_leg\n",
      "\n",
      "running java -jar Ontologizer.jar -g ../data/go.obo -a ../data/goa_human.gaf -s ../data/skin_sun_exposed_lower_leg_geneset.txt -o ../data/skin_sun_exposed_lower_leg -p ../data/sortedDGEuniverse.txt -c Term-For-Term -m Benjamini-Hochberg -n\n",
      "\n",
      "making directory mkdir ../data/small_intestine_terminal_ileum\n",
      "\n",
      "running java -jar Ontologizer.jar -g ../data/go.obo -a ../data/goa_human.gaf -s ../data/small_intestine_terminal_ileum_geneset.txt -o ../data/small_intestine_terminal_ileum -p ../data/sortedDGEuniverse.txt -c Term-For-Term -m Benjamini-Hochberg -n\n",
      "\n",
      "making directory mkdir ../data/spleen\n",
      "\n",
      "running java -jar Ontologizer.jar -g ../data/go.obo -a ../data/goa_human.gaf -s ../data/spleen_geneset.txt -o ../data/spleen -p ../data/sortedDGEuniverse.txt -c Term-For-Term -m Benjamini-Hochberg -n\n",
      "\n",
      "making directory mkdir ../data/stomach\n",
      "\n",
      "running java -jar Ontologizer.jar -g ../data/go.obo -a ../data/goa_human.gaf -s ../data/stomach_geneset.txt -o ../data/stomach -p ../data/sortedDGEuniverse.txt -c Term-For-Term -m Benjamini-Hochberg -n\n",
      "\n",
      "making directory mkdir ../data/thyroid\n",
      "\n",
      "running java -jar Ontologizer.jar -g ../data/go.obo -a ../data/goa_human.gaf -s ../data/thyroid_geneset.txt -o ../data/thyroid -p ../data/sortedDGEuniverse.txt -c Term-For-Term -m Benjamini-Hochberg -n\n",
      "\n",
      "making directory mkdir ../data/whole_blood\n",
      "\n",
      "running java -jar Ontologizer.jar -g ../data/go.obo -a ../data/goa_human.gaf -s ../data/whole_blood_geneset.txt -o ../data/whole_blood -p ../data/sortedDGEuniverse.txt -c Term-For-Term -m Benjamini-Hochberg -n\n",
      "\n"
     ]
    }
   ],
   "source": [
    "i = 1\n",
    "for (i in 1:length(genes_files)) {\n",
    "    file <- paste0(\"../data/\",genes_files[i])\n",
    "    geneset <- read.table(file, \n",
    "                           stringsAsFactors=FALSE,\n",
    "                           sep=\",\",\n",
    "                           header=TRUE)\n",
    "    tissue  <- gsub(geneset_pattern,\"\", file, fixed = TRUE)\n",
    "    command <- paste0(\"mkdir \", tissue)\n",
    "    message(\"making directory \", command)\n",
    "    system(command)\n",
    "    command <- paste0(paste0(paste0(paste0(\"java -jar Ontologizer.jar -g ../data/go.obo -a ../data/goa_human.gaf -s \",\n",
    "                             file), \" -o \"), tissue), \" -p ../data/sortedDGEuniverse.txt -c Term-For-Term -m Benjamini-Hochberg -n\")\n",
    "    message(\"running \", command)\n",
    "    system(command)\n",
    "}"
   ]
  },
  {
   "cell_type": "markdown",
   "metadata": {},
   "source": [
    "## Appendix - Metadata\n",
    "\n",
    "For replicability and reproducibility purposes, we also print the following metadata:\n",
    "\n",
    "1. Checksums of **'artefacts'**, files generated during the analysis and stored in the folder directory **`data`**\n",
    "2. List of environment metadata, dependencies, versions of libraries using `conda list`"
   ]
  },
  {
   "cell_type": "markdown",
   "metadata": {},
   "source": [
    "### Appendix "
   ]
  },
  {
   "cell_type": "markdown",
   "metadata": {},
   "source": [
    "### Libraries metadata"
   ]
  },
  {
   "cell_type": "code",
   "execution_count": 76,
   "metadata": {},
   "outputs": [
    {
     "name": "stderr",
     "output_type": "stream",
     "text": [
      "Saving `devtools::session_info()` objects in ../metadata/devtools_session_info.rds  ..\n",
      "\n",
      "Done!\n",
      "\n",
      "\n",
      "Saving `utils::sessionInfo()` objects in ../metadata/utils_session_info.rds  ..\n",
      "\n",
      "Done!\n",
      "\n",
      "\n"
     ]
    },
    {
     "data": {
      "text/plain": [
       " setting  value                       \n",
       " version  R version 3.6.2 (2019-12-12)\n",
       " os       Ubuntu 18.04.3 LTS          \n",
       " system   x86_64, linux-gnu           \n",
       " ui       X11                         \n",
       " language en_US.UTF-8                 \n",
       " collate  en_US.UTF-8                 \n",
       " ctype    en_US.UTF-8                 \n",
       " tz       Etc/UTC                     \n",
       " date     2020-06-30                  "
      ]
     },
     "metadata": {},
     "output_type": "display_data"
    },
    {
     "data": {
      "text/html": [
       "<table>\n",
       "<caption>A packages_info: 8 × 11</caption>\n",
       "<thead>\n",
       "\t<tr><th></th><th scope=col>package</th><th scope=col>ondiskversion</th><th scope=col>loadedversion</th><th scope=col>path</th><th scope=col>loadedpath</th><th scope=col>attached</th><th scope=col>is_base</th><th scope=col>date</th><th scope=col>source</th><th scope=col>md5ok</th><th scope=col>library</th></tr>\n",
       "\t<tr><th></th><th scope=col>&lt;chr&gt;</th><th scope=col>&lt;chr&gt;</th><th scope=col>&lt;chr&gt;</th><th scope=col>&lt;chr&gt;</th><th scope=col>&lt;chr&gt;</th><th scope=col>&lt;lgl&gt;</th><th scope=col>&lt;lgl&gt;</th><th scope=col>&lt;chr&gt;</th><th scope=col>&lt;chr&gt;</th><th scope=col>&lt;lgl&gt;</th><th scope=col>&lt;fct&gt;</th></tr>\n",
       "</thead>\n",
       "<tbody>\n",
       "\t<tr><th scope=row>BiocGenerics</th><td>BiocGenerics </td><td>0.32.0</td><td>0.32.0</td><td>/opt/conda/lib/R/library/BiocGenerics </td><td>/opt/conda/lib/R/library/BiocGenerics </td><td>TRUE</td><td>FALSE</td><td>2019-10-29</td><td>Bioconductor</td><td>NA</td><td>/opt/conda/lib/R/library</td></tr>\n",
       "\t<tr><th scope=row>Biostrings</th><td>Biostrings   </td><td>2.54.0</td><td>2.54.0</td><td>/opt/conda/lib/R/library/Biostrings   </td><td>/opt/conda/lib/R/library/Biostrings   </td><td>TRUE</td><td>FALSE</td><td>2019-10-29</td><td>Bioconductor</td><td>NA</td><td>/opt/conda/lib/R/library</td></tr>\n",
       "\t<tr><th scope=row>GenomeInfoDb</th><td>GenomeInfoDb </td><td>1.22.0</td><td>1.22.0</td><td>/opt/conda/lib/R/library/GenomeInfoDb </td><td>/opt/conda/lib/R/library/GenomeInfoDb </td><td>TRUE</td><td>FALSE</td><td>2019-10-29</td><td>Bioconductor</td><td>NA</td><td>/opt/conda/lib/R/library</td></tr>\n",
       "\t<tr><th scope=row>GenomicRanges</th><td>GenomicRanges</td><td>1.38.0</td><td>1.38.0</td><td>/opt/conda/lib/R/library/GenomicRanges</td><td>/opt/conda/lib/R/library/GenomicRanges</td><td>TRUE</td><td>FALSE</td><td>2019-10-29</td><td>Bioconductor</td><td>NA</td><td>/opt/conda/lib/R/library</td></tr>\n",
       "\t<tr><th scope=row>IRanges</th><td>IRanges      </td><td>2.20.0</td><td>2.20.0</td><td>/opt/conda/lib/R/library/IRanges      </td><td>/opt/conda/lib/R/library/IRanges      </td><td>TRUE</td><td>FALSE</td><td>2019-10-29</td><td>Bioconductor</td><td>NA</td><td>/opt/conda/lib/R/library</td></tr>\n",
       "\t<tr><th scope=row>rtracklayer</th><td>rtracklayer  </td><td>1.46.0</td><td>1.46.0</td><td>/opt/conda/lib/R/library/rtracklayer  </td><td>/opt/conda/lib/R/library/rtracklayer  </td><td>TRUE</td><td>FALSE</td><td>2019-10-29</td><td>Bioconductor</td><td>NA</td><td>/opt/conda/lib/R/library</td></tr>\n",
       "\t<tr><th scope=row>S4Vectors</th><td>S4Vectors    </td><td>0.24.0</td><td>0.24.0</td><td>/opt/conda/lib/R/library/S4Vectors    </td><td>/opt/conda/lib/R/library/S4Vectors    </td><td>TRUE</td><td>FALSE</td><td>2019-10-29</td><td>Bioconductor</td><td>NA</td><td>/opt/conda/lib/R/library</td></tr>\n",
       "\t<tr><th scope=row>XVector</th><td>XVector      </td><td>0.26.0</td><td>0.26.0</td><td>/opt/conda/lib/R/library/XVector      </td><td>/opt/conda/lib/R/library/XVector      </td><td>TRUE</td><td>FALSE</td><td>2019-10-29</td><td>Bioconductor</td><td>NA</td><td>/opt/conda/lib/R/library</td></tr>\n",
       "</tbody>\n",
       "</table>\n"
      ],
      "text/latex": [
       "A packages\\_info: 8 × 11\n",
       "\\begin{tabular}{r|lllllllllll}\n",
       "  & package & ondiskversion & loadedversion & path & loadedpath & attached & is\\_base & date & source & md5ok & library\\\\\n",
       "  & <chr> & <chr> & <chr> & <chr> & <chr> & <lgl> & <lgl> & <chr> & <chr> & <lgl> & <fct>\\\\\n",
       "\\hline\n",
       "\tBiocGenerics & BiocGenerics  & 0.32.0 & 0.32.0 & /opt/conda/lib/R/library/BiocGenerics  & /opt/conda/lib/R/library/BiocGenerics  & TRUE & FALSE & 2019-10-29 & Bioconductor & NA & /opt/conda/lib/R/library\\\\\n",
       "\tBiostrings & Biostrings    & 2.54.0 & 2.54.0 & /opt/conda/lib/R/library/Biostrings    & /opt/conda/lib/R/library/Biostrings    & TRUE & FALSE & 2019-10-29 & Bioconductor & NA & /opt/conda/lib/R/library\\\\\n",
       "\tGenomeInfoDb & GenomeInfoDb  & 1.22.0 & 1.22.0 & /opt/conda/lib/R/library/GenomeInfoDb  & /opt/conda/lib/R/library/GenomeInfoDb  & TRUE & FALSE & 2019-10-29 & Bioconductor & NA & /opt/conda/lib/R/library\\\\\n",
       "\tGenomicRanges & GenomicRanges & 1.38.0 & 1.38.0 & /opt/conda/lib/R/library/GenomicRanges & /opt/conda/lib/R/library/GenomicRanges & TRUE & FALSE & 2019-10-29 & Bioconductor & NA & /opt/conda/lib/R/library\\\\\n",
       "\tIRanges & IRanges       & 2.20.0 & 2.20.0 & /opt/conda/lib/R/library/IRanges       & /opt/conda/lib/R/library/IRanges       & TRUE & FALSE & 2019-10-29 & Bioconductor & NA & /opt/conda/lib/R/library\\\\\n",
       "\trtracklayer & rtracklayer   & 1.46.0 & 1.46.0 & /opt/conda/lib/R/library/rtracklayer   & /opt/conda/lib/R/library/rtracklayer   & TRUE & FALSE & 2019-10-29 & Bioconductor & NA & /opt/conda/lib/R/library\\\\\n",
       "\tS4Vectors & S4Vectors     & 0.24.0 & 0.24.0 & /opt/conda/lib/R/library/S4Vectors     & /opt/conda/lib/R/library/S4Vectors     & TRUE & FALSE & 2019-10-29 & Bioconductor & NA & /opt/conda/lib/R/library\\\\\n",
       "\tXVector & XVector       & 0.26.0 & 0.26.0 & /opt/conda/lib/R/library/XVector       & /opt/conda/lib/R/library/XVector       & TRUE & FALSE & 2019-10-29 & Bioconductor & NA & /opt/conda/lib/R/library\\\\\n",
       "\\end{tabular}\n"
      ],
      "text/markdown": [
       "\n",
       "A packages_info: 8 × 11\n",
       "\n",
       "| <!--/--> | package &lt;chr&gt; | ondiskversion &lt;chr&gt; | loadedversion &lt;chr&gt; | path &lt;chr&gt; | loadedpath &lt;chr&gt; | attached &lt;lgl&gt; | is_base &lt;lgl&gt; | date &lt;chr&gt; | source &lt;chr&gt; | md5ok &lt;lgl&gt; | library &lt;fct&gt; |\n",
       "|---|---|---|---|---|---|---|---|---|---|---|---|\n",
       "| BiocGenerics | BiocGenerics  | 0.32.0 | 0.32.0 | /opt/conda/lib/R/library/BiocGenerics  | /opt/conda/lib/R/library/BiocGenerics  | TRUE | FALSE | 2019-10-29 | Bioconductor | NA | /opt/conda/lib/R/library |\n",
       "| Biostrings | Biostrings    | 2.54.0 | 2.54.0 | /opt/conda/lib/R/library/Biostrings    | /opt/conda/lib/R/library/Biostrings    | TRUE | FALSE | 2019-10-29 | Bioconductor | NA | /opt/conda/lib/R/library |\n",
       "| GenomeInfoDb | GenomeInfoDb  | 1.22.0 | 1.22.0 | /opt/conda/lib/R/library/GenomeInfoDb  | /opt/conda/lib/R/library/GenomeInfoDb  | TRUE | FALSE | 2019-10-29 | Bioconductor | NA | /opt/conda/lib/R/library |\n",
       "| GenomicRanges | GenomicRanges | 1.38.0 | 1.38.0 | /opt/conda/lib/R/library/GenomicRanges | /opt/conda/lib/R/library/GenomicRanges | TRUE | FALSE | 2019-10-29 | Bioconductor | NA | /opt/conda/lib/R/library |\n",
       "| IRanges | IRanges       | 2.20.0 | 2.20.0 | /opt/conda/lib/R/library/IRanges       | /opt/conda/lib/R/library/IRanges       | TRUE | FALSE | 2019-10-29 | Bioconductor | NA | /opt/conda/lib/R/library |\n",
       "| rtracklayer | rtracklayer   | 1.46.0 | 1.46.0 | /opt/conda/lib/R/library/rtracklayer   | /opt/conda/lib/R/library/rtracklayer   | TRUE | FALSE | 2019-10-29 | Bioconductor | NA | /opt/conda/lib/R/library |\n",
       "| S4Vectors | S4Vectors     | 0.24.0 | 0.24.0 | /opt/conda/lib/R/library/S4Vectors     | /opt/conda/lib/R/library/S4Vectors     | TRUE | FALSE | 2019-10-29 | Bioconductor | NA | /opt/conda/lib/R/library |\n",
       "| XVector | XVector       | 0.26.0 | 0.26.0 | /opt/conda/lib/R/library/XVector       | /opt/conda/lib/R/library/XVector       | TRUE | FALSE | 2019-10-29 | Bioconductor | NA | /opt/conda/lib/R/library |\n",
       "\n"
      ],
      "text/plain": [
       "              package       ondiskversion loadedversion\n",
       "BiocGenerics  BiocGenerics  0.32.0        0.32.0       \n",
       "Biostrings    Biostrings    2.54.0        2.54.0       \n",
       "GenomeInfoDb  GenomeInfoDb  1.22.0        1.22.0       \n",
       "GenomicRanges GenomicRanges 1.38.0        1.38.0       \n",
       "IRanges       IRanges       2.20.0        2.20.0       \n",
       "rtracklayer   rtracklayer   1.46.0        1.46.0       \n",
       "S4Vectors     S4Vectors     0.24.0        0.24.0       \n",
       "XVector       XVector       0.26.0        0.26.0       \n",
       "              path                                  \n",
       "BiocGenerics  /opt/conda/lib/R/library/BiocGenerics \n",
       "Biostrings    /opt/conda/lib/R/library/Biostrings   \n",
       "GenomeInfoDb  /opt/conda/lib/R/library/GenomeInfoDb \n",
       "GenomicRanges /opt/conda/lib/R/library/GenomicRanges\n",
       "IRanges       /opt/conda/lib/R/library/IRanges      \n",
       "rtracklayer   /opt/conda/lib/R/library/rtracklayer  \n",
       "S4Vectors     /opt/conda/lib/R/library/S4Vectors    \n",
       "XVector       /opt/conda/lib/R/library/XVector      \n",
       "              loadedpath                             attached is_base\n",
       "BiocGenerics  /opt/conda/lib/R/library/BiocGenerics  TRUE     FALSE  \n",
       "Biostrings    /opt/conda/lib/R/library/Biostrings    TRUE     FALSE  \n",
       "GenomeInfoDb  /opt/conda/lib/R/library/GenomeInfoDb  TRUE     FALSE  \n",
       "GenomicRanges /opt/conda/lib/R/library/GenomicRanges TRUE     FALSE  \n",
       "IRanges       /opt/conda/lib/R/library/IRanges       TRUE     FALSE  \n",
       "rtracklayer   /opt/conda/lib/R/library/rtracklayer   TRUE     FALSE  \n",
       "S4Vectors     /opt/conda/lib/R/library/S4Vectors     TRUE     FALSE  \n",
       "XVector       /opt/conda/lib/R/library/XVector       TRUE     FALSE  \n",
       "              date       source       md5ok library                 \n",
       "BiocGenerics  2019-10-29 Bioconductor NA    /opt/conda/lib/R/library\n",
       "Biostrings    2019-10-29 Bioconductor NA    /opt/conda/lib/R/library\n",
       "GenomeInfoDb  2019-10-29 Bioconductor NA    /opt/conda/lib/R/library\n",
       "GenomicRanges 2019-10-29 Bioconductor NA    /opt/conda/lib/R/library\n",
       "IRanges       2019-10-29 Bioconductor NA    /opt/conda/lib/R/library\n",
       "rtracklayer   2019-10-29 Bioconductor NA    /opt/conda/lib/R/library\n",
       "S4Vectors     2019-10-29 Bioconductor NA    /opt/conda/lib/R/library\n",
       "XVector       2019-10-29 Bioconductor NA    /opt/conda/lib/R/library"
      ]
     },
     "metadata": {},
     "output_type": "display_data"
    }
   ],
   "source": [
    "notebookid <- \"runOntologizerForDGE.ipynb\"\n",
    "dev_session_info   <- devtools::session_info()\n",
    "utils_session_info <- utils::sessionInfo()\n",
    "\n",
    "message(\"Saving `devtools::session_info()` objects in ../metadata/devtools_session_info.rds  ..\")\n",
    "saveRDS(dev_session_info, file = paste0(\"../metadata/\", notebookid, \"_devtools_session_info.rds\"))\n",
    "message(\"Done!\\n\")\n",
    "\n",
    "message(\"Saving `utils::sessionInfo()` objects in ../metadata/utils_session_info.rds  ..\")\n",
    "saveRDS(utils_session_info, file = paste0(\"../metadata/\", notebookid ,\"_utils_info.rds\"))\n",
    "message(\"Done!\\n\")\n",
    "\n",
    "dev_session_info$platform\n",
    "dev_session_info$packages[dev_session_info$packages$attached==TRUE, ]"
   ]
  },
  {
   "cell_type": "code",
   "execution_count": null,
   "metadata": {},
   "outputs": [],
   "source": []
  }
 ],
 "metadata": {
  "kernelspec": {
   "display_name": "R",
   "language": "R",
   "name": "ir"
  },
  "language_info": {
   "codemirror_mode": "r",
   "file_extension": ".r",
   "mimetype": "text/x-r-source",
   "name": "R",
   "pygments_lexer": "r",
   "version": "3.6.2"
  }
 },
 "nbformat": 4,
 "nbformat_minor": 4
}
