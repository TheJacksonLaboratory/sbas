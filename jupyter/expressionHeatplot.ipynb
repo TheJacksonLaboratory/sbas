{
 "cells": [
  {
   "cell_type": "markdown",
   "metadata": {},
   "source": [
    "# **Gene Expression Heatplot**\n",
    "This notebook generates a heat plot representing sex-biased differential gene expression as well as a plot showing the counts of differentially expressed genes per tissue."
   ]
  },
  {
   "cell_type": "markdown",
   "metadata": {},
   "source": [
    "## **Running this notebook**:\n",
    "\n",
    "See the README for setting up prerequisites for the notebook."
   ]
  },
  {
   "cell_type": "markdown",
   "metadata": {},
   "source": [
    "# 1. Setup"
   ]
  },
  {
   "cell_type": "code",
   "execution_count": 3,
   "metadata": {},
   "outputs": [],
   "source": [
    "defaultW <- getOption(\"warn\")  # suppress warnings for this cell\n",
    "options(warn = -1) \n",
    "\n",
    "library(stringr)\n",
    "library(edgeR)\n",
    "library(pheatmap)\n",
    "library(magrittr)\n",
    "library(dplyr)\n",
    "library(ggplot2)\n",
    "library(scales)\n",
    "library(viridis)\n",
    "library(scales)\n",
    "\n",
    "Sys.setenv(TAR = \"/bin/tar\") # for gzfile\n",
    "\n",
    "options(warn = defaultW)"
   ]
  },
  {
   "cell_type": "markdown",
   "metadata": {},
   "source": [
    "## Heatplot representing similarity in the fold-changes between male and female samples\n",
    "The values in the heatmap represent the correlation (similarity in the fold-changes) between male and female samples, with the values in the heatmap being the correlation between the vectors of fold changes of the tissues.\n",
    "\n",
    "1. Get differential gene expression (DGE) files\n",
    "2. Use the ``../assets/tissues.tsv`` to limit the tissues to those with at least 50 samples in each sex (``tissues.tsv`` was produced by a Python script)\n",
    "3. "
   ]
  },
  {
   "cell_type": "code",
   "execution_count": 18,
   "metadata": {},
   "outputs": [
    {
     "name": "stderr",
     "output_type": "stream",
     "text": [
      "Number of DGE files found with *_DGE.csv pattern: 6\n",
      "\n"
     ]
    }
   ],
   "source": [
    "filenames <- list.files(\"../data\", pattern=\"*_DGE.csv\", all.files=FALSE, full.names=TRUE)\n",
    "message(\"Number of DGE files found with *_DGE.csv pattern: \",length(filenames))"
   ]
  },
  {
   "cell_type": "code",
   "execution_count": 21,
   "metadata": {},
   "outputs": [
    {
     "data": {
      "text/html": [
       "<style>\n",
       ".list-inline {list-style: none; margin:0; padding: 0}\n",
       ".list-inline>li {display: inline-block}\n",
       ".list-inline>li:not(:last-child)::after {content: \"\\00b7\"; padding: 0 .5ex}\n",
       "</style>\n",
       "<ol class=list-inline><li>'../data/adipose_subcutaneous_DGE.csv'</li><li>'../data/adipose_visceral_omentum_DGE.csv'</li><li>'../data/adrenal_gland_DGE.csv'</li><li>'../data/artery_aorta_DGE.csv'</li><li>'../data/artery_coronary_DGE.csv'</li><li>'../data/artery_tibial_DGE.csv'</li></ol>\n"
      ],
      "text/latex": [
       "\\begin{enumerate*}\n",
       "\\item '../data/adipose\\_subcutaneous\\_DGE.csv'\n",
       "\\item '../data/adipose\\_visceral\\_omentum\\_DGE.csv'\n",
       "\\item '../data/adrenal\\_gland\\_DGE.csv'\n",
       "\\item '../data/artery\\_aorta\\_DGE.csv'\n",
       "\\item '../data/artery\\_coronary\\_DGE.csv'\n",
       "\\item '../data/artery\\_tibial\\_DGE.csv'\n",
       "\\end{enumerate*}\n"
      ],
      "text/markdown": [
       "1. '../data/adipose_subcutaneous_DGE.csv'\n",
       "2. '../data/adipose_visceral_omentum_DGE.csv'\n",
       "3. '../data/adrenal_gland_DGE.csv'\n",
       "4. '../data/artery_aorta_DGE.csv'\n",
       "5. '../data/artery_coronary_DGE.csv'\n",
       "6. '../data/artery_tibial_DGE.csv'\n",
       "\n",
       "\n"
      ],
      "text/plain": [
       "[1] \"../data/adipose_subcutaneous_DGE.csv\"    \n",
       "[2] \"../data/adipose_visceral_omentum_DGE.csv\"\n",
       "[3] \"../data/adrenal_gland_DGE.csv\"           \n",
       "[4] \"../data/artery_aorta_DGE.csv\"            \n",
       "[5] \"../data/artery_coronary_DGE.csv\"         \n",
       "[6] \"../data/artery_tibial_DGE.csv\"           "
      ]
     },
     "metadata": {},
     "output_type": "display_data"
    },
    {
     "data": {
      "text/plain": [
       "\n",
       " 0  1 \n",
       "11 39 "
      ]
     },
     "metadata": {},
     "output_type": "display_data"
    },
    {
     "name": "stderr",
     "output_type": "stream",
     "text": [
      "Number of tissues with >=50 samples each in ../assets/tissues.tsv (tissue_reduction)39 5\n",
      "\n"
     ]
    }
   ],
   "source": [
    "head(filenames)\n",
    "# read in all requirements so that the stage is properly set -- \n",
    "# if it is clear here -- it will remain clear for the rest of the time\n",
    "# tissues.tsv contains the subset of files desired for analysis.\n",
    "tissue_reduction <- read.table(file=\"../assets/tissues.tsv\", header=TRUE, sep=\"\\t\",\n",
    "                               skipNul=FALSE, stringsAsFactors = FALSE)\n",
    "colnames(tissue_reduction)  <- c(\"SMTSD\",\"female\",\"male\",\"include\",\"display_name\")\n",
    "tissue_reduction$SMTSD <- factor(snakecase::to_snake_case(as.character(tissue_reduction$SMTSD)))\n",
    "# only include those tissues we wish to continue with\n",
    "table(tissue_reduction$include)\n",
    "tissue_reduction <- tissue_reduction[tissue_reduction$include==1,]\n",
    "\n",
    "message(\"Number of tissues with >=50 samples each in ../assets/tissues.tsv (tissue_reduction)\",\n",
    "        paste(dim(tissue_reduction), collapse=\" \"))"
   ]
  },
  {
   "cell_type": "code",
   "execution_count": 22,
   "metadata": {},
   "outputs": [],
   "source": [
    "# preserve the ordered rownames for later assignment to matrix\n",
    "fullfilename <-filenames[1]\n",
    "logFC_mat    <- read.csv(fullfilename)\n",
    "pVal_mat     <- logFC_mat\n",
    "logFC_mat    <- logFC_mat[order(rownames(logFC_mat)),]\n",
    "logFC_mat_rownames <- as.character(rownames(logFC_mat)) \n",
    "pVal_mat_rownames  <- logFC_mat_rownames\n",
    "pVal_mat     <- logFC_mat"
   ]
  },
  {
   "cell_type": "code",
   "execution_count": 23,
   "metadata": {},
   "outputs": [
    {
     "data": {
      "text/html": [
       "<table>\n",
       "<caption>A data.frame: 6 × 6</caption>\n",
       "<thead>\n",
       "\t<tr><th></th><th scope=col>logFC</th><th scope=col>AveExpr</th><th scope=col>t</th><th scope=col>P.Value</th><th scope=col>adj.P.Val</th><th scope=col>B</th></tr>\n",
       "\t<tr><th></th><th scope=col>&lt;dbl&gt;</th><th scope=col>&lt;dbl&gt;</th><th scope=col>&lt;dbl&gt;</th><th scope=col>&lt;dbl&gt;</th><th scope=col>&lt;dbl&gt;</th><th scope=col>&lt;dbl&gt;</th></tr>\n",
       "</thead>\n",
       "<tbody>\n",
       "\t<tr><th scope=row>ENSG00000000003.14</th><td> 0.187120063</td><td>5.577425</td><td> 3.72856810</td><td>0.0002182802</td><td>0.008671240</td><td>-1.224138</td></tr>\n",
       "\t<tr><th scope=row>ENSG00000000005.5</th><td> 0.417140694</td><td>4.004495</td><td> 3.63725550</td><td>0.0003092299</td><td>0.010916736</td><td>-1.295612</td></tr>\n",
       "\t<tr><th scope=row>ENSG00000000419.12</th><td>-0.002243719</td><td>4.685252</td><td>-0.09078339</td><td>0.9277068987</td><td>0.961503738</td><td>-7.903498</td></tr>\n",
       "\t<tr><th scope=row>ENSG00000000457.13</th><td>-0.005474788</td><td>3.911415</td><td>-0.21458951</td><td>0.8301889108</td><td>0.902548833</td><td>-7.756251</td></tr>\n",
       "\t<tr><th scope=row>ENSG00000000460.16</th><td>-0.012659230</td><td>2.205476</td><td>-0.34517715</td><td>0.7301296596</td><td>0.837772733</td><td>-7.455475</td></tr>\n",
       "\t<tr><th scope=row>ENSG00000000938.12</th><td> 0.327508275</td><td>5.248948</td><td> 3.73991142</td><td>0.0002091704</td><td>0.008417187</td><td>-1.133228</td></tr>\n",
       "</tbody>\n",
       "</table>\n"
      ],
      "text/latex": [
       "A data.frame: 6 × 6\n",
       "\\begin{tabular}{r|llllll}\n",
       "  & logFC & AveExpr & t & P.Value & adj.P.Val & B\\\\\n",
       "  & <dbl> & <dbl> & <dbl> & <dbl> & <dbl> & <dbl>\\\\\n",
       "\\hline\n",
       "\tENSG00000000003.14 &  0.187120063 & 5.577425 &  3.72856810 & 0.0002182802 & 0.008671240 & -1.224138\\\\\n",
       "\tENSG00000000005.5 &  0.417140694 & 4.004495 &  3.63725550 & 0.0003092299 & 0.010916736 & -1.295612\\\\\n",
       "\tENSG00000000419.12 & -0.002243719 & 4.685252 & -0.09078339 & 0.9277068987 & 0.961503738 & -7.903498\\\\\n",
       "\tENSG00000000457.13 & -0.005474788 & 3.911415 & -0.21458951 & 0.8301889108 & 0.902548833 & -7.756251\\\\\n",
       "\tENSG00000000460.16 & -0.012659230 & 2.205476 & -0.34517715 & 0.7301296596 & 0.837772733 & -7.455475\\\\\n",
       "\tENSG00000000938.12 &  0.327508275 & 5.248948 &  3.73991142 & 0.0002091704 & 0.008417187 & -1.133228\\\\\n",
       "\\end{tabular}\n"
      ],
      "text/markdown": [
       "\n",
       "A data.frame: 6 × 6\n",
       "\n",
       "| <!--/--> | logFC &lt;dbl&gt; | AveExpr &lt;dbl&gt; | t &lt;dbl&gt; | P.Value &lt;dbl&gt; | adj.P.Val &lt;dbl&gt; | B &lt;dbl&gt; |\n",
       "|---|---|---|---|---|---|---|\n",
       "| ENSG00000000003.14 |  0.187120063 | 5.577425 |  3.72856810 | 0.0002182802 | 0.008671240 | -1.224138 |\n",
       "| ENSG00000000005.5 |  0.417140694 | 4.004495 |  3.63725550 | 0.0003092299 | 0.010916736 | -1.295612 |\n",
       "| ENSG00000000419.12 | -0.002243719 | 4.685252 | -0.09078339 | 0.9277068987 | 0.961503738 | -7.903498 |\n",
       "| ENSG00000000457.13 | -0.005474788 | 3.911415 | -0.21458951 | 0.8301889108 | 0.902548833 | -7.756251 |\n",
       "| ENSG00000000460.16 | -0.012659230 | 2.205476 | -0.34517715 | 0.7301296596 | 0.837772733 | -7.455475 |\n",
       "| ENSG00000000938.12 |  0.327508275 | 5.248948 |  3.73991142 | 0.0002091704 | 0.008417187 | -1.133228 |\n",
       "\n"
      ],
      "text/plain": [
       "                   logFC        AveExpr  t           P.Value      adj.P.Val  \n",
       "ENSG00000000003.14  0.187120063 5.577425  3.72856810 0.0002182802 0.008671240\n",
       "ENSG00000000005.5   0.417140694 4.004495  3.63725550 0.0003092299 0.010916736\n",
       "ENSG00000000419.12 -0.002243719 4.685252 -0.09078339 0.9277068987 0.961503738\n",
       "ENSG00000000457.13 -0.005474788 3.911415 -0.21458951 0.8301889108 0.902548833\n",
       "ENSG00000000460.16 -0.012659230 2.205476 -0.34517715 0.7301296596 0.837772733\n",
       "ENSG00000000938.12  0.327508275 5.248948  3.73991142 0.0002091704 0.008417187\n",
       "                   B        \n",
       "ENSG00000000003.14 -1.224138\n",
       "ENSG00000000005.5  -1.295612\n",
       "ENSG00000000419.12 -7.903498\n",
       "ENSG00000000457.13 -7.756251\n",
       "ENSG00000000460.16 -7.455475\n",
       "ENSG00000000938.12 -1.133228"
      ]
     },
     "metadata": {},
     "output_type": "display_data"
    }
   ],
   "source": [
    "head(logFC_mat)"
   ]
  },
  {
   "cell_type": "code",
   "execution_count": 24,
   "metadata": {},
   "outputs": [],
   "source": [
    "# Make a logFC matrix for each of the tissues\n",
    "# from what files are saved\n",
    "make_tissue_matrix_ready <- function (file) {\n",
    "    filename        <- paste('../data',file,sep=\"/\")\n",
    "    logFC_mat       <- read.csv(filename)\n",
    "    logFC_mat       <- logFC_mat[order(rownames(logFC_mat)),]\n",
    "    logFC           <- as.matrix(as.numeric(logFC_mat$logFC),ncol=1)\n",
    "    rownames(logFC) <- rownames(logFC_mat)\n",
    "    return(logFC)\n",
    "}\n"
   ]
  },
  {
   "cell_type": "code",
   "execution_count": 25,
   "metadata": {},
   "outputs": [],
   "source": [
    "# Make a adjPVal matrix for each of the tissues\n",
    "# from what files are saved\n",
    "make_pval_matrix_ready <- function (file) {\n",
    "    filename        <- paste('../data',file,sep=\"/\")\n",
    "    pVal_mat       <- read.csv(filename)\n",
    "    pVal_mat       <- pVal_mat[order(rownames(pVal_mat)),]\n",
    "    pVal           <- as.matrix(as.numeric(pVal_mat$adj.P.Val),ncol=1)\n",
    "    rownames(pVal) <- rownames(pVal_mat)\n",
    "    return(pVal)\n",
    "}"
   ]
  },
  {
   "cell_type": "code",
   "execution_count": 28,
   "metadata": {},
   "outputs": [
    {
     "name": "stderr",
     "output_type": "stream",
     "text": [
      "Length of matrix_list6\n",
      "\n"
     ]
    }
   ],
   "source": [
    "matrix_list <- lapply(X=filenames, FUN=make_tissue_matrix_ready)\n",
    "message(\"Length of matrix_list\", length(matrix_list))"
   ]
  },
  {
   "cell_type": "code",
   "execution_count": 31,
   "metadata": {},
   "outputs": [
    {
     "name": "stderr",
     "output_type": "stream",
     "text": [
      "Length of pVal_matrix_list: 6\n",
      "\n"
     ]
    }
   ],
   "source": [
    "pVal_matrix_list <- lapply(X=filenames, FUN=make_pval_matrix_ready)\n",
    "message(\"Length of pVal_matrix_list: \", length(pVal_matrix_list))"
   ]
  },
  {
   "cell_type": "code",
   "execution_count": 30,
   "metadata": {},
   "outputs": [
    {
     "name": "stderr",
     "output_type": "stream",
     "text": [
      "Length of logFC_mat (corresponds to number of tissues from DGE files): 6\n",
      "\n"
     ]
    }
   ],
   "source": [
    "# rows are the number of samples, columns are the tissues\n",
    "logFC_mat = as.matrix(lapply(X   = matrix_list, \n",
    "                             FUN = cbind),\n",
    "                      nrow = dim(reduced_obj3)[2], \n",
    "                      ncol = length(matrix_list))\n",
    "message(\"Length of logFC_mat (corresponds to number of tissues from DGE files): \", length(logFC_mat))"
   ]
  },
  {
   "cell_type": "code",
   "execution_count": 32,
   "metadata": {},
   "outputs": [
    {
     "name": "stderr",
     "output_type": "stream",
     "text": [
      "Length of pVal_mat (corresponds to number of tissues from DGE files): 6\n",
      "\n"
     ]
    }
   ],
   "source": [
    "# rows are the number of samples, columns are the tissues\n",
    "pVal_mat = as.matrix(lapply(X   = pVal_matrix_list, \n",
    "                             FUN = cbind),\n",
    "                      nrow = dim(reduced_obj3)[2], \n",
    "                      ncol = length(pVal_matrix_list))\n",
    "message(\"Length of pVal_mat (corresponds to number of tissues from DGE files): \", length(pVal_mat))"
   ]
  },
  {
   "cell_type": "code",
   "execution_count": 33,
   "metadata": {},
   "outputs": [
    {
     "name": "stderr",
     "output_type": "stream",
     "text": [
      "Number of tissues with at least 50 samples for both sexes: 39\n",
      "\n"
     ]
    }
   ],
   "source": [
    "tissue_list  <- levels(factor(tissue_reduction$SMTSD))\n",
    "message(\"Number of tissues with at least 50 samples for both sexes: \",length(tissue_list))"
   ]
  },
  {
   "cell_type": "code",
   "execution_count": 34,
   "metadata": {},
   "outputs": [
    {
     "data": {
      "text/html": [
       "<style>\n",
       ".list-inline {list-style: none; margin:0; padding: 0}\n",
       ".list-inline>li {display: inline-block}\n",
       ".list-inline>li:not(:last-child)::after {content: \"\\00b7\"; padding: 0 .5ex}\n",
       "</style>\n",
       "<ol class=list-inline><li>55814</li><li>1</li></ol>\n"
      ],
      "text/latex": [
       "\\begin{enumerate*}\n",
       "\\item 55814\n",
       "\\item 1\n",
       "\\end{enumerate*}\n"
      ],
      "text/markdown": [
       "1. 55814\n",
       "2. 1\n",
       "\n",
       "\n"
      ],
      "text/plain": [
       "[1] 55814     1"
      ]
     },
     "metadata": {},
     "output_type": "display_data"
    },
    {
     "data": {
      "text/html": [
       "<table>\n",
       "<caption>A matrix: 6 × 1 of type dbl</caption>\n",
       "<tbody>\n",
       "\t<tr><td> 0.187120063</td></tr>\n",
       "\t<tr><td> 0.417140694</td></tr>\n",
       "\t<tr><td>-0.002243719</td></tr>\n",
       "\t<tr><td>-0.005474788</td></tr>\n",
       "\t<tr><td>-0.012659230</td></tr>\n",
       "\t<tr><td> 0.327508275</td></tr>\n",
       "</tbody>\n",
       "</table>\n"
      ],
      "text/latex": [
       "A matrix: 6 × 1 of type dbl\n",
       "\\begin{tabular}{l}\n",
       "\t  0.187120063\\\\\n",
       "\t  0.417140694\\\\\n",
       "\t -0.002243719\\\\\n",
       "\t -0.005474788\\\\\n",
       "\t -0.012659230\\\\\n",
       "\t  0.327508275\\\\\n",
       "\\end{tabular}\n"
      ],
      "text/markdown": [
       "\n",
       "A matrix: 6 × 1 of type dbl\n",
       "\n",
       "|  0.187120063 |\n",
       "|  0.417140694 |\n",
       "| -0.002243719 |\n",
       "| -0.005474788 |\n",
       "| -0.012659230 |\n",
       "|  0.327508275 |\n",
       "\n"
      ],
      "text/plain": [
       "     [,1]        \n",
       "[1,]  0.187120063\n",
       "[2,]  0.417140694\n",
       "[3,] -0.002243719\n",
       "[4,] -0.005474788\n",
       "[5,] -0.012659230\n",
       "[6,]  0.327508275"
      ]
     },
     "metadata": {},
     "output_type": "display_data"
    },
    {
     "data": {
      "text/html": [
       "<style>\n",
       ".list-inline {list-style: none; margin:0; padding: 0}\n",
       ".list-inline>li {display: inline-block}\n",
       ".list-inline>li:not(:last-child)::after {content: \"\\00b7\"; padding: 0 .5ex}\n",
       "</style>\n",
       "<ol class=list-inline><li>55814</li><li>6</li></ol>\n"
      ],
      "text/latex": [
       "\\begin{enumerate*}\n",
       "\\item 55814\n",
       "\\item 6\n",
       "\\end{enumerate*}\n"
      ],
      "text/markdown": [
       "1. 55814\n",
       "2. 6\n",
       "\n",
       "\n"
      ],
      "text/plain": [
       "[1] 55814     6"
      ]
     },
     "metadata": {},
     "output_type": "display_data"
    },
    {
     "data": {
      "text/html": [
       "<style>\n",
       ".list-inline {list-style: none; margin:0; padding: 0}\n",
       ".list-inline>li {display: inline-block}\n",
       ".list-inline>li:not(:last-child)::after {content: \"\\00b7\"; padding: 0 .5ex}\n",
       "</style>\n",
       "<ol class=list-inline><li>'Adipose (sc)'</li><li>'Adipose (v)'</li><li>'Adrenal gland'</li><li>'Aorta'</li><li>'Coronary artery'</li><li>'Tibial artery'</li></ol>\n"
      ],
      "text/latex": [
       "\\begin{enumerate*}\n",
       "\\item 'Adipose (sc)'\n",
       "\\item 'Adipose (v)'\n",
       "\\item 'Adrenal gland'\n",
       "\\item 'Aorta'\n",
       "\\item 'Coronary artery'\n",
       "\\item 'Tibial artery'\n",
       "\\end{enumerate*}\n"
      ],
      "text/markdown": [
       "1. 'Adipose (sc)'\n",
       "2. 'Adipose (v)'\n",
       "3. 'Adrenal gland'\n",
       "4. 'Aorta'\n",
       "5. 'Coronary artery'\n",
       "6. 'Tibial artery'\n",
       "\n",
       "\n"
      ],
      "text/plain": [
       "[1] \"Adipose (sc)\"    \"Adipose (v)\"     \"Adrenal gland\"   \"Aorta\"          \n",
       "[5] \"Coronary artery\" \"Tibial artery\"  "
      ]
     },
     "metadata": {},
     "output_type": "display_data"
    },
    {
     "ename": "ERROR",
     "evalue": "Error in dimnames(x) <- dn: length of 'dimnames' [2] not equal to array extent\n",
     "output_type": "error",
     "traceback": [
      "Error in dimnames(x) <- dn: length of 'dimnames' [2] not equal to array extent\nTraceback:\n",
      "1. `colnames<-`(`*tmp*`, value = c(\"Adipose (sc)\", \"Adipose (v)\", \n . \"Adrenal gland\", \"Aorta\", \"Coronary artery\", \"Tibial artery\", \n . \"Caudate\", \"Cerebellar hemisphere\", \"Cerebellum\", \"Cortex\", \"Frontal cortex\", \n . \"Hippocampus\", \"Hypothalamus\", \"Nucleus accumbens\", \"Putamen\", \n . \"Spinal cord\", \"Breast\", \"Fibroblasts\", \"EBV-lymphocytes\", \"Sigmoid colon\", \n . \"Transverse colon\", \"Esophagus (gej)\", \"Esophagus (m)\", \"Esophagus (mu)\", \n . \"Atrial appendage\", \"Left ventricle\", \"Liver\", \"Lung\", \"Skeletal muscle\", \n . \"Tibial nerve\", \"Pancreas\", \"Pituitary\", \"Skin (not exposed)\", \n . \"Skin (exposed)\", \"Small intestine\", \"Spleen\", \"Stomach\", \"Thyroid\", \n . \"Whole blood\"))"
     ]
    }
   ],
   "source": [
    "logFC_mat = as.matrix(as.numeric(unlist(matrix_list[1]),nrow=length(tissue_list), ncol=1))\n",
    "dim(logFC_mat)\n",
    "head(logFC_mat)\n",
    "for (i in (2:length(matrix_list))) {\n",
    "    n = as.matrix(as.numeric(unlist(matrix_list[i]),nrow=length(tissue_list), ncol=1))\n",
    "    logFC_mat = cbind(logFC_mat, n)\n",
    "}\n",
    "\n",
    "dim(logFC_mat)\n",
    "\n",
    "display_name = ifelse(tissue_list == tissue_reduction$SMTSD, \n",
    "                                            tissue_reduction$display_name,\n",
    "                                            logFC_mat_rownames)\n",
    "head(display_name)\n",
    "rownames(logFC_mat) = logFC_mat_rownames\n",
    "colnames(logFC_mat) = display_name\n",
    "head(logFC_mat)\n"
   ]
  },
  {
   "cell_type": "code",
   "execution_count": 35,
   "metadata": {},
   "outputs": [
    {
     "data": {
      "text/html": [
       "<style>\n",
       ".list-inline {list-style: none; margin:0; padding: 0}\n",
       ".list-inline>li {display: inline-block}\n",
       ".list-inline>li:not(:last-child)::after {content: \"\\00b7\"; padding: 0 .5ex}\n",
       "</style>\n",
       "<ol class=list-inline><li>55814</li><li>1</li></ol>\n"
      ],
      "text/latex": [
       "\\begin{enumerate*}\n",
       "\\item 55814\n",
       "\\item 1\n",
       "\\end{enumerate*}\n"
      ],
      "text/markdown": [
       "1. 55814\n",
       "2. 1\n",
       "\n",
       "\n"
      ],
      "text/plain": [
       "[1] 55814     1"
      ]
     },
     "metadata": {},
     "output_type": "display_data"
    },
    {
     "data": {
      "text/html": [
       "<table>\n",
       "<caption>A matrix: 6 × 1 of type dbl</caption>\n",
       "<tbody>\n",
       "\t<tr><td>0.008671240</td></tr>\n",
       "\t<tr><td>0.010916736</td></tr>\n",
       "\t<tr><td>0.961503738</td></tr>\n",
       "\t<tr><td>0.902548833</td></tr>\n",
       "\t<tr><td>0.837772733</td></tr>\n",
       "\t<tr><td>0.008417187</td></tr>\n",
       "</tbody>\n",
       "</table>\n"
      ],
      "text/latex": [
       "A matrix: 6 × 1 of type dbl\n",
       "\\begin{tabular}{l}\n",
       "\t 0.008671240\\\\\n",
       "\t 0.010916736\\\\\n",
       "\t 0.961503738\\\\\n",
       "\t 0.902548833\\\\\n",
       "\t 0.837772733\\\\\n",
       "\t 0.008417187\\\\\n",
       "\\end{tabular}\n"
      ],
      "text/markdown": [
       "\n",
       "A matrix: 6 × 1 of type dbl\n",
       "\n",
       "| 0.008671240 |\n",
       "| 0.010916736 |\n",
       "| 0.961503738 |\n",
       "| 0.902548833 |\n",
       "| 0.837772733 |\n",
       "| 0.008417187 |\n",
       "\n"
      ],
      "text/plain": [
       "     [,1]       \n",
       "[1,] 0.008671240\n",
       "[2,] 0.010916736\n",
       "[3,] 0.961503738\n",
       "[4,] 0.902548833\n",
       "[5,] 0.837772733\n",
       "[6,] 0.008417187"
      ]
     },
     "metadata": {},
     "output_type": "display_data"
    },
    {
     "data": {
      "text/html": [
       "<style>\n",
       ".list-inline {list-style: none; margin:0; padding: 0}\n",
       ".list-inline>li {display: inline-block}\n",
       ".list-inline>li:not(:last-child)::after {content: \"\\00b7\"; padding: 0 .5ex}\n",
       "</style>\n",
       "<ol class=list-inline><li>55814</li><li>6</li></ol>\n"
      ],
      "text/latex": [
       "\\begin{enumerate*}\n",
       "\\item 55814\n",
       "\\item 6\n",
       "\\end{enumerate*}\n"
      ],
      "text/markdown": [
       "1. 55814\n",
       "2. 6\n",
       "\n",
       "\n"
      ],
      "text/plain": [
       "[1] 55814     6"
      ]
     },
     "metadata": {},
     "output_type": "display_data"
    },
    {
     "data": {
      "text/html": [
       "<style>\n",
       ".list-inline {list-style: none; margin:0; padding: 0}\n",
       ".list-inline>li {display: inline-block}\n",
       ".list-inline>li:not(:last-child)::after {content: \"\\00b7\"; padding: 0 .5ex}\n",
       "</style>\n",
       "<ol class=list-inline><li>'Adipose (sc)'</li><li>'Adipose (v)'</li><li>'Adrenal gland'</li><li>'Aorta'</li><li>'Coronary artery'</li><li>'Tibial artery'</li></ol>\n"
      ],
      "text/latex": [
       "\\begin{enumerate*}\n",
       "\\item 'Adipose (sc)'\n",
       "\\item 'Adipose (v)'\n",
       "\\item 'Adrenal gland'\n",
       "\\item 'Aorta'\n",
       "\\item 'Coronary artery'\n",
       "\\item 'Tibial artery'\n",
       "\\end{enumerate*}\n"
      ],
      "text/markdown": [
       "1. 'Adipose (sc)'\n",
       "2. 'Adipose (v)'\n",
       "3. 'Adrenal gland'\n",
       "4. 'Aorta'\n",
       "5. 'Coronary artery'\n",
       "6. 'Tibial artery'\n",
       "\n",
       "\n"
      ],
      "text/plain": [
       "[1] \"Adipose (sc)\"    \"Adipose (v)\"     \"Adrenal gland\"   \"Aorta\"          \n",
       "[5] \"Coronary artery\" \"Tibial artery\"  "
      ]
     },
     "metadata": {},
     "output_type": "display_data"
    },
    {
     "ename": "ERROR",
     "evalue": "Error in dimnames(x) <- dn: length of 'dimnames' [2] not equal to array extent\n",
     "output_type": "error",
     "traceback": [
      "Error in dimnames(x) <- dn: length of 'dimnames' [2] not equal to array extent\nTraceback:\n",
      "1. `colnames<-`(`*tmp*`, value = c(\"Adipose (sc)\", \"Adipose (v)\", \n . \"Adrenal gland\", \"Aorta\", \"Coronary artery\", \"Tibial artery\", \n . \"Caudate\", \"Cerebellar hemisphere\", \"Cerebellum\", \"Cortex\", \"Frontal cortex\", \n . \"Hippocampus\", \"Hypothalamus\", \"Nucleus accumbens\", \"Putamen\", \n . \"Spinal cord\", \"Breast\", \"Fibroblasts\", \"EBV-lymphocytes\", \"Sigmoid colon\", \n . \"Transverse colon\", \"Esophagus (gej)\", \"Esophagus (m)\", \"Esophagus (mu)\", \n . \"Atrial appendage\", \"Left ventricle\", \"Liver\", \"Lung\", \"Skeletal muscle\", \n . \"Tibial nerve\", \"Pancreas\", \"Pituitary\", \"Skin (not exposed)\", \n . \"Skin (exposed)\", \"Small intestine\", \"Spleen\", \"Stomach\", \"Thyroid\", \n . \"Whole blood\"))"
     ]
    }
   ],
   "source": [
    "pVal_mat = as.matrix(as.numeric(unlist(pVal_matrix_list[1]),nrow=length(tissue_list), ncol=1))\n",
    "dim(pVal_mat)\n",
    "head(pVal_mat)\n",
    "for (i in (2:length(pVal_matrix_list))) {\n",
    "    n = as.matrix(as.numeric(unlist(pVal_matrix_list[i]),nrow=length(tissue_list), ncol=1))\n",
    "    pVal_mat = cbind(pVal_mat, n)\n",
    "}\n",
    "\n",
    "dim(pVal_mat)\n",
    "\n",
    "display_name = ifelse(tissue_list == tissue_reduction$SMTSD, \n",
    "                                            tissue_reduction$display_name,\n",
    "                                            pVal_mat_rownames)\n",
    "head(display_name)\n",
    "rownames(pVal_mat) = pVal_mat_rownames\n",
    "colnames(logFC_mat) = display_name\n",
    "head(logFC_mat)"
   ]
  },
  {
   "cell_type": "code",
   "execution_count": 36,
   "metadata": {},
   "outputs": [
    {
     "data": {
      "text/plain": [
       "logFC_pass\n",
       "FALSE  TRUE \n",
       "55402   412 "
      ]
     },
     "metadata": {},
     "output_type": "display_data"
    },
    {
     "data": {
      "text/plain": [
       "pVal_pass\n",
       "FALSE  TRUE \n",
       "55310   504 "
      ]
     },
     "metadata": {},
     "output_type": "display_data"
    },
    {
     "data": {
      "text/plain": [
       "logFC_pVal_pass\n",
       "FALSE  TRUE \n",
       "54814  1000 "
      ]
     },
     "metadata": {},
     "output_type": "display_data"
    },
    {
     "data": {
      "text/html": [
       "<style>\n",
       ".list-inline {list-style: none; margin:0; padding: 0}\n",
       ".list-inline>li {display: inline-block}\n",
       ".list-inline>li:not(:last-child)::after {content: \"\\00b7\"; padding: 0 .5ex}\n",
       "</style>\n",
       "<ol class=list-inline><li>1000</li><li>6</li></ol>\n"
      ],
      "text/latex": [
       "\\begin{enumerate*}\n",
       "\\item 1000\n",
       "\\item 6\n",
       "\\end{enumerate*}\n"
      ],
      "text/markdown": [
       "1. 1000\n",
       "2. 6\n",
       "\n",
       "\n"
      ],
      "text/plain": [
       "[1] 1000    6"
      ]
     },
     "metadata": {},
     "output_type": "display_data"
    },
    {
     "data": {
      "text/html": [
       "<table>\n",
       "<caption>A matrix: 6 × 6 of type dbl</caption>\n",
       "<tbody>\n",
       "\t<tr><th scope=row>ENSG00000002586.18</th><td>-0.28348849</td><td>-0.2795714</td><td>-0.75170920</td><td>-0.2680308</td><td>-0.3710694</td><td>-0.45100545</td></tr>\n",
       "\t<tr><th scope=row>ENSG00000004848.7</th><td>-0.26433366</td><td> 0.6620412</td><td> 0.41325271</td><td> 0.2847709</td><td>-0.2384628</td><td> 0.03271218</td></tr>\n",
       "\t<tr><th scope=row>ENSG00000005001.9</th><td> 0.63913862</td><td> 0.1787388</td><td>-0.05246823</td><td> 0.2144861</td><td> 0.2686155</td><td>-0.07994948</td></tr>\n",
       "\t<tr><th scope=row>ENSG00000005073.5</th><td> 0.18756857</td><td> 2.3356173</td><td>-0.32666910</td><td>-0.3483015</td><td>-0.2967322</td><td>-0.08725601</td></tr>\n",
       "\t<tr><th scope=row>ENSG00000005889.15</th><td> 0.52299969</td><td> 0.5376454</td><td> 0.61873382</td><td> 0.6919917</td><td> 0.6324307</td><td> 0.64071570</td></tr>\n",
       "\t<tr><th scope=row>ENSG00000006071.12</th><td>-0.00165592</td><td> 0.1775418</td><td> 0.58080485</td><td> 0.9150846</td><td> 0.4936653</td><td> 0.80700964</td></tr>\n",
       "</tbody>\n",
       "</table>\n"
      ],
      "text/latex": [
       "A matrix: 6 × 6 of type dbl\n",
       "\\begin{tabular}{r|llllll}\n",
       "\tENSG00000002586.18 & -0.28348849 & -0.2795714 & -0.75170920 & -0.2680308 & -0.3710694 & -0.45100545\\\\\n",
       "\tENSG00000004848.7 & -0.26433366 &  0.6620412 &  0.41325271 &  0.2847709 & -0.2384628 &  0.03271218\\\\\n",
       "\tENSG00000005001.9 &  0.63913862 &  0.1787388 & -0.05246823 &  0.2144861 &  0.2686155 & -0.07994948\\\\\n",
       "\tENSG00000005073.5 &  0.18756857 &  2.3356173 & -0.32666910 & -0.3483015 & -0.2967322 & -0.08725601\\\\\n",
       "\tENSG00000005889.15 &  0.52299969 &  0.5376454 &  0.61873382 &  0.6919917 &  0.6324307 &  0.64071570\\\\\n",
       "\tENSG00000006071.12 & -0.00165592 &  0.1775418 &  0.58080485 &  0.9150846 &  0.4936653 &  0.80700964\\\\\n",
       "\\end{tabular}\n"
      ],
      "text/markdown": [
       "\n",
       "A matrix: 6 × 6 of type dbl\n",
       "\n",
       "| ENSG00000002586.18 | -0.28348849 | -0.2795714 | -0.75170920 | -0.2680308 | -0.3710694 | -0.45100545 |\n",
       "| ENSG00000004848.7 | -0.26433366 |  0.6620412 |  0.41325271 |  0.2847709 | -0.2384628 |  0.03271218 |\n",
       "| ENSG00000005001.9 |  0.63913862 |  0.1787388 | -0.05246823 |  0.2144861 |  0.2686155 | -0.07994948 |\n",
       "| ENSG00000005073.5 |  0.18756857 |  2.3356173 | -0.32666910 | -0.3483015 | -0.2967322 | -0.08725601 |\n",
       "| ENSG00000005889.15 |  0.52299969 |  0.5376454 |  0.61873382 |  0.6919917 |  0.6324307 |  0.64071570 |\n",
       "| ENSG00000006071.12 | -0.00165592 |  0.1775418 |  0.58080485 |  0.9150846 |  0.4936653 |  0.80700964 |\n",
       "\n"
      ],
      "text/plain": [
       "                   [,1]        [,2]       [,3]        [,4]       [,5]      \n",
       "ENSG00000002586.18 -0.28348849 -0.2795714 -0.75170920 -0.2680308 -0.3710694\n",
       "ENSG00000004848.7  -0.26433366  0.6620412  0.41325271  0.2847709 -0.2384628\n",
       "ENSG00000005001.9   0.63913862  0.1787388 -0.05246823  0.2144861  0.2686155\n",
       "ENSG00000005073.5   0.18756857  2.3356173 -0.32666910 -0.3483015 -0.2967322\n",
       "ENSG00000005889.15  0.52299969  0.5376454  0.61873382  0.6919917  0.6324307\n",
       "ENSG00000006071.12 -0.00165592  0.1775418  0.58080485  0.9150846  0.4936653\n",
       "                   [,6]       \n",
       "ENSG00000002586.18 -0.45100545\n",
       "ENSG00000004848.7   0.03271218\n",
       "ENSG00000005001.9  -0.07994948\n",
       "ENSG00000005073.5  -0.08725601\n",
       "ENSG00000005889.15  0.64071570\n",
       "ENSG00000006071.12  0.80700964"
      ]
     },
     "metadata": {},
     "output_type": "display_data"
    }
   ],
   "source": [
    "#  remove the cells in the matrix that are <= abs(log2(1.5))\n",
    "#   preserving only the values that are FC > 1.5\n",
    "#   and adj.P.Val < 0.05 (from a separate but coordinated matrix)\n",
    "logFC_ct <- rowSums(abs(logFC_mat) >= log2(1.5))\n",
    "pVal_ct  <- rowSums(pVal_mat <= 0.05)\n",
    "\n",
    "logFC_pass <- logFC_ct>1\n",
    "table(logFC_pass)\n",
    "pVal_pass  <-  pVal_ct>1\n",
    "table(pVal_pass)\n",
    "\n",
    "logFC_pVal_pass <- logFC_ct & pVal_ct\n",
    "table(logFC_pVal_pass)\n",
    "\n",
    "id <- logFC_pVal_pass\n",
    "\n",
    "logFC_gt_1.5 <- logFC_mat[id,]\n",
    "\n",
    "dim(logFC_gt_1.5)\n",
    "head(logFC_gt_1.5)"
   ]
  },
  {
   "cell_type": "code",
   "execution_count": 37,
   "metadata": {},
   "outputs": [
    {
     "data": {
      "image/png": "[encoded data removed]",
      "text/plain": [
       "plot without title"
      ]
     },
     "metadata": {
      "image/png": {
       "height": 420,
       "width": 420
      },
      "text/plain": {
       "height": 420,
       "width": 420
      }
     },
     "output_type": "display_data"
    }
   ],
   "source": [
    "# dist_mat all values logFC_mat\n",
    "dist_mat <- as.matrix(cor(logFC_mat))\n",
    "pheatmap(as.matrix(dist_mat), clustering_distance_rows = \"correlation\", clustering_distance_cols = \"correlation\", fontsize = 6)\n",
    "hm.parameters <- list(dist_mat, fontsize = 6)\n",
    "do.call(\"pheatmap\", c(hm.parameters,  filename=\"../pdf/FigureGenesHeatmapAlllogFC.pdf\"))\n",
    "\n",
    "# dist_mat all values with logFC_mat normalizeQuantiles \n",
    "logFC_mat_NQ <- normalizeQuantiles(logFC_mat)\n",
    "dist_mat <- as.matrix(cor(logFC_mat_NQ))\n",
    "pheatmap(as.matrix(dist_mat), clustering_distance_rows = \"correlation\", clustering_distance_cols = \"correlation\", fontsize = 6)\n",
    "hm.parameters <- list(dist_mat, fontsize = 6)\n",
    "do.call(\"pheatmap\", c(hm.parameters,  filename=\"../pdf/FigureGenesHeatmapAlllogFC_NQ.pdf\"))\n",
    "\n",
    "# dist_mat all values with logFC_mat_gt_1.5 \n",
    "dist_mat <- as.matrix(cor(logFC_gt_1.5))\n",
    "pheatmap(as.matrix(dist_mat), clustering_distance_rows = \"correlation\", clustering_distance_cols = \"correlation\", fontsize = 6)\n",
    "hm.parameters <- list(dist_mat, fontsize = 6)\n",
    "do.call(\"pheatmap\", c(hm.parameters,  filename=\"../pdf/FigureGenesHeatmapAlllogFC_gt_1.5.pdf\"))\n",
    "\n",
    "# dist_mat all values with logFC_gt_1.5_mat normalizeQuantiles \n",
    "logFC_mat_gt_1.5_NQ <- normalizeQuantiles(logFC_gt_1.5)\n",
    "dist_mat <- as.matrix(cor(logFC_mat_gt_1.5_NQ))\n",
    "pheatmap(as.matrix(dist_mat), clustering_distance_rows = \"correlation\", clustering_distance_cols = \"correlation\", fontsize = 6)\n",
    "hm.parameters <- list(dist_mat, fontsize = 6)\n",
    "do.call(\"pheatmap\", c(hm.parameters,  filename=\"../pdf/FigureGenesHeatmapAlllogFC_gt_1.5NQ.pdf\"))\n"
   ]
  },
  {
   "cell_type": "code",
   "execution_count": 38,
   "metadata": {},
   "outputs": [
    {
     "name": "stderr",
     "output_type": "stream",
     "text": [
      "Saving dist_mat object\n",
      "\n",
      "Done!\n",
      "\n"
     ]
    }
   ],
   "source": [
    "rownames(dist_mat) <- colnames(logFC_mat_gt_1.5_NQ)\n",
    "colnames(dist_mat) <- colnames(logFC_mat_gt_1.5_NQ)\n",
    "\n",
    "message(\"Saving dist_mat object\")\n",
    "saveRDS(object = dist_mat, file = \"../data/dist_mat.rds\")\n",
    "message(\"Done!\")"
   ]
  },
  {
   "cell_type": "markdown",
   "metadata": {},
   "source": [
    "## Generate panel 1c\n",
    "A `heatplot` representing similarity in the fold-changes between male and female samples, \n",
    "with the values in the heatmap being the correlation between the vectors of fold changes of the tissues. </b>"
   ]
  },
  {
   "cell_type": "code",
   "execution_count": 39,
   "metadata": {},
   "outputs": [
    {
     "data": {
      "image/png": "[encoded data removed]",
      "text/plain": [
       "plot without title"
      ]
     },
     "metadata": {
      "image/png": {
       "height": 420,
       "width": 420
      },
      "text/plain": {
       "height": 420,
       "width": 420
      }
     },
     "output_type": "display_data"
    }
   ],
   "source": [
    "library(pheatmap)\n",
    "\n",
    "pheatmap(as.matrix(dist_mat), clustering_distance_rows = \"correlation\", clustering_distance_cols = \"correlation\", fontsize = 6)\n",
    "hm.parameters <- list(dist_mat, fontsize = 6)\n",
    "do.call(\"pheatmap\", c(hm.parameters,  filename=\"../pdf/Figure1c.pdf\"))"
   ]
  },
  {
   "cell_type": "markdown",
   "metadata": {},
   "source": [
    "# Figure 1e - Number of sex-biased AS events per tissue type."
   ]
  },
  {
   "cell_type": "code",
   "execution_count": 38,
   "metadata": {},
   "outputs": [
    {
     "name": "stderr",
     "output_type": "stream",
     "text": [
      "\n",
      "match to display name\n",
      "Breast\n",
      "\n",
      "match to display name\n",
      "Nucleus accumbens\n",
      "\n",
      "match to display name\n",
      "Esophagus (mu)\n",
      "\n",
      "match to display name\n",
      "Aorta\n",
      "\n",
      "match to display name\n",
      "Fibroblasts\n",
      "\n",
      "match to display name\n",
      "Thyroid\n",
      "\n",
      "match to display name\n",
      "Pituitary\n",
      "\n",
      "match to display name\n",
      "Adipose (sc)\n",
      "\n",
      "match to display name\n",
      "Spleen\n",
      "\n",
      "match to display name\n",
      "Skeletal muscle\n",
      "\n",
      "match to display name\n",
      "Skin (exposed)\n",
      "\n",
      "match to display name\n",
      "Adrenal gland\n",
      "\n",
      "match to display name\n",
      "Adipose (v)\n",
      "\n",
      "match to display name\n",
      "Hippocampus\n",
      "\n",
      "match to display name\n",
      "EBV-lymphocytes\n",
      "\n",
      "match to display name\n",
      "Tibial artery\n",
      "\n",
      "match to display name\n",
      "Cerebellum\n",
      "\n",
      "match to display name\n",
      "Liver\n",
      "\n",
      "match to display name\n",
      "Esophagus (gej)\n",
      "\n",
      "match to display name\n",
      "Atrial appendage\n",
      "\n",
      "match to display name\n",
      "Esophagus (m)\n",
      "\n",
      "match to display name\n",
      "Pancreas\n",
      "\n",
      "match to display name\n",
      "Skin (not exposed)\n",
      "\n",
      "match to display name\n",
      "Cortex\n",
      "\n",
      "match to display name\n",
      "Spinal cord\n",
      "\n",
      "match to display name\n",
      "Lung\n",
      "\n",
      "match to display name\n",
      "Coronary artery\n",
      "\n",
      "match to display name\n",
      "Tibial nerve\n",
      "\n",
      "match to display name\n",
      "Stomach\n",
      "\n",
      "match to display name\n",
      "Left ventricle\n",
      "\n",
      "match to display name\n",
      "Hypothalamus\n",
      "\n",
      "match to display name\n",
      "Caudate\n",
      "\n",
      "match to display name\n",
      "Transverse colon\n",
      "\n",
      "match to display name\n",
      "Small intestine\n",
      "\n",
      "match to display name\n",
      "Whole blood\n",
      "\n",
      "match to display name\n",
      "Cerebellar hemisphere\n",
      "\n",
      "match to display name\n",
      "Putamen\n",
      "\n",
      "match to display name\n",
      "Sigmoid colon\n",
      "\n",
      "match to display name\n",
      "Frontal cortex\n"
     ]
    },
    {
     "data": {
      "text/html": [
       "<style>\n",
       ".list-inline {list-style: none; margin:0; padding: 0}\n",
       ".list-inline>li {display: inline-block}\n",
       ".list-inline>li:not(:last-child)::after {content: \"\\00b7\"; padding: 0 .5ex}\n",
       "</style>\n",
       "<ol class=list-inline><li>'Frontal cortex'</li><li>'Sigmoid colon'</li><li>'Cerebellar hemisphere'</li><li>'Putamen'</li><li>'Whole blood'</li><li>'Transverse colon'</li><li>'Small intestine'</li><li>'Caudate'</li><li>'Hypothalamus'</li><li>'Left ventricle'</li><li>'Stomach'</li><li>'Tibial nerve'</li><li>'Coronary artery'</li><li>'Spinal cord'</li><li>'Lung'</li><li>'Cortex'</li><li>'Esophagus (m)'</li><li>'Pancreas'</li><li>'Skin (not exposed)'</li><li>'Atrial appendage'</li><li>'Esophagus (gej)'</li><li>'Cerebellum'</li><li>'Liver'</li><li>'Tibial artery'</li><li>'EBV-lymphocytes'</li><li>'Hippocampus'</li><li>'Adipose (v)'</li><li>'Adrenal gland'</li><li>'Skin (exposed)'</li><li>'Skeletal muscle'</li><li>'Adipose (sc)'</li><li>'Spleen'</li><li>'Pituitary'</li><li>'Thyroid'</li><li>'Fibroblasts'</li><li>'Aorta'</li><li>'Esophagus (mu)'</li><li>'Nucleus accumbens'</li><li>'Breast'</li></ol>\n"
      ],
      "text/latex": [
       "\\begin{enumerate*}\n",
       "\\item 'Frontal cortex'\n",
       "\\item 'Sigmoid colon'\n",
       "\\item 'Cerebellar hemisphere'\n",
       "\\item 'Putamen'\n",
       "\\item 'Whole blood'\n",
       "\\item 'Transverse colon'\n",
       "\\item 'Small intestine'\n",
       "\\item 'Caudate'\n",
       "\\item 'Hypothalamus'\n",
       "\\item 'Left ventricle'\n",
       "\\item 'Stomach'\n",
       "\\item 'Tibial nerve'\n",
       "\\item 'Coronary artery'\n",
       "\\item 'Spinal cord'\n",
       "\\item 'Lung'\n",
       "\\item 'Cortex'\n",
       "\\item 'Esophagus (m)'\n",
       "\\item 'Pancreas'\n",
       "\\item 'Skin (not exposed)'\n",
       "\\item 'Atrial appendage'\n",
       "\\item 'Esophagus (gej)'\n",
       "\\item 'Cerebellum'\n",
       "\\item 'Liver'\n",
       "\\item 'Tibial artery'\n",
       "\\item 'EBV-lymphocytes'\n",
       "\\item 'Hippocampus'\n",
       "\\item 'Adipose (v)'\n",
       "\\item 'Adrenal gland'\n",
       "\\item 'Skin (exposed)'\n",
       "\\item 'Skeletal muscle'\n",
       "\\item 'Adipose (sc)'\n",
       "\\item 'Spleen'\n",
       "\\item 'Pituitary'\n",
       "\\item 'Thyroid'\n",
       "\\item 'Fibroblasts'\n",
       "\\item 'Aorta'\n",
       "\\item 'Esophagus (mu)'\n",
       "\\item 'Nucleus accumbens'\n",
       "\\item 'Breast'\n",
       "\\end{enumerate*}\n"
      ],
      "text/markdown": [
       "1. 'Frontal cortex'\n",
       "2. 'Sigmoid colon'\n",
       "3. 'Cerebellar hemisphere'\n",
       "4. 'Putamen'\n",
       "5. 'Whole blood'\n",
       "6. 'Transverse colon'\n",
       "7. 'Small intestine'\n",
       "8. 'Caudate'\n",
       "9. 'Hypothalamus'\n",
       "10. 'Left ventricle'\n",
       "11. 'Stomach'\n",
       "12. 'Tibial nerve'\n",
       "13. 'Coronary artery'\n",
       "14. 'Spinal cord'\n",
       "15. 'Lung'\n",
       "16. 'Cortex'\n",
       "17. 'Esophagus (m)'\n",
       "18. 'Pancreas'\n",
       "19. 'Skin (not exposed)'\n",
       "20. 'Atrial appendage'\n",
       "21. 'Esophagus (gej)'\n",
       "22. 'Cerebellum'\n",
       "23. 'Liver'\n",
       "24. 'Tibial artery'\n",
       "25. 'EBV-lymphocytes'\n",
       "26. 'Hippocampus'\n",
       "27. 'Adipose (v)'\n",
       "28. 'Adrenal gland'\n",
       "29. 'Skin (exposed)'\n",
       "30. 'Skeletal muscle'\n",
       "31. 'Adipose (sc)'\n",
       "32. 'Spleen'\n",
       "33. 'Pituitary'\n",
       "34. 'Thyroid'\n",
       "35. 'Fibroblasts'\n",
       "36. 'Aorta'\n",
       "37. 'Esophagus (mu)'\n",
       "38. 'Nucleus accumbens'\n",
       "39. 'Breast'\n",
       "\n",
       "\n"
      ],
      "text/plain": [
       " [1] \"Frontal cortex\"        \"Sigmoid colon\"         \"Cerebellar hemisphere\"\n",
       " [4] \"Putamen\"               \"Whole blood\"           \"Transverse colon\"     \n",
       " [7] \"Small intestine\"       \"Caudate\"               \"Hypothalamus\"         \n",
       "[10] \"Left ventricle\"        \"Stomach\"               \"Tibial nerve\"         \n",
       "[13] \"Coronary artery\"       \"Spinal cord\"           \"Lung\"                 \n",
       "[16] \"Cortex\"                \"Esophagus (m)\"         \"Pancreas\"             \n",
       "[19] \"Skin (not exposed)\"    \"Atrial appendage\"      \"Esophagus (gej)\"      \n",
       "[22] \"Cerebellum\"            \"Liver\"                 \"Tibial artery\"        \n",
       "[25] \"EBV-lymphocytes\"       \"Hippocampus\"           \"Adipose (v)\"          \n",
       "[28] \"Adrenal gland\"         \"Skin (exposed)\"        \"Skeletal muscle\"      \n",
       "[31] \"Adipose (sc)\"          \"Spleen\"                \"Pituitary\"            \n",
       "[34] \"Thyroid\"               \"Fibroblasts\"           \"Aorta\"                \n",
       "[37] \"Esophagus (mu)\"        \"Nucleus accumbens\"     \"Breast\"               "
      ]
     },
     "metadata": {},
     "output_type": "display_data"
    }
   ],
   "source": [
    "rm(totals)\n",
    "totals <- read.table(\"../data/Totals_by_tissue.tsv\", sep = \"\\t\", header = T)\n",
    "totals$Label <- totals$tissue\n",
    "for (i in (1:length(totals[,\"Tissue\"]))) {\n",
    "    id <- as.character(tissue_reduction[,\"SMTSD\"]) %in% as.character(totals[i,\"Tissue\"])\n",
    "    totals[i,\"Label\"] <- tissue_reduction[id,\"display_name\"]\n",
    "    message(\"\\nmatch to display name\\n\",\n",
    "        paste(totals[i,\"Label\"], collapse = \" \"))\n",
    "\n",
    "}\n",
    "\n",
    "colnames(totals) <- c(\"Tissue\", \"Total\",\"Label\")\n",
    "totals_s <- totals %>% arrange(Total)\n",
    "totals_s$Label <- factor(totals_s$Label, levels = totals_s$Label)\n",
    "levels(totals_s$Label)\n"
   ]
  },
  {
   "cell_type": "markdown",
   "metadata": {},
   "source": [
    "### Write the Totals_by_tissue as Totals_by_tissue_annotated.txt\n",
    "\n",
    "The file Totals_by_tissue.tsv was missing the `Label` which here has now been added.\n",
    "write this out and release it for others to use."
   ]
  },
  {
   "cell_type": "code",
   "execution_count": 39,
   "metadata": {},
   "outputs": [],
   "source": [
    "write.table(totals_s, file=\"../data/Totals_by_tissue_annotated.txt\", quote=FALSE, sep = \"\\t\")"
   ]
  },
  {
   "cell_type": "code",
   "execution_count": 40,
   "metadata": {},
   "outputs": [],
   "source": [
    "## Function to get a reverse log10 scale on the x axis\n",
    "reverselog_trans <- function(base = exp(1)) {\n",
    "  trans <- function(x) -log(x, base)\n",
    "  inv <- function(x) base^(-x)\n",
    "  trans_new(paste0(\"reverselog-\", format(base)), trans, inv, \n",
    "            log_breaks(base = base), \n",
    "            domain = c(1e-100, Inf))\n",
    "}\n"
   ]
  },
  {
   "cell_type": "code",
   "execution_count": 41,
   "metadata": {},
   "outputs": [
    {
     "data": {
      "image/png": "[encoded data removed]",
      "text/plain": [
       "plot without title"
      ]
     },
     "metadata": {},
     "output_type": "display_data"
    }
   ],
   "source": [
    "g<-ggplot(totals_s, aes(y = Label, x = Total, size = Total)) +\n",
    "  geom_point(color = \"red\") +\n",
    "  theme_bw() +\n",
    "  scale_x_continuous(trans=reverselog_trans(), breaks=c(1,10,100,1000,5000,10000)) +#breaks=c(10000, 5000,1000,100,10,1)) +\n",
    "  scale_y_discrete(position = \"right\") +\n",
    "  theme(axis.text.x = element_text(size=8, angle = 0, hjust = 0.0, vjust = 0.5),\n",
    "        axis.text.y = element_text(size=8),\n",
    "        axis.title.x = element_text(face=\"plain\", colour=\"black\", \n",
    "                                    size=10),\n",
    "        axis.title.y = element_blank(),\n",
    "        legend.title=element_blank(),\n",
    "        legend.text = element_text(face=\"plain\", colour=\"black\", \n",
    "                                   size=8)) +\n",
    "  xlab(paste(\"Number of sex-biased splicing events\")) +\n",
    "  ylab(\"Tissue\") + \n",
    "  guides(size=FALSE)\n",
    "\n",
    "g\n",
    "ggsave(\"../pdf/Figure1d.pdf\",g, height = 4.5, width = 4)"
   ]
  },
  {
   "cell_type": "markdown",
   "metadata": {},
   "source": [
    "# 5 Metadata\n",
    "\n",
    "For replicability and reproducibility purposes, we also print the following metadata:\n",
    "\n",
    "## 5.1. Checksums with the sha256 algorithm\n",
    "1. Checksums of **'artefacts'**, files generated during the analysis and stored in the folder directory **`data`**\n",
    "2. List of environment metadata, dependencies, versions of libraries using `utils::sessionInfo()` and [`devtools::session_info()`](https://devtools.r-lib.org/reference/session_info.html)"
   ]
  },
  {
   "cell_type": "code",
   "execution_count": 42,
   "metadata": {},
   "outputs": [
    {
     "name": "stderr",
     "output_type": "stream",
     "text": [
      "Generating sha256 checksums of the artefacts in the `..data/` directory .. \n"
     ]
    },
    {
     "data": {
      "text/html": [],
      "text/latex": [],
      "text/markdown": [],
      "text/plain": [
       "character(0)"
      ]
     },
     "metadata": {},
     "output_type": "display_data"
    },
    {
     "name": "stderr",
     "output_type": "stream",
     "text": [
      "Done!\n",
      "\n"
     ]
    },
    {
     "data": {
      "text/html": [
       "<table>\n",
       "<caption>A data.table: 3310 × 2</caption>\n",
       "<thead>\n",
       "\t<tr><th scope=col>sha256sum</th><th scope=col>file</th></tr>\n",
       "\t<tr><th scope=col>&lt;chr&gt;</th><th scope=col>&lt;chr&gt;</th></tr>\n",
       "</thead>\n",
       "<tbody>\n",
       "\t<tr><td>a9f73d24aedaa5f79bf5ff4d1f8809aa0ee3843972614b8a0b8cb767a366ccec</td><td>./liver_DGE.csv                                                 </td></tr>\n",
       "\t<tr><td>8cdd37a8d59fad600f71afa6990ecd1f53fe98a42ea30004ba48dcaf671fb72d</td><td>./se_brain_hypothalamus_sjc_sex_universe.txt                    </td></tr>\n",
       "\t<tr><td>e3b0c44298fc1c149afbf4c8996fb92427ae41e4649b934ca495991b7852b855</td><td>./mxe_heart_left_ventricle_sex_as_events_gene_set.txt           </td></tr>\n",
       "\t<tr><td>bf4547760fb590dcb3e2fc283131757c1bdef03a546790a4323b66cd3d9d3021</td><td>./ri_esophagus_muscularis_sex_as_events_universe.txt            </td></tr>\n",
       "\t<tr><td>1d173f6d2b760e64965c458c6bd04a8cb0802b1f0b069cf5d90418aedebe72f7</td><td>./a5ss_thyroid_DGE_sex.csv                                      </td></tr>\n",
       "\t<tr><td>4eaab8f5ac7336054b4362a09c82f670317b842b9f5f352efcf49011b6a5d5c1</td><td>./a3ss_whole_blood_DGE_sex_as_events_refined.csv                </td></tr>\n",
       "\t<tr><td>9efbca6290f52a830d20b3b1e66cfba5178cab25fe5e7f0ab08b724eba48c6e6</td><td>./se_muscle_skeletal_sex_gene_set.txt                           </td></tr>\n",
       "\t<tr><td>ce7cfd476dd881cf8997118dad34565685a9db56c24aa3896a840b054d5383e5</td><td>./a5ss_brain_spinal_cord_cervical_c_1_DGE_sjc_sex_refined.csv   </td></tr>\n",
       "\t<tr><td>784fc6ad657b4eddda9d28fb15cfcb35b5fb87bf315cddf0b9897a92d4c287a0</td><td>./a5ss_small_intestine_terminal_ileum_ijc_sex_universe.txt      </td></tr>\n",
       "\t<tr><td>027e7b62067f6525e5a4eaf57fcb476b1eafbfac7a9f0c55cf335c9ed6fb41d6</td><td>./a3ss_pituitary_ijc_sex_gene_set.txt                           </td></tr>\n",
       "\t<tr><td>1c327f266fc08c4bd66a35e88c44b056fa070e41a0233a41b9269204e29c4565</td><td>./ri_whole_blood_ijc_sex_universe.txt                           </td></tr>\n",
       "\t<tr><td>caba0c1037d9214cc6cc28afed0cdf6da5c51c6bb09ed7d21e4c49c26d8e945e</td><td>./a3ss_skin_not_sun_exposed_suprapubic_sjc_sex_gene_set.txt     </td></tr>\n",
       "\t<tr><td>e3b0c44298fc1c149afbf4c8996fb92427ae41e4649b934ca495991b7852b855</td><td>./a5ss_brain_spinal_cord_cervical_c_1_sex_as_events_gene_set.txt</td></tr>\n",
       "\t<tr><td>76ae590aacf9a34ae899000a870860a85d656422fdb55d0fcc844baead70ac11</td><td>./a3ss_stomach_DGE_sjc_sex_refined.csv                          </td></tr>\n",
       "\t<tr><td>c5f99a5877e3a637285df29869cc5cdc5a429bd5b2933adb583f183672131f8b</td><td>./a3ss_brain_cerebellum_ijc_sex_gene_set.txt                    </td></tr>\n",
       "\t<tr><td>935cd4c97f0bacdc35ea3ce40ea16b27b78c02dbbebe12d93f66f51385343e42</td><td>./esophagus_muscularis_DGE.csv                                  </td></tr>\n",
       "\t<tr><td>d9687683e53106bfa10da2be79f80f46f1180df75844d67c864f41cc939d0a06</td><td>./mxe_esophagus_muscularis_DGE_sex_as_events_refined.csv        </td></tr>\n",
       "\t<tr><td>d37164d1ca5c8a8a0f93c49291823b311a387160be3e50ec1b5af10c3c0cd269</td><td>./a5ss_whole_blood_DGE_ijc_sex_refined.csv                      </td></tr>\n",
       "\t<tr><td>0a601ce35c051fd4af112ed7aed89bdfe05929c9f92c89aa2756a8ab3a59a96a</td><td>./mxe_colon_transverse_DGE_sex_refined.csv                      </td></tr>\n",
       "\t<tr><td>ac4a6b01fa6514baa5a93e0207ee7f5159678d3548ce15e3e636d10c155a2332</td><td>./a3ss_adrenal_gland_DGE_sex_refined.csv                        </td></tr>\n",
       "\t<tr><td>a263070ab088392154065080dd71ef9c9f7503074d4cb63f0f20d0ee9a302aed</td><td>./a3ss_brain_putamen_basal_ganglia_sjc_sex_gene_set.txt         </td></tr>\n",
       "\t<tr><td>f1768600ee247e1c5558b36e903cc8bc8ee191f86efd09b104220a06765a3288</td><td>./se_brain_hypothalamus_sex_as_events_gene_set.txt              </td></tr>\n",
       "\t<tr><td>151914d3fdd988e954e5aa785587cad2c5e246124cab197e37d14e7da06673e2</td><td>./mxe_brain_hypothalamus_ijc_sex_universe.txt                   </td></tr>\n",
       "\t<tr><td>338209cf2d7c8d0874f42f2e6facadda27599e9bb5ec35719308adf9c2fb342d</td><td>./ri_brain_spinal_cord_cervical_c_1_DGE_ijc_sex.csv             </td></tr>\n",
       "\t<tr><td>cfbf9f051bc9400e070ea3674884e7a380e34668565d572801dbd46d5bed45fc</td><td>./ri_artery_aorta_DGE_sex_refined.csv                           </td></tr>\n",
       "\t<tr><td>bfda37290a5cd5b36a6fa9511c09bb74878406a095600223d1fb7c14b13f295c</td><td>./a5ss_skin_not_sun_exposed_suprapubic_sex_universe.txt         </td></tr>\n",
       "\t<tr><td>01e26bcddec160ff640b05c0f92f63ecb7c1065969f7c12d410fb379122916b0</td><td>./brain_frontal_cortex_ba_9_DGE_ensg_map.csv                    </td></tr>\n",
       "\t<tr><td>1592a18a9bc46d25eee64ad37b9881636ac2533fe1b4d1de6dbefb295f35f6be</td><td>./se_whole_blood_ijc_sex_universe.txt                           </td></tr>\n",
       "\t<tr><td>eda219de784f5a15acab596944846b87ba575b654f53f4c914f3cd8e272ee77c</td><td>./mxe_nerve_tibial_DGE_sex.csv                                  </td></tr>\n",
       "\t<tr><td>51e67235e3a65b6035f4124f564ffbacace31be9a5ccedddf6989d872e268856</td><td>./ri_brain_nucleus_accumbens_basal_ganglia_sjc_sex_universe.txt </td></tr>\n",
       "\t<tr><td>⋮</td><td>⋮</td></tr>\n",
       "\t<tr><td>f1eb807e6664511517e0562fc3b3456bb352378b8b40a626bf10614310f0a384</td><td>./ri_esophagus_muscularis_DGE_ijc_sex.csv                       </td></tr>\n",
       "\t<tr><td>325dbdc3bcef19cd85049606e71a70b2579cd0a754f7fee9c4352aa1c55a4744</td><td>./ri_brain_putamen_basal_ganglia_sex_as_events_universe.txt     </td></tr>\n",
       "\t<tr><td>e3b0c44298fc1c149afbf4c8996fb92427ae41e4649b934ca495991b7852b855</td><td>./ri_brain_caudate_basal_ganglia_sex_as_events_gene_set.txt     </td></tr>\n",
       "\t<tr><td>fda1f0a5cb53ed117e98e1652c0ac3e7f984057df52bd0dcae0fa654987b2faf</td><td>./mxe_stomach_DGE_sex.csv                                       </td></tr>\n",
       "\t<tr><td>9de5b111296b02608e51cab4f73674a34572081036171b184d1365384b857130</td><td>./ri_brain_putamen_basal_ganglia_sex_gene_set.txt               </td></tr>\n",
       "\t<tr><td>099c62adb30fbc537671cedf5b88eedbe770dcece6675116a41b043a9428f026</td><td>./mxe_cells_cultured_fibroblasts_DGE_sex.csv                    </td></tr>\n",
       "\t<tr><td>15ce308b30cbc28feaf1c3bb7cacd2af61d656ec6685cb4939c126d79f6f8594</td><td>./ri_nerve_tibial_DGE_sex_refined.csv                           </td></tr>\n",
       "\t<tr><td>e484dca72fe23c2f3b02a5af4b1ee8cf364e10daf4146b19b7455e0455d3d94a</td><td>./lung_DGE.csv                                                  </td></tr>\n",
       "\t<tr><td>c08df2e591b5ed03468b96ce9a66749f2cb9c4cf558aaf8b2949dee4358389aa</td><td>./se_brain_cerebellum_sex_universe.txt                          </td></tr>\n",
       "\t<tr><td>9a42f31a1a264890c5c3fd5745341321a0fb5233d1de75f81e666262ec569d2c</td><td>./a3ss_stomach_sex_as_events_gene_set.txt                       </td></tr>\n",
       "\t<tr><td>8291be77c7ad6cd73d9f7797658e3f1ffc197532a23385a85911ca4d4db13483</td><td>./SraRunTable.txt.gz                                            </td></tr>\n",
       "\t<tr><td>03837364a26ee0e08496dd0f71f69b1dc1b4d4729a2dc11e0392f56c4abde7d4</td><td>./mxe_brain_cerebellar_hemisphere_DGE_sex_as_events_refined.csv </td></tr>\n",
       "\t<tr><td>3a9241e29f8976d368b2063e7545e79efc8f777671bae0a229dca76a821fbf9e</td><td>./a3ss_brain_cerebellum_DGE_sex_refined.csv                     </td></tr>\n",
       "\t<tr><td>b1388a90eb78ae357c1a2464ca32a42eaa1c3a761f4be4eb15114b62d31e71ea</td><td>./ri_artery_tibial_sex_gene_set.txt                             </td></tr>\n",
       "\t<tr><td>d4390f20574bc4e0d6a3073416368ac7dbe73f8f7d118787cc85cc5371aa5d2b</td><td>./a5ss_skin_sun_exposed_lower_leg_DGE_sex_refined.csv           </td></tr>\n",
       "\t<tr><td>1315bfe317e7af8ddb3f1e43a301cbce6618b8c9b0c60846a3992c1eec60cf96</td><td>./a3ss_brain_putamen_basal_ganglia_DGE_sex_as_events_refined.csv</td></tr>\n",
       "\t<tr><td>c127d4e41152874a234f6d288b05b2f2a709ec1e0cc46d62b58394c67f2852a0</td><td>./se_small_intestine_terminal_ileum_DGE_sex_refined.csv         </td></tr>\n",
       "\t<tr><td>151e1cbf6e576fced03ac3f43beca8dff434f6b193cbb339e7ad95261be3ca95</td><td>./ri_lung_DGE_sex_as_events_refined.csv                         </td></tr>\n",
       "\t<tr><td>610977e4b7284ed95a02efc19a34c7c86865224acd7147219287f4715eda9f5f</td><td>./mxe_artery_aorta_DGE_sex_refined.csv                          </td></tr>\n",
       "\t<tr><td>cc485ed6baa9ecf9f039c15a8e5720a39aa2dbeb7b2abcc18836fe9e0aecba2e</td><td>./se_brain_cerebellar_hemisphere_DGE_sjc_sex_refined.csv        </td></tr>\n",
       "\t<tr><td>ac1e0da09cd02cfec57584106d50bc249d176fada322982912a1fb796ebe87cb</td><td>./mxe_pancreas_DGE_sex.csv                                      </td></tr>\n",
       "\t<tr><td>aa1fa23f51113debcc274663f810b4ca58d617c51388d5a1c508376d1e882f73</td><td>./mxe_cells_cultured_fibroblasts_DGE_ijc_sex_refined.csv        </td></tr>\n",
       "\t<tr><td>d124671da118369ec1641f639ec504cbef43e797a1d681893c7bf7ad672a5163</td><td>./ri_heart_left_ventricle_sjc_sex_gene_set.txt                  </td></tr>\n",
       "\t<tr><td>192509b5a3fb57dae24dbce657419c1a249229e4d52d1e0cffdae779b610760d</td><td>./se_colon_transverse_DGE_sex_as_events.csv                     </td></tr>\n",
       "\t<tr><td>84c7f033f333f8c9cc9b3b1f0efd6aac212ef8eb91fa4fc1b829cdaa9d2aba10</td><td>./mxe_skin_not_sun_exposed_suprapubic_sjc_sex_gene_set.txt      </td></tr>\n",
       "\t<tr><td>43a5eb6e25cade7f43b83c3875e2c5bed179f090b4cef65079e0489538c8b157</td><td>./mxe_brain_putamen_basal_ganglia_DGE_sex_refined.csv           </td></tr>\n",
       "\t<tr><td>128666dd60ce67bc52185fd88ff9588467ea96eb4c6f4d5e2d71429e5f4c3605</td><td>./a3ss_esophagus_mucosa_sex_gene_set.txt                        </td></tr>\n",
       "\t<tr><td>e3b0c44298fc1c149afbf4c8996fb92427ae41e4649b934ca495991b7852b855</td><td>./ri_small_intestine_terminal_ileum_sjc_sex_gene_set.txt        </td></tr>\n",
       "\t<tr><td>ce7cfd476dd881cf8997118dad34565685a9db56c24aa3896a840b054d5383e5</td><td>./mxe_colon_sigmoid_DGE_sex_as_events_refined.csv               </td></tr>\n",
       "\t<tr><td>cf0b5762aadea5bb58188bb166c1687cff0b9bcd1f7b8d47d45e65a0f76de9b0</td><td>./se_brain_caudate_basal_ganglia_DGE_sex.csv                    </td></tr>\n",
       "</tbody>\n",
       "</table>\n"
      ],
      "text/latex": [
       "A data.table: 3310 × 2\n",
       "\\begin{tabular}{ll}\n",
       " sha256sum & file\\\\\n",
       " <chr> & <chr>\\\\\n",
       "\\hline\n",
       "\t a9f73d24aedaa5f79bf5ff4d1f8809aa0ee3843972614b8a0b8cb767a366ccec & ./liver\\_DGE.csv                                                 \\\\\n",
       "\t 8cdd37a8d59fad600f71afa6990ecd1f53fe98a42ea30004ba48dcaf671fb72d & ./se\\_brain\\_hypothalamus\\_sjc\\_sex\\_universe.txt                    \\\\\n",
       "\t e3b0c44298fc1c149afbf4c8996fb92427ae41e4649b934ca495991b7852b855 & ./mxe\\_heart\\_left\\_ventricle\\_sex\\_as\\_events\\_gene\\_set.txt           \\\\\n",
       "\t bf4547760fb590dcb3e2fc283131757c1bdef03a546790a4323b66cd3d9d3021 & ./ri\\_esophagus\\_muscularis\\_sex\\_as\\_events\\_universe.txt            \\\\\n",
       "\t 1d173f6d2b760e64965c458c6bd04a8cb0802b1f0b069cf5d90418aedebe72f7 & ./a5ss\\_thyroid\\_DGE\\_sex.csv                                      \\\\\n",
       "\t 4eaab8f5ac7336054b4362a09c82f670317b842b9f5f352efcf49011b6a5d5c1 & ./a3ss\\_whole\\_blood\\_DGE\\_sex\\_as\\_events\\_refined.csv                \\\\\n",
       "\t 9efbca6290f52a830d20b3b1e66cfba5178cab25fe5e7f0ab08b724eba48c6e6 & ./se\\_muscle\\_skeletal\\_sex\\_gene\\_set.txt                           \\\\\n",
       "\t ce7cfd476dd881cf8997118dad34565685a9db56c24aa3896a840b054d5383e5 & ./a5ss\\_brain\\_spinal\\_cord\\_cervical\\_c\\_1\\_DGE\\_sjc\\_sex\\_refined.csv   \\\\\n",
       "\t 784fc6ad657b4eddda9d28fb15cfcb35b5fb87bf315cddf0b9897a92d4c287a0 & ./a5ss\\_small\\_intestine\\_terminal\\_ileum\\_ijc\\_sex\\_universe.txt      \\\\\n",
       "\t 027e7b62067f6525e5a4eaf57fcb476b1eafbfac7a9f0c55cf335c9ed6fb41d6 & ./a3ss\\_pituitary\\_ijc\\_sex\\_gene\\_set.txt                           \\\\\n",
       "\t 1c327f266fc08c4bd66a35e88c44b056fa070e41a0233a41b9269204e29c4565 & ./ri\\_whole\\_blood\\_ijc\\_sex\\_universe.txt                           \\\\\n",
       "\t caba0c1037d9214cc6cc28afed0cdf6da5c51c6bb09ed7d21e4c49c26d8e945e & ./a3ss\\_skin\\_not\\_sun\\_exposed\\_suprapubic\\_sjc\\_sex\\_gene\\_set.txt     \\\\\n",
       "\t e3b0c44298fc1c149afbf4c8996fb92427ae41e4649b934ca495991b7852b855 & ./a5ss\\_brain\\_spinal\\_cord\\_cervical\\_c\\_1\\_sex\\_as\\_events\\_gene\\_set.txt\\\\\n",
       "\t 76ae590aacf9a34ae899000a870860a85d656422fdb55d0fcc844baead70ac11 & ./a3ss\\_stomach\\_DGE\\_sjc\\_sex\\_refined.csv                          \\\\\n",
       "\t c5f99a5877e3a637285df29869cc5cdc5a429bd5b2933adb583f183672131f8b & ./a3ss\\_brain\\_cerebellum\\_ijc\\_sex\\_gene\\_set.txt                    \\\\\n",
       "\t 935cd4c97f0bacdc35ea3ce40ea16b27b78c02dbbebe12d93f66f51385343e42 & ./esophagus\\_muscularis\\_DGE.csv                                  \\\\\n",
       "\t d9687683e53106bfa10da2be79f80f46f1180df75844d67c864f41cc939d0a06 & ./mxe\\_esophagus\\_muscularis\\_DGE\\_sex\\_as\\_events\\_refined.csv        \\\\\n",
       "\t d37164d1ca5c8a8a0f93c49291823b311a387160be3e50ec1b5af10c3c0cd269 & ./a5ss\\_whole\\_blood\\_DGE\\_ijc\\_sex\\_refined.csv                      \\\\\n",
       "\t 0a601ce35c051fd4af112ed7aed89bdfe05929c9f92c89aa2756a8ab3a59a96a & ./mxe\\_colon\\_transverse\\_DGE\\_sex\\_refined.csv                      \\\\\n",
       "\t ac4a6b01fa6514baa5a93e0207ee7f5159678d3548ce15e3e636d10c155a2332 & ./a3ss\\_adrenal\\_gland\\_DGE\\_sex\\_refined.csv                        \\\\\n",
       "\t a263070ab088392154065080dd71ef9c9f7503074d4cb63f0f20d0ee9a302aed & ./a3ss\\_brain\\_putamen\\_basal\\_ganglia\\_sjc\\_sex\\_gene\\_set.txt         \\\\\n",
       "\t f1768600ee247e1c5558b36e903cc8bc8ee191f86efd09b104220a06765a3288 & ./se\\_brain\\_hypothalamus\\_sex\\_as\\_events\\_gene\\_set.txt              \\\\\n",
       "\t 151914d3fdd988e954e5aa785587cad2c5e246124cab197e37d14e7da06673e2 & ./mxe\\_brain\\_hypothalamus\\_ijc\\_sex\\_universe.txt                   \\\\\n",
       "\t 338209cf2d7c8d0874f42f2e6facadda27599e9bb5ec35719308adf9c2fb342d & ./ri\\_brain\\_spinal\\_cord\\_cervical\\_c\\_1\\_DGE\\_ijc\\_sex.csv             \\\\\n",
       "\t cfbf9f051bc9400e070ea3674884e7a380e34668565d572801dbd46d5bed45fc & ./ri\\_artery\\_aorta\\_DGE\\_sex\\_refined.csv                           \\\\\n",
       "\t bfda37290a5cd5b36a6fa9511c09bb74878406a095600223d1fb7c14b13f295c & ./a5ss\\_skin\\_not\\_sun\\_exposed\\_suprapubic\\_sex\\_universe.txt         \\\\\n",
       "\t 01e26bcddec160ff640b05c0f92f63ecb7c1065969f7c12d410fb379122916b0 & ./brain\\_frontal\\_cortex\\_ba\\_9\\_DGE\\_ensg\\_map.csv                    \\\\\n",
       "\t 1592a18a9bc46d25eee64ad37b9881636ac2533fe1b4d1de6dbefb295f35f6be & ./se\\_whole\\_blood\\_ijc\\_sex\\_universe.txt                           \\\\\n",
       "\t eda219de784f5a15acab596944846b87ba575b654f53f4c914f3cd8e272ee77c & ./mxe\\_nerve\\_tibial\\_DGE\\_sex.csv                                  \\\\\n",
       "\t 51e67235e3a65b6035f4124f564ffbacace31be9a5ccedddf6989d872e268856 & ./ri\\_brain\\_nucleus\\_accumbens\\_basal\\_ganglia\\_sjc\\_sex\\_universe.txt \\\\\n",
       "\t ⋮ & ⋮\\\\\n",
       "\t f1eb807e6664511517e0562fc3b3456bb352378b8b40a626bf10614310f0a384 & ./ri\\_esophagus\\_muscularis\\_DGE\\_ijc\\_sex.csv                       \\\\\n",
       "\t 325dbdc3bcef19cd85049606e71a70b2579cd0a754f7fee9c4352aa1c55a4744 & ./ri\\_brain\\_putamen\\_basal\\_ganglia\\_sex\\_as\\_events\\_universe.txt     \\\\\n",
       "\t e3b0c44298fc1c149afbf4c8996fb92427ae41e4649b934ca495991b7852b855 & ./ri\\_brain\\_caudate\\_basal\\_ganglia\\_sex\\_as\\_events\\_gene\\_set.txt     \\\\\n",
       "\t fda1f0a5cb53ed117e98e1652c0ac3e7f984057df52bd0dcae0fa654987b2faf & ./mxe\\_stomach\\_DGE\\_sex.csv                                       \\\\\n",
       "\t 9de5b111296b02608e51cab4f73674a34572081036171b184d1365384b857130 & ./ri\\_brain\\_putamen\\_basal\\_ganglia\\_sex\\_gene\\_set.txt               \\\\\n",
       "\t 099c62adb30fbc537671cedf5b88eedbe770dcece6675116a41b043a9428f026 & ./mxe\\_cells\\_cultured\\_fibroblasts\\_DGE\\_sex.csv                    \\\\\n",
       "\t 15ce308b30cbc28feaf1c3bb7cacd2af61d656ec6685cb4939c126d79f6f8594 & ./ri\\_nerve\\_tibial\\_DGE\\_sex\\_refined.csv                           \\\\\n",
       "\t e484dca72fe23c2f3b02a5af4b1ee8cf364e10daf4146b19b7455e0455d3d94a & ./lung\\_DGE.csv                                                  \\\\\n",
       "\t c08df2e591b5ed03468b96ce9a66749f2cb9c4cf558aaf8b2949dee4358389aa & ./se\\_brain\\_cerebellum\\_sex\\_universe.txt                          \\\\\n",
       "\t 9a42f31a1a264890c5c3fd5745341321a0fb5233d1de75f81e666262ec569d2c & ./a3ss\\_stomach\\_sex\\_as\\_events\\_gene\\_set.txt                       \\\\\n",
       "\t 8291be77c7ad6cd73d9f7797658e3f1ffc197532a23385a85911ca4d4db13483 & ./SraRunTable.txt.gz                                            \\\\\n",
       "\t 03837364a26ee0e08496dd0f71f69b1dc1b4d4729a2dc11e0392f56c4abde7d4 & ./mxe\\_brain\\_cerebellar\\_hemisphere\\_DGE\\_sex\\_as\\_events\\_refined.csv \\\\\n",
       "\t 3a9241e29f8976d368b2063e7545e79efc8f777671bae0a229dca76a821fbf9e & ./a3ss\\_brain\\_cerebellum\\_DGE\\_sex\\_refined.csv                     \\\\\n",
       "\t b1388a90eb78ae357c1a2464ca32a42eaa1c3a761f4be4eb15114b62d31e71ea & ./ri\\_artery\\_tibial\\_sex\\_gene\\_set.txt                             \\\\\n",
       "\t d4390f20574bc4e0d6a3073416368ac7dbe73f8f7d118787cc85cc5371aa5d2b & ./a5ss\\_skin\\_sun\\_exposed\\_lower\\_leg\\_DGE\\_sex\\_refined.csv           \\\\\n",
       "\t 1315bfe317e7af8ddb3f1e43a301cbce6618b8c9b0c60846a3992c1eec60cf96 & ./a3ss\\_brain\\_putamen\\_basal\\_ganglia\\_DGE\\_sex\\_as\\_events\\_refined.csv\\\\\n",
       "\t c127d4e41152874a234f6d288b05b2f2a709ec1e0cc46d62b58394c67f2852a0 & ./se\\_small\\_intestine\\_terminal\\_ileum\\_DGE\\_sex\\_refined.csv         \\\\\n",
       "\t 151e1cbf6e576fced03ac3f43beca8dff434f6b193cbb339e7ad95261be3ca95 & ./ri\\_lung\\_DGE\\_sex\\_as\\_events\\_refined.csv                         \\\\\n",
       "\t 610977e4b7284ed95a02efc19a34c7c86865224acd7147219287f4715eda9f5f & ./mxe\\_artery\\_aorta\\_DGE\\_sex\\_refined.csv                          \\\\\n",
       "\t cc485ed6baa9ecf9f039c15a8e5720a39aa2dbeb7b2abcc18836fe9e0aecba2e & ./se\\_brain\\_cerebellar\\_hemisphere\\_DGE\\_sjc\\_sex\\_refined.csv        \\\\\n",
       "\t ac1e0da09cd02cfec57584106d50bc249d176fada322982912a1fb796ebe87cb & ./mxe\\_pancreas\\_DGE\\_sex.csv                                      \\\\\n",
       "\t aa1fa23f51113debcc274663f810b4ca58d617c51388d5a1c508376d1e882f73 & ./mxe\\_cells\\_cultured\\_fibroblasts\\_DGE\\_ijc\\_sex\\_refined.csv        \\\\\n",
       "\t d124671da118369ec1641f639ec504cbef43e797a1d681893c7bf7ad672a5163 & ./ri\\_heart\\_left\\_ventricle\\_sjc\\_sex\\_gene\\_set.txt                  \\\\\n",
       "\t 192509b5a3fb57dae24dbce657419c1a249229e4d52d1e0cffdae779b610760d & ./se\\_colon\\_transverse\\_DGE\\_sex\\_as\\_events.csv                     \\\\\n",
       "\t 84c7f033f333f8c9cc9b3b1f0efd6aac212ef8eb91fa4fc1b829cdaa9d2aba10 & ./mxe\\_skin\\_not\\_sun\\_exposed\\_suprapubic\\_sjc\\_sex\\_gene\\_set.txt      \\\\\n",
       "\t 43a5eb6e25cade7f43b83c3875e2c5bed179f090b4cef65079e0489538c8b157 & ./mxe\\_brain\\_putamen\\_basal\\_ganglia\\_DGE\\_sex\\_refined.csv           \\\\\n",
       "\t 128666dd60ce67bc52185fd88ff9588467ea96eb4c6f4d5e2d71429e5f4c3605 & ./a3ss\\_esophagus\\_mucosa\\_sex\\_gene\\_set.txt                        \\\\\n",
       "\t e3b0c44298fc1c149afbf4c8996fb92427ae41e4649b934ca495991b7852b855 & ./ri\\_small\\_intestine\\_terminal\\_ileum\\_sjc\\_sex\\_gene\\_set.txt        \\\\\n",
       "\t ce7cfd476dd881cf8997118dad34565685a9db56c24aa3896a840b054d5383e5 & ./mxe\\_colon\\_sigmoid\\_DGE\\_sex\\_as\\_events\\_refined.csv               \\\\\n",
       "\t cf0b5762aadea5bb58188bb166c1687cff0b9bcd1f7b8d47d45e65a0f76de9b0 & ./se\\_brain\\_caudate\\_basal\\_ganglia\\_DGE\\_sex.csv                    \\\\\n",
       "\\end{tabular}\n"
      ],
      "text/markdown": [
       "\n",
       "A data.table: 3310 × 2\n",
       "\n",
       "| sha256sum &lt;chr&gt; | file &lt;chr&gt; |\n",
       "|---|---|\n",
       "| a9f73d24aedaa5f79bf5ff4d1f8809aa0ee3843972614b8a0b8cb767a366ccec | ./liver_DGE.csv                                                  |\n",
       "| 8cdd37a8d59fad600f71afa6990ecd1f53fe98a42ea30004ba48dcaf671fb72d | ./se_brain_hypothalamus_sjc_sex_universe.txt                     |\n",
       "| e3b0c44298fc1c149afbf4c8996fb92427ae41e4649b934ca495991b7852b855 | ./mxe_heart_left_ventricle_sex_as_events_gene_set.txt            |\n",
       "| bf4547760fb590dcb3e2fc283131757c1bdef03a546790a4323b66cd3d9d3021 | ./ri_esophagus_muscularis_sex_as_events_universe.txt             |\n",
       "| 1d173f6d2b760e64965c458c6bd04a8cb0802b1f0b069cf5d90418aedebe72f7 | ./a5ss_thyroid_DGE_sex.csv                                       |\n",
       "| 4eaab8f5ac7336054b4362a09c82f670317b842b9f5f352efcf49011b6a5d5c1 | ./a3ss_whole_blood_DGE_sex_as_events_refined.csv                 |\n",
       "| 9efbca6290f52a830d20b3b1e66cfba5178cab25fe5e7f0ab08b724eba48c6e6 | ./se_muscle_skeletal_sex_gene_set.txt                            |\n",
       "| ce7cfd476dd881cf8997118dad34565685a9db56c24aa3896a840b054d5383e5 | ./a5ss_brain_spinal_cord_cervical_c_1_DGE_sjc_sex_refined.csv    |\n",
       "| 784fc6ad657b4eddda9d28fb15cfcb35b5fb87bf315cddf0b9897a92d4c287a0 | ./a5ss_small_intestine_terminal_ileum_ijc_sex_universe.txt       |\n",
       "| 027e7b62067f6525e5a4eaf57fcb476b1eafbfac7a9f0c55cf335c9ed6fb41d6 | ./a3ss_pituitary_ijc_sex_gene_set.txt                            |\n",
       "| 1c327f266fc08c4bd66a35e88c44b056fa070e41a0233a41b9269204e29c4565 | ./ri_whole_blood_ijc_sex_universe.txt                            |\n",
       "| caba0c1037d9214cc6cc28afed0cdf6da5c51c6bb09ed7d21e4c49c26d8e945e | ./a3ss_skin_not_sun_exposed_suprapubic_sjc_sex_gene_set.txt      |\n",
       "| e3b0c44298fc1c149afbf4c8996fb92427ae41e4649b934ca495991b7852b855 | ./a5ss_brain_spinal_cord_cervical_c_1_sex_as_events_gene_set.txt |\n",
       "| 76ae590aacf9a34ae899000a870860a85d656422fdb55d0fcc844baead70ac11 | ./a3ss_stomach_DGE_sjc_sex_refined.csv                           |\n",
       "| c5f99a5877e3a637285df29869cc5cdc5a429bd5b2933adb583f183672131f8b | ./a3ss_brain_cerebellum_ijc_sex_gene_set.txt                     |\n",
       "| 935cd4c97f0bacdc35ea3ce40ea16b27b78c02dbbebe12d93f66f51385343e42 | ./esophagus_muscularis_DGE.csv                                   |\n",
       "| d9687683e53106bfa10da2be79f80f46f1180df75844d67c864f41cc939d0a06 | ./mxe_esophagus_muscularis_DGE_sex_as_events_refined.csv         |\n",
       "| d37164d1ca5c8a8a0f93c49291823b311a387160be3e50ec1b5af10c3c0cd269 | ./a5ss_whole_blood_DGE_ijc_sex_refined.csv                       |\n",
       "| 0a601ce35c051fd4af112ed7aed89bdfe05929c9f92c89aa2756a8ab3a59a96a | ./mxe_colon_transverse_DGE_sex_refined.csv                       |\n",
       "| ac4a6b01fa6514baa5a93e0207ee7f5159678d3548ce15e3e636d10c155a2332 | ./a3ss_adrenal_gland_DGE_sex_refined.csv                         |\n",
       "| a263070ab088392154065080dd71ef9c9f7503074d4cb63f0f20d0ee9a302aed | ./a3ss_brain_putamen_basal_ganglia_sjc_sex_gene_set.txt          |\n",
       "| f1768600ee247e1c5558b36e903cc8bc8ee191f86efd09b104220a06765a3288 | ./se_brain_hypothalamus_sex_as_events_gene_set.txt               |\n",
       "| 151914d3fdd988e954e5aa785587cad2c5e246124cab197e37d14e7da06673e2 | ./mxe_brain_hypothalamus_ijc_sex_universe.txt                    |\n",
       "| 338209cf2d7c8d0874f42f2e6facadda27599e9bb5ec35719308adf9c2fb342d | ./ri_brain_spinal_cord_cervical_c_1_DGE_ijc_sex.csv              |\n",
       "| cfbf9f051bc9400e070ea3674884e7a380e34668565d572801dbd46d5bed45fc | ./ri_artery_aorta_DGE_sex_refined.csv                            |\n",
       "| bfda37290a5cd5b36a6fa9511c09bb74878406a095600223d1fb7c14b13f295c | ./a5ss_skin_not_sun_exposed_suprapubic_sex_universe.txt          |\n",
       "| 01e26bcddec160ff640b05c0f92f63ecb7c1065969f7c12d410fb379122916b0 | ./brain_frontal_cortex_ba_9_DGE_ensg_map.csv                     |\n",
       "| 1592a18a9bc46d25eee64ad37b9881636ac2533fe1b4d1de6dbefb295f35f6be | ./se_whole_blood_ijc_sex_universe.txt                            |\n",
       "| eda219de784f5a15acab596944846b87ba575b654f53f4c914f3cd8e272ee77c | ./mxe_nerve_tibial_DGE_sex.csv                                   |\n",
       "| 51e67235e3a65b6035f4124f564ffbacace31be9a5ccedddf6989d872e268856 | ./ri_brain_nucleus_accumbens_basal_ganglia_sjc_sex_universe.txt  |\n",
       "| ⋮ | ⋮ |\n",
       "| f1eb807e6664511517e0562fc3b3456bb352378b8b40a626bf10614310f0a384 | ./ri_esophagus_muscularis_DGE_ijc_sex.csv                        |\n",
       "| 325dbdc3bcef19cd85049606e71a70b2579cd0a754f7fee9c4352aa1c55a4744 | ./ri_brain_putamen_basal_ganglia_sex_as_events_universe.txt      |\n",
       "| e3b0c44298fc1c149afbf4c8996fb92427ae41e4649b934ca495991b7852b855 | ./ri_brain_caudate_basal_ganglia_sex_as_events_gene_set.txt      |\n",
       "| fda1f0a5cb53ed117e98e1652c0ac3e7f984057df52bd0dcae0fa654987b2faf | ./mxe_stomach_DGE_sex.csv                                        |\n",
       "| 9de5b111296b02608e51cab4f73674a34572081036171b184d1365384b857130 | ./ri_brain_putamen_basal_ganglia_sex_gene_set.txt                |\n",
       "| 099c62adb30fbc537671cedf5b88eedbe770dcece6675116a41b043a9428f026 | ./mxe_cells_cultured_fibroblasts_DGE_sex.csv                     |\n",
       "| 15ce308b30cbc28feaf1c3bb7cacd2af61d656ec6685cb4939c126d79f6f8594 | ./ri_nerve_tibial_DGE_sex_refined.csv                            |\n",
       "| e484dca72fe23c2f3b02a5af4b1ee8cf364e10daf4146b19b7455e0455d3d94a | ./lung_DGE.csv                                                   |\n",
       "| c08df2e591b5ed03468b96ce9a66749f2cb9c4cf558aaf8b2949dee4358389aa | ./se_brain_cerebellum_sex_universe.txt                           |\n",
       "| 9a42f31a1a264890c5c3fd5745341321a0fb5233d1de75f81e666262ec569d2c | ./a3ss_stomach_sex_as_events_gene_set.txt                        |\n",
       "| 8291be77c7ad6cd73d9f7797658e3f1ffc197532a23385a85911ca4d4db13483 | ./SraRunTable.txt.gz                                             |\n",
       "| 03837364a26ee0e08496dd0f71f69b1dc1b4d4729a2dc11e0392f56c4abde7d4 | ./mxe_brain_cerebellar_hemisphere_DGE_sex_as_events_refined.csv  |\n",
       "| 3a9241e29f8976d368b2063e7545e79efc8f777671bae0a229dca76a821fbf9e | ./a3ss_brain_cerebellum_DGE_sex_refined.csv                      |\n",
       "| b1388a90eb78ae357c1a2464ca32a42eaa1c3a761f4be4eb15114b62d31e71ea | ./ri_artery_tibial_sex_gene_set.txt                              |\n",
       "| d4390f20574bc4e0d6a3073416368ac7dbe73f8f7d118787cc85cc5371aa5d2b | ./a5ss_skin_sun_exposed_lower_leg_DGE_sex_refined.csv            |\n",
       "| 1315bfe317e7af8ddb3f1e43a301cbce6618b8c9b0c60846a3992c1eec60cf96 | ./a3ss_brain_putamen_basal_ganglia_DGE_sex_as_events_refined.csv |\n",
       "| c127d4e41152874a234f6d288b05b2f2a709ec1e0cc46d62b58394c67f2852a0 | ./se_small_intestine_terminal_ileum_DGE_sex_refined.csv          |\n",
       "| 151e1cbf6e576fced03ac3f43beca8dff434f6b193cbb339e7ad95261be3ca95 | ./ri_lung_DGE_sex_as_events_refined.csv                          |\n",
       "| 610977e4b7284ed95a02efc19a34c7c86865224acd7147219287f4715eda9f5f | ./mxe_artery_aorta_DGE_sex_refined.csv                           |\n",
       "| cc485ed6baa9ecf9f039c15a8e5720a39aa2dbeb7b2abcc18836fe9e0aecba2e | ./se_brain_cerebellar_hemisphere_DGE_sjc_sex_refined.csv         |\n",
       "| ac1e0da09cd02cfec57584106d50bc249d176fada322982912a1fb796ebe87cb | ./mxe_pancreas_DGE_sex.csv                                       |\n",
       "| aa1fa23f51113debcc274663f810b4ca58d617c51388d5a1c508376d1e882f73 | ./mxe_cells_cultured_fibroblasts_DGE_ijc_sex_refined.csv         |\n",
       "| d124671da118369ec1641f639ec504cbef43e797a1d681893c7bf7ad672a5163 | ./ri_heart_left_ventricle_sjc_sex_gene_set.txt                   |\n",
       "| 192509b5a3fb57dae24dbce657419c1a249229e4d52d1e0cffdae779b610760d | ./se_colon_transverse_DGE_sex_as_events.csv                      |\n",
       "| 84c7f033f333f8c9cc9b3b1f0efd6aac212ef8eb91fa4fc1b829cdaa9d2aba10 | ./mxe_skin_not_sun_exposed_suprapubic_sjc_sex_gene_set.txt       |\n",
       "| 43a5eb6e25cade7f43b83c3875e2c5bed179f090b4cef65079e0489538c8b157 | ./mxe_brain_putamen_basal_ganglia_DGE_sex_refined.csv            |\n",
       "| 128666dd60ce67bc52185fd88ff9588467ea96eb4c6f4d5e2d71429e5f4c3605 | ./a3ss_esophagus_mucosa_sex_gene_set.txt                         |\n",
       "| e3b0c44298fc1c149afbf4c8996fb92427ae41e4649b934ca495991b7852b855 | ./ri_small_intestine_terminal_ileum_sjc_sex_gene_set.txt         |\n",
       "| ce7cfd476dd881cf8997118dad34565685a9db56c24aa3896a840b054d5383e5 | ./mxe_colon_sigmoid_DGE_sex_as_events_refined.csv                |\n",
       "| cf0b5762aadea5bb58188bb166c1687cff0b9bcd1f7b8d47d45e65a0f76de9b0 | ./se_brain_caudate_basal_ganglia_DGE_sex.csv                     |\n",
       "\n"
      ],
      "text/plain": [
       "     sha256sum                                                       \n",
       "1    a9f73d24aedaa5f79bf5ff4d1f8809aa0ee3843972614b8a0b8cb767a366ccec\n",
       "2    8cdd37a8d59fad600f71afa6990ecd1f53fe98a42ea30004ba48dcaf671fb72d\n",
       "3    e3b0c44298fc1c149afbf4c8996fb92427ae41e4649b934ca495991b7852b855\n",
       "4    bf4547760fb590dcb3e2fc283131757c1bdef03a546790a4323b66cd3d9d3021\n",
       "5    1d173f6d2b760e64965c458c6bd04a8cb0802b1f0b069cf5d90418aedebe72f7\n",
       "6    4eaab8f5ac7336054b4362a09c82f670317b842b9f5f352efcf49011b6a5d5c1\n",
       "7    9efbca6290f52a830d20b3b1e66cfba5178cab25fe5e7f0ab08b724eba48c6e6\n",
       "8    ce7cfd476dd881cf8997118dad34565685a9db56c24aa3896a840b054d5383e5\n",
       "9    784fc6ad657b4eddda9d28fb15cfcb35b5fb87bf315cddf0b9897a92d4c287a0\n",
       "10   027e7b62067f6525e5a4eaf57fcb476b1eafbfac7a9f0c55cf335c9ed6fb41d6\n",
       "11   1c327f266fc08c4bd66a35e88c44b056fa070e41a0233a41b9269204e29c4565\n",
       "12   caba0c1037d9214cc6cc28afed0cdf6da5c51c6bb09ed7d21e4c49c26d8e945e\n",
       "13   e3b0c44298fc1c149afbf4c8996fb92427ae41e4649b934ca495991b7852b855\n",
       "14   76ae590aacf9a34ae899000a870860a85d656422fdb55d0fcc844baead70ac11\n",
       "15   c5f99a5877e3a637285df29869cc5cdc5a429bd5b2933adb583f183672131f8b\n",
       "16   935cd4c97f0bacdc35ea3ce40ea16b27b78c02dbbebe12d93f66f51385343e42\n",
       "17   d9687683e53106bfa10da2be79f80f46f1180df75844d67c864f41cc939d0a06\n",
       "18   d37164d1ca5c8a8a0f93c49291823b311a387160be3e50ec1b5af10c3c0cd269\n",
       "19   0a601ce35c051fd4af112ed7aed89bdfe05929c9f92c89aa2756a8ab3a59a96a\n",
       "20   ac4a6b01fa6514baa5a93e0207ee7f5159678d3548ce15e3e636d10c155a2332\n",
       "21   a263070ab088392154065080dd71ef9c9f7503074d4cb63f0f20d0ee9a302aed\n",
       "22   f1768600ee247e1c5558b36e903cc8bc8ee191f86efd09b104220a06765a3288\n",
       "23   151914d3fdd988e954e5aa785587cad2c5e246124cab197e37d14e7da06673e2\n",
       "24   338209cf2d7c8d0874f42f2e6facadda27599e9bb5ec35719308adf9c2fb342d\n",
       "25   cfbf9f051bc9400e070ea3674884e7a380e34668565d572801dbd46d5bed45fc\n",
       "26   bfda37290a5cd5b36a6fa9511c09bb74878406a095600223d1fb7c14b13f295c\n",
       "27   01e26bcddec160ff640b05c0f92f63ecb7c1065969f7c12d410fb379122916b0\n",
       "28   1592a18a9bc46d25eee64ad37b9881636ac2533fe1b4d1de6dbefb295f35f6be\n",
       "29   eda219de784f5a15acab596944846b87ba575b654f53f4c914f3cd8e272ee77c\n",
       "30   51e67235e3a65b6035f4124f564ffbacace31be9a5ccedddf6989d872e268856\n",
       "⋮    ⋮                                                               \n",
       "3281 f1eb807e6664511517e0562fc3b3456bb352378b8b40a626bf10614310f0a384\n",
       "3282 325dbdc3bcef19cd85049606e71a70b2579cd0a754f7fee9c4352aa1c55a4744\n",
       "3283 e3b0c44298fc1c149afbf4c8996fb92427ae41e4649b934ca495991b7852b855\n",
       "3284 fda1f0a5cb53ed117e98e1652c0ac3e7f984057df52bd0dcae0fa654987b2faf\n",
       "3285 9de5b111296b02608e51cab4f73674a34572081036171b184d1365384b857130\n",
       "3286 099c62adb30fbc537671cedf5b88eedbe770dcece6675116a41b043a9428f026\n",
       "3287 15ce308b30cbc28feaf1c3bb7cacd2af61d656ec6685cb4939c126d79f6f8594\n",
       "3288 e484dca72fe23c2f3b02a5af4b1ee8cf364e10daf4146b19b7455e0455d3d94a\n",
       "3289 c08df2e591b5ed03468b96ce9a66749f2cb9c4cf558aaf8b2949dee4358389aa\n",
       "3290 9a42f31a1a264890c5c3fd5745341321a0fb5233d1de75f81e666262ec569d2c\n",
       "3291 8291be77c7ad6cd73d9f7797658e3f1ffc197532a23385a85911ca4d4db13483\n",
       "3292 03837364a26ee0e08496dd0f71f69b1dc1b4d4729a2dc11e0392f56c4abde7d4\n",
       "3293 3a9241e29f8976d368b2063e7545e79efc8f777671bae0a229dca76a821fbf9e\n",
       "3294 b1388a90eb78ae357c1a2464ca32a42eaa1c3a761f4be4eb15114b62d31e71ea\n",
       "3295 d4390f20574bc4e0d6a3073416368ac7dbe73f8f7d118787cc85cc5371aa5d2b\n",
       "3296 1315bfe317e7af8ddb3f1e43a301cbce6618b8c9b0c60846a3992c1eec60cf96\n",
       "3297 c127d4e41152874a234f6d288b05b2f2a709ec1e0cc46d62b58394c67f2852a0\n",
       "3298 151e1cbf6e576fced03ac3f43beca8dff434f6b193cbb339e7ad95261be3ca95\n",
       "3299 610977e4b7284ed95a02efc19a34c7c86865224acd7147219287f4715eda9f5f\n",
       "3300 cc485ed6baa9ecf9f039c15a8e5720a39aa2dbeb7b2abcc18836fe9e0aecba2e\n",
       "3301 ac1e0da09cd02cfec57584106d50bc249d176fada322982912a1fb796ebe87cb\n",
       "3302 aa1fa23f51113debcc274663f810b4ca58d617c51388d5a1c508376d1e882f73\n",
       "3303 d124671da118369ec1641f639ec504cbef43e797a1d681893c7bf7ad672a5163\n",
       "3304 192509b5a3fb57dae24dbce657419c1a249229e4d52d1e0cffdae779b610760d\n",
       "3305 84c7f033f333f8c9cc9b3b1f0efd6aac212ef8eb91fa4fc1b829cdaa9d2aba10\n",
       "3306 43a5eb6e25cade7f43b83c3875e2c5bed179f090b4cef65079e0489538c8b157\n",
       "3307 128666dd60ce67bc52185fd88ff9588467ea96eb4c6f4d5e2d71429e5f4c3605\n",
       "3308 e3b0c44298fc1c149afbf4c8996fb92427ae41e4649b934ca495991b7852b855\n",
       "3309 ce7cfd476dd881cf8997118dad34565685a9db56c24aa3896a840b054d5383e5\n",
       "3310 cf0b5762aadea5bb58188bb166c1687cff0b9bcd1f7b8d47d45e65a0f76de9b0\n",
       "     file                                                            \n",
       "1    ./liver_DGE.csv                                                 \n",
       "2    ./se_brain_hypothalamus_sjc_sex_universe.txt                    \n",
       "3    ./mxe_heart_left_ventricle_sex_as_events_gene_set.txt           \n",
       "4    ./ri_esophagus_muscularis_sex_as_events_universe.txt            \n",
       "5    ./a5ss_thyroid_DGE_sex.csv                                      \n",
       "6    ./a3ss_whole_blood_DGE_sex_as_events_refined.csv                \n",
       "7    ./se_muscle_skeletal_sex_gene_set.txt                           \n",
       "8    ./a5ss_brain_spinal_cord_cervical_c_1_DGE_sjc_sex_refined.csv   \n",
       "9    ./a5ss_small_intestine_terminal_ileum_ijc_sex_universe.txt      \n",
       "10   ./a3ss_pituitary_ijc_sex_gene_set.txt                           \n",
       "11   ./ri_whole_blood_ijc_sex_universe.txt                           \n",
       "12   ./a3ss_skin_not_sun_exposed_suprapubic_sjc_sex_gene_set.txt     \n",
       "13   ./a5ss_brain_spinal_cord_cervical_c_1_sex_as_events_gene_set.txt\n",
       "14   ./a3ss_stomach_DGE_sjc_sex_refined.csv                          \n",
       "15   ./a3ss_brain_cerebellum_ijc_sex_gene_set.txt                    \n",
       "16   ./esophagus_muscularis_DGE.csv                                  \n",
       "17   ./mxe_esophagus_muscularis_DGE_sex_as_events_refined.csv        \n",
       "18   ./a5ss_whole_blood_DGE_ijc_sex_refined.csv                      \n",
       "19   ./mxe_colon_transverse_DGE_sex_refined.csv                      \n",
       "20   ./a3ss_adrenal_gland_DGE_sex_refined.csv                        \n",
       "21   ./a3ss_brain_putamen_basal_ganglia_sjc_sex_gene_set.txt         \n",
       "22   ./se_brain_hypothalamus_sex_as_events_gene_set.txt              \n",
       "23   ./mxe_brain_hypothalamus_ijc_sex_universe.txt                   \n",
       "24   ./ri_brain_spinal_cord_cervical_c_1_DGE_ijc_sex.csv             \n",
       "25   ./ri_artery_aorta_DGE_sex_refined.csv                           \n",
       "26   ./a5ss_skin_not_sun_exposed_suprapubic_sex_universe.txt         \n",
       "27   ./brain_frontal_cortex_ba_9_DGE_ensg_map.csv                    \n",
       "28   ./se_whole_blood_ijc_sex_universe.txt                           \n",
       "29   ./mxe_nerve_tibial_DGE_sex.csv                                  \n",
       "30   ./ri_brain_nucleus_accumbens_basal_ganglia_sjc_sex_universe.txt \n",
       "⋮    ⋮                                                               \n",
       "3281 ./ri_esophagus_muscularis_DGE_ijc_sex.csv                       \n",
       "3282 ./ri_brain_putamen_basal_ganglia_sex_as_events_universe.txt     \n",
       "3283 ./ri_brain_caudate_basal_ganglia_sex_as_events_gene_set.txt     \n",
       "3284 ./mxe_stomach_DGE_sex.csv                                       \n",
       "3285 ./ri_brain_putamen_basal_ganglia_sex_gene_set.txt               \n",
       "3286 ./mxe_cells_cultured_fibroblasts_DGE_sex.csv                    \n",
       "3287 ./ri_nerve_tibial_DGE_sex_refined.csv                           \n",
       "3288 ./lung_DGE.csv                                                  \n",
       "3289 ./se_brain_cerebellum_sex_universe.txt                          \n",
       "3290 ./a3ss_stomach_sex_as_events_gene_set.txt                       \n",
       "3291 ./SraRunTable.txt.gz                                            \n",
       "3292 ./mxe_brain_cerebellar_hemisphere_DGE_sex_as_events_refined.csv \n",
       "3293 ./a3ss_brain_cerebellum_DGE_sex_refined.csv                     \n",
       "3294 ./ri_artery_tibial_sex_gene_set.txt                             \n",
       "3295 ./a5ss_skin_sun_exposed_lower_leg_DGE_sex_refined.csv           \n",
       "3296 ./a3ss_brain_putamen_basal_ganglia_DGE_sex_as_events_refined.csv\n",
       "3297 ./se_small_intestine_terminal_ileum_DGE_sex_refined.csv         \n",
       "3298 ./ri_lung_DGE_sex_as_events_refined.csv                         \n",
       "3299 ./mxe_artery_aorta_DGE_sex_refined.csv                          \n",
       "3300 ./se_brain_cerebellar_hemisphere_DGE_sjc_sex_refined.csv        \n",
       "3301 ./mxe_pancreas_DGE_sex.csv                                      \n",
       "3302 ./mxe_cells_cultured_fibroblasts_DGE_ijc_sex_refined.csv        \n",
       "3303 ./ri_heart_left_ventricle_sjc_sex_gene_set.txt                  \n",
       "3304 ./se_colon_transverse_DGE_sex_as_events.csv                     \n",
       "3305 ./mxe_skin_not_sun_exposed_suprapubic_sjc_sex_gene_set.txt      \n",
       "3306 ./mxe_brain_putamen_basal_ganglia_DGE_sex_refined.csv           \n",
       "3307 ./a3ss_esophagus_mucosa_sex_gene_set.txt                        \n",
       "3308 ./ri_small_intestine_terminal_ileum_sjc_sex_gene_set.txt        \n",
       "3309 ./mxe_colon_sigmoid_DGE_sex_as_events_refined.csv               \n",
       "3310 ./se_brain_caudate_basal_ganglia_DGE_sex.csv                    "
      ]
     },
     "metadata": {},
     "output_type": "display_data"
    }
   ],
   "source": [
    "figure_id   = \"figure1\"\n",
    "\n",
    "message(\"Generating sha256 checksums of the artefacts in the `..data/` directory .. \")\n",
    "system(paste0(\"cd ../data && find . -type f -exec sha256sum {} \\\\;  >  ../metadata/\", figure_id, \"_sha256sums.txt\"), intern = TRUE)\n",
    "message(\"Done!\\n\")\n",
    "\n",
    "data.table::fread(paste0(\"../metadata/\", figure_id, \"_sha256sums.txt\"), header = FALSE, col.names = c(\"sha256sum\", \"file\"))"
   ]
  },
  {
   "cell_type": "markdown",
   "metadata": {},
   "source": [
    "## 5.2. Library metadata"
   ]
  },
  {
   "cell_type": "code",
   "execution_count": 43,
   "metadata": {},
   "outputs": [
    {
     "name": "stderr",
     "output_type": "stream",
     "text": [
      "Saving `devtools::session_info()` objects in ../metadata/devtools_session_info.rds  ..\n",
      "Done!\n",
      "\n",
      "Saving `utils::sessionInfo()` objects in ../metadata/utils_session_info.rds  ..\n",
      "Done!\n",
      "\n"
     ]
    },
    {
     "data": {
      "text/plain": [
       " setting  value                       \n",
       " version  R version 3.6.1 (2019-07-05)\n",
       " os       Ubuntu 18.04.3 LTS          \n",
       " system   x86_64, linux-gnu           \n",
       " ui       X11                         \n",
       " language en_US.UTF-8                 \n",
       " collate  en_US.UTF-8                 \n",
       " ctype    en_US.UTF-8                 \n",
       " tz       Etc/UTC                     \n",
       " date     2020-06-03                  "
      ]
     },
     "metadata": {},
     "output_type": "display_data"
    },
    {
     "data": {
      "text/html": [
       "<table>\n",
       "<caption>A packages_info: 10 × 11</caption>\n",
       "<thead>\n",
       "\t<tr><th></th><th scope=col>package</th><th scope=col>ondiskversion</th><th scope=col>loadedversion</th><th scope=col>path</th><th scope=col>loadedpath</th><th scope=col>attached</th><th scope=col>is_base</th><th scope=col>date</th><th scope=col>source</th><th scope=col>md5ok</th><th scope=col>library</th></tr>\n",
       "\t<tr><th></th><th scope=col>&lt;chr&gt;</th><th scope=col>&lt;chr&gt;</th><th scope=col>&lt;chr&gt;</th><th scope=col>&lt;chr&gt;</th><th scope=col>&lt;chr&gt;</th><th scope=col>&lt;lgl&gt;</th><th scope=col>&lt;lgl&gt;</th><th scope=col>&lt;chr&gt;</th><th scope=col>&lt;chr&gt;</th><th scope=col>&lt;lgl&gt;</th><th scope=col>&lt;fct&gt;</th></tr>\n",
       "</thead>\n",
       "<tbody>\n",
       "\t<tr><th scope=row>dplyr</th><td>dplyr      </td><td>0.8.4 </td><td>0.8.4 </td><td>/opt/conda/lib/R/library/dplyr      </td><td>/opt/conda/lib/R/library/dplyr      </td><td>TRUE</td><td>FALSE</td><td>2020-01-31</td><td>CRAN (R 3.6.2)</td><td>NA</td><td>/opt/conda/lib/R/library</td></tr>\n",
       "\t<tr><th scope=row>edgeR</th><td>edgeR      </td><td>3.28.1</td><td>3.28.1</td><td>/opt/conda/lib/R/library/edgeR      </td><td>/opt/conda/lib/R/library/edgeR      </td><td>TRUE</td><td>FALSE</td><td>2020-02-26</td><td>Bioconductor  </td><td>NA</td><td>/opt/conda/lib/R/library</td></tr>\n",
       "\t<tr><th scope=row>ggplot2</th><td>ggplot2    </td><td>3.2.1 </td><td>3.2.1 </td><td>/opt/conda/lib/R/library/ggplot2    </td><td>/opt/conda/lib/R/library/ggplot2    </td><td>TRUE</td><td>FALSE</td><td>2019-08-10</td><td>CRAN (R 3.6.1)</td><td>NA</td><td>/opt/conda/lib/R/library</td></tr>\n",
       "\t<tr><th scope=row>limma</th><td>limma      </td><td>3.42.0</td><td>3.42.0</td><td>/opt/conda/lib/R/library/limma      </td><td>/opt/conda/lib/R/library/limma      </td><td>TRUE</td><td>FALSE</td><td>2019-10-29</td><td>Bioconductor  </td><td>NA</td><td>/opt/conda/lib/R/library</td></tr>\n",
       "\t<tr><th scope=row>magrittr</th><td>magrittr   </td><td>1.5   </td><td>1.5   </td><td>/opt/conda/lib/R/library/magrittr   </td><td>/opt/conda/lib/R/library/magrittr   </td><td>TRUE</td><td>FALSE</td><td>2014-11-22</td><td>CRAN (R 3.6.3)</td><td>NA</td><td>/opt/conda/lib/R/library</td></tr>\n",
       "\t<tr><th scope=row>pheatmap</th><td>pheatmap   </td><td>1.0.12</td><td>1.0.12</td><td>/opt/conda/lib/R/library/pheatmap   </td><td>/opt/conda/lib/R/library/pheatmap   </td><td>TRUE</td><td>FALSE</td><td>2019-01-04</td><td>CRAN (R 3.6.1)</td><td>NA</td><td>/opt/conda/lib/R/library</td></tr>\n",
       "\t<tr><th scope=row>scales</th><td>scales     </td><td>1.1.0 </td><td>1.1.0 </td><td>/opt/conda/lib/R/library/scales     </td><td>/opt/conda/lib/R/library/scales     </td><td>TRUE</td><td>FALSE</td><td>2019-11-18</td><td>CRAN (R 3.6.3)</td><td>NA</td><td>/opt/conda/lib/R/library</td></tr>\n",
       "\t<tr><th scope=row>stringr</th><td>stringr    </td><td>1.4.0 </td><td>1.4.0 </td><td>/opt/conda/lib/R/library/stringr    </td><td>/opt/conda/lib/R/library/stringr    </td><td>TRUE</td><td>FALSE</td><td>2019-02-10</td><td>CRAN (R 3.6.3)</td><td>NA</td><td>/opt/conda/lib/R/library</td></tr>\n",
       "\t<tr><th scope=row>viridis</th><td>viridis    </td><td>0.5.1 </td><td>0.5.1 </td><td>/opt/conda/lib/R/library/viridis    </td><td>/opt/conda/lib/R/library/viridis    </td><td>TRUE</td><td>FALSE</td><td>2018-03-29</td><td>CRAN (R 3.6.3)</td><td>NA</td><td>/opt/conda/lib/R/library</td></tr>\n",
       "\t<tr><th scope=row>viridisLite</th><td>viridisLite</td><td>0.3.0 </td><td>0.3.0 </td><td>/opt/conda/lib/R/library/viridisLite</td><td>/opt/conda/lib/R/library/viridisLite</td><td>TRUE</td><td>FALSE</td><td>2018-02-01</td><td>CRAN (R 3.6.3)</td><td>NA</td><td>/opt/conda/lib/R/library</td></tr>\n",
       "</tbody>\n",
       "</table>\n"
      ],
      "text/latex": [
       "A packages\\_info: 10 × 11\n",
       "\\begin{tabular}{r|lllllllllll}\n",
       "  & package & ondiskversion & loadedversion & path & loadedpath & attached & is\\_base & date & source & md5ok & library\\\\\n",
       "  & <chr> & <chr> & <chr> & <chr> & <chr> & <lgl> & <lgl> & <chr> & <chr> & <lgl> & <fct>\\\\\n",
       "\\hline\n",
       "\tdplyr & dplyr       & 0.8.4  & 0.8.4  & /opt/conda/lib/R/library/dplyr       & /opt/conda/lib/R/library/dplyr       & TRUE & FALSE & 2020-01-31 & CRAN (R 3.6.2) & NA & /opt/conda/lib/R/library\\\\\n",
       "\tedgeR & edgeR       & 3.28.1 & 3.28.1 & /opt/conda/lib/R/library/edgeR       & /opt/conda/lib/R/library/edgeR       & TRUE & FALSE & 2020-02-26 & Bioconductor   & NA & /opt/conda/lib/R/library\\\\\n",
       "\tggplot2 & ggplot2     & 3.2.1  & 3.2.1  & /opt/conda/lib/R/library/ggplot2     & /opt/conda/lib/R/library/ggplot2     & TRUE & FALSE & 2019-08-10 & CRAN (R 3.6.1) & NA & /opt/conda/lib/R/library\\\\\n",
       "\tlimma & limma       & 3.42.0 & 3.42.0 & /opt/conda/lib/R/library/limma       & /opt/conda/lib/R/library/limma       & TRUE & FALSE & 2019-10-29 & Bioconductor   & NA & /opt/conda/lib/R/library\\\\\n",
       "\tmagrittr & magrittr    & 1.5    & 1.5    & /opt/conda/lib/R/library/magrittr    & /opt/conda/lib/R/library/magrittr    & TRUE & FALSE & 2014-11-22 & CRAN (R 3.6.3) & NA & /opt/conda/lib/R/library\\\\\n",
       "\tpheatmap & pheatmap    & 1.0.12 & 1.0.12 & /opt/conda/lib/R/library/pheatmap    & /opt/conda/lib/R/library/pheatmap    & TRUE & FALSE & 2019-01-04 & CRAN (R 3.6.1) & NA & /opt/conda/lib/R/library\\\\\n",
       "\tscales & scales      & 1.1.0  & 1.1.0  & /opt/conda/lib/R/library/scales      & /opt/conda/lib/R/library/scales      & TRUE & FALSE & 2019-11-18 & CRAN (R 3.6.3) & NA & /opt/conda/lib/R/library\\\\\n",
       "\tstringr & stringr     & 1.4.0  & 1.4.0  & /opt/conda/lib/R/library/stringr     & /opt/conda/lib/R/library/stringr     & TRUE & FALSE & 2019-02-10 & CRAN (R 3.6.3) & NA & /opt/conda/lib/R/library\\\\\n",
       "\tviridis & viridis     & 0.5.1  & 0.5.1  & /opt/conda/lib/R/library/viridis     & /opt/conda/lib/R/library/viridis     & TRUE & FALSE & 2018-03-29 & CRAN (R 3.6.3) & NA & /opt/conda/lib/R/library\\\\\n",
       "\tviridisLite & viridisLite & 0.3.0  & 0.3.0  & /opt/conda/lib/R/library/viridisLite & /opt/conda/lib/R/library/viridisLite & TRUE & FALSE & 2018-02-01 & CRAN (R 3.6.3) & NA & /opt/conda/lib/R/library\\\\\n",
       "\\end{tabular}\n"
      ],
      "text/markdown": [
       "\n",
       "A packages_info: 10 × 11\n",
       "\n",
       "| <!--/--> | package &lt;chr&gt; | ondiskversion &lt;chr&gt; | loadedversion &lt;chr&gt; | path &lt;chr&gt; | loadedpath &lt;chr&gt; | attached &lt;lgl&gt; | is_base &lt;lgl&gt; | date &lt;chr&gt; | source &lt;chr&gt; | md5ok &lt;lgl&gt; | library &lt;fct&gt; |\n",
       "|---|---|---|---|---|---|---|---|---|---|---|---|\n",
       "| dplyr | dplyr       | 0.8.4  | 0.8.4  | /opt/conda/lib/R/library/dplyr       | /opt/conda/lib/R/library/dplyr       | TRUE | FALSE | 2020-01-31 | CRAN (R 3.6.2) | NA | /opt/conda/lib/R/library |\n",
       "| edgeR | edgeR       | 3.28.1 | 3.28.1 | /opt/conda/lib/R/library/edgeR       | /opt/conda/lib/R/library/edgeR       | TRUE | FALSE | 2020-02-26 | Bioconductor   | NA | /opt/conda/lib/R/library |\n",
       "| ggplot2 | ggplot2     | 3.2.1  | 3.2.1  | /opt/conda/lib/R/library/ggplot2     | /opt/conda/lib/R/library/ggplot2     | TRUE | FALSE | 2019-08-10 | CRAN (R 3.6.1) | NA | /opt/conda/lib/R/library |\n",
       "| limma | limma       | 3.42.0 | 3.42.0 | /opt/conda/lib/R/library/limma       | /opt/conda/lib/R/library/limma       | TRUE | FALSE | 2019-10-29 | Bioconductor   | NA | /opt/conda/lib/R/library |\n",
       "| magrittr | magrittr    | 1.5    | 1.5    | /opt/conda/lib/R/library/magrittr    | /opt/conda/lib/R/library/magrittr    | TRUE | FALSE | 2014-11-22 | CRAN (R 3.6.3) | NA | /opt/conda/lib/R/library |\n",
       "| pheatmap | pheatmap    | 1.0.12 | 1.0.12 | /opt/conda/lib/R/library/pheatmap    | /opt/conda/lib/R/library/pheatmap    | TRUE | FALSE | 2019-01-04 | CRAN (R 3.6.1) | NA | /opt/conda/lib/R/library |\n",
       "| scales | scales      | 1.1.0  | 1.1.0  | /opt/conda/lib/R/library/scales      | /opt/conda/lib/R/library/scales      | TRUE | FALSE | 2019-11-18 | CRAN (R 3.6.3) | NA | /opt/conda/lib/R/library |\n",
       "| stringr | stringr     | 1.4.0  | 1.4.0  | /opt/conda/lib/R/library/stringr     | /opt/conda/lib/R/library/stringr     | TRUE | FALSE | 2019-02-10 | CRAN (R 3.6.3) | NA | /opt/conda/lib/R/library |\n",
       "| viridis | viridis     | 0.5.1  | 0.5.1  | /opt/conda/lib/R/library/viridis     | /opt/conda/lib/R/library/viridis     | TRUE | FALSE | 2018-03-29 | CRAN (R 3.6.3) | NA | /opt/conda/lib/R/library |\n",
       "| viridisLite | viridisLite | 0.3.0  | 0.3.0  | /opt/conda/lib/R/library/viridisLite | /opt/conda/lib/R/library/viridisLite | TRUE | FALSE | 2018-02-01 | CRAN (R 3.6.3) | NA | /opt/conda/lib/R/library |\n",
       "\n"
      ],
      "text/plain": [
       "            package     ondiskversion loadedversion\n",
       "dplyr       dplyr       0.8.4         0.8.4        \n",
       "edgeR       edgeR       3.28.1        3.28.1       \n",
       "ggplot2     ggplot2     3.2.1         3.2.1        \n",
       "limma       limma       3.42.0        3.42.0       \n",
       "magrittr    magrittr    1.5           1.5          \n",
       "pheatmap    pheatmap    1.0.12        1.0.12       \n",
       "scales      scales      1.1.0         1.1.0        \n",
       "stringr     stringr     1.4.0         1.4.0        \n",
       "viridis     viridis     0.5.1         0.5.1        \n",
       "viridisLite viridisLite 0.3.0         0.3.0        \n",
       "            path                                \n",
       "dplyr       /opt/conda/lib/R/library/dplyr      \n",
       "edgeR       /opt/conda/lib/R/library/edgeR      \n",
       "ggplot2     /opt/conda/lib/R/library/ggplot2    \n",
       "limma       /opt/conda/lib/R/library/limma      \n",
       "magrittr    /opt/conda/lib/R/library/magrittr   \n",
       "pheatmap    /opt/conda/lib/R/library/pheatmap   \n",
       "scales      /opt/conda/lib/R/library/scales     \n",
       "stringr     /opt/conda/lib/R/library/stringr    \n",
       "viridis     /opt/conda/lib/R/library/viridis    \n",
       "viridisLite /opt/conda/lib/R/library/viridisLite\n",
       "            loadedpath                           attached is_base date      \n",
       "dplyr       /opt/conda/lib/R/library/dplyr       TRUE     FALSE   2020-01-31\n",
       "edgeR       /opt/conda/lib/R/library/edgeR       TRUE     FALSE   2020-02-26\n",
       "ggplot2     /opt/conda/lib/R/library/ggplot2     TRUE     FALSE   2019-08-10\n",
       "limma       /opt/conda/lib/R/library/limma       TRUE     FALSE   2019-10-29\n",
       "magrittr    /opt/conda/lib/R/library/magrittr    TRUE     FALSE   2014-11-22\n",
       "pheatmap    /opt/conda/lib/R/library/pheatmap    TRUE     FALSE   2019-01-04\n",
       "scales      /opt/conda/lib/R/library/scales      TRUE     FALSE   2019-11-18\n",
       "stringr     /opt/conda/lib/R/library/stringr     TRUE     FALSE   2019-02-10\n",
       "viridis     /opt/conda/lib/R/library/viridis     TRUE     FALSE   2018-03-29\n",
       "viridisLite /opt/conda/lib/R/library/viridisLite TRUE     FALSE   2018-02-01\n",
       "            source         md5ok library                 \n",
       "dplyr       CRAN (R 3.6.2) NA    /opt/conda/lib/R/library\n",
       "edgeR       Bioconductor   NA    /opt/conda/lib/R/library\n",
       "ggplot2     CRAN (R 3.6.1) NA    /opt/conda/lib/R/library\n",
       "limma       Bioconductor   NA    /opt/conda/lib/R/library\n",
       "magrittr    CRAN (R 3.6.3) NA    /opt/conda/lib/R/library\n",
       "pheatmap    CRAN (R 3.6.1) NA    /opt/conda/lib/R/library\n",
       "scales      CRAN (R 3.6.3) NA    /opt/conda/lib/R/library\n",
       "stringr     CRAN (R 3.6.3) NA    /opt/conda/lib/R/library\n",
       "viridis     CRAN (R 3.6.3) NA    /opt/conda/lib/R/library\n",
       "viridisLite CRAN (R 3.6.3) NA    /opt/conda/lib/R/library"
      ]
     },
     "metadata": {},
     "output_type": "display_data"
    }
   ],
   "source": [
    "dev_session_info   <- devtools::session_info()\n",
    "utils_session_info <- utils::sessionInfo()\n",
    "\n",
    "message(\"Saving `devtools::session_info()` objects in ../metadata/devtools_session_info.rds  ..\")\n",
    "saveRDS(dev_session_info, file = paste0(\"../metadata/\", figure_id, \"_devtools_session_info.rds\"))\n",
    "message(\"Done!\\n\")\n",
    "\n",
    "message(\"Saving `utils::sessionInfo()` objects in ../metadata/utils_session_info.rds  ..\")\n",
    "saveRDS(utils_session_info, file = paste0(\"../metadata/\", figure_id ,\"_utils_info.rds\"))\n",
    "message(\"Done!\\n\")\n",
    "\n",
    "dev_session_info$platform\n",
    "dev_session_info$packages[dev_session_info$packages$attached==TRUE, ]"
   ]
  },
  {
   "cell_type": "code",
   "execution_count": null,
   "metadata": {},
   "outputs": [],
   "source": []
  }
 ],
 "metadata": {
  "kernelspec": {
   "display_name": "R",
   "language": "R",
   "name": "ir"
  },
  "language_info": {
   "codemirror_mode": "r",
   "file_extension": ".r",
   "mimetype": "text/x-r-source",
   "name": "R",
   "pygments_lexer": "r",
   "version": "3.6.2"
  }
 },
 "nbformat": 4,
 "nbformat_minor": 4
}
