{
 "cells": [
  {
   "cell_type": "markdown",
   "metadata": {},
   "source": [
    "# **Gene Expression Heatplot**\n",
    "This notebook generates a heat plot representing sex-biased differential gene expression as well as a plot showing the counts of differentially expressed genes per tissue.\n",
    "\n",
    "The values in the heatmap represent the correlation (similarity in the fold-changes) between male and female samples, with the values in the heatmap being the correlation between the vectors of fold changes of the tissues.\n",
    "\n",
    "The assumptions made before rendering the heatmaps \n",
    "1. Get differential gene expression (DGE) files\n",
    "2. Use the ``../assets/tissues.tsv`` to limit the tissues to those with at least 50 samples in each sex (``tissues.tsv`` was produced by a Python script)\n",
    "3. Use the pattern for the differentially expressed genes **\"../data/*DGE.csv\"** to get all the values for the matrix."
   ]
  },
  {
   "cell_type": "markdown",
   "metadata": {},
   "source": [
    "## **Running this notebook**:\n",
    "\n",
    "See the README for setting up prerequisites for the notebook."
   ]
  },
  {
   "cell_type": "markdown",
   "metadata": {},
   "source": [
    "## 1. Setup \n",
    "\n",
    "Assumes the `countGenesAndEvents.ipynb` notebook was run -- unpacking the results from the differential Gene Expression Analysis as run in the `differentialGeneExpressionAnalysis.ipynb` notebook."
   ]
  },
  {
   "cell_type": "code",
   "execution_count": null,
   "metadata": {},
   "outputs": [],
   "source": [
    "suppressWarnings({\n",
    "    defaultW <- getOption(\"warn\")  # suppress warnings for this cell\n",
    "    options(warn = -1) \n",
    "    library(Biobase)\n",
    "    library(pheatmap)\n",
    "    Sys.setenv(TAR = \"/bin/tar\") # for gzfile\n",
    "    options(warn = defaultW)\n",
    "})"
   ]
  },
  {
   "cell_type": "markdown",
   "metadata": {},
   "source": [
    "## 2. Making the matrices"
   ]
  },
  {
   "cell_type": "markdown",
   "metadata": {},
   "source": [
    "### 2.1 Read in all the differential Gene Expression Analysis results"
   ]
  },
  {
   "cell_type": "code",
   "execution_count": null,
   "metadata": {},
   "outputs": [],
   "source": [
    "filenames <- list.files(\"../data\", pattern=\"*_DGE.csv\", all.files=FALSE, full.names=TRUE)\n",
    "message(\"Number of DGE files found with *_DGE.csv pattern: \",length(filenames))"
   ]
  },
  {
   "cell_type": "markdown",
   "metadata": {},
   "source": [
    "### 2.2 read in the curated \"../assets/tissues.tsv\" \n",
    "\n",
    "The **`../assets/tissues.tsv`** file contains an indication to include the tissue if the file has at least **50** samples in that tissue with either **male** or **female** sex reporting"
   ]
  },
  {
   "cell_type": "code",
   "execution_count": null,
   "metadata": {},
   "outputs": [],
   "source": [
    "head(filenames,2)\n",
    "# read in all requirements so that the stage is properly set -- \n",
    "# if it is clear here -- it will remain clear for the rest of the time\n",
    "# tissues.tsv contains the subset of files desired for analysis.\n",
    "tissue_reduction <- read.table(file=\"../assets/tissues.tsv\", header=TRUE, sep=\"\\t\",\n",
    "                               skipNul=FALSE, stringsAsFactors = FALSE)\n",
    "colnames(tissue_reduction)  <- c(\"SMTSD\",\"female\",\"male\",\"include\",\"display_name\")\n",
    "tissue_reduction$SMTSD <- factor(snakecase::to_snake_case(as.character(tissue_reduction$SMTSD)))\n",
    "# only include those tissues we wish to continue with\n",
    "table(tissue_reduction$include)\n",
    "tissue_reduction <- tissue_reduction[tissue_reduction$include==1,]\n",
    "\n",
    "message(\"Number of tissues with >=50 samples each in assets/tissues.tsv (tissue_reduction)\",\n",
    "        paste(dim(tissue_reduction), collapse=\" \"))"
   ]
  },
  {
   "cell_type": "markdown",
   "metadata": {},
   "source": [
    "### 2.3 Use the first file for the row order of the matrices\n",
    "\n",
    "Arbitrarily using the first file, to obtain the ordered rownames for assignment to the remainder of the files in the construction of the matrix."
   ]
  },
  {
   "cell_type": "code",
   "execution_count": null,
   "metadata": {},
   "outputs": [],
   "source": [
    "fullfilename <-filenames[1]\n",
    "logFC_mat    <- read.csv(fullfilename)\n",
    "pVal_mat     <- logFC_mat\n",
    "logFC_mat    <- logFC_mat[order(rownames(logFC_mat)),]\n",
    "logFC_mat_rownames <- as.character(rownames(logFC_mat)) \n",
    "pVal_mat_rownames  <- logFC_mat_rownames\n",
    "pVal_mat     <- logFC_mat"
   ]
  },
  {
   "cell_type": "code",
   "execution_count": null,
   "metadata": {},
   "outputs": [],
   "source": [
    "head(logFC_mat,2)"
   ]
  },
  {
   "cell_type": "markdown",
   "metadata": {},
   "source": [
    "### 2.4 create a matrix of the logFC values for each of the files\n",
    "\n",
    "Read in the corrected GTEx expression object.  Get the gene names for this using the pData function for this expression object."
   ]
  },
  {
   "cell_type": "code",
   "execution_count": null,
   "metadata": {},
   "outputs": [],
   "source": [
    "gtex.corrected<- readRDS(file = \"../data/gtex.corrected.rds\")"
   ]
  },
  {
   "cell_type": "code",
   "execution_count": null,
   "metadata": {},
   "outputs": [],
   "source": [
    "head(exprs(gtex.corrected),2)"
   ]
  },
  {
   "cell_type": "code",
   "execution_count": null,
   "metadata": {},
   "outputs": [],
   "source": [
    "all.genes    <- rownames(exprs(gtex.corrected))\n",
    "head(all.genes,2)\n",
    "length(all.genes)\n",
    "fc.exp.mat<-matrix(rep(0), length(all.genes)*length(filenames),nrow = length(all.genes),ncol=length(filenames))\n",
    "dim(fc.exp.mat)"
   ]
  },
  {
   "cell_type": "code",
   "execution_count": null,
   "metadata": {},
   "outputs": [],
   "source": [
    "for (filename in filenames)\n",
    "{\n",
    "    next.res       <- read.csv(filename)\n",
    "    \n",
    "    next.res <- next.res[order(match(rownames(next.res),all.genes)),]\n",
    "    \n",
    "    rowmatch <- which(all.genes %in% rownames(next.res))\n",
    "    \n",
    "    colmatch <- which(filenames==filename)\n",
    "    \n",
    "    fc.exp.mat[c(rowmatch),colmatch]<-next.res$logFC[]\n",
    "}"
   ]
  },
  {
   "cell_type": "code",
   "execution_count": null,
   "metadata": {},
   "outputs": [],
   "source": [
    "colnames(fc.exp.mat) <- gsub('../data/','',gsub('_DGE.csv','',filenames))\n",
    "\n",
    "label.tab<-read.csv('../assets/tissues.tsv',header=TRUE,sep='\\t')\n",
    "\n",
    "label.tab<-label.tab[label.tab$name %in% colnames(fc.exp.mat),]\n",
    "\n",
    "colnames(fc.exp.mat)<-label.tab$display.name[order(match(label.tab$display.name,colnames(fc.exp.mat)))]"
   ]
  },
  {
   "cell_type": "code",
   "execution_count": null,
   "metadata": {},
   "outputs": [],
   "source": [
    "tissue_list  <- levels(factor(tissue_reduction$SMTSD))\n",
    "message(\"Number of tissues with at least 50 samples for both sexes: \",length(tissue_list))"
   ]
  },
  {
   "cell_type": "code",
   "execution_count": null,
   "metadata": {},
   "outputs": [],
   "source": [
    "rs <- rowSums(fc.exp.mat)\n",
    "max(rs)"
   ]
  },
  {
   "cell_type": "markdown",
   "metadata": {},
   "source": [
    "### 2.5 Calculate the correlation between the tissues using the logFC and render the heatmaps of the distance correlations\n",
    "\n",
    "Calculate the correlation distances between the tissues using the logFC within each of the tissues.   \n",
    "Reduce the matrix to include only the non-zero results (necessary before calculating the distance.\n",
    "Clustering by similar expression.  And display the heatmap."
   ]
  },
  {
   "cell_type": "code",
   "execution_count": null,
   "metadata": {},
   "outputs": [],
   "source": [
    "# dist_mat all values logFC_mat - reducing the \n",
    "fc.exp.mat<-fc.exp.mat[rowSums(fc.exp.mat!=0)>0,]\n",
    "dist_mat <- as.matrix(cor(fc.exp.mat))\n",
    "pheatmap(dist_mat)\n",
    "hm.parameters <- list(dist_mat, fontsize = 6)\n",
    "do.call(\"pheatmap\", c(hm.parameters,  filename=\"../pdf/geneExpressionDistanceCorrelationHeatmapAlllogFC.pdf\"))"
   ]
  },
  {
   "cell_type": "markdown",
   "metadata": {},
   "source": [
    "## Appendix Metadata\n",
    "\n",
    "For replicability and reproducibility purposes, we also print the following metadata:\n",
    "\n",
    "### Appendix.1. Checksums with the sha256 algorithm\n",
    "1. Checksums of **'artefacts'**, files generated during the analysis and stored in the folder directory **`data`**\n",
    "2. List of environment metadata, dependencies, versions of libraries using `utils::sessionInfo()` and [`devtools::session_info()`](https://devtools.r-lib.org/reference/session_info.html)"
   ]
  },
  {
   "cell_type": "code",
   "execution_count": null,
   "metadata": {},
   "outputs": [],
   "source": [
    "figure_id   = \"expressionHeatmap\""
   ]
  },
  {
   "cell_type": "markdown",
   "metadata": {},
   "source": [
    "### Appendix.2. Libraries"
   ]
  },
  {
   "cell_type": "code",
   "execution_count": null,
   "metadata": {},
   "outputs": [],
   "source": [
    "dev_session_info   <- devtools::session_info()\n",
    "utils_session_info <- utils::sessionInfo()\n",
    "\n",
    "message(\"Saving `devtools::session_info()` objects in ../data/devtools_session_info.rds  ..\")\n",
    "saveRDS(dev_session_info, file = paste0(\"../data/\", figure_id, \"_devtools_session_info.rds\"))\n",
    "message(\"Done!\\n\")\n",
    "\n",
    "message(\"Saving `utils::sessionInfo()` objects in ../data/utils_session_info.rds  ..\")\n",
    "saveRDS(utils_session_info, file = paste0(\"../data/\", figure_id ,\"_utils_info.rds\"))\n",
    "message(\"Done!\\n\")\n",
    "\n",
    "dev_session_info$platform\n",
    "dev_session_info$packages[dev_session_info$packages$attached==TRUE, ]"
   ]
  }
 ],
 "metadata": {
  "kernelspec": {
   "display_name": "R",
   "language": "R",
   "name": "ir"
  }
 },
 "nbformat": 4,
 "nbformat_minor": 4
}
