{
 "cells": [
  {
   "cell_type": "markdown",
   "metadata": {},
   "source": [
    "# BreastMammaryTissueJunctionAnalysis as a Notebook \n",
    "\n",
    "rMATS 3.2.5 was run on controlled access RNASeq files retrieved experiments stored in the Sequence Read Archive with controlled access managed by dbGaP.   The data were generated under the Gene Tissue Expression.\n",
    "\n",
    "## rMATS RNASeq-MATS.py produces 10 different output types which get assembled into as type junction ID by sample ID matrices\n",
    "\n",
    "### Alternative Splice Site Types are: (se, a3ss, a5ss, mxe, ri)\n",
    "\n",
    " This is input as ARGV1 into variable 'astype'\n",
    "\n",
    "  * Skipped Exon events (se),\n",
    "  * Alternative 3' splice site (a3ss),\n",
    "  * Alternative 5' splice site (a5ss),\n",
    "  * Mutually exclusive exon (mxe),\n",
    "  * and retention intron (ri)\n",
    "\n",
    "### There are two different kinds of junction counts\n",
    "\n",
    "  * jc = junction counts - reads that cross the junction\n",
    "  * jcec = junction counts plus reads on the target (such as included exon\n",
    "\n",
    "### And the count type -- there are 5 types\n",
    "\n",
    "  * inclusion levels (percent spliced in)\n",
    "  * included junction counts (ijc)\n",
    "  * skipped junction counts (sjc)\n",
    "  * inclusion length (inclen)\n",
    "  * skipped length (skiplen)\n",
    "\n",
    "### function: fit_iso_tissue \n",
    "\n",
    "fit_iso_tissue expects the following input:\n",
    "\n",
    "  * the tissue of interest (SMSTD) \n",
    "  * an ordered_merged_rmats -- which will be ordered to fit the count matrix\n",
    "  * count matrix (inc or ijc & sjc merged)\n",
    "  * splice type (a3ss, a5ss, mxe, ri or se)\n",
    "  * junction_count type (jc or jcec)\n",
    "  * count type (inc or the merged ijc,sjc)\n",
    "  \n",
    "### reordering to match annotations between count matrix and annotation matrix\n",
    "\n",
    "Common problem is to match specifically the rows of an annotation matrix with the columns of a count matrix\n",
    "`match` is the function that gives the re-ordering index required to accomplish this\n"
   ]
  },
  {
   "cell_type": "markdown",
   "metadata": {},
   "source": [
    "## **NOTE**:\n",
    "\n",
    "We assume that you have cloned the analysis repository and have `cd` into the parent directory. Before starting with the analysis make sure you have first completed the dependencies set up by following the instructions described in the **`dependencies/README.md`** document. All paths defined in this Notebook are relative to the parent directory (repository). Please close this Notebook and start again by following the above guidelines if you have not completed the aforementioned steps.\n",
    "\n",
    "## rMATS-final-merged\n",
    "the rmats-nf NextFlow was executed and the results released here:"
   ]
  },
  {
   "cell_type": "markdown",
   "metadata": {},
   "source": [
    "## Loading dependencies"
   ]
  },
  {
   "cell_type": "code",
   "execution_count": 14,
   "metadata": {},
   "outputs": [],
   "source": [
    "library(limma)\n",
    "library(piggyback)\n",
    "library(multtest)\n",
    "library(Biobase)\n",
    "library(edgeR)\n",
    "library(tibble)\n",
    "library(R.utils)\n",
    "library(statmod)"
   ]
  },
  {
   "cell_type": "markdown",
   "metadata": {},
   "source": [
    "## Modeling\n",
    "\n",
    "This analysis uses edgeR.  From the documentation, it is important to note that normalization takes the form of correction factors that enter into the statistical model. Such correction factors are usually computed internally by edgeR functions, but it is also possible for a user to supply them. The correction factors may take the form of scaling factors for the library sizes, such as computed by calcNormFactors, which are then used to compute the effective library sizes. \n",
    "\n",
    "Alternatively, gene-specific correction factors can be entered into the glm functions of edgeR as offsets. In the latter case, the offset matrix will be assumed to account for all normalization issues, including sequencing depth and RNA composition.\n",
    "\n",
    "Note that normalization in edgeR is model-based, and the original read counts are not themselves transformed. This means that users should not transform the read counts in any way before inputing them to edgeR. For example, users should not enter RPKM or FPKM val- ues to edgeR in place of read counts. Such quantities will prevent edgeR from correctly estimating the mean-variance relationship in the data, which is a crucial to the statistical strategies underlying edgeR. Similarly, users should not add artificial values to the counts before inputing them to edgeR.\n",
    "\n",
    "edgeR is not designed to work with estimated expression levels, for example as might be output by Cufflinks. \n",
    "edgeR can work with expected counts as output by RSEM, but raw counts are still preferred. \n",
    "\n",
    "As instructed by the software, we are using the raw counts as provided by rMATS.  The raw counts we are using in the model are `ijc` and `sjc`, the sample specific raw read counts as they align to the junctions of the `included exon (ijc)` and the junctions of the `excluded or skipped exon (sjc)` respectively.\n",
    "\n",
    "\n",
    "Be sure to set your GITHUB_TOKEN, prior to downloading files\n",
    "\n",
    "One suggestion is change it to your token and then run it then immediately change it back to this:\n",
    "\n",
    "Sys.setenv(GITHUB_TOKEN = \"your-very-own-github-token\")"
   ]
  },
  {
   "cell_type": "markdown",
   "metadata": {},
   "source": [
    "### Did you remember?\n",
    "Did you remember to delete your private github token?  Now is a good time to do so, before you save your work and checkit in inadvertantly...."
   ]
  },
  {
   "cell_type": "code",
   "execution_count": 15,
   "metadata": {},
   "outputs": [
    {
     "name": "stderr",
     "output_type": "stream",
     "text": [
      "downloading SraRunTable.noCram.noExome.noWGS.totalRNA.txt.gz ...\n",
      "\n"
     ]
    },
    {
     "name": "stdout",
     "output_type": "stream",
     "text": [
      "  |======================================================================| 100%\n"
     ]
    },
    {
     "name": "stderr",
     "output_type": "stream",
     "text": [
      "downloading rmats_final.se.jc.ijc.txt.gz ...\n",
      "\n"
     ]
    },
    {
     "name": "stdout",
     "output_type": "stream",
     "text": [
      "  |======================================================================| 100%\n"
     ]
    },
    {
     "name": "stderr",
     "output_type": "stream",
     "text": [
      "downloading rmats_final.se.jc.sjc.txt.gz ...\n",
      "\n"
     ]
    },
    {
     "name": "stdout",
     "output_type": "stream",
     "text": [
      "  |======================================================================| 100%\n"
     ]
    },
    {
     "data": {
      "text/html": [
       "<table>\n",
       "<caption>A data.table: 6 × 8674</caption>\n",
       "<thead>\n",
       "\t<tr><th scope=col>ID</th><th scope=col>SRR1068788</th><th scope=col>SRR1068808</th><th scope=col>SRR1068832</th><th scope=col>SRR1068855</th><th scope=col>SRR1068880</th><th scope=col>SRR1068929</th><th scope=col>SRR1068953</th><th scope=col>SRR1068977</th><th scope=col>SRR1068999</th><th scope=col>⋯</th><th scope=col>SRR821573</th><th scope=col>SRR821581</th><th scope=col>SRR821602</th><th scope=col>SRR821626</th><th scope=col>SRR821653</th><th scope=col>SRR821690</th><th scope=col>SRR821715</th><th scope=col>SRR823967</th><th scope=col>SRR823991</th><th scope=col>SRR824015</th></tr>\n",
       "\t<tr><th scope=col>&lt;int&gt;</th><th scope=col>&lt;int&gt;</th><th scope=col>&lt;int&gt;</th><th scope=col>&lt;int&gt;</th><th scope=col>&lt;int&gt;</th><th scope=col>&lt;int&gt;</th><th scope=col>&lt;int&gt;</th><th scope=col>&lt;int&gt;</th><th scope=col>&lt;int&gt;</th><th scope=col>&lt;int&gt;</th><th scope=col>⋯</th><th scope=col>&lt;int&gt;</th><th scope=col>&lt;int&gt;</th><th scope=col>&lt;int&gt;</th><th scope=col>&lt;int&gt;</th><th scope=col>&lt;int&gt;</th><th scope=col>&lt;int&gt;</th><th scope=col>&lt;int&gt;</th><th scope=col>&lt;int&gt;</th><th scope=col>&lt;int&gt;</th><th scope=col>&lt;int&gt;</th></tr>\n",
       "</thead>\n",
       "<tbody>\n",
       "\t<tr><td>1</td><td> 0</td><td>  0</td><td>  0</td><td>  0</td><td>  1</td><td>  0</td><td>  0</td><td>  0</td><td>  0</td><td>⋯</td><td>  0</td><td> 0</td><td> 0</td><td> 0</td><td>  0</td><td> 0</td><td>  0</td><td> 0</td><td> 0</td><td> 0</td></tr>\n",
       "\t<tr><td>2</td><td>26</td><td>247</td><td>103</td><td>620</td><td>494</td><td>145</td><td>145</td><td>139</td><td>697</td><td>⋯</td><td>151</td><td>32</td><td>62</td><td>48</td><td>963</td><td>25</td><td>196</td><td>76</td><td>72</td><td>61</td></tr>\n",
       "\t<tr><td>3</td><td> 1</td><td>  0</td><td>  1</td><td>  0</td><td>  0</td><td>  0</td><td>  1</td><td>  1</td><td>  2</td><td>⋯</td><td>  2</td><td> 1</td><td> 0</td><td> 1</td><td>  3</td><td> 0</td><td>  1</td><td> 0</td><td> 0</td><td> 0</td></tr>\n",
       "\t<tr><td>4</td><td> 0</td><td>  1</td><td>  1</td><td>  2</td><td>  0</td><td>  0</td><td>  1</td><td>  0</td><td>  2</td><td>⋯</td><td>  0</td><td> 0</td><td> 0</td><td> 0</td><td>  1</td><td> 0</td><td>  0</td><td> 0</td><td> 0</td><td> 0</td></tr>\n",
       "\t<tr><td>5</td><td> 3</td><td>  0</td><td>  2</td><td>  3</td><td>  6</td><td>  1</td><td>  1</td><td>  1</td><td>  5</td><td>⋯</td><td>  3</td><td> 2</td><td> 0</td><td> 1</td><td>  6</td><td> 0</td><td>  2</td><td> 0</td><td> 0</td><td> 0</td></tr>\n",
       "\t<tr><td>6</td><td> 2</td><td>  1</td><td>  2</td><td>  5</td><td>  6</td><td>  1</td><td>  1</td><td>  0</td><td>  5</td><td>⋯</td><td>  1</td><td> 1</td><td> 0</td><td> 0</td><td>  4</td><td> 0</td><td>  1</td><td> 0</td><td> 0</td><td> 0</td></tr>\n",
       "</tbody>\n",
       "</table>\n"
      ],
      "text/latex": [
       "A data.table: 6 × 8674\n",
       "\\begin{tabular}{lllllllllllllllllllll}\n",
       " ID & SRR1068788 & SRR1068808 & SRR1068832 & SRR1068855 & SRR1068880 & SRR1068929 & SRR1068953 & SRR1068977 & SRR1068999 & ⋯ & SRR821573 & SRR821581 & SRR821602 & SRR821626 & SRR821653 & SRR821690 & SRR821715 & SRR823967 & SRR823991 & SRR824015\\\\\n",
       " <int> & <int> & <int> & <int> & <int> & <int> & <int> & <int> & <int> & <int> & ⋯ & <int> & <int> & <int> & <int> & <int> & <int> & <int> & <int> & <int> & <int>\\\\\n",
       "\\hline\n",
       "\t 1 &  0 &   0 &   0 &   0 &   1 &   0 &   0 &   0 &   0 & ⋯ &   0 &  0 &  0 &  0 &   0 &  0 &   0 &  0 &  0 &  0\\\\\n",
       "\t 2 & 26 & 247 & 103 & 620 & 494 & 145 & 145 & 139 & 697 & ⋯ & 151 & 32 & 62 & 48 & 963 & 25 & 196 & 76 & 72 & 61\\\\\n",
       "\t 3 &  1 &   0 &   1 &   0 &   0 &   0 &   1 &   1 &   2 & ⋯ &   2 &  1 &  0 &  1 &   3 &  0 &   1 &  0 &  0 &  0\\\\\n",
       "\t 4 &  0 &   1 &   1 &   2 &   0 &   0 &   1 &   0 &   2 & ⋯ &   0 &  0 &  0 &  0 &   1 &  0 &   0 &  0 &  0 &  0\\\\\n",
       "\t 5 &  3 &   0 &   2 &   3 &   6 &   1 &   1 &   1 &   5 & ⋯ &   3 &  2 &  0 &  1 &   6 &  0 &   2 &  0 &  0 &  0\\\\\n",
       "\t 6 &  2 &   1 &   2 &   5 &   6 &   1 &   1 &   0 &   5 & ⋯ &   1 &  1 &  0 &  0 &   4 &  0 &   1 &  0 &  0 &  0\\\\\n",
       "\\end{tabular}\n"
      ],
      "text/markdown": [
       "\n",
       "A data.table: 6 × 8674\n",
       "\n",
       "| ID &lt;int&gt; | SRR1068788 &lt;int&gt; | SRR1068808 &lt;int&gt; | SRR1068832 &lt;int&gt; | SRR1068855 &lt;int&gt; | SRR1068880 &lt;int&gt; | SRR1068929 &lt;int&gt; | SRR1068953 &lt;int&gt; | SRR1068977 &lt;int&gt; | SRR1068999 &lt;int&gt; | ⋯ ⋯ | SRR821573 &lt;int&gt; | SRR821581 &lt;int&gt; | SRR821602 &lt;int&gt; | SRR821626 &lt;int&gt; | SRR821653 &lt;int&gt; | SRR821690 &lt;int&gt; | SRR821715 &lt;int&gt; | SRR823967 &lt;int&gt; | SRR823991 &lt;int&gt; | SRR824015 &lt;int&gt; |\n",
       "|---|---|---|---|---|---|---|---|---|---|---|---|---|---|---|---|---|---|---|---|---|\n",
       "| 1 |  0 |   0 |   0 |   0 |   1 |   0 |   0 |   0 |   0 | ⋯ |   0 |  0 |  0 |  0 |   0 |  0 |   0 |  0 |  0 |  0 |\n",
       "| 2 | 26 | 247 | 103 | 620 | 494 | 145 | 145 | 139 | 697 | ⋯ | 151 | 32 | 62 | 48 | 963 | 25 | 196 | 76 | 72 | 61 |\n",
       "| 3 |  1 |   0 |   1 |   0 |   0 |   0 |   1 |   1 |   2 | ⋯ |   2 |  1 |  0 |  1 |   3 |  0 |   1 |  0 |  0 |  0 |\n",
       "| 4 |  0 |   1 |   1 |   2 |   0 |   0 |   1 |   0 |   2 | ⋯ |   0 |  0 |  0 |  0 |   1 |  0 |   0 |  0 |  0 |  0 |\n",
       "| 5 |  3 |   0 |   2 |   3 |   6 |   1 |   1 |   1 |   5 | ⋯ |   3 |  2 |  0 |  1 |   6 |  0 |   2 |  0 |  0 |  0 |\n",
       "| 6 |  2 |   1 |   2 |   5 |   6 |   1 |   1 |   0 |   5 | ⋯ |   1 |  1 |  0 |  0 |   4 |  0 |   1 |  0 |  0 |  0 |\n",
       "\n"
      ],
      "text/plain": [
       "  ID SRR1068788 SRR1068808 SRR1068832 SRR1068855 SRR1068880 SRR1068929\n",
       "1 1   0           0          0          0          1          0       \n",
       "2 2  26         247        103        620        494        145       \n",
       "3 3   1           0          1          0          0          0       \n",
       "4 4   0           1          1          2          0          0       \n",
       "5 5   3           0          2          3          6          1       \n",
       "6 6   2           1          2          5          6          1       \n",
       "  SRR1068953 SRR1068977 SRR1068999 ⋯ SRR821573 SRR821581 SRR821602 SRR821626\n",
       "1   0          0          0        ⋯   0        0         0         0       \n",
       "2 145        139        697        ⋯ 151       32        62        48       \n",
       "3   1          1          2        ⋯   2        1         0         1       \n",
       "4   1          0          2        ⋯   0        0         0         0       \n",
       "5   1          1          5        ⋯   3        2         0         1       \n",
       "6   1          0          5        ⋯   1        1         0         0       \n",
       "  SRR821653 SRR821690 SRR821715 SRR823967 SRR823991 SRR824015\n",
       "1   0        0          0        0         0         0       \n",
       "2 963       25        196       76        72        61       \n",
       "3   3        0          1        0         0         0       \n",
       "4   1        0          0        0         0         0       \n",
       "5   6        0          2        0         0         0       \n",
       "6   4        0          1        0         0         0       "
      ]
     },
     "metadata": {},
     "output_type": "display_data"
    },
    {
     "data": {
      "text/html": [
       "<table>\n",
       "<caption>A data.table: 6 × 8674</caption>\n",
       "<thead>\n",
       "\t<tr><th scope=col>ID</th><th scope=col>SRR1068788</th><th scope=col>SRR1068808</th><th scope=col>SRR1068832</th><th scope=col>SRR1068855</th><th scope=col>SRR1068880</th><th scope=col>SRR1068929</th><th scope=col>SRR1068953</th><th scope=col>SRR1068977</th><th scope=col>SRR1068999</th><th scope=col>⋯</th><th scope=col>SRR821573</th><th scope=col>SRR821581</th><th scope=col>SRR821602</th><th scope=col>SRR821626</th><th scope=col>SRR821653</th><th scope=col>SRR821690</th><th scope=col>SRR821715</th><th scope=col>SRR823967</th><th scope=col>SRR823991</th><th scope=col>SRR824015</th></tr>\n",
       "\t<tr><th scope=col>&lt;int&gt;</th><th scope=col>&lt;int&gt;</th><th scope=col>&lt;int&gt;</th><th scope=col>&lt;int&gt;</th><th scope=col>&lt;int&gt;</th><th scope=col>&lt;int&gt;</th><th scope=col>&lt;int&gt;</th><th scope=col>&lt;int&gt;</th><th scope=col>&lt;int&gt;</th><th scope=col>&lt;int&gt;</th><th scope=col>⋯</th><th scope=col>&lt;int&gt;</th><th scope=col>&lt;int&gt;</th><th scope=col>&lt;int&gt;</th><th scope=col>&lt;int&gt;</th><th scope=col>&lt;int&gt;</th><th scope=col>&lt;int&gt;</th><th scope=col>&lt;int&gt;</th><th scope=col>&lt;int&gt;</th><th scope=col>&lt;int&gt;</th><th scope=col>&lt;int&gt;</th></tr>\n",
       "</thead>\n",
       "<tbody>\n",
       "\t<tr><td>1</td><td> 2</td><td>  0</td><td> 1</td><td>  3</td><td>  6</td><td> 1</td><td> 0</td><td> 0</td><td>  3</td><td>⋯</td><td> 1</td><td> 1</td><td> 0</td><td>0</td><td>  3</td><td>0</td><td> 1</td><td> 0</td><td> 0</td><td> 0</td></tr>\n",
       "\t<tr><td>2</td><td> 0</td><td>  0</td><td> 0</td><td>  1</td><td>  0</td><td> 0</td><td> 1</td><td> 0</td><td>  0</td><td>⋯</td><td> 0</td><td> 0</td><td> 0</td><td>0</td><td>  0</td><td>0</td><td> 0</td><td> 0</td><td> 0</td><td> 0</td></tr>\n",
       "\t<tr><td>3</td><td> 0</td><td>  0</td><td> 0</td><td>  1</td><td>  0</td><td> 0</td><td> 0</td><td> 0</td><td>  0</td><td>⋯</td><td> 0</td><td> 0</td><td> 0</td><td>0</td><td>  0</td><td>0</td><td> 0</td><td> 0</td><td> 0</td><td> 0</td></tr>\n",
       "\t<tr><td>4</td><td> 0</td><td>  0</td><td> 0</td><td>  1</td><td>  0</td><td> 0</td><td> 0</td><td> 0</td><td>  1</td><td>⋯</td><td> 0</td><td> 0</td><td> 0</td><td>0</td><td>  2</td><td>0</td><td> 1</td><td> 0</td><td> 0</td><td> 0</td></tr>\n",
       "\t<tr><td>5</td><td> 0</td><td>  5</td><td> 3</td><td>  8</td><td>  4</td><td> 0</td><td> 3</td><td> 0</td><td>  3</td><td>⋯</td><td> 9</td><td> 3</td><td> 1</td><td>2</td><td>  3</td><td>0</td><td> 1</td><td> 0</td><td> 1</td><td> 0</td></tr>\n",
       "\t<tr><td>6</td><td>11</td><td>119</td><td>36</td><td>284</td><td>207</td><td>60</td><td>63</td><td>43</td><td>295</td><td>⋯</td><td>52</td><td>13</td><td>14</td><td>9</td><td>338</td><td>8</td><td>63</td><td>25</td><td>20</td><td>18</td></tr>\n",
       "</tbody>\n",
       "</table>\n"
      ],
      "text/latex": [
       "A data.table: 6 × 8674\n",
       "\\begin{tabular}{lllllllllllllllllllll}\n",
       " ID & SRR1068788 & SRR1068808 & SRR1068832 & SRR1068855 & SRR1068880 & SRR1068929 & SRR1068953 & SRR1068977 & SRR1068999 & ⋯ & SRR821573 & SRR821581 & SRR821602 & SRR821626 & SRR821653 & SRR821690 & SRR821715 & SRR823967 & SRR823991 & SRR824015\\\\\n",
       " <int> & <int> & <int> & <int> & <int> & <int> & <int> & <int> & <int> & <int> & ⋯ & <int> & <int> & <int> & <int> & <int> & <int> & <int> & <int> & <int> & <int>\\\\\n",
       "\\hline\n",
       "\t 1 &  2 &   0 &  1 &   3 &   6 &  1 &  0 &  0 &   3 & ⋯ &  1 &  1 &  0 & 0 &   3 & 0 &  1 &  0 &  0 &  0\\\\\n",
       "\t 2 &  0 &   0 &  0 &   1 &   0 &  0 &  1 &  0 &   0 & ⋯ &  0 &  0 &  0 & 0 &   0 & 0 &  0 &  0 &  0 &  0\\\\\n",
       "\t 3 &  0 &   0 &  0 &   1 &   0 &  0 &  0 &  0 &   0 & ⋯ &  0 &  0 &  0 & 0 &   0 & 0 &  0 &  0 &  0 &  0\\\\\n",
       "\t 4 &  0 &   0 &  0 &   1 &   0 &  0 &  0 &  0 &   1 & ⋯ &  0 &  0 &  0 & 0 &   2 & 0 &  1 &  0 &  0 &  0\\\\\n",
       "\t 5 &  0 &   5 &  3 &   8 &   4 &  0 &  3 &  0 &   3 & ⋯ &  9 &  3 &  1 & 2 &   3 & 0 &  1 &  0 &  1 &  0\\\\\n",
       "\t 6 & 11 & 119 & 36 & 284 & 207 & 60 & 63 & 43 & 295 & ⋯ & 52 & 13 & 14 & 9 & 338 & 8 & 63 & 25 & 20 & 18\\\\\n",
       "\\end{tabular}\n"
      ],
      "text/markdown": [
       "\n",
       "A data.table: 6 × 8674\n",
       "\n",
       "| ID &lt;int&gt; | SRR1068788 &lt;int&gt; | SRR1068808 &lt;int&gt; | SRR1068832 &lt;int&gt; | SRR1068855 &lt;int&gt; | SRR1068880 &lt;int&gt; | SRR1068929 &lt;int&gt; | SRR1068953 &lt;int&gt; | SRR1068977 &lt;int&gt; | SRR1068999 &lt;int&gt; | ⋯ ⋯ | SRR821573 &lt;int&gt; | SRR821581 &lt;int&gt; | SRR821602 &lt;int&gt; | SRR821626 &lt;int&gt; | SRR821653 &lt;int&gt; | SRR821690 &lt;int&gt; | SRR821715 &lt;int&gt; | SRR823967 &lt;int&gt; | SRR823991 &lt;int&gt; | SRR824015 &lt;int&gt; |\n",
       "|---|---|---|---|---|---|---|---|---|---|---|---|---|---|---|---|---|---|---|---|---|\n",
       "| 1 |  2 |   0 |  1 |   3 |   6 |  1 |  0 |  0 |   3 | ⋯ |  1 |  1 |  0 | 0 |   3 | 0 |  1 |  0 |  0 |  0 |\n",
       "| 2 |  0 |   0 |  0 |   1 |   0 |  0 |  1 |  0 |   0 | ⋯ |  0 |  0 |  0 | 0 |   0 | 0 |  0 |  0 |  0 |  0 |\n",
       "| 3 |  0 |   0 |  0 |   1 |   0 |  0 |  0 |  0 |   0 | ⋯ |  0 |  0 |  0 | 0 |   0 | 0 |  0 |  0 |  0 |  0 |\n",
       "| 4 |  0 |   0 |  0 |   1 |   0 |  0 |  0 |  0 |   1 | ⋯ |  0 |  0 |  0 | 0 |   2 | 0 |  1 |  0 |  0 |  0 |\n",
       "| 5 |  0 |   5 |  3 |   8 |   4 |  0 |  3 |  0 |   3 | ⋯ |  9 |  3 |  1 | 2 |   3 | 0 |  1 |  0 |  1 |  0 |\n",
       "| 6 | 11 | 119 | 36 | 284 | 207 | 60 | 63 | 43 | 295 | ⋯ | 52 | 13 | 14 | 9 | 338 | 8 | 63 | 25 | 20 | 18 |\n",
       "\n"
      ],
      "text/plain": [
       "  ID SRR1068788 SRR1068808 SRR1068832 SRR1068855 SRR1068880 SRR1068929\n",
       "1 1   2           0         1           3          6         1        \n",
       "2 2   0           0         0           1          0         0        \n",
       "3 3   0           0         0           1          0         0        \n",
       "4 4   0           0         0           1          0         0        \n",
       "5 5   0           5         3           8          4         0        \n",
       "6 6  11         119        36         284        207        60        \n",
       "  SRR1068953 SRR1068977 SRR1068999 ⋯ SRR821573 SRR821581 SRR821602 SRR821626\n",
       "1  0          0           3        ⋯  1         1         0        0        \n",
       "2  1          0           0        ⋯  0         0         0        0        \n",
       "3  0          0           0        ⋯  0         0         0        0        \n",
       "4  0          0           1        ⋯  0         0         0        0        \n",
       "5  3          0           3        ⋯  9         3         1        2        \n",
       "6 63         43         295        ⋯ 52        13        14        9        \n",
       "  SRR821653 SRR821690 SRR821715 SRR823967 SRR823991 SRR824015\n",
       "1   3       0          1         0         0         0       \n",
       "2   0       0          0         0         0         0       \n",
       "3   0       0          0         0         0         0       \n",
       "4   2       0          1         0         0         0       \n",
       "5   3       0          1         0         1         0       \n",
       "6 338       8         63        25        20        18       "
      ]
     },
     "metadata": {},
     "output_type": "display_data"
    },
    {
     "data": {
      "text/html": [
       "<table>\n",
       "<caption>A data.table: 6 × 79</caption>\n",
       "<thead>\n",
       "\t<tr><th scope=col>Run</th><th scope=col>analyte_type</th><th scope=col>Assay Type</th><th scope=col>AvgSpotLen</th><th scope=col>Bases</th><th scope=col>BioProject</th><th scope=col>BioSample</th><th scope=col>biospecimen_repository</th><th scope=col>biospecimen_repository_sample_id</th><th scope=col>body_site</th><th scope=col>⋯</th><th scope=col>data_type (run)</th><th scope=col>product_part_number (exp)</th><th scope=col>product_part_number (run)</th><th scope=col>sample_barcode (exp)</th><th scope=col>sample_barcode (run)</th><th scope=col>is_technical_control</th><th scope=col>target_set (exp)</th><th scope=col>primary_disease (exp)</th><th scope=col>secondary_accessions (run)</th><th scope=col>Alignment_Provider (run)</th></tr>\n",
       "\t<tr><th scope=col>&lt;chr&gt;</th><th scope=col>&lt;chr&gt;</th><th scope=col>&lt;chr&gt;</th><th scope=col>&lt;int&gt;</th><th scope=col>&lt;int64&gt;</th><th scope=col>&lt;chr&gt;</th><th scope=col>&lt;chr&gt;</th><th scope=col>&lt;chr&gt;</th><th scope=col>&lt;chr&gt;</th><th scope=col>&lt;chr&gt;</th><th scope=col>⋯</th><th scope=col>&lt;chr&gt;</th><th scope=col>&lt;chr&gt;</th><th scope=col>&lt;chr&gt;</th><th scope=col>&lt;dbl&gt;</th><th scope=col>&lt;dbl&gt;</th><th scope=col>&lt;chr&gt;</th><th scope=col>&lt;lgl&gt;</th><th scope=col>&lt;chr&gt;</th><th scope=col>&lt;chr&gt;</th><th scope=col>&lt;lgl&gt;</th></tr>\n",
       "</thead>\n",
       "<tbody>\n",
       "\t<tr><td>SRR2911715</td><td>RNA</td><td>RNA-Seq</td><td>150</td><td>3852895500</td><td>PRJNA244100</td><td>SAMN04216864</td><td>Cloud Testing</td><td>HG00103</td><td>Lymphoblastoid cell line</td><td>⋯</td><td></td><td></td><td></td><td>NA</td><td>NA</td><td></td><td>NA</td><td></td><td></td><td>NA</td></tr>\n",
       "\t<tr><td>SRR2911716</td><td>RNA</td><td>RNA-Seq</td><td>150</td><td>4885577400</td><td>PRJNA244100</td><td>SAMN04216866</td><td>Cloud Testing</td><td>HG00154</td><td>Lymphoblastoid cell line</td><td>⋯</td><td></td><td></td><td></td><td>NA</td><td>NA</td><td></td><td>NA</td><td></td><td></td><td>NA</td></tr>\n",
       "\t<tr><td>SRR2911718</td><td>RNA</td><td>RNA-Seq</td><td>150</td><td>2690545500</td><td>PRJNA244100</td><td>SAMN04216863</td><td>Cloud Testing</td><td>NA18910</td><td>Lymphoblastoid cell line</td><td>⋯</td><td></td><td></td><td></td><td>NA</td><td>NA</td><td></td><td>NA</td><td></td><td></td><td>NA</td></tr>\n",
       "\t<tr><td>SRR2911719</td><td>RNA</td><td>RNA-Seq</td><td>150</td><td>2699599350</td><td>PRJNA244100</td><td>SAMN04216865</td><td>Cloud Testing</td><td>NA19200</td><td>Lymphoblastoid cell line</td><td>⋯</td><td></td><td></td><td></td><td>NA</td><td>NA</td><td></td><td>NA</td><td></td><td></td><td>NA</td></tr>\n",
       "\t<tr><td>SRR2911720</td><td>RNA</td><td>RNA-Seq</td><td>152</td><td>4300467752</td><td>PRJNA244100</td><td>SAMN04216865</td><td>Cloud Testing</td><td>NA19200</td><td>Lymphoblastoid cell line</td><td>⋯</td><td></td><td></td><td></td><td>NA</td><td>NA</td><td></td><td>NA</td><td></td><td></td><td>NA</td></tr>\n",
       "\t<tr><td>SRR2911717</td><td>RNA</td><td>RNA-Seq</td><td>150</td><td>2666546700</td><td>PRJNA244100</td><td>SAMN04216863</td><td>Cloud Testing</td><td>NA18910</td><td>Lymphoblastoid cell line</td><td>⋯</td><td></td><td></td><td></td><td>NA</td><td>NA</td><td></td><td>NA</td><td></td><td></td><td>NA</td></tr>\n",
       "</tbody>\n",
       "</table>\n"
      ],
      "text/latex": [
       "A data.table: 6 × 79\n",
       "\\begin{tabular}{lllllllllllllllllllll}\n",
       " Run & analyte\\_type & Assay Type & AvgSpotLen & Bases & BioProject & BioSample & biospecimen\\_repository & biospecimen\\_repository\\_sample\\_id & body\\_site & ⋯ & data\\_type (run) & product\\_part\\_number (exp) & product\\_part\\_number (run) & sample\\_barcode (exp) & sample\\_barcode (run) & is\\_technical\\_control & target\\_set (exp) & primary\\_disease (exp) & secondary\\_accessions (run) & Alignment\\_Provider (run)\\\\\n",
       " <chr> & <chr> & <chr> & <int> & <int64> & <chr> & <chr> & <chr> & <chr> & <chr> & ⋯ & <chr> & <chr> & <chr> & <dbl> & <dbl> & <chr> & <lgl> & <chr> & <chr> & <lgl>\\\\\n",
       "\\hline\n",
       "\t SRR2911715 & RNA & RNA-Seq & 150 & 3852895500 & PRJNA244100 & SAMN04216864 & Cloud Testing & HG00103 & Lymphoblastoid cell line & ⋯ &  &  &  & NA & NA &  & NA &  &  & NA\\\\\n",
       "\t SRR2911716 & RNA & RNA-Seq & 150 & 4885577400 & PRJNA244100 & SAMN04216866 & Cloud Testing & HG00154 & Lymphoblastoid cell line & ⋯ &  &  &  & NA & NA &  & NA &  &  & NA\\\\\n",
       "\t SRR2911718 & RNA & RNA-Seq & 150 & 2690545500 & PRJNA244100 & SAMN04216863 & Cloud Testing & NA18910 & Lymphoblastoid cell line & ⋯ &  &  &  & NA & NA &  & NA &  &  & NA\\\\\n",
       "\t SRR2911719 & RNA & RNA-Seq & 150 & 2699599350 & PRJNA244100 & SAMN04216865 & Cloud Testing & NA19200 & Lymphoblastoid cell line & ⋯ &  &  &  & NA & NA &  & NA &  &  & NA\\\\\n",
       "\t SRR2911720 & RNA & RNA-Seq & 152 & 4300467752 & PRJNA244100 & SAMN04216865 & Cloud Testing & NA19200 & Lymphoblastoid cell line & ⋯ &  &  &  & NA & NA &  & NA &  &  & NA\\\\\n",
       "\t SRR2911717 & RNA & RNA-Seq & 150 & 2666546700 & PRJNA244100 & SAMN04216863 & Cloud Testing & NA18910 & Lymphoblastoid cell line & ⋯ &  &  &  & NA & NA &  & NA &  &  & NA\\\\\n",
       "\\end{tabular}\n"
      ],
      "text/markdown": [
       "\n",
       "A data.table: 6 × 79\n",
       "\n",
       "| Run &lt;chr&gt; | analyte_type &lt;chr&gt; | Assay Type &lt;chr&gt; | AvgSpotLen &lt;int&gt; | Bases &lt;int64&gt; | BioProject &lt;chr&gt; | BioSample &lt;chr&gt; | biospecimen_repository &lt;chr&gt; | biospecimen_repository_sample_id &lt;chr&gt; | body_site &lt;chr&gt; | ⋯ ⋯ | data_type (run) &lt;chr&gt; | product_part_number (exp) &lt;chr&gt; | product_part_number (run) &lt;chr&gt; | sample_barcode (exp) &lt;dbl&gt; | sample_barcode (run) &lt;dbl&gt; | is_technical_control &lt;chr&gt; | target_set (exp) &lt;lgl&gt; | primary_disease (exp) &lt;chr&gt; | secondary_accessions (run) &lt;chr&gt; | Alignment_Provider (run) &lt;lgl&gt; |\n",
       "|---|---|---|---|---|---|---|---|---|---|---|---|---|---|---|---|---|---|---|---|---|\n",
       "| SRR2911715 | RNA | RNA-Seq | 150 | 3852895500 | PRJNA244100 | SAMN04216864 | Cloud Testing | HG00103 | Lymphoblastoid cell line | ⋯ | <!----> | <!----> | <!----> | NA | NA | <!----> | NA | <!----> | <!----> | NA |\n",
       "| SRR2911716 | RNA | RNA-Seq | 150 | 4885577400 | PRJNA244100 | SAMN04216866 | Cloud Testing | HG00154 | Lymphoblastoid cell line | ⋯ | <!----> | <!----> | <!----> | NA | NA | <!----> | NA | <!----> | <!----> | NA |\n",
       "| SRR2911718 | RNA | RNA-Seq | 150 | 2690545500 | PRJNA244100 | SAMN04216863 | Cloud Testing | NA18910 | Lymphoblastoid cell line | ⋯ | <!----> | <!----> | <!----> | NA | NA | <!----> | NA | <!----> | <!----> | NA |\n",
       "| SRR2911719 | RNA | RNA-Seq | 150 | 2699599350 | PRJNA244100 | SAMN04216865 | Cloud Testing | NA19200 | Lymphoblastoid cell line | ⋯ | <!----> | <!----> | <!----> | NA | NA | <!----> | NA | <!----> | <!----> | NA |\n",
       "| SRR2911720 | RNA | RNA-Seq | 152 | 4300467752 | PRJNA244100 | SAMN04216865 | Cloud Testing | NA19200 | Lymphoblastoid cell line | ⋯ | <!----> | <!----> | <!----> | NA | NA | <!----> | NA | <!----> | <!----> | NA |\n",
       "| SRR2911717 | RNA | RNA-Seq | 150 | 2666546700 | PRJNA244100 | SAMN04216863 | Cloud Testing | NA18910 | Lymphoblastoid cell line | ⋯ | <!----> | <!----> | <!----> | NA | NA | <!----> | NA | <!----> | <!----> | NA |\n",
       "\n"
      ],
      "text/plain": [
       "  Run        analyte_type Assay Type AvgSpotLen Bases      BioProject \n",
       "1 SRR2911715 RNA          RNA-Seq    150        3852895500 PRJNA244100\n",
       "2 SRR2911716 RNA          RNA-Seq    150        4885577400 PRJNA244100\n",
       "3 SRR2911718 RNA          RNA-Seq    150        2690545500 PRJNA244100\n",
       "4 SRR2911719 RNA          RNA-Seq    150        2699599350 PRJNA244100\n",
       "5 SRR2911720 RNA          RNA-Seq    152        4300467752 PRJNA244100\n",
       "6 SRR2911717 RNA          RNA-Seq    150        2666546700 PRJNA244100\n",
       "  BioSample    biospecimen_repository biospecimen_repository_sample_id\n",
       "1 SAMN04216864 Cloud Testing          HG00103                         \n",
       "2 SAMN04216866 Cloud Testing          HG00154                         \n",
       "3 SAMN04216863 Cloud Testing          NA18910                         \n",
       "4 SAMN04216865 Cloud Testing          NA19200                         \n",
       "5 SAMN04216865 Cloud Testing          NA19200                         \n",
       "6 SAMN04216863 Cloud Testing          NA18910                         \n",
       "  body_site                ⋯ data_type (run) product_part_number (exp)\n",
       "1 Lymphoblastoid cell line ⋯                                          \n",
       "2 Lymphoblastoid cell line ⋯                                          \n",
       "3 Lymphoblastoid cell line ⋯                                          \n",
       "4 Lymphoblastoid cell line ⋯                                          \n",
       "5 Lymphoblastoid cell line ⋯                                          \n",
       "6 Lymphoblastoid cell line ⋯                                          \n",
       "  product_part_number (run) sample_barcode (exp) sample_barcode (run)\n",
       "1                           NA                   NA                  \n",
       "2                           NA                   NA                  \n",
       "3                           NA                   NA                  \n",
       "4                           NA                   NA                  \n",
       "5                           NA                   NA                  \n",
       "6                           NA                   NA                  \n",
       "  is_technical_control target_set (exp) primary_disease (exp)\n",
       "1                      NA                                    \n",
       "2                      NA                                    \n",
       "3                      NA                                    \n",
       "4                      NA                                    \n",
       "5                      NA                                    \n",
       "6                      NA                                    \n",
       "  secondary_accessions (run) Alignment_Provider (run)\n",
       "1                            NA                      \n",
       "2                            NA                      \n",
       "3                            NA                      \n",
       "4                            NA                      \n",
       "5                            NA                      \n",
       "6                            NA                      "
      ]
     },
     "metadata": {},
     "output_type": "display_data"
    },
    {
     "data": {
      "text/html": [
       "<style>\n",
       ".list-inline {list-style: none; margin:0; padding: 0}\n",
       ".list-inline>li {display: inline-block}\n",
       ".list-inline>li:not(:last-child)::after {content: \"\\00b7\"; padding: 0 .5ex}\n",
       "</style>\n",
       "<ol class=list-inline><li>42611</li><li>8674</li></ol>\n"
      ],
      "text/latex": [
       "\\begin{enumerate*}\n",
       "\\item 42611\n",
       "\\item 8674\n",
       "\\end{enumerate*}\n"
      ],
      "text/markdown": [
       "1. 42611\n",
       "2. 8674\n",
       "\n",
       "\n"
      ],
      "text/plain": [
       "[1] 42611  8674"
      ]
     },
     "metadata": {},
     "output_type": "display_data"
    },
    {
     "data": {
      "text/html": [
       "<style>\n",
       ".list-inline {list-style: none; margin:0; padding: 0}\n",
       ".list-inline>li {display: inline-block}\n",
       ".list-inline>li:not(:last-child)::after {content: \"\\00b7\"; padding: 0 .5ex}\n",
       "</style>\n",
       "<ol class=list-inline><li>42611</li><li>8674</li></ol>\n"
      ],
      "text/latex": [
       "\\begin{enumerate*}\n",
       "\\item 42611\n",
       "\\item 8674\n",
       "\\end{enumerate*}\n"
      ],
      "text/markdown": [
       "1. 42611\n",
       "2. 8674\n",
       "\n",
       "\n"
      ],
      "text/plain": [
       "[1] 42611  8674"
      ]
     },
     "metadata": {},
     "output_type": "display_data"
    },
    {
     "data": {
      "text/html": [
       "<style>\n",
       ".list-inline {list-style: none; margin:0; padding: 0}\n",
       ".list-inline>li {display: inline-block}\n",
       ".list-inline>li:not(:last-child)::after {content: \"\\00b7\"; padding: 0 .5ex}\n",
       "</style>\n",
       "<ol class=list-inline><li>9784</li><li>79</li></ol>\n"
      ],
      "text/latex": [
       "\\begin{enumerate*}\n",
       "\\item 9784\n",
       "\\item 79\n",
       "\\end{enumerate*}\n"
      ],
      "text/markdown": [
       "1. 9784\n",
       "2. 79\n",
       "\n",
       "\n"
      ],
      "text/plain": [
       "[1] 9784   79"
      ]
     },
     "metadata": {},
     "output_type": "display_data"
    }
   ],
   "source": [
    "piggyback::pb_download(\n",
    "    repo = \"TheJacksonLaboratory/sbas\", \n",
    "    file = \"SraRunTable.noCram.noExome.noWGS.totalRNA.txt.gz\",\n",
    "    tag  = \"GTExV8.v1.0\", \n",
    "    dest = \"../data/\")\n",
    "\n",
    "piggyback::pb_download(\n",
    "    repo = \"adeslatt/sbas_test\", \n",
    "    file = \"rmats_final.se.jc.ijc.txt.gz\",\n",
    "    tag  = \"rMATS.3.2.5.GTEx.V8.final_matrices\", \n",
    "    dest = \"../data/\")\n",
    "\n",
    "piggyback::pb_download(\n",
    "    repo = \"adeslatt/sbas_test\", \n",
    "    file = \"rmats_final.se.jc.sjc.txt.gz\",\n",
    "    tag  = \"rMATS.3.2.5.GTEx.V8.final_matrices\", \n",
    "    dest = \"../data/\")\n",
    "\n",
    "ijc.iso.counts.mem <- data.table::fread(\"../data/rmats_final.se.jc.ijc.txt.gz\") \n",
    "sjc.iso.counts.mem <- data.table::fread(\"../data/rmats_final.se.jc.sjc.txt.gz\") \n",
    "meta.data          <- data.table::fread(\"../data/SraRunTable.noCram.noExome.noWGS.totalRNA.txt.gz\")\n",
    "\n",
    "head(ijc.iso.counts.mem)\n",
    "head(sjc.iso.counts.mem)\n",
    "head(meta.data)\n",
    "\n",
    "#dimensions before we make the changes.\n",
    "dim(ijc.iso.counts.mem)\n",
    "dim(sjc.iso.counts.mem)\n",
    "dim(meta.data)"
   ]
  },
  {
   "cell_type": "markdown",
   "metadata": {},
   "source": [
    "## Synchronize metadata samples with ijc sjc samples\n",
    "\n",
    "Keep only the runs that are in the ijc count list (assuming ijc and sjc are the same).  As well, name the rows with the junction id column and then make the matrix just about the counts."
   ]
  },
  {
   "cell_type": "code",
   "execution_count": 16,
   "metadata": {},
   "outputs": [
    {
     "data": {
      "text/plain": [
       "keep.meta.data\n",
       "FALSE  TRUE \n",
       " 1111  8673 "
      ]
     },
     "metadata": {},
     "output_type": "display_data"
    },
    {
     "data": {
      "text/html": [
       "<style>\n",
       ".list-inline {list-style: none; margin:0; padding: 0}\n",
       ".list-inline>li {display: inline-block}\n",
       ".list-inline>li:not(:last-child)::after {content: \"\\00b7\"; padding: 0 .5ex}\n",
       "</style>\n",
       "<ol class=list-inline><li>42611</li><li>8673</li></ol>\n"
      ],
      "text/latex": [
       "\\begin{enumerate*}\n",
       "\\item 42611\n",
       "\\item 8673\n",
       "\\end{enumerate*}\n"
      ],
      "text/markdown": [
       "1. 42611\n",
       "2. 8673\n",
       "\n",
       "\n"
      ],
      "text/plain": [
       "[1] 42611  8673"
      ]
     },
     "metadata": {},
     "output_type": "display_data"
    },
    {
     "data": {
      "text/html": [
       "<style>\n",
       ".list-inline {list-style: none; margin:0; padding: 0}\n",
       ".list-inline>li {display: inline-block}\n",
       ".list-inline>li:not(:last-child)::after {content: \"\\00b7\"; padding: 0 .5ex}\n",
       "</style>\n",
       "<ol class=list-inline><li>42611</li><li>8673</li></ol>\n"
      ],
      "text/latex": [
       "\\begin{enumerate*}\n",
       "\\item 42611\n",
       "\\item 8673\n",
       "\\end{enumerate*}\n"
      ],
      "text/markdown": [
       "1. 42611\n",
       "2. 8673\n",
       "\n",
       "\n"
      ],
      "text/plain": [
       "[1] 42611  8673"
      ]
     },
     "metadata": {},
     "output_type": "display_data"
    },
    {
     "data": {
      "text/html": [
       "<style>\n",
       ".list-inline {list-style: none; margin:0; padding: 0}\n",
       ".list-inline>li {display: inline-block}\n",
       ".list-inline>li:not(:last-child)::after {content: \"\\00b7\"; padding: 0 .5ex}\n",
       "</style>\n",
       "<ol class=list-inline><li>8673</li><li>79</li></ol>\n"
      ],
      "text/latex": [
       "\\begin{enumerate*}\n",
       "\\item 8673\n",
       "\\item 79\n",
       "\\end{enumerate*}\n"
      ],
      "text/markdown": [
       "1. 8673\n",
       "2. 79\n",
       "\n",
       "\n"
      ],
      "text/plain": [
       "[1] 8673   79"
      ]
     },
     "metadata": {},
     "output_type": "display_data"
    }
   ],
   "source": [
    "# the sample names are in the columns of both the ijc and the sjc matrices, these matrices have the identical column order)\n",
    "keep.meta.data <- meta.data$Run %in% colnames(ijc.iso.counts.mem)\n",
    "table(keep.meta.data)\n",
    "reduced.meta.data <- meta.data[keep.meta.data==TRUE,]\n",
    "\n",
    "# preserve junction id as rowname\n",
    "rownames(ijc.iso.counts.mem) <- ijc.iso.counts.mem$ID\n",
    "rownames(sjc.iso.counts.mem) <- sjc.iso.counts.mem$ID\n",
    "\n",
    "# and remove the id to have a data matrix\n",
    "ijc.iso.counts.mem  <- ijc.iso.counts.mem[,-1]\n",
    "sjc.iso.counts.mem  <- sjc.iso.counts.mem[,-1]\n",
    "\n",
    "meta.data.run.names  <- reduced.meta.data$Run\n",
    "ijc.iso.counts.mem2  <- as_tibble(ijc.iso.counts.mem)\n",
    "sjc.iso.counts.mem2  <- as_tibble(sjc.iso.counts.mem)\n",
    "\n",
    "ijc.iso.counts.mem2  <- ijc.iso.counts.mem2[,c(meta.data.run.names)]\n",
    "sjc.iso.counts.mem2  <- sjc.iso.counts.mem2[,c(meta.data.run.names)]\n",
    "\n",
    "dim(ijc.iso.counts.mem)\n",
    "dim(sjc.iso.counts.mem)\n",
    "dim(reduced.meta.data)"
   ]
  },
  {
   "cell_type": "markdown",
   "metadata": {},
   "source": [
    "## Order ijc and sjc columns in the same order as the metadata Run order\n",
    "\n",
    "Using tibble library, we can rearrange the columns as the column name.  "
   ]
  },
  {
   "cell_type": "code",
   "execution_count": 17,
   "metadata": {},
   "outputs": [
    {
     "data": {
      "text/html": [
       "<style>\n",
       ".list-inline {list-style: none; margin:0; padding: 0}\n",
       ".list-inline>li {display: inline-block}\n",
       ".list-inline>li:not(:last-child)::after {content: \"\\00b7\"; padding: 0 .5ex}\n",
       "</style>\n",
       "<ol class=list-inline><li>42611</li><li>8673</li></ol>\n"
      ],
      "text/latex": [
       "\\begin{enumerate*}\n",
       "\\item 42611\n",
       "\\item 8673\n",
       "\\end{enumerate*}\n"
      ],
      "text/markdown": [
       "1. 42611\n",
       "2. 8673\n",
       "\n",
       "\n"
      ],
      "text/plain": [
       "[1] 42611  8673"
      ]
     },
     "metadata": {},
     "output_type": "display_data"
    },
    {
     "data": {
      "text/html": [
       "<style>\n",
       ".list-inline {list-style: none; margin:0; padding: 0}\n",
       ".list-inline>li {display: inline-block}\n",
       ".list-inline>li:not(:last-child)::after {content: \"\\00b7\"; padding: 0 .5ex}\n",
       "</style>\n",
       "<ol class=list-inline><li>42611</li><li>8673</li></ol>\n"
      ],
      "text/latex": [
       "\\begin{enumerate*}\n",
       "\\item 42611\n",
       "\\item 8673\n",
       "\\end{enumerate*}\n"
      ],
      "text/markdown": [
       "1. 42611\n",
       "2. 8673\n",
       "\n",
       "\n"
      ],
      "text/plain": [
       "[1] 42611  8673"
      ]
     },
     "metadata": {},
     "output_type": "display_data"
    },
    {
     "data": {
      "text/html": [
       "<style>\n",
       ".list-inline {list-style: none; margin:0; padding: 0}\n",
       ".list-inline>li {display: inline-block}\n",
       ".list-inline>li:not(:last-child)::after {content: \"\\00b7\"; padding: 0 .5ex}\n",
       "</style>\n",
       "<ol class=list-inline><li>8673</li><li>79</li></ol>\n"
      ],
      "text/latex": [
       "\\begin{enumerate*}\n",
       "\\item 8673\n",
       "\\item 79\n",
       "\\end{enumerate*}\n"
      ],
      "text/markdown": [
       "1. 8673\n",
       "2. 79\n",
       "\n",
       "\n"
      ],
      "text/plain": [
       "[1] 8673   79"
      ]
     },
     "metadata": {},
     "output_type": "display_data"
    }
   ],
   "source": [
    "meta.data.run.names  <- as.character(reduced.meta.data$Run)\n",
    "ijc.iso.counts.mem2  <- as_tibble(ijc.iso.counts.mem)\n",
    "sjc.iso.counts.mem2  <- as_tibble(sjc.iso.counts.mem)\n",
    "\n",
    "ijc.iso.counts.mem2  <- ijc.iso.counts.mem2[,c(meta.data.run.names)]\n",
    "sjc.iso.counts.mem2  <- sjc.iso.counts.mem2[,c(meta.data.run.names)]\n",
    "\n",
    "dim(ijc.iso.counts.mem2)\n",
    "dim(sjc.iso.counts.mem2)\n",
    "dim(reduced.meta.data)"
   ]
  },
  {
   "cell_type": "markdown",
   "metadata": {},
   "source": [
    "Remove samples that match '11IL0' from the ijc, sjc and metadata files using the logical grep, grepl"
   ]
  },
  {
   "cell_type": "code",
   "execution_count": 18,
   "metadata": {},
   "outputs": [
    {
     "data": {
      "text/plain": [
       "keep.meta.data\n",
       "FALSE  TRUE \n",
       "   12  8661 "
      ]
     },
     "metadata": {},
     "output_type": "display_data"
    },
    {
     "data": {
      "text/html": [
       "<style>\n",
       ".list-inline {list-style: none; margin:0; padding: 0}\n",
       ".list-inline>li {display: inline-block}\n",
       ".list-inline>li:not(:last-child)::after {content: \"\\00b7\"; padding: 0 .5ex}\n",
       "</style>\n",
       "<ol class=list-inline><li>42611</li><li>8661</li></ol>\n"
      ],
      "text/latex": [
       "\\begin{enumerate*}\n",
       "\\item 42611\n",
       "\\item 8661\n",
       "\\end{enumerate*}\n"
      ],
      "text/markdown": [
       "1. 42611\n",
       "2. 8661\n",
       "\n",
       "\n"
      ],
      "text/plain": [
       "[1] 42611  8661"
      ]
     },
     "metadata": {},
     "output_type": "display_data"
    },
    {
     "data": {
      "text/html": [
       "<style>\n",
       ".list-inline {list-style: none; margin:0; padding: 0}\n",
       ".list-inline>li {display: inline-block}\n",
       ".list-inline>li:not(:last-child)::after {content: \"\\00b7\"; padding: 0 .5ex}\n",
       "</style>\n",
       "<ol class=list-inline><li>42611</li><li>8661</li></ol>\n"
      ],
      "text/latex": [
       "\\begin{enumerate*}\n",
       "\\item 42611\n",
       "\\item 8661\n",
       "\\end{enumerate*}\n"
      ],
      "text/markdown": [
       "1. 42611\n",
       "2. 8661\n",
       "\n",
       "\n"
      ],
      "text/plain": [
       "[1] 42611  8661"
      ]
     },
     "metadata": {},
     "output_type": "display_data"
    }
   ],
   "source": [
    "keep.meta.data <- (!grepl('11ILO',reduced.meta.data$\"Sample Name\"))\n",
    "table(keep.meta.data)\n",
    "ijc.iso.counts.mem2 <-ijc.iso.counts.mem2 [                    ,keep.meta.data==TRUE]\n",
    "sjc.iso.counts.mem2 <-sjc.iso.counts.mem2 [                    ,keep.meta.data==TRUE]\n",
    "\n",
    "reduced.meta.data   <-reduced.meta.data   [keep.meta.data==TRUE,                    ]\n",
    "dim(ijc.iso.counts.mem2)\n",
    "dim(sjc.iso.counts.mem2)"
   ]
  },
  {
   "cell_type": "markdown",
   "metadata": {},
   "source": [
    "### and focus on a single tissue\n",
    "\n",
    "this will become a function so we can proceed on all the tissues"
   ]
  },
  {
   "cell_type": "code",
   "execution_count": 19,
   "metadata": {},
   "outputs": [
    {
     "data": {
      "text/plain": [
       "tissue\n",
       "FALSE  TRUE \n",
       " 8470   191 "
      ]
     },
     "metadata": {},
     "output_type": "display_data"
    },
    {
     "data": {
      "text/html": [
       "<style>\n",
       ".list-inline {list-style: none; margin:0; padding: 0}\n",
       ".list-inline>li {display: inline-block}\n",
       ".list-inline>li:not(:last-child)::after {content: \"\\00b7\"; padding: 0 .5ex}\n",
       "</style>\n",
       "<ol class=list-inline><li>42611</li><li>191</li></ol>\n"
      ],
      "text/latex": [
       "\\begin{enumerate*}\n",
       "\\item 42611\n",
       "\\item 191\n",
       "\\end{enumerate*}\n"
      ],
      "text/markdown": [
       "1. 42611\n",
       "2. 191\n",
       "\n",
       "\n"
      ],
      "text/plain": [
       "[1] 42611   191"
      ]
     },
     "metadata": {},
     "output_type": "display_data"
    },
    {
     "data": {
      "text/html": [
       "<style>\n",
       ".list-inline {list-style: none; margin:0; padding: 0}\n",
       ".list-inline>li {display: inline-block}\n",
       ".list-inline>li:not(:last-child)::after {content: \"\\00b7\"; padding: 0 .5ex}\n",
       "</style>\n",
       "<ol class=list-inline><li>42611</li><li>191</li></ol>\n"
      ],
      "text/latex": [
       "\\begin{enumerate*}\n",
       "\\item 42611\n",
       "\\item 191\n",
       "\\end{enumerate*}\n"
      ],
      "text/markdown": [
       "1. 42611\n",
       "2. 191\n",
       "\n",
       "\n"
      ],
      "text/plain": [
       "[1] 42611   191"
      ]
     },
     "metadata": {},
     "output_type": "display_data"
    }
   ],
   "source": [
    "tissue <- reduced.meta.data$body_site %in% 'Breast - Mammary Tissue'\n",
    "table(tissue)\n",
    "\n",
    "ijc.iso.counts.mem2 <-ijc.iso.counts.mem2 [                    ,tissue==TRUE]\n",
    "sjc.iso.counts.mem2 <-sjc.iso.counts.mem2 [                    ,tissue==TRUE]\n",
    "\n",
    "reduced.meta.data   <-reduced.meta.data   [tissue==TRUE,                    ]\n",
    "dim(ijc.iso.counts.mem2)\n",
    "dim(sjc.iso.counts.mem2)"
   ]
  },
  {
   "cell_type": "markdown",
   "metadata": {},
   "source": [
    "### exploration of the details\n",
    "\n",
    "For each sample, we have ijc and sjc count data and demographics of gender.\n",
    "Our question is regarding the sex biased differences.\n",
    "For each junction we have 8,000 samples with these count data.   The way to think about the model is that we have in fact for all of these junctions, these are our co-variates in this global transcriptomic model. \n",
    "For exon skipping events (SE), we have 42,611 non-zero junction IDs the (first dimension of the ijc and sjc cout table) for the skipped exon event for breast-Mammary Tissue, 191 individuals.  These are healthy individuals, and we are studying the impact of sex on the occurrence or non-occurance of specific alternative splicing events.   We explore the information we ahve about these junctions and create a construct, as_event, which accounts for the junction under exploration."
   ]
  },
  {
   "cell_type": "code",
   "execution_count": 20,
   "metadata": {},
   "outputs": [],
   "source": [
    "ijc      <- as.data.frame(ijc.iso.counts.mem2)\n",
    "sjc      <- as.data.frame(sjc.iso.counts.mem2)\n",
    "ijc      <- data.matrix(ijc)\n",
    "sjc      <- data.matrix(sjc)"
   ]
  },
  {
   "cell_type": "markdown",
   "metadata": {},
   "source": [
    "## Exploring the ijc and sjc Count data \n",
    "\n",
    "We have two counts that are in many ways two sides of the same coin.  Both our the observational output and we wish to see how robust each are in their ability to separate out the samples to provide for us differentially expressed isoform events as measured by their counts.   Each junction is in a manner a specific marker to specific isoform events that may or may not be shared between the genders.   If there is significant results, then this is indicative of the separation achieved by isoform specific differentiation.   In our model we will use these in combination, it is important to see if they will yield the results we are looking for.\n",
    "\n",
    "### IJC\n",
    "\n",
    "Exon included junction counts -- duplicate correlation is actually 2 (there are 2 exons for each included exon) the results provide robust separation up until around 550."
   ]
  },
  {
   "cell_type": "code",
   "execution_count": 21,
   "metadata": {},
   "outputs": [
    {
     "data": {
      "image/png": "[encoded data removed]",
      "text/plain": [
       "plot without title"
      ]
     },
     "metadata": {
      "image/png": {
       "height": 420,
       "width": 420
      },
      "text/plain": {
       "height": 420,
       "width": 420
      }
     },
     "output_type": "display_data"
    },
    {
     "data": {
      "image/png": "[encoded data removed]",
      "text/plain": [
       "plot without title"
      ]
     },
     "metadata": {
      "image/png": {
       "height": 420,
       "width": 420
      },
      "text/plain": {
       "height": 420,
       "width": 420
      }
     },
     "output_type": "display_data"
    },
    {
     "data": {
      "image/png": "[encoded data removed]",
      "text/plain": [
       "plot without title"
      ]
     },
     "metadata": {
      "image/png": {
       "height": 420,
       "width": 420
      },
      "text/plain": {
       "height": 420,
       "width": 420
      }
     },
     "output_type": "display_data"
    },
    {
     "data": {
      "image/png": "[encoded data removed]",
      "text/plain": [
       "plot without title"
      ]
     },
     "metadata": {
      "image/png": {
       "height": 420,
       "width": 420
      },
      "text/plain": {
       "height": 420,
       "width": 420
      }
     },
     "output_type": "display_data"
    }
   ],
   "source": [
    "sex       <- factor(reduced.meta.data$sex,levels=c('male','female'))\n",
    "\n",
    "design    <- model.matrix ( ~ sex)\n",
    "y <- DGEList(counts=ijc, group = sex)\n",
    "y <- calcNormFactors(y, method=\"upperquartile\")\n",
    "y_voom <- voom (y, design=design)\n",
    "Gender <- substring(sex,1,1)\n",
    "plotMDS(y, labels=Gender, top=500, col=ifelse(Gender==\"m\",\"blue\",\"red\"), \n",
    "        gene.selection=\"common\")\n",
    "plotMDS(y_voom, labels=Gender, top=500, col=ifelse(Gender==\"m\",\"blue\",\"red\"), \n",
    "        gene.selection=\"common\")\n",
    "plotMDS(y, labels=Gender, top=1500, col=ifelse(Gender==\"m\",\"blue\",\"red\"), \n",
    "        gene.selection=\"common\")\n",
    "plotMDS(y_voom, labels=Gender, top=1500, col=ifelse(Gender==\"m\",\"blue\",\"red\"), \n",
    "        gene.selection=\"common\")"
   ]
  },
  {
   "cell_type": "markdown",
   "metadata": {},
   "source": [
    "### SJC\n",
    "sjc counts are skipped exon junction counts -- ijc counts hold together for the top 1000, the skipped exon junction counts fall appart\n",
    "at a lower number -- around 200!  separation fails between the genders at 250"
   ]
  },
  {
   "cell_type": "code",
   "execution_count": null,
   "metadata": {},
   "outputs": [],
   "source": [
    "sex       <- factor(reduced.meta.data$sex,levels=c('male','female'))\n",
    "design    <- model.matrix(~ sex)\n",
    "y <- DGEList(counts=sjc, group = sex)\n",
    "y <- calcNormFactors(y, method=\"upperquartile\")\n",
    "y_voom <- voom (y, design=design)\n",
    "\n",
    "Gender <- substring(sex,1,1)\n",
    "plotMDS(y, labels=Gender, top=100, col=ifelse(Gender==\"m\",\"blue\",\"red\"), \n",
    "        gene.selection=\"common\")\n",
    "plotMDS(y_voom, labels=Gender, top=100, col=ifelse(Gender==\"m\",\"blue\",\"red\"), \n",
    "        gene.selection=\"common\")\n",
    "plotMDS(y, labels=Gender, top=700, col=ifelse(Gender==\"m\",\"blue\",\"red\"), \n",
    "        gene.selection=\"common\")\n",
    "plotMDS(y_voom, labels=Gender, top=700, col=ifelse(Gender==\"m\",\"blue\",\"red\"), \n",
    "        gene.selection=\"common\")"
   ]
  },
  {
   "cell_type": "markdown",
   "metadata": {},
   "source": [
    "## Differential analysis as_event:ijc \n",
    "\n",
    "Differential Analysis (DE) was performed using voom (Law et.al., 2014) to transform junction counts (reads that were aligned to junctions when an exon is included - ijc, and reads that were aligned to junctions when the exon is excluded - sjc) with associated precision weights, followed by linear modeling and empirical Bayes procedure using limma.    In each tissue, the following linear regression model was used to detec secually dimorphic alternative splicing event expression: \n",
    "\n",
    "           y = B0 + B1 sex + epsilon (error)\n",
    "           \n",
    "\n",
    "where y is the included exon junction count expression; sex denotes the reported sex of the subject."
   ]
  },
  {
   "cell_type": "code",
   "execution_count": null,
   "metadata": {},
   "outputs": [],
   "source": [
    "sex       <- reduced.meta.data$sex\n",
    "\n",
    "design    <- model.matrix( ~ sex )\n",
    "\n",
    "colnames(design) <- c(\"intercept\",\"sex\")\n",
    "\n",
    "dim(ijc)\n",
    "table(sex)\n",
    "head(design)\n",
    "\n",
    "y_ijc <- DGEList(counts=ijc, group = sex)\n",
    "y_ijc <- calcNormFactors(y_ijc, method=\"upperquartile\")\n",
    "\n",
    "y_ijc_voom <- voom (y_ijc, design=design)\n",
    "\n",
    "Gender <- substring(sex,1,1)\n",
    "\n",
    "plotMDS(y_ijc, labels=Gender, top=1000, col=ifelse(Gender==\"m\",\"blue\",\"red\"), \n",
    "        gene.selection=\"common\")\n",
    "\n",
    "plotMDS(y_ijc_voom, labels=Gender, top=1000, col=ifelse(Gender==\"m\",\"blue\",\"red\"), \n",
    "        gene.selection=\"common\")\n",
    "\n",
    "fit_ijc <- lmFit(y_ijc_voom, design)\n",
    "fit_ijc <- eBayes(fit_ijc)\n",
    "\n",
    "ijc_sex_results          <- topTable(fit_ijc, coef='sex', number=nrow(y_voom))\n",
    "ijc_sex_results_refined  <- ijc_sex_results$adj.P.Val < 0.05 & abs(ijc_sex_results$logFC) > 1.5\n",
    "\n",
    "table(ijc_sex_results_refined)"
   ]
  },
  {
   "cell_type": "markdown",
   "metadata": {},
   "source": [
    "## Differential analysis as_event:sjc \n",
    "\n",
    "Differential Analysis (DE) was performed using voom (Law et.al., 2014) to transform junction counts (reads that were aligned to junctions when an exon is included - ijc, and reads that were aligned to junctions when the exon is excluded - sjc) with associated precision weights, followed by linear modeling and empirical Bayes procedure using limma.    In each tissue, the following linear regression model was used to detec secually dimorphic alternative splicing event expression: \n",
    "\n",
    "           y = B0 + B1 sex + epsilon (error)\n",
    "           \n",
    "\n",
    "where y is the excluded exon junction count (sjc) expression; sex denotes the reported sex of the subject."
   ]
  },
  {
   "cell_type": "code",
   "execution_count": null,
   "metadata": {},
   "outputs": [],
   "source": [
    "sex       <- reduced.meta.data$sex\n",
    "\n",
    "design    <- model.matrix( ~ sex )\n",
    "\n",
    "colnames(design) <- c(\"intercept\",\"sex\")\n",
    "\n",
    "dim(sjc)\n",
    "table(sex)\n",
    "head(design)\n",
    "\n",
    "y_sjc <- DGEList(counts=sjc, group = sex)\n",
    "y_sjc <- calcNormFactors(y_sjc, method=\"upperquartile\")\n",
    "\n",
    "y_sjc_voom <- voom (y_sjc, design=design)\n",
    "\n",
    "Gender <- substring(sex,1,1)\n",
    "\n",
    "plotMDS(y_sjc, labels=Gender, top=500, col=ifelse(Gender==\"m\",\"blue\",\"red\"), \n",
    "        gene.selection=\"common\")\n",
    "\n",
    "plotMDS(y_sjc_voom, labels=Gender, top=500, col=ifelse(Gender==\"m\",\"blue\",\"red\"), \n",
    "        gene.selection=\"common\")\n",
    "\n",
    "fit_sjc <- lmFit(y_sjc_voom, design)\n",
    "fit_sjc <- eBayes(fit_sjc)\n",
    "\n",
    "sjc_sex_results          <- topTable(fit_sjc, coef='sex', number=nrow(y_voom))\n",
    "sjc_sex_results_refined  <- sjc_sex_results$adj.P.Val < 0.05 & abs(sjc_sex_results$logFC) > 1.5\n",
    "\n",
    "table(sjc_sex_results_refined)"
   ]
  },
  {
   "cell_type": "markdown",
   "metadata": {},
   "source": [
    "## Differential analysis as_event (combined ijc and sjc)\n",
    "\n",
    "Differential Analysis (DE) was performed using voom (Law et.al., 2014) to transform junction counts (reads that were aligned to junctions when an exon is included - ijc, and reads that were aligned to junctions when the exon is excluded - sjc) with associated precision weights, followed by linear modeling and empirical Bayes procedure using limma.    In each tissue, the following linear regression model was used to detec secually dimorphic alternative splicing event expression: \n",
    "\n",
    "           y = B0 + B1 sex + B2 as_event + B3 sex*as_event + epsilon (error)\n",
    "           \n",
    "\n",
    "where y is the alternative splicing event expression; sex denotes the reported sex of the subject, as_event represents the specific alternative splicing event - either included exon junction counts or skipped exon junction counts and their interaction terms.   Donor is added to our model as a blocking variable used in both the calculation of duplicate correlation as well as in the linear fit."
   ]
  },
  {
   "cell_type": "code",
   "execution_count": null,
   "metadata": {},
   "outputs": [],
   "source": [
    "ijc_names    <- as.character(colnames(ijc))\n",
    "sjc_names    <- as.character(colnames(sjc))\n",
    "sample_names <- as.character(colnames(ijc))\n",
    "\n",
    "ijc_names <- paste0(ijc_names,\"-ijc\")\n",
    "sjc_names <- paste0(sjc_names,\"-sjc\")\n",
    "colnames(ijc) <- ijc_names\n",
    "colnames(sjc) <- sjc_names\n",
    "\n",
    "as_matrix <- cbind(ijc,sjc)\n",
    "sex       <- c(rep(reduced.meta.data$sex,2))\n",
    "sex       <- factor(sex, levels=c('male','female'))\n",
    "as_event  <- c(rep(\"ijc\",dim(ijc)[2]), rep(\"sjc\", dim(sjc)[2]))\n",
    "as_event  <- factor(as_event, levels=c(\"ijc\", \"sjc\"))\n",
    "\n",
    "# we will add donor as a blocking parameter\n",
    "donor    <- rep(sample_names, 2)\n",
    "\n",
    "design    <- model.matrix( ~ sex + as_event + sex*as_event )\n",
    "\n",
    "colnames(design) <- c(\"intercept\",\"sex\",\"as_event\",\"sex*as_event\")\n",
    "\n",
    "dim(as_matrix)\n",
    "table(sex)\n",
    "table(as_event)\n",
    "head(design)"
   ]
  },
  {
   "cell_type": "markdown",
   "metadata": {},
   "source": [
    "### Voom, limma's lmFit and eBayes\n",
    "\n",
    "Using sample as a blocking variable, we are able to model the effects of the donor on the results, which improves the power.  This topic is discussed in biostars https://www.biostars.org/p/54565/.  And Gordon Smyth answers the question here https://mailman.stat.ethz.ch/pipermail/bioconductor/2014-February/057887.html.  The method of modeling is a random effects approach in which the intra-donor correlation is incorporated into the covariance matrix instead of the linear predictor.   And though as Gordon Smyth states both are good method and the twoway anova approach makes fewer assumptions, the random effects approach is statistically more powerful.  \n",
    "\n",
    "We have a balanced design in which all donors receive all stimuli (which is really in healthy human donors, life and all of its factors!) Our measurement has so many points -- we are measuring in the skipped exon approach, 42,611 junctions!   It is not possible to encorporate those measurements into the linear predictor.  A two-way ANOVA approach is virtually as powerful as the random effects approach \n",
    "and hence is preferable as it makes fewer assumptions.\n",
    "\n",
    "For an unbalanced design in which each donor receives only a subset of the stimula, the random effects approach is more powerful.\n",
    "\n",
    "Random effects approach is equivalent to The first method is twoway anova, a generalization of a paired analysis.\n"
   ]
  },
  {
   "cell_type": "code",
   "execution_count": null,
   "metadata": {},
   "outputs": [],
   "source": [
    "# we will model as random effects, represented as a block\n",
    "donor    <- rep(sample_names, 2)\n",
    "length(donor)"
   ]
  },
  {
   "cell_type": "code",
   "execution_count": 27,
   "metadata": {},
   "outputs": [
    {
     "data": {
      "text/html": [
       "0.185977569902876"
      ],
      "text/latex": [
       "0.185977569902876"
      ],
      "text/markdown": [
       "0.185977569902876"
      ],
      "text/plain": [
       "[1] 0.1859776"
      ]
     },
     "metadata": {},
     "output_type": "display_data"
    }
   ],
   "source": [
    "y <- DGEList(counts=as_matrix, group = sex)\n",
    "y <- calcNormFactors(y, method=\"upperquartile\")\n",
    "y_voom <- voom (y, design=design)\n",
    "\n",
    "dup_cor <- duplicateCorrelation(y_voom$E, design=design, ndups=2, block=donor, weights=y$samples$norm.factors)\n",
    "dup_cor$consensus.correlation"
   ]
  },
  {
   "cell_type": "code",
   "execution_count": 28,
   "metadata": {},
   "outputs": [
    {
     "data": {
      "image/png": "[encoded data removed]",
      "text/plain": [
       "Plot with title “voom: Mean-variance trend”"
      ]
     },
     "metadata": {
      "image/png": {
       "height": 420,
       "width": 420
      },
      "text/plain": {
       "height": 420,
       "width": 420
      }
     },
     "output_type": "display_data"
    }
   ],
   "source": [
    "y_dup_voom <- voom (y, design=design, plot = TRUE, block = donor, correlation = dup_cor$consensus.correlation)"
   ]
  },
  {
   "cell_type": "code",
   "execution_count": 29,
   "metadata": {},
   "outputs": [
    {
     "data": {
      "image/png": "[encoded data removed]",
      "text/plain": [
       "plot without title"
      ]
     },
     "metadata": {
      "image/png": {
       "height": 420,
       "width": 420
      },
      "text/plain": {
       "height": 420,
       "width": 420
      }
     },
     "output_type": "display_data"
    },
    {
     "data": {
      "image/png": "[encoded data removed]",
      "text/plain": [
       "plot without title"
      ]
     },
     "metadata": {
      "image/png": {
       "height": 420,
       "width": 420
      },
      "text/plain": {
       "height": 420,
       "width": 420
      }
     },
     "output_type": "display_data"
    },
    {
     "data": {
      "image/png": "[encoded data removed]",
      "text/plain": [
       "plot without title"
      ]
     },
     "metadata": {
      "image/png": {
       "height": 420,
       "width": 420
      },
      "text/plain": {
       "height": 420,
       "width": 420
      }
     },
     "output_type": "display_data"
    },
    {
     "data": {
      "image/png": "[encoded data removed]",
      "text/plain": [
       "plot without title"
      ]
     },
     "metadata": {
      "image/png": {
       "height": 420,
       "width": 420
      },
      "text/plain": {
       "height": 420,
       "width": 420
      }
     },
     "output_type": "display_data"
    }
   ],
   "source": [
    "Gender <- substring(sex[1:dim(ijc)[2]],1,1)\n",
    "\n",
    "plotMDS(y[,c(1:dim(ijc)[2])], labels=Gender, top=500, col=ifelse(Gender==\"m\",\"blue\",\"red\"), \n",
    "        gene.selection=\"common\")\n",
    "plotMDS(y_voom[,c(1:dim(ijc)[2])], labels=Gender, top=500, col=ifelse(Gender==\"m\",\"blue\",\"red\"), \n",
    "        gene.selection=\"common\")\n",
    "plotMDS(y_dup_voom[,c(1:dim(ijc)[2])], labels=Gender, top=500, col=ifelse(Gender==\"m\",\"blue\",\"red\"), \n",
    "        gene.selection=\"common\")\n",
    "plotMDS(y[,c((dim(ijc)[2]+1)):(dim(ijc)[2]+dim(sjc)[2])], labels=Gender, top=250, col=ifelse(Gender==\"m\",\"blue\",\"red\"), \n",
    "        gene.selection=\"common\")\n",
    "plotMDS(y_voom[,c((dim(ijc)[2]+1)):(dim(ijc)[2]+dim(sjc)[2])], labels=Gender, top=250, col=ifelse(Gender==\"m\",\"blue\",\"red\"), \n",
    "        gene.selection=\"common\")\n",
    "plotMDS(y_dup_voom[,c((dim(ijc)[2]+1):(dim(ijc)[2]+dim(sjc)[2]))], labels=Gender, top=250, col=ifelse(Gender==\"m\",\"blue\",\"red\"), \n",
    "        gene.selection=\"common\")"
   ]
  },
  {
   "cell_type": "code",
   "execution_count": 30,
   "metadata": {},
   "outputs": [],
   "source": [
    "fit <- lmFit(y_dup_voom, design=design, block=donor, correlation = dup_cor$consensus.correlation)\n",
    "fit <- eBayes(fit, robust=TRUE)"
   ]
  },
  {
   "cell_type": "code",
   "execution_count": 31,
   "metadata": {},
   "outputs": [
    {
     "data": {
      "text/plain": [
       "sex_as_events_results_refined\n",
       "FALSE  TRUE \n",
       "42200   411 "
      ]
     },
     "metadata": {},
     "output_type": "display_data"
    },
    {
     "data": {
      "text/plain": [
       "sex_results_refined\n",
       "FALSE  TRUE \n",
       "42203   408 "
      ]
     },
     "metadata": {},
     "output_type": "display_data"
    }
   ],
   "source": [
    "sex_as_events_results         <- topTable(fit, coef=\"sex*as_event\", number=nrow(y_voom))\n",
    "sex_as_events_results_refined <- sex_as_events_results$adj.P.Val < 0.05 & abs(sex_as_events_results$logFC) > 1.5\n",
    "\n",
    "sex_results                   <- topTable(fit, coef=\"sex\", number=nrow(y_voom))\n",
    "sex_results_refined           <- sex_results$adj.P.Val < 0.05 & abs(sex_results$logFC) > 1.5\n",
    "\n",
    "table(sex_as_events_results_refined)\n",
    "table(sex_results_refined)"
   ]
  },
  {
   "cell_type": "markdown",
   "metadata": {},
   "source": [
    "#### fromGTF\n",
    "\n",
    "rMATS analyzes the gtf file and determines the junctions, identifying 10 matrices in all.  The fromGTF.SE.txt contains the annotation information and we can use this information to estimate the duplicate correlation effect from counting based upon the same gene with our ijc counts.  we will use this information, to obtain the gene information.\n"
   ]
  },
  {
   "cell_type": "code",
   "execution_count": 32,
   "metadata": {},
   "outputs": [
    {
     "name": "stderr",
     "output_type": "stream",
     "text": [
      "Fetching fromGTF.tar.gz from GitHub ..\n",
      "\n",
      "downloading fromGTF.tar.gz ...\n",
      "\n"
     ]
    },
    {
     "name": "stdout",
     "output_type": "stream",
     "text": [
      "  |======================================================================| 100%\n"
     ]
    },
    {
     "name": "stderr",
     "output_type": "stream",
     "text": [
      "Done!\n",
      "\n",
      "\n",
      "Decompressing fromGTF.tar.gz into ../data\n",
      "\n",
      "Done!\n",
      "\n",
      "\n",
      "Decompressing fromGTF.*.txt.gz into ../data\n",
      "\n",
      "Done!\n",
      "\n",
      "\n"
     ]
    },
    {
     "data": {
      "text/html": [
       "<table>\n",
       "<caption>A data.frame: 6 × 11</caption>\n",
       "<thead>\n",
       "\t<tr><th></th><th scope=col>ID</th><th scope=col>GeneID</th><th scope=col>geneSymbol</th><th scope=col>chr</th><th scope=col>strand</th><th scope=col>exonStart_0base</th><th scope=col>exonEnd</th><th scope=col>upstreamES</th><th scope=col>upstreamEE</th><th scope=col>downstreamES</th><th scope=col>downstreamEE</th></tr>\n",
       "\t<tr><th></th><th scope=col>&lt;int&gt;</th><th scope=col>&lt;fct&gt;</th><th scope=col>&lt;fct&gt;</th><th scope=col>&lt;fct&gt;</th><th scope=col>&lt;fct&gt;</th><th scope=col>&lt;int&gt;</th><th scope=col>&lt;int&gt;</th><th scope=col>&lt;int&gt;</th><th scope=col>&lt;int&gt;</th><th scope=col>&lt;int&gt;</th><th scope=col>&lt;int&gt;</th></tr>\n",
       "</thead>\n",
       "<tbody>\n",
       "\t<tr><th scope=row>1</th><td>1</td><td>ENSG00000034152.18</td><td>MAP2K3</td><td>chr17</td><td>+</td><td>21287990</td><td>21288091</td><td>21284709</td><td>21284969</td><td>21295674</td><td>21295769</td></tr>\n",
       "\t<tr><th scope=row>2</th><td>2</td><td>ENSG00000034152.18</td><td>MAP2K3</td><td>chr17</td><td>+</td><td>21303182</td><td>21303234</td><td>21302142</td><td>21302259</td><td>21304425</td><td>21304553</td></tr>\n",
       "\t<tr><th scope=row>3</th><td>3</td><td>ENSG00000034152.18</td><td>MAP2K3</td><td>chr17</td><td>+</td><td>21295674</td><td>21295769</td><td>21287990</td><td>21288091</td><td>21296085</td><td>21296143</td></tr>\n",
       "\t<tr><th scope=row>4</th><td>4</td><td>ENSG00000034152.18</td><td>MAP2K3</td><td>chr17</td><td>+</td><td>21295674</td><td>21295769</td><td>21287990</td><td>21288091</td><td>21298412</td><td>21298479</td></tr>\n",
       "\t<tr><th scope=row>5</th><td>5</td><td>ENSG00000034152.18</td><td>MAP2K3</td><td>chr17</td><td>+</td><td>21295674</td><td>21295769</td><td>21284710</td><td>21284969</td><td>21296085</td><td>21296143</td></tr>\n",
       "\t<tr><th scope=row>6</th><td>6</td><td>ENSG00000034152.18</td><td>MAP2K3</td><td>chr17</td><td>+</td><td>21295674</td><td>21295769</td><td>21284710</td><td>21284969</td><td>21298412</td><td>21298479</td></tr>\n",
       "</tbody>\n",
       "</table>\n"
      ],
      "text/latex": [
       "A data.frame: 6 × 11\n",
       "\\begin{tabular}{r|lllllllllll}\n",
       "  & ID & GeneID & geneSymbol & chr & strand & exonStart\\_0base & exonEnd & upstreamES & upstreamEE & downstreamES & downstreamEE\\\\\n",
       "  & <int> & <fct> & <fct> & <fct> & <fct> & <int> & <int> & <int> & <int> & <int> & <int>\\\\\n",
       "\\hline\n",
       "\t1 & 1 & ENSG00000034152.18 & MAP2K3 & chr17 & + & 21287990 & 21288091 & 21284709 & 21284969 & 21295674 & 21295769\\\\\n",
       "\t2 & 2 & ENSG00000034152.18 & MAP2K3 & chr17 & + & 21303182 & 21303234 & 21302142 & 21302259 & 21304425 & 21304553\\\\\n",
       "\t3 & 3 & ENSG00000034152.18 & MAP2K3 & chr17 & + & 21295674 & 21295769 & 21287990 & 21288091 & 21296085 & 21296143\\\\\n",
       "\t4 & 4 & ENSG00000034152.18 & MAP2K3 & chr17 & + & 21295674 & 21295769 & 21287990 & 21288091 & 21298412 & 21298479\\\\\n",
       "\t5 & 5 & ENSG00000034152.18 & MAP2K3 & chr17 & + & 21295674 & 21295769 & 21284710 & 21284969 & 21296085 & 21296143\\\\\n",
       "\t6 & 6 & ENSG00000034152.18 & MAP2K3 & chr17 & + & 21295674 & 21295769 & 21284710 & 21284969 & 21298412 & 21298479\\\\\n",
       "\\end{tabular}\n"
      ],
      "text/markdown": [
       "\n",
       "A data.frame: 6 × 11\n",
       "\n",
       "| <!--/--> | ID &lt;int&gt; | GeneID &lt;fct&gt; | geneSymbol &lt;fct&gt; | chr &lt;fct&gt; | strand &lt;fct&gt; | exonStart_0base &lt;int&gt; | exonEnd &lt;int&gt; | upstreamES &lt;int&gt; | upstreamEE &lt;int&gt; | downstreamES &lt;int&gt; | downstreamEE &lt;int&gt; |\n",
       "|---|---|---|---|---|---|---|---|---|---|---|---|\n",
       "| 1 | 1 | ENSG00000034152.18 | MAP2K3 | chr17 | + | 21287990 | 21288091 | 21284709 | 21284969 | 21295674 | 21295769 |\n",
       "| 2 | 2 | ENSG00000034152.18 | MAP2K3 | chr17 | + | 21303182 | 21303234 | 21302142 | 21302259 | 21304425 | 21304553 |\n",
       "| 3 | 3 | ENSG00000034152.18 | MAP2K3 | chr17 | + | 21295674 | 21295769 | 21287990 | 21288091 | 21296085 | 21296143 |\n",
       "| 4 | 4 | ENSG00000034152.18 | MAP2K3 | chr17 | + | 21295674 | 21295769 | 21287990 | 21288091 | 21298412 | 21298479 |\n",
       "| 5 | 5 | ENSG00000034152.18 | MAP2K3 | chr17 | + | 21295674 | 21295769 | 21284710 | 21284969 | 21296085 | 21296143 |\n",
       "| 6 | 6 | ENSG00000034152.18 | MAP2K3 | chr17 | + | 21295674 | 21295769 | 21284710 | 21284969 | 21298412 | 21298479 |\n",
       "\n"
      ],
      "text/plain": [
       "  ID GeneID             geneSymbol chr   strand exonStart_0base exonEnd \n",
       "1 1  ENSG00000034152.18 MAP2K3     chr17 +      21287990        21288091\n",
       "2 2  ENSG00000034152.18 MAP2K3     chr17 +      21303182        21303234\n",
       "3 3  ENSG00000034152.18 MAP2K3     chr17 +      21295674        21295769\n",
       "4 4  ENSG00000034152.18 MAP2K3     chr17 +      21295674        21295769\n",
       "5 5  ENSG00000034152.18 MAP2K3     chr17 +      21295674        21295769\n",
       "6 6  ENSG00000034152.18 MAP2K3     chr17 +      21295674        21295769\n",
       "  upstreamES upstreamEE downstreamES downstreamEE\n",
       "1 21284709   21284969   21295674     21295769    \n",
       "2 21302142   21302259   21304425     21304553    \n",
       "3 21287990   21288091   21296085     21296143    \n",
       "4 21287990   21288091   21298412     21298479    \n",
       "5 21284710   21284969   21296085     21296143    \n",
       "6 21284710   21284969   21298412     21298479    "
      ]
     },
     "metadata": {},
     "output_type": "display_data"
    },
    {
     "data": {
      "text/html": [
       "13390"
      ],
      "text/latex": [
       "13390"
      ],
      "text/markdown": [
       "13390"
      ],
      "text/plain": [
       "[1] 13390"
      ]
     },
     "metadata": {},
     "output_type": "display_data"
    }
   ],
   "source": [
    "# fromGTF.tar.gz\n",
    "if (! (file.exists(\"../data/fromGTF.tar.gz\"))) {\n",
    "    system(\"mkdir -p ../data\", intern = TRUE)\n",
    "    message(\"Fetching fromGTF.tar.gz from GitHub ..\")\n",
    "    # Download archive from GitHub release with tag \"dge\"\n",
    "    piggyback::pb_download(file = \"fromGTF.tar.gz\",\n",
    "                           dest = \"../data\",\n",
    "                           repo = \"adeslatt/sbas_gtf\",\n",
    "                           tag  = \"rMATS.3.2.5.gencode.v30\",\n",
    "                           show_progress = TRUE)\n",
    "    message(\"Done!\\n\")\n",
    "    message(\"Decompressing fromGTF.tar.gz into ../data\")\n",
    "    system(\"mkdir -p ../data && tar xvfz ../data/fromGTF.tar.gz -C ../data\", intern = TRUE)\n",
    "    message(\"Done!\\n\")\n",
    "    message(\"Decompressing fromGTF.*.txt.gz into ../data\")\n",
    "    system(\"gunzip  ../data/fromGTF*.txt.gz \", intern = TRUE)\n",
    "    message(\"Done!\\n\")\n",
    "}\n",
    "fromGTF.SE <- read.table(\"../data/fromGTF.SE.txt\", header=TRUE)\n",
    "head(fromGTF.SE)\n",
    "genes <- factor(fromGTF.SE$geneSymbol)\n",
    "length(levels(genes))"
   ]
  },
  {
   "cell_type": "code",
   "execution_count": 33,
   "metadata": {},
   "outputs": [
    {
     "data": {
      "text/html": [
       "<table>\n",
       "<caption>A data.frame: 6 × 6</caption>\n",
       "<thead>\n",
       "\t<tr><th></th><th scope=col>logFC</th><th scope=col>AveExpr</th><th scope=col>t</th><th scope=col>P.Value</th><th scope=col>adj.P.Val</th><th scope=col>B</th></tr>\n",
       "\t<tr><th></th><th scope=col>&lt;dbl&gt;</th><th scope=col>&lt;dbl&gt;</th><th scope=col>&lt;dbl&gt;</th><th scope=col>&lt;dbl&gt;</th><th scope=col>&lt;dbl&gt;</th><th scope=col>&lt;dbl&gt;</th></tr>\n",
       "</thead>\n",
       "<tbody>\n",
       "\t<tr><th scope=row>19076</th><td>5.882004</td><td>0.4623452</td><td>59.93929</td><td>3.249431e-198</td><td>1.384615e-193</td><td>432.7360</td></tr>\n",
       "\t<tr><th scope=row>5965</th><td>6.095896</td><td>0.5974117</td><td>58.21383</td><td>8.730492e-194</td><td>1.860075e-189</td><td>423.1656</td></tr>\n",
       "\t<tr><th scope=row>19070</th><td>5.434536</td><td>0.3502684</td><td>55.61250</td><td>6.602101e-187</td><td>9.377404e-183</td><td>408.1777</td></tr>\n",
       "\t<tr><th scope=row>5962</th><td>5.908174</td><td>0.6820468</td><td>50.96963</td><td>5.496989e-174</td><td>5.855805e-170</td><td>380.0420</td></tr>\n",
       "\t<tr><th scope=row>6300</th><td>5.497805</td><td>0.7601863</td><td>43.29996</td><td>1.270316e-150</td><td>1.082589e-146</td><td>328.4099</td></tr>\n",
       "\t<tr><th scope=row>34357</th><td>5.636847</td><td>1.4625119</td><td>42.43349</td><td>8.258637e-148</td><td>5.865146e-144</td><td>321.4354</td></tr>\n",
       "</tbody>\n",
       "</table>\n"
      ],
      "text/latex": [
       "A data.frame: 6 × 6\n",
       "\\begin{tabular}{r|llllll}\n",
       "  & logFC & AveExpr & t & P.Value & adj.P.Val & B\\\\\n",
       "  & <dbl> & <dbl> & <dbl> & <dbl> & <dbl> & <dbl>\\\\\n",
       "\\hline\n",
       "\t19076 & 5.882004 & 0.4623452 & 59.93929 & 3.249431e-198 & 1.384615e-193 & 432.7360\\\\\n",
       "\t5965 & 6.095896 & 0.5974117 & 58.21383 & 8.730492e-194 & 1.860075e-189 & 423.1656\\\\\n",
       "\t19070 & 5.434536 & 0.3502684 & 55.61250 & 6.602101e-187 & 9.377404e-183 & 408.1777\\\\\n",
       "\t5962 & 5.908174 & 0.6820468 & 50.96963 & 5.496989e-174 & 5.855805e-170 & 380.0420\\\\\n",
       "\t6300 & 5.497805 & 0.7601863 & 43.29996 & 1.270316e-150 & 1.082589e-146 & 328.4099\\\\\n",
       "\t34357 & 5.636847 & 1.4625119 & 42.43349 & 8.258637e-148 & 5.865146e-144 & 321.4354\\\\\n",
       "\\end{tabular}\n"
      ],
      "text/markdown": [
       "\n",
       "A data.frame: 6 × 6\n",
       "\n",
       "| <!--/--> | logFC &lt;dbl&gt; | AveExpr &lt;dbl&gt; | t &lt;dbl&gt; | P.Value &lt;dbl&gt; | adj.P.Val &lt;dbl&gt; | B &lt;dbl&gt; |\n",
       "|---|---|---|---|---|---|---|\n",
       "| 19076 | 5.882004 | 0.4623452 | 59.93929 | 3.249431e-198 | 1.384615e-193 | 432.7360 |\n",
       "| 5965 | 6.095896 | 0.5974117 | 58.21383 | 8.730492e-194 | 1.860075e-189 | 423.1656 |\n",
       "| 19070 | 5.434536 | 0.3502684 | 55.61250 | 6.602101e-187 | 9.377404e-183 | 408.1777 |\n",
       "| 5962 | 5.908174 | 0.6820468 | 50.96963 | 5.496989e-174 | 5.855805e-170 | 380.0420 |\n",
       "| 6300 | 5.497805 | 0.7601863 | 43.29996 | 1.270316e-150 | 1.082589e-146 | 328.4099 |\n",
       "| 34357 | 5.636847 | 1.4625119 | 42.43349 | 8.258637e-148 | 5.865146e-144 | 321.4354 |\n",
       "\n"
      ],
      "text/plain": [
       "      logFC    AveExpr   t        P.Value       adj.P.Val     B       \n",
       "19076 5.882004 0.4623452 59.93929 3.249431e-198 1.384615e-193 432.7360\n",
       "5965  6.095896 0.5974117 58.21383 8.730492e-194 1.860075e-189 423.1656\n",
       "19070 5.434536 0.3502684 55.61250 6.602101e-187 9.377404e-183 408.1777\n",
       "5962  5.908174 0.6820468 50.96963 5.496989e-174 5.855805e-170 380.0420\n",
       "6300  5.497805 0.7601863 43.29996 1.270316e-150 1.082589e-146 328.4099\n",
       "34357 5.636847 1.4625119 42.43349 8.258637e-148 5.865146e-144 321.4354"
      ]
     },
     "metadata": {},
     "output_type": "display_data"
    }
   ],
   "source": [
    "head(sex_as_events_results)"
   ]
  },
  {
   "cell_type": "code",
   "execution_count": 34,
   "metadata": {},
   "outputs": [
    {
     "data": {
      "text/html": [
       "<style>\n",
       ".list-inline {list-style: none; margin:0; padding: 0}\n",
       ".list-inline>li {display: inline-block}\n",
       ".list-inline>li:not(:last-child)::after {content: \"\\00b7\"; padding: 0 .5ex}\n",
       "</style>\n",
       "<ol class=list-inline><li>'19076'</li><li>'5965'</li><li>'19070'</li><li>'5962'</li><li>'6300'</li><li>'34357'</li></ol>\n"
      ],
      "text/latex": [
       "\\begin{enumerate*}\n",
       "\\item '19076'\n",
       "\\item '5965'\n",
       "\\item '19070'\n",
       "\\item '5962'\n",
       "\\item '6300'\n",
       "\\item '34357'\n",
       "\\end{enumerate*}\n"
      ],
      "text/markdown": [
       "1. '19076'\n",
       "2. '5965'\n",
       "3. '19070'\n",
       "4. '5962'\n",
       "5. '6300'\n",
       "6. '34357'\n",
       "\n",
       "\n"
      ],
      "text/plain": [
       "[1] \"19076\" \"5965\"  \"19070\" \"5962\"  \"6300\"  \"34357\""
      ]
     },
     "metadata": {},
     "output_type": "display_data"
    },
    {
     "data": {
      "text/html": [
       "<style>\n",
       ".list-inline {list-style: none; margin:0; padding: 0}\n",
       ".list-inline>li {display: inline-block}\n",
       ".list-inline>li:not(:last-child)::after {content: \"\\00b7\"; padding: 0 .5ex}\n",
       "</style>\n",
       "<ol class=list-inline><li>'19070'</li><li>'19076'</li><li>'5965'</li><li>'34357'</li><li>'5962'</li><li>'6300'</li></ol>\n"
      ],
      "text/latex": [
       "\\begin{enumerate*}\n",
       "\\item '19070'\n",
       "\\item '19076'\n",
       "\\item '5965'\n",
       "\\item '34357'\n",
       "\\item '5962'\n",
       "\\item '6300'\n",
       "\\end{enumerate*}\n"
      ],
      "text/markdown": [
       "1. '19070'\n",
       "2. '19076'\n",
       "3. '5965'\n",
       "4. '34357'\n",
       "5. '5962'\n",
       "6. '6300'\n",
       "\n",
       "\n"
      ],
      "text/plain": [
       "[1] \"19070\" \"19076\" \"5965\"  \"34357\" \"5962\"  \"6300\" "
      ]
     },
     "metadata": {},
     "output_type": "display_data"
    },
    {
     "data": {
      "text/html": [
       "<style>\n",
       ".list-inline {list-style: none; margin:0; padding: 0}\n",
       ".list-inline>li {display: inline-block}\n",
       ".list-inline>li:not(:last-child)::after {content: \"\\00b7\"; padding: 0 .5ex}\n",
       "</style>\n",
       "<ol class=list-inline><li>'28712'</li><li>'5964'</li><li>'10150'</li><li>'19072'</li><li>'10152'</li><li>'10151'</li></ol>\n"
      ],
      "text/latex": [
       "\\begin{enumerate*}\n",
       "\\item '28712'\n",
       "\\item '5964'\n",
       "\\item '10150'\n",
       "\\item '19072'\n",
       "\\item '10152'\n",
       "\\item '10151'\n",
       "\\end{enumerate*}\n"
      ],
      "text/markdown": [
       "1. '28712'\n",
       "2. '5964'\n",
       "3. '10150'\n",
       "4. '19072'\n",
       "5. '10152'\n",
       "6. '10151'\n",
       "\n",
       "\n"
      ],
      "text/plain": [
       "[1] \"28712\" \"5964\"  \"10150\" \"19072\" \"10152\" \"10151\""
      ]
     },
     "metadata": {},
     "output_type": "display_data"
    },
    {
     "data": {
      "text/html": [
       "<style>\n",
       ".list-inline {list-style: none; margin:0; padding: 0}\n",
       ".list-inline>li {display: inline-block}\n",
       ".list-inline>li:not(:last-child)::after {content: \"\\00b7\"; padding: 0 .5ex}\n",
       "</style>\n",
       "<ol class=list-inline><li>'10150'</li><li>'19076'</li><li>'5965'</li><li>'34357'</li><li>'5963'</li><li>'19070'</li></ol>\n"
      ],
      "text/latex": [
       "\\begin{enumerate*}\n",
       "\\item '10150'\n",
       "\\item '19076'\n",
       "\\item '5965'\n",
       "\\item '34357'\n",
       "\\item '5963'\n",
       "\\item '19070'\n",
       "\\end{enumerate*}\n"
      ],
      "text/markdown": [
       "1. '10150'\n",
       "2. '19076'\n",
       "3. '5965'\n",
       "4. '34357'\n",
       "5. '5963'\n",
       "6. '19070'\n",
       "\n",
       "\n"
      ],
      "text/plain": [
       "[1] \"10150\" \"19076\" \"5965\"  \"34357\" \"5963\"  \"19070\""
      ]
     },
     "metadata": {},
     "output_type": "display_data"
    },
    {
     "data": {
      "text/html": [
       "<table>\n",
       "<caption>A data.frame: 6 × 11</caption>\n",
       "<thead>\n",
       "\t<tr><th></th><th scope=col>ID</th><th scope=col>GeneID</th><th scope=col>geneSymbol</th><th scope=col>chr</th><th scope=col>strand</th><th scope=col>exonStart_0base</th><th scope=col>exonEnd</th><th scope=col>upstreamES</th><th scope=col>upstreamEE</th><th scope=col>downstreamES</th><th scope=col>downstreamEE</th></tr>\n",
       "\t<tr><th></th><th scope=col>&lt;int&gt;</th><th scope=col>&lt;fct&gt;</th><th scope=col>&lt;fct&gt;</th><th scope=col>&lt;fct&gt;</th><th scope=col>&lt;fct&gt;</th><th scope=col>&lt;int&gt;</th><th scope=col>&lt;int&gt;</th><th scope=col>&lt;int&gt;</th><th scope=col>&lt;int&gt;</th><th scope=col>&lt;int&gt;</th><th scope=col>&lt;int&gt;</th></tr>\n",
       "</thead>\n",
       "<tbody>\n",
       "\t<tr><th scope=row>19076</th><td>19076</td><td>ENSG00000183878.15</td><td>UTY   </td><td>chrY</td><td>-</td><td>13306037</td><td>13306112</td><td>13305398</td><td>13305547</td><td>13306185</td><td>13306250</td></tr>\n",
       "\t<tr><th scope=row>5965</th><td> 5965</td><td>ENSG00000012817.15</td><td>KDM5D </td><td>chrY</td><td>-</td><td>19741317</td><td>19741488</td><td>19739527</td><td>19739662</td><td>19741734</td><td>19741857</td></tr>\n",
       "\t<tr><th scope=row>19070</th><td>19070</td><td>ENSG00000183878.15</td><td>UTY   </td><td>chrY</td><td>-</td><td>13251016</td><td>13251187</td><td>13248378</td><td>13249882</td><td>13260277</td><td>13260404</td></tr>\n",
       "\t<tr><th scope=row>5962</th><td> 5962</td><td>ENSG00000012817.15</td><td>KDM5D </td><td>chrY</td><td>-</td><td>19741734</td><td>19741857</td><td>19741317</td><td>19741488</td><td>19743161</td><td>19743239</td></tr>\n",
       "\t<tr><th scope=row>6300</th><td> 6300</td><td>ENSG00000114374.13</td><td>USP9Y </td><td>chrY</td><td>+</td><td>12847238</td><td>12847327</td><td>12846932</td><td>12847153</td><td>12856339</td><td>12856496</td></tr>\n",
       "\t<tr><th scope=row>34357</th><td>34357</td><td>ENSG00000198692.10</td><td>EIF1AY</td><td>chrY</td><td>+</td><td>20584473</td><td>20584524</td><td>20582589</td><td>20582693</td><td>20588023</td><td>20588105</td></tr>\n",
       "</tbody>\n",
       "</table>\n"
      ],
      "text/latex": [
       "A data.frame: 6 × 11\n",
       "\\begin{tabular}{r|lllllllllll}\n",
       "  & ID & GeneID & geneSymbol & chr & strand & exonStart\\_0base & exonEnd & upstreamES & upstreamEE & downstreamES & downstreamEE\\\\\n",
       "  & <int> & <fct> & <fct> & <fct> & <fct> & <int> & <int> & <int> & <int> & <int> & <int>\\\\\n",
       "\\hline\n",
       "\t19076 & 19076 & ENSG00000183878.15 & UTY    & chrY & - & 13306037 & 13306112 & 13305398 & 13305547 & 13306185 & 13306250\\\\\n",
       "\t5965 &  5965 & ENSG00000012817.15 & KDM5D  & chrY & - & 19741317 & 19741488 & 19739527 & 19739662 & 19741734 & 19741857\\\\\n",
       "\t19070 & 19070 & ENSG00000183878.15 & UTY    & chrY & - & 13251016 & 13251187 & 13248378 & 13249882 & 13260277 & 13260404\\\\\n",
       "\t5962 &  5962 & ENSG00000012817.15 & KDM5D  & chrY & - & 19741734 & 19741857 & 19741317 & 19741488 & 19743161 & 19743239\\\\\n",
       "\t6300 &  6300 & ENSG00000114374.13 & USP9Y  & chrY & + & 12847238 & 12847327 & 12846932 & 12847153 & 12856339 & 12856496\\\\\n",
       "\t34357 & 34357 & ENSG00000198692.10 & EIF1AY & chrY & + & 20584473 & 20584524 & 20582589 & 20582693 & 20588023 & 20588105\\\\\n",
       "\\end{tabular}\n"
      ],
      "text/markdown": [
       "\n",
       "A data.frame: 6 × 11\n",
       "\n",
       "| <!--/--> | ID &lt;int&gt; | GeneID &lt;fct&gt; | geneSymbol &lt;fct&gt; | chr &lt;fct&gt; | strand &lt;fct&gt; | exonStart_0base &lt;int&gt; | exonEnd &lt;int&gt; | upstreamES &lt;int&gt; | upstreamEE &lt;int&gt; | downstreamES &lt;int&gt; | downstreamEE &lt;int&gt; |\n",
       "|---|---|---|---|---|---|---|---|---|---|---|---|\n",
       "| 19076 | 19076 | ENSG00000183878.15 | UTY    | chrY | - | 13306037 | 13306112 | 13305398 | 13305547 | 13306185 | 13306250 |\n",
       "| 5965 |  5965 | ENSG00000012817.15 | KDM5D  | chrY | - | 19741317 | 19741488 | 19739527 | 19739662 | 19741734 | 19741857 |\n",
       "| 19070 | 19070 | ENSG00000183878.15 | UTY    | chrY | - | 13251016 | 13251187 | 13248378 | 13249882 | 13260277 | 13260404 |\n",
       "| 5962 |  5962 | ENSG00000012817.15 | KDM5D  | chrY | - | 19741734 | 19741857 | 19741317 | 19741488 | 19743161 | 19743239 |\n",
       "| 6300 |  6300 | ENSG00000114374.13 | USP9Y  | chrY | + | 12847238 | 12847327 | 12846932 | 12847153 | 12856339 | 12856496 |\n",
       "| 34357 | 34357 | ENSG00000198692.10 | EIF1AY | chrY | + | 20584473 | 20584524 | 20582589 | 20582693 | 20588023 | 20588105 |\n",
       "\n"
      ],
      "text/plain": [
       "      ID    GeneID             geneSymbol chr  strand exonStart_0base exonEnd \n",
       "19076 19076 ENSG00000183878.15 UTY        chrY -      13306037        13306112\n",
       "5965   5965 ENSG00000012817.15 KDM5D      chrY -      19741317        19741488\n",
       "19070 19070 ENSG00000183878.15 UTY        chrY -      13251016        13251187\n",
       "5962   5962 ENSG00000012817.15 KDM5D      chrY -      19741734        19741857\n",
       "6300   6300 ENSG00000114374.13 USP9Y      chrY +      12847238        12847327\n",
       "34357 34357 ENSG00000198692.10 EIF1AY     chrY +      20584473        20584524\n",
       "      upstreamES upstreamEE downstreamES downstreamEE\n",
       "19076 13305398   13305547   13306185     13306250    \n",
       "5965  19739527   19739662   19741734     19741857    \n",
       "19070 13248378   13249882   13260277     13260404    \n",
       "5962  19741317   19741488   19743161     19743239    \n",
       "6300  12846932   12847153   12856339     12856496    \n",
       "34357 20582589   20582693   20588023     20588105    "
      ]
     },
     "metadata": {},
     "output_type": "display_data"
    }
   ],
   "source": [
    "# index to the annotations - these are the Junction IDs\n",
    "sex_as_events_rnResults <- rownames(sex_as_events_results)\n",
    "sex_rnResults           <- rownames(sex_results)\n",
    "ijc_sex_rnResults       <- rownames(ijc_sex_results)\n",
    "sjc_sex_rnResults       <- rownames(sjc_sex_results)\n",
    "head(sex_as_events_rnResults)\n",
    "head(ijc_sex_rnResults)\n",
    "head(sjc_sex_rnResults)\n",
    "head(sex_rnResults)\n",
    "head(fromGTF.SE[sex_as_events_rnResults,])"
   ]
  },
  {
   "cell_type": "code",
   "execution_count": 35,
   "metadata": {},
   "outputs": [
    {
     "data": {
      "text/html": [
       "<table>\n",
       "<caption>A data.frame: 6 × 11</caption>\n",
       "<thead>\n",
       "\t<tr><th></th><th scope=col>ID</th><th scope=col>GeneID</th><th scope=col>geneSymbol</th><th scope=col>chr</th><th scope=col>strand</th><th scope=col>exonStart_0base</th><th scope=col>exonEnd</th><th scope=col>upstreamES</th><th scope=col>upstreamEE</th><th scope=col>downstreamES</th><th scope=col>downstreamEE</th></tr>\n",
       "\t<tr><th></th><th scope=col>&lt;int&gt;</th><th scope=col>&lt;fct&gt;</th><th scope=col>&lt;fct&gt;</th><th scope=col>&lt;fct&gt;</th><th scope=col>&lt;fct&gt;</th><th scope=col>&lt;int&gt;</th><th scope=col>&lt;int&gt;</th><th scope=col>&lt;int&gt;</th><th scope=col>&lt;int&gt;</th><th scope=col>&lt;int&gt;</th><th scope=col>&lt;int&gt;</th></tr>\n",
       "</thead>\n",
       "<tbody>\n",
       "\t<tr><th scope=row>19076</th><td>19076</td><td>ENSG00000183878.15</td><td>UTY   </td><td>chrY</td><td>-</td><td>13306037</td><td>13306112</td><td>13305398</td><td>13305547</td><td>13306185</td><td>13306250</td></tr>\n",
       "\t<tr><th scope=row>5965</th><td> 5965</td><td>ENSG00000012817.15</td><td>KDM5D </td><td>chrY</td><td>-</td><td>19741317</td><td>19741488</td><td>19739527</td><td>19739662</td><td>19741734</td><td>19741857</td></tr>\n",
       "\t<tr><th scope=row>19070</th><td>19070</td><td>ENSG00000183878.15</td><td>UTY   </td><td>chrY</td><td>-</td><td>13251016</td><td>13251187</td><td>13248378</td><td>13249882</td><td>13260277</td><td>13260404</td></tr>\n",
       "\t<tr><th scope=row>5962</th><td> 5962</td><td>ENSG00000012817.15</td><td>KDM5D </td><td>chrY</td><td>-</td><td>19741734</td><td>19741857</td><td>19741317</td><td>19741488</td><td>19743161</td><td>19743239</td></tr>\n",
       "\t<tr><th scope=row>6300</th><td> 6300</td><td>ENSG00000114374.13</td><td>USP9Y </td><td>chrY</td><td>+</td><td>12847238</td><td>12847327</td><td>12846932</td><td>12847153</td><td>12856339</td><td>12856496</td></tr>\n",
       "\t<tr><th scope=row>34357</th><td>34357</td><td>ENSG00000198692.10</td><td>EIF1AY</td><td>chrY</td><td>+</td><td>20584473</td><td>20584524</td><td>20582589</td><td>20582693</td><td>20588023</td><td>20588105</td></tr>\n",
       "</tbody>\n",
       "</table>\n"
      ],
      "text/latex": [
       "A data.frame: 6 × 11\n",
       "\\begin{tabular}{r|lllllllllll}\n",
       "  & ID & GeneID & geneSymbol & chr & strand & exonStart\\_0base & exonEnd & upstreamES & upstreamEE & downstreamES & downstreamEE\\\\\n",
       "  & <int> & <fct> & <fct> & <fct> & <fct> & <int> & <int> & <int> & <int> & <int> & <int>\\\\\n",
       "\\hline\n",
       "\t19076 & 19076 & ENSG00000183878.15 & UTY    & chrY & - & 13306037 & 13306112 & 13305398 & 13305547 & 13306185 & 13306250\\\\\n",
       "\t5965 &  5965 & ENSG00000012817.15 & KDM5D  & chrY & - & 19741317 & 19741488 & 19739527 & 19739662 & 19741734 & 19741857\\\\\n",
       "\t19070 & 19070 & ENSG00000183878.15 & UTY    & chrY & - & 13251016 & 13251187 & 13248378 & 13249882 & 13260277 & 13260404\\\\\n",
       "\t5962 &  5962 & ENSG00000012817.15 & KDM5D  & chrY & - & 19741734 & 19741857 & 19741317 & 19741488 & 19743161 & 19743239\\\\\n",
       "\t6300 &  6300 & ENSG00000114374.13 & USP9Y  & chrY & + & 12847238 & 12847327 & 12846932 & 12847153 & 12856339 & 12856496\\\\\n",
       "\t34357 & 34357 & ENSG00000198692.10 & EIF1AY & chrY & + & 20584473 & 20584524 & 20582589 & 20582693 & 20588023 & 20588105\\\\\n",
       "\\end{tabular}\n"
      ],
      "text/markdown": [
       "\n",
       "A data.frame: 6 × 11\n",
       "\n",
       "| <!--/--> | ID &lt;int&gt; | GeneID &lt;fct&gt; | geneSymbol &lt;fct&gt; | chr &lt;fct&gt; | strand &lt;fct&gt; | exonStart_0base &lt;int&gt; | exonEnd &lt;int&gt; | upstreamES &lt;int&gt; | upstreamEE &lt;int&gt; | downstreamES &lt;int&gt; | downstreamEE &lt;int&gt; |\n",
       "|---|---|---|---|---|---|---|---|---|---|---|---|\n",
       "| 19076 | 19076 | ENSG00000183878.15 | UTY    | chrY | - | 13306037 | 13306112 | 13305398 | 13305547 | 13306185 | 13306250 |\n",
       "| 5965 |  5965 | ENSG00000012817.15 | KDM5D  | chrY | - | 19741317 | 19741488 | 19739527 | 19739662 | 19741734 | 19741857 |\n",
       "| 19070 | 19070 | ENSG00000183878.15 | UTY    | chrY | - | 13251016 | 13251187 | 13248378 | 13249882 | 13260277 | 13260404 |\n",
       "| 5962 |  5962 | ENSG00000012817.15 | KDM5D  | chrY | - | 19741734 | 19741857 | 19741317 | 19741488 | 19743161 | 19743239 |\n",
       "| 6300 |  6300 | ENSG00000114374.13 | USP9Y  | chrY | + | 12847238 | 12847327 | 12846932 | 12847153 | 12856339 | 12856496 |\n",
       "| 34357 | 34357 | ENSG00000198692.10 | EIF1AY | chrY | + | 20584473 | 20584524 | 20582589 | 20582693 | 20588023 | 20588105 |\n",
       "\n"
      ],
      "text/plain": [
       "      ID    GeneID             geneSymbol chr  strand exonStart_0base exonEnd \n",
       "19076 19076 ENSG00000183878.15 UTY        chrY -      13306037        13306112\n",
       "5965   5965 ENSG00000012817.15 KDM5D      chrY -      19741317        19741488\n",
       "19070 19070 ENSG00000183878.15 UTY        chrY -      13251016        13251187\n",
       "5962   5962 ENSG00000012817.15 KDM5D      chrY -      19741734        19741857\n",
       "6300   6300 ENSG00000114374.13 USP9Y      chrY +      12847238        12847327\n",
       "34357 34357 ENSG00000198692.10 EIF1AY     chrY +      20584473        20584524\n",
       "      upstreamES upstreamEE downstreamES downstreamEE\n",
       "19076 13305398   13305547   13306185     13306250    \n",
       "5965  19739527   19739662   19741734     19741857    \n",
       "19070 13248378   13249882   13260277     13260404    \n",
       "5962  19741317   19741488   19743161     19743239    \n",
       "6300  12846932   12847153   12856339     12856496    \n",
       "34357 20582589   20582693   20588023     20588105    "
      ]
     },
     "metadata": {},
     "output_type": "display_data"
    },
    {
     "data": {
      "text/html": [
       "<table>\n",
       "<caption>A data.frame: 6 × 11</caption>\n",
       "<thead>\n",
       "\t<tr><th></th><th scope=col>ID</th><th scope=col>GeneID</th><th scope=col>geneSymbol</th><th scope=col>chr</th><th scope=col>strand</th><th scope=col>exonStart_0base</th><th scope=col>exonEnd</th><th scope=col>upstreamES</th><th scope=col>upstreamEE</th><th scope=col>downstreamES</th><th scope=col>downstreamEE</th></tr>\n",
       "\t<tr><th></th><th scope=col>&lt;int&gt;</th><th scope=col>&lt;fct&gt;</th><th scope=col>&lt;fct&gt;</th><th scope=col>&lt;fct&gt;</th><th scope=col>&lt;fct&gt;</th><th scope=col>&lt;int&gt;</th><th scope=col>&lt;int&gt;</th><th scope=col>&lt;int&gt;</th><th scope=col>&lt;int&gt;</th><th scope=col>&lt;int&gt;</th><th scope=col>&lt;int&gt;</th></tr>\n",
       "</thead>\n",
       "<tbody>\n",
       "\t<tr><th scope=row>10150</th><td>10150</td><td>ENSG00000229807.11</td><td>XIST  </td><td>chrX</td><td>-</td><td>73833237</td><td>73833374</td><td>73831065</td><td>73831274</td><td>73837439</td><td>73841474</td></tr>\n",
       "\t<tr><th scope=row>19076</th><td>19076</td><td>ENSG00000183878.15</td><td>UTY   </td><td>chrY</td><td>-</td><td>13306037</td><td>13306112</td><td>13305398</td><td>13305547</td><td>13306185</td><td>13306250</td></tr>\n",
       "\t<tr><th scope=row>5965</th><td> 5965</td><td>ENSG00000012817.15</td><td>KDM5D </td><td>chrY</td><td>-</td><td>19741317</td><td>19741488</td><td>19739527</td><td>19739662</td><td>19741734</td><td>19741857</td></tr>\n",
       "\t<tr><th scope=row>34357</th><td>34357</td><td>ENSG00000198692.10</td><td>EIF1AY</td><td>chrY</td><td>+</td><td>20584473</td><td>20584524</td><td>20582589</td><td>20582693</td><td>20588023</td><td>20588105</td></tr>\n",
       "\t<tr><th scope=row>5963</th><td> 5963</td><td>ENSG00000012817.15</td><td>KDM5D </td><td>chrY</td><td>-</td><td>19739527</td><td>19739662</td><td>19735620</td><td>19735750</td><td>19741317</td><td>19741488</td></tr>\n",
       "\t<tr><th scope=row>19070</th><td>19070</td><td>ENSG00000183878.15</td><td>UTY   </td><td>chrY</td><td>-</td><td>13251016</td><td>13251187</td><td>13248378</td><td>13249882</td><td>13260277</td><td>13260404</td></tr>\n",
       "</tbody>\n",
       "</table>\n"
      ],
      "text/latex": [
       "A data.frame: 6 × 11\n",
       "\\begin{tabular}{r|lllllllllll}\n",
       "  & ID & GeneID & geneSymbol & chr & strand & exonStart\\_0base & exonEnd & upstreamES & upstreamEE & downstreamES & downstreamEE\\\\\n",
       "  & <int> & <fct> & <fct> & <fct> & <fct> & <int> & <int> & <int> & <int> & <int> & <int>\\\\\n",
       "\\hline\n",
       "\t10150 & 10150 & ENSG00000229807.11 & XIST   & chrX & - & 73833237 & 73833374 & 73831065 & 73831274 & 73837439 & 73841474\\\\\n",
       "\t19076 & 19076 & ENSG00000183878.15 & UTY    & chrY & - & 13306037 & 13306112 & 13305398 & 13305547 & 13306185 & 13306250\\\\\n",
       "\t5965 &  5965 & ENSG00000012817.15 & KDM5D  & chrY & - & 19741317 & 19741488 & 19739527 & 19739662 & 19741734 & 19741857\\\\\n",
       "\t34357 & 34357 & ENSG00000198692.10 & EIF1AY & chrY & + & 20584473 & 20584524 & 20582589 & 20582693 & 20588023 & 20588105\\\\\n",
       "\t5963 &  5963 & ENSG00000012817.15 & KDM5D  & chrY & - & 19739527 & 19739662 & 19735620 & 19735750 & 19741317 & 19741488\\\\\n",
       "\t19070 & 19070 & ENSG00000183878.15 & UTY    & chrY & - & 13251016 & 13251187 & 13248378 & 13249882 & 13260277 & 13260404\\\\\n",
       "\\end{tabular}\n"
      ],
      "text/markdown": [
       "\n",
       "A data.frame: 6 × 11\n",
       "\n",
       "| <!--/--> | ID &lt;int&gt; | GeneID &lt;fct&gt; | geneSymbol &lt;fct&gt; | chr &lt;fct&gt; | strand &lt;fct&gt; | exonStart_0base &lt;int&gt; | exonEnd &lt;int&gt; | upstreamES &lt;int&gt; | upstreamEE &lt;int&gt; | downstreamES &lt;int&gt; | downstreamEE &lt;int&gt; |\n",
       "|---|---|---|---|---|---|---|---|---|---|---|---|\n",
       "| 10150 | 10150 | ENSG00000229807.11 | XIST   | chrX | - | 73833237 | 73833374 | 73831065 | 73831274 | 73837439 | 73841474 |\n",
       "| 19076 | 19076 | ENSG00000183878.15 | UTY    | chrY | - | 13306037 | 13306112 | 13305398 | 13305547 | 13306185 | 13306250 |\n",
       "| 5965 |  5965 | ENSG00000012817.15 | KDM5D  | chrY | - | 19741317 | 19741488 | 19739527 | 19739662 | 19741734 | 19741857 |\n",
       "| 34357 | 34357 | ENSG00000198692.10 | EIF1AY | chrY | + | 20584473 | 20584524 | 20582589 | 20582693 | 20588023 | 20588105 |\n",
       "| 5963 |  5963 | ENSG00000012817.15 | KDM5D  | chrY | - | 19739527 | 19739662 | 19735620 | 19735750 | 19741317 | 19741488 |\n",
       "| 19070 | 19070 | ENSG00000183878.15 | UTY    | chrY | - | 13251016 | 13251187 | 13248378 | 13249882 | 13260277 | 13260404 |\n",
       "\n"
      ],
      "text/plain": [
       "      ID    GeneID             geneSymbol chr  strand exonStart_0base exonEnd \n",
       "10150 10150 ENSG00000229807.11 XIST       chrX -      73833237        73833374\n",
       "19076 19076 ENSG00000183878.15 UTY        chrY -      13306037        13306112\n",
       "5965   5965 ENSG00000012817.15 KDM5D      chrY -      19741317        19741488\n",
       "34357 34357 ENSG00000198692.10 EIF1AY     chrY +      20584473        20584524\n",
       "5963   5963 ENSG00000012817.15 KDM5D      chrY -      19739527        19739662\n",
       "19070 19070 ENSG00000183878.15 UTY        chrY -      13251016        13251187\n",
       "      upstreamES upstreamEE downstreamES downstreamEE\n",
       "10150 73831065   73831274   73837439     73841474    \n",
       "19076 13305398   13305547   13306185     13306250    \n",
       "5965  19739527   19739662   19741734     19741857    \n",
       "34357 20582589   20582693   20588023     20588105    \n",
       "5963  19735620   19735750   19741317     19741488    \n",
       "19070 13248378   13249882   13260277     13260404    "
      ]
     },
     "metadata": {},
     "output_type": "display_data"
    },
    {
     "data": {
      "text/html": [
       "<table>\n",
       "<caption>A data.frame: 6 × 11</caption>\n",
       "<thead>\n",
       "\t<tr><th></th><th scope=col>ID</th><th scope=col>GeneID</th><th scope=col>geneSymbol</th><th scope=col>chr</th><th scope=col>strand</th><th scope=col>exonStart_0base</th><th scope=col>exonEnd</th><th scope=col>upstreamES</th><th scope=col>upstreamEE</th><th scope=col>downstreamES</th><th scope=col>downstreamEE</th></tr>\n",
       "\t<tr><th></th><th scope=col>&lt;int&gt;</th><th scope=col>&lt;fct&gt;</th><th scope=col>&lt;fct&gt;</th><th scope=col>&lt;fct&gt;</th><th scope=col>&lt;fct&gt;</th><th scope=col>&lt;int&gt;</th><th scope=col>&lt;int&gt;</th><th scope=col>&lt;int&gt;</th><th scope=col>&lt;int&gt;</th><th scope=col>&lt;int&gt;</th><th scope=col>&lt;int&gt;</th></tr>\n",
       "</thead>\n",
       "<tbody>\n",
       "\t<tr><th scope=row>19070</th><td>19070</td><td>ENSG00000183878.15</td><td>UTY   </td><td>chrY</td><td>-</td><td>13251016</td><td>13251187</td><td>13248378</td><td>13249882</td><td>13260277</td><td>13260404</td></tr>\n",
       "\t<tr><th scope=row>19076</th><td>19076</td><td>ENSG00000183878.15</td><td>UTY   </td><td>chrY</td><td>-</td><td>13306037</td><td>13306112</td><td>13305398</td><td>13305547</td><td>13306185</td><td>13306250</td></tr>\n",
       "\t<tr><th scope=row>5965</th><td> 5965</td><td>ENSG00000012817.15</td><td>KDM5D </td><td>chrY</td><td>-</td><td>19741317</td><td>19741488</td><td>19739527</td><td>19739662</td><td>19741734</td><td>19741857</td></tr>\n",
       "\t<tr><th scope=row>34357</th><td>34357</td><td>ENSG00000198692.10</td><td>EIF1AY</td><td>chrY</td><td>+</td><td>20584473</td><td>20584524</td><td>20582589</td><td>20582693</td><td>20588023</td><td>20588105</td></tr>\n",
       "\t<tr><th scope=row>5962</th><td> 5962</td><td>ENSG00000012817.15</td><td>KDM5D </td><td>chrY</td><td>-</td><td>19741734</td><td>19741857</td><td>19741317</td><td>19741488</td><td>19743161</td><td>19743239</td></tr>\n",
       "\t<tr><th scope=row>6300</th><td> 6300</td><td>ENSG00000114374.13</td><td>USP9Y </td><td>chrY</td><td>+</td><td>12847238</td><td>12847327</td><td>12846932</td><td>12847153</td><td>12856339</td><td>12856496</td></tr>\n",
       "</tbody>\n",
       "</table>\n"
      ],
      "text/latex": [
       "A data.frame: 6 × 11\n",
       "\\begin{tabular}{r|lllllllllll}\n",
       "  & ID & GeneID & geneSymbol & chr & strand & exonStart\\_0base & exonEnd & upstreamES & upstreamEE & downstreamES & downstreamEE\\\\\n",
       "  & <int> & <fct> & <fct> & <fct> & <fct> & <int> & <int> & <int> & <int> & <int> & <int>\\\\\n",
       "\\hline\n",
       "\t19070 & 19070 & ENSG00000183878.15 & UTY    & chrY & - & 13251016 & 13251187 & 13248378 & 13249882 & 13260277 & 13260404\\\\\n",
       "\t19076 & 19076 & ENSG00000183878.15 & UTY    & chrY & - & 13306037 & 13306112 & 13305398 & 13305547 & 13306185 & 13306250\\\\\n",
       "\t5965 &  5965 & ENSG00000012817.15 & KDM5D  & chrY & - & 19741317 & 19741488 & 19739527 & 19739662 & 19741734 & 19741857\\\\\n",
       "\t34357 & 34357 & ENSG00000198692.10 & EIF1AY & chrY & + & 20584473 & 20584524 & 20582589 & 20582693 & 20588023 & 20588105\\\\\n",
       "\t5962 &  5962 & ENSG00000012817.15 & KDM5D  & chrY & - & 19741734 & 19741857 & 19741317 & 19741488 & 19743161 & 19743239\\\\\n",
       "\t6300 &  6300 & ENSG00000114374.13 & USP9Y  & chrY & + & 12847238 & 12847327 & 12846932 & 12847153 & 12856339 & 12856496\\\\\n",
       "\\end{tabular}\n"
      ],
      "text/markdown": [
       "\n",
       "A data.frame: 6 × 11\n",
       "\n",
       "| <!--/--> | ID &lt;int&gt; | GeneID &lt;fct&gt; | geneSymbol &lt;fct&gt; | chr &lt;fct&gt; | strand &lt;fct&gt; | exonStart_0base &lt;int&gt; | exonEnd &lt;int&gt; | upstreamES &lt;int&gt; | upstreamEE &lt;int&gt; | downstreamES &lt;int&gt; | downstreamEE &lt;int&gt; |\n",
       "|---|---|---|---|---|---|---|---|---|---|---|---|\n",
       "| 19070 | 19070 | ENSG00000183878.15 | UTY    | chrY | - | 13251016 | 13251187 | 13248378 | 13249882 | 13260277 | 13260404 |\n",
       "| 19076 | 19076 | ENSG00000183878.15 | UTY    | chrY | - | 13306037 | 13306112 | 13305398 | 13305547 | 13306185 | 13306250 |\n",
       "| 5965 |  5965 | ENSG00000012817.15 | KDM5D  | chrY | - | 19741317 | 19741488 | 19739527 | 19739662 | 19741734 | 19741857 |\n",
       "| 34357 | 34357 | ENSG00000198692.10 | EIF1AY | chrY | + | 20584473 | 20584524 | 20582589 | 20582693 | 20588023 | 20588105 |\n",
       "| 5962 |  5962 | ENSG00000012817.15 | KDM5D  | chrY | - | 19741734 | 19741857 | 19741317 | 19741488 | 19743161 | 19743239 |\n",
       "| 6300 |  6300 | ENSG00000114374.13 | USP9Y  | chrY | + | 12847238 | 12847327 | 12846932 | 12847153 | 12856339 | 12856496 |\n",
       "\n"
      ],
      "text/plain": [
       "      ID    GeneID             geneSymbol chr  strand exonStart_0base exonEnd \n",
       "19070 19070 ENSG00000183878.15 UTY        chrY -      13251016        13251187\n",
       "19076 19076 ENSG00000183878.15 UTY        chrY -      13306037        13306112\n",
       "5965   5965 ENSG00000012817.15 KDM5D      chrY -      19741317        19741488\n",
       "34357 34357 ENSG00000198692.10 EIF1AY     chrY +      20584473        20584524\n",
       "5962   5962 ENSG00000012817.15 KDM5D      chrY -      19741734        19741857\n",
       "6300   6300 ENSG00000114374.13 USP9Y      chrY +      12847238        12847327\n",
       "      upstreamES upstreamEE downstreamES downstreamEE\n",
       "19070 13248378   13249882   13260277     13260404    \n",
       "19076 13305398   13305547   13306185     13306250    \n",
       "5965  19739527   19739662   19741734     19741857    \n",
       "34357 20582589   20582693   20588023     20588105    \n",
       "5962  19741317   19741488   19743161     19743239    \n",
       "6300  12846932   12847153   12856339     12856496    "
      ]
     },
     "metadata": {},
     "output_type": "display_data"
    },
    {
     "data": {
      "text/html": [
       "<table>\n",
       "<caption>A data.frame: 6 × 11</caption>\n",
       "<thead>\n",
       "\t<tr><th></th><th scope=col>ID</th><th scope=col>GeneID</th><th scope=col>geneSymbol</th><th scope=col>chr</th><th scope=col>strand</th><th scope=col>exonStart_0base</th><th scope=col>exonEnd</th><th scope=col>upstreamES</th><th scope=col>upstreamEE</th><th scope=col>downstreamES</th><th scope=col>downstreamEE</th></tr>\n",
       "\t<tr><th></th><th scope=col>&lt;int&gt;</th><th scope=col>&lt;fct&gt;</th><th scope=col>&lt;fct&gt;</th><th scope=col>&lt;fct&gt;</th><th scope=col>&lt;fct&gt;</th><th scope=col>&lt;int&gt;</th><th scope=col>&lt;int&gt;</th><th scope=col>&lt;int&gt;</th><th scope=col>&lt;int&gt;</th><th scope=col>&lt;int&gt;</th><th scope=col>&lt;int&gt;</th></tr>\n",
       "</thead>\n",
       "<tbody>\n",
       "\t<tr><th scope=row>28712</th><td>28712</td><td>ENSG00000131002.12</td><td>TXLNGY</td><td>chrY</td><td>+</td><td>19598551</td><td>19598639</td><td>19597356</td><td>19597665</td><td>19599738</td><td>19599831</td></tr>\n",
       "\t<tr><th scope=row>5964</th><td> 5964</td><td>ENSG00000012817.15</td><td>KDM5D </td><td>chrY</td><td>-</td><td>19723340</td><td>19723433</td><td>19721129</td><td>19721311</td><td>19731771</td><td>19731930</td></tr>\n",
       "\t<tr><th scope=row>10150</th><td>10150</td><td>ENSG00000229807.11</td><td>XIST  </td><td>chrX</td><td>-</td><td>73833237</td><td>73833374</td><td>73831065</td><td>73831274</td><td>73837439</td><td>73841474</td></tr>\n",
       "\t<tr><th scope=row>19072</th><td>19072</td><td>ENSG00000183878.15</td><td>UTY   </td><td>chrY</td><td>-</td><td>13354785</td><td>13354833</td><td>13335562</td><td>13336335</td><td>13355002</td><td>13355398</td></tr>\n",
       "\t<tr><th scope=row>10152</th><td>10152</td><td>ENSG00000229807.11</td><td>XIST  </td><td>chrX</td><td>-</td><td>73830622</td><td>73830790</td><td>73829067</td><td>73829231</td><td>73831065</td><td>73831210</td></tr>\n",
       "\t<tr><th scope=row>10151</th><td>10151</td><td>ENSG00000229807.11</td><td>XIST  </td><td>chrX</td><td>-</td><td>73822070</td><td>73822233</td><td>73820655</td><td>73821029</td><td>73826114</td><td>73826301</td></tr>\n",
       "</tbody>\n",
       "</table>\n"
      ],
      "text/latex": [
       "A data.frame: 6 × 11\n",
       "\\begin{tabular}{r|lllllllllll}\n",
       "  & ID & GeneID & geneSymbol & chr & strand & exonStart\\_0base & exonEnd & upstreamES & upstreamEE & downstreamES & downstreamEE\\\\\n",
       "  & <int> & <fct> & <fct> & <fct> & <fct> & <int> & <int> & <int> & <int> & <int> & <int>\\\\\n",
       "\\hline\n",
       "\t28712 & 28712 & ENSG00000131002.12 & TXLNGY & chrY & + & 19598551 & 19598639 & 19597356 & 19597665 & 19599738 & 19599831\\\\\n",
       "\t5964 &  5964 & ENSG00000012817.15 & KDM5D  & chrY & - & 19723340 & 19723433 & 19721129 & 19721311 & 19731771 & 19731930\\\\\n",
       "\t10150 & 10150 & ENSG00000229807.11 & XIST   & chrX & - & 73833237 & 73833374 & 73831065 & 73831274 & 73837439 & 73841474\\\\\n",
       "\t19072 & 19072 & ENSG00000183878.15 & UTY    & chrY & - & 13354785 & 13354833 & 13335562 & 13336335 & 13355002 & 13355398\\\\\n",
       "\t10152 & 10152 & ENSG00000229807.11 & XIST   & chrX & - & 73830622 & 73830790 & 73829067 & 73829231 & 73831065 & 73831210\\\\\n",
       "\t10151 & 10151 & ENSG00000229807.11 & XIST   & chrX & - & 73822070 & 73822233 & 73820655 & 73821029 & 73826114 & 73826301\\\\\n",
       "\\end{tabular}\n"
      ],
      "text/markdown": [
       "\n",
       "A data.frame: 6 × 11\n",
       "\n",
       "| <!--/--> | ID &lt;int&gt; | GeneID &lt;fct&gt; | geneSymbol &lt;fct&gt; | chr &lt;fct&gt; | strand &lt;fct&gt; | exonStart_0base &lt;int&gt; | exonEnd &lt;int&gt; | upstreamES &lt;int&gt; | upstreamEE &lt;int&gt; | downstreamES &lt;int&gt; | downstreamEE &lt;int&gt; |\n",
       "|---|---|---|---|---|---|---|---|---|---|---|---|\n",
       "| 28712 | 28712 | ENSG00000131002.12 | TXLNGY | chrY | + | 19598551 | 19598639 | 19597356 | 19597665 | 19599738 | 19599831 |\n",
       "| 5964 |  5964 | ENSG00000012817.15 | KDM5D  | chrY | - | 19723340 | 19723433 | 19721129 | 19721311 | 19731771 | 19731930 |\n",
       "| 10150 | 10150 | ENSG00000229807.11 | XIST   | chrX | - | 73833237 | 73833374 | 73831065 | 73831274 | 73837439 | 73841474 |\n",
       "| 19072 | 19072 | ENSG00000183878.15 | UTY    | chrY | - | 13354785 | 13354833 | 13335562 | 13336335 | 13355002 | 13355398 |\n",
       "| 10152 | 10152 | ENSG00000229807.11 | XIST   | chrX | - | 73830622 | 73830790 | 73829067 | 73829231 | 73831065 | 73831210 |\n",
       "| 10151 | 10151 | ENSG00000229807.11 | XIST   | chrX | - | 73822070 | 73822233 | 73820655 | 73821029 | 73826114 | 73826301 |\n",
       "\n"
      ],
      "text/plain": [
       "      ID    GeneID             geneSymbol chr  strand exonStart_0base exonEnd \n",
       "28712 28712 ENSG00000131002.12 TXLNGY     chrY +      19598551        19598639\n",
       "5964   5964 ENSG00000012817.15 KDM5D      chrY -      19723340        19723433\n",
       "10150 10150 ENSG00000229807.11 XIST       chrX -      73833237        73833374\n",
       "19072 19072 ENSG00000183878.15 UTY        chrY -      13354785        13354833\n",
       "10152 10152 ENSG00000229807.11 XIST       chrX -      73830622        73830790\n",
       "10151 10151 ENSG00000229807.11 XIST       chrX -      73822070        73822233\n",
       "      upstreamES upstreamEE downstreamES downstreamEE\n",
       "28712 19597356   19597665   19599738     19599831    \n",
       "5964  19721129   19721311   19731771     19731930    \n",
       "10150 73831065   73831274   73837439     73841474    \n",
       "19072 13335562   13336335   13355002     13355398    \n",
       "10152 73829067   73829231   73831065     73831210    \n",
       "10151 73820655   73821029   73826114     73826301    "
      ]
     },
     "metadata": {},
     "output_type": "display_data"
    }
   ],
   "source": [
    "# use the junctionIDs to get the annotations\n",
    "sex_as_events_resultsAnnotations      <- fromGTF.SE[sex_as_events_rnResults,]\n",
    "sex_resultsAnnotations                <- fromGTF.SE[sex_rnResults,]\n",
    "ijc_sex_resultsAnnotations            <- fromGTF.SE[ijc_sex_rnResults,]\n",
    "sjc_sex_resultsAnnotations            <- fromGTF.SE[sjc_sex_rnResults,]\n",
    "head(sex_as_events_resultsAnnotations)\n",
    "head(sex_resultsAnnotations)\n",
    "head(ijc_sex_resultsAnnotations)\n",
    "head(sjc_sex_resultsAnnotations)"
   ]
  },
  {
   "cell_type": "code",
   "execution_count": 36,
   "metadata": {},
   "outputs": [
    {
     "data": {
      "text/html": [
       "<table>\n",
       "<caption>A data.frame: 6 × 11</caption>\n",
       "<thead>\n",
       "\t<tr><th></th><th scope=col>ID</th><th scope=col>GeneID</th><th scope=col>geneSymbol</th><th scope=col>chr</th><th scope=col>strand</th><th scope=col>exonStart_0base</th><th scope=col>exonEnd</th><th scope=col>upstreamES</th><th scope=col>upstreamEE</th><th scope=col>downstreamES</th><th scope=col>downstreamEE</th></tr>\n",
       "\t<tr><th></th><th scope=col>&lt;int&gt;</th><th scope=col>&lt;fct&gt;</th><th scope=col>&lt;fct&gt;</th><th scope=col>&lt;fct&gt;</th><th scope=col>&lt;fct&gt;</th><th scope=col>&lt;int&gt;</th><th scope=col>&lt;int&gt;</th><th scope=col>&lt;int&gt;</th><th scope=col>&lt;int&gt;</th><th scope=col>&lt;int&gt;</th><th scope=col>&lt;int&gt;</th></tr>\n",
       "</thead>\n",
       "<tbody>\n",
       "\t<tr><th scope=row>19076</th><td>19076</td><td>ENSG00000183878.15</td><td>UTY   </td><td>chrY</td><td>-</td><td>13306037</td><td>13306112</td><td>13305398</td><td>13305547</td><td>13306185</td><td>13306250</td></tr>\n",
       "\t<tr><th scope=row>5965</th><td> 5965</td><td>ENSG00000012817.15</td><td>KDM5D </td><td>chrY</td><td>-</td><td>19741317</td><td>19741488</td><td>19739527</td><td>19739662</td><td>19741734</td><td>19741857</td></tr>\n",
       "\t<tr><th scope=row>19070</th><td>19070</td><td>ENSG00000183878.15</td><td>UTY   </td><td>chrY</td><td>-</td><td>13251016</td><td>13251187</td><td>13248378</td><td>13249882</td><td>13260277</td><td>13260404</td></tr>\n",
       "\t<tr><th scope=row>5962</th><td> 5962</td><td>ENSG00000012817.15</td><td>KDM5D </td><td>chrY</td><td>-</td><td>19741734</td><td>19741857</td><td>19741317</td><td>19741488</td><td>19743161</td><td>19743239</td></tr>\n",
       "\t<tr><th scope=row>6300</th><td> 6300</td><td>ENSG00000114374.13</td><td>USP9Y </td><td>chrY</td><td>+</td><td>12847238</td><td>12847327</td><td>12846932</td><td>12847153</td><td>12856339</td><td>12856496</td></tr>\n",
       "\t<tr><th scope=row>34357</th><td>34357</td><td>ENSG00000198692.10</td><td>EIF1AY</td><td>chrY</td><td>+</td><td>20584473</td><td>20584524</td><td>20582589</td><td>20582693</td><td>20588023</td><td>20588105</td></tr>\n",
       "</tbody>\n",
       "</table>\n"
      ],
      "text/latex": [
       "A data.frame: 6 × 11\n",
       "\\begin{tabular}{r|lllllllllll}\n",
       "  & ID & GeneID & geneSymbol & chr & strand & exonStart\\_0base & exonEnd & upstreamES & upstreamEE & downstreamES & downstreamEE\\\\\n",
       "  & <int> & <fct> & <fct> & <fct> & <fct> & <int> & <int> & <int> & <int> & <int> & <int>\\\\\n",
       "\\hline\n",
       "\t19076 & 19076 & ENSG00000183878.15 & UTY    & chrY & - & 13306037 & 13306112 & 13305398 & 13305547 & 13306185 & 13306250\\\\\n",
       "\t5965 &  5965 & ENSG00000012817.15 & KDM5D  & chrY & - & 19741317 & 19741488 & 19739527 & 19739662 & 19741734 & 19741857\\\\\n",
       "\t19070 & 19070 & ENSG00000183878.15 & UTY    & chrY & - & 13251016 & 13251187 & 13248378 & 13249882 & 13260277 & 13260404\\\\\n",
       "\t5962 &  5962 & ENSG00000012817.15 & KDM5D  & chrY & - & 19741734 & 19741857 & 19741317 & 19741488 & 19743161 & 19743239\\\\\n",
       "\t6300 &  6300 & ENSG00000114374.13 & USP9Y  & chrY & + & 12847238 & 12847327 & 12846932 & 12847153 & 12856339 & 12856496\\\\\n",
       "\t34357 & 34357 & ENSG00000198692.10 & EIF1AY & chrY & + & 20584473 & 20584524 & 20582589 & 20582693 & 20588023 & 20588105\\\\\n",
       "\\end{tabular}\n"
      ],
      "text/markdown": [
       "\n",
       "A data.frame: 6 × 11\n",
       "\n",
       "| <!--/--> | ID &lt;int&gt; | GeneID &lt;fct&gt; | geneSymbol &lt;fct&gt; | chr &lt;fct&gt; | strand &lt;fct&gt; | exonStart_0base &lt;int&gt; | exonEnd &lt;int&gt; | upstreamES &lt;int&gt; | upstreamEE &lt;int&gt; | downstreamES &lt;int&gt; | downstreamEE &lt;int&gt; |\n",
       "|---|---|---|---|---|---|---|---|---|---|---|---|\n",
       "| 19076 | 19076 | ENSG00000183878.15 | UTY    | chrY | - | 13306037 | 13306112 | 13305398 | 13305547 | 13306185 | 13306250 |\n",
       "| 5965 |  5965 | ENSG00000012817.15 | KDM5D  | chrY | - | 19741317 | 19741488 | 19739527 | 19739662 | 19741734 | 19741857 |\n",
       "| 19070 | 19070 | ENSG00000183878.15 | UTY    | chrY | - | 13251016 | 13251187 | 13248378 | 13249882 | 13260277 | 13260404 |\n",
       "| 5962 |  5962 | ENSG00000012817.15 | KDM5D  | chrY | - | 19741734 | 19741857 | 19741317 | 19741488 | 19743161 | 19743239 |\n",
       "| 6300 |  6300 | ENSG00000114374.13 | USP9Y  | chrY | + | 12847238 | 12847327 | 12846932 | 12847153 | 12856339 | 12856496 |\n",
       "| 34357 | 34357 | ENSG00000198692.10 | EIF1AY | chrY | + | 20584473 | 20584524 | 20582589 | 20582693 | 20588023 | 20588105 |\n",
       "\n"
      ],
      "text/plain": [
       "      ID    GeneID             geneSymbol chr  strand exonStart_0base exonEnd \n",
       "19076 19076 ENSG00000183878.15 UTY        chrY -      13306037        13306112\n",
       "5965   5965 ENSG00000012817.15 KDM5D      chrY -      19741317        19741488\n",
       "19070 19070 ENSG00000183878.15 UTY        chrY -      13251016        13251187\n",
       "5962   5962 ENSG00000012817.15 KDM5D      chrY -      19741734        19741857\n",
       "6300   6300 ENSG00000114374.13 USP9Y      chrY +      12847238        12847327\n",
       "34357 34357 ENSG00000198692.10 EIF1AY     chrY +      20584473        20584524\n",
       "      upstreamES upstreamEE downstreamES downstreamEE\n",
       "19076 13305398   13305547   13306185     13306250    \n",
       "5965  19739527   19739662   19741734     19741857    \n",
       "19070 13248378   13249882   13260277     13260404    \n",
       "5962  19741317   19741488   19743161     19743239    \n",
       "6300  12846932   12847153   12856339     12856496    \n",
       "34357 20582589   20582693   20588023     20588105    "
      ]
     },
     "metadata": {},
     "output_type": "display_data"
    },
    {
     "data": {
      "text/html": [
       "<table>\n",
       "<caption>A data.frame: 6 × 11</caption>\n",
       "<thead>\n",
       "\t<tr><th></th><th scope=col>ID</th><th scope=col>GeneID</th><th scope=col>geneSymbol</th><th scope=col>chr</th><th scope=col>strand</th><th scope=col>exonStart_0base</th><th scope=col>exonEnd</th><th scope=col>upstreamES</th><th scope=col>upstreamEE</th><th scope=col>downstreamES</th><th scope=col>downstreamEE</th></tr>\n",
       "\t<tr><th></th><th scope=col>&lt;int&gt;</th><th scope=col>&lt;fct&gt;</th><th scope=col>&lt;fct&gt;</th><th scope=col>&lt;fct&gt;</th><th scope=col>&lt;fct&gt;</th><th scope=col>&lt;int&gt;</th><th scope=col>&lt;int&gt;</th><th scope=col>&lt;int&gt;</th><th scope=col>&lt;int&gt;</th><th scope=col>&lt;int&gt;</th><th scope=col>&lt;int&gt;</th></tr>\n",
       "</thead>\n",
       "<tbody>\n",
       "\t<tr><th scope=row>10150</th><td>10150</td><td>ENSG00000229807.11</td><td>XIST  </td><td>chrX</td><td>-</td><td>73833237</td><td>73833374</td><td>73831065</td><td>73831274</td><td>73837439</td><td>73841474</td></tr>\n",
       "\t<tr><th scope=row>19076</th><td>19076</td><td>ENSG00000183878.15</td><td>UTY   </td><td>chrY</td><td>-</td><td>13306037</td><td>13306112</td><td>13305398</td><td>13305547</td><td>13306185</td><td>13306250</td></tr>\n",
       "\t<tr><th scope=row>5965</th><td> 5965</td><td>ENSG00000012817.15</td><td>KDM5D </td><td>chrY</td><td>-</td><td>19741317</td><td>19741488</td><td>19739527</td><td>19739662</td><td>19741734</td><td>19741857</td></tr>\n",
       "\t<tr><th scope=row>34357</th><td>34357</td><td>ENSG00000198692.10</td><td>EIF1AY</td><td>chrY</td><td>+</td><td>20584473</td><td>20584524</td><td>20582589</td><td>20582693</td><td>20588023</td><td>20588105</td></tr>\n",
       "\t<tr><th scope=row>5963</th><td> 5963</td><td>ENSG00000012817.15</td><td>KDM5D </td><td>chrY</td><td>-</td><td>19739527</td><td>19739662</td><td>19735620</td><td>19735750</td><td>19741317</td><td>19741488</td></tr>\n",
       "\t<tr><th scope=row>19070</th><td>19070</td><td>ENSG00000183878.15</td><td>UTY   </td><td>chrY</td><td>-</td><td>13251016</td><td>13251187</td><td>13248378</td><td>13249882</td><td>13260277</td><td>13260404</td></tr>\n",
       "</tbody>\n",
       "</table>\n"
      ],
      "text/latex": [
       "A data.frame: 6 × 11\n",
       "\\begin{tabular}{r|lllllllllll}\n",
       "  & ID & GeneID & geneSymbol & chr & strand & exonStart\\_0base & exonEnd & upstreamES & upstreamEE & downstreamES & downstreamEE\\\\\n",
       "  & <int> & <fct> & <fct> & <fct> & <fct> & <int> & <int> & <int> & <int> & <int> & <int>\\\\\n",
       "\\hline\n",
       "\t10150 & 10150 & ENSG00000229807.11 & XIST   & chrX & - & 73833237 & 73833374 & 73831065 & 73831274 & 73837439 & 73841474\\\\\n",
       "\t19076 & 19076 & ENSG00000183878.15 & UTY    & chrY & - & 13306037 & 13306112 & 13305398 & 13305547 & 13306185 & 13306250\\\\\n",
       "\t5965 &  5965 & ENSG00000012817.15 & KDM5D  & chrY & - & 19741317 & 19741488 & 19739527 & 19739662 & 19741734 & 19741857\\\\\n",
       "\t34357 & 34357 & ENSG00000198692.10 & EIF1AY & chrY & + & 20584473 & 20584524 & 20582589 & 20582693 & 20588023 & 20588105\\\\\n",
       "\t5963 &  5963 & ENSG00000012817.15 & KDM5D  & chrY & - & 19739527 & 19739662 & 19735620 & 19735750 & 19741317 & 19741488\\\\\n",
       "\t19070 & 19070 & ENSG00000183878.15 & UTY    & chrY & - & 13251016 & 13251187 & 13248378 & 13249882 & 13260277 & 13260404\\\\\n",
       "\\end{tabular}\n"
      ],
      "text/markdown": [
       "\n",
       "A data.frame: 6 × 11\n",
       "\n",
       "| <!--/--> | ID &lt;int&gt; | GeneID &lt;fct&gt; | geneSymbol &lt;fct&gt; | chr &lt;fct&gt; | strand &lt;fct&gt; | exonStart_0base &lt;int&gt; | exonEnd &lt;int&gt; | upstreamES &lt;int&gt; | upstreamEE &lt;int&gt; | downstreamES &lt;int&gt; | downstreamEE &lt;int&gt; |\n",
       "|---|---|---|---|---|---|---|---|---|---|---|---|\n",
       "| 10150 | 10150 | ENSG00000229807.11 | XIST   | chrX | - | 73833237 | 73833374 | 73831065 | 73831274 | 73837439 | 73841474 |\n",
       "| 19076 | 19076 | ENSG00000183878.15 | UTY    | chrY | - | 13306037 | 13306112 | 13305398 | 13305547 | 13306185 | 13306250 |\n",
       "| 5965 |  5965 | ENSG00000012817.15 | KDM5D  | chrY | - | 19741317 | 19741488 | 19739527 | 19739662 | 19741734 | 19741857 |\n",
       "| 34357 | 34357 | ENSG00000198692.10 | EIF1AY | chrY | + | 20584473 | 20584524 | 20582589 | 20582693 | 20588023 | 20588105 |\n",
       "| 5963 |  5963 | ENSG00000012817.15 | KDM5D  | chrY | - | 19739527 | 19739662 | 19735620 | 19735750 | 19741317 | 19741488 |\n",
       "| 19070 | 19070 | ENSG00000183878.15 | UTY    | chrY | - | 13251016 | 13251187 | 13248378 | 13249882 | 13260277 | 13260404 |\n",
       "\n"
      ],
      "text/plain": [
       "      ID    GeneID             geneSymbol chr  strand exonStart_0base exonEnd \n",
       "10150 10150 ENSG00000229807.11 XIST       chrX -      73833237        73833374\n",
       "19076 19076 ENSG00000183878.15 UTY        chrY -      13306037        13306112\n",
       "5965   5965 ENSG00000012817.15 KDM5D      chrY -      19741317        19741488\n",
       "34357 34357 ENSG00000198692.10 EIF1AY     chrY +      20584473        20584524\n",
       "5963   5963 ENSG00000012817.15 KDM5D      chrY -      19739527        19739662\n",
       "19070 19070 ENSG00000183878.15 UTY        chrY -      13251016        13251187\n",
       "      upstreamES upstreamEE downstreamES downstreamEE\n",
       "10150 73831065   73831274   73837439     73841474    \n",
       "19076 13305398   13305547   13306185     13306250    \n",
       "5965  19739527   19739662   19741734     19741857    \n",
       "34357 20582589   20582693   20588023     20588105    \n",
       "5963  19735620   19735750   19741317     19741488    \n",
       "19070 13248378   13249882   13260277     13260404    "
      ]
     },
     "metadata": {},
     "output_type": "display_data"
    },
    {
     "data": {
      "text/html": [
       "<table>\n",
       "<caption>A data.frame: 6 × 11</caption>\n",
       "<thead>\n",
       "\t<tr><th></th><th scope=col>ID</th><th scope=col>GeneID</th><th scope=col>geneSymbol</th><th scope=col>chr</th><th scope=col>strand</th><th scope=col>exonStart_0base</th><th scope=col>exonEnd</th><th scope=col>upstreamES</th><th scope=col>upstreamEE</th><th scope=col>downstreamES</th><th scope=col>downstreamEE</th></tr>\n",
       "\t<tr><th></th><th scope=col>&lt;int&gt;</th><th scope=col>&lt;fct&gt;</th><th scope=col>&lt;fct&gt;</th><th scope=col>&lt;fct&gt;</th><th scope=col>&lt;fct&gt;</th><th scope=col>&lt;int&gt;</th><th scope=col>&lt;int&gt;</th><th scope=col>&lt;int&gt;</th><th scope=col>&lt;int&gt;</th><th scope=col>&lt;int&gt;</th><th scope=col>&lt;int&gt;</th></tr>\n",
       "</thead>\n",
       "<tbody>\n",
       "\t<tr><th scope=row>19070</th><td>19070</td><td>ENSG00000183878.15</td><td>UTY   </td><td>chrY</td><td>-</td><td>13251016</td><td>13251187</td><td>13248378</td><td>13249882</td><td>13260277</td><td>13260404</td></tr>\n",
       "\t<tr><th scope=row>19076</th><td>19076</td><td>ENSG00000183878.15</td><td>UTY   </td><td>chrY</td><td>-</td><td>13306037</td><td>13306112</td><td>13305398</td><td>13305547</td><td>13306185</td><td>13306250</td></tr>\n",
       "\t<tr><th scope=row>5965</th><td> 5965</td><td>ENSG00000012817.15</td><td>KDM5D </td><td>chrY</td><td>-</td><td>19741317</td><td>19741488</td><td>19739527</td><td>19739662</td><td>19741734</td><td>19741857</td></tr>\n",
       "\t<tr><th scope=row>34357</th><td>34357</td><td>ENSG00000198692.10</td><td>EIF1AY</td><td>chrY</td><td>+</td><td>20584473</td><td>20584524</td><td>20582589</td><td>20582693</td><td>20588023</td><td>20588105</td></tr>\n",
       "\t<tr><th scope=row>5962</th><td> 5962</td><td>ENSG00000012817.15</td><td>KDM5D </td><td>chrY</td><td>-</td><td>19741734</td><td>19741857</td><td>19741317</td><td>19741488</td><td>19743161</td><td>19743239</td></tr>\n",
       "\t<tr><th scope=row>6300</th><td> 6300</td><td>ENSG00000114374.13</td><td>USP9Y </td><td>chrY</td><td>+</td><td>12847238</td><td>12847327</td><td>12846932</td><td>12847153</td><td>12856339</td><td>12856496</td></tr>\n",
       "</tbody>\n",
       "</table>\n"
      ],
      "text/latex": [
       "A data.frame: 6 × 11\n",
       "\\begin{tabular}{r|lllllllllll}\n",
       "  & ID & GeneID & geneSymbol & chr & strand & exonStart\\_0base & exonEnd & upstreamES & upstreamEE & downstreamES & downstreamEE\\\\\n",
       "  & <int> & <fct> & <fct> & <fct> & <fct> & <int> & <int> & <int> & <int> & <int> & <int>\\\\\n",
       "\\hline\n",
       "\t19070 & 19070 & ENSG00000183878.15 & UTY    & chrY & - & 13251016 & 13251187 & 13248378 & 13249882 & 13260277 & 13260404\\\\\n",
       "\t19076 & 19076 & ENSG00000183878.15 & UTY    & chrY & - & 13306037 & 13306112 & 13305398 & 13305547 & 13306185 & 13306250\\\\\n",
       "\t5965 &  5965 & ENSG00000012817.15 & KDM5D  & chrY & - & 19741317 & 19741488 & 19739527 & 19739662 & 19741734 & 19741857\\\\\n",
       "\t34357 & 34357 & ENSG00000198692.10 & EIF1AY & chrY & + & 20584473 & 20584524 & 20582589 & 20582693 & 20588023 & 20588105\\\\\n",
       "\t5962 &  5962 & ENSG00000012817.15 & KDM5D  & chrY & - & 19741734 & 19741857 & 19741317 & 19741488 & 19743161 & 19743239\\\\\n",
       "\t6300 &  6300 & ENSG00000114374.13 & USP9Y  & chrY & + & 12847238 & 12847327 & 12846932 & 12847153 & 12856339 & 12856496\\\\\n",
       "\\end{tabular}\n"
      ],
      "text/markdown": [
       "\n",
       "A data.frame: 6 × 11\n",
       "\n",
       "| <!--/--> | ID &lt;int&gt; | GeneID &lt;fct&gt; | geneSymbol &lt;fct&gt; | chr &lt;fct&gt; | strand &lt;fct&gt; | exonStart_0base &lt;int&gt; | exonEnd &lt;int&gt; | upstreamES &lt;int&gt; | upstreamEE &lt;int&gt; | downstreamES &lt;int&gt; | downstreamEE &lt;int&gt; |\n",
       "|---|---|---|---|---|---|---|---|---|---|---|---|\n",
       "| 19070 | 19070 | ENSG00000183878.15 | UTY    | chrY | - | 13251016 | 13251187 | 13248378 | 13249882 | 13260277 | 13260404 |\n",
       "| 19076 | 19076 | ENSG00000183878.15 | UTY    | chrY | - | 13306037 | 13306112 | 13305398 | 13305547 | 13306185 | 13306250 |\n",
       "| 5965 |  5965 | ENSG00000012817.15 | KDM5D  | chrY | - | 19741317 | 19741488 | 19739527 | 19739662 | 19741734 | 19741857 |\n",
       "| 34357 | 34357 | ENSG00000198692.10 | EIF1AY | chrY | + | 20584473 | 20584524 | 20582589 | 20582693 | 20588023 | 20588105 |\n",
       "| 5962 |  5962 | ENSG00000012817.15 | KDM5D  | chrY | - | 19741734 | 19741857 | 19741317 | 19741488 | 19743161 | 19743239 |\n",
       "| 6300 |  6300 | ENSG00000114374.13 | USP9Y  | chrY | + | 12847238 | 12847327 | 12846932 | 12847153 | 12856339 | 12856496 |\n",
       "\n"
      ],
      "text/plain": [
       "      ID    GeneID             geneSymbol chr  strand exonStart_0base exonEnd \n",
       "19070 19070 ENSG00000183878.15 UTY        chrY -      13251016        13251187\n",
       "19076 19076 ENSG00000183878.15 UTY        chrY -      13306037        13306112\n",
       "5965   5965 ENSG00000012817.15 KDM5D      chrY -      19741317        19741488\n",
       "34357 34357 ENSG00000198692.10 EIF1AY     chrY +      20584473        20584524\n",
       "5962   5962 ENSG00000012817.15 KDM5D      chrY -      19741734        19741857\n",
       "6300   6300 ENSG00000114374.13 USP9Y      chrY +      12847238        12847327\n",
       "      upstreamES upstreamEE downstreamES downstreamEE\n",
       "19070 13248378   13249882   13260277     13260404    \n",
       "19076 13305398   13305547   13306185     13306250    \n",
       "5965  19739527   19739662   19741734     19741857    \n",
       "34357 20582589   20582693   20588023     20588105    \n",
       "5962  19741317   19741488   19743161     19743239    \n",
       "6300  12846932   12847153   12856339     12856496    "
      ]
     },
     "metadata": {},
     "output_type": "display_data"
    },
    {
     "data": {
      "text/html": [
       "<table>\n",
       "<caption>A data.frame: 6 × 11</caption>\n",
       "<thead>\n",
       "\t<tr><th></th><th scope=col>ID</th><th scope=col>GeneID</th><th scope=col>geneSymbol</th><th scope=col>chr</th><th scope=col>strand</th><th scope=col>exonStart_0base</th><th scope=col>exonEnd</th><th scope=col>upstreamES</th><th scope=col>upstreamEE</th><th scope=col>downstreamES</th><th scope=col>downstreamEE</th></tr>\n",
       "\t<tr><th></th><th scope=col>&lt;int&gt;</th><th scope=col>&lt;fct&gt;</th><th scope=col>&lt;fct&gt;</th><th scope=col>&lt;fct&gt;</th><th scope=col>&lt;fct&gt;</th><th scope=col>&lt;int&gt;</th><th scope=col>&lt;int&gt;</th><th scope=col>&lt;int&gt;</th><th scope=col>&lt;int&gt;</th><th scope=col>&lt;int&gt;</th><th scope=col>&lt;int&gt;</th></tr>\n",
       "</thead>\n",
       "<tbody>\n",
       "\t<tr><th scope=row>28712</th><td>28712</td><td>ENSG00000131002.12</td><td>TXLNGY</td><td>chrY</td><td>+</td><td>19598551</td><td>19598639</td><td>19597356</td><td>19597665</td><td>19599738</td><td>19599831</td></tr>\n",
       "\t<tr><th scope=row>5964</th><td> 5964</td><td>ENSG00000012817.15</td><td>KDM5D </td><td>chrY</td><td>-</td><td>19723340</td><td>19723433</td><td>19721129</td><td>19721311</td><td>19731771</td><td>19731930</td></tr>\n",
       "\t<tr><th scope=row>10150</th><td>10150</td><td>ENSG00000229807.11</td><td>XIST  </td><td>chrX</td><td>-</td><td>73833237</td><td>73833374</td><td>73831065</td><td>73831274</td><td>73837439</td><td>73841474</td></tr>\n",
       "\t<tr><th scope=row>19072</th><td>19072</td><td>ENSG00000183878.15</td><td>UTY   </td><td>chrY</td><td>-</td><td>13354785</td><td>13354833</td><td>13335562</td><td>13336335</td><td>13355002</td><td>13355398</td></tr>\n",
       "\t<tr><th scope=row>10152</th><td>10152</td><td>ENSG00000229807.11</td><td>XIST  </td><td>chrX</td><td>-</td><td>73830622</td><td>73830790</td><td>73829067</td><td>73829231</td><td>73831065</td><td>73831210</td></tr>\n",
       "\t<tr><th scope=row>10151</th><td>10151</td><td>ENSG00000229807.11</td><td>XIST  </td><td>chrX</td><td>-</td><td>73822070</td><td>73822233</td><td>73820655</td><td>73821029</td><td>73826114</td><td>73826301</td></tr>\n",
       "</tbody>\n",
       "</table>\n"
      ],
      "text/latex": [
       "A data.frame: 6 × 11\n",
       "\\begin{tabular}{r|lllllllllll}\n",
       "  & ID & GeneID & geneSymbol & chr & strand & exonStart\\_0base & exonEnd & upstreamES & upstreamEE & downstreamES & downstreamEE\\\\\n",
       "  & <int> & <fct> & <fct> & <fct> & <fct> & <int> & <int> & <int> & <int> & <int> & <int>\\\\\n",
       "\\hline\n",
       "\t28712 & 28712 & ENSG00000131002.12 & TXLNGY & chrY & + & 19598551 & 19598639 & 19597356 & 19597665 & 19599738 & 19599831\\\\\n",
       "\t5964 &  5964 & ENSG00000012817.15 & KDM5D  & chrY & - & 19723340 & 19723433 & 19721129 & 19721311 & 19731771 & 19731930\\\\\n",
       "\t10150 & 10150 & ENSG00000229807.11 & XIST   & chrX & - & 73833237 & 73833374 & 73831065 & 73831274 & 73837439 & 73841474\\\\\n",
       "\t19072 & 19072 & ENSG00000183878.15 & UTY    & chrY & - & 13354785 & 13354833 & 13335562 & 13336335 & 13355002 & 13355398\\\\\n",
       "\t10152 & 10152 & ENSG00000229807.11 & XIST   & chrX & - & 73830622 & 73830790 & 73829067 & 73829231 & 73831065 & 73831210\\\\\n",
       "\t10151 & 10151 & ENSG00000229807.11 & XIST   & chrX & - & 73822070 & 73822233 & 73820655 & 73821029 & 73826114 & 73826301\\\\\n",
       "\\end{tabular}\n"
      ],
      "text/markdown": [
       "\n",
       "A data.frame: 6 × 11\n",
       "\n",
       "| <!--/--> | ID &lt;int&gt; | GeneID &lt;fct&gt; | geneSymbol &lt;fct&gt; | chr &lt;fct&gt; | strand &lt;fct&gt; | exonStart_0base &lt;int&gt; | exonEnd &lt;int&gt; | upstreamES &lt;int&gt; | upstreamEE &lt;int&gt; | downstreamES &lt;int&gt; | downstreamEE &lt;int&gt; |\n",
       "|---|---|---|---|---|---|---|---|---|---|---|---|\n",
       "| 28712 | 28712 | ENSG00000131002.12 | TXLNGY | chrY | + | 19598551 | 19598639 | 19597356 | 19597665 | 19599738 | 19599831 |\n",
       "| 5964 |  5964 | ENSG00000012817.15 | KDM5D  | chrY | - | 19723340 | 19723433 | 19721129 | 19721311 | 19731771 | 19731930 |\n",
       "| 10150 | 10150 | ENSG00000229807.11 | XIST   | chrX | - | 73833237 | 73833374 | 73831065 | 73831274 | 73837439 | 73841474 |\n",
       "| 19072 | 19072 | ENSG00000183878.15 | UTY    | chrY | - | 13354785 | 13354833 | 13335562 | 13336335 | 13355002 | 13355398 |\n",
       "| 10152 | 10152 | ENSG00000229807.11 | XIST   | chrX | - | 73830622 | 73830790 | 73829067 | 73829231 | 73831065 | 73831210 |\n",
       "| 10151 | 10151 | ENSG00000229807.11 | XIST   | chrX | - | 73822070 | 73822233 | 73820655 | 73821029 | 73826114 | 73826301 |\n",
       "\n"
      ],
      "text/plain": [
       "      ID    GeneID             geneSymbol chr  strand exonStart_0base exonEnd \n",
       "28712 28712 ENSG00000131002.12 TXLNGY     chrY +      19598551        19598639\n",
       "5964   5964 ENSG00000012817.15 KDM5D      chrY -      19723340        19723433\n",
       "10150 10150 ENSG00000229807.11 XIST       chrX -      73833237        73833374\n",
       "19072 19072 ENSG00000183878.15 UTY        chrY -      13354785        13354833\n",
       "10152 10152 ENSG00000229807.11 XIST       chrX -      73830622        73830790\n",
       "10151 10151 ENSG00000229807.11 XIST       chrX -      73822070        73822233\n",
       "      upstreamES upstreamEE downstreamES downstreamEE\n",
       "28712 19597356   19597665   19599738     19599831    \n",
       "5964  19721129   19721311   19731771     19731930    \n",
       "10150 73831065   73831274   73837439     73841474    \n",
       "19072 13335562   13336335   13355002     13355398    \n",
       "10152 73829067   73829231   73831065     73831210    \n",
       "10151 73820655   73821029   73826114     73826301    "
      ]
     },
     "metadata": {},
     "output_type": "display_data"
    }
   ],
   "source": [
    "sex_as_events_results_refinedAnnotations<- sex_as_events_resultsAnnotations[sex_as_events_results_refined==TRUE,]\n",
    "sex_results_refinedAnnotations          <- sex_resultsAnnotations          [sex_results_refined          ==TRUE,]\n",
    "ijc_sex_results_refinedAnnotations      <- ijc_sex_resultsAnnotations      [ijc_sex_results_refined      ==TRUE,]\n",
    "sjc_sex_results_refinedAnnotations      <- sjc_sex_resultsAnnotations      [sjc_sex_results_refined      ==TRUE,]\n",
    "head(sex_as_events_results_refinedAnnotations)\n",
    "head(sex_results_refinedAnnotations)\n",
    "head(ijc_sex_results_refinedAnnotations)\n",
    "head(sjc_sex_results_refinedAnnotations)"
   ]
  },
  {
   "cell_type": "code",
   "execution_count": 37,
   "metadata": {},
   "outputs": [
    {
     "data": {
      "text/html": [
       "<style>\n",
       ".list-inline {list-style: none; margin:0; padding: 0}\n",
       ".list-inline>li {display: inline-block}\n",
       ".list-inline>li:not(:last-child)::after {content: \"\\00b7\"; padding: 0 .5ex}\n",
       "</style>\n",
       "<ol class=list-inline><li>'UTY-19076'</li><li>'KDM5D-5965'</li><li>'UTY-19070'</li><li>'KDM5D-5962'</li><li>'USP9Y-6300'</li><li>'EIF1AY-34357'</li></ol>\n"
      ],
      "text/latex": [
       "\\begin{enumerate*}\n",
       "\\item 'UTY-19076'\n",
       "\\item 'KDM5D-5965'\n",
       "\\item 'UTY-19070'\n",
       "\\item 'KDM5D-5962'\n",
       "\\item 'USP9Y-6300'\n",
       "\\item 'EIF1AY-34357'\n",
       "\\end{enumerate*}\n"
      ],
      "text/markdown": [
       "1. 'UTY-19076'\n",
       "2. 'KDM5D-5965'\n",
       "3. 'UTY-19070'\n",
       "4. 'KDM5D-5962'\n",
       "5. 'USP9Y-6300'\n",
       "6. 'EIF1AY-34357'\n",
       "\n",
       "\n"
      ],
      "text/plain": [
       "[1] \"UTY-19076\"    \"KDM5D-5965\"   \"UTY-19070\"    \"KDM5D-5962\"   \"USP9Y-6300\"  \n",
       "[6] \"EIF1AY-34357\""
      ]
     },
     "metadata": {},
     "output_type": "display_data"
    },
    {
     "data": {
      "text/html": [
       "<style>\n",
       ".list-inline {list-style: none; margin:0; padding: 0}\n",
       ".list-inline>li {display: inline-block}\n",
       ".list-inline>li:not(:last-child)::after {content: \"\\00b7\"; padding: 0 .5ex}\n",
       "</style>\n",
       "<ol class=list-inline><li>'XIST-10150'</li><li>'UTY-19076'</li><li>'KDM5D-5965'</li><li>'EIF1AY-34357'</li><li>'KDM5D-5963'</li><li>'UTY-19070'</li></ol>\n"
      ],
      "text/latex": [
       "\\begin{enumerate*}\n",
       "\\item 'XIST-10150'\n",
       "\\item 'UTY-19076'\n",
       "\\item 'KDM5D-5965'\n",
       "\\item 'EIF1AY-34357'\n",
       "\\item 'KDM5D-5963'\n",
       "\\item 'UTY-19070'\n",
       "\\end{enumerate*}\n"
      ],
      "text/markdown": [
       "1. 'XIST-10150'\n",
       "2. 'UTY-19076'\n",
       "3. 'KDM5D-5965'\n",
       "4. 'EIF1AY-34357'\n",
       "5. 'KDM5D-5963'\n",
       "6. 'UTY-19070'\n",
       "\n",
       "\n"
      ],
      "text/plain": [
       "[1] \"XIST-10150\"   \"UTY-19076\"    \"KDM5D-5965\"   \"EIF1AY-34357\" \"KDM5D-5963\"  \n",
       "[6] \"UTY-19070\"   "
      ]
     },
     "metadata": {},
     "output_type": "display_data"
    },
    {
     "data": {
      "text/html": [
       "<style>\n",
       ".list-inline {list-style: none; margin:0; padding: 0}\n",
       ".list-inline>li {display: inline-block}\n",
       ".list-inline>li:not(:last-child)::after {content: \"\\00b7\"; padding: 0 .5ex}\n",
       "</style>\n",
       "<ol class=list-inline><li>'UTY-19070'</li><li>'UTY-19076'</li><li>'KDM5D-5965'</li><li>'EIF1AY-34357'</li><li>'KDM5D-5962'</li><li>'USP9Y-6300'</li></ol>\n"
      ],
      "text/latex": [
       "\\begin{enumerate*}\n",
       "\\item 'UTY-19070'\n",
       "\\item 'UTY-19076'\n",
       "\\item 'KDM5D-5965'\n",
       "\\item 'EIF1AY-34357'\n",
       "\\item 'KDM5D-5962'\n",
       "\\item 'USP9Y-6300'\n",
       "\\end{enumerate*}\n"
      ],
      "text/markdown": [
       "1. 'UTY-19070'\n",
       "2. 'UTY-19076'\n",
       "3. 'KDM5D-5965'\n",
       "4. 'EIF1AY-34357'\n",
       "5. 'KDM5D-5962'\n",
       "6. 'USP9Y-6300'\n",
       "\n",
       "\n"
      ],
      "text/plain": [
       "[1] \"UTY-19070\"    \"UTY-19076\"    \"KDM5D-5965\"   \"EIF1AY-34357\" \"KDM5D-5962\"  \n",
       "[6] \"USP9Y-6300\"  "
      ]
     },
     "metadata": {},
     "output_type": "display_data"
    },
    {
     "data": {
      "text/html": [
       "<style>\n",
       ".list-inline {list-style: none; margin:0; padding: 0}\n",
       ".list-inline>li {display: inline-block}\n",
       ".list-inline>li:not(:last-child)::after {content: \"\\00b7\"; padding: 0 .5ex}\n",
       "</style>\n",
       "<ol class=list-inline><li>'TXLNGY-28712'</li><li>'KDM5D-5964'</li><li>'XIST-10150'</li><li>'UTY-19072'</li><li>'XIST-10152'</li><li>'XIST-10151'</li></ol>\n"
      ],
      "text/latex": [
       "\\begin{enumerate*}\n",
       "\\item 'TXLNGY-28712'\n",
       "\\item 'KDM5D-5964'\n",
       "\\item 'XIST-10150'\n",
       "\\item 'UTY-19072'\n",
       "\\item 'XIST-10152'\n",
       "\\item 'XIST-10151'\n",
       "\\end{enumerate*}\n"
      ],
      "text/markdown": [
       "1. 'TXLNGY-28712'\n",
       "2. 'KDM5D-5964'\n",
       "3. 'XIST-10150'\n",
       "4. 'UTY-19072'\n",
       "5. 'XIST-10152'\n",
       "6. 'XIST-10151'\n",
       "\n",
       "\n"
      ],
      "text/plain": [
       "[1] \"TXLNGY-28712\" \"KDM5D-5964\"   \"XIST-10150\"   \"UTY-19072\"    \"XIST-10152\"  \n",
       "[6] \"XIST-10151\"  "
      ]
     },
     "metadata": {},
     "output_type": "display_data"
    }
   ],
   "source": [
    "\n",
    "# geneSymbols are in the annotations\n",
    "sex_as_events_geneSymbols         <- sex_as_events_resultsAnnotations$geneSymbol\n",
    "sex_geneSymbols                   <- sex_resultsAnnotations$geneSymbol\n",
    "ijc_sex_geneSymbols               <- ijc_sex_resultsAnnotations$geneSymbol\n",
    "sjc_sex_geneSymbols               <- sjc_sex_resultsAnnotations$geneSymbol\n",
    "\n",
    "sex_as_events_refined_geneSymbols <- sex_as_events_results_refinedAnnotations$geneSymbol\n",
    "sex_refined_geneSymbols           <- sex_results_refinedAnnotations$geneSymbol\n",
    "ijc_sex_refined_geneSymbols       <- ijc_sex_results_refinedAnnotations$geneSymbol\n",
    "sjc_sex_refined_geneSymbols       <- sjc_sex_results_refinedAnnotations$geneSymbol\n",
    "\n",
    "# adjust the rownames to be the geneSymbols rather than junction IDs\n",
    "sex_as_events_results_rn   <- paste(sex_as_events_geneSymbols, sex_as_events_rnResults, sep=\"-\")\n",
    "sex_results_rn             <- paste(sex_geneSymbols,           sex_rnResults, sep=\"-\")\n",
    "ijc_sex_results_rn         <- paste(ijc_sex_geneSymbols,       ijc_sex_rnResults, sep=\"-\")\n",
    "sjc_sex_results_rn         <- paste(sjc_sex_geneSymbols,       sjc_sex_rnResults, sep=\"-\")\n",
    "\n",
    "head(sex_as_events_results_rn)\n",
    "head(sex_results_rn)\n",
    "head(ijc_sex_results_rn)\n",
    "head(sjc_sex_results_rn)\n"
   ]
  },
  {
   "cell_type": "code",
   "execution_count": 38,
   "metadata": {},
   "outputs": [],
   "source": [
    "rownames(sex_as_events_results) <- sex_as_events_results_rn\n",
    "rownames(sex_results)           <- sex_results_rn\n",
    "rownames(ijc_sex_results)       <- ijc_sex_results_rn\n",
    "rownames(sjc_sex_results)       <- sjc_sex_results_rn"
   ]
  },
  {
   "cell_type": "code",
   "execution_count": 39,
   "metadata": {},
   "outputs": [],
   "source": [
    "sex_as_events_filename         = paste(paste('../data/BreastMammaryTissue',collapse='.'),'_DGE_sex_as_events.csv',sep='')\n",
    "sex_filename                   = paste(paste('../data/BreastMammaryTissue',collapse='.'),'_DGE_sex.csv',sep='')\n",
    "ijc_sex_filename               = paste(paste('../data/BreastMammaryTissue',collapse='.'),'_DGE_ijc_sex.csv',sep='')\n",
    "sjc_sex_filename               = paste(paste('../data/BreastMammaryTissue',collapse='.'),'_DGE_sjc_sex.csv',sep='')\n",
    "\n",
    "sex_as_events_refined_filename = paste(paste('../data/BreastMammaryTissue',collapse='.'),'_DGE_sex_as_events_refined.csv',sep='')\n",
    "sex_refined_filename           = paste(paste('../data/BreastMammaryTissue',collapse='.'),'_DGE_sex_refined.csv',sep='')\n",
    "ijc_sex_refined_filename       = paste(paste('../data/BreastMammaryTissue',collapse='.'),'_DGE_ijc_sex_refined.csv',sep='')\n",
    "sjc_sex_refined_filename       = paste(paste('../data/BreastMammaryTissue',collapse='.'),'_DGE_sjc_sex_refined.csv',sep='')\n",
    "\n",
    "sex_as_events_genesFilename    = paste(paste('../data/BreastMammaryTissue',collapse='.'),'_sex_as_events_universe.txt',sep='')\n",
    "sex_genesFilename              = paste(paste('../data/BreastMammaryTissue',collapse='.'),'_sex_universe.txt',sep='')\n",
    "ijc_sex_genesFilename          = paste(paste('../data/BreastMammaryTissue',collapse='.'),'_ijc_sex_universe.txt',sep='')\n",
    "sjc_sex_genesFilename          = paste(paste('../data/BreastMammaryTissue',collapse='.'),'_sjc_sex_universe.txt',sep='')\n",
    "\n",
    "sex_as_events_refined_genesFilename = paste(paste('../data/BreastMammaryTissue',collapse='.'),'_sex_as_events_gene_set.txt',sep='')\n",
    "sex_refined_genesFilename           = paste(paste('../data/BreastMammaryTissue',collapse='.'),'_sex_gene_set.txt',sep='')\n",
    "ijc_sex_refined_genesFilename       = paste(paste('../data/BreastMammaryTissue',collapse='.'),'_ijc_sex_gene_set.txt',sep='')\n",
    "sjc_sex_refined_genesFilename       = paste(paste('../data/BreastMammaryTissue',collapse='.'),'_sjc_sex_gene_set.txt',sep='')\n"
   ]
  },
  {
   "cell_type": "code",
   "execution_count": 40,
   "metadata": {},
   "outputs": [],
   "source": [
    "write.table(sex_as_events_results, file = sex_as_events_filename, row.names = T, col.names = T, quote = F, sep = \",\")\n",
    "write.table(sex_results,           file = sex_filename          , row.names = T, col.names = T, quote = F, sep = \",\")\n",
    "write.table(ijc_sex_results,       file = ijc_sex_filename      , row.names = T, col.names = T, quote = F, sep = \",\")\n",
    "write.table(sjc_sex_results,       file = sjc_sex_filename      , row.names = T, col.names = T, quote = F, sep = \",\")\n",
    "\n",
    "write.table(sex_as_events_results[sex_as_events_results_refined,], file = sex_as_events_refined_filename, row.names = T, col.names = T, quote = F, sep = \",\")\n",
    "write.table(sex_results          [sex_results_refined          ,], file = sex_refined_filename          , row.names = T, col.names = T, quote = F, sep = \",\")\n",
    "write.table(ijc_sex_results      [ijc_sex_results_refined      ,], file = ijc_sex_refined_filename      , row.names = T, col.names = T, quote = F, sep = \",\")\n",
    "write.table(sjc_sex_results      [sjc_sex_results_refined      ,], file = sjc_sex_refined_filename      , row.names = T, col.names = T, quote = F, sep = \",\")\n",
    "\n",
    "write.table(sex_as_events_geneSymbols, file = sex_as_events_genesFilename, row.names = F, col.names = F, quote = F, sep = \",\")\n",
    "write.table(sex_geneSymbols,           file = sex_genesFilename          , row.names = F, col.names = F, quote = F, sep = \",\")\n",
    "write.table(ijc_sex_geneSymbols,       file = ijc_sex_genesFilename      , row.names = F, col.names = F, quote = F, sep = \",\")\n",
    "write.table(sjc_sex_geneSymbols,       file = sjc_sex_genesFilename      , row.names = F, col.names = F, quote = F, sep = \",\")\n",
    "\n",
    "write.table(sex_as_events_refined_geneSymbols,file = sex_as_events_refined_genesFilename, row.names = F, col.names = F, quote = F, sep = \",\")\n",
    "write.table(sex_refined_geneSymbols,          file = sex_refined_genesFilename          , row.names = F, col.names = F, quote = F, sep = \",\")\n",
    "write.table(ijc_sex_refined_geneSymbols,      file = ijc_sex_refined_genesFilename      , row.names = F, col.names = F, quote = F, sep = \",\")\n",
    "write.table(sjc_sex_refined_geneSymbols,      file = sjc_sex_refined_genesFilename      , row.names = F, col.names = F, quote = F, sep = \",\")\n"
   ]
  },
  {
   "cell_type": "markdown",
   "metadata": {},
   "source": [
    "## Metadata\n",
    "\n",
    "For replicability and reproducibility purposes, we also print the following metadata:\n",
    "\n",
    "1. Checksums of **'artefacts'**, files generated during the analysis and stored in the folder directory **`data`**\n",
    "2. List of environment metadata, dependencies, versions of libraries using `utils::sessionInfo()` and [`devtools::session_info()`](https://devtools.r-lib.org/reference/session_info.html)"
   ]
  },
  {
   "cell_type": "markdown",
   "metadata": {},
   "source": [
    "### 1. Checksums with the sha256 algorithm"
   ]
  },
  {
   "cell_type": "code",
   "execution_count": 41,
   "metadata": {},
   "outputs": [
    {
     "name": "stderr",
     "output_type": "stream",
     "text": [
      "Generating sha256 checksums of the artefacts in the `..data/` directory .. \n",
      "\n"
     ]
    },
    {
     "data": {
      "text/html": [],
      "text/latex": [],
      "text/markdown": [],
      "text/plain": [
       "character(0)"
      ]
     },
     "metadata": {},
     "output_type": "display_data"
    },
    {
     "name": "stderr",
     "output_type": "stream",
     "text": [
      "Done!\n",
      "\n",
      "\n"
     ]
    },
    {
     "data": {
      "text/html": [
       "<table>\n",
       "<caption>A data.table: 31 × 2</caption>\n",
       "<thead>\n",
       "\t<tr><th scope=col>sha256sum</th><th scope=col>file</th></tr>\n",
       "\t<tr><th scope=col>&lt;chr&gt;</th><th scope=col>&lt;chr&gt;</th></tr>\n",
       "</thead>\n",
       "<tbody>\n",
       "\t<tr><td>ccf16742fe3db84abc66404b4c50981e6dee33b0de3f481111a2b44f6f931813</td><td>./BreastMammaryTissue_DGE_ijc_sex.csv              </td></tr>\n",
       "\t<tr><td>d9b424c4c6a3084bf89e21ee0c0a806a882f0dac448b3c0bf61c8bfe1b002f58</td><td>./BreastMammaryTissue_sex_as_events_universe.txt   </td></tr>\n",
       "\t<tr><td>741763f61d32c98446317ad30c45cdb3199039b0c696ab83461eb91b0e8611fe</td><td>./BreastMammaryTissue_DGE_sjc_sex.csv              </td></tr>\n",
       "\t<tr><td>28764f9f1e0f14e399d555e448b5490c7221454e7d34d220f79b537376ca017b</td><td>./fromGTF.novelEvents.SE.txt                       </td></tr>\n",
       "\t<tr><td>e532e4d8ee0f5e5ba221017a1c07c5b1376f7d711aacbba5cc713badd8bd3e47</td><td>./BreastMammaryTissue_ijc_sex_universe.txt         </td></tr>\n",
       "\t<tr><td>fb7fced98c23d7f0e69f820a8cf1616c3a2a88386074ae5a14690f313ae210d0</td><td>./BreastMammaryTissue_sjc_sex_universe.txt         </td></tr>\n",
       "\t<tr><td>b408d18141c7de21b42d5fa78e442e482d6c249b90b45800271f5124c11dd3d3</td><td>./BreastMammaryTissue_sex_gene_set.txt             </td></tr>\n",
       "\t<tr><td>5146c849c9354129590c59da5e6040a074523b4827d0975e3f5fa43737af7e9a</td><td>./README.md                                        </td></tr>\n",
       "\t<tr><td>efe91f83b5b3d4a6497e7265979ec2616f1e330005b3117fbd6e0da0c4b37c79</td><td>./BreastMammaryTissue_DGE_sjc_sex_refined.csv      </td></tr>\n",
       "\t<tr><td>eb61abf2dff12314fc82b79bd492a1baddf6d37bd080ac14cdb0caa39cd09bc6</td><td>./fromGTF.novelEvents.A5SS.txt                     </td></tr>\n",
       "\t<tr><td>94df4d4e2ab738e06c68e19e7f9eaefba64389a65827726b127713dbd20a7c30</td><td>./BreastMammaryTissue_sex_universe.txt             </td></tr>\n",
       "\t<tr><td>eb61abf2dff12314fc82b79bd492a1baddf6d37bd080ac14cdb0caa39cd09bc6</td><td>./fromGTF.novelEvents.A3SS.txt                     </td></tr>\n",
       "\t<tr><td>5ded52e3f6c0c09b7fe09e81a5bc58bf6d9c4afdaed3d19a159b9dfb0c49ea4d</td><td>./BreastMammaryTissue_DGE_sex_as_events_refined.csv</td></tr>\n",
       "\t<tr><td>be32c4925ad8ebf7414623d68e390a1631e08f4459c189f7f346040a542320b5</td><td>./fromGTF.RI.txt                                   </td></tr>\n",
       "\t<tr><td>c14069b1ed8642720b742864ca6b930b13d35e5a41592dabd9ba0b2dcb953783</td><td>./fromGTF.novelEvents.RI.txt                       </td></tr>\n",
       "\t<tr><td>dd188bc93b89167bfd8faa80323ca753b1a9557574e7157e6a6f9afe7f48e1b3</td><td>./SraRunTable.noCram.noExome.noWGS.totalRNA.txt.gz </td></tr>\n",
       "\t<tr><td>63888f391d15f13590b9bcb9d472af4c438947122e63eedca232b1b25b082ebe</td><td>./BreastMammaryTissue_ijc_sex_gene_set.txt         </td></tr>\n",
       "\t<tr><td>6426a7ecd614d3aeec414aac830d415c4c23e032df075737429f44546aabeee8</td><td>./BreastMammaryTissue_DGE_ijc_sex_refined.csv      </td></tr>\n",
       "\t<tr><td>5cfa91f71a21538245f3b5c198fc45f8652c899bbce2fd5ad9bd52a8a08566b6</td><td>./fromGTF.MXE.txt                                  </td></tr>\n",
       "\t<tr><td>d7639443651c3b508772ee89728f8ab41d62414672c41e68a78947be14e07cd6</td><td>./rmats_final.se.jc.sjc.txt.gz                     </td></tr>\n",
       "\t<tr><td>68ea5ae95f3ca659e86b685304361957d183bf3273f8e74b276d5295d275686f</td><td>./BreastMammaryTissue_sex_as_events_gene_set.txt   </td></tr>\n",
       "\t<tr><td>bfd9fa65689a7d157b09b5efd472f235b627f85a73b9f0493c881882acce773d</td><td>./fromGTF.tar.gz                                   </td></tr>\n",
       "\t<tr><td>849658f50abd888f8708a1ffd65ff523a14d1d5eab194583bed1caebd5cac92a</td><td>./rmats_final.se.jc.ijc.txt.gz                     </td></tr>\n",
       "\t<tr><td>22cb3faa337ae24b7b423a985fd2056047400eccb83b716eff2e33cce9159e53</td><td>./fromGTF.SE.txt                                   </td></tr>\n",
       "\t<tr><td>b2e407257b128afc0765497a4a21cf371bf4e3ed28c9532d3d55d32518e329e4</td><td>./BreastMammaryTissue_sjc_sex_gene_set.txt         </td></tr>\n",
       "\t<tr><td>c277ab764b652e8d65e07277df72933fee465806a5e6c1b018509f868ccfddad</td><td>./fromGTF.A5SS.txt                                 </td></tr>\n",
       "\t<tr><td>6e3f1d335ce05c887363d092b0100b9f3603a964c8fe6e8c20f4c547b4f52280</td><td>./fromGTF.novelEvents.MXE.txt                      </td></tr>\n",
       "\t<tr><td>51c8250a1796196e3879d88186c5450e5b5efc1e9f3fa578f388e9ff380e2deb</td><td>./fromGTF.A3SS.txt                                 </td></tr>\n",
       "\t<tr><td>f31a68097c9133a5fd11d32c4d1194b59442366e50e627189ac1cbcdb6e7f13f</td><td>./BreastMammaryTissue_DGE_sex_refined.csv          </td></tr>\n",
       "\t<tr><td>98001376224e926573071d352f6b22fc6a2dbcca33a16ba88573b49375b90699</td><td>./BreastMammaryTissue_DGE_sex_as_events.csv        </td></tr>\n",
       "\t<tr><td>969def456d3d089241b56f95bc23dfa4205334f25989485a4febb4dcccccf891</td><td>./BreastMammaryTissue_DGE_sex.csv                  </td></tr>\n",
       "</tbody>\n",
       "</table>\n"
      ],
      "text/latex": [
       "A data.table: 31 × 2\n",
       "\\begin{tabular}{ll}\n",
       " sha256sum & file\\\\\n",
       " <chr> & <chr>\\\\\n",
       "\\hline\n",
       "\t ccf16742fe3db84abc66404b4c50981e6dee33b0de3f481111a2b44f6f931813 & ./BreastMammaryTissue\\_DGE\\_ijc\\_sex.csv              \\\\\n",
       "\t d9b424c4c6a3084bf89e21ee0c0a806a882f0dac448b3c0bf61c8bfe1b002f58 & ./BreastMammaryTissue\\_sex\\_as\\_events\\_universe.txt   \\\\\n",
       "\t 741763f61d32c98446317ad30c45cdb3199039b0c696ab83461eb91b0e8611fe & ./BreastMammaryTissue\\_DGE\\_sjc\\_sex.csv              \\\\\n",
       "\t 28764f9f1e0f14e399d555e448b5490c7221454e7d34d220f79b537376ca017b & ./fromGTF.novelEvents.SE.txt                       \\\\\n",
       "\t e532e4d8ee0f5e5ba221017a1c07c5b1376f7d711aacbba5cc713badd8bd3e47 & ./BreastMammaryTissue\\_ijc\\_sex\\_universe.txt         \\\\\n",
       "\t fb7fced98c23d7f0e69f820a8cf1616c3a2a88386074ae5a14690f313ae210d0 & ./BreastMammaryTissue\\_sjc\\_sex\\_universe.txt         \\\\\n",
       "\t b408d18141c7de21b42d5fa78e442e482d6c249b90b45800271f5124c11dd3d3 & ./BreastMammaryTissue\\_sex\\_gene\\_set.txt             \\\\\n",
       "\t 5146c849c9354129590c59da5e6040a074523b4827d0975e3f5fa43737af7e9a & ./README.md                                        \\\\\n",
       "\t efe91f83b5b3d4a6497e7265979ec2616f1e330005b3117fbd6e0da0c4b37c79 & ./BreastMammaryTissue\\_DGE\\_sjc\\_sex\\_refined.csv      \\\\\n",
       "\t eb61abf2dff12314fc82b79bd492a1baddf6d37bd080ac14cdb0caa39cd09bc6 & ./fromGTF.novelEvents.A5SS.txt                     \\\\\n",
       "\t 94df4d4e2ab738e06c68e19e7f9eaefba64389a65827726b127713dbd20a7c30 & ./BreastMammaryTissue\\_sex\\_universe.txt             \\\\\n",
       "\t eb61abf2dff12314fc82b79bd492a1baddf6d37bd080ac14cdb0caa39cd09bc6 & ./fromGTF.novelEvents.A3SS.txt                     \\\\\n",
       "\t 5ded52e3f6c0c09b7fe09e81a5bc58bf6d9c4afdaed3d19a159b9dfb0c49ea4d & ./BreastMammaryTissue\\_DGE\\_sex\\_as\\_events\\_refined.csv\\\\\n",
       "\t be32c4925ad8ebf7414623d68e390a1631e08f4459c189f7f346040a542320b5 & ./fromGTF.RI.txt                                   \\\\\n",
       "\t c14069b1ed8642720b742864ca6b930b13d35e5a41592dabd9ba0b2dcb953783 & ./fromGTF.novelEvents.RI.txt                       \\\\\n",
       "\t dd188bc93b89167bfd8faa80323ca753b1a9557574e7157e6a6f9afe7f48e1b3 & ./SraRunTable.noCram.noExome.noWGS.totalRNA.txt.gz \\\\\n",
       "\t 63888f391d15f13590b9bcb9d472af4c438947122e63eedca232b1b25b082ebe & ./BreastMammaryTissue\\_ijc\\_sex\\_gene\\_set.txt         \\\\\n",
       "\t 6426a7ecd614d3aeec414aac830d415c4c23e032df075737429f44546aabeee8 & ./BreastMammaryTissue\\_DGE\\_ijc\\_sex\\_refined.csv      \\\\\n",
       "\t 5cfa91f71a21538245f3b5c198fc45f8652c899bbce2fd5ad9bd52a8a08566b6 & ./fromGTF.MXE.txt                                  \\\\\n",
       "\t d7639443651c3b508772ee89728f8ab41d62414672c41e68a78947be14e07cd6 & ./rmats\\_final.se.jc.sjc.txt.gz                     \\\\\n",
       "\t 68ea5ae95f3ca659e86b685304361957d183bf3273f8e74b276d5295d275686f & ./BreastMammaryTissue\\_sex\\_as\\_events\\_gene\\_set.txt   \\\\\n",
       "\t bfd9fa65689a7d157b09b5efd472f235b627f85a73b9f0493c881882acce773d & ./fromGTF.tar.gz                                   \\\\\n",
       "\t 849658f50abd888f8708a1ffd65ff523a14d1d5eab194583bed1caebd5cac92a & ./rmats\\_final.se.jc.ijc.txt.gz                     \\\\\n",
       "\t 22cb3faa337ae24b7b423a985fd2056047400eccb83b716eff2e33cce9159e53 & ./fromGTF.SE.txt                                   \\\\\n",
       "\t b2e407257b128afc0765497a4a21cf371bf4e3ed28c9532d3d55d32518e329e4 & ./BreastMammaryTissue\\_sjc\\_sex\\_gene\\_set.txt         \\\\\n",
       "\t c277ab764b652e8d65e07277df72933fee465806a5e6c1b018509f868ccfddad & ./fromGTF.A5SS.txt                                 \\\\\n",
       "\t 6e3f1d335ce05c887363d092b0100b9f3603a964c8fe6e8c20f4c547b4f52280 & ./fromGTF.novelEvents.MXE.txt                      \\\\\n",
       "\t 51c8250a1796196e3879d88186c5450e5b5efc1e9f3fa578f388e9ff380e2deb & ./fromGTF.A3SS.txt                                 \\\\\n",
       "\t f31a68097c9133a5fd11d32c4d1194b59442366e50e627189ac1cbcdb6e7f13f & ./BreastMammaryTissue\\_DGE\\_sex\\_refined.csv          \\\\\n",
       "\t 98001376224e926573071d352f6b22fc6a2dbcca33a16ba88573b49375b90699 & ./BreastMammaryTissue\\_DGE\\_sex\\_as\\_events.csv        \\\\\n",
       "\t 969def456d3d089241b56f95bc23dfa4205334f25989485a4febb4dcccccf891 & ./BreastMammaryTissue\\_DGE\\_sex.csv                  \\\\\n",
       "\\end{tabular}\n"
      ],
      "text/markdown": [
       "\n",
       "A data.table: 31 × 2\n",
       "\n",
       "| sha256sum &lt;chr&gt; | file &lt;chr&gt; |\n",
       "|---|---|\n",
       "| ccf16742fe3db84abc66404b4c50981e6dee33b0de3f481111a2b44f6f931813 | ./BreastMammaryTissue_DGE_ijc_sex.csv               |\n",
       "| d9b424c4c6a3084bf89e21ee0c0a806a882f0dac448b3c0bf61c8bfe1b002f58 | ./BreastMammaryTissue_sex_as_events_universe.txt    |\n",
       "| 741763f61d32c98446317ad30c45cdb3199039b0c696ab83461eb91b0e8611fe | ./BreastMammaryTissue_DGE_sjc_sex.csv               |\n",
       "| 28764f9f1e0f14e399d555e448b5490c7221454e7d34d220f79b537376ca017b | ./fromGTF.novelEvents.SE.txt                        |\n",
       "| e532e4d8ee0f5e5ba221017a1c07c5b1376f7d711aacbba5cc713badd8bd3e47 | ./BreastMammaryTissue_ijc_sex_universe.txt          |\n",
       "| fb7fced98c23d7f0e69f820a8cf1616c3a2a88386074ae5a14690f313ae210d0 | ./BreastMammaryTissue_sjc_sex_universe.txt          |\n",
       "| b408d18141c7de21b42d5fa78e442e482d6c249b90b45800271f5124c11dd3d3 | ./BreastMammaryTissue_sex_gene_set.txt              |\n",
       "| 5146c849c9354129590c59da5e6040a074523b4827d0975e3f5fa43737af7e9a | ./README.md                                         |\n",
       "| efe91f83b5b3d4a6497e7265979ec2616f1e330005b3117fbd6e0da0c4b37c79 | ./BreastMammaryTissue_DGE_sjc_sex_refined.csv       |\n",
       "| eb61abf2dff12314fc82b79bd492a1baddf6d37bd080ac14cdb0caa39cd09bc6 | ./fromGTF.novelEvents.A5SS.txt                      |\n",
       "| 94df4d4e2ab738e06c68e19e7f9eaefba64389a65827726b127713dbd20a7c30 | ./BreastMammaryTissue_sex_universe.txt              |\n",
       "| eb61abf2dff12314fc82b79bd492a1baddf6d37bd080ac14cdb0caa39cd09bc6 | ./fromGTF.novelEvents.A3SS.txt                      |\n",
       "| 5ded52e3f6c0c09b7fe09e81a5bc58bf6d9c4afdaed3d19a159b9dfb0c49ea4d | ./BreastMammaryTissue_DGE_sex_as_events_refined.csv |\n",
       "| be32c4925ad8ebf7414623d68e390a1631e08f4459c189f7f346040a542320b5 | ./fromGTF.RI.txt                                    |\n",
       "| c14069b1ed8642720b742864ca6b930b13d35e5a41592dabd9ba0b2dcb953783 | ./fromGTF.novelEvents.RI.txt                        |\n",
       "| dd188bc93b89167bfd8faa80323ca753b1a9557574e7157e6a6f9afe7f48e1b3 | ./SraRunTable.noCram.noExome.noWGS.totalRNA.txt.gz  |\n",
       "| 63888f391d15f13590b9bcb9d472af4c438947122e63eedca232b1b25b082ebe | ./BreastMammaryTissue_ijc_sex_gene_set.txt          |\n",
       "| 6426a7ecd614d3aeec414aac830d415c4c23e032df075737429f44546aabeee8 | ./BreastMammaryTissue_DGE_ijc_sex_refined.csv       |\n",
       "| 5cfa91f71a21538245f3b5c198fc45f8652c899bbce2fd5ad9bd52a8a08566b6 | ./fromGTF.MXE.txt                                   |\n",
       "| d7639443651c3b508772ee89728f8ab41d62414672c41e68a78947be14e07cd6 | ./rmats_final.se.jc.sjc.txt.gz                      |\n",
       "| 68ea5ae95f3ca659e86b685304361957d183bf3273f8e74b276d5295d275686f | ./BreastMammaryTissue_sex_as_events_gene_set.txt    |\n",
       "| bfd9fa65689a7d157b09b5efd472f235b627f85a73b9f0493c881882acce773d | ./fromGTF.tar.gz                                    |\n",
       "| 849658f50abd888f8708a1ffd65ff523a14d1d5eab194583bed1caebd5cac92a | ./rmats_final.se.jc.ijc.txt.gz                      |\n",
       "| 22cb3faa337ae24b7b423a985fd2056047400eccb83b716eff2e33cce9159e53 | ./fromGTF.SE.txt                                    |\n",
       "| b2e407257b128afc0765497a4a21cf371bf4e3ed28c9532d3d55d32518e329e4 | ./BreastMammaryTissue_sjc_sex_gene_set.txt          |\n",
       "| c277ab764b652e8d65e07277df72933fee465806a5e6c1b018509f868ccfddad | ./fromGTF.A5SS.txt                                  |\n",
       "| 6e3f1d335ce05c887363d092b0100b9f3603a964c8fe6e8c20f4c547b4f52280 | ./fromGTF.novelEvents.MXE.txt                       |\n",
       "| 51c8250a1796196e3879d88186c5450e5b5efc1e9f3fa578f388e9ff380e2deb | ./fromGTF.A3SS.txt                                  |\n",
       "| f31a68097c9133a5fd11d32c4d1194b59442366e50e627189ac1cbcdb6e7f13f | ./BreastMammaryTissue_DGE_sex_refined.csv           |\n",
       "| 98001376224e926573071d352f6b22fc6a2dbcca33a16ba88573b49375b90699 | ./BreastMammaryTissue_DGE_sex_as_events.csv         |\n",
       "| 969def456d3d089241b56f95bc23dfa4205334f25989485a4febb4dcccccf891 | ./BreastMammaryTissue_DGE_sex.csv                   |\n",
       "\n"
      ],
      "text/plain": [
       "   sha256sum                                                       \n",
       "1  ccf16742fe3db84abc66404b4c50981e6dee33b0de3f481111a2b44f6f931813\n",
       "2  d9b424c4c6a3084bf89e21ee0c0a806a882f0dac448b3c0bf61c8bfe1b002f58\n",
       "3  741763f61d32c98446317ad30c45cdb3199039b0c696ab83461eb91b0e8611fe\n",
       "4  28764f9f1e0f14e399d555e448b5490c7221454e7d34d220f79b537376ca017b\n",
       "5  e532e4d8ee0f5e5ba221017a1c07c5b1376f7d711aacbba5cc713badd8bd3e47\n",
       "6  fb7fced98c23d7f0e69f820a8cf1616c3a2a88386074ae5a14690f313ae210d0\n",
       "7  b408d18141c7de21b42d5fa78e442e482d6c249b90b45800271f5124c11dd3d3\n",
       "8  5146c849c9354129590c59da5e6040a074523b4827d0975e3f5fa43737af7e9a\n",
       "9  efe91f83b5b3d4a6497e7265979ec2616f1e330005b3117fbd6e0da0c4b37c79\n",
       "10 eb61abf2dff12314fc82b79bd492a1baddf6d37bd080ac14cdb0caa39cd09bc6\n",
       "11 94df4d4e2ab738e06c68e19e7f9eaefba64389a65827726b127713dbd20a7c30\n",
       "12 eb61abf2dff12314fc82b79bd492a1baddf6d37bd080ac14cdb0caa39cd09bc6\n",
       "13 5ded52e3f6c0c09b7fe09e81a5bc58bf6d9c4afdaed3d19a159b9dfb0c49ea4d\n",
       "14 be32c4925ad8ebf7414623d68e390a1631e08f4459c189f7f346040a542320b5\n",
       "15 c14069b1ed8642720b742864ca6b930b13d35e5a41592dabd9ba0b2dcb953783\n",
       "16 dd188bc93b89167bfd8faa80323ca753b1a9557574e7157e6a6f9afe7f48e1b3\n",
       "17 63888f391d15f13590b9bcb9d472af4c438947122e63eedca232b1b25b082ebe\n",
       "18 6426a7ecd614d3aeec414aac830d415c4c23e032df075737429f44546aabeee8\n",
       "19 5cfa91f71a21538245f3b5c198fc45f8652c899bbce2fd5ad9bd52a8a08566b6\n",
       "20 d7639443651c3b508772ee89728f8ab41d62414672c41e68a78947be14e07cd6\n",
       "21 68ea5ae95f3ca659e86b685304361957d183bf3273f8e74b276d5295d275686f\n",
       "22 bfd9fa65689a7d157b09b5efd472f235b627f85a73b9f0493c881882acce773d\n",
       "23 849658f50abd888f8708a1ffd65ff523a14d1d5eab194583bed1caebd5cac92a\n",
       "24 22cb3faa337ae24b7b423a985fd2056047400eccb83b716eff2e33cce9159e53\n",
       "25 b2e407257b128afc0765497a4a21cf371bf4e3ed28c9532d3d55d32518e329e4\n",
       "26 c277ab764b652e8d65e07277df72933fee465806a5e6c1b018509f868ccfddad\n",
       "27 6e3f1d335ce05c887363d092b0100b9f3603a964c8fe6e8c20f4c547b4f52280\n",
       "28 51c8250a1796196e3879d88186c5450e5b5efc1e9f3fa578f388e9ff380e2deb\n",
       "29 f31a68097c9133a5fd11d32c4d1194b59442366e50e627189ac1cbcdb6e7f13f\n",
       "30 98001376224e926573071d352f6b22fc6a2dbcca33a16ba88573b49375b90699\n",
       "31 969def456d3d089241b56f95bc23dfa4205334f25989485a4febb4dcccccf891\n",
       "   file                                               \n",
       "1  ./BreastMammaryTissue_DGE_ijc_sex.csv              \n",
       "2  ./BreastMammaryTissue_sex_as_events_universe.txt   \n",
       "3  ./BreastMammaryTissue_DGE_sjc_sex.csv              \n",
       "4  ./fromGTF.novelEvents.SE.txt                       \n",
       "5  ./BreastMammaryTissue_ijc_sex_universe.txt         \n",
       "6  ./BreastMammaryTissue_sjc_sex_universe.txt         \n",
       "7  ./BreastMammaryTissue_sex_gene_set.txt             \n",
       "8  ./README.md                                        \n",
       "9  ./BreastMammaryTissue_DGE_sjc_sex_refined.csv      \n",
       "10 ./fromGTF.novelEvents.A5SS.txt                     \n",
       "11 ./BreastMammaryTissue_sex_universe.txt             \n",
       "12 ./fromGTF.novelEvents.A3SS.txt                     \n",
       "13 ./BreastMammaryTissue_DGE_sex_as_events_refined.csv\n",
       "14 ./fromGTF.RI.txt                                   \n",
       "15 ./fromGTF.novelEvents.RI.txt                       \n",
       "16 ./SraRunTable.noCram.noExome.noWGS.totalRNA.txt.gz \n",
       "17 ./BreastMammaryTissue_ijc_sex_gene_set.txt         \n",
       "18 ./BreastMammaryTissue_DGE_ijc_sex_refined.csv      \n",
       "19 ./fromGTF.MXE.txt                                  \n",
       "20 ./rmats_final.se.jc.sjc.txt.gz                     \n",
       "21 ./BreastMammaryTissue_sex_as_events_gene_set.txt   \n",
       "22 ./fromGTF.tar.gz                                   \n",
       "23 ./rmats_final.se.jc.ijc.txt.gz                     \n",
       "24 ./fromGTF.SE.txt                                   \n",
       "25 ./BreastMammaryTissue_sjc_sex_gene_set.txt         \n",
       "26 ./fromGTF.A5SS.txt                                 \n",
       "27 ./fromGTF.novelEvents.MXE.txt                      \n",
       "28 ./fromGTF.A3SS.txt                                 \n",
       "29 ./BreastMammaryTissue_DGE_sex_refined.csv          \n",
       "30 ./BreastMammaryTissue_DGE_sex_as_events.csv        \n",
       "31 ./BreastMammaryTissue_DGE_sex.csv                  "
      ]
     },
     "metadata": {},
     "output_type": "display_data"
    }
   ],
   "source": [
    "notebookid   = \"BreastMammaryTissueJunctionAnalysis\"\n",
    "\n",
    "message(\"Generating sha256 checksums of the artefacts in the `..data/` directory .. \")\n",
    "system(paste0(\"cd ../data && find . -type f -exec sha256sum {} \\\\;  >  ../metadata/\", notebookid, \"_sha256sums.txt\"), intern = TRUE)\n",
    "message(\"Done!\\n\")\n",
    "\n",
    "data.table::fread(paste0(\"../metadata/\", notebookid, \"_sha256sums.txt\"), header = FALSE, col.names = c(\"sha256sum\", \"file\"))"
   ]
  },
  {
   "cell_type": "markdown",
   "metadata": {},
   "source": [
    "### 2. Libraries metadata"
   ]
  },
  {
   "cell_type": "code",
   "execution_count": 42,
   "metadata": {},
   "outputs": [
    {
     "name": "stderr",
     "output_type": "stream",
     "text": [
      "Saving `devtools::session_info()` objects in ../metadata/devtools_session_info.rds  ..\n",
      "\n",
      "Done!\n",
      "\n",
      "\n",
      "Saving `utils::sessionInfo()` objects in ../metadata/utils_session_info.rds  ..\n",
      "\n",
      "Done!\n",
      "\n",
      "\n"
     ]
    },
    {
     "data": {
      "text/plain": [
       " setting  value                       \n",
       " version  R version 3.6.2 (2019-12-12)\n",
       " os       Ubuntu 18.04.3 LTS          \n",
       " system   x86_64, linux-gnu           \n",
       " ui       X11                         \n",
       " language en_US.UTF-8                 \n",
       " collate  en_US.UTF-8                 \n",
       " ctype    en_US.UTF-8                 \n",
       " tz       Etc/UTC                     \n",
       " date     2020-05-13                  "
      ]
     },
     "metadata": {},
     "output_type": "display_data"
    },
    {
     "data": {
      "text/html": [
       "<table>\n",
       "<caption>A packages_info: 11 × 11</caption>\n",
       "<thead>\n",
       "\t<tr><th></th><th scope=col>package</th><th scope=col>ondiskversion</th><th scope=col>loadedversion</th><th scope=col>path</th><th scope=col>loadedpath</th><th scope=col>attached</th><th scope=col>is_base</th><th scope=col>date</th><th scope=col>source</th><th scope=col>md5ok</th><th scope=col>library</th></tr>\n",
       "\t<tr><th></th><th scope=col>&lt;chr&gt;</th><th scope=col>&lt;chr&gt;</th><th scope=col>&lt;chr&gt;</th><th scope=col>&lt;chr&gt;</th><th scope=col>&lt;chr&gt;</th><th scope=col>&lt;lgl&gt;</th><th scope=col>&lt;lgl&gt;</th><th scope=col>&lt;chr&gt;</th><th scope=col>&lt;chr&gt;</th><th scope=col>&lt;lgl&gt;</th><th scope=col>&lt;fct&gt;</th></tr>\n",
       "</thead>\n",
       "<tbody>\n",
       "\t<tr><th scope=row>Biobase</th><td>Biobase     </td><td>2.46.0   </td><td>2.46.0   </td><td>/opt/conda/lib/R/library/Biobase     </td><td>/opt/conda/lib/R/library/Biobase     </td><td>TRUE</td><td>FALSE</td><td>2019-10-29</td><td>Bioconductor                       </td><td>NA</td><td>/opt/conda/lib/R/library</td></tr>\n",
       "\t<tr><th scope=row>BiocGenerics</th><td>BiocGenerics</td><td>0.32.0   </td><td>0.32.0   </td><td>/opt/conda/lib/R/library/BiocGenerics</td><td>/opt/conda/lib/R/library/BiocGenerics</td><td>TRUE</td><td>FALSE</td><td>2019-10-29</td><td>Bioconductor                       </td><td>NA</td><td>/opt/conda/lib/R/library</td></tr>\n",
       "\t<tr><th scope=row>edgeR</th><td>edgeR       </td><td>3.28.1   </td><td>3.28.1   </td><td>/opt/conda/lib/R/library/edgeR       </td><td>/opt/conda/lib/R/library/edgeR       </td><td>TRUE</td><td>FALSE</td><td>2020-02-26</td><td>Bioconductor                       </td><td>NA</td><td>/opt/conda/lib/R/library</td></tr>\n",
       "\t<tr><th scope=row>limma</th><td>limma       </td><td>3.42.2   </td><td>3.42.2   </td><td>/opt/conda/lib/R/library/limma       </td><td>/opt/conda/lib/R/library/limma       </td><td>TRUE</td><td>FALSE</td><td>2020-02-03</td><td>Bioconductor                       </td><td>NA</td><td>/opt/conda/lib/R/library</td></tr>\n",
       "\t<tr><th scope=row>multtest</th><td>multtest    </td><td>2.42.0   </td><td>2.42.0   </td><td>/opt/conda/lib/R/library/multtest    </td><td>/opt/conda/lib/R/library/multtest    </td><td>TRUE</td><td>FALSE</td><td>2019-10-29</td><td>Bioconductor                       </td><td>NA</td><td>/opt/conda/lib/R/library</td></tr>\n",
       "\t<tr><th scope=row>piggyback</th><td>piggyback   </td><td>0.0.10.99</td><td>0.0.10.99</td><td>/opt/conda/lib/R/library/piggyback   </td><td>/opt/conda/lib/R/library/piggyback   </td><td>TRUE</td><td>FALSE</td><td>2020-05-13</td><td>Github (ropensci/piggyback@87f71e8)</td><td>NA</td><td>/opt/conda/lib/R/library</td></tr>\n",
       "\t<tr><th scope=row>R.methodsS3</th><td>R.methodsS3 </td><td>1.8.0    </td><td>1.8.0    </td><td>/opt/conda/lib/R/library/R.methodsS3 </td><td>/opt/conda/lib/R/library/R.methodsS3 </td><td>TRUE</td><td>FALSE</td><td>2020-02-14</td><td>CRAN (R 3.6.2)                     </td><td>NA</td><td>/opt/conda/lib/R/library</td></tr>\n",
       "\t<tr><th scope=row>R.oo</th><td>R.oo        </td><td>1.23.0   </td><td>1.23.0   </td><td>/opt/conda/lib/R/library/R.oo        </td><td>/opt/conda/lib/R/library/R.oo        </td><td>TRUE</td><td>FALSE</td><td>2019-11-03</td><td>CRAN (R 3.6.2)                     </td><td>NA</td><td>/opt/conda/lib/R/library</td></tr>\n",
       "\t<tr><th scope=row>R.utils</th><td>R.utils     </td><td>2.9.2    </td><td>2.9.2    </td><td>/opt/conda/lib/R/library/R.utils     </td><td>/opt/conda/lib/R/library/R.utils     </td><td>TRUE</td><td>FALSE</td><td>2019-12-08</td><td>CRAN (R 3.6.2)                     </td><td>NA</td><td>/opt/conda/lib/R/library</td></tr>\n",
       "\t<tr><th scope=row>statmod</th><td>statmod     </td><td>1.4.34   </td><td>1.4.34   </td><td>/opt/conda/lib/R/library/statmod     </td><td>/opt/conda/lib/R/library/statmod     </td><td>TRUE</td><td>FALSE</td><td>2020-02-17</td><td>CRAN (R 3.6.2)                     </td><td>NA</td><td>/opt/conda/lib/R/library</td></tr>\n",
       "\t<tr><th scope=row>tibble</th><td>tibble      </td><td>2.1.3    </td><td>2.1.3    </td><td>/opt/conda/lib/R/library/tibble      </td><td>/opt/conda/lib/R/library/tibble      </td><td>TRUE</td><td>FALSE</td><td>2019-06-06</td><td>CRAN (R 3.6.1)                     </td><td>NA</td><td>/opt/conda/lib/R/library</td></tr>\n",
       "</tbody>\n",
       "</table>\n"
      ],
      "text/latex": [
       "A packages\\_info: 11 × 11\n",
       "\\begin{tabular}{r|lllllllllll}\n",
       "  & package & ondiskversion & loadedversion & path & loadedpath & attached & is\\_base & date & source & md5ok & library\\\\\n",
       "  & <chr> & <chr> & <chr> & <chr> & <chr> & <lgl> & <lgl> & <chr> & <chr> & <lgl> & <fct>\\\\\n",
       "\\hline\n",
       "\tBiobase & Biobase      & 2.46.0    & 2.46.0    & /opt/conda/lib/R/library/Biobase      & /opt/conda/lib/R/library/Biobase      & TRUE & FALSE & 2019-10-29 & Bioconductor                        & NA & /opt/conda/lib/R/library\\\\\n",
       "\tBiocGenerics & BiocGenerics & 0.32.0    & 0.32.0    & /opt/conda/lib/R/library/BiocGenerics & /opt/conda/lib/R/library/BiocGenerics & TRUE & FALSE & 2019-10-29 & Bioconductor                        & NA & /opt/conda/lib/R/library\\\\\n",
       "\tedgeR & edgeR        & 3.28.1    & 3.28.1    & /opt/conda/lib/R/library/edgeR        & /opt/conda/lib/R/library/edgeR        & TRUE & FALSE & 2020-02-26 & Bioconductor                        & NA & /opt/conda/lib/R/library\\\\\n",
       "\tlimma & limma        & 3.42.2    & 3.42.2    & /opt/conda/lib/R/library/limma        & /opt/conda/lib/R/library/limma        & TRUE & FALSE & 2020-02-03 & Bioconductor                        & NA & /opt/conda/lib/R/library\\\\\n",
       "\tmulttest & multtest     & 2.42.0    & 2.42.0    & /opt/conda/lib/R/library/multtest     & /opt/conda/lib/R/library/multtest     & TRUE & FALSE & 2019-10-29 & Bioconductor                        & NA & /opt/conda/lib/R/library\\\\\n",
       "\tpiggyback & piggyback    & 0.0.10.99 & 0.0.10.99 & /opt/conda/lib/R/library/piggyback    & /opt/conda/lib/R/library/piggyback    & TRUE & FALSE & 2020-05-13 & Github (ropensci/piggyback@87f71e8) & NA & /opt/conda/lib/R/library\\\\\n",
       "\tR.methodsS3 & R.methodsS3  & 1.8.0     & 1.8.0     & /opt/conda/lib/R/library/R.methodsS3  & /opt/conda/lib/R/library/R.methodsS3  & TRUE & FALSE & 2020-02-14 & CRAN (R 3.6.2)                      & NA & /opt/conda/lib/R/library\\\\\n",
       "\tR.oo & R.oo         & 1.23.0    & 1.23.0    & /opt/conda/lib/R/library/R.oo         & /opt/conda/lib/R/library/R.oo         & TRUE & FALSE & 2019-11-03 & CRAN (R 3.6.2)                      & NA & /opt/conda/lib/R/library\\\\\n",
       "\tR.utils & R.utils      & 2.9.2     & 2.9.2     & /opt/conda/lib/R/library/R.utils      & /opt/conda/lib/R/library/R.utils      & TRUE & FALSE & 2019-12-08 & CRAN (R 3.6.2)                      & NA & /opt/conda/lib/R/library\\\\\n",
       "\tstatmod & statmod      & 1.4.34    & 1.4.34    & /opt/conda/lib/R/library/statmod      & /opt/conda/lib/R/library/statmod      & TRUE & FALSE & 2020-02-17 & CRAN (R 3.6.2)                      & NA & /opt/conda/lib/R/library\\\\\n",
       "\ttibble & tibble       & 2.1.3     & 2.1.3     & /opt/conda/lib/R/library/tibble       & /opt/conda/lib/R/library/tibble       & TRUE & FALSE & 2019-06-06 & CRAN (R 3.6.1)                      & NA & /opt/conda/lib/R/library\\\\\n",
       "\\end{tabular}\n"
      ],
      "text/markdown": [
       "\n",
       "A packages_info: 11 × 11\n",
       "\n",
       "| <!--/--> | package &lt;chr&gt; | ondiskversion &lt;chr&gt; | loadedversion &lt;chr&gt; | path &lt;chr&gt; | loadedpath &lt;chr&gt; | attached &lt;lgl&gt; | is_base &lt;lgl&gt; | date &lt;chr&gt; | source &lt;chr&gt; | md5ok &lt;lgl&gt; | library &lt;fct&gt; |\n",
       "|---|---|---|---|---|---|---|---|---|---|---|---|\n",
       "| Biobase | Biobase      | 2.46.0    | 2.46.0    | /opt/conda/lib/R/library/Biobase      | /opt/conda/lib/R/library/Biobase      | TRUE | FALSE | 2019-10-29 | Bioconductor                        | NA | /opt/conda/lib/R/library |\n",
       "| BiocGenerics | BiocGenerics | 0.32.0    | 0.32.0    | /opt/conda/lib/R/library/BiocGenerics | /opt/conda/lib/R/library/BiocGenerics | TRUE | FALSE | 2019-10-29 | Bioconductor                        | NA | /opt/conda/lib/R/library |\n",
       "| edgeR | edgeR        | 3.28.1    | 3.28.1    | /opt/conda/lib/R/library/edgeR        | /opt/conda/lib/R/library/edgeR        | TRUE | FALSE | 2020-02-26 | Bioconductor                        | NA | /opt/conda/lib/R/library |\n",
       "| limma | limma        | 3.42.2    | 3.42.2    | /opt/conda/lib/R/library/limma        | /opt/conda/lib/R/library/limma        | TRUE | FALSE | 2020-02-03 | Bioconductor                        | NA | /opt/conda/lib/R/library |\n",
       "| multtest | multtest     | 2.42.0    | 2.42.0    | /opt/conda/lib/R/library/multtest     | /opt/conda/lib/R/library/multtest     | TRUE | FALSE | 2019-10-29 | Bioconductor                        | NA | /opt/conda/lib/R/library |\n",
       "| piggyback | piggyback    | 0.0.10.99 | 0.0.10.99 | /opt/conda/lib/R/library/piggyback    | /opt/conda/lib/R/library/piggyback    | TRUE | FALSE | 2020-05-13 | Github (ropensci/piggyback@87f71e8) | NA | /opt/conda/lib/R/library |\n",
       "| R.methodsS3 | R.methodsS3  | 1.8.0     | 1.8.0     | /opt/conda/lib/R/library/R.methodsS3  | /opt/conda/lib/R/library/R.methodsS3  | TRUE | FALSE | 2020-02-14 | CRAN (R 3.6.2)                      | NA | /opt/conda/lib/R/library |\n",
       "| R.oo | R.oo         | 1.23.0    | 1.23.0    | /opt/conda/lib/R/library/R.oo         | /opt/conda/lib/R/library/R.oo         | TRUE | FALSE | 2019-11-03 | CRAN (R 3.6.2)                      | NA | /opt/conda/lib/R/library |\n",
       "| R.utils | R.utils      | 2.9.2     | 2.9.2     | /opt/conda/lib/R/library/R.utils      | /opt/conda/lib/R/library/R.utils      | TRUE | FALSE | 2019-12-08 | CRAN (R 3.6.2)                      | NA | /opt/conda/lib/R/library |\n",
       "| statmod | statmod      | 1.4.34    | 1.4.34    | /opt/conda/lib/R/library/statmod      | /opt/conda/lib/R/library/statmod      | TRUE | FALSE | 2020-02-17 | CRAN (R 3.6.2)                      | NA | /opt/conda/lib/R/library |\n",
       "| tibble | tibble       | 2.1.3     | 2.1.3     | /opt/conda/lib/R/library/tibble       | /opt/conda/lib/R/library/tibble       | TRUE | FALSE | 2019-06-06 | CRAN (R 3.6.1)                      | NA | /opt/conda/lib/R/library |\n",
       "\n"
      ],
      "text/plain": [
       "             package      ondiskversion loadedversion\n",
       "Biobase      Biobase      2.46.0        2.46.0       \n",
       "BiocGenerics BiocGenerics 0.32.0        0.32.0       \n",
       "edgeR        edgeR        3.28.1        3.28.1       \n",
       "limma        limma        3.42.2        3.42.2       \n",
       "multtest     multtest     2.42.0        2.42.0       \n",
       "piggyback    piggyback    0.0.10.99     0.0.10.99    \n",
       "R.methodsS3  R.methodsS3  1.8.0         1.8.0        \n",
       "R.oo         R.oo         1.23.0        1.23.0       \n",
       "R.utils      R.utils      2.9.2         2.9.2        \n",
       "statmod      statmod      1.4.34        1.4.34       \n",
       "tibble       tibble       2.1.3         2.1.3        \n",
       "             path                                 \n",
       "Biobase      /opt/conda/lib/R/library/Biobase     \n",
       "BiocGenerics /opt/conda/lib/R/library/BiocGenerics\n",
       "edgeR        /opt/conda/lib/R/library/edgeR       \n",
       "limma        /opt/conda/lib/R/library/limma       \n",
       "multtest     /opt/conda/lib/R/library/multtest    \n",
       "piggyback    /opt/conda/lib/R/library/piggyback   \n",
       "R.methodsS3  /opt/conda/lib/R/library/R.methodsS3 \n",
       "R.oo         /opt/conda/lib/R/library/R.oo        \n",
       "R.utils      /opt/conda/lib/R/library/R.utils     \n",
       "statmod      /opt/conda/lib/R/library/statmod     \n",
       "tibble       /opt/conda/lib/R/library/tibble      \n",
       "             loadedpath                            attached is_base date      \n",
       "Biobase      /opt/conda/lib/R/library/Biobase      TRUE     FALSE   2019-10-29\n",
       "BiocGenerics /opt/conda/lib/R/library/BiocGenerics TRUE     FALSE   2019-10-29\n",
       "edgeR        /opt/conda/lib/R/library/edgeR        TRUE     FALSE   2020-02-26\n",
       "limma        /opt/conda/lib/R/library/limma        TRUE     FALSE   2020-02-03\n",
       "multtest     /opt/conda/lib/R/library/multtest     TRUE     FALSE   2019-10-29\n",
       "piggyback    /opt/conda/lib/R/library/piggyback    TRUE     FALSE   2020-05-13\n",
       "R.methodsS3  /opt/conda/lib/R/library/R.methodsS3  TRUE     FALSE   2020-02-14\n",
       "R.oo         /opt/conda/lib/R/library/R.oo         TRUE     FALSE   2019-11-03\n",
       "R.utils      /opt/conda/lib/R/library/R.utils      TRUE     FALSE   2019-12-08\n",
       "statmod      /opt/conda/lib/R/library/statmod      TRUE     FALSE   2020-02-17\n",
       "tibble       /opt/conda/lib/R/library/tibble       TRUE     FALSE   2019-06-06\n",
       "             source                              md5ok library                 \n",
       "Biobase      Bioconductor                        NA    /opt/conda/lib/R/library\n",
       "BiocGenerics Bioconductor                        NA    /opt/conda/lib/R/library\n",
       "edgeR        Bioconductor                        NA    /opt/conda/lib/R/library\n",
       "limma        Bioconductor                        NA    /opt/conda/lib/R/library\n",
       "multtest     Bioconductor                        NA    /opt/conda/lib/R/library\n",
       "piggyback    Github (ropensci/piggyback@87f71e8) NA    /opt/conda/lib/R/library\n",
       "R.methodsS3  CRAN (R 3.6.2)                      NA    /opt/conda/lib/R/library\n",
       "R.oo         CRAN (R 3.6.2)                      NA    /opt/conda/lib/R/library\n",
       "R.utils      CRAN (R 3.6.2)                      NA    /opt/conda/lib/R/library\n",
       "statmod      CRAN (R 3.6.2)                      NA    /opt/conda/lib/R/library\n",
       "tibble       CRAN (R 3.6.1)                      NA    /opt/conda/lib/R/library"
      ]
     },
     "metadata": {},
     "output_type": "display_data"
    }
   ],
   "source": [
    "dev_session_info   <- devtools::session_info()\n",
    "utils_session_info <- utils::sessionInfo()\n",
    "\n",
    "message(\"Saving `devtools::session_info()` objects in ../metadata/devtools_session_info.rds  ..\")\n",
    "saveRDS(dev_session_info, file = paste0(\"../metadata/\", notebookid, \"_devtools_session_info.rds\"))\n",
    "message(\"Done!\\n\")\n",
    "\n",
    "message(\"Saving `utils::sessionInfo()` objects in ../metadata/utils_session_info.rds  ..\")\n",
    "saveRDS(utils_session_info, file = paste0(\"../metadata/\", notebookid ,\"_utils_info.rds\"))\n",
    "message(\"Done!\\n\")\n",
    "\n",
    "dev_session_info$platform\n",
    "dev_session_info$packages[dev_session_info$packages$attached==TRUE, ]"
   ]
  },
  {
   "cell_type": "code",
   "execution_count": null,
   "metadata": {},
   "outputs": [],
   "source": []
  }
 ],
 "metadata": {
  "kernelspec": {
   "display_name": "R",
   "language": "R",
   "name": "ir"
  },
  "language_info": {
   "codemirror_mode": "r",
   "file_extension": ".r",
   "mimetype": "text/x-r-source",
   "name": "R",
   "pygments_lexer": "r",
   "version": "3.6.2"
  }
 },
 "nbformat": 4,
 "nbformat_minor": 4
}
