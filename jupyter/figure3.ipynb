{
 "cells": [
  {
   "cell_type": "markdown",
   "metadata": {},
   "source": [
    "# Analysis Notebook - Hierarchical Bayesian Modelling"
   ]
  },
  {
   "cell_type": "markdown",
   "metadata": {},
   "source": [
    "## **NOTE**:\n",
    "\n",
    "We assume that you have cloned the analysis repository and have `cd` into the parent directory. Before starting with the analysis make sure you have first completed the dependencies set up by following the instructions described in the **`dependencies/README.md`** document. All paths defined in this Notebook are relative to the parent directory (repository). Please close this Notebook and start again by following the above guidelines if you have not completed the aforementioned steps."
   ]
  },
  {
   "cell_type": "markdown",
   "metadata": {},
   "source": [
    "## Prerequisite input files\n",
    "\n",
    "Before starting the execution of the following code, make sure you have available in the folders `sbas/data` and `sbas/assets` the files listed below as prerequisites.\n",
    "\n",
    "###  **`sbas/data`**.\n",
    "The present analysis requires the following files to be present in the folder **`sbas/data`**.\n",
    "\n",
    "\n",
    "- [x] The contents of `data.tar.gz` after unpacking them into the `sbas/data` folder with `tar xvzf data.tar.gz -C sbas/data `\n",
    "- [x] `SraRunTable.noCram.noExome.noWGS.totalRNA.txt`\n",
    "- [x] `rmats_final.se.jc.ijc.txt`\n",
    "- [x] `rmats_final.se.jc.sjc.txt`\n",
    "- [x] `SraRunTable.noCram.noExome.noWGS.totalRNA.txt`\n",
    "\n",
    "\n",
    "Additionally, the file `GTEx_Analysis_2016-01-15_v7_RNASeQCv1.1.8_gene_tpm.gct` which is retrieved in the script from [`https://storage.googleapis.com/gtex_analysis_v7/rna_seq_data/`](https://storage.googleapis.com/gtex_analysis_v7/rna_seq_data/GTEx_Analysis_2016-01-15_v7_RNASeQCv1.1.8_gene_tpm.gct.gz) and stored into the folder \n",
    "`sbas/data` as well.\n",
    "\n",
    "\n",
    "### **`sbas/assets`**\n",
    "The present analysis requires the following files to be present in the folder **`sbas/assets`**.\n",
    "\n",
    "- [x] `tissues.tsv`: metadata file with information on which tissues will be used for analysis\n",
    "- [x] `splice-relevant-genes.txt`: list of RNA binding proteins that are annotated to splicing relevant functions from GO."
   ]
  },
  {
   "cell_type": "markdown",
   "metadata": {},
   "source": [
    "## Loading dependencies\n",
    "\n",
    "If `conda` is available on your environment you can install the required dependencies by running the following commands:\n",
    "\n",
    "\n",
    "```bash\n",
    "time conda install -y r-base==3.6.2 &&\n",
    "conda install -y r-ggplot2 r-ggsci r-coda r-rstan r-rjags r-compute.es &&\n",
    "Rscript -e 'install.packages(\"runjags\", repos = \"https://cloud.r-project.org/\")'\n",
    "```\n",
    "\n"
   ]
  },
  {
   "cell_type": "code",
   "execution_count": null,
   "metadata": {},
   "outputs": [],
   "source": [
    "# dataviz dependencies\n",
    "library(ggplot2)\n",
    "library(ggsci)\n",
    "library(grid)\n",
    "library(gridExtra)\n",
    "\n",
    "# BDA2E-utilities dependencies\n",
    "library(parallel)\n",
    "library(rjags)\n",
    "library(runjags)\n",
    "library(compute.es)"
   ]
  },
  {
   "cell_type": "markdown",
   "metadata": {},
   "source": [
    "Download GTEx_Analysis_2016-01-15_v7_RNASeQCv1.1.8_gene_tpm.gct from Google Cloud\n"
   ]
  },
  {
   "cell_type": "code",
   "execution_count": 24,
   "metadata": {},
   "outputs": [],
   "source": [
    "if (!(\"GTEx_Analysis_2017-06-05_v8_RNASeQCv1.1.9_gene_tpm.gct\" %in% list.files(\"../data/\"))) {\n",
    "    message(\"Downloading GTEx_Analysis_2017-06-05_v8_RNASeQCv1.1.9_gene_tpm.gct \\nfrom https://console.cloud.google.com/storage/browser/_details/gtex_analysis_v7/rna_seq_data/ ..\")\n",
    "    system(\"wget -O ../data/GTEx_Analysis_2017-06-05_v8_RNASeQCv1.1.9_gene_tpm.gct.gz https://storage.googleapis.com/gtex_analysis_v7/rna_seq_data/GTEx_Analysis_2016-01-15_v7_RNASeQCv1.1.8_gene_tpm.gct.gz\", intern = TRUE)\n",
    "    message(\"Done!\\n\\n\")\n",
    "    message(\"Unzipping compressed file GTEx_Analysis_2017-06-05_v8_RNASeQCv1.1.9_gene_tpm.gct.gz..\")\n",
    "    system(\"gunzip ../data/GTEx_Analysis_2017-06-05_v8_RNASeQCv1.1.9_gene_tpm.gct.gz\", intern = TRUE)\n",
    "    message(\"Done! \\n\\nThe file GTEx_Analysis_2017-06-05_v8_RNASeQCv1.1.9_gene_tpm.gct can be found in ../data/\")\n",
    "}"
   ]
  },
  {
   "cell_type": "markdown",
   "metadata": {},
   "source": [
    "Previously used list of tissues to use for the Hierarchical Bayesian modelling:\n",
    "\n",
    "\n",
    "\n",
    "```R\n",
    "tissue.list<-c(\"Heart - Left Ventricle\",\n",
    "               \"Breast - Mammary Tissue\",\n",
    "               \"Brain - Cortex.Brain - Frontal Cortex (BA9).Brain - Anterior cingulate cortex (BA24)\",\n",
    "               \"Adrenal Gland\",\n",
    "               \"Adipose - Subcutaneous\",\n",
    "               \"Muscle - Skeletal\",\n",
    "               \"Thyroid\",\n",
    "               \"Cells - Transformed fibroblasts\",\n",
    "               \"Artery - Aorta\",\n",
    "               \"Skin - Sun Exposed (Lower leg).Skin - Not Sun Exposed (Suprapubic)\")\n",
    "```"
   ]
  },
  {
   "cell_type": "code",
   "execution_count": 25,
   "metadata": {},
   "outputs": [
    {
     "name": "stderr",
     "output_type": "stream",
     "text": [
      "Parsed with column specification:\n",
      "cols(\n",
      "  name = \u001b[31mcol_character()\u001b[39m,\n",
      "  female = \u001b[32mcol_double()\u001b[39m,\n",
      "  male = \u001b[32mcol_double()\u001b[39m,\n",
      "  include = \u001b[32mcol_double()\u001b[39m,\n",
      "  display.name = \u001b[31mcol_character()\u001b[39m\n",
      ")\n",
      "\n"
     ]
    }
   ],
   "source": [
    "tissues_df <- readr::read_delim(\"../assets/tissues.tsv\", delim = \"\\t\")"
   ]
  },
  {
   "cell_type": "code",
   "execution_count": 26,
   "metadata": {},
   "outputs": [],
   "source": [
    "tissue.list <- tissues_df$name[ tissues_df$include ==1]"
   ]
  },
  {
   "cell_type": "code",
   "execution_count": 28,
   "metadata": {},
   "outputs": [
    {
     "name": "stdout",
     "output_type": "stream",
     "text": [
      "adipose_subcutaneous, adipose_visceral_omentum, adrenal_gland, artery_aorta, artery_coronary, artery_tibial, brain_caudate_basal_ganglia, brain_cerebellar_hemisphere, brain_cerebellum, brain_cortex, brain_frontal_cortex_ba_9, brain_hippocampus, brain_hypothalamus, brain_nucleus_accumbens_basal_ganglia, brain_putamen_basal_ganglia, brain_spinal_cord_cervical_c_1, breast_mammary_tissue, cells_cultured_fibroblasts, cells_ebv_transformed_lymphocytes, colon_sigmoid, colon_transverse, esophagus_gastroesophageal_junction, esophagus_mucosa, esophagus_muscularis, heart_atrial_appendage, heart_left_ventricle, liver, lung, muscle_skeletal, nerve_tibial, pancreas, pituitary, skin_not_sun_exposed_suprapubic, skin_sun_exposed_lower_leg, small_intestine_terminal_ileum, spleen, stomach, thyroid, whole_blood"
     ]
    }
   ],
   "source": [
    "cat(tissue.list, sep = \", \")"
   ]
  },
  {
   "cell_type": "code",
   "execution_count": 30,
   "metadata": {},
   "outputs": [],
   "source": [
    "tissue <- tissue.list[1]  #can be replaced with a loop or argument to choose a different tissue"
   ]
  },
  {
   "cell_type": "code",
   "execution_count": 31,
   "metadata": {},
   "outputs": [
    {
     "data": {
      "text/html": [
       "'adipose_subcutaneous'"
      ],
      "text/latex": [
       "'adipose\\_subcutaneous'"
      ],
      "text/markdown": [
       "'adipose_subcutaneous'"
      ],
      "text/plain": [
       "[1] \"adipose_subcutaneous\""
      ]
     },
     "metadata": {},
     "output_type": "display_data"
    }
   ],
   "source": [
    "tissue"
   ]
  },
  {
   "cell_type": "code",
   "execution_count": 8,
   "metadata": {},
   "outputs": [],
   "source": [
    "dataDir <- \"../data/\"\n",
    "assetsDir <- \"../assets/\""
   ]
  },
  {
   "cell_type": "code",
   "execution_count": 9,
   "metadata": {},
   "outputs": [
    {
     "name": "stderr",
     "output_type": "stream",
     "text": [
      "Warning message:\n",
      "“Column `ensg_names` joining character vector and factor, coercing into character vector”\n"
     ]
    }
   ],
   "source": [
    "ensg_map_path  <- paste0(dataDir, tissue, \"_DGE_ensg_map.csv\" ) \n",
    "DGE_file_path  <- paste0(dataDir, tissue, \"_DGE.csv\" ) \n",
    "\n",
    "ensg_map <- read.csv(ensg_map_path)\n",
    "dge_file <- read.csv(DGE_file_path)\n",
    "\n",
    "# Trim gene version after dot\n",
    "dge_file[[\"ensg_names\"]] <- gsub(\"\\\\..*\",\"\",rownames(dge_file))\n",
    "events.table  <- dplyr::left_join(dge_file, ensg_map , by = \"ensg_names\")\n",
    "rownames(events.table) <- events.table[[\"ensg_names\"]]"
   ]
  },
  {
   "cell_type": "code",
   "execution_count": 10,
   "metadata": {},
   "outputs": [
    {
     "data": {
      "text/html": [
       "<table>\n",
       "<caption>A data.frame: 2 × 2</caption>\n",
       "<thead>\n",
       "\t<tr><th></th><th scope=col>ensg_names</th><th scope=col>ensg_genes</th></tr>\n",
       "\t<tr><th></th><th scope=col>&lt;fct&gt;</th><th scope=col>&lt;fct&gt;</th></tr>\n",
       "</thead>\n",
       "<tbody>\n",
       "\t<tr><th scope=row>1</th><td>ENSG00000176728</td><td>TTTY14    </td></tr>\n",
       "\t<tr><th scope=row>2</th><td>ENSG00000260197</td><td>AC010889.1</td></tr>\n",
       "</tbody>\n",
       "</table>\n"
      ],
      "text/latex": [
       "A data.frame: 2 × 2\n",
       "\\begin{tabular}{r|ll}\n",
       "  & ensg\\_names & ensg\\_genes\\\\\n",
       "  & <fct> & <fct>\\\\\n",
       "\\hline\n",
       "\t1 & ENSG00000176728 & TTTY14    \\\\\n",
       "\t2 & ENSG00000260197 & AC010889.1\\\\\n",
       "\\end{tabular}\n"
      ],
      "text/markdown": [
       "\n",
       "A data.frame: 2 × 2\n",
       "\n",
       "| <!--/--> | ensg_names &lt;fct&gt; | ensg_genes &lt;fct&gt; |\n",
       "|---|---|---|\n",
       "| 1 | ENSG00000176728 | TTTY14     |\n",
       "| 2 | ENSG00000260197 | AC010889.1 |\n",
       "\n"
      ],
      "text/plain": [
       "  ensg_names      ensg_genes\n",
       "1 ENSG00000176728 TTTY14    \n",
       "2 ENSG00000260197 AC010889.1"
      ]
     },
     "metadata": {},
     "output_type": "display_data"
    },
    {
     "data": {
      "text/html": [
       "<table>\n",
       "<caption>A data.frame: 2 × 7</caption>\n",
       "<thead>\n",
       "\t<tr><th></th><th scope=col>logFC</th><th scope=col>AveExpr</th><th scope=col>t</th><th scope=col>P.Value</th><th scope=col>adj.P.Val</th><th scope=col>B</th><th scope=col>ensg_names</th></tr>\n",
       "\t<tr><th></th><th scope=col>&lt;dbl&gt;</th><th scope=col>&lt;dbl&gt;</th><th scope=col>&lt;dbl&gt;</th><th scope=col>&lt;dbl&gt;</th><th scope=col>&lt;dbl&gt;</th><th scope=col>&lt;dbl&gt;</th><th scope=col>&lt;chr&gt;</th></tr>\n",
       "</thead>\n",
       "<tbody>\n",
       "\t<tr><th scope=row>ENSG00000176728.7</th><td>-7.748207</td><td>-1.0323929</td><td>-104.4253</td><td>4.803353e-308</td><td>2.680943e-303</td><td>671.1671</td><td>ENSG00000176728</td></tr>\n",
       "\t<tr><th scope=row>ENSG00000260197.1</th><td>-8.474073</td><td>-0.7043022</td><td>-101.6645</td><td>3.159370e-303</td><td>8.816855e-299</td><td>663.9100</td><td>ENSG00000260197</td></tr>\n",
       "</tbody>\n",
       "</table>\n"
      ],
      "text/latex": [
       "A data.frame: 2 × 7\n",
       "\\begin{tabular}{r|lllllll}\n",
       "  & logFC & AveExpr & t & P.Value & adj.P.Val & B & ensg\\_names\\\\\n",
       "  & <dbl> & <dbl> & <dbl> & <dbl> & <dbl> & <dbl> & <chr>\\\\\n",
       "\\hline\n",
       "\tENSG00000176728.7 & -7.748207 & -1.0323929 & -104.4253 & 4.803353e-308 & 2.680943e-303 & 671.1671 & ENSG00000176728\\\\\n",
       "\tENSG00000260197.1 & -8.474073 & -0.7043022 & -101.6645 & 3.159370e-303 & 8.816855e-299 & 663.9100 & ENSG00000260197\\\\\n",
       "\\end{tabular}\n"
      ],
      "text/markdown": [
       "\n",
       "A data.frame: 2 × 7\n",
       "\n",
       "| <!--/--> | logFC &lt;dbl&gt; | AveExpr &lt;dbl&gt; | t &lt;dbl&gt; | P.Value &lt;dbl&gt; | adj.P.Val &lt;dbl&gt; | B &lt;dbl&gt; | ensg_names &lt;chr&gt; |\n",
       "|---|---|---|---|---|---|---|---|\n",
       "| ENSG00000176728.7 | -7.748207 | -1.0323929 | -104.4253 | 4.803353e-308 | 2.680943e-303 | 671.1671 | ENSG00000176728 |\n",
       "| ENSG00000260197.1 | -8.474073 | -0.7043022 | -101.6645 | 3.159370e-303 | 8.816855e-299 | 663.9100 | ENSG00000260197 |\n",
       "\n"
      ],
      "text/plain": [
       "                  logFC     AveExpr    t         P.Value       adj.P.Val    \n",
       "ENSG00000176728.7 -7.748207 -1.0323929 -104.4253 4.803353e-308 2.680943e-303\n",
       "ENSG00000260197.1 -8.474073 -0.7043022 -101.6645 3.159370e-303 8.816855e-299\n",
       "                  B        ensg_names     \n",
       "ENSG00000176728.7 671.1671 ENSG00000176728\n",
       "ENSG00000260197.1 663.9100 ENSG00000260197"
      ]
     },
     "metadata": {},
     "output_type": "display_data"
    },
    {
     "data": {
      "text/html": [
       "<table>\n",
       "<caption>A data.frame: 2 × 8</caption>\n",
       "<thead>\n",
       "\t<tr><th></th><th scope=col>logFC</th><th scope=col>AveExpr</th><th scope=col>t</th><th scope=col>P.Value</th><th scope=col>adj.P.Val</th><th scope=col>B</th><th scope=col>ensg_names</th><th scope=col>ensg_genes</th></tr>\n",
       "\t<tr><th></th><th scope=col>&lt;dbl&gt;</th><th scope=col>&lt;dbl&gt;</th><th scope=col>&lt;dbl&gt;</th><th scope=col>&lt;dbl&gt;</th><th scope=col>&lt;dbl&gt;</th><th scope=col>&lt;dbl&gt;</th><th scope=col>&lt;chr&gt;</th><th scope=col>&lt;fct&gt;</th></tr>\n",
       "</thead>\n",
       "<tbody>\n",
       "\t<tr><th scope=row>ENSG00000176728</th><td>-7.748207</td><td>-1.0323929</td><td>-104.4253</td><td>4.803353e-308</td><td>2.680943e-303</td><td>671.1671</td><td>ENSG00000176728</td><td>TTTY14    </td></tr>\n",
       "\t<tr><th scope=row>ENSG00000260197</th><td>-8.474073</td><td>-0.7043022</td><td>-101.6645</td><td>3.159370e-303</td><td>8.816855e-299</td><td>663.9100</td><td>ENSG00000260197</td><td>AC010889.1</td></tr>\n",
       "</tbody>\n",
       "</table>\n"
      ],
      "text/latex": [
       "A data.frame: 2 × 8\n",
       "\\begin{tabular}{r|llllllll}\n",
       "  & logFC & AveExpr & t & P.Value & adj.P.Val & B & ensg\\_names & ensg\\_genes\\\\\n",
       "  & <dbl> & <dbl> & <dbl> & <dbl> & <dbl> & <dbl> & <chr> & <fct>\\\\\n",
       "\\hline\n",
       "\tENSG00000176728 & -7.748207 & -1.0323929 & -104.4253 & 4.803353e-308 & 2.680943e-303 & 671.1671 & ENSG00000176728 & TTTY14    \\\\\n",
       "\tENSG00000260197 & -8.474073 & -0.7043022 & -101.6645 & 3.159370e-303 & 8.816855e-299 & 663.9100 & ENSG00000260197 & AC010889.1\\\\\n",
       "\\end{tabular}\n"
      ],
      "text/markdown": [
       "\n",
       "A data.frame: 2 × 8\n",
       "\n",
       "| <!--/--> | logFC &lt;dbl&gt; | AveExpr &lt;dbl&gt; | t &lt;dbl&gt; | P.Value &lt;dbl&gt; | adj.P.Val &lt;dbl&gt; | B &lt;dbl&gt; | ensg_names &lt;chr&gt; | ensg_genes &lt;fct&gt; |\n",
       "|---|---|---|---|---|---|---|---|---|\n",
       "| ENSG00000176728 | -7.748207 | -1.0323929 | -104.4253 | 4.803353e-308 | 2.680943e-303 | 671.1671 | ENSG00000176728 | TTTY14     |\n",
       "| ENSG00000260197 | -8.474073 | -0.7043022 | -101.6645 | 3.159370e-303 | 8.816855e-299 | 663.9100 | ENSG00000260197 | AC010889.1 |\n",
       "\n"
      ],
      "text/plain": [
       "                logFC     AveExpr    t         P.Value       adj.P.Val    \n",
       "ENSG00000176728 -7.748207 -1.0323929 -104.4253 4.803353e-308 2.680943e-303\n",
       "ENSG00000260197 -8.474073 -0.7043022 -101.6645 3.159370e-303 8.816855e-299\n",
       "                B        ensg_names      ensg_genes\n",
       "ENSG00000176728 671.1671 ENSG00000176728 TTTY14    \n",
       "ENSG00000260197 663.9100 ENSG00000260197 AC010889.1"
      ]
     },
     "metadata": {},
     "output_type": "display_data"
    }
   ],
   "source": [
    "head(ensg_map, 2)\n",
    "head(dge_file, 2)\n",
    "head(events.table, 2)"
   ]
  },
  {
   "cell_type": "code",
   "execution_count": 11,
   "metadata": {},
   "outputs": [],
   "source": [
    "events.table.name     <- paste0(dataDir, \"fromGTF.SE.txt\")"
   ]
  },
  {
   "cell_type": "code",
   "execution_count": 12,
   "metadata": {},
   "outputs": [],
   "source": [
    "inc.counts.file.name  <- paste0(dataDir, \"rmats_final.se.jc.ijc.txt\")"
   ]
  },
  {
   "cell_type": "code",
   "execution_count": 13,
   "metadata": {},
   "outputs": [],
   "source": [
    "skip.counts.file.name <- paste0(dataDir, \"rmats_final.se.jc.sjc.txt\")"
   ]
  },
  {
   "cell_type": "code",
   "execution_count": 14,
   "metadata": {},
   "outputs": [],
   "source": [
    "rbp.table.name        <- paste0(assetsDir, \"splice-relevant-genes.txt\")"
   ]
  },
  {
   "cell_type": "code",
   "execution_count": 15,
   "metadata": {},
   "outputs": [],
   "source": [
    "metadata.file.name    <- paste0(dataDir, \"SraRunTable.noCram.noExome.noWGS.totalRNA.txt\")"
   ]
  },
  {
   "cell_type": "code",
   "execution_count": 16,
   "metadata": {},
   "outputs": [],
   "source": [
    "expression.file.name  <- paste0(dataDir, \"GTEx_Analysis_2017-06-05_v8_RNASeQCv1.1.9_gene_tpm.gct\")"
   ]
  },
  {
   "cell_type": "markdown",
   "metadata": {},
   "source": [
    "Load the skip and inclusion count matrices, and the list of RNA binding proteins that are annotated to either:\n",
    "- mRNA splicing, via spliceosome `(GO:0000398)`,\n",
    "- regulation of mRNA splicing, via spliceosome `(GO:0048024)`, or \n",
    "- both. \n",
    "\n",
    "The table has the:\n",
    "- Gene Symbol\n",
    "- the Uniprot ID (`uprot.id`)\n",
    "- the NCBI Gene ID (`gene.id`) and \n",
    "- boolean columns for being \n",
    "  - `S`=mRNA splicing, via spliceosome `(GO:0000398)` and \n",
    "  - `R`=regulation of mRNA splicing, via spliceosome `(GO:0048024)`."
   ]
  },
  {
   "cell_type": "code",
   "execution_count": 17,
   "metadata": {},
   "outputs": [],
   "source": [
    "events.table <- events.table[abs(events.table$logFC)>=log2(1.5) & events.table$adj.P.Val<=0.05,]"
   ]
  },
  {
   "cell_type": "code",
   "execution_count": 18,
   "metadata": {},
   "outputs": [],
   "source": [
    "annot.table  <- read.table(events.table.name,header=T)"
   ]
  },
  {
   "cell_type": "code",
   "execution_count": 19,
   "metadata": {},
   "outputs": [],
   "source": [
    "rownames(annot.table) <- annot.table$ID"
   ]
  },
  {
   "cell_type": "code",
   "execution_count": 20,
   "metadata": {},
   "outputs": [],
   "source": [
    "merged.table <- merge(events.table,annot.table,by=\"row.names\")"
   ]
  },
  {
   "cell_type": "code",
   "execution_count": 21,
   "metadata": {},
   "outputs": [],
   "source": [
    "rbp.table    <- read.table(rbp.table.name,sep=\"\\t\",header=TRUE)  "
   ]
  },
  {
   "cell_type": "code",
   "execution_count": 22,
   "metadata": {},
   "outputs": [],
   "source": [
    "inc.counts   <- read.csv(inc.counts.file.name)"
   ]
  },
  {
   "cell_type": "code",
   "execution_count": null,
   "metadata": {},
   "outputs": [],
   "source": [
    "skip.counts  <- read.csv(skip.counts.file.name)"
   ]
  },
  {
   "cell_type": "markdown",
   "metadata": {},
   "source": [
    "## Check `dim()` of loaded objects"
   ]
  },
  {
   "cell_type": "code",
   "execution_count": null,
   "metadata": {},
   "outputs": [],
   "source": [
    "message(\"Discrepancy in current with previous format, `ID` column not present\")"
   ]
  },
  {
   "cell_type": "code",
   "execution_count": null,
   "metadata": {},
   "outputs": [],
   "source": [
    "dim(events.table)\n",
    "dim(annot.table)\n",
    "dim(merged.table)\n",
    "dim(rbp.table)\n",
    "dim(inc.counts)\n",
    "dim(skip.counts)"
   ]
  },
  {
   "cell_type": "markdown",
   "metadata": {},
   "source": [
    "## Read sample info"
   ]
  },
  {
   "cell_type": "code",
   "execution_count": null,
   "metadata": {},
   "outputs": [],
   "source": [
    "meta.data    <- read.csv(metadata.file.name,header=TRUE)\n",
    "meta.data    <- meta.data[meta.data$body_site==tissue,]\n",
    "inc.counts   <- inc.counts[,colnames(inc.counts) %in% meta.data$Run]\n",
    "skip.counts  <- skip.counts[,colnames(skip.counts) %in% meta.data$Run]\n",
    "sd.threshold <- quantile(apply(inc.counts,1,sd)+apply(skip.counts,1,sd),0.95)\n",
    "skip.counts  <- skip.counts[rownames(skip.counts) %in% merged.table$Row.names,]\n",
    "inc.counts   <- inc.counts[rownames(inc.counts) %in% merged.table$Row.names,]\n",
    "\n",
    "if (nrow(skip.counts)>100)\n",
    "{\n",
    "  select.events<-apply(inc.counts,1,sd)+apply(skip.counts,1,sd)>sd.threshold\n",
    "  inc.counts<-inc.counts[select.events,]\n",
    "  skip.counts<-skip.counts[select.events,]\n",
    "  merged.table<-merged.table[select.events,]\n",
    "}"
   ]
  },
  {
   "cell_type": "markdown",
   "metadata": {},
   "source": [
    "## Read expression data:"
   ]
  },
  {
   "cell_type": "code",
   "execution_count": null,
   "metadata": {},
   "outputs": [],
   "source": [
    "expression.mat          <- read.table(expression.file.name, nrows=1,sep=\"\\t\",header=T,skip=2)\n",
    "colnames.expression.mat <- colnames(expression.mat)\n",
    "total.samples           <- length(colnames.expression.mat)\n",
    "meta.data$Sample.Name   <- gsub(\"-\",\"\\\\.\",meta.data$Sample.Name)\n",
    "meta.data               <- meta.data[meta.data$Sample.Name %in% colnames(expression.mat),]\n",
    "meta.data               <- meta.data[!duplicated(meta.data$Sample.Name),]\n",
    "inc.counts              <- inc.counts[,colnames(inc.counts) %in% meta.data$Run]\n",
    "skip.counts             <- skip.counts[,colnames(skip.counts) %in% meta.data$Run]\n",
    "meta.data               <- meta.data[meta.data$Run %in% colnames(inc.counts),]\n",
    "col.in.tissue           <- c()\n",
    "\n",
    "for (col in colnames.expression.mat)\n",
    "  col.in.tissue<-c(col.in.tissue, (col %in% meta.data$Sample.Name) && (meta.data$body_site[which(meta.data$Sample.Name==col)] %in% tissue) && (meta.data$submitted_subject_id[which(meta.data$Sample.Name==col)]!=\"GTEX-11ILO\"))\n",
    "expression.mat<-read.table(expression.file.name, colClasses = ifelse(col.in.tissue,\"numeric\",\"NULL\"),sep=\"\\t\",header=T,skip=2)"
   ]
  },
  {
   "cell_type": "markdown",
   "metadata": {},
   "source": [
    "## Read gene names:"
   ]
  },
  {
   "cell_type": "code",
   "execution_count": null,
   "metadata": {},
   "outputs": [],
   "source": [
    "expression.mat <- expression.mat[,order(match(colnames(expression.mat),meta.data$Sample.Name))]\n",
    "inc.counts     <- inc.counts[,order(match(colnames(inc.counts),meta.data$Run))]\n",
    "skip.counts    <- skip.counts[,order(match(colnames(skip.counts),meta.data$Run))]\n",
    "all.genes      <- read.table(expression.file.name,sep=\"\\t\",header=T,skip=2,colClasses = c(rep(\"character\", 2), rep(\"NULL\", total.samples-2)))\n",
    "expression.mat <- expression.mat[!duplicated(all.genes$Description),]\n",
    "all.genes      <- all.genes[!duplicated(all.genes$Description),]\n",
    "skip.counts    <- skip.counts[merged.table$geneSymbol %in% all.genes$Description,]\n",
    "inc.counts     <- inc.counts[merged.table$geneSymbol %in% all.genes$Description,]\n",
    "merged.table   <- merged.table[merged.table$geneSymbol %in% all.genes$Description,]\n",
    "gene.names     <- unique(merged.table$geneSymbol)\n",
    "expression.mat <- expression.mat[all.genes$Description %in% c(as.character(rbp.table$Gene),as.character(gene.names)),]\n",
    "rownames.expression.mat <-all.genes$Description[all.genes$Description %in% c(as.character(rbp.table$Gene),as.character(gene.names))]\n",
    "expression.mat <-expression.mat[!duplicated(rownames.expression.mat),]\n",
    "rownames.expression.mat <-rownames.expression.mat[!duplicated(rownames.expression.mat)]"
   ]
  },
  {
   "cell_type": "markdown",
   "metadata": {},
   "source": [
    "## Prepare expression of genes and RBPS:"
   ]
  },
  {
   "cell_type": "code",
   "execution_count": null,
   "metadata": {},
   "outputs": [],
   "source": [
    "num.events     <- nrow(merged.table)\n",
    "event.to.gene  <- c()\n",
    "gexp           <- expression.mat[rownames.expression.mat %in% gene.names,]\n",
    "rownames(gexp) <- rownames.expression.mat[rownames.expression.mat %in% gene.names]\n",
    "gexp           <- gexp[order(match(rownames(gexp),gene.names)),]\n",
    "gexp           <- log2(gexp+0.5)\n",
    "gexp           <- gexp-rowMeans(gexp)\n",
    "\n",
    "gexp[apply(gexp,1,sd)>0,] <- gexp[apply(gexp,1,sd)>0,]/apply(gexp[apply(gexp,1,sd)>0,],1,sd)\n",
    "rexp           <- expression.mat[rownames.expression.mat %in% rbp.table$Gene,]\n",
    "rownames(rexp) <- rownames.expression.mat[rownames.expression.mat %in% rbp.table$Gene]\n",
    "rexp           <- rexp[order(match(rownames(rexp),rbp.table$Gene)),]\n",
    "rexp           <- log2(rexp+0.5)\n",
    "rexp           <- rexp-rowMeans(rexp)\n",
    "rexp           <- rexp/apply(rexp,1,function(v){ifelse(sum(v==v[1])<length(v),sd(v),1)})\n",
    "\n",
    "for (i in (1:num.events))\n",
    "  event.to.gene<-c(event.to.gene,which(unique(merged.table$geneSymbol)==merged.table[i,\"geneSymbol\"]))\n",
    "sex<-ifelse(meta.data$sex==\"male\",1,0)\n"
   ]
  },
  {
   "cell_type": "markdown",
   "metadata": {},
   "source": [
    "## Run stan:"
   ]
  },
  {
   "cell_type": "code",
   "execution_count": null,
   "metadata": {},
   "outputs": [],
   "source": [
    "dataList = list(\n",
    "  as = round(skip.counts) ,   #skip event counts across experiments\n",
    "  c = round(skip.counts+inc.counts)    , #total counts for event, i.e. skip+inclusion, across experiments\n",
    "  gexp = gexp, #read counts for genes (from gtex, take the raw counts) across experiments\n",
    "  rexp = rexp, #read counts for RBPs (from gtex, take the raw counts)\n",
    "  event_to_gene = event.to.gene,  #the gene index for each event (1 to the number of distinct genes) \n",
    "  Nrbp = nrow(rexp), #number of RBPs\n",
    "  Nevents = nrow(merged.table),  #most varying AS events in \n",
    "  Nexp = ncol(expression.mat),#number of experiments such that we measured each event, gene and RBP in each experiment\n",
    "  Ngenes = nrow(gexp),\n",
    "  sex=sex\n",
    ")\n",
    "\n",
    "\n",
    "modelString = \"\n",
    "data {\n",
    "int<lower=0> Nevents;\n",
    "int<lower=0> Nexp;\n",
    "int<lower=0> Nrbp;\n",
    "int<lower=0> Ngenes;\n",
    "int<lower=0> as[Nevents,Nexp] ;\n",
    "int<lower=0> c[Nevents,Nexp] ;\n",
    "matrix[Ngenes,Nexp] gexp ; \n",
    "matrix[Nrbp,Nexp] rexp ; \n",
    "int<lower=0> event_to_gene[Nevents];\n",
    "int<lower=0,upper=1> sex[Nexp];\n",
    "\n",
    "}\n",
    "\n",
    "\n",
    "parameters {\n",
    "real beta0[Nevents] ;\n",
    "real beta1[Nevents] ;\n",
    "matrix[Nevents,Nrbp] beta2 ;\n",
    "real beta3[Nevents];\n",
    "real beta4[Nrbp];\n",
    "\n",
    "}\n",
    "model {\n",
    "\n",
    "for ( i in 1:Nexp ) {  \n",
    "\n",
    "\n",
    "    for ( j in 1:Nevents ) if (c[j,i]>0) { \n",
    "\n",
    "      as[j,i] ~ binomial(c[j,i], inv_logit(beta0[j]+beta1[j]*sex[i]+dot_product(beta2[j,],rexp[,i])+beta3[j]*gexp[event_to_gene[j],i] ) );\n",
    "\n",
    "  }\n",
    "}\n",
    "\n",
    "for (k in 1:Nrbp){\n",
    "\n",
    "  for ( j in 1:Nevents ) { \n",
    "\n",
    "        beta2[j,k] ~normal(beta4[k],1);\n",
    "  }\n",
    "\n",
    "  beta4[k]~normal(0,1);\n",
    "\n",
    "}\n",
    "\n",
    "\n",
    "for ( j in 1:Nevents ) { \n",
    "\n",
    "    beta1[j] ~ normal(0,1);\n",
    "    beta0[j] ~ normal(0,1);\n",
    "    beta3[j] ~ normal(0,1);\n",
    "  }\n",
    "\n",
    "}\n",
    "\"\n",
    "\n",
    "stanDso <- stan_model( model_code=modelString ) \n",
    "stanFit <- sampling( object=stanDso , data = dataList , chains = 3 ,iter = 8000,warmup=6000   , thin = 1,init=0, cores=3 )\n",
    "mcmcCoda = mcmc.list( lapply( 1:ncol(stanFit) , function(x) { mcmc(as.array(stanFit)[,x,]) } ) )"
   ]
  },
  {
   "cell_type": "markdown",
   "metadata": {},
   "source": [
    "# > Inspect from here onwards\n",
    "\n",
    "- What files are needed from here to be saved?\n",
    "- Is the diagnostic plotting helpful for keeping in this notebook?"
   ]
  },
  {
   "cell_type": "code",
   "execution_count": null,
   "metadata": {},
   "outputs": [],
   "source": []
  },
  {
   "cell_type": "code",
   "execution_count": null,
   "metadata": {},
   "outputs": [],
   "source": []
  },
  {
   "cell_type": "code",
   "execution_count": null,
   "metadata": {},
   "outputs": [],
   "source": []
  },
  {
   "cell_type": "code",
   "execution_count": null,
   "metadata": {},
   "outputs": [],
   "source": []
  },
  {
   "cell_type": "code",
   "execution_count": null,
   "metadata": {},
   "outputs": [],
   "source": [
    "source(\"../dimorphAS/DBDA2Eprograms/DBDA2E-utilities.R\")"
   ]
  },
  {
   "cell_type": "markdown",
   "metadata": {},
   "source": [
    "## Initialising dataframe with columns `coef,rbp,tissue`"
   ]
  },
  {
   "cell_type": "code",
   "execution_count": null,
   "metadata": {},
   "outputs": [],
   "source": [
    "df <-data.frame(coef=NULL,rbp=NULL,tissue=NULL)"
   ]
  },
  {
   "cell_type": "markdown",
   "metadata": {},
   "source": [
    "Before running the following, use the Session menu to set working directory to source file location\n",
    "```R\n",
    "setwd(dir = \"../dimorphAS/DBDA2Eprograms/\")\n",
    "```"
   ]
  },
  {
   "cell_type": "code",
   "execution_count": null,
   "metadata": {},
   "outputs": [],
   "source": [
    "load(\"../dimorphAS/figures/oldFigureDrafts/figure3b.RData\")"
   ]
  },
  {
   "cell_type": "markdown",
   "metadata": {},
   "source": [
    "### This invokes X11 which is not available for all systems, and won\"t work in a NextFlow pipeline\n",
    "\n",
    "```\n",
    "diagMCMC(mcmcCoda , parName=c(\"beta2[101,87]\"))\n",
    "```"
   ]
  },
  {
   "cell_type": "code",
   "execution_count": null,
   "metadata": {},
   "outputs": [],
   "source": [
    "options(repr.plot.width=6, repr.plot.height=4)\n",
    "\n",
    "codaObject <- mcmcCoda \n",
    "parName    <- c(\"beta2[101,87]\") #varnames(codaObject)[1]\n",
    "saveName   <- NULL\n",
    "saveType   <- \"jpg\"\n",
    "\n",
    "\n",
    "DBDAplColors = c(\"skyblue\",\n",
    "               \"black\",\n",
    "               \"royalblue\",\n",
    "               \"steelblue\")\n",
    "\n",
    "#openGraph(height=5,width=7)\n",
    "    \n",
    "par(mar=0.5+c(3,4,1,0) , \n",
    "  oma=0.1+c(0,0,2,0) , \n",
    "  mgp=c(2.25,0.7,0) , \n",
    "  cex.lab=1.5 )\n",
    "    \n",
    "layout(matrix(1:4,nrow=2))\n",
    "  # traceplot and gelman.plot are from CODA package:\n",
    "require(coda)\n",
    "coda::traceplot( codaObject[,c(parName)], \n",
    "              main=\"\" , \n",
    "              ylab=\"Param. Value\" ,\n",
    "              col=DBDAplColors )"
   ]
  },
  {
   "cell_type": "code",
   "execution_count": null,
   "metadata": {},
   "outputs": [],
   "source": [
    "options(repr.plot.width=6, repr.plot.height=4)\n",
    "tryVal = try(\n",
    "coda::gelman.plot(codaObject[,c(parName)] , \n",
    "                  main=\"\",\n",
    "                  auto.layout=FALSE,\n",
    "                  col=DBDAplColors )\n",
    ")  "
   ]
  },
  {
   "cell_type": "code",
   "execution_count": null,
   "metadata": {},
   "outputs": [],
   "source": [
    "options(repr.plot.width=6, repr.plot.height=4)\n",
    "\n",
    "# if it runs, gelman.plot returns a list with finite shrink values:\n",
    "  if ( class(tryVal)==\"try-error\" ) {\n",
    "    plot.new() \n",
    "    print(paste0(\"Warning: coda::gelman.plot fails for \",parName))\n",
    "  } else { \n",
    "    if ( class(tryVal)==\"list\" & !is.finite(tryVal$shrink[1]) ) {\n",
    "      plot.new() \n",
    "      print(paste0(\"Warning: coda::gelman.plot fails for \",parName))\n",
    "    }\n",
    "  }\n",
    "  DbdaAcfPlot(codaObject,parName,plColors=DBDAplColors)\n",
    "  DbdaDensPlot(codaObject,parName,plColors=DBDAplColors)\n",
    "  mtext( text=parName , outer=TRUE , adj=c(0.5,0.5) , cex=2.0 )\n",
    "  if ( !is.null(saveName) ) {\n",
    "    saveGraph( file=paste0(saveName,\"Diag\",parName), type=saveType)\n",
    "  }\n",
    "\n"
   ]
  },
  {
   "cell_type": "code",
   "execution_count": null,
   "metadata": {},
   "outputs": [],
   "source": [
    "##Collect coefficients for RBPs whose 95% HDI does not contain 0:"
   ]
  },
  {
   "cell_type": "code",
   "execution_count": null,
   "metadata": {},
   "outputs": [],
   "source": [
    "rbp.names<-rownames(rexp)\n",
    "\n",
    "df<-data.frame(coef=NULL,rbp=NULL,tissue=NULL)\n",
    "\n",
    "hdi<-HPDinterval(mcmcCoda)  \n",
    "\n",
    "s <- summary(mcmcCoda)\n",
    "\n",
    "m <- s$statistics[,\"Mean\"]\n",
    "\n",
    "beta2.mat<-matrix(nrow=nrow(merged.table),ncol=length(rbp.names))\n",
    "\n",
    "for (rbp in (1:length(rbp.names)))\n",
    "  \n",
    "  for (event in (1:nrow(merged.table)))\n",
    "  {\n",
    "    \n",
    "    var.name<-paste0(\"beta2[\",event,\",\",rbp,\"]\")\n",
    "    \n",
    "    low<-hdi[[1]][rownames(hdi[[1]])==var.name][1]\n",
    "    \n",
    "    high<-hdi[[1]][rownames(hdi[[1]])==var.name][2]\n",
    "    \n",
    "    beta2.mat[event,rbp]<-m[grepl(paste0(\"beta2\\\\[\",event,\",\",rbp,\"\\\\]\"),names(m))]\n",
    "    \n",
    "    if (low<0 && high>0)\n",
    "      \n",
    "      beta2.mat[event,rbp]<-0\n",
    "    \n",
    "  }\n",
    "\n",
    "\n",
    "\n",
    "colnames(beta2.mat)=rbp.names\n",
    "\n",
    "for (rbp in rbp.names)\n",
    "  \n",
    "  df<-rbind(df,cbind(beta2.mat[,colnames(beta2.mat)==rbp],rep(rbp,nrow(beta2.mat)),rep(tissue,nrow(beta2.mat)))  )\n",
    "\n",
    "\n",
    "colnames(df)<-c(\"Coef\",\"RBP\",\"Tissue\")\n",
    "    \n",
    "df$Coef<-as.numeric(as.character(df$Coef))\n"
   ]
  },
  {
   "cell_type": "code",
   "execution_count": null,
   "metadata": {},
   "outputs": [],
   "source": [
    "##Display a violin plot for some selected RBPs:"
   ]
  },
  {
   "cell_type": "code",
   "execution_count": null,
   "metadata": {},
   "outputs": [],
   "source": [
    "labels<-read.table(\"labels.tsv\",sep=\"\\t\",header=T)\n",
    "\n",
    "df$Tissue<-as.character(df$Tissue)\n",
    "\n",
    "for (i in 1:nrow(df))\n",
    "  \n",
    "  if (df$Tissue[i] %in% labels$tissue)\n",
    "    \n",
    "    df$Tissue[i]<-as.character(labels$X[which(as.character(labels$tissue)==as.character(df$Tissue[i]))])\n",
    "\n",
    "\n",
    "df<-df[df$Coef!=0,]\n",
    "\n",
    "\n",
    "df$RBP<-as.character(df$RBP)\n",
    "\n",
    "df1<-df[df$RBP %in% c(\"BUD13\", \"GTF2F1\",\"CTNNBL1\"),]\n",
    "\n",
    "pn1<-ggplot(df1,aes(factor(RBP),Coef)) + geom_violin(aes(fill=\"red\")) + scale_fill_manual(values = \"#4DBBD5FF\") \n",
    "\n",
    "pn1 <- pn1 + theme_minimal() +  theme(text = element_text(size=20),\n",
    "                                      axis.text = element_text(size=20, hjust=0.5),\n",
    "                                      axis.title.x=element_blank(),\n",
    "                                      axis.title.y = element_text(size=24),\n",
    "                                      plot.title = element_text(hjust = 0.5),\n",
    "                                      legend.position = \"none\") + ylab(\"\") + labs(title=\"\")+ylim(-2,2)+ geom_hline(yintercept=0)\n",
    "\n"
   ]
  },
  {
   "cell_type": "code",
   "execution_count": null,
   "metadata": {},
   "outputs": [],
   "source": [
    "##Create barplot of the number of RBPs that tend to promote skipping, the number of RBPs that tend to promote\n",
    "#inclusion and the number of RBPs whose effect is context-specific, for the two RBP groups"
   ]
  },
  {
   "cell_type": "code",
   "execution_count": null,
   "metadata": {},
   "outputs": [],
   "source": [
    "spliceosome_genes = as.character(rbp.table$Gene[rbp.table$S==\"TRUE\"])\n",
    "\n",
    "splice_regulation_genes = as.character(rbp.table$Gene[rbp.table$R==\"TRUE\"])\n",
    "\n",
    "for (RBP_set in list(spliceosome=spliceosome_genes,splice_regulation=splice_regulation_genes))\n",
    "{\n",
    "  sum.pos<-sort(unlist(lapply(lapply(split(df$Coef[df$RBP %in% RBP_set],df$RBP[df$RBP %in% RBP_set]),\">\",0),sum)),decreasing = T)\n",
    "  \n",
    "  sum.neg<-sort(unlist(lapply(lapply(split(df$Coef[df$RBP %in% RBP_set],df$RBP[df$RBP %in% RBP_set]),\"<\",0),sum)),decreasing = T)\n",
    "  \n",
    "  sum.pos<-sum.pos[order(names(sum.pos))]\n",
    "  \n",
    "  sum.neg<-sum.neg[order(names(sum.neg))]\n",
    "  \n",
    "  pos.rbps<-names(which(sum.pos/(sum.pos+sum.neg)>=0.75 & (sum.pos+sum.neg>quantile(sum.pos+sum.neg,0.2))))\n",
    "  \n",
    "  neg.rbps<-names(which(sum.pos/(sum.pos+sum.neg)<=0.25 & (sum.pos+sum.neg>quantile(sum.pos+sum.neg,0.2))))\n",
    "  \n",
    "  cs.rbps<-names(which(sum.pos/(sum.pos+sum.neg)>0.25 & sum.pos/(sum.pos+sum.neg)<0.75 & (sum.pos+sum.neg>quantile(sum.pos+sum.neg,0.2))))\n",
    "  \n",
    "  df.counts<-data.frame(type=c(\"Skip\",\"Inc\",\"CS\"),counts=c(length(pos.rbps),length(neg.rbps),length(cs.rbps)))\n",
    "  \n",
    "  pn4_new <- ggplot(df.counts, aes(type, counts)) +  \n",
    "    geom_bar(fill = \"#00008B\",color=\"black\", position = \"dodge\", stat=\"identity\") + \n",
    "    geom_text(aes(x = type, y = counts + 10, label = paste(100 * round(counts/sum(counts), 3), \"%\", sep = \"\")), size = 3) +\n",
    "    guides(fill=FALSE) +\n",
    "    xlab(\"\") + scale_y_continuous(breaks = c(0, 20, 40), limits = c(0, 60))+\n",
    "    theme_minimal() +\n",
    "    theme(\n",
    "      axis.text = element_text(size = 8), \n",
    "      axis.text.x = element_text(angle = 90, hjust = 1), \n",
    "      axis.title = element_text(size = 10),\n",
    "      axis.title.y = element_text(vjust = 5)\n",
    "    )\n",
    "  show(pn4_new  )\n",
    "}\n",
    "\n",
    "\n"
   ]
  },
  {
   "cell_type": "code",
   "execution_count": null,
   "metadata": {},
   "outputs": [],
   "source": [
    "if ( (\"lv.txt\" %in% list.files(\"../data/\")) && (\"mt.txt\" %in% list.files(\"../data/\"))) {\n",
    "        message(\"The files lv.txt or mt.txt are available in the folder ../data/! \\n\")\n",
    "        message(\"The \"perl parseMT.pl\" command will not be re-run \\n\")\n",
    "}\n",
    "\n",
    "\n",
    "if ( (!(\"lv.txt\" %in% list.files(\"../data/\"))) | (!(\"mt.txt\" %in% list.files(\"../data/\")))) {\n",
    "        message(\"The files lv.txt or mt.txt not found in the folder ../data/ \\n\")\n",
    "        message(\"Generating lv.txt and mt.txt with \"perl parseMT.pl\" using \"summary_hbm.txt\" as input .. \\n\")\n",
    "        system(paste0(\"cd ../dimorphAS/notebook/ && \",\n",
    "                      \"perl parseMT.pl > parseMT_output.txt && \", \n",
    "                      \"mv lv.txt ../../data/ && \",\n",
    "                      \"mv mt.txt ../../data/ && \",\n",
    "                      \"cp summary_hbm.txt  ../../data/\"), \n",
    "               intern  = TRUE)\n",
    "        message(\"Done!\\n\")\n",
    "}\n",
    "\n"
   ]
  },
  {
   "cell_type": "markdown",
   "metadata": {},
   "source": [
    "## Metadata\n",
    "\n",
    "For replicability and reproducibility purposes, we also print the following metadata:\n",
    "\n",
    "1. Checksums of **\"artefacts\"**, files generated during the analysis and stored in the folder directory **`data`**\n",
    "2. List of environment metadata, dependencies, versions of libraries using `utils::sessionInfo()` and [`devtools::session_info()`](https://devtools.r-lib.org/reference/session_info.html)"
   ]
  },
  {
   "cell_type": "markdown",
   "metadata": {},
   "source": [
    "### 1. Checksums with the sha256 algorithm"
   ]
  },
  {
   "cell_type": "code",
   "execution_count": null,
   "metadata": {},
   "outputs": [],
   "source": [
    "figure_id       <- \"figures_3\"\n",
    "\n",
    "message(\"Generating sha256 checksums of the artefacts in the `..data/` directory .. \")\n",
    "system(paste0(\"cd ../data/ && find . -type f -exec sha256sum {} \\\\; > ../metadata/\",  figure_id, \"_sha256sums.txt\"), intern = TRUE)\n",
    "message(\"Done!\\n\")\n",
    "\n",
    "data.table::fread(paste0(\"../metadata/\", figure_id, \"_sha256sums.txt\"), header = FALSE, col.names = c(\"sha256sum\", \"file\"))"
   ]
  },
  {
   "cell_type": "markdown",
   "metadata": {},
   "source": [
    "### 2. Libraries metadata"
   ]
  },
  {
   "cell_type": "code",
   "execution_count": null,
   "metadata": {},
   "outputs": [],
   "source": [
    "dev_session_info   <- devtools::session_info()\n",
    "utils_session_info <- utils::sessionInfo()\n",
    "\n",
    "message(\"Saving `devtools::session_info()` objects in ../metadata/devtools_session_info.rds  ..\")\n",
    "saveRDS(dev_session_info, file = paste0(\"../metadata/\", figure_id, \"_devtools_session_info.rds\"))\n",
    "message(\"Done!\\n\")\n",
    "\n",
    "message(\"Saving `utils::sessionInfo()` objects in ../metadata/utils_session_info.rds  ..\")\n",
    "saveRDS(utils_session_info, file = paste0(\"../metadata/\", figure_id ,\"_utils_info.rds\"))\n",
    "message(\"Done!\\n\")\n",
    "\n",
    "dev_session_info$platform\n",
    "dev_session_info$packages[dev_session_info$packages$attached==TRUE, ]"
   ]
  }
 ],
 "metadata": {
  "kernelspec": {
   "display_name": "R",
   "language": "R",
   "name": "ir"
  },
  "language_info": {
   "codemirror_mode": "r",
   "file_extension": ".r",
   "mimetype": "text/x-r-source",
   "name": "R",
   "pygments_lexer": "r",
   "version": "3.6.2"
  }
 },
 "nbformat": 4,
 "nbformat_minor": 4
}
