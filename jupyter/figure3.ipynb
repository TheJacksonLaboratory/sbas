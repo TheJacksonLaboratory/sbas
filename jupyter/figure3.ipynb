{
 "cells": [
  {
   "cell_type": "markdown",
   "metadata": {},
   "source": [
    "# Figure 3 - `{Figure I am legend }`"
   ]
  },
  {
   "cell_type": "markdown",
   "metadata": {},
   "source": [
    "A small description for the analysis, the metrics and how to interpret the figure."
   ]
  },
  {
   "cell_type": "markdown",
   "metadata": {},
   "source": [
    "## **NOTE**:\n",
    "\n",
    "We assume that you have cloned the analysis repository and have `cd` into the parent directory. Before starting with the analysis make sure you have first completed the dependencies set up by following the instructions described in the **`dependencies/README.md`** document. All paths defined in this Notebook are relative to the parent directory (repository). Please close this Notebook and start again by following the above guidelines if you have not completed the aforementioned steps."
   ]
  },
  {
   "cell_type": "markdown",
   "metadata": {},
   "source": [
    "## Loading dependencies"
   ]
  },
  {
   "cell_type": "code",
   "execution_count": 22,
   "metadata": {},
   "outputs": [
    {
     "name": "stdout",
     "output_type": "stream",
     "text": [
      "\n",
      "*********************************************************************\n",
      "Kruschke, J. K. (2015). Doing Bayesian Data Analysis, Second Edition:\n",
      "A Tutorial with R, JAGS, and Stan. Academic Press / Elsevier.\n",
      "*********************************************************************\n",
      "\n"
     ]
    },
    {
     "ename": "ERROR",
     "evalue": "Error in library(plotly): there is no package called ‘plotly’\n",
     "output_type": "error",
     "traceback": [
      "Error in library(plotly): there is no package called ‘plotly’\nTraceback:\n",
      "1. library(plotly)",
      "2. stop(txt, domain = NA)"
     ]
    }
   ],
   "source": [
    "# Figure 3c\n",
    "# TODO: remove line below\n",
    "#install.packages(c(\"coda\",\"rjags\",\"runjags\"))\n",
    "#install.packages(\"runjags\", repos='http://cran.us.r-project.org')\n",
    "library(coda)\n",
    "library(rjags)\n",
    "library(runjags)\n",
    "source('dimorphAS/DBDA2Eprograms/DBDA2E-utilities.R')\n",
    "load('dimorphAS/figures/figure3/figure3c.RData')\n",
    "\n",
    "# Figure 3d\n",
    "library(plotly)\n",
    "library(magrittr)"
   ]
  },
  {
   "cell_type": "markdown",
   "metadata": {},
   "source": [
    "## Figure 3c"
   ]
  },
  {
   "cell_type": "markdown",
   "metadata": {},
   "source": [
    "Some text for describing what is going to be executed and what it will produce"
   ]
  },
  {
   "cell_type": "code",
   "execution_count": 12,
   "metadata": {},
   "outputs": [
    {
     "name": "stderr",
     "output_type": "stream",
     "text": [
      "Warning message in X11(width = width * mag, height = height * mag, type = \"cairo\", :\n",
      "“unable to open connection to X11 display ''”\n"
     ]
    },
    {
     "name": "stdin",
     "output_type": "stream",
     "text": [
      "WARNING: Previous graphics windows will be closed because of too many open windows.\n",
      "TO CONTINUE, PRESS <ENTER> IN R CONSOLE.\n",
      " \n"
     ]
    },
    {
     "name": "stdout",
     "output_type": "stream",
     "text": [
      "Error in .External2(C_X11, d$display, d$width, d$height, d$pointsize,  : \n",
      "  unable to start device X11cairo\n"
     ]
    },
    {
     "name": "stderr",
     "output_type": "stream",
     "text": [
      "Warning message in X11(width = width * mag, height = height * mag, type = \"cairo\", :\n",
      "“unable to open connection to X11 display ''”\n"
     ]
    },
    {
     "ename": "ERROR",
     "evalue": "Error in .External2(C_X11, d$display, d$width, d$height, d$pointsize, : unable to start device X11cairo\n",
     "output_type": "error",
     "traceback": [
      "Error in .External2(C_X11, d$display, d$width, d$height, d$pointsize, : unable to start device X11cairo\nTraceback:\n",
      "1. mydiag(mcmcCoda, parName = c(\"beta3[101]\"), saveName = \"fig3c\")",
      "2. openGraph(height = 5, width = 7)   # at line 37 of file <text>",
      "3. X11(width = width * mag, height = height * mag, type = \"cairo\", \n .     ...)   # at line 55 of file /Users/karleg/Downloads/DBDA2Eprograms/DBDA2E-utilities.R"
     ]
    }
   ],
   "source": [
    "npgBlue<- rgb(60/256,84/256,136/256,1)\n",
    "npgRed <- rgb(220/256,0,0,0.8)\n",
    "npgGreen <- rgb(0,160/256,135/256,1)\n",
    "npgBrown <- rgb(126/256,97/256,72/256,1)\n",
    "\n",
    "\n",
    "myDbdaDensPlot = function( codaObject , parName=varnames(codaObject)[1] , plColors=NULL ) {\n",
    "  if ( all( parName != varnames(codaObject) ) ) { \n",
    "    stop(\"parName must be a column name of coda object\")\n",
    "  }\n",
    "  nChain = length(codaObject) # or nchain(codaObject)\n",
    "  if ( is.null(plColors) ) plColors=1:nChain\n",
    "  xMat = NULL\n",
    "  yMat = NULL\n",
    "  hdiLims = NULL\n",
    "  for ( cIdx in 1:nChain ) {\n",
    "    densInfo = density(codaObject[,c(parName)][[cIdx]]) \n",
    "    xMat = cbind(xMat,densInfo$x)\n",
    "    yMat = cbind(yMat,densInfo$y)\n",
    "    hdiLims = cbind(hdiLims,HDIofMCMC(codaObject[,c(parName)][[cIdx]]))\n",
    "  }\n",
    "  matplot( xMat , yMat , type=\"l\" , col=plColors , \n",
    "           main=\"\" , xlab=\"Param. Value\" , ylab=\"Density\" )\n",
    "  abline(h=0)\n",
    "  points( hdiLims[1,] , rep(0,nChain) , col=plColors , pch=\"|\" )\n",
    "  points( hdiLims[2,] , rep(0,nChain) , col=plColors , pch=\"|\" )\n",
    "  text( mean(hdiLims) , 0 , \"95% HDI\" , adj=c(0.5,-0.2), cex=2 )\n",
    "  EffChnLngth = effectiveSize(codaObject[,c(parName)])\n",
    "  MCSE = sd(as.matrix(codaObject[,c(parName)]))/sqrt(EffChnLngth) \n",
    "  text( max(xMat) , max(yMat) , adj=c(1.0,1.0) , cex=1.75 ,\n",
    "        paste(\"MCSE =\\n\",signif(MCSE,3)) )\n",
    "}\n",
    "\n",
    "mydiag <- function( codaObject , parName=varnames(codaObject)[1] ,\n",
    "                    saveName=NULL , saveType=\"pdf\" ) {\n",
    "  DBDAplColors =  c(\"skyblue\",\"black\",\"royalblue\",\"steelblue\")#c(npgBlue,\"black\",npgRed,npgGreen)\n",
    "  openGraph(height=5,width=7)\n",
    "  par( mar=0.5+c(3,4,1,0) , oma=0.1+c(0,0,2,0) , mgp=c(2.25,0.7,0) , \n",
    "       cex.lab=2 , cex.axis=2)\n",
    "  require(coda)\n",
    "  # The following is the HDI plot\n",
    "  myDbdaDensPlot(codaObject,parName,plColors=DBDAplColors)\n",
    "  #Uncomment the following to add the title (beta3[101]), which is not informative so\n",
    "  # we will leave it out.\n",
    "  #mtext( text=parName , outer=TRUE , adj=c(0.5,0.5) , cex=2.0 )\n",
    "  if ( !is.null(saveName) ) {\n",
    "    saveGraph( file=paste0(saveName), type=saveType)\n",
    "  }\n",
    "}\n",
    "\n",
    "\n",
    "mydiag( mcmcCoda , parName=c(\"beta3[101]\") , saveName=\"fig3c\")  "
   ]
  },
  {
   "cell_type": "code",
   "execution_count": 21,
   "metadata": {},
   "outputs": [
    {
     "data": {
      "text/html": [
       "<style>\n",
       ".dl-inline {width: auto; margin:0; padding: 0}\n",
       ".dl-inline>dt, .dl-inline>dd {float: none; width: auto; display: inline-block}\n",
       ".dl-inline>dt::after {content: \":\\0020\"; padding-right: .5ex}\n",
       ".dl-inline>dt:not(:first-of-type) {padding-left: .5ex}\n",
       "</style><dl class=dl-inline><dt>jpeg</dt><dd>TRUE</dd><dt>png</dt><dd>TRUE</dd><dt>tiff</dt><dd>TRUE</dd><dt>tcltk</dt><dd>TRUE</dd><dt>X11</dt><dd>FALSE</dd><dt>aqua</dt><dd>FALSE</dd><dt>http/ftp</dt><dd>TRUE</dd><dt>sockets</dt><dd>TRUE</dd><dt>libxml</dt><dd>TRUE</dd><dt>fifo</dt><dd>TRUE</dd><dt>cledit</dt><dd>FALSE</dd><dt>iconv</dt><dd>TRUE</dd><dt>NLS</dt><dd>TRUE</dd><dt>profmem</dt><dd>TRUE</dd><dt>cairo</dt><dd>TRUE</dd><dt>ICU</dt><dd>TRUE</dd><dt>long.double</dt><dd>TRUE</dd><dt>libcurl</dt><dd>TRUE</dd></dl>\n"
      ],
      "text/latex": [
       "\\begin{description*}\n",
       "\\item[jpeg] TRUE\n",
       "\\item[png] TRUE\n",
       "\\item[tiff] TRUE\n",
       "\\item[tcltk] TRUE\n",
       "\\item[X11] FALSE\n",
       "\\item[aqua] FALSE\n",
       "\\item[http/ftp] TRUE\n",
       "\\item[sockets] TRUE\n",
       "\\item[libxml] TRUE\n",
       "\\item[fifo] TRUE\n",
       "\\item[cledit] FALSE\n",
       "\\item[iconv] TRUE\n",
       "\\item[NLS] TRUE\n",
       "\\item[profmem] TRUE\n",
       "\\item[cairo] TRUE\n",
       "\\item[ICU] TRUE\n",
       "\\item[long.double] TRUE\n",
       "\\item[libcurl] TRUE\n",
       "\\end{description*}\n"
      ],
      "text/markdown": [
       "jpeg\n",
       ":   TRUEpng\n",
       ":   TRUEtiff\n",
       ":   TRUEtcltk\n",
       ":   TRUEX11\n",
       ":   FALSEaqua\n",
       ":   FALSEhttp/ftp\n",
       ":   TRUEsockets\n",
       ":   TRUElibxml\n",
       ":   TRUEfifo\n",
       ":   TRUEcledit\n",
       ":   FALSEiconv\n",
       ":   TRUENLS\n",
       ":   TRUEprofmem\n",
       ":   TRUEcairo\n",
       ":   TRUEICU\n",
       ":   TRUElong.double\n",
       ":   TRUElibcurl\n",
       ":   TRUE\n",
       "\n"
      ],
      "text/plain": [
       "       jpeg         png        tiff       tcltk         X11        aqua \n",
       "       TRUE        TRUE        TRUE        TRUE       FALSE       FALSE \n",
       "   http/ftp     sockets      libxml        fifo      cledit       iconv \n",
       "       TRUE        TRUE        TRUE        TRUE       FALSE        TRUE \n",
       "        NLS     profmem       cairo         ICU long.double     libcurl \n",
       "       TRUE        TRUE        TRUE        TRUE        TRUE        TRUE "
      ]
     },
     "metadata": {},
     "output_type": "display_data"
    },
    {
     "data": {
      "text/html": [
       "<strong>X11:</strong> FALSE"
      ],
      "text/latex": [
       "\\textbf{X11:} FALSE"
      ],
      "text/markdown": [
       "**X11:** FALSE"
      ],
      "text/plain": [
       "  X11 \n",
       "FALSE "
      ]
     },
     "metadata": {},
     "output_type": "display_data"
    },
    {
     "ename": "ERROR",
     "evalue": "Error in capabilitiesX11(): could not find function \"capabilitiesX11\"\n",
     "output_type": "error",
     "traceback": [
      "Error in capabilitiesX11(): could not find function \"capabilitiesX11\"\nTraceback:\n"
     ]
    }
   ],
   "source": [
    "# Debugging\n",
    "# https://github.com/easybuilders/easybuild-easyconfigs/issues/7808\n",
    "capabilities()\n",
    "capabilities(\"X11\")\n",
    "capabilitiesX11()\n",
    "# install.packages(\"XQuartz\")\n",
    "# install.packages(\"ggplot2\")\n",
    "# library(ggplot2)\n",
    "# capabilities()"
   ]
  },
  {
   "cell_type": "markdown",
   "metadata": {},
   "source": [
    "## Figure 3d"
   ]
  },
  {
   "cell_type": "code",
   "execution_count": null,
   "metadata": {},
   "outputs": [],
   "source": [
    "data <- read.table(\"dimorphAS/figures/figure3/3dtable.txt\", header = TRUE, sep = \"\\t\")\n",
    "\n",
    "mypal = pal_npg(\"npg\", alpha = 0.7)(9)\n",
    "\n",
    "\n",
    "# there is one outlier skipped that is far away from everybody \n",
    "plot_ly(data, x = ~Inclusion, y = ~Skip, z = ~Expression, alpha = 0.8, \n",
    "        marker = list(color = ~Sex, colorscale = c(\"blue\", \"red\"), showscale=TRUE,symbol = \"circle\", sizemode = \"diameter\", size = 5)) %>%\n",
    "  layout(scene = list(xaxis = list(title = 'Inclusion', range = c(20, 50)),\n",
    "                      yaxis = list(title = 'Skip', range = c(0, 120)),\n",
    "                      zaxis = list(title = 'Expression')))"
   ]
  },
  {
   "cell_type": "markdown",
   "metadata": {},
   "source": [
    "## Metadata\n",
    "\n",
    "For replicability and reproducibility purposes, we also print the following metadata:\n",
    "\n",
    "1. Checksums of **'artefacts'**, files generated during the analysis and stored in the folder directory **`data`**\n",
    "2. List of environment metadata, dependencies, versions of libraries using `utils::sessionInfo()` and [`devtools::session_info()`](https://devtools.r-lib.org/reference/session_info.html)"
   ]
  },
  {
   "cell_type": "markdown",
   "metadata": {},
   "source": [
    "### 1. Checksums with the sha256 algorithm"
   ]
  },
  {
   "cell_type": "code",
   "execution_count": null,
   "metadata": {},
   "outputs": [],
   "source": [
    "figure_id   = \"<the-figure-i-am-working-on>\"\n",
    "\n",
    "message(\"Generating sha256 checksums of the artefacts in the `..data/` directory .. \")\n",
    "system(paste0(\"cd ../data/ && sha256sum * > ../metadata/\", figure_id, \"_sha256sums.txt\"), intern = TRUE)\n",
    "message(\"Done!\\n\")\n",
    "\n",
    "data.table::fread(paste0(\"../metadata/\", figure_id, \"_sha256sums.txt\"), header = FALSE, col.names = c(\"sha256sum\", \"file\"))"
   ]
  },
  {
   "cell_type": "markdown",
   "metadata": {},
   "source": [
    "### 2. Libraries metadata"
   ]
  },
  {
   "cell_type": "code",
   "execution_count": null,
   "metadata": {},
   "outputs": [],
   "source": [
    "figure_id   = \"<the-figure-i-am-working-on>\"\n",
    "\n",
    "dev_session_info   <- devtools::session_info()\n",
    "utils_session_info <- utils::sessionInfo()\n",
    "\n",
    "message(\"Saving `devtools::session_info()` objects in ../metadata/devtools_session_info.rds  ..\")\n",
    "saveRDS(dev_session_info, file = paste0(\"../metadata/\", figure_id, \"_devtools_session_info.rds\"))\n",
    "message(\"Done!\\n\")\n",
    "\n",
    "message(\"Saving `utils::sessionInfo()` objects in ../metadata/utils_session_info.rds  ..\")\n",
    "saveRDS(utils_session_info, file = paste0(\"../metadata/\", figure_id ,\"_utils_info.rds\"))\n",
    "message(\"Done!\\n\")\n",
    "\n",
    "session_info$platform\n",
    "session_info$packages[session_info$packages$attached==TRUE, ]"
   ]
  }
 ],
 "metadata": {
  "kernelspec": {
   "display_name": "R",
   "language": "R",
   "name": "ir"
  },
  "language_info": {
   "codemirror_mode": "r",
   "file_extension": ".r",
   "mimetype": "text/x-r-source",
   "name": "R",
   "pygments_lexer": "r",
   "version": "3.5.1"
  }
 },
 "nbformat": 4,
 "nbformat_minor": 4
}
