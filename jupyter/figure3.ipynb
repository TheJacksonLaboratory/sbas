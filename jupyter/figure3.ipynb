{
 "cells": [
  {
   "cell_type": "markdown",
   "metadata": {},
   "source": [
    "# Figures 3c, 3d: \n",
    "\n",
    "**EDIT**: \n",
    "This code comes from `dimorphAS/notebook/figure4a` but corresponds to the figure **`Figure 3c, 3d`** of the publication."
   ]
  },
  {
   "cell_type": "markdown",
   "metadata": {},
   "source": [
    "## Questions:\n",
    "\n",
    "- Are these plots only for specific tissues?\n",
    "- Is the tissue defined inside the [`parseMT.pl`]() script?\n",
    "- What are the `mt.txt` and `lv.txt` referring to? Is that tissues?\n",
    "\n",
    " - (lv <- left ventricle)\n",
    " - (mt <- mammary tissue)\n",
    " \n",
    "Why only these tissues?"
   ]
  },
  {
   "cell_type": "markdown",
   "metadata": {},
   "source": [
    "## **NOTE**:\n",
    "\n",
    "We assume that you have cloned the analysis repository and have `cd` into the parent directory. Before starting with the analysis make sure you have first completed the dependencies set up by following the instructions described in the **`dependencies/README.md`** document. All paths defined in this Notebook are relative to the parent directory (repository). Please close this Notebook and start again by following the above guidelines if you have not completed the aforementioned steps."
   ]
  },
  {
   "cell_type": "markdown",
   "metadata": {},
   "source": [
    "## Loading dependencies"
   ]
  },
  {
   "cell_type": "code",
   "execution_count": 2,
   "metadata": {},
   "outputs": [
    {
     "name": "stderr",
     "output_type": "stream",
     "text": [
      "Warning message:\n",
      "“package ‘rjags’ was built under R version 3.6.2”Loading required package: coda\n",
      "Linked to JAGS 4.3.0\n",
      "Loaded modules: basemod,bugs\n"
     ]
    },
    {
     "ename": "ERROR",
     "evalue": "Error: package or namespace load failed for ‘runjags’:\n package ‘runjags’ was installed by an R version with different internals; it needs to be reinstalled for use with this R version\n",
     "output_type": "error",
     "traceback": [
      "Error: package or namespace load failed for ‘runjags’:\n package ‘runjags’ was installed by an R version with different internals; it needs to be reinstalled for use with this R version\nTraceback:\n",
      "1. library(runjags)",
      "2. tryCatch({\n .     attr(package, \"LibPath\") <- which.lib.loc\n .     ns <- loadNamespace(package, lib.loc)\n .     env <- attachNamespace(ns, pos = pos, deps, exclude, include.only)\n . }, error = function(e) {\n .     P <- if (!is.null(cc <- conditionCall(e))) \n .         paste(\" in\", deparse(cc)[1L])\n .     else \"\"\n .     msg <- gettextf(\"package or namespace load failed for %s%s:\\n %s\", \n .         sQuote(package), P, conditionMessage(e))\n .     if (logical.return) \n .         message(paste(\"Error:\", msg), domain = NA)\n .     else stop(msg, call. = FALSE, domain = NA)\n . })",
      "3. tryCatchList(expr, classes, parentenv, handlers)",
      "4. tryCatchOne(expr, names, parentenv, handlers[[1L]])",
      "5. value[[3L]](cond)",
      "6. stop(msg, call. = FALSE, domain = NA)"
     ]
    }
   ],
   "source": [
    "Sys.setenv(TAR = \"/bin/tar\") \n",
    "\n",
    "# dataviz dependencies\n",
    "library(ggplot2)\n",
    "library(visdat)\n",
    "library(patchwork)\n",
    "library(ggsci)\n",
    "library(grid)\n",
    "library(report)\n",
    "\n",
    "# BDA2E-utilities dependencies\n",
    "library(parallel)\n",
    "library(rjags)\n",
    "library(runjags)\n",
    "library(compute.es)"
   ]
  },
  {
   "cell_type": "markdown",
   "metadata": {},
   "source": [
    "##  Figure 3b\n",
    "\n",
    "code from: [dimorphAS/figures/oldFigureDrafts/figure3b.R](https://github.com/TheJacksonLaboratory/sbas/blob/master/dimorphAS/figures/oldFigureDrafts/figure3b.R)"
   ]
  },
  {
   "cell_type": "code",
   "execution_count": null,
   "metadata": {},
   "outputs": [],
   "source": [
    "source(\"../dimorphAS/DBDA2Eprograms/DBDA2E-utilities.R\")"
   ]
  },
  {
   "cell_type": "code",
   "execution_count": null,
   "metadata": {},
   "outputs": [],
   "source": [
    "tissue.list<-c('Heart - Left Ventricle',\n",
    "               'Breast - Mammary Tissue',\n",
    "               'Brain - Cortex.Brain - Frontal Cortex (BA9).Brain - Anterior cingulate cortex (BA24)',\n",
    "               'Adrenal Gland'\n",
    "               ,'Adipose - Subcutaneous','Muscle - Skeletal','Thyroid','Cells - Transformed fibroblasts','Artery - Aorta','Skin - Sun Exposed (Lower leg).Skin - Not Sun Exposed (Suprapubic)')\n",
    "\n",
    "\n",
    "\n",
    "all.genes<-read.table('/Users/karleg/Dimorph/GTEx_Analysis_2016-01-15_v7_RNASeQCv1.1.8_gene_tpm.gct',sep='\\t',header=T,skip=2,colClasses = c(rep(\"character\", 2), rep(\"NULL\", 11688)))\n",
    "\n",
    "all.genes<-all.genes[!duplicated(all.genes$Description),]\n",
    "\n",
    "rbp.names<-unique(gsub('_.*','',list.files('/Users/karleg/Dimorph/RBP_PSSMs/')))\n",
    "\n",
    "rbp.names<-rbp.names[rbp.names %in% all.genes$Description]\n",
    "\n",
    "summary.tab<-matrix(ncol=7,nrow=0)\n",
    "\n",
    "colnames(summary.tab)<-c('Event','Gene', 'Sig. RBPs','Sig. Gene Expression','Sig. Sex','Tissue','Dimorphic')\n",
    "\n",
    "top.rbps<-rbp.names\n",
    "\n",
    "df<-data.frame(coef=NULL,rbp=NULL,tissue=NULL)\n",
    "\n",
    "tissue <- tissue.list[[1]]\n",
    "  \n",
    "load(paste('/Users/karleg/Dimorph/McmcMostVaryingMoreSigs_',tissue,'.Rdata',sep=''))\n",
    "  \n",
    "mcmcCoda<-mcmcCoda[,which(grepl('beta2\\\\[101,87\\\\]',varnames(mcmcCoda))),drop=FALSE]\n",
    "\n",
    "diagMCMC( mcmcCoda , parName=c(\"beta2[101,87]\") )  \n",
    "\n",
    "save.image('/Users/karleg/Dimorph/RDATA/figure3b.RData')\n",
    "\n",
    "#Before running the following, use the Session menu to set working directory to source file location\n",
    "load('figure3b.RData')\n",
    "diagMCMC( mcmcCoda , parName=c(\"beta2[101,87]\") )  \n"
   ]
  },
  {
   "cell_type": "markdown",
   "metadata": {},
   "source": [
    "##  Figure 3c\n",
    "**EDIT**: \n",
    "This code comes from `dimorphAS/notebook/figure4a` but corresponds to the figure **`Figure 3c`** of the publication."
   ]
  },
  {
   "cell_type": "markdown",
   "metadata": {},
   "source": [
    "This script creates figure 4a. Please run the following command first:\n",
    "\n",
    "`perl` [`parseMT.pl`](https://github.com/TheJacksonLaboratory/sbas/blob/master/dimorphAS/notebook/parseMT.pl)\n",
    "\n",
    "This creates the files needed for figure `4a` and `4b`, namely `lv.txt` and `mt.txt`.\n",
    "The input file for  [`parseMT.pl`](https://github.com/TheJacksonLaboratory/sbas/blob/master/dimorphAS/notebook/parseMT.pl) is a `.tsv` file name `summary_hbm.txt`. Here is a preview of this file:\n"
   ]
  },
  {
   "cell_type": "code",
   "execution_count": null,
   "metadata": {},
   "outputs": [],
   "source": [
    "summary_hbm   <- utils::read.table(file      = \"../dimorphAS//notebook/summary_hbm.txt\", \n",
    "                                   header    = TRUE, \n",
    "                                   sep       = \"\\t\")"
   ]
  },
  {
   "cell_type": "code",
   "execution_count": null,
   "metadata": {},
   "outputs": [],
   "source": [
    "dim(summary_hbm)\n",
    "head(summary_hbm, 2)"
   ]
  },
  {
   "cell_type": "code",
   "execution_count": null,
   "metadata": {},
   "outputs": [],
   "source": [
    "if ( (\"lv.txt\" %in% list.files(\"../data/\")) && (\"mt.txt\" %in% list.files(\"../data/\"))) {\n",
    "        message(\"The files lv.txt or mt.txt are available in the folder ../data/! \\n\")\n",
    "        message(\"The 'perl parseMT.pl' command will not be re-run \\n\")\n",
    "}\n",
    "\n",
    "\n",
    "if ( (!(\"lv.txt\" %in% list.files(\"../data/\"))) | (!(\"mt.txt\" %in% list.files(\"../data/\")))) {\n",
    "        message(\"The files lv.txt or mt.txt not found in the folder ../data/ \\n\")\n",
    "        message(\"Generating lv.txt and mt.txt with 'perl parseMT.pl' using 'summary_hbm.txt' as input .. \\n\")\n",
    "        system(paste0(\"cd ../dimorphAS/notebook/ && \",\n",
    "                      \"perl parseMT.pl > parseMT_output.txt && \", \n",
    "                      \"mv lv.txt ../../data/ && \",\n",
    "                      \"mv mt.txt ../../data/ && \",\n",
    "                      \"cp summary_hbm.txt  ../../data/\"), \n",
    "               intern  = TRUE)\n",
    "        message(\"Done!\\n\")\n",
    "}\n",
    "\n"
   ]
  },
  {
   "cell_type": "markdown",
   "metadata": {},
   "source": [
    "# {placeholder }\n",
    "\n",
    "Description what does the following code block do"
   ]
  },
  {
   "cell_type": "code",
   "execution_count": null,
   "metadata": {},
   "outputs": [],
   "source": [
    "dat           <- utils::read.table(\"../data/lv.txt\", header=FALSE, sep = \"\\t\", col.names = c(\"RBP\", \"Expression\"))"
   ]
  },
  {
   "cell_type": "code",
   "execution_count": null,
   "metadata": {},
   "outputs": [],
   "source": [
    "dim(dat)\n",
    "summary(dat)"
   ]
  },
  {
   "cell_type": "markdown",
   "metadata": {},
   "source": [
    "## Remove rows where expression values are equal to 0"
   ]
  },
  {
   "cell_type": "code",
   "execution_count": null,
   "metadata": {},
   "outputs": [],
   "source": [
    "d2<-dat[dat$Expression!=0,]\n",
    "d2<-d2[order(d2$Expression),]"
   ]
  },
  {
   "cell_type": "code",
   "execution_count": null,
   "metadata": {},
   "outputs": [],
   "source": [
    "dim(d2)\n",
    "summary(d2)"
   ]
  },
  {
   "cell_type": "code",
   "execution_count": null,
   "metadata": {},
   "outputs": [],
   "source": [
    "dat <- dat[order(dat$Expression),]\n",
    "with_zeros <- visdat::vis_expect(dat, ~dat$Expression != 0,  show_perc = TRUE)\n",
    "no_zeros   <- visdat::vis_expect(d2, ~d2$Expression != 0, show_perc = TRUE)\n",
    "both <- with_zeros + no_zeros\n",
    "\n",
    "message(paste0(\"\\n\", round((nrow(d2)/nrow(dat)), 2),\"% \",\"of rows in the dataframe were filtered out because they contained 0 values\\n\"))\n",
    "\n",
    "both + labs(title = \"Comparison of data before and after removing expression rows with 0 values\") + theme(plot.title    = element_text(size = 10, face = \"bold\" , hjust = 1.2))"
   ]
  },
  {
   "cell_type": "markdown",
   "metadata": {},
   "source": [
    "We are checking above if our expectation of having none 0 Expression values is true. We can also verify this by the initial and final row count of the dataframe that contains the `RBP` and `Expression` values."
   ]
  },
  {
   "cell_type": "markdown",
   "metadata": {},
   "source": [
    "## Fit a linear model (`expression ~ rbm`)"
   ]
  },
  {
   "cell_type": "code",
   "execution_count": null,
   "metadata": {},
   "outputs": [],
   "source": [
    "lm_fit   <- lm(d2$Expression ~ d2$RBP, data=d2)\n",
    "LM       <-summary(lm_fit)\n",
    "rsquared <-round(LM$r.squared,digits=2)"
   ]
  },
  {
   "cell_type": "code",
   "execution_count": null,
   "metadata": {},
   "outputs": [],
   "source": [
    "lm <- report(lm_fit)\n",
    "lm$texts$text_long\n",
    "lm$tables$table_long"
   ]
  },
  {
   "cell_type": "markdown",
   "metadata": {},
   "source": [
    "## Save predictions of the model \n",
    "Save predictions of the model in a new data frame named `predicted_df` along with the variable we want to plot against."
   ]
  },
  {
   "cell_type": "code",
   "execution_count": null,
   "metadata": {},
   "outputs": [],
   "source": [
    "predicted_df <- data.frame(expr_pred = predict(lm_fit, d2), RBP=d2$RBP)"
   ]
  },
  {
   "cell_type": "code",
   "execution_count": null,
   "metadata": {},
   "outputs": [],
   "source": [
    "mypal <- ggsci::pal_npg(\"nrc\", alpha = 0.7)(9)\n",
    "\n",
    "\n",
    "p<-ggplot(dat, aes(x=RBP, y=Expression)) + geom_point(shape=21,fill = mypal[3],size=3) +  theme_bw()\n",
    "#+ scale_fill_npg() \n",
    "p <- p + theme(axis.text = element_text(size=32, hjust=0.5),\n",
    "               axis.title.x=element_text(size=24),\n",
    "               axis.title.y = element_text(size=24),\n",
    "               axis.text.y = element_text(size=32),\n",
    "               panel.grid.major = element_blank(), \n",
    "               panel.grid.minor = element_blank()) \n",
    "p <- p +  geom_hline(yintercept=0, linetype=\"dashed\", color = mypal[4])\n",
    "p <- p +xlab('\\U27F6 \\n Sum of RBP effect magnitude')+ylab('Expression\\ninclusion \\U27F5 effect \\U27F6 skipping')\n",
    "p <- p+ geom_line(color='red',data = predicted_df, aes(y=expr_pred, x=RBP))\n",
    "mylabel<-paste(italic(r)^2~\"=\"~rsquared) \n",
    "p <- p+ geom_text(x = 3, y = 0.45, label = as.character(paste( \"r^2==\",rsquared)), size=7, parse = TRUE)\n",
    "p"
   ]
  },
  {
   "cell_type": "markdown",
   "metadata": {},
   "source": [
    "### (3c) Predicted effects of gene expression vs. RBP levels on exon inclusion in 100 sex-biased SE events in the left ventricle. \n",
    "\n",
    "The Y axis shows the mean of the posterior of the coefficient that determines the effects of gene expression on exon inclusion. \n",
    "Negative values favour skipping and positive values favour inclusion. \n",
    "The X axis shows the sum of the absolute values of the posterior of the coefficients of the 87 RBPs. \n",
    "The higher the value, the more the predicted effect on exon skipping. \n",
    "In the left frame it can be seen that for 61 out of 100 sex-biased events in left ventricle, \n",
    "no effect of gene expression was predicted (flat line at y=0.0). \n",
    "\n",
    "For the remaining genes there was a correlation with **`R2=0.35 (p=7.98x10-5).`**"
   ]
  },
  {
   "cell_type": "markdown",
   "metadata": {},
   "source": [
    "##  Figure 4b\n"
   ]
  },
  {
   "cell_type": "markdown",
   "metadata": {},
   "source": [
    "This should be run after the `figure4a.R` script (see above code chunks) "
   ]
  },
  {
   "cell_type": "code",
   "execution_count": null,
   "metadata": {},
   "outputs": [],
   "source": [
    "dat <- read.table(\"../data/mt.txt\", header=FALSE, sep = \"\\t\", col.names = c(\"RBP\", \"Expression\"))"
   ]
  },
  {
   "cell_type": "code",
   "execution_count": null,
   "metadata": {},
   "outputs": [],
   "source": [
    "mypal = pal_npg(\"nrc\", alpha = 0.7)(9)\n",
    "d2<-dat[dat$Expression!=0,]\n",
    "lm_fit <- lm(d2$Expression ~ d2$RBP, data=d2)\n",
    "LM<-summary(lm_fit)\n",
    "rsquared<-round(LM$r.squared,digits=2)  \n",
    "\n",
    "# save predictions of the model in the new data frame \n",
    "# together with variable you want to plot against\n",
    "predicted_df <- data.frame(expr_pred = predict(lm_fit, d2), RBP=d2$RBP)\n",
    "\n",
    "\n",
    "p<-ggplot(dat, aes(x=RBP, y=Expression)) + geom_point(shape=21,fill = mypal[3],size=3) +  theme_bw()\n",
    " #+ scale_fill_npg() \n",
    "p <- p + theme(axis.text = element_text(size=32, hjust=0.5),\n",
    "               axis.title.x=element_text(size=24),\n",
    "               axis.title.y = element_text(size=24),\n",
    "               axis.text.y = element_text(size=32),\n",
    "               panel.grid.major = element_blank(), \n",
    "               panel.grid.minor = element_blank()) \n",
    "p <- p +  geom_hline(yintercept=0, linetype=\"dashed\", color = mypal[4])\n",
    "p <- p +xlab('\\U27F6 \\n Sum of RBP effect magnitude')+ylab('Expression\\ninclusion \\U27F5 effect \\U27F6 skipping')\n",
    "p <- p+ geom_line(color='red',data = predicted_df, aes(y=expr_pred, x=RBP))\n",
    "mylabel<-paste(italic(r)^2~\"=\"~rsquared) \n",
    "p <- p+ geom_text(x = 15, y = 3.2, label = as.character(paste( \"r^2==\",rsquared)), size=7, parse = TRUE)\n",
    "p"
   ]
  },
  {
   "cell_type": "markdown",
   "metadata": {},
   "source": [
    "## (3d) A similar correlation was found in mammary tissue, with R2=0.33 (p=3.6x10-12).\n"
   ]
  },
  {
   "cell_type": "markdown",
   "metadata": {},
   "source": [
    "## Metadata\n",
    "\n",
    "For replicability and reproducibility purposes, we also print the following metadata:\n",
    "\n",
    "1. Checksums of **'artefacts'**, files generated during the analysis and stored in the folder directory **`data`**\n",
    "2. List of environment metadata, dependencies, versions of libraries using `utils::sessionInfo()` and [`devtools::session_info()`](https://devtools.r-lib.org/reference/session_info.html)"
   ]
  },
  {
   "cell_type": "markdown",
   "metadata": {},
   "source": [
    "### 1. Checksums with the sha256 algorithm"
   ]
  },
  {
   "cell_type": "code",
   "execution_count": null,
   "metadata": {},
   "outputs": [],
   "source": [
    "figure_id   = \"figures_3c_3d\"\n",
    "\n",
    "message(\"Generating sha256 checksums of the artefacts in the `..data/` directory .. \")\n",
    "system(paste0(\"cd ../data/ && sha256sum * > ../metadata/\", figure_id, \"_sha256sums.txt\"), intern = TRUE)\n",
    "message(\"Done!\\n\")\n",
    "\n",
    "data.table::fread(paste0(\"../metadata/\", figure_id, \"_sha256sums.txt\"), header = FALSE, col.names = c(\"sha256sum\", \"file\"))"
   ]
  },
  {
   "cell_type": "code",
   "execution_count": null,
   "metadata": {},
   "outputs": [],
   "source": []
  },
  {
   "cell_type": "markdown",
   "metadata": {},
   "source": [
    "### 2. Libraries metadata"
   ]
  },
  {
   "cell_type": "code",
   "execution_count": null,
   "metadata": {},
   "outputs": [],
   "source": [
    "figure_id   = \"figures_3c_3d\"\n",
    "\n",
    "dev_session_info   <- devtools::session_info()\n",
    "utils_session_info <- utils::sessionInfo()\n",
    "\n",
    "message(\"Saving `devtools::session_info()` objects in ../metadata/devtools_session_info.rds  ..\")\n",
    "saveRDS(dev_session_info, file = paste0(\"../metadata/\", figure_id, \"_devtools_session_info.rds\"))\n",
    "message(\"Done!\\n\")\n",
    "\n",
    "message(\"Saving `utils::sessionInfo()` objects in ../metadata/utils_session_info.rds  ..\")\n",
    "saveRDS(utils_session_info, file = paste0(\"../metadata/\", figure_id ,\"_utils_info.rds\"))\n",
    "message(\"Done!\\n\")\n",
    "\n",
    "dev_session_info$platform\n",
    "dev_session_info$packages[dev_session_info$packages$attached==TRUE, ]"
   ]
  },
  {
   "cell_type": "code",
   "execution_count": null,
   "metadata": {},
   "outputs": [],
   "source": []
  }
 ],
 "metadata": {
  "kernelspec": {
   "display_name": "R",
   "language": "R",
   "name": "ir"
  },
  "language_info": {
   "codemirror_mode": "r",
   "file_extension": ".r",
   "mimetype": "text/x-r-source",
   "name": "R",
   "pygments_lexer": "r",
   "version": "3.6.1"
  }
 },
 "nbformat": 4,
 "nbformat_minor": 4
}
