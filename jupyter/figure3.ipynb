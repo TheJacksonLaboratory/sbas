{
 "cells": [
  {
   "cell_type": "markdown",
   "metadata": {},
   "source": [
    "# Figure 3 - `{Figure I am legend }`"
   ]
  },
  {
   "cell_type": "markdown",
   "metadata": {},
   "source": [
    "A small description for the analysis, the metrics and how to interpret the figure."
   ]
  },
  {
   "cell_type": "markdown",
   "metadata": {},
   "source": [
    "## **NOTE**:\n",
    "\n",
    "We assume that you have cloned the analysis repository and have `cd` into the parent directory. Before starting with the analysis make sure you have first completed the dependencies set up by following the instructions described in the **`dependencies/README.md`** document. All paths defined in this Notebook are relative to the parent directory (repository). Please close this Notebook and start again by following the above guidelines if you have not completed the aforementioned steps."
   ]
  },
  {
   "cell_type": "markdown",
   "metadata": {},
   "source": [
    "## Loading dependencies"
   ]
  },
  {
   "cell_type": "code",
   "execution_count": null,
   "metadata": {},
   "outputs": [],
   "source": [
    "# TODO: remove line below\n",
    "install.packages(c(\"coda\",\"rjags\",\"runjags\"))\n",
    "library(coda)\n",
    "source('dimorphAS/DBDA2Eprograms/DBDA2E-utilities.R')\n",
    "load('dimorphAS/figures/figure3/figure3c.RData')"
   ]
  },
  {
   "cell_type": "markdown",
   "metadata": {},
   "source": [
    "## Figure 3c"
   ]
  },
  {
   "cell_type": "markdown",
   "metadata": {},
   "source": [
    "Some text for describing what is going to be executed and what it will produce"
   ]
  },
  {
   "cell_type": "code",
   "execution_count": null,
   "metadata": {},
   "outputs": [],
   "source": [
    "# npgBlue<- rgb(60/256,84/256,136/256,1)\n",
    "# npgRed <- rgb(220/256,0,0,0.8)\n",
    "# npgGreen <- rgb(0,160/256,135/256,1)\n",
    "# npgBrown <- rgb(126/256,97/256,72/256,1)\n",
    "\n",
    "\n",
    "# myDbdaDensPlot = function( codaObject , parName=varnames(codaObject)[1] , plColors=NULL ) {\n",
    "#   if ( all( parName != varnames(codaObject) ) ) { \n",
    "#     stop(\"parName must be a column name of coda object\")\n",
    "#   }\n",
    "#   nChain = length(codaObject) # or nchain(codaObject)\n",
    "#   if ( is.null(plColors) ) plColors=1:nChain\n",
    "#   xMat = NULL\n",
    "#   yMat = NULL\n",
    "#   hdiLims = NULL\n",
    "#   for ( cIdx in 1:nChain ) {\n",
    "#     densInfo = density(codaObject[,c(parName)][[cIdx]]) \n",
    "#     xMat = cbind(xMat,densInfo$x)\n",
    "#     yMat = cbind(yMat,densInfo$y)\n",
    "#     hdiLims = cbind(hdiLims,HDIofMCMC(codaObject[,c(parName)][[cIdx]]))\n",
    "#   }\n",
    "#   matplot( xMat , yMat , type=\"l\" , col=plColors , \n",
    "#            main=\"\" , xlab=\"Param. Value\" , ylab=\"Density\" )\n",
    "#   abline(h=0)\n",
    "#   points( hdiLims[1,] , rep(0,nChain) , col=plColors , pch=\"|\" )\n",
    "#   points( hdiLims[2,] , rep(0,nChain) , col=plColors , pch=\"|\" )\n",
    "#   text( mean(hdiLims) , 0 , \"95% HDI\" , adj=c(0.5,-0.2), cex=2 )\n",
    "#   EffChnLngth = effectiveSize(codaObject[,c(parName)])\n",
    "#   MCSE = sd(as.matrix(codaObject[,c(parName)]))/sqrt(EffChnLngth) \n",
    "#   text( max(xMat) , max(yMat) , adj=c(1.0,1.0) , cex=1.75 ,\n",
    "#         paste(\"MCSE =\\n\",signif(MCSE,3)) )\n",
    "# }\n",
    "\n",
    "# mydiag <- function( codaObject , parName=varnames(codaObject)[1] ,\n",
    "#                     saveName=NULL , saveType=\"pdf\" ) {\n",
    "#   DBDAplColors =  c(\"skyblue\",\"black\",\"royalblue\",\"steelblue\")#c(npgBlue,\"black\",npgRed,npgGreen)\n",
    "#   openGraph(height=5,width=7)\n",
    "#   par( mar=0.5+c(3,4,1,0) , oma=0.1+c(0,0,2,0) , mgp=c(2.25,0.7,0) , \n",
    "#        cex.lab=2 , cex.axis=2)\n",
    "#   require(coda)\n",
    "#   # The following is the HDI plot\n",
    "#   myDbdaDensPlot(codaObject,parName,plColors=DBDAplColors)\n",
    "#   #Uncomment the following to add the title (beta3[101]), which is not informative so\n",
    "#   # we will leave it out.\n",
    "#   #mtext( text=parName , outer=TRUE , adj=c(0.5,0.5) , cex=2.0 )\n",
    "#   if ( !is.null(saveName) ) {\n",
    "#     saveGraph( file=paste0(saveName), type=saveType)\n",
    "#   }\n",
    "# }\n",
    "\n",
    "\n",
    "# mydiag( mcmcCoda , parName=c(\"beta3[101]\") , saveName=\"fig3c\")  "
   ]
  },
  {
   "cell_type": "markdown",
   "metadata": {},
   "source": [
    "## ... \n",
    "more of the above sequence"
   ]
  },
  {
   "cell_type": "markdown",
   "metadata": {},
   "source": [
    "## Metadata\n",
    "\n",
    "For replicability and reproducibility purposes, we also print the following metadata:\n",
    "\n",
    "1. Checksums of **'artefacts'**, files generated during the analysis and stored in the folder directory **`data`**\n",
    "2. List of environment metadata, dependencies, versions of libraries using `utils::sessionInfo()` and [`devtools::session_info()`](https://devtools.r-lib.org/reference/session_info.html)"
   ]
  },
  {
   "cell_type": "markdown",
   "metadata": {},
   "source": [
    "### 1. Checksums with the sha256 algorithm"
   ]
  },
  {
   "cell_type": "code",
   "execution_count": null,
   "metadata": {},
   "outputs": [],
   "source": [
    "figure_id   = \"<the-figure-i-am-working-on>\"\n",
    "\n",
    "message(\"Generating sha256 checksums of the artefacts in the `..data/` directory .. \")\n",
    "system(paste0(\"cd ../data/ && sha256sum * > ../metadata/\", figure_id, \"_sha256sums.txt\"), intern = TRUE)\n",
    "message(\"Done!\\n\")\n",
    "\n",
    "data.table::fread(paste0(\"../metadata/\", figure_id, \"_sha256sums.txt\"), header = FALSE, col.names = c(\"sha256sum\", \"file\"))"
   ]
  },
  {
   "cell_type": "markdown",
   "metadata": {},
   "source": [
    "### 2. Libraries metadata"
   ]
  },
  {
   "cell_type": "code",
   "execution_count": null,
   "metadata": {},
   "outputs": [],
   "source": [
    "figure_id   = \"<the-figure-i-am-working-on>\"\n",
    "\n",
    "dev_session_info   <- devtools::session_info()\n",
    "utils_session_info <- utils::sessionInfo()\n",
    "\n",
    "message(\"Saving `devtools::session_info()` objects in ../metadata/devtools_session_info.rds  ..\")\n",
    "saveRDS(dev_session_info, file = paste0(\"../metadata/\", figure_id, \"_devtools_session_info.rds\"))\n",
    "message(\"Done!\\n\")\n",
    "\n",
    "message(\"Saving `utils::sessionInfo()` objects in ../metadata/utils_session_info.rds  ..\")\n",
    "saveRDS(utils_session_info, file = paste0(\"../metadata/\", figure_id ,\"_utils_info.rds\"))\n",
    "message(\"Done!\\n\")\n",
    "\n",
    "session_info$platform\n",
    "session_info$packages[session_info$packages$attached==TRUE, ]"
   ]
  }
 ],
 "metadata": {
  "kernelspec": {
   "display_name": "R",
   "language": "R",
   "name": "ir"
  },
  "language_info": {
   "codemirror_mode": "r",
   "file_extension": ".r",
   "mimetype": "text/x-r-source",
   "name": "R",
   "pygments_lexer": "r",
   "version": "3.6.1"
  }
 },
 "nbformat": 4,
 "nbformat_minor": 4
}
