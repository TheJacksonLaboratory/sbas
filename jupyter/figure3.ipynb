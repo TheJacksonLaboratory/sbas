{
 "cells": [
  {
   "cell_type": "markdown",
   "metadata": {},
   "source": [
    "# Figure 3 - `{Figure I am legend }`"
   ]
  },
  {
   "cell_type": "markdown",
   "metadata": {},
   "source": [
    "A small description for the analysis, the metrics and how to interpret the figure."
   ]
  },
  {
   "cell_type": "markdown",
   "metadata": {},
   "source": [
    "## **NOTE**:\n",
    "\n",
    "We assume that you have cloned the analysis repository and have `cd` into the parent directory. Before starting with the analysis make sure you have first completed the dependencies set up by following the instructions described in the **`dependencies/README.md`** document. All paths defined in this Notebook are relative to the parent directory (repository). Please close this Notebook and start again by following the above guidelines if you have not completed the aforementioned steps."
   ]
  },
  {
   "cell_type": "markdown",
   "metadata": {},
   "source": [
    "## Loading dependencies"
   ]
  },
  {
   "cell_type": "code",
   "execution_count": null,
   "metadata": {},
   "outputs": [],
   "source": [
    "# Figure 3c\n",
    "library(coda)\n",
    "library(rjags)\n",
    "library(runjags)\n",
    "source('../dimorphAS/DBDA2Eprograms/DBDA2E-utilities.R')\n",
    "load('../dimorphAS/figures/figure3/figure3c.RData')\n",
    "\n",
    "# Figure 3e\n",
    "library(grid)\n",
    "library(gridExtra)\n",
    "library(ggplot2)\n",
    "library(ggsci)\n",
    "load('../dimorphAS/figures/figure3/figure3e.Rdata')"
   ]
  },
  {
   "cell_type": "markdown",
   "metadata": {},
   "source": [
    "## Figure 3c"
   ]
  },
  {
   "cell_type": "markdown",
   "metadata": {},
   "source": [
    "Some text for describing what is going to be executed and what it will produce"
   ]
  },
  {
   "cell_type": "code",
   "execution_count": null,
   "metadata": {},
   "outputs": [],
   "source": [
    "npgBlue<- rgb(60/256,84/256,136/256,1)\n",
    "npgRed <- rgb(220/256,0,0,0.8)\n",
    "npgGreen <- rgb(0,160/256,135/256,1)\n",
    "npgBrown <- rgb(126/256,97/256,72/256,1)\n",
    "\n",
    "\n",
    "myDbdaDensPlot = function( codaObject , parName=varnames(codaObject)[1] , plColors=NULL ) {\n",
    "  if ( all( parName != varnames(codaObject) ) ) { \n",
    "    stop(\"parName must be a column name of coda object\")\n",
    "  }\n",
    "  nChain = length(codaObject) # or nchain(codaObject)\n",
    "  if ( is.null(plColors) ) plColors=1:nChain\n",
    "  xMat = NULL\n",
    "  yMat = NULL\n",
    "  hdiLims = NULL\n",
    "  for ( cIdx in 1:nChain ) {\n",
    "    densInfo = density(codaObject[,c(parName)][[cIdx]]) \n",
    "    xMat = cbind(xMat,densInfo$x)\n",
    "    yMat = cbind(yMat,densInfo$y)\n",
    "    hdiLims = cbind(hdiLims,HDIofMCMC(codaObject[,c(parName)][[cIdx]]))\n",
    "  }\n",
    "  matplot( xMat , yMat , type=\"l\" , col=plColors , \n",
    "           main=\"\" , xlab=\"Param. Value\" , ylab=\"Density\" )\n",
    "  abline(h=0)\n",
    "  points( hdiLims[1,] , rep(0,nChain) , col=plColors , pch=\"|\" )\n",
    "  points( hdiLims[2,] , rep(0,nChain) , col=plColors , pch=\"|\" )\n",
    "  text( mean(hdiLims) , 0 , \"95% HDI\" , adj=c(0.5,-0.2), cex=2 )\n",
    "  EffChnLngth = effectiveSize(codaObject[,c(parName)])\n",
    "  MCSE = sd(as.matrix(codaObject[,c(parName)]))/sqrt(EffChnLngth) \n",
    "  text( max(xMat) , max(yMat) , adj=c(1.0,1.0) , cex=1.75 ,\n",
    "        paste(\"MCSE =\\n\",signif(MCSE,3)) )\n",
    "}\n",
    "\n",
    "mydiag <- function( codaObject , parName=varnames(codaObject)[1] ,\n",
    "                    saveName=NULL , saveType=\"pdf\" ) {\n",
    "  DBDAplColors =  c(\"skyblue\",\"black\",\"royalblue\",\"steelblue\")#c(npgBlue,\"black\",npgRed,npgGreen)\n",
    "  par( mar=0.5+c(3,4,1,0) , oma=0.1+c(0,0,2,0) , mgp=c(2.25,0.7,0) , \n",
    "       cex.lab=2 , cex.axis=2)\n",
    "  require(coda)\n",
    "  # The following is the HDI plot\n",
    "  myDbdaDensPlot(codaObject,parName,plColors=DBDAplColors)\n",
    "  #Uncomment the following to add the title (beta3[101]), which is not informative so\n",
    "  # we will leave it out.\n",
    "  #mtext( text=parName , outer=TRUE , adj=c(0.5,0.5) , cex=2.0 )\n",
    "}\n",
    "\n",
    "\n",
    "mydiag( mcmcCoda , parName=c(\"beta3[101]\") , saveName=\"fig3c\")  "
   ]
  },
  {
   "cell_type": "markdown",
   "metadata": {},
   "source": [
    "## Figure 3e\n",
    "Some text for describing what is going to be executed and what it will produce"
   ]
  },
  {
   "cell_type": "code",
   "execution_count": null,
   "metadata": {},
   "outputs": [],
   "source": [
    "pn1<-ggplot(df1,aes(factor(RBP),Coef)) + geom_violin(aes(fill='red')) + scale_fill_manual(values = '#4DBBD5FF') \n",
    "pn1 <- pn1 + theme_minimal() +  theme(text = element_text(size=20),\n",
    "                                      axis.text = element_text(size=20, hjust=0.5),\n",
    "                                      axis.title.x=element_blank(),\n",
    "                                      axis.title.y = element_text(size=24),\n",
    "                                      plot.title = element_text(hjust = 0.5),\n",
    "                                      legend.position = \"none\") + ylab(\"\") + labs(title=\"\")+ylim(-2,2)+ geom_hline(yintercept=0)\n",
    "#pn <- pn +  geom_dotplot(binaxis='y', stackdir='center', dotsize=0.5)\n",
    "\n",
    "\n",
    "sort(sum.neg,decreasing = T)"
   ]
  },
  {
   "cell_type": "code",
   "execution_count": null,
   "metadata": {},
   "outputs": [],
   "source": [
    "neg.rbps"
   ]
  },
  {
   "cell_type": "code",
   "execution_count": null,
   "metadata": {},
   "outputs": [],
   "source": [
    "sort(unlist(lapply(lapply(split(df$Coef,df$RBP),abs),sum)),decreasing = T)"
   ]
  },
  {
   "cell_type": "code",
   "execution_count": null,
   "metadata": {},
   "outputs": [],
   "source": [
    "df2<-df[df$RBP %in% c(\"YBX1\", \"SRSF9\",\"MATR3\"),]\n",
    "\n",
    "pn2<-ggplot(df2,aes(factor(RBP),Coef)) +geom_violin(aes(fill='blue'))+ scale_fill_manual(values = '#00A087FF')\n",
    "pn2 <- pn2 + theme_minimal() +  theme(text = element_text(size=20),\n",
    "                                      axis.text = element_text(size=20, hjust=0.5),\n",
    "                                      axis.title.x=element_blank(),\n",
    "                                      axis.title.y = element_text(size=24),\n",
    "                                      plot.title = element_text(hjust = 0.5),\n",
    "                                      legend.position = \"none\") + ylab(\"\") + labs(title=\"\")+ylim(-1,1)+ geom_hline(yintercept=0)\n",
    "#pn <- pn +  geom_dotplot(binaxis='y', stackdir='center', dotsize=0.5)\n",
    "\n",
    "\n",
    "df3<-df[df$RBP %in% c(\"HNRNPK\", \"HNRNPA1L2\",\"SRSF7\"),]\n",
    "\n",
    "pn3<-ggplot(df3,aes(factor(RBP),Coef)) +geom_violin(aes(fill='green')) + scale_fill_manual(values = '#E64B35FF') \n",
    "pn3 <- pn3 + theme_minimal() +  theme(text = element_text(size=20),\n",
    "                                      axis.text = element_text(size=20, hjust=0.5),\n",
    "                                      axis.title.x=element_blank(),\n",
    "                                      axis.title.y = element_text(size=24),\n",
    "                                      plot.title = element_text(hjust = 0.5),\n",
    "                                      legend.position = \"none\") + ylab(\"\") + labs(title=\"\")+ylim(-2,2)+ geom_hline(yintercept=0)\n",
    "# pn <- pn +  geom_dotplot(binaxis='y', stackdir='center', dotsize=0.5)\n",
    "\n",
    "\n",
    "pn4<-ggplot(df.counts, aes(type, counts)) +  geom_bar(aes(fill = type), position = \"dodge\", stat=\"identity\") + \n",
    "  theme(axis.text.x = element_text(angle = 90, hjust = 1))+ scale_fill_npg() + guides(fill=FALSE)+theme(axis.title.x=element_blank(),axis.title=element_text(size=18))\n",
    "\n",
    "\n",
    "\n",
    "grid.arrange(pn1,pn2,pn3,pn4, nrow = 4,\n",
    "             left = textGrob('Coefficient',gp = gpar(fontsize = 20), rot = 90,vjust=1))"
   ]
  },
  {
   "cell_type": "code",
   "execution_count": null,
   "metadata": {},
   "outputs": [],
   "source": [
    "df1$facet = 1\n",
    "df2$facet = 2\n",
    "df3$facet = 3\n",
    "df_c <- rbind(df1, df2, df3)\n",
    "p <- ggplot(df_c,aes(x = factor(RBP), y = Coef, fill = factor(RBP))) + \n",
    "  geom_violin() + facet_wrap(~facet, nrow = 3, scales = \"free\") + \n",
    "  xlab(\"\") + ylab(\"\") + ylim(-2,2)+ geom_hline(yintercept=0) + scale_fill_npg() +\n",
    "  theme_minimal() +  theme(text = element_text(size=20),\n",
    "                                      axis.text = element_text(size=8, hjust=0.5),\n",
    "                                      axis.title.x=element_blank(),\n",
    "                                      axis.title.y = element_text(size=8),\n",
    "                                      plot.title = element_text(hjust = 0.5),\n",
    "                                      legend.position = \"none\", \n",
    "                           strip.text = element_blank())\n",
    "  \n",
    "pn4_new <- ggplot(df.counts, aes(type, counts)) +  \n",
    "  geom_bar(fill = \"#00008B\",color=\"black\", position = \"dodge\", stat=\"identity\") + \n",
    "  geom_text(aes(x = type, y = counts + 10, label = paste(100 * round(counts/sum(counts), 3), \"%\", sep = \"\")), size = 3) +\n",
    "  guides(fill=FALSE) +\n",
    "  xlab(\"\") + scale_y_continuous(breaks = c(0, 20, 40), limits = c(0, 60))+\n",
    "  theme_minimal() +\n",
    "  theme(\n",
    "        axis.text = element_text(size = 8), \n",
    "        axis.text.x = element_text(angle = 90, hjust = 1), \n",
    "        axis.title = element_text(size = 10),\n",
    "        axis.title.y = element_text(vjust = 5)\n",
    "        )\n",
    "pn4_new  \n",
    "p_grid <- arrangeGrob(p,pn4_new, nrow = 2, heights = c(3, 1), \n",
    "             left = textGrob('Coefficient',gp = gpar(fontsize = 10), rot = 90,vjust=1, hjust = -0.2))"
   ]
  },
  {
   "cell_type": "markdown",
   "metadata": {},
   "source": [
    "## Metadata\n",
    "\n",
    "For replicability and reproducibility purposes, we also print the following metadata:\n",
    "\n",
    "1. Checksums of **'artefacts'**, files generated during the analysis and stored in the folder directory **`data`**\n",
    "2. List of environment metadata, dependencies, versions of libraries using `utils::sessionInfo()` and [`devtools::session_info()`](https://devtools.r-lib.org/reference/session_info.html)"
   ]
  },
  {
   "cell_type": "markdown",
   "metadata": {},
   "source": [
    "### 1. Checksums with the sha256 algorithm"
   ]
  },
  {
   "cell_type": "code",
   "execution_count": null,
   "metadata": {},
   "outputs": [],
   "source": [
    "figure_id   = \"Figure3\"\n",
    "\n",
    "message(\"Generating sha256 checksums of the artefacts in the `..data/` directory .. \")\n",
    "system(paste0(\"cd ../data/ && sha256sum * > ../metadata/\", figure_id, \"_sha256sums.txt\"), intern = TRUE)\n",
    "message(\"Done!\\n\")\n",
    "\n",
    "data.table::fread(paste0(\"../metadata/\", figure_id, \"_sha256sums.txt\"), header = FALSE, col.names = c(\"sha256sum\", \"file\"))"
   ]
  },
  {
   "cell_type": "markdown",
   "metadata": {},
   "source": [
    "### 2. Libraries metadata"
   ]
  },
  {
   "cell_type": "code",
   "execution_count": null,
   "metadata": {},
   "outputs": [],
   "source": [
    "figure_id   = \"<the-figure-i-am-working-on>\"\n",
    "\n",
    "dev_session_info   <- devtools::session_info()\n",
    "utils_session_info <- utils::sessionInfo()\n",
    "\n",
    "message(\"Saving `devtools::session_info()` objects in ../metadata/devtools_session_info.rds  ..\")\n",
    "saveRDS(dev_session_info, file = paste0(\"../metadata/\", figure_id, \"_devtools_session_info.rds\"))\n",
    "message(\"Done!\\n\")\n",
    "\n",
    "message(\"Saving `utils::sessionInfo()` objects in ../metadata/utils_session_info.rds  ..\")\n",
    "saveRDS(utils_session_info, file = paste0(\"../metadata/\", figure_id ,\"_utils_info.rds\"))\n",
    "message(\"Done!\\n\")\n",
    "\n",
    "session_info$platform\n",
    "session_info$packages[session_info$packages$attached==TRUE, ]"
   ]
  }
 ],
 "metadata": {
  "kernelspec": {
   "display_name": "R",
   "language": "R",
   "name": "ir"
  },
  "language_info": {
   "codemirror_mode": "r",
   "file_extension": ".r",
   "mimetype": "text/x-r-source",
   "name": "R",
   "pygments_lexer": "r",
   "version": "3.6.1"
  }
 },
 "nbformat": 4,
 "nbformat_minor": 4
}
