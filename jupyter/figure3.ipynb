{
 "cells": [
  {
   "cell_type": "markdown",
   "metadata": {},
   "source": [
    "# Figures 3c, 3d: \n",
    "\n",
    "**EDIT**: \n",
    "This code comes from `dimorphAS/notebook/figure4a` but corresponds to the figure **`Figure 3c, 3d`** of the publication."
   ]
  },
  {
   "cell_type": "markdown",
   "metadata": {},
   "source": [
    "## Questions:\n",
    "\n",
    "- Are these plots only for specific tissues?\n",
    "- Is the tissue defined inside the [`parseMT.pl`]() script?\n",
    "- What are the `mt.txt` and `lv.txt` referring to? Is that tissues?\n",
    "\n",
    " - (lv <- left ventricle)\n",
    " - (mt <- mammary tissue)\n",
    " \n",
    "Why only these tissues?"
   ]
  },
  {
   "cell_type": "markdown",
   "metadata": {},
   "source": [
    "## **NOTE**:\n",
    "\n",
    "We assume that you have cloned the analysis repository and have `cd` into the parent directory. Before starting with the analysis make sure you have first completed the dependencies set up by following the instructions described in the **`dependencies/README.md`** document. All paths defined in this Notebook are relative to the parent directory (repository). Please close this Notebook and start again by following the above guidelines if you have not completed the aforementioned steps."
   ]
  },
  {
   "cell_type": "markdown",
   "metadata": {},
   "source": [
    "## Loading dependencies"
   ]
  },
  {
   "cell_type": "code",
   "execution_count": 5,
   "metadata": {},
   "outputs": [],
   "source": [
    "Sys.setenv(TAR = \"/bin/tar\") \n",
    "\n",
    "# dataviz dependencies\n",
    "library(ggplot2)\n",
    "library(visdat)\n",
    "library(patchwork)\n",
    "library(ggsci)\n",
    "library(grid)\n",
    "library(report)\n",
    "\n",
    "# BDA2E-utilities dependencies\n",
    "library(parallel)\n",
    "library(rjags)\n",
    "library(runjags)\n",
    "library(compute.es)"
   ]
  },
  {
   "cell_type": "markdown",
   "metadata": {},
   "source": [
    "##  Figure 3b\n",
    "\n",
    "code from: [dimorphAS/figures/oldFigureDrafts/figure3b.R](https://github.com/TheJacksonLaboratory/sbas/blob/master/dimorphAS/figures/oldFigureDrafts/figure3b.R)"
   ]
  },
  {
   "cell_type": "code",
   "execution_count": 6,
   "metadata": {},
   "outputs": [
    {
     "name": "stdout",
     "output_type": "stream",
     "text": [
      "\n",
      "*********************************************************************\n",
      "Kruschke, J. K. (2015). Doing Bayesian Data Analysis, Second Edition:\n",
      "A Tutorial with R, JAGS, and Stan. Academic Press / Elsevier.\n",
      "*********************************************************************\n",
      "\n"
     ]
    }
   ],
   "source": [
    "source(\"../dimorphAS/DBDA2Eprograms/DBDA2E-utilities.R\")"
   ]
  },
  {
   "cell_type": "markdown",
   "metadata": {},
   "source": [
    "## Retrieving the required data"
   ]
  },
  {
   "cell_type": "code",
   "execution_count": 11,
   "metadata": {},
   "outputs": [
    {
     "name": "stderr",
     "output_type": "stream",
     "text": [
      "Downloading GTEx_Analysis_2016-01-15_v7_RNASeQCv1.1.8_gene_tpm.gct.gz \n",
      "from https://console.cloud.google.com/storage/browser/_details/gtex_analysis_v7/rna_seq_data/ ..\n",
      "Done!\n",
      "\n",
      "\n",
      "Unzipping compressed file GTEx_Analysis_2016-01-15_v7_RNASeQCv1.1.8_gene_tpm.gct.gz..\n",
      "Done! \n",
      "\n",
      "The file GTEx_Analysis_2016-01-15_v7_RNASeQCv1.1.8_gene_tpm.gct can be found in ../data/\n"
     ]
    }
   ],
   "source": [
    "# Download GTEx_Analysis_2016-01-15_v7_RNASeQCv1.1.8_gene_tpm.gct from Google Cloud \n",
    "if (!(\"GTEx_Analysis_2016-01-15_v7_RNASeQCv1.1.8_gene_tpm.gct\" %in% list.files(\"../data/\"))) {\n",
    "    message(\"Downloading GTEx_Analysis_2016-01-15_v7_RNASeQCv1.1.8_gene_tpm.gct.gz \\nfrom https://console.cloud.google.com/storage/browser/_details/gtex_analysis_v7/rna_seq_data/ ..\")\n",
    "    system(\"wget -O ../data/GTEx_Analysis_2016-01-15_v7_RNASeQCv1.1.8_gene_tpm.gct.gz https://storage.googleapis.com/gtex_analysis_v7/rna_seq_data/GTEx_Analysis_2016-01-15_v7_RNASeQCv1.1.8_gene_tpm.gct.gz\", intern = TRUE)\n",
    "    message(\"Done!\\n\\n\")\n",
    "    message(\"Unzipping compressed file GTEx_Analysis_2016-01-15_v7_RNASeQCv1.1.8_gene_tpm.gct.gz..\")\n",
    "    system(\"gunzip ../data/GTEx_Analysis_2016-01-15_v7_RNASeQCv1.1.8_gene_tpm.gct.gz\", intern = TRUE)\n",
    "    message(\"Done! \\n\\nThe file GTEx_Analysis_2016-01-15_v7_RNASeQCv1.1.8_gene_tpm.gct can be found in ../data/\")\n",
    "}"
   ]
  },
  {
   "cell_type": "code",
   "execution_count": 12,
   "metadata": {},
   "outputs": [],
   "source": [
    "tissue.list<-c('Heart - Left Ventricle',\n",
    "               'Breast - Mammary Tissue',\n",
    "               'Brain - Cortex.Brain - Frontal Cortex (BA9).Brain - Anterior cingulate cortex (BA24)',\n",
    "               'Adrenal Gland',\n",
    "               'Adipose - Subcutaneous',\n",
    "               'Muscle - Skeletal',\n",
    "               'Thyroid',\n",
    "               'Cells - Transformed fibroblasts',\n",
    "               'Artery - Aorta',\n",
    "               'Skin - Sun Exposed (Lower leg).Skin - Not Sun Exposed (Suprapubic)')"
   ]
  },
  {
   "cell_type": "code",
   "execution_count": 19,
   "metadata": {},
   "outputs": [],
   "source": [
    "all.genes<-data.table::fread('../data/GTEx_Analysis_2016-01-15_v7_RNASeQCv1.1.8_gene_tpm.gct',\n",
    "                              sep='\\t',\n",
    "                              header=TRUE,\n",
    "                              skip=2,\n",
    "                              colClasses = c(rep(\"character\", 2), rep(\"NULL\", 11688)))"
   ]
  },
  {
   "cell_type": "code",
   "execution_count": 21,
   "metadata": {},
   "outputs": [
    {
     "data": {
      "text/html": [
       "<style>\n",
       ".list-inline {list-style: none; margin:0; padding: 0}\n",
       ".list-inline>li {display: inline-block}\n",
       ".list-inline>li:not(:last-child)::after {content: \"\\00b7\"; padding: 0 .5ex}\n",
       "</style>\n",
       "<ol class=list-inline><li>56202</li><li>2</li></ol>\n"
      ],
      "text/latex": [
       "\\begin{enumerate*}\n",
       "\\item 56202\n",
       "\\item 2\n",
       "\\end{enumerate*}\n"
      ],
      "text/markdown": [
       "1. 56202\n",
       "2. 2\n",
       "\n",
       "\n"
      ],
      "text/plain": [
       "[1] 56202     2"
      ]
     },
     "metadata": {},
     "output_type": "display_data"
    },
    {
     "data": {
      "text/html": [
       "<table>\n",
       "<caption>A data.table: 6 × 2</caption>\n",
       "<thead>\n",
       "\t<tr><th scope=col>Name</th><th scope=col>Description</th></tr>\n",
       "\t<tr><th scope=col>&lt;chr&gt;</th><th scope=col>&lt;chr&gt;</th></tr>\n",
       "</thead>\n",
       "<tbody>\n",
       "\t<tr><td>ENSG00000223972.4</td><td>DDX11L1   </td></tr>\n",
       "\t<tr><td>ENSG00000227232.4</td><td>WASH7P    </td></tr>\n",
       "\t<tr><td>ENSG00000243485.2</td><td>MIR1302-11</td></tr>\n",
       "\t<tr><td>ENSG00000237613.2</td><td>FAM138A   </td></tr>\n",
       "\t<tr><td>ENSG00000268020.2</td><td>OR4G4P    </td></tr>\n",
       "\t<tr><td>ENSG00000240361.1</td><td>OR4G11P   </td></tr>\n",
       "</tbody>\n",
       "</table>\n"
      ],
      "text/latex": [
       "A data.table: 6 × 2\n",
       "\\begin{tabular}{ll}\n",
       " Name & Description\\\\\n",
       " <chr> & <chr>\\\\\n",
       "\\hline\n",
       "\t ENSG00000223972.4 & DDX11L1   \\\\\n",
       "\t ENSG00000227232.4 & WASH7P    \\\\\n",
       "\t ENSG00000243485.2 & MIR1302-11\\\\\n",
       "\t ENSG00000237613.2 & FAM138A   \\\\\n",
       "\t ENSG00000268020.2 & OR4G4P    \\\\\n",
       "\t ENSG00000240361.1 & OR4G11P   \\\\\n",
       "\\end{tabular}\n"
      ],
      "text/markdown": [
       "\n",
       "A data.table: 6 × 2\n",
       "\n",
       "| Name &lt;chr&gt; | Description &lt;chr&gt; |\n",
       "|---|---|\n",
       "| ENSG00000223972.4 | DDX11L1    |\n",
       "| ENSG00000227232.4 | WASH7P     |\n",
       "| ENSG00000243485.2 | MIR1302-11 |\n",
       "| ENSG00000237613.2 | FAM138A    |\n",
       "| ENSG00000268020.2 | OR4G4P     |\n",
       "| ENSG00000240361.1 | OR4G11P    |\n",
       "\n"
      ],
      "text/plain": [
       "  Name              Description\n",
       "1 ENSG00000223972.4 DDX11L1    \n",
       "2 ENSG00000227232.4 WASH7P     \n",
       "3 ENSG00000243485.2 MIR1302-11 \n",
       "4 ENSG00000237613.2 FAM138A    \n",
       "5 ENSG00000268020.2 OR4G4P     \n",
       "6 ENSG00000240361.1 OR4G11P    "
      ]
     },
     "metadata": {},
     "output_type": "display_data"
    }
   ],
   "source": [
    "dim(all.genes)\n",
    "head(all.genes)"
   ]
  },
  {
   "cell_type": "markdown",
   "metadata": {},
   "source": [
    "## Filtering out of duplicate trabsripts ids"
   ]
  },
  {
   "cell_type": "code",
   "execution_count": 23,
   "metadata": {},
   "outputs": [],
   "source": [
    "all.genes<-all.genes[!duplicated(all.genes$Description),]"
   ]
  },
  {
   "cell_type": "code",
   "execution_count": 25,
   "metadata": {},
   "outputs": [
    {
     "data": {
      "text/html": [
       "<style>\n",
       ".list-inline {list-style: none; margin:0; padding: 0}\n",
       ".list-inline>li {display: inline-block}\n",
       ".list-inline>li:not(:last-child)::after {content: \"\\00b7\"; padding: 0 .5ex}\n",
       "</style>\n",
       "<ol class=list-inline><li>54271</li><li>2</li></ol>\n"
      ],
      "text/latex": [
       "\\begin{enumerate*}\n",
       "\\item 54271\n",
       "\\item 2\n",
       "\\end{enumerate*}\n"
      ],
      "text/markdown": [
       "1. 54271\n",
       "2. 2\n",
       "\n",
       "\n"
      ],
      "text/plain": [
       "[1] 54271     2"
      ]
     },
     "metadata": {},
     "output_type": "display_data"
    }
   ],
   "source": [
    "dim(all.genes)"
   ]
  },
  {
   "cell_type": "markdown",
   "metadata": {},
   "source": [
    "## Accessing Position Specific Scoring Matrices (in `dimorphAS/RBP/RBP_PSSMs.zip`)"
   ]
  },
  {
   "cell_type": "code",
   "execution_count": 30,
   "metadata": {},
   "outputs": [],
   "source": [
    "# Download GTEx_Analysis_2016-01-15_v7_RNASeQCv1.1.8_gene_tpm.gct from Google Cloud \n",
    "if (!(\"RBP_PSSMs\" %in% list.files(\"../data/\"))) {\n",
    "    message(\"Unzipping ../dimorphAS/RBP/RBP_PSSMs.zip INTO ../data ..\\n\")\n",
    "    system(\"cd ../data/ && unzip ../dimorphAS/RBP/RBP_PSSMs.zip\", intern = TRUE)\n",
    "    message(\"Done! \\n\\nThe files can be found in ../data/RBP_PSSMs/\")\n",
    "}"
   ]
  },
  {
   "cell_type": "code",
   "execution_count": 31,
   "metadata": {},
   "outputs": [],
   "source": [
    "rbp.names<-unique(gsub('_.*','',list.files('../RBP_PSSMs/')))"
   ]
  },
  {
   "cell_type": "code",
   "execution_count": 32,
   "metadata": {},
   "outputs": [
    {
     "data": {
      "text/html": [
       "136"
      ],
      "text/latex": [
       "136"
      ],
      "text/markdown": [
       "136"
      ],
      "text/plain": [
       "[1] 136"
      ]
     },
     "metadata": {},
     "output_type": "display_data"
    }
   ],
   "source": [
    "length(rbp.names)"
   ]
  },
  {
   "cell_type": "code",
   "execution_count": 33,
   "metadata": {},
   "outputs": [],
   "source": [
    "summary.tab<-matrix(ncol=7,nrow=0)"
   ]
  },
  {
   "cell_type": "code",
   "execution_count": 35,
   "metadata": {},
   "outputs": [],
   "source": [
    "colnames(summary.tab)<-c('Event',\n",
    "                         'Gene', \n",
    "                         'Sig. RBPs',\n",
    "                         'Sig. Gene Expression',\n",
    "                         'Sig. Sex',\n",
    "                         'Tissue',\n",
    "                         'Dimorphic')"
   ]
  },
  {
   "cell_type": "code",
   "execution_count": 36,
   "metadata": {},
   "outputs": [],
   "source": [
    "top.rbps<-rbp.names"
   ]
  },
  {
   "cell_type": "code",
   "execution_count": 37,
   "metadata": {},
   "outputs": [
    {
     "data": {
      "text/html": [
       "136"
      ],
      "text/latex": [
       "136"
      ],
      "text/markdown": [
       "136"
      ],
      "text/plain": [
       "[1] 136"
      ]
     },
     "metadata": {},
     "output_type": "display_data"
    }
   ],
   "source": [
    "length(top.rbps)"
   ]
  },
  {
   "cell_type": "markdown",
   "metadata": {},
   "source": [
    "## Initialising dataframe with columns `coef,rbp,tissue`"
   ]
  },
  {
   "cell_type": "code",
   "execution_count": 39,
   "metadata": {},
   "outputs": [],
   "source": [
    "df <-data.frame(coef=NULL,rbp=NULL,tissue=NULL)"
   ]
  },
  {
   "cell_type": "code",
   "execution_count": 44,
   "metadata": {},
   "outputs": [],
   "source": [
    "# Refactoring needed to not rely on hard coded by position id of tissue\n",
    "tissue <- tissue.list[[1]]"
   ]
  },
  {
   "cell_type": "code",
   "execution_count": 42,
   "metadata": {},
   "outputs": [
    {
     "data": {
      "text/html": [
       "'Heart - Left Ventricle'"
      ],
      "text/latex": [
       "'Heart - Left Ventricle'"
      ],
      "text/markdown": [
       "'Heart - Left Ventricle'"
      ],
      "text/plain": [
       "[1] \"Heart - Left Ventricle\""
      ]
     },
     "metadata": {},
     "output_type": "display_data"
    }
   ],
   "source": [
    "head(tissue)"
   ]
  },
  {
   "cell_type": "markdown",
   "metadata": {},
   "source": [
    "## `{Missing files!}`  Dimorph/McmcMostVaryingMoreSigs_'"
   ]
  },
  {
   "cell_type": "code",
   "execution_count": null,
   "metadata": {},
   "outputs": [],
   "source": [
    "load(paste('/Users/karleg/Dimorph/McmcMostVaryingMoreSigs_',tissue,'.Rdata',sep=''))\n",
    "  \n",
    "mcmcCoda<-mcmcCoda[,which(grepl('beta2\\\\[101,87\\\\]',varnames(mcmcCoda))),drop=FALSE]\n",
    "\n",
    "diagMCMC( mcmcCoda , parName=c(\"beta2[101,87]\") )  \n"
   ]
  },
  {
   "cell_type": "markdown",
   "metadata": {},
   "source": [
    "## Using cached `.Rdata` until the files Dimorph/McmcMostVaryingMoreSigs_* are located"
   ]
  },
  {
   "cell_type": "code",
   "execution_count": null,
   "metadata": {},
   "outputs": [],
   "source": [
    "#Before running the following, use the Session menu to set working directory to source file location\n",
    "load('../dimorphAS/figures/oldFigureDrafts/figure3b.RData')\n",
    "\n",
    "diagMCMC( mcmcCoda , parName=c(\"beta2[101,87]\"), saveType = \"png\" ) \n"
   ]
  },
  {
   "cell_type": "markdown",
   "metadata": {},
   "source": [
    "##  Figure 3c\n",
    "**EDIT**: \n",
    "This code comes from `dimorphAS/notebook/figure4a` but corresponds to the figure **`Figure 3c`** of the publication."
   ]
  },
  {
   "cell_type": "markdown",
   "metadata": {},
   "source": [
    "This script creates figure 4a. Please run the following command first:\n",
    "\n",
    "`perl` [`parseMT.pl`](https://github.com/TheJacksonLaboratory/sbas/blob/master/dimorphAS/notebook/parseMT.pl)\n",
    "\n",
    "This creates the files needed for figure `4a` and `4b`, namely `lv.txt` and `mt.txt`.\n",
    "The input file for  [`parseMT.pl`](https://github.com/TheJacksonLaboratory/sbas/blob/master/dimorphAS/notebook/parseMT.pl) is a `.tsv` file name `summary_hbm.txt`. Here is a preview of this file:\n"
   ]
  },
  {
   "cell_type": "code",
   "execution_count": null,
   "metadata": {},
   "outputs": [],
   "source": [
    "summary_hbm   <- utils::read.table(file      = \"../dimorphAS//notebook/summary_hbm.txt\", \n",
    "                                   header    = TRUE, \n",
    "                                   sep       = \"\\t\")"
   ]
  },
  {
   "cell_type": "code",
   "execution_count": null,
   "metadata": {},
   "outputs": [],
   "source": [
    "dim(summary_hbm)\n",
    "head(summary_hbm, 2)"
   ]
  },
  {
   "cell_type": "code",
   "execution_count": null,
   "metadata": {},
   "outputs": [],
   "source": [
    "if ( (\"lv.txt\" %in% list.files(\"../data/\")) && (\"mt.txt\" %in% list.files(\"../data/\"))) {\n",
    "        message(\"The files lv.txt or mt.txt are available in the folder ../data/! \\n\")\n",
    "        message(\"The 'perl parseMT.pl' command will not be re-run \\n\")\n",
    "}\n",
    "\n",
    "\n",
    "if ( (!(\"lv.txt\" %in% list.files(\"../data/\"))) | (!(\"mt.txt\" %in% list.files(\"../data/\")))) {\n",
    "        message(\"The files lv.txt or mt.txt not found in the folder ../data/ \\n\")\n",
    "        message(\"Generating lv.txt and mt.txt with 'perl parseMT.pl' using 'summary_hbm.txt' as input .. \\n\")\n",
    "        system(paste0(\"cd ../dimorphAS/notebook/ && \",\n",
    "                      \"perl parseMT.pl > parseMT_output.txt && \", \n",
    "                      \"mv lv.txt ../../data/ && \",\n",
    "                      \"mv mt.txt ../../data/ && \",\n",
    "                      \"cp summary_hbm.txt  ../../data/\"), \n",
    "               intern  = TRUE)\n",
    "        message(\"Done!\\n\")\n",
    "}\n",
    "\n"
   ]
  },
  {
   "cell_type": "markdown",
   "metadata": {},
   "source": [
    "# {placeholder }\n",
    "\n",
    "Description what does the following code block do"
   ]
  },
  {
   "cell_type": "code",
   "execution_count": null,
   "metadata": {},
   "outputs": [],
   "source": [
    "dat           <- utils::read.table(\"../data/lv.txt\", header=FALSE, sep = \"\\t\", col.names = c(\"RBP\", \"Expression\"))"
   ]
  },
  {
   "cell_type": "code",
   "execution_count": null,
   "metadata": {},
   "outputs": [],
   "source": [
    "dim(dat)\n",
    "summary(dat)"
   ]
  },
  {
   "cell_type": "markdown",
   "metadata": {},
   "source": [
    "## Remove rows where expression values are equal to 0"
   ]
  },
  {
   "cell_type": "code",
   "execution_count": null,
   "metadata": {},
   "outputs": [],
   "source": [
    "d2<-dat[dat$Expression!=0,]\n",
    "d2<-d2[order(d2$Expression),]"
   ]
  },
  {
   "cell_type": "code",
   "execution_count": null,
   "metadata": {},
   "outputs": [],
   "source": [
    "dim(d2)\n",
    "summary(d2)"
   ]
  },
  {
   "cell_type": "code",
   "execution_count": null,
   "metadata": {},
   "outputs": [],
   "source": [
    "dat <- dat[order(dat$Expression),]\n",
    "with_zeros <- visdat::vis_expect(dat, ~dat$Expression != 0,  show_perc = TRUE)\n",
    "no_zeros   <- visdat::vis_expect(d2, ~d2$Expression != 0, show_perc = TRUE)\n",
    "both <- with_zeros + no_zeros\n",
    "\n",
    "message(paste0(\"\\n\", round((nrow(d2)/nrow(dat)), 2),\"% \",\"of rows in the dataframe were filtered out because they contained 0 values\\n\"))\n",
    "\n",
    "both + labs(title = \"Comparison of data before and after removing expression rows with 0 values\") + theme(plot.title    = element_text(size = 10, face = \"bold\" , hjust = 1.2))"
   ]
  },
  {
   "cell_type": "markdown",
   "metadata": {},
   "source": [
    "We are checking above if our expectation of having none 0 Expression values is true. We can also verify this by the initial and final row count of the dataframe that contains the `RBP` and `Expression` values."
   ]
  },
  {
   "cell_type": "markdown",
   "metadata": {},
   "source": [
    "## Fit a linear model (`expression ~ rbm`)"
   ]
  },
  {
   "cell_type": "code",
   "execution_count": null,
   "metadata": {},
   "outputs": [],
   "source": [
    "lm_fit   <- lm(d2$Expression ~ d2$RBP, data=d2)\n",
    "LM       <-summary(lm_fit)\n",
    "rsquared <-round(LM$r.squared,digits=2)"
   ]
  },
  {
   "cell_type": "code",
   "execution_count": null,
   "metadata": {},
   "outputs": [],
   "source": [
    "lm <- report(lm_fit)\n",
    "lm$texts$text_long\n",
    "lm$tables$table_long"
   ]
  },
  {
   "cell_type": "markdown",
   "metadata": {},
   "source": [
    "## Save predictions of the model \n",
    "Save predictions of the model in a new data frame named `predicted_df` along with the variable we want to plot against."
   ]
  },
  {
   "cell_type": "code",
   "execution_count": null,
   "metadata": {},
   "outputs": [],
   "source": [
    "predicted_df <- data.frame(expr_pred = predict(lm_fit, d2), RBP=d2$RBP)"
   ]
  },
  {
   "cell_type": "code",
   "execution_count": null,
   "metadata": {},
   "outputs": [],
   "source": [
    "mypal <- ggsci::pal_npg(\"nrc\", alpha = 0.7)(9)\n",
    "\n",
    "\n",
    "p<-ggplot(dat, aes(x=RBP, y=Expression)) + geom_point(shape=21,fill = mypal[3],size=3) +  theme_bw()\n",
    "#+ scale_fill_npg() \n",
    "p <- p + theme(axis.text = element_text(size=32, hjust=0.5),\n",
    "               axis.title.x=element_text(size=24),\n",
    "               axis.title.y = element_text(size=24),\n",
    "               axis.text.y = element_text(size=32),\n",
    "               panel.grid.major = element_blank(), \n",
    "               panel.grid.minor = element_blank()) \n",
    "p <- p +  geom_hline(yintercept=0, linetype=\"dashed\", color = mypal[4])\n",
    "p <- p +xlab('\\U27F6 \\n Sum of RBP effect magnitude')+ylab('Expression\\ninclusion \\U27F5 effect \\U27F6 skipping')\n",
    "p <- p+ geom_line(color='red',data = predicted_df, aes(y=expr_pred, x=RBP))\n",
    "mylabel<-paste(italic(r)^2~\"=\"~rsquared) \n",
    "p <- p+ geom_text(x = 3, y = 0.45, label = as.character(paste( \"r^2==\",rsquared)), size=7, parse = TRUE)\n",
    "p"
   ]
  },
  {
   "cell_type": "markdown",
   "metadata": {},
   "source": [
    "### (3c) Predicted effects of gene expression vs. RBP levels on exon inclusion in 100 sex-biased SE events in the left ventricle. \n",
    "\n",
    "The Y axis shows the mean of the posterior of the coefficient that determines the effects of gene expression on exon inclusion. \n",
    "Negative values favour skipping and positive values favour inclusion. \n",
    "The X axis shows the sum of the absolute values of the posterior of the coefficients of the 87 RBPs. \n",
    "The higher the value, the more the predicted effect on exon skipping. \n",
    "In the left frame it can be seen that for 61 out of 100 sex-biased events in left ventricle, \n",
    "no effect of gene expression was predicted (flat line at y=0.0). \n",
    "\n",
    "For the remaining genes there was a correlation with **`R2=0.35 (p=7.98x10-5).`**"
   ]
  },
  {
   "cell_type": "markdown",
   "metadata": {},
   "source": [
    "##  Figure 4b\n"
   ]
  },
  {
   "cell_type": "markdown",
   "metadata": {},
   "source": [
    "This should be run after the `figure4a.R` script (see above code chunks) "
   ]
  },
  {
   "cell_type": "code",
   "execution_count": null,
   "metadata": {},
   "outputs": [],
   "source": [
    "dat <- read.table(\"../data/mt.txt\", header=FALSE, sep = \"\\t\", col.names = c(\"RBP\", \"Expression\"))"
   ]
  },
  {
   "cell_type": "code",
   "execution_count": null,
   "metadata": {},
   "outputs": [],
   "source": [
    "mypal = pal_npg(\"nrc\", alpha = 0.7)(9)\n",
    "d2<-dat[dat$Expression!=0,]\n",
    "lm_fit <- lm(d2$Expression ~ d2$RBP, data=d2)\n",
    "LM<-summary(lm_fit)\n",
    "rsquared<-round(LM$r.squared,digits=2)  \n",
    "\n",
    "# save predictions of the model in the new data frame \n",
    "# together with variable you want to plot against\n",
    "predicted_df <- data.frame(expr_pred = predict(lm_fit, d2), RBP=d2$RBP)\n",
    "\n",
    "\n",
    "p<-ggplot(dat, aes(x=RBP, y=Expression)) + geom_point(shape=21,fill = mypal[3],size=3) +  theme_bw()\n",
    " #+ scale_fill_npg() \n",
    "p <- p + theme(axis.text = element_text(size=32, hjust=0.5),\n",
    "               axis.title.x=element_text(size=24),\n",
    "               axis.title.y = element_text(size=24),\n",
    "               axis.text.y = element_text(size=32),\n",
    "               panel.grid.major = element_blank(), \n",
    "               panel.grid.minor = element_blank()) \n",
    "p <- p +  geom_hline(yintercept=0, linetype=\"dashed\", color = mypal[4])\n",
    "p <- p +xlab('\\U27F6 \\n Sum of RBP effect magnitude')+ylab('Expression\\ninclusion \\U27F5 effect \\U27F6 skipping')\n",
    "p <- p+ geom_line(color='red',data = predicted_df, aes(y=expr_pred, x=RBP))\n",
    "mylabel<-paste(italic(r)^2~\"=\"~rsquared) \n",
    "p <- p+ geom_text(x = 15, y = 3.2, label = as.character(paste( \"r^2==\",rsquared)), size=7, parse = TRUE)\n",
    "p"
   ]
  },
  {
   "cell_type": "markdown",
   "metadata": {},
   "source": [
    "## (3d) A similar correlation was found in mammary tissue, with R2=0.33 (p=3.6x10-12).\n"
   ]
  },
  {
   "cell_type": "markdown",
   "metadata": {},
   "source": [
    "## Metadata\n",
    "\n",
    "For replicability and reproducibility purposes, we also print the following metadata:\n",
    "\n",
    "1. Checksums of **'artefacts'**, files generated during the analysis and stored in the folder directory **`data`**\n",
    "2. List of environment metadata, dependencies, versions of libraries using `utils::sessionInfo()` and [`devtools::session_info()`](https://devtools.r-lib.org/reference/session_info.html)"
   ]
  },
  {
   "cell_type": "markdown",
   "metadata": {},
   "source": [
    "### 1. Checksums with the sha256 algorithm"
   ]
  },
  {
   "cell_type": "code",
   "execution_count": null,
   "metadata": {},
   "outputs": [],
   "source": [
    "figure_id   = \"figures_3c_3d\"\n",
    "\n",
    "message(\"Generating sha256 checksums of the artefacts in the `..data/` directory .. \")\n",
    "system(paste0(\"cd ../data/ && sha256sum * > ../metadata/\", figure_id, \"_sha256sums.txt\"), intern = TRUE)\n",
    "message(\"Done!\\n\")\n",
    "\n",
    "data.table::fread(paste0(\"../metadata/\", figure_id, \"_sha256sums.txt\"), header = FALSE, col.names = c(\"sha256sum\", \"file\"))"
   ]
  },
  {
   "cell_type": "code",
   "execution_count": null,
   "metadata": {},
   "outputs": [],
   "source": []
  },
  {
   "cell_type": "markdown",
   "metadata": {},
   "source": [
    "### 2. Libraries metadata"
   ]
  },
  {
   "cell_type": "code",
   "execution_count": null,
   "metadata": {},
   "outputs": [],
   "source": [
    "figure_id   = \"figures_3c_3d\"\n",
    "\n",
    "dev_session_info   <- devtools::session_info()\n",
    "utils_session_info <- utils::sessionInfo()\n",
    "\n",
    "message(\"Saving `devtools::session_info()` objects in ../metadata/devtools_session_info.rds  ..\")\n",
    "saveRDS(dev_session_info, file = paste0(\"../metadata/\", figure_id, \"_devtools_session_info.rds\"))\n",
    "message(\"Done!\\n\")\n",
    "\n",
    "message(\"Saving `utils::sessionInfo()` objects in ../metadata/utils_session_info.rds  ..\")\n",
    "saveRDS(utils_session_info, file = paste0(\"../metadata/\", figure_id ,\"_utils_info.rds\"))\n",
    "message(\"Done!\\n\")\n",
    "\n",
    "dev_session_info$platform\n",
    "dev_session_info$packages[dev_session_info$packages$attached==TRUE, ]"
   ]
  },
  {
   "cell_type": "code",
   "execution_count": null,
   "metadata": {},
   "outputs": [],
   "source": []
  }
 ],
 "metadata": {
  "kernelspec": {
   "display_name": "R",
   "language": "R",
   "name": "ir"
  },
  "language_info": {
   "codemirror_mode": "r",
   "file_extension": ".r",
   "mimetype": "text/x-r-source",
   "name": "R",
   "pygments_lexer": "r",
   "version": "3.6.1"
  }
 },
 "nbformat": 4,
 "nbformat_minor": 4
}
