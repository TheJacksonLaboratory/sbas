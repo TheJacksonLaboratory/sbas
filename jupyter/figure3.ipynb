{
 "cells": [
  {
   "cell_type": "markdown",
   "metadata": {},
   "source": [
    "# Analysis Notebook - Hierarchical Bayesian Modelling"
   ]
  },
  {
   "cell_type": "markdown",
   "metadata": {},
   "source": [
    "## **NOTE**:\n",
    "\n",
    "We assume that you have cloned the analysis repository and have `cd` into the parent directory. Before starting with the analysis make sure you have first completed the dependencies set up by following the instructions described in the **`dependencies/README.md`** document. All paths defined in this Notebook are relative to the parent directory (repository). Please close this Notebook and start again by following the above guidelines if you have not completed the aforementioned steps."
   ]
  },
  {
   "cell_type": "markdown",
   "metadata": {},
   "source": [
    "## Prerequisite input files\n",
    "\n",
    "Before starting the execution of the following code, make sure you have available in the folders `sbas/data` and `sbas/assets` the files listed below as prerequisites.\n",
    "\n",
    "###  **`sbas/data`**.\n",
    "The present analysis requires the following files to be present in the folder **`sbas/data`**.\n",
    "\n",
    "\n",
    "- [x] The contents of `data.tar.gz` after unpacking them into the `sbas/data` folder with `tar xvzf data.tar.gz -C sbas/data `\n",
    "- [x] `SraRunTable.txt` formerly named`SraRunTable.noCram.noExome.noWGS.totalRNA.txt` (changed in [9fd0618](https://github.com/TheJacksonLaboratory/sbas/commit/9fd06183d1df0d6c6f072861ad7ff3b84ac5cb47))\n",
    "- [x] `rmats_final.se.jc.ijc.txt`\n",
    "- [x] `rmats_final.se.jc.sjc.txt`\n",
    "- [x] `SraRunTable.noCram.noExome.noWGS.totalRNA.txt`\n",
    "\n",
    "\n",
    "Additionally, the file `GTEx_Analysis_2016-01-15_v7_RNASeQCv1.1.8_gene_tpm.gct` which is retrieved in the script from [`https://storage.googleapis.com/gtex_analysis_v7/rna_seq_data/`](https://storage.googleapis.com/gtex_analysis_v7/rna_seq_data/GTEx_Analysis_2016-01-15_v7_RNASeQCv1.1.8_gene_tpm.gct.gz) and stored into the folder \n",
    "`sbas/data` as well.\n",
    "\n",
    "\n",
    "### **`sbas/assets`**\n",
    "The present analysis requires the following files to be present in the folder **`sbas/assets`**.\n",
    "\n",
    "- [x] `tissues.tsv`: metadata file with information on which tissues will be used for analysis\n",
    "- [x] `splice-relevant-genes.txt`: list of RNA binding proteins that are annotated to splicing relevant functions from GO."
   ]
  },
  {
   "cell_type": "markdown",
   "metadata": {},
   "source": [
    "## Loading dependencies\n",
    "\n",
    "If `conda` is available on your environment you can install the required dependencies by running the following commands:\n",
    "\n",
    "\n",
    "```bash\n",
    "time conda install -y r-base==3.6.2 &&\n",
    "conda install -y r-ggplot2 r-ggsci r-coda r-rstan r-rjags r-compute.es r-snakecase &&\n",
    "Rscript -e 'install.packages(\"runjags\", repos = \"https://cloud.r-project.org/\")'\n",
    "```\n",
    "\n"
   ]
  },
  {
   "cell_type": "code",
   "execution_count": 1,
   "metadata": {},
   "outputs": [],
   "source": [
    "# Start the clock!\n",
    "start_time <- Sys.time()"
   ]
  },
  {
   "cell_type": "code",
   "execution_count": 2,
   "metadata": {},
   "outputs": [
    {
     "name": "stderr",
     "output_type": "stream",
     "text": [
      "Warning message:\n",
      "“package ‘ggplot2’ was built under R version 3.6.3”\n",
      "Warning message:\n",
      "“package ‘ggsci’ was built under R version 3.6.3”\n",
      "Warning message:\n",
      "“package ‘gridExtra’ was built under R version 3.6.3”\n",
      "Warning message:\n",
      "“package ‘snakecase’ was built under R version 3.6.3”\n",
      "Warning message:\n",
      "“package ‘rstan’ was built under R version 3.6.3”\n",
      "Loading required package: StanHeaders\n",
      "\n",
      "Warning message:\n",
      "“package ‘StanHeaders’ was built under R version 3.6.3”\n",
      "rstan (Version 2.19.3, GitRev: 2e1f913d3ca3)\n",
      "\n",
      "For execution on a local, multicore CPU with excess RAM we recommend calling\n",
      "options(mc.cores = parallel::detectCores()).\n",
      "To avoid recompilation of unchanged Stan programs, we recommend calling\n",
      "rstan_options(auto_write = TRUE)\n",
      "\n",
      "Warning message:\n",
      "“package ‘rjags’ was built under R version 3.6.3”\n",
      "Loading required package: coda\n",
      "\n",
      "Warning message:\n",
      "“package ‘coda’ was built under R version 3.6.3”\n",
      "\n",
      "Attaching package: ‘coda’\n",
      "\n",
      "\n",
      "The following object is masked from ‘package:rstan’:\n",
      "\n",
      "    traceplot\n",
      "\n",
      "\n",
      "Linked to JAGS 4.3.0\n",
      "\n",
      "Loaded modules: basemod,bugs\n",
      "\n",
      "\n",
      "Attaching package: ‘runjags’\n",
      "\n",
      "\n",
      "The following object is masked from ‘package:rstan’:\n",
      "\n",
      "    extract\n",
      "\n",
      "\n",
      "Warning message:\n",
      "“package ‘compute.es’ was built under R version 3.6.3”\n"
     ]
    }
   ],
   "source": [
    "# dataviz dependencies\n",
    "library(ggplot2)\n",
    "library(ggsci)\n",
    "library(grid)\n",
    "library(gridExtra)\n",
    "library(stringr)\n",
    "library(snakecase)\n",
    "\n",
    "# BDA2E-utilities dependencies\n",
    "library(rstan)\n",
    "library(parallel)\n",
    "library(rjags)\n",
    "library(runjags)\n",
    "library(compute.es)"
   ]
  },
  {
   "cell_type": "code",
   "execution_count": 3,
   "metadata": {},
   "outputs": [
    {
     "data": {
      "text/html": [
       "TRUE"
      ],
      "text/latex": [
       "TRUE"
      ],
      "text/markdown": [
       "TRUE"
      ],
      "text/plain": [
       "[1] TRUE"
      ]
     },
     "metadata": {},
     "output_type": "display_data"
    }
   ],
   "source": [
    "file.exists(\"../data/GTEx_Analysis_2017-06-05_v8_RNASeQCv1.1.9_gene_tpm.gct\")"
   ]
  },
  {
   "cell_type": "markdown",
   "metadata": {},
   "source": [
    "Download GTEx_Analysis_2016-01-15_v7_RNASeQCv1.1.8_gene_tpm.gct from Google Cloud\n"
   ]
  },
  {
   "cell_type": "code",
   "execution_count": 4,
   "metadata": {},
   "outputs": [],
   "source": [
    "if (!(\"GTEx_Analysis_2017-06-05_v8_RNASeQCv1.1.9_gene_tpm.gct\" %in% list.files(\"../data/\"))) {\n",
    "    message(\"Downloading GTEx_Analysis_2017-06-05_v8_RNASeQCv1.1.9_gene_tpm.gct \\nfrom https://console.cloud.google.com/storage/browser/_details/gtex_analysis_v7/rna_seq_data/ ..\")\n",
    "    system(\"wget -O ../data/GTEx_Analysis_2017-06-05_v8_RNASeQCv1.1.9_gene_tpm.gct.gz https://storage.googleapis.com/gtex_analysis_v7/rna_seq_data/GTEx_Analysis_2016-01-15_v7_RNASeQCv1.1.8_gene_tpm.gct.gz\", intern = TRUE)\n",
    "    message(\"Done!\\n\\n\")\n",
    "    message(\"Unzipping compressed file GTEx_Analysis_2017-06-05_v8_RNASeQCv1.1.9_gene_tpm.gct.gz..\")\n",
    "    system(\"gunzip ../data/GTEx_Analysis_2017-06-05_v8_RNASeQCv1.1.9_gene_tpm.gct.gz\", intern = TRUE)\n",
    "    message(\"Done! \\n\\nThe file GTEx_Analysis_2017-06-05_v8_RNASeQCv1.1.9_gene_tpm.gct can be found in ../data/\")\n",
    "}"
   ]
  },
  {
   "cell_type": "markdown",
   "metadata": {},
   "source": [
    "Previously used list of tissues to use for the Hierarchical Bayesian modelling:\n",
    "\n",
    "\n",
    "\n",
    "```R\n",
    "tissue.list<-c(\"Heart - Left Ventricle\",\n",
    "               \"Breast - Mammary Tissue\",\n",
    "               \"Brain - Cortex.Brain - Frontal Cortex (BA9).Brain - Anterior cingulate cortex (BA24)\",\n",
    "               \"Adrenal Gland\",\n",
    "               \"Adipose - Subcutaneous\",\n",
    "               \"Muscle - Skeletal\",\n",
    "               \"Thyroid\",\n",
    "               \"Cells - Transformed fibroblasts\",\n",
    "               \"Artery - Aorta\",\n",
    "               \"Skin - Sun Exposed (Lower leg).Skin - Not Sun Exposed (Suprapubic)\")\n",
    "```"
   ]
  },
  {
   "cell_type": "code",
   "execution_count": 5,
   "metadata": {},
   "outputs": [
    {
     "name": "stderr",
     "output_type": "stream",
     "text": [
      "Parsed with column specification:\n",
      "cols(\n",
      "  name = \u001b[31mcol_character()\u001b[39m,\n",
      "  female = \u001b[32mcol_double()\u001b[39m,\n",
      "  male = \u001b[32mcol_double()\u001b[39m,\n",
      "  include = \u001b[32mcol_double()\u001b[39m,\n",
      "  display.name = \u001b[31mcol_character()\u001b[39m\n",
      ")\n",
      "\n"
     ]
    }
   ],
   "source": [
    "tissues_df <- readr::read_delim(\"../assets/tissues.tsv\", delim = \"\\t\")"
   ]
  },
  {
   "cell_type": "code",
   "execution_count": 6,
   "metadata": {},
   "outputs": [],
   "source": [
    "tissue.list <- tissues_df$name[ tissues_df$include ==1]"
   ]
  },
  {
   "cell_type": "code",
   "execution_count": 7,
   "metadata": {},
   "outputs": [
    {
     "name": "stderr",
     "output_type": "stream",
     "text": [
      "39 tissues\n",
      "\n"
     ]
    },
    {
     "name": "stdout",
     "output_type": "stream",
     "text": [
      "adipose_subcutaneous\n",
      "adipose_visceral_omentum\n",
      "adrenal_gland\n",
      "artery_aorta\n",
      "artery_coronary\n",
      "artery_tibial\n",
      "brain_caudate_basal_ganglia\n",
      "brain_cerebellar_hemisphere\n",
      "brain_cerebellum\n",
      "brain_cortex\n",
      "brain_frontal_cortex_ba_9\n",
      "brain_hippocampus\n",
      "brain_hypothalamus\n",
      "brain_nucleus_accumbens_basal_ganglia\n",
      "brain_putamen_basal_ganglia\n",
      "brain_spinal_cord_cervical_c_1\n",
      "breast_mammary_tissue\n",
      "cells_cultured_fibroblasts\n",
      "cells_ebv_transformed_lymphocytes\n",
      "colon_sigmoid\n",
      "colon_transverse\n",
      "esophagus_gastroesophageal_junction\n",
      "esophagus_mucosa\n",
      "esophagus_muscularis\n",
      "heart_atrial_appendage\n",
      "heart_left_ventricle\n",
      "liver\n",
      "lung\n",
      "muscle_skeletal\n",
      "nerve_tibial\n",
      "pancreas\n",
      "pituitary\n",
      "skin_not_sun_exposed_suprapubic\n",
      "skin_sun_exposed_lower_leg\n",
      "small_intestine_terminal_ileum\n",
      "spleen\n",
      "stomach\n",
      "thyroid\n",
      "whole_blood\n"
     ]
    }
   ],
   "source": [
    "message(length(tissue.list), \" tissues\")\n",
    "cat(tissue.list, sep = \"\\n\")"
   ]
  },
  {
   "cell_type": "code",
   "execution_count": 8,
   "metadata": {},
   "outputs": [],
   "source": [
    "tissue <- tissue.list[17]  #can be replaced with a loop or argument to choose a different tissue"
   ]
  },
  {
   "cell_type": "code",
   "execution_count": 9,
   "metadata": {},
   "outputs": [
    {
     "data": {
      "text/html": [
       "'breast_mammary_tissue'"
      ],
      "text/latex": [
       "'breast\\_mammary\\_tissue'"
      ],
      "text/markdown": [
       "'breast_mammary_tissue'"
      ],
      "text/plain": [
       "[1] \"breast_mammary_tissue\""
      ]
     },
     "metadata": {},
     "output_type": "display_data"
    }
   ],
   "source": [
    "tissue"
   ]
  },
  {
   "cell_type": "markdown",
   "metadata": {},
   "source": [
    "## Pattern for choosing `topTable()` files from `limma`\n",
    "\n",
    "```bash\n",
    "# {as_site_type} + '_' + {tissue} + '_' + suffix_pattern \n",
    "se_skin_not_sun_exposed_suprapubic_AS_model_B_sex_as_events.csv\n",
    "```"
   ]
  },
  {
   "cell_type": "code",
   "execution_count": 10,
   "metadata": {},
   "outputs": [
    {
     "data": {
      "text/html": [
       "'../data/se_breast_mammary_tissue_AS_model_B_sex_as_events.csv'"
      ],
      "text/latex": [
       "'../data/se\\_breast\\_mammary\\_tissue\\_AS\\_model\\_B\\_sex\\_as\\_events.csv'"
      ],
      "text/markdown": [
       "'../data/se_breast_mammary_tissue_AS_model_B_sex_as_events.csv'"
      ],
      "text/plain": [
       "[1] \"../data/se_breast_mammary_tissue_AS_model_B_sex_as_events.csv\""
      ]
     },
     "metadata": {},
     "output_type": "display_data"
    },
    {
     "data": {
      "text/html": [
       "TRUE"
      ],
      "text/latex": [
       "TRUE"
      ],
      "text/markdown": [
       "TRUE"
      ],
      "text/plain": [
       "[1] TRUE"
      ]
     },
     "metadata": {},
     "output_type": "display_data"
    },
    {
     "data": {
      "text/html": [
       "'-rw-r--r-- 1 jovyan users 4688985 Jun 18 16:59 ../data/se_breast_mammary_tissue_AS_model_B_sex_as_events.csv'"
      ],
      "text/latex": [
       "'-rw-r--r-- 1 jovyan users 4688985 Jun 18 16:59 ../data/se\\_breast\\_mammary\\_tissue\\_AS\\_model\\_B\\_sex\\_as\\_events.csv'"
      ],
      "text/markdown": [
       "'-rw-r--r-- 1 jovyan users 4688985 Jun 18 16:59 ../data/se_breast_mammary_tissue_AS_model_B_sex_as_events.csv'"
      ],
      "text/plain": [
       "[1] \"-rw-r--r-- 1 jovyan users 4688985 Jun 18 16:59 ../data/se_breast_mammary_tissue_AS_model_B_sex_as_events.csv\""
      ]
     },
     "metadata": {},
     "output_type": "display_data"
    }
   ],
   "source": [
    "dataDir <- \"../data/\"\n",
    "assetsDir <- \"../assets/\"\n",
    "as_site_type <- \"se\"\n",
    "suffix_pattern <- \"AS_model_B_sex_as_events.csv\"\n",
    "\n",
    "file.with.de.results <- paste0(dataDir, as_site_type, \"_\", tissue, \"_\" , suffix_pattern  )\n",
    "file.with.de.results\n",
    "file.exists(file.with.de.results)\n",
    "system( paste0(\"ls -l \", file.with.de.results), intern = TRUE )"
   ]
  },
  {
   "cell_type": "code",
   "execution_count": 11,
   "metadata": {},
   "outputs": [
    {
     "data": {
      "text/html": [
       "<table>\n",
       "<caption>A data.frame: 2 × 6</caption>\n",
       "<thead>\n",
       "\t<tr><th></th><th scope=col>logFC</th><th scope=col>AveExpr</th><th scope=col>t</th><th scope=col>P.Value</th><th scope=col>adj.P.Val</th><th scope=col>B</th></tr>\n",
       "\t<tr><th></th><th scope=col>&lt;dbl&gt;</th><th scope=col>&lt;dbl&gt;</th><th scope=col>&lt;dbl&gt;</th><th scope=col>&lt;dbl&gt;</th><th scope=col>&lt;dbl&gt;</th><th scope=col>&lt;dbl&gt;</th></tr>\n",
       "</thead>\n",
       "<tbody>\n",
       "\t<tr><th scope=row>XIST-10154</th><td>-6.796072</td><td>1.385720</td><td>-38.73465</td><td>5.301573e-131</td><td>1.523859e-126</td><td>280.9110</td></tr>\n",
       "\t<tr><th scope=row>XIST-10149</th><td>-7.124726</td><td>1.597306</td><td>-38.68238</td><td>7.868530e-131</td><td>1.523859e-126</td><td>280.5225</td></tr>\n",
       "</tbody>\n",
       "</table>\n"
      ],
      "text/latex": [
       "A data.frame: 2 × 6\n",
       "\\begin{tabular}{r|llllll}\n",
       "  & logFC & AveExpr & t & P.Value & adj.P.Val & B\\\\\n",
       "  & <dbl> & <dbl> & <dbl> & <dbl> & <dbl> & <dbl>\\\\\n",
       "\\hline\n",
       "\tXIST-10154 & -6.796072 & 1.385720 & -38.73465 & 5.301573e-131 & 1.523859e-126 & 280.9110\\\\\n",
       "\tXIST-10149 & -7.124726 & 1.597306 & -38.68238 & 7.868530e-131 & 1.523859e-126 & 280.5225\\\\\n",
       "\\end{tabular}\n"
      ],
      "text/markdown": [
       "\n",
       "A data.frame: 2 × 6\n",
       "\n",
       "| <!--/--> | logFC &lt;dbl&gt; | AveExpr &lt;dbl&gt; | t &lt;dbl&gt; | P.Value &lt;dbl&gt; | adj.P.Val &lt;dbl&gt; | B &lt;dbl&gt; |\n",
       "|---|---|---|---|---|---|---|\n",
       "| XIST-10154 | -6.796072 | 1.385720 | -38.73465 | 5.301573e-131 | 1.523859e-126 | 280.9110 |\n",
       "| XIST-10149 | -7.124726 | 1.597306 | -38.68238 | 7.868530e-131 | 1.523859e-126 | 280.5225 |\n",
       "\n"
      ],
      "text/plain": [
       "           logFC     AveExpr  t         P.Value       adj.P.Val     B       \n",
       "XIST-10154 -6.796072 1.385720 -38.73465 5.301573e-131 1.523859e-126 280.9110\n",
       "XIST-10149 -7.124726 1.597306 -38.68238 7.868530e-131 1.523859e-126 280.5225"
      ]
     },
     "metadata": {},
     "output_type": "display_data"
    }
   ],
   "source": [
    "events.table         <- read.table(file.with.de.results, sep = \",\")\n",
    "head(events.table, 2)"
   ]
  },
  {
   "cell_type": "markdown",
   "metadata": {},
   "source": [
    "## Add annotation columns to the topTable dataframe:\n",
    "\n",
    "The feature information is encoded in the topTable dataframe as rownames. The `ID` and `geneSymbol` variables have been combined in the following pattern:\n",
    "\n",
    "```console\n",
    "{geneSymbol}-{ID} \n",
    "```\n",
    "\n",
    "- `ID`: everything **_after_** last occurence of hyphen `-`\n",
    "example: \n",
    "```R\n",
    "stringr::str_replace(\"apples - oranges - bananas\", \"^.+-\", \"\")\n",
    "```\n",
    "\n",
    "```console\n",
    "# output:\n",
    "\n",
    "' bananas'\n",
    "```\n",
    "\n",
    "- `geneSymbol`: everything **_before_** last occurence of `-`\n",
    "example: \n",
    "\n",
    "```R\n",
    "sub('-[^-]*$', '',\"apples - oranges - bananas\")\n",
    "```\n",
    "\n",
    "```console\n",
    "# output:\n",
    "\n",
    "'apples - oranges '\n",
    "```\n",
    "\n",
    "```diff\n",
    "- NOTE: The above solution covers the cases where a hyphen is part of the geneSymbol.\n",
    "```"
   ]
  },
  {
   "cell_type": "code",
   "execution_count": 12,
   "metadata": {},
   "outputs": [
    {
     "data": {
      "text/html": [
       "<style>\n",
       ".list-inline {list-style: none; margin:0; padding: 0}\n",
       ".list-inline>li {display: inline-block}\n",
       ".list-inline>li:not(:last-child)::after {content: \"\\00b7\"; padding: 0 .5ex}\n",
       "</style>\n",
       "<ol class=list-inline><li>'logFC'</li><li>'AveExpr'</li><li>'t'</li><li>'P.Value'</li><li>'adj.P.Val'</li><li>'B'</li></ol>\n"
      ],
      "text/latex": [
       "\\begin{enumerate*}\n",
       "\\item 'logFC'\n",
       "\\item 'AveExpr'\n",
       "\\item 't'\n",
       "\\item 'P.Value'\n",
       "\\item 'adj.P.Val'\n",
       "\\item 'B'\n",
       "\\end{enumerate*}\n"
      ],
      "text/markdown": [
       "1. 'logFC'\n",
       "2. 'AveExpr'\n",
       "3. 't'\n",
       "4. 'P.Value'\n",
       "5. 'adj.P.Val'\n",
       "6. 'B'\n",
       "\n",
       "\n"
      ],
      "text/plain": [
       "[1] \"logFC\"     \"AveExpr\"   \"t\"         \"P.Value\"   \"adj.P.Val\" \"B\"        "
      ]
     },
     "metadata": {},
     "output_type": "display_data"
    }
   ],
   "source": [
    "cols_initially <- colnames(events.table)\n",
    "cols_initially"
   ]
  },
  {
   "cell_type": "code",
   "execution_count": 13,
   "metadata": {},
   "outputs": [],
   "source": [
    "events.table[[\"ID\"]] <- stringr::str_replace(rownames(events.table),  \"^.+-\", \"\")\n",
    "events.table[[\"gene_name\"]] <- sub('-[^-]*$', '', rownames(events.table))"
   ]
  },
  {
   "cell_type": "code",
   "execution_count": 14,
   "metadata": {},
   "outputs": [],
   "source": [
    "keepInOrderCols <- c(\"gene_name\", \"ID\", cols_initially)"
   ]
  },
  {
   "cell_type": "code",
   "execution_count": 15,
   "metadata": {},
   "outputs": [],
   "source": [
    "events.table <- events.table[ , keepInOrderCols ]"
   ]
  },
  {
   "cell_type": "code",
   "execution_count": 16,
   "metadata": {},
   "outputs": [
    {
     "data": {
      "text/html": [
       "<table>\n",
       "<caption>A data.frame: 2 × 8</caption>\n",
       "<thead>\n",
       "\t<tr><th></th><th scope=col>gene_name</th><th scope=col>ID</th><th scope=col>logFC</th><th scope=col>AveExpr</th><th scope=col>t</th><th scope=col>P.Value</th><th scope=col>adj.P.Val</th><th scope=col>B</th></tr>\n",
       "\t<tr><th></th><th scope=col>&lt;chr&gt;</th><th scope=col>&lt;chr&gt;</th><th scope=col>&lt;dbl&gt;</th><th scope=col>&lt;dbl&gt;</th><th scope=col>&lt;dbl&gt;</th><th scope=col>&lt;dbl&gt;</th><th scope=col>&lt;dbl&gt;</th><th scope=col>&lt;dbl&gt;</th></tr>\n",
       "</thead>\n",
       "<tbody>\n",
       "\t<tr><th scope=row>RPLP0-28659</th><td>RPLP0</td><td>28659</td><td> 0.02222658</td><td>9.584065</td><td> 0.1354014</td><td>0.8923696</td><td>0.9544973</td><td>-7.100906</td></tr>\n",
       "\t<tr><th scope=row>CD74-25493</th><td>CD74 </td><td>25493</td><td>-0.01277937</td><td>9.839909</td><td>-0.1084203</td><td>0.9137222</td><td>0.9639965</td><td>-7.254767</td></tr>\n",
       "</tbody>\n",
       "</table>\n"
      ],
      "text/latex": [
       "A data.frame: 2 × 8\n",
       "\\begin{tabular}{r|llllllll}\n",
       "  & gene\\_name & ID & logFC & AveExpr & t & P.Value & adj.P.Val & B\\\\\n",
       "  & <chr> & <chr> & <dbl> & <dbl> & <dbl> & <dbl> & <dbl> & <dbl>\\\\\n",
       "\\hline\n",
       "\tRPLP0-28659 & RPLP0 & 28659 &  0.02222658 & 9.584065 &  0.1354014 & 0.8923696 & 0.9544973 & -7.100906\\\\\n",
       "\tCD74-25493 & CD74  & 25493 & -0.01277937 & 9.839909 & -0.1084203 & 0.9137222 & 0.9639965 & -7.254767\\\\\n",
       "\\end{tabular}\n"
      ],
      "text/markdown": [
       "\n",
       "A data.frame: 2 × 8\n",
       "\n",
       "| <!--/--> | gene_name &lt;chr&gt; | ID &lt;chr&gt; | logFC &lt;dbl&gt; | AveExpr &lt;dbl&gt; | t &lt;dbl&gt; | P.Value &lt;dbl&gt; | adj.P.Val &lt;dbl&gt; | B &lt;dbl&gt; |\n",
       "|---|---|---|---|---|---|---|---|---|\n",
       "| RPLP0-28659 | RPLP0 | 28659 |  0.02222658 | 9.584065 |  0.1354014 | 0.8923696 | 0.9544973 | -7.100906 |\n",
       "| CD74-25493 | CD74  | 25493 | -0.01277937 | 9.839909 | -0.1084203 | 0.9137222 | 0.9639965 | -7.254767 |\n",
       "\n"
      ],
      "text/plain": [
       "            gene_name ID    logFC       AveExpr  t          P.Value   adj.P.Val\n",
       "RPLP0-28659 RPLP0     28659  0.02222658 9.584065  0.1354014 0.8923696 0.9544973\n",
       "CD74-25493  CD74      25493 -0.01277937 9.839909 -0.1084203 0.9137222 0.9639965\n",
       "            B        \n",
       "RPLP0-28659 -7.100906\n",
       "CD74-25493  -7.254767"
      ]
     },
     "metadata": {},
     "output_type": "display_data"
    }
   ],
   "source": [
    "tail(events.table, 2)"
   ]
  },
  {
   "cell_type": "markdown",
   "metadata": {},
   "source": [
    "## Define filepaths of required inputs\n",
    "\n",
    "`file.with.de.results` has been defined above"
   ]
  },
  {
   "cell_type": "code",
   "execution_count": 17,
   "metadata": {},
   "outputs": [
    {
     "data": {
      "text/html": [
       "TRUE"
      ],
      "text/latex": [
       "TRUE"
      ],
      "text/markdown": [
       "TRUE"
      ],
      "text/plain": [
       "[1] TRUE"
      ]
     },
     "metadata": {},
     "output_type": "display_data"
    }
   ],
   "source": [
    "rbp.table.name        <- paste0(assetsDir, \"splice-relevant-genes.txt\")\n",
    "file.exists(rbp.table.name)"
   ]
  },
  {
   "cell_type": "code",
   "execution_count": 18,
   "metadata": {},
   "outputs": [
    {
     "data": {
      "text/html": [
       "TRUE"
      ],
      "text/latex": [
       "TRUE"
      ],
      "text/markdown": [
       "TRUE"
      ],
      "text/plain": [
       "[1] TRUE"
      ]
     },
     "metadata": {},
     "output_type": "display_data"
    }
   ],
   "source": [
    "events.table.name     <- paste0(dataDir, \"fromGTF.SE.txt\")\n",
    "file.exists(events.table.name)"
   ]
  },
  {
   "cell_type": "code",
   "execution_count": 19,
   "metadata": {},
   "outputs": [
    {
     "data": {
      "text/html": [
       "TRUE"
      ],
      "text/latex": [
       "TRUE"
      ],
      "text/markdown": [
       "TRUE"
      ],
      "text/plain": [
       "[1] TRUE"
      ]
     },
     "metadata": {},
     "output_type": "display_data"
    }
   ],
   "source": [
    "inc.counts.file.name  <- paste0(dataDir, \"rmats_final.se.jc.ijc.txt\")\n",
    "file.exists(inc.counts.file.name)"
   ]
  },
  {
   "cell_type": "code",
   "execution_count": 20,
   "metadata": {},
   "outputs": [
    {
     "data": {
      "text/html": [
       "TRUE"
      ],
      "text/latex": [
       "TRUE"
      ],
      "text/markdown": [
       "TRUE"
      ],
      "text/plain": [
       "[1] TRUE"
      ]
     },
     "metadata": {},
     "output_type": "display_data"
    }
   ],
   "source": [
    "skip.counts.file.name <- paste0(dataDir, \"rmats_final.se.jc.sjc.txt\")\n",
    "file.exists(skip.counts.file.name)"
   ]
  },
  {
   "cell_type": "code",
   "execution_count": 21,
   "metadata": {},
   "outputs": [
    {
     "data": {
      "text/html": [
       "TRUE"
      ],
      "text/latex": [
       "TRUE"
      ],
      "text/markdown": [
       "TRUE"
      ],
      "text/plain": [
       "[1] TRUE"
      ]
     },
     "metadata": {},
     "output_type": "display_data"
    }
   ],
   "source": [
    "metadata.file.name    <- paste0(dataDir, \"SraRunTable.txt\")\n",
    "file.exists(metadata.file.name)"
   ]
  },
  {
   "cell_type": "code",
   "execution_count": 22,
   "metadata": {},
   "outputs": [
    {
     "data": {
      "text/html": [
       "TRUE"
      ],
      "text/latex": [
       "TRUE"
      ],
      "text/markdown": [
       "TRUE"
      ],
      "text/plain": [
       "[1] TRUE"
      ]
     },
     "metadata": {},
     "output_type": "display_data"
    }
   ],
   "source": [
    "expression.file.name  <- paste0(dataDir, \"GTEx_Analysis_2017-06-05_v8_RNASeQCv1.1.9_gene_tpm.gct\")\n",
    "file.exists(expression.file.name)"
   ]
  },
  {
   "cell_type": "markdown",
   "metadata": {},
   "source": [
    "## Use the define filepaths to load/read in the tables "
   ]
  },
  {
   "cell_type": "markdown",
   "metadata": {},
   "source": [
    "Load the skip and inclusion count matrices, and the list of RNA binding proteins that are annotated to either:\n",
    "- mRNA splicing, via spliceosome `(GO:0000398)`,\n",
    "- regulation of mRNA splicing, via spliceosome `(GO:0048024)`, or \n",
    "- both. \n",
    "\n",
    "The table has the:\n",
    "- Gene Symbol\n",
    "- the Uniprot ID (`uprot.id`)\n",
    "- the NCBI Gene ID (`gene.id`) and \n",
    "- boolean columns for being \n",
    "  - `S`=mRNA splicing, via spliceosome `(GO:0000398)` and \n",
    "  - `R`=regulation of mRNA splicing, via spliceosome `(GO:0048024)`."
   ]
  },
  {
   "cell_type": "markdown",
   "metadata": {},
   "source": [
    "### Filtering of the `topTable()` object\n",
    "\n",
    "- `abs(events.table$logFC)>=log2(1.5)`\n",
    "- `events.table$adj.P.Val<=0.05`"
   ]
  },
  {
   "cell_type": "code",
   "execution_count": 23,
   "metadata": {},
   "outputs": [
    {
     "data": {
      "text/html": [
       "<style>\n",
       ".list-inline {list-style: none; margin:0; padding: 0}\n",
       ".list-inline>li {display: inline-block}\n",
       ".list-inline>li:not(:last-child)::after {content: \"\\00b7\"; padding: 0 .5ex}\n",
       "</style>\n",
       "<ol class=list-inline><li>38733</li><li>8</li></ol>\n"
      ],
      "text/latex": [
       "\\begin{enumerate*}\n",
       "\\item 38733\n",
       "\\item 8\n",
       "\\end{enumerate*}\n"
      ],
      "text/markdown": [
       "1. 38733\n",
       "2. 8\n",
       "\n",
       "\n"
      ],
      "text/plain": [
       "[1] 38733     8"
      ]
     },
     "metadata": {},
     "output_type": "display_data"
    },
    {
     "data": {
      "text/html": [
       "<style>\n",
       ".list-inline {list-style: none; margin:0; padding: 0}\n",
       ".list-inline>li {display: inline-block}\n",
       ".list-inline>li:not(:last-child)::after {content: \"\\00b7\"; padding: 0 .5ex}\n",
       "</style>\n",
       "<ol class=list-inline><li>3163</li><li>8</li></ol>\n"
      ],
      "text/latex": [
       "\\begin{enumerate*}\n",
       "\\item 3163\n",
       "\\item 8\n",
       "\\end{enumerate*}\n"
      ],
      "text/markdown": [
       "1. 3163\n",
       "2. 8\n",
       "\n",
       "\n"
      ],
      "text/plain": [
       "[1] 3163    8"
      ]
     },
     "metadata": {},
     "output_type": "display_data"
    },
    {
     "data": {
      "text/html": [
       "<table>\n",
       "<caption>A data.frame: 2 × 8</caption>\n",
       "<thead>\n",
       "\t<tr><th></th><th scope=col>gene_name</th><th scope=col>ID</th><th scope=col>logFC</th><th scope=col>AveExpr</th><th scope=col>t</th><th scope=col>P.Value</th><th scope=col>adj.P.Val</th><th scope=col>B</th></tr>\n",
       "\t<tr><th></th><th scope=col>&lt;chr&gt;</th><th scope=col>&lt;chr&gt;</th><th scope=col>&lt;dbl&gt;</th><th scope=col>&lt;dbl&gt;</th><th scope=col>&lt;dbl&gt;</th><th scope=col>&lt;dbl&gt;</th><th scope=col>&lt;dbl&gt;</th><th scope=col>&lt;dbl&gt;</th></tr>\n",
       "</thead>\n",
       "<tbody>\n",
       "\t<tr><th scope=row>XIST-10154</th><td>XIST</td><td>10154</td><td>-6.796072</td><td>1.385720</td><td>-38.73465</td><td>5.301573e-131</td><td>1.523859e-126</td><td>280.9110</td></tr>\n",
       "\t<tr><th scope=row>XIST-10149</th><td>XIST</td><td>10149</td><td>-7.124726</td><td>1.597306</td><td>-38.68238</td><td>7.868530e-131</td><td>1.523859e-126</td><td>280.5225</td></tr>\n",
       "</tbody>\n",
       "</table>\n"
      ],
      "text/latex": [
       "A data.frame: 2 × 8\n",
       "\\begin{tabular}{r|llllllll}\n",
       "  & gene\\_name & ID & logFC & AveExpr & t & P.Value & adj.P.Val & B\\\\\n",
       "  & <chr> & <chr> & <dbl> & <dbl> & <dbl> & <dbl> & <dbl> & <dbl>\\\\\n",
       "\\hline\n",
       "\tXIST-10154 & XIST & 10154 & -6.796072 & 1.385720 & -38.73465 & 5.301573e-131 & 1.523859e-126 & 280.9110\\\\\n",
       "\tXIST-10149 & XIST & 10149 & -7.124726 & 1.597306 & -38.68238 & 7.868530e-131 & 1.523859e-126 & 280.5225\\\\\n",
       "\\end{tabular}\n"
      ],
      "text/markdown": [
       "\n",
       "A data.frame: 2 × 8\n",
       "\n",
       "| <!--/--> | gene_name &lt;chr&gt; | ID &lt;chr&gt; | logFC &lt;dbl&gt; | AveExpr &lt;dbl&gt; | t &lt;dbl&gt; | P.Value &lt;dbl&gt; | adj.P.Val &lt;dbl&gt; | B &lt;dbl&gt; |\n",
       "|---|---|---|---|---|---|---|---|---|\n",
       "| XIST-10154 | XIST | 10154 | -6.796072 | 1.385720 | -38.73465 | 5.301573e-131 | 1.523859e-126 | 280.9110 |\n",
       "| XIST-10149 | XIST | 10149 | -7.124726 | 1.597306 | -38.68238 | 7.868530e-131 | 1.523859e-126 | 280.5225 |\n",
       "\n"
      ],
      "text/plain": [
       "           gene_name ID    logFC     AveExpr  t         P.Value      \n",
       "XIST-10154 XIST      10154 -6.796072 1.385720 -38.73465 5.301573e-131\n",
       "XIST-10149 XIST      10149 -7.124726 1.597306 -38.68238 7.868530e-131\n",
       "           adj.P.Val     B       \n",
       "XIST-10154 1.523859e-126 280.9110\n",
       "XIST-10149 1.523859e-126 280.5225"
      ]
     },
     "metadata": {},
     "output_type": "display_data"
    }
   ],
   "source": [
    "dim(events.table)\n",
    "events.table <- events.table[abs(events.table$logFC)>=log2(1.5) & events.table$adj.P.Val<=0.05,]\n",
    "dim(events.table)\n",
    "head(events.table,2)"
   ]
  },
  {
   "cell_type": "markdown",
   "metadata": {},
   "source": [
    "Make sure this command has been executed before `gunzip sbas/data/fromGTF.*` as the files are expected uncompressed.\n"
   ]
  },
  {
   "cell_type": "code",
   "execution_count": 24,
   "metadata": {},
   "outputs": [
    {
     "data": {
      "text/html": [
       "<style>\n",
       ".list-inline {list-style: none; margin:0; padding: 0}\n",
       ".list-inline>li {display: inline-block}\n",
       ".list-inline>li:not(:last-child)::after {content: \"\\00b7\"; padding: 0 .5ex}\n",
       "</style>\n",
       "<ol class=list-inline><li>42611</li><li>11</li></ol>\n"
      ],
      "text/latex": [
       "\\begin{enumerate*}\n",
       "\\item 42611\n",
       "\\item 11\n",
       "\\end{enumerate*}\n"
      ],
      "text/markdown": [
       "1. 42611\n",
       "2. 11\n",
       "\n",
       "\n"
      ],
      "text/plain": [
       "[1] 42611    11"
      ]
     },
     "metadata": {},
     "output_type": "display_data"
    },
    {
     "data": {
      "text/html": [
       "<table>\n",
       "<caption>A data.frame: 1 × 11</caption>\n",
       "<thead>\n",
       "\t<tr><th></th><th scope=col>ID</th><th scope=col>GeneID</th><th scope=col>geneSymbol</th><th scope=col>chr</th><th scope=col>strand</th><th scope=col>exonStart_0base</th><th scope=col>exonEnd</th><th scope=col>upstreamES</th><th scope=col>upstreamEE</th><th scope=col>downstreamES</th><th scope=col>downstreamEE</th></tr>\n",
       "\t<tr><th></th><th scope=col>&lt;int&gt;</th><th scope=col>&lt;fct&gt;</th><th scope=col>&lt;fct&gt;</th><th scope=col>&lt;fct&gt;</th><th scope=col>&lt;fct&gt;</th><th scope=col>&lt;int&gt;</th><th scope=col>&lt;int&gt;</th><th scope=col>&lt;int&gt;</th><th scope=col>&lt;int&gt;</th><th scope=col>&lt;int&gt;</th><th scope=col>&lt;int&gt;</th></tr>\n",
       "</thead>\n",
       "<tbody>\n",
       "\t<tr><th scope=row>1</th><td>1</td><td>ENSG00000034152.18</td><td>MAP2K3</td><td>chr17</td><td>+</td><td>21287990</td><td>21288091</td><td>21284709</td><td>21284969</td><td>21295674</td><td>21295769</td></tr>\n",
       "</tbody>\n",
       "</table>\n"
      ],
      "text/latex": [
       "A data.frame: 1 × 11\n",
       "\\begin{tabular}{r|lllllllllll}\n",
       "  & ID & GeneID & geneSymbol & chr & strand & exonStart\\_0base & exonEnd & upstreamES & upstreamEE & downstreamES & downstreamEE\\\\\n",
       "  & <int> & <fct> & <fct> & <fct> & <fct> & <int> & <int> & <int> & <int> & <int> & <int>\\\\\n",
       "\\hline\n",
       "\t1 & 1 & ENSG00000034152.18 & MAP2K3 & chr17 & + & 21287990 & 21288091 & 21284709 & 21284969 & 21295674 & 21295769\\\\\n",
       "\\end{tabular}\n"
      ],
      "text/markdown": [
       "\n",
       "A data.frame: 1 × 11\n",
       "\n",
       "| <!--/--> | ID &lt;int&gt; | GeneID &lt;fct&gt; | geneSymbol &lt;fct&gt; | chr &lt;fct&gt; | strand &lt;fct&gt; | exonStart_0base &lt;int&gt; | exonEnd &lt;int&gt; | upstreamES &lt;int&gt; | upstreamEE &lt;int&gt; | downstreamES &lt;int&gt; | downstreamEE &lt;int&gt; |\n",
       "|---|---|---|---|---|---|---|---|---|---|---|---|\n",
       "| 1 | 1 | ENSG00000034152.18 | MAP2K3 | chr17 | + | 21287990 | 21288091 | 21284709 | 21284969 | 21295674 | 21295769 |\n",
       "\n"
      ],
      "text/plain": [
       "  ID GeneID             geneSymbol chr   strand exonStart_0base exonEnd \n",
       "1 1  ENSG00000034152.18 MAP2K3     chr17 +      21287990        21288091\n",
       "  upstreamES upstreamEE downstreamES downstreamEE\n",
       "1 21284709   21284969   21295674     21295769    "
      ]
     },
     "metadata": {},
     "output_type": "display_data"
    }
   ],
   "source": [
    "annot.table  <- read.table(events.table.name,header=T)\n",
    "dim(annot.table)\n",
    "head(annot.table, 1)"
   ]
  },
  {
   "cell_type": "code",
   "execution_count": 25,
   "metadata": {},
   "outputs": [],
   "source": [
    "merged.table <- merge(events.table, annot.table, by=\"ID\")"
   ]
  },
  {
   "cell_type": "code",
   "execution_count": 26,
   "metadata": {},
   "outputs": [
    {
     "data": {
      "text/html": [
       "<style>\n",
       ".list-inline {list-style: none; margin:0; padding: 0}\n",
       ".list-inline>li {display: inline-block}\n",
       ".list-inline>li:not(:last-child)::after {content: \"\\00b7\"; padding: 0 .5ex}\n",
       "</style>\n",
       "<ol class=list-inline><li>3163</li><li>18</li></ol>\n"
      ],
      "text/latex": [
       "\\begin{enumerate*}\n",
       "\\item 3163\n",
       "\\item 18\n",
       "\\end{enumerate*}\n"
      ],
      "text/markdown": [
       "1. 3163\n",
       "2. 18\n",
       "\n",
       "\n"
      ],
      "text/plain": [
       "[1] 3163   18"
      ]
     },
     "metadata": {},
     "output_type": "display_data"
    },
    {
     "data": {
      "text/html": [
       "<table>\n",
       "<caption>A data.frame: 2 × 18</caption>\n",
       "<thead>\n",
       "\t<tr><th></th><th scope=col>ID</th><th scope=col>gene_name</th><th scope=col>logFC</th><th scope=col>AveExpr</th><th scope=col>t</th><th scope=col>P.Value</th><th scope=col>adj.P.Val</th><th scope=col>B</th><th scope=col>GeneID</th><th scope=col>geneSymbol</th><th scope=col>chr</th><th scope=col>strand</th><th scope=col>exonStart_0base</th><th scope=col>exonEnd</th><th scope=col>upstreamES</th><th scope=col>upstreamEE</th><th scope=col>downstreamES</th><th scope=col>downstreamEE</th></tr>\n",
       "\t<tr><th></th><th scope=col>&lt;chr&gt;</th><th scope=col>&lt;chr&gt;</th><th scope=col>&lt;dbl&gt;</th><th scope=col>&lt;dbl&gt;</th><th scope=col>&lt;dbl&gt;</th><th scope=col>&lt;dbl&gt;</th><th scope=col>&lt;dbl&gt;</th><th scope=col>&lt;dbl&gt;</th><th scope=col>&lt;fct&gt;</th><th scope=col>&lt;fct&gt;</th><th scope=col>&lt;fct&gt;</th><th scope=col>&lt;fct&gt;</th><th scope=col>&lt;int&gt;</th><th scope=col>&lt;int&gt;</th><th scope=col>&lt;int&gt;</th><th scope=col>&lt;int&gt;</th><th scope=col>&lt;int&gt;</th><th scope=col>&lt;int&gt;</th></tr>\n",
       "</thead>\n",
       "<tbody>\n",
       "\t<tr><th scope=row>1</th><td>10012</td><td>RBM4B</td><td> 0.8450169</td><td>1.183428</td><td> 6.352709</td><td>6.335981e-10</td><td>4.076604e-08</td><td>12.144677</td><td>ENSG00000173914.12</td><td>RBM4B</td><td>chr11</td><td>-</td><td>66670935</td><td>66670983</td><td>66668970</td><td>66669291</td><td>66676667</td><td>66677091</td></tr>\n",
       "\t<tr><th scope=row>2</th><td>10013</td><td>RBM4B</td><td>-0.7621263</td><td>1.752806</td><td>-4.689350</td><td>3.885523e-06</td><td>9.641124e-05</td><td> 3.795546</td><td>ENSG00000173914.12</td><td>RBM4B</td><td>chr11</td><td>-</td><td>66668614</td><td>66669291</td><td>66664997</td><td>66665578</td><td>66676667</td><td>66677091</td></tr>\n",
       "</tbody>\n",
       "</table>\n"
      ],
      "text/latex": [
       "A data.frame: 2 × 18\n",
       "\\begin{tabular}{r|llllllllllllllllll}\n",
       "  & ID & gene\\_name & logFC & AveExpr & t & P.Value & adj.P.Val & B & GeneID & geneSymbol & chr & strand & exonStart\\_0base & exonEnd & upstreamES & upstreamEE & downstreamES & downstreamEE\\\\\n",
       "  & <chr> & <chr> & <dbl> & <dbl> & <dbl> & <dbl> & <dbl> & <dbl> & <fct> & <fct> & <fct> & <fct> & <int> & <int> & <int> & <int> & <int> & <int>\\\\\n",
       "\\hline\n",
       "\t1 & 10012 & RBM4B &  0.8450169 & 1.183428 &  6.352709 & 6.335981e-10 & 4.076604e-08 & 12.144677 & ENSG00000173914.12 & RBM4B & chr11 & - & 66670935 & 66670983 & 66668970 & 66669291 & 66676667 & 66677091\\\\\n",
       "\t2 & 10013 & RBM4B & -0.7621263 & 1.752806 & -4.689350 & 3.885523e-06 & 9.641124e-05 &  3.795546 & ENSG00000173914.12 & RBM4B & chr11 & - & 66668614 & 66669291 & 66664997 & 66665578 & 66676667 & 66677091\\\\\n",
       "\\end{tabular}\n"
      ],
      "text/markdown": [
       "\n",
       "A data.frame: 2 × 18\n",
       "\n",
       "| <!--/--> | ID &lt;chr&gt; | gene_name &lt;chr&gt; | logFC &lt;dbl&gt; | AveExpr &lt;dbl&gt; | t &lt;dbl&gt; | P.Value &lt;dbl&gt; | adj.P.Val &lt;dbl&gt; | B &lt;dbl&gt; | GeneID &lt;fct&gt; | geneSymbol &lt;fct&gt; | chr &lt;fct&gt; | strand &lt;fct&gt; | exonStart_0base &lt;int&gt; | exonEnd &lt;int&gt; | upstreamES &lt;int&gt; | upstreamEE &lt;int&gt; | downstreamES &lt;int&gt; | downstreamEE &lt;int&gt; |\n",
       "|---|---|---|---|---|---|---|---|---|---|---|---|---|---|---|---|---|---|---|\n",
       "| 1 | 10012 | RBM4B |  0.8450169 | 1.183428 |  6.352709 | 6.335981e-10 | 4.076604e-08 | 12.144677 | ENSG00000173914.12 | RBM4B | chr11 | - | 66670935 | 66670983 | 66668970 | 66669291 | 66676667 | 66677091 |\n",
       "| 2 | 10013 | RBM4B | -0.7621263 | 1.752806 | -4.689350 | 3.885523e-06 | 9.641124e-05 |  3.795546 | ENSG00000173914.12 | RBM4B | chr11 | - | 66668614 | 66669291 | 66664997 | 66665578 | 66676667 | 66677091 |\n",
       "\n"
      ],
      "text/plain": [
       "  ID    gene_name logFC      AveExpr  t         P.Value      adj.P.Val   \n",
       "1 10012 RBM4B      0.8450169 1.183428  6.352709 6.335981e-10 4.076604e-08\n",
       "2 10013 RBM4B     -0.7621263 1.752806 -4.689350 3.885523e-06 9.641124e-05\n",
       "  B         GeneID             geneSymbol chr   strand exonStart_0base exonEnd \n",
       "1 12.144677 ENSG00000173914.12 RBM4B      chr11 -      66670935        66670983\n",
       "2  3.795546 ENSG00000173914.12 RBM4B      chr11 -      66668614        66669291\n",
       "  upstreamES upstreamEE downstreamES downstreamEE\n",
       "1 66668970   66669291   66676667     66677091    \n",
       "2 66664997   66665578   66676667     66677091    "
      ]
     },
     "metadata": {},
     "output_type": "display_data"
    }
   ],
   "source": [
    "dim(merged.table)\n",
    "head(merged.table, 2)"
   ]
  },
  {
   "cell_type": "code",
   "execution_count": 27,
   "metadata": {},
   "outputs": [
    {
     "data": {
      "text/html": [
       "<style>\n",
       ".list-inline {list-style: none; margin:0; padding: 0}\n",
       ".list-inline>li {display: inline-block}\n",
       ".list-inline>li:not(:last-child)::after {content: \"\\00b7\"; padding: 0 .5ex}\n",
       "</style>\n",
       "<ol class=list-inline><li>351</li><li>6</li></ol>\n"
      ],
      "text/latex": [
       "\\begin{enumerate*}\n",
       "\\item 351\n",
       "\\item 6\n",
       "\\end{enumerate*}\n"
      ],
      "text/markdown": [
       "1. 351\n",
       "2. 6\n",
       "\n",
       "\n"
      ],
      "text/plain": [
       "[1] 351   6"
      ]
     },
     "metadata": {},
     "output_type": "display_data"
    },
    {
     "data": {
      "text/html": [
       "<table>\n",
       "<caption>A data.frame: 1 × 6</caption>\n",
       "<thead>\n",
       "\t<tr><th></th><th scope=col>Gene</th><th scope=col>uprot.id</th><th scope=col>gene.id</th><th scope=col>S</th><th scope=col>R</th><th scope=col>omim</th></tr>\n",
       "\t<tr><th></th><th scope=col>&lt;fct&gt;</th><th scope=col>&lt;fct&gt;</th><th scope=col>&lt;int&gt;</th><th scope=col>&lt;lgl&gt;</th><th scope=col>&lt;lgl&gt;</th><th scope=col>&lt;fct&gt;</th></tr>\n",
       "</thead>\n",
       "<tbody>\n",
       "\t<tr><th scope=row>1</th><td>AAR2</td><td>Q9Y312</td><td>25980</td><td>TRUE</td><td>FALSE</td><td>n/a</td></tr>\n",
       "</tbody>\n",
       "</table>\n"
      ],
      "text/latex": [
       "A data.frame: 1 × 6\n",
       "\\begin{tabular}{r|llllll}\n",
       "  & Gene & uprot.id & gene.id & S & R & omim\\\\\n",
       "  & <fct> & <fct> & <int> & <lgl> & <lgl> & <fct>\\\\\n",
       "\\hline\n",
       "\t1 & AAR2 & Q9Y312 & 25980 & TRUE & FALSE & n/a\\\\\n",
       "\\end{tabular}\n"
      ],
      "text/markdown": [
       "\n",
       "A data.frame: 1 × 6\n",
       "\n",
       "| <!--/--> | Gene &lt;fct&gt; | uprot.id &lt;fct&gt; | gene.id &lt;int&gt; | S &lt;lgl&gt; | R &lt;lgl&gt; | omim &lt;fct&gt; |\n",
       "|---|---|---|---|---|---|---|\n",
       "| 1 | AAR2 | Q9Y312 | 25980 | TRUE | FALSE | n/a |\n",
       "\n"
      ],
      "text/plain": [
       "  Gene uprot.id gene.id S    R     omim\n",
       "1 AAR2 Q9Y312   25980   TRUE FALSE n/a "
      ]
     },
     "metadata": {},
     "output_type": "display_data"
    }
   ],
   "source": [
    "rbp.table    <- read.table(rbp.table.name,sep=\"\\t\",header=TRUE)\n",
    "dim(rbp.table)\n",
    "head(rbp.table, 1)"
   ]
  },
  {
   "cell_type": "markdown",
   "metadata": {},
   "source": [
    "Make sure this command has been executed before `gunzip sbas/data/rmats_final.se.jc.*jc.*` as the files are expected uncompressed.\n"
   ]
  },
  {
   "cell_type": "code",
   "execution_count": 28,
   "metadata": {},
   "outputs": [
    {
     "data": {
      "text/html": [
       "<style>\n",
       ".list-inline {list-style: none; margin:0; padding: 0}\n",
       ".list-inline>li {display: inline-block}\n",
       ".list-inline>li:not(:last-child)::after {content: \"\\00b7\"; padding: 0 .5ex}\n",
       "</style>\n",
       "<ol class=list-inline><li>42611</li><li>8674</li></ol>\n"
      ],
      "text/latex": [
       "\\begin{enumerate*}\n",
       "\\item 42611\n",
       "\\item 8674\n",
       "\\end{enumerate*}\n"
      ],
      "text/markdown": [
       "1. 42611\n",
       "2. 8674\n",
       "\n",
       "\n"
      ],
      "text/plain": [
       "[1] 42611  8674"
      ]
     },
     "metadata": {},
     "output_type": "display_data"
    },
    {
     "data": {
      "text/html": [
       "<table>\n",
       "<caption>A data.frame: 2 × 3</caption>\n",
       "<thead>\n",
       "\t<tr><th></th><th scope=col>ID</th><th scope=col>SRR1068788</th><th scope=col>SRR1068808</th></tr>\n",
       "\t<tr><th></th><th scope=col>&lt;int&gt;</th><th scope=col>&lt;int&gt;</th><th scope=col>&lt;int&gt;</th></tr>\n",
       "</thead>\n",
       "<tbody>\n",
       "\t<tr><th scope=row>1</th><td>1</td><td> 0</td><td>  0</td></tr>\n",
       "\t<tr><th scope=row>2</th><td>2</td><td>26</td><td>247</td></tr>\n",
       "</tbody>\n",
       "</table>\n"
      ],
      "text/latex": [
       "A data.frame: 2 × 3\n",
       "\\begin{tabular}{r|lll}\n",
       "  & ID & SRR1068788 & SRR1068808\\\\\n",
       "  & <int> & <int> & <int>\\\\\n",
       "\\hline\n",
       "\t1 & 1 &  0 &   0\\\\\n",
       "\t2 & 2 & 26 & 247\\\\\n",
       "\\end{tabular}\n"
      ],
      "text/markdown": [
       "\n",
       "A data.frame: 2 × 3\n",
       "\n",
       "| <!--/--> | ID &lt;int&gt; | SRR1068788 &lt;int&gt; | SRR1068808 &lt;int&gt; |\n",
       "|---|---|---|---|\n",
       "| 1 | 1 |  0 |   0 |\n",
       "| 2 | 2 | 26 | 247 |\n",
       "\n"
      ],
      "text/plain": [
       "  ID SRR1068788 SRR1068808\n",
       "1 1   0           0       \n",
       "2 2  26         247       "
      ]
     },
     "metadata": {},
     "output_type": "display_data"
    }
   ],
   "source": [
    "inc.counts   <- as.data.frame(data.table::fread(inc.counts.file.name))\n",
    "dim(inc.counts)\n",
    "inc.counts[1:2,1:3]"
   ]
  },
  {
   "cell_type": "code",
   "execution_count": 29,
   "metadata": {},
   "outputs": [
    {
     "data": {
      "text/html": [
       "<style>\n",
       ".list-inline {list-style: none; margin:0; padding: 0}\n",
       ".list-inline>li {display: inline-block}\n",
       ".list-inline>li:not(:last-child)::after {content: \"\\00b7\"; padding: 0 .5ex}\n",
       "</style>\n",
       "<ol class=list-inline><li>42611</li><li>8674</li></ol>\n"
      ],
      "text/latex": [
       "\\begin{enumerate*}\n",
       "\\item 42611\n",
       "\\item 8674\n",
       "\\end{enumerate*}\n"
      ],
      "text/markdown": [
       "1. 42611\n",
       "2. 8674\n",
       "\n",
       "\n"
      ],
      "text/plain": [
       "[1] 42611  8674"
      ]
     },
     "metadata": {},
     "output_type": "display_data"
    },
    {
     "data": {
      "text/html": [
       "<table>\n",
       "<caption>A data.frame: 2 × 3</caption>\n",
       "<thead>\n",
       "\t<tr><th></th><th scope=col>ID</th><th scope=col>SRR1068788</th><th scope=col>SRR1068808</th></tr>\n",
       "\t<tr><th></th><th scope=col>&lt;int&gt;</th><th scope=col>&lt;int&gt;</th><th scope=col>&lt;int&gt;</th></tr>\n",
       "</thead>\n",
       "<tbody>\n",
       "\t<tr><th scope=row>1</th><td>1</td><td>2</td><td>0</td></tr>\n",
       "\t<tr><th scope=row>2</th><td>2</td><td>0</td><td>0</td></tr>\n",
       "</tbody>\n",
       "</table>\n"
      ],
      "text/latex": [
       "A data.frame: 2 × 3\n",
       "\\begin{tabular}{r|lll}\n",
       "  & ID & SRR1068788 & SRR1068808\\\\\n",
       "  & <int> & <int> & <int>\\\\\n",
       "\\hline\n",
       "\t1 & 1 & 2 & 0\\\\\n",
       "\t2 & 2 & 0 & 0\\\\\n",
       "\\end{tabular}\n"
      ],
      "text/markdown": [
       "\n",
       "A data.frame: 2 × 3\n",
       "\n",
       "| <!--/--> | ID &lt;int&gt; | SRR1068788 &lt;int&gt; | SRR1068808 &lt;int&gt; |\n",
       "|---|---|---|---|\n",
       "| 1 | 1 | 2 | 0 |\n",
       "| 2 | 2 | 0 | 0 |\n",
       "\n"
      ],
      "text/plain": [
       "  ID SRR1068788 SRR1068808\n",
       "1 1  2          0         \n",
       "2 2  0          0         "
      ]
     },
     "metadata": {},
     "output_type": "display_data"
    }
   ],
   "source": [
    "skip.counts  <- as.data.frame(data.table::fread(skip.counts.file.name))\n",
    "dim(skip.counts)\n",
    "skip.counts[1:2,1:3]"
   ]
  },
  {
   "cell_type": "markdown",
   "metadata": {},
   "source": [
    "## Check `dim()` of loaded objects"
   ]
  },
  {
   "cell_type": "code",
   "execution_count": 30,
   "metadata": {},
   "outputs": [
    {
     "data": {
      "text/html": [
       "<style>\n",
       ".list-inline {list-style: none; margin:0; padding: 0}\n",
       ".list-inline>li {display: inline-block}\n",
       ".list-inline>li:not(:last-child)::after {content: \"\\00b7\"; padding: 0 .5ex}\n",
       "</style>\n",
       "<ol class=list-inline><li>3163</li><li>8</li></ol>\n"
      ],
      "text/latex": [
       "\\begin{enumerate*}\n",
       "\\item 3163\n",
       "\\item 8\n",
       "\\end{enumerate*}\n"
      ],
      "text/markdown": [
       "1. 3163\n",
       "2. 8\n",
       "\n",
       "\n"
      ],
      "text/plain": [
       "[1] 3163    8"
      ]
     },
     "metadata": {},
     "output_type": "display_data"
    },
    {
     "data": {
      "text/html": [
       "<style>\n",
       ".list-inline {list-style: none; margin:0; padding: 0}\n",
       ".list-inline>li {display: inline-block}\n",
       ".list-inline>li:not(:last-child)::after {content: \"\\00b7\"; padding: 0 .5ex}\n",
       "</style>\n",
       "<ol class=list-inline><li>42611</li><li>11</li></ol>\n"
      ],
      "text/latex": [
       "\\begin{enumerate*}\n",
       "\\item 42611\n",
       "\\item 11\n",
       "\\end{enumerate*}\n"
      ],
      "text/markdown": [
       "1. 42611\n",
       "2. 11\n",
       "\n",
       "\n"
      ],
      "text/plain": [
       "[1] 42611    11"
      ]
     },
     "metadata": {},
     "output_type": "display_data"
    },
    {
     "data": {
      "text/html": [
       "<style>\n",
       ".list-inline {list-style: none; margin:0; padding: 0}\n",
       ".list-inline>li {display: inline-block}\n",
       ".list-inline>li:not(:last-child)::after {content: \"\\00b7\"; padding: 0 .5ex}\n",
       "</style>\n",
       "<ol class=list-inline><li>3163</li><li>18</li></ol>\n"
      ],
      "text/latex": [
       "\\begin{enumerate*}\n",
       "\\item 3163\n",
       "\\item 18\n",
       "\\end{enumerate*}\n"
      ],
      "text/markdown": [
       "1. 3163\n",
       "2. 18\n",
       "\n",
       "\n"
      ],
      "text/plain": [
       "[1] 3163   18"
      ]
     },
     "metadata": {},
     "output_type": "display_data"
    },
    {
     "data": {
      "text/html": [
       "<style>\n",
       ".list-inline {list-style: none; margin:0; padding: 0}\n",
       ".list-inline>li {display: inline-block}\n",
       ".list-inline>li:not(:last-child)::after {content: \"\\00b7\"; padding: 0 .5ex}\n",
       "</style>\n",
       "<ol class=list-inline><li>351</li><li>6</li></ol>\n"
      ],
      "text/latex": [
       "\\begin{enumerate*}\n",
       "\\item 351\n",
       "\\item 6\n",
       "\\end{enumerate*}\n"
      ],
      "text/markdown": [
       "1. 351\n",
       "2. 6\n",
       "\n",
       "\n"
      ],
      "text/plain": [
       "[1] 351   6"
      ]
     },
     "metadata": {},
     "output_type": "display_data"
    },
    {
     "data": {
      "text/html": [
       "<style>\n",
       ".list-inline {list-style: none; margin:0; padding: 0}\n",
       ".list-inline>li {display: inline-block}\n",
       ".list-inline>li:not(:last-child)::after {content: \"\\00b7\"; padding: 0 .5ex}\n",
       "</style>\n",
       "<ol class=list-inline><li>42611</li><li>8674</li></ol>\n"
      ],
      "text/latex": [
       "\\begin{enumerate*}\n",
       "\\item 42611\n",
       "\\item 8674\n",
       "\\end{enumerate*}\n"
      ],
      "text/markdown": [
       "1. 42611\n",
       "2. 8674\n",
       "\n",
       "\n"
      ],
      "text/plain": [
       "[1] 42611  8674"
      ]
     },
     "metadata": {},
     "output_type": "display_data"
    },
    {
     "data": {
      "text/html": [
       "<style>\n",
       ".list-inline {list-style: none; margin:0; padding: 0}\n",
       ".list-inline>li {display: inline-block}\n",
       ".list-inline>li:not(:last-child)::after {content: \"\\00b7\"; padding: 0 .5ex}\n",
       "</style>\n",
       "<ol class=list-inline><li>42611</li><li>8674</li></ol>\n"
      ],
      "text/latex": [
       "\\begin{enumerate*}\n",
       "\\item 42611\n",
       "\\item 8674\n",
       "\\end{enumerate*}\n"
      ],
      "text/markdown": [
       "1. 42611\n",
       "2. 8674\n",
       "\n",
       "\n"
      ],
      "text/plain": [
       "[1] 42611  8674"
      ]
     },
     "metadata": {},
     "output_type": "display_data"
    }
   ],
   "source": [
    "dim(events.table)\n",
    "dim(annot.table)\n",
    "dim(merged.table)\n",
    "dim(rbp.table)\n",
    "dim(inc.counts)\n",
    "dim(skip.counts)"
   ]
  },
  {
   "cell_type": "markdown",
   "metadata": {},
   "source": [
    "## Read sample info"
   ]
  },
  {
   "cell_type": "markdown",
   "metadata": {},
   "source": [
    "Make sure you have unzipped the file first by typing:\n",
    "\n",
    "```bash\n",
    " gunzip sbas/data/SraRunTable.txt.gz \n",
    "```\n",
    "\n",
    "as the file is expected to be uncompressed"
   ]
  },
  {
   "cell_type": "code",
   "execution_count": 31,
   "metadata": {},
   "outputs": [
    {
     "data": {
      "text/html": [
       "'../data/SraRunTable.txt'"
      ],
      "text/latex": [
       "'../data/SraRunTable.txt'"
      ],
      "text/markdown": [
       "'../data/SraRunTable.txt'"
      ],
      "text/plain": [
       "[1] \"../data/SraRunTable.txt\""
      ]
     },
     "metadata": {},
     "output_type": "display_data"
    },
    {
     "data": {
      "text/html": [
       "TRUE"
      ],
      "text/latex": [
       "TRUE"
      ],
      "text/markdown": [
       "TRUE"
      ],
      "text/plain": [
       "[1] TRUE"
      ]
     },
     "metadata": {},
     "output_type": "display_data"
    },
    {
     "data": {
      "text/html": [
       "'-rw-r--r-- 1 jovyan users 16768568 Jun 17 11:58 ../data/SraRunTable.txt'"
      ],
      "text/latex": [
       "'-rw-r--r-- 1 jovyan users 16768568 Jun 17 11:58 ../data/SraRunTable.txt'"
      ],
      "text/markdown": [
       "'-rw-r--r-- 1 jovyan users 16768568 Jun 17 11:58 ../data/SraRunTable.txt'"
      ],
      "text/plain": [
       "[1] \"-rw-r--r-- 1 jovyan users 16768568 Jun 17 11:58 ../data/SraRunTable.txt\""
      ]
     },
     "metadata": {},
     "output_type": "display_data"
    }
   ],
   "source": [
    "metadata.file.name\n",
    "file.exists(metadata.file.name)\n",
    "system(paste0(\"ls -l\", \" ../data/Sra*\"), intern = TRUE)"
   ]
  },
  {
   "cell_type": "code",
   "execution_count": 32,
   "metadata": {},
   "outputs": [
    {
     "data": {
      "text/html": [
       "<style>\n",
       ".list-inline {list-style: none; margin:0; padding: 0}\n",
       ".list-inline>li {display: inline-block}\n",
       ".list-inline>li:not(:last-child)::after {content: \"\\00b7\"; padding: 0 .5ex}\n",
       "</style>\n",
       "<ol class=list-inline><li>24667</li><li>79</li></ol>\n"
      ],
      "text/latex": [
       "\\begin{enumerate*}\n",
       "\\item 24667\n",
       "\\item 79\n",
       "\\end{enumerate*}\n"
      ],
      "text/markdown": [
       "1. 24667\n",
       "2. 79\n",
       "\n",
       "\n"
      ],
      "text/plain": [
       "[1] 24667    79"
      ]
     },
     "metadata": {},
     "output_type": "display_data"
    },
    {
     "data": {
      "text/html": [
       "<table>\n",
       "<caption>A data.frame: 1 × 79</caption>\n",
       "<thead>\n",
       "\t<tr><th></th><th scope=col>Run</th><th scope=col>analyte_type</th><th scope=col>Assay.Type</th><th scope=col>AvgSpotLen</th><th scope=col>Bases</th><th scope=col>BioProject</th><th scope=col>BioSample</th><th scope=col>biospecimen_repository</th><th scope=col>biospecimen_repository_sample_id</th><th scope=col>body_site</th><th scope=col>⋯</th><th scope=col>data_type..run.</th><th scope=col>product_part_number..exp.</th><th scope=col>product_part_number..run.</th><th scope=col>sample_barcode..exp.</th><th scope=col>sample_barcode..run.</th><th scope=col>is_technical_control</th><th scope=col>target_set..exp.</th><th scope=col>primary_disease..exp.</th><th scope=col>secondary_accessions..run.</th><th scope=col>Alignment_Provider..run.</th></tr>\n",
       "\t<tr><th></th><th scope=col>&lt;fct&gt;</th><th scope=col>&lt;fct&gt;</th><th scope=col>&lt;fct&gt;</th><th scope=col>&lt;int&gt;</th><th scope=col>&lt;dbl&gt;</th><th scope=col>&lt;fct&gt;</th><th scope=col>&lt;fct&gt;</th><th scope=col>&lt;fct&gt;</th><th scope=col>&lt;fct&gt;</th><th scope=col>&lt;fct&gt;</th><th scope=col>⋯</th><th scope=col>&lt;fct&gt;</th><th scope=col>&lt;fct&gt;</th><th scope=col>&lt;fct&gt;</th><th scope=col>&lt;dbl&gt;</th><th scope=col>&lt;dbl&gt;</th><th scope=col>&lt;fct&gt;</th><th scope=col>&lt;fct&gt;</th><th scope=col>&lt;fct&gt;</th><th scope=col>&lt;fct&gt;</th><th scope=col>&lt;fct&gt;</th></tr>\n",
       "</thead>\n",
       "<tbody>\n",
       "\t<tr><th scope=row>1</th><td>SRR3136805</td><td>DNA</td><td>WGS</td><td>302</td><td>116341565242</td><td>PRJNA244100</td><td>SAMN02649364</td><td>Cloud Testing</td><td>NA12878</td><td>Peripheral blood</td><td>⋯</td><td></td><td></td><td></td><td>NA</td><td>NA</td><td></td><td></td><td></td><td></td><td>IRC Harmonized</td></tr>\n",
       "</tbody>\n",
       "</table>\n"
      ],
      "text/latex": [
       "A data.frame: 1 × 79\n",
       "\\begin{tabular}{r|lllllllllllllllllllll}\n",
       "  & Run & analyte\\_type & Assay.Type & AvgSpotLen & Bases & BioProject & BioSample & biospecimen\\_repository & biospecimen\\_repository\\_sample\\_id & body\\_site & ⋯ & data\\_type..run. & product\\_part\\_number..exp. & product\\_part\\_number..run. & sample\\_barcode..exp. & sample\\_barcode..run. & is\\_technical\\_control & target\\_set..exp. & primary\\_disease..exp. & secondary\\_accessions..run. & Alignment\\_Provider..run.\\\\\n",
       "  & <fct> & <fct> & <fct> & <int> & <dbl> & <fct> & <fct> & <fct> & <fct> & <fct> & ⋯ & <fct> & <fct> & <fct> & <dbl> & <dbl> & <fct> & <fct> & <fct> & <fct> & <fct>\\\\\n",
       "\\hline\n",
       "\t1 & SRR3136805 & DNA & WGS & 302 & 116341565242 & PRJNA244100 & SAMN02649364 & Cloud Testing & NA12878 & Peripheral blood & ⋯ &  &  &  & NA & NA &  &  &  &  & IRC Harmonized\\\\\n",
       "\\end{tabular}\n"
      ],
      "text/markdown": [
       "\n",
       "A data.frame: 1 × 79\n",
       "\n",
       "| <!--/--> | Run &lt;fct&gt; | analyte_type &lt;fct&gt; | Assay.Type &lt;fct&gt; | AvgSpotLen &lt;int&gt; | Bases &lt;dbl&gt; | BioProject &lt;fct&gt; | BioSample &lt;fct&gt; | biospecimen_repository &lt;fct&gt; | biospecimen_repository_sample_id &lt;fct&gt; | body_site &lt;fct&gt; | ⋯ ⋯ | data_type..run. &lt;fct&gt; | product_part_number..exp. &lt;fct&gt; | product_part_number..run. &lt;fct&gt; | sample_barcode..exp. &lt;dbl&gt; | sample_barcode..run. &lt;dbl&gt; | is_technical_control &lt;fct&gt; | target_set..exp. &lt;fct&gt; | primary_disease..exp. &lt;fct&gt; | secondary_accessions..run. &lt;fct&gt; | Alignment_Provider..run. &lt;fct&gt; |\n",
       "|---|---|---|---|---|---|---|---|---|---|---|---|---|---|---|---|---|---|---|---|---|---|\n",
       "| 1 | SRR3136805 | DNA | WGS | 302 | 116341565242 | PRJNA244100 | SAMN02649364 | Cloud Testing | NA12878 | Peripheral blood | ⋯ | <!----> | <!----> | <!----> | NA | NA | <!----> | <!----> | <!----> | <!----> | IRC Harmonized |\n",
       "\n"
      ],
      "text/plain": [
       "  Run        analyte_type Assay.Type AvgSpotLen Bases        BioProject \n",
       "1 SRR3136805 DNA          WGS        302        116341565242 PRJNA244100\n",
       "  BioSample    biospecimen_repository biospecimen_repository_sample_id\n",
       "1 SAMN02649364 Cloud Testing          NA12878                         \n",
       "  body_site        ⋯ data_type..run. product_part_number..exp.\n",
       "1 Peripheral blood ⋯                                          \n",
       "  product_part_number..run. sample_barcode..exp. sample_barcode..run.\n",
       "1                           NA                   NA                  \n",
       "  is_technical_control target_set..exp. primary_disease..exp.\n",
       "1                                                            \n",
       "  secondary_accessions..run. Alignment_Provider..run.\n",
       "1                            IRC Harmonized          "
      ]
     },
     "metadata": {},
     "output_type": "display_data"
    }
   ],
   "source": [
    "meta.data    <- read.csv(metadata.file.name,header=TRUE)\n",
    "dim(meta.data)\n",
    "head(meta.data, 1)"
   ]
  },
  {
   "cell_type": "code",
   "execution_count": 33,
   "metadata": {},
   "outputs": [
    {
     "data": {
      "text/html": [
       "<style>\n",
       ".list-inline {list-style: none; margin:0; padding: 0}\n",
       ".list-inline>li {display: inline-block}\n",
       ".list-inline>li:not(:last-child)::after {content: \"\\00b7\"; padding: 0 .5ex}\n",
       "</style>\n",
       "<ol class=list-inline><li>Peripheral blood</li><li>Peripheral blood</li><li>Peripheral blood</li></ol>\n",
       "\n",
       "<details>\n",
       "\t<summary style=display:list-item;cursor:pointer>\n",
       "\t\t<strong>Levels</strong>:\n",
       "\t</summary>\n",
       "\t<style>\n",
       "\t.list-inline {list-style: none; margin:0; padding: 0}\n",
       "\t.list-inline>li {display: inline-block}\n",
       "\t.list-inline>li:not(:last-child)::after {content: \"\\00b7\"; padding: 0 .5ex}\n",
       "\t</style>\n",
       "\t<ol class=list-inline><li>'Adipose - Subcutaneous'</li><li>'Adipose - Visceral (Omentum)'</li><li>'Adrenal Gland'</li><li>'Artery - Aorta'</li><li>'Artery - Coronary'</li><li>'Artery - Tibial'</li><li>'Bladder'</li><li>'Brain - Amygdala'</li><li>'Brain - Anterior cingulate cortex (BA24)'</li><li>'Brain - Caudate (basal ganglia)'</li><li>'Brain - Cerebellar Hemisphere'</li><li>'Brain - Cerebellum'</li><li>'Brain - Cortex'</li><li>'Brain - Frontal Cortex (BA9)'</li><li>'Brain - Hippocampus'</li><li>'Brain - Hypothalamus'</li><li>'Brain - Nucleus accumbens (basal ganglia)'</li><li>'Brain - Putamen (basal ganglia)'</li><li>'Brain - Spinal cord (cervical c-1)'</li><li>'Brain - Substantia nigra'</li><li>'Breast - Mammary Tissue'</li><li>'Cells - Cultured fibroblasts'</li><li>'Cells - EBV-transformed lymphocytes'</li><li>'Cells - Leukemia cell line (CML)'</li><li>'Cervix - Ectocervix'</li><li>'Cervix - Endocervix'</li><li>'Colon - Sigmoid'</li><li>'Colon - Transverse'</li><li>'Esophagus - Gastroesophageal Junction'</li><li>'Esophagus - Mucosa'</li><li>'Esophagus - Muscularis'</li><li>'Fallopian Tube'</li><li>'Heart - Atrial Appendage'</li><li>'Heart - Left Ventricle'</li><li>'Kidney - Cortex'</li><li>'Liver'</li><li>'Lung'</li><li>'Lymphoblastoid cell line'</li><li>'Minor Salivary Gland'</li><li>'Muscle - Skeletal'</li><li>'Nerve - Tibial'</li><li>'Ovary'</li><li>'Pancreas'</li><li>'Peripheral blood'</li><li>'Pituitary'</li><li>'Prostate'</li><li>'Skin - Not Sun Exposed (Suprapubic)'</li><li>'Skin - Sun Exposed (Lower leg)'</li><li>'Small Intestine - Terminal Ileum'</li><li>'Spleen'</li><li>'Stomach'</li><li>'Testis'</li><li>'Thyroid'</li><li>'Uterus'</li><li>'Vagina'</li><li>'Whole Blood'</li></ol>\n",
       "</details>"
      ],
      "text/latex": [
       "\\begin{enumerate*}\n",
       "\\item Peripheral blood\n",
       "\\item Peripheral blood\n",
       "\\item Peripheral blood\n",
       "\\end{enumerate*}\n",
       "\n",
       "\\emph{Levels}: \\begin{enumerate*}\n",
       "\\item 'Adipose - Subcutaneous'\n",
       "\\item 'Adipose - Visceral (Omentum)'\n",
       "\\item 'Adrenal Gland'\n",
       "\\item 'Artery - Aorta'\n",
       "\\item 'Artery - Coronary'\n",
       "\\item 'Artery - Tibial'\n",
       "\\item 'Bladder'\n",
       "\\item 'Brain - Amygdala'\n",
       "\\item 'Brain - Anterior cingulate cortex (BA24)'\n",
       "\\item 'Brain - Caudate (basal ganglia)'\n",
       "\\item 'Brain - Cerebellar Hemisphere'\n",
       "\\item 'Brain - Cerebellum'\n",
       "\\item 'Brain - Cortex'\n",
       "\\item 'Brain - Frontal Cortex (BA9)'\n",
       "\\item 'Brain - Hippocampus'\n",
       "\\item 'Brain - Hypothalamus'\n",
       "\\item 'Brain - Nucleus accumbens (basal ganglia)'\n",
       "\\item 'Brain - Putamen (basal ganglia)'\n",
       "\\item 'Brain - Spinal cord (cervical c-1)'\n",
       "\\item 'Brain - Substantia nigra'\n",
       "\\item 'Breast - Mammary Tissue'\n",
       "\\item 'Cells - Cultured fibroblasts'\n",
       "\\item 'Cells - EBV-transformed lymphocytes'\n",
       "\\item 'Cells - Leukemia cell line (CML)'\n",
       "\\item 'Cervix - Ectocervix'\n",
       "\\item 'Cervix - Endocervix'\n",
       "\\item 'Colon - Sigmoid'\n",
       "\\item 'Colon - Transverse'\n",
       "\\item 'Esophagus - Gastroesophageal Junction'\n",
       "\\item 'Esophagus - Mucosa'\n",
       "\\item 'Esophagus - Muscularis'\n",
       "\\item 'Fallopian Tube'\n",
       "\\item 'Heart - Atrial Appendage'\n",
       "\\item 'Heart - Left Ventricle'\n",
       "\\item 'Kidney - Cortex'\n",
       "\\item 'Liver'\n",
       "\\item 'Lung'\n",
       "\\item 'Lymphoblastoid cell line'\n",
       "\\item 'Minor Salivary Gland'\n",
       "\\item 'Muscle - Skeletal'\n",
       "\\item 'Nerve - Tibial'\n",
       "\\item 'Ovary'\n",
       "\\item 'Pancreas'\n",
       "\\item 'Peripheral blood'\n",
       "\\item 'Pituitary'\n",
       "\\item 'Prostate'\n",
       "\\item 'Skin - Not Sun Exposed (Suprapubic)'\n",
       "\\item 'Skin - Sun Exposed (Lower leg)'\n",
       "\\item 'Small Intestine - Terminal Ileum'\n",
       "\\item 'Spleen'\n",
       "\\item 'Stomach'\n",
       "\\item 'Testis'\n",
       "\\item 'Thyroid'\n",
       "\\item 'Uterus'\n",
       "\\item 'Vagina'\n",
       "\\item 'Whole Blood'\n",
       "\\end{enumerate*}\n"
      ],
      "text/markdown": [
       "1. Peripheral blood\n",
       "2. Peripheral blood\n",
       "3. Peripheral blood\n",
       "\n",
       "\n",
       "\n",
       "**Levels**: 1. 'Adipose - Subcutaneous'\n",
       "2. 'Adipose - Visceral (Omentum)'\n",
       "3. 'Adrenal Gland'\n",
       "4. 'Artery - Aorta'\n",
       "5. 'Artery - Coronary'\n",
       "6. 'Artery - Tibial'\n",
       "7. 'Bladder'\n",
       "8. 'Brain - Amygdala'\n",
       "9. 'Brain - Anterior cingulate cortex (BA24)'\n",
       "10. 'Brain - Caudate (basal ganglia)'\n",
       "11. 'Brain - Cerebellar Hemisphere'\n",
       "12. 'Brain - Cerebellum'\n",
       "13. 'Brain - Cortex'\n",
       "14. 'Brain - Frontal Cortex (BA9)'\n",
       "15. 'Brain - Hippocampus'\n",
       "16. 'Brain - Hypothalamus'\n",
       "17. 'Brain - Nucleus accumbens (basal ganglia)'\n",
       "18. 'Brain - Putamen (basal ganglia)'\n",
       "19. 'Brain - Spinal cord (cervical c-1)'\n",
       "20. 'Brain - Substantia nigra'\n",
       "21. 'Breast - Mammary Tissue'\n",
       "22. 'Cells - Cultured fibroblasts'\n",
       "23. 'Cells - EBV-transformed lymphocytes'\n",
       "24. 'Cells - Leukemia cell line (CML)'\n",
       "25. 'Cervix - Ectocervix'\n",
       "26. 'Cervix - Endocervix'\n",
       "27. 'Colon - Sigmoid'\n",
       "28. 'Colon - Transverse'\n",
       "29. 'Esophagus - Gastroesophageal Junction'\n",
       "30. 'Esophagus - Mucosa'\n",
       "31. 'Esophagus - Muscularis'\n",
       "32. 'Fallopian Tube'\n",
       "33. 'Heart - Atrial Appendage'\n",
       "34. 'Heart - Left Ventricle'\n",
       "35. 'Kidney - Cortex'\n",
       "36. 'Liver'\n",
       "37. 'Lung'\n",
       "38. 'Lymphoblastoid cell line'\n",
       "39. 'Minor Salivary Gland'\n",
       "40. 'Muscle - Skeletal'\n",
       "41. 'Nerve - Tibial'\n",
       "42. 'Ovary'\n",
       "43. 'Pancreas'\n",
       "44. 'Peripheral blood'\n",
       "45. 'Pituitary'\n",
       "46. 'Prostate'\n",
       "47. 'Skin - Not Sun Exposed (Suprapubic)'\n",
       "48. 'Skin - Sun Exposed (Lower leg)'\n",
       "49. 'Small Intestine - Terminal Ileum'\n",
       "50. 'Spleen'\n",
       "51. 'Stomach'\n",
       "52. 'Testis'\n",
       "53. 'Thyroid'\n",
       "54. 'Uterus'\n",
       "55. 'Vagina'\n",
       "56. 'Whole Blood'\n",
       "\n",
       "\n"
      ],
      "text/plain": [
       "[1] Peripheral blood Peripheral blood Peripheral blood\n",
       "56 Levels: Adipose - Subcutaneous ... Whole Blood"
      ]
     },
     "metadata": {},
     "output_type": "display_data"
    }
   ],
   "source": [
    "meta.data$body_site[1:3]"
   ]
  },
  {
   "cell_type": "code",
   "execution_count": 34,
   "metadata": {},
   "outputs": [],
   "source": [
    "meta.data[[\"body_site\"]] <- as.character(meta.data[[\"body_site\"]])"
   ]
  },
  {
   "cell_type": "code",
   "execution_count": 35,
   "metadata": {},
   "outputs": [
    {
     "data": {
      "text/html": [
       "<style>\n",
       ".list-inline {list-style: none; margin:0; padding: 0}\n",
       ".list-inline>li {display: inline-block}\n",
       ".list-inline>li:not(:last-child)::after {content: \"\\00b7\"; padding: 0 .5ex}\n",
       "</style>\n",
       "<ol class=list-inline><li>'Peripheral blood'</li><li>'Peripheral blood'</li><li>'Peripheral blood'</li></ol>\n"
      ],
      "text/latex": [
       "\\begin{enumerate*}\n",
       "\\item 'Peripheral blood'\n",
       "\\item 'Peripheral blood'\n",
       "\\item 'Peripheral blood'\n",
       "\\end{enumerate*}\n"
      ],
      "text/markdown": [
       "1. 'Peripheral blood'\n",
       "2. 'Peripheral blood'\n",
       "3. 'Peripheral blood'\n",
       "\n",
       "\n"
      ],
      "text/plain": [
       "[1] \"Peripheral blood\" \"Peripheral blood\" \"Peripheral blood\""
      ]
     },
     "metadata": {},
     "output_type": "display_data"
    }
   ],
   "source": [
    "meta.data$body_site[1:3]"
   ]
  },
  {
   "cell_type": "code",
   "execution_count": 36,
   "metadata": {},
   "outputs": [],
   "source": [
    "meta.data <- meta.data[ snakecase::to_snake_case(meta.data$body_site) == tissue,]"
   ]
  },
  {
   "cell_type": "code",
   "execution_count": 37,
   "metadata": {},
   "outputs": [
    {
     "data": {
      "text/html": [
       "'breast_mammary_tissue'"
      ],
      "text/latex": [
       "'breast\\_mammary\\_tissue'"
      ],
      "text/markdown": [
       "'breast_mammary_tissue'"
      ],
      "text/plain": [
       "[1] \"breast_mammary_tissue\""
      ]
     },
     "metadata": {},
     "output_type": "display_data"
    },
    {
     "data": {
      "text/html": [
       "<style>\n",
       ".list-inline {list-style: none; margin:0; padding: 0}\n",
       ".list-inline>li {display: inline-block}\n",
       ".list-inline>li:not(:last-child)::after {content: \"\\00b7\"; padding: 0 .5ex}\n",
       "</style>\n",
       "<ol class=list-inline><li>526</li><li>79</li></ol>\n"
      ],
      "text/latex": [
       "\\begin{enumerate*}\n",
       "\\item 526\n",
       "\\item 79\n",
       "\\end{enumerate*}\n"
      ],
      "text/markdown": [
       "1. 526\n",
       "2. 79\n",
       "\n",
       "\n"
      ],
      "text/plain": [
       "[1] 526  79"
      ]
     },
     "metadata": {},
     "output_type": "display_data"
    },
    {
     "data": {
      "text/html": [
       "<table>\n",
       "<caption>A data.frame: 1 × 79</caption>\n",
       "<thead>\n",
       "\t<tr><th></th><th scope=col>Run</th><th scope=col>analyte_type</th><th scope=col>Assay.Type</th><th scope=col>AvgSpotLen</th><th scope=col>Bases</th><th scope=col>BioProject</th><th scope=col>BioSample</th><th scope=col>biospecimen_repository</th><th scope=col>biospecimen_repository_sample_id</th><th scope=col>body_site</th><th scope=col>⋯</th><th scope=col>data_type..run.</th><th scope=col>product_part_number..exp.</th><th scope=col>product_part_number..run.</th><th scope=col>sample_barcode..exp.</th><th scope=col>sample_barcode..run.</th><th scope=col>is_technical_control</th><th scope=col>target_set..exp.</th><th scope=col>primary_disease..exp.</th><th scope=col>secondary_accessions..run.</th><th scope=col>Alignment_Provider..run.</th></tr>\n",
       "\t<tr><th></th><th scope=col>&lt;fct&gt;</th><th scope=col>&lt;fct&gt;</th><th scope=col>&lt;fct&gt;</th><th scope=col>&lt;int&gt;</th><th scope=col>&lt;dbl&gt;</th><th scope=col>&lt;fct&gt;</th><th scope=col>&lt;fct&gt;</th><th scope=col>&lt;fct&gt;</th><th scope=col>&lt;fct&gt;</th><th scope=col>&lt;chr&gt;</th><th scope=col>⋯</th><th scope=col>&lt;fct&gt;</th><th scope=col>&lt;fct&gt;</th><th scope=col>&lt;fct&gt;</th><th scope=col>&lt;dbl&gt;</th><th scope=col>&lt;dbl&gt;</th><th scope=col>&lt;fct&gt;</th><th scope=col>&lt;fct&gt;</th><th scope=col>&lt;fct&gt;</th><th scope=col>&lt;fct&gt;</th><th scope=col>&lt;fct&gt;</th></tr>\n",
       "</thead>\n",
       "<tbody>\n",
       "\t<tr><th scope=row>233</th><td>SRR821498</td><td>RNA:Total RNA</td><td>RNA-Seq</td><td>152</td><td>7879119272</td><td>PRJNA75899</td><td>SAMN01994192</td><td>GTEx</td><td>GTEX-WI4N-1426-SM-3LK7H</td><td>Breast - Mammary Tissue</td><td>⋯</td><td></td><td></td><td></td><td>NA</td><td>NA</td><td></td><td></td><td></td><td></td><td></td></tr>\n",
       "</tbody>\n",
       "</table>\n"
      ],
      "text/latex": [
       "A data.frame: 1 × 79\n",
       "\\begin{tabular}{r|lllllllllllllllllllll}\n",
       "  & Run & analyte\\_type & Assay.Type & AvgSpotLen & Bases & BioProject & BioSample & biospecimen\\_repository & biospecimen\\_repository\\_sample\\_id & body\\_site & ⋯ & data\\_type..run. & product\\_part\\_number..exp. & product\\_part\\_number..run. & sample\\_barcode..exp. & sample\\_barcode..run. & is\\_technical\\_control & target\\_set..exp. & primary\\_disease..exp. & secondary\\_accessions..run. & Alignment\\_Provider..run.\\\\\n",
       "  & <fct> & <fct> & <fct> & <int> & <dbl> & <fct> & <fct> & <fct> & <fct> & <chr> & ⋯ & <fct> & <fct> & <fct> & <dbl> & <dbl> & <fct> & <fct> & <fct> & <fct> & <fct>\\\\\n",
       "\\hline\n",
       "\t233 & SRR821498 & RNA:Total RNA & RNA-Seq & 152 & 7879119272 & PRJNA75899 & SAMN01994192 & GTEx & GTEX-WI4N-1426-SM-3LK7H & Breast - Mammary Tissue & ⋯ &  &  &  & NA & NA &  &  &  &  & \\\\\n",
       "\\end{tabular}\n"
      ],
      "text/markdown": [
       "\n",
       "A data.frame: 1 × 79\n",
       "\n",
       "| <!--/--> | Run &lt;fct&gt; | analyte_type &lt;fct&gt; | Assay.Type &lt;fct&gt; | AvgSpotLen &lt;int&gt; | Bases &lt;dbl&gt; | BioProject &lt;fct&gt; | BioSample &lt;fct&gt; | biospecimen_repository &lt;fct&gt; | biospecimen_repository_sample_id &lt;fct&gt; | body_site &lt;chr&gt; | ⋯ ⋯ | data_type..run. &lt;fct&gt; | product_part_number..exp. &lt;fct&gt; | product_part_number..run. &lt;fct&gt; | sample_barcode..exp. &lt;dbl&gt; | sample_barcode..run. &lt;dbl&gt; | is_technical_control &lt;fct&gt; | target_set..exp. &lt;fct&gt; | primary_disease..exp. &lt;fct&gt; | secondary_accessions..run. &lt;fct&gt; | Alignment_Provider..run. &lt;fct&gt; |\n",
       "|---|---|---|---|---|---|---|---|---|---|---|---|---|---|---|---|---|---|---|---|---|---|\n",
       "| 233 | SRR821498 | RNA:Total RNA | RNA-Seq | 152 | 7879119272 | PRJNA75899 | SAMN01994192 | GTEx | GTEX-WI4N-1426-SM-3LK7H | Breast - Mammary Tissue | ⋯ | <!----> | <!----> | <!----> | NA | NA | <!----> | <!----> | <!----> | <!----> | <!----> |\n",
       "\n"
      ],
      "text/plain": [
       "    Run       analyte_type  Assay.Type AvgSpotLen Bases      BioProject\n",
       "233 SRR821498 RNA:Total RNA RNA-Seq    152        7879119272 PRJNA75899\n",
       "    BioSample    biospecimen_repository biospecimen_repository_sample_id\n",
       "233 SAMN01994192 GTEx                   GTEX-WI4N-1426-SM-3LK7H         \n",
       "    body_site               ⋯ data_type..run. product_part_number..exp.\n",
       "233 Breast - Mammary Tissue ⋯                                          \n",
       "    product_part_number..run. sample_barcode..exp. sample_barcode..run.\n",
       "233                           NA                   NA                  \n",
       "    is_technical_control target_set..exp. primary_disease..exp.\n",
       "233                                                            \n",
       "    secondary_accessions..run. Alignment_Provider..run.\n",
       "233                                                    "
      ]
     },
     "metadata": {},
     "output_type": "display_data"
    }
   ],
   "source": [
    "tissue\n",
    "dim(meta.data)\n",
    "head(meta.data,1)"
   ]
  },
  {
   "cell_type": "code",
   "execution_count": 38,
   "metadata": {},
   "outputs": [
    {
     "data": {
      "text/html": [
       "'breast_mammary_tissue'"
      ],
      "text/latex": [
       "'breast\\_mammary\\_tissue'"
      ],
      "text/markdown": [
       "'breast_mammary_tissue'"
      ],
      "text/plain": [
       "[1] \"breast_mammary_tissue\""
      ]
     },
     "metadata": {},
     "output_type": "display_data"
    },
    {
     "data": {
      "text/html": [
       "'Breast - Mammary Tissue'"
      ],
      "text/latex": [
       "'Breast - Mammary Tissue'"
      ],
      "text/markdown": [
       "'Breast - Mammary Tissue'"
      ],
      "text/plain": [
       "[1] \"Breast - Mammary Tissue\""
      ]
     },
     "metadata": {},
     "output_type": "display_data"
    }
   ],
   "source": [
    "# Undo snakecasse of body_site\n",
    "tissue\n",
    "tissue <- unique(meta.data$body_site)\n",
    "tissue"
   ]
  },
  {
   "cell_type": "code",
   "execution_count": 39,
   "metadata": {},
   "outputs": [
    {
     "data": {
      "text/html": [
       "<style>\n",
       ".list-inline {list-style: none; margin:0; padding: 0}\n",
       ".list-inline>li {display: inline-block}\n",
       ".list-inline>li:not(:last-child)::after {content: \"\\00b7\"; padding: 0 .5ex}\n",
       "</style>\n",
       "<ol class=list-inline><li>42611</li><li>8674</li></ol>\n"
      ],
      "text/latex": [
       "\\begin{enumerate*}\n",
       "\\item 42611\n",
       "\\item 8674\n",
       "\\end{enumerate*}\n"
      ],
      "text/markdown": [
       "1. 42611\n",
       "2. 8674\n",
       "\n",
       "\n"
      ],
      "text/plain": [
       "[1] 42611  8674"
      ]
     },
     "metadata": {},
     "output_type": "display_data"
    },
    {
     "data": {
      "text/html": [
       "<style>\n",
       ".list-inline {list-style: none; margin:0; padding: 0}\n",
       ".list-inline>li {display: inline-block}\n",
       ".list-inline>li:not(:last-child)::after {content: \"\\00b7\"; padding: 0 .5ex}\n",
       "</style>\n",
       "<ol class=list-inline><li>42611</li><li>191</li></ol>\n"
      ],
      "text/latex": [
       "\\begin{enumerate*}\n",
       "\\item 42611\n",
       "\\item 191\n",
       "\\end{enumerate*}\n"
      ],
      "text/markdown": [
       "1. 42611\n",
       "2. 191\n",
       "\n",
       "\n"
      ],
      "text/plain": [
       "[1] 42611   191"
      ]
     },
     "metadata": {},
     "output_type": "display_data"
    }
   ],
   "source": [
    "dim(inc.counts)\n",
    "inc.counts   <- inc.counts[,colnames(inc.counts) %in% meta.data$Run]\n",
    "dim(inc.counts)"
   ]
  },
  {
   "cell_type": "code",
   "execution_count": 40,
   "metadata": {},
   "outputs": [
    {
     "data": {
      "text/html": [
       "<style>\n",
       ".list-inline {list-style: none; margin:0; padding: 0}\n",
       ".list-inline>li {display: inline-block}\n",
       ".list-inline>li:not(:last-child)::after {content: \"\\00b7\"; padding: 0 .5ex}\n",
       "</style>\n",
       "<ol class=list-inline><li>42611</li><li>8674</li></ol>\n"
      ],
      "text/latex": [
       "\\begin{enumerate*}\n",
       "\\item 42611\n",
       "\\item 8674\n",
       "\\end{enumerate*}\n"
      ],
      "text/markdown": [
       "1. 42611\n",
       "2. 8674\n",
       "\n",
       "\n"
      ],
      "text/plain": [
       "[1] 42611  8674"
      ]
     },
     "metadata": {},
     "output_type": "display_data"
    },
    {
     "data": {
      "text/html": [
       "<style>\n",
       ".list-inline {list-style: none; margin:0; padding: 0}\n",
       ".list-inline>li {display: inline-block}\n",
       ".list-inline>li:not(:last-child)::after {content: \"\\00b7\"; padding: 0 .5ex}\n",
       "</style>\n",
       "<ol class=list-inline><li>42611</li><li>191</li></ol>\n"
      ],
      "text/latex": [
       "\\begin{enumerate*}\n",
       "\\item 42611\n",
       "\\item 191\n",
       "\\end{enumerate*}\n"
      ],
      "text/markdown": [
       "1. 42611\n",
       "2. 191\n",
       "\n",
       "\n"
      ],
      "text/plain": [
       "[1] 42611   191"
      ]
     },
     "metadata": {},
     "output_type": "display_data"
    }
   ],
   "source": [
    "dim(skip.counts)\n",
    "skip.counts  <- skip.counts[,colnames(skip.counts) %in% meta.data$Run]\n",
    "dim(skip.counts)"
   ]
  },
  {
   "cell_type": "code",
   "execution_count": 41,
   "metadata": {},
   "outputs": [
    {
     "data": {
      "text/html": [
       "<strong>95%:</strong> 116.887312651114"
      ],
      "text/latex": [
       "\\textbf{95\\textbackslash{}\\%:} 116.887312651114"
      ],
      "text/markdown": [
       "**95%:** 116.887312651114"
      ],
      "text/plain": [
       "     95% \n",
       "116.8873 "
      ]
     },
     "metadata": {},
     "output_type": "display_data"
    }
   ],
   "source": [
    "sd.threshold <- quantile(apply(inc.counts,1,sd)+apply(skip.counts,1,sd),0.95)\n",
    "sd.threshold"
   ]
  },
  {
   "cell_type": "code",
   "execution_count": 42,
   "metadata": {},
   "outputs": [
    {
     "data": {
      "text/html": [
       "<style>\n",
       ".list-inline {list-style: none; margin:0; padding: 0}\n",
       ".list-inline>li {display: inline-block}\n",
       ".list-inline>li:not(:last-child)::after {content: \"\\00b7\"; padding: 0 .5ex}\n",
       "</style>\n",
       "<ol class=list-inline><li>42611</li><li>191</li></ol>\n"
      ],
      "text/latex": [
       "\\begin{enumerate*}\n",
       "\\item 42611\n",
       "\\item 191\n",
       "\\end{enumerate*}\n"
      ],
      "text/markdown": [
       "1. 42611\n",
       "2. 191\n",
       "\n",
       "\n"
      ],
      "text/plain": [
       "[1] 42611   191"
      ]
     },
     "metadata": {},
     "output_type": "display_data"
    },
    {
     "data": {
      "text/html": [
       "<style>\n",
       ".list-inline {list-style: none; margin:0; padding: 0}\n",
       ".list-inline>li {display: inline-block}\n",
       ".list-inline>li:not(:last-child)::after {content: \"\\00b7\"; padding: 0 .5ex}\n",
       "</style>\n",
       "<ol class=list-inline><li>3163</li><li>191</li></ol>\n"
      ],
      "text/latex": [
       "\\begin{enumerate*}\n",
       "\\item 3163\n",
       "\\item 191\n",
       "\\end{enumerate*}\n"
      ],
      "text/markdown": [
       "1. 3163\n",
       "2. 191\n",
       "\n",
       "\n"
      ],
      "text/plain": [
       "[1] 3163  191"
      ]
     },
     "metadata": {},
     "output_type": "display_data"
    }
   ],
   "source": [
    "dim(skip.counts)\n",
    "skip.counts  <- skip.counts[rownames(skip.counts) %in% merged.table$ID,]\n",
    "dim(skip.counts)"
   ]
  },
  {
   "cell_type": "code",
   "execution_count": 43,
   "metadata": {},
   "outputs": [
    {
     "data": {
      "text/html": [
       "<style>\n",
       ".list-inline {list-style: none; margin:0; padding: 0}\n",
       ".list-inline>li {display: inline-block}\n",
       ".list-inline>li:not(:last-child)::after {content: \"\\00b7\"; padding: 0 .5ex}\n",
       "</style>\n",
       "<ol class=list-inline><li>42611</li><li>191</li></ol>\n"
      ],
      "text/latex": [
       "\\begin{enumerate*}\n",
       "\\item 42611\n",
       "\\item 191\n",
       "\\end{enumerate*}\n"
      ],
      "text/markdown": [
       "1. 42611\n",
       "2. 191\n",
       "\n",
       "\n"
      ],
      "text/plain": [
       "[1] 42611   191"
      ]
     },
     "metadata": {},
     "output_type": "display_data"
    },
    {
     "data": {
      "text/html": [
       "<style>\n",
       ".list-inline {list-style: none; margin:0; padding: 0}\n",
       ".list-inline>li {display: inline-block}\n",
       ".list-inline>li:not(:last-child)::after {content: \"\\00b7\"; padding: 0 .5ex}\n",
       "</style>\n",
       "<ol class=list-inline><li>3163</li><li>191</li></ol>\n"
      ],
      "text/latex": [
       "\\begin{enumerate*}\n",
       "\\item 3163\n",
       "\\item 191\n",
       "\\end{enumerate*}\n"
      ],
      "text/markdown": [
       "1. 3163\n",
       "2. 191\n",
       "\n",
       "\n"
      ],
      "text/plain": [
       "[1] 3163  191"
      ]
     },
     "metadata": {},
     "output_type": "display_data"
    }
   ],
   "source": [
    "dim(inc.counts)\n",
    "inc.counts   <- inc.counts[rownames(inc.counts) %in% merged.table$ID,]\n",
    "dim(inc.counts)"
   ]
  },
  {
   "cell_type": "code",
   "execution_count": 44,
   "metadata": {},
   "outputs": [
    {
     "data": {
      "text/html": [
       "TRUE"
      ],
      "text/latex": [
       "TRUE"
      ],
      "text/markdown": [
       "TRUE"
      ],
      "text/plain": [
       "[1] TRUE"
      ]
     },
     "metadata": {},
     "output_type": "display_data"
    }
   ],
   "source": [
    "nrow(skip.counts)>100"
   ]
  },
  {
   "cell_type": "code",
   "execution_count": 45,
   "metadata": {},
   "outputs": [],
   "source": [
    "if (nrow(skip.counts)>100)\n",
    "{\n",
    "  select.events <- apply(inc.counts,1,sd)+apply(skip.counts,1,sd)>sd.threshold\n",
    "  inc.counts    <- inc.counts[select.events,]\n",
    "  skip.counts   <- skip.counts[select.events,]\n",
    "  merged.table  <- merged.table[select.events,]\n",
    "}"
   ]
  },
  {
   "cell_type": "code",
   "execution_count": 46,
   "metadata": {},
   "outputs": [
    {
     "data": {
      "text/html": [
       "<style>\n",
       ".list-inline {list-style: none; margin:0; padding: 0}\n",
       ".list-inline>li {display: inline-block}\n",
       ".list-inline>li:not(:last-child)::after {content: \"\\00b7\"; padding: 0 .5ex}\n",
       "</style>\n",
       "<ol class=list-inline><li>142</li><li>191</li></ol>\n"
      ],
      "text/latex": [
       "\\begin{enumerate*}\n",
       "\\item 142\n",
       "\\item 191\n",
       "\\end{enumerate*}\n"
      ],
      "text/markdown": [
       "1. 142\n",
       "2. 191\n",
       "\n",
       "\n"
      ],
      "text/plain": [
       "[1] 142 191"
      ]
     },
     "metadata": {},
     "output_type": "display_data"
    },
    {
     "data": {
      "text/html": [
       "<style>\n",
       ".list-inline {list-style: none; margin:0; padding: 0}\n",
       ".list-inline>li {display: inline-block}\n",
       ".list-inline>li:not(:last-child)::after {content: \"\\00b7\"; padding: 0 .5ex}\n",
       "</style>\n",
       "<ol class=list-inline><li>142</li><li>191</li></ol>\n"
      ],
      "text/latex": [
       "\\begin{enumerate*}\n",
       "\\item 142\n",
       "\\item 191\n",
       "\\end{enumerate*}\n"
      ],
      "text/markdown": [
       "1. 142\n",
       "2. 191\n",
       "\n",
       "\n"
      ],
      "text/plain": [
       "[1] 142 191"
      ]
     },
     "metadata": {},
     "output_type": "display_data"
    },
    {
     "data": {
      "text/html": [
       "<style>\n",
       ".list-inline {list-style: none; margin:0; padding: 0}\n",
       ".list-inline>li {display: inline-block}\n",
       ".list-inline>li:not(:last-child)::after {content: \"\\00b7\"; padding: 0 .5ex}\n",
       "</style>\n",
       "<ol class=list-inline><li>142</li><li>18</li></ol>\n"
      ],
      "text/latex": [
       "\\begin{enumerate*}\n",
       "\\item 142\n",
       "\\item 18\n",
       "\\end{enumerate*}\n"
      ],
      "text/markdown": [
       "1. 142\n",
       "2. 18\n",
       "\n",
       "\n"
      ],
      "text/plain": [
       "[1] 142  18"
      ]
     },
     "metadata": {},
     "output_type": "display_data"
    }
   ],
   "source": [
    "dim(inc.counts)\n",
    "dim(skip.counts)\n",
    "dim(merged.table)"
   ]
  },
  {
   "cell_type": "markdown",
   "metadata": {},
   "source": [
    "## Read expression data:"
   ]
  },
  {
   "cell_type": "code",
   "execution_count": 47,
   "metadata": {},
   "outputs": [
    {
     "data": {
      "text/html": [
       "'../data/GTEx_Analysis_2017-06-05_v8_RNASeQCv1.1.9_gene_tpm.gct'"
      ],
      "text/latex": [
       "'../data/GTEx\\_Analysis\\_2017-06-05\\_v8\\_RNASeQCv1.1.9\\_gene\\_tpm.gct'"
      ],
      "text/markdown": [
       "'../data/GTEx_Analysis_2017-06-05_v8_RNASeQCv1.1.9_gene_tpm.gct'"
      ],
      "text/plain": [
       "[1] \"../data/GTEx_Analysis_2017-06-05_v8_RNASeQCv1.1.9_gene_tpm.gct\""
      ]
     },
     "metadata": {},
     "output_type": "display_data"
    },
    {
     "data": {
      "text/html": [
       "TRUE"
      ],
      "text/latex": [
       "TRUE"
      ],
      "text/markdown": [
       "TRUE"
      ],
      "text/plain": [
       "[1] TRUE"
      ]
     },
     "metadata": {},
     "output_type": "display_data"
    }
   ],
   "source": [
    "expression.file.name\n",
    "file.exists(expression.file.name)"
   ]
  },
  {
   "cell_type": "code",
   "execution_count": 48,
   "metadata": {},
   "outputs": [],
   "source": [
    "expression.mat <- read.table(expression.file.name, \n",
    "                             nrows = 1,\n",
    "                             sep = \"\\t\",\n",
    "                             header = T,\n",
    "                             skip = 2)"
   ]
  },
  {
   "cell_type": "code",
   "execution_count": 49,
   "metadata": {},
   "outputs": [
    {
     "data": {
      "text/html": [
       "<style>\n",
       ".list-inline {list-style: none; margin:0; padding: 0}\n",
       ".list-inline>li {display: inline-block}\n",
       ".list-inline>li:not(:last-child)::after {content: \"\\00b7\"; padding: 0 .5ex}\n",
       "</style>\n",
       "<ol class=list-inline><li>1</li><li>11690</li></ol>\n"
      ],
      "text/latex": [
       "\\begin{enumerate*}\n",
       "\\item 1\n",
       "\\item 11690\n",
       "\\end{enumerate*}\n"
      ],
      "text/markdown": [
       "1. 1\n",
       "2. 11690\n",
       "\n",
       "\n"
      ],
      "text/plain": [
       "[1]     1 11690"
      ]
     },
     "metadata": {},
     "output_type": "display_data"
    },
    {
     "data": {
      "text/html": [
       "<table>\n",
       "<caption>A data.frame: 1 × 11690</caption>\n",
       "<thead>\n",
       "\t<tr><th></th><th scope=col>Name</th><th scope=col>Description</th><th scope=col>GTEX.1117F.0226.SM.5GZZ7</th><th scope=col>GTEX.111CU.1826.SM.5GZYN</th><th scope=col>GTEX.111FC.0226.SM.5N9B8</th><th scope=col>GTEX.111VG.2326.SM.5N9BK</th><th scope=col>GTEX.111YS.2426.SM.5GZZQ</th><th scope=col>GTEX.1122O.2026.SM.5NQ91</th><th scope=col>GTEX.1128S.2126.SM.5H12U</th><th scope=col>GTEX.113IC.0226.SM.5HL5C</th><th scope=col>⋯</th><th scope=col>GTEX.ZVE2.0006.SM.51MRW</th><th scope=col>GTEX.ZVP2.0005.SM.51MRK</th><th scope=col>GTEX.ZVT2.0005.SM.57WBW</th><th scope=col>GTEX.ZVT3.0006.SM.51MT9</th><th scope=col>GTEX.ZVT4.0006.SM.57WB8</th><th scope=col>GTEX.ZVTK.0006.SM.57WBK</th><th scope=col>GTEX.ZVZP.0006.SM.51MSW</th><th scope=col>GTEX.ZVZQ.0006.SM.51MR8</th><th scope=col>GTEX.ZXES.0005.SM.57WCB</th><th scope=col>GTEX.ZXG5.0005.SM.57WCN</th></tr>\n",
       "\t<tr><th></th><th scope=col>&lt;fct&gt;</th><th scope=col>&lt;fct&gt;</th><th scope=col>&lt;dbl&gt;</th><th scope=col>&lt;dbl&gt;</th><th scope=col>&lt;dbl&gt;</th><th scope=col>&lt;dbl&gt;</th><th scope=col>&lt;int&gt;</th><th scope=col>&lt;dbl&gt;</th><th scope=col>&lt;dbl&gt;</th><th scope=col>&lt;dbl&gt;</th><th scope=col>⋯</th><th scope=col>&lt;dbl&gt;</th><th scope=col>&lt;dbl&gt;</th><th scope=col>&lt;dbl&gt;</th><th scope=col>&lt;int&gt;</th><th scope=col>&lt;dbl&gt;</th><th scope=col>&lt;dbl&gt;</th><th scope=col>&lt;dbl&gt;</th><th scope=col>&lt;dbl&gt;</th><th scope=col>&lt;dbl&gt;</th><th scope=col>&lt;dbl&gt;</th></tr>\n",
       "</thead>\n",
       "<tbody>\n",
       "\t<tr><th scope=row>1</th><td>ENSG00000223972.4</td><td>DDX11L1</td><td>0.1082</td><td>0.1158</td><td>0.02104</td><td>0.02329</td><td>0</td><td>0.04641</td><td>0.03076</td><td>0.09358</td><td>⋯</td><td>0.09012</td><td>0.1462</td><td>0.1045</td><td>0</td><td>0.6603</td><td>0.695</td><td>0.1213</td><td>0.4169</td><td>0.2355</td><td>0.145</td></tr>\n",
       "</tbody>\n",
       "</table>\n"
      ],
      "text/latex": [
       "A data.frame: 1 × 11690\n",
       "\\begin{tabular}{r|lllllllllllllllllllll}\n",
       "  & Name & Description & GTEX.1117F.0226.SM.5GZZ7 & GTEX.111CU.1826.SM.5GZYN & GTEX.111FC.0226.SM.5N9B8 & GTEX.111VG.2326.SM.5N9BK & GTEX.111YS.2426.SM.5GZZQ & GTEX.1122O.2026.SM.5NQ91 & GTEX.1128S.2126.SM.5H12U & GTEX.113IC.0226.SM.5HL5C & ⋯ & GTEX.ZVE2.0006.SM.51MRW & GTEX.ZVP2.0005.SM.51MRK & GTEX.ZVT2.0005.SM.57WBW & GTEX.ZVT3.0006.SM.51MT9 & GTEX.ZVT4.0006.SM.57WB8 & GTEX.ZVTK.0006.SM.57WBK & GTEX.ZVZP.0006.SM.51MSW & GTEX.ZVZQ.0006.SM.51MR8 & GTEX.ZXES.0005.SM.57WCB & GTEX.ZXG5.0005.SM.57WCN\\\\\n",
       "  & <fct> & <fct> & <dbl> & <dbl> & <dbl> & <dbl> & <int> & <dbl> & <dbl> & <dbl> & ⋯ & <dbl> & <dbl> & <dbl> & <int> & <dbl> & <dbl> & <dbl> & <dbl> & <dbl> & <dbl>\\\\\n",
       "\\hline\n",
       "\t1 & ENSG00000223972.4 & DDX11L1 & 0.1082 & 0.1158 & 0.02104 & 0.02329 & 0 & 0.04641 & 0.03076 & 0.09358 & ⋯ & 0.09012 & 0.1462 & 0.1045 & 0 & 0.6603 & 0.695 & 0.1213 & 0.4169 & 0.2355 & 0.145\\\\\n",
       "\\end{tabular}\n"
      ],
      "text/markdown": [
       "\n",
       "A data.frame: 1 × 11690\n",
       "\n",
       "| <!--/--> | Name &lt;fct&gt; | Description &lt;fct&gt; | GTEX.1117F.0226.SM.5GZZ7 &lt;dbl&gt; | GTEX.111CU.1826.SM.5GZYN &lt;dbl&gt; | GTEX.111FC.0226.SM.5N9B8 &lt;dbl&gt; | GTEX.111VG.2326.SM.5N9BK &lt;dbl&gt; | GTEX.111YS.2426.SM.5GZZQ &lt;int&gt; | GTEX.1122O.2026.SM.5NQ91 &lt;dbl&gt; | GTEX.1128S.2126.SM.5H12U &lt;dbl&gt; | GTEX.113IC.0226.SM.5HL5C &lt;dbl&gt; | ⋯ ⋯ | GTEX.ZVE2.0006.SM.51MRW &lt;dbl&gt; | GTEX.ZVP2.0005.SM.51MRK &lt;dbl&gt; | GTEX.ZVT2.0005.SM.57WBW &lt;dbl&gt; | GTEX.ZVT3.0006.SM.51MT9 &lt;int&gt; | GTEX.ZVT4.0006.SM.57WB8 &lt;dbl&gt; | GTEX.ZVTK.0006.SM.57WBK &lt;dbl&gt; | GTEX.ZVZP.0006.SM.51MSW &lt;dbl&gt; | GTEX.ZVZQ.0006.SM.51MR8 &lt;dbl&gt; | GTEX.ZXES.0005.SM.57WCB &lt;dbl&gt; | GTEX.ZXG5.0005.SM.57WCN &lt;dbl&gt; |\n",
       "|---|---|---|---|---|---|---|---|---|---|---|---|---|---|---|---|---|---|---|---|---|---|\n",
       "| 1 | ENSG00000223972.4 | DDX11L1 | 0.1082 | 0.1158 | 0.02104 | 0.02329 | 0 | 0.04641 | 0.03076 | 0.09358 | ⋯ | 0.09012 | 0.1462 | 0.1045 | 0 | 0.6603 | 0.695 | 0.1213 | 0.4169 | 0.2355 | 0.145 |\n",
       "\n"
      ],
      "text/plain": [
       "  Name              Description GTEX.1117F.0226.SM.5GZZ7\n",
       "1 ENSG00000223972.4 DDX11L1     0.1082                  \n",
       "  GTEX.111CU.1826.SM.5GZYN GTEX.111FC.0226.SM.5N9B8 GTEX.111VG.2326.SM.5N9BK\n",
       "1 0.1158                   0.02104                  0.02329                 \n",
       "  GTEX.111YS.2426.SM.5GZZQ GTEX.1122O.2026.SM.5NQ91 GTEX.1128S.2126.SM.5H12U\n",
       "1 0                        0.04641                  0.03076                 \n",
       "  GTEX.113IC.0226.SM.5HL5C ⋯ GTEX.ZVE2.0006.SM.51MRW GTEX.ZVP2.0005.SM.51MRK\n",
       "1 0.09358                  ⋯ 0.09012                 0.1462                 \n",
       "  GTEX.ZVT2.0005.SM.57WBW GTEX.ZVT3.0006.SM.51MT9 GTEX.ZVT4.0006.SM.57WB8\n",
       "1 0.1045                  0                       0.6603                 \n",
       "  GTEX.ZVTK.0006.SM.57WBK GTEX.ZVZP.0006.SM.51MSW GTEX.ZVZQ.0006.SM.51MR8\n",
       "1 0.695                   0.1213                  0.4169                 \n",
       "  GTEX.ZXES.0005.SM.57WCB GTEX.ZXG5.0005.SM.57WCN\n",
       "1 0.2355                  0.145                  "
      ]
     },
     "metadata": {},
     "output_type": "display_data"
    }
   ],
   "source": [
    "dim(expression.mat)\n",
    "head(expression.mat, 2)"
   ]
  },
  {
   "cell_type": "code",
   "execution_count": 50,
   "metadata": {},
   "outputs": [
    {
     "data": {
      "text/html": [
       "<style>\n",
       ".list-inline {list-style: none; margin:0; padding: 0}\n",
       ".list-inline>li {display: inline-block}\n",
       ".list-inline>li:not(:last-child)::after {content: \"\\00b7\"; padding: 0 .5ex}\n",
       "</style>\n",
       "<ol class=list-inline><li>'Name'</li><li>'Description'</li><li>'GTEX.1117F.0226.SM.5GZZ7'</li></ol>\n"
      ],
      "text/latex": [
       "\\begin{enumerate*}\n",
       "\\item 'Name'\n",
       "\\item 'Description'\n",
       "\\item 'GTEX.1117F.0226.SM.5GZZ7'\n",
       "\\end{enumerate*}\n"
      ],
      "text/markdown": [
       "1. 'Name'\n",
       "2. 'Description'\n",
       "3. 'GTEX.1117F.0226.SM.5GZZ7'\n",
       "\n",
       "\n"
      ],
      "text/plain": [
       "[1] \"Name\"                     \"Description\"             \n",
       "[3] \"GTEX.1117F.0226.SM.5GZZ7\""
      ]
     },
     "metadata": {},
     "output_type": "display_data"
    }
   ],
   "source": [
    "colnames(expression.mat)[1:3]"
   ]
  },
  {
   "cell_type": "code",
   "execution_count": 51,
   "metadata": {},
   "outputs": [],
   "source": [
    "colnames.expression.mat <- colnames(expression.mat)"
   ]
  },
  {
   "cell_type": "code",
   "execution_count": 52,
   "metadata": {},
   "outputs": [
    {
     "data": {
      "text/html": [
       "11690"
      ],
      "text/latex": [
       "11690"
      ],
      "text/markdown": [
       "11690"
      ],
      "text/plain": [
       "[1] 11690"
      ]
     },
     "metadata": {},
     "output_type": "display_data"
    },
    {
     "data": {
      "text/html": [
       "<style>\n",
       ".list-inline {list-style: none; margin:0; padding: 0}\n",
       ".list-inline>li {display: inline-block}\n",
       ".list-inline>li:not(:last-child)::after {content: \"\\00b7\"; padding: 0 .5ex}\n",
       "</style>\n",
       "<ol class=list-inline><li>'Name'</li><li>'Description'</li><li>'GTEX.1117F.0226.SM.5GZZ7'</li><li>'GTEX.111CU.1826.SM.5GZYN'</li></ol>\n"
      ],
      "text/latex": [
       "\\begin{enumerate*}\n",
       "\\item 'Name'\n",
       "\\item 'Description'\n",
       "\\item 'GTEX.1117F.0226.SM.5GZZ7'\n",
       "\\item 'GTEX.111CU.1826.SM.5GZYN'\n",
       "\\end{enumerate*}\n"
      ],
      "text/markdown": [
       "1. 'Name'\n",
       "2. 'Description'\n",
       "3. 'GTEX.1117F.0226.SM.5GZZ7'\n",
       "4. 'GTEX.111CU.1826.SM.5GZYN'\n",
       "\n",
       "\n"
      ],
      "text/plain": [
       "[1] \"Name\"                     \"Description\"             \n",
       "[3] \"GTEX.1117F.0226.SM.5GZZ7\" \"GTEX.111CU.1826.SM.5GZYN\""
      ]
     },
     "metadata": {},
     "output_type": "display_data"
    }
   ],
   "source": [
    "length(colnames.expression.mat)\n",
    "colnames.expression.mat[1:4]"
   ]
  },
  {
   "cell_type": "code",
   "execution_count": 53,
   "metadata": {},
   "outputs": [
    {
     "data": {
      "text/html": [
       "11690"
      ],
      "text/latex": [
       "11690"
      ],
      "text/markdown": [
       "11690"
      ],
      "text/plain": [
       "[1] 11690"
      ]
     },
     "metadata": {},
     "output_type": "display_data"
    }
   ],
   "source": [
    "length(colnames.expression.mat)"
   ]
  },
  {
   "cell_type": "code",
   "execution_count": 54,
   "metadata": {},
   "outputs": [
    {
     "data": {
      "text/html": [
       "11690"
      ],
      "text/latex": [
       "11690"
      ],
      "text/markdown": [
       "11690"
      ],
      "text/plain": [
       "[1] 11690"
      ]
     },
     "metadata": {},
     "output_type": "display_data"
    }
   ],
   "source": [
    "total.samples           <- length(colnames.expression.mat)\n",
    "total.samples"
   ]
  },
  {
   "cell_type": "code",
   "execution_count": 55,
   "metadata": {},
   "outputs": [
    {
     "data": {
      "text/html": [
       "GTEX-WI4N-1426-SM-3LK7H\n",
       "<details>\n",
       "\t<summary style=display:list-item;cursor:pointer>\n",
       "\t\t<strong>Levels</strong>:\n",
       "\t</summary>\n",
       "\t<style>\n",
       "\t.list-inline {list-style: none; margin:0; padding: 0}\n",
       "\t.list-inline>li {display: inline-block}\n",
       "\t.list-inline>li:not(:last-child)::after {content: \"\\00b7\"; padding: 0 .5ex}\n",
       "\t</style>\n",
       "\t<ol class=list-inline><li>'GTEX-1117F-0003-SM-58Q7G'</li><li>'GTEX-1117F-0003-SM-6WBT7'</li><li>'GTEX-1117F-0226-SM-5GZZ7'</li><li>'GTEX-1117F-0426-SM-5EGHI'</li><li>'GTEX-1117F-0526-SM-5EGHJ'</li><li>'GTEX-1117F-0626-SM-5N9CS'</li><li>'GTEX-1117F-0726-SM-5GIEN'</li><li>'GTEX-1117F-1326-SM-5EGHH'</li><li>'GTEX-1117F-2226-SM-5N9CH'</li><li>'GTEX-1117F-2426-SM-5EGGH'</li><li>'GTEX-1117F-2526-SM-5GZY6'</li><li>'GTEX-1117F-2826-SM-5GZXL'</li><li>'GTEX-1117F-2926-SM-5GZYI'</li><li>'GTEX-1117F-3026-SM-5GZYU'</li><li>'GTEX-1117F-3226-SM-5N9CT'</li><li>'GTEX-111CU-0003-SM-58Q95'</li><li>'GTEX-111CU-0003-SM-6WBUD'</li><li>'GTEX-111CU-0126-SM-5GZWZ'</li><li>'GTEX-111CU-0226-SM-5GZXC'</li><li>'GTEX-111CU-0326-SM-5GZXO'</li><li>'GTEX-111CU-0426-SM-5GZY1'</li><li>'GTEX-111CU-0526-SM-5EGHK'</li><li>'GTEX-111CU-0626-SM-5EGHL'</li><li>'GTEX-111CU-0726-SM-5GZYD'</li><li>'GTEX-111CU-0826-SM-5EGIJ'</li><li>'GTEX-111CU-0926-SM-5EGIK'</li><li>'GTEX-111CU-1026-SM-5EGIL'</li><li>'GTEX-111CU-1126-SM-5EGIM'</li><li>'GTEX-111CU-1226-SM-5EGIN'</li><li>'GTEX-111CU-1326-SM-5NQ8L'</li><li>'GTEX-111CU-1426-SM-5GZYP'</li><li>'GTEX-111CU-1526-SM-5N9FS'</li><li>'GTEX-111CU-1726-SM-5EGHM'</li><li>'GTEX-111CU-1826-SM-5GZYN'</li><li>'GTEX-111CU-1926-SM-5GZYZ'</li><li>'GTEX-111CU-2026-SM-5GZZC'</li><li>'GTEX-111CU-2226-SM-5N9G5'</li><li>'GTEX-111FC-0001-SM-58Q7U'</li><li>'GTEX-111FC-0001-SM-6WBTJ'</li><li>'GTEX-111FC-0126-SM-5N9DL'</li><li>'GTEX-111FC-0226-SM-5N9B8'</li><li>'GTEX-111FC-0326-SM-5GZZ1'</li><li>'GTEX-111FC-0426-SM-5N9CV'</li><li>'GTEX-111FC-0526-SM-5GZZ8'</li><li>'GTEX-111FC-0626-SM-5N9CU'</li><li>'GTEX-111FC-0826-SM-5GZWO'</li><li>'GTEX-111FC-1026-SM-5GZX1'</li><li>'GTEX-111FC-1126-SM-5GZWU'</li><li>'GTEX-111FC-1326-SM-5N9D9'</li><li>'GTEX-111FC-1426-SM-5N9C7'</li><li>'GTEX-111FC-1926-SM-5GZYC'</li><li>'GTEX-111FC-2026-SM-5GZYO'</li><li>'GTEX-111FC-2526-SM-5GZXU'</li><li>'GTEX-111FC-2926-SM-5GZY7'</li><li>'GTEX-111FC-3026-SM-5GZYJ'</li><li>'GTEX-111FC-3126-SM-5GZZ2'</li><li>'GTEX-111FC-3326-SM-5GZYV'</li><li>'GTEX-111VG-0004-SM-58Q85'</li><li>'GTEX-111VG-0004-SM-6WBTS'</li><li>'GTEX-111VG-0008-SM-5Q5BG'</li><li>'GTEX-111VG-0326-SM-5GZX7'</li><li>'GTEX-111VG-0526-SM-5N9BW'</li><li>'GTEX-111VG-0726-SM-5GIDC'</li><li>'GTEX-111VG-1626-SM-5EGIO'</li><li>'GTEX-111VG-1926-SM-5GIDO'</li><li>'GTEX-111VG-2226-SM-5N9DU'</li><li>'GTEX-111VG-2326-SM-5N9BK'</li><li>'GTEX-111VG-2426-SM-5GZXD'</li><li>'GTEX-111VG-2526-SM-5GZXP'</li><li>'GTEX-111VG-2626-SM-5GZY2'</li><li>'GTEX-111YS-0004-SM-58Q7Y'</li><li>'GTEX-111YS-0004-SM-6WBTN'</li><li>'GTEX-111YS-0006-SM-5NQBE'</li><li>'GTEX-111YS-0008-SM-5Q5BH'</li><li>'GTEX-111YS-0126-SM-5987T'</li><li>'GTEX-111YS-0326-SM-5GZZ3'</li><li>'GTEX-111YS-0426-SM-5987O'</li><li>'GTEX-111YS-0526-SM-5GZXJ'</li><li>'GTEX-111YS-0626-SM-5GZXV'</li><li>'GTEX-111YS-0726-SM-5GZY8'</li><li>'GTEX-111YS-0826-SM-5GZYK'</li><li>'GTEX-111YS-0926-SM-5EGGI'</li><li>'GTEX-111YS-1026-SM-5GZYE'</li><li>'GTEX-111YS-1126-SM-5GZYQ'</li><li>'GTEX-111YS-1226-SM-5EGGJ'</li><li>'GTEX-111YS-1326-SM-5EGGK'</li><li>'GTEX-111YS-1426-SM-5GID8'</li><li>'GTEX-111YS-1526-SM-5GZYW'</li><li>'GTEX-111YS-1626-SM-5GZZ9'</li><li>'GTEX-111YS-1726-SM-5GIED'</li><li>'GTEX-111YS-1826-SM-5GIEP'</li><li>'GTEX-111YS-1926-SM-5GICC'</li><li>'GTEX-111YS-2026-SM-5EGGL'</li><li>'GTEX-111YS-2126-SM-5EGGM'</li><li>'GTEX-111YS-2226-SM-5987P'</li><li>'GTEX-111YS-2326-SM-5987L'</li><li>'GTEX-111YS-2426-SM-5GZZQ'</li><li>'GTEX-1122O-0003-SM-5Q5DL'</li><li>'GTEX-1122O-0004-SM-58Q7O'</li><li>'GTEX-1122O-0004-SM-6WBTE'</li><li>'GTEX-1122O-0005-SM-5O99J'</li><li>'GTEX-1122O-0008-SM-5QGR2'</li><li>'GTEX-1122O-0126-SM-5GICA'</li><li>'GTEX-1122O-0226-SM-5N9DA'</li><li>'GTEX-1122O-0326-SM-5H124'</li><li>'GTEX-1122O-0426-SM-5H12G'</li><li>'GTEX-1122O-0526-SM-5N9DM'</li><li>'GTEX-1122O-0626-SM-5N9B9'</li><li>'GTEX-1122O-0726-SM-5GIEV'</li><li>'GTEX-1122O-0826-SM-5GICV'</li><li>'GTEX-1122O-0926-SM-5N9C9'</li><li>'GTEX-1122O-1126-SM-5NQ8X'</li><li>'GTEX-1122O-1226-SM-5H113'</li><li>'GTEX-1122O-1326-SM-5H11F'</li><li>'GTEX-1122O-1426-SM-5H11R'</li><li>'GTEX-1122O-1526-SM-5N9CL'</li><li>'GTEX-1122O-1626-SM-5N9CX'</li><li>'GTEX-1122O-1726-SM-5GICM'</li><li>'GTEX-1122O-1826-SM-5EGIP'</li><li>'GTEX-1122O-1926-SM-5EGIQ'</li><li>'GTEX-1122O-2026-SM-5NQ91'</li><li>'GTEX-1122O-2126-SM-5EGIR'</li><li>'GTEX-1122O-2426-SM-5GIDN'</li><li>'GTEX-1128S-0001-SM-58Q96'</li><li>'GTEX-1128S-0001-SM-6WBUH'</li><li>'GTEX-1128S-0005-SM-5P9HI'</li><li>'GTEX-1128S-0008-SM-5Q5DP'</li><li>'GTEX-1128S-0126-SM-5H12S'</li><li>'GTEX-1128S-0326-SM-5GZZF'</li><li>'GTEX-1128S-0726-SM-5N9D6'</li><li>'GTEX-1128S-0826-SM-5GZZI'</li><li>'GTEX-1128S-0926-SM-5GZZU'</li><li>'GTEX-1128S-1626-SM-5H12O'</li><li>'GTEX-1128S-2126-SM-5H12U'</li><li>'GTEX-1128S-2326-SM-5GZZY'</li><li>'GTEX-1128S-2426-SM-5H11B'</li><li>'GTEX-1128S-2526-SM-5H11N'</li><li>'GTEX-1128S-2626-SM-5H11Z'</li><li>'GTEX-1128S-2726-SM-5H12C'</li><li>'GTEX-1128S-2826-SM-5N9DI'</li><li>'GTEX-113IC-0001-SM-58Q97'</li><li>'GTEX-113IC-0006-SM-5NQ9C'</li><li>'GTEX-113IC-0008-SM-5QGRF'</li><li>'GTEX-113IC-0126-SM-5HL6T'</li><li>'GTEX-113IC-0226-SM-5HL5C'</li><li>'GTEX-113IC-0426-SM-5HL5O'</li><li>'GTEX-113IC-0526-SM-5HL76'</li><li>'GTEX-113JC-0001-SM-58Q7M'</li><li>'GTEX-113JC-0001-SM-6WBTD'</li><li>'GTEX-113JC-0006-SM-5O997'</li><li>'GTEX-113JC-0008-SM-5QGR6'</li><li>'GTEX-113JC-0126-SM-5EGJW'</li><li>'GTEX-113JC-0726-SM-5GZZR'</li><li>'GTEX-113JC-0926-SM-5H114'</li><li>'GTEX-113JC-1026-SM-5H117'</li><li>'GTEX-113JC-1926-SM-5N9GE'</li><li>'GTEX-113JC-2226-SM-5EGJG'</li><li>'GTEX-113JC-2326-SM-5EQ4E'</li><li>'GTEX-113JC-2726-SM-5EGIS'</li><li>'GTEX-113JC-2826-SM-5EGIT'</li><li>'GTEX-117XS-0001-SM-58Q7J'</li><li>'GTEX-117XS-0001-SM-6WBTA'</li><li>'GTEX-117XS-0005-SM-5PNU6'</li><li>'GTEX-117XS-0008-SM-5Q5DQ'</li><li>'GTEX-117XS-0426-SM-5GZZN'</li><li>'GTEX-117XS-0526-SM-5987Q'</li><li>'GTEX-117XS-0726-SM-5H131'</li><li>'GTEX-117XS-1926-SM-5GICO'</li><li>'GTEX-117XS-2026-SM-5GID1'</li><li>'GTEX-117XS-2226-SM-5GIE1'</li><li>'GTEX-117XS-2526-SM-5H11G'</li><li>'GTEX-117XS-2726-SM-5N9BL'</li><li>'GTEX-117XS-2926-SM-5N9BX'</li><li>'GTEX-117XS-3026-SM-5N9CA'</li><li>'GTEX-117XS-3126-SM-5GIDP'</li><li>'GTEX-117YW-0003-SM-58Q99'</li><li>'GTEX-117YW-0003-SM-6WBSY'</li><li>'GTEX-117YW-0005-SM-5NQ8Z'</li><li>'GTEX-117YW-0008-SM-5QGRD'</li><li>'GTEX-117YW-0126-SM-5EGGN'</li><li>'GTEX-117YW-0226-SM-5N9CM'</li><li>'GTEX-117YW-0326-SM-5N9CY'</li><li>'GTEX-117YW-0426-SM-5GZZZ'</li><li>'GTEX-117YW-0526-SM-5H11C'</li><li>'GTEX-117YW-0826-SM-5H11O'</li><li>'GTEX-117YW-1426-SM-5EGGO'</li><li>'GTEX-117YW-1526-SM-5EGGP'</li><li>'GTEX-117YW-1826-SM-5PNY5'</li><li>'GTEX-117YW-1926-SM-5H121'</li><li>'GTEX-117YW-2026-SM-5N9BH'</li><li>'GTEX-117YW-2226-SM-5N9DB'</li><li>'GTEX-117YW-2426-SM-5Q5AE'</li><li>'GTEX-117YW-2626-SM-5GZZH'</li><li>'GTEX-117YW-2726-SM-5GZZT'</li><li>'GTEX-117YW-2826-SM-5H116'</li><li>'GTEX-117YW-2926-SM-5GIEQ'</li><li>'GTEX-117YX-0001-SM-5DU4O'</li><li>'GTEX-117YX-0001-SM-7DRQ6'</li><li>'GTEX-117YX-0126-SM-5EGH5'</li><li>'GTEX-117YX-0226-SM-5EGH6'</li><li>⋯</li><li>'K-562-SM-4MVNA'</li><li>'K-562-SM-4OOR8'</li><li>'K-562-SM-4PQYN'</li><li>'K-562-SM-4QAR5'</li><li>'K-562-SM-4R59E'</li><li>'K-562-SM-4RGL3'</li><li>'K-562-SM-4RH3A'</li><li>'K-562-SM-4RTUY'</li><li>'K-562-SM-4SOHT'</li><li>'K-562-SM-4SOLN'</li><li>'K-562-SM-4T8CH'</li><li>'K-562-SM-4TT1D'</li><li>'K-562-SM-4TT6S'</li><li>'K-562-SM-4U82S'</li><li>'K-562-SM-4V81D'</li><li>'K-562-SM-4VBPT'</li><li>'K-562-SM-4VDQQ'</li><li>'K-562-SM-4W1Y5'</li><li>'K-562-SM-4WAWH'</li><li>'K-562-SM-4WKF1'</li><li>'K-562-SM-4WWAK'</li><li>'K-562-SM-4YCCQ'</li><li>'K-562-SM-51MQT'</li><li>'K-562-SM-57WAW'</li><li>'K-562-SM-59HJ4'</li><li>'K-562-SM-5CVL5'</li><li>'K-562-SM-5DUV6'</li><li>'K-562-SM-5E43B'</li><li>'K-562-SM-5GZWN'</li><li>'K-562-SM-5GZZE'</li><li>'K-562-SM-5HL4J'</li><li>'K-562-SM-5HL7A'</li><li>'K-562-SM-5IFEL'</li><li>'K-562-SM-5IFHC'</li><li>'K-562-SM-5IJB7'</li><li>'K-562-SM-5IJDX'</li><li>'K-562-SM-5J1MB'</li><li>'K-562-SM-5J2LX'</li><li>'K-562-SM-5K7TT'</li><li>'K-562-SM-5K7WK'</li><li>'K-562-SM-5K7ZB'</li><li>'K-562-SM-5KM2I'</li><li>'K-562-SM-5L3FO'</li><li>'K-562-SM-5LU2Y'</li><li>'K-562-SM-5LU8G'</li><li>'K-562-SM-5LZU1'</li><li>'K-562-SM-5LZWR'</li><li>'K-562-SM-5MR32'</li><li>'K-562-SM-5MR5S'</li><li>'K-562-SM-5N9B7'</li><li>'K-562-SM-5N9DX'</li><li>'K-562-SM-5NQ6M'</li><li>'K-562-SM-5NQ9D'</li><li>'K-562-SM-5O98J'</li><li>'K-562-SM-5O9BA'</li><li>'K-562-SM-5P9EQ'</li><li>'K-562-SM-5P9HH'</li><li>'K-562-SM-5PNU4'</li><li>'K-562-SM-5PNWU'</li><li>'K-562-SM-5Q59U'</li><li>'K-562-SM-5Q5CL'</li><li>'K-562-SM-5QGOR'</li><li>'K-562-SM-5RQHM'</li><li>'K-562-SM-66EY4'</li><li>'K-562-SM-686YS'</li><li>'K-562-SM-69LO5'</li><li>'K-562-SM-6AJ95'</li><li>'K-562-SM-6ETZI'</li><li>'K-562-SM-6LLH2'</li><li>'K-562-SM-6LPHZ'</li><li>'K-562-SM-6M461'</li><li>'K-562-SM-6PAL1'</li><li>'K-562-SM-7189B'</li><li>'K-562-SM-72D4W'</li><li>'K-562-SM-731AF'</li><li>'K-562-SM-731D6'</li><li>'K-562-SM-73KTR'</li><li>'K-562-SM-73KWI'</li><li>'K-562-SM-7938F'</li><li>'K-562-SM-793B6'</li><li>'K-562-SM-79OJI'</li><li>'K-562-SM-79OM9'</li><li>'K-562-SM-7DHKI'</li><li>'K-562-SM-7DUEE'</li><li>'K-562-SM-7EPG4'</li><li>'K-562-SM-7EWCW'</li><li>'K-562-SM-7IGL8'</li><li>'K-562-SM-7IGNY'</li><li>'K-562-SM-7KFRB'</li><li>'K-562-SM-7KUDR'</li><li>'K-562-SM-7KUKI'</li><li>'K-562-SM-7LG4B'</li><li>'K-562-SM-7LT88'</li><li>'K-562-SM-7MKF2'</li><li>'NA12878'</li><li>'NA12891'</li><li>'NA12892'</li><li>'NA18910'</li><li>'NA19017'</li><li>'NA19019'</li><li>'NA19020'</li><li>'NA19023'</li><li>'NA19024'</li><li>'NA19025'</li><li>'NA19026'</li><li>'NA19027'</li><li>'NA19028'</li><li>'NA19030'</li><li>'NA19031'</li><li>'NA19035'</li><li>'NA19036'</li><li>'NA19037'</li><li>'NA19038'</li><li>'NA19041'</li><li>'NA19042'</li><li>'NA19043'</li><li>'NA19200'</li><li>'NA19307'</li><li>'NA19308'</li><li>'NA19309'</li><li>'NA19310'</li><li>'NA19311'</li><li>'NA19312'</li><li>'NA19313'</li><li>'NA19314'</li><li>'NA19315'</li><li>'NA19316'</li><li>'NA19317'</li><li>'NA19318'</li><li>'NA19319'</li><li>'NA19320'</li><li>'NA19321'</li><li>'NA19323'</li><li>'NA19324'</li><li>'NA19327'</li><li>'NA19328'</li><li>'NA19331'</li><li>'NA19332'</li><li>'NA19334'</li><li>'NA19338'</li><li>'NA19346'</li><li>'NA19347'</li><li>'NA19350'</li><li>'NA19351'</li><li>'NA19355'</li><li>'NA19360'</li><li>'NA19372'</li><li>'NA19374'</li><li>'NA19375'</li><li>'NA19376'</li><li>'NA19377'</li><li>'NA19378'</li><li>'NA19379'</li><li>'NA19380'</li><li>'NA19383'</li><li>'NA19384'</li><li>'NA19385'</li><li>'NA19390'</li><li>'NA19391'</li><li>'NA19393'</li><li>'NA19394'</li><li>'NA19395'</li><li>'NA19397'</li><li>'NA19399'</li><li>'NA19401'</li><li>'NA19403'</li><li>'NA19404'</li><li>'NA19428'</li><li>'NA19429'</li><li>'NA19430'</li><li>'NA19431'</li><li>'NA19434'</li><li>'NA19435'</li><li>'NA19436'</li><li>'NA19437'</li><li>'NA19438'</li><li>'NA19439'</li><li>'NA19440'</li><li>'NA19443'</li><li>'NA19445'</li><li>'NA19446'</li><li>'NA19448'</li><li>'NA19449'</li><li>'NA19451'</li><li>'NA19452'</li><li>'NA19454'</li><li>'NA19455'</li><li>'NA19456'</li><li>'NA19457'</li><li>'NA19461'</li><li>'NA19462'</li><li>'NA19463'</li><li>'NA19466'</li><li>'NA19467'</li><li>'NA19468'</li><li>'NA19471'</li><li>'NA19472'</li><li>'NA19473'</li><li>'NA19474'</li><li>'NA19475'</li></ol>\n",
       "</details>"
      ],
      "text/latex": [
       "GTEX-WI4N-1426-SM-3LK7H\n",
       "\\emph{Levels}: \\begin{enumerate*}\n",
       "\\item 'GTEX-1117F-0003-SM-58Q7G'\n",
       "\\item 'GTEX-1117F-0003-SM-6WBT7'\n",
       "\\item 'GTEX-1117F-0226-SM-5GZZ7'\n",
       "\\item 'GTEX-1117F-0426-SM-5EGHI'\n",
       "\\item 'GTEX-1117F-0526-SM-5EGHJ'\n",
       "\\item 'GTEX-1117F-0626-SM-5N9CS'\n",
       "\\item 'GTEX-1117F-0726-SM-5GIEN'\n",
       "\\item 'GTEX-1117F-1326-SM-5EGHH'\n",
       "\\item 'GTEX-1117F-2226-SM-5N9CH'\n",
       "\\item 'GTEX-1117F-2426-SM-5EGGH'\n",
       "\\item 'GTEX-1117F-2526-SM-5GZY6'\n",
       "\\item 'GTEX-1117F-2826-SM-5GZXL'\n",
       "\\item 'GTEX-1117F-2926-SM-5GZYI'\n",
       "\\item 'GTEX-1117F-3026-SM-5GZYU'\n",
       "\\item 'GTEX-1117F-3226-SM-5N9CT'\n",
       "\\item 'GTEX-111CU-0003-SM-58Q95'\n",
       "\\item 'GTEX-111CU-0003-SM-6WBUD'\n",
       "\\item 'GTEX-111CU-0126-SM-5GZWZ'\n",
       "\\item 'GTEX-111CU-0226-SM-5GZXC'\n",
       "\\item 'GTEX-111CU-0326-SM-5GZXO'\n",
       "\\item 'GTEX-111CU-0426-SM-5GZY1'\n",
       "\\item 'GTEX-111CU-0526-SM-5EGHK'\n",
       "\\item 'GTEX-111CU-0626-SM-5EGHL'\n",
       "\\item 'GTEX-111CU-0726-SM-5GZYD'\n",
       "\\item 'GTEX-111CU-0826-SM-5EGIJ'\n",
       "\\item 'GTEX-111CU-0926-SM-5EGIK'\n",
       "\\item 'GTEX-111CU-1026-SM-5EGIL'\n",
       "\\item 'GTEX-111CU-1126-SM-5EGIM'\n",
       "\\item 'GTEX-111CU-1226-SM-5EGIN'\n",
       "\\item 'GTEX-111CU-1326-SM-5NQ8L'\n",
       "\\item 'GTEX-111CU-1426-SM-5GZYP'\n",
       "\\item 'GTEX-111CU-1526-SM-5N9FS'\n",
       "\\item 'GTEX-111CU-1726-SM-5EGHM'\n",
       "\\item 'GTEX-111CU-1826-SM-5GZYN'\n",
       "\\item 'GTEX-111CU-1926-SM-5GZYZ'\n",
       "\\item 'GTEX-111CU-2026-SM-5GZZC'\n",
       "\\item 'GTEX-111CU-2226-SM-5N9G5'\n",
       "\\item 'GTEX-111FC-0001-SM-58Q7U'\n",
       "\\item 'GTEX-111FC-0001-SM-6WBTJ'\n",
       "\\item 'GTEX-111FC-0126-SM-5N9DL'\n",
       "\\item 'GTEX-111FC-0226-SM-5N9B8'\n",
       "\\item 'GTEX-111FC-0326-SM-5GZZ1'\n",
       "\\item 'GTEX-111FC-0426-SM-5N9CV'\n",
       "\\item 'GTEX-111FC-0526-SM-5GZZ8'\n",
       "\\item 'GTEX-111FC-0626-SM-5N9CU'\n",
       "\\item 'GTEX-111FC-0826-SM-5GZWO'\n",
       "\\item 'GTEX-111FC-1026-SM-5GZX1'\n",
       "\\item 'GTEX-111FC-1126-SM-5GZWU'\n",
       "\\item 'GTEX-111FC-1326-SM-5N9D9'\n",
       "\\item 'GTEX-111FC-1426-SM-5N9C7'\n",
       "\\item 'GTEX-111FC-1926-SM-5GZYC'\n",
       "\\item 'GTEX-111FC-2026-SM-5GZYO'\n",
       "\\item 'GTEX-111FC-2526-SM-5GZXU'\n",
       "\\item 'GTEX-111FC-2926-SM-5GZY7'\n",
       "\\item 'GTEX-111FC-3026-SM-5GZYJ'\n",
       "\\item 'GTEX-111FC-3126-SM-5GZZ2'\n",
       "\\item 'GTEX-111FC-3326-SM-5GZYV'\n",
       "\\item 'GTEX-111VG-0004-SM-58Q85'\n",
       "\\item 'GTEX-111VG-0004-SM-6WBTS'\n",
       "\\item 'GTEX-111VG-0008-SM-5Q5BG'\n",
       "\\item 'GTEX-111VG-0326-SM-5GZX7'\n",
       "\\item 'GTEX-111VG-0526-SM-5N9BW'\n",
       "\\item 'GTEX-111VG-0726-SM-5GIDC'\n",
       "\\item 'GTEX-111VG-1626-SM-5EGIO'\n",
       "\\item 'GTEX-111VG-1926-SM-5GIDO'\n",
       "\\item 'GTEX-111VG-2226-SM-5N9DU'\n",
       "\\item 'GTEX-111VG-2326-SM-5N9BK'\n",
       "\\item 'GTEX-111VG-2426-SM-5GZXD'\n",
       "\\item 'GTEX-111VG-2526-SM-5GZXP'\n",
       "\\item 'GTEX-111VG-2626-SM-5GZY2'\n",
       "\\item 'GTEX-111YS-0004-SM-58Q7Y'\n",
       "\\item 'GTEX-111YS-0004-SM-6WBTN'\n",
       "\\item 'GTEX-111YS-0006-SM-5NQBE'\n",
       "\\item 'GTEX-111YS-0008-SM-5Q5BH'\n",
       "\\item 'GTEX-111YS-0126-SM-5987T'\n",
       "\\item 'GTEX-111YS-0326-SM-5GZZ3'\n",
       "\\item 'GTEX-111YS-0426-SM-5987O'\n",
       "\\item 'GTEX-111YS-0526-SM-5GZXJ'\n",
       "\\item 'GTEX-111YS-0626-SM-5GZXV'\n",
       "\\item 'GTEX-111YS-0726-SM-5GZY8'\n",
       "\\item 'GTEX-111YS-0826-SM-5GZYK'\n",
       "\\item 'GTEX-111YS-0926-SM-5EGGI'\n",
       "\\item 'GTEX-111YS-1026-SM-5GZYE'\n",
       "\\item 'GTEX-111YS-1126-SM-5GZYQ'\n",
       "\\item 'GTEX-111YS-1226-SM-5EGGJ'\n",
       "\\item 'GTEX-111YS-1326-SM-5EGGK'\n",
       "\\item 'GTEX-111YS-1426-SM-5GID8'\n",
       "\\item 'GTEX-111YS-1526-SM-5GZYW'\n",
       "\\item 'GTEX-111YS-1626-SM-5GZZ9'\n",
       "\\item 'GTEX-111YS-1726-SM-5GIED'\n",
       "\\item 'GTEX-111YS-1826-SM-5GIEP'\n",
       "\\item 'GTEX-111YS-1926-SM-5GICC'\n",
       "\\item 'GTEX-111YS-2026-SM-5EGGL'\n",
       "\\item 'GTEX-111YS-2126-SM-5EGGM'\n",
       "\\item 'GTEX-111YS-2226-SM-5987P'\n",
       "\\item 'GTEX-111YS-2326-SM-5987L'\n",
       "\\item 'GTEX-111YS-2426-SM-5GZZQ'\n",
       "\\item 'GTEX-1122O-0003-SM-5Q5DL'\n",
       "\\item 'GTEX-1122O-0004-SM-58Q7O'\n",
       "\\item 'GTEX-1122O-0004-SM-6WBTE'\n",
       "\\item 'GTEX-1122O-0005-SM-5O99J'\n",
       "\\item 'GTEX-1122O-0008-SM-5QGR2'\n",
       "\\item 'GTEX-1122O-0126-SM-5GICA'\n",
       "\\item 'GTEX-1122O-0226-SM-5N9DA'\n",
       "\\item 'GTEX-1122O-0326-SM-5H124'\n",
       "\\item 'GTEX-1122O-0426-SM-5H12G'\n",
       "\\item 'GTEX-1122O-0526-SM-5N9DM'\n",
       "\\item 'GTEX-1122O-0626-SM-5N9B9'\n",
       "\\item 'GTEX-1122O-0726-SM-5GIEV'\n",
       "\\item 'GTEX-1122O-0826-SM-5GICV'\n",
       "\\item 'GTEX-1122O-0926-SM-5N9C9'\n",
       "\\item 'GTEX-1122O-1126-SM-5NQ8X'\n",
       "\\item 'GTEX-1122O-1226-SM-5H113'\n",
       "\\item 'GTEX-1122O-1326-SM-5H11F'\n",
       "\\item 'GTEX-1122O-1426-SM-5H11R'\n",
       "\\item 'GTEX-1122O-1526-SM-5N9CL'\n",
       "\\item 'GTEX-1122O-1626-SM-5N9CX'\n",
       "\\item 'GTEX-1122O-1726-SM-5GICM'\n",
       "\\item 'GTEX-1122O-1826-SM-5EGIP'\n",
       "\\item 'GTEX-1122O-1926-SM-5EGIQ'\n",
       "\\item 'GTEX-1122O-2026-SM-5NQ91'\n",
       "\\item 'GTEX-1122O-2126-SM-5EGIR'\n",
       "\\item 'GTEX-1122O-2426-SM-5GIDN'\n",
       "\\item 'GTEX-1128S-0001-SM-58Q96'\n",
       "\\item 'GTEX-1128S-0001-SM-6WBUH'\n",
       "\\item 'GTEX-1128S-0005-SM-5P9HI'\n",
       "\\item 'GTEX-1128S-0008-SM-5Q5DP'\n",
       "\\item 'GTEX-1128S-0126-SM-5H12S'\n",
       "\\item 'GTEX-1128S-0326-SM-5GZZF'\n",
       "\\item 'GTEX-1128S-0726-SM-5N9D6'\n",
       "\\item 'GTEX-1128S-0826-SM-5GZZI'\n",
       "\\item 'GTEX-1128S-0926-SM-5GZZU'\n",
       "\\item 'GTEX-1128S-1626-SM-5H12O'\n",
       "\\item 'GTEX-1128S-2126-SM-5H12U'\n",
       "\\item 'GTEX-1128S-2326-SM-5GZZY'\n",
       "\\item 'GTEX-1128S-2426-SM-5H11B'\n",
       "\\item 'GTEX-1128S-2526-SM-5H11N'\n",
       "\\item 'GTEX-1128S-2626-SM-5H11Z'\n",
       "\\item 'GTEX-1128S-2726-SM-5H12C'\n",
       "\\item 'GTEX-1128S-2826-SM-5N9DI'\n",
       "\\item 'GTEX-113IC-0001-SM-58Q97'\n",
       "\\item 'GTEX-113IC-0006-SM-5NQ9C'\n",
       "\\item 'GTEX-113IC-0008-SM-5QGRF'\n",
       "\\item 'GTEX-113IC-0126-SM-5HL6T'\n",
       "\\item 'GTEX-113IC-0226-SM-5HL5C'\n",
       "\\item 'GTEX-113IC-0426-SM-5HL5O'\n",
       "\\item 'GTEX-113IC-0526-SM-5HL76'\n",
       "\\item 'GTEX-113JC-0001-SM-58Q7M'\n",
       "\\item 'GTEX-113JC-0001-SM-6WBTD'\n",
       "\\item 'GTEX-113JC-0006-SM-5O997'\n",
       "\\item 'GTEX-113JC-0008-SM-5QGR6'\n",
       "\\item 'GTEX-113JC-0126-SM-5EGJW'\n",
       "\\item 'GTEX-113JC-0726-SM-5GZZR'\n",
       "\\item 'GTEX-113JC-0926-SM-5H114'\n",
       "\\item 'GTEX-113JC-1026-SM-5H117'\n",
       "\\item 'GTEX-113JC-1926-SM-5N9GE'\n",
       "\\item 'GTEX-113JC-2226-SM-5EGJG'\n",
       "\\item 'GTEX-113JC-2326-SM-5EQ4E'\n",
       "\\item 'GTEX-113JC-2726-SM-5EGIS'\n",
       "\\item 'GTEX-113JC-2826-SM-5EGIT'\n",
       "\\item 'GTEX-117XS-0001-SM-58Q7J'\n",
       "\\item 'GTEX-117XS-0001-SM-6WBTA'\n",
       "\\item 'GTEX-117XS-0005-SM-5PNU6'\n",
       "\\item 'GTEX-117XS-0008-SM-5Q5DQ'\n",
       "\\item 'GTEX-117XS-0426-SM-5GZZN'\n",
       "\\item 'GTEX-117XS-0526-SM-5987Q'\n",
       "\\item 'GTEX-117XS-0726-SM-5H131'\n",
       "\\item 'GTEX-117XS-1926-SM-5GICO'\n",
       "\\item 'GTEX-117XS-2026-SM-5GID1'\n",
       "\\item 'GTEX-117XS-2226-SM-5GIE1'\n",
       "\\item 'GTEX-117XS-2526-SM-5H11G'\n",
       "\\item 'GTEX-117XS-2726-SM-5N9BL'\n",
       "\\item 'GTEX-117XS-2926-SM-5N9BX'\n",
       "\\item 'GTEX-117XS-3026-SM-5N9CA'\n",
       "\\item 'GTEX-117XS-3126-SM-5GIDP'\n",
       "\\item 'GTEX-117YW-0003-SM-58Q99'\n",
       "\\item 'GTEX-117YW-0003-SM-6WBSY'\n",
       "\\item 'GTEX-117YW-0005-SM-5NQ8Z'\n",
       "\\item 'GTEX-117YW-0008-SM-5QGRD'\n",
       "\\item 'GTEX-117YW-0126-SM-5EGGN'\n",
       "\\item 'GTEX-117YW-0226-SM-5N9CM'\n",
       "\\item 'GTEX-117YW-0326-SM-5N9CY'\n",
       "\\item 'GTEX-117YW-0426-SM-5GZZZ'\n",
       "\\item 'GTEX-117YW-0526-SM-5H11C'\n",
       "\\item 'GTEX-117YW-0826-SM-5H11O'\n",
       "\\item 'GTEX-117YW-1426-SM-5EGGO'\n",
       "\\item 'GTEX-117YW-1526-SM-5EGGP'\n",
       "\\item 'GTEX-117YW-1826-SM-5PNY5'\n",
       "\\item 'GTEX-117YW-1926-SM-5H121'\n",
       "\\item 'GTEX-117YW-2026-SM-5N9BH'\n",
       "\\item 'GTEX-117YW-2226-SM-5N9DB'\n",
       "\\item 'GTEX-117YW-2426-SM-5Q5AE'\n",
       "\\item 'GTEX-117YW-2626-SM-5GZZH'\n",
       "\\item 'GTEX-117YW-2726-SM-5GZZT'\n",
       "\\item 'GTEX-117YW-2826-SM-5H116'\n",
       "\\item 'GTEX-117YW-2926-SM-5GIEQ'\n",
       "\\item 'GTEX-117YX-0001-SM-5DU4O'\n",
       "\\item 'GTEX-117YX-0001-SM-7DRQ6'\n",
       "\\item 'GTEX-117YX-0126-SM-5EGH5'\n",
       "\\item 'GTEX-117YX-0226-SM-5EGH6'\n",
       "\\item ⋯\n",
       "\\item 'K-562-SM-4MVNA'\n",
       "\\item 'K-562-SM-4OOR8'\n",
       "\\item 'K-562-SM-4PQYN'\n",
       "\\item 'K-562-SM-4QAR5'\n",
       "\\item 'K-562-SM-4R59E'\n",
       "\\item 'K-562-SM-4RGL3'\n",
       "\\item 'K-562-SM-4RH3A'\n",
       "\\item 'K-562-SM-4RTUY'\n",
       "\\item 'K-562-SM-4SOHT'\n",
       "\\item 'K-562-SM-4SOLN'\n",
       "\\item 'K-562-SM-4T8CH'\n",
       "\\item 'K-562-SM-4TT1D'\n",
       "\\item 'K-562-SM-4TT6S'\n",
       "\\item 'K-562-SM-4U82S'\n",
       "\\item 'K-562-SM-4V81D'\n",
       "\\item 'K-562-SM-4VBPT'\n",
       "\\item 'K-562-SM-4VDQQ'\n",
       "\\item 'K-562-SM-4W1Y5'\n",
       "\\item 'K-562-SM-4WAWH'\n",
       "\\item 'K-562-SM-4WKF1'\n",
       "\\item 'K-562-SM-4WWAK'\n",
       "\\item 'K-562-SM-4YCCQ'\n",
       "\\item 'K-562-SM-51MQT'\n",
       "\\item 'K-562-SM-57WAW'\n",
       "\\item 'K-562-SM-59HJ4'\n",
       "\\item 'K-562-SM-5CVL5'\n",
       "\\item 'K-562-SM-5DUV6'\n",
       "\\item 'K-562-SM-5E43B'\n",
       "\\item 'K-562-SM-5GZWN'\n",
       "\\item 'K-562-SM-5GZZE'\n",
       "\\item 'K-562-SM-5HL4J'\n",
       "\\item 'K-562-SM-5HL7A'\n",
       "\\item 'K-562-SM-5IFEL'\n",
       "\\item 'K-562-SM-5IFHC'\n",
       "\\item 'K-562-SM-5IJB7'\n",
       "\\item 'K-562-SM-5IJDX'\n",
       "\\item 'K-562-SM-5J1MB'\n",
       "\\item 'K-562-SM-5J2LX'\n",
       "\\item 'K-562-SM-5K7TT'\n",
       "\\item 'K-562-SM-5K7WK'\n",
       "\\item 'K-562-SM-5K7ZB'\n",
       "\\item 'K-562-SM-5KM2I'\n",
       "\\item 'K-562-SM-5L3FO'\n",
       "\\item 'K-562-SM-5LU2Y'\n",
       "\\item 'K-562-SM-5LU8G'\n",
       "\\item 'K-562-SM-5LZU1'\n",
       "\\item 'K-562-SM-5LZWR'\n",
       "\\item 'K-562-SM-5MR32'\n",
       "\\item 'K-562-SM-5MR5S'\n",
       "\\item 'K-562-SM-5N9B7'\n",
       "\\item 'K-562-SM-5N9DX'\n",
       "\\item 'K-562-SM-5NQ6M'\n",
       "\\item 'K-562-SM-5NQ9D'\n",
       "\\item 'K-562-SM-5O98J'\n",
       "\\item 'K-562-SM-5O9BA'\n",
       "\\item 'K-562-SM-5P9EQ'\n",
       "\\item 'K-562-SM-5P9HH'\n",
       "\\item 'K-562-SM-5PNU4'\n",
       "\\item 'K-562-SM-5PNWU'\n",
       "\\item 'K-562-SM-5Q59U'\n",
       "\\item 'K-562-SM-5Q5CL'\n",
       "\\item 'K-562-SM-5QGOR'\n",
       "\\item 'K-562-SM-5RQHM'\n",
       "\\item 'K-562-SM-66EY4'\n",
       "\\item 'K-562-SM-686YS'\n",
       "\\item 'K-562-SM-69LO5'\n",
       "\\item 'K-562-SM-6AJ95'\n",
       "\\item 'K-562-SM-6ETZI'\n",
       "\\item 'K-562-SM-6LLH2'\n",
       "\\item 'K-562-SM-6LPHZ'\n",
       "\\item 'K-562-SM-6M461'\n",
       "\\item 'K-562-SM-6PAL1'\n",
       "\\item 'K-562-SM-7189B'\n",
       "\\item 'K-562-SM-72D4W'\n",
       "\\item 'K-562-SM-731AF'\n",
       "\\item 'K-562-SM-731D6'\n",
       "\\item 'K-562-SM-73KTR'\n",
       "\\item 'K-562-SM-73KWI'\n",
       "\\item 'K-562-SM-7938F'\n",
       "\\item 'K-562-SM-793B6'\n",
       "\\item 'K-562-SM-79OJI'\n",
       "\\item 'K-562-SM-79OM9'\n",
       "\\item 'K-562-SM-7DHKI'\n",
       "\\item 'K-562-SM-7DUEE'\n",
       "\\item 'K-562-SM-7EPG4'\n",
       "\\item 'K-562-SM-7EWCW'\n",
       "\\item 'K-562-SM-7IGL8'\n",
       "\\item 'K-562-SM-7IGNY'\n",
       "\\item 'K-562-SM-7KFRB'\n",
       "\\item 'K-562-SM-7KUDR'\n",
       "\\item 'K-562-SM-7KUKI'\n",
       "\\item 'K-562-SM-7LG4B'\n",
       "\\item 'K-562-SM-7LT88'\n",
       "\\item 'K-562-SM-7MKF2'\n",
       "\\item 'NA12878'\n",
       "\\item 'NA12891'\n",
       "\\item 'NA12892'\n",
       "\\item 'NA18910'\n",
       "\\item 'NA19017'\n",
       "\\item 'NA19019'\n",
       "\\item 'NA19020'\n",
       "\\item 'NA19023'\n",
       "\\item 'NA19024'\n",
       "\\item 'NA19025'\n",
       "\\item 'NA19026'\n",
       "\\item 'NA19027'\n",
       "\\item 'NA19028'\n",
       "\\item 'NA19030'\n",
       "\\item 'NA19031'\n",
       "\\item 'NA19035'\n",
       "\\item 'NA19036'\n",
       "\\item 'NA19037'\n",
       "\\item 'NA19038'\n",
       "\\item 'NA19041'\n",
       "\\item 'NA19042'\n",
       "\\item 'NA19043'\n",
       "\\item 'NA19200'\n",
       "\\item 'NA19307'\n",
       "\\item 'NA19308'\n",
       "\\item 'NA19309'\n",
       "\\item 'NA19310'\n",
       "\\item 'NA19311'\n",
       "\\item 'NA19312'\n",
       "\\item 'NA19313'\n",
       "\\item 'NA19314'\n",
       "\\item 'NA19315'\n",
       "\\item 'NA19316'\n",
       "\\item 'NA19317'\n",
       "\\item 'NA19318'\n",
       "\\item 'NA19319'\n",
       "\\item 'NA19320'\n",
       "\\item 'NA19321'\n",
       "\\item 'NA19323'\n",
       "\\item 'NA19324'\n",
       "\\item 'NA19327'\n",
       "\\item 'NA19328'\n",
       "\\item 'NA19331'\n",
       "\\item 'NA19332'\n",
       "\\item 'NA19334'\n",
       "\\item 'NA19338'\n",
       "\\item 'NA19346'\n",
       "\\item 'NA19347'\n",
       "\\item 'NA19350'\n",
       "\\item 'NA19351'\n",
       "\\item 'NA19355'\n",
       "\\item 'NA19360'\n",
       "\\item 'NA19372'\n",
       "\\item 'NA19374'\n",
       "\\item 'NA19375'\n",
       "\\item 'NA19376'\n",
       "\\item 'NA19377'\n",
       "\\item 'NA19378'\n",
       "\\item 'NA19379'\n",
       "\\item 'NA19380'\n",
       "\\item 'NA19383'\n",
       "\\item 'NA19384'\n",
       "\\item 'NA19385'\n",
       "\\item 'NA19390'\n",
       "\\item 'NA19391'\n",
       "\\item 'NA19393'\n",
       "\\item 'NA19394'\n",
       "\\item 'NA19395'\n",
       "\\item 'NA19397'\n",
       "\\item 'NA19399'\n",
       "\\item 'NA19401'\n",
       "\\item 'NA19403'\n",
       "\\item 'NA19404'\n",
       "\\item 'NA19428'\n",
       "\\item 'NA19429'\n",
       "\\item 'NA19430'\n",
       "\\item 'NA19431'\n",
       "\\item 'NA19434'\n",
       "\\item 'NA19435'\n",
       "\\item 'NA19436'\n",
       "\\item 'NA19437'\n",
       "\\item 'NA19438'\n",
       "\\item 'NA19439'\n",
       "\\item 'NA19440'\n",
       "\\item 'NA19443'\n",
       "\\item 'NA19445'\n",
       "\\item 'NA19446'\n",
       "\\item 'NA19448'\n",
       "\\item 'NA19449'\n",
       "\\item 'NA19451'\n",
       "\\item 'NA19452'\n",
       "\\item 'NA19454'\n",
       "\\item 'NA19455'\n",
       "\\item 'NA19456'\n",
       "\\item 'NA19457'\n",
       "\\item 'NA19461'\n",
       "\\item 'NA19462'\n",
       "\\item 'NA19463'\n",
       "\\item 'NA19466'\n",
       "\\item 'NA19467'\n",
       "\\item 'NA19468'\n",
       "\\item 'NA19471'\n",
       "\\item 'NA19472'\n",
       "\\item 'NA19473'\n",
       "\\item 'NA19474'\n",
       "\\item 'NA19475'\n",
       "\\end{enumerate*}\n"
      ],
      "text/markdown": [
       "GTEX-WI4N-1426-SM-3LK7H\n",
       "**Levels**: 1. 'GTEX-1117F-0003-SM-58Q7G'\n",
       "2. 'GTEX-1117F-0003-SM-6WBT7'\n",
       "3. 'GTEX-1117F-0226-SM-5GZZ7'\n",
       "4. 'GTEX-1117F-0426-SM-5EGHI'\n",
       "5. 'GTEX-1117F-0526-SM-5EGHJ'\n",
       "6. 'GTEX-1117F-0626-SM-5N9CS'\n",
       "7. 'GTEX-1117F-0726-SM-5GIEN'\n",
       "8. 'GTEX-1117F-1326-SM-5EGHH'\n",
       "9. 'GTEX-1117F-2226-SM-5N9CH'\n",
       "10. 'GTEX-1117F-2426-SM-5EGGH'\n",
       "11. 'GTEX-1117F-2526-SM-5GZY6'\n",
       "12. 'GTEX-1117F-2826-SM-5GZXL'\n",
       "13. 'GTEX-1117F-2926-SM-5GZYI'\n",
       "14. 'GTEX-1117F-3026-SM-5GZYU'\n",
       "15. 'GTEX-1117F-3226-SM-5N9CT'\n",
       "16. 'GTEX-111CU-0003-SM-58Q95'\n",
       "17. 'GTEX-111CU-0003-SM-6WBUD'\n",
       "18. 'GTEX-111CU-0126-SM-5GZWZ'\n",
       "19. 'GTEX-111CU-0226-SM-5GZXC'\n",
       "20. 'GTEX-111CU-0326-SM-5GZXO'\n",
       "21. 'GTEX-111CU-0426-SM-5GZY1'\n",
       "22. 'GTEX-111CU-0526-SM-5EGHK'\n",
       "23. 'GTEX-111CU-0626-SM-5EGHL'\n",
       "24. 'GTEX-111CU-0726-SM-5GZYD'\n",
       "25. 'GTEX-111CU-0826-SM-5EGIJ'\n",
       "26. 'GTEX-111CU-0926-SM-5EGIK'\n",
       "27. 'GTEX-111CU-1026-SM-5EGIL'\n",
       "28. 'GTEX-111CU-1126-SM-5EGIM'\n",
       "29. 'GTEX-111CU-1226-SM-5EGIN'\n",
       "30. 'GTEX-111CU-1326-SM-5NQ8L'\n",
       "31. 'GTEX-111CU-1426-SM-5GZYP'\n",
       "32. 'GTEX-111CU-1526-SM-5N9FS'\n",
       "33. 'GTEX-111CU-1726-SM-5EGHM'\n",
       "34. 'GTEX-111CU-1826-SM-5GZYN'\n",
       "35. 'GTEX-111CU-1926-SM-5GZYZ'\n",
       "36. 'GTEX-111CU-2026-SM-5GZZC'\n",
       "37. 'GTEX-111CU-2226-SM-5N9G5'\n",
       "38. 'GTEX-111FC-0001-SM-58Q7U'\n",
       "39. 'GTEX-111FC-0001-SM-6WBTJ'\n",
       "40. 'GTEX-111FC-0126-SM-5N9DL'\n",
       "41. 'GTEX-111FC-0226-SM-5N9B8'\n",
       "42. 'GTEX-111FC-0326-SM-5GZZ1'\n",
       "43. 'GTEX-111FC-0426-SM-5N9CV'\n",
       "44. 'GTEX-111FC-0526-SM-5GZZ8'\n",
       "45. 'GTEX-111FC-0626-SM-5N9CU'\n",
       "46. 'GTEX-111FC-0826-SM-5GZWO'\n",
       "47. 'GTEX-111FC-1026-SM-5GZX1'\n",
       "48. 'GTEX-111FC-1126-SM-5GZWU'\n",
       "49. 'GTEX-111FC-1326-SM-5N9D9'\n",
       "50. 'GTEX-111FC-1426-SM-5N9C7'\n",
       "51. 'GTEX-111FC-1926-SM-5GZYC'\n",
       "52. 'GTEX-111FC-2026-SM-5GZYO'\n",
       "53. 'GTEX-111FC-2526-SM-5GZXU'\n",
       "54. 'GTEX-111FC-2926-SM-5GZY7'\n",
       "55. 'GTEX-111FC-3026-SM-5GZYJ'\n",
       "56. 'GTEX-111FC-3126-SM-5GZZ2'\n",
       "57. 'GTEX-111FC-3326-SM-5GZYV'\n",
       "58. 'GTEX-111VG-0004-SM-58Q85'\n",
       "59. 'GTEX-111VG-0004-SM-6WBTS'\n",
       "60. 'GTEX-111VG-0008-SM-5Q5BG'\n",
       "61. 'GTEX-111VG-0326-SM-5GZX7'\n",
       "62. 'GTEX-111VG-0526-SM-5N9BW'\n",
       "63. 'GTEX-111VG-0726-SM-5GIDC'\n",
       "64. 'GTEX-111VG-1626-SM-5EGIO'\n",
       "65. 'GTEX-111VG-1926-SM-5GIDO'\n",
       "66. 'GTEX-111VG-2226-SM-5N9DU'\n",
       "67. 'GTEX-111VG-2326-SM-5N9BK'\n",
       "68. 'GTEX-111VG-2426-SM-5GZXD'\n",
       "69. 'GTEX-111VG-2526-SM-5GZXP'\n",
       "70. 'GTEX-111VG-2626-SM-5GZY2'\n",
       "71. 'GTEX-111YS-0004-SM-58Q7Y'\n",
       "72. 'GTEX-111YS-0004-SM-6WBTN'\n",
       "73. 'GTEX-111YS-0006-SM-5NQBE'\n",
       "74. 'GTEX-111YS-0008-SM-5Q5BH'\n",
       "75. 'GTEX-111YS-0126-SM-5987T'\n",
       "76. 'GTEX-111YS-0326-SM-5GZZ3'\n",
       "77. 'GTEX-111YS-0426-SM-5987O'\n",
       "78. 'GTEX-111YS-0526-SM-5GZXJ'\n",
       "79. 'GTEX-111YS-0626-SM-5GZXV'\n",
       "80. 'GTEX-111YS-0726-SM-5GZY8'\n",
       "81. 'GTEX-111YS-0826-SM-5GZYK'\n",
       "82. 'GTEX-111YS-0926-SM-5EGGI'\n",
       "83. 'GTEX-111YS-1026-SM-5GZYE'\n",
       "84. 'GTEX-111YS-1126-SM-5GZYQ'\n",
       "85. 'GTEX-111YS-1226-SM-5EGGJ'\n",
       "86. 'GTEX-111YS-1326-SM-5EGGK'\n",
       "87. 'GTEX-111YS-1426-SM-5GID8'\n",
       "88. 'GTEX-111YS-1526-SM-5GZYW'\n",
       "89. 'GTEX-111YS-1626-SM-5GZZ9'\n",
       "90. 'GTEX-111YS-1726-SM-5GIED'\n",
       "91. 'GTEX-111YS-1826-SM-5GIEP'\n",
       "92. 'GTEX-111YS-1926-SM-5GICC'\n",
       "93. 'GTEX-111YS-2026-SM-5EGGL'\n",
       "94. 'GTEX-111YS-2126-SM-5EGGM'\n",
       "95. 'GTEX-111YS-2226-SM-5987P'\n",
       "96. 'GTEX-111YS-2326-SM-5987L'\n",
       "97. 'GTEX-111YS-2426-SM-5GZZQ'\n",
       "98. 'GTEX-1122O-0003-SM-5Q5DL'\n",
       "99. 'GTEX-1122O-0004-SM-58Q7O'\n",
       "100. 'GTEX-1122O-0004-SM-6WBTE'\n",
       "101. 'GTEX-1122O-0005-SM-5O99J'\n",
       "102. 'GTEX-1122O-0008-SM-5QGR2'\n",
       "103. 'GTEX-1122O-0126-SM-5GICA'\n",
       "104. 'GTEX-1122O-0226-SM-5N9DA'\n",
       "105. 'GTEX-1122O-0326-SM-5H124'\n",
       "106. 'GTEX-1122O-0426-SM-5H12G'\n",
       "107. 'GTEX-1122O-0526-SM-5N9DM'\n",
       "108. 'GTEX-1122O-0626-SM-5N9B9'\n",
       "109. 'GTEX-1122O-0726-SM-5GIEV'\n",
       "110. 'GTEX-1122O-0826-SM-5GICV'\n",
       "111. 'GTEX-1122O-0926-SM-5N9C9'\n",
       "112. 'GTEX-1122O-1126-SM-5NQ8X'\n",
       "113. 'GTEX-1122O-1226-SM-5H113'\n",
       "114. 'GTEX-1122O-1326-SM-5H11F'\n",
       "115. 'GTEX-1122O-1426-SM-5H11R'\n",
       "116. 'GTEX-1122O-1526-SM-5N9CL'\n",
       "117. 'GTEX-1122O-1626-SM-5N9CX'\n",
       "118. 'GTEX-1122O-1726-SM-5GICM'\n",
       "119. 'GTEX-1122O-1826-SM-5EGIP'\n",
       "120. 'GTEX-1122O-1926-SM-5EGIQ'\n",
       "121. 'GTEX-1122O-2026-SM-5NQ91'\n",
       "122. 'GTEX-1122O-2126-SM-5EGIR'\n",
       "123. 'GTEX-1122O-2426-SM-5GIDN'\n",
       "124. 'GTEX-1128S-0001-SM-58Q96'\n",
       "125. 'GTEX-1128S-0001-SM-6WBUH'\n",
       "126. 'GTEX-1128S-0005-SM-5P9HI'\n",
       "127. 'GTEX-1128S-0008-SM-5Q5DP'\n",
       "128. 'GTEX-1128S-0126-SM-5H12S'\n",
       "129. 'GTEX-1128S-0326-SM-5GZZF'\n",
       "130. 'GTEX-1128S-0726-SM-5N9D6'\n",
       "131. 'GTEX-1128S-0826-SM-5GZZI'\n",
       "132. 'GTEX-1128S-0926-SM-5GZZU'\n",
       "133. 'GTEX-1128S-1626-SM-5H12O'\n",
       "134. 'GTEX-1128S-2126-SM-5H12U'\n",
       "135. 'GTEX-1128S-2326-SM-5GZZY'\n",
       "136. 'GTEX-1128S-2426-SM-5H11B'\n",
       "137. 'GTEX-1128S-2526-SM-5H11N'\n",
       "138. 'GTEX-1128S-2626-SM-5H11Z'\n",
       "139. 'GTEX-1128S-2726-SM-5H12C'\n",
       "140. 'GTEX-1128S-2826-SM-5N9DI'\n",
       "141. 'GTEX-113IC-0001-SM-58Q97'\n",
       "142. 'GTEX-113IC-0006-SM-5NQ9C'\n",
       "143. 'GTEX-113IC-0008-SM-5QGRF'\n",
       "144. 'GTEX-113IC-0126-SM-5HL6T'\n",
       "145. 'GTEX-113IC-0226-SM-5HL5C'\n",
       "146. 'GTEX-113IC-0426-SM-5HL5O'\n",
       "147. 'GTEX-113IC-0526-SM-5HL76'\n",
       "148. 'GTEX-113JC-0001-SM-58Q7M'\n",
       "149. 'GTEX-113JC-0001-SM-6WBTD'\n",
       "150. 'GTEX-113JC-0006-SM-5O997'\n",
       "151. 'GTEX-113JC-0008-SM-5QGR6'\n",
       "152. 'GTEX-113JC-0126-SM-5EGJW'\n",
       "153. 'GTEX-113JC-0726-SM-5GZZR'\n",
       "154. 'GTEX-113JC-0926-SM-5H114'\n",
       "155. 'GTEX-113JC-1026-SM-5H117'\n",
       "156. 'GTEX-113JC-1926-SM-5N9GE'\n",
       "157. 'GTEX-113JC-2226-SM-5EGJG'\n",
       "158. 'GTEX-113JC-2326-SM-5EQ4E'\n",
       "159. 'GTEX-113JC-2726-SM-5EGIS'\n",
       "160. 'GTEX-113JC-2826-SM-5EGIT'\n",
       "161. 'GTEX-117XS-0001-SM-58Q7J'\n",
       "162. 'GTEX-117XS-0001-SM-6WBTA'\n",
       "163. 'GTEX-117XS-0005-SM-5PNU6'\n",
       "164. 'GTEX-117XS-0008-SM-5Q5DQ'\n",
       "165. 'GTEX-117XS-0426-SM-5GZZN'\n",
       "166. 'GTEX-117XS-0526-SM-5987Q'\n",
       "167. 'GTEX-117XS-0726-SM-5H131'\n",
       "168. 'GTEX-117XS-1926-SM-5GICO'\n",
       "169. 'GTEX-117XS-2026-SM-5GID1'\n",
       "170. 'GTEX-117XS-2226-SM-5GIE1'\n",
       "171. 'GTEX-117XS-2526-SM-5H11G'\n",
       "172. 'GTEX-117XS-2726-SM-5N9BL'\n",
       "173. 'GTEX-117XS-2926-SM-5N9BX'\n",
       "174. 'GTEX-117XS-3026-SM-5N9CA'\n",
       "175. 'GTEX-117XS-3126-SM-5GIDP'\n",
       "176. 'GTEX-117YW-0003-SM-58Q99'\n",
       "177. 'GTEX-117YW-0003-SM-6WBSY'\n",
       "178. 'GTEX-117YW-0005-SM-5NQ8Z'\n",
       "179. 'GTEX-117YW-0008-SM-5QGRD'\n",
       "180. 'GTEX-117YW-0126-SM-5EGGN'\n",
       "181. 'GTEX-117YW-0226-SM-5N9CM'\n",
       "182. 'GTEX-117YW-0326-SM-5N9CY'\n",
       "183. 'GTEX-117YW-0426-SM-5GZZZ'\n",
       "184. 'GTEX-117YW-0526-SM-5H11C'\n",
       "185. 'GTEX-117YW-0826-SM-5H11O'\n",
       "186. 'GTEX-117YW-1426-SM-5EGGO'\n",
       "187. 'GTEX-117YW-1526-SM-5EGGP'\n",
       "188. 'GTEX-117YW-1826-SM-5PNY5'\n",
       "189. 'GTEX-117YW-1926-SM-5H121'\n",
       "190. 'GTEX-117YW-2026-SM-5N9BH'\n",
       "191. 'GTEX-117YW-2226-SM-5N9DB'\n",
       "192. 'GTEX-117YW-2426-SM-5Q5AE'\n",
       "193. 'GTEX-117YW-2626-SM-5GZZH'\n",
       "194. 'GTEX-117YW-2726-SM-5GZZT'\n",
       "195. 'GTEX-117YW-2826-SM-5H116'\n",
       "196. 'GTEX-117YW-2926-SM-5GIEQ'\n",
       "197. 'GTEX-117YX-0001-SM-5DU4O'\n",
       "198. 'GTEX-117YX-0001-SM-7DRQ6'\n",
       "199. 'GTEX-117YX-0126-SM-5EGH5'\n",
       "200. 'GTEX-117YX-0226-SM-5EGH6'\n",
       "201. ⋯\n",
       "202. 'K-562-SM-4MVNA'\n",
       "203. 'K-562-SM-4OOR8'\n",
       "204. 'K-562-SM-4PQYN'\n",
       "205. 'K-562-SM-4QAR5'\n",
       "206. 'K-562-SM-4R59E'\n",
       "207. 'K-562-SM-4RGL3'\n",
       "208. 'K-562-SM-4RH3A'\n",
       "209. 'K-562-SM-4RTUY'\n",
       "210. 'K-562-SM-4SOHT'\n",
       "211. 'K-562-SM-4SOLN'\n",
       "212. 'K-562-SM-4T8CH'\n",
       "213. 'K-562-SM-4TT1D'\n",
       "214. 'K-562-SM-4TT6S'\n",
       "215. 'K-562-SM-4U82S'\n",
       "216. 'K-562-SM-4V81D'\n",
       "217. 'K-562-SM-4VBPT'\n",
       "218. 'K-562-SM-4VDQQ'\n",
       "219. 'K-562-SM-4W1Y5'\n",
       "220. 'K-562-SM-4WAWH'\n",
       "221. 'K-562-SM-4WKF1'\n",
       "222. 'K-562-SM-4WWAK'\n",
       "223. 'K-562-SM-4YCCQ'\n",
       "224. 'K-562-SM-51MQT'\n",
       "225. 'K-562-SM-57WAW'\n",
       "226. 'K-562-SM-59HJ4'\n",
       "227. 'K-562-SM-5CVL5'\n",
       "228. 'K-562-SM-5DUV6'\n",
       "229. 'K-562-SM-5E43B'\n",
       "230. 'K-562-SM-5GZWN'\n",
       "231. 'K-562-SM-5GZZE'\n",
       "232. 'K-562-SM-5HL4J'\n",
       "233. 'K-562-SM-5HL7A'\n",
       "234. 'K-562-SM-5IFEL'\n",
       "235. 'K-562-SM-5IFHC'\n",
       "236. 'K-562-SM-5IJB7'\n",
       "237. 'K-562-SM-5IJDX'\n",
       "238. 'K-562-SM-5J1MB'\n",
       "239. 'K-562-SM-5J2LX'\n",
       "240. 'K-562-SM-5K7TT'\n",
       "241. 'K-562-SM-5K7WK'\n",
       "242. 'K-562-SM-5K7ZB'\n",
       "243. 'K-562-SM-5KM2I'\n",
       "244. 'K-562-SM-5L3FO'\n",
       "245. 'K-562-SM-5LU2Y'\n",
       "246. 'K-562-SM-5LU8G'\n",
       "247. 'K-562-SM-5LZU1'\n",
       "248. 'K-562-SM-5LZWR'\n",
       "249. 'K-562-SM-5MR32'\n",
       "250. 'K-562-SM-5MR5S'\n",
       "251. 'K-562-SM-5N9B7'\n",
       "252. 'K-562-SM-5N9DX'\n",
       "253. 'K-562-SM-5NQ6M'\n",
       "254. 'K-562-SM-5NQ9D'\n",
       "255. 'K-562-SM-5O98J'\n",
       "256. 'K-562-SM-5O9BA'\n",
       "257. 'K-562-SM-5P9EQ'\n",
       "258. 'K-562-SM-5P9HH'\n",
       "259. 'K-562-SM-5PNU4'\n",
       "260. 'K-562-SM-5PNWU'\n",
       "261. 'K-562-SM-5Q59U'\n",
       "262. 'K-562-SM-5Q5CL'\n",
       "263. 'K-562-SM-5QGOR'\n",
       "264. 'K-562-SM-5RQHM'\n",
       "265. 'K-562-SM-66EY4'\n",
       "266. 'K-562-SM-686YS'\n",
       "267. 'K-562-SM-69LO5'\n",
       "268. 'K-562-SM-6AJ95'\n",
       "269. 'K-562-SM-6ETZI'\n",
       "270. 'K-562-SM-6LLH2'\n",
       "271. 'K-562-SM-6LPHZ'\n",
       "272. 'K-562-SM-6M461'\n",
       "273. 'K-562-SM-6PAL1'\n",
       "274. 'K-562-SM-7189B'\n",
       "275. 'K-562-SM-72D4W'\n",
       "276. 'K-562-SM-731AF'\n",
       "277. 'K-562-SM-731D6'\n",
       "278. 'K-562-SM-73KTR'\n",
       "279. 'K-562-SM-73KWI'\n",
       "280. 'K-562-SM-7938F'\n",
       "281. 'K-562-SM-793B6'\n",
       "282. 'K-562-SM-79OJI'\n",
       "283. 'K-562-SM-79OM9'\n",
       "284. 'K-562-SM-7DHKI'\n",
       "285. 'K-562-SM-7DUEE'\n",
       "286. 'K-562-SM-7EPG4'\n",
       "287. 'K-562-SM-7EWCW'\n",
       "288. 'K-562-SM-7IGL8'\n",
       "289. 'K-562-SM-7IGNY'\n",
       "290. 'K-562-SM-7KFRB'\n",
       "291. 'K-562-SM-7KUDR'\n",
       "292. 'K-562-SM-7KUKI'\n",
       "293. 'K-562-SM-7LG4B'\n",
       "294. 'K-562-SM-7LT88'\n",
       "295. 'K-562-SM-7MKF2'\n",
       "296. 'NA12878'\n",
       "297. 'NA12891'\n",
       "298. 'NA12892'\n",
       "299. 'NA18910'\n",
       "300. 'NA19017'\n",
       "301. 'NA19019'\n",
       "302. 'NA19020'\n",
       "303. 'NA19023'\n",
       "304. 'NA19024'\n",
       "305. 'NA19025'\n",
       "306. 'NA19026'\n",
       "307. 'NA19027'\n",
       "308. 'NA19028'\n",
       "309. 'NA19030'\n",
       "310. 'NA19031'\n",
       "311. 'NA19035'\n",
       "312. 'NA19036'\n",
       "313. 'NA19037'\n",
       "314. 'NA19038'\n",
       "315. 'NA19041'\n",
       "316. 'NA19042'\n",
       "317. 'NA19043'\n",
       "318. 'NA19200'\n",
       "319. 'NA19307'\n",
       "320. 'NA19308'\n",
       "321. 'NA19309'\n",
       "322. 'NA19310'\n",
       "323. 'NA19311'\n",
       "324. 'NA19312'\n",
       "325. 'NA19313'\n",
       "326. 'NA19314'\n",
       "327. 'NA19315'\n",
       "328. 'NA19316'\n",
       "329. 'NA19317'\n",
       "330. 'NA19318'\n",
       "331. 'NA19319'\n",
       "332. 'NA19320'\n",
       "333. 'NA19321'\n",
       "334. 'NA19323'\n",
       "335. 'NA19324'\n",
       "336. 'NA19327'\n",
       "337. 'NA19328'\n",
       "338. 'NA19331'\n",
       "339. 'NA19332'\n",
       "340. 'NA19334'\n",
       "341. 'NA19338'\n",
       "342. 'NA19346'\n",
       "343. 'NA19347'\n",
       "344. 'NA19350'\n",
       "345. 'NA19351'\n",
       "346. 'NA19355'\n",
       "347. 'NA19360'\n",
       "348. 'NA19372'\n",
       "349. 'NA19374'\n",
       "350. 'NA19375'\n",
       "351. 'NA19376'\n",
       "352. 'NA19377'\n",
       "353. 'NA19378'\n",
       "354. 'NA19379'\n",
       "355. 'NA19380'\n",
       "356. 'NA19383'\n",
       "357. 'NA19384'\n",
       "358. 'NA19385'\n",
       "359. 'NA19390'\n",
       "360. 'NA19391'\n",
       "361. 'NA19393'\n",
       "362. 'NA19394'\n",
       "363. 'NA19395'\n",
       "364. 'NA19397'\n",
       "365. 'NA19399'\n",
       "366. 'NA19401'\n",
       "367. 'NA19403'\n",
       "368. 'NA19404'\n",
       "369. 'NA19428'\n",
       "370. 'NA19429'\n",
       "371. 'NA19430'\n",
       "372. 'NA19431'\n",
       "373. 'NA19434'\n",
       "374. 'NA19435'\n",
       "375. 'NA19436'\n",
       "376. 'NA19437'\n",
       "377. 'NA19438'\n",
       "378. 'NA19439'\n",
       "379. 'NA19440'\n",
       "380. 'NA19443'\n",
       "381. 'NA19445'\n",
       "382. 'NA19446'\n",
       "383. 'NA19448'\n",
       "384. 'NA19449'\n",
       "385. 'NA19451'\n",
       "386. 'NA19452'\n",
       "387. 'NA19454'\n",
       "388. 'NA19455'\n",
       "389. 'NA19456'\n",
       "390. 'NA19457'\n",
       "391. 'NA19461'\n",
       "392. 'NA19462'\n",
       "393. 'NA19463'\n",
       "394. 'NA19466'\n",
       "395. 'NA19467'\n",
       "396. 'NA19468'\n",
       "397. 'NA19471'\n",
       "398. 'NA19472'\n",
       "399. 'NA19473'\n",
       "400. 'NA19474'\n",
       "401. 'NA19475'\n",
       "\n",
       "\n"
      ],
      "text/plain": [
       "[1] GTEX-WI4N-1426-SM-3LK7H\n",
       "14224 Levels: GTEX-1117F-0003-SM-58Q7G ... NA19475"
      ]
     },
     "metadata": {},
     "output_type": "display_data"
    },
    {
     "data": {
      "text/html": [
       "'GTEX.WI4N.1426.SM.3LK7H'"
      ],
      "text/latex": [
       "'GTEX.WI4N.1426.SM.3LK7H'"
      ],
      "text/markdown": [
       "'GTEX.WI4N.1426.SM.3LK7H'"
      ],
      "text/plain": [
       "[1] \"GTEX.WI4N.1426.SM.3LK7H\""
      ]
     },
     "metadata": {},
     "output_type": "display_data"
    }
   ],
   "source": [
    "meta.data$Sample.Name[1]\n",
    "gsub(\"-\",\"\\\\.\",meta.data$Sample.Name[1])"
   ]
  },
  {
   "cell_type": "code",
   "execution_count": 56,
   "metadata": {},
   "outputs": [],
   "source": [
    "meta.data$Sample.Name   <- gsub(\"-\",\"\\\\.\",meta.data$Sample.Name)"
   ]
  },
  {
   "cell_type": "code",
   "execution_count": 57,
   "metadata": {},
   "outputs": [
    {
     "data": {
      "text/html": [
       "<style>\n",
       ".list-inline {list-style: none; margin:0; padding: 0}\n",
       ".list-inline>li {display: inline-block}\n",
       ".list-inline>li:not(:last-child)::after {content: \"\\00b7\"; padding: 0 .5ex}\n",
       "</style>\n",
       "<ol class=list-inline><li>526</li><li>79</li></ol>\n"
      ],
      "text/latex": [
       "\\begin{enumerate*}\n",
       "\\item 526\n",
       "\\item 79\n",
       "\\end{enumerate*}\n"
      ],
      "text/markdown": [
       "1. 526\n",
       "2. 79\n",
       "\n",
       "\n"
      ],
      "text/plain": [
       "[1] 526  79"
      ]
     },
     "metadata": {},
     "output_type": "display_data"
    },
    {
     "data": {
      "text/html": [
       "<style>\n",
       ".list-inline {list-style: none; margin:0; padding: 0}\n",
       ".list-inline>li {display: inline-block}\n",
       ".list-inline>li:not(:last-child)::after {content: \"\\00b7\"; padding: 0 .5ex}\n",
       "</style>\n",
       "<ol class=list-inline><li>500</li><li>79</li></ol>\n"
      ],
      "text/latex": [
       "\\begin{enumerate*}\n",
       "\\item 500\n",
       "\\item 79\n",
       "\\end{enumerate*}\n"
      ],
      "text/markdown": [
       "1. 500\n",
       "2. 79\n",
       "\n",
       "\n"
      ],
      "text/plain": [
       "[1] 500  79"
      ]
     },
     "metadata": {},
     "output_type": "display_data"
    }
   ],
   "source": [
    "dim(meta.data)\n",
    "meta.data               <- meta.data[meta.data$Sample.Name %in% colnames(expression.mat),]\n",
    "dim(meta.data)"
   ]
  },
  {
   "cell_type": "code",
   "execution_count": 58,
   "metadata": {},
   "outputs": [
    {
     "data": {
      "text/html": [
       "<table>\n",
       "<caption>A data.frame: 1 × 11690</caption>\n",
       "<thead>\n",
       "\t<tr><th></th><th scope=col>Name</th><th scope=col>Description</th><th scope=col>GTEX.1117F.0226.SM.5GZZ7</th><th scope=col>GTEX.111CU.1826.SM.5GZYN</th><th scope=col>GTEX.111FC.0226.SM.5N9B8</th><th scope=col>GTEX.111VG.2326.SM.5N9BK</th><th scope=col>GTEX.111YS.2426.SM.5GZZQ</th><th scope=col>GTEX.1122O.2026.SM.5NQ91</th><th scope=col>GTEX.1128S.2126.SM.5H12U</th><th scope=col>GTEX.113IC.0226.SM.5HL5C</th><th scope=col>⋯</th><th scope=col>GTEX.ZVE2.0006.SM.51MRW</th><th scope=col>GTEX.ZVP2.0005.SM.51MRK</th><th scope=col>GTEX.ZVT2.0005.SM.57WBW</th><th scope=col>GTEX.ZVT3.0006.SM.51MT9</th><th scope=col>GTEX.ZVT4.0006.SM.57WB8</th><th scope=col>GTEX.ZVTK.0006.SM.57WBK</th><th scope=col>GTEX.ZVZP.0006.SM.51MSW</th><th scope=col>GTEX.ZVZQ.0006.SM.51MR8</th><th scope=col>GTEX.ZXES.0005.SM.57WCB</th><th scope=col>GTEX.ZXG5.0005.SM.57WCN</th></tr>\n",
       "\t<tr><th></th><th scope=col>&lt;fct&gt;</th><th scope=col>&lt;fct&gt;</th><th scope=col>&lt;dbl&gt;</th><th scope=col>&lt;dbl&gt;</th><th scope=col>&lt;dbl&gt;</th><th scope=col>&lt;dbl&gt;</th><th scope=col>&lt;int&gt;</th><th scope=col>&lt;dbl&gt;</th><th scope=col>&lt;dbl&gt;</th><th scope=col>&lt;dbl&gt;</th><th scope=col>⋯</th><th scope=col>&lt;dbl&gt;</th><th scope=col>&lt;dbl&gt;</th><th scope=col>&lt;dbl&gt;</th><th scope=col>&lt;int&gt;</th><th scope=col>&lt;dbl&gt;</th><th scope=col>&lt;dbl&gt;</th><th scope=col>&lt;dbl&gt;</th><th scope=col>&lt;dbl&gt;</th><th scope=col>&lt;dbl&gt;</th><th scope=col>&lt;dbl&gt;</th></tr>\n",
       "</thead>\n",
       "<tbody>\n",
       "\t<tr><th scope=row>1</th><td>ENSG00000223972.4</td><td>DDX11L1</td><td>0.1082</td><td>0.1158</td><td>0.02104</td><td>0.02329</td><td>0</td><td>0.04641</td><td>0.03076</td><td>0.09358</td><td>⋯</td><td>0.09012</td><td>0.1462</td><td>0.1045</td><td>0</td><td>0.6603</td><td>0.695</td><td>0.1213</td><td>0.4169</td><td>0.2355</td><td>0.145</td></tr>\n",
       "</tbody>\n",
       "</table>\n"
      ],
      "text/latex": [
       "A data.frame: 1 × 11690\n",
       "\\begin{tabular}{r|lllllllllllllllllllll}\n",
       "  & Name & Description & GTEX.1117F.0226.SM.5GZZ7 & GTEX.111CU.1826.SM.5GZYN & GTEX.111FC.0226.SM.5N9B8 & GTEX.111VG.2326.SM.5N9BK & GTEX.111YS.2426.SM.5GZZQ & GTEX.1122O.2026.SM.5NQ91 & GTEX.1128S.2126.SM.5H12U & GTEX.113IC.0226.SM.5HL5C & ⋯ & GTEX.ZVE2.0006.SM.51MRW & GTEX.ZVP2.0005.SM.51MRK & GTEX.ZVT2.0005.SM.57WBW & GTEX.ZVT3.0006.SM.51MT9 & GTEX.ZVT4.0006.SM.57WB8 & GTEX.ZVTK.0006.SM.57WBK & GTEX.ZVZP.0006.SM.51MSW & GTEX.ZVZQ.0006.SM.51MR8 & GTEX.ZXES.0005.SM.57WCB & GTEX.ZXG5.0005.SM.57WCN\\\\\n",
       "  & <fct> & <fct> & <dbl> & <dbl> & <dbl> & <dbl> & <int> & <dbl> & <dbl> & <dbl> & ⋯ & <dbl> & <dbl> & <dbl> & <int> & <dbl> & <dbl> & <dbl> & <dbl> & <dbl> & <dbl>\\\\\n",
       "\\hline\n",
       "\t1 & ENSG00000223972.4 & DDX11L1 & 0.1082 & 0.1158 & 0.02104 & 0.02329 & 0 & 0.04641 & 0.03076 & 0.09358 & ⋯ & 0.09012 & 0.1462 & 0.1045 & 0 & 0.6603 & 0.695 & 0.1213 & 0.4169 & 0.2355 & 0.145\\\\\n",
       "\\end{tabular}\n"
      ],
      "text/markdown": [
       "\n",
       "A data.frame: 1 × 11690\n",
       "\n",
       "| <!--/--> | Name &lt;fct&gt; | Description &lt;fct&gt; | GTEX.1117F.0226.SM.5GZZ7 &lt;dbl&gt; | GTEX.111CU.1826.SM.5GZYN &lt;dbl&gt; | GTEX.111FC.0226.SM.5N9B8 &lt;dbl&gt; | GTEX.111VG.2326.SM.5N9BK &lt;dbl&gt; | GTEX.111YS.2426.SM.5GZZQ &lt;int&gt; | GTEX.1122O.2026.SM.5NQ91 &lt;dbl&gt; | GTEX.1128S.2126.SM.5H12U &lt;dbl&gt; | GTEX.113IC.0226.SM.5HL5C &lt;dbl&gt; | ⋯ ⋯ | GTEX.ZVE2.0006.SM.51MRW &lt;dbl&gt; | GTEX.ZVP2.0005.SM.51MRK &lt;dbl&gt; | GTEX.ZVT2.0005.SM.57WBW &lt;dbl&gt; | GTEX.ZVT3.0006.SM.51MT9 &lt;int&gt; | GTEX.ZVT4.0006.SM.57WB8 &lt;dbl&gt; | GTEX.ZVTK.0006.SM.57WBK &lt;dbl&gt; | GTEX.ZVZP.0006.SM.51MSW &lt;dbl&gt; | GTEX.ZVZQ.0006.SM.51MR8 &lt;dbl&gt; | GTEX.ZXES.0005.SM.57WCB &lt;dbl&gt; | GTEX.ZXG5.0005.SM.57WCN &lt;dbl&gt; |\n",
       "|---|---|---|---|---|---|---|---|---|---|---|---|---|---|---|---|---|---|---|---|---|---|\n",
       "| 1 | ENSG00000223972.4 | DDX11L1 | 0.1082 | 0.1158 | 0.02104 | 0.02329 | 0 | 0.04641 | 0.03076 | 0.09358 | ⋯ | 0.09012 | 0.1462 | 0.1045 | 0 | 0.6603 | 0.695 | 0.1213 | 0.4169 | 0.2355 | 0.145 |\n",
       "\n"
      ],
      "text/plain": [
       "  Name              Description GTEX.1117F.0226.SM.5GZZ7\n",
       "1 ENSG00000223972.4 DDX11L1     0.1082                  \n",
       "  GTEX.111CU.1826.SM.5GZYN GTEX.111FC.0226.SM.5N9B8 GTEX.111VG.2326.SM.5N9BK\n",
       "1 0.1158                   0.02104                  0.02329                 \n",
       "  GTEX.111YS.2426.SM.5GZZQ GTEX.1122O.2026.SM.5NQ91 GTEX.1128S.2126.SM.5H12U\n",
       "1 0                        0.04641                  0.03076                 \n",
       "  GTEX.113IC.0226.SM.5HL5C ⋯ GTEX.ZVE2.0006.SM.51MRW GTEX.ZVP2.0005.SM.51MRK\n",
       "1 0.09358                  ⋯ 0.09012                 0.1462                 \n",
       "  GTEX.ZVT2.0005.SM.57WBW GTEX.ZVT3.0006.SM.51MT9 GTEX.ZVT4.0006.SM.57WB8\n",
       "1 0.1045                  0                       0.6603                 \n",
       "  GTEX.ZVTK.0006.SM.57WBK GTEX.ZVZP.0006.SM.51MSW GTEX.ZVZQ.0006.SM.51MR8\n",
       "1 0.695                   0.1213                  0.4169                 \n",
       "  GTEX.ZXES.0005.SM.57WCB GTEX.ZXG5.0005.SM.57WCN\n",
       "1 0.2355                  0.145                  "
      ]
     },
     "metadata": {},
     "output_type": "display_data"
    }
   ],
   "source": [
    "head(expression.mat)"
   ]
  },
  {
   "cell_type": "code",
   "execution_count": 59,
   "metadata": {},
   "outputs": [],
   "source": [
    "meta.data <- meta.data[!duplicated(meta.data$Sample.Name),]"
   ]
  },
  {
   "cell_type": "code",
   "execution_count": 60,
   "metadata": {},
   "outputs": [
    {
     "data": {
      "text/html": [
       "<style>\n",
       ".list-inline {list-style: none; margin:0; padding: 0}\n",
       ".list-inline>li {display: inline-block}\n",
       ".list-inline>li:not(:last-child)::after {content: \"\\00b7\"; padding: 0 .5ex}\n",
       "</style>\n",
       "<ol class=list-inline><li>290</li><li>79</li></ol>\n"
      ],
      "text/latex": [
       "\\begin{enumerate*}\n",
       "\\item 290\n",
       "\\item 79\n",
       "\\end{enumerate*}\n"
      ],
      "text/markdown": [
       "1. 290\n",
       "2. 79\n",
       "\n",
       "\n"
      ],
      "text/plain": [
       "[1] 290  79"
      ]
     },
     "metadata": {},
     "output_type": "display_data"
    }
   ],
   "source": [
    "dim(meta.data)"
   ]
  },
  {
   "cell_type": "code",
   "execution_count": 61,
   "metadata": {},
   "outputs": [
    {
     "data": {
      "text/html": [
       "<style>\n",
       ".list-inline {list-style: none; margin:0; padding: 0}\n",
       ".list-inline>li {display: inline-block}\n",
       ".list-inline>li:not(:last-child)::after {content: \"\\00b7\"; padding: 0 .5ex}\n",
       "</style>\n",
       "<ol class=list-inline><li>142</li><li>7</li></ol>\n"
      ],
      "text/latex": [
       "\\begin{enumerate*}\n",
       "\\item 142\n",
       "\\item 7\n",
       "\\end{enumerate*}\n"
      ],
      "text/markdown": [
       "1. 142\n",
       "2. 7\n",
       "\n",
       "\n"
      ],
      "text/plain": [
       "[1] 142   7"
      ]
     },
     "metadata": {},
     "output_type": "display_data"
    },
    {
     "data": {
      "text/html": [
       "<table>\n",
       "<caption>A data.frame: 1 × 7</caption>\n",
       "<thead>\n",
       "\t<tr><th></th><th scope=col>SRR808428</th><th scope=col>SRR808942</th><th scope=col>SRR811285</th><th scope=col>SRR812198</th><th scope=col>SRR815208</th><th scope=col>SRR820571</th><th scope=col>SRR821498</th></tr>\n",
       "\t<tr><th></th><th scope=col>&lt;int&gt;</th><th scope=col>&lt;int&gt;</th><th scope=col>&lt;int&gt;</th><th scope=col>&lt;int&gt;</th><th scope=col>&lt;int&gt;</th><th scope=col>&lt;int&gt;</th><th scope=col>&lt;int&gt;</th></tr>\n",
       "</thead>\n",
       "<tbody>\n",
       "\t<tr><th scope=row>676</th><td>14</td><td>11</td><td>29</td><td>26</td><td>22</td><td>21</td><td>13</td></tr>\n",
       "</tbody>\n",
       "</table>\n"
      ],
      "text/latex": [
       "A data.frame: 1 × 7\n",
       "\\begin{tabular}{r|lllllll}\n",
       "  & SRR808428 & SRR808942 & SRR811285 & SRR812198 & SRR815208 & SRR820571 & SRR821498\\\\\n",
       "  & <int> & <int> & <int> & <int> & <int> & <int> & <int>\\\\\n",
       "\\hline\n",
       "\t676 & 14 & 11 & 29 & 26 & 22 & 21 & 13\\\\\n",
       "\\end{tabular}\n"
      ],
      "text/markdown": [
       "\n",
       "A data.frame: 1 × 7\n",
       "\n",
       "| <!--/--> | SRR808428 &lt;int&gt; | SRR808942 &lt;int&gt; | SRR811285 &lt;int&gt; | SRR812198 &lt;int&gt; | SRR815208 &lt;int&gt; | SRR820571 &lt;int&gt; | SRR821498 &lt;int&gt; |\n",
       "|---|---|---|---|---|---|---|---|\n",
       "| 676 | 14 | 11 | 29 | 26 | 22 | 21 | 13 |\n",
       "\n"
      ],
      "text/plain": [
       "    SRR808428 SRR808942 SRR811285 SRR812198 SRR815208 SRR820571 SRR821498\n",
       "676 14        11        29        26        22        21        13       "
      ]
     },
     "metadata": {},
     "output_type": "display_data"
    }
   ],
   "source": [
    "inc.counts <- inc.counts[,colnames(inc.counts) %in% meta.data$Run]\n",
    "dim(inc.counts)\n",
    "head(inc.counts,1)"
   ]
  },
  {
   "cell_type": "code",
   "execution_count": 62,
   "metadata": {},
   "outputs": [
    {
     "data": {
      "text/html": [
       "<style>\n",
       ".list-inline {list-style: none; margin:0; padding: 0}\n",
       ".list-inline>li {display: inline-block}\n",
       ".list-inline>li:not(:last-child)::after {content: \"\\00b7\"; padding: 0 .5ex}\n",
       "</style>\n",
       "<ol class=list-inline><li>142</li><li>7</li></ol>\n"
      ],
      "text/latex": [
       "\\begin{enumerate*}\n",
       "\\item 142\n",
       "\\item 7\n",
       "\\end{enumerate*}\n"
      ],
      "text/markdown": [
       "1. 142\n",
       "2. 7\n",
       "\n",
       "\n"
      ],
      "text/plain": [
       "[1] 142   7"
      ]
     },
     "metadata": {},
     "output_type": "display_data"
    },
    {
     "data": {
      "text/html": [
       "<table>\n",
       "<caption>A data.frame: 1 × 7</caption>\n",
       "<thead>\n",
       "\t<tr><th></th><th scope=col>SRR808428</th><th scope=col>SRR808942</th><th scope=col>SRR811285</th><th scope=col>SRR812198</th><th scope=col>SRR815208</th><th scope=col>SRR820571</th><th scope=col>SRR821498</th></tr>\n",
       "\t<tr><th></th><th scope=col>&lt;int&gt;</th><th scope=col>&lt;int&gt;</th><th scope=col>&lt;int&gt;</th><th scope=col>&lt;int&gt;</th><th scope=col>&lt;int&gt;</th><th scope=col>&lt;int&gt;</th><th scope=col>&lt;int&gt;</th></tr>\n",
       "</thead>\n",
       "<tbody>\n",
       "\t<tr><th scope=row>676</th><td>89</td><td>119</td><td>270</td><td>364</td><td>108</td><td>198</td><td>185</td></tr>\n",
       "</tbody>\n",
       "</table>\n"
      ],
      "text/latex": [
       "A data.frame: 1 × 7\n",
       "\\begin{tabular}{r|lllllll}\n",
       "  & SRR808428 & SRR808942 & SRR811285 & SRR812198 & SRR815208 & SRR820571 & SRR821498\\\\\n",
       "  & <int> & <int> & <int> & <int> & <int> & <int> & <int>\\\\\n",
       "\\hline\n",
       "\t676 & 89 & 119 & 270 & 364 & 108 & 198 & 185\\\\\n",
       "\\end{tabular}\n"
      ],
      "text/markdown": [
       "\n",
       "A data.frame: 1 × 7\n",
       "\n",
       "| <!--/--> | SRR808428 &lt;int&gt; | SRR808942 &lt;int&gt; | SRR811285 &lt;int&gt; | SRR812198 &lt;int&gt; | SRR815208 &lt;int&gt; | SRR820571 &lt;int&gt; | SRR821498 &lt;int&gt; |\n",
       "|---|---|---|---|---|---|---|---|\n",
       "| 676 | 89 | 119 | 270 | 364 | 108 | 198 | 185 |\n",
       "\n"
      ],
      "text/plain": [
       "    SRR808428 SRR808942 SRR811285 SRR812198 SRR815208 SRR820571 SRR821498\n",
       "676 89        119       270       364       108       198       185      "
      ]
     },
     "metadata": {},
     "output_type": "display_data"
    }
   ],
   "source": [
    "skip.counts <- skip.counts[,colnames(skip.counts) %in% meta.data$Run]\n",
    "dim(skip.counts)\n",
    "head(skip.counts, 1)"
   ]
  },
  {
   "cell_type": "code",
   "execution_count": 63,
   "metadata": {},
   "outputs": [
    {
     "data": {
      "text/html": [
       "<style>\n",
       ".list-inline {list-style: none; margin:0; padding: 0}\n",
       ".list-inline>li {display: inline-block}\n",
       ".list-inline>li:not(:last-child)::after {content: \"\\00b7\"; padding: 0 .5ex}\n",
       "</style>\n",
       "<ol class=list-inline><li>7</li><li>79</li></ol>\n"
      ],
      "text/latex": [
       "\\begin{enumerate*}\n",
       "\\item 7\n",
       "\\item 79\n",
       "\\end{enumerate*}\n"
      ],
      "text/markdown": [
       "1. 7\n",
       "2. 79\n",
       "\n",
       "\n"
      ],
      "text/plain": [
       "[1]  7 79"
      ]
     },
     "metadata": {},
     "output_type": "display_data"
    },
    {
     "data": {
      "text/html": [
       "<table>\n",
       "<caption>A data.frame: 1 × 79</caption>\n",
       "<thead>\n",
       "\t<tr><th></th><th scope=col>Run</th><th scope=col>analyte_type</th><th scope=col>Assay.Type</th><th scope=col>AvgSpotLen</th><th scope=col>Bases</th><th scope=col>BioProject</th><th scope=col>BioSample</th><th scope=col>biospecimen_repository</th><th scope=col>biospecimen_repository_sample_id</th><th scope=col>body_site</th><th scope=col>⋯</th><th scope=col>data_type..run.</th><th scope=col>product_part_number..exp.</th><th scope=col>product_part_number..run.</th><th scope=col>sample_barcode..exp.</th><th scope=col>sample_barcode..run.</th><th scope=col>is_technical_control</th><th scope=col>target_set..exp.</th><th scope=col>primary_disease..exp.</th><th scope=col>secondary_accessions..run.</th><th scope=col>Alignment_Provider..run.</th></tr>\n",
       "\t<tr><th></th><th scope=col>&lt;fct&gt;</th><th scope=col>&lt;fct&gt;</th><th scope=col>&lt;fct&gt;</th><th scope=col>&lt;int&gt;</th><th scope=col>&lt;dbl&gt;</th><th scope=col>&lt;fct&gt;</th><th scope=col>&lt;fct&gt;</th><th scope=col>&lt;fct&gt;</th><th scope=col>&lt;fct&gt;</th><th scope=col>&lt;chr&gt;</th><th scope=col>⋯</th><th scope=col>&lt;fct&gt;</th><th scope=col>&lt;fct&gt;</th><th scope=col>&lt;fct&gt;</th><th scope=col>&lt;dbl&gt;</th><th scope=col>&lt;dbl&gt;</th><th scope=col>&lt;fct&gt;</th><th scope=col>&lt;fct&gt;</th><th scope=col>&lt;fct&gt;</th><th scope=col>&lt;fct&gt;</th><th scope=col>&lt;fct&gt;</th></tr>\n",
       "</thead>\n",
       "<tbody>\n",
       "\t<tr><th scope=row>233</th><td>SRR821498</td><td>RNA:Total RNA</td><td>RNA-Seq</td><td>152</td><td>7879119272</td><td>PRJNA75899</td><td>SAMN01994192</td><td>GTEx</td><td>GTEX-WI4N-1426-SM-3LK7H</td><td>Breast - Mammary Tissue</td><td>⋯</td><td></td><td></td><td></td><td>NA</td><td>NA</td><td></td><td></td><td></td><td></td><td></td></tr>\n",
       "</tbody>\n",
       "</table>\n"
      ],
      "text/latex": [
       "A data.frame: 1 × 79\n",
       "\\begin{tabular}{r|lllllllllllllllllllll}\n",
       "  & Run & analyte\\_type & Assay.Type & AvgSpotLen & Bases & BioProject & BioSample & biospecimen\\_repository & biospecimen\\_repository\\_sample\\_id & body\\_site & ⋯ & data\\_type..run. & product\\_part\\_number..exp. & product\\_part\\_number..run. & sample\\_barcode..exp. & sample\\_barcode..run. & is\\_technical\\_control & target\\_set..exp. & primary\\_disease..exp. & secondary\\_accessions..run. & Alignment\\_Provider..run.\\\\\n",
       "  & <fct> & <fct> & <fct> & <int> & <dbl> & <fct> & <fct> & <fct> & <fct> & <chr> & ⋯ & <fct> & <fct> & <fct> & <dbl> & <dbl> & <fct> & <fct> & <fct> & <fct> & <fct>\\\\\n",
       "\\hline\n",
       "\t233 & SRR821498 & RNA:Total RNA & RNA-Seq & 152 & 7879119272 & PRJNA75899 & SAMN01994192 & GTEx & GTEX-WI4N-1426-SM-3LK7H & Breast - Mammary Tissue & ⋯ &  &  &  & NA & NA &  &  &  &  & \\\\\n",
       "\\end{tabular}\n"
      ],
      "text/markdown": [
       "\n",
       "A data.frame: 1 × 79\n",
       "\n",
       "| <!--/--> | Run &lt;fct&gt; | analyte_type &lt;fct&gt; | Assay.Type &lt;fct&gt; | AvgSpotLen &lt;int&gt; | Bases &lt;dbl&gt; | BioProject &lt;fct&gt; | BioSample &lt;fct&gt; | biospecimen_repository &lt;fct&gt; | biospecimen_repository_sample_id &lt;fct&gt; | body_site &lt;chr&gt; | ⋯ ⋯ | data_type..run. &lt;fct&gt; | product_part_number..exp. &lt;fct&gt; | product_part_number..run. &lt;fct&gt; | sample_barcode..exp. &lt;dbl&gt; | sample_barcode..run. &lt;dbl&gt; | is_technical_control &lt;fct&gt; | target_set..exp. &lt;fct&gt; | primary_disease..exp. &lt;fct&gt; | secondary_accessions..run. &lt;fct&gt; | Alignment_Provider..run. &lt;fct&gt; |\n",
       "|---|---|---|---|---|---|---|---|---|---|---|---|---|---|---|---|---|---|---|---|---|---|\n",
       "| 233 | SRR821498 | RNA:Total RNA | RNA-Seq | 152 | 7879119272 | PRJNA75899 | SAMN01994192 | GTEx | GTEX-WI4N-1426-SM-3LK7H | Breast - Mammary Tissue | ⋯ | <!----> | <!----> | <!----> | NA | NA | <!----> | <!----> | <!----> | <!----> | <!----> |\n",
       "\n"
      ],
      "text/plain": [
       "    Run       analyte_type  Assay.Type AvgSpotLen Bases      BioProject\n",
       "233 SRR821498 RNA:Total RNA RNA-Seq    152        7879119272 PRJNA75899\n",
       "    BioSample    biospecimen_repository biospecimen_repository_sample_id\n",
       "233 SAMN01994192 GTEx                   GTEX-WI4N-1426-SM-3LK7H         \n",
       "    body_site               ⋯ data_type..run. product_part_number..exp.\n",
       "233 Breast - Mammary Tissue ⋯                                          \n",
       "    product_part_number..run. sample_barcode..exp. sample_barcode..run.\n",
       "233                           NA                   NA                  \n",
       "    is_technical_control target_set..exp. primary_disease..exp.\n",
       "233                                                            \n",
       "    secondary_accessions..run. Alignment_Provider..run.\n",
       "233                                                    "
      ]
     },
     "metadata": {},
     "output_type": "display_data"
    }
   ],
   "source": [
    "meta.data <- meta.data[meta.data$Run %in% colnames(inc.counts),]\n",
    "dim(meta.data)\n",
    "head(meta.data, 1)"
   ]
  },
  {
   "cell_type": "code",
   "execution_count": 64,
   "metadata": {},
   "outputs": [
    {
     "data": {
      "text/html": [
       "<style>\n",
       ".list-inline {list-style: none; margin:0; padding: 0}\n",
       ".list-inline>li {display: inline-block}\n",
       ".list-inline>li:not(:last-child)::after {content: \"\\00b7\"; padding: 0 .5ex}\n",
       "</style>\n",
       "<ol class=list-inline><li>'Name'</li><li>'Description'</li><li>'GTEX.1117F.0226.SM.5GZZ7'</li><li>'GTEX.111CU.1826.SM.5GZYN'</li></ol>\n"
      ],
      "text/latex": [
       "\\begin{enumerate*}\n",
       "\\item 'Name'\n",
       "\\item 'Description'\n",
       "\\item 'GTEX.1117F.0226.SM.5GZZ7'\n",
       "\\item 'GTEX.111CU.1826.SM.5GZYN'\n",
       "\\end{enumerate*}\n"
      ],
      "text/markdown": [
       "1. 'Name'\n",
       "2. 'Description'\n",
       "3. 'GTEX.1117F.0226.SM.5GZZ7'\n",
       "4. 'GTEX.111CU.1826.SM.5GZYN'\n",
       "\n",
       "\n"
      ],
      "text/plain": [
       "[1] \"Name\"                     \"Description\"             \n",
       "[3] \"GTEX.1117F.0226.SM.5GZZ7\" \"GTEX.111CU.1826.SM.5GZYN\""
      ]
     },
     "metadata": {},
     "output_type": "display_data"
    }
   ],
   "source": [
    "colnames.expression.mat[1:4]"
   ]
  },
  {
   "cell_type": "code",
   "execution_count": 65,
   "metadata": {},
   "outputs": [
    {
     "data": {
      "text/html": [
       "<style>\n",
       ".list-inline {list-style: none; margin:0; padding: 0}\n",
       ".list-inline>li {display: inline-block}\n",
       ".list-inline>li:not(:last-child)::after {content: \"\\00b7\"; padding: 0 .5ex}\n",
       "</style>\n",
       "<ol class=list-inline><li>1</li><li>11690</li></ol>\n"
      ],
      "text/latex": [
       "\\begin{enumerate*}\n",
       "\\item 1\n",
       "\\item 11690\n",
       "\\end{enumerate*}\n"
      ],
      "text/markdown": [
       "1. 1\n",
       "2. 11690\n",
       "\n",
       "\n"
      ],
      "text/plain": [
       "[1]     1 11690"
      ]
     },
     "metadata": {},
     "output_type": "display_data"
    },
    {
     "data": {
      "text/html": [
       "<table>\n",
       "<caption>A data.frame: 1 × 11690</caption>\n",
       "<thead>\n",
       "\t<tr><th></th><th scope=col>Name</th><th scope=col>Description</th><th scope=col>GTEX.1117F.0226.SM.5GZZ7</th><th scope=col>GTEX.111CU.1826.SM.5GZYN</th><th scope=col>GTEX.111FC.0226.SM.5N9B8</th><th scope=col>GTEX.111VG.2326.SM.5N9BK</th><th scope=col>GTEX.111YS.2426.SM.5GZZQ</th><th scope=col>GTEX.1122O.2026.SM.5NQ91</th><th scope=col>GTEX.1128S.2126.SM.5H12U</th><th scope=col>GTEX.113IC.0226.SM.5HL5C</th><th scope=col>⋯</th><th scope=col>GTEX.ZVE2.0006.SM.51MRW</th><th scope=col>GTEX.ZVP2.0005.SM.51MRK</th><th scope=col>GTEX.ZVT2.0005.SM.57WBW</th><th scope=col>GTEX.ZVT3.0006.SM.51MT9</th><th scope=col>GTEX.ZVT4.0006.SM.57WB8</th><th scope=col>GTEX.ZVTK.0006.SM.57WBK</th><th scope=col>GTEX.ZVZP.0006.SM.51MSW</th><th scope=col>GTEX.ZVZQ.0006.SM.51MR8</th><th scope=col>GTEX.ZXES.0005.SM.57WCB</th><th scope=col>GTEX.ZXG5.0005.SM.57WCN</th></tr>\n",
       "\t<tr><th></th><th scope=col>&lt;fct&gt;</th><th scope=col>&lt;fct&gt;</th><th scope=col>&lt;dbl&gt;</th><th scope=col>&lt;dbl&gt;</th><th scope=col>&lt;dbl&gt;</th><th scope=col>&lt;dbl&gt;</th><th scope=col>&lt;int&gt;</th><th scope=col>&lt;dbl&gt;</th><th scope=col>&lt;dbl&gt;</th><th scope=col>&lt;dbl&gt;</th><th scope=col>⋯</th><th scope=col>&lt;dbl&gt;</th><th scope=col>&lt;dbl&gt;</th><th scope=col>&lt;dbl&gt;</th><th scope=col>&lt;int&gt;</th><th scope=col>&lt;dbl&gt;</th><th scope=col>&lt;dbl&gt;</th><th scope=col>&lt;dbl&gt;</th><th scope=col>&lt;dbl&gt;</th><th scope=col>&lt;dbl&gt;</th><th scope=col>&lt;dbl&gt;</th></tr>\n",
       "</thead>\n",
       "<tbody>\n",
       "\t<tr><th scope=row>1</th><td>ENSG00000223972.4</td><td>DDX11L1</td><td>0.1082</td><td>0.1158</td><td>0.02104</td><td>0.02329</td><td>0</td><td>0.04641</td><td>0.03076</td><td>0.09358</td><td>⋯</td><td>0.09012</td><td>0.1462</td><td>0.1045</td><td>0</td><td>0.6603</td><td>0.695</td><td>0.1213</td><td>0.4169</td><td>0.2355</td><td>0.145</td></tr>\n",
       "</tbody>\n",
       "</table>\n"
      ],
      "text/latex": [
       "A data.frame: 1 × 11690\n",
       "\\begin{tabular}{r|lllllllllllllllllllll}\n",
       "  & Name & Description & GTEX.1117F.0226.SM.5GZZ7 & GTEX.111CU.1826.SM.5GZYN & GTEX.111FC.0226.SM.5N9B8 & GTEX.111VG.2326.SM.5N9BK & GTEX.111YS.2426.SM.5GZZQ & GTEX.1122O.2026.SM.5NQ91 & GTEX.1128S.2126.SM.5H12U & GTEX.113IC.0226.SM.5HL5C & ⋯ & GTEX.ZVE2.0006.SM.51MRW & GTEX.ZVP2.0005.SM.51MRK & GTEX.ZVT2.0005.SM.57WBW & GTEX.ZVT3.0006.SM.51MT9 & GTEX.ZVT4.0006.SM.57WB8 & GTEX.ZVTK.0006.SM.57WBK & GTEX.ZVZP.0006.SM.51MSW & GTEX.ZVZQ.0006.SM.51MR8 & GTEX.ZXES.0005.SM.57WCB & GTEX.ZXG5.0005.SM.57WCN\\\\\n",
       "  & <fct> & <fct> & <dbl> & <dbl> & <dbl> & <dbl> & <int> & <dbl> & <dbl> & <dbl> & ⋯ & <dbl> & <dbl> & <dbl> & <int> & <dbl> & <dbl> & <dbl> & <dbl> & <dbl> & <dbl>\\\\\n",
       "\\hline\n",
       "\t1 & ENSG00000223972.4 & DDX11L1 & 0.1082 & 0.1158 & 0.02104 & 0.02329 & 0 & 0.04641 & 0.03076 & 0.09358 & ⋯ & 0.09012 & 0.1462 & 0.1045 & 0 & 0.6603 & 0.695 & 0.1213 & 0.4169 & 0.2355 & 0.145\\\\\n",
       "\\end{tabular}\n"
      ],
      "text/markdown": [
       "\n",
       "A data.frame: 1 × 11690\n",
       "\n",
       "| <!--/--> | Name &lt;fct&gt; | Description &lt;fct&gt; | GTEX.1117F.0226.SM.5GZZ7 &lt;dbl&gt; | GTEX.111CU.1826.SM.5GZYN &lt;dbl&gt; | GTEX.111FC.0226.SM.5N9B8 &lt;dbl&gt; | GTEX.111VG.2326.SM.5N9BK &lt;dbl&gt; | GTEX.111YS.2426.SM.5GZZQ &lt;int&gt; | GTEX.1122O.2026.SM.5NQ91 &lt;dbl&gt; | GTEX.1128S.2126.SM.5H12U &lt;dbl&gt; | GTEX.113IC.0226.SM.5HL5C &lt;dbl&gt; | ⋯ ⋯ | GTEX.ZVE2.0006.SM.51MRW &lt;dbl&gt; | GTEX.ZVP2.0005.SM.51MRK &lt;dbl&gt; | GTEX.ZVT2.0005.SM.57WBW &lt;dbl&gt; | GTEX.ZVT3.0006.SM.51MT9 &lt;int&gt; | GTEX.ZVT4.0006.SM.57WB8 &lt;dbl&gt; | GTEX.ZVTK.0006.SM.57WBK &lt;dbl&gt; | GTEX.ZVZP.0006.SM.51MSW &lt;dbl&gt; | GTEX.ZVZQ.0006.SM.51MR8 &lt;dbl&gt; | GTEX.ZXES.0005.SM.57WCB &lt;dbl&gt; | GTEX.ZXG5.0005.SM.57WCN &lt;dbl&gt; |\n",
       "|---|---|---|---|---|---|---|---|---|---|---|---|---|---|---|---|---|---|---|---|---|---|\n",
       "| 1 | ENSG00000223972.4 | DDX11L1 | 0.1082 | 0.1158 | 0.02104 | 0.02329 | 0 | 0.04641 | 0.03076 | 0.09358 | ⋯ | 0.09012 | 0.1462 | 0.1045 | 0 | 0.6603 | 0.695 | 0.1213 | 0.4169 | 0.2355 | 0.145 |\n",
       "\n"
      ],
      "text/plain": [
       "  Name              Description GTEX.1117F.0226.SM.5GZZ7\n",
       "1 ENSG00000223972.4 DDX11L1     0.1082                  \n",
       "  GTEX.111CU.1826.SM.5GZYN GTEX.111FC.0226.SM.5N9B8 GTEX.111VG.2326.SM.5N9BK\n",
       "1 0.1158                   0.02104                  0.02329                 \n",
       "  GTEX.111YS.2426.SM.5GZZQ GTEX.1122O.2026.SM.5NQ91 GTEX.1128S.2126.SM.5H12U\n",
       "1 0                        0.04641                  0.03076                 \n",
       "  GTEX.113IC.0226.SM.5HL5C ⋯ GTEX.ZVE2.0006.SM.51MRW GTEX.ZVP2.0005.SM.51MRK\n",
       "1 0.09358                  ⋯ 0.09012                 0.1462                 \n",
       "  GTEX.ZVT2.0005.SM.57WBW GTEX.ZVT3.0006.SM.51MT9 GTEX.ZVT4.0006.SM.57WB8\n",
       "1 0.1045                  0                       0.6603                 \n",
       "  GTEX.ZVTK.0006.SM.57WBK GTEX.ZVZP.0006.SM.51MSW GTEX.ZVZQ.0006.SM.51MR8\n",
       "1 0.695                   0.1213                  0.4169                 \n",
       "  GTEX.ZXES.0005.SM.57WCB GTEX.ZXG5.0005.SM.57WCN\n",
       "1 0.2355                  0.145                  "
      ]
     },
     "metadata": {},
     "output_type": "display_data"
    }
   ],
   "source": [
    "dim(expression.mat)\n",
    "head(expression.mat, 1)"
   ]
  },
  {
   "cell_type": "markdown",
   "metadata": {},
   "source": [
    "tissue <- unique(meta.data$body_site [ meta.data$body_site == tissue])\n",
    "tissue"
   ]
  },
  {
   "cell_type": "code",
   "execution_count": 66,
   "metadata": {},
   "outputs": [],
   "source": [
    "col.in.tissue<-c()\n",
    "for (col in colnames.expression.mat)\n",
    "  \n",
    "  col.in.tissue<-c(col.in.tissue, (col %in% meta.data$Sample.Name) && (meta.data$body_site[which(meta.data$Sample.Name==col)] %in% tissue) && (meta.data$submitted_subject_id[which(meta.data$Sample.Name==col)]!='GTEX-11ILO'))"
   ]
  },
  {
   "cell_type": "code",
   "execution_count": 67,
   "metadata": {},
   "outputs": [
    {
     "data": {
      "text/html": [
       "11690"
      ],
      "text/latex": [
       "11690"
      ],
      "text/markdown": [
       "11690"
      ],
      "text/plain": [
       "[1] 11690"
      ]
     },
     "metadata": {},
     "output_type": "display_data"
    },
    {
     "data": {
      "text/plain": [
       "col.in.tissue\n",
       "FALSE  TRUE \n",
       "11683     7 "
      ]
     },
     "metadata": {},
     "output_type": "display_data"
    }
   ],
   "source": [
    "length(col.in.tissue)\n",
    "table(col.in.tissue)"
   ]
  },
  {
   "cell_type": "code",
   "execution_count": 68,
   "metadata": {},
   "outputs": [
    {
     "data": {
      "text/html": [
       "11690"
      ],
      "text/latex": [
       "11690"
      ],
      "text/markdown": [
       "11690"
      ],
      "text/plain": [
       "[1] 11690"
      ]
     },
     "metadata": {},
     "output_type": "display_data"
    },
    {
     "data": {
      "text/html": [
       "11690"
      ],
      "text/latex": [
       "11690"
      ],
      "text/markdown": [
       "11690"
      ],
      "text/plain": [
       "[1] 11690"
      ]
     },
     "metadata": {},
     "output_type": "display_data"
    },
    {
     "data": {
      "text/html": [
       "<style>\n",
       ".list-inline {list-style: none; margin:0; padding: 0}\n",
       ".list-inline>li {display: inline-block}\n",
       ".list-inline>li:not(:last-child)::after {content: \"\\00b7\"; padding: 0 .5ex}\n",
       "</style>\n",
       "<ol class=list-inline><li>FALSE</li><li>FALSE</li><li>FALSE</li></ol>\n"
      ],
      "text/latex": [
       "\\begin{enumerate*}\n",
       "\\item FALSE\n",
       "\\item FALSE\n",
       "\\item FALSE\n",
       "\\end{enumerate*}\n"
      ],
      "text/markdown": [
       "1. FALSE\n",
       "2. FALSE\n",
       "3. FALSE\n",
       "\n",
       "\n"
      ],
      "text/plain": [
       "[1] FALSE FALSE FALSE"
      ]
     },
     "metadata": {},
     "output_type": "display_data"
    }
   ],
   "source": [
    "length(colnames.expression.mat)\n",
    "length(col.in.tissue)\n",
    "\n",
    "col.in.tissue[1:3]"
   ]
  },
  {
   "cell_type": "code",
   "execution_count": 69,
   "metadata": {},
   "outputs": [],
   "source": [
    "# colClasses is used to skip columns\n",
    "expression.mat <-read.table(expression.file.name, \n",
    "                            sep= \"\\t\",\n",
    "                            header = T,\n",
    "                            skip = 2, \n",
    "                            colClasses = ifelse(col.in.tissue, \"numeric\", \"NULL\"))"
   ]
  },
  {
   "cell_type": "code",
   "execution_count": 70,
   "metadata": {},
   "outputs": [
    {
     "data": {
      "text/html": [
       "11690"
      ],
      "text/latex": [
       "11690"
      ],
      "text/markdown": [
       "11690"
      ],
      "text/plain": [
       "[1] 11690"
      ]
     },
     "metadata": {},
     "output_type": "display_data"
    }
   ],
   "source": [
    "length(col.in.tissue)"
   ]
  },
  {
   "cell_type": "markdown",
   "metadata": {},
   "source": [
    "## Read gene names:"
   ]
  },
  {
   "cell_type": "code",
   "execution_count": 71,
   "metadata": {},
   "outputs": [
    {
     "data": {
      "text/html": [
       "<style>\n",
       ".list-inline {list-style: none; margin:0; padding: 0}\n",
       ".list-inline>li {display: inline-block}\n",
       ".list-inline>li:not(:last-child)::after {content: \"\\00b7\"; padding: 0 .5ex}\n",
       "</style>\n",
       "<ol class=list-inline><li>56202</li><li>7</li></ol>\n"
      ],
      "text/latex": [
       "\\begin{enumerate*}\n",
       "\\item 56202\n",
       "\\item 7\n",
       "\\end{enumerate*}\n"
      ],
      "text/markdown": [
       "1. 56202\n",
       "2. 7\n",
       "\n",
       "\n"
      ],
      "text/plain": [
       "[1] 56202     7"
      ]
     },
     "metadata": {},
     "output_type": "display_data"
    },
    {
     "data": {
      "text/html": [
       "<style>\n",
       ".list-inline {list-style: none; margin:0; padding: 0}\n",
       ".list-inline>li {display: inline-block}\n",
       ".list-inline>li:not(:last-child)::after {content: \"\\00b7\"; padding: 0 .5ex}\n",
       "</style>\n",
       "<ol class=list-inline><li>56202</li><li>7</li></ol>\n"
      ],
      "text/latex": [
       "\\begin{enumerate*}\n",
       "\\item 56202\n",
       "\\item 7\n",
       "\\end{enumerate*}\n"
      ],
      "text/markdown": [
       "1. 56202\n",
       "2. 7\n",
       "\n",
       "\n"
      ],
      "text/plain": [
       "[1] 56202     7"
      ]
     },
     "metadata": {},
     "output_type": "display_data"
    }
   ],
   "source": [
    "dim(expression.mat)\n",
    "expression.mat <- expression.mat[,order(match(colnames(expression.mat),meta.data$Sample.Name))]\n",
    "dim(expression.mat)"
   ]
  },
  {
   "cell_type": "code",
   "execution_count": 72,
   "metadata": {},
   "outputs": [],
   "source": [
    "inc.counts     <- inc.counts[,order(match(colnames(inc.counts),meta.data$Run))]"
   ]
  },
  {
   "cell_type": "code",
   "execution_count": 73,
   "metadata": {},
   "outputs": [],
   "source": [
    "skip.counts    <- skip.counts[,order(match(colnames(skip.counts),meta.data$Run))]"
   ]
  },
  {
   "cell_type": "code",
   "execution_count": 74,
   "metadata": {},
   "outputs": [],
   "source": [
    "all.genes      <- read.table(expression.file.name,sep=\"\\t\",header=T,skip=2,colClasses = c(rep(\"character\", 2), rep(\"NULL\", total.samples-2)))"
   ]
  },
  {
   "cell_type": "code",
   "execution_count": 75,
   "metadata": {},
   "outputs": [],
   "source": [
    "expression.mat <- expression.mat[!duplicated(all.genes$Description),]"
   ]
  },
  {
   "cell_type": "code",
   "execution_count": 76,
   "metadata": {},
   "outputs": [],
   "source": [
    "all.genes      <- all.genes[!duplicated(all.genes$Description),]"
   ]
  },
  {
   "cell_type": "code",
   "execution_count": 77,
   "metadata": {},
   "outputs": [],
   "source": [
    "skip.counts    <- skip.counts[merged.table$geneSymbol %in% all.genes$Description,]"
   ]
  },
  {
   "cell_type": "code",
   "execution_count": 78,
   "metadata": {},
   "outputs": [],
   "source": [
    "inc.counts     <- inc.counts[merged.table$geneSymbol %in% all.genes$Description,]"
   ]
  },
  {
   "cell_type": "code",
   "execution_count": 79,
   "metadata": {},
   "outputs": [],
   "source": [
    "merged.table   <- merged.table[merged.table$geneSymbol %in% all.genes$Description,]"
   ]
  },
  {
   "cell_type": "code",
   "execution_count": 80,
   "metadata": {},
   "outputs": [],
   "source": [
    "gene.names     <- unique(merged.table$geneSymbol)"
   ]
  },
  {
   "cell_type": "code",
   "execution_count": 81,
   "metadata": {},
   "outputs": [],
   "source": [
    "expression.mat <- expression.mat[all.genes$Description %in% c(as.character(rbp.table$Gene),as.character(gene.names)),]"
   ]
  },
  {
   "cell_type": "code",
   "execution_count": 82,
   "metadata": {},
   "outputs": [],
   "source": [
    "rownames.expression.mat <-all.genes$Description[all.genes$Description %in% c(as.character(rbp.table$Gene),as.character(gene.names))]"
   ]
  },
  {
   "cell_type": "code",
   "execution_count": 83,
   "metadata": {},
   "outputs": [],
   "source": [
    "expression.mat <-expression.mat[!duplicated(rownames.expression.mat),]"
   ]
  },
  {
   "cell_type": "code",
   "execution_count": 84,
   "metadata": {},
   "outputs": [],
   "source": [
    "rownames.expression.mat <-rownames.expression.mat[!duplicated(rownames.expression.mat)]"
   ]
  },
  {
   "cell_type": "markdown",
   "metadata": {},
   "source": [
    "## Prepare expression of genes and RBPS:"
   ]
  },
  {
   "cell_type": "code",
   "execution_count": 85,
   "metadata": {},
   "outputs": [
    {
     "data": {
      "text/html": [
       "126"
      ],
      "text/latex": [
       "126"
      ],
      "text/markdown": [
       "126"
      ],
      "text/plain": [
       "[1] 126"
      ]
     },
     "metadata": {},
     "output_type": "display_data"
    }
   ],
   "source": [
    "num.events     <- nrow(merged.table)\n",
    "num.events"
   ]
  },
  {
   "cell_type": "code",
   "execution_count": 86,
   "metadata": {},
   "outputs": [],
   "source": [
    "event.to.gene  <- c()"
   ]
  },
  {
   "cell_type": "code",
   "execution_count": 87,
   "metadata": {},
   "outputs": [
    {
     "data": {
      "text/html": [
       "<style>\n",
       ".list-inline {list-style: none; margin:0; padding: 0}\n",
       ".list-inline>li {display: inline-block}\n",
       ".list-inline>li:not(:last-child)::after {content: \"\\00b7\"; padding: 0 .5ex}\n",
       "</style>\n",
       "<ol class=list-inline><li>107</li><li>7</li></ol>\n"
      ],
      "text/latex": [
       "\\begin{enumerate*}\n",
       "\\item 107\n",
       "\\item 7\n",
       "\\end{enumerate*}\n"
      ],
      "text/markdown": [
       "1. 107\n",
       "2. 7\n",
       "\n",
       "\n"
      ],
      "text/plain": [
       "[1] 107   7"
      ]
     },
     "metadata": {},
     "output_type": "display_data"
    }
   ],
   "source": [
    "gexp           <- expression.mat[rownames.expression.mat %in% gene.names,]\n",
    "dim(gexp)"
   ]
  },
  {
   "cell_type": "code",
   "execution_count": 88,
   "metadata": {},
   "outputs": [],
   "source": [
    "rownames(gexp) <- rownames.expression.mat[rownames.expression.mat %in% gene.names]"
   ]
  },
  {
   "cell_type": "code",
   "execution_count": 89,
   "metadata": {},
   "outputs": [],
   "source": [
    "gexp           <- gexp[order(match(rownames(gexp),gene.names)),]"
   ]
  },
  {
   "cell_type": "code",
   "execution_count": 90,
   "metadata": {},
   "outputs": [],
   "source": [
    "gexp           <- log2(gexp+0.5)"
   ]
  },
  {
   "cell_type": "code",
   "execution_count": 91,
   "metadata": {},
   "outputs": [],
   "source": [
    "gexp           <- gexp-rowMeans(gexp)"
   ]
  },
  {
   "cell_type": "code",
   "execution_count": 92,
   "metadata": {},
   "outputs": [],
   "source": [
    "gexp[apply(gexp,1,sd)>0,] <- gexp[apply(gexp,1,sd)>0,]/apply(gexp[apply(gexp,1,sd)>0,],1,sd)"
   ]
  },
  {
   "cell_type": "code",
   "execution_count": 93,
   "metadata": {},
   "outputs": [],
   "source": [
    "rexp           <- expression.mat[rownames.expression.mat %in% rbp.table$Gene,]"
   ]
  },
  {
   "cell_type": "code",
   "execution_count": 94,
   "metadata": {},
   "outputs": [],
   "source": [
    "rownames(rexp) <- rownames.expression.mat[rownames.expression.mat %in% rbp.table$Gene]"
   ]
  },
  {
   "cell_type": "code",
   "execution_count": 95,
   "metadata": {},
   "outputs": [],
   "source": [
    "rexp           <- rexp[order(match(rownames(rexp),rbp.table$Gene)),]"
   ]
  },
  {
   "cell_type": "code",
   "execution_count": 96,
   "metadata": {},
   "outputs": [],
   "source": [
    "rexp           <- log2(rexp+0.5)"
   ]
  },
  {
   "cell_type": "code",
   "execution_count": 97,
   "metadata": {},
   "outputs": [],
   "source": [
    "rexp           <- rexp-rowMeans(rexp)"
   ]
  },
  {
   "cell_type": "code",
   "execution_count": 98,
   "metadata": {},
   "outputs": [],
   "source": [
    "rexp           <- rexp/apply(rexp,1,function(v){ifelse(sum(v==v[1])<length(v),sd(v),1)})"
   ]
  },
  {
   "cell_type": "code",
   "execution_count": 99,
   "metadata": {},
   "outputs": [],
   "source": [
    "for (i in (1:num.events))\n",
    "  event.to.gene<-c(event.to.gene,which(unique(merged.table$geneSymbol)==merged.table[i,\"geneSymbol\"]))\n",
    "sex<-ifelse(meta.data$sex==\"male\",1,0)"
   ]
  },
  {
   "cell_type": "code",
   "execution_count": 100,
   "metadata": {},
   "outputs": [
    {
     "data": {
      "text/html": [
       "<style>\n",
       ".list-inline {list-style: none; margin:0; padding: 0}\n",
       ".list-inline>li {display: inline-block}\n",
       ".list-inline>li:not(:last-child)::after {content: \"\\00b7\"; padding: 0 .5ex}\n",
       "</style>\n",
       "<ol class=list-inline><li>0</li><li>0</li><li>0</li><li>1</li></ol>\n"
      ],
      "text/latex": [
       "\\begin{enumerate*}\n",
       "\\item 0\n",
       "\\item 0\n",
       "\\item 0\n",
       "\\item 1\n",
       "\\end{enumerate*}\n"
      ],
      "text/markdown": [
       "1. 0\n",
       "2. 0\n",
       "3. 0\n",
       "4. 1\n",
       "\n",
       "\n"
      ],
      "text/plain": [
       "[1] 0 0 0 1"
      ]
     },
     "metadata": {},
     "output_type": "display_data"
    }
   ],
   "source": [
    "sex[1:4]"
   ]
  },
  {
   "cell_type": "code",
   "execution_count": 101,
   "metadata": {},
   "outputs": [
    {
     "data": {
      "text/plain": [
       "Time difference of 2.852988 mins"
      ]
     },
     "metadata": {},
     "output_type": "display_data"
    }
   ],
   "source": [
    "end_time <- Sys.time()\n",
    "end_time - start_time"
   ]
  },
  {
   "cell_type": "markdown",
   "metadata": {},
   "source": [
    "## Run stan:"
   ]
  },
  {
   "cell_type": "code",
   "execution_count": 102,
   "metadata": {},
   "outputs": [
    {
     "name": "stderr",
     "output_type": "stream",
     "text": [
      "Warning message:\n",
      "“There were 1 divergent transitions after warmup. Increasing adapt_delta above 0.8 may help. See\n",
      "http://mc-stan.org/misc/warnings.html#divergent-transitions-after-warmup”\n",
      "Warning message:\n",
      "“There were 39 transitions after warmup that exceeded the maximum treedepth. Increase max_treedepth above 10. See\n",
      "http://mc-stan.org/misc/warnings.html#maximum-treedepth-exceeded”\n",
      "Warning message:\n",
      "“Examine the pairs() plot to diagnose sampling problems\n",
      "”\n",
      "Warning message:\n",
      "“The largest R-hat is 2.9, indicating chains have not mixed.\n",
      "Running the chains for more iterations may help. See\n",
      "http://mc-stan.org/misc/warnings.html#r-hat”\n",
      "Warning message:\n",
      "“Bulk Effective Samples Size (ESS) is too low, indicating posterior means and medians may be unreliable.\n",
      "Running the chains for more iterations may help. See\n",
      "http://mc-stan.org/misc/warnings.html#bulk-ess”\n",
      "Warning message:\n",
      "“Tail Effective Samples Size (ESS) is too low, indicating posterior variances and tail quantiles may be unreliable.\n",
      "Running the chains for more iterations may help. See\n",
      "http://mc-stan.org/misc/warnings.html#tail-ess”\n"
     ]
    },
    {
     "data": {
      "text/plain": [
       "Time difference of 13.72803 mins"
      ]
     },
     "metadata": {},
     "output_type": "display_data"
    }
   ],
   "source": [
    "dataList = list(\n",
    "  as = round(skip.counts) ,   #skip event counts across experiments\n",
    "  c = round(skip.counts+inc.counts)    , #total counts for event, i.e. skip+inclusion, across experiments\n",
    "  gexp = gexp, #read counts for genes (from gtex, take the raw counts) across experiments\n",
    "  rexp = rexp, #read counts for RBPs (from gtex, take the raw counts)\n",
    "  event_to_gene = event.to.gene,  #the gene index for each event (1 to the number of distinct genes) \n",
    "  Nrbp = nrow(rexp), #number of RBPs\n",
    "  Nevents = nrow(merged.table),  #most varying AS events in \n",
    "  Nexp = ncol(expression.mat),#number of experiments such that we measured each event, gene and RBP in each experiment\n",
    "  Ngenes = nrow(gexp),\n",
    "  sex=sex\n",
    ")\n",
    "\n",
    "\n",
    "modelString = \"\n",
    "data {\n",
    "int<lower=0> Nevents;\n",
    "int<lower=0> Nexp;\n",
    "int<lower=0> Nrbp;\n",
    "int<lower=0> Ngenes;\n",
    "int<lower=0> as[Nevents,Nexp] ;\n",
    "int<lower=0> c[Nevents,Nexp] ;\n",
    "matrix[Ngenes,Nexp] gexp ; \n",
    "matrix[Nrbp,Nexp] rexp ; \n",
    "int<lower=0> event_to_gene[Nevents];\n",
    "int<lower=0,upper=1> sex[Nexp];\n",
    "\n",
    "}\n",
    "\n",
    "\n",
    "parameters {\n",
    "real beta0[Nevents] ;\n",
    "real beta1[Nevents] ;\n",
    "matrix[Nevents,Nrbp] beta2 ;\n",
    "real beta3[Nevents];\n",
    "real beta4[Nrbp];\n",
    "\n",
    "}\n",
    "model {\n",
    "\n",
    "for ( i in 1:Nexp ) {  \n",
    "\n",
    "\n",
    "    for ( j in 1:Nevents ) if (c[j,i]>0) { \n",
    "\n",
    "      as[j,i] ~ binomial(c[j,i], inv_logit(beta0[j]+beta1[j]*sex[i]+dot_product(beta2[j,],rexp[,i])+beta3[j]*gexp[event_to_gene[j],i] ) );\n",
    "\n",
    "  }\n",
    "}\n",
    "\n",
    "for (k in 1:Nrbp){\n",
    "\n",
    "  for ( j in 1:Nevents ) { \n",
    "\n",
    "        beta2[j,k] ~normal(beta4[k],1);\n",
    "  }\n",
    "\n",
    "  beta4[k]~normal(0,1);\n",
    "\n",
    "}\n",
    "\n",
    "\n",
    "for ( j in 1:Nevents ) { \n",
    "\n",
    "    beta1[j] ~ normal(0,1);\n",
    "    beta0[j] ~ normal(0,1);\n",
    "    beta3[j] ~ normal(0,1);\n",
    "  }\n",
    "\n",
    "}\n",
    "\"\n",
    "\n",
    "# Start the clock!\n",
    "start_time <- Sys.time()\n",
    "\n",
    "stanDso <- rstan::stan_model( model_code=modelString ) \n",
    "stanFit <- sampling( object=stanDso , \n",
    "                    data = dataList , \n",
    "                    chains = 2 , #3\n",
    "                    iter = 80, #8000\n",
    "                    warmup = 60, #6000\n",
    "                    thin = 1,\n",
    "                    init = 0, \n",
    "                    cores = parallel::detectCores() - 2 )\n",
    "\n",
    "mcmcCoda = coda::mcmc.list( lapply( 1:ncol(stanFit) , function(x) { mcmc(as.array(stanFit)[,x,]) } ) )\n",
    "\n",
    "end_time <- Sys.time()\n",
    "end_time - start_time"
   ]
  },
  {
   "cell_type": "markdown",
   "metadata": {},
   "source": [
    "# > Inspect from here onwards\n",
    "\n",
    "- What files are needed from here to be saved?\n",
    "- Is the diagnostic plotting helpful for keeping in this notebook?"
   ]
  },
  {
   "cell_type": "code",
   "execution_count": 109,
   "metadata": {},
   "outputs": [
    {
     "name": "stdout",
     "output_type": "stream",
     "text": [
      "\n",
      "*********************************************************************\n",
      "Kruschke, J. K. (2015). Doing Bayesian Data Analysis, Second Edition:\n",
      "A Tutorial with R, JAGS, and Stan. Academic Press / Elsevier.\n",
      "*********************************************************************\n",
      "\n"
     ]
    }
   ],
   "source": [
    "source(\"../dimorphAS/DBDA2Eprograms/DBDA2E-utilities.R\")"
   ]
  },
  {
   "cell_type": "markdown",
   "metadata": {},
   "source": [
    "## Initialising dataframe with columns `coef,rbp,tissue`"
   ]
  },
  {
   "cell_type": "code",
   "execution_count": 110,
   "metadata": {},
   "outputs": [],
   "source": [
    "df <-data.frame(coef=NULL,rbp=NULL,tissue=NULL)"
   ]
  },
  {
   "cell_type": "markdown",
   "metadata": {},
   "source": [
    "Before running the following, use the Session menu to set working directory to source file location\n",
    "```R\n",
    "setwd(dir = \"../dimorphAS/DBDA2Eprograms/\")\n",
    "```"
   ]
  },
  {
   "cell_type": "markdown",
   "metadata": {},
   "source": [
    "Data from former analysis (submission 2017)\n",
    "```R\n",
    "load(\"../dimorphAS/figures/oldFigureDrafts/figure3b.RData\")\n",
    "```"
   ]
  },
  {
   "cell_type": "markdown",
   "metadata": {},
   "source": [
    "### This invokes X11 which is not available for all systems, and won\"t work in a NextFlow pipeline\n",
    "\n",
    "```\n",
    "diagMCMC(mcmcCoda , parName=c(\"beta2[101,87]\"))\n",
    "```"
   ]
  },
  {
   "cell_type": "code",
   "execution_count": 111,
   "metadata": {},
   "outputs": [
    {
     "data": {
      "image/png": "[encoded data removed]",
      "text/plain": [
       "Plot with title “”"
      ]
     },
     "metadata": {
      "image/png": {
       "height": 240,
       "width": 360
      },
      "text/plain": {
       "height": 240,
       "width": 360
      }
     },
     "output_type": "display_data"
    }
   ],
   "source": [
    "options(repr.plot.width=6, repr.plot.height=4)\n",
    "\n",
    "codaObject <- mcmcCoda \n",
    "parName    <- c(\"beta2[101,87]\") #varnames(codaObject)[1]\n",
    "saveName   <- NULL\n",
    "saveType   <- \"jpg\"\n",
    "\n",
    "\n",
    "DBDAplColors = c(\"skyblue\",\n",
    "               \"black\",\n",
    "               \"royalblue\",\n",
    "               \"steelblue\")\n",
    "\n",
    "#openGraph(height=5,width=7)\n",
    "    \n",
    "par(mar=0.5+c(3,4,1,0) , \n",
    "  oma=0.1+c(0,0,2,0) , \n",
    "  mgp=c(2.25,0.7,0) , \n",
    "  cex.lab=1.5 )\n",
    "    \n",
    "layout(matrix(1:4,nrow=2))\n",
    "  # traceplot and gelman.plot are from CODA package:\n",
    "require(coda)\n",
    "coda::traceplot( codaObject[,c(parName)], \n",
    "              main=\"\" , \n",
    "              ylab=\"Param. Value\" ,\n",
    "              col=DBDAplColors )"
   ]
  },
  {
   "cell_type": "code",
   "execution_count": 112,
   "metadata": {},
   "outputs": [
    {
     "name": "stdout",
     "output_type": "stream",
     "text": [
      "Error in gelman.preplot(x, bin.width = bin.width, max.bins = max.bins,  : \n",
      "  Insufficient iterations to produce Gelman-Rubin plot\n"
     ]
    }
   ],
   "source": [
    "options(repr.plot.width=6, repr.plot.height=4)\n",
    "tryVal = try(\n",
    "coda::gelman.plot(codaObject[,c(parName)] , \n",
    "                  main=\"\",\n",
    "                  auto.layout=FALSE,\n",
    "                  col=DBDAplColors )\n",
    ")  "
   ]
  },
  {
   "cell_type": "code",
   "execution_count": 113,
   "metadata": {},
   "outputs": [
    {
     "name": "stdout",
     "output_type": "stream",
     "text": [
      "[1] \"Warning: coda::gelman.plot fails for beta2[101,87]\"\n"
     ]
    },
    {
     "data": {
      "image/png": "[encoded data removed]",
      "text/plain": [
       "Plot with title “”"
      ]
     },
     "metadata": {
      "image/png": {
       "height": 240,
       "width": 360
      },
      "text/plain": {
       "height": 240,
       "width": 360
      }
     },
     "output_type": "display_data"
    },
    {
     "data": {
      "image/png": "[encoded data removed]",
      "text/plain": [
       "Plot with title “”"
      ]
     },
     "metadata": {
      "image/png": {
       "height": 240,
       "width": 360
      },
      "text/plain": {
       "height": 240,
       "width": 360
      }
     },
     "output_type": "display_data"
    }
   ],
   "source": [
    "options(repr.plot.width=6, repr.plot.height=4)\n",
    "\n",
    "# if it runs, gelman.plot returns a list with finite shrink values:\n",
    "  if ( class(tryVal)==\"try-error\" ) {\n",
    "    plot.new() \n",
    "    print(paste0(\"Warning: coda::gelman.plot fails for \",parName))\n",
    "  } else { \n",
    "    if ( class(tryVal)==\"list\" & !is.finite(tryVal$shrink[1]) ) {\n",
    "      plot.new() \n",
    "      print(paste0(\"Warning: coda::gelman.plot fails for \",parName))\n",
    "    }\n",
    "  }\n",
    "  DbdaAcfPlot(codaObject,parName,plColors=DBDAplColors)\n",
    "  DbdaDensPlot(codaObject,parName,plColors=DBDAplColors)\n",
    "  mtext( text=parName , outer=TRUE , adj=c(0.5,0.5) , cex=2.0 )\n",
    "  if ( !is.null(saveName) ) {\n",
    "    saveGraph( file=paste0(saveName,\"Diag\",parName), type=saveType)\n",
    "  }\n",
    "\n"
   ]
  },
  {
   "cell_type": "code",
   "execution_count": 114,
   "metadata": {},
   "outputs": [],
   "source": [
    "##Collect coefficients for RBPs whose 95% HDI does not contain 0:"
   ]
  },
  {
   "cell_type": "code",
   "execution_count": 116,
   "metadata": {},
   "outputs": [],
   "source": [
    "rbp.names<-rownames(rexp)\n",
    "\n",
    "df<-data.frame(coef=NULL,rbp=NULL,tissue=NULL)\n",
    "\n",
    "hdi<-HPDinterval(mcmcCoda)  \n",
    "\n",
    "s <- summary(mcmcCoda)\n",
    "\n",
    "m <- s$statistics[,\"Mean\"]\n",
    "\n",
    "beta2.mat<-matrix(nrow=nrow(merged.table),ncol=length(rbp.names))\n",
    "\n",
    "for (rbp in (1:length(rbp.names)))\n",
    "  \n",
    "  for (event in (1:nrow(merged.table)))\n",
    "  {\n",
    "    \n",
    "    var.name<-paste0(\"beta2[\",event,\",\",rbp,\"]\")\n",
    "    \n",
    "    low<-hdi[[1]][rownames(hdi[[1]])==var.name][1]\n",
    "    \n",
    "    high<-hdi[[1]][rownames(hdi[[1]])==var.name][2]\n",
    "    \n",
    "    beta2.mat[event,rbp]<-m[grepl(paste0(\"beta2\\\\[\",event,\",\",rbp,\"\\\\]\"),names(m))]\n",
    "    \n",
    "    if (low<0 && high>0)\n",
    "      \n",
    "      beta2.mat[event,rbp]<-0\n",
    "    \n",
    "  }\n",
    "\n",
    "\n",
    "\n",
    "colnames(beta2.mat)=rbp.names\n",
    "\n",
    "for (rbp in rbp.names)\n",
    "  \n",
    "  df<-rbind(df,cbind(beta2.mat[,colnames(beta2.mat)==rbp],rep(rbp,nrow(beta2.mat)),rep(tissue,nrow(beta2.mat)))  )\n",
    "\n",
    "\n",
    "colnames(df)<-c(\"Coef\",\"RBP\",\"Tissue\")\n",
    "    \n",
    "df$Coef<-as.numeric(as.character(df$Coef))\n"
   ]
  },
  {
   "cell_type": "markdown",
   "metadata": {},
   "source": [
    "## Display a violin plot for some selected RBPs:\n",
    "\n",
    "```R\n",
    "labels<-read.table('/Users/karleg/Dimorph/labels.tsv',sep='\\t',header=T)\n",
    "labels$X\n",
    "labels$tissue\n",
    "```"
   ]
  },
  {
   "cell_type": "code",
   "execution_count": 132,
   "metadata": {},
   "outputs": [
    {
     "data": {
      "text/html": [
       "'Breast - Mammary Tissue'"
      ],
      "text/latex": [
       "'Breast - Mammary Tissue'"
      ],
      "text/markdown": [
       "'Breast - Mammary Tissue'"
      ],
      "text/plain": [
       "[1] \"Breast - Mammary Tissue\""
      ]
     },
     "metadata": {},
     "output_type": "display_data"
    }
   ],
   "source": [
    "df$Tissue<-as.character(df$Tissue)\n",
    "unique(df$Tissue)"
   ]
  },
  {
   "cell_type": "code",
   "execution_count": 133,
   "metadata": {},
   "outputs": [
    {
     "data": {
      "text/html": [
       "<style>\n",
       ".list-inline {list-style: none; margin:0; padding: 0}\n",
       ".list-inline>li {display: inline-block}\n",
       ".list-inline>li:not(:last-child)::after {content: \"\\00b7\"; padding: 0 .5ex}\n",
       "</style>\n",
       "<ol class=list-inline><li>42714</li><li>3</li></ol>\n"
      ],
      "text/latex": [
       "\\begin{enumerate*}\n",
       "\\item 42714\n",
       "\\item 3\n",
       "\\end{enumerate*}\n"
      ],
      "text/markdown": [
       "1. 42714\n",
       "2. 3\n",
       "\n",
       "\n"
      ],
      "text/plain": [
       "[1] 42714     3"
      ]
     },
     "metadata": {},
     "output_type": "display_data"
    },
    {
     "data": {
      "text/html": [
       "<table>\n",
       "<caption>A data.frame: 1 × 3</caption>\n",
       "<thead>\n",
       "\t<tr><th></th><th scope=col>Coef</th><th scope=col>RBP</th><th scope=col>Tissue</th></tr>\n",
       "\t<tr><th></th><th scope=col>&lt;dbl&gt;</th><th scope=col>&lt;chr&gt;</th><th scope=col>&lt;chr&gt;</th></tr>\n",
       "</thead>\n",
       "<tbody>\n",
       "\t<tr><th scope=row>1</th><td>0</td><td>AAR2</td><td>Breast - Mammary Tissue</td></tr>\n",
       "</tbody>\n",
       "</table>\n"
      ],
      "text/latex": [
       "A data.frame: 1 × 3\n",
       "\\begin{tabular}{r|lll}\n",
       "  & Coef & RBP & Tissue\\\\\n",
       "  & <dbl> & <chr> & <chr>\\\\\n",
       "\\hline\n",
       "\t1 & 0 & AAR2 & Breast - Mammary Tissue\\\\\n",
       "\\end{tabular}\n"
      ],
      "text/markdown": [
       "\n",
       "A data.frame: 1 × 3\n",
       "\n",
       "| <!--/--> | Coef &lt;dbl&gt; | RBP &lt;chr&gt; | Tissue &lt;chr&gt; |\n",
       "|---|---|---|---|\n",
       "| 1 | 0 | AAR2 | Breast - Mammary Tissue |\n",
       "\n"
      ],
      "text/plain": [
       "  Coef RBP  Tissue                 \n",
       "1 0    AAR2 Breast - Mammary Tissue"
      ]
     },
     "metadata": {},
     "output_type": "display_data"
    }
   ],
   "source": [
    "dim(df)\n",
    "head(df,1)"
   ]
  },
  {
   "cell_type": "code",
   "execution_count": 148,
   "metadata": {},
   "outputs": [
    {
     "data": {
      "text/html": [
       "<style>\n",
       ".list-inline {list-style: none; margin:0; padding: 0}\n",
       ".list-inline>li {display: inline-block}\n",
       ".list-inline>li:not(:last-child)::after {content: \"\\00b7\"; padding: 0 .5ex}\n",
       "</style>\n",
       "<ol class=list-inline><li>'RNPS1'</li><li>'LSM2'</li><li>'CRNKL1'</li><li>'PPWD1'</li></ol>\n"
      ],
      "text/latex": [
       "\\begin{enumerate*}\n",
       "\\item 'RNPS1'\n",
       "\\item 'LSM2'\n",
       "\\item 'CRNKL1'\n",
       "\\item 'PPWD1'\n",
       "\\end{enumerate*}\n"
      ],
      "text/markdown": [
       "1. 'RNPS1'\n",
       "2. 'LSM2'\n",
       "3. 'CRNKL1'\n",
       "4. 'PPWD1'\n",
       "\n",
       "\n"
      ],
      "text/plain": [
       "[1] \"RNPS1\"  \"LSM2\"   \"CRNKL1\" \"PPWD1\" "
      ]
     },
     "metadata": {},
     "output_type": "display_data"
    }
   ],
   "source": [
    "head_df <- head(df[order(df$Coef), ], 100)\n",
    "selected_RBPs  <- unique(head_df$RBP)\n",
    "selected_RBPs"
   ]
  },
  {
   "cell_type": "code",
   "execution_count": 149,
   "metadata": {},
   "outputs": [
    {
     "ename": "ERROR",
     "evalue": "Error: $ operator is invalid for atomic vectors\n",
     "output_type": "error",
     "traceback": [
      "Error: $ operator is invalid for atomic vectors\nTraceback:\n"
     ]
    }
   ],
   "source": [
    "df$Tissue<-as.character(df$Tissue)\n",
    "\n",
    "for (i in 1:nrow(df))\n",
    "  \n",
    "  if (df$Tissue[i] %in% tissue)\n",
    "    \n",
    "    df$Tissue[i]<-as.character(labels$X[which(as.character(labels$tissue)==as.character(df$Tissue[i]))])\n",
    "\n",
    "\n"
   ]
  },
  {
   "cell_type": "code",
   "execution_count": 150,
   "metadata": {},
   "outputs": [],
   "source": [
    "df<-df[df$Coef!=0,]"
   ]
  },
  {
   "cell_type": "code",
   "execution_count": 154,
   "metadata": {},
   "outputs": [],
   "source": [
    "df$RBP<-as.character(df$RBP)\n",
    "\n",
    "df1<-df[df$RBP %in% c(\"RNPS1\", \"LSM2\",\"CRNKL1\", \"PPWD1\"),]\n",
    "\n",
    "pn1<-ggplot(df1,aes(factor(RBP),Coef)) + geom_violin(aes(fill=\"red\")) + scale_fill_manual(values = \"#4DBBD5FF\") \n",
    "\n",
    "pn1 <- pn1 + theme_minimal() +  theme(text = element_text(size=20),\n",
    "                                      axis.text = element_text(size=20, hjust=0.5),\n",
    "                                      axis.title.x=element_blank(),\n",
    "                                      axis.title.y = element_text(size=24),\n",
    "                                      plot.title = element_text(hjust = 0.5),\n",
    "                                      legend.position = \"none\") + ylab(\"\") + labs(title=\"\")+ylim(-2,2)+ geom_hline(yintercept=0)\n",
    "\n"
   ]
  },
  {
   "cell_type": "code",
   "execution_count": 155,
   "metadata": {},
   "outputs": [
    {
     "name": "stderr",
     "output_type": "stream",
     "text": [
      "Warning message:\n",
      "“Removed 12 rows containing non-finite values (stat_ydensity).”\n"
     ]
    },
    {
     "data": {
      "image/png": "[encoded data removed]",
      "text/plain": [
       "plot without title"
      ]
     },
     "metadata": {
      "image/png": {
       "height": 240,
       "width": 360
      },
      "text/plain": {
       "height": 240,
       "width": 360
      }
     },
     "output_type": "display_data"
    }
   ],
   "source": [
    "pn1"
   ]
  },
  {
   "cell_type": "markdown",
   "metadata": {},
   "source": [
    "## Create barplot of the number of RBPs that tend to promote skipping, the number of RBPs that tend to promote\n",
    "inclusion and the number of RBPs whose effect is context-specific, for the two RBP groups"
   ]
  },
  {
   "cell_type": "code",
   "execution_count": 156,
   "metadata": {},
   "outputs": [
    {
     "data": {
      "image/png": "[encoded data removed]",
      "text/plain": [
       "plot without title"
      ]
     },
     "metadata": {
      "image/png": {
       "height": 240,
       "width": 360
      },
      "text/plain": {
       "height": 240,
       "width": 360
      }
     },
     "output_type": "display_data"
    },
    {
     "data": {
      "image/png": "[encoded data removed]",
      "text/plain": [
       "plot without title"
      ]
     },
     "metadata": {
      "image/png": {
       "height": 240,
       "width": 360
      },
      "text/plain": {
       "height": 240,
       "width": 360
      }
     },
     "output_type": "display_data"
    }
   ],
   "source": [
    "spliceosome_genes = as.character(rbp.table$Gene[rbp.table$S==\"TRUE\"])\n",
    "\n",
    "splice_regulation_genes = as.character(rbp.table$Gene[rbp.table$R==\"TRUE\"])\n",
    "\n",
    "for (RBP_set in list(spliceosome=spliceosome_genes,splice_regulation=splice_regulation_genes))\n",
    "{\n",
    "  sum.pos<-sort(unlist(lapply(lapply(split(df$Coef[df$RBP %in% RBP_set],df$RBP[df$RBP %in% RBP_set]),\">\",0),sum)),decreasing = T)\n",
    "  \n",
    "  sum.neg<-sort(unlist(lapply(lapply(split(df$Coef[df$RBP %in% RBP_set],df$RBP[df$RBP %in% RBP_set]),\"<\",0),sum)),decreasing = T)\n",
    "  \n",
    "  sum.pos<-sum.pos[order(names(sum.pos))]\n",
    "  \n",
    "  sum.neg<-sum.neg[order(names(sum.neg))]\n",
    "  \n",
    "  pos.rbps<-names(which(sum.pos/(sum.pos+sum.neg)>=0.75 & (sum.pos+sum.neg>quantile(sum.pos+sum.neg,0.2))))\n",
    "  \n",
    "  neg.rbps<-names(which(sum.pos/(sum.pos+sum.neg)<=0.25 & (sum.pos+sum.neg>quantile(sum.pos+sum.neg,0.2))))\n",
    "  \n",
    "  cs.rbps<-names(which(sum.pos/(sum.pos+sum.neg)>0.25 & sum.pos/(sum.pos+sum.neg)<0.75 & (sum.pos+sum.neg>quantile(sum.pos+sum.neg,0.2))))\n",
    "  \n",
    "  df.counts<-data.frame(type=c(\"Skip\",\"Inc\",\"CS\"),counts=c(length(pos.rbps),length(neg.rbps),length(cs.rbps)))\n",
    "  \n",
    "  pn4_new <- ggplot(df.counts, aes(type, counts)) +  \n",
    "    geom_bar(fill = \"#00008B\",color=\"black\", position = \"dodge\", stat=\"identity\") + \n",
    "    geom_text(aes(x = type, y = counts + 10, label = paste(100 * round(counts/sum(counts), 3), \"%\", sep = \"\")), size = 3) +\n",
    "    guides(fill=FALSE) +\n",
    "    xlab(\"\") + scale_y_continuous(breaks = c(0, 20, 40), limits = c(0, 60))+\n",
    "    theme_minimal() +\n",
    "    theme(\n",
    "      axis.text = element_text(size = 8), \n",
    "      axis.text.x = element_text(angle = 90, hjust = 1), \n",
    "      axis.title = element_text(size = 10),\n",
    "      axis.title.y = element_text(vjust = 5)\n",
    "    )\n",
    "  show(pn4_new  )\n",
    "}\n",
    "\n",
    "\n"
   ]
  },
  {
   "cell_type": "code",
   "execution_count": 162,
   "metadata": {},
   "outputs": [
    {
     "data": {
      "text/html": [
       "FALSE"
      ],
      "text/latex": [
       "FALSE"
      ],
      "text/markdown": [
       "FALSE"
      ],
      "text/plain": [
       "[1] FALSE"
      ]
     },
     "metadata": {},
     "output_type": "display_data"
    }
   ],
   "source": [
    "file.exists(\"summary_hbm.txt\")"
   ]
  },
  {
   "cell_type": "code",
   "execution_count": 161,
   "metadata": {},
   "outputs": [
    {
     "name": "stderr",
     "output_type": "stream",
     "text": [
      "The files lv.txt or mt.txt not found in the folder ../data/ \n",
      "\n",
      "\n",
      "Generating lv.txt and mt.txt with perl parseMT.pl using summary_hbm.txt as input .. \n",
      "\n",
      "\n",
      "Warning message in system(paste0(\"perl parseMT.pl > parseMT_output.txt && \", \"mv lv.txt ../data/ && \", :\n",
      "“running command 'perl parseMT.pl > parseMT_output.txt && mv lv.txt ../data/ && mv mt.txt ../data/ && cp summary_hbm.txt  ../data/' had status 2”\n",
      "Done!\n",
      "\n",
      "\n"
     ]
    }
   ],
   "source": [
    "if ( (\"lv.txt\" %in% list.files(\"../data/\")) && (\"mt.txt\" %in% list.files(\"../data/\"))) {\n",
    "        message(\"The files lv.txt or mt.txt are available in the folder ../data/! \\n\")\n",
    "        message(\"The perl parseMT.pl command will not be re-run \\n\")\n",
    "}\n",
    "\n",
    "\n",
    "if ( (!(\"lv.txt\" %in% list.files(\"../data/\"))) | (!(\"mt.txt\" %in% list.files(\"../data/\")))) {\n",
    "        message(\"The files lv.txt or mt.txt not found in the folder ../data/ \\n\")\n",
    "        message(\"Generating lv.txt and mt.txt with perl parseMT.pl using summary_hbm.txt as input .. \\n\")\n",
    "        system(paste0(\"perl parseMT.pl > parseMT_output.txt && \", \n",
    "                      \"mv lv.txt ../data/ && \",\n",
    "                      \"mv mt.txt ../data/ && \",\n",
    "                      \"cp summary_hbm.txt  ../data/\"), \n",
    "               intern  = TRUE)\n",
    "        message(\"Done!\\n\")\n",
    "}\n",
    "\n"
   ]
  },
  {
   "cell_type": "markdown",
   "metadata": {},
   "source": [
    "## Metadata\n",
    "\n",
    "For replicability and reproducibility purposes, we also print the following metadata:\n",
    "\n",
    "1. Checksums of **\"artefacts\"**, files generated during the analysis and stored in the folder directory **`data`**\n",
    "2. List of environment metadata, dependencies, versions of libraries using `utils::sessionInfo()` and [`devtools::session_info()`](https://devtools.r-lib.org/reference/session_info.html)"
   ]
  },
  {
   "cell_type": "markdown",
   "metadata": {},
   "source": [
    "### 1. Checksums with the sha256 algorithm"
   ]
  },
  {
   "cell_type": "code",
   "execution_count": null,
   "metadata": {},
   "outputs": [],
   "source": [
    "figure_id       <- \"figures_3\"\n",
    "\n",
    "message(\"Generating sha256 checksums of the artefacts in the `..data/` directory .. \")\n",
    "system(paste0(\"cd ../data/ && find . -type f -exec sha256sum {} \\\\; > ../metadata/\",  figure_id, \"_sha256sums.txt\"), intern = TRUE)\n",
    "message(\"Done!\\n\")\n",
    "\n",
    "data.table::fread(paste0(\"../metadata/\", figure_id, \"_sha256sums.txt\"), header = FALSE, col.names = c(\"sha256sum\", \"file\"))"
   ]
  },
  {
   "cell_type": "markdown",
   "metadata": {},
   "source": [
    "### 2. Libraries metadata"
   ]
  },
  {
   "cell_type": "code",
   "execution_count": null,
   "metadata": {},
   "outputs": [],
   "source": [
    "dev_session_info   <- devtools::session_info()\n",
    "utils_session_info <- utils::sessionInfo()\n",
    "\n",
    "message(\"Saving `devtools::session_info()` objects in ../metadata/devtools_session_info.rds  ..\")\n",
    "saveRDS(dev_session_info, file = paste0(\"../metadata/\", figure_id, \"_devtools_session_info.rds\"))\n",
    "message(\"Done!\\n\")\n",
    "\n",
    "message(\"Saving `utils::sessionInfo()` objects in ../metadata/utils_session_info.rds  ..\")\n",
    "saveRDS(utils_session_info, file = paste0(\"../metadata/\", figure_id ,\"_utils_info.rds\"))\n",
    "message(\"Done!\\n\")\n",
    "\n",
    "dev_session_info$platform\n",
    "dev_session_info$packages[dev_session_info$packages$attached==TRUE, ]"
   ]
  }
 ],
 "metadata": {
  "kernelspec": {
   "display_name": "R",
   "language": "R",
   "name": "ir"
  },
  "language_info": {
   "codemirror_mode": "r",
   "file_extension": ".r",
   "mimetype": "text/x-r-source",
   "name": "R",
   "pygments_lexer": "r",
   "version": "3.6.2"
  }
 },
 "nbformat": 4,
 "nbformat_minor": 4
}
