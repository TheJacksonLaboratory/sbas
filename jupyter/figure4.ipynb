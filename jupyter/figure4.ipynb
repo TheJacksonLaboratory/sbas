{
 "cells": [
  {
   "cell_type": "markdown",
   "metadata": {},
   "source": [
    "# Figure 4: Nonsense-mediated decay in sex-biased alternative splicing"
   ]
  },
  {
   "cell_type": "markdown",
   "metadata": {},
   "source": [
    "A small description for the analysis, the metrics and how to interpret the figure."
   ]
  },
  {
   "cell_type": "markdown",
   "metadata": {},
   "source": [
    "## **NOTE**:\n",
    "\n",
    "We assume that you have cloned the analysis repository and have `cd` into the parent directory. Before starting with the analysis make sure you have first completed the dependencies set up by following the instructions described in the **`dependencies/README.md`** document. All paths defined in this Notebook are relative to the parent directory (repository). Please close this Notebook and start again by following the above guidelines if you have not completed the aforementioned steps."
   ]
  },
  {
   "cell_type": "markdown",
   "metadata": {},
   "source": [
    "## Loading dependencies"
   ]
  },
  {
   "cell_type": "code",
   "execution_count": 1,
   "metadata": {},
   "outputs": [
    {
     "ename": "ERROR",
     "evalue": "Error in library(ggsci): there is no package called ‘ggsci’\n",
     "output_type": "error",
     "traceback": [
      "Error in library(ggsci): there is no package called ‘ggsci’\nTraceback:\n",
      "1. library(ggsci)"
     ]
    }
   ],
   "source": [
    "library(ggplot2)\n",
    "library(ggsci)\n",
    "library(grid)\n",
    "Sys.setenv(TAR = \"/bin/tar\") "
   ]
  },
  {
   "cell_type": "markdown",
   "metadata": {},
   "source": [
    "##  Figure 4a"
   ]
  },
  {
   "cell_type": "markdown",
   "metadata": {},
   "source": [
    "This script creates figure 4a. Please run the following command first:\n",
    "\n",
    "`perl` [`parseMT.pl`](https://github.com/TheJacksonLaboratory/sbas/blob/master/dimorphAS/notebook/parseMT.pl)\n",
    "\n",
    "This creates the files needed for figure `4a` and `4b`, namely `lv.txt` and `mt.txt`"
   ]
  },
  {
   "cell_type": "code",
   "execution_count": 2,
   "metadata": {},
   "outputs": [
    {
     "data": {
      "text/html": [
       "'/mnt/shared/ec2-user/session_data/sbas/jupyter'"
      ],
      "text/latex": [
       "'/mnt/shared/ec2-user/session\\_data/sbas/jupyter'"
      ],
      "text/markdown": [
       "'/mnt/shared/ec2-user/session_data/sbas/jupyter'"
      ],
      "text/plain": [
       "[1] \"/mnt/shared/ec2-user/session_data/sbas/jupyter\""
      ]
     },
     "metadata": {},
     "output_type": "display_data"
    }
   ],
   "source": [
    "cd ../dimorphAS/notebook/ && perl parseMT.pl && mv lv.txt "
   ]
  },
  {
   "cell_type": "code",
   "execution_count": 2,
   "metadata": {},
   "outputs": [
    {
     "data": {
      "text/html": [
       "'/mnt/shared/ec2-user/session_data/sbas/templates'"
      ],
      "text/latex": [
       "'/mnt/shared/ec2-user/session\\_data/sbas/templates'"
      ],
      "text/markdown": [
       "'/mnt/shared/ec2-user/session_data/sbas/templates'"
      ],
      "text/plain": [
       "[1] \"/mnt/shared/ec2-user/session_data/sbas/templates\""
      ]
     },
     "metadata": {},
     "output_type": "display_data"
    }
   ],
   "source": [
    "dat <- read.table(\"lv.txt\", header=FALSE, sep = \"\\t\")\n",
    "\n",
    "colnames(dat) <- c(\"RBP\",\"Expression\")\n",
    "mypal <- pal_npg(\"nrc\", alpha = 0.7)(9)\n",
    "\n",
    "d2<-dat[dat$Expression!=0,]\n",
    "\n",
    "lm_fit <- lm(d2$Expression ~ d2$RBP, data=d2)\n",
    "LM<-summary(lm_fit)\n",
    "rsquared<-round(LM$r.squared,digits=2)  \n",
    "\n",
    "# save predictions of the model in the new data frame \n",
    "# together with variable you want to plot against\n",
    "predicted_df <- data.frame(expr_pred = predict(lm_fit, d2), RBP=d2$RBP)\n",
    "\n",
    "\n",
    "p<-ggplot(dat, aes(x=RBP, y=Expression)) + geom_point(shape=21,fill = mypal[3],size=3) +  theme_bw()\n",
    "#+ scale_fill_npg() \n",
    "p <- p + theme(axis.text = element_text(size=32, hjust=0.5),\n",
    "               axis.title.x=element_text(size=24),\n",
    "               axis.title.y = element_text(size=24),\n",
    "               axis.text.y = element_text(size=32),\n",
    "               panel.grid.major = element_blank(), \n",
    "               panel.grid.minor = element_blank()) \n",
    "p <- p +  geom_hline(yintercept=0, linetype=\"dashed\", color = mypal[4])\n",
    "p <- p +xlab('\\U27F6 \\n Sum of RBP effect magnitude')+ylab('Expression\\ninclusion \\U27F5 effect \\U27F6 skipping')\n",
    "p <- p+ geom_line(color='red',data = predicted_df, aes(y=expr_pred, x=RBP))\n",
    "mylabel<-paste(italic(r)^2~\"=\"~rsquared) \n",
    "p <- p+ geom_text(x = 3, y = 0.45, label = as.character(paste( \"r^2==\",rsquared)), size=7, parse = TRUE)\n",
    "p\n",
    "\n",
    "\n",
    "ggsave(file = \"fig4a.pdf\", plot = p)"
   ]
  },
  {
   "cell_type": "markdown",
   "metadata": {},
   "source": [
    "## ... \n",
    "more of the above sequence"
   ]
  },
  {
   "cell_type": "markdown",
   "metadata": {},
   "source": [
    "## Metadata\n",
    "\n",
    "For replicability and reproducibility purposes, we also print the following metadata:\n",
    "\n",
    "1. Checksums of **'artefacts'**, files generated during the analysis and stored in the folder directory **`data`**\n",
    "2. List of environment metadata, dependencies, versions of libraries using `utils::sessionInfo()` and [`devtools::session_info()`](https://devtools.r-lib.org/reference/session_info.html)"
   ]
  },
  {
   "cell_type": "markdown",
   "metadata": {},
   "source": [
    "### 1. Checksums with the sha256 algorithm"
   ]
  },
  {
   "cell_type": "code",
   "execution_count": null,
   "metadata": {},
   "outputs": [],
   "source": [
    "figure_id   = \"<the-figure-i-am-working-on>\"\n",
    "\n",
    "message(\"Generating sha256 checksums of the artefacts in the `..data/` directory .. \")\n",
    "system(paste0(\"cd ../data/ && sha256sum * > ../metadata/\", figure_id, \"_sha256sums.txt\"), intern = TRUE)\n",
    "message(\"Done!\\n\")\n",
    "\n",
    "data.table::fread(paste0(\"../metadata/\", figure_id, \"_sha256sums.txt\"), header = FALSE, col.names = c(\"sha256sum\", \"file\"))"
   ]
  },
  {
   "cell_type": "markdown",
   "metadata": {},
   "source": [
    "### 2. Libraries metadata"
   ]
  },
  {
   "cell_type": "code",
   "execution_count": null,
   "metadata": {},
   "outputs": [],
   "source": [
    "figure_id   = \"<the-figure-i-am-working-on>\"\n",
    "\n",
    "dev_session_info   <- devtools::session_info()\n",
    "utils_session_info <- utils::sessionInfo()\n",
    "\n",
    "message(\"Saving `devtools::session_info()` objects in ../metadata/devtools_session_info.rds  ..\")\n",
    "saveRDS(dev_session_info, file = paste0(\"../metadata/\", figure_id, \"_devtools_session_info.rds\"))\n",
    "message(\"Done!\\n\")\n",
    "\n",
    "message(\"Saving `utils::sessionInfo()` objects in ../metadata/utils_session_info.rds  ..\")\n",
    "saveRDS(utils_session_info, file = paste0(\"../metadata/\", figure_id ,\"_utils_info.rds\"))\n",
    "message(\"Done!\\n\")\n",
    "\n",
    "session_info$platform\n",
    "session_info$packages[session_info$packages$attached==TRUE, ]"
   ]
  }
 ],
 "metadata": {
  "kernelspec": {
   "display_name": "R",
   "language": "R",
   "name": "ir"
  },
  "language_info": {
   "codemirror_mode": "r",
   "file_extension": ".r",
   "mimetype": "text/x-r-source",
   "name": "R",
   "pygments_lexer": "r",
   "version": "3.6.1"
  }
 },
 "nbformat": 4,
 "nbformat_minor": 4
}
