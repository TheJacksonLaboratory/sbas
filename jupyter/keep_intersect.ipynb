{
 "cells": [
  {
   "cell_type": "markdown",
   "metadata": {},
   "source": [
    "# Keep intersect of samples across the 50 rMATS final matrices"
   ]
  },
  {
   "cell_type": "markdown",
   "metadata": {},
   "source": [
    "## 0. Loading dependencies"
   ]
  },
  {
   "cell_type": "code",
   "execution_count": null,
   "metadata": {},
   "outputs": [],
   "source": [
    "# util R packages\n",
    "library(readr)\n",
    "library(data.table)\n",
    "library(R.utils) # required for data.table's gzip util"
   ]
  },
  {
   "cell_type": "code",
   "execution_count": null,
   "metadata": {
    "tags": [
     "parameters"
    ]
   },
   "outputs": [],
   "source": [
    "# set parameters\n",
    "rmats_matrices_suffix <- \"*.txt.gz\""
   ]
  },
  {
   "cell_type": "markdown",
   "metadata": {},
   "source": [
    "## 1. Decompress the `rmats_final.tar.gz` \n",
    "[CloudOS link](https://cloudos.lifebit.ai/app/jobs/5e83b03ee7d1990104ccacd4) for the job merging all individual samples matrices into 50 rMATS final matrices"
   ]
  },
  {
   "cell_type": "code",
   "execution_count": null,
   "metadata": {},
   "outputs": [],
   "source": [
    "system(\"tar -xvzf rmats_final.tar.gz\", intern = TRUE)"
   ]
  },
  {
   "cell_type": "markdown",
   "metadata": {},
   "source": [
    "## 2. Delete the `*txt.filelist.txt` files that are not required"
   ]
  },
  {
   "cell_type": "code",
   "execution_count": null,
   "metadata": {},
   "outputs": [],
   "source": [
    "system(\"rm -f *txt.filelist.txt\", intern = TRUE)"
   ]
  },
  {
   "cell_type": "markdown",
   "metadata": {},
   "source": [
    "## 3. Collect the samples names per file for each one of the 50 rMATS final matrices\n",
    "\n",
    "We will use a bash for loop to write the header with the samples' SRA ids in a single column file named `<initial_rmats_matrix>.samples.csv`. After running the following command we will have 50 single column files.\n",
    "\n",
    "The command is the following\n",
    "([detailed explanation here](https://explainshell.com/explain?cmd=for+entry+in+%60ls+*txt%60%3B+do+echo+%24entry+%3E%3E+%24%7Bentry%7D.samples.csv+%26%26+head+-1+%24entry+%7C+sed+%27s%2F%2C%2F%5C%27%24%27%5Cn%27%27%2Fg%27+%7C+grep+-v+ID+%3E%3E+%24%7Bentry%7D.samples.csv%3B+done))\n",
    "\n",
    "```bash\n",
    "for entry in `ls *txt`; do echo $entry >> ${entry}.samples.csv && head -1 $entry | sed 's/,/\\'$'\\n''/g' | grep -v ID >> ${entry}.samples.csv; done\n",
    "\n",
    "```\n",
    "\n",
    "- For every file with a *txt suffix:\n",
    "```bash \n",
    "for entry in `ls *txt` \n",
    "```\n",
    "\n",
    "- Print the filename,<br> \n",
    "as a first row in a filenamed **${entry}.samples.csv**\n",
    "(This will be the header of the single column samples id file) <br>\n",
    "\n",
    "- Print the whole first row of the file (the header with all sample ids)\n",
    "\n",
    "```bash\n",
    "do echo $entry >> ${entry}.samples.csv && head -1 $entry \n",
    "```\n",
    "\n",
    "- pipe this into sed, to replace the `\\t` with `\\n` to create a 1 column file\n",
    "\n",
    "\n",
    "```bash\n",
    " sed 's/,/\\'$'\\n''/g'\n",
    "```\n",
    "\n",
    "- pipe this into `grep -v` to omit the `ID` colname \n",
    "\n",
    "```bash\n",
    "grep -v ID\n",
    "```\n",
    "\n",
    "We wrote the command in a script and now we can run it with bash:"
   ]
  },
  {
   "cell_type": "code",
   "execution_count": null,
   "metadata": {},
   "outputs": [],
   "source": [
    "system(\"bash collect_sample_names.sh\", intern=TRUE)"
   ]
  },
  {
   "cell_type": "markdown",
   "metadata": {},
   "source": [
    "**NOTE**\n",
    "\n",
    "We will also `gzip` the rmats matrices for saving space in our device. This step takes a long time as the file sizes are considerably large."
   ]
  },
  {
   "cell_type": "code",
   "execution_count": null,
   "metadata": {},
   "outputs": [],
   "source": [
    "system(\"gzip *txt\", intern = TRUE)"
   ]
  },
  {
   "cell_type": "markdown",
   "metadata": {},
   "source": [
    "## 4. Use `paste` in `bash` to combine the 50 single column files into one metadata .csv file\n",
    "\n",
    "The `colnames` will be the matrices names and each column will have SRA ids as entries.\n",
    "\n",
    "The command: \n",
    "\n",
    "```bash\n",
    "paste -d',' *.samples.csv > samples.csv\n",
    "```"
   ]
  },
  {
   "cell_type": "code",
   "execution_count": null,
   "metadata": {},
   "outputs": [],
   "source": [
    "system(\"paste -d',' *.samples.csv > samples.csv\", intern = TRUE)"
   ]
  },
  {
   "cell_type": "markdown",
   "metadata": {},
   "source": [
    "Let's now inspect the created dataframe:|"
   ]
  },
  {
   "cell_type": "code",
   "execution_count": null,
   "metadata": {},
   "outputs": [],
   "source": [
    "samples <- read.csv(\"samples.csv\", sep = \",\")"
   ]
  },
  {
   "cell_type": "code",
   "execution_count": null,
   "metadata": {},
   "outputs": [],
   "source": [
    "tail(samples)\n",
    "message(paste0(\"\\nmatrix dimensions:  \",paste0(dim(samples), collapse = \" , \")))"
   ]
  },
  {
   "cell_type": "markdown",
   "metadata": {},
   "source": [
    "Now we can delete the single column files:\n"
   ]
  },
  {
   "cell_type": "code",
   "execution_count": null,
   "metadata": {},
   "outputs": [],
   "source": [
    "system(\"rm -f *.txt.samples.csv\", intern = TRUE)"
   ]
  },
  {
   "cell_type": "markdown",
   "metadata": {},
   "source": [
    "## 5. Find out what are the sample ids present in all 50 matrices\n",
    "In order to do that, we will collect all the SRA ids present in the collective table in a vector and count the frequency of the samples. We will select only the ids that have a frequency in the vector equalt to 50."
   ]
  },
  {
   "cell_type": "code",
   "execution_count": null,
   "metadata": {},
   "outputs": [],
   "source": [
    "all <- readr::read_csv(\"samples.csv\", col_names = TRUE)\n",
    "all_counts       <- as.vector(t(all))\n",
    "all_counts_df    <- as.data.frame(table(all_counts))"
   ]
  },
  {
   "cell_type": "code",
   "execution_count": null,
   "metadata": {},
   "outputs": [],
   "source": [
    "head(all_counts_df, 2)"
   ]
  },
  {
   "cell_type": "markdown",
   "metadata": {},
   "source": [
    "Now we will create a vector named `toKeep` to use it for filtering the dataframe. We will select from each one of the rMATS final matrices only the columns which column names are included in the `toKeep` list. We are also adding in the collection the first column named `'ID'` which we omited including in the <rmats-file>.sample.csv matrices."
   ]
  },
  {
   "cell_type": "code",
   "execution_count": null,
   "metadata": {},
   "outputs": [],
   "source": [
    "toKeep   <- c(\"ID\", as.vector(all_counts_df$all_counts[(all_counts_df$Freq==50)]))\n",
    "toRemove <- c(as.vector(all_counts_df$all_counts[(all_counts_df$Freq!=50)]))\n",
    "message(paste0(\"length(toKeep): \" , length(toKeep) ))\n",
    "message(paste0(\"length(toRemove): \", length(toRemove) ))"
   ]
  },
  {
   "cell_type": "markdown",
   "metadata": {},
   "source": [
    "## 6. Apply the filtering to all 50 matrices\n",
    "We loop over all rMATS files to select from each table only the columns in the intersect of samples."
   ]
  },
  {
   "cell_type": "code",
   "execution_count": null,
   "metadata": {},
   "outputs": [],
   "source": [
    "# create a dir to store the filtered matrices named intersect if it doesn't exist -p options\n",
    "system(\"mkdir -pv intersect\", intern = TRUE)"
   ]
  },
  {
   "cell_type": "code",
   "execution_count": null,
   "metadata": {},
   "outputs": [],
   "source": [
    "my_files <- list.files(recursive = FALSE, pattern = rmats_matrices_suffix)\n",
    "length(my_files)\n",
    "head(my_files)"
   ]
  },
  {
   "cell_type": "markdown",
   "metadata": {},
   "source": [
    "We will run below a forloop that will\n",
    "\n",
    "1. read with the efficient [`{data.table}` R package](https://csgillespie.github.io/efficientR/data-processing-with-data-table.html) each of the `.txt.gzip` rMATS matrices files\n",
    "2. filter and keep only the SRA samples that belong to the intersect of the sample ids across the 50 matrices\n",
    "3. write the updated filtered rMATS table directly in a compressed `.txt.gz` file in the folder named `intersect`\n",
    "4. delete the initial respective matrix\n",
    "\n",
    "> **NOTE**: The `{data.table}` R package is very efficient, especially for handling files with many columns. Here's a benchmark from the \"Efficient R programming\" book[$^{1}$](https://csgillespie.github.io/efficientR/) from Colin Gillespie and Robin Lovelace:\n",
    "\n",
    " \n",
    " <center><a href=\"https://csgillespie.github.io/efficientR/data-processing-with-data-table.html\" target=\"_blank\"><img src=\"https://csgillespie.github.io/efficientR/_main_files/figure-html/dtplot-1.png\"  width=\"400\" align=\"center\" /></a></center>\n",
    " \n"
   ]
  },
  {
   "cell_type": "markdown",
   "metadata": {},
   "source": [
    "Let's start the for loop and count time of execution:"
   ]
  },
  {
   "cell_type": "code",
   "execution_count": null,
   "metadata": {},
   "outputs": [],
   "source": [
    "# Start the clock!\n",
    "start_time <- Sys.time()\n",
    "\n",
    "for (i in 1:length(my_files)) {\n",
    "    filename <- my_files[[i]]\n",
    "    # The data.table R package can read/write with gzip compression\n",
    "    rmats              <- data.table::fread(filename, sep = \",\")\n",
    "\n",
    "    # with = FALSE is necessary, follows syntax idiom of the data.table package\n",
    "    rmats_filtered     <- rmats[ , toKeep, with=FALSE]\n",
    "\n",
    "    data.table::fwrite(rmats_filtered, \n",
    "                     file = paste0(\"intersect/\", filename), \n",
    "                     sep = \",\", \n",
    "                     compress = \"gzip\",\n",
    "                     col.names = TRUE)\n",
    "\n",
    "    # Remove the objects after the file is written\n",
    "    message(paste0(i, \". '\", filename, \"' updated\"), appendLF = FALSE)  \n",
    "    system(paste0(\"rm \" , filename), intern = TRUE)\n",
    "    rm(filename, rmats, rmats_filtered)\n",
    "\n",
    "}\n",
    "end_time <- Sys.time()\n",
    "end_time - start_time\n"
   ]
  }
 ],
 "metadata": {
  "kernelspec": {
   "display_name": "R",
   "language": "R",
   "name": "ir"
  },
  "language_info": {
   "codemirror_mode": "r",
   "file_extension": ".r",
   "mimetype": "text/x-r-source",
   "name": "R",
   "pygments_lexer": "r",
   "version": "3.6.2"
  }
 },
 "nbformat": 4,
 "nbformat_minor": 4
}
