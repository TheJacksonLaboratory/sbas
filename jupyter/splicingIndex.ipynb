{
 "cells": [
  {
   "cell_type": "markdown",
   "metadata": {
    "papermill": {
     "duration": 0.009567,
     "end_time": "2021-05-21T02:48:19.676427",
     "exception": false,
     "start_time": "2021-05-21T02:48:19.666860",
     "status": "completed"
    },
    "tags": []
   },
   "source": [
    "# SplicingIndex figure\n",
    "\n",
    "This notebook creates a single figure, **splicingIndex.pdf**, a plot showing the number of AS events per 1000 exons for each chromosome."
   ]
  },
  {
   "cell_type": "code",
   "execution_count": 1,
   "metadata": {
    "execution": {
     "iopub.execute_input": "2021-05-21T02:48:19.778215Z",
     "iopub.status.busy": "2021-05-21T02:48:19.774965Z",
     "iopub.status.idle": "2021-05-21T02:48:27.846712Z",
     "shell.execute_reply": "2021-05-21T02:48:27.845224Z"
    },
    "papermill": {
     "duration": 8.161733,
     "end_time": "2021-05-21T02:48:27.846971",
     "exception": false,
     "start_time": "2021-05-21T02:48:19.685238",
     "status": "completed"
    },
    "tags": []
   },
   "outputs": [],
   "source": [
    "start_time <- Sys.time()\n",
    "suppressMessages({\n",
    "    options(warn = 1)\n",
    "    library(dplyr)\n",
    "    library(devtools)\n",
    "    library(ggplot2)\n",
    "    library(rtracklayer)\n",
    "    library(GenomeInfoDb)\n",
    "    library(GenomeInfoDbData)\n",
    "})"
   ]
  },
  {
   "cell_type": "markdown",
   "metadata": {
    "papermill": {
     "duration": 0.008292,
     "end_time": "2021-05-21T02:48:27.863843",
     "exception": false,
     "start_time": "2021-05-21T02:48:27.855551",
     "status": "completed"
    },
    "tags": []
   },
   "source": [
    "### 1. read in gene_as.tsv data containing all significant alternative splicing events"
   ]
  },
  {
   "cell_type": "code",
   "execution_count": 2,
   "metadata": {
    "execution": {
     "iopub.execute_input": "2021-05-21T02:48:27.913286Z",
     "iopub.status.busy": "2021-05-21T02:48:27.883525Z",
     "iopub.status.idle": "2021-05-21T02:48:27.949564Z",
     "shell.execute_reply": "2021-05-21T02:48:27.948085Z"
    },
    "papermill": {
     "duration": 0.07775,
     "end_time": "2021-05-21T02:48:27.949697",
     "exception": false,
     "start_time": "2021-05-21T02:48:27.871947",
     "status": "completed"
    },
    "tags": []
   },
   "outputs": [
    {
     "data": {
      "text/html": [
       "<table class=\"dataframe\">\n",
       "<caption>A data.frame: 2 × 15</caption>\n",
       "<thead>\n",
       "\t<tr><th></th><th scope=col>GeneJunction</th><th scope=col>ASE</th><th scope=col>ASE_IDX</th><th scope=col>Tissue</th><th scope=col>counts</th><th scope=col>Display</th><th scope=col>GeneSymbol</th><th scope=col>GeneID</th><th scope=col>chr</th><th scope=col>logFC</th><th scope=col>AveExpr</th><th scope=col>t</th><th scope=col>PValue</th><th scope=col>AdjPVal</th><th scope=col>B</th></tr>\n",
       "\t<tr><th></th><th scope=col>&lt;chr&gt;</th><th scope=col>&lt;chr&gt;</th><th scope=col>&lt;int&gt;</th><th scope=col>&lt;chr&gt;</th><th scope=col>&lt;int&gt;</th><th scope=col>&lt;chr&gt;</th><th scope=col>&lt;chr&gt;</th><th scope=col>&lt;chr&gt;</th><th scope=col>&lt;chr&gt;</th><th scope=col>&lt;dbl&gt;</th><th scope=col>&lt;dbl&gt;</th><th scope=col>&lt;dbl&gt;</th><th scope=col>&lt;dbl&gt;</th><th scope=col>&lt;dbl&gt;</th><th scope=col>&lt;dbl&gt;</th></tr>\n",
       "</thead>\n",
       "<tbody>\n",
       "\t<tr><th scope=row>1</th><td>CYB5R1-2513</td><td>A3SS</td><td>2513</td><td>brain_hippocampus </td><td>1</td><td>Hippocampus </td><td>CYB5R1</td><td>ENSG00000159348.13</td><td>chr1 </td><td> 4.248889</td><td>5.779254</td><td> 5.126318</td><td>7.07777e-07</td><td>0.003560118</td><td>5.185446</td></tr>\n",
       "\t<tr><th scope=row>2</th><td>ANK3-4589  </td><td>A3SS</td><td>4589</td><td>brain_hypothalamus</td><td>1</td><td>Hypothalamus</td><td>ANK3  </td><td>ENSG00000151150.22</td><td>chr10</td><td>-6.419966</td><td>4.170207</td><td>-4.656180</td><td>6.14524e-06</td><td>0.032244072</td><td>3.210014</td></tr>\n",
       "</tbody>\n",
       "</table>\n"
      ],
      "text/latex": [
       "A data.frame: 2 × 15\n",
       "\\begin{tabular}{r|lllllllllllllll}\n",
       "  & GeneJunction & ASE & ASE\\_IDX & Tissue & counts & Display & GeneSymbol & GeneID & chr & logFC & AveExpr & t & PValue & AdjPVal & B\\\\\n",
       "  & <chr> & <chr> & <int> & <chr> & <int> & <chr> & <chr> & <chr> & <chr> & <dbl> & <dbl> & <dbl> & <dbl> & <dbl> & <dbl>\\\\\n",
       "\\hline\n",
       "\t1 & CYB5R1-2513 & A3SS & 2513 & brain\\_hippocampus  & 1 & Hippocampus  & CYB5R1 & ENSG00000159348.13 & chr1  &  4.248889 & 5.779254 &  5.126318 & 7.07777e-07 & 0.003560118 & 5.185446\\\\\n",
       "\t2 & ANK3-4589   & A3SS & 4589 & brain\\_hypothalamus & 1 & Hypothalamus & ANK3   & ENSG00000151150.22 & chr10 & -6.419966 & 4.170207 & -4.656180 & 6.14524e-06 & 0.032244072 & 3.210014\\\\\n",
       "\\end{tabular}\n"
      ],
      "text/markdown": [
       "\n",
       "A data.frame: 2 × 15\n",
       "\n",
       "| <!--/--> | GeneJunction &lt;chr&gt; | ASE &lt;chr&gt; | ASE_IDX &lt;int&gt; | Tissue &lt;chr&gt; | counts &lt;int&gt; | Display &lt;chr&gt; | GeneSymbol &lt;chr&gt; | GeneID &lt;chr&gt; | chr &lt;chr&gt; | logFC &lt;dbl&gt; | AveExpr &lt;dbl&gt; | t &lt;dbl&gt; | PValue &lt;dbl&gt; | AdjPVal &lt;dbl&gt; | B &lt;dbl&gt; |\n",
       "|---|---|---|---|---|---|---|---|---|---|---|---|---|---|---|---|\n",
       "| 1 | CYB5R1-2513 | A3SS | 2513 | brain_hippocampus  | 1 | Hippocampus  | CYB5R1 | ENSG00000159348.13 | chr1  |  4.248889 | 5.779254 |  5.126318 | 7.07777e-07 | 0.003560118 | 5.185446 |\n",
       "| 2 | ANK3-4589   | A3SS | 4589 | brain_hypothalamus | 1 | Hypothalamus | ANK3   | ENSG00000151150.22 | chr10 | -6.419966 | 4.170207 | -4.656180 | 6.14524e-06 | 0.032244072 | 3.210014 |\n",
       "\n"
      ],
      "text/plain": [
       "  GeneJunction ASE  ASE_IDX Tissue             counts Display      GeneSymbol\n",
       "1 CYB5R1-2513  A3SS 2513    brain_hippocampus  1      Hippocampus  CYB5R1    \n",
       "2 ANK3-4589    A3SS 4589    brain_hypothalamus 1      Hypothalamus ANK3      \n",
       "  GeneID             chr   logFC     AveExpr  t         PValue      AdjPVal    \n",
       "1 ENSG00000159348.13 chr1   4.248889 5.779254  5.126318 7.07777e-07 0.003560118\n",
       "2 ENSG00000151150.22 chr10 -6.419966 4.170207 -4.656180 6.14524e-06 0.032244072\n",
       "  B       \n",
       "1 5.185446\n",
       "2 3.210014"
      ]
     },
     "metadata": {},
     "output_type": "display_data"
    }
   ],
   "source": [
    "filename <- \"../data/gene_as.tsv\"\n",
    "gene_as <- read.table(filename, header=TRUE, sep=\"\\t\", skipNul=FALSE, stringsAsFactors = FALSE)\n",
    "head(gene_as,2)"
   ]
  },
  {
   "cell_type": "markdown",
   "metadata": {
    "papermill": {
     "duration": 0.008353,
     "end_time": "2021-05-21T02:48:27.966777",
     "exception": false,
     "start_time": "2021-05-21T02:48:27.958424",
     "status": "completed"
    },
    "tags": []
   },
   "source": [
    "### 2 Count most frequent spliced chromosomes\n",
    "To get an indication of which chromosome has the most frequent slicing event (regardless of type)\n",
    "We create an index based upon the number of exons per chromosome.\n",
    "\n",
    "get the annotation file, at this writing, gencode.v30.annotation.gtf\n",
    "The information as to the number of exons within the chromosome may be found there"
   ]
  },
  {
   "cell_type": "code",
   "execution_count": 3,
   "metadata": {
    "execution": {
     "iopub.execute_input": "2021-05-21T02:48:27.990475Z",
     "iopub.status.busy": "2021-05-21T02:48:27.988342Z",
     "iopub.status.idle": "2021-05-21T02:49:04.292682Z",
     "shell.execute_reply": "2021-05-21T02:49:04.291690Z"
    },
    "papermill": {
     "duration": 36.317571,
     "end_time": "2021-05-21T02:49:04.292827",
     "exception": false,
     "start_time": "2021-05-21T02:48:27.975256",
     "status": "completed"
    },
    "tags": []
   },
   "outputs": [],
   "source": [
    "if (!(\"gencode.v30.annotation.gtf.gz\" %in% list.files(\"../data/\"))) {\n",
    "    message(\"downloading gencode v30 annotation\\n\")\n",
    "    system(\"wget -O ../data/gencode.v30.annotation.gtf.gz ftp://ftp.ebi.ac.uk/pub/databases/gencode/Gencode_human/release_30/gencode.v30.annotation.gtf.gz\")\n",
    "    message(\"Done!\\n\")\n",
    "    message(\"Unzipping compressed file gencode.v30.annotation.gtf.gz..\")\n",
    "    system(\"gunzip ../data/gencode.v30.annotation.gtf.gz\", intern = TRUE)\n",
    "    message(\"Done! gencode.v30.annotation.gtf can be found in ../data/\")\n",
    "}\n",
    "gencode <- rtracklayer::import(\"../data/gencode.v30.annotation.gtf\")"
   ]
  },
  {
   "cell_type": "code",
   "execution_count": 4,
   "metadata": {
    "execution": {
     "iopub.execute_input": "2021-05-21T02:49:04.324847Z",
     "iopub.status.busy": "2021-05-21T02:49:04.323072Z",
     "iopub.status.idle": "2021-05-21T02:49:08.335075Z",
     "shell.execute_reply": "2021-05-21T02:49:08.333419Z"
    },
    "papermill": {
     "duration": 4.033335,
     "end_time": "2021-05-21T02:49:08.335252",
     "exception": false,
     "start_time": "2021-05-21T02:49:04.301917",
     "status": "completed"
    },
    "tags": []
   },
   "outputs": [
    {
     "name": "stdout",
     "output_type": "stream",
     "text": [
      "Rows: 23\n",
      "Columns: 4\n",
      "$ chr        \u001b[3m\u001b[90m<fct>\u001b[39m\u001b[23m chrX, chr10, chr16, chr17, chr12, chr9, chr21, chr18, chr7,…\n",
      "$ n          \u001b[3m\u001b[90m<int>\u001b[39m\u001b[23m 18, 20, 21, 26, 22, 13, 4, 6, 16, 13, 7, 7, 5, 17, 10, 22, …\n",
      "$ ExonCounts \u001b[3m\u001b[90m<dbl>\u001b[39m\u001b[23m 40029, 47124, 61199, 78291, 73881, 46079, 14629, 22410, 619…\n",
      "$ Index      \u001b[3m\u001b[90m<dbl>\u001b[39m\u001b[23m 0.44967399, 0.42441219, 0.34314286, 0.33209437, 0.29777615,…\n"
     ]
    },
    {
     "name": "stderr",
     "output_type": "stream",
     "text": [
      "res_sorted has 23 chromosomes with data about events, exons, and the splicing index\n",
      "\n"
     ]
    }
   ],
   "source": [
    "exons <- gencode[ gencode$type == \"exon\", ]\n",
    "exons <- as.data.frame(exons)\n",
    "\n",
    "#Obtain chromosomes we have splicing information for (recall we did not use chr Y in our analysis)\n",
    "all_chr <- as.character(unique(gene_as$chr))\n",
    "chr_counts <- rep(0, length(all_chr))\n",
    "\n",
    "\n",
    "for (i in 1:length(all_chr)) {\n",
    "  chr_counts[i] <- nrow(exons[exons$seqnames == all_chr[i], ])\n",
    "}\n",
    "\n",
    "exon_counts <- data.frame(chr = all_chr, counts = chr_counts)\n",
    "\n",
    "# Count most frequent spliced chromosomes\n",
    "res <- gene_as %>% group_by(chr) %>% count(chr) %>% arrange(desc(n)) %>% as.data.frame()\n",
    "res$chr <- factor(res$chr, levels = res$chr)\n",
    "\n",
    "idx <- match(res$chr, exon_counts$chr)\n",
    "\n",
    "res$ExonCounts <- exon_counts$counts[idx]\n",
    "\n",
    "res$Index <- (res$n / res$ExonCounts) * 1000\n",
    "\n",
    "res_sorted <- res %>% arrange(desc(Index))\n",
    "res_sorted$chr <- factor(res_sorted$chr, levels = res_sorted$chr)\n",
    "glimpse(res_sorted)\n",
    "message(\"res_sorted has \", length(res_sorted$chr), \" chromosomes with data about events, exons, and the splicing index\")"
   ]
  },
  {
   "cell_type": "code",
   "execution_count": 5,
   "metadata": {
    "execution": {
     "iopub.execute_input": "2021-05-21T02:49:08.359946Z",
     "iopub.status.busy": "2021-05-21T02:49:08.358381Z",
     "iopub.status.idle": "2021-05-21T02:49:08.377822Z",
     "shell.execute_reply": "2021-05-21T02:49:08.376487Z"
    },
    "papermill": {
     "duration": 0.033034,
     "end_time": "2021-05-21T02:49:08.377961",
     "exception": false,
     "start_time": "2021-05-21T02:49:08.344927",
     "status": "completed"
    },
    "tags": []
   },
   "outputs": [],
   "source": [
    "# Colors for uniformity\n",
    "# Let's use the following colors for uniformity\n",
    "darkblue <- \"#3c5488\"\n",
    "red <- \"#e64b35\"\n",
    "nearlyblack <- \"#040C04\"\n",
    "purple <- \"#790079\"\n",
    "orange = \"#ff9900\""
   ]
  },
  {
   "cell_type": "code",
   "execution_count": 6,
   "metadata": {
    "execution": {
     "iopub.execute_input": "2021-05-21T02:49:08.402465Z",
     "iopub.status.busy": "2021-05-21T02:49:08.400853Z",
     "iopub.status.idle": "2021-05-21T02:49:09.054126Z",
     "shell.execute_reply": "2021-05-21T02:49:09.053294Z"
    },
    "papermill": {
     "duration": 0.667224,
     "end_time": "2021-05-21T02:49:09.054271",
     "exception": false,
     "start_time": "2021-05-21T02:49:08.387047",
     "status": "completed"
    },
    "tags": []
   },
   "outputs": [
    {
     "name": "stderr",
     "output_type": "stream",
     "text": [
      "Saving 6.67 x 6.67 in image\n",
      "\n",
      "Saved plot as ../pdf/splicingIndex.pdf\n",
      "\n"
     ]
    },
    {
     "data": {
      "image/png": "[encoded data removed]",
      "text/plain": [
       "plot without title"
      ]
     },
     "metadata": {
      "image/png": {
       "height": 420,
       "width": 420
      }
     },
     "output_type": "display_data"
    }
   ],
   "source": [
    "g2 <- ggplot(res_sorted, aes(x = chr, y = Index, size = n)) +\n",
    "  geom_point(color = darkblue) +\n",
    "  theme_bw() +\n",
    "  theme(axis.text.x = element_text(size=16, angle = 270, hjust = 0.0, vjust = 0.5),\n",
    "        axis.text.y = element_text(size=32),\n",
    "        axis.title.x = element_blank(),\n",
    "        axis.title.y = element_text(face=\"plain\", colour=\"black\", \n",
    "                                    size=18),\n",
    "        legend.title=element_text(face=\"plain\", colour=\"black\", \n",
    "                                    size=18),\n",
    "        legend.text = element_text(face=\"plain\", colour=\"black\", \n",
    "                                   size=32),\n",
    "        legend.position = c(0.8, 0.7)) +\n",
    "  scale_fill_viridis_c(aesthetics = c(\"colour\", \"fill\"),\n",
    "                       option = \"plasma\",\n",
    "                       limits = c(1, 650)) +\n",
    "  ylab(paste(\"Normalized number of sex-biased ASE\")) +\n",
    "  guides(size = guide_legend(title = \"Unnormalized\\nnumber of\\nsex-biased\\nASE per\\nchromosome\"))\n",
    "ggsave(\"../pdf/splicingIndex.pdf\",g2)\n",
    "message(\"Saved plot as ../pdf/splicingIndex.pdf\")\n",
    "g2"
   ]
  },
  {
   "cell_type": "markdown",
   "metadata": {
    "papermill": {
     "duration": 0.011608,
     "end_time": "2021-05-21T02:49:09.077923",
     "exception": false,
     "start_time": "2021-05-21T02:49:09.066315",
     "status": "completed"
    },
    "tags": []
   },
   "source": [
    "### Appendix - Metadata\n",
    "\n",
    "For replicability and reproducibility purposes, we also print the following metadata:\n",
    "\n",
    "1. Checksums of **'artefacts'**, files generated during the analysis and stored in the folder directory **`data`**\n",
    "2. List of environment metadata, dependencies, versions of libraries using `utils::sessionInfo()` and [`devtools::session_info()`](https://devtools.r-lib.org/reference/session_info.html)"
   ]
  },
  {
   "cell_type": "markdown",
   "metadata": {
    "papermill": {
     "duration": 0.011506,
     "end_time": "2021-05-21T02:49:09.100934",
     "exception": false,
     "start_time": "2021-05-21T02:49:09.089428",
     "status": "completed"
    },
    "tags": []
   },
   "source": [
    "### Appendix 1. Checksums with the sha256 algorithm"
   ]
  },
  {
   "cell_type": "code",
   "execution_count": 7,
   "metadata": {
    "execution": {
     "iopub.execute_input": "2021-05-21T02:49:09.130846Z",
     "iopub.status.busy": "2021-05-21T02:49:09.128741Z",
     "iopub.status.idle": "2021-05-21T02:49:09.143292Z",
     "shell.execute_reply": "2021-05-21T02:49:09.141951Z"
    },
    "papermill": {
     "duration": 0.030715,
     "end_time": "2021-05-21T02:49:09.143435",
     "exception": false,
     "start_time": "2021-05-21T02:49:09.112720",
     "status": "completed"
    },
    "tags": []
   },
   "outputs": [],
   "source": [
    "notebookid = \"create_SplicingIndex_figure\""
   ]
  },
  {
   "cell_type": "markdown",
   "metadata": {
    "papermill": {
     "duration": 0.011523,
     "end_time": "2021-05-21T02:49:09.166632",
     "exception": false,
     "start_time": "2021-05-21T02:49:09.155109",
     "status": "completed"
    },
    "tags": []
   },
   "source": [
    "### Appendix 2. Libraries metadata"
   ]
  },
  {
   "cell_type": "code",
   "execution_count": 8,
   "metadata": {
    "execution": {
     "iopub.execute_input": "2021-05-21T02:49:09.196772Z",
     "iopub.status.busy": "2021-05-21T02:49:09.194682Z",
     "iopub.status.idle": "2021-05-21T02:49:09.488700Z",
     "shell.execute_reply": "2021-05-21T02:49:09.486947Z"
    },
    "papermill": {
     "duration": 0.310455,
     "end_time": "2021-05-21T02:49:09.488844",
     "exception": false,
     "start_time": "2021-05-21T02:49:09.178389",
     "status": "completed"
    },
    "tags": []
   },
   "outputs": [
    {
     "name": "stderr",
     "output_type": "stream",
     "text": [
      "Saving `devtools::session_info()` objects in ../data/devtools_session_info.rds  ..\n",
      "\n",
      "Done!\n",
      "\n",
      "\n",
      "Saving `utils::sessionInfo()` objects in ../data/utils_session_info.rds  ..\n",
      "\n",
      "Done!\n",
      "\n",
      "\n"
     ]
    },
    {
     "data": {
      "text/plain": [
       " setting  value                       \n",
       " version  R version 4.0.5 (2021-03-31)\n",
       " os       Ubuntu 18.04.4 LTS          \n",
       " system   x86_64, linux-gnu           \n",
       " ui       X11                         \n",
       " language en_US.UTF-8                 \n",
       " collate  en_US.UTF-8                 \n",
       " ctype    en_US.UTF-8                 \n",
       " tz       Etc/UTC                     \n",
       " date     2021-05-21                  "
      ]
     },
     "metadata": {},
     "output_type": "display_data"
    },
    {
     "data": {
      "text/html": [
       "<table class=\"dataframe\">\n",
       "<caption>A packages_info: 11 × 11</caption>\n",
       "<thead>\n",
       "\t<tr><th></th><th scope=col>package</th><th scope=col>ondiskversion</th><th scope=col>loadedversion</th><th scope=col>path</th><th scope=col>loadedpath</th><th scope=col>attached</th><th scope=col>is_base</th><th scope=col>date</th><th scope=col>source</th><th scope=col>md5ok</th><th scope=col>library</th></tr>\n",
       "\t<tr><th></th><th scope=col>&lt;chr&gt;</th><th scope=col>&lt;chr&gt;</th><th scope=col>&lt;chr&gt;</th><th scope=col>&lt;chr&gt;</th><th scope=col>&lt;chr&gt;</th><th scope=col>&lt;lgl&gt;</th><th scope=col>&lt;lgl&gt;</th><th scope=col>&lt;chr&gt;</th><th scope=col>&lt;chr&gt;</th><th scope=col>&lt;lgl&gt;</th><th scope=col>&lt;fct&gt;</th></tr>\n",
       "</thead>\n",
       "<tbody>\n",
       "\t<tr><th scope=row>BiocGenerics</th><td>BiocGenerics    </td><td>0.36.0</td><td>0.36.0</td><td>/opt/conda/envs/sbas/lib/R/library/BiocGenerics    </td><td>/opt/conda/envs/sbas/lib/R/library/BiocGenerics    </td><td>TRUE</td><td>FALSE</td><td>2020-10-27</td><td>Bioconductor  </td><td>NA</td><td>/opt/conda/envs/sbas/lib/R/library</td></tr>\n",
       "\t<tr><th scope=row>devtools</th><td>devtools        </td><td>2.4.1 </td><td>2.4.1 </td><td>/opt/conda/envs/sbas/lib/R/library/devtools        </td><td>/opt/conda/envs/sbas/lib/R/library/devtools        </td><td>TRUE</td><td>FALSE</td><td>2021-05-05</td><td>CRAN (R 4.0.3)</td><td>NA</td><td>/opt/conda/envs/sbas/lib/R/library</td></tr>\n",
       "\t<tr><th scope=row>dplyr</th><td>dplyr           </td><td>1.0.6 </td><td>1.0.6 </td><td>/opt/conda/envs/sbas/lib/R/library/dplyr           </td><td>/opt/conda/envs/sbas/lib/R/library/dplyr           </td><td>TRUE</td><td>FALSE</td><td>2021-05-05</td><td>CRAN (R 4.0.3)</td><td>NA</td><td>/opt/conda/envs/sbas/lib/R/library</td></tr>\n",
       "\t<tr><th scope=row>GenomeInfoDb</th><td>GenomeInfoDb    </td><td>1.26.4</td><td>1.26.4</td><td>/opt/conda/envs/sbas/lib/R/library/GenomeInfoDb    </td><td>/opt/conda/envs/sbas/lib/R/library/GenomeInfoDb    </td><td>TRUE</td><td>FALSE</td><td>2021-03-10</td><td>Bioconductor  </td><td>NA</td><td>/opt/conda/envs/sbas/lib/R/library</td></tr>\n",
       "\t<tr><th scope=row>GenomeInfoDbData</th><td>GenomeInfoDbData</td><td>1.2.4 </td><td>1.2.4 </td><td>/opt/conda/envs/sbas/lib/R/library/GenomeInfoDbData</td><td>/opt/conda/envs/sbas/lib/R/library/GenomeInfoDbData</td><td>TRUE</td><td>FALSE</td><td>2021-05-20</td><td>Bioconductor  </td><td>NA</td><td>/opt/conda/envs/sbas/lib/R/library</td></tr>\n",
       "\t<tr><th scope=row>GenomicRanges</th><td>GenomicRanges   </td><td>1.42.0</td><td>1.42.0</td><td>/opt/conda/envs/sbas/lib/R/library/GenomicRanges   </td><td>/opt/conda/envs/sbas/lib/R/library/GenomicRanges   </td><td>TRUE</td><td>FALSE</td><td>2020-10-27</td><td>Bioconductor  </td><td>NA</td><td>/opt/conda/envs/sbas/lib/R/library</td></tr>\n",
       "\t<tr><th scope=row>ggplot2</th><td>ggplot2         </td><td>3.3.3 </td><td>3.3.3 </td><td>/opt/conda/envs/sbas/lib/R/library/ggplot2         </td><td>/opt/conda/envs/sbas/lib/R/library/ggplot2         </td><td>TRUE</td><td>FALSE</td><td>2020-12-30</td><td>CRAN (R 4.0.3)</td><td>NA</td><td>/opt/conda/envs/sbas/lib/R/library</td></tr>\n",
       "\t<tr><th scope=row>IRanges</th><td>IRanges         </td><td>2.24.1</td><td>2.24.1</td><td>/opt/conda/envs/sbas/lib/R/library/IRanges         </td><td>/opt/conda/envs/sbas/lib/R/library/IRanges         </td><td>TRUE</td><td>FALSE</td><td>2020-12-12</td><td>Bioconductor  </td><td>NA</td><td>/opt/conda/envs/sbas/lib/R/library</td></tr>\n",
       "\t<tr><th scope=row>rtracklayer</th><td>rtracklayer     </td><td>1.50.0</td><td>1.50.0</td><td>/opt/conda/envs/sbas/lib/R/library/rtracklayer     </td><td>/opt/conda/envs/sbas/lib/R/library/rtracklayer     </td><td>TRUE</td><td>FALSE</td><td>2020-10-27</td><td>Bioconductor  </td><td>NA</td><td>/opt/conda/envs/sbas/lib/R/library</td></tr>\n",
       "\t<tr><th scope=row>S4Vectors</th><td>S4Vectors       </td><td>0.28.1</td><td>0.28.1</td><td>/opt/conda/envs/sbas/lib/R/library/S4Vectors       </td><td>/opt/conda/envs/sbas/lib/R/library/S4Vectors       </td><td>TRUE</td><td>FALSE</td><td>2020-12-09</td><td>Bioconductor  </td><td>NA</td><td>/opt/conda/envs/sbas/lib/R/library</td></tr>\n",
       "\t<tr><th scope=row>usethis</th><td>usethis         </td><td>2.0.1 </td><td>2.0.1 </td><td>/opt/conda/envs/sbas/lib/R/library/usethis         </td><td>/opt/conda/envs/sbas/lib/R/library/usethis         </td><td>TRUE</td><td>FALSE</td><td>2021-02-10</td><td>CRAN (R 4.0.2)</td><td>NA</td><td>/opt/conda/envs/sbas/lib/R/library</td></tr>\n",
       "</tbody>\n",
       "</table>\n"
      ],
      "text/latex": [
       "A packages\\_info: 11 × 11\n",
       "\\begin{tabular}{r|lllllllllll}\n",
       "  & package & ondiskversion & loadedversion & path & loadedpath & attached & is\\_base & date & source & md5ok & library\\\\\n",
       "  & <chr> & <chr> & <chr> & <chr> & <chr> & <lgl> & <lgl> & <chr> & <chr> & <lgl> & <fct>\\\\\n",
       "\\hline\n",
       "\tBiocGenerics & BiocGenerics     & 0.36.0 & 0.36.0 & /opt/conda/envs/sbas/lib/R/library/BiocGenerics     & /opt/conda/envs/sbas/lib/R/library/BiocGenerics     & TRUE & FALSE & 2020-10-27 & Bioconductor   & NA & /opt/conda/envs/sbas/lib/R/library\\\\\n",
       "\tdevtools & devtools         & 2.4.1  & 2.4.1  & /opt/conda/envs/sbas/lib/R/library/devtools         & /opt/conda/envs/sbas/lib/R/library/devtools         & TRUE & FALSE & 2021-05-05 & CRAN (R 4.0.3) & NA & /opt/conda/envs/sbas/lib/R/library\\\\\n",
       "\tdplyr & dplyr            & 1.0.6  & 1.0.6  & /opt/conda/envs/sbas/lib/R/library/dplyr            & /opt/conda/envs/sbas/lib/R/library/dplyr            & TRUE & FALSE & 2021-05-05 & CRAN (R 4.0.3) & NA & /opt/conda/envs/sbas/lib/R/library\\\\\n",
       "\tGenomeInfoDb & GenomeInfoDb     & 1.26.4 & 1.26.4 & /opt/conda/envs/sbas/lib/R/library/GenomeInfoDb     & /opt/conda/envs/sbas/lib/R/library/GenomeInfoDb     & TRUE & FALSE & 2021-03-10 & Bioconductor   & NA & /opt/conda/envs/sbas/lib/R/library\\\\\n",
       "\tGenomeInfoDbData & GenomeInfoDbData & 1.2.4  & 1.2.4  & /opt/conda/envs/sbas/lib/R/library/GenomeInfoDbData & /opt/conda/envs/sbas/lib/R/library/GenomeInfoDbData & TRUE & FALSE & 2021-05-20 & Bioconductor   & NA & /opt/conda/envs/sbas/lib/R/library\\\\\n",
       "\tGenomicRanges & GenomicRanges    & 1.42.0 & 1.42.0 & /opt/conda/envs/sbas/lib/R/library/GenomicRanges    & /opt/conda/envs/sbas/lib/R/library/GenomicRanges    & TRUE & FALSE & 2020-10-27 & Bioconductor   & NA & /opt/conda/envs/sbas/lib/R/library\\\\\n",
       "\tggplot2 & ggplot2          & 3.3.3  & 3.3.3  & /opt/conda/envs/sbas/lib/R/library/ggplot2          & /opt/conda/envs/sbas/lib/R/library/ggplot2          & TRUE & FALSE & 2020-12-30 & CRAN (R 4.0.3) & NA & /opt/conda/envs/sbas/lib/R/library\\\\\n",
       "\tIRanges & IRanges          & 2.24.1 & 2.24.1 & /opt/conda/envs/sbas/lib/R/library/IRanges          & /opt/conda/envs/sbas/lib/R/library/IRanges          & TRUE & FALSE & 2020-12-12 & Bioconductor   & NA & /opt/conda/envs/sbas/lib/R/library\\\\\n",
       "\trtracklayer & rtracklayer      & 1.50.0 & 1.50.0 & /opt/conda/envs/sbas/lib/R/library/rtracklayer      & /opt/conda/envs/sbas/lib/R/library/rtracklayer      & TRUE & FALSE & 2020-10-27 & Bioconductor   & NA & /opt/conda/envs/sbas/lib/R/library\\\\\n",
       "\tS4Vectors & S4Vectors        & 0.28.1 & 0.28.1 & /opt/conda/envs/sbas/lib/R/library/S4Vectors        & /opt/conda/envs/sbas/lib/R/library/S4Vectors        & TRUE & FALSE & 2020-12-09 & Bioconductor   & NA & /opt/conda/envs/sbas/lib/R/library\\\\\n",
       "\tusethis & usethis          & 2.0.1  & 2.0.1  & /opt/conda/envs/sbas/lib/R/library/usethis          & /opt/conda/envs/sbas/lib/R/library/usethis          & TRUE & FALSE & 2021-02-10 & CRAN (R 4.0.2) & NA & /opt/conda/envs/sbas/lib/R/library\\\\\n",
       "\\end{tabular}\n"
      ],
      "text/markdown": [
       "\n",
       "A packages_info: 11 × 11\n",
       "\n",
       "| <!--/--> | package &lt;chr&gt; | ondiskversion &lt;chr&gt; | loadedversion &lt;chr&gt; | path &lt;chr&gt; | loadedpath &lt;chr&gt; | attached &lt;lgl&gt; | is_base &lt;lgl&gt; | date &lt;chr&gt; | source &lt;chr&gt; | md5ok &lt;lgl&gt; | library &lt;fct&gt; |\n",
       "|---|---|---|---|---|---|---|---|---|---|---|---|\n",
       "| BiocGenerics | BiocGenerics     | 0.36.0 | 0.36.0 | /opt/conda/envs/sbas/lib/R/library/BiocGenerics     | /opt/conda/envs/sbas/lib/R/library/BiocGenerics     | TRUE | FALSE | 2020-10-27 | Bioconductor   | NA | /opt/conda/envs/sbas/lib/R/library |\n",
       "| devtools | devtools         | 2.4.1  | 2.4.1  | /opt/conda/envs/sbas/lib/R/library/devtools         | /opt/conda/envs/sbas/lib/R/library/devtools         | TRUE | FALSE | 2021-05-05 | CRAN (R 4.0.3) | NA | /opt/conda/envs/sbas/lib/R/library |\n",
       "| dplyr | dplyr            | 1.0.6  | 1.0.6  | /opt/conda/envs/sbas/lib/R/library/dplyr            | /opt/conda/envs/sbas/lib/R/library/dplyr            | TRUE | FALSE | 2021-05-05 | CRAN (R 4.0.3) | NA | /opt/conda/envs/sbas/lib/R/library |\n",
       "| GenomeInfoDb | GenomeInfoDb     | 1.26.4 | 1.26.4 | /opt/conda/envs/sbas/lib/R/library/GenomeInfoDb     | /opt/conda/envs/sbas/lib/R/library/GenomeInfoDb     | TRUE | FALSE | 2021-03-10 | Bioconductor   | NA | /opt/conda/envs/sbas/lib/R/library |\n",
       "| GenomeInfoDbData | GenomeInfoDbData | 1.2.4  | 1.2.4  | /opt/conda/envs/sbas/lib/R/library/GenomeInfoDbData | /opt/conda/envs/sbas/lib/R/library/GenomeInfoDbData | TRUE | FALSE | 2021-05-20 | Bioconductor   | NA | /opt/conda/envs/sbas/lib/R/library |\n",
       "| GenomicRanges | GenomicRanges    | 1.42.0 | 1.42.0 | /opt/conda/envs/sbas/lib/R/library/GenomicRanges    | /opt/conda/envs/sbas/lib/R/library/GenomicRanges    | TRUE | FALSE | 2020-10-27 | Bioconductor   | NA | /opt/conda/envs/sbas/lib/R/library |\n",
       "| ggplot2 | ggplot2          | 3.3.3  | 3.3.3  | /opt/conda/envs/sbas/lib/R/library/ggplot2          | /opt/conda/envs/sbas/lib/R/library/ggplot2          | TRUE | FALSE | 2020-12-30 | CRAN (R 4.0.3) | NA | /opt/conda/envs/sbas/lib/R/library |\n",
       "| IRanges | IRanges          | 2.24.1 | 2.24.1 | /opt/conda/envs/sbas/lib/R/library/IRanges          | /opt/conda/envs/sbas/lib/R/library/IRanges          | TRUE | FALSE | 2020-12-12 | Bioconductor   | NA | /opt/conda/envs/sbas/lib/R/library |\n",
       "| rtracklayer | rtracklayer      | 1.50.0 | 1.50.0 | /opt/conda/envs/sbas/lib/R/library/rtracklayer      | /opt/conda/envs/sbas/lib/R/library/rtracklayer      | TRUE | FALSE | 2020-10-27 | Bioconductor   | NA | /opt/conda/envs/sbas/lib/R/library |\n",
       "| S4Vectors | S4Vectors        | 0.28.1 | 0.28.1 | /opt/conda/envs/sbas/lib/R/library/S4Vectors        | /opt/conda/envs/sbas/lib/R/library/S4Vectors        | TRUE | FALSE | 2020-12-09 | Bioconductor   | NA | /opt/conda/envs/sbas/lib/R/library |\n",
       "| usethis | usethis          | 2.0.1  | 2.0.1  | /opt/conda/envs/sbas/lib/R/library/usethis          | /opt/conda/envs/sbas/lib/R/library/usethis          | TRUE | FALSE | 2021-02-10 | CRAN (R 4.0.2) | NA | /opt/conda/envs/sbas/lib/R/library |\n",
       "\n"
      ],
      "text/plain": [
       "                 package          ondiskversion loadedversion\n",
       "BiocGenerics     BiocGenerics     0.36.0        0.36.0       \n",
       "devtools         devtools         2.4.1         2.4.1        \n",
       "dplyr            dplyr            1.0.6         1.0.6        \n",
       "GenomeInfoDb     GenomeInfoDb     1.26.4        1.26.4       \n",
       "GenomeInfoDbData GenomeInfoDbData 1.2.4         1.2.4        \n",
       "GenomicRanges    GenomicRanges    1.42.0        1.42.0       \n",
       "ggplot2          ggplot2          3.3.3         3.3.3        \n",
       "IRanges          IRanges          2.24.1        2.24.1       \n",
       "rtracklayer      rtracklayer      1.50.0        1.50.0       \n",
       "S4Vectors        S4Vectors        0.28.1        0.28.1       \n",
       "usethis          usethis          2.0.1         2.0.1        \n",
       "                 path                                               \n",
       "BiocGenerics     /opt/conda/envs/sbas/lib/R/library/BiocGenerics    \n",
       "devtools         /opt/conda/envs/sbas/lib/R/library/devtools        \n",
       "dplyr            /opt/conda/envs/sbas/lib/R/library/dplyr           \n",
       "GenomeInfoDb     /opt/conda/envs/sbas/lib/R/library/GenomeInfoDb    \n",
       "GenomeInfoDbData /opt/conda/envs/sbas/lib/R/library/GenomeInfoDbData\n",
       "GenomicRanges    /opt/conda/envs/sbas/lib/R/library/GenomicRanges   \n",
       "ggplot2          /opt/conda/envs/sbas/lib/R/library/ggplot2         \n",
       "IRanges          /opt/conda/envs/sbas/lib/R/library/IRanges         \n",
       "rtracklayer      /opt/conda/envs/sbas/lib/R/library/rtracklayer     \n",
       "S4Vectors        /opt/conda/envs/sbas/lib/R/library/S4Vectors       \n",
       "usethis          /opt/conda/envs/sbas/lib/R/library/usethis         \n",
       "                 loadedpath                                          attached\n",
       "BiocGenerics     /opt/conda/envs/sbas/lib/R/library/BiocGenerics     TRUE    \n",
       "devtools         /opt/conda/envs/sbas/lib/R/library/devtools         TRUE    \n",
       "dplyr            /opt/conda/envs/sbas/lib/R/library/dplyr            TRUE    \n",
       "GenomeInfoDb     /opt/conda/envs/sbas/lib/R/library/GenomeInfoDb     TRUE    \n",
       "GenomeInfoDbData /opt/conda/envs/sbas/lib/R/library/GenomeInfoDbData TRUE    \n",
       "GenomicRanges    /opt/conda/envs/sbas/lib/R/library/GenomicRanges    TRUE    \n",
       "ggplot2          /opt/conda/envs/sbas/lib/R/library/ggplot2          TRUE    \n",
       "IRanges          /opt/conda/envs/sbas/lib/R/library/IRanges          TRUE    \n",
       "rtracklayer      /opt/conda/envs/sbas/lib/R/library/rtracklayer      TRUE    \n",
       "S4Vectors        /opt/conda/envs/sbas/lib/R/library/S4Vectors        TRUE    \n",
       "usethis          /opt/conda/envs/sbas/lib/R/library/usethis          TRUE    \n",
       "                 is_base date       source         md5ok\n",
       "BiocGenerics     FALSE   2020-10-27 Bioconductor   NA   \n",
       "devtools         FALSE   2021-05-05 CRAN (R 4.0.3) NA   \n",
       "dplyr            FALSE   2021-05-05 CRAN (R 4.0.3) NA   \n",
       "GenomeInfoDb     FALSE   2021-03-10 Bioconductor   NA   \n",
       "GenomeInfoDbData FALSE   2021-05-20 Bioconductor   NA   \n",
       "GenomicRanges    FALSE   2020-10-27 Bioconductor   NA   \n",
       "ggplot2          FALSE   2020-12-30 CRAN (R 4.0.3) NA   \n",
       "IRanges          FALSE   2020-12-12 Bioconductor   NA   \n",
       "rtracklayer      FALSE   2020-10-27 Bioconductor   NA   \n",
       "S4Vectors        FALSE   2020-12-09 Bioconductor   NA   \n",
       "usethis          FALSE   2021-02-10 CRAN (R 4.0.2) NA   \n",
       "                 library                           \n",
       "BiocGenerics     /opt/conda/envs/sbas/lib/R/library\n",
       "devtools         /opt/conda/envs/sbas/lib/R/library\n",
       "dplyr            /opt/conda/envs/sbas/lib/R/library\n",
       "GenomeInfoDb     /opt/conda/envs/sbas/lib/R/library\n",
       "GenomeInfoDbData /opt/conda/envs/sbas/lib/R/library\n",
       "GenomicRanges    /opt/conda/envs/sbas/lib/R/library\n",
       "ggplot2          /opt/conda/envs/sbas/lib/R/library\n",
       "IRanges          /opt/conda/envs/sbas/lib/R/library\n",
       "rtracklayer      /opt/conda/envs/sbas/lib/R/library\n",
       "S4Vectors        /opt/conda/envs/sbas/lib/R/library\n",
       "usethis          /opt/conda/envs/sbas/lib/R/library"
      ]
     },
     "metadata": {},
     "output_type": "display_data"
    }
   ],
   "source": [
    "dev_session_info   <- devtools::session_info()\n",
    "utils_session_info <- utils::sessionInfo()\n",
    "\n",
    "message(\"Saving `devtools::session_info()` objects in ../data/devtools_session_info.rds  ..\")\n",
    "saveRDS(dev_session_info, file = paste0(\"../data/\", notebookid, \"_devtools_session_info.rds\"))\n",
    "message(\"Done!\\n\")\n",
    "\n",
    "message(\"Saving `utils::sessionInfo()` objects in ../data/utils_session_info.rds  ..\")\n",
    "saveRDS(utils_session_info, file = paste0(\"../data/\", notebookid ,\"_utils_info.rds\"))\n",
    "message(\"Done!\\n\")\n",
    "\n",
    "dev_session_info$platform\n",
    "dev_session_info$packages[dev_session_info$packages$attached==TRUE, ]"
   ]
  },
  {
   "cell_type": "code",
   "execution_count": 9,
   "metadata": {
    "execution": {
     "iopub.execute_input": "2021-05-21T02:49:09.522948Z",
     "iopub.status.busy": "2021-05-21T02:49:09.520928Z",
     "iopub.status.idle": "2021-05-21T02:49:09.542338Z",
     "shell.execute_reply": "2021-05-21T02:49:09.540933Z"
    },
    "papermill": {
     "duration": 0.040064,
     "end_time": "2021-05-21T02:49:09.542473",
     "exception": false,
     "start_time": "2021-05-21T02:49:09.502409",
     "status": "completed"
    },
    "tags": []
   },
   "outputs": [
    {
     "data": {
      "text/plain": [
       "Time difference of 49.72911 secs"
      ]
     },
     "metadata": {},
     "output_type": "display_data"
    }
   ],
   "source": [
    "end_time <- Sys.time()\n",
    "end_time - start_time"
   ]
  },
  {
   "cell_type": "code",
   "execution_count": null,
   "metadata": {
    "papermill": {
     "duration": 0.013691,
     "end_time": "2021-05-21T02:49:09.570087",
     "exception": false,
     "start_time": "2021-05-21T02:49:09.556396",
     "status": "completed"
    },
    "tags": []
   },
   "outputs": [],
   "source": []
  }
 ],
 "metadata": {
  "jupytext": {
   "cell_metadata_filter": "-all",
   "encoding": "# -*- coding: utf-8 -*-",
   "main_language": "R",
   "notebook_metadata_filter": "-all"
  },
  "kernelspec": {
   "display_name": "R",
   "language": "R",
   "name": "ir"
  },
  "language_info": {
   "codemirror_mode": "r",
   "file_extension": ".r",
   "mimetype": "text/x-r-source",
   "name": "R",
   "pygments_lexer": "r",
   "version": "3.6.1"
  },
  "papermill": {
   "duration": 50.881819,
   "end_time": "2021-05-21T02:49:09.694354",
   "environment_variables": {},
   "exception": null,
   "input_path": "splicingIndex.ipynb",
   "output_path": "splicingIndex.ipynb",
   "parameters": {},
   "start_time": "2021-05-21T02:48:18.812535",
   "version": "2.1.2"
  }
 },
 "nbformat": 4,
 "nbformat_minor": 5
}
