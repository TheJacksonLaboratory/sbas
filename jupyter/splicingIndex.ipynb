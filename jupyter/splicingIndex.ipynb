{
 "cells": [
  {
   "cell_type": "markdown",
   "metadata": {
    "papermill": {
     "duration": 0.013625,
     "end_time": "2020-11-04T02:40:38.834139",
     "exception": false,
     "start_time": "2020-11-04T02:40:38.820514",
     "status": "completed"
    },
    "tags": []
   },
   "source": [
    "# SplicingIndex figure\n",
    "\n",
    "This notebook creates a single figure, **splicingIndex.pdf**, a plot showing the number of AS events per 1000 exons for each chromosome."
   ]
  },
  {
   "cell_type": "code",
   "execution_count": 1,
   "metadata": {
    "execution": {
     "iopub.execute_input": "2020-11-04T02:40:38.899234Z",
     "iopub.status.busy": "2020-11-04T02:40:38.896179Z",
     "iopub.status.idle": "2020-11-04T02:40:48.403685Z",
     "shell.execute_reply": "2020-11-04T02:40:48.402594Z"
    },
    "papermill": {
     "duration": 9.556444,
     "end_time": "2020-11-04T02:40:48.403858",
     "exception": false,
     "start_time": "2020-11-04T02:40:38.847414",
     "status": "completed"
    },
    "tags": []
   },
   "outputs": [],
   "source": [
    "start_time <- Sys.time()\n",
    "suppressMessages({\n",
    "    options(warn = 1)\n",
    "    library(dplyr)\n",
    "    library(devtools)\n",
    "    library(ggplot2)\n",
    "    library(rtracklayer)\n",
    "    library(GenomeInfoDb)\n",
    "    library(GenomeInfoDbData)\n",
    "})"
   ]
  },
  {
   "cell_type": "markdown",
   "metadata": {
    "papermill": {
     "duration": 0.01283,
     "end_time": "2020-11-04T02:40:48.430213",
     "exception": false,
     "start_time": "2020-11-04T02:40:48.417383",
     "status": "completed"
    },
    "tags": []
   },
   "source": [
    "### 1. read in gene_as.tsv data containing all significant alternative splicing events"
   ]
  },
  {
   "cell_type": "code",
   "execution_count": 2,
   "metadata": {
    "execution": {
     "iopub.execute_input": "2020-11-04T02:40:48.493747Z",
     "iopub.status.busy": "2020-11-04T02:40:48.459905Z",
     "iopub.status.idle": "2020-11-04T02:40:48.542019Z",
     "shell.execute_reply": "2020-11-04T02:40:48.540632Z"
    },
    "papermill": {
     "duration": 0.099116,
     "end_time": "2020-11-04T02:40:48.542189",
     "exception": false,
     "start_time": "2020-11-04T02:40:48.443073",
     "status": "completed"
    },
    "tags": []
   },
   "outputs": [
    {
     "data": {
      "text/html": [
       "<table>\n",
       "<caption>A data.frame: 2 × 15</caption>\n",
       "<thead>\n",
       "\t<tr><th></th><th scope=col>GeneJunction</th><th scope=col>ASE</th><th scope=col>ASE_IDX</th><th scope=col>Tissue</th><th scope=col>counts</th><th scope=col>Display</th><th scope=col>GeneSymbol</th><th scope=col>GeneID</th><th scope=col>chr</th><th scope=col>logFC</th><th scope=col>AveExpr</th><th scope=col>t</th><th scope=col>PValue</th><th scope=col>AdjPVal</th><th scope=col>B</th></tr>\n",
       "\t<tr><th></th><th scope=col>&lt;chr&gt;</th><th scope=col>&lt;chr&gt;</th><th scope=col>&lt;int&gt;</th><th scope=col>&lt;chr&gt;</th><th scope=col>&lt;int&gt;</th><th scope=col>&lt;chr&gt;</th><th scope=col>&lt;chr&gt;</th><th scope=col>&lt;chr&gt;</th><th scope=col>&lt;chr&gt;</th><th scope=col>&lt;dbl&gt;</th><th scope=col>&lt;dbl&gt;</th><th scope=col>&lt;dbl&gt;</th><th scope=col>&lt;dbl&gt;</th><th scope=col>&lt;dbl&gt;</th><th scope=col>&lt;dbl&gt;</th></tr>\n",
       "</thead>\n",
       "<tbody>\n",
       "\t<tr><th scope=row>1</th><td>SCO1-8452</td><td>A3SS</td><td>8452</td><td>adrenal_gland  </td><td>1</td><td>Adrenal gland  </td><td>SCO1</td><td>ENSG00000133028.12</td><td>chr17</td><td> 0.7715834</td><td>5.028635</td><td>  4.906848</td><td>1.533202e-06</td><td>8.170436e-03</td><td> 0.8561371</td></tr>\n",
       "\t<tr><th scope=row>2</th><td>XIST-2252</td><td>A3SS</td><td>2252</td><td>artery_coronary</td><td>1</td><td>Coronary artery</td><td>XIST</td><td>ENSG00000229807.11</td><td>chrX </td><td>-2.1880965</td><td>4.327079</td><td>-10.329346</td><td>4.631685e-21</td><td>2.464057e-17</td><td>16.7535120</td></tr>\n",
       "</tbody>\n",
       "</table>\n"
      ],
      "text/latex": [
       "A data.frame: 2 × 15\n",
       "\\begin{tabular}{r|lllllllllllllll}\n",
       "  & GeneJunction & ASE & ASE\\_IDX & Tissue & counts & Display & GeneSymbol & GeneID & chr & logFC & AveExpr & t & PValue & AdjPVal & B\\\\\n",
       "  & <chr> & <chr> & <int> & <chr> & <int> & <chr> & <chr> & <chr> & <chr> & <dbl> & <dbl> & <dbl> & <dbl> & <dbl> & <dbl>\\\\\n",
       "\\hline\n",
       "\t1 & SCO1-8452 & A3SS & 8452 & adrenal\\_gland   & 1 & Adrenal gland   & SCO1 & ENSG00000133028.12 & chr17 &  0.7715834 & 5.028635 &   4.906848 & 1.533202e-06 & 8.170436e-03 &  0.8561371\\\\\n",
       "\t2 & XIST-2252 & A3SS & 2252 & artery\\_coronary & 1 & Coronary artery & XIST & ENSG00000229807.11 & chrX  & -2.1880965 & 4.327079 & -10.329346 & 4.631685e-21 & 2.464057e-17 & 16.7535120\\\\\n",
       "\\end{tabular}\n"
      ],
      "text/markdown": [
       "\n",
       "A data.frame: 2 × 15\n",
       "\n",
       "| <!--/--> | GeneJunction &lt;chr&gt; | ASE &lt;chr&gt; | ASE_IDX &lt;int&gt; | Tissue &lt;chr&gt; | counts &lt;int&gt; | Display &lt;chr&gt; | GeneSymbol &lt;chr&gt; | GeneID &lt;chr&gt; | chr &lt;chr&gt; | logFC &lt;dbl&gt; | AveExpr &lt;dbl&gt; | t &lt;dbl&gt; | PValue &lt;dbl&gt; | AdjPVal &lt;dbl&gt; | B &lt;dbl&gt; |\n",
       "|---|---|---|---|---|---|---|---|---|---|---|---|---|---|---|---|\n",
       "| 1 | SCO1-8452 | A3SS | 8452 | adrenal_gland   | 1 | Adrenal gland   | SCO1 | ENSG00000133028.12 | chr17 |  0.7715834 | 5.028635 |   4.906848 | 1.533202e-06 | 8.170436e-03 |  0.8561371 |\n",
       "| 2 | XIST-2252 | A3SS | 2252 | artery_coronary | 1 | Coronary artery | XIST | ENSG00000229807.11 | chrX  | -2.1880965 | 4.327079 | -10.329346 | 4.631685e-21 | 2.464057e-17 | 16.7535120 |\n",
       "\n"
      ],
      "text/plain": [
       "  GeneJunction ASE  ASE_IDX Tissue          counts Display         GeneSymbol\n",
       "1 SCO1-8452    A3SS 8452    adrenal_gland   1      Adrenal gland   SCO1      \n",
       "2 XIST-2252    A3SS 2252    artery_coronary 1      Coronary artery XIST      \n",
       "  GeneID             chr   logFC      AveExpr  t          PValue      \n",
       "1 ENSG00000133028.12 chr17  0.7715834 5.028635   4.906848 1.533202e-06\n",
       "2 ENSG00000229807.11 chrX  -2.1880965 4.327079 -10.329346 4.631685e-21\n",
       "  AdjPVal      B         \n",
       "1 8.170436e-03  0.8561371\n",
       "2 2.464057e-17 16.7535120"
      ]
     },
     "metadata": {},
     "output_type": "display_data"
    }
   ],
   "source": [
    "filename <- \"../data/gene_as.tsv\"\n",
    "gene_as <- read.table(filename, header=TRUE, sep=\"\\t\", skipNul=FALSE, stringsAsFactors = FALSE)\n",
    "head(gene_as,2)"
   ]
  },
  {
   "cell_type": "markdown",
   "metadata": {
    "papermill": {
     "duration": 0.013832,
     "end_time": "2020-11-04T02:40:48.570139",
     "exception": false,
     "start_time": "2020-11-04T02:40:48.556307",
     "status": "completed"
    },
    "tags": []
   },
   "source": [
    "### 2 Count most frequent spliced chromosomes\n",
    "To get an indication of which chromosome has the most frequent slicing event (regardless of type)\n",
    "We create an index based upon the number of exons per chromosome.\n",
    "\n",
    "get the annotation file, at this writing, gencode.v30.annotation.gtf\n",
    "The information as to the number of exons within the chromosome may be found there"
   ]
  },
  {
   "cell_type": "code",
   "execution_count": 3,
   "metadata": {
    "execution": {
     "iopub.execute_input": "2020-11-04T02:40:48.603744Z",
     "iopub.status.busy": "2020-11-04T02:40:48.601914Z",
     "iopub.status.idle": "2020-11-04T02:41:26.849555Z",
     "shell.execute_reply": "2020-11-04T02:41:26.848635Z"
    },
    "papermill": {
     "duration": 38.265775,
     "end_time": "2020-11-04T02:41:26.849748",
     "exception": false,
     "start_time": "2020-11-04T02:40:48.583973",
     "status": "completed"
    },
    "tags": []
   },
   "outputs": [],
   "source": [
    "if (!(\"gencode.v30.annotation.gtf.gz\" %in% list.files(\"../data/\"))) {\n",
    "    message(\"downloading gencode v30 annotation\\n\")\n",
    "    system(\"wget -O ../data/gencode.v30.annotation.gtf.gz ftp://ftp.ebi.ac.uk/pub/databases/gencode/Gencode_human/release_30/gencode.v30.annotation.gtf.gz\")\n",
    "    message(\"Done!\\n\")\n",
    "    message(\"Unzipping compressed file gencode.v30.annotation.gtf.gz..\")\n",
    "    system(\"gunzip ../data/gencode.v30.annotation.gtf.gz\", intern = TRUE)\n",
    "    message(\"Done! gencode.v30.annotation.gtf can be found in ../data/\")\n",
    "}\n",
    "gencode <- rtracklayer::import(\"../data/gencode.v30.annotation.gtf\")"
   ]
  },
  {
   "cell_type": "code",
   "execution_count": 4,
   "metadata": {
    "execution": {
     "iopub.execute_input": "2020-11-04T02:41:26.883373Z",
     "iopub.status.busy": "2020-11-04T02:41:26.882030Z",
     "iopub.status.idle": "2020-11-04T02:41:31.155363Z",
     "shell.execute_reply": "2020-11-04T02:41:31.154063Z"
    },
    "papermill": {
     "duration": 4.291532,
     "end_time": "2020-11-04T02:41:31.155594",
     "exception": false,
     "start_time": "2020-11-04T02:41:26.864062",
     "status": "completed"
    },
    "tags": []
   },
   "outputs": [
    {
     "name": "stdout",
     "output_type": "stream",
     "text": [
      "Rows: 23\n",
      "Columns: 4\n",
      "$ chr        \u001b[3m\u001b[38;5;246m<fct>\u001b[39m\u001b[23m chrX, chr16, chr19, chr22, chr17, chr10, chr20, chr1, chr1…\n",
      "$ n          \u001b[3m\u001b[38;5;246m<int>\u001b[39m\u001b[23m 100, 95, 94, 36, 97, 56, 32, 129, 79, 53, 68, 42, 38, 49, …\n",
      "$ ExonCounts \u001b[3m\u001b[38;5;246m<dbl>\u001b[39m\u001b[23m 40029, 61199, 74466, 28655, 78291, 47124, 28506, 118996, 7…\n",
      "$ Index      \u001b[3m\u001b[38;5;246m<dbl>\u001b[39m\u001b[23m 2.4981888, 1.5523129, 1.2623211, 1.2563252, 1.2389674, 1.1…\n"
     ]
    },
    {
     "name": "stderr",
     "output_type": "stream",
     "text": [
      "res_sorted has 23 chromosomes with data about events, exons, and the splicing index\n",
      "\n"
     ]
    }
   ],
   "source": [
    "exons <- gencode[ gencode$type == \"exon\", ]\n",
    "exons <- as.data.frame(exons)\n",
    "\n",
    "#Obtain chromosomes we have splicing information for (recall we did not use chr Y in our analysis)\n",
    "all_chr <- as.character(unique(gene_as$chr))\n",
    "chr_counts <- rep(0, length(all_chr))\n",
    "\n",
    "\n",
    "for (i in 1:length(all_chr)) {\n",
    "  chr_counts[i] <- nrow(exons[exons$seqnames == all_chr[i], ])\n",
    "}\n",
    "\n",
    "exon_counts <- data.frame(chr = all_chr, counts = chr_counts)\n",
    "\n",
    "# Count most frequent spliced chromosomes\n",
    "res <- gene_as %>% group_by(chr) %>% count(chr) %>% arrange(desc(n)) %>% as.data.frame()\n",
    "res$chr <- factor(res$chr, levels = res$chr)\n",
    "\n",
    "idx <- match(res$chr, exon_counts$chr)\n",
    "\n",
    "res$ExonCounts <- exon_counts$counts[idx]\n",
    "\n",
    "res$Index <- (res$n / res$ExonCounts) * 1000\n",
    "\n",
    "res_sorted <- res %>% arrange(desc(Index))\n",
    "res_sorted$chr <- factor(res_sorted$chr, levels = res_sorted$chr)\n",
    "glimpse(res_sorted)\n",
    "message(\"res_sorted has \", length(res_sorted$chr), \" chromosomes with data about events, exons, and the splicing index\")"
   ]
  },
  {
   "cell_type": "code",
   "execution_count": 5,
   "metadata": {
    "execution": {
     "iopub.execute_input": "2020-11-04T02:41:31.191062Z",
     "iopub.status.busy": "2020-11-04T02:41:31.189684Z",
     "iopub.status.idle": "2020-11-04T02:41:31.209783Z",
     "shell.execute_reply": "2020-11-04T02:41:31.208550Z"
    },
    "papermill": {
     "duration": 0.038947,
     "end_time": "2020-11-04T02:41:31.209968",
     "exception": false,
     "start_time": "2020-11-04T02:41:31.171021",
     "status": "completed"
    },
    "tags": []
   },
   "outputs": [],
   "source": [
    "# Colors for uniformity\n",
    "# Let's use the following colors for uniformity\n",
    "darkblue <- \"#3c5488\"\n",
    "red <- \"#e64b35\"\n",
    "nearlyblack <- \"#040C04\"\n",
    "purple <- \"#790079\"\n",
    "orange = \"#ff9900\""
   ]
  },
  {
   "cell_type": "code",
   "execution_count": 6,
   "metadata": {
    "execution": {
     "iopub.execute_input": "2020-11-04T02:41:31.244873Z",
     "iopub.status.busy": "2020-11-04T02:41:31.243527Z",
     "iopub.status.idle": "2020-11-04T02:41:31.973459Z",
     "shell.execute_reply": "2020-11-04T02:41:31.973872Z"
    },
    "papermill": {
     "duration": 0.749306,
     "end_time": "2020-11-04T02:41:31.974056",
     "exception": false,
     "start_time": "2020-11-04T02:41:31.224750",
     "status": "completed"
    },
    "tags": []
   },
   "outputs": [
    {
     "name": "stderr",
     "output_type": "stream",
     "text": [
      "Saving 6.67 x 6.67 in image\n",
      "\n"
     ]
    },
    {
     "name": "stderr",
     "output_type": "stream",
     "text": [
      "Saved plot as ../pdf/splicingIndex.pdf\n",
      "\n"
     ]
    },
    {
     "data": {
      "image/png": "[encoded data removed]",
      "text/plain": [
       "plot without title"
      ]
     },
     "metadata": {
      "image/png": {
       "height": 420,
       "width": 420
      }
     },
     "output_type": "display_data"
    }
   ],
   "source": [
    "g2 <- ggplot(res_sorted, aes(x = chr, y = Index, size = n)) +\n",
    "  geom_point(color = darkblue) +\n",
    "  theme_bw() +\n",
    "  theme(axis.text.x = element_text(size=16, angle = 270, hjust = 0.0, vjust = 0.5),\n",
    "        axis.text.y = element_text(size=32),\n",
    "        axis.title.x = element_blank(),\n",
    "        axis.title.y = element_text(face=\"plain\", colour=\"black\", \n",
    "                                    size=18),\n",
    "        legend.title=element_text(face=\"plain\", colour=\"black\", \n",
    "                                    size=18),\n",
    "        legend.text = element_text(face=\"plain\", colour=\"black\", \n",
    "                                   size=32),\n",
    "        legend.position = c(0.8, 0.7)) +\n",
    "  scale_fill_viridis_c(aesthetics = c(\"colour\", \"fill\"),\n",
    "                       option = \"plasma\",\n",
    "                       limits = c(1, 650)) +\n",
    "  ylab(paste(\"Normalized number of sex-biased ASE\")) +\n",
    "  guides(size = guide_legend(title = \"Unnormalized\\nnumber of\\nsex-biased\\nASE per\\nchromosome\"))\n",
    "ggsave(\"../pdf/splicingIndex.pdf\",g2)\n",
    "message(\"Saved plot as ../pdf/splicingIndex.pdf\")\n",
    "g2"
   ]
  },
  {
   "cell_type": "markdown",
   "metadata": {
    "papermill": {
     "duration": 0.017988,
     "end_time": "2020-11-04T02:41:32.010459",
     "exception": false,
     "start_time": "2020-11-04T02:41:31.992471",
     "status": "completed"
    },
    "tags": []
   },
   "source": [
    "### Appendix - Metadata\n",
    "\n",
    "For replicability and reproducibility purposes, we also print the following metadata:\n",
    "\n",
    "1. Checksums of **'artefacts'**, files generated during the analysis and stored in the folder directory **`data`**\n",
    "2. List of environment metadata, dependencies, versions of libraries using `utils::sessionInfo()` and [`devtools::session_info()`](https://devtools.r-lib.org/reference/session_info.html)"
   ]
  },
  {
   "cell_type": "markdown",
   "metadata": {
    "papermill": {
     "duration": 0.017907,
     "end_time": "2020-11-04T02:41:32.046338",
     "exception": false,
     "start_time": "2020-11-04T02:41:32.028431",
     "status": "completed"
    },
    "tags": []
   },
   "source": [
    "### Appendix 1. Checksums with the sha256 algorithm"
   ]
  },
  {
   "cell_type": "code",
   "execution_count": 7,
   "metadata": {
    "execution": {
     "iopub.execute_input": "2020-11-04T02:41:32.087801Z",
     "iopub.status.busy": "2020-11-04T02:41:32.086147Z",
     "iopub.status.idle": "2020-11-04T02:41:32.100888Z",
     "shell.execute_reply": "2020-11-04T02:41:32.099186Z"
    },
    "papermill": {
     "duration": 0.036822,
     "end_time": "2020-11-04T02:41:32.101063",
     "exception": false,
     "start_time": "2020-11-04T02:41:32.064241",
     "status": "completed"
    },
    "tags": []
   },
   "outputs": [],
   "source": [
    "notebookid = \"create_SplicingIndex_figure\""
   ]
  },
  {
   "cell_type": "markdown",
   "metadata": {
    "papermill": {
     "duration": 0.018112,
     "end_time": "2020-11-04T02:41:32.137586",
     "exception": false,
     "start_time": "2020-11-04T02:41:32.119474",
     "status": "completed"
    },
    "tags": []
   },
   "source": [
    "### Appendix 2. Libraries metadata"
   ]
  },
  {
   "cell_type": "code",
   "execution_count": 8,
   "metadata": {
    "execution": {
     "iopub.execute_input": "2020-11-04T02:41:32.180578Z",
     "iopub.status.busy": "2020-11-04T02:41:32.179020Z",
     "iopub.status.idle": "2020-11-04T02:41:32.484434Z",
     "shell.execute_reply": "2020-11-04T02:41:32.482787Z"
    },
    "papermill": {
     "duration": 0.328565,
     "end_time": "2020-11-04T02:41:32.484601",
     "exception": false,
     "start_time": "2020-11-04T02:41:32.156036",
     "status": "completed"
    },
    "tags": []
   },
   "outputs": [
    {
     "name": "stderr",
     "output_type": "stream",
     "text": [
      "Saving `devtools::session_info()` objects in ../data/devtools_session_info.rds  ..\n",
      "\n"
     ]
    },
    {
     "name": "stderr",
     "output_type": "stream",
     "text": [
      "Done!\n",
      "\n",
      "\n"
     ]
    },
    {
     "name": "stderr",
     "output_type": "stream",
     "text": [
      "Saving `utils::sessionInfo()` objects in ../data/utils_session_info.rds  ..\n",
      "\n"
     ]
    },
    {
     "name": "stderr",
     "output_type": "stream",
     "text": [
      "Done!\n",
      "\n",
      "\n"
     ]
    },
    {
     "data": {
      "text/plain": [
       " setting  value                       \n",
       " version  R version 4.0.3 (2020-10-10)\n",
       " os       Ubuntu 18.04.4 LTS          \n",
       " system   x86_64, linux-gnu           \n",
       " ui       X11                         \n",
       " language en_US.UTF-8                 \n",
       " collate  en_US.UTF-8                 \n",
       " ctype    en_US.UTF-8                 \n",
       " tz       Etc/UTC                     \n",
       " date     2020-11-04                  "
      ]
     },
     "metadata": {},
     "output_type": "display_data"
    },
    {
     "data": {
      "text/html": [
       "<table>\n",
       "<caption>A packages_info: 11 × 11</caption>\n",
       "<thead>\n",
       "\t<tr><th></th><th scope=col>package</th><th scope=col>ondiskversion</th><th scope=col>loadedversion</th><th scope=col>path</th><th scope=col>loadedpath</th><th scope=col>attached</th><th scope=col>is_base</th><th scope=col>date</th><th scope=col>source</th><th scope=col>md5ok</th><th scope=col>library</th></tr>\n",
       "\t<tr><th></th><th scope=col>&lt;chr&gt;</th><th scope=col>&lt;chr&gt;</th><th scope=col>&lt;chr&gt;</th><th scope=col>&lt;chr&gt;</th><th scope=col>&lt;chr&gt;</th><th scope=col>&lt;lgl&gt;</th><th scope=col>&lt;lgl&gt;</th><th scope=col>&lt;chr&gt;</th><th scope=col>&lt;chr&gt;</th><th scope=col>&lt;lgl&gt;</th><th scope=col>&lt;fct&gt;</th></tr>\n",
       "</thead>\n",
       "<tbody>\n",
       "\t<tr><th scope=row>BiocGenerics</th><td>BiocGenerics    </td><td>0.36.0</td><td>0.36.0</td><td>/opt/conda/lib/R/library/BiocGenerics    </td><td>/opt/conda/lib/R/library/BiocGenerics    </td><td>TRUE</td><td>FALSE</td><td>2020-10-27</td><td>Bioconductor  </td><td>NA</td><td>/opt/conda/lib/R/library</td></tr>\n",
       "\t<tr><th scope=row>devtools</th><td>devtools        </td><td>2.3.2 </td><td>2.3.2 </td><td>/opt/conda/lib/R/library/devtools        </td><td>/opt/conda/lib/R/library/devtools        </td><td>TRUE</td><td>FALSE</td><td>2020-09-18</td><td>CRAN (R 4.0.2)</td><td>NA</td><td>/opt/conda/lib/R/library</td></tr>\n",
       "\t<tr><th scope=row>dplyr</th><td>dplyr           </td><td>1.0.2 </td><td>1.0.2 </td><td>/opt/conda/lib/R/library/dplyr           </td><td>/opt/conda/lib/R/library/dplyr           </td><td>TRUE</td><td>FALSE</td><td>2020-08-18</td><td>CRAN (R 4.0.2)</td><td>NA</td><td>/opt/conda/lib/R/library</td></tr>\n",
       "\t<tr><th scope=row>GenomeInfoDb</th><td>GenomeInfoDb    </td><td>1.26.0</td><td>1.26.0</td><td>/opt/conda/lib/R/library/GenomeInfoDb    </td><td>/opt/conda/lib/R/library/GenomeInfoDb    </td><td>TRUE</td><td>FALSE</td><td>2020-10-27</td><td>Bioconductor  </td><td>NA</td><td>/opt/conda/lib/R/library</td></tr>\n",
       "\t<tr><th scope=row>GenomeInfoDbData</th><td>GenomeInfoDbData</td><td>1.2.4 </td><td>1.2.4 </td><td>/opt/conda/lib/R/library/GenomeInfoDbData</td><td>/opt/conda/lib/R/library/GenomeInfoDbData</td><td>TRUE</td><td>FALSE</td><td>2020-11-04</td><td>Bioconductor  </td><td>NA</td><td>/opt/conda/lib/R/library</td></tr>\n",
       "\t<tr><th scope=row>GenomicRanges</th><td>GenomicRanges   </td><td>1.42.0</td><td>1.42.0</td><td>/opt/conda/lib/R/library/GenomicRanges   </td><td>/opt/conda/lib/R/library/GenomicRanges   </td><td>TRUE</td><td>FALSE</td><td>2020-10-27</td><td>Bioconductor  </td><td>NA</td><td>/opt/conda/lib/R/library</td></tr>\n",
       "\t<tr><th scope=row>ggplot2</th><td>ggplot2         </td><td>3.3.2 </td><td>3.3.2 </td><td>/opt/conda/lib/R/library/ggplot2         </td><td>/opt/conda/lib/R/library/ggplot2         </td><td>TRUE</td><td>FALSE</td><td>2020-06-19</td><td>CRAN (R 4.0.1)</td><td>NA</td><td>/opt/conda/lib/R/library</td></tr>\n",
       "\t<tr><th scope=row>IRanges</th><td>IRanges         </td><td>2.24.0</td><td>2.24.0</td><td>/opt/conda/lib/R/library/IRanges         </td><td>/opt/conda/lib/R/library/IRanges         </td><td>TRUE</td><td>FALSE</td><td>2020-10-27</td><td>Bioconductor  </td><td>NA</td><td>/opt/conda/lib/R/library</td></tr>\n",
       "\t<tr><th scope=row>rtracklayer</th><td>rtracklayer     </td><td>1.50.0</td><td>1.50.0</td><td>/opt/conda/lib/R/library/rtracklayer     </td><td>/opt/conda/lib/R/library/rtracklayer     </td><td>TRUE</td><td>FALSE</td><td>2020-10-27</td><td>Bioconductor  </td><td>NA</td><td>/opt/conda/lib/R/library</td></tr>\n",
       "\t<tr><th scope=row>S4Vectors</th><td>S4Vectors       </td><td>0.28.0</td><td>0.28.0</td><td>/opt/conda/lib/R/library/S4Vectors       </td><td>/opt/conda/lib/R/library/S4Vectors       </td><td>TRUE</td><td>FALSE</td><td>2020-10-27</td><td>Bioconductor  </td><td>NA</td><td>/opt/conda/lib/R/library</td></tr>\n",
       "\t<tr><th scope=row>usethis</th><td>usethis         </td><td>1.6.3 </td><td>1.6.3 </td><td>/opt/conda/lib/R/library/usethis         </td><td>/opt/conda/lib/R/library/usethis         </td><td>TRUE</td><td>FALSE</td><td>2020-09-17</td><td>CRAN (R 4.0.2)</td><td>NA</td><td>/opt/conda/lib/R/library</td></tr>\n",
       "</tbody>\n",
       "</table>\n"
      ],
      "text/latex": [
       "A packages\\_info: 11 × 11\n",
       "\\begin{tabular}{r|lllllllllll}\n",
       "  & package & ondiskversion & loadedversion & path & loadedpath & attached & is\\_base & date & source & md5ok & library\\\\\n",
       "  & <chr> & <chr> & <chr> & <chr> & <chr> & <lgl> & <lgl> & <chr> & <chr> & <lgl> & <fct>\\\\\n",
       "\\hline\n",
       "\tBiocGenerics & BiocGenerics     & 0.36.0 & 0.36.0 & /opt/conda/lib/R/library/BiocGenerics     & /opt/conda/lib/R/library/BiocGenerics     & TRUE & FALSE & 2020-10-27 & Bioconductor   & NA & /opt/conda/lib/R/library\\\\\n",
       "\tdevtools & devtools         & 2.3.2  & 2.3.2  & /opt/conda/lib/R/library/devtools         & /opt/conda/lib/R/library/devtools         & TRUE & FALSE & 2020-09-18 & CRAN (R 4.0.2) & NA & /opt/conda/lib/R/library\\\\\n",
       "\tdplyr & dplyr            & 1.0.2  & 1.0.2  & /opt/conda/lib/R/library/dplyr            & /opt/conda/lib/R/library/dplyr            & TRUE & FALSE & 2020-08-18 & CRAN (R 4.0.2) & NA & /opt/conda/lib/R/library\\\\\n",
       "\tGenomeInfoDb & GenomeInfoDb     & 1.26.0 & 1.26.0 & /opt/conda/lib/R/library/GenomeInfoDb     & /opt/conda/lib/R/library/GenomeInfoDb     & TRUE & FALSE & 2020-10-27 & Bioconductor   & NA & /opt/conda/lib/R/library\\\\\n",
       "\tGenomeInfoDbData & GenomeInfoDbData & 1.2.4  & 1.2.4  & /opt/conda/lib/R/library/GenomeInfoDbData & /opt/conda/lib/R/library/GenomeInfoDbData & TRUE & FALSE & 2020-11-04 & Bioconductor   & NA & /opt/conda/lib/R/library\\\\\n",
       "\tGenomicRanges & GenomicRanges    & 1.42.0 & 1.42.0 & /opt/conda/lib/R/library/GenomicRanges    & /opt/conda/lib/R/library/GenomicRanges    & TRUE & FALSE & 2020-10-27 & Bioconductor   & NA & /opt/conda/lib/R/library\\\\\n",
       "\tggplot2 & ggplot2          & 3.3.2  & 3.3.2  & /opt/conda/lib/R/library/ggplot2          & /opt/conda/lib/R/library/ggplot2          & TRUE & FALSE & 2020-06-19 & CRAN (R 4.0.1) & NA & /opt/conda/lib/R/library\\\\\n",
       "\tIRanges & IRanges          & 2.24.0 & 2.24.0 & /opt/conda/lib/R/library/IRanges          & /opt/conda/lib/R/library/IRanges          & TRUE & FALSE & 2020-10-27 & Bioconductor   & NA & /opt/conda/lib/R/library\\\\\n",
       "\trtracklayer & rtracklayer      & 1.50.0 & 1.50.0 & /opt/conda/lib/R/library/rtracklayer      & /opt/conda/lib/R/library/rtracklayer      & TRUE & FALSE & 2020-10-27 & Bioconductor   & NA & /opt/conda/lib/R/library\\\\\n",
       "\tS4Vectors & S4Vectors        & 0.28.0 & 0.28.0 & /opt/conda/lib/R/library/S4Vectors        & /opt/conda/lib/R/library/S4Vectors        & TRUE & FALSE & 2020-10-27 & Bioconductor   & NA & /opt/conda/lib/R/library\\\\\n",
       "\tusethis & usethis          & 1.6.3  & 1.6.3  & /opt/conda/lib/R/library/usethis          & /opt/conda/lib/R/library/usethis          & TRUE & FALSE & 2020-09-17 & CRAN (R 4.0.2) & NA & /opt/conda/lib/R/library\\\\\n",
       "\\end{tabular}\n"
      ],
      "text/markdown": [
       "\n",
       "A packages_info: 11 × 11\n",
       "\n",
       "| <!--/--> | package &lt;chr&gt; | ondiskversion &lt;chr&gt; | loadedversion &lt;chr&gt; | path &lt;chr&gt; | loadedpath &lt;chr&gt; | attached &lt;lgl&gt; | is_base &lt;lgl&gt; | date &lt;chr&gt; | source &lt;chr&gt; | md5ok &lt;lgl&gt; | library &lt;fct&gt; |\n",
       "|---|---|---|---|---|---|---|---|---|---|---|---|\n",
       "| BiocGenerics | BiocGenerics     | 0.36.0 | 0.36.0 | /opt/conda/lib/R/library/BiocGenerics     | /opt/conda/lib/R/library/BiocGenerics     | TRUE | FALSE | 2020-10-27 | Bioconductor   | NA | /opt/conda/lib/R/library |\n",
       "| devtools | devtools         | 2.3.2  | 2.3.2  | /opt/conda/lib/R/library/devtools         | /opt/conda/lib/R/library/devtools         | TRUE | FALSE | 2020-09-18 | CRAN (R 4.0.2) | NA | /opt/conda/lib/R/library |\n",
       "| dplyr | dplyr            | 1.0.2  | 1.0.2  | /opt/conda/lib/R/library/dplyr            | /opt/conda/lib/R/library/dplyr            | TRUE | FALSE | 2020-08-18 | CRAN (R 4.0.2) | NA | /opt/conda/lib/R/library |\n",
       "| GenomeInfoDb | GenomeInfoDb     | 1.26.0 | 1.26.0 | /opt/conda/lib/R/library/GenomeInfoDb     | /opt/conda/lib/R/library/GenomeInfoDb     | TRUE | FALSE | 2020-10-27 | Bioconductor   | NA | /opt/conda/lib/R/library |\n",
       "| GenomeInfoDbData | GenomeInfoDbData | 1.2.4  | 1.2.4  | /opt/conda/lib/R/library/GenomeInfoDbData | /opt/conda/lib/R/library/GenomeInfoDbData | TRUE | FALSE | 2020-11-04 | Bioconductor   | NA | /opt/conda/lib/R/library |\n",
       "| GenomicRanges | GenomicRanges    | 1.42.0 | 1.42.0 | /opt/conda/lib/R/library/GenomicRanges    | /opt/conda/lib/R/library/GenomicRanges    | TRUE | FALSE | 2020-10-27 | Bioconductor   | NA | /opt/conda/lib/R/library |\n",
       "| ggplot2 | ggplot2          | 3.3.2  | 3.3.2  | /opt/conda/lib/R/library/ggplot2          | /opt/conda/lib/R/library/ggplot2          | TRUE | FALSE | 2020-06-19 | CRAN (R 4.0.1) | NA | /opt/conda/lib/R/library |\n",
       "| IRanges | IRanges          | 2.24.0 | 2.24.0 | /opt/conda/lib/R/library/IRanges          | /opt/conda/lib/R/library/IRanges          | TRUE | FALSE | 2020-10-27 | Bioconductor   | NA | /opt/conda/lib/R/library |\n",
       "| rtracklayer | rtracklayer      | 1.50.0 | 1.50.0 | /opt/conda/lib/R/library/rtracklayer      | /opt/conda/lib/R/library/rtracklayer      | TRUE | FALSE | 2020-10-27 | Bioconductor   | NA | /opt/conda/lib/R/library |\n",
       "| S4Vectors | S4Vectors        | 0.28.0 | 0.28.0 | /opt/conda/lib/R/library/S4Vectors        | /opt/conda/lib/R/library/S4Vectors        | TRUE | FALSE | 2020-10-27 | Bioconductor   | NA | /opt/conda/lib/R/library |\n",
       "| usethis | usethis          | 1.6.3  | 1.6.3  | /opt/conda/lib/R/library/usethis          | /opt/conda/lib/R/library/usethis          | TRUE | FALSE | 2020-09-17 | CRAN (R 4.0.2) | NA | /opt/conda/lib/R/library |\n",
       "\n"
      ],
      "text/plain": [
       "                 package          ondiskversion loadedversion\n",
       "BiocGenerics     BiocGenerics     0.36.0        0.36.0       \n",
       "devtools         devtools         2.3.2         2.3.2        \n",
       "dplyr            dplyr            1.0.2         1.0.2        \n",
       "GenomeInfoDb     GenomeInfoDb     1.26.0        1.26.0       \n",
       "GenomeInfoDbData GenomeInfoDbData 1.2.4         1.2.4        \n",
       "GenomicRanges    GenomicRanges    1.42.0        1.42.0       \n",
       "ggplot2          ggplot2          3.3.2         3.3.2        \n",
       "IRanges          IRanges          2.24.0        2.24.0       \n",
       "rtracklayer      rtracklayer      1.50.0        1.50.0       \n",
       "S4Vectors        S4Vectors        0.28.0        0.28.0       \n",
       "usethis          usethis          1.6.3         1.6.3        \n",
       "                 path                                     \n",
       "BiocGenerics     /opt/conda/lib/R/library/BiocGenerics    \n",
       "devtools         /opt/conda/lib/R/library/devtools        \n",
       "dplyr            /opt/conda/lib/R/library/dplyr           \n",
       "GenomeInfoDb     /opt/conda/lib/R/library/GenomeInfoDb    \n",
       "GenomeInfoDbData /opt/conda/lib/R/library/GenomeInfoDbData\n",
       "GenomicRanges    /opt/conda/lib/R/library/GenomicRanges   \n",
       "ggplot2          /opt/conda/lib/R/library/ggplot2         \n",
       "IRanges          /opt/conda/lib/R/library/IRanges         \n",
       "rtracklayer      /opt/conda/lib/R/library/rtracklayer     \n",
       "S4Vectors        /opt/conda/lib/R/library/S4Vectors       \n",
       "usethis          /opt/conda/lib/R/library/usethis         \n",
       "                 loadedpath                                attached is_base\n",
       "BiocGenerics     /opt/conda/lib/R/library/BiocGenerics     TRUE     FALSE  \n",
       "devtools         /opt/conda/lib/R/library/devtools         TRUE     FALSE  \n",
       "dplyr            /opt/conda/lib/R/library/dplyr            TRUE     FALSE  \n",
       "GenomeInfoDb     /opt/conda/lib/R/library/GenomeInfoDb     TRUE     FALSE  \n",
       "GenomeInfoDbData /opt/conda/lib/R/library/GenomeInfoDbData TRUE     FALSE  \n",
       "GenomicRanges    /opt/conda/lib/R/library/GenomicRanges    TRUE     FALSE  \n",
       "ggplot2          /opt/conda/lib/R/library/ggplot2          TRUE     FALSE  \n",
       "IRanges          /opt/conda/lib/R/library/IRanges          TRUE     FALSE  \n",
       "rtracklayer      /opt/conda/lib/R/library/rtracklayer      TRUE     FALSE  \n",
       "S4Vectors        /opt/conda/lib/R/library/S4Vectors        TRUE     FALSE  \n",
       "usethis          /opt/conda/lib/R/library/usethis          TRUE     FALSE  \n",
       "                 date       source         md5ok library                 \n",
       "BiocGenerics     2020-10-27 Bioconductor   NA    /opt/conda/lib/R/library\n",
       "devtools         2020-09-18 CRAN (R 4.0.2) NA    /opt/conda/lib/R/library\n",
       "dplyr            2020-08-18 CRAN (R 4.0.2) NA    /opt/conda/lib/R/library\n",
       "GenomeInfoDb     2020-10-27 Bioconductor   NA    /opt/conda/lib/R/library\n",
       "GenomeInfoDbData 2020-11-04 Bioconductor   NA    /opt/conda/lib/R/library\n",
       "GenomicRanges    2020-10-27 Bioconductor   NA    /opt/conda/lib/R/library\n",
       "ggplot2          2020-06-19 CRAN (R 4.0.1) NA    /opt/conda/lib/R/library\n",
       "IRanges          2020-10-27 Bioconductor   NA    /opt/conda/lib/R/library\n",
       "rtracklayer      2020-10-27 Bioconductor   NA    /opt/conda/lib/R/library\n",
       "S4Vectors        2020-10-27 Bioconductor   NA    /opt/conda/lib/R/library\n",
       "usethis          2020-09-17 CRAN (R 4.0.2) NA    /opt/conda/lib/R/library"
      ]
     },
     "metadata": {},
     "output_type": "display_data"
    }
   ],
   "source": [
    "dev_session_info   <- devtools::session_info()\n",
    "utils_session_info <- utils::sessionInfo()\n",
    "\n",
    "message(\"Saving `devtools::session_info()` objects in ../data/devtools_session_info.rds  ..\")\n",
    "saveRDS(dev_session_info, file = paste0(\"../data/\", notebookid, \"_devtools_session_info.rds\"))\n",
    "message(\"Done!\\n\")\n",
    "\n",
    "message(\"Saving `utils::sessionInfo()` objects in ../data/utils_session_info.rds  ..\")\n",
    "saveRDS(utils_session_info, file = paste0(\"../data/\", notebookid ,\"_utils_info.rds\"))\n",
    "message(\"Done!\\n\")\n",
    "\n",
    "dev_session_info$platform\n",
    "dev_session_info$packages[dev_session_info$packages$attached==TRUE, ]"
   ]
  },
  {
   "cell_type": "code",
   "execution_count": 9,
   "metadata": {
    "execution": {
     "iopub.execute_input": "2020-11-04T02:41:32.533990Z",
     "iopub.status.busy": "2020-11-04T02:41:32.532286Z",
     "iopub.status.idle": "2020-11-04T02:41:32.553044Z",
     "shell.execute_reply": "2020-11-04T02:41:32.551408Z"
    },
    "papermill": {
     "duration": 0.046814,
     "end_time": "2020-11-04T02:41:32.553210",
     "exception": false,
     "start_time": "2020-11-04T02:41:32.506396",
     "status": "completed"
    },
    "tags": []
   },
   "outputs": [
    {
     "data": {
      "text/plain": [
       "Time difference of 53.61629 secs"
      ]
     },
     "metadata": {},
     "output_type": "display_data"
    }
   ],
   "source": [
    "end_time <- Sys.time()\n",
    "end_time - start_time"
   ]
  },
  {
   "cell_type": "code",
   "execution_count": null,
   "metadata": {
    "papermill": {
     "duration": 0.02182,
     "end_time": "2020-11-04T02:41:32.597030",
     "exception": false,
     "start_time": "2020-11-04T02:41:32.575210",
     "status": "completed"
    },
    "tags": []
   },
   "outputs": [],
   "source": []
  }
 ],
 "metadata": {
  "jupytext": {
   "cell_metadata_filter": "-all",
   "encoding": "# -*- coding: utf-8 -*-",
   "main_language": "R",
   "notebook_metadata_filter": "-all"
  },
  "kernelspec": {
   "display_name": "R",
   "language": "R",
   "name": "ir"
  },
  "language_info": {
   "codemirror_mode": "r",
   "file_extension": ".r",
   "mimetype": "text/x-r-source",
   "name": "R",
   "pygments_lexer": "r",
   "version": "4.0.3"
  },
  "papermill": {
   "duration": 54.834386,
   "end_time": "2020-11-04T02:41:32.831592",
   "environment_variables": {},
   "exception": null,
   "input_path": "splicingIndex.ipynb",
   "output_path": "splicingIndex.ipynb",
   "parameters": {},
   "start_time": "2020-11-04T02:40:37.997206",
   "version": "2.1.2"
  }
 },
 "nbformat": 4,
 "nbformat_minor": 4
}