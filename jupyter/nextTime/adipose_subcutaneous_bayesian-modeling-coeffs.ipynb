{
 "cells": [
  {
   "cell_type": "code",
   "execution_count": null,
   "metadata": {
    "papermill": {
     "duration": 0.164179,
     "end_time": "2020-07-08T21:04:16.101084",
     "exception": false,
     "start_time": "2020-07-08T21:04:15.936905",
     "status": "completed"
    },
    "tags": [
     "injected-parameters"
    ]
   },
   "outputs": [],
   "source": [
    "# Parameters\n",
    "tissue_index = 1\n",
    "as_site_type = \"se\"\n",
    "top_n_events = 100\n"
   ]
  },
  {
   "cell_type": "markdown",
   "metadata": {
    "papermill": {
     "duration": 0.192922,
     "end_time": "2020-07-08T21:04:16.479364",
     "exception": false,
     "start_time": "2020-07-08T21:04:16.286442",
     "status": "completed"
    },
    "tags": []
   },
   "source": [
    "# Analysis Notebook - Hierarchical Bayesian Modelling"
   ]
  },
  {
   "cell_type": "markdown",
   "metadata": {
    "papermill": {
     "duration": 0.208167,
     "end_time": "2020-07-08T21:04:16.904903",
     "exception": false,
     "start_time": "2020-07-08T21:04:16.696736",
     "status": "completed"
    },
    "tags": []
   },
   "source": [
    "## **NOTE**:\n",
    "\n",
    "We assume that you have cloned the analysis repository and have `cd` into the parent directory. Before starting with the analysis make sure you have first completed the dependencies set up by following the instructions described in the **`dependencies/README.md`** document. All paths defined in this Notebook are relative to the parent directory (repository). Please close this Notebook and start again by following the above guidelines if you have not completed the aforementioned steps."
   ]
  },
  {
   "cell_type": "markdown",
   "metadata": {
    "papermill": {
     "duration": 0.213966,
     "end_time": "2020-07-08T21:04:17.368432",
     "exception": false,
     "start_time": "2020-07-08T21:04:17.154466",
     "status": "completed"
    },
    "tags": []
   },
   "source": [
    "## Prerequisite input files\n",
    "\n",
    "Before starting the execution of the following code, make sure you have available in the folders `sbas/data` and `sbas/assets` the files listed below as prerequisites.\n",
    "\n",
    "###  **`sbas/data`**.\n",
    "The present analysis requires the following files to be present in the folder **`sbas/data`** uncompressed as the filenames indicate below:\n",
    "\n",
    "- [x] `fromGTF.{as_site_type}.txt`\n",
    "- [x] `GTEx_Analysis_2017-06-05_v8_RNASeQCv1.1.9_gene_tpm.gct`\n",
    "- [x] `rmats_final.{as_site_type}.jc.ijc.txt`\n",
    "- [x] `rmats_final.{as_site_type}.jc.sjc.txt`\n",
    "- [x] `limma::topTable()` dataframes written as csv, filenames shsould follow the convention: `{as_site_type}_{tissue_name}_AS_model_B_sex_as_events.csv`\n",
    "- [x] `srr_pdata.csv`: the corrected GTEx data as created by the forked yarn and in the `annes-changes` branch https://github.com/TheJacksonLaboratory/yarn/tree/annes-changes with the SRR data as used in the `rMATS 3.2.5` experiment.\n",
    "\n",
    "### **`sbas/assets`**\n",
    "The present analysis requires the following files to be present in the folder **`sbas/assets`**.\n",
    "\n",
    "- [x] `tissues.tsv`: metadata file with information on which tissues will be used for analysis -- only using the `include` option for analysis\n",
    "- [x] `splice-relevant-genes.txt`: list of RNA binding proteins that are annotated to splicing relevant functions from GO.\n",
    "\n",
    "\n",
    "**NOTE**: For convenience there are two `.tar.gz` archives with the contents described above.\n",
    "\n",
    "```\n",
    "gs://robinson-bucket/notebooks/bayesian-modeling/data_bayesian_se_AS_model_B_sex_as_events.tar.gz\n",
    "gs://robinson-bucket/notebooks/bayesian-modeling/assets_bayesian_se_AS_model_B_sex_as_events.tar.gz\n",
    "```\n",
    "\n",
    "Before running the notebook, one can unpack the contents of the archives in the `sbas-nf/data` folder as required by executing the following commands:\n",
    "\n",
    "```bash\n",
    "# git clone https://github.com/TheJacksonLaboratory/sbas-nf\n",
    "tar xvzf data_bayesian_{as_site_type}_AS_model_B_sex_as_events.tar.gz -C data/\n",
    "tar xvzf assets_bayesian_{as_site_type}_AS_model_B_sex_as_events.tar.gz -C assets/\n",
    "\n",
    "```\n"
   ]
  },
  {
   "cell_type": "markdown",
   "metadata": {
    "papermill": {
     "duration": 0.215138,
     "end_time": "2020-07-08T21:04:17.801559",
     "exception": false,
     "start_time": "2020-07-08T21:04:17.586421",
     "status": "completed"
    },
    "tags": []
   },
   "source": [
    "## Loading dependencies\n",
    "\n",
    "If `conda` is available on your environment you can install the required dependencies by running the following commands:\n",
    "\n",
    "\n",
    "```bash\n",
    "time conda install -y r-base==3.6.2 &&\n",
    "conda install -y r-ggplot2 r-ggsci r-coda r-rstan r-rjags r-compute.es r-snakecase &&\n",
    "Rscript -e 'install.packages(\"runjags\", repos = \"https://cloud.r-project.org/\")'\n",
    "```\n",
    "\n"
   ]
  },
  {
   "cell_type": "code",
   "execution_count": null,
   "metadata": {
    "papermill": {
     "duration": 0.275753,
     "end_time": "2020-07-08T21:04:18.307360",
     "exception": false,
     "start_time": "2020-07-08T21:04:18.031607",
     "status": "completed"
    },
    "tags": []
   },
   "outputs": [],
   "source": [
    "# Start the clock!\n",
    "start_time <- Sys.time()"
   ]
  },
  {
   "cell_type": "code",
   "execution_count": null,
   "metadata": {
    "papermill": {
     "duration": 1.390239,
     "end_time": "2020-07-08T21:04:19.862606",
     "exception": false,
     "start_time": "2020-07-08T21:04:18.472367",
     "status": "completed"
    },
    "tags": []
   },
   "outputs": [],
   "source": [
    "# dataviz dependencies\n",
    "library(ggplot2)\n",
    "library(ggsci)\n",
    "library(grid)\n",
    "library(gridExtra)\n",
    "library(stringr)\n",
    "library(snakecase)\n",
    "\n",
    "# BDA2E-utilities dependencies\n",
    "library(rstan)\n",
    "library(parallel)\n",
    "library(rjags)\n",
    "library(runjags)\n",
    "library(compute.es)"
   ]
  },
  {
   "cell_type": "markdown",
   "metadata": {
    "papermill": {
     "duration": 0.21563,
     "end_time": "2020-07-08T21:04:20.247115",
     "exception": false,
     "start_time": "2020-07-08T21:04:20.031485",
     "status": "completed"
    },
    "tags": []
   },
   "source": [
    "Previously used list of tissues to use for the Hierarchical Bayesian modelling:\n",
    "\n",
    "\n",
    "\n",
    "```R\n",
    "tissue.list<-c(\"Heart - Left Ventricle\",\n",
    "               \"Breast - Mammary Tissue\",\n",
    "               \"Brain - Cortex.Brain - Frontal Cortex (BA9).Brain - Anterior cingulate cortex (BA24)\",\n",
    "               \"Adrenal Gland\",\n",
    "               \"Adipose - Subcutaneous\",\n",
    "               \"Muscle - Skeletal\",\n",
    "               \"Thyroid\",\n",
    "               \"Cells - Transformed fibroblasts\",\n",
    "               \"Artery - Aorta\",\n",
    "               \"Skin - Sun Exposed (Lower leg).Skin - Not Sun Exposed (Suprapubic)\")\n",
    "```"
   ]
  },
  {
   "cell_type": "code",
   "execution_count": null,
   "metadata": {
    "papermill": {
     "duration": 0.336509,
     "end_time": "2020-07-08T21:04:20.800136",
     "exception": false,
     "start_time": "2020-07-08T21:04:20.463627",
     "status": "completed"
    },
    "tags": []
   },
   "outputs": [],
   "source": [
    "tissues_df <- readr::read_delim(\"../assets/tissues.tsv\", delim = \"\\t\")"
   ]
  },
  {
   "cell_type": "code",
   "execution_count": null,
   "metadata": {
    "papermill": {
     "duration": 0.234031,
     "end_time": "2020-07-08T21:04:21.136778",
     "exception": false,
     "start_time": "2020-07-08T21:04:20.902747",
     "status": "completed"
    },
    "tags": []
   },
   "outputs": [],
   "source": [
    "tissue.list <- tissues_df$name[ tissues_df$include ==1]"
   ]
  },
  {
   "cell_type": "code",
   "execution_count": null,
   "metadata": {
    "papermill": {
     "duration": 0.24493,
     "end_time": "2020-07-08T21:04:21.580747",
     "exception": false,
     "start_time": "2020-07-08T21:04:21.335817",
     "status": "completed"
    },
    "tags": []
   },
   "outputs": [],
   "source": [
    "message(length(tissue.list), \" tissues\")\n",
    "cat(tissue.list, sep = \"\\n\")"
   ]
  },
  {
   "cell_type": "code",
   "execution_count": null,
   "metadata": {
    "papermill": {
     "duration": 0.250249,
     "end_time": "2020-07-08T21:04:22.025518",
     "exception": false,
     "start_time": "2020-07-08T21:04:21.775269",
     "status": "completed"
    },
    "tags": []
   },
   "outputs": [],
   "source": [
    "tissue      <- tissue.list[tissue_index]    #can be replaced with a loop or argument to choose a different tissue\n",
    "as_site_type #can be replaced with a loop or argument to choose a different as_site_type"
   ]
  },
  {
   "cell_type": "code",
   "execution_count": null,
   "metadata": {
    "papermill": {
     "duration": 0.258446,
     "end_time": "2020-07-08T21:04:22.505025",
     "exception": false,
     "start_time": "2020-07-08T21:04:22.246579",
     "status": "completed"
    },
    "tags": []
   },
   "outputs": [],
   "source": [
    "tissue\n",
    "as_site_type"
   ]
  },
  {
   "cell_type": "markdown",
   "metadata": {
    "papermill": {
     "duration": 0.200364,
     "end_time": "2020-07-08T21:04:22.903771",
     "exception": false,
     "start_time": "2020-07-08T21:04:22.703407",
     "status": "completed"
    },
    "tags": []
   },
   "source": [
    "## Pattern for choosing `topTable()` files from `limma`\n",
    "\n",
    "```bash\n",
    "# {as_site_type} + '_' + {tissue} + '_' + suffix_pattern \n",
    "se_skin_not_sun_exposed_suprapubic_AS_model_B_sex_as_events.csv\n",
    "```"
   ]
  },
  {
   "cell_type": "code",
   "execution_count": null,
   "metadata": {
    "papermill": {
     "duration": 0.283775,
     "end_time": "2020-07-08T21:04:23.412755",
     "exception": false,
     "start_time": "2020-07-08T21:04:23.128980",
     "status": "completed"
    },
    "tags": []
   },
   "outputs": [],
   "source": [
    "tissue\n",
    "dataDir <- \"../data/\"\n",
    "assetsDir <- \"../assets/\"\n",
    "as_site_type\n",
    "suffix_pattern <- \"AS_model_B_sex_as_events.csv\"\n",
    "\n",
    "file.with.de.results <- paste0(dataDir, as_site_type, \"_\", tissue, \"_\" , suffix_pattern  )\n",
    "file.with.de.results\n",
    "file.exists(file.with.de.results)\n",
    "system( paste0(\"ls -l \", file.with.de.results), intern = TRUE )"
   ]
  },
  {
   "cell_type": "markdown",
   "metadata": {
    "papermill": {
     "duration": 0.219672,
     "end_time": "2020-07-08T21:04:23.778593",
     "exception": false,
     "start_time": "2020-07-08T21:04:23.558921",
     "status": "completed"
    },
    "tags": []
   },
   "source": [
    "**NOTE**:\n",
    "The parameters `tissue_index` and `as_site_type` will be passed from papermill and added in the fist chunk of the notebook upon execution. Do not assign to a hardcoded value anywhere in the notebook, as they will ovewrite the assignment in the first chunk."
   ]
  },
  {
   "cell_type": "code",
   "execution_count": null,
   "metadata": {
    "papermill": {
     "duration": 0.696613,
     "end_time": "2020-07-08T21:04:24.700754",
     "exception": false,
     "start_time": "2020-07-08T21:04:24.004141",
     "status": "completed"
    },
    "tags": []
   },
   "outputs": [],
   "source": [
    "events.table         <- read.table(file.with.de.results, sep = \",\")\n",
    "head(events.table, 2)"
   ]
  },
  {
   "cell_type": "markdown",
   "metadata": {
    "papermill": {
     "duration": 0.202933,
     "end_time": "2020-07-08T21:04:25.089304",
     "exception": false,
     "start_time": "2020-07-08T21:04:24.886371",
     "status": "completed"
    },
    "tags": []
   },
   "source": [
    "## Add annotation columns to the topTable dataframe:\n",
    "\n",
    "The feature information is encoded in the topTable dataframe as rownames. The `ID` and `geneSymbol` variables have been combined in the following pattern:\n",
    "\n",
    "```console\n",
    "{geneSymbol}-{ID} \n",
    "```\n",
    "\n",
    "- `ID`: everything **_after_** last occurence of hyphen `-`\n",
    "example: \n",
    "```R\n",
    "stringr::str_replace(\"apples - oranges - bananas\", \"^.+-\", \"\")\n",
    "```\n",
    "\n",
    "```console\n",
    "# output:\n",
    "\n",
    "' bananas'\n",
    "```\n",
    "\n",
    "- `geneSymbol`: everything **_before_** last occurence of `-`\n",
    "example: \n",
    "\n",
    "```R\n",
    "sub('-[^-]*$', '',\"apples - oranges - bananas\")\n",
    "```\n",
    "\n",
    "```console\n",
    "# output:\n",
    "\n",
    "'apples - oranges '\n",
    "```\n",
    "\n",
    "```diff\n",
    "- NOTE: The above solution covers the cases where a hyphen is part of the geneSymbol.\n",
    "```"
   ]
  },
  {
   "cell_type": "code",
   "execution_count": null,
   "metadata": {
    "papermill": {
     "duration": 0.235773,
     "end_time": "2020-07-08T21:04:25.551574",
     "exception": false,
     "start_time": "2020-07-08T21:04:25.315801",
     "status": "completed"
    },
    "tags": []
   },
   "outputs": [],
   "source": [
    "cols_initially <- colnames(events.table)\n",
    "cols_initially"
   ]
  },
  {
   "cell_type": "code",
   "execution_count": null,
   "metadata": {
    "papermill": {
     "duration": 0.451863,
     "end_time": "2020-07-08T21:04:26.196267",
     "exception": false,
     "start_time": "2020-07-08T21:04:25.744404",
     "status": "completed"
    },
    "tags": []
   },
   "outputs": [],
   "source": [
    "events.table[[\"ID\"]] <- stringr::str_replace(rownames(events.table),  \"^.+-\", \"\")\n",
    "events.table[[\"gene_name\"]] <- sub('-[^-]*$', '', rownames(events.table))"
   ]
  },
  {
   "cell_type": "code",
   "execution_count": null,
   "metadata": {
    "papermill": {
     "duration": 0.238891,
     "end_time": "2020-07-08T21:04:26.637364",
     "exception": false,
     "start_time": "2020-07-08T21:04:26.398473",
     "status": "completed"
    },
    "tags": []
   },
   "outputs": [],
   "source": [
    "keepInOrderCols <- c(\"gene_name\", \"ID\", cols_initially)"
   ]
  },
  {
   "cell_type": "code",
   "execution_count": null,
   "metadata": {
    "papermill": {
     "duration": 0.242014,
     "end_time": "2020-07-08T21:04:27.084086",
     "exception": false,
     "start_time": "2020-07-08T21:04:26.842072",
     "status": "completed"
    },
    "tags": []
   },
   "outputs": [],
   "source": [
    "events.table <- events.table[ , keepInOrderCols ]"
   ]
  },
  {
   "cell_type": "code",
   "execution_count": null,
   "metadata": {
    "papermill": {
     "duration": 0.245796,
     "end_time": "2020-07-08T21:04:27.577942",
     "exception": false,
     "start_time": "2020-07-08T21:04:27.332146",
     "status": "completed"
    },
    "tags": []
   },
   "outputs": [],
   "source": [
    "tail(events.table, 2)"
   ]
  },
  {
   "cell_type": "markdown",
   "metadata": {
    "papermill": {
     "duration": 0.224125,
     "end_time": "2020-07-08T21:04:27.995949",
     "exception": false,
     "start_time": "2020-07-08T21:04:27.771824",
     "status": "completed"
    },
    "tags": []
   },
   "source": [
    "## Define filepaths of required inputs\n",
    "\n",
    "`file.with.de.results` has been defined above"
   ]
  },
  {
   "cell_type": "code",
   "execution_count": null,
   "metadata": {
    "papermill": {
     "duration": 0.194121,
     "end_time": "2020-07-08T21:04:28.299047",
     "exception": false,
     "start_time": "2020-07-08T21:04:28.104926",
     "status": "completed"
    },
    "tags": []
   },
   "outputs": [],
   "source": [
    "rbp.table.name        <- paste0(assetsDir, \"splice-relevant-genes.txt\")\n",
    "file.exists(rbp.table.name)"
   ]
  },
  {
   "cell_type": "code",
   "execution_count": null,
   "metadata": {
    "papermill": {
     "duration": 0.137469,
     "end_time": "2020-07-08T21:04:28.590292",
     "exception": false,
     "start_time": "2020-07-08T21:04:28.452823",
     "status": "completed"
    },
    "tags": []
   },
   "outputs": [],
   "source": [
    "events.table.name     <- paste0(paste0(paste0(dataDir, \"fromGTF.\"), toupper(as_site_type)),\".txt\")\n",
    "events.table.name\n",
    "file.exists(events.table.name)"
   ]
  },
  {
   "cell_type": "code",
   "execution_count": null,
   "metadata": {
    "papermill": {
     "duration": 0.13842,
     "end_time": "2020-07-08T21:04:28.863180",
     "exception": false,
     "start_time": "2020-07-08T21:04:28.724760",
     "status": "completed"
    },
    "tags": []
   },
   "outputs": [],
   "source": [
    "inc.counts.file.name  <- paste0(paste0(paste0(dataDir, \"rmats_final.\"), as_site_type),\".jc.ijc.txt\")\n",
    "inc.counts.file.name\n",
    "file.exists(inc.counts.file.name)"
   ]
  },
  {
   "cell_type": "code",
   "execution_count": null,
   "metadata": {
    "papermill": {
     "duration": 0.147745,
     "end_time": "2020-07-08T21:04:29.125718",
     "exception": false,
     "start_time": "2020-07-08T21:04:28.977973",
     "status": "completed"
    },
    "tags": []
   },
   "outputs": [],
   "source": [
    "skip.counts.file.name  <- paste0(paste0(paste0(dataDir, \"rmats_final.\"), as_site_type),\".jc.sjc.txt\")\n",
    "skip.counts.file.name\n",
    "file.exists(skip.counts.file.name)"
   ]
  },
  {
   "cell_type": "code",
   "execution_count": null,
   "metadata": {
    "papermill": {
     "duration": 0.143516,
     "end_time": "2020-07-08T21:04:29.385076",
     "exception": false,
     "start_time": "2020-07-08T21:04:29.241560",
     "status": "completed"
    },
    "tags": []
   },
   "outputs": [],
   "source": [
    "metadata.file.name    <- paste0(dataDir, \"srr_pdata.csv\")\n",
    "file.exists(metadata.file.name)"
   ]
  },
  {
   "cell_type": "code",
   "execution_count": null,
   "metadata": {
    "papermill": {
     "duration": 0.14628,
     "end_time": "2020-07-08T21:04:29.650594",
     "exception": false,
     "start_time": "2020-07-08T21:04:29.504314",
     "status": "completed"
    },
    "tags": []
   },
   "outputs": [],
   "source": [
    "expression.file.name  <- paste0(dataDir, \"GTEx_Analysis_2017-06-05_v8_RNASeQCv1.1.9_gene_tpm.gct\")\n",
    "file.exists(expression.file.name)"
   ]
  },
  {
   "cell_type": "markdown",
   "metadata": {
    "papermill": {
     "duration": 0.114274,
     "end_time": "2020-07-08T21:04:29.883635",
     "exception": false,
     "start_time": "2020-07-08T21:04:29.769361",
     "status": "completed"
    },
    "tags": []
   },
   "source": [
    "## Use the define filepaths to load/read in the tables "
   ]
  },
  {
   "cell_type": "markdown",
   "metadata": {
    "papermill": {
     "duration": 0.114012,
     "end_time": "2020-07-08T21:04:30.111913",
     "exception": false,
     "start_time": "2020-07-08T21:04:29.997901",
     "status": "completed"
    },
    "tags": []
   },
   "source": [
    "Load the sjc and sjc count matrices, and the list of RNA binding proteins that are annotated to either:\n",
    "- mRNA splicing, via spliceosome `(GO:0000398)`,\n",
    "- regulation of mRNA splicing, via spliceosome `(GO:0048024)`, or \n",
    "- both. \n",
    "\n",
    "The table has the:\n",
    "- Gene Symbol\n",
    "- the Uniprot ID (`uprot.id`)\n",
    "- the NCBI Gene ID (`gene.id`) and \n",
    "- boolean columns for being \n",
    "  - `S`=mRNA splicing, via spliceosome `(GO:0000398)` and \n",
    "  - `R`=regulation of mRNA splicing, via spliceosome `(GO:0048024)`."
   ]
  },
  {
   "cell_type": "markdown",
   "metadata": {
    "papermill": {
     "duration": 0.114762,
     "end_time": "2020-07-08T21:04:30.339784",
     "exception": false,
     "start_time": "2020-07-08T21:04:30.225022",
     "status": "completed"
    },
    "tags": []
   },
   "source": [
    "### Filtering of the `topTable()` object\n",
    "\n",
    "- `abs(events.table$logFC)>=log2(1.5)`\n",
    "- `events.table$adj.P.Val<=0.05`"
   ]
  },
  {
   "cell_type": "code",
   "execution_count": null,
   "metadata": {
    "papermill": {
     "duration": 0.173921,
     "end_time": "2020-07-08T21:04:30.627811",
     "exception": false,
     "start_time": "2020-07-08T21:04:30.453890",
     "status": "completed"
    },
    "tags": []
   },
   "outputs": [],
   "source": [
    "dim(events.table)\n",
    "events.table <- events.table[abs(events.table$logFC)>=log2(1.5) & events.table$adj.P.Val<=0.05,]\n",
    "dim(events.table)\n",
    "head(events.table,2)"
   ]
  },
  {
   "cell_type": "markdown",
   "metadata": {
    "papermill": {
     "duration": 0.117774,
     "end_time": "2020-07-08T21:04:30.870069",
     "exception": false,
     "start_time": "2020-07-08T21:04:30.752295",
     "status": "completed"
    },
    "tags": []
   },
   "source": [
    "Make sure this command has been executed before `gunzip sbas/data/fromGTF.*` as the files are expected uncompressed.\n"
   ]
  },
  {
   "cell_type": "code",
   "execution_count": null,
   "metadata": {
    "papermill": {
     "duration": 0.543216,
     "end_time": "2020-07-08T21:04:31.529599",
     "exception": false,
     "start_time": "2020-07-08T21:04:30.986383",
     "status": "completed"
    },
    "tags": []
   },
   "outputs": [],
   "source": [
    "annot.table  <- read.table(events.table.name,header=T)\n",
    "dim(annot.table)\n",
    "head(annot.table, 1)"
   ]
  },
  {
   "cell_type": "code",
   "execution_count": null,
   "metadata": {
    "papermill": {
     "duration": 0.196042,
     "end_time": "2020-07-08T21:04:31.846585",
     "exception": false,
     "start_time": "2020-07-08T21:04:31.650543",
     "status": "completed"
    },
    "tags": []
   },
   "outputs": [],
   "source": [
    "merged.table <- merge(events.table, annot.table, by=\"ID\")"
   ]
  },
  {
   "cell_type": "code",
   "execution_count": null,
   "metadata": {
    "papermill": {
     "duration": 0.15982,
     "end_time": "2020-07-08T21:04:32.126007",
     "exception": false,
     "start_time": "2020-07-08T21:04:31.966187",
     "status": "completed"
    },
    "tags": []
   },
   "outputs": [],
   "source": [
    "dim(merged.table)\n",
    "head(merged.table, 2)"
   ]
  },
  {
   "cell_type": "code",
   "execution_count": null,
   "metadata": {
    "papermill": {
     "duration": 0.157311,
     "end_time": "2020-07-08T21:04:32.405124",
     "exception": false,
     "start_time": "2020-07-08T21:04:32.247813",
     "status": "completed"
    },
    "tags": []
   },
   "outputs": [],
   "source": [
    "rbp.table    <- read.table(rbp.table.name,sep=\"\\t\",header=TRUE)\n",
    "dim(rbp.table)\n",
    "head(rbp.table, 1)"
   ]
  },
  {
   "cell_type": "markdown",
   "metadata": {
    "papermill": {
     "duration": 0.127631,
     "end_time": "2020-07-08T21:04:32.661612",
     "exception": false,
     "start_time": "2020-07-08T21:04:32.533981",
     "status": "completed"
    },
    "tags": []
   },
   "source": [
    "Make sure this command has been executed before `gunzip sbas/data/rmats_final.{as_site_type}.jc.*jc.*` as the files are expected uncompressed.\n"
   ]
  },
  {
   "cell_type": "code",
   "execution_count": null,
   "metadata": {
    "papermill": {
     "duration": 9.008561,
     "end_time": "2020-07-08T21:04:41.797887",
     "exception": false,
     "start_time": "2020-07-08T21:04:32.789326",
     "status": "completed"
    },
    "tags": []
   },
   "outputs": [],
   "source": [
    "inc.counts   <- as.data.frame(data.table::fread(inc.counts.file.name))\n",
    "dim(inc.counts)\n",
    "inc.counts[1:2,1:3]"
   ]
  },
  {
   "cell_type": "code",
   "execution_count": null,
   "metadata": {
    "papermill": {
     "duration": 5.717295,
     "end_time": "2020-07-08T21:04:47.641085",
     "exception": false,
     "start_time": "2020-07-08T21:04:41.923790",
     "status": "completed"
    },
    "tags": []
   },
   "outputs": [],
   "source": [
    "skip.counts  <- as.data.frame(data.table::fread(skip.counts.file.name))\n",
    "dim(skip.counts)\n",
    "skip.counts[1:2,1:3]"
   ]
  },
  {
   "cell_type": "markdown",
   "metadata": {
    "papermill": {
     "duration": 0.129936,
     "end_time": "2020-07-08T21:04:47.899444",
     "exception": false,
     "start_time": "2020-07-08T21:04:47.769508",
     "status": "completed"
    },
    "tags": []
   },
   "source": [
    "## Check `dim()` of loaded objects"
   ]
  },
  {
   "cell_type": "code",
   "execution_count": null,
   "metadata": {
    "papermill": {
     "duration": 0.17354,
     "end_time": "2020-07-08T21:04:48.200603",
     "exception": false,
     "start_time": "2020-07-08T21:04:48.027063",
     "status": "completed"
    },
    "tags": []
   },
   "outputs": [],
   "source": [
    "dim(events.table)\n",
    "dim(annot.table)\n",
    "dim(merged.table)\n",
    "dim(rbp.table)\n",
    "dim(inc.counts)\n",
    "dim(skip.counts)"
   ]
  },
  {
   "cell_type": "markdown",
   "metadata": {
    "papermill": {
     "duration": 0.132146,
     "end_time": "2020-07-08T21:04:48.467724",
     "exception": false,
     "start_time": "2020-07-08T21:04:48.335578",
     "status": "completed"
    },
    "tags": []
   },
   "source": [
    "## Read sample info"
   ]
  },
  {
   "cell_type": "code",
   "execution_count": null,
   "metadata": {
    "papermill": {
     "duration": 0.293475,
     "end_time": "2020-07-08T21:04:48.892851",
     "exception": false,
     "start_time": "2020-07-08T21:04:48.599376",
     "status": "completed"
    },
    "tags": []
   },
   "outputs": [],
   "source": [
    "metadata.file.name\n",
    "file.exists(metadata.file.name)\n",
    "system(paste0(\"ls -l\", \" ../data/srr_pdata.csv\"), intern = TRUE)"
   ]
  },
  {
   "cell_type": "code",
   "execution_count": null,
   "metadata": {
    "papermill": {
     "duration": 0.38114,
     "end_time": "2020-07-08T21:04:49.430748",
     "exception": false,
     "start_time": "2020-07-08T21:04:49.049608",
     "status": "completed"
    },
    "tags": []
   },
   "outputs": [],
   "source": [
    "meta.data <- readr::read_csv(metadata.file.name)\n",
    "dim(meta.data)\n",
    "head(meta.data, 1)"
   ]
  },
  {
   "cell_type": "code",
   "execution_count": null,
   "metadata": {
    "papermill": {
     "duration": 0.164892,
     "end_time": "2020-07-08T21:04:49.738133",
     "exception": false,
     "start_time": "2020-07-08T21:04:49.573241",
     "status": "completed"
    },
    "tags": []
   },
   "outputs": [],
   "source": [
    "meta.data$SMTSD[1:3]"
   ]
  },
  {
   "cell_type": "code",
   "execution_count": null,
   "metadata": {
    "papermill": {
     "duration": 0.159191,
     "end_time": "2020-07-08T21:04:50.038997",
     "exception": false,
     "start_time": "2020-07-08T21:04:49.879806",
     "status": "completed"
    },
    "tags": []
   },
   "outputs": [],
   "source": [
    "meta.data[[\"SMTSD\"]] <- as.character(meta.data[[\"SMTSD\"]])"
   ]
  },
  {
   "cell_type": "code",
   "execution_count": null,
   "metadata": {
    "papermill": {
     "duration": 0.169448,
     "end_time": "2020-07-08T21:04:50.346556",
     "exception": false,
     "start_time": "2020-07-08T21:04:50.177108",
     "status": "completed"
    },
    "tags": []
   },
   "outputs": [],
   "source": [
    "meta.data$SMTSD[1:3]"
   ]
  },
  {
   "cell_type": "code",
   "execution_count": null,
   "metadata": {
    "papermill": {
     "duration": 0.47168,
     "end_time": "2020-07-08T21:04:50.957519",
     "exception": false,
     "start_time": "2020-07-08T21:04:50.485839",
     "status": "completed"
    },
    "tags": []
   },
   "outputs": [],
   "source": [
    "meta.data <- meta.data[ snakecase::to_snake_case(meta.data$SMTSD) == tissue,]"
   ]
  },
  {
   "cell_type": "code",
   "execution_count": null,
   "metadata": {
    "papermill": {
     "duration": 0.178755,
     "end_time": "2020-07-08T21:04:51.277152",
     "exception": false,
     "start_time": "2020-07-08T21:04:51.098397",
     "status": "completed"
    },
    "tags": []
   },
   "outputs": [],
   "source": [
    "tissue\n",
    "dim(meta.data)\n",
    "meta.data[1:2,1:8]"
   ]
  },
  {
   "cell_type": "code",
   "execution_count": null,
   "metadata": {
    "papermill": {
     "duration": 0.168764,
     "end_time": "2020-07-08T21:04:51.594196",
     "exception": false,
     "start_time": "2020-07-08T21:04:51.425432",
     "status": "completed"
    },
    "tags": []
   },
   "outputs": [],
   "source": [
    "# Undo snakecase of SMTSD\n",
    "tissue\n",
    "tissue <- unique(meta.data$SMTSD)\n",
    "tissue"
   ]
  },
  {
   "cell_type": "code",
   "execution_count": null,
   "metadata": {
    "papermill": {
     "duration": 0.175208,
     "end_time": "2020-07-08T21:04:51.918574",
     "exception": false,
     "start_time": "2020-07-08T21:04:51.743366",
     "status": "completed"
    },
    "tags": []
   },
   "outputs": [],
   "source": [
    "dim(inc.counts)\n",
    "inc.counts   <- inc.counts[,colnames(inc.counts) %in% meta.data$SRR]\n",
    "dim(inc.counts)"
   ]
  },
  {
   "cell_type": "code",
   "execution_count": null,
   "metadata": {
    "papermill": {
     "duration": 0.176113,
     "end_time": "2020-07-08T21:04:52.241116",
     "exception": false,
     "start_time": "2020-07-08T21:04:52.065003",
     "status": "completed"
    },
    "tags": []
   },
   "outputs": [],
   "source": [
    "dim(skip.counts)\n",
    "skip.counts  <- skip.counts[,colnames(skip.counts) %in% meta.data$SRR]\n",
    "dim(skip.counts)"
   ]
  },
  {
   "cell_type": "markdown",
   "metadata": {
    "papermill": {
     "duration": 0.148855,
     "end_time": "2020-07-08T21:04:52.546367",
     "exception": false,
     "start_time": "2020-07-08T21:04:52.397512",
     "status": "completed"
    },
    "tags": []
   },
   "source": [
    "## This notebook only signficant events are used - filtering now on Adj.P Val\n",
    "\n",
    "If there are more than 100 events that are significant, reduce this by ordering on the adjusted p-value (column Adj.P.Val).  \n",
    "\n",
    "Then update the ijc and sjc matrices and the merged.table (annotations)\n"
   ]
  },
  {
   "cell_type": "code",
   "execution_count": null,
   "metadata": {
    "papermill": {
     "duration": 0.239075,
     "end_time": "2020-07-08T21:04:52.939869",
     "exception": false,
     "start_time": "2020-07-08T21:04:52.700794",
     "status": "completed"
    },
    "tags": []
   },
   "outputs": [],
   "source": [
    "if (nrow(skip.counts) > top_n_events ) {\n",
    "    head(merged.table,2)\n",
    "    dim(merged.table)\n",
    "    ordered_by_adj.P.Val <- merged.table[order(merged.table$adj.P.Val, decreasing=FALSE), ]\n",
    "    message(\"min(ordered_by_adj.P.Val$adj.P.Val): \", min(ordered_by_adj.P.Val$adj.P.Val))\n",
    "    message(\"max(ordered_by_adj.P.Val$adj.P.Val): \", max(ordered_by_adj.P.Val$adj.P.Val))\n",
    "\n",
    "    order_by_adj.P.Val <- order(merged.table$adj.P.Val,decreasing=FALSE)\n",
    "    head(merged.table[order_by_adj.P.Val,],2)\n",
    "    keep_IDs <- merged.table[order_by_adj.P.Val,]$ID[1:top_n_events]\n",
    "    head(keep_IDs)\n",
    "    keep_IDs <- keep_IDs[order(keep_IDs, decreasing=FALSE)]\n",
    "    head(keep_IDs)\n",
    "    # counts table will be identical in rows\n",
    "    counts.keep <- as.character(rownames(skip.counts)) %in% as.character(keep_IDs)\n",
    "    table(counts.keep)\n",
    "    # not so sure about merged.table - so lets have a different logical key\n",
    "    merged.keep <- as.character(merged.table$ID) %in% as.character(keep_IDs)\n",
    "    table(merged.keep)\n",
    "    \n",
    "    # update the sjc counts \n",
    "    dim(skip.counts)\n",
    "    skip.counts  <- skip.counts[counts.keep,]\n",
    "    dim(skip.counts)\n",
    " \n",
    "    # update the ijc counts\n",
    "    dim(inc.counts)\n",
    "    inc.counts   <- inc.counts[counts.keep,]\n",
    "    dim(inc.counts)\n",
    "    \n",
    "    # merged table\n",
    "    dim(merged.table)\n",
    "    merged.table       <- merged.table[merged.keep,] \n",
    "    dim(merged.table)\n",
    "}"
   ]
  },
  {
   "cell_type": "code",
   "execution_count": null,
   "metadata": {
    "papermill": {
     "duration": 0.182584,
     "end_time": "2020-07-08T21:04:53.272972",
     "exception": false,
     "start_time": "2020-07-08T21:04:53.090388",
     "status": "completed"
    },
    "tags": []
   },
   "outputs": [],
   "source": [
    "dim(inc.counts)\n",
    "dim(skip.counts)\n",
    "dim(merged.table)"
   ]
  },
  {
   "cell_type": "code",
   "execution_count": null,
   "metadata": {
    "papermill": {
     "duration": 0.393818,
     "end_time": "2020-07-08T21:04:53.826569",
     "exception": false,
     "start_time": "2020-07-08T21:04:53.432751",
     "status": "completed"
    },
    "tags": []
   },
   "outputs": [],
   "source": [
    "head(merged.table)\n",
    "message(\"min(merged.table$adj.P.Val): \", min(merged.table$adj.P.Val))\n",
    "message(\"max(merged.table$adj.P.Val): \", max(merged.table$adj.P.Val))\n",
    "\n"
   ]
  },
  {
   "cell_type": "markdown",
   "metadata": {
    "papermill": {
     "duration": 0.186435,
     "end_time": "2020-07-08T21:04:54.176852",
     "exception": false,
     "start_time": "2020-07-08T21:04:53.990417",
     "status": "completed"
    },
    "tags": []
   },
   "source": [
    "## Read expression data:"
   ]
  },
  {
   "cell_type": "code",
   "execution_count": null,
   "metadata": {
    "papermill": {
     "duration": 0.188785,
     "end_time": "2020-07-08T21:04:54.529623",
     "exception": false,
     "start_time": "2020-07-08T21:04:54.340838",
     "status": "completed"
    },
    "tags": []
   },
   "outputs": [],
   "source": [
    "expression.file.name\n",
    "file.exists(expression.file.name)"
   ]
  },
  {
   "cell_type": "code",
   "execution_count": null,
   "metadata": {
    "papermill": {
     "duration": 6.282185,
     "end_time": "2020-07-08T21:05:00.968790",
     "exception": false,
     "start_time": "2020-07-08T21:04:54.686605",
     "status": "completed"
    },
    "tags": []
   },
   "outputs": [],
   "source": [
    "expression.mat <- read.table(expression.file.name, \n",
    "                             nrows = 1,\n",
    "                             sep = \"\\t\",\n",
    "                             header = T,\n",
    "                             skip = 2)"
   ]
  },
  {
   "cell_type": "code",
   "execution_count": null,
   "metadata": {
    "papermill": {
     "duration": 0.186568,
     "end_time": "2020-07-08T21:05:01.312114",
     "exception": false,
     "start_time": "2020-07-08T21:05:01.125546",
     "status": "completed"
    },
    "tags": []
   },
   "outputs": [],
   "source": [
    "dim(expression.mat)\n",
    "expression.mat[1:2,1:4]"
   ]
  },
  {
   "cell_type": "code",
   "execution_count": null,
   "metadata": {
    "papermill": {
     "duration": 0.182361,
     "end_time": "2020-07-08T21:05:01.655873",
     "exception": false,
     "start_time": "2020-07-08T21:05:01.473512",
     "status": "completed"
    },
    "tags": []
   },
   "outputs": [],
   "source": [
    "colnames(expression.mat)[1:3]"
   ]
  },
  {
   "cell_type": "code",
   "execution_count": null,
   "metadata": {
    "papermill": {
     "duration": 0.177074,
     "end_time": "2020-07-08T21:05:01.995601",
     "exception": false,
     "start_time": "2020-07-08T21:05:01.818527",
     "status": "completed"
    },
    "tags": []
   },
   "outputs": [],
   "source": [
    "colnames.expression.mat <- colnames(expression.mat)"
   ]
  },
  {
   "cell_type": "code",
   "execution_count": null,
   "metadata": {
    "papermill": {
     "duration": 0.185645,
     "end_time": "2020-07-08T21:05:02.341769",
     "exception": false,
     "start_time": "2020-07-08T21:05:02.156124",
     "status": "completed"
    },
    "tags": []
   },
   "outputs": [],
   "source": [
    "length(colnames.expression.mat)\n",
    "colnames.expression.mat[1:4]"
   ]
  },
  {
   "cell_type": "code",
   "execution_count": null,
   "metadata": {
    "papermill": {
     "duration": 0.188735,
     "end_time": "2020-07-08T21:05:02.695899",
     "exception": false,
     "start_time": "2020-07-08T21:05:02.507164",
     "status": "completed"
    },
    "tags": []
   },
   "outputs": [],
   "source": [
    "length(colnames.expression.mat)"
   ]
  },
  {
   "cell_type": "code",
   "execution_count": null,
   "metadata": {
    "papermill": {
     "duration": 0.185411,
     "end_time": "2020-07-08T21:05:03.045550",
     "exception": false,
     "start_time": "2020-07-08T21:05:02.860139",
     "status": "completed"
    },
    "tags": []
   },
   "outputs": [],
   "source": [
    "total.samples           <- length(colnames.expression.mat)\n",
    "total.samples"
   ]
  },
  {
   "cell_type": "code",
   "execution_count": null,
   "metadata": {
    "papermill": {
     "duration": 0.189961,
     "end_time": "2020-07-08T21:05:03.401800",
     "exception": false,
     "start_time": "2020-07-08T21:05:03.211839",
     "status": "completed"
    },
    "tags": []
   },
   "outputs": [],
   "source": [
    "meta.data$SAMPID[1]\n",
    "gsub(\"-\",\"\\\\.\",meta.data$SAMPID[1])"
   ]
  },
  {
   "cell_type": "code",
   "execution_count": null,
   "metadata": {
    "papermill": {
     "duration": 0.196996,
     "end_time": "2020-07-08T21:05:03.764884",
     "exception": false,
     "start_time": "2020-07-08T21:05:03.567888",
     "status": "completed"
    },
    "tags": []
   },
   "outputs": [],
   "source": [
    "meta.data$SAMPID   <- gsub(\"-\",\"\\\\.\",meta.data$SAMPID)"
   ]
  },
  {
   "cell_type": "code",
   "execution_count": null,
   "metadata": {
    "papermill": {
     "duration": 0.190941,
     "end_time": "2020-07-08T21:05:04.120124",
     "exception": false,
     "start_time": "2020-07-08T21:05:03.929183",
     "status": "completed"
    },
    "tags": []
   },
   "outputs": [],
   "source": [
    "dim(meta.data)\n",
    "meta.data               <- meta.data[meta.data$SAMPID %in% colnames(expression.mat),]\n",
    "dim(meta.data)"
   ]
  },
  {
   "cell_type": "code",
   "execution_count": null,
   "metadata": {
    "papermill": {
     "duration": 0.194898,
     "end_time": "2020-07-08T21:05:04.508900",
     "exception": false,
     "start_time": "2020-07-08T21:05:04.314002",
     "status": "completed"
    },
    "tags": []
   },
   "outputs": [],
   "source": [
    "expression.mat[1:2,1:4]"
   ]
  },
  {
   "cell_type": "code",
   "execution_count": null,
   "metadata": {
    "papermill": {
     "duration": 0.186933,
     "end_time": "2020-07-08T21:05:04.869579",
     "exception": false,
     "start_time": "2020-07-08T21:05:04.682646",
     "status": "completed"
    },
    "tags": []
   },
   "outputs": [],
   "source": [
    "meta.data <- meta.data[!duplicated(meta.data$SAMPID),]"
   ]
  },
  {
   "cell_type": "code",
   "execution_count": null,
   "metadata": {
    "papermill": {
     "duration": 0.189394,
     "end_time": "2020-07-08T21:05:05.227625",
     "exception": false,
     "start_time": "2020-07-08T21:05:05.038231",
     "status": "completed"
    },
    "tags": []
   },
   "outputs": [],
   "source": [
    "dim(meta.data)"
   ]
  },
  {
   "cell_type": "code",
   "execution_count": null,
   "metadata": {
    "papermill": {
     "duration": 0.199731,
     "end_time": "2020-07-08T21:05:05.601830",
     "exception": false,
     "start_time": "2020-07-08T21:05:05.402099",
     "status": "completed"
    },
    "tags": []
   },
   "outputs": [],
   "source": [
    "inc.counts <- inc.counts[,colnames(inc.counts) %in% meta.data$SRR]\n",
    "dim(inc.counts)\n",
    "inc.counts[1:2,1:4]"
   ]
  },
  {
   "cell_type": "code",
   "execution_count": null,
   "metadata": {
    "papermill": {
     "duration": 0.203499,
     "end_time": "2020-07-08T21:05:05.985995",
     "exception": false,
     "start_time": "2020-07-08T21:05:05.782496",
     "status": "completed"
    },
    "tags": []
   },
   "outputs": [],
   "source": [
    "skip.counts <- skip.counts[,colnames(skip.counts) %in% meta.data$SRR]\n",
    "dim(skip.counts)\n",
    "skip.counts[1:2,1:4]"
   ]
  },
  {
   "cell_type": "code",
   "execution_count": null,
   "metadata": {
    "papermill": {
     "duration": 0.210697,
     "end_time": "2020-07-08T21:05:06.371031",
     "exception": false,
     "start_time": "2020-07-08T21:05:06.160334",
     "status": "completed"
    },
    "tags": []
   },
   "outputs": [],
   "source": [
    "meta.data <- meta.data[meta.data$SRR %in% colnames(inc.counts),]\n",
    "dim(meta.data)\n",
    "meta.data[1:2,1:8]"
   ]
  },
  {
   "cell_type": "code",
   "execution_count": null,
   "metadata": {
    "papermill": {
     "duration": 0.20052,
     "end_time": "2020-07-08T21:05:06.747768",
     "exception": false,
     "start_time": "2020-07-08T21:05:06.547248",
     "status": "completed"
    },
    "tags": []
   },
   "outputs": [],
   "source": [
    "colnames.expression.mat[1:4]"
   ]
  },
  {
   "cell_type": "code",
   "execution_count": null,
   "metadata": {
    "papermill": {
     "duration": 0.217447,
     "end_time": "2020-07-08T21:05:07.142429",
     "exception": false,
     "start_time": "2020-07-08T21:05:06.924982",
     "status": "completed"
    },
    "tags": []
   },
   "outputs": [],
   "source": [
    "dim(expression.mat)\n",
    "expression.mat[1:2,1:4]"
   ]
  },
  {
   "cell_type": "code",
   "execution_count": null,
   "metadata": {
    "papermill": {
     "duration": 0.199048,
     "end_time": "2020-07-08T21:05:07.519877",
     "exception": false,
     "start_time": "2020-07-08T21:05:07.320829",
     "status": "completed"
    },
    "tags": []
   },
   "outputs": [],
   "source": [
    "tissue <- unique(meta.data$SMTSD [ meta.data$SMTSD == tissue])\n",
    "tissue"
   ]
  },
  {
   "cell_type": "code",
   "execution_count": null,
   "metadata": {
    "papermill": {
     "duration": 0.663649,
     "end_time": "2020-07-08T21:05:08.368072",
     "exception": false,
     "start_time": "2020-07-08T21:05:07.704423",
     "status": "completed"
    },
    "tags": []
   },
   "outputs": [],
   "source": [
    "col.in.tissue<-c()\n",
    "for (col in colnames.expression.mat)\n",
    "  \n",
    "  col.in.tissue<-c(col.in.tissue, (col %in% meta.data$SAMPID) && (meta.data$SMTSD[which(meta.data$SAMPID==col)] %in% tissue) && (meta.data$SUBJID[which(meta.data$SAMPID==col)]!='GTEX-11ILO'))"
   ]
  },
  {
   "cell_type": "code",
   "execution_count": null,
   "metadata": {
    "papermill": {
     "duration": 0.211187,
     "end_time": "2020-07-08T21:05:08.759882",
     "exception": false,
     "start_time": "2020-07-08T21:05:08.548695",
     "status": "completed"
    },
    "tags": []
   },
   "outputs": [],
   "source": [
    "length(col.in.tissue)\n",
    "table(col.in.tissue)"
   ]
  },
  {
   "cell_type": "code",
   "execution_count": null,
   "metadata": {
    "papermill": {
     "duration": 0.224775,
     "end_time": "2020-07-08T21:05:09.170447",
     "exception": false,
     "start_time": "2020-07-08T21:05:08.945672",
     "status": "completed"
    },
    "tags": []
   },
   "outputs": [],
   "source": [
    "length(colnames.expression.mat)\n",
    "length(col.in.tissue)\n",
    "\n",
    "col.in.tissue[1:3]"
   ]
  },
  {
   "cell_type": "code",
   "execution_count": null,
   "metadata": {
    "papermill": {
     "duration": 72.61832,
     "end_time": "2020-07-08T21:06:21.993893",
     "exception": false,
     "start_time": "2020-07-08T21:05:09.375573",
     "status": "completed"
    },
    "tags": []
   },
   "outputs": [],
   "source": [
    "# colClasses is used to skip columns\n",
    "expression.mat <-read.table(expression.file.name, \n",
    "                            sep= \"\\t\",\n",
    "                            header = T,\n",
    "                            skip = 2, \n",
    "                            colClasses = ifelse(col.in.tissue, \"numeric\", \"NULL\"))"
   ]
  },
  {
   "cell_type": "code",
   "execution_count": null,
   "metadata": {
    "papermill": {
     "duration": 0.205698,
     "end_time": "2020-07-08T21:06:22.387148",
     "exception": false,
     "start_time": "2020-07-08T21:06:22.181450",
     "status": "completed"
    },
    "tags": []
   },
   "outputs": [],
   "source": [
    "length(col.in.tissue)"
   ]
  },
  {
   "cell_type": "markdown",
   "metadata": {
    "papermill": {
     "duration": 0.213007,
     "end_time": "2020-07-08T21:06:22.786923",
     "exception": false,
     "start_time": "2020-07-08T21:06:22.573916",
     "status": "completed"
    },
    "tags": []
   },
   "source": [
    "## Read gene names:"
   ]
  },
  {
   "cell_type": "code",
   "execution_count": null,
   "metadata": {
    "papermill": {
     "duration": 0.212476,
     "end_time": "2020-07-08T21:06:23.181948",
     "exception": false,
     "start_time": "2020-07-08T21:06:22.969472",
     "status": "completed"
    },
    "tags": []
   },
   "outputs": [],
   "source": [
    "dim(expression.mat)\n",
    "expression.mat <- expression.mat[,order(match(colnames(expression.mat),meta.data$SAMPID))]\n",
    "dim(expression.mat)"
   ]
  },
  {
   "cell_type": "code",
   "execution_count": null,
   "metadata": {
    "papermill": {
     "duration": 0.207567,
     "end_time": "2020-07-08T21:06:23.573936",
     "exception": false,
     "start_time": "2020-07-08T21:06:23.366369",
     "status": "completed"
    },
    "tags": []
   },
   "outputs": [],
   "source": [
    "inc.counts     <- inc.counts[,order(match(colnames(inc.counts),meta.data$SRR))]\n",
    "dim(inc.counts)"
   ]
  },
  {
   "cell_type": "code",
   "execution_count": null,
   "metadata": {
    "papermill": {
     "duration": 0.211072,
     "end_time": "2020-07-08T21:06:23.978012",
     "exception": false,
     "start_time": "2020-07-08T21:06:23.766940",
     "status": "completed"
    },
    "tags": []
   },
   "outputs": [],
   "source": [
    "skip.counts    <- skip.counts[,order(match(colnames(skip.counts),meta.data$SRR))]\n",
    "dim(skip.counts)"
   ]
  },
  {
   "cell_type": "code",
   "execution_count": null,
   "metadata": {
    "papermill": {
     "duration": 69.102408,
     "end_time": "2020-07-08T21:07:33.269437",
     "exception": false,
     "start_time": "2020-07-08T21:06:24.167029",
     "status": "completed"
    },
    "tags": []
   },
   "outputs": [],
   "source": [
    "all.genes      <- read.table(expression.file.name,sep=\"\\t\",header=T,skip=2,colClasses = c(rep(\"character\", 2), rep(\"NULL\", total.samples-2)))\n",
    "dim(all.genes)\n",
    "head(all.genes, 2)"
   ]
  },
  {
   "cell_type": "code",
   "execution_count": null,
   "metadata": {
    "papermill": {
     "duration": 0.329737,
     "end_time": "2020-07-08T21:07:33.787441",
     "exception": false,
     "start_time": "2020-07-08T21:07:33.457704",
     "status": "completed"
    },
    "tags": []
   },
   "outputs": [],
   "source": [
    "expression.mat <- expression.mat[!duplicated(all.genes$Description),]\n",
    "dim(expression.mat)\n",
    "expression.mat[1:2,1:4]"
   ]
  },
  {
   "cell_type": "code",
   "execution_count": null,
   "metadata": {
    "papermill": {
     "duration": 0.227606,
     "end_time": "2020-07-08T21:07:34.210288",
     "exception": false,
     "start_time": "2020-07-08T21:07:33.982682",
     "status": "completed"
    },
    "tags": []
   },
   "outputs": [],
   "source": [
    "all.genes      <- all.genes[!duplicated(all.genes$Description),]\n",
    "dim(all.genes)"
   ]
  },
  {
   "cell_type": "code",
   "execution_count": null,
   "metadata": {
    "papermill": {
     "duration": 0.225722,
     "end_time": "2020-07-08T21:07:34.628957",
     "exception": false,
     "start_time": "2020-07-08T21:07:34.403235",
     "status": "completed"
    },
    "tags": []
   },
   "outputs": [],
   "source": [
    "skip.counts    <- skip.counts[merged.table$geneSymbol %in% all.genes$Description,]\n",
    "dim(skip.counts)"
   ]
  },
  {
   "cell_type": "code",
   "execution_count": null,
   "metadata": {
    "papermill": {
     "duration": 0.220252,
     "end_time": "2020-07-08T21:07:35.043996",
     "exception": false,
     "start_time": "2020-07-08T21:07:34.823744",
     "status": "completed"
    },
    "tags": []
   },
   "outputs": [],
   "source": [
    "inc.counts     <- inc.counts[merged.table$geneSymbol %in% all.genes$Description,]\n",
    "dim(inc.counts)"
   ]
  },
  {
   "cell_type": "code",
   "execution_count": null,
   "metadata": {
    "papermill": {
     "duration": 0.219819,
     "end_time": "2020-07-08T21:07:35.458613",
     "exception": false,
     "start_time": "2020-07-08T21:07:35.238794",
     "status": "completed"
    },
    "tags": []
   },
   "outputs": [],
   "source": [
    "merged.table   <- merged.table[merged.table$geneSymbol %in% all.genes$Description,]\n",
    "dim(merged.table)"
   ]
  },
  {
   "cell_type": "code",
   "execution_count": null,
   "metadata": {
    "papermill": {
     "duration": 0.226489,
     "end_time": "2020-07-08T21:07:35.887251",
     "exception": false,
     "start_time": "2020-07-08T21:07:35.660762",
     "status": "completed"
    },
    "tags": []
   },
   "outputs": [],
   "source": [
    "gene.names     <- unique(merged.table$geneSymbol)\n",
    "length(gene.names)"
   ]
  },
  {
   "cell_type": "code",
   "execution_count": null,
   "metadata": {
    "papermill": {
     "duration": 0.238487,
     "end_time": "2020-07-08T21:07:36.322882",
     "exception": false,
     "start_time": "2020-07-08T21:07:36.084395",
     "status": "completed"
    },
    "tags": []
   },
   "outputs": [],
   "source": [
    "expression.mat <- expression.mat[all.genes$Description %in% c(as.character(rbp.table$Gene),as.character(gene.names)),]\n",
    "dim(expression.mat)"
   ]
  },
  {
   "cell_type": "code",
   "execution_count": null,
   "metadata": {
    "papermill": {
     "duration": 0.236413,
     "end_time": "2020-07-08T21:07:36.780284",
     "exception": false,
     "start_time": "2020-07-08T21:07:36.543871",
     "status": "completed"
    },
    "tags": []
   },
   "outputs": [],
   "source": [
    "rownames.expression.mat <-all.genes$Description[all.genes$Description %in% c(as.character(rbp.table$Gene),as.character(gene.names))]\n",
    "length(rownames.expression.mat)"
   ]
  },
  {
   "cell_type": "code",
   "execution_count": null,
   "metadata": {
    "papermill": {
     "duration": 0.240059,
     "end_time": "2020-07-08T21:07:37.222347",
     "exception": false,
     "start_time": "2020-07-08T21:07:36.982288",
     "status": "completed"
    },
    "tags": []
   },
   "outputs": [],
   "source": [
    "expression.mat <-expression.mat[!duplicated(rownames.expression.mat),]\n",
    "dim(expression.mat)"
   ]
  },
  {
   "cell_type": "code",
   "execution_count": null,
   "metadata": {
    "papermill": {
     "duration": 0.230159,
     "end_time": "2020-07-08T21:07:37.651054",
     "exception": false,
     "start_time": "2020-07-08T21:07:37.420895",
     "status": "completed"
    },
    "tags": []
   },
   "outputs": [],
   "source": [
    "rownames.expression.mat <-rownames.expression.mat[!duplicated(rownames.expression.mat)]\n",
    "length(rownames.expression.mat)"
   ]
  },
  {
   "cell_type": "markdown",
   "metadata": {
    "papermill": {
     "duration": 0.198978,
     "end_time": "2020-07-08T21:07:38.050596",
     "exception": false,
     "start_time": "2020-07-08T21:07:37.851618",
     "status": "completed"
    },
    "tags": []
   },
   "source": [
    "## Prepare expression of genes and RBPS:"
   ]
  },
  {
   "cell_type": "code",
   "execution_count": null,
   "metadata": {
    "papermill": {
     "duration": 0.240464,
     "end_time": "2020-07-08T21:07:38.489568",
     "exception": false,
     "start_time": "2020-07-08T21:07:38.249104",
     "status": "completed"
    },
    "tags": []
   },
   "outputs": [],
   "source": [
    "num.events     <- nrow(merged.table)\n",
    "num.events"
   ]
  },
  {
   "cell_type": "code",
   "execution_count": null,
   "metadata": {
    "papermill": {
     "duration": 0.218346,
     "end_time": "2020-07-08T21:07:38.917637",
     "exception": false,
     "start_time": "2020-07-08T21:07:38.699291",
     "status": "completed"
    },
    "tags": []
   },
   "outputs": [],
   "source": [
    "event.to.gene  <- c()"
   ]
  },
  {
   "cell_type": "code",
   "execution_count": null,
   "metadata": {
    "papermill": {
     "duration": 0.226084,
     "end_time": "2020-07-08T21:07:39.344843",
     "exception": false,
     "start_time": "2020-07-08T21:07:39.118759",
     "status": "completed"
    },
    "tags": []
   },
   "outputs": [],
   "source": [
    "gexp           <- expression.mat[rownames.expression.mat %in% gene.names,]\n",
    "dim(gexp)"
   ]
  },
  {
   "cell_type": "code",
   "execution_count": null,
   "metadata": {
    "papermill": {
     "duration": 0.230202,
     "end_time": "2020-07-08T21:07:39.779618",
     "exception": false,
     "start_time": "2020-07-08T21:07:39.549416",
     "status": "completed"
    },
    "tags": []
   },
   "outputs": [],
   "source": [
    "rownames(gexp) <- rownames.expression.mat[rownames.expression.mat %in% gene.names]"
   ]
  },
  {
   "cell_type": "code",
   "execution_count": null,
   "metadata": {
    "papermill": {
     "duration": 0.239169,
     "end_time": "2020-07-08T21:07:40.223790",
     "exception": false,
     "start_time": "2020-07-08T21:07:39.984621",
     "status": "completed"
    },
    "tags": []
   },
   "outputs": [],
   "source": [
    "gexp           <- gexp[order(match(rownames(gexp),gene.names)),]\n",
    "dim(gexp)\n",
    "gexp[1:2,1:4]"
   ]
  },
  {
   "cell_type": "code",
   "execution_count": null,
   "metadata": {
    "papermill": {
     "duration": 0.28198,
     "end_time": "2020-07-08T21:07:40.709805",
     "exception": false,
     "start_time": "2020-07-08T21:07:40.427825",
     "status": "completed"
    },
    "tags": []
   },
   "outputs": [],
   "source": [
    "gexp           <- log2(gexp+0.5)"
   ]
  },
  {
   "cell_type": "code",
   "execution_count": null,
   "metadata": {
    "papermill": {
     "duration": 0.255264,
     "end_time": "2020-07-08T21:07:41.179705",
     "exception": false,
     "start_time": "2020-07-08T21:07:40.924441",
     "status": "completed"
    },
    "tags": []
   },
   "outputs": [],
   "source": [
    "gexp           <- gexp-rowMeans(gexp)"
   ]
  },
  {
   "cell_type": "code",
   "execution_count": null,
   "metadata": {
    "papermill": {
     "duration": 0.293758,
     "end_time": "2020-07-08T21:07:41.683849",
     "exception": false,
     "start_time": "2020-07-08T21:07:41.390091",
     "status": "completed"
    },
    "tags": []
   },
   "outputs": [],
   "source": [
    "gexp[apply(gexp,1,sd)>0,] <- gexp[apply(gexp,1,sd)>0,]/apply(gexp[apply(gexp,1,sd)>0,],1,sd)"
   ]
  },
  {
   "cell_type": "code",
   "execution_count": null,
   "metadata": {
    "papermill": {
     "duration": 0.227053,
     "end_time": "2020-07-08T21:07:42.121969",
     "exception": false,
     "start_time": "2020-07-08T21:07:41.894916",
     "status": "completed"
    },
    "tags": []
   },
   "outputs": [],
   "source": [
    "rexp           <- expression.mat[rownames.expression.mat %in% rbp.table$Gene,]"
   ]
  },
  {
   "cell_type": "code",
   "execution_count": null,
   "metadata": {
    "papermill": {
     "duration": 0.221499,
     "end_time": "2020-07-08T21:07:42.548065",
     "exception": false,
     "start_time": "2020-07-08T21:07:42.326566",
     "status": "completed"
    },
    "tags": []
   },
   "outputs": [],
   "source": [
    "rownames(rexp) <- rownames.expression.mat[rownames.expression.mat %in% rbp.table$Gene]"
   ]
  },
  {
   "cell_type": "code",
   "execution_count": null,
   "metadata": {
    "papermill": {
     "duration": 0.247233,
     "end_time": "2020-07-08T21:07:43.003324",
     "exception": false,
     "start_time": "2020-07-08T21:07:42.756091",
     "status": "completed"
    },
    "tags": []
   },
   "outputs": [],
   "source": [
    "rexp           <- rexp[order(match(rownames(rexp),rbp.table$Gene)),]"
   ]
  },
  {
   "cell_type": "code",
   "execution_count": null,
   "metadata": {
    "papermill": {
     "duration": 0.251275,
     "end_time": "2020-07-08T21:07:43.462269",
     "exception": false,
     "start_time": "2020-07-08T21:07:43.210994",
     "status": "completed"
    },
    "tags": []
   },
   "outputs": [],
   "source": [
    "rexp           <- log2(rexp+0.5)"
   ]
  },
  {
   "cell_type": "code",
   "execution_count": null,
   "metadata": {
    "papermill": {
     "duration": 0.257244,
     "end_time": "2020-07-08T21:07:43.931854",
     "exception": false,
     "start_time": "2020-07-08T21:07:43.674610",
     "status": "completed"
    },
    "tags": []
   },
   "outputs": [],
   "source": [
    "rexp           <- rexp-rowMeans(rexp)"
   ]
  },
  {
   "cell_type": "code",
   "execution_count": null,
   "metadata": {
    "papermill": {
     "duration": 0.269436,
     "end_time": "2020-07-08T21:07:44.406146",
     "exception": false,
     "start_time": "2020-07-08T21:07:44.136710",
     "status": "completed"
    },
    "tags": []
   },
   "outputs": [],
   "source": [
    "rexp           <- rexp/apply(rexp,1,function(v){ifelse(sum(v==v[1])<length(v),sd(v),1)})"
   ]
  },
  {
   "cell_type": "code",
   "execution_count": null,
   "metadata": {
    "papermill": {
     "duration": 0.908323,
     "end_time": "2020-07-08T21:07:45.520179",
     "exception": false,
     "start_time": "2020-07-08T21:07:44.611856",
     "status": "completed"
    },
    "tags": []
   },
   "outputs": [],
   "source": [
    "for (i in (1:num.events))\n",
    "  event.to.gene<-c(event.to.gene,which(unique(merged.table$geneSymbol)==merged.table[i,\"geneSymbol\"]))\n",
    "    sex<-ifelse(meta.data$SEX==1,1,0)"
   ]
  },
  {
   "cell_type": "code",
   "execution_count": null,
   "metadata": {
    "papermill": {
     "duration": 0.243243,
     "end_time": "2020-07-08T21:07:45.974510",
     "exception": false,
     "start_time": "2020-07-08T21:07:45.731267",
     "status": "completed"
    },
    "tags": []
   },
   "outputs": [],
   "source": [
    "sex[1:4]\n",
    "table(sex)"
   ]
  },
  {
   "cell_type": "code",
   "execution_count": null,
   "metadata": {
    "papermill": {
     "duration": 0.233942,
     "end_time": "2020-07-08T21:07:46.422999",
     "exception": false,
     "start_time": "2020-07-08T21:07:46.189057",
     "status": "completed"
    },
    "tags": []
   },
   "outputs": [],
   "source": [
    "end_time <- Sys.time()\n",
    "end_time - start_time"
   ]
  },
  {
   "cell_type": "markdown",
   "metadata": {
    "papermill": {
     "duration": 0.210335,
     "end_time": "2020-07-08T21:07:46.867886",
     "exception": false,
     "start_time": "2020-07-08T21:07:46.657551",
     "status": "completed"
    },
    "tags": []
   },
   "source": [
    "## Run stan:"
   ]
  },
  {
   "cell_type": "code",
   "execution_count": null,
   "metadata": {
    "papermill": {
     "duration": 37400.822883,
     "end_time": "2020-07-09T07:31:07.905833",
     "exception": false,
     "start_time": "2020-07-08T21:07:47.082950",
     "status": "completed"
    },
    "tags": []
   },
   "outputs": [],
   "source": [
    "dataList = list(\n",
    "  as = round(skip.counts) ,   #sjc event counts across experiments\n",
    "  c = round(skip.counts+inc.counts)    , #total counts for event, i.e. sjc & ijc, across experiments\n",
    "  gexp = gexp, #read counts for genes (from gtex, take the raw counts) across experiments\n",
    "  rexp = rexp, #read counts for RBPs (from gtex, take the raw counts)\n",
    "  event_to_gene = event.to.gene,  #the gene index for each event (1 to the number of distinct genes) \n",
    "  Nrbp = nrow(rexp), #number of RBPs\n",
    "  Nevents = nrow(merged.table),  #most varying AS events in \n",
    "  Nexp = ncol(expression.mat),#number of experiments such that we measured each event, gene and RBP in each experiment\n",
    "  Ngenes = nrow(gexp),\n",
    "  sex=sex\n",
    ")\n",
    "\n",
    "\n",
    "modelString = \"\n",
    "data {\n",
    "int<lower=0> Nevents;\n",
    "int<lower=0> Nexp;\n",
    "int<lower=0> Nrbp;\n",
    "int<lower=0> Ngenes;\n",
    "int<lower=0> as[Nevents,Nexp] ;\n",
    "int<lower=0> c[Nevents,Nexp] ;\n",
    "matrix[Ngenes,Nexp] gexp ; \n",
    "matrix[Nrbp,Nexp] rexp ; \n",
    "int<lower=0> event_to_gene[Nevents];\n",
    "int<lower=0,upper=1> sex[Nexp];\n",
    "\n",
    "}\n",
    "\n",
    "\n",
    "parameters {\n",
    "real beta0[Nevents] ;\n",
    "real beta1[Nevents] ;\n",
    "matrix[Nevents,Nrbp] beta2 ;\n",
    "real beta3[Nevents];\n",
    "real beta4[Nrbp];\n",
    "\n",
    "}\n",
    "model {\n",
    "\n",
    "for ( i in 1:Nexp ) {  \n",
    "\n",
    "\n",
    "    for ( j in 1:Nevents ) if (c[j,i]>0) { \n",
    "\n",
    "      as[j,i] ~ binomial(c[j,i], inv_logit(beta0[j]+beta1[j]*sex[i]+dot_product(beta2[j,],rexp[,i])+beta3[j]*gexp[event_to_gene[j],i] ) );\n",
    "\n",
    "  }\n",
    "}\n",
    "\n",
    "for (k in 1:Nrbp){\n",
    "\n",
    "  for ( j in 1:Nevents ) { \n",
    "\n",
    "        beta2[j,k] ~normal(beta4[k],1);\n",
    "  }\n",
    "\n",
    "  beta4[k]~normal(0,1);\n",
    "\n",
    "}\n",
    "\n",
    "\n",
    "for ( j in 1:Nevents ) { \n",
    "\n",
    "    beta1[j] ~ normal(0,1);\n",
    "    beta0[j] ~ normal(0,1);\n",
    "    beta3[j] ~ normal(0,1);\n",
    "  }\n",
    "\n",
    "}\n",
    "\"\n",
    "\n",
    "# Start the clock!\n",
    "start_time <- Sys.time()\n",
    "\n",
    "stanDso <- rstan::stan_model( model_code=modelString ) \n",
    "stanFit <- sampling( object=stanDso , \n",
    "                    data = dataList , \n",
    "                    chains = 3 , \n",
    "                    iter = 8000, \n",
    "                    warmup = 6000,\n",
    "                    thin = 1,\n",
    "                    init = 0, \n",
    "                    cores = 3 )\n",
    "\n",
    "mcmcCoda = coda::mcmc.list( lapply( 1:ncol(stanFit) , function(x) { mcmc(as.array(stanFit)[,x,]) } ) )\n",
    "\n",
    "end_time <- Sys.time()\n",
    "end_time - start_time"
   ]
  },
  {
   "cell_type": "markdown",
   "metadata": {
    "papermill": {
     "duration": 0.226109,
     "end_time": "2020-07-09T07:31:08.412372",
     "exception": false,
     "start_time": "2020-07-09T07:31:08.186263",
     "status": "completed"
    },
    "tags": []
   },
   "source": [
    "## Save R objects"
   ]
  },
  {
   "cell_type": "code",
   "execution_count": null,
   "metadata": {
    "papermill": {
     "duration": 264.520689,
     "end_time": "2020-07-09T07:35:33.148455",
     "exception": false,
     "start_time": "2020-07-09T07:31:08.627766",
     "status": "completed"
    },
    "tags": []
   },
   "outputs": [],
   "source": [
    "save.image(file = \"notebook.RData\")\n",
    "file.exists(\"notebook.RData\")\n",
    "system(\"pwd && ls -l notebook.RData\", intern = TRUE)"
   ]
  },
  {
   "cell_type": "code",
   "execution_count": 1,
   "metadata": {},
   "outputs": [],
   "source": [
    "load(\"adipose_subcutaneous_bayesian-modeling.RData\")"
   ]
  },
  {
   "cell_type": "markdown",
   "metadata": {},
   "source": [
    "## Collect coefficients for RBPs whose 95% HDI does not contain 0:"
   ]
  },
  {
   "cell_type": "code",
   "execution_count": 2,
   "metadata": {},
   "outputs": [],
   "source": [
    "rbp.names<-rownames(rexp)"
   ]
  },
  {
   "cell_type": "code",
   "execution_count": 3,
   "metadata": {},
   "outputs": [
    {
     "data": {
      "text/html": [
       "<style>\n",
       ".list-inline {list-style: none; margin:0; padding: 0}\n",
       ".list-inline>li {display: inline-block}\n",
       ".list-inline>li:not(:last-child)::after {content: \"\\00b7\"; padding: 0 .5ex}\n",
       "</style>\n",
       "<ol class=list-inline><li>'AAR2'</li><li>'ALYREF'</li><li>'AQR'</li><li>'BCAS2'</li></ol>\n"
      ],
      "text/latex": [
       "\\begin{enumerate*}\n",
       "\\item 'AAR2'\n",
       "\\item 'ALYREF'\n",
       "\\item 'AQR'\n",
       "\\item 'BCAS2'\n",
       "\\end{enumerate*}\n"
      ],
      "text/markdown": [
       "1. 'AAR2'\n",
       "2. 'ALYREF'\n",
       "3. 'AQR'\n",
       "4. 'BCAS2'\n",
       "\n",
       "\n"
      ],
      "text/plain": [
       "[1] \"AAR2\"   \"ALYREF\" \"AQR\"    \"BCAS2\" "
      ]
     },
     "metadata": {},
     "output_type": "display_data"
    }
   ],
   "source": [
    "rbp.names[1:4]"
   ]
  },
  {
   "cell_type": "code",
   "execution_count": 6,
   "metadata": {},
   "outputs": [],
   "source": [
    "df<-data.frame(coef=NULL,rbp=NULL,tissue=NULL)\n",
    "hdi<-coda::HPDinterval(mcmcCoda)  "
   ]
  },
  {
   "cell_type": "code",
   "execution_count": 8,
   "metadata": {},
   "outputs": [],
   "source": [
    "s <- summary(mcmcCoda)"
   ]
  },
  {
   "cell_type": "code",
   "execution_count": 9,
   "metadata": {},
   "outputs": [],
   "source": [
    "m <- s$statistics[,\"Mean\"]\n",
    "beta2.mat<-matrix(nrow=nrow(merged.table),ncol=length(rbp.names))"
   ]
  },
  {
   "cell_type": "code",
   "execution_count": 10,
   "metadata": {},
   "outputs": [],
   "source": [
    "for (rbp in (1:length(rbp.names)))\n",
    "  \n",
    "  for (event in (1:nrow(merged.table)))\n",
    "  {\n",
    "    \n",
    "    var.name<-paste0('beta2[',event,',',rbp,']')\n",
    "    \n",
    "    low<-hdi[[1]][rownames(hdi[[1]])==var.name][1]\n",
    "    \n",
    "    high<-hdi[[1]][rownames(hdi[[1]])==var.name][2]\n",
    "    \n",
    "    beta2.mat[event,rbp]<-m[grepl(paste0('beta2\\\\[',event,',',rbp,'\\\\]'),names(m))]\n",
    "    \n",
    "    if (low<0 && high>0)\n",
    "      \n",
    "      beta2.mat[event,rbp]<-0\n",
    "    \n",
    "  }\n",
    "\n",
    "\n",
    "\n",
    "colnames(beta2.mat)=rbp.names\n",
    "\n",
    "for (rbp in rbp.names)\n",
    "  \n",
    "  df<-rbind(df,cbind(beta2.mat[,colnames(beta2.mat)==rbp],rep(rbp,nrow(beta2.mat)),rep(tissue,nrow(beta2.mat)))  )\n",
    "\n",
    "\n",
    "colnames(df)<-c('Coef','RBP','Tissue')\n",
    "    \n",
    "df$Coef<-as.numeric(as.character(df$Coef))"
   ]
  },
  {
   "cell_type": "code",
   "execution_count": 13,
   "metadata": {},
   "outputs": [],
   "source": [
    "df$abs_coef <- abs(df$Coef)"
   ]
  },
  {
   "cell_type": "code",
   "execution_count": 30,
   "metadata": {},
   "outputs": [
    {
     "data": {
      "text/html": [
       "<table>\n",
       "<caption>A data.frame: 18 × 4</caption>\n",
       "<thead>\n",
       "\t<tr><th></th><th scope=col>Coef</th><th scope=col>RBP</th><th scope=col>Tissue</th><th scope=col>abs_coef</th></tr>\n",
       "\t<tr><th></th><th scope=col>&lt;dbl&gt;</th><th scope=col>&lt;fct&gt;</th><th scope=col>&lt;fct&gt;</th><th scope=col>&lt;dbl&gt;</th></tr>\n",
       "</thead>\n",
       "<tbody>\n",
       "\t<tr><th scope=row>19615</th><td>-2.129245</td><td>ZRSR2  </td><td>Adipose - Subcutaneous</td><td>2.129245</td></tr>\n",
       "\t<tr><th scope=row>419</th><td> 2.006553</td><td>C9orf78</td><td>Adipose - Subcutaneous</td><td>2.006553</td></tr>\n",
       "\t<tr><th scope=row>9293</th><td>-1.960143</td><td>POLR2G </td><td>Adipose - Subcutaneous</td><td>1.960143</td></tr>\n",
       "\t<tr><th scope=row>19627</th><td>-1.875447</td><td>ZRSR2  </td><td>Adipose - Subcutaneous</td><td>1.875447</td></tr>\n",
       "\t<tr><th scope=row>3869</th><td>-1.779780</td><td>EIF4A3 </td><td>Adipose - Subcutaneous</td><td>1.779780</td></tr>\n",
       "\t<tr><th scope=row>7498</th><td>-1.764872</td><td>METTL3 </td><td>Adipose - Subcutaneous</td><td>1.764872</td></tr>\n",
       "\t<tr><th scope=row>18237</th><td> 1.753839</td><td>U2AF1  </td><td>Adipose - Subcutaneous</td><td>1.753839</td></tr>\n",
       "\t<tr><th scope=row>915</th><td>-1.733649</td><td>CELF1  </td><td>Adipose - Subcutaneous</td><td>1.733649</td></tr>\n",
       "\t<tr><th scope=row>16465</th><td>-1.683481</td><td>SRPK3  </td><td>Adipose - Subcutaneous</td><td>1.683481</td></tr>\n",
       "\t<tr><th scope=row>7603</th><td>-1.669207</td><td>MYOD1  </td><td>Adipose - Subcutaneous</td><td>1.669207</td></tr>\n",
       "\t<tr><th scope=row>10443</th><td>-1.659693</td><td>PRPF38A</td><td>Adipose - Subcutaneous</td><td>1.659693</td></tr>\n",
       "\t<tr><th scope=row>3790</th><td>-1.647051</td><td>EFTUD2 </td><td>Adipose - Subcutaneous</td><td>1.647051</td></tr>\n",
       "\t<tr><th scope=row>11281</th><td> 1.645016</td><td>QKI    </td><td>Adipose - Subcutaneous</td><td>1.645016</td></tr>\n",
       "\t<tr><th scope=row>9142</th><td> 1.644141</td><td>POLR2D </td><td>Adipose - Subcutaneous</td><td>1.644141</td></tr>\n",
       "\t<tr><th scope=row>13454</th><td> 1.642870</td><td>RNF113A</td><td>Adipose - Subcutaneous</td><td>1.642870</td></tr>\n",
       "\t<tr><th scope=row>641</th><td>-1.633254</td><td>CD2BP2 </td><td>Adipose - Subcutaneous</td><td>1.633254</td></tr>\n",
       "\t<tr><th scope=row>7833</th><td>-1.619655</td><td>NCL    </td><td>Adipose - Subcutaneous</td><td>1.619655</td></tr>\n",
       "\t<tr><th scope=row>3761</th><td> 1.606033</td><td>DYRK1A </td><td>Adipose - Subcutaneous</td><td>1.606033</td></tr>\n",
       "</tbody>\n",
       "</table>\n"
      ],
      "text/latex": [
       "A data.frame: 18 × 4\n",
       "\\begin{tabular}{r|llll}\n",
       "  & Coef & RBP & Tissue & abs\\_coef\\\\\n",
       "  & <dbl> & <fct> & <fct> & <dbl>\\\\\n",
       "\\hline\n",
       "\t19615 & -2.129245 & ZRSR2   & Adipose - Subcutaneous & 2.129245\\\\\n",
       "\t419 &  2.006553 & C9orf78 & Adipose - Subcutaneous & 2.006553\\\\\n",
       "\t9293 & -1.960143 & POLR2G  & Adipose - Subcutaneous & 1.960143\\\\\n",
       "\t19627 & -1.875447 & ZRSR2   & Adipose - Subcutaneous & 1.875447\\\\\n",
       "\t3869 & -1.779780 & EIF4A3  & Adipose - Subcutaneous & 1.779780\\\\\n",
       "\t7498 & -1.764872 & METTL3  & Adipose - Subcutaneous & 1.764872\\\\\n",
       "\t18237 &  1.753839 & U2AF1   & Adipose - Subcutaneous & 1.753839\\\\\n",
       "\t915 & -1.733649 & CELF1   & Adipose - Subcutaneous & 1.733649\\\\\n",
       "\t16465 & -1.683481 & SRPK3   & Adipose - Subcutaneous & 1.683481\\\\\n",
       "\t7603 & -1.669207 & MYOD1   & Adipose - Subcutaneous & 1.669207\\\\\n",
       "\t10443 & -1.659693 & PRPF38A & Adipose - Subcutaneous & 1.659693\\\\\n",
       "\t3790 & -1.647051 & EFTUD2  & Adipose - Subcutaneous & 1.647051\\\\\n",
       "\t11281 &  1.645016 & QKI     & Adipose - Subcutaneous & 1.645016\\\\\n",
       "\t9142 &  1.644141 & POLR2D  & Adipose - Subcutaneous & 1.644141\\\\\n",
       "\t13454 &  1.642870 & RNF113A & Adipose - Subcutaneous & 1.642870\\\\\n",
       "\t641 & -1.633254 & CD2BP2  & Adipose - Subcutaneous & 1.633254\\\\\n",
       "\t7833 & -1.619655 & NCL     & Adipose - Subcutaneous & 1.619655\\\\\n",
       "\t3761 &  1.606033 & DYRK1A  & Adipose - Subcutaneous & 1.606033\\\\\n",
       "\\end{tabular}\n"
      ],
      "text/markdown": [
       "\n",
       "A data.frame: 18 × 4\n",
       "\n",
       "| <!--/--> | Coef &lt;dbl&gt; | RBP &lt;fct&gt; | Tissue &lt;fct&gt; | abs_coef &lt;dbl&gt; |\n",
       "|---|---|---|---|---|\n",
       "| 19615 | -2.129245 | ZRSR2   | Adipose - Subcutaneous | 2.129245 |\n",
       "| 419 |  2.006553 | C9orf78 | Adipose - Subcutaneous | 2.006553 |\n",
       "| 9293 | -1.960143 | POLR2G  | Adipose - Subcutaneous | 1.960143 |\n",
       "| 19627 | -1.875447 | ZRSR2   | Adipose - Subcutaneous | 1.875447 |\n",
       "| 3869 | -1.779780 | EIF4A3  | Adipose - Subcutaneous | 1.779780 |\n",
       "| 7498 | -1.764872 | METTL3  | Adipose - Subcutaneous | 1.764872 |\n",
       "| 18237 |  1.753839 | U2AF1   | Adipose - Subcutaneous | 1.753839 |\n",
       "| 915 | -1.733649 | CELF1   | Adipose - Subcutaneous | 1.733649 |\n",
       "| 16465 | -1.683481 | SRPK3   | Adipose - Subcutaneous | 1.683481 |\n",
       "| 7603 | -1.669207 | MYOD1   | Adipose - Subcutaneous | 1.669207 |\n",
       "| 10443 | -1.659693 | PRPF38A | Adipose - Subcutaneous | 1.659693 |\n",
       "| 3790 | -1.647051 | EFTUD2  | Adipose - Subcutaneous | 1.647051 |\n",
       "| 11281 |  1.645016 | QKI     | Adipose - Subcutaneous | 1.645016 |\n",
       "| 9142 |  1.644141 | POLR2D  | Adipose - Subcutaneous | 1.644141 |\n",
       "| 13454 |  1.642870 | RNF113A | Adipose - Subcutaneous | 1.642870 |\n",
       "| 641 | -1.633254 | CD2BP2  | Adipose - Subcutaneous | 1.633254 |\n",
       "| 7833 | -1.619655 | NCL     | Adipose - Subcutaneous | 1.619655 |\n",
       "| 3761 |  1.606033 | DYRK1A  | Adipose - Subcutaneous | 1.606033 |\n",
       "\n"
      ],
      "text/plain": [
       "      Coef      RBP     Tissue                 abs_coef\n",
       "19615 -2.129245 ZRSR2   Adipose - Subcutaneous 2.129245\n",
       "419    2.006553 C9orf78 Adipose - Subcutaneous 2.006553\n",
       "9293  -1.960143 POLR2G  Adipose - Subcutaneous 1.960143\n",
       "19627 -1.875447 ZRSR2   Adipose - Subcutaneous 1.875447\n",
       "3869  -1.779780 EIF4A3  Adipose - Subcutaneous 1.779780\n",
       "7498  -1.764872 METTL3  Adipose - Subcutaneous 1.764872\n",
       "18237  1.753839 U2AF1   Adipose - Subcutaneous 1.753839\n",
       "915   -1.733649 CELF1   Adipose - Subcutaneous 1.733649\n",
       "16465 -1.683481 SRPK3   Adipose - Subcutaneous 1.683481\n",
       "7603  -1.669207 MYOD1   Adipose - Subcutaneous 1.669207\n",
       "10443 -1.659693 PRPF38A Adipose - Subcutaneous 1.659693\n",
       "3790  -1.647051 EFTUD2  Adipose - Subcutaneous 1.647051\n",
       "11281  1.645016 QKI     Adipose - Subcutaneous 1.645016\n",
       "9142   1.644141 POLR2D  Adipose - Subcutaneous 1.644141\n",
       "13454  1.642870 RNF113A Adipose - Subcutaneous 1.642870\n",
       "641   -1.633254 CD2BP2  Adipose - Subcutaneous 1.633254\n",
       "7833  -1.619655 NCL     Adipose - Subcutaneous 1.619655\n",
       "3761   1.606033 DYRK1A  Adipose - Subcutaneous 1.606033"
      ]
     },
     "metadata": {},
     "output_type": "display_data"
    }
   ],
   "source": [
    "df <- df[order( df$abs_coef, decreasing = TRUE) , ]\n",
    "df [ df$abs_coef > 1.6, ]"
   ]
  },
  {
   "cell_type": "code",
   "execution_count": 26,
   "metadata": {},
   "outputs": [],
   "source": [
    "data.table::fwrite(df, file = paste0( as_site_type , \"_\" , snakecase::to_snake_case(tissue), \"_\" , \"coefficients.csv\"))"
   ]
  },
  {
   "cell_type": "markdown",
   "metadata": {
    "papermill": {
     "duration": 0.22145,
     "end_time": "2020-07-09T07:35:33.629142",
     "exception": false,
     "start_time": "2020-07-09T07:35:33.407692",
     "status": "completed"
    },
    "tags": []
   },
   "source": [
    "## Metadata\n",
    "\n",
    "For replicability and reproducibility purposes, we also print the following metadata:\n",
    "\n",
    "1. Checksums of **\"artefacts\"**, files generated during the analysis and stored in the folder directory **`data`**\n",
    "2. List of environment metadata, dependencies, versions of libraries using `utils::sessionInfo()` and [`devtools::session_info()`](https://devtools.r-lib.org/reference/session_info.html)"
   ]
  },
  {
   "cell_type": "markdown",
   "metadata": {
    "papermill": {
     "duration": 0.217566,
     "end_time": "2020-07-09T07:35:34.072091",
     "exception": false,
     "start_time": "2020-07-09T07:35:33.854525",
     "status": "completed"
    },
    "tags": []
   },
   "source": [
    "### 1. Checksums with the sha256 algorithm"
   ]
  },
  {
   "cell_type": "code",
   "execution_count": null,
   "metadata": {
    "papermill": {
     "duration": 52.924306,
     "end_time": "2020-07-09T07:36:27.214332",
     "exception": false,
     "start_time": "2020-07-09T07:35:34.290026",
     "status": "completed"
    },
    "tags": []
   },
   "outputs": [],
   "source": [
    "figure_id       <- \"bayesian-modeling\"\n",
    "\n",
    "message(\"Generating sha256 checksums of the artefacts in the `..data/` directory .. \")\n",
    "system(paste0(\"cd ../data/ && find . -type f -exec sha256sum {} \\\\; > ../metadata/\",  figure_id, \"_sha256sums.txt\"), intern = TRUE)\n",
    "message(\"Done!\\n\")\n",
    "\n",
    "data.table::fread(paste0(\"../metadata/\", figure_id, \"_sha256sums.txt\"), header = FALSE, col.names = c(\"sha256sum\", \"file\"))"
   ]
  },
  {
   "cell_type": "markdown",
   "metadata": {
    "papermill": {
     "duration": 0.221745,
     "end_time": "2020-07-09T07:36:27.654677",
     "exception": false,
     "start_time": "2020-07-09T07:36:27.432932",
     "status": "completed"
    },
    "tags": []
   },
   "source": [
    "### 2. Libraries metadata"
   ]
  },
  {
   "cell_type": "code",
   "execution_count": null,
   "metadata": {
    "papermill": {
     "duration": 5.865377,
     "end_time": "2020-07-09T07:36:33.740731",
     "exception": false,
     "start_time": "2020-07-09T07:36:27.875354",
     "status": "completed"
    },
    "tags": []
   },
   "outputs": [],
   "source": [
    "dev_session_info   <- devtools::session_info()\n",
    "utils_session_info <- utils::sessionInfo()\n",
    "\n",
    "message(\"Saving `devtools::session_info()` objects in ../metadata/devtools_session_info.rds  ..\")\n",
    "saveRDS(dev_session_info, file = paste0(\"../metadata/\", figure_id, \"_devtools_session_info.rds\"))\n",
    "message(\"Done!\\n\")\n",
    "\n",
    "message(\"Saving `utils::sessionInfo()` objects in ../metadata/utils_session_info.rds  ..\")\n",
    "saveRDS(utils_session_info, file = paste0(\"../metadata/\", figure_id ,\"_utils_info.rds\"))\n",
    "message(\"Done!\\n\")\n",
    "\n",
    "dev_session_info$platform\n",
    "dev_session_info$packages[dev_session_info$packages$attached==TRUE, ]"
   ]
  }
 ],
 "metadata": {
  "kernelspec": {
   "display_name": "R",
   "language": "R",
   "name": "ir"
  },
  "language_info": {
   "codemirror_mode": "r",
   "file_extension": ".r",
   "mimetype": "text/x-r-source",
   "name": "R",
   "pygments_lexer": "r",
   "version": "3.6.1"
  },
  "papermill": {
   "duration": 37942.79021,
   "end_time": "2020-07-09T07:36:37.540260",
   "environment_variables": {},
   "exception": null,
   "input_path": "main.ipynb",
   "output_path": "adipose_subcutaneous_bayesian-modeling.ipynb",
   "parameters": {
    "as_site_type": "se",
    "tissue_index": 1,
    "top_n_events": 100
   },
   "start_time": "2020-07-08T21:04:14.750050",
   "version": "2.1.0"
  }
 },
 "nbformat": 4,
 "nbformat_minor": 4
}
