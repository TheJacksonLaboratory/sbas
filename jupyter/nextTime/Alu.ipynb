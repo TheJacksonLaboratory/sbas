{
 "cells": [
  {
   "cell_type": "raw",
   "metadata": {},
   "source": [
    "We read in the table of events and reformat them in .bed format, in order to perform bedtools intersection with the file that contrains the Alu coordinates"
   ]
  },
  {
   "cell_type": "code",
   "execution_count": 21,
   "metadata": {},
   "outputs": [],
   "source": [
    "events.tab<-read.table('data/fromGTF.SE.txt',sep='\\t',header=T)\n",
    "\n",
    "up.intron.s<-events.tab$upstreamEE\n",
    "\n",
    "up.intron.e<-events.tab$exonStart_0base\n",
    "\n",
    "down.intron.s<-events.tab$exonEnd\n",
    "\n",
    "down.intron.e<-events.tab$downstreamES\n",
    "\n",
    "out.tab<-cbind(as.character(events.tab$chr),up.intron.s,up.intron.e,as.character(events.tab$geneSymbol),\n",
    "               up.intron.e-up.intron.s-1,as.character(events.tab$strand),events.tab$ID)\n",
    "\n",
    "out.tab<-rbind(out.tab,cbind(as.character(events.tab$chr),down.intron.s,down.intron.e,as.character(events.tab$geneSymbol),\n",
    "               down.intron.e-down.intron.s-1,as.character(events.tab$strand),events.tab$ID))\n",
    "\n",
    "write.table(out.tab,'flanking_introns.bed',sep='\\t',col.names = F,row.names = F,quote = F)\n"
   ]
  },
  {
   "cell_type": "code",
   "execution_count": 22,
   "metadata": {
    "jupyter": {
     "source_hidden": true
    }
   },
   "outputs": [],
   "source": [
    "system('conda install -c bioconda bedtools')"
   ]
  },
  {
   "cell_type": "raw",
   "metadata": {},
   "source": [
    "Intersect the upstream introns with Alu sites"
   ]
  },
  {
   "cell_type": "code",
   "execution_count": 23,
   "metadata": {},
   "outputs": [],
   "source": [
    "system('bedtools intersect -wa -wb -s -F 1 -a flanking_introns.bed -b repeats.bed > intron_alu_intersections.bed')\n",
    "\n",
    "all.intron.alu.intr<-read.table('intron_alu_intersections.bed',sep='\\t',header = F)\n",
    "\n",
    "colnames(all.intron.alu.intr)<-c('chr','up_intr_s','up_intr_e','gene','up_intr_l','strand','ID','chr','alu_s','alu_e','alu','blank','strand')\n"
   ]
  },
  {
   "cell_type": "raw",
   "metadata": {},
   "source": [
    "Only keep coordinates of Alu elements"
   ]
  },
  {
   "cell_type": "code",
   "execution_count": 24,
   "metadata": {},
   "outputs": [],
   "source": [
    "all.intron.alu.intr<-all.intron.alu.intr[grepl('^Alu',all.intron.alu.intr$alu),]"
   ]
  },
  {
   "cell_type": "raw",
   "metadata": {},
   "source": [
    "From each Alu family keep one overlap with each gene:"
   ]
  },
  {
   "cell_type": "code",
   "execution_count": 25,
   "metadata": {},
   "outputs": [],
   "source": [
    "all.intron.alu.intr=all.intron.alu.intr[!duplicated(paste0(all.intron.alu.intr$ID,all.intron.alu.intr$alu)),]"
   ]
  },
  {
   "cell_type": "raw",
   "metadata": {},
   "source": [
    "Create a set of all alternatively spliced events that were tested for sex-bias and a set of only those that were detected as sex-biased:"
   ]
  },
  {
   "cell_type": "code",
   "execution_count": 26,
   "metadata": {},
   "outputs": [],
   "source": [
    "tissue.list=read.csv('data/tissue_list.csv',header=FALSE)\n",
    "\n",
    "sb.events=c()\n",
    "\n",
    "all.events=c()\n",
    "\n",
    "for (tissue in tissue.list$V2)\n",
    "{\n",
    "    \n",
    "    all.tissue.events=read.csv(paste0('data/se_',tissue,'_AS_model_B_sex_as_events.csv'))\n",
    "  \n",
    "    tissue.all.event.ids=lapply(lapply(lapply(as.character(rownames(all.tissue.events)),strsplit,split='-'),unlist)\n",
    "                                ,'[[',2)\n",
    "    \n",
    "    all.events=unique(c(all.events,tissue.all.event.ids))\n",
    "                        \n",
    "    tissue.sb.events=read.csv(paste0('data/se_',tissue,'_AS_model_B_sex_as_events_refined.csv'))\n",
    "    \n",
    "    tissue.sb.event.ids=lapply(lapply(lapply(as.character(rownames(tissue.sb.events)),strsplit,split='-'),unlist)\n",
    "                               ,'[[',2)\n",
    "  \n",
    "    sb.events=unique(c(sb.events,tissue.sb.event.ids))\n",
    "    \n",
    "}"
   ]
  },
  {
   "cell_type": "raw",
   "metadata": {},
   "source": [
    "Test Alu enrichment in sex-biased events for each Alu family:"
   ]
  },
  {
   "cell_type": "code",
   "execution_count": 59,
   "metadata": {},
   "outputs": [],
   "source": [
    "alu.enrich=matrix(ncol=7,nrow=0)\n",
    "\n",
    "colnames(alu.enrich)<-c('Alu','AluASCount','AluSBCount','TotalAS','TotalSB','PVal','FDR')\n",
    "\n",
    "num.sb.events=length(sb.events) #total number of sex-biased events\n",
    "\n",
    "num.as.events=length(all.events) #total number of alternative splicing events\n",
    "\n",
    "all.events.per.alu=table(all.intron.alu.intr$alu[all.intron.alu.intr$ID %in% all.events])   #number of events per Alu family\n",
    "\n",
    "sb.events.per.alu=table(all.intron.alu.intr$alu[all.intron.alu.intr$ID %in% sb.events]) #number of sex-biased events per Alu family\n",
    "\n",
    "for (i in (1:length(all.events.per.alu)))    \n",
    "{\n",
    "  \n",
    "  cur.alu<-names(all.events.per.alu)[i]  #get the name of the next Alu family\n",
    "  \n",
    "  if (!cur.alu %in% names(sb.events.per.alu) | all.events.per.alu[cur.alu]<10 | !grepl('^Alu',cur.alu))\n",
    "    \n",
    "    next\n",
    "  \n",
    "  alu.sb<-sb.events.per.alu[cur.alu]  #sex-biased events with this Alu family\n",
    "  \n",
    "  alu.as<-all.events.per.alu[cur.alu]  #all AS events with this Alu family\n",
    "  \n",
    "  pval<-1-exp(phyper(q=alu.sb, m=alu.as, n=num.as.events-alu.as, k=num.sb.events,log.p = T))\n",
    "  \n",
    "  alu.enrich<-rbind(alu.enrich, c(cur.alu,alu.as,alu.sb,num.as.events,num.sb.events,pval,0))\n",
    "  \n",
    "}\n",
    "\n"
   ]
  },
  {
   "cell_type": "code",
   "execution_count": 60,
   "metadata": {},
   "outputs": [
    {
     "data": {
      "text/html": [
       "<table>\n",
       "<caption>A matrix: 22 × 7 of type chr</caption>\n",
       "<thead>\n",
       "\t<tr><th scope=col>Alu</th><th scope=col>AluASCount</th><th scope=col>AluSBCount</th><th scope=col>TotalAS</th><th scope=col>TotalSB</th><th scope=col>PVal</th><th scope=col>FDR</th></tr>\n",
       "</thead>\n",
       "<tbody>\n",
       "\t<tr><td>AluSx3</td><td>74 </td><td>16</td><td>39970</td><td>3948</td><td>0.000737036536434532</td><td>0.0125182490698012</td></tr>\n",
       "\t<tr><td>AluSq </td><td>53 </td><td>12</td><td>39970</td><td>3948</td><td>0.00159006629710257 </td><td>0.0125182490698012</td></tr>\n",
       "\t<tr><td>AluJr </td><td>136</td><td>24</td><td>39970</td><td>3948</td><td>0.0017070339640638  </td><td>0.0125182490698012</td></tr>\n",
       "\t<tr><td>AluY  </td><td>162</td><td>26</td><td>39970</td><td>3948</td><td>0.0048060426980332  </td><td>0.0220953626227518</td></tr>\n",
       "\t<tr><td>AluSx </td><td>242</td><td>36</td><td>39970</td><td>3948</td><td>0.00502167332335268 </td><td>0.0220953626227518</td></tr>\n",
       "\t<tr><td>AluSp </td><td>139</td><td>21</td><td>39970</td><td>3948</td><td>0.0180048318219698  </td><td>0.0660177166805559</td></tr>\n",
       "\t<tr><td>AluJb </td><td>202</td><td>28</td><td>39970</td><td>3948</td><td>0.0261116687331677  </td><td>0.0820652445899556</td></tr>\n",
       "\t<tr><td>AluSz6</td><td>126</td><td>18</td><td>39970</td><td>3948</td><td>0.0410455072282917  </td><td>0.109617340347962 </td></tr>\n",
       "\t<tr><td>AluSx1</td><td>187</td><td>25</td><td>39970</td><td>3948</td><td>0.0471120529244781  </td><td>0.109617340347962 </td></tr>\n",
       "\t<tr><td>AluSx4</td><td>21 </td><td>4 </td><td>39970</td><td>3948</td><td>0.0498260637945281  </td><td>0.109617340347962 </td></tr>\n",
       "\t<tr><td>AluSc8</td><td>57 </td><td>8 </td><td>39970</td><td>3948</td><td>0.105642774885401   </td><td>0.211285549770802 </td></tr>\n",
       "\t<tr><td>AluSc5</td><td>21 </td><td>3 </td><td>39970</td><td>3948</td><td>0.147053896118789   </td><td>0.269598809551113 </td></tr>\n",
       "\t<tr><td>AluSq2</td><td>137</td><td>16</td><td>39970</td><td>3948</td><td>0.194117121759117   </td><td>0.304936555403911 </td></tr>\n",
       "\t<tr><td>Alu   </td><td>16 </td><td>2 </td><td>39970</td><td>3948</td><td>0.205506133549073   </td><td>0.304936555403911 </td></tr>\n",
       "\t<tr><td>AluSg7</td><td>24 </td><td>3 </td><td>39970</td><td>3948</td><td>0.207911287775394   </td><td>0.304936555403911 </td></tr>\n",
       "\t<tr><td>AluSc </td><td>79 </td><td>9 </td><td>39970</td><td>3948</td><td>0.251301298552271   </td><td>0.345539285509373 </td></tr>\n",
       "\t<tr><td>AluJo </td><td>130</td><td>14</td><td>39970</td><td>3948</td><td>0.302168341944367   </td><td>0.383467606410123 </td></tr>\n",
       "\t<tr><td>AluSz </td><td>189</td><td>20</td><td>39970</td><td>3948</td><td>0.317990808322045   </td><td>0.383467606410123 </td></tr>\n",
       "\t<tr><td>AluJr4</td><td>57 </td><td>6 </td><td>39970</td><td>3948</td><td>0.331176569172379   </td><td>0.383467606410123 </td></tr>\n",
       "\t<tr><td>AluSg4</td><td>17 </td><td>1 </td><td>39970</td><td>3948</td><td>0.511362381930502   </td><td>0.56157715839032  </td></tr>\n",
       "\t<tr><td>AluSg </td><td>90 </td><td>8 </td><td>39970</td><td>3948</td><td>0.536050923918033   </td><td>0.56157715839032  </td></tr>\n",
       "\t<tr><td>AluYa5</td><td>12 </td><td>0 </td><td>39970</td><td>3948</td><td>0.712971202789147   </td><td>0.712971202789147 </td></tr>\n",
       "</tbody>\n",
       "</table>\n"
      ],
      "text/latex": [
       "A matrix: 22 × 7 of type chr\n",
       "\\begin{tabular}{lllllll}\n",
       " Alu & AluASCount & AluSBCount & TotalAS & TotalSB & PVal & FDR\\\\\n",
       "\\hline\n",
       "\t AluSx3 & 74  & 16 & 39970 & 3948 & 0.000737036536434532 & 0.0125182490698012\\\\\n",
       "\t AluSq  & 53  & 12 & 39970 & 3948 & 0.00159006629710257  & 0.0125182490698012\\\\\n",
       "\t AluJr  & 136 & 24 & 39970 & 3948 & 0.0017070339640638   & 0.0125182490698012\\\\\n",
       "\t AluY   & 162 & 26 & 39970 & 3948 & 0.0048060426980332   & 0.0220953626227518\\\\\n",
       "\t AluSx  & 242 & 36 & 39970 & 3948 & 0.00502167332335268  & 0.0220953626227518\\\\\n",
       "\t AluSp  & 139 & 21 & 39970 & 3948 & 0.0180048318219698   & 0.0660177166805559\\\\\n",
       "\t AluJb  & 202 & 28 & 39970 & 3948 & 0.0261116687331677   & 0.0820652445899556\\\\\n",
       "\t AluSz6 & 126 & 18 & 39970 & 3948 & 0.0410455072282917   & 0.109617340347962 \\\\\n",
       "\t AluSx1 & 187 & 25 & 39970 & 3948 & 0.0471120529244781   & 0.109617340347962 \\\\\n",
       "\t AluSx4 & 21  & 4  & 39970 & 3948 & 0.0498260637945281   & 0.109617340347962 \\\\\n",
       "\t AluSc8 & 57  & 8  & 39970 & 3948 & 0.105642774885401    & 0.211285549770802 \\\\\n",
       "\t AluSc5 & 21  & 3  & 39970 & 3948 & 0.147053896118789    & 0.269598809551113 \\\\\n",
       "\t AluSq2 & 137 & 16 & 39970 & 3948 & 0.194117121759117    & 0.304936555403911 \\\\\n",
       "\t Alu    & 16  & 2  & 39970 & 3948 & 0.205506133549073    & 0.304936555403911 \\\\\n",
       "\t AluSg7 & 24  & 3  & 39970 & 3948 & 0.207911287775394    & 0.304936555403911 \\\\\n",
       "\t AluSc  & 79  & 9  & 39970 & 3948 & 0.251301298552271    & 0.345539285509373 \\\\\n",
       "\t AluJo  & 130 & 14 & 39970 & 3948 & 0.302168341944367    & 0.383467606410123 \\\\\n",
       "\t AluSz  & 189 & 20 & 39970 & 3948 & 0.317990808322045    & 0.383467606410123 \\\\\n",
       "\t AluJr4 & 57  & 6  & 39970 & 3948 & 0.331176569172379    & 0.383467606410123 \\\\\n",
       "\t AluSg4 & 17  & 1  & 39970 & 3948 & 0.511362381930502    & 0.56157715839032  \\\\\n",
       "\t AluSg  & 90  & 8  & 39970 & 3948 & 0.536050923918033    & 0.56157715839032  \\\\\n",
       "\t AluYa5 & 12  & 0  & 39970 & 3948 & 0.712971202789147    & 0.712971202789147 \\\\\n",
       "\\end{tabular}\n"
      ],
      "text/markdown": [
       "\n",
       "A matrix: 22 × 7 of type chr\n",
       "\n",
       "| Alu | AluASCount | AluSBCount | TotalAS | TotalSB | PVal | FDR |\n",
       "|---|---|---|---|---|---|---|\n",
       "| AluSx3 | 74  | 16 | 39970 | 3948 | 0.000737036536434532 | 0.0125182490698012 |\n",
       "| AluSq  | 53  | 12 | 39970 | 3948 | 0.00159006629710257  | 0.0125182490698012 |\n",
       "| AluJr  | 136 | 24 | 39970 | 3948 | 0.0017070339640638   | 0.0125182490698012 |\n",
       "| AluY   | 162 | 26 | 39970 | 3948 | 0.0048060426980332   | 0.0220953626227518 |\n",
       "| AluSx  | 242 | 36 | 39970 | 3948 | 0.00502167332335268  | 0.0220953626227518 |\n",
       "| AluSp  | 139 | 21 | 39970 | 3948 | 0.0180048318219698   | 0.0660177166805559 |\n",
       "| AluJb  | 202 | 28 | 39970 | 3948 | 0.0261116687331677   | 0.0820652445899556 |\n",
       "| AluSz6 | 126 | 18 | 39970 | 3948 | 0.0410455072282917   | 0.109617340347962  |\n",
       "| AluSx1 | 187 | 25 | 39970 | 3948 | 0.0471120529244781   | 0.109617340347962  |\n",
       "| AluSx4 | 21  | 4  | 39970 | 3948 | 0.0498260637945281   | 0.109617340347962  |\n",
       "| AluSc8 | 57  | 8  | 39970 | 3948 | 0.105642774885401    | 0.211285549770802  |\n",
       "| AluSc5 | 21  | 3  | 39970 | 3948 | 0.147053896118789    | 0.269598809551113  |\n",
       "| AluSq2 | 137 | 16 | 39970 | 3948 | 0.194117121759117    | 0.304936555403911  |\n",
       "| Alu    | 16  | 2  | 39970 | 3948 | 0.205506133549073    | 0.304936555403911  |\n",
       "| AluSg7 | 24  | 3  | 39970 | 3948 | 0.207911287775394    | 0.304936555403911  |\n",
       "| AluSc  | 79  | 9  | 39970 | 3948 | 0.251301298552271    | 0.345539285509373  |\n",
       "| AluJo  | 130 | 14 | 39970 | 3948 | 0.302168341944367    | 0.383467606410123  |\n",
       "| AluSz  | 189 | 20 | 39970 | 3948 | 0.317990808322045    | 0.383467606410123  |\n",
       "| AluJr4 | 57  | 6  | 39970 | 3948 | 0.331176569172379    | 0.383467606410123  |\n",
       "| AluSg4 | 17  | 1  | 39970 | 3948 | 0.511362381930502    | 0.56157715839032   |\n",
       "| AluSg  | 90  | 8  | 39970 | 3948 | 0.536050923918033    | 0.56157715839032   |\n",
       "| AluYa5 | 12  | 0  | 39970 | 3948 | 0.712971202789147    | 0.712971202789147  |\n",
       "\n"
      ],
      "text/plain": [
       "      Alu    AluASCount AluSBCount TotalAS TotalSB PVal                \n",
       " [1,] AluSx3 74         16         39970   3948    0.000737036536434532\n",
       " [2,] AluSq  53         12         39970   3948    0.00159006629710257 \n",
       " [3,] AluJr  136        24         39970   3948    0.0017070339640638  \n",
       " [4,] AluY   162        26         39970   3948    0.0048060426980332  \n",
       " [5,] AluSx  242        36         39970   3948    0.00502167332335268 \n",
       " [6,] AluSp  139        21         39970   3948    0.0180048318219698  \n",
       " [7,] AluJb  202        28         39970   3948    0.0261116687331677  \n",
       " [8,] AluSz6 126        18         39970   3948    0.0410455072282917  \n",
       " [9,] AluSx1 187        25         39970   3948    0.0471120529244781  \n",
       "[10,] AluSx4 21         4          39970   3948    0.0498260637945281  \n",
       "[11,] AluSc8 57         8          39970   3948    0.105642774885401   \n",
       "[12,] AluSc5 21         3          39970   3948    0.147053896118789   \n",
       "[13,] AluSq2 137        16         39970   3948    0.194117121759117   \n",
       "[14,] Alu    16         2          39970   3948    0.205506133549073   \n",
       "[15,] AluSg7 24         3          39970   3948    0.207911287775394   \n",
       "[16,] AluSc  79         9          39970   3948    0.251301298552271   \n",
       "[17,] AluJo  130        14         39970   3948    0.302168341944367   \n",
       "[18,] AluSz  189        20         39970   3948    0.317990808322045   \n",
       "[19,] AluJr4 57         6          39970   3948    0.331176569172379   \n",
       "[20,] AluSg4 17         1          39970   3948    0.511362381930502   \n",
       "[21,] AluSg  90         8          39970   3948    0.536050923918033   \n",
       "[22,] AluYa5 12         0          39970   3948    0.712971202789147   \n",
       "      FDR               \n",
       " [1,] 0.0125182490698012\n",
       " [2,] 0.0125182490698012\n",
       " [3,] 0.0125182490698012\n",
       " [4,] 0.0220953626227518\n",
       " [5,] 0.0220953626227518\n",
       " [6,] 0.0660177166805559\n",
       " [7,] 0.0820652445899556\n",
       " [8,] 0.109617340347962 \n",
       " [9,] 0.109617340347962 \n",
       "[10,] 0.109617340347962 \n",
       "[11,] 0.211285549770802 \n",
       "[12,] 0.269598809551113 \n",
       "[13,] 0.304936555403911 \n",
       "[14,] 0.304936555403911 \n",
       "[15,] 0.304936555403911 \n",
       "[16,] 0.345539285509373 \n",
       "[17,] 0.383467606410123 \n",
       "[18,] 0.383467606410123 \n",
       "[19,] 0.383467606410123 \n",
       "[20,] 0.56157715839032  \n",
       "[21,] 0.56157715839032  \n",
       "[22,] 0.712971202789147 "
      ]
     },
     "metadata": {},
     "output_type": "display_data"
    }
   ],
   "source": [
    "alu.enrich[,'FDR']=p.adjust(alu.enrich[,'PVal'],method='BH')\n",
    "alu.enrich[order(alu.enrich[,'PVal']),]"
   ]
  },
  {
   "cell_type": "raw",
   "metadata": {},
   "source": [
    "Find Alu elements with an estrogen receptor motif in the upstream exons"
   ]
  },
  {
   "cell_type": "raw",
   "metadata": {},
   "source": [
    "Read Alus with esr motif:"
   ]
  },
  {
   "cell_type": "code",
   "execution_count": 29,
   "metadata": {},
   "outputs": [],
   "source": [
    "esr.tab<-read.table('data/all-byclass-noM-plusminus-hits-uniq.txt',sep=' ',header = T)\n",
    "\n",
    "chr<-unlist(lapply(lapply(lapply(lapply(as.character(esr.tab$item_coordinates),strsplit,split=':'),'[[',1),'[[',1),'[',1))\n",
    "\n",
    "start<-unlist(lapply(lapply(lapply(as.character(esr.tab$item_coordinates),strsplit,split=':'),'[[',1),'[',2))\n",
    "\n",
    "start<-unlist(lapply(lapply(lapply(start,strsplit,split='-'),'[[',1),'[',1))\n",
    "\n",
    "end<-unlist(lapply(lapply(lapply(as.character(esr.tab$item_coordinates),strsplit,split=':'),'[[',1),'[',2))\n",
    "\n",
    "end<-unlist(lapply(lapply(lapply(end,strsplit,split='-'),'[[',1),'[',2))\n",
    "\n",
    "end<-unlist(lapply(lapply(lapply(end,strsplit,split=','),'[[',1),'[',1))\n",
    "\n",
    "strand<-unlist(lapply(lapply(lapply(as.character(esr.tab$item_coordinates),strsplit,split=':'),'[[',1),'[',2))\n",
    "\n",
    "strand<-unlist(lapply(lapply(lapply(strand,strsplit,split=','),'[[',1),'[',2))\n",
    "\n",
    "out.tab<-cbind(chr,start,end,rep('NA',length(chr)),as.integer(end)-as.integer(start)-1,strand,as.character(esr.tab$sequence_name),esr.tab$item_antisense)\n",
    "\n",
    "write.table(out.tab,'alu_with_esr.bed',sep='\\t',col.names = F,row.names = F,quote = F)\n",
    "\n",
    "system('bedtools intersect -wa -wb -s -F 1 -a flanking_introns.bed -b alu_with_esr.bed > intron_esr_intersections.bed')\n"
   ]
  },
  {
   "cell_type": "code",
   "execution_count": 30,
   "metadata": {},
   "outputs": [],
   "source": [
    "rm(out.tab)\n",
    "\n",
    "rm(esr.tab)\n",
    "\n",
    "rm(chr)\n",
    "\n",
    "rm(start)\n",
    "\n",
    "rm(end)\n",
    "\n",
    "rm(strand)"
   ]
  },
  {
   "cell_type": "raw",
   "metadata": {},
   "source": [
    "Compute enrichment scores:"
   ]
  },
  {
   "cell_type": "code",
   "execution_count": 55,
   "metadata": {},
   "outputs": [],
   "source": [
    "alu.esr.tab<-read.table('intron_esr_intersections.bed',sep='\\t',header = F)\n",
    "\n",
    "alu.esr.tab<-alu.esr.tab[grepl('^Alu',alu.esr.tab$V14),]\n",
    "\n",
    "alu.esr.tab<-alu.esr.tab[alu.esr.tab$V15==TRUE,]\n",
    "\n",
    "alu.esr.tab<-alu.esr.tab[!duplicated(paste0(alu.esr.tab$V7,alu.esr.tab$V14)),]\n",
    "\n",
    "alu.esr.tab<-alu.esr.tab[alu.esr.tab$V7 %in% all.events,]\n",
    "\n",
    "alu.types<-table(as.character(alu.esr.tab$V14))\n",
    "\n",
    "sb.esr.tab<-table(as.character(alu.esr.tab$V14[alu.esr.tab$V7 %in% sb.events]))\n",
    "\n",
    "alu.esr.enrich<-matrix(ncol=7,nrow=0)\n",
    "\n",
    "colnames(alu.esr.enrich)<-c('Alu','CountAS','CountSB','TotalAS','TotalSB','PVal','FDR')\n",
    "\n",
    "for (i in (1:length(alu.types)))\n",
    "{\n",
    "  \n",
    "  cur.cat<-names(alu.types)[i]  \n",
    "  \n",
    "  count.sb<-sb.esr.tab[cur.cat]\n",
    "  \n",
    "  count.as<-alu.types[cur.cat]\n",
    "  \n",
    "  if (is.na(count.sb) || all.events.per.alu[cur.cat]+sb.events.per.alu[cur.cat]<25 || count.sb<25)\n",
    "    \n",
    "    next\n",
    "          \n",
    "  pval<-1exp(phyper(q=count.sb, m=count.as, n=all.events.per.alu[cur.cat]-count.as, k=sb.events.per.alu[cur.cat],log.p = T))\n",
    "  \n",
    "  alu.esr.enrich<-rbind(alu.esr.enrich, c(cur.cat,count.as,count.sb,all.events.per.alu[cur.cat],sb.events.per.alu[cur.cat],pval,0))\n",
    "}\n",
    "\n"
   ]
  },
  {
   "cell_type": "code",
   "execution_count": 37,
   "metadata": {},
   "outputs": [
    {
     "data": {
      "text/html": [
       "<table>\n",
       "<caption>A matrix: 23 × 7 of type chr</caption>\n",
       "<thead>\n",
       "\t<tr><th scope=col>Alu</th><th scope=col>CountAS</th><th scope=col>CountSB</th><th scope=col>TotalAS</th><th scope=col>TotalSB</th><th scope=col>PVal</th><th scope=col>FDR</th></tr>\n",
       "</thead>\n",
       "<tbody>\n",
       "\t<tr><td>AluJo   </td><td>98 </td><td>14</td><td>130</td><td>14</td><td>0                 </td><td>0</td></tr>\n",
       "\t<tr><td>AluSc   </td><td>78 </td><td>9 </td><td>79 </td><td>9 </td><td>0                 </td><td>0</td></tr>\n",
       "\t<tr><td>AluSc8  </td><td>54 </td><td>8 </td><td>57 </td><td>8 </td><td>0                 </td><td>0</td></tr>\n",
       "\t<tr><td>AluSg   </td><td>90 </td><td>8 </td><td>90 </td><td>8 </td><td>0                 </td><td>0</td></tr>\n",
       "\t<tr><td>AluSg4  </td><td>17 </td><td>1 </td><td>17 </td><td>1 </td><td>0                 </td><td>0</td></tr>\n",
       "\t<tr><td>AluSg7  </td><td>23 </td><td>3 </td><td>24 </td><td>3 </td><td>0                 </td><td>0</td></tr>\n",
       "\t<tr><td>AluSq   </td><td>52 </td><td>12</td><td>53 </td><td>12</td><td>0                 </td><td>0</td></tr>\n",
       "\t<tr><td>AluSq2  </td><td>136</td><td>16</td><td>137</td><td>16</td><td>0                 </td><td>0</td></tr>\n",
       "\t<tr><td>AluSq4  </td><td>4  </td><td>2 </td><td>4  </td><td>2 </td><td>0                 </td><td>0</td></tr>\n",
       "\t<tr><td>AluYf1  </td><td>7  </td><td>2 </td><td>8  </td><td>2 </td><td>0                 </td><td>0</td></tr>\n",
       "\t<tr><td>AluYh3a3</td><td>7  </td><td>1 </td><td>7  </td><td>1 </td><td>0                 </td><td>0</td></tr>\n",
       "\t<tr><td>AluJr4  </td><td>32 </td><td>5 </td><td>57 </td><td>6 </td><td>0.0249720488052166</td><td>0</td></tr>\n",
       "\t<tr><td>AluJr   </td><td>106</td><td>21</td><td>136</td><td>24</td><td>0.0574043627525298</td><td>0</td></tr>\n",
       "\t<tr><td>AluY    </td><td>82 </td><td>14</td><td>162</td><td>26</td><td>0.283632118539766 </td><td>0</td></tr>\n",
       "\t<tr><td>AluSx3  </td><td>69 </td><td>15</td><td>74 </td><td>16</td><td>0.284448639262454 </td><td>0</td></tr>\n",
       "\t<tr><td>AluSx   </td><td>227</td><td>34</td><td>242</td><td>36</td><td>0.314451287126713 </td><td>0</td></tr>\n",
       "\t<tr><td>AluSc5  </td><td>16 </td><td>2 </td><td>21 </td><td>3 </td><td>0.421052631578947 </td><td>0</td></tr>\n",
       "\t<tr><td>AluSx1  </td><td>184</td><td>24</td><td>187</td><td>25</td><td>0.648536754798615 </td><td>0</td></tr>\n",
       "\t<tr><td>AluSz   </td><td>181</td><td>18</td><td>189</td><td>20</td><td>0.797821215079303 </td><td>0</td></tr>\n",
       "\t<tr><td>AluSp   </td><td>138</td><td>20</td><td>139</td><td>21</td><td>0.848920863309353 </td><td>0</td></tr>\n",
       "\t<tr><td>AluSz6  </td><td>119</td><td>15</td><td>126</td><td>18</td><td>0.940196538819823 </td><td>0</td></tr>\n",
       "\t<tr><td>AluJb   </td><td>182</td><td>22</td><td>202</td><td>28</td><td>0.96027037586436  </td><td>0</td></tr>\n",
       "\t<tr><td>AluSx4  </td><td>17 </td><td>1 </td><td>21 </td><td>4 </td><td>0.988471177944862 </td><td>0</td></tr>\n",
       "</tbody>\n",
       "</table>\n"
      ],
      "text/latex": [
       "A matrix: 23 × 7 of type chr\n",
       "\\begin{tabular}{lllllll}\n",
       " Alu & CountAS & CountSB & TotalAS & TotalSB & PVal & FDR\\\\\n",
       "\\hline\n",
       "\t AluJo    & 98  & 14 & 130 & 14 & 0                  & 0\\\\\n",
       "\t AluSc    & 78  & 9  & 79  & 9  & 0                  & 0\\\\\n",
       "\t AluSc8   & 54  & 8  & 57  & 8  & 0                  & 0\\\\\n",
       "\t AluSg    & 90  & 8  & 90  & 8  & 0                  & 0\\\\\n",
       "\t AluSg4   & 17  & 1  & 17  & 1  & 0                  & 0\\\\\n",
       "\t AluSg7   & 23  & 3  & 24  & 3  & 0                  & 0\\\\\n",
       "\t AluSq    & 52  & 12 & 53  & 12 & 0                  & 0\\\\\n",
       "\t AluSq2   & 136 & 16 & 137 & 16 & 0                  & 0\\\\\n",
       "\t AluSq4   & 4   & 2  & 4   & 2  & 0                  & 0\\\\\n",
       "\t AluYf1   & 7   & 2  & 8   & 2  & 0                  & 0\\\\\n",
       "\t AluYh3a3 & 7   & 1  & 7   & 1  & 0                  & 0\\\\\n",
       "\t AluJr4   & 32  & 5  & 57  & 6  & 0.0249720488052166 & 0\\\\\n",
       "\t AluJr    & 106 & 21 & 136 & 24 & 0.0574043627525298 & 0\\\\\n",
       "\t AluY     & 82  & 14 & 162 & 26 & 0.283632118539766  & 0\\\\\n",
       "\t AluSx3   & 69  & 15 & 74  & 16 & 0.284448639262454  & 0\\\\\n",
       "\t AluSx    & 227 & 34 & 242 & 36 & 0.314451287126713  & 0\\\\\n",
       "\t AluSc5   & 16  & 2  & 21  & 3  & 0.421052631578947  & 0\\\\\n",
       "\t AluSx1   & 184 & 24 & 187 & 25 & 0.648536754798615  & 0\\\\\n",
       "\t AluSz    & 181 & 18 & 189 & 20 & 0.797821215079303  & 0\\\\\n",
       "\t AluSp    & 138 & 20 & 139 & 21 & 0.848920863309353  & 0\\\\\n",
       "\t AluSz6   & 119 & 15 & 126 & 18 & 0.940196538819823  & 0\\\\\n",
       "\t AluJb    & 182 & 22 & 202 & 28 & 0.96027037586436   & 0\\\\\n",
       "\t AluSx4   & 17  & 1  & 21  & 4  & 0.988471177944862  & 0\\\\\n",
       "\\end{tabular}\n"
      ],
      "text/markdown": [
       "\n",
       "A matrix: 23 × 7 of type chr\n",
       "\n",
       "| Alu | CountAS | CountSB | TotalAS | TotalSB | PVal | FDR |\n",
       "|---|---|---|---|---|---|---|\n",
       "| AluJo    | 98  | 14 | 130 | 14 | 0                  | 0 |\n",
       "| AluSc    | 78  | 9  | 79  | 9  | 0                  | 0 |\n",
       "| AluSc8   | 54  | 8  | 57  | 8  | 0                  | 0 |\n",
       "| AluSg    | 90  | 8  | 90  | 8  | 0                  | 0 |\n",
       "| AluSg4   | 17  | 1  | 17  | 1  | 0                  | 0 |\n",
       "| AluSg7   | 23  | 3  | 24  | 3  | 0                  | 0 |\n",
       "| AluSq    | 52  | 12 | 53  | 12 | 0                  | 0 |\n",
       "| AluSq2   | 136 | 16 | 137 | 16 | 0                  | 0 |\n",
       "| AluSq4   | 4   | 2  | 4   | 2  | 0                  | 0 |\n",
       "| AluYf1   | 7   | 2  | 8   | 2  | 0                  | 0 |\n",
       "| AluYh3a3 | 7   | 1  | 7   | 1  | 0                  | 0 |\n",
       "| AluJr4   | 32  | 5  | 57  | 6  | 0.0249720488052166 | 0 |\n",
       "| AluJr    | 106 | 21 | 136 | 24 | 0.0574043627525298 | 0 |\n",
       "| AluY     | 82  | 14 | 162 | 26 | 0.283632118539766  | 0 |\n",
       "| AluSx3   | 69  | 15 | 74  | 16 | 0.284448639262454  | 0 |\n",
       "| AluSx    | 227 | 34 | 242 | 36 | 0.314451287126713  | 0 |\n",
       "| AluSc5   | 16  | 2  | 21  | 3  | 0.421052631578947  | 0 |\n",
       "| AluSx1   | 184 | 24 | 187 | 25 | 0.648536754798615  | 0 |\n",
       "| AluSz    | 181 | 18 | 189 | 20 | 0.797821215079303  | 0 |\n",
       "| AluSp    | 138 | 20 | 139 | 21 | 0.848920863309353  | 0 |\n",
       "| AluSz6   | 119 | 15 | 126 | 18 | 0.940196538819823  | 0 |\n",
       "| AluJb    | 182 | 22 | 202 | 28 | 0.96027037586436   | 0 |\n",
       "| AluSx4   | 17  | 1  | 21  | 4  | 0.988471177944862  | 0 |\n",
       "\n"
      ],
      "text/plain": [
       "      Alu      CountAS CountSB TotalAS TotalSB PVal               FDR\n",
       " [1,] AluJo    98      14      130     14      0                  0  \n",
       " [2,] AluSc    78      9       79      9       0                  0  \n",
       " [3,] AluSc8   54      8       57      8       0                  0  \n",
       " [4,] AluSg    90      8       90      8       0                  0  \n",
       " [5,] AluSg4   17      1       17      1       0                  0  \n",
       " [6,] AluSg7   23      3       24      3       0                  0  \n",
       " [7,] AluSq    52      12      53      12      0                  0  \n",
       " [8,] AluSq2   136     16      137     16      0                  0  \n",
       " [9,] AluSq4   4       2       4       2       0                  0  \n",
       "[10,] AluYf1   7       2       8       2       0                  0  \n",
       "[11,] AluYh3a3 7       1       7       1       0                  0  \n",
       "[12,] AluJr4   32      5       57      6       0.0249720488052166 0  \n",
       "[13,] AluJr    106     21      136     24      0.0574043627525298 0  \n",
       "[14,] AluY     82      14      162     26      0.283632118539766  0  \n",
       "[15,] AluSx3   69      15      74      16      0.284448639262454  0  \n",
       "[16,] AluSx    227     34      242     36      0.314451287126713  0  \n",
       "[17,] AluSc5   16      2       21      3       0.421052631578947  0  \n",
       "[18,] AluSx1   184     24      187     25      0.648536754798615  0  \n",
       "[19,] AluSz    181     18      189     20      0.797821215079303  0  \n",
       "[20,] AluSp    138     20      139     21      0.848920863309353  0  \n",
       "[21,] AluSz6   119     15      126     18      0.940196538819823  0  \n",
       "[22,] AluJb    182     22      202     28      0.96027037586436   0  \n",
       "[23,] AluSx4   17      1       21      4       0.988471177944862  0  "
      ]
     },
     "metadata": {},
     "output_type": "display_data"
    }
   ],
   "source": [
    "alu.esr.enrich[order(alu.esr.enrich[,'PVal']),]"
   ]
  },
  {
   "cell_type": "code",
   "execution_count": 51,
   "metadata": {},
   "outputs": [
    {
     "name": "stdout",
     "output_type": "stream",
     "text": [
      "AluSc \n",
      "   78 \n"
     ]
    }
   ],
   "source": [
    "\n",
    "cur.cat='AluSc'\n",
    " \n",
    "  \n",
    "  count.sb<-sb.esr.tab[cur.cat]\n",
    "  \n",
    "  count.as<-alu.types[cur.cat]\n",
    "  \n",
    "  pval<-(phyper(q=count.sb, m=count.as, n=all.events.per.alu[cur.cat]-count.as, k=sb.events.per.alu[cur.cat],log.p = T,lower.tail = F))\n",
    "  \n",
    "print(count.as)"
   ]
  },
  {
   "cell_type": "code",
   "execution_count": null,
   "metadata": {},
   "outputs": [],
   "source": []
  },
  {
   "cell_type": "code",
   "execution_count": null,
   "metadata": {},
   "outputs": [],
   "source": []
  },
  {
   "cell_type": "code",
   "execution_count": 35,
   "metadata": {
    "collapsed": true,
    "jupyter": {
     "outputs_hidden": true
    }
   },
   "outputs": [
    {
     "data": {
      "text/plain": [
       "\n",
       "   AluJb    AluJo    AluJr   AluJr4    AluSc   AluSc5   AluSc8    AluSg \n",
       "     182       98      106       32       78       16       54       90 \n",
       "  AluSg4   AluSg7    AluSp    AluSq  AluSq10   AluSq2   AluSq4    AluSx \n",
       "      17       23      138       52        5      136        4      227 \n",
       "  AluSx1   AluSx3   AluSx4    AluSz   AluSz6     AluY   AluYb8    AluYc \n",
       "     184       69       17      181      119       82        1        1 \n",
       "  AluYf1 AluYh3a3   AluYj4  AluYk11 \n",
       "       7        7        1        1 "
      ]
     },
     "metadata": {},
     "output_type": "display_data"
    }
   ],
   "source": [
    "alu.types"
   ]
  },
  {
   "cell_type": "code",
   "execution_count": null,
   "metadata": {},
   "outputs": [],
   "source": []
  }
 ],
 "metadata": {
  "kernelspec": {
   "display_name": "R",
   "language": "R",
   "name": "ir"
  },
  "language_info": {
   "codemirror_mode": "r",
   "file_extension": ".r",
   "mimetype": "text/x-r-source",
   "name": "R",
   "pygments_lexer": "r",
   "version": "3.6.2"
  },
  "toc-showcode": false
 },
 "nbformat": 4,
 "nbformat_minor": 4
}
