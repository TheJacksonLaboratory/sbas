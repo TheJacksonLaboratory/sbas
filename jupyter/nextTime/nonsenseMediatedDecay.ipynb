{
 "cells": [
  {
   "cell_type": "markdown",
   "metadata": {},
   "source": [
    "# Nonsense-mediated decay in sex-biased alternative splicing"
   ]
  },
  {
   "cell_type": "markdown",
   "metadata": {},
   "source": [
    "This notebook uses **gencode.v30.annotation.gtf** and the associated genome assembly **GRCH30.p12.genome.fa** and the **fromGTF.SE.txt** file from the rMATS 3.2.5 experiment to generate a single output file **NMD_summary.txt**"
   ]
  },
  {
   "cell_type": "markdown",
   "metadata": {},
   "source": [
    "## 1. Library Dependencies"
   ]
  },
  {
   "cell_type": "code",
   "execution_count": 1,
   "metadata": {},
   "outputs": [],
   "source": [
    "suppressWarnings({suppressMessages({\n",
    "library(Biostrings)\n",
    "library(rtracklayer)\n",
    "})})"
   ]
  },
  {
   "cell_type": "markdown",
   "metadata": {},
   "source": [
    "## 1.1 Obtain the appropriate genome assembly \n",
    "\n",
    "The rMATS 3.2.5 experiment was done with gencode v.30.  Using this release obtain the proper fasta file for the genome.   \n",
    "\n",
    "ftp://ftp.ebi.ac.uk/pub/databases/gencode/Gencode_human/release_30/GRCh38.p12.genome.fa.gz"
   ]
  },
  {
   "cell_type": "code",
   "execution_count": 2,
   "metadata": {},
   "outputs": [],
   "source": [
    "if (!(\"GRCh38.p12.genome.fa.gz\" %in% list.files(\"../data/\"))) {\n",
    "    message(\"downloading genome assembly associated with the Gencode release 30 - GRCh38.p12.genome.fa.gzn\")\n",
    "    system(\"wget -O ../data/GRCh38.p12.genome.fa.gz ftp://ftp.ebi.ac.uk/pub/databases/gencode/Gencode_human/release_30/GRCh38.p12.genome.fa.gz\")\n",
    "    message(\"Done!\\n\")\n",
    "    message(\"Unzipping compressed file GRCh38.p12.genome.fa.gz..\")\n",
    "    system(\"gunzip ../data/GRCh38.p12.genome.fa.gz\", intern = TRUE)\n",
    "    message(\"Done! GRCh38.p12.genome.fa can be found in ../data/\")\n",
    "}\n",
    "fasta.file <- \"../data/GRCh38.p12.genome.fa\""
   ]
  },
  {
   "cell_type": "markdown",
   "metadata": {},
   "source": [
    "## 1.2 Obtain the gencode.v30.gtf file\n",
    "\n",
    "gencode.v30.annotation.gtf file was used for the rMATS 3.2.5 experiment.  "
   ]
  },
  {
   "cell_type": "code",
   "execution_count": 3,
   "metadata": {},
   "outputs": [],
   "source": [
    "#\n",
    "# add chr information for summary data later, use the annotation we used for rMATS\n",
    "#\n",
    "if (!(\"gencode.v30.annotation.gtf.gz\" %in% list.files(\"../data/\"))) {\n",
    "    message(\"downloading gencode v30 annotation\\n\")\n",
    "    system(\"wget -O ../data/gencode.v30.annotation.gtf.gz ftp://ftp.ebi.ac.uk/pub/databases/gencode/Gencode_human/release_30/gencode.v30.annotation.gtf.gz\")\n",
    "    message(\"Done!\\n\")\n",
    "    message(\"Unzipping compressed file gencode.v30.annotation.gtf.gz..\")\n",
    "    system(\"gunzip ../data/gencode.v30.annotation.gtf.gz\", intern = TRUE)\n",
    "    message(\"Done! gencode.v30.annotation.gtf can be found in ../data/\")\n",
    "}"
   ]
  },
  {
   "cell_type": "markdown",
   "metadata": {},
   "source": [
    "### 1.3 Creating the internal datastructure for gencode file\n",
    "\n",
    "Attempting to use rtracklayer::import rearranges the gtf file causing issues with the using gffread and other applications.   A shortcoming of this application is this rearrangement.  Subsequently, using just read.table to avoid these rearrangements."
   ]
  },
  {
   "cell_type": "code",
   "execution_count": 4,
   "metadata": {},
   "outputs": [
    {
     "data": {
      "text/html": [
       "<table>\n",
       "<caption>A data.frame: 2 × 9</caption>\n",
       "<thead>\n",
       "\t<tr><th></th><th scope=col>chr</th><th scope=col>source</th><th scope=col>type</th><th scope=col>start</th><th scope=col>end</th><th scope=col>V6</th><th scope=col>strand</th><th scope=col>V8</th><th scope=col>V9</th></tr>\n",
       "\t<tr><th></th><th scope=col>&lt;fct&gt;</th><th scope=col>&lt;fct&gt;</th><th scope=col>&lt;fct&gt;</th><th scope=col>&lt;int&gt;</th><th scope=col>&lt;int&gt;</th><th scope=col>&lt;fct&gt;</th><th scope=col>&lt;fct&gt;</th><th scope=col>&lt;fct&gt;</th><th scope=col>&lt;fct&gt;</th></tr>\n",
       "</thead>\n",
       "<tbody>\n",
       "\t<tr><th scope=row>1</th><td>chr1</td><td>HAVANA</td><td>gene      </td><td>11869</td><td>14409</td><td>.</td><td>+</td><td>.</td><td>gene_id \"ENSG00000223972.5\"; gene_type \"transcribed_unprocessed_pseudogene\"; gene_name \"DDX11L1\"; level 2; havana_gene \"OTTHUMG00000000961.2\";                                                                                                                                                                                               </td></tr>\n",
       "\t<tr><th scope=row>2</th><td>chr1</td><td>HAVANA</td><td>transcript</td><td>11869</td><td>14409</td><td>.</td><td>+</td><td>.</td><td>gene_id \"ENSG00000223972.5\"; transcript_id \"ENST00000456328.2\"; gene_type \"transcribed_unprocessed_pseudogene\"; gene_name \"DDX11L1\"; transcript_type \"processed_transcript\"; transcript_name \"DDX11L1-202\"; level 2; transcript_support_level \"1\"; tag \"basic\"; havana_gene \"OTTHUMG00000000961.2\"; havana_transcript \"OTTHUMT00000362751.1\";</td></tr>\n",
       "</tbody>\n",
       "</table>\n"
      ],
      "text/latex": [
       "A data.frame: 2 × 9\n",
       "\\begin{tabular}{r|lllllllll}\n",
       "  & chr & source & type & start & end & V6 & strand & V8 & V9\\\\\n",
       "  & <fct> & <fct> & <fct> & <int> & <int> & <fct> & <fct> & <fct> & <fct>\\\\\n",
       "\\hline\n",
       "\t1 & chr1 & HAVANA & gene       & 11869 & 14409 & . & + & . & gene\\_id \"ENSG00000223972.5\"; gene\\_type \"transcribed\\_unprocessed\\_pseudogene\"; gene\\_name \"DDX11L1\"; level 2; havana\\_gene \"OTTHUMG00000000961.2\";                                                                                                                                                                                               \\\\\n",
       "\t2 & chr1 & HAVANA & transcript & 11869 & 14409 & . & + & . & gene\\_id \"ENSG00000223972.5\"; transcript\\_id \"ENST00000456328.2\"; gene\\_type \"transcribed\\_unprocessed\\_pseudogene\"; gene\\_name \"DDX11L1\"; transcript\\_type \"processed\\_transcript\"; transcript\\_name \"DDX11L1-202\"; level 2; transcript\\_support\\_level \"1\"; tag \"basic\"; havana\\_gene \"OTTHUMG00000000961.2\"; havana\\_transcript \"OTTHUMT00000362751.1\";\\\\\n",
       "\\end{tabular}\n"
      ],
      "text/markdown": [
       "\n",
       "A data.frame: 2 × 9\n",
       "\n",
       "| <!--/--> | chr &lt;fct&gt; | source &lt;fct&gt; | type &lt;fct&gt; | start &lt;int&gt; | end &lt;int&gt; | V6 &lt;fct&gt; | strand &lt;fct&gt; | V8 &lt;fct&gt; | V9 &lt;fct&gt; |\n",
       "|---|---|---|---|---|---|---|---|---|---|\n",
       "| 1 | chr1 | HAVANA | gene       | 11869 | 14409 | . | + | . | gene_id \"ENSG00000223972.5\"; gene_type \"transcribed_unprocessed_pseudogene\"; gene_name \"DDX11L1\"; level 2; havana_gene \"OTTHUMG00000000961.2\";                                                                                                                                                                                                |\n",
       "| 2 | chr1 | HAVANA | transcript | 11869 | 14409 | . | + | . | gene_id \"ENSG00000223972.5\"; transcript_id \"ENST00000456328.2\"; gene_type \"transcribed_unprocessed_pseudogene\"; gene_name \"DDX11L1\"; transcript_type \"processed_transcript\"; transcript_name \"DDX11L1-202\"; level 2; transcript_support_level \"1\"; tag \"basic\"; havana_gene \"OTTHUMG00000000961.2\"; havana_transcript \"OTTHUMT00000362751.1\"; |\n",
       "\n"
      ],
      "text/plain": [
       "  chr  source type       start end   V6 strand V8\n",
       "1 chr1 HAVANA gene       11869 14409 .  +      . \n",
       "2 chr1 HAVANA transcript 11869 14409 .  +      . \n",
       "  V9                                                                                                                                                                                                                                                                                                                                           \n",
       "1 gene_id \"ENSG00000223972.5\"; gene_type \"transcribed_unprocessed_pseudogene\"; gene_name \"DDX11L1\"; level 2; havana_gene \"OTTHUMG00000000961.2\";                                                                                                                                                                                               \n",
       "2 gene_id \"ENSG00000223972.5\"; transcript_id \"ENST00000456328.2\"; gene_type \"transcribed_unprocessed_pseudogene\"; gene_name \"DDX11L1\"; transcript_type \"processed_transcript\"; transcript_name \"DDX11L1-202\"; level 2; transcript_support_level \"1\"; tag \"basic\"; havana_gene \"OTTHUMG00000000961.2\"; havana_transcript \"OTTHUMT00000362751.1\";"
      ]
     },
     "metadata": {},
     "output_type": "display_data"
    }
   ],
   "source": [
    "annotation.gtf <- read.table(\"../data/gencode.v30.annotation.gtf\",sep='\\t',quote=\"\")\n",
    "colnames(annotation.gtf) <- c(\"chr\", \"source\",\"type\",\"start\",\"end\",\"V6\",\"strand\",\"V8\",\"V9\")\n",
    "head(annotation.gtf,2)"
   ]
  },
  {
   "cell_type": "markdown",
   "metadata": {},
   "source": [
    "## 1.3 Import the rMATS 3.2.5 fromGTF definition file"
   ]
  },
  {
   "cell_type": "code",
   "execution_count": 5,
   "metadata": {},
   "outputs": [
    {
     "data": {
      "text/html": [
       "<table>\n",
       "<caption>A data.frame: 2 × 11</caption>\n",
       "<thead>\n",
       "\t<tr><th></th><th scope=col>ID</th><th scope=col>GeneID</th><th scope=col>geneSymbol</th><th scope=col>chr</th><th scope=col>strand</th><th scope=col>exonStart_0base</th><th scope=col>exonEnd</th><th scope=col>upstreamES</th><th scope=col>upstreamEE</th><th scope=col>downstreamES</th><th scope=col>downstreamEE</th></tr>\n",
       "\t<tr><th></th><th scope=col>&lt;int&gt;</th><th scope=col>&lt;chr&gt;</th><th scope=col>&lt;chr&gt;</th><th scope=col>&lt;chr&gt;</th><th scope=col>&lt;chr&gt;</th><th scope=col>&lt;int&gt;</th><th scope=col>&lt;int&gt;</th><th scope=col>&lt;int&gt;</th><th scope=col>&lt;int&gt;</th><th scope=col>&lt;int&gt;</th><th scope=col>&lt;int&gt;</th></tr>\n",
       "</thead>\n",
       "<tbody>\n",
       "\t<tr><th scope=row>1</th><td>1</td><td>ENSG00000034152.18</td><td>MAP2K3</td><td>chr17</td><td>+</td><td>21287990</td><td>21288091</td><td>21284709</td><td>21284969</td><td>21295674</td><td>21295769</td></tr>\n",
       "\t<tr><th scope=row>2</th><td>2</td><td>ENSG00000034152.18</td><td>MAP2K3</td><td>chr17</td><td>+</td><td>21303182</td><td>21303234</td><td>21302142</td><td>21302259</td><td>21304425</td><td>21304553</td></tr>\n",
       "</tbody>\n",
       "</table>\n"
      ],
      "text/latex": [
       "A data.frame: 2 × 11\n",
       "\\begin{tabular}{r|lllllllllll}\n",
       "  & ID & GeneID & geneSymbol & chr & strand & exonStart\\_0base & exonEnd & upstreamES & upstreamEE & downstreamES & downstreamEE\\\\\n",
       "  & <int> & <chr> & <chr> & <chr> & <chr> & <int> & <int> & <int> & <int> & <int> & <int>\\\\\n",
       "\\hline\n",
       "\t1 & 1 & ENSG00000034152.18 & MAP2K3 & chr17 & + & 21287990 & 21288091 & 21284709 & 21284969 & 21295674 & 21295769\\\\\n",
       "\t2 & 2 & ENSG00000034152.18 & MAP2K3 & chr17 & + & 21303182 & 21303234 & 21302142 & 21302259 & 21304425 & 21304553\\\\\n",
       "\\end{tabular}\n"
      ],
      "text/markdown": [
       "\n",
       "A data.frame: 2 × 11\n",
       "\n",
       "| <!--/--> | ID &lt;int&gt; | GeneID &lt;chr&gt; | geneSymbol &lt;chr&gt; | chr &lt;chr&gt; | strand &lt;chr&gt; | exonStart_0base &lt;int&gt; | exonEnd &lt;int&gt; | upstreamES &lt;int&gt; | upstreamEE &lt;int&gt; | downstreamES &lt;int&gt; | downstreamEE &lt;int&gt; |\n",
       "|---|---|---|---|---|---|---|---|---|---|---|---|\n",
       "| 1 | 1 | ENSG00000034152.18 | MAP2K3 | chr17 | + | 21287990 | 21288091 | 21284709 | 21284969 | 21295674 | 21295769 |\n",
       "| 2 | 2 | ENSG00000034152.18 | MAP2K3 | chr17 | + | 21303182 | 21303234 | 21302142 | 21302259 | 21304425 | 21304553 |\n",
       "\n"
      ],
      "text/plain": [
       "  ID GeneID             geneSymbol chr   strand exonStart_0base exonEnd \n",
       "1 1  ENSG00000034152.18 MAP2K3     chr17 +      21287990        21288091\n",
       "2 2  ENSG00000034152.18 MAP2K3     chr17 +      21303182        21303234\n",
       "  upstreamES upstreamEE downstreamES downstreamEE\n",
       "1 21284709   21284969   21295674     21295769    \n",
       "2 21302142   21302259   21304425     21304553    "
      ]
     },
     "metadata": {},
     "output_type": "display_data"
    }
   ],
   "source": [
    "from.gtf <- read.table(file = \"../data/fromGTF.SE.txt\", sep = \"\\t\", quote = \"\\\"\", header = T, stringsAsFactors = F)\n",
    "head(from.gtf,2)"
   ]
  },
  {
   "cell_type": "markdown",
   "metadata": {},
   "source": [
    "## 1.4 Create the matrix for the Nonsense mediated decay results"
   ]
  },
  {
   "cell_type": "code",
   "execution_count": 6,
   "metadata": {},
   "outputs": [],
   "source": [
    "res<-matrix(c(rep(0,nrow(from.gtf)),rep(0,nrow(from.gtf)),rep('',nrow(from.gtf))),ncol=3)\n",
    "colnames(res)<-c('num.nmd','num.transcripts','nmd.ids')"
   ]
  },
  {
   "cell_type": "markdown",
   "metadata": {},
   "source": [
    "## 2.0 Main program to obtain the NMD_summary.txt"
   ]
  },
  {
   "cell_type": "code",
   "execution_count": null,
   "metadata": {},
   "outputs": [
    {
     "name": "stderr",
     "output_type": "stream",
     "text": [
      " dim (cur.gtf) before removing chrY \n",
      "\n"
     ]
    },
    {
     "data": {
      "text/html": [
       "<style>\n",
       ".list-inline {list-style: none; margin:0; padding: 0}\n",
       ".list-inline>li {display: inline-block}\n",
       ".list-inline>li:not(:last-child)::after {content: \"\\00b7\"; padding: 0 .5ex}\n",
       "</style>\n",
       "<ol class=list-inline><li>2774299</li><li>9</li></ol>\n"
      ],
      "text/latex": [
       "\\begin{enumerate*}\n",
       "\\item 2774299\n",
       "\\item 9\n",
       "\\end{enumerate*}\n"
      ],
      "text/markdown": [
       "1. 2774299\n",
       "2. 9\n",
       "\n",
       "\n"
      ],
      "text/plain": [
       "[1] 2774299       9"
      ]
     },
     "metadata": {},
     "output_type": "display_data"
    },
    {
     "name": "stderr",
     "output_type": "stream",
     "text": [
      "dim (annotation.gtf) without chrY \n",
      "\n"
     ]
    },
    {
     "data": {
      "text/html": [
       "<style>\n",
       ".list-inline {list-style: none; margin:0; padding: 0}\n",
       ".list-inline>li {display: inline-block}\n",
       ".list-inline>li:not(:last-child)::after {content: \"\\00b7\"; padding: 0 .5ex}\n",
       "</style>\n",
       "<ol class=list-inline><li>2764741</li><li>9</li></ol>\n"
      ],
      "text/latex": [
       "\\begin{enumerate*}\n",
       "\\item 2764741\n",
       "\\item 9\n",
       "\\end{enumerate*}\n"
      ],
      "text/markdown": [
       "1. 2764741\n",
       "2. 9\n",
       "\n",
       "\n"
      ],
      "text/plain": [
       "[1] 2764741       9"
      ]
     },
     "metadata": {},
     "output_type": "display_data"
    },
    {
     "name": "stderr",
     "output_type": "stream",
     "text": [
      "looking at chr -> chr17\n",
      "\n"
     ]
    }
   ],
   "source": [
    "finished=0\n",
    "\n",
    "message(\" dim (cur.gtf) before removing chrY \")\n",
    "dim(annotation.gtf)\n",
    "\n",
    "# chromosome Y excluded from analysis\n",
    "annotation.gtf <- annotation.gtf[annotation.gtf$chr != \"chrY\", ]\n",
    "message(\"dim (annotation.gtf) without chrY \")\n",
    "dim(annotation.gtf)\n",
    "\n",
    "# loop through one chromosome at a time through the fromGTF.SE.txt file from rMATS 3.2.5\n",
    "for (chr in as.character(unique(from.gtf$chr))) {\n",
    "    message(\"looking at chr -> \", chr)\n",
    "    #\n",
    "    # read in the reference genome and limit it chr of interest\n",
    "    #\n",
    "    cur.gtf      <- annotation.gtf[annotation.gtf$chr == chr, ] \n",
    "\n",
    "    #\n",
    "    # iterate over the current fromGTF (also limited to chr of interest)\n",
    "    #\n",
    "    for (exon.itr in ((1:nrow(from.gtf))[from.gtf$chr==chr])) {\n",
    " \n",
    "        #\n",
    "        # only consider those transcripts in the reference that match the exon of interest\n",
    "        #\n",
    "        exon.rows <- which((cur.gtf$start== from.gtf$exonStart_0base[exon.itr]+1) & \n",
    "                           (cur.gtf$end  == from.gtf$exonEnd        [exon.itr]) & \n",
    "                            cur.gtf$type == 'exon')\n",
    "        \n",
    "        for (exon.row in exon.rows) {\n",
    "            transcript.first.row <- max (which((cur.gtf$type   =='transcript') & \n",
    "                                               ((1:nrow(cur.gtf)) < exon.row)  ))\n",
    "            \n",
    "            #\n",
    "            #  make sure we are still in the set of transcripts\n",
    "            #  that contain our exon of interest\n",
    "            #\n",
    "            if (sum((cur.gtf$type %in% c('transcript','gene')) & \n",
    "                    ((1:nrow(cur.gtf)) > exon.row)  )==0) {\n",
    "                transcript.last.row <- nrow(cur.gtf)\n",
    "            #\n",
    "            #  else we have advanced and we take the \n",
    "            \n",
    "            } else {\n",
    "                transcript.last.row <- min(which((cur.gtf$type %in% c('transcript','gene')) & \n",
    "                                                 ((1:nrow(cur.gtf)) > exon.row)  ))-1\n",
    "            }\n",
    "      \n",
    "            out.gtf<-cur.gtf[transcript.first.row:transcript.last.row,]\n",
    "    \n",
    "            #\n",
    "            # if we have captured the upstream or downstream exon no nonsense mediated decay\n",
    "            #\n",
    "            if (sum(c(sum((out.gtf$start == from.gtf$upstreamES[exon.itr]+1) & \n",
    "                           out.gtf$end   == from.gtf$upstreamEE[exon.itr])>0, \n",
    "      \n",
    "                      sum((out.gtf$start == from.gtf$downstreamES[exon.itr]+1) & \n",
    "                           out.gtf$end   == from.gtf$downstreamEE[exon.itr])>0))<2)\n",
    "        \n",
    "            next\n",
    "            \n",
    "            #\n",
    "            # if the sum of the transcript types we have captured is coding for less than 3\n",
    "            #  move on ? Not sure I get why\n",
    "            #\n",
    "            if (sum(out.gtf$type=='CDS')<3)\n",
    "            next\n",
    "      \n",
    "            write.table(out.gtf,\"../data/transcript.gtf\",sep='\\t',col.names = FALSE,\n",
    "                        row.names = FALSE, quote = FALSE)\n",
    "        \n",
    "            command <- paste0('gffread ../data/transcript.gtf -g ../data/GRCh38.p12.genome.fa -y ../data/gene.fa')\n",
    "            system(command)       \n",
    "            seq<-readAAStringSet('../data/gene.fa')\n",
    "        \n",
    "            if (length(seq)==0)\n",
    "                next\n",
    "        \n",
    "            l.inc<-length(seq[[1]])\n",
    "        \n",
    "            out.gtf <- out.gtf [(out.gtf$start != (from.gtf$exonStart_0base[exon.itr]+1)) & \n",
    "                                (out.gtf$end   != (from.gtf$exonEnd[exon.itr])),]\n",
    "        \n",
    "            write.table(out.gtf,\"../data/transcript.gtf\",sep='\\t',col.names = FALSE,\n",
    "                        row.names = FALSE,quote = FALSE)\n",
    "        \n",
    "            command <- paste0('gffread ../data/transcript.gtf -g ../data/GRCh38.p12.genome.fa -y ../data/gene.fa')\n",
    "            system(command)       \n",
    "            seq<-readAAStringSet('../data/gene.fa')\n",
    "        \n",
    "            l.skip<-length(seq[[1]])\n",
    "             \n",
    "            #\n",
    "            # NMD test - if it the transcript is shortened by 1/3, it is considered NMD\n",
    "            # \n",
    "            skip.exon.aa.length <- (from.gtf$exonEnd[exon.itr] - (from.gtf$exonStart_0base[exon.itr]+1))/3\n",
    "        \n",
    "            res[exon.itr,2] <- as.integer(res[exon.itr,2])+1\n",
    "        \n",
    "            if (l.inc<(l.skip+skip.exon.aa.length-1)) {\n",
    "                res[exon.itr,1] <- as.integer(res[exon.itr,1])+1\n",
    "                res[exon.itr,3] <- paste(res[exon.itr,3],cur.gtf$gene_id,sep='***')\n",
    "            }\n",
    "            \n",
    "        } # end for (exon.row in exon.rows) \n",
    "    } # end for (exon.itr in ((nrow(chrfromGTF))[chrfromGTF$chr==chr])){\n",
    "    \n",
    "    finished<-finished+sum(from.gtf$chr==chr)\n",
    "  \n",
    "    message(paste0(\"Finished: \",finished))\n",
    "  \n",
    "} # for (chr in as.character(unique(chrfromGTF$chr))) "
   ]
  },
  {
   "cell_type": "markdown",
   "metadata": {},
   "source": [
    "## 3.0 write out **NMD_summary.txt**"
   ]
  },
  {
   "cell_type": "code",
   "execution_count": null,
   "metadata": {},
   "outputs": [],
   "source": [
    "write.table(res,\"../data/NMD_summary.txt\",sep='\\t',row.names = TRUE,col.names = TRUE,quote = FALSE)"
   ]
  },
  {
   "cell_type": "markdown",
   "metadata": {},
   "source": [
    "## Appendix - Metadata\n",
    "\n",
    "For replicability and reproducibility purposes, we also print the following metadata:\n",
    "\n",
    "1. Checksums of **'artefacts'**, files generated during the analysis and stored in the folder directory **`data`**\n",
    "2. List of environment metadata, dependencies, versions of libraries using `conda list`"
   ]
  },
  {
   "cell_type": "markdown",
   "metadata": {},
   "source": [
    "### Appendix - 1. Checksums with the sha256 algorithm"
   ]
  },
  {
   "cell_type": "code",
   "execution_count": null,
   "metadata": {},
   "outputs": [],
   "source": [
    "notebook_id = \"nonsenseMediatedDecay\"\n",
    "os.system(\"echo true\")\n",
    "\n",
    "print(\"Generating sha256 checksums of the artefacts in the `..data/` directory .. \")\n",
    "os.system(f\"cd ../data/ && sha256sum NMD_summary.txt > ../metadata/{notebook_id}_sha256sums.txt\")\n",
    "print(\"Done!\\n\")\n",
    "\n",
    "pd.read_csv(f\"../metadata/{notebook_id}_sha256sums.txt\")"
   ]
  },
  {
   "cell_type": "markdown",
   "metadata": {},
   "source": [
    "### 2. Libraries metadata"
   ]
  },
  {
   "cell_type": "code",
   "execution_count": null,
   "metadata": {},
   "outputs": [],
   "source": [
    "notebook_id = \"nonsenseMediatedDecay\"\n",
    "\n",
    "print(f\"Saving `conda list` packages in ../metadata/{notebook_id}_conda_list.txt  ..\")\n",
    "os.system(f\"conda list > ../metadata/{notebook_id}_conda_list.txt\")\n",
    "print(\"Done!\\n\")"
   ]
  }
 ],
 "metadata": {
  "kernelspec": {
   "display_name": "R",
   "language": "R",
   "name": "ir"
  },
  "language_info": {
   "codemirror_mode": "r",
   "file_extension": ".r",
   "mimetype": "text/x-r-source",
   "name": "R",
   "pygments_lexer": "r",
   "version": "3.6.2"
  }
 },
 "nbformat": 4,
 "nbformat_minor": 4
}
