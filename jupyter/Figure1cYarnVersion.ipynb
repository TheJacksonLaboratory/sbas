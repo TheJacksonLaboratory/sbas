{
 "cells": [
  {
   "cell_type": "markdown",
   "metadata": {},
   "source": [
    "# Figure 1C - YARN Normalization Version"
   ]
  },
  {
   "cell_type": "markdown",
   "metadata": {},
   "source": [
    "Heatplot representing similarity in the fold-changes between male and female samples, with the values in the heatmap being the correlation between the vectors of fold changes of the tissues</b>"
   ]
  },
  {
   "cell_type": "markdown",
   "metadata": {},
   "source": [
    "We downloaded the GTEx version 8.0 RNA-seq and genotype data (phs000424.v8.v2), released 2019-08-26.\n",
    "We used YARN (https://bioconductor.org/packages/release/bioc/html/yarn.html), uploading the downloadGTEx function\n",
    "to download this release, and used it to perform quality control, gene filtering and normalization pre-processing on the\n",
    "GTEx RNA-seq data, as described in (Paulson et al, 2017).   This pipelines tested for sample sex-misidentification, \n",
    "merged related sub-tissues, performed tissue-aware normalization using qsmooth (Hicks et al, 2017)."
   ]
  },
  {
   "cell_type": "code",
   "execution_count": 1,
   "metadata": {},
   "outputs": [
    {
     "name": "stderr",
     "output_type": "stream",
     "text": [
      "Updating HTML index of packages in '.Library'\n",
      "Making 'packages.html' ... done\n"
     ]
    }
   ],
   "source": [
    "if (!requireNamespace(\"BiocManager\", quietly=TRUE))\n",
    "    install.packages(\"BiocManager\")\n",
    "#BiocManager::install(\"yarn\")"
   ]
  },
  {
   "cell_type": "code",
   "execution_count": 2,
   "metadata": {},
   "outputs": [
    {
     "name": "stderr",
     "output_type": "stream",
     "text": [
      "Bioconductor version 3.10 (BiocManager 1.30.10), R 3.6.1 (2019-07-05)\n",
      "Installing package(s) 'BiocVersion', 'downloader'\n",
      "Updating HTML index of packages in '.Library'\n",
      "Making 'packages.html' ... done\n",
      "Old packages: 'backports', 'BH', 'bit', 'blob', 'broom', 'callr', 'caret',\n",
      "  'cli', 'curl', 'data.table', 'DBI', 'devtools', 'digest', 'dplyr',\n",
      "  'ellipsis', 'fansi', 'foreach', 'forecast', 'fracdiff', 'ggplot2', 'gh',\n",
      "  'haven', 'hexbin', 'hms', 'htmltools', 'htmlwidgets', 'httpuv', 'IRkernel',\n",
      "  'jsonlite', 'KernSmooth', 'knitr', 'later', 'lava', 'MASS', 'Matrix', 'mgcv',\n",
      "  'mime', 'ModelMetrics', 'nlme', 'nycflights13', 'pillar', 'pkgbuild',\n",
      "  'pkgconfig', 'plyr', 'prettyunits', 'processx', 'prodlim', 'promises', 'ps',\n",
      "  'purrr', 'quadprog', 'R6', 'Rcpp', 'RcppArmadillo', 'RCurl', 'recipes',\n",
      "  'repr', 'rlang', 'rmarkdown', 'roxygen2', 'RSQLite', 'rstudioapi', 'rvest',\n",
      "  'scales', 'selectr', 'shiny', 'sparklyr', 'SQUAREM', 'stringi', 'survival',\n",
      "  'sys', 'testthat', 'tidyr', 'tidyselect', 'tidyverse', 'tinytex', 'TTR',\n",
      "  'vctrs', 'whisker', 'xfun', 'xts', 'yaml', 'zoo'\n"
     ]
    }
   ],
   "source": [
    "BiocManager::install(\"downloader\")"
   ]
  },
  {
   "cell_type": "code",
   "execution_count": 3,
   "metadata": {},
   "outputs": [
    {
     "name": "stderr",
     "output_type": "stream",
     "text": [
      "Bioconductor version 3.10 (BiocManager 1.30.10), R 3.6.1 (2019-07-05)\n",
      "Installing package(s) 'readr'\n",
      "Updating HTML index of packages in '.Library'\n",
      "Making 'packages.html' ... done\n",
      "Old packages: 'backports', 'BH', 'bit', 'blob', 'broom', 'callr', 'caret',\n",
      "  'cli', 'curl', 'data.table', 'DBI', 'devtools', 'digest', 'dplyr',\n",
      "  'ellipsis', 'fansi', 'foreach', 'forecast', 'fracdiff', 'ggplot2', 'gh',\n",
      "  'haven', 'hexbin', 'hms', 'htmltools', 'htmlwidgets', 'httpuv', 'IRkernel',\n",
      "  'jsonlite', 'KernSmooth', 'knitr', 'later', 'lava', 'MASS', 'Matrix', 'mgcv',\n",
      "  'mime', 'ModelMetrics', 'nlme', 'nycflights13', 'pillar', 'pkgbuild',\n",
      "  'pkgconfig', 'plyr', 'prettyunits', 'processx', 'prodlim', 'promises', 'ps',\n",
      "  'purrr', 'quadprog', 'R6', 'Rcpp', 'RcppArmadillo', 'RCurl', 'recipes',\n",
      "  'repr', 'rlang', 'rmarkdown', 'roxygen2', 'RSQLite', 'rstudioapi', 'rvest',\n",
      "  'scales', 'selectr', 'shiny', 'sparklyr', 'SQUAREM', 'stringi', 'survival',\n",
      "  'sys', 'testthat', 'tidyr', 'tidyselect', 'tidyverse', 'tinytex', 'TTR',\n",
      "  'vctrs', 'whisker', 'xfun', 'xts', 'yaml', 'zoo'\n"
     ]
    }
   ],
   "source": [
    "BiocManager::install(\"readr\")"
   ]
  },
  {
   "cell_type": "code",
   "execution_count": 22,
   "metadata": {},
   "outputs": [
    {
     "name": "stderr",
     "output_type": "stream",
     "text": [
      "Bioconductor version 3.10 (BiocManager 1.30.10), R 3.6.1 (2019-07-05)\n",
      "Installing package(s) 'biomaRt'\n",
      "Updating HTML index of packages in '.Library'\n",
      "Making 'packages.html' ... done\n",
      "Old packages: 'backports', 'BH', 'bit', 'blob', 'broom', 'callr', 'caret',\n",
      "  'cli', 'curl', 'data.table', 'DBI', 'devtools', 'digest', 'dplyr',\n",
      "  'ellipsis', 'fansi', 'foreach', 'forecast', 'fracdiff', 'ggplot2', 'gh',\n",
      "  'haven', 'hexbin', 'hms', 'htmltools', 'htmlwidgets', 'httpuv', 'IRkernel',\n",
      "  'jsonlite', 'KernSmooth', 'knitr', 'later', 'lava', 'MASS', 'Matrix', 'mgcv',\n",
      "  'mime', 'ModelMetrics', 'nlme', 'nycflights13', 'pillar', 'pkgbuild',\n",
      "  'pkgconfig', 'plyr', 'prettyunits', 'processx', 'prodlim', 'promises', 'ps',\n",
      "  'purrr', 'quadprog', 'R6', 'Rcpp', 'RcppArmadillo', 'RCurl', 'recipes',\n",
      "  'repr', 'rlang', 'rmarkdown', 'roxygen2', 'RSQLite', 'rstudioapi', 'rvest',\n",
      "  'scales', 'selectr', 'shiny', 'sparklyr', 'SQUAREM', 'stringi', 'survival',\n",
      "  'sys', 'testthat', 'tidyr', 'tidyselect', 'tidyverse', 'tinytex', 'TTR',\n",
      "  'vctrs', 'whisker', 'xfun', 'xts', 'yaml', 'zoo'\n"
     ]
    }
   ],
   "source": [
    "BiocManager::install(\"biomaRt\")"
   ]
  },
  {
   "cell_type": "code",
   "execution_count": 5,
   "metadata": {},
   "outputs": [
    {
     "name": "stderr",
     "output_type": "stream",
     "text": [
      "also installing the dependencies ‘rex’, ‘crosstalk’, ‘covr’, ‘DT’, ‘ellipsis’, ‘rversions’\n",
      "\n",
      "Updating HTML index of packages in '.Library'\n",
      "Making 'packages.html' ... done\n"
     ]
    }
   ],
   "source": [
    "install.packages(\"devtools\")"
   ]
  },
  {
   "cell_type": "code",
   "execution_count": 6,
   "metadata": {},
   "outputs": [
    {
     "data": {
      "text/html": [
       "'/mnt/shared/ec2-user/session_data/lifebitCloudOSDRE/jupyter'"
      ],
      "text/latex": [
       "'/mnt/shared/ec2-user/session\\_data/lifebitCloudOSDRE/jupyter'"
      ],
      "text/markdown": [
       "'/mnt/shared/ec2-user/session_data/lifebitCloudOSDRE/jupyter'"
      ],
      "text/plain": [
       "[1] \"/mnt/shared/ec2-user/session_data/lifebitCloudOSDRE/jupyter\""
      ]
     },
     "metadata": {},
     "output_type": "display_data"
    }
   ],
   "source": [
    "getwd()"
   ]
  },
  {
   "cell_type": "code",
   "execution_count": 7,
   "metadata": {},
   "outputs": [
    {
     "data": {
      "text/html": [
       "'/mnt/shared/ec2-user/session_data'"
      ],
      "text/latex": [
       "'/mnt/shared/ec2-user/session\\_data'"
      ],
      "text/markdown": [
       "'/mnt/shared/ec2-user/session_data'"
      ],
      "text/plain": [
       "[1] \"/mnt/shared/ec2-user/session_data\""
      ]
     },
     "metadata": {},
     "output_type": "display_data"
    }
   ],
   "source": [
    "setwd(\"../..\")\n",
    "getwd()"
   ]
  },
  {
   "cell_type": "code",
   "execution_count": 13,
   "metadata": {},
   "outputs": [
    {
     "name": "stderr",
     "output_type": "stream",
     "text": [
      "Bioconductor version 3.10 (BiocManager 1.30.10), R 3.6.1 (2019-07-05)\n",
      "Installing package(s) 'biomaRt'\n",
      "also installing the dependencies ‘BiocGenerics’, ‘Biobase’, ‘IRanges’, ‘S4Vectors’, ‘XML’, ‘AnnotationDbi’, ‘BiocFileCache’\n",
      "\n",
      "Updating HTML index of packages in '.Library'\n",
      "Making 'packages.html' ... done\n",
      "Old packages: 'backports', 'BH', 'bit', 'blob', 'broom', 'callr', 'caret',\n",
      "  'cli', 'curl', 'data.table', 'DBI', 'digest', 'dplyr', 'fansi', 'foreach',\n",
      "  'forecast', 'fracdiff', 'ggplot2', 'gh', 'haven', 'hexbin', 'hms',\n",
      "  'htmltools', 'htmlwidgets', 'httpuv', 'IRkernel', 'jsonlite', 'KernSmooth',\n",
      "  'knitr', 'later', 'lava', 'MASS', 'Matrix', 'mgcv', 'mime', 'ModelMetrics',\n",
      "  'nlme', 'nycflights13', 'pillar', 'pkgbuild', 'pkgconfig', 'plyr',\n",
      "  'prettyunits', 'processx', 'prodlim', 'promises', 'ps', 'purrr', 'quadprog',\n",
      "  'R6', 'Rcpp', 'RcppArmadillo', 'RCurl', 'recipes', 'repr', 'rlang',\n",
      "  'rmarkdown', 'roxygen2', 'RSQLite', 'rstudioapi', 'rvest', 'scales',\n",
      "  'selectr', 'shiny', 'sparklyr', 'SQUAREM', 'stringi', 'survival', 'sys',\n",
      "  'testthat', 'tidyr', 'tidyselect', 'tidyverse', 'tinytex', 'TTR', 'vctrs',\n",
      "  'whisker', 'xfun', 'xts', 'yaml', 'zoo'\n"
     ]
    }
   ],
   "source": [
    "#library(\"downloader\")\n",
    "#library(readr)\n",
    "BiocManager::install(\"biomaRt\")\n",
    "library(\"biomaRt\")"
   ]
  },
  {
   "cell_type": "code",
   "execution_count": 14,
   "metadata": {},
   "outputs": [
    {
     "name": "stderr",
     "output_type": "stream",
     "text": [
      "Bioconductor version 3.10 (BiocManager 1.30.10), R 3.6.1 (2019-07-05)\n",
      "Installing package(s) 'devtools'\n",
      "Updating HTML index of packages in '.Library'\n",
      "Making 'packages.html' ... done\n",
      "Old packages: 'backports', 'BH', 'bit', 'blob', 'broom', 'callr', 'caret',\n",
      "  'cli', 'curl', 'data.table', 'DBI', 'digest', 'dplyr', 'fansi', 'foreach',\n",
      "  'forecast', 'fracdiff', 'ggplot2', 'gh', 'haven', 'hexbin', 'hms',\n",
      "  'htmltools', 'htmlwidgets', 'httpuv', 'IRkernel', 'jsonlite', 'KernSmooth',\n",
      "  'knitr', 'later', 'lava', 'MASS', 'Matrix', 'mgcv', 'mime', 'ModelMetrics',\n",
      "  'nlme', 'nycflights13', 'pillar', 'pkgbuild', 'pkgconfig', 'plyr',\n",
      "  'prettyunits', 'processx', 'prodlim', 'promises', 'ps', 'purrr', 'quadprog',\n",
      "  'R6', 'Rcpp', 'RcppArmadillo', 'RCurl', 'recipes', 'repr', 'rlang',\n",
      "  'rmarkdown', 'roxygen2', 'RSQLite', 'rstudioapi', 'rvest', 'scales',\n",
      "  'selectr', 'shiny', 'sparklyr', 'SQUAREM', 'stringi', 'survival', 'sys',\n",
      "  'testthat', 'tidyr', 'tidyselect', 'tidyverse', 'tinytex', 'TTR', 'vctrs',\n",
      "  'whisker', 'xfun', 'xts', 'yaml', 'zoo'\n",
      "Loading required package: usethis\n",
      "\n",
      "Attaching package: ‘devtools’\n",
      "\n",
      "The following object is masked from ‘package:downloader’:\n",
      "\n",
      "    source_url\n",
      "\n"
     ]
    }
   ],
   "source": [
    "BiocManager::install(\"devtools\")\n",
    "library(\"devtools\")"
   ]
  },
  {
   "cell_type": "markdown",
   "metadata": {},
   "source": [
    "Begin here if you have already run this and created the data/gtex.rds file"
   ]
  },
  {
   "cell_type": "markdown",
   "metadata": {},
   "source": [
    "You may need to adjust your working directory -- the data subdirectory is relative to the lifebitCloudOSDRE working directory"
   ]
  },
  {
   "cell_type": "code",
   "execution_count": 27,
   "metadata": {},
   "outputs": [
    {
     "name": "stderr",
     "output_type": "stream",
     "text": [
      "Downloading and reading files\n",
      "Parsed with column specification:\n",
      "cols(\n",
      "  .default = col_double(),\n",
      "  SAMPID = \u001b[31mcol_character()\u001b[39m,\n",
      "  SMCENTER = \u001b[31mcol_character()\u001b[39m,\n",
      "  SMPTHNTS = \u001b[31mcol_character()\u001b[39m,\n",
      "  SMTS = \u001b[31mcol_character()\u001b[39m,\n",
      "  SMTSD = \u001b[31mcol_character()\u001b[39m,\n",
      "  SMUBRID = \u001b[31mcol_character()\u001b[39m,\n",
      "  SMNABTCH = \u001b[31mcol_character()\u001b[39m,\n",
      "  SMNABTCHT = \u001b[31mcol_character()\u001b[39m,\n",
      "  SMNABTCHD = \u001b[31mcol_character()\u001b[39m,\n",
      "  SMGEBTCH = \u001b[31mcol_character()\u001b[39m,\n",
      "  SMGEBTCHD = \u001b[31mcol_character()\u001b[39m,\n",
      "  SMGEBTCHT = \u001b[31mcol_character()\u001b[39m,\n",
      "  SMAFRZE = \u001b[31mcol_character()\u001b[39m,\n",
      "  SMGTC = \u001b[33mcol_logical()\u001b[39m,\n",
      "  SMNUMGPS = \u001b[33mcol_logical()\u001b[39m,\n",
      "  SM550NRM = \u001b[33mcol_logical()\u001b[39m,\n",
      "  SM350NRM = \u001b[33mcol_logical()\u001b[39m,\n",
      "  SMMNCPB = \u001b[33mcol_logical()\u001b[39m,\n",
      "  SMMNCV = \u001b[33mcol_logical()\u001b[39m,\n",
      "  SMCGLGTH = \u001b[33mcol_logical()\u001b[39m\n",
      "  # ... with 2 more columns\n",
      ")\n",
      "See spec(...) for full column specifications.\n",
      "Warning message:\n",
      "“379 parsing failures.\n",
      "  row   col           expected            actual                                       file\n",
      "14837 SMGTC 1/0/T/F/TRUE/FALSE 6293764057_R01C01 '/tmp/Rtmp0DTXRW/phenodat51286d122c0b.txt'\n",
      "14838 SMGTC 1/0/T/F/TRUE/FALSE 7983311048_R05C02 '/tmp/Rtmp0DTXRW/phenodat51286d122c0b.txt'\n",
      "14889 SMGTC 1/0/T/F/TRUE/FALSE 6293764057_R02C01 '/tmp/Rtmp0DTXRW/phenodat51286d122c0b.txt'\n",
      "14938 SMGTC 1/0/T/F/TRUE/FALSE 6293764057_R03C01 '/tmp/Rtmp0DTXRW/phenodat51286d122c0b.txt'\n",
      "14939 SMGTC 1/0/T/F/TRUE/FALSE 7991783154_R01C02 '/tmp/Rtmp0DTXRW/phenodat51286d122c0b.txt'\n",
      "..... ..... .................. ................. ..........................................\n",
      "See problems(...) for more details.\n",
      "”Parsed with column specification:\n",
      "cols(\n",
      "  SUBJID = \u001b[31mcol_character()\u001b[39m,\n",
      "  SEX = \u001b[32mcol_double()\u001b[39m,\n",
      "  AGE = \u001b[31mcol_character()\u001b[39m,\n",
      "  DTHHRDY = \u001b[32mcol_double()\u001b[39m\n",
      ")\n"
     ]
    },
    {
     "ename": "ERROR",
     "evalue": "Error in colnames(counts): object 'counts' not found\n",
     "output_type": "error",
     "traceback": [
      "Error in colnames(counts): object 'counts' not found\nTraceback:\n",
      "1. downloadGTExV8(type = \"genes\", file = \"data/gtex.rds\")",
      "2. colnames(counts)   # at line 21 of file <text>",
      "3. is.data.frame(x)"
     ]
    }
   ],
   "source": [
    "#obj <- downloadGTExV8(type='genes',file='data/gtex.rds')"
   ]
  },
  {
   "cell_type": "code",
   "execution_count": 21,
   "metadata": {},
   "outputs": [],
   "source": [
    "setwd('/mnt/shared/ec2-user/session_data')"
   ]
  },
  {
   "cell_type": "code",
   "execution_count": 22,
   "metadata": {},
   "outputs": [
    {
     "data": {
      "text/html": [
       "'/mnt/shared/ec2-user/session_data'"
      ],
      "text/latex": [
       "'/mnt/shared/ec2-user/session\\_data'"
      ],
      "text/markdown": [
       "'/mnt/shared/ec2-user/session_data'"
      ],
      "text/plain": [
       "[1] \"/mnt/shared/ec2-user/session_data\""
      ]
     },
     "metadata": {},
     "output_type": "display_data"
    }
   ],
   "source": [
    "getwd()"
   ]
  },
  {
   "cell_type": "code",
   "execution_count": null,
   "metadata": {},
   "outputs": [
    {
     "name": "stdout",
     "output_type": "stream",
     "text": [
      "edgeR        (NA        -> 3.26.8  ) [CRAN]\n",
      "gplots       (NA        -> 3.0.1.2 ) [CRAN]\n",
      "limma        (NA        -> 3.40.6  ) [CRAN]\n",
      "matrixStats  (NA        -> 0.55.0  ) [CRAN]\n",
      "preproces... (NA        -> 1.46.0  ) [CRAN]\n",
      "quantro      (NA        -> 1.18.0  ) [CRAN]\n",
      "RCurl        (1.95-4.12 -> 1.98-1.1) [CRAN]\n",
      "digest       (0.6.20    -> 0.6.24  ) [CRAN]\n",
      "locfit       (NA        -> 1.5-9.1 ) [CRAN]\n",
      "Rcpp         (1.0.2     -> 1.0.3   ) [CRAN]\n",
      "gtools       (NA        -> 3.8.1   ) [CRAN]\n",
      "gdata        (NA        -> 2.18.0  ) [CRAN]\n",
      "caTools      (NA        -> 1.18.0  ) [CRAN]\n",
      "KernSmooth   (2.23-15   -> 2.23-16 ) [CRAN]\n",
      "hms          (0.5.0     -> 0.5.3   ) [CRAN]\n",
      "R6           (2.4.0     -> 2.4.1   ) [CRAN]\n",
      "BH           (1.69.0-1  -> 1.72.0-3) [CRAN]\n",
      "minfi        (NA        -> 1.30.0  ) [CRAN]\n",
      "doParallel   (NA        -> 1.0.15  ) [CRAN]\n",
      "foreach      (1.4.7     -> 1.4.8   ) [CRAN]\n",
      "ggplot2      (3.2.0     -> 3.2.1   ) [CRAN]\n",
      "DBI          (1.0.0     -> 1.1.0   ) [CRAN]\n",
      "RSQLite      (2.1.2     -> 2.2.0   ) [CRAN]\n",
      "blob         (1.2.0     -> 1.2.1   ) [CRAN]\n",
      "pkgconfig    (2.0.2     -> 2.0.3   ) [CRAN]\n",
      "bit          (1.1-14    -> 1.1-15.2) [CRAN]\n",
      "rlang        (0.4.0     -> 0.4.4   ) [CRAN]\n",
      "vctrs        (0.2.0     -> 0.2.2   ) [CRAN]\n",
      "prettyunits  (1.0.2     -> 1.1.1   ) [CRAN]\n",
      "stringi      (1.4.3     -> 1.4.5   ) [CRAN]\n",
      "curl         (4.0       -> 4.3     ) [CRAN]\n",
      "jsonlite     (1.6       -> 1.6.1   ) [CRAN]\n",
      "mime         (0.7       -> 0.9     ) [CRAN]\n",
      "sys          (3.2       -> 3.3     ) [CRAN]\n",
      "cli          (1.1.0     -> 2.0.1   ) [CRAN]\n",
      "fansi        (0.4.0     -> 0.4.1   ) [CRAN]\n",
      "pillar       (1.4.2     -> 1.4.3   ) [CRAN]\n",
      "GenomicRa... (NA        -> 1.36.1  ) [CRAN]\n",
      "Summarize... (NA        -> 1.14.1  ) [CRAN]\n",
      "Biostrings   (NA        -> 2.52.0  ) [CRAN]\n",
      "bumphunter   (NA        -> 1.26.0  ) [CRAN]\n",
      "GenomeInfoDb (NA        -> 1.20.0  ) [CRAN]\n",
      "beanplot     (NA        -> 1.2     ) [CRAN]\n",
      "nor1mix      (NA        -> 1.3-0   ) [CRAN]\n",
      "siggenes     (NA        -> 1.58.0  ) [CRAN]\n",
      "illuminaio   (NA        -> 0.26.0  ) [CRAN]\n",
      "DelayedMa... (NA        -> 1.6.1   ) [CRAN]\n",
      "mclust       (NA        -> 5.4.5   ) [CRAN]\n",
      "genefilter   (NA        -> 1.66.0  ) [CRAN]\n",
      "reshape      (NA        -> 0.8.8   ) [CRAN]\n",
      "quadprog     (1.5-7     -> 1.5-8   ) [CRAN]\n",
      "data.table   (1.12.2    -> 1.12.8  ) [CRAN]\n",
      "GEOquery     (NA        -> 2.52.0  ) [CRAN]\n",
      "DelayedArray (NA        -> 0.10.0  ) [CRAN]\n",
      "HDF5Array    (NA        -> 1.12.3  ) [CRAN]\n",
      "BiocParallel (NA        -> 1.18.1  ) [CRAN]\n",
      "futile.lo... (NA        -> 1.4.3   ) [CRAN]\n",
      "snow         (NA        -> 0.4-3   ) [CRAN]\n",
      "XVector      (NA        -> 0.24.0  ) [CRAN]\n",
      "doRNG        (NA        -> 1.8.2   ) [CRAN]\n",
      "GenomicFe... (NA        -> 1.36.4  ) [CRAN]\n",
      "annotate     (NA        -> 1.62.0  ) [CRAN]\n",
      "GenomeInf... (NA        -> 1.2.1   ) [CRAN]\n",
      "dplyr        (0.8.3     -> 0.8.4   ) [CRAN]\n",
      "tidyr        (0.8.3     -> 1.0.2   ) [CRAN]\n",
      "rhdf5        (NA        -> 2.28.1  ) [CRAN]\n",
      "Rhdf5lib     (NA        -> 1.6.3   ) [CRAN]\n",
      "base64       (NA        -> 2.0     ) [CRAN]\n",
      "plyr         (1.8.4     -> 1.8.5   ) [CRAN]\n",
      "multtest     (NA        -> 2.40.0  ) [CRAN]\n",
      "scrime       (NA        -> 1.3.5   ) [CRAN]\n",
      "rngtools     (NA        -> 1.5     ) [CRAN]\n",
      "tidyselect   (0.2.5     -> 1.0.0   ) [CRAN]\n",
      "lambda.r     (NA        -> 1.2.4   ) [CRAN]\n",
      "futile.op... (NA        -> 1.0.1   ) [CRAN]\n",
      "rtracklayer  (NA        -> 1.44.4  ) [CRAN]\n",
      "purrr        (0.3.2     -> 0.3.3   ) [CRAN]\n",
      "lifecycle    (NA        -> 0.1.0   ) [CRAN]\n",
      "zlibbioc     (NA        -> 1.30.0  ) [CRAN]\n",
      "formatR      (NA        -> 1.7     ) [CRAN]\n",
      "Rsamtools    (NA        -> 2.0.3   ) [CRAN]\n",
      "GenomicAl... (NA        -> 1.20.1  ) [CRAN]\n",
      "Rhtslib      (NA        -> 1.16.3  ) [CRAN]\n",
      "scales       (1.0.0     -> 1.1.0   ) [CRAN]\n",
      "farver       (NA        -> 2.0.3   ) [CRAN]\n"
     ]
    },
    {
     "name": "stderr",
     "output_type": "stream",
     "text": [
      "Skipping 6 packages ahead of CRAN: Biobase, biomaRt, BiocGenerics, AnnotationDbi, IRanges, S4Vectors\n",
      "Installing 85 packages: edgeR, gplots, limma, matrixStats, preprocessCore, quantro, RCurl, digest, locfit, Rcpp, gtools, gdata, caTools, KernSmooth, hms, R6, BH, minfi, doParallel, foreach, ggplot2, DBI, RSQLite, blob, pkgconfig, bit, rlang, vctrs, prettyunits, stringi, curl, jsonlite, mime, sys, cli, fansi, pillar, GenomicRanges, SummarizedExperiment, Biostrings, bumphunter, GenomeInfoDb, beanplot, nor1mix, siggenes, illuminaio, DelayedMatrixStats, mclust, genefilter, reshape, quadprog, data.table, GEOquery, DelayedArray, HDF5Array, BiocParallel, futile.logger, snow, XVector, doRNG, GenomicFeatures, annotate, GenomeInfoDbData, dplyr, tidyr, rhdf5, Rhdf5lib, base64, plyr, multtest, scrime, rngtools, tidyselect, lambda.r, futile.options, rtracklayer, purrr, lifecycle, zlibbioc, formatR, Rsamtools, GenomicAlignments, Rhtslib, scales, farver\n"
     ]
    }
   ],
   "source": [
    "install(\"yarn\")\n",
    "library(yarn)"
   ]
  },
  {
   "cell_type": "markdown",
   "metadata": {},
   "source": [
    "This uploaded object is available by long names -- which might be nice to simplify ...."
   ]
  },
  {
   "cell_type": "code",
   "execution_count": 17,
   "metadata": {},
   "outputs": [],
   "source": [
    "obj<-readRDS('/mnt/shared/ec2-user/session_data/mounted-data/lifebit-user-data-84f09c4a-623d-47db-b432-2880ba594b3b/deploit/teams/5db1ce1274081500dffba7b1/users/5c4cced085814700a85f8c7f/dataset/5e3ab72ee3474100f4708b3b/gtex.rds')"
   ]
  },
  {
   "cell_type": "code",
   "execution_count": 18,
   "metadata": {},
   "outputs": [
    {
     "data": {
      "text/plain": [
       "ExpressionSet (storageMode: lockedEnvironment)\n",
       "assayData: 55878 features, 17382 samples \n",
       "  element names: exprs \n",
       "protocolData: none\n",
       "phenoData\n",
       "  rowNames: GTEX-1117F-0226-SM-5GZZ7 GTEX-1117F-0426-SM-5EGHI ...\n",
       "    GTEX-YEC3-1426-101806-SM-5PNXX (17384 total)\n",
       "  varLabels: SAMPID SMATSSCR ... DTHHRDY (67 total)\n",
       "  varMetadata: labelDescription\n",
       "featureData\n",
       "  featureNames: ENSG00000223972.5 ENSG00000227232.5 ...\n",
       "    ENSG00000210196.2 (55878 total)\n",
       "  fvarLabels: ensembl_gene_id hgnc_symbol ... gene_biotype (6 total)\n",
       "  fvarMetadata: labelDescription\n",
       "experimentData: use 'experimentData(object)'\n",
       "Annotation:  "
      ]
     },
     "metadata": {},
     "output_type": "display_data"
    }
   ],
   "source": [
    "obj"
   ]
  },
  {
   "cell_type": "code",
   "execution_count": 20,
   "metadata": {},
   "outputs": [
    {
     "ename": "ERROR",
     "evalue": "Error in phenoData(obj): could not find function \"phenoData\"\n",
     "output_type": "error",
     "traceback": [
      "Error in phenoData(obj): could not find function \"phenoData\"\nTraceback:\n"
     ]
    }
   ],
   "source": [
    "dim(phenoData(obj))"
   ]
  },
  {
   "cell_type": "code",
   "execution_count": null,
   "metadata": {},
   "outputs": [],
   "source": [
    "dim(obj)"
   ]
  },
  {
   "cell_type": "code",
   "execution_count": null,
   "metadata": {},
   "outputs": [],
   "source": [
    "sample_names=as.vector(as.character(colnames(exprs(obj))))\n",
    "head(sample_names)\n",
    "length(sample_names)"
   ]
  },
  {
   "cell_type": "code",
   "execution_count": null,
   "metadata": {},
   "outputs": [],
   "source": [
    "pheno_sample_names=as.vector(as.character(rownames(pData(obj))))\n",
    "head(pheno_sample_names)\n",
    "length(pheno_sample_names)"
   ]
  },
  {
   "cell_type": "markdown",
   "metadata": {},
   "source": [
    "Okay - for some reason our phenotype data is larger than our expression data - I've written Joe Paulson about that.\n",
    "In the meantime, make sure that the two sets are aligned."
   ]
  },
  {
   "cell_type": "code",
   "execution_count": null,
   "metadata": {},
   "outputs": [],
   "source": [
    "logical_match_names=pheno_sample_names %in% sample_names\n",
    "length(logical_match_names)"
   ]
  },
  {
   "cell_type": "code",
   "execution_count": null,
   "metadata": {},
   "outputs": [],
   "source": [
    "table(logical_match_names)\n"
   ]
  },
  {
   "cell_type": "code",
   "execution_count": null,
   "metadata": {},
   "outputs": [],
   "source": [
    "pData(obj) <- (pData(obj)[logical_match_names==TRUE,])"
   ]
  },
  {
   "cell_type": "markdown",
   "metadata": {},
   "source": [
    "Now we want to replace all *dashes* with _underscores_"
   ]
  },
  {
   "cell_type": "code",
   "execution_count": null,
   "metadata": {},
   "outputs": [],
   "source": [
    "newSampID <- gsub('-','\\\\.',pData(obj)$SAMPID)"
   ]
  },
  {
   "cell_type": "code",
   "execution_count": null,
   "metadata": {},
   "outputs": [],
   "source": [
    "head (newSampID)"
   ]
  },
  {
   "cell_type": "code",
   "execution_count": null,
   "metadata": {},
   "outputs": [],
   "source": [
    "pData(obj)$SAMPID <- newSampID"
   ]
  },
  {
   "cell_type": "code",
   "execution_count": null,
   "metadata": {},
   "outputs": [],
   "source": [
    "tissueFactors <- factor(tissues)"
   ]
  },
  {
   "cell_type": "code",
   "execution_count": null,
   "metadata": {},
   "outputs": [],
   "source": [
    "table(tissueFactors)"
   ]
  },
  {
   "cell_type": "code",
   "execution_count": null,
   "metadata": {},
   "outputs": [],
   "source": [
    "# SEX is coded 1 == Male\n",
    "#              2 == Female\n",
    "sex <- pData(obj)$SEX\n",
    "age <- pData(obj)$AGE\n",
    "#cod <- cause of death\n",
    "cod <- pData(obj)$DTHHRDY\n",
    "    "
   ]
  },
  {
   "cell_type": "code",
   "execution_count": null,
   "metadata": {},
   "outputs": [],
   "source": [
    "table(sex)\n",
    "table(age)\n",
    "table(cod)"
   ]
  },
  {
   "cell_type": "markdown",
   "metadata": {},
   "source": [
    "Now let us do the differential analysis - using EdgeR"
   ]
  },
  {
   "cell_type": "code",
   "execution_count": 15,
   "metadata": {},
   "outputs": [
    {
     "name": "stderr",
     "output_type": "stream",
     "text": [
      "Bioconductor version 3.10 (BiocManager 1.30.10), R 3.6.1 (2019-07-05)\n",
      "Installing package(s) 'edgeR'\n",
      "also installing the dependency ‘locfit’\n",
      "\n",
      "Updating HTML index of packages in '.Library'\n",
      "Making 'packages.html' ... done\n",
      "Old packages: 'backports', 'BH', 'bit', 'blob', 'broom', 'callr', 'caret',\n",
      "  'cli', 'curl', 'data.table', 'DBI', 'devtools', 'digest', 'dplyr',\n",
      "  'ellipsis', 'fansi', 'foreach', 'forecast', 'fracdiff', 'ggplot2', 'gh',\n",
      "  'haven', 'hexbin', 'hms', 'htmltools', 'htmlwidgets', 'httpuv', 'IRkernel',\n",
      "  'jsonlite', 'KernSmooth', 'knitr', 'later', 'lava', 'MASS', 'Matrix', 'mgcv',\n",
      "  'mime', 'ModelMetrics', 'nlme', 'nycflights13', 'pillar', 'pkgbuild',\n",
      "  'pkgconfig', 'plyr', 'prettyunits', 'processx', 'prodlim', 'promises',\n",
      "  'purrr', 'quadprog', 'R6', 'Rcpp', 'RcppArmadillo', 'RCurl', 'recipes',\n",
      "  'repr', 'rlang', 'rmarkdown', 'roxygen2', 'RSQLite', 'rstudioapi', 'rvest',\n",
      "  'scales', 'selectr', 'shiny', 'sparklyr', 'SQUAREM', 'stringi', 'survival',\n",
      "  'sys', 'testthat', 'tidyr', 'tidyselect', 'tidyverse', 'tinytex', 'TTR',\n",
      "  'vctrs', 'whisker', 'xfun', 'xts', 'yaml', 'zoo'\n",
      "Loading required package: limma\n"
     ]
    }
   ],
   "source": [
    "BiocManager::install(\"edgeR\")\n",
    "library(edgeR)"
   ]
  },
  {
   "cell_type": "code",
   "execution_count": null,
   "metadata": {},
   "outputs": [],
   "source": [
    "x <- exprs(obj)"
   ]
  },
  {
   "cell_type": "code",
   "execution_count": null,
   "metadata": {},
   "outputs": [],
   "source": [
    "dim(x)"
   ]
  },
  {
   "cell_type": "markdown",
   "metadata": {},
   "source": [
    "To use the DGEList function from EdgeR, we need to transpose our x so that the length of group is equal\n",
    "to the number of columns in our counts (x).\n",
    "\n",
    "You will get an error in DGEList (counts = x, group = group) if the length of group is not equal to the number of columns in counts"
   ]
  },
  {
   "cell_type": "code",
   "execution_count": null,
   "metadata": {},
   "outputs": [],
   "source": [
    "group <- factor(pData(obj)$SEX)"
   ]
  },
  {
   "cell_type": "code",
   "execution_count": null,
   "metadata": {},
   "outputs": [],
   "source": [
    "y <- DGEList(counts=x, group=group)"
   ]
  },
  {
   "cell_type": "code",
   "execution_count": null,
   "metadata": {},
   "outputs": [],
   "source": []
  },
  {
   "cell_type": "markdown",
   "metadata": {},
   "source": [
    "I keep running out of memory on this step - so on my laptop after calculating the DGEList\n",
    "I saved it and now I uploaded it to this larger memory machine"
   ]
  },
  {
   "cell_type": "code",
   "execution_count": 10,
   "metadata": {},
   "outputs": [],
   "source": [
    "setwd(\"../../mounted-data/lifebit-user-data-e0354335-813e-4085-9693-9457f8507ff1/dataset/5e35bf40e3474100f467262b/\")"
   ]
  },
  {
   "cell_type": "code",
   "execution_count": 11,
   "metadata": {},
   "outputs": [
    {
     "data": {
      "text/html": [
       "'/mnt/shared/ec2-user/session_data/mounted-data/lifebit-user-data-e0354335-813e-4085-9693-9457f8507ff1/dataset/5e35bf40e3474100f467262b'"
      ],
      "text/latex": [
       "'/mnt/shared/ec2-user/session\\_data/mounted-data/lifebit-user-data-e0354335-813e-4085-9693-9457f8507ff1/dataset/5e35bf40e3474100f467262b'"
      ],
      "text/markdown": [
       "'/mnt/shared/ec2-user/session_data/mounted-data/lifebit-user-data-e0354335-813e-4085-9693-9457f8507ff1/dataset/5e35bf40e3474100f467262b'"
      ],
      "text/plain": [
       "[1] \"/mnt/shared/ec2-user/session_data/mounted-data/lifebit-user-data-e0354335-813e-4085-9693-9457f8507ff1/dataset/5e35bf40e3474100f467262b\""
      ]
     },
     "metadata": {},
     "output_type": "display_data"
    }
   ],
   "source": [
    "getwd()"
   ]
  },
  {
   "cell_type": "code",
   "execution_count": 12,
   "metadata": {},
   "outputs": [],
   "source": [
    "y <- readRDS(\"DGEy.rds\")"
   ]
  },
  {
   "cell_type": "code",
   "execution_count": 13,
   "metadata": {},
   "outputs": [
    {
     "data": {
      "text/html": [
       "<dl>\n",
       "\t<dt>$class</dt>\n",
       "\t\t<dd>'DGEList'</dd>\n",
       "\t<dt>$names</dt>\n",
       "\t\t<dd><ol class=list-inline>\n",
       "\t<li>'counts'</li>\n",
       "\t<li>'samples'</li>\n",
       "</ol>\n",
       "</dd>\n",
       "</dl>\n"
      ],
      "text/latex": [
       "\\begin{description}\n",
       "\\item[\\$class] 'DGEList'\n",
       "\\item[\\$names] \\begin{enumerate*}\n",
       "\\item 'counts'\n",
       "\\item 'samples'\n",
       "\\end{enumerate*}\n",
       "\n",
       "\\end{description}\n"
      ],
      "text/markdown": [
       "$class\n",
       ":   'DGEList'\n",
       "$names\n",
       ":   1. 'counts'\n",
       "2. 'samples'\n",
       "\n",
       "\n",
       "\n",
       "\n",
       "\n"
      ],
      "text/plain": [
       "$class\n",
       "[1] \"DGEList\"\n",
       "attr(,\"package\")\n",
       "[1] \"edgeR\"\n",
       "\n",
       "$names\n",
       "[1] \"counts\"  \"samples\"\n"
      ]
     },
     "metadata": {},
     "output_type": "display_data"
    }
   ],
   "source": [
    "attributes(y)"
   ]
  },
  {
   "cell_type": "code",
   "execution_count": 16,
   "metadata": {},
   "outputs": [],
   "source": [
    "y <- calcNormFactors(y)"
   ]
  },
  {
   "cell_type": "code",
   "execution_count": 17,
   "metadata": {},
   "outputs": [],
   "source": [
    "saveRDS(y, file = \"DGENormFactorsy.rds\")"
   ]
  },
  {
   "cell_type": "markdown",
   "metadata": {},
   "source": [
    "We only want to keep those events that are greater than the first quartile (25%),\n",
    "this is done using all non-zero (>1) events >= 0.25 min(table(pData(obj)$SEX))\n",
    "\n",
    "Recall SEX is coded 1 for male, 2 for female"
   ]
  },
  {
   "cell_type": "code",
   "execution_count": null,
   "metadata": {},
   "outputs": [],
   "source": [
    "groups <- pData(obj)$SEX\n",
    "keep.events <- rep(TRUE, nrow(y))\n",
    "for (group in c(1,2)) {\n",
    "    keep.events <- keep.events & \n",
    "                   rowSums(cpm(y[,groups %in% group]) > 1) >= 0.25*min(table(groups))\n",
    "}\n"
   ]
  }
 ],
 "metadata": {
  "kernelspec": {
   "display_name": "R",
   "language": "R",
   "name": "ir"
  },
  "language_info": {
   "codemirror_mode": "r",
   "file_extension": ".r",
   "mimetype": "text/x-r-source",
   "name": "R",
   "pygments_lexer": "r",
   "version": "3.6.1"
  }
 },
 "nbformat": 4,
 "nbformat_minor": 4
}
