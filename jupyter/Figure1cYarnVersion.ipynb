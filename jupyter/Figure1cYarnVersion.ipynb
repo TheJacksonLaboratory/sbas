{
 "cells": [
  {
   "cell_type": "markdown",
   "metadata": {},
   "source": [
    "# Figure 1C - YARN Normalization Version"
   ]
  },
  {
   "cell_type": "markdown",
   "metadata": {},
   "source": [
    "A `heatplot` representing similarity in the fold-changes between male and female samples, with the values in the heatmap being the correlation between the vectors of fold changes of the tissues. </b>"
   ]
  },
  {
   "cell_type": "markdown",
   "metadata": {},
   "source": [
    "We downloaded the GTEx version 8.0 RNA-seq and genotype data (phs000424.v8.v2), released 2019-08-26.\n",
    "We used YARN (https://bioconductor.org/packages/release/bioc/html/yarn.html), uploading the downloadGTEx function\n",
    "to download this release, and used it to perform quality control, gene filtering and normalization pre-processing on the\n",
    "GTEx RNA-seq data, as described in (Paulson et al, 2017).   This pipelines tested for sample sex-misidentification, \n",
    "merged related sub-tissues, performed tissue-aware normalization using qsmooth (Hicks et al, 2017)."
   ]
  },
  {
   "cell_type": "markdown",
   "metadata": {},
   "source": [
    "## Loading dependencies"
   ]
  },
  {
   "cell_type": "code",
   "execution_count": null,
   "metadata": {},
   "outputs": [],
   "source": [
    "library(downloader)\n",
    "library(readr)\n",
    "library(edgeR)\n",
    "library(biomaRt)\n",
    "library(DBI) # v >= 1.1.0 required for biomaRt\n",
    "library(devtools)\n",
    "library(yarn)\n",
    "Sys.setenv(TAR = \"/bin/tar\") # for gzfile"
   ]
  },
  {
   "cell_type": "markdown",
   "metadata": {},
   "source": [
    "Begin here if you have already run this and created the `data/gtex.rds` file"
   ]
  },
  {
   "cell_type": "markdown",
   "metadata": {},
   "source": [
    "Please `git clone` the repository and start working after changing to this as your working directory (`cd lifebitCloudOSDRE`). The `data` subdirectory, along with all other paths used in this Notebook are relative to the `lifebitCloudOSDRE` repository."
   ]
  },
  {
   "cell_type": "code",
   "execution_count": null,
   "metadata": {},
   "outputs": [],
   "source": [
    "# CAUTION! It requires some minutes to complete, also memory and enough storage\n",
    "obj <- yarn::downloadGTExV8(type='genes',file='../data/gtex.rds')"
   ]
  },
  {
   "cell_type": "markdown",
   "metadata": {},
   "source": [
    "This uploaded object is available by long names -- which might be nice to simplify ...."
   ]
  },
  {
   "cell_type": "code",
   "execution_count": null,
   "metadata": {},
   "outputs": [],
   "source": [
    "class(obj)"
   ]
  },
  {
   "cell_type": "code",
   "execution_count": null,
   "metadata": {},
   "outputs": [],
   "source": [
    "saveRDS(obj, file = \"../data/ExpressionSetobj.rds\")"
   ]
  },
  {
   "cell_type": "code",
   "execution_count": null,
   "metadata": {},
   "outputs": [],
   "source": [
    "dim(phenoData(obj))"
   ]
  },
  {
   "cell_type": "code",
   "execution_count": null,
   "metadata": {},
   "outputs": [],
   "source": [
    "# for later - not sure attributes are actually successfully being added\n",
    "#ensembl = useMart(\"ensembl\",dataset=\"hsapiens_gene_ensembl\")\n",
    "#attributes = listAttributes(ensembl)"
   ]
  },
  {
   "cell_type": "code",
   "execution_count": null,
   "metadata": {},
   "outputs": [],
   "source": [
    "dim(obj)"
   ]
  },
  {
   "cell_type": "code",
   "execution_count": null,
   "metadata": {},
   "outputs": [],
   "source": [
    "sample_names=as.vector(as.character(colnames(exprs(obj))))\n",
    "head(sample_names)\n",
    "length(sample_names)"
   ]
  },
  {
   "cell_type": "code",
   "execution_count": null,
   "metadata": {},
   "outputs": [],
   "source": [
    "pheno_sample_names=as.vector(as.character(rownames(pData(obj))))\n",
    "head(pheno_sample_names)\n",
    "length(pheno_sample_names)"
   ]
  },
  {
   "cell_type": "markdown",
   "metadata": {},
   "source": [
    "Okay - for some reason our phenotype data is larger than our expression data - I've written Joe Paulson about that.\n",
    "In the meantime, make sure that the two sets are aligned."
   ]
  },
  {
   "cell_type": "code",
   "execution_count": null,
   "metadata": {},
   "outputs": [],
   "source": [
    "logical_match_names=pheno_sample_names %in% sample_names\n",
    "length(logical_match_names)"
   ]
  },
  {
   "cell_type": "code",
   "execution_count": null,
   "metadata": {},
   "outputs": [],
   "source": [
    "table(logical_match_names)\n"
   ]
  },
  {
   "cell_type": "code",
   "execution_count": null,
   "metadata": {},
   "outputs": [],
   "source": [
    "pData(obj) <- (pData(obj)[logical_match_names==TRUE,])"
   ]
  },
  {
   "cell_type": "code",
   "execution_count": null,
   "metadata": {},
   "outputs": [],
   "source": [
    "dim(pData(obj))\n",
    "dim(obj)"
   ]
  },
  {
   "cell_type": "markdown",
   "metadata": {},
   "source": [
    "Now we want to replace all *dashes* with _underscores_"
   ]
  },
  {
   "cell_type": "code",
   "execution_count": null,
   "metadata": {},
   "outputs": [],
   "source": [
    "newSampID <- gsub('-','\\\\.',pData(obj)$SAMPID)"
   ]
  },
  {
   "cell_type": "code",
   "execution_count": null,
   "metadata": {},
   "outputs": [],
   "source": [
    "head (newSampID)"
   ]
  },
  {
   "cell_type": "code",
   "execution_count": null,
   "metadata": {},
   "outputs": [],
   "source": [
    "pData(obj)$SAMPID <- newSampID"
   ]
  },
  {
   "cell_type": "code",
   "execution_count": null,
   "metadata": {},
   "outputs": [],
   "source": [
    "colnames(pData(obj))"
   ]
  },
  {
   "cell_type": "code",
   "execution_count": null,
   "metadata": {},
   "outputs": [],
   "source": [
    "head(exprs(obj))"
   ]
  },
  {
   "cell_type": "markdown",
   "metadata": {},
   "source": [
    "Now let us do the differential analysis - using EdgeR"
   ]
  },
  {
   "cell_type": "code",
   "execution_count": null,
   "metadata": {},
   "outputs": [],
   "source": [
    "x <- exprs(obj)"
   ]
  },
  {
   "cell_type": "code",
   "execution_count": null,
   "metadata": {},
   "outputs": [],
   "source": [
    "dim(x)"
   ]
  },
  {
   "cell_type": "markdown",
   "metadata": {},
   "source": [
    "To use the DGEList function from EdgeR, we need to transpose our x so that the length of group is equal\n",
    "to the number of columns in our counts (x).\n",
    "\n",
    "You will get an error in DGEList (counts = x, group = group) if the length of group is not equal to the number of columns in counts"
   ]
  },
  {
   "cell_type": "code",
   "execution_count": null,
   "metadata": {},
   "outputs": [],
   "source": [
    "group <- factor(pData(obj)$SEX)"
   ]
  },
  {
   "cell_type": "code",
   "execution_count": null,
   "metadata": {},
   "outputs": [],
   "source": [
    "y <- DGEList(counts=x, group=group)"
   ]
  },
  {
   "cell_type": "markdown",
   "metadata": {},
   "source": [
    "I keep running out of memory on this step - so on my laptop after calculating the DGEList\n",
    "I saved it and now I uploaded it to this larger memory machine"
   ]
  },
  {
   "cell_type": "code",
   "execution_count": null,
   "metadata": {},
   "outputs": [],
   "source": [
    "attributes(y)"
   ]
  },
  {
   "cell_type": "code",
   "execution_count": null,
   "metadata": {},
   "outputs": [],
   "source": [
    "#caution this step takes a lot of memory and time"
   ]
  },
  {
   "cell_type": "code",
   "execution_count": null,
   "metadata": {},
   "outputs": [],
   "source": [
    "y <- calcNormFactors(y)"
   ]
  },
  {
   "cell_type": "code",
   "execution_count": null,
   "metadata": {},
   "outputs": [],
   "source": [
    "saveRDS(y, file = \"../data/DGENormFactorsy.rds\")"
   ]
  },
  {
   "cell_type": "code",
   "execution_count": null,
   "metadata": {},
   "outputs": [],
   "source": [
    "# For Guy -- does this do what you are expecting -- I am confused because what you get when you\n",
    "#        ask for the min (table(groups)) is the smaller sized group -- which in this case is \n",
    "#        female -- it will help the reader to know what you are doing here with the statement.\n",
    "#        one can read what it is doing but not understand your objective."
   ]
  },
  {
   "cell_type": "code",
   "execution_count": null,
   "metadata": {},
   "outputs": [],
   "source": [
    "groups <- pData(obj)$SEX\n",
    "keep.events <- rep(TRUE, nrow(y))\n",
    "for (group in c(1,2)) {\n",
    "    keep.events <- keep.events & \n",
    "                   rowSums(cpm(y[,groups %in% group]) > 1) >= 0.25*min(table(groups))\n",
    "}\n"
   ]
  },
  {
   "cell_type": "code",
   "execution_count": null,
   "metadata": {},
   "outputs": [],
   "source": [
    "reduced_y<- y[keep.events,]"
   ]
  },
  {
   "cell_type": "code",
   "execution_count": null,
   "metadata": {},
   "outputs": [],
   "source": [
    "reduced_obj <- obj[keep.events==TRUE,]"
   ]
  },
  {
   "cell_type": "code",
   "execution_count": null,
   "metadata": {},
   "outputs": [],
   "source": [
    "dim(reduced_obj)"
   ]
  },
  {
   "cell_type": "code",
   "execution_count": null,
   "metadata": {},
   "outputs": [],
   "source": [
    "#saveRDS(reduced_y, file = \"../data/reduced_y.rds\")\n",
    "#saveRDS(reduced_obj, file = \"../data/reduced_obj.rds\")\n",
    "reduced_obj <- readRDS(file = \"../data/reduced_obj.rds\")\n",
    "reduced_y   <- readRDS(file = \"../data/reduced_y.rds\")\n"
   ]
  },
  {
   "cell_type": "code",
   "execution_count": null,
   "metadata": {},
   "outputs": [],
   "source": [
    "#install.packages(\"statmod\")\n",
    "library(statmod)"
   ]
  },
  {
   "cell_type": "code",
   "execution_count": null,
   "metadata": {},
   "outputs": [],
   "source": [
    "# separate the analysis by male and by female\n",
    "# then do the differential analysis regarding tissue\n",
    "# then do the differential analysis male tissue vs female tissue"
   ]
  },
  {
   "cell_type": "code",
   "execution_count": null,
   "metadata": {},
   "outputs": [],
   "source": [
    "reduced_male   <- pData(reduced_obj)$SEX==1\n",
    "reduced_female <- pData(reduced_obj)$SEX==2"
   ]
  },
  {
   "cell_type": "code",
   "execution_count": null,
   "metadata": {},
   "outputs": [],
   "source": [
    "reduced_obj_male   <- reduced_obj[,reduced_male==TRUE]\n",
    "reduced_obj_female <- reduced_obj[,reduced_female==TRUE]"
   ]
  },
  {
   "cell_type": "code",
   "execution_count": null,
   "metadata": {},
   "outputs": [],
   "source": [
    "dim(reduced_obj_male)\n",
    "dim(reduced_obj_female)"
   ]
  },
  {
   "cell_type": "code",
   "execution_count": null,
   "metadata": {},
   "outputs": [],
   "source": [
    "tissue_groups_male <- factor(pData(reduced_obj_male)$SMTS)\n",
    "tissue_groups_female <- factor(pData(reduced_obj_female)$SMTS)"
   ]
  },
  {
   "cell_type": "code",
   "execution_count": null,
   "metadata": {},
   "outputs": [],
   "source": [
    "# good sanity check, the male set does not have any vaginas or uterus\n",
    "table (tissue_groups_male)"
   ]
  },
  {
   "cell_type": "code",
   "execution_count": null,
   "metadata": {},
   "outputs": [],
   "source": [
    "# and the females have no prostate or testis\n",
    "table(tissue_groups_female)"
   ]
  },
  {
   "cell_type": "code",
   "execution_count": null,
   "metadata": {},
   "outputs": [],
   "source": [
    "# Reproducing Guys results using the yarn expression object\n",
    "# loop through the tissues and for those tissues that are shared between the two sexes\n",
    "# perform a differential gene analysis on a per tissue basis\n"
   ]
  },
  {
   "cell_type": "code",
   "execution_count": null,
   "metadata": {},
   "outputs": [],
   "source": [
    "tissue_groups <- factor(pData(reduced_obj)$SMTS)"
   ]
  },
  {
   "cell_type": "code",
   "execution_count": null,
   "metadata": {},
   "outputs": [],
   "source": [
    "tissue_male_female <- tissue_groups_male %in% tissue_groups_female\n",
    "table(tissue_male_female)"
   ]
  },
  {
   "cell_type": "code",
   "execution_count": null,
   "metadata": {},
   "outputs": [],
   "source": [
    "tissue_shared_male_female <- factor(tissue_groups_male[tissue_male_female])\n",
    "table(tissue_shared_male_female)"
   ]
  },
  {
   "cell_type": "code",
   "execution_count": null,
   "metadata": {},
   "outputs": [],
   "source": [
    "# SEX is coded 1 == Male\n",
    "#              2 == Female\n",
    "sex = factor(pData(reduced_obj)$SEX)"
   ]
  },
  {
   "cell_type": "code",
   "execution_count": null,
   "metadata": {},
   "outputs": [],
   "source": [
    "#tissue_shared_male_female\n",
    "for (tissue in tissue_shared_male_female) {\n",
    "# missing: Bladder\n",
    "#    tissue        <- 'Bladder'\n",
    "    tissue_true   <- pData(reduced_obj)$SMTS==tissue\n",
    "    tissue_obj    <- reduced_obj[,tissue_true==TRUE]\n",
    "    tissue_sex    <- factor(pData(tissue_obj)$SEX)\n",
    "    tissue_design <- model.matrix(~tissue_sex)\n",
    "    y_tissue      <- DGEList(counts=exprs(tissue_obj), group=tissue_sex)\n",
    "    tissue_sex_array <- lapply(pData(reduced_obj)$SMTS, factor())\n",
    "    y_tissue_array <- lapply(pData(reduced_obj)$SMTS,DGEList(counts=exprs(tissue_obj), group=tissue_sex)\n",
    "    y_tissue      <- calcNormFactors(y_tissue)\n",
    "    y_tissue_voom <- voom (y_tissue, tissue_design)\n",
    "    fit_tissue    <- lmFit(y_tissue_voom, tissue_design)\n",
    "    fit_tissue    <- eBayes(fit_tissue, robust=TRUE)\n",
    "    results_tissue<- topTable(fit_tissue, coef='tissue_sex2', number=nrow(y_tissue))\n",
    "    assign(paste(\"results\",tissue, sep=\"_\"),results_tissue)\n",
    "    filename = paste(paste(\"../data\", tissue,sep=\"/\"),\"DGE.txt\",sep=\"_\")\n",
    "    write.table(results_tissue,filename,sep='\\t',quote = F)\n",
    "}"
   ]
  },
  {
   "cell_type": "code",
   "execution_count": null,
   "metadata": {},
   "outputs": [],
   "source": [
    "filenames <- list.files(\"../data\", pattern=\"*_DGE.txt\", all.files=FALSE,\n",
    "    full.names=FALSE)"
   ]
  },
  {
   "cell_type": "code",
   "execution_count": null,
   "metadata": {},
   "outputs": [],
   "source": [
    "adipose_tissue_logFC_mat <- read.delim2(\"../data/Adipose\\ Tissue_DGE.txt\",stringsAsFactors = FALSE)\n",
    "adrenal_gland_logFC_mat  <- read.delim2(\"../data/Adrenal\\ Gland_DGE.txt\",stringsAsFactors = FALSE)\n",
    "bladder_logFC_mat        <- read.delim2(\"../data/Bladder_DGE.txt\",stringsAsFactors = FALSE)\n",
    "blood_logFC_mat          <- read.delim2(\"../data/Blood_DGE.txt\",stringsAsFactors = FALSE)\n",
    "blood_vessel_logFC_mat   <- read.delim2(\"../data/Blood\\ Vessel_DGE.txt\",stringsAsFactors = FALSE) \n",
    "brain_logFC_mat          <- read.delim2(\"../data/Brain_DGE.txt\",stringsAsFactors = FALSE)\n",
    "breast_logFC_mat         <- read.delim2(\"../data/Breast_DGE.txt\",stringsAsFactors = FALSE)\n",
    "colon_logFC_mat          <- read.delim2(\"../data/Colon_DGE.txt\",stringsAsFactors = FALSE)\n",
    "esophagus_logFC_mat      <- read.delim2(\"../data/Esophagus_DGE.txt\",stringsAsFactors = FALSE)\n",
    "heart_logFC_mat          <- read.delim2(\"../data/Heart_DGE.txt\",stringsAsFactors = FALSE)\n",
    "kidney_logFC_mat         <- read.delim2(\"../data/Kidney_DGE.txt\",stringsAsFactors = FALSE)\n",
    "liver_logFC_mat          <- read.delim2(\"../data/Liver_DGE.txt\",stringsAsFactors = FALSE)\n",
    "lung_logFC_mat           <- read.delim2(\"../data/Lung_DGE.txt\",stringsAsFactors = FALSE)\n",
    "muscle_logFC_mat         <- read.delim2(\"../data/Muscle_DGE.txt\",stringsAsFactors = FALSE)\n",
    "nerve_logFC_mat          <- read.delim2(\"../data/Nerve_DGE.txt\",stringsAsFactors = FALSE)\n",
    "pancreas_logFC_mat       <- read.delim2(\"../data/Pancreas_DGE.txt\",stringsAsFactors = FALSE)\n",
    "pituitary_logFC_mat      <- read.delim2(\"../data/Pituitary_DGE.txt\",stringsAsFactors = FALSE)\n",
    "salivary_gland_logFC_mat <- read.delim2(\"../data/Salivary\\ Gland_DGE.txt\",stringsAsFactors = FALSE)\n",
    "skin_logFC_mat           <- read.delim2(\"../data/Skin_DGE.txt\",stringsAsFactors = FALSE)\n",
    "small_intestine_logFC_mat<- read.delim2(\"../data/Small\\ Intestine_DGE.txt\",stringsAsFactors = FALSE)\n",
    "spleen_logFC_mat         <- read.delim2(\"../data/Spleen_DGE.txt\",stringsAsFactors = FALSE)\n",
    "stomach_logFC_mat        <- read.delim2(\"../data/Stomach_DGE.txt\",stringsAsFactors = FALSE)\n",
    "thyroid_logFC_mat        <- read.delim2(\"../data/Thyroid_DGE.txt\",stringsAsFactors = FALSE)"
   ]
  },
  {
   "cell_type": "code",
   "execution_count": null,
   "metadata": {},
   "outputs": [],
   "source": [
    "adipose_tissue_logFC <- as.matrix(as.numeric(adipose_tissue_logFC_mat$logFC),nrow=16794,ncol=1)\n",
    "\n",
    "m <- adipose_tissue_logFC[order(rownames(adipose_tissue_logFC_mat)),]"
   ]
  },
  {
   "cell_type": "code",
   "execution_count": null,
   "metadata": {},
   "outputs": [],
   "source": [
    "adipose_tissue_logFC_mat       <- adipose_tissue_logFC_mat[order(rownames(adipose_tissue_logFC_mat)),]\n",
    "adipose_tissue_logFC           <- as.matrix(as.numeric(adipose_tissue_logFC_mat$logFC),nrow=16794,ncol=1)\n",
    "rownames(adipose_tissue_logFC) <- rownames(adipose_tissue_logFC_mat)\n",
    "\n",
    "adrenal_gland_logFC_mat       <- adrenal_gland_logFC_mat[order(rownames(adrenal_gland_logFC_mat)),]\n",
    "adrenal_gland_logFC           <- as.matrix(as.numeric(adrenal_gland_logFC_mat$logFC),nrow=16794,ncol=1)\n",
    "rownames(adrenal_gland_logFC) <- rownames(adrenal_gland_logFC_mat)\n",
    "\n",
    "bladder_logFC_mat       <- bladder_logFC_mat[order(rownames(bladder_logFC_mat)),]\n",
    "bladder_logFC           <- as.matrix(as.numeric(bladder_logFC_mat$logFC),nrow=16794,ncol=1)\n",
    "rownames(bladder_logFC) <- rownames(bladder_logFC_mat)\n",
    "\n",
    "blood_logFC_mat       <- blood_logFC_mat[order(rownames(blood_logFC_mat)),]\n",
    "blood_logFC           <- as.matrix(as.numeric(blood_logFC_mat$logFC),nrow=16794,ncol=1)\n",
    "rownames(blood_logFC) <- rownames(blood_logFC_mat)\n",
    "\n",
    "blood_vessel_logFC_mat       <- blood_vessel_logFC_mat[order(rownames(blood_vessel_logFC_mat)),]\n",
    "blood_vessel_logFC           <- as.matrix(as.numeric(blood_vessel_logFC_mat$logFC),nrow=16794,ncol=1)\n",
    "rownames(blood_vessel_logFC) <- rownames(blood_vessel_logFC_mat)\n",
    "\n",
    "brain_logFC_mat      <- brain_logFC_mat[order(rownames(brain_logFC_mat)),]\n",
    "brain_logFC          <- as.matrix(as.numeric(brain_logFC_mat$logFC),nrow=16794,ncol=1)\n",
    "rownames(brain_logFC)<- rownames(brain_logFC_mat)\n",
    "\n",
    "breast_logFC_mat       <- breast_logFC_mat[order(rownames(breast_logFC_mat)),]\n",
    "breast_logFC           <- as.matrix(as.numeric(breast_logFC_mat$logFC),nrow=16794,ncol=1)\n",
    "rownames(breast_logFC) <- rownames(breast_logFC_mat)\n",
    "\n",
    "colon_logFC_mat       <- colon_logFC_mat[order(rownames(colon_logFC_mat)),]\n",
    "colon_logFC           <- as.matrix(as.numeric(colon_logFC_mat$logFC),nrow=16794,ncol=1)\n",
    "rownames(colon_logFC) <- rownames(colon_logFC_mat)\n",
    "\n",
    "esophagus_logFC_mat       <- esophagus_logFC_mat[order(rownames(esophagus_logFC_mat)),]\n",
    "esophagus_logFC           <- as.matrix(as.numeric(esophagus_logFC_mat$logFC),nrow=16794,ncol=1)\n",
    "rownames(esophagus_logFC) <- rownames(esophagus_logFC_mat)\n",
    "\n",
    "heart_logFC_mat       <- heart_logFC_mat[order(rownames(heart_logFC_mat)),]\n",
    "heart_logFC           <- as.matrix(as.numeric(heart_logFC_mat$logFC),nrow=16794,ncol=1)\n",
    "rownames(heart_logFC) <- rownames(heart_logFC_mat)\n",
    "\n",
    "kidney_logFC_mat       <- kidney_logFC_mat[order(rownames(kidney_logFC_mat)),]\n",
    "kidney_logFC           <- as.matrix(as.numeric(kidney_logFC_mat$logFC),nrow=16794,ncol=1)\n",
    "rownames(kidney_logFC) <- rownames(kidney_logFC_mat)\n",
    "\n",
    "liver_logFC_mat       <- liver_logFC_mat[order(rownames(liver_logFC_mat)),]\n",
    "liver_logFC           <- as.matrix(as.numeric(liver_logFC_mat$logFC),nrow=16794,ncol=1)\n",
    "rownames(liver_logFC) <- rownames(liver_logFC_mat)\n",
    "\n",
    "lung_logFC_mat       <- lung_logFC_mat[order(rownames(lung_logFC_mat)),]\n",
    "lung_logFC           <- as.matrix(as.numeric(lung_logFC_mat$logFC),nrow=16794,ncol=1)\n",
    "rownames(lung_logFC) <- rownames(lung_logFC_mat)\n",
    "\n",
    "muscle_logFC_mat      <- muscle_logFC_mat[order(rownames(muscle_logFC_mat)),]\n",
    "muscle_logFC          <- as.matrix(as.numeric(muscle_logFC_mat$logFC),nrow=16794,ncol=1)\n",
    "rownames(muscle_logFC)<- rownames(muscle_logFC_mat)\n",
    "\n",
    "nerve_logFC_mat       <- nerve_logFC_mat[order(rownames(nerve_logFC_mat)),]\n",
    "nerve_logFC           <- as.matrix(as.numeric(nerve_logFC_mat$logFC),nrow=16794,ncol=1)\n",
    "rownames(nerve_logFC) <- rownames(nerve_logFC_mat)\n",
    "\n",
    "pancreas_logFC_mat       <- pancreas_logFC_mat[order(rownames(pancreas_logFC_mat)),]\n",
    "pancreas_logFC           <- as.matrix(as.numeric(pancreas_logFC_mat$logFC),nrow=16794,ncol=1)\n",
    "rownames(pancreas_logFC) <- rownames(pancreas_logFC_mat)\n",
    "\n",
    "pituitary_logFC_mat       <- pituitary_logFC_mat[order(rownames(pituitary_logFC_mat)),]\n",
    "pituitary_logFC           <- as.matrix(as.numeric(pituitary_logFC_mat$logFC),nrow=16794,ncol=1)\n",
    "rownames(pituitary_logFC) <- rownames(pituitary_logFC_mat)\n",
    "\n",
    "salivary_gland_logFC_mat       <- salivary_gland_logFC_mat[order(rownames(salivary_gland_logFC_mat)),]\n",
    "salivary_gland_logFC           <- as.matrix(as.numeric(salivary_gland_logFC_mat$logFC),nrow=16794,ncol=1)\n",
    "rownames(salivary_gland_logFC) <- rownames(salivary_gland_logFC_mat)\n",
    "\n",
    "skin_logFC_mat       <- skin_logFC_mat[order(rownames(skin_logFC_mat)),]\n",
    "skin_logFC           <- as.matrix(as.numeric(skin_logFC_mat$logFC),nrow=16794,ncol=1)\n",
    "rownames(skin_logFC) <- rownames(skin_logFC_mat)\n",
    "\n",
    "small_intestine_logFC_mat       <- small_intestine_logFC_mat[order(rownames(small_intestine_logFC_mat)),]\n",
    "small_intestine_logFC           <- as.matrix(as.numeric(small_intestine_logFC_mat$logFC),nrow=16794,ncol=1)\n",
    "rownames(small_intestine_logFC) <- rownames(small_intestine_logFC_mat)\n",
    "\n",
    "spleen_logFC_mat       <- spleen_logFC_mat[order(rownames(spleen_logFC_mat)),]\n",
    "spleen_logFC           <- as.matrix(as.numeric(spleen_logFC_mat$logFC),nrow=16794,ncol=1)\n",
    "rownames(spleen_logFC) <- rownames(spleen_logFC_mat)\n",
    "\n",
    "stomach_logFC_mat       <- stomach_logFC_mat[order(rownames(stomach_logFC_mat)),]\n",
    "stomach_logFC           <- as.matrix(as.numeric(stomach_logFC_mat$logFC),nrow=16794,ncol=1)\n",
    "rownames(stomach_logFC) <- rownames(stomach_logFC_mat)\n",
    "\n",
    "thyroid_logFC_mat       <- thyroid_logFC_mat[order(rownames(thyroid_logFC_mat)),]\n",
    "thyroid_logFC           <- as.matrix(as.numeric(thyroid_logFC_mat$logFC),nrow=16794,ncol=1)\n",
    "rownames(thyroid_logFC) <- rownames(thyroid_logFC_mat)\n"
   ]
  },
  {
   "cell_type": "code",
   "execution_count": null,
   "metadata": {},
   "outputs": [],
   "source": [
    "logFC_mat = as.matrix(cbind(adipose_tissue_logFC,\n",
    "             adrenal_gland_logFC,\n",
    "             bladder_logFC,\n",
    "             blood_logFC,\n",
    "             blood_vessel_logFC,\n",
    "             brain_logFC,\n",
    "             breast_logFC,\n",
    "             colon_logFC,\n",
    "             esophagus_logFC,\n",
    "             heart_logFC,\n",
    "             kidney_logFC,\n",
    "             liver_logFC,\n",
    "             lung_logFC,\n",
    "             muscle_logFC,\n",
    "             nerve_logFC,\n",
    "             pancreas_logFC,\n",
    "             pituitary_logFC,\n",
    "             salivary_gland_logFC,\n",
    "             skin_logFC,\n",
    "             small_intestine_logFC,\n",
    "             spleen_logFC,\n",
    "             stomach_logFC,\n",
    "             thyroid_logFC),nrow=16794,ncol=23)\n"
   ]
  },
  {
   "cell_type": "code",
   "execution_count": null,
   "metadata": {},
   "outputs": [],
   "source": [
    "rownames(logFC_mat) <- rownames(thyroid_logFC)\n",
    "colnames(logFC_mat) <- c(\"adipose\",\"adrenal_gland\",\"bladder\",\"blood\",\"blood_vessel\",\n",
    "                        \"brain\",\"breast\",\"colon\",\"esophagus\",\"heart\",\"kidney\",\n",
    "                        \"liver\",\"lung\",\"muscle\",\"nerve\",\"pancreas\",\"pitutary\",\n",
    "                        \"salivary_gland\",\"skin\",\"small_intestine\",\n",
    "                        \"spleen\",\"stomach\",\"thyroid\")\n",
    "dim(logFC_mat)\n",
    "head(logFC_mat)\n",
    "\n"
   ]
  },
  {
   "cell_type": "code",
   "execution_count": null,
   "metadata": {},
   "outputs": [],
   "source": [
    "logFC_mat_NQ <- normalizeQuantiles(logFC_mat)"
   ]
  },
  {
   "cell_type": "code",
   "execution_count": null,
   "metadata": {},
   "outputs": [],
   "source": [
    "dist_mat <- as.matrix(cor(logFC_mat_NQ))"
   ]
  },
  {
   "cell_type": "code",
   "execution_count": null,
   "metadata": {},
   "outputs": [],
   "source": [
    "rownames(dist_mat) <- colnames(logFC_mat)\n",
    "colnames(dist_mat) <- colnames(logFC_mat)"
   ]
  },
  {
   "cell_type": "code",
   "execution_count": null,
   "metadata": {},
   "outputs": [],
   "source": [
    "library(pheatmap)\n",
    "hm <- pheatmap(as.matrix(dist_mat))\n"
   ]
  },
  {
   "cell_type": "code",
   "execution_count": null,
   "metadata": {},
   "outputs": [],
   "source": [
    "class(hm)"
   ]
  },
  {
   "cell_type": "code",
   "execution_count": null,
   "metadata": {},
   "outputs": [],
   "source": []
  }
 ],
 "metadata": {
  "kernelspec": {
   "display_name": "R",
   "language": "R",
   "name": "ir"
  },
  "language_info": {
   "codemirror_mode": "r",
   "file_extension": ".r",
   "mimetype": "text/x-r-source",
   "name": "R",
   "pygments_lexer": "r",
   "version": "3.6.1"
  }
 },
 "nbformat": 4,
 "nbformat_minor": 4
}
