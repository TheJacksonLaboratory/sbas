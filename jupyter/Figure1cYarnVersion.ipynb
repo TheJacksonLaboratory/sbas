{
 "cells": [
  {
   "cell_type": "markdown",
   "metadata": {},
   "source": [
    "# Figure 1C - YARN Normalization Version"
   ]
  },
  {
   "cell_type": "markdown",
   "metadata": {},
   "source": [
    "A `heatplot` representing similarity in the fold-changes between male and female samples, with the values in the heatmap being the correlation between the vectors of fold changes of the tissues. </b>"
   ]
  },
  {
   "cell_type": "markdown",
   "metadata": {},
   "source": [
    "We downloaded the GTEx version 8.0 RNA-seq and genotype data (phs000424.v8.v2), released 2019-08-26.\n",
    "We used YARN (https://bioconductor.org/packages/release/bioc/html/yarn.html), uploading the downloadGTEx function\n",
    "to download this release, and used it to perform quality control, gene filtering and normalization pre-processing on the\n",
    "GTEx RNA-seq data, as described in (Paulson et al, 2017).   This pipelines tested for sample sex-misidentification, \n",
    "merged related sub-tissues, performed tissue-aware normalization using qsmooth (Hicks et al, 2017)."
   ]
  },
  {
   "cell_type": "markdown",
   "metadata": {},
   "source": [
    "## Loading dependencies"
   ]
  },
  {
   "cell_type": "code",
   "execution_count": null,
   "metadata": {},
   "outputs": [],
   "source": [
    "library(downloader)\n",
    "library(readr)\n",
    "library(edgeR)\n",
    "library(biomaRt)\n",
    "library(DBI) # v >= 1.1.0 required for biomaRt\n",
    "library(devtools)\n",
    "library(yarn)\n",
    "library(statmod)\n",
    "Sys.setenv(TAR = \"/bin/tar\") # for gzfile"
   ]
  },
  {
   "cell_type": "markdown",
   "metadata": {},
   "source": [
    "Begin here if you have already run this and created the `data/gtex.rds` file"
   ]
  },
  {
   "cell_type": "markdown",
   "metadata": {},
   "source": [
    "Please `git clone` the repository and start working after changing to this as your working directory (`cd lifebitCloudOSDRE`). The `data` subdirectory, along with all other paths used in this Notebook are relative to the `lifebitCloudOSDRE` repository."
   ]
  },
  {
   "cell_type": "code",
   "execution_count": null,
   "metadata": {},
   "outputs": [],
   "source": [
    "#NOTE TO USERS:\n",
    "#\n",
    "# Either run option 1 or option 2\n",
    "#\n",
    "# 1. CAUTION! It requires some minutes to complete, also memory and enough storage\n",
    "#\n",
    "obj <- yarn::downloadGTExV8(type='genes',file='../data/gtex.rds')\n",
    "saveRDS(obj, file = \"../data/gtex.rds\")\n",
    "#\n",
    "# or\n",
    "#\n",
    "# 2. Retrieve the released location the already generated gtex.rds\n",
    "# \n",
    "#    Run the following line in the data directory prior to the next line if you wish to use the already\n",
    "#    generated file.\n",
    "# \n",
    "#    and then run this line.\n",
    "#   \n",
    "#    To Run option 2 -- launch a terminal window \n",
    "#    and change to the 'data' subdirectory\n",
    "#\n",
    "#    cd lifebitCloudOSDRE/data\n",
    "#\n",
    "#    and run this command\n",
    "#\n",
    "#    wget https://github.com/lifebit-ai/lifebitCloudOSDREgtex/releases/download/gtex_archive/gtex.rds\n",
    "#  \n",
    "#    Then come back to this R code and uncomment this line.\n",
    "#\n",
    "#    obj <- readRDS(\"../data/gtex.rds\")"
   ]
  },
  {
   "cell_type": "code",
   "execution_count": null,
   "metadata": {},
   "outputs": [],
   "source": [
    "# Confirm that it is an expression set.\n",
    "# and check the dimensions of the objects, and the phenotype information of the objects\n",
    "class(obj)\n",
    "dim(phenoData(obj))\n",
    "dim(obj)"
   ]
  },
  {
   "cell_type": "code",
   "execution_count": null,
   "metadata": {},
   "outputs": [],
   "source": [
    "#Okay - for some reason our phenotype data is larger than our expression data - I've written Joe Paulson about that.\n",
    "#In the meantime, make sure that the two sets are aligned.\n",
    "sample_names=as.vector(as.character(colnames(exprs(obj))))\n",
    "head(sample_names)\n",
    "length(sample_names)\n",
    "\n",
    "pheno_sample_names=as.vector(as.character(rownames(pData(obj))))\n",
    "head(pheno_sample_names)\n",
    "length(pheno_sample_names)\n",
    "\n",
    "logical_match_names=pheno_sample_names %in% sample_names\n",
    "length(logical_match_names)\n",
    "table(logical_match_names)\n",
    "pData(obj) <- (pData(obj)[logical_match_names==TRUE,])\n",
    "dim(pData(obj))\n",
    "dim(obj)"
   ]
  },
  {
   "cell_type": "code",
   "execution_count": null,
   "metadata": {},
   "outputs": [],
   "source": [
    "#  Now we want to replace all *dashes* with _underscores_"
   ]
  },
  {
   "cell_type": "code",
   "execution_count": null,
   "metadata": {},
   "outputs": [],
   "source": [
    "newSampID <- gsub('-','\\\\.',pData(obj)$SAMPID)"
   ]
  },
  {
   "cell_type": "code",
   "execution_count": null,
   "metadata": {},
   "outputs": [],
   "source": [
    "head (newSampID)"
   ]
  },
  {
   "cell_type": "code",
   "execution_count": null,
   "metadata": {},
   "outputs": [],
   "source": [
    "pData(obj)$SAMPID <- newSampID"
   ]
  },
  {
   "cell_type": "code",
   "execution_count": null,
   "metadata": {},
   "outputs": [],
   "source": [
    "colnames(pData(obj))"
   ]
  },
  {
   "cell_type": "code",
   "execution_count": null,
   "metadata": {},
   "outputs": [],
   "source": [
    "head(exprs(obj))"
   ]
  },
  {
   "cell_type": "code",
   "execution_count": null,
   "metadata": {},
   "outputs": [],
   "source": [
    "#  Now let us do the differential analysis - using EdgeR"
   ]
  },
  {
   "cell_type": "code",
   "execution_count": null,
   "metadata": {},
   "outputs": [],
   "source": [
    "x <- exprs(obj)"
   ]
  },
  {
   "cell_type": "code",
   "execution_count": null,
   "metadata": {},
   "outputs": [],
   "source": [
    "dim(x)"
   ]
  },
  {
   "cell_type": "code",
   "execution_count": null,
   "metadata": {},
   "outputs": [],
   "source": [
    "# To use the DGEList function from EdgeR, we need to transpose our x so that the length of group is equal\n",
    "# to the number of columns in our counts (x).\n",
    "# You will get an error in DGEList (counts = x, group = group) if the length of group is not equal to the number of columns in counts"
   ]
  },
  {
   "cell_type": "code",
   "execution_count": null,
   "metadata": {},
   "outputs": [],
   "source": [
    "group <- factor(pData(obj)$SEX)"
   ]
  },
  {
   "cell_type": "code",
   "execution_count": null,
   "metadata": {},
   "outputs": [],
   "source": [
    "table(group)"
   ]
  },
  {
   "cell_type": "code",
   "execution_count": null,
   "metadata": {},
   "outputs": [],
   "source": [
    "#caution this step takes a lot of memory and time - so do one of two things again:\n",
    "#\n",
    "# 1. You can either run this step from scratch and save the rds object for next time.\n",
    "#\n",
    "#y <- DGEList(counts=x, group=group)\n",
    "#y <- calcNormFactors(y)\n",
    "#saveRDS(y, file = \"../data/DGENormFactorsy.rds\")\n",
    "#\n",
    "# 2. or if you have already run this step and want to retrieve it again\n",
    "# you can read this from the saved rds object\n",
    "#\n",
    "y <- readRDS(\"../data/DGENormFactorsy.rds\")\n",
    "attributes(y)"
   ]
  },
  {
   "cell_type": "code",
   "execution_count": null,
   "metadata": {},
   "outputs": [],
   "source": [
    "dim(y$counts)"
   ]
  },
  {
   "cell_type": "code",
   "execution_count": null,
   "metadata": {},
   "outputs": [],
   "source": [
    "# For Guy -- does this do what you are expecting -- I am confused because what you get when you\n",
    "#        ask for the min (table(groups)) is the smaller sized group -- which in this case is \n",
    "#        female -- it will help the reader to know what you are doing here with the statement.\n",
    "#        one can read what it is doing but not understand your objective.groups <- pData(obj)$SEX\n",
    "# keep.events <- rep(TRUE, nrow(y))\n",
    "#for (group in c(1,2)) {\n",
    "#    keep.events <- keep.events & \n",
    "#                   rowSums(cpm(y[,groups %in% group]) > 1) >= 0.25*min(table(groups))\n",
    "#}\n",
    "#\n",
    "#  From Anne - I believe the objective in this step is to keep only those genes that are in the\n",
    "#    that are above the threshold of expression for the lower quartile of all sex specific genes.\n",
    "#    groups = (1,2) -- lots of confusion in logic between groups and group and male and female\n",
    "#    I recommend we use male and female.\n",
    "#    two errors then in the above loop - \n",
    "#     1. min(table(groups)) will always return the\n",
    "#        length of the number of samples that are female \n",
    "#        (which is 5978 for this v8 GTEx)\n",
    "#     2. sum(table(group)) will return the number of samples that are either male or female\n",
    "#        depending upon whether you are in the loop for male or female consideration.\n",
    "#\n",
    "#    If my assumption is true - I recommend replacing it with the following.\n",
    "#\n",
    "#  this should be relaced \n",
    "#\n",
    "keep.events <- rep(TRUE, nrow(y))\n",
    "nrow(y)\n",
    "table(pData(obj)$SEX)\n",
    "table(group)\n",
    "#\n",
    "# first keep all the events for the male subsets meeting our threshold criteria\n",
    "#\n",
    "keep.events  <- keep.events & rowSums(cpm(y$counts[,group == 1]) > 1) >= 0.25*length(group==1)\n",
    "#\n",
    "# now keep all the male subsets or the female subsets meeting our criteria\n",
    "#\n",
    "keep.events2 <- keep.events | rowSums(cpm(y$counts[,group == 2]) > 1) >= 0.25*length(group==2)\n",
    "table(keep.events)\n",
    "table(keep.events2)"
   ]
  },
  {
   "cell_type": "code",
   "execution_count": null,
   "metadata": {},
   "outputs": [],
   "source": [
    "reduced_y<- y[keep.events2,]"
   ]
  },
  {
   "cell_type": "code",
   "execution_count": null,
   "metadata": {},
   "outputs": [],
   "source": [
    "reduced_obj <- obj[keep.events2==TRUE,]"
   ]
  },
  {
   "cell_type": "code",
   "execution_count": null,
   "metadata": {},
   "outputs": [],
   "source": [
    "dim(reduced_obj)"
   ]
  },
  {
   "cell_type": "code",
   "execution_count": null,
   "metadata": {},
   "outputs": [],
   "source": [
    "# if you have generated these before\n",
    "saveRDS(reduced_y, file = \"../data/reduced_y.rds\")\n",
    "saveRDS(reduced_obj, file = \"../data/reduced_obj.rds\")\n",
    "#reduced_obj <- readRDS(file = \"../data/reduced_obj.rds\")\n",
    "#reduced_y   <- readRDS(file = \"../data/reduced_y.rds\")\n"
   ]
  },
  {
   "cell_type": "code",
   "execution_count": null,
   "metadata": {},
   "outputs": [],
   "source": [
    "# separate the analysis by male and by female"
   ]
  },
  {
   "cell_type": "code",
   "execution_count": null,
   "metadata": {},
   "outputs": [],
   "source": [
    "reduced_male   <- pData(reduced_obj)$SEX==1\n",
    "reduced_female <- pData(reduced_obj)$SEX==2"
   ]
  },
  {
   "cell_type": "code",
   "execution_count": null,
   "metadata": {},
   "outputs": [],
   "source": [
    "reduced_obj_male   <- reduced_obj[,reduced_male==TRUE]\n",
    "reduced_obj_female <- reduced_obj[,reduced_female==TRUE]"
   ]
  },
  {
   "cell_type": "code",
   "execution_count": null,
   "metadata": {},
   "outputs": [],
   "source": [
    "dim(reduced_obj_male)\n",
    "dim(reduced_obj_female)"
   ]
  },
  {
   "cell_type": "code",
   "execution_count": null,
   "metadata": {},
   "outputs": [],
   "source": [
    "# changing from SMTS to SMTSD - more granularity -- but we could produce both figures\n",
    "tissue_groups_male <- factor(pData(reduced_obj_male)$SMTSD)\n",
    "tissue_groups_female <- factor(pData(reduced_obj_female)$SMTSD)"
   ]
  },
  {
   "cell_type": "code",
   "execution_count": null,
   "metadata": {},
   "outputs": [],
   "source": [
    "# good sanity check, the male set does not have any vaginas or uterus\n",
    "table (tissue_groups_male)"
   ]
  },
  {
   "cell_type": "code",
   "execution_count": null,
   "metadata": {},
   "outputs": [],
   "source": [
    "# and the females have no prostate or testis\n",
    "table(tissue_groups_female)"
   ]
  },
  {
   "cell_type": "code",
   "execution_count": null,
   "metadata": {},
   "outputs": [],
   "source": [
    "# Reproducing Guys results using the yarn expression object\n",
    "# loop through the tissues and for those tissues that are shared between the two sexes\n",
    "# perform a differential gene analysis on a per tissue basis\n"
   ]
  },
  {
   "cell_type": "code",
   "execution_count": null,
   "metadata": {},
   "outputs": [],
   "source": [
    "tissue_groups <- factor(pData(reduced_obj)$SMTSD)"
   ]
  },
  {
   "cell_type": "code",
   "execution_count": null,
   "metadata": {},
   "outputs": [],
   "source": [
    "tissue_male_female <- tissue_groups_male %in% tissue_groups_female\n",
    "table(tissue_male_female)"
   ]
  },
  {
   "cell_type": "code",
   "execution_count": null,
   "metadata": {},
   "outputs": [],
   "source": [
    "tissue_shared_male_female <- factor(tissue_groups_male[tissue_male_female])\n",
    "table(tissue_shared_male_female)"
   ]
  },
  {
   "cell_type": "code",
   "execution_count": null,
   "metadata": {},
   "outputs": [],
   "source": [
    "# SEX is coded 1 == Male\n",
    "#              2 == Female\n",
    "sex = factor(pData(reduced_obj)$SEX)"
   ]
  },
  {
   "cell_type": "code",
   "execution_count": null,
   "metadata": {},
   "outputs": [],
   "source": [
    "library(stringr)"
   ]
  },
  {
   "cell_type": "code",
   "execution_count": null,
   "metadata": {},
   "outputs": [],
   "source": [
    "#\n",
    "# define a function that takes two inputs, the tissue and an object\n",
    "#    and createe teh model matrix based upon that tissue's sex\n",
    "#    perform a linear fit after calculating normal factors (based upon library size)\n",
    "#    and calculate the dispersion using voom (mean variance model of dispersion)\n",
    "#    grab the results - save the results for prosperity and make a variable\n",
    "#\n",
    "fit_tissue <- function (tissue, obj) {\n",
    "    tissue_true   <- pData(obj)$SMTSD == tissue\n",
    "    tissue_obj    <- obj[,tissue_true ==TRUE]\n",
    "    tissue_sex    <- factor(pData(tissue_obj)$SEX)\n",
    "    tissue_design <- model.matrix(~tissue_sex)\n",
    "    y_tissue      <- DGEList(counts=exprs(tissue_obj), group=tissue_sex)\n",
    "    y_tissue      <- calcNormFactors(y_tissue)\n",
    "    y_tissue_voom <- voom(y_tissue, tissue_design)\n",
    "    fit_tissue    <- lmFit(y_tissue_voom, tissue_design)\n",
    "    fit_tissue    <- eBayes(fit_tissue, robust=TRUE)\n",
    "    results_tissue <- topTable (fit_tissue, coef='tissue_sex2', number=nrow(y_tissue))\n",
    "    filename = paste(paste(\"../data\",tissue, sep=\"/\"),\"DGE.txt\", sep=\"_\")\n",
    "    write.table(results_tissue, filename, sep='\\t', quote=FALSE)\n",
    "    return (results_tissue)\n",
    "}"
   ]
  },
  {
   "cell_type": "code",
   "execution_count": null,
   "metadata": {},
   "outputs": [],
   "source": [
    "# debugging with using the 'Thyroid' tissue\n",
    "#thyroid_logFC <- fit_tissue('Thyroid',reduced_obj)\n",
    "#thyroid_logFC\n",
    "# \n",
    "all_logFC <- lapply(X=levels(tissue_shared_male_female), FUN=fit_tissue, obj=reduced_obj)"
   ]
  },
  {
   "cell_type": "code",
   "execution_count": null,
   "metadata": {},
   "outputs": [],
   "source": [
    "filenames <- list.files(\"../data\", pattern=\"*_DGE.txt\", all.files=FALSE,\n",
    "    full.names=FALSE)"
   ]
  },
  {
   "cell_type": "code",
   "execution_count": null,
   "metadata": {},
   "outputs": [],
   "source": [
    "# preserve the ordered rownames for later assignment to matrix\n",
    "fullfilename <- paste('../data',filenames[1],sep=\"/\")\n",
    "logFC_mat <- read.delim2(fullfilename, stringsAsFactors=FALSE)\n",
    "logFC_mat <- logFC_mat[order(rownames(logFC_mat)),]\n",
    "logFC_mat_rownames <- as.character(rownames(logFC_mat)) "
   ]
  },
  {
   "cell_type": "code",
   "execution_count": null,
   "metadata": {},
   "outputs": [],
   "source": [
    "# Make a matrix for each of the tissues\n",
    "# from what files are saved\n",
    "\n",
    "make_tissue_matrix_ready <- function (file, obj) {\n",
    "    filename        <- paste('../data',file,sep=\"/\")\n",
    "    logFC_mat       <- read.delim2(filename, stringsAsFactors = FALSE)\n",
    "    logFC_mat       <- logFC_mat[order(rownames(logFC_mat)),]\n",
    "    logFC           <- as.matrix(as.numeric(logFC_mat$logFC),nrow=dim(obj)[2],ncol=1)\n",
    "    rownames(logFC) <- rownames(logFC_mat)\n",
    "    return(logFC)\n",
    "}"
   ]
  },
  {
   "cell_type": "code",
   "execution_count": null,
   "metadata": {},
   "outputs": [],
   "source": [
    "matrix_list <- lapply(X=filenames, FUN=make_tissue_matrix_ready, obj=reduced_obj)"
   ]
  },
  {
   "cell_type": "code",
   "execution_count": null,
   "metadata": {},
   "outputs": [],
   "source": [
    "length(matrix_list)\n",
    "logFC_mat = as.matrix(lapply(X=matrix_list, FUN=cbind),nrow=dim(reduced_obj)[2], ncol=length(matrix_list))"
   ]
  },
  {
   "cell_type": "code",
   "execution_count": null,
   "metadata": {},
   "outputs": [],
   "source": [
    "get_tissue_name <- function (tissue_name) {\n",
    "    tissue <- str_replace(tissue_name,'_DGE.txt','')\n",
    "    return(tissue)\n",
    "}"
   ]
  },
  {
   "cell_type": "code",
   "execution_count": null,
   "metadata": {},
   "outputs": [],
   "source": [
    "tissue_list <- lapply(X=levels(tissue_shared_male_female), FUN=get_tissue_name)\n",
    "length(tissue_list)\n",
    "head(tissue_list)"
   ]
  },
  {
   "cell_type": "code",
   "execution_count": null,
   "metadata": {},
   "outputs": [],
   "source": [
    "logFC_mat = as.matrix(as.numeric(unlist(matrix_list[1]),nrow=dim(reduced_obj)[2], ncol=1))\n",
    "for (i in (2:length(matrix_list))) {\n",
    "    n= as.matrix(as.numeric(unlist(matrix_list[i]),nrow=dim(reduced_obj)[2], ncol=1))\n",
    "    logFC_mat = cbind(logFC_mat,n)\n",
    "}\n",
    "dim(logFC_mat)\n",
    "rownames(logFC_mat) = logFC_mat_rownames\n",
    "colnames(logFC_mat) = tissue_list\n",
    "head(logFC_mat)"
   ]
  },
  {
   "cell_type": "code",
   "execution_count": null,
   "metadata": {},
   "outputs": [],
   "source": [
    "logFC_mat_NQ <- normalizeQuantiles(logFC_mat)"
   ]
  },
  {
   "cell_type": "code",
   "execution_count": null,
   "metadata": {},
   "outputs": [],
   "source": [
    "head(logFC_mat_NQ)"
   ]
  },
  {
   "cell_type": "code",
   "execution_count": null,
   "metadata": {},
   "outputs": [],
   "source": [
    "dist_mat <- as.matrix(cor(logFC_mat_NQ))"
   ]
  },
  {
   "cell_type": "code",
   "execution_count": null,
   "metadata": {},
   "outputs": [],
   "source": [
    "head(dist_mat)"
   ]
  },
  {
   "cell_type": "code",
   "execution_count": null,
   "metadata": {},
   "outputs": [],
   "source": [
    "rownames(dist_mat) <- colnames(logFC_mat)\n",
    "colnames(dist_mat) <- colnames(logFC_mat)"
   ]
  },
  {
   "cell_type": "code",
   "execution_count": null,
   "metadata": {},
   "outputs": [],
   "source": [
    "library(pheatmap)\n",
    "pheatmap(as.matrix(dist_mat),  fontsize = 6)\n",
    "hm.parameters <- list(dist_mat, fontsize=6)\n",
    "do.call(\"pheatmap\", c(hm.parameters, filename=\"../pdf/Figure1cv2.pdf\"))"
   ]
  }
 ],
 "metadata": {
  "kernelspec": {
   "display_name": "R",
   "language": "R",
   "name": "ir"
  },
  "language_info": {
   "codemirror_mode": "r",
   "file_extension": ".r",
   "mimetype": "text/x-r-source",
   "name": "R",
   "pygments_lexer": "r",
   "version": "3.6.1"
  }
 },
 "nbformat": 4,
 "nbformat_minor": 4
}
