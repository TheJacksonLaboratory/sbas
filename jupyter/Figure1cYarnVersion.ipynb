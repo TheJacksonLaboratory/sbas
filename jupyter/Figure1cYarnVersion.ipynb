{
 "cells": [
  {
   "cell_type": "markdown",
   "metadata": {},
   "source": [
    "# Figure 1C - YARN Normalization Version"
   ]
  },
  {
   "cell_type": "markdown",
   "metadata": {},
   "source": [
    "Heatplot representing similarity in the fold-changes between male and female samples, with the values in the heatmap being the correlation between the vectors of fold changes of the tissues</b>"
   ]
  },
  {
   "cell_type": "markdown",
   "metadata": {},
   "source": [
    "We downloaded the GTEx version 8.0 RNA-seq and genotype data (phs000424.v8.v2), released 2019-08-26.\n",
    "We used YARN (https://bioconductor.org/packages/release/bioc/html/yarn.html), uploading the downloadGTEx function\n",
    "to download this release, and used it to perform quality control, gene filtering and normalization pre-processing on the\n",
    "GTEx RNA-seq data, as described in (Paulson et al, 2017).   This pipelines tested for sample sex-misidentification, \n",
    "merged related sub-tissues, performed tissue-aware normalization using qsmooth (Hicks et al, 2017)."
   ]
  },
  {
   "cell_type": "code",
   "execution_count": 5,
   "metadata": {},
   "outputs": [],
   "source": [
    "library(downloader)\n",
    "library(readr)\n",
    "library(biomaRt)\n",
    "library(DBI) # v >= 1.1.0 required for biomaRt\n",
    "library(devtools)\n",
    "library(yarn)"
   ]
  },
  {
   "cell_type": "code",
   "execution_count": 2,
   "metadata": {},
   "outputs": [
    {
     "data": {
      "text/html": [
       "'/mnt/shared/ec2-user/session_data/lifebitCloudOSDRE/jupyter'"
      ],
      "text/latex": [
       "'/mnt/shared/ec2-user/session\\_data/lifebitCloudOSDRE/jupyter'"
      ],
      "text/markdown": [
       "'/mnt/shared/ec2-user/session_data/lifebitCloudOSDRE/jupyter'"
      ],
      "text/plain": [
       "[1] \"/mnt/shared/ec2-user/session_data/lifebitCloudOSDRE/jupyter\""
      ]
     },
     "metadata": {},
     "output_type": "display_data"
    }
   ],
   "source": [
    "getwd()"
   ]
  },
  {
   "cell_type": "code",
   "execution_count": null,
   "metadata": {},
   "outputs": [],
   "source": [
    "setwd(\"../..\")\n",
    "getwd()"
   ]
  },
  {
   "cell_type": "markdown",
   "metadata": {},
   "source": [
    "Begin here if you have already run this and created the data/gtex.rds file"
   ]
  },
  {
   "cell_type": "markdown",
   "metadata": {},
   "source": [
    "You may need to adjust your working directory -- the data subdirectory is relative to the lifebitCloudOSDRE working directory"
   ]
  },
  {
   "cell_type": "code",
   "execution_count": 4,
   "metadata": {},
   "outputs": [
    {
     "ename": "ERROR",
     "evalue": "Error in downloadGTExV8(type = \"genes\", file = \"data/gtex.rds\"): could not find function \"downloadGTExV8\"\n",
     "output_type": "error",
     "traceback": [
      "Error in downloadGTExV8(type = \"genes\", file = \"data/gtex.rds\"): could not find function \"downloadGTExV8\"\nTraceback:\n"
     ]
    }
   ],
   "source": [
    "obj <- downloadGTExV8(type='genes',file='data/gtex.rds')"
   ]
  },
  {
   "cell_type": "code",
   "execution_count": null,
   "metadata": {},
   "outputs": [],
   "source": [
    "setwd('/mnt/shared/ec2-user/session_data')"
   ]
  },
  {
   "cell_type": "code",
   "execution_count": null,
   "metadata": {},
   "outputs": [],
   "source": [
    "getwd()"
   ]
  },
  {
   "cell_type": "markdown",
   "metadata": {},
   "source": [
    "This uploaded object is available by long names -- which might be nice to simplify ...."
   ]
  },
  {
   "cell_type": "code",
   "execution_count": null,
   "metadata": {},
   "outputs": [],
   "source": [
    "obj<-readRDS('/mnt/shared/ec2-user/session_data/mounted-data/lifebit-user-data-84f09c4a-623d-47db-b432-2880ba594b3b/deploit/teams/5db1ce1274081500dffba7b1/users/5c4cced085814700a85f8c7f/dataset/5e3ab72ee3474100f4708b3b/gtex.rds')"
   ]
  },
  {
   "cell_type": "code",
   "execution_count": null,
   "metadata": {},
   "outputs": [],
   "source": [
    "obj"
   ]
  },
  {
   "cell_type": "code",
   "execution_count": null,
   "metadata": {},
   "outputs": [],
   "source": [
    "dim(phenoData(obj))"
   ]
  },
  {
   "cell_type": "code",
   "execution_count": null,
   "metadata": {},
   "outputs": [],
   "source": [
    "dim(obj)"
   ]
  },
  {
   "cell_type": "code",
   "execution_count": null,
   "metadata": {},
   "outputs": [],
   "source": [
    "sample_names=as.vector(as.character(colnames(exprs(obj))))\n",
    "head(sample_names)\n",
    "length(sample_names)"
   ]
  },
  {
   "cell_type": "code",
   "execution_count": null,
   "metadata": {},
   "outputs": [],
   "source": [
    "pheno_sample_names=as.vector(as.character(rownames(pData(obj))))\n",
    "head(pheno_sample_names)\n",
    "length(pheno_sample_names)"
   ]
  },
  {
   "cell_type": "markdown",
   "metadata": {},
   "source": [
    "Okay - for some reason our phenotype data is larger than our expression data - I've written Joe Paulson about that.\n",
    "In the meantime, make sure that the two sets are aligned."
   ]
  },
  {
   "cell_type": "code",
   "execution_count": null,
   "metadata": {},
   "outputs": [],
   "source": [
    "logical_match_names=pheno_sample_names %in% sample_names\n",
    "length(logical_match_names)"
   ]
  },
  {
   "cell_type": "code",
   "execution_count": null,
   "metadata": {},
   "outputs": [],
   "source": [
    "table(logical_match_names)\n"
   ]
  },
  {
   "cell_type": "code",
   "execution_count": null,
   "metadata": {},
   "outputs": [],
   "source": [
    "pData(obj) <- (pData(obj)[logical_match_names==TRUE,])"
   ]
  },
  {
   "cell_type": "markdown",
   "metadata": {},
   "source": [
    "Now we want to replace all *dashes* with _underscores_"
   ]
  },
  {
   "cell_type": "code",
   "execution_count": null,
   "metadata": {},
   "outputs": [],
   "source": [
    "newSampID <- gsub('-','\\\\.',pData(obj)$SAMPID)"
   ]
  },
  {
   "cell_type": "code",
   "execution_count": null,
   "metadata": {},
   "outputs": [],
   "source": [
    "head (newSampID)"
   ]
  },
  {
   "cell_type": "code",
   "execution_count": null,
   "metadata": {},
   "outputs": [],
   "source": [
    "pData(obj)$SAMPID <- newSampID"
   ]
  },
  {
   "cell_type": "code",
   "execution_count": null,
   "metadata": {},
   "outputs": [],
   "source": [
    "tissueFactors <- factor(tissues)"
   ]
  },
  {
   "cell_type": "code",
   "execution_count": null,
   "metadata": {},
   "outputs": [],
   "source": [
    "table(tissueFactors)"
   ]
  },
  {
   "cell_type": "code",
   "execution_count": null,
   "metadata": {},
   "outputs": [],
   "source": [
    "# SEX is coded 1 == Male\n",
    "#              2 == Female\n",
    "sex <- pData(obj)$SEX\n",
    "age <- pData(obj)$AGE\n",
    "#cod <- cause of death\n",
    "cod <- pData(obj)$DTHHRDY\n",
    "    "
   ]
  },
  {
   "cell_type": "code",
   "execution_count": null,
   "metadata": {},
   "outputs": [],
   "source": [
    "table(sex)\n",
    "table(age)\n",
    "table(cod)"
   ]
  },
  {
   "cell_type": "markdown",
   "metadata": {},
   "source": [
    "Now let us do the differential analysis - using EdgeR"
   ]
  },
  {
   "cell_type": "code",
   "execution_count": null,
   "metadata": {},
   "outputs": [],
   "source": [
    "x <- exprs(obj)"
   ]
  },
  {
   "cell_type": "code",
   "execution_count": null,
   "metadata": {},
   "outputs": [],
   "source": [
    "dim(x)"
   ]
  },
  {
   "cell_type": "markdown",
   "metadata": {},
   "source": [
    "To use the DGEList function from EdgeR, we need to transpose our x so that the length of group is equal\n",
    "to the number of columns in our counts (x).\n",
    "\n",
    "You will get an error in DGEList (counts = x, group = group) if the length of group is not equal to the number of columns in counts"
   ]
  },
  {
   "cell_type": "code",
   "execution_count": null,
   "metadata": {},
   "outputs": [],
   "source": [
    "group <- factor(pData(obj)$SEX)"
   ]
  },
  {
   "cell_type": "code",
   "execution_count": null,
   "metadata": {},
   "outputs": [],
   "source": [
    "y <- DGEList(counts=x, group=group)"
   ]
  },
  {
   "cell_type": "code",
   "execution_count": null,
   "metadata": {},
   "outputs": [],
   "source": []
  },
  {
   "cell_type": "markdown",
   "metadata": {},
   "source": [
    "I keep running out of memory on this step - so on my laptop after calculating the DGEList\n",
    "I saved it and now I uploaded it to this larger memory machine"
   ]
  },
  {
   "cell_type": "code",
   "execution_count": null,
   "metadata": {},
   "outputs": [],
   "source": [
    "setwd(\"../../mounted-data/lifebit-user-data-e0354335-813e-4085-9693-9457f8507ff1/dataset/5e35bf40e3474100f467262b/\")"
   ]
  },
  {
   "cell_type": "code",
   "execution_count": null,
   "metadata": {},
   "outputs": [],
   "source": [
    "getwd()"
   ]
  },
  {
   "cell_type": "code",
   "execution_count": null,
   "metadata": {},
   "outputs": [],
   "source": [
    "y <- readRDS(\"DGEy.rds\")"
   ]
  },
  {
   "cell_type": "code",
   "execution_count": null,
   "metadata": {},
   "outputs": [],
   "source": [
    "attributes(y)"
   ]
  },
  {
   "cell_type": "code",
   "execution_count": null,
   "metadata": {},
   "outputs": [],
   "source": [
    "y <- calcNormFactors(y)"
   ]
  },
  {
   "cell_type": "code",
   "execution_count": null,
   "metadata": {},
   "outputs": [],
   "source": [
    "saveRDS(y, file = \"DGENormFactorsy.rds\")"
   ]
  },
  {
   "cell_type": "markdown",
   "metadata": {},
   "source": [
    "We only want to keep those events that are greater than the first quartile (25%),\n",
    "this is done using all non-zero (>1) events >= 0.25 min(table(pData(obj)$SEX))\n",
    "\n",
    "Recall SEX is coded 1 for male, 2 for female"
   ]
  },
  {
   "cell_type": "code",
   "execution_count": null,
   "metadata": {},
   "outputs": [],
   "source": [
    "groups <- pData(obj)$SEX\n",
    "keep.events <- rep(TRUE, nrow(y))\n",
    "for (group in c(1,2)) {\n",
    "    keep.events <- keep.events & \n",
    "                   rowSums(cpm(y[,groups %in% group]) > 1) >= 0.25*min(table(groups))\n",
    "}\n"
   ]
  }
 ],
 "metadata": {
  "kernelspec": {
   "display_name": "R",
   "language": "R",
   "name": "ir"
  },
  "language_info": {
   "codemirror_mode": "r",
   "file_extension": ".r",
   "mimetype": "text/x-r-source",
   "name": "R",
   "pygments_lexer": "r",
   "version": "3.6.2"
  }
 },
 "nbformat": 4,
 "nbformat_minor": 4
}
