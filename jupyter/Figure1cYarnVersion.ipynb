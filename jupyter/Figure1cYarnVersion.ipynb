{
 "cells": [
  {
   "cell_type": "markdown",
   "metadata": {},
   "source": [
    "# Figure 1C - YARN Normalization Version"
   ]
  },
  {
   "cell_type": "markdown",
   "metadata": {},
   "source": [
    "Heatplot representing similarity in the fold-changes between male and female samples, with the values in the heatmap being the correlation between the vectors of fold changes of the tissues</b>"
   ]
  },
  {
   "cell_type": "code",
   "execution_count": 34,
   "metadata": {},
   "outputs": [],
   "source": [
    "rm(list = ls())"
   ]
  },
  {
   "cell_type": "markdown",
   "metadata": {},
   "source": [
    "We downloaded the GTEx version 8.0 RNA-seq and genotype data (phs000424.v8.v2), released 2019-08-26.\n",
    "We used YARN (https://bioconductor.org/packages/release/bioc/html/yarn.html), uploading the downloadGTEx function\n",
    "to download this release, and used it to perform quality control, gene filtering and normalization pre-processing on the\n",
    "GTEx RNA-seq data, as described in (Paulson et al, 2017).   This pipelines tested for sample sex-misidentification, \n",
    "merged related sub-tissues, performed tissue-aware normalization using qsmooth (Hicks et al, 2017)."
   ]
  },
  {
   "cell_type": "code",
   "execution_count": 35,
   "metadata": {},
   "outputs": [],
   "source": [
    "if (!requireNamespace(\"BiocManager\", quietly=TRUE))\n",
    "    install.packages(\"BiocManager\")\n",
    "#BiocManager::install(\"yarn\")"
   ]
  },
  {
   "cell_type": "code",
   "execution_count": 20,
   "metadata": {},
   "outputs": [
    {
     "name": "stderr",
     "output_type": "stream",
     "text": [
      "Bioconductor version 3.10 (BiocManager 1.30.10), R 3.6.1 (2019-07-05)\n",
      "Installing package(s) 'downloader'\n",
      "Updating HTML index of packages in '.Library'\n",
      "Making 'packages.html' ... done\n",
      "Old packages: 'backports', 'BH', 'bit', 'blob', 'broom', 'callr', 'caret',\n",
      "  'cli', 'curl', 'data.table', 'DBI', 'devtools', 'digest', 'dplyr',\n",
      "  'ellipsis', 'fansi', 'foreach', 'forecast', 'fracdiff', 'ggplot2', 'gh',\n",
      "  'haven', 'hexbin', 'hms', 'htmltools', 'htmlwidgets', 'httpuv', 'IRkernel',\n",
      "  'jsonlite', 'KernSmooth', 'knitr', 'later', 'lava', 'MASS', 'Matrix', 'mgcv',\n",
      "  'mime', 'ModelMetrics', 'nlme', 'nycflights13', 'pillar', 'pkgbuild',\n",
      "  'pkgconfig', 'plyr', 'prettyunits', 'processx', 'prodlim', 'promises', 'ps',\n",
      "  'purrr', 'quadprog', 'R6', 'Rcpp', 'RcppArmadillo', 'RCurl', 'recipes',\n",
      "  'repr', 'rlang', 'rmarkdown', 'roxygen2', 'RSQLite', 'rstudioapi', 'rvest',\n",
      "  'scales', 'selectr', 'shiny', 'sparklyr', 'SQUAREM', 'stringi', 'survival',\n",
      "  'sys', 'testthat', 'tidyr', 'tidyselect', 'tidyverse', 'tinytex', 'TTR',\n",
      "  'vctrs', 'whisker', 'xfun', 'xts', 'yaml', 'zoo'\n"
     ]
    }
   ],
   "source": [
    "#BiocManager::install(\"downloader\")"
   ]
  },
  {
   "cell_type": "code",
   "execution_count": 21,
   "metadata": {},
   "outputs": [
    {
     "name": "stderr",
     "output_type": "stream",
     "text": [
      "Bioconductor version 3.10 (BiocManager 1.30.10), R 3.6.1 (2019-07-05)\n",
      "Installing package(s) 'readr'\n",
      "Updating HTML index of packages in '.Library'\n",
      "Making 'packages.html' ... done\n",
      "Old packages: 'backports', 'BH', 'bit', 'blob', 'broom', 'callr', 'caret',\n",
      "  'cli', 'curl', 'data.table', 'DBI', 'devtools', 'digest', 'dplyr',\n",
      "  'ellipsis', 'fansi', 'foreach', 'forecast', 'fracdiff', 'ggplot2', 'gh',\n",
      "  'haven', 'hexbin', 'hms', 'htmltools', 'htmlwidgets', 'httpuv', 'IRkernel',\n",
      "  'jsonlite', 'KernSmooth', 'knitr', 'later', 'lava', 'MASS', 'Matrix', 'mgcv',\n",
      "  'mime', 'ModelMetrics', 'nlme', 'nycflights13', 'pillar', 'pkgbuild',\n",
      "  'pkgconfig', 'plyr', 'prettyunits', 'processx', 'prodlim', 'promises', 'ps',\n",
      "  'purrr', 'quadprog', 'R6', 'Rcpp', 'RcppArmadillo', 'RCurl', 'recipes',\n",
      "  'repr', 'rlang', 'rmarkdown', 'roxygen2', 'RSQLite', 'rstudioapi', 'rvest',\n",
      "  'scales', 'selectr', 'shiny', 'sparklyr', 'SQUAREM', 'stringi', 'survival',\n",
      "  'sys', 'testthat', 'tidyr', 'tidyselect', 'tidyverse', 'tinytex', 'TTR',\n",
      "  'vctrs', 'whisker', 'xfun', 'xts', 'yaml', 'zoo'\n"
     ]
    }
   ],
   "source": [
    "#BiocManager::install(\"readr\")"
   ]
  },
  {
   "cell_type": "code",
   "execution_count": 22,
   "metadata": {},
   "outputs": [
    {
     "name": "stderr",
     "output_type": "stream",
     "text": [
      "Bioconductor version 3.10 (BiocManager 1.30.10), R 3.6.1 (2019-07-05)\n",
      "Installing package(s) 'biomaRt'\n",
      "Updating HTML index of packages in '.Library'\n",
      "Making 'packages.html' ... done\n",
      "Old packages: 'backports', 'BH', 'bit', 'blob', 'broom', 'callr', 'caret',\n",
      "  'cli', 'curl', 'data.table', 'DBI', 'devtools', 'digest', 'dplyr',\n",
      "  'ellipsis', 'fansi', 'foreach', 'forecast', 'fracdiff', 'ggplot2', 'gh',\n",
      "  'haven', 'hexbin', 'hms', 'htmltools', 'htmlwidgets', 'httpuv', 'IRkernel',\n",
      "  'jsonlite', 'KernSmooth', 'knitr', 'later', 'lava', 'MASS', 'Matrix', 'mgcv',\n",
      "  'mime', 'ModelMetrics', 'nlme', 'nycflights13', 'pillar', 'pkgbuild',\n",
      "  'pkgconfig', 'plyr', 'prettyunits', 'processx', 'prodlim', 'promises', 'ps',\n",
      "  'purrr', 'quadprog', 'R6', 'Rcpp', 'RcppArmadillo', 'RCurl', 'recipes',\n",
      "  'repr', 'rlang', 'rmarkdown', 'roxygen2', 'RSQLite', 'rstudioapi', 'rvest',\n",
      "  'scales', 'selectr', 'shiny', 'sparklyr', 'SQUAREM', 'stringi', 'survival',\n",
      "  'sys', 'testthat', 'tidyr', 'tidyselect', 'tidyverse', 'tinytex', 'TTR',\n",
      "  'vctrs', 'whisker', 'xfun', 'xts', 'yaml', 'zoo'\n"
     ]
    }
   ],
   "source": [
    "#BiocManager::install(\"biomaRt\")"
   ]
  },
  {
   "cell_type": "markdown",
   "metadata": {},
   "source": [
    "Define a V8 of the function from YARN - wrote the author to make this perhaps version - or I guess I could update the package itself.\n",
    "THere were 3 lines to change for each of the source files"
   ]
  },
  {
   "cell_type": "code",
   "execution_count": 23,
   "metadata": {},
   "outputs": [],
   "source": [
    "downloadGTExV8=function (type = \"genes\", file = NULL, ...) \n",
    "{\n",
    "    phenoFile <- \"https://storage.googleapis.com/gtex_analysis_v8/annotations/GTEx_Analysis_v8_Annotations_SampleAttributesDS.txt\"\n",
    "    pheno2File <- \"https://storage.googleapis.com/gtex_analysis_v8/annotations/GTEx_Analysis_v8_Annotations_SubjectPhenotypesDS.txt\"\n",
    "    geneFile <- \"https://storage.googleapis.com/gtex_analysis_v8/rna_seq_data/GTEx_Analysis_2017-06-05_v8_RNASeQCv1.1.9_gene_reads.gct.gz\"\n",
    "    message(\"Downloading and reading files\")\n",
    "    pdFile <- tempfile(\"phenodat\", fileext = \".txt\")\n",
    "    download(phenoFile, destfile = pdFile)\n",
    "    pd <- read_tsv(pdFile)\n",
    "    pd <- as.matrix(pd)\n",
    "    rownames(pd) <- pd[, \"SAMPID\"]\n",
    "    ids <- sapply(strsplit(pd[, \"SAMPID\"], \"-\"), function(i) paste(i[1:2], \n",
    "        collapse = \"-\"))\n",
    "    pd2File <- tempfile(\"phenodat2\", fileext = \".txt\")\n",
    "    download(pheno2File, destfile = pd2File)\n",
    "    pd2 <- read_tsv(pd2File)\n",
    "    pd2 <- as.matrix(pd2)\n",
    "    rownames(pd2) <- pd2[, \"SUBJID\"]\n",
    "    pd2 <- pd2[which(rownames(pd2) %in% unique(ids)), ]\n",
    "    pd2 <- pd2[match(ids, rownames(pd2)), ]\n",
    "    rownames(pd2) <- colnames(counts)\n",
    "    pdfinal <- AnnotatedDataFrame(data.frame(cbind(pd, pd2)))\n",
    "    if (type == \"genes\") {\n",
    "        countsFile <- tempfile(\"counts\", fileext = \".gz\")\n",
    "        download(geneFile, destfile = countsFile)\n",
    "        cnts <- suppressWarnings(read_tsv(geneFile, skip = 2))\n",
    "        genes <- unlist(cnts[, 1])\n",
    "        geneNames <- unlist(cnts[, 2])\n",
    "        counts <- cnts[, -c(1:2)]\n",
    "        counts <- as.matrix(counts)\n",
    "        rownames(counts) <- genes\n",
    "        for (i in 1:nrow(problems(cnts))) {\n",
    "            counts[problems(cnts)$row[i], problems(cnts)$col[i]] <- 1e+05\n",
    "        }\n",
    "        throwAway <- which(rowSums(counts) == 0)\n",
    "        counts <- counts[-throwAway, ]\n",
    "        genes <- sub(\"\\\\..*\", \"\", rownames(counts))\n",
    "        host <- \"www.ensembl.org\"\n",
    "        biomart <- \"ENSEMBL_MART_ENSEMBL\"\n",
    "        dataset <- \"hsapiens_gene_ensembl\"\n",
    "        attributes <- c(\"ensembl_gene_id\", \"hgnc_symbol\", \"chromosome_name\", \n",
    "            \"start_position\", \"end_position\", \"gene_biotype\")\n",
    "    }\n",
    "    message(\"Creating ExpressionSet\")\n",
    "    pdfinal <- pdfinal[match(colnames(counts), rownames(pdfinal)), \n",
    "        ]\n",
    "    es <- ExpressionSet(as.matrix(counts))\n",
    "    phenoData(es) <- pdfinal\n",
    "    pData(es)[\"GTEX-YF7O-2326-101833-SM-5CVN9\", \"SMTS\"] <- \"Skin\"\n",
    "    pData(es)[\"GTEX-YEC3-1426-101806-SM-5PNXX\", \"SMTS\"] <- \"Stomach\"\n",
    "    message(\"Annotating from biomaRt\")\n",
    "    es <- annotateFromBiomart(obj = es, genes = genes, host = host, \n",
    "        biomart = biomart, dataset = dataset, attributes = attributes)\n",
    "    message(\"Cleaning up files\")\n",
    "    unlink(pdFile)\n",
    "    unlink(pd2File)\n",
    "    unlink(countsFile)\n",
    "    if (!is.null(file)) \n",
    "        saveRDS(es, file = file)\n",
    "    return(es)\n",
    "}\n"
   ]
  },
  {
   "cell_type": "markdown",
   "metadata": {},
   "source": [
    "Begin here if you have already run this and created the data/gtex.rds file"
   ]
  },
  {
   "cell_type": "code",
   "execution_count": 36,
   "metadata": {},
   "outputs": [],
   "source": [
    "library(downloader)\n",
    "library(readr)\n",
    "library(biomaRt)\n",
    "#library(yarn)"
   ]
  },
  {
   "cell_type": "code",
   "execution_count": 25,
   "metadata": {},
   "outputs": [
    {
     "data": {
      "text/html": [
       "'/mnt/shared/ec2-user/session_data/mounted-data/lifebit-user-data-e0354335-813e-4085-9693-9457f8507ff1/dataset/5e35bf40e3474100f467262b'"
      ],
      "text/latex": [
       "'/mnt/shared/ec2-user/session\\_data/mounted-data/lifebit-user-data-e0354335-813e-4085-9693-9457f8507ff1/dataset/5e35bf40e3474100f467262b'"
      ],
      "text/markdown": [
       "'/mnt/shared/ec2-user/session_data/mounted-data/lifebit-user-data-e0354335-813e-4085-9693-9457f8507ff1/dataset/5e35bf40e3474100f467262b'"
      ],
      "text/plain": [
       "[1] \"/mnt/shared/ec2-user/session_data/mounted-data/lifebit-user-data-e0354335-813e-4085-9693-9457f8507ff1/dataset/5e35bf40e3474100f467262b\""
      ]
     },
     "metadata": {},
     "output_type": "display_data"
    }
   ],
   "source": [
    "getwd()"
   ]
  },
  {
   "cell_type": "code",
   "execution_count": 26,
   "metadata": {},
   "outputs": [
    {
     "data": {
      "text/html": [
       "'/mnt/shared/ec2-user/session_data/lifebitCloudOSDRE'"
      ],
      "text/latex": [
       "'/mnt/shared/ec2-user/session\\_data/lifebitCloudOSDRE'"
      ],
      "text/markdown": [
       "'/mnt/shared/ec2-user/session_data/lifebitCloudOSDRE'"
      ],
      "text/plain": [
       "[1] \"/mnt/shared/ec2-user/session_data/lifebitCloudOSDRE\""
      ]
     },
     "metadata": {},
     "output_type": "display_data"
    }
   ],
   "source": [
    "setwd('/mnt/shared/ec2-user/session_data/lifebitCloudOSDRE')\n",
    "getwd()"
   ]
  },
  {
   "cell_type": "code",
   "execution_count": 29,
   "metadata": {},
   "outputs": [
    {
     "ename": "ERROR",
     "evalue": "Error in BiocManager(\"yarn\"): could not find function \"BiocManager\"\n",
     "output_type": "error",
     "traceback": [
      "Error in BiocManager(\"yarn\"): could not find function \"BiocManager\"\nTraceback:\n"
     ]
    }
   ],
   "source": [
    "BiocManager(\"yarn\")"
   ]
  },
  {
   "cell_type": "markdown",
   "metadata": {},
   "source": [
    "You may need to adjust your working directory -- the data subdirectory is relative to the lifebitCloudOSDRE working directory"
   ]
  },
  {
   "cell_type": "code",
   "execution_count": 27,
   "metadata": {},
   "outputs": [
    {
     "name": "stderr",
     "output_type": "stream",
     "text": [
      "Downloading and reading files\n",
      "Parsed with column specification:\n",
      "cols(\n",
      "  .default = col_double(),\n",
      "  SAMPID = \u001b[31mcol_character()\u001b[39m,\n",
      "  SMCENTER = \u001b[31mcol_character()\u001b[39m,\n",
      "  SMPTHNTS = \u001b[31mcol_character()\u001b[39m,\n",
      "  SMTS = \u001b[31mcol_character()\u001b[39m,\n",
      "  SMTSD = \u001b[31mcol_character()\u001b[39m,\n",
      "  SMUBRID = \u001b[31mcol_character()\u001b[39m,\n",
      "  SMNABTCH = \u001b[31mcol_character()\u001b[39m,\n",
      "  SMNABTCHT = \u001b[31mcol_character()\u001b[39m,\n",
      "  SMNABTCHD = \u001b[31mcol_character()\u001b[39m,\n",
      "  SMGEBTCH = \u001b[31mcol_character()\u001b[39m,\n",
      "  SMGEBTCHD = \u001b[31mcol_character()\u001b[39m,\n",
      "  SMGEBTCHT = \u001b[31mcol_character()\u001b[39m,\n",
      "  SMAFRZE = \u001b[31mcol_character()\u001b[39m,\n",
      "  SMGTC = \u001b[33mcol_logical()\u001b[39m,\n",
      "  SMNUMGPS = \u001b[33mcol_logical()\u001b[39m,\n",
      "  SM550NRM = \u001b[33mcol_logical()\u001b[39m,\n",
      "  SM350NRM = \u001b[33mcol_logical()\u001b[39m,\n",
      "  SMMNCPB = \u001b[33mcol_logical()\u001b[39m,\n",
      "  SMMNCV = \u001b[33mcol_logical()\u001b[39m,\n",
      "  SMCGLGTH = \u001b[33mcol_logical()\u001b[39m\n",
      "  # ... with 2 more columns\n",
      ")\n",
      "See spec(...) for full column specifications.\n",
      "Warning message:\n",
      "“379 parsing failures.\n",
      "  row   col           expected            actual                                       file\n",
      "14837 SMGTC 1/0/T/F/TRUE/FALSE 6293764057_R01C01 '/tmp/Rtmp0DTXRW/phenodat51286d122c0b.txt'\n",
      "14838 SMGTC 1/0/T/F/TRUE/FALSE 7983311048_R05C02 '/tmp/Rtmp0DTXRW/phenodat51286d122c0b.txt'\n",
      "14889 SMGTC 1/0/T/F/TRUE/FALSE 6293764057_R02C01 '/tmp/Rtmp0DTXRW/phenodat51286d122c0b.txt'\n",
      "14938 SMGTC 1/0/T/F/TRUE/FALSE 6293764057_R03C01 '/tmp/Rtmp0DTXRW/phenodat51286d122c0b.txt'\n",
      "14939 SMGTC 1/0/T/F/TRUE/FALSE 7991783154_R01C02 '/tmp/Rtmp0DTXRW/phenodat51286d122c0b.txt'\n",
      "..... ..... .................. ................. ..........................................\n",
      "See problems(...) for more details.\n",
      "”Parsed with column specification:\n",
      "cols(\n",
      "  SUBJID = \u001b[31mcol_character()\u001b[39m,\n",
      "  SEX = \u001b[32mcol_double()\u001b[39m,\n",
      "  AGE = \u001b[31mcol_character()\u001b[39m,\n",
      "  DTHHRDY = \u001b[32mcol_double()\u001b[39m\n",
      ")\n"
     ]
    },
    {
     "ename": "ERROR",
     "evalue": "Error in colnames(counts): object 'counts' not found\n",
     "output_type": "error",
     "traceback": [
      "Error in colnames(counts): object 'counts' not found\nTraceback:\n",
      "1. downloadGTExV8(type = \"genes\", file = \"data/gtex.rds\")",
      "2. colnames(counts)   # at line 21 of file <text>",
      "3. is.data.frame(x)"
     ]
    }
   ],
   "source": [
    "#obj <- downloadGTExV8(type='genes',file='data/gtex.rds')"
   ]
  },
  {
   "cell_type": "code",
   "execution_count": 28,
   "metadata": {},
   "outputs": [
    {
     "ename": "ERROR",
     "evalue": "Error in eval(expr, envir, enclos): object 'obj' not found\n",
     "output_type": "error",
     "traceback": [
      "Error in eval(expr, envir, enclos): object 'obj' not found\nTraceback:\n"
     ]
    }
   ],
   "source": [
    "obj"
   ]
  },
  {
   "cell_type": "code",
   "execution_count": 32,
   "metadata": {},
   "outputs": [
    {
     "data": {
      "text/html": [
       "'/mnt/shared/ec2-user/session_data/lifebitCloudOSDRE'"
      ],
      "text/latex": [
       "'/mnt/shared/ec2-user/session\\_data/lifebitCloudOSDRE'"
      ],
      "text/markdown": [
       "'/mnt/shared/ec2-user/session_data/lifebitCloudOSDRE'"
      ],
      "text/plain": [
       "[1] \"/mnt/shared/ec2-user/session_data/lifebitCloudOSDRE\""
      ]
     },
     "metadata": {},
     "output_type": "display_data"
    }
   ],
   "source": [
    "getwd()"
   ]
  },
  {
   "cell_type": "code",
   "execution_count": 33,
   "metadata": {},
   "outputs": [
    {
     "name": "stderr",
     "output_type": "stream",
     "text": [
      "Warning message in gzfile(file, \"rb\"):\n",
      "“cannot open compressed file 'data/gtex.rds', probable reason 'No such file or directory'”"
     ]
    },
    {
     "ename": "ERROR",
     "evalue": "Error in gzfile(file, \"rb\"): cannot open the connection\n",
     "output_type": "error",
     "traceback": [
      "Error in gzfile(file, \"rb\"): cannot open the connection\nTraceback:\n",
      "1. readRDS(\"data/gtex.rds\")",
      "2. gzfile(file, \"rb\")"
     ]
    }
   ],
   "source": [
    "obj<-readRDS('data/gtex.rds')"
   ]
  },
  {
   "cell_type": "code",
   "execution_count": null,
   "metadata": {},
   "outputs": [],
   "source": [
    "obj"
   ]
  },
  {
   "cell_type": "code",
   "execution_count": null,
   "metadata": {},
   "outputs": [],
   "source": [
    "tissues <- pData(obj)$SMTS"
   ]
  },
  {
   "cell_type": "code",
   "execution_count": null,
   "metadata": {},
   "outputs": [],
   "source": [
    "dim(pData(obj))"
   ]
  },
  {
   "cell_type": "code",
   "execution_count": null,
   "metadata": {},
   "outputs": [],
   "source": [
    "dim(obj)"
   ]
  },
  {
   "cell_type": "code",
   "execution_count": null,
   "metadata": {},
   "outputs": [],
   "source": [
    "sample_names=as.vector(as.character(colnames(exprs(obj))))\n",
    "head(sample_names)\n",
    "length(sample_names)"
   ]
  },
  {
   "cell_type": "code",
   "execution_count": null,
   "metadata": {},
   "outputs": [],
   "source": [
    "pheno_sample_names=as.vector(as.character(rownames(pData(obj))))\n",
    "head(pheno_sample_names)\n",
    "length(pheno_sample_names)"
   ]
  },
  {
   "cell_type": "markdown",
   "metadata": {},
   "source": [
    "Okay - for some reason our phenotype data is larger than our expression data - I've written Joe Paulson about that.\n",
    "In the meantime, make sure that the two sets are aligned."
   ]
  },
  {
   "cell_type": "code",
   "execution_count": null,
   "metadata": {},
   "outputs": [],
   "source": [
    "logical_match_names=pheno_sample_names %in% sample_names\n",
    "length(logical_match_names)"
   ]
  },
  {
   "cell_type": "code",
   "execution_count": null,
   "metadata": {},
   "outputs": [],
   "source": [
    "table(logical_match_names)\n"
   ]
  },
  {
   "cell_type": "code",
   "execution_count": null,
   "metadata": {},
   "outputs": [],
   "source": [
    "pData(obj) <- (pData(obj)[logical_match_names==TRUE,])"
   ]
  },
  {
   "cell_type": "markdown",
   "metadata": {},
   "source": [
    "Now we want to replace all *dashes* with _underscores_"
   ]
  },
  {
   "cell_type": "code",
   "execution_count": null,
   "metadata": {},
   "outputs": [],
   "source": [
    "newSampID <- gsub('-','\\\\.',pData(obj)$SAMPID)"
   ]
  },
  {
   "cell_type": "code",
   "execution_count": null,
   "metadata": {},
   "outputs": [],
   "source": [
    "head (newSampID)"
   ]
  },
  {
   "cell_type": "code",
   "execution_count": null,
   "metadata": {},
   "outputs": [],
   "source": [
    "pData(obj)$SAMPID <- newSampID"
   ]
  },
  {
   "cell_type": "code",
   "execution_count": null,
   "metadata": {},
   "outputs": [],
   "source": [
    "tissueFactors <- factor(tissues)"
   ]
  },
  {
   "cell_type": "code",
   "execution_count": null,
   "metadata": {},
   "outputs": [],
   "source": [
    "table(tissueFactors)"
   ]
  },
  {
   "cell_type": "code",
   "execution_count": null,
   "metadata": {},
   "outputs": [],
   "source": [
    "# SEX is coded 1 == Male\n",
    "#              2 == Female\n",
    "sex <- pData(obj)$SEX\n",
    "age <- pData(obj)$AGE\n",
    "#cod <- cause of death\n",
    "cod <- pData(obj)$DTHHRDY\n",
    "    "
   ]
  },
  {
   "cell_type": "code",
   "execution_count": null,
   "metadata": {},
   "outputs": [],
   "source": [
    "table(sex)\n",
    "table(age)\n",
    "table(cod)"
   ]
  },
  {
   "cell_type": "markdown",
   "metadata": {},
   "source": [
    "Now let us do the differential analysis - using EdgeR"
   ]
  },
  {
   "cell_type": "code",
   "execution_count": 15,
   "metadata": {},
   "outputs": [
    {
     "name": "stderr",
     "output_type": "stream",
     "text": [
      "Bioconductor version 3.10 (BiocManager 1.30.10), R 3.6.1 (2019-07-05)\n",
      "Installing package(s) 'edgeR'\n",
      "also installing the dependency ‘locfit’\n",
      "\n",
      "Updating HTML index of packages in '.Library'\n",
      "Making 'packages.html' ... done\n",
      "Old packages: 'backports', 'BH', 'bit', 'blob', 'broom', 'callr', 'caret',\n",
      "  'cli', 'curl', 'data.table', 'DBI', 'devtools', 'digest', 'dplyr',\n",
      "  'ellipsis', 'fansi', 'foreach', 'forecast', 'fracdiff', 'ggplot2', 'gh',\n",
      "  'haven', 'hexbin', 'hms', 'htmltools', 'htmlwidgets', 'httpuv', 'IRkernel',\n",
      "  'jsonlite', 'KernSmooth', 'knitr', 'later', 'lava', 'MASS', 'Matrix', 'mgcv',\n",
      "  'mime', 'ModelMetrics', 'nlme', 'nycflights13', 'pillar', 'pkgbuild',\n",
      "  'pkgconfig', 'plyr', 'prettyunits', 'processx', 'prodlim', 'promises',\n",
      "  'purrr', 'quadprog', 'R6', 'Rcpp', 'RcppArmadillo', 'RCurl', 'recipes',\n",
      "  'repr', 'rlang', 'rmarkdown', 'roxygen2', 'RSQLite', 'rstudioapi', 'rvest',\n",
      "  'scales', 'selectr', 'shiny', 'sparklyr', 'SQUAREM', 'stringi', 'survival',\n",
      "  'sys', 'testthat', 'tidyr', 'tidyselect', 'tidyverse', 'tinytex', 'TTR',\n",
      "  'vctrs', 'whisker', 'xfun', 'xts', 'yaml', 'zoo'\n",
      "Loading required package: limma\n"
     ]
    }
   ],
   "source": [
    "BiocManager::install(\"edgeR\")\n",
    "library(edgeR)"
   ]
  },
  {
   "cell_type": "code",
   "execution_count": null,
   "metadata": {},
   "outputs": [],
   "source": [
    "x <- exprs(obj)"
   ]
  },
  {
   "cell_type": "code",
   "execution_count": null,
   "metadata": {},
   "outputs": [],
   "source": [
    "dim(x)"
   ]
  },
  {
   "cell_type": "markdown",
   "metadata": {},
   "source": [
    "To use the DGEList function from EdgeR, we need to transpose our x so that the length of group is equal\n",
    "to the number of columns in our counts (x).\n",
    "\n",
    "You will get an error in DGEList (counts = x, group = group) if the length of group is not equal to the number of columns in counts"
   ]
  },
  {
   "cell_type": "code",
   "execution_count": null,
   "metadata": {},
   "outputs": [],
   "source": [
    "group <- factor(pData(obj)$SEX)"
   ]
  },
  {
   "cell_type": "code",
   "execution_count": null,
   "metadata": {},
   "outputs": [],
   "source": [
    "y <- DGEList(counts=x, group=group)"
   ]
  },
  {
   "cell_type": "code",
   "execution_count": null,
   "metadata": {},
   "outputs": [],
   "source": []
  },
  {
   "cell_type": "markdown",
   "metadata": {},
   "source": [
    "I keep running out of memory on this step - so on my laptop after calculating the DGEList\n",
    "I saved it and now I uploaded it to this larger memory machine"
   ]
  },
  {
   "cell_type": "code",
   "execution_count": 10,
   "metadata": {},
   "outputs": [],
   "source": [
    "setwd(\"../../mounted-data/lifebit-user-data-e0354335-813e-4085-9693-9457f8507ff1/dataset/5e35bf40e3474100f467262b/\")"
   ]
  },
  {
   "cell_type": "code",
   "execution_count": 11,
   "metadata": {},
   "outputs": [
    {
     "data": {
      "text/html": [
       "'/mnt/shared/ec2-user/session_data/mounted-data/lifebit-user-data-e0354335-813e-4085-9693-9457f8507ff1/dataset/5e35bf40e3474100f467262b'"
      ],
      "text/latex": [
       "'/mnt/shared/ec2-user/session\\_data/mounted-data/lifebit-user-data-e0354335-813e-4085-9693-9457f8507ff1/dataset/5e35bf40e3474100f467262b'"
      ],
      "text/markdown": [
       "'/mnt/shared/ec2-user/session_data/mounted-data/lifebit-user-data-e0354335-813e-4085-9693-9457f8507ff1/dataset/5e35bf40e3474100f467262b'"
      ],
      "text/plain": [
       "[1] \"/mnt/shared/ec2-user/session_data/mounted-data/lifebit-user-data-e0354335-813e-4085-9693-9457f8507ff1/dataset/5e35bf40e3474100f467262b\""
      ]
     },
     "metadata": {},
     "output_type": "display_data"
    }
   ],
   "source": [
    "getwd()"
   ]
  },
  {
   "cell_type": "code",
   "execution_count": 12,
   "metadata": {},
   "outputs": [],
   "source": [
    "y <- readRDS(\"DGEy.rds\")"
   ]
  },
  {
   "cell_type": "code",
   "execution_count": 13,
   "metadata": {},
   "outputs": [
    {
     "data": {
      "text/html": [
       "<dl>\n",
       "\t<dt>$class</dt>\n",
       "\t\t<dd>'DGEList'</dd>\n",
       "\t<dt>$names</dt>\n",
       "\t\t<dd><ol class=list-inline>\n",
       "\t<li>'counts'</li>\n",
       "\t<li>'samples'</li>\n",
       "</ol>\n",
       "</dd>\n",
       "</dl>\n"
      ],
      "text/latex": [
       "\\begin{description}\n",
       "\\item[\\$class] 'DGEList'\n",
       "\\item[\\$names] \\begin{enumerate*}\n",
       "\\item 'counts'\n",
       "\\item 'samples'\n",
       "\\end{enumerate*}\n",
       "\n",
       "\\end{description}\n"
      ],
      "text/markdown": [
       "$class\n",
       ":   'DGEList'\n",
       "$names\n",
       ":   1. 'counts'\n",
       "2. 'samples'\n",
       "\n",
       "\n",
       "\n",
       "\n",
       "\n"
      ],
      "text/plain": [
       "$class\n",
       "[1] \"DGEList\"\n",
       "attr(,\"package\")\n",
       "[1] \"edgeR\"\n",
       "\n",
       "$names\n",
       "[1] \"counts\"  \"samples\"\n"
      ]
     },
     "metadata": {},
     "output_type": "display_data"
    }
   ],
   "source": [
    "attributes(y)"
   ]
  },
  {
   "cell_type": "code",
   "execution_count": 16,
   "metadata": {},
   "outputs": [],
   "source": [
    "y <- calcNormFactors(y)"
   ]
  },
  {
   "cell_type": "code",
   "execution_count": 17,
   "metadata": {},
   "outputs": [],
   "source": [
    "saveRDS(y, file = \"DGENormFactorsy.rds\")"
   ]
  },
  {
   "cell_type": "markdown",
   "metadata": {},
   "source": [
    "We only want to keep those events that are greater than the first quartile (25%),\n",
    "this is done using all non-zero (>1) events >= 0.25 min(table(pData(obj)$SEX))\n",
    "\n",
    "Recall SEX is coded 1 for male, 2 for female"
   ]
  },
  {
   "cell_type": "code",
   "execution_count": null,
   "metadata": {},
   "outputs": [],
   "source": [
    "groups <- pData(obj)$SEX\n",
    "keep.events <- rep(TRUE, nrow(y))\n",
    "for (group in c(1,2)) {\n",
    "    keep.events <- keep.events & \n",
    "                   rowSums(cpm(y[,groups %in% group]) > 1) >= 0.25*min(table(groups))\n",
    "}\n"
   ]
  }
 ],
 "metadata": {
  "kernelspec": {
   "display_name": "R",
   "language": "R",
   "name": "ir"
  },
  "language_info": {
   "codemirror_mode": "r",
   "file_extension": ".r",
   "mimetype": "text/x-r-source",
   "name": "R",
   "pygments_lexer": "r",
   "version": "3.6.1"
  }
 },
 "nbformat": 4,
 "nbformat_minor": 4
}
