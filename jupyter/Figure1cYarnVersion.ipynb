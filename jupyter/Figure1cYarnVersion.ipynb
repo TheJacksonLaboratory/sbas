{
 "cells": [
  {
   "cell_type": "markdown",
   "metadata": {},
   "source": [
    "# Figure 1C - YARN Normalization Version"
   ]
  },
  {
   "cell_type": "markdown",
   "metadata": {},
   "source": [
    "A `heatplot` representing similarity in the fold-changes between male and female samples, with the values in the heatmap being the correlation between the vectors of fold changes of the tissues. </b>"
   ]
  },
  {
   "cell_type": "markdown",
   "metadata": {},
   "source": [
    "We downloaded the GTEx version 8.0 RNA-seq and genotype data (phs000424.v8.v2), released 2019-08-26.\n",
    "We used YARN (https://bioconductor.org/packages/release/bioc/html/yarn.html), uploading the downloadGTEx function\n",
    "to download this release, and used it to perform quality control, gene filtering and normalization pre-processing on the\n",
    "GTEx RNA-seq data, as described in (Paulson et al, 2017).   This pipelines tested for sample sex-misidentification, \n",
    "merged related sub-tissues, performed tissue-aware normalization using qsmooth (Hicks et al, 2017)."
   ]
  },
  {
   "cell_type": "markdown",
   "metadata": {},
   "source": [
    "## Loading dependencies"
   ]
  },
  {
   "cell_type": "code",
   "execution_count": 137,
   "metadata": {},
   "outputs": [],
   "source": [
    "library(downloader)\n",
    "library(readr)\n",
    "library(edgeR)\n",
    "library(biomaRt)\n",
    "library(DBI) # v >= 1.1.0 required for biomaRt\n",
    "library(devtools)\n",
    "library(yarn)\n",
    "library(statmod)\n",
    "library(piggyback)\n",
    "library(snakecase)\n",
    "Sys.setenv(TAR = \"/bin/tar\") # for gzfile"
   ]
  },
  {
   "cell_type": "markdown",
   "metadata": {},
   "source": [
    "Begin here if you have already run this and created the `data/gtex.rds` file"
   ]
  },
  {
   "cell_type": "markdown",
   "metadata": {},
   "source": [
    "Please `git clone` the repository and start working after changing to this as your working directory (`cd lifebitCloudOSDRE`). The `data` subdirectory, along with all other paths used in this Notebook are relative to the `lifebitCloudOSDRE` repository."
   ]
  },
  {
   "cell_type": "code",
   "execution_count": null,
   "metadata": {},
   "outputs": [
    {
     "name": "stderr",
     "output_type": "stream",
     "text": [
      "Downloading GTEx v8 with 'yarn::downloadGTExV8()'\n",
      "Downloading and reading files\n",
      "Parsed with column specification:\n",
      "cols(\n",
      "  .default = col_double(),\n",
      "  SAMPID = \u001b[31mcol_character()\u001b[39m,\n",
      "  SMCENTER = \u001b[31mcol_character()\u001b[39m,\n",
      "  SMPTHNTS = \u001b[31mcol_character()\u001b[39m,\n",
      "  SMTS = \u001b[31mcol_character()\u001b[39m,\n",
      "  SMTSD = \u001b[31mcol_character()\u001b[39m,\n",
      "  SMUBRID = \u001b[31mcol_character()\u001b[39m,\n",
      "  SMNABTCH = \u001b[31mcol_character()\u001b[39m,\n",
      "  SMNABTCHT = \u001b[31mcol_character()\u001b[39m,\n",
      "  SMNABTCHD = \u001b[31mcol_character()\u001b[39m,\n",
      "  SMGEBTCH = \u001b[31mcol_character()\u001b[39m,\n",
      "  SMGEBTCHD = \u001b[31mcol_character()\u001b[39m,\n",
      "  SMGEBTCHT = \u001b[31mcol_character()\u001b[39m,\n",
      "  SMAFRZE = \u001b[31mcol_character()\u001b[39m,\n",
      "  SMGTC = \u001b[33mcol_logical()\u001b[39m,\n",
      "  SMNUMGPS = \u001b[33mcol_logical()\u001b[39m,\n",
      "  SM550NRM = \u001b[33mcol_logical()\u001b[39m,\n",
      "  SM350NRM = \u001b[33mcol_logical()\u001b[39m,\n",
      "  SMMNCPB = \u001b[33mcol_logical()\u001b[39m,\n",
      "  SMMNCV = \u001b[33mcol_logical()\u001b[39m,\n",
      "  SMCGLGTH = \u001b[33mcol_logical()\u001b[39m\n",
      "  # ... with 2 more columns\n",
      ")\n",
      "See spec(...) for full column specifications.\n",
      "Warning message:\n",
      "“379 parsing failures.\n",
      "  row   col           expected            actual                                       file\n",
      "14837 SMGTC 1/0/T/F/TRUE/FALSE 6293764057_R01C01 '/tmp/RtmpSZvYDF/phenodat56491469a517.txt'\n",
      "14838 SMGTC 1/0/T/F/TRUE/FALSE 7983311048_R05C02 '/tmp/RtmpSZvYDF/phenodat56491469a517.txt'\n",
      "14889 SMGTC 1/0/T/F/TRUE/FALSE 6293764057_R02C01 '/tmp/RtmpSZvYDF/phenodat56491469a517.txt'\n",
      "14938 SMGTC 1/0/T/F/TRUE/FALSE 6293764057_R03C01 '/tmp/RtmpSZvYDF/phenodat56491469a517.txt'\n",
      "14939 SMGTC 1/0/T/F/TRUE/FALSE 7991783154_R01C02 '/tmp/RtmpSZvYDF/phenodat56491469a517.txt'\n",
      "..... ..... .................. ................. ..........................................\n",
      "See problems(...) for more details.\n",
      "”Parsed with column specification:\n",
      "cols(\n",
      "  SUBJID = \u001b[31mcol_character()\u001b[39m,\n",
      "  SEX = \u001b[32mcol_double()\u001b[39m,\n",
      "  AGE = \u001b[31mcol_character()\u001b[39m,\n",
      "  DTHHRDY = \u001b[32mcol_double()\u001b[39m\n",
      ")\n"
     ]
    }
   ],
   "source": [
    "#NOTE TO USERS:\n",
    "#\n",
    "# Either run option 1 or option 2\n",
    "#\n",
    "# 1. CAUTION! It requires some minutes to complete, also memory and enough storage\n",
    "#\n",
    "\n",
    "# Load with readRDS() if gtex.rds available in data/\n",
    "if (\"gtex.rds\" %in% list.files(\"../data/\")) {\n",
    "    message(\"Loading GTEx v8 rds object with readRDS from /data/gtex.rds ..\\n\")    \n",
    "    obj <- readRDS(file = \"../data/gtex.rds\" )\n",
    "    message(\"Done!\")    \n",
    "}\n",
    "\n",
    "# Download if not available in ../data\n",
    "if (!(\"gtex.rds\" %in% list.files(\"../data/\"))) {\n",
    "    message(\"Downloading GTEx v8 with 'yarn::downloadGTExV8()'\")\n",
    "    obj <- yarn::downloadGTExV8(type='genes',file='../data/gtex.rds')\n",
    "    message(\"Done!\")    \n",
    "\n",
    "}\n",
    "\n",
    "#\n",
    "# or\n",
    "#\n",
    "# 2. Retrieve the released location the already generated gtex.rds\n",
    "# \n",
    "#    Run the following line in the data directory prior to the next line if you wish to use the already\n",
    "#    generated file.\n",
    "# \n",
    "#    and then run this line.\n",
    "#   \n",
    "#    To Run option 2 -- launch a terminal window \n",
    "#    and change to the 'data' subdirectory\n",
    "#\n",
    "#    cd lifebitCloudOSDRE/data\n",
    "#\n",
    "#    and run this command\n",
    "#\n",
    "#    wget https://github.com/lifebit-ai/lifebitCloudOSDREgtex/releases/download/gtex_archive/gtex.rds\n",
    "#  \n",
    "#    Then come back to this R code and uncomment this line.\n",
    "#\n",
    "#    obj <- readRDS(\"../data/gtex.rds\")"
   ]
  },
  {
   "cell_type": "code",
   "execution_count": null,
   "metadata": {},
   "outputs": [],
   "source": [
    "# Confirm that it is an expression set.\n",
    "# and check the dimensions of the objects, and the phenotype information of the objects\n",
    "class(obj) \n",
    "dim(phenoData(obj))\n",
    "dim(obj)"
   ]
  },
  {
   "cell_type": "code",
   "execution_count": 4,
   "metadata": {},
   "outputs": [
    {
     "data": {
      "text/html": [
       "<style>\n",
       ".list-inline {list-style: none; margin:0; padding: 0}\n",
       ".list-inline>li {display: inline-block}\n",
       ".list-inline>li:not(:last-child)::after {content: \"\\00b7\"; padding: 0 .5ex}\n",
       "</style>\n",
       "<ol class=list-inline><li>'GTEX-1117F-0226-SM-5GZZ7'</li><li>'GTEX-1117F-0426-SM-5EGHI'</li><li>'GTEX-1117F-0526-SM-5EGHJ'</li><li>'GTEX-1117F-0626-SM-5N9CS'</li><li>'GTEX-1117F-0726-SM-5GIEN'</li><li>'GTEX-1117F-1326-SM-5EGHH'</li></ol>\n"
      ],
      "text/latex": [
       "\\begin{enumerate*}\n",
       "\\item 'GTEX-1117F-0226-SM-5GZZ7'\n",
       "\\item 'GTEX-1117F-0426-SM-5EGHI'\n",
       "\\item 'GTEX-1117F-0526-SM-5EGHJ'\n",
       "\\item 'GTEX-1117F-0626-SM-5N9CS'\n",
       "\\item 'GTEX-1117F-0726-SM-5GIEN'\n",
       "\\item 'GTEX-1117F-1326-SM-5EGHH'\n",
       "\\end{enumerate*}\n"
      ],
      "text/markdown": [
       "1. 'GTEX-1117F-0226-SM-5GZZ7'\n",
       "2. 'GTEX-1117F-0426-SM-5EGHI'\n",
       "3. 'GTEX-1117F-0526-SM-5EGHJ'\n",
       "4. 'GTEX-1117F-0626-SM-5N9CS'\n",
       "5. 'GTEX-1117F-0726-SM-5GIEN'\n",
       "6. 'GTEX-1117F-1326-SM-5EGHH'\n",
       "\n",
       "\n"
      ],
      "text/plain": [
       "[1] \"GTEX-1117F-0226-SM-5GZZ7\" \"GTEX-1117F-0426-SM-5EGHI\"\n",
       "[3] \"GTEX-1117F-0526-SM-5EGHJ\" \"GTEX-1117F-0626-SM-5N9CS\"\n",
       "[5] \"GTEX-1117F-0726-SM-5GIEN\" \"GTEX-1117F-1326-SM-5EGHH\""
      ]
     },
     "metadata": {},
     "output_type": "display_data"
    },
    {
     "data": {
      "text/html": [
       "17382"
      ],
      "text/latex": [
       "17382"
      ],
      "text/markdown": [
       "17382"
      ],
      "text/plain": [
       "[1] 17382"
      ]
     },
     "metadata": {},
     "output_type": "display_data"
    },
    {
     "data": {
      "text/html": [
       "<style>\n",
       ".list-inline {list-style: none; margin:0; padding: 0}\n",
       ".list-inline>li {display: inline-block}\n",
       ".list-inline>li:not(:last-child)::after {content: \"\\00b7\"; padding: 0 .5ex}\n",
       "</style>\n",
       "<ol class=list-inline><li>'GTEX-1117F-0226-SM-5GZZ7'</li><li>'GTEX-1117F-0426-SM-5EGHI'</li><li>'GTEX-1117F-0526-SM-5EGHJ'</li><li>'GTEX-1117F-0626-SM-5N9CS'</li><li>'GTEX-1117F-0726-SM-5GIEN'</li><li>'GTEX-1117F-1326-SM-5EGHH'</li></ol>\n"
      ],
      "text/latex": [
       "\\begin{enumerate*}\n",
       "\\item 'GTEX-1117F-0226-SM-5GZZ7'\n",
       "\\item 'GTEX-1117F-0426-SM-5EGHI'\n",
       "\\item 'GTEX-1117F-0526-SM-5EGHJ'\n",
       "\\item 'GTEX-1117F-0626-SM-5N9CS'\n",
       "\\item 'GTEX-1117F-0726-SM-5GIEN'\n",
       "\\item 'GTEX-1117F-1326-SM-5EGHH'\n",
       "\\end{enumerate*}\n"
      ],
      "text/markdown": [
       "1. 'GTEX-1117F-0226-SM-5GZZ7'\n",
       "2. 'GTEX-1117F-0426-SM-5EGHI'\n",
       "3. 'GTEX-1117F-0526-SM-5EGHJ'\n",
       "4. 'GTEX-1117F-0626-SM-5N9CS'\n",
       "5. 'GTEX-1117F-0726-SM-5GIEN'\n",
       "6. 'GTEX-1117F-1326-SM-5EGHH'\n",
       "\n",
       "\n"
      ],
      "text/plain": [
       "[1] \"GTEX-1117F-0226-SM-5GZZ7\" \"GTEX-1117F-0426-SM-5EGHI\"\n",
       "[3] \"GTEX-1117F-0526-SM-5EGHJ\" \"GTEX-1117F-0626-SM-5N9CS\"\n",
       "[5] \"GTEX-1117F-0726-SM-5GIEN\" \"GTEX-1117F-1326-SM-5EGHH\""
      ]
     },
     "metadata": {},
     "output_type": "display_data"
    },
    {
     "data": {
      "text/html": [
       "17384"
      ],
      "text/latex": [
       "17384"
      ],
      "text/markdown": [
       "17384"
      ],
      "text/plain": [
       "[1] 17384"
      ]
     },
     "metadata": {},
     "output_type": "display_data"
    },
    {
     "data": {
      "text/html": [
       "17384"
      ],
      "text/latex": [
       "17384"
      ],
      "text/markdown": [
       "17384"
      ],
      "text/plain": [
       "[1] 17384"
      ]
     },
     "metadata": {},
     "output_type": "display_data"
    },
    {
     "data": {
      "text/plain": [
       "logical_match_names\n",
       "FALSE  TRUE \n",
       "    2 17382 "
      ]
     },
     "metadata": {},
     "output_type": "display_data"
    },
    {
     "data": {
      "text/html": [
       "<style>\n",
       ".list-inline {list-style: none; margin:0; padding: 0}\n",
       ".list-inline>li {display: inline-block}\n",
       ".list-inline>li:not(:last-child)::after {content: \"\\00b7\"; padding: 0 .5ex}\n",
       "</style>\n",
       "<ol class=list-inline><li>17382</li><li>67</li></ol>\n"
      ],
      "text/latex": [
       "\\begin{enumerate*}\n",
       "\\item 17382\n",
       "\\item 67\n",
       "\\end{enumerate*}\n"
      ],
      "text/markdown": [
       "1. 17382\n",
       "2. 67\n",
       "\n",
       "\n"
      ],
      "text/plain": [
       "[1] 17382    67"
      ]
     },
     "metadata": {},
     "output_type": "display_data"
    },
    {
     "data": {
      "text/html": [
       "<style>\n",
       ".dl-inline {width: auto; margin:0; padding: 0}\n",
       ".dl-inline>dt, .dl-inline>dd {float: none; width: auto; display: inline-block}\n",
       ".dl-inline>dt::after {content: \":\\0020\"; padding-right: .5ex}\n",
       ".dl-inline>dt:not(:first-of-type) {padding-left: .5ex}\n",
       "</style><dl class=dl-inline><dt>Features</dt><dd>55878</dd><dt>Samples</dt><dd>17382</dd></dl>\n"
      ],
      "text/latex": [
       "\\begin{description*}\n",
       "\\item[Features] 55878\n",
       "\\item[Samples] 17382\n",
       "\\end{description*}\n"
      ],
      "text/markdown": [
       "Features\n",
       ":   55878Samples\n",
       ":   17382\n",
       "\n"
      ],
      "text/plain": [
       "Features  Samples \n",
       "   55878    17382 "
      ]
     },
     "metadata": {},
     "output_type": "display_data"
    }
   ],
   "source": [
    "#Okay - for some reason our phenotype data is larger than our expression data - I've written Joe Paulson about that.\n",
    "#In the meantime, make sure that the two sets are aligned.\n",
    "sample_names=as.vector(as.character(colnames(exprs(obj))))\n",
    "head(sample_names)\n",
    "length(sample_names)\n",
    "\n",
    "pheno_sample_names=as.vector(as.character(rownames(pData(obj))))\n",
    "head(pheno_sample_names)\n",
    "length(pheno_sample_names)\n",
    "\n",
    "logical_match_names=pheno_sample_names %in% sample_names\n",
    "length(logical_match_names)\n",
    "table(logical_match_names)\n",
    "pData(obj) <- (pData(obj)[logical_match_names==TRUE,])\n",
    "dim(pData(obj))\n",
    "dim(obj)"
   ]
  },
  {
   "cell_type": "code",
   "execution_count": 5,
   "metadata": {},
   "outputs": [],
   "source": [
    "#  Now we want to replace all *dashes* with _underscores_"
   ]
  },
  {
   "cell_type": "code",
   "execution_count": 6,
   "metadata": {},
   "outputs": [],
   "source": [
    "newSampID <- gsub('-','\\\\.',pData(obj)$SAMPID)"
   ]
  },
  {
   "cell_type": "code",
   "execution_count": 7,
   "metadata": {},
   "outputs": [
    {
     "data": {
      "text/html": [
       "<style>\n",
       ".list-inline {list-style: none; margin:0; padding: 0}\n",
       ".list-inline>li {display: inline-block}\n",
       ".list-inline>li:not(:last-child)::after {content: \"\\00b7\"; padding: 0 .5ex}\n",
       "</style>\n",
       "<ol class=list-inline><li>'GTEX.1117F.0226.SM.5GZZ7'</li><li>'GTEX.1117F.0426.SM.5EGHI'</li><li>'GTEX.1117F.0526.SM.5EGHJ'</li><li>'GTEX.1117F.0626.SM.5N9CS'</li><li>'GTEX.1117F.0726.SM.5GIEN'</li><li>'GTEX.1117F.1326.SM.5EGHH'</li></ol>\n"
      ],
      "text/latex": [
       "\\begin{enumerate*}\n",
       "\\item 'GTEX.1117F.0226.SM.5GZZ7'\n",
       "\\item 'GTEX.1117F.0426.SM.5EGHI'\n",
       "\\item 'GTEX.1117F.0526.SM.5EGHJ'\n",
       "\\item 'GTEX.1117F.0626.SM.5N9CS'\n",
       "\\item 'GTEX.1117F.0726.SM.5GIEN'\n",
       "\\item 'GTEX.1117F.1326.SM.5EGHH'\n",
       "\\end{enumerate*}\n"
      ],
      "text/markdown": [
       "1. 'GTEX.1117F.0226.SM.5GZZ7'\n",
       "2. 'GTEX.1117F.0426.SM.5EGHI'\n",
       "3. 'GTEX.1117F.0526.SM.5EGHJ'\n",
       "4. 'GTEX.1117F.0626.SM.5N9CS'\n",
       "5. 'GTEX.1117F.0726.SM.5GIEN'\n",
       "6. 'GTEX.1117F.1326.SM.5EGHH'\n",
       "\n",
       "\n"
      ],
      "text/plain": [
       "[1] \"GTEX.1117F.0226.SM.5GZZ7\" \"GTEX.1117F.0426.SM.5EGHI\"\n",
       "[3] \"GTEX.1117F.0526.SM.5EGHJ\" \"GTEX.1117F.0626.SM.5N9CS\"\n",
       "[5] \"GTEX.1117F.0726.SM.5GIEN\" \"GTEX.1117F.1326.SM.5EGHH\""
      ]
     },
     "metadata": {},
     "output_type": "display_data"
    }
   ],
   "source": [
    "head (newSampID)"
   ]
  },
  {
   "cell_type": "code",
   "execution_count": 8,
   "metadata": {},
   "outputs": [],
   "source": [
    "pData(obj)$SAMPID <- newSampID"
   ]
  },
  {
   "cell_type": "code",
   "execution_count": 9,
   "metadata": {},
   "outputs": [
    {
     "data": {
      "text/html": [
       "<style>\n",
       ".list-inline {list-style: none; margin:0; padding: 0}\n",
       ".list-inline>li {display: inline-block}\n",
       ".list-inline>li:not(:last-child)::after {content: \"\\00b7\"; padding: 0 .5ex}\n",
       "</style>\n",
       "<ol class=list-inline><li>'SAMPID'</li><li>'SMATSSCR'</li><li>'SMCENTER'</li><li>'SMPTHNTS'</li><li>'SMRIN'</li><li>'SMTS'</li><li>'SMTSD'</li><li>'SMUBRID'</li><li>'SMTSISCH'</li><li>'SMTSPAX'</li><li>'SMNABTCH'</li><li>'SMNABTCHT'</li><li>'SMNABTCHD'</li><li>'SMGEBTCH'</li><li>'SMGEBTCHD'</li><li>'SMGEBTCHT'</li><li>'SMAFRZE'</li><li>'SMGTC'</li><li>'SME2MPRT'</li><li>'SMCHMPRS'</li><li>'SMNTRART'</li><li>'SMNUMGPS'</li><li>'SMMAPRT'</li><li>'SMEXNCRT'</li><li>'SM550NRM'</li><li>'SMGNSDTC'</li><li>'SMUNMPRT'</li><li>'SM350NRM'</li><li>'SMRDLGTH'</li><li>'SMMNCPB'</li><li>'SME1MMRT'</li><li>'SMSFLGTH'</li><li>'SMESTLBS'</li><li>'SMMPPD'</li><li>'SMNTERRT'</li><li>'SMRRNANM'</li><li>'SMRDTTL'</li><li>'SMVQCFL'</li><li>'SMMNCV'</li><li>'SMTRSCPT'</li><li>'SMMPPDPR'</li><li>'SMCGLGTH'</li><li>'SMGAPPCT'</li><li>'SMUNPDRD'</li><li>'SMNTRNRT'</li><li>'SMMPUNRT'</li><li>'SMEXPEFF'</li><li>'SMMPPDUN'</li><li>'SME2MMRT'</li><li>'SME2ANTI'</li><li>'SMALTALG'</li><li>'SME2SNSE'</li><li>'SMMFLGTH'</li><li>'SME1ANTI'</li><li>'SMSPLTRD'</li><li>'SMBSMMRT'</li><li>'SME1SNSE'</li><li>'SME1PCTS'</li><li>'SMRRNART'</li><li>'SME1MPRT'</li><li>'SMNUM5CD'</li><li>'SMDPMPRT'</li><li>'SME2PCTS'</li><li>'SUBJID'</li><li>'SEX'</li><li>'AGE'</li><li>'DTHHRDY'</li></ol>\n"
      ],
      "text/latex": [
       "\\begin{enumerate*}\n",
       "\\item 'SAMPID'\n",
       "\\item 'SMATSSCR'\n",
       "\\item 'SMCENTER'\n",
       "\\item 'SMPTHNTS'\n",
       "\\item 'SMRIN'\n",
       "\\item 'SMTS'\n",
       "\\item 'SMTSD'\n",
       "\\item 'SMUBRID'\n",
       "\\item 'SMTSISCH'\n",
       "\\item 'SMTSPAX'\n",
       "\\item 'SMNABTCH'\n",
       "\\item 'SMNABTCHT'\n",
       "\\item 'SMNABTCHD'\n",
       "\\item 'SMGEBTCH'\n",
       "\\item 'SMGEBTCHD'\n",
       "\\item 'SMGEBTCHT'\n",
       "\\item 'SMAFRZE'\n",
       "\\item 'SMGTC'\n",
       "\\item 'SME2MPRT'\n",
       "\\item 'SMCHMPRS'\n",
       "\\item 'SMNTRART'\n",
       "\\item 'SMNUMGPS'\n",
       "\\item 'SMMAPRT'\n",
       "\\item 'SMEXNCRT'\n",
       "\\item 'SM550NRM'\n",
       "\\item 'SMGNSDTC'\n",
       "\\item 'SMUNMPRT'\n",
       "\\item 'SM350NRM'\n",
       "\\item 'SMRDLGTH'\n",
       "\\item 'SMMNCPB'\n",
       "\\item 'SME1MMRT'\n",
       "\\item 'SMSFLGTH'\n",
       "\\item 'SMESTLBS'\n",
       "\\item 'SMMPPD'\n",
       "\\item 'SMNTERRT'\n",
       "\\item 'SMRRNANM'\n",
       "\\item 'SMRDTTL'\n",
       "\\item 'SMVQCFL'\n",
       "\\item 'SMMNCV'\n",
       "\\item 'SMTRSCPT'\n",
       "\\item 'SMMPPDPR'\n",
       "\\item 'SMCGLGTH'\n",
       "\\item 'SMGAPPCT'\n",
       "\\item 'SMUNPDRD'\n",
       "\\item 'SMNTRNRT'\n",
       "\\item 'SMMPUNRT'\n",
       "\\item 'SMEXPEFF'\n",
       "\\item 'SMMPPDUN'\n",
       "\\item 'SME2MMRT'\n",
       "\\item 'SME2ANTI'\n",
       "\\item 'SMALTALG'\n",
       "\\item 'SME2SNSE'\n",
       "\\item 'SMMFLGTH'\n",
       "\\item 'SME1ANTI'\n",
       "\\item 'SMSPLTRD'\n",
       "\\item 'SMBSMMRT'\n",
       "\\item 'SME1SNSE'\n",
       "\\item 'SME1PCTS'\n",
       "\\item 'SMRRNART'\n",
       "\\item 'SME1MPRT'\n",
       "\\item 'SMNUM5CD'\n",
       "\\item 'SMDPMPRT'\n",
       "\\item 'SME2PCTS'\n",
       "\\item 'SUBJID'\n",
       "\\item 'SEX'\n",
       "\\item 'AGE'\n",
       "\\item 'DTHHRDY'\n",
       "\\end{enumerate*}\n"
      ],
      "text/markdown": [
       "1. 'SAMPID'\n",
       "2. 'SMATSSCR'\n",
       "3. 'SMCENTER'\n",
       "4. 'SMPTHNTS'\n",
       "5. 'SMRIN'\n",
       "6. 'SMTS'\n",
       "7. 'SMTSD'\n",
       "8. 'SMUBRID'\n",
       "9. 'SMTSISCH'\n",
       "10. 'SMTSPAX'\n",
       "11. 'SMNABTCH'\n",
       "12. 'SMNABTCHT'\n",
       "13. 'SMNABTCHD'\n",
       "14. 'SMGEBTCH'\n",
       "15. 'SMGEBTCHD'\n",
       "16. 'SMGEBTCHT'\n",
       "17. 'SMAFRZE'\n",
       "18. 'SMGTC'\n",
       "19. 'SME2MPRT'\n",
       "20. 'SMCHMPRS'\n",
       "21. 'SMNTRART'\n",
       "22. 'SMNUMGPS'\n",
       "23. 'SMMAPRT'\n",
       "24. 'SMEXNCRT'\n",
       "25. 'SM550NRM'\n",
       "26. 'SMGNSDTC'\n",
       "27. 'SMUNMPRT'\n",
       "28. 'SM350NRM'\n",
       "29. 'SMRDLGTH'\n",
       "30. 'SMMNCPB'\n",
       "31. 'SME1MMRT'\n",
       "32. 'SMSFLGTH'\n",
       "33. 'SMESTLBS'\n",
       "34. 'SMMPPD'\n",
       "35. 'SMNTERRT'\n",
       "36. 'SMRRNANM'\n",
       "37. 'SMRDTTL'\n",
       "38. 'SMVQCFL'\n",
       "39. 'SMMNCV'\n",
       "40. 'SMTRSCPT'\n",
       "41. 'SMMPPDPR'\n",
       "42. 'SMCGLGTH'\n",
       "43. 'SMGAPPCT'\n",
       "44. 'SMUNPDRD'\n",
       "45. 'SMNTRNRT'\n",
       "46. 'SMMPUNRT'\n",
       "47. 'SMEXPEFF'\n",
       "48. 'SMMPPDUN'\n",
       "49. 'SME2MMRT'\n",
       "50. 'SME2ANTI'\n",
       "51. 'SMALTALG'\n",
       "52. 'SME2SNSE'\n",
       "53. 'SMMFLGTH'\n",
       "54. 'SME1ANTI'\n",
       "55. 'SMSPLTRD'\n",
       "56. 'SMBSMMRT'\n",
       "57. 'SME1SNSE'\n",
       "58. 'SME1PCTS'\n",
       "59. 'SMRRNART'\n",
       "60. 'SME1MPRT'\n",
       "61. 'SMNUM5CD'\n",
       "62. 'SMDPMPRT'\n",
       "63. 'SME2PCTS'\n",
       "64. 'SUBJID'\n",
       "65. 'SEX'\n",
       "66. 'AGE'\n",
       "67. 'DTHHRDY'\n",
       "\n",
       "\n"
      ],
      "text/plain": [
       " [1] \"SAMPID\"    \"SMATSSCR\"  \"SMCENTER\"  \"SMPTHNTS\"  \"SMRIN\"     \"SMTS\"     \n",
       " [7] \"SMTSD\"     \"SMUBRID\"   \"SMTSISCH\"  \"SMTSPAX\"   \"SMNABTCH\"  \"SMNABTCHT\"\n",
       "[13] \"SMNABTCHD\" \"SMGEBTCH\"  \"SMGEBTCHD\" \"SMGEBTCHT\" \"SMAFRZE\"   \"SMGTC\"    \n",
       "[19] \"SME2MPRT\"  \"SMCHMPRS\"  \"SMNTRART\"  \"SMNUMGPS\"  \"SMMAPRT\"   \"SMEXNCRT\" \n",
       "[25] \"SM550NRM\"  \"SMGNSDTC\"  \"SMUNMPRT\"  \"SM350NRM\"  \"SMRDLGTH\"  \"SMMNCPB\"  \n",
       "[31] \"SME1MMRT\"  \"SMSFLGTH\"  \"SMESTLBS\"  \"SMMPPD\"    \"SMNTERRT\"  \"SMRRNANM\" \n",
       "[37] \"SMRDTTL\"   \"SMVQCFL\"   \"SMMNCV\"    \"SMTRSCPT\"  \"SMMPPDPR\"  \"SMCGLGTH\" \n",
       "[43] \"SMGAPPCT\"  \"SMUNPDRD\"  \"SMNTRNRT\"  \"SMMPUNRT\"  \"SMEXPEFF\"  \"SMMPPDUN\" \n",
       "[49] \"SME2MMRT\"  \"SME2ANTI\"  \"SMALTALG\"  \"SME2SNSE\"  \"SMMFLGTH\"  \"SME1ANTI\" \n",
       "[55] \"SMSPLTRD\"  \"SMBSMMRT\"  \"SME1SNSE\"  \"SME1PCTS\"  \"SMRRNART\"  \"SME1MPRT\" \n",
       "[61] \"SMNUM5CD\"  \"SMDPMPRT\"  \"SME2PCTS\"  \"SUBJID\"    \"SEX\"       \"AGE\"      \n",
       "[67] \"DTHHRDY\"  "
      ]
     },
     "metadata": {},
     "output_type": "display_data"
    }
   ],
   "source": [
    "colnames(pData(obj))"
   ]
  },
  {
   "cell_type": "code",
   "execution_count": 10,
   "metadata": {},
   "outputs": [
    {
     "data": {
      "text/html": [
       "<table>\n",
       "<caption>A matrix: 6 × 17382 of type dbl</caption>\n",
       "<thead>\n",
       "\t<tr><th></th><th scope=col>GTEX-1117F-0226-SM-5GZZ7</th><th scope=col>GTEX-1117F-0426-SM-5EGHI</th><th scope=col>GTEX-1117F-0526-SM-5EGHJ</th><th scope=col>GTEX-1117F-0626-SM-5N9CS</th><th scope=col>GTEX-1117F-0726-SM-5GIEN</th><th scope=col>GTEX-1117F-1326-SM-5EGHH</th><th scope=col>GTEX-1117F-2426-SM-5EGGH</th><th scope=col>GTEX-1117F-2526-SM-5GZY6</th><th scope=col>GTEX-1117F-2826-SM-5GZXL</th><th scope=col>GTEX-1117F-2926-SM-5GZYI</th><th scope=col>⋯</th><th scope=col>GTEX-ZZPU-1126-SM-5N9CW</th><th scope=col>GTEX-ZZPU-1226-SM-5N9CK</th><th scope=col>GTEX-ZZPU-1326-SM-5GZWS</th><th scope=col>GTEX-ZZPU-1426-SM-5GZZ6</th><th scope=col>GTEX-ZZPU-1826-SM-5E43L</th><th scope=col>GTEX-ZZPU-2126-SM-5EGIU</th><th scope=col>GTEX-ZZPU-2226-SM-5EGIV</th><th scope=col>GTEX-ZZPU-2426-SM-5E44I</th><th scope=col>GTEX-ZZPU-2626-SM-5E45Y</th><th scope=col>GTEX-ZZPU-2726-SM-5NQ8O</th></tr>\n",
       "</thead>\n",
       "<tbody>\n",
       "\t<tr><th scope=row>ENSG00000223972.5</th><td>  0</td><td>  0</td><td>  0</td><td>  0</td><td>  0</td><td>  0</td><td>  0</td><td>  0</td><td>  0</td><td>  0</td><td>⋯</td><td> 0</td><td> 2</td><td>  0</td><td> 0</td><td> 0</td><td> 0</td><td> 0</td><td> 0</td><td> 1</td><td> 1</td></tr>\n",
       "\t<tr><th scope=row>ENSG00000227232.5</th><td>187</td><td>109</td><td>143</td><td>251</td><td>113</td><td>139</td><td>199</td><td>473</td><td>286</td><td>306</td><td>⋯</td><td>72</td><td>96</td><td>136</td><td>79</td><td>89</td><td>86</td><td>49</td><td>84</td><td>34</td><td>66</td></tr>\n",
       "\t<tr><th scope=row>ENSG00000278267.1</th><td>  0</td><td>  0</td><td>  1</td><td>  0</td><td>  0</td><td>  0</td><td>  0</td><td>  0</td><td>  0</td><td>  0</td><td>⋯</td><td> 0</td><td> 0</td><td>  0</td><td> 0</td><td> 0</td><td> 0</td><td> 0</td><td> 0</td><td> 0</td><td> 0</td></tr>\n",
       "\t<tr><th scope=row>ENSG00000243485.5</th><td>  1</td><td>  0</td><td>  0</td><td>  1</td><td>  0</td><td>  0</td><td>  0</td><td>  0</td><td>  0</td><td>  1</td><td>⋯</td><td> 0</td><td> 0</td><td>  1</td><td> 0</td><td> 2</td><td> 2</td><td> 0</td><td> 1</td><td> 0</td><td> 0</td></tr>\n",
       "\t<tr><th scope=row>ENSG00000237613.2</th><td>  0</td><td>  0</td><td>  0</td><td>  0</td><td>  0</td><td>  0</td><td>  0</td><td>  1</td><td>  0</td><td>  0</td><td>⋯</td><td> 1</td><td> 0</td><td>  0</td><td> 0</td><td> 0</td><td> 0</td><td> 0</td><td> 0</td><td> 0</td><td> 0</td></tr>\n",
       "\t<tr><th scope=row>ENSG00000268020.3</th><td>  0</td><td>  1</td><td>  0</td><td>  0</td><td>  0</td><td>  1</td><td>  1</td><td>  0</td><td>  1</td><td>  2</td><td>⋯</td><td> 1</td><td> 0</td><td>  0</td><td> 1</td><td> 2</td><td> 0</td><td> 0</td><td> 0</td><td> 1</td><td> 1</td></tr>\n",
       "</tbody>\n",
       "</table>\n"
      ],
      "text/latex": [
       "A matrix: 6 × 17382 of type dbl\n",
       "\\begin{tabular}{r|lllllllllllllllllllll}\n",
       "  & GTEX-1117F-0226-SM-5GZZ7 & GTEX-1117F-0426-SM-5EGHI & GTEX-1117F-0526-SM-5EGHJ & GTEX-1117F-0626-SM-5N9CS & GTEX-1117F-0726-SM-5GIEN & GTEX-1117F-1326-SM-5EGHH & GTEX-1117F-2426-SM-5EGGH & GTEX-1117F-2526-SM-5GZY6 & GTEX-1117F-2826-SM-5GZXL & GTEX-1117F-2926-SM-5GZYI & ⋯ & GTEX-ZZPU-1126-SM-5N9CW & GTEX-ZZPU-1226-SM-5N9CK & GTEX-ZZPU-1326-SM-5GZWS & GTEX-ZZPU-1426-SM-5GZZ6 & GTEX-ZZPU-1826-SM-5E43L & GTEX-ZZPU-2126-SM-5EGIU & GTEX-ZZPU-2226-SM-5EGIV & GTEX-ZZPU-2426-SM-5E44I & GTEX-ZZPU-2626-SM-5E45Y & GTEX-ZZPU-2726-SM-5NQ8O\\\\\n",
       "\\hline\n",
       "\tENSG00000223972.5 &   0 &   0 &   0 &   0 &   0 &   0 &   0 &   0 &   0 &   0 & ⋯ &  0 &  2 &   0 &  0 &  0 &  0 &  0 &  0 &  1 &  1\\\\\n",
       "\tENSG00000227232.5 & 187 & 109 & 143 & 251 & 113 & 139 & 199 & 473 & 286 & 306 & ⋯ & 72 & 96 & 136 & 79 & 89 & 86 & 49 & 84 & 34 & 66\\\\\n",
       "\tENSG00000278267.1 &   0 &   0 &   1 &   0 &   0 &   0 &   0 &   0 &   0 &   0 & ⋯ &  0 &  0 &   0 &  0 &  0 &  0 &  0 &  0 &  0 &  0\\\\\n",
       "\tENSG00000243485.5 &   1 &   0 &   0 &   1 &   0 &   0 &   0 &   0 &   0 &   1 & ⋯ &  0 &  0 &   1 &  0 &  2 &  2 &  0 &  1 &  0 &  0\\\\\n",
       "\tENSG00000237613.2 &   0 &   0 &   0 &   0 &   0 &   0 &   0 &   1 &   0 &   0 & ⋯ &  1 &  0 &   0 &  0 &  0 &  0 &  0 &  0 &  0 &  0\\\\\n",
       "\tENSG00000268020.3 &   0 &   1 &   0 &   0 &   0 &   1 &   1 &   0 &   1 &   2 & ⋯ &  1 &  0 &   0 &  1 &  2 &  0 &  0 &  0 &  1 &  1\\\\\n",
       "\\end{tabular}\n"
      ],
      "text/markdown": [
       "\n",
       "A matrix: 6 × 17382 of type dbl\n",
       "\n",
       "| <!--/--> | GTEX-1117F-0226-SM-5GZZ7 | GTEX-1117F-0426-SM-5EGHI | GTEX-1117F-0526-SM-5EGHJ | GTEX-1117F-0626-SM-5N9CS | GTEX-1117F-0726-SM-5GIEN | GTEX-1117F-1326-SM-5EGHH | GTEX-1117F-2426-SM-5EGGH | GTEX-1117F-2526-SM-5GZY6 | GTEX-1117F-2826-SM-5GZXL | GTEX-1117F-2926-SM-5GZYI | ⋯ | GTEX-ZZPU-1126-SM-5N9CW | GTEX-ZZPU-1226-SM-5N9CK | GTEX-ZZPU-1326-SM-5GZWS | GTEX-ZZPU-1426-SM-5GZZ6 | GTEX-ZZPU-1826-SM-5E43L | GTEX-ZZPU-2126-SM-5EGIU | GTEX-ZZPU-2226-SM-5EGIV | GTEX-ZZPU-2426-SM-5E44I | GTEX-ZZPU-2626-SM-5E45Y | GTEX-ZZPU-2726-SM-5NQ8O |\n",
       "|---|---|---|---|---|---|---|---|---|---|---|---|---|---|---|---|---|---|---|---|---|---|\n",
       "| ENSG00000223972.5 |   0 |   0 |   0 |   0 |   0 |   0 |   0 |   0 |   0 |   0 | ⋯ |  0 |  2 |   0 |  0 |  0 |  0 |  0 |  0 |  1 |  1 |\n",
       "| ENSG00000227232.5 | 187 | 109 | 143 | 251 | 113 | 139 | 199 | 473 | 286 | 306 | ⋯ | 72 | 96 | 136 | 79 | 89 | 86 | 49 | 84 | 34 | 66 |\n",
       "| ENSG00000278267.1 |   0 |   0 |   1 |   0 |   0 |   0 |   0 |   0 |   0 |   0 | ⋯ |  0 |  0 |   0 |  0 |  0 |  0 |  0 |  0 |  0 |  0 |\n",
       "| ENSG00000243485.5 |   1 |   0 |   0 |   1 |   0 |   0 |   0 |   0 |   0 |   1 | ⋯ |  0 |  0 |   1 |  0 |  2 |  2 |  0 |  1 |  0 |  0 |\n",
       "| ENSG00000237613.2 |   0 |   0 |   0 |   0 |   0 |   0 |   0 |   1 |   0 |   0 | ⋯ |  1 |  0 |   0 |  0 |  0 |  0 |  0 |  0 |  0 |  0 |\n",
       "| ENSG00000268020.3 |   0 |   1 |   0 |   0 |   0 |   1 |   1 |   0 |   1 |   2 | ⋯ |  1 |  0 |   0 |  1 |  2 |  0 |  0 |  0 |  1 |  1 |\n",
       "\n"
      ],
      "text/plain": [
       "                  GTEX-1117F-0226-SM-5GZZ7 GTEX-1117F-0426-SM-5EGHI\n",
       "ENSG00000223972.5   0                        0                     \n",
       "ENSG00000227232.5 187                      109                     \n",
       "ENSG00000278267.1   0                        0                     \n",
       "ENSG00000243485.5   1                        0                     \n",
       "ENSG00000237613.2   0                        0                     \n",
       "ENSG00000268020.3   0                        1                     \n",
       "                  GTEX-1117F-0526-SM-5EGHJ GTEX-1117F-0626-SM-5N9CS\n",
       "ENSG00000223972.5   0                        0                     \n",
       "ENSG00000227232.5 143                      251                     \n",
       "ENSG00000278267.1   1                        0                     \n",
       "ENSG00000243485.5   0                        1                     \n",
       "ENSG00000237613.2   0                        0                     \n",
       "ENSG00000268020.3   0                        0                     \n",
       "                  GTEX-1117F-0726-SM-5GIEN GTEX-1117F-1326-SM-5EGHH\n",
       "ENSG00000223972.5   0                        0                     \n",
       "ENSG00000227232.5 113                      139                     \n",
       "ENSG00000278267.1   0                        0                     \n",
       "ENSG00000243485.5   0                        0                     \n",
       "ENSG00000237613.2   0                        0                     \n",
       "ENSG00000268020.3   0                        1                     \n",
       "                  GTEX-1117F-2426-SM-5EGGH GTEX-1117F-2526-SM-5GZY6\n",
       "ENSG00000223972.5   0                        0                     \n",
       "ENSG00000227232.5 199                      473                     \n",
       "ENSG00000278267.1   0                        0                     \n",
       "ENSG00000243485.5   0                        0                     \n",
       "ENSG00000237613.2   0                        1                     \n",
       "ENSG00000268020.3   1                        0                     \n",
       "                  GTEX-1117F-2826-SM-5GZXL GTEX-1117F-2926-SM-5GZYI ⋯\n",
       "ENSG00000223972.5   0                        0                      ⋯\n",
       "ENSG00000227232.5 286                      306                      ⋯\n",
       "ENSG00000278267.1   0                        0                      ⋯\n",
       "ENSG00000243485.5   0                        1                      ⋯\n",
       "ENSG00000237613.2   0                        0                      ⋯\n",
       "ENSG00000268020.3   1                        2                      ⋯\n",
       "                  GTEX-ZZPU-1126-SM-5N9CW GTEX-ZZPU-1226-SM-5N9CK\n",
       "ENSG00000223972.5  0                       2                     \n",
       "ENSG00000227232.5 72                      96                     \n",
       "ENSG00000278267.1  0                       0                     \n",
       "ENSG00000243485.5  0                       0                     \n",
       "ENSG00000237613.2  1                       0                     \n",
       "ENSG00000268020.3  1                       0                     \n",
       "                  GTEX-ZZPU-1326-SM-5GZWS GTEX-ZZPU-1426-SM-5GZZ6\n",
       "ENSG00000223972.5   0                      0                     \n",
       "ENSG00000227232.5 136                     79                     \n",
       "ENSG00000278267.1   0                      0                     \n",
       "ENSG00000243485.5   1                      0                     \n",
       "ENSG00000237613.2   0                      0                     \n",
       "ENSG00000268020.3   0                      1                     \n",
       "                  GTEX-ZZPU-1826-SM-5E43L GTEX-ZZPU-2126-SM-5EGIU\n",
       "ENSG00000223972.5  0                       0                     \n",
       "ENSG00000227232.5 89                      86                     \n",
       "ENSG00000278267.1  0                       0                     \n",
       "ENSG00000243485.5  2                       2                     \n",
       "ENSG00000237613.2  0                       0                     \n",
       "ENSG00000268020.3  2                       0                     \n",
       "                  GTEX-ZZPU-2226-SM-5EGIV GTEX-ZZPU-2426-SM-5E44I\n",
       "ENSG00000223972.5  0                       0                     \n",
       "ENSG00000227232.5 49                      84                     \n",
       "ENSG00000278267.1  0                       0                     \n",
       "ENSG00000243485.5  0                       1                     \n",
       "ENSG00000237613.2  0                       0                     \n",
       "ENSG00000268020.3  0                       0                     \n",
       "                  GTEX-ZZPU-2626-SM-5E45Y GTEX-ZZPU-2726-SM-5NQ8O\n",
       "ENSG00000223972.5  1                       1                     \n",
       "ENSG00000227232.5 34                      66                     \n",
       "ENSG00000278267.1  0                       0                     \n",
       "ENSG00000243485.5  0                       0                     \n",
       "ENSG00000237613.2  0                       0                     \n",
       "ENSG00000268020.3  1                       1                     "
      ]
     },
     "metadata": {},
     "output_type": "display_data"
    }
   ],
   "source": [
    "head(exprs(obj))"
   ]
  },
  {
   "cell_type": "code",
   "execution_count": 11,
   "metadata": {},
   "outputs": [],
   "source": [
    "#  Now let us do the differential analysis - using EdgeR"
   ]
  },
  {
   "cell_type": "code",
   "execution_count": 12,
   "metadata": {},
   "outputs": [],
   "source": [
    "x <- exprs(obj)"
   ]
  },
  {
   "cell_type": "code",
   "execution_count": 13,
   "metadata": {},
   "outputs": [
    {
     "data": {
      "text/html": [
       "<style>\n",
       ".list-inline {list-style: none; margin:0; padding: 0}\n",
       ".list-inline>li {display: inline-block}\n",
       ".list-inline>li:not(:last-child)::after {content: \"\\00b7\"; padding: 0 .5ex}\n",
       "</style>\n",
       "<ol class=list-inline><li>55878</li><li>17382</li></ol>\n"
      ],
      "text/latex": [
       "\\begin{enumerate*}\n",
       "\\item 55878\n",
       "\\item 17382\n",
       "\\end{enumerate*}\n"
      ],
      "text/markdown": [
       "1. 55878\n",
       "2. 17382\n",
       "\n",
       "\n"
      ],
      "text/plain": [
       "[1] 55878 17382"
      ]
     },
     "metadata": {},
     "output_type": "display_data"
    }
   ],
   "source": [
    "dim(x)"
   ]
  },
  {
   "cell_type": "code",
   "execution_count": 14,
   "metadata": {},
   "outputs": [],
   "source": [
    "# To use the DGEList function from EdgeR, we need to transpose our x so that the length of group is equal\n",
    "# to the number of columns in our counts (x).\n",
    "# You will get an error in DGEList (counts = x, group = group) if the length of group is not equal to the number of columns in counts"
   ]
  },
  {
   "cell_type": "code",
   "execution_count": 15,
   "metadata": {},
   "outputs": [],
   "source": [
    "group <- factor(pData(obj)$SEX)"
   ]
  },
  {
   "cell_type": "code",
   "execution_count": 16,
   "metadata": {},
   "outputs": [
    {
     "data": {
      "text/plain": [
       "group\n",
       "    1     2 \n",
       "11584  5798 "
      ]
     },
     "metadata": {},
     "output_type": "display_data"
    }
   ],
   "source": [
    "table(group)"
   ]
  },
  {
   "cell_type": "code",
   "execution_count": 17,
   "metadata": {},
   "outputs": [
    {
     "name": "stderr",
     "output_type": "stream",
     "text": [
      "Loading  `../data/DGENormFactorsy.rds` object with `readRDS()` from ../data/ \n",
      "\n",
      "Done!\n"
     ]
    },
    {
     "data": {
      "text/html": [
       "<dl>\n",
       "\t<dt>$class</dt>\n",
       "\t\t<dd>'DGEList'</dd>\n",
       "\t<dt>$names</dt>\n",
       "\t\t<dd><style>\n",
       ".list-inline {list-style: none; margin:0; padding: 0}\n",
       ".list-inline>li {display: inline-block}\n",
       ".list-inline>li:not(:last-child)::after {content: \"\\00b7\"; padding: 0 .5ex}\n",
       "</style>\n",
       "<ol class=list-inline><li>'counts'</li><li>'samples'</li></ol>\n",
       "</dd>\n",
       "</dl>\n"
      ],
      "text/latex": [
       "\\begin{description}\n",
       "\\item[\\$class] 'DGEList'\n",
       "\\item[\\$names] \\begin{enumerate*}\n",
       "\\item 'counts'\n",
       "\\item 'samples'\n",
       "\\end{enumerate*}\n",
       "\n",
       "\\end{description}\n"
      ],
      "text/markdown": [
       "$class\n",
       ":   'DGEList'\n",
       "$names\n",
       ":   1. 'counts'\n",
       "2. 'samples'\n",
       "\n",
       "\n",
       "\n",
       "\n",
       "\n"
      ],
      "text/plain": [
       "$class\n",
       "[1] \"DGEList\"\n",
       "attr(,\"package\")\n",
       "[1] \"edgeR\"\n",
       "\n",
       "$names\n",
       "[1] \"counts\"  \"samples\"\n"
      ]
     },
     "metadata": {},
     "output_type": "display_data"
    }
   ],
   "source": [
    "#caution this step takes a lot of memory and time - so do one of two things again:\n",
    "#\n",
    "# 1. You can either run this step from scratch and save the rds object for next time.\n",
    "#\n",
    "#y <- DGEList(counts=x, group=group)\n",
    "#y <- calcNormFactors(y)\n",
    "#saveRDS(y, file = \"../data/DGENormFactorsy.rds\")\n",
    "#\n",
    "# 2. or if you have already run this step and want to retrieve it again\n",
    "# you can read this from the saved rds object\n",
    "#\n",
    "\n",
    "# Load with readRDS() if `../data/DGENormFactorsy.rds` available in data/\n",
    "if (\"DGENormFactorsy.rds\" %in% list.files(\"../data/\")) {\n",
    "    message(\"Loading  `../data/DGENormFactorsy.rds` object with `readRDS()` from ../data/ \\n\")    \n",
    "    y <- readRDS(\"../data/DGENormFactorsy.rds\")\n",
    "    message(\"Done!\")    \n",
    "}\n",
    "\n",
    "\n",
    "# Download if not available in ../data\n",
    "if (!(\"DGENormFactorsy.rds\" %in% list.files(\"../data/\"))) {\n",
    "    message(\"Creating `DGEList` object from counts matrix with 'edgeR::DGEList()' ..\")\n",
    "    y <- edgeR::DGEList(counts=x, group=group)\n",
    "    message(\"Done!\\n\")    \n",
    "\n",
    "    message(\"Calculating normalization factors on `DGEList` object to scale the raw library sizes with 'edgeR::DGEList()' ..\")    \n",
    "    y <- edgeR::calcNormFactors(y)\n",
    "    message(\"Done!\\n\")    \n",
    "\n",
    "    message(\"Saving normalization factors object in '../data/DGENormFactorsy.rds' ..\")        \n",
    "    saveRDS(y, file = \"../data/DGENormFactorsy.rds\")\n",
    "    message(\"Done!\\n\")    \n",
    "}\n",
    "\n",
    "\n",
    "attributes(y)"
   ]
  },
  {
   "cell_type": "code",
   "execution_count": 18,
   "metadata": {},
   "outputs": [
    {
     "data": {
      "text/html": [
       "<style>\n",
       ".list-inline {list-style: none; margin:0; padding: 0}\n",
       ".list-inline>li {display: inline-block}\n",
       ".list-inline>li:not(:last-child)::after {content: \"\\00b7\"; padding: 0 .5ex}\n",
       "</style>\n",
       "<ol class=list-inline><li>55878</li><li>17382</li></ol>\n"
      ],
      "text/latex": [
       "\\begin{enumerate*}\n",
       "\\item 55878\n",
       "\\item 17382\n",
       "\\end{enumerate*}\n"
      ],
      "text/markdown": [
       "1. 55878\n",
       "2. 17382\n",
       "\n",
       "\n"
      ],
      "text/plain": [
       "[1] 55878 17382"
      ]
     },
     "metadata": {},
     "output_type": "display_data"
    }
   ],
   "source": [
    "dim(y$counts)"
   ]
  },
  {
   "cell_type": "code",
   "execution_count": 19,
   "metadata": {},
   "outputs": [
    {
     "data": {
      "text/html": [
       "55878"
      ],
      "text/latex": [
       "55878"
      ],
      "text/markdown": [
       "55878"
      ],
      "text/plain": [
       "[1] 55878"
      ]
     },
     "metadata": {},
     "output_type": "display_data"
    },
    {
     "data": {
      "text/plain": [
       "\n",
       "    1     2 \n",
       "11584  5798 "
      ]
     },
     "metadata": {},
     "output_type": "display_data"
    },
    {
     "data": {
      "text/plain": [
       "group\n",
       "    1     2 \n",
       "11584  5798 "
      ]
     },
     "metadata": {},
     "output_type": "display_data"
    },
    {
     "data": {
      "text/plain": [
       "keep.events\n",
       "FALSE  TRUE \n",
       "39984 15894 "
      ]
     },
     "metadata": {},
     "output_type": "display_data"
    },
    {
     "data": {
      "text/plain": [
       "keep.events2\n",
       "FALSE  TRUE \n",
       "39983 15895 "
      ]
     },
     "metadata": {},
     "output_type": "display_data"
    }
   ],
   "source": [
    "# For Guy -- does this do what you are expecting -- I am confused because what you get when you\n",
    "#        ask for the min (table(groups)) is the smaller sized group -- which in this case is \n",
    "#        female -- it will help the reader to know what you are doing here with the statement.\n",
    "#        one can read what it is doing but not understand your objective.groups <- pData(obj)$SEX\n",
    "# keep.events <- rep(TRUE, nrow(y))\n",
    "#for (group in c(1,2)) {\n",
    "#    keep.events <- keep.events & \n",
    "#                   rowSums(cpm(y[,groups %in% group]) > 1) >= 0.25*min(table(groups))\n",
    "#}\n",
    "#\n",
    "#  From Anne - I believe the objective in this step is to keep only those genes that are in the\n",
    "#    that are above the threshold of expression for the lower quartile of all sex specific genes.\n",
    "#    groups = (1,2) -- lots of confusion in logic between groups and group and male and female\n",
    "#    I recommend we use male and female.\n",
    "#    two errors then in the above loop - \n",
    "#     1. min(table(groups)) will always return the\n",
    "#        length of the number of samples that are female \n",
    "#        (which is 5978 for this v8 GTEx)\n",
    "#     2. sum(table(group)) will return the number of samples that are either male or female\n",
    "#        depending upon whether you are in the loop for male or female consideration.\n",
    "#\n",
    "#    If my assumption is true - I recommend replacing it with the following.\n",
    "#\n",
    "#  this should be relaced \n",
    "#\n",
    "keep.events <- rep(TRUE, nrow(y))\n",
    "nrow(y)\n",
    "table(pData(obj)$SEX)\n",
    "table(group)\n",
    "#\n",
    "# first keep all the events for the male subsets meeting our threshold criteria\n",
    "#\n",
    "keep.events  <- keep.events & rowSums(cpm(y$counts[,group == 1]) > 1) >= 0.25*length(group==1)\n",
    "#\n",
    "# now keep all the male subsets or the female subsets meeting our criteria\n",
    "#\n",
    "keep.events2 <- keep.events | rowSums(cpm(y$counts[,group == 2]) > 1) >= 0.25*length(group==2)\n",
    "table(keep.events)\n",
    "table(keep.events2)"
   ]
  },
  {
   "cell_type": "code",
   "execution_count": 20,
   "metadata": {},
   "outputs": [
    {
     "name": "stderr",
     "output_type": "stream",
     "text": [
      "Creating `reduced_y` keeping only rows that match `keep.events2` list ..\n",
      "Done!\n",
      "\n",
      "Creating `reduced_obj` keeping only rows that match `keep.events2` list ..\n",
      "Done!\n",
      "\n",
      "Saving `reduced_y.rds`, `reduced_obj.rds` in '../data/' ..\n",
      "Done!\n",
      "\n"
     ]
    },
    {
     "data": {
      "text/html": [
       "<style>\n",
       ".dl-inline {width: auto; margin:0; padding: 0}\n",
       ".dl-inline>dt, .dl-inline>dd {float: none; width: auto; display: inline-block}\n",
       ".dl-inline>dt::after {content: \":\\0020\"; padding-right: .5ex}\n",
       ".dl-inline>dt:not(:first-of-type) {padding-left: .5ex}\n",
       "</style><dl class=dl-inline><dt>Features</dt><dd>15895</dd><dt>Samples</dt><dd>17382</dd></dl>\n"
      ],
      "text/latex": [
       "\\begin{description*}\n",
       "\\item[Features] 15895\n",
       "\\item[Samples] 17382\n",
       "\\end{description*}\n"
      ],
      "text/markdown": [
       "Features\n",
       ":   15895Samples\n",
       ":   17382\n",
       "\n"
      ],
      "text/plain": [
       "Features  Samples \n",
       "   15895    17382 "
      ]
     },
     "metadata": {},
     "output_type": "display_data"
    }
   ],
   "source": [
    "\n",
    "# Load with readRDS() if `../data/reduced_y.rds` available in data/\n",
    "if  ( ('reduced_y.rds' %in% list.files(\"../data/\")) && ('reduced_obj' %in% list.files(\"../data/\"))) {\n",
    "    message(\"Loading  `reduced_y.rds` and  `reduced_obj` objects with `readRDS()` from ../data/ \\n\")    \n",
    "    reduced_obj <- readRDS(file = \"../data/reduced_obj.rds\")\n",
    "    reduced_y   <- readRDS(file = \"../data/reduced_y.rds\")\n",
    "    message(\"Done!\")    \n",
    "}\n",
    "\n",
    "\n",
    "# Create if not available in ../data\n",
    "if  ( !(('reduced_y.rds' %in% list.files(\"../data/\")) && ('reduced_obj' %in% list.files(\"../data/\")))) {\n",
    "\n",
    "    message(\"Creating `reduced_y` keeping only rows that match `keep.events2` list ..\")\n",
    "    reduced_y<- y[keep.events2,]\n",
    "    message(\"Done!\\n\")    \n",
    "    \n",
    "    message(\"Creating `reduced_obj` keeping only rows that match `keep.events2` list ..\")    \n",
    "    reduced_obj <- obj[keep.events2==TRUE,]\n",
    "    message(\"Done!\\n\")    \n",
    "    \n",
    "    message(\"Saving `reduced_y.rds`, `reduced_obj.rds` in '../data/' ..\")        \n",
    "    saveRDS(reduced_y, file = \"../data/reduced_y.rds\")\n",
    "    saveRDS(reduced_obj, file = \"../data/reduced_obj.rds\")\n",
    "    message(\"Done!\\n\")     \n",
    "}\n",
    "\n",
    "dim(reduced_obj)"
   ]
  },
  {
   "cell_type": "code",
   "execution_count": 21,
   "metadata": {},
   "outputs": [],
   "source": [
    "# separate the analysis by male and by female"
   ]
  },
  {
   "cell_type": "code",
   "execution_count": 22,
   "metadata": {},
   "outputs": [],
   "source": [
    "reduced_male   <- pData(reduced_obj)$SEX==1\n",
    "reduced_female <- pData(reduced_obj)$SEX==2"
   ]
  },
  {
   "cell_type": "code",
   "execution_count": 23,
   "metadata": {},
   "outputs": [],
   "source": [
    "reduced_obj_male   <- reduced_obj[,reduced_male==TRUE]\n",
    "reduced_obj_female <- reduced_obj[,reduced_female==TRUE]"
   ]
  },
  {
   "cell_type": "code",
   "execution_count": 24,
   "metadata": {},
   "outputs": [
    {
     "data": {
      "text/html": [
       "<style>\n",
       ".dl-inline {width: auto; margin:0; padding: 0}\n",
       ".dl-inline>dt, .dl-inline>dd {float: none; width: auto; display: inline-block}\n",
       ".dl-inline>dt::after {content: \":\\0020\"; padding-right: .5ex}\n",
       ".dl-inline>dt:not(:first-of-type) {padding-left: .5ex}\n",
       "</style><dl class=dl-inline><dt>Features</dt><dd>15895</dd><dt>Samples</dt><dd>11584</dd></dl>\n"
      ],
      "text/latex": [
       "\\begin{description*}\n",
       "\\item[Features] 15895\n",
       "\\item[Samples] 11584\n",
       "\\end{description*}\n"
      ],
      "text/markdown": [
       "Features\n",
       ":   15895Samples\n",
       ":   11584\n",
       "\n"
      ],
      "text/plain": [
       "Features  Samples \n",
       "   15895    11584 "
      ]
     },
     "metadata": {},
     "output_type": "display_data"
    },
    {
     "data": {
      "text/html": [
       "<style>\n",
       ".dl-inline {width: auto; margin:0; padding: 0}\n",
       ".dl-inline>dt, .dl-inline>dd {float: none; width: auto; display: inline-block}\n",
       ".dl-inline>dt::after {content: \":\\0020\"; padding-right: .5ex}\n",
       ".dl-inline>dt:not(:first-of-type) {padding-left: .5ex}\n",
       "</style><dl class=dl-inline><dt>Features</dt><dd>15895</dd><dt>Samples</dt><dd>5798</dd></dl>\n"
      ],
      "text/latex": [
       "\\begin{description*}\n",
       "\\item[Features] 15895\n",
       "\\item[Samples] 5798\n",
       "\\end{description*}\n"
      ],
      "text/markdown": [
       "Features\n",
       ":   15895Samples\n",
       ":   5798\n",
       "\n"
      ],
      "text/plain": [
       "Features  Samples \n",
       "   15895     5798 "
      ]
     },
     "metadata": {},
     "output_type": "display_data"
    }
   ],
   "source": [
    "dim(reduced_obj_male)\n",
    "dim(reduced_obj_female)"
   ]
  },
  {
   "cell_type": "code",
   "execution_count": 25,
   "metadata": {},
   "outputs": [],
   "source": [
    "# changing from SMTS to SMTSD - more granularity -- but we could produce both figures\n",
    "tissue_groups_male <- factor(pData(reduced_obj_male)$SMTSD)\n",
    "tissue_groups_female <- factor(pData(reduced_obj_female)$SMTSD)"
   ]
  },
  {
   "cell_type": "code",
   "execution_count": 26,
   "metadata": {},
   "outputs": [
    {
     "data": {
      "text/plain": [
       "tissue_groups_male\n",
       "                   Adipose - Subcutaneous \n",
       "                                      445 \n",
       "             Adipose - Visceral (Omentum) \n",
       "                                      371 \n",
       "                            Adrenal Gland \n",
       "                                      157 \n",
       "                           Artery - Aorta \n",
       "                                      279 \n",
       "                        Artery - Coronary \n",
       "                                      146 \n",
       "                          Artery - Tibial \n",
       "                                      454 \n",
       "                                  Bladder \n",
       "                                       14 \n",
       "                         Brain - Amygdala \n",
       "                                      107 \n",
       " Brain - Anterior cingulate cortex (BA24) \n",
       "                                      128 \n",
       "          Brain - Caudate (basal ganglia) \n",
       "                                      183 \n",
       "            Brain - Cerebellar Hemisphere \n",
       "                                      157 \n",
       "                       Brain - Cerebellum \n",
       "                                      174 \n",
       "                           Brain - Cortex \n",
       "                                      181 \n",
       "             Brain - Frontal Cortex (BA9) \n",
       "                                      153 \n",
       "                      Brain - Hippocampus \n",
       "                                      143 \n",
       "                     Brain - Hypothalamus \n",
       "                                      147 \n",
       "Brain - Nucleus accumbens (basal ganglia) \n",
       "                                      182 \n",
       "          Brain - Putamen (basal ganglia) \n",
       "                                      156 \n",
       "       Brain - Spinal cord (cervical c-1) \n",
       "                                      102 \n",
       "                 Brain - Substantia nigra \n",
       "                                      101 \n",
       "                  Breast - Mammary Tissue \n",
       "                                      291 \n",
       "             Cells - Cultured fibroblasts \n",
       "                                      330 \n",
       "      Cells - EBV-transformed lymphocytes \n",
       "                                      112 \n",
       "                          Colon - Sigmoid \n",
       "                                      240 \n",
       "                       Colon - Transverse \n",
       "                                      259 \n",
       "    Esophagus - Gastroesophageal Junction \n",
       "                                      251 \n",
       "                       Esophagus - Mucosa \n",
       "                                      363 \n",
       "                   Esophagus - Muscularis \n",
       "                                      338 \n",
       "                 Heart - Atrial Appendage \n",
       "                                      293 \n",
       "                   Heart - Left Ventricle \n",
       "                                      294 \n",
       "                          Kidney - Cortex \n",
       "                                       66 \n",
       "                         Kidney - Medulla \n",
       "                                        3 \n",
       "                                    Liver \n",
       "                                      161 \n",
       "                                     Lung \n",
       "                                      395 \n",
       "                     Minor Salivary Gland \n",
       "                                      115 \n",
       "                        Muscle - Skeletal \n",
       "                                      543 \n",
       "                           Nerve - Tibial \n",
       "                                      419 \n",
       "                                 Pancreas \n",
       "                                      207 \n",
       "                                Pituitary \n",
       "                                      204 \n",
       "                                 Prostate \n",
       "                                      245 \n",
       "      Skin - Not Sun Exposed (Suprapubic) \n",
       "                                      411 \n",
       "           Skin - Sun Exposed (Lower leg) \n",
       "                                      467 \n",
       "         Small Intestine - Terminal Ileum \n",
       "                                      120 \n",
       "                                   Spleen \n",
       "                                      154 \n",
       "                                  Stomach \n",
       "                                      227 \n",
       "                                   Testis \n",
       "                                      361 \n",
       "                                  Thyroid \n",
       "                                      434 \n",
       "                              Whole Blood \n",
       "                                      501 "
      ]
     },
     "metadata": {},
     "output_type": "display_data"
    }
   ],
   "source": [
    "# good sanity check, the male set does not have any vaginas or uterus\n",
    "table (tissue_groups_male)"
   ]
  },
  {
   "cell_type": "code",
   "execution_count": 27,
   "metadata": {},
   "outputs": [
    {
     "data": {
      "text/plain": [
       "tissue_groups_female\n",
       "                   Adipose - Subcutaneous \n",
       "                                      218 \n",
       "             Adipose - Visceral (Omentum) \n",
       "                                      170 \n",
       "                            Adrenal Gland \n",
       "                                      101 \n",
       "                           Artery - Aorta \n",
       "                                      153 \n",
       "                        Artery - Coronary \n",
       "                                       94 \n",
       "                          Artery - Tibial \n",
       "                                      209 \n",
       "                                  Bladder \n",
       "                                        7 \n",
       "                         Brain - Amygdala \n",
       "                                       45 \n",
       " Brain - Anterior cingulate cortex (BA24) \n",
       "                                       48 \n",
       "          Brain - Caudate (basal ganglia) \n",
       "                                       63 \n",
       "            Brain - Cerebellar Hemisphere \n",
       "                                       58 \n",
       "                       Brain - Cerebellum \n",
       "                                       67 \n",
       "                           Brain - Cortex \n",
       "                                       74 \n",
       "             Brain - Frontal Cortex (BA9) \n",
       "                                       56 \n",
       "                      Brain - Hippocampus \n",
       "                                       54 \n",
       "                     Brain - Hypothalamus \n",
       "                                       55 \n",
       "Brain - Nucleus accumbens (basal ganglia) \n",
       "                                       64 \n",
       "          Brain - Putamen (basal ganglia) \n",
       "                                       49 \n",
       "       Brain - Spinal cord (cervical c-1) \n",
       "                                       57 \n",
       "                 Brain - Substantia nigra \n",
       "                                       38 \n",
       "                  Breast - Mammary Tissue \n",
       "                                      168 \n",
       "             Cells - Cultured fibroblasts \n",
       "                                      174 \n",
       "      Cells - EBV-transformed lymphocytes \n",
       "                                       62 \n",
       "                      Cervix - Ectocervix \n",
       "                                        9 \n",
       "                      Cervix - Endocervix \n",
       "                                       10 \n",
       "                          Colon - Sigmoid \n",
       "                                      133 \n",
       "                       Colon - Transverse \n",
       "                                      147 \n",
       "    Esophagus - Gastroesophageal Junction \n",
       "                                      124 \n",
       "                       Esophagus - Mucosa \n",
       "                                      192 \n",
       "                   Esophagus - Muscularis \n",
       "                                      177 \n",
       "                           Fallopian Tube \n",
       "                                        9 \n",
       "                 Heart - Atrial Appendage \n",
       "                                      136 \n",
       "                   Heart - Left Ventricle \n",
       "                                      138 \n",
       "                          Kidney - Cortex \n",
       "                                       19 \n",
       "                         Kidney - Medulla \n",
       "                                        1 \n",
       "                                    Liver \n",
       "                                       65 \n",
       "                                     Lung \n",
       "                                      183 \n",
       "                     Minor Salivary Gland \n",
       "                                       47 \n",
       "                        Muscle - Skeletal \n",
       "                                      260 \n",
       "                           Nerve - Tibial \n",
       "                                      200 \n",
       "                                    Ovary \n",
       "                                      180 \n",
       "                                 Pancreas \n",
       "                                      121 \n",
       "                                Pituitary \n",
       "                                       79 \n",
       "      Skin - Not Sun Exposed (Suprapubic) \n",
       "                                      193 \n",
       "           Skin - Sun Exposed (Lower leg) \n",
       "                                      234 \n",
       "         Small Intestine - Terminal Ileum \n",
       "                                       67 \n",
       "                                   Spleen \n",
       "                                       87 \n",
       "                                  Stomach \n",
       "                                      132 \n",
       "                                  Thyroid \n",
       "                                      219 \n",
       "                                   Uterus \n",
       "                                      142 \n",
       "                                   Vagina \n",
       "                                      156 \n",
       "                              Whole Blood \n",
       "                                      254 "
      ]
     },
     "metadata": {},
     "output_type": "display_data"
    }
   ],
   "source": [
    "# and the females have no prostate or testis\n",
    "table(tissue_groups_female)"
   ]
  },
  {
   "cell_type": "code",
   "execution_count": 28,
   "metadata": {},
   "outputs": [],
   "source": [
    "# Reproducing Guys results using the yarn expression object\n",
    "# loop through the tissues and for those tissues that are shared between the two sexes\n",
    "# perform a differential gene analysis on a per tissue basis\n"
   ]
  },
  {
   "cell_type": "code",
   "execution_count": 29,
   "metadata": {},
   "outputs": [],
   "source": [
    "tissue_groups <- factor(pData(reduced_obj)$SMTSD)"
   ]
  },
  {
   "cell_type": "code",
   "execution_count": 30,
   "metadata": {},
   "outputs": [
    {
     "data": {
      "text/plain": [
       "tissue_male_female\n",
       "FALSE  TRUE \n",
       "  606 10978 "
      ]
     },
     "metadata": {},
     "output_type": "display_data"
    }
   ],
   "source": [
    "tissue_male_female <- tissue_groups_male %in% tissue_groups_female\n",
    "table(tissue_male_female)"
   ]
  },
  {
   "cell_type": "code",
   "execution_count": 31,
   "metadata": {},
   "outputs": [
    {
     "data": {
      "text/plain": [
       "tissue_shared_male_female\n",
       "                   Adipose - Subcutaneous \n",
       "                                      445 \n",
       "             Adipose - Visceral (Omentum) \n",
       "                                      371 \n",
       "                            Adrenal Gland \n",
       "                                      157 \n",
       "                           Artery - Aorta \n",
       "                                      279 \n",
       "                        Artery - Coronary \n",
       "                                      146 \n",
       "                          Artery - Tibial \n",
       "                                      454 \n",
       "                                  Bladder \n",
       "                                       14 \n",
       "                         Brain - Amygdala \n",
       "                                      107 \n",
       " Brain - Anterior cingulate cortex (BA24) \n",
       "                                      128 \n",
       "          Brain - Caudate (basal ganglia) \n",
       "                                      183 \n",
       "            Brain - Cerebellar Hemisphere \n",
       "                                      157 \n",
       "                       Brain - Cerebellum \n",
       "                                      174 \n",
       "                           Brain - Cortex \n",
       "                                      181 \n",
       "             Brain - Frontal Cortex (BA9) \n",
       "                                      153 \n",
       "                      Brain - Hippocampus \n",
       "                                      143 \n",
       "                     Brain - Hypothalamus \n",
       "                                      147 \n",
       "Brain - Nucleus accumbens (basal ganglia) \n",
       "                                      182 \n",
       "          Brain - Putamen (basal ganglia) \n",
       "                                      156 \n",
       "       Brain - Spinal cord (cervical c-1) \n",
       "                                      102 \n",
       "                 Brain - Substantia nigra \n",
       "                                      101 \n",
       "                  Breast - Mammary Tissue \n",
       "                                      291 \n",
       "             Cells - Cultured fibroblasts \n",
       "                                      330 \n",
       "      Cells - EBV-transformed lymphocytes \n",
       "                                      112 \n",
       "                          Colon - Sigmoid \n",
       "                                      240 \n",
       "                       Colon - Transverse \n",
       "                                      259 \n",
       "    Esophagus - Gastroesophageal Junction \n",
       "                                      251 \n",
       "                       Esophagus - Mucosa \n",
       "                                      363 \n",
       "                   Esophagus - Muscularis \n",
       "                                      338 \n",
       "                 Heart - Atrial Appendage \n",
       "                                      293 \n",
       "                   Heart - Left Ventricle \n",
       "                                      294 \n",
       "                          Kidney - Cortex \n",
       "                                       66 \n",
       "                         Kidney - Medulla \n",
       "                                        3 \n",
       "                                    Liver \n",
       "                                      161 \n",
       "                                     Lung \n",
       "                                      395 \n",
       "                     Minor Salivary Gland \n",
       "                                      115 \n",
       "                        Muscle - Skeletal \n",
       "                                      543 \n",
       "                           Nerve - Tibial \n",
       "                                      419 \n",
       "                                 Pancreas \n",
       "                                      207 \n",
       "                                Pituitary \n",
       "                                      204 \n",
       "      Skin - Not Sun Exposed (Suprapubic) \n",
       "                                      411 \n",
       "           Skin - Sun Exposed (Lower leg) \n",
       "                                      467 \n",
       "         Small Intestine - Terminal Ileum \n",
       "                                      120 \n",
       "                                   Spleen \n",
       "                                      154 \n",
       "                                  Stomach \n",
       "                                      227 \n",
       "                                  Thyroid \n",
       "                                      434 \n",
       "                              Whole Blood \n",
       "                                      501 "
      ]
     },
     "metadata": {},
     "output_type": "display_data"
    }
   ],
   "source": [
    "tissue_shared_male_female <- factor(tissue_groups_male[tissue_male_female])\n",
    "table(tissue_shared_male_female)"
   ]
  },
  {
   "cell_type": "code",
   "execution_count": 32,
   "metadata": {},
   "outputs": [],
   "source": [
    "# SEX is coded 1 == Male\n",
    "#              2 == Female\n",
    "sex = factor(pData(reduced_obj)$SEX)"
   ]
  },
  {
   "cell_type": "code",
   "execution_count": 33,
   "metadata": {},
   "outputs": [],
   "source": [
    "library(stringr)"
   ]
  },
  {
   "cell_type": "code",
   "execution_count": 34,
   "metadata": {},
   "outputs": [],
   "source": [
    "#\n",
    "# define a function that takes two inputs, the tissue and an object\n",
    "#    and createe teh model matrix based upon that tissue's sex\n",
    "#    perform a linear fit after calculating normal factors (based upon library size)\n",
    "#    and calculate the dispersion using voom (mean variance model of dispersion)\n",
    "#    grab the results - save the results for prosperity and make a variable\n",
    "#\n",
    "fit_tissue <- function (tissue, obj) {\n",
    "    tissue_true   <- pData(obj)$SMTSD == tissue\n",
    "    tissue_obj    <- obj[,tissue_true ==TRUE]\n",
    "    tissue_sex    <- factor(pData(tissue_obj)$SEX)\n",
    "    tissue_design <- model.matrix(~tissue_sex)\n",
    "    y_tissue      <- DGEList(counts=exprs(tissue_obj), group=tissue_sex)\n",
    "    y_tissue      <- calcNormFactors(y_tissue)\n",
    "    y_tissue_voom <- voom(y_tissue, tissue_design)\n",
    "    fit_tissue    <- lmFit(y_tissue_voom, tissue_design)\n",
    "    fit_tissue    <- eBayes(fit_tissue, robust=TRUE)\n",
    "    results_tissue <- topTable (fit_tissue, coef='tissue_sex2', number=nrow(y_tissue))\n",
    "    filename       <-  paste(paste(\"../data/\", \n",
    "                           tissue),\n",
    "                     \"DGE.txt\", \n",
    "                     sep=\"_\")\n",
    "    \n",
    "    write.table(results_tissue, filename, sep='\\t', quote=FALSE)\n",
    "    return (results_tissue)\n",
    "}"
   ]
  },
  {
   "cell_type": "code",
   "execution_count": 35,
   "metadata": {},
   "outputs": [],
   "source": [
    "# debugging with using the 'Thyroid' tissue\n",
    "#thyroid_logFC <- fit_tissue('Thyroid',reduced_obj)\n",
    "#thyroid_logFC\n",
    "# \n",
    "all_logFC <- lapply(X=levels(tissue_shared_male_female), FUN=fit_tissue, obj=reduced_obj)"
   ]
  },
  {
   "cell_type": "code",
   "execution_count": 95,
   "metadata": {},
   "outputs": [
    {
     "data": {
      "text/html": [
       "<style>\n",
       ".list-inline {list-style: none; margin:0; padding: 0}\n",
       ".list-inline>li {display: inline-block}\n",
       ".list-inline>li:not(:last-child)::after {content: \"\\00b7\"; padding: 0 .5ex}\n",
       "</style>\n",
       "<ol class=list-inline><li>'Adipose - Subcutaneous_DGE.txt'</li><li>'Adipose - Visceral (Omentum)_DGE.txt'</li><li>'Adrenal Gland_DGE.txt'</li><li>'Artery - Aorta_DGE.txt'</li><li>'Artery - Coronary_DGE.txt'</li><li>'Artery - Tibial_DGE.txt'</li><li>'Bladder_DGE.txt'</li><li>'Brain - Amygdala_DGE.txt'</li><li>'Brain - Anterior cingulate cortex (BA24)_DGE.txt'</li><li>'Brain - Caudate (basal ganglia)_DGE.txt'</li><li>'Brain - Cerebellar Hemisphere_DGE.txt'</li><li>'Brain - Cerebellum_DGE.txt'</li><li>'Brain - Cortex_DGE.txt'</li><li>'Brain - Frontal Cortex (BA9)_DGE.txt'</li><li>'Brain - Hippocampus_DGE.txt'</li><li>'Brain - Hypothalamus_DGE.txt'</li><li>'Brain - Nucleus accumbens (basal ganglia)_DGE.txt'</li><li>'Brain - Putamen (basal ganglia)_DGE.txt'</li><li>'Brain - Spinal cord (cervical c-1)_DGE.txt'</li><li>'Brain - Substantia nigra_DGE.txt'</li><li>'Breast - Mammary Tissue_DGE.txt'</li><li>'Cells - Cultured fibroblasts_DGE.txt'</li><li>'Cells - EBV-transformed lymphocytes_DGE.txt'</li><li>'Colon - Sigmoid_DGE.txt'</li><li>'Colon - Transverse_DGE.txt'</li><li>'Esophagus - Gastroesophageal Junction_DGE.txt'</li><li>'Esophagus - Mucosa_DGE.txt'</li><li>'Esophagus - Muscularis_DGE.txt'</li><li>'Heart - Atrial Appendage_DGE.txt'</li><li>'Heart - Left Ventricle_DGE.txt'</li><li>'Kidney - Cortex_DGE.txt'</li><li>'Kidney - Medulla_DGE.txt'</li><li>'Liver_DGE.txt'</li><li>'Lung_DGE.txt'</li><li>'Minor Salivary Gland_DGE.txt'</li><li>'Muscle - Skeletal_DGE.txt'</li><li>'Nerve - Tibial_DGE.txt'</li><li>'Pancreas_DGE.txt'</li><li>'Pituitary_DGE.txt'</li><li>'Skin - Not Sun Exposed (Suprapubic)_DGE.txt'</li><li>'Skin - Sun Exposed (Lower leg)_DGE.txt'</li><li>'Small Intestine - Terminal Ileum_DGE.txt'</li><li>'Spleen_DGE.txt'</li><li>'Stomach_DGE.txt'</li><li>'Thyroid_DGE.txt'</li><li>'Whole Blood_DGE.txt'</li></ol>\n"
      ],
      "text/latex": [
       "\\begin{enumerate*}\n",
       "\\item 'Adipose - Subcutaneous\\_DGE.txt'\n",
       "\\item 'Adipose - Visceral (Omentum)\\_DGE.txt'\n",
       "\\item 'Adrenal Gland\\_DGE.txt'\n",
       "\\item 'Artery - Aorta\\_DGE.txt'\n",
       "\\item 'Artery - Coronary\\_DGE.txt'\n",
       "\\item 'Artery - Tibial\\_DGE.txt'\n",
       "\\item 'Bladder\\_DGE.txt'\n",
       "\\item 'Brain - Amygdala\\_DGE.txt'\n",
       "\\item 'Brain - Anterior cingulate cortex (BA24)\\_DGE.txt'\n",
       "\\item 'Brain - Caudate (basal ganglia)\\_DGE.txt'\n",
       "\\item 'Brain - Cerebellar Hemisphere\\_DGE.txt'\n",
       "\\item 'Brain - Cerebellum\\_DGE.txt'\n",
       "\\item 'Brain - Cortex\\_DGE.txt'\n",
       "\\item 'Brain - Frontal Cortex (BA9)\\_DGE.txt'\n",
       "\\item 'Brain - Hippocampus\\_DGE.txt'\n",
       "\\item 'Brain - Hypothalamus\\_DGE.txt'\n",
       "\\item 'Brain - Nucleus accumbens (basal ganglia)\\_DGE.txt'\n",
       "\\item 'Brain - Putamen (basal ganglia)\\_DGE.txt'\n",
       "\\item 'Brain - Spinal cord (cervical c-1)\\_DGE.txt'\n",
       "\\item 'Brain - Substantia nigra\\_DGE.txt'\n",
       "\\item 'Breast - Mammary Tissue\\_DGE.txt'\n",
       "\\item 'Cells - Cultured fibroblasts\\_DGE.txt'\n",
       "\\item 'Cells - EBV-transformed lymphocytes\\_DGE.txt'\n",
       "\\item 'Colon - Sigmoid\\_DGE.txt'\n",
       "\\item 'Colon - Transverse\\_DGE.txt'\n",
       "\\item 'Esophagus - Gastroesophageal Junction\\_DGE.txt'\n",
       "\\item 'Esophagus - Mucosa\\_DGE.txt'\n",
       "\\item 'Esophagus - Muscularis\\_DGE.txt'\n",
       "\\item 'Heart - Atrial Appendage\\_DGE.txt'\n",
       "\\item 'Heart - Left Ventricle\\_DGE.txt'\n",
       "\\item 'Kidney - Cortex\\_DGE.txt'\n",
       "\\item 'Kidney - Medulla\\_DGE.txt'\n",
       "\\item 'Liver\\_DGE.txt'\n",
       "\\item 'Lung\\_DGE.txt'\n",
       "\\item 'Minor Salivary Gland\\_DGE.txt'\n",
       "\\item 'Muscle - Skeletal\\_DGE.txt'\n",
       "\\item 'Nerve - Tibial\\_DGE.txt'\n",
       "\\item 'Pancreas\\_DGE.txt'\n",
       "\\item 'Pituitary\\_DGE.txt'\n",
       "\\item 'Skin - Not Sun Exposed (Suprapubic)\\_DGE.txt'\n",
       "\\item 'Skin - Sun Exposed (Lower leg)\\_DGE.txt'\n",
       "\\item 'Small Intestine - Terminal Ileum\\_DGE.txt'\n",
       "\\item 'Spleen\\_DGE.txt'\n",
       "\\item 'Stomach\\_DGE.txt'\n",
       "\\item 'Thyroid\\_DGE.txt'\n",
       "\\item 'Whole Blood\\_DGE.txt'\n",
       "\\end{enumerate*}\n"
      ],
      "text/markdown": [
       "1. 'Adipose - Subcutaneous_DGE.txt'\n",
       "2. 'Adipose - Visceral (Omentum)_DGE.txt'\n",
       "3. 'Adrenal Gland_DGE.txt'\n",
       "4. 'Artery - Aorta_DGE.txt'\n",
       "5. 'Artery - Coronary_DGE.txt'\n",
       "6. 'Artery - Tibial_DGE.txt'\n",
       "7. 'Bladder_DGE.txt'\n",
       "8. 'Brain - Amygdala_DGE.txt'\n",
       "9. 'Brain - Anterior cingulate cortex (BA24)_DGE.txt'\n",
       "10. 'Brain - Caudate (basal ganglia)_DGE.txt'\n",
       "11. 'Brain - Cerebellar Hemisphere_DGE.txt'\n",
       "12. 'Brain - Cerebellum_DGE.txt'\n",
       "13. 'Brain - Cortex_DGE.txt'\n",
       "14. 'Brain - Frontal Cortex (BA9)_DGE.txt'\n",
       "15. 'Brain - Hippocampus_DGE.txt'\n",
       "16. 'Brain - Hypothalamus_DGE.txt'\n",
       "17. 'Brain - Nucleus accumbens (basal ganglia)_DGE.txt'\n",
       "18. 'Brain - Putamen (basal ganglia)_DGE.txt'\n",
       "19. 'Brain - Spinal cord (cervical c-1)_DGE.txt'\n",
       "20. 'Brain - Substantia nigra_DGE.txt'\n",
       "21. 'Breast - Mammary Tissue_DGE.txt'\n",
       "22. 'Cells - Cultured fibroblasts_DGE.txt'\n",
       "23. 'Cells - EBV-transformed lymphocytes_DGE.txt'\n",
       "24. 'Colon - Sigmoid_DGE.txt'\n",
       "25. 'Colon - Transverse_DGE.txt'\n",
       "26. 'Esophagus - Gastroesophageal Junction_DGE.txt'\n",
       "27. 'Esophagus - Mucosa_DGE.txt'\n",
       "28. 'Esophagus - Muscularis_DGE.txt'\n",
       "29. 'Heart - Atrial Appendage_DGE.txt'\n",
       "30. 'Heart - Left Ventricle_DGE.txt'\n",
       "31. 'Kidney - Cortex_DGE.txt'\n",
       "32. 'Kidney - Medulla_DGE.txt'\n",
       "33. 'Liver_DGE.txt'\n",
       "34. 'Lung_DGE.txt'\n",
       "35. 'Minor Salivary Gland_DGE.txt'\n",
       "36. 'Muscle - Skeletal_DGE.txt'\n",
       "37. 'Nerve - Tibial_DGE.txt'\n",
       "38. 'Pancreas_DGE.txt'\n",
       "39. 'Pituitary_DGE.txt'\n",
       "40. 'Skin - Not Sun Exposed (Suprapubic)_DGE.txt'\n",
       "41. 'Skin - Sun Exposed (Lower leg)_DGE.txt'\n",
       "42. 'Small Intestine - Terminal Ileum_DGE.txt'\n",
       "43. 'Spleen_DGE.txt'\n",
       "44. 'Stomach_DGE.txt'\n",
       "45. 'Thyroid_DGE.txt'\n",
       "46. 'Whole Blood_DGE.txt'\n",
       "\n",
       "\n"
      ],
      "text/plain": [
       " [1] \"Adipose - Subcutaneous_DGE.txt\"                   \n",
       " [2] \"Adipose - Visceral (Omentum)_DGE.txt\"             \n",
       " [3] \"Adrenal Gland_DGE.txt\"                            \n",
       " [4] \"Artery - Aorta_DGE.txt\"                           \n",
       " [5] \"Artery - Coronary_DGE.txt\"                        \n",
       " [6] \"Artery - Tibial_DGE.txt\"                          \n",
       " [7] \"Bladder_DGE.txt\"                                  \n",
       " [8] \"Brain - Amygdala_DGE.txt\"                         \n",
       " [9] \"Brain - Anterior cingulate cortex (BA24)_DGE.txt\" \n",
       "[10] \"Brain - Caudate (basal ganglia)_DGE.txt\"          \n",
       "[11] \"Brain - Cerebellar Hemisphere_DGE.txt\"            \n",
       "[12] \"Brain - Cerebellum_DGE.txt\"                       \n",
       "[13] \"Brain - Cortex_DGE.txt\"                           \n",
       "[14] \"Brain - Frontal Cortex (BA9)_DGE.txt\"             \n",
       "[15] \"Brain - Hippocampus_DGE.txt\"                      \n",
       "[16] \"Brain - Hypothalamus_DGE.txt\"                     \n",
       "[17] \"Brain - Nucleus accumbens (basal ganglia)_DGE.txt\"\n",
       "[18] \"Brain - Putamen (basal ganglia)_DGE.txt\"          \n",
       "[19] \"Brain - Spinal cord (cervical c-1)_DGE.txt\"       \n",
       "[20] \"Brain - Substantia nigra_DGE.txt\"                 \n",
       "[21] \"Breast - Mammary Tissue_DGE.txt\"                  \n",
       "[22] \"Cells - Cultured fibroblasts_DGE.txt\"             \n",
       "[23] \"Cells - EBV-transformed lymphocytes_DGE.txt\"      \n",
       "[24] \"Colon - Sigmoid_DGE.txt\"                          \n",
       "[25] \"Colon - Transverse_DGE.txt\"                       \n",
       "[26] \"Esophagus - Gastroesophageal Junction_DGE.txt\"    \n",
       "[27] \"Esophagus - Mucosa_DGE.txt\"                       \n",
       "[28] \"Esophagus - Muscularis_DGE.txt\"                   \n",
       "[29] \"Heart - Atrial Appendage_DGE.txt\"                 \n",
       "[30] \"Heart - Left Ventricle_DGE.txt\"                   \n",
       "[31] \"Kidney - Cortex_DGE.txt\"                          \n",
       "[32] \"Kidney - Medulla_DGE.txt\"                         \n",
       "[33] \"Liver_DGE.txt\"                                    \n",
       "[34] \"Lung_DGE.txt\"                                     \n",
       "[35] \"Minor Salivary Gland_DGE.txt\"                     \n",
       "[36] \"Muscle - Skeletal_DGE.txt\"                        \n",
       "[37] \"Nerve - Tibial_DGE.txt\"                           \n",
       "[38] \"Pancreas_DGE.txt\"                                 \n",
       "[39] \"Pituitary_DGE.txt\"                                \n",
       "[40] \"Skin - Not Sun Exposed (Suprapubic)_DGE.txt\"      \n",
       "[41] \"Skin - Sun Exposed (Lower leg)_DGE.txt\"           \n",
       "[42] \"Small Intestine - Terminal Ileum_DGE.txt\"         \n",
       "[43] \"Spleen_DGE.txt\"                                   \n",
       "[44] \"Stomach_DGE.txt\"                                  \n",
       "[45] \"Thyroid_DGE.txt\"                                  \n",
       "[46] \"Whole Blood_DGE.txt\"                              "
      ]
     },
     "metadata": {},
     "output_type": "display_data"
    }
   ],
   "source": [
    "filenames <- list.files(\"../data\", pattern=\"*_DGE.txt\", all.files=FALSE, full.names=FALSE)\n",
    "(filenames)"
   ]
  },
  {
   "cell_type": "code",
   "execution_count": 37,
   "metadata": {},
   "outputs": [],
   "source": [
    "# preserve the ordered rownames for later assignment to matrix\n",
    "fullfilename <- paste('../data',filenames[1],sep=\"/\")\n",
    "logFC_mat <- read.delim2(fullfilename, stringsAsFactors=FALSE)\n",
    "logFC_mat <- logFC_mat[order(rownames(logFC_mat)),]\n",
    "logFC_mat_rownames <- as.character(rownames(logFC_mat)) "
   ]
  },
  {
   "cell_type": "code",
   "execution_count": 38,
   "metadata": {},
   "outputs": [],
   "source": [
    "# Make a matrix for each of the tissues\n",
    "# from what files are saved\n",
    "\n",
    "make_tissue_matrix_ready <- function (file, obj) {\n",
    "    filename        <- paste('../data',file,sep=\"/\")\n",
    "    logFC_mat       <- read.delim2(filename, stringsAsFactors = FALSE)\n",
    "    logFC_mat       <- logFC_mat[order(rownames(logFC_mat)),]\n",
    "    logFC           <- as.matrix(as.numeric(logFC_mat$logFC),nrow=dim(obj)[2],ncol=1)\n",
    "    rownames(logFC) <- rownames(logFC_mat)\n",
    "    return(logFC)\n",
    "}"
   ]
  },
  {
   "cell_type": "code",
   "execution_count": 39,
   "metadata": {},
   "outputs": [],
   "source": [
    "matrix_list <- lapply(X=filenames, FUN=make_tissue_matrix_ready, obj=reduced_obj)"
   ]
  },
  {
   "cell_type": "code",
   "execution_count": 96,
   "metadata": {},
   "outputs": [
    {
     "data": {
      "text/html": [
       "46"
      ],
      "text/latex": [
       "46"
      ],
      "text/markdown": [
       "46"
      ],
      "text/plain": [
       "[1] 46"
      ]
     },
     "metadata": {},
     "output_type": "display_data"
    },
    {
     "data": {
      "text/html": [
       "46"
      ],
      "text/latex": [
       "46"
      ],
      "text/markdown": [
       "46"
      ],
      "text/plain": [
       "[1] 46"
      ]
     },
     "metadata": {},
     "output_type": "display_data"
    }
   ],
   "source": [
    "length(matrix_list)\n",
    "logFC_mat = as.matrix(lapply(X   = matrix_list, \n",
    "                             FUN = cbind),\n",
    "                      nrow = dim(reduced_obj)[2], \n",
    "                      ncol = length(matrix_list))\n",
    "length(logFC_mat)"
   ]
  },
  {
   "cell_type": "code",
   "execution_count": 97,
   "metadata": {},
   "outputs": [],
   "source": [
    "get_tissue_name <- function (tissue_name) {\n",
    "            tissue <- str_replace(tissue_name,'_DGE.txt','')\n",
    "            return(tissue)\n",
    "}"
   ]
  },
  {
   "cell_type": "code",
   "execution_count": 98,
   "metadata": {},
   "outputs": [
    {
     "data": {
      "text/html": [
       "46"
      ],
      "text/latex": [
       "46"
      ],
      "text/markdown": [
       "46"
      ],
      "text/plain": [
       "[1] 46"
      ]
     },
     "metadata": {},
     "output_type": "display_data"
    },
    {
     "data": {
      "text/html": [
       "<ol>\n",
       "\t<li>'Adipose - Subcutaneous'</li>\n",
       "\t<li>'Adipose - Visceral (Omentum)'</li>\n",
       "\t<li>'Adrenal Gland'</li>\n",
       "\t<li>'Artery - Aorta'</li>\n",
       "\t<li>'Artery - Coronary'</li>\n",
       "\t<li>'Artery - Tibial'</li>\n",
       "</ol>\n"
      ],
      "text/latex": [
       "\\begin{enumerate}\n",
       "\\item 'Adipose - Subcutaneous'\n",
       "\\item 'Adipose - Visceral (Omentum)'\n",
       "\\item 'Adrenal Gland'\n",
       "\\item 'Artery - Aorta'\n",
       "\\item 'Artery - Coronary'\n",
       "\\item 'Artery - Tibial'\n",
       "\\end{enumerate}\n"
      ],
      "text/markdown": [
       "1. 'Adipose - Subcutaneous'\n",
       "2. 'Adipose - Visceral (Omentum)'\n",
       "3. 'Adrenal Gland'\n",
       "4. 'Artery - Aorta'\n",
       "5. 'Artery - Coronary'\n",
       "6. 'Artery - Tibial'\n",
       "\n",
       "\n"
      ],
      "text/plain": [
       "[[1]]\n",
       "[1] \"Adipose - Subcutaneous\"\n",
       "\n",
       "[[2]]\n",
       "[1] \"Adipose - Visceral (Omentum)\"\n",
       "\n",
       "[[3]]\n",
       "[1] \"Adrenal Gland\"\n",
       "\n",
       "[[4]]\n",
       "[1] \"Artery - Aorta\"\n",
       "\n",
       "[[5]]\n",
       "[1] \"Artery - Coronary\"\n",
       "\n",
       "[[6]]\n",
       "[1] \"Artery - Tibial\"\n"
      ]
     },
     "metadata": {},
     "output_type": "display_data"
    }
   ],
   "source": [
    "tissue_list <- lapply(X=levels(tissue_shared_male_female), FUN=get_tissue_name)\n",
    "length(tissue_list)\n",
    "head(tissue_list)"
   ]
  },
  {
   "cell_type": "code",
   "execution_count": 99,
   "metadata": {},
   "outputs": [
    {
     "data": {
      "text/html": [
       "<style>\n",
       ".list-inline {list-style: none; margin:0; padding: 0}\n",
       ".list-inline>li {display: inline-block}\n",
       ".list-inline>li:not(:last-child)::after {content: \"\\00b7\"; padding: 0 .5ex}\n",
       "</style>\n",
       "<ol class=list-inline><li>15895</li><li>46</li></ol>\n"
      ],
      "text/latex": [
       "\\begin{enumerate*}\n",
       "\\item 15895\n",
       "\\item 46\n",
       "\\end{enumerate*}\n"
      ],
      "text/markdown": [
       "1. 15895\n",
       "2. 46\n",
       "\n",
       "\n"
      ],
      "text/plain": [
       "[1] 15895    46"
      ]
     },
     "metadata": {},
     "output_type": "display_data"
    },
    {
     "data": {
      "text/html": [
       "<table>\n",
       "<caption>A matrix: 6 × 46 of type dbl</caption>\n",
       "<thead>\n",
       "\t<tr><th></th><th scope=col>Adipose - Subcutaneous</th><th scope=col>Adipose - Visceral (Omentum)</th><th scope=col>Adrenal Gland</th><th scope=col>Artery - Aorta</th><th scope=col>Artery - Coronary</th><th scope=col>Artery - Tibial</th><th scope=col>Bladder</th><th scope=col>Brain - Amygdala</th><th scope=col>Brain - Anterior cingulate cortex (BA24)</th><th scope=col>Brain - Caudate (basal ganglia)</th><th scope=col>⋯</th><th scope=col>Nerve - Tibial</th><th scope=col>Pancreas</th><th scope=col>Pituitary</th><th scope=col>Skin - Not Sun Exposed (Suprapubic)</th><th scope=col>Skin - Sun Exposed (Lower leg)</th><th scope=col>Small Intestine - Terminal Ileum</th><th scope=col>Spleen</th><th scope=col>Stomach</th><th scope=col>Thyroid</th><th scope=col>Whole Blood</th></tr>\n",
       "</thead>\n",
       "<tbody>\n",
       "\t<tr><th scope=row>ENSG00000000003.14</th><td> 0.159867956</td><td>-0.054390442</td><td>-0.001420062</td><td>0.01910579</td><td> 0.055831994</td><td> 0.01975686</td><td> 0.03369222</td><td> 0.037372370</td><td>-0.05653552</td><td> 0.01459946</td><td>⋯</td><td>-0.003767259</td><td> 0.076920723</td><td>-0.29786285</td><td>-0.057271529</td><td> 0.07130993</td><td> 0.152350904</td><td>-0.014153064</td><td> 0.043080117</td><td>-0.083539471</td><td> 0.14002859</td></tr>\n",
       "\t<tr><th scope=row>ENSG00000000419.12</th><td>-0.015111798</td><td> 0.054725155</td><td> 0.029764670</td><td>0.01092628</td><td> 0.036753966</td><td> 0.01059017</td><td>-0.04660812</td><td>-0.001611315</td><td> 0.02301793</td><td> 0.06902469</td><td>⋯</td><td>-0.001930505</td><td>-0.022461103</td><td>-0.05328584</td><td> 0.005487066</td><td> 0.05605845</td><td>-0.007142621</td><td> 0.005660932</td><td>-0.055294508</td><td>-0.012258786</td><td> 0.14732442</td></tr>\n",
       "\t<tr><th scope=row>ENSG00000000457.13</th><td> 0.009501953</td><td> 0.001604707</td><td>-0.044547080</td><td>0.02654465</td><td> 0.001420152</td><td> 0.07241408</td><td> 0.01623332</td><td> 0.069141796</td><td> 0.06588816</td><td> 0.03153251</td><td>⋯</td><td>-0.016295587</td><td>-0.008384726</td><td> 0.04280993</td><td>-0.035631149</td><td>-0.06907719</td><td> 0.022458670</td><td> 0.031778550</td><td>-0.007238725</td><td> 0.023054013</td><td> 0.18745209</td></tr>\n",
       "\t<tr><th scope=row>ENSG00000000460.16</th><td>-0.036024716</td><td> 0.016972717</td><td> 0.015813767</td><td>0.04380547</td><td>-0.030048709</td><td> 0.03885698</td><td>-0.07443956</td><td> 0.036740174</td><td> 0.06604508</td><td>-0.01706688</td><td>⋯</td><td>-0.015547288</td><td> 0.017757642</td><td> 0.06010527</td><td> 0.012014626</td><td>-0.04743994</td><td> 0.056236812</td><td> 0.075831554</td><td>-0.017456828</td><td> 0.053498280</td><td> 0.01243589</td></tr>\n",
       "\t<tr><th scope=row>ENSG00000000938.12</th><td> 0.371970973</td><td> 0.133928403</td><td>-0.178667703</td><td>0.11281414</td><td>-0.005249730</td><td> 0.02795555</td><td> 0.23602905</td><td> 0.194845873</td><td> 0.20882122</td><td> 0.33196655</td><td>⋯</td><td> 0.178659024</td><td>-0.309908157</td><td> 0.03900437</td><td> 0.256315471</td><td> 0.33101095</td><td>-0.008547992</td><td>-0.114185714</td><td> 0.032198632</td><td> 0.152990274</td><td> 0.06422003</td></tr>\n",
       "\t<tr><th scope=row>ENSG00000000971.15</th><td> 0.101369591</td><td>-0.052725628</td><td> 0.215478378</td><td>0.01473135</td><td>-0.118761119</td><td>-0.08043895</td><td>-0.15960934</td><td> 0.286809636</td><td> 0.12973142</td><td> 0.25777970</td><td>⋯</td><td> 0.032645652</td><td>-0.174701746</td><td> 0.02503865</td><td> 0.247245406</td><td> 0.28298039</td><td>-0.365205249</td><td>-0.004167090</td><td> 0.033286928</td><td> 0.007787418</td><td>-0.19620740</td></tr>\n",
       "</tbody>\n",
       "</table>\n"
      ],
      "text/latex": [
       "A matrix: 6 × 46 of type dbl\n",
       "\\begin{tabular}{r|lllllllllllllllllllll}\n",
       "  & Adipose - Subcutaneous & Adipose - Visceral (Omentum) & Adrenal Gland & Artery - Aorta & Artery - Coronary & Artery - Tibial & Bladder & Brain - Amygdala & Brain - Anterior cingulate cortex (BA24) & Brain - Caudate (basal ganglia) & ⋯ & Nerve - Tibial & Pancreas & Pituitary & Skin - Not Sun Exposed (Suprapubic) & Skin - Sun Exposed (Lower leg) & Small Intestine - Terminal Ileum & Spleen & Stomach & Thyroid & Whole Blood\\\\\n",
       "\\hline\n",
       "\tENSG00000000003.14 &  0.159867956 & -0.054390442 & -0.001420062 & 0.01910579 &  0.055831994 &  0.01975686 &  0.03369222 &  0.037372370 & -0.05653552 &  0.01459946 & ⋯ & -0.003767259 &  0.076920723 & -0.29786285 & -0.057271529 &  0.07130993 &  0.152350904 & -0.014153064 &  0.043080117 & -0.083539471 &  0.14002859\\\\\n",
       "\tENSG00000000419.12 & -0.015111798 &  0.054725155 &  0.029764670 & 0.01092628 &  0.036753966 &  0.01059017 & -0.04660812 & -0.001611315 &  0.02301793 &  0.06902469 & ⋯ & -0.001930505 & -0.022461103 & -0.05328584 &  0.005487066 &  0.05605845 & -0.007142621 &  0.005660932 & -0.055294508 & -0.012258786 &  0.14732442\\\\\n",
       "\tENSG00000000457.13 &  0.009501953 &  0.001604707 & -0.044547080 & 0.02654465 &  0.001420152 &  0.07241408 &  0.01623332 &  0.069141796 &  0.06588816 &  0.03153251 & ⋯ & -0.016295587 & -0.008384726 &  0.04280993 & -0.035631149 & -0.06907719 &  0.022458670 &  0.031778550 & -0.007238725 &  0.023054013 &  0.18745209\\\\\n",
       "\tENSG00000000460.16 & -0.036024716 &  0.016972717 &  0.015813767 & 0.04380547 & -0.030048709 &  0.03885698 & -0.07443956 &  0.036740174 &  0.06604508 & -0.01706688 & ⋯ & -0.015547288 &  0.017757642 &  0.06010527 &  0.012014626 & -0.04743994 &  0.056236812 &  0.075831554 & -0.017456828 &  0.053498280 &  0.01243589\\\\\n",
       "\tENSG00000000938.12 &  0.371970973 &  0.133928403 & -0.178667703 & 0.11281414 & -0.005249730 &  0.02795555 &  0.23602905 &  0.194845873 &  0.20882122 &  0.33196655 & ⋯ &  0.178659024 & -0.309908157 &  0.03900437 &  0.256315471 &  0.33101095 & -0.008547992 & -0.114185714 &  0.032198632 &  0.152990274 &  0.06422003\\\\\n",
       "\tENSG00000000971.15 &  0.101369591 & -0.052725628 &  0.215478378 & 0.01473135 & -0.118761119 & -0.08043895 & -0.15960934 &  0.286809636 &  0.12973142 &  0.25777970 & ⋯ &  0.032645652 & -0.174701746 &  0.02503865 &  0.247245406 &  0.28298039 & -0.365205249 & -0.004167090 &  0.033286928 &  0.007787418 & -0.19620740\\\\\n",
       "\\end{tabular}\n"
      ],
      "text/markdown": [
       "\n",
       "A matrix: 6 × 46 of type dbl\n",
       "\n",
       "| <!--/--> | Adipose - Subcutaneous | Adipose - Visceral (Omentum) | Adrenal Gland | Artery - Aorta | Artery - Coronary | Artery - Tibial | Bladder | Brain - Amygdala | Brain - Anterior cingulate cortex (BA24) | Brain - Caudate (basal ganglia) | ⋯ | Nerve - Tibial | Pancreas | Pituitary | Skin - Not Sun Exposed (Suprapubic) | Skin - Sun Exposed (Lower leg) | Small Intestine - Terminal Ileum | Spleen | Stomach | Thyroid | Whole Blood |\n",
       "|---|---|---|---|---|---|---|---|---|---|---|---|---|---|---|---|---|---|---|---|---|---|\n",
       "| ENSG00000000003.14 |  0.159867956 | -0.054390442 | -0.001420062 | 0.01910579 |  0.055831994 |  0.01975686 |  0.03369222 |  0.037372370 | -0.05653552 |  0.01459946 | ⋯ | -0.003767259 |  0.076920723 | -0.29786285 | -0.057271529 |  0.07130993 |  0.152350904 | -0.014153064 |  0.043080117 | -0.083539471 |  0.14002859 |\n",
       "| ENSG00000000419.12 | -0.015111798 |  0.054725155 |  0.029764670 | 0.01092628 |  0.036753966 |  0.01059017 | -0.04660812 | -0.001611315 |  0.02301793 |  0.06902469 | ⋯ | -0.001930505 | -0.022461103 | -0.05328584 |  0.005487066 |  0.05605845 | -0.007142621 |  0.005660932 | -0.055294508 | -0.012258786 |  0.14732442 |\n",
       "| ENSG00000000457.13 |  0.009501953 |  0.001604707 | -0.044547080 | 0.02654465 |  0.001420152 |  0.07241408 |  0.01623332 |  0.069141796 |  0.06588816 |  0.03153251 | ⋯ | -0.016295587 | -0.008384726 |  0.04280993 | -0.035631149 | -0.06907719 |  0.022458670 |  0.031778550 | -0.007238725 |  0.023054013 |  0.18745209 |\n",
       "| ENSG00000000460.16 | -0.036024716 |  0.016972717 |  0.015813767 | 0.04380547 | -0.030048709 |  0.03885698 | -0.07443956 |  0.036740174 |  0.06604508 | -0.01706688 | ⋯ | -0.015547288 |  0.017757642 |  0.06010527 |  0.012014626 | -0.04743994 |  0.056236812 |  0.075831554 | -0.017456828 |  0.053498280 |  0.01243589 |\n",
       "| ENSG00000000938.12 |  0.371970973 |  0.133928403 | -0.178667703 | 0.11281414 | -0.005249730 |  0.02795555 |  0.23602905 |  0.194845873 |  0.20882122 |  0.33196655 | ⋯ |  0.178659024 | -0.309908157 |  0.03900437 |  0.256315471 |  0.33101095 | -0.008547992 | -0.114185714 |  0.032198632 |  0.152990274 |  0.06422003 |\n",
       "| ENSG00000000971.15 |  0.101369591 | -0.052725628 |  0.215478378 | 0.01473135 | -0.118761119 | -0.08043895 | -0.15960934 |  0.286809636 |  0.12973142 |  0.25777970 | ⋯ |  0.032645652 | -0.174701746 |  0.02503865 |  0.247245406 |  0.28298039 | -0.365205249 | -0.004167090 |  0.033286928 |  0.007787418 | -0.19620740 |\n",
       "\n"
      ],
      "text/plain": [
       "                   Adipose - Subcutaneous Adipose - Visceral (Omentum)\n",
       "ENSG00000000003.14  0.159867956           -0.054390442                \n",
       "ENSG00000000419.12 -0.015111798            0.054725155                \n",
       "ENSG00000000457.13  0.009501953            0.001604707                \n",
       "ENSG00000000460.16 -0.036024716            0.016972717                \n",
       "ENSG00000000938.12  0.371970973            0.133928403                \n",
       "ENSG00000000971.15  0.101369591           -0.052725628                \n",
       "                   Adrenal Gland Artery - Aorta Artery - Coronary\n",
       "ENSG00000000003.14 -0.001420062  0.01910579      0.055831994     \n",
       "ENSG00000000419.12  0.029764670  0.01092628      0.036753966     \n",
       "ENSG00000000457.13 -0.044547080  0.02654465      0.001420152     \n",
       "ENSG00000000460.16  0.015813767  0.04380547     -0.030048709     \n",
       "ENSG00000000938.12 -0.178667703  0.11281414     -0.005249730     \n",
       "ENSG00000000971.15  0.215478378  0.01473135     -0.118761119     \n",
       "                   Artery - Tibial Bladder     Brain - Amygdala\n",
       "ENSG00000000003.14  0.01975686      0.03369222  0.037372370    \n",
       "ENSG00000000419.12  0.01059017     -0.04660812 -0.001611315    \n",
       "ENSG00000000457.13  0.07241408      0.01623332  0.069141796    \n",
       "ENSG00000000460.16  0.03885698     -0.07443956  0.036740174    \n",
       "ENSG00000000938.12  0.02795555      0.23602905  0.194845873    \n",
       "ENSG00000000971.15 -0.08043895     -0.15960934  0.286809636    \n",
       "                   Brain - Anterior cingulate cortex (BA24)\n",
       "ENSG00000000003.14 -0.05653552                             \n",
       "ENSG00000000419.12  0.02301793                             \n",
       "ENSG00000000457.13  0.06588816                             \n",
       "ENSG00000000460.16  0.06604508                             \n",
       "ENSG00000000938.12  0.20882122                             \n",
       "ENSG00000000971.15  0.12973142                             \n",
       "                   Brain - Caudate (basal ganglia) ⋯ Nerve - Tibial\n",
       "ENSG00000000003.14  0.01459946                     ⋯ -0.003767259  \n",
       "ENSG00000000419.12  0.06902469                     ⋯ -0.001930505  \n",
       "ENSG00000000457.13  0.03153251                     ⋯ -0.016295587  \n",
       "ENSG00000000460.16 -0.01706688                     ⋯ -0.015547288  \n",
       "ENSG00000000938.12  0.33196655                     ⋯  0.178659024  \n",
       "ENSG00000000971.15  0.25777970                     ⋯  0.032645652  \n",
       "                   Pancreas     Pituitary   Skin - Not Sun Exposed (Suprapubic)\n",
       "ENSG00000000003.14  0.076920723 -0.29786285 -0.057271529                       \n",
       "ENSG00000000419.12 -0.022461103 -0.05328584  0.005487066                       \n",
       "ENSG00000000457.13 -0.008384726  0.04280993 -0.035631149                       \n",
       "ENSG00000000460.16  0.017757642  0.06010527  0.012014626                       \n",
       "ENSG00000000938.12 -0.309908157  0.03900437  0.256315471                       \n",
       "ENSG00000000971.15 -0.174701746  0.02503865  0.247245406                       \n",
       "                   Skin - Sun Exposed (Lower leg)\n",
       "ENSG00000000003.14  0.07130993                   \n",
       "ENSG00000000419.12  0.05605845                   \n",
       "ENSG00000000457.13 -0.06907719                   \n",
       "ENSG00000000460.16 -0.04743994                   \n",
       "ENSG00000000938.12  0.33101095                   \n",
       "ENSG00000000971.15  0.28298039                   \n",
       "                   Small Intestine - Terminal Ileum Spleen       Stomach     \n",
       "ENSG00000000003.14  0.152350904                     -0.014153064  0.043080117\n",
       "ENSG00000000419.12 -0.007142621                      0.005660932 -0.055294508\n",
       "ENSG00000000457.13  0.022458670                      0.031778550 -0.007238725\n",
       "ENSG00000000460.16  0.056236812                      0.075831554 -0.017456828\n",
       "ENSG00000000938.12 -0.008547992                     -0.114185714  0.032198632\n",
       "ENSG00000000971.15 -0.365205249                     -0.004167090  0.033286928\n",
       "                   Thyroid      Whole Blood\n",
       "ENSG00000000003.14 -0.083539471  0.14002859\n",
       "ENSG00000000419.12 -0.012258786  0.14732442\n",
       "ENSG00000000457.13  0.023054013  0.18745209\n",
       "ENSG00000000460.16  0.053498280  0.01243589\n",
       "ENSG00000000938.12  0.152990274  0.06422003\n",
       "ENSG00000000971.15  0.007787418 -0.19620740"
      ]
     },
     "metadata": {},
     "output_type": "display_data"
    }
   ],
   "source": [
    "logFC_mat = as.matrix(as.numeric(unlist(matrix_list[1]),nrow=dim(reduced_obj)[2], ncol=1))\n",
    "\n",
    "for (i in (2:length(matrix_list))) {\n",
    "    n = as.matrix(as.numeric(unlist(matrix_list[i]),nrow=dim(reduced_obj)[2], ncol=1))\n",
    "    logFC_mat = cbind(logFC_mat, n)\n",
    "}\n",
    "\n",
    "dim(logFC_mat)\n",
    "rownames(logFC_mat) = logFC_mat_rownames\n",
    "colnames(logFC_mat) = tissue_list\n",
    "head(logFC_mat)"
   ]
  },
  {
   "cell_type": "code",
   "execution_count": 100,
   "metadata": {},
   "outputs": [],
   "source": [
    "logFC_mat_NQ <- normalizeQuantiles(logFC_mat)"
   ]
  },
  {
   "cell_type": "code",
   "execution_count": 101,
   "metadata": {},
   "outputs": [
    {
     "data": {
      "text/html": [
       "<table>\n",
       "<caption>A matrix: 6 × 46 of type dbl</caption>\n",
       "<thead>\n",
       "\t<tr><th></th><th scope=col>Adipose - Subcutaneous</th><th scope=col>Adipose - Visceral (Omentum)</th><th scope=col>Adrenal Gland</th><th scope=col>Artery - Aorta</th><th scope=col>Artery - Coronary</th><th scope=col>Artery - Tibial</th><th scope=col>Bladder</th><th scope=col>Brain - Amygdala</th><th scope=col>Brain - Anterior cingulate cortex (BA24)</th><th scope=col>Brain - Caudate (basal ganglia)</th><th scope=col>⋯</th><th scope=col>Nerve - Tibial</th><th scope=col>Pancreas</th><th scope=col>Pituitary</th><th scope=col>Skin - Not Sun Exposed (Suprapubic)</th><th scope=col>Skin - Sun Exposed (Lower leg)</th><th scope=col>Small Intestine - Terminal Ileum</th><th scope=col>Spleen</th><th scope=col>Stomach</th><th scope=col>Thyroid</th><th scope=col>Whole Blood</th></tr>\n",
       "</thead>\n",
       "<tbody>\n",
       "\t<tr><th scope=row>ENSG00000000003.14</th><td> 0.18163856</td><td>-0.057699749</td><td>-0.002561785</td><td>0.03100612</td><td> 0.0671783351</td><td> 0.02962109</td><td> 0.02421133</td><td> 0.0414066450</td><td>-0.07948192</td><td> 0.009461349</td><td>⋯</td><td>-0.007560889</td><td> 0.12859512</td><td>-0.20844639</td><td>-0.068721403</td><td> 0.09323422</td><td> 0.16301173</td><td>-0.016072268</td><td> 0.071045424</td><td>-0.124524045</td><td> 0.109587317</td></tr>\n",
       "\t<tr><th scope=row>ENSG00000000419.12</th><td>-0.01290889</td><td> 0.072514519</td><td> 0.036283839</td><td>0.01793584</td><td> 0.0416967915</td><td> 0.01572716</td><td>-0.02702430</td><td>-0.0005564463</td><td> 0.02096841</td><td> 0.081626002</td><td>⋯</td><td>-0.003155334</td><td>-0.03289401</td><td>-0.05493662</td><td> 0.003479065</td><td> 0.07420289</td><td>-0.01129464</td><td> 0.009315197</td><td>-0.096737082</td><td>-0.021242066</td><td> 0.116820740</td></tr>\n",
       "\t<tr><th scope=row>ENSG00000000457.13</th><td> 0.01753074</td><td> 0.007059282</td><td>-0.054765500</td><td>0.04220573</td><td> 0.0003125237</td><td> 0.12100082</td><td> 0.01288429</td><td> 0.0755805325</td><td> 0.07373944</td><td> 0.032011415</td><td>⋯</td><td>-0.036807183</td><td>-0.01040080</td><td> 0.05439554</td><td>-0.044553550</td><td>-0.09598508</td><td> 0.02152593</td><td> 0.041177680</td><td>-0.009562226</td><td> 0.029252925</td><td> 0.159291298</td></tr>\n",
       "\t<tr><th scope=row>ENSG00000000460.16</th><td>-0.03704866</td><td> 0.025192776</td><td> 0.018491241</td><td>0.06727793</td><td>-0.0331672748</td><td> 0.05999445</td><td>-0.04329810</td><td> 0.0408642805</td><td> 0.07391683</td><td>-0.028678481</td><td>⋯</td><td>-0.035249020</td><td> 0.03213168</td><td> 0.07909456</td><td> 0.010959443</td><td>-0.06915861</td><td> 0.05783887</td><td> 0.099170937</td><td>-0.027087795</td><td> 0.070267301</td><td> 0.002878269</td></tr>\n",
       "\t<tr><th scope=row>ENSG00000000938.12</th><td> 0.40449005</td><td> 0.183163005</td><td>-0.234672498</td><td>0.14864390</td><td>-0.0067902018</td><td> 0.04212011</td><td> 0.15156786</td><td> 0.2121257423</td><td> 0.26199942</td><td> 0.413599973</td><td>⋯</td><td> 0.344435114</td><td>-0.37680111</td><td> 0.04905316</td><td> 0.311078523</td><td> 0.37250988</td><td>-0.01303658</td><td>-0.146072512</td><td> 0.054242144</td><td> 0.186963834</td><td> 0.042745248</td></tr>\n",
       "\t<tr><th scope=row>ENSG00000000971.15</th><td> 0.12194223</td><td>-0.056092042</td><td> 0.243680747</td><td>0.02400421</td><td>-0.1206659800</td><td>-0.09712891</td><td>-0.09392522</td><td> 0.3355878654</td><td> 0.15231143</td><td> 0.306434374</td><td>⋯</td><td> 0.075144397</td><td>-0.22330161</td><td> 0.03107249</td><td> 0.300366927</td><td> 0.32556092</td><td>-0.40784357</td><td>-0.003512847</td><td> 0.055919787</td><td> 0.008558994</td><td>-0.216267208</td></tr>\n",
       "</tbody>\n",
       "</table>\n"
      ],
      "text/latex": [
       "A matrix: 6 × 46 of type dbl\n",
       "\\begin{tabular}{r|lllllllllllllllllllll}\n",
       "  & Adipose - Subcutaneous & Adipose - Visceral (Omentum) & Adrenal Gland & Artery - Aorta & Artery - Coronary & Artery - Tibial & Bladder & Brain - Amygdala & Brain - Anterior cingulate cortex (BA24) & Brain - Caudate (basal ganglia) & ⋯ & Nerve - Tibial & Pancreas & Pituitary & Skin - Not Sun Exposed (Suprapubic) & Skin - Sun Exposed (Lower leg) & Small Intestine - Terminal Ileum & Spleen & Stomach & Thyroid & Whole Blood\\\\\n",
       "\\hline\n",
       "\tENSG00000000003.14 &  0.18163856 & -0.057699749 & -0.002561785 & 0.03100612 &  0.0671783351 &  0.02962109 &  0.02421133 &  0.0414066450 & -0.07948192 &  0.009461349 & ⋯ & -0.007560889 &  0.12859512 & -0.20844639 & -0.068721403 &  0.09323422 &  0.16301173 & -0.016072268 &  0.071045424 & -0.124524045 &  0.109587317\\\\\n",
       "\tENSG00000000419.12 & -0.01290889 &  0.072514519 &  0.036283839 & 0.01793584 &  0.0416967915 &  0.01572716 & -0.02702430 & -0.0005564463 &  0.02096841 &  0.081626002 & ⋯ & -0.003155334 & -0.03289401 & -0.05493662 &  0.003479065 &  0.07420289 & -0.01129464 &  0.009315197 & -0.096737082 & -0.021242066 &  0.116820740\\\\\n",
       "\tENSG00000000457.13 &  0.01753074 &  0.007059282 & -0.054765500 & 0.04220573 &  0.0003125237 &  0.12100082 &  0.01288429 &  0.0755805325 &  0.07373944 &  0.032011415 & ⋯ & -0.036807183 & -0.01040080 &  0.05439554 & -0.044553550 & -0.09598508 &  0.02152593 &  0.041177680 & -0.009562226 &  0.029252925 &  0.159291298\\\\\n",
       "\tENSG00000000460.16 & -0.03704866 &  0.025192776 &  0.018491241 & 0.06727793 & -0.0331672748 &  0.05999445 & -0.04329810 &  0.0408642805 &  0.07391683 & -0.028678481 & ⋯ & -0.035249020 &  0.03213168 &  0.07909456 &  0.010959443 & -0.06915861 &  0.05783887 &  0.099170937 & -0.027087795 &  0.070267301 &  0.002878269\\\\\n",
       "\tENSG00000000938.12 &  0.40449005 &  0.183163005 & -0.234672498 & 0.14864390 & -0.0067902018 &  0.04212011 &  0.15156786 &  0.2121257423 &  0.26199942 &  0.413599973 & ⋯ &  0.344435114 & -0.37680111 &  0.04905316 &  0.311078523 &  0.37250988 & -0.01303658 & -0.146072512 &  0.054242144 &  0.186963834 &  0.042745248\\\\\n",
       "\tENSG00000000971.15 &  0.12194223 & -0.056092042 &  0.243680747 & 0.02400421 & -0.1206659800 & -0.09712891 & -0.09392522 &  0.3355878654 &  0.15231143 &  0.306434374 & ⋯ &  0.075144397 & -0.22330161 &  0.03107249 &  0.300366927 &  0.32556092 & -0.40784357 & -0.003512847 &  0.055919787 &  0.008558994 & -0.216267208\\\\\n",
       "\\end{tabular}\n"
      ],
      "text/markdown": [
       "\n",
       "A matrix: 6 × 46 of type dbl\n",
       "\n",
       "| <!--/--> | Adipose - Subcutaneous | Adipose - Visceral (Omentum) | Adrenal Gland | Artery - Aorta | Artery - Coronary | Artery - Tibial | Bladder | Brain - Amygdala | Brain - Anterior cingulate cortex (BA24) | Brain - Caudate (basal ganglia) | ⋯ | Nerve - Tibial | Pancreas | Pituitary | Skin - Not Sun Exposed (Suprapubic) | Skin - Sun Exposed (Lower leg) | Small Intestine - Terminal Ileum | Spleen | Stomach | Thyroid | Whole Blood |\n",
       "|---|---|---|---|---|---|---|---|---|---|---|---|---|---|---|---|---|---|---|---|---|---|\n",
       "| ENSG00000000003.14 |  0.18163856 | -0.057699749 | -0.002561785 | 0.03100612 |  0.0671783351 |  0.02962109 |  0.02421133 |  0.0414066450 | -0.07948192 |  0.009461349 | ⋯ | -0.007560889 |  0.12859512 | -0.20844639 | -0.068721403 |  0.09323422 |  0.16301173 | -0.016072268 |  0.071045424 | -0.124524045 |  0.109587317 |\n",
       "| ENSG00000000419.12 | -0.01290889 |  0.072514519 |  0.036283839 | 0.01793584 |  0.0416967915 |  0.01572716 | -0.02702430 | -0.0005564463 |  0.02096841 |  0.081626002 | ⋯ | -0.003155334 | -0.03289401 | -0.05493662 |  0.003479065 |  0.07420289 | -0.01129464 |  0.009315197 | -0.096737082 | -0.021242066 |  0.116820740 |\n",
       "| ENSG00000000457.13 |  0.01753074 |  0.007059282 | -0.054765500 | 0.04220573 |  0.0003125237 |  0.12100082 |  0.01288429 |  0.0755805325 |  0.07373944 |  0.032011415 | ⋯ | -0.036807183 | -0.01040080 |  0.05439554 | -0.044553550 | -0.09598508 |  0.02152593 |  0.041177680 | -0.009562226 |  0.029252925 |  0.159291298 |\n",
       "| ENSG00000000460.16 | -0.03704866 |  0.025192776 |  0.018491241 | 0.06727793 | -0.0331672748 |  0.05999445 | -0.04329810 |  0.0408642805 |  0.07391683 | -0.028678481 | ⋯ | -0.035249020 |  0.03213168 |  0.07909456 |  0.010959443 | -0.06915861 |  0.05783887 |  0.099170937 | -0.027087795 |  0.070267301 |  0.002878269 |\n",
       "| ENSG00000000938.12 |  0.40449005 |  0.183163005 | -0.234672498 | 0.14864390 | -0.0067902018 |  0.04212011 |  0.15156786 |  0.2121257423 |  0.26199942 |  0.413599973 | ⋯ |  0.344435114 | -0.37680111 |  0.04905316 |  0.311078523 |  0.37250988 | -0.01303658 | -0.146072512 |  0.054242144 |  0.186963834 |  0.042745248 |\n",
       "| ENSG00000000971.15 |  0.12194223 | -0.056092042 |  0.243680747 | 0.02400421 | -0.1206659800 | -0.09712891 | -0.09392522 |  0.3355878654 |  0.15231143 |  0.306434374 | ⋯ |  0.075144397 | -0.22330161 |  0.03107249 |  0.300366927 |  0.32556092 | -0.40784357 | -0.003512847 |  0.055919787 |  0.008558994 | -0.216267208 |\n",
       "\n"
      ],
      "text/plain": [
       "                   Adipose - Subcutaneous Adipose - Visceral (Omentum)\n",
       "ENSG00000000003.14  0.18163856            -0.057699749                \n",
       "ENSG00000000419.12 -0.01290889             0.072514519                \n",
       "ENSG00000000457.13  0.01753074             0.007059282                \n",
       "ENSG00000000460.16 -0.03704866             0.025192776                \n",
       "ENSG00000000938.12  0.40449005             0.183163005                \n",
       "ENSG00000000971.15  0.12194223            -0.056092042                \n",
       "                   Adrenal Gland Artery - Aorta Artery - Coronary\n",
       "ENSG00000000003.14 -0.002561785  0.03100612      0.0671783351    \n",
       "ENSG00000000419.12  0.036283839  0.01793584      0.0416967915    \n",
       "ENSG00000000457.13 -0.054765500  0.04220573      0.0003125237    \n",
       "ENSG00000000460.16  0.018491241  0.06727793     -0.0331672748    \n",
       "ENSG00000000938.12 -0.234672498  0.14864390     -0.0067902018    \n",
       "ENSG00000000971.15  0.243680747  0.02400421     -0.1206659800    \n",
       "                   Artery - Tibial Bladder     Brain - Amygdala\n",
       "ENSG00000000003.14  0.02962109      0.02421133  0.0414066450   \n",
       "ENSG00000000419.12  0.01572716     -0.02702430 -0.0005564463   \n",
       "ENSG00000000457.13  0.12100082      0.01288429  0.0755805325   \n",
       "ENSG00000000460.16  0.05999445     -0.04329810  0.0408642805   \n",
       "ENSG00000000938.12  0.04212011      0.15156786  0.2121257423   \n",
       "ENSG00000000971.15 -0.09712891     -0.09392522  0.3355878654   \n",
       "                   Brain - Anterior cingulate cortex (BA24)\n",
       "ENSG00000000003.14 -0.07948192                             \n",
       "ENSG00000000419.12  0.02096841                             \n",
       "ENSG00000000457.13  0.07373944                             \n",
       "ENSG00000000460.16  0.07391683                             \n",
       "ENSG00000000938.12  0.26199942                             \n",
       "ENSG00000000971.15  0.15231143                             \n",
       "                   Brain - Caudate (basal ganglia) ⋯ Nerve - Tibial Pancreas   \n",
       "ENSG00000000003.14  0.009461349                    ⋯ -0.007560889    0.12859512\n",
       "ENSG00000000419.12  0.081626002                    ⋯ -0.003155334   -0.03289401\n",
       "ENSG00000000457.13  0.032011415                    ⋯ -0.036807183   -0.01040080\n",
       "ENSG00000000460.16 -0.028678481                    ⋯ -0.035249020    0.03213168\n",
       "ENSG00000000938.12  0.413599973                    ⋯  0.344435114   -0.37680111\n",
       "ENSG00000000971.15  0.306434374                    ⋯  0.075144397   -0.22330161\n",
       "                   Pituitary   Skin - Not Sun Exposed (Suprapubic)\n",
       "ENSG00000000003.14 -0.20844639 -0.068721403                       \n",
       "ENSG00000000419.12 -0.05493662  0.003479065                       \n",
       "ENSG00000000457.13  0.05439554 -0.044553550                       \n",
       "ENSG00000000460.16  0.07909456  0.010959443                       \n",
       "ENSG00000000938.12  0.04905316  0.311078523                       \n",
       "ENSG00000000971.15  0.03107249  0.300366927                       \n",
       "                   Skin - Sun Exposed (Lower leg)\n",
       "ENSG00000000003.14  0.09323422                   \n",
       "ENSG00000000419.12  0.07420289                   \n",
       "ENSG00000000457.13 -0.09598508                   \n",
       "ENSG00000000460.16 -0.06915861                   \n",
       "ENSG00000000938.12  0.37250988                   \n",
       "ENSG00000000971.15  0.32556092                   \n",
       "                   Small Intestine - Terminal Ileum Spleen       Stomach     \n",
       "ENSG00000000003.14  0.16301173                      -0.016072268  0.071045424\n",
       "ENSG00000000419.12 -0.01129464                       0.009315197 -0.096737082\n",
       "ENSG00000000457.13  0.02152593                       0.041177680 -0.009562226\n",
       "ENSG00000000460.16  0.05783887                       0.099170937 -0.027087795\n",
       "ENSG00000000938.12 -0.01303658                      -0.146072512  0.054242144\n",
       "ENSG00000000971.15 -0.40784357                      -0.003512847  0.055919787\n",
       "                   Thyroid      Whole Blood \n",
       "ENSG00000000003.14 -0.124524045  0.109587317\n",
       "ENSG00000000419.12 -0.021242066  0.116820740\n",
       "ENSG00000000457.13  0.029252925  0.159291298\n",
       "ENSG00000000460.16  0.070267301  0.002878269\n",
       "ENSG00000000938.12  0.186963834  0.042745248\n",
       "ENSG00000000971.15  0.008558994 -0.216267208"
      ]
     },
     "metadata": {},
     "output_type": "display_data"
    }
   ],
   "source": [
    "head(logFC_mat_NQ)"
   ]
  },
  {
   "cell_type": "code",
   "execution_count": 47,
   "metadata": {},
   "outputs": [],
   "source": [
    "dist_mat <- as.matrix(cor(logFC_mat_NQ))"
   ]
  },
  {
   "cell_type": "code",
   "execution_count": 48,
   "metadata": {},
   "outputs": [
    {
     "data": {
      "text/html": [
       "<table>\n",
       "<caption>A matrix: 6 × 46 of type dbl</caption>\n",
       "<thead>\n",
       "\t<tr><th></th><th scope=col>Adipose - Subcutaneous</th><th scope=col>Adipose - Visceral (Omentum)</th><th scope=col>Adrenal Gland</th><th scope=col>Artery - Aorta</th><th scope=col>Artery - Coronary</th><th scope=col>Artery - Tibial</th><th scope=col>Bladder</th><th scope=col>Brain - Amygdala</th><th scope=col>Brain - Anterior cingulate cortex (BA24)</th><th scope=col>Brain - Caudate (basal ganglia)</th><th scope=col>⋯</th><th scope=col>Nerve - Tibial</th><th scope=col>Pancreas</th><th scope=col>Pituitary</th><th scope=col>Skin - Not Sun Exposed (Suprapubic)</th><th scope=col>Skin - Sun Exposed (Lower leg)</th><th scope=col>Small Intestine - Terminal Ileum</th><th scope=col>Spleen</th><th scope=col>Stomach</th><th scope=col>Thyroid</th><th scope=col>Whole Blood</th></tr>\n",
       "</thead>\n",
       "<tbody>\n",
       "\t<tr><th scope=row>Adipose - Subcutaneous</th><td>1.0000000</td><td>0.8365272</td><td>0.7440858</td><td>0.8033718</td><td>0.7970331</td><td>0.8053699</td><td>0.8231428</td><td>0.7739447</td><td>0.7843509</td><td>0.7867614</td><td>⋯</td><td>0.8650933</td><td>0.7583434</td><td>0.7764261</td><td>0.8086684</td><td>0.8132758</td><td>0.8384233</td><td>0.7820020</td><td>0.8116124</td><td>0.8479777</td><td>0.7859629</td></tr>\n",
       "\t<tr><th scope=row>Adipose - Visceral (Omentum)</th><td>0.8365272</td><td>1.0000000</td><td>0.7807381</td><td>0.7840836</td><td>0.8462510</td><td>0.8220345</td><td>0.8159421</td><td>0.7563617</td><td>0.7623832</td><td>0.7814339</td><td>⋯</td><td>0.8200249</td><td>0.7763044</td><td>0.7703798</td><td>0.8054233</td><td>0.8102348</td><td>0.8240124</td><td>0.7958134</td><td>0.7946560</td><td>0.8242039</td><td>0.7790460</td></tr>\n",
       "\t<tr><th scope=row>Adrenal Gland</th><td>0.7440858</td><td>0.7807381</td><td>1.0000000</td><td>0.8007187</td><td>0.8291998</td><td>0.7873730</td><td>0.7711136</td><td>0.7459315</td><td>0.7454137</td><td>0.7447619</td><td>⋯</td><td>0.7647180</td><td>0.8304141</td><td>0.7528460</td><td>0.7532003</td><td>0.7575763</td><td>0.7812392</td><td>0.8224205</td><td>0.7992741</td><td>0.7598380</td><td>0.7694753</td></tr>\n",
       "\t<tr><th scope=row>Artery - Aorta</th><td>0.8033718</td><td>0.7840836</td><td>0.8007187</td><td>1.0000000</td><td>0.8620546</td><td>0.8465083</td><td>0.7943843</td><td>0.7737738</td><td>0.7845717</td><td>0.7753456</td><td>⋯</td><td>0.8113718</td><td>0.7865932</td><td>0.7611948</td><td>0.7810575</td><td>0.7804755</td><td>0.7861684</td><td>0.7920763</td><td>0.8156777</td><td>0.8001367</td><td>0.7968146</td></tr>\n",
       "\t<tr><th scope=row>Artery - Coronary</th><td>0.7970331</td><td>0.8462510</td><td>0.8291998</td><td>0.8620546</td><td>1.0000000</td><td>0.8724207</td><td>0.7847650</td><td>0.7530278</td><td>0.7585706</td><td>0.7692536</td><td>⋯</td><td>0.7987615</td><td>0.8127769</td><td>0.7682309</td><td>0.8066411</td><td>0.8146596</td><td>0.8146890</td><td>0.8147805</td><td>0.8007671</td><td>0.7817212</td><td>0.8061614</td></tr>\n",
       "\t<tr><th scope=row>Artery - Tibial</th><td>0.8053699</td><td>0.8220345</td><td>0.7873730</td><td>0.8465083</td><td>0.8724207</td><td>1.0000000</td><td>0.7852306</td><td>0.7644496</td><td>0.7636510</td><td>0.7685798</td><td>⋯</td><td>0.8512421</td><td>0.8203590</td><td>0.7970638</td><td>0.8221117</td><td>0.8230303</td><td>0.8054339</td><td>0.7998696</td><td>0.8230236</td><td>0.8059742</td><td>0.7988171</td></tr>\n",
       "</tbody>\n",
       "</table>\n"
      ],
      "text/latex": [
       "A matrix: 6 × 46 of type dbl\n",
       "\\begin{tabular}{r|lllllllllllllllllllll}\n",
       "  & Adipose - Subcutaneous & Adipose - Visceral (Omentum) & Adrenal Gland & Artery - Aorta & Artery - Coronary & Artery - Tibial & Bladder & Brain - Amygdala & Brain - Anterior cingulate cortex (BA24) & Brain - Caudate (basal ganglia) & ⋯ & Nerve - Tibial & Pancreas & Pituitary & Skin - Not Sun Exposed (Suprapubic) & Skin - Sun Exposed (Lower leg) & Small Intestine - Terminal Ileum & Spleen & Stomach & Thyroid & Whole Blood\\\\\n",
       "\\hline\n",
       "\tAdipose - Subcutaneous & 1.0000000 & 0.8365272 & 0.7440858 & 0.8033718 & 0.7970331 & 0.8053699 & 0.8231428 & 0.7739447 & 0.7843509 & 0.7867614 & ⋯ & 0.8650933 & 0.7583434 & 0.7764261 & 0.8086684 & 0.8132758 & 0.8384233 & 0.7820020 & 0.8116124 & 0.8479777 & 0.7859629\\\\\n",
       "\tAdipose - Visceral (Omentum) & 0.8365272 & 1.0000000 & 0.7807381 & 0.7840836 & 0.8462510 & 0.8220345 & 0.8159421 & 0.7563617 & 0.7623832 & 0.7814339 & ⋯ & 0.8200249 & 0.7763044 & 0.7703798 & 0.8054233 & 0.8102348 & 0.8240124 & 0.7958134 & 0.7946560 & 0.8242039 & 0.7790460\\\\\n",
       "\tAdrenal Gland & 0.7440858 & 0.7807381 & 1.0000000 & 0.8007187 & 0.8291998 & 0.7873730 & 0.7711136 & 0.7459315 & 0.7454137 & 0.7447619 & ⋯ & 0.7647180 & 0.8304141 & 0.7528460 & 0.7532003 & 0.7575763 & 0.7812392 & 0.8224205 & 0.7992741 & 0.7598380 & 0.7694753\\\\\n",
       "\tArtery - Aorta & 0.8033718 & 0.7840836 & 0.8007187 & 1.0000000 & 0.8620546 & 0.8465083 & 0.7943843 & 0.7737738 & 0.7845717 & 0.7753456 & ⋯ & 0.8113718 & 0.7865932 & 0.7611948 & 0.7810575 & 0.7804755 & 0.7861684 & 0.7920763 & 0.8156777 & 0.8001367 & 0.7968146\\\\\n",
       "\tArtery - Coronary & 0.7970331 & 0.8462510 & 0.8291998 & 0.8620546 & 1.0000000 & 0.8724207 & 0.7847650 & 0.7530278 & 0.7585706 & 0.7692536 & ⋯ & 0.7987615 & 0.8127769 & 0.7682309 & 0.8066411 & 0.8146596 & 0.8146890 & 0.8147805 & 0.8007671 & 0.7817212 & 0.8061614\\\\\n",
       "\tArtery - Tibial & 0.8053699 & 0.8220345 & 0.7873730 & 0.8465083 & 0.8724207 & 1.0000000 & 0.7852306 & 0.7644496 & 0.7636510 & 0.7685798 & ⋯ & 0.8512421 & 0.8203590 & 0.7970638 & 0.8221117 & 0.8230303 & 0.8054339 & 0.7998696 & 0.8230236 & 0.8059742 & 0.7988171\\\\\n",
       "\\end{tabular}\n"
      ],
      "text/markdown": [
       "\n",
       "A matrix: 6 × 46 of type dbl\n",
       "\n",
       "| <!--/--> | Adipose - Subcutaneous | Adipose - Visceral (Omentum) | Adrenal Gland | Artery - Aorta | Artery - Coronary | Artery - Tibial | Bladder | Brain - Amygdala | Brain - Anterior cingulate cortex (BA24) | Brain - Caudate (basal ganglia) | ⋯ | Nerve - Tibial | Pancreas | Pituitary | Skin - Not Sun Exposed (Suprapubic) | Skin - Sun Exposed (Lower leg) | Small Intestine - Terminal Ileum | Spleen | Stomach | Thyroid | Whole Blood |\n",
       "|---|---|---|---|---|---|---|---|---|---|---|---|---|---|---|---|---|---|---|---|---|---|\n",
       "| Adipose - Subcutaneous | 1.0000000 | 0.8365272 | 0.7440858 | 0.8033718 | 0.7970331 | 0.8053699 | 0.8231428 | 0.7739447 | 0.7843509 | 0.7867614 | ⋯ | 0.8650933 | 0.7583434 | 0.7764261 | 0.8086684 | 0.8132758 | 0.8384233 | 0.7820020 | 0.8116124 | 0.8479777 | 0.7859629 |\n",
       "| Adipose - Visceral (Omentum) | 0.8365272 | 1.0000000 | 0.7807381 | 0.7840836 | 0.8462510 | 0.8220345 | 0.8159421 | 0.7563617 | 0.7623832 | 0.7814339 | ⋯ | 0.8200249 | 0.7763044 | 0.7703798 | 0.8054233 | 0.8102348 | 0.8240124 | 0.7958134 | 0.7946560 | 0.8242039 | 0.7790460 |\n",
       "| Adrenal Gland | 0.7440858 | 0.7807381 | 1.0000000 | 0.8007187 | 0.8291998 | 0.7873730 | 0.7711136 | 0.7459315 | 0.7454137 | 0.7447619 | ⋯ | 0.7647180 | 0.8304141 | 0.7528460 | 0.7532003 | 0.7575763 | 0.7812392 | 0.8224205 | 0.7992741 | 0.7598380 | 0.7694753 |\n",
       "| Artery - Aorta | 0.8033718 | 0.7840836 | 0.8007187 | 1.0000000 | 0.8620546 | 0.8465083 | 0.7943843 | 0.7737738 | 0.7845717 | 0.7753456 | ⋯ | 0.8113718 | 0.7865932 | 0.7611948 | 0.7810575 | 0.7804755 | 0.7861684 | 0.7920763 | 0.8156777 | 0.8001367 | 0.7968146 |\n",
       "| Artery - Coronary | 0.7970331 | 0.8462510 | 0.8291998 | 0.8620546 | 1.0000000 | 0.8724207 | 0.7847650 | 0.7530278 | 0.7585706 | 0.7692536 | ⋯ | 0.7987615 | 0.8127769 | 0.7682309 | 0.8066411 | 0.8146596 | 0.8146890 | 0.8147805 | 0.8007671 | 0.7817212 | 0.8061614 |\n",
       "| Artery - Tibial | 0.8053699 | 0.8220345 | 0.7873730 | 0.8465083 | 0.8724207 | 1.0000000 | 0.7852306 | 0.7644496 | 0.7636510 | 0.7685798 | ⋯ | 0.8512421 | 0.8203590 | 0.7970638 | 0.8221117 | 0.8230303 | 0.8054339 | 0.7998696 | 0.8230236 | 0.8059742 | 0.7988171 |\n",
       "\n"
      ],
      "text/plain": [
       "                             Adipose - Subcutaneous\n",
       "Adipose - Subcutaneous       1.0000000             \n",
       "Adipose - Visceral (Omentum) 0.8365272             \n",
       "Adrenal Gland                0.7440858             \n",
       "Artery - Aorta               0.8033718             \n",
       "Artery - Coronary            0.7970331             \n",
       "Artery - Tibial              0.8053699             \n",
       "                             Adipose - Visceral (Omentum) Adrenal Gland\n",
       "Adipose - Subcutaneous       0.8365272                    0.7440858    \n",
       "Adipose - Visceral (Omentum) 1.0000000                    0.7807381    \n",
       "Adrenal Gland                0.7807381                    1.0000000    \n",
       "Artery - Aorta               0.7840836                    0.8007187    \n",
       "Artery - Coronary            0.8462510                    0.8291998    \n",
       "Artery - Tibial              0.8220345                    0.7873730    \n",
       "                             Artery - Aorta Artery - Coronary Artery - Tibial\n",
       "Adipose - Subcutaneous       0.8033718      0.7970331         0.8053699      \n",
       "Adipose - Visceral (Omentum) 0.7840836      0.8462510         0.8220345      \n",
       "Adrenal Gland                0.8007187      0.8291998         0.7873730      \n",
       "Artery - Aorta               1.0000000      0.8620546         0.8465083      \n",
       "Artery - Coronary            0.8620546      1.0000000         0.8724207      \n",
       "Artery - Tibial              0.8465083      0.8724207         1.0000000      \n",
       "                             Bladder   Brain - Amygdala\n",
       "Adipose - Subcutaneous       0.8231428 0.7739447       \n",
       "Adipose - Visceral (Omentum) 0.8159421 0.7563617       \n",
       "Adrenal Gland                0.7711136 0.7459315       \n",
       "Artery - Aorta               0.7943843 0.7737738       \n",
       "Artery - Coronary            0.7847650 0.7530278       \n",
       "Artery - Tibial              0.7852306 0.7644496       \n",
       "                             Brain - Anterior cingulate cortex (BA24)\n",
       "Adipose - Subcutaneous       0.7843509                               \n",
       "Adipose - Visceral (Omentum) 0.7623832                               \n",
       "Adrenal Gland                0.7454137                               \n",
       "Artery - Aorta               0.7845717                               \n",
       "Artery - Coronary            0.7585706                               \n",
       "Artery - Tibial              0.7636510                               \n",
       "                             Brain - Caudate (basal ganglia) ⋯ Nerve - Tibial\n",
       "Adipose - Subcutaneous       0.7867614                       ⋯ 0.8650933     \n",
       "Adipose - Visceral (Omentum) 0.7814339                       ⋯ 0.8200249     \n",
       "Adrenal Gland                0.7447619                       ⋯ 0.7647180     \n",
       "Artery - Aorta               0.7753456                       ⋯ 0.8113718     \n",
       "Artery - Coronary            0.7692536                       ⋯ 0.7987615     \n",
       "Artery - Tibial              0.7685798                       ⋯ 0.8512421     \n",
       "                             Pancreas  Pituitary\n",
       "Adipose - Subcutaneous       0.7583434 0.7764261\n",
       "Adipose - Visceral (Omentum) 0.7763044 0.7703798\n",
       "Adrenal Gland                0.8304141 0.7528460\n",
       "Artery - Aorta               0.7865932 0.7611948\n",
       "Artery - Coronary            0.8127769 0.7682309\n",
       "Artery - Tibial              0.8203590 0.7970638\n",
       "                             Skin - Not Sun Exposed (Suprapubic)\n",
       "Adipose - Subcutaneous       0.8086684                          \n",
       "Adipose - Visceral (Omentum) 0.8054233                          \n",
       "Adrenal Gland                0.7532003                          \n",
       "Artery - Aorta               0.7810575                          \n",
       "Artery - Coronary            0.8066411                          \n",
       "Artery - Tibial              0.8221117                          \n",
       "                             Skin - Sun Exposed (Lower leg)\n",
       "Adipose - Subcutaneous       0.8132758                     \n",
       "Adipose - Visceral (Omentum) 0.8102348                     \n",
       "Adrenal Gland                0.7575763                     \n",
       "Artery - Aorta               0.7804755                     \n",
       "Artery - Coronary            0.8146596                     \n",
       "Artery - Tibial              0.8230303                     \n",
       "                             Small Intestine - Terminal Ileum Spleen   \n",
       "Adipose - Subcutaneous       0.8384233                        0.7820020\n",
       "Adipose - Visceral (Omentum) 0.8240124                        0.7958134\n",
       "Adrenal Gland                0.7812392                        0.8224205\n",
       "Artery - Aorta               0.7861684                        0.7920763\n",
       "Artery - Coronary            0.8146890                        0.8147805\n",
       "Artery - Tibial              0.8054339                        0.7998696\n",
       "                             Stomach   Thyroid   Whole Blood\n",
       "Adipose - Subcutaneous       0.8116124 0.8479777 0.7859629  \n",
       "Adipose - Visceral (Omentum) 0.7946560 0.8242039 0.7790460  \n",
       "Adrenal Gland                0.7992741 0.7598380 0.7694753  \n",
       "Artery - Aorta               0.8156777 0.8001367 0.7968146  \n",
       "Artery - Coronary            0.8007671 0.7817212 0.8061614  \n",
       "Artery - Tibial              0.8230236 0.8059742 0.7988171  "
      ]
     },
     "metadata": {},
     "output_type": "display_data"
    }
   ],
   "source": [
    "head(dist_mat)"
   ]
  },
  {
   "cell_type": "code",
   "execution_count": 58,
   "metadata": {},
   "outputs": [
    {
     "name": "stderr",
     "output_type": "stream",
     "text": [
      "Saving dist_mat object\n",
      "Done!\n"
     ]
    }
   ],
   "source": [
    "rownames(dist_mat) <- colnames(logFC_mat)\n",
    "colnames(dist_mat) <- colnames(logFC_mat)\n",
    "\n",
    "message(\"Saving dist_mat object\")\n",
    "saveRDS(object = dist_mat, file = \"../data/dist_mat.rds\")\n",
    "message(\"Done!\")"
   ]
  },
  {
   "cell_type": "code",
   "execution_count": 50,
   "metadata": {},
   "outputs": [
    {
     "data": {
      "image/png": "[encoded data removed]",
      "text/plain": [
       "plot without title"
      ]
     },
     "metadata": {},
     "output_type": "display_data"
    }
   ],
   "source": [
    "library(pheatmap)\n",
    "pheatmap(as.matrix(dist_mat),   fontsize = 6)\n",
    "hm.parameters <- list(dist_mat, fontsize = 6)\n",
    "do.call(\"pheatmap\", c(hm.parameters,  filename=\"../pdf/Figure1c.pdf\"))"
   ]
  },
  {
   "cell_type": "markdown",
   "metadata": {},
   "source": [
    "## Metadata\n",
    "\n",
    "For replicability and reproducibility purposes, we also print the following metadata:\n",
    "\n",
    "1. Checksums of **'artefacts'**, files generated during the analysis and stored in the folder directory **`data`**\n",
    "2. List of environment metadata, dependencies, versions of libraries using [`devtools::session_info()`](https://devtools.r-lib.org/reference/session_info.html)"
   ]
  },
  {
   "cell_type": "markdown",
   "metadata": {},
   "source": [
    "### 1. Checksums with the sha256 algorithm"
   ]
  },
  {
   "cell_type": "code",
   "execution_count": 132,
   "metadata": {},
   "outputs": [
    {
     "name": "stderr",
     "output_type": "stream",
     "text": [
      "Generating sha256 checksums of teh artefacts in the `..data/` directory .. \n"
     ]
    },
    {
     "data": {
      "text/html": [],
      "text/latex": [],
      "text/markdown": [],
      "text/plain": [
       "character(0)"
      ]
     },
     "metadata": {},
     "output_type": "display_data"
    },
    {
     "name": "stderr",
     "output_type": "stream",
     "text": [
      "Done!\n",
      "\n"
     ]
    }
   ],
   "source": [
    "message(\"Generating sha256 checksums of teh artefacts in the `..data/` directory .. \")\n",
    "system(\"cd ../data/ && sha256sum * > ../metadata/sha256sums.txt\", intern = TRUE)\n",
    "message(\"Done!\\n\")\n"
   ]
  },
  {
   "cell_type": "markdown",
   "metadata": {},
   "source": [
    "### 2. Libraries metadata"
   ]
  },
  {
   "cell_type": "code",
   "execution_count": 136,
   "metadata": {},
   "outputs": [
    {
     "name": "stderr",
     "output_type": "stream",
     "text": [
      "Saving `devtools::session_info()` objects in ../metadata/devtools_session_info.rds  ..\n",
      "Done!\n",
      "\n",
      "Saving `utils::sessionInfo()` objects in ../metadata/utils_session_info.rds  ..\n",
      "Done!\n",
      "\n"
     ]
    },
    {
     "data": {
      "text/plain": [
       " setting  value                       \n",
       " version  R version 3.6.1 (2019-07-05)\n",
       " os       Ubuntu 18.04.2 LTS          \n",
       " system   x86_64, linux-gnu           \n",
       " ui       X11                         \n",
       " language en_US.UTF-8                 \n",
       " collate  en_US.UTF-8                 \n",
       " ctype    en_US.UTF-8                 \n",
       " tz       Etc/UTC                     \n",
       " date     2020-02-21                  "
      ]
     },
     "metadata": {},
     "output_type": "display_data"
    },
    {
     "data": {
      "text/html": [
       "<table>\n",
       "<caption>A packages_info: 140 × 11</caption>\n",
       "<thead>\n",
       "\t<tr><th></th><th scope=col>package</th><th scope=col>ondiskversion</th><th scope=col>loadedversion</th><th scope=col>path</th><th scope=col>loadedpath</th><th scope=col>attached</th><th scope=col>is_base</th><th scope=col>date</th><th scope=col>source</th><th scope=col>md5ok</th><th scope=col>library</th></tr>\n",
       "\t<tr><th></th><th scope=col>&lt;chr&gt;</th><th scope=col>&lt;chr&gt;</th><th scope=col>&lt;chr&gt;</th><th scope=col>&lt;chr&gt;</th><th scope=col>&lt;chr&gt;</th><th scope=col>&lt;lgl&gt;</th><th scope=col>&lt;lgl&gt;</th><th scope=col>&lt;chr&gt;</th><th scope=col>&lt;chr&gt;</th><th scope=col>&lt;lgl&gt;</th><th scope=col>&lt;fct&gt;</th></tr>\n",
       "</thead>\n",
       "<tbody>\n",
       "\t<tr><th scope=row>annotate</th><td>annotate     </td><td>1.64.0  </td><td>1.64.0  </td><td>/opt/conda/lib/R/library/annotate     </td><td>/opt/conda/lib/R/library/annotate     </td><td>FALSE</td><td>FALSE</td><td>2019-10-29</td><td>Bioconductor  </td><td>NA</td><td>/opt/conda/lib/R/library</td></tr>\n",
       "\t<tr><th scope=row>AnnotationDbi</th><td>AnnotationDbi</td><td>1.48.0  </td><td>1.48.0  </td><td>/opt/conda/lib/R/library/AnnotationDbi</td><td>/opt/conda/lib/R/library/AnnotationDbi</td><td>FALSE</td><td>FALSE</td><td>2019-10-29</td><td>Bioconductor  </td><td>NA</td><td>/opt/conda/lib/R/library</td></tr>\n",
       "\t<tr><th scope=row>askpass</th><td>askpass      </td><td>1.1     </td><td>1.1     </td><td>/opt/conda/lib/R/library/askpass      </td><td>/opt/conda/lib/R/library/askpass      </td><td>FALSE</td><td>FALSE</td><td>2019-01-13</td><td>CRAN (R 3.6.1)</td><td>NA</td><td>/opt/conda/lib/R/library</td></tr>\n",
       "\t<tr><th scope=row>assertthat</th><td>assertthat   </td><td>0.2.1   </td><td>0.2.1   </td><td>/opt/conda/lib/R/library/assertthat   </td><td>/opt/conda/lib/R/library/assertthat   </td><td>FALSE</td><td>FALSE</td><td>2019-03-21</td><td>CRAN (R 3.6.1)</td><td>NA</td><td>/opt/conda/lib/R/library</td></tr>\n",
       "\t<tr><th scope=row>backports</th><td>backports    </td><td>1.1.5   </td><td>1.1.5   </td><td>/opt/conda/lib/R/library/backports    </td><td>/opt/conda/lib/R/library/backports    </td><td>FALSE</td><td>FALSE</td><td>2019-10-02</td><td>CRAN (R 3.6.1)</td><td>NA</td><td>/opt/conda/lib/R/library</td></tr>\n",
       "\t<tr><th scope=row>base64</th><td>base64       </td><td>2.0     </td><td>2.0     </td><td>/opt/conda/lib/R/library/base64       </td><td>/opt/conda/lib/R/library/base64       </td><td>FALSE</td><td>FALSE</td><td>2016-05-10</td><td>CRAN (R 3.6.1)</td><td>NA</td><td>/opt/conda/lib/R/library</td></tr>\n",
       "\t<tr><th scope=row>base64enc</th><td>base64enc    </td><td>0.1.3   </td><td>0.1-3   </td><td>/opt/conda/lib/R/library/base64enc    </td><td>/opt/conda/lib/R/library/base64enc    </td><td>FALSE</td><td>FALSE</td><td>2015-07-28</td><td>CRAN (R 3.6.1)</td><td>NA</td><td>/opt/conda/lib/R/library</td></tr>\n",
       "\t<tr><th scope=row>beanplot</th><td>beanplot     </td><td>1.2     </td><td>1.2     </td><td>/opt/conda/lib/R/library/beanplot     </td><td>/opt/conda/lib/R/library/beanplot     </td><td>FALSE</td><td>FALSE</td><td>2014-09-19</td><td>CRAN (R 3.6.1)</td><td>NA</td><td>/opt/conda/lib/R/library</td></tr>\n",
       "\t<tr><th scope=row>Biobase</th><td>Biobase      </td><td>2.46.0  </td><td>2.46.0  </td><td>/opt/conda/lib/R/library/Biobase      </td><td>/opt/conda/lib/R/library/Biobase      </td><td> TRUE</td><td>FALSE</td><td>2019-10-29</td><td>Bioconductor  </td><td>NA</td><td>/opt/conda/lib/R/library</td></tr>\n",
       "\t<tr><th scope=row>BiocFileCache</th><td>BiocFileCache</td><td>1.10.0  </td><td>1.10.0  </td><td>/opt/conda/lib/R/library/BiocFileCache</td><td>/opt/conda/lib/R/library/BiocFileCache</td><td>FALSE</td><td>FALSE</td><td>2019-10-29</td><td>Bioconductor  </td><td>NA</td><td>/opt/conda/lib/R/library</td></tr>\n",
       "\t<tr><th scope=row>BiocGenerics</th><td>BiocGenerics </td><td>0.32.0  </td><td>0.32.0  </td><td>/opt/conda/lib/R/library/BiocGenerics </td><td>/opt/conda/lib/R/library/BiocGenerics </td><td> TRUE</td><td>FALSE</td><td>2019-10-29</td><td>Bioconductor  </td><td>NA</td><td>/opt/conda/lib/R/library</td></tr>\n",
       "\t<tr><th scope=row>BiocParallel</th><td>BiocParallel </td><td>1.20.0  </td><td>1.20.0  </td><td>/opt/conda/lib/R/library/BiocParallel </td><td>/opt/conda/lib/R/library/BiocParallel </td><td>FALSE</td><td>FALSE</td><td>2019-10-30</td><td>Bioconductor  </td><td>NA</td><td>/opt/conda/lib/R/library</td></tr>\n",
       "\t<tr><th scope=row>biomaRt</th><td>biomaRt      </td><td>2.42.0  </td><td>2.42.0  </td><td>/opt/conda/lib/R/library/biomaRt      </td><td>/opt/conda/lib/R/library/biomaRt      </td><td> TRUE</td><td>FALSE</td><td>2019-10-29</td><td>Bioconductor  </td><td>NA</td><td>/opt/conda/lib/R/library</td></tr>\n",
       "\t<tr><th scope=row>Biostrings</th><td>Biostrings   </td><td>2.54.0  </td><td>2.54.0  </td><td>/opt/conda/lib/R/library/Biostrings   </td><td>/opt/conda/lib/R/library/Biostrings   </td><td>FALSE</td><td>FALSE</td><td>2019-10-29</td><td>Bioconductor  </td><td>NA</td><td>/opt/conda/lib/R/library</td></tr>\n",
       "\t<tr><th scope=row>bit</th><td>bit          </td><td>1.1.15.2</td><td>1.1-15.2</td><td>/opt/conda/lib/R/library/bit          </td><td>/opt/conda/lib/R/library/bit          </td><td>FALSE</td><td>FALSE</td><td>2020-02-10</td><td>CRAN (R 3.6.2)</td><td>NA</td><td>/opt/conda/lib/R/library</td></tr>\n",
       "\t<tr><th scope=row>bit64</th><td>bit64        </td><td>0.9.7   </td><td>0.9-7   </td><td>/opt/conda/lib/R/library/bit64        </td><td>/opt/conda/lib/R/library/bit64        </td><td>FALSE</td><td>FALSE</td><td>2017-05-08</td><td>CRAN (R 3.6.1)</td><td>NA</td><td>/opt/conda/lib/R/library</td></tr>\n",
       "\t<tr><th scope=row>bitops</th><td>bitops       </td><td>1.0.6   </td><td>1.0-6   </td><td>/opt/conda/lib/R/library/bitops       </td><td>/opt/conda/lib/R/library/bitops       </td><td>FALSE</td><td>FALSE</td><td>2013-08-17</td><td>CRAN (R 3.6.1)</td><td>NA</td><td>/opt/conda/lib/R/library</td></tr>\n",
       "\t<tr><th scope=row>blob</th><td>blob         </td><td>1.2.1   </td><td>1.2.1   </td><td>/opt/conda/lib/R/library/blob         </td><td>/opt/conda/lib/R/library/blob         </td><td>FALSE</td><td>FALSE</td><td>2020-01-20</td><td>CRAN (R 3.6.2)</td><td>NA</td><td>/opt/conda/lib/R/library</td></tr>\n",
       "\t<tr><th scope=row>bumphunter</th><td>bumphunter   </td><td>1.28.0  </td><td>1.28.0  </td><td>/opt/conda/lib/R/library/bumphunter   </td><td>/opt/conda/lib/R/library/bumphunter   </td><td>FALSE</td><td>FALSE</td><td>2019-10-29</td><td>Bioconductor  </td><td>NA</td><td>/opt/conda/lib/R/library</td></tr>\n",
       "\t<tr><th scope=row>callr</th><td>callr        </td><td>3.4.2   </td><td>3.4.2   </td><td>/opt/conda/lib/R/library/callr        </td><td>/opt/conda/lib/R/library/callr        </td><td>FALSE</td><td>FALSE</td><td>2020-02-12</td><td>CRAN (R 3.6.2)</td><td>NA</td><td>/opt/conda/lib/R/library</td></tr>\n",
       "\t<tr><th scope=row>caTools</th><td>caTools      </td><td>1.18.0  </td><td>1.18.0  </td><td>/opt/conda/lib/R/library/caTools      </td><td>/opt/conda/lib/R/library/caTools      </td><td>FALSE</td><td>FALSE</td><td>2020-01-17</td><td>CRAN (R 3.6.1)</td><td>NA</td><td>/opt/conda/lib/R/library</td></tr>\n",
       "\t<tr><th scope=row>cli</th><td>cli          </td><td>2.0.1   </td><td>2.0.1   </td><td>/opt/conda/lib/R/library/cli          </td><td>/opt/conda/lib/R/library/cli          </td><td>FALSE</td><td>FALSE</td><td>2020-01-08</td><td>CRAN (R 3.6.2)</td><td>NA</td><td>/opt/conda/lib/R/library</td></tr>\n",
       "\t<tr><th scope=row>codetools</th><td>codetools    </td><td>0.2.16  </td><td>0.2-16  </td><td>/opt/conda/lib/R/library/codetools    </td><td>/opt/conda/lib/R/library/codetools    </td><td>FALSE</td><td>FALSE</td><td>2018-12-24</td><td>CRAN (R 3.6.1)</td><td>NA</td><td>/opt/conda/lib/R/library</td></tr>\n",
       "\t<tr><th scope=row>colorspace</th><td>colorspace   </td><td>1.4.1   </td><td>1.4-1   </td><td>/opt/conda/lib/R/library/colorspace   </td><td>/opt/conda/lib/R/library/colorspace   </td><td>FALSE</td><td>FALSE</td><td>2019-03-18</td><td>CRAN (R 3.6.1)</td><td>NA</td><td>/opt/conda/lib/R/library</td></tr>\n",
       "\t<tr><th scope=row>crayon</th><td>crayon       </td><td>1.3.4   </td><td>1.3.4   </td><td>/opt/conda/lib/R/library/crayon       </td><td>/opt/conda/lib/R/library/crayon       </td><td>FALSE</td><td>FALSE</td><td>2017-09-16</td><td>CRAN (R 3.6.1)</td><td>NA</td><td>/opt/conda/lib/R/library</td></tr>\n",
       "\t<tr><th scope=row>curl</th><td>curl         </td><td>4.3     </td><td>4.3     </td><td>/opt/conda/lib/R/library/curl         </td><td>/opt/conda/lib/R/library/curl         </td><td>FALSE</td><td>FALSE</td><td>2019-12-02</td><td>CRAN (R 3.6.1)</td><td>NA</td><td>/opt/conda/lib/R/library</td></tr>\n",
       "\t<tr><th scope=row>data.table</th><td>data.table   </td><td>1.12.8  </td><td>1.12.8  </td><td>/opt/conda/lib/R/library/data.table   </td><td>/opt/conda/lib/R/library/data.table   </td><td>FALSE</td><td>FALSE</td><td>2019-12-09</td><td>CRAN (R 3.6.1)</td><td>NA</td><td>/opt/conda/lib/R/library</td></tr>\n",
       "\t<tr><th scope=row>DBI</th><td>DBI          </td><td>1.1.0   </td><td>1.1.0   </td><td>/opt/conda/lib/R/library/DBI          </td><td>/opt/conda/lib/R/library/DBI          </td><td> TRUE</td><td>FALSE</td><td>2019-12-15</td><td>CRAN (R 3.6.2)</td><td>NA</td><td>/opt/conda/lib/R/library</td></tr>\n",
       "\t<tr><th scope=row>dbplyr</th><td>dbplyr       </td><td>1.4.2   </td><td>1.4.2   </td><td>/opt/conda/lib/R/library/dbplyr       </td><td>/opt/conda/lib/R/library/dbplyr       </td><td>FALSE</td><td>FALSE</td><td>2019-06-17</td><td>CRAN (R 3.6.1)</td><td>NA</td><td>/opt/conda/lib/R/library</td></tr>\n",
       "\t<tr><th scope=row>DelayedArray</th><td>DelayedArray </td><td>0.12.0  </td><td>0.12.0  </td><td>/opt/conda/lib/R/library/DelayedArray </td><td>/opt/conda/lib/R/library/DelayedArray </td><td>FALSE</td><td>FALSE</td><td>2019-10-29</td><td>Bioconductor  </td><td>NA</td><td>/opt/conda/lib/R/library</td></tr>\n",
       "\t<tr><th scope=row>⋮</th><td>⋮</td><td>⋮</td><td>⋮</td><td>⋮</td><td>⋮</td><td>⋮</td><td>⋮</td><td>⋮</td><td>⋮</td><td>⋮</td><td>⋮</td></tr>\n",
       "\t<tr><th scope=row>rlang</th><td>rlang               </td><td>0.4.4    </td><td>0.4.4    </td><td>/opt/conda/lib/R/library/rlang               </td><td>/opt/conda/lib/R/library/rlang               </td><td>FALSE</td><td>FALSE</td><td>2020-01-28</td><td>CRAN (R 3.6.2)                            </td><td>NA</td><td>/opt/conda/lib/R/library</td></tr>\n",
       "\t<tr><th scope=row>rngtools</th><td>rngtools            </td><td>1.5      </td><td>1.5      </td><td>/opt/conda/lib/R/library/rngtools            </td><td>/opt/conda/lib/R/library/rngtools            </td><td>FALSE</td><td>FALSE</td><td>2020-01-23</td><td>CRAN (R 3.6.2)                            </td><td>NA</td><td>/opt/conda/lib/R/library</td></tr>\n",
       "\t<tr><th scope=row>rprojroot</th><td>rprojroot           </td><td>1.3.2    </td><td>1.3-2    </td><td>/opt/conda/lib/R/library/rprojroot           </td><td>/opt/conda/lib/R/library/rprojroot           </td><td>FALSE</td><td>FALSE</td><td>2018-01-03</td><td>CRAN (R 3.6.1)                            </td><td>NA</td><td>/opt/conda/lib/R/library</td></tr>\n",
       "\t<tr><th scope=row>Rsamtools</th><td>Rsamtools           </td><td>2.2.0    </td><td>2.2.0    </td><td>/opt/conda/lib/R/library/Rsamtools           </td><td>/opt/conda/lib/R/library/Rsamtools           </td><td>FALSE</td><td>FALSE</td><td>2019-10-29</td><td>Bioconductor                              </td><td>NA</td><td>/opt/conda/lib/R/library</td></tr>\n",
       "\t<tr><th scope=row>RSQLite</th><td>RSQLite             </td><td>2.1.2    </td><td>2.1.2    </td><td>/opt/conda/lib/R/library/RSQLite             </td><td>/opt/conda/lib/R/library/RSQLite             </td><td>FALSE</td><td>FALSE</td><td>2019-07-24</td><td>CRAN (R 3.6.1)                            </td><td>NA</td><td>/opt/conda/lib/R/library</td></tr>\n",
       "\t<tr><th scope=row>rtracklayer</th><td>rtracklayer         </td><td>1.46.0   </td><td>1.46.0   </td><td>/opt/conda/lib/R/library/rtracklayer         </td><td>/opt/conda/lib/R/library/rtracklayer         </td><td>FALSE</td><td>FALSE</td><td>2019-10-29</td><td>Bioconductor                              </td><td>NA</td><td>/opt/conda/lib/R/library</td></tr>\n",
       "\t<tr><th scope=row>S4Vectors</th><td>S4Vectors           </td><td>0.24.0   </td><td>0.24.0   </td><td>/opt/conda/lib/R/library/S4Vectors           </td><td>/opt/conda/lib/R/library/S4Vectors           </td><td>FALSE</td><td>FALSE</td><td>2019-10-29</td><td>Bioconductor                              </td><td>NA</td><td>/opt/conda/lib/R/library</td></tr>\n",
       "\t<tr><th scope=row>scales</th><td>scales              </td><td>1.1.0    </td><td>1.1.0    </td><td>/opt/conda/lib/R/library/scales              </td><td>/opt/conda/lib/R/library/scales              </td><td>FALSE</td><td>FALSE</td><td>2019-11-18</td><td>CRAN (R 3.6.1)                            </td><td>NA</td><td>/opt/conda/lib/R/library</td></tr>\n",
       "\t<tr><th scope=row>scrime</th><td>scrime              </td><td>1.3.5    </td><td>1.3.5    </td><td>/opt/conda/lib/R/library/scrime              </td><td>/opt/conda/lib/R/library/scrime              </td><td>FALSE</td><td>FALSE</td><td>2018-12-01</td><td>CRAN (R 3.6.1)                            </td><td>NA</td><td>/opt/conda/lib/R/library</td></tr>\n",
       "\t<tr><th scope=row>sessioninfo</th><td>sessioninfo         </td><td>1.1.1    </td><td>1.1.1    </td><td>/opt/conda/lib/R/library/sessioninfo         </td><td>/opt/conda/lib/R/library/sessioninfo         </td><td>FALSE</td><td>FALSE</td><td>2018-11-05</td><td>CRAN (R 3.6.1)                            </td><td>NA</td><td>/opt/conda/lib/R/library</td></tr>\n",
       "\t<tr><th scope=row>siggenes</th><td>siggenes            </td><td>1.58.0   </td><td>1.58.0   </td><td>/opt/conda/lib/R/library/siggenes            </td><td>/opt/conda/lib/R/library/siggenes            </td><td>FALSE</td><td>FALSE</td><td>2019-05-02</td><td>Bioconductor                              </td><td>NA</td><td>/opt/conda/lib/R/library</td></tr>\n",
       "\t<tr><th scope=row>snakecase</th><td>snakecase           </td><td>0.11.0   </td><td>0.11.0   </td><td>/opt/conda/lib/R/library/snakecase           </td><td>/opt/conda/lib/R/library/snakecase           </td><td> TRUE</td><td>FALSE</td><td>2019-05-25</td><td>CRAN (R 3.6.1)                            </td><td>NA</td><td>/opt/conda/lib/R/library</td></tr>\n",
       "\t<tr><th scope=row>statmod</th><td>statmod             </td><td>1.4.34   </td><td>1.4.34   </td><td>/opt/conda/lib/R/library/statmod             </td><td>/opt/conda/lib/R/library/statmod             </td><td> TRUE</td><td>FALSE</td><td>2020-02-17</td><td>CRAN (R 3.6.1)                            </td><td>NA</td><td>/opt/conda/lib/R/library</td></tr>\n",
       "\t<tr><th scope=row>stringi</th><td>stringi             </td><td>1.4.6    </td><td>1.4.6    </td><td>/opt/conda/lib/R/library/stringi             </td><td>/opt/conda/lib/R/library/stringi             </td><td>FALSE</td><td>FALSE</td><td>2020-02-17</td><td>CRAN (R 3.6.1)                            </td><td>NA</td><td>/opt/conda/lib/R/library</td></tr>\n",
       "\t<tr><th scope=row>stringr</th><td>stringr             </td><td>1.4.0    </td><td>1.4.0    </td><td>/opt/conda/lib/R/library/stringr             </td><td>/opt/conda/lib/R/library/stringr             </td><td> TRUE</td><td>FALSE</td><td>2019-02-10</td><td>CRAN (R 3.6.1)                            </td><td>NA</td><td>/opt/conda/lib/R/library</td></tr>\n",
       "\t<tr><th scope=row>SummarizedExperiment</th><td>SummarizedExperiment</td><td>1.16.0   </td><td>1.16.0   </td><td>/opt/conda/lib/R/library/SummarizedExperiment</td><td>/opt/conda/lib/R/library/SummarizedExperiment</td><td>FALSE</td><td>FALSE</td><td>2019-10-29</td><td>Bioconductor                              </td><td>NA</td><td>/opt/conda/lib/R/library</td></tr>\n",
       "\t<tr><th scope=row>survival</th><td>survival            </td><td>3.1.8    </td><td>3.1-8    </td><td>/opt/conda/lib/R/library/survival            </td><td>/opt/conda/lib/R/library/survival            </td><td>FALSE</td><td>FALSE</td><td>2019-12-03</td><td>CRAN (R 3.6.2)                            </td><td>NA</td><td>/opt/conda/lib/R/library</td></tr>\n",
       "\t<tr><th scope=row>tibble</th><td>tibble              </td><td>2.1.3    </td><td>2.1.3    </td><td>/opt/conda/lib/R/library/tibble              </td><td>/opt/conda/lib/R/library/tibble              </td><td>FALSE</td><td>FALSE</td><td>2019-06-06</td><td>CRAN (R 3.6.1)                            </td><td>NA</td><td>/opt/conda/lib/R/library</td></tr>\n",
       "\t<tr><th scope=row>tidyr</th><td>tidyr               </td><td>1.0.2    </td><td>1.0.2    </td><td>/opt/conda/lib/R/library/tidyr               </td><td>/opt/conda/lib/R/library/tidyr               </td><td>FALSE</td><td>FALSE</td><td>2020-01-24</td><td>CRAN (R 3.6.2)                            </td><td>NA</td><td>/opt/conda/lib/R/library</td></tr>\n",
       "\t<tr><th scope=row>tidyselect</th><td>tidyselect          </td><td>1.0.0    </td><td>1.0.0    </td><td>/opt/conda/lib/R/library/tidyselect          </td><td>/opt/conda/lib/R/library/tidyselect          </td><td>FALSE</td><td>FALSE</td><td>2020-01-27</td><td>CRAN (R 3.6.2)                            </td><td>NA</td><td>/opt/conda/lib/R/library</td></tr>\n",
       "\t<tr><th scope=row>usethis</th><td>usethis             </td><td>1.5.1    </td><td>1.5.1    </td><td>/opt/conda/lib/R/library/usethis             </td><td>/opt/conda/lib/R/library/usethis             </td><td> TRUE</td><td>FALSE</td><td>2019-07-04</td><td>CRAN (R 3.6.1)                            </td><td>NA</td><td>/opt/conda/lib/R/library</td></tr>\n",
       "\t<tr><th scope=row>uuid</th><td>uuid                </td><td>0.1.2    </td><td>0.1-2    </td><td>/opt/conda/lib/R/library/uuid                </td><td>/opt/conda/lib/R/library/uuid                </td><td>FALSE</td><td>FALSE</td><td>2015-07-28</td><td>CRAN (R 3.6.1)                            </td><td>NA</td><td>/opt/conda/lib/R/library</td></tr>\n",
       "\t<tr><th scope=row>vctrs</th><td>vctrs               </td><td>0.2.2    </td><td>0.2.2    </td><td>/opt/conda/lib/R/library/vctrs               </td><td>/opt/conda/lib/R/library/vctrs               </td><td>FALSE</td><td>FALSE</td><td>2020-01-24</td><td>CRAN (R 3.6.2)                            </td><td>NA</td><td>/opt/conda/lib/R/library</td></tr>\n",
       "\t<tr><th scope=row>withr</th><td>withr               </td><td>2.1.2    </td><td>2.1.2    </td><td>/opt/conda/lib/R/library/withr               </td><td>/opt/conda/lib/R/library/withr               </td><td>FALSE</td><td>FALSE</td><td>2018-03-15</td><td>CRAN (R 3.6.1)                            </td><td>NA</td><td>/opt/conda/lib/R/library</td></tr>\n",
       "\t<tr><th scope=row>XML</th><td>XML                 </td><td>3.98.1.20</td><td>3.98-1.20</td><td>/opt/conda/lib/R/library/XML                 </td><td>/opt/conda/lib/R/library/XML                 </td><td>FALSE</td><td>FALSE</td><td>2019-06-06</td><td>CRAN (R 3.6.1)                            </td><td>NA</td><td>/opt/conda/lib/R/library</td></tr>\n",
       "\t<tr><th scope=row>xml2</th><td>xml2                </td><td>1.2.2    </td><td>1.2.2    </td><td>/opt/conda/lib/R/library/xml2                </td><td>/opt/conda/lib/R/library/xml2                </td><td>FALSE</td><td>FALSE</td><td>2019-08-09</td><td>CRAN (R 3.6.1)                            </td><td>NA</td><td>/opt/conda/lib/R/library</td></tr>\n",
       "\t<tr><th scope=row>xtable</th><td>xtable              </td><td>1.8.4    </td><td>1.8-4    </td><td>/opt/conda/lib/R/library/xtable              </td><td>/opt/conda/lib/R/library/xtable              </td><td>FALSE</td><td>FALSE</td><td>2019-04-21</td><td>CRAN (R 3.6.1)                            </td><td>NA</td><td>/opt/conda/lib/R/library</td></tr>\n",
       "\t<tr><th scope=row>XVector</th><td>XVector             </td><td>0.26.0   </td><td>0.26.0   </td><td>/opt/conda/lib/R/library/XVector             </td><td>/opt/conda/lib/R/library/XVector             </td><td>FALSE</td><td>FALSE</td><td>2019-10-29</td><td>Bioconductor                              </td><td>NA</td><td>/opt/conda/lib/R/library</td></tr>\n",
       "\t<tr><th scope=row>yarn</th><td>yarn                </td><td>1.13.1   </td><td>1.13.1   </td><td>/opt/conda/lib/R/library/yarn                </td><td>/opt/conda/lib/R/library/yarn                </td><td> TRUE</td><td>FALSE</td><td>2020-02-20</td><td>Github (TheJacksonLaboratory/yarn@3ff72c0)</td><td>NA</td><td>/opt/conda/lib/R/library</td></tr>\n",
       "\t<tr><th scope=row>zlibbioc</th><td>zlibbioc            </td><td>1.32.0   </td><td>1.32.0   </td><td>/opt/conda/lib/R/library/zlibbioc            </td><td>/opt/conda/lib/R/library/zlibbioc            </td><td>FALSE</td><td>FALSE</td><td>2019-10-29</td><td>Bioconductor                              </td><td>NA</td><td>/opt/conda/lib/R/library</td></tr>\n",
       "</tbody>\n",
       "</table>\n"
      ],
      "text/latex": [
       "A packages\\_info: 140 × 11\n",
       "\\begin{tabular}{r|lllllllllll}\n",
       "  & package & ondiskversion & loadedversion & path & loadedpath & attached & is\\_base & date & source & md5ok & library\\\\\n",
       "  & <chr> & <chr> & <chr> & <chr> & <chr> & <lgl> & <lgl> & <chr> & <chr> & <lgl> & <fct>\\\\\n",
       "\\hline\n",
       "\tannotate & annotate      & 1.64.0   & 1.64.0   & /opt/conda/lib/R/library/annotate      & /opt/conda/lib/R/library/annotate      & FALSE & FALSE & 2019-10-29 & Bioconductor   & NA & /opt/conda/lib/R/library\\\\\n",
       "\tAnnotationDbi & AnnotationDbi & 1.48.0   & 1.48.0   & /opt/conda/lib/R/library/AnnotationDbi & /opt/conda/lib/R/library/AnnotationDbi & FALSE & FALSE & 2019-10-29 & Bioconductor   & NA & /opt/conda/lib/R/library\\\\\n",
       "\taskpass & askpass       & 1.1      & 1.1      & /opt/conda/lib/R/library/askpass       & /opt/conda/lib/R/library/askpass       & FALSE & FALSE & 2019-01-13 & CRAN (R 3.6.1) & NA & /opt/conda/lib/R/library\\\\\n",
       "\tassertthat & assertthat    & 0.2.1    & 0.2.1    & /opt/conda/lib/R/library/assertthat    & /opt/conda/lib/R/library/assertthat    & FALSE & FALSE & 2019-03-21 & CRAN (R 3.6.1) & NA & /opt/conda/lib/R/library\\\\\n",
       "\tbackports & backports     & 1.1.5    & 1.1.5    & /opt/conda/lib/R/library/backports     & /opt/conda/lib/R/library/backports     & FALSE & FALSE & 2019-10-02 & CRAN (R 3.6.1) & NA & /opt/conda/lib/R/library\\\\\n",
       "\tbase64 & base64        & 2.0      & 2.0      & /opt/conda/lib/R/library/base64        & /opt/conda/lib/R/library/base64        & FALSE & FALSE & 2016-05-10 & CRAN (R 3.6.1) & NA & /opt/conda/lib/R/library\\\\\n",
       "\tbase64enc & base64enc     & 0.1.3    & 0.1-3    & /opt/conda/lib/R/library/base64enc     & /opt/conda/lib/R/library/base64enc     & FALSE & FALSE & 2015-07-28 & CRAN (R 3.6.1) & NA & /opt/conda/lib/R/library\\\\\n",
       "\tbeanplot & beanplot      & 1.2      & 1.2      & /opt/conda/lib/R/library/beanplot      & /opt/conda/lib/R/library/beanplot      & FALSE & FALSE & 2014-09-19 & CRAN (R 3.6.1) & NA & /opt/conda/lib/R/library\\\\\n",
       "\tBiobase & Biobase       & 2.46.0   & 2.46.0   & /opt/conda/lib/R/library/Biobase       & /opt/conda/lib/R/library/Biobase       &  TRUE & FALSE & 2019-10-29 & Bioconductor   & NA & /opt/conda/lib/R/library\\\\\n",
       "\tBiocFileCache & BiocFileCache & 1.10.0   & 1.10.0   & /opt/conda/lib/R/library/BiocFileCache & /opt/conda/lib/R/library/BiocFileCache & FALSE & FALSE & 2019-10-29 & Bioconductor   & NA & /opt/conda/lib/R/library\\\\\n",
       "\tBiocGenerics & BiocGenerics  & 0.32.0   & 0.32.0   & /opt/conda/lib/R/library/BiocGenerics  & /opt/conda/lib/R/library/BiocGenerics  &  TRUE & FALSE & 2019-10-29 & Bioconductor   & NA & /opt/conda/lib/R/library\\\\\n",
       "\tBiocParallel & BiocParallel  & 1.20.0   & 1.20.0   & /opt/conda/lib/R/library/BiocParallel  & /opt/conda/lib/R/library/BiocParallel  & FALSE & FALSE & 2019-10-30 & Bioconductor   & NA & /opt/conda/lib/R/library\\\\\n",
       "\tbiomaRt & biomaRt       & 2.42.0   & 2.42.0   & /opt/conda/lib/R/library/biomaRt       & /opt/conda/lib/R/library/biomaRt       &  TRUE & FALSE & 2019-10-29 & Bioconductor   & NA & /opt/conda/lib/R/library\\\\\n",
       "\tBiostrings & Biostrings    & 2.54.0   & 2.54.0   & /opt/conda/lib/R/library/Biostrings    & /opt/conda/lib/R/library/Biostrings    & FALSE & FALSE & 2019-10-29 & Bioconductor   & NA & /opt/conda/lib/R/library\\\\\n",
       "\tbit & bit           & 1.1.15.2 & 1.1-15.2 & /opt/conda/lib/R/library/bit           & /opt/conda/lib/R/library/bit           & FALSE & FALSE & 2020-02-10 & CRAN (R 3.6.2) & NA & /opt/conda/lib/R/library\\\\\n",
       "\tbit64 & bit64         & 0.9.7    & 0.9-7    & /opt/conda/lib/R/library/bit64         & /opt/conda/lib/R/library/bit64         & FALSE & FALSE & 2017-05-08 & CRAN (R 3.6.1) & NA & /opt/conda/lib/R/library\\\\\n",
       "\tbitops & bitops        & 1.0.6    & 1.0-6    & /opt/conda/lib/R/library/bitops        & /opt/conda/lib/R/library/bitops        & FALSE & FALSE & 2013-08-17 & CRAN (R 3.6.1) & NA & /opt/conda/lib/R/library\\\\\n",
       "\tblob & blob          & 1.2.1    & 1.2.1    & /opt/conda/lib/R/library/blob          & /opt/conda/lib/R/library/blob          & FALSE & FALSE & 2020-01-20 & CRAN (R 3.6.2) & NA & /opt/conda/lib/R/library\\\\\n",
       "\tbumphunter & bumphunter    & 1.28.0   & 1.28.0   & /opt/conda/lib/R/library/bumphunter    & /opt/conda/lib/R/library/bumphunter    & FALSE & FALSE & 2019-10-29 & Bioconductor   & NA & /opt/conda/lib/R/library\\\\\n",
       "\tcallr & callr         & 3.4.2    & 3.4.2    & /opt/conda/lib/R/library/callr         & /opt/conda/lib/R/library/callr         & FALSE & FALSE & 2020-02-12 & CRAN (R 3.6.2) & NA & /opt/conda/lib/R/library\\\\\n",
       "\tcaTools & caTools       & 1.18.0   & 1.18.0   & /opt/conda/lib/R/library/caTools       & /opt/conda/lib/R/library/caTools       & FALSE & FALSE & 2020-01-17 & CRAN (R 3.6.1) & NA & /opt/conda/lib/R/library\\\\\n",
       "\tcli & cli           & 2.0.1    & 2.0.1    & /opt/conda/lib/R/library/cli           & /opt/conda/lib/R/library/cli           & FALSE & FALSE & 2020-01-08 & CRAN (R 3.6.2) & NA & /opt/conda/lib/R/library\\\\\n",
       "\tcodetools & codetools     & 0.2.16   & 0.2-16   & /opt/conda/lib/R/library/codetools     & /opt/conda/lib/R/library/codetools     & FALSE & FALSE & 2018-12-24 & CRAN (R 3.6.1) & NA & /opt/conda/lib/R/library\\\\\n",
       "\tcolorspace & colorspace    & 1.4.1    & 1.4-1    & /opt/conda/lib/R/library/colorspace    & /opt/conda/lib/R/library/colorspace    & FALSE & FALSE & 2019-03-18 & CRAN (R 3.6.1) & NA & /opt/conda/lib/R/library\\\\\n",
       "\tcrayon & crayon        & 1.3.4    & 1.3.4    & /opt/conda/lib/R/library/crayon        & /opt/conda/lib/R/library/crayon        & FALSE & FALSE & 2017-09-16 & CRAN (R 3.6.1) & NA & /opt/conda/lib/R/library\\\\\n",
       "\tcurl & curl          & 4.3      & 4.3      & /opt/conda/lib/R/library/curl          & /opt/conda/lib/R/library/curl          & FALSE & FALSE & 2019-12-02 & CRAN (R 3.6.1) & NA & /opt/conda/lib/R/library\\\\\n",
       "\tdata.table & data.table    & 1.12.8   & 1.12.8   & /opt/conda/lib/R/library/data.table    & /opt/conda/lib/R/library/data.table    & FALSE & FALSE & 2019-12-09 & CRAN (R 3.6.1) & NA & /opt/conda/lib/R/library\\\\\n",
       "\tDBI & DBI           & 1.1.0    & 1.1.0    & /opt/conda/lib/R/library/DBI           & /opt/conda/lib/R/library/DBI           &  TRUE & FALSE & 2019-12-15 & CRAN (R 3.6.2) & NA & /opt/conda/lib/R/library\\\\\n",
       "\tdbplyr & dbplyr        & 1.4.2    & 1.4.2    & /opt/conda/lib/R/library/dbplyr        & /opt/conda/lib/R/library/dbplyr        & FALSE & FALSE & 2019-06-17 & CRAN (R 3.6.1) & NA & /opt/conda/lib/R/library\\\\\n",
       "\tDelayedArray & DelayedArray  & 0.12.0   & 0.12.0   & /opt/conda/lib/R/library/DelayedArray  & /opt/conda/lib/R/library/DelayedArray  & FALSE & FALSE & 2019-10-29 & Bioconductor   & NA & /opt/conda/lib/R/library\\\\\n",
       "\t⋮ & ⋮ & ⋮ & ⋮ & ⋮ & ⋮ & ⋮ & ⋮ & ⋮ & ⋮ & ⋮ & ⋮\\\\\n",
       "\trlang & rlang                & 0.4.4     & 0.4.4     & /opt/conda/lib/R/library/rlang                & /opt/conda/lib/R/library/rlang                & FALSE & FALSE & 2020-01-28 & CRAN (R 3.6.2)                             & NA & /opt/conda/lib/R/library\\\\\n",
       "\trngtools & rngtools             & 1.5       & 1.5       & /opt/conda/lib/R/library/rngtools             & /opt/conda/lib/R/library/rngtools             & FALSE & FALSE & 2020-01-23 & CRAN (R 3.6.2)                             & NA & /opt/conda/lib/R/library\\\\\n",
       "\trprojroot & rprojroot            & 1.3.2     & 1.3-2     & /opt/conda/lib/R/library/rprojroot            & /opt/conda/lib/R/library/rprojroot            & FALSE & FALSE & 2018-01-03 & CRAN (R 3.6.1)                             & NA & /opt/conda/lib/R/library\\\\\n",
       "\tRsamtools & Rsamtools            & 2.2.0     & 2.2.0     & /opt/conda/lib/R/library/Rsamtools            & /opt/conda/lib/R/library/Rsamtools            & FALSE & FALSE & 2019-10-29 & Bioconductor                               & NA & /opt/conda/lib/R/library\\\\\n",
       "\tRSQLite & RSQLite              & 2.1.2     & 2.1.2     & /opt/conda/lib/R/library/RSQLite              & /opt/conda/lib/R/library/RSQLite              & FALSE & FALSE & 2019-07-24 & CRAN (R 3.6.1)                             & NA & /opt/conda/lib/R/library\\\\\n",
       "\trtracklayer & rtracklayer          & 1.46.0    & 1.46.0    & /opt/conda/lib/R/library/rtracklayer          & /opt/conda/lib/R/library/rtracklayer          & FALSE & FALSE & 2019-10-29 & Bioconductor                               & NA & /opt/conda/lib/R/library\\\\\n",
       "\tS4Vectors & S4Vectors            & 0.24.0    & 0.24.0    & /opt/conda/lib/R/library/S4Vectors            & /opt/conda/lib/R/library/S4Vectors            & FALSE & FALSE & 2019-10-29 & Bioconductor                               & NA & /opt/conda/lib/R/library\\\\\n",
       "\tscales & scales               & 1.1.0     & 1.1.0     & /opt/conda/lib/R/library/scales               & /opt/conda/lib/R/library/scales               & FALSE & FALSE & 2019-11-18 & CRAN (R 3.6.1)                             & NA & /opt/conda/lib/R/library\\\\\n",
       "\tscrime & scrime               & 1.3.5     & 1.3.5     & /opt/conda/lib/R/library/scrime               & /opt/conda/lib/R/library/scrime               & FALSE & FALSE & 2018-12-01 & CRAN (R 3.6.1)                             & NA & /opt/conda/lib/R/library\\\\\n",
       "\tsessioninfo & sessioninfo          & 1.1.1     & 1.1.1     & /opt/conda/lib/R/library/sessioninfo          & /opt/conda/lib/R/library/sessioninfo          & FALSE & FALSE & 2018-11-05 & CRAN (R 3.6.1)                             & NA & /opt/conda/lib/R/library\\\\\n",
       "\tsiggenes & siggenes             & 1.58.0    & 1.58.0    & /opt/conda/lib/R/library/siggenes             & /opt/conda/lib/R/library/siggenes             & FALSE & FALSE & 2019-05-02 & Bioconductor                               & NA & /opt/conda/lib/R/library\\\\\n",
       "\tsnakecase & snakecase            & 0.11.0    & 0.11.0    & /opt/conda/lib/R/library/snakecase            & /opt/conda/lib/R/library/snakecase            &  TRUE & FALSE & 2019-05-25 & CRAN (R 3.6.1)                             & NA & /opt/conda/lib/R/library\\\\\n",
       "\tstatmod & statmod              & 1.4.34    & 1.4.34    & /opt/conda/lib/R/library/statmod              & /opt/conda/lib/R/library/statmod              &  TRUE & FALSE & 2020-02-17 & CRAN (R 3.6.1)                             & NA & /opt/conda/lib/R/library\\\\\n",
       "\tstringi & stringi              & 1.4.6     & 1.4.6     & /opt/conda/lib/R/library/stringi              & /opt/conda/lib/R/library/stringi              & FALSE & FALSE & 2020-02-17 & CRAN (R 3.6.1)                             & NA & /opt/conda/lib/R/library\\\\\n",
       "\tstringr & stringr              & 1.4.0     & 1.4.0     & /opt/conda/lib/R/library/stringr              & /opt/conda/lib/R/library/stringr              &  TRUE & FALSE & 2019-02-10 & CRAN (R 3.6.1)                             & NA & /opt/conda/lib/R/library\\\\\n",
       "\tSummarizedExperiment & SummarizedExperiment & 1.16.0    & 1.16.0    & /opt/conda/lib/R/library/SummarizedExperiment & /opt/conda/lib/R/library/SummarizedExperiment & FALSE & FALSE & 2019-10-29 & Bioconductor                               & NA & /opt/conda/lib/R/library\\\\\n",
       "\tsurvival & survival             & 3.1.8     & 3.1-8     & /opt/conda/lib/R/library/survival             & /opt/conda/lib/R/library/survival             & FALSE & FALSE & 2019-12-03 & CRAN (R 3.6.2)                             & NA & /opt/conda/lib/R/library\\\\\n",
       "\ttibble & tibble               & 2.1.3     & 2.1.3     & /opt/conda/lib/R/library/tibble               & /opt/conda/lib/R/library/tibble               & FALSE & FALSE & 2019-06-06 & CRAN (R 3.6.1)                             & NA & /opt/conda/lib/R/library\\\\\n",
       "\ttidyr & tidyr                & 1.0.2     & 1.0.2     & /opt/conda/lib/R/library/tidyr                & /opt/conda/lib/R/library/tidyr                & FALSE & FALSE & 2020-01-24 & CRAN (R 3.6.2)                             & NA & /opt/conda/lib/R/library\\\\\n",
       "\ttidyselect & tidyselect           & 1.0.0     & 1.0.0     & /opt/conda/lib/R/library/tidyselect           & /opt/conda/lib/R/library/tidyselect           & FALSE & FALSE & 2020-01-27 & CRAN (R 3.6.2)                             & NA & /opt/conda/lib/R/library\\\\\n",
       "\tusethis & usethis              & 1.5.1     & 1.5.1     & /opt/conda/lib/R/library/usethis              & /opt/conda/lib/R/library/usethis              &  TRUE & FALSE & 2019-07-04 & CRAN (R 3.6.1)                             & NA & /opt/conda/lib/R/library\\\\\n",
       "\tuuid & uuid                 & 0.1.2     & 0.1-2     & /opt/conda/lib/R/library/uuid                 & /opt/conda/lib/R/library/uuid                 & FALSE & FALSE & 2015-07-28 & CRAN (R 3.6.1)                             & NA & /opt/conda/lib/R/library\\\\\n",
       "\tvctrs & vctrs                & 0.2.2     & 0.2.2     & /opt/conda/lib/R/library/vctrs                & /opt/conda/lib/R/library/vctrs                & FALSE & FALSE & 2020-01-24 & CRAN (R 3.6.2)                             & NA & /opt/conda/lib/R/library\\\\\n",
       "\twithr & withr                & 2.1.2     & 2.1.2     & /opt/conda/lib/R/library/withr                & /opt/conda/lib/R/library/withr                & FALSE & FALSE & 2018-03-15 & CRAN (R 3.6.1)                             & NA & /opt/conda/lib/R/library\\\\\n",
       "\tXML & XML                  & 3.98.1.20 & 3.98-1.20 & /opt/conda/lib/R/library/XML                  & /opt/conda/lib/R/library/XML                  & FALSE & FALSE & 2019-06-06 & CRAN (R 3.6.1)                             & NA & /opt/conda/lib/R/library\\\\\n",
       "\txml2 & xml2                 & 1.2.2     & 1.2.2     & /opt/conda/lib/R/library/xml2                 & /opt/conda/lib/R/library/xml2                 & FALSE & FALSE & 2019-08-09 & CRAN (R 3.6.1)                             & NA & /opt/conda/lib/R/library\\\\\n",
       "\txtable & xtable               & 1.8.4     & 1.8-4     & /opt/conda/lib/R/library/xtable               & /opt/conda/lib/R/library/xtable               & FALSE & FALSE & 2019-04-21 & CRAN (R 3.6.1)                             & NA & /opt/conda/lib/R/library\\\\\n",
       "\tXVector & XVector              & 0.26.0    & 0.26.0    & /opt/conda/lib/R/library/XVector              & /opt/conda/lib/R/library/XVector              & FALSE & FALSE & 2019-10-29 & Bioconductor                               & NA & /opt/conda/lib/R/library\\\\\n",
       "\tyarn & yarn                 & 1.13.1    & 1.13.1    & /opt/conda/lib/R/library/yarn                 & /opt/conda/lib/R/library/yarn                 &  TRUE & FALSE & 2020-02-20 & Github (TheJacksonLaboratory/yarn@3ff72c0) & NA & /opt/conda/lib/R/library\\\\\n",
       "\tzlibbioc & zlibbioc             & 1.32.0    & 1.32.0    & /opt/conda/lib/R/library/zlibbioc             & /opt/conda/lib/R/library/zlibbioc             & FALSE & FALSE & 2019-10-29 & Bioconductor                               & NA & /opt/conda/lib/R/library\\\\\n",
       "\\end{tabular}\n"
      ],
      "text/markdown": [
       "\n",
       "A packages_info: 140 × 11\n",
       "\n",
       "| <!--/--> | package &lt;chr&gt; | ondiskversion &lt;chr&gt; | loadedversion &lt;chr&gt; | path &lt;chr&gt; | loadedpath &lt;chr&gt; | attached &lt;lgl&gt; | is_base &lt;lgl&gt; | date &lt;chr&gt; | source &lt;chr&gt; | md5ok &lt;lgl&gt; | library &lt;fct&gt; |\n",
       "|---|---|---|---|---|---|---|---|---|---|---|---|\n",
       "| annotate | annotate      | 1.64.0   | 1.64.0   | /opt/conda/lib/R/library/annotate      | /opt/conda/lib/R/library/annotate      | FALSE | FALSE | 2019-10-29 | Bioconductor   | NA | /opt/conda/lib/R/library |\n",
       "| AnnotationDbi | AnnotationDbi | 1.48.0   | 1.48.0   | /opt/conda/lib/R/library/AnnotationDbi | /opt/conda/lib/R/library/AnnotationDbi | FALSE | FALSE | 2019-10-29 | Bioconductor   | NA | /opt/conda/lib/R/library |\n",
       "| askpass | askpass       | 1.1      | 1.1      | /opt/conda/lib/R/library/askpass       | /opt/conda/lib/R/library/askpass       | FALSE | FALSE | 2019-01-13 | CRAN (R 3.6.1) | NA | /opt/conda/lib/R/library |\n",
       "| assertthat | assertthat    | 0.2.1    | 0.2.1    | /opt/conda/lib/R/library/assertthat    | /opt/conda/lib/R/library/assertthat    | FALSE | FALSE | 2019-03-21 | CRAN (R 3.6.1) | NA | /opt/conda/lib/R/library |\n",
       "| backports | backports     | 1.1.5    | 1.1.5    | /opt/conda/lib/R/library/backports     | /opt/conda/lib/R/library/backports     | FALSE | FALSE | 2019-10-02 | CRAN (R 3.6.1) | NA | /opt/conda/lib/R/library |\n",
       "| base64 | base64        | 2.0      | 2.0      | /opt/conda/lib/R/library/base64        | /opt/conda/lib/R/library/base64        | FALSE | FALSE | 2016-05-10 | CRAN (R 3.6.1) | NA | /opt/conda/lib/R/library |\n",
       "| base64enc | base64enc     | 0.1.3    | 0.1-3    | /opt/conda/lib/R/library/base64enc     | /opt/conda/lib/R/library/base64enc     | FALSE | FALSE | 2015-07-28 | CRAN (R 3.6.1) | NA | /opt/conda/lib/R/library |\n",
       "| beanplot | beanplot      | 1.2      | 1.2      | /opt/conda/lib/R/library/beanplot      | /opt/conda/lib/R/library/beanplot      | FALSE | FALSE | 2014-09-19 | CRAN (R 3.6.1) | NA | /opt/conda/lib/R/library |\n",
       "| Biobase | Biobase       | 2.46.0   | 2.46.0   | /opt/conda/lib/R/library/Biobase       | /opt/conda/lib/R/library/Biobase       |  TRUE | FALSE | 2019-10-29 | Bioconductor   | NA | /opt/conda/lib/R/library |\n",
       "| BiocFileCache | BiocFileCache | 1.10.0   | 1.10.0   | /opt/conda/lib/R/library/BiocFileCache | /opt/conda/lib/R/library/BiocFileCache | FALSE | FALSE | 2019-10-29 | Bioconductor   | NA | /opt/conda/lib/R/library |\n",
       "| BiocGenerics | BiocGenerics  | 0.32.0   | 0.32.0   | /opt/conda/lib/R/library/BiocGenerics  | /opt/conda/lib/R/library/BiocGenerics  |  TRUE | FALSE | 2019-10-29 | Bioconductor   | NA | /opt/conda/lib/R/library |\n",
       "| BiocParallel | BiocParallel  | 1.20.0   | 1.20.0   | /opt/conda/lib/R/library/BiocParallel  | /opt/conda/lib/R/library/BiocParallel  | FALSE | FALSE | 2019-10-30 | Bioconductor   | NA | /opt/conda/lib/R/library |\n",
       "| biomaRt | biomaRt       | 2.42.0   | 2.42.0   | /opt/conda/lib/R/library/biomaRt       | /opt/conda/lib/R/library/biomaRt       |  TRUE | FALSE | 2019-10-29 | Bioconductor   | NA | /opt/conda/lib/R/library |\n",
       "| Biostrings | Biostrings    | 2.54.0   | 2.54.0   | /opt/conda/lib/R/library/Biostrings    | /opt/conda/lib/R/library/Biostrings    | FALSE | FALSE | 2019-10-29 | Bioconductor   | NA | /opt/conda/lib/R/library |\n",
       "| bit | bit           | 1.1.15.2 | 1.1-15.2 | /opt/conda/lib/R/library/bit           | /opt/conda/lib/R/library/bit           | FALSE | FALSE | 2020-02-10 | CRAN (R 3.6.2) | NA | /opt/conda/lib/R/library |\n",
       "| bit64 | bit64         | 0.9.7    | 0.9-7    | /opt/conda/lib/R/library/bit64         | /opt/conda/lib/R/library/bit64         | FALSE | FALSE | 2017-05-08 | CRAN (R 3.6.1) | NA | /opt/conda/lib/R/library |\n",
       "| bitops | bitops        | 1.0.6    | 1.0-6    | /opt/conda/lib/R/library/bitops        | /opt/conda/lib/R/library/bitops        | FALSE | FALSE | 2013-08-17 | CRAN (R 3.6.1) | NA | /opt/conda/lib/R/library |\n",
       "| blob | blob          | 1.2.1    | 1.2.1    | /opt/conda/lib/R/library/blob          | /opt/conda/lib/R/library/blob          | FALSE | FALSE | 2020-01-20 | CRAN (R 3.6.2) | NA | /opt/conda/lib/R/library |\n",
       "| bumphunter | bumphunter    | 1.28.0   | 1.28.0   | /opt/conda/lib/R/library/bumphunter    | /opt/conda/lib/R/library/bumphunter    | FALSE | FALSE | 2019-10-29 | Bioconductor   | NA | /opt/conda/lib/R/library |\n",
       "| callr | callr         | 3.4.2    | 3.4.2    | /opt/conda/lib/R/library/callr         | /opt/conda/lib/R/library/callr         | FALSE | FALSE | 2020-02-12 | CRAN (R 3.6.2) | NA | /opt/conda/lib/R/library |\n",
       "| caTools | caTools       | 1.18.0   | 1.18.0   | /opt/conda/lib/R/library/caTools       | /opt/conda/lib/R/library/caTools       | FALSE | FALSE | 2020-01-17 | CRAN (R 3.6.1) | NA | /opt/conda/lib/R/library |\n",
       "| cli | cli           | 2.0.1    | 2.0.1    | /opt/conda/lib/R/library/cli           | /opt/conda/lib/R/library/cli           | FALSE | FALSE | 2020-01-08 | CRAN (R 3.6.2) | NA | /opt/conda/lib/R/library |\n",
       "| codetools | codetools     | 0.2.16   | 0.2-16   | /opt/conda/lib/R/library/codetools     | /opt/conda/lib/R/library/codetools     | FALSE | FALSE | 2018-12-24 | CRAN (R 3.6.1) | NA | /opt/conda/lib/R/library |\n",
       "| colorspace | colorspace    | 1.4.1    | 1.4-1    | /opt/conda/lib/R/library/colorspace    | /opt/conda/lib/R/library/colorspace    | FALSE | FALSE | 2019-03-18 | CRAN (R 3.6.1) | NA | /opt/conda/lib/R/library |\n",
       "| crayon | crayon        | 1.3.4    | 1.3.4    | /opt/conda/lib/R/library/crayon        | /opt/conda/lib/R/library/crayon        | FALSE | FALSE | 2017-09-16 | CRAN (R 3.6.1) | NA | /opt/conda/lib/R/library |\n",
       "| curl | curl          | 4.3      | 4.3      | /opt/conda/lib/R/library/curl          | /opt/conda/lib/R/library/curl          | FALSE | FALSE | 2019-12-02 | CRAN (R 3.6.1) | NA | /opt/conda/lib/R/library |\n",
       "| data.table | data.table    | 1.12.8   | 1.12.8   | /opt/conda/lib/R/library/data.table    | /opt/conda/lib/R/library/data.table    | FALSE | FALSE | 2019-12-09 | CRAN (R 3.6.1) | NA | /opt/conda/lib/R/library |\n",
       "| DBI | DBI           | 1.1.0    | 1.1.0    | /opt/conda/lib/R/library/DBI           | /opt/conda/lib/R/library/DBI           |  TRUE | FALSE | 2019-12-15 | CRAN (R 3.6.2) | NA | /opt/conda/lib/R/library |\n",
       "| dbplyr | dbplyr        | 1.4.2    | 1.4.2    | /opt/conda/lib/R/library/dbplyr        | /opt/conda/lib/R/library/dbplyr        | FALSE | FALSE | 2019-06-17 | CRAN (R 3.6.1) | NA | /opt/conda/lib/R/library |\n",
       "| DelayedArray | DelayedArray  | 0.12.0   | 0.12.0   | /opt/conda/lib/R/library/DelayedArray  | /opt/conda/lib/R/library/DelayedArray  | FALSE | FALSE | 2019-10-29 | Bioconductor   | NA | /opt/conda/lib/R/library |\n",
       "| ⋮ | ⋮ | ⋮ | ⋮ | ⋮ | ⋮ | ⋮ | ⋮ | ⋮ | ⋮ | ⋮ | ⋮ |\n",
       "| rlang | rlang                | 0.4.4     | 0.4.4     | /opt/conda/lib/R/library/rlang                | /opt/conda/lib/R/library/rlang                | FALSE | FALSE | 2020-01-28 | CRAN (R 3.6.2)                             | NA | /opt/conda/lib/R/library |\n",
       "| rngtools | rngtools             | 1.5       | 1.5       | /opt/conda/lib/R/library/rngtools             | /opt/conda/lib/R/library/rngtools             | FALSE | FALSE | 2020-01-23 | CRAN (R 3.6.2)                             | NA | /opt/conda/lib/R/library |\n",
       "| rprojroot | rprojroot            | 1.3.2     | 1.3-2     | /opt/conda/lib/R/library/rprojroot            | /opt/conda/lib/R/library/rprojroot            | FALSE | FALSE | 2018-01-03 | CRAN (R 3.6.1)                             | NA | /opt/conda/lib/R/library |\n",
       "| Rsamtools | Rsamtools            | 2.2.0     | 2.2.0     | /opt/conda/lib/R/library/Rsamtools            | /opt/conda/lib/R/library/Rsamtools            | FALSE | FALSE | 2019-10-29 | Bioconductor                               | NA | /opt/conda/lib/R/library |\n",
       "| RSQLite | RSQLite              | 2.1.2     | 2.1.2     | /opt/conda/lib/R/library/RSQLite              | /opt/conda/lib/R/library/RSQLite              | FALSE | FALSE | 2019-07-24 | CRAN (R 3.6.1)                             | NA | /opt/conda/lib/R/library |\n",
       "| rtracklayer | rtracklayer          | 1.46.0    | 1.46.0    | /opt/conda/lib/R/library/rtracklayer          | /opt/conda/lib/R/library/rtracklayer          | FALSE | FALSE | 2019-10-29 | Bioconductor                               | NA | /opt/conda/lib/R/library |\n",
       "| S4Vectors | S4Vectors            | 0.24.0    | 0.24.0    | /opt/conda/lib/R/library/S4Vectors            | /opt/conda/lib/R/library/S4Vectors            | FALSE | FALSE | 2019-10-29 | Bioconductor                               | NA | /opt/conda/lib/R/library |\n",
       "| scales | scales               | 1.1.0     | 1.1.0     | /opt/conda/lib/R/library/scales               | /opt/conda/lib/R/library/scales               | FALSE | FALSE | 2019-11-18 | CRAN (R 3.6.1)                             | NA | /opt/conda/lib/R/library |\n",
       "| scrime | scrime               | 1.3.5     | 1.3.5     | /opt/conda/lib/R/library/scrime               | /opt/conda/lib/R/library/scrime               | FALSE | FALSE | 2018-12-01 | CRAN (R 3.6.1)                             | NA | /opt/conda/lib/R/library |\n",
       "| sessioninfo | sessioninfo          | 1.1.1     | 1.1.1     | /opt/conda/lib/R/library/sessioninfo          | /opt/conda/lib/R/library/sessioninfo          | FALSE | FALSE | 2018-11-05 | CRAN (R 3.6.1)                             | NA | /opt/conda/lib/R/library |\n",
       "| siggenes | siggenes             | 1.58.0    | 1.58.0    | /opt/conda/lib/R/library/siggenes             | /opt/conda/lib/R/library/siggenes             | FALSE | FALSE | 2019-05-02 | Bioconductor                               | NA | /opt/conda/lib/R/library |\n",
       "| snakecase | snakecase            | 0.11.0    | 0.11.0    | /opt/conda/lib/R/library/snakecase            | /opt/conda/lib/R/library/snakecase            |  TRUE | FALSE | 2019-05-25 | CRAN (R 3.6.1)                             | NA | /opt/conda/lib/R/library |\n",
       "| statmod | statmod              | 1.4.34    | 1.4.34    | /opt/conda/lib/R/library/statmod              | /opt/conda/lib/R/library/statmod              |  TRUE | FALSE | 2020-02-17 | CRAN (R 3.6.1)                             | NA | /opt/conda/lib/R/library |\n",
       "| stringi | stringi              | 1.4.6     | 1.4.6     | /opt/conda/lib/R/library/stringi              | /opt/conda/lib/R/library/stringi              | FALSE | FALSE | 2020-02-17 | CRAN (R 3.6.1)                             | NA | /opt/conda/lib/R/library |\n",
       "| stringr | stringr              | 1.4.0     | 1.4.0     | /opt/conda/lib/R/library/stringr              | /opt/conda/lib/R/library/stringr              |  TRUE | FALSE | 2019-02-10 | CRAN (R 3.6.1)                             | NA | /opt/conda/lib/R/library |\n",
       "| SummarizedExperiment | SummarizedExperiment | 1.16.0    | 1.16.0    | /opt/conda/lib/R/library/SummarizedExperiment | /opt/conda/lib/R/library/SummarizedExperiment | FALSE | FALSE | 2019-10-29 | Bioconductor                               | NA | /opt/conda/lib/R/library |\n",
       "| survival | survival             | 3.1.8     | 3.1-8     | /opt/conda/lib/R/library/survival             | /opt/conda/lib/R/library/survival             | FALSE | FALSE | 2019-12-03 | CRAN (R 3.6.2)                             | NA | /opt/conda/lib/R/library |\n",
       "| tibble | tibble               | 2.1.3     | 2.1.3     | /opt/conda/lib/R/library/tibble               | /opt/conda/lib/R/library/tibble               | FALSE | FALSE | 2019-06-06 | CRAN (R 3.6.1)                             | NA | /opt/conda/lib/R/library |\n",
       "| tidyr | tidyr                | 1.0.2     | 1.0.2     | /opt/conda/lib/R/library/tidyr                | /opt/conda/lib/R/library/tidyr                | FALSE | FALSE | 2020-01-24 | CRAN (R 3.6.2)                             | NA | /opt/conda/lib/R/library |\n",
       "| tidyselect | tidyselect           | 1.0.0     | 1.0.0     | /opt/conda/lib/R/library/tidyselect           | /opt/conda/lib/R/library/tidyselect           | FALSE | FALSE | 2020-01-27 | CRAN (R 3.6.2)                             | NA | /opt/conda/lib/R/library |\n",
       "| usethis | usethis              | 1.5.1     | 1.5.1     | /opt/conda/lib/R/library/usethis              | /opt/conda/lib/R/library/usethis              |  TRUE | FALSE | 2019-07-04 | CRAN (R 3.6.1)                             | NA | /opt/conda/lib/R/library |\n",
       "| uuid | uuid                 | 0.1.2     | 0.1-2     | /opt/conda/lib/R/library/uuid                 | /opt/conda/lib/R/library/uuid                 | FALSE | FALSE | 2015-07-28 | CRAN (R 3.6.1)                             | NA | /opt/conda/lib/R/library |\n",
       "| vctrs | vctrs                | 0.2.2     | 0.2.2     | /opt/conda/lib/R/library/vctrs                | /opt/conda/lib/R/library/vctrs                | FALSE | FALSE | 2020-01-24 | CRAN (R 3.6.2)                             | NA | /opt/conda/lib/R/library |\n",
       "| withr | withr                | 2.1.2     | 2.1.2     | /opt/conda/lib/R/library/withr                | /opt/conda/lib/R/library/withr                | FALSE | FALSE | 2018-03-15 | CRAN (R 3.6.1)                             | NA | /opt/conda/lib/R/library |\n",
       "| XML | XML                  | 3.98.1.20 | 3.98-1.20 | /opt/conda/lib/R/library/XML                  | /opt/conda/lib/R/library/XML                  | FALSE | FALSE | 2019-06-06 | CRAN (R 3.6.1)                             | NA | /opt/conda/lib/R/library |\n",
       "| xml2 | xml2                 | 1.2.2     | 1.2.2     | /opt/conda/lib/R/library/xml2                 | /opt/conda/lib/R/library/xml2                 | FALSE | FALSE | 2019-08-09 | CRAN (R 3.6.1)                             | NA | /opt/conda/lib/R/library |\n",
       "| xtable | xtable               | 1.8.4     | 1.8-4     | /opt/conda/lib/R/library/xtable               | /opt/conda/lib/R/library/xtable               | FALSE | FALSE | 2019-04-21 | CRAN (R 3.6.1)                             | NA | /opt/conda/lib/R/library |\n",
       "| XVector | XVector              | 0.26.0    | 0.26.0    | /opt/conda/lib/R/library/XVector              | /opt/conda/lib/R/library/XVector              | FALSE | FALSE | 2019-10-29 | Bioconductor                               | NA | /opt/conda/lib/R/library |\n",
       "| yarn | yarn                 | 1.13.1    | 1.13.1    | /opt/conda/lib/R/library/yarn                 | /opt/conda/lib/R/library/yarn                 |  TRUE | FALSE | 2020-02-20 | Github (TheJacksonLaboratory/yarn@3ff72c0) | NA | /opt/conda/lib/R/library |\n",
       "| zlibbioc | zlibbioc             | 1.32.0    | 1.32.0    | /opt/conda/lib/R/library/zlibbioc             | /opt/conda/lib/R/library/zlibbioc             | FALSE | FALSE | 2019-10-29 | Bioconductor                               | NA | /opt/conda/lib/R/library |\n",
       "\n"
      ],
      "text/plain": [
       "                     package              ondiskversion loadedversion\n",
       "annotate             annotate             1.64.0        1.64.0       \n",
       "AnnotationDbi        AnnotationDbi        1.48.0        1.48.0       \n",
       "askpass              askpass              1.1           1.1          \n",
       "assertthat           assertthat           0.2.1         0.2.1        \n",
       "backports            backports            1.1.5         1.1.5        \n",
       "base64               base64               2.0           2.0          \n",
       "base64enc            base64enc            0.1.3         0.1-3        \n",
       "beanplot             beanplot             1.2           1.2          \n",
       "Biobase              Biobase              2.46.0        2.46.0       \n",
       "BiocFileCache        BiocFileCache        1.10.0        1.10.0       \n",
       "BiocGenerics         BiocGenerics         0.32.0        0.32.0       \n",
       "BiocParallel         BiocParallel         1.20.0        1.20.0       \n",
       "biomaRt              biomaRt              2.42.0        2.42.0       \n",
       "Biostrings           Biostrings           2.54.0        2.54.0       \n",
       "bit                  bit                  1.1.15.2      1.1-15.2     \n",
       "bit64                bit64                0.9.7         0.9-7        \n",
       "bitops               bitops               1.0.6         1.0-6        \n",
       "blob                 blob                 1.2.1         1.2.1        \n",
       "bumphunter           bumphunter           1.28.0        1.28.0       \n",
       "callr                callr                3.4.2         3.4.2        \n",
       "caTools              caTools              1.18.0        1.18.0       \n",
       "cli                  cli                  2.0.1         2.0.1        \n",
       "codetools            codetools            0.2.16        0.2-16       \n",
       "colorspace           colorspace           1.4.1         1.4-1        \n",
       "crayon               crayon               1.3.4         1.3.4        \n",
       "curl                 curl                 4.3           4.3          \n",
       "data.table           data.table           1.12.8        1.12.8       \n",
       "DBI                  DBI                  1.1.0         1.1.0        \n",
       "dbplyr               dbplyr               1.4.2         1.4.2        \n",
       "DelayedArray         DelayedArray         0.12.0        0.12.0       \n",
       "⋮                    ⋮                    ⋮             ⋮            \n",
       "rlang                rlang                0.4.4         0.4.4        \n",
       "rngtools             rngtools             1.5           1.5          \n",
       "rprojroot            rprojroot            1.3.2         1.3-2        \n",
       "Rsamtools            Rsamtools            2.2.0         2.2.0        \n",
       "RSQLite              RSQLite              2.1.2         2.1.2        \n",
       "rtracklayer          rtracklayer          1.46.0        1.46.0       \n",
       "S4Vectors            S4Vectors            0.24.0        0.24.0       \n",
       "scales               scales               1.1.0         1.1.0        \n",
       "scrime               scrime               1.3.5         1.3.5        \n",
       "sessioninfo          sessioninfo          1.1.1         1.1.1        \n",
       "siggenes             siggenes             1.58.0        1.58.0       \n",
       "snakecase            snakecase            0.11.0        0.11.0       \n",
       "statmod              statmod              1.4.34        1.4.34       \n",
       "stringi              stringi              1.4.6         1.4.6        \n",
       "stringr              stringr              1.4.0         1.4.0        \n",
       "SummarizedExperiment SummarizedExperiment 1.16.0        1.16.0       \n",
       "survival             survival             3.1.8         3.1-8        \n",
       "tibble               tibble               2.1.3         2.1.3        \n",
       "tidyr                tidyr                1.0.2         1.0.2        \n",
       "tidyselect           tidyselect           1.0.0         1.0.0        \n",
       "usethis              usethis              1.5.1         1.5.1        \n",
       "uuid                 uuid                 0.1.2         0.1-2        \n",
       "vctrs                vctrs                0.2.2         0.2.2        \n",
       "withr                withr                2.1.2         2.1.2        \n",
       "XML                  XML                  3.98.1.20     3.98-1.20    \n",
       "xml2                 xml2                 1.2.2         1.2.2        \n",
       "xtable               xtable               1.8.4         1.8-4        \n",
       "XVector              XVector              0.26.0        0.26.0       \n",
       "yarn                 yarn                 1.13.1        1.13.1       \n",
       "zlibbioc             zlibbioc             1.32.0        1.32.0       \n",
       "                     path                                         \n",
       "annotate             /opt/conda/lib/R/library/annotate            \n",
       "AnnotationDbi        /opt/conda/lib/R/library/AnnotationDbi       \n",
       "askpass              /opt/conda/lib/R/library/askpass             \n",
       "assertthat           /opt/conda/lib/R/library/assertthat          \n",
       "backports            /opt/conda/lib/R/library/backports           \n",
       "base64               /opt/conda/lib/R/library/base64              \n",
       "base64enc            /opt/conda/lib/R/library/base64enc           \n",
       "beanplot             /opt/conda/lib/R/library/beanplot            \n",
       "Biobase              /opt/conda/lib/R/library/Biobase             \n",
       "BiocFileCache        /opt/conda/lib/R/library/BiocFileCache       \n",
       "BiocGenerics         /opt/conda/lib/R/library/BiocGenerics        \n",
       "BiocParallel         /opt/conda/lib/R/library/BiocParallel        \n",
       "biomaRt              /opt/conda/lib/R/library/biomaRt             \n",
       "Biostrings           /opt/conda/lib/R/library/Biostrings          \n",
       "bit                  /opt/conda/lib/R/library/bit                 \n",
       "bit64                /opt/conda/lib/R/library/bit64               \n",
       "bitops               /opt/conda/lib/R/library/bitops              \n",
       "blob                 /opt/conda/lib/R/library/blob                \n",
       "bumphunter           /opt/conda/lib/R/library/bumphunter          \n",
       "callr                /opt/conda/lib/R/library/callr               \n",
       "caTools              /opt/conda/lib/R/library/caTools             \n",
       "cli                  /opt/conda/lib/R/library/cli                 \n",
       "codetools            /opt/conda/lib/R/library/codetools           \n",
       "colorspace           /opt/conda/lib/R/library/colorspace          \n",
       "crayon               /opt/conda/lib/R/library/crayon              \n",
       "curl                 /opt/conda/lib/R/library/curl                \n",
       "data.table           /opt/conda/lib/R/library/data.table          \n",
       "DBI                  /opt/conda/lib/R/library/DBI                 \n",
       "dbplyr               /opt/conda/lib/R/library/dbplyr              \n",
       "DelayedArray         /opt/conda/lib/R/library/DelayedArray        \n",
       "⋮                    ⋮                                            \n",
       "rlang                /opt/conda/lib/R/library/rlang               \n",
       "rngtools             /opt/conda/lib/R/library/rngtools            \n",
       "rprojroot            /opt/conda/lib/R/library/rprojroot           \n",
       "Rsamtools            /opt/conda/lib/R/library/Rsamtools           \n",
       "RSQLite              /opt/conda/lib/R/library/RSQLite             \n",
       "rtracklayer          /opt/conda/lib/R/library/rtracklayer         \n",
       "S4Vectors            /opt/conda/lib/R/library/S4Vectors           \n",
       "scales               /opt/conda/lib/R/library/scales              \n",
       "scrime               /opt/conda/lib/R/library/scrime              \n",
       "sessioninfo          /opt/conda/lib/R/library/sessioninfo         \n",
       "siggenes             /opt/conda/lib/R/library/siggenes            \n",
       "snakecase            /opt/conda/lib/R/library/snakecase           \n",
       "statmod              /opt/conda/lib/R/library/statmod             \n",
       "stringi              /opt/conda/lib/R/library/stringi             \n",
       "stringr              /opt/conda/lib/R/library/stringr             \n",
       "SummarizedExperiment /opt/conda/lib/R/library/SummarizedExperiment\n",
       "survival             /opt/conda/lib/R/library/survival            \n",
       "tibble               /opt/conda/lib/R/library/tibble              \n",
       "tidyr                /opt/conda/lib/R/library/tidyr               \n",
       "tidyselect           /opt/conda/lib/R/library/tidyselect          \n",
       "usethis              /opt/conda/lib/R/library/usethis             \n",
       "uuid                 /opt/conda/lib/R/library/uuid                \n",
       "vctrs                /opt/conda/lib/R/library/vctrs               \n",
       "withr                /opt/conda/lib/R/library/withr               \n",
       "XML                  /opt/conda/lib/R/library/XML                 \n",
       "xml2                 /opt/conda/lib/R/library/xml2                \n",
       "xtable               /opt/conda/lib/R/library/xtable              \n",
       "XVector              /opt/conda/lib/R/library/XVector             \n",
       "yarn                 /opt/conda/lib/R/library/yarn                \n",
       "zlibbioc             /opt/conda/lib/R/library/zlibbioc            \n",
       "                     loadedpath                                    attached\n",
       "annotate             /opt/conda/lib/R/library/annotate             FALSE   \n",
       "AnnotationDbi        /opt/conda/lib/R/library/AnnotationDbi        FALSE   \n",
       "askpass              /opt/conda/lib/R/library/askpass              FALSE   \n",
       "assertthat           /opt/conda/lib/R/library/assertthat           FALSE   \n",
       "backports            /opt/conda/lib/R/library/backports            FALSE   \n",
       "base64               /opt/conda/lib/R/library/base64               FALSE   \n",
       "base64enc            /opt/conda/lib/R/library/base64enc            FALSE   \n",
       "beanplot             /opt/conda/lib/R/library/beanplot             FALSE   \n",
       "Biobase              /opt/conda/lib/R/library/Biobase               TRUE   \n",
       "BiocFileCache        /opt/conda/lib/R/library/BiocFileCache        FALSE   \n",
       "BiocGenerics         /opt/conda/lib/R/library/BiocGenerics          TRUE   \n",
       "BiocParallel         /opt/conda/lib/R/library/BiocParallel         FALSE   \n",
       "biomaRt              /opt/conda/lib/R/library/biomaRt               TRUE   \n",
       "Biostrings           /opt/conda/lib/R/library/Biostrings           FALSE   \n",
       "bit                  /opt/conda/lib/R/library/bit                  FALSE   \n",
       "bit64                /opt/conda/lib/R/library/bit64                FALSE   \n",
       "bitops               /opt/conda/lib/R/library/bitops               FALSE   \n",
       "blob                 /opt/conda/lib/R/library/blob                 FALSE   \n",
       "bumphunter           /opt/conda/lib/R/library/bumphunter           FALSE   \n",
       "callr                /opt/conda/lib/R/library/callr                FALSE   \n",
       "caTools              /opt/conda/lib/R/library/caTools              FALSE   \n",
       "cli                  /opt/conda/lib/R/library/cli                  FALSE   \n",
       "codetools            /opt/conda/lib/R/library/codetools            FALSE   \n",
       "colorspace           /opt/conda/lib/R/library/colorspace           FALSE   \n",
       "crayon               /opt/conda/lib/R/library/crayon               FALSE   \n",
       "curl                 /opt/conda/lib/R/library/curl                 FALSE   \n",
       "data.table           /opt/conda/lib/R/library/data.table           FALSE   \n",
       "DBI                  /opt/conda/lib/R/library/DBI                   TRUE   \n",
       "dbplyr               /opt/conda/lib/R/library/dbplyr               FALSE   \n",
       "DelayedArray         /opt/conda/lib/R/library/DelayedArray         FALSE   \n",
       "⋮                    ⋮                                             ⋮       \n",
       "rlang                /opt/conda/lib/R/library/rlang                FALSE   \n",
       "rngtools             /opt/conda/lib/R/library/rngtools             FALSE   \n",
       "rprojroot            /opt/conda/lib/R/library/rprojroot            FALSE   \n",
       "Rsamtools            /opt/conda/lib/R/library/Rsamtools            FALSE   \n",
       "RSQLite              /opt/conda/lib/R/library/RSQLite              FALSE   \n",
       "rtracklayer          /opt/conda/lib/R/library/rtracklayer          FALSE   \n",
       "S4Vectors            /opt/conda/lib/R/library/S4Vectors            FALSE   \n",
       "scales               /opt/conda/lib/R/library/scales               FALSE   \n",
       "scrime               /opt/conda/lib/R/library/scrime               FALSE   \n",
       "sessioninfo          /opt/conda/lib/R/library/sessioninfo          FALSE   \n",
       "siggenes             /opt/conda/lib/R/library/siggenes             FALSE   \n",
       "snakecase            /opt/conda/lib/R/library/snakecase             TRUE   \n",
       "statmod              /opt/conda/lib/R/library/statmod               TRUE   \n",
       "stringi              /opt/conda/lib/R/library/stringi              FALSE   \n",
       "stringr              /opt/conda/lib/R/library/stringr               TRUE   \n",
       "SummarizedExperiment /opt/conda/lib/R/library/SummarizedExperiment FALSE   \n",
       "survival             /opt/conda/lib/R/library/survival             FALSE   \n",
       "tibble               /opt/conda/lib/R/library/tibble               FALSE   \n",
       "tidyr                /opt/conda/lib/R/library/tidyr                FALSE   \n",
       "tidyselect           /opt/conda/lib/R/library/tidyselect           FALSE   \n",
       "usethis              /opt/conda/lib/R/library/usethis               TRUE   \n",
       "uuid                 /opt/conda/lib/R/library/uuid                 FALSE   \n",
       "vctrs                /opt/conda/lib/R/library/vctrs                FALSE   \n",
       "withr                /opt/conda/lib/R/library/withr                FALSE   \n",
       "XML                  /opt/conda/lib/R/library/XML                  FALSE   \n",
       "xml2                 /opt/conda/lib/R/library/xml2                 FALSE   \n",
       "xtable               /opt/conda/lib/R/library/xtable               FALSE   \n",
       "XVector              /opt/conda/lib/R/library/XVector              FALSE   \n",
       "yarn                 /opt/conda/lib/R/library/yarn                  TRUE   \n",
       "zlibbioc             /opt/conda/lib/R/library/zlibbioc             FALSE   \n",
       "                     is_base date      \n",
       "annotate             FALSE   2019-10-29\n",
       "AnnotationDbi        FALSE   2019-10-29\n",
       "askpass              FALSE   2019-01-13\n",
       "assertthat           FALSE   2019-03-21\n",
       "backports            FALSE   2019-10-02\n",
       "base64               FALSE   2016-05-10\n",
       "base64enc            FALSE   2015-07-28\n",
       "beanplot             FALSE   2014-09-19\n",
       "Biobase              FALSE   2019-10-29\n",
       "BiocFileCache        FALSE   2019-10-29\n",
       "BiocGenerics         FALSE   2019-10-29\n",
       "BiocParallel         FALSE   2019-10-30\n",
       "biomaRt              FALSE   2019-10-29\n",
       "Biostrings           FALSE   2019-10-29\n",
       "bit                  FALSE   2020-02-10\n",
       "bit64                FALSE   2017-05-08\n",
       "bitops               FALSE   2013-08-17\n",
       "blob                 FALSE   2020-01-20\n",
       "bumphunter           FALSE   2019-10-29\n",
       "callr                FALSE   2020-02-12\n",
       "caTools              FALSE   2020-01-17\n",
       "cli                  FALSE   2020-01-08\n",
       "codetools            FALSE   2018-12-24\n",
       "colorspace           FALSE   2019-03-18\n",
       "crayon               FALSE   2017-09-16\n",
       "curl                 FALSE   2019-12-02\n",
       "data.table           FALSE   2019-12-09\n",
       "DBI                  FALSE   2019-12-15\n",
       "dbplyr               FALSE   2019-06-17\n",
       "DelayedArray         FALSE   2019-10-29\n",
       "⋮                    ⋮       ⋮         \n",
       "rlang                FALSE   2020-01-28\n",
       "rngtools             FALSE   2020-01-23\n",
       "rprojroot            FALSE   2018-01-03\n",
       "Rsamtools            FALSE   2019-10-29\n",
       "RSQLite              FALSE   2019-07-24\n",
       "rtracklayer          FALSE   2019-10-29\n",
       "S4Vectors            FALSE   2019-10-29\n",
       "scales               FALSE   2019-11-18\n",
       "scrime               FALSE   2018-12-01\n",
       "sessioninfo          FALSE   2018-11-05\n",
       "siggenes             FALSE   2019-05-02\n",
       "snakecase            FALSE   2019-05-25\n",
       "statmod              FALSE   2020-02-17\n",
       "stringi              FALSE   2020-02-17\n",
       "stringr              FALSE   2019-02-10\n",
       "SummarizedExperiment FALSE   2019-10-29\n",
       "survival             FALSE   2019-12-03\n",
       "tibble               FALSE   2019-06-06\n",
       "tidyr                FALSE   2020-01-24\n",
       "tidyselect           FALSE   2020-01-27\n",
       "usethis              FALSE   2019-07-04\n",
       "uuid                 FALSE   2015-07-28\n",
       "vctrs                FALSE   2020-01-24\n",
       "withr                FALSE   2018-03-15\n",
       "XML                  FALSE   2019-06-06\n",
       "xml2                 FALSE   2019-08-09\n",
       "xtable               FALSE   2019-04-21\n",
       "XVector              FALSE   2019-10-29\n",
       "yarn                 FALSE   2020-02-20\n",
       "zlibbioc             FALSE   2019-10-29\n",
       "                     source                                     md5ok\n",
       "annotate             Bioconductor                               NA   \n",
       "AnnotationDbi        Bioconductor                               NA   \n",
       "askpass              CRAN (R 3.6.1)                             NA   \n",
       "assertthat           CRAN (R 3.6.1)                             NA   \n",
       "backports            CRAN (R 3.6.1)                             NA   \n",
       "base64               CRAN (R 3.6.1)                             NA   \n",
       "base64enc            CRAN (R 3.6.1)                             NA   \n",
       "beanplot             CRAN (R 3.6.1)                             NA   \n",
       "Biobase              Bioconductor                               NA   \n",
       "BiocFileCache        Bioconductor                               NA   \n",
       "BiocGenerics         Bioconductor                               NA   \n",
       "BiocParallel         Bioconductor                               NA   \n",
       "biomaRt              Bioconductor                               NA   \n",
       "Biostrings           Bioconductor                               NA   \n",
       "bit                  CRAN (R 3.6.2)                             NA   \n",
       "bit64                CRAN (R 3.6.1)                             NA   \n",
       "bitops               CRAN (R 3.6.1)                             NA   \n",
       "blob                 CRAN (R 3.6.2)                             NA   \n",
       "bumphunter           Bioconductor                               NA   \n",
       "callr                CRAN (R 3.6.2)                             NA   \n",
       "caTools              CRAN (R 3.6.1)                             NA   \n",
       "cli                  CRAN (R 3.6.2)                             NA   \n",
       "codetools            CRAN (R 3.6.1)                             NA   \n",
       "colorspace           CRAN (R 3.6.1)                             NA   \n",
       "crayon               CRAN (R 3.6.1)                             NA   \n",
       "curl                 CRAN (R 3.6.1)                             NA   \n",
       "data.table           CRAN (R 3.6.1)                             NA   \n",
       "DBI                  CRAN (R 3.6.2)                             NA   \n",
       "dbplyr               CRAN (R 3.6.1)                             NA   \n",
       "DelayedArray         Bioconductor                               NA   \n",
       "⋮                    ⋮                                          ⋮    \n",
       "rlang                CRAN (R 3.6.2)                             NA   \n",
       "rngtools             CRAN (R 3.6.2)                             NA   \n",
       "rprojroot            CRAN (R 3.6.1)                             NA   \n",
       "Rsamtools            Bioconductor                               NA   \n",
       "RSQLite              CRAN (R 3.6.1)                             NA   \n",
       "rtracklayer          Bioconductor                               NA   \n",
       "S4Vectors            Bioconductor                               NA   \n",
       "scales               CRAN (R 3.6.1)                             NA   \n",
       "scrime               CRAN (R 3.6.1)                             NA   \n",
       "sessioninfo          CRAN (R 3.6.1)                             NA   \n",
       "siggenes             Bioconductor                               NA   \n",
       "snakecase            CRAN (R 3.6.1)                             NA   \n",
       "statmod              CRAN (R 3.6.1)                             NA   \n",
       "stringi              CRAN (R 3.6.1)                             NA   \n",
       "stringr              CRAN (R 3.6.1)                             NA   \n",
       "SummarizedExperiment Bioconductor                               NA   \n",
       "survival             CRAN (R 3.6.2)                             NA   \n",
       "tibble               CRAN (R 3.6.1)                             NA   \n",
       "tidyr                CRAN (R 3.6.2)                             NA   \n",
       "tidyselect           CRAN (R 3.6.2)                             NA   \n",
       "usethis              CRAN (R 3.6.1)                             NA   \n",
       "uuid                 CRAN (R 3.6.1)                             NA   \n",
       "vctrs                CRAN (R 3.6.2)                             NA   \n",
       "withr                CRAN (R 3.6.1)                             NA   \n",
       "XML                  CRAN (R 3.6.1)                             NA   \n",
       "xml2                 CRAN (R 3.6.1)                             NA   \n",
       "xtable               CRAN (R 3.6.1)                             NA   \n",
       "XVector              Bioconductor                               NA   \n",
       "yarn                 Github (TheJacksonLaboratory/yarn@3ff72c0) NA   \n",
       "zlibbioc             Bioconductor                               NA   \n",
       "                     library                 \n",
       "annotate             /opt/conda/lib/R/library\n",
       "AnnotationDbi        /opt/conda/lib/R/library\n",
       "askpass              /opt/conda/lib/R/library\n",
       "assertthat           /opt/conda/lib/R/library\n",
       "backports            /opt/conda/lib/R/library\n",
       "base64               /opt/conda/lib/R/library\n",
       "base64enc            /opt/conda/lib/R/library\n",
       "beanplot             /opt/conda/lib/R/library\n",
       "Biobase              /opt/conda/lib/R/library\n",
       "BiocFileCache        /opt/conda/lib/R/library\n",
       "BiocGenerics         /opt/conda/lib/R/library\n",
       "BiocParallel         /opt/conda/lib/R/library\n",
       "biomaRt              /opt/conda/lib/R/library\n",
       "Biostrings           /opt/conda/lib/R/library\n",
       "bit                  /opt/conda/lib/R/library\n",
       "bit64                /opt/conda/lib/R/library\n",
       "bitops               /opt/conda/lib/R/library\n",
       "blob                 /opt/conda/lib/R/library\n",
       "bumphunter           /opt/conda/lib/R/library\n",
       "callr                /opt/conda/lib/R/library\n",
       "caTools              /opt/conda/lib/R/library\n",
       "cli                  /opt/conda/lib/R/library\n",
       "codetools            /opt/conda/lib/R/library\n",
       "colorspace           /opt/conda/lib/R/library\n",
       "crayon               /opt/conda/lib/R/library\n",
       "curl                 /opt/conda/lib/R/library\n",
       "data.table           /opt/conda/lib/R/library\n",
       "DBI                  /opt/conda/lib/R/library\n",
       "dbplyr               /opt/conda/lib/R/library\n",
       "DelayedArray         /opt/conda/lib/R/library\n",
       "⋮                    ⋮                       \n",
       "rlang                /opt/conda/lib/R/library\n",
       "rngtools             /opt/conda/lib/R/library\n",
       "rprojroot            /opt/conda/lib/R/library\n",
       "Rsamtools            /opt/conda/lib/R/library\n",
       "RSQLite              /opt/conda/lib/R/library\n",
       "rtracklayer          /opt/conda/lib/R/library\n",
       "S4Vectors            /opt/conda/lib/R/library\n",
       "scales               /opt/conda/lib/R/library\n",
       "scrime               /opt/conda/lib/R/library\n",
       "sessioninfo          /opt/conda/lib/R/library\n",
       "siggenes             /opt/conda/lib/R/library\n",
       "snakecase            /opt/conda/lib/R/library\n",
       "statmod              /opt/conda/lib/R/library\n",
       "stringi              /opt/conda/lib/R/library\n",
       "stringr              /opt/conda/lib/R/library\n",
       "SummarizedExperiment /opt/conda/lib/R/library\n",
       "survival             /opt/conda/lib/R/library\n",
       "tibble               /opt/conda/lib/R/library\n",
       "tidyr                /opt/conda/lib/R/library\n",
       "tidyselect           /opt/conda/lib/R/library\n",
       "usethis              /opt/conda/lib/R/library\n",
       "uuid                 /opt/conda/lib/R/library\n",
       "vctrs                /opt/conda/lib/R/library\n",
       "withr                /opt/conda/lib/R/library\n",
       "XML                  /opt/conda/lib/R/library\n",
       "xml2                 /opt/conda/lib/R/library\n",
       "xtable               /opt/conda/lib/R/library\n",
       "XVector              /opt/conda/lib/R/library\n",
       "yarn                 /opt/conda/lib/R/library\n",
       "zlibbioc             /opt/conda/lib/R/library"
      ]
     },
     "metadata": {},
     "output_type": "display_data"
    }
   ],
   "source": [
    "session_info <- devtools::session_info()\n",
    "message(\"Saving `devtools::session_info()` objects in ../metadata/devtools_session_info.rds  ..\")\n",
    "saveRDS(session_info, file = \"../metadata/devtools_session_info.rds\")\n",
    "message(\"Done!\\n\")\n",
    "\n",
    "message(\"Saving `utils::sessionInfo()` objects in ../metadata/utils_session_info.rds  ..\")\n",
    "saveRDS(session_info, file = \"../metadata/utils_info.rds\")\n",
    "message(\"Done!\\n\")\n",
    "\n",
    "session_info$platform\n",
    "\n",
    "session_info$packages"
   ]
  },
  {
   "cell_type": "markdown",
   "metadata": {},
   "source": [
    "## Creating artefacts archives with **[`{ropensci::piggyback}`](https://github.com/ropensci/piggyback)**"
   ]
  },
  {
   "cell_type": "code",
   "execution_count": null,
   "metadata": {},
   "outputs": [],
   "source": []
  }
 ],
 "metadata": {
  "kernelspec": {
   "display_name": "R",
   "language": "R",
   "name": "ir"
  },
  "language_info": {
   "codemirror_mode": "r",
   "file_extension": ".r",
   "mimetype": "text/x-r-source",
   "name": "R",
   "pygments_lexer": "r",
   "version": "3.6.1"
  }
 },
 "nbformat": 4,
 "nbformat_minor": 4
}
