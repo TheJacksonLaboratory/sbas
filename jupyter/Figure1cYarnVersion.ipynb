{
 "cells": [
  {
   "cell_type": "markdown",
   "metadata": {},
   "source": [
    "# Figure 1C - YARN Normalization Version"
   ]
  },
  {
   "cell_type": "markdown",
   "metadata": {},
   "source": [
    "Heatplot representing similarity in the fold-changes between male and female samples, with the values in the heatmap being the correlation between the vectors of fold changes of the tissues</b>"
   ]
  },
  {
   "cell_type": "code",
   "execution_count": 3,
   "metadata": {},
   "outputs": [],
   "source": [
    "rm(list = ls())"
   ]
  },
  {
   "cell_type": "markdown",
   "metadata": {},
   "source": [
    "We downloaded the GTEx version 8.0 RNA-seq and genotype data (phs000424.v8.v2), released 2019-08-26.\n",
    "We used YARN (https://bioconductor.org/packages/release/bioc/html/yarn.html), uploading the downloadGTEx function\n",
    "to download this release, and used it to perform quality control, gene filtering and normalization pre-processing on the\n",
    "GTEx RNA-seq data, as described in (Paulson et al, 2017).   This pipelines tested for sample sex-misidentification, \n",
    "merged related sub-tissues, performed tissue-aware normalization using qsmooth (Hicks et al, 2017)."
   ]
  },
  {
   "cell_type": "code",
   "execution_count": 4,
   "metadata": {},
   "outputs": [
    {
     "name": "stderr",
     "output_type": "stream",
     "text": [
      "Bioconductor version 3.10 (BiocManager 1.30.10), R 3.6.2 (2019-12-12)\n",
      "\n",
      "Installing package(s) 'yarn'\n",
      "\n"
     ]
    },
    {
     "name": "stdout",
     "output_type": "stream",
     "text": [
      "\n",
      "The downloaded binary packages are in\n",
      "\t/var/folders/sl/j6tdl8q545xbms0g9zr90lhs6f4v9p/T//RtmpaZT0De/downloaded_packages\n"
     ]
    },
    {
     "name": "stderr",
     "output_type": "stream",
     "text": [
      "Old packages: 'boot', 'DT', 'foreign', 'MASS', 'mime', 'nlme', 'processx',\n",
      "  'rstudioapi'\n",
      "\n"
     ]
    }
   ],
   "source": [
    "if (!requireNamespace(\"BiocManager\", quietly=TRUE))\n",
    "    install.packages(\"BiocManager\")\n",
    "BiocManager::install(\"yarn\")"
   ]
  },
  {
   "cell_type": "code",
   "execution_count": 5,
   "metadata": {},
   "outputs": [
    {
     "name": "stderr",
     "output_type": "stream",
     "text": [
      "Bioconductor version 3.10 (BiocManager 1.30.10), R 3.6.2 (2019-12-12)\n",
      "\n",
      "Installing package(s) 'downloader'\n",
      "\n"
     ]
    },
    {
     "name": "stdout",
     "output_type": "stream",
     "text": [
      "\n",
      "The downloaded binary packages are in\n",
      "\t/var/folders/sl/j6tdl8q545xbms0g9zr90lhs6f4v9p/T//RtmpaZT0De/downloaded_packages\n"
     ]
    },
    {
     "name": "stderr",
     "output_type": "stream",
     "text": [
      "Old packages: 'boot', 'DT', 'foreign', 'MASS', 'mime', 'nlme', 'processx',\n",
      "  'rstudioapi'\n",
      "\n"
     ]
    }
   ],
   "source": [
    "BiocManager::install(\"downloader\")"
   ]
  },
  {
   "cell_type": "code",
   "execution_count": 6,
   "metadata": {},
   "outputs": [
    {
     "name": "stderr",
     "output_type": "stream",
     "text": [
      "Bioconductor version 3.10 (BiocManager 1.30.10), R 3.6.2 (2019-12-12)\n",
      "\n",
      "Installing package(s) 'readr'\n",
      "\n"
     ]
    },
    {
     "name": "stdout",
     "output_type": "stream",
     "text": [
      "\n",
      "The downloaded binary packages are in\n",
      "\t/var/folders/sl/j6tdl8q545xbms0g9zr90lhs6f4v9p/T//RtmpaZT0De/downloaded_packages\n"
     ]
    },
    {
     "name": "stderr",
     "output_type": "stream",
     "text": [
      "Old packages: 'boot', 'DT', 'foreign', 'MASS', 'mime', 'nlme', 'processx',\n",
      "  'rstudioapi'\n",
      "\n"
     ]
    }
   ],
   "source": [
    "BiocManager::install(\"readr\")"
   ]
  },
  {
   "cell_type": "code",
   "execution_count": 14,
   "metadata": {},
   "outputs": [
    {
     "name": "stderr",
     "output_type": "stream",
     "text": [
      "Bioconductor version 3.10 (BiocManager 1.30.10), R 3.6.2 (2019-12-12)\n",
      "\n",
      "Installing package(s) 'biomaRt'\n",
      "\n"
     ]
    },
    {
     "name": "stdout",
     "output_type": "stream",
     "text": [
      "\n",
      "The downloaded binary packages are in\n",
      "\t/var/folders/sl/j6tdl8q545xbms0g9zr90lhs6f4v9p/T//RtmpaZT0De/downloaded_packages\n"
     ]
    },
    {
     "name": "stderr",
     "output_type": "stream",
     "text": [
      "Old packages: 'boot', 'DT', 'foreign', 'MASS', 'mime', 'nlme', 'processx',\n",
      "  'rstudioapi'\n",
      "\n"
     ]
    }
   ],
   "source": [
    "BiocManager::install(\"biomaRt\")"
   ]
  },
  {
   "cell_type": "code",
   "execution_count": 7,
   "metadata": {},
   "outputs": [
    {
     "name": "stderr",
     "output_type": "stream",
     "text": [
      "Loading required package: Biobase\n",
      "\n",
      "Loading required package: BiocGenerics\n",
      "\n",
      "Loading required package: parallel\n",
      "\n",
      "\n",
      "Attaching package: ‘BiocGenerics’\n",
      "\n",
      "\n",
      "The following objects are masked from ‘package:parallel’:\n",
      "\n",
      "    clusterApply, clusterApplyLB, clusterCall, clusterEvalQ,\n",
      "    clusterExport, clusterMap, parApply, parCapply, parLapply,\n",
      "    parLapplyLB, parRapply, parSapply, parSapplyLB\n",
      "\n",
      "\n",
      "The following objects are masked from ‘package:stats’:\n",
      "\n",
      "    IQR, mad, sd, var, xtabs\n",
      "\n",
      "\n",
      "The following objects are masked from ‘package:base’:\n",
      "\n",
      "    anyDuplicated, append, as.data.frame, basename, cbind, colnames,\n",
      "    dirname, do.call, duplicated, eval, evalq, Filter, Find, get, grep,\n",
      "    grepl, intersect, is.unsorted, lapply, Map, mapply, match, mget,\n",
      "    order, paste, pmax, pmax.int, pmin, pmin.int, Position, rank,\n",
      "    rbind, Reduce, rownames, sapply, setdiff, sort, table, tapply,\n",
      "    union, unique, unsplit, which, which.max, which.min\n",
      "\n",
      "\n",
      "Welcome to Bioconductor\n",
      "\n",
      "    Vignettes contain introductory material; view with\n",
      "    'browseVignettes()'. To cite Bioconductor, see\n",
      "    'citation(\"Biobase\")', and for packages 'citation(\"pkgname\")'.\n",
      "\n",
      "\n",
      "Setting options('download.file.method.GEOquery'='auto')\n",
      "\n",
      "Setting options('GEOquery.inmemory.gpl'=FALSE)\n",
      "\n"
     ]
    }
   ],
   "source": [
    "library(yarn)"
   ]
  },
  {
   "cell_type": "code",
   "execution_count": 8,
   "metadata": {},
   "outputs": [],
   "source": [
    "library(downloader)"
   ]
  },
  {
   "cell_type": "code",
   "execution_count": 9,
   "metadata": {},
   "outputs": [],
   "source": [
    "library(readr)"
   ]
  },
  {
   "cell_type": "code",
   "execution_count": 15,
   "metadata": {},
   "outputs": [],
   "source": [
    "library(biomaRt)"
   ]
  },
  {
   "cell_type": "markdown",
   "metadata": {},
   "source": [
    "Define a V8 of the function from YARN - wrote the author to make this perhaps version - or I guess I could update the package itself.\n",
    "THere were 3 lines to change for each of the source files"
   ]
  },
  {
   "cell_type": "code",
   "execution_count": 18,
   "metadata": {},
   "outputs": [],
   "source": [
    "downloadGTExV8=function (type = \"genes\", file = NULL, ...) \n",
    "{\n",
    "    phenoFile <- \"https://storage.googleapis.com/gtex_analysis_v8/annotations/GTEx_Analysis_v8_Annotations_SampleAttributesDS.txt\"\n",
    "    pheno2File <- \"https://storage.googleapis.com/gtex_analysis_v8/annotations/GTEx_Analysis_v8_Annotations_SubjectPhenotypesDS.txt\"\n",
    "    geneFile <- \"https://storage.googleapis.com/gtex_analysis_v8/rna_seq_data/GTEx_Analysis_2017-06-05_v8_RNASeQCv1.1.9_gene_reads.gct.gz\"\n",
    "    message(\"Downloading and reading files\")\n",
    "    pdFile <- tempfile(\"phenodat\", fileext = \".txt\")\n",
    "    download(phenoFile, destfile = pdFile)\n",
    "    pd <- read_tsv(pdFile)\n",
    "    pd <- as.matrix(pd)\n",
    "    rownames(pd) <- pd[, \"SAMPID\"]\n",
    "    ids <- sapply(strsplit(pd[, \"SAMPID\"], \"-\"), function(i) paste(i[1:2], \n",
    "        collapse = \"-\"))\n",
    "    pd2File <- tempfile(\"phenodat2\", fileext = \".txt\")\n",
    "    download(pheno2File, destfile = pd2File)\n",
    "    pd2 <- read_tsv(pd2File)\n",
    "    pd2 <- as.matrix(pd2)\n",
    "    rownames(pd2) <- pd2[, \"SUBJID\"]\n",
    "    pd2 <- pd2[which(rownames(pd2) %in% unique(ids)), ]\n",
    "    pd2 <- pd2[match(ids, rownames(pd2)), ]\n",
    "    rownames(pd2) <- colnames(counts)\n",
    "    pdfinal <- AnnotatedDataFrame(data.frame(cbind(pd, pd2)))\n",
    "    if (type == \"genes\") {\n",
    "        countsFile <- tempfile(\"counts\", fileext = \".gz\")\n",
    "        download(geneFile, destfile = countsFile)\n",
    "        cnts <- suppressWarnings(read_tsv(geneFile, skip = 2))\n",
    "        genes <- unlist(cnts[, 1])\n",
    "        geneNames <- unlist(cnts[, 2])\n",
    "        counts <- cnts[, -c(1:2)]\n",
    "        counts <- as.matrix(counts)\n",
    "        rownames(counts) <- genes\n",
    "        for (i in 1:nrow(problems(cnts))) {\n",
    "            counts[problems(cnts)$row[i], problems(cnts)$col[i]] <- 1e+05\n",
    "        }\n",
    "        throwAway <- which(rowSums(counts) == 0)\n",
    "        counts <- counts[-throwAway, ]\n",
    "        genes <- sub(\"\\\\..*\", \"\", rownames(counts))\n",
    "        host <- \"www.ensembl.org\"\n",
    "        biomart <- \"ENSEMBL_MART_ENSEMBL\"\n",
    "        dataset <- \"hsapiens_gene_ensembl\"\n",
    "        attributes <- c(\"ensembl_gene_id\", \"hgnc_symbol\", \"chromosome_name\", \n",
    "            \"start_position\", \"end_position\", \"gene_biotype\")\n",
    "    }\n",
    "    message(\"Creating ExpressionSet\")\n",
    "    pdfinal <- pdfinal[match(colnames(counts), rownames(pdfinal)), \n",
    "        ]\n",
    "    es <- ExpressionSet(as.matrix(counts))\n",
    "    phenoData(es) <- pdfinal\n",
    "    pData(es)[\"GTEX-YF7O-2326-101833-SM-5CVN9\", \"SMTS\"] <- \"Skin\"\n",
    "    pData(es)[\"GTEX-YEC3-1426-101806-SM-5PNXX\", \"SMTS\"] <- \"Stomach\"\n",
    "    message(\"Annotating from biomaRt\")\n",
    "    es <- annotateFromBiomart(obj = es, genes = genes, host = host, \n",
    "        biomart = biomart, dataset = dataset, attributes = attributes)\n",
    "    message(\"Cleaning up files\")\n",
    "    unlink(pdFile)\n",
    "    unlink(pd2File)\n",
    "    unlink(countsFile)\n",
    "    if (!is.null(file)) \n",
    "        saveRDS(es, file = file)\n",
    "    return(es)\n",
    "}\n"
   ]
  },
  {
   "cell_type": "markdown",
   "metadata": {},
   "source": [
    "Now call the function downloadGTExV8 of the file, store it locally)"
   ]
  },
  {
   "cell_type": "code",
   "execution_count": null,
   "metadata": {},
   "outputs": [],
   "source": []
  },
  {
   "cell_type": "code",
   "execution_count": 19,
   "metadata": {},
   "outputs": [
    {
     "name": "stderr",
     "output_type": "stream",
     "text": [
      "Downloading and reading files\n",
      "\n",
      "Parsed with column specification:\n",
      "cols(\n",
      "  .default = col_double(),\n",
      "  SAMPID = \u001b[31mcol_character()\u001b[39m,\n",
      "  SMCENTER = \u001b[31mcol_character()\u001b[39m,\n",
      "  SMPTHNTS = \u001b[31mcol_character()\u001b[39m,\n",
      "  SMTS = \u001b[31mcol_character()\u001b[39m,\n",
      "  SMTSD = \u001b[31mcol_character()\u001b[39m,\n",
      "  SMUBRID = \u001b[31mcol_character()\u001b[39m,\n",
      "  SMNABTCH = \u001b[31mcol_character()\u001b[39m,\n",
      "  SMNABTCHT = \u001b[31mcol_character()\u001b[39m,\n",
      "  SMNABTCHD = \u001b[31mcol_character()\u001b[39m,\n",
      "  SMGEBTCH = \u001b[31mcol_character()\u001b[39m,\n",
      "  SMGEBTCHD = \u001b[31mcol_character()\u001b[39m,\n",
      "  SMGEBTCHT = \u001b[31mcol_character()\u001b[39m,\n",
      "  SMAFRZE = \u001b[31mcol_character()\u001b[39m,\n",
      "  SMGTC = \u001b[33mcol_logical()\u001b[39m,\n",
      "  SMNUMGPS = \u001b[33mcol_logical()\u001b[39m,\n",
      "  SM550NRM = \u001b[33mcol_logical()\u001b[39m,\n",
      "  SM350NRM = \u001b[33mcol_logical()\u001b[39m,\n",
      "  SMMNCPB = \u001b[33mcol_logical()\u001b[39m,\n",
      "  SMMNCV = \u001b[33mcol_logical()\u001b[39m,\n",
      "  SMCGLGTH = \u001b[33mcol_logical()\u001b[39m\n",
      "  # ... with 2 more columns\n",
      ")\n",
      "\n",
      "See spec(...) for full column specifications.\n",
      "\n",
      "Warning message:\n",
      "“379 parsing failures.\n",
      "  row   col           expected            actual                                                                                     file\n",
      "14837 SMGTC 1/0/T/F/TRUE/FALSE 6293764057_R01C01 '/var/folders/sl/j6tdl8q545xbms0g9zr90lhs6f4v9p/T//RtmpaZT0De/phenodat129f843f070bd.txt'\n",
      "14838 SMGTC 1/0/T/F/TRUE/FALSE 7983311048_R05C02 '/var/folders/sl/j6tdl8q545xbms0g9zr90lhs6f4v9p/T//RtmpaZT0De/phenodat129f843f070bd.txt'\n",
      "14889 SMGTC 1/0/T/F/TRUE/FALSE 6293764057_R02C01 '/var/folders/sl/j6tdl8q545xbms0g9zr90lhs6f4v9p/T//RtmpaZT0De/phenodat129f843f070bd.txt'\n",
      "14938 SMGTC 1/0/T/F/TRUE/FALSE 6293764057_R03C01 '/var/folders/sl/j6tdl8q545xbms0g9zr90lhs6f4v9p/T//RtmpaZT0De/phenodat129f843f070bd.txt'\n",
      "14939 SMGTC 1/0/T/F/TRUE/FALSE 7991783154_R01C02 '/var/folders/sl/j6tdl8q545xbms0g9zr90lhs6f4v9p/T//RtmpaZT0De/phenodat129f843f070bd.txt'\n",
      "..... ..... .................. ................. ........................................................................................\n",
      "See problems(...) for more details.\n",
      "”\n",
      "Parsed with column specification:\n",
      "cols(\n",
      "  SUBJID = \u001b[31mcol_character()\u001b[39m,\n",
      "  SEX = \u001b[32mcol_double()\u001b[39m,\n",
      "  AGE = \u001b[31mcol_character()\u001b[39m,\n",
      "  DTHHRDY = \u001b[32mcol_double()\u001b[39m\n",
      ")\n",
      "\n",
      "Parsed with column specification:\n",
      "cols(\n",
      "  .default = col_double(),\n",
      "  Name = \u001b[31mcol_character()\u001b[39m,\n",
      "  Description = \u001b[31mcol_character()\u001b[39m\n",
      ")\n",
      "\n",
      "See spec(...) for full column specifications.\n",
      "\n",
      "Creating ExpressionSet\n",
      "\n",
      "Annotating from biomaRt\n",
      "\n",
      "\n",
      "Batch submitting query [>------------------------------]   2% eta: 31s\n",
      "\n",
      "Batch submitting query [>------------------------------]   4% eta: 50s\n",
      "\n",
      "Batch submitting query [=>-----------------------------]   5% eta: 39s\n",
      "\n",
      "Batch submitting query [=>-----------------------------]   7% eta: 34s\n",
      "\n",
      "Batch submitting query [==>----------------------------]   9% eta: 30s\n",
      "\n",
      "Batch submitting query [==>----------------------------]  11% eta: 28s\n",
      "\n",
      "Batch submitting query [===>---------------------------]  12% eta: 26s\n",
      "\n",
      "Batch submitting query [===>---------------------------]  14% eta: 25s\n",
      "\n",
      "Batch submitting query [====>--------------------------]  16% eta: 24s\n",
      "\n",
      "Batch submitting query [=====>-------------------------]  18% eta: 23s\n",
      "\n",
      "Batch submitting query [=====>-------------------------]  20% eta: 22s\n",
      "\n",
      "Batch submitting query [======>------------------------]  21% eta: 22s\n",
      "\n",
      "Batch submitting query [======>------------------------]  23% eta: 21s\n",
      "\n",
      "Batch submitting query [=======>-----------------------]  25% eta: 20s\n",
      "\n",
      "Batch submitting query [=======>-----------------------]  27% eta: 19s\n",
      "\n",
      "Batch submitting query [========>----------------------]  29% eta: 19s\n",
      "\n",
      "Batch submitting query [========>----------------------]  30% eta: 21s\n",
      "\n",
      "Batch submitting query [=========>---------------------]  32% eta: 20s\n",
      "\n",
      "Batch submitting query [==========>--------------------]  34% eta: 19s\n",
      "\n",
      "Batch submitting query [==========>--------------------]  36% eta: 18s\n",
      "\n",
      "Batch submitting query [===========>-------------------]  38% eta: 17s\n",
      "\n",
      "Batch submitting query [===========>-------------------]  39% eta: 17s\n",
      "\n",
      "Batch submitting query [============>------------------]  41% eta: 17s\n",
      "\n",
      "Batch submitting query [============>------------------]  43% eta: 17s\n",
      "\n",
      "Batch submitting query [=============>-----------------]  45% eta: 16s\n",
      "\n",
      "Batch submitting query [=============>-----------------]  46% eta: 15s\n",
      "\n",
      "Batch submitting query [==============>----------------]  48% eta: 15s\n",
      "\n",
      "Batch submitting query [===============>---------------]  50% eta: 14s\n",
      "\n",
      "Batch submitting query [===============>---------------]  52% eta: 14s\n",
      "\n",
      "Batch submitting query [================>--------------]  54% eta: 13s\n",
      "\n",
      "Batch submitting query [================>--------------]  55% eta: 13s\n",
      "\n",
      "Batch submitting query [=================>-------------]  57% eta: 12s\n",
      "\n",
      "Batch submitting query [=================>-------------]  59% eta: 13s\n",
      "\n",
      "Batch submitting query [==================>------------]  61% eta: 12s\n",
      "\n",
      "Batch submitting query [==================>------------]  62% eta: 11s\n",
      "\n",
      "Batch submitting query [===================>-----------]  64% eta: 11s\n",
      "\n",
      "Batch submitting query [===================>-----------]  66% eta: 10s\n",
      "\n",
      "Batch submitting query [====================>----------]  68% eta: 10s\n",
      "\n",
      "Batch submitting query [=====================>---------]  70% eta:  9s\n",
      "\n",
      "Batch submitting query [=====================>---------]  71% eta: 10s\n",
      "\n",
      "Batch submitting query [======================>--------]  73% eta: 10s\n",
      "\n",
      "Batch submitting query [======================>--------]  75% eta:  9s\n",
      "\n",
      "Batch submitting query [=======================>-------]  77% eta:  8s\n",
      "\n",
      "Batch submitting query [=======================>-------]  79% eta:  7s\n",
      "\n",
      "Batch submitting query [========================>------]  80% eta:  7s\n",
      "\n",
      "Batch submitting query [========================>------]  82% eta:  6s\n",
      "\n",
      "Batch submitting query [=========================>-----]  84% eta:  6s\n",
      "\n",
      "Batch submitting query [==========================>----]  86% eta:  5s\n",
      "\n",
      "Batch submitting query [==========================>----]  88% eta:  4s\n",
      "\n",
      "Batch submitting query [===========================>---]  89% eta:  4s\n",
      "\n",
      "Batch submitting query [===========================>---]  91% eta:  3s\n",
      "\n",
      "Batch submitting query [============================>--]  93% eta:  2s\n",
      "\n",
      "Batch submitting query [============================>--]  95% eta:  2s\n",
      "\n",
      "Batch submitting query [=============================>-]  96% eta:  1s\n",
      "\n",
      "Batch submitting query [=============================>-]  98% eta:  1s\n",
      "                                                                      \n",
      "\n",
      "Warning message in annotateFromBiomart(obj = es, genes = genes, host = host, biomart = biomart, :\n",
      "“getBM returned fewer rows than genes queried.”\n",
      "Cleaning up files\n",
      "\n"
     ]
    }
   ],
   "source": [
    "#obj <- downloadGTExV8(type='genes',file='data/gtex.rds')"
   ]
  },
  {
   "cell_type": "code",
   "execution_count": 33,
   "metadata": {},
   "outputs": [
    {
     "name": "stderr",
     "output_type": "stream",
     "text": [
      "Loading required package: usethis\n",
      "\n",
      "\n",
      "Attaching package: ‘devtools’\n",
      "\n",
      "\n",
      "The following object is masked from ‘package:downloader’:\n",
      "\n",
      "    source_url\n",
      "\n",
      "\n"
     ]
    }
   ],
   "source": [
    "library(devtools)"
   ]
  },
  {
   "cell_type": "markdown",
   "metadata": {},
   "source": [
    "If you have already downloaded the file, you may now upload it again here:"
   ]
  },
  {
   "cell_type": "code",
   "execution_count": 56,
   "metadata": {},
   "outputs": [
    {
     "data": {
      "text/html": [
       "'/Users/adeslat/Desktop/2020/2020Lifebit/rMATSPaperData/lifebitCloudOSDRE'"
      ],
      "text/latex": [
       "'/Users/adeslat/Desktop/2020/2020Lifebit/rMATSPaperData/lifebitCloudOSDRE'"
      ],
      "text/markdown": [
       "'/Users/adeslat/Desktop/2020/2020Lifebit/rMATSPaperData/lifebitCloudOSDRE'"
      ],
      "text/plain": [
       "[1] \"/Users/adeslat/Desktop/2020/2020Lifebit/rMATSPaperData/lifebitCloudOSDRE\""
      ]
     },
     "metadata": {},
     "output_type": "display_data"
    }
   ],
   "source": [
    "getwd()"
   ]
  },
  {
   "cell_type": "code",
   "execution_count": 57,
   "metadata": {},
   "outputs": [
    {
     "data": {
      "text/html": [
       "'/Users/adeslat/Desktop/2020/2020Lifebit/rMATSPaperData'"
      ],
      "text/latex": [
       "'/Users/adeslat/Desktop/2020/2020Lifebit/rMATSPaperData'"
      ],
      "text/markdown": [
       "'/Users/adeslat/Desktop/2020/2020Lifebit/rMATSPaperData'"
      ],
      "text/plain": [
       "[1] \"/Users/adeslat/Desktop/2020/2020Lifebit/rMATSPaperData\""
      ]
     },
     "metadata": {},
     "output_type": "display_data"
    }
   ],
   "source": [
    "setwd(\"..\")\n",
    "getwd()"
   ]
  },
  {
   "cell_type": "code",
   "execution_count": 58,
   "metadata": {},
   "outputs": [],
   "source": [
    "library(devtools)"
   ]
  },
  {
   "cell_type": "code",
   "execution_count": 59,
   "metadata": {},
   "outputs": [
    {
     "name": "stderr",
     "output_type": "stream",
     "text": [
      "Uninstalling yarn\n",
      "\n",
      "Removing package from ‘/Library/Frameworks/R.framework/Versions/3.6/Resources/library’\n",
      "(as ‘lib’ is unspecified)\n",
      "\n"
     ]
    }
   ],
   "source": [
    "uninstall(\"yarn\")"
   ]
  },
  {
   "cell_type": "code",
   "execution_count": 60,
   "metadata": {},
   "outputs": [
    {
     "name": "stdout",
     "output_type": "stream",
     "text": [
      "\n"
     ]
    },
    {
     "name": "stderr",
     "output_type": "stream",
     "text": [
      "Skipping 36 packages ahead of CRAN: Biobase, biomaRt, edgeR, limma, preprocessCore, quantro, BiocGenerics, AnnotationDbi, minfi, IRanges, S4Vectors, GenomicRanges, SummarizedExperiment, Biostrings, bumphunter, GenomeInfoDb, siggenes, illuminaio, DelayedMatrixStats, genefilter, GEOquery, DelayedArray, HDF5Array, BiocParallel, XVector, GenomicFeatures, annotate, GenomeInfoDbData, rhdf5, Rhdf5lib, multtest, rtracklayer, zlibbioc, Rsamtools, GenomicAlignments, Rhtslib\n",
      "\n"
     ]
    },
    {
     "name": "stdout",
     "output_type": "stream",
     "text": [
      "\u001b[32m✔\u001b[39m  \u001b[38;5;247mchecking for file ‘/Users/adeslat/Desktop/2020/2020Lifebit/rMATSPaperData/yarn/DESCRIPTION’\u001b[39m\u001b[36m\u001b[39m\n",
      "\u001b[38;5;247m─\u001b[39m\u001b[38;5;247m  \u001b[39m\u001b[38;5;247mpreparing ‘yarn’:\u001b[39m\u001b[36m\u001b[39m\n",
      "\u001b[32m✔\u001b[39m  \u001b[38;5;247mchecking DESCRIPTION meta-information\u001b[39m\u001b[36m\u001b[39m\n",
      "\u001b[38;5;247m─\u001b[39m\u001b[38;5;247m  \u001b[39m\u001b[38;5;247mchecking for LF line-endings in source and make files and shell scripts\u001b[39m\u001b[36m\u001b[39m\n",
      "\u001b[38;5;247m─\u001b[39m\u001b[38;5;247m  \u001b[39m\u001b[38;5;247mchecking for empty or unneeded directories\u001b[39m\u001b[36m\u001b[39m\n",
      "\u001b[38;5;247m─\u001b[39m\u001b[38;5;247m  \u001b[39m\u001b[38;5;247mlooking to see if a ‘data/datalist’ file should be added\u001b[39m\u001b[36m\u001b[39m\n",
      "\u001b[38;5;247m─\u001b[39m\u001b[38;5;247m  \u001b[39m\u001b[38;5;247mbuilding ‘yarn_1.13.1.tar.gz’\u001b[39m\u001b[36m\u001b[36m (501ms)\u001b[36m\u001b[39m\n",
      "   Warning: invalid uid value replaced by that for user 'nobody'\n",
      "   Warning: invalid gid value replaced by that for user 'nobody'\n",
      "   \n",
      "Running /Library/Frameworks/R.framework/Resources/bin/R CMD INSTALL \\\n",
      "  /var/folders/sl/j6tdl8q545xbms0g9zr90lhs6f4v9p/T//RtmpaZT0De/yarn_1.13.1.tar.gz \\\n",
      "  --install-tests \n",
      "\u001b[31m* installing to library ‘/Library/Frameworks/R.framework/Versions/3.6/Resources/library’\n",
      "\u001b[39m\u001b[31m* installing *source* package ‘yarn’ ...\n",
      "\u001b[39m\u001b[31m** using staged installation\n",
      "\u001b[39m\u001b[31m** R\n",
      "\u001b[39m\u001b[31m** data\n",
      "\u001b[39m\u001b[31m*** moving datasets to lazyload DB\n",
      "\u001b[39m\u001b[31m** inst\n",
      "\u001b[39m\u001b[31m** tests\n",
      "\u001b[39m\u001b[31m** byte-compile and prepare package for lazy loading\n",
      "\u001b[39m\u001b[31m** help\n",
      "\u001b[39m\u001b[31m*** installing help indices\n",
      "\u001b[39m\u001b[31m** building package indices\n",
      "\u001b[39m\u001b[31m** installing vignettes\n",
      "\u001b[39m\u001b[31m** testing if installed package can be loaded from temporary location\n",
      "\u001b[39m\u001b[31m** testing if installed package can be loaded from final location\n",
      "\u001b[39m\u001b[31m** testing if installed package keeps a record of temporary installation path\n",
      "\u001b[39m\u001b[31m* DONE (yarn)\n",
      "\u001b[39m"
     ]
    }
   ],
   "source": [
    "install(\"yarn\")"
   ]
  },
  {
   "cell_type": "code",
   "execution_count": 2,
   "metadata": {},
   "outputs": [
    {
     "name": "stderr",
     "output_type": "stream",
     "text": [
      "Loading required package: Biobase\n",
      "\n",
      "Loading required package: BiocGenerics\n",
      "\n",
      "Loading required package: parallel\n",
      "\n",
      "\n",
      "Attaching package: ‘BiocGenerics’\n",
      "\n",
      "\n",
      "The following objects are masked from ‘package:parallel’:\n",
      "\n",
      "    clusterApply, clusterApplyLB, clusterCall, clusterEvalQ,\n",
      "    clusterExport, clusterMap, parApply, parCapply, parLapply,\n",
      "    parLapplyLB, parRapply, parSapply, parSapplyLB\n",
      "\n",
      "\n",
      "The following objects are masked from ‘package:stats’:\n",
      "\n",
      "    IQR, mad, sd, var, xtabs\n",
      "\n",
      "\n",
      "The following objects are masked from ‘package:base’:\n",
      "\n",
      "    anyDuplicated, append, as.data.frame, basename, cbind, colnames,\n",
      "    dirname, do.call, duplicated, eval, evalq, Filter, Find, get, grep,\n",
      "    grepl, intersect, is.unsorted, lapply, Map, mapply, match, mget,\n",
      "    order, paste, pmax, pmax.int, pmin, pmin.int, Position, rank,\n",
      "    rbind, Reduce, rownames, sapply, setdiff, sort, table, tapply,\n",
      "    union, unique, unsplit, which, which.max, which.min\n",
      "\n",
      "\n",
      "Welcome to Bioconductor\n",
      "\n",
      "    Vignettes contain introductory material; view with\n",
      "    'browseVignettes()'. To cite Bioconductor, see\n",
      "    'citation(\"Biobase\")', and for packages 'citation(\"pkgname\")'.\n",
      "\n",
      "\n",
      "Setting options('download.file.method.GEOquery'='auto')\n",
      "\n",
      "Setting options('GEOquery.inmemory.gpl'=FALSE)\n",
      "\n"
     ]
    }
   ],
   "source": [
    "library(yarn)"
   ]
  },
  {
   "cell_type": "code",
   "execution_count": 3,
   "metadata": {},
   "outputs": [
    {
     "data": {
      "text/html": [
       "'/Users/adeslat/Desktop/2020/2020Lifebit/rMATSPaperData/lifebitCloudOSDRE'"
      ],
      "text/latex": [
       "'/Users/adeslat/Desktop/2020/2020Lifebit/rMATSPaperData/lifebitCloudOSDRE'"
      ],
      "text/markdown": [
       "'/Users/adeslat/Desktop/2020/2020Lifebit/rMATSPaperData/lifebitCloudOSDRE'"
      ],
      "text/plain": [
       "[1] \"/Users/adeslat/Desktop/2020/2020Lifebit/rMATSPaperData/lifebitCloudOSDRE\""
      ]
     },
     "metadata": {},
     "output_type": "display_data"
    }
   ],
   "source": [
    "getwd()"
   ]
  },
  {
   "cell_type": "code",
   "execution_count": 4,
   "metadata": {},
   "outputs": [],
   "source": [
    "#setwd(\"lifebitCloudOSDRE\")\n",
    "obj<-readRDS('data/gtex.rds')"
   ]
  },
  {
   "cell_type": "code",
   "execution_count": 5,
   "metadata": {},
   "outputs": [
    {
     "data": {
      "text/plain": [
       "ExpressionSet (storageMode: lockedEnvironment)\n",
       "assayData: 55878 features, 17382 samples \n",
       "  element names: exprs \n",
       "protocolData: none\n",
       "phenoData\n",
       "  rowNames: GTEX-1117F-0226-SM-5GZZ7 GTEX-1117F-0426-SM-5EGHI ...\n",
       "    GTEX-YEC3-1426-101806-SM-5PNXX (17384 total)\n",
       "  varLabels: SAMPID SMATSSCR ... DTHHRDY (67 total)\n",
       "  varMetadata: labelDescription\n",
       "featureData\n",
       "  featureNames: ENSG00000223972.5 ENSG00000227232.5 ...\n",
       "    ENSG00000210196.2 (55878 total)\n",
       "  fvarLabels: ensembl_gene_id hgnc_symbol ... gene_biotype (6 total)\n",
       "  fvarMetadata: labelDescription\n",
       "experimentData: use 'experimentData(object)'\n",
       "Annotation:  "
      ]
     },
     "metadata": {},
     "output_type": "display_data"
    }
   ],
   "source": [
    "obj"
   ]
  },
  {
   "cell_type": "code",
   "execution_count": 74,
   "metadata": {},
   "outputs": [
    {
     "data": {
      "text/plain": [
       "\n",
       "                   Adipose - Subcutaneous \n",
       "                                      663 \n",
       "             Adipose - Visceral (Omentum) \n",
       "                                      541 \n",
       "                            Adrenal Gland \n",
       "                                      258 \n",
       "                           Artery - Aorta \n",
       "                                      432 \n",
       "                        Artery - Coronary \n",
       "                                      240 \n",
       "                          Artery - Tibial \n",
       "                                      663 \n",
       "                                  Bladder \n",
       "                                       21 \n",
       "                         Brain - Amygdala \n",
       "                                      152 \n",
       " Brain - Anterior cingulate cortex (BA24) \n",
       "                                      176 \n",
       "          Brain - Caudate (basal ganglia) \n",
       "                                      246 \n",
       "            Brain - Cerebellar Hemisphere \n",
       "                                      215 \n",
       "                       Brain - Cerebellum \n",
       "                                      241 \n",
       "                           Brain - Cortex \n",
       "                                      255 \n",
       "             Brain - Frontal Cortex (BA9) \n",
       "                                      209 \n",
       "                      Brain - Hippocampus \n",
       "                                      197 \n",
       "                     Brain - Hypothalamus \n",
       "                                      202 \n",
       "Brain - Nucleus accumbens (basal ganglia) \n",
       "                                      246 \n",
       "          Brain - Putamen (basal ganglia) \n",
       "                                      205 \n",
       "       Brain - Spinal cord (cervical c-1) \n",
       "                                      159 \n",
       "                 Brain - Substantia nigra \n",
       "                                      139 \n",
       "                  Breast - Mammary Tissue \n",
       "                                      459 \n",
       "             Cells - Cultured fibroblasts \n",
       "                                      504 \n",
       "      Cells - EBV-transformed lymphocytes \n",
       "                                      174 \n",
       "         Cells - Leukemia cell line (CML) \n",
       "                                        0 \n",
       "                      Cervix - Ectocervix \n",
       "                                        9 \n",
       "                      Cervix - Endocervix \n",
       "                                       10 \n",
       "                          Colon - Sigmoid \n",
       "                                      373 \n",
       "                       Colon - Transverse \n",
       "                                      406 \n",
       "    Esophagus - Gastroesophageal Junction \n",
       "                                      375 \n",
       "                       Esophagus - Mucosa \n",
       "                                      555 \n",
       "                   Esophagus - Muscularis \n",
       "                                      515 \n",
       "                           Fallopian Tube \n",
       "                                        9 \n",
       "                 Heart - Atrial Appendage \n",
       "                                      429 \n",
       "                   Heart - Left Ventricle \n",
       "                                      432 \n",
       "                          Kidney - Cortex \n",
       "                                       85 \n",
       "                         Kidney - Medulla \n",
       "                                        4 \n",
       "                                    Liver \n",
       "                                      226 \n",
       "                                     Lung \n",
       "                                      578 \n",
       "                     Minor Salivary Gland \n",
       "                                      162 \n",
       "                        Muscle - Skeletal \n",
       "                                      803 \n",
       "                           Nerve - Tibial \n",
       "                                      619 \n",
       "                                    Ovary \n",
       "                                      180 \n",
       "                                 Pancreas \n",
       "                                      328 \n",
       "                                Pituitary \n",
       "                                      283 \n",
       "                                 Prostate \n",
       "                                      245 \n",
       "      Skin - Not Sun Exposed (Suprapubic) \n",
       "                                      604 \n",
       "           Skin - Sun Exposed (Lower leg) \n",
       "                                      701 \n",
       "         Small Intestine - Terminal Ileum \n",
       "                                      187 \n",
       "                                   Spleen \n",
       "                                      241 \n",
       "                                  Stomach \n",
       "                                      359 \n",
       "                                   Testis \n",
       "                                      361 \n",
       "                                  Thyroid \n",
       "                                      653 \n",
       "                                   Uterus \n",
       "                                      142 \n",
       "                                   Vagina \n",
       "                                      156 \n",
       "                              Whole Blood \n",
       "                                      755 "
      ]
     },
     "metadata": {},
     "output_type": "display_data"
    },
    {
     "data": {
      "text/html": [
       "17382"
      ],
      "text/latex": [
       "17382"
      ],
      "text/markdown": [
       "17382"
      ],
      "text/plain": [
       "[1] 17382"
      ]
     },
     "metadata": {},
     "output_type": "display_data"
    }
   ],
   "source": [
    "smtsd.table <- table(pData(obj)$SMTSD)\n",
    "smtsd.table\n",
    "sum(smtsd.table)"
   ]
  },
  {
   "cell_type": "code",
   "execution_count": 63,
   "metadata": {},
   "outputs": [
    {
     "data": {
      "text/plain": [
       "\n",
       " Adipose Tissue   Adrenal Gland         Bladder           Blood    Blood Vessel \n",
       "           1204             258              21             929            1335 \n",
       "    Bone Marrow           Brain          Breast    Cervix Uteri           Colon \n",
       "              0            2642             459              19             779 \n",
       "      Esophagus  Fallopian Tube           Heart          Kidney           Liver \n",
       "           1445               9             861              89             226 \n",
       "           Lung          Muscle           Nerve           Ovary        Pancreas \n",
       "            578             803             619             180             328 \n",
       "      Pituitary        Prostate  Salivary Gland            Skin Small Intestine \n",
       "            283             245             162            1810             187 \n",
       "         Spleen         Stomach          Testis         Thyroid          Uterus \n",
       "            241             360             361             653             142 \n",
       "         Vagina \n",
       "            156 "
      ]
     },
     "metadata": {},
     "output_type": "display_data"
    }
   ],
   "source": [
    "smts.table <- table(pData(obj)$SMTS)\n",
    "smts.table"
   ]
  },
  {
   "cell_type": "code",
   "execution_count": 6,
   "metadata": {},
   "outputs": [],
   "source": [
    "tissues <- pData(obj)$SMTS"
   ]
  },
  {
   "cell_type": "code",
   "execution_count": 8,
   "metadata": {},
   "outputs": [
    {
     "data": {
      "text/plain": [
       "tissues\n",
       " Adipose Tissue   Adrenal Gland         Bladder           Blood    Blood Vessel \n",
       "           1204             258              21             929            1335 \n",
       "    Bone Marrow           Brain          Breast    Cervix Uteri           Colon \n",
       "              0            2642             459              19             779 \n",
       "      Esophagus  Fallopian Tube           Heart          Kidney           Liver \n",
       "           1445               9             861              89             226 \n",
       "           Lung          Muscle           Nerve           Ovary        Pancreas \n",
       "            578             803             619             180             328 \n",
       "      Pituitary        Prostate  Salivary Gland            Skin Small Intestine \n",
       "            283             245             162            1810             187 \n",
       "         Spleen         Stomach          Testis         Thyroid          Uterus \n",
       "            241             360             361             653             142 \n",
       "         Vagina \n",
       "            156 "
      ]
     },
     "metadata": {},
     "output_type": "display_data"
    }
   ],
   "source": [
    "table(tissues)"
   ]
  },
  {
   "cell_type": "code",
   "execution_count": 9,
   "metadata": {},
   "outputs": [
    {
     "data": {
      "text/html": [
       "<style>\n",
       ".list-inline {list-style: none; margin:0; padding: 0}\n",
       ".list-inline>li {display: inline-block}\n",
       ".list-inline>li:not(:last-child)::after {content: \"\\00b7\"; padding: 0 .5ex}\n",
       "</style>\n",
       "<ol class=list-inline><li>'SAMPID'</li><li>'SMATSSCR'</li><li>'SMCENTER'</li><li>'SMPTHNTS'</li><li>'SMRIN'</li><li>'SMTS'</li><li>'SMTSD'</li><li>'SMUBRID'</li><li>'SMTSISCH'</li><li>'SMTSPAX'</li><li>'SMNABTCH'</li><li>'SMNABTCHT'</li><li>'SMNABTCHD'</li><li>'SMGEBTCH'</li><li>'SMGEBTCHD'</li><li>'SMGEBTCHT'</li><li>'SMAFRZE'</li><li>'SMGTC'</li><li>'SME2MPRT'</li><li>'SMCHMPRS'</li><li>'SMNTRART'</li><li>'SMNUMGPS'</li><li>'SMMAPRT'</li><li>'SMEXNCRT'</li><li>'SM550NRM'</li><li>'SMGNSDTC'</li><li>'SMUNMPRT'</li><li>'SM350NRM'</li><li>'SMRDLGTH'</li><li>'SMMNCPB'</li><li>'SME1MMRT'</li><li>'SMSFLGTH'</li><li>'SMESTLBS'</li><li>'SMMPPD'</li><li>'SMNTERRT'</li><li>'SMRRNANM'</li><li>'SMRDTTL'</li><li>'SMVQCFL'</li><li>'SMMNCV'</li><li>'SMTRSCPT'</li><li>'SMMPPDPR'</li><li>'SMCGLGTH'</li><li>'SMGAPPCT'</li><li>'SMUNPDRD'</li><li>'SMNTRNRT'</li><li>'SMMPUNRT'</li><li>'SMEXPEFF'</li><li>'SMMPPDUN'</li><li>'SME2MMRT'</li><li>'SME2ANTI'</li><li>'SMALTALG'</li><li>'SME2SNSE'</li><li>'SMMFLGTH'</li><li>'SME1ANTI'</li><li>'SMSPLTRD'</li><li>'SMBSMMRT'</li><li>'SME1SNSE'</li><li>'SME1PCTS'</li><li>'SMRRNART'</li><li>'SME1MPRT'</li><li>'SMNUM5CD'</li><li>'SMDPMPRT'</li><li>'SME2PCTS'</li><li>'SUBJID'</li><li>'SEX'</li><li>'AGE'</li><li>'DTHHRDY'</li></ol>\n"
      ],
      "text/latex": [
       "\\begin{enumerate*}\n",
       "\\item 'SAMPID'\n",
       "\\item 'SMATSSCR'\n",
       "\\item 'SMCENTER'\n",
       "\\item 'SMPTHNTS'\n",
       "\\item 'SMRIN'\n",
       "\\item 'SMTS'\n",
       "\\item 'SMTSD'\n",
       "\\item 'SMUBRID'\n",
       "\\item 'SMTSISCH'\n",
       "\\item 'SMTSPAX'\n",
       "\\item 'SMNABTCH'\n",
       "\\item 'SMNABTCHT'\n",
       "\\item 'SMNABTCHD'\n",
       "\\item 'SMGEBTCH'\n",
       "\\item 'SMGEBTCHD'\n",
       "\\item 'SMGEBTCHT'\n",
       "\\item 'SMAFRZE'\n",
       "\\item 'SMGTC'\n",
       "\\item 'SME2MPRT'\n",
       "\\item 'SMCHMPRS'\n",
       "\\item 'SMNTRART'\n",
       "\\item 'SMNUMGPS'\n",
       "\\item 'SMMAPRT'\n",
       "\\item 'SMEXNCRT'\n",
       "\\item 'SM550NRM'\n",
       "\\item 'SMGNSDTC'\n",
       "\\item 'SMUNMPRT'\n",
       "\\item 'SM350NRM'\n",
       "\\item 'SMRDLGTH'\n",
       "\\item 'SMMNCPB'\n",
       "\\item 'SME1MMRT'\n",
       "\\item 'SMSFLGTH'\n",
       "\\item 'SMESTLBS'\n",
       "\\item 'SMMPPD'\n",
       "\\item 'SMNTERRT'\n",
       "\\item 'SMRRNANM'\n",
       "\\item 'SMRDTTL'\n",
       "\\item 'SMVQCFL'\n",
       "\\item 'SMMNCV'\n",
       "\\item 'SMTRSCPT'\n",
       "\\item 'SMMPPDPR'\n",
       "\\item 'SMCGLGTH'\n",
       "\\item 'SMGAPPCT'\n",
       "\\item 'SMUNPDRD'\n",
       "\\item 'SMNTRNRT'\n",
       "\\item 'SMMPUNRT'\n",
       "\\item 'SMEXPEFF'\n",
       "\\item 'SMMPPDUN'\n",
       "\\item 'SME2MMRT'\n",
       "\\item 'SME2ANTI'\n",
       "\\item 'SMALTALG'\n",
       "\\item 'SME2SNSE'\n",
       "\\item 'SMMFLGTH'\n",
       "\\item 'SME1ANTI'\n",
       "\\item 'SMSPLTRD'\n",
       "\\item 'SMBSMMRT'\n",
       "\\item 'SME1SNSE'\n",
       "\\item 'SME1PCTS'\n",
       "\\item 'SMRRNART'\n",
       "\\item 'SME1MPRT'\n",
       "\\item 'SMNUM5CD'\n",
       "\\item 'SMDPMPRT'\n",
       "\\item 'SME2PCTS'\n",
       "\\item 'SUBJID'\n",
       "\\item 'SEX'\n",
       "\\item 'AGE'\n",
       "\\item 'DTHHRDY'\n",
       "\\end{enumerate*}\n"
      ],
      "text/markdown": [
       "1. 'SAMPID'\n",
       "2. 'SMATSSCR'\n",
       "3. 'SMCENTER'\n",
       "4. 'SMPTHNTS'\n",
       "5. 'SMRIN'\n",
       "6. 'SMTS'\n",
       "7. 'SMTSD'\n",
       "8. 'SMUBRID'\n",
       "9. 'SMTSISCH'\n",
       "10. 'SMTSPAX'\n",
       "11. 'SMNABTCH'\n",
       "12. 'SMNABTCHT'\n",
       "13. 'SMNABTCHD'\n",
       "14. 'SMGEBTCH'\n",
       "15. 'SMGEBTCHD'\n",
       "16. 'SMGEBTCHT'\n",
       "17. 'SMAFRZE'\n",
       "18. 'SMGTC'\n",
       "19. 'SME2MPRT'\n",
       "20. 'SMCHMPRS'\n",
       "21. 'SMNTRART'\n",
       "22. 'SMNUMGPS'\n",
       "23. 'SMMAPRT'\n",
       "24. 'SMEXNCRT'\n",
       "25. 'SM550NRM'\n",
       "26. 'SMGNSDTC'\n",
       "27. 'SMUNMPRT'\n",
       "28. 'SM350NRM'\n",
       "29. 'SMRDLGTH'\n",
       "30. 'SMMNCPB'\n",
       "31. 'SME1MMRT'\n",
       "32. 'SMSFLGTH'\n",
       "33. 'SMESTLBS'\n",
       "34. 'SMMPPD'\n",
       "35. 'SMNTERRT'\n",
       "36. 'SMRRNANM'\n",
       "37. 'SMRDTTL'\n",
       "38. 'SMVQCFL'\n",
       "39. 'SMMNCV'\n",
       "40. 'SMTRSCPT'\n",
       "41. 'SMMPPDPR'\n",
       "42. 'SMCGLGTH'\n",
       "43. 'SMGAPPCT'\n",
       "44. 'SMUNPDRD'\n",
       "45. 'SMNTRNRT'\n",
       "46. 'SMMPUNRT'\n",
       "47. 'SMEXPEFF'\n",
       "48. 'SMMPPDUN'\n",
       "49. 'SME2MMRT'\n",
       "50. 'SME2ANTI'\n",
       "51. 'SMALTALG'\n",
       "52. 'SME2SNSE'\n",
       "53. 'SMMFLGTH'\n",
       "54. 'SME1ANTI'\n",
       "55. 'SMSPLTRD'\n",
       "56. 'SMBSMMRT'\n",
       "57. 'SME1SNSE'\n",
       "58. 'SME1PCTS'\n",
       "59. 'SMRRNART'\n",
       "60. 'SME1MPRT'\n",
       "61. 'SMNUM5CD'\n",
       "62. 'SMDPMPRT'\n",
       "63. 'SME2PCTS'\n",
       "64. 'SUBJID'\n",
       "65. 'SEX'\n",
       "66. 'AGE'\n",
       "67. 'DTHHRDY'\n",
       "\n",
       "\n"
      ],
      "text/plain": [
       " [1] \"SAMPID\"    \"SMATSSCR\"  \"SMCENTER\"  \"SMPTHNTS\"  \"SMRIN\"     \"SMTS\"     \n",
       " [7] \"SMTSD\"     \"SMUBRID\"   \"SMTSISCH\"  \"SMTSPAX\"   \"SMNABTCH\"  \"SMNABTCHT\"\n",
       "[13] \"SMNABTCHD\" \"SMGEBTCH\"  \"SMGEBTCHD\" \"SMGEBTCHT\" \"SMAFRZE\"   \"SMGTC\"    \n",
       "[19] \"SME2MPRT\"  \"SMCHMPRS\"  \"SMNTRART\"  \"SMNUMGPS\"  \"SMMAPRT\"   \"SMEXNCRT\" \n",
       "[25] \"SM550NRM\"  \"SMGNSDTC\"  \"SMUNMPRT\"  \"SM350NRM\"  \"SMRDLGTH\"  \"SMMNCPB\"  \n",
       "[31] \"SME1MMRT\"  \"SMSFLGTH\"  \"SMESTLBS\"  \"SMMPPD\"    \"SMNTERRT\"  \"SMRRNANM\" \n",
       "[37] \"SMRDTTL\"   \"SMVQCFL\"   \"SMMNCV\"    \"SMTRSCPT\"  \"SMMPPDPR\"  \"SMCGLGTH\" \n",
       "[43] \"SMGAPPCT\"  \"SMUNPDRD\"  \"SMNTRNRT\"  \"SMMPUNRT\"  \"SMEXPEFF\"  \"SMMPPDUN\" \n",
       "[49] \"SME2MMRT\"  \"SME2ANTI\"  \"SMALTALG\"  \"SME2SNSE\"  \"SMMFLGTH\"  \"SME1ANTI\" \n",
       "[55] \"SMSPLTRD\"  \"SMBSMMRT\"  \"SME1SNSE\"  \"SME1PCTS\"  \"SMRRNART\"  \"SME1MPRT\" \n",
       "[61] \"SMNUM5CD\"  \"SMDPMPRT\"  \"SME2PCTS\"  \"SUBJID\"    \"SEX\"       \"AGE\"      \n",
       "[67] \"DTHHRDY\"  "
      ]
     },
     "metadata": {},
     "output_type": "display_data"
    }
   ],
   "source": [
    "phenotype_colnames <- colnames(pData(obj))\n",
    "phenotype_colnames"
   ]
  },
  {
   "cell_type": "markdown",
   "metadata": {},
   "source": [
    "Now we want to replace all *dashes* with _underscores_"
   ]
  },
  {
   "cell_type": "code",
   "execution_count": 10,
   "metadata": {},
   "outputs": [],
   "source": [
    "newSampID <- gsub('-','\\\\.',pData(obj)$SAMPID)"
   ]
  },
  {
   "cell_type": "code",
   "execution_count": 11,
   "metadata": {},
   "outputs": [
    {
     "data": {
      "text/html": [
       "<style>\n",
       ".list-inline {list-style: none; margin:0; padding: 0}\n",
       ".list-inline>li {display: inline-block}\n",
       ".list-inline>li:not(:last-child)::after {content: \"\\00b7\"; padding: 0 .5ex}\n",
       "</style>\n",
       "<ol class=list-inline><li>'GTEX.1117F.0226.SM.5GZZ7'</li><li>'GTEX.1117F.0426.SM.5EGHI'</li><li>'GTEX.1117F.0526.SM.5EGHJ'</li><li>'GTEX.1117F.0626.SM.5N9CS'</li><li>'GTEX.1117F.0726.SM.5GIEN'</li><li>'GTEX.1117F.1326.SM.5EGHH'</li></ol>\n"
      ],
      "text/latex": [
       "\\begin{enumerate*}\n",
       "\\item 'GTEX.1117F.0226.SM.5GZZ7'\n",
       "\\item 'GTEX.1117F.0426.SM.5EGHI'\n",
       "\\item 'GTEX.1117F.0526.SM.5EGHJ'\n",
       "\\item 'GTEX.1117F.0626.SM.5N9CS'\n",
       "\\item 'GTEX.1117F.0726.SM.5GIEN'\n",
       "\\item 'GTEX.1117F.1326.SM.5EGHH'\n",
       "\\end{enumerate*}\n"
      ],
      "text/markdown": [
       "1. 'GTEX.1117F.0226.SM.5GZZ7'\n",
       "2. 'GTEX.1117F.0426.SM.5EGHI'\n",
       "3. 'GTEX.1117F.0526.SM.5EGHJ'\n",
       "4. 'GTEX.1117F.0626.SM.5N9CS'\n",
       "5. 'GTEX.1117F.0726.SM.5GIEN'\n",
       "6. 'GTEX.1117F.1326.SM.5EGHH'\n",
       "\n",
       "\n"
      ],
      "text/plain": [
       "[1] \"GTEX.1117F.0226.SM.5GZZ7\" \"GTEX.1117F.0426.SM.5EGHI\"\n",
       "[3] \"GTEX.1117F.0526.SM.5EGHJ\" \"GTEX.1117F.0626.SM.5N9CS\"\n",
       "[5] \"GTEX.1117F.0726.SM.5GIEN\" \"GTEX.1117F.1326.SM.5EGHH\""
      ]
     },
     "metadata": {},
     "output_type": "display_data"
    }
   ],
   "source": [
    "head (newSampID)"
   ]
  },
  {
   "cell_type": "code",
   "execution_count": 12,
   "metadata": {},
   "outputs": [],
   "source": [
    "pData(obj)$SAMPID <- newSampID"
   ]
  },
  {
   "cell_type": "code",
   "execution_count": 13,
   "metadata": {},
   "outputs": [],
   "source": [
    "tissues <- pData(obj)$SMTS"
   ]
  },
  {
   "cell_type": "code",
   "execution_count": 19,
   "metadata": {},
   "outputs": [],
   "source": [
    "tissueFactors <- factor(tissues)"
   ]
  },
  {
   "cell_type": "code",
   "execution_count": 20,
   "metadata": {},
   "outputs": [
    {
     "data": {
      "text/plain": [
       "tissueFactors\n",
       " Adipose Tissue   Adrenal Gland         Bladder           Blood    Blood Vessel \n",
       "           1204             258              21             929            1335 \n",
       "          Brain          Breast    Cervix Uteri           Colon       Esophagus \n",
       "           2642             459              19             779            1445 \n",
       " Fallopian Tube           Heart          Kidney           Liver            Lung \n",
       "              9             861              89             226             578 \n",
       "         Muscle           Nerve           Ovary        Pancreas       Pituitary \n",
       "            803             619             180             328             283 \n",
       "       Prostate  Salivary Gland            Skin Small Intestine          Spleen \n",
       "            245             162            1810             187             241 \n",
       "        Stomach          Testis         Thyroid          Uterus          Vagina \n",
       "            360             361             653             142             156 "
      ]
     },
     "metadata": {},
     "output_type": "display_data"
    }
   ],
   "source": [
    "table(tissueFactors)"
   ]
  },
  {
   "cell_type": "code",
   "execution_count": 23,
   "metadata": {},
   "outputs": [],
   "source": [
    "# SEX is coded 1 == Male\n",
    "#              2 == Female\n",
    "sex <- pData(obj)$SEX\n",
    "age <- pData(obj)$AGE\n",
    "#cod <- cause of death\n",
    "cod <- pData(obj)$DTHHRDY\n",
    "    "
   ]
  },
  {
   "cell_type": "code",
   "execution_count": 27,
   "metadata": {},
   "outputs": [
    {
     "data": {
      "text/plain": [
       "sex\n",
       "    1     2 \n",
       "11584  5798 "
      ]
     },
     "metadata": {},
     "output_type": "display_data"
    },
    {
     "data": {
      "text/plain": [
       "age\n",
       "20-29 30-39 40-49 50-59 60-69 70-79 \n",
       " 1320  1323  2702  5615  5821   601 "
      ]
     },
     "metadata": {},
     "output_type": "display_data"
    },
    {
     "data": {
      "text/plain": [
       "cod\n",
       "   0    1    2    3    4 \n",
       "8814  711 4839  868 2039 "
      ]
     },
     "metadata": {},
     "output_type": "display_data"
    }
   ],
   "source": [
    "table(sex)\n",
    "table(age)\n",
    "table(cod)"
   ]
  },
  {
   "cell_type": "markdown",
   "metadata": {},
   "source": [
    "Now let us do the differential analysis - using EdgeR"
   ]
  },
  {
   "cell_type": "code",
   "execution_count": 28,
   "metadata": {},
   "outputs": [
    {
     "name": "stderr",
     "output_type": "stream",
     "text": [
      "Bioconductor version 3.10 (BiocManager 1.30.10), R 3.6.2 (2019-12-12)\n",
      "\n",
      "Installing package(s) 'edgeR'\n",
      "\n"
     ]
    },
    {
     "name": "stdout",
     "output_type": "stream",
     "text": [
      "\n",
      "The downloaded binary packages are in\n",
      "\t/var/folders/sl/j6tdl8q545xbms0g9zr90lhs6f4v9p/T//RtmpH6gz6a/downloaded_packages\n"
     ]
    }
   ],
   "source": [
    "BiocManager::install(\"edgeR\")"
   ]
  },
  {
   "cell_type": "code",
   "execution_count": 29,
   "metadata": {},
   "outputs": [
    {
     "name": "stderr",
     "output_type": "stream",
     "text": [
      "Loading required package: limma\n",
      "\n",
      "\n",
      "Attaching package: ‘limma’\n",
      "\n",
      "\n",
      "The following object is masked from ‘package:BiocGenerics’:\n",
      "\n",
      "    plotMA\n",
      "\n",
      "\n"
     ]
    }
   ],
   "source": [
    "library(edgeR)"
   ]
  },
  {
   "cell_type": "code",
   "execution_count": 38,
   "metadata": {},
   "outputs": [],
   "source": [
    "x <- exprs(obj)"
   ]
  },
  {
   "cell_type": "code",
   "execution_count": null,
   "metadata": {},
   "outputs": [],
   "source": [
    "dim(x)"
   ]
  },
  {
   "cell_type": "code",
   "execution_count": null,
   "metadata": {},
   "outputs": [],
   "source": [
    "To use the DGEList function from EdgeR, we need to transpose our x so that the length of group is equal\n",
    "to the number of columns in our counts (x)."
   ]
  },
  {
   "cell_type": "code",
   "execution_count": 39,
   "metadata": {},
   "outputs": [],
   "source": [
    "tx <- t(x)"
   ]
  },
  {
   "cell_type": "code",
   "execution_count": null,
   "metadata": {},
   "outputs": [],
   "source": [
    "dim(tx)"
   ]
  },
  {
   "cell_type": "code",
   "execution_count": null,
   "metadata": {},
   "outputs": [],
   "source": [
    "length(group)"
   ]
  },
  {
   "cell_type": "code",
   "execution_count": null,
   "metadata": {},
   "outputs": [],
   "source": [
    "dim(x)"
   ]
  },
  {
   "cell_type": "code",
   "execution_count": 36,
   "metadata": {},
   "outputs": [],
   "source": [
    "group <- factor(pData(obj)$SEX)"
   ]
  },
  {
   "cell_type": "code",
   "execution_count": null,
   "metadata": {},
   "outputs": [],
   "source": []
  },
  {
   "cell_type": "code",
   "execution_count": 37,
   "metadata": {},
   "outputs": [
    {
     "ename": "ERROR",
     "evalue": "Error in DGEList(counts = x, group = group): Length of 'group' must equal number of columns in 'counts'\n",
     "output_type": "error",
     "traceback": [
      "Error in DGEList(counts = x, group = group): Length of 'group' must equal number of columns in 'counts'\nTraceback:\n",
      "1. DGEList(counts = x, group = group)",
      "2. stop(\"Length of 'group' must equal number of columns in 'counts'\")"
     ]
    }
   ],
   "source": [
    "y <- DGEList(counts=x, group=group)"
   ]
  },
  {
   "cell_type": "code",
   "execution_count": null,
   "metadata": {},
   "outputs": [],
   "source": [
    "y <- calcNormFactors(y)"
   ]
  },
  {
   "cell_type": "code",
   "execution_count": null,
   "metadata": {},
   "outputs": [],
   "source": [
    "We only want to keep those events that are greater than the first quartile (25%),\n",
    "this is done using all non-zero (>1) events >= 0.25 min(table(pData(obj)$SEX))"
   ]
  },
  {
   "cell_type": "code",
   "execution_count": null,
   "metadata": {},
   "outputs": [],
   "source": [
    "==paste(unlist(strsplit(,'\\\\.'))[c(1,2)],collapse='.')"
   ]
  },
  {
   "cell_type": "code",
   "execution_count": 86,
   "metadata": {},
   "outputs": [
    {
     "data": {
      "text/html": [
       "<pre class=language-r><code>function (obj, groups, threshold = 1, minSamples = NULL, ...) \n",
       "{\n",
       "<span style=white-space:pre-wrap>    if (is.null(minSamples)) {</span>\n",
       "<span style=white-space:pre-wrap>        if (length(groups) == 1) {</span>\n",
       "<span style=white-space:pre-wrap>            minSamples &lt;- min(table(pData(obj)[, groups]))/2</span>\n",
       "<span style=white-space:pre-wrap>        }</span>\n",
       "<span style=white-space:pre-wrap>        else {</span>\n",
       "<span style=white-space:pre-wrap>            minSamples &lt;- min(table(groups))/2</span>\n",
       "<span style=white-space:pre-wrap>        }</span>\n",
       "<span style=white-space:pre-wrap>    }</span>\n",
       "<span style=white-space:pre-wrap>    counts &lt;- cpm(exprs(obj), ...)</span>\n",
       "<span style=white-space:pre-wrap>    keep &lt;- rowSums(counts &gt; threshold) &gt;= minSamples</span>\n",
       "<span style=white-space:pre-wrap>    obj &lt;- obj[keep, ]</span>\n",
       "<span style=white-space:pre-wrap>    obj</span>\n",
       "}</code></pre>"
      ],
      "text/latex": [
       "\\begin{minted}{r}\n",
       "function (obj, groups, threshold = 1, minSamples = NULL, ...) \n",
       "\\{\n",
       "    if (is.null(minSamples)) \\{\n",
       "        if (length(groups) == 1) \\{\n",
       "            minSamples <- min(table(pData(obj){[}, groups{]}))/2\n",
       "        \\}\n",
       "        else \\{\n",
       "            minSamples <- min(table(groups))/2\n",
       "        \\}\n",
       "    \\}\n",
       "    counts <- cpm(exprs(obj), ...)\n",
       "    keep <- rowSums(counts > threshold) >= minSamples\n",
       "    obj <- obj{[}keep, {]}\n",
       "    obj\n",
       "\\}\n",
       "\\end{minted}"
      ],
      "text/markdown": [
       "```r\n",
       "function (obj, groups, threshold = 1, minSamples = NULL, ...) \n",
       "{\n",
       "    if (is.null(minSamples)) {\n",
       "        if (length(groups) == 1) {\n",
       "            minSamples <- min(table(pData(obj)[, groups]))/2\n",
       "        }\n",
       "        else {\n",
       "            minSamples <- min(table(groups))/2\n",
       "        }\n",
       "    }\n",
       "    counts <- cpm(exprs(obj), ...)\n",
       "    keep <- rowSums(counts > threshold) >= minSamples\n",
       "    obj <- obj[keep, ]\n",
       "    obj\n",
       "}\n",
       "```"
      ],
      "text/plain": [
       "function (obj, groups, threshold = 1, minSamples = NULL, ...) \n",
       "{\n",
       "    if (is.null(minSamples)) {\n",
       "        if (length(groups) == 1) {\n",
       "            minSamples <- min(table(pData(obj)[, groups]))/2\n",
       "        }\n",
       "        else {\n",
       "            minSamples <- min(table(groups))/2\n",
       "        }\n",
       "    }\n",
       "    counts <- cpm(exprs(obj), ...)\n",
       "    keep <- rowSums(counts > threshold) >= minSamples\n",
       "    obj <- obj[keep, ]\n",
       "    obj\n",
       "}\n",
       "<bytecode: 0x7ffe5e51cdb0>\n",
       "<environment: namespace:yarn>"
      ]
     },
     "metadata": {},
     "output_type": "display_data"
    }
   ],
   "source": [
    " minSamples W min(table(pData(obj)[, groups]))/2"
   ]
  },
  {
   "cell_type": "code",
   "execution_count": 95,
   "metadata": {},
   "outputs": [],
   "source": [
    "filteredObj <- filterMissingGenes(obj)"
   ]
  },
  {
   "cell_type": "code",
   "execution_count": 100,
   "metadata": {},
   "outputs": [
    {
     "data": {
      "text/plain": [
       "\n",
       "    1     2 \n",
       "11584  5798 "
      ]
     },
     "metadata": {},
     "output_type": "display_data"
    }
   ],
   "source": [
    "table(pData(obj)[,'SEX'])"
   ]
  },
  {
   "cell_type": "code",
   "execution_count": 103,
   "metadata": {},
   "outputs": [
    {
     "data": {
      "text/html": [
       "<table>\n",
       "<caption>A data.frame: 6 × 3</caption>\n",
       "<thead>\n",
       "\t<tr><th></th><th scope=col>SAMPID</th><th scope=col>SMTS</th><th scope=col>SMTSD</th></tr>\n",
       "\t<tr><th></th><th scope=col>&lt;fct&gt;</th><th scope=col>&lt;fct&gt;</th><th scope=col>&lt;fct&gt;</th></tr>\n",
       "</thead>\n",
       "<tbody>\n",
       "\t<tr><th scope=row>GTEX-1117F-0226-SM-5GZZ7</th><td>GTEX-1117F-0226-SM-5GZZ7</td><td>Adipose Tissue</td><td>Adipose - Subcutaneous      </td></tr>\n",
       "\t<tr><th scope=row>GTEX-1117F-0426-SM-5EGHI</th><td>GTEX-1117F-0426-SM-5EGHI</td><td>Muscle        </td><td>Muscle - Skeletal           </td></tr>\n",
       "\t<tr><th scope=row>GTEX-1117F-0526-SM-5EGHJ</th><td>GTEX-1117F-0526-SM-5EGHJ</td><td>Blood Vessel  </td><td>Artery - Tibial             </td></tr>\n",
       "\t<tr><th scope=row>GTEX-1117F-0626-SM-5N9CS</th><td>GTEX-1117F-0626-SM-5N9CS</td><td>Blood Vessel  </td><td>Artery - Coronary           </td></tr>\n",
       "\t<tr><th scope=row>GTEX-1117F-0726-SM-5GIEN</th><td>GTEX-1117F-0726-SM-5GIEN</td><td>Heart         </td><td>Heart - Atrial Appendage    </td></tr>\n",
       "\t<tr><th scope=row>GTEX-1117F-1326-SM-5EGHH</th><td>GTEX-1117F-1326-SM-5EGHH</td><td>Adipose Tissue</td><td>Adipose - Visceral (Omentum)</td></tr>\n",
       "</tbody>\n",
       "</table>\n"
      ],
      "text/latex": [
       "A data.frame: 6 × 3\n",
       "\\begin{tabular}{r|lll}\n",
       "  & SAMPID & SMTS & SMTSD\\\\\n",
       "  & <fct> & <fct> & <fct>\\\\\n",
       "\\hline\n",
       "\tGTEX-1117F-0226-SM-5GZZ7 & GTEX-1117F-0226-SM-5GZZ7 & Adipose Tissue & Adipose - Subcutaneous      \\\\\n",
       "\tGTEX-1117F-0426-SM-5EGHI & GTEX-1117F-0426-SM-5EGHI & Muscle         & Muscle - Skeletal           \\\\\n",
       "\tGTEX-1117F-0526-SM-5EGHJ & GTEX-1117F-0526-SM-5EGHJ & Blood Vessel   & Artery - Tibial             \\\\\n",
       "\tGTEX-1117F-0626-SM-5N9CS & GTEX-1117F-0626-SM-5N9CS & Blood Vessel   & Artery - Coronary           \\\\\n",
       "\tGTEX-1117F-0726-SM-5GIEN & GTEX-1117F-0726-SM-5GIEN & Heart          & Heart - Atrial Appendage    \\\\\n",
       "\tGTEX-1117F-1326-SM-5EGHH & GTEX-1117F-1326-SM-5EGHH & Adipose Tissue & Adipose - Visceral (Omentum)\\\\\n",
       "\\end{tabular}\n"
      ],
      "text/markdown": [
       "\n",
       "A data.frame: 6 × 3\n",
       "\n",
       "| <!--/--> | SAMPID &lt;fct&gt; | SMTS &lt;fct&gt; | SMTSD &lt;fct&gt; |\n",
       "|---|---|---|---|\n",
       "| GTEX-1117F-0226-SM-5GZZ7 | GTEX-1117F-0226-SM-5GZZ7 | Adipose Tissue | Adipose - Subcutaneous       |\n",
       "| GTEX-1117F-0426-SM-5EGHI | GTEX-1117F-0426-SM-5EGHI | Muscle         | Muscle - Skeletal            |\n",
       "| GTEX-1117F-0526-SM-5EGHJ | GTEX-1117F-0526-SM-5EGHJ | Blood Vessel   | Artery - Tibial              |\n",
       "| GTEX-1117F-0626-SM-5N9CS | GTEX-1117F-0626-SM-5N9CS | Blood Vessel   | Artery - Coronary            |\n",
       "| GTEX-1117F-0726-SM-5GIEN | GTEX-1117F-0726-SM-5GIEN | Heart          | Heart - Atrial Appendage     |\n",
       "| GTEX-1117F-1326-SM-5EGHH | GTEX-1117F-1326-SM-5EGHH | Adipose Tissue | Adipose - Visceral (Omentum) |\n",
       "\n"
      ],
      "text/plain": [
       "                         SAMPID                   SMTS          \n",
       "GTEX-1117F-0226-SM-5GZZ7 GTEX-1117F-0226-SM-5GZZ7 Adipose Tissue\n",
       "GTEX-1117F-0426-SM-5EGHI GTEX-1117F-0426-SM-5EGHI Muscle        \n",
       "GTEX-1117F-0526-SM-5EGHJ GTEX-1117F-0526-SM-5EGHJ Blood Vessel  \n",
       "GTEX-1117F-0626-SM-5N9CS GTEX-1117F-0626-SM-5N9CS Blood Vessel  \n",
       "GTEX-1117F-0726-SM-5GIEN GTEX-1117F-0726-SM-5GIEN Heart         \n",
       "GTEX-1117F-1326-SM-5EGHH GTEX-1117F-1326-SM-5EGHH Adipose Tissue\n",
       "                         SMTSD                       \n",
       "GTEX-1117F-0226-SM-5GZZ7 Adipose - Subcutaneous      \n",
       "GTEX-1117F-0426-SM-5EGHI Muscle - Skeletal           \n",
       "GTEX-1117F-0526-SM-5EGHJ Artery - Tibial             \n",
       "GTEX-1117F-0626-SM-5N9CS Artery - Coronary           \n",
       "GTEX-1117F-0726-SM-5GIEN Heart - Atrial Appendage    \n",
       "GTEX-1117F-1326-SM-5EGHH Adipose - Visceral (Omentum)"
      ]
     },
     "metadata": {},
     "output_type": "display_data"
    }
   ],
   "source": [
    "head(pData(obj)[,c('SAMPID','SMTS','SMTSD')])"
   ]
  },
  {
   "cell_type": "code",
   "execution_count": 10,
   "metadata": {},
   "outputs": [
    {
     "data": {
      "image/png": "[encoded data removed]",
      "text/plain": [
       "plot without title"
      ]
     },
     "metadata": {
      "image/png": {
       "height": 420,
       "width": 420
      },
      "text/plain": {
       "height": 420,
       "width": 420
      }
     },
     "output_type": "display_data"
    }
   ],
   "source": [
    "checkMisAnnotation(skin,\"GENDER\",controlGenes=\"Y\",legendPosition=\"topleft\")"
   ]
  },
  {
   "cell_type": "markdown",
   "metadata": {},
   "source": [
    "Next, we are intrested in the Subject Phenotype information.\n",
    "A de-identified, open access version of the sample annotations available in dbGaP.\n",
    "\n",
    "These are found at the same location: *https://gtexportal.org/home/datasets*\n"
   ]
  },
  {
   "cell_type": "code",
   "execution_count": 21,
   "metadata": {},
   "outputs": [
    {
     "data": {
      "text/plain": [
       "$.__classVersion__\n",
       "            R       Biobase          eSet ExpressionSet \n",
       "      \"3.6.1\"      \"2.46.0\"       \"1.3.0\"       \"1.0.0\" \n",
       "\n",
       "$experimentData\n",
       "Experiment data\n",
       "  Experimenter name:  \n",
       "  Laboratory:  \n",
       "  Contact information:  \n",
       "  Title:  \n",
       "  URL:  \n",
       "  PMIDs:  \n",
       "  No abstract available.\n",
       "\n",
       "$assayData\n",
       "<environment: 0x7ffe642b6580>\n",
       "\n",
       "$phenoData\n",
       "An object of class 'AnnotatedDataFrame'\n",
       "  rowNames: GTEX-1117F-0226-SM-5GZZ7 GTEX-1117F-0426-SM-5EGHI ...\n",
       "    GTEX-YEC3-1426-101806-SM-5PNXX (17384 total)\n",
       "  varLabels: SAMPID SMATSSCR ... DTHHRDY (67 total)\n",
       "  varMetadata: labelDescription\n",
       "\n",
       "$featureData\n",
       "An object of class 'AnnotatedDataFrame'\n",
       "  featureNames: ENSG00000223972.5 ENSG00000227232.5 ...\n",
       "    ENSG00000210196.2 (55878 total)\n",
       "  varLabels: ensembl_gene_id hgnc_symbol ... gene_biotype (6 total)\n",
       "  varMetadata: labelDescription\n",
       "\n",
       "$annotation\n",
       "character(0)\n",
       "\n",
       "$protocolData\n",
       "An object of class 'AnnotatedDataFrame': none\n",
       "\n",
       "$class\n",
       "[1] \"ExpressionSet\"\n",
       "attr(,\"package\")\n",
       "[1] \"Biobase\"\n"
      ]
     },
     "metadata": {},
     "output_type": "display_data"
    }
   ],
   "source": [
    "attributes(obj)"
   ]
  },
  {
   "cell_type": "code",
   "execution_count": 22,
   "metadata": {},
   "outputs": [
    {
     "ename": "ERROR",
     "evalue": "Error in tissue(obj): could not find function \"tissue\"\n",
     "output_type": "error",
     "traceback": [
      "Error in tissue(obj): could not find function \"tissue\"\nTraceback:\n"
     ]
    }
   ],
   "source": []
  },
  {
   "cell_type": "code",
   "execution_count": 15,
   "metadata": {},
   "outputs": [],
   "source": [
    "gtex_pheno_url <- 'https://storage.googleapis.com/gtex_analysis_v8/annotations/GTEx_Analysis_v8_Annotations_SubjectPhenotypesDS.txt'\n",
    "gtex_pheno <-'data/GTEx_Analysis_v8_Annotations_SubjectPhenotypesDS.txt'\n",
    "download.file(gtex_pheno_url, destfile=gtex_pheno)"
   ]
  },
  {
   "cell_type": "code",
   "execution_count": 27,
   "metadata": {},
   "outputs": [
    {
     "data": {
      "text/html": [
       "<style>\n",
       ".list-inline {list-style: none; margin:0; padding: 0}\n",
       ".list-inline>li {display: inline-block}\n",
       ".list-inline>li:not(:last-child)::after {content: \"\\00b7\"; padding: 0 .5ex}\n",
       "</style>\n",
       "<ol class=list-inline><li>'Adipose - Subcutaneous'</li><li>'Brain - Frontal Cortex (BA9)'</li><li>'Thyroid'</li><li>'Lung'</li><li>'Whole Blood'</li><li>'Brain - Cerebellar Hemisphere'</li></ol>\n"
      ],
      "text/latex": [
       "\\begin{enumerate*}\n",
       "\\item 'Adipose - Subcutaneous'\n",
       "\\item 'Brain - Frontal Cortex (BA9)'\n",
       "\\item 'Thyroid'\n",
       "\\item 'Lung'\n",
       "\\item 'Whole Blood'\n",
       "\\item 'Brain - Cerebellar Hemisphere'\n",
       "\\end{enumerate*}\n"
      ],
      "text/markdown": [
       "1. 'Adipose - Subcutaneous'\n",
       "2. 'Brain - Frontal Cortex (BA9)'\n",
       "3. 'Thyroid'\n",
       "4. 'Lung'\n",
       "5. 'Whole Blood'\n",
       "6. 'Brain - Cerebellar Hemisphere'\n",
       "\n",
       "\n"
      ],
      "text/plain": [
       "[1] \"Adipose - Subcutaneous\"        \"Brain - Frontal Cortex (BA9)\" \n",
       "[3] \"Thyroid\"                       \"Lung\"                         \n",
       "[5] \"Whole Blood\"                   \"Brain - Cerebellar Hemisphere\""
      ]
     },
     "metadata": {},
     "output_type": "display_data"
    }
   ],
   "source": [
    "head(tissue.sets)"
   ]
  },
  {
   "cell_type": "code",
   "execution_count": 30,
   "metadata": {},
   "outputs": [],
   "source": [
    "colnames.expression.mat<-colnames(gene_counts.data)"
   ]
  },
  {
   "cell_type": "code",
   "execution_count": 32,
   "metadata": {},
   "outputs": [],
   "source": [
    "# replace all the dashes with with periods in sample names in the metadata file\n",
    "meta.data$biospecimen_repository_sample_id<-gsub('-','\\\\.',meta.data$biospecimen_repository_sample_id)\n"
   ]
  },
  {
   "cell_type": "code",
   "execution_count": 29,
   "metadata": {},
   "outputs": [
    {
     "name": "stdout",
     "output_type": "stream",
     "text": [
      "[1] \"Adipose - Subcutaneous\"\n",
      "[1] \"Brain - Frontal Cortex (BA9)\"\n",
      "[1] \"Thyroid\"\n",
      "[1] \"Lung\"\n",
      "[1] \"Whole Blood\"\n",
      "[1] \"Brain - Cerebellar Hemisphere\"\n",
      "[1] \"Artery - Tibial\"\n",
      "[1] \"Cells - EBV-transformed lymphocytes\"\n",
      "[1] \"Heart - Left Ventricle\"\n",
      "[1] \"Brain - Cortex\"\n",
      "[1] \"Muscle - Skeletal\"\n",
      "[1] \"Brain - Anterior cingulate cortex (BA24)\"\n",
      "[1] \"Brain - Substantia nigra\"\n",
      "[1] \"Skin - Sun Exposed (Lower leg)\"\n",
      "[1] \"Brain - Hypothalamus\"\n",
      "[1] \"Brain - Hippocampus\"\n",
      "[1] \"Brain - Caudate (basal ganglia)\"\n",
      "[1] \"Brain - Putamen (basal ganglia)\"\n",
      "[1] \"Brain - Spinal cord (cervical c-1)\"\n",
      "[1] \"Brain - Cerebellum\"\n",
      "[1] \"Brain - Nucleus accumbens (basal ganglia)\"\n",
      "[1] \"Cells - Leukemia cell line (CML)\"\n",
      "[1] \"Brain - Amygdala\"\n",
      "[1] \"Nerve - Tibial\"\n",
      "[1] \"Vagina\"\n",
      "[1] \"Stomach\"\n",
      "[1] \"Pancreas\"\n",
      "[1] \"Colon - Sigmoid\"\n",
      "[1] \"Skin - Not Sun Exposed (Suprapubic)\"\n",
      "[1] \"Heart - Atrial Appendage\"\n",
      "[1] \"Esophagus - Mucosa\"\n",
      "[1] \"Adrenal Gland\"\n",
      "[1] \"Breast - Mammary Tissue\"\n",
      "[1] \"Liver\"\n",
      "[1] \"Esophagus - Muscularis\"\n",
      "[1] \"Cells - Cultured fibroblasts\"\n",
      "[1] \"Prostate\"\n",
      "[1] \"Adipose - Visceral (Omentum)\"\n",
      "[1] \"Testis\"\n",
      "[1] \"Artery - Aorta\"\n",
      "[1] \"Pituitary\"\n",
      "[1] \"Artery - Coronary\"\n",
      "[1] \"Esophagus - Gastroesophageal Junction\"\n",
      "[1] \"Colon - Transverse\"\n",
      "[1] \"Spleen\"\n",
      "[1] \"Ovary\"\n",
      "[1] \"Uterus\"\n",
      "[1] \"Small Intestine - Terminal Ileum\"\n",
      "[1] \"Minor Salivary Gland\"\n",
      "[1] \"Kidney - Cortex\"\n",
      "[1] \"Fallopian Tube\"\n",
      "[1] \"Cervix - Endocervix\"\n",
      "[1] \"Bladder\"\n",
      "[1] \"Cervix - Ectocervix\"\n"
     ]
    }
   ],
   "source": [
    "for (tissue.set in tissue.sets) {\n",
    "#    print (tissue.set)\n",
    "\n",
    "    # extract and create an expression matrix from the released dataset\n",
    "    # skipping the header rows\n",
    "    # expression.mat<-read.table(gtex_gct, nrow=1,sep='\\t',header=T,skip=2)\n",
    "    # meta.data <- read.csv(dfile, header=FALSE)\n",
    "    \n",
    "    # if there is no data, skip and move on\n",
    "    if (length(table(meta.data$sex_s[meta.data$body_site %in% tissue.set]))==1)\n",
    "        next\n",
    "\n",
    "    # if there is no data, skip\n",
    "    if (sum(meta.data$body_site %in% tissue.set)==0)\n",
    "        next\n",
    "\n",
    "    for (col in colnames.expression.mat)\n",
    "        col.in.tissue<-c(col.in.tissue, \n",
    "                         (col %in% meta.data$biospecimen_repository_sample_id) && (meta.data$body_site[which(meta.data$biospecimen_repository_sample_id==col)] %in% tissue.set))\n",
    "    \n",
    "#    expression.mat<-read.table(gtex_gct, colClasses = ifelse(col.in.tissue,\"numeric\",\"NULL\"),sep='\\t',header=T,skip=2)\n",
    "\n",
    "    write.table(expression.mat,paste('data/expression',tissue.set,'.txt',sep=''),sep='\\t',quote = F)\n",
    "\n",
    "#}"
   ]
  },
  {
   "cell_type": "code",
   "execution_count": 25,
   "metadata": {},
   "outputs": [],
   "source": [
    "for (tissue.set in tissue.sets)\n",
    "{\n",
    "    print (tissue.set)\n",
    "  all.genes<-read.table(gtex_gct,sep='\\t',header=T,skip=2,colClasses = c(rep(\"character\", 2), rep(\"NULL\", 11688)))\n",
    "if (file.size(paste('data/expression',tissue.set,'.txt',sep=''))<=1)\n",
    "\n",
    "  next\n",
    "\n",
    "x <- read.delim(paste('data/expression',tissue.set,'.txt',sep=''))\n",
    "\n",
    "#x<-x[all.genes$Description %in% our.genes,]\n",
    "\n",
    "#all.genes<-all.genes[all.genes$Description %in% our.genes,2]\n",
    "\n",
    "x<-x[!duplicated(all.genes[,'Description']),]\n",
    "\n",
    "all.genes<-all.genes[!duplicated(all.genes[,'Description']),'Description']\n",
    "\n",
    "rownames(x)<-all.genes\n",
    "\n",
    "#meta.data<-read.table('/Users/karleg/Dimorph/2017December8GTExRNASeqSRARunTable.txt',sep='\\t',header=TRUE)\n",
    "\n",
    "#meta.data$Sample_Name_s<-gsub('-','\\\\.',meta.data$Sample_Name_s)\n",
    "\n",
    "#meta.data<-meta.data[meta.data$Sample_Name_s %in% colnames(x),]\n",
    "\n",
    "    \n",
    "pheno<-read.csv(gtex_pheno,sep='\\t')\n",
    "\n",
    "pheno$SUBJID<-gsub('-','\\\\.',pheno$SUBJID)\n",
    "\n",
    "sex<-c()  #the value 2 in the phenotypic data is the values that is 1 in design.  This value correslonds to female.\n",
    "\n",
    "age<-c()\n",
    "\n",
    "cod<-c()\n",
    "\n",
    "for (col in colnames(x))\n",
    "{\n",
    "  sex<-c(sex,pheno$SEX[which(pheno$SUBJID==paste(unlist(strsplit(col,'\\\\.'))[c(1,2)],collapse='.'))])\n",
    "\n",
    "  age<-c(age,pheno$AGE[which(pheno$SUBJID==paste(unlist(strsplit(col,'\\\\.'))[c(1,2)],collapse='.'))])\n",
    "\n",
    "  cod<-c(cod,pheno$DTHHRDY[which(pheno$SUBJID==paste(unlist(strsplit(col,'\\\\.'))[c(1,2)],collapse='.'))])\n",
    "\n",
    "}\n",
    "\n",
    "if (length(table(sex))==1)\n",
    "\n",
    "  next\n",
    "\n",
    "cod[is.na(cod)]=0\n",
    "#group <- meta.data$sex_s\n",
    "\n",
    "y <- DGEList(counts=x,group=factor(sex))\n",
    "\n",
    "y <- calcNormFactors(y)\n",
    "\n",
    "groups<-sex\n",
    "\n",
    "keep.events<-rep(T,nrow(y))\n",
    "\n",
    "for (group in c(1,2))\n",
    "\n",
    "  keep.events<-keep.events & (rowSums(cpm(y[,groups %in% group]) > 1) >= 0.25*min(table(groups)))\n",
    "\n",
    "if (sum(keep.events)==0)\n",
    "\n",
    "  next\n",
    "\n",
    "y<-y[keep.events,]  #if only using the logFC to compare with AS then do not screen\n",
    "\n",
    "design <- model.matrix(~factor(sex))\n",
    "\n",
    "v <- voom(y, design)\n",
    "\n",
    "fit <- lmFit(v, design)\n",
    "\n",
    "fit <- eBayes(fit, robust=TRUE)\n",
    "\n",
    "res=topTable(fit, coef='factor(sex)2',number=nrow(y))\n",
    "\n",
    "write.table(res,paste('data/DE_result_',tissue.set,'.txt',sep=''),sep='\\t',quote = F)\n",
    "\n",
    "}\n",
    "#edgeR\n",
    "\n",
    "#y <- estimateDisp(y,design)\n",
    "\n",
    "#fit <- glmFit(y,design)\n",
    "\n",
    "#lrt <- glmLRT(fit,coef='factor(sex)2')\n",
    "\n",
    "#hist(lrt$table$PValue)    "
   ]
  },
  {
   "cell_type": "code",
   "execution_count": null,
   "metadata": {},
   "outputs": [],
   "source": []
  }
 ],
 "metadata": {
  "kernelspec": {
   "display_name": "R",
   "language": "R",
   "name": "ir"
  },
  "language_info": {
   "codemirror_mode": "r",
   "file_extension": ".r",
   "mimetype": "text/x-r-source",
   "name": "R",
   "pygments_lexer": "r",
   "version": "3.6.2"
  }
 },
 "nbformat": 4,
 "nbformat_minor": 4
}
