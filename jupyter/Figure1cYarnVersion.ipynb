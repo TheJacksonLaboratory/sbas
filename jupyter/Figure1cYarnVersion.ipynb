{
 "cells": [
  {
   "cell_type": "markdown",
   "metadata": {},
   "source": [
    "# Figure 1C - YARN Normalization Version"
   ]
  },
  {
   "cell_type": "markdown",
   "metadata": {},
   "source": [
    "Heatplot representing similarity in the fold-changes between male and female samples, with the values in the heatmap being the correlation between the vectors of fold changes of the tissues</b>"
   ]
  },
  {
   "cell_type": "code",
   "execution_count": 1,
   "metadata": {},
   "outputs": [],
   "source": [
    "rm(list = ls())"
   ]
  },
  {
   "cell_type": "markdown",
   "metadata": {},
   "source": [
    "We downloaded the GTEx version 8.0 RNA-seq and genotype data (phs000424.v8.v2), released 2019-08-26.\n",
    "We used YARN (https://bioconductor.org/packages/release/bioc/html/yarn.html), uploading the downloadGTEx function\n",
    "to download this release, and used it to perform quality control, gene filtering and normalization pre-processing on the\n",
    "GTEx RNA-seq data, as described in (Paulson et al, 2017).   This pipelines tested for sample sex-misidentification, \n",
    "merged related sub-tissues, performed tissue-aware normalization using qsmooth (Hicks et al, 2017)."
   ]
  },
  {
   "cell_type": "code",
   "execution_count": 4,
   "metadata": {},
   "outputs": [],
   "source": [
    "#if (!requireNamespace(\"BiocManager\", quietly=TRUE))\n",
    "#    install.packages(\"BiocManager\")\n",
    "#BiocManager::install(\"yarn\")"
   ]
  },
  {
   "cell_type": "code",
   "execution_count": 5,
   "metadata": {},
   "outputs": [],
   "source": [
    "#BiocManager::install(\"downloader\")"
   ]
  },
  {
   "cell_type": "code",
   "execution_count": 6,
   "metadata": {},
   "outputs": [],
   "source": [
    "#BiocManager::install(\"readr\")"
   ]
  },
  {
   "cell_type": "code",
   "execution_count": 7,
   "metadata": {},
   "outputs": [],
   "source": [
    "#BiocManager::install(\"biomaRt\")"
   ]
  },
  {
   "cell_type": "markdown",
   "metadata": {},
   "source": [
    "Define a V8 of the function from YARN - wrote the author to make this perhaps version - or I guess I could update the package itself.\n",
    "THere were 3 lines to change for each of the source files"
   ]
  },
  {
   "cell_type": "code",
   "execution_count": 37,
   "metadata": {},
   "outputs": [],
   "source": [
    "downloadGTExV8=function (type = \"genes\", file = NULL, ...) \n",
    "{\n",
    "    phenoFile <- \"https://storage.googleapis.com/gtex_analysis_v8/annotations/GTEx_Analysis_v8_Annotations_SampleAttributesDS.txt\"\n",
    "    pheno2File <- \"https://storage.googleapis.com/gtex_analysis_v8/annotations/GTEx_Analysis_v8_Annotations_SubjectPhenotypesDS.txt\"\n",
    "    geneFile <- \"https://storage.googleapis.com/gtex_analysis_v8/rna_seq_data/GTEx_Analysis_2017-06-05_v8_RNASeQCv1.1.9_gene_reads.gct.gz\"\n",
    "    message(\"Downloading and reading files\")\n",
    "    pdFile <- tempfile(\"phenodat\", fileext = \".txt\")\n",
    "    download(phenoFile, destfile = pdFile)\n",
    "    pd <- read_tsv(pdFile)\n",
    "    pd <- as.matrix(pd)\n",
    "    rownames(pd) <- pd[, \"SAMPID\"]\n",
    "    ids <- sapply(strsplit(pd[, \"SAMPID\"], \"-\"), function(i) paste(i[1:2], \n",
    "        collapse = \"-\"))\n",
    "    pd2File <- tempfile(\"phenodat2\", fileext = \".txt\")\n",
    "    download(pheno2File, destfile = pd2File)\n",
    "    pd2 <- read_tsv(pd2File)\n",
    "    pd2 <- as.matrix(pd2)\n",
    "    rownames(pd2) <- pd2[, \"SUBJID\"]\n",
    "    pd2 <- pd2[which(rownames(pd2) %in% unique(ids)), ]\n",
    "    pd2 <- pd2[match(ids, rownames(pd2)), ]\n",
    "    rownames(pd2) <- colnames(counts)\n",
    "    pdfinal <- AnnotatedDataFrame(data.frame(cbind(pd, pd2)))\n",
    "    if (type == \"genes\") {\n",
    "        countsFile <- tempfile(\"counts\", fileext = \".gz\")\n",
    "        download(geneFile, destfile = countsFile)\n",
    "        cnts <- suppressWarnings(read_tsv(geneFile, skip = 2))\n",
    "        genes <- unlist(cnts[, 1])\n",
    "        geneNames <- unlist(cnts[, 2])\n",
    "        counts <- cnts[, -c(1:2)]\n",
    "        counts <- as.matrix(counts)\n",
    "        rownames(counts) <- genes\n",
    "        for (i in 1:nrow(problems(cnts))) {\n",
    "            counts[problems(cnts)$row[i], problems(cnts)$col[i]] <- 1e+05\n",
    "        }\n",
    "        throwAway <- which(rowSums(counts) == 0)\n",
    "        counts <- counts[-throwAway, ]\n",
    "        genes <- sub(\"\\\\..*\", \"\", rownames(counts))\n",
    "        host <- \"www.ensembl.org\"\n",
    "        biomart <- \"ENSEMBL_MART_ENSEMBL\"\n",
    "        dataset <- \"hsapiens_gene_ensembl\"\n",
    "        attributes <- c(\"ensembl_gene_id\", \"hgnc_symbol\", \"chromosome_name\", \n",
    "            \"start_position\", \"end_position\", \"gene_biotype\")\n",
    "    }\n",
    "    message(\"Creating ExpressionSet\")\n",
    "    pdfinal <- pdfinal[match(colnames(counts), rownames(pdfinal)), \n",
    "        ]\n",
    "    es <- ExpressionSet(as.matrix(counts))\n",
    "    phenoData(es) <- pdfinal\n",
    "    pData(es)[\"GTEX-YF7O-2326-101833-SM-5CVN9\", \"SMTS\"] <- \"Skin\"\n",
    "    pData(es)[\"GTEX-YEC3-1426-101806-SM-5PNXX\", \"SMTS\"] <- \"Stomach\"\n",
    "    message(\"Annotating from biomaRt\")\n",
    "    es <- annotateFromBiomart(obj = es, genes = genes, host = host, \n",
    "        biomart = biomart, dataset = dataset, attributes = attributes)\n",
    "    message(\"Cleaning up files\")\n",
    "    unlink(pdFile)\n",
    "    unlink(pd2File)\n",
    "    unlink(countsFile)\n",
    "    if (!is.null(file)) \n",
    "        saveRDS(es, file = file)\n",
    "    return(es)\n",
    "}\n"
   ]
  },
  {
   "cell_type": "code",
   "execution_count": null,
   "metadata": {},
   "outputs": [],
   "source": [
    "Begin here if you have already run this and created the data/gtex.rds file"
   ]
  },
  {
   "cell_type": "code",
   "execution_count": 9,
   "metadata": {},
   "outputs": [],
   "source": [
    "library(downloader)\n",
    "library(readr)\n",
    "library(biomaRt)\n",
    "library(yarn)"
   ]
  },
  {
   "cell_type": "code",
   "execution_count": 11,
   "metadata": {},
   "outputs": [
    {
     "data": {
      "text/html": [
       "'/Users/adeslat/Desktop/2020/2020Lifebit/rMATSPaperData/lifebitCloudOSDRE/jupyter'"
      ],
      "text/latex": [
       "'/Users/adeslat/Desktop/2020/2020Lifebit/rMATSPaperData/lifebitCloudOSDRE/jupyter'"
      ],
      "text/markdown": [
       "'/Users/adeslat/Desktop/2020/2020Lifebit/rMATSPaperData/lifebitCloudOSDRE/jupyter'"
      ],
      "text/plain": [
       "[1] \"/Users/adeslat/Desktop/2020/2020Lifebit/rMATSPaperData/lifebitCloudOSDRE/jupyter\""
      ]
     },
     "metadata": {},
     "output_type": "display_data"
    }
   ],
   "source": [
    "getwd()"
   ]
  },
  {
   "cell_type": "markdown",
   "metadata": {},
   "source": [
    "You may need to adjust your working directory -- the data subdirectory is relative to the lifebitCloudOSDRE working directory"
   ]
  },
  {
   "cell_type": "code",
   "execution_count": 12,
   "metadata": {},
   "outputs": [],
   "source": [
    "#obj <- downloadGTExV8(type='genes',file='data/gtex.rds')"
   ]
  },
  {
   "cell_type": "code",
   "execution_count": 13,
   "metadata": {},
   "outputs": [],
   "source": [
    "setwd(\"../\")\n",
    "obj<-readRDS('data/gtex.rds')"
   ]
  },
  {
   "cell_type": "code",
   "execution_count": 14,
   "metadata": {},
   "outputs": [
    {
     "data": {
      "text/plain": [
       "ExpressionSet (storageMode: lockedEnvironment)\n",
       "assayData: 55878 features, 17382 samples \n",
       "  element names: exprs \n",
       "protocolData: none\n",
       "phenoData\n",
       "  rowNames: GTEX-1117F-0226-SM-5GZZ7 GTEX-1117F-0426-SM-5EGHI ...\n",
       "    GTEX-YEC3-1426-101806-SM-5PNXX (17384 total)\n",
       "  varLabels: SAMPID SMATSSCR ... DTHHRDY (67 total)\n",
       "  varMetadata: labelDescription\n",
       "featureData\n",
       "  featureNames: ENSG00000223972.5 ENSG00000227232.5 ...\n",
       "    ENSG00000210196.2 (55878 total)\n",
       "  fvarLabels: ensembl_gene_id hgnc_symbol ... gene_biotype (6 total)\n",
       "  fvarMetadata: labelDescription\n",
       "experimentData: use 'experimentData(object)'\n",
       "Annotation:  "
      ]
     },
     "metadata": {},
     "output_type": "display_data"
    }
   ],
   "source": [
    "obj"
   ]
  },
  {
   "cell_type": "code",
   "execution_count": 15,
   "metadata": {},
   "outputs": [],
   "source": [
    "tissues <- pData(obj)$SMTS"
   ]
  },
  {
   "cell_type": "code",
   "execution_count": 36,
   "metadata": {},
   "outputs": [
    {
     "data": {
      "text/html": [
       "<style>\n",
       ".list-inline {list-style: none; margin:0; padding: 0}\n",
       ".list-inline>li {display: inline-block}\n",
       ".list-inline>li:not(:last-child)::after {content: \"\\00b7\"; padding: 0 .5ex}\n",
       "</style>\n",
       "<ol class=list-inline><li>17384</li><li>67</li></ol>\n"
      ],
      "text/latex": [
       "\\begin{enumerate*}\n",
       "\\item 17384\n",
       "\\item 67\n",
       "\\end{enumerate*}\n"
      ],
      "text/markdown": [
       "1. 17384\n",
       "2. 67\n",
       "\n",
       "\n"
      ],
      "text/plain": [
       "[1] 17384    67"
      ]
     },
     "metadata": {},
     "output_type": "display_data"
    }
   ],
   "source": [
    "dim(pData(obj))"
   ]
  },
  {
   "cell_type": "code",
   "execution_count": 38,
   "metadata": {},
   "outputs": [
    {
     "data": {
      "text/html": [
       "<style>\n",
       ".dl-inline {width: auto; margin:0; padding: 0}\n",
       ".dl-inline>dt, .dl-inline>dd {float: none; width: auto; display: inline-block}\n",
       ".dl-inline>dt::after {content: \":\\0020\"; padding-right: .5ex}\n",
       ".dl-inline>dt:not(:first-of-type) {padding-left: .5ex}\n",
       "</style><dl class=dl-inline><dt>Features</dt><dd>55878</dd><dt>Samples</dt><dd>17382</dd></dl>\n"
      ],
      "text/latex": [
       "\\begin{description*}\n",
       "\\item[Features] 55878\n",
       "\\item[Samples] 17382\n",
       "\\end{description*}\n"
      ],
      "text/markdown": [
       "Features\n",
       ":   55878Samples\n",
       ":   17382\n",
       "\n"
      ],
      "text/plain": [
       "Features  Samples \n",
       "   55878    17382 "
      ]
     },
     "metadata": {},
     "output_type": "display_data"
    }
   ],
   "source": [
    "dim(obj)"
   ]
  },
  {
   "cell_type": "code",
   "execution_count": 55,
   "metadata": {},
   "outputs": [
    {
     "data": {
      "text/html": [
       "<style>\n",
       ".list-inline {list-style: none; margin:0; padding: 0}\n",
       ".list-inline>li {display: inline-block}\n",
       ".list-inline>li:not(:last-child)::after {content: \"\\00b7\"; padding: 0 .5ex}\n",
       "</style>\n",
       "<ol class=list-inline><li>'GTEX-1117F-0226-SM-5GZZ7'</li><li>'GTEX-1117F-0426-SM-5EGHI'</li><li>'GTEX-1117F-0526-SM-5EGHJ'</li><li>'GTEX-1117F-0626-SM-5N9CS'</li><li>'GTEX-1117F-0726-SM-5GIEN'</li><li>'GTEX-1117F-1326-SM-5EGHH'</li></ol>\n"
      ],
      "text/latex": [
       "\\begin{enumerate*}\n",
       "\\item 'GTEX-1117F-0226-SM-5GZZ7'\n",
       "\\item 'GTEX-1117F-0426-SM-5EGHI'\n",
       "\\item 'GTEX-1117F-0526-SM-5EGHJ'\n",
       "\\item 'GTEX-1117F-0626-SM-5N9CS'\n",
       "\\item 'GTEX-1117F-0726-SM-5GIEN'\n",
       "\\item 'GTEX-1117F-1326-SM-5EGHH'\n",
       "\\end{enumerate*}\n"
      ],
      "text/markdown": [
       "1. 'GTEX-1117F-0226-SM-5GZZ7'\n",
       "2. 'GTEX-1117F-0426-SM-5EGHI'\n",
       "3. 'GTEX-1117F-0526-SM-5EGHJ'\n",
       "4. 'GTEX-1117F-0626-SM-5N9CS'\n",
       "5. 'GTEX-1117F-0726-SM-5GIEN'\n",
       "6. 'GTEX-1117F-1326-SM-5EGHH'\n",
       "\n",
       "\n"
      ],
      "text/plain": [
       "[1] \"GTEX-1117F-0226-SM-5GZZ7\" \"GTEX-1117F-0426-SM-5EGHI\"\n",
       "[3] \"GTEX-1117F-0526-SM-5EGHJ\" \"GTEX-1117F-0626-SM-5N9CS\"\n",
       "[5] \"GTEX-1117F-0726-SM-5GIEN\" \"GTEX-1117F-1326-SM-5EGHH\""
      ]
     },
     "metadata": {},
     "output_type": "display_data"
    },
    {
     "data": {
      "text/html": [
       "17382"
      ],
      "text/latex": [
       "17382"
      ],
      "text/markdown": [
       "17382"
      ],
      "text/plain": [
       "[1] 17382"
      ]
     },
     "metadata": {},
     "output_type": "display_data"
    }
   ],
   "source": [
    "sample_names=as.vector(as.character(colnames(exprs(obj))))\n",
    "head(sample_names)\n",
    "length(sample_names)"
   ]
  },
  {
   "cell_type": "code",
   "execution_count": 56,
   "metadata": {},
   "outputs": [
    {
     "data": {
      "text/html": [
       "<style>\n",
       ".list-inline {list-style: none; margin:0; padding: 0}\n",
       ".list-inline>li {display: inline-block}\n",
       ".list-inline>li:not(:last-child)::after {content: \"\\00b7\"; padding: 0 .5ex}\n",
       "</style>\n",
       "<ol class=list-inline><li>'GTEX-1117F-0226-SM-5GZZ7'</li><li>'GTEX-1117F-0426-SM-5EGHI'</li><li>'GTEX-1117F-0526-SM-5EGHJ'</li><li>'GTEX-1117F-0626-SM-5N9CS'</li><li>'GTEX-1117F-0726-SM-5GIEN'</li><li>'GTEX-1117F-1326-SM-5EGHH'</li></ol>\n"
      ],
      "text/latex": [
       "\\begin{enumerate*}\n",
       "\\item 'GTEX-1117F-0226-SM-5GZZ7'\n",
       "\\item 'GTEX-1117F-0426-SM-5EGHI'\n",
       "\\item 'GTEX-1117F-0526-SM-5EGHJ'\n",
       "\\item 'GTEX-1117F-0626-SM-5N9CS'\n",
       "\\item 'GTEX-1117F-0726-SM-5GIEN'\n",
       "\\item 'GTEX-1117F-1326-SM-5EGHH'\n",
       "\\end{enumerate*}\n"
      ],
      "text/markdown": [
       "1. 'GTEX-1117F-0226-SM-5GZZ7'\n",
       "2. 'GTEX-1117F-0426-SM-5EGHI'\n",
       "3. 'GTEX-1117F-0526-SM-5EGHJ'\n",
       "4. 'GTEX-1117F-0626-SM-5N9CS'\n",
       "5. 'GTEX-1117F-0726-SM-5GIEN'\n",
       "6. 'GTEX-1117F-1326-SM-5EGHH'\n",
       "\n",
       "\n"
      ],
      "text/plain": [
       "[1] \"GTEX-1117F-0226-SM-5GZZ7\" \"GTEX-1117F-0426-SM-5EGHI\"\n",
       "[3] \"GTEX-1117F-0526-SM-5EGHJ\" \"GTEX-1117F-0626-SM-5N9CS\"\n",
       "[5] \"GTEX-1117F-0726-SM-5GIEN\" \"GTEX-1117F-1326-SM-5EGHH\""
      ]
     },
     "metadata": {},
     "output_type": "display_data"
    },
    {
     "data": {
      "text/html": [
       "17384"
      ],
      "text/latex": [
       "17384"
      ],
      "text/markdown": [
       "17384"
      ],
      "text/plain": [
       "[1] 17384"
      ]
     },
     "metadata": {},
     "output_type": "display_data"
    }
   ],
   "source": [
    "pheno_sample_names=as.vector(as.character(rownames(pData(obj))))\n",
    "head(pheno_sample_names)\n",
    "length(pheno_sample_names)"
   ]
  },
  {
   "cell_type": "markdown",
   "metadata": {},
   "source": [
    "Okay - for some reason our phenotype data is larger than our expression data - I've written Joe Paulson about that.\n",
    "In the meantime, make sure that the two sets are aligned."
   ]
  },
  {
   "cell_type": "code",
   "execution_count": 69,
   "metadata": {},
   "outputs": [
    {
     "data": {
      "text/html": [
       "17382"
      ],
      "text/latex": [
       "17382"
      ],
      "text/markdown": [
       "17382"
      ],
      "text/plain": [
       "[1] 17382"
      ]
     },
     "metadata": {},
     "output_type": "display_data"
    }
   ],
   "source": [
    "logical_match_names=pheno_sample_names %in% sample_names\n",
    "length(logical_match_names)"
   ]
  },
  {
   "cell_type": "code",
   "execution_count": 70,
   "metadata": {},
   "outputs": [
    {
     "data": {
      "text/plain": [
       "logical_match_names\n",
       " TRUE \n",
       "17382 "
      ]
     },
     "metadata": {},
     "output_type": "display_data"
    }
   ],
   "source": [
    "table(logical_match_names)\n"
   ]
  },
  {
   "cell_type": "code",
   "execution_count": 71,
   "metadata": {},
   "outputs": [],
   "source": [
    "pData(obj) <- (pData(obj)[logical_match_names==TRUE,])"
   ]
  },
  {
   "cell_type": "markdown",
   "metadata": {},
   "source": [
    "Now we want to replace all *dashes* with _underscores_"
   ]
  },
  {
   "cell_type": "code",
   "execution_count": 72,
   "metadata": {},
   "outputs": [],
   "source": [
    "newSampID <- gsub('-','\\\\.',pData(obj)$SAMPID)"
   ]
  },
  {
   "cell_type": "code",
   "execution_count": 73,
   "metadata": {},
   "outputs": [
    {
     "data": {
      "text/html": [
       "<style>\n",
       ".list-inline {list-style: none; margin:0; padding: 0}\n",
       ".list-inline>li {display: inline-block}\n",
       ".list-inline>li:not(:last-child)::after {content: \"\\00b7\"; padding: 0 .5ex}\n",
       "</style>\n",
       "<ol class=list-inline><li>'GTEX.1117F.0226.SM.5GZZ7'</li><li>'GTEX.1117F.0426.SM.5EGHI'</li><li>'GTEX.1117F.0526.SM.5EGHJ'</li><li>'GTEX.1117F.0626.SM.5N9CS'</li><li>'GTEX.1117F.0726.SM.5GIEN'</li><li>'GTEX.1117F.1326.SM.5EGHH'</li></ol>\n"
      ],
      "text/latex": [
       "\\begin{enumerate*}\n",
       "\\item 'GTEX.1117F.0226.SM.5GZZ7'\n",
       "\\item 'GTEX.1117F.0426.SM.5EGHI'\n",
       "\\item 'GTEX.1117F.0526.SM.5EGHJ'\n",
       "\\item 'GTEX.1117F.0626.SM.5N9CS'\n",
       "\\item 'GTEX.1117F.0726.SM.5GIEN'\n",
       "\\item 'GTEX.1117F.1326.SM.5EGHH'\n",
       "\\end{enumerate*}\n"
      ],
      "text/markdown": [
       "1. 'GTEX.1117F.0226.SM.5GZZ7'\n",
       "2. 'GTEX.1117F.0426.SM.5EGHI'\n",
       "3. 'GTEX.1117F.0526.SM.5EGHJ'\n",
       "4. 'GTEX.1117F.0626.SM.5N9CS'\n",
       "5. 'GTEX.1117F.0726.SM.5GIEN'\n",
       "6. 'GTEX.1117F.1326.SM.5EGHH'\n",
       "\n",
       "\n"
      ],
      "text/plain": [
       "[1] \"GTEX.1117F.0226.SM.5GZZ7\" \"GTEX.1117F.0426.SM.5EGHI\"\n",
       "[3] \"GTEX.1117F.0526.SM.5EGHJ\" \"GTEX.1117F.0626.SM.5N9CS\"\n",
       "[5] \"GTEX.1117F.0726.SM.5GIEN\" \"GTEX.1117F.1326.SM.5EGHH\""
      ]
     },
     "metadata": {},
     "output_type": "display_data"
    }
   ],
   "source": [
    "head (newSampID)"
   ]
  },
  {
   "cell_type": "code",
   "execution_count": 74,
   "metadata": {},
   "outputs": [],
   "source": [
    "pData(obj)$SAMPID <- newSampID"
   ]
  },
  {
   "cell_type": "code",
   "execution_count": 75,
   "metadata": {},
   "outputs": [],
   "source": [
    "tissueFactors <- factor(tissues)"
   ]
  },
  {
   "cell_type": "code",
   "execution_count": 76,
   "metadata": {},
   "outputs": [
    {
     "data": {
      "text/plain": [
       "tissueFactors\n",
       " Adipose Tissue   Adrenal Gland         Bladder           Blood    Blood Vessel \n",
       "           1204             258              21             929            1335 \n",
       "          Brain          Breast    Cervix Uteri           Colon       Esophagus \n",
       "           2642             459              19             779            1445 \n",
       " Fallopian Tube           Heart          Kidney           Liver            Lung \n",
       "              9             861              89             226             578 \n",
       "         Muscle           Nerve           Ovary        Pancreas       Pituitary \n",
       "            803             619             180             328             283 \n",
       "       Prostate  Salivary Gland            Skin Small Intestine          Spleen \n",
       "            245             162            1810             187             241 \n",
       "        Stomach          Testis         Thyroid          Uterus          Vagina \n",
       "            360             361             653             142             156 "
      ]
     },
     "metadata": {},
     "output_type": "display_data"
    }
   ],
   "source": [
    "table(tissueFactors)"
   ]
  },
  {
   "cell_type": "code",
   "execution_count": 77,
   "metadata": {},
   "outputs": [],
   "source": [
    "# SEX is coded 1 == Male\n",
    "#              2 == Female\n",
    "sex <- pData(obj)$SEX\n",
    "age <- pData(obj)$AGE\n",
    "#cod <- cause of death\n",
    "cod <- pData(obj)$DTHHRDY\n",
    "    "
   ]
  },
  {
   "cell_type": "code",
   "execution_count": 78,
   "metadata": {},
   "outputs": [
    {
     "data": {
      "text/plain": [
       "sex\n",
       "    1     2 \n",
       "11584  5798 "
      ]
     },
     "metadata": {},
     "output_type": "display_data"
    },
    {
     "data": {
      "text/plain": [
       "age\n",
       "20-29 30-39 40-49 50-59 60-69 70-79 \n",
       " 1320  1323  2702  5615  5821   601 "
      ]
     },
     "metadata": {},
     "output_type": "display_data"
    },
    {
     "data": {
      "text/plain": [
       "cod\n",
       "   0    1    2    3    4 \n",
       "8814  711 4839  868 2039 "
      ]
     },
     "metadata": {},
     "output_type": "display_data"
    }
   ],
   "source": [
    "table(sex)\n",
    "table(age)\n",
    "table(cod)"
   ]
  },
  {
   "cell_type": "markdown",
   "metadata": {},
   "source": [
    "Now let us do the differential analysis - using EdgeR"
   ]
  },
  {
   "cell_type": "code",
   "execution_count": 79,
   "metadata": {},
   "outputs": [],
   "source": [
    "#BiocManager::install(\"edgeR\")\n",
    "library(edgeR)"
   ]
  },
  {
   "cell_type": "code",
   "execution_count": 80,
   "metadata": {},
   "outputs": [],
   "source": [
    "x <- exprs(obj)"
   ]
  },
  {
   "cell_type": "code",
   "execution_count": 81,
   "metadata": {},
   "outputs": [
    {
     "data": {
      "text/html": [
       "<style>\n",
       ".list-inline {list-style: none; margin:0; padding: 0}\n",
       ".list-inline>li {display: inline-block}\n",
       ".list-inline>li:not(:last-child)::after {content: \"\\00b7\"; padding: 0 .5ex}\n",
       "</style>\n",
       "<ol class=list-inline><li>55878</li><li>17382</li></ol>\n"
      ],
      "text/latex": [
       "\\begin{enumerate*}\n",
       "\\item 55878\n",
       "\\item 17382\n",
       "\\end{enumerate*}\n"
      ],
      "text/markdown": [
       "1. 55878\n",
       "2. 17382\n",
       "\n",
       "\n"
      ],
      "text/plain": [
       "[1] 55878 17382"
      ]
     },
     "metadata": {},
     "output_type": "display_data"
    }
   ],
   "source": [
    "dim(x)"
   ]
  },
  {
   "cell_type": "markdown",
   "metadata": {},
   "source": [
    "To use the DGEList function from EdgeR, we need to transpose our x so that the length of group is equal\n",
    "to the number of columns in our counts (x).\n",
    "\n",
    "You will get an error in DGEList (counts = x, group = group) if the length of group is not equal to the number of columns in counts"
   ]
  },
  {
   "cell_type": "code",
   "execution_count": 82,
   "metadata": {},
   "outputs": [],
   "source": [
    "group <- factor(pData(obj)$SEX)"
   ]
  },
  {
   "cell_type": "code",
   "execution_count": 84,
   "metadata": {},
   "outputs": [],
   "source": [
    "y <- DGEList(counts=x, group=group)"
   ]
  },
  {
   "cell_type": "code",
   "execution_count": 86,
   "metadata": {},
   "outputs": [
    {
     "ename": "ERROR",
     "evalue": "Error: vector memory exhausted (limit reached?)\n",
     "output_type": "error",
     "traceback": [
      "Error: vector memory exhausted (limit reached?)\nTraceback:\n",
      "1. calcNormFactors(y)",
      "2. calcNormFactors.DGEList(y)",
      "3. calcNormFactors(object = object$counts, lib.size = object$samples$lib.size, \n .     method = method, refColumn = refColumn, logratioTrim = logratioTrim, \n .     sumTrim = sumTrim, doWeighting = doWeighting, Acutoff = Acutoff, \n .     p = p)",
      "4. calcNormFactors.default(object = object$counts, lib.size = object$samples$lib.size, \n .     method = method, refColumn = refColumn, logratioTrim = logratioTrim, \n .     sumTrim = sumTrim, doWeighting = doWeighting, Acutoff = Acutoff, \n .     p = p)",
      "5. .calcFactorQuantile(data = x, lib.size = lib.size, p = 0.75)",
      "6. t(t(data)/lib.size)",
      "7. t.default(t(data)/lib.size)"
     ]
    }
   ],
   "source": [
    "y <- calcNormFactors(y)"
   ]
  },
  {
   "cell_type": "code",
   "execution_count": null,
   "metadata": {},
   "outputs": [],
   "source": [
    "We only want to keep those events that are greater than the first quartile (25%),\n",
    "this is done using all non-zero (>1) events >= 0.25 min(table(pData(obj)$SEX))"
   ]
  },
  {
   "cell_type": "code",
   "execution_count": null,
   "metadata": {},
   "outputs": [],
   "source": [
    "==paste(unlist(strsplit(,'\\\\.'))[c(1,2)],collapse='.')"
   ]
  },
  {
   "cell_type": "code",
   "execution_count": 86,
   "metadata": {},
   "outputs": [
    {
     "data": {
      "text/html": [
       "<pre class=language-r><code>function (obj, groups, threshold = 1, minSamples = NULL, ...) \n",
       "{\n",
       "<span style=white-space:pre-wrap>    if (is.null(minSamples)) {</span>\n",
       "<span style=white-space:pre-wrap>        if (length(groups) == 1) {</span>\n",
       "<span style=white-space:pre-wrap>            minSamples &lt;- min(table(pData(obj)[, groups]))/2</span>\n",
       "<span style=white-space:pre-wrap>        }</span>\n",
       "<span style=white-space:pre-wrap>        else {</span>\n",
       "<span style=white-space:pre-wrap>            minSamples &lt;- min(table(groups))/2</span>\n",
       "<span style=white-space:pre-wrap>        }</span>\n",
       "<span style=white-space:pre-wrap>    }</span>\n",
       "<span style=white-space:pre-wrap>    counts &lt;- cpm(exprs(obj), ...)</span>\n",
       "<span style=white-space:pre-wrap>    keep &lt;- rowSums(counts &gt; threshold) &gt;= minSamples</span>\n",
       "<span style=white-space:pre-wrap>    obj &lt;- obj[keep, ]</span>\n",
       "<span style=white-space:pre-wrap>    obj</span>\n",
       "}</code></pre>"
      ],
      "text/latex": [
       "\\begin{minted}{r}\n",
       "function (obj, groups, threshold = 1, minSamples = NULL, ...) \n",
       "\\{\n",
       "    if (is.null(minSamples)) \\{\n",
       "        if (length(groups) == 1) \\{\n",
       "            minSamples <- min(table(pData(obj){[}, groups{]}))/2\n",
       "        \\}\n",
       "        else \\{\n",
       "            minSamples <- min(table(groups))/2\n",
       "        \\}\n",
       "    \\}\n",
       "    counts <- cpm(exprs(obj), ...)\n",
       "    keep <- rowSums(counts > threshold) >= minSamples\n",
       "    obj <- obj{[}keep, {]}\n",
       "    obj\n",
       "\\}\n",
       "\\end{minted}"
      ],
      "text/markdown": [
       "```r\n",
       "function (obj, groups, threshold = 1, minSamples = NULL, ...) \n",
       "{\n",
       "    if (is.null(minSamples)) {\n",
       "        if (length(groups) == 1) {\n",
       "            minSamples <- min(table(pData(obj)[, groups]))/2\n",
       "        }\n",
       "        else {\n",
       "            minSamples <- min(table(groups))/2\n",
       "        }\n",
       "    }\n",
       "    counts <- cpm(exprs(obj), ...)\n",
       "    keep <- rowSums(counts > threshold) >= minSamples\n",
       "    obj <- obj[keep, ]\n",
       "    obj\n",
       "}\n",
       "```"
      ],
      "text/plain": [
       "function (obj, groups, threshold = 1, minSamples = NULL, ...) \n",
       "{\n",
       "    if (is.null(minSamples)) {\n",
       "        if (length(groups) == 1) {\n",
       "            minSamples <- min(table(pData(obj)[, groups]))/2\n",
       "        }\n",
       "        else {\n",
       "            minSamples <- min(table(groups))/2\n",
       "        }\n",
       "    }\n",
       "    counts <- cpm(exprs(obj), ...)\n",
       "    keep <- rowSums(counts > threshold) >= minSamples\n",
       "    obj <- obj[keep, ]\n",
       "    obj\n",
       "}\n",
       "<bytecode: 0x7ffe5e51cdb0>\n",
       "<environment: namespace:yarn>"
      ]
     },
     "metadata": {},
     "output_type": "display_data"
    }
   ],
   "source": [
    " minSamples W min(table(pData(obj)[, groups]))/2"
   ]
  },
  {
   "cell_type": "code",
   "execution_count": 95,
   "metadata": {},
   "outputs": [],
   "source": [
    "filteredObj <- filterMissingGenes(obj)"
   ]
  },
  {
   "cell_type": "code",
   "execution_count": 100,
   "metadata": {},
   "outputs": [
    {
     "data": {
      "text/plain": [
       "\n",
       "    1     2 \n",
       "11584  5798 "
      ]
     },
     "metadata": {},
     "output_type": "display_data"
    }
   ],
   "source": [
    "table(pData(obj)[,'SEX'])"
   ]
  },
  {
   "cell_type": "markdown",
   "metadata": {},
   "source": [
    "Next, we are intrested in the Subject Phenotype information.\n",
    "A de-identified, open access version of the sample annotations available in dbGaP.\n",
    "\n",
    "These are found at the same location: *https://gtexportal.org/home/datasets*\n"
   ]
  },
  {
   "cell_type": "code",
   "execution_count": 21,
   "metadata": {},
   "outputs": [
    {
     "data": {
      "text/plain": [
       "$.__classVersion__\n",
       "            R       Biobase          eSet ExpressionSet \n",
       "      \"3.6.1\"      \"2.46.0\"       \"1.3.0\"       \"1.0.0\" \n",
       "\n",
       "$experimentData\n",
       "Experiment data\n",
       "  Experimenter name:  \n",
       "  Laboratory:  \n",
       "  Contact information:  \n",
       "  Title:  \n",
       "  URL:  \n",
       "  PMIDs:  \n",
       "  No abstract available.\n",
       "\n",
       "$assayData\n",
       "<environment: 0x7ffe642b6580>\n",
       "\n",
       "$phenoData\n",
       "An object of class 'AnnotatedDataFrame'\n",
       "  rowNames: GTEX-1117F-0226-SM-5GZZ7 GTEX-1117F-0426-SM-5EGHI ...\n",
       "    GTEX-YEC3-1426-101806-SM-5PNXX (17384 total)\n",
       "  varLabels: SAMPID SMATSSCR ... DTHHRDY (67 total)\n",
       "  varMetadata: labelDescription\n",
       "\n",
       "$featureData\n",
       "An object of class 'AnnotatedDataFrame'\n",
       "  featureNames: ENSG00000223972.5 ENSG00000227232.5 ...\n",
       "    ENSG00000210196.2 (55878 total)\n",
       "  varLabels: ensembl_gene_id hgnc_symbol ... gene_biotype (6 total)\n",
       "  varMetadata: labelDescription\n",
       "\n",
       "$annotation\n",
       "character(0)\n",
       "\n",
       "$protocolData\n",
       "An object of class 'AnnotatedDataFrame': none\n",
       "\n",
       "$class\n",
       "[1] \"ExpressionSet\"\n",
       "attr(,\"package\")\n",
       "[1] \"Biobase\"\n"
      ]
     },
     "metadata": {},
     "output_type": "display_data"
    }
   ],
   "source": [
    "attributes(obj)"
   ]
  },
  {
   "cell_type": "code",
   "execution_count": 22,
   "metadata": {},
   "outputs": [
    {
     "ename": "ERROR",
     "evalue": "Error in tissue(obj): could not find function \"tissue\"\n",
     "output_type": "error",
     "traceback": [
      "Error in tissue(obj): could not find function \"tissue\"\nTraceback:\n"
     ]
    }
   ],
   "source": []
  },
  {
   "cell_type": "code",
   "execution_count": 15,
   "metadata": {},
   "outputs": [],
   "source": [
    "gtex_pheno_url <- 'https://storage.googleapis.com/gtex_analysis_v8/annotations/GTEx_Analysis_v8_Annotations_SubjectPhenotypesDS.txt'\n",
    "gtex_pheno <-'data/GTEx_Analysis_v8_Annotations_SubjectPhenotypesDS.txt'\n",
    "download.file(gtex_pheno_url, destfile=gtex_pheno)"
   ]
  },
  {
   "cell_type": "code",
   "execution_count": 27,
   "metadata": {},
   "outputs": [
    {
     "data": {
      "text/html": [
       "<style>\n",
       ".list-inline {list-style: none; margin:0; padding: 0}\n",
       ".list-inline>li {display: inline-block}\n",
       ".list-inline>li:not(:last-child)::after {content: \"\\00b7\"; padding: 0 .5ex}\n",
       "</style>\n",
       "<ol class=list-inline><li>'Adipose - Subcutaneous'</li><li>'Brain - Frontal Cortex (BA9)'</li><li>'Thyroid'</li><li>'Lung'</li><li>'Whole Blood'</li><li>'Brain - Cerebellar Hemisphere'</li></ol>\n"
      ],
      "text/latex": [
       "\\begin{enumerate*}\n",
       "\\item 'Adipose - Subcutaneous'\n",
       "\\item 'Brain - Frontal Cortex (BA9)'\n",
       "\\item 'Thyroid'\n",
       "\\item 'Lung'\n",
       "\\item 'Whole Blood'\n",
       "\\item 'Brain - Cerebellar Hemisphere'\n",
       "\\end{enumerate*}\n"
      ],
      "text/markdown": [
       "1. 'Adipose - Subcutaneous'\n",
       "2. 'Brain - Frontal Cortex (BA9)'\n",
       "3. 'Thyroid'\n",
       "4. 'Lung'\n",
       "5. 'Whole Blood'\n",
       "6. 'Brain - Cerebellar Hemisphere'\n",
       "\n",
       "\n"
      ],
      "text/plain": [
       "[1] \"Adipose - Subcutaneous\"        \"Brain - Frontal Cortex (BA9)\" \n",
       "[3] \"Thyroid\"                       \"Lung\"                         \n",
       "[5] \"Whole Blood\"                   \"Brain - Cerebellar Hemisphere\""
      ]
     },
     "metadata": {},
     "output_type": "display_data"
    }
   ],
   "source": [
    "head(tissue.sets)"
   ]
  },
  {
   "cell_type": "code",
   "execution_count": 30,
   "metadata": {},
   "outputs": [],
   "source": [
    "colnames.expression.mat<-colnames(gene_counts.data)"
   ]
  },
  {
   "cell_type": "code",
   "execution_count": 32,
   "metadata": {},
   "outputs": [],
   "source": [
    "# replace all the dashes with with periods in sample names in the metadata file\n",
    "meta.data$biospecimen_repository_sample_id<-gsub('-','\\\\.',meta.data$biospecimen_repository_sample_id)\n"
   ]
  },
  {
   "cell_type": "code",
   "execution_count": 29,
   "metadata": {},
   "outputs": [
    {
     "name": "stdout",
     "output_type": "stream",
     "text": [
      "[1] \"Adipose - Subcutaneous\"\n",
      "[1] \"Brain - Frontal Cortex (BA9)\"\n",
      "[1] \"Thyroid\"\n",
      "[1] \"Lung\"\n",
      "[1] \"Whole Blood\"\n",
      "[1] \"Brain - Cerebellar Hemisphere\"\n",
      "[1] \"Artery - Tibial\"\n",
      "[1] \"Cells - EBV-transformed lymphocytes\"\n",
      "[1] \"Heart - Left Ventricle\"\n",
      "[1] \"Brain - Cortex\"\n",
      "[1] \"Muscle - Skeletal\"\n",
      "[1] \"Brain - Anterior cingulate cortex (BA24)\"\n",
      "[1] \"Brain - Substantia nigra\"\n",
      "[1] \"Skin - Sun Exposed (Lower leg)\"\n",
      "[1] \"Brain - Hypothalamus\"\n",
      "[1] \"Brain - Hippocampus\"\n",
      "[1] \"Brain - Caudate (basal ganglia)\"\n",
      "[1] \"Brain - Putamen (basal ganglia)\"\n",
      "[1] \"Brain - Spinal cord (cervical c-1)\"\n",
      "[1] \"Brain - Cerebellum\"\n",
      "[1] \"Brain - Nucleus accumbens (basal ganglia)\"\n",
      "[1] \"Cells - Leukemia cell line (CML)\"\n",
      "[1] \"Brain - Amygdala\"\n",
      "[1] \"Nerve - Tibial\"\n",
      "[1] \"Vagina\"\n",
      "[1] \"Stomach\"\n",
      "[1] \"Pancreas\"\n",
      "[1] \"Colon - Sigmoid\"\n",
      "[1] \"Skin - Not Sun Exposed (Suprapubic)\"\n",
      "[1] \"Heart - Atrial Appendage\"\n",
      "[1] \"Esophagus - Mucosa\"\n",
      "[1] \"Adrenal Gland\"\n",
      "[1] \"Breast - Mammary Tissue\"\n",
      "[1] \"Liver\"\n",
      "[1] \"Esophagus - Muscularis\"\n",
      "[1] \"Cells - Cultured fibroblasts\"\n",
      "[1] \"Prostate\"\n",
      "[1] \"Adipose - Visceral (Omentum)\"\n",
      "[1] \"Testis\"\n",
      "[1] \"Artery - Aorta\"\n",
      "[1] \"Pituitary\"\n",
      "[1] \"Artery - Coronary\"\n",
      "[1] \"Esophagus - Gastroesophageal Junction\"\n",
      "[1] \"Colon - Transverse\"\n",
      "[1] \"Spleen\"\n",
      "[1] \"Ovary\"\n",
      "[1] \"Uterus\"\n",
      "[1] \"Small Intestine - Terminal Ileum\"\n",
      "[1] \"Minor Salivary Gland\"\n",
      "[1] \"Kidney - Cortex\"\n",
      "[1] \"Fallopian Tube\"\n",
      "[1] \"Cervix - Endocervix\"\n",
      "[1] \"Bladder\"\n",
      "[1] \"Cervix - Ectocervix\"\n"
     ]
    }
   ],
   "source": [
    "for (tissue.set in tissue.sets) {\n",
    "#    print (tissue.set)\n",
    "\n",
    "    # extract and create an expression matrix from the released dataset\n",
    "    # skipping the header rows\n",
    "    # expression.mat<-read.table(gtex_gct, nrow=1,sep='\\t',header=T,skip=2)\n",
    "    # meta.data <- read.csv(dfile, header=FALSE)\n",
    "    \n",
    "    # if there is no data, skip and move on\n",
    "    if (length(table(meta.data$sex_s[meta.data$body_site %in% tissue.set]))==1)\n",
    "        next\n",
    "\n",
    "    # if there is no data, skip\n",
    "    if (sum(meta.data$body_site %in% tissue.set)==0)\n",
    "        next\n",
    "\n",
    "    for (col in colnames.expression.mat)\n",
    "        col.in.tissue<-c(col.in.tissue, \n",
    "                         (col %in% meta.data$biospecimen_repository_sample_id) && (meta.data$body_site[which(meta.data$biospecimen_repository_sample_id==col)] %in% tissue.set))\n",
    "    \n",
    "#    expression.mat<-read.table(gtex_gct, colClasses = ifelse(col.in.tissue,\"numeric\",\"NULL\"),sep='\\t',header=T,skip=2)\n",
    "\n",
    "    write.table(expression.mat,paste('data/expression',tissue.set,'.txt',sep=''),sep='\\t',quote = F)\n",
    "\n",
    "#}"
   ]
  },
  {
   "cell_type": "code",
   "execution_count": 25,
   "metadata": {},
   "outputs": [],
   "source": [
    "for (tissue.set in tissue.sets)\n",
    "{\n",
    "    print (tissue.set)\n",
    "  all.genes<-read.table(gtex_gct,sep='\\t',header=T,skip=2,colClasses = c(rep(\"character\", 2), rep(\"NULL\", 11688)))\n",
    "if (file.size(paste('data/expression',tissue.set,'.txt',sep=''))<=1)\n",
    "\n",
    "  next\n",
    "\n",
    "x <- read.delim(paste('data/expression',tissue.set,'.txt',sep=''))\n",
    "\n",
    "#x<-x[all.genes$Description %in% our.genes,]\n",
    "\n",
    "#all.genes<-all.genes[all.genes$Description %in% our.genes,2]\n",
    "\n",
    "x<-x[!duplicated(all.genes[,'Description']),]\n",
    "\n",
    "all.genes<-all.genes[!duplicated(all.genes[,'Description']),'Description']\n",
    "\n",
    "rownames(x)<-all.genes\n",
    "\n",
    "#meta.data<-read.table('/Users/karleg/Dimorph/2017December8GTExRNASeqSRARunTable.txt',sep='\\t',header=TRUE)\n",
    "\n",
    "#meta.data$Sample_Name_s<-gsub('-','\\\\.',meta.data$Sample_Name_s)\n",
    "\n",
    "#meta.data<-meta.data[meta.data$Sample_Name_s %in% colnames(x),]\n",
    "\n",
    "    \n",
    "pheno<-read.csv(gtex_pheno,sep='\\t')\n",
    "\n",
    "pheno$SUBJID<-gsub('-','\\\\.',pheno$SUBJID)\n",
    "\n",
    "sex<-c()  #the value 2 in the phenotypic data is the values that is 1 in design.  This value correslonds to female.\n",
    "\n",
    "age<-c()\n",
    "\n",
    "cod<-c()\n",
    "\n",
    "for (col in colnames(x))\n",
    "{\n",
    "  sex<-c(sex,pheno$SEX[which(pheno$SUBJID==paste(unlist(strsplit(col,'\\\\.'))[c(1,2)],collapse='.'))])\n",
    "\n",
    "  age<-c(age,pheno$AGE[which(pheno$SUBJID==paste(unlist(strsplit(col,'\\\\.'))[c(1,2)],collapse='.'))])\n",
    "\n",
    "  cod<-c(cod,pheno$DTHHRDY[which(pheno$SUBJID==paste(unlist(strsplit(col,'\\\\.'))[c(1,2)],collapse='.'))])\n",
    "\n",
    "}\n",
    "\n",
    "if (length(table(sex))==1)\n",
    "\n",
    "  next\n",
    "\n",
    "cod[is.na(cod)]=0\n",
    "#group <- meta.data$sex_s\n",
    "\n",
    "y <- DGEList(counts=x,group=factor(sex))\n",
    "\n",
    "y <- calcNormFactors(y)\n",
    "\n",
    "groups<-sex\n",
    "\n",
    "keep.events<-rep(T,nrow(y))\n",
    "\n",
    "for (group in c(1,2))\n",
    "\n",
    "  keep.events<-keep.events & (rowSums(cpm(y[,groups %in% group]) > 1) >= 0.25*min(table(groups)))\n",
    "\n",
    "if (sum(keep.events)==0)\n",
    "\n",
    "  next\n",
    "\n",
    "y<-y[keep.events,]  #if only using the logFC to compare with AS then do not screen\n",
    "\n",
    "design <- model.matrix(~factor(sex))\n",
    "\n",
    "v <- voom(y, design)\n",
    "\n",
    "fit <- lmFit(v, design)\n",
    "\n",
    "fit <- eBayes(fit, robust=TRUE)\n",
    "\n",
    "res=topTable(fit, coef='factor(sex)2',number=nrow(y))\n",
    "\n",
    "write.table(res,paste('data/DE_result_',tissue.set,'.txt',sep=''),sep='\\t',quote = F)\n",
    "\n",
    "}\n",
    "#edgeR\n",
    "\n",
    "#y <- estimateDisp(y,design)\n",
    "\n",
    "#fit <- glmFit(y,design)\n",
    "\n",
    "#lrt <- glmLRT(fit,coef='factor(sex)2')\n",
    "\n",
    "#hist(lrt$table$PValue)    "
   ]
  },
  {
   "cell_type": "code",
   "execution_count": null,
   "metadata": {},
   "outputs": [],
   "source": []
  }
 ],
 "metadata": {
  "kernelspec": {
   "display_name": "R",
   "language": "R",
   "name": "ir"
  },
  "language_info": {
   "codemirror_mode": "r",
   "file_extension": ".r",
   "mimetype": "text/x-r-source",
   "name": "R",
   "pygments_lexer": "r",
   "version": "3.6.2"
  }
 },
 "nbformat": 4,
 "nbformat_minor": 4
}
