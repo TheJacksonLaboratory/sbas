{
 "cells": [
  {
   "cell_type": "markdown",
   "metadata": {},
   "source": [
    "# Figure 1C - YARN Normalization Version"
   ]
  },
  {
   "cell_type": "markdown",
   "metadata": {},
   "source": [
    "A `heatplot` representing similarity in the fold-changes between male and female samples, with the values in the heatmap being the correlation between the vectors of fold changes of the tissues. </b>"
   ]
  },
  {
   "cell_type": "markdown",
   "metadata": {},
   "source": [
    "We downloaded the GTEx version 8.0 RNA-seq and genotype data (phs000424.v8.v2), released 2019-08-26.\n",
    "We used YARN (https://bioconductor.org/packages/release/bioc/html/yarn.html), uploading the downloadGTEx function\n",
    "to download this release, and used it to perform quality control, gene filtering and normalization pre-processing on the\n",
    "GTEx RNA-seq data, as described in (Paulson et al, 2017).   This pipelines tested for sample sex-misidentification, \n",
    "merged related sub-tissues, performed tissue-aware normalization using qsmooth (Hicks et al, 2017)."
   ]
  },
  {
   "cell_type": "markdown",
   "metadata": {},
   "source": [
    "## Loading dependencies"
   ]
  },
  {
   "cell_type": "code",
   "execution_count": 1,
   "metadata": {},
   "outputs": [
    {
     "name": "stderr",
     "output_type": "stream",
     "text": [
      "Warning message:\n",
      "“package ‘DBI’ was built under R version 3.6.2”Loading required package: Biobase\n",
      "Loading required package: BiocGenerics\n",
      "Loading required package: parallel\n",
      "\n",
      "Attaching package: ‘BiocGenerics’\n",
      "\n",
      "The following objects are masked from ‘package:parallel’:\n",
      "\n",
      "    clusterApply, clusterApplyLB, clusterCall, clusterEvalQ,\n",
      "    clusterExport, clusterMap, parApply, parCapply, parLapply,\n",
      "    parLapplyLB, parRapply, parSapply, parSapplyLB\n",
      "\n",
      "The following objects are masked from ‘package:stats’:\n",
      "\n",
      "    IQR, mad, sd, var, xtabs\n",
      "\n",
      "The following objects are masked from ‘package:base’:\n",
      "\n",
      "    anyDuplicated, append, as.data.frame, basename, cbind, colnames,\n",
      "    dirname, do.call, duplicated, eval, evalq, Filter, Find, get, grep,\n",
      "    grepl, intersect, is.unsorted, lapply, Map, mapply, match, mget,\n",
      "    order, paste, pmax, pmax.int, pmin, pmin.int, Position, rank,\n",
      "    rbind, Reduce, rownames, sapply, setdiff, sort, table, tapply,\n",
      "    union, unique, unsplit, which, which.max, which.min\n",
      "\n",
      "Welcome to Bioconductor\n",
      "\n",
      "    Vignettes contain introductory material; view with\n",
      "    'browseVignettes()'. To cite Bioconductor, see\n",
      "    'citation(\"Biobase\")', and for packages 'citation(\"pkgname\")'.\n",
      "\n",
      "Setting options('download.file.method.GEOquery'='auto')\n",
      "Setting options('GEOquery.inmemory.gpl'=FALSE)\n"
     ]
    }
   ],
   "source": [
    "library(downloader)\n",
    "library(readr)\n",
    "library(edgeR)\n",
    "library(biomaRt)\n",
    "library(DBI) # v >= 1.1.0 required for biomaRt\n",
    "library(devtools)\n",
    "library(yarn)\n",
    "Sys.setenv(TAR = \"/bin/tar\") # for gzfile"
   ]
  },
  {
   "cell_type": "markdown",
   "metadata": {},
   "source": [
    "Begin here if you have already run this and created the `data/gtex.rds` file"
   ]
  },
  {
   "cell_type": "markdown",
   "metadata": {},
   "source": [
    "Please `git clone` the repository and start working after changing to this as your working directory (`cd lifebitCloudOSDRE`). The `data` subdirectory, along with all other paths used in this Notebook are relative to the `lifebitCloudOSDRE` repository."
   ]
  },
  {
   "cell_type": "code",
   "execution_count": 5,
   "metadata": {},
   "outputs": [
    {
     "name": "stderr",
     "output_type": "stream",
     "text": [
      "Downloading and reading files\n",
      "Parsed with column specification:\n",
      "cols(\n",
      "  .default = col_double(),\n",
      "  SAMPID = \u001b[31mcol_character()\u001b[39m,\n",
      "  SMCENTER = \u001b[31mcol_character()\u001b[39m,\n",
      "  SMPTHNTS = \u001b[31mcol_character()\u001b[39m,\n",
      "  SMTS = \u001b[31mcol_character()\u001b[39m,\n",
      "  SMTSD = \u001b[31mcol_character()\u001b[39m,\n",
      "  SMUBRID = \u001b[31mcol_character()\u001b[39m,\n",
      "  SMNABTCH = \u001b[31mcol_character()\u001b[39m,\n",
      "  SMNABTCHT = \u001b[31mcol_character()\u001b[39m,\n",
      "  SMNABTCHD = \u001b[31mcol_character()\u001b[39m,\n",
      "  SMGEBTCH = \u001b[31mcol_character()\u001b[39m,\n",
      "  SMGEBTCHD = \u001b[31mcol_character()\u001b[39m,\n",
      "  SMGEBTCHT = \u001b[31mcol_character()\u001b[39m,\n",
      "  SMAFRZE = \u001b[31mcol_character()\u001b[39m,\n",
      "  SMGTC = \u001b[33mcol_logical()\u001b[39m,\n",
      "  SMNUMGPS = \u001b[33mcol_logical()\u001b[39m,\n",
      "  SM550NRM = \u001b[33mcol_logical()\u001b[39m,\n",
      "  SM350NRM = \u001b[33mcol_logical()\u001b[39m,\n",
      "  SMMNCPB = \u001b[33mcol_logical()\u001b[39m,\n",
      "  SMMNCV = \u001b[33mcol_logical()\u001b[39m,\n",
      "  SMCGLGTH = \u001b[33mcol_logical()\u001b[39m\n",
      "  # ... with 2 more columns\n",
      ")\n",
      "See spec(...) for full column specifications.\n",
      "Warning message:\n",
      "“379 parsing failures.\n",
      "  row   col           expected            actual                                      file\n",
      "14837 SMGTC 1/0/T/F/TRUE/FALSE 6293764057_R01C01 '/tmp/RtmpIcR2PH/phenodatdd74a98f2de.txt'\n",
      "14838 SMGTC 1/0/T/F/TRUE/FALSE 7983311048_R05C02 '/tmp/RtmpIcR2PH/phenodatdd74a98f2de.txt'\n",
      "14889 SMGTC 1/0/T/F/TRUE/FALSE 6293764057_R02C01 '/tmp/RtmpIcR2PH/phenodatdd74a98f2de.txt'\n",
      "14938 SMGTC 1/0/T/F/TRUE/FALSE 6293764057_R03C01 '/tmp/RtmpIcR2PH/phenodatdd74a98f2de.txt'\n",
      "14939 SMGTC 1/0/T/F/TRUE/FALSE 7991783154_R01C02 '/tmp/RtmpIcR2PH/phenodatdd74a98f2de.txt'\n",
      "..... ..... .................. ................. .........................................\n",
      "See problems(...) for more details.\n",
      "”Parsed with column specification:\n",
      "cols(\n",
      "  SUBJID = \u001b[31mcol_character()\u001b[39m,\n",
      "  SEX = \u001b[32mcol_double()\u001b[39m,\n",
      "  AGE = \u001b[31mcol_character()\u001b[39m,\n",
      "  DTHHRDY = \u001b[32mcol_double()\u001b[39m\n",
      ")\n",
      "Parsed with column specification:\n",
      "cols(\n",
      "  .default = col_double(),\n",
      "  Name = \u001b[31mcol_character()\u001b[39m,\n",
      "  Description = \u001b[31mcol_character()\u001b[39m\n",
      ")\n",
      "See spec(...) for full column specifications.\n",
      "Creating ExpressionSet\n",
      "Annotating from biomaRt\n",
      "Cache found\n",
      "Warning message in annotateFromBiomart(obj = es, genes = genes, host = host, biomart = biomart, :\n",
      "“getBM returned fewer rows than genes queried.”Cleaning up files\n"
     ]
    }
   ],
   "source": [
    "# CAUTION! It requires some minutes to complete, also memory and enough storage\n",
    "obj <- yarn::downloadGTExV8(type='genes',file='../data/gtex.rds')"
   ]
  },
  {
   "cell_type": "markdown",
   "metadata": {},
   "source": [
    "This uploaded object is available by long names -- which might be nice to simplify ...."
   ]
  },
  {
   "cell_type": "code",
   "execution_count": 6,
   "metadata": {},
   "outputs": [
    {
     "data": {
      "text/html": [
       "'ExpressionSet'"
      ],
      "text/latex": [
       "'ExpressionSet'"
      ],
      "text/markdown": [
       "'ExpressionSet'"
      ],
      "text/plain": [
       "[1] \"ExpressionSet\"\n",
       "attr(,\"package\")\n",
       "[1] \"Biobase\""
      ]
     },
     "metadata": {},
     "output_type": "display_data"
    }
   ],
   "source": [
    "class(obj)"
   ]
  },
  {
   "cell_type": "code",
   "execution_count": null,
   "metadata": {},
   "outputs": [],
   "source": [
    "saveRDS(obj, file = \"../data/ExpressionSetobj.rds\")"
   ]
  },
  {
   "cell_type": "code",
   "execution_count": 7,
   "metadata": {},
   "outputs": [
    {
     "data": {
      "text/html": [
       "<style>\n",
       ".dl-inline {width: auto; margin:0; padding: 0}\n",
       ".dl-inline>dt, .dl-inline>dd {float: none; width: auto; display: inline-block}\n",
       ".dl-inline>dt::after {content: \":\\0020\"; padding-right: .5ex}\n",
       ".dl-inline>dt:not(:first-of-type) {padding-left: .5ex}\n",
       "</style><dl class=dl-inline><dt>rowNames</dt><dd>17384</dd><dt>columnNames</dt><dd>67</dd></dl>\n"
      ],
      "text/latex": [
       "\\begin{description*}\n",
       "\\item[rowNames] 17384\n",
       "\\item[columnNames] 67\n",
       "\\end{description*}\n"
      ],
      "text/markdown": [
       "rowNames\n",
       ":   17384columnNames\n",
       ":   67\n",
       "\n"
      ],
      "text/plain": [
       "   rowNames columnNames \n",
       "      17384          67 "
      ]
     },
     "metadata": {},
     "output_type": "display_data"
    }
   ],
   "source": [
    "dim(phenoData(obj))"
   ]
  },
  {
   "cell_type": "code",
   "execution_count": 61,
   "metadata": {},
   "outputs": [],
   "source": [
    "ensembl = useMart(\"ensembl\",dataset=\"hsapiens_gene_ensembl\")"
   ]
  },
  {
   "cell_type": "code",
   "execution_count": 62,
   "metadata": {},
   "outputs": [],
   "source": [
    "attributes = listAttributes(ensembl)"
   ]
  },
  {
   "cell_type": "code",
   "execution_count": 69,
   "metadata": {},
   "outputs": [
    {
     "data": {
      "text/html": [
       "\n",
       "<table width=\"100%\" summary=\"page for getBM {biomaRt}\"><tr><td>getBM {biomaRt}</td><td style=\"text-align: right;\">R Documentation</td></tr></table>\n",
       "\n",
       "<h2>Retrieves information from the BioMart database</h2>\n",
       "\n",
       "<h3>Description</h3>\n",
       "\n",
       "<p>This function is the main biomaRt query function.  Given a set of filters and corresponding values, it retrieves the user specified attributes from the BioMart database one is connected to.</p>\n",
       "\n",
       "\n",
       "<h3>Usage</h3>\n",
       "\n",
       "<pre>getBM(attributes, filters = \"\", values = \"\", mart, curl = NULL, \n",
       "checkFilters = TRUE, verbose = FALSE, uniqueRows = TRUE, bmHeader = FALSE,\n",
       "quote = \"\\\"\", useCache = TRUE)</pre>\n",
       "\n",
       "\n",
       "<h3>Arguments</h3>\n",
       "\n",
       "<table summary=\"R argblock\">\n",
       "<tr valign=\"top\"><td><code>attributes</code></td>\n",
       "<td>\n",
       "<p>Attributes you want to retrieve.  A possible list of attributes can be retrieved using the function listAttributes.</p>\n",
       "</td></tr>\n",
       "<tr valign=\"top\"><td><code>filters</code></td>\n",
       "<td>\n",
       "<p>Filters (one or more) that should be used in the query.  A possible list of filters can be retrieved using the function listFilters.</p>\n",
       "</td></tr>\n",
       "<tr valign=\"top\"><td><code>values</code></td>\n",
       "<td>\n",
       "<p>Values of the filter, e.g. vector of affy IDs.  If multiple filters are specified then the argument should be a list of vectors of which the position of each vector corresponds to the position of the filters in the filters argument.</p>\n",
       "</td></tr>\n",
       "<tr valign=\"top\"><td><code>mart</code></td>\n",
       "<td>\n",
       "<p>object of class Mart, created with the useMart function.</p>\n",
       "</td></tr>\n",
       "<tr valign=\"top\"><td><code>curl</code></td>\n",
       "<td>\n",
       "<p>An optional 'CURLHandle' object, that can be used to speed up getBM when used in a loop.</p>\n",
       "</td></tr>\n",
       "<tr valign=\"top\"><td><code>checkFilters</code></td>\n",
       "<td>\n",
       "<p>Sometimes attributes where a value needs to be specified, for example upstream\\_flank with value 20 for obtaining upstream sequence flank regions of length 20bp, are treated as filters in BioMarts.  To enable such a query to work, one must specify the attribute as a filter and set checkFilters = FALSE for the query to work.</p>\n",
       "</td></tr>\n",
       "<tr valign=\"top\"><td><code>verbose</code></td>\n",
       "<td>\n",
       "<p>When using biomaRt in webservice mode and setting verbose to TRUE, the XML query to the webservice will be printed.</p>\n",
       "</td></tr>\n",
       "<tr valign=\"top\"><td><code>uniqueRows</code></td>\n",
       "<td>\n",
       "<p>If the result of a query contains multiple identical rows, setting this argument to TRUE (default) will result in deleting the duplicated rows in the query result at the server side.</p>\n",
       "</td></tr>\n",
       "<tr valign=\"top\"><td><code>bmHeader</code></td>\n",
       "<td>\n",
       "<p>Boolean to indicate if the result retrieved from the\n",
       "BioMart server should include the data headers or not, defaults to FALSE.  This should\n",
       "only be switched on if the default behavior results in errors,\n",
       "setting to on might still be able to retrieve your data in that case</p>\n",
       "</td></tr>\n",
       "<tr valign=\"top\"><td><code>quote</code></td>\n",
       "<td>\n",
       "<p>Sometimes parsing of the results fails due to errors in the Ensembl data fields such as containing a quote, in such cases you can try to change the value of quote to try to still parse the results.</p>\n",
       "</td></tr>\n",
       "<tr valign=\"top\"><td><code>useCache</code></td>\n",
       "<td>\n",
       "<p>Boolean indicating whether the results cache should be used.  \n",
       "Setting to <code>FALSE</code> will disable reading and writing of the cache.  This\n",
       "argument is likely to disappear after the cache functionality has been tested\n",
       "more thoroughly.</p>\n",
       "</td></tr>\n",
       "</table>\n",
       "\n",
       "\n",
       "<h3>Value</h3>\n",
       "\n",
       "<p>A <code>data.frame</code>. There is no implicit mapping between its rows and the function arguments (e.g. <code>filters</code>, <code>values</code>), therefore make sure to have the relevant identifier(s) returned by specifying them in <code>attributes</code>. See Examples.</p>\n",
       "\n",
       "\n",
       "<h3>Author(s)</h3>\n",
       "\n",
       "<p>Steffen Durinck</p>\n",
       "\n",
       "\n",
       "<h3>Examples</h3>\n",
       "\n",
       "<pre>\n",
       "mart &lt;- useMart(biomart = \"ensembl\", dataset = \"hsapiens_gene_ensembl\")\n",
       "getBM(attributes = c(\"affy_hg_u95av2\", \"hgnc_symbol\", \"chromosome_name\", \"band\"),\n",
       "      filters    = \"affy_hg_u95av2\",\n",
       "      values     = c(\"1939_at\",\"1503_at\",\"1454_at\"), \n",
       "      mart       = mart)\n",
       "</pre>\n",
       "\n",
       "<hr /><div style=\"text-align: center;\">[Package <em>biomaRt</em> version 2.42.0 ]</div>"
      ],
      "text/latex": [
       "\\inputencoding{utf8}\n",
       "\\HeaderA{getBM}{Retrieves information from the BioMart database}{getBM}\n",
       "\\keyword{methods}{getBM}\n",
       "%\n",
       "\\begin{Description}\\relax\n",
       "This function is the main biomaRt query function.  Given a set of filters and corresponding values, it retrieves the user specified attributes from the BioMart database one is connected to.\n",
       "\\end{Description}\n",
       "%\n",
       "\\begin{Usage}\n",
       "\\begin{verbatim}\n",
       "getBM(attributes, filters = \"\", values = \"\", mart, curl = NULL, \n",
       "checkFilters = TRUE, verbose = FALSE, uniqueRows = TRUE, bmHeader = FALSE,\n",
       "quote = \"\\\"\", useCache = TRUE)\n",
       "\\end{verbatim}\n",
       "\\end{Usage}\n",
       "%\n",
       "\\begin{Arguments}\n",
       "\\begin{ldescription}\n",
       "\\item[\\code{attributes}] Attributes you want to retrieve.  A possible list of attributes can be retrieved using the function listAttributes.\n",
       "\\item[\\code{filters}] Filters (one or more) that should be used in the query.  A possible list of filters can be retrieved using the function listFilters.\n",
       "\\item[\\code{values}] Values of the filter, e.g. vector of affy IDs.  If multiple filters are specified then the argument should be a list of vectors of which the position of each vector corresponds to the position of the filters in the filters argument.\n",
       "\\item[\\code{mart}] object of class Mart, created with the useMart function.\n",
       "\\item[\\code{curl}] An optional 'CURLHandle' object, that can be used to speed up getBM when used in a loop.\n",
       "\\item[\\code{checkFilters}] Sometimes attributes where a value needs to be specified, for example upstream\\bsl{}\\_flank with value 20 for obtaining upstream sequence flank regions of length 20bp, are treated as filters in BioMarts.  To enable such a query to work, one must specify the attribute as a filter and set checkFilters = FALSE for the query to work.\n",
       "\\item[\\code{verbose}] When using biomaRt in webservice mode and setting verbose to TRUE, the XML query to the webservice will be printed.\n",
       "\\item[\\code{uniqueRows}] If the result of a query contains multiple identical rows, setting this argument to TRUE (default) will result in deleting the duplicated rows in the query result at the server side.\n",
       "\\item[\\code{bmHeader}] Boolean to indicate if the result retrieved from the\n",
       "BioMart server should include the data headers or not, defaults to FALSE.  This should\n",
       "only be switched on if the default behavior results in errors,\n",
       "setting to on might still be able to retrieve your data in that case\n",
       "\\item[\\code{quote}] Sometimes parsing of the results fails due to errors in the Ensembl data fields such as containing a quote, in such cases you can try to change the value of quote to try to still parse the results.\n",
       "\\item[\\code{useCache}] Boolean indicating whether the results cache should be used.  \n",
       "Setting to \\code{FALSE} will disable reading and writing of the cache.  This\n",
       "argument is likely to disappear after the cache functionality has been tested\n",
       "more thoroughly.\n",
       "\\end{ldescription}\n",
       "\\end{Arguments}\n",
       "%\n",
       "\\begin{Value}\n",
       "A \\code{data.frame}. There is no implicit mapping between its rows and the function arguments (e.g. \\code{filters}, \\code{values}), therefore make sure to have the relevant identifier(s) returned by specifying them in \\code{attributes}. See Examples.\n",
       "\\end{Value}\n",
       "%\n",
       "\\begin{Author}\\relax\n",
       "Steffen Durinck\n",
       "\\end{Author}\n",
       "%\n",
       "\\begin{Examples}\n",
       "\\begin{ExampleCode}\n",
       "mart <- useMart(biomart = \"ensembl\", dataset = \"hsapiens_gene_ensembl\")\n",
       "getBM(attributes = c(\"affy_hg_u95av2\", \"hgnc_symbol\", \"chromosome_name\", \"band\"),\n",
       "      filters    = \"affy_hg_u95av2\",\n",
       "      values     = c(\"1939_at\",\"1503_at\",\"1454_at\"), \n",
       "      mart       = mart)\n",
       "\\end{ExampleCode}\n",
       "\\end{Examples}"
      ],
      "text/plain": [
       "getBM                 package:biomaRt                  R Documentation\n",
       "\n",
       "_\bR_\be_\bt_\br_\bi_\be_\bv_\be_\bs _\bi_\bn_\bf_\bo_\br_\bm_\ba_\bt_\bi_\bo_\bn _\bf_\br_\bo_\bm _\bt_\bh_\be _\bB_\bi_\bo_\bM_\ba_\br_\bt _\bd_\ba_\bt_\ba_\bb_\ba_\bs_\be\n",
       "\n",
       "_\bD_\be_\bs_\bc_\br_\bi_\bp_\bt_\bi_\bo_\bn:\n",
       "\n",
       "     This function is the main biomaRt query function.  Given a set of\n",
       "     filters and corresponding values, it retrieves the user specified\n",
       "     attributes from the BioMart database one is connected to.\n",
       "\n",
       "_\bU_\bs_\ba_\bg_\be:\n",
       "\n",
       "     getBM(attributes, filters = \"\", values = \"\", mart, curl = NULL, \n",
       "     checkFilters = TRUE, verbose = FALSE, uniqueRows = TRUE, bmHeader = FALSE,\n",
       "     quote = \"\\\"\", useCache = TRUE)\n",
       "     \n",
       "_\bA_\br_\bg_\bu_\bm_\be_\bn_\bt_\bs:\n",
       "\n",
       "attributes: Attributes you want to retrieve.  A possible list of\n",
       "          attributes can be retrieved using the function\n",
       "          listAttributes.\n",
       "\n",
       " filters: Filters (one or more) that should be used in the query.  A\n",
       "          possible list of filters can be retrieved using the function\n",
       "          listFilters.\n",
       "\n",
       "  values: Values of the filter, e.g. vector of affy IDs.  If multiple\n",
       "          filters are specified then the argument should be a list of\n",
       "          vectors of which the position of each vector corresponds to\n",
       "          the position of the filters in the filters argument.\n",
       "\n",
       "    mart: object of class Mart, created with the useMart function.\n",
       "\n",
       "    curl: An optional 'CURLHandle' object, that can be used to speed up\n",
       "          getBM when used in a loop.\n",
       "\n",
       "checkFilters: Sometimes attributes where a value needs to be specified,\n",
       "          for example upstream\\_flank with value 20 for obtaining\n",
       "          upstream sequence flank regions of length 20bp, are treated\n",
       "          as filters in BioMarts.  To enable such a query to work, one\n",
       "          must specify the attribute as a filter and set checkFilters =\n",
       "          FALSE for the query to work.\n",
       "\n",
       " verbose: When using biomaRt in webservice mode and setting verbose to\n",
       "          TRUE, the XML query to the webservice will be printed.\n",
       "\n",
       "uniqueRows: If the result of a query contains multiple identical rows,\n",
       "          setting this argument to TRUE (default) will result in\n",
       "          deleting the duplicated rows in the query result at the\n",
       "          server side.\n",
       "\n",
       "bmHeader: Boolean to indicate if the result retrieved from the BioMart\n",
       "          server should include the data headers or not, defaults to\n",
       "          FALSE.  This should only be switched on if the default\n",
       "          behavior results in errors, setting to on might still be able\n",
       "          to retrieve your data in that case\n",
       "\n",
       "   quote: Sometimes parsing of the results fails due to errors in the\n",
       "          Ensembl data fields such as containing a quote, in such cases\n",
       "          you can try to change the value of quote to try to still\n",
       "          parse the results.\n",
       "\n",
       "useCache: Boolean indicating whether the results cache should be used.\n",
       "          Setting to ‘FALSE’ will disable reading and writing of the\n",
       "          cache.  This argument is likely to disappear after the cache\n",
       "          functionality has been tested more thoroughly.\n",
       "\n",
       "_\bV_\ba_\bl_\bu_\be:\n",
       "\n",
       "     A ‘data.frame’. There is no implicit mapping between its rows and\n",
       "     the function arguments (e.g. ‘filters’, ‘values’), therefore make\n",
       "     sure to have the relevant identifier(s) returned by specifying\n",
       "     them in ‘attributes’. See Examples.\n",
       "\n",
       "_\bA_\bu_\bt_\bh_\bo_\br(_\bs):\n",
       "\n",
       "     Steffen Durinck\n",
       "\n",
       "_\bE_\bx_\ba_\bm_\bp_\bl_\be_\bs:\n",
       "\n",
       "     mart <- useMart(biomart = \"ensembl\", dataset = \"hsapiens_gene_ensembl\")\n",
       "     getBM(attributes = c(\"affy_hg_u95av2\", \"hgnc_symbol\", \"chromosome_name\", \"band\"),\n",
       "           filters    = \"affy_hg_u95av2\",\n",
       "           values     = c(\"1939_at\",\"1503_at\",\"1454_at\"), \n",
       "           mart       = mart)\n",
       "     "
      ]
     },
     "metadata": {},
     "output_type": "display_data"
    }
   ],
   "source": []
  },
  {
   "cell_type": "code",
   "execution_count": 8,
   "metadata": {},
   "outputs": [
    {
     "data": {
      "text/html": [
       "<style>\n",
       ".dl-inline {width: auto; margin:0; padding: 0}\n",
       ".dl-inline>dt, .dl-inline>dd {float: none; width: auto; display: inline-block}\n",
       ".dl-inline>dt::after {content: \":\\0020\"; padding-right: .5ex}\n",
       ".dl-inline>dt:not(:first-of-type) {padding-left: .5ex}\n",
       "</style><dl class=dl-inline><dt>Features</dt><dd>55878</dd><dt>Samples</dt><dd>17382</dd></dl>\n"
      ],
      "text/latex": [
       "\\begin{description*}\n",
       "\\item[Features] 55878\n",
       "\\item[Samples] 17382\n",
       "\\end{description*}\n"
      ],
      "text/markdown": [
       "Features\n",
       ":   55878Samples\n",
       ":   17382\n",
       "\n"
      ],
      "text/plain": [
       "Features  Samples \n",
       "   55878    17382 "
      ]
     },
     "metadata": {},
     "output_type": "display_data"
    }
   ],
   "source": [
    "dim(obj)"
   ]
  },
  {
   "cell_type": "code",
   "execution_count": 9,
   "metadata": {},
   "outputs": [
    {
     "data": {
      "text/html": [
       "<style>\n",
       ".list-inline {list-style: none; margin:0; padding: 0}\n",
       ".list-inline>li {display: inline-block}\n",
       ".list-inline>li:not(:last-child)::after {content: \"\\00b7\"; padding: 0 .5ex}\n",
       "</style>\n",
       "<ol class=list-inline><li>'GTEX-1117F-0226-SM-5GZZ7'</li><li>'GTEX-1117F-0426-SM-5EGHI'</li><li>'GTEX-1117F-0526-SM-5EGHJ'</li><li>'GTEX-1117F-0626-SM-5N9CS'</li><li>'GTEX-1117F-0726-SM-5GIEN'</li><li>'GTEX-1117F-1326-SM-5EGHH'</li></ol>\n"
      ],
      "text/latex": [
       "\\begin{enumerate*}\n",
       "\\item 'GTEX-1117F-0226-SM-5GZZ7'\n",
       "\\item 'GTEX-1117F-0426-SM-5EGHI'\n",
       "\\item 'GTEX-1117F-0526-SM-5EGHJ'\n",
       "\\item 'GTEX-1117F-0626-SM-5N9CS'\n",
       "\\item 'GTEX-1117F-0726-SM-5GIEN'\n",
       "\\item 'GTEX-1117F-1326-SM-5EGHH'\n",
       "\\end{enumerate*}\n"
      ],
      "text/markdown": [
       "1. 'GTEX-1117F-0226-SM-5GZZ7'\n",
       "2. 'GTEX-1117F-0426-SM-5EGHI'\n",
       "3. 'GTEX-1117F-0526-SM-5EGHJ'\n",
       "4. 'GTEX-1117F-0626-SM-5N9CS'\n",
       "5. 'GTEX-1117F-0726-SM-5GIEN'\n",
       "6. 'GTEX-1117F-1326-SM-5EGHH'\n",
       "\n",
       "\n"
      ],
      "text/plain": [
       "[1] \"GTEX-1117F-0226-SM-5GZZ7\" \"GTEX-1117F-0426-SM-5EGHI\"\n",
       "[3] \"GTEX-1117F-0526-SM-5EGHJ\" \"GTEX-1117F-0626-SM-5N9CS\"\n",
       "[5] \"GTEX-1117F-0726-SM-5GIEN\" \"GTEX-1117F-1326-SM-5EGHH\""
      ]
     },
     "metadata": {},
     "output_type": "display_data"
    },
    {
     "data": {
      "text/html": [
       "17382"
      ],
      "text/latex": [
       "17382"
      ],
      "text/markdown": [
       "17382"
      ],
      "text/plain": [
       "[1] 17382"
      ]
     },
     "metadata": {},
     "output_type": "display_data"
    }
   ],
   "source": [
    "sample_names=as.vector(as.character(colnames(exprs(obj))))\n",
    "head(sample_names)\n",
    "length(sample_names)"
   ]
  },
  {
   "cell_type": "code",
   "execution_count": 10,
   "metadata": {},
   "outputs": [
    {
     "data": {
      "text/html": [
       "<style>\n",
       ".list-inline {list-style: none; margin:0; padding: 0}\n",
       ".list-inline>li {display: inline-block}\n",
       ".list-inline>li:not(:last-child)::after {content: \"\\00b7\"; padding: 0 .5ex}\n",
       "</style>\n",
       "<ol class=list-inline><li>'GTEX-1117F-0226-SM-5GZZ7'</li><li>'GTEX-1117F-0426-SM-5EGHI'</li><li>'GTEX-1117F-0526-SM-5EGHJ'</li><li>'GTEX-1117F-0626-SM-5N9CS'</li><li>'GTEX-1117F-0726-SM-5GIEN'</li><li>'GTEX-1117F-1326-SM-5EGHH'</li></ol>\n"
      ],
      "text/latex": [
       "\\begin{enumerate*}\n",
       "\\item 'GTEX-1117F-0226-SM-5GZZ7'\n",
       "\\item 'GTEX-1117F-0426-SM-5EGHI'\n",
       "\\item 'GTEX-1117F-0526-SM-5EGHJ'\n",
       "\\item 'GTEX-1117F-0626-SM-5N9CS'\n",
       "\\item 'GTEX-1117F-0726-SM-5GIEN'\n",
       "\\item 'GTEX-1117F-1326-SM-5EGHH'\n",
       "\\end{enumerate*}\n"
      ],
      "text/markdown": [
       "1. 'GTEX-1117F-0226-SM-5GZZ7'\n",
       "2. 'GTEX-1117F-0426-SM-5EGHI'\n",
       "3. 'GTEX-1117F-0526-SM-5EGHJ'\n",
       "4. 'GTEX-1117F-0626-SM-5N9CS'\n",
       "5. 'GTEX-1117F-0726-SM-5GIEN'\n",
       "6. 'GTEX-1117F-1326-SM-5EGHH'\n",
       "\n",
       "\n"
      ],
      "text/plain": [
       "[1] \"GTEX-1117F-0226-SM-5GZZ7\" \"GTEX-1117F-0426-SM-5EGHI\"\n",
       "[3] \"GTEX-1117F-0526-SM-5EGHJ\" \"GTEX-1117F-0626-SM-5N9CS\"\n",
       "[5] \"GTEX-1117F-0726-SM-5GIEN\" \"GTEX-1117F-1326-SM-5EGHH\""
      ]
     },
     "metadata": {},
     "output_type": "display_data"
    },
    {
     "data": {
      "text/html": [
       "17384"
      ],
      "text/latex": [
       "17384"
      ],
      "text/markdown": [
       "17384"
      ],
      "text/plain": [
       "[1] 17384"
      ]
     },
     "metadata": {},
     "output_type": "display_data"
    }
   ],
   "source": [
    "pheno_sample_names=as.vector(as.character(rownames(pData(obj))))\n",
    "head(pheno_sample_names)\n",
    "length(pheno_sample_names)"
   ]
  },
  {
   "cell_type": "markdown",
   "metadata": {},
   "source": [
    "Okay - for some reason our phenotype data is larger than our expression data - I've written Joe Paulson about that.\n",
    "In the meantime, make sure that the two sets are aligned."
   ]
  },
  {
   "cell_type": "code",
   "execution_count": 11,
   "metadata": {},
   "outputs": [
    {
     "data": {
      "text/html": [
       "17384"
      ],
      "text/latex": [
       "17384"
      ],
      "text/markdown": [
       "17384"
      ],
      "text/plain": [
       "[1] 17384"
      ]
     },
     "metadata": {},
     "output_type": "display_data"
    }
   ],
   "source": [
    "logical_match_names=pheno_sample_names %in% sample_names\n",
    "length(logical_match_names)"
   ]
  },
  {
   "cell_type": "code",
   "execution_count": 12,
   "metadata": {},
   "outputs": [
    {
     "data": {
      "text/plain": [
       "logical_match_names\n",
       "FALSE  TRUE \n",
       "    2 17382 "
      ]
     },
     "metadata": {},
     "output_type": "display_data"
    }
   ],
   "source": [
    "table(logical_match_names)\n"
   ]
  },
  {
   "cell_type": "code",
   "execution_count": 13,
   "metadata": {},
   "outputs": [],
   "source": [
    "pData(obj) <- (pData(obj)[logical_match_names==TRUE,])"
   ]
  },
  {
   "cell_type": "markdown",
   "metadata": {},
   "source": [
    "Now we want to replace all *dashes* with _underscores_"
   ]
  },
  {
   "cell_type": "code",
   "execution_count": 14,
   "metadata": {},
   "outputs": [],
   "source": [
    "newSampID <- gsub('-','\\\\.',pData(obj)$SAMPID)"
   ]
  },
  {
   "cell_type": "code",
   "execution_count": 15,
   "metadata": {},
   "outputs": [
    {
     "data": {
      "text/html": [
       "<style>\n",
       ".list-inline {list-style: none; margin:0; padding: 0}\n",
       ".list-inline>li {display: inline-block}\n",
       ".list-inline>li:not(:last-child)::after {content: \"\\00b7\"; padding: 0 .5ex}\n",
       "</style>\n",
       "<ol class=list-inline><li>'GTEX.1117F.0226.SM.5GZZ7'</li><li>'GTEX.1117F.0426.SM.5EGHI'</li><li>'GTEX.1117F.0526.SM.5EGHJ'</li><li>'GTEX.1117F.0626.SM.5N9CS'</li><li>'GTEX.1117F.0726.SM.5GIEN'</li><li>'GTEX.1117F.1326.SM.5EGHH'</li></ol>\n"
      ],
      "text/latex": [
       "\\begin{enumerate*}\n",
       "\\item 'GTEX.1117F.0226.SM.5GZZ7'\n",
       "\\item 'GTEX.1117F.0426.SM.5EGHI'\n",
       "\\item 'GTEX.1117F.0526.SM.5EGHJ'\n",
       "\\item 'GTEX.1117F.0626.SM.5N9CS'\n",
       "\\item 'GTEX.1117F.0726.SM.5GIEN'\n",
       "\\item 'GTEX.1117F.1326.SM.5EGHH'\n",
       "\\end{enumerate*}\n"
      ],
      "text/markdown": [
       "1. 'GTEX.1117F.0226.SM.5GZZ7'\n",
       "2. 'GTEX.1117F.0426.SM.5EGHI'\n",
       "3. 'GTEX.1117F.0526.SM.5EGHJ'\n",
       "4. 'GTEX.1117F.0626.SM.5N9CS'\n",
       "5. 'GTEX.1117F.0726.SM.5GIEN'\n",
       "6. 'GTEX.1117F.1326.SM.5EGHH'\n",
       "\n",
       "\n"
      ],
      "text/plain": [
       "[1] \"GTEX.1117F.0226.SM.5GZZ7\" \"GTEX.1117F.0426.SM.5EGHI\"\n",
       "[3] \"GTEX.1117F.0526.SM.5EGHJ\" \"GTEX.1117F.0626.SM.5N9CS\"\n",
       "[5] \"GTEX.1117F.0726.SM.5GIEN\" \"GTEX.1117F.1326.SM.5EGHH\""
      ]
     },
     "metadata": {},
     "output_type": "display_data"
    }
   ],
   "source": [
    "head (newSampID)"
   ]
  },
  {
   "cell_type": "code",
   "execution_count": 16,
   "metadata": {},
   "outputs": [],
   "source": [
    "pData(obj)$SAMPID <- newSampID"
   ]
  },
  {
   "cell_type": "code",
   "execution_count": 18,
   "metadata": {},
   "outputs": [
    {
     "data": {
      "text/html": [
       "<style>\n",
       ".list-inline {list-style: none; margin:0; padding: 0}\n",
       ".list-inline>li {display: inline-block}\n",
       ".list-inline>li:not(:last-child)::after {content: \"\\00b7\"; padding: 0 .5ex}\n",
       "</style>\n",
       "<ol class=list-inline><li>'SAMPID'</li><li>'SMATSSCR'</li><li>'SMCENTER'</li><li>'SMPTHNTS'</li><li>'SMRIN'</li><li>'SMTS'</li><li>'SMTSD'</li><li>'SMUBRID'</li><li>'SMTSISCH'</li><li>'SMTSPAX'</li><li>'SMNABTCH'</li><li>'SMNABTCHT'</li><li>'SMNABTCHD'</li><li>'SMGEBTCH'</li><li>'SMGEBTCHD'</li><li>'SMGEBTCHT'</li><li>'SMAFRZE'</li><li>'SMGTC'</li><li>'SME2MPRT'</li><li>'SMCHMPRS'</li><li>'SMNTRART'</li><li>'SMNUMGPS'</li><li>'SMMAPRT'</li><li>'SMEXNCRT'</li><li>'SM550NRM'</li><li>'SMGNSDTC'</li><li>'SMUNMPRT'</li><li>'SM350NRM'</li><li>'SMRDLGTH'</li><li>'SMMNCPB'</li><li>'SME1MMRT'</li><li>'SMSFLGTH'</li><li>'SMESTLBS'</li><li>'SMMPPD'</li><li>'SMNTERRT'</li><li>'SMRRNANM'</li><li>'SMRDTTL'</li><li>'SMVQCFL'</li><li>'SMMNCV'</li><li>'SMTRSCPT'</li><li>'SMMPPDPR'</li><li>'SMCGLGTH'</li><li>'SMGAPPCT'</li><li>'SMUNPDRD'</li><li>'SMNTRNRT'</li><li>'SMMPUNRT'</li><li>'SMEXPEFF'</li><li>'SMMPPDUN'</li><li>'SME2MMRT'</li><li>'SME2ANTI'</li><li>'SMALTALG'</li><li>'SME2SNSE'</li><li>'SMMFLGTH'</li><li>'SME1ANTI'</li><li>'SMSPLTRD'</li><li>'SMBSMMRT'</li><li>'SME1SNSE'</li><li>'SME1PCTS'</li><li>'SMRRNART'</li><li>'SME1MPRT'</li><li>'SMNUM5CD'</li><li>'SMDPMPRT'</li><li>'SME2PCTS'</li><li>'SUBJID'</li><li>'SEX'</li><li>'AGE'</li><li>'DTHHRDY'</li></ol>\n"
      ],
      "text/latex": [
       "\\begin{enumerate*}\n",
       "\\item 'SAMPID'\n",
       "\\item 'SMATSSCR'\n",
       "\\item 'SMCENTER'\n",
       "\\item 'SMPTHNTS'\n",
       "\\item 'SMRIN'\n",
       "\\item 'SMTS'\n",
       "\\item 'SMTSD'\n",
       "\\item 'SMUBRID'\n",
       "\\item 'SMTSISCH'\n",
       "\\item 'SMTSPAX'\n",
       "\\item 'SMNABTCH'\n",
       "\\item 'SMNABTCHT'\n",
       "\\item 'SMNABTCHD'\n",
       "\\item 'SMGEBTCH'\n",
       "\\item 'SMGEBTCHD'\n",
       "\\item 'SMGEBTCHT'\n",
       "\\item 'SMAFRZE'\n",
       "\\item 'SMGTC'\n",
       "\\item 'SME2MPRT'\n",
       "\\item 'SMCHMPRS'\n",
       "\\item 'SMNTRART'\n",
       "\\item 'SMNUMGPS'\n",
       "\\item 'SMMAPRT'\n",
       "\\item 'SMEXNCRT'\n",
       "\\item 'SM550NRM'\n",
       "\\item 'SMGNSDTC'\n",
       "\\item 'SMUNMPRT'\n",
       "\\item 'SM350NRM'\n",
       "\\item 'SMRDLGTH'\n",
       "\\item 'SMMNCPB'\n",
       "\\item 'SME1MMRT'\n",
       "\\item 'SMSFLGTH'\n",
       "\\item 'SMESTLBS'\n",
       "\\item 'SMMPPD'\n",
       "\\item 'SMNTERRT'\n",
       "\\item 'SMRRNANM'\n",
       "\\item 'SMRDTTL'\n",
       "\\item 'SMVQCFL'\n",
       "\\item 'SMMNCV'\n",
       "\\item 'SMTRSCPT'\n",
       "\\item 'SMMPPDPR'\n",
       "\\item 'SMCGLGTH'\n",
       "\\item 'SMGAPPCT'\n",
       "\\item 'SMUNPDRD'\n",
       "\\item 'SMNTRNRT'\n",
       "\\item 'SMMPUNRT'\n",
       "\\item 'SMEXPEFF'\n",
       "\\item 'SMMPPDUN'\n",
       "\\item 'SME2MMRT'\n",
       "\\item 'SME2ANTI'\n",
       "\\item 'SMALTALG'\n",
       "\\item 'SME2SNSE'\n",
       "\\item 'SMMFLGTH'\n",
       "\\item 'SME1ANTI'\n",
       "\\item 'SMSPLTRD'\n",
       "\\item 'SMBSMMRT'\n",
       "\\item 'SME1SNSE'\n",
       "\\item 'SME1PCTS'\n",
       "\\item 'SMRRNART'\n",
       "\\item 'SME1MPRT'\n",
       "\\item 'SMNUM5CD'\n",
       "\\item 'SMDPMPRT'\n",
       "\\item 'SME2PCTS'\n",
       "\\item 'SUBJID'\n",
       "\\item 'SEX'\n",
       "\\item 'AGE'\n",
       "\\item 'DTHHRDY'\n",
       "\\end{enumerate*}\n"
      ],
      "text/markdown": [
       "1. 'SAMPID'\n",
       "2. 'SMATSSCR'\n",
       "3. 'SMCENTER'\n",
       "4. 'SMPTHNTS'\n",
       "5. 'SMRIN'\n",
       "6. 'SMTS'\n",
       "7. 'SMTSD'\n",
       "8. 'SMUBRID'\n",
       "9. 'SMTSISCH'\n",
       "10. 'SMTSPAX'\n",
       "11. 'SMNABTCH'\n",
       "12. 'SMNABTCHT'\n",
       "13. 'SMNABTCHD'\n",
       "14. 'SMGEBTCH'\n",
       "15. 'SMGEBTCHD'\n",
       "16. 'SMGEBTCHT'\n",
       "17. 'SMAFRZE'\n",
       "18. 'SMGTC'\n",
       "19. 'SME2MPRT'\n",
       "20. 'SMCHMPRS'\n",
       "21. 'SMNTRART'\n",
       "22. 'SMNUMGPS'\n",
       "23. 'SMMAPRT'\n",
       "24. 'SMEXNCRT'\n",
       "25. 'SM550NRM'\n",
       "26. 'SMGNSDTC'\n",
       "27. 'SMUNMPRT'\n",
       "28. 'SM350NRM'\n",
       "29. 'SMRDLGTH'\n",
       "30. 'SMMNCPB'\n",
       "31. 'SME1MMRT'\n",
       "32. 'SMSFLGTH'\n",
       "33. 'SMESTLBS'\n",
       "34. 'SMMPPD'\n",
       "35. 'SMNTERRT'\n",
       "36. 'SMRRNANM'\n",
       "37. 'SMRDTTL'\n",
       "38. 'SMVQCFL'\n",
       "39. 'SMMNCV'\n",
       "40. 'SMTRSCPT'\n",
       "41. 'SMMPPDPR'\n",
       "42. 'SMCGLGTH'\n",
       "43. 'SMGAPPCT'\n",
       "44. 'SMUNPDRD'\n",
       "45. 'SMNTRNRT'\n",
       "46. 'SMMPUNRT'\n",
       "47. 'SMEXPEFF'\n",
       "48. 'SMMPPDUN'\n",
       "49. 'SME2MMRT'\n",
       "50. 'SME2ANTI'\n",
       "51. 'SMALTALG'\n",
       "52. 'SME2SNSE'\n",
       "53. 'SMMFLGTH'\n",
       "54. 'SME1ANTI'\n",
       "55. 'SMSPLTRD'\n",
       "56. 'SMBSMMRT'\n",
       "57. 'SME1SNSE'\n",
       "58. 'SME1PCTS'\n",
       "59. 'SMRRNART'\n",
       "60. 'SME1MPRT'\n",
       "61. 'SMNUM5CD'\n",
       "62. 'SMDPMPRT'\n",
       "63. 'SME2PCTS'\n",
       "64. 'SUBJID'\n",
       "65. 'SEX'\n",
       "66. 'AGE'\n",
       "67. 'DTHHRDY'\n",
       "\n",
       "\n"
      ],
      "text/plain": [
       " [1] \"SAMPID\"    \"SMATSSCR\"  \"SMCENTER\"  \"SMPTHNTS\"  \"SMRIN\"     \"SMTS\"     \n",
       " [7] \"SMTSD\"     \"SMUBRID\"   \"SMTSISCH\"  \"SMTSPAX\"   \"SMNABTCH\"  \"SMNABTCHT\"\n",
       "[13] \"SMNABTCHD\" \"SMGEBTCH\"  \"SMGEBTCHD\" \"SMGEBTCHT\" \"SMAFRZE\"   \"SMGTC\"    \n",
       "[19] \"SME2MPRT\"  \"SMCHMPRS\"  \"SMNTRART\"  \"SMNUMGPS\"  \"SMMAPRT\"   \"SMEXNCRT\" \n",
       "[25] \"SM550NRM\"  \"SMGNSDTC\"  \"SMUNMPRT\"  \"SM350NRM\"  \"SMRDLGTH\"  \"SMMNCPB\"  \n",
       "[31] \"SME1MMRT\"  \"SMSFLGTH\"  \"SMESTLBS\"  \"SMMPPD\"    \"SMNTERRT\"  \"SMRRNANM\" \n",
       "[37] \"SMRDTTL\"   \"SMVQCFL\"   \"SMMNCV\"    \"SMTRSCPT\"  \"SMMPPDPR\"  \"SMCGLGTH\" \n",
       "[43] \"SMGAPPCT\"  \"SMUNPDRD\"  \"SMNTRNRT\"  \"SMMPUNRT\"  \"SMEXPEFF\"  \"SMMPPDUN\" \n",
       "[49] \"SME2MMRT\"  \"SME2ANTI\"  \"SMALTALG\"  \"SME2SNSE\"  \"SMMFLGTH\"  \"SME1ANTI\" \n",
       "[55] \"SMSPLTRD\"  \"SMBSMMRT\"  \"SME1SNSE\"  \"SME1PCTS\"  \"SMRRNART\"  \"SME1MPRT\" \n",
       "[61] \"SMNUM5CD\"  \"SMDPMPRT\"  \"SME2PCTS\"  \"SUBJID\"    \"SEX\"       \"AGE\"      \n",
       "[67] \"DTHHRDY\"  "
      ]
     },
     "metadata": {},
     "output_type": "display_data"
    }
   ],
   "source": [
    "colnames(pData(obj))"
   ]
  },
  {
   "cell_type": "code",
   "execution_count": 60,
   "metadata": {},
   "outputs": [
    {
     "data": {
      "text/html": [
       "<table>\n",
       "<caption>A matrix: 6 × 17382 of type dbl</caption>\n",
       "<thead>\n",
       "\t<tr><th></th><th scope=col>GTEX-1117F-0226-SM-5GZZ7</th><th scope=col>GTEX-1117F-0426-SM-5EGHI</th><th scope=col>GTEX-1117F-0526-SM-5EGHJ</th><th scope=col>GTEX-1117F-0626-SM-5N9CS</th><th scope=col>GTEX-1117F-0726-SM-5GIEN</th><th scope=col>GTEX-1117F-1326-SM-5EGHH</th><th scope=col>GTEX-1117F-2426-SM-5EGGH</th><th scope=col>GTEX-1117F-2526-SM-5GZY6</th><th scope=col>GTEX-1117F-2826-SM-5GZXL</th><th scope=col>GTEX-1117F-2926-SM-5GZYI</th><th scope=col>⋯</th><th scope=col>GTEX-ZZPU-1126-SM-5N9CW</th><th scope=col>GTEX-ZZPU-1226-SM-5N9CK</th><th scope=col>GTEX-ZZPU-1326-SM-5GZWS</th><th scope=col>GTEX-ZZPU-1426-SM-5GZZ6</th><th scope=col>GTEX-ZZPU-1826-SM-5E43L</th><th scope=col>GTEX-ZZPU-2126-SM-5EGIU</th><th scope=col>GTEX-ZZPU-2226-SM-5EGIV</th><th scope=col>GTEX-ZZPU-2426-SM-5E44I</th><th scope=col>GTEX-ZZPU-2626-SM-5E45Y</th><th scope=col>GTEX-ZZPU-2726-SM-5NQ8O</th></tr>\n",
       "</thead>\n",
       "<tbody>\n",
       "\t<tr><th scope=row>ENSG00000223972.5</th><td>  0</td><td>  0</td><td>  0</td><td>  0</td><td>  0</td><td>  0</td><td>  0</td><td>  0</td><td>  0</td><td>  0</td><td>⋯</td><td> 0</td><td> 2</td><td>  0</td><td> 0</td><td> 0</td><td> 0</td><td> 0</td><td> 0</td><td> 1</td><td> 1</td></tr>\n",
       "\t<tr><th scope=row>ENSG00000227232.5</th><td>187</td><td>109</td><td>143</td><td>251</td><td>113</td><td>139</td><td>199</td><td>473</td><td>286</td><td>306</td><td>⋯</td><td>72</td><td>96</td><td>136</td><td>79</td><td>89</td><td>86</td><td>49</td><td>84</td><td>34</td><td>66</td></tr>\n",
       "\t<tr><th scope=row>ENSG00000278267.1</th><td>  0</td><td>  0</td><td>  1</td><td>  0</td><td>  0</td><td>  0</td><td>  0</td><td>  0</td><td>  0</td><td>  0</td><td>⋯</td><td> 0</td><td> 0</td><td>  0</td><td> 0</td><td> 0</td><td> 0</td><td> 0</td><td> 0</td><td> 0</td><td> 0</td></tr>\n",
       "\t<tr><th scope=row>ENSG00000243485.5</th><td>  1</td><td>  0</td><td>  0</td><td>  1</td><td>  0</td><td>  0</td><td>  0</td><td>  0</td><td>  0</td><td>  1</td><td>⋯</td><td> 0</td><td> 0</td><td>  1</td><td> 0</td><td> 2</td><td> 2</td><td> 0</td><td> 1</td><td> 0</td><td> 0</td></tr>\n",
       "\t<tr><th scope=row>ENSG00000237613.2</th><td>  0</td><td>  0</td><td>  0</td><td>  0</td><td>  0</td><td>  0</td><td>  0</td><td>  1</td><td>  0</td><td>  0</td><td>⋯</td><td> 1</td><td> 0</td><td>  0</td><td> 0</td><td> 0</td><td> 0</td><td> 0</td><td> 0</td><td> 0</td><td> 0</td></tr>\n",
       "\t<tr><th scope=row>ENSG00000268020.3</th><td>  0</td><td>  1</td><td>  0</td><td>  0</td><td>  0</td><td>  1</td><td>  1</td><td>  0</td><td>  1</td><td>  2</td><td>⋯</td><td> 1</td><td> 0</td><td>  0</td><td> 1</td><td> 2</td><td> 0</td><td> 0</td><td> 0</td><td> 1</td><td> 1</td></tr>\n",
       "</tbody>\n",
       "</table>\n"
      ],
      "text/latex": [
       "A matrix: 6 × 17382 of type dbl\n",
       "\\begin{tabular}{r|lllllllllllllllllllll}\n",
       "  & GTEX-1117F-0226-SM-5GZZ7 & GTEX-1117F-0426-SM-5EGHI & GTEX-1117F-0526-SM-5EGHJ & GTEX-1117F-0626-SM-5N9CS & GTEX-1117F-0726-SM-5GIEN & GTEX-1117F-1326-SM-5EGHH & GTEX-1117F-2426-SM-5EGGH & GTEX-1117F-2526-SM-5GZY6 & GTEX-1117F-2826-SM-5GZXL & GTEX-1117F-2926-SM-5GZYI & ⋯ & GTEX-ZZPU-1126-SM-5N9CW & GTEX-ZZPU-1226-SM-5N9CK & GTEX-ZZPU-1326-SM-5GZWS & GTEX-ZZPU-1426-SM-5GZZ6 & GTEX-ZZPU-1826-SM-5E43L & GTEX-ZZPU-2126-SM-5EGIU & GTEX-ZZPU-2226-SM-5EGIV & GTEX-ZZPU-2426-SM-5E44I & GTEX-ZZPU-2626-SM-5E45Y & GTEX-ZZPU-2726-SM-5NQ8O\\\\\n",
       "\\hline\n",
       "\tENSG00000223972.5 &   0 &   0 &   0 &   0 &   0 &   0 &   0 &   0 &   0 &   0 & ⋯ &  0 &  2 &   0 &  0 &  0 &  0 &  0 &  0 &  1 &  1\\\\\n",
       "\tENSG00000227232.5 & 187 & 109 & 143 & 251 & 113 & 139 & 199 & 473 & 286 & 306 & ⋯ & 72 & 96 & 136 & 79 & 89 & 86 & 49 & 84 & 34 & 66\\\\\n",
       "\tENSG00000278267.1 &   0 &   0 &   1 &   0 &   0 &   0 &   0 &   0 &   0 &   0 & ⋯ &  0 &  0 &   0 &  0 &  0 &  0 &  0 &  0 &  0 &  0\\\\\n",
       "\tENSG00000243485.5 &   1 &   0 &   0 &   1 &   0 &   0 &   0 &   0 &   0 &   1 & ⋯ &  0 &  0 &   1 &  0 &  2 &  2 &  0 &  1 &  0 &  0\\\\\n",
       "\tENSG00000237613.2 &   0 &   0 &   0 &   0 &   0 &   0 &   0 &   1 &   0 &   0 & ⋯ &  1 &  0 &   0 &  0 &  0 &  0 &  0 &  0 &  0 &  0\\\\\n",
       "\tENSG00000268020.3 &   0 &   1 &   0 &   0 &   0 &   1 &   1 &   0 &   1 &   2 & ⋯ &  1 &  0 &   0 &  1 &  2 &  0 &  0 &  0 &  1 &  1\\\\\n",
       "\\end{tabular}\n"
      ],
      "text/markdown": [
       "\n",
       "A matrix: 6 × 17382 of type dbl\n",
       "\n",
       "| <!--/--> | GTEX-1117F-0226-SM-5GZZ7 | GTEX-1117F-0426-SM-5EGHI | GTEX-1117F-0526-SM-5EGHJ | GTEX-1117F-0626-SM-5N9CS | GTEX-1117F-0726-SM-5GIEN | GTEX-1117F-1326-SM-5EGHH | GTEX-1117F-2426-SM-5EGGH | GTEX-1117F-2526-SM-5GZY6 | GTEX-1117F-2826-SM-5GZXL | GTEX-1117F-2926-SM-5GZYI | ⋯ | GTEX-ZZPU-1126-SM-5N9CW | GTEX-ZZPU-1226-SM-5N9CK | GTEX-ZZPU-1326-SM-5GZWS | GTEX-ZZPU-1426-SM-5GZZ6 | GTEX-ZZPU-1826-SM-5E43L | GTEX-ZZPU-2126-SM-5EGIU | GTEX-ZZPU-2226-SM-5EGIV | GTEX-ZZPU-2426-SM-5E44I | GTEX-ZZPU-2626-SM-5E45Y | GTEX-ZZPU-2726-SM-5NQ8O |\n",
       "|---|---|---|---|---|---|---|---|---|---|---|---|---|---|---|---|---|---|---|---|---|---|\n",
       "| ENSG00000223972.5 |   0 |   0 |   0 |   0 |   0 |   0 |   0 |   0 |   0 |   0 | ⋯ |  0 |  2 |   0 |  0 |  0 |  0 |  0 |  0 |  1 |  1 |\n",
       "| ENSG00000227232.5 | 187 | 109 | 143 | 251 | 113 | 139 | 199 | 473 | 286 | 306 | ⋯ | 72 | 96 | 136 | 79 | 89 | 86 | 49 | 84 | 34 | 66 |\n",
       "| ENSG00000278267.1 |   0 |   0 |   1 |   0 |   0 |   0 |   0 |   0 |   0 |   0 | ⋯ |  0 |  0 |   0 |  0 |  0 |  0 |  0 |  0 |  0 |  0 |\n",
       "| ENSG00000243485.5 |   1 |   0 |   0 |   1 |   0 |   0 |   0 |   0 |   0 |   1 | ⋯ |  0 |  0 |   1 |  0 |  2 |  2 |  0 |  1 |  0 |  0 |\n",
       "| ENSG00000237613.2 |   0 |   0 |   0 |   0 |   0 |   0 |   0 |   1 |   0 |   0 | ⋯ |  1 |  0 |   0 |  0 |  0 |  0 |  0 |  0 |  0 |  0 |\n",
       "| ENSG00000268020.3 |   0 |   1 |   0 |   0 |   0 |   1 |   1 |   0 |   1 |   2 | ⋯ |  1 |  0 |   0 |  1 |  2 |  0 |  0 |  0 |  1 |  1 |\n",
       "\n"
      ],
      "text/plain": [
       "                  GTEX-1117F-0226-SM-5GZZ7 GTEX-1117F-0426-SM-5EGHI\n",
       "ENSG00000223972.5   0                        0                     \n",
       "ENSG00000227232.5 187                      109                     \n",
       "ENSG00000278267.1   0                        0                     \n",
       "ENSG00000243485.5   1                        0                     \n",
       "ENSG00000237613.2   0                        0                     \n",
       "ENSG00000268020.3   0                        1                     \n",
       "                  GTEX-1117F-0526-SM-5EGHJ GTEX-1117F-0626-SM-5N9CS\n",
       "ENSG00000223972.5   0                        0                     \n",
       "ENSG00000227232.5 143                      251                     \n",
       "ENSG00000278267.1   1                        0                     \n",
       "ENSG00000243485.5   0                        1                     \n",
       "ENSG00000237613.2   0                        0                     \n",
       "ENSG00000268020.3   0                        0                     \n",
       "                  GTEX-1117F-0726-SM-5GIEN GTEX-1117F-1326-SM-5EGHH\n",
       "ENSG00000223972.5   0                        0                     \n",
       "ENSG00000227232.5 113                      139                     \n",
       "ENSG00000278267.1   0                        0                     \n",
       "ENSG00000243485.5   0                        0                     \n",
       "ENSG00000237613.2   0                        0                     \n",
       "ENSG00000268020.3   0                        1                     \n",
       "                  GTEX-1117F-2426-SM-5EGGH GTEX-1117F-2526-SM-5GZY6\n",
       "ENSG00000223972.5   0                        0                     \n",
       "ENSG00000227232.5 199                      473                     \n",
       "ENSG00000278267.1   0                        0                     \n",
       "ENSG00000243485.5   0                        0                     \n",
       "ENSG00000237613.2   0                        1                     \n",
       "ENSG00000268020.3   1                        0                     \n",
       "                  GTEX-1117F-2826-SM-5GZXL GTEX-1117F-2926-SM-5GZYI ⋯\n",
       "ENSG00000223972.5   0                        0                      ⋯\n",
       "ENSG00000227232.5 286                      306                      ⋯\n",
       "ENSG00000278267.1   0                        0                      ⋯\n",
       "ENSG00000243485.5   0                        1                      ⋯\n",
       "ENSG00000237613.2   0                        0                      ⋯\n",
       "ENSG00000268020.3   1                        2                      ⋯\n",
       "                  GTEX-ZZPU-1126-SM-5N9CW GTEX-ZZPU-1226-SM-5N9CK\n",
       "ENSG00000223972.5  0                       2                     \n",
       "ENSG00000227232.5 72                      96                     \n",
       "ENSG00000278267.1  0                       0                     \n",
       "ENSG00000243485.5  0                       0                     \n",
       "ENSG00000237613.2  1                       0                     \n",
       "ENSG00000268020.3  1                       0                     \n",
       "                  GTEX-ZZPU-1326-SM-5GZWS GTEX-ZZPU-1426-SM-5GZZ6\n",
       "ENSG00000223972.5   0                      0                     \n",
       "ENSG00000227232.5 136                     79                     \n",
       "ENSG00000278267.1   0                      0                     \n",
       "ENSG00000243485.5   1                      0                     \n",
       "ENSG00000237613.2   0                      0                     \n",
       "ENSG00000268020.3   0                      1                     \n",
       "                  GTEX-ZZPU-1826-SM-5E43L GTEX-ZZPU-2126-SM-5EGIU\n",
       "ENSG00000223972.5  0                       0                     \n",
       "ENSG00000227232.5 89                      86                     \n",
       "ENSG00000278267.1  0                       0                     \n",
       "ENSG00000243485.5  2                       2                     \n",
       "ENSG00000237613.2  0                       0                     \n",
       "ENSG00000268020.3  2                       0                     \n",
       "                  GTEX-ZZPU-2226-SM-5EGIV GTEX-ZZPU-2426-SM-5E44I\n",
       "ENSG00000223972.5  0                       0                     \n",
       "ENSG00000227232.5 49                      84                     \n",
       "ENSG00000278267.1  0                       0                     \n",
       "ENSG00000243485.5  0                       1                     \n",
       "ENSG00000237613.2  0                       0                     \n",
       "ENSG00000268020.3  0                       0                     \n",
       "                  GTEX-ZZPU-2626-SM-5E45Y GTEX-ZZPU-2726-SM-5NQ8O\n",
       "ENSG00000223972.5  1                       1                     \n",
       "ENSG00000227232.5 34                      66                     \n",
       "ENSG00000278267.1  0                       0                     \n",
       "ENSG00000243485.5  0                       0                     \n",
       "ENSG00000237613.2  0                       0                     \n",
       "ENSG00000268020.3  1                       1                     "
      ]
     },
     "metadata": {},
     "output_type": "display_data"
    }
   ],
   "source": [
    "head(exprs(obj))"
   ]
  },
  {
   "cell_type": "code",
   "execution_count": 19,
   "metadata": {},
   "outputs": [],
   "source": [
    "tissueFactors <- factor(pData(obj)$SMTS)"
   ]
  },
  {
   "cell_type": "code",
   "execution_count": 20,
   "metadata": {},
   "outputs": [
    {
     "data": {
      "text/plain": [
       "tissueFactors\n",
       " Adipose Tissue   Adrenal Gland         Bladder           Blood    Blood Vessel \n",
       "           1204             258              21             929            1335 \n",
       "          Brain          Breast    Cervix Uteri           Colon       Esophagus \n",
       "           2642             459              19             779            1445 \n",
       " Fallopian Tube           Heart          Kidney           Liver            Lung \n",
       "              9             861              89             226             578 \n",
       "         Muscle           Nerve           Ovary        Pancreas       Pituitary \n",
       "            803             619             180             328             283 \n",
       "       Prostate  Salivary Gland            Skin Small Intestine          Spleen \n",
       "            245             162            1809             187             241 \n",
       "        Stomach          Testis         Thyroid          Uterus          Vagina \n",
       "            359             361             653             142             156 "
      ]
     },
     "metadata": {},
     "output_type": "display_data"
    }
   ],
   "source": [
    "table(tissueFactors)"
   ]
  },
  {
   "cell_type": "code",
   "execution_count": 21,
   "metadata": {},
   "outputs": [],
   "source": [
    "# SEX is coded 1 == Male\n",
    "#              2 == Female\n",
    "sex <- pData(obj)$SEX\n",
    "age <- pData(obj)$AGE\n",
    "#cod <- cause of death\n",
    "cod <- pData(obj)$DTHHRDY\n"
   ]
  },
  {
   "cell_type": "code",
   "execution_count": 22,
   "metadata": {},
   "outputs": [
    {
     "data": {
      "text/plain": [
       "sex\n",
       "    1     2 \n",
       "11584  5798 "
      ]
     },
     "metadata": {},
     "output_type": "display_data"
    },
    {
     "data": {
      "text/plain": [
       "age\n",
       "20-29 30-39 40-49 50-59 60-69 70-79 \n",
       " 1320  1323  2702  5615  5821   601 "
      ]
     },
     "metadata": {},
     "output_type": "display_data"
    },
    {
     "data": {
      "text/plain": [
       "cod\n",
       "   0    1    2    3    4 \n",
       "8814  711 4839  868 2039 "
      ]
     },
     "metadata": {},
     "output_type": "display_data"
    }
   ],
   "source": [
    "table(sex)\n",
    "table(age)\n",
    "table(cod)"
   ]
  },
  {
   "cell_type": "markdown",
   "metadata": {},
   "source": [
    "Now let us do the differential analysis - using EdgeR"
   ]
  },
  {
   "cell_type": "code",
   "execution_count": 23,
   "metadata": {},
   "outputs": [],
   "source": [
    "x <- exprs(obj)"
   ]
  },
  {
   "cell_type": "code",
   "execution_count": 24,
   "metadata": {},
   "outputs": [
    {
     "data": {
      "text/html": [
       "<style>\n",
       ".list-inline {list-style: none; margin:0; padding: 0}\n",
       ".list-inline>li {display: inline-block}\n",
       ".list-inline>li:not(:last-child)::after {content: \"\\00b7\"; padding: 0 .5ex}\n",
       "</style>\n",
       "<ol class=list-inline><li>55878</li><li>17382</li></ol>\n"
      ],
      "text/latex": [
       "\\begin{enumerate*}\n",
       "\\item 55878\n",
       "\\item 17382\n",
       "\\end{enumerate*}\n"
      ],
      "text/markdown": [
       "1. 55878\n",
       "2. 17382\n",
       "\n",
       "\n"
      ],
      "text/plain": [
       "[1] 55878 17382"
      ]
     },
     "metadata": {},
     "output_type": "display_data"
    }
   ],
   "source": [
    "dim(x)"
   ]
  },
  {
   "cell_type": "markdown",
   "metadata": {},
   "source": [
    "To use the DGEList function from EdgeR, we need to transpose our x so that the length of group is equal\n",
    "to the number of columns in our counts (x).\n",
    "\n",
    "You will get an error in DGEList (counts = x, group = group) if the length of group is not equal to the number of columns in counts"
   ]
  },
  {
   "cell_type": "code",
   "execution_count": 25,
   "metadata": {},
   "outputs": [],
   "source": [
    "group <- factor(pData(obj)$SEX)"
   ]
  },
  {
   "cell_type": "code",
   "execution_count": 28,
   "metadata": {},
   "outputs": [],
   "source": [
    "y <- DGEList(counts=x, group=group)"
   ]
  },
  {
   "cell_type": "markdown",
   "metadata": {},
   "source": [
    "I keep running out of memory on this step - so on my laptop after calculating the DGEList\n",
    "I saved it and now I uploaded it to this larger memory machine"
   ]
  },
  {
   "cell_type": "code",
   "execution_count": 30,
   "metadata": {},
   "outputs": [
    {
     "data": {
      "text/html": [
       "<dl>\n",
       "\t<dt>$class</dt>\n",
       "\t\t<dd>'DGEList'</dd>\n",
       "\t<dt>$names</dt>\n",
       "\t\t<dd><style>\n",
       ".list-inline {list-style: none; margin:0; padding: 0}\n",
       ".list-inline>li {display: inline-block}\n",
       ".list-inline>li:not(:last-child)::after {content: \"\\00b7\"; padding: 0 .5ex}\n",
       "</style>\n",
       "<ol class=list-inline><li>'counts'</li><li>'samples'</li></ol>\n",
       "</dd>\n",
       "</dl>\n"
      ],
      "text/latex": [
       "\\begin{description}\n",
       "\\item[\\$class] 'DGEList'\n",
       "\\item[\\$names] \\begin{enumerate*}\n",
       "\\item 'counts'\n",
       "\\item 'samples'\n",
       "\\end{enumerate*}\n",
       "\n",
       "\\end{description}\n"
      ],
      "text/markdown": [
       "$class\n",
       ":   'DGEList'\n",
       "$names\n",
       ":   1. 'counts'\n",
       "2. 'samples'\n",
       "\n",
       "\n",
       "\n",
       "\n",
       "\n"
      ],
      "text/plain": [
       "$class\n",
       "[1] \"DGEList\"\n",
       "attr(,\"package\")\n",
       "[1] \"edgeR\"\n",
       "\n",
       "$names\n",
       "[1] \"counts\"  \"samples\"\n"
      ]
     },
     "metadata": {},
     "output_type": "display_data"
    }
   ],
   "source": [
    "attributes(y)"
   ]
  },
  {
   "cell_type": "code",
   "execution_count": null,
   "metadata": {},
   "outputs": [],
   "source": [
    "#caution this step takes a lot of memory and time"
   ]
  },
  {
   "cell_type": "code",
   "execution_count": 31,
   "metadata": {},
   "outputs": [],
   "source": [
    "y <- calcNormFactors(y)"
   ]
  },
  {
   "cell_type": "code",
   "execution_count": 32,
   "metadata": {},
   "outputs": [],
   "source": [
    "saveRDS(y, file = \"../data/DGENormFactorsy.rds\")"
   ]
  },
  {
   "cell_type": "code",
   "execution_count": null,
   "metadata": {},
   "outputs": [],
   "source": [
    "# For Guy -- does this do what you are expecting -- I am confused because what you get when you\n",
    "#        ask for the min (table(groups)) is the smaller sized group -- which in this case is \n",
    "#        female -- it will help the reader to know what you are doing here with the statement.\n",
    "#        one can read what it is doing but not understand your objective."
   ]
  },
  {
   "cell_type": "code",
   "execution_count": 33,
   "metadata": {},
   "outputs": [],
   "source": [
    "groups <- pData(obj)$SEX\n",
    "keep.events <- rep(TRUE, nrow(y))\n",
    "for (group in c(1,2)) {\n",
    "    keep.events <- keep.events & \n",
    "                   rowSums(cpm(y[,groups %in% group]) > 1) >= 0.25*min(table(groups))\n",
    "}\n"
   ]
  },
  {
   "cell_type": "code",
   "execution_count": 37,
   "metadata": {},
   "outputs": [],
   "source": [
    "reduced_y<- y[keep.events,]"
   ]
  },
  {
   "cell_type": "code",
   "execution_count": 100,
   "metadata": {},
   "outputs": [],
   "source": [
    "reduced_obj <- obj[keep.events==TRUE,]"
   ]
  },
  {
   "cell_type": "code",
   "execution_count": null,
   "metadata": {},
   "outputs": [],
   "source": [
    "saveRDS(reduced_obj, file = \"../data/ExpressionObjectReducedObj.rds\")"
   ]
  },
  {
   "cell_type": "code",
   "execution_count": 101,
   "metadata": {},
   "outputs": [
    {
     "data": {
      "text/html": [
       "<style>\n",
       ".dl-inline {width: auto; margin:0; padding: 0}\n",
       ".dl-inline>dt, .dl-inline>dd {float: none; width: auto; display: inline-block}\n",
       ".dl-inline>dt::after {content: \":\\0020\"; padding-right: .5ex}\n",
       ".dl-inline>dt:not(:first-of-type) {padding-left: .5ex}\n",
       "</style><dl class=dl-inline><dt>Features</dt><dd>16794</dd><dt>Samples</dt><dd>17382</dd></dl>\n"
      ],
      "text/latex": [
       "\\begin{description*}\n",
       "\\item[Features] 16794\n",
       "\\item[Samples] 17382\n",
       "\\end{description*}\n"
      ],
      "text/markdown": [
       "Features\n",
       ":   16794Samples\n",
       ":   17382\n",
       "\n"
      ],
      "text/plain": [
       "Features  Samples \n",
       "   16794    17382 "
      ]
     },
     "metadata": {},
     "output_type": "display_data"
    }
   ],
   "source": [
    "dim(reduced_obj)"
   ]
  },
  {
   "cell_type": "code",
   "execution_count": 44,
   "metadata": {},
   "outputs": [],
   "source": [
    "saveRDS(reduced_y, file = \"../data/DGENormFactorsReducedy.rds\")\n",
    "saveRDS(reduced_obj, file = \"../data/reduced_obj.rds\")"
   ]
  },
  {
   "cell_type": "code",
   "execution_count": 45,
   "metadata": {},
   "outputs": [],
   "source": [
    "# make the design based upon sex \n",
    "design <- model.matrix(~factor(pData(obj)$SEX))"
   ]
  },
  {
   "cell_type": "code",
   "execution_count": null,
   "metadata": {},
   "outputs": [],
   "source": [
    "# From voom function description, we see ‘voom’ is an acronym for mean-variance modelling at the\n",
    "#     observational level. The idea is to estimate the mean-variance\n",
    "#     relationship in the data, then use this to compute an appropriate\n",
    "#     precision weight for each observation. \n",
    "#     ‘voom’ performs the following specific calculations. First, the\n",
    "#     counts are converted to logCPM values, adding 0.5 to all the\n",
    "#     counts to avoid taking the logarithm of zero. "
   ]
  },
  {
   "cell_type": "code",
   "execution_count": 47,
   "metadata": {},
   "outputs": [],
   "source": [
    "v <- voom (reduced_y, design)"
   ]
  },
  {
   "cell_type": "code",
   "execution_count": null,
   "metadata": {},
   "outputs": [],
   "source": [
    "# make a linear fit model based upon the model.matrix"
   ]
  },
  {
   "cell_type": "code",
   "execution_count": 49,
   "metadata": {},
   "outputs": [],
   "source": [
    "fit <- lmFit(v, design)"
   ]
  },
  {
   "cell_type": "code",
   "execution_count": 53,
   "metadata": {},
   "outputs": [
    {
     "name": "stderr",
     "output_type": "stream",
     "text": [
      "Updating HTML index of packages in '.Library'\n",
      "Making 'packages.html' ... done\n"
     ]
    }
   ],
   "source": [
    "install.packages(\"statmod\")\n",
    "library(statmod)"
   ]
  },
  {
   "cell_type": "code",
   "execution_count": 54,
   "metadata": {},
   "outputs": [],
   "source": [
    "fit <- eBayes(fit, robust=TRUE)"
   ]
  },
  {
   "cell_type": "code",
   "execution_count": 56,
   "metadata": {},
   "outputs": [],
   "source": [
    "# extract a table of the top-ranked genes from a linear fit model.\n",
    "results = topTable(fit, coef='factor(pData(obj)$SEX)2',number=nrow(reduced_y))\n"
   ]
  },
  {
   "cell_type": "code",
   "execution_count": 58,
   "metadata": {},
   "outputs": [],
   "source": [
    "write.table(results,'../data/all_FC_results.txt',sep='\\t',quote = F)"
   ]
  },
  {
   "cell_type": "code",
   "execution_count": 105,
   "metadata": {},
   "outputs": [],
   "source": [
    "# separate the analysis by male and by female\n",
    "# then do the differential analysis regarding tissue\n",
    "# then do the differential analysis male tissue vs female tissue"
   ]
  },
  {
   "cell_type": "code",
   "execution_count": 106,
   "metadata": {},
   "outputs": [],
   "source": [
    "reduced_male <- pData(reduced_obj)$SEX==1"
   ]
  },
  {
   "cell_type": "code",
   "execution_count": 118,
   "metadata": {},
   "outputs": [],
   "source": [
    "reduced_female <- pData(reduced_obj)$SEX==2"
   ]
  },
  {
   "cell_type": "code",
   "execution_count": 111,
   "metadata": {},
   "outputs": [
    {
     "data": {
      "text/html": [
       "11584"
      ],
      "text/latex": [
       "11584"
      ],
      "text/markdown": [
       "11584"
      ],
      "text/plain": [
       "[1] 11584"
      ]
     },
     "metadata": {},
     "output_type": "display_data"
    }
   ],
   "source": [
    "sum(reduced_male==TRUE)"
   ]
  },
  {
   "cell_type": "code",
   "execution_count": 114,
   "metadata": {},
   "outputs": [
    {
     "data": {
      "text/html": [
       "17382"
      ],
      "text/latex": [
       "17382"
      ],
      "text/markdown": [
       "17382"
      ],
      "text/plain": [
       "[1] 17382"
      ]
     },
     "metadata": {},
     "output_type": "display_data"
    }
   ],
   "source": [
    "length(reduced_male)"
   ]
  },
  {
   "cell_type": "code",
   "execution_count": 113,
   "metadata": {},
   "outputs": [
    {
     "data": {
      "text/html": [
       "<style>\n",
       ".dl-inline {width: auto; margin:0; padding: 0}\n",
       ".dl-inline>dt, .dl-inline>dd {float: none; width: auto; display: inline-block}\n",
       ".dl-inline>dt::after {content: \":\\0020\"; padding-right: .5ex}\n",
       ".dl-inline>dt:not(:first-of-type) {padding-left: .5ex}\n",
       "</style><dl class=dl-inline><dt>Features</dt><dd>16794</dd><dt>Samples</dt><dd>17382</dd></dl>\n"
      ],
      "text/latex": [
       "\\begin{description*}\n",
       "\\item[Features] 16794\n",
       "\\item[Samples] 17382\n",
       "\\end{description*}\n"
      ],
      "text/markdown": [
       "Features\n",
       ":   16794Samples\n",
       ":   17382\n",
       "\n"
      ],
      "text/plain": [
       "Features  Samples \n",
       "   16794    17382 "
      ]
     },
     "metadata": {},
     "output_type": "display_data"
    }
   ],
   "source": [
    "dim(reduced_obj)"
   ]
  },
  {
   "cell_type": "code",
   "execution_count": 115,
   "metadata": {},
   "outputs": [],
   "source": [
    "reduced_obj_male <- reduced_obj[,reduced_male==TRUE]"
   ]
  },
  {
   "cell_type": "code",
   "execution_count": 116,
   "metadata": {},
   "outputs": [
    {
     "data": {
      "text/html": [
       "<style>\n",
       ".dl-inline {width: auto; margin:0; padding: 0}\n",
       ".dl-inline>dt, .dl-inline>dd {float: none; width: auto; display: inline-block}\n",
       ".dl-inline>dt::after {content: \":\\0020\"; padding-right: .5ex}\n",
       ".dl-inline>dt:not(:first-of-type) {padding-left: .5ex}\n",
       "</style><dl class=dl-inline><dt>Features</dt><dd>16794</dd><dt>Samples</dt><dd>11584</dd></dl>\n"
      ],
      "text/latex": [
       "\\begin{description*}\n",
       "\\item[Features] 16794\n",
       "\\item[Samples] 11584\n",
       "\\end{description*}\n"
      ],
      "text/markdown": [
       "Features\n",
       ":   16794Samples\n",
       ":   11584\n",
       "\n"
      ],
      "text/plain": [
       "Features  Samples \n",
       "   16794    11584 "
      ]
     },
     "metadata": {},
     "output_type": "display_data"
    }
   ],
   "source": [
    "dim(reduced_obj_male)"
   ]
  },
  {
   "cell_type": "code",
   "execution_count": 119,
   "metadata": {},
   "outputs": [],
   "source": [
    "reduced_obj_female <- reduced_obj[,reduced_female==TRUE]"
   ]
  },
  {
   "cell_type": "code",
   "execution_count": 120,
   "metadata": {},
   "outputs": [
    {
     "data": {
      "text/html": [
       "<style>\n",
       ".dl-inline {width: auto; margin:0; padding: 0}\n",
       ".dl-inline>dt, .dl-inline>dd {float: none; width: auto; display: inline-block}\n",
       ".dl-inline>dt::after {content: \":\\0020\"; padding-right: .5ex}\n",
       ".dl-inline>dt:not(:first-of-type) {padding-left: .5ex}\n",
       "</style><dl class=dl-inline><dt>Features</dt><dd>16794</dd><dt>Samples</dt><dd>5798</dd></dl>\n"
      ],
      "text/latex": [
       "\\begin{description*}\n",
       "\\item[Features] 16794\n",
       "\\item[Samples] 5798\n",
       "\\end{description*}\n"
      ],
      "text/markdown": [
       "Features\n",
       ":   16794Samples\n",
       ":   5798\n",
       "\n"
      ],
      "text/plain": [
       "Features  Samples \n",
       "   16794     5798 "
      ]
     },
     "metadata": {},
     "output_type": "display_data"
    }
   ],
   "source": [
    "dim(reduced_obj_female)"
   ]
  },
  {
   "cell_type": "code",
   "execution_count": 121,
   "metadata": {},
   "outputs": [],
   "source": [
    "tissue_groups_male <- factor(pData(reduced_obj_male)$SMTS)"
   ]
  },
  {
   "cell_type": "code",
   "execution_count": 122,
   "metadata": {},
   "outputs": [],
   "source": [
    "tissue_groups_female <- factor(pData(reduced_obj_female)$SMTS)"
   ]
  },
  {
   "cell_type": "code",
   "execution_count": 129,
   "metadata": {},
   "outputs": [],
   "source": [
    "# good sanity check, the male set does not have any vaginas or uterus"
   ]
  },
  {
   "cell_type": "code",
   "execution_count": 130,
   "metadata": {},
   "outputs": [
    {
     "data": {
      "text/plain": [
       "tissue_groups_male\n",
       " Adipose Tissue   Adrenal Gland         Bladder           Blood    Blood Vessel \n",
       "            816             157              14             613             879 \n",
       "          Brain          Breast           Colon       Esophagus           Heart \n",
       "           1914             291             499             952             587 \n",
       "         Kidney           Liver            Lung          Muscle           Nerve \n",
       "             69             161             395             543             419 \n",
       "       Pancreas       Pituitary        Prostate  Salivary Gland            Skin \n",
       "            207             204             245             115            1208 \n",
       "Small Intestine          Spleen         Stomach          Testis         Thyroid \n",
       "            120             154             227             361             434 "
      ]
     },
     "metadata": {},
     "output_type": "display_data"
    }
   ],
   "source": [
    "table (tissue_groups_male)"
   ]
  },
  {
   "cell_type": "code",
   "execution_count": 131,
   "metadata": {},
   "outputs": [],
   "source": [
    "# and the females have no prostate or testis"
   ]
  },
  {
   "cell_type": "code",
   "execution_count": 132,
   "metadata": {},
   "outputs": [
    {
     "data": {
      "text/plain": [
       "tissue_groups_female\n",
       " Adipose Tissue   Adrenal Gland         Bladder           Blood    Blood Vessel \n",
       "            388             101               7             316             456 \n",
       "          Brain          Breast    Cervix Uteri           Colon       Esophagus \n",
       "            728             168              19             280             493 \n",
       " Fallopian Tube           Heart          Kidney           Liver            Lung \n",
       "              9             274              20              65             183 \n",
       "         Muscle           Nerve           Ovary        Pancreas       Pituitary \n",
       "            260             200             180             121              79 \n",
       " Salivary Gland            Skin Small Intestine          Spleen         Stomach \n",
       "             47             601              67              87             132 \n",
       "        Thyroid          Uterus          Vagina \n",
       "            219             142             156 "
      ]
     },
     "metadata": {},
     "output_type": "display_data"
    }
   ],
   "source": [
    "table(tissue_groups_female)"
   ]
  },
  {
   "cell_type": "code",
   "execution_count": 133,
   "metadata": {},
   "outputs": [],
   "source": [
    "y_tissue_male <- DGEList(counts=exprs(reduced_obj_male), group=tissue_groups_male)"
   ]
  },
  {
   "cell_type": "code",
   "execution_count": 134,
   "metadata": {},
   "outputs": [],
   "source": [
    "y_tissue_female <- DGEList(counts=exprs(reduced_obj_female), group=tissue_groups_female)"
   ]
  },
  {
   "cell_type": "code",
   "execution_count": 136,
   "metadata": {},
   "outputs": [],
   "source": [
    "# make the design based upon sex specific tissues \n",
    "design_male <- model.matrix(~tissue_groups_male)\n",
    "design_female <- model.matrix(~tissue_groups_female)"
   ]
  },
  {
   "cell_type": "code",
   "execution_count": 137,
   "metadata": {},
   "outputs": [],
   "source": [
    "y_tissue_male <- calcNormFactors(y_tissue_male)\n",
    "y_tissue_female <- calcNormFactors(y_tissue_female)"
   ]
  },
  {
   "cell_type": "code",
   "execution_count": 138,
   "metadata": {},
   "outputs": [],
   "source": [
    "y_voom_male <- voom (y_tissue_male, design_male)\n",
    "y_voom_female <- voom (y_tissue_female, design_female)"
   ]
  },
  {
   "cell_type": "code",
   "execution_count": 139,
   "metadata": {},
   "outputs": [],
   "source": [
    "y_fit_male <- lmFit(y_voom_male, design_male)\n",
    "y_fit_female <- lmFit(y_voom_female, design_female)"
   ]
  },
  {
   "cell_type": "code",
   "execution_count": 140,
   "metadata": {},
   "outputs": [],
   "source": [
    "y_fit_male <- eBayes(y_fit_male, robust=TRUE)\n",
    "y_fit_female <- eBayes(y_fit_female, robust=TRUE)"
   ]
  },
  {
   "cell_type": "code",
   "execution_count": 147,
   "metadata": {},
   "outputs": [
    {
     "data": {
      "text/html": [
       "<style>\n",
       ".list-inline {list-style: none; margin:0; padding: 0}\n",
       ".list-inline>li {display: inline-block}\n",
       ".list-inline>li:not(:last-child)::after {content: \"\\00b7\"; padding: 0 .5ex}\n",
       "</style>\n",
       "<ol class=list-inline><li>'tissue_groups_maleAdrenal Gland'</li><li>'tissue_groups_maleBladder'</li><li>'tissue_groups_maleBlood'</li><li>'tissue_groups_maleBlood Vessel'</li><li>'tissue_groups_maleBrain'</li><li>'tissue_groups_maleBreast'</li><li>'tissue_groups_maleColon'</li><li>'tissue_groups_maleEsophagus'</li><li>'tissue_groups_maleHeart'</li><li>'tissue_groups_maleKidney'</li><li>'tissue_groups_maleLiver'</li><li>'tissue_groups_maleLung'</li><li>'tissue_groups_maleMuscle'</li><li>'tissue_groups_maleNerve'</li><li>'tissue_groups_malePancreas'</li><li>'tissue_groups_malePituitary'</li><li>'tissue_groups_maleProstate'</li><li>'tissue_groups_maleSalivary Gland'</li><li>'tissue_groups_maleSkin'</li><li>'tissue_groups_maleSmall Intestine'</li><li>'tissue_groups_maleSpleen'</li><li>'tissue_groups_maleStomach'</li><li>'tissue_groups_maleTestis'</li><li>'tissue_groups_maleThyroid'</li></ol>\n"
      ],
      "text/latex": [
       "\\begin{enumerate*}\n",
       "\\item 'tissue\\_groups\\_maleAdrenal Gland'\n",
       "\\item 'tissue\\_groups\\_maleBladder'\n",
       "\\item 'tissue\\_groups\\_maleBlood'\n",
       "\\item 'tissue\\_groups\\_maleBlood Vessel'\n",
       "\\item 'tissue\\_groups\\_maleBrain'\n",
       "\\item 'tissue\\_groups\\_maleBreast'\n",
       "\\item 'tissue\\_groups\\_maleColon'\n",
       "\\item 'tissue\\_groups\\_maleEsophagus'\n",
       "\\item 'tissue\\_groups\\_maleHeart'\n",
       "\\item 'tissue\\_groups\\_maleKidney'\n",
       "\\item 'tissue\\_groups\\_maleLiver'\n",
       "\\item 'tissue\\_groups\\_maleLung'\n",
       "\\item 'tissue\\_groups\\_maleMuscle'\n",
       "\\item 'tissue\\_groups\\_maleNerve'\n",
       "\\item 'tissue\\_groups\\_malePancreas'\n",
       "\\item 'tissue\\_groups\\_malePituitary'\n",
       "\\item 'tissue\\_groups\\_maleProstate'\n",
       "\\item 'tissue\\_groups\\_maleSalivary Gland'\n",
       "\\item 'tissue\\_groups\\_maleSkin'\n",
       "\\item 'tissue\\_groups\\_maleSmall Intestine'\n",
       "\\item 'tissue\\_groups\\_maleSpleen'\n",
       "\\item 'tissue\\_groups\\_maleStomach'\n",
       "\\item 'tissue\\_groups\\_maleTestis'\n",
       "\\item 'tissue\\_groups\\_maleThyroid'\n",
       "\\end{enumerate*}\n"
      ],
      "text/markdown": [
       "1. 'tissue_groups_maleAdrenal Gland'\n",
       "2. 'tissue_groups_maleBladder'\n",
       "3. 'tissue_groups_maleBlood'\n",
       "4. 'tissue_groups_maleBlood Vessel'\n",
       "5. 'tissue_groups_maleBrain'\n",
       "6. 'tissue_groups_maleBreast'\n",
       "7. 'tissue_groups_maleColon'\n",
       "8. 'tissue_groups_maleEsophagus'\n",
       "9. 'tissue_groups_maleHeart'\n",
       "10. 'tissue_groups_maleKidney'\n",
       "11. 'tissue_groups_maleLiver'\n",
       "12. 'tissue_groups_maleLung'\n",
       "13. 'tissue_groups_maleMuscle'\n",
       "14. 'tissue_groups_maleNerve'\n",
       "15. 'tissue_groups_malePancreas'\n",
       "16. 'tissue_groups_malePituitary'\n",
       "17. 'tissue_groups_maleProstate'\n",
       "18. 'tissue_groups_maleSalivary Gland'\n",
       "19. 'tissue_groups_maleSkin'\n",
       "20. 'tissue_groups_maleSmall Intestine'\n",
       "21. 'tissue_groups_maleSpleen'\n",
       "22. 'tissue_groups_maleStomach'\n",
       "23. 'tissue_groups_maleTestis'\n",
       "24. 'tissue_groups_maleThyroid'\n",
       "\n",
       "\n"
      ],
      "text/plain": [
       " [1] \"tissue_groups_maleAdrenal Gland\"   \"tissue_groups_maleBladder\"        \n",
       " [3] \"tissue_groups_maleBlood\"           \"tissue_groups_maleBlood Vessel\"   \n",
       " [5] \"tissue_groups_maleBrain\"           \"tissue_groups_maleBreast\"         \n",
       " [7] \"tissue_groups_maleColon\"           \"tissue_groups_maleEsophagus\"      \n",
       " [9] \"tissue_groups_maleHeart\"           \"tissue_groups_maleKidney\"         \n",
       "[11] \"tissue_groups_maleLiver\"           \"tissue_groups_maleLung\"           \n",
       "[13] \"tissue_groups_maleMuscle\"          \"tissue_groups_maleNerve\"          \n",
       "[15] \"tissue_groups_malePancreas\"        \"tissue_groups_malePituitary\"      \n",
       "[17] \"tissue_groups_maleProstate\"        \"tissue_groups_maleSalivary Gland\" \n",
       "[19] \"tissue_groups_maleSkin\"            \"tissue_groups_maleSmall Intestine\"\n",
       "[21] \"tissue_groups_maleSpleen\"          \"tissue_groups_maleStomach\"        \n",
       "[23] \"tissue_groups_maleTestis\"          \"tissue_groups_maleThyroid\"        "
      ]
     },
     "metadata": {},
     "output_type": "display_data"
    }
   ],
   "source": [
    "y_fit_male_tissues = colnames(y_fit_male)\n",
    "y_fit_male_tissues = y_fit_male_tissues[-1]\n",
    "y_fit_male_tissues"
   ]
  },
  {
   "cell_type": "code",
   "execution_count": 148,
   "metadata": {},
   "outputs": [
    {
     "data": {
      "text/html": [
       "<style>\n",
       ".list-inline {list-style: none; margin:0; padding: 0}\n",
       ".list-inline>li {display: inline-block}\n",
       ".list-inline>li:not(:last-child)::after {content: \"\\00b7\"; padding: 0 .5ex}\n",
       "</style>\n",
       "<ol class=list-inline><li>'tissue_groups_femaleAdrenal Gland'</li><li>'tissue_groups_femaleBladder'</li><li>'tissue_groups_femaleBlood'</li><li>'tissue_groups_femaleBlood Vessel'</li><li>'tissue_groups_femaleBrain'</li><li>'tissue_groups_femaleBreast'</li><li>'tissue_groups_femaleCervix Uteri'</li><li>'tissue_groups_femaleColon'</li><li>'tissue_groups_femaleEsophagus'</li><li>'tissue_groups_femaleFallopian Tube'</li><li>'tissue_groups_femaleHeart'</li><li>'tissue_groups_femaleKidney'</li><li>'tissue_groups_femaleLiver'</li><li>'tissue_groups_femaleLung'</li><li>'tissue_groups_femaleMuscle'</li><li>'tissue_groups_femaleNerve'</li><li>'tissue_groups_femaleOvary'</li><li>'tissue_groups_femalePancreas'</li><li>'tissue_groups_femalePituitary'</li><li>'tissue_groups_femaleSalivary Gland'</li><li>'tissue_groups_femaleSkin'</li><li>'tissue_groups_femaleSmall Intestine'</li><li>'tissue_groups_femaleSpleen'</li><li>'tissue_groups_femaleStomach'</li><li>'tissue_groups_femaleThyroid'</li><li>'tissue_groups_femaleUterus'</li><li>'tissue_groups_femaleVagina'</li></ol>\n"
      ],
      "text/latex": [
       "\\begin{enumerate*}\n",
       "\\item 'tissue\\_groups\\_femaleAdrenal Gland'\n",
       "\\item 'tissue\\_groups\\_femaleBladder'\n",
       "\\item 'tissue\\_groups\\_femaleBlood'\n",
       "\\item 'tissue\\_groups\\_femaleBlood Vessel'\n",
       "\\item 'tissue\\_groups\\_femaleBrain'\n",
       "\\item 'tissue\\_groups\\_femaleBreast'\n",
       "\\item 'tissue\\_groups\\_femaleCervix Uteri'\n",
       "\\item 'tissue\\_groups\\_femaleColon'\n",
       "\\item 'tissue\\_groups\\_femaleEsophagus'\n",
       "\\item 'tissue\\_groups\\_femaleFallopian Tube'\n",
       "\\item 'tissue\\_groups\\_femaleHeart'\n",
       "\\item 'tissue\\_groups\\_femaleKidney'\n",
       "\\item 'tissue\\_groups\\_femaleLiver'\n",
       "\\item 'tissue\\_groups\\_femaleLung'\n",
       "\\item 'tissue\\_groups\\_femaleMuscle'\n",
       "\\item 'tissue\\_groups\\_femaleNerve'\n",
       "\\item 'tissue\\_groups\\_femaleOvary'\n",
       "\\item 'tissue\\_groups\\_femalePancreas'\n",
       "\\item 'tissue\\_groups\\_femalePituitary'\n",
       "\\item 'tissue\\_groups\\_femaleSalivary Gland'\n",
       "\\item 'tissue\\_groups\\_femaleSkin'\n",
       "\\item 'tissue\\_groups\\_femaleSmall Intestine'\n",
       "\\item 'tissue\\_groups\\_femaleSpleen'\n",
       "\\item 'tissue\\_groups\\_femaleStomach'\n",
       "\\item 'tissue\\_groups\\_femaleThyroid'\n",
       "\\item 'tissue\\_groups\\_femaleUterus'\n",
       "\\item 'tissue\\_groups\\_femaleVagina'\n",
       "\\end{enumerate*}\n"
      ],
      "text/markdown": [
       "1. 'tissue_groups_femaleAdrenal Gland'\n",
       "2. 'tissue_groups_femaleBladder'\n",
       "3. 'tissue_groups_femaleBlood'\n",
       "4. 'tissue_groups_femaleBlood Vessel'\n",
       "5. 'tissue_groups_femaleBrain'\n",
       "6. 'tissue_groups_femaleBreast'\n",
       "7. 'tissue_groups_femaleCervix Uteri'\n",
       "8. 'tissue_groups_femaleColon'\n",
       "9. 'tissue_groups_femaleEsophagus'\n",
       "10. 'tissue_groups_femaleFallopian Tube'\n",
       "11. 'tissue_groups_femaleHeart'\n",
       "12. 'tissue_groups_femaleKidney'\n",
       "13. 'tissue_groups_femaleLiver'\n",
       "14. 'tissue_groups_femaleLung'\n",
       "15. 'tissue_groups_femaleMuscle'\n",
       "16. 'tissue_groups_femaleNerve'\n",
       "17. 'tissue_groups_femaleOvary'\n",
       "18. 'tissue_groups_femalePancreas'\n",
       "19. 'tissue_groups_femalePituitary'\n",
       "20. 'tissue_groups_femaleSalivary Gland'\n",
       "21. 'tissue_groups_femaleSkin'\n",
       "22. 'tissue_groups_femaleSmall Intestine'\n",
       "23. 'tissue_groups_femaleSpleen'\n",
       "24. 'tissue_groups_femaleStomach'\n",
       "25. 'tissue_groups_femaleThyroid'\n",
       "26. 'tissue_groups_femaleUterus'\n",
       "27. 'tissue_groups_femaleVagina'\n",
       "\n",
       "\n"
      ],
      "text/plain": [
       " [1] \"tissue_groups_femaleAdrenal Gland\"   \"tissue_groups_femaleBladder\"        \n",
       " [3] \"tissue_groups_femaleBlood\"           \"tissue_groups_femaleBlood Vessel\"   \n",
       " [5] \"tissue_groups_femaleBrain\"           \"tissue_groups_femaleBreast\"         \n",
       " [7] \"tissue_groups_femaleCervix Uteri\"    \"tissue_groups_femaleColon\"          \n",
       " [9] \"tissue_groups_femaleEsophagus\"       \"tissue_groups_femaleFallopian Tube\" \n",
       "[11] \"tissue_groups_femaleHeart\"           \"tissue_groups_femaleKidney\"         \n",
       "[13] \"tissue_groups_femaleLiver\"           \"tissue_groups_femaleLung\"           \n",
       "[15] \"tissue_groups_femaleMuscle\"          \"tissue_groups_femaleNerve\"          \n",
       "[17] \"tissue_groups_femaleOvary\"           \"tissue_groups_femalePancreas\"       \n",
       "[19] \"tissue_groups_femalePituitary\"       \"tissue_groups_femaleSalivary Gland\" \n",
       "[21] \"tissue_groups_femaleSkin\"            \"tissue_groups_femaleSmall Intestine\"\n",
       "[23] \"tissue_groups_femaleSpleen\"          \"tissue_groups_femaleStomach\"        \n",
       "[25] \"tissue_groups_femaleThyroid\"         \"tissue_groups_femaleUterus\"         \n",
       "[27] \"tissue_groups_femaleVagina\"         "
      ]
     },
     "metadata": {},
     "output_type": "display_data"
    }
   ],
   "source": [
    "y_fit_female_tissues = colnames(y_fit_female)\n",
    "y_fit_female_tissues = y_fit_female_tissues[-1]\n",
    "y_fit_female_tissues"
   ]
  },
  {
   "cell_type": "code",
   "execution_count": 151,
   "metadata": {},
   "outputs": [],
   "source": [
    "for (tissue_group in y_fit_male_tissues) {\n",
    "    results = topTable(y_fit_male, coef=tissue_group,number=nrow(y_tissue_male))\n",
    "    assign(paste(\"results\",tissue_group, sep=\"_\"),results)\n",
    "    filename = paste(\"../data\", tissue_group,sep=\"/\")\n",
    "    write.table(results,filename,sep='\\t',quote = F)\n",
    "}"
   ]
  },
  {
   "cell_type": "code",
   "execution_count": 152,
   "metadata": {},
   "outputs": [],
   "source": [
    "for (tissue_group in y_fit_female_tissues) {\n",
    "    \n",
    "    results = topTable(y_fit_female, coef=tissue_group,number=nrow(y_tissue_female))\n",
    "    assign(paste(\"results\",tissue_group, sep=\"_\"),results)\n",
    "    filename = paste(\"../data\", tissue_group,sep=\"/\")\n",
    "    write.table(results,filename,sep='\\t',quote = F)\n",
    "}"
   ]
  },
  {
   "cell_type": "code",
   "execution_count": null,
   "metadata": {},
   "outputs": [],
   "source": [
    "# Reproducing Guys results using the yarn expression object\n",
    "# loop through the tissues and for those tissues that are shared between the two sexes\n",
    "# perform a differential gene analysis on a per tissue basis\n"
   ]
  },
  {
   "cell_type": "code",
   "execution_count": 155,
   "metadata": {},
   "outputs": [],
   "source": [
    "tissue_groups <- factor(pData(reduced_obj)$SMTS)"
   ]
  },
  {
   "cell_type": "code",
   "execution_count": 163,
   "metadata": {},
   "outputs": [
    {
     "data": {
      "text/plain": [
       "tissue_male_female\n",
       "FALSE  TRUE \n",
       "  606 10978 "
      ]
     },
     "metadata": {},
     "output_type": "display_data"
    }
   ],
   "source": [
    "tissue_male_female <- tissue_groups_male %in% tissue_groups_female\n",
    "table(tissue_male_female)"
   ]
  },
  {
   "cell_type": "code",
   "execution_count": 165,
   "metadata": {},
   "outputs": [
    {
     "data": {
      "text/plain": [
       "tissue_shared_male_female\n",
       " Adipose Tissue   Adrenal Gland         Bladder           Blood    Blood Vessel \n",
       "            816             157              14             613             879 \n",
       "          Brain          Breast           Colon       Esophagus           Heart \n",
       "           1914             291             499             952             587 \n",
       "         Kidney           Liver            Lung          Muscle           Nerve \n",
       "             69             161             395             543             419 \n",
       "       Pancreas       Pituitary  Salivary Gland            Skin Small Intestine \n",
       "            207             204             115            1208             120 \n",
       "         Spleen         Stomach         Thyroid \n",
       "            154             227             434 "
      ]
     },
     "metadata": {},
     "output_type": "display_data"
    }
   ],
   "source": [
    "tissue_shared_male_female <- factor(tissue_groups_male[tissue_male_female])\n",
    "table(tissue_shared_male_female)"
   ]
  },
  {
   "cell_type": "code",
   "execution_count": 1,
   "metadata": {},
   "outputs": [
    {
     "ename": "ERROR",
     "evalue": "Error in pData(reduced_obj): could not find function \"pData\"\n",
     "output_type": "error",
     "traceback": [
      "Error in pData(reduced_obj): could not find function \"pData\"\nTraceback:\n",
      "1. factor(pData(reduced_obj)$SEX)"
     ]
    }
   ],
   "source": [
    "sex = factor(pData(reduced_obj)$SEX)"
   ]
  },
  {
   "cell_type": "code",
   "execution_count": null,
   "metadata": {},
   "outputs": [],
   "source": [
    "#tissue_shared_male_female\n",
    "for (tissue in tissue_shared_male_female) {\n",
    "    tissue_true   <- pData(reduced_obj)$SMTS==tissue\n",
    "    tissue_obj    <- reduced_obj[,tissue_true==TRUE]\n",
    "    tissue_sex    <- factor(pData(tissue_obj)$SEX)\n",
    "    tissue_design <- model.matrix(~tissue_sex)\n",
    "    dim(tissue_obj)\n",
    "    head(tissue_design)\n",
    "    y_tissue      <- DGEList(counts=exprs(tissue_obj), group=tissue_sex)\n",
    "    y_tissue      <- calcNormFactors(y_tissue)\n",
    "    y_tissue_voom <- voom (y_tissue, tissue_design)\n",
    "    fit_tissue    <- lmFit(y_tissue_voom, tissue_design)\n",
    "    fit_tissue    <- eBayes(fit_tissue, robust=TRUE)\n",
    "    results_tissue<- topTable(fit_tissue, coef='tissue_sex2', number=nrow(y_tissue))\n",
    "    assign(paste(\"results\",tissue, sep=\"_\"),results_tissue)\n",
    "    filename = paste(paste(\"../data\", tissue,sep=\"/\"),\"DGE.txt\",sep=\"_\")\n",
    "    write.table(results_tissue,filename,sep='\\t',quote = F)\n",
    "}"
   ]
  },
  {
   "cell_type": "code",
   "execution_count": 176,
   "metadata": {},
   "outputs": [
    {
     "data": {
      "text/html": [
       "<style>\n",
       ".dl-inline {width: auto; margin:0; padding: 0}\n",
       ".dl-inline>dt, .dl-inline>dd {float: none; width: auto; display: inline-block}\n",
       ".dl-inline>dt::after {content: \":\\0020\"; padding-right: .5ex}\n",
       ".dl-inline>dt:not(:first-of-type) {padding-left: .5ex}\n",
       "</style><dl class=dl-inline><dt>Features</dt><dd>16794</dd><dt>Samples</dt><dd>241</dd></dl>\n"
      ],
      "text/latex": [
       "\\begin{description*}\n",
       "\\item[Features] 16794\n",
       "\\item[Samples] 241\n",
       "\\end{description*}\n"
      ],
      "text/markdown": [
       "Features\n",
       ":   16794Samples\n",
       ":   241\n",
       "\n"
      ],
      "text/plain": [
       "Features  Samples \n",
       "   16794      241 "
      ]
     },
     "metadata": {},
     "output_type": "display_data"
    },
    {
     "data": {
      "text/html": [
       "<table>\n",
       "<caption>A matrix: 6 × 2 of type dbl</caption>\n",
       "<thead>\n",
       "\t<tr><th></th><th scope=col>(Intercept)</th><th scope=col>tissue_sex2</th></tr>\n",
       "</thead>\n",
       "<tbody>\n",
       "\t<tr><th scope=row>1</th><td>1</td><td>0</td></tr>\n",
       "\t<tr><th scope=row>2</th><td>1</td><td>0</td></tr>\n",
       "\t<tr><th scope=row>3</th><td>1</td><td>1</td></tr>\n",
       "\t<tr><th scope=row>4</th><td>1</td><td>0</td></tr>\n",
       "\t<tr><th scope=row>5</th><td>1</td><td>1</td></tr>\n",
       "\t<tr><th scope=row>6</th><td>1</td><td>0</td></tr>\n",
       "</tbody>\n",
       "</table>\n"
      ],
      "text/latex": [
       "A matrix: 6 × 2 of type dbl\n",
       "\\begin{tabular}{r|ll}\n",
       "  & (Intercept) & tissue\\_sex2\\\\\n",
       "\\hline\n",
       "\t1 & 1 & 0\\\\\n",
       "\t2 & 1 & 0\\\\\n",
       "\t3 & 1 & 1\\\\\n",
       "\t4 & 1 & 0\\\\\n",
       "\t5 & 1 & 1\\\\\n",
       "\t6 & 1 & 0\\\\\n",
       "\\end{tabular}\n"
      ],
      "text/markdown": [
       "\n",
       "A matrix: 6 × 2 of type dbl\n",
       "\n",
       "| <!--/--> | (Intercept) | tissue_sex2 |\n",
       "|---|---|---|\n",
       "| 1 | 1 | 0 |\n",
       "| 2 | 1 | 0 |\n",
       "| 3 | 1 | 1 |\n",
       "| 4 | 1 | 0 |\n",
       "| 5 | 1 | 1 |\n",
       "| 6 | 1 | 0 |\n",
       "\n"
      ],
      "text/plain": [
       "  (Intercept) tissue_sex2\n",
       "1 1           0          \n",
       "2 1           0          \n",
       "3 1           1          \n",
       "4 1           0          \n",
       "5 1           1          \n",
       "6 1           0          "
      ]
     },
     "metadata": {},
     "output_type": "display_data"
    }
   ],
   "source": []
  },
  {
   "cell_type": "code",
   "execution_count": 177,
   "metadata": {},
   "outputs": [],
   "source": []
  },
  {
   "cell_type": "code",
   "execution_count": 178,
   "metadata": {},
   "outputs": [
    {
     "data": {
      "text/html": [
       "<table>\n",
       "<caption>A data.frame: 6 × 6</caption>\n",
       "<thead>\n",
       "\t<tr><th></th><th scope=col>logFC</th><th scope=col>AveExpr</th><th scope=col>t</th><th scope=col>P.Value</th><th scope=col>adj.P.Val</th><th scope=col>B</th></tr>\n",
       "\t<tr><th></th><th scope=col>&lt;dbl&gt;</th><th scope=col>&lt;dbl&gt;</th><th scope=col>&lt;dbl&gt;</th><th scope=col>&lt;dbl&gt;</th><th scope=col>&lt;dbl&gt;</th><th scope=col>&lt;dbl&gt;</th></tr>\n",
       "</thead>\n",
       "<tbody>\n",
       "\t<tr><th scope=row>ENSG00000147050.14</th><td>0.7512061</td><td> 5.409792</td><td>23.74446</td><td>3.147853e-65</td><td>5.286505e-61</td><td>135.21196</td></tr>\n",
       "\t<tr><th scope=row>ENSG00000005889.15</th><td>0.6461228</td><td> 5.410130</td><td>20.96543</td><td>2.152250e-56</td><td>1.807244e-52</td><td>115.79538</td></tr>\n",
       "\t<tr><th scope=row>ENSG00000173674.10</th><td>0.6971714</td><td> 5.422080</td><td>20.54005</td><td>5.222193e-55</td><td>2.192538e-51</td><td>112.73974</td></tr>\n",
       "\t<tr><th scope=row>ENSG00000126012.11</th><td>0.5099286</td><td> 7.360820</td><td>20.13642</td><td>1.094636e-53</td><td>3.676663e-50</td><td>109.54874</td></tr>\n",
       "\t<tr><th scope=row>ENSG00000184368.15</th><td>2.2040217</td><td>-1.606367</td><td>20.89722</td><td>3.584495e-56</td><td>2.006600e-52</td><td> 95.32512</td></tr>\n",
       "\t<tr><th scope=row>ENSG00000130021.13</th><td>0.5945241</td><td> 3.840276</td><td>15.92866</td><td>1.379736e-39</td><td>3.861880e-36</td><td> 77.91256</td></tr>\n",
       "</tbody>\n",
       "</table>\n"
      ],
      "text/latex": [
       "A data.frame: 6 × 6\n",
       "\\begin{tabular}{r|llllll}\n",
       "  & logFC & AveExpr & t & P.Value & adj.P.Val & B\\\\\n",
       "  & <dbl> & <dbl> & <dbl> & <dbl> & <dbl> & <dbl>\\\\\n",
       "\\hline\n",
       "\tENSG00000147050.14 & 0.7512061 &  5.409792 & 23.74446 & 3.147853e-65 & 5.286505e-61 & 135.21196\\\\\n",
       "\tENSG00000005889.15 & 0.6461228 &  5.410130 & 20.96543 & 2.152250e-56 & 1.807244e-52 & 115.79538\\\\\n",
       "\tENSG00000173674.10 & 0.6971714 &  5.422080 & 20.54005 & 5.222193e-55 & 2.192538e-51 & 112.73974\\\\\n",
       "\tENSG00000126012.11 & 0.5099286 &  7.360820 & 20.13642 & 1.094636e-53 & 3.676663e-50 & 109.54874\\\\\n",
       "\tENSG00000184368.15 & 2.2040217 & -1.606367 & 20.89722 & 3.584495e-56 & 2.006600e-52 &  95.32512\\\\\n",
       "\tENSG00000130021.13 & 0.5945241 &  3.840276 & 15.92866 & 1.379736e-39 & 3.861880e-36 &  77.91256\\\\\n",
       "\\end{tabular}\n"
      ],
      "text/markdown": [
       "\n",
       "A data.frame: 6 × 6\n",
       "\n",
       "| <!--/--> | logFC &lt;dbl&gt; | AveExpr &lt;dbl&gt; | t &lt;dbl&gt; | P.Value &lt;dbl&gt; | adj.P.Val &lt;dbl&gt; | B &lt;dbl&gt; |\n",
       "|---|---|---|---|---|---|---|\n",
       "| ENSG00000147050.14 | 0.7512061 |  5.409792 | 23.74446 | 3.147853e-65 | 5.286505e-61 | 135.21196 |\n",
       "| ENSG00000005889.15 | 0.6461228 |  5.410130 | 20.96543 | 2.152250e-56 | 1.807244e-52 | 115.79538 |\n",
       "| ENSG00000173674.10 | 0.6971714 |  5.422080 | 20.54005 | 5.222193e-55 | 2.192538e-51 | 112.73974 |\n",
       "| ENSG00000126012.11 | 0.5099286 |  7.360820 | 20.13642 | 1.094636e-53 | 3.676663e-50 | 109.54874 |\n",
       "| ENSG00000184368.15 | 2.2040217 | -1.606367 | 20.89722 | 3.584495e-56 | 2.006600e-52 |  95.32512 |\n",
       "| ENSG00000130021.13 | 0.5945241 |  3.840276 | 15.92866 | 1.379736e-39 | 3.861880e-36 |  77.91256 |\n",
       "\n"
      ],
      "text/plain": [
       "                   logFC     AveExpr   t        P.Value      adj.P.Val   \n",
       "ENSG00000147050.14 0.7512061  5.409792 23.74446 3.147853e-65 5.286505e-61\n",
       "ENSG00000005889.15 0.6461228  5.410130 20.96543 2.152250e-56 1.807244e-52\n",
       "ENSG00000173674.10 0.6971714  5.422080 20.54005 5.222193e-55 2.192538e-51\n",
       "ENSG00000126012.11 0.5099286  7.360820 20.13642 1.094636e-53 3.676663e-50\n",
       "ENSG00000184368.15 2.2040217 -1.606367 20.89722 3.584495e-56 2.006600e-52\n",
       "ENSG00000130021.13 0.5945241  3.840276 15.92866 1.379736e-39 3.861880e-36\n",
       "                   B        \n",
       "ENSG00000147050.14 135.21196\n",
       "ENSG00000005889.15 115.79538\n",
       "ENSG00000173674.10 112.73974\n",
       "ENSG00000126012.11 109.54874\n",
       "ENSG00000184368.15  95.32512\n",
       "ENSG00000130021.13  77.91256"
      ]
     },
     "metadata": {},
     "output_type": "display_data"
    }
   ],
   "source": [
    "head(results_tissue)"
   ]
  },
  {
   "cell_type": "code",
   "execution_count": 180,
   "metadata": {},
   "outputs": [],
   "source": []
  },
  {
   "cell_type": "code",
   "execution_count": null,
   "metadata": {},
   "outputs": [],
   "source": []
  }
 ],
 "metadata": {
  "kernelspec": {
   "display_name": "R",
   "language": "R",
   "name": "ir"
  },
  "language_info": {
   "codemirror_mode": "r",
   "file_extension": ".r",
   "mimetype": "text/x-r-source",
   "name": "R",
   "pygments_lexer": "r",
   "version": "3.6.1"
  }
 },
 "nbformat": 4,
 "nbformat_minor": 4
}
