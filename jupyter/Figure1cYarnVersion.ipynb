{
 "cells": [
  {
   "cell_type": "markdown",
   "metadata": {},
   "source": [
    "# Figure 1C - YARN Normalization Version"
   ]
  },
  {
   "cell_type": "markdown",
   "metadata": {},
   "source": [
    "A `heatplot` representing similarity in the fold-changes between male and female samples, with the values in the heatmap being the correlation between the vectors of fold changes of the tissues. </b>"
   ]
  },
  {
   "cell_type": "markdown",
   "metadata": {},
   "source": [
    "We downloaded the GTEx version 8.0 RNA-seq and genotype data (phs000424.v8.v2), released 2019-08-26.\n",
    "We used YARN (https://bioconductor.org/packages/release/bioc/html/yarn.html), uploading the downloadGTEx function\n",
    "to download this release, and used it to perform quality control, gene filtering and normalization pre-processing on the\n",
    "GTEx RNA-seq data, as described in (Paulson et al, 2017).   This pipelines tested for sample sex-misidentification, \n",
    "merged related sub-tissues, performed tissue-aware normalization using qsmooth (Hicks et al, 2017)."
   ]
  },
  {
   "cell_type": "markdown",
   "metadata": {},
   "source": [
    "## Loading dependencies"
   ]
  },
  {
   "cell_type": "code",
   "execution_count": 1,
   "metadata": {},
   "outputs": [
    {
     "name": "stderr",
     "output_type": "stream",
     "text": [
      "Loading required package: limma\n",
      "Warning message:\n",
      "“package ‘DBI’ was built under R version 3.6.2”Loading required package: Biobase\n",
      "Loading required package: BiocGenerics\n",
      "Loading required package: parallel\n",
      "\n",
      "Attaching package: ‘BiocGenerics’\n",
      "\n",
      "The following objects are masked from ‘package:parallel’:\n",
      "\n",
      "    clusterApply, clusterApplyLB, clusterCall, clusterEvalQ,\n",
      "    clusterExport, clusterMap, parApply, parCapply, parLapply,\n",
      "    parLapplyLB, parRapply, parSapply, parSapplyLB\n",
      "\n",
      "The following object is masked from ‘package:limma’:\n",
      "\n",
      "    plotMA\n",
      "\n",
      "The following objects are masked from ‘package:stats’:\n",
      "\n",
      "    IQR, mad, sd, var, xtabs\n",
      "\n",
      "The following objects are masked from ‘package:base’:\n",
      "\n",
      "    anyDuplicated, append, as.data.frame, basename, cbind, colnames,\n",
      "    dirname, do.call, duplicated, eval, evalq, Filter, Find, get, grep,\n",
      "    grepl, intersect, is.unsorted, lapply, Map, mapply, match, mget,\n",
      "    order, paste, pmax, pmax.int, pmin, pmin.int, Position, rank,\n",
      "    rbind, Reduce, rownames, sapply, setdiff, sort, table, tapply,\n",
      "    union, unique, unsplit, which, which.max, which.min\n",
      "\n",
      "Welcome to Bioconductor\n",
      "\n",
      "    Vignettes contain introductory material; view with\n",
      "    'browseVignettes()'. To cite Bioconductor, see\n",
      "    'citation(\"Biobase\")', and for packages 'citation(\"pkgname\")'.\n",
      "\n",
      "Setting options('download.file.method.GEOquery'='auto')\n",
      "Setting options('GEOquery.inmemory.gpl'=FALSE)\n"
     ]
    }
   ],
   "source": [
    "library(downloader)\n",
    "library(readr)\n",
    "library(edgeR)\n",
    "library(biomaRt)\n",
    "library(DBI) # v >= 1.1.0 required for biomaRt\n",
    "library(devtools)\n",
    "library(yarn)\n",
    "#install.packages(\"statmod\")\n",
    "library(statmod)\n",
    "Sys.setenv(TAR = \"/bin/tar\") # for gzfile"
   ]
  },
  {
   "cell_type": "markdown",
   "metadata": {},
   "source": [
    "Begin here if you have already run this and created the `data/gtex.rds` file"
   ]
  },
  {
   "cell_type": "markdown",
   "metadata": {},
   "source": [
    "Please `git clone` the repository and start working after changing to this as your working directory (`cd lifebitCloudOSDRE`). The `data` subdirectory, along with all other paths used in this Notebook are relative to the `lifebitCloudOSDRE` repository."
   ]
  },
  {
   "cell_type": "code",
   "execution_count": 2,
   "metadata": {},
   "outputs": [],
   "source": [
    "#NOTE TO USERS:\n",
    "#Either run 1 or 2\n",
    "#\n",
    "#1. CAUTION! It requires some minutes to complete, also memory and enough storage\n",
    "#obj <- yarn::downloadGTExV8(type='genes',file='../data/gtex.rds')\n",
    "#saveRDS(obj, file = \"../data/gtex.rds\")\n",
    "#\n",
    "#or\n",
    "#2. Retrieve the released location the already generated gtex.rds\n",
    "# Run the following line in the data directory prior to the next line if you wish to use the already\n",
    "# generated file.\n",
    "# wget https://github.com/lifebit-ai/lifebitCloudOSDREgtex/releases/download/gtex_archive/gtex.rds\n",
    "# and then run this line.\n",
    "obj <- readRDS(\"../data/gtex.rds\")"
   ]
  },
  {
   "cell_type": "code",
   "execution_count": 4,
   "metadata": {},
   "outputs": [],
   "source": [
    "# confirm that it is an expression set."
   ]
  },
  {
   "cell_type": "code",
   "execution_count": 5,
   "metadata": {},
   "outputs": [
    {
     "data": {
      "text/html": [
       "'ExpressionSet'"
      ],
      "text/latex": [
       "'ExpressionSet'"
      ],
      "text/markdown": [
       "'ExpressionSet'"
      ],
      "text/plain": [
       "[1] \"ExpressionSet\"\n",
       "attr(,\"package\")\n",
       "[1] \"Biobase\""
      ]
     },
     "metadata": {},
     "output_type": "display_data"
    }
   ],
   "source": [
    "class(obj)"
   ]
  },
  {
   "cell_type": "code",
   "execution_count": 6,
   "metadata": {},
   "outputs": [
    {
     "data": {
      "text/html": [
       "<style>\n",
       ".dl-inline {width: auto; margin:0; padding: 0}\n",
       ".dl-inline>dt, .dl-inline>dd {float: none; width: auto; display: inline-block}\n",
       ".dl-inline>dt::after {content: \":\\0020\"; padding-right: .5ex}\n",
       ".dl-inline>dt:not(:first-of-type) {padding-left: .5ex}\n",
       "</style><dl class=dl-inline><dt>rowNames</dt><dd>17384</dd><dt>columnNames</dt><dd>67</dd></dl>\n"
      ],
      "text/latex": [
       "\\begin{description*}\n",
       "\\item[rowNames] 17384\n",
       "\\item[columnNames] 67\n",
       "\\end{description*}\n"
      ],
      "text/markdown": [
       "rowNames\n",
       ":   17384columnNames\n",
       ":   67\n",
       "\n"
      ],
      "text/plain": [
       "   rowNames columnNames \n",
       "      17384          67 "
      ]
     },
     "metadata": {},
     "output_type": "display_data"
    }
   ],
   "source": [
    "dim(phenoData(obj))"
   ]
  },
  {
   "cell_type": "code",
   "execution_count": 7,
   "metadata": {},
   "outputs": [],
   "source": [
    "# for later - not sure attributes are actually successfully being added\n",
    "#ensembl = useMart(\"ensembl\",dataset=\"hsapiens_gene_ensembl\")\n",
    "#attributes = listAttributes(ensembl)"
   ]
  },
  {
   "cell_type": "code",
   "execution_count": 8,
   "metadata": {},
   "outputs": [
    {
     "data": {
      "text/html": [
       "<style>\n",
       ".dl-inline {width: auto; margin:0; padding: 0}\n",
       ".dl-inline>dt, .dl-inline>dd {float: none; width: auto; display: inline-block}\n",
       ".dl-inline>dt::after {content: \":\\0020\"; padding-right: .5ex}\n",
       ".dl-inline>dt:not(:first-of-type) {padding-left: .5ex}\n",
       "</style><dl class=dl-inline><dt>Features</dt><dd>55878</dd><dt>Samples</dt><dd>17382</dd></dl>\n"
      ],
      "text/latex": [
       "\\begin{description*}\n",
       "\\item[Features] 55878\n",
       "\\item[Samples] 17382\n",
       "\\end{description*}\n"
      ],
      "text/markdown": [
       "Features\n",
       ":   55878Samples\n",
       ":   17382\n",
       "\n"
      ],
      "text/plain": [
       "Features  Samples \n",
       "   55878    17382 "
      ]
     },
     "metadata": {},
     "output_type": "display_data"
    }
   ],
   "source": [
    "dim(obj)"
   ]
  },
  {
   "cell_type": "code",
   "execution_count": 9,
   "metadata": {},
   "outputs": [
    {
     "data": {
      "text/html": [
       "<style>\n",
       ".list-inline {list-style: none; margin:0; padding: 0}\n",
       ".list-inline>li {display: inline-block}\n",
       ".list-inline>li:not(:last-child)::after {content: \"\\00b7\"; padding: 0 .5ex}\n",
       "</style>\n",
       "<ol class=list-inline><li>'GTEX-1117F-0226-SM-5GZZ7'</li><li>'GTEX-1117F-0426-SM-5EGHI'</li><li>'GTEX-1117F-0526-SM-5EGHJ'</li><li>'GTEX-1117F-0626-SM-5N9CS'</li><li>'GTEX-1117F-0726-SM-5GIEN'</li><li>'GTEX-1117F-1326-SM-5EGHH'</li></ol>\n"
      ],
      "text/latex": [
       "\\begin{enumerate*}\n",
       "\\item 'GTEX-1117F-0226-SM-5GZZ7'\n",
       "\\item 'GTEX-1117F-0426-SM-5EGHI'\n",
       "\\item 'GTEX-1117F-0526-SM-5EGHJ'\n",
       "\\item 'GTEX-1117F-0626-SM-5N9CS'\n",
       "\\item 'GTEX-1117F-0726-SM-5GIEN'\n",
       "\\item 'GTEX-1117F-1326-SM-5EGHH'\n",
       "\\end{enumerate*}\n"
      ],
      "text/markdown": [
       "1. 'GTEX-1117F-0226-SM-5GZZ7'\n",
       "2. 'GTEX-1117F-0426-SM-5EGHI'\n",
       "3. 'GTEX-1117F-0526-SM-5EGHJ'\n",
       "4. 'GTEX-1117F-0626-SM-5N9CS'\n",
       "5. 'GTEX-1117F-0726-SM-5GIEN'\n",
       "6. 'GTEX-1117F-1326-SM-5EGHH'\n",
       "\n",
       "\n"
      ],
      "text/plain": [
       "[1] \"GTEX-1117F-0226-SM-5GZZ7\" \"GTEX-1117F-0426-SM-5EGHI\"\n",
       "[3] \"GTEX-1117F-0526-SM-5EGHJ\" \"GTEX-1117F-0626-SM-5N9CS\"\n",
       "[5] \"GTEX-1117F-0726-SM-5GIEN\" \"GTEX-1117F-1326-SM-5EGHH\""
      ]
     },
     "metadata": {},
     "output_type": "display_data"
    },
    {
     "data": {
      "text/html": [
       "17382"
      ],
      "text/latex": [
       "17382"
      ],
      "text/markdown": [
       "17382"
      ],
      "text/plain": [
       "[1] 17382"
      ]
     },
     "metadata": {},
     "output_type": "display_data"
    }
   ],
   "source": [
    "sample_names=as.vector(as.character(colnames(exprs(obj))))\n",
    "head(sample_names)\n",
    "length(sample_names)"
   ]
  },
  {
   "cell_type": "code",
   "execution_count": 10,
   "metadata": {},
   "outputs": [
    {
     "data": {
      "text/html": [
       "<style>\n",
       ".list-inline {list-style: none; margin:0; padding: 0}\n",
       ".list-inline>li {display: inline-block}\n",
       ".list-inline>li:not(:last-child)::after {content: \"\\00b7\"; padding: 0 .5ex}\n",
       "</style>\n",
       "<ol class=list-inline><li>'GTEX-1117F-0226-SM-5GZZ7'</li><li>'GTEX-1117F-0426-SM-5EGHI'</li><li>'GTEX-1117F-0526-SM-5EGHJ'</li><li>'GTEX-1117F-0626-SM-5N9CS'</li><li>'GTEX-1117F-0726-SM-5GIEN'</li><li>'GTEX-1117F-1326-SM-5EGHH'</li></ol>\n"
      ],
      "text/latex": [
       "\\begin{enumerate*}\n",
       "\\item 'GTEX-1117F-0226-SM-5GZZ7'\n",
       "\\item 'GTEX-1117F-0426-SM-5EGHI'\n",
       "\\item 'GTEX-1117F-0526-SM-5EGHJ'\n",
       "\\item 'GTEX-1117F-0626-SM-5N9CS'\n",
       "\\item 'GTEX-1117F-0726-SM-5GIEN'\n",
       "\\item 'GTEX-1117F-1326-SM-5EGHH'\n",
       "\\end{enumerate*}\n"
      ],
      "text/markdown": [
       "1. 'GTEX-1117F-0226-SM-5GZZ7'\n",
       "2. 'GTEX-1117F-0426-SM-5EGHI'\n",
       "3. 'GTEX-1117F-0526-SM-5EGHJ'\n",
       "4. 'GTEX-1117F-0626-SM-5N9CS'\n",
       "5. 'GTEX-1117F-0726-SM-5GIEN'\n",
       "6. 'GTEX-1117F-1326-SM-5EGHH'\n",
       "\n",
       "\n"
      ],
      "text/plain": [
       "[1] \"GTEX-1117F-0226-SM-5GZZ7\" \"GTEX-1117F-0426-SM-5EGHI\"\n",
       "[3] \"GTEX-1117F-0526-SM-5EGHJ\" \"GTEX-1117F-0626-SM-5N9CS\"\n",
       "[5] \"GTEX-1117F-0726-SM-5GIEN\" \"GTEX-1117F-1326-SM-5EGHH\""
      ]
     },
     "metadata": {},
     "output_type": "display_data"
    },
    {
     "data": {
      "text/html": [
       "17384"
      ],
      "text/latex": [
       "17384"
      ],
      "text/markdown": [
       "17384"
      ],
      "text/plain": [
       "[1] 17384"
      ]
     },
     "metadata": {},
     "output_type": "display_data"
    }
   ],
   "source": [
    "pheno_sample_names=as.vector(as.character(rownames(pData(obj))))\n",
    "head(pheno_sample_names)\n",
    "length(pheno_sample_names)"
   ]
  },
  {
   "cell_type": "markdown",
   "metadata": {},
   "source": [
    "Okay - for some reason our phenotype data is larger than our expression data - I've written Joe Paulson about that.\n",
    "In the meantime, make sure that the two sets are aligned."
   ]
  },
  {
   "cell_type": "code",
   "execution_count": 11,
   "metadata": {},
   "outputs": [
    {
     "data": {
      "text/html": [
       "17384"
      ],
      "text/latex": [
       "17384"
      ],
      "text/markdown": [
       "17384"
      ],
      "text/plain": [
       "[1] 17384"
      ]
     },
     "metadata": {},
     "output_type": "display_data"
    }
   ],
   "source": [
    "logical_match_names=pheno_sample_names %in% sample_names\n",
    "length(logical_match_names)"
   ]
  },
  {
   "cell_type": "code",
   "execution_count": 12,
   "metadata": {},
   "outputs": [
    {
     "data": {
      "text/plain": [
       "logical_match_names\n",
       "FALSE  TRUE \n",
       "    2 17382 "
      ]
     },
     "metadata": {},
     "output_type": "display_data"
    }
   ],
   "source": [
    "table(logical_match_names)\n"
   ]
  },
  {
   "cell_type": "code",
   "execution_count": 13,
   "metadata": {},
   "outputs": [],
   "source": [
    "pData(obj) <- (pData(obj)[logical_match_names==TRUE,])"
   ]
  },
  {
   "cell_type": "code",
   "execution_count": 14,
   "metadata": {},
   "outputs": [
    {
     "data": {
      "text/html": [
       "<style>\n",
       ".list-inline {list-style: none; margin:0; padding: 0}\n",
       ".list-inline>li {display: inline-block}\n",
       ".list-inline>li:not(:last-child)::after {content: \"\\00b7\"; padding: 0 .5ex}\n",
       "</style>\n",
       "<ol class=list-inline><li>17382</li><li>67</li></ol>\n"
      ],
      "text/latex": [
       "\\begin{enumerate*}\n",
       "\\item 17382\n",
       "\\item 67\n",
       "\\end{enumerate*}\n"
      ],
      "text/markdown": [
       "1. 17382\n",
       "2. 67\n",
       "\n",
       "\n"
      ],
      "text/plain": [
       "[1] 17382    67"
      ]
     },
     "metadata": {},
     "output_type": "display_data"
    },
    {
     "data": {
      "text/html": [
       "<style>\n",
       ".dl-inline {width: auto; margin:0; padding: 0}\n",
       ".dl-inline>dt, .dl-inline>dd {float: none; width: auto; display: inline-block}\n",
       ".dl-inline>dt::after {content: \":\\0020\"; padding-right: .5ex}\n",
       ".dl-inline>dt:not(:first-of-type) {padding-left: .5ex}\n",
       "</style><dl class=dl-inline><dt>Features</dt><dd>55878</dd><dt>Samples</dt><dd>17382</dd></dl>\n"
      ],
      "text/latex": [
       "\\begin{description*}\n",
       "\\item[Features] 55878\n",
       "\\item[Samples] 17382\n",
       "\\end{description*}\n"
      ],
      "text/markdown": [
       "Features\n",
       ":   55878Samples\n",
       ":   17382\n",
       "\n"
      ],
      "text/plain": [
       "Features  Samples \n",
       "   55878    17382 "
      ]
     },
     "metadata": {},
     "output_type": "display_data"
    }
   ],
   "source": [
    "dim(pData(obj))\n",
    "dim(obj)"
   ]
  },
  {
   "cell_type": "markdown",
   "metadata": {},
   "source": [
    "Now we want to replace all *dashes* with _underscores_"
   ]
  },
  {
   "cell_type": "code",
   "execution_count": 15,
   "metadata": {},
   "outputs": [],
   "source": [
    "newSampID <- gsub('-','\\\\.',pData(obj)$SAMPID)"
   ]
  },
  {
   "cell_type": "code",
   "execution_count": 16,
   "metadata": {},
   "outputs": [
    {
     "data": {
      "text/html": [
       "<style>\n",
       ".list-inline {list-style: none; margin:0; padding: 0}\n",
       ".list-inline>li {display: inline-block}\n",
       ".list-inline>li:not(:last-child)::after {content: \"\\00b7\"; padding: 0 .5ex}\n",
       "</style>\n",
       "<ol class=list-inline><li>'GTEX.1117F.0226.SM.5GZZ7'</li><li>'GTEX.1117F.0426.SM.5EGHI'</li><li>'GTEX.1117F.0526.SM.5EGHJ'</li><li>'GTEX.1117F.0626.SM.5N9CS'</li><li>'GTEX.1117F.0726.SM.5GIEN'</li><li>'GTEX.1117F.1326.SM.5EGHH'</li></ol>\n"
      ],
      "text/latex": [
       "\\begin{enumerate*}\n",
       "\\item 'GTEX.1117F.0226.SM.5GZZ7'\n",
       "\\item 'GTEX.1117F.0426.SM.5EGHI'\n",
       "\\item 'GTEX.1117F.0526.SM.5EGHJ'\n",
       "\\item 'GTEX.1117F.0626.SM.5N9CS'\n",
       "\\item 'GTEX.1117F.0726.SM.5GIEN'\n",
       "\\item 'GTEX.1117F.1326.SM.5EGHH'\n",
       "\\end{enumerate*}\n"
      ],
      "text/markdown": [
       "1. 'GTEX.1117F.0226.SM.5GZZ7'\n",
       "2. 'GTEX.1117F.0426.SM.5EGHI'\n",
       "3. 'GTEX.1117F.0526.SM.5EGHJ'\n",
       "4. 'GTEX.1117F.0626.SM.5N9CS'\n",
       "5. 'GTEX.1117F.0726.SM.5GIEN'\n",
       "6. 'GTEX.1117F.1326.SM.5EGHH'\n",
       "\n",
       "\n"
      ],
      "text/plain": [
       "[1] \"GTEX.1117F.0226.SM.5GZZ7\" \"GTEX.1117F.0426.SM.5EGHI\"\n",
       "[3] \"GTEX.1117F.0526.SM.5EGHJ\" \"GTEX.1117F.0626.SM.5N9CS\"\n",
       "[5] \"GTEX.1117F.0726.SM.5GIEN\" \"GTEX.1117F.1326.SM.5EGHH\""
      ]
     },
     "metadata": {},
     "output_type": "display_data"
    }
   ],
   "source": [
    "head (newSampID)"
   ]
  },
  {
   "cell_type": "code",
   "execution_count": 17,
   "metadata": {},
   "outputs": [],
   "source": [
    "pData(obj)$SAMPID <- newSampID"
   ]
  },
  {
   "cell_type": "code",
   "execution_count": 18,
   "metadata": {},
   "outputs": [
    {
     "data": {
      "text/html": [
       "<style>\n",
       ".list-inline {list-style: none; margin:0; padding: 0}\n",
       ".list-inline>li {display: inline-block}\n",
       ".list-inline>li:not(:last-child)::after {content: \"\\00b7\"; padding: 0 .5ex}\n",
       "</style>\n",
       "<ol class=list-inline><li>'SAMPID'</li><li>'SMATSSCR'</li><li>'SMCENTER'</li><li>'SMPTHNTS'</li><li>'SMRIN'</li><li>'SMTS'</li><li>'SMTSD'</li><li>'SMUBRID'</li><li>'SMTSISCH'</li><li>'SMTSPAX'</li><li>'SMNABTCH'</li><li>'SMNABTCHT'</li><li>'SMNABTCHD'</li><li>'SMGEBTCH'</li><li>'SMGEBTCHD'</li><li>'SMGEBTCHT'</li><li>'SMAFRZE'</li><li>'SMGTC'</li><li>'SME2MPRT'</li><li>'SMCHMPRS'</li><li>'SMNTRART'</li><li>'SMNUMGPS'</li><li>'SMMAPRT'</li><li>'SMEXNCRT'</li><li>'SM550NRM'</li><li>'SMGNSDTC'</li><li>'SMUNMPRT'</li><li>'SM350NRM'</li><li>'SMRDLGTH'</li><li>'SMMNCPB'</li><li>'SME1MMRT'</li><li>'SMSFLGTH'</li><li>'SMESTLBS'</li><li>'SMMPPD'</li><li>'SMNTERRT'</li><li>'SMRRNANM'</li><li>'SMRDTTL'</li><li>'SMVQCFL'</li><li>'SMMNCV'</li><li>'SMTRSCPT'</li><li>'SMMPPDPR'</li><li>'SMCGLGTH'</li><li>'SMGAPPCT'</li><li>'SMUNPDRD'</li><li>'SMNTRNRT'</li><li>'SMMPUNRT'</li><li>'SMEXPEFF'</li><li>'SMMPPDUN'</li><li>'SME2MMRT'</li><li>'SME2ANTI'</li><li>'SMALTALG'</li><li>'SME2SNSE'</li><li>'SMMFLGTH'</li><li>'SME1ANTI'</li><li>'SMSPLTRD'</li><li>'SMBSMMRT'</li><li>'SME1SNSE'</li><li>'SME1PCTS'</li><li>'SMRRNART'</li><li>'SME1MPRT'</li><li>'SMNUM5CD'</li><li>'SMDPMPRT'</li><li>'SME2PCTS'</li><li>'SUBJID'</li><li>'SEX'</li><li>'AGE'</li><li>'DTHHRDY'</li></ol>\n"
      ],
      "text/latex": [
       "\\begin{enumerate*}\n",
       "\\item 'SAMPID'\n",
       "\\item 'SMATSSCR'\n",
       "\\item 'SMCENTER'\n",
       "\\item 'SMPTHNTS'\n",
       "\\item 'SMRIN'\n",
       "\\item 'SMTS'\n",
       "\\item 'SMTSD'\n",
       "\\item 'SMUBRID'\n",
       "\\item 'SMTSISCH'\n",
       "\\item 'SMTSPAX'\n",
       "\\item 'SMNABTCH'\n",
       "\\item 'SMNABTCHT'\n",
       "\\item 'SMNABTCHD'\n",
       "\\item 'SMGEBTCH'\n",
       "\\item 'SMGEBTCHD'\n",
       "\\item 'SMGEBTCHT'\n",
       "\\item 'SMAFRZE'\n",
       "\\item 'SMGTC'\n",
       "\\item 'SME2MPRT'\n",
       "\\item 'SMCHMPRS'\n",
       "\\item 'SMNTRART'\n",
       "\\item 'SMNUMGPS'\n",
       "\\item 'SMMAPRT'\n",
       "\\item 'SMEXNCRT'\n",
       "\\item 'SM550NRM'\n",
       "\\item 'SMGNSDTC'\n",
       "\\item 'SMUNMPRT'\n",
       "\\item 'SM350NRM'\n",
       "\\item 'SMRDLGTH'\n",
       "\\item 'SMMNCPB'\n",
       "\\item 'SME1MMRT'\n",
       "\\item 'SMSFLGTH'\n",
       "\\item 'SMESTLBS'\n",
       "\\item 'SMMPPD'\n",
       "\\item 'SMNTERRT'\n",
       "\\item 'SMRRNANM'\n",
       "\\item 'SMRDTTL'\n",
       "\\item 'SMVQCFL'\n",
       "\\item 'SMMNCV'\n",
       "\\item 'SMTRSCPT'\n",
       "\\item 'SMMPPDPR'\n",
       "\\item 'SMCGLGTH'\n",
       "\\item 'SMGAPPCT'\n",
       "\\item 'SMUNPDRD'\n",
       "\\item 'SMNTRNRT'\n",
       "\\item 'SMMPUNRT'\n",
       "\\item 'SMEXPEFF'\n",
       "\\item 'SMMPPDUN'\n",
       "\\item 'SME2MMRT'\n",
       "\\item 'SME2ANTI'\n",
       "\\item 'SMALTALG'\n",
       "\\item 'SME2SNSE'\n",
       "\\item 'SMMFLGTH'\n",
       "\\item 'SME1ANTI'\n",
       "\\item 'SMSPLTRD'\n",
       "\\item 'SMBSMMRT'\n",
       "\\item 'SME1SNSE'\n",
       "\\item 'SME1PCTS'\n",
       "\\item 'SMRRNART'\n",
       "\\item 'SME1MPRT'\n",
       "\\item 'SMNUM5CD'\n",
       "\\item 'SMDPMPRT'\n",
       "\\item 'SME2PCTS'\n",
       "\\item 'SUBJID'\n",
       "\\item 'SEX'\n",
       "\\item 'AGE'\n",
       "\\item 'DTHHRDY'\n",
       "\\end{enumerate*}\n"
      ],
      "text/markdown": [
       "1. 'SAMPID'\n",
       "2. 'SMATSSCR'\n",
       "3. 'SMCENTER'\n",
       "4. 'SMPTHNTS'\n",
       "5. 'SMRIN'\n",
       "6. 'SMTS'\n",
       "7. 'SMTSD'\n",
       "8. 'SMUBRID'\n",
       "9. 'SMTSISCH'\n",
       "10. 'SMTSPAX'\n",
       "11. 'SMNABTCH'\n",
       "12. 'SMNABTCHT'\n",
       "13. 'SMNABTCHD'\n",
       "14. 'SMGEBTCH'\n",
       "15. 'SMGEBTCHD'\n",
       "16. 'SMGEBTCHT'\n",
       "17. 'SMAFRZE'\n",
       "18. 'SMGTC'\n",
       "19. 'SME2MPRT'\n",
       "20. 'SMCHMPRS'\n",
       "21. 'SMNTRART'\n",
       "22. 'SMNUMGPS'\n",
       "23. 'SMMAPRT'\n",
       "24. 'SMEXNCRT'\n",
       "25. 'SM550NRM'\n",
       "26. 'SMGNSDTC'\n",
       "27. 'SMUNMPRT'\n",
       "28. 'SM350NRM'\n",
       "29. 'SMRDLGTH'\n",
       "30. 'SMMNCPB'\n",
       "31. 'SME1MMRT'\n",
       "32. 'SMSFLGTH'\n",
       "33. 'SMESTLBS'\n",
       "34. 'SMMPPD'\n",
       "35. 'SMNTERRT'\n",
       "36. 'SMRRNANM'\n",
       "37. 'SMRDTTL'\n",
       "38. 'SMVQCFL'\n",
       "39. 'SMMNCV'\n",
       "40. 'SMTRSCPT'\n",
       "41. 'SMMPPDPR'\n",
       "42. 'SMCGLGTH'\n",
       "43. 'SMGAPPCT'\n",
       "44. 'SMUNPDRD'\n",
       "45. 'SMNTRNRT'\n",
       "46. 'SMMPUNRT'\n",
       "47. 'SMEXPEFF'\n",
       "48. 'SMMPPDUN'\n",
       "49. 'SME2MMRT'\n",
       "50. 'SME2ANTI'\n",
       "51. 'SMALTALG'\n",
       "52. 'SME2SNSE'\n",
       "53. 'SMMFLGTH'\n",
       "54. 'SME1ANTI'\n",
       "55. 'SMSPLTRD'\n",
       "56. 'SMBSMMRT'\n",
       "57. 'SME1SNSE'\n",
       "58. 'SME1PCTS'\n",
       "59. 'SMRRNART'\n",
       "60. 'SME1MPRT'\n",
       "61. 'SMNUM5CD'\n",
       "62. 'SMDPMPRT'\n",
       "63. 'SME2PCTS'\n",
       "64. 'SUBJID'\n",
       "65. 'SEX'\n",
       "66. 'AGE'\n",
       "67. 'DTHHRDY'\n",
       "\n",
       "\n"
      ],
      "text/plain": [
       " [1] \"SAMPID\"    \"SMATSSCR\"  \"SMCENTER\"  \"SMPTHNTS\"  \"SMRIN\"     \"SMTS\"     \n",
       " [7] \"SMTSD\"     \"SMUBRID\"   \"SMTSISCH\"  \"SMTSPAX\"   \"SMNABTCH\"  \"SMNABTCHT\"\n",
       "[13] \"SMNABTCHD\" \"SMGEBTCH\"  \"SMGEBTCHD\" \"SMGEBTCHT\" \"SMAFRZE\"   \"SMGTC\"    \n",
       "[19] \"SME2MPRT\"  \"SMCHMPRS\"  \"SMNTRART\"  \"SMNUMGPS\"  \"SMMAPRT\"   \"SMEXNCRT\" \n",
       "[25] \"SM550NRM\"  \"SMGNSDTC\"  \"SMUNMPRT\"  \"SM350NRM\"  \"SMRDLGTH\"  \"SMMNCPB\"  \n",
       "[31] \"SME1MMRT\"  \"SMSFLGTH\"  \"SMESTLBS\"  \"SMMPPD\"    \"SMNTERRT\"  \"SMRRNANM\" \n",
       "[37] \"SMRDTTL\"   \"SMVQCFL\"   \"SMMNCV\"    \"SMTRSCPT\"  \"SMMPPDPR\"  \"SMCGLGTH\" \n",
       "[43] \"SMGAPPCT\"  \"SMUNPDRD\"  \"SMNTRNRT\"  \"SMMPUNRT\"  \"SMEXPEFF\"  \"SMMPPDUN\" \n",
       "[49] \"SME2MMRT\"  \"SME2ANTI\"  \"SMALTALG\"  \"SME2SNSE\"  \"SMMFLGTH\"  \"SME1ANTI\" \n",
       "[55] \"SMSPLTRD\"  \"SMBSMMRT\"  \"SME1SNSE\"  \"SME1PCTS\"  \"SMRRNART\"  \"SME1MPRT\" \n",
       "[61] \"SMNUM5CD\"  \"SMDPMPRT\"  \"SME2PCTS\"  \"SUBJID\"    \"SEX\"       \"AGE\"      \n",
       "[67] \"DTHHRDY\"  "
      ]
     },
     "metadata": {},
     "output_type": "display_data"
    }
   ],
   "source": [
    "colnames(pData(obj))"
   ]
  },
  {
   "cell_type": "code",
   "execution_count": 19,
   "metadata": {},
   "outputs": [
    {
     "data": {
      "text/html": [
       "<table>\n",
       "<caption>A matrix: 6 × 17382 of type dbl</caption>\n",
       "<thead>\n",
       "\t<tr><th></th><th scope=col>GTEX-1117F-0226-SM-5GZZ7</th><th scope=col>GTEX-1117F-0426-SM-5EGHI</th><th scope=col>GTEX-1117F-0526-SM-5EGHJ</th><th scope=col>GTEX-1117F-0626-SM-5N9CS</th><th scope=col>GTEX-1117F-0726-SM-5GIEN</th><th scope=col>GTEX-1117F-1326-SM-5EGHH</th><th scope=col>GTEX-1117F-2426-SM-5EGGH</th><th scope=col>GTEX-1117F-2526-SM-5GZY6</th><th scope=col>GTEX-1117F-2826-SM-5GZXL</th><th scope=col>GTEX-1117F-2926-SM-5GZYI</th><th scope=col>⋯</th><th scope=col>GTEX-ZZPU-1126-SM-5N9CW</th><th scope=col>GTEX-ZZPU-1226-SM-5N9CK</th><th scope=col>GTEX-ZZPU-1326-SM-5GZWS</th><th scope=col>GTEX-ZZPU-1426-SM-5GZZ6</th><th scope=col>GTEX-ZZPU-1826-SM-5E43L</th><th scope=col>GTEX-ZZPU-2126-SM-5EGIU</th><th scope=col>GTEX-ZZPU-2226-SM-5EGIV</th><th scope=col>GTEX-ZZPU-2426-SM-5E44I</th><th scope=col>GTEX-ZZPU-2626-SM-5E45Y</th><th scope=col>GTEX-ZZPU-2726-SM-5NQ8O</th></tr>\n",
       "</thead>\n",
       "<tbody>\n",
       "\t<tr><th scope=row>ENSG00000223972.5</th><td>  0</td><td>  0</td><td>  0</td><td>  0</td><td>  0</td><td>  0</td><td>  0</td><td>  0</td><td>  0</td><td>  0</td><td>⋯</td><td> 0</td><td> 2</td><td>  0</td><td> 0</td><td> 0</td><td> 0</td><td> 0</td><td> 0</td><td> 1</td><td> 1</td></tr>\n",
       "\t<tr><th scope=row>ENSG00000227232.5</th><td>187</td><td>109</td><td>143</td><td>251</td><td>113</td><td>139</td><td>199</td><td>473</td><td>286</td><td>306</td><td>⋯</td><td>72</td><td>96</td><td>136</td><td>79</td><td>89</td><td>86</td><td>49</td><td>84</td><td>34</td><td>66</td></tr>\n",
       "\t<tr><th scope=row>ENSG00000278267.1</th><td>  0</td><td>  0</td><td>  1</td><td>  0</td><td>  0</td><td>  0</td><td>  0</td><td>  0</td><td>  0</td><td>  0</td><td>⋯</td><td> 0</td><td> 0</td><td>  0</td><td> 0</td><td> 0</td><td> 0</td><td> 0</td><td> 0</td><td> 0</td><td> 0</td></tr>\n",
       "\t<tr><th scope=row>ENSG00000243485.5</th><td>  1</td><td>  0</td><td>  0</td><td>  1</td><td>  0</td><td>  0</td><td>  0</td><td>  0</td><td>  0</td><td>  1</td><td>⋯</td><td> 0</td><td> 0</td><td>  1</td><td> 0</td><td> 2</td><td> 2</td><td> 0</td><td> 1</td><td> 0</td><td> 0</td></tr>\n",
       "\t<tr><th scope=row>ENSG00000237613.2</th><td>  0</td><td>  0</td><td>  0</td><td>  0</td><td>  0</td><td>  0</td><td>  0</td><td>  1</td><td>  0</td><td>  0</td><td>⋯</td><td> 1</td><td> 0</td><td>  0</td><td> 0</td><td> 0</td><td> 0</td><td> 0</td><td> 0</td><td> 0</td><td> 0</td></tr>\n",
       "\t<tr><th scope=row>ENSG00000268020.3</th><td>  0</td><td>  1</td><td>  0</td><td>  0</td><td>  0</td><td>  1</td><td>  1</td><td>  0</td><td>  1</td><td>  2</td><td>⋯</td><td> 1</td><td> 0</td><td>  0</td><td> 1</td><td> 2</td><td> 0</td><td> 0</td><td> 0</td><td> 1</td><td> 1</td></tr>\n",
       "</tbody>\n",
       "</table>\n"
      ],
      "text/latex": [
       "A matrix: 6 × 17382 of type dbl\n",
       "\\begin{tabular}{r|lllllllllllllllllllll}\n",
       "  & GTEX-1117F-0226-SM-5GZZ7 & GTEX-1117F-0426-SM-5EGHI & GTEX-1117F-0526-SM-5EGHJ & GTEX-1117F-0626-SM-5N9CS & GTEX-1117F-0726-SM-5GIEN & GTEX-1117F-1326-SM-5EGHH & GTEX-1117F-2426-SM-5EGGH & GTEX-1117F-2526-SM-5GZY6 & GTEX-1117F-2826-SM-5GZXL & GTEX-1117F-2926-SM-5GZYI & ⋯ & GTEX-ZZPU-1126-SM-5N9CW & GTEX-ZZPU-1226-SM-5N9CK & GTEX-ZZPU-1326-SM-5GZWS & GTEX-ZZPU-1426-SM-5GZZ6 & GTEX-ZZPU-1826-SM-5E43L & GTEX-ZZPU-2126-SM-5EGIU & GTEX-ZZPU-2226-SM-5EGIV & GTEX-ZZPU-2426-SM-5E44I & GTEX-ZZPU-2626-SM-5E45Y & GTEX-ZZPU-2726-SM-5NQ8O\\\\\n",
       "\\hline\n",
       "\tENSG00000223972.5 &   0 &   0 &   0 &   0 &   0 &   0 &   0 &   0 &   0 &   0 & ⋯ &  0 &  2 &   0 &  0 &  0 &  0 &  0 &  0 &  1 &  1\\\\\n",
       "\tENSG00000227232.5 & 187 & 109 & 143 & 251 & 113 & 139 & 199 & 473 & 286 & 306 & ⋯ & 72 & 96 & 136 & 79 & 89 & 86 & 49 & 84 & 34 & 66\\\\\n",
       "\tENSG00000278267.1 &   0 &   0 &   1 &   0 &   0 &   0 &   0 &   0 &   0 &   0 & ⋯ &  0 &  0 &   0 &  0 &  0 &  0 &  0 &  0 &  0 &  0\\\\\n",
       "\tENSG00000243485.5 &   1 &   0 &   0 &   1 &   0 &   0 &   0 &   0 &   0 &   1 & ⋯ &  0 &  0 &   1 &  0 &  2 &  2 &  0 &  1 &  0 &  0\\\\\n",
       "\tENSG00000237613.2 &   0 &   0 &   0 &   0 &   0 &   0 &   0 &   1 &   0 &   0 & ⋯ &  1 &  0 &   0 &  0 &  0 &  0 &  0 &  0 &  0 &  0\\\\\n",
       "\tENSG00000268020.3 &   0 &   1 &   0 &   0 &   0 &   1 &   1 &   0 &   1 &   2 & ⋯ &  1 &  0 &   0 &  1 &  2 &  0 &  0 &  0 &  1 &  1\\\\\n",
       "\\end{tabular}\n"
      ],
      "text/markdown": [
       "\n",
       "A matrix: 6 × 17382 of type dbl\n",
       "\n",
       "| <!--/--> | GTEX-1117F-0226-SM-5GZZ7 | GTEX-1117F-0426-SM-5EGHI | GTEX-1117F-0526-SM-5EGHJ | GTEX-1117F-0626-SM-5N9CS | GTEX-1117F-0726-SM-5GIEN | GTEX-1117F-1326-SM-5EGHH | GTEX-1117F-2426-SM-5EGGH | GTEX-1117F-2526-SM-5GZY6 | GTEX-1117F-2826-SM-5GZXL | GTEX-1117F-2926-SM-5GZYI | ⋯ | GTEX-ZZPU-1126-SM-5N9CW | GTEX-ZZPU-1226-SM-5N9CK | GTEX-ZZPU-1326-SM-5GZWS | GTEX-ZZPU-1426-SM-5GZZ6 | GTEX-ZZPU-1826-SM-5E43L | GTEX-ZZPU-2126-SM-5EGIU | GTEX-ZZPU-2226-SM-5EGIV | GTEX-ZZPU-2426-SM-5E44I | GTEX-ZZPU-2626-SM-5E45Y | GTEX-ZZPU-2726-SM-5NQ8O |\n",
       "|---|---|---|---|---|---|---|---|---|---|---|---|---|---|---|---|---|---|---|---|---|---|\n",
       "| ENSG00000223972.5 |   0 |   0 |   0 |   0 |   0 |   0 |   0 |   0 |   0 |   0 | ⋯ |  0 |  2 |   0 |  0 |  0 |  0 |  0 |  0 |  1 |  1 |\n",
       "| ENSG00000227232.5 | 187 | 109 | 143 | 251 | 113 | 139 | 199 | 473 | 286 | 306 | ⋯ | 72 | 96 | 136 | 79 | 89 | 86 | 49 | 84 | 34 | 66 |\n",
       "| ENSG00000278267.1 |   0 |   0 |   1 |   0 |   0 |   0 |   0 |   0 |   0 |   0 | ⋯ |  0 |  0 |   0 |  0 |  0 |  0 |  0 |  0 |  0 |  0 |\n",
       "| ENSG00000243485.5 |   1 |   0 |   0 |   1 |   0 |   0 |   0 |   0 |   0 |   1 | ⋯ |  0 |  0 |   1 |  0 |  2 |  2 |  0 |  1 |  0 |  0 |\n",
       "| ENSG00000237613.2 |   0 |   0 |   0 |   0 |   0 |   0 |   0 |   1 |   0 |   0 | ⋯ |  1 |  0 |   0 |  0 |  0 |  0 |  0 |  0 |  0 |  0 |\n",
       "| ENSG00000268020.3 |   0 |   1 |   0 |   0 |   0 |   1 |   1 |   0 |   1 |   2 | ⋯ |  1 |  0 |   0 |  1 |  2 |  0 |  0 |  0 |  1 |  1 |\n",
       "\n"
      ],
      "text/plain": [
       "                  GTEX-1117F-0226-SM-5GZZ7 GTEX-1117F-0426-SM-5EGHI\n",
       "ENSG00000223972.5   0                        0                     \n",
       "ENSG00000227232.5 187                      109                     \n",
       "ENSG00000278267.1   0                        0                     \n",
       "ENSG00000243485.5   1                        0                     \n",
       "ENSG00000237613.2   0                        0                     \n",
       "ENSG00000268020.3   0                        1                     \n",
       "                  GTEX-1117F-0526-SM-5EGHJ GTEX-1117F-0626-SM-5N9CS\n",
       "ENSG00000223972.5   0                        0                     \n",
       "ENSG00000227232.5 143                      251                     \n",
       "ENSG00000278267.1   1                        0                     \n",
       "ENSG00000243485.5   0                        1                     \n",
       "ENSG00000237613.2   0                        0                     \n",
       "ENSG00000268020.3   0                        0                     \n",
       "                  GTEX-1117F-0726-SM-5GIEN GTEX-1117F-1326-SM-5EGHH\n",
       "ENSG00000223972.5   0                        0                     \n",
       "ENSG00000227232.5 113                      139                     \n",
       "ENSG00000278267.1   0                        0                     \n",
       "ENSG00000243485.5   0                        0                     \n",
       "ENSG00000237613.2   0                        0                     \n",
       "ENSG00000268020.3   0                        1                     \n",
       "                  GTEX-1117F-2426-SM-5EGGH GTEX-1117F-2526-SM-5GZY6\n",
       "ENSG00000223972.5   0                        0                     \n",
       "ENSG00000227232.5 199                      473                     \n",
       "ENSG00000278267.1   0                        0                     \n",
       "ENSG00000243485.5   0                        0                     \n",
       "ENSG00000237613.2   0                        1                     \n",
       "ENSG00000268020.3   1                        0                     \n",
       "                  GTEX-1117F-2826-SM-5GZXL GTEX-1117F-2926-SM-5GZYI ⋯\n",
       "ENSG00000223972.5   0                        0                      ⋯\n",
       "ENSG00000227232.5 286                      306                      ⋯\n",
       "ENSG00000278267.1   0                        0                      ⋯\n",
       "ENSG00000243485.5   0                        1                      ⋯\n",
       "ENSG00000237613.2   0                        0                      ⋯\n",
       "ENSG00000268020.3   1                        2                      ⋯\n",
       "                  GTEX-ZZPU-1126-SM-5N9CW GTEX-ZZPU-1226-SM-5N9CK\n",
       "ENSG00000223972.5  0                       2                     \n",
       "ENSG00000227232.5 72                      96                     \n",
       "ENSG00000278267.1  0                       0                     \n",
       "ENSG00000243485.5  0                       0                     \n",
       "ENSG00000237613.2  1                       0                     \n",
       "ENSG00000268020.3  1                       0                     \n",
       "                  GTEX-ZZPU-1326-SM-5GZWS GTEX-ZZPU-1426-SM-5GZZ6\n",
       "ENSG00000223972.5   0                      0                     \n",
       "ENSG00000227232.5 136                     79                     \n",
       "ENSG00000278267.1   0                      0                     \n",
       "ENSG00000243485.5   1                      0                     \n",
       "ENSG00000237613.2   0                      0                     \n",
       "ENSG00000268020.3   0                      1                     \n",
       "                  GTEX-ZZPU-1826-SM-5E43L GTEX-ZZPU-2126-SM-5EGIU\n",
       "ENSG00000223972.5  0                       0                     \n",
       "ENSG00000227232.5 89                      86                     \n",
       "ENSG00000278267.1  0                       0                     \n",
       "ENSG00000243485.5  2                       2                     \n",
       "ENSG00000237613.2  0                       0                     \n",
       "ENSG00000268020.3  2                       0                     \n",
       "                  GTEX-ZZPU-2226-SM-5EGIV GTEX-ZZPU-2426-SM-5E44I\n",
       "ENSG00000223972.5  0                       0                     \n",
       "ENSG00000227232.5 49                      84                     \n",
       "ENSG00000278267.1  0                       0                     \n",
       "ENSG00000243485.5  0                       1                     \n",
       "ENSG00000237613.2  0                       0                     \n",
       "ENSG00000268020.3  0                       0                     \n",
       "                  GTEX-ZZPU-2626-SM-5E45Y GTEX-ZZPU-2726-SM-5NQ8O\n",
       "ENSG00000223972.5  1                       1                     \n",
       "ENSG00000227232.5 34                      66                     \n",
       "ENSG00000278267.1  0                       0                     \n",
       "ENSG00000243485.5  0                       0                     \n",
       "ENSG00000237613.2  0                       0                     \n",
       "ENSG00000268020.3  1                       1                     "
      ]
     },
     "metadata": {},
     "output_type": "display_data"
    }
   ],
   "source": [
    "head(exprs(obj))"
   ]
  },
  {
   "cell_type": "markdown",
   "metadata": {},
   "source": [
    "Now let us do the differential analysis - using EdgeR"
   ]
  },
  {
   "cell_type": "code",
   "execution_count": null,
   "metadata": {},
   "outputs": [],
   "source": [
    "x <- exprs(obj)"
   ]
  },
  {
   "cell_type": "code",
   "execution_count": null,
   "metadata": {},
   "outputs": [],
   "source": [
    "dim(x)"
   ]
  },
  {
   "cell_type": "markdown",
   "metadata": {},
   "source": [
    "To use the DGEList function from EdgeR, we need to transpose our x so that the length of group is equal\n",
    "to the number of columns in our counts (x).\n",
    "\n",
    "You will get an error in DGEList (counts = x, group = group) if the length of group is not equal to the number of columns in counts"
   ]
  },
  {
   "cell_type": "code",
   "execution_count": null,
   "metadata": {},
   "outputs": [],
   "source": [
    "group <- factor(pData(obj)$SEX)"
   ]
  },
  {
   "cell_type": "code",
   "execution_count": null,
   "metadata": {},
   "outputs": [],
   "source": [
    "y <- DGEList(counts=x, group=group)"
   ]
  },
  {
   "cell_type": "markdown",
   "metadata": {},
   "source": [
    "I keep running out of memory on this step - so on my laptop after calculating the DGEList\n",
    "I saved it and now I uploaded it to this larger memory machine"
   ]
  },
  {
   "cell_type": "code",
   "execution_count": null,
   "metadata": {},
   "outputs": [],
   "source": [
    "attributes(y)"
   ]
  },
  {
   "cell_type": "code",
   "execution_count": null,
   "metadata": {},
   "outputs": [],
   "source": [
    "#caution this step takes a lot of memory and time"
   ]
  },
  {
   "cell_type": "code",
   "execution_count": null,
   "metadata": {},
   "outputs": [],
   "source": [
    "y <- calcNormFactors(y)"
   ]
  },
  {
   "cell_type": "code",
   "execution_count": null,
   "metadata": {},
   "outputs": [],
   "source": [
    "saveRDS(y, file = \"../data/DGENormFactorsy.rds\")"
   ]
  },
  {
   "cell_type": "code",
   "execution_count": null,
   "metadata": {},
   "outputs": [],
   "source": [
    "# For Guy -- does this do what you are expecting -- I am confused because what you get when you\n",
    "#        ask for the min (table(groups)) is the smaller sized group -- which in this case is \n",
    "#        female -- it will help the reader to know what you are doing here with the statement.\n",
    "#        one can read what it is doing but not understand your objective."
   ]
  },
  {
   "cell_type": "code",
   "execution_count": null,
   "metadata": {},
   "outputs": [],
   "source": [
    "groups <- pData(obj)$SEX\n",
    "keep.events <- rep(TRUE, nrow(y))\n",
    "for (group in c(1,2)) {\n",
    "    keep.events <- keep.events & \n",
    "                   rowSums(cpm(y[,groups %in% group]) > 1) >= 0.25*min(table(groups))\n",
    "}\n"
   ]
  },
  {
   "cell_type": "code",
   "execution_count": null,
   "metadata": {},
   "outputs": [],
   "source": [
    "reduced_y<- y[keep.events,]"
   ]
  },
  {
   "cell_type": "code",
   "execution_count": null,
   "metadata": {},
   "outputs": [],
   "source": [
    "reduced_obj <- obj[keep.events==TRUE,]"
   ]
  },
  {
   "cell_type": "code",
   "execution_count": null,
   "metadata": {},
   "outputs": [],
   "source": [
    "dim(reduced_obj)"
   ]
  },
  {
   "cell_type": "code",
   "execution_count": null,
   "metadata": {},
   "outputs": [],
   "source": [
    "#saveRDS(reduced_y, file = \"../data/reduced_y.rds\")\n",
    "#saveRDS(reduced_obj, file = \"../data/reduced_obj.rds\")\n",
    "reduced_obj <- readRDS(file = \"../data/reduced_obj.rds\")\n",
    "reduced_y   <- readRDS(file = \"../data/reduced_y.rds\")\n"
   ]
  },
  {
   "cell_type": "code",
   "execution_count": null,
   "metadata": {},
   "outputs": [],
   "source": []
  },
  {
   "cell_type": "code",
   "execution_count": null,
   "metadata": {},
   "outputs": [],
   "source": [
    "# separate the analysis by male and by female\n",
    "# then do the differential analysis regarding tissue\n",
    "# then do the differential analysis male tissue vs female tissue"
   ]
  },
  {
   "cell_type": "code",
   "execution_count": null,
   "metadata": {},
   "outputs": [],
   "source": [
    "reduced_male   <- pData(reduced_obj)$SEX==1\n",
    "reduced_female <- pData(reduced_obj)$SEX==2"
   ]
  },
  {
   "cell_type": "code",
   "execution_count": null,
   "metadata": {},
   "outputs": [],
   "source": [
    "reduced_obj_male   <- reduced_obj[,reduced_male==TRUE]\n",
    "reduced_obj_female <- reduced_obj[,reduced_female==TRUE]"
   ]
  },
  {
   "cell_type": "code",
   "execution_count": null,
   "metadata": {},
   "outputs": [],
   "source": [
    "dim(reduced_obj_male)\n",
    "dim(reduced_obj_female)"
   ]
  },
  {
   "cell_type": "code",
   "execution_count": null,
   "metadata": {},
   "outputs": [],
   "source": [
    "tissue_groups_male <- factor(pData(reduced_obj_male)$SMTS)\n",
    "tissue_groups_female <- factor(pData(reduced_obj_female)$SMTS)"
   ]
  },
  {
   "cell_type": "code",
   "execution_count": null,
   "metadata": {},
   "outputs": [],
   "source": [
    "# good sanity check, the male set does not have any vaginas or uterus\n",
    "table (tissue_groups_male)"
   ]
  },
  {
   "cell_type": "code",
   "execution_count": null,
   "metadata": {},
   "outputs": [],
   "source": [
    "# and the females have no prostate or testis\n",
    "table(tissue_groups_female)"
   ]
  },
  {
   "cell_type": "code",
   "execution_count": null,
   "metadata": {},
   "outputs": [],
   "source": [
    "# Reproducing Guys results using the yarn expression object\n",
    "# loop through the tissues and for those tissues that are shared between the two sexes\n",
    "# perform a differential gene analysis on a per tissue basis\n"
   ]
  },
  {
   "cell_type": "code",
   "execution_count": null,
   "metadata": {},
   "outputs": [],
   "source": [
    "tissue_groups <- factor(pData(reduced_obj)$SMTS)"
   ]
  },
  {
   "cell_type": "code",
   "execution_count": null,
   "metadata": {},
   "outputs": [],
   "source": [
    "tissue_male_female <- tissue_groups_male %in% tissue_groups_female\n",
    "table(tissue_male_female)"
   ]
  },
  {
   "cell_type": "code",
   "execution_count": null,
   "metadata": {},
   "outputs": [],
   "source": [
    "tissue_shared_male_female <- factor(tissue_groups_male[tissue_male_female])\n",
    "table(tissue_shared_male_female)"
   ]
  },
  {
   "cell_type": "code",
   "execution_count": null,
   "metadata": {},
   "outputs": [],
   "source": [
    "# SEX is coded 1 == Male\n",
    "#              2 == Female\n",
    "sex = factor(pData(reduced_obj)$SEX)"
   ]
  },
  {
   "cell_type": "code",
   "execution_count": null,
   "metadata": {},
   "outputs": [],
   "source": [
    "#tissue_shared_male_female\n",
    "for (tissue in tissue_shared_male_female) {\n",
    "# missing: Bladder\n",
    "#    tissue        <- 'Bladder'\n",
    "    tissue_true   <- pData(reduced_obj)$SMTS==tissue\n",
    "    tissue_obj    <- reduced_obj[,tissue_true==TRUE]\n",
    "    tissue_sex    <- factor(pData(tissue_obj)$SEX)\n",
    "    tissue_design <- model.matrix(~tissue_sex)\n",
    "    y_tissue      <- DGEList(counts=exprs(tissue_obj), group=tissue_sex)\n",
    "    tissue_sex_array <- lapply(pData(reduced_obj)$SMTS, factor())\n",
    "    y_tissue_array <- lapply(pData(reduced_obj)$SMTS,DGEList(counts=exprs(tissue_obj), group=tissue_sex)\n",
    "    y_tissue      <- calcNormFactors(y_tissue)\n",
    "    y_tissue_voom <- voom (y_tissue, tissue_design)\n",
    "    fit_tissue    <- lmFit(y_tissue_voom, tissue_design)\n",
    "    fit_tissue    <- eBayes(fit_tissue, robust=TRUE)\n",
    "    results_tissue<- topTable(fit_tissue, coef='tissue_sex2', number=nrow(y_tissue))\n",
    "    assign(paste(\"results\",tissue, sep=\"_\"),results_tissue)\n",
    "    filename = paste(paste(\"../data\", tissue,sep=\"/\"),\"DGE.txt\",sep=\"_\")\n",
    "    write.table(results_tissue,filename,sep='\\t',quote = F)\n",
    "}"
   ]
  },
  {
   "cell_type": "code",
   "execution_count": null,
   "metadata": {},
   "outputs": [],
   "source": [
    "filenames <- list.files(\"../data\", pattern=\"*_DGE.txt\", all.files=FALSE,\n",
    "    full.names=FALSE)"
   ]
  },
  {
   "cell_type": "code",
   "execution_count": null,
   "metadata": {},
   "outputs": [],
   "source": [
    "adipose_tissue_logFC_mat <- read.delim2(\"../data/Adipose\\ Tissue_DGE.txt\",stringsAsFactors = FALSE)\n",
    "adrenal_gland_logFC_mat  <- read.delim2(\"../data/Adrenal\\ Gland_DGE.txt\",stringsAsFactors = FALSE)\n",
    "bladder_logFC_mat        <- read.delim2(\"../data/Bladder_DGE.txt\",stringsAsFactors = FALSE)\n",
    "blood_logFC_mat          <- read.delim2(\"../data/Blood_DGE.txt\",stringsAsFactors = FALSE)\n",
    "blood_vessel_logFC_mat   <- read.delim2(\"../data/Blood\\ Vessel_DGE.txt\",stringsAsFactors = FALSE) \n",
    "brain_logFC_mat          <- read.delim2(\"../data/Brain_DGE.txt\",stringsAsFactors = FALSE)\n",
    "breast_logFC_mat         <- read.delim2(\"../data/Breast_DGE.txt\",stringsAsFactors = FALSE)\n",
    "colon_logFC_mat          <- read.delim2(\"../data/Colon_DGE.txt\",stringsAsFactors = FALSE)\n",
    "esophagus_logFC_mat      <- read.delim2(\"../data/Esophagus_DGE.txt\",stringsAsFactors = FALSE)\n",
    "heart_logFC_mat          <- read.delim2(\"../data/Heart_DGE.txt\",stringsAsFactors = FALSE)\n",
    "kidney_logFC_mat         <- read.delim2(\"../data/Kidney_DGE.txt\",stringsAsFactors = FALSE)\n",
    "liver_logFC_mat          <- read.delim2(\"../data/Liver_DGE.txt\",stringsAsFactors = FALSE)\n",
    "lung_logFC_mat           <- read.delim2(\"../data/Lung_DGE.txt\",stringsAsFactors = FALSE)\n",
    "muscle_logFC_mat         <- read.delim2(\"../data/Muscle_DGE.txt\",stringsAsFactors = FALSE)\n",
    "nerve_logFC_mat          <- read.delim2(\"../data/Nerve_DGE.txt\",stringsAsFactors = FALSE)\n",
    "pancreas_logFC_mat       <- read.delim2(\"../data/Pancreas_DGE.txt\",stringsAsFactors = FALSE)\n",
    "pituitary_logFC_mat      <- read.delim2(\"../data/Pituitary_DGE.txt\",stringsAsFactors = FALSE)\n",
    "salivary_gland_logFC_mat <- read.delim2(\"../data/Salivary\\ Gland_DGE.txt\",stringsAsFactors = FALSE)\n",
    "skin_logFC_mat           <- read.delim2(\"../data/Skin_DGE.txt\",stringsAsFactors = FALSE)\n",
    "small_intestine_logFC_mat<- read.delim2(\"../data/Small\\ Intestine_DGE.txt\",stringsAsFactors = FALSE)\n",
    "spleen_logFC_mat         <- read.delim2(\"../data/Spleen_DGE.txt\",stringsAsFactors = FALSE)\n",
    "stomach_logFC_mat        <- read.delim2(\"../data/Stomach_DGE.txt\",stringsAsFactors = FALSE)\n",
    "thyroid_logFC_mat        <- read.delim2(\"../data/Thyroid_DGE.txt\",stringsAsFactors = FALSE)"
   ]
  },
  {
   "cell_type": "code",
   "execution_count": null,
   "metadata": {},
   "outputs": [],
   "source": [
    "adipose_tissue_logFC <- as.matrix(as.numeric(adipose_tissue_logFC_mat$logFC),nrow=16794,ncol=1)\n",
    "\n",
    "m <- adipose_tissue_logFC[order(rownames(adipose_tissue_logFC_mat)),]"
   ]
  },
  {
   "cell_type": "code",
   "execution_count": null,
   "metadata": {},
   "outputs": [],
   "source": [
    "adipose_tissue_logFC_mat       <- adipose_tissue_logFC_mat[order(rownames(adipose_tissue_logFC_mat)),]\n",
    "adipose_tissue_logFC           <- as.matrix(as.numeric(adipose_tissue_logFC_mat$logFC),nrow=16794,ncol=1)\n",
    "rownames(adipose_tissue_logFC) <- rownames(adipose_tissue_logFC_mat)\n",
    "\n",
    "adrenal_gland_logFC_mat       <- adrenal_gland_logFC_mat[order(rownames(adrenal_gland_logFC_mat)),]\n",
    "adrenal_gland_logFC           <- as.matrix(as.numeric(adrenal_gland_logFC_mat$logFC),nrow=16794,ncol=1)\n",
    "rownames(adrenal_gland_logFC) <- rownames(adrenal_gland_logFC_mat)\n",
    "\n",
    "bladder_logFC_mat       <- bladder_logFC_mat[order(rownames(bladder_logFC_mat)),]\n",
    "bladder_logFC           <- as.matrix(as.numeric(bladder_logFC_mat$logFC),nrow=16794,ncol=1)\n",
    "rownames(bladder_logFC) <- rownames(bladder_logFC_mat)\n",
    "\n",
    "blood_logFC_mat       <- blood_logFC_mat[order(rownames(blood_logFC_mat)),]\n",
    "blood_logFC           <- as.matrix(as.numeric(blood_logFC_mat$logFC),nrow=16794,ncol=1)\n",
    "rownames(blood_logFC) <- rownames(blood_logFC_mat)\n",
    "\n",
    "blood_vessel_logFC_mat       <- blood_vessel_logFC_mat[order(rownames(blood_vessel_logFC_mat)),]\n",
    "blood_vessel_logFC           <- as.matrix(as.numeric(blood_vessel_logFC_mat$logFC),nrow=16794,ncol=1)\n",
    "rownames(blood_vessel_logFC) <- rownames(blood_vessel_logFC_mat)\n",
    "\n",
    "brain_logFC_mat      <- brain_logFC_mat[order(rownames(brain_logFC_mat)),]\n",
    "brain_logFC          <- as.matrix(as.numeric(brain_logFC_mat$logFC),nrow=16794,ncol=1)\n",
    "rownames(brain_logFC)<- rownames(brain_logFC_mat)\n",
    "\n",
    "breast_logFC_mat       <- breast_logFC_mat[order(rownames(breast_logFC_mat)),]\n",
    "breast_logFC           <- as.matrix(as.numeric(breast_logFC_mat$logFC),nrow=16794,ncol=1)\n",
    "rownames(breast_logFC) <- rownames(breast_logFC_mat)\n",
    "\n",
    "colon_logFC_mat       <- colon_logFC_mat[order(rownames(colon_logFC_mat)),]\n",
    "colon_logFC           <- as.matrix(as.numeric(colon_logFC_mat$logFC),nrow=16794,ncol=1)\n",
    "rownames(colon_logFC) <- rownames(colon_logFC_mat)\n",
    "\n",
    "esophagus_logFC_mat       <- esophagus_logFC_mat[order(rownames(esophagus_logFC_mat)),]\n",
    "esophagus_logFC           <- as.matrix(as.numeric(esophagus_logFC_mat$logFC),nrow=16794,ncol=1)\n",
    "rownames(esophagus_logFC) <- rownames(esophagus_logFC_mat)\n",
    "\n",
    "heart_logFC_mat       <- heart_logFC_mat[order(rownames(heart_logFC_mat)),]\n",
    "heart_logFC           <- as.matrix(as.numeric(heart_logFC_mat$logFC),nrow=16794,ncol=1)\n",
    "rownames(heart_logFC) <- rownames(heart_logFC_mat)\n",
    "\n",
    "kidney_logFC_mat       <- kidney_logFC_mat[order(rownames(kidney_logFC_mat)),]\n",
    "kidney_logFC           <- as.matrix(as.numeric(kidney_logFC_mat$logFC),nrow=16794,ncol=1)\n",
    "rownames(kidney_logFC) <- rownames(kidney_logFC_mat)\n",
    "\n",
    "liver_logFC_mat       <- liver_logFC_mat[order(rownames(liver_logFC_mat)),]\n",
    "liver_logFC           <- as.matrix(as.numeric(liver_logFC_mat$logFC),nrow=16794,ncol=1)\n",
    "rownames(liver_logFC) <- rownames(liver_logFC_mat)\n",
    "\n",
    "lung_logFC_mat       <- lung_logFC_mat[order(rownames(lung_logFC_mat)),]\n",
    "lung_logFC           <- as.matrix(as.numeric(lung_logFC_mat$logFC),nrow=16794,ncol=1)\n",
    "rownames(lung_logFC) <- rownames(lung_logFC_mat)\n",
    "\n",
    "muscle_logFC_mat      <- muscle_logFC_mat[order(rownames(muscle_logFC_mat)),]\n",
    "muscle_logFC          <- as.matrix(as.numeric(muscle_logFC_mat$logFC),nrow=16794,ncol=1)\n",
    "rownames(muscle_logFC)<- rownames(muscle_logFC_mat)\n",
    "\n",
    "nerve_logFC_mat       <- nerve_logFC_mat[order(rownames(nerve_logFC_mat)),]\n",
    "nerve_logFC           <- as.matrix(as.numeric(nerve_logFC_mat$logFC),nrow=16794,ncol=1)\n",
    "rownames(nerve_logFC) <- rownames(nerve_logFC_mat)\n",
    "\n",
    "pancreas_logFC_mat       <- pancreas_logFC_mat[order(rownames(pancreas_logFC_mat)),]\n",
    "pancreas_logFC           <- as.matrix(as.numeric(pancreas_logFC_mat$logFC),nrow=16794,ncol=1)\n",
    "rownames(pancreas_logFC) <- rownames(pancreas_logFC_mat)\n",
    "\n",
    "pituitary_logFC_mat       <- pituitary_logFC_mat[order(rownames(pituitary_logFC_mat)),]\n",
    "pituitary_logFC           <- as.matrix(as.numeric(pituitary_logFC_mat$logFC),nrow=16794,ncol=1)\n",
    "rownames(pituitary_logFC) <- rownames(pituitary_logFC_mat)\n",
    "\n",
    "salivary_gland_logFC_mat       <- salivary_gland_logFC_mat[order(rownames(salivary_gland_logFC_mat)),]\n",
    "salivary_gland_logFC           <- as.matrix(as.numeric(salivary_gland_logFC_mat$logFC),nrow=16794,ncol=1)\n",
    "rownames(salivary_gland_logFC) <- rownames(salivary_gland_logFC_mat)\n",
    "\n",
    "skin_logFC_mat       <- skin_logFC_mat[order(rownames(skin_logFC_mat)),]\n",
    "skin_logFC           <- as.matrix(as.numeric(skin_logFC_mat$logFC),nrow=16794,ncol=1)\n",
    "rownames(skin_logFC) <- rownames(skin_logFC_mat)\n",
    "\n",
    "small_intestine_logFC_mat       <- small_intestine_logFC_mat[order(rownames(small_intestine_logFC_mat)),]\n",
    "small_intestine_logFC           <- as.matrix(as.numeric(small_intestine_logFC_mat$logFC),nrow=16794,ncol=1)\n",
    "rownames(small_intestine_logFC) <- rownames(small_intestine_logFC_mat)\n",
    "\n",
    "spleen_logFC_mat       <- spleen_logFC_mat[order(rownames(spleen_logFC_mat)),]\n",
    "spleen_logFC           <- as.matrix(as.numeric(spleen_logFC_mat$logFC),nrow=16794,ncol=1)\n",
    "rownames(spleen_logFC) <- rownames(spleen_logFC_mat)\n",
    "\n",
    "stomach_logFC_mat       <- stomach_logFC_mat[order(rownames(stomach_logFC_mat)),]\n",
    "stomach_logFC           <- as.matrix(as.numeric(stomach_logFC_mat$logFC),nrow=16794,ncol=1)\n",
    "rownames(stomach_logFC) <- rownames(stomach_logFC_mat)\n",
    "\n",
    "thyroid_logFC_mat       <- thyroid_logFC_mat[order(rownames(thyroid_logFC_mat)),]\n",
    "thyroid_logFC           <- as.matrix(as.numeric(thyroid_logFC_mat$logFC),nrow=16794,ncol=1)\n",
    "rownames(thyroid_logFC) <- rownames(thyroid_logFC_mat)\n"
   ]
  },
  {
   "cell_type": "code",
   "execution_count": null,
   "metadata": {},
   "outputs": [],
   "source": [
    "logFC_mat = as.matrix(cbind(adipose_tissue_logFC,\n",
    "             adrenal_gland_logFC,\n",
    "             bladder_logFC,\n",
    "             blood_logFC,\n",
    "             blood_vessel_logFC,\n",
    "             brain_logFC,\n",
    "             breast_logFC,\n",
    "             colon_logFC,\n",
    "             esophagus_logFC,\n",
    "             heart_logFC,\n",
    "             kidney_logFC,\n",
    "             liver_logFC,\n",
    "             lung_logFC,\n",
    "             muscle_logFC,\n",
    "             nerve_logFC,\n",
    "             pancreas_logFC,\n",
    "             pituitary_logFC,\n",
    "             salivary_gland_logFC,\n",
    "             skin_logFC,\n",
    "             small_intestine_logFC,\n",
    "             spleen_logFC,\n",
    "             stomach_logFC,\n",
    "             thyroid_logFC),nrow=16794,ncol=23)\n"
   ]
  },
  {
   "cell_type": "code",
   "execution_count": null,
   "metadata": {},
   "outputs": [],
   "source": [
    "rownames(logFC_mat) <- rownames(thyroid_logFC)\n",
    "colnames(logFC_mat) <- c(\"adipose\",\"adrenal_gland\",\"bladder\",\"blood\",\"blood_vessel\",\n",
    "                        \"brain\",\"breast\",\"colon\",\"esophagus\",\"heart\",\"kidney\",\n",
    "                        \"liver\",\"lung\",\"muscle\",\"nerve\",\"pancreas\",\"pitutary\",\n",
    "                        \"salivary_gland\",\"skin\",\"small_intestine\",\n",
    "                        \"spleen\",\"stomach\",\"thyroid\")\n",
    "dim(logFC_mat)\n",
    "head(logFC_mat)\n",
    "\n"
   ]
  },
  {
   "cell_type": "code",
   "execution_count": null,
   "metadata": {},
   "outputs": [],
   "source": [
    "logFC_mat_NQ <- normalizeQuantiles(logFC_mat)"
   ]
  },
  {
   "cell_type": "code",
   "execution_count": null,
   "metadata": {},
   "outputs": [],
   "source": [
    "dist_mat <- as.matrix(cor(logFC_mat_NQ))"
   ]
  },
  {
   "cell_type": "code",
   "execution_count": null,
   "metadata": {},
   "outputs": [],
   "source": [
    "rownames(dist_mat) <- colnames(logFC_mat)\n",
    "colnames(dist_mat) <- colnames(logFC_mat)"
   ]
  },
  {
   "cell_type": "code",
   "execution_count": null,
   "metadata": {},
   "outputs": [],
   "source": [
    "library(pheatmap)\n",
    "hm <- pheatmap(as.matrix(dist_mat))\n"
   ]
  },
  {
   "cell_type": "code",
   "execution_count": null,
   "metadata": {},
   "outputs": [],
   "source": [
    "class(hm)"
   ]
  },
  {
   "cell_type": "code",
   "execution_count": null,
   "metadata": {},
   "outputs": [],
   "source": []
  }
 ],
 "metadata": {
  "kernelspec": {
   "display_name": "R",
   "language": "R",
   "name": "ir"
  },
  "language_info": {
   "codemirror_mode": "r",
   "file_extension": ".r",
   "mimetype": "text/x-r-source",
   "name": "R",
   "pygments_lexer": "r",
   "version": "3.6.1"
  }
 },
 "nbformat": 4,
 "nbformat_minor": 4
}
