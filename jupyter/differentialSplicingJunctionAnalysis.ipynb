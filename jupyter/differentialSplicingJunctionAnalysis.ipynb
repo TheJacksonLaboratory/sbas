{
 "cells": [
  {
   "cell_type": "markdown",
   "metadata": {},
   "source": [
    "# differenticalSplicingJunctionExpressionAnalysis as a Notebook \n",
    "\n",
    "rMATS 3.2.5 was run on controlled access RNASeq files retrieved experiments stored in the Sequence Read Archive with controlled access managed by dbGaP.   This experiment was run with the fastq files from GTEx v8.\n",
    "\n",
    "The output (read in by section 1.2.1) are matrices which are the result of executing the rmats-nf nextflow workflow on all the samples from GTEx V8 https://github.com/lifebit-ai/rmats-nf.   The workflow begins with the accessions file and continues until a matrix.  Run without statistics, for the purposes of rMATS creating an annotated junction file for each of the five (5) splicing types.  The matrix is possible with this version of rMATS, as the junction ID is unique per annotation GTF.  In this running, we used gencode.v30.annotation.gtf (complete annotation).   The result is 5 matrices per splicing type.\n",
    "\n",
    "rMATS RNASeq-MATS.py produces 10 different output types which get assembled into as type junction ID by sample ID matrices\n",
    "\n",
    "## Alternative Splice Site Types are: (se, a3ss, a5ss, mxe, ri)\n",
    "\n",
    "  * Skipped Exon events (se),\n",
    "  * Alternative 3' splice site (a3ss),\n",
    "  * Alternative 5' splice site (a5ss),\n",
    "  * Mutually exclusive exon (mxe),\n",
    "  * and retention intron (ri)\n",
    "\n",
    "## There are two different kinds of junction counts\n",
    "\n",
    "For our analysis here, we used just the jc count matrices.\n",
    "  * jc = junction counts - reads that cross the junction\n",
    "  * jcec = junction counts plus reads on the target (such as included exon)\n",
    "\n",
    "## And the count type -- there are 5 types\n",
    "\n",
    "  * inclusion levels (percent spliced in)\n",
    "  * included junction counts (ijc)\n",
    "  * skipped junction counts (sjc)\n",
    "  * inclusion length (inclen)\n",
    "  * skipped length (skiplen)\n",
    "\n",
    "# 1.0 Loading dependencies"
   ]
  },
  {
   "cell_type": "code",
   "execution_count": 1,
   "metadata": {},
   "outputs": [
    {
     "name": "stderr",
     "output_type": "stream",
     "text": [
      "Warning message:\n",
      "“package ‘downloader’ was built under R version 3.6.3”Warning message:\n",
      "“package ‘readr’ was built under R version 3.6.3”Loading required package: limma\n",
      "Warning message:\n",
      "“package ‘DBI’ was built under R version 3.6.3”Loading required package: BiocGenerics\n",
      "Loading required package: parallel\n",
      "\n",
      "Attaching package: ‘BiocGenerics’\n",
      "\n",
      "The following objects are masked from ‘package:parallel’:\n",
      "\n",
      "    clusterApply, clusterApplyLB, clusterCall, clusterEvalQ,\n",
      "    clusterExport, clusterMap, parApply, parCapply, parLapply,\n",
      "    parLapplyLB, parRapply, parSapply, parSapplyLB\n",
      "\n",
      "The following object is masked from ‘package:limma’:\n",
      "\n",
      "    plotMA\n",
      "\n",
      "The following objects are masked from ‘package:stats’:\n",
      "\n",
      "    IQR, mad, sd, var, xtabs\n",
      "\n",
      "The following objects are masked from ‘package:base’:\n",
      "\n",
      "    anyDuplicated, append, as.data.frame, basename, cbind, colnames,\n",
      "    dirname, do.call, duplicated, eval, evalq, Filter, Find, get, grep,\n",
      "    grepl, intersect, is.unsorted, lapply, Map, mapply, match, mget,\n",
      "    order, paste, pmax, pmax.int, pmin, pmin.int, Position, rank,\n",
      "    rbind, Reduce, rownames, sapply, setdiff, sort, table, tapply,\n",
      "    union, unique, unsplit, which, which.max, which.min\n",
      "\n",
      "Loading required package: Biobase\n",
      "Welcome to Bioconductor\n",
      "\n",
      "    Vignettes contain introductory material; view with\n",
      "    'browseVignettes()'. To cite Bioconductor, see\n",
      "    'citation(\"Biobase\")', and for packages 'citation(\"pkgname\")'.\n",
      "\n",
      "Setting options('download.file.method.GEOquery'='auto')\n",
      "Setting options('GEOquery.inmemory.gpl'=FALSE)\n",
      "Loading required package: R.oo\n",
      "Loading required package: R.methodsS3\n",
      "R.methodsS3 v1.8.0 (2020-02-14 07:10:20 UTC) successfully loaded. See ?R.methodsS3 for help.\n",
      "R.oo v1.23.0 successfully loaded. See ?R.oo for help.\n",
      "\n",
      "Attaching package: ‘R.oo’\n",
      "\n",
      "The following object is masked from ‘package:R.methodsS3’:\n",
      "\n",
      "    throw\n",
      "\n",
      "The following objects are masked from ‘package:devtools’:\n",
      "\n",
      "    check, unload\n",
      "\n",
      "The following objects are masked from ‘package:methods’:\n",
      "\n",
      "    getClasses, getMethods\n",
      "\n",
      "The following objects are masked from ‘package:base’:\n",
      "\n",
      "    attach, detach, load, save\n",
      "\n",
      "R.utils v2.9.2 successfully loaded. See ?R.utils for help.\n",
      "\n",
      "Attaching package: ‘R.utils’\n",
      "\n",
      "The following object is masked from ‘package:utils’:\n",
      "\n",
      "    timestamp\n",
      "\n",
      "The following objects are masked from ‘package:base’:\n",
      "\n",
      "    cat, commandArgs, getOption, inherits, isOpen, nullfile, parse,\n",
      "    warnings\n",
      "\n"
     ]
    }
   ],
   "source": [
    "#devtools::install_github(\"TheJacksonLaboratory/yarn@3ff72c0\")\n",
    "#install.packages(\"gprofiler2\")\n",
    "library(gprofiler2)\n",
    "library(downloader)\n",
    "library(readr)\n",
    "library(edgeR)\n",
    "library(biomaRt)\n",
    "library(DBI) # v >= 1.1.0 required for biomaRt\n",
    "library(devtools)\n",
    "library(limma)\n",
    "library(piggyback)\n",
    "library(multtest)\n",
    "library(Biobase)\n",
    "library(yarn)\n",
    "library(edgeR)\n",
    "library(tibble)\n",
    "#install.packages('R.utils')\n",
    "library(R.utils)\n",
    "#install.packages(\"snakecase\")\n",
    "library(snakecase)"
   ]
  },
  {
   "cell_type": "markdown",
   "metadata": {
    "lines_to_next_cell": 0
   },
   "source": [
    "## 1.1 Nextflow execution parameter execution\n",
    "\n",
    "Using the papermill library, we can parallelize execution of this notebook.  To do this, the loop at the bottom of this notebook should be commented out -- and papermill will run across all tissues fed into it."
   ]
  },
  {
   "cell_type": "code",
   "execution_count": 2,
   "metadata": {},
   "outputs": [],
   "source": [
    "# parameters for nextflow execution of notebook\n",
    "tissue_index = 21"
   ]
  },
  {
   "cell_type": "markdown",
   "metadata": {},
   "source": [
    "## 1.2 Retrieve Released data\n",
    "\n",
    "Be sure to set your GITHUB_TOKEN, prior to downloading files\n",
    "\n",
    "One suggestion is change it to your token and then run it then immediately change it back to this:\n",
    "\n",
    "Sys.setenv(GITHUB_TOKEN = \"your-very-own-github-token\")"
   ]
  },
  {
   "cell_type": "code",
   "execution_count": 64,
   "metadata": {
    "lines_to_next_cell": 0
   },
   "outputs": [],
   "source": [
    "Sys.setenv(GITHUB_TOKEN = \"your-very-own-github-token\")"
   ]
  },
  {
   "cell_type": "markdown",
   "metadata": {},
   "source": [
    "### Did you remember?\n",
    "\n",
    "Did you remember to delete your private github token?  Now is a good time to do so, before you save your work and checkit in inadvertantly....\n",
    "\n",
    "### 1.2.1 rmats_final matrices"
   ]
  },
  {
   "cell_type": "code",
   "execution_count": 4,
   "metadata": {
    "lines_to_next_cell": 0
   },
   "outputs": [],
   "source": [
    "getReleasedRMATSData <- function ( destDir ) {\n",
    "\n",
    "  if (!(\"rmats_final.se.jc.ijc.txt.gz\" %in% list.files(destDir))) {    \n",
    "    # SE\n",
    "    piggyback::pb_download(\n",
    "        show_progress = TRUE,\n",
    "        repo = \"adeslatt/sbas_test\", \n",
    "        file = \"rmats_final.se.jc.ijc.txt.gz\",\n",
    "        tag  = \"rMATS.3.2.5.GTEx.V8.final_matrices\", \n",
    "        dest = destDir)\n",
    "    piggyback::pb_download(\n",
    "        show_progress = TRUE,\n",
    "        repo = \"adeslatt/sbas_test\", \n",
    "        file = \"rmats_final.se.jc.sjc.txt.gz\",\n",
    "        tag  = \"rMATS.3.2.5.GTEx.V8.final_matrices\", \n",
    "        dest = destDir)\n",
    "    piggyback::pb_download(\n",
    "        show_progress = TRUE,\n",
    "        repo = \"adeslatt/sbas_test\", \n",
    "        file = \"rmats_final.se.jc.inc.txt.gz\",\n",
    "        tag  = \"rMATS.3.2.5.GTEx.V8.final_matrices\", \n",
    "        dest = destDir)\n",
    "    piggyback::pb_download(\n",
    "        show_progress = TRUE,\n",
    "        repo = \"adeslatt/sbas_test\", \n",
    "        file = \"rmats_final.se.jc.inclen.txt.gz\",\n",
    "        tag  = \"rMATS.3.2.5.GTEx.V8.final_matrices\", \n",
    "        dest = destDir)\n",
    "    piggyback::pb_download(\n",
    "        show_progress = TRUE,\n",
    "        repo = \"adeslatt/sbas_test\", \n",
    "        file = \"rmats_final.se.jc.skiplen.txt.gz\",\n",
    "        tag  = \"rMATS.3.2.5.GTEx.V8.final_matrices\", \n",
    "        dest = destDir)\n",
    "    # RI\n",
    "    piggyback::pb_download(\n",
    "        show_progress = TRUE,\n",
    "        repo = \"adeslatt/sbas_test\", \n",
    "        file = \"rmats_final.ri.jc.ijc.txt.gz\",\n",
    "        tag  = \"rMATS.3.2.5.GTEx.V8.final_matrices\", \n",
    "        dest = destDir)\n",
    "    piggyback::pb_download(\n",
    "        show_progress = TRUE,\n",
    "        repo = \"adeslatt/sbas_test\", \n",
    "        file = \"rmats_final.ri.jc.sjc.txt.gz\",\n",
    "        tag  = \"rMATS.3.2.5.GTEx.V8.final_matrices\", \n",
    "        dest = destDir)\n",
    "    piggyback::pb_download(\n",
    "        show_progress = TRUE,\n",
    "        repo = \"adeslatt/sbas_test\", \n",
    "        file = \"rmats_final.ri.jc.inc.txt.gz\",\n",
    "        tag  = \"rMATS.3.2.5.GTEx.V8.final_matrices\", \n",
    "        dest = destDir)\n",
    "    piggyback::pb_download(\n",
    "        show_progress = TRUE,\n",
    "        repo = \"adeslatt/sbas_test\", \n",
    "        file = \"rmats_final.ri.jc.inclen.txt.gz\",\n",
    "        tag  = \"rMATS.3.2.5.GTEx.V8.final_matrices\", \n",
    "        dest = destDir)\n",
    "    piggyback::pb_download(\n",
    "        show_progress = TRUE,\n",
    "        repo = \"adeslatt/sbas_test\", \n",
    "        file = \"rmats_final.ri.jc.skiplen.txt.gz\",\n",
    "        tag  = \"rMATS.3.2.5.GTEx.V8.final_matrices\", \n",
    "        dest = destDir)\n",
    "    # MXE\n",
    "    piggyback::pb_download(\n",
    "        show_progress = TRUE,\n",
    "        repo = \"adeslatt/sbas_test\", \n",
    "        file = \"rmats_final.mxe.jc.ijc.txt.gz\",\n",
    "        tag  = \"rMATS.3.2.5.GTEx.V8.final_matrices\", \n",
    "        dest = destDir)\n",
    "    piggyback::pb_download(\n",
    "        show_progress = TRUE,\n",
    "        repo = \"adeslatt/sbas_test\", \n",
    "        file = \"rmats_final.mxe.jc.sjc.txt.gz\",\n",
    "        tag  = \"rMATS.3.2.5.GTEx.V8.final_matrices\", \n",
    "        dest = destDir)\n",
    "    piggyback::pb_download(\n",
    "        show_progress = TRUE,\n",
    "        repo = \"adeslatt/sbas_test\", \n",
    "        file = \"rmats_final.mxe.jc.inc.txt.gz\",\n",
    "        tag  = \"rMATS.3.2.5.GTEx.V8.final_matrices\", \n",
    "        dest = destDir)\n",
    "    piggyback::pb_download(\n",
    "        show_progress = TRUE,\n",
    "        repo = \"adeslatt/sbas_test\", \n",
    "        file = \"rmats_final.mxe.jc.inclen.txt.gz\",\n",
    "        tag  = \"rMATS.3.2.5.GTEx.V8.final_matrices\", \n",
    "        dest = destDir)\n",
    "    piggyback::pb_download(\n",
    "        show_progress = TRUE,\n",
    "        repo = \"adeslatt/sbas_test\", \n",
    "        file = \"rmats_final.mxe.jc.skiplen.txt.gz\",\n",
    "        tag  = \"rMATS.3.2.5.GTEx.V8.final_matrices\", \n",
    "        dest = destDir)\n",
    "    # A3SS\n",
    "    piggyback::pb_download(\n",
    "        show_progress = TRUE,\n",
    "        repo = \"adeslatt/sbas_test\", \n",
    "        file = \"rmats_final.a3ss.jc.ijc.txt.gz\",\n",
    "        tag  = \"rMATS.3.2.5.GTEx.V8.final_matrices\", \n",
    "        dest = destDir)\n",
    "    piggyback::pb_download(\n",
    "        show_progress = TRUE,\n",
    "        repo = \"adeslatt/sbas_test\", \n",
    "        file = \"rmats_final.a3ss.jc.sjc.txt.gz\",\n",
    "        tag  = \"rMATS.3.2.5.GTEx.V8.final_matrices\", \n",
    "        dest = destDir)\n",
    "    piggyback::pb_download(\n",
    "        show_progress = TRUE,\n",
    "        repo = \"adeslatt/sbas_test\", \n",
    "        file = \"rmats_final.a3ss.jc.inc.txt.gz\",\n",
    "        tag  = \"rMATS.3.2.5.GTEx.V8.final_matrices\", \n",
    "        dest = destDir)\n",
    "    piggyback::pb_download(\n",
    "        show_progress = TRUE,\n",
    "        repo = \"adeslatt/sbas_test\", \n",
    "        file = \"rmats_final.a3ss.jc.inclen.txt.gz\",\n",
    "        tag  = \"rMATS.3.2.5.GTEx.V8.final_matrices\", \n",
    "        dest = destDir)\n",
    "    piggyback::pb_download(\n",
    "        show_progress = TRUE,\n",
    "        repo = \"adeslatt/sbas_test\", \n",
    "        file = \"rmats_final.a3ss.jc.skiplen.txt.gz\",\n",
    "        tag  = \"rMATS.3.2.5.GTEx.V8.final_matrices\", \n",
    "        dest = destDir)\n",
    "     # A5SS\n",
    "    piggyback::pb_download(\n",
    "        show_progress = TRUE,\n",
    "        repo = \"adeslatt/sbas_test\", \n",
    "        file = \"rmats_final.a5ss.jc.ijc.txt.gz\",\n",
    "        tag  = \"rMATS.3.2.5.GTEx.V8.final_matrices\", \n",
    "        dest = destDir)\n",
    "    piggyback::pb_download(\n",
    "        show_progress = TRUE,\n",
    "        repo = \"adeslatt/sbas_test\", \n",
    "        file = \"rmats_final.a5ss.jc.sjc.txt.gz\",\n",
    "        tag  = \"rMATS.3.2.5.GTEx.V8.final_matrices\", \n",
    "        dest = destDir)\n",
    "    piggyback::pb_download(\n",
    "        show_progress = TRUE,\n",
    "        repo = \"adeslatt/sbas_test\", \n",
    "        file = \"rmats_final.a5ss.jc.inc.txt.gz\",\n",
    "        tag  = \"rMATS.3.2.5.GTEx.V8.final_matrices\", \n",
    "        dest = destDir)\n",
    "    piggyback::pb_download(\n",
    "        show_progress = TRUE,\n",
    "        repo = \"adeslatt/sbas_test\", \n",
    "        file = \"rmats_final.a5ss.jc.inclen.txt.gz\",\n",
    "        tag  = \"rMATS.3.2.5.GTEx.V8.final_matrices\", \n",
    "        dest = destDir)\n",
    "    piggyback::pb_download(\n",
    "        show_progress = TRUE,\n",
    "        repo = \"adeslatt/sbas_test\", \n",
    "        file = \"rmats_final.a5ss.jc.skiplen.txt.gz\",\n",
    "        tag  = \"rMATS.3.2.5.GTEx.V8.final_matrices\", \n",
    "        dest = destDir)\n",
    "   }\n",
    "   return (0)\n",
    "}"
   ]
  },
  {
   "cell_type": "markdown",
   "metadata": {},
   "source": [
    "### 1.2.2 get released rMATS GTF annotations\n",
    "\n",
    "For each splicing type, the junctions are defined, so we have 5 specific annotated splicing specific junction ID annotation files:\n",
    "fromGTF.A3SS.txt <- annotations for the alternative 3' splice site junctions\n",
    "fromGTF.A5SS.txt <- annotations for the alternative 5' splice site junctions\n",
    "fromGTF.MXE.txt <- annotations for the mutually exclusive exon junctions\n",
    "fromGTF.RI.txt <- annotations for the retained introns junctions\n",
    "fromGTF.SE.txt <- annotations for the skipped exon junctions"
   ]
  },
  {
   "cell_type": "code",
   "execution_count": 5,
   "metadata": {
    "lines_to_next_cell": 0
   },
   "outputs": [],
   "source": [
    "getReleasedGTFAnnotations <- function ( destDir ) {\n",
    "\n",
    "   if (! (file.exists(\"../data/fromGTF.tar.gz\"))) {\n",
    "       system(\"mkdir -p ../data\", intern = TRUE)\n",
    "       message(\"Fetching fromGTF.tar.gz from GitHub ..\")\n",
    "       # Download archive from GitHub release with tag \"dge\"\n",
    "       piggyback::pb_download(file = \"fromGTF.tar.gz\",\n",
    "                           dest = \"../data\",\n",
    "                           repo = \"adeslatt/sbas_gtf\",\n",
    "                           tag  = \"rMATS.3.2.5.gencode.v30\",\n",
    "                           show_progress = TRUE)\n",
    "       message(\"Done!\\n\")\n",
    "       message(\"Decompressing fromGTF.tar.gz into ../data\")\n",
    "       system(\"mkdir -p ../data && tar xvfz ../data/fromGTF.tar.gz -C ../data\", intern = TRUE)\n",
    "       message(\"Done!\\n\")\n",
    "       message(\"Decompressing fromGTF.*.txt.gz into ../data\")\n",
    "       system(\"gunzip  ../data/fromGTF*.txt.gz \", intern = TRUE)\n",
    "       message(\"Done!\\n\")\n",
    "   }\n",
    "   return (0)\n",
    "}\n"
   ]
  },
  {
   "cell_type": "markdown",
   "metadata": {},
   "source": [
    "## 1.2.3 Read in SraRunData metadata \n",
    "\n",
    "- `Sequence Read Archive (SRA)` Accession Data, `SRR` numbers, this is used to map the SRR accession numbers to the sample information (SAMPID) which will be used to obtain the phenotype information."
   ]
  },
  {
   "cell_type": "code",
   "execution_count": 6,
   "metadata": {
    "lines_to_next_cell": 0
   },
   "outputs": [],
   "source": [
    "getSraRunData <- function ( destDir ) {\n",
    "\n",
    "  if (!(\"SraRunTable.txt.gz\" %in% list.files(destDir))) {\n",
    "    piggyback::pb_download(\n",
    "        show_progress = TRUE,\n",
    "        repo = \"TheJacksonLaboratory/sbas\", \n",
    "        file = \"SraRunTable.txt.gz\",\n",
    "        tag  = \"GTExV8.v1.0\", \n",
    "        dest = destDir)\n",
    "  }\n",
    "  message(\"Loading metadata from SraRunTable.txt.gz ../data/gtex.rds ..\\n\")\n",
    "  srr_metadata <- data.table::fread(\"../data/SraRunTable.txt.gz\")\n",
    "  message(\"done!\\n\")\n",
    "  message(\"Replacing dashes with dots in sample name\")\n",
    "  srr_metadata$SAMPID <- gsub('-','\\\\.',srr_metadata$biospecimen_repository_sample_id)\n",
    "  message(\"done!\\n\")\n",
    "  return(srr_metadata)\n",
    "\n",
    "}"
   ]
  },
  {
   "cell_type": "markdown",
   "metadata": {},
   "source": [
    "### 1.2.4 Renew GTEx expression object\n",
    "\n",
    "- `Genome Tissue Expression (GTEx)` Clinical Annotation - this is the expressionSet object that has the phenotype information\n",
    "In this analysis there will be 3 expressionSet objects.  This one contains the gene Expression Count Data and phenotypes  -- this is done in two parts, pull it from yarn, and then inspect and correct."
   ]
  },
  {
   "cell_type": "code",
   "execution_count": 7,
   "metadata": {
    "lines_to_next_cell": 0
   },
   "outputs": [],
   "source": [
    "inspectAndCorrectExpressionSetObject <- function ( es ) {\n",
    "\n",
    "   message(\"\\nBEFORE: dim(exprs(es))[2]\\n\",\n",
    "        paste(dim(exprs(es))[2]), collapse=\" \")\n",
    "   message(\"\\nBEFORE: dim(pData(es))[1]\\n\",\n",
    "        paste(dim(pData(es))[1]), collapse=\" \")\n",
    "   message(\"\\nBEFORE: dimension of expressionSet\\n\",\n",
    "        paste(dim(es)[2]), collapse=\" \")\n",
    "\n",
    "   sample_names=as.vector(as.character(colnames(exprs(es))))\n",
    "   pheno_sample_names=as.vector(as.character(rownames(pData(es))))\n",
    "   \n",
    "   if (length(pheno_sample_names) > length(sample_names)) {\n",
    "      superset <- pheno_sample_names\n",
    "      subset   <- sample_names    \n",
    "   }\n",
    "   if (length(pheno_sample_names) < length(sample_names)) {\n",
    "      superset <- sample_names\n",
    "      subset   <- pheno_sample_names   \n",
    "   } \n",
    "   non_overlaps <- setdiff( superset, subset)\n",
    "   message(\"\\nThe non-overlapping IDs between pheno and count data are:\\n\", \n",
    "        paste(length(non_overlaps)), collapse = \" \")\n",
    "\n",
    "   logical_match_names=superset %in% subset\n",
    "   message(\"\\nLogical diff pheno_sample_names, expression_sample_names\\n\",\n",
    "        paste(table(logical_match_names)), collapse = \" \")\n",
    "\n",
    "   pData(es) <- pData(es)[logical_match_names==TRUE,]\n",
    "\n",
    "   message(\"\\nAFTER: dim(exprs(es))[2]\\n\",\n",
    "        paste(dim(exprs(es))[2]), collapse=\" \")\n",
    "   message(\"\\nAFTER:: dim(pData(es))[1]\\n\",\n",
    "        paste(dim(pData(es))[1]), collapse=\" \")\n",
    "   message(\"\\nAFTER:: dimension of es\\n\",\n",
    "        paste(dim(es)[2]), collapse=\" \")\n",
    "   message(\"Saving corrected gtex.rds..\\n\")\n",
    "   saveRDS(es, file=\"../data/gtex.corrected.rds\")   \n",
    "   message(\"Generating sha256sum for gtex.corrected.rds ..\\n\")    \n",
    "   message(system(\"sha256sum ../data/gtex.corrected.rds\", intern = TRUE))\n",
    "   message(\"Done!\\n\")\n",
    "\n",
    "   return(es)\n",
    "}\n"
   ]
  },
  {
   "cell_type": "code",
   "execution_count": 8,
   "metadata": {},
   "outputs": [],
   "source": [
    "renewGTExExpressionSet <- function ( destDir ) {\n",
    "  if (!(\"gtex.rds\" %in% list.files(destDir))) {\n",
    "      message(\"Downloading and loading obj with GTEx v8 with 'yarn::downloadGTExV8()'\\n\")\n",
    "      es <- yarn::downloadGTExV8(type='genes',file='../data/gtex.rds')\n",
    "      message(\"Done!\\n\")\n",
    "      message(\"Generating sha256sum for gtex.rds ..\\n\")    \n",
    "      message(system(\"sha256sum ../data/gtex.rds\", intern = TRUE))\n",
    "      message(\"Done!\\n\")\n",
    "      message(\"running inspectAndCorrectExpressionSet to generate gtex.corrected.rds\\n\")\n",
    "      es <- inspectAndCorrectExpressionSetObject (es)\n",
    "      message(\"Done!\\n\")\n",
    "      \n",
    "  } else {\n",
    "    # Load with readRDS() if gtex.rds available in data/\n",
    "      message(\"Loading obj GTEx v8 corrected rds object with readRDS from ../data/gtex.corrected.rds\\n\")   \n",
    "      es <- readRDS(file = \"../data/gtex.corrected.rds\")\n",
    "      message(\"Done!\\n\")\n",
    "      message(\"Generating sha256sum for gtex.corrected.rds ..\\n\")    \n",
    "      message(system(\"sha256sum ../data/gtex.corrected.rds\", intern = TRUE))\n",
    "      message(\"Done!\\n\")\n",
    "  }\n",
    "  return (es)\n",
    "\n",
    "}"
   ]
  },
  {
   "cell_type": "markdown",
   "metadata": {},
   "source": [
    "### 1.2.5 get gtex.corrected.rds"
   ]
  },
  {
   "cell_type": "code",
   "execution_count": 9,
   "metadata": {},
   "outputs": [],
   "source": [
    "getGTExCorrectedRDS <- function ( destDir ) {\n",
    "\n",
    "  if (!(\"gtex.corrected.rds\" %in% list.files(destDir))) {\n",
    "    piggyback::pb_download(\n",
    "        show_progress = TRUE,\n",
    "        repo = \"TheJacksonLaboratory/sbas\", \n",
    "        file = \"gtex.corrected.rds\",\n",
    "        tag  = \"GTExV8.v1.0\", \n",
    "        dest = destDir)\n",
    "  }\n",
    "  message(\"Loading gtex.corrected.rds ..\\n\")\n",
    "  es <- readRDS(file = \"../data/gtex.corrected.rds\")\n",
    "  message(\"done!\\n\")\n",
    "  return(es)\n",
    "\n",
    "}"
   ]
  },
  {
   "cell_type": "markdown",
   "metadata": {},
   "source": [
    "### 1.2.6 get reduced Tissue Data\n",
    "\n",
    "Stored in the assets subdirectory, reduced by inspection and selection focusing on those tissues with sufficient samples."
   ]
  },
  {
   "cell_type": "code",
   "execution_count": 10,
   "metadata": {
    "lines_to_next_cell": 0
   },
   "outputs": [],
   "source": [
    "getTissueReduction <- function ( filename ) {\n",
    "\n",
    "    tissue_reduction <- read.table(filename, header=TRUE, sep=\"\\t\",\n",
    "                               skipNul=FALSE, stringsAsFactors = FALSE)\n",
    "    colnames(tissue_reduction)  <- c(\"SMTSD\",\"female\",\"male\",\"include\",\"display_name\")\n",
    "\n",
    "    return(tissue_reduction)\n",
    "}"
   ]
  },
  {
   "cell_type": "markdown",
   "metadata": {
    "lines_to_next_cell": 0
   },
   "source": [
    "### 1.2.7 make phenotype data matrix portion of ExpressionSet (makePData)\n",
    "\n",
    "Matching SraRunTable, Sequence Read Archive Sequence Run accession number, SRR to the sample, SAMPID, that will be used to match the SRR to the samples phenotype information to make the phenotype data portion of the expressionSet object.\n",
    "\n",
    "counts data supplies the SRR through the column\n",
    "Metadata from the SraRunTable.txt file matches the SRR to the SAMPID\n",
    "Phenotype data retrieved from the GTEx gene ExpressionSet data object for that SAMPID\n",
    "\n",
    "SRR -> SAMPID -> Phenotype Data\n",
    "\n",
    "This routine takes a while to run, could be improved by changing it to a lapply function.\n",
    "Luckily, this needs only to be run once for all 10 matrices since the ijc, sjc counts were done on the same samples and defined alternative splicing events."
   ]
  },
  {
   "cell_type": "code",
   "execution_count": 11,
   "metadata": {},
   "outputs": [],
   "source": [
    "makePData <- function (counts_srr, gtexPhenoDataObj, srr_metadata) {\n",
    "    started = FALSE\n",
    "    srr_missing = FALSE\n",
    "    pd_missing = FALSE\n",
    "    for (i in 1:length(counts_srr)) {\n",
    "        #\n",
    "        # SraRunTable connects SRR to SAMPID\n",
    "        #\n",
    "        srr_metadata_match <- as.character(srr_metadata$Run) %in% as.character(counts_srr[i])\n",
    "        if (sum(srr_metadata_match) < 1){\n",
    "            srr_metadata_missing <- as.character(srr_metadata$Run) \n",
    "            message(\"no match srr_metadata$Run! ERROR!\")\n",
    "            if (!srr_missing) {\n",
    "                srr_metadata_missing_list <- srr_metadata_missing\n",
    "                srr_missing = TRUE\n",
    "            } else {\n",
    "                srr_metadata_missing_list <- rbind(srr_metadata_missing_list, srr_metadata_missing)\n",
    "            }\n",
    "        } else {\n",
    "            srr_metadata_sampid <- srr_metadata[srr_metadata_match==TRUE,]$SAMPID\n",
    "#            message(\"\\nsrr_metadata_sampid\\n\",\n",
    "#               paste(srr_metadata_sampid), collapse=\" \")\n",
    "            #\n",
    "            # SAMPID is used to match SRR to Phenotype Data for GTEx\n",
    "            #\n",
    "            pd_sampid_match <- as.character(pData(gtexPhenoDataObj)$SAMPID) %in% as.character(srr_metadata_sampid)\n",
    "#           message(\"\\npd_sampid_match table\\n\",\n",
    "#               paste(table(pd_sampid_match)), collapse=\" \")\n",
    "#           message(\"\\nsum(pd_sampid_match)\\n\",\n",
    "#               paste(sum(pd_sampid_match)), collapse = \" \")\n",
    "            if (sum(pd_sampid_match) < 1 ) {\n",
    "#               message(\"no pd_sampid match to srr_metadata_sampid!\\n\")\n",
    "                pd_sampid_missing <- as.character(srr_metadata_sampid)\n",
    "                if (!pd_missing) {\n",
    "                    pd_sampid_missing_list <- pd_sampid_missing\n",
    "                    pd_missing = TRUE\n",
    "                } else {\n",
    "                    pd_sampid_missing_list <- rbind(pd_sampid_missing_list, pd_sampid_missing)\n",
    "                }\n",
    "            }  else {\n",
    "                pd     <- pData(gtexPhenoDataObj)[pd_sampid_match,]\n",
    "                srr_metadata_srr <- srr_metadata[srr_metadata_match==TRUE,]$Run\n",
    "                pd$SRR <- srr_metadata_srr\n",
    "                if (started == TRUE) {\n",
    "                    pdfinal <- rbind(pdfinal, pd)\n",
    "                } else {\n",
    "                    pdfinal <- pd\n",
    "                    started = TRUE\n",
    "                }\n",
    "            } # end if pd_sampid_match\n",
    "        } # end if srr_metadata_match\n",
    "    }# end for loop\n",
    "\n",
    "    pdfinal_filename           <- paste0(paste0(\"../data/\", counts_name), \"pdata.csv\")\n",
    "    if (srr_missing) {\n",
    "        metadata_missing_filename  <- paste0(paste0(\"../data/\", counts_name), \"srr_metadata_missing.csv\")\n",
    "        write.csv(srr_metadata_missing_list, metadata_missing_filename , quote=FALSE, row.names=FALSE)\n",
    "    }\n",
    "    if (pd_missing) {\n",
    "        pd_sampid_missing_filename <- paste0(paste0(\"../data/\", counts_name), \"pd_sampid_missing.csv\")\n",
    "        write.csv(pd_sampid_missing_list   , pd_sampid_missing_filename, quote=FALSE, row.names=FALSE)\n",
    "    }\n",
    "    write.csv(pdfinal                  , pdfinal_filename          , quote=FALSE, row.names=FALSE)\n",
    "    return(pdfinal)\n",
    "}"
   ]
  },
  {
   "cell_type": "markdown",
   "metadata": {},
   "source": [
    "### 1.2.8 get GTEx phenotype data for the SRR accessions\n",
    "Transitive closure permits the association of the sequence reads, SRR Accessions, through the SraRunTable.txt (obtained from selecting annotation from the dbGaP login) with the SAMPID used with the GTEx.  This SAMPID is the means by which we can get this phenotype data and associate it with the counts data.\n",
    "\n",
    "If the data has not yet been retrieved, we can pull it from the release, using piggyback.   Input to this function can be any one of the 10 count matrices, since all were produced on the same samples"
   ]
  },
  {
   "cell_type": "code",
   "execution_count": 12,
   "metadata": {
    "lines_to_next_cell": 0
   },
   "outputs": [],
   "source": [
    "getGTExPhenoDataForSRR <- function (destDir) {\n",
    "    if (!(\"srr_pdata.csv\" %in% list.files(destDir))) {\n",
    "        piggyback::pb_download(\n",
    "               show_progress = TRUE,\n",
    "               repo = \"TheJacksonLaboratory/sbas\", \n",
    "               file = \"srr_pdata.csv\",\n",
    "               tag  = \"GTExV8.v1.0\", \n",
    "               dest = destDir)\n",
    "        message(\"Loading srr_pdata\\n\")\n",
    "        srr_pdata <- readr::read_csv(\"../data/srr_pdata.csv\")\n",
    "        message(\"done!\\n\")\n",
    "    } else {\n",
    "        message(\"Loading srr_pdata\\n\")\n",
    "        srr_pdata <- readr::read_csv(\"../data/srr_pdata.csv\")\n",
    "        message(\"done!\\n\")\n",
    "    }\n",
    "    return(srr_pdata)\n",
    "}"
   ]
  },
  {
   "cell_type": "markdown",
   "metadata": {},
   "source": [
    "### 1.2.9 makeCountsMatrix \n",
    "\n",
    "Given the counts filename, make a data matrix."
   ]
  },
  {
   "cell_type": "code",
   "execution_count": 13,
   "metadata": {},
   "outputs": [],
   "source": [
    "makeCountsMatrix <- function (filename_gz) {\n",
    "    message(\"\\nloading \", paste(filename_gz), collapse=\" \")\n",
    "    counts <- data.table::fread(filename_gz)\n",
    "    message(\"done!\")\n",
    "    rownames(counts) <- counts$ID\n",
    "    counts <- counts[,-1]\n",
    "    counts <- data.matrix(counts)\n",
    "    return(counts)\n",
    "}"
   ]
  },
  {
   "cell_type": "markdown",
   "metadata": {},
   "source": [
    "\n",
    "### 1.2.10 makeSplicingExpressionSetObject \n",
    "\n",
    "Given the phenotype data object for each of the count matrices, create an expressionSet object for each to facilitate analysis."
   ]
  },
  {
   "cell_type": "code",
   "execution_count": 14,
   "metadata": {},
   "outputs": [],
   "source": [
    "makeSplicingExpressionSetObject <- function (srr_pdata, counts) {\n",
    "    message(\"making splicing expressionSet object\")\n",
    "    #\n",
    "    # match srr counts with srr_pdata - there were some srr without phenodata\n",
    "    #\n",
    "    pdata_match <- as.character(colnames(counts)) %in% as.character(srr_pdata$'SRR')\n",
    "    \n",
    "    counts <- counts[,pdata_match]\n",
    "\n",
    "    #\n",
    "    # reorder the srr_pdata to match the colnames of the counts\n",
    "    #\n",
    "    reorder_idx <- match(as.character(colnames(counts)), as.character(srr_pdata$'SRR'))\n",
    "    srr_pdata   <- srr_pdata[reorder_idx,]\n",
    "\n",
    "    #\n",
    "    # make the srr_pdata an AnnotatedDataFrame\n",
    "    #\n",
    "    metadata <- data.frame(labelDescriptions=as.character(colnames(srr_pdata)))\n",
    "    phenoData <- new(\"AnnotatedDataFrame\", data = srr_pdata, varMetadata=metadata)\n",
    "\n",
    "    #\n",
    "    # make the counts an expressionSet\n",
    "    # and provide the phenoData (the annotatedDataFrame construct from above)\n",
    "    #\n",
    "    es <- ExpressionSet(as.matrix(counts))\n",
    "    phenoData(es) <- phenoData\n",
    "    \n",
    "    message(\"made new expressionSet object\\n\",\n",
    "           paste(dim(es)), collapse = \" \")\n",
    "    message(\"dim pData(es)\\n\",\n",
    "           paste(dim(pData(es))), collapse = \" \")\n",
    "    message(\"dim exprs(es)\\n\",\n",
    "           paste(dim(exprs(es))), collapse = \" \")\n",
    "    message(\"done!\\n\")\n",
    "    \n",
    "    return(es)\n",
    "}"
   ]
  },
  {
   "cell_type": "markdown",
   "metadata": {},
   "source": [
    "### 1.2.11 getDGEResults \n",
    "\n",
    "Using the output of the differentialGeneExpression analysis, we will screen those genes differentially expressed prior to performing the linear regression."
   ]
  },
  {
   "cell_type": "code",
   "execution_count": 62,
   "metadata": {},
   "outputs": [],
   "source": [
    "getDGEResults <- function ( destDir ) {\n",
    "\n",
    "   if (! (file.exists(\"../data/DGE_gene_csv.tar.gz\"))) {\n",
    "       system(\"mkdir -p ../data\", intern = TRUE)\n",
    "       message(\"Fetching DGE_gene_csv.tar.gz from GitHub ..\")\n",
    "       # Download archive from GitHub release \n",
    "       piggyback::pb_download(file = \"DGE_gene_csv.tar.gz\",\n",
    "                           dest = \"../data\",\n",
    "                           repo = \"TheJacksonLaboratory/sbas\",\n",
    "                           tag  = \"GTExV8.DGE.v1.1\",\n",
    "                           show_progress = TRUE)\n",
    "       message(\"Done!\\n\")\n",
    "       message(\"Decompressing DGE_gene_csv.tar.gz into ../data\")\n",
    "       system(\"mkdir -p ../data && tar xvfz ../data/DGE_gene_csv.tar.gz -C ../data\", intern = TRUE)\n",
    "       message(\"Done!\\n\")\n",
    "       message(\"Decompressing DGE_gene_csv.tar.gz into ../data\")\n",
    "       system(\"gunzip  ../data/DGE_gene_csv.tar.gz\", intern = TRUE)\n",
    "       message(\"Done!\\n\")\n",
    "   }\n",
    "   return (0)\n",
    "}\n"
   ]
  },
  {
   "cell_type": "markdown",
   "metadata": {},
   "source": [
    "## 1.3 Preprocessing \n"
   ]
  },
  {
   "cell_type": "markdown",
   "metadata": {},
   "source": [
    "### 1.3.1  Reduce Sample Set \n",
    "Read in all requirements so that the stage is properly set -- tissues.tsv contains the subset of files desired for analysis.\n",
    "It is found in the `assets` subdirectory"
   ]
  },
  {
   "cell_type": "code",
   "execution_count": 43,
   "metadata": {
    "lines_to_next_cell": 0
   },
   "outputs": [],
   "source": [
    "reduceSampleSet <- function (tissue_reduction, es) {\n",
    "\n",
    "    message(\"\\nsize tissue_reduction\\n\",\n",
    "        paste(dim(tissue_reduction), collapse=\" \"))\n",
    "   message(\"\\nsize es\\n\",\n",
    "        paste(dim(es)), collapse=\" \")\n",
    "   message(\"\\nsize pData(es)\\n\",\n",
    "        paste(dim(pData(es)), collapse=\" \"))\n",
    "   # only include those tissues we wish to continue with\n",
    "   message(\"\\n number of tissue types to keep\\n\",\n",
    "        paste(table(tissue_reduction$include)), collapse = \" \")\n",
    "   tissue_reduction <- tissue_reduction[tissue_reduction$include==1,]\n",
    "\n",
    "   # create a matching tissue name to go with the expressionSet phenotype esect\n",
    "   pData(es)$SMTSD        <- factor(snakecase::to_snake_case(as.character(pData(es)$SMTSD)))\n",
    "   tissue_reduction$SMTSD <- factor(snakecase::to_snake_case(as.character(tissue_reduction$SMTSD)))\n",
    "\n",
    "   message(\"\\nlength tissues in phenotype data\\n\",\n",
    "        paste(length(levels(pData(es)$SMTSD)), collapse = \" \"))\n",
    "   message(\"\\nlength tissues in tissue_reduction data\\n\",\n",
    "        paste(length(tissue_reduction$SMTSD), collapse = \" \"))\n",
    "\n",
    "   keep <- pData(es)$SMTSD %in% tissue_reduction$SMTSD\n",
    "   message(\"\\nhow many to keep in phenotype data\\n\",\n",
    "        paste(table(keep), collapse = \" \"))\n",
    "\n",
    "   es        <- es       [          ,keep==TRUE]\n",
    "   pData(es)$SMTSD <- factor(pData(es)$SMTSD)\n",
    "   message(\"\\nsize reduced es\\n\",\n",
    "        paste(dim(es)), collapse=\" \")\n",
    "   message(\"\\nsize pData(es)\\n\",\n",
    "        paste(dim(pData(es)), collapse=\" \"))\n",
    "   message(\"\\nsize exprs(es)\\n\",\n",
    "        paste(dim(exprs(es)), collapse = \" \"))\n",
    "\n",
    "   # test to make sure we don't have nonsense\n",
    "   keep = pData(es)$SMTSD== \"breast_mammary_tissue\"\n",
    "   message(\"\\nTEST: how many to keep in to have only breast_mammary_tissue\\n\",\n",
    "        paste(table(keep), collapse = \" \"))\n",
    "   tes        = es       [          ,keep==TRUE]\n",
    "   pData(tes) = pData(es)[keep==TRUE,          ]\n",
    "   message(\"\\nTEST: size breast_mammary_tissue tes\\n\",\n",
    "        paste(dim(tes), collapse=\" \"))\n",
    "   message(\"\\nTEST: size phenotype object pData(tes)\\n\",\n",
    "        paste(dim(pData(tes)), collapse=\" \"))\n",
    "   # end test\n",
    "   return (es)\n",
    "}"
   ]
  },
  {
   "cell_type": "markdown",
   "metadata": {},
   "source": [
    "### 1.3.2 Eliminate ChrY fromGTF\n",
    "\n",
    "We are studying the sex-biased differences, to do this we need to eliminate chromosome Y, this is not shared between the sexes"
   ]
  },
  {
   "cell_type": "code",
   "execution_count": 66,
   "metadata": {
    "lines_to_next_cell": 0
   },
   "outputs": [],
   "source": [
    "eliminateChrYfromGTF <- function ( fromGTF ) {\n",
    "\n",
    "   fromGTF.keepAllButChrY <- (fromGTF$chr != \"chrY\")\n",
    "   fromGTF           <- fromGTF[fromGTF.keepAllButChrY,]\n",
    "   rownames(fromGTF) <- fromGTF$ID\n",
    "   return(fromGTF)\n",
    "}"
   ]
  },
  {
   "cell_type": "markdown",
   "metadata": {},
   "source": [
    "### 1.3.3 Eliminate ChrY from expressionSet Object\n",
    "\n",
    "We are studying the sex-biased differences, to do this we need to eliminate chromosome Y, this is not shared between the sexes\n",
    "This time from the expressionSet Object"
   ]
  },
  {
   "cell_type": "code",
   "execution_count": 57,
   "metadata": {},
   "outputs": [],
   "source": [
    "eliminateChrYfromExpressionSet <- function ( fromGTF, es ) {\n",
    "\n",
    "    es_row_ids <- rownames(es)\n",
    "    gtf_ids <- fromGTF$ID\n",
    "    keep <- es_row_ids %in% gtf_ids\n",
    "   \n",
    "    es   <- es[keep == TRUE, ]\n",
    "    message(\"remade the expressionSet object\\n\",\n",
    "           paste(dim(es)), collapse = \" \")\n",
    "    message(\"dim pData(es)\\n\",\n",
    "           paste(dim(pData(es))), collapse = \" \")\n",
    "    message(\"dim exprs(es)\\n\",\n",
    "           paste(dim(exprs(es))), collapse = \" \")\n",
    "    message(\"done!\\n\")\n",
    "\n",
    "    return(es)\n",
    "}"
   ]
  },
  {
   "cell_type": "markdown",
   "metadata": {},
   "source": [
    "### 1.3.4 Remove DGE genes from expressionSet Obj\n",
    "\n",
    "DGE are removed prior to the construction of the linear model.  It is assumed that the DGE files were obtained from the release.  Using these results, we will remove the junction rows corresponding to those genes."
   ]
  },
  {
   "cell_type": "code",
   "execution_count": 75,
   "metadata": {},
   "outputs": [],
   "source": [
    "removeDGEGenes <- function ( tissue_of_interest, fromGTF, es ) {\n",
    "\n",
    "    #\n",
    "    # read in the DGE refined list to get the differentially expressed genes for this tissue\n",
    "    #\n",
    "    filename <- paste0(paste0(\"../data/\",tissue_of_interest), \"_DGE_ensg_map.csv\")\n",
    "    dge_list <- readr::read_csv(filename)\n",
    "    gtf_id_match <- as.character(fromGTF$geneSymbol) %in% as.character(dge_list$ensg_genes)\n",
    "    message(\"\\n DGEs in tissue of interest remove this many\", \n",
    "           paste(table(gtf_id_match)), collapse=\" \")    \n",
    "    #\n",
    "    # we want to keep all that do not match\n",
    "    #\n",
    "    gtf_ids <- fromGTF$ID[!gtf_id_match]\n",
    "    es_row_ids <- rownames(es)\n",
    "    keep <- es_row_ids %in% gtf_ids\n",
    "   \n",
    "    es   <- es[keep == TRUE, ]\n",
    "    message(\"remade the expressionSet object\\n\",\n",
    "           paste(dim(es)), collapse = \" \")\n",
    "    message(\"dim pData(es)\\n\",\n",
    "           paste(dim(pData(es))), collapse = \" \")\n",
    "    message(\"dim exprs(es)\\n\",\n",
    "           paste(dim(exprs(es))), collapse = \" \")\n",
    "    message(\"done!\\n\")\n",
    "\n",
    "    return(es)\n",
    "}"
   ]
  },
  {
   "cell_type": "markdown",
   "metadata": {},
   "source": [
    "## Exploratory and Differential analysis as_event:ijc, sjc \n",
    "\n",
    "Differential Analysis (DE) was performed using voom (Law et.al., 2014) to transform junction counts (reads that were aligned to junctions when an exon is included - ijc, and reads that were aligned to junctions when the exon is excluded - sjc) with associated precision weights, followed by linear modeling and empirical Bayes procedure using limma.    In each tissue, the following linear regression model was used to detec secually dimorphic alternative splicing event expression: \n",
    "\n",
    "           y = B0 + B1 sex + epsilon (error)\n",
    "           \n",
    "\n",
    "where y is the included exon junction count expression; sex denotes the reported sex of the subject\n",
    "\n",
    "## Differential analysis as_event (combined ijc and sjc)\n",
    "\n",
    "Differential Analysis (DE) was performed using voom (Law et.al., 2014) to transform junction counts (reads that were aligned to junctions when an exon is included - ijc, and reads that were aligned to junctions when the exon is excluded - sjc) with associated precision weights, followed by linear modeling and empirical Bayes procedure using limma.    In each tissue, the following linear regression model was used to detec secually dimorphic alternative splicing event expression: \n",
    "\n",
    "           y = B0 + B1 sex + B2 as_event + B3 sex*as_event + epsilon (error)\n",
    "           \n",
    "\n",
    "where y is the alternative splicing event expression; sex denotes the reported sex of the subject, as_event represents the specific alternative splicing event - either included exon junction counts or skipped exon junction counts and their interaction terms.   Donor is added to our model as a blocking variable used in both the calculation of duplicate correlation as well as in the linear fit.\n",
    "\n",
    "### Voom, limma's lmFit and eBayes\n",
    "\n",
    "Using sample as a blocking variable, we are able to model the effects of the donor on the results, which improves the power.  This topic is discussed in biostars https://www.biostars.org/p/54565/.  And Gordon Smyth answers the question here https://mailman.stat.ethz.ch/pipermail/bioconductor/2014-February/057887.html.  The method of modeling is a random effects approach in which the intra-donor correlation is incorporated into the covariance matrix instead of the linear predictor.   And though as Gordon Smyth states both are good method and the twoway anova approach makes fewer assumptions, the random effects approach is statistically more powerful.  \n",
    "\n",
    "We have a balanced design in which all donors receive all stimuli (which is really in healthy human donors, life and all of its factors!) Our measurement has so many points -- we are measuring in the skipped exon approach, 42,611 junctions!   It is not possible to encorporate those measurements into the linear predictor.  A two-way ANOVA approach is virtually as powerful as the random effects approach \n",
    "and hence is preferable as it makes fewer assumptions.\n",
    "\n",
    "For an unbalanced design in which each donor receives only a subset of the stimula, the random effects approach is more powerful.\n",
    "\n",
    "Random effects approach is equivalent to The first method is twoway anova, a generalization of a paired analysis.\n",
    "\n",
    "The ijc and sjc are expressionSet objects:\n",
    " counts are obtained from exprs(ijc) and exprs(sjc)\n",
    " \n",
    " operations at the main object level will ripple to the phenotype and expression set information.\n",
    " so filtering occurs on the expressionSet object ijc and sjc"
   ]
  },
  {
   "cell_type": "code",
   "execution_count": 95,
   "metadata": {},
   "outputs": [],
   "source": [
    "print_exploratory_plots <- function (plot, dup, tissue_of_interest, splice_type, fromGTF, tissue_list, ijc, sjc) {\n",
    "\n",
    "    fromGTF           <- fromGTF\n",
    "    tissue_true       <- tissue_list == tissue_of_interest\n",
    "\n",
    "    message(\"\\nLimiting phenotype data to tissue of interest\\n\",\n",
    "           paste(tissue_of_interest),collapse=\" \")    \n",
    "    keep = pData(ijc)$SMTSD== tissue_of_interest\n",
    "    message(\"\\nkeep\\n\",\n",
    "           paste(table(keep)),collapse=\" \")\n",
    "    ijc <- ijc[,keep==TRUE]\n",
    "    sjc <- sjc[,keep==TRUE]\n",
    "\n",
    "    message(\"\\ndimensions of the ijc_tissue \\n\", \n",
    "        paste(  dim(ijc), collapse = \" \") )\n",
    "    message(\"\\ndimensions of the sjc_tissue \\n\", \n",
    "        paste(  dim(sjc), collapse = \" \") )\n",
    "\n",
    "    #\n",
    "    # ensure the matrices do not have too many zeros\n",
    "    #\n",
    "    ijc.rs <- rowSums(exprs(ijc)) \n",
    "    keep.ijc.rs <- (ijc.rs > 10)\n",
    "    sjc.rs <- rowSums(exprs(sjc)) \n",
    "    keep.sjc.rs <- (sjc.rs > 10)\n",
    "    keep <- keep.ijc.rs | keep.sjc.rs\n",
    "    message(\"\\nijc.rs > 10 \\n\", \n",
    "        paste(table(keep.ijc.rs), collapse = \" \") )                    \n",
    "    message(\"\\nsjc.rs > 10 \\n\", \n",
    "        paste(table(keep.sjc.rs), collapse = \" \") )\n",
    "    message(\"\\nkeep combined ijc | sjc \\n\", \n",
    "        paste(table(keep), collapse = \" \") )                    \n",
    "    \n",
    "    ijc <- ijc[keep==TRUE,]\n",
    "    sjc <- sjc[keep==TRUE,]\n",
    "    message(\"\\ndim(ijc)\\n\", \n",
    "        paste(dim(ijc), collapse = \" \") )                    \n",
    "    message(\"\\ndim(sjc)\\n\", \n",
    "        paste(dim(sjc), collapse = \" \") )\n",
    "    \n",
    "    message(\"\\nsex samples:\\n\",\n",
    "        paste(table(pData(ijc)$SEX)), collapse=\"\\n\")\n",
    "\n",
    "    design    <- model.matrix ( ~ pData(ijc)$SEX)\n",
    "    message(\"\\ndesign matrix ijc, alone:\\n\",\n",
    "        paste0(head(design), collapse=\"\\n\"))\n",
    "\n",
    "    colnames(design) <- c(\"intercept\",\"sex\")\n",
    "\n",
    "    y_ijc <- DGEList(counts=exprs(ijc), group = pData(ijc)$SEX)\n",
    "    y_ijc <- calcNormFactors(y_ijc, method=\"RLE\")\n",
    "    y_ijc_voom <- voom (y_ijc, design=design, plot=plot)\n",
    "\n",
    "    Gender <- ifelse(pData(ijc)$SEX==1,\"m\",\"f\")\n",
    "    pdf_sub_directory = '../pdf/'\n",
    "    csv_sub_directory = '../data/'\n",
    "    \n",
    "    filename <- paste0(paste0(paste0(pdf_sub_directory, splice_type),\n",
    "                                     snakecase::to_snake_case(tissue_of_interest)),\"-ijc-MDSplot-100.pdf\")\n",
    "    pdf (filename)\n",
    "        plotMDS(y_ijc, labels=Gender, top=100, col=ifelse(Gender==\"m\",\"blue\",\"red\"), \n",
    "                gene.selection=\"common\")\n",
    "    dev.off()\n",
    "    filename <- paste0(paste0(paste0(pdf_sub_directory, splice_type),\n",
    "                                     snakecase::to_snake_case(tissue_of_interest)),\"-ijc-voom-MDSplot-100.pdf\")\n",
    "    pdf (filename)    \n",
    "        plotMDS(y_ijc_voom, labels=Gender, top=100, col=ifelse(Gender==\"m\",\"blue\",\"red\"), \n",
    "                gene.selection=\"common\")\n",
    "    dev.off()\n",
    " \n",
    "    fit_ijc <- lmFit(y_ijc_voom, design)\n",
    "    fit_ijc <- eBayes(fit_ijc)\n",
    "\n",
    "    ijc_sex_results                    <- topTable(fit_ijc, coef='sex', number=nrow(y_ijc_voom))\n",
    "    ijc_sex_results_refined            <- ijc_sex_results$adj.P.Val <= 0.05 & abs(ijc_sex_results$logFC) >= abs(log2(1.5))\n",
    "    ijc_sex_rnResults                  <- rownames(ijc_sex_results)\n",
    "    ijc_sex_resultsAnnotations         <- fromGTF[ijc_sex_rnResults,]\n",
    "\n",
    "    ijc_sex_results_refinedAnnotations <- ijc_sex_resultsAnnotations[ijc_sex_results_refined ==TRUE,]\n",
    "    message(\"\\ndimensions of the ijc_sex_results_refined_annotations \\n\", \n",
    "        paste(dim (ijc_sex_results_refinedAnnotations), collapse = \" \") )\n",
    "\n",
    "    # geneSymbols are in the annotations \n",
    "    ijc_sex_geneSymbols               <- ijc_sex_resultsAnnotations$geneSymbol\n",
    "    ijc_sex_refined_geneSymbols       <- ijc_sex_results_refinedAnnotations$geneSymbol\n",
    "    message(\"\\nlength ijc_sex_results_refined_geneSymbols\\n\", \n",
    "        paste(length(ijc_sex_refined_geneSymbols), collapse = \" \") )\n",
    "\n",
    "    # adjust the rownames to be the geneSymbols rather than junction IDs\n",
    "    ijc_sex_results_rn         <- paste(ijc_sex_geneSymbols,       ijc_sex_rnResults, sep=\"-\")\n",
    "    rownames(ijc_sex_results)  <- ijc_sex_results_rn    \n",
    "\n",
    "    ijc_sex_filename               = paste0(paste0(paste0(csv_sub_directory, splice_type),\n",
    "                                                   snakecase::to_snake_case(tissue_of_interest)),'_DGE_ijc_sex.csv',sep='')\n",
    "    ijc_sex_refined_filename       = paste0(paste0(paste0(csv_sub_directory, splice_type),\n",
    "                                                   snakecase::to_snake_case(tissue_of_interest)),'_DGE_ijc_sex_refined.csv',sep='')\n",
    "    ijc_sex_genesFilename          = paste0(paste0(paste0(csv_sub_directory, splice_type),\n",
    "                                                   snakecase::to_snake_case(tissue_of_interest)),'_ijc_sex_universe.txt',sep='')\n",
    "    ijc_sex_refined_genesFilename  = paste0(paste0(paste0(csv_sub_directory, splice_type),\n",
    "                                                   snakecase::to_snake_case(tissue_of_interest)),'_ijc_sex_gene_set.txt',sep='')\n",
    "    write.table(ijc_sex_results, \n",
    "                file = ijc_sex_filename        , row.names = T, col.names = T, quote = F, sep = \",\")\n",
    "    write.table(ijc_sex_results [ijc_sex_results_refined      ,], \n",
    "                file = ijc_sex_refined_filename, row.names = T, col.names = T, quote = F, sep = \",\")\n",
    "    write.table(ijc_sex_geneSymbols,        \n",
    "                file = ijc_sex_genesFilename        , row.names = F, col.names = F, quote = F, sep = \",\")\n",
    "    write.table(ijc_sex_refined_geneSymbols,\n",
    "                file = ijc_sex_refined_genesFilename, row.names = F, col.names = F, quote = F, sep = \",\")\n",
    "   \n",
    "    message(\"\\nstarting sjc\\n\")\n",
    "\n",
    "    # the pData object for ijc was used for the annotation - they are the same for ijc and sjc\n",
    "    y_sjc <- DGEList(counts=exprs(sjc), group = pData(ijc)$SEX)\n",
    "    y_sjc <- calcNormFactors(y_sjc, method=\"RLE\")\n",
    "    y_sjc_voom <- voom (y_sjc, design=design, plot=plot)\n",
    "\n",
    "    Gender <- ifelse(pData(ijc)$SEX==1,\"m\",\"f\")\n",
    "    filename <- paste0(paste0(paste0(pdf_sub_directory, splice_type),\n",
    "                                     snakecase::to_snake_case(tissue_of_interest)),\"-sjc-MDSplot-100.pdf\")\n",
    "    pdf (filename)\n",
    "        plotMDS(y_sjc, labels=Gender, top=100, col=ifelse(Gender==\"m\",\"blue\",\"red\"), \n",
    "                gene.selection=\"common\")\n",
    "    dev.off()\n",
    "    filename <- paste0(paste0(paste0(pdf_sub_directory, splice_type),\n",
    "                                     snakecase::to_snake_case(tissue_of_interest)),\"-sjc-voom-MDSplot-100.pdf\")\n",
    "    pdf (filename)    \n",
    "        plotMDS(y_sjc_voom, labels=Gender, top=100, col=ifelse(Gender==\"m\",\"blue\",\"red\"), \n",
    "                gene.selection=\"common\")\n",
    "    dev.off()\n",
    " \n",
    "    fit_sjc <- lmFit(y_sjc_voom, design)\n",
    "    fit_sjc <- eBayes(fit_sjc)\n",
    "\n",
    "    sjc_sex_results                    <- topTable(fit_sjc, coef='sex', number=nrow(y_sjc_voom))\n",
    "    sjc_sex_results_refined            <- sjc_sex_results$adj.P.Val <= 0.05 & abs(sjc_sex_results$logFC) >= abs(log2(1.5))\n",
    "    sjc_sex_rnResults                  <- rownames(sjc_sex_results)\n",
    "    sjc_sex_resultsAnnotations         <- fromGTF[sjc_sex_rnResults,]\n",
    "\n",
    "    sjc_sex_results_refinedAnnotations <- sjc_sex_resultsAnnotations[sjc_sex_results_refined      ==TRUE,]\n",
    "    message(\"\\ndimensions of the sjc_sex_results_refined_annotations \\n\", \n",
    "        paste(dim (sjc_sex_results_refinedAnnotations), collapse = \" \") )\n",
    "\n",
    "    # geneSymbols are in the annotations \n",
    "    sjc_sex_geneSymbols               <- sjc_sex_resultsAnnotations$geneSymbol\n",
    "    sjc_sex_refined_geneSymbols       <- sjc_sex_results_refinedAnnotations$geneSymbol\n",
    "    message(\"\\nlength sjc_sex_results_refined_geneSymbols\\n\", \n",
    "        paste(length(sjc_sex_refined_geneSymbols), collapse = \" \") )\n",
    "\n",
    "    # adjust the rownames to be the geneSymbols rather than junction IDs\n",
    "    sjc_sex_results_rn         <- paste(sjc_sex_geneSymbols, sjc_sex_rnResults, sep=\"-\")\n",
    "    rownames(sjc_sex_results)  <- sjc_sex_results_rn    \n",
    "\n",
    "    sjc_sex_filename               = paste0(paste0(paste0(csv_sub_directory, splice_type),\n",
    "                                                   snakecase::to_snake_case(tissue_of_interest)),'_DGE_sjc_sex.csv',sep='')\n",
    "    sjc_sex_refined_filename       = paste0(paste0(paste0(csv_sub_directory, splice_type),\n",
    "                                                   snakecase::to_snake_case(tissue_of_interest)),'_DGE_sjc_sex_refined.csv',sep='')\n",
    "    sjc_sex_genesFilename          = paste0(paste0(paste0(csv_sub_directory, splice_type),\n",
    "                                                   snakecase::to_snake_case(tissue_of_interest)),'_sjc_sex_universe.txt',sep='')\n",
    "    sjc_sex_refined_genesFilename  = paste0(paste0(paste0(csv_sub_directory, splice_type),\n",
    "                                                   snakecase::to_snake_case(tissue_of_interest)),'_sjc_sex_gene_set.txt',sep='')\n",
    "    write.table(sjc_sex_results, \n",
    "                file = sjc_sex_filename        , row.names = T, col.names = T, quote = F, sep = \",\")\n",
    "    write.table(sjc_sex_results [sjc_sex_results_refined      ,], \n",
    "                file = sjc_sex_refined_filename, row.names = T, col.names = T, quote = F, sep = \",\")\n",
    "    write.table(sjc_sex_geneSymbols,        \n",
    "                file = sjc_sex_genesFilename        , row.names = F, col.names = F, quote = F, sep = \",\")\n",
    "    write.table(sjc_sex_refined_geneSymbols,\n",
    "                file = sjc_sex_refined_genesFilename, row.names = F, col.names = F, quote = F, sep = \",\")\n",
    "    \n",
    "    message(\"removing DGE Genes prior to making y linear model\")\n",
    "    ijc <- removeDGEGenes(tissue_of_interest <- tissue_of_interest, fromGTF <- fromGTF, es <- ijc)\n",
    "    sjc <- removeDGEGenes(tissue_of_interest <- tissue_of_interest, fromGTF <- fromGTF, es <- sjc)\n",
    "    \n",
    "    message(\"starting the y prediction\\n\")\n",
    "    sample_names <- as.character(pData(ijc)$SAMPID)\n",
    "    # we will add donor as a blocking parameter\n",
    "    # rather than sample name -- we should use donor for real\n",
    "    sample     <- factor(sample_names)\n",
    "    \n",
    "    donor    <- rep(sample, 2)\n",
    "    message(\"\\ndonor size\", \n",
    "        paste(length(donor)), collapse = \" \") \n",
    "\n",
    "    as_matrix <- cbind(exprs(ijc),exprs(sjc))\n",
    "    message(\"\\ndim as_matrix\", \n",
    "        paste(dim(as_matrix)), collapse = \" \")\n",
    "            \n",
    "    message(\"sex samples:\\n\",\n",
    "        paste(table(pData(ijc)$SEX)), collapse=\" \")\n",
    "    sex2      <- factor(c(rep(pData(ijc)$SEX,2)))\n",
    "    message(\"sex samples:\\n\",\n",
    "        paste(table(sex2)), collapse = \" \")\n",
    "    message(\"\\nlength sex2\\n\", \n",
    "        paste(length(sex2)), collapse = \" \") \n",
    "\n",
    "    as_event  <- c(rep(\"ijc\",dim(ijc)[2]), rep(\"sjc\", dim(sjc)[2]))\n",
    "    as_event  <- factor(as_event, levels=c(\"ijc\", \"sjc\"))\n",
    "    message(\"\\nlength as_event\\n\", \n",
    "        paste(length(as_event)), collapse = \" \")\n",
    "\n",
    "    design    <- model.matrix( ~ sex2 + as_event + sex2*as_event)\n",
    "\n",
    "    colnames(design) <- c(\"intercept\",\"sex\", \"as_event\",\"sex*as_event\")\n",
    "    message(\"\\ndim design <- model.matrix( ~sex + as_event + sex*as_event)\\n\", \n",
    "        paste(head(design), collapse = \"\\n\") )\n",
    "\n",
    "    y <- DGEList(counts=as_matrix, group = sex2)\n",
    "    y <- calcNormFactors(y, method=\"RLE\")\n",
    "    y_voom <- voom (y, design=design, plot = plot)\n",
    "\n",
    "    if (dup==TRUE) {\n",
    "        dup_cor <- duplicateCorrelation(y_voom$E, design=design, ndups=2, block=donor, weights=y$samples$norm.factors)\n",
    "        dup_cor$consensus.correlation \n",
    "        y_dup_voom <- voom (y, design=design, plot = plot, block = donor, correlation = dup_cor$consensus.correlation) \n",
    "    }\n",
    "    \n",
    "    Gender <- ifelse(pData(ijc)$SEX==1,\"m\",\"f\")\n",
    "    message(\"\\nGenders new size\\n\", \n",
    "        paste(length(Gender), collapse = \" \") )\n",
    "    message(\"\\nplotting y for ijc portion of design <- model.matrix( ~sex + as_event + sex*as_event\\n\")\n",
    "     # print the combined exploratory plot\n",
    "    filename <- paste0(paste0(paste0(pdf_sub_directory, splice_type),\n",
    "                              snakecase::to_snake_case(tissue_of_interest)),\"-y-ijc-MDSplot-100.pdf\")\n",
    "    pdf (filename)\n",
    "        plotMDS(y[,c(1:dim(ijc)[2])], labels=Gender, top=100, col=ifelse(Gender==\"m\",\"blue\",\"red\"), \n",
    "            gene.selection=\"common\")\n",
    "    dev.off()\n",
    "    message(\"\\nplotting y_voom for ijc portion of design <- model.matrix( ~sex + as_event + sex*as_event\\n\")\n",
    "    filename <- paste0(paste0(paste0(pdf_sub_directory, splice_type),\n",
    "                              snakecase::to_snake_case(tissue_of_interest)),\"-y-voom-ijc-MDSplot-100.pdf\")\n",
    "    pdf (filename)\n",
    "        plotMDS(y_voom[,c(1:dim(ijc)[2])], labels=Gender, top=100, col=ifelse(Gender==\"m\",\"blue\",\"red\"), \n",
    "            gene.selection=\"common\")\n",
    "    dev.off()\n",
    "    if (dup == TRUE) {\n",
    "        filename <- paste0(paste0(paste0(pdf_sub_directory, splice_type),\n",
    "                           snakecase::to_snake_case(tissue_of_interest)),\"-y-dup-voom-ijc-MDSplot-100.pdf\")\n",
    "        pdf (filename)\n",
    "            plotMDS(y_dup_voom[,c(1:dim(ijc)[2])], labels=Gender, top=100, col=ifelse(Gender==\"m\",\"blue\",\"red\"), \n",
    "                gene.selection=\"common\")\n",
    "        dev.off()\n",
    "    }\n",
    "    message(\"\\nplotting y for sjc portion of design <- model.matrix( ~sex + as_event + sex*as_event\\n\")\n",
    "    filename <- paste0(paste0(paste0(pdf_sub_directory, splice_type),\n",
    "                              snakecase::to_snake_case(tissue_of_interest)),\"-y-sjc-MDSplot-100.pdf\")\n",
    "    pdf (filename)\n",
    "        plotMDS(y[,c((dim(ijc)[2]+1)):(dim(ijc)[2]+dim(sjc)[2])], labels=Gender, top=100, col=ifelse(Gender==\"m\",\"blue\",\"red\"), \n",
    "            gene.selection=\"common\")\n",
    "    dev.off()\n",
    "    \n",
    "    if (dup == TRUE) {\n",
    "        message(\"\\nplotting y_voom for sjc portion of design <- model.matrix( ~sex + as_event + sex*as_event\\n\")    \n",
    "        filename <- paste0(paste0(paste0(pdf_sub_directory, splice_type),\n",
    "                              snakecase::to_snake_case(tissue_of_interest)),\"-y-voom-sjc-MDSplot-100.pdf\")\n",
    "        pdf (filename)\n",
    "            plotMDS(y_voom[,c((dim(ijc)[2]+1)):(dim(ijc)[2]+dim(sjc)[2])], labels=Gender, top=100, col=ifelse(Gender==\"m\",\"blue\",\"red\"), \n",
    "                gene.selection=\"common\")\n",
    "        dev.off()\n",
    "        filename <- paste0(paste0(paste0(pdf_sub_directory, splice_type),\n",
    "                              snakecase::to_snake_case(tissue_of_interest)),\"-y-dup-voom-sjc-MDSplot-100.pdf\")\n",
    "        pdf (filename)\n",
    "            plotMDS(y_dup_voom[,c((dim(ijc)[2]+1)):(dim(ijc)[2]+dim(sjc)[2])], labels=Gender, top=100, col=ifelse(Gender==\"m\",\"blue\",\"red\"), \n",
    "                gene.selection=\"common\")\n",
    "        dev.off()\n",
    "        \n",
    "        fit <- lmFit(y_dup_voom, design=design, block=donor, correlation = dup_cor$consensus.correlation)\n",
    "    } else {\n",
    "        fit <- lmFit(y_voom, design=design)\n",
    "    }\n",
    "        \n",
    "    fit <- eBayes(fit, robust=TRUE)\n",
    "    \n",
    "    sex_as_events_results         <- topTable(fit, coef=\"sex*as_event\", number=nrow(y_voom))\n",
    "    sex_as_events_results_refined <- sex_as_events_results$adj.P.Val <= 0.05 & abs(sex_as_events_results$logFC) >= abs(log2(1.5))\n",
    "\n",
    "    sex_results                   <- topTable(fit, coef=\"sex\", number=nrow(y_voom))\n",
    "    sex_results_refined           <- sex_results$adj.P.Val <= 0.05 & abs(sex_results$logFC) >= abs(log2(1.5))\n",
    "\n",
    "    sex_as_events_rnResults <- rownames(sex_as_events_results)\n",
    "    sex_rnResults           <- rownames(sex_results)\n",
    "    head(sex_as_events_rnResults)\n",
    "    head(ijc_sex_rnResults)\n",
    "    head(sex_rnResults)\n",
    "    head(fromGTF[sex_as_events_rnResults,])\n",
    "\n",
    "    # use the junctionIDs to get the annotations\n",
    "    sex_as_events_resultsAnnotations      <- fromGTF[sex_as_events_rnResults,]\n",
    "    sex_resultsAnnotations                <- fromGTF[sex_rnResults,]\n",
    "    ijc_sex_resultsAnnotations            <- fromGTF[ijc_sex_rnResults,]\n",
    "    head(sex_as_events_resultsAnnotations)\n",
    "    head(sex_resultsAnnotations)\n",
    "    head(ijc_sex_resultsAnnotations)\n",
    "    \n",
    "    sex_as_events_results_refinedAnnotations<- sex_as_events_resultsAnnotations[sex_as_events_results_refined==TRUE,]\n",
    "    sex_results_refinedAnnotations          <- sex_resultsAnnotations          [sex_results_refined          ==TRUE,]\n",
    "    sjc_sex_results_refinedAnnotations       <- sjc_sex_resultsAnnotations      [sjc_sex_results_refined      ==TRUE,]\n",
    "    head(sex_as_events_results_refinedAnnotations)\n",
    "    head(sex_results_refinedAnnotations)\n",
    "    head(sjc_sex_results_refinedAnnotations)\n",
    "\n",
    "    # geneSymbols are in the annotations \n",
    "    sex_as_events_geneSymbols         <- sex_as_events_resultsAnnotations$geneSymbol\n",
    "    sex_as_events_refined_geneSymbols <- sex_as_events_results_refinedAnnotations$geneSymbol\n",
    "    sex_geneSymbols                   <- sex_resultsAnnotations$geneSymbol\n",
    "    sex_refined_geneSymbols           <- sex_results_refinedAnnotations$geneSymbol\n",
    "    ijc_sex_geneSymbols               <- ijc_sex_resultsAnnotations$geneSymbol\n",
    "    ijc_sex_refined_geneSymbols       <- ijc_sex_results_refinedAnnotations$geneSymbol\n",
    "    sjc_sex_geneSymbols               <- sjc_sex_resultsAnnotations$geneSymbol\n",
    "    sjc_sex_refined_geneSymbols       <- sjc_sex_results_refinedAnnotations$geneSymbol\n",
    "\n",
    "\n",
    "    # adjust the rownames to be the geneSymbols rather than junction IDs\n",
    "    sex_as_events_results_rn   <- paste(sex_as_events_geneSymbols, sex_as_events_rnResults, sep=\"-\")\n",
    "    sex_results_rn             <- paste(sex_geneSymbols,           sex_rnResults, sep=\"-\")\n",
    "    ijc_sex_results_rn         <- paste(ijc_sex_geneSymbols,       ijc_sex_rnResults, sep=\"-\")\n",
    "    sjc_sex_results_rn         <- paste(sjc_sex_geneSymbols,       sjc_sex_rnResults, sep=\"-\")\n",
    "    message(\"\\n sex_as_events\\n\", \n",
    "        paste(head(sex_as_events_results_rn), collapse = \" \") )\n",
    "    message(\"\\n ijc_sex_results\\n\", \n",
    "        paste(head(ijc_sex_results_rn), collapse = \" \") )\n",
    "    message(\"\\n sjc_sex_results\\n\", \n",
    "        paste(head(sjc_sex_results_rn), collapse = \" \") )\n",
    "    rownames(sex_as_events_results) <- sex_as_events_results_rn\n",
    "    rownames(sex_results)           <- sex_results_rn\n",
    "    rownames(ijc_sex_results)       <- ijc_sex_results_rn\n",
    "    rownames(sjc_sex_results)       <- sjc_sex_results_rn\n",
    "\n",
    "    sex_as_events_filename         = paste0(paste0(paste0(csv_sub_directory, splice_type),\n",
    "                                                   snakecase::to_snake_case(tissue_of_interest)),'_DGE_sex_as_events.csv')\n",
    "    sex_as_events_refined_filename = paste0(paste0(paste0(csv_sub_directory, splice_type),\n",
    "                                                   snakecase::to_snake_case(tissue_of_interest)),'_DGE_sex_as_events_refined.csv',sep='')\n",
    "    sex_filename                   = paste0(paste0(paste0(csv_sub_directory, splice_type),\n",
    "                                                   snakecase::to_snake_case(tissue_of_interest)),'_DGE_sex.csv',sep='')\n",
    "    sex_refined_filename           = paste0(paste0(paste0(csv_sub_directory, splice_type),\n",
    "                                                   snakecase::to_snake_case(tissue_of_interest)),'_DGE_sex_refined.csv',sep='')\n",
    "    sex_as_events_genesFilename    = paste0(paste0(paste0(csv_sub_directory, splice_type),\n",
    "                                                   snakecase::to_snake_case(tissue_of_interest)),'_sex_as_events_universe.txt',sep='')\n",
    "    sex_as_events_refined_genesFilename = paste0(paste0(paste0(csv_sub_directory, splice_type),\n",
    "                                                   snakecase::to_snake_case(tissue_of_interest)),'_sex_as_events_gene_set.txt',sep='')\n",
    "    sex_genesFilename              = paste0(paste0(paste0(csv_sub_directory, splice_type),\n",
    "                                                   snakecase::to_snake_case(tissue_of_interest)),'_sex_universe.txt',sep='')\n",
    "    sex_refined_genesFilename      = paste0(paste0(paste0(csv_sub_directory, splice_type),\n",
    "                                                   snakecase::to_snake_case(tissue_of_interest)),'_sex_gene_set.txt',sep='')\n",
    "\n",
    "    write.table(sex_as_events_results, file = sex_as_events_filename, \n",
    "                row.names = T, col.names = T, quote = F, sep = \",\")\n",
    "    write.table(sex_as_events_results[sex_as_events_results_refined,], \n",
    "                file = sex_as_events_refined_filename, row.names = T, col.names = T, quote = F, sep = \",\")\n",
    "    write.table(sex_results,           file = sex_filename          , \n",
    "                row.names = T, col.names = T, quote = F, sep = \",\")\n",
    "    write.table(sex_results [sex_results_refined          ,], file = sex_refined_filename, \n",
    "                row.names = T, col.names = T, quote = F, sep = \",\")\n",
    "    write.table(sex_as_events_geneSymbols, file = sex_as_events_genesFilename, \n",
    "                row.names = F, col.names = F, quote = F, sep = \",\")\n",
    "    write.table(sex_as_events_refined_geneSymbols,file = sex_as_events_refined_genesFilename, \n",
    "                row.names = F, col.names = F, quote = F, sep = \",\")\n",
    "    write.table(sex_geneSymbols,           file = sex_genesFilename          , \n",
    "                row.names = F, col.names = F, quote = F, sep = \",\")\n",
    "    write.table(sex_refined_geneSymbols,          file = sex_refined_genesFilename          , \n",
    "                row.names = F, col.names = F, quote = F, sep = \",\")\n",
    "\n",
    "    return(0)\n",
    "}"
   ]
  },
  {
   "cell_type": "markdown",
   "metadata": {
    "lines_to_next_cell": 0
   },
   "source": [
    "## Execution of All Tissues and All Splicing Variants\n",
    "\n",
    "Additional values set to enable this notebook to be executed as a nextflow workflow or to run in place with appropriate settings.\n",
    "\n",
    "### parameters Setting\n",
    "\n",
    "1. Setting `dup=TRUE` causes lengthy execution times.\n",
    "\n",
    "2. Setting `plot=TRUE` can overwhelm the saving capacity within a jupyter-lab notebook - \n",
    "   this sets to print all the voom plots.\n",
    "   \n",
    "3. Adjusting `splice_type` will allow you to play with a variety of results\n",
    "\n",
    "   a. all splice types desired to be run:\n",
    "    \n",
    "    `splice_list       = c(\"a3ss_\",\"a5ss_\",\"mxe_\",\"ri_\",\"se_\")`\n",
    "    \n",
    "   b. a subset (leaving out say `splice_type = \"se_\"` since it is the largest, for example)\n",
    "    \n",
    "    `splice_list       = c(\"a3ss_\",\"a5ss_\",\"mxe_\",\"ri_\")`\n",
    "    \n"
   ]
  },
  {
   "cell_type": "code",
   "execution_count": 19,
   "metadata": {},
   "outputs": [
    {
     "data": {
      "text/html": [
       "0"
      ],
      "text/latex": [
       "0"
      ],
      "text/markdown": [
       "0"
      ],
      "text/plain": [
       "[1] 0"
      ]
     },
     "metadata": {},
     "output_type": "display_data"
    }
   ],
   "source": [
    "#\n",
    "# Main routine\n",
    "#\n",
    "# 1.2.1 get the released rmats matrices (rows junction ids, columns accessions (SRR)\n",
    "# \n",
    "getReleasedRMATSData (destDir <- \"../data/\")"
   ]
  },
  {
   "cell_type": "code",
   "execution_count": 20,
   "metadata": {
    "lines_to_next_cell": 0
   },
   "outputs": [
    {
     "data": {
      "text/html": [
       "0"
      ],
      "text/latex": [
       "0"
      ],
      "text/markdown": [
       "0"
      ],
      "text/plain": [
       "[1] 0"
      ]
     },
     "metadata": {},
     "output_type": "display_data"
    }
   ],
   "source": [
    "#\n",
    "# 1.2.2 get the rmats 3.2.5 discovered/annoated junction information in GTF format\n",
    "#\n",
    "getReleasedGTFAnnotations (destDir <- \"../data\")"
   ]
  },
  {
   "cell_type": "code",
   "execution_count": 21,
   "metadata": {
    "lines_to_next_cell": 0
   },
   "outputs": [
    {
     "name": "stderr",
     "output_type": "stream",
     "text": [
      "Loading metadata from SraRunTable.txt.gz ../data/gtex.rds ..\n",
      "\n",
      "done!\n",
      "\n",
      "Replacing dashes with dots in sample name\n",
      "done!\n",
      "\n"
     ]
    }
   ],
   "source": [
    "#\n",
    "# 1.2.3 get SRR Accession Metadata (available through dbGaP)\n",
    "#\n",
    "srr_metadata <- getSraRunData (destDir <- \"../data/\")"
   ]
  },
  {
   "cell_type": "code",
   "execution_count": 22,
   "metadata": {
    "lines_to_next_cell": 0
   },
   "outputs": [],
   "source": [
    "#\n",
    "# 1.2.4 Renew GTEx expression object\n",
    "# OPTIONAL and TIME CONSUMINGrenewGTExPhenoDataObj - set this to FALSE by default\n",
    "#\n",
    "renewGTExPhenoDataObj=FALSE\n",
    "if (renewGTExPhenoDataObj) {\n",
    "  gtexPhenoObj <- renewGTExExpressionSet(destDir <- \"../data/\")\n",
    "} "
   ]
  },
  {
   "cell_type": "code",
   "execution_count": 23,
   "metadata": {
    "lines_to_next_cell": 0
   },
   "outputs": [
    {
     "name": "stderr",
     "output_type": "stream",
     "text": [
      "Loading gtex.corrected.rds ..\n",
      "\n",
      "done!\n",
      "\n"
     ]
    }
   ],
   "source": [
    "#\n",
    "# 1.2.5 get corrected GTEx expression Set Data\n",
    "# Released in previous runs the corrected GTEx expression Set Object, grab from the release\n",
    "#\n",
    "if (!renewGTExPhenoDataObj) {\n",
    "   gtexPhenoDataObj <- getGTExCorrectedRDS (destDir <- \"../data/\")\n",
    "}"
   ]
  },
  {
   "cell_type": "code",
   "execution_count": 24,
   "metadata": {
    "lines_to_next_cell": 0
   },
   "outputs": [],
   "source": [
    "#\n",
    "# 1.2.6 get reduced Tissue data\n",
    "#\n",
    "tissue_reduction <- getTissueReduction ( \"../assets/tissues.tsv\" )"
   ]
  },
  {
   "cell_type": "code",
   "execution_count": 25,
   "metadata": {},
   "outputs": [],
   "source": [
    "#\n",
    "# 1.2.7 make phenotype data matrix portion of ExpressionSet (makePData)\n",
    "# Any counts matrix will do...\n",
    "# OPTIONAL AND TIME CONSUMING - better to grab from release!\n",
    "#\n",
    "grabFromRelease = TRUE\n",
    "if (!grabFromRelease) {\n",
    "    filename_gz <- \"../data/rmats_final.se.jc.ijc.txt.gz\"\n",
    "    counts_srr <- makeCountsMatrix (filename_gz)\n",
    "    srr_pdata <- getGTExPhenoDataForSRR (counts_srr, gtexPhenoDataObj, srr_metadata)\n",
    "}"
   ]
  },
  {
   "cell_type": "code",
   "execution_count": 26,
   "metadata": {},
   "outputs": [
    {
     "name": "stderr",
     "output_type": "stream",
     "text": [
      "Loading srr_pdata\n",
      "\n",
      "Parsed with column specification:\n",
      "cols(\n",
      "  .default = col_double(),\n",
      "  SAMPID = \u001b[31mcol_character()\u001b[39m,\n",
      "  SMATSSCR = \u001b[31mcol_character()\u001b[39m,\n",
      "  SMCENTER = \u001b[31mcol_character()\u001b[39m,\n",
      "  SMPTHNTS = \u001b[31mcol_character()\u001b[39m,\n",
      "  SMTS = \u001b[31mcol_character()\u001b[39m,\n",
      "  SMTSD = \u001b[31mcol_character()\u001b[39m,\n",
      "  SMUBRID = \u001b[31mcol_character()\u001b[39m,\n",
      "  SMNABTCH = \u001b[31mcol_character()\u001b[39m,\n",
      "  SMNABTCHT = \u001b[31mcol_character()\u001b[39m,\n",
      "  SMNABTCHD = \u001b[31mcol_character()\u001b[39m,\n",
      "  SMGEBTCH = \u001b[31mcol_character()\u001b[39m,\n",
      "  SMGEBTCHD = \u001b[31mcol_character()\u001b[39m,\n",
      "  SMGEBTCHT = \u001b[31mcol_character()\u001b[39m,\n",
      "  SMAFRZE = \u001b[31mcol_character()\u001b[39m,\n",
      "  SMGTC = \u001b[33mcol_logical()\u001b[39m,\n",
      "  SMNUMGPS = \u001b[33mcol_logical()\u001b[39m,\n",
      "  SM550NRM = \u001b[33mcol_logical()\u001b[39m,\n",
      "  SM350NRM = \u001b[33mcol_logical()\u001b[39m,\n",
      "  SMMNCPB = \u001b[33mcol_logical()\u001b[39m,\n",
      "  SMMNCV = \u001b[33mcol_logical()\u001b[39m\n",
      "  # ... with 6 more columns\n",
      ")\n",
      "See spec(...) for full column specifications.\n",
      "done!\n",
      "\n"
     ]
    }
   ],
   "source": [
    "#\n",
    "# 1.2.8 get GTEx Phenotype Data accessions SRR from releaase\n",
    "#\n",
    "if (grabFromRelease) {\n",
    "    srr_pdata <- getGTExPhenoDataForSRR (\"../data/\")\n",
    "}"
   ]
  },
  {
   "cell_type": "code",
   "execution_count": 65,
   "metadata": {},
   "outputs": [
    {
     "name": "stderr",
     "output_type": "stream",
     "text": [
      "Fetching DGE_gene_csv.tar.gz from GitHub ..\n",
      "downloading DGE_gene_csv.tar.gz ...\n"
     ]
    },
    {
     "name": "stdout",
     "output_type": "stream",
     "text": [
      "  |======================================================================| 100%\n"
     ]
    },
    {
     "name": "stderr",
     "output_type": "stream",
     "text": [
      "Done!\n",
      "\n",
      "Decompressing DGE_gene_csv.tar.gz into ../data\n",
      "Done!\n",
      "\n",
      "Decompressing DGE_gene_csv.tar.gz into ../data\n",
      "Done!\n",
      "\n"
     ]
    },
    {
     "data": {
      "text/html": [
       "0"
      ],
      "text/latex": [
       "0"
      ],
      "text/markdown": [
       "0"
      ],
      "text/plain": [
       "[1] 0"
      ]
     },
     "metadata": {},
     "output_type": "display_data"
    }
   ],
   "source": [
    "#\n",
    "# 1.2.11 getDGEResults\n",
    "#\n",
    "getDGEResults(\"../data/\")"
   ]
  },
  {
   "cell_type": "code",
   "execution_count": 73,
   "metadata": {
    "lines_to_next_cell": 0
   },
   "outputs": [],
   "source": [
    "#\n",
    "# Now the meat of our work\n",
    "# and to reduce to a subset of entire splice_list\n",
    "# splice_list <- c(\"a3ss_\",\"a5ss_\",\"mxe_\",\"ri_\",\"se_\")\n",
    "#\n",
    "plot         <- TRUE\n",
    "dup          <- FALSE\n",
    "splice_list  <- c( \"se_\")\n",
    "tissue_list  <- factor(snakecase::to_snake_case(as.character(tissue_reduction$SMTSD)))  \n",
    "\n",
    "# parameters that change with each splice type (3)\n",
    "# 1. fromGTF\n",
    "# 2. ijc\n",
    "# 3. sjc\n",
    "# Could run this as a loop - or rather, using a package [package name]\n",
    "# run this notebook as a nextflow workflow\n",
    "# Requirements are that all required input are in a bucket data.tar.gz\n",
    "# and assets \n",
    "# for (tissue_index in 1:length(tissue_list)) {"
   ]
  },
  {
   "cell_type": "code",
   "execution_count": null,
   "metadata": {
    "lines_to_next_cell": 0
   },
   "outputs": [],
   "source": [
    "    # a3ss\n",
    "    splice_type = \"a3ss_\"\n",
    "    res = splice_list %in% splice_type\n",
    "    tissue_of_interest  = as.vector(as.character(tissue_list[tissue_index]))\n",
    "    if (sum(res) == 1) {\n",
    "        fromGTF  <- read.table(\"../data/fromGTF.A3SS.txt\", header=TRUE)\n",
    "        fromGTF  <- eliminateChrYfromGTF (fromGTF)\n",
    "        \n",
    "        ijc      <- makeSplicingExpressionSetObject(obj, srr_metadata, \"../data/rmats_final.a3ss.jc.ijc.txt.gz\")\n",
    "        ijc      <- eliminateChrYfromExpressionSet (fromGTF, obj)\n",
    "        sjc      <- makeSplicingExpressionSetObject(obj, srr_metadata, \"../data/rmats_final.a3ss.jc.sjc.txt.gz\")\n",
    "        sjc      <- eliminateChrYfromExpressionSet (fromGTF, obj)\n",
    "        print_exploratory_plots (plot, \n",
    "                             dup,\n",
    "                             tissue_of_interest, \n",
    "                             splice_type, \n",
    "                             fromGTF, \n",
    "                             tissue_list, \n",
    "                             ijc, \n",
    "                             sjc, \n",
    "                             obj, \n",
    "                             metadata )\n",
    "    }"
   ]
  },
  {
   "cell_type": "code",
   "execution_count": null,
   "metadata": {
    "lines_to_next_cell": 0
   },
   "outputs": [],
   "source": [
    "    # a5ss\n",
    "    splice_type = \"a5ss_\"\n",
    "    res = splice_list %in% splice_type\n",
    "    if (sum(res) == 1) {\n",
    "        message (\"splice_list does contain\\n\",\n",
    "             paste(splice_type), \" continuing with processing\\n\")\n",
    "        fromGTF  <- read.table(\"../data/fromGTF.A5SS.txt\", header=TRUE)\n",
    "        fromGTF  <- eliminateChrYfromGTF (fromGTF)\n",
    "        ijc      <- makeSplicingExpressionSetObject(obj, srr_metadata, \"../data/rmats_final.a5ss.jc.ijc.txt.gz\")\n",
    "        ijc      <- eliminateChrYfromExpressionSet (fromGTF, obj)\n",
    "        sjc      <- makeSplicingExpressionSetObject(obj, srr_metadata, \"../data/rmats_final.a5ss.jc.sjc.txt.gz\")\n",
    "        sjc      <- eliminateChrYfromExpressionSet (fromGTF, obj)\n",
    "        print_exploratory_plots (plot, \n",
    "                             dup,\n",
    "                             tissue_of_interest, \n",
    "                             splice_type, \n",
    "                             fromGTF, \n",
    "                             tissue_list, \n",
    "                             ijc, \n",
    "                             sjc, \n",
    "                             obj, \n",
    "                             metadata )\n",
    "    }"
   ]
  },
  {
   "cell_type": "code",
   "execution_count": null,
   "metadata": {
    "lines_to_next_cell": 0
   },
   "outputs": [],
   "source": [
    "    # mxe\n",
    "    splice_type = \"mxe_\"\n",
    "    res = splice_list %in% splice_type\n",
    "    if (sum(res) == 1) {\n",
    "        message (\"splice_list does contain\\n\",\n",
    "             paste(splice_type), \" continuing with processing\\n\")\n",
    "        fromGTF  <- read.table(\"../data/fromGTF.MXE.txt\", header=TRUE)\n",
    "        fromGTF  <- eliminateChrYfromGTF (fromGTF)\n",
    "        ijc      <- makeSplicingExpressionSetObject(obj, srr_metadata, \"../data/rmats_final.mxe.jc.ijc.txt.gz\")\n",
    "        ijc      <- eliminateChrYfromExpressionSet (fromGTF, obj)\n",
    "        sjc      <- makeSplicingExpressionSetObject(obj, srr_metadata, \"../data/rmats_final.mxe.jc.sjc.txt.gz\")\n",
    "        sjc      <- eliminateChrYfromExpressionSet (fromGTF, obj)\n",
    "        print_exploratory_plots (plot, \n",
    "                             dup,\n",
    "                             tissue_of_interest, \n",
    "                             splice_type, \n",
    "                             fromGTF, \n",
    "                             tissue_list, \n",
    "                             ijc, \n",
    "                             sjc, \n",
    "                             obj, \n",
    "                             metadata )\n",
    "    }"
   ]
  },
  {
   "cell_type": "code",
   "execution_count": null,
   "metadata": {
    "lines_to_next_cell": 0
   },
   "outputs": [],
   "source": [
    "    # ri\n",
    "    splice_type = \"ri_\"\n",
    "    res = splice_list %in% splice_type\n",
    "    if (sum(res) == 1) {\n",
    "        message (\"splice_list does contain\\n\",\n",
    "             paste(splice_type), \" continuing with processing\\n\")\n",
    "        fromGTF  <- read.table(\"../data/fromGTF.RI.txt\", header=TRUE)\n",
    "        fromGTF  <- eliminateChrYfromGTF (fromGTF)\n",
    "        ijc      <- makeSplicingExpressionSetObject(obj, srr_metadata, \"../data/rmats_final.ri.jc.ijc.txt.gz\")\n",
    "        ijc      <- eliminateChrYfromExpressionSet (fromGTF, obj)\n",
    "        sjc      <- makeSplicingExpressionSetObject(obj, srr_metadata, \"../data/rmats_final.ri.jc.sjc.txt.gz\")\n",
    "        sjc      <- eliminateChrYfromExpressionSet (fromGTF, obj)\n",
    "        print_exploratory_plots (plot, \n",
    "                             dup,\n",
    "                             tissue_of_interest, \n",
    "                             splice_type, \n",
    "                             fromGTF, \n",
    "                             tissue_list, \n",
    "                             ijc, \n",
    "                             sjc, \n",
    "                             obj, \n",
    "                             metadata )\n",
    "    }"
   ]
  },
  {
   "cell_type": "code",
   "execution_count": 96,
   "metadata": {},
   "outputs": [
    {
     "name": "stderr",
     "output_type": "stream",
     "text": [
      "splice_list does contain\n",
      "se_ continuing with processing\n",
      "\n",
      "\n",
      "loading ../data/rmats_final.se.jc.ijc.txt.gz \n",
      "done!\n",
      "making splicing expressionSet object\n",
      "made new expressionSet object\n",
      "426117872 \n",
      "dim pData(es)\n",
      "787268 \n",
      "dim exprs(es)\n",
      "426117872 \n",
      "done!\n",
      "\n",
      "\n",
      "size tissue_reduction\n",
      "39 5\n",
      "\n",
      "size es\n",
      "426117872 \n",
      "\n",
      "size pData(es)\n",
      "7872 68\n",
      "\n",
      " number of tissue types to keep\n",
      "39 \n",
      "\n",
      "length tissues in phenotype data\n",
      "53\n",
      "\n",
      "length tissues in tissue_reduction data\n",
      "39\n",
      "\n",
      "how many to keep in phenotype data\n",
      "852 7020\n",
      "\n",
      "size reduced es\n",
      "426117020 \n",
      "\n",
      "size pData(es)\n",
      "7020 68\n",
      "\n",
      "size exprs(es)\n",
      "42611 7020\n",
      "\n",
      "TEST: how many to keep in to have only breast_mammary_tissue\n",
      "6842 178\n",
      "\n",
      "TEST: size breast_mammary_tissue tes\n",
      "42611 178\n",
      "\n",
      "TEST: size phenotype object pData(tes)\n",
      "178 68\n",
      "remade the expressionSet object\n",
      "424847020 \n",
      "dim pData(es)\n",
      "702068 \n",
      "dim exprs(es)\n",
      "424847020 \n",
      "done!\n",
      "\n",
      "\n",
      "loading ../data/rmats_final.se.jc.sjc.txt.gz \n",
      "done!\n",
      "making splicing expressionSet object\n",
      "made new expressionSet object\n",
      "426117872 \n",
      "dim pData(es)\n",
      "787268 \n",
      "dim exprs(es)\n",
      "426117872 \n",
      "done!\n",
      "\n",
      "\n",
      "size tissue_reduction\n",
      "39 5\n",
      "\n",
      "size es\n",
      "426117872 \n",
      "\n",
      "size pData(es)\n",
      "7872 68\n",
      "\n",
      " number of tissue types to keep\n",
      "39 \n",
      "\n",
      "length tissues in phenotype data\n",
      "53\n",
      "\n",
      "length tissues in tissue_reduction data\n",
      "39\n",
      "\n",
      "how many to keep in phenotype data\n",
      "852 7020\n",
      "\n",
      "size reduced es\n",
      "426117020 \n",
      "\n",
      "size pData(es)\n",
      "7020 68\n",
      "\n",
      "size exprs(es)\n",
      "42611 7020\n",
      "\n",
      "TEST: how many to keep in to have only breast_mammary_tissue\n",
      "6842 178\n",
      "\n",
      "TEST: size breast_mammary_tissue tes\n",
      "42611 178\n",
      "\n",
      "TEST: size phenotype object pData(tes)\n",
      "178 68\n",
      "remade the expressionSet object\n",
      "424847020 \n",
      "dim pData(es)\n",
      "702068 \n",
      "dim exprs(es)\n",
      "424847020 \n",
      "done!\n",
      "\n",
      "\n",
      "Limiting phenotype data to tissue of interest\n",
      "colon_transverse \n",
      "\n",
      "keep\n",
      "6843177 \n",
      "\n",
      "dimensions of the ijc_tissue \n",
      "42484 177\n",
      "\n",
      "dimensions of the sjc_tissue \n",
      "42484 177\n",
      "\n",
      "ijc.rs > 10 \n",
      "6780 35704\n",
      "\n",
      "sjc.rs > 10 \n",
      "10525 31959\n",
      "\n",
      "keep combined ijc | sjc \n",
      "4167 38317\n",
      "\n",
      "dim(ijc)\n",
      "38317 177\n",
      "\n",
      "dim(sjc)\n",
      "38317 177\n",
      "\n",
      "sex samples:\n",
      "11067\n",
      "\n",
      "\n",
      "design matrix ijc, alone:\n",
      "1\n",
      "1\n",
      "1\n",
      "1\n",
      "1\n",
      "1\n",
      "1\n",
      "2\n",
      "1\n",
      "2\n",
      "2\n",
      "1\n",
      "\n",
      "dimensions of the ijc_sex_results_refined_annotations \n",
      "20 11\n",
      "\n",
      "length ijc_sex_results_refined_geneSymbols\n",
      "20\n",
      "\n",
      "starting sjc\n",
      "\n",
      "\n",
      "dimensions of the sjc_sex_results_refined_annotations \n",
      "13 11\n",
      "\n",
      "length sjc_sex_results_refined_geneSymbols\n",
      "13\n",
      "removing DGE Genes prior to making y linear model\n",
      "Parsed with column specification:\n",
      "cols(\n",
      "  ensg_names = \u001b[31mcol_character()\u001b[39m,\n",
      "  ensg_genes = \u001b[31mcol_character()\u001b[39m\n",
      ")\n",
      "\n",
      " DGEs in tissue of interest remove this many4244836 \n",
      "remade the expressionSet object\n",
      "38282177 \n",
      "dim pData(es)\n",
      "17768 \n",
      "dim exprs(es)\n",
      "38282177 \n",
      "done!\n",
      "\n",
      "Parsed with column specification:\n",
      "cols(\n",
      "  ensg_names = \u001b[31mcol_character()\u001b[39m,\n",
      "  ensg_genes = \u001b[31mcol_character()\u001b[39m\n",
      ")\n",
      "\n",
      " DGEs in tissue of interest remove this many4244836 \n",
      "remade the expressionSet object\n",
      "38282177 \n",
      "dim pData(es)\n",
      "17768 \n",
      "dim exprs(es)\n",
      "38282177 \n",
      "done!\n",
      "\n",
      "starting the y prediction\n",
      "\n",
      "\n",
      "donor size354 \n",
      "\n",
      "dim as_matrix38282354 \n",
      "sex samples:\n",
      "11067 \n",
      "sex samples:\n",
      "220134 \n",
      "\n",
      "length sex2\n",
      "354 \n",
      "\n",
      "length as_event\n",
      "354 \n",
      "\n",
      "dim design <- model.matrix( ~sex + as_event + sex*as_event)\n",
      "1\n",
      "1\n",
      "1\n",
      "1\n",
      "1\n",
      "1\n",
      "0\n",
      "1\n",
      "0\n",
      "1\n",
      "1\n",
      "0\n",
      "0\n",
      "0\n",
      "0\n",
      "0\n",
      "0\n",
      "0\n",
      "0\n",
      "0\n",
      "0\n",
      "0\n",
      "0\n",
      "0\n",
      "Repeated column names found in count matrix\n"
     ]
    },
    {
     "data": {
      "image/png": "[encoded data removed]",
      "text/plain": [
       "Plot with title “voom: Mean-variance trend”"
      ]
     },
     "metadata": {},
     "output_type": "display_data"
    },
    {
     "name": "stderr",
     "output_type": "stream",
     "text": [
      "\n",
      "Genders new size\n",
      "177\n",
      "\n",
      "plotting y for ijc portion of design <- model.matrix( ~sex + as_event + sex*as_event\n",
      "\n",
      "\n",
      "plotting y_voom for ijc portion of design <- model.matrix( ~sex + as_event + sex*as_event\n",
      "\n",
      "\n",
      "plotting y for sjc portion of design <- model.matrix( ~sex + as_event + sex*as_event\n",
      "\n",
      "\n",
      " sex_as_events\n",
      "KDM5C-22847 KDM5C-22849 KDM5C-22848 ZFX-13700 ZFX-13702 EIF1AX-29498\n",
      "\n",
      " ijc_sex_results\n",
      "XIST-10153 XIST-10151 XIST-10150 XIST-10155 XIST-10154 XIST-10149\n",
      "\n",
      " sjc_sex_results\n",
      "XIST-10150 XIST-10151 XIST-10153 XIST-10155 XIST-10152 KDM5C-22849\n"
     ]
    },
    {
     "data": {
      "image/png": "[encoded data removed]",
      "text/plain": [
       "Plot with title “voom: Mean-variance trend”"
      ]
     },
     "metadata": {},
     "output_type": "display_data"
    },
    {
     "data": {
      "text/html": [
       "0"
      ],
      "text/latex": [
       "0"
      ],
      "text/markdown": [
       "0"
      ],
      "text/plain": [
       "[1] 0"
      ]
     },
     "metadata": {},
     "output_type": "display_data"
    },
    {
     "data": {
      "image/png": "[encoded data removed]",
      "text/plain": [
       "Plot with title “voom: Mean-variance trend”"
      ]
     },
     "metadata": {},
     "output_type": "display_data"
    }
   ],
   "source": [
    "    # se\n",
    "    splice_type = \"se_\"\n",
    "    res = splice_list %in% splice_type\n",
    "    tissue_of_interest  = as.vector(as.character(tissue_list[tissue_index]))\n",
    "\n",
    "    if (sum(res) == 1) {\n",
    "        message (\"splice_list does contain\\n\",\n",
    "             paste(splice_type), \" continuing with processing\\n\")\n",
    "        fromGTF    <- read.table(\"../data/fromGTF.SE.txt\", header=TRUE)\n",
    "        fromGTF    <- eliminateChrYfromGTF (fromGTF)\n",
    "        ijc_counts <- makeCountsMatrix( filename_gz  <- \"../data/rmats_final.se.jc.ijc.txt.gz\")\n",
    "        ijc        <- makeSplicingExpressionSetObject (srr_pdata <- srr_pdata, counts <- ijc_counts)\n",
    "        ijc        <- reduceSampleSet(tissue_reduction <- tissue_reduction, es <- ijc)\n",
    "        ijc        <- eliminateChrYfromExpressionSet (fromGTF <- fromGTF, es <- ijc)\n",
    "        sjc_counts <- makeCountsMatrix( filename_gz  <- \"../data/rmats_final.se.jc.sjc.txt.gz\")\n",
    "        sjc        <- makeSplicingExpressionSetObject (srr_pdata <- srr_pdata, counts <- sjc_counts)\n",
    "        sjc        <- reduceSampleSet(tissue_reduction <- tissue_reduction, es <- sjc)\n",
    "        sjc        <- eliminateChrYfromExpressionSet (fromGTF <- fromGTF, es <- sjc)\n",
    "        print_exploratory_plots (plot, \n",
    "                                 dup, \n",
    "                                 tissue_of_interest, \n",
    "                                 splice_type, \n",
    "                                 fromGTF, \n",
    "                                 tissue_list, \n",
    "                                 ijc, \n",
    "                                 sjc)\n",
    " \n",
    "    }\n",
    "#}"
   ]
  },
  {
   "cell_type": "code",
   "execution_count": 60,
   "metadata": {},
   "outputs": [
    {
     "data": {
      "text/plain": [
       "ExpressionSet (storageMode: lockedEnvironment)\n",
       "assayData: 1 features, 7020 samples \n",
       "  element names: exprs \n",
       "protocolData: none\n",
       "phenoData\n",
       "  rowNames: 1 2 ... 3 (7020 total)\n",
       "  varLabels: SAMPID SMATSSCR ... SRR (68 total)\n",
       "  varMetadata: labelDescriptions labelDescription\n",
       "featureData: none\n",
       "experimentData: use 'experimentData(object)'\n",
       "Annotation:  "
      ]
     },
     "metadata": {},
     "output_type": "display_data"
    },
    {
     "data": {
      "text/html": [
       "<style>\n",
       ".list-inline {list-style: none; margin:0; padding: 0}\n",
       ".list-inline>li {display: inline-block}\n",
       ".list-inline>li:not(:last-child)::after {content: \"\\00b7\"; padding: 0 .5ex}\n",
       "</style>\n",
       "<ol class=list-inline><li>42484</li><li>7020</li></ol>\n"
      ],
      "text/latex": [
       "\\begin{enumerate*}\n",
       "\\item 42484\n",
       "\\item 7020\n",
       "\\end{enumerate*}\n"
      ],
      "text/markdown": [
       "1. 42484\n",
       "2. 7020\n",
       "\n",
       "\n"
      ],
      "text/plain": [
       "[1] 42484  7020"
      ]
     },
     "metadata": {},
     "output_type": "display_data"
    }
   ],
   "source": [
    "head(ijc)\n",
    "dim(exprs(ijc))"
   ]
  },
  {
   "cell_type": "code",
   "execution_count": 31,
   "metadata": {},
   "outputs": [
    {
     "data": {
      "text/html": [
       "<style>\n",
       ".list-inline {list-style: none; margin:0; padding: 0}\n",
       ".list-inline>li {display: inline-block}\n",
       ".list-inline>li:not(:last-child)::after {content: \"\\00b7\"; padding: 0 .5ex}\n",
       "</style>\n",
       "<ol class=list-inline><li>50</li><li>5</li></ol>\n"
      ],
      "text/latex": [
       "\\begin{enumerate*}\n",
       "\\item 50\n",
       "\\item 5\n",
       "\\end{enumerate*}\n"
      ],
      "text/markdown": [
       "1. 50\n",
       "2. 5\n",
       "\n",
       "\n"
      ],
      "text/plain": [
       "[1] 50  5"
      ]
     },
     "metadata": {},
     "output_type": "display_data"
    },
    {
     "data": {
      "text/html": [
       "<table>\n",
       "<caption>A data.frame: 6 × 5</caption>\n",
       "<thead>\n",
       "\t<tr><th></th><th scope=col>SMTSD</th><th scope=col>female</th><th scope=col>male</th><th scope=col>include</th><th scope=col>display_name</th></tr>\n",
       "\t<tr><th></th><th scope=col>&lt;chr&gt;</th><th scope=col>&lt;int&gt;</th><th scope=col>&lt;int&gt;</th><th scope=col>&lt;int&gt;</th><th scope=col>&lt;chr&gt;</th></tr>\n",
       "</thead>\n",
       "<tbody>\n",
       "\t<tr><th scope=row>1</th><td>adipose_subcutaneous    </td><td>218</td><td>445</td><td>1</td><td>Adipose (sc)   </td></tr>\n",
       "\t<tr><th scope=row>2</th><td>adipose_visceral_omentum</td><td>170</td><td>371</td><td>1</td><td>Adipose (v)    </td></tr>\n",
       "\t<tr><th scope=row>3</th><td>adrenal_gland           </td><td>101</td><td>157</td><td>1</td><td>Adrenal gland  </td></tr>\n",
       "\t<tr><th scope=row>4</th><td>artery_aorta            </td><td>153</td><td>279</td><td>1</td><td>Aorta          </td></tr>\n",
       "\t<tr><th scope=row>5</th><td>artery_coronary         </td><td> 94</td><td>146</td><td>1</td><td>Coronary artery</td></tr>\n",
       "\t<tr><th scope=row>6</th><td>artery_tibial           </td><td>209</td><td>454</td><td>1</td><td>Tibial artery  </td></tr>\n",
       "</tbody>\n",
       "</table>\n"
      ],
      "text/latex": [
       "A data.frame: 6 × 5\n",
       "\\begin{tabular}{r|lllll}\n",
       "  & SMTSD & female & male & include & display\\_name\\\\\n",
       "  & <chr> & <int> & <int> & <int> & <chr>\\\\\n",
       "\\hline\n",
       "\t1 & adipose\\_subcutaneous     & 218 & 445 & 1 & Adipose (sc)   \\\\\n",
       "\t2 & adipose\\_visceral\\_omentum & 170 & 371 & 1 & Adipose (v)    \\\\\n",
       "\t3 & adrenal\\_gland            & 101 & 157 & 1 & Adrenal gland  \\\\\n",
       "\t4 & artery\\_aorta             & 153 & 279 & 1 & Aorta          \\\\\n",
       "\t5 & artery\\_coronary          &  94 & 146 & 1 & Coronary artery\\\\\n",
       "\t6 & artery\\_tibial            & 209 & 454 & 1 & Tibial artery  \\\\\n",
       "\\end{tabular}\n"
      ],
      "text/markdown": [
       "\n",
       "A data.frame: 6 × 5\n",
       "\n",
       "| <!--/--> | SMTSD &lt;chr&gt; | female &lt;int&gt; | male &lt;int&gt; | include &lt;int&gt; | display_name &lt;chr&gt; |\n",
       "|---|---|---|---|---|---|\n",
       "| 1 | adipose_subcutaneous     | 218 | 445 | 1 | Adipose (sc)    |\n",
       "| 2 | adipose_visceral_omentum | 170 | 371 | 1 | Adipose (v)     |\n",
       "| 3 | adrenal_gland            | 101 | 157 | 1 | Adrenal gland   |\n",
       "| 4 | artery_aorta             | 153 | 279 | 1 | Aorta           |\n",
       "| 5 | artery_coronary          |  94 | 146 | 1 | Coronary artery |\n",
       "| 6 | artery_tibial            | 209 | 454 | 1 | Tibial artery   |\n",
       "\n"
      ],
      "text/plain": [
       "  SMTSD                    female male include display_name   \n",
       "1 adipose_subcutaneous     218    445  1       Adipose (sc)   \n",
       "2 adipose_visceral_omentum 170    371  1       Adipose (v)    \n",
       "3 adrenal_gland            101    157  1       Adrenal gland  \n",
       "4 artery_aorta             153    279  1       Aorta          \n",
       "5 artery_coronary           94    146  1       Coronary artery\n",
       "6 artery_tibial            209    454  1       Tibial artery  "
      ]
     },
     "metadata": {},
     "output_type": "display_data"
    }
   ],
   "source": [
    "dim(tissue_reduction)\n",
    "head(tissue_reduction)\n"
   ]
  },
  {
   "cell_type": "code",
   "execution_count": 76,
   "metadata": {},
   "outputs": [
    {
     "data": {
      "text/html": [
       "'colon_transverse'"
      ],
      "text/latex": [
       "'colon\\_transverse'"
      ],
      "text/markdown": [
       "'colon_transverse'"
      ],
      "text/plain": [
       "[1] \"colon_transverse\""
      ]
     },
     "metadata": {},
     "output_type": "display_data"
    },
    {
     "name": "stderr",
     "output_type": "stream",
     "text": [
      "Parsed with column specification:\n",
      "cols(\n",
      "  ensg_names = \u001b[31mcol_character()\u001b[39m,\n",
      "  ensg_genes = \u001b[31mcol_character()\u001b[39m\n",
      ")\n",
      "\n",
      " DGEs in tissue of interest remove this many4244836 \n",
      "remade the expressionSet object\n",
      "424487020 \n",
      "dim pData(es)\n",
      "702068 \n",
      "dim exprs(es)\n",
      "424487020 \n",
      "done!\n",
      "\n",
      "Parsed with column specification:\n",
      "cols(\n",
      "  ensg_names = \u001b[31mcol_character()\u001b[39m,\n",
      "  ensg_genes = \u001b[31mcol_character()\u001b[39m\n",
      ")\n",
      "\n",
      " DGEs in tissue of interest remove this many4244836 \n",
      "remade the expressionSet object\n",
      "424487020 \n",
      "dim pData(es)\n",
      "702068 \n",
      "dim exprs(es)\n",
      "424487020 \n",
      "done!\n",
      "\n"
     ]
    }
   ],
   "source": [
    "tissue_of_interest  = as.vector(as.character(tissue_list[tissue_index]))\n",
    "tissue_of_interest\n",
    "s_ijc <- ijc\n",
    "s_sjc <- sjc\n",
    "ijc <- removeDGEGenes(tissue_of_interest <- tissue_of_interest, fromGTF <- fromGTF, es <- ijc)\n",
    "sjc <- removeDGEGenes(tissue_of_interest <- tissue_of_interest, fromGTF <- fromGTF, es <- sjc)"
   ]
  },
  {
   "cell_type": "code",
   "execution_count": 92,
   "metadata": {},
   "outputs": [
    {
     "data": {
      "text/html": [
       "<style>\n",
       ".dl-inline {width: auto; margin:0; padding: 0}\n",
       ".dl-inline>dt, .dl-inline>dd {float: none; width: auto; display: inline-block}\n",
       ".dl-inline>dt::after {content: \":\\0020\"; padding-right: .5ex}\n",
       ".dl-inline>dt:not(:first-of-type) {padding-left: .5ex}\n",
       "</style><dl class=dl-inline><dt>Features</dt><dd>42484</dd><dt>Samples</dt><dd>7020</dd></dl>\n"
      ],
      "text/latex": [
       "\\begin{description*}\n",
       "\\item[Features] 42484\n",
       "\\item[Samples] 7020\n",
       "\\end{description*}\n"
      ],
      "text/markdown": [
       "Features\n",
       ":   42484Samples\n",
       ":   7020\n",
       "\n"
      ],
      "text/plain": [
       "Features  Samples \n",
       "   42484     7020 "
      ]
     },
     "metadata": {},
     "output_type": "display_data"
    },
    {
     "data": {
      "text/html": [
       "<style>\n",
       ".dl-inline {width: auto; margin:0; padding: 0}\n",
       ".dl-inline>dt, .dl-inline>dd {float: none; width: auto; display: inline-block}\n",
       ".dl-inline>dt::after {content: \":\\0020\"; padding-right: .5ex}\n",
       ".dl-inline>dt:not(:first-of-type) {padding-left: .5ex}\n",
       "</style><dl class=dl-inline><dt>Features</dt><dd>42484</dd><dt>Samples</dt><dd>7020</dd></dl>\n"
      ],
      "text/latex": [
       "\\begin{description*}\n",
       "\\item[Features] 42484\n",
       "\\item[Samples] 7020\n",
       "\\end{description*}\n"
      ],
      "text/markdown": [
       "Features\n",
       ":   42484Samples\n",
       ":   7020\n",
       "\n"
      ],
      "text/plain": [
       "Features  Samples \n",
       "   42484     7020 "
      ]
     },
     "metadata": {},
     "output_type": "display_data"
    },
    {
     "data": {
      "text/html": [
       "<style>\n",
       ".dl-inline {width: auto; margin:0; padding: 0}\n",
       ".dl-inline>dt, .dl-inline>dd {float: none; width: auto; display: inline-block}\n",
       ".dl-inline>dt::after {content: \":\\0020\"; padding-right: .5ex}\n",
       ".dl-inline>dt:not(:first-of-type) {padding-left: .5ex}\n",
       "</style><dl class=dl-inline><dt>Features</dt><dd>42484</dd><dt>Samples</dt><dd>7020</dd></dl>\n"
      ],
      "text/latex": [
       "\\begin{description*}\n",
       "\\item[Features] 42484\n",
       "\\item[Samples] 7020\n",
       "\\end{description*}\n"
      ],
      "text/markdown": [
       "Features\n",
       ":   42484Samples\n",
       ":   7020\n",
       "\n"
      ],
      "text/plain": [
       "Features  Samples \n",
       "   42484     7020 "
      ]
     },
     "metadata": {},
     "output_type": "display_data"
    },
    {
     "data": {
      "text/html": [
       "<style>\n",
       ".dl-inline {width: auto; margin:0; padding: 0}\n",
       ".dl-inline>dt, .dl-inline>dd {float: none; width: auto; display: inline-block}\n",
       ".dl-inline>dt::after {content: \":\\0020\"; padding-right: .5ex}\n",
       ".dl-inline>dt:not(:first-of-type) {padding-left: .5ex}\n",
       "</style><dl class=dl-inline><dt>Features</dt><dd>42484</dd><dt>Samples</dt><dd>7020</dd></dl>\n"
      ],
      "text/latex": [
       "\\begin{description*}\n",
       "\\item[Features] 42484\n",
       "\\item[Samples] 7020\n",
       "\\end{description*}\n"
      ],
      "text/markdown": [
       "Features\n",
       ":   42484Samples\n",
       ":   7020\n",
       "\n"
      ],
      "text/plain": [
       "Features  Samples \n",
       "   42484     7020 "
      ]
     },
     "metadata": {},
     "output_type": "display_data"
    },
    {
     "data": {
      "text/plain": [
       "\n",
       "   1    2 \n",
       "4519 2501 "
      ]
     },
     "metadata": {},
     "output_type": "display_data"
    },
    {
     "name": "stderr",
     "output_type": "stream",
     "text": [
      "\n",
      "sex samples:\n",
      "45192501\n",
      "\n",
      "Warning message in if (pData(ijc)$SEX == 1) {:\n",
      "“the condition has length > 1 and only the first element will be used”"
     ]
    }
   ],
   "source": [
    "dim(s_ijc)\n",
    "dim(ijc)\n",
    "dim(s_sjc)\n",
    "dim(sjc)\n",
    "table(pData(ijc)$SEX)\n",
    "    message(\"\\nsex samples:\\n\",\n",
    "        paste(table(pData(ijc)$SEX)), collapse=\"\\n\")\n"
   ]
  },
  {
   "cell_type": "markdown",
   "metadata": {},
   "source": [
    "## Metadata\n",
    "\n",
    "For replicability and reproducibility purposes, we also print the following metadata:\n",
    "\n",
    "1. Checksums of **'artefacts'**, files generated during the analysis and stored in the folder directory **`data`**\n",
    "2. List of environment metadata, dependencies, versions of libraries using `utils::sessionInfo()` and [`devtools::session_info()`](https://devtools.r-lib.org/reference/session_info.html)"
   ]
  },
  {
   "cell_type": "markdown",
   "metadata": {},
   "source": [
    "### 1. Checksums with the sha256 algorithm"
   ]
  },
  {
   "cell_type": "code",
   "execution_count": null,
   "metadata": {},
   "outputs": [],
   "source": [
    "rm (notebookid)\n",
    "notebookid   = \"differentialSplicingJunctionExpressionAnalysis\"\n",
    "notebookid\n",
    "\n",
    "message(\"Generating sha256 checksums of the artefacts in the `..data/` directory .. \")\n",
    "system(paste0(\"cd ../data && find . -type f -exec sha256sum {} \\\\;  >  ../metadata/\", notebookid, \"_sha256sums.txt\"), intern = TRUE)\n",
    "message(\"Done!\\n\")\n",
    "\n",
    "paste0(\"../metadata/\", notebookid, \"_sha256sums.txt\")\n",
    "\n",
    "data.table::fread(paste0(\"../metadata/\", notebookid, \"_sha256sums.txt\"), header = FALSE, col.names = c(\"sha256sum\", \"file\"))"
   ]
  },
  {
   "cell_type": "markdown",
   "metadata": {},
   "source": [
    "### 2. Libraries metadata"
   ]
  },
  {
   "cell_type": "code",
   "execution_count": null,
   "metadata": {},
   "outputs": [],
   "source": [
    "dev_session_info   <- devtools::session_info()\n",
    "utils_session_info <- utils::sessionInfo()\n",
    "\n",
    "message(\"Saving `devtools::session_info()` objects in ../metadata/devtools_session_info.rds  ..\")\n",
    "saveRDS(dev_session_info, file = paste0(\"../metadata/\", notebookid, \"_devtools_session_info.rds\"))\n",
    "message(\"Done!\\n\")\n",
    "\n",
    "message(\"Saving `utils::sessionInfo()` objects in ../metadata/utils_session_info.rds  ..\")\n",
    "saveRDS(utils_session_info, file = paste0(\"../metadata/\", notebookid ,\"_utils_info.rds\"))\n",
    "message(\"Done!\\n\")\n",
    "\n",
    "dev_session_info$platform\n",
    "dev_session_info$packages[dev_session_info$packages$attached==TRUE, ]"
   ]
  },
  {
   "cell_type": "code",
   "execution_count": null,
   "metadata": {},
   "outputs": [],
   "source": []
  }
 ],
 "metadata": {
  "kernelspec": {
   "display_name": "R",
   "language": "R",
   "name": "ir"
  },
  "language_info": {
   "codemirror_mode": "r",
   "file_extension": ".r",
   "mimetype": "text/x-r-source",
   "name": "R",
   "pygments_lexer": "r",
   "version": "3.6.1"
  }
 },
 "nbformat": 4,
 "nbformat_minor": 4
}
