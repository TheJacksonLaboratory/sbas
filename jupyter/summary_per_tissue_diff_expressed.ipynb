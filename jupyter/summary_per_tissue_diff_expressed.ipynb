{
 "cells": [
  {
   "cell_type": "markdown",
   "metadata": {},
   "source": [
    "# Supplementary: Counts of differentially expressed genes per examined tissue\n",
    "\n",
    "This notebook aggregates the results from the differential gene expression (**see** [figure1.ipynb](figure1.ipynb)), and more specifically the `limma::topTable()` output dataframes across all tissues in the GTEX cohort and generates summary statistics for the number of genes found to be statistically up or downregulated between male and female subjects."
   ]
  },
  {
   "cell_type": "markdown",
   "metadata": {},
   "source": [
    " ---\n",
    " \n",
    " **Running this notebook**:\n",
    " \n",
    "A few steps are needed before you can run this document on your own. The GitHub repository (https://github.com/TheJacksonLaboratory/sbas) of the project contains detailed instructions for setting up the environment in the **`dependencies/README.md`** document. Before starting with the analysis, make sure you have first completed the dependencies set up by following the instructions described there. If you have not done this already, you will need to close and restart this notebook before running it.\n",
    "\n",
    "All paths defined in this Notebook are relative to the parent directory (repository). \n",
    "\n",
    " ---\n"
   ]
  },
  {
   "cell_type": "markdown",
   "metadata": {},
   "source": [
    "# Loading dependencies"
   ]
  },
  {
   "cell_type": "code",
   "execution_count": 1,
   "metadata": {},
   "outputs": [
    {
     "name": "stderr",
     "output_type": "stream",
     "text": [
      "\n",
      "Attaching package: ‘dplyr’\n",
      "\n",
      "\n",
      "The following objects are masked from ‘package:stats’:\n",
      "\n",
      "    filter, lag\n",
      "\n",
      "\n",
      "The following objects are masked from ‘package:base’:\n",
      "\n",
      "    intersect, setdiff, setequal, union\n",
      "\n",
      "\n"
     ]
    },
    {
     "ename": "ERROR",
     "evalue": "Error in library(reshape): there is no package called ‘reshape’\n",
     "output_type": "error",
     "traceback": [
      "Error in library(reshape): there is no package called ‘reshape’\nTraceback:\n",
      "1. library(reshape)"
     ]
    }
   ],
   "source": [
    "library(dplyr)\n",
    "library(tidyr)\n",
    "library(reshape)\n",
    "library(ggplot2)\n",
    "# Install this version: > devtools::install_github(\"ropensci/piggyback@87f71e8\", upgrade=\"never\")\n",
    "library(piggyback)\n",
    "library(snakecase)"
   ]
  },
  {
   "cell_type": "markdown",
   "metadata": {},
   "source": [
    "# Retrieving the results from the Differential Gene Expression using [`ropensci/piggyback`](https://github.com/ropensci/piggyback)\n",
    "\n",
    "This notebook requires as input data the limma `topTable()` objects from the Differential Gene Expression analysis (see [figure1.ipynb](https://github.com/TheJacksonLaboratory/sbas/blob/master/jupyter/figure1.ipynb)). We have archived the results from the notebook that generates the results using the method described by the author of the R package [`ropensci/piggyback`](https://github.com/ropensci/piggyback). We use the release named `dge` (Differential Gene Expression) in the repo and can be accessed at [TheJacksonLaboratory/sbas/releases/tag/dge](https://github.com/TheJacksonLaboratory/sbas/releases/tag/dge). \n",
    "\n",
    "For using the [`ropensci/piggyback`](https://github.com/ropensci/piggyback) with private repositories, it is required that a `GITHUB_TOKEN` is stored as a variable in the R environment in which one is working. To generate such a token with sensible default permissions, the R package [usethis]() has a convenient function \n",
    "\n",
    "```R\n",
    "# intall.packages(\"usethis\")\n",
    "usethis::browse_github_token()\n",
    "```\n",
    "\n",
    "This will redirect you to GitHub to create your own GitHub token. Once you have the token, you can use it to set up `.Renviron` by typing the following:\n",
    "\n",
    "```R\n",
    "Sys.setenv(GITHUB_TOKEN = \"youractualtokenindoublequotes\")\n",
    "```\n",
    "\n",
    "Then you sre ready to use the function [`piggyback::pb_download()`](https://docs.ropensci.org/piggyback/reference/pb_download.html) to retrieve the `dge.tar.gz` that contains the topTable objects written as .csv file for all 46 examined GTEX tissue cohorts.\n",
    "\n",
    "---\n",
    "\n",
    "***NOTE***\n",
    "\n",
    "Avoid using the `.token` argument to share your token directly in the function as you might forget and push your code, along with your private GITHUB_TOKEN to GitHub. If that happens by mistake, it is advised you invalidate the token that has been exposed by accessing [this link](https://github.com/settings/tokens) and clicking `Delete`.\n",
    "\n",
    "---"
   ]
  },
  {
   "cell_type": "code",
   "execution_count": 2,
   "metadata": {},
   "outputs": [],
   "source": [
    "#?piggyback::pb_download()"
   ]
  },
  {
   "cell_type": "code",
   "execution_count": 3,
   "metadata": {},
   "outputs": [
    {
     "name": "stderr",
     "output_type": "stream",
     "text": [
      "File dge.tar.gz already available in ../data/ !\n",
      "\n",
      "\n",
      "Decompressing archive into folder ../data/dge ..\n",
      "\n",
      "Done!\n",
      "\n",
      "\n"
     ]
    }
   ],
   "source": [
    "if (!file.exists(\"../data/DGE_gene_csv.tar.gz\")) {\n",
    "    \n",
    "    message(\"Fetching dge.tar.gz from GitHub ..\")\n",
    "    # Download archive from GitHub release with tag \"dge\"\n",
    "    piggyback::pb_download(file = \"DGE_gene_csv.tar.gz\",\n",
    "                           dest = \"../data\",\n",
    "                           repo = \"TheJacksonLaboratory/sbas\",\n",
    "                           tag  = \"dge\",\n",
    "                           show_progress = TRUE)\n",
    "    message(\"Done!\\n\")\n",
    "    \n",
    "    message(\"Decompressing archive into folder ../data/dge ..\")\n",
    "    # Decompress in a folder tmp named dge\n",
    "    system(\"mkdir -p ../data/dge && tar xvzf ../data/DGE_gene_csv.tar.gz -C ../data/dge/\", intern = TRUE)\n",
    "    message(\"Done!\\n\")\n",
    "} else {\n",
    "    message(\"File dge.tar.gz already available in ../data/ !\\n\")\n",
    "    message(\"Decompressing archive into folder ../data/dge ..\")\n",
    "    # Decompress in a folder tmp named dge\n",
    "    system(\"mkdir -p ../data/dge && tar xvzf ../data/DGE_gene_csv.tar.gz -C ../data/dge/\", intern = TRUE)\n",
    "    message(\"Done!\\n\")\n",
    "}\n"
   ]
  },
  {
   "cell_type": "markdown",
   "metadata": {},
   "source": [
    "## To get the last column fields of the GTF file to annotate the gene ids\n",
    "- The following code cells download the Ensembl or Gencode GTF file (for now we are using Ensembl). Alternatively, you can get the files from the command line as follows.\n",
    "\n",
    "```bash\n",
    "wget ftp://ftp.ensembl.org/pub/release-100/gtf/homo_sapiens/Homo_sapiens.GRCh38.100.chr_patch_hapl_scaff.gtf.gz -P ../data\n",
    "wget ftp://ftp.ebi.ac.uk/pub/databases/gencode/Gencode_human/release_30/gencode.v30.annotation.gtf.gz -P ../data\n",
    "```"
   ]
  },
  {
   "cell_type": "code",
   "execution_count": 4,
   "metadata": {},
   "outputs": [
    {
     "name": "stderr",
     "output_type": "stream",
     "text": [
      "GTF file previously downloaded\n",
      "\n"
     ]
    }
   ],
   "source": [
    "# Download from archive if not available in ../data\n",
    "if (!(\"Homo_sapiens.GRCh38.100.chr_patch_hapl_scaff.gtf.gz\" %in% list.files(\"../data/\"))) {\n",
    "    message(\"Downloading Homo_sapiens.GRCh38.100.chr_patch_hapl_scaff.gtf.gz from Ensembl into the ../data/ directory ..\\n\")\n",
    "    gtf_url = 'ftp://ftp.ensembl.org/pub/release-100/gtf/homo_sapiens/Homo_sapiens.GRCh38.100.chr_patch_hapl_scaff.gtf.gz'\n",
    "    destination = '../data/Homo_sapiens.GRCh38.100.chr_patch_hapl_scaff.gtf.gz'\n",
    "    download.file(gtf_url, destination, \"wget\", quiet = FALSE, mode = \"w\",\n",
    "              cacheOK = TRUE,\n",
    "              extra = getOption(\"download.file.extra\"))\n",
    "    message(\"Done!\\n\")\n",
    "} else {\n",
    "    message(\"GTF file previously downloaded\")\n",
    "}"
   ]
  },
  {
   "cell_type": "code",
   "execution_count": 5,
   "metadata": {},
   "outputs": [
    {
     "name": "stderr",
     "output_type": "stream",
     "text": [
      "Genecode file previously downloaded\n",
      "\n"
     ]
    }
   ],
   "source": [
    "# ftp://ftp.ebi.ac.uk/pub/databases/gencode/Gencode_human/release_30/gencode.v30.chr_patch_hapl_scaff.annotation.gtf.gz\n",
    "if (!(\"gencode.v30.chr_patch_hapl_scaff.annotation.gtf.gz\" %in% list.files(\"../data/\"))) {\n",
    "    message(\"Downloading gencode.v30.chr_patch_hapl_scaff.annotation.gtf.gz from Gencode into the ../data/ directory ..\\n\")\n",
    "    gencode_url = 'ftp://ftp.ebi.ac.uk/pub/databases/gencode/Gencode_human/release_30/gencode.v30.chr_patch_hapl_scaff.annotation.gtf.gz'\n",
    "    destination = '../data/gencode.v30.chr_patch_hapl_scaff.annotation.gtf.gz'\n",
    "    download.file(gencode_url, destination, \"wget\", quiet = FALSE, mode = \"w\",\n",
    "            cacheOK = TRUE,\n",
    "            extra = getOption(\"download.file.extra\"))\n",
    "    message(\"Done!\\n\")\n",
    "} else {\n",
    "    message(\"Genecode file previously downloaded\")\n",
    "}"
   ]
  },
  {
   "cell_type": "markdown",
   "metadata": {},
   "source": [
    "## Mapping the Ensembl geneids to gene symbols\n",
    "\n",
    "The `limma::topTable()` dataframes encode the feature information (genes) as rownames of the dataframe. The values are Ensembl Gene IDs. To map the Gene ids to Gene symbold we will use a the fields in the last column of the relevant GTF file. \n",
    "\n",
    "Note: If you are using GENCODE to retrieve the GTF file, use the relevant field name for the gene ID:\n",
    "\n",
    "| Source | Gene Identifier Name |\n",
    "|---:|:---|\n",
    "| GENCODE|`Geneid`|\n",
    "| Ensembl|`gene_id`|\n",
    "\n",
    "\n",
    "\n",
    "\n",
    "- To parse the GTF file and retrieve the fields associated with the Gene IDs, Gene Symbols etc you could use the following bash snippet, depending on the source of your GTF (Ensembl, GENCODE) as these two files slightly differ.\n",
    "\n",
    "```bash\n",
    "# found here: https://www.biostars.org/p/140471/\n",
    "cd sbas/data\n",
    "\n",
    "zcat gencode.v30.annotation.gtf.gz | awk 'BEGIN{FS=\"\\t\"}{split($9,a,\";\"); if($3~\"gene\") print a[1]\"\\t\"a[3]\"\\t\"$1\":\"$4\"-\"$5\"\\t\"a[2]\"\\t\"$7}' |sed 's/gene_id \"//' | sed 's/gene_id \"//' | sed 's/gene_type \"//'| sed 's/gene_name \"//' | sed 's/\"//g' | awk 'BEGIN{FS=\"\\t\"}{split($3,a,\"[:-]\"); print $1\"\\t\"$2\"\\t\"a[1]\"\\t\"a[2]\"\\t\"a[3]\"\\t\"$4\"\\t\"$5\"\\t\"a[3]-a[2];}' | sed \"1i\\Geneid\\tGeneSymbol\\tChromosome\\tStart\\tEnd\\tClass\\tStrand\\tLength\" > gencode.v30.annotation.gtf.gz.txt\n",
    "\n",
    "zcat Homo_sapiens.GRCh38.100.chr_patch_hapl_scaff.gtf.gz | awk 'BEGIN{FS=\"\\t\"}{split($9,a,\";\"); if($3~\"gene\") print a[1]\"\\t\"a[3]\"\\t\"$1\":\"$4\"-\"$5\"\\t\"a[5]\"\\t\"$7}' | sed 's/gene_id \"//' | sed 's/gene_id \"//' | sed 's/gene_biotype \"//'| sed 's/gene_name \"//' | sed 's/gene_biotype \"//' | sed 's/\"//g' | sed 's/ //g' | sed '1igene_id\\tGeneSymbol\\tChromosome\\tClass\\tStrand' > Homo_sapiens.GRCh38.100.chr_patch_hapl_scaff.gtf.gz.txt \n",
    "```"
   ]
  },
  {
   "cell_type": "code",
   "execution_count": 6,
   "metadata": {},
   "outputs": [],
   "source": [
    "# The following awesome AWK command retrieves the fields we want from the Ensembl GTF file\n",
    "zcat_command = 'zcat Homo_sapiens.GRCh38.100.chr_patch_hapl_scaff.gtf.gz | awk \\'BEGIN{FS=\"\\t\"}{split($9,a,\";\"); if($3~\"gene\") print a[1]\"\\t\"a[3]\"\\t\"$1\":\"$4\"-\"$5\"\\t\"a[5]\"\\t\"$7}\\' | sed \\'s/gene_id \"//\\' | sed \\'s/gene_id \"//\\' | sed \\'s/gene_biotype \"//\\'| sed \\'s/gene_name \"//\\' | sed \\'s/gene_biotype \"//\\' | sed \\'s/\"//g\\' | sed \\'s/ //g\\' | sed \\'1igene_id\\tGeneSymbol\\tChromosome\\tClass\\tStrand\\' > Homo_sapiens.GRCh38.100.chr_patch_hapl_scaff.gtf.gz.txt '\n",
    "command = paste('cd ../data/; ', zcat_command, sep=' ')\n",
    "system(command)"
   ]
  },
  {
   "cell_type": "code",
   "execution_count": 7,
   "metadata": {},
   "outputs": [],
   "source": [
    "# Now do the same for gencode\n",
    "zcat_command = 'zcat gencode.v30.annotation.gtf.gz | awk \\'BEGIN{FS=\"\\t\"}{split($9,a,\";\"); if($3~\"gene\") print a[1]\"\\t\"a[3]\"\\t\"$1\":\"$4\"-\"$5\"\\t\"a[2]\"\\t\"$7}\\' |sed \\'s/gene_id \"//\\' | sed \\'s/gene_id \"//\\' | sed \\'s/gene_type \"//\\'| sed \\'s/gene_name \"//\\' | sed \\'s/\"//g\\' | awk \\'BEGIN{FS=\"\\t\"}{split($3,a,\"[:-]\"); print $1\"\\t\"$2\"\\t\"a[1]\"\\t\"a[2]\"\\t\"a[3]\"\\t\"$4\"\\t\"$5\"\\t\"a[3]-a[2];}\\' | sed \"1i\\tGeneid\\tGeneSymbol\\tChromosome\\tStart\\tEnd\\tClass\\tStrand\\tLength\" > gencode.v30.annotation.gtf.gz.txt'\n",
    "command = paste('cd ../data/; ', zcat_command, sep=' ')\n",
    "system(command)"
   ]
  },
  {
   "cell_type": "markdown",
   "metadata": {},
   "source": [
    "## Preview the GTF tables with the gene attributes\n",
    "\n",
    "To make sure the snippets above have worked as expected, take a look in the tables with `head()`:"
   ]
  },
  {
   "cell_type": "code",
   "execution_count": 8,
   "metadata": {},
   "outputs": [
    {
     "data": {
      "text/html": [
       "<table>\n",
       "<caption>A data.frame: 2 × 5</caption>\n",
       "<thead>\n",
       "\t<tr><th></th><th scope=col>gene_id</th><th scope=col>GeneSymbol</th><th scope=col>Chromosome</th><th scope=col>Class</th><th scope=col>Strand</th></tr>\n",
       "\t<tr><th></th><th scope=col>&lt;fct&gt;</th><th scope=col>&lt;fct&gt;</th><th scope=col>&lt;fct&gt;</th><th scope=col>&lt;fct&gt;</th><th scope=col>&lt;fct&gt;</th></tr>\n",
       "</thead>\n",
       "<tbody>\n",
       "\t<tr><th scope=row>1</th><td>ENSG00000223972</td><td>DDX11L1</td><td>1:11869-14409</td><td>transcribed_unprocessed_pseudogene</td><td>+</td></tr>\n",
       "\t<tr><th scope=row>2</th><td>ENSG00000227232</td><td>WASH7P </td><td>1:14404-29570</td><td>unprocessed_pseudogene            </td><td>-</td></tr>\n",
       "</tbody>\n",
       "</table>\n"
      ],
      "text/latex": [
       "A data.frame: 2 × 5\n",
       "\\begin{tabular}{r|lllll}\n",
       "  & gene\\_id & GeneSymbol & Chromosome & Class & Strand\\\\\n",
       "  & <fct> & <fct> & <fct> & <fct> & <fct>\\\\\n",
       "\\hline\n",
       "\t1 & ENSG00000223972 & DDX11L1 & 1:11869-14409 & transcribed\\_unprocessed\\_pseudogene & +\\\\\n",
       "\t2 & ENSG00000227232 & WASH7P  & 1:14404-29570 & unprocessed\\_pseudogene             & -\\\\\n",
       "\\end{tabular}\n"
      ],
      "text/markdown": [
       "\n",
       "A data.frame: 2 × 5\n",
       "\n",
       "| <!--/--> | gene_id &lt;fct&gt; | GeneSymbol &lt;fct&gt; | Chromosome &lt;fct&gt; | Class &lt;fct&gt; | Strand &lt;fct&gt; |\n",
       "|---|---|---|---|---|---|\n",
       "| 1 | ENSG00000223972 | DDX11L1 | 1:11869-14409 | transcribed_unprocessed_pseudogene | + |\n",
       "| 2 | ENSG00000227232 | WASH7P  | 1:14404-29570 | unprocessed_pseudogene             | - |\n",
       "\n"
      ],
      "text/plain": [
       "  gene_id         GeneSymbol Chromosome    Class                             \n",
       "1 ENSG00000223972 DDX11L1    1:11869-14409 transcribed_unprocessed_pseudogene\n",
       "2 ENSG00000227232 WASH7P     1:14404-29570 unprocessed_pseudogene            \n",
       "  Strand\n",
       "1 +     \n",
       "2 -     "
      ]
     },
     "metadata": {},
     "output_type": "display_data"
    },
    {
     "data": {
      "text/html": [
       "<table>\n",
       "<caption>A data.frame: 2 × 8</caption>\n",
       "<thead>\n",
       "\t<tr><th></th><th scope=col>Geneid</th><th scope=col>GeneSymbol</th><th scope=col>Chromosome</th><th scope=col>Start</th><th scope=col>End</th><th scope=col>Class</th><th scope=col>Strand</th><th scope=col>Length</th></tr>\n",
       "\t<tr><th></th><th scope=col>&lt;fct&gt;</th><th scope=col>&lt;fct&gt;</th><th scope=col>&lt;fct&gt;</th><th scope=col>&lt;int&gt;</th><th scope=col>&lt;int&gt;</th><th scope=col>&lt;fct&gt;</th><th scope=col>&lt;fct&gt;</th><th scope=col>&lt;int&gt;</th></tr>\n",
       "</thead>\n",
       "<tbody>\n",
       "\t<tr><th scope=row>1</th><td>ENSG00000223972.5</td><td>DDX11L1</td><td>chr1</td><td>11869</td><td>14409</td><td>transcribed_unprocessed_pseudogene</td><td>+</td><td> 2540</td></tr>\n",
       "\t<tr><th scope=row>2</th><td>ENSG00000227232.5</td><td>WASH7P </td><td>chr1</td><td>14404</td><td>29570</td><td>unprocessed_pseudogene            </td><td>-</td><td>15166</td></tr>\n",
       "</tbody>\n",
       "</table>\n"
      ],
      "text/latex": [
       "A data.frame: 2 × 8\n",
       "\\begin{tabular}{r|llllllll}\n",
       "  & Geneid & GeneSymbol & Chromosome & Start & End & Class & Strand & Length\\\\\n",
       "  & <fct> & <fct> & <fct> & <int> & <int> & <fct> & <fct> & <int>\\\\\n",
       "\\hline\n",
       "\t1 & ENSG00000223972.5 & DDX11L1 & chr1 & 11869 & 14409 & transcribed\\_unprocessed\\_pseudogene & + &  2540\\\\\n",
       "\t2 & ENSG00000227232.5 & WASH7P  & chr1 & 14404 & 29570 & unprocessed\\_pseudogene             & - & 15166\\\\\n",
       "\\end{tabular}\n"
      ],
      "text/markdown": [
       "\n",
       "A data.frame: 2 × 8\n",
       "\n",
       "| <!--/--> | Geneid &lt;fct&gt; | GeneSymbol &lt;fct&gt; | Chromosome &lt;fct&gt; | Start &lt;int&gt; | End &lt;int&gt; | Class &lt;fct&gt; | Strand &lt;fct&gt; | Length &lt;int&gt; |\n",
       "|---|---|---|---|---|---|---|---|---|\n",
       "| 1 | ENSG00000223972.5 | DDX11L1 | chr1 | 11869 | 14409 | transcribed_unprocessed_pseudogene | + |  2540 |\n",
       "| 2 | ENSG00000227232.5 | WASH7P  | chr1 | 14404 | 29570 | unprocessed_pseudogene             | - | 15166 |\n",
       "\n"
      ],
      "text/plain": [
       "  Geneid            GeneSymbol Chromosome Start End  \n",
       "1 ENSG00000223972.5 DDX11L1    chr1       11869 14409\n",
       "2 ENSG00000227232.5 WASH7P     chr1       14404 29570\n",
       "  Class                              Strand Length\n",
       "1 transcribed_unprocessed_pseudogene +       2540 \n",
       "2 unprocessed_pseudogene             -      15166 "
      ]
     },
     "metadata": {},
     "output_type": "display_data"
    }
   ],
   "source": [
    "ensembl_path <- \"Homo_sapiens.GRCh38.100.chr_patch_hapl_scaff.gtf.gz.txt\"\n",
    "gencode_path <- \"gencode.v30.annotation.gtf.gz.txt\"\n",
    "gtf_ensembl <- read.table(paste0(\"../data/\", ensembl_path), header = TRUE)\n",
    "gtf_gencode <- read.table(paste0(\"../data/\", gencode_path), header = TRUE)\n",
    "\n",
    "head(gtf_ensembl,2)\n",
    "head(gtf_gencode,2)"
   ]
  },
  {
   "cell_type": "markdown",
   "metadata": {},
   "source": [
    "# Create a list of named dataframes with the Differential Gene Expression `limma::topTable()`s\n",
    "\n",
    "We will iterate over the list of named dataframes to collect summary statistics. More specifically, retrieve the count of:\n",
    "- upregulated\n",
    "- downregulated\n",
    "- non significant\n",
    "\n",
    "genes for the contrast males-females per tissue."
   ]
  },
  {
   "cell_type": "code",
   "execution_count": 9,
   "metadata": {},
   "outputs": [],
   "source": [
    "dge_tables_filepaths <- list.files(\"../data/dge/\", pattern = \"*DGE.csv\", full.names = TRUE)\n",
    "dge_tables_filenames <- list.files(\"../data/dge/\", pattern = \"*DGE.csv\", full.names = FALSE)"
   ]
  },
  {
   "cell_type": "code",
   "execution_count": 10,
   "metadata": {},
   "outputs": [],
   "source": [
    "all_topTables <- lapply(dge_tables_filepaths,read.csv)\n",
    "names(all_topTables) <- gsub(\"_DGE.csv\",\"\", dge_tables_filenames, fixed = TRUE)"
   ]
  },
  {
   "cell_type": "markdown",
   "metadata": {},
   "source": [
    "The list named `all_topTables` is the object that holds all the topTable dataframes from each tissue comparison:\n",
    "There should be `39` tissues"
   ]
  },
  {
   "cell_type": "code",
   "execution_count": 11,
   "metadata": {},
   "outputs": [
    {
     "data": {
      "text/html": [
       "39"
      ],
      "text/latex": [
       "39"
      ],
      "text/markdown": [
       "39"
      ],
      "text/plain": [
       "[1] 39"
      ]
     },
     "metadata": {},
     "output_type": "display_data"
    }
   ],
   "source": [
    "length(all_topTables)"
   ]
  },
  {
   "cell_type": "code",
   "execution_count": 12,
   "metadata": {},
   "outputs": [
    {
     "data": {
      "text/plain": [
       "                                      Length Class      Mode\n",
       "adipose_subcutaneous                  6      data.frame list\n",
       "adipose_visceral_omentum              6      data.frame list\n",
       "adrenal_gland                         6      data.frame list\n",
       "artery_aorta                          6      data.frame list\n",
       "artery_coronary                       6      data.frame list\n",
       "artery_tibial                         6      data.frame list\n",
       "brain_caudate_basal_ganglia           6      data.frame list\n",
       "brain_cerebellar_hemisphere           6      data.frame list\n",
       "brain_cerebellum                      6      data.frame list\n",
       "brain_cortex                          6      data.frame list\n",
       "brain_frontal_cortex_ba_9             6      data.frame list\n",
       "brain_hippocampus                     6      data.frame list\n",
       "brain_hypothalamus                    6      data.frame list\n",
       "brain_nucleus_accumbens_basal_ganglia 6      data.frame list\n",
       "brain_putamen_basal_ganglia           6      data.frame list\n",
       "brain_spinal_cord_cervical_c_1        6      data.frame list\n",
       "breast_mammary_tissue                 6      data.frame list\n",
       "cells_cultured_fibroblasts            6      data.frame list\n",
       "cells_ebv_transformed_lymphocytes     6      data.frame list\n",
       "colon_sigmoid                         6      data.frame list\n",
       "colon_transverse                      6      data.frame list\n",
       "esophagus_gastroesophageal_junction   6      data.frame list\n",
       "esophagus_mucosa                      6      data.frame list\n",
       "esophagus_muscularis                  6      data.frame list\n",
       "heart_atrial_appendage                6      data.frame list\n",
       "heart_left_ventricle                  6      data.frame list\n",
       "liver                                 6      data.frame list\n",
       "lung                                  6      data.frame list\n",
       "muscle_skeletal                       6      data.frame list\n",
       "nerve_tibial                          6      data.frame list\n",
       "pancreas                              6      data.frame list\n",
       "pituitary                             6      data.frame list\n",
       "skin_not_sun_exposed_suprapubic       6      data.frame list\n",
       "skin_sun_exposed_lower_leg            6      data.frame list\n",
       "small_intestine_terminal_ileum        6      data.frame list\n",
       "spleen                                6      data.frame list\n",
       "stomach                               6      data.frame list\n",
       "thyroid                               6      data.frame list\n",
       "whole_blood                           6      data.frame list"
      ]
     },
     "metadata": {},
     "output_type": "display_data"
    }
   ],
   "source": [
    "summary(all_topTables)"
   ]
  },
  {
   "cell_type": "markdown",
   "metadata": {},
   "source": [
    "# Trim gene versions from gene names to match Gene Identifiers from GTF (GENCODE, Ensembl)\n",
    "Remove characters after `.` in the Gene Identifier column, since as long as the gene version information is present we will not be able to perform a join, to annotate the toptable dataframes with the GTF gene attrubutes."
   ]
  },
  {
   "cell_type": "code",
   "execution_count": 13,
   "metadata": {},
   "outputs": [],
   "source": [
    "GTF_SOURCE <- \"ensembl\"      # c(\"gencode\", \"ensembl\")\n",
    "GENE_ID    <- \"gene_id\"      # c(\"Geneid\" , \"gene_id\")\n",
    "\n",
    "#GTF_SOURCE <- \"gencode\"      # c(\"gencode\", \"ensembl\")\n",
    "#GENE_ID    <- \"Geneid\"      # c(\"Geneid\" , \"gene_id\")\n",
    "\n",
    "if (GTF_SOURCE == \"gencode\") { GTF <- gtf_gencode}\n",
    "if (GTF_SOURCE == \"ensembl\") { GTF <- gtf_ensembl}\n",
    "\n",
    "GTF[[GENE_ID]]       <- gsub(\"\\\\..*\",\"\", GTF[[GENE_ID]])"
   ]
  },
  {
   "cell_type": "markdown",
   "metadata": {},
   "source": [
    "# Example with one topTable before iterating over all tissues"
   ]
  },
  {
   "cell_type": "code",
   "execution_count": 14,
   "metadata": {},
   "outputs": [
    {
     "data": {
      "text/html": [
       "'adipose_subcutaneous'"
      ],
      "text/latex": [
       "'adipose\\_subcutaneous'"
      ],
      "text/markdown": [
       "'adipose_subcutaneous'"
      ],
      "text/plain": [
       "[1] \"adipose_subcutaneous\""
      ]
     },
     "metadata": {},
     "output_type": "display_data"
    },
    {
     "data": {
      "text/html": [
       "<table>\n",
       "<caption>A data.frame: 2 × 7</caption>\n",
       "<thead>\n",
       "\t<tr><th></th><th scope=col>logFC</th><th scope=col>AveExpr</th><th scope=col>t</th><th scope=col>P.Value</th><th scope=col>adj.P.Val</th><th scope=col>B</th><th scope=col>gene_id</th></tr>\n",
       "\t<tr><th></th><th scope=col>&lt;dbl&gt;</th><th scope=col>&lt;dbl&gt;</th><th scope=col>&lt;dbl&gt;</th><th scope=col>&lt;dbl&gt;</th><th scope=col>&lt;dbl&gt;</th><th scope=col>&lt;dbl&gt;</th><th scope=col>&lt;chr&gt;</th></tr>\n",
       "</thead>\n",
       "<tbody>\n",
       "\t<tr><th scope=row>ENSG00000176728.7</th><td>-7.748207</td><td>-1.0323929</td><td>-104.4253</td><td>4.803353e-308</td><td>2.680943e-303</td><td>671.1671</td><td>ENSG00000176728</td></tr>\n",
       "\t<tr><th scope=row>ENSG00000260197.1</th><td>-8.474073</td><td>-0.7043022</td><td>-101.6645</td><td>3.159370e-303</td><td>8.816855e-299</td><td>663.9100</td><td>ENSG00000260197</td></tr>\n",
       "</tbody>\n",
       "</table>\n"
      ],
      "text/latex": [
       "A data.frame: 2 × 7\n",
       "\\begin{tabular}{r|lllllll}\n",
       "  & logFC & AveExpr & t & P.Value & adj.P.Val & B & gene\\_id\\\\\n",
       "  & <dbl> & <dbl> & <dbl> & <dbl> & <dbl> & <dbl> & <chr>\\\\\n",
       "\\hline\n",
       "\tENSG00000176728.7 & -7.748207 & -1.0323929 & -104.4253 & 4.803353e-308 & 2.680943e-303 & 671.1671 & ENSG00000176728\\\\\n",
       "\tENSG00000260197.1 & -8.474073 & -0.7043022 & -101.6645 & 3.159370e-303 & 8.816855e-299 & 663.9100 & ENSG00000260197\\\\\n",
       "\\end{tabular}\n"
      ],
      "text/markdown": [
       "\n",
       "A data.frame: 2 × 7\n",
       "\n",
       "| <!--/--> | logFC &lt;dbl&gt; | AveExpr &lt;dbl&gt; | t &lt;dbl&gt; | P.Value &lt;dbl&gt; | adj.P.Val &lt;dbl&gt; | B &lt;dbl&gt; | gene_id &lt;chr&gt; |\n",
       "|---|---|---|---|---|---|---|---|\n",
       "| ENSG00000176728.7 | -7.748207 | -1.0323929 | -104.4253 | 4.803353e-308 | 2.680943e-303 | 671.1671 | ENSG00000176728 |\n",
       "| ENSG00000260197.1 | -8.474073 | -0.7043022 | -101.6645 | 3.159370e-303 | 8.816855e-299 | 663.9100 | ENSG00000260197 |\n",
       "\n"
      ],
      "text/plain": [
       "                  logFC     AveExpr    t         P.Value       adj.P.Val    \n",
       "ENSG00000176728.7 -7.748207 -1.0323929 -104.4253 4.803353e-308 2.680943e-303\n",
       "ENSG00000260197.1 -8.474073 -0.7043022 -101.6645 3.159370e-303 8.816855e-299\n",
       "                  B        gene_id        \n",
       "ENSG00000176728.7 671.1671 ENSG00000176728\n",
       "ENSG00000260197.1 663.9100 ENSG00000260197"
      ]
     },
     "metadata": {},
     "output_type": "display_data"
    },
    {
     "data": {
      "text/html": [
       "<table>\n",
       "<caption>A data.frame: 2 × 5</caption>\n",
       "<thead>\n",
       "\t<tr><th></th><th scope=col>gene_id</th><th scope=col>GeneSymbol</th><th scope=col>Chromosome</th><th scope=col>Class</th><th scope=col>Strand</th></tr>\n",
       "\t<tr><th></th><th scope=col>&lt;chr&gt;</th><th scope=col>&lt;fct&gt;</th><th scope=col>&lt;fct&gt;</th><th scope=col>&lt;fct&gt;</th><th scope=col>&lt;fct&gt;</th></tr>\n",
       "</thead>\n",
       "<tbody>\n",
       "\t<tr><th scope=row>1</th><td>ENSG00000223972</td><td>DDX11L1</td><td>1:11869-14409</td><td>transcribed_unprocessed_pseudogene</td><td>+</td></tr>\n",
       "\t<tr><th scope=row>2</th><td>ENSG00000227232</td><td>WASH7P </td><td>1:14404-29570</td><td>unprocessed_pseudogene            </td><td>-</td></tr>\n",
       "</tbody>\n",
       "</table>\n"
      ],
      "text/latex": [
       "A data.frame: 2 × 5\n",
       "\\begin{tabular}{r|lllll}\n",
       "  & gene\\_id & GeneSymbol & Chromosome & Class & Strand\\\\\n",
       "  & <chr> & <fct> & <fct> & <fct> & <fct>\\\\\n",
       "\\hline\n",
       "\t1 & ENSG00000223972 & DDX11L1 & 1:11869-14409 & transcribed\\_unprocessed\\_pseudogene & +\\\\\n",
       "\t2 & ENSG00000227232 & WASH7P  & 1:14404-29570 & unprocessed\\_pseudogene             & -\\\\\n",
       "\\end{tabular}\n"
      ],
      "text/markdown": [
       "\n",
       "A data.frame: 2 × 5\n",
       "\n",
       "| <!--/--> | gene_id &lt;chr&gt; | GeneSymbol &lt;fct&gt; | Chromosome &lt;fct&gt; | Class &lt;fct&gt; | Strand &lt;fct&gt; |\n",
       "|---|---|---|---|---|---|\n",
       "| 1 | ENSG00000223972 | DDX11L1 | 1:11869-14409 | transcribed_unprocessed_pseudogene | + |\n",
       "| 2 | ENSG00000227232 | WASH7P  | 1:14404-29570 | unprocessed_pseudogene             | - |\n",
       "\n"
      ],
      "text/plain": [
       "  gene_id         GeneSymbol Chromosome    Class                             \n",
       "1 ENSG00000223972 DDX11L1    1:11869-14409 transcribed_unprocessed_pseudogene\n",
       "2 ENSG00000227232 WASH7P     1:14404-29570 unprocessed_pseudogene            \n",
       "  Strand\n",
       "1 +     \n",
       "2 -     "
      ]
     },
     "metadata": {},
     "output_type": "display_data"
    }
   ],
   "source": [
    "# Example topTable and name\n",
    "topTable <- all_topTables[[1]]\n",
    "name     <- names( all_topTables)[1]\n",
    "topTable[[GENE_ID]]  <- gsub(\"\\\\..*\",\"\", rownames(topTable))\n",
    "name\n",
    "head(topTable,2)\n",
    "head(GTF, 2)"
   ]
  },
  {
   "cell_type": "markdown",
   "metadata": {},
   "source": [
    "## Defining the thresholds for the double criterion filtering:\n",
    "\n",
    "Criteria:\n",
    "- Adjusted p-value < `p_value_cuttoff`\n",
    "- Absolute FoldChange > `absFold_change_threshold`"
   ]
  },
  {
   "cell_type": "markdown",
   "metadata": {},
   "source": [
    "----\n",
    "\n",
    "***NOTE***\n",
    "\n",
    "Defining higher in males or females based on the limma design matrix.\n",
    "As we have used 1 for encoding the females and 2 for the males, our *reference level* for the contrast in the expression between males and females is 1, the females.\n",
    "\n",
    "\n",
    "From the `limma` documentation:\n",
    ">The level which is chosen for the *reference level* is the level which is contrasted against. By default, this is simply the first level alphabetically. We can specify that we want group 2 to be the reference level by either using the relevel function [..]\n",
    "\n",
    "By convention, we could say that genes with positive log fold change, are higher in males, whereas the opposite holds true for the ones that are observed to have negative log fold change. \n",
    "\n",
    "---"
   ]
  },
  {
   "cell_type": "code",
   "execution_count": 15,
   "metadata": {},
   "outputs": [],
   "source": [
    "adj.P.Val_threshold  <- 0.5\n",
    "absFoldChange_cutoff <- 1.5"
   ]
  },
  {
   "cell_type": "markdown",
   "metadata": {},
   "source": [
    "Replacing potential `NA` values in the `P.Value`, `adj.P.Val` to keep the columns numeric and avoid coersion."
   ]
  },
  {
   "cell_type": "code",
   "execution_count": 16,
   "metadata": {},
   "outputs": [],
   "source": [
    "# replacing NA p-values with p-value = 1\n",
    "topTable$P.Value[is.na(topTable$P.Value)]     <- 1; \n",
    "topTable$adj.P.Val[is.na(topTable$adj.P.Val)] <- 1;"
   ]
  },
  {
   "cell_type": "code",
   "execution_count": 17,
   "metadata": {},
   "outputs": [],
   "source": [
    "# Add helper variable dummy `FoldChange` variable. Use 2 as base of log, because this is the default from limma\n",
    "# The following statement calculates a dummy fold change (how many times higher or lower)\n",
    "# The minus symbol is a convention symbol only! to express eg. a fold change of 0.25 as -4, 4 times lower\n",
    "topTable$FoldChange_dummy    <-   ifelse(topTable$logFC > 0, 2 ^ topTable$logFC, -1 / (2 ^ topTable$logFC))                    \n",
    "\n",
    "# Add helper variable `abs_logFC`.\n",
    "topTable$abs_logFC <- abs(topTable$logFC)\n",
    "\n",
    "# Add helper variable `abundance` for up, down, non_signif\n",
    "topTable$abundance                                                  <- \"non_signif\"\n",
    "topTable$abundance[(topTable$logFC >=   log2(absFoldChange_cutoff)) & (topTable$adj.P.Val <= adj.P.Val_threshold )]   <- \"higher\"\n",
    "topTable$abundance[(topTable$logFC <=  -log2(absFoldChange_cutoff)) & (topTable$adj.P.Val <= adj.P.Val_threshold )]   <- \"lower\""
   ]
  },
  {
   "cell_type": "code",
   "execution_count": 18,
   "metadata": {},
   "outputs": [
    {
     "data": {
      "text/html": [
       "<table>\n",
       "<caption>A data.frame: 6 × 10</caption>\n",
       "<thead>\n",
       "\t<tr><th></th><th scope=col>logFC</th><th scope=col>AveExpr</th><th scope=col>t</th><th scope=col>P.Value</th><th scope=col>adj.P.Val</th><th scope=col>B</th><th scope=col>gene_id</th><th scope=col>FoldChange_dummy</th><th scope=col>abs_logFC</th><th scope=col>abundance</th></tr>\n",
       "\t<tr><th></th><th scope=col>&lt;dbl&gt;</th><th scope=col>&lt;dbl&gt;</th><th scope=col>&lt;dbl&gt;</th><th scope=col>&lt;dbl&gt;</th><th scope=col>&lt;dbl&gt;</th><th scope=col>&lt;dbl&gt;</th><th scope=col>&lt;chr&gt;</th><th scope=col>&lt;dbl&gt;</th><th scope=col>&lt;dbl&gt;</th><th scope=col>&lt;chr&gt;</th></tr>\n",
       "</thead>\n",
       "<tbody>\n",
       "\t<tr><th scope=row>ENSG00000176728.7</th><td>-7.748207</td><td>-1.0323929</td><td>-104.42525</td><td>4.803353e-308</td><td>2.680943e-303</td><td>671.1671</td><td>ENSG00000176728</td><td>-215.00207</td><td>7.748207</td><td>lower</td></tr>\n",
       "\t<tr><th scope=row>ENSG00000260197.1</th><td>-8.474073</td><td>-0.7043022</td><td>-101.66447</td><td>3.159370e-303</td><td>8.816855e-299</td><td>663.9100</td><td>ENSG00000260197</td><td>-355.59053</td><td>8.474073</td><td>lower</td></tr>\n",
       "\t<tr><th scope=row>ENSG00000231535.5</th><td>-5.967284</td><td>-2.8393448</td><td>-100.45548</td><td>4.441637e-301</td><td>8.263518e-297</td><td>662.6696</td><td>ENSG00000231535</td><td> -62.56498</td><td>5.967284</td><td>lower</td></tr>\n",
       "\t<tr><th scope=row>ENSG00000229236.1</th><td>-6.004324</td><td>-2.8556966</td><td> -97.58577</td><td>6.958504e-296</td><td>7.767639e-292</td><td>651.9625</td><td>ENSG00000229236</td><td> -64.19212</td><td>6.004324</td><td>lower</td></tr>\n",
       "\t<tr><th scope=row>ENSG00000129824.15</th><td>-9.477673</td><td> 4.5387832</td><td> -94.53313</td><td>3.342811e-290</td><td>3.109594e-286</td><td>632.7641</td><td>ENSG00000129824</td><td>-712.95772</td><td>9.477673</td><td>lower</td></tr>\n",
       "\t<tr><th scope=row>ENSG00000067646.11</th><td>-9.267686</td><td> 0.6631333</td><td> -98.59282</td><td>1.008611e-297</td><td>1.407365e-293</td><td>631.6809</td><td>ENSG00000067646</td><td>-616.38424</td><td>9.267686</td><td>lower</td></tr>\n",
       "</tbody>\n",
       "</table>\n"
      ],
      "text/latex": [
       "A data.frame: 6 × 10\n",
       "\\begin{tabular}{r|llllllllll}\n",
       "  & logFC & AveExpr & t & P.Value & adj.P.Val & B & gene\\_id & FoldChange\\_dummy & abs\\_logFC & abundance\\\\\n",
       "  & <dbl> & <dbl> & <dbl> & <dbl> & <dbl> & <dbl> & <chr> & <dbl> & <dbl> & <chr>\\\\\n",
       "\\hline\n",
       "\tENSG00000176728.7 & -7.748207 & -1.0323929 & -104.42525 & 4.803353e-308 & 2.680943e-303 & 671.1671 & ENSG00000176728 & -215.00207 & 7.748207 & lower\\\\\n",
       "\tENSG00000260197.1 & -8.474073 & -0.7043022 & -101.66447 & 3.159370e-303 & 8.816855e-299 & 663.9100 & ENSG00000260197 & -355.59053 & 8.474073 & lower\\\\\n",
       "\tENSG00000231535.5 & -5.967284 & -2.8393448 & -100.45548 & 4.441637e-301 & 8.263518e-297 & 662.6696 & ENSG00000231535 &  -62.56498 & 5.967284 & lower\\\\\n",
       "\tENSG00000229236.1 & -6.004324 & -2.8556966 &  -97.58577 & 6.958504e-296 & 7.767639e-292 & 651.9625 & ENSG00000229236 &  -64.19212 & 6.004324 & lower\\\\\n",
       "\tENSG00000129824.15 & -9.477673 &  4.5387832 &  -94.53313 & 3.342811e-290 & 3.109594e-286 & 632.7641 & ENSG00000129824 & -712.95772 & 9.477673 & lower\\\\\n",
       "\tENSG00000067646.11 & -9.267686 &  0.6631333 &  -98.59282 & 1.008611e-297 & 1.407365e-293 & 631.6809 & ENSG00000067646 & -616.38424 & 9.267686 & lower\\\\\n",
       "\\end{tabular}\n"
      ],
      "text/markdown": [
       "\n",
       "A data.frame: 6 × 10\n",
       "\n",
       "| <!--/--> | logFC &lt;dbl&gt; | AveExpr &lt;dbl&gt; | t &lt;dbl&gt; | P.Value &lt;dbl&gt; | adj.P.Val &lt;dbl&gt; | B &lt;dbl&gt; | gene_id &lt;chr&gt; | FoldChange_dummy &lt;dbl&gt; | abs_logFC &lt;dbl&gt; | abundance &lt;chr&gt; |\n",
       "|---|---|---|---|---|---|---|---|---|---|---|\n",
       "| ENSG00000176728.7 | -7.748207 | -1.0323929 | -104.42525 | 4.803353e-308 | 2.680943e-303 | 671.1671 | ENSG00000176728 | -215.00207 | 7.748207 | lower |\n",
       "| ENSG00000260197.1 | -8.474073 | -0.7043022 | -101.66447 | 3.159370e-303 | 8.816855e-299 | 663.9100 | ENSG00000260197 | -355.59053 | 8.474073 | lower |\n",
       "| ENSG00000231535.5 | -5.967284 | -2.8393448 | -100.45548 | 4.441637e-301 | 8.263518e-297 | 662.6696 | ENSG00000231535 |  -62.56498 | 5.967284 | lower |\n",
       "| ENSG00000229236.1 | -6.004324 | -2.8556966 |  -97.58577 | 6.958504e-296 | 7.767639e-292 | 651.9625 | ENSG00000229236 |  -64.19212 | 6.004324 | lower |\n",
       "| ENSG00000129824.15 | -9.477673 |  4.5387832 |  -94.53313 | 3.342811e-290 | 3.109594e-286 | 632.7641 | ENSG00000129824 | -712.95772 | 9.477673 | lower |\n",
       "| ENSG00000067646.11 | -9.267686 |  0.6631333 |  -98.59282 | 1.008611e-297 | 1.407365e-293 | 631.6809 | ENSG00000067646 | -616.38424 | 9.267686 | lower |\n",
       "\n"
      ],
      "text/plain": [
       "                   logFC     AveExpr    t          P.Value       adj.P.Val    \n",
       "ENSG00000176728.7  -7.748207 -1.0323929 -104.42525 4.803353e-308 2.680943e-303\n",
       "ENSG00000260197.1  -8.474073 -0.7043022 -101.66447 3.159370e-303 8.816855e-299\n",
       "ENSG00000231535.5  -5.967284 -2.8393448 -100.45548 4.441637e-301 8.263518e-297\n",
       "ENSG00000229236.1  -6.004324 -2.8556966  -97.58577 6.958504e-296 7.767639e-292\n",
       "ENSG00000129824.15 -9.477673  4.5387832  -94.53313 3.342811e-290 3.109594e-286\n",
       "ENSG00000067646.11 -9.267686  0.6631333  -98.59282 1.008611e-297 1.407365e-293\n",
       "                   B        gene_id         FoldChange_dummy abs_logFC\n",
       "ENSG00000176728.7  671.1671 ENSG00000176728 -215.00207       7.748207 \n",
       "ENSG00000260197.1  663.9100 ENSG00000260197 -355.59053       8.474073 \n",
       "ENSG00000231535.5  662.6696 ENSG00000231535  -62.56498       5.967284 \n",
       "ENSG00000229236.1  651.9625 ENSG00000229236  -64.19212       6.004324 \n",
       "ENSG00000129824.15 632.7641 ENSG00000129824 -712.95772       9.477673 \n",
       "ENSG00000067646.11 631.6809 ENSG00000067646 -616.38424       9.267686 \n",
       "                   abundance\n",
       "ENSG00000176728.7  lower    \n",
       "ENSG00000260197.1  lower    \n",
       "ENSG00000231535.5  lower    \n",
       "ENSG00000229236.1  lower    \n",
       "ENSG00000129824.15 lower    \n",
       "ENSG00000067646.11 lower    "
      ]
     },
     "metadata": {},
     "output_type": "display_data"
    }
   ],
   "source": [
    "head(topTable)"
   ]
  },
  {
   "cell_type": "markdown",
   "metadata": {},
   "source": [
    "# Define a vector with the columns to keep in the annotated from GTF `topTable` object"
   ]
  },
  {
   "cell_type": "code",
   "execution_count": 19,
   "metadata": {},
   "outputs": [],
   "source": [
    "toKeep <- c(\"Geneid\",\"logFC\",\"FoldChange_dummy\", \"adj.P.Val\", \"abundance\")"
   ]
  },
  {
   "cell_type": "code",
   "execution_count": 20,
   "metadata": {},
   "outputs": [
    {
     "data": {
      "text/html": [
       "<table>\n",
       "<caption>A data.frame: 2 × 4</caption>\n",
       "<thead>\n",
       "\t<tr><th></th><th scope=col>logFC</th><th scope=col>adj.P.Val</th><th scope=col>FoldChange_dummy</th><th scope=col>abundance</th></tr>\n",
       "\t<tr><th></th><th scope=col>&lt;dbl&gt;</th><th scope=col>&lt;dbl&gt;</th><th scope=col>&lt;dbl&gt;</th><th scope=col>&lt;chr&gt;</th></tr>\n",
       "</thead>\n",
       "<tbody>\n",
       "\t<tr><th scope=row>ENSG00000176728.7</th><td>-7.748207</td><td>2.680943e-303</td><td>-215.0021</td><td>lower</td></tr>\n",
       "\t<tr><th scope=row>ENSG00000260197.1</th><td>-8.474073</td><td>8.816855e-299</td><td>-355.5905</td><td>lower</td></tr>\n",
       "</tbody>\n",
       "</table>\n"
      ],
      "text/latex": [
       "A data.frame: 2 × 4\n",
       "\\begin{tabular}{r|llll}\n",
       "  & logFC & adj.P.Val & FoldChange\\_dummy & abundance\\\\\n",
       "  & <dbl> & <dbl> & <dbl> & <chr>\\\\\n",
       "\\hline\n",
       "\tENSG00000176728.7 & -7.748207 & 2.680943e-303 & -215.0021 & lower\\\\\n",
       "\tENSG00000260197.1 & -8.474073 & 8.816855e-299 & -355.5905 & lower\\\\\n",
       "\\end{tabular}\n"
      ],
      "text/markdown": [
       "\n",
       "A data.frame: 2 × 4\n",
       "\n",
       "| <!--/--> | logFC &lt;dbl&gt; | adj.P.Val &lt;dbl&gt; | FoldChange_dummy &lt;dbl&gt; | abundance &lt;chr&gt; |\n",
       "|---|---|---|---|---|\n",
       "| ENSG00000176728.7 | -7.748207 | 2.680943e-303 | -215.0021 | lower |\n",
       "| ENSG00000260197.1 | -8.474073 | 8.816855e-299 | -355.5905 | lower |\n",
       "\n"
      ],
      "text/plain": [
       "                  logFC     adj.P.Val     FoldChange_dummy abundance\n",
       "ENSG00000176728.7 -7.748207 2.680943e-303 -215.0021        lower    \n",
       "ENSG00000260197.1 -8.474073 8.816855e-299 -355.5905        lower    "
      ]
     },
     "metadata": {},
     "output_type": "display_data"
    }
   ],
   "source": [
    "head(topTable[ , colnames(topTable) %in% toKeep ],2)"
   ]
  },
  {
   "cell_type": "code",
   "execution_count": 21,
   "metadata": {},
   "outputs": [
    {
     "data": {
      "text/html": [
       "'adipose_subcutaneous'"
      ],
      "text/latex": [
       "'adipose\\_subcutaneous'"
      ],
      "text/markdown": [
       "'adipose_subcutaneous'"
      ],
      "text/plain": [
       "[1] \"adipose_subcutaneous\""
      ]
     },
     "metadata": {},
     "output_type": "display_data"
    },
    {
     "data": {
      "text/html": [
       "<style>\n",
       ".list-inline {list-style: none; margin:0; padding: 0}\n",
       ".list-inline>li {display: inline-block}\n",
       ".list-inline>li:not(:last-child)::after {content: \"\\00b7\"; padding: 0 .5ex}\n",
       "</style>\n",
       "<ol class=list-inline><li>55814</li><li>10</li></ol>\n"
      ],
      "text/latex": [
       "\\begin{enumerate*}\n",
       "\\item 55814\n",
       "\\item 10\n",
       "\\end{enumerate*}\n"
      ],
      "text/markdown": [
       "1. 55814\n",
       "2. 10\n",
       "\n",
       "\n"
      ],
      "text/plain": [
       "[1] 55814    10"
      ]
     },
     "metadata": {},
     "output_type": "display_data"
    },
    {
     "data": {
      "text/html": [
       "<style>\n",
       ".list-inline {list-style: none; margin:0; padding: 0}\n",
       ".list-inline>li {display: inline-block}\n",
       ".list-inline>li:not(:last-child)::after {content: \"\\00b7\"; padding: 0 .5ex}\n",
       "</style>\n",
       "<ol class=list-inline><li>638</li><li>10</li></ol>\n"
      ],
      "text/latex": [
       "\\begin{enumerate*}\n",
       "\\item 638\n",
       "\\item 10\n",
       "\\end{enumerate*}\n"
      ],
      "text/markdown": [
       "1. 638\n",
       "2. 10\n",
       "\n",
       "\n"
      ],
      "text/plain": [
       "[1] 638  10"
      ]
     },
     "metadata": {},
     "output_type": "display_data"
    },
    {
     "data": {
      "text/html": [
       "<style>\n",
       ".list-inline {list-style: none; margin:0; padding: 0}\n",
       ".list-inline>li {display: inline-block}\n",
       ".list-inline>li:not(:last-child)::after {content: \"\\00b7\"; padding: 0 .5ex}\n",
       "</style>\n",
       "<ol class=list-inline><li>638</li><li>10</li></ol>\n"
      ],
      "text/latex": [
       "\\begin{enumerate*}\n",
       "\\item 638\n",
       "\\item 10\n",
       "\\end{enumerate*}\n"
      ],
      "text/markdown": [
       "1. 638\n",
       "2. 10\n",
       "\n",
       "\n"
      ],
      "text/plain": [
       "[1] 638  10"
      ]
     },
     "metadata": {},
     "output_type": "display_data"
    }
   ],
   "source": [
    "name\n",
    "dim(topTable)\n",
    "dim(topTable [topTable$abundance != \"non_signif\",  ])\n",
    "dim(topTable [ (topTable$abundance != \"non_signif\" )  & (topTable$adj.P.Val <= adj.P.Val_threshold ) ,  ])"
   ]
  },
  {
   "cell_type": "code",
   "execution_count": 22,
   "metadata": {},
   "outputs": [
    {
     "data": {
      "text/plain": [
       "      \n",
       "       higher lower non_signif\n",
       "  [1,]    312   326      55176"
      ]
     },
     "metadata": {},
     "output_type": "display_data"
    }
   ],
   "source": [
    "expression_abundance <- t(table(topTable$abundance))\n",
    "expression_abundance"
   ]
  },
  {
   "cell_type": "code",
   "execution_count": 23,
   "metadata": {},
   "outputs": [],
   "source": [
    "expression_abundance <- t(table(topTable$abundance))\n",
    "signif <- as.data.frame.matrix(expression_abundance)"
   ]
  },
  {
   "cell_type": "code",
   "execution_count": 24,
   "metadata": {},
   "outputs": [
    {
     "data": {
      "text/html": [
       "<table>\n",
       "<caption>A data.frame: 1 × 3</caption>\n",
       "<thead>\n",
       "\t<tr><th scope=col>higher</th><th scope=col>lower</th><th scope=col>non_signif</th></tr>\n",
       "\t<tr><th scope=col>&lt;int&gt;</th><th scope=col>&lt;int&gt;</th><th scope=col>&lt;int&gt;</th></tr>\n",
       "</thead>\n",
       "<tbody>\n",
       "\t<tr><td>312</td><td>326</td><td>55176</td></tr>\n",
       "</tbody>\n",
       "</table>\n"
      ],
      "text/latex": [
       "A data.frame: 1 × 3\n",
       "\\begin{tabular}{lll}\n",
       " higher & lower & non\\_signif\\\\\n",
       " <int> & <int> & <int>\\\\\n",
       "\\hline\n",
       "\t 312 & 326 & 55176\\\\\n",
       "\\end{tabular}\n"
      ],
      "text/markdown": [
       "\n",
       "A data.frame: 1 × 3\n",
       "\n",
       "| higher &lt;int&gt; | lower &lt;int&gt; | non_signif &lt;int&gt; |\n",
       "|---|---|---|\n",
       "| 312 | 326 | 55176 |\n",
       "\n"
      ],
      "text/plain": [
       "  higher lower non_signif\n",
       "1 312    326   55176     "
      ]
     },
     "metadata": {},
     "output_type": "display_data"
    }
   ],
   "source": [
    "signif"
   ]
  },
  {
   "cell_type": "markdown",
   "metadata": {},
   "source": [
    "To avoid errors in the cases that we might have none lower or none higher, and the matrix might be missing columns we will create a template data.frame and also add the column that might be missing if lower or higher genes is equal to 0."
   ]
  },
  {
   "cell_type": "code",
   "execution_count": 25,
   "metadata": {},
   "outputs": [
    {
     "data": {
      "text/html": [
       "<table>\n",
       "<caption>A data.frame: 0 × 3</caption>\n",
       "<thead>\n",
       "\t<tr><th scope=col>higher</th><th scope=col>lower</th><th scope=col>non_signif</th></tr>\n",
       "\t<tr><th scope=col>&lt;int&gt;</th><th scope=col>&lt;int&gt;</th><th scope=col>&lt;int&gt;</th></tr>\n",
       "</thead>\n",
       "<tbody>\n",
       "</tbody>\n",
       "</table>\n"
      ],
      "text/latex": [
       "A data.frame: 0 × 3\n",
       "\\begin{tabular}{lll}\n",
       " higher & lower & non\\_signif\\\\\n",
       " <int> & <int> & <int>\\\\\n",
       "\\hline\n",
       "\\end{tabular}\n"
      ],
      "text/markdown": [
       "\n",
       "A data.frame: 0 × 3\n",
       "\n",
       "| higher &lt;int&gt; | lower &lt;int&gt; | non_signif &lt;int&gt; |\n",
       "|---|---|---|\n",
       "\n"
      ],
      "text/plain": [
       "     higher lower non_signif"
      ]
     },
     "metadata": {},
     "output_type": "display_data"
    }
   ],
   "source": [
    "signif_template <- structure(list(higher = integer(0), \n",
    "                                   lower = integer(0), \n",
    "                                   non_signif = integer(0)), \n",
    "                              row.names = integer(0), class = \"data.frame\")\n",
    "signif_template"
   ]
  },
  {
   "cell_type": "markdown",
   "metadata": {},
   "source": [
    "In the for-loop we will check if both columns `lower`, `higher` are present, if not add the column and zero count to create the expected shape of the dataframe:\n",
    "\n",
    "```R\n",
    "signif <- as.data.frame.matrix(expression_abundance)\n",
    "if(! (\"higher\" %in% colnames(signif))) { \n",
    "    \n",
    "    signif$higher <- 0\n",
    "}\n",
    "if(! (\"lower\" %in% colnames(signif))) { \n",
    "\n",
    "    signif$lower <- 0\n",
    "}\n",
    "```"
   ]
  },
  {
   "cell_type": "markdown",
   "metadata": {},
   "source": [
    "Now we can add some more summary statistics eg percentage of genes lower, higher or non-significantly different, "
   ]
  },
  {
   "cell_type": "code",
   "execution_count": 26,
   "metadata": {},
   "outputs": [
    {
     "data": {
      "text/html": [
       "<table>\n",
       "<caption>A data.frame: 1 × 7</caption>\n",
       "<thead>\n",
       "\t<tr><th scope=col>tissue</th><th scope=col>non_signif</th><th scope=col>lower</th><th scope=col>higher</th><th scope=col>% lower</th><th scope=col>% higher</th><th scope=col>% non-signif</th></tr>\n",
       "\t<tr><th scope=col>&lt;chr&gt;</th><th scope=col>&lt;int&gt;</th><th scope=col>&lt;int&gt;</th><th scope=col>&lt;int&gt;</th><th scope=col>&lt;dbl&gt;</th><th scope=col>&lt;dbl&gt;</th><th scope=col>&lt;dbl&gt;</th></tr>\n",
       "</thead>\n",
       "<tbody>\n",
       "\t<tr><td>adipose_subcutaneous</td><td>55176</td><td>326</td><td>312</td><td>0.58</td><td>0.56</td><td>98.86</td></tr>\n",
       "</tbody>\n",
       "</table>\n"
      ],
      "text/latex": [
       "A data.frame: 1 × 7\n",
       "\\begin{tabular}{lllllll}\n",
       " tissue & non\\_signif & lower & higher & \\% lower & \\% higher & \\% non-signif\\\\\n",
       " <chr> & <int> & <int> & <int> & <dbl> & <dbl> & <dbl>\\\\\n",
       "\\hline\n",
       "\t adipose\\_subcutaneous & 55176 & 326 & 312 & 0.58 & 0.56 & 98.86\\\\\n",
       "\\end{tabular}\n"
      ],
      "text/markdown": [
       "\n",
       "A data.frame: 1 × 7\n",
       "\n",
       "| tissue &lt;chr&gt; | non_signif &lt;int&gt; | lower &lt;int&gt; | higher &lt;int&gt; | % lower &lt;dbl&gt; | % higher &lt;dbl&gt; | % non-signif &lt;dbl&gt; |\n",
       "|---|---|---|---|---|---|---|\n",
       "| adipose_subcutaneous | 55176 | 326 | 312 | 0.58 | 0.56 | 98.86 |\n",
       "\n"
      ],
      "text/plain": [
       "  tissue               non_signif lower higher % lower % higher % non-signif\n",
       "1 adipose_subcutaneous 55176      326   312    0.58    0.56     98.86       "
      ]
     },
     "metadata": {},
     "output_type": "display_data"
    }
   ],
   "source": [
    "signif$tissue <- name\n",
    "signif$sum    <- signif$non_signif + signif$higher + signif$lower\n",
    "toKeepInOrder <- c(\"tissue\", \"non_signif\", \"lower\", \"higher\", \"% lower\", \"% higher\", \"% non-signif\")\n",
    "signif$`% higher`     <-  round(signif$higher / signif$sum  * 100, 2)\n",
    "signif$`% lower`      <-  round(signif$lower / signif$sum  * 100, 2)\n",
    "signif$`% non-signif` <-  round(signif$non_signif / signif$sum  * 100, 2)\n",
    "signif <- signif[, toKeepInOrder]\n",
    "signif"
   ]
  },
  {
   "cell_type": "markdown",
   "metadata": {},
   "source": [
    "# Summary table of differentially expressed genes between male and female acrosss tissues\n",
    "\n",
    "Above we demonstrate for one example limma `topTable`. Let's now iterate over all tissue and create an aggregated table of counts of differentially expressed or non-significantly altered between the two sexes."
   ]
  },
  {
   "cell_type": "code",
   "execution_count": 27,
   "metadata": {},
   "outputs": [
    {
     "name": "stderr",
     "output_type": "stream",
     "text": [
      "adipose_subcutaneous, N features before GTF merge: 55814, after: 55814\n",
      "\n",
      "adipose_visceral_omentum, N features before GTF merge: 55814, after: 55814\n",
      "\n",
      "adrenal_gland, N features before GTF merge: 55814, after: 55814\n",
      "\n",
      "artery_aorta, N features before GTF merge: 55814, after: 55814\n",
      "\n",
      "artery_coronary, N features before GTF merge: 55814, after: 55814\n",
      "\n",
      "artery_tibial, N features before GTF merge: 55814, after: 55814\n",
      "\n",
      "brain_caudate_basal_ganglia, N features before GTF merge: 55814, after: 55814\n",
      "\n",
      "brain_cerebellar_hemisphere, N features before GTF merge: 55814, after: 55814\n",
      "\n",
      "brain_cerebellum, N features before GTF merge: 55814, after: 55814\n",
      "\n",
      "brain_cortex, N features before GTF merge: 55814, after: 55814\n",
      "\n",
      "brain_frontal_cortex_ba_9, N features before GTF merge: 55814, after: 55814\n",
      "\n",
      "brain_hippocampus, N features before GTF merge: 55814, after: 55814\n",
      "\n",
      "brain_hypothalamus, N features before GTF merge: 55814, after: 55814\n",
      "\n",
      "brain_nucleus_accumbens_basal_ganglia, N features before GTF merge: 55814, after: 55814\n",
      "\n",
      "brain_putamen_basal_ganglia, N features before GTF merge: 55814, after: 55814\n",
      "\n",
      "brain_spinal_cord_cervical_c_1, N features before GTF merge: 55814, after: 55814\n",
      "\n",
      "breast_mammary_tissue, N features before GTF merge: 55814, after: 55814\n",
      "\n",
      "cells_cultured_fibroblasts, N features before GTF merge: 55814, after: 55814\n",
      "\n",
      "cells_ebv_transformed_lymphocytes, N features before GTF merge: 55814, after: 55814\n",
      "\n",
      "colon_sigmoid, N features before GTF merge: 55814, after: 55814\n",
      "\n",
      "colon_transverse, N features before GTF merge: 55814, after: 55814\n",
      "\n",
      "esophagus_gastroesophageal_junction, N features before GTF merge: 55814, after: 55814\n",
      "\n",
      "esophagus_mucosa, N features before GTF merge: 55814, after: 55814\n",
      "\n",
      "esophagus_muscularis, N features before GTF merge: 55814, after: 55814\n",
      "\n",
      "heart_atrial_appendage, N features before GTF merge: 55814, after: 55814\n",
      "\n",
      "heart_left_ventricle, N features before GTF merge: 55814, after: 55814\n",
      "\n",
      "liver, N features before GTF merge: 55814, after: 55814\n",
      "\n",
      "lung, N features before GTF merge: 55814, after: 55814\n",
      "\n",
      "muscle_skeletal, N features before GTF merge: 55814, after: 55814\n",
      "\n",
      "nerve_tibial, N features before GTF merge: 55814, after: 55814\n",
      "\n",
      "pancreas, N features before GTF merge: 55814, after: 55814\n",
      "\n",
      "pituitary, N features before GTF merge: 55814, after: 55814\n",
      "\n",
      "skin_not_sun_exposed_suprapubic, N features before GTF merge: 55814, after: 55814\n",
      "\n",
      "skin_sun_exposed_lower_leg, N features before GTF merge: 55814, after: 55814\n",
      "\n",
      "small_intestine_terminal_ileum, N features before GTF merge: 55814, after: 55814\n",
      "\n",
      "spleen, N features before GTF merge: 55814, after: 55814\n",
      "\n",
      "stomach, N features before GTF merge: 55814, after: 55814\n",
      "\n",
      "thyroid, N features before GTF merge: 55814, after: 55814\n",
      "\n",
      "whole_blood, N features before GTF merge: 55814, after: 55814\n",
      "\n"
     ]
    },
    {
     "data": {
      "text/html": [
       "<table>\n",
       "<caption>A data.frame: 2 × 7</caption>\n",
       "<thead>\n",
       "\t<tr><th></th><th scope=col>tissue</th><th scope=col>non_signif</th><th scope=col>lower</th><th scope=col>higher</th><th scope=col>% lower</th><th scope=col>% higher</th><th scope=col>% non-signif</th></tr>\n",
       "\t<tr><th></th><th scope=col>&lt;chr&gt;</th><th scope=col>&lt;int&gt;</th><th scope=col>&lt;int&gt;</th><th scope=col>&lt;int&gt;</th><th scope=col>&lt;dbl&gt;</th><th scope=col>&lt;dbl&gt;</th><th scope=col>&lt;dbl&gt;</th></tr>\n",
       "</thead>\n",
       "<tbody>\n",
       "\t<tr><th scope=row>17</th><td>breast_mammary_tissue         </td><td>49656</td><td>1981</td><td>4177</td><td>3.55</td><td>7.48</td><td>88.97</td></tr>\n",
       "\t<tr><th scope=row>16</th><td>brain_spinal_cord_cervical_c_1</td><td>52471</td><td> 175</td><td>3168</td><td>0.31</td><td>5.68</td><td>94.01</td></tr>\n",
       "</tbody>\n",
       "</table>\n"
      ],
      "text/latex": [
       "A data.frame: 2 × 7\n",
       "\\begin{tabular}{r|lllllll}\n",
       "  & tissue & non\\_signif & lower & higher & \\% lower & \\% higher & \\% non-signif\\\\\n",
       "  & <chr> & <int> & <int> & <int> & <dbl> & <dbl> & <dbl>\\\\\n",
       "\\hline\n",
       "\t17 & breast\\_mammary\\_tissue          & 49656 & 1981 & 4177 & 3.55 & 7.48 & 88.97\\\\\n",
       "\t16 & brain\\_spinal\\_cord\\_cervical\\_c\\_1 & 52471 &  175 & 3168 & 0.31 & 5.68 & 94.01\\\\\n",
       "\\end{tabular}\n"
      ],
      "text/markdown": [
       "\n",
       "A data.frame: 2 × 7\n",
       "\n",
       "| <!--/--> | tissue &lt;chr&gt; | non_signif &lt;int&gt; | lower &lt;int&gt; | higher &lt;int&gt; | % lower &lt;dbl&gt; | % higher &lt;dbl&gt; | % non-signif &lt;dbl&gt; |\n",
       "|---|---|---|---|---|---|---|---|\n",
       "| 17 | breast_mammary_tissue          | 49656 | 1981 | 4177 | 3.55 | 7.48 | 88.97 |\n",
       "| 16 | brain_spinal_cord_cervical_c_1 | 52471 |  175 | 3168 | 0.31 | 5.68 | 94.01 |\n",
       "\n"
      ],
      "text/plain": [
       "   tissue                         non_signif lower higher % lower % higher\n",
       "17 breast_mammary_tissue          49656      1981  4177   3.55    7.48    \n",
       "16 brain_spinal_cord_cervical_c_1 52471       175  3168   0.31    5.68    \n",
       "   % non-signif\n",
       "17 88.97       \n",
       "16 94.01       "
      ]
     },
     "metadata": {},
     "output_type": "display_data"
    },
    {
     "data": {
      "text/html": [
       "<table>\n",
       "<caption>A data.frame: 2 × 16</caption>\n",
       "<thead>\n",
       "\t<tr><th></th><th scope=col>logFC</th><th scope=col>AveExpr</th><th scope=col>t</th><th scope=col>P.Value</th><th scope=col>adj.P.Val</th><th scope=col>B</th><th scope=col>initial_gene_id</th><th scope=col>gene_id</th><th scope=col>abs_logFC</th><th scope=col>FoldChange_dummy</th><th scope=col>abundance</th><th scope=col>GeneSymbol</th><th scope=col>Chromosome</th><th scope=col>Class</th><th scope=col>Strand</th><th scope=col>tissue</th></tr>\n",
       "\t<tr><th></th><th scope=col>&lt;dbl&gt;</th><th scope=col>&lt;dbl&gt;</th><th scope=col>&lt;dbl&gt;</th><th scope=col>&lt;dbl&gt;</th><th scope=col>&lt;dbl&gt;</th><th scope=col>&lt;dbl&gt;</th><th scope=col>&lt;chr&gt;</th><th scope=col>&lt;chr&gt;</th><th scope=col>&lt;dbl&gt;</th><th scope=col>&lt;dbl&gt;</th><th scope=col>&lt;chr&gt;</th><th scope=col>&lt;fct&gt;</th><th scope=col>&lt;fct&gt;</th><th scope=col>&lt;fct&gt;</th><th scope=col>&lt;fct&gt;</th><th scope=col>&lt;chr&gt;</th></tr>\n",
       "</thead>\n",
       "<tbody>\n",
       "\t<tr><th scope=row>1</th><td>-7.748207</td><td>-1.0323929</td><td>-104.4253</td><td>4.803353e-308</td><td>2.680943e-303</td><td>671.1671</td><td>ENSG00000176728.7</td><td>ENSG00000176728</td><td>7.748207</td><td>-215.0021</td><td>lower</td><td>TTTY14    </td><td>Y:18772706-19077563</td><td>lncRNA</td><td>-</td><td>adipose_subcutaneous</td></tr>\n",
       "\t<tr><th scope=row>2</th><td>-8.474073</td><td>-0.7043022</td><td>-101.6645</td><td>3.159370e-303</td><td>8.816855e-299</td><td>663.9100</td><td>ENSG00000260197.1</td><td>ENSG00000260197</td><td>8.474073</td><td>-355.5905</td><td>lower</td><td>AC010889.1</td><td>Y:19691941-19694606</td><td>lncRNA</td><td>-</td><td>adipose_subcutaneous</td></tr>\n",
       "</tbody>\n",
       "</table>\n"
      ],
      "text/latex": [
       "A data.frame: 2 × 16\n",
       "\\begin{tabular}{r|llllllllllllllll}\n",
       "  & logFC & AveExpr & t & P.Value & adj.P.Val & B & initial\\_gene\\_id & gene\\_id & abs\\_logFC & FoldChange\\_dummy & abundance & GeneSymbol & Chromosome & Class & Strand & tissue\\\\\n",
       "  & <dbl> & <dbl> & <dbl> & <dbl> & <dbl> & <dbl> & <chr> & <chr> & <dbl> & <dbl> & <chr> & <fct> & <fct> & <fct> & <fct> & <chr>\\\\\n",
       "\\hline\n",
       "\t1 & -7.748207 & -1.0323929 & -104.4253 & 4.803353e-308 & 2.680943e-303 & 671.1671 & ENSG00000176728.7 & ENSG00000176728 & 7.748207 & -215.0021 & lower & TTTY14     & Y:18772706-19077563 & lncRNA & - & adipose\\_subcutaneous\\\\\n",
       "\t2 & -8.474073 & -0.7043022 & -101.6645 & 3.159370e-303 & 8.816855e-299 & 663.9100 & ENSG00000260197.1 & ENSG00000260197 & 8.474073 & -355.5905 & lower & AC010889.1 & Y:19691941-19694606 & lncRNA & - & adipose\\_subcutaneous\\\\\n",
       "\\end{tabular}\n"
      ],
      "text/markdown": [
       "\n",
       "A data.frame: 2 × 16\n",
       "\n",
       "| <!--/--> | logFC &lt;dbl&gt; | AveExpr &lt;dbl&gt; | t &lt;dbl&gt; | P.Value &lt;dbl&gt; | adj.P.Val &lt;dbl&gt; | B &lt;dbl&gt; | initial_gene_id &lt;chr&gt; | gene_id &lt;chr&gt; | abs_logFC &lt;dbl&gt; | FoldChange_dummy &lt;dbl&gt; | abundance &lt;chr&gt; | GeneSymbol &lt;fct&gt; | Chromosome &lt;fct&gt; | Class &lt;fct&gt; | Strand &lt;fct&gt; | tissue &lt;chr&gt; |\n",
       "|---|---|---|---|---|---|---|---|---|---|---|---|---|---|---|---|---|\n",
       "| 1 | -7.748207 | -1.0323929 | -104.4253 | 4.803353e-308 | 2.680943e-303 | 671.1671 | ENSG00000176728.7 | ENSG00000176728 | 7.748207 | -215.0021 | lower | TTTY14     | Y:18772706-19077563 | lncRNA | - | adipose_subcutaneous |\n",
       "| 2 | -8.474073 | -0.7043022 | -101.6645 | 3.159370e-303 | 8.816855e-299 | 663.9100 | ENSG00000260197.1 | ENSG00000260197 | 8.474073 | -355.5905 | lower | AC010889.1 | Y:19691941-19694606 | lncRNA | - | adipose_subcutaneous |\n",
       "\n"
      ],
      "text/plain": [
       "  logFC     AveExpr    t         P.Value       adj.P.Val     B       \n",
       "1 -7.748207 -1.0323929 -104.4253 4.803353e-308 2.680943e-303 671.1671\n",
       "2 -8.474073 -0.7043022 -101.6645 3.159370e-303 8.816855e-299 663.9100\n",
       "  initial_gene_id   gene_id         abs_logFC FoldChange_dummy abundance\n",
       "1 ENSG00000176728.7 ENSG00000176728 7.748207  -215.0021        lower    \n",
       "2 ENSG00000260197.1 ENSG00000260197 8.474073  -355.5905        lower    \n",
       "  GeneSymbol Chromosome          Class  Strand tissue              \n",
       "1 TTTY14     Y:18772706-19077563 lncRNA -      adipose_subcutaneous\n",
       "2 AC010889.1 Y:19691941-19694606 lncRNA -      adipose_subcutaneous"
      ]
     },
     "metadata": {},
     "output_type": "display_data"
    }
   ],
   "source": [
    "summary_signif <-structure(list(tissue = character(0), \n",
    "                            non_signif = integer(0), \n",
    "                            lower = integer(0),\n",
    "                            higher = integer(0),\n",
    "                            `% lower` = numeric(0), \n",
    "                            `% higher` = numeric(0), \n",
    "                            `% non-signif` = numeric(0)), \n",
    "                       row.names = integer(0), \n",
    "                       class = \"data.frame\")\n",
    "\n",
    "signif_template <- structure(list(higher = integer(0), \n",
    "                                   lower = integer(0), \n",
    "                                   non_signif = integer(0)), \n",
    "                              row.names = integer(0), class = \"data.frame\")\n",
    "\n",
    "signif_per_tissue <- structure(list(logFC = numeric(0), AveExpr = numeric(0), t = numeric(0), \n",
    "                        P.Value = numeric(0), adj.P.Val = numeric(0), B = numeric(0), \n",
    "                        initial_gene_id = character(0), gene_id = character(0), abs_logFC = numeric(0), \n",
    "                        FoldChange_dummy = numeric(0), abundance = character(0), \n",
    "                        GeneSymbol = character(0), Chromosome = character(0), Class = character(0), \n",
    "                        Strand = character(0), tissue = character(0)), row.names = integer(0), class = \"data.frame\")\n",
    "\n",
    "\n",
    "for (i in seq_along(all_topTables)){\n",
    "    topTable <- all_topTables[[i]]\n",
    "    name     <- names(all_topTables)[i] \n",
    "    initial_gene_id <- paste0(\"initial_\", GENE_ID)\n",
    "    topTable[[initial_gene_id]] <- rownames(topTable)\n",
    "    topTable[[GENE_ID]]  <- gsub(\"\\\\..*\",\"\", rownames(topTable))\n",
    "    # replacing NA p-values with p-value = 1\n",
    "    topTable$P.Value[is.na(topTable$P.Value)]     <- 1; \n",
    "    topTable$adj.P.Val[is.na(topTable$adj.P.Val)] <- 1;\n",
    "    topTable$abs_logFC <- abs(topTable$logFC)\n",
    "    # Add helper variable dummy `FoldChange` variable. Use 2 as base of log, because this is the default from limma\n",
    "    # The following statement calculates a dummy fold change (how many times higher or lower)\n",
    "    # The minus symbol is a convention symbol only! to express eg. a fold change of 0.25 as -4, 4 times lower\n",
    "    topTable$FoldChange_dummy    <-   ifelse(topTable$logFC > 0, 2 ^ topTable$logFC, -1 / (2 ^ topTable$logFC))                    \n",
    "\n",
    "    # Add helper variable `abs_logFC`.\n",
    "    topTable$abs_logFC <- abs(topTable$logFC)\n",
    "\n",
    "    # Add helper variable `abundance` for up, down, non_signif\n",
    "    topTable$abundance                                                  <- \"non_signif\"\n",
    "    topTable$abundance[(topTable$logFC >   log2(absFoldChange_cutoff)) & (topTable$adj.P.Val <= adj.P.Val_threshold )]   <- \"higher\"\n",
    "    topTable$abundance[(topTable$logFC <  -log2(absFoldChange_cutoff)) & (topTable$adj.P.Val <= adj.P.Val_threshold )]   <- \"lower\"\n",
    "    before_gtf_merge <- dim(topTable)[1]\n",
    "    topTable <- dplyr::left_join(topTable, GTF, by = GENE_ID)\n",
    "    topTable_signif <- topTable[ topTable$abundance != \"non_signif\", ]\n",
    "    topTable_signif$tissue <- name\n",
    "    signif_per_tissue <- rbind(signif_per_tissue, topTable_signif )\n",
    "    data.table::fwrite(file = paste0(\"../data/signif_\", snakecase::to_snake_case(name), \".csv\"), topTable_signif)\n",
    "    after_gtf_merge <- dim(topTable)[1]\n",
    "    message( name, \", N features before GTF merge: \",before_gtf_merge, \", after: \", after_gtf_merge)\n",
    "    expression_abundance <- t(table(topTable$abundance))\n",
    "    signif <- as.data.frame.matrix(expression_abundance)\n",
    "    if(! (\"higher\" %in% colnames(signif))) {\n",
    "        signif$higher <- 0\n",
    "    }\n",
    "    if(! (\"lower\" %in% colnames(signif))) {\n",
    "        signif$lower <- 0\n",
    "    }\n",
    "    signif$tissue <- name\n",
    "    signif$sum    <-   signif$non_signif + signif$higher + signif$lower\n",
    "    toKeepInOrder <- c(\"tissue\", \"non_signif\", \"lower\", \"higher\", \"% lower\", \"% higher\", \"% non-signif\")\n",
    "    signif$`% higher`     <-  round(signif$higher / signif$sum  * 100, 2)\n",
    "    signif$`% lower`      <-  round(signif$lower / signif$sum  * 100, 2)\n",
    "    signif$`% non-signif` <-  round(signif$non_signif / signif$sum  * 100, 2)\n",
    "    signif <- signif[, toKeepInOrder]\n",
    "    summary_signif <- rbind(summary_signif, signif)   \n",
    "}\n",
    "\n",
    "summary_signif <- summary_signif[order(summary_signif$`% non-signif`), ]\n",
    "head(summary_signif , 2)\n",
    "head(signif_per_tissue, 2)"
   ]
  },
  {
   "cell_type": "markdown",
   "metadata": {},
   "source": [
    "# Defining higher in males or females based on the limma design matrix\n",
    "As we have used 1 for encoding the males and 2 for the females, our *reference level* for the contrast in the expression between males and females is 1, the males.\n",
    "\n",
    "\n",
    "From the `limma` documentation:\n",
    ">The level which is chosen for the *reference level* is the level which is contrasted against. By default, this is simply the first level alphabetically. We can specify that we want group 2 to be the reference level by either using the relevel function [..]\n",
    "\n",
    "By convention, we could say that genes with positive log fold change, are higher in females, whereas the opposite holds true for the ones that are observed to have negative log folde change. "
   ]
  },
  {
   "cell_type": "code",
   "execution_count": 28,
   "metadata": {},
   "outputs": [
    {
     "data": {
      "text/html": [
       "<table>\n",
       "<caption>A data.frame: 0 × 9</caption>\n",
       "<thead>\n",
       "\t<tr><th scope=col>tissue</th><th scope=col>non_signif</th><th scope=col>lower</th><th scope=col>higher</th><th scope=col>% lower</th><th scope=col>% higher</th><th scope=col>% non-signif</th><th scope=col>higher in males</th><th scope=col>higher in females</th></tr>\n",
       "\t<tr><th scope=col>&lt;chr&gt;</th><th scope=col>&lt;int&gt;</th><th scope=col>&lt;int&gt;</th><th scope=col>&lt;int&gt;</th><th scope=col>&lt;dbl&gt;</th><th scope=col>&lt;dbl&gt;</th><th scope=col>&lt;dbl&gt;</th><th scope=col>&lt;int&gt;</th><th scope=col>&lt;int&gt;</th></tr>\n",
       "</thead>\n",
       "<tbody>\n",
       "</tbody>\n",
       "</table>\n"
      ],
      "text/latex": [
       "A data.frame: 0 × 9\n",
       "\\begin{tabular}{lllllllll}\n",
       " tissue & non\\_signif & lower & higher & \\% lower & \\% higher & \\% non-signif & higher in males & higher in females\\\\\n",
       " <chr> & <int> & <int> & <int> & <dbl> & <dbl> & <dbl> & <int> & <int>\\\\\n",
       "\\hline\n",
       "\\end{tabular}\n"
      ],
      "text/markdown": [
       "\n",
       "A data.frame: 0 × 9\n",
       "\n",
       "| tissue &lt;chr&gt; | non_signif &lt;int&gt; | lower &lt;int&gt; | higher &lt;int&gt; | % lower &lt;dbl&gt; | % higher &lt;dbl&gt; | % non-signif &lt;dbl&gt; | higher in males &lt;int&gt; | higher in females &lt;int&gt; |\n",
       "|---|---|---|---|---|---|---|---|---|\n",
       "\n"
      ],
      "text/plain": [
       "     tissue non_signif lower higher % lower % higher % non-signif\n",
       "     higher in males higher in females"
      ]
     },
     "metadata": {},
     "output_type": "display_data"
    }
   ],
   "source": [
    "summary_signif$`higher in males`   <- summary_signif$lower\n",
    "summary_signif$`higher in females` <- summary_signif$higher\n",
    "head(summary_signif[summary_signif$tissue == \"Adipose-Subcutaneous\", ])"
   ]
  },
  {
   "cell_type": "markdown",
   "metadata": {},
   "source": [
    "# Preparing the summary table for plotting\n",
    "\n",
    "We will need to aggregate the number of genes in one column in order to be able to plot, and also convert the `Tissue` column to a factor. We will use the `reshape` R package to *melt* the dataframe from a wide to a long version, as described above:"
   ]
  },
  {
   "cell_type": "code",
   "execution_count": null,
   "metadata": {},
   "outputs": [],
   "source": [
    "toPlot <- summary_signif[, c( \"tissue\", \"higher in males\", \"higher in females\")]\n",
    "toPlot <- reshape::melt(toPlot, id=c(\"tissue\"))\n",
    "toPlot$tissue <- as.factor(toPlot$tissue)\n",
    "colnames(toPlot) <- c(\"Tissue\", \"Sex Bias\", \"Number of Genes\")\n",
    "head(toPlot[toPlot$Tissue == \"Adipose-Subcutaneous\", ])"
   ]
  },
  {
   "cell_type": "code",
   "execution_count": null,
   "metadata": {},
   "outputs": [],
   "source": [
    "\n",
    "#options(repr.plot.width=15.5, repr.plot.height=20)\n",
    "\n",
    "ggplot(toPlot, aes(x = Tissue, y = `Number of Genes`, fill = `Sex Bias`)) + \n",
    "  geom_bar(stat=\"identity\", position = \"dodge\") + \n",
    "  scale_fill_manual (values = c( \"higher in males\" = \"#4A637B\" , \"higher in females\" = \"#f35f71\")) + \n",
    "  \n",
    "  theme(text              = element_text(color = \"#4A637B\", face = \"bold\", family = 'Helvetica')\n",
    "        ,plot.caption     = element_text(size =  12, color = \"#8d99ae\", face = \"plain\", hjust= 1.05) \n",
    "        ,plot.title       = element_text(size =  18, color = \"#2b2d42\", face = \"bold\", hjust= 0.5)\n",
    "        ,axis.text.y      = element_text(angle =  0, size = 10, color = \"#8d99ae\", face = \"bold\", hjust=1.1)\n",
    "        ,axis.text.x      = element_text(angle = 70, size = 12, color = \"#8d99ae\", face = \"bold\", hjust=1.1)\n",
    "        ,axis.title.x     = element_blank()\n",
    "        ,axis.ticks.x     = element_blank()\n",
    "        ,axis.ticks.y     = element_blank()\n",
    "        ,plot.margin      = unit(c(1,1,1,1),\"cm\")\n",
    "        ,panel.background = element_blank()\n",
    "        ,legend.position  = \"right\") +\n",
    "  \n",
    "\n",
    "  geom_text(aes(y = `Number of Genes` + 15, \n",
    "                label = `Number of Genes`),\n",
    "                size = 3,\n",
    "                color     = \"#4A637B\",\n",
    "                position  =  position_dodge(width = 1),\n",
    "                family    = 'Helvetica') +\n",
    "  \n",
    "  labs(title   = \"Number of genes with higher expression in each sex per tissue\\n\",\n",
    "       caption = \"\\nsource: 'The impact of sex on alternative splicing'\\n doi: https://doi.org/10.1101/490904\",\n",
    "       y   = \"\\nNumber of Differentially Expressed Genes\")  + coord_flip()\n",
    "\n"
   ]
  },
  {
   "cell_type": "markdown",
   "metadata": {},
   "source": [
    "# Mutually exclusive sex biased genes (higher expression in one or the other sex only)\n",
    "\n",
    "\n",
    "The dataframe `signif_per_tissue` contains all the information for the genes that were significantly higher in either of the two sexes. WLet's examine how many mutually exclusive genes were found across all examined tissues. Ensembl encodes as `Chromosome` the chromosomal position, so we will create the required variables to retrieve only the chromosome information for producing summary statistics."
   ]
  },
  {
   "cell_type": "code",
   "execution_count": null,
   "metadata": {},
   "outputs": [],
   "source": [
    "dput(colnames(signif_per_tissue))"
   ]
  },
  {
   "cell_type": "code",
   "execution_count": null,
   "metadata": {},
   "outputs": [],
   "source": [
    "signif_per_tissue$Chromosomal_Position <- signif_per_tissue$Chromosome\n",
    "signif_per_tissue$Chromosome <- gsub(\"\\\\:.*\",\"\", signif_per_tissue$Chromosome)\n",
    "signif_per_tissue$higher_in  <- 0\n",
    "signif_per_tissue$higher_in[(signif_per_tissue$abundance == \"lower\" )] <- \"males\"\n",
    "signif_per_tissue$higher_in[(signif_per_tissue$abundance == \"higher\" )] <- \"females\"\n",
    "toKeepInOrder <- c( paste0(\"initial_\", GENE_ID), \"GeneSymbol\", \"logFC\",  \"adj.P.Val\", \"abundance\", \"higher_in\",  \"tissue\", \"Chromosome\", \n",
    "GENE_ID, \"abs_logFC\", \"FoldChange_dummy\", \n",
    "\"Class\", \"Strand\",\"Chromosomal_Position\", \n",
    " \"AveExpr\", \"t\", \"P.Value\", \"adj.P.Val\", \"B\")\n",
    "signif_per_tissue <- signif_per_tissue[, toKeepInOrder]\n",
    "head(signif_per_tissue, 4)"
   ]
  },
  {
   "cell_type": "markdown",
   "metadata": {},
   "source": [
    "# Examine mutually exclusive genes upregulated in each sex"
   ]
  },
  {
   "cell_type": "code",
   "execution_count": null,
   "metadata": {},
   "outputs": [],
   "source": [
    "female_biased <- unique(signif_per_tissue[[paste0(\"initial_\", GENE_ID)]] [ signif_per_tissue$higher_in == \"females\" ] )\n",
    "male_biased   <- unique(signif_per_tissue[[paste0(\"initial_\", GENE_ID)]] [ signif_per_tissue$higher_in == \"males\"  ] )\n",
    "\n",
    "length(male_biased)\n",
    "length(female_biased)"
   ]
  },
  {
   "cell_type": "code",
   "execution_count": null,
   "metadata": {},
   "outputs": [],
   "source": [
    "## Present in both\n",
    "\n",
    "length((intersect(male_biased, female_biased)))\n",
    "length((intersect(female_biased, male_biased)))\n",
    "\n",
    "intersect <- (intersect(male_biased, female_biased))\n"
   ]
  },
  {
   "cell_type": "code",
   "execution_count": null,
   "metadata": {},
   "outputs": [],
   "source": [
    "## Only in males\n",
    "length(male_biased[! (male_biased %in% intersect)])\n",
    "\n",
    "## Only females\n",
    "length(female_biased[! (female_biased %in% intersect)])"
   ]
  },
  {
   "cell_type": "code",
   "execution_count": null,
   "metadata": {},
   "outputs": [],
   "source": [
    "perc_only_male <-  length(male_biased[! (male_biased %in% intersect)]) / length(male_biased) * 100\n",
    "perc_only_female <-  length(female_biased[! (female_biased %in% intersect)]) / length(female_biased) * 100\n",
    "\n",
    "head( signif_per_tissue[ signif_per_tissue[[paste0(\"initial_\", GENE_ID)]] %in% male_biased[! (male_biased %in% intersect)],  ] , 4 )\n",
    "\n",
    "\n",
    "message(round(perc_only_male, 2), \" % of differentially expressed genes higher in males only found to be significantly differentin males\")\n",
    "message(round(perc_only_female,2), \" % of differentially expressed genes higher in females only found to be significantly different in females\")"
   ]
  },
  {
   "cell_type": "markdown",
   "metadata": {},
   "source": [
    "## Significantly higher only in males"
   ]
  },
  {
   "cell_type": "code",
   "execution_count": null,
   "metadata": {},
   "outputs": [],
   "source": [
    "dim(signif_per_tissue[ signif_per_tissue[[paste0(\"initial_\", GENE_ID)]] %in% male_biased[! (male_biased %in% intersect)],  ])\n",
    "\n",
    "only_male_genes <- signif_per_tissue[ signif_per_tissue[[paste0(\"initial_\", GENE_ID)]] %in% (male_biased[! (male_biased %in% intersect)]) ,  ]\n",
    "\n",
    "head(only_male_genes[ order(only_male_genes[[paste0(\"initial_\", GENE_ID)]] ), ], 5)"
   ]
  },
  {
   "cell_type": "code",
   "execution_count": null,
   "metadata": {},
   "outputs": [],
   "source": [
    "# See 8.1.1 enquo() and !! - Quote and unquote arguments in https://tidyeval.tidyverse.org/dplyr.html\n",
    "\n",
    "only_male_genes %>% \n",
    "    count( !!GENE_ID, GeneSymbol, Class, sort = TRUE) %>%\n",
    "    head(20)"
   ]
  },
  {
   "cell_type": "markdown",
   "metadata": {},
   "source": [
    "## Significantly higher only in females"
   ]
  },
  {
   "cell_type": "code",
   "execution_count": null,
   "metadata": {},
   "outputs": [],
   "source": [
    "only_female_genes <- signif_per_tissue[ signif_per_tissue[[paste0(\"initial_\", GENE_ID)]] %in% (female_biased[! (female_biased %in% intersect)]) ,  ]\n",
    "\n",
    "head(only_female_genes[ order(only_female_genes[[paste0(\"initial_\", GENE_ID)]] ), ], 10)"
   ]
  },
  {
   "cell_type": "code",
   "execution_count": null,
   "metadata": {},
   "outputs": [],
   "source": [
    "only_female_genes %>% \n",
    "    count( !!GENE_ID, GeneSymbol, Class, sort = TRUE) %>%\n",
    "    head(20)"
   ]
  },
  {
   "cell_type": "markdown",
   "metadata": {},
   "source": [
    "# Examine number of differentially expressed genes per chromosome per sex"
   ]
  },
  {
   "cell_type": "code",
   "execution_count": null,
   "metadata": {},
   "outputs": [],
   "source": [
    "signif_per_tissue$Chromosome <- as.factor(signif_per_tissue$Chromosome)\n",
    "signif_per_tissue$higher_in <- as.factor(signif_per_tissue$higher_in)\n",
    "\n",
    "signif_per_tissue %>% \n",
    "    group_by(Chromosome,higher_in) %>%  \n",
    "    count()  -> signif_per_chrom_per_sex"
   ]
  },
  {
   "cell_type": "code",
   "execution_count": null,
   "metadata": {},
   "outputs": [],
   "source": [
    "signif_per_chrom_per_sex"
   ]
  },
  {
   "cell_type": "markdown",
   "metadata": {},
   "source": [
    "## Metadata\n",
    "\n",
    "For replicability and reproducibility purposes, we also print the following metadata:\n",
    "\n",
    "1. Checksums of **'artefacts'**, files generated during the analysis and stored in the folder directory **`data`**\n",
    "2. List of environment metadata, dependencies, versions of libraries using `utils::sessionInfo()` and [`devtools::session_info()`](https://devtools.r-lib.org/reference/session_info.html)"
   ]
  },
  {
   "cell_type": "code",
   "execution_count": null,
   "metadata": {},
   "outputs": [],
   "source": [
    "notebook_id   = \"summary_per_tissue_diff_expressed\"\n",
    "\n",
    "message(\"Generating sha256 checksums of the artefacts in the `..data/` directory .. \")\n",
    "system(paste0(\"cd ../data/ && sha256sum **/*csv > ../metadata/\", notebook_id, \"_sha256sums.txt\"), intern = TRUE)\n",
    "system(paste0(\"cd ../data/ && sha256sum *csv >> ../metadata/\", notebook_id, \"_sha256sums.txt\"), intern = TRUE)\n",
    "\n",
    "message(\"Done!\\n\")\n",
    "\n",
    "data.table::fread(paste0(\"../metadata/\", notebook_id, \"_sha256sums.txt\"), header = FALSE, col.names = c(\"sha256sum\", \"file\"))"
   ]
  },
  {
   "cell_type": "markdown",
   "metadata": {},
   "source": [
    "### 2. Libraries metadata"
   ]
  },
  {
   "cell_type": "code",
   "execution_count": null,
   "metadata": {},
   "outputs": [],
   "source": [
    "dev_session_info   <- devtools::session_info()\n",
    "utils_session_info <- utils::sessionInfo()\n",
    "\n",
    "message(\"Saving `devtools::session_info()` objects in ../metadata/devtools_session_info.rds  ..\")\n",
    "saveRDS(dev_session_info, file = paste0(\"../metadata/\", notebook_id, \"_devtools_session_info.rds\"))\n",
    "message(\"Done!\\n\")\n",
    "\n",
    "message(\"Saving `utils::sessionInfo()` objects in ../metadata/utils_session_info.rds  ..\")\n",
    "saveRDS(utils_session_info, file = paste0(\"../metadata/\", notebook_id ,\"_utils_info.rds\"))\n",
    "message(\"Done!\\n\")\n",
    "\n",
    "dev_session_info$platform\n",
    "dev_session_info$packages[dev_session_info$packages$attached==TRUE, ]"
   ]
  },
  {
   "cell_type": "markdown",
   "metadata": {},
   "source": [
    "# Calculating the sex-biased splicing index\n",
    "The normalized sex-biased splicing index is defined as the number of statistically significant splicing events per 1000 exons in the chromosome."
   ]
  },
  {
   "cell_type": "code",
   "execution_count": null,
   "metadata": {},
   "outputs": [],
   "source": [
    "dim(signif_per_chrom_per_sex)"
   ]
  },
  {
   "cell_type": "markdown",
   "metadata": {},
   "source": [
    "Sorry, I cannot do this in R. Here is Python (ugly script but works)\n",
    "\n",
    "import csv\n",
    "import gzip\n",
    "import re\n",
    "from collections import defaultdict\n",
    "\n",
    "fname = 'Homo_sapiens.GRCh38.100.chr_patch_hapl_scaff.gtf.gz'\n",
    "\n",
    "chrom2exons = defaultdict(set)\n",
    "\n",
    "with gzip.open(fname, 'rt') as f:\n",
    "    cr = csv.reader(f, delimiter='\\t', quotechar='\"')\n",
    "    for row in cr:\n",
    "        #print(row)\n",
    "        if row[0].startswith('#'):\n",
    "            continue\n",
    "        chrom = row[0]\n",
    "        annots = row[8]\n",
    "        fields = annots.split(\";\")\n",
    "        exon = re.compile(r'exon_id \"(ENSE\\d+)\"')\n",
    "        for f in fields:\n",
    "            itm = f.strip()\n",
    "            match = exon.match(itm)\n",
    "            if match:\n",
    "                exonid = match.group(1)\n",
    "                chrom2exons[chrom].add(exonid)\n",
    "\n",
    "g = open('chrom2exons.txt', 'wt')\n",
    "for k, v in chrom2exons.items():\n",
    "    print(\"chr{}: n={}\".format(k, len(v)))\n",
    "    g.write(\"{}\\t{}\\n\".format(k, len(v)))\n",
    "g.close()\n",
    "\n",
    "1\t69381\n",
    "2\t55599\n",
    "3\t46452\n",
    "4\t29749\n",
    "5\t34789\n",
    "6\t33817\n",
    "7\t35973\n",
    "X\t22471\n",
    "8\t28489\n",
    "9\t26460\n",
    "11\t43212\n",
    "10\t26514\n",
    "12\t42925\n",
    "13\t13193\n",
    "14\t25994\n",
    "15\t28720\n",
    "16\t36285\n",
    "17\t45142\n",
    "18\t13360\n",
    "20\t16704\n",
    "19\t44166\n",
    "Y\t2908\n",
    "22\t16411\n",
    "21\t8830\n",
    "MT\t37"
   ]
  },
  {
   "cell_type": "code",
   "execution_count": null,
   "metadata": {},
   "outputs": [],
   "source": [
    "signif_per_chrom_per_sex"
   ]
  },
  {
   "cell_type": "code",
   "execution_count": null,
   "metadata": {},
   "outputs": [],
   "source": [
    "only_female_genes %>% \n",
    "    count( !!GENE_ID, GeneSymbol, Class, sort = TRUE) %>%\n",
    "    head(20)"
   ]
  },
  {
   "cell_type": "code",
   "execution_count": null,
   "metadata": {},
   "outputs": [],
   "source": [
    "signif_per_tissue %>% \n",
    "     group_by(Chromosome) %>%  \n",
    "    count()  -> signif_per_chrom"
   ]
  },
  {
   "cell_type": "code",
   "execution_count": null,
   "metadata": {},
   "outputs": [],
   "source": [
    "signif_per_chrom"
   ]
  },
  {
   "cell_type": "code",
   "execution_count": null,
   "metadata": {},
   "outputs": [],
   "source": [
    "chrom2exon_filename = '../assets/canon_chrom2exons.txt'\n",
    "if (! file.exists(chrom2exon_filename)) {\n",
    "    message(\"Could not find canon_chrom2exons.txt file\")\n",
    "}\n",
    "c2e_df = read.csv(chrom2exon_filename, sep='\\t', header=FALSE)\n",
    "colnames(c2e_df) <- c(\"Chromosome\",\"exons\")\n",
    "head(c2e_df) # 25 chromosomes including MT"
   ]
  },
  {
   "cell_type": "code",
   "execution_count": null,
   "metadata": {},
   "outputs": [],
   "source": [
    "df2 <- merge(signif_per_chrom, c2e_df, by=\"Chromosome\")\n",
    "head(df2)"
   ]
  },
  {
   "cell_type": "code",
   "execution_count": null,
   "metadata": {},
   "outputs": [],
   "source": [
    "# calculate splicinig index\n",
    "library(tidyverse)"
   ]
  },
  {
   "cell_type": "code",
   "execution_count": null,
   "metadata": {},
   "outputs": [],
   "source": [
    "df2 %>% \n",
    "  mutate(Index = 1000 * n/exons) -> df3"
   ]
  },
  {
   "cell_type": "code",
   "execution_count": null,
   "metadata": {},
   "outputs": [],
   "source": [
    "df4 <- df3[-25,] # remove the Y chromosome\n",
    "df4 <- df4[-23,] # remove the MT chromosome"
   ]
  },
  {
   "cell_type": "code",
   "execution_count": null,
   "metadata": {},
   "outputs": [],
   "source": [
    "rm(res_sorted)\n",
    "res_sorted <- df4[order(df4$Index, decreasing=TRUE),]\n",
    "res_sorted\n"
   ]
  },
  {
   "cell_type": "code",
   "execution_count": null,
   "metadata": {},
   "outputs": [],
   "source": [
    "res_sorted$Chromosome <- factor(res_sorted$Chromosome, levels = res_sorted$Chromosome)\n",
    "res_sorted"
   ]
  },
  {
   "cell_type": "code",
   "execution_count": null,
   "metadata": {},
   "outputs": [],
   "source": [
    "# set the colors\n",
    "npgBlue<- rgb(60/256,84/256,136/256,1)\n",
    "npgRed <- rgb(220/256,0,0,0.5)\n",
    "npgGreen <- rgb(0,160/256,135/256,1)\n",
    "npgBrown <- rgb(126/256,97/256,72/256,1)"
   ]
  },
  {
   "cell_type": "code",
   "execution_count": null,
   "metadata": {},
   "outputs": [],
   "source": [
    "# make the plot \n",
    "figure2b <- ggplot(res_sorted, aes(x = Chromosome, y = Index, size = n)) +\n",
    "  geom_point(color=npgBlue) +\n",
    "  theme_bw() +\n",
    "  theme(axis.text.x = element_text(size=14, angle = 270, hjust = 0.0, vjust = 0.5),\n",
    "\taxis.text.y = element_text(size=16),\n",
    "\taxis.title.x = element_blank(),\n",
    "\taxis.title.y = element_text(face=\"plain\", colour=\"black\",\n",
    "                                    size=18),\n",
    "\tlegend.title=element_blank(),\n",
    "\tlegend.text = element_text(face=\"plain\", colour=\"black\",\n",
    "                                   size=14)) +\n",
    "  scale_fill_viridis_c() +\n",
    "  ylab(paste(\"Sex-biased splicing index \")) +\n",
    "  xlab(\"Chromosomes\") +\n",
    "  guides(size = guide_legend(title = \"Number of ASE\"))\n",
    "figure2b\n"
   ]
  },
  {
   "cell_type": "code",
   "execution_count": null,
   "metadata": {},
   "outputs": [],
   "source": []
  }
 ],
 "metadata": {
  "kernelspec": {
   "display_name": "R",
   "language": "R",
   "name": "ir"
  },
  "language_info": {
   "codemirror_mode": "r",
   "file_extension": ".r",
   "mimetype": "text/x-r-source",
   "name": "R",
   "pygments_lexer": "r",
   "version": "3.6.2"
  }
 },
 "nbformat": 4,
 "nbformat_minor": 4
}
