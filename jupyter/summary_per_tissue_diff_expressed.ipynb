{
 "cells": [
  {
   "cell_type": "markdown",
   "metadata": {},
   "source": [
    "# Supplementary: Counts of differentially expressed genes per examined tissue\n",
    "\n",
    "This notebook aggregates the results from the differential gene expression (**see** [figure1.ipynb](figure1.ipynb)), and more specifically the `limma::topTable()` output dataframes across all tissues in the GTEX cohort and generates summary statistics for the number of genes found to be statistically up or downregulated between male and female subjects."
   ]
  },
  {
   "cell_type": "markdown",
   "metadata": {},
   "source": [
    " ---\n",
    " \n",
    " **Running this notebook**:\n",
    " \n",
    "A few steps are needed before you can run this document on your own. The GitHub repository (https://github.com/TheJacksonLaboratory/sbas) of the project contains detailed instructions for setting up the environment in the **`dependencies/README.md`** document. Before starting with the analysis, make sure you have first completed the dependencies set up by following the instructions described there. If you have not done this already, you will need to close and restart this notebook before running it.\n",
    "\n",
    "All paths defined in this Notebook are relative to the parent directory (repository). \n",
    "\n",
    " ---\n"
   ]
  },
  {
   "cell_type": "markdown",
   "metadata": {},
   "source": [
    "# Loading dependencies"
   ]
  },
  {
   "cell_type": "code",
   "execution_count": 54,
   "metadata": {},
   "outputs": [],
   "source": [
    "library(dplyr)\n",
    "library(tidyr)\n",
    "library(reshape)\n",
    "library(ggplot2)\n",
    "# Install this version: > devtools::install_github(\"ropensci/piggyback@87f71e8\", upgrade=\"never\")\n",
    "library(piggyback)\n",
    "library(snakecase)"
   ]
  },
  {
   "cell_type": "markdown",
   "metadata": {},
   "source": [
    "# Retrieving the results from the Differential Gene Expression using [`ropensci/piggyback`](https://github.com/ropensci/piggyback)\n",
    "\n",
    "This notebook requires as input data the limma `topTable()` objects from the Differential Gene Expression analysis (see [figure1.ipynb](https://github.com/TheJacksonLaboratory/sbas/blob/master/jupyter/figure1.ipynb)). We have archived the results from the notebook that generates the results using the method described by the author of the R package [`ropensci/piggyback`](https://github.com/ropensci/piggyback). We use the release named `dge` (Differential Gene Expression) in the repo and can be accessed at [TheJacksonLaboratory/sbas/releases/tag/dge](https://github.com/TheJacksonLaboratory/sbas/releases/tag/dge). \n",
    "\n",
    "For using the [`ropensci/piggyback`](https://github.com/ropensci/piggyback) with private repositories, it is required that a `GITHUB_TOKEN` is stored as a variable in the r environment one is working. To generate such a token with sensible default permissions, the R package [usethis]() has a convenient function \n",
    "\n",
    "```R\n",
    "# intall.packages(\"usethis\")\n",
    "usethis::browse_github_token()\n",
    "```\n",
    "\n",
    "This will redirect you to GitHub to create your own GitHub token. Once you have the token, you can use it to set up `.Renviron` by typing the following:\n",
    "\n",
    "```R\n",
    "Sys.setenv(GITHUB_TOKEN = \"youractualtokenindoublequotes\")\n",
    "```\n",
    "\n",
    "Then you sre ready to use the function [`piggyback::pb_download()`](https://docs.ropensci.org/piggyback/reference/pb_download.html) to retrieve the `dge.tar.gz` that contains the topTable objects written as .csv file for all 46 examined GTEX tissue cohorts.\n",
    "\n",
    "---\n",
    "\n",
    "***NOTE***\n",
    "\n",
    "Avoid using the `.token` argument to share your token directly in the function as you might forget and push your code, along with your private GITHUB_TOKEN to GitHub. If that happens by mistake, it is advised you invalidate the token that has been exposed by accessing [this link](https://github.com/settings/tokens) and clicking `Delete`.\n",
    "\n",
    "---"
   ]
  },
  {
   "cell_type": "code",
   "execution_count": 55,
   "metadata": {},
   "outputs": [],
   "source": [
    "#?piggyback::pb_download()"
   ]
  },
  {
   "cell_type": "code",
   "execution_count": 56,
   "metadata": {},
   "outputs": [
    {
     "name": "stderr",
     "output_type": "stream",
     "text": [
      "Fetching dge.tar.gz from GitHub ..\n",
      "\n",
      "downloading dge.tar.gz ...\n",
      "\n"
     ]
    },
    {
     "name": "stdout",
     "output_type": "stream",
     "text": [
      "  |======================================================================| 100%\n"
     ]
    },
    {
     "name": "stderr",
     "output_type": "stream",
     "text": [
      "Done!\n",
      "\n",
      "\n",
      "Decompressing archive into folder ../data/dge ..\n",
      "\n",
      "Done!\n",
      "\n",
      "\n"
     ]
    }
   ],
   "source": [
    "if (!file.exists(\"../data/dge.tar.gz \")) {\n",
    "    \n",
    "    message(\"Fetching dge.tar.gz from GitHub ..\")\n",
    "    # Download archive from GitHub release with tag \"dge\"\n",
    "    piggyback::pb_download(file = \"dge.tar.gz\",\n",
    "                           dest = \"../data\",\n",
    "                           repo = \"TheJacksonLaboratory/sbas\",\n",
    "                           tag  = \"dge\",\n",
    "                           show_progress = TRUE)\n",
    "    message(\"Done!\\n\")\n",
    "    \n",
    "    message(\"Decompressing archive into folder ../data/dge ..\")\n",
    "    # Decompress in a folder tmp named dge\n",
    "    system(\"mkdir -p ../data/dge && tar xvzf ../data/dge.tar.gz -C ../data/dge/\", intern = TRUE)\n",
    "    message(\"Done!\\n\")\n",
    "}\n",
    "if (file.exists(\"../data/dge.tar.gz \")) {\n",
    "    message(\"File dge.tar.gz already available in ../data/ !\\n\")\n",
    "    }\n"
   ]
  },
  {
   "cell_type": "markdown",
   "metadata": {},
   "source": [
    "## To get the last column fields of the GTF file to annotate the gene ids\n",
    "\n",
    "The `limma::topTable()` dataframes encode the feature information (genes) as rownames of the dataframe. The values are Ensembl Gene IDs. To map the Gene ids to Gene symbold we will use a the fields in the last column of the relevant GTF file. \n",
    "\n",
    "Note: If you are using GENCODE to retrieve the GTF file, use the relevant field name for the gene ID:\n",
    "\n",
    "| Source | Gene Identifier Name |\n",
    "|---:|:---|\n",
    "| GENCODE|`Geneid`|\n",
    "| Ensembl|`gene_id`|\n",
    "\n",
    "\n",
    "- Here are some quick links to retrieve the GTF file, either from Ensembl or GENCODE:\n",
    "\n",
    "```bash\n",
    "wget ftp://ftp.ensembl.org/pub/release-100/gtf/homo_sapiens/Homo_sapiens.GRCh38.100.chr_patch_hapl_scaff.gtf.gz -P ../data\n",
    "wget ftp://ftp.ebi.ac.uk/pub/databases/gencode/Gencode_human/release_30/gencode.v30.chr_patch_hapl_scaff.annotation.gtf.gz -P ../data\n",
    "```\n",
    "\n",
    "- To parse the GTF file and retrieve the fields associated with the Gene IDs, Gene Symbols etc you could use the following bash snippet, depending on the source of your GTF (Ensembl, GENCODE) as these two files slightly differ.\n",
    "\n",
    "```bash\n",
    "# found here: https://www.biostars.org/p/140471/\n",
    "cd sbas/data\n",
    "\n",
    "zcat gencode.v30.annotation.gtf.gz | awk 'BEGIN{FS=\"\\t\"}{split($9,a,\";\"); if($3~\"gene\") print a[1]\"\\t\"a[3]\"\\t\"$1\":\"$4\"-\"$5\"\\t\"a[2]\"\\t\"$7}' |sed 's/gene_id \"//' | sed 's/gene_id \"//' | sed 's/gene_type \"//'| sed 's/gene_name \"//' | sed 's/\"//g' | awk 'BEGIN{FS=\"\\t\"}{split($3,a,\"[:-]\"); print $1\"\\t\"$2\"\\t\"a[1]\"\\t\"a[2]\"\\t\"a[3]\"\\t\"$4\"\\t\"$5\"\\t\"a[3]-a[2];}' | sed \"1i\\Geneid\\tGeneSymbol\\tChromosome\\tStart\\tEnd\\tClass\\tStrand\\tLength\" > gencode.v30.annotation.gtf.gz.txt\n",
    "\n",
    "zcat Homo_sapiens.GRCh38.100.chr_patch_hapl_scaff.gtf.gz | awk 'BEGIN{FS=\"\\t\"}{split($9,a,\";\"); if($3~\"gene\") print a[1]\"\\t\"a[3]\"\\t\"$1\":\"$4\"-\"$5\"\\t\"a[5]\"\\t\"$7}' | sed 's/gene_id \"//' | sed 's/gene_id \"//' | sed 's/gene_biotype \"//'| sed 's/gene_name \"//' | sed 's/gene_biotype \"//' | sed 's/\"//g' | sed 's/ //g' | sed '1igene_id\\tGeneSymbol\\tChromosome\\tClass\\tStrand' > Homo_sapiens.GRCh38.100.chr_patch_hapl_scaff.gtf.gz.txt \n",
    "```"
   ]
  },
  {
   "cell_type": "markdown",
   "metadata": {},
   "source": [
    "## Preview the GTF tables with the gene attributes\n",
    "\n",
    "To make sure the snippets above have worked as expected, take a look in the tables with `head()`:"
   ]
  },
  {
   "cell_type": "code",
   "execution_count": 57,
   "metadata": {},
   "outputs": [
    {
     "data": {
      "text/html": [
       "<table>\n",
       "<caption>A data.frame: 2 × 5</caption>\n",
       "<thead>\n",
       "\t<tr><th></th><th scope=col>gene_id</th><th scope=col>GeneSymbol</th><th scope=col>Chromosome</th><th scope=col>Class</th><th scope=col>Strand</th></tr>\n",
       "\t<tr><th></th><th scope=col>&lt;fct&gt;</th><th scope=col>&lt;fct&gt;</th><th scope=col>&lt;fct&gt;</th><th scope=col>&lt;fct&gt;</th><th scope=col>&lt;fct&gt;</th></tr>\n",
       "</thead>\n",
       "<tbody>\n",
       "\t<tr><th scope=row>1</th><td>ENSG00000223972</td><td>DDX11L1</td><td>1:11869-14409</td><td>transcribed_unprocessed_pseudogene</td><td>+</td></tr>\n",
       "\t<tr><th scope=row>2</th><td>ENSG00000227232</td><td>WASH7P </td><td>1:14404-29570</td><td>unprocessed_pseudogene            </td><td>-</td></tr>\n",
       "</tbody>\n",
       "</table>\n"
      ],
      "text/latex": [
       "A data.frame: 2 × 5\n",
       "\\begin{tabular}{r|lllll}\n",
       "  & gene\\_id & GeneSymbol & Chromosome & Class & Strand\\\\\n",
       "  & <fct> & <fct> & <fct> & <fct> & <fct>\\\\\n",
       "\\hline\n",
       "\t1 & ENSG00000223972 & DDX11L1 & 1:11869-14409 & transcribed\\_unprocessed\\_pseudogene & +\\\\\n",
       "\t2 & ENSG00000227232 & WASH7P  & 1:14404-29570 & unprocessed\\_pseudogene             & -\\\\\n",
       "\\end{tabular}\n"
      ],
      "text/markdown": [
       "\n",
       "A data.frame: 2 × 5\n",
       "\n",
       "| <!--/--> | gene_id &lt;fct&gt; | GeneSymbol &lt;fct&gt; | Chromosome &lt;fct&gt; | Class &lt;fct&gt; | Strand &lt;fct&gt; |\n",
       "|---|---|---|---|---|---|\n",
       "| 1 | ENSG00000223972 | DDX11L1 | 1:11869-14409 | transcribed_unprocessed_pseudogene | + |\n",
       "| 2 | ENSG00000227232 | WASH7P  | 1:14404-29570 | unprocessed_pseudogene             | - |\n",
       "\n"
      ],
      "text/plain": [
       "  gene_id         GeneSymbol Chromosome    Class                             \n",
       "1 ENSG00000223972 DDX11L1    1:11869-14409 transcribed_unprocessed_pseudogene\n",
       "2 ENSG00000227232 WASH7P     1:14404-29570 unprocessed_pseudogene            \n",
       "  Strand\n",
       "1 +     \n",
       "2 -     "
      ]
     },
     "metadata": {},
     "output_type": "display_data"
    },
    {
     "data": {
      "text/html": [
       "<table>\n",
       "<caption>A data.frame: 2 × 8</caption>\n",
       "<thead>\n",
       "\t<tr><th></th><th scope=col>Geneid</th><th scope=col>GeneSymbol</th><th scope=col>Chromosome</th><th scope=col>Start</th><th scope=col>End</th><th scope=col>Class</th><th scope=col>Strand</th><th scope=col>Length</th></tr>\n",
       "\t<tr><th></th><th scope=col>&lt;fct&gt;</th><th scope=col>&lt;fct&gt;</th><th scope=col>&lt;fct&gt;</th><th scope=col>&lt;int&gt;</th><th scope=col>&lt;int&gt;</th><th scope=col>&lt;fct&gt;</th><th scope=col>&lt;fct&gt;</th><th scope=col>&lt;int&gt;</th></tr>\n",
       "</thead>\n",
       "<tbody>\n",
       "\t<tr><th scope=row>1</th><td>ENSG00000223972.5</td><td>DDX11L1</td><td>chr1</td><td>11869</td><td>14409</td><td>transcribed_unprocessed_pseudogene</td><td>+</td><td> 2540</td></tr>\n",
       "\t<tr><th scope=row>2</th><td>ENSG00000227232.5</td><td>WASH7P </td><td>chr1</td><td>14404</td><td>29570</td><td>unprocessed_pseudogene            </td><td>-</td><td>15166</td></tr>\n",
       "</tbody>\n",
       "</table>\n"
      ],
      "text/latex": [
       "A data.frame: 2 × 8\n",
       "\\begin{tabular}{r|llllllll}\n",
       "  & Geneid & GeneSymbol & Chromosome & Start & End & Class & Strand & Length\\\\\n",
       "  & <fct> & <fct> & <fct> & <int> & <int> & <fct> & <fct> & <int>\\\\\n",
       "\\hline\n",
       "\t1 & ENSG00000223972.5 & DDX11L1 & chr1 & 11869 & 14409 & transcribed\\_unprocessed\\_pseudogene & + &  2540\\\\\n",
       "\t2 & ENSG00000227232.5 & WASH7P  & chr1 & 14404 & 29570 & unprocessed\\_pseudogene             & - & 15166\\\\\n",
       "\\end{tabular}\n"
      ],
      "text/markdown": [
       "\n",
       "A data.frame: 2 × 8\n",
       "\n",
       "| <!--/--> | Geneid &lt;fct&gt; | GeneSymbol &lt;fct&gt; | Chromosome &lt;fct&gt; | Start &lt;int&gt; | End &lt;int&gt; | Class &lt;fct&gt; | Strand &lt;fct&gt; | Length &lt;int&gt; |\n",
       "|---|---|---|---|---|---|---|---|---|\n",
       "| 1 | ENSG00000223972.5 | DDX11L1 | chr1 | 11869 | 14409 | transcribed_unprocessed_pseudogene | + |  2540 |\n",
       "| 2 | ENSG00000227232.5 | WASH7P  | chr1 | 14404 | 29570 | unprocessed_pseudogene             | - | 15166 |\n",
       "\n"
      ],
      "text/plain": [
       "  Geneid            GeneSymbol Chromosome Start End  \n",
       "1 ENSG00000223972.5 DDX11L1    chr1       11869 14409\n",
       "2 ENSG00000227232.5 WASH7P     chr1       14404 29570\n",
       "  Class                              Strand Length\n",
       "1 transcribed_unprocessed_pseudogene +       2540 \n",
       "2 unprocessed_pseudogene             -      15166 "
      ]
     },
     "metadata": {},
     "output_type": "display_data"
    }
   ],
   "source": [
    "ensembl_path <- \"Homo_sapiens.GRCh38.100.chr_patch_hapl_scaff.gtf.gz.txt\"\n",
    "gencode_path <- \"gencode.v30.chr_patch_hapl_scaff.annotation.gtf.gz.txt\"\n",
    "gtf_ensembl <- read.table(paste0(\"../data/\", ensembl_path), header = TRUE)\n",
    "gtf_gencode <- read.table(paste0(\"../data/\", gencode_path), header = TRUE)\n",
    "\n",
    "head(gtf_ensembl,2)\n",
    "head(gtf_gencode,2)"
   ]
  },
  {
   "cell_type": "markdown",
   "metadata": {},
   "source": [
    "# Create a list of named dataframes with the Differential Gene Expression `limma::topTable()`s\n",
    "\n",
    "We will iterate over the list of named dataframes to collect summary statistics. More specifically, retrieve the count of:\n",
    "- upregulated\n",
    "- downregulated\n",
    "- non significant\n",
    "\n",
    "genes for the contrast males-females per tissue."
   ]
  },
  {
   "cell_type": "code",
   "execution_count": 58,
   "metadata": {},
   "outputs": [],
   "source": [
    "dge_tables_filepaths <- list.files(\"../data/dge\", pattern = \"*DGE.csv\", full.names = TRUE)\n",
    "dge_tables_filenames <- list.files(\"../data/dge\", pattern = \"*DGE.csv\", full.names = FALSE)"
   ]
  },
  {
   "cell_type": "code",
   "execution_count": 59,
   "metadata": {},
   "outputs": [],
   "source": [
    "all_topTables <- lapply(dge_tables_filepaths,read.csv)\n",
    "names(all_topTables) <- gsub(\"_DGE.csv\",\"\", dge_tables_filenames, fixed = TRUE)"
   ]
  },
  {
   "cell_type": "markdown",
   "metadata": {},
   "source": [
    "The list named `all_topTables` is the object that holds all the topTable dataframes from each tissue comparison:"
   ]
  },
  {
   "cell_type": "code",
   "execution_count": 60,
   "metadata": {},
   "outputs": [
    {
     "data": {
      "text/html": [
       "46"
      ],
      "text/latex": [
       "46"
      ],
      "text/markdown": [
       "46"
      ],
      "text/plain": [
       "[1] 46"
      ]
     },
     "metadata": {},
     "output_type": "display_data"
    }
   ],
   "source": [
    "length(all_topTables)"
   ]
  },
  {
   "cell_type": "code",
   "execution_count": 61,
   "metadata": {},
   "outputs": [
    {
     "data": {
      "text/plain": [
       "                                     Length Class      Mode\n",
       "Adipose-Subcutaneous                 6      data.frame list\n",
       "Adipose-Visceral(Omentum)            6      data.frame list\n",
       "AdrenalGland                         6      data.frame list\n",
       "Artery-Aorta                         6      data.frame list\n",
       "Artery-Coronary                      6      data.frame list\n",
       "Artery-Tibial                        6      data.frame list\n",
       "Bladder                              6      data.frame list\n",
       "Brain-Amygdala                       6      data.frame list\n",
       "Brain-Anteriorcingulatecortex(BA24)  6      data.frame list\n",
       "Brain-Caudate(basalganglia)          6      data.frame list\n",
       "Brain-CerebellarHemisphere           6      data.frame list\n",
       "Brain-Cerebellum                     6      data.frame list\n",
       "Brain-Cortex                         6      data.frame list\n",
       "Brain-FrontalCortex(BA9)             6      data.frame list\n",
       "Brain-Hippocampus                    6      data.frame list\n",
       "Brain-Hypothalamus                   6      data.frame list\n",
       "Brain-Nucleusaccumbens(basalganglia) 6      data.frame list\n",
       "Brain-Putamen(basalganglia)          6      data.frame list\n",
       "Brain-Spinalcord(cervicalc-1)        6      data.frame list\n",
       "Brain-Substantianigra                6      data.frame list\n",
       "Breast-MammaryTissue                 6      data.frame list\n",
       "Cells-Culturedfibroblasts            6      data.frame list\n",
       "Cells-EBV-transformedlymphocytes     6      data.frame list\n",
       "Colon-Sigmoid                        6      data.frame list\n",
       "Colon-Transverse                     6      data.frame list\n",
       "Esophagus-GastroesophagealJunction   6      data.frame list\n",
       "Esophagus-Mucosa                     6      data.frame list\n",
       "Esophagus-Muscularis                 6      data.frame list\n",
       "Heart-AtrialAppendage                6      data.frame list\n",
       "Heart-LeftVentricle                  6      data.frame list\n",
       "Kidney-Cortex                        6      data.frame list\n",
       "Kidney-Medulla                       6      data.frame list\n",
       "Liver                                6      data.frame list\n",
       "Lung                                 6      data.frame list\n",
       "MinorSalivaryGland                   6      data.frame list\n",
       "Muscle-Skeletal                      6      data.frame list\n",
       "Nerve-Tibial                         6      data.frame list\n",
       "Pancreas                             6      data.frame list\n",
       "Pituitary                            6      data.frame list\n",
       "Skin-NotSunExposed(Suprapubic)       6      data.frame list\n",
       "Skin-SunExposed(Lowerleg)            6      data.frame list\n",
       "SmallIntestine-TerminalIleum         6      data.frame list\n",
       "Spleen                               6      data.frame list\n",
       "Stomach                              6      data.frame list\n",
       "Thyroid                              6      data.frame list\n",
       "WholeBlood                           6      data.frame list"
      ]
     },
     "metadata": {},
     "output_type": "display_data"
    }
   ],
   "source": [
    "summary(all_topTables)"
   ]
  },
  {
   "cell_type": "markdown",
   "metadata": {},
   "source": [
    "# Trim gene versions from gene names to match Gene Identifiers from GTF (GENCODE, Ensembl)\n",
    "Remove characters after `.` in the Gene Identifier column, since as long as the gene version information is present we will not be able to perform a join, to annotate the toptable dataframes with the GTF gene attrubutes."
   ]
  },
  {
   "cell_type": "code",
   "execution_count": 62,
   "metadata": {},
   "outputs": [],
   "source": [
    "#GTF_SOURCE <- \"ensembl\"      # c(\"gencode\", \"ensembl\")\n",
    "#GENE_ID    <- \"gene_id\"      # c(\"Geneid\" , \"gene_id\")\n",
    "\n",
    "GTF_SOURCE <- \"gencode\"      # c(\"gencode\", \"ensembl\")\n",
    "GENE_ID    <- \"Geneid\"      # c(\"Geneid\" , \"gene_id\")\n",
    "\n",
    "if (GTF_SOURCE == \"gencode\") { GTF <- gtf_gencode}\n",
    "if (GTF_SOURCE == \"ensembl\") { GTF <- gtf_ensembl}\n",
    "\n",
    "GTF[[GENE_ID]]       <- gsub(\"\\\\..*\",\"\", GTF[[GENE_ID]])"
   ]
  },
  {
   "cell_type": "markdown",
   "metadata": {},
   "source": [
    "# Example with one topTable before iterating over all tissues"
   ]
  },
  {
   "cell_type": "code",
   "execution_count": 63,
   "metadata": {},
   "outputs": [
    {
     "data": {
      "text/html": [
       "'Adipose-Subcutaneous'"
      ],
      "text/latex": [
       "'Adipose-Subcutaneous'"
      ],
      "text/markdown": [
       "'Adipose-Subcutaneous'"
      ],
      "text/plain": [
       "[1] \"Adipose-Subcutaneous\""
      ]
     },
     "metadata": {},
     "output_type": "display_data"
    },
    {
     "data": {
      "text/html": [
       "<table>\n",
       "<caption>A data.frame: 2 × 7</caption>\n",
       "<thead>\n",
       "\t<tr><th></th><th scope=col>logFC</th><th scope=col>AveExpr</th><th scope=col>t</th><th scope=col>P.Value</th><th scope=col>adj.P.Val</th><th scope=col>B</th><th scope=col>Geneid</th></tr>\n",
       "\t<tr><th></th><th scope=col>&lt;dbl&gt;</th><th scope=col>&lt;dbl&gt;</th><th scope=col>&lt;dbl&gt;</th><th scope=col>&lt;dbl&gt;</th><th scope=col>&lt;dbl&gt;</th><th scope=col>&lt;dbl&gt;</th><th scope=col>&lt;chr&gt;</th></tr>\n",
       "</thead>\n",
       "<tbody>\n",
       "\t<tr><th scope=row>ENSG00000129824.15</th><td>-9.668735</td><td>4.643844</td><td>-145.5404</td><td>0</td><td>0</td><td>1136.058</td><td>ENSG00000129824</td></tr>\n",
       "\t<tr><th scope=row>ENSG00000229807.10</th><td> 9.907847</td><td>1.246117</td><td> 131.3680</td><td>0</td><td>0</td><td>1079.040</td><td>ENSG00000229807</td></tr>\n",
       "</tbody>\n",
       "</table>\n"
      ],
      "text/latex": [
       "A data.frame: 2 × 7\n",
       "\\begin{tabular}{r|lllllll}\n",
       "  & logFC & AveExpr & t & P.Value & adj.P.Val & B & Geneid\\\\\n",
       "  & <dbl> & <dbl> & <dbl> & <dbl> & <dbl> & <dbl> & <chr>\\\\\n",
       "\\hline\n",
       "\tENSG00000129824.15 & -9.668735 & 4.643844 & -145.5404 & 0 & 0 & 1136.058 & ENSG00000129824\\\\\n",
       "\tENSG00000229807.10 &  9.907847 & 1.246117 &  131.3680 & 0 & 0 & 1079.040 & ENSG00000229807\\\\\n",
       "\\end{tabular}\n"
      ],
      "text/markdown": [
       "\n",
       "A data.frame: 2 × 7\n",
       "\n",
       "| <!--/--> | logFC &lt;dbl&gt; | AveExpr &lt;dbl&gt; | t &lt;dbl&gt; | P.Value &lt;dbl&gt; | adj.P.Val &lt;dbl&gt; | B &lt;dbl&gt; | Geneid &lt;chr&gt; |\n",
       "|---|---|---|---|---|---|---|---|\n",
       "| ENSG00000129824.15 | -9.668735 | 4.643844 | -145.5404 | 0 | 0 | 1136.058 | ENSG00000129824 |\n",
       "| ENSG00000229807.10 |  9.907847 | 1.246117 |  131.3680 | 0 | 0 | 1079.040 | ENSG00000229807 |\n",
       "\n"
      ],
      "text/plain": [
       "                   logFC     AveExpr  t         P.Value adj.P.Val B       \n",
       "ENSG00000129824.15 -9.668735 4.643844 -145.5404 0       0         1136.058\n",
       "ENSG00000229807.10  9.907847 1.246117  131.3680 0       0         1079.040\n",
       "                   Geneid         \n",
       "ENSG00000129824.15 ENSG00000129824\n",
       "ENSG00000229807.10 ENSG00000229807"
      ]
     },
     "metadata": {},
     "output_type": "display_data"
    },
    {
     "data": {
      "text/html": [
       "<table>\n",
       "<caption>A data.frame: 2 × 8</caption>\n",
       "<thead>\n",
       "\t<tr><th></th><th scope=col>Geneid</th><th scope=col>GeneSymbol</th><th scope=col>Chromosome</th><th scope=col>Start</th><th scope=col>End</th><th scope=col>Class</th><th scope=col>Strand</th><th scope=col>Length</th></tr>\n",
       "\t<tr><th></th><th scope=col>&lt;chr&gt;</th><th scope=col>&lt;fct&gt;</th><th scope=col>&lt;fct&gt;</th><th scope=col>&lt;int&gt;</th><th scope=col>&lt;int&gt;</th><th scope=col>&lt;fct&gt;</th><th scope=col>&lt;fct&gt;</th><th scope=col>&lt;int&gt;</th></tr>\n",
       "</thead>\n",
       "<tbody>\n",
       "\t<tr><th scope=row>1</th><td>ENSG00000223972</td><td>DDX11L1</td><td>chr1</td><td>11869</td><td>14409</td><td>transcribed_unprocessed_pseudogene</td><td>+</td><td> 2540</td></tr>\n",
       "\t<tr><th scope=row>2</th><td>ENSG00000227232</td><td>WASH7P </td><td>chr1</td><td>14404</td><td>29570</td><td>unprocessed_pseudogene            </td><td>-</td><td>15166</td></tr>\n",
       "</tbody>\n",
       "</table>\n"
      ],
      "text/latex": [
       "A data.frame: 2 × 8\n",
       "\\begin{tabular}{r|llllllll}\n",
       "  & Geneid & GeneSymbol & Chromosome & Start & End & Class & Strand & Length\\\\\n",
       "  & <chr> & <fct> & <fct> & <int> & <int> & <fct> & <fct> & <int>\\\\\n",
       "\\hline\n",
       "\t1 & ENSG00000223972 & DDX11L1 & chr1 & 11869 & 14409 & transcribed\\_unprocessed\\_pseudogene & + &  2540\\\\\n",
       "\t2 & ENSG00000227232 & WASH7P  & chr1 & 14404 & 29570 & unprocessed\\_pseudogene             & - & 15166\\\\\n",
       "\\end{tabular}\n"
      ],
      "text/markdown": [
       "\n",
       "A data.frame: 2 × 8\n",
       "\n",
       "| <!--/--> | Geneid &lt;chr&gt; | GeneSymbol &lt;fct&gt; | Chromosome &lt;fct&gt; | Start &lt;int&gt; | End &lt;int&gt; | Class &lt;fct&gt; | Strand &lt;fct&gt; | Length &lt;int&gt; |\n",
       "|---|---|---|---|---|---|---|---|---|\n",
       "| 1 | ENSG00000223972 | DDX11L1 | chr1 | 11869 | 14409 | transcribed_unprocessed_pseudogene | + |  2540 |\n",
       "| 2 | ENSG00000227232 | WASH7P  | chr1 | 14404 | 29570 | unprocessed_pseudogene             | - | 15166 |\n",
       "\n"
      ],
      "text/plain": [
       "  Geneid          GeneSymbol Chromosome Start End  \n",
       "1 ENSG00000223972 DDX11L1    chr1       11869 14409\n",
       "2 ENSG00000227232 WASH7P     chr1       14404 29570\n",
       "  Class                              Strand Length\n",
       "1 transcribed_unprocessed_pseudogene +       2540 \n",
       "2 unprocessed_pseudogene             -      15166 "
      ]
     },
     "metadata": {},
     "output_type": "display_data"
    }
   ],
   "source": [
    "# Example topTable and name\n",
    "topTable <- all_topTables[[1]]\n",
    "name     <- names( all_topTables)[1]\n",
    "topTable[[GENE_ID]]  <- gsub(\"\\\\..*\",\"\", rownames(topTable))\n",
    "name\n",
    "head(topTable,2)\n",
    "head(GTF, 2)"
   ]
  },
  {
   "cell_type": "markdown",
   "metadata": {},
   "source": [
    "## Defining the thresholds for the double criterion filtering:\n",
    "\n",
    "Criteria:\n",
    "- Adjusted p-value < `p_value_cuttoff`\n",
    "- Absolut FoldChange > `absFold_change_threshold`"
   ]
  },
  {
   "cell_type": "markdown",
   "metadata": {},
   "source": [
    "----\n",
    "\n",
    "***NOTE***\n",
    "\n",
    "Defining higher in males or females based on the limma design matrix\n",
    "As we have used 1 for encoding the females and 2 for the males, our *reference level* for the contrast in the expression between males and females is 1, the females.\n",
    "\n",
    "\n",
    "From the `limma` documentation:\n",
    ">The level which is chosen for the *reference level* is the level which is contrasted against. By default, this is simply the first level alphabetically. We can specify that we want group 2 to be the reference level by either using the relevel function [..]\n",
    "\n",
    "By convention, we could say that genes with positive log fold change, are higher in males, whereas the opposite holds true for the ones that are observed to have negative log folde change. \n",
    "\n",
    "---"
   ]
  },
  {
   "cell_type": "code",
   "execution_count": 64,
   "metadata": {},
   "outputs": [],
   "source": [
    "adj.P.Val_threshold  <- 0.5\n",
    "absFoldChange_cutoff <- 1.5"
   ]
  },
  {
   "cell_type": "markdown",
   "metadata": {},
   "source": [
    "Replacing potential `NA` values in the `P.Value`, `adj.P.Val` to keep the columns numeric and avoid coersion."
   ]
  },
  {
   "cell_type": "code",
   "execution_count": 65,
   "metadata": {},
   "outputs": [],
   "source": [
    "# replacing NA p-values with p-value = 1\n",
    "topTable$P.Value[is.na(topTable$P.Value)]     <- 1; \n",
    "topTable$adj.P.Val[is.na(topTable$adj.P.Val)] <- 1;"
   ]
  },
  {
   "cell_type": "code",
   "execution_count": 66,
   "metadata": {},
   "outputs": [],
   "source": [
    "# Add helper variable dummy `FoldChange` variable. Use 2 as base of log, because this is the default from limma\n",
    "# The following statement calculates a dummy fold change (how many times higher or lower)\n",
    "# The minus symbol is a convention symbol only! to express eg. a fold change of 0.25 as -4, 4 times lower\n",
    "topTable$FoldChange_dummy    <-   ifelse(topTable$logFC > 0, 2 ^ topTable$logFC, -1 / (2 ^ topTable$logFC))                    \n",
    "\n",
    "# Add helper variable `abs_logFC`.\n",
    "topTable$abs_logFC <- abs(topTable$logFC)\n",
    "\n",
    "# Add helper variable `abundance` for up, down, non_signif\n",
    "topTable$abundance                                                  <- \"non_signif\"\n",
    "topTable$abundance[(topTable$logFC >   log2(absFoldChange_cutoff)) & (topTable$adj.P.Val <= adj.P.Val_threshold )]   <- \"higher\"\n",
    "topTable$abundance[(topTable$logFC <  -log2(absFoldChange_cutoff)) & (topTable$adj.P.Val <= adj.P.Val_threshold )]   <- \"lower\""
   ]
  },
  {
   "cell_type": "code",
   "execution_count": 67,
   "metadata": {},
   "outputs": [
    {
     "data": {
      "text/html": [
       "<table>\n",
       "<caption>A data.frame: 6 × 10</caption>\n",
       "<thead>\n",
       "\t<tr><th></th><th scope=col>logFC</th><th scope=col>AveExpr</th><th scope=col>t</th><th scope=col>P.Value</th><th scope=col>adj.P.Val</th><th scope=col>B</th><th scope=col>Geneid</th><th scope=col>FoldChange_dummy</th><th scope=col>abs_logFC</th><th scope=col>abundance</th></tr>\n",
       "\t<tr><th></th><th scope=col>&lt;dbl&gt;</th><th scope=col>&lt;dbl&gt;</th><th scope=col>&lt;dbl&gt;</th><th scope=col>&lt;dbl&gt;</th><th scope=col>&lt;dbl&gt;</th><th scope=col>&lt;dbl&gt;</th><th scope=col>&lt;chr&gt;</th><th scope=col>&lt;dbl&gt;</th><th scope=col>&lt;dbl&gt;</th><th scope=col>&lt;chr&gt;</th></tr>\n",
       "</thead>\n",
       "<tbody>\n",
       "\t<tr><th scope=row>ENSG00000129824.15</th><td>-9.668735</td><td> 4.6438444</td><td>-145.54037</td><td>0</td><td>0</td><td>1136.0576</td><td>ENSG00000129824</td><td>-813.9156</td><td>9.668735</td><td>lower </td></tr>\n",
       "\t<tr><th scope=row>ENSG00000229807.10</th><td> 9.907847</td><td> 1.2461171</td><td> 131.36798</td><td>0</td><td>0</td><td>1079.0402</td><td>ENSG00000229807</td><td> 960.6365</td><td>9.907847</td><td>higher</td></tr>\n",
       "\t<tr><th scope=row>ENSG00000067048.16</th><td>-9.698380</td><td> 3.7021122</td><td>-108.38685</td><td>0</td><td>0</td><td> 952.4945</td><td>ENSG00000067048</td><td>-830.8129</td><td>9.698380</td><td>lower </td></tr>\n",
       "\t<tr><th scope=row>ENSG00000176728.7</th><td>-8.082798</td><td>-0.9202562</td><td>-105.59458</td><td>0</td><td>0</td><td> 922.2647</td><td>ENSG00000176728</td><td>-271.1219</td><td>8.082798</td><td>lower </td></tr>\n",
       "\t<tr><th scope=row>ENSG00000012817.15</th><td>-9.608969</td><td> 3.4369019</td><td>-101.87186</td><td>0</td><td>0</td><td> 914.3474</td><td>ENSG00000012817</td><td>-780.8863</td><td>9.608969</td><td>lower </td></tr>\n",
       "\t<tr><th scope=row>ENSG00000198692.9</th><td>-9.013909</td><td> 1.3461188</td><td> -90.30504</td><td>0</td><td>0</td><td> 835.7359</td><td>ENSG00000198692</td><td>-516.9601</td><td>9.013909</td><td>lower </td></tr>\n",
       "</tbody>\n",
       "</table>\n"
      ],
      "text/latex": [
       "A data.frame: 6 × 10\n",
       "\\begin{tabular}{r|llllllllll}\n",
       "  & logFC & AveExpr & t & P.Value & adj.P.Val & B & Geneid & FoldChange\\_dummy & abs\\_logFC & abundance\\\\\n",
       "  & <dbl> & <dbl> & <dbl> & <dbl> & <dbl> & <dbl> & <chr> & <dbl> & <dbl> & <chr>\\\\\n",
       "\\hline\n",
       "\tENSG00000129824.15 & -9.668735 &  4.6438444 & -145.54037 & 0 & 0 & 1136.0576 & ENSG00000129824 & -813.9156 & 9.668735 & lower \\\\\n",
       "\tENSG00000229807.10 &  9.907847 &  1.2461171 &  131.36798 & 0 & 0 & 1079.0402 & ENSG00000229807 &  960.6365 & 9.907847 & higher\\\\\n",
       "\tENSG00000067048.16 & -9.698380 &  3.7021122 & -108.38685 & 0 & 0 &  952.4945 & ENSG00000067048 & -830.8129 & 9.698380 & lower \\\\\n",
       "\tENSG00000176728.7 & -8.082798 & -0.9202562 & -105.59458 & 0 & 0 &  922.2647 & ENSG00000176728 & -271.1219 & 8.082798 & lower \\\\\n",
       "\tENSG00000012817.15 & -9.608969 &  3.4369019 & -101.87186 & 0 & 0 &  914.3474 & ENSG00000012817 & -780.8863 & 9.608969 & lower \\\\\n",
       "\tENSG00000198692.9 & -9.013909 &  1.3461188 &  -90.30504 & 0 & 0 &  835.7359 & ENSG00000198692 & -516.9601 & 9.013909 & lower \\\\\n",
       "\\end{tabular}\n"
      ],
      "text/markdown": [
       "\n",
       "A data.frame: 6 × 10\n",
       "\n",
       "| <!--/--> | logFC &lt;dbl&gt; | AveExpr &lt;dbl&gt; | t &lt;dbl&gt; | P.Value &lt;dbl&gt; | adj.P.Val &lt;dbl&gt; | B &lt;dbl&gt; | Geneid &lt;chr&gt; | FoldChange_dummy &lt;dbl&gt; | abs_logFC &lt;dbl&gt; | abundance &lt;chr&gt; |\n",
       "|---|---|---|---|---|---|---|---|---|---|---|\n",
       "| ENSG00000129824.15 | -9.668735 |  4.6438444 | -145.54037 | 0 | 0 | 1136.0576 | ENSG00000129824 | -813.9156 | 9.668735 | lower  |\n",
       "| ENSG00000229807.10 |  9.907847 |  1.2461171 |  131.36798 | 0 | 0 | 1079.0402 | ENSG00000229807 |  960.6365 | 9.907847 | higher |\n",
       "| ENSG00000067048.16 | -9.698380 |  3.7021122 | -108.38685 | 0 | 0 |  952.4945 | ENSG00000067048 | -830.8129 | 9.698380 | lower  |\n",
       "| ENSG00000176728.7 | -8.082798 | -0.9202562 | -105.59458 | 0 | 0 |  922.2647 | ENSG00000176728 | -271.1219 | 8.082798 | lower  |\n",
       "| ENSG00000012817.15 | -9.608969 |  3.4369019 | -101.87186 | 0 | 0 |  914.3474 | ENSG00000012817 | -780.8863 | 9.608969 | lower  |\n",
       "| ENSG00000198692.9 | -9.013909 |  1.3461188 |  -90.30504 | 0 | 0 |  835.7359 | ENSG00000198692 | -516.9601 | 9.013909 | lower  |\n",
       "\n"
      ],
      "text/plain": [
       "                   logFC     AveExpr    t          P.Value adj.P.Val B        \n",
       "ENSG00000129824.15 -9.668735  4.6438444 -145.54037 0       0         1136.0576\n",
       "ENSG00000229807.10  9.907847  1.2461171  131.36798 0       0         1079.0402\n",
       "ENSG00000067048.16 -9.698380  3.7021122 -108.38685 0       0          952.4945\n",
       "ENSG00000176728.7  -8.082798 -0.9202562 -105.59458 0       0          922.2647\n",
       "ENSG00000012817.15 -9.608969  3.4369019 -101.87186 0       0          914.3474\n",
       "ENSG00000198692.9  -9.013909  1.3461188  -90.30504 0       0          835.7359\n",
       "                   Geneid          FoldChange_dummy abs_logFC abundance\n",
       "ENSG00000129824.15 ENSG00000129824 -813.9156        9.668735  lower    \n",
       "ENSG00000229807.10 ENSG00000229807  960.6365        9.907847  higher   \n",
       "ENSG00000067048.16 ENSG00000067048 -830.8129        9.698380  lower    \n",
       "ENSG00000176728.7  ENSG00000176728 -271.1219        8.082798  lower    \n",
       "ENSG00000012817.15 ENSG00000012817 -780.8863        9.608969  lower    \n",
       "ENSG00000198692.9  ENSG00000198692 -516.9601        9.013909  lower    "
      ]
     },
     "metadata": {},
     "output_type": "display_data"
    }
   ],
   "source": [
    "head(topTable)"
   ]
  },
  {
   "cell_type": "markdown",
   "metadata": {},
   "source": [
    "# Define a vector with the columns to keep in the annotated from GTF `topTable` object"
   ]
  },
  {
   "cell_type": "code",
   "execution_count": 68,
   "metadata": {},
   "outputs": [],
   "source": [
    "toKeep <- c(\"Geneid\",\"logFC\",\"FoldChange_dummy\", \"adj.P.Val\", \"abundance\")"
   ]
  },
  {
   "cell_type": "code",
   "execution_count": 69,
   "metadata": {},
   "outputs": [
    {
     "data": {
      "text/html": [
       "<table>\n",
       "<caption>A data.frame: 2 × 5</caption>\n",
       "<thead>\n",
       "\t<tr><th></th><th scope=col>logFC</th><th scope=col>adj.P.Val</th><th scope=col>Geneid</th><th scope=col>FoldChange_dummy</th><th scope=col>abundance</th></tr>\n",
       "\t<tr><th></th><th scope=col>&lt;dbl&gt;</th><th scope=col>&lt;dbl&gt;</th><th scope=col>&lt;chr&gt;</th><th scope=col>&lt;dbl&gt;</th><th scope=col>&lt;chr&gt;</th></tr>\n",
       "</thead>\n",
       "<tbody>\n",
       "\t<tr><th scope=row>ENSG00000129824.15</th><td>-9.668735</td><td>0</td><td>ENSG00000129824</td><td>-813.9156</td><td>lower </td></tr>\n",
       "\t<tr><th scope=row>ENSG00000229807.10</th><td> 9.907847</td><td>0</td><td>ENSG00000229807</td><td> 960.6365</td><td>higher</td></tr>\n",
       "</tbody>\n",
       "</table>\n"
      ],
      "text/latex": [
       "A data.frame: 2 × 5\n",
       "\\begin{tabular}{r|lllll}\n",
       "  & logFC & adj.P.Val & Geneid & FoldChange\\_dummy & abundance\\\\\n",
       "  & <dbl> & <dbl> & <chr> & <dbl> & <chr>\\\\\n",
       "\\hline\n",
       "\tENSG00000129824.15 & -9.668735 & 0 & ENSG00000129824 & -813.9156 & lower \\\\\n",
       "\tENSG00000229807.10 &  9.907847 & 0 & ENSG00000229807 &  960.6365 & higher\\\\\n",
       "\\end{tabular}\n"
      ],
      "text/markdown": [
       "\n",
       "A data.frame: 2 × 5\n",
       "\n",
       "| <!--/--> | logFC &lt;dbl&gt; | adj.P.Val &lt;dbl&gt; | Geneid &lt;chr&gt; | FoldChange_dummy &lt;dbl&gt; | abundance &lt;chr&gt; |\n",
       "|---|---|---|---|---|---|\n",
       "| ENSG00000129824.15 | -9.668735 | 0 | ENSG00000129824 | -813.9156 | lower  |\n",
       "| ENSG00000229807.10 |  9.907847 | 0 | ENSG00000229807 |  960.6365 | higher |\n",
       "\n"
      ],
      "text/plain": [
       "                   logFC     adj.P.Val Geneid          FoldChange_dummy\n",
       "ENSG00000129824.15 -9.668735 0         ENSG00000129824 -813.9156       \n",
       "ENSG00000229807.10  9.907847 0         ENSG00000229807  960.6365       \n",
       "                   abundance\n",
       "ENSG00000129824.15 lower    \n",
       "ENSG00000229807.10 higher   "
      ]
     },
     "metadata": {},
     "output_type": "display_data"
    }
   ],
   "source": [
    "head(topTable[ , colnames(topTable) %in% toKeep ],2)"
   ]
  },
  {
   "cell_type": "code",
   "execution_count": 70,
   "metadata": {},
   "outputs": [
    {
     "data": {
      "text/html": [
       "'Adipose-Subcutaneous'"
      ],
      "text/latex": [
       "'Adipose-Subcutaneous'"
      ],
      "text/markdown": [
       "'Adipose-Subcutaneous'"
      ],
      "text/plain": [
       "[1] \"Adipose-Subcutaneous\""
      ]
     },
     "metadata": {},
     "output_type": "display_data"
    },
    {
     "data": {
      "text/html": [
       "<style>\n",
       ".list-inline {list-style: none; margin:0; padding: 0}\n",
       ".list-inline>li {display: inline-block}\n",
       ".list-inline>li:not(:last-child)::after {content: \"\\00b7\"; padding: 0 .5ex}\n",
       "</style>\n",
       "<ol class=list-inline><li>15895</li><li>10</li></ol>\n"
      ],
      "text/latex": [
       "\\begin{enumerate*}\n",
       "\\item 15895\n",
       "\\item 10\n",
       "\\end{enumerate*}\n"
      ],
      "text/markdown": [
       "1. 15895\n",
       "2. 10\n",
       "\n",
       "\n"
      ],
      "text/plain": [
       "[1] 15895    10"
      ]
     },
     "metadata": {},
     "output_type": "display_data"
    },
    {
     "data": {
      "text/html": [
       "<style>\n",
       ".list-inline {list-style: none; margin:0; padding: 0}\n",
       ".list-inline>li {display: inline-block}\n",
       ".list-inline>li:not(:last-child)::after {content: \"\\00b7\"; padding: 0 .5ex}\n",
       "</style>\n",
       "<ol class=list-inline><li>275</li><li>10</li></ol>\n"
      ],
      "text/latex": [
       "\\begin{enumerate*}\n",
       "\\item 275\n",
       "\\item 10\n",
       "\\end{enumerate*}\n"
      ],
      "text/markdown": [
       "1. 275\n",
       "2. 10\n",
       "\n",
       "\n"
      ],
      "text/plain": [
       "[1] 275  10"
      ]
     },
     "metadata": {},
     "output_type": "display_data"
    },
    {
     "data": {
      "text/html": [
       "<style>\n",
       ".list-inline {list-style: none; margin:0; padding: 0}\n",
       ".list-inline>li {display: inline-block}\n",
       ".list-inline>li:not(:last-child)::after {content: \"\\00b7\"; padding: 0 .5ex}\n",
       "</style>\n",
       "<ol class=list-inline><li>275</li><li>10</li></ol>\n"
      ],
      "text/latex": [
       "\\begin{enumerate*}\n",
       "\\item 275\n",
       "\\item 10\n",
       "\\end{enumerate*}\n"
      ],
      "text/markdown": [
       "1. 275\n",
       "2. 10\n",
       "\n",
       "\n"
      ],
      "text/plain": [
       "[1] 275  10"
      ]
     },
     "metadata": {},
     "output_type": "display_data"
    }
   ],
   "source": [
    "name\n",
    "dim(topTable)\n",
    "dim(topTable [topTable$abundance != \"non_signif\",  ])\n",
    "dim(topTable [ (topTable$abundance != \"non_signif\" )  & (topTable$adj.P.Val <= adj.P.Val_threshold ) ,  ])"
   ]
  },
  {
   "cell_type": "code",
   "execution_count": 71,
   "metadata": {},
   "outputs": [
    {
     "data": {
      "text/plain": [
       "      \n",
       "       higher lower non_signif\n",
       "  [1,]     80   195      15620"
      ]
     },
     "metadata": {},
     "output_type": "display_data"
    }
   ],
   "source": [
    "expression_abundance <- t(table(topTable$abundance))\n",
    "expression_abundance"
   ]
  },
  {
   "cell_type": "code",
   "execution_count": 72,
   "metadata": {},
   "outputs": [],
   "source": [
    "expression_abundance <- t(table(topTable$abundance))\n",
    "signif <- as.data.frame.matrix(expression_abundance)"
   ]
  },
  {
   "cell_type": "code",
   "execution_count": 73,
   "metadata": {},
   "outputs": [
    {
     "data": {
      "text/html": [
       "<table>\n",
       "<caption>A data.frame: 1 × 3</caption>\n",
       "<thead>\n",
       "\t<tr><th scope=col>higher</th><th scope=col>lower</th><th scope=col>non_signif</th></tr>\n",
       "\t<tr><th scope=col>&lt;int&gt;</th><th scope=col>&lt;int&gt;</th><th scope=col>&lt;int&gt;</th></tr>\n",
       "</thead>\n",
       "<tbody>\n",
       "\t<tr><td>80</td><td>195</td><td>15620</td></tr>\n",
       "</tbody>\n",
       "</table>\n"
      ],
      "text/latex": [
       "A data.frame: 1 × 3\n",
       "\\begin{tabular}{lll}\n",
       " higher & lower & non\\_signif\\\\\n",
       " <int> & <int> & <int>\\\\\n",
       "\\hline\n",
       "\t 80 & 195 & 15620\\\\\n",
       "\\end{tabular}\n"
      ],
      "text/markdown": [
       "\n",
       "A data.frame: 1 × 3\n",
       "\n",
       "| higher &lt;int&gt; | lower &lt;int&gt; | non_signif &lt;int&gt; |\n",
       "|---|---|---|\n",
       "| 80 | 195 | 15620 |\n",
       "\n"
      ],
      "text/plain": [
       "  higher lower non_signif\n",
       "1 80     195   15620     "
      ]
     },
     "metadata": {},
     "output_type": "display_data"
    }
   ],
   "source": [
    "signif"
   ]
  },
  {
   "cell_type": "markdown",
   "metadata": {},
   "source": [
    "To avoid errors in the cases that we might have none lower or none higher, and the matrix might be missing columns we will create a template data.frame and also add the column that might be missing if lower or higher genes is equal to 0."
   ]
  },
  {
   "cell_type": "code",
   "execution_count": 74,
   "metadata": {},
   "outputs": [
    {
     "data": {
      "text/html": [
       "<table>\n",
       "<caption>A data.frame: 0 × 3</caption>\n",
       "<thead>\n",
       "\t<tr><th scope=col>higher</th><th scope=col>lower</th><th scope=col>non_signif</th></tr>\n",
       "\t<tr><th scope=col>&lt;int&gt;</th><th scope=col>&lt;int&gt;</th><th scope=col>&lt;int&gt;</th></tr>\n",
       "</thead>\n",
       "<tbody>\n",
       "</tbody>\n",
       "</table>\n"
      ],
      "text/latex": [
       "A data.frame: 0 × 3\n",
       "\\begin{tabular}{lll}\n",
       " higher & lower & non\\_signif\\\\\n",
       " <int> & <int> & <int>\\\\\n",
       "\\hline\n",
       "\\end{tabular}\n"
      ],
      "text/markdown": [
       "\n",
       "A data.frame: 0 × 3\n",
       "\n",
       "| higher &lt;int&gt; | lower &lt;int&gt; | non_signif &lt;int&gt; |\n",
       "|---|---|---|\n",
       "\n"
      ],
      "text/plain": [
       "     higher lower non_signif"
      ]
     },
     "metadata": {},
     "output_type": "display_data"
    }
   ],
   "source": [
    "signif_template <- structure(list(higher = integer(0), \n",
    "                                   lower = integer(0), \n",
    "                                   non_signif = integer(0)), \n",
    "                              row.names = integer(0), class = \"data.frame\")\n",
    "signif_template"
   ]
  },
  {
   "cell_type": "markdown",
   "metadata": {},
   "source": [
    "In the for-loop we will check if both columns `lower`, `higher` are present, if not add the column and zero count to create the expected sshape of the dataframe:\n",
    "\n",
    "```R\n",
    "signif <- as.data.frame.matrix(expression_abundance)\n",
    "if(! (\"higher\" %in% colnames(signif))) { \n",
    "    \n",
    "    signif$higher <- 0\n",
    "}\n",
    "if(! (\"lower\" %in% colnames(signif))) { \n",
    "\n",
    "    signif$lower <- 0\n",
    "}\n",
    "```"
   ]
  },
  {
   "cell_type": "markdown",
   "metadata": {},
   "source": [
    "Now we can add some more summary statistics eg percentage of genes lower, higher or non-significantly different, "
   ]
  },
  {
   "cell_type": "code",
   "execution_count": 75,
   "metadata": {},
   "outputs": [
    {
     "data": {
      "text/html": [
       "<table>\n",
       "<caption>A data.frame: 1 × 7</caption>\n",
       "<thead>\n",
       "\t<tr><th scope=col>tissue</th><th scope=col>non_signif</th><th scope=col>lower</th><th scope=col>higher</th><th scope=col>% lower</th><th scope=col>% higher</th><th scope=col>% non-signif</th></tr>\n",
       "\t<tr><th scope=col>&lt;chr&gt;</th><th scope=col>&lt;int&gt;</th><th scope=col>&lt;int&gt;</th><th scope=col>&lt;int&gt;</th><th scope=col>&lt;dbl&gt;</th><th scope=col>&lt;dbl&gt;</th><th scope=col>&lt;dbl&gt;</th></tr>\n",
       "</thead>\n",
       "<tbody>\n",
       "\t<tr><td>Adipose-Subcutaneous</td><td>15620</td><td>195</td><td>80</td><td>1.23</td><td>0.5</td><td>98.27</td></tr>\n",
       "</tbody>\n",
       "</table>\n"
      ],
      "text/latex": [
       "A data.frame: 1 × 7\n",
       "\\begin{tabular}{lllllll}\n",
       " tissue & non\\_signif & lower & higher & \\% lower & \\% higher & \\% non-signif\\\\\n",
       " <chr> & <int> & <int> & <int> & <dbl> & <dbl> & <dbl>\\\\\n",
       "\\hline\n",
       "\t Adipose-Subcutaneous & 15620 & 195 & 80 & 1.23 & 0.5 & 98.27\\\\\n",
       "\\end{tabular}\n"
      ],
      "text/markdown": [
       "\n",
       "A data.frame: 1 × 7\n",
       "\n",
       "| tissue &lt;chr&gt; | non_signif &lt;int&gt; | lower &lt;int&gt; | higher &lt;int&gt; | % lower &lt;dbl&gt; | % higher &lt;dbl&gt; | % non-signif &lt;dbl&gt; |\n",
       "|---|---|---|---|---|---|---|\n",
       "| Adipose-Subcutaneous | 15620 | 195 | 80 | 1.23 | 0.5 | 98.27 |\n",
       "\n"
      ],
      "text/plain": [
       "  tissue               non_signif lower higher % lower % higher % non-signif\n",
       "1 Adipose-Subcutaneous 15620      195   80     1.23    0.5      98.27       "
      ]
     },
     "metadata": {},
     "output_type": "display_data"
    }
   ],
   "source": [
    "signif$tissue <- name\n",
    "signif$sum    <- signif$non_signif + signif$higher + signif$lower\n",
    "toKeepInOrder <- c(\"tissue\", \"non_signif\", \"lower\", \"higher\", \"% lower\", \"% higher\", \"% non-signif\")\n",
    "signif$`% higher`     <-  round(signif$higher / signif$sum  * 100, 2)\n",
    "signif$`% lower`      <-  round(signif$lower / signif$sum  * 100, 2)\n",
    "signif$`% non-signif` <-  round(signif$non_signif / signif$sum  * 100, 2)\n",
    "signif <- signif[, toKeepInOrder]\n",
    "signif"
   ]
  },
  {
   "cell_type": "markdown",
   "metadata": {},
   "source": [
    "# Summary table of differentially expressed genes between male and female acrosss tissues\n",
    "\n",
    "Above we demonstrate for one example limma `topTable`. Let's now iterate over all tissue and create an aggregated table of counts of differentially expressed or non-significantly altered between the two sexes."
   ]
  },
  {
   "cell_type": "code",
   "execution_count": 76,
   "metadata": {},
   "outputs": [
    {
     "name": "stderr",
     "output_type": "stream",
     "text": [
      "Adipose-Subcutaneous, N features before GTF merge: 15895, after: 15913\n",
      "\n",
      "Adipose-Visceral(Omentum), N features before GTF merge: 15895, after: 15913\n",
      "\n",
      "AdrenalGland, N features before GTF merge: 15895, after: 15913\n",
      "\n",
      "Artery-Aorta, N features before GTF merge: 15895, after: 15913\n",
      "\n",
      "Artery-Coronary, N features before GTF merge: 15895, after: 15913\n",
      "\n",
      "Artery-Tibial, N features before GTF merge: 15895, after: 15913\n",
      "\n",
      "Bladder, N features before GTF merge: 15895, after: 15913\n",
      "\n",
      "Brain-Amygdala, N features before GTF merge: 15895, after: 15913\n",
      "\n",
      "Brain-Anteriorcingulatecortex(BA24), N features before GTF merge: 15895, after: 15913\n",
      "\n",
      "Brain-Caudate(basalganglia), N features before GTF merge: 15895, after: 15913\n",
      "\n",
      "Brain-CerebellarHemisphere, N features before GTF merge: 15895, after: 15913\n",
      "\n",
      "Brain-Cerebellum, N features before GTF merge: 15895, after: 15913\n",
      "\n",
      "Brain-Cortex, N features before GTF merge: 15895, after: 15913\n",
      "\n",
      "Brain-FrontalCortex(BA9), N features before GTF merge: 15895, after: 15913\n",
      "\n",
      "Brain-Hippocampus, N features before GTF merge: 15895, after: 15913\n",
      "\n",
      "Brain-Hypothalamus, N features before GTF merge: 15895, after: 15913\n",
      "\n",
      "Brain-Nucleusaccumbens(basalganglia), N features before GTF merge: 15895, after: 15913\n",
      "\n",
      "Brain-Putamen(basalganglia), N features before GTF merge: 15895, after: 15913\n",
      "\n",
      "Brain-Spinalcord(cervicalc-1), N features before GTF merge: 15895, after: 15913\n",
      "\n",
      "Brain-Substantianigra, N features before GTF merge: 15895, after: 15913\n",
      "\n",
      "Breast-MammaryTissue, N features before GTF merge: 15895, after: 15913\n",
      "\n",
      "Cells-Culturedfibroblasts, N features before GTF merge: 15895, after: 15913\n",
      "\n",
      "Cells-EBV-transformedlymphocytes, N features before GTF merge: 15895, after: 15913\n",
      "\n",
      "Colon-Sigmoid, N features before GTF merge: 15895, after: 15913\n",
      "\n",
      "Colon-Transverse, N features before GTF merge: 15895, after: 15913\n",
      "\n",
      "Esophagus-GastroesophagealJunction, N features before GTF merge: 15895, after: 15913\n",
      "\n",
      "Esophagus-Mucosa, N features before GTF merge: 15895, after: 15913\n",
      "\n",
      "Esophagus-Muscularis, N features before GTF merge: 15895, after: 15913\n",
      "\n",
      "Heart-AtrialAppendage, N features before GTF merge: 15895, after: 15913\n",
      "\n",
      "Heart-LeftVentricle, N features before GTF merge: 15895, after: 15913\n",
      "\n",
      "Kidney-Cortex, N features before GTF merge: 15895, after: 15913\n",
      "\n",
      "Kidney-Medulla, N features before GTF merge: 15895, after: 15913\n",
      "\n",
      "Liver, N features before GTF merge: 15895, after: 15913\n",
      "\n",
      "Lung, N features before GTF merge: 15895, after: 15913\n",
      "\n",
      "MinorSalivaryGland, N features before GTF merge: 15895, after: 15913\n",
      "\n",
      "Muscle-Skeletal, N features before GTF merge: 15895, after: 15913\n",
      "\n",
      "Nerve-Tibial, N features before GTF merge: 15895, after: 15913\n",
      "\n",
      "Pancreas, N features before GTF merge: 15895, after: 15913\n",
      "\n",
      "Pituitary, N features before GTF merge: 15895, after: 15913\n",
      "\n",
      "Skin-NotSunExposed(Suprapubic), N features before GTF merge: 15895, after: 15913\n",
      "\n",
      "Skin-SunExposed(Lowerleg), N features before GTF merge: 15895, after: 15913\n",
      "\n",
      "SmallIntestine-TerminalIleum, N features before GTF merge: 15895, after: 15913\n",
      "\n",
      "Spleen, N features before GTF merge: 15895, after: 15913\n",
      "\n",
      "Stomach, N features before GTF merge: 15895, after: 15913\n",
      "\n",
      "Thyroid, N features before GTF merge: 15895, after: 15913\n",
      "\n",
      "WholeBlood, N features before GTF merge: 15895, after: 15913\n",
      "\n"
     ]
    },
    {
     "data": {
      "text/html": [
       "<table>\n",
       "<caption>A data.frame: 2 × 7</caption>\n",
       "<thead>\n",
       "\t<tr><th></th><th scope=col>tissue</th><th scope=col>non_signif</th><th scope=col>lower</th><th scope=col>higher</th><th scope=col>% lower</th><th scope=col>% higher</th><th scope=col>% non-signif</th></tr>\n",
       "\t<tr><th></th><th scope=col>&lt;chr&gt;</th><th scope=col>&lt;int&gt;</th><th scope=col>&lt;dbl&gt;</th><th scope=col>&lt;int&gt;</th><th scope=col>&lt;dbl&gt;</th><th scope=col>&lt;dbl&gt;</th><th scope=col>&lt;dbl&gt;</th></tr>\n",
       "</thead>\n",
       "<tbody>\n",
       "\t<tr><th scope=row>21</th><td>Breast-MammaryTissue</td><td>14096</td><td>686</td><td>1131</td><td>4.31</td><td>7.11</td><td>88.58</td></tr>\n",
       "\t<tr><th scope=row>35</th><td>MinorSalivaryGland  </td><td>15631</td><td> 60</td><td> 222</td><td>0.38</td><td>1.40</td><td>98.23</td></tr>\n",
       "</tbody>\n",
       "</table>\n"
      ],
      "text/latex": [
       "A data.frame: 2 × 7\n",
       "\\begin{tabular}{r|lllllll}\n",
       "  & tissue & non\\_signif & lower & higher & \\% lower & \\% higher & \\% non-signif\\\\\n",
       "  & <chr> & <int> & <dbl> & <int> & <dbl> & <dbl> & <dbl>\\\\\n",
       "\\hline\n",
       "\t21 & Breast-MammaryTissue & 14096 & 686 & 1131 & 4.31 & 7.11 & 88.58\\\\\n",
       "\t35 & MinorSalivaryGland   & 15631 &  60 &  222 & 0.38 & 1.40 & 98.23\\\\\n",
       "\\end{tabular}\n"
      ],
      "text/markdown": [
       "\n",
       "A data.frame: 2 × 7\n",
       "\n",
       "| <!--/--> | tissue &lt;chr&gt; | non_signif &lt;int&gt; | lower &lt;dbl&gt; | higher &lt;int&gt; | % lower &lt;dbl&gt; | % higher &lt;dbl&gt; | % non-signif &lt;dbl&gt; |\n",
       "|---|---|---|---|---|---|---|---|\n",
       "| 21 | Breast-MammaryTissue | 14096 | 686 | 1131 | 4.31 | 7.11 | 88.58 |\n",
       "| 35 | MinorSalivaryGland   | 15631 |  60 |  222 | 0.38 | 1.40 | 98.23 |\n",
       "\n"
      ],
      "text/plain": [
       "   tissue               non_signif lower higher % lower % higher % non-signif\n",
       "21 Breast-MammaryTissue 14096      686   1131   4.31    7.11     88.58       \n",
       "35 MinorSalivaryGland   15631       60    222   0.38    1.40     98.23       "
      ]
     },
     "metadata": {},
     "output_type": "display_data"
    },
    {
     "data": {
      "text/html": [
       "<table>\n",
       "<caption>A data.frame: 2 × 19</caption>\n",
       "<thead>\n",
       "\t<tr><th></th><th scope=col>logFC</th><th scope=col>AveExpr</th><th scope=col>t</th><th scope=col>P.Value</th><th scope=col>adj.P.Val</th><th scope=col>B</th><th scope=col>initial_Geneid</th><th scope=col>Geneid</th><th scope=col>abs_logFC</th><th scope=col>FoldChange_dummy</th><th scope=col>abundance</th><th scope=col>GeneSymbol</th><th scope=col>Chromosome</th><th scope=col>Start</th><th scope=col>End</th><th scope=col>Class</th><th scope=col>Strand</th><th scope=col>Length</th><th scope=col>tissue</th></tr>\n",
       "\t<tr><th></th><th scope=col>&lt;dbl&gt;</th><th scope=col>&lt;dbl&gt;</th><th scope=col>&lt;dbl&gt;</th><th scope=col>&lt;dbl&gt;</th><th scope=col>&lt;dbl&gt;</th><th scope=col>&lt;dbl&gt;</th><th scope=col>&lt;chr&gt;</th><th scope=col>&lt;chr&gt;</th><th scope=col>&lt;dbl&gt;</th><th scope=col>&lt;dbl&gt;</th><th scope=col>&lt;chr&gt;</th><th scope=col>&lt;fct&gt;</th><th scope=col>&lt;fct&gt;</th><th scope=col>&lt;int&gt;</th><th scope=col>&lt;int&gt;</th><th scope=col>&lt;fct&gt;</th><th scope=col>&lt;fct&gt;</th><th scope=col>&lt;int&gt;</th><th scope=col>&lt;chr&gt;</th></tr>\n",
       "</thead>\n",
       "<tbody>\n",
       "\t<tr><th scope=row>1</th><td>-9.668735</td><td>4.643844</td><td>-145.5404</td><td>0</td><td>0</td><td>1136.058</td><td>ENSG00000129824.15</td><td>ENSG00000129824</td><td>9.668735</td><td>-813.9156</td><td>lower </td><td>RPS4Y1</td><td>chrY</td><td> 2841602</td><td> 2932000</td><td>protein_coding</td><td>+</td><td>90398</td><td>Adipose-Subcutaneous</td></tr>\n",
       "\t<tr><th scope=row>2</th><td> 9.907847</td><td>1.246117</td><td> 131.3680</td><td>0</td><td>0</td><td>1079.040</td><td>ENSG00000229807.10</td><td>ENSG00000229807</td><td>9.907847</td><td> 960.6365</td><td>higher</td><td>XIST  </td><td>chrX</td><td>73820651</td><td>73852723</td><td>lincRNA       </td><td>-</td><td>32072</td><td>Adipose-Subcutaneous</td></tr>\n",
       "</tbody>\n",
       "</table>\n"
      ],
      "text/latex": [
       "A data.frame: 2 × 19\n",
       "\\begin{tabular}{r|lllllllllllllllllll}\n",
       "  & logFC & AveExpr & t & P.Value & adj.P.Val & B & initial\\_Geneid & Geneid & abs\\_logFC & FoldChange\\_dummy & abundance & GeneSymbol & Chromosome & Start & End & Class & Strand & Length & tissue\\\\\n",
       "  & <dbl> & <dbl> & <dbl> & <dbl> & <dbl> & <dbl> & <chr> & <chr> & <dbl> & <dbl> & <chr> & <fct> & <fct> & <int> & <int> & <fct> & <fct> & <int> & <chr>\\\\\n",
       "\\hline\n",
       "\t1 & -9.668735 & 4.643844 & -145.5404 & 0 & 0 & 1136.058 & ENSG00000129824.15 & ENSG00000129824 & 9.668735 & -813.9156 & lower  & RPS4Y1 & chrY &  2841602 &  2932000 & protein\\_coding & + & 90398 & Adipose-Subcutaneous\\\\\n",
       "\t2 &  9.907847 & 1.246117 &  131.3680 & 0 & 0 & 1079.040 & ENSG00000229807.10 & ENSG00000229807 & 9.907847 &  960.6365 & higher & XIST   & chrX & 73820651 & 73852723 & lincRNA        & - & 32072 & Adipose-Subcutaneous\\\\\n",
       "\\end{tabular}\n"
      ],
      "text/markdown": [
       "\n",
       "A data.frame: 2 × 19\n",
       "\n",
       "| <!--/--> | logFC &lt;dbl&gt; | AveExpr &lt;dbl&gt; | t &lt;dbl&gt; | P.Value &lt;dbl&gt; | adj.P.Val &lt;dbl&gt; | B &lt;dbl&gt; | initial_Geneid &lt;chr&gt; | Geneid &lt;chr&gt; | abs_logFC &lt;dbl&gt; | FoldChange_dummy &lt;dbl&gt; | abundance &lt;chr&gt; | GeneSymbol &lt;fct&gt; | Chromosome &lt;fct&gt; | Start &lt;int&gt; | End &lt;int&gt; | Class &lt;fct&gt; | Strand &lt;fct&gt; | Length &lt;int&gt; | tissue &lt;chr&gt; |\n",
       "|---|---|---|---|---|---|---|---|---|---|---|---|---|---|---|---|---|---|---|---|\n",
       "| 1 | -9.668735 | 4.643844 | -145.5404 | 0 | 0 | 1136.058 | ENSG00000129824.15 | ENSG00000129824 | 9.668735 | -813.9156 | lower  | RPS4Y1 | chrY |  2841602 |  2932000 | protein_coding | + | 90398 | Adipose-Subcutaneous |\n",
       "| 2 |  9.907847 | 1.246117 |  131.3680 | 0 | 0 | 1079.040 | ENSG00000229807.10 | ENSG00000229807 | 9.907847 |  960.6365 | higher | XIST   | chrX | 73820651 | 73852723 | lincRNA        | - | 32072 | Adipose-Subcutaneous |\n",
       "\n"
      ],
      "text/plain": [
       "  logFC     AveExpr  t         P.Value adj.P.Val B        initial_Geneid    \n",
       "1 -9.668735 4.643844 -145.5404 0       0         1136.058 ENSG00000129824.15\n",
       "2  9.907847 1.246117  131.3680 0       0         1079.040 ENSG00000229807.10\n",
       "  Geneid          abs_logFC FoldChange_dummy abundance GeneSymbol Chromosome\n",
       "1 ENSG00000129824 9.668735  -813.9156        lower     RPS4Y1     chrY      \n",
       "2 ENSG00000229807 9.907847   960.6365        higher    XIST       chrX      \n",
       "  Start    End      Class          Strand Length tissue              \n",
       "1  2841602  2932000 protein_coding +      90398  Adipose-Subcutaneous\n",
       "2 73820651 73852723 lincRNA        -      32072  Adipose-Subcutaneous"
      ]
     },
     "metadata": {},
     "output_type": "display_data"
    }
   ],
   "source": [
    "summary_signif <-structure(list(tissue = character(0), \n",
    "                            non_signif = integer(0), \n",
    "                            lower = integer(0),\n",
    "                            higher = integer(0),\n",
    "                            `% lower` = numeric(0), \n",
    "                            `% higher` = numeric(0), \n",
    "                            `% non-signif` = numeric(0)), \n",
    "                       row.names = integer(0), \n",
    "                       class = \"data.frame\")\n",
    "\n",
    "signif_template <- structure(list(higher = integer(0), \n",
    "                                   lower = integer(0), \n",
    "                                   non_signif = integer(0)), \n",
    "                              row.names = integer(0), class = \"data.frame\")\n",
    "\n",
    "signif_per_tissue <- structure(list(logFC = numeric(0), AveExpr = numeric(0), t = numeric(0), \n",
    "                        P.Value = numeric(0), adj.P.Val = numeric(0), B = numeric(0), \n",
    "                        initial_gene_id = character(0), gene_id = character(0), abs_logFC = numeric(0), \n",
    "                        FoldChange_dummy = numeric(0), abundance = character(0), \n",
    "                        GeneSymbol = character(0), Chromosome = character(0), Class = character(0), \n",
    "                        Strand = character(0), tissue = character(0)), row.names = integer(0), class = \"data.frame\")\n",
    "\n",
    "\n",
    "for (i in seq_along(all_topTables)){\n",
    "    topTable <- all_topTables[[i]]\n",
    "    name     <- names(all_topTables)[i] \n",
    "    initial_gene_id <- paste0(\"initial_\", GENE_ID)\n",
    "    topTable[[initial_gene_id]] <- rownames(topTable)\n",
    "    topTable[[GENE_ID]]  <- gsub(\"\\\\..*\",\"\", rownames(topTable))\n",
    "    # replacing NA p-values with p-value = 1\n",
    "    topTable$P.Value[is.na(topTable$P.Value)]     <- 1; \n",
    "    topTable$adj.P.Val[is.na(topTable$adj.P.Val)] <- 1;\n",
    "    topTable$abs_logFC <- abs(topTable$logFC)\n",
    "    # Add helper variable dummy `FoldChange` variable. Use 2 as base of log, because this is the default from limma\n",
    "    # The following statement calculates a dummy fold change (how many times higher or lower)\n",
    "    # The minus symbol is a convention symbol only! to express eg. a fold change of 0.25 as -4, 4 times lower\n",
    "    topTable$FoldChange_dummy    <-   ifelse(topTable$logFC > 0, 2 ^ topTable$logFC, -1 / (2 ^ topTable$logFC))                    \n",
    "\n",
    "    # Add helper variable `abs_logFC`.\n",
    "    topTable$abs_logFC <- abs(topTable$logFC)\n",
    "\n",
    "    # Add helper variable `abundance` for up, down, non_signif\n",
    "    topTable$abundance                                                  <- \"non_signif\"\n",
    "    topTable$abundance[(topTable$logFC >   log2(absFoldChange_cutoff)) & (topTable$adj.P.Val <= adj.P.Val_threshold )]   <- \"higher\"\n",
    "    topTable$abundance[(topTable$logFC <  -log2(absFoldChange_cutoff)) & (topTable$adj.P.Val <= adj.P.Val_threshold )]   <- \"lower\"\n",
    "    before_gtf_merge <- dim(topTable)[1]\n",
    "    topTable <- dplyr::left_join(topTable, GTF, by = GENE_ID)\n",
    "    topTable_signif <- topTable[ topTable$abundance != \"non_signif\", ]\n",
    "    topTable_signif$tissue <- name\n",
    "    signif_per_tissue <- rbind(signif_per_tissue, topTable_signif )\n",
    "    data.table::fwrite(file = paste0(\"../data/signif_\", snakecase::to_snake_case(name), \".csv\"), topTable_signif)\n",
    "    after_gtf_merge <- dim(topTable)[1]\n",
    "    message( name, \", N features before GTF merge: \",before_gtf_merge, \", after: \", after_gtf_merge)\n",
    "    expression_abundance <- t(table(topTable$abundance))\n",
    "    signif <- as.data.frame.matrix(expression_abundance)\n",
    "    if(! (\"higher\" %in% colnames(signif))) {\n",
    "        signif$higher <- 0\n",
    "    }\n",
    "    if(! (\"lower\" %in% colnames(signif))) {\n",
    "        signif$lower <- 0\n",
    "    }\n",
    "    signif$tissue <- name\n",
    "    signif$sum    <-   signif$non_signif + signif$higher + signif$lower\n",
    "    toKeepInOrder <- c(\"tissue\", \"non_signif\", \"lower\", \"higher\", \"% lower\", \"% higher\", \"% non-signif\")\n",
    "    signif$`% higher`     <-  round(signif$higher / signif$sum  * 100, 2)\n",
    "    signif$`% lower`      <-  round(signif$lower / signif$sum  * 100, 2)\n",
    "    signif$`% non-signif` <-  round(signif$non_signif / signif$sum  * 100, 2)\n",
    "    signif <- signif[, toKeepInOrder]\n",
    "    summary_signif <- rbind(summary_signif, signif)   \n",
    "}\n",
    "\n",
    "summary_signif <- summary_signif[order(summary_signif$`% non-signif`), ]\n",
    "head(summary_signif , 2)\n",
    "head(signif_per_tissue, 2)"
   ]
  },
  {
   "cell_type": "markdown",
   "metadata": {},
   "source": [
    "# Defining higher in males or females based on the limma design matrix\n",
    "As we have used 1 for encoding the males and 2 for the females, our *reference level* for the contrast in the expression between males and females is 1, the males.\n",
    "\n",
    "\n",
    "From the `limma` documentation:\n",
    ">The level which is chosen for the *reference level* is the level which is contrasted against. By default, this is simply the first level alphabetically. We can specify that we want group 2 to be the reference level by either using the relevel function [..]\n",
    "\n",
    "By convention, we could say that genes with positive log fold change, are higher in females, whereas the opposite holds true for the ones that are observed to have negative log folde change. "
   ]
  },
  {
   "cell_type": "code",
   "execution_count": 77,
   "metadata": {},
   "outputs": [
    {
     "data": {
      "text/html": [
       "<table>\n",
       "<caption>A data.frame: 1 × 9</caption>\n",
       "<thead>\n",
       "\t<tr><th></th><th scope=col>tissue</th><th scope=col>non_signif</th><th scope=col>lower</th><th scope=col>higher</th><th scope=col>% lower</th><th scope=col>% higher</th><th scope=col>% non-signif</th><th scope=col>higher in males</th><th scope=col>higher in females</th></tr>\n",
       "\t<tr><th></th><th scope=col>&lt;chr&gt;</th><th scope=col>&lt;int&gt;</th><th scope=col>&lt;dbl&gt;</th><th scope=col>&lt;int&gt;</th><th scope=col>&lt;dbl&gt;</th><th scope=col>&lt;dbl&gt;</th><th scope=col>&lt;dbl&gt;</th><th scope=col>&lt;dbl&gt;</th><th scope=col>&lt;int&gt;</th></tr>\n",
       "</thead>\n",
       "<tbody>\n",
       "\t<tr><th scope=row>1</th><td>Adipose-Subcutaneous</td><td>15638</td><td>195</td><td>80</td><td>1.23</td><td>0.5</td><td>98.27</td><td>195</td><td>80</td></tr>\n",
       "</tbody>\n",
       "</table>\n"
      ],
      "text/latex": [
       "A data.frame: 1 × 9\n",
       "\\begin{tabular}{r|lllllllll}\n",
       "  & tissue & non\\_signif & lower & higher & \\% lower & \\% higher & \\% non-signif & higher in males & higher in females\\\\\n",
       "  & <chr> & <int> & <dbl> & <int> & <dbl> & <dbl> & <dbl> & <dbl> & <int>\\\\\n",
       "\\hline\n",
       "\t1 & Adipose-Subcutaneous & 15638 & 195 & 80 & 1.23 & 0.5 & 98.27 & 195 & 80\\\\\n",
       "\\end{tabular}\n"
      ],
      "text/markdown": [
       "\n",
       "A data.frame: 1 × 9\n",
       "\n",
       "| <!--/--> | tissue &lt;chr&gt; | non_signif &lt;int&gt; | lower &lt;dbl&gt; | higher &lt;int&gt; | % lower &lt;dbl&gt; | % higher &lt;dbl&gt; | % non-signif &lt;dbl&gt; | higher in males &lt;dbl&gt; | higher in females &lt;int&gt; |\n",
       "|---|---|---|---|---|---|---|---|---|---|\n",
       "| 1 | Adipose-Subcutaneous | 15638 | 195 | 80 | 1.23 | 0.5 | 98.27 | 195 | 80 |\n",
       "\n"
      ],
      "text/plain": [
       "  tissue               non_signif lower higher % lower % higher % non-signif\n",
       "1 Adipose-Subcutaneous 15638      195   80     1.23    0.5      98.27       \n",
       "  higher in males higher in females\n",
       "1 195             80               "
      ]
     },
     "metadata": {},
     "output_type": "display_data"
    }
   ],
   "source": [
    "summary_signif$`higher in males`   <- summary_signif$lower\n",
    "summary_signif$`higher in females` <- summary_signif$higher\n",
    "head(summary_signif[summary_signif$tissue == \"Adipose-Subcutaneous\", ])"
   ]
  },
  {
   "cell_type": "markdown",
   "metadata": {},
   "source": [
    "# Preparing the summary table for plotting\n",
    "\n",
    "We will need to aggregate the number of genes in one column in order to be able to plot, and also convert the `Tissue` column to a factor. We will use the `reshape` R package to *melt* the dataframe from a wide to a long version, as described above:"
   ]
  },
  {
   "cell_type": "code",
   "execution_count": 78,
   "metadata": {},
   "outputs": [
    {
     "data": {
      "text/html": [
       "<table>\n",
       "<caption>A data.frame: 2 × 3</caption>\n",
       "<thead>\n",
       "\t<tr><th></th><th scope=col>Tissue</th><th scope=col>Sex Bias</th><th scope=col>Number of Genes</th></tr>\n",
       "\t<tr><th></th><th scope=col>&lt;fct&gt;</th><th scope=col>&lt;fct&gt;</th><th scope=col>&lt;dbl&gt;</th></tr>\n",
       "</thead>\n",
       "<tbody>\n",
       "\t<tr><th scope=row>3</th><td>Adipose-Subcutaneous</td><td>higher in males  </td><td>195</td></tr>\n",
       "\t<tr><th scope=row>49</th><td>Adipose-Subcutaneous</td><td>higher in females</td><td> 80</td></tr>\n",
       "</tbody>\n",
       "</table>\n"
      ],
      "text/latex": [
       "A data.frame: 2 × 3\n",
       "\\begin{tabular}{r|lll}\n",
       "  & Tissue & Sex Bias & Number of Genes\\\\\n",
       "  & <fct> & <fct> & <dbl>\\\\\n",
       "\\hline\n",
       "\t3 & Adipose-Subcutaneous & higher in males   & 195\\\\\n",
       "\t49 & Adipose-Subcutaneous & higher in females &  80\\\\\n",
       "\\end{tabular}\n"
      ],
      "text/markdown": [
       "\n",
       "A data.frame: 2 × 3\n",
       "\n",
       "| <!--/--> | Tissue &lt;fct&gt; | Sex Bias &lt;fct&gt; | Number of Genes &lt;dbl&gt; |\n",
       "|---|---|---|---|\n",
       "| 3 | Adipose-Subcutaneous | higher in males   | 195 |\n",
       "| 49 | Adipose-Subcutaneous | higher in females |  80 |\n",
       "\n"
      ],
      "text/plain": [
       "   Tissue               Sex Bias          Number of Genes\n",
       "3  Adipose-Subcutaneous higher in males   195            \n",
       "49 Adipose-Subcutaneous higher in females  80            "
      ]
     },
     "metadata": {},
     "output_type": "display_data"
    }
   ],
   "source": [
    "toPlot <- summary_signif[, c( \"tissue\", \"higher in males\", \"higher in females\")]\n",
    "toPlot <- reshape::melt(toPlot, id=c(\"tissue\"))\n",
    "toPlot$tissue <- as.factor(toPlot$tissue)\n",
    "colnames(toPlot) <- c(\"Tissue\", \"Sex Bias\", \"Number of Genes\")\n",
    "head(toPlot[toPlot$Tissue == \"Adipose-Subcutaneous\", ])"
   ]
  },
  {
   "cell_type": "code",
   "execution_count": 79,
   "metadata": {},
   "outputs": [
    {
     "data": {
      "image/png": "[encoded data removed]",
      "text/plain": [
       "plot without title"
      ]
     },
     "metadata": {
      "image/png": {
       "height": 1200,
       "width": 930
      },
      "text/plain": {
       "height": 1200,
       "width": 930
      }
     },
     "output_type": "display_data"
    }
   ],
   "source": [
    "options(repr.plot.width=15.5, repr.plot.height=20)\n",
    "\n",
    "ggplot(toPlot, aes(x = Tissue, y = `Number of Genes`, fill = `Sex Bias`)) + \n",
    "  geom_bar(stat=\"identity\", position = \"dodge\") + \n",
    "  scale_fill_manual (values = c( \"higher in males\" = \"#4A637B\" , \"higher in females\" = \"#f35f71\")) + \n",
    "  \n",
    "  theme(text              = element_text(color = \"#4A637B\", face = \"bold\", family = 'Helvetica')\n",
    "        ,plot.caption     = element_text(size =  12, color = \"#8d99ae\", face = \"plain\", hjust= 1.05) \n",
    "        ,plot.title       = element_text(size =  18, color = \"#2b2d42\", face = \"bold\", hjust= 0.5)\n",
    "        ,axis.text.y      = element_text(angle =  0, size = 10, color = \"#8d99ae\", face = \"bold\", hjust=1.1)\n",
    "        ,axis.text.x      = element_text(angle = 70, size = 12, color = \"#8d99ae\", face = \"bold\", hjust=1.1)\n",
    "        ,axis.title.x     = element_blank()\n",
    "        ,axis.ticks.x     = element_blank()\n",
    "        ,axis.ticks.y     = element_blank()\n",
    "        ,plot.margin      = unit(c(1,1,1,1),\"cm\")\n",
    "        ,panel.background = element_blank()\n",
    "        ,legend.position  = \"right\") +\n",
    "  \n",
    "\n",
    "  geom_text(aes(y = `Number of Genes` + 15, \n",
    "                label = `Number of Genes`),\n",
    "                size = 3,\n",
    "                color     = \"#4A637B\",\n",
    "                position  =  position_dodge(width = 1),\n",
    "                family    = 'Helvetica') +\n",
    "  \n",
    "  labs(title   = \"Number of genes with higher expression in each sex per tissue\\n\",\n",
    "       caption = \"\\nsource: 'The impact of sex on alternative splicing'\\n doi: https://doi.org/10.1101/490904\",\n",
    "       y   = \"\\nNumber of Differentially Expressed Genes\")  + coord_flip()\n",
    "\n"
   ]
  },
  {
   "cell_type": "markdown",
   "metadata": {},
   "source": [
    "# Mutually exclusive sex biased genes (higher expression in one or the other sex only)\n",
    "\n",
    "\n",
    "The dataframe `signif_per_tissue` contains all the information for the genes that were significantly higher in either of the two sexes. WLet's examine how many mutually exclusive genes were found across all examined tissues. Ensembl encodes as `Chromosome` the chromosomal position, so we will create the required variables to retrieve only the chromosome information for producing summary statistics."
   ]
  },
  {
   "cell_type": "code",
   "execution_count": 80,
   "metadata": {},
   "outputs": [
    {
     "name": "stdout",
     "output_type": "stream",
     "text": [
      "c(\"logFC\", \"AveExpr\", \"t\", \"P.Value\", \"adj.P.Val\", \"B\", \"initial_Geneid\", \n",
      "\"Geneid\", \"abs_logFC\", \"FoldChange_dummy\", \"abundance\", \"GeneSymbol\", \n",
      "\"Chromosome\", \"Start\", \"End\", \"Class\", \"Strand\", \"Length\", \"tissue\"\n",
      ")\n"
     ]
    }
   ],
   "source": [
    "dput(colnames(signif_per_tissue))"
   ]
  },
  {
   "cell_type": "code",
   "execution_count": 81,
   "metadata": {},
   "outputs": [
    {
     "data": {
      "text/html": [
       "<table>\n",
       "<caption>A data.frame: 4 × 19</caption>\n",
       "<thead>\n",
       "\t<tr><th></th><th scope=col>initial_Geneid</th><th scope=col>GeneSymbol</th><th scope=col>logFC</th><th scope=col>adj.P.Val</th><th scope=col>abundance</th><th scope=col>higher_in</th><th scope=col>tissue</th><th scope=col>Chromosome</th><th scope=col>Geneid</th><th scope=col>abs_logFC</th><th scope=col>FoldChange_dummy</th><th scope=col>Class</th><th scope=col>Strand</th><th scope=col>Chromosomal_Position</th><th scope=col>AveExpr</th><th scope=col>t</th><th scope=col>P.Value</th><th scope=col>adj.P.Val.1</th><th scope=col>B</th></tr>\n",
       "\t<tr><th></th><th scope=col>&lt;chr&gt;</th><th scope=col>&lt;fct&gt;</th><th scope=col>&lt;dbl&gt;</th><th scope=col>&lt;dbl&gt;</th><th scope=col>&lt;chr&gt;</th><th scope=col>&lt;chr&gt;</th><th scope=col>&lt;chr&gt;</th><th scope=col>&lt;chr&gt;</th><th scope=col>&lt;chr&gt;</th><th scope=col>&lt;dbl&gt;</th><th scope=col>&lt;dbl&gt;</th><th scope=col>&lt;fct&gt;</th><th scope=col>&lt;fct&gt;</th><th scope=col>&lt;fct&gt;</th><th scope=col>&lt;dbl&gt;</th><th scope=col>&lt;dbl&gt;</th><th scope=col>&lt;dbl&gt;</th><th scope=col>&lt;dbl&gt;</th><th scope=col>&lt;dbl&gt;</th></tr>\n",
       "</thead>\n",
       "<tbody>\n",
       "\t<tr><th scope=row>1</th><td>ENSG00000129824.15</td><td>RPS4Y1</td><td>-9.668735</td><td>0</td><td>lower </td><td>males  </td><td>Adipose-Subcutaneous</td><td>chrY</td><td>ENSG00000129824</td><td>9.668735</td><td>-813.9156</td><td>protein_coding</td><td>+</td><td>chrY</td><td> 4.6438444</td><td>-145.5404</td><td>0</td><td>0</td><td>1136.0576</td></tr>\n",
       "\t<tr><th scope=row>2</th><td>ENSG00000229807.10</td><td>XIST  </td><td> 9.907847</td><td>0</td><td>higher</td><td>females</td><td>Adipose-Subcutaneous</td><td>chrX</td><td>ENSG00000229807</td><td>9.907847</td><td> 960.6365</td><td>lincRNA       </td><td>-</td><td>chrX</td><td> 1.2461171</td><td> 131.3680</td><td>0</td><td>0</td><td>1079.0402</td></tr>\n",
       "\t<tr><th scope=row>3</th><td>ENSG00000067048.16</td><td>DDX3Y </td><td>-9.698380</td><td>0</td><td>lower </td><td>males  </td><td>Adipose-Subcutaneous</td><td>chrY</td><td>ENSG00000067048</td><td>9.698380</td><td>-830.8129</td><td>protein_coding</td><td>+</td><td>chrY</td><td> 3.7021122</td><td>-108.3868</td><td>0</td><td>0</td><td> 952.4945</td></tr>\n",
       "\t<tr><th scope=row>4</th><td>ENSG00000176728.7 </td><td>TTTY14</td><td>-8.082798</td><td>0</td><td>lower </td><td>males  </td><td>Adipose-Subcutaneous</td><td>chrY</td><td>ENSG00000176728</td><td>8.082798</td><td>-271.1219</td><td>lincRNA       </td><td>-</td><td>chrY</td><td>-0.9202562</td><td>-105.5946</td><td>0</td><td>0</td><td> 922.2647</td></tr>\n",
       "</tbody>\n",
       "</table>\n"
      ],
      "text/latex": [
       "A data.frame: 4 × 19\n",
       "\\begin{tabular}{r|lllllllllllllllllll}\n",
       "  & initial\\_Geneid & GeneSymbol & logFC & adj.P.Val & abundance & higher\\_in & tissue & Chromosome & Geneid & abs\\_logFC & FoldChange\\_dummy & Class & Strand & Chromosomal\\_Position & AveExpr & t & P.Value & adj.P.Val.1 & B\\\\\n",
       "  & <chr> & <fct> & <dbl> & <dbl> & <chr> & <chr> & <chr> & <chr> & <chr> & <dbl> & <dbl> & <fct> & <fct> & <fct> & <dbl> & <dbl> & <dbl> & <dbl> & <dbl>\\\\\n",
       "\\hline\n",
       "\t1 & ENSG00000129824.15 & RPS4Y1 & -9.668735 & 0 & lower  & males   & Adipose-Subcutaneous & chrY & ENSG00000129824 & 9.668735 & -813.9156 & protein\\_coding & + & chrY &  4.6438444 & -145.5404 & 0 & 0 & 1136.0576\\\\\n",
       "\t2 & ENSG00000229807.10 & XIST   &  9.907847 & 0 & higher & females & Adipose-Subcutaneous & chrX & ENSG00000229807 & 9.907847 &  960.6365 & lincRNA        & - & chrX &  1.2461171 &  131.3680 & 0 & 0 & 1079.0402\\\\\n",
       "\t3 & ENSG00000067048.16 & DDX3Y  & -9.698380 & 0 & lower  & males   & Adipose-Subcutaneous & chrY & ENSG00000067048 & 9.698380 & -830.8129 & protein\\_coding & + & chrY &  3.7021122 & -108.3868 & 0 & 0 &  952.4945\\\\\n",
       "\t4 & ENSG00000176728.7  & TTTY14 & -8.082798 & 0 & lower  & males   & Adipose-Subcutaneous & chrY & ENSG00000176728 & 8.082798 & -271.1219 & lincRNA        & - & chrY & -0.9202562 & -105.5946 & 0 & 0 &  922.2647\\\\\n",
       "\\end{tabular}\n"
      ],
      "text/markdown": [
       "\n",
       "A data.frame: 4 × 19\n",
       "\n",
       "| <!--/--> | initial_Geneid &lt;chr&gt; | GeneSymbol &lt;fct&gt; | logFC &lt;dbl&gt; | adj.P.Val &lt;dbl&gt; | abundance &lt;chr&gt; | higher_in &lt;chr&gt; | tissue &lt;chr&gt; | Chromosome &lt;chr&gt; | Geneid &lt;chr&gt; | abs_logFC &lt;dbl&gt; | FoldChange_dummy &lt;dbl&gt; | Class &lt;fct&gt; | Strand &lt;fct&gt; | Chromosomal_Position &lt;fct&gt; | AveExpr &lt;dbl&gt; | t &lt;dbl&gt; | P.Value &lt;dbl&gt; | adj.P.Val.1 &lt;dbl&gt; | B &lt;dbl&gt; |\n",
       "|---|---|---|---|---|---|---|---|---|---|---|---|---|---|---|---|---|---|---|---|\n",
       "| 1 | ENSG00000129824.15 | RPS4Y1 | -9.668735 | 0 | lower  | males   | Adipose-Subcutaneous | chrY | ENSG00000129824 | 9.668735 | -813.9156 | protein_coding | + | chrY |  4.6438444 | -145.5404 | 0 | 0 | 1136.0576 |\n",
       "| 2 | ENSG00000229807.10 | XIST   |  9.907847 | 0 | higher | females | Adipose-Subcutaneous | chrX | ENSG00000229807 | 9.907847 |  960.6365 | lincRNA        | - | chrX |  1.2461171 |  131.3680 | 0 | 0 | 1079.0402 |\n",
       "| 3 | ENSG00000067048.16 | DDX3Y  | -9.698380 | 0 | lower  | males   | Adipose-Subcutaneous | chrY | ENSG00000067048 | 9.698380 | -830.8129 | protein_coding | + | chrY |  3.7021122 | -108.3868 | 0 | 0 |  952.4945 |\n",
       "| 4 | ENSG00000176728.7  | TTTY14 | -8.082798 | 0 | lower  | males   | Adipose-Subcutaneous | chrY | ENSG00000176728 | 8.082798 | -271.1219 | lincRNA        | - | chrY | -0.9202562 | -105.5946 | 0 | 0 |  922.2647 |\n",
       "\n"
      ],
      "text/plain": [
       "  initial_Geneid     GeneSymbol logFC     adj.P.Val abundance higher_in\n",
       "1 ENSG00000129824.15 RPS4Y1     -9.668735 0         lower     males    \n",
       "2 ENSG00000229807.10 XIST        9.907847 0         higher    females  \n",
       "3 ENSG00000067048.16 DDX3Y      -9.698380 0         lower     males    \n",
       "4 ENSG00000176728.7  TTTY14     -8.082798 0         lower     males    \n",
       "  tissue               Chromosome Geneid          abs_logFC FoldChange_dummy\n",
       "1 Adipose-Subcutaneous chrY       ENSG00000129824 9.668735  -813.9156       \n",
       "2 Adipose-Subcutaneous chrX       ENSG00000229807 9.907847   960.6365       \n",
       "3 Adipose-Subcutaneous chrY       ENSG00000067048 9.698380  -830.8129       \n",
       "4 Adipose-Subcutaneous chrY       ENSG00000176728 8.082798  -271.1219       \n",
       "  Class          Strand Chromosomal_Position AveExpr    t         P.Value\n",
       "1 protein_coding +      chrY                  4.6438444 -145.5404 0      \n",
       "2 lincRNA        -      chrX                  1.2461171  131.3680 0      \n",
       "3 protein_coding +      chrY                  3.7021122 -108.3868 0      \n",
       "4 lincRNA        -      chrY                 -0.9202562 -105.5946 0      \n",
       "  adj.P.Val.1 B        \n",
       "1 0           1136.0576\n",
       "2 0           1079.0402\n",
       "3 0            952.4945\n",
       "4 0            922.2647"
      ]
     },
     "metadata": {},
     "output_type": "display_data"
    }
   ],
   "source": [
    "signif_per_tissue$Chromosomal_Position <- signif_per_tissue$Chromosome\n",
    "signif_per_tissue$Chromosome <- gsub(\"\\\\:.*\",\"\", signif_per_tissue$Chromosome)\n",
    "signif_per_tissue$higher_in  <- 0\n",
    "signif_per_tissue$higher_in[(signif_per_tissue$abundance == \"lower\" )] <- \"males\"\n",
    "signif_per_tissue$higher_in[(signif_per_tissue$abundance == \"higher\" )] <- \"females\"\n",
    "toKeepInOrder <- c( paste0(\"initial_\", GENE_ID), \"GeneSymbol\", \"logFC\",  \"adj.P.Val\", \"abundance\", \"higher_in\",  \"tissue\", \"Chromosome\", \n",
    "GENE_ID, \"abs_logFC\", \"FoldChange_dummy\", \n",
    "\"Class\", \"Strand\",\"Chromosomal_Position\", \n",
    " \"AveExpr\", \"t\", \"P.Value\", \"adj.P.Val\", \"B\")\n",
    "signif_per_tissue <- signif_per_tissue[, toKeepInOrder]\n",
    "head(signif_per_tissue, 4)"
   ]
  },
  {
   "cell_type": "markdown",
   "metadata": {},
   "source": [
    "# Examine mutually exclusive genes upregulated in each sex"
   ]
  },
  {
   "cell_type": "code",
   "execution_count": 82,
   "metadata": {},
   "outputs": [
    {
     "data": {
      "text/html": [
       "1301"
      ],
      "text/latex": [
       "1301"
      ],
      "text/markdown": [
       "1301"
      ],
      "text/plain": [
       "[1] 1301"
      ]
     },
     "metadata": {},
     "output_type": "display_data"
    },
    {
     "data": {
      "text/html": [
       "1816"
      ],
      "text/latex": [
       "1816"
      ],
      "text/markdown": [
       "1816"
      ],
      "text/plain": [
       "[1] 1816"
      ]
     },
     "metadata": {},
     "output_type": "display_data"
    }
   ],
   "source": [
    "female_biased <- unique(signif_per_tissue[[paste0(\"initial_\", GENE_ID)]] [ signif_per_tissue$higher_in == \"females\" ] )\n",
    "male_biased   <- unique(signif_per_tissue[[paste0(\"initial_\", GENE_ID)]] [ signif_per_tissue$higher_in == \"males\"  ] )\n",
    "\n",
    "length(male_biased)\n",
    "length(female_biased)"
   ]
  },
  {
   "cell_type": "code",
   "execution_count": 83,
   "metadata": {},
   "outputs": [
    {
     "data": {
      "text/html": [
       "462"
      ],
      "text/latex": [
       "462"
      ],
      "text/markdown": [
       "462"
      ],
      "text/plain": [
       "[1] 462"
      ]
     },
     "metadata": {},
     "output_type": "display_data"
    },
    {
     "data": {
      "text/html": [
       "462"
      ],
      "text/latex": [
       "462"
      ],
      "text/markdown": [
       "462"
      ],
      "text/plain": [
       "[1] 462"
      ]
     },
     "metadata": {},
     "output_type": "display_data"
    }
   ],
   "source": [
    "## Present in both\n",
    "\n",
    "length((intersect(male_biased, female_biased)))\n",
    "length((intersect(female_biased, male_biased)))\n",
    "\n",
    "intersect <- (intersect(male_biased, female_biased))\n"
   ]
  },
  {
   "cell_type": "code",
   "execution_count": 84,
   "metadata": {},
   "outputs": [
    {
     "data": {
      "text/html": [
       "839"
      ],
      "text/latex": [
       "839"
      ],
      "text/markdown": [
       "839"
      ],
      "text/plain": [
       "[1] 839"
      ]
     },
     "metadata": {},
     "output_type": "display_data"
    },
    {
     "data": {
      "text/html": [
       "1354"
      ],
      "text/latex": [
       "1354"
      ],
      "text/markdown": [
       "1354"
      ],
      "text/plain": [
       "[1] 1354"
      ]
     },
     "metadata": {},
     "output_type": "display_data"
    }
   ],
   "source": [
    "## Only in males\n",
    "length(male_biased[! (male_biased %in% intersect)])\n",
    "\n",
    "## Only females\n",
    "length(female_biased[! (female_biased %in% intersect)])"
   ]
  },
  {
   "cell_type": "code",
   "execution_count": 85,
   "metadata": {},
   "outputs": [
    {
     "data": {
      "text/html": [
       "<table>\n",
       "<caption>A data.frame: 4 × 19</caption>\n",
       "<thead>\n",
       "\t<tr><th></th><th scope=col>initial_Geneid</th><th scope=col>GeneSymbol</th><th scope=col>logFC</th><th scope=col>adj.P.Val</th><th scope=col>abundance</th><th scope=col>higher_in</th><th scope=col>tissue</th><th scope=col>Chromosome</th><th scope=col>Geneid</th><th scope=col>abs_logFC</th><th scope=col>FoldChange_dummy</th><th scope=col>Class</th><th scope=col>Strand</th><th scope=col>Chromosomal_Position</th><th scope=col>AveExpr</th><th scope=col>t</th><th scope=col>P.Value</th><th scope=col>adj.P.Val.1</th><th scope=col>B</th></tr>\n",
       "\t<tr><th></th><th scope=col>&lt;chr&gt;</th><th scope=col>&lt;fct&gt;</th><th scope=col>&lt;dbl&gt;</th><th scope=col>&lt;dbl&gt;</th><th scope=col>&lt;chr&gt;</th><th scope=col>&lt;chr&gt;</th><th scope=col>&lt;chr&gt;</th><th scope=col>&lt;chr&gt;</th><th scope=col>&lt;chr&gt;</th><th scope=col>&lt;dbl&gt;</th><th scope=col>&lt;dbl&gt;</th><th scope=col>&lt;fct&gt;</th><th scope=col>&lt;fct&gt;</th><th scope=col>&lt;fct&gt;</th><th scope=col>&lt;dbl&gt;</th><th scope=col>&lt;dbl&gt;</th><th scope=col>&lt;dbl&gt;</th><th scope=col>&lt;dbl&gt;</th><th scope=col>&lt;dbl&gt;</th></tr>\n",
       "</thead>\n",
       "<tbody>\n",
       "\t<tr><th scope=row>1</th><td>ENSG00000129824.15</td><td>RPS4Y1</td><td>-9.668735</td><td>0</td><td>lower</td><td>males</td><td>Adipose-Subcutaneous</td><td>chrY</td><td>ENSG00000129824</td><td>9.668735</td><td>-813.9156</td><td>protein_coding</td><td>+</td><td>chrY</td><td> 4.6438444</td><td>-145.5404</td><td>0</td><td>0</td><td>1136.0576</td></tr>\n",
       "\t<tr><th scope=row>3</th><td>ENSG00000067048.16</td><td>DDX3Y </td><td>-9.698380</td><td>0</td><td>lower</td><td>males</td><td>Adipose-Subcutaneous</td><td>chrY</td><td>ENSG00000067048</td><td>9.698380</td><td>-830.8129</td><td>protein_coding</td><td>+</td><td>chrY</td><td> 3.7021122</td><td>-108.3868</td><td>0</td><td>0</td><td> 952.4945</td></tr>\n",
       "\t<tr><th scope=row>4</th><td>ENSG00000176728.7 </td><td>TTTY14</td><td>-8.082798</td><td>0</td><td>lower</td><td>males</td><td>Adipose-Subcutaneous</td><td>chrY</td><td>ENSG00000176728</td><td>8.082798</td><td>-271.1219</td><td>lincRNA       </td><td>-</td><td>chrY</td><td>-0.9202562</td><td>-105.5946</td><td>0</td><td>0</td><td> 922.2647</td></tr>\n",
       "\t<tr><th scope=row>5</th><td>ENSG00000012817.15</td><td>KDM5D </td><td>-9.608969</td><td>0</td><td>lower</td><td>males</td><td>Adipose-Subcutaneous</td><td>chrY</td><td>ENSG00000012817</td><td>9.608969</td><td>-780.8863</td><td>protein_coding</td><td>-</td><td>chrY</td><td> 3.4369019</td><td>-101.8719</td><td>0</td><td>0</td><td> 914.3474</td></tr>\n",
       "</tbody>\n",
       "</table>\n"
      ],
      "text/latex": [
       "A data.frame: 4 × 19\n",
       "\\begin{tabular}{r|lllllllllllllllllll}\n",
       "  & initial\\_Geneid & GeneSymbol & logFC & adj.P.Val & abundance & higher\\_in & tissue & Chromosome & Geneid & abs\\_logFC & FoldChange\\_dummy & Class & Strand & Chromosomal\\_Position & AveExpr & t & P.Value & adj.P.Val.1 & B\\\\\n",
       "  & <chr> & <fct> & <dbl> & <dbl> & <chr> & <chr> & <chr> & <chr> & <chr> & <dbl> & <dbl> & <fct> & <fct> & <fct> & <dbl> & <dbl> & <dbl> & <dbl> & <dbl>\\\\\n",
       "\\hline\n",
       "\t1 & ENSG00000129824.15 & RPS4Y1 & -9.668735 & 0 & lower & males & Adipose-Subcutaneous & chrY & ENSG00000129824 & 9.668735 & -813.9156 & protein\\_coding & + & chrY &  4.6438444 & -145.5404 & 0 & 0 & 1136.0576\\\\\n",
       "\t3 & ENSG00000067048.16 & DDX3Y  & -9.698380 & 0 & lower & males & Adipose-Subcutaneous & chrY & ENSG00000067048 & 9.698380 & -830.8129 & protein\\_coding & + & chrY &  3.7021122 & -108.3868 & 0 & 0 &  952.4945\\\\\n",
       "\t4 & ENSG00000176728.7  & TTTY14 & -8.082798 & 0 & lower & males & Adipose-Subcutaneous & chrY & ENSG00000176728 & 8.082798 & -271.1219 & lincRNA        & - & chrY & -0.9202562 & -105.5946 & 0 & 0 &  922.2647\\\\\n",
       "\t5 & ENSG00000012817.15 & KDM5D  & -9.608969 & 0 & lower & males & Adipose-Subcutaneous & chrY & ENSG00000012817 & 9.608969 & -780.8863 & protein\\_coding & - & chrY &  3.4369019 & -101.8719 & 0 & 0 &  914.3474\\\\\n",
       "\\end{tabular}\n"
      ],
      "text/markdown": [
       "\n",
       "A data.frame: 4 × 19\n",
       "\n",
       "| <!--/--> | initial_Geneid &lt;chr&gt; | GeneSymbol &lt;fct&gt; | logFC &lt;dbl&gt; | adj.P.Val &lt;dbl&gt; | abundance &lt;chr&gt; | higher_in &lt;chr&gt; | tissue &lt;chr&gt; | Chromosome &lt;chr&gt; | Geneid &lt;chr&gt; | abs_logFC &lt;dbl&gt; | FoldChange_dummy &lt;dbl&gt; | Class &lt;fct&gt; | Strand &lt;fct&gt; | Chromosomal_Position &lt;fct&gt; | AveExpr &lt;dbl&gt; | t &lt;dbl&gt; | P.Value &lt;dbl&gt; | adj.P.Val.1 &lt;dbl&gt; | B &lt;dbl&gt; |\n",
       "|---|---|---|---|---|---|---|---|---|---|---|---|---|---|---|---|---|---|---|---|\n",
       "| 1 | ENSG00000129824.15 | RPS4Y1 | -9.668735 | 0 | lower | males | Adipose-Subcutaneous | chrY | ENSG00000129824 | 9.668735 | -813.9156 | protein_coding | + | chrY |  4.6438444 | -145.5404 | 0 | 0 | 1136.0576 |\n",
       "| 3 | ENSG00000067048.16 | DDX3Y  | -9.698380 | 0 | lower | males | Adipose-Subcutaneous | chrY | ENSG00000067048 | 9.698380 | -830.8129 | protein_coding | + | chrY |  3.7021122 | -108.3868 | 0 | 0 |  952.4945 |\n",
       "| 4 | ENSG00000176728.7  | TTTY14 | -8.082798 | 0 | lower | males | Adipose-Subcutaneous | chrY | ENSG00000176728 | 8.082798 | -271.1219 | lincRNA        | - | chrY | -0.9202562 | -105.5946 | 0 | 0 |  922.2647 |\n",
       "| 5 | ENSG00000012817.15 | KDM5D  | -9.608969 | 0 | lower | males | Adipose-Subcutaneous | chrY | ENSG00000012817 | 9.608969 | -780.8863 | protein_coding | - | chrY |  3.4369019 | -101.8719 | 0 | 0 |  914.3474 |\n",
       "\n"
      ],
      "text/plain": [
       "  initial_Geneid     GeneSymbol logFC     adj.P.Val abundance higher_in\n",
       "1 ENSG00000129824.15 RPS4Y1     -9.668735 0         lower     males    \n",
       "3 ENSG00000067048.16 DDX3Y      -9.698380 0         lower     males    \n",
       "4 ENSG00000176728.7  TTTY14     -8.082798 0         lower     males    \n",
       "5 ENSG00000012817.15 KDM5D      -9.608969 0         lower     males    \n",
       "  tissue               Chromosome Geneid          abs_logFC FoldChange_dummy\n",
       "1 Adipose-Subcutaneous chrY       ENSG00000129824 9.668735  -813.9156       \n",
       "3 Adipose-Subcutaneous chrY       ENSG00000067048 9.698380  -830.8129       \n",
       "4 Adipose-Subcutaneous chrY       ENSG00000176728 8.082798  -271.1219       \n",
       "5 Adipose-Subcutaneous chrY       ENSG00000012817 9.608969  -780.8863       \n",
       "  Class          Strand Chromosomal_Position AveExpr    t         P.Value\n",
       "1 protein_coding +      chrY                  4.6438444 -145.5404 0      \n",
       "3 protein_coding +      chrY                  3.7021122 -108.3868 0      \n",
       "4 lincRNA        -      chrY                 -0.9202562 -105.5946 0      \n",
       "5 protein_coding -      chrY                  3.4369019 -101.8719 0      \n",
       "  adj.P.Val.1 B        \n",
       "1 0           1136.0576\n",
       "3 0            952.4945\n",
       "4 0            922.2647\n",
       "5 0            914.3474"
      ]
     },
     "metadata": {},
     "output_type": "display_data"
    },
    {
     "name": "stderr",
     "output_type": "stream",
     "text": [
      "64.49 % of differentially expressed genes higher in males only found to be significantly differentin males\n",
      "\n",
      "74.56 % of differentially expressed genes higher in females only found to be significantly different in females\n",
      "\n"
     ]
    }
   ],
   "source": [
    "perc_only_male <-  length(male_biased[! (male_biased %in% intersect)]) / length(male_biased) * 100\n",
    "perc_only_female <-  length(female_biased[! (female_biased %in% intersect)]) / length(female_biased) * 100\n",
    "\n",
    "head( signif_per_tissue[ signif_per_tissue[[paste0(\"initial_\", GENE_ID)]] %in% male_biased[! (male_biased %in% intersect)],  ] , 4 )\n",
    "\n",
    "\n",
    "message(round(perc_only_male, 2), \" % of differentially expressed genes higher in males only found to be significantly differentin males\")\n",
    "message(round(perc_only_female,2), \" % of differentially expressed genes higher in females only found to be significantly different in females\")"
   ]
  },
  {
   "cell_type": "markdown",
   "metadata": {},
   "source": [
    "## Significantly higher only in males"
   ]
  },
  {
   "cell_type": "code",
   "execution_count": 86,
   "metadata": {},
   "outputs": [
    {
     "data": {
      "text/html": [
       "<style>\n",
       ".list-inline {list-style: none; margin:0; padding: 0}\n",
       ".list-inline>li {display: inline-block}\n",
       ".list-inline>li:not(:last-child)::after {content: \"\\00b7\"; padding: 0 .5ex}\n",
       "</style>\n",
       "<ol class=list-inline><li>2005</li><li>19</li></ol>\n"
      ],
      "text/latex": [
       "\\begin{enumerate*}\n",
       "\\item 2005\n",
       "\\item 19\n",
       "\\end{enumerate*}\n"
      ],
      "text/markdown": [
       "1. 2005\n",
       "2. 19\n",
       "\n",
       "\n"
      ],
      "text/plain": [
       "[1] 2005   19"
      ]
     },
     "metadata": {},
     "output_type": "display_data"
    },
    {
     "data": {
      "text/html": [
       "<table>\n",
       "<caption>A data.frame: 5 × 19</caption>\n",
       "<thead>\n",
       "\t<tr><th></th><th scope=col>initial_Geneid</th><th scope=col>GeneSymbol</th><th scope=col>logFC</th><th scope=col>adj.P.Val</th><th scope=col>abundance</th><th scope=col>higher_in</th><th scope=col>tissue</th><th scope=col>Chromosome</th><th scope=col>Geneid</th><th scope=col>abs_logFC</th><th scope=col>FoldChange_dummy</th><th scope=col>Class</th><th scope=col>Strand</th><th scope=col>Chromosomal_Position</th><th scope=col>AveExpr</th><th scope=col>t</th><th scope=col>P.Value</th><th scope=col>adj.P.Val.1</th><th scope=col>B</th></tr>\n",
       "\t<tr><th></th><th scope=col>&lt;chr&gt;</th><th scope=col>&lt;fct&gt;</th><th scope=col>&lt;dbl&gt;</th><th scope=col>&lt;dbl&gt;</th><th scope=col>&lt;chr&gt;</th><th scope=col>&lt;chr&gt;</th><th scope=col>&lt;chr&gt;</th><th scope=col>&lt;chr&gt;</th><th scope=col>&lt;chr&gt;</th><th scope=col>&lt;dbl&gt;</th><th scope=col>&lt;dbl&gt;</th><th scope=col>&lt;fct&gt;</th><th scope=col>&lt;fct&gt;</th><th scope=col>&lt;fct&gt;</th><th scope=col>&lt;dbl&gt;</th><th scope=col>&lt;dbl&gt;</th><th scope=col>&lt;dbl&gt;</th><th scope=col>&lt;dbl&gt;</th><th scope=col>&lt;dbl&gt;</th></tr>\n",
       "</thead>\n",
       "<tbody>\n",
       "\t<tr><th scope=row>1284</th><td>ENSG00000000938.12</td><td>FGR </td><td>-0.6591010</td><td>9.573016e-15</td><td>lower</td><td>males</td><td>Breast-MammaryTissue</td><td>chr1</td><td>ENSG00000000938</td><td>0.6591010</td><td>-1.579098</td><td>protein_coding</td><td>-</td><td>chr1</td><td>4.869955</td><td> -8.358498</td><td>7.600595e-16</td><td>9.573016e-15</td><td> 23.99783</td></tr>\n",
       "\t<tr><th scope=row>165</th><td>ENSG00000002586.18</td><td>CD99</td><td>-0.7554926</td><td>1.219094e-56</td><td>lower</td><td>males</td><td>AdrenalGland        </td><td>chrX</td><td>ENSG00000002586</td><td>0.7554926</td><td>-1.688208</td><td>protein_coding</td><td>+</td><td>chrX</td><td>6.790643</td><td>-21.507695</td><td>1.227147e-59</td><td>1.219094e-56</td><td>124.94664</td></tr>\n",
       "\t<tr><th scope=row>172</th><td>ENSG00000002586.18</td><td>CD99</td><td>-0.7554926</td><td>1.219094e-56</td><td>lower</td><td>males</td><td>AdrenalGland        </td><td>chrY</td><td>ENSG00000002586</td><td>0.7554926</td><td>-1.688208</td><td>protein_coding</td><td>+</td><td>chrY</td><td>6.790643</td><td>-21.507695</td><td>1.227147e-59</td><td>1.219094e-56</td><td>124.94664</td></tr>\n",
       "\t<tr><th scope=row>282</th><td>ENSG00000002586.18</td><td>CD99</td><td>-0.8396619</td><td>5.671851e-08</td><td>lower</td><td>males</td><td>Brain-Amygdala      </td><td>chrX</td><td>ENSG00000002586</td><td>0.8396619</td><td>-1.789631</td><td>protein_coding</td><td>+</td><td>chrX</td><td>6.061931</td><td> -6.959005</td><td>9.277642e-11</td><td>5.671851e-08</td><td> 13.31987</td></tr>\n",
       "\t<tr><th scope=row>291</th><td>ENSG00000002586.18</td><td>CD99</td><td>-0.8396619</td><td>5.671851e-08</td><td>lower</td><td>males</td><td>Brain-Amygdala      </td><td>chrY</td><td>ENSG00000002586</td><td>0.8396619</td><td>-1.789631</td><td>protein_coding</td><td>+</td><td>chrY</td><td>6.061931</td><td> -6.959005</td><td>9.277642e-11</td><td>5.671851e-08</td><td> 13.31987</td></tr>\n",
       "</tbody>\n",
       "</table>\n"
      ],
      "text/latex": [
       "A data.frame: 5 × 19\n",
       "\\begin{tabular}{r|lllllllllllllllllll}\n",
       "  & initial\\_Geneid & GeneSymbol & logFC & adj.P.Val & abundance & higher\\_in & tissue & Chromosome & Geneid & abs\\_logFC & FoldChange\\_dummy & Class & Strand & Chromosomal\\_Position & AveExpr & t & P.Value & adj.P.Val.1 & B\\\\\n",
       "  & <chr> & <fct> & <dbl> & <dbl> & <chr> & <chr> & <chr> & <chr> & <chr> & <dbl> & <dbl> & <fct> & <fct> & <fct> & <dbl> & <dbl> & <dbl> & <dbl> & <dbl>\\\\\n",
       "\\hline\n",
       "\t1284 & ENSG00000000938.12 & FGR  & -0.6591010 & 9.573016e-15 & lower & males & Breast-MammaryTissue & chr1 & ENSG00000000938 & 0.6591010 & -1.579098 & protein\\_coding & - & chr1 & 4.869955 &  -8.358498 & 7.600595e-16 & 9.573016e-15 &  23.99783\\\\\n",
       "\t165 & ENSG00000002586.18 & CD99 & -0.7554926 & 1.219094e-56 & lower & males & AdrenalGland         & chrX & ENSG00000002586 & 0.7554926 & -1.688208 & protein\\_coding & + & chrX & 6.790643 & -21.507695 & 1.227147e-59 & 1.219094e-56 & 124.94664\\\\\n",
       "\t172 & ENSG00000002586.18 & CD99 & -0.7554926 & 1.219094e-56 & lower & males & AdrenalGland         & chrY & ENSG00000002586 & 0.7554926 & -1.688208 & protein\\_coding & + & chrY & 6.790643 & -21.507695 & 1.227147e-59 & 1.219094e-56 & 124.94664\\\\\n",
       "\t282 & ENSG00000002586.18 & CD99 & -0.8396619 & 5.671851e-08 & lower & males & Brain-Amygdala       & chrX & ENSG00000002586 & 0.8396619 & -1.789631 & protein\\_coding & + & chrX & 6.061931 &  -6.959005 & 9.277642e-11 & 5.671851e-08 &  13.31987\\\\\n",
       "\t291 & ENSG00000002586.18 & CD99 & -0.8396619 & 5.671851e-08 & lower & males & Brain-Amygdala       & chrY & ENSG00000002586 & 0.8396619 & -1.789631 & protein\\_coding & + & chrY & 6.061931 &  -6.959005 & 9.277642e-11 & 5.671851e-08 &  13.31987\\\\\n",
       "\\end{tabular}\n"
      ],
      "text/markdown": [
       "\n",
       "A data.frame: 5 × 19\n",
       "\n",
       "| <!--/--> | initial_Geneid &lt;chr&gt; | GeneSymbol &lt;fct&gt; | logFC &lt;dbl&gt; | adj.P.Val &lt;dbl&gt; | abundance &lt;chr&gt; | higher_in &lt;chr&gt; | tissue &lt;chr&gt; | Chromosome &lt;chr&gt; | Geneid &lt;chr&gt; | abs_logFC &lt;dbl&gt; | FoldChange_dummy &lt;dbl&gt; | Class &lt;fct&gt; | Strand &lt;fct&gt; | Chromosomal_Position &lt;fct&gt; | AveExpr &lt;dbl&gt; | t &lt;dbl&gt; | P.Value &lt;dbl&gt; | adj.P.Val.1 &lt;dbl&gt; | B &lt;dbl&gt; |\n",
       "|---|---|---|---|---|---|---|---|---|---|---|---|---|---|---|---|---|---|---|---|\n",
       "| 1284 | ENSG00000000938.12 | FGR  | -0.6591010 | 9.573016e-15 | lower | males | Breast-MammaryTissue | chr1 | ENSG00000000938 | 0.6591010 | -1.579098 | protein_coding | - | chr1 | 4.869955 |  -8.358498 | 7.600595e-16 | 9.573016e-15 |  23.99783 |\n",
       "| 165 | ENSG00000002586.18 | CD99 | -0.7554926 | 1.219094e-56 | lower | males | AdrenalGland         | chrX | ENSG00000002586 | 0.7554926 | -1.688208 | protein_coding | + | chrX | 6.790643 | -21.507695 | 1.227147e-59 | 1.219094e-56 | 124.94664 |\n",
       "| 172 | ENSG00000002586.18 | CD99 | -0.7554926 | 1.219094e-56 | lower | males | AdrenalGland         | chrY | ENSG00000002586 | 0.7554926 | -1.688208 | protein_coding | + | chrY | 6.790643 | -21.507695 | 1.227147e-59 | 1.219094e-56 | 124.94664 |\n",
       "| 282 | ENSG00000002586.18 | CD99 | -0.8396619 | 5.671851e-08 | lower | males | Brain-Amygdala       | chrX | ENSG00000002586 | 0.8396619 | -1.789631 | protein_coding | + | chrX | 6.061931 |  -6.959005 | 9.277642e-11 | 5.671851e-08 |  13.31987 |\n",
       "| 291 | ENSG00000002586.18 | CD99 | -0.8396619 | 5.671851e-08 | lower | males | Brain-Amygdala       | chrY | ENSG00000002586 | 0.8396619 | -1.789631 | protein_coding | + | chrY | 6.061931 |  -6.959005 | 9.277642e-11 | 5.671851e-08 |  13.31987 |\n",
       "\n"
      ],
      "text/plain": [
       "     initial_Geneid     GeneSymbol logFC      adj.P.Val    abundance higher_in\n",
       "1284 ENSG00000000938.12 FGR        -0.6591010 9.573016e-15 lower     males    \n",
       "165  ENSG00000002586.18 CD99       -0.7554926 1.219094e-56 lower     males    \n",
       "172  ENSG00000002586.18 CD99       -0.7554926 1.219094e-56 lower     males    \n",
       "282  ENSG00000002586.18 CD99       -0.8396619 5.671851e-08 lower     males    \n",
       "291  ENSG00000002586.18 CD99       -0.8396619 5.671851e-08 lower     males    \n",
       "     tissue               Chromosome Geneid          abs_logFC FoldChange_dummy\n",
       "1284 Breast-MammaryTissue chr1       ENSG00000000938 0.6591010 -1.579098       \n",
       "165  AdrenalGland         chrX       ENSG00000002586 0.7554926 -1.688208       \n",
       "172  AdrenalGland         chrY       ENSG00000002586 0.7554926 -1.688208       \n",
       "282  Brain-Amygdala       chrX       ENSG00000002586 0.8396619 -1.789631       \n",
       "291  Brain-Amygdala       chrY       ENSG00000002586 0.8396619 -1.789631       \n",
       "     Class          Strand Chromosomal_Position AveExpr  t         \n",
       "1284 protein_coding -      chr1                 4.869955  -8.358498\n",
       "165  protein_coding +      chrX                 6.790643 -21.507695\n",
       "172  protein_coding +      chrY                 6.790643 -21.507695\n",
       "282  protein_coding +      chrX                 6.061931  -6.959005\n",
       "291  protein_coding +      chrY                 6.061931  -6.959005\n",
       "     P.Value      adj.P.Val.1  B        \n",
       "1284 7.600595e-16 9.573016e-15  23.99783\n",
       "165  1.227147e-59 1.219094e-56 124.94664\n",
       "172  1.227147e-59 1.219094e-56 124.94664\n",
       "282  9.277642e-11 5.671851e-08  13.31987\n",
       "291  9.277642e-11 5.671851e-08  13.31987"
      ]
     },
     "metadata": {},
     "output_type": "display_data"
    }
   ],
   "source": [
    "dim(signif_per_tissue[ signif_per_tissue[[paste0(\"initial_\", GENE_ID)]] %in% male_biased[! (male_biased %in% intersect)],  ])\n",
    "\n",
    "only_male_genes <- signif_per_tissue[ signif_per_tissue[[paste0(\"initial_\", GENE_ID)]] %in% (male_biased[! (male_biased %in% intersect)]) ,  ]\n",
    "\n",
    "head(only_male_genes[ order(only_male_genes[[paste0(\"initial_\", GENE_ID)]] ), ], 5)"
   ]
  },
  {
   "cell_type": "code",
   "execution_count": 87,
   "metadata": {},
   "outputs": [
    {
     "name": "stderr",
     "output_type": "stream",
     "text": [
      "Warning message:\n",
      "“Factor `GeneSymbol` contains implicit NA, consider using `forcats::fct_explicit_na`”\n",
      "Warning message:\n",
      "“Factor `Class` contains implicit NA, consider using `forcats::fct_explicit_na`”\n",
      "Warning message:\n",
      "“Factor `GeneSymbol` contains implicit NA, consider using `forcats::fct_explicit_na`”\n"
     ]
    },
    {
     "data": {
      "text/html": [
       "<table>\n",
       "<caption>A tibble: 20 × 4</caption>\n",
       "<thead>\n",
       "\t<tr><th scope=col>\"Geneid\"</th><th scope=col>GeneSymbol</th><th scope=col>Class</th><th scope=col>n</th></tr>\n",
       "\t<tr><th scope=col>&lt;chr&gt;</th><th scope=col>&lt;fct&gt;</th><th scope=col>&lt;fct&gt;</th><th scope=col>&lt;int&gt;</th></tr>\n",
       "</thead>\n",
       "<tbody>\n",
       "\t<tr><td>Geneid</td><td>NA        </td><td>NA                                </td><td>46</td></tr>\n",
       "\t<tr><td>Geneid</td><td>AC010889.1</td><td>lincRNA                           </td><td>45</td></tr>\n",
       "\t<tr><td>Geneid</td><td>DDX3Y     </td><td>protein_coding                    </td><td>45</td></tr>\n",
       "\t<tr><td>Geneid</td><td>EIF1AY    </td><td>protein_coding                    </td><td>45</td></tr>\n",
       "\t<tr><td>Geneid</td><td>KDM5D     </td><td>protein_coding                    </td><td>45</td></tr>\n",
       "\t<tr><td>Geneid</td><td>NLGN4Y    </td><td>protein_coding                    </td><td>45</td></tr>\n",
       "\t<tr><td>Geneid</td><td>PRKY      </td><td>protein_coding                    </td><td>45</td></tr>\n",
       "\t<tr><td>Geneid</td><td>RPS4Y1    </td><td>protein_coding                    </td><td>45</td></tr>\n",
       "\t<tr><td>Geneid</td><td>TMSB4Y    </td><td>protein_coding                    </td><td>45</td></tr>\n",
       "\t<tr><td>Geneid</td><td>TTTY14    </td><td>lincRNA                           </td><td>45</td></tr>\n",
       "\t<tr><td>Geneid</td><td>TXLNGY    </td><td>transcribed_unprocessed_pseudogene</td><td>45</td></tr>\n",
       "\t<tr><td>Geneid</td><td>USP9Y     </td><td>protein_coding                    </td><td>45</td></tr>\n",
       "\t<tr><td>Geneid</td><td>UTY       </td><td>protein_coding                    </td><td>45</td></tr>\n",
       "\t<tr><td>Geneid</td><td>ZFY       </td><td>protein_coding                    </td><td>45</td></tr>\n",
       "\t<tr><td>Geneid</td><td>LINC01597 </td><td>lincRNA                           </td><td>44</td></tr>\n",
       "\t<tr><td>Geneid</td><td>DDX43     </td><td>protein_coding                    </td><td>42</td></tr>\n",
       "\t<tr><td>Geneid</td><td>SPESP1    </td><td>protein_coding                    </td><td>35</td></tr>\n",
       "\t<tr><td>Geneid</td><td>CD99      </td><td>protein_coding                    </td><td>32</td></tr>\n",
       "\t<tr><td>Geneid</td><td>PLCXD1    </td><td>protein_coding                    </td><td>24</td></tr>\n",
       "\t<tr><td>Geneid</td><td>FRG1BP    </td><td>unprocessed_pseudogene            </td><td>15</td></tr>\n",
       "</tbody>\n",
       "</table>\n"
      ],
      "text/latex": [
       "A tibble: 20 × 4\n",
       "\\begin{tabular}{llll}\n",
       " \"Geneid\" & GeneSymbol & Class & n\\\\\n",
       " <chr> & <fct> & <fct> & <int>\\\\\n",
       "\\hline\n",
       "\t Geneid & NA         & NA                                 & 46\\\\\n",
       "\t Geneid & AC010889.1 & lincRNA                            & 45\\\\\n",
       "\t Geneid & DDX3Y      & protein\\_coding                     & 45\\\\\n",
       "\t Geneid & EIF1AY     & protein\\_coding                     & 45\\\\\n",
       "\t Geneid & KDM5D      & protein\\_coding                     & 45\\\\\n",
       "\t Geneid & NLGN4Y     & protein\\_coding                     & 45\\\\\n",
       "\t Geneid & PRKY       & protein\\_coding                     & 45\\\\\n",
       "\t Geneid & RPS4Y1     & protein\\_coding                     & 45\\\\\n",
       "\t Geneid & TMSB4Y     & protein\\_coding                     & 45\\\\\n",
       "\t Geneid & TTTY14     & lincRNA                            & 45\\\\\n",
       "\t Geneid & TXLNGY     & transcribed\\_unprocessed\\_pseudogene & 45\\\\\n",
       "\t Geneid & USP9Y      & protein\\_coding                     & 45\\\\\n",
       "\t Geneid & UTY        & protein\\_coding                     & 45\\\\\n",
       "\t Geneid & ZFY        & protein\\_coding                     & 45\\\\\n",
       "\t Geneid & LINC01597  & lincRNA                            & 44\\\\\n",
       "\t Geneid & DDX43      & protein\\_coding                     & 42\\\\\n",
       "\t Geneid & SPESP1     & protein\\_coding                     & 35\\\\\n",
       "\t Geneid & CD99       & protein\\_coding                     & 32\\\\\n",
       "\t Geneid & PLCXD1     & protein\\_coding                     & 24\\\\\n",
       "\t Geneid & FRG1BP     & unprocessed\\_pseudogene             & 15\\\\\n",
       "\\end{tabular}\n"
      ],
      "text/markdown": [
       "\n",
       "A tibble: 20 × 4\n",
       "\n",
       "| \"Geneid\" &lt;chr&gt; | GeneSymbol &lt;fct&gt; | Class &lt;fct&gt; | n &lt;int&gt; |\n",
       "|---|---|---|---|\n",
       "| Geneid | NA         | NA                                 | 46 |\n",
       "| Geneid | AC010889.1 | lincRNA                            | 45 |\n",
       "| Geneid | DDX3Y      | protein_coding                     | 45 |\n",
       "| Geneid | EIF1AY     | protein_coding                     | 45 |\n",
       "| Geneid | KDM5D      | protein_coding                     | 45 |\n",
       "| Geneid | NLGN4Y     | protein_coding                     | 45 |\n",
       "| Geneid | PRKY       | protein_coding                     | 45 |\n",
       "| Geneid | RPS4Y1     | protein_coding                     | 45 |\n",
       "| Geneid | TMSB4Y     | protein_coding                     | 45 |\n",
       "| Geneid | TTTY14     | lincRNA                            | 45 |\n",
       "| Geneid | TXLNGY     | transcribed_unprocessed_pseudogene | 45 |\n",
       "| Geneid | USP9Y      | protein_coding                     | 45 |\n",
       "| Geneid | UTY        | protein_coding                     | 45 |\n",
       "| Geneid | ZFY        | protein_coding                     | 45 |\n",
       "| Geneid | LINC01597  | lincRNA                            | 44 |\n",
       "| Geneid | DDX43      | protein_coding                     | 42 |\n",
       "| Geneid | SPESP1     | protein_coding                     | 35 |\n",
       "| Geneid | CD99       | protein_coding                     | 32 |\n",
       "| Geneid | PLCXD1     | protein_coding                     | 24 |\n",
       "| Geneid | FRG1BP     | unprocessed_pseudogene             | 15 |\n",
       "\n"
      ],
      "text/plain": [
       "   \"Geneid\" GeneSymbol Class                              n \n",
       "1  Geneid   NA         NA                                 46\n",
       "2  Geneid   AC010889.1 lincRNA                            45\n",
       "3  Geneid   DDX3Y      protein_coding                     45\n",
       "4  Geneid   EIF1AY     protein_coding                     45\n",
       "5  Geneid   KDM5D      protein_coding                     45\n",
       "6  Geneid   NLGN4Y     protein_coding                     45\n",
       "7  Geneid   PRKY       protein_coding                     45\n",
       "8  Geneid   RPS4Y1     protein_coding                     45\n",
       "9  Geneid   TMSB4Y     protein_coding                     45\n",
       "10 Geneid   TTTY14     lincRNA                            45\n",
       "11 Geneid   TXLNGY     transcribed_unprocessed_pseudogene 45\n",
       "12 Geneid   USP9Y      protein_coding                     45\n",
       "13 Geneid   UTY        protein_coding                     45\n",
       "14 Geneid   ZFY        protein_coding                     45\n",
       "15 Geneid   LINC01597  lincRNA                            44\n",
       "16 Geneid   DDX43      protein_coding                     42\n",
       "17 Geneid   SPESP1     protein_coding                     35\n",
       "18 Geneid   CD99       protein_coding                     32\n",
       "19 Geneid   PLCXD1     protein_coding                     24\n",
       "20 Geneid   FRG1BP     unprocessed_pseudogene             15"
      ]
     },
     "metadata": {},
     "output_type": "display_data"
    }
   ],
   "source": [
    "# See 8.1.1 enquo() and !! - Quote and unquote arguments in https://tidyeval.tidyverse.org/dplyr.html\n",
    "\n",
    "only_male_genes %>% \n",
    "    count( !!GENE_ID, GeneSymbol, Class, sort = TRUE) %>%\n",
    "    head(20)"
   ]
  },
  {
   "cell_type": "markdown",
   "metadata": {},
   "source": [
    "## Significantly higher only in females"
   ]
  },
  {
   "cell_type": "code",
   "execution_count": 88,
   "metadata": {},
   "outputs": [
    {
     "data": {
      "text/html": [
       "<table>\n",
       "<caption>A data.frame: 10 × 19</caption>\n",
       "<thead>\n",
       "\t<tr><th></th><th scope=col>initial_Geneid</th><th scope=col>GeneSymbol</th><th scope=col>logFC</th><th scope=col>adj.P.Val</th><th scope=col>abundance</th><th scope=col>higher_in</th><th scope=col>tissue</th><th scope=col>Chromosome</th><th scope=col>Geneid</th><th scope=col>abs_logFC</th><th scope=col>FoldChange_dummy</th><th scope=col>Class</th><th scope=col>Strand</th><th scope=col>Chromosomal_Position</th><th scope=col>AveExpr</th><th scope=col>t</th><th scope=col>P.Value</th><th scope=col>adj.P.Val.1</th><th scope=col>B</th></tr>\n",
       "\t<tr><th></th><th scope=col>&lt;chr&gt;</th><th scope=col>&lt;fct&gt;</th><th scope=col>&lt;dbl&gt;</th><th scope=col>&lt;dbl&gt;</th><th scope=col>&lt;chr&gt;</th><th scope=col>&lt;chr&gt;</th><th scope=col>&lt;chr&gt;</th><th scope=col>&lt;chr&gt;</th><th scope=col>&lt;chr&gt;</th><th scope=col>&lt;dbl&gt;</th><th scope=col>&lt;dbl&gt;</th><th scope=col>&lt;fct&gt;</th><th scope=col>&lt;fct&gt;</th><th scope=col>&lt;fct&gt;</th><th scope=col>&lt;dbl&gt;</th><th scope=col>&lt;dbl&gt;</th><th scope=col>&lt;dbl&gt;</th><th scope=col>&lt;dbl&gt;</th><th scope=col>&lt;dbl&gt;</th></tr>\n",
       "</thead>\n",
       "<tbody>\n",
       "\t<tr><th scope=row>834</th><td>ENSG00000003096.14</td><td>KLHL13 </td><td>1.0575276</td><td> 5.849918e-18</td><td>higher</td><td>females</td><td>Breast-MammaryTissue               </td><td>chrX </td><td>ENSG00000003096</td><td>1.0575276</td><td>2.081362</td><td>protein_coding</td><td>-</td><td>chrX </td><td>3.071957</td><td> 9.379033</td><td> 3.047331e-19</td><td> 5.849918e-18</td><td> 31.967423</td></tr>\n",
       "\t<tr><th scope=row>2161</th><td>ENSG00000005187.11</td><td>ACSM3  </td><td>1.7420707</td><td> 6.241747e-30</td><td>higher</td><td>females</td><td>Breast-MammaryTissue               </td><td>chr16</td><td>ENSG00000005187</td><td>1.7420707</td><td>3.345150</td><td>protein_coding</td><td>+</td><td>chr16</td><td>1.753435</td><td>12.678403</td><td> 8.442753e-32</td><td> 6.241747e-30</td><td> 60.890589</td></tr>\n",
       "\t<tr><th scope=row>3294</th><td>ENSG00000005379.15</td><td>TSPOAP1</td><td>0.8048674</td><td> 2.635769e-08</td><td>higher</td><td>females</td><td>Breast-MammaryTissue               </td><td>chr17</td><td>ENSG00000005379</td><td>0.8048674</td><td>1.746985</td><td>protein_coding</td><td>-</td><td>chr17</td><td>4.816506</td><td> 5.948486</td><td> 5.364399e-09</td><td> 2.635769e-08</td><td>  8.472351</td></tr>\n",
       "\t<tr><th scope=row>747</th><td>ENSG00000005513.9 </td><td>SOX8   </td><td>1.0248677</td><td> 1.091262e-18</td><td>higher</td><td>females</td><td>Breast-MammaryTissue               </td><td>chr16</td><td>ENSG00000005513</td><td>1.0248677</td><td>2.034773</td><td>protein_coding</td><td>+</td><td>chr16</td><td>1.961977</td><td> 9.601016</td><td> 5.135350e-20</td><td> 1.091262e-18</td><td> 33.928616</td></tr>\n",
       "\t<tr><th scope=row>20</th><td>ENSG00000005889.15</td><td>ZFX    </td><td>0.6387585</td><td> 8.312326e-49</td><td>higher</td><td>females</td><td>AdrenalGland                       </td><td>chrX </td><td>ENSG00000005889</td><td>0.6387585</td><td>1.556989</td><td>protein_coding</td><td>+</td><td>chrX </td><td>4.692241</td><td>19.191837</td><td> 9.936093e-52</td><td> 8.312326e-49</td><td>106.759601</td></tr>\n",
       "\t<tr><th scope=row>173</th><td>ENSG00000005889.15</td><td>ZFX    </td><td>0.6694278</td><td> 1.284379e-85</td><td>higher</td><td>females</td><td>Artery-Aorta                       </td><td>chrX </td><td>ENSG00000005889</td><td>0.6694278</td><td>1.590442</td><td>protein_coding</td><td>+</td><td>chrX </td><td>4.987225</td><td>25.563606</td><td> 1.373667e-88</td><td> 1.284379e-85</td><td>191.042078</td></tr>\n",
       "\t<tr><th scope=row>169</th><td>ENSG00000005889.15</td><td>ZFX    </td><td>0.6289844</td><td> 2.162584e-59</td><td>higher</td><td>females</td><td>Artery-Coronary                    </td><td>chrX </td><td>ENSG00000005889</td><td>0.6289844</td><td>1.546476</td><td>protein_coding</td><td>+</td><td>chrX </td><td>5.138006</td><td>22.882636</td><td> 2.176870e-62</td><td> 2.162584e-59</td><td>131.375327</td></tr>\n",
       "\t<tr><th scope=row>179</th><td>ENSG00000005889.15</td><td>ZFX    </td><td>0.6581554</td><td>6.019839e-122</td><td>higher</td><td>females</td><td>Artery-Tibial                      </td><td>chrX </td><td>ENSG00000005889</td><td>0.6581554</td><td>1.578064</td><td>protein_coding</td><td>+</td><td>chrX </td><td>5.168209</td><td>29.859299</td><td>6.438331e-125</td><td>6.019839e-122</td><td>274.344358</td></tr>\n",
       "\t<tr><th scope=row>1612</th><td>ENSG00000005889.15</td><td>ZFX    </td><td>0.6368501</td><td> 1.684832e-17</td><td>higher</td><td>females</td><td>Brain-Amygdala                     </td><td>chrX </td><td>ENSG00000005889</td><td>0.6368501</td><td>1.554931</td><td>protein_coding</td><td>+</td><td>chrX </td><td>3.944298</td><td>10.763468</td><td> 1.695961e-20</td><td> 1.684832e-17</td><td> 35.535455</td></tr>\n",
       "\t<tr><th scope=row>1711</th><td>ENSG00000005889.15</td><td>ZFX    </td><td>0.6756728</td><td> 3.516380e-21</td><td>higher</td><td>females</td><td>Brain-Anteriorcingulatecortex(BA24)</td><td>chrX </td><td>ENSG00000005889</td><td>0.6756728</td><td>1.597342</td><td>protein_coding</td><td>+</td><td>chrX </td><td>3.801055</td><td>11.814815</td><td> 3.760834e-24</td><td> 3.516380e-21</td><td> 43.792574</td></tr>\n",
       "</tbody>\n",
       "</table>\n"
      ],
      "text/latex": [
       "A data.frame: 10 × 19\n",
       "\\begin{tabular}{r|lllllllllllllllllll}\n",
       "  & initial\\_Geneid & GeneSymbol & logFC & adj.P.Val & abundance & higher\\_in & tissue & Chromosome & Geneid & abs\\_logFC & FoldChange\\_dummy & Class & Strand & Chromosomal\\_Position & AveExpr & t & P.Value & adj.P.Val.1 & B\\\\\n",
       "  & <chr> & <fct> & <dbl> & <dbl> & <chr> & <chr> & <chr> & <chr> & <chr> & <dbl> & <dbl> & <fct> & <fct> & <fct> & <dbl> & <dbl> & <dbl> & <dbl> & <dbl>\\\\\n",
       "\\hline\n",
       "\t834 & ENSG00000003096.14 & KLHL13  & 1.0575276 &  5.849918e-18 & higher & females & Breast-MammaryTissue                & chrX  & ENSG00000003096 & 1.0575276 & 2.081362 & protein\\_coding & - & chrX  & 3.071957 &  9.379033 &  3.047331e-19 &  5.849918e-18 &  31.967423\\\\\n",
       "\t2161 & ENSG00000005187.11 & ACSM3   & 1.7420707 &  6.241747e-30 & higher & females & Breast-MammaryTissue                & chr16 & ENSG00000005187 & 1.7420707 & 3.345150 & protein\\_coding & + & chr16 & 1.753435 & 12.678403 &  8.442753e-32 &  6.241747e-30 &  60.890589\\\\\n",
       "\t3294 & ENSG00000005379.15 & TSPOAP1 & 0.8048674 &  2.635769e-08 & higher & females & Breast-MammaryTissue                & chr17 & ENSG00000005379 & 0.8048674 & 1.746985 & protein\\_coding & - & chr17 & 4.816506 &  5.948486 &  5.364399e-09 &  2.635769e-08 &   8.472351\\\\\n",
       "\t747 & ENSG00000005513.9  & SOX8    & 1.0248677 &  1.091262e-18 & higher & females & Breast-MammaryTissue                & chr16 & ENSG00000005513 & 1.0248677 & 2.034773 & protein\\_coding & + & chr16 & 1.961977 &  9.601016 &  5.135350e-20 &  1.091262e-18 &  33.928616\\\\\n",
       "\t20 & ENSG00000005889.15 & ZFX     & 0.6387585 &  8.312326e-49 & higher & females & AdrenalGland                        & chrX  & ENSG00000005889 & 0.6387585 & 1.556989 & protein\\_coding & + & chrX  & 4.692241 & 19.191837 &  9.936093e-52 &  8.312326e-49 & 106.759601\\\\\n",
       "\t173 & ENSG00000005889.15 & ZFX     & 0.6694278 &  1.284379e-85 & higher & females & Artery-Aorta                        & chrX  & ENSG00000005889 & 0.6694278 & 1.590442 & protein\\_coding & + & chrX  & 4.987225 & 25.563606 &  1.373667e-88 &  1.284379e-85 & 191.042078\\\\\n",
       "\t169 & ENSG00000005889.15 & ZFX     & 0.6289844 &  2.162584e-59 & higher & females & Artery-Coronary                     & chrX  & ENSG00000005889 & 0.6289844 & 1.546476 & protein\\_coding & + & chrX  & 5.138006 & 22.882636 &  2.176870e-62 &  2.162584e-59 & 131.375327\\\\\n",
       "\t179 & ENSG00000005889.15 & ZFX     & 0.6581554 & 6.019839e-122 & higher & females & Artery-Tibial                       & chrX  & ENSG00000005889 & 0.6581554 & 1.578064 & protein\\_coding & + & chrX  & 5.168209 & 29.859299 & 6.438331e-125 & 6.019839e-122 & 274.344358\\\\\n",
       "\t1612 & ENSG00000005889.15 & ZFX     & 0.6368501 &  1.684832e-17 & higher & females & Brain-Amygdala                      & chrX  & ENSG00000005889 & 0.6368501 & 1.554931 & protein\\_coding & + & chrX  & 3.944298 & 10.763468 &  1.695961e-20 &  1.684832e-17 &  35.535455\\\\\n",
       "\t1711 & ENSG00000005889.15 & ZFX     & 0.6756728 &  3.516380e-21 & higher & females & Brain-Anteriorcingulatecortex(BA24) & chrX  & ENSG00000005889 & 0.6756728 & 1.597342 & protein\\_coding & + & chrX  & 3.801055 & 11.814815 &  3.760834e-24 &  3.516380e-21 &  43.792574\\\\\n",
       "\\end{tabular}\n"
      ],
      "text/markdown": [
       "\n",
       "A data.frame: 10 × 19\n",
       "\n",
       "| <!--/--> | initial_Geneid &lt;chr&gt; | GeneSymbol &lt;fct&gt; | logFC &lt;dbl&gt; | adj.P.Val &lt;dbl&gt; | abundance &lt;chr&gt; | higher_in &lt;chr&gt; | tissue &lt;chr&gt; | Chromosome &lt;chr&gt; | Geneid &lt;chr&gt; | abs_logFC &lt;dbl&gt; | FoldChange_dummy &lt;dbl&gt; | Class &lt;fct&gt; | Strand &lt;fct&gt; | Chromosomal_Position &lt;fct&gt; | AveExpr &lt;dbl&gt; | t &lt;dbl&gt; | P.Value &lt;dbl&gt; | adj.P.Val.1 &lt;dbl&gt; | B &lt;dbl&gt; |\n",
       "|---|---|---|---|---|---|---|---|---|---|---|---|---|---|---|---|---|---|---|---|\n",
       "| 834 | ENSG00000003096.14 | KLHL13  | 1.0575276 |  5.849918e-18 | higher | females | Breast-MammaryTissue                | chrX  | ENSG00000003096 | 1.0575276 | 2.081362 | protein_coding | - | chrX  | 3.071957 |  9.379033 |  3.047331e-19 |  5.849918e-18 |  31.967423 |\n",
       "| 2161 | ENSG00000005187.11 | ACSM3   | 1.7420707 |  6.241747e-30 | higher | females | Breast-MammaryTissue                | chr16 | ENSG00000005187 | 1.7420707 | 3.345150 | protein_coding | + | chr16 | 1.753435 | 12.678403 |  8.442753e-32 |  6.241747e-30 |  60.890589 |\n",
       "| 3294 | ENSG00000005379.15 | TSPOAP1 | 0.8048674 |  2.635769e-08 | higher | females | Breast-MammaryTissue                | chr17 | ENSG00000005379 | 0.8048674 | 1.746985 | protein_coding | - | chr17 | 4.816506 |  5.948486 |  5.364399e-09 |  2.635769e-08 |   8.472351 |\n",
       "| 747 | ENSG00000005513.9  | SOX8    | 1.0248677 |  1.091262e-18 | higher | females | Breast-MammaryTissue                | chr16 | ENSG00000005513 | 1.0248677 | 2.034773 | protein_coding | + | chr16 | 1.961977 |  9.601016 |  5.135350e-20 |  1.091262e-18 |  33.928616 |\n",
       "| 20 | ENSG00000005889.15 | ZFX     | 0.6387585 |  8.312326e-49 | higher | females | AdrenalGland                        | chrX  | ENSG00000005889 | 0.6387585 | 1.556989 | protein_coding | + | chrX  | 4.692241 | 19.191837 |  9.936093e-52 |  8.312326e-49 | 106.759601 |\n",
       "| 173 | ENSG00000005889.15 | ZFX     | 0.6694278 |  1.284379e-85 | higher | females | Artery-Aorta                        | chrX  | ENSG00000005889 | 0.6694278 | 1.590442 | protein_coding | + | chrX  | 4.987225 | 25.563606 |  1.373667e-88 |  1.284379e-85 | 191.042078 |\n",
       "| 169 | ENSG00000005889.15 | ZFX     | 0.6289844 |  2.162584e-59 | higher | females | Artery-Coronary                     | chrX  | ENSG00000005889 | 0.6289844 | 1.546476 | protein_coding | + | chrX  | 5.138006 | 22.882636 |  2.176870e-62 |  2.162584e-59 | 131.375327 |\n",
       "| 179 | ENSG00000005889.15 | ZFX     | 0.6581554 | 6.019839e-122 | higher | females | Artery-Tibial                       | chrX  | ENSG00000005889 | 0.6581554 | 1.578064 | protein_coding | + | chrX  | 5.168209 | 29.859299 | 6.438331e-125 | 6.019839e-122 | 274.344358 |\n",
       "| 1612 | ENSG00000005889.15 | ZFX     | 0.6368501 |  1.684832e-17 | higher | females | Brain-Amygdala                      | chrX  | ENSG00000005889 | 0.6368501 | 1.554931 | protein_coding | + | chrX  | 3.944298 | 10.763468 |  1.695961e-20 |  1.684832e-17 |  35.535455 |\n",
       "| 1711 | ENSG00000005889.15 | ZFX     | 0.6756728 |  3.516380e-21 | higher | females | Brain-Anteriorcingulatecortex(BA24) | chrX  | ENSG00000005889 | 0.6756728 | 1.597342 | protein_coding | + | chrX  | 3.801055 | 11.814815 |  3.760834e-24 |  3.516380e-21 |  43.792574 |\n",
       "\n"
      ],
      "text/plain": [
       "     initial_Geneid     GeneSymbol logFC     adj.P.Val     abundance higher_in\n",
       "834  ENSG00000003096.14 KLHL13     1.0575276  5.849918e-18 higher    females  \n",
       "2161 ENSG00000005187.11 ACSM3      1.7420707  6.241747e-30 higher    females  \n",
       "3294 ENSG00000005379.15 TSPOAP1    0.8048674  2.635769e-08 higher    females  \n",
       "747  ENSG00000005513.9  SOX8       1.0248677  1.091262e-18 higher    females  \n",
       "20   ENSG00000005889.15 ZFX        0.6387585  8.312326e-49 higher    females  \n",
       "173  ENSG00000005889.15 ZFX        0.6694278  1.284379e-85 higher    females  \n",
       "169  ENSG00000005889.15 ZFX        0.6289844  2.162584e-59 higher    females  \n",
       "179  ENSG00000005889.15 ZFX        0.6581554 6.019839e-122 higher    females  \n",
       "1612 ENSG00000005889.15 ZFX        0.6368501  1.684832e-17 higher    females  \n",
       "1711 ENSG00000005889.15 ZFX        0.6756728  3.516380e-21 higher    females  \n",
       "     tissue                              Chromosome Geneid          abs_logFC\n",
       "834  Breast-MammaryTissue                chrX       ENSG00000003096 1.0575276\n",
       "2161 Breast-MammaryTissue                chr16      ENSG00000005187 1.7420707\n",
       "3294 Breast-MammaryTissue                chr17      ENSG00000005379 0.8048674\n",
       "747  Breast-MammaryTissue                chr16      ENSG00000005513 1.0248677\n",
       "20   AdrenalGland                        chrX       ENSG00000005889 0.6387585\n",
       "173  Artery-Aorta                        chrX       ENSG00000005889 0.6694278\n",
       "169  Artery-Coronary                     chrX       ENSG00000005889 0.6289844\n",
       "179  Artery-Tibial                       chrX       ENSG00000005889 0.6581554\n",
       "1612 Brain-Amygdala                      chrX       ENSG00000005889 0.6368501\n",
       "1711 Brain-Anteriorcingulatecortex(BA24) chrX       ENSG00000005889 0.6756728\n",
       "     FoldChange_dummy Class          Strand Chromosomal_Position AveExpr \n",
       "834  2.081362         protein_coding -      chrX                 3.071957\n",
       "2161 3.345150         protein_coding +      chr16                1.753435\n",
       "3294 1.746985         protein_coding -      chr17                4.816506\n",
       "747  2.034773         protein_coding +      chr16                1.961977\n",
       "20   1.556989         protein_coding +      chrX                 4.692241\n",
       "173  1.590442         protein_coding +      chrX                 4.987225\n",
       "169  1.546476         protein_coding +      chrX                 5.138006\n",
       "179  1.578064         protein_coding +      chrX                 5.168209\n",
       "1612 1.554931         protein_coding +      chrX                 3.944298\n",
       "1711 1.597342         protein_coding +      chrX                 3.801055\n",
       "     t         P.Value       adj.P.Val.1   B         \n",
       "834   9.379033  3.047331e-19  5.849918e-18  31.967423\n",
       "2161 12.678403  8.442753e-32  6.241747e-30  60.890589\n",
       "3294  5.948486  5.364399e-09  2.635769e-08   8.472351\n",
       "747   9.601016  5.135350e-20  1.091262e-18  33.928616\n",
       "20   19.191837  9.936093e-52  8.312326e-49 106.759601\n",
       "173  25.563606  1.373667e-88  1.284379e-85 191.042078\n",
       "169  22.882636  2.176870e-62  2.162584e-59 131.375327\n",
       "179  29.859299 6.438331e-125 6.019839e-122 274.344358\n",
       "1612 10.763468  1.695961e-20  1.684832e-17  35.535455\n",
       "1711 11.814815  3.760834e-24  3.516380e-21  43.792574"
      ]
     },
     "metadata": {},
     "output_type": "display_data"
    }
   ],
   "source": [
    "only_female_genes <- signif_per_tissue[ signif_per_tissue[[paste0(\"initial_\", GENE_ID)]] %in% (female_biased[! (female_biased %in% intersect)]) ,  ]\n",
    "\n",
    "head(only_female_genes[ order(only_female_genes[[paste0(\"initial_\", GENE_ID)]] ), ], 10)"
   ]
  },
  {
   "cell_type": "code",
   "execution_count": 89,
   "metadata": {},
   "outputs": [
    {
     "name": "stderr",
     "output_type": "stream",
     "text": [
      "Warning message:\n",
      "“Factor `GeneSymbol` contains implicit NA, consider using `forcats::fct_explicit_na`”\n",
      "Warning message:\n",
      "“Factor `Class` contains implicit NA, consider using `forcats::fct_explicit_na`”\n",
      "Warning message:\n",
      "“Factor `GeneSymbol` contains implicit NA, consider using `forcats::fct_explicit_na`”\n"
     ]
    },
    {
     "data": {
      "text/html": [
       "<table>\n",
       "<caption>A tibble: 20 × 4</caption>\n",
       "<thead>\n",
       "\t<tr><th scope=col>\"Geneid\"</th><th scope=col>GeneSymbol</th><th scope=col>Class</th><th scope=col>n</th></tr>\n",
       "\t<tr><th scope=col>&lt;chr&gt;</th><th scope=col>&lt;fct&gt;</th><th scope=col>&lt;fct&gt;</th><th scope=col>&lt;int&gt;</th></tr>\n",
       "</thead>\n",
       "<tbody>\n",
       "\t<tr><td>Geneid</td><td>XIST  </td><td>lincRNA       </td><td>46</td></tr>\n",
       "\t<tr><td>Geneid</td><td>KDM6A </td><td>protein_coding</td><td>33</td></tr>\n",
       "\t<tr><td>Geneid</td><td>ZFX   </td><td>protein_coding</td><td>33</td></tr>\n",
       "\t<tr><td>Geneid</td><td>PUDP  </td><td>protein_coding</td><td>21</td></tr>\n",
       "\t<tr><td>Geneid</td><td>MAP7D2</td><td>protein_coding</td><td>16</td></tr>\n",
       "\t<tr><td>Geneid</td><td>NLRP2 </td><td>protein_coding</td><td>16</td></tr>\n",
       "\t<tr><td>Geneid</td><td>NA    </td><td>NA            </td><td>16</td></tr>\n",
       "\t<tr><td>Geneid</td><td>JPX   </td><td>lincRNA       </td><td>12</td></tr>\n",
       "\t<tr><td>Geneid</td><td>GSTM1 </td><td>protein_coding</td><td>11</td></tr>\n",
       "\t<tr><td>Geneid</td><td>GYG2  </td><td>protein_coding</td><td>11</td></tr>\n",
       "\t<tr><td>Geneid</td><td>CD163 </td><td>protein_coding</td><td> 9</td></tr>\n",
       "\t<tr><td>Geneid</td><td>CES1  </td><td>protein_coding</td><td> 9</td></tr>\n",
       "\t<tr><td>Geneid</td><td>PNPLA4</td><td>protein_coding</td><td> 9</td></tr>\n",
       "\t<tr><td>Geneid</td><td>FCGR3B</td><td>protein_coding</td><td> 8</td></tr>\n",
       "\t<tr><td>Geneid</td><td>IL1R2 </td><td>protein_coding</td><td> 8</td></tr>\n",
       "\t<tr><td>Geneid</td><td>S100A8</td><td>protein_coding</td><td> 8</td></tr>\n",
       "\t<tr><td>Geneid</td><td>VSIG4 </td><td>protein_coding</td><td> 8</td></tr>\n",
       "\t<tr><td>Geneid</td><td>CP    </td><td>protein_coding</td><td> 7</td></tr>\n",
       "\t<tr><td>Geneid</td><td>EIF1AX</td><td>protein_coding</td><td> 7</td></tr>\n",
       "\t<tr><td>Geneid</td><td>S100A9</td><td>protein_coding</td><td> 7</td></tr>\n",
       "</tbody>\n",
       "</table>\n"
      ],
      "text/latex": [
       "A tibble: 20 × 4\n",
       "\\begin{tabular}{llll}\n",
       " \"Geneid\" & GeneSymbol & Class & n\\\\\n",
       " <chr> & <fct> & <fct> & <int>\\\\\n",
       "\\hline\n",
       "\t Geneid & XIST   & lincRNA        & 46\\\\\n",
       "\t Geneid & KDM6A  & protein\\_coding & 33\\\\\n",
       "\t Geneid & ZFX    & protein\\_coding & 33\\\\\n",
       "\t Geneid & PUDP   & protein\\_coding & 21\\\\\n",
       "\t Geneid & MAP7D2 & protein\\_coding & 16\\\\\n",
       "\t Geneid & NLRP2  & protein\\_coding & 16\\\\\n",
       "\t Geneid & NA     & NA             & 16\\\\\n",
       "\t Geneid & JPX    & lincRNA        & 12\\\\\n",
       "\t Geneid & GSTM1  & protein\\_coding & 11\\\\\n",
       "\t Geneid & GYG2   & protein\\_coding & 11\\\\\n",
       "\t Geneid & CD163  & protein\\_coding &  9\\\\\n",
       "\t Geneid & CES1   & protein\\_coding &  9\\\\\n",
       "\t Geneid & PNPLA4 & protein\\_coding &  9\\\\\n",
       "\t Geneid & FCGR3B & protein\\_coding &  8\\\\\n",
       "\t Geneid & IL1R2  & protein\\_coding &  8\\\\\n",
       "\t Geneid & S100A8 & protein\\_coding &  8\\\\\n",
       "\t Geneid & VSIG4  & protein\\_coding &  8\\\\\n",
       "\t Geneid & CP     & protein\\_coding &  7\\\\\n",
       "\t Geneid & EIF1AX & protein\\_coding &  7\\\\\n",
       "\t Geneid & S100A9 & protein\\_coding &  7\\\\\n",
       "\\end{tabular}\n"
      ],
      "text/markdown": [
       "\n",
       "A tibble: 20 × 4\n",
       "\n",
       "| \"Geneid\" &lt;chr&gt; | GeneSymbol &lt;fct&gt; | Class &lt;fct&gt; | n &lt;int&gt; |\n",
       "|---|---|---|---|\n",
       "| Geneid | XIST   | lincRNA        | 46 |\n",
       "| Geneid | KDM6A  | protein_coding | 33 |\n",
       "| Geneid | ZFX    | protein_coding | 33 |\n",
       "| Geneid | PUDP   | protein_coding | 21 |\n",
       "| Geneid | MAP7D2 | protein_coding | 16 |\n",
       "| Geneid | NLRP2  | protein_coding | 16 |\n",
       "| Geneid | NA     | NA             | 16 |\n",
       "| Geneid | JPX    | lincRNA        | 12 |\n",
       "| Geneid | GSTM1  | protein_coding | 11 |\n",
       "| Geneid | GYG2   | protein_coding | 11 |\n",
       "| Geneid | CD163  | protein_coding |  9 |\n",
       "| Geneid | CES1   | protein_coding |  9 |\n",
       "| Geneid | PNPLA4 | protein_coding |  9 |\n",
       "| Geneid | FCGR3B | protein_coding |  8 |\n",
       "| Geneid | IL1R2  | protein_coding |  8 |\n",
       "| Geneid | S100A8 | protein_coding |  8 |\n",
       "| Geneid | VSIG4  | protein_coding |  8 |\n",
       "| Geneid | CP     | protein_coding |  7 |\n",
       "| Geneid | EIF1AX | protein_coding |  7 |\n",
       "| Geneid | S100A9 | protein_coding |  7 |\n",
       "\n"
      ],
      "text/plain": [
       "   \"Geneid\" GeneSymbol Class          n \n",
       "1  Geneid   XIST       lincRNA        46\n",
       "2  Geneid   KDM6A      protein_coding 33\n",
       "3  Geneid   ZFX        protein_coding 33\n",
       "4  Geneid   PUDP       protein_coding 21\n",
       "5  Geneid   MAP7D2     protein_coding 16\n",
       "6  Geneid   NLRP2      protein_coding 16\n",
       "7  Geneid   NA         NA             16\n",
       "8  Geneid   JPX        lincRNA        12\n",
       "9  Geneid   GSTM1      protein_coding 11\n",
       "10 Geneid   GYG2       protein_coding 11\n",
       "11 Geneid   CD163      protein_coding  9\n",
       "12 Geneid   CES1       protein_coding  9\n",
       "13 Geneid   PNPLA4     protein_coding  9\n",
       "14 Geneid   FCGR3B     protein_coding  8\n",
       "15 Geneid   IL1R2      protein_coding  8\n",
       "16 Geneid   S100A8     protein_coding  8\n",
       "17 Geneid   VSIG4      protein_coding  8\n",
       "18 Geneid   CP         protein_coding  7\n",
       "19 Geneid   EIF1AX     protein_coding  7\n",
       "20 Geneid   S100A9     protein_coding  7"
      ]
     },
     "metadata": {},
     "output_type": "display_data"
    }
   ],
   "source": [
    "only_female_genes %>% \n",
    "    count( !!GENE_ID, GeneSymbol, Class, sort = TRUE) %>%\n",
    "    head(20)"
   ]
  },
  {
   "cell_type": "markdown",
   "metadata": {},
   "source": [
    "# Examine number of differentially expressed genes per chromosome per sex"
   ]
  },
  {
   "cell_type": "code",
   "execution_count": 90,
   "metadata": {},
   "outputs": [
    {
     "name": "stderr",
     "output_type": "stream",
     "text": [
      "Warning message:\n",
      "“Factor `Chromosome` contains implicit NA, consider using `forcats::fct_explicit_na`”\n",
      "Warning message:\n",
      "“Factor `Chromosome` contains implicit NA, consider using `forcats::fct_explicit_na`”\n"
     ]
    }
   ],
   "source": [
    "signif_per_tissue$Chromosome <- as.factor(signif_per_tissue$Chromosome)\n",
    "signif_per_tissue$higher_in <- as.factor(signif_per_tissue$higher_in)\n",
    "\n",
    "signif_per_tissue %>% \n",
    "    group_by(Chromosome,higher_in) %>%  \n",
    "    count()  -> signif_per_chrom_per_sex"
   ]
  },
  {
   "cell_type": "code",
   "execution_count": 91,
   "metadata": {},
   "outputs": [
    {
     "data": {
      "text/html": [
       "<table>\n",
       "<caption>A grouped_df: 51 × 3</caption>\n",
       "<thead>\n",
       "\t<tr><th scope=col>Chromosome</th><th scope=col>higher_in</th><th scope=col>n</th></tr>\n",
       "\t<tr><th scope=col>&lt;fct&gt;</th><th scope=col>&lt;fct&gt;</th><th scope=col>&lt;int&gt;</th></tr>\n",
       "</thead>\n",
       "<tbody>\n",
       "\t<tr><td>chr1 </td><td>females</td><td>355</td></tr>\n",
       "\t<tr><td>chr1 </td><td>males  </td><td>165</td></tr>\n",
       "\t<tr><td>chr10</td><td>females</td><td> 79</td></tr>\n",
       "\t<tr><td>chr10</td><td>males  </td><td> 74</td></tr>\n",
       "\t<tr><td>chr11</td><td>females</td><td>142</td></tr>\n",
       "\t<tr><td>chr11</td><td>males  </td><td> 88</td></tr>\n",
       "\t<tr><td>chr12</td><td>females</td><td>138</td></tr>\n",
       "\t<tr><td>chr12</td><td>males  </td><td>115</td></tr>\n",
       "\t<tr><td>chr13</td><td>females</td><td> 28</td></tr>\n",
       "\t<tr><td>chr13</td><td>males  </td><td> 38</td></tr>\n",
       "\t<tr><td>chr14</td><td>females</td><td> 91</td></tr>\n",
       "\t<tr><td>chr14</td><td>males  </td><td> 57</td></tr>\n",
       "\t<tr><td>chr15</td><td>females</td><td> 78</td></tr>\n",
       "\t<tr><td>chr15</td><td>males  </td><td>101</td></tr>\n",
       "\t<tr><td>chr16</td><td>females</td><td> 87</td></tr>\n",
       "\t<tr><td>chr16</td><td>males  </td><td> 77</td></tr>\n",
       "\t<tr><td>chr17</td><td>females</td><td>142</td></tr>\n",
       "\t<tr><td>chr17</td><td>males  </td><td> 91</td></tr>\n",
       "\t<tr><td>chr18</td><td>females</td><td> 30</td></tr>\n",
       "\t<tr><td>chr18</td><td>males  </td><td> 41</td></tr>\n",
       "\t<tr><td>chr19</td><td>females</td><td>153</td></tr>\n",
       "\t<tr><td>chr19</td><td>males  </td><td> 65</td></tr>\n",
       "\t<tr><td>chr2 </td><td>females</td><td>178</td></tr>\n",
       "\t<tr><td>chr2 </td><td>males  </td><td>145</td></tr>\n",
       "\t<tr><td>chr20</td><td>females</td><td> 71</td></tr>\n",
       "\t<tr><td>chr20</td><td>males  </td><td>131</td></tr>\n",
       "\t<tr><td>chr21</td><td>females</td><td> 33</td></tr>\n",
       "\t<tr><td>chr21</td><td>males  </td><td> 21</td></tr>\n",
       "\t<tr><td>chr22</td><td>females</td><td> 73</td></tr>\n",
       "\t<tr><td>chr22</td><td>males  </td><td> 59</td></tr>\n",
       "\t<tr><td>chr3 </td><td>females</td><td>149</td></tr>\n",
       "\t<tr><td>chr3 </td><td>males  </td><td> 92</td></tr>\n",
       "\t<tr><td>chr4 </td><td>females</td><td>111</td></tr>\n",
       "\t<tr><td>chr4 </td><td>males  </td><td>100</td></tr>\n",
       "\t<tr><td>chr5 </td><td>females</td><td>108</td></tr>\n",
       "\t<tr><td>chr5 </td><td>males  </td><td>102</td></tr>\n",
       "\t<tr><td>chr6 </td><td>females</td><td> 96</td></tr>\n",
       "\t<tr><td>chr6 </td><td>males  </td><td>119</td></tr>\n",
       "\t<tr><td>chr7 </td><td>females</td><td>116</td></tr>\n",
       "\t<tr><td>chr7 </td><td>males  </td><td> 82</td></tr>\n",
       "\t<tr><td>chr8 </td><td>females</td><td> 88</td></tr>\n",
       "\t<tr><td>chr8 </td><td>males  </td><td> 70</td></tr>\n",
       "\t<tr><td>chr9 </td><td>females</td><td> 67</td></tr>\n",
       "\t<tr><td>chr9 </td><td>males  </td><td> 72</td></tr>\n",
       "\t<tr><td>chrM </td><td>females</td><td>  1</td></tr>\n",
       "\t<tr><td>chrM </td><td>males  </td><td>  1</td></tr>\n",
       "\t<tr><td>chrX </td><td>females</td><td>295</td></tr>\n",
       "\t<tr><td>chrX </td><td>males  </td><td>112</td></tr>\n",
       "\t<tr><td>chrY </td><td>males  </td><td>633</td></tr>\n",
       "\t<tr><td>NA   </td><td>females</td><td> 16</td></tr>\n",
       "\t<tr><td>NA   </td><td>males  </td><td> 46</td></tr>\n",
       "</tbody>\n",
       "</table>\n"
      ],
      "text/latex": [
       "A grouped\\_df: 51 × 3\n",
       "\\begin{tabular}{lll}\n",
       " Chromosome & higher\\_in & n\\\\\n",
       " <fct> & <fct> & <int>\\\\\n",
       "\\hline\n",
       "\t chr1  & females & 355\\\\\n",
       "\t chr1  & males   & 165\\\\\n",
       "\t chr10 & females &  79\\\\\n",
       "\t chr10 & males   &  74\\\\\n",
       "\t chr11 & females & 142\\\\\n",
       "\t chr11 & males   &  88\\\\\n",
       "\t chr12 & females & 138\\\\\n",
       "\t chr12 & males   & 115\\\\\n",
       "\t chr13 & females &  28\\\\\n",
       "\t chr13 & males   &  38\\\\\n",
       "\t chr14 & females &  91\\\\\n",
       "\t chr14 & males   &  57\\\\\n",
       "\t chr15 & females &  78\\\\\n",
       "\t chr15 & males   & 101\\\\\n",
       "\t chr16 & females &  87\\\\\n",
       "\t chr16 & males   &  77\\\\\n",
       "\t chr17 & females & 142\\\\\n",
       "\t chr17 & males   &  91\\\\\n",
       "\t chr18 & females &  30\\\\\n",
       "\t chr18 & males   &  41\\\\\n",
       "\t chr19 & females & 153\\\\\n",
       "\t chr19 & males   &  65\\\\\n",
       "\t chr2  & females & 178\\\\\n",
       "\t chr2  & males   & 145\\\\\n",
       "\t chr20 & females &  71\\\\\n",
       "\t chr20 & males   & 131\\\\\n",
       "\t chr21 & females &  33\\\\\n",
       "\t chr21 & males   &  21\\\\\n",
       "\t chr22 & females &  73\\\\\n",
       "\t chr22 & males   &  59\\\\\n",
       "\t chr3  & females & 149\\\\\n",
       "\t chr3  & males   &  92\\\\\n",
       "\t chr4  & females & 111\\\\\n",
       "\t chr4  & males   & 100\\\\\n",
       "\t chr5  & females & 108\\\\\n",
       "\t chr5  & males   & 102\\\\\n",
       "\t chr6  & females &  96\\\\\n",
       "\t chr6  & males   & 119\\\\\n",
       "\t chr7  & females & 116\\\\\n",
       "\t chr7  & males   &  82\\\\\n",
       "\t chr8  & females &  88\\\\\n",
       "\t chr8  & males   &  70\\\\\n",
       "\t chr9  & females &  67\\\\\n",
       "\t chr9  & males   &  72\\\\\n",
       "\t chrM  & females &   1\\\\\n",
       "\t chrM  & males   &   1\\\\\n",
       "\t chrX  & females & 295\\\\\n",
       "\t chrX  & males   & 112\\\\\n",
       "\t chrY  & males   & 633\\\\\n",
       "\t NA    & females &  16\\\\\n",
       "\t NA    & males   &  46\\\\\n",
       "\\end{tabular}\n"
      ],
      "text/markdown": [
       "\n",
       "A grouped_df: 51 × 3\n",
       "\n",
       "| Chromosome &lt;fct&gt; | higher_in &lt;fct&gt; | n &lt;int&gt; |\n",
       "|---|---|---|\n",
       "| chr1  | females | 355 |\n",
       "| chr1  | males   | 165 |\n",
       "| chr10 | females |  79 |\n",
       "| chr10 | males   |  74 |\n",
       "| chr11 | females | 142 |\n",
       "| chr11 | males   |  88 |\n",
       "| chr12 | females | 138 |\n",
       "| chr12 | males   | 115 |\n",
       "| chr13 | females |  28 |\n",
       "| chr13 | males   |  38 |\n",
       "| chr14 | females |  91 |\n",
       "| chr14 | males   |  57 |\n",
       "| chr15 | females |  78 |\n",
       "| chr15 | males   | 101 |\n",
       "| chr16 | females |  87 |\n",
       "| chr16 | males   |  77 |\n",
       "| chr17 | females | 142 |\n",
       "| chr17 | males   |  91 |\n",
       "| chr18 | females |  30 |\n",
       "| chr18 | males   |  41 |\n",
       "| chr19 | females | 153 |\n",
       "| chr19 | males   |  65 |\n",
       "| chr2  | females | 178 |\n",
       "| chr2  | males   | 145 |\n",
       "| chr20 | females |  71 |\n",
       "| chr20 | males   | 131 |\n",
       "| chr21 | females |  33 |\n",
       "| chr21 | males   |  21 |\n",
       "| chr22 | females |  73 |\n",
       "| chr22 | males   |  59 |\n",
       "| chr3  | females | 149 |\n",
       "| chr3  | males   |  92 |\n",
       "| chr4  | females | 111 |\n",
       "| chr4  | males   | 100 |\n",
       "| chr5  | females | 108 |\n",
       "| chr5  | males   | 102 |\n",
       "| chr6  | females |  96 |\n",
       "| chr6  | males   | 119 |\n",
       "| chr7  | females | 116 |\n",
       "| chr7  | males   |  82 |\n",
       "| chr8  | females |  88 |\n",
       "| chr8  | males   |  70 |\n",
       "| chr9  | females |  67 |\n",
       "| chr9  | males   |  72 |\n",
       "| chrM  | females |   1 |\n",
       "| chrM  | males   |   1 |\n",
       "| chrX  | females | 295 |\n",
       "| chrX  | males   | 112 |\n",
       "| chrY  | males   | 633 |\n",
       "| NA    | females |  16 |\n",
       "| NA    | males   |  46 |\n",
       "\n"
      ],
      "text/plain": [
       "   Chromosome higher_in n  \n",
       "1  chr1       females   355\n",
       "2  chr1       males     165\n",
       "3  chr10      females    79\n",
       "4  chr10      males      74\n",
       "5  chr11      females   142\n",
       "6  chr11      males      88\n",
       "7  chr12      females   138\n",
       "8  chr12      males     115\n",
       "9  chr13      females    28\n",
       "10 chr13      males      38\n",
       "11 chr14      females    91\n",
       "12 chr14      males      57\n",
       "13 chr15      females    78\n",
       "14 chr15      males     101\n",
       "15 chr16      females    87\n",
       "16 chr16      males      77\n",
       "17 chr17      females   142\n",
       "18 chr17      males      91\n",
       "19 chr18      females    30\n",
       "20 chr18      males      41\n",
       "21 chr19      females   153\n",
       "22 chr19      males      65\n",
       "23 chr2       females   178\n",
       "24 chr2       males     145\n",
       "25 chr20      females    71\n",
       "26 chr20      males     131\n",
       "27 chr21      females    33\n",
       "28 chr21      males      21\n",
       "29 chr22      females    73\n",
       "30 chr22      males      59\n",
       "31 chr3       females   149\n",
       "32 chr3       males      92\n",
       "33 chr4       females   111\n",
       "34 chr4       males     100\n",
       "35 chr5       females   108\n",
       "36 chr5       males     102\n",
       "37 chr6       females    96\n",
       "38 chr6       males     119\n",
       "39 chr7       females   116\n",
       "40 chr7       males      82\n",
       "41 chr8       females    88\n",
       "42 chr8       males      70\n",
       "43 chr9       females    67\n",
       "44 chr9       males      72\n",
       "45 chrM       females     1\n",
       "46 chrM       males       1\n",
       "47 chrX       females   295\n",
       "48 chrX       males     112\n",
       "49 chrY       males     633\n",
       "50 NA         females    16\n",
       "51 NA         males      46"
      ]
     },
     "metadata": {},
     "output_type": "display_data"
    }
   ],
   "source": [
    "signif_per_chrom_per_sex"
   ]
  },
  {
   "cell_type": "markdown",
   "metadata": {},
   "source": [
    "## Metadata\n",
    "\n",
    "For replicability and reproducibility purposes, we also print the following metadata:\n",
    "\n",
    "1. Checksums of **'artefacts'**, files generated during the analysis and stored in the folder directory **`data`**\n",
    "2. List of environment metadata, dependencies, versions of libraries using `utils::sessionInfo()` and [`devtools::session_info()`](https://devtools.r-lib.org/reference/session_info.html)"
   ]
  },
  {
   "cell_type": "code",
   "execution_count": 92,
   "metadata": {},
   "outputs": [
    {
     "name": "stderr",
     "output_type": "stream",
     "text": [
      "Generating sha256 checksums of the artefacts in the `..data/` directory .. \n",
      "\n"
     ]
    },
    {
     "data": {
      "text/html": [],
      "text/latex": [],
      "text/markdown": [],
      "text/plain": [
       "character(0)"
      ]
     },
     "metadata": {},
     "output_type": "display_data"
    },
    {
     "data": {
      "text/html": [],
      "text/latex": [],
      "text/markdown": [],
      "text/plain": [
       "character(0)"
      ]
     },
     "metadata": {},
     "output_type": "display_data"
    },
    {
     "name": "stderr",
     "output_type": "stream",
     "text": [
      "Done!\n",
      "\n",
      "\n"
     ]
    },
    {
     "data": {
      "text/html": [
       "<table>\n",
       "<caption>A data.table: 92 × 2</caption>\n",
       "<thead>\n",
       "\t<tr><th scope=col>sha256sum</th><th scope=col>file</th></tr>\n",
       "\t<tr><th scope=col>&lt;chr&gt;</th><th scope=col>&lt;chr&gt;</th></tr>\n",
       "</thead>\n",
       "<tbody>\n",
       "\t<tr><td>f7bf10e5a2f335fb5eb92eab7749392ad3a96a959bce96f6075962555bc7f072</td><td>dge/Adipose-Subcutaneous_DGE.csv                </td></tr>\n",
       "\t<tr><td>3769ae0c0a05f6884e510a227d8d517bbe74b6147b4d9c5dcd097a5cc71661c5</td><td>dge/Adipose-Visceral(Omentum)_DGE.csv           </td></tr>\n",
       "\t<tr><td>a68be6697a068235f45f956b90c45eeb7b83785b215e7d75f32a3c7fd651373e</td><td>dge/AdrenalGland_DGE.csv                        </td></tr>\n",
       "\t<tr><td>fe04ff9e0c445ac67aaf2d12ee152ff164a9eb4d23b3cbf0a770c3d0e7841bbe</td><td>dge/Artery-Aorta_DGE.csv                        </td></tr>\n",
       "\t<tr><td>83292d3a6bf7583598ec60940bc2f29ffc2139e8923b5731ae5d33bfeca3ead0</td><td>dge/Artery-Coronary_DGE.csv                     </td></tr>\n",
       "\t<tr><td>588b0aee472c299a9d9aaed572177a8a816ace8ca3419152da7966505d5a7a52</td><td>dge/Artery-Tibial_DGE.csv                       </td></tr>\n",
       "\t<tr><td>5b69dcb829a68c0fef9db8e9fd091afec4dd1c2bbf2eb3d220dc279582403f0e</td><td>dge/Bladder_DGE.csv                             </td></tr>\n",
       "\t<tr><td>5e67e3716f94dcd032eec1468a86e95e22d923d718b28f04d7b4d863411ad6e5</td><td>dge/Brain-Amygdala_DGE.csv                      </td></tr>\n",
       "\t<tr><td>79ef74c37d1c0ec3622898d9c67d441f085407a0fa9b2efb7696bf946c9a7efd</td><td>dge/Brain-Anteriorcingulatecortex(BA24)_DGE.csv </td></tr>\n",
       "\t<tr><td>4d6aed8ec12f89b5113d88f7a1042e62c4316a2f1e126fe99b280edb76783e27</td><td>dge/Brain-Caudate(basalganglia)_DGE.csv         </td></tr>\n",
       "\t<tr><td>78185e72f94e7b6e6a8348023fe65012b374d040e600a4d5f78e32263d88d2af</td><td>dge/Brain-CerebellarHemisphere_DGE.csv          </td></tr>\n",
       "\t<tr><td>5a72548e31af56316bdaaa5aff79e27242a7b243a67c7237bc41a88f19f4ba25</td><td>dge/Brain-Cerebellum_DGE.csv                    </td></tr>\n",
       "\t<tr><td>9c85a0df3fc4549e3ac6b54753c8b5b0f19e3208ceb3908d94bf37cf89f1c650</td><td>dge/Brain-Cortex_DGE.csv                        </td></tr>\n",
       "\t<tr><td>0490b244885e292565fba0a96874c9215500386f386e5e0f9ea5c620ec8752e4</td><td>dge/Brain-FrontalCortex(BA9)_DGE.csv            </td></tr>\n",
       "\t<tr><td>015a9f807786017e5d90a8db1a53f7f038bf7de78e95031777f694d7e2f73ea2</td><td>dge/Brain-Hippocampus_DGE.csv                   </td></tr>\n",
       "\t<tr><td>21daa1ed56eb8bd4da82197765ae3d810c5a518980331b22c3aec8ac8883dd2d</td><td>dge/Brain-Hypothalamus_DGE.csv                  </td></tr>\n",
       "\t<tr><td>a43f80ffb5814a0c082bca4ba8e61625938174ce331dccd0e9865100619e54de</td><td>dge/Brain-Nucleusaccumbens(basalganglia)_DGE.csv</td></tr>\n",
       "\t<tr><td>6228062638bd532b893940ab145e29ab20a3025e008d554dc9d8f506a27dd6a1</td><td>dge/Brain-Putamen(basalganglia)_DGE.csv         </td></tr>\n",
       "\t<tr><td>df5a650694bd454b41b083548af60d1d75b951308d857ebbf6c5446336b93ea7</td><td>dge/Brain-Spinalcord(cervicalc-1)_DGE.csv       </td></tr>\n",
       "\t<tr><td>27f252da20e39fd744ccaf02b0cd1eb7bd7d5f1b5ffbf87478eadb13f3a4ebde</td><td>dge/Brain-Substantianigra_DGE.csv               </td></tr>\n",
       "\t<tr><td>c5153c0d0852c0b13186e8adc1f7a218b067aab868d499d45920459dc68910b4</td><td>dge/Breast-MammaryTissue_DGE.csv                </td></tr>\n",
       "\t<tr><td>e36bc01ee094ea7c3a385a29c8ede363165acc8a3f66796cb439e793819bbd3e</td><td>dge/Cells-Culturedfibroblasts_DGE.csv           </td></tr>\n",
       "\t<tr><td>a2c3bd3cfd8f195580132b97cb1088f51fab5ab5479031ebffc01e41a05da12e</td><td>dge/Cells-EBV-transformedlymphocytes_DGE.csv    </td></tr>\n",
       "\t<tr><td>7778e6c55977dab75ed090a3e6f6cfc8150a10c8fe24dcf6d9dacff8e80813e5</td><td>dge/Colon-Sigmoid_DGE.csv                       </td></tr>\n",
       "\t<tr><td>ca64c3a873f0de57d256cac329e7086417766823ab3276610a7731cb4debc379</td><td>dge/Colon-Transverse_DGE.csv                    </td></tr>\n",
       "\t<tr><td>161710f07cacbd4096afe61783e527d09819ed5107256d2b4bab71f832f699bb</td><td>dge/Esophagus-GastroesophagealJunction_DGE.csv  </td></tr>\n",
       "\t<tr><td>eff6f2f318a3a9b42cf8ae0e39c0709183c6253938398ba9ee93cbb86027f3df</td><td>dge/Esophagus-Mucosa_DGE.csv                    </td></tr>\n",
       "\t<tr><td>3e63e85d28fb44be5aafda4dc571d461d6054c7920af3609b7e5b3b611808af5</td><td>dge/Esophagus-Muscularis_DGE.csv                </td></tr>\n",
       "\t<tr><td>e1af3a41d41a96c895221b6a5d5b7ee45ebac7b72f9fa2b19481a6c657618aa1</td><td>dge/Heart-AtrialAppendage_DGE.csv               </td></tr>\n",
       "\t<tr><td>bf23a4cdee9d3b5814e01c14ce36ad1d1f9cef43a8763ce615405a573ca20f7e</td><td>dge/Heart-LeftVentricle_DGE.csv                 </td></tr>\n",
       "\t<tr><td>⋮</td><td>⋮</td></tr>\n",
       "\t<tr><td>c61c0280cc311755ce95e3c94dd4312ee84c33b69ae3893076cbedb3d1f9abda</td><td>signif_brain_nucleusaccumbens_basalganglia.csv</td></tr>\n",
       "\t<tr><td>cd24e1068d6bc2806574380e50d39112a1f76a9b36eaa4f70ad3cec1ce6a3a6d</td><td>signif_brain_putamen_basalganglia.csv         </td></tr>\n",
       "\t<tr><td>4cc45c50585fe6f3312147239bc688750a986ce3fd834211dacd7348cfe644bc</td><td>signif_brain_spinalcord_cervicalc_1.csv       </td></tr>\n",
       "\t<tr><td>a684288de246795a9d5bef1ff439233dd15d1cc2e993221f92bd68cc8a497a27</td><td>signif_brain_substantianigra.csv              </td></tr>\n",
       "\t<tr><td>5ca61ecc6e10b54e5dbe585ef97911bc75af7661a0c63d6414e55e10215b4118</td><td>signif_breast_mammary_tissue.csv              </td></tr>\n",
       "\t<tr><td>5c86eccf5694af72e0ddde4d36321ae7b2d609a35578b34327f18620c18b9d3d</td><td>signif_cells_culturedfibroblasts.csv          </td></tr>\n",
       "\t<tr><td>463cc42a2757fc6cc7b43da70562aeb88bc3aaa012c265a1e46a168937fb67cc</td><td>signif_cells_ebv_transformedlymphocytes.csv   </td></tr>\n",
       "\t<tr><td>8b48f692af08c3161dbe233fa2bcd2f868d5438d6ca6a52fc08d558310ff78b4</td><td>signif_colon_sigmoid.csv                      </td></tr>\n",
       "\t<tr><td>70b8b4e44eec3ec82f03a476b4c3bf58758a247adcdb29876d153dfb2190be90</td><td>signif_colon_transverse.csv                   </td></tr>\n",
       "\t<tr><td>5bb7dd8337fe8de117908ba5015f23534c7c8af765097b50781c4fe0c90689b3</td><td>signif_esophagus_gastroesophageal_junction.csv</td></tr>\n",
       "\t<tr><td>c3879e55bc10aa3215604d36d9e3e15e3cb417d36685be6e68282f7cf02f444c</td><td>signif_esophagus_mucosa.csv                   </td></tr>\n",
       "\t<tr><td>6ece7ee3748c3c7c89d7d807c79bd0ba39440d568ecd493ce7e4cd3f862b3320</td><td>signif_esophagus_muscularis.csv               </td></tr>\n",
       "\t<tr><td>6aaa3cf7c3da10e2debda91bfe7ce60f547d9ffdb23fb87c1fe27a753943a376</td><td>signif_heart_atrial_appendage.csv             </td></tr>\n",
       "\t<tr><td>859ecf95bc768ce787fc55e06ef502dbf42d28d5e63015d5f2be935cb7c8dc4d</td><td>signif_heart_left_ventricle.csv               </td></tr>\n",
       "\t<tr><td>9b8727916ccc68985b2f0216730f625751d2b154e7139b9c3db594323c657dc0</td><td>signif_kidney_cortex.csv                      </td></tr>\n",
       "\t<tr><td>da1dcb855e0ca81d9eb185c75190910c64490c57f3424e5d98bb507f4a7e1268</td><td>signif_kidney_medulla.csv                     </td></tr>\n",
       "\t<tr><td>518dd5b0234d038d3bbc0b0b4f2d58c744958ad420c210fc198f94d7b1f2d10c</td><td>signif_liver.csv                              </td></tr>\n",
       "\t<tr><td>a7c2f5b291a6dbbc0d23d2ab8f38f89341b2bdc158a9f80f4fe7e7cb304eab5a</td><td>signif_lung.csv                               </td></tr>\n",
       "\t<tr><td>e9c22b66c8b591d6a29a8485bcbb30d049522025da52259e96bdceb95cd968d3</td><td>signif_minor_salivary_gland.csv               </td></tr>\n",
       "\t<tr><td>b407814c301b0789e5f07e40d93c75d0c34a6a77ced17f313fec0af334335b78</td><td>signif_muscle_skeletal.csv                    </td></tr>\n",
       "\t<tr><td>b9ebf90d4282764eb3105bc9d816c775049737e94a6a656e12d0354f17ddfc58</td><td>signif_nerve_tibial.csv                       </td></tr>\n",
       "\t<tr><td>51836890ed48b18c50720008e3da88f33f46bdbb20731bacc5718aa245b69173</td><td>signif_pancreas.csv                           </td></tr>\n",
       "\t<tr><td>ba7eeb515eeeaa88459f710efcd55da255a5a9e4d9eed8f7d98c1412ed88248c</td><td>signif_pituitary.csv                          </td></tr>\n",
       "\t<tr><td>71d7af151292a7aa759678779e4d092c04e8281b425948c4660b598bef881294</td><td>signif_skin_not_sun_exposed_suprapubic.csv    </td></tr>\n",
       "\t<tr><td>24cac4d54d48ea18639b803fdccd286deb1a44fc8e19e570df6c122132835c47</td><td>signif_skin_sun_exposed_lowerleg.csv          </td></tr>\n",
       "\t<tr><td>5439ffb61c590853bd6cd2d28fc02bc9baa9a0e4e710e4a1d21b45a17c033859</td><td>signif_small_intestine_terminal_ileum.csv     </td></tr>\n",
       "\t<tr><td>d437a3bbf0d93768d389815ab4b4fdd26e6cb550042ad1cfffe2c890d214fc3c</td><td>signif_spleen.csv                             </td></tr>\n",
       "\t<tr><td>8fed6f860258a06edf610103a97d7686bc129998402e449334694ef84b92e35e</td><td>signif_stomach.csv                            </td></tr>\n",
       "\t<tr><td>6bd6295f802d4f05a23d1648b8aaa0c9c12d9c758d16c1a5677d3697d42c45f5</td><td>signif_thyroid.csv                            </td></tr>\n",
       "\t<tr><td>1028706f9b36ae9c54508d729c36cc9c70b64f4fea0229e668144d34cd2d65a3</td><td>signif_whole_blood.csv                        </td></tr>\n",
       "</tbody>\n",
       "</table>\n"
      ],
      "text/latex": [
       "A data.table: 92 × 2\n",
       "\\begin{tabular}{ll}\n",
       " sha256sum & file\\\\\n",
       " <chr> & <chr>\\\\\n",
       "\\hline\n",
       "\t f7bf10e5a2f335fb5eb92eab7749392ad3a96a959bce96f6075962555bc7f072 & dge/Adipose-Subcutaneous\\_DGE.csv                \\\\\n",
       "\t 3769ae0c0a05f6884e510a227d8d517bbe74b6147b4d9c5dcd097a5cc71661c5 & dge/Adipose-Visceral(Omentum)\\_DGE.csv           \\\\\n",
       "\t a68be6697a068235f45f956b90c45eeb7b83785b215e7d75f32a3c7fd651373e & dge/AdrenalGland\\_DGE.csv                        \\\\\n",
       "\t fe04ff9e0c445ac67aaf2d12ee152ff164a9eb4d23b3cbf0a770c3d0e7841bbe & dge/Artery-Aorta\\_DGE.csv                        \\\\\n",
       "\t 83292d3a6bf7583598ec60940bc2f29ffc2139e8923b5731ae5d33bfeca3ead0 & dge/Artery-Coronary\\_DGE.csv                     \\\\\n",
       "\t 588b0aee472c299a9d9aaed572177a8a816ace8ca3419152da7966505d5a7a52 & dge/Artery-Tibial\\_DGE.csv                       \\\\\n",
       "\t 5b69dcb829a68c0fef9db8e9fd091afec4dd1c2bbf2eb3d220dc279582403f0e & dge/Bladder\\_DGE.csv                             \\\\\n",
       "\t 5e67e3716f94dcd032eec1468a86e95e22d923d718b28f04d7b4d863411ad6e5 & dge/Brain-Amygdala\\_DGE.csv                      \\\\\n",
       "\t 79ef74c37d1c0ec3622898d9c67d441f085407a0fa9b2efb7696bf946c9a7efd & dge/Brain-Anteriorcingulatecortex(BA24)\\_DGE.csv \\\\\n",
       "\t 4d6aed8ec12f89b5113d88f7a1042e62c4316a2f1e126fe99b280edb76783e27 & dge/Brain-Caudate(basalganglia)\\_DGE.csv         \\\\\n",
       "\t 78185e72f94e7b6e6a8348023fe65012b374d040e600a4d5f78e32263d88d2af & dge/Brain-CerebellarHemisphere\\_DGE.csv          \\\\\n",
       "\t 5a72548e31af56316bdaaa5aff79e27242a7b243a67c7237bc41a88f19f4ba25 & dge/Brain-Cerebellum\\_DGE.csv                    \\\\\n",
       "\t 9c85a0df3fc4549e3ac6b54753c8b5b0f19e3208ceb3908d94bf37cf89f1c650 & dge/Brain-Cortex\\_DGE.csv                        \\\\\n",
       "\t 0490b244885e292565fba0a96874c9215500386f386e5e0f9ea5c620ec8752e4 & dge/Brain-FrontalCortex(BA9)\\_DGE.csv            \\\\\n",
       "\t 015a9f807786017e5d90a8db1a53f7f038bf7de78e95031777f694d7e2f73ea2 & dge/Brain-Hippocampus\\_DGE.csv                   \\\\\n",
       "\t 21daa1ed56eb8bd4da82197765ae3d810c5a518980331b22c3aec8ac8883dd2d & dge/Brain-Hypothalamus\\_DGE.csv                  \\\\\n",
       "\t a43f80ffb5814a0c082bca4ba8e61625938174ce331dccd0e9865100619e54de & dge/Brain-Nucleusaccumbens(basalganglia)\\_DGE.csv\\\\\n",
       "\t 6228062638bd532b893940ab145e29ab20a3025e008d554dc9d8f506a27dd6a1 & dge/Brain-Putamen(basalganglia)\\_DGE.csv         \\\\\n",
       "\t df5a650694bd454b41b083548af60d1d75b951308d857ebbf6c5446336b93ea7 & dge/Brain-Spinalcord(cervicalc-1)\\_DGE.csv       \\\\\n",
       "\t 27f252da20e39fd744ccaf02b0cd1eb7bd7d5f1b5ffbf87478eadb13f3a4ebde & dge/Brain-Substantianigra\\_DGE.csv               \\\\\n",
       "\t c5153c0d0852c0b13186e8adc1f7a218b067aab868d499d45920459dc68910b4 & dge/Breast-MammaryTissue\\_DGE.csv                \\\\\n",
       "\t e36bc01ee094ea7c3a385a29c8ede363165acc8a3f66796cb439e793819bbd3e & dge/Cells-Culturedfibroblasts\\_DGE.csv           \\\\\n",
       "\t a2c3bd3cfd8f195580132b97cb1088f51fab5ab5479031ebffc01e41a05da12e & dge/Cells-EBV-transformedlymphocytes\\_DGE.csv    \\\\\n",
       "\t 7778e6c55977dab75ed090a3e6f6cfc8150a10c8fe24dcf6d9dacff8e80813e5 & dge/Colon-Sigmoid\\_DGE.csv                       \\\\\n",
       "\t ca64c3a873f0de57d256cac329e7086417766823ab3276610a7731cb4debc379 & dge/Colon-Transverse\\_DGE.csv                    \\\\\n",
       "\t 161710f07cacbd4096afe61783e527d09819ed5107256d2b4bab71f832f699bb & dge/Esophagus-GastroesophagealJunction\\_DGE.csv  \\\\\n",
       "\t eff6f2f318a3a9b42cf8ae0e39c0709183c6253938398ba9ee93cbb86027f3df & dge/Esophagus-Mucosa\\_DGE.csv                    \\\\\n",
       "\t 3e63e85d28fb44be5aafda4dc571d461d6054c7920af3609b7e5b3b611808af5 & dge/Esophagus-Muscularis\\_DGE.csv                \\\\\n",
       "\t e1af3a41d41a96c895221b6a5d5b7ee45ebac7b72f9fa2b19481a6c657618aa1 & dge/Heart-AtrialAppendage\\_DGE.csv               \\\\\n",
       "\t bf23a4cdee9d3b5814e01c14ce36ad1d1f9cef43a8763ce615405a573ca20f7e & dge/Heart-LeftVentricle\\_DGE.csv                 \\\\\n",
       "\t ⋮ & ⋮\\\\\n",
       "\t c61c0280cc311755ce95e3c94dd4312ee84c33b69ae3893076cbedb3d1f9abda & signif\\_brain\\_nucleusaccumbens\\_basalganglia.csv\\\\\n",
       "\t cd24e1068d6bc2806574380e50d39112a1f76a9b36eaa4f70ad3cec1ce6a3a6d & signif\\_brain\\_putamen\\_basalganglia.csv         \\\\\n",
       "\t 4cc45c50585fe6f3312147239bc688750a986ce3fd834211dacd7348cfe644bc & signif\\_brain\\_spinalcord\\_cervicalc\\_1.csv       \\\\\n",
       "\t a684288de246795a9d5bef1ff439233dd15d1cc2e993221f92bd68cc8a497a27 & signif\\_brain\\_substantianigra.csv              \\\\\n",
       "\t 5ca61ecc6e10b54e5dbe585ef97911bc75af7661a0c63d6414e55e10215b4118 & signif\\_breast\\_mammary\\_tissue.csv              \\\\\n",
       "\t 5c86eccf5694af72e0ddde4d36321ae7b2d609a35578b34327f18620c18b9d3d & signif\\_cells\\_culturedfibroblasts.csv          \\\\\n",
       "\t 463cc42a2757fc6cc7b43da70562aeb88bc3aaa012c265a1e46a168937fb67cc & signif\\_cells\\_ebv\\_transformedlymphocytes.csv   \\\\\n",
       "\t 8b48f692af08c3161dbe233fa2bcd2f868d5438d6ca6a52fc08d558310ff78b4 & signif\\_colon\\_sigmoid.csv                      \\\\\n",
       "\t 70b8b4e44eec3ec82f03a476b4c3bf58758a247adcdb29876d153dfb2190be90 & signif\\_colon\\_transverse.csv                   \\\\\n",
       "\t 5bb7dd8337fe8de117908ba5015f23534c7c8af765097b50781c4fe0c90689b3 & signif\\_esophagus\\_gastroesophageal\\_junction.csv\\\\\n",
       "\t c3879e55bc10aa3215604d36d9e3e15e3cb417d36685be6e68282f7cf02f444c & signif\\_esophagus\\_mucosa.csv                   \\\\\n",
       "\t 6ece7ee3748c3c7c89d7d807c79bd0ba39440d568ecd493ce7e4cd3f862b3320 & signif\\_esophagus\\_muscularis.csv               \\\\\n",
       "\t 6aaa3cf7c3da10e2debda91bfe7ce60f547d9ffdb23fb87c1fe27a753943a376 & signif\\_heart\\_atrial\\_appendage.csv             \\\\\n",
       "\t 859ecf95bc768ce787fc55e06ef502dbf42d28d5e63015d5f2be935cb7c8dc4d & signif\\_heart\\_left\\_ventricle.csv               \\\\\n",
       "\t 9b8727916ccc68985b2f0216730f625751d2b154e7139b9c3db594323c657dc0 & signif\\_kidney\\_cortex.csv                      \\\\\n",
       "\t da1dcb855e0ca81d9eb185c75190910c64490c57f3424e5d98bb507f4a7e1268 & signif\\_kidney\\_medulla.csv                     \\\\\n",
       "\t 518dd5b0234d038d3bbc0b0b4f2d58c744958ad420c210fc198f94d7b1f2d10c & signif\\_liver.csv                              \\\\\n",
       "\t a7c2f5b291a6dbbc0d23d2ab8f38f89341b2bdc158a9f80f4fe7e7cb304eab5a & signif\\_lung.csv                               \\\\\n",
       "\t e9c22b66c8b591d6a29a8485bcbb30d049522025da52259e96bdceb95cd968d3 & signif\\_minor\\_salivary\\_gland.csv               \\\\\n",
       "\t b407814c301b0789e5f07e40d93c75d0c34a6a77ced17f313fec0af334335b78 & signif\\_muscle\\_skeletal.csv                    \\\\\n",
       "\t b9ebf90d4282764eb3105bc9d816c775049737e94a6a656e12d0354f17ddfc58 & signif\\_nerve\\_tibial.csv                       \\\\\n",
       "\t 51836890ed48b18c50720008e3da88f33f46bdbb20731bacc5718aa245b69173 & signif\\_pancreas.csv                           \\\\\n",
       "\t ba7eeb515eeeaa88459f710efcd55da255a5a9e4d9eed8f7d98c1412ed88248c & signif\\_pituitary.csv                          \\\\\n",
       "\t 71d7af151292a7aa759678779e4d092c04e8281b425948c4660b598bef881294 & signif\\_skin\\_not\\_sun\\_exposed\\_suprapubic.csv    \\\\\n",
       "\t 24cac4d54d48ea18639b803fdccd286deb1a44fc8e19e570df6c122132835c47 & signif\\_skin\\_sun\\_exposed\\_lowerleg.csv          \\\\\n",
       "\t 5439ffb61c590853bd6cd2d28fc02bc9baa9a0e4e710e4a1d21b45a17c033859 & signif\\_small\\_intestine\\_terminal\\_ileum.csv     \\\\\n",
       "\t d437a3bbf0d93768d389815ab4b4fdd26e6cb550042ad1cfffe2c890d214fc3c & signif\\_spleen.csv                             \\\\\n",
       "\t 8fed6f860258a06edf610103a97d7686bc129998402e449334694ef84b92e35e & signif\\_stomach.csv                            \\\\\n",
       "\t 6bd6295f802d4f05a23d1648b8aaa0c9c12d9c758d16c1a5677d3697d42c45f5 & signif\\_thyroid.csv                            \\\\\n",
       "\t 1028706f9b36ae9c54508d729c36cc9c70b64f4fea0229e668144d34cd2d65a3 & signif\\_whole\\_blood.csv                        \\\\\n",
       "\\end{tabular}\n"
      ],
      "text/markdown": [
       "\n",
       "A data.table: 92 × 2\n",
       "\n",
       "| sha256sum &lt;chr&gt; | file &lt;chr&gt; |\n",
       "|---|---|\n",
       "| f7bf10e5a2f335fb5eb92eab7749392ad3a96a959bce96f6075962555bc7f072 | dge/Adipose-Subcutaneous_DGE.csv                 |\n",
       "| 3769ae0c0a05f6884e510a227d8d517bbe74b6147b4d9c5dcd097a5cc71661c5 | dge/Adipose-Visceral(Omentum)_DGE.csv            |\n",
       "| a68be6697a068235f45f956b90c45eeb7b83785b215e7d75f32a3c7fd651373e | dge/AdrenalGland_DGE.csv                         |\n",
       "| fe04ff9e0c445ac67aaf2d12ee152ff164a9eb4d23b3cbf0a770c3d0e7841bbe | dge/Artery-Aorta_DGE.csv                         |\n",
       "| 83292d3a6bf7583598ec60940bc2f29ffc2139e8923b5731ae5d33bfeca3ead0 | dge/Artery-Coronary_DGE.csv                      |\n",
       "| 588b0aee472c299a9d9aaed572177a8a816ace8ca3419152da7966505d5a7a52 | dge/Artery-Tibial_DGE.csv                        |\n",
       "| 5b69dcb829a68c0fef9db8e9fd091afec4dd1c2bbf2eb3d220dc279582403f0e | dge/Bladder_DGE.csv                              |\n",
       "| 5e67e3716f94dcd032eec1468a86e95e22d923d718b28f04d7b4d863411ad6e5 | dge/Brain-Amygdala_DGE.csv                       |\n",
       "| 79ef74c37d1c0ec3622898d9c67d441f085407a0fa9b2efb7696bf946c9a7efd | dge/Brain-Anteriorcingulatecortex(BA24)_DGE.csv  |\n",
       "| 4d6aed8ec12f89b5113d88f7a1042e62c4316a2f1e126fe99b280edb76783e27 | dge/Brain-Caudate(basalganglia)_DGE.csv          |\n",
       "| 78185e72f94e7b6e6a8348023fe65012b374d040e600a4d5f78e32263d88d2af | dge/Brain-CerebellarHemisphere_DGE.csv           |\n",
       "| 5a72548e31af56316bdaaa5aff79e27242a7b243a67c7237bc41a88f19f4ba25 | dge/Brain-Cerebellum_DGE.csv                     |\n",
       "| 9c85a0df3fc4549e3ac6b54753c8b5b0f19e3208ceb3908d94bf37cf89f1c650 | dge/Brain-Cortex_DGE.csv                         |\n",
       "| 0490b244885e292565fba0a96874c9215500386f386e5e0f9ea5c620ec8752e4 | dge/Brain-FrontalCortex(BA9)_DGE.csv             |\n",
       "| 015a9f807786017e5d90a8db1a53f7f038bf7de78e95031777f694d7e2f73ea2 | dge/Brain-Hippocampus_DGE.csv                    |\n",
       "| 21daa1ed56eb8bd4da82197765ae3d810c5a518980331b22c3aec8ac8883dd2d | dge/Brain-Hypothalamus_DGE.csv                   |\n",
       "| a43f80ffb5814a0c082bca4ba8e61625938174ce331dccd0e9865100619e54de | dge/Brain-Nucleusaccumbens(basalganglia)_DGE.csv |\n",
       "| 6228062638bd532b893940ab145e29ab20a3025e008d554dc9d8f506a27dd6a1 | dge/Brain-Putamen(basalganglia)_DGE.csv          |\n",
       "| df5a650694bd454b41b083548af60d1d75b951308d857ebbf6c5446336b93ea7 | dge/Brain-Spinalcord(cervicalc-1)_DGE.csv        |\n",
       "| 27f252da20e39fd744ccaf02b0cd1eb7bd7d5f1b5ffbf87478eadb13f3a4ebde | dge/Brain-Substantianigra_DGE.csv                |\n",
       "| c5153c0d0852c0b13186e8adc1f7a218b067aab868d499d45920459dc68910b4 | dge/Breast-MammaryTissue_DGE.csv                 |\n",
       "| e36bc01ee094ea7c3a385a29c8ede363165acc8a3f66796cb439e793819bbd3e | dge/Cells-Culturedfibroblasts_DGE.csv            |\n",
       "| a2c3bd3cfd8f195580132b97cb1088f51fab5ab5479031ebffc01e41a05da12e | dge/Cells-EBV-transformedlymphocytes_DGE.csv     |\n",
       "| 7778e6c55977dab75ed090a3e6f6cfc8150a10c8fe24dcf6d9dacff8e80813e5 | dge/Colon-Sigmoid_DGE.csv                        |\n",
       "| ca64c3a873f0de57d256cac329e7086417766823ab3276610a7731cb4debc379 | dge/Colon-Transverse_DGE.csv                     |\n",
       "| 161710f07cacbd4096afe61783e527d09819ed5107256d2b4bab71f832f699bb | dge/Esophagus-GastroesophagealJunction_DGE.csv   |\n",
       "| eff6f2f318a3a9b42cf8ae0e39c0709183c6253938398ba9ee93cbb86027f3df | dge/Esophagus-Mucosa_DGE.csv                     |\n",
       "| 3e63e85d28fb44be5aafda4dc571d461d6054c7920af3609b7e5b3b611808af5 | dge/Esophagus-Muscularis_DGE.csv                 |\n",
       "| e1af3a41d41a96c895221b6a5d5b7ee45ebac7b72f9fa2b19481a6c657618aa1 | dge/Heart-AtrialAppendage_DGE.csv                |\n",
       "| bf23a4cdee9d3b5814e01c14ce36ad1d1f9cef43a8763ce615405a573ca20f7e | dge/Heart-LeftVentricle_DGE.csv                  |\n",
       "| ⋮ | ⋮ |\n",
       "| c61c0280cc311755ce95e3c94dd4312ee84c33b69ae3893076cbedb3d1f9abda | signif_brain_nucleusaccumbens_basalganglia.csv |\n",
       "| cd24e1068d6bc2806574380e50d39112a1f76a9b36eaa4f70ad3cec1ce6a3a6d | signif_brain_putamen_basalganglia.csv          |\n",
       "| 4cc45c50585fe6f3312147239bc688750a986ce3fd834211dacd7348cfe644bc | signif_brain_spinalcord_cervicalc_1.csv        |\n",
       "| a684288de246795a9d5bef1ff439233dd15d1cc2e993221f92bd68cc8a497a27 | signif_brain_substantianigra.csv               |\n",
       "| 5ca61ecc6e10b54e5dbe585ef97911bc75af7661a0c63d6414e55e10215b4118 | signif_breast_mammary_tissue.csv               |\n",
       "| 5c86eccf5694af72e0ddde4d36321ae7b2d609a35578b34327f18620c18b9d3d | signif_cells_culturedfibroblasts.csv           |\n",
       "| 463cc42a2757fc6cc7b43da70562aeb88bc3aaa012c265a1e46a168937fb67cc | signif_cells_ebv_transformedlymphocytes.csv    |\n",
       "| 8b48f692af08c3161dbe233fa2bcd2f868d5438d6ca6a52fc08d558310ff78b4 | signif_colon_sigmoid.csv                       |\n",
       "| 70b8b4e44eec3ec82f03a476b4c3bf58758a247adcdb29876d153dfb2190be90 | signif_colon_transverse.csv                    |\n",
       "| 5bb7dd8337fe8de117908ba5015f23534c7c8af765097b50781c4fe0c90689b3 | signif_esophagus_gastroesophageal_junction.csv |\n",
       "| c3879e55bc10aa3215604d36d9e3e15e3cb417d36685be6e68282f7cf02f444c | signif_esophagus_mucosa.csv                    |\n",
       "| 6ece7ee3748c3c7c89d7d807c79bd0ba39440d568ecd493ce7e4cd3f862b3320 | signif_esophagus_muscularis.csv                |\n",
       "| 6aaa3cf7c3da10e2debda91bfe7ce60f547d9ffdb23fb87c1fe27a753943a376 | signif_heart_atrial_appendage.csv              |\n",
       "| 859ecf95bc768ce787fc55e06ef502dbf42d28d5e63015d5f2be935cb7c8dc4d | signif_heart_left_ventricle.csv                |\n",
       "| 9b8727916ccc68985b2f0216730f625751d2b154e7139b9c3db594323c657dc0 | signif_kidney_cortex.csv                       |\n",
       "| da1dcb855e0ca81d9eb185c75190910c64490c57f3424e5d98bb507f4a7e1268 | signif_kidney_medulla.csv                      |\n",
       "| 518dd5b0234d038d3bbc0b0b4f2d58c744958ad420c210fc198f94d7b1f2d10c | signif_liver.csv                               |\n",
       "| a7c2f5b291a6dbbc0d23d2ab8f38f89341b2bdc158a9f80f4fe7e7cb304eab5a | signif_lung.csv                                |\n",
       "| e9c22b66c8b591d6a29a8485bcbb30d049522025da52259e96bdceb95cd968d3 | signif_minor_salivary_gland.csv                |\n",
       "| b407814c301b0789e5f07e40d93c75d0c34a6a77ced17f313fec0af334335b78 | signif_muscle_skeletal.csv                     |\n",
       "| b9ebf90d4282764eb3105bc9d816c775049737e94a6a656e12d0354f17ddfc58 | signif_nerve_tibial.csv                        |\n",
       "| 51836890ed48b18c50720008e3da88f33f46bdbb20731bacc5718aa245b69173 | signif_pancreas.csv                            |\n",
       "| ba7eeb515eeeaa88459f710efcd55da255a5a9e4d9eed8f7d98c1412ed88248c | signif_pituitary.csv                           |\n",
       "| 71d7af151292a7aa759678779e4d092c04e8281b425948c4660b598bef881294 | signif_skin_not_sun_exposed_suprapubic.csv     |\n",
       "| 24cac4d54d48ea18639b803fdccd286deb1a44fc8e19e570df6c122132835c47 | signif_skin_sun_exposed_lowerleg.csv           |\n",
       "| 5439ffb61c590853bd6cd2d28fc02bc9baa9a0e4e710e4a1d21b45a17c033859 | signif_small_intestine_terminal_ileum.csv      |\n",
       "| d437a3bbf0d93768d389815ab4b4fdd26e6cb550042ad1cfffe2c890d214fc3c | signif_spleen.csv                              |\n",
       "| 8fed6f860258a06edf610103a97d7686bc129998402e449334694ef84b92e35e | signif_stomach.csv                             |\n",
       "| 6bd6295f802d4f05a23d1648b8aaa0c9c12d9c758d16c1a5677d3697d42c45f5 | signif_thyroid.csv                             |\n",
       "| 1028706f9b36ae9c54508d729c36cc9c70b64f4fea0229e668144d34cd2d65a3 | signif_whole_blood.csv                         |\n",
       "\n"
      ],
      "text/plain": [
       "   sha256sum                                                       \n",
       "1  f7bf10e5a2f335fb5eb92eab7749392ad3a96a959bce96f6075962555bc7f072\n",
       "2  3769ae0c0a05f6884e510a227d8d517bbe74b6147b4d9c5dcd097a5cc71661c5\n",
       "3  a68be6697a068235f45f956b90c45eeb7b83785b215e7d75f32a3c7fd651373e\n",
       "4  fe04ff9e0c445ac67aaf2d12ee152ff164a9eb4d23b3cbf0a770c3d0e7841bbe\n",
       "5  83292d3a6bf7583598ec60940bc2f29ffc2139e8923b5731ae5d33bfeca3ead0\n",
       "6  588b0aee472c299a9d9aaed572177a8a816ace8ca3419152da7966505d5a7a52\n",
       "7  5b69dcb829a68c0fef9db8e9fd091afec4dd1c2bbf2eb3d220dc279582403f0e\n",
       "8  5e67e3716f94dcd032eec1468a86e95e22d923d718b28f04d7b4d863411ad6e5\n",
       "9  79ef74c37d1c0ec3622898d9c67d441f085407a0fa9b2efb7696bf946c9a7efd\n",
       "10 4d6aed8ec12f89b5113d88f7a1042e62c4316a2f1e126fe99b280edb76783e27\n",
       "11 78185e72f94e7b6e6a8348023fe65012b374d040e600a4d5f78e32263d88d2af\n",
       "12 5a72548e31af56316bdaaa5aff79e27242a7b243a67c7237bc41a88f19f4ba25\n",
       "13 9c85a0df3fc4549e3ac6b54753c8b5b0f19e3208ceb3908d94bf37cf89f1c650\n",
       "14 0490b244885e292565fba0a96874c9215500386f386e5e0f9ea5c620ec8752e4\n",
       "15 015a9f807786017e5d90a8db1a53f7f038bf7de78e95031777f694d7e2f73ea2\n",
       "16 21daa1ed56eb8bd4da82197765ae3d810c5a518980331b22c3aec8ac8883dd2d\n",
       "17 a43f80ffb5814a0c082bca4ba8e61625938174ce331dccd0e9865100619e54de\n",
       "18 6228062638bd532b893940ab145e29ab20a3025e008d554dc9d8f506a27dd6a1\n",
       "19 df5a650694bd454b41b083548af60d1d75b951308d857ebbf6c5446336b93ea7\n",
       "20 27f252da20e39fd744ccaf02b0cd1eb7bd7d5f1b5ffbf87478eadb13f3a4ebde\n",
       "21 c5153c0d0852c0b13186e8adc1f7a218b067aab868d499d45920459dc68910b4\n",
       "22 e36bc01ee094ea7c3a385a29c8ede363165acc8a3f66796cb439e793819bbd3e\n",
       "23 a2c3bd3cfd8f195580132b97cb1088f51fab5ab5479031ebffc01e41a05da12e\n",
       "24 7778e6c55977dab75ed090a3e6f6cfc8150a10c8fe24dcf6d9dacff8e80813e5\n",
       "25 ca64c3a873f0de57d256cac329e7086417766823ab3276610a7731cb4debc379\n",
       "26 161710f07cacbd4096afe61783e527d09819ed5107256d2b4bab71f832f699bb\n",
       "27 eff6f2f318a3a9b42cf8ae0e39c0709183c6253938398ba9ee93cbb86027f3df\n",
       "28 3e63e85d28fb44be5aafda4dc571d461d6054c7920af3609b7e5b3b611808af5\n",
       "29 e1af3a41d41a96c895221b6a5d5b7ee45ebac7b72f9fa2b19481a6c657618aa1\n",
       "30 bf23a4cdee9d3b5814e01c14ce36ad1d1f9cef43a8763ce615405a573ca20f7e\n",
       "⋮  ⋮                                                               \n",
       "63 c61c0280cc311755ce95e3c94dd4312ee84c33b69ae3893076cbedb3d1f9abda\n",
       "64 cd24e1068d6bc2806574380e50d39112a1f76a9b36eaa4f70ad3cec1ce6a3a6d\n",
       "65 4cc45c50585fe6f3312147239bc688750a986ce3fd834211dacd7348cfe644bc\n",
       "66 a684288de246795a9d5bef1ff439233dd15d1cc2e993221f92bd68cc8a497a27\n",
       "67 5ca61ecc6e10b54e5dbe585ef97911bc75af7661a0c63d6414e55e10215b4118\n",
       "68 5c86eccf5694af72e0ddde4d36321ae7b2d609a35578b34327f18620c18b9d3d\n",
       "69 463cc42a2757fc6cc7b43da70562aeb88bc3aaa012c265a1e46a168937fb67cc\n",
       "70 8b48f692af08c3161dbe233fa2bcd2f868d5438d6ca6a52fc08d558310ff78b4\n",
       "71 70b8b4e44eec3ec82f03a476b4c3bf58758a247adcdb29876d153dfb2190be90\n",
       "72 5bb7dd8337fe8de117908ba5015f23534c7c8af765097b50781c4fe0c90689b3\n",
       "73 c3879e55bc10aa3215604d36d9e3e15e3cb417d36685be6e68282f7cf02f444c\n",
       "74 6ece7ee3748c3c7c89d7d807c79bd0ba39440d568ecd493ce7e4cd3f862b3320\n",
       "75 6aaa3cf7c3da10e2debda91bfe7ce60f547d9ffdb23fb87c1fe27a753943a376\n",
       "76 859ecf95bc768ce787fc55e06ef502dbf42d28d5e63015d5f2be935cb7c8dc4d\n",
       "77 9b8727916ccc68985b2f0216730f625751d2b154e7139b9c3db594323c657dc0\n",
       "78 da1dcb855e0ca81d9eb185c75190910c64490c57f3424e5d98bb507f4a7e1268\n",
       "79 518dd5b0234d038d3bbc0b0b4f2d58c744958ad420c210fc198f94d7b1f2d10c\n",
       "80 a7c2f5b291a6dbbc0d23d2ab8f38f89341b2bdc158a9f80f4fe7e7cb304eab5a\n",
       "81 e9c22b66c8b591d6a29a8485bcbb30d049522025da52259e96bdceb95cd968d3\n",
       "82 b407814c301b0789e5f07e40d93c75d0c34a6a77ced17f313fec0af334335b78\n",
       "83 b9ebf90d4282764eb3105bc9d816c775049737e94a6a656e12d0354f17ddfc58\n",
       "84 51836890ed48b18c50720008e3da88f33f46bdbb20731bacc5718aa245b69173\n",
       "85 ba7eeb515eeeaa88459f710efcd55da255a5a9e4d9eed8f7d98c1412ed88248c\n",
       "86 71d7af151292a7aa759678779e4d092c04e8281b425948c4660b598bef881294\n",
       "87 24cac4d54d48ea18639b803fdccd286deb1a44fc8e19e570df6c122132835c47\n",
       "88 5439ffb61c590853bd6cd2d28fc02bc9baa9a0e4e710e4a1d21b45a17c033859\n",
       "89 d437a3bbf0d93768d389815ab4b4fdd26e6cb550042ad1cfffe2c890d214fc3c\n",
       "90 8fed6f860258a06edf610103a97d7686bc129998402e449334694ef84b92e35e\n",
       "91 6bd6295f802d4f05a23d1648b8aaa0c9c12d9c758d16c1a5677d3697d42c45f5\n",
       "92 1028706f9b36ae9c54508d729c36cc9c70b64f4fea0229e668144d34cd2d65a3\n",
       "   file                                            \n",
       "1  dge/Adipose-Subcutaneous_DGE.csv                \n",
       "2  dge/Adipose-Visceral(Omentum)_DGE.csv           \n",
       "3  dge/AdrenalGland_DGE.csv                        \n",
       "4  dge/Artery-Aorta_DGE.csv                        \n",
       "5  dge/Artery-Coronary_DGE.csv                     \n",
       "6  dge/Artery-Tibial_DGE.csv                       \n",
       "7  dge/Bladder_DGE.csv                             \n",
       "8  dge/Brain-Amygdala_DGE.csv                      \n",
       "9  dge/Brain-Anteriorcingulatecortex(BA24)_DGE.csv \n",
       "10 dge/Brain-Caudate(basalganglia)_DGE.csv         \n",
       "11 dge/Brain-CerebellarHemisphere_DGE.csv          \n",
       "12 dge/Brain-Cerebellum_DGE.csv                    \n",
       "13 dge/Brain-Cortex_DGE.csv                        \n",
       "14 dge/Brain-FrontalCortex(BA9)_DGE.csv            \n",
       "15 dge/Brain-Hippocampus_DGE.csv                   \n",
       "16 dge/Brain-Hypothalamus_DGE.csv                  \n",
       "17 dge/Brain-Nucleusaccumbens(basalganglia)_DGE.csv\n",
       "18 dge/Brain-Putamen(basalganglia)_DGE.csv         \n",
       "19 dge/Brain-Spinalcord(cervicalc-1)_DGE.csv       \n",
       "20 dge/Brain-Substantianigra_DGE.csv               \n",
       "21 dge/Breast-MammaryTissue_DGE.csv                \n",
       "22 dge/Cells-Culturedfibroblasts_DGE.csv           \n",
       "23 dge/Cells-EBV-transformedlymphocytes_DGE.csv    \n",
       "24 dge/Colon-Sigmoid_DGE.csv                       \n",
       "25 dge/Colon-Transverse_DGE.csv                    \n",
       "26 dge/Esophagus-GastroesophagealJunction_DGE.csv  \n",
       "27 dge/Esophagus-Mucosa_DGE.csv                    \n",
       "28 dge/Esophagus-Muscularis_DGE.csv                \n",
       "29 dge/Heart-AtrialAppendage_DGE.csv               \n",
       "30 dge/Heart-LeftVentricle_DGE.csv                 \n",
       "⋮  ⋮                                               \n",
       "63 signif_brain_nucleusaccumbens_basalganglia.csv  \n",
       "64 signif_brain_putamen_basalganglia.csv           \n",
       "65 signif_brain_spinalcord_cervicalc_1.csv         \n",
       "66 signif_brain_substantianigra.csv                \n",
       "67 signif_breast_mammary_tissue.csv                \n",
       "68 signif_cells_culturedfibroblasts.csv            \n",
       "69 signif_cells_ebv_transformedlymphocytes.csv     \n",
       "70 signif_colon_sigmoid.csv                        \n",
       "71 signif_colon_transverse.csv                     \n",
       "72 signif_esophagus_gastroesophageal_junction.csv  \n",
       "73 signif_esophagus_mucosa.csv                     \n",
       "74 signif_esophagus_muscularis.csv                 \n",
       "75 signif_heart_atrial_appendage.csv               \n",
       "76 signif_heart_left_ventricle.csv                 \n",
       "77 signif_kidney_cortex.csv                        \n",
       "78 signif_kidney_medulla.csv                       \n",
       "79 signif_liver.csv                                \n",
       "80 signif_lung.csv                                 \n",
       "81 signif_minor_salivary_gland.csv                 \n",
       "82 signif_muscle_skeletal.csv                      \n",
       "83 signif_nerve_tibial.csv                         \n",
       "84 signif_pancreas.csv                             \n",
       "85 signif_pituitary.csv                            \n",
       "86 signif_skin_not_sun_exposed_suprapubic.csv      \n",
       "87 signif_skin_sun_exposed_lowerleg.csv            \n",
       "88 signif_small_intestine_terminal_ileum.csv       \n",
       "89 signif_spleen.csv                               \n",
       "90 signif_stomach.csv                              \n",
       "91 signif_thyroid.csv                              \n",
       "92 signif_whole_blood.csv                          "
      ]
     },
     "metadata": {},
     "output_type": "display_data"
    }
   ],
   "source": [
    "notebook_id   = \"summary_per_tissue_diff_expressed\"\n",
    "\n",
    "message(\"Generating sha256 checksums of the artefacts in the `..data/` directory .. \")\n",
    "system(paste0(\"cd ../data/ && sha256sum **/*csv > ../metadata/\", notebook_id, \"_sha256sums.txt\"), intern = TRUE)\n",
    "system(paste0(\"cd ../data/ && sha256sum *csv >> ../metadata/\", notebook_id, \"_sha256sums.txt\"), intern = TRUE)\n",
    "\n",
    "message(\"Done!\\n\")\n",
    "\n",
    "data.table::fread(paste0(\"../metadata/\", notebook_id, \"_sha256sums.txt\"), header = FALSE, col.names = c(\"sha256sum\", \"file\"))"
   ]
  },
  {
   "cell_type": "markdown",
   "metadata": {},
   "source": [
    "### 2. Libraries metadata"
   ]
  },
  {
   "cell_type": "code",
   "execution_count": 93,
   "metadata": {},
   "outputs": [
    {
     "name": "stderr",
     "output_type": "stream",
     "text": [
      "Saving `devtools::session_info()` objects in ../metadata/devtools_session_info.rds  ..\n",
      "\n",
      "Done!\n",
      "\n",
      "\n",
      "Saving `utils::sessionInfo()` objects in ../metadata/utils_session_info.rds  ..\n",
      "\n",
      "Done!\n",
      "\n",
      "\n"
     ]
    },
    {
     "data": {
      "text/plain": [
       " setting  value                       \n",
       " version  R version 3.6.3 (2020-02-29)\n",
       " os       Ubuntu 18.04.4 LTS          \n",
       " system   x86_64, linux-gnu           \n",
       " ui       X11                         \n",
       " language en_US.UTF-8                 \n",
       " collate  en_US.UTF-8                 \n",
       " ctype    en_US.UTF-8                 \n",
       " tz       Etc/UTC                     \n",
       " date     2020-05-10                  "
      ]
     },
     "metadata": {},
     "output_type": "display_data"
    },
    {
     "data": {
      "text/html": [
       "<table>\n",
       "<caption>A packages_info: 6 × 11</caption>\n",
       "<thead>\n",
       "\t<tr><th></th><th scope=col>package</th><th scope=col>ondiskversion</th><th scope=col>loadedversion</th><th scope=col>path</th><th scope=col>loadedpath</th><th scope=col>attached</th><th scope=col>is_base</th><th scope=col>date</th><th scope=col>source</th><th scope=col>md5ok</th><th scope=col>library</th></tr>\n",
       "\t<tr><th></th><th scope=col>&lt;chr&gt;</th><th scope=col>&lt;chr&gt;</th><th scope=col>&lt;chr&gt;</th><th scope=col>&lt;chr&gt;</th><th scope=col>&lt;chr&gt;</th><th scope=col>&lt;lgl&gt;</th><th scope=col>&lt;lgl&gt;</th><th scope=col>&lt;chr&gt;</th><th scope=col>&lt;chr&gt;</th><th scope=col>&lt;lgl&gt;</th><th scope=col>&lt;fct&gt;</th></tr>\n",
       "</thead>\n",
       "<tbody>\n",
       "\t<tr><th scope=row>dplyr</th><td>dplyr    </td><td>0.8.5    </td><td>0.8.5    </td><td>/opt/conda/lib/R/library/dplyr    </td><td>/opt/conda/lib/R/library/dplyr    </td><td>TRUE</td><td>FALSE</td><td>2020-03-07</td><td>CRAN (R 3.6.3)                     </td><td>NA</td><td>/opt/conda/lib/R/library</td></tr>\n",
       "\t<tr><th scope=row>ggplot2</th><td>ggplot2  </td><td>3.3.0    </td><td>3.3.0    </td><td>/opt/conda/lib/R/library/ggplot2  </td><td>/opt/conda/lib/R/library/ggplot2  </td><td>TRUE</td><td>FALSE</td><td>2020-03-05</td><td>CRAN (R 3.6.3)                     </td><td>NA</td><td>/opt/conda/lib/R/library</td></tr>\n",
       "\t<tr><th scope=row>piggyback</th><td>piggyback</td><td>0.0.10.99</td><td>0.0.10.99</td><td>/opt/conda/lib/R/library/piggyback</td><td>/opt/conda/lib/R/library/piggyback</td><td>TRUE</td><td>FALSE</td><td>2020-05-10</td><td>Github (ropensci/piggyback@87f71e8)</td><td>NA</td><td>/opt/conda/lib/R/library</td></tr>\n",
       "\t<tr><th scope=row>reshape</th><td>reshape  </td><td>0.8.8    </td><td>0.8.8    </td><td>/opt/conda/lib/R/library/reshape  </td><td>/opt/conda/lib/R/library/reshape  </td><td>TRUE</td><td>FALSE</td><td>2018-10-23</td><td>CRAN (R 3.6.3)                     </td><td>NA</td><td>/opt/conda/lib/R/library</td></tr>\n",
       "\t<tr><th scope=row>snakecase</th><td>snakecase</td><td>0.11.0   </td><td>0.11.0   </td><td>/opt/conda/lib/R/library/snakecase</td><td>/opt/conda/lib/R/library/snakecase</td><td>TRUE</td><td>FALSE</td><td>2019-05-25</td><td>CRAN (R 3.6.3)                     </td><td>NA</td><td>/opt/conda/lib/R/library</td></tr>\n",
       "\t<tr><th scope=row>tidyr</th><td>tidyr    </td><td>1.0.3    </td><td>1.0.3    </td><td>/opt/conda/lib/R/library/tidyr    </td><td>/opt/conda/lib/R/library/tidyr    </td><td>TRUE</td><td>FALSE</td><td>2020-05-07</td><td>CRAN (R 3.6.3)                     </td><td>NA</td><td>/opt/conda/lib/R/library</td></tr>\n",
       "</tbody>\n",
       "</table>\n"
      ],
      "text/latex": [
       "A packages\\_info: 6 × 11\n",
       "\\begin{tabular}{r|lllllllllll}\n",
       "  & package & ondiskversion & loadedversion & path & loadedpath & attached & is\\_base & date & source & md5ok & library\\\\\n",
       "  & <chr> & <chr> & <chr> & <chr> & <chr> & <lgl> & <lgl> & <chr> & <chr> & <lgl> & <fct>\\\\\n",
       "\\hline\n",
       "\tdplyr & dplyr     & 0.8.5     & 0.8.5     & /opt/conda/lib/R/library/dplyr     & /opt/conda/lib/R/library/dplyr     & TRUE & FALSE & 2020-03-07 & CRAN (R 3.6.3)                      & NA & /opt/conda/lib/R/library\\\\\n",
       "\tggplot2 & ggplot2   & 3.3.0     & 3.3.0     & /opt/conda/lib/R/library/ggplot2   & /opt/conda/lib/R/library/ggplot2   & TRUE & FALSE & 2020-03-05 & CRAN (R 3.6.3)                      & NA & /opt/conda/lib/R/library\\\\\n",
       "\tpiggyback & piggyback & 0.0.10.99 & 0.0.10.99 & /opt/conda/lib/R/library/piggyback & /opt/conda/lib/R/library/piggyback & TRUE & FALSE & 2020-05-10 & Github (ropensci/piggyback@87f71e8) & NA & /opt/conda/lib/R/library\\\\\n",
       "\treshape & reshape   & 0.8.8     & 0.8.8     & /opt/conda/lib/R/library/reshape   & /opt/conda/lib/R/library/reshape   & TRUE & FALSE & 2018-10-23 & CRAN (R 3.6.3)                      & NA & /opt/conda/lib/R/library\\\\\n",
       "\tsnakecase & snakecase & 0.11.0    & 0.11.0    & /opt/conda/lib/R/library/snakecase & /opt/conda/lib/R/library/snakecase & TRUE & FALSE & 2019-05-25 & CRAN (R 3.6.3)                      & NA & /opt/conda/lib/R/library\\\\\n",
       "\ttidyr & tidyr     & 1.0.3     & 1.0.3     & /opt/conda/lib/R/library/tidyr     & /opt/conda/lib/R/library/tidyr     & TRUE & FALSE & 2020-05-07 & CRAN (R 3.6.3)                      & NA & /opt/conda/lib/R/library\\\\\n",
       "\\end{tabular}\n"
      ],
      "text/markdown": [
       "\n",
       "A packages_info: 6 × 11\n",
       "\n",
       "| <!--/--> | package &lt;chr&gt; | ondiskversion &lt;chr&gt; | loadedversion &lt;chr&gt; | path &lt;chr&gt; | loadedpath &lt;chr&gt; | attached &lt;lgl&gt; | is_base &lt;lgl&gt; | date &lt;chr&gt; | source &lt;chr&gt; | md5ok &lt;lgl&gt; | library &lt;fct&gt; |\n",
       "|---|---|---|---|---|---|---|---|---|---|---|---|\n",
       "| dplyr | dplyr     | 0.8.5     | 0.8.5     | /opt/conda/lib/R/library/dplyr     | /opt/conda/lib/R/library/dplyr     | TRUE | FALSE | 2020-03-07 | CRAN (R 3.6.3)                      | NA | /opt/conda/lib/R/library |\n",
       "| ggplot2 | ggplot2   | 3.3.0     | 3.3.0     | /opt/conda/lib/R/library/ggplot2   | /opt/conda/lib/R/library/ggplot2   | TRUE | FALSE | 2020-03-05 | CRAN (R 3.6.3)                      | NA | /opt/conda/lib/R/library |\n",
       "| piggyback | piggyback | 0.0.10.99 | 0.0.10.99 | /opt/conda/lib/R/library/piggyback | /opt/conda/lib/R/library/piggyback | TRUE | FALSE | 2020-05-10 | Github (ropensci/piggyback@87f71e8) | NA | /opt/conda/lib/R/library |\n",
       "| reshape | reshape   | 0.8.8     | 0.8.8     | /opt/conda/lib/R/library/reshape   | /opt/conda/lib/R/library/reshape   | TRUE | FALSE | 2018-10-23 | CRAN (R 3.6.3)                      | NA | /opt/conda/lib/R/library |\n",
       "| snakecase | snakecase | 0.11.0    | 0.11.0    | /opt/conda/lib/R/library/snakecase | /opt/conda/lib/R/library/snakecase | TRUE | FALSE | 2019-05-25 | CRAN (R 3.6.3)                      | NA | /opt/conda/lib/R/library |\n",
       "| tidyr | tidyr     | 1.0.3     | 1.0.3     | /opt/conda/lib/R/library/tidyr     | /opt/conda/lib/R/library/tidyr     | TRUE | FALSE | 2020-05-07 | CRAN (R 3.6.3)                      | NA | /opt/conda/lib/R/library |\n",
       "\n"
      ],
      "text/plain": [
       "          package   ondiskversion loadedversion\n",
       "dplyr     dplyr     0.8.5         0.8.5        \n",
       "ggplot2   ggplot2   3.3.0         3.3.0        \n",
       "piggyback piggyback 0.0.10.99     0.0.10.99    \n",
       "reshape   reshape   0.8.8         0.8.8        \n",
       "snakecase snakecase 0.11.0        0.11.0       \n",
       "tidyr     tidyr     1.0.3         1.0.3        \n",
       "          path                               loadedpath                        \n",
       "dplyr     /opt/conda/lib/R/library/dplyr     /opt/conda/lib/R/library/dplyr    \n",
       "ggplot2   /opt/conda/lib/R/library/ggplot2   /opt/conda/lib/R/library/ggplot2  \n",
       "piggyback /opt/conda/lib/R/library/piggyback /opt/conda/lib/R/library/piggyback\n",
       "reshape   /opt/conda/lib/R/library/reshape   /opt/conda/lib/R/library/reshape  \n",
       "snakecase /opt/conda/lib/R/library/snakecase /opt/conda/lib/R/library/snakecase\n",
       "tidyr     /opt/conda/lib/R/library/tidyr     /opt/conda/lib/R/library/tidyr    \n",
       "          attached is_base date       source                              md5ok\n",
       "dplyr     TRUE     FALSE   2020-03-07 CRAN (R 3.6.3)                      NA   \n",
       "ggplot2   TRUE     FALSE   2020-03-05 CRAN (R 3.6.3)                      NA   \n",
       "piggyback TRUE     FALSE   2020-05-10 Github (ropensci/piggyback@87f71e8) NA   \n",
       "reshape   TRUE     FALSE   2018-10-23 CRAN (R 3.6.3)                      NA   \n",
       "snakecase TRUE     FALSE   2019-05-25 CRAN (R 3.6.3)                      NA   \n",
       "tidyr     TRUE     FALSE   2020-05-07 CRAN (R 3.6.3)                      NA   \n",
       "          library                 \n",
       "dplyr     /opt/conda/lib/R/library\n",
       "ggplot2   /opt/conda/lib/R/library\n",
       "piggyback /opt/conda/lib/R/library\n",
       "reshape   /opt/conda/lib/R/library\n",
       "snakecase /opt/conda/lib/R/library\n",
       "tidyr     /opt/conda/lib/R/library"
      ]
     },
     "metadata": {},
     "output_type": "display_data"
    }
   ],
   "source": [
    "dev_session_info   <- devtools::session_info()\n",
    "utils_session_info <- utils::sessionInfo()\n",
    "\n",
    "message(\"Saving `devtools::session_info()` objects in ../metadata/devtools_session_info.rds  ..\")\n",
    "saveRDS(dev_session_info, file = paste0(\"../metadata/\", notebook_id, \"_devtools_session_info.rds\"))\n",
    "message(\"Done!\\n\")\n",
    "\n",
    "message(\"Saving `utils::sessionInfo()` objects in ../metadata/utils_session_info.rds  ..\")\n",
    "saveRDS(utils_session_info, file = paste0(\"../metadata/\", notebook_id ,\"_utils_info.rds\"))\n",
    "message(\"Done!\\n\")\n",
    "\n",
    "dev_session_info$platform\n",
    "dev_session_info$packages[dev_session_info$packages$attached==TRUE, ]"
   ]
  }
 ],
 "metadata": {
  "kernelspec": {
   "display_name": "R",
   "language": "R",
   "name": "ir"
  },
  "language_info": {
   "codemirror_mode": "r",
   "file_extension": ".r",
   "mimetype": "text/x-r-source",
   "name": "R",
   "pygments_lexer": "r",
   "version": "3.6.3"
  }
 },
 "nbformat": 4,
 "nbformat_minor": 4
}
