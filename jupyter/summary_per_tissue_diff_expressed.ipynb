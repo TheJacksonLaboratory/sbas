{
 "cells": [
  {
   "cell_type": "markdown",
   "metadata": {},
   "source": [
    "# Supplementary: Counts of differentially expressed genes per examined tissue\n",
    "\n",
    "This notebook aggregates the results from the differential gene expression (**see** [figure1.ipynb](figure1.ipynb)), and more specifically the `limma::topTable()` output dataframes across all tissues in the GTEX cohort and generates summary statistics for the number of genes found to be statistically up or downregulated between male and female subjects."
   ]
  },
  {
   "cell_type": "markdown",
   "metadata": {},
   "source": [
    " ---\n",
    " \n",
    " **Running this notebook**:\n",
    " \n",
    "A few steps are needed before you can run this document on your own. The GitHub repository (https://github.com/TheJacksonLaboratory/sbas) of the project contains detailed instructions for setting up the environment in the **`dependencies/README.md`** document. Before starting with the analysis, make sure you have first completed the dependencies set up by following the instructions described there. If you have not done this already, you will need to close and restart this notebook before running it.\n",
    "\n",
    "All paths defined in this Notebook are relative to the parent directory (repository). \n",
    "\n",
    " ---\n"
   ]
  },
  {
   "cell_type": "markdown",
   "metadata": {},
   "source": [
    "# Loading dependencies"
   ]
  },
  {
   "cell_type": "code",
   "execution_count": 1,
   "metadata": {},
   "outputs": [
    {
     "name": "stderr",
     "output_type": "stream",
     "text": [
      "Warning message:\n",
      "“package ‘dplyr’ was built under R version 3.6.2”\n",
      "Attaching package: ‘dplyr’\n",
      "\n",
      "The following objects are masked from ‘package:stats’:\n",
      "\n",
      "    filter, lag\n",
      "\n",
      "The following objects are masked from ‘package:base’:\n",
      "\n",
      "    intersect, setdiff, setequal, union\n",
      "\n",
      "Warning message:\n",
      "“package ‘tidyr’ was built under R version 3.6.3”\n",
      "Attaching package: ‘reshape’\n",
      "\n",
      "The following objects are masked from ‘package:tidyr’:\n",
      "\n",
      "    expand, smiths\n",
      "\n",
      "The following object is masked from ‘package:dplyr’:\n",
      "\n",
      "    rename\n",
      "\n",
      "Warning message:\n",
      "“package ‘snakecase’ was built under R version 3.6.3”"
     ]
    }
   ],
   "source": [
    "library(dplyr)\n",
    "library(tidyr)\n",
    "library(reshape)\n",
    "library(ggplot2)\n",
    "# Install this version: > devtools::install_github(\"ropensci/piggyback@87f71e8\", upgrade=\"never\")\n",
    "library(piggyback)\n",
    "library(snakecase)"
   ]
  },
  {
   "cell_type": "markdown",
   "metadata": {},
   "source": [
    "# Retrieving the results from the Differential Gene Expression using [`ropensci/piggyback`](https://github.com/ropensci/piggyback)\n",
    "\n",
    "This notebook requires as input data the limma `topTable()` objects from the Differential Gene Expression analysis (see [figure1.ipynb](https://github.com/TheJacksonLaboratory/sbas/blob/master/jupyter/figure1.ipynb)). We have archived the results from the notebook that generates the results using the method described by the author of the R package [`ropensci/piggyback`](https://github.com/ropensci/piggyback). We use the release named `dge` (Differential Gene Expression) in the repo and can be accessed at [TheJacksonLaboratory/sbas/releases/tag/dge](https://github.com/TheJacksonLaboratory/sbas/releases/tag/dge). \n",
    "\n",
    "For using the [`ropensci/piggyback`](https://github.com/ropensci/piggyback) with private repositories, it is required that a `GITHUB_TOKEN` is stored as a variable in the R environment in which one is working. To generate such a token with sensible default permissions, the R package [usethis]() has a convenient function \n",
    "\n",
    "```R\n",
    "# intall.packages(\"usethis\")\n",
    "usethis::browse_github_token()\n",
    "```\n",
    "\n",
    "This will redirect you to GitHub to create your own GitHub token. Once you have the token, you can use it to set up `.Renviron` by typing the following:\n",
    "\n",
    "```R\n",
    "Sys.setenv(GITHUB_TOKEN = \"youractualtokenindoublequotes\")\n",
    "```\n",
    "\n",
    "Then you sre ready to use the function [`piggyback::pb_download()`](https://docs.ropensci.org/piggyback/reference/pb_download.html) to retrieve the `dge.tar.gz` that contains the topTable objects written as .csv file for all 46 examined GTEX tissue cohorts.\n",
    "\n",
    "---\n",
    "\n",
    "***NOTE***\n",
    "\n",
    "Avoid using the `.token` argument to share your token directly in the function as you might forget and push your code, along with your private GITHUB_TOKEN to GitHub. If that happens by mistake, it is advised you invalidate the token that has been exposed by accessing [this link](https://github.com/settings/tokens) and clicking `Delete`.\n",
    "\n",
    "---"
   ]
  },
  {
   "cell_type": "code",
   "execution_count": 2,
   "metadata": {},
   "outputs": [],
   "source": [
    "#?piggyback::pb_download()"
   ]
  },
  {
   "cell_type": "code",
   "execution_count": 3,
   "metadata": {},
   "outputs": [
    {
     "name": "stderr",
     "output_type": "stream",
     "text": [
      "Fetching dge.tar.gz from GitHub ..\n",
      "downloading dge.tar.gz ...\n"
     ]
    },
    {
     "name": "stdout",
     "output_type": "stream",
     "text": [
      "  |======================================================================| 100%\n"
     ]
    },
    {
     "name": "stderr",
     "output_type": "stream",
     "text": [
      "Done!\n",
      "\n",
      "Decompressing archive into folder ../data/dge ..\n",
      "Done!\n",
      "\n"
     ]
    }
   ],
   "source": [
    "if (!file.exists(\"../data/dge.tar.gz \")) {\n",
    "    \n",
    "    message(\"Fetching dge.tar.gz from GitHub ..\")\n",
    "    # Download archive from GitHub release with tag \"dge\"\n",
    "    piggyback::pb_download(file = \"dge.tar.gz\",\n",
    "                           dest = \"../data\",\n",
    "                           repo = \"TheJacksonLaboratory/sbas\",\n",
    "                           tag  = \"dge\",\n",
    "                           show_progress = TRUE)\n",
    "    message(\"Done!\\n\")\n",
    "    \n",
    "    message(\"Decompressing archive into folder ../data/dge ..\")\n",
    "    # Decompress in a folder tmp named dge\n",
    "    system(\"mkdir -p ../data/dge && tar xvzf ../data/dge.tar.gz -C ../data/dge/\", intern = TRUE)\n",
    "    message(\"Done!\\n\")\n",
    "}\n",
    "if (file.exists(\"../data/dge.tar.gz \")) {\n",
    "    message(\"File dge.tar.gz already available in ../data/ !\\n\")\n",
    "    }\n"
   ]
  },
  {
   "cell_type": "markdown",
   "metadata": {},
   "source": [
    "## To get the last column fields of the GTF file to annotate the gene ids\n",
    "- The following code cells download the Ensembl or Gencode GTF file (for now we are using Ensembl). Alternatively, you can get the files from the command line as follows.\n",
    "\n",
    "```bash\n",
    "wget ftp://ftp.ensembl.org/pub/release-100/gtf/homo_sapiens/Homo_sapiens.GRCh38.100.chr_patch_hapl_scaff.gtf.gz -P ../data\n",
    "wget ftp://ftp.ebi.ac.uk/pub/databases/gencode/Gencode_human/release_30/gencode.v30.annotation.gtf.gz -P ../data\n",
    "```"
   ]
  },
  {
   "cell_type": "code",
   "execution_count": 4,
   "metadata": {},
   "outputs": [
    {
     "name": "stderr",
     "output_type": "stream",
     "text": [
      "Downloading Homo_sapiens.GRCh38.100.chr_patch_hapl_scaff.gtf.gz from Ensembl into the ../data/ directory ..\n",
      "\n",
      "Done!\n",
      "\n"
     ]
    }
   ],
   "source": [
    "# Download from archive if not available in ../data\n",
    "if (!(\"Homo_sapiens.GRCh38.100.chr_patch_hapl_scaff.gtf.gz\" %in% list.files(\"../data/\"))) {\n",
    "    message(\"Downloading Homo_sapiens.GRCh38.100.chr_patch_hapl_scaff.gtf.gz from Ensembl into the ../data/ directory ..\\n\")\n",
    "    gtf_url = 'ftp://ftp.ensembl.org/pub/release-100/gtf/homo_sapiens/Homo_sapiens.GRCh38.100.chr_patch_hapl_scaff.gtf.gz'\n",
    "    destination = '../data/Homo_sapiens.GRCh38.100.chr_patch_hapl_scaff.gtf.gz'\n",
    "    download.file(gtf_url, destination, \"wget\", quiet = FALSE, mode = \"w\",\n",
    "              cacheOK = TRUE,\n",
    "              extra = getOption(\"download.file.extra\"))\n",
    "    message(\"Done!\\n\")\n",
    "} else {\n",
    "    message(\"GTF file previously downloaded\")\n",
    "}"
   ]
  },
  {
   "cell_type": "code",
   "execution_count": 10,
   "metadata": {},
   "outputs": [
    {
     "name": "stderr",
     "output_type": "stream",
     "text": [
      "Genecode file previously downloaded\n"
     ]
    }
   ],
   "source": [
    "# ftp://ftp.ebi.ac.uk/pub/databases/gencode/Gencode_human/release_30/gencode.v30.chr_patch_hapl_scaff.annotation.gtf.gz\n",
    "if (!(\"gencode.v30.chr_patch_hapl_scaff.annotation.gtf.gz\" %in% list.files(\"../data/\"))) {\n",
    "    message(\"Downloading gencode.v30.chr_patch_hapl_scaff.annotation.gtf.gz from Gencode into the ../data/ directory ..\\n\")\n",
    "    gencode_url = 'ftp://ftp.ebi.ac.uk/pub/databases/gencode/Gencode_human/release_30/gencode.v30.chr_patch_hapl_scaff.annotation.gtf.gz'\n",
    "    destination = '../data/gencode.v30.chr_patch_hapl_scaff.annotation.gtf.gz'\n",
    "    download.file(gencode_url, destination, \"wget\", quiet = FALSE, mode = \"w\",\n",
    "            cacheOK = TRUE,\n",
    "            extra = getOption(\"download.file.extra\"))\n",
    "    message(\"Done!\\n\")\n",
    "} else {\n",
    "    message(\"Genecode file previously downloaded\")\n",
    "}"
   ]
  },
  {
   "cell_type": "markdown",
   "metadata": {},
   "source": [
    "## Mapping the Ensembl geneids to gene symbols\n",
    "\n",
    "The `limma::topTable()` dataframes encode the feature information (genes) as rownames of the dataframe. The values are Ensembl Gene IDs. To map the Gene ids to Gene symbold we will use a the fields in the last column of the relevant GTF file. \n",
    "\n",
    "Note: If you are using GENCODE to retrieve the GTF file, use the relevant field name for the gene ID:\n",
    "\n",
    "| Source | Gene Identifier Name |\n",
    "|---:|:---|\n",
    "| GENCODE|`Geneid`|\n",
    "| Ensembl|`gene_id`|\n",
    "\n",
    "\n",
    "\n",
    "\n",
    "- To parse the GTF file and retrieve the fields associated with the Gene IDs, Gene Symbols etc you could use the following bash snippet, depending on the source of your GTF (Ensembl, GENCODE) as these two files slightly differ.\n",
    "\n",
    "```bash\n",
    "# found here: https://www.biostars.org/p/140471/\n",
    "cd sbas/data\n",
    "\n",
    "zcat gencode.v30.annotation.gtf.gz | awk 'BEGIN{FS=\"\\t\"}{split($9,a,\";\"); if($3~\"gene\") print a[1]\"\\t\"a[3]\"\\t\"$1\":\"$4\"-\"$5\"\\t\"a[2]\"\\t\"$7}' |sed 's/gene_id \"//' | sed 's/gene_id \"//' | sed 's/gene_type \"//'| sed 's/gene_name \"//' | sed 's/\"//g' | awk 'BEGIN{FS=\"\\t\"}{split($3,a,\"[:-]\"); print $1\"\\t\"$2\"\\t\"a[1]\"\\t\"a[2]\"\\t\"a[3]\"\\t\"$4\"\\t\"$5\"\\t\"a[3]-a[2];}' | sed \"1i\\Geneid\\tGeneSymbol\\tChromosome\\tStart\\tEnd\\tClass\\tStrand\\tLength\" > gencode.v30.annotation.gtf.gz.txt\n",
    "\n",
    "zcat Homo_sapiens.GRCh38.100.chr_patch_hapl_scaff.gtf.gz | awk 'BEGIN{FS=\"\\t\"}{split($9,a,\";\"); if($3~\"gene\") print a[1]\"\\t\"a[3]\"\\t\"$1\":\"$4\"-\"$5\"\\t\"a[5]\"\\t\"$7}' | sed 's/gene_id \"//' | sed 's/gene_id \"//' | sed 's/gene_biotype \"//'| sed 's/gene_name \"//' | sed 's/gene_biotype \"//' | sed 's/\"//g' | sed 's/ //g' | sed '1igene_id\\tGeneSymbol\\tChromosome\\tClass\\tStrand' > Homo_sapiens.GRCh38.100.chr_patch_hapl_scaff.gtf.gz.txt \n",
    "```"
   ]
  },
  {
   "cell_type": "code",
   "execution_count": 11,
   "metadata": {},
   "outputs": [],
   "source": [
    "# The following awesome AWK command retrieves the fields we want from the Ensembl GTF file\n",
    "zcat_command = 'zcat Homo_sapiens.GRCh38.100.chr_patch_hapl_scaff.gtf.gz | awk \\'BEGIN{FS=\"\\t\"}{split($9,a,\";\"); if($3~\"gene\") print a[1]\"\\t\"a[3]\"\\t\"$1\":\"$4\"-\"$5\"\\t\"a[5]\"\\t\"$7}\\' | sed \\'s/gene_id \"//\\' | sed \\'s/gene_id \"//\\' | sed \\'s/gene_biotype \"//\\'| sed \\'s/gene_name \"//\\' | sed \\'s/gene_biotype \"//\\' | sed \\'s/\"//g\\' | sed \\'s/ //g\\' | sed \\'1igene_id\\tGeneSymbol\\tChromosome\\tClass\\tStrand\\' > Homo_sapiens.GRCh38.100.chr_patch_hapl_scaff.gtf.gz.txt '\n",
    "command = paste('cd ../data/; ', zcat_command, sep=' ')\n",
    "system(command)"
   ]
  },
  {
   "cell_type": "code",
   "execution_count": 12,
   "metadata": {},
   "outputs": [],
   "source": [
    "# Now do the same for gencode\n",
    "zcat_command = 'zcat gencode.v30.annotation.gtf.gz | awk \\'BEGIN{FS=\"\\t\"}{split($9,a,\";\"); if($3~\"gene\") print a[1]\"\\t\"a[3]\"\\t\"$1\":\"$4\"-\"$5\"\\t\"a[2]\"\\t\"$7}\\' |sed \\'s/gene_id \"//\\' | sed \\'s/gene_id \"//\\' | sed \\'s/gene_type \"//\\'| sed \\'s/gene_name \"//\\' | sed \\'s/\"//g\\' | awk \\'BEGIN{FS=\"\\t\"}{split($3,a,\"[:-]\"); print $1\"\\t\"$2\"\\t\"a[1]\"\\t\"a[2]\"\\t\"a[3]\"\\t\"$4\"\\t\"$5\"\\t\"a[3]-a[2];}\\' | sed \"1i\\tGeneid\\tGeneSymbol\\tChromosome\\tStart\\tEnd\\tClass\\tStrand\\tLength\" > gencode.v30.annotation.gtf.gz.txt'\n",
    "command = paste('cd ../data/; ', zcat_command, sep=' ')\n",
    "system(command)"
   ]
  },
  {
   "cell_type": "markdown",
   "metadata": {},
   "source": [
    "## Preview the GTF tables with the gene attributes\n",
    "\n",
    "To make sure the snippets above have worked as expected, take a look in the tables with `head()`:"
   ]
  },
  {
   "cell_type": "code",
   "execution_count": 14,
   "metadata": {},
   "outputs": [
    {
     "data": {
      "text/html": [
       "<table>\n",
       "<caption>A data.frame: 2 × 5</caption>\n",
       "<thead>\n",
       "\t<tr><th></th><th scope=col>gene_id</th><th scope=col>GeneSymbol</th><th scope=col>Chromosome</th><th scope=col>Class</th><th scope=col>Strand</th></tr>\n",
       "\t<tr><th></th><th scope=col>&lt;fct&gt;</th><th scope=col>&lt;fct&gt;</th><th scope=col>&lt;fct&gt;</th><th scope=col>&lt;fct&gt;</th><th scope=col>&lt;fct&gt;</th></tr>\n",
       "</thead>\n",
       "<tbody>\n",
       "\t<tr><th scope=row>1</th><td>ENSG00000223972</td><td>DDX11L1</td><td>1:11869-14409</td><td>transcribed_unprocessed_pseudogene</td><td>+</td></tr>\n",
       "\t<tr><th scope=row>2</th><td>ENSG00000227232</td><td>WASH7P </td><td>1:14404-29570</td><td>unprocessed_pseudogene            </td><td>-</td></tr>\n",
       "</tbody>\n",
       "</table>\n"
      ],
      "text/latex": [
       "A data.frame: 2 × 5\n",
       "\\begin{tabular}{r|lllll}\n",
       "  & gene\\_id & GeneSymbol & Chromosome & Class & Strand\\\\\n",
       "  & <fct> & <fct> & <fct> & <fct> & <fct>\\\\\n",
       "\\hline\n",
       "\t1 & ENSG00000223972 & DDX11L1 & 1:11869-14409 & transcribed\\_unprocessed\\_pseudogene & +\\\\\n",
       "\t2 & ENSG00000227232 & WASH7P  & 1:14404-29570 & unprocessed\\_pseudogene             & -\\\\\n",
       "\\end{tabular}\n"
      ],
      "text/markdown": [
       "\n",
       "A data.frame: 2 × 5\n",
       "\n",
       "| <!--/--> | gene_id &lt;fct&gt; | GeneSymbol &lt;fct&gt; | Chromosome &lt;fct&gt; | Class &lt;fct&gt; | Strand &lt;fct&gt; |\n",
       "|---|---|---|---|---|---|\n",
       "| 1 | ENSG00000223972 | DDX11L1 | 1:11869-14409 | transcribed_unprocessed_pseudogene | + |\n",
       "| 2 | ENSG00000227232 | WASH7P  | 1:14404-29570 | unprocessed_pseudogene             | - |\n",
       "\n"
      ],
      "text/plain": [
       "  gene_id         GeneSymbol Chromosome    Class                             \n",
       "1 ENSG00000223972 DDX11L1    1:11869-14409 transcribed_unprocessed_pseudogene\n",
       "2 ENSG00000227232 WASH7P     1:14404-29570 unprocessed_pseudogene            \n",
       "  Strand\n",
       "1 +     \n",
       "2 -     "
      ]
     },
     "metadata": {},
     "output_type": "display_data"
    },
    {
     "data": {
      "text/html": [
       "<table>\n",
       "<caption>A data.frame: 2 × 8</caption>\n",
       "<thead>\n",
       "\t<tr><th></th><th scope=col>Geneid</th><th scope=col>GeneSymbol</th><th scope=col>Chromosome</th><th scope=col>Start</th><th scope=col>End</th><th scope=col>Class</th><th scope=col>Strand</th><th scope=col>Length</th></tr>\n",
       "\t<tr><th></th><th scope=col>&lt;fct&gt;</th><th scope=col>&lt;fct&gt;</th><th scope=col>&lt;fct&gt;</th><th scope=col>&lt;int&gt;</th><th scope=col>&lt;int&gt;</th><th scope=col>&lt;fct&gt;</th><th scope=col>&lt;fct&gt;</th><th scope=col>&lt;int&gt;</th></tr>\n",
       "</thead>\n",
       "<tbody>\n",
       "\t<tr><th scope=row>1</th><td>ENSG00000223972.5</td><td>DDX11L1</td><td>chr1</td><td>11869</td><td>14409</td><td>transcribed_unprocessed_pseudogene</td><td>+</td><td> 2540</td></tr>\n",
       "\t<tr><th scope=row>2</th><td>ENSG00000227232.5</td><td>WASH7P </td><td>chr1</td><td>14404</td><td>29570</td><td>unprocessed_pseudogene            </td><td>-</td><td>15166</td></tr>\n",
       "</tbody>\n",
       "</table>\n"
      ],
      "text/latex": [
       "A data.frame: 2 × 8\n",
       "\\begin{tabular}{r|llllllll}\n",
       "  & Geneid & GeneSymbol & Chromosome & Start & End & Class & Strand & Length\\\\\n",
       "  & <fct> & <fct> & <fct> & <int> & <int> & <fct> & <fct> & <int>\\\\\n",
       "\\hline\n",
       "\t1 & ENSG00000223972.5 & DDX11L1 & chr1 & 11869 & 14409 & transcribed\\_unprocessed\\_pseudogene & + &  2540\\\\\n",
       "\t2 & ENSG00000227232.5 & WASH7P  & chr1 & 14404 & 29570 & unprocessed\\_pseudogene             & - & 15166\\\\\n",
       "\\end{tabular}\n"
      ],
      "text/markdown": [
       "\n",
       "A data.frame: 2 × 8\n",
       "\n",
       "| <!--/--> | Geneid &lt;fct&gt; | GeneSymbol &lt;fct&gt; | Chromosome &lt;fct&gt; | Start &lt;int&gt; | End &lt;int&gt; | Class &lt;fct&gt; | Strand &lt;fct&gt; | Length &lt;int&gt; |\n",
       "|---|---|---|---|---|---|---|---|---|\n",
       "| 1 | ENSG00000223972.5 | DDX11L1 | chr1 | 11869 | 14409 | transcribed_unprocessed_pseudogene | + |  2540 |\n",
       "| 2 | ENSG00000227232.5 | WASH7P  | chr1 | 14404 | 29570 | unprocessed_pseudogene             | - | 15166 |\n",
       "\n"
      ],
      "text/plain": [
       "  Geneid            GeneSymbol Chromosome Start End  \n",
       "1 ENSG00000223972.5 DDX11L1    chr1       11869 14409\n",
       "2 ENSG00000227232.5 WASH7P     chr1       14404 29570\n",
       "  Class                              Strand Length\n",
       "1 transcribed_unprocessed_pseudogene +       2540 \n",
       "2 unprocessed_pseudogene             -      15166 "
      ]
     },
     "metadata": {},
     "output_type": "display_data"
    }
   ],
   "source": [
    "ensembl_path <- \"Homo_sapiens.GRCh38.100.chr_patch_hapl_scaff.gtf.gz.txt\"\n",
    "gencode_path <- \"gencode.v30.annotation.gtf.gz.txt\"\n",
    "gtf_ensembl <- read.table(paste0(\"../data/\", ensembl_path), header = TRUE)\n",
    "gtf_gencode <- read.table(paste0(\"../data/\", gencode_path), header = TRUE)\n",
    "\n",
    "head(gtf_ensembl,2)\n",
    "head(gtf_gencode,2)"
   ]
  },
  {
   "cell_type": "markdown",
   "metadata": {},
   "source": [
    "# Create a list of named dataframes with the Differential Gene Expression `limma::topTable()`s\n",
    "\n",
    "We will iterate over the list of named dataframes to collect summary statistics. More specifically, retrieve the count of:\n",
    "- upregulated\n",
    "- downregulated\n",
    "- non significant\n",
    "\n",
    "genes for the contrast males-females per tissue."
   ]
  },
  {
   "cell_type": "code",
   "execution_count": 15,
   "metadata": {},
   "outputs": [],
   "source": [
    "dge_tables_filepaths <- list.files(\"../data/dge\", pattern = \"*DGE.csv\", full.names = TRUE)\n",
    "dge_tables_filenames <- list.files(\"../data/dge\", pattern = \"*DGE.csv\", full.names = FALSE)"
   ]
  },
  {
   "cell_type": "code",
   "execution_count": 16,
   "metadata": {},
   "outputs": [],
   "source": [
    "all_topTables <- lapply(dge_tables_filepaths,read.csv)\n",
    "names(all_topTables) <- gsub(\"_DGE.csv\",\"\", dge_tables_filenames, fixed = TRUE)"
   ]
  },
  {
   "cell_type": "markdown",
   "metadata": {},
   "source": [
    "The list named `all_topTables` is the object that holds all the topTable dataframes from each tissue comparison:"
   ]
  },
  {
   "cell_type": "code",
   "execution_count": 17,
   "metadata": {},
   "outputs": [
    {
     "data": {
      "text/html": [
       "46"
      ],
      "text/latex": [
       "46"
      ],
      "text/markdown": [
       "46"
      ],
      "text/plain": [
       "[1] 46"
      ]
     },
     "metadata": {},
     "output_type": "display_data"
    }
   ],
   "source": [
    "length(all_topTables)"
   ]
  },
  {
   "cell_type": "code",
   "execution_count": 18,
   "metadata": {},
   "outputs": [
    {
     "data": {
      "text/plain": [
       "                                     Length Class      Mode\n",
       "Adipose-Subcutaneous                 6      data.frame list\n",
       "Adipose-Visceral(Omentum)            6      data.frame list\n",
       "AdrenalGland                         6      data.frame list\n",
       "Artery-Aorta                         6      data.frame list\n",
       "Artery-Coronary                      6      data.frame list\n",
       "Artery-Tibial                        6      data.frame list\n",
       "Bladder                              6      data.frame list\n",
       "Brain-Amygdala                       6      data.frame list\n",
       "Brain-Anteriorcingulatecortex(BA24)  6      data.frame list\n",
       "Brain-Caudate(basalganglia)          6      data.frame list\n",
       "Brain-CerebellarHemisphere           6      data.frame list\n",
       "Brain-Cerebellum                     6      data.frame list\n",
       "Brain-Cortex                         6      data.frame list\n",
       "Brain-FrontalCortex(BA9)             6      data.frame list\n",
       "Brain-Hippocampus                    6      data.frame list\n",
       "Brain-Hypothalamus                   6      data.frame list\n",
       "Brain-Nucleusaccumbens(basalganglia) 6      data.frame list\n",
       "Brain-Putamen(basalganglia)          6      data.frame list\n",
       "Brain-Spinalcord(cervicalc-1)        6      data.frame list\n",
       "Brain-Substantianigra                6      data.frame list\n",
       "Breast-MammaryTissue                 6      data.frame list\n",
       "Cells-Culturedfibroblasts            6      data.frame list\n",
       "Cells-EBV-transformedlymphocytes     6      data.frame list\n",
       "Colon-Sigmoid                        6      data.frame list\n",
       "Colon-Transverse                     6      data.frame list\n",
       "Esophagus-GastroesophagealJunction   6      data.frame list\n",
       "Esophagus-Mucosa                     6      data.frame list\n",
       "Esophagus-Muscularis                 6      data.frame list\n",
       "Heart-AtrialAppendage                6      data.frame list\n",
       "Heart-LeftVentricle                  6      data.frame list\n",
       "Kidney-Cortex                        6      data.frame list\n",
       "Kidney-Medulla                       6      data.frame list\n",
       "Liver                                6      data.frame list\n",
       "Lung                                 6      data.frame list\n",
       "MinorSalivaryGland                   6      data.frame list\n",
       "Muscle-Skeletal                      6      data.frame list\n",
       "Nerve-Tibial                         6      data.frame list\n",
       "Pancreas                             6      data.frame list\n",
       "Pituitary                            6      data.frame list\n",
       "Skin-NotSunExposed(Suprapubic)       6      data.frame list\n",
       "Skin-SunExposed(Lowerleg)            6      data.frame list\n",
       "SmallIntestine-TerminalIleum         6      data.frame list\n",
       "Spleen                               6      data.frame list\n",
       "Stomach                              6      data.frame list\n",
       "Thyroid                              6      data.frame list\n",
       "WholeBlood                           6      data.frame list"
      ]
     },
     "metadata": {},
     "output_type": "display_data"
    }
   ],
   "source": [
    "summary(all_topTables)"
   ]
  },
  {
   "cell_type": "markdown",
   "metadata": {},
   "source": [
    "# Trim gene versions from gene names to match Gene Identifiers from GTF (GENCODE, Ensembl)\n",
    "Remove characters after `.` in the Gene Identifier column, since as long as the gene version information is present we will not be able to perform a join, to annotate the toptable dataframes with the GTF gene attrubutes."
   ]
  },
  {
   "cell_type": "code",
   "execution_count": 19,
   "metadata": {},
   "outputs": [],
   "source": [
    "GTF_SOURCE <- \"ensembl\"      # c(\"gencode\", \"ensembl\")\n",
    "GENE_ID    <- \"gene_id\"      # c(\"Geneid\" , \"gene_id\")\n",
    "\n",
    "#GTF_SOURCE <- \"gencode\"      # c(\"gencode\", \"ensembl\")\n",
    "#GENE_ID    <- \"Geneid\"      # c(\"Geneid\" , \"gene_id\")\n",
    "\n",
    "if (GTF_SOURCE == \"gencode\") { GTF <- gtf_gencode}\n",
    "if (GTF_SOURCE == \"ensembl\") { GTF <- gtf_ensembl}\n",
    "\n",
    "GTF[[GENE_ID]]       <- gsub(\"\\\\..*\",\"\", GTF[[GENE_ID]])"
   ]
  },
  {
   "cell_type": "markdown",
   "metadata": {},
   "source": [
    "# Example with one topTable before iterating over all tissues"
   ]
  },
  {
   "cell_type": "code",
   "execution_count": 20,
   "metadata": {},
   "outputs": [
    {
     "data": {
      "text/html": [
       "'Adipose-Subcutaneous'"
      ],
      "text/latex": [
       "'Adipose-Subcutaneous'"
      ],
      "text/markdown": [
       "'Adipose-Subcutaneous'"
      ],
      "text/plain": [
       "[1] \"Adipose-Subcutaneous\""
      ]
     },
     "metadata": {},
     "output_type": "display_data"
    },
    {
     "data": {
      "text/html": [
       "<table>\n",
       "<caption>A data.frame: 2 × 7</caption>\n",
       "<thead>\n",
       "\t<tr><th></th><th scope=col>logFC</th><th scope=col>AveExpr</th><th scope=col>t</th><th scope=col>P.Value</th><th scope=col>adj.P.Val</th><th scope=col>B</th><th scope=col>gene_id</th></tr>\n",
       "\t<tr><th></th><th scope=col>&lt;dbl&gt;</th><th scope=col>&lt;dbl&gt;</th><th scope=col>&lt;dbl&gt;</th><th scope=col>&lt;dbl&gt;</th><th scope=col>&lt;dbl&gt;</th><th scope=col>&lt;dbl&gt;</th><th scope=col>&lt;chr&gt;</th></tr>\n",
       "</thead>\n",
       "<tbody>\n",
       "\t<tr><th scope=row>ENSG00000129824.15</th><td>-9.668735</td><td>4.643844</td><td>-145.5404</td><td>0</td><td>0</td><td>1136.058</td><td>ENSG00000129824</td></tr>\n",
       "\t<tr><th scope=row>ENSG00000229807.10</th><td> 9.907847</td><td>1.246117</td><td> 131.3680</td><td>0</td><td>0</td><td>1079.040</td><td>ENSG00000229807</td></tr>\n",
       "</tbody>\n",
       "</table>\n"
      ],
      "text/latex": [
       "A data.frame: 2 × 7\n",
       "\\begin{tabular}{r|lllllll}\n",
       "  & logFC & AveExpr & t & P.Value & adj.P.Val & B & gene\\_id\\\\\n",
       "  & <dbl> & <dbl> & <dbl> & <dbl> & <dbl> & <dbl> & <chr>\\\\\n",
       "\\hline\n",
       "\tENSG00000129824.15 & -9.668735 & 4.643844 & -145.5404 & 0 & 0 & 1136.058 & ENSG00000129824\\\\\n",
       "\tENSG00000229807.10 &  9.907847 & 1.246117 &  131.3680 & 0 & 0 & 1079.040 & ENSG00000229807\\\\\n",
       "\\end{tabular}\n"
      ],
      "text/markdown": [
       "\n",
       "A data.frame: 2 × 7\n",
       "\n",
       "| <!--/--> | logFC &lt;dbl&gt; | AveExpr &lt;dbl&gt; | t &lt;dbl&gt; | P.Value &lt;dbl&gt; | adj.P.Val &lt;dbl&gt; | B &lt;dbl&gt; | gene_id &lt;chr&gt; |\n",
       "|---|---|---|---|---|---|---|---|\n",
       "| ENSG00000129824.15 | -9.668735 | 4.643844 | -145.5404 | 0 | 0 | 1136.058 | ENSG00000129824 |\n",
       "| ENSG00000229807.10 |  9.907847 | 1.246117 |  131.3680 | 0 | 0 | 1079.040 | ENSG00000229807 |\n",
       "\n"
      ],
      "text/plain": [
       "                   logFC     AveExpr  t         P.Value adj.P.Val B       \n",
       "ENSG00000129824.15 -9.668735 4.643844 -145.5404 0       0         1136.058\n",
       "ENSG00000229807.10  9.907847 1.246117  131.3680 0       0         1079.040\n",
       "                   gene_id        \n",
       "ENSG00000129824.15 ENSG00000129824\n",
       "ENSG00000229807.10 ENSG00000229807"
      ]
     },
     "metadata": {},
     "output_type": "display_data"
    },
    {
     "data": {
      "text/html": [
       "<table>\n",
       "<caption>A data.frame: 2 × 5</caption>\n",
       "<thead>\n",
       "\t<tr><th></th><th scope=col>gene_id</th><th scope=col>GeneSymbol</th><th scope=col>Chromosome</th><th scope=col>Class</th><th scope=col>Strand</th></tr>\n",
       "\t<tr><th></th><th scope=col>&lt;chr&gt;</th><th scope=col>&lt;fct&gt;</th><th scope=col>&lt;fct&gt;</th><th scope=col>&lt;fct&gt;</th><th scope=col>&lt;fct&gt;</th></tr>\n",
       "</thead>\n",
       "<tbody>\n",
       "\t<tr><th scope=row>1</th><td>ENSG00000223972</td><td>DDX11L1</td><td>1:11869-14409</td><td>transcribed_unprocessed_pseudogene</td><td>+</td></tr>\n",
       "\t<tr><th scope=row>2</th><td>ENSG00000227232</td><td>WASH7P </td><td>1:14404-29570</td><td>unprocessed_pseudogene            </td><td>-</td></tr>\n",
       "</tbody>\n",
       "</table>\n"
      ],
      "text/latex": [
       "A data.frame: 2 × 5\n",
       "\\begin{tabular}{r|lllll}\n",
       "  & gene\\_id & GeneSymbol & Chromosome & Class & Strand\\\\\n",
       "  & <chr> & <fct> & <fct> & <fct> & <fct>\\\\\n",
       "\\hline\n",
       "\t1 & ENSG00000223972 & DDX11L1 & 1:11869-14409 & transcribed\\_unprocessed\\_pseudogene & +\\\\\n",
       "\t2 & ENSG00000227232 & WASH7P  & 1:14404-29570 & unprocessed\\_pseudogene             & -\\\\\n",
       "\\end{tabular}\n"
      ],
      "text/markdown": [
       "\n",
       "A data.frame: 2 × 5\n",
       "\n",
       "| <!--/--> | gene_id &lt;chr&gt; | GeneSymbol &lt;fct&gt; | Chromosome &lt;fct&gt; | Class &lt;fct&gt; | Strand &lt;fct&gt; |\n",
       "|---|---|---|---|---|---|\n",
       "| 1 | ENSG00000223972 | DDX11L1 | 1:11869-14409 | transcribed_unprocessed_pseudogene | + |\n",
       "| 2 | ENSG00000227232 | WASH7P  | 1:14404-29570 | unprocessed_pseudogene             | - |\n",
       "\n"
      ],
      "text/plain": [
       "  gene_id         GeneSymbol Chromosome    Class                             \n",
       "1 ENSG00000223972 DDX11L1    1:11869-14409 transcribed_unprocessed_pseudogene\n",
       "2 ENSG00000227232 WASH7P     1:14404-29570 unprocessed_pseudogene            \n",
       "  Strand\n",
       "1 +     \n",
       "2 -     "
      ]
     },
     "metadata": {},
     "output_type": "display_data"
    }
   ],
   "source": [
    "# Example topTable and name\n",
    "topTable <- all_topTables[[1]]\n",
    "name     <- names( all_topTables)[1]\n",
    "topTable[[GENE_ID]]  <- gsub(\"\\\\..*\",\"\", rownames(topTable))\n",
    "name\n",
    "head(topTable,2)\n",
    "head(GTF, 2)"
   ]
  },
  {
   "cell_type": "markdown",
   "metadata": {},
   "source": [
    "## Defining the thresholds for the double criterion filtering:\n",
    "\n",
    "Criteria:\n",
    "- Adjusted p-value < `p_value_cuttoff`\n",
    "- Absolute FoldChange > `absFold_change_threshold`"
   ]
  },
  {
   "cell_type": "markdown",
   "metadata": {},
   "source": [
    "----\n",
    "\n",
    "***NOTE***\n",
    "\n",
    "Defining higher in males or females based on the limma design matrix.\n",
    "As we have used 1 for encoding the females and 2 for the males, our *reference level* for the contrast in the expression between males and females is 1, the females.\n",
    "\n",
    "\n",
    "From the `limma` documentation:\n",
    ">The level which is chosen for the *reference level* is the level which is contrasted against. By default, this is simply the first level alphabetically. We can specify that we want group 2 to be the reference level by either using the relevel function [..]\n",
    "\n",
    "By convention, we could say that genes with positive log fold change, are higher in males, whereas the opposite holds true for the ones that are observed to have negative log fold change. \n",
    "\n",
    "---"
   ]
  },
  {
   "cell_type": "code",
   "execution_count": 21,
   "metadata": {},
   "outputs": [],
   "source": [
    "adj.P.Val_threshold  <- 0.5\n",
    "absFoldChange_cutoff <- 1.5"
   ]
  },
  {
   "cell_type": "markdown",
   "metadata": {},
   "source": [
    "Replacing potential `NA` values in the `P.Value`, `adj.P.Val` to keep the columns numeric and avoid coersion."
   ]
  },
  {
   "cell_type": "code",
   "execution_count": 22,
   "metadata": {},
   "outputs": [],
   "source": [
    "# replacing NA p-values with p-value = 1\n",
    "topTable$P.Value[is.na(topTable$P.Value)]     <- 1; \n",
    "topTable$adj.P.Val[is.na(topTable$adj.P.Val)] <- 1;"
   ]
  },
  {
   "cell_type": "code",
   "execution_count": 23,
   "metadata": {},
   "outputs": [],
   "source": [
    "# Add helper variable dummy `FoldChange` variable. Use 2 as base of log, because this is the default from limma\n",
    "# The following statement calculates a dummy fold change (how many times higher or lower)\n",
    "# The minus symbol is a convention symbol only! to express eg. a fold change of 0.25 as -4, 4 times lower\n",
    "topTable$FoldChange_dummy    <-   ifelse(topTable$logFC > 0, 2 ^ topTable$logFC, -1 / (2 ^ topTable$logFC))                    \n",
    "\n",
    "# Add helper variable `abs_logFC`.\n",
    "topTable$abs_logFC <- abs(topTable$logFC)\n",
    "\n",
    "# Add helper variable `abundance` for up, down, non_signif\n",
    "topTable$abundance                                                  <- \"non_signif\"\n",
    "topTable$abundance[(topTable$logFC >=   log2(absFoldChange_cutoff)) & (topTable$adj.P.Val <= adj.P.Val_threshold )]   <- \"higher\"\n",
    "topTable$abundance[(topTable$logFC <=  -log2(absFoldChange_cutoff)) & (topTable$adj.P.Val <= adj.P.Val_threshold )]   <- \"lower\""
   ]
  },
  {
   "cell_type": "code",
   "execution_count": 24,
   "metadata": {},
   "outputs": [
    {
     "data": {
      "text/html": [
       "<table>\n",
       "<caption>A data.frame: 6 × 10</caption>\n",
       "<thead>\n",
       "\t<tr><th></th><th scope=col>logFC</th><th scope=col>AveExpr</th><th scope=col>t</th><th scope=col>P.Value</th><th scope=col>adj.P.Val</th><th scope=col>B</th><th scope=col>gene_id</th><th scope=col>FoldChange_dummy</th><th scope=col>abs_logFC</th><th scope=col>abundance</th></tr>\n",
       "\t<tr><th></th><th scope=col>&lt;dbl&gt;</th><th scope=col>&lt;dbl&gt;</th><th scope=col>&lt;dbl&gt;</th><th scope=col>&lt;dbl&gt;</th><th scope=col>&lt;dbl&gt;</th><th scope=col>&lt;dbl&gt;</th><th scope=col>&lt;chr&gt;</th><th scope=col>&lt;dbl&gt;</th><th scope=col>&lt;dbl&gt;</th><th scope=col>&lt;chr&gt;</th></tr>\n",
       "</thead>\n",
       "<tbody>\n",
       "\t<tr><th scope=row>ENSG00000129824.15</th><td>-9.668735</td><td> 4.6438444</td><td>-145.54037</td><td>0</td><td>0</td><td>1136.0576</td><td>ENSG00000129824</td><td>-813.9156</td><td>9.668735</td><td>lower </td></tr>\n",
       "\t<tr><th scope=row>ENSG00000229807.10</th><td> 9.907847</td><td> 1.2461171</td><td> 131.36798</td><td>0</td><td>0</td><td>1079.0402</td><td>ENSG00000229807</td><td> 960.6365</td><td>9.907847</td><td>higher</td></tr>\n",
       "\t<tr><th scope=row>ENSG00000067048.16</th><td>-9.698380</td><td> 3.7021122</td><td>-108.38685</td><td>0</td><td>0</td><td> 952.4945</td><td>ENSG00000067048</td><td>-830.8129</td><td>9.698380</td><td>lower </td></tr>\n",
       "\t<tr><th scope=row>ENSG00000176728.7</th><td>-8.082798</td><td>-0.9202562</td><td>-105.59458</td><td>0</td><td>0</td><td> 922.2647</td><td>ENSG00000176728</td><td>-271.1219</td><td>8.082798</td><td>lower </td></tr>\n",
       "\t<tr><th scope=row>ENSG00000012817.15</th><td>-9.608969</td><td> 3.4369019</td><td>-101.87186</td><td>0</td><td>0</td><td> 914.3474</td><td>ENSG00000012817</td><td>-780.8863</td><td>9.608969</td><td>lower </td></tr>\n",
       "\t<tr><th scope=row>ENSG00000198692.9</th><td>-9.013909</td><td> 1.3461188</td><td> -90.30504</td><td>0</td><td>0</td><td> 835.7359</td><td>ENSG00000198692</td><td>-516.9601</td><td>9.013909</td><td>lower </td></tr>\n",
       "</tbody>\n",
       "</table>\n"
      ],
      "text/latex": [
       "A data.frame: 6 × 10\n",
       "\\begin{tabular}{r|llllllllll}\n",
       "  & logFC & AveExpr & t & P.Value & adj.P.Val & B & gene\\_id & FoldChange\\_dummy & abs\\_logFC & abundance\\\\\n",
       "  & <dbl> & <dbl> & <dbl> & <dbl> & <dbl> & <dbl> & <chr> & <dbl> & <dbl> & <chr>\\\\\n",
       "\\hline\n",
       "\tENSG00000129824.15 & -9.668735 &  4.6438444 & -145.54037 & 0 & 0 & 1136.0576 & ENSG00000129824 & -813.9156 & 9.668735 & lower \\\\\n",
       "\tENSG00000229807.10 &  9.907847 &  1.2461171 &  131.36798 & 0 & 0 & 1079.0402 & ENSG00000229807 &  960.6365 & 9.907847 & higher\\\\\n",
       "\tENSG00000067048.16 & -9.698380 &  3.7021122 & -108.38685 & 0 & 0 &  952.4945 & ENSG00000067048 & -830.8129 & 9.698380 & lower \\\\\n",
       "\tENSG00000176728.7 & -8.082798 & -0.9202562 & -105.59458 & 0 & 0 &  922.2647 & ENSG00000176728 & -271.1219 & 8.082798 & lower \\\\\n",
       "\tENSG00000012817.15 & -9.608969 &  3.4369019 & -101.87186 & 0 & 0 &  914.3474 & ENSG00000012817 & -780.8863 & 9.608969 & lower \\\\\n",
       "\tENSG00000198692.9 & -9.013909 &  1.3461188 &  -90.30504 & 0 & 0 &  835.7359 & ENSG00000198692 & -516.9601 & 9.013909 & lower \\\\\n",
       "\\end{tabular}\n"
      ],
      "text/markdown": [
       "\n",
       "A data.frame: 6 × 10\n",
       "\n",
       "| <!--/--> | logFC &lt;dbl&gt; | AveExpr &lt;dbl&gt; | t &lt;dbl&gt; | P.Value &lt;dbl&gt; | adj.P.Val &lt;dbl&gt; | B &lt;dbl&gt; | gene_id &lt;chr&gt; | FoldChange_dummy &lt;dbl&gt; | abs_logFC &lt;dbl&gt; | abundance &lt;chr&gt; |\n",
       "|---|---|---|---|---|---|---|---|---|---|---|\n",
       "| ENSG00000129824.15 | -9.668735 |  4.6438444 | -145.54037 | 0 | 0 | 1136.0576 | ENSG00000129824 | -813.9156 | 9.668735 | lower  |\n",
       "| ENSG00000229807.10 |  9.907847 |  1.2461171 |  131.36798 | 0 | 0 | 1079.0402 | ENSG00000229807 |  960.6365 | 9.907847 | higher |\n",
       "| ENSG00000067048.16 | -9.698380 |  3.7021122 | -108.38685 | 0 | 0 |  952.4945 | ENSG00000067048 | -830.8129 | 9.698380 | lower  |\n",
       "| ENSG00000176728.7 | -8.082798 | -0.9202562 | -105.59458 | 0 | 0 |  922.2647 | ENSG00000176728 | -271.1219 | 8.082798 | lower  |\n",
       "| ENSG00000012817.15 | -9.608969 |  3.4369019 | -101.87186 | 0 | 0 |  914.3474 | ENSG00000012817 | -780.8863 | 9.608969 | lower  |\n",
       "| ENSG00000198692.9 | -9.013909 |  1.3461188 |  -90.30504 | 0 | 0 |  835.7359 | ENSG00000198692 | -516.9601 | 9.013909 | lower  |\n",
       "\n"
      ],
      "text/plain": [
       "                   logFC     AveExpr    t          P.Value adj.P.Val B        \n",
       "ENSG00000129824.15 -9.668735  4.6438444 -145.54037 0       0         1136.0576\n",
       "ENSG00000229807.10  9.907847  1.2461171  131.36798 0       0         1079.0402\n",
       "ENSG00000067048.16 -9.698380  3.7021122 -108.38685 0       0          952.4945\n",
       "ENSG00000176728.7  -8.082798 -0.9202562 -105.59458 0       0          922.2647\n",
       "ENSG00000012817.15 -9.608969  3.4369019 -101.87186 0       0          914.3474\n",
       "ENSG00000198692.9  -9.013909  1.3461188  -90.30504 0       0          835.7359\n",
       "                   gene_id         FoldChange_dummy abs_logFC abundance\n",
       "ENSG00000129824.15 ENSG00000129824 -813.9156        9.668735  lower    \n",
       "ENSG00000229807.10 ENSG00000229807  960.6365        9.907847  higher   \n",
       "ENSG00000067048.16 ENSG00000067048 -830.8129        9.698380  lower    \n",
       "ENSG00000176728.7  ENSG00000176728 -271.1219        8.082798  lower    \n",
       "ENSG00000012817.15 ENSG00000012817 -780.8863        9.608969  lower    \n",
       "ENSG00000198692.9  ENSG00000198692 -516.9601        9.013909  lower    "
      ]
     },
     "metadata": {},
     "output_type": "display_data"
    }
   ],
   "source": [
    "head(topTable)"
   ]
  },
  {
   "cell_type": "markdown",
   "metadata": {},
   "source": [
    "# Define a vector with the columns to keep in the annotated from GTF `topTable` object"
   ]
  },
  {
   "cell_type": "code",
   "execution_count": 25,
   "metadata": {},
   "outputs": [],
   "source": [
    "toKeep <- c(\"Geneid\",\"logFC\",\"FoldChange_dummy\", \"adj.P.Val\", \"abundance\")"
   ]
  },
  {
   "cell_type": "code",
   "execution_count": 26,
   "metadata": {},
   "outputs": [
    {
     "data": {
      "text/html": [
       "<table>\n",
       "<caption>A data.frame: 2 × 4</caption>\n",
       "<thead>\n",
       "\t<tr><th></th><th scope=col>logFC</th><th scope=col>adj.P.Val</th><th scope=col>FoldChange_dummy</th><th scope=col>abundance</th></tr>\n",
       "\t<tr><th></th><th scope=col>&lt;dbl&gt;</th><th scope=col>&lt;dbl&gt;</th><th scope=col>&lt;dbl&gt;</th><th scope=col>&lt;chr&gt;</th></tr>\n",
       "</thead>\n",
       "<tbody>\n",
       "\t<tr><th scope=row>ENSG00000129824.15</th><td>-9.668735</td><td>0</td><td>-813.9156</td><td>lower </td></tr>\n",
       "\t<tr><th scope=row>ENSG00000229807.10</th><td> 9.907847</td><td>0</td><td> 960.6365</td><td>higher</td></tr>\n",
       "</tbody>\n",
       "</table>\n"
      ],
      "text/latex": [
       "A data.frame: 2 × 4\n",
       "\\begin{tabular}{r|llll}\n",
       "  & logFC & adj.P.Val & FoldChange\\_dummy & abundance\\\\\n",
       "  & <dbl> & <dbl> & <dbl> & <chr>\\\\\n",
       "\\hline\n",
       "\tENSG00000129824.15 & -9.668735 & 0 & -813.9156 & lower \\\\\n",
       "\tENSG00000229807.10 &  9.907847 & 0 &  960.6365 & higher\\\\\n",
       "\\end{tabular}\n"
      ],
      "text/markdown": [
       "\n",
       "A data.frame: 2 × 4\n",
       "\n",
       "| <!--/--> | logFC &lt;dbl&gt; | adj.P.Val &lt;dbl&gt; | FoldChange_dummy &lt;dbl&gt; | abundance &lt;chr&gt; |\n",
       "|---|---|---|---|---|\n",
       "| ENSG00000129824.15 | -9.668735 | 0 | -813.9156 | lower  |\n",
       "| ENSG00000229807.10 |  9.907847 | 0 |  960.6365 | higher |\n",
       "\n"
      ],
      "text/plain": [
       "                   logFC     adj.P.Val FoldChange_dummy abundance\n",
       "ENSG00000129824.15 -9.668735 0         -813.9156        lower    \n",
       "ENSG00000229807.10  9.907847 0          960.6365        higher   "
      ]
     },
     "metadata": {},
     "output_type": "display_data"
    }
   ],
   "source": [
    "head(topTable[ , colnames(topTable) %in% toKeep ],2)"
   ]
  },
  {
   "cell_type": "code",
   "execution_count": 27,
   "metadata": {},
   "outputs": [
    {
     "data": {
      "text/html": [
       "'Adipose-Subcutaneous'"
      ],
      "text/latex": [
       "'Adipose-Subcutaneous'"
      ],
      "text/markdown": [
       "'Adipose-Subcutaneous'"
      ],
      "text/plain": [
       "[1] \"Adipose-Subcutaneous\""
      ]
     },
     "metadata": {},
     "output_type": "display_data"
    },
    {
     "data": {
      "text/html": [
       "<style>\n",
       ".list-inline {list-style: none; margin:0; padding: 0}\n",
       ".list-inline>li {display: inline-block}\n",
       ".list-inline>li:not(:last-child)::after {content: \"\\00b7\"; padding: 0 .5ex}\n",
       "</style>\n",
       "<ol class=list-inline><li>15895</li><li>10</li></ol>\n"
      ],
      "text/latex": [
       "\\begin{enumerate*}\n",
       "\\item 15895\n",
       "\\item 10\n",
       "\\end{enumerate*}\n"
      ],
      "text/markdown": [
       "1. 15895\n",
       "2. 10\n",
       "\n",
       "\n"
      ],
      "text/plain": [
       "[1] 15895    10"
      ]
     },
     "metadata": {},
     "output_type": "display_data"
    },
    {
     "data": {
      "text/html": [
       "<style>\n",
       ".list-inline {list-style: none; margin:0; padding: 0}\n",
       ".list-inline>li {display: inline-block}\n",
       ".list-inline>li:not(:last-child)::after {content: \"\\00b7\"; padding: 0 .5ex}\n",
       "</style>\n",
       "<ol class=list-inline><li>275</li><li>10</li></ol>\n"
      ],
      "text/latex": [
       "\\begin{enumerate*}\n",
       "\\item 275\n",
       "\\item 10\n",
       "\\end{enumerate*}\n"
      ],
      "text/markdown": [
       "1. 275\n",
       "2. 10\n",
       "\n",
       "\n"
      ],
      "text/plain": [
       "[1] 275  10"
      ]
     },
     "metadata": {},
     "output_type": "display_data"
    },
    {
     "data": {
      "text/html": [
       "<style>\n",
       ".list-inline {list-style: none; margin:0; padding: 0}\n",
       ".list-inline>li {display: inline-block}\n",
       ".list-inline>li:not(:last-child)::after {content: \"\\00b7\"; padding: 0 .5ex}\n",
       "</style>\n",
       "<ol class=list-inline><li>275</li><li>10</li></ol>\n"
      ],
      "text/latex": [
       "\\begin{enumerate*}\n",
       "\\item 275\n",
       "\\item 10\n",
       "\\end{enumerate*}\n"
      ],
      "text/markdown": [
       "1. 275\n",
       "2. 10\n",
       "\n",
       "\n"
      ],
      "text/plain": [
       "[1] 275  10"
      ]
     },
     "metadata": {},
     "output_type": "display_data"
    }
   ],
   "source": [
    "name\n",
    "dim(topTable)\n",
    "dim(topTable [topTable$abundance != \"non_signif\",  ])\n",
    "dim(topTable [ (topTable$abundance != \"non_signif\" )  & (topTable$adj.P.Val <= adj.P.Val_threshold ) ,  ])"
   ]
  },
  {
   "cell_type": "code",
   "execution_count": 28,
   "metadata": {},
   "outputs": [
    {
     "data": {
      "text/plain": [
       "      \n",
       "       higher lower non_signif\n",
       "  [1,]     80   195      15620"
      ]
     },
     "metadata": {},
     "output_type": "display_data"
    }
   ],
   "source": [
    "expression_abundance <- t(table(topTable$abundance))\n",
    "expression_abundance"
   ]
  },
  {
   "cell_type": "code",
   "execution_count": 29,
   "metadata": {},
   "outputs": [],
   "source": [
    "expression_abundance <- t(table(topTable$abundance))\n",
    "signif <- as.data.frame.matrix(expression_abundance)"
   ]
  },
  {
   "cell_type": "code",
   "execution_count": 30,
   "metadata": {},
   "outputs": [
    {
     "data": {
      "text/html": [
       "<table>\n",
       "<caption>A data.frame: 1 × 3</caption>\n",
       "<thead>\n",
       "\t<tr><th scope=col>higher</th><th scope=col>lower</th><th scope=col>non_signif</th></tr>\n",
       "\t<tr><th scope=col>&lt;int&gt;</th><th scope=col>&lt;int&gt;</th><th scope=col>&lt;int&gt;</th></tr>\n",
       "</thead>\n",
       "<tbody>\n",
       "\t<tr><td>80</td><td>195</td><td>15620</td></tr>\n",
       "</tbody>\n",
       "</table>\n"
      ],
      "text/latex": [
       "A data.frame: 1 × 3\n",
       "\\begin{tabular}{lll}\n",
       " higher & lower & non\\_signif\\\\\n",
       " <int> & <int> & <int>\\\\\n",
       "\\hline\n",
       "\t 80 & 195 & 15620\\\\\n",
       "\\end{tabular}\n"
      ],
      "text/markdown": [
       "\n",
       "A data.frame: 1 × 3\n",
       "\n",
       "| higher &lt;int&gt; | lower &lt;int&gt; | non_signif &lt;int&gt; |\n",
       "|---|---|---|\n",
       "| 80 | 195 | 15620 |\n",
       "\n"
      ],
      "text/plain": [
       "  higher lower non_signif\n",
       "1 80     195   15620     "
      ]
     },
     "metadata": {},
     "output_type": "display_data"
    }
   ],
   "source": [
    "signif"
   ]
  },
  {
   "cell_type": "markdown",
   "metadata": {},
   "source": [
    "To avoid errors in the cases that we might have none lower or none higher, and the matrix might be missing columns we will create a template data.frame and also add the column that might be missing if lower or higher genes is equal to 0."
   ]
  },
  {
   "cell_type": "code",
   "execution_count": 31,
   "metadata": {},
   "outputs": [
    {
     "data": {
      "text/html": [
       "<table>\n",
       "<caption>A data.frame: 0 × 3</caption>\n",
       "<thead>\n",
       "\t<tr><th scope=col>higher</th><th scope=col>lower</th><th scope=col>non_signif</th></tr>\n",
       "\t<tr><th scope=col>&lt;int&gt;</th><th scope=col>&lt;int&gt;</th><th scope=col>&lt;int&gt;</th></tr>\n",
       "</thead>\n",
       "<tbody>\n",
       "</tbody>\n",
       "</table>\n"
      ],
      "text/latex": [
       "A data.frame: 0 × 3\n",
       "\\begin{tabular}{lll}\n",
       " higher & lower & non\\_signif\\\\\n",
       " <int> & <int> & <int>\\\\\n",
       "\\hline\n",
       "\\end{tabular}\n"
      ],
      "text/markdown": [
       "\n",
       "A data.frame: 0 × 3\n",
       "\n",
       "| higher &lt;int&gt; | lower &lt;int&gt; | non_signif &lt;int&gt; |\n",
       "|---|---|---|\n",
       "\n"
      ],
      "text/plain": [
       "     higher lower non_signif"
      ]
     },
     "metadata": {},
     "output_type": "display_data"
    }
   ],
   "source": [
    "signif_template <- structure(list(higher = integer(0), \n",
    "                                   lower = integer(0), \n",
    "                                   non_signif = integer(0)), \n",
    "                              row.names = integer(0), class = \"data.frame\")\n",
    "signif_template"
   ]
  },
  {
   "cell_type": "markdown",
   "metadata": {},
   "source": [
    "In the for-loop we will check if both columns `lower`, `higher` are present, if not add the column and zero count to create the expected shape of the dataframe:\n",
    "\n",
    "```R\n",
    "signif <- as.data.frame.matrix(expression_abundance)\n",
    "if(! (\"higher\" %in% colnames(signif))) { \n",
    "    \n",
    "    signif$higher <- 0\n",
    "}\n",
    "if(! (\"lower\" %in% colnames(signif))) { \n",
    "\n",
    "    signif$lower <- 0\n",
    "}\n",
    "```"
   ]
  },
  {
   "cell_type": "markdown",
   "metadata": {},
   "source": [
    "Now we can add some more summary statistics eg percentage of genes lower, higher or non-significantly different, "
   ]
  },
  {
   "cell_type": "code",
   "execution_count": 32,
   "metadata": {},
   "outputs": [
    {
     "data": {
      "text/html": [
       "<table>\n",
       "<caption>A data.frame: 1 × 7</caption>\n",
       "<thead>\n",
       "\t<tr><th scope=col>tissue</th><th scope=col>non_signif</th><th scope=col>lower</th><th scope=col>higher</th><th scope=col>% lower</th><th scope=col>% higher</th><th scope=col>% non-signif</th></tr>\n",
       "\t<tr><th scope=col>&lt;chr&gt;</th><th scope=col>&lt;int&gt;</th><th scope=col>&lt;int&gt;</th><th scope=col>&lt;int&gt;</th><th scope=col>&lt;dbl&gt;</th><th scope=col>&lt;dbl&gt;</th><th scope=col>&lt;dbl&gt;</th></tr>\n",
       "</thead>\n",
       "<tbody>\n",
       "\t<tr><td>Adipose-Subcutaneous</td><td>15620</td><td>195</td><td>80</td><td>1.23</td><td>0.5</td><td>98.27</td></tr>\n",
       "</tbody>\n",
       "</table>\n"
      ],
      "text/latex": [
       "A data.frame: 1 × 7\n",
       "\\begin{tabular}{lllllll}\n",
       " tissue & non\\_signif & lower & higher & \\% lower & \\% higher & \\% non-signif\\\\\n",
       " <chr> & <int> & <int> & <int> & <dbl> & <dbl> & <dbl>\\\\\n",
       "\\hline\n",
       "\t Adipose-Subcutaneous & 15620 & 195 & 80 & 1.23 & 0.5 & 98.27\\\\\n",
       "\\end{tabular}\n"
      ],
      "text/markdown": [
       "\n",
       "A data.frame: 1 × 7\n",
       "\n",
       "| tissue &lt;chr&gt; | non_signif &lt;int&gt; | lower &lt;int&gt; | higher &lt;int&gt; | % lower &lt;dbl&gt; | % higher &lt;dbl&gt; | % non-signif &lt;dbl&gt; |\n",
       "|---|---|---|---|---|---|---|\n",
       "| Adipose-Subcutaneous | 15620 | 195 | 80 | 1.23 | 0.5 | 98.27 |\n",
       "\n"
      ],
      "text/plain": [
       "  tissue               non_signif lower higher % lower % higher % non-signif\n",
       "1 Adipose-Subcutaneous 15620      195   80     1.23    0.5      98.27       "
      ]
     },
     "metadata": {},
     "output_type": "display_data"
    }
   ],
   "source": [
    "signif$tissue <- name\n",
    "signif$sum    <- signif$non_signif + signif$higher + signif$lower\n",
    "toKeepInOrder <- c(\"tissue\", \"non_signif\", \"lower\", \"higher\", \"% lower\", \"% higher\", \"% non-signif\")\n",
    "signif$`% higher`     <-  round(signif$higher / signif$sum  * 100, 2)\n",
    "signif$`% lower`      <-  round(signif$lower / signif$sum  * 100, 2)\n",
    "signif$`% non-signif` <-  round(signif$non_signif / signif$sum  * 100, 2)\n",
    "signif <- signif[, toKeepInOrder]\n",
    "signif"
   ]
  },
  {
   "cell_type": "markdown",
   "metadata": {},
   "source": [
    "# Summary table of differentially expressed genes between male and female acrosss tissues\n",
    "\n",
    "Above we demonstrate for one example limma `topTable`. Let's now iterate over all tissue and create an aggregated table of counts of differentially expressed or non-significantly altered between the two sexes."
   ]
  },
  {
   "cell_type": "code",
   "execution_count": 33,
   "metadata": {},
   "outputs": [
    {
     "name": "stderr",
     "output_type": "stream",
     "text": [
      "Adipose-Subcutaneous, N features before GTF merge: 15895, after: 15895\n",
      "Adipose-Visceral(Omentum), N features before GTF merge: 15895, after: 15895\n",
      "AdrenalGland, N features before GTF merge: 15895, after: 15895\n",
      "Artery-Aorta, N features before GTF merge: 15895, after: 15895\n",
      "Artery-Coronary, N features before GTF merge: 15895, after: 15895\n",
      "Artery-Tibial, N features before GTF merge: 15895, after: 15895\n",
      "Bladder, N features before GTF merge: 15895, after: 15895\n",
      "Brain-Amygdala, N features before GTF merge: 15895, after: 15895\n",
      "Brain-Anteriorcingulatecortex(BA24), N features before GTF merge: 15895, after: 15895\n",
      "Brain-Caudate(basalganglia), N features before GTF merge: 15895, after: 15895\n",
      "Brain-CerebellarHemisphere, N features before GTF merge: 15895, after: 15895\n",
      "Brain-Cerebellum, N features before GTF merge: 15895, after: 15895\n",
      "Brain-Cortex, N features before GTF merge: 15895, after: 15895\n",
      "Brain-FrontalCortex(BA9), N features before GTF merge: 15895, after: 15895\n",
      "Brain-Hippocampus, N features before GTF merge: 15895, after: 15895\n",
      "Brain-Hypothalamus, N features before GTF merge: 15895, after: 15895\n",
      "Brain-Nucleusaccumbens(basalganglia), N features before GTF merge: 15895, after: 15895\n",
      "Brain-Putamen(basalganglia), N features before GTF merge: 15895, after: 15895\n",
      "Brain-Spinalcord(cervicalc-1), N features before GTF merge: 15895, after: 15895\n",
      "Brain-Substantianigra, N features before GTF merge: 15895, after: 15895\n",
      "Breast-MammaryTissue, N features before GTF merge: 15895, after: 15895\n",
      "Cells-Culturedfibroblasts, N features before GTF merge: 15895, after: 15895\n",
      "Cells-EBV-transformedlymphocytes, N features before GTF merge: 15895, after: 15895\n",
      "Colon-Sigmoid, N features before GTF merge: 15895, after: 15895\n",
      "Colon-Transverse, N features before GTF merge: 15895, after: 15895\n",
      "Esophagus-GastroesophagealJunction, N features before GTF merge: 15895, after: 15895\n",
      "Esophagus-Mucosa, N features before GTF merge: 15895, after: 15895\n",
      "Esophagus-Muscularis, N features before GTF merge: 15895, after: 15895\n",
      "Heart-AtrialAppendage, N features before GTF merge: 15895, after: 15895\n",
      "Heart-LeftVentricle, N features before GTF merge: 15895, after: 15895\n",
      "Kidney-Cortex, N features before GTF merge: 15895, after: 15895\n",
      "Kidney-Medulla, N features before GTF merge: 15895, after: 15895\n",
      "Liver, N features before GTF merge: 15895, after: 15895\n",
      "Lung, N features before GTF merge: 15895, after: 15895\n",
      "MinorSalivaryGland, N features before GTF merge: 15895, after: 15895\n",
      "Muscle-Skeletal, N features before GTF merge: 15895, after: 15895\n",
      "Nerve-Tibial, N features before GTF merge: 15895, after: 15895\n",
      "Pancreas, N features before GTF merge: 15895, after: 15895\n",
      "Pituitary, N features before GTF merge: 15895, after: 15895\n",
      "Skin-NotSunExposed(Suprapubic), N features before GTF merge: 15895, after: 15895\n",
      "Skin-SunExposed(Lowerleg), N features before GTF merge: 15895, after: 15895\n",
      "SmallIntestine-TerminalIleum, N features before GTF merge: 15895, after: 15895\n",
      "Spleen, N features before GTF merge: 15895, after: 15895\n",
      "Stomach, N features before GTF merge: 15895, after: 15895\n",
      "Thyroid, N features before GTF merge: 15895, after: 15895\n",
      "WholeBlood, N features before GTF merge: 15895, after: 15895\n"
     ]
    },
    {
     "data": {
      "text/html": [
       "<table>\n",
       "<caption>A data.frame: 2 × 7</caption>\n",
       "<thead>\n",
       "\t<tr><th></th><th scope=col>tissue</th><th scope=col>non_signif</th><th scope=col>lower</th><th scope=col>higher</th><th scope=col>% lower</th><th scope=col>% higher</th><th scope=col>% non-signif</th></tr>\n",
       "\t<tr><th></th><th scope=col>&lt;chr&gt;</th><th scope=col>&lt;int&gt;</th><th scope=col>&lt;dbl&gt;</th><th scope=col>&lt;int&gt;</th><th scope=col>&lt;dbl&gt;</th><th scope=col>&lt;dbl&gt;</th><th scope=col>&lt;dbl&gt;</th></tr>\n",
       "</thead>\n",
       "<tbody>\n",
       "\t<tr><th scope=row>21</th><td>Breast-MammaryTissue</td><td>14082</td><td>682</td><td>1131</td><td>4.29</td><td>7.12</td><td>88.59</td></tr>\n",
       "\t<tr><th scope=row>35</th><td>MinorSalivaryGland  </td><td>15614</td><td> 59</td><td> 222</td><td>0.37</td><td>1.40</td><td>98.23</td></tr>\n",
       "</tbody>\n",
       "</table>\n"
      ],
      "text/latex": [
       "A data.frame: 2 × 7\n",
       "\\begin{tabular}{r|lllllll}\n",
       "  & tissue & non\\_signif & lower & higher & \\% lower & \\% higher & \\% non-signif\\\\\n",
       "  & <chr> & <int> & <dbl> & <int> & <dbl> & <dbl> & <dbl>\\\\\n",
       "\\hline\n",
       "\t21 & Breast-MammaryTissue & 14082 & 682 & 1131 & 4.29 & 7.12 & 88.59\\\\\n",
       "\t35 & MinorSalivaryGland   & 15614 &  59 &  222 & 0.37 & 1.40 & 98.23\\\\\n",
       "\\end{tabular}\n"
      ],
      "text/markdown": [
       "\n",
       "A data.frame: 2 × 7\n",
       "\n",
       "| <!--/--> | tissue &lt;chr&gt; | non_signif &lt;int&gt; | lower &lt;dbl&gt; | higher &lt;int&gt; | % lower &lt;dbl&gt; | % higher &lt;dbl&gt; | % non-signif &lt;dbl&gt; |\n",
       "|---|---|---|---|---|---|---|---|\n",
       "| 21 | Breast-MammaryTissue | 14082 | 682 | 1131 | 4.29 | 7.12 | 88.59 |\n",
       "| 35 | MinorSalivaryGland   | 15614 |  59 |  222 | 0.37 | 1.40 | 98.23 |\n",
       "\n"
      ],
      "text/plain": [
       "   tissue               non_signif lower higher % lower % higher % non-signif\n",
       "21 Breast-MammaryTissue 14082      682   1131   4.29    7.12     88.59       \n",
       "35 MinorSalivaryGland   15614       59    222   0.37    1.40     98.23       "
      ]
     },
     "metadata": {},
     "output_type": "display_data"
    },
    {
     "data": {
      "text/html": [
       "<table>\n",
       "<caption>A data.frame: 2 × 16</caption>\n",
       "<thead>\n",
       "\t<tr><th></th><th scope=col>logFC</th><th scope=col>AveExpr</th><th scope=col>t</th><th scope=col>P.Value</th><th scope=col>adj.P.Val</th><th scope=col>B</th><th scope=col>initial_gene_id</th><th scope=col>gene_id</th><th scope=col>abs_logFC</th><th scope=col>FoldChange_dummy</th><th scope=col>abundance</th><th scope=col>GeneSymbol</th><th scope=col>Chromosome</th><th scope=col>Class</th><th scope=col>Strand</th><th scope=col>tissue</th></tr>\n",
       "\t<tr><th></th><th scope=col>&lt;dbl&gt;</th><th scope=col>&lt;dbl&gt;</th><th scope=col>&lt;dbl&gt;</th><th scope=col>&lt;dbl&gt;</th><th scope=col>&lt;dbl&gt;</th><th scope=col>&lt;dbl&gt;</th><th scope=col>&lt;chr&gt;</th><th scope=col>&lt;chr&gt;</th><th scope=col>&lt;dbl&gt;</th><th scope=col>&lt;dbl&gt;</th><th scope=col>&lt;chr&gt;</th><th scope=col>&lt;fct&gt;</th><th scope=col>&lt;fct&gt;</th><th scope=col>&lt;fct&gt;</th><th scope=col>&lt;fct&gt;</th><th scope=col>&lt;chr&gt;</th></tr>\n",
       "</thead>\n",
       "<tbody>\n",
       "\t<tr><th scope=row>1</th><td>-9.668735</td><td>4.643844</td><td>-145.5404</td><td>0</td><td>0</td><td>1136.058</td><td>ENSG00000129824.15</td><td>ENSG00000129824</td><td>9.668735</td><td>-813.9156</td><td>lower </td><td>RPS4Y1</td><td>Y:2841602-2932000  </td><td>protein_coding</td><td>+</td><td>Adipose-Subcutaneous</td></tr>\n",
       "\t<tr><th scope=row>2</th><td> 9.907847</td><td>1.246117</td><td> 131.3680</td><td>0</td><td>0</td><td>1079.040</td><td>ENSG00000229807.10</td><td>ENSG00000229807</td><td>9.907847</td><td> 960.6365</td><td>higher</td><td>XIST  </td><td>X:73820649-73852723</td><td>lncRNA        </td><td>-</td><td>Adipose-Subcutaneous</td></tr>\n",
       "</tbody>\n",
       "</table>\n"
      ],
      "text/latex": [
       "A data.frame: 2 × 16\n",
       "\\begin{tabular}{r|llllllllllllllll}\n",
       "  & logFC & AveExpr & t & P.Value & adj.P.Val & B & initial\\_gene\\_id & gene\\_id & abs\\_logFC & FoldChange\\_dummy & abundance & GeneSymbol & Chromosome & Class & Strand & tissue\\\\\n",
       "  & <dbl> & <dbl> & <dbl> & <dbl> & <dbl> & <dbl> & <chr> & <chr> & <dbl> & <dbl> & <chr> & <fct> & <fct> & <fct> & <fct> & <chr>\\\\\n",
       "\\hline\n",
       "\t1 & -9.668735 & 4.643844 & -145.5404 & 0 & 0 & 1136.058 & ENSG00000129824.15 & ENSG00000129824 & 9.668735 & -813.9156 & lower  & RPS4Y1 & Y:2841602-2932000   & protein\\_coding & + & Adipose-Subcutaneous\\\\\n",
       "\t2 &  9.907847 & 1.246117 &  131.3680 & 0 & 0 & 1079.040 & ENSG00000229807.10 & ENSG00000229807 & 9.907847 &  960.6365 & higher & XIST   & X:73820649-73852723 & lncRNA         & - & Adipose-Subcutaneous\\\\\n",
       "\\end{tabular}\n"
      ],
      "text/markdown": [
       "\n",
       "A data.frame: 2 × 16\n",
       "\n",
       "| <!--/--> | logFC &lt;dbl&gt; | AveExpr &lt;dbl&gt; | t &lt;dbl&gt; | P.Value &lt;dbl&gt; | adj.P.Val &lt;dbl&gt; | B &lt;dbl&gt; | initial_gene_id &lt;chr&gt; | gene_id &lt;chr&gt; | abs_logFC &lt;dbl&gt; | FoldChange_dummy &lt;dbl&gt; | abundance &lt;chr&gt; | GeneSymbol &lt;fct&gt; | Chromosome &lt;fct&gt; | Class &lt;fct&gt; | Strand &lt;fct&gt; | tissue &lt;chr&gt; |\n",
       "|---|---|---|---|---|---|---|---|---|---|---|---|---|---|---|---|---|\n",
       "| 1 | -9.668735 | 4.643844 | -145.5404 | 0 | 0 | 1136.058 | ENSG00000129824.15 | ENSG00000129824 | 9.668735 | -813.9156 | lower  | RPS4Y1 | Y:2841602-2932000   | protein_coding | + | Adipose-Subcutaneous |\n",
       "| 2 |  9.907847 | 1.246117 |  131.3680 | 0 | 0 | 1079.040 | ENSG00000229807.10 | ENSG00000229807 | 9.907847 |  960.6365 | higher | XIST   | X:73820649-73852723 | lncRNA         | - | Adipose-Subcutaneous |\n",
       "\n"
      ],
      "text/plain": [
       "  logFC     AveExpr  t         P.Value adj.P.Val B        initial_gene_id   \n",
       "1 -9.668735 4.643844 -145.5404 0       0         1136.058 ENSG00000129824.15\n",
       "2  9.907847 1.246117  131.3680 0       0         1079.040 ENSG00000229807.10\n",
       "  gene_id         abs_logFC FoldChange_dummy abundance GeneSymbol\n",
       "1 ENSG00000129824 9.668735  -813.9156        lower     RPS4Y1    \n",
       "2 ENSG00000229807 9.907847   960.6365        higher    XIST      \n",
       "  Chromosome          Class          Strand tissue              \n",
       "1 Y:2841602-2932000   protein_coding +      Adipose-Subcutaneous\n",
       "2 X:73820649-73852723 lncRNA         -      Adipose-Subcutaneous"
      ]
     },
     "metadata": {},
     "output_type": "display_data"
    }
   ],
   "source": [
    "summary_signif <-structure(list(tissue = character(0), \n",
    "                            non_signif = integer(0), \n",
    "                            lower = integer(0),\n",
    "                            higher = integer(0),\n",
    "                            `% lower` = numeric(0), \n",
    "                            `% higher` = numeric(0), \n",
    "                            `% non-signif` = numeric(0)), \n",
    "                       row.names = integer(0), \n",
    "                       class = \"data.frame\")\n",
    "\n",
    "signif_template <- structure(list(higher = integer(0), \n",
    "                                   lower = integer(0), \n",
    "                                   non_signif = integer(0)), \n",
    "                              row.names = integer(0), class = \"data.frame\")\n",
    "\n",
    "signif_per_tissue <- structure(list(logFC = numeric(0), AveExpr = numeric(0), t = numeric(0), \n",
    "                        P.Value = numeric(0), adj.P.Val = numeric(0), B = numeric(0), \n",
    "                        initial_gene_id = character(0), gene_id = character(0), abs_logFC = numeric(0), \n",
    "                        FoldChange_dummy = numeric(0), abundance = character(0), \n",
    "                        GeneSymbol = character(0), Chromosome = character(0), Class = character(0), \n",
    "                        Strand = character(0), tissue = character(0)), row.names = integer(0), class = \"data.frame\")\n",
    "\n",
    "\n",
    "for (i in seq_along(all_topTables)){\n",
    "    topTable <- all_topTables[[i]]\n",
    "    name     <- names(all_topTables)[i] \n",
    "    initial_gene_id <- paste0(\"initial_\", GENE_ID)\n",
    "    topTable[[initial_gene_id]] <- rownames(topTable)\n",
    "    topTable[[GENE_ID]]  <- gsub(\"\\\\..*\",\"\", rownames(topTable))\n",
    "    # replacing NA p-values with p-value = 1\n",
    "    topTable$P.Value[is.na(topTable$P.Value)]     <- 1; \n",
    "    topTable$adj.P.Val[is.na(topTable$adj.P.Val)] <- 1;\n",
    "    topTable$abs_logFC <- abs(topTable$logFC)\n",
    "    # Add helper variable dummy `FoldChange` variable. Use 2 as base of log, because this is the default from limma\n",
    "    # The following statement calculates a dummy fold change (how many times higher or lower)\n",
    "    # The minus symbol is a convention symbol only! to express eg. a fold change of 0.25 as -4, 4 times lower\n",
    "    topTable$FoldChange_dummy    <-   ifelse(topTable$logFC > 0, 2 ^ topTable$logFC, -1 / (2 ^ topTable$logFC))                    \n",
    "\n",
    "    # Add helper variable `abs_logFC`.\n",
    "    topTable$abs_logFC <- abs(topTable$logFC)\n",
    "\n",
    "    # Add helper variable `abundance` for up, down, non_signif\n",
    "    topTable$abundance                                                  <- \"non_signif\"\n",
    "    topTable$abundance[(topTable$logFC >   log2(absFoldChange_cutoff)) & (topTable$adj.P.Val <= adj.P.Val_threshold )]   <- \"higher\"\n",
    "    topTable$abundance[(topTable$logFC <  -log2(absFoldChange_cutoff)) & (topTable$adj.P.Val <= adj.P.Val_threshold )]   <- \"lower\"\n",
    "    before_gtf_merge <- dim(topTable)[1]\n",
    "    topTable <- dplyr::left_join(topTable, GTF, by = GENE_ID)\n",
    "    topTable_signif <- topTable[ topTable$abundance != \"non_signif\", ]\n",
    "    topTable_signif$tissue <- name\n",
    "    signif_per_tissue <- rbind(signif_per_tissue, topTable_signif )\n",
    "    data.table::fwrite(file = paste0(\"../data/signif_\", snakecase::to_snake_case(name), \".csv\"), topTable_signif)\n",
    "    after_gtf_merge <- dim(topTable)[1]\n",
    "    message( name, \", N features before GTF merge: \",before_gtf_merge, \", after: \", after_gtf_merge)\n",
    "    expression_abundance <- t(table(topTable$abundance))\n",
    "    signif <- as.data.frame.matrix(expression_abundance)\n",
    "    if(! (\"higher\" %in% colnames(signif))) {\n",
    "        signif$higher <- 0\n",
    "    }\n",
    "    if(! (\"lower\" %in% colnames(signif))) {\n",
    "        signif$lower <- 0\n",
    "    }\n",
    "    signif$tissue <- name\n",
    "    signif$sum    <-   signif$non_signif + signif$higher + signif$lower\n",
    "    toKeepInOrder <- c(\"tissue\", \"non_signif\", \"lower\", \"higher\", \"% lower\", \"% higher\", \"% non-signif\")\n",
    "    signif$`% higher`     <-  round(signif$higher / signif$sum  * 100, 2)\n",
    "    signif$`% lower`      <-  round(signif$lower / signif$sum  * 100, 2)\n",
    "    signif$`% non-signif` <-  round(signif$non_signif / signif$sum  * 100, 2)\n",
    "    signif <- signif[, toKeepInOrder]\n",
    "    summary_signif <- rbind(summary_signif, signif)   \n",
    "}\n",
    "\n",
    "summary_signif <- summary_signif[order(summary_signif$`% non-signif`), ]\n",
    "head(summary_signif , 2)\n",
    "head(signif_per_tissue, 2)"
   ]
  },
  {
   "cell_type": "markdown",
   "metadata": {},
   "source": [
    "# Defining higher in males or females based on the limma design matrix\n",
    "As we have used 1 for encoding the males and 2 for the females, our *reference level* for the contrast in the expression between males and females is 1, the males.\n",
    "\n",
    "\n",
    "From the `limma` documentation:\n",
    ">The level which is chosen for the *reference level* is the level which is contrasted against. By default, this is simply the first level alphabetically. We can specify that we want group 2 to be the reference level by either using the relevel function [..]\n",
    "\n",
    "By convention, we could say that genes with positive log fold change, are higher in females, whereas the opposite holds true for the ones that are observed to have negative log folde change. "
   ]
  },
  {
   "cell_type": "code",
   "execution_count": 34,
   "metadata": {},
   "outputs": [
    {
     "data": {
      "text/html": [
       "<table>\n",
       "<caption>A data.frame: 1 × 9</caption>\n",
       "<thead>\n",
       "\t<tr><th></th><th scope=col>tissue</th><th scope=col>non_signif</th><th scope=col>lower</th><th scope=col>higher</th><th scope=col>% lower</th><th scope=col>% higher</th><th scope=col>% non-signif</th><th scope=col>higher in males</th><th scope=col>higher in females</th></tr>\n",
       "\t<tr><th></th><th scope=col>&lt;chr&gt;</th><th scope=col>&lt;int&gt;</th><th scope=col>&lt;dbl&gt;</th><th scope=col>&lt;int&gt;</th><th scope=col>&lt;dbl&gt;</th><th scope=col>&lt;dbl&gt;</th><th scope=col>&lt;dbl&gt;</th><th scope=col>&lt;dbl&gt;</th><th scope=col>&lt;int&gt;</th></tr>\n",
       "</thead>\n",
       "<tbody>\n",
       "\t<tr><th scope=row>1</th><td>Adipose-Subcutaneous</td><td>15620</td><td>195</td><td>80</td><td>1.23</td><td>0.5</td><td>98.27</td><td>195</td><td>80</td></tr>\n",
       "</tbody>\n",
       "</table>\n"
      ],
      "text/latex": [
       "A data.frame: 1 × 9\n",
       "\\begin{tabular}{r|lllllllll}\n",
       "  & tissue & non\\_signif & lower & higher & \\% lower & \\% higher & \\% non-signif & higher in males & higher in females\\\\\n",
       "  & <chr> & <int> & <dbl> & <int> & <dbl> & <dbl> & <dbl> & <dbl> & <int>\\\\\n",
       "\\hline\n",
       "\t1 & Adipose-Subcutaneous & 15620 & 195 & 80 & 1.23 & 0.5 & 98.27 & 195 & 80\\\\\n",
       "\\end{tabular}\n"
      ],
      "text/markdown": [
       "\n",
       "A data.frame: 1 × 9\n",
       "\n",
       "| <!--/--> | tissue &lt;chr&gt; | non_signif &lt;int&gt; | lower &lt;dbl&gt; | higher &lt;int&gt; | % lower &lt;dbl&gt; | % higher &lt;dbl&gt; | % non-signif &lt;dbl&gt; | higher in males &lt;dbl&gt; | higher in females &lt;int&gt; |\n",
       "|---|---|---|---|---|---|---|---|---|---|\n",
       "| 1 | Adipose-Subcutaneous | 15620 | 195 | 80 | 1.23 | 0.5 | 98.27 | 195 | 80 |\n",
       "\n"
      ],
      "text/plain": [
       "  tissue               non_signif lower higher % lower % higher % non-signif\n",
       "1 Adipose-Subcutaneous 15620      195   80     1.23    0.5      98.27       \n",
       "  higher in males higher in females\n",
       "1 195             80               "
      ]
     },
     "metadata": {},
     "output_type": "display_data"
    }
   ],
   "source": [
    "summary_signif$`higher in males`   <- summary_signif$lower\n",
    "summary_signif$`higher in females` <- summary_signif$higher\n",
    "head(summary_signif[summary_signif$tissue == \"Adipose-Subcutaneous\", ])"
   ]
  },
  {
   "cell_type": "markdown",
   "metadata": {},
   "source": [
    "# Preparing the summary table for plotting\n",
    "\n",
    "We will need to aggregate the number of genes in one column in order to be able to plot, and also convert the `Tissue` column to a factor. We will use the `reshape` R package to *melt* the dataframe from a wide to a long version, as described above:"
   ]
  },
  {
   "cell_type": "code",
   "execution_count": 35,
   "metadata": {},
   "outputs": [
    {
     "data": {
      "text/html": [
       "<table>\n",
       "<caption>A data.frame: 2 × 3</caption>\n",
       "<thead>\n",
       "\t<tr><th></th><th scope=col>Tissue</th><th scope=col>Sex Bias</th><th scope=col>Number of Genes</th></tr>\n",
       "\t<tr><th></th><th scope=col>&lt;fct&gt;</th><th scope=col>&lt;fct&gt;</th><th scope=col>&lt;dbl&gt;</th></tr>\n",
       "</thead>\n",
       "<tbody>\n",
       "\t<tr><th scope=row>3</th><td>Adipose-Subcutaneous</td><td>higher in males  </td><td>195</td></tr>\n",
       "\t<tr><th scope=row>49</th><td>Adipose-Subcutaneous</td><td>higher in females</td><td> 80</td></tr>\n",
       "</tbody>\n",
       "</table>\n"
      ],
      "text/latex": [
       "A data.frame: 2 × 3\n",
       "\\begin{tabular}{r|lll}\n",
       "  & Tissue & Sex Bias & Number of Genes\\\\\n",
       "  & <fct> & <fct> & <dbl>\\\\\n",
       "\\hline\n",
       "\t3 & Adipose-Subcutaneous & higher in males   & 195\\\\\n",
       "\t49 & Adipose-Subcutaneous & higher in females &  80\\\\\n",
       "\\end{tabular}\n"
      ],
      "text/markdown": [
       "\n",
       "A data.frame: 2 × 3\n",
       "\n",
       "| <!--/--> | Tissue &lt;fct&gt; | Sex Bias &lt;fct&gt; | Number of Genes &lt;dbl&gt; |\n",
       "|---|---|---|---|\n",
       "| 3 | Adipose-Subcutaneous | higher in males   | 195 |\n",
       "| 49 | Adipose-Subcutaneous | higher in females |  80 |\n",
       "\n"
      ],
      "text/plain": [
       "   Tissue               Sex Bias          Number of Genes\n",
       "3  Adipose-Subcutaneous higher in males   195            \n",
       "49 Adipose-Subcutaneous higher in females  80            "
      ]
     },
     "metadata": {},
     "output_type": "display_data"
    }
   ],
   "source": [
    "toPlot <- summary_signif[, c( \"tissue\", \"higher in males\", \"higher in females\")]\n",
    "toPlot <- reshape::melt(toPlot, id=c(\"tissue\"))\n",
    "toPlot$tissue <- as.factor(toPlot$tissue)\n",
    "colnames(toPlot) <- c(\"Tissue\", \"Sex Bias\", \"Number of Genes\")\n",
    "head(toPlot[toPlot$Tissue == \"Adipose-Subcutaneous\", ])"
   ]
  },
  {
   "cell_type": "code",
   "execution_count": 71,
   "metadata": {},
   "outputs": [
    {
     "data": {
      "image/png": "[encoded data removed]",
      "text/plain": [
       "plot without title"
      ]
     },
     "metadata": {},
     "output_type": "display_data"
    }
   ],
   "source": [
    "\n",
    "#options(repr.plot.width=15.5, repr.plot.height=20)\n",
    "\n",
    "ggplot(toPlot, aes(x = Tissue, y = `Number of Genes`, fill = `Sex Bias`)) + \n",
    "  geom_bar(stat=\"identity\", position = \"dodge\") + \n",
    "  scale_fill_manual (values = c( \"higher in males\" = \"#4A637B\" , \"higher in females\" = \"#f35f71\")) + \n",
    "  \n",
    "  theme(text              = element_text(color = \"#4A637B\", face = \"bold\", family = 'Helvetica')\n",
    "        ,plot.caption     = element_text(size =  12, color = \"#8d99ae\", face = \"plain\", hjust= 1.05) \n",
    "        ,plot.title       = element_text(size =  18, color = \"#2b2d42\", face = \"bold\", hjust= 0.5)\n",
    "        ,axis.text.y      = element_text(angle =  0, size = 10, color = \"#8d99ae\", face = \"bold\", hjust=1.1)\n",
    "        ,axis.text.x      = element_text(angle = 70, size = 12, color = \"#8d99ae\", face = \"bold\", hjust=1.1)\n",
    "        ,axis.title.x     = element_blank()\n",
    "        ,axis.ticks.x     = element_blank()\n",
    "        ,axis.ticks.y     = element_blank()\n",
    "        ,plot.margin      = unit(c(1,1,1,1),\"cm\")\n",
    "        ,panel.background = element_blank()\n",
    "        ,legend.position  = \"right\") +\n",
    "  \n",
    "\n",
    "  geom_text(aes(y = `Number of Genes` + 15, \n",
    "                label = `Number of Genes`),\n",
    "                size = 3,\n",
    "                color     = \"#4A637B\",\n",
    "                position  =  position_dodge(width = 1),\n",
    "                family    = 'Helvetica') +\n",
    "  \n",
    "  labs(title   = \"Number of genes with higher expression in each sex per tissue\\n\",\n",
    "       caption = \"\\nsource: 'The impact of sex on alternative splicing'\\n doi: https://doi.org/10.1101/490904\",\n",
    "       y   = \"\\nNumber of Differentially Expressed Genes\")  + coord_flip()\n",
    "\n"
   ]
  },
  {
   "cell_type": "markdown",
   "metadata": {},
   "source": [
    "# Mutually exclusive sex biased genes (higher expression in one or the other sex only)\n",
    "\n",
    "\n",
    "The dataframe `signif_per_tissue` contains all the information for the genes that were significantly higher in either of the two sexes. WLet's examine how many mutually exclusive genes were found across all examined tissues. Ensembl encodes as `Chromosome` the chromosomal position, so we will create the required variables to retrieve only the chromosome information for producing summary statistics."
   ]
  },
  {
   "cell_type": "code",
   "execution_count": 37,
   "metadata": {},
   "outputs": [
    {
     "name": "stdout",
     "output_type": "stream",
     "text": [
      "c(\"logFC\", \"AveExpr\", \"t\", \"P.Value\", \"adj.P.Val\", \"B\", \"initial_gene_id\", \n",
      "\"gene_id\", \"abs_logFC\", \"FoldChange_dummy\", \"abundance\", \"GeneSymbol\", \n",
      "\"Chromosome\", \"Class\", \"Strand\", \"tissue\")\n"
     ]
    }
   ],
   "source": [
    "dput(colnames(signif_per_tissue))"
   ]
  },
  {
   "cell_type": "code",
   "execution_count": 38,
   "metadata": {},
   "outputs": [
    {
     "data": {
      "text/html": [
       "<table>\n",
       "<caption>A data.frame: 4 × 19</caption>\n",
       "<thead>\n",
       "\t<tr><th></th><th scope=col>initial_gene_id</th><th scope=col>GeneSymbol</th><th scope=col>logFC</th><th scope=col>adj.P.Val</th><th scope=col>abundance</th><th scope=col>higher_in</th><th scope=col>tissue</th><th scope=col>Chromosome</th><th scope=col>gene_id</th><th scope=col>abs_logFC</th><th scope=col>FoldChange_dummy</th><th scope=col>Class</th><th scope=col>Strand</th><th scope=col>Chromosomal_Position</th><th scope=col>AveExpr</th><th scope=col>t</th><th scope=col>P.Value</th><th scope=col>adj.P.Val.1</th><th scope=col>B</th></tr>\n",
       "\t<tr><th></th><th scope=col>&lt;chr&gt;</th><th scope=col>&lt;fct&gt;</th><th scope=col>&lt;dbl&gt;</th><th scope=col>&lt;dbl&gt;</th><th scope=col>&lt;chr&gt;</th><th scope=col>&lt;chr&gt;</th><th scope=col>&lt;chr&gt;</th><th scope=col>&lt;chr&gt;</th><th scope=col>&lt;chr&gt;</th><th scope=col>&lt;dbl&gt;</th><th scope=col>&lt;dbl&gt;</th><th scope=col>&lt;fct&gt;</th><th scope=col>&lt;fct&gt;</th><th scope=col>&lt;fct&gt;</th><th scope=col>&lt;dbl&gt;</th><th scope=col>&lt;dbl&gt;</th><th scope=col>&lt;dbl&gt;</th><th scope=col>&lt;dbl&gt;</th><th scope=col>&lt;dbl&gt;</th></tr>\n",
       "</thead>\n",
       "<tbody>\n",
       "\t<tr><th scope=row>1</th><td>ENSG00000129824.15</td><td>RPS4Y1</td><td>-9.668735</td><td>0</td><td>lower </td><td>males  </td><td>Adipose-Subcutaneous</td><td>Y</td><td>ENSG00000129824</td><td>9.668735</td><td>-813.9156</td><td>protein_coding</td><td>+</td><td>Y:2841602-2932000  </td><td> 4.6438444</td><td>-145.5404</td><td>0</td><td>0</td><td>1136.0576</td></tr>\n",
       "\t<tr><th scope=row>2</th><td>ENSG00000229807.10</td><td>XIST  </td><td> 9.907847</td><td>0</td><td>higher</td><td>females</td><td>Adipose-Subcutaneous</td><td>X</td><td>ENSG00000229807</td><td>9.907847</td><td> 960.6365</td><td>lncRNA        </td><td>-</td><td>X:73820649-73852723</td><td> 1.2461171</td><td> 131.3680</td><td>0</td><td>0</td><td>1079.0402</td></tr>\n",
       "\t<tr><th scope=row>3</th><td>ENSG00000067048.16</td><td>DDX3Y </td><td>-9.698380</td><td>0</td><td>lower </td><td>males  </td><td>Adipose-Subcutaneous</td><td>Y</td><td>ENSG00000067048</td><td>9.698380</td><td>-830.8129</td><td>protein_coding</td><td>+</td><td>Y:12904108-12920478</td><td> 3.7021122</td><td>-108.3868</td><td>0</td><td>0</td><td> 952.4945</td></tr>\n",
       "\t<tr><th scope=row>4</th><td>ENSG00000176728.7 </td><td>TTTY14</td><td>-8.082798</td><td>0</td><td>lower </td><td>males  </td><td>Adipose-Subcutaneous</td><td>Y</td><td>ENSG00000176728</td><td>8.082798</td><td>-271.1219</td><td>lncRNA        </td><td>-</td><td>Y:18772706-19077563</td><td>-0.9202562</td><td>-105.5946</td><td>0</td><td>0</td><td> 922.2647</td></tr>\n",
       "</tbody>\n",
       "</table>\n"
      ],
      "text/latex": [
       "A data.frame: 4 × 19\n",
       "\\begin{tabular}{r|lllllllllllllllllll}\n",
       "  & initial\\_gene\\_id & GeneSymbol & logFC & adj.P.Val & abundance & higher\\_in & tissue & Chromosome & gene\\_id & abs\\_logFC & FoldChange\\_dummy & Class & Strand & Chromosomal\\_Position & AveExpr & t & P.Value & adj.P.Val.1 & B\\\\\n",
       "  & <chr> & <fct> & <dbl> & <dbl> & <chr> & <chr> & <chr> & <chr> & <chr> & <dbl> & <dbl> & <fct> & <fct> & <fct> & <dbl> & <dbl> & <dbl> & <dbl> & <dbl>\\\\\n",
       "\\hline\n",
       "\t1 & ENSG00000129824.15 & RPS4Y1 & -9.668735 & 0 & lower  & males   & Adipose-Subcutaneous & Y & ENSG00000129824 & 9.668735 & -813.9156 & protein\\_coding & + & Y:2841602-2932000   &  4.6438444 & -145.5404 & 0 & 0 & 1136.0576\\\\\n",
       "\t2 & ENSG00000229807.10 & XIST   &  9.907847 & 0 & higher & females & Adipose-Subcutaneous & X & ENSG00000229807 & 9.907847 &  960.6365 & lncRNA         & - & X:73820649-73852723 &  1.2461171 &  131.3680 & 0 & 0 & 1079.0402\\\\\n",
       "\t3 & ENSG00000067048.16 & DDX3Y  & -9.698380 & 0 & lower  & males   & Adipose-Subcutaneous & Y & ENSG00000067048 & 9.698380 & -830.8129 & protein\\_coding & + & Y:12904108-12920478 &  3.7021122 & -108.3868 & 0 & 0 &  952.4945\\\\\n",
       "\t4 & ENSG00000176728.7  & TTTY14 & -8.082798 & 0 & lower  & males   & Adipose-Subcutaneous & Y & ENSG00000176728 & 8.082798 & -271.1219 & lncRNA         & - & Y:18772706-19077563 & -0.9202562 & -105.5946 & 0 & 0 &  922.2647\\\\\n",
       "\\end{tabular}\n"
      ],
      "text/markdown": [
       "\n",
       "A data.frame: 4 × 19\n",
       "\n",
       "| <!--/--> | initial_gene_id &lt;chr&gt; | GeneSymbol &lt;fct&gt; | logFC &lt;dbl&gt; | adj.P.Val &lt;dbl&gt; | abundance &lt;chr&gt; | higher_in &lt;chr&gt; | tissue &lt;chr&gt; | Chromosome &lt;chr&gt; | gene_id &lt;chr&gt; | abs_logFC &lt;dbl&gt; | FoldChange_dummy &lt;dbl&gt; | Class &lt;fct&gt; | Strand &lt;fct&gt; | Chromosomal_Position &lt;fct&gt; | AveExpr &lt;dbl&gt; | t &lt;dbl&gt; | P.Value &lt;dbl&gt; | adj.P.Val.1 &lt;dbl&gt; | B &lt;dbl&gt; |\n",
       "|---|---|---|---|---|---|---|---|---|---|---|---|---|---|---|---|---|---|---|---|\n",
       "| 1 | ENSG00000129824.15 | RPS4Y1 | -9.668735 | 0 | lower  | males   | Adipose-Subcutaneous | Y | ENSG00000129824 | 9.668735 | -813.9156 | protein_coding | + | Y:2841602-2932000   |  4.6438444 | -145.5404 | 0 | 0 | 1136.0576 |\n",
       "| 2 | ENSG00000229807.10 | XIST   |  9.907847 | 0 | higher | females | Adipose-Subcutaneous | X | ENSG00000229807 | 9.907847 |  960.6365 | lncRNA         | - | X:73820649-73852723 |  1.2461171 |  131.3680 | 0 | 0 | 1079.0402 |\n",
       "| 3 | ENSG00000067048.16 | DDX3Y  | -9.698380 | 0 | lower  | males   | Adipose-Subcutaneous | Y | ENSG00000067048 | 9.698380 | -830.8129 | protein_coding | + | Y:12904108-12920478 |  3.7021122 | -108.3868 | 0 | 0 |  952.4945 |\n",
       "| 4 | ENSG00000176728.7  | TTTY14 | -8.082798 | 0 | lower  | males   | Adipose-Subcutaneous | Y | ENSG00000176728 | 8.082798 | -271.1219 | lncRNA         | - | Y:18772706-19077563 | -0.9202562 | -105.5946 | 0 | 0 |  922.2647 |\n",
       "\n"
      ],
      "text/plain": [
       "  initial_gene_id    GeneSymbol logFC     adj.P.Val abundance higher_in\n",
       "1 ENSG00000129824.15 RPS4Y1     -9.668735 0         lower     males    \n",
       "2 ENSG00000229807.10 XIST        9.907847 0         higher    females  \n",
       "3 ENSG00000067048.16 DDX3Y      -9.698380 0         lower     males    \n",
       "4 ENSG00000176728.7  TTTY14     -8.082798 0         lower     males    \n",
       "  tissue               Chromosome gene_id         abs_logFC FoldChange_dummy\n",
       "1 Adipose-Subcutaneous Y          ENSG00000129824 9.668735  -813.9156       \n",
       "2 Adipose-Subcutaneous X          ENSG00000229807 9.907847   960.6365       \n",
       "3 Adipose-Subcutaneous Y          ENSG00000067048 9.698380  -830.8129       \n",
       "4 Adipose-Subcutaneous Y          ENSG00000176728 8.082798  -271.1219       \n",
       "  Class          Strand Chromosomal_Position AveExpr    t         P.Value\n",
       "1 protein_coding +      Y:2841602-2932000     4.6438444 -145.5404 0      \n",
       "2 lncRNA         -      X:73820649-73852723   1.2461171  131.3680 0      \n",
       "3 protein_coding +      Y:12904108-12920478   3.7021122 -108.3868 0      \n",
       "4 lncRNA         -      Y:18772706-19077563  -0.9202562 -105.5946 0      \n",
       "  adj.P.Val.1 B        \n",
       "1 0           1136.0576\n",
       "2 0           1079.0402\n",
       "3 0            952.4945\n",
       "4 0            922.2647"
      ]
     },
     "metadata": {},
     "output_type": "display_data"
    }
   ],
   "source": [
    "signif_per_tissue$Chromosomal_Position <- signif_per_tissue$Chromosome\n",
    "signif_per_tissue$Chromosome <- gsub(\"\\\\:.*\",\"\", signif_per_tissue$Chromosome)\n",
    "signif_per_tissue$higher_in  <- 0\n",
    "signif_per_tissue$higher_in[(signif_per_tissue$abundance == \"lower\" )] <- \"males\"\n",
    "signif_per_tissue$higher_in[(signif_per_tissue$abundance == \"higher\" )] <- \"females\"\n",
    "toKeepInOrder <- c( paste0(\"initial_\", GENE_ID), \"GeneSymbol\", \"logFC\",  \"adj.P.Val\", \"abundance\", \"higher_in\",  \"tissue\", \"Chromosome\", \n",
    "GENE_ID, \"abs_logFC\", \"FoldChange_dummy\", \n",
    "\"Class\", \"Strand\",\"Chromosomal_Position\", \n",
    " \"AveExpr\", \"t\", \"P.Value\", \"adj.P.Val\", \"B\")\n",
    "signif_per_tissue <- signif_per_tissue[, toKeepInOrder]\n",
    "head(signif_per_tissue, 4)"
   ]
  },
  {
   "cell_type": "markdown",
   "metadata": {},
   "source": [
    "# Examine mutually exclusive genes upregulated in each sex"
   ]
  },
  {
   "cell_type": "code",
   "execution_count": 39,
   "metadata": {},
   "outputs": [
    {
     "data": {
      "text/html": [
       "1301"
      ],
      "text/latex": [
       "1301"
      ],
      "text/markdown": [
       "1301"
      ],
      "text/plain": [
       "[1] 1301"
      ]
     },
     "metadata": {},
     "output_type": "display_data"
    },
    {
     "data": {
      "text/html": [
       "1816"
      ],
      "text/latex": [
       "1816"
      ],
      "text/markdown": [
       "1816"
      ],
      "text/plain": [
       "[1] 1816"
      ]
     },
     "metadata": {},
     "output_type": "display_data"
    }
   ],
   "source": [
    "female_biased <- unique(signif_per_tissue[[paste0(\"initial_\", GENE_ID)]] [ signif_per_tissue$higher_in == \"females\" ] )\n",
    "male_biased   <- unique(signif_per_tissue[[paste0(\"initial_\", GENE_ID)]] [ signif_per_tissue$higher_in == \"males\"  ] )\n",
    "\n",
    "length(male_biased)\n",
    "length(female_biased)"
   ]
  },
  {
   "cell_type": "code",
   "execution_count": 40,
   "metadata": {},
   "outputs": [
    {
     "data": {
      "text/html": [
       "462"
      ],
      "text/latex": [
       "462"
      ],
      "text/markdown": [
       "462"
      ],
      "text/plain": [
       "[1] 462"
      ]
     },
     "metadata": {},
     "output_type": "display_data"
    },
    {
     "data": {
      "text/html": [
       "462"
      ],
      "text/latex": [
       "462"
      ],
      "text/markdown": [
       "462"
      ],
      "text/plain": [
       "[1] 462"
      ]
     },
     "metadata": {},
     "output_type": "display_data"
    }
   ],
   "source": [
    "## Present in both\n",
    "\n",
    "length((intersect(male_biased, female_biased)))\n",
    "length((intersect(female_biased, male_biased)))\n",
    "\n",
    "intersect <- (intersect(male_biased, female_biased))\n"
   ]
  },
  {
   "cell_type": "code",
   "execution_count": 41,
   "metadata": {},
   "outputs": [
    {
     "data": {
      "text/html": [
       "839"
      ],
      "text/latex": [
       "839"
      ],
      "text/markdown": [
       "839"
      ],
      "text/plain": [
       "[1] 839"
      ]
     },
     "metadata": {},
     "output_type": "display_data"
    },
    {
     "data": {
      "text/html": [
       "1354"
      ],
      "text/latex": [
       "1354"
      ],
      "text/markdown": [
       "1354"
      ],
      "text/plain": [
       "[1] 1354"
      ]
     },
     "metadata": {},
     "output_type": "display_data"
    }
   ],
   "source": [
    "## Only in males\n",
    "length(male_biased[! (male_biased %in% intersect)])\n",
    "\n",
    "## Only females\n",
    "length(female_biased[! (female_biased %in% intersect)])"
   ]
  },
  {
   "cell_type": "code",
   "execution_count": 42,
   "metadata": {},
   "outputs": [
    {
     "data": {
      "text/html": [
       "<table>\n",
       "<caption>A data.frame: 4 × 19</caption>\n",
       "<thead>\n",
       "\t<tr><th></th><th scope=col>initial_gene_id</th><th scope=col>GeneSymbol</th><th scope=col>logFC</th><th scope=col>adj.P.Val</th><th scope=col>abundance</th><th scope=col>higher_in</th><th scope=col>tissue</th><th scope=col>Chromosome</th><th scope=col>gene_id</th><th scope=col>abs_logFC</th><th scope=col>FoldChange_dummy</th><th scope=col>Class</th><th scope=col>Strand</th><th scope=col>Chromosomal_Position</th><th scope=col>AveExpr</th><th scope=col>t</th><th scope=col>P.Value</th><th scope=col>adj.P.Val.1</th><th scope=col>B</th></tr>\n",
       "\t<tr><th></th><th scope=col>&lt;chr&gt;</th><th scope=col>&lt;fct&gt;</th><th scope=col>&lt;dbl&gt;</th><th scope=col>&lt;dbl&gt;</th><th scope=col>&lt;chr&gt;</th><th scope=col>&lt;chr&gt;</th><th scope=col>&lt;chr&gt;</th><th scope=col>&lt;chr&gt;</th><th scope=col>&lt;chr&gt;</th><th scope=col>&lt;dbl&gt;</th><th scope=col>&lt;dbl&gt;</th><th scope=col>&lt;fct&gt;</th><th scope=col>&lt;fct&gt;</th><th scope=col>&lt;fct&gt;</th><th scope=col>&lt;dbl&gt;</th><th scope=col>&lt;dbl&gt;</th><th scope=col>&lt;dbl&gt;</th><th scope=col>&lt;dbl&gt;</th><th scope=col>&lt;dbl&gt;</th></tr>\n",
       "</thead>\n",
       "<tbody>\n",
       "\t<tr><th scope=row>1</th><td>ENSG00000129824.15</td><td>RPS4Y1</td><td>-9.668735</td><td>0</td><td>lower</td><td>males</td><td>Adipose-Subcutaneous</td><td>Y</td><td>ENSG00000129824</td><td>9.668735</td><td>-813.9156</td><td>protein_coding</td><td>+</td><td>Y:2841602-2932000  </td><td> 4.6438444</td><td>-145.5404</td><td>0</td><td>0</td><td>1136.0576</td></tr>\n",
       "\t<tr><th scope=row>3</th><td>ENSG00000067048.16</td><td>DDX3Y </td><td>-9.698380</td><td>0</td><td>lower</td><td>males</td><td>Adipose-Subcutaneous</td><td>Y</td><td>ENSG00000067048</td><td>9.698380</td><td>-830.8129</td><td>protein_coding</td><td>+</td><td>Y:12904108-12920478</td><td> 3.7021122</td><td>-108.3868</td><td>0</td><td>0</td><td> 952.4945</td></tr>\n",
       "\t<tr><th scope=row>4</th><td>ENSG00000176728.7 </td><td>TTTY14</td><td>-8.082798</td><td>0</td><td>lower</td><td>males</td><td>Adipose-Subcutaneous</td><td>Y</td><td>ENSG00000176728</td><td>8.082798</td><td>-271.1219</td><td>lncRNA        </td><td>-</td><td>Y:18772706-19077563</td><td>-0.9202562</td><td>-105.5946</td><td>0</td><td>0</td><td> 922.2647</td></tr>\n",
       "\t<tr><th scope=row>5</th><td>ENSG00000012817.15</td><td>KDM5D </td><td>-9.608969</td><td>0</td><td>lower</td><td>males</td><td>Adipose-Subcutaneous</td><td>Y</td><td>ENSG00000012817</td><td>9.608969</td><td>-780.8863</td><td>protein_coding</td><td>-</td><td>Y:19703865-19744939</td><td> 3.4369019</td><td>-101.8719</td><td>0</td><td>0</td><td> 914.3474</td></tr>\n",
       "</tbody>\n",
       "</table>\n"
      ],
      "text/latex": [
       "A data.frame: 4 × 19\n",
       "\\begin{tabular}{r|lllllllllllllllllll}\n",
       "  & initial\\_gene\\_id & GeneSymbol & logFC & adj.P.Val & abundance & higher\\_in & tissue & Chromosome & gene\\_id & abs\\_logFC & FoldChange\\_dummy & Class & Strand & Chromosomal\\_Position & AveExpr & t & P.Value & adj.P.Val.1 & B\\\\\n",
       "  & <chr> & <fct> & <dbl> & <dbl> & <chr> & <chr> & <chr> & <chr> & <chr> & <dbl> & <dbl> & <fct> & <fct> & <fct> & <dbl> & <dbl> & <dbl> & <dbl> & <dbl>\\\\\n",
       "\\hline\n",
       "\t1 & ENSG00000129824.15 & RPS4Y1 & -9.668735 & 0 & lower & males & Adipose-Subcutaneous & Y & ENSG00000129824 & 9.668735 & -813.9156 & protein\\_coding & + & Y:2841602-2932000   &  4.6438444 & -145.5404 & 0 & 0 & 1136.0576\\\\\n",
       "\t3 & ENSG00000067048.16 & DDX3Y  & -9.698380 & 0 & lower & males & Adipose-Subcutaneous & Y & ENSG00000067048 & 9.698380 & -830.8129 & protein\\_coding & + & Y:12904108-12920478 &  3.7021122 & -108.3868 & 0 & 0 &  952.4945\\\\\n",
       "\t4 & ENSG00000176728.7  & TTTY14 & -8.082798 & 0 & lower & males & Adipose-Subcutaneous & Y & ENSG00000176728 & 8.082798 & -271.1219 & lncRNA         & - & Y:18772706-19077563 & -0.9202562 & -105.5946 & 0 & 0 &  922.2647\\\\\n",
       "\t5 & ENSG00000012817.15 & KDM5D  & -9.608969 & 0 & lower & males & Adipose-Subcutaneous & Y & ENSG00000012817 & 9.608969 & -780.8863 & protein\\_coding & - & Y:19703865-19744939 &  3.4369019 & -101.8719 & 0 & 0 &  914.3474\\\\\n",
       "\\end{tabular}\n"
      ],
      "text/markdown": [
       "\n",
       "A data.frame: 4 × 19\n",
       "\n",
       "| <!--/--> | initial_gene_id &lt;chr&gt; | GeneSymbol &lt;fct&gt; | logFC &lt;dbl&gt; | adj.P.Val &lt;dbl&gt; | abundance &lt;chr&gt; | higher_in &lt;chr&gt; | tissue &lt;chr&gt; | Chromosome &lt;chr&gt; | gene_id &lt;chr&gt; | abs_logFC &lt;dbl&gt; | FoldChange_dummy &lt;dbl&gt; | Class &lt;fct&gt; | Strand &lt;fct&gt; | Chromosomal_Position &lt;fct&gt; | AveExpr &lt;dbl&gt; | t &lt;dbl&gt; | P.Value &lt;dbl&gt; | adj.P.Val.1 &lt;dbl&gt; | B &lt;dbl&gt; |\n",
       "|---|---|---|---|---|---|---|---|---|---|---|---|---|---|---|---|---|---|---|---|\n",
       "| 1 | ENSG00000129824.15 | RPS4Y1 | -9.668735 | 0 | lower | males | Adipose-Subcutaneous | Y | ENSG00000129824 | 9.668735 | -813.9156 | protein_coding | + | Y:2841602-2932000   |  4.6438444 | -145.5404 | 0 | 0 | 1136.0576 |\n",
       "| 3 | ENSG00000067048.16 | DDX3Y  | -9.698380 | 0 | lower | males | Adipose-Subcutaneous | Y | ENSG00000067048 | 9.698380 | -830.8129 | protein_coding | + | Y:12904108-12920478 |  3.7021122 | -108.3868 | 0 | 0 |  952.4945 |\n",
       "| 4 | ENSG00000176728.7  | TTTY14 | -8.082798 | 0 | lower | males | Adipose-Subcutaneous | Y | ENSG00000176728 | 8.082798 | -271.1219 | lncRNA         | - | Y:18772706-19077563 | -0.9202562 | -105.5946 | 0 | 0 |  922.2647 |\n",
       "| 5 | ENSG00000012817.15 | KDM5D  | -9.608969 | 0 | lower | males | Adipose-Subcutaneous | Y | ENSG00000012817 | 9.608969 | -780.8863 | protein_coding | - | Y:19703865-19744939 |  3.4369019 | -101.8719 | 0 | 0 |  914.3474 |\n",
       "\n"
      ],
      "text/plain": [
       "  initial_gene_id    GeneSymbol logFC     adj.P.Val abundance higher_in\n",
       "1 ENSG00000129824.15 RPS4Y1     -9.668735 0         lower     males    \n",
       "3 ENSG00000067048.16 DDX3Y      -9.698380 0         lower     males    \n",
       "4 ENSG00000176728.7  TTTY14     -8.082798 0         lower     males    \n",
       "5 ENSG00000012817.15 KDM5D      -9.608969 0         lower     males    \n",
       "  tissue               Chromosome gene_id         abs_logFC FoldChange_dummy\n",
       "1 Adipose-Subcutaneous Y          ENSG00000129824 9.668735  -813.9156       \n",
       "3 Adipose-Subcutaneous Y          ENSG00000067048 9.698380  -830.8129       \n",
       "4 Adipose-Subcutaneous Y          ENSG00000176728 8.082798  -271.1219       \n",
       "5 Adipose-Subcutaneous Y          ENSG00000012817 9.608969  -780.8863       \n",
       "  Class          Strand Chromosomal_Position AveExpr    t         P.Value\n",
       "1 protein_coding +      Y:2841602-2932000     4.6438444 -145.5404 0      \n",
       "3 protein_coding +      Y:12904108-12920478   3.7021122 -108.3868 0      \n",
       "4 lncRNA         -      Y:18772706-19077563  -0.9202562 -105.5946 0      \n",
       "5 protein_coding -      Y:19703865-19744939   3.4369019 -101.8719 0      \n",
       "  adj.P.Val.1 B        \n",
       "1 0           1136.0576\n",
       "3 0            952.4945\n",
       "4 0            922.2647\n",
       "5 0            914.3474"
      ]
     },
     "metadata": {},
     "output_type": "display_data"
    },
    {
     "name": "stderr",
     "output_type": "stream",
     "text": [
      "64.49 % of differentially expressed genes higher in males only found to be significantly differentin males\n",
      "74.56 % of differentially expressed genes higher in females only found to be significantly different in females\n"
     ]
    }
   ],
   "source": [
    "perc_only_male <-  length(male_biased[! (male_biased %in% intersect)]) / length(male_biased) * 100\n",
    "perc_only_female <-  length(female_biased[! (female_biased %in% intersect)]) / length(female_biased) * 100\n",
    "\n",
    "head( signif_per_tissue[ signif_per_tissue[[paste0(\"initial_\", GENE_ID)]] %in% male_biased[! (male_biased %in% intersect)],  ] , 4 )\n",
    "\n",
    "\n",
    "message(round(perc_only_male, 2), \" % of differentially expressed genes higher in males only found to be significantly differentin males\")\n",
    "message(round(perc_only_female,2), \" % of differentially expressed genes higher in females only found to be significantly different in females\")"
   ]
  },
  {
   "cell_type": "markdown",
   "metadata": {},
   "source": [
    "## Significantly higher only in males"
   ]
  },
  {
   "cell_type": "code",
   "execution_count": 43,
   "metadata": {},
   "outputs": [
    {
     "data": {
      "text/html": [
       "<style>\n",
       ".list-inline {list-style: none; margin:0; padding: 0}\n",
       ".list-inline>li {display: inline-block}\n",
       ".list-inline>li:not(:last-child)::after {content: \"\\00b7\"; padding: 0 .5ex}\n",
       "</style>\n",
       "<ol class=list-inline><li>1957</li><li>19</li></ol>\n"
      ],
      "text/latex": [
       "\\begin{enumerate*}\n",
       "\\item 1957\n",
       "\\item 19\n",
       "\\end{enumerate*}\n"
      ],
      "text/markdown": [
       "1. 1957\n",
       "2. 19\n",
       "\n",
       "\n"
      ],
      "text/plain": [
       "[1] 1957   19"
      ]
     },
     "metadata": {},
     "output_type": "display_data"
    },
    {
     "data": {
      "text/html": [
       "<table>\n",
       "<caption>A data.frame: 5 × 19</caption>\n",
       "<thead>\n",
       "\t<tr><th></th><th scope=col>initial_gene_id</th><th scope=col>GeneSymbol</th><th scope=col>logFC</th><th scope=col>adj.P.Val</th><th scope=col>abundance</th><th scope=col>higher_in</th><th scope=col>tissue</th><th scope=col>Chromosome</th><th scope=col>gene_id</th><th scope=col>abs_logFC</th><th scope=col>FoldChange_dummy</th><th scope=col>Class</th><th scope=col>Strand</th><th scope=col>Chromosomal_Position</th><th scope=col>AveExpr</th><th scope=col>t</th><th scope=col>P.Value</th><th scope=col>adj.P.Val.1</th><th scope=col>B</th></tr>\n",
       "\t<tr><th></th><th scope=col>&lt;chr&gt;</th><th scope=col>&lt;fct&gt;</th><th scope=col>&lt;dbl&gt;</th><th scope=col>&lt;dbl&gt;</th><th scope=col>&lt;chr&gt;</th><th scope=col>&lt;chr&gt;</th><th scope=col>&lt;chr&gt;</th><th scope=col>&lt;chr&gt;</th><th scope=col>&lt;chr&gt;</th><th scope=col>&lt;dbl&gt;</th><th scope=col>&lt;dbl&gt;</th><th scope=col>&lt;fct&gt;</th><th scope=col>&lt;fct&gt;</th><th scope=col>&lt;fct&gt;</th><th scope=col>&lt;dbl&gt;</th><th scope=col>&lt;dbl&gt;</th><th scope=col>&lt;dbl&gt;</th><th scope=col>&lt;dbl&gt;</th><th scope=col>&lt;dbl&gt;</th></tr>\n",
       "</thead>\n",
       "<tbody>\n",
       "\t<tr><th scope=row>1278</th><td>ENSG00000000938.12</td><td>FGR </td><td>-0.6591010</td><td>9.573016e-15</td><td>lower</td><td>males</td><td>Breast-MammaryTissue               </td><td>1</td><td>ENSG00000000938</td><td>0.6591010</td><td>-1.579098</td><td>protein_coding</td><td>-</td><td>1:27612064-27635185</td><td>4.869955</td><td> -8.358498</td><td>7.600595e-16</td><td>9.573016e-15</td><td> 23.997831</td></tr>\n",
       "\t<tr><th scope=row>164</th><td>ENSG00000002586.18</td><td>CD99</td><td>-0.7554926</td><td>1.219094e-56</td><td>lower</td><td>males</td><td>AdrenalGland                       </td><td>X</td><td>ENSG00000002586</td><td>0.7554926</td><td>-1.688208</td><td>protein_coding</td><td>+</td><td>X:2691187-2741309  </td><td>6.790643</td><td>-21.507695</td><td>1.227147e-59</td><td>1.219094e-56</td><td>124.946642</td></tr>\n",
       "\t<tr><th scope=row>263</th><td>ENSG00000002586.18</td><td>CD99</td><td>-0.8396619</td><td>5.671851e-08</td><td>lower</td><td>males</td><td>Brain-Amygdala                     </td><td>X</td><td>ENSG00000002586</td><td>0.8396619</td><td>-1.789631</td><td>protein_coding</td><td>+</td><td>X:2691187-2741309  </td><td>6.061931</td><td> -6.959005</td><td>9.277642e-11</td><td>5.671851e-08</td><td> 13.319868</td></tr>\n",
       "\t<tr><th scope=row>3110</th><td>ENSG00000002586.18</td><td>CD99</td><td>-0.8251388</td><td>8.691307e-06</td><td>lower</td><td>males</td><td>Brain-Anteriorcingulatecortex(BA24)</td><td>X</td><td>ENSG00000002586</td><td>0.8251388</td><td>-1.771705</td><td>protein_coding</td><td>+</td><td>X:2691187-2741309  </td><td>5.849349</td><td> -5.911720</td><td>1.695065e-08</td><td>8.691307e-06</td><td>  8.055779</td></tr>\n",
       "\t<tr><th scope=row>296</th><td>ENSG00000002586.18</td><td>CD99</td><td>-0.7844418</td><td>6.848737e-12</td><td>lower</td><td>males</td><td>Brain-Caudate(basalganglia)        </td><td>X</td><td>ENSG00000002586</td><td>0.7844418</td><td>-1.722426</td><td>protein_coding</td><td>+</td><td>X:2691187-2741309  </td><td>6.193285</td><td> -8.207431</td><td>1.249534e-14</td><td>6.848737e-12</td><td> 21.740784</td></tr>\n",
       "</tbody>\n",
       "</table>\n"
      ],
      "text/latex": [
       "A data.frame: 5 × 19\n",
       "\\begin{tabular}{r|lllllllllllllllllll}\n",
       "  & initial\\_gene\\_id & GeneSymbol & logFC & adj.P.Val & abundance & higher\\_in & tissue & Chromosome & gene\\_id & abs\\_logFC & FoldChange\\_dummy & Class & Strand & Chromosomal\\_Position & AveExpr & t & P.Value & adj.P.Val.1 & B\\\\\n",
       "  & <chr> & <fct> & <dbl> & <dbl> & <chr> & <chr> & <chr> & <chr> & <chr> & <dbl> & <dbl> & <fct> & <fct> & <fct> & <dbl> & <dbl> & <dbl> & <dbl> & <dbl>\\\\\n",
       "\\hline\n",
       "\t1278 & ENSG00000000938.12 & FGR  & -0.6591010 & 9.573016e-15 & lower & males & Breast-MammaryTissue                & 1 & ENSG00000000938 & 0.6591010 & -1.579098 & protein\\_coding & - & 1:27612064-27635185 & 4.869955 &  -8.358498 & 7.600595e-16 & 9.573016e-15 &  23.997831\\\\\n",
       "\t164 & ENSG00000002586.18 & CD99 & -0.7554926 & 1.219094e-56 & lower & males & AdrenalGland                        & X & ENSG00000002586 & 0.7554926 & -1.688208 & protein\\_coding & + & X:2691187-2741309   & 6.790643 & -21.507695 & 1.227147e-59 & 1.219094e-56 & 124.946642\\\\\n",
       "\t263 & ENSG00000002586.18 & CD99 & -0.8396619 & 5.671851e-08 & lower & males & Brain-Amygdala                      & X & ENSG00000002586 & 0.8396619 & -1.789631 & protein\\_coding & + & X:2691187-2741309   & 6.061931 &  -6.959005 & 9.277642e-11 & 5.671851e-08 &  13.319868\\\\\n",
       "\t3110 & ENSG00000002586.18 & CD99 & -0.8251388 & 8.691307e-06 & lower & males & Brain-Anteriorcingulatecortex(BA24) & X & ENSG00000002586 & 0.8251388 & -1.771705 & protein\\_coding & + & X:2691187-2741309   & 5.849349 &  -5.911720 & 1.695065e-08 & 8.691307e-06 &   8.055779\\\\\n",
       "\t296 & ENSG00000002586.18 & CD99 & -0.7844418 & 6.848737e-12 & lower & males & Brain-Caudate(basalganglia)         & X & ENSG00000002586 & 0.7844418 & -1.722426 & protein\\_coding & + & X:2691187-2741309   & 6.193285 &  -8.207431 & 1.249534e-14 & 6.848737e-12 &  21.740784\\\\\n",
       "\\end{tabular}\n"
      ],
      "text/markdown": [
       "\n",
       "A data.frame: 5 × 19\n",
       "\n",
       "| <!--/--> | initial_gene_id &lt;chr&gt; | GeneSymbol &lt;fct&gt; | logFC &lt;dbl&gt; | adj.P.Val &lt;dbl&gt; | abundance &lt;chr&gt; | higher_in &lt;chr&gt; | tissue &lt;chr&gt; | Chromosome &lt;chr&gt; | gene_id &lt;chr&gt; | abs_logFC &lt;dbl&gt; | FoldChange_dummy &lt;dbl&gt; | Class &lt;fct&gt; | Strand &lt;fct&gt; | Chromosomal_Position &lt;fct&gt; | AveExpr &lt;dbl&gt; | t &lt;dbl&gt; | P.Value &lt;dbl&gt; | adj.P.Val.1 &lt;dbl&gt; | B &lt;dbl&gt; |\n",
       "|---|---|---|---|---|---|---|---|---|---|---|---|---|---|---|---|---|---|---|---|\n",
       "| 1278 | ENSG00000000938.12 | FGR  | -0.6591010 | 9.573016e-15 | lower | males | Breast-MammaryTissue                | 1 | ENSG00000000938 | 0.6591010 | -1.579098 | protein_coding | - | 1:27612064-27635185 | 4.869955 |  -8.358498 | 7.600595e-16 | 9.573016e-15 |  23.997831 |\n",
       "| 164 | ENSG00000002586.18 | CD99 | -0.7554926 | 1.219094e-56 | lower | males | AdrenalGland                        | X | ENSG00000002586 | 0.7554926 | -1.688208 | protein_coding | + | X:2691187-2741309   | 6.790643 | -21.507695 | 1.227147e-59 | 1.219094e-56 | 124.946642 |\n",
       "| 263 | ENSG00000002586.18 | CD99 | -0.8396619 | 5.671851e-08 | lower | males | Brain-Amygdala                      | X | ENSG00000002586 | 0.8396619 | -1.789631 | protein_coding | + | X:2691187-2741309   | 6.061931 |  -6.959005 | 9.277642e-11 | 5.671851e-08 |  13.319868 |\n",
       "| 3110 | ENSG00000002586.18 | CD99 | -0.8251388 | 8.691307e-06 | lower | males | Brain-Anteriorcingulatecortex(BA24) | X | ENSG00000002586 | 0.8251388 | -1.771705 | protein_coding | + | X:2691187-2741309   | 5.849349 |  -5.911720 | 1.695065e-08 | 8.691307e-06 |   8.055779 |\n",
       "| 296 | ENSG00000002586.18 | CD99 | -0.7844418 | 6.848737e-12 | lower | males | Brain-Caudate(basalganglia)         | X | ENSG00000002586 | 0.7844418 | -1.722426 | protein_coding | + | X:2691187-2741309   | 6.193285 |  -8.207431 | 1.249534e-14 | 6.848737e-12 |  21.740784 |\n",
       "\n"
      ],
      "text/plain": [
       "     initial_gene_id    GeneSymbol logFC      adj.P.Val    abundance higher_in\n",
       "1278 ENSG00000000938.12 FGR        -0.6591010 9.573016e-15 lower     males    \n",
       "164  ENSG00000002586.18 CD99       -0.7554926 1.219094e-56 lower     males    \n",
       "263  ENSG00000002586.18 CD99       -0.8396619 5.671851e-08 lower     males    \n",
       "3110 ENSG00000002586.18 CD99       -0.8251388 8.691307e-06 lower     males    \n",
       "296  ENSG00000002586.18 CD99       -0.7844418 6.848737e-12 lower     males    \n",
       "     tissue                              Chromosome gene_id         abs_logFC\n",
       "1278 Breast-MammaryTissue                1          ENSG00000000938 0.6591010\n",
       "164  AdrenalGland                        X          ENSG00000002586 0.7554926\n",
       "263  Brain-Amygdala                      X          ENSG00000002586 0.8396619\n",
       "3110 Brain-Anteriorcingulatecortex(BA24) X          ENSG00000002586 0.8251388\n",
       "296  Brain-Caudate(basalganglia)         X          ENSG00000002586 0.7844418\n",
       "     FoldChange_dummy Class          Strand Chromosomal_Position AveExpr \n",
       "1278 -1.579098        protein_coding -      1:27612064-27635185  4.869955\n",
       "164  -1.688208        protein_coding +      X:2691187-2741309    6.790643\n",
       "263  -1.789631        protein_coding +      X:2691187-2741309    6.061931\n",
       "3110 -1.771705        protein_coding +      X:2691187-2741309    5.849349\n",
       "296  -1.722426        protein_coding +      X:2691187-2741309    6.193285\n",
       "     t          P.Value      adj.P.Val.1  B         \n",
       "1278  -8.358498 7.600595e-16 9.573016e-15  23.997831\n",
       "164  -21.507695 1.227147e-59 1.219094e-56 124.946642\n",
       "263   -6.959005 9.277642e-11 5.671851e-08  13.319868\n",
       "3110  -5.911720 1.695065e-08 8.691307e-06   8.055779\n",
       "296   -8.207431 1.249534e-14 6.848737e-12  21.740784"
      ]
     },
     "metadata": {},
     "output_type": "display_data"
    }
   ],
   "source": [
    "dim(signif_per_tissue[ signif_per_tissue[[paste0(\"initial_\", GENE_ID)]] %in% male_biased[! (male_biased %in% intersect)],  ])\n",
    "\n",
    "only_male_genes <- signif_per_tissue[ signif_per_tissue[[paste0(\"initial_\", GENE_ID)]] %in% (male_biased[! (male_biased %in% intersect)]) ,  ]\n",
    "\n",
    "head(only_male_genes[ order(only_male_genes[[paste0(\"initial_\", GENE_ID)]] ), ], 5)"
   ]
  },
  {
   "cell_type": "code",
   "execution_count": 44,
   "metadata": {},
   "outputs": [
    {
     "name": "stderr",
     "output_type": "stream",
     "text": [
      "Warning message:\n",
      "“Factor `GeneSymbol` contains implicit NA, consider using `forcats::fct_explicit_na`”Warning message:\n",
      "“Factor `Class` contains implicit NA, consider using `forcats::fct_explicit_na`”Warning message:\n",
      "“Factor `GeneSymbol` contains implicit NA, consider using `forcats::fct_explicit_na`”"
     ]
    },
    {
     "data": {
      "text/html": [
       "<table>\n",
       "<caption>A tibble: 20 × 4</caption>\n",
       "<thead>\n",
       "\t<tr><th scope=col>\"gene_id\"</th><th scope=col>GeneSymbol</th><th scope=col>Class</th><th scope=col>n</th></tr>\n",
       "\t<tr><th scope=col>&lt;chr&gt;</th><th scope=col>&lt;fct&gt;</th><th scope=col>&lt;fct&gt;</th><th scope=col>&lt;int&gt;</th></tr>\n",
       "</thead>\n",
       "<tbody>\n",
       "\t<tr><td>gene_id</td><td>NA        </td><td>NA                                </td><td>47</td></tr>\n",
       "\t<tr><td>gene_id</td><td>AC010889.1</td><td>lncRNA                            </td><td>45</td></tr>\n",
       "\t<tr><td>gene_id</td><td>DDX3Y     </td><td>protein_coding                    </td><td>45</td></tr>\n",
       "\t<tr><td>gene_id</td><td>EIF1AY    </td><td>protein_coding                    </td><td>45</td></tr>\n",
       "\t<tr><td>gene_id</td><td>KDM5D     </td><td>protein_coding                    </td><td>45</td></tr>\n",
       "\t<tr><td>gene_id</td><td>NLGN4Y    </td><td>protein_coding                    </td><td>45</td></tr>\n",
       "\t<tr><td>gene_id</td><td>PRKY      </td><td>protein_coding                    </td><td>45</td></tr>\n",
       "\t<tr><td>gene_id</td><td>RPS4Y1    </td><td>protein_coding                    </td><td>45</td></tr>\n",
       "\t<tr><td>gene_id</td><td>TMSB4Y    </td><td>protein_coding                    </td><td>45</td></tr>\n",
       "\t<tr><td>gene_id</td><td>TTTY14    </td><td>lncRNA                            </td><td>45</td></tr>\n",
       "\t<tr><td>gene_id</td><td>TXLNGY    </td><td>transcribed_unprocessed_pseudogene</td><td>45</td></tr>\n",
       "\t<tr><td>gene_id</td><td>USP9Y     </td><td>protein_coding                    </td><td>45</td></tr>\n",
       "\t<tr><td>gene_id</td><td>UTY       </td><td>protein_coding                    </td><td>45</td></tr>\n",
       "\t<tr><td>gene_id</td><td>ZFY       </td><td>protein_coding                    </td><td>45</td></tr>\n",
       "\t<tr><td>gene_id</td><td>LINC01597 </td><td>lncRNA                            </td><td>44</td></tr>\n",
       "\t<tr><td>gene_id</td><td>DDX43     </td><td>protein_coding                    </td><td>42</td></tr>\n",
       "\t<tr><td>gene_id</td><td>SPESP1    </td><td>protein_coding                    </td><td>35</td></tr>\n",
       "\t<tr><td>gene_id</td><td>CD99      </td><td>protein_coding                    </td><td>16</td></tr>\n",
       "\t<tr><td>gene_id</td><td>FRG1BP    </td><td>unprocessed_pseudogene            </td><td>15</td></tr>\n",
       "\t<tr><td>gene_id</td><td>PAX8-AS1  </td><td>lncRNA                            </td><td>15</td></tr>\n",
       "</tbody>\n",
       "</table>\n"
      ],
      "text/latex": [
       "A tibble: 20 × 4\n",
       "\\begin{tabular}{llll}\n",
       " \"gene\\_id\" & GeneSymbol & Class & n\\\\\n",
       " <chr> & <fct> & <fct> & <int>\\\\\n",
       "\\hline\n",
       "\t gene\\_id & NA         & NA                                 & 47\\\\\n",
       "\t gene\\_id & AC010889.1 & lncRNA                             & 45\\\\\n",
       "\t gene\\_id & DDX3Y      & protein\\_coding                     & 45\\\\\n",
       "\t gene\\_id & EIF1AY     & protein\\_coding                     & 45\\\\\n",
       "\t gene\\_id & KDM5D      & protein\\_coding                     & 45\\\\\n",
       "\t gene\\_id & NLGN4Y     & protein\\_coding                     & 45\\\\\n",
       "\t gene\\_id & PRKY       & protein\\_coding                     & 45\\\\\n",
       "\t gene\\_id & RPS4Y1     & protein\\_coding                     & 45\\\\\n",
       "\t gene\\_id & TMSB4Y     & protein\\_coding                     & 45\\\\\n",
       "\t gene\\_id & TTTY14     & lncRNA                             & 45\\\\\n",
       "\t gene\\_id & TXLNGY     & transcribed\\_unprocessed\\_pseudogene & 45\\\\\n",
       "\t gene\\_id & USP9Y      & protein\\_coding                     & 45\\\\\n",
       "\t gene\\_id & UTY        & protein\\_coding                     & 45\\\\\n",
       "\t gene\\_id & ZFY        & protein\\_coding                     & 45\\\\\n",
       "\t gene\\_id & LINC01597  & lncRNA                             & 44\\\\\n",
       "\t gene\\_id & DDX43      & protein\\_coding                     & 42\\\\\n",
       "\t gene\\_id & SPESP1     & protein\\_coding                     & 35\\\\\n",
       "\t gene\\_id & CD99       & protein\\_coding                     & 16\\\\\n",
       "\t gene\\_id & FRG1BP     & unprocessed\\_pseudogene             & 15\\\\\n",
       "\t gene\\_id & PAX8-AS1   & lncRNA                             & 15\\\\\n",
       "\\end{tabular}\n"
      ],
      "text/markdown": [
       "\n",
       "A tibble: 20 × 4\n",
       "\n",
       "| \"gene_id\" &lt;chr&gt; | GeneSymbol &lt;fct&gt; | Class &lt;fct&gt; | n &lt;int&gt; |\n",
       "|---|---|---|---|\n",
       "| gene_id | NA         | NA                                 | 47 |\n",
       "| gene_id | AC010889.1 | lncRNA                             | 45 |\n",
       "| gene_id | DDX3Y      | protein_coding                     | 45 |\n",
       "| gene_id | EIF1AY     | protein_coding                     | 45 |\n",
       "| gene_id | KDM5D      | protein_coding                     | 45 |\n",
       "| gene_id | NLGN4Y     | protein_coding                     | 45 |\n",
       "| gene_id | PRKY       | protein_coding                     | 45 |\n",
       "| gene_id | RPS4Y1     | protein_coding                     | 45 |\n",
       "| gene_id | TMSB4Y     | protein_coding                     | 45 |\n",
       "| gene_id | TTTY14     | lncRNA                             | 45 |\n",
       "| gene_id | TXLNGY     | transcribed_unprocessed_pseudogene | 45 |\n",
       "| gene_id | USP9Y      | protein_coding                     | 45 |\n",
       "| gene_id | UTY        | protein_coding                     | 45 |\n",
       "| gene_id | ZFY        | protein_coding                     | 45 |\n",
       "| gene_id | LINC01597  | lncRNA                             | 44 |\n",
       "| gene_id | DDX43      | protein_coding                     | 42 |\n",
       "| gene_id | SPESP1     | protein_coding                     | 35 |\n",
       "| gene_id | CD99       | protein_coding                     | 16 |\n",
       "| gene_id | FRG1BP     | unprocessed_pseudogene             | 15 |\n",
       "| gene_id | PAX8-AS1   | lncRNA                             | 15 |\n",
       "\n"
      ],
      "text/plain": [
       "   \"gene_id\" GeneSymbol Class                              n \n",
       "1  gene_id   NA         NA                                 47\n",
       "2  gene_id   AC010889.1 lncRNA                             45\n",
       "3  gene_id   DDX3Y      protein_coding                     45\n",
       "4  gene_id   EIF1AY     protein_coding                     45\n",
       "5  gene_id   KDM5D      protein_coding                     45\n",
       "6  gene_id   NLGN4Y     protein_coding                     45\n",
       "7  gene_id   PRKY       protein_coding                     45\n",
       "8  gene_id   RPS4Y1     protein_coding                     45\n",
       "9  gene_id   TMSB4Y     protein_coding                     45\n",
       "10 gene_id   TTTY14     lncRNA                             45\n",
       "11 gene_id   TXLNGY     transcribed_unprocessed_pseudogene 45\n",
       "12 gene_id   USP9Y      protein_coding                     45\n",
       "13 gene_id   UTY        protein_coding                     45\n",
       "14 gene_id   ZFY        protein_coding                     45\n",
       "15 gene_id   LINC01597  lncRNA                             44\n",
       "16 gene_id   DDX43      protein_coding                     42\n",
       "17 gene_id   SPESP1     protein_coding                     35\n",
       "18 gene_id   CD99       protein_coding                     16\n",
       "19 gene_id   FRG1BP     unprocessed_pseudogene             15\n",
       "20 gene_id   PAX8-AS1   lncRNA                             15"
      ]
     },
     "metadata": {},
     "output_type": "display_data"
    }
   ],
   "source": [
    "# See 8.1.1 enquo() and !! - Quote and unquote arguments in https://tidyeval.tidyverse.org/dplyr.html\n",
    "\n",
    "only_male_genes %>% \n",
    "    count( !!GENE_ID, GeneSymbol, Class, sort = TRUE) %>%\n",
    "    head(20)"
   ]
  },
  {
   "cell_type": "markdown",
   "metadata": {},
   "source": [
    "## Significantly higher only in females"
   ]
  },
  {
   "cell_type": "code",
   "execution_count": 45,
   "metadata": {},
   "outputs": [
    {
     "data": {
      "text/html": [
       "<table>\n",
       "<caption>A data.frame: 10 × 19</caption>\n",
       "<thead>\n",
       "\t<tr><th></th><th scope=col>initial_gene_id</th><th scope=col>GeneSymbol</th><th scope=col>logFC</th><th scope=col>adj.P.Val</th><th scope=col>abundance</th><th scope=col>higher_in</th><th scope=col>tissue</th><th scope=col>Chromosome</th><th scope=col>gene_id</th><th scope=col>abs_logFC</th><th scope=col>FoldChange_dummy</th><th scope=col>Class</th><th scope=col>Strand</th><th scope=col>Chromosomal_Position</th><th scope=col>AveExpr</th><th scope=col>t</th><th scope=col>P.Value</th><th scope=col>adj.P.Val.1</th><th scope=col>B</th></tr>\n",
       "\t<tr><th></th><th scope=col>&lt;chr&gt;</th><th scope=col>&lt;fct&gt;</th><th scope=col>&lt;dbl&gt;</th><th scope=col>&lt;dbl&gt;</th><th scope=col>&lt;chr&gt;</th><th scope=col>&lt;chr&gt;</th><th scope=col>&lt;chr&gt;</th><th scope=col>&lt;chr&gt;</th><th scope=col>&lt;chr&gt;</th><th scope=col>&lt;dbl&gt;</th><th scope=col>&lt;dbl&gt;</th><th scope=col>&lt;fct&gt;</th><th scope=col>&lt;fct&gt;</th><th scope=col>&lt;fct&gt;</th><th scope=col>&lt;dbl&gt;</th><th scope=col>&lt;dbl&gt;</th><th scope=col>&lt;dbl&gt;</th><th scope=col>&lt;dbl&gt;</th><th scope=col>&lt;dbl&gt;</th></tr>\n",
       "</thead>\n",
       "<tbody>\n",
       "\t<tr><th scope=row>8291</th><td>ENSG00000003096.14</td><td>KLHL13 </td><td>1.0575276</td><td> 5.849918e-18</td><td>higher</td><td>females</td><td>Breast-MammaryTissue               </td><td>X </td><td>ENSG00000003096</td><td>1.0575276</td><td>2.081362</td><td>protein_coding</td><td>-</td><td>X:117897813-118117340</td><td>3.071957</td><td> 9.379033</td><td> 3.047331e-19</td><td> 5.849918e-18</td><td> 31.967423</td></tr>\n",
       "\t<tr><th scope=row>2121</th><td>ENSG00000005187.11</td><td>ACSM3  </td><td>1.7420707</td><td> 6.241747e-30</td><td>higher</td><td>females</td><td>Breast-MammaryTissue               </td><td>16</td><td>ENSG00000005187</td><td>1.7420707</td><td>3.345150</td><td>protein_coding</td><td>+</td><td>16:20610243-20797581 </td><td>1.753435</td><td>12.678403</td><td> 8.442753e-32</td><td> 6.241747e-30</td><td> 60.890589</td></tr>\n",
       "\t<tr><th scope=row>3284</th><td>ENSG00000005379.15</td><td>TSPOAP1</td><td>0.8048674</td><td> 2.635769e-08</td><td>higher</td><td>females</td><td>Breast-MammaryTissue               </td><td>17</td><td>ENSG00000005379</td><td>0.8048674</td><td>1.746985</td><td>protein_coding</td><td>-</td><td>17:58301228-58328795 </td><td>4.816506</td><td> 5.948486</td><td> 5.364399e-09</td><td> 2.635769e-08</td><td>  8.472351</td></tr>\n",
       "\t<tr><th scope=row>7431</th><td>ENSG00000005513.9 </td><td>SOX8   </td><td>1.0248677</td><td> 1.091262e-18</td><td>higher</td><td>females</td><td>Breast-MammaryTissue               </td><td>16</td><td>ENSG00000005513</td><td>1.0248677</td><td>2.034773</td><td>protein_coding</td><td>+</td><td>16:981770-986979     </td><td>1.961977</td><td> 9.601016</td><td> 5.135350e-20</td><td> 1.091262e-18</td><td> 33.928616</td></tr>\n",
       "\t<tr><th scope=row>19</th><td>ENSG00000005889.15</td><td>ZFX    </td><td>0.6387585</td><td> 8.312326e-49</td><td>higher</td><td>females</td><td>AdrenalGland                       </td><td>X </td><td>ENSG00000005889</td><td>0.6387585</td><td>1.556989</td><td>protein_coding</td><td>+</td><td>X:24149173-24216255  </td><td>4.692241</td><td>19.191837</td><td> 9.936093e-52</td><td> 8.312326e-49</td><td>106.759601</td></tr>\n",
       "\t<tr><th scope=row>173</th><td>ENSG00000005889.15</td><td>ZFX    </td><td>0.6694278</td><td> 1.284379e-85</td><td>higher</td><td>females</td><td>Artery-Aorta                       </td><td>X </td><td>ENSG00000005889</td><td>0.6694278</td><td>1.590442</td><td>protein_coding</td><td>+</td><td>X:24149173-24216255  </td><td>4.987225</td><td>25.563606</td><td> 1.373667e-88</td><td> 1.284379e-85</td><td>191.042078</td></tr>\n",
       "\t<tr><th scope=row>167</th><td>ENSG00000005889.15</td><td>ZFX    </td><td>0.6289844</td><td> 2.162584e-59</td><td>higher</td><td>females</td><td>Artery-Coronary                    </td><td>X </td><td>ENSG00000005889</td><td>0.6289844</td><td>1.546476</td><td>protein_coding</td><td>+</td><td>X:24149173-24216255  </td><td>5.138006</td><td>22.882636</td><td> 2.176870e-62</td><td> 2.162584e-59</td><td>131.375327</td></tr>\n",
       "\t<tr><th scope=row>176</th><td>ENSG00000005889.15</td><td>ZFX    </td><td>0.6581554</td><td>6.019839e-122</td><td>higher</td><td>females</td><td>Artery-Tibial                      </td><td>X </td><td>ENSG00000005889</td><td>0.6581554</td><td>1.578064</td><td>protein_coding</td><td>+</td><td>X:24149173-24216255  </td><td>5.168209</td><td>29.859299</td><td>6.438331e-125</td><td>6.019839e-122</td><td>274.344358</td></tr>\n",
       "\t<tr><th scope=row>1610</th><td>ENSG00000005889.15</td><td>ZFX    </td><td>0.6368501</td><td> 1.684832e-17</td><td>higher</td><td>females</td><td>Brain-Amygdala                     </td><td>X </td><td>ENSG00000005889</td><td>0.6368501</td><td>1.554931</td><td>protein_coding</td><td>+</td><td>X:24149173-24216255  </td><td>3.944298</td><td>10.763468</td><td> 1.695961e-20</td><td> 1.684832e-17</td><td> 35.535455</td></tr>\n",
       "\t<tr><th scope=row>1710</th><td>ENSG00000005889.15</td><td>ZFX    </td><td>0.6756728</td><td> 3.516380e-21</td><td>higher</td><td>females</td><td>Brain-Anteriorcingulatecortex(BA24)</td><td>X </td><td>ENSG00000005889</td><td>0.6756728</td><td>1.597342</td><td>protein_coding</td><td>+</td><td>X:24149173-24216255  </td><td>3.801055</td><td>11.814815</td><td> 3.760834e-24</td><td> 3.516380e-21</td><td> 43.792574</td></tr>\n",
       "</tbody>\n",
       "</table>\n"
      ],
      "text/latex": [
       "A data.frame: 10 × 19\n",
       "\\begin{tabular}{r|lllllllllllllllllll}\n",
       "  & initial\\_gene\\_id & GeneSymbol & logFC & adj.P.Val & abundance & higher\\_in & tissue & Chromosome & gene\\_id & abs\\_logFC & FoldChange\\_dummy & Class & Strand & Chromosomal\\_Position & AveExpr & t & P.Value & adj.P.Val.1 & B\\\\\n",
       "  & <chr> & <fct> & <dbl> & <dbl> & <chr> & <chr> & <chr> & <chr> & <chr> & <dbl> & <dbl> & <fct> & <fct> & <fct> & <dbl> & <dbl> & <dbl> & <dbl> & <dbl>\\\\\n",
       "\\hline\n",
       "\t8291 & ENSG00000003096.14 & KLHL13  & 1.0575276 &  5.849918e-18 & higher & females & Breast-MammaryTissue                & X  & ENSG00000003096 & 1.0575276 & 2.081362 & protein\\_coding & - & X:117897813-118117340 & 3.071957 &  9.379033 &  3.047331e-19 &  5.849918e-18 &  31.967423\\\\\n",
       "\t2121 & ENSG00000005187.11 & ACSM3   & 1.7420707 &  6.241747e-30 & higher & females & Breast-MammaryTissue                & 16 & ENSG00000005187 & 1.7420707 & 3.345150 & protein\\_coding & + & 16:20610243-20797581  & 1.753435 & 12.678403 &  8.442753e-32 &  6.241747e-30 &  60.890589\\\\\n",
       "\t3284 & ENSG00000005379.15 & TSPOAP1 & 0.8048674 &  2.635769e-08 & higher & females & Breast-MammaryTissue                & 17 & ENSG00000005379 & 0.8048674 & 1.746985 & protein\\_coding & - & 17:58301228-58328795  & 4.816506 &  5.948486 &  5.364399e-09 &  2.635769e-08 &   8.472351\\\\\n",
       "\t7431 & ENSG00000005513.9  & SOX8    & 1.0248677 &  1.091262e-18 & higher & females & Breast-MammaryTissue                & 16 & ENSG00000005513 & 1.0248677 & 2.034773 & protein\\_coding & + & 16:981770-986979      & 1.961977 &  9.601016 &  5.135350e-20 &  1.091262e-18 &  33.928616\\\\\n",
       "\t19 & ENSG00000005889.15 & ZFX     & 0.6387585 &  8.312326e-49 & higher & females & AdrenalGland                        & X  & ENSG00000005889 & 0.6387585 & 1.556989 & protein\\_coding & + & X:24149173-24216255   & 4.692241 & 19.191837 &  9.936093e-52 &  8.312326e-49 & 106.759601\\\\\n",
       "\t173 & ENSG00000005889.15 & ZFX     & 0.6694278 &  1.284379e-85 & higher & females & Artery-Aorta                        & X  & ENSG00000005889 & 0.6694278 & 1.590442 & protein\\_coding & + & X:24149173-24216255   & 4.987225 & 25.563606 &  1.373667e-88 &  1.284379e-85 & 191.042078\\\\\n",
       "\t167 & ENSG00000005889.15 & ZFX     & 0.6289844 &  2.162584e-59 & higher & females & Artery-Coronary                     & X  & ENSG00000005889 & 0.6289844 & 1.546476 & protein\\_coding & + & X:24149173-24216255   & 5.138006 & 22.882636 &  2.176870e-62 &  2.162584e-59 & 131.375327\\\\\n",
       "\t176 & ENSG00000005889.15 & ZFX     & 0.6581554 & 6.019839e-122 & higher & females & Artery-Tibial                       & X  & ENSG00000005889 & 0.6581554 & 1.578064 & protein\\_coding & + & X:24149173-24216255   & 5.168209 & 29.859299 & 6.438331e-125 & 6.019839e-122 & 274.344358\\\\\n",
       "\t1610 & ENSG00000005889.15 & ZFX     & 0.6368501 &  1.684832e-17 & higher & females & Brain-Amygdala                      & X  & ENSG00000005889 & 0.6368501 & 1.554931 & protein\\_coding & + & X:24149173-24216255   & 3.944298 & 10.763468 &  1.695961e-20 &  1.684832e-17 &  35.535455\\\\\n",
       "\t1710 & ENSG00000005889.15 & ZFX     & 0.6756728 &  3.516380e-21 & higher & females & Brain-Anteriorcingulatecortex(BA24) & X  & ENSG00000005889 & 0.6756728 & 1.597342 & protein\\_coding & + & X:24149173-24216255   & 3.801055 & 11.814815 &  3.760834e-24 &  3.516380e-21 &  43.792574\\\\\n",
       "\\end{tabular}\n"
      ],
      "text/markdown": [
       "\n",
       "A data.frame: 10 × 19\n",
       "\n",
       "| <!--/--> | initial_gene_id &lt;chr&gt; | GeneSymbol &lt;fct&gt; | logFC &lt;dbl&gt; | adj.P.Val &lt;dbl&gt; | abundance &lt;chr&gt; | higher_in &lt;chr&gt; | tissue &lt;chr&gt; | Chromosome &lt;chr&gt; | gene_id &lt;chr&gt; | abs_logFC &lt;dbl&gt; | FoldChange_dummy &lt;dbl&gt; | Class &lt;fct&gt; | Strand &lt;fct&gt; | Chromosomal_Position &lt;fct&gt; | AveExpr &lt;dbl&gt; | t &lt;dbl&gt; | P.Value &lt;dbl&gt; | adj.P.Val.1 &lt;dbl&gt; | B &lt;dbl&gt; |\n",
       "|---|---|---|---|---|---|---|---|---|---|---|---|---|---|---|---|---|---|---|---|\n",
       "| 8291 | ENSG00000003096.14 | KLHL13  | 1.0575276 |  5.849918e-18 | higher | females | Breast-MammaryTissue                | X  | ENSG00000003096 | 1.0575276 | 2.081362 | protein_coding | - | X:117897813-118117340 | 3.071957 |  9.379033 |  3.047331e-19 |  5.849918e-18 |  31.967423 |\n",
       "| 2121 | ENSG00000005187.11 | ACSM3   | 1.7420707 |  6.241747e-30 | higher | females | Breast-MammaryTissue                | 16 | ENSG00000005187 | 1.7420707 | 3.345150 | protein_coding | + | 16:20610243-20797581  | 1.753435 | 12.678403 |  8.442753e-32 |  6.241747e-30 |  60.890589 |\n",
       "| 3284 | ENSG00000005379.15 | TSPOAP1 | 0.8048674 |  2.635769e-08 | higher | females | Breast-MammaryTissue                | 17 | ENSG00000005379 | 0.8048674 | 1.746985 | protein_coding | - | 17:58301228-58328795  | 4.816506 |  5.948486 |  5.364399e-09 |  2.635769e-08 |   8.472351 |\n",
       "| 7431 | ENSG00000005513.9  | SOX8    | 1.0248677 |  1.091262e-18 | higher | females | Breast-MammaryTissue                | 16 | ENSG00000005513 | 1.0248677 | 2.034773 | protein_coding | + | 16:981770-986979      | 1.961977 |  9.601016 |  5.135350e-20 |  1.091262e-18 |  33.928616 |\n",
       "| 19 | ENSG00000005889.15 | ZFX     | 0.6387585 |  8.312326e-49 | higher | females | AdrenalGland                        | X  | ENSG00000005889 | 0.6387585 | 1.556989 | protein_coding | + | X:24149173-24216255   | 4.692241 | 19.191837 |  9.936093e-52 |  8.312326e-49 | 106.759601 |\n",
       "| 173 | ENSG00000005889.15 | ZFX     | 0.6694278 |  1.284379e-85 | higher | females | Artery-Aorta                        | X  | ENSG00000005889 | 0.6694278 | 1.590442 | protein_coding | + | X:24149173-24216255   | 4.987225 | 25.563606 |  1.373667e-88 |  1.284379e-85 | 191.042078 |\n",
       "| 167 | ENSG00000005889.15 | ZFX     | 0.6289844 |  2.162584e-59 | higher | females | Artery-Coronary                     | X  | ENSG00000005889 | 0.6289844 | 1.546476 | protein_coding | + | X:24149173-24216255   | 5.138006 | 22.882636 |  2.176870e-62 |  2.162584e-59 | 131.375327 |\n",
       "| 176 | ENSG00000005889.15 | ZFX     | 0.6581554 | 6.019839e-122 | higher | females | Artery-Tibial                       | X  | ENSG00000005889 | 0.6581554 | 1.578064 | protein_coding | + | X:24149173-24216255   | 5.168209 | 29.859299 | 6.438331e-125 | 6.019839e-122 | 274.344358 |\n",
       "| 1610 | ENSG00000005889.15 | ZFX     | 0.6368501 |  1.684832e-17 | higher | females | Brain-Amygdala                      | X  | ENSG00000005889 | 0.6368501 | 1.554931 | protein_coding | + | X:24149173-24216255   | 3.944298 | 10.763468 |  1.695961e-20 |  1.684832e-17 |  35.535455 |\n",
       "| 1710 | ENSG00000005889.15 | ZFX     | 0.6756728 |  3.516380e-21 | higher | females | Brain-Anteriorcingulatecortex(BA24) | X  | ENSG00000005889 | 0.6756728 | 1.597342 | protein_coding | + | X:24149173-24216255   | 3.801055 | 11.814815 |  3.760834e-24 |  3.516380e-21 |  43.792574 |\n",
       "\n"
      ],
      "text/plain": [
       "     initial_gene_id    GeneSymbol logFC     adj.P.Val     abundance higher_in\n",
       "8291 ENSG00000003096.14 KLHL13     1.0575276  5.849918e-18 higher    females  \n",
       "2121 ENSG00000005187.11 ACSM3      1.7420707  6.241747e-30 higher    females  \n",
       "3284 ENSG00000005379.15 TSPOAP1    0.8048674  2.635769e-08 higher    females  \n",
       "7431 ENSG00000005513.9  SOX8       1.0248677  1.091262e-18 higher    females  \n",
       "19   ENSG00000005889.15 ZFX        0.6387585  8.312326e-49 higher    females  \n",
       "173  ENSG00000005889.15 ZFX        0.6694278  1.284379e-85 higher    females  \n",
       "167  ENSG00000005889.15 ZFX        0.6289844  2.162584e-59 higher    females  \n",
       "176  ENSG00000005889.15 ZFX        0.6581554 6.019839e-122 higher    females  \n",
       "1610 ENSG00000005889.15 ZFX        0.6368501  1.684832e-17 higher    females  \n",
       "1710 ENSG00000005889.15 ZFX        0.6756728  3.516380e-21 higher    females  \n",
       "     tissue                              Chromosome gene_id         abs_logFC\n",
       "8291 Breast-MammaryTissue                X          ENSG00000003096 1.0575276\n",
       "2121 Breast-MammaryTissue                16         ENSG00000005187 1.7420707\n",
       "3284 Breast-MammaryTissue                17         ENSG00000005379 0.8048674\n",
       "7431 Breast-MammaryTissue                16         ENSG00000005513 1.0248677\n",
       "19   AdrenalGland                        X          ENSG00000005889 0.6387585\n",
       "173  Artery-Aorta                        X          ENSG00000005889 0.6694278\n",
       "167  Artery-Coronary                     X          ENSG00000005889 0.6289844\n",
       "176  Artery-Tibial                       X          ENSG00000005889 0.6581554\n",
       "1610 Brain-Amygdala                      X          ENSG00000005889 0.6368501\n",
       "1710 Brain-Anteriorcingulatecortex(BA24) X          ENSG00000005889 0.6756728\n",
       "     FoldChange_dummy Class          Strand Chromosomal_Position  AveExpr \n",
       "8291 2.081362         protein_coding -      X:117897813-118117340 3.071957\n",
       "2121 3.345150         protein_coding +      16:20610243-20797581  1.753435\n",
       "3284 1.746985         protein_coding -      17:58301228-58328795  4.816506\n",
       "7431 2.034773         protein_coding +      16:981770-986979      1.961977\n",
       "19   1.556989         protein_coding +      X:24149173-24216255   4.692241\n",
       "173  1.590442         protein_coding +      X:24149173-24216255   4.987225\n",
       "167  1.546476         protein_coding +      X:24149173-24216255   5.138006\n",
       "176  1.578064         protein_coding +      X:24149173-24216255   5.168209\n",
       "1610 1.554931         protein_coding +      X:24149173-24216255   3.944298\n",
       "1710 1.597342         protein_coding +      X:24149173-24216255   3.801055\n",
       "     t         P.Value       adj.P.Val.1   B         \n",
       "8291  9.379033  3.047331e-19  5.849918e-18  31.967423\n",
       "2121 12.678403  8.442753e-32  6.241747e-30  60.890589\n",
       "3284  5.948486  5.364399e-09  2.635769e-08   8.472351\n",
       "7431  9.601016  5.135350e-20  1.091262e-18  33.928616\n",
       "19   19.191837  9.936093e-52  8.312326e-49 106.759601\n",
       "173  25.563606  1.373667e-88  1.284379e-85 191.042078\n",
       "167  22.882636  2.176870e-62  2.162584e-59 131.375327\n",
       "176  29.859299 6.438331e-125 6.019839e-122 274.344358\n",
       "1610 10.763468  1.695961e-20  1.684832e-17  35.535455\n",
       "1710 11.814815  3.760834e-24  3.516380e-21  43.792574"
      ]
     },
     "metadata": {},
     "output_type": "display_data"
    }
   ],
   "source": [
    "only_female_genes <- signif_per_tissue[ signif_per_tissue[[paste0(\"initial_\", GENE_ID)]] %in% (female_biased[! (female_biased %in% intersect)]) ,  ]\n",
    "\n",
    "head(only_female_genes[ order(only_female_genes[[paste0(\"initial_\", GENE_ID)]] ), ], 10)"
   ]
  },
  {
   "cell_type": "code",
   "execution_count": 46,
   "metadata": {},
   "outputs": [
    {
     "name": "stderr",
     "output_type": "stream",
     "text": [
      "Warning message:\n",
      "“Factor `GeneSymbol` contains implicit NA, consider using `forcats::fct_explicit_na`”Warning message:\n",
      "“Factor `Class` contains implicit NA, consider using `forcats::fct_explicit_na`”Warning message:\n",
      "“Factor `GeneSymbol` contains implicit NA, consider using `forcats::fct_explicit_na`”"
     ]
    },
    {
     "data": {
      "text/html": [
       "<table>\n",
       "<caption>A tibble: 20 × 4</caption>\n",
       "<thead>\n",
       "\t<tr><th scope=col>\"gene_id\"</th><th scope=col>GeneSymbol</th><th scope=col>Class</th><th scope=col>n</th></tr>\n",
       "\t<tr><th scope=col>&lt;chr&gt;</th><th scope=col>&lt;fct&gt;</th><th scope=col>&lt;fct&gt;</th><th scope=col>&lt;int&gt;</th></tr>\n",
       "</thead>\n",
       "<tbody>\n",
       "\t<tr><td>gene_id</td><td>XIST  </td><td>lncRNA        </td><td>46</td></tr>\n",
       "\t<tr><td>gene_id</td><td>KDM6A </td><td>protein_coding</td><td>33</td></tr>\n",
       "\t<tr><td>gene_id</td><td>ZFX   </td><td>protein_coding</td><td>33</td></tr>\n",
       "\t<tr><td>gene_id</td><td>PUDP  </td><td>protein_coding</td><td>21</td></tr>\n",
       "\t<tr><td>gene_id</td><td>MAP7D2</td><td>protein_coding</td><td>16</td></tr>\n",
       "\t<tr><td>gene_id</td><td>NLRP2 </td><td>protein_coding</td><td>16</td></tr>\n",
       "\t<tr><td>gene_id</td><td>NA    </td><td>NA            </td><td>16</td></tr>\n",
       "\t<tr><td>gene_id</td><td>JPX   </td><td>lncRNA        </td><td>12</td></tr>\n",
       "\t<tr><td>gene_id</td><td>GSTM1 </td><td>protein_coding</td><td>11</td></tr>\n",
       "\t<tr><td>gene_id</td><td>GYG2  </td><td>protein_coding</td><td>11</td></tr>\n",
       "\t<tr><td>gene_id</td><td>CD163 </td><td>protein_coding</td><td> 9</td></tr>\n",
       "\t<tr><td>gene_id</td><td>CES1  </td><td>protein_coding</td><td> 9</td></tr>\n",
       "\t<tr><td>gene_id</td><td>PNPLA4</td><td>protein_coding</td><td> 9</td></tr>\n",
       "\t<tr><td>gene_id</td><td>FCGR3B</td><td>protein_coding</td><td> 8</td></tr>\n",
       "\t<tr><td>gene_id</td><td>IL1R2 </td><td>protein_coding</td><td> 8</td></tr>\n",
       "\t<tr><td>gene_id</td><td>S100A8</td><td>protein_coding</td><td> 8</td></tr>\n",
       "\t<tr><td>gene_id</td><td>VSIG4 </td><td>protein_coding</td><td> 8</td></tr>\n",
       "\t<tr><td>gene_id</td><td>CP    </td><td>protein_coding</td><td> 7</td></tr>\n",
       "\t<tr><td>gene_id</td><td>EIF1AX</td><td>protein_coding</td><td> 7</td></tr>\n",
       "\t<tr><td>gene_id</td><td>S100A9</td><td>protein_coding</td><td> 7</td></tr>\n",
       "</tbody>\n",
       "</table>\n"
      ],
      "text/latex": [
       "A tibble: 20 × 4\n",
       "\\begin{tabular}{llll}\n",
       " \"gene\\_id\" & GeneSymbol & Class & n\\\\\n",
       " <chr> & <fct> & <fct> & <int>\\\\\n",
       "\\hline\n",
       "\t gene\\_id & XIST   & lncRNA         & 46\\\\\n",
       "\t gene\\_id & KDM6A  & protein\\_coding & 33\\\\\n",
       "\t gene\\_id & ZFX    & protein\\_coding & 33\\\\\n",
       "\t gene\\_id & PUDP   & protein\\_coding & 21\\\\\n",
       "\t gene\\_id & MAP7D2 & protein\\_coding & 16\\\\\n",
       "\t gene\\_id & NLRP2  & protein\\_coding & 16\\\\\n",
       "\t gene\\_id & NA     & NA             & 16\\\\\n",
       "\t gene\\_id & JPX    & lncRNA         & 12\\\\\n",
       "\t gene\\_id & GSTM1  & protein\\_coding & 11\\\\\n",
       "\t gene\\_id & GYG2   & protein\\_coding & 11\\\\\n",
       "\t gene\\_id & CD163  & protein\\_coding &  9\\\\\n",
       "\t gene\\_id & CES1   & protein\\_coding &  9\\\\\n",
       "\t gene\\_id & PNPLA4 & protein\\_coding &  9\\\\\n",
       "\t gene\\_id & FCGR3B & protein\\_coding &  8\\\\\n",
       "\t gene\\_id & IL1R2  & protein\\_coding &  8\\\\\n",
       "\t gene\\_id & S100A8 & protein\\_coding &  8\\\\\n",
       "\t gene\\_id & VSIG4  & protein\\_coding &  8\\\\\n",
       "\t gene\\_id & CP     & protein\\_coding &  7\\\\\n",
       "\t gene\\_id & EIF1AX & protein\\_coding &  7\\\\\n",
       "\t gene\\_id & S100A9 & protein\\_coding &  7\\\\\n",
       "\\end{tabular}\n"
      ],
      "text/markdown": [
       "\n",
       "A tibble: 20 × 4\n",
       "\n",
       "| \"gene_id\" &lt;chr&gt; | GeneSymbol &lt;fct&gt; | Class &lt;fct&gt; | n &lt;int&gt; |\n",
       "|---|---|---|---|\n",
       "| gene_id | XIST   | lncRNA         | 46 |\n",
       "| gene_id | KDM6A  | protein_coding | 33 |\n",
       "| gene_id | ZFX    | protein_coding | 33 |\n",
       "| gene_id | PUDP   | protein_coding | 21 |\n",
       "| gene_id | MAP7D2 | protein_coding | 16 |\n",
       "| gene_id | NLRP2  | protein_coding | 16 |\n",
       "| gene_id | NA     | NA             | 16 |\n",
       "| gene_id | JPX    | lncRNA         | 12 |\n",
       "| gene_id | GSTM1  | protein_coding | 11 |\n",
       "| gene_id | GYG2   | protein_coding | 11 |\n",
       "| gene_id | CD163  | protein_coding |  9 |\n",
       "| gene_id | CES1   | protein_coding |  9 |\n",
       "| gene_id | PNPLA4 | protein_coding |  9 |\n",
       "| gene_id | FCGR3B | protein_coding |  8 |\n",
       "| gene_id | IL1R2  | protein_coding |  8 |\n",
       "| gene_id | S100A8 | protein_coding |  8 |\n",
       "| gene_id | VSIG4  | protein_coding |  8 |\n",
       "| gene_id | CP     | protein_coding |  7 |\n",
       "| gene_id | EIF1AX | protein_coding |  7 |\n",
       "| gene_id | S100A9 | protein_coding |  7 |\n",
       "\n"
      ],
      "text/plain": [
       "   \"gene_id\" GeneSymbol Class          n \n",
       "1  gene_id   XIST       lncRNA         46\n",
       "2  gene_id   KDM6A      protein_coding 33\n",
       "3  gene_id   ZFX        protein_coding 33\n",
       "4  gene_id   PUDP       protein_coding 21\n",
       "5  gene_id   MAP7D2     protein_coding 16\n",
       "6  gene_id   NLRP2      protein_coding 16\n",
       "7  gene_id   NA         NA             16\n",
       "8  gene_id   JPX        lncRNA         12\n",
       "9  gene_id   GSTM1      protein_coding 11\n",
       "10 gene_id   GYG2       protein_coding 11\n",
       "11 gene_id   CD163      protein_coding  9\n",
       "12 gene_id   CES1       protein_coding  9\n",
       "13 gene_id   PNPLA4     protein_coding  9\n",
       "14 gene_id   FCGR3B     protein_coding  8\n",
       "15 gene_id   IL1R2      protein_coding  8\n",
       "16 gene_id   S100A8     protein_coding  8\n",
       "17 gene_id   VSIG4      protein_coding  8\n",
       "18 gene_id   CP         protein_coding  7\n",
       "19 gene_id   EIF1AX     protein_coding  7\n",
       "20 gene_id   S100A9     protein_coding  7"
      ]
     },
     "metadata": {},
     "output_type": "display_data"
    }
   ],
   "source": [
    "only_female_genes %>% \n",
    "    count( !!GENE_ID, GeneSymbol, Class, sort = TRUE) %>%\n",
    "    head(20)"
   ]
  },
  {
   "cell_type": "markdown",
   "metadata": {},
   "source": [
    "# Examine number of differentially expressed genes per chromosome per sex"
   ]
  },
  {
   "cell_type": "code",
   "execution_count": 47,
   "metadata": {},
   "outputs": [
    {
     "name": "stderr",
     "output_type": "stream",
     "text": [
      "Warning message:\n",
      "“Factor `Chromosome` contains implicit NA, consider using `forcats::fct_explicit_na`”Warning message:\n",
      "“Factor `Chromosome` contains implicit NA, consider using `forcats::fct_explicit_na`”"
     ]
    }
   ],
   "source": [
    "signif_per_tissue$Chromosome <- as.factor(signif_per_tissue$Chromosome)\n",
    "signif_per_tissue$higher_in <- as.factor(signif_per_tissue$higher_in)\n",
    "\n",
    "signif_per_tissue %>% \n",
    "    group_by(Chromosome,higher_in) %>%  \n",
    "    count()  -> signif_per_chrom_per_sex"
   ]
  },
  {
   "cell_type": "code",
   "execution_count": 48,
   "metadata": {},
   "outputs": [
    {
     "data": {
      "text/html": [
       "<table>\n",
       "<caption>A grouped_df: 51 × 3</caption>\n",
       "<thead>\n",
       "\t<tr><th scope=col>Chromosome</th><th scope=col>higher_in</th><th scope=col>n</th></tr>\n",
       "\t<tr><th scope=col>&lt;fct&gt;</th><th scope=col>&lt;fct&gt;</th><th scope=col>&lt;int&gt;</th></tr>\n",
       "</thead>\n",
       "<tbody>\n",
       "\t<tr><td>1 </td><td>females</td><td>355</td></tr>\n",
       "\t<tr><td>1 </td><td>males  </td><td>165</td></tr>\n",
       "\t<tr><td>10</td><td>females</td><td> 79</td></tr>\n",
       "\t<tr><td>10</td><td>males  </td><td> 74</td></tr>\n",
       "\t<tr><td>11</td><td>females</td><td>142</td></tr>\n",
       "\t<tr><td>11</td><td>males  </td><td> 88</td></tr>\n",
       "\t<tr><td>12</td><td>females</td><td>138</td></tr>\n",
       "\t<tr><td>12</td><td>males  </td><td>115</td></tr>\n",
       "\t<tr><td>13</td><td>females</td><td> 28</td></tr>\n",
       "\t<tr><td>13</td><td>males  </td><td> 38</td></tr>\n",
       "\t<tr><td>14</td><td>females</td><td> 91</td></tr>\n",
       "\t<tr><td>14</td><td>males  </td><td> 57</td></tr>\n",
       "\t<tr><td>15</td><td>females</td><td> 78</td></tr>\n",
       "\t<tr><td>15</td><td>males  </td><td>101</td></tr>\n",
       "\t<tr><td>16</td><td>females</td><td> 87</td></tr>\n",
       "\t<tr><td>16</td><td>males  </td><td> 77</td></tr>\n",
       "\t<tr><td>17</td><td>females</td><td>142</td></tr>\n",
       "\t<tr><td>17</td><td>males  </td><td> 91</td></tr>\n",
       "\t<tr><td>18</td><td>females</td><td> 30</td></tr>\n",
       "\t<tr><td>18</td><td>males  </td><td> 41</td></tr>\n",
       "\t<tr><td>19</td><td>females</td><td>153</td></tr>\n",
       "\t<tr><td>19</td><td>males  </td><td> 65</td></tr>\n",
       "\t<tr><td>2 </td><td>females</td><td>178</td></tr>\n",
       "\t<tr><td>2 </td><td>males  </td><td>145</td></tr>\n",
       "\t<tr><td>20</td><td>females</td><td> 71</td></tr>\n",
       "\t<tr><td>20</td><td>males  </td><td>131</td></tr>\n",
       "\t<tr><td>21</td><td>females</td><td> 33</td></tr>\n",
       "\t<tr><td>21</td><td>males  </td><td> 21</td></tr>\n",
       "\t<tr><td>22</td><td>females</td><td> 73</td></tr>\n",
       "\t<tr><td>22</td><td>males  </td><td> 59</td></tr>\n",
       "\t<tr><td>3 </td><td>females</td><td>149</td></tr>\n",
       "\t<tr><td>3 </td><td>males  </td><td> 92</td></tr>\n",
       "\t<tr><td>4 </td><td>females</td><td>111</td></tr>\n",
       "\t<tr><td>4 </td><td>males  </td><td>100</td></tr>\n",
       "\t<tr><td>5 </td><td>females</td><td>108</td></tr>\n",
       "\t<tr><td>5 </td><td>males  </td><td>102</td></tr>\n",
       "\t<tr><td>6 </td><td>females</td><td> 96</td></tr>\n",
       "\t<tr><td>6 </td><td>males  </td><td>119</td></tr>\n",
       "\t<tr><td>7 </td><td>females</td><td>116</td></tr>\n",
       "\t<tr><td>7 </td><td>males  </td><td> 82</td></tr>\n",
       "\t<tr><td>8 </td><td>females</td><td> 88</td></tr>\n",
       "\t<tr><td>8 </td><td>males  </td><td> 70</td></tr>\n",
       "\t<tr><td>9 </td><td>females</td><td> 67</td></tr>\n",
       "\t<tr><td>9 </td><td>males  </td><td> 71</td></tr>\n",
       "\t<tr><td>MT</td><td>females</td><td>  1</td></tr>\n",
       "\t<tr><td>MT</td><td>males  </td><td>  1</td></tr>\n",
       "\t<tr><td>X </td><td>females</td><td>295</td></tr>\n",
       "\t<tr><td>X </td><td>males  </td><td>112</td></tr>\n",
       "\t<tr><td>Y </td><td>males  </td><td>585</td></tr>\n",
       "\t<tr><td>NA</td><td>females</td><td> 16</td></tr>\n",
       "\t<tr><td>NA</td><td>males  </td><td> 47</td></tr>\n",
       "</tbody>\n",
       "</table>\n"
      ],
      "text/latex": [
       "A grouped\\_df: 51 × 3\n",
       "\\begin{tabular}{lll}\n",
       " Chromosome & higher\\_in & n\\\\\n",
       " <fct> & <fct> & <int>\\\\\n",
       "\\hline\n",
       "\t 1  & females & 355\\\\\n",
       "\t 1  & males   & 165\\\\\n",
       "\t 10 & females &  79\\\\\n",
       "\t 10 & males   &  74\\\\\n",
       "\t 11 & females & 142\\\\\n",
       "\t 11 & males   &  88\\\\\n",
       "\t 12 & females & 138\\\\\n",
       "\t 12 & males   & 115\\\\\n",
       "\t 13 & females &  28\\\\\n",
       "\t 13 & males   &  38\\\\\n",
       "\t 14 & females &  91\\\\\n",
       "\t 14 & males   &  57\\\\\n",
       "\t 15 & females &  78\\\\\n",
       "\t 15 & males   & 101\\\\\n",
       "\t 16 & females &  87\\\\\n",
       "\t 16 & males   &  77\\\\\n",
       "\t 17 & females & 142\\\\\n",
       "\t 17 & males   &  91\\\\\n",
       "\t 18 & females &  30\\\\\n",
       "\t 18 & males   &  41\\\\\n",
       "\t 19 & females & 153\\\\\n",
       "\t 19 & males   &  65\\\\\n",
       "\t 2  & females & 178\\\\\n",
       "\t 2  & males   & 145\\\\\n",
       "\t 20 & females &  71\\\\\n",
       "\t 20 & males   & 131\\\\\n",
       "\t 21 & females &  33\\\\\n",
       "\t 21 & males   &  21\\\\\n",
       "\t 22 & females &  73\\\\\n",
       "\t 22 & males   &  59\\\\\n",
       "\t 3  & females & 149\\\\\n",
       "\t 3  & males   &  92\\\\\n",
       "\t 4  & females & 111\\\\\n",
       "\t 4  & males   & 100\\\\\n",
       "\t 5  & females & 108\\\\\n",
       "\t 5  & males   & 102\\\\\n",
       "\t 6  & females &  96\\\\\n",
       "\t 6  & males   & 119\\\\\n",
       "\t 7  & females & 116\\\\\n",
       "\t 7  & males   &  82\\\\\n",
       "\t 8  & females &  88\\\\\n",
       "\t 8  & males   &  70\\\\\n",
       "\t 9  & females &  67\\\\\n",
       "\t 9  & males   &  71\\\\\n",
       "\t MT & females &   1\\\\\n",
       "\t MT & males   &   1\\\\\n",
       "\t X  & females & 295\\\\\n",
       "\t X  & males   & 112\\\\\n",
       "\t Y  & males   & 585\\\\\n",
       "\t NA & females &  16\\\\\n",
       "\t NA & males   &  47\\\\\n",
       "\\end{tabular}\n"
      ],
      "text/markdown": [
       "\n",
       "A grouped_df: 51 × 3\n",
       "\n",
       "| Chromosome &lt;fct&gt; | higher_in &lt;fct&gt; | n &lt;int&gt; |\n",
       "|---|---|---|\n",
       "| 1  | females | 355 |\n",
       "| 1  | males   | 165 |\n",
       "| 10 | females |  79 |\n",
       "| 10 | males   |  74 |\n",
       "| 11 | females | 142 |\n",
       "| 11 | males   |  88 |\n",
       "| 12 | females | 138 |\n",
       "| 12 | males   | 115 |\n",
       "| 13 | females |  28 |\n",
       "| 13 | males   |  38 |\n",
       "| 14 | females |  91 |\n",
       "| 14 | males   |  57 |\n",
       "| 15 | females |  78 |\n",
       "| 15 | males   | 101 |\n",
       "| 16 | females |  87 |\n",
       "| 16 | males   |  77 |\n",
       "| 17 | females | 142 |\n",
       "| 17 | males   |  91 |\n",
       "| 18 | females |  30 |\n",
       "| 18 | males   |  41 |\n",
       "| 19 | females | 153 |\n",
       "| 19 | males   |  65 |\n",
       "| 2  | females | 178 |\n",
       "| 2  | males   | 145 |\n",
       "| 20 | females |  71 |\n",
       "| 20 | males   | 131 |\n",
       "| 21 | females |  33 |\n",
       "| 21 | males   |  21 |\n",
       "| 22 | females |  73 |\n",
       "| 22 | males   |  59 |\n",
       "| 3  | females | 149 |\n",
       "| 3  | males   |  92 |\n",
       "| 4  | females | 111 |\n",
       "| 4  | males   | 100 |\n",
       "| 5  | females | 108 |\n",
       "| 5  | males   | 102 |\n",
       "| 6  | females |  96 |\n",
       "| 6  | males   | 119 |\n",
       "| 7  | females | 116 |\n",
       "| 7  | males   |  82 |\n",
       "| 8  | females |  88 |\n",
       "| 8  | males   |  70 |\n",
       "| 9  | females |  67 |\n",
       "| 9  | males   |  71 |\n",
       "| MT | females |   1 |\n",
       "| MT | males   |   1 |\n",
       "| X  | females | 295 |\n",
       "| X  | males   | 112 |\n",
       "| Y  | males   | 585 |\n",
       "| NA | females |  16 |\n",
       "| NA | males   |  47 |\n",
       "\n"
      ],
      "text/plain": [
       "   Chromosome higher_in n  \n",
       "1  1          females   355\n",
       "2  1          males     165\n",
       "3  10         females    79\n",
       "4  10         males      74\n",
       "5  11         females   142\n",
       "6  11         males      88\n",
       "7  12         females   138\n",
       "8  12         males     115\n",
       "9  13         females    28\n",
       "10 13         males      38\n",
       "11 14         females    91\n",
       "12 14         males      57\n",
       "13 15         females    78\n",
       "14 15         males     101\n",
       "15 16         females    87\n",
       "16 16         males      77\n",
       "17 17         females   142\n",
       "18 17         males      91\n",
       "19 18         females    30\n",
       "20 18         males      41\n",
       "21 19         females   153\n",
       "22 19         males      65\n",
       "23 2          females   178\n",
       "24 2          males     145\n",
       "25 20         females    71\n",
       "26 20         males     131\n",
       "27 21         females    33\n",
       "28 21         males      21\n",
       "29 22         females    73\n",
       "30 22         males      59\n",
       "31 3          females   149\n",
       "32 3          males      92\n",
       "33 4          females   111\n",
       "34 4          males     100\n",
       "35 5          females   108\n",
       "36 5          males     102\n",
       "37 6          females    96\n",
       "38 6          males     119\n",
       "39 7          females   116\n",
       "40 7          males      82\n",
       "41 8          females    88\n",
       "42 8          males      70\n",
       "43 9          females    67\n",
       "44 9          males      71\n",
       "45 MT         females     1\n",
       "46 MT         males       1\n",
       "47 X          females   295\n",
       "48 X          males     112\n",
       "49 Y          males     585\n",
       "50 NA         females    16\n",
       "51 NA         males      47"
      ]
     },
     "metadata": {},
     "output_type": "display_data"
    }
   ],
   "source": [
    "signif_per_chrom_per_sex"
   ]
  },
  {
   "cell_type": "markdown",
   "metadata": {},
   "source": [
    "## Metadata\n",
    "\n",
    "For replicability and reproducibility purposes, we also print the following metadata:\n",
    "\n",
    "1. Checksums of **'artefacts'**, files generated during the analysis and stored in the folder directory **`data`**\n",
    "2. List of environment metadata, dependencies, versions of libraries using `utils::sessionInfo()` and [`devtools::session_info()`](https://devtools.r-lib.org/reference/session_info.html)"
   ]
  },
  {
   "cell_type": "code",
   "execution_count": 49,
   "metadata": {},
   "outputs": [
    {
     "name": "stderr",
     "output_type": "stream",
     "text": [
      "Generating sha256 checksums of the artefacts in the `..data/` directory .. \n"
     ]
    },
    {
     "data": {
      "text/html": [],
      "text/latex": [],
      "text/markdown": [],
      "text/plain": [
       "character(0)"
      ]
     },
     "metadata": {},
     "output_type": "display_data"
    },
    {
     "data": {
      "text/html": [],
      "text/latex": [],
      "text/markdown": [],
      "text/plain": [
       "character(0)"
      ]
     },
     "metadata": {},
     "output_type": "display_data"
    },
    {
     "name": "stderr",
     "output_type": "stream",
     "text": [
      "Done!\n",
      "\n"
     ]
    },
    {
     "data": {
      "text/html": [
       "<table>\n",
       "<caption>A data.table: 148 × 2</caption>\n",
       "<thead>\n",
       "\t<tr><th scope=col>sha256sum</th><th scope=col>file</th></tr>\n",
       "\t<tr><th scope=col>&lt;chr&gt;</th><th scope=col>&lt;chr&gt;</th></tr>\n",
       "</thead>\n",
       "<tbody>\n",
       "\t<tr><td>f7bf10e5a2f335fb5eb92eab7749392ad3a96a959bce96f6075962555bc7f072</td><td>dge/Adipose-Subcutaneous_DGE.csv                </td></tr>\n",
       "\t<tr><td>3769ae0c0a05f6884e510a227d8d517bbe74b6147b4d9c5dcd097a5cc71661c5</td><td>dge/Adipose-Visceral(Omentum)_DGE.csv           </td></tr>\n",
       "\t<tr><td>a68be6697a068235f45f956b90c45eeb7b83785b215e7d75f32a3c7fd651373e</td><td>dge/AdrenalGland_DGE.csv                        </td></tr>\n",
       "\t<tr><td>fe04ff9e0c445ac67aaf2d12ee152ff164a9eb4d23b3cbf0a770c3d0e7841bbe</td><td>dge/Artery-Aorta_DGE.csv                        </td></tr>\n",
       "\t<tr><td>83292d3a6bf7583598ec60940bc2f29ffc2139e8923b5731ae5d33bfeca3ead0</td><td>dge/Artery-Coronary_DGE.csv                     </td></tr>\n",
       "\t<tr><td>588b0aee472c299a9d9aaed572177a8a816ace8ca3419152da7966505d5a7a52</td><td>dge/Artery-Tibial_DGE.csv                       </td></tr>\n",
       "\t<tr><td>5b69dcb829a68c0fef9db8e9fd091afec4dd1c2bbf2eb3d220dc279582403f0e</td><td>dge/Bladder_DGE.csv                             </td></tr>\n",
       "\t<tr><td>5e67e3716f94dcd032eec1468a86e95e22d923d718b28f04d7b4d863411ad6e5</td><td>dge/Brain-Amygdala_DGE.csv                      </td></tr>\n",
       "\t<tr><td>79ef74c37d1c0ec3622898d9c67d441f085407a0fa9b2efb7696bf946c9a7efd</td><td>dge/Brain-Anteriorcingulatecortex(BA24)_DGE.csv </td></tr>\n",
       "\t<tr><td>4d6aed8ec12f89b5113d88f7a1042e62c4316a2f1e126fe99b280edb76783e27</td><td>dge/Brain-Caudate(basalganglia)_DGE.csv         </td></tr>\n",
       "\t<tr><td>78185e72f94e7b6e6a8348023fe65012b374d040e600a4d5f78e32263d88d2af</td><td>dge/Brain-CerebellarHemisphere_DGE.csv          </td></tr>\n",
       "\t<tr><td>5a72548e31af56316bdaaa5aff79e27242a7b243a67c7237bc41a88f19f4ba25</td><td>dge/Brain-Cerebellum_DGE.csv                    </td></tr>\n",
       "\t<tr><td>9c85a0df3fc4549e3ac6b54753c8b5b0f19e3208ceb3908d94bf37cf89f1c650</td><td>dge/Brain-Cortex_DGE.csv                        </td></tr>\n",
       "\t<tr><td>0490b244885e292565fba0a96874c9215500386f386e5e0f9ea5c620ec8752e4</td><td>dge/Brain-FrontalCortex(BA9)_DGE.csv            </td></tr>\n",
       "\t<tr><td>015a9f807786017e5d90a8db1a53f7f038bf7de78e95031777f694d7e2f73ea2</td><td>dge/Brain-Hippocampus_DGE.csv                   </td></tr>\n",
       "\t<tr><td>21daa1ed56eb8bd4da82197765ae3d810c5a518980331b22c3aec8ac8883dd2d</td><td>dge/Brain-Hypothalamus_DGE.csv                  </td></tr>\n",
       "\t<tr><td>a43f80ffb5814a0c082bca4ba8e61625938174ce331dccd0e9865100619e54de</td><td>dge/Brain-Nucleusaccumbens(basalganglia)_DGE.csv</td></tr>\n",
       "\t<tr><td>6228062638bd532b893940ab145e29ab20a3025e008d554dc9d8f506a27dd6a1</td><td>dge/Brain-Putamen(basalganglia)_DGE.csv         </td></tr>\n",
       "\t<tr><td>df5a650694bd454b41b083548af60d1d75b951308d857ebbf6c5446336b93ea7</td><td>dge/Brain-Spinalcord(cervicalc-1)_DGE.csv       </td></tr>\n",
       "\t<tr><td>27f252da20e39fd744ccaf02b0cd1eb7bd7d5f1b5ffbf87478eadb13f3a4ebde</td><td>dge/Brain-Substantianigra_DGE.csv               </td></tr>\n",
       "\t<tr><td>c5153c0d0852c0b13186e8adc1f7a218b067aab868d499d45920459dc68910b4</td><td>dge/Breast-MammaryTissue_DGE.csv                </td></tr>\n",
       "\t<tr><td>e36bc01ee094ea7c3a385a29c8ede363165acc8a3f66796cb439e793819bbd3e</td><td>dge/Cells-Culturedfibroblasts_DGE.csv           </td></tr>\n",
       "\t<tr><td>a2c3bd3cfd8f195580132b97cb1088f51fab5ab5479031ebffc01e41a05da12e</td><td>dge/Cells-EBV-transformedlymphocytes_DGE.csv    </td></tr>\n",
       "\t<tr><td>7778e6c55977dab75ed090a3e6f6cfc8150a10c8fe24dcf6d9dacff8e80813e5</td><td>dge/Colon-Sigmoid_DGE.csv                       </td></tr>\n",
       "\t<tr><td>ca64c3a873f0de57d256cac329e7086417766823ab3276610a7731cb4debc379</td><td>dge/Colon-Transverse_DGE.csv                    </td></tr>\n",
       "\t<tr><td>161710f07cacbd4096afe61783e527d09819ed5107256d2b4bab71f832f699bb</td><td>dge/Esophagus-GastroesophagealJunction_DGE.csv  </td></tr>\n",
       "\t<tr><td>eff6f2f318a3a9b42cf8ae0e39c0709183c6253938398ba9ee93cbb86027f3df</td><td>dge/Esophagus-Mucosa_DGE.csv                    </td></tr>\n",
       "\t<tr><td>3e63e85d28fb44be5aafda4dc571d461d6054c7920af3609b7e5b3b611808af5</td><td>dge/Esophagus-Muscularis_DGE.csv                </td></tr>\n",
       "\t<tr><td>e1af3a41d41a96c895221b6a5d5b7ee45ebac7b72f9fa2b19481a6c657618aa1</td><td>dge/Heart-AtrialAppendage_DGE.csv               </td></tr>\n",
       "\t<tr><td>bf23a4cdee9d3b5814e01c14ce36ad1d1f9cef43a8763ce615405a573ca20f7e</td><td>dge/Heart-LeftVentricle_DGE.csv                 </td></tr>\n",
       "\t<tr><td>⋮</td><td>⋮</td></tr>\n",
       "\t<tr><td>16b71b918faa508d19a85595d12a8592910ee4b4836b2582264b83be1ace9243</td><td>signif_brain_substantianigra.csv              </td></tr>\n",
       "\t<tr><td>0c0d5f276289d32b41fa6fcfd3c59427094ef7cf1d77559b701ebe25e7356f4f</td><td>signif_breast_mammary_tissue.csv              </td></tr>\n",
       "\t<tr><td>5fa9c11a703aa7646b207ba5093c71d2f19cd32dd2739df76ce8d3b195fa08c4</td><td>signif_cells_cultured_fibroblasts.csv         </td></tr>\n",
       "\t<tr><td>ace46532b64e9058091aa623442287afbc5a23c6f54bc3a5bf0213d7fc5d2dac</td><td>signif_cells_culturedfibroblasts.csv          </td></tr>\n",
       "\t<tr><td>bd699a7ec59d81d97f2a59224309144e3623c1a86ba8fcafd15e194cd8448d33</td><td>signif_cells_ebv_transformed_lymphocytes.csv  </td></tr>\n",
       "\t<tr><td>d31738e6c541f33dc90cd2f75abd318f89aeb19d7dd6cb25539986ca8221b83a</td><td>signif_cells_ebv_transformedlymphocytes.csv   </td></tr>\n",
       "\t<tr><td>787d62b0be21c32b35867ffa24151ff26e6234ae715d54b6538f20fbf6d1cb76</td><td>signif_colon_sigmoid.csv                      </td></tr>\n",
       "\t<tr><td>23d9f7cf69f79dbee5414f98c9732f0385de02523b4d56aff349c8b207b59527</td><td>signif_colon_transverse.csv                   </td></tr>\n",
       "\t<tr><td>55f17dd626358cdc993c29adad68400589f923b33ab7b6080a1a4c8860b5f94b</td><td>signif_esophagus_gastroesophageal_junction.csv</td></tr>\n",
       "\t<tr><td>e063e2bf9b7000c6ea3b6a6d7761261ea346256f1918774431da848ee0c88a57</td><td>signif_esophagus_mucosa.csv                   </td></tr>\n",
       "\t<tr><td>ec13fda34d5eb0f2fe879d3f00d5e63bf8740fde911817d46ff459c3efcd754c</td><td>signif_esophagus_muscularis.csv               </td></tr>\n",
       "\t<tr><td>f686af06880104378d469d4ff50ea4866d932b252dd2e3c9c5d2195a3ca1c94e</td><td>signif_heart_atrial_appendage.csv             </td></tr>\n",
       "\t<tr><td>01c3fba28b2e92783bc10ee1262864b7b09850c072cadfd1124779bb63e35fa3</td><td>signif_heart_left_ventricle.csv               </td></tr>\n",
       "\t<tr><td>6800d85a4dc469ca4398f526c14cb71f720ab1bca878ba77bd3ede1b1f43481f</td><td>signif_kidney_cortex.csv                      </td></tr>\n",
       "\t<tr><td>aa50134ebf50d98ec9a9fa684fdc9c31fe571a78eac7350ab70ad07aac9a3966</td><td>signif_kidney_medulla.csv                     </td></tr>\n",
       "\t<tr><td>51102e262b2496687ec40291c21d662662f9f5deffa5291f5313282bdaed687b</td><td>signif_liver.csv                              </td></tr>\n",
       "\t<tr><td>c2ab8f0c321c3f7958500343975fcc03656a7c90cc7a6406a4498dccca2c335d</td><td>signif_lung.csv                               </td></tr>\n",
       "\t<tr><td>099cb6e5c61a081bb578f5dc49387b4ff5a1b2a70c9d763934aaf2b4dea62ac3</td><td>signif_minor_salivary_gland.csv               </td></tr>\n",
       "\t<tr><td>b19cc2bc29f384a76407577aa8974daccae6f4f540533a48a6052526167c1656</td><td>signif_muscle_skeletal.csv                    </td></tr>\n",
       "\t<tr><td>d2206cca16b5d6d24ca34c5f09a18ac4f0e7f8819fc272bac13fa87ca142b43b</td><td>signif_nerve_tibial.csv                       </td></tr>\n",
       "\t<tr><td>9d27d1d31c9baddb48dac225c1a57ea910529607975578415901d8ef9f5a84ff</td><td>signif_pancreas.csv                           </td></tr>\n",
       "\t<tr><td>7b6491d3de4b8e81821ab340002af18533b8d06a5ae66fbabb3f397ca2ac0fc0</td><td>signif_pituitary.csv                          </td></tr>\n",
       "\t<tr><td>4f7cc6ee9ccf0d085d300757716aae1f00ed4f8012d8b7544d974d35a1579d99</td><td>signif_skin_not_sun_exposed_suprapubic.csv    </td></tr>\n",
       "\t<tr><td>3084d6b5b917d559576272218ef9b7c7d2fcef78cb91f49aa45ac8d5c4b28559</td><td>signif_skin_sun_exposed_lower_leg.csv         </td></tr>\n",
       "\t<tr><td>bdc11873abb9b9a648322dd18deac53eff99773c2b7e1b42aa99bce5556a8255</td><td>signif_skin_sun_exposed_lowerleg.csv          </td></tr>\n",
       "\t<tr><td>138ee7478d3e804ac768646f03740d3a9c5c5b2aca98ca50a3e18c4a4e21f7cc</td><td>signif_small_intestine_terminal_ileum.csv     </td></tr>\n",
       "\t<tr><td>b34ee22a8aad2c67e0775b3a43f9b594c541bbe25d004a3d5ec8202697ea1620</td><td>signif_spleen.csv                             </td></tr>\n",
       "\t<tr><td>c6857b8eb833d0ad12eae84b57e6090362232682314b41bf3d71afb5137a6c0a</td><td>signif_stomach.csv                            </td></tr>\n",
       "\t<tr><td>42f318bd1d4fea1e0e8473021b93765dd3c0ba2c5c24ab8bf3637ac6c071dc57</td><td>signif_thyroid.csv                            </td></tr>\n",
       "\t<tr><td>335994b3547e8e35a4fc7ee5d1f98d3aba42a1abe24f319d418c453dc9ccb937</td><td>signif_whole_blood.csv                        </td></tr>\n",
       "</tbody>\n",
       "</table>\n"
      ],
      "text/latex": [
       "A data.table: 148 × 2\n",
       "\\begin{tabular}{ll}\n",
       " sha256sum & file\\\\\n",
       " <chr> & <chr>\\\\\n",
       "\\hline\n",
       "\t f7bf10e5a2f335fb5eb92eab7749392ad3a96a959bce96f6075962555bc7f072 & dge/Adipose-Subcutaneous\\_DGE.csv                \\\\\n",
       "\t 3769ae0c0a05f6884e510a227d8d517bbe74b6147b4d9c5dcd097a5cc71661c5 & dge/Adipose-Visceral(Omentum)\\_DGE.csv           \\\\\n",
       "\t a68be6697a068235f45f956b90c45eeb7b83785b215e7d75f32a3c7fd651373e & dge/AdrenalGland\\_DGE.csv                        \\\\\n",
       "\t fe04ff9e0c445ac67aaf2d12ee152ff164a9eb4d23b3cbf0a770c3d0e7841bbe & dge/Artery-Aorta\\_DGE.csv                        \\\\\n",
       "\t 83292d3a6bf7583598ec60940bc2f29ffc2139e8923b5731ae5d33bfeca3ead0 & dge/Artery-Coronary\\_DGE.csv                     \\\\\n",
       "\t 588b0aee472c299a9d9aaed572177a8a816ace8ca3419152da7966505d5a7a52 & dge/Artery-Tibial\\_DGE.csv                       \\\\\n",
       "\t 5b69dcb829a68c0fef9db8e9fd091afec4dd1c2bbf2eb3d220dc279582403f0e & dge/Bladder\\_DGE.csv                             \\\\\n",
       "\t 5e67e3716f94dcd032eec1468a86e95e22d923d718b28f04d7b4d863411ad6e5 & dge/Brain-Amygdala\\_DGE.csv                      \\\\\n",
       "\t 79ef74c37d1c0ec3622898d9c67d441f085407a0fa9b2efb7696bf946c9a7efd & dge/Brain-Anteriorcingulatecortex(BA24)\\_DGE.csv \\\\\n",
       "\t 4d6aed8ec12f89b5113d88f7a1042e62c4316a2f1e126fe99b280edb76783e27 & dge/Brain-Caudate(basalganglia)\\_DGE.csv         \\\\\n",
       "\t 78185e72f94e7b6e6a8348023fe65012b374d040e600a4d5f78e32263d88d2af & dge/Brain-CerebellarHemisphere\\_DGE.csv          \\\\\n",
       "\t 5a72548e31af56316bdaaa5aff79e27242a7b243a67c7237bc41a88f19f4ba25 & dge/Brain-Cerebellum\\_DGE.csv                    \\\\\n",
       "\t 9c85a0df3fc4549e3ac6b54753c8b5b0f19e3208ceb3908d94bf37cf89f1c650 & dge/Brain-Cortex\\_DGE.csv                        \\\\\n",
       "\t 0490b244885e292565fba0a96874c9215500386f386e5e0f9ea5c620ec8752e4 & dge/Brain-FrontalCortex(BA9)\\_DGE.csv            \\\\\n",
       "\t 015a9f807786017e5d90a8db1a53f7f038bf7de78e95031777f694d7e2f73ea2 & dge/Brain-Hippocampus\\_DGE.csv                   \\\\\n",
       "\t 21daa1ed56eb8bd4da82197765ae3d810c5a518980331b22c3aec8ac8883dd2d & dge/Brain-Hypothalamus\\_DGE.csv                  \\\\\n",
       "\t a43f80ffb5814a0c082bca4ba8e61625938174ce331dccd0e9865100619e54de & dge/Brain-Nucleusaccumbens(basalganglia)\\_DGE.csv\\\\\n",
       "\t 6228062638bd532b893940ab145e29ab20a3025e008d554dc9d8f506a27dd6a1 & dge/Brain-Putamen(basalganglia)\\_DGE.csv         \\\\\n",
       "\t df5a650694bd454b41b083548af60d1d75b951308d857ebbf6c5446336b93ea7 & dge/Brain-Spinalcord(cervicalc-1)\\_DGE.csv       \\\\\n",
       "\t 27f252da20e39fd744ccaf02b0cd1eb7bd7d5f1b5ffbf87478eadb13f3a4ebde & dge/Brain-Substantianigra\\_DGE.csv               \\\\\n",
       "\t c5153c0d0852c0b13186e8adc1f7a218b067aab868d499d45920459dc68910b4 & dge/Breast-MammaryTissue\\_DGE.csv                \\\\\n",
       "\t e36bc01ee094ea7c3a385a29c8ede363165acc8a3f66796cb439e793819bbd3e & dge/Cells-Culturedfibroblasts\\_DGE.csv           \\\\\n",
       "\t a2c3bd3cfd8f195580132b97cb1088f51fab5ab5479031ebffc01e41a05da12e & dge/Cells-EBV-transformedlymphocytes\\_DGE.csv    \\\\\n",
       "\t 7778e6c55977dab75ed090a3e6f6cfc8150a10c8fe24dcf6d9dacff8e80813e5 & dge/Colon-Sigmoid\\_DGE.csv                       \\\\\n",
       "\t ca64c3a873f0de57d256cac329e7086417766823ab3276610a7731cb4debc379 & dge/Colon-Transverse\\_DGE.csv                    \\\\\n",
       "\t 161710f07cacbd4096afe61783e527d09819ed5107256d2b4bab71f832f699bb & dge/Esophagus-GastroesophagealJunction\\_DGE.csv  \\\\\n",
       "\t eff6f2f318a3a9b42cf8ae0e39c0709183c6253938398ba9ee93cbb86027f3df & dge/Esophagus-Mucosa\\_DGE.csv                    \\\\\n",
       "\t 3e63e85d28fb44be5aafda4dc571d461d6054c7920af3609b7e5b3b611808af5 & dge/Esophagus-Muscularis\\_DGE.csv                \\\\\n",
       "\t e1af3a41d41a96c895221b6a5d5b7ee45ebac7b72f9fa2b19481a6c657618aa1 & dge/Heart-AtrialAppendage\\_DGE.csv               \\\\\n",
       "\t bf23a4cdee9d3b5814e01c14ce36ad1d1f9cef43a8763ce615405a573ca20f7e & dge/Heart-LeftVentricle\\_DGE.csv                 \\\\\n",
       "\t ⋮ & ⋮\\\\\n",
       "\t 16b71b918faa508d19a85595d12a8592910ee4b4836b2582264b83be1ace9243 & signif\\_brain\\_substantianigra.csv              \\\\\n",
       "\t 0c0d5f276289d32b41fa6fcfd3c59427094ef7cf1d77559b701ebe25e7356f4f & signif\\_breast\\_mammary\\_tissue.csv              \\\\\n",
       "\t 5fa9c11a703aa7646b207ba5093c71d2f19cd32dd2739df76ce8d3b195fa08c4 & signif\\_cells\\_cultured\\_fibroblasts.csv         \\\\\n",
       "\t ace46532b64e9058091aa623442287afbc5a23c6f54bc3a5bf0213d7fc5d2dac & signif\\_cells\\_culturedfibroblasts.csv          \\\\\n",
       "\t bd699a7ec59d81d97f2a59224309144e3623c1a86ba8fcafd15e194cd8448d33 & signif\\_cells\\_ebv\\_transformed\\_lymphocytes.csv  \\\\\n",
       "\t d31738e6c541f33dc90cd2f75abd318f89aeb19d7dd6cb25539986ca8221b83a & signif\\_cells\\_ebv\\_transformedlymphocytes.csv   \\\\\n",
       "\t 787d62b0be21c32b35867ffa24151ff26e6234ae715d54b6538f20fbf6d1cb76 & signif\\_colon\\_sigmoid.csv                      \\\\\n",
       "\t 23d9f7cf69f79dbee5414f98c9732f0385de02523b4d56aff349c8b207b59527 & signif\\_colon\\_transverse.csv                   \\\\\n",
       "\t 55f17dd626358cdc993c29adad68400589f923b33ab7b6080a1a4c8860b5f94b & signif\\_esophagus\\_gastroesophageal\\_junction.csv\\\\\n",
       "\t e063e2bf9b7000c6ea3b6a6d7761261ea346256f1918774431da848ee0c88a57 & signif\\_esophagus\\_mucosa.csv                   \\\\\n",
       "\t ec13fda34d5eb0f2fe879d3f00d5e63bf8740fde911817d46ff459c3efcd754c & signif\\_esophagus\\_muscularis.csv               \\\\\n",
       "\t f686af06880104378d469d4ff50ea4866d932b252dd2e3c9c5d2195a3ca1c94e & signif\\_heart\\_atrial\\_appendage.csv             \\\\\n",
       "\t 01c3fba28b2e92783bc10ee1262864b7b09850c072cadfd1124779bb63e35fa3 & signif\\_heart\\_left\\_ventricle.csv               \\\\\n",
       "\t 6800d85a4dc469ca4398f526c14cb71f720ab1bca878ba77bd3ede1b1f43481f & signif\\_kidney\\_cortex.csv                      \\\\\n",
       "\t aa50134ebf50d98ec9a9fa684fdc9c31fe571a78eac7350ab70ad07aac9a3966 & signif\\_kidney\\_medulla.csv                     \\\\\n",
       "\t 51102e262b2496687ec40291c21d662662f9f5deffa5291f5313282bdaed687b & signif\\_liver.csv                              \\\\\n",
       "\t c2ab8f0c321c3f7958500343975fcc03656a7c90cc7a6406a4498dccca2c335d & signif\\_lung.csv                               \\\\\n",
       "\t 099cb6e5c61a081bb578f5dc49387b4ff5a1b2a70c9d763934aaf2b4dea62ac3 & signif\\_minor\\_salivary\\_gland.csv               \\\\\n",
       "\t b19cc2bc29f384a76407577aa8974daccae6f4f540533a48a6052526167c1656 & signif\\_muscle\\_skeletal.csv                    \\\\\n",
       "\t d2206cca16b5d6d24ca34c5f09a18ac4f0e7f8819fc272bac13fa87ca142b43b & signif\\_nerve\\_tibial.csv                       \\\\\n",
       "\t 9d27d1d31c9baddb48dac225c1a57ea910529607975578415901d8ef9f5a84ff & signif\\_pancreas.csv                           \\\\\n",
       "\t 7b6491d3de4b8e81821ab340002af18533b8d06a5ae66fbabb3f397ca2ac0fc0 & signif\\_pituitary.csv                          \\\\\n",
       "\t 4f7cc6ee9ccf0d085d300757716aae1f00ed4f8012d8b7544d974d35a1579d99 & signif\\_skin\\_not\\_sun\\_exposed\\_suprapubic.csv    \\\\\n",
       "\t 3084d6b5b917d559576272218ef9b7c7d2fcef78cb91f49aa45ac8d5c4b28559 & signif\\_skin\\_sun\\_exposed\\_lower\\_leg.csv         \\\\\n",
       "\t bdc11873abb9b9a648322dd18deac53eff99773c2b7e1b42aa99bce5556a8255 & signif\\_skin\\_sun\\_exposed\\_lowerleg.csv          \\\\\n",
       "\t 138ee7478d3e804ac768646f03740d3a9c5c5b2aca98ca50a3e18c4a4e21f7cc & signif\\_small\\_intestine\\_terminal\\_ileum.csv     \\\\\n",
       "\t b34ee22a8aad2c67e0775b3a43f9b594c541bbe25d004a3d5ec8202697ea1620 & signif\\_spleen.csv                             \\\\\n",
       "\t c6857b8eb833d0ad12eae84b57e6090362232682314b41bf3d71afb5137a6c0a & signif\\_stomach.csv                            \\\\\n",
       "\t 42f318bd1d4fea1e0e8473021b93765dd3c0ba2c5c24ab8bf3637ac6c071dc57 & signif\\_thyroid.csv                            \\\\\n",
       "\t 335994b3547e8e35a4fc7ee5d1f98d3aba42a1abe24f319d418c453dc9ccb937 & signif\\_whole\\_blood.csv                        \\\\\n",
       "\\end{tabular}\n"
      ],
      "text/markdown": [
       "\n",
       "A data.table: 148 × 2\n",
       "\n",
       "| sha256sum &lt;chr&gt; | file &lt;chr&gt; |\n",
       "|---|---|\n",
       "| f7bf10e5a2f335fb5eb92eab7749392ad3a96a959bce96f6075962555bc7f072 | dge/Adipose-Subcutaneous_DGE.csv                 |\n",
       "| 3769ae0c0a05f6884e510a227d8d517bbe74b6147b4d9c5dcd097a5cc71661c5 | dge/Adipose-Visceral(Omentum)_DGE.csv            |\n",
       "| a68be6697a068235f45f956b90c45eeb7b83785b215e7d75f32a3c7fd651373e | dge/AdrenalGland_DGE.csv                         |\n",
       "| fe04ff9e0c445ac67aaf2d12ee152ff164a9eb4d23b3cbf0a770c3d0e7841bbe | dge/Artery-Aorta_DGE.csv                         |\n",
       "| 83292d3a6bf7583598ec60940bc2f29ffc2139e8923b5731ae5d33bfeca3ead0 | dge/Artery-Coronary_DGE.csv                      |\n",
       "| 588b0aee472c299a9d9aaed572177a8a816ace8ca3419152da7966505d5a7a52 | dge/Artery-Tibial_DGE.csv                        |\n",
       "| 5b69dcb829a68c0fef9db8e9fd091afec4dd1c2bbf2eb3d220dc279582403f0e | dge/Bladder_DGE.csv                              |\n",
       "| 5e67e3716f94dcd032eec1468a86e95e22d923d718b28f04d7b4d863411ad6e5 | dge/Brain-Amygdala_DGE.csv                       |\n",
       "| 79ef74c37d1c0ec3622898d9c67d441f085407a0fa9b2efb7696bf946c9a7efd | dge/Brain-Anteriorcingulatecortex(BA24)_DGE.csv  |\n",
       "| 4d6aed8ec12f89b5113d88f7a1042e62c4316a2f1e126fe99b280edb76783e27 | dge/Brain-Caudate(basalganglia)_DGE.csv          |\n",
       "| 78185e72f94e7b6e6a8348023fe65012b374d040e600a4d5f78e32263d88d2af | dge/Brain-CerebellarHemisphere_DGE.csv           |\n",
       "| 5a72548e31af56316bdaaa5aff79e27242a7b243a67c7237bc41a88f19f4ba25 | dge/Brain-Cerebellum_DGE.csv                     |\n",
       "| 9c85a0df3fc4549e3ac6b54753c8b5b0f19e3208ceb3908d94bf37cf89f1c650 | dge/Brain-Cortex_DGE.csv                         |\n",
       "| 0490b244885e292565fba0a96874c9215500386f386e5e0f9ea5c620ec8752e4 | dge/Brain-FrontalCortex(BA9)_DGE.csv             |\n",
       "| 015a9f807786017e5d90a8db1a53f7f038bf7de78e95031777f694d7e2f73ea2 | dge/Brain-Hippocampus_DGE.csv                    |\n",
       "| 21daa1ed56eb8bd4da82197765ae3d810c5a518980331b22c3aec8ac8883dd2d | dge/Brain-Hypothalamus_DGE.csv                   |\n",
       "| a43f80ffb5814a0c082bca4ba8e61625938174ce331dccd0e9865100619e54de | dge/Brain-Nucleusaccumbens(basalganglia)_DGE.csv |\n",
       "| 6228062638bd532b893940ab145e29ab20a3025e008d554dc9d8f506a27dd6a1 | dge/Brain-Putamen(basalganglia)_DGE.csv          |\n",
       "| df5a650694bd454b41b083548af60d1d75b951308d857ebbf6c5446336b93ea7 | dge/Brain-Spinalcord(cervicalc-1)_DGE.csv        |\n",
       "| 27f252da20e39fd744ccaf02b0cd1eb7bd7d5f1b5ffbf87478eadb13f3a4ebde | dge/Brain-Substantianigra_DGE.csv                |\n",
       "| c5153c0d0852c0b13186e8adc1f7a218b067aab868d499d45920459dc68910b4 | dge/Breast-MammaryTissue_DGE.csv                 |\n",
       "| e36bc01ee094ea7c3a385a29c8ede363165acc8a3f66796cb439e793819bbd3e | dge/Cells-Culturedfibroblasts_DGE.csv            |\n",
       "| a2c3bd3cfd8f195580132b97cb1088f51fab5ab5479031ebffc01e41a05da12e | dge/Cells-EBV-transformedlymphocytes_DGE.csv     |\n",
       "| 7778e6c55977dab75ed090a3e6f6cfc8150a10c8fe24dcf6d9dacff8e80813e5 | dge/Colon-Sigmoid_DGE.csv                        |\n",
       "| ca64c3a873f0de57d256cac329e7086417766823ab3276610a7731cb4debc379 | dge/Colon-Transverse_DGE.csv                     |\n",
       "| 161710f07cacbd4096afe61783e527d09819ed5107256d2b4bab71f832f699bb | dge/Esophagus-GastroesophagealJunction_DGE.csv   |\n",
       "| eff6f2f318a3a9b42cf8ae0e39c0709183c6253938398ba9ee93cbb86027f3df | dge/Esophagus-Mucosa_DGE.csv                     |\n",
       "| 3e63e85d28fb44be5aafda4dc571d461d6054c7920af3609b7e5b3b611808af5 | dge/Esophagus-Muscularis_DGE.csv                 |\n",
       "| e1af3a41d41a96c895221b6a5d5b7ee45ebac7b72f9fa2b19481a6c657618aa1 | dge/Heart-AtrialAppendage_DGE.csv                |\n",
       "| bf23a4cdee9d3b5814e01c14ce36ad1d1f9cef43a8763ce615405a573ca20f7e | dge/Heart-LeftVentricle_DGE.csv                  |\n",
       "| ⋮ | ⋮ |\n",
       "| 16b71b918faa508d19a85595d12a8592910ee4b4836b2582264b83be1ace9243 | signif_brain_substantianigra.csv               |\n",
       "| 0c0d5f276289d32b41fa6fcfd3c59427094ef7cf1d77559b701ebe25e7356f4f | signif_breast_mammary_tissue.csv               |\n",
       "| 5fa9c11a703aa7646b207ba5093c71d2f19cd32dd2739df76ce8d3b195fa08c4 | signif_cells_cultured_fibroblasts.csv          |\n",
       "| ace46532b64e9058091aa623442287afbc5a23c6f54bc3a5bf0213d7fc5d2dac | signif_cells_culturedfibroblasts.csv           |\n",
       "| bd699a7ec59d81d97f2a59224309144e3623c1a86ba8fcafd15e194cd8448d33 | signif_cells_ebv_transformed_lymphocytes.csv   |\n",
       "| d31738e6c541f33dc90cd2f75abd318f89aeb19d7dd6cb25539986ca8221b83a | signif_cells_ebv_transformedlymphocytes.csv    |\n",
       "| 787d62b0be21c32b35867ffa24151ff26e6234ae715d54b6538f20fbf6d1cb76 | signif_colon_sigmoid.csv                       |\n",
       "| 23d9f7cf69f79dbee5414f98c9732f0385de02523b4d56aff349c8b207b59527 | signif_colon_transverse.csv                    |\n",
       "| 55f17dd626358cdc993c29adad68400589f923b33ab7b6080a1a4c8860b5f94b | signif_esophagus_gastroesophageal_junction.csv |\n",
       "| e063e2bf9b7000c6ea3b6a6d7761261ea346256f1918774431da848ee0c88a57 | signif_esophagus_mucosa.csv                    |\n",
       "| ec13fda34d5eb0f2fe879d3f00d5e63bf8740fde911817d46ff459c3efcd754c | signif_esophagus_muscularis.csv                |\n",
       "| f686af06880104378d469d4ff50ea4866d932b252dd2e3c9c5d2195a3ca1c94e | signif_heart_atrial_appendage.csv              |\n",
       "| 01c3fba28b2e92783bc10ee1262864b7b09850c072cadfd1124779bb63e35fa3 | signif_heart_left_ventricle.csv                |\n",
       "| 6800d85a4dc469ca4398f526c14cb71f720ab1bca878ba77bd3ede1b1f43481f | signif_kidney_cortex.csv                       |\n",
       "| aa50134ebf50d98ec9a9fa684fdc9c31fe571a78eac7350ab70ad07aac9a3966 | signif_kidney_medulla.csv                      |\n",
       "| 51102e262b2496687ec40291c21d662662f9f5deffa5291f5313282bdaed687b | signif_liver.csv                               |\n",
       "| c2ab8f0c321c3f7958500343975fcc03656a7c90cc7a6406a4498dccca2c335d | signif_lung.csv                                |\n",
       "| 099cb6e5c61a081bb578f5dc49387b4ff5a1b2a70c9d763934aaf2b4dea62ac3 | signif_minor_salivary_gland.csv                |\n",
       "| b19cc2bc29f384a76407577aa8974daccae6f4f540533a48a6052526167c1656 | signif_muscle_skeletal.csv                     |\n",
       "| d2206cca16b5d6d24ca34c5f09a18ac4f0e7f8819fc272bac13fa87ca142b43b | signif_nerve_tibial.csv                        |\n",
       "| 9d27d1d31c9baddb48dac225c1a57ea910529607975578415901d8ef9f5a84ff | signif_pancreas.csv                            |\n",
       "| 7b6491d3de4b8e81821ab340002af18533b8d06a5ae66fbabb3f397ca2ac0fc0 | signif_pituitary.csv                           |\n",
       "| 4f7cc6ee9ccf0d085d300757716aae1f00ed4f8012d8b7544d974d35a1579d99 | signif_skin_not_sun_exposed_suprapubic.csv     |\n",
       "| 3084d6b5b917d559576272218ef9b7c7d2fcef78cb91f49aa45ac8d5c4b28559 | signif_skin_sun_exposed_lower_leg.csv          |\n",
       "| bdc11873abb9b9a648322dd18deac53eff99773c2b7e1b42aa99bce5556a8255 | signif_skin_sun_exposed_lowerleg.csv           |\n",
       "| 138ee7478d3e804ac768646f03740d3a9c5c5b2aca98ca50a3e18c4a4e21f7cc | signif_small_intestine_terminal_ileum.csv      |\n",
       "| b34ee22a8aad2c67e0775b3a43f9b594c541bbe25d004a3d5ec8202697ea1620 | signif_spleen.csv                              |\n",
       "| c6857b8eb833d0ad12eae84b57e6090362232682314b41bf3d71afb5137a6c0a | signif_stomach.csv                             |\n",
       "| 42f318bd1d4fea1e0e8473021b93765dd3c0ba2c5c24ab8bf3637ac6c071dc57 | signif_thyroid.csv                             |\n",
       "| 335994b3547e8e35a4fc7ee5d1f98d3aba42a1abe24f319d418c453dc9ccb937 | signif_whole_blood.csv                         |\n",
       "\n"
      ],
      "text/plain": [
       "    sha256sum                                                       \n",
       "1   f7bf10e5a2f335fb5eb92eab7749392ad3a96a959bce96f6075962555bc7f072\n",
       "2   3769ae0c0a05f6884e510a227d8d517bbe74b6147b4d9c5dcd097a5cc71661c5\n",
       "3   a68be6697a068235f45f956b90c45eeb7b83785b215e7d75f32a3c7fd651373e\n",
       "4   fe04ff9e0c445ac67aaf2d12ee152ff164a9eb4d23b3cbf0a770c3d0e7841bbe\n",
       "5   83292d3a6bf7583598ec60940bc2f29ffc2139e8923b5731ae5d33bfeca3ead0\n",
       "6   588b0aee472c299a9d9aaed572177a8a816ace8ca3419152da7966505d5a7a52\n",
       "7   5b69dcb829a68c0fef9db8e9fd091afec4dd1c2bbf2eb3d220dc279582403f0e\n",
       "8   5e67e3716f94dcd032eec1468a86e95e22d923d718b28f04d7b4d863411ad6e5\n",
       "9   79ef74c37d1c0ec3622898d9c67d441f085407a0fa9b2efb7696bf946c9a7efd\n",
       "10  4d6aed8ec12f89b5113d88f7a1042e62c4316a2f1e126fe99b280edb76783e27\n",
       "11  78185e72f94e7b6e6a8348023fe65012b374d040e600a4d5f78e32263d88d2af\n",
       "12  5a72548e31af56316bdaaa5aff79e27242a7b243a67c7237bc41a88f19f4ba25\n",
       "13  9c85a0df3fc4549e3ac6b54753c8b5b0f19e3208ceb3908d94bf37cf89f1c650\n",
       "14  0490b244885e292565fba0a96874c9215500386f386e5e0f9ea5c620ec8752e4\n",
       "15  015a9f807786017e5d90a8db1a53f7f038bf7de78e95031777f694d7e2f73ea2\n",
       "16  21daa1ed56eb8bd4da82197765ae3d810c5a518980331b22c3aec8ac8883dd2d\n",
       "17  a43f80ffb5814a0c082bca4ba8e61625938174ce331dccd0e9865100619e54de\n",
       "18  6228062638bd532b893940ab145e29ab20a3025e008d554dc9d8f506a27dd6a1\n",
       "19  df5a650694bd454b41b083548af60d1d75b951308d857ebbf6c5446336b93ea7\n",
       "20  27f252da20e39fd744ccaf02b0cd1eb7bd7d5f1b5ffbf87478eadb13f3a4ebde\n",
       "21  c5153c0d0852c0b13186e8adc1f7a218b067aab868d499d45920459dc68910b4\n",
       "22  e36bc01ee094ea7c3a385a29c8ede363165acc8a3f66796cb439e793819bbd3e\n",
       "23  a2c3bd3cfd8f195580132b97cb1088f51fab5ab5479031ebffc01e41a05da12e\n",
       "24  7778e6c55977dab75ed090a3e6f6cfc8150a10c8fe24dcf6d9dacff8e80813e5\n",
       "25  ca64c3a873f0de57d256cac329e7086417766823ab3276610a7731cb4debc379\n",
       "26  161710f07cacbd4096afe61783e527d09819ed5107256d2b4bab71f832f699bb\n",
       "27  eff6f2f318a3a9b42cf8ae0e39c0709183c6253938398ba9ee93cbb86027f3df\n",
       "28  3e63e85d28fb44be5aafda4dc571d461d6054c7920af3609b7e5b3b611808af5\n",
       "29  e1af3a41d41a96c895221b6a5d5b7ee45ebac7b72f9fa2b19481a6c657618aa1\n",
       "30  bf23a4cdee9d3b5814e01c14ce36ad1d1f9cef43a8763ce615405a573ca20f7e\n",
       "⋮   ⋮                                                               \n",
       "119 16b71b918faa508d19a85595d12a8592910ee4b4836b2582264b83be1ace9243\n",
       "120 0c0d5f276289d32b41fa6fcfd3c59427094ef7cf1d77559b701ebe25e7356f4f\n",
       "121 5fa9c11a703aa7646b207ba5093c71d2f19cd32dd2739df76ce8d3b195fa08c4\n",
       "122 ace46532b64e9058091aa623442287afbc5a23c6f54bc3a5bf0213d7fc5d2dac\n",
       "123 bd699a7ec59d81d97f2a59224309144e3623c1a86ba8fcafd15e194cd8448d33\n",
       "124 d31738e6c541f33dc90cd2f75abd318f89aeb19d7dd6cb25539986ca8221b83a\n",
       "125 787d62b0be21c32b35867ffa24151ff26e6234ae715d54b6538f20fbf6d1cb76\n",
       "126 23d9f7cf69f79dbee5414f98c9732f0385de02523b4d56aff349c8b207b59527\n",
       "127 55f17dd626358cdc993c29adad68400589f923b33ab7b6080a1a4c8860b5f94b\n",
       "128 e063e2bf9b7000c6ea3b6a6d7761261ea346256f1918774431da848ee0c88a57\n",
       "129 ec13fda34d5eb0f2fe879d3f00d5e63bf8740fde911817d46ff459c3efcd754c\n",
       "130 f686af06880104378d469d4ff50ea4866d932b252dd2e3c9c5d2195a3ca1c94e\n",
       "131 01c3fba28b2e92783bc10ee1262864b7b09850c072cadfd1124779bb63e35fa3\n",
       "132 6800d85a4dc469ca4398f526c14cb71f720ab1bca878ba77bd3ede1b1f43481f\n",
       "133 aa50134ebf50d98ec9a9fa684fdc9c31fe571a78eac7350ab70ad07aac9a3966\n",
       "134 51102e262b2496687ec40291c21d662662f9f5deffa5291f5313282bdaed687b\n",
       "135 c2ab8f0c321c3f7958500343975fcc03656a7c90cc7a6406a4498dccca2c335d\n",
       "136 099cb6e5c61a081bb578f5dc49387b4ff5a1b2a70c9d763934aaf2b4dea62ac3\n",
       "137 b19cc2bc29f384a76407577aa8974daccae6f4f540533a48a6052526167c1656\n",
       "138 d2206cca16b5d6d24ca34c5f09a18ac4f0e7f8819fc272bac13fa87ca142b43b\n",
       "139 9d27d1d31c9baddb48dac225c1a57ea910529607975578415901d8ef9f5a84ff\n",
       "140 7b6491d3de4b8e81821ab340002af18533b8d06a5ae66fbabb3f397ca2ac0fc0\n",
       "141 4f7cc6ee9ccf0d085d300757716aae1f00ed4f8012d8b7544d974d35a1579d99\n",
       "142 3084d6b5b917d559576272218ef9b7c7d2fcef78cb91f49aa45ac8d5c4b28559\n",
       "143 bdc11873abb9b9a648322dd18deac53eff99773c2b7e1b42aa99bce5556a8255\n",
       "144 138ee7478d3e804ac768646f03740d3a9c5c5b2aca98ca50a3e18c4a4e21f7cc\n",
       "145 b34ee22a8aad2c67e0775b3a43f9b594c541bbe25d004a3d5ec8202697ea1620\n",
       "146 c6857b8eb833d0ad12eae84b57e6090362232682314b41bf3d71afb5137a6c0a\n",
       "147 42f318bd1d4fea1e0e8473021b93765dd3c0ba2c5c24ab8bf3637ac6c071dc57\n",
       "148 335994b3547e8e35a4fc7ee5d1f98d3aba42a1abe24f319d418c453dc9ccb937\n",
       "    file                                            \n",
       "1   dge/Adipose-Subcutaneous_DGE.csv                \n",
       "2   dge/Adipose-Visceral(Omentum)_DGE.csv           \n",
       "3   dge/AdrenalGland_DGE.csv                        \n",
       "4   dge/Artery-Aorta_DGE.csv                        \n",
       "5   dge/Artery-Coronary_DGE.csv                     \n",
       "6   dge/Artery-Tibial_DGE.csv                       \n",
       "7   dge/Bladder_DGE.csv                             \n",
       "8   dge/Brain-Amygdala_DGE.csv                      \n",
       "9   dge/Brain-Anteriorcingulatecortex(BA24)_DGE.csv \n",
       "10  dge/Brain-Caudate(basalganglia)_DGE.csv         \n",
       "11  dge/Brain-CerebellarHemisphere_DGE.csv          \n",
       "12  dge/Brain-Cerebellum_DGE.csv                    \n",
       "13  dge/Brain-Cortex_DGE.csv                        \n",
       "14  dge/Brain-FrontalCortex(BA9)_DGE.csv            \n",
       "15  dge/Brain-Hippocampus_DGE.csv                   \n",
       "16  dge/Brain-Hypothalamus_DGE.csv                  \n",
       "17  dge/Brain-Nucleusaccumbens(basalganglia)_DGE.csv\n",
       "18  dge/Brain-Putamen(basalganglia)_DGE.csv         \n",
       "19  dge/Brain-Spinalcord(cervicalc-1)_DGE.csv       \n",
       "20  dge/Brain-Substantianigra_DGE.csv               \n",
       "21  dge/Breast-MammaryTissue_DGE.csv                \n",
       "22  dge/Cells-Culturedfibroblasts_DGE.csv           \n",
       "23  dge/Cells-EBV-transformedlymphocytes_DGE.csv    \n",
       "24  dge/Colon-Sigmoid_DGE.csv                       \n",
       "25  dge/Colon-Transverse_DGE.csv                    \n",
       "26  dge/Esophagus-GastroesophagealJunction_DGE.csv  \n",
       "27  dge/Esophagus-Mucosa_DGE.csv                    \n",
       "28  dge/Esophagus-Muscularis_DGE.csv                \n",
       "29  dge/Heart-AtrialAppendage_DGE.csv               \n",
       "30  dge/Heart-LeftVentricle_DGE.csv                 \n",
       "⋮   ⋮                                               \n",
       "119 signif_brain_substantianigra.csv                \n",
       "120 signif_breast_mammary_tissue.csv                \n",
       "121 signif_cells_cultured_fibroblasts.csv           \n",
       "122 signif_cells_culturedfibroblasts.csv            \n",
       "123 signif_cells_ebv_transformed_lymphocytes.csv    \n",
       "124 signif_cells_ebv_transformedlymphocytes.csv     \n",
       "125 signif_colon_sigmoid.csv                        \n",
       "126 signif_colon_transverse.csv                     \n",
       "127 signif_esophagus_gastroesophageal_junction.csv  \n",
       "128 signif_esophagus_mucosa.csv                     \n",
       "129 signif_esophagus_muscularis.csv                 \n",
       "130 signif_heart_atrial_appendage.csv               \n",
       "131 signif_heart_left_ventricle.csv                 \n",
       "132 signif_kidney_cortex.csv                        \n",
       "133 signif_kidney_medulla.csv                       \n",
       "134 signif_liver.csv                                \n",
       "135 signif_lung.csv                                 \n",
       "136 signif_minor_salivary_gland.csv                 \n",
       "137 signif_muscle_skeletal.csv                      \n",
       "138 signif_nerve_tibial.csv                         \n",
       "139 signif_pancreas.csv                             \n",
       "140 signif_pituitary.csv                            \n",
       "141 signif_skin_not_sun_exposed_suprapubic.csv      \n",
       "142 signif_skin_sun_exposed_lower_leg.csv           \n",
       "143 signif_skin_sun_exposed_lowerleg.csv            \n",
       "144 signif_small_intestine_terminal_ileum.csv       \n",
       "145 signif_spleen.csv                               \n",
       "146 signif_stomach.csv                              \n",
       "147 signif_thyroid.csv                              \n",
       "148 signif_whole_blood.csv                          "
      ]
     },
     "metadata": {},
     "output_type": "display_data"
    }
   ],
   "source": [
    "notebook_id   = \"summary_per_tissue_diff_expressed\"\n",
    "\n",
    "message(\"Generating sha256 checksums of the artefacts in the `..data/` directory .. \")\n",
    "system(paste0(\"cd ../data/ && sha256sum **/*csv > ../metadata/\", notebook_id, \"_sha256sums.txt\"), intern = TRUE)\n",
    "system(paste0(\"cd ../data/ && sha256sum *csv >> ../metadata/\", notebook_id, \"_sha256sums.txt\"), intern = TRUE)\n",
    "\n",
    "message(\"Done!\\n\")\n",
    "\n",
    "data.table::fread(paste0(\"../metadata/\", notebook_id, \"_sha256sums.txt\"), header = FALSE, col.names = c(\"sha256sum\", \"file\"))"
   ]
  },
  {
   "cell_type": "markdown",
   "metadata": {},
   "source": [
    "### 2. Libraries metadata"
   ]
  },
  {
   "cell_type": "code",
   "execution_count": 50,
   "metadata": {},
   "outputs": [
    {
     "name": "stderr",
     "output_type": "stream",
     "text": [
      "Saving `devtools::session_info()` objects in ../metadata/devtools_session_info.rds  ..\n",
      "Done!\n",
      "\n",
      "Saving `utils::sessionInfo()` objects in ../metadata/utils_session_info.rds  ..\n",
      "Done!\n",
      "\n"
     ]
    },
    {
     "data": {
      "text/plain": [
       " setting  value                       \n",
       " version  R version 3.6.1 (2019-07-05)\n",
       " os       Ubuntu 18.04.3 LTS          \n",
       " system   x86_64, linux-gnu           \n",
       " ui       X11                         \n",
       " language en_US.UTF-8                 \n",
       " collate  en_US.UTF-8                 \n",
       " ctype    en_US.UTF-8                 \n",
       " tz       Etc/UTC                     \n",
       " date     2020-05-20                  "
      ]
     },
     "metadata": {},
     "output_type": "display_data"
    },
    {
     "data": {
      "text/html": [
       "<table>\n",
       "<caption>A packages_info: 6 × 11</caption>\n",
       "<thead>\n",
       "\t<tr><th></th><th scope=col>package</th><th scope=col>ondiskversion</th><th scope=col>loadedversion</th><th scope=col>path</th><th scope=col>loadedpath</th><th scope=col>attached</th><th scope=col>is_base</th><th scope=col>date</th><th scope=col>source</th><th scope=col>md5ok</th><th scope=col>library</th></tr>\n",
       "\t<tr><th></th><th scope=col>&lt;chr&gt;</th><th scope=col>&lt;chr&gt;</th><th scope=col>&lt;chr&gt;</th><th scope=col>&lt;chr&gt;</th><th scope=col>&lt;chr&gt;</th><th scope=col>&lt;lgl&gt;</th><th scope=col>&lt;lgl&gt;</th><th scope=col>&lt;chr&gt;</th><th scope=col>&lt;chr&gt;</th><th scope=col>&lt;lgl&gt;</th><th scope=col>&lt;fct&gt;</th></tr>\n",
       "</thead>\n",
       "<tbody>\n",
       "\t<tr><th scope=row>dplyr</th><td>dplyr    </td><td>0.8.4    </td><td>0.8.4    </td><td>/opt/conda/lib/R/library/dplyr    </td><td>/opt/conda/lib/R/library/dplyr    </td><td>TRUE</td><td>FALSE</td><td>2020-01-31</td><td>CRAN (R 3.6.2)                     </td><td>NA</td><td>/opt/conda/lib/R/library</td></tr>\n",
       "\t<tr><th scope=row>ggplot2</th><td>ggplot2  </td><td>3.2.1    </td><td>3.2.1    </td><td>/opt/conda/lib/R/library/ggplot2  </td><td>/opt/conda/lib/R/library/ggplot2  </td><td>TRUE</td><td>FALSE</td><td>2019-08-10</td><td>CRAN (R 3.6.1)                     </td><td>NA</td><td>/opt/conda/lib/R/library</td></tr>\n",
       "\t<tr><th scope=row>piggyback</th><td>piggyback</td><td>0.0.10.99</td><td>0.0.10.99</td><td>/opt/conda/lib/R/library/piggyback</td><td>/opt/conda/lib/R/library/piggyback</td><td>TRUE</td><td>FALSE</td><td>2020-05-20</td><td>Github (ropensci/piggyback@87f71e8)</td><td>NA</td><td>/opt/conda/lib/R/library</td></tr>\n",
       "\t<tr><th scope=row>reshape</th><td>reshape  </td><td>0.8.8    </td><td>0.8.8    </td><td>/opt/conda/lib/R/library/reshape  </td><td>/opt/conda/lib/R/library/reshape  </td><td>TRUE</td><td>FALSE</td><td>2018-10-23</td><td>CRAN (R 3.6.1)                     </td><td>NA</td><td>/opt/conda/lib/R/library</td></tr>\n",
       "\t<tr><th scope=row>snakecase</th><td>snakecase</td><td>0.11.0   </td><td>0.11.0   </td><td>/opt/conda/lib/R/library/snakecase</td><td>/opt/conda/lib/R/library/snakecase</td><td>TRUE</td><td>FALSE</td><td>2019-05-25</td><td>CRAN (R 3.6.3)                     </td><td>NA</td><td>/opt/conda/lib/R/library</td></tr>\n",
       "\t<tr><th scope=row>tidyr</th><td>tidyr    </td><td>1.0.2    </td><td>1.0.2    </td><td>/opt/conda/lib/R/library/tidyr    </td><td>/opt/conda/lib/R/library/tidyr    </td><td>TRUE</td><td>FALSE</td><td>2020-01-24</td><td>CRAN (R 3.6.3)                     </td><td>NA</td><td>/opt/conda/lib/R/library</td></tr>\n",
       "</tbody>\n",
       "</table>\n"
      ],
      "text/latex": [
       "A packages\\_info: 6 × 11\n",
       "\\begin{tabular}{r|lllllllllll}\n",
       "  & package & ondiskversion & loadedversion & path & loadedpath & attached & is\\_base & date & source & md5ok & library\\\\\n",
       "  & <chr> & <chr> & <chr> & <chr> & <chr> & <lgl> & <lgl> & <chr> & <chr> & <lgl> & <fct>\\\\\n",
       "\\hline\n",
       "\tdplyr & dplyr     & 0.8.4     & 0.8.4     & /opt/conda/lib/R/library/dplyr     & /opt/conda/lib/R/library/dplyr     & TRUE & FALSE & 2020-01-31 & CRAN (R 3.6.2)                      & NA & /opt/conda/lib/R/library\\\\\n",
       "\tggplot2 & ggplot2   & 3.2.1     & 3.2.1     & /opt/conda/lib/R/library/ggplot2   & /opt/conda/lib/R/library/ggplot2   & TRUE & FALSE & 2019-08-10 & CRAN (R 3.6.1)                      & NA & /opt/conda/lib/R/library\\\\\n",
       "\tpiggyback & piggyback & 0.0.10.99 & 0.0.10.99 & /opt/conda/lib/R/library/piggyback & /opt/conda/lib/R/library/piggyback & TRUE & FALSE & 2020-05-20 & Github (ropensci/piggyback@87f71e8) & NA & /opt/conda/lib/R/library\\\\\n",
       "\treshape & reshape   & 0.8.8     & 0.8.8     & /opt/conda/lib/R/library/reshape   & /opt/conda/lib/R/library/reshape   & TRUE & FALSE & 2018-10-23 & CRAN (R 3.6.1)                      & NA & /opt/conda/lib/R/library\\\\\n",
       "\tsnakecase & snakecase & 0.11.0    & 0.11.0    & /opt/conda/lib/R/library/snakecase & /opt/conda/lib/R/library/snakecase & TRUE & FALSE & 2019-05-25 & CRAN (R 3.6.3)                      & NA & /opt/conda/lib/R/library\\\\\n",
       "\ttidyr & tidyr     & 1.0.2     & 1.0.2     & /opt/conda/lib/R/library/tidyr     & /opt/conda/lib/R/library/tidyr     & TRUE & FALSE & 2020-01-24 & CRAN (R 3.6.3)                      & NA & /opt/conda/lib/R/library\\\\\n",
       "\\end{tabular}\n"
      ],
      "text/markdown": [
       "\n",
       "A packages_info: 6 × 11\n",
       "\n",
       "| <!--/--> | package &lt;chr&gt; | ondiskversion &lt;chr&gt; | loadedversion &lt;chr&gt; | path &lt;chr&gt; | loadedpath &lt;chr&gt; | attached &lt;lgl&gt; | is_base &lt;lgl&gt; | date &lt;chr&gt; | source &lt;chr&gt; | md5ok &lt;lgl&gt; | library &lt;fct&gt; |\n",
       "|---|---|---|---|---|---|---|---|---|---|---|---|\n",
       "| dplyr | dplyr     | 0.8.4     | 0.8.4     | /opt/conda/lib/R/library/dplyr     | /opt/conda/lib/R/library/dplyr     | TRUE | FALSE | 2020-01-31 | CRAN (R 3.6.2)                      | NA | /opt/conda/lib/R/library |\n",
       "| ggplot2 | ggplot2   | 3.2.1     | 3.2.1     | /opt/conda/lib/R/library/ggplot2   | /opt/conda/lib/R/library/ggplot2   | TRUE | FALSE | 2019-08-10 | CRAN (R 3.6.1)                      | NA | /opt/conda/lib/R/library |\n",
       "| piggyback | piggyback | 0.0.10.99 | 0.0.10.99 | /opt/conda/lib/R/library/piggyback | /opt/conda/lib/R/library/piggyback | TRUE | FALSE | 2020-05-20 | Github (ropensci/piggyback@87f71e8) | NA | /opt/conda/lib/R/library |\n",
       "| reshape | reshape   | 0.8.8     | 0.8.8     | /opt/conda/lib/R/library/reshape   | /opt/conda/lib/R/library/reshape   | TRUE | FALSE | 2018-10-23 | CRAN (R 3.6.1)                      | NA | /opt/conda/lib/R/library |\n",
       "| snakecase | snakecase | 0.11.0    | 0.11.0    | /opt/conda/lib/R/library/snakecase | /opt/conda/lib/R/library/snakecase | TRUE | FALSE | 2019-05-25 | CRAN (R 3.6.3)                      | NA | /opt/conda/lib/R/library |\n",
       "| tidyr | tidyr     | 1.0.2     | 1.0.2     | /opt/conda/lib/R/library/tidyr     | /opt/conda/lib/R/library/tidyr     | TRUE | FALSE | 2020-01-24 | CRAN (R 3.6.3)                      | NA | /opt/conda/lib/R/library |\n",
       "\n"
      ],
      "text/plain": [
       "          package   ondiskversion loadedversion\n",
       "dplyr     dplyr     0.8.4         0.8.4        \n",
       "ggplot2   ggplot2   3.2.1         3.2.1        \n",
       "piggyback piggyback 0.0.10.99     0.0.10.99    \n",
       "reshape   reshape   0.8.8         0.8.8        \n",
       "snakecase snakecase 0.11.0        0.11.0       \n",
       "tidyr     tidyr     1.0.2         1.0.2        \n",
       "          path                               loadedpath                        \n",
       "dplyr     /opt/conda/lib/R/library/dplyr     /opt/conda/lib/R/library/dplyr    \n",
       "ggplot2   /opt/conda/lib/R/library/ggplot2   /opt/conda/lib/R/library/ggplot2  \n",
       "piggyback /opt/conda/lib/R/library/piggyback /opt/conda/lib/R/library/piggyback\n",
       "reshape   /opt/conda/lib/R/library/reshape   /opt/conda/lib/R/library/reshape  \n",
       "snakecase /opt/conda/lib/R/library/snakecase /opt/conda/lib/R/library/snakecase\n",
       "tidyr     /opt/conda/lib/R/library/tidyr     /opt/conda/lib/R/library/tidyr    \n",
       "          attached is_base date       source                              md5ok\n",
       "dplyr     TRUE     FALSE   2020-01-31 CRAN (R 3.6.2)                      NA   \n",
       "ggplot2   TRUE     FALSE   2019-08-10 CRAN (R 3.6.1)                      NA   \n",
       "piggyback TRUE     FALSE   2020-05-20 Github (ropensci/piggyback@87f71e8) NA   \n",
       "reshape   TRUE     FALSE   2018-10-23 CRAN (R 3.6.1)                      NA   \n",
       "snakecase TRUE     FALSE   2019-05-25 CRAN (R 3.6.3)                      NA   \n",
       "tidyr     TRUE     FALSE   2020-01-24 CRAN (R 3.6.3)                      NA   \n",
       "          library                 \n",
       "dplyr     /opt/conda/lib/R/library\n",
       "ggplot2   /opt/conda/lib/R/library\n",
       "piggyback /opt/conda/lib/R/library\n",
       "reshape   /opt/conda/lib/R/library\n",
       "snakecase /opt/conda/lib/R/library\n",
       "tidyr     /opt/conda/lib/R/library"
      ]
     },
     "metadata": {},
     "output_type": "display_data"
    }
   ],
   "source": [
    "dev_session_info   <- devtools::session_info()\n",
    "utils_session_info <- utils::sessionInfo()\n",
    "\n",
    "message(\"Saving `devtools::session_info()` objects in ../metadata/devtools_session_info.rds  ..\")\n",
    "saveRDS(dev_session_info, file = paste0(\"../metadata/\", notebook_id, \"_devtools_session_info.rds\"))\n",
    "message(\"Done!\\n\")\n",
    "\n",
    "message(\"Saving `utils::sessionInfo()` objects in ../metadata/utils_session_info.rds  ..\")\n",
    "saveRDS(utils_session_info, file = paste0(\"../metadata/\", notebook_id ,\"_utils_info.rds\"))\n",
    "message(\"Done!\\n\")\n",
    "\n",
    "dev_session_info$platform\n",
    "dev_session_info$packages[dev_session_info$packages$attached==TRUE, ]"
   ]
  },
  {
   "cell_type": "markdown",
   "metadata": {},
   "source": [
    "# Calculating the sex-biased splicing index\n",
    "The normalized sex-biased splicing index is defined as the number of statistically significant splicing events per 1000 exons in the chromosome."
   ]
  },
  {
   "cell_type": "code",
   "execution_count": 51,
   "metadata": {},
   "outputs": [
    {
     "data": {
      "text/html": [
       "<style>\n",
       ".list-inline {list-style: none; margin:0; padding: 0}\n",
       ".list-inline>li {display: inline-block}\n",
       ".list-inline>li:not(:last-child)::after {content: \"\\00b7\"; padding: 0 .5ex}\n",
       "</style>\n",
       "<ol class=list-inline><li>51</li><li>3</li></ol>\n"
      ],
      "text/latex": [
       "\\begin{enumerate*}\n",
       "\\item 51\n",
       "\\item 3\n",
       "\\end{enumerate*}\n"
      ],
      "text/markdown": [
       "1. 51\n",
       "2. 3\n",
       "\n",
       "\n"
      ],
      "text/plain": [
       "[1] 51  3"
      ]
     },
     "metadata": {},
     "output_type": "display_data"
    }
   ],
   "source": [
    "dim(signif_per_chrom_per_sex)"
   ]
  },
  {
   "cell_type": "markdown",
   "metadata": {},
   "source": [
    "Sorry, I cannot do this in R. Here is Python (ugly script but works)\n",
    "\n",
    "import csv\n",
    "import gzip\n",
    "import re\n",
    "from collections import defaultdict\n",
    "\n",
    "fname = 'Homo_sapiens.GRCh38.100.chr_patch_hapl_scaff.gtf.gz'\n",
    "\n",
    "chrom2exons = defaultdict(set)\n",
    "\n",
    "with gzip.open(fname, 'rt') as f:\n",
    "    cr = csv.reader(f, delimiter='\\t', quotechar='\"')\n",
    "    for row in cr:\n",
    "        #print(row)\n",
    "        if row[0].startswith('#'):\n",
    "            continue\n",
    "        chrom = row[0]\n",
    "        annots = row[8]\n",
    "        fields = annots.split(\";\")\n",
    "        exon = re.compile(r'exon_id \"(ENSE\\d+)\"')\n",
    "        for f in fields:\n",
    "            itm = f.strip()\n",
    "            match = exon.match(itm)\n",
    "            if match:\n",
    "                exonid = match.group(1)\n",
    "                chrom2exons[chrom].add(exonid)\n",
    "\n",
    "g = open('chrom2exons.txt', 'wt')\n",
    "for k, v in chrom2exons.items():\n",
    "    print(\"chr{}: n={}\".format(k, len(v)))\n",
    "    g.write(\"{}\\t{}\\n\".format(k, len(v)))\n",
    "g.close()\n",
    "\n",
    "1\t69381\n",
    "2\t55599\n",
    "3\t46452\n",
    "4\t29749\n",
    "5\t34789\n",
    "6\t33817\n",
    "7\t35973\n",
    "X\t22471\n",
    "8\t28489\n",
    "9\t26460\n",
    "11\t43212\n",
    "10\t26514\n",
    "12\t42925\n",
    "13\t13193\n",
    "14\t25994\n",
    "15\t28720\n",
    "16\t36285\n",
    "17\t45142\n",
    "18\t13360\n",
    "20\t16704\n",
    "19\t44166\n",
    "Y\t2908\n",
    "22\t16411\n",
    "21\t8830\n",
    "MT\t37"
   ]
  },
  {
   "cell_type": "code",
   "execution_count": 52,
   "metadata": {},
   "outputs": [
    {
     "data": {
      "text/html": [
       "<table>\n",
       "<caption>A grouped_df: 51 × 3</caption>\n",
       "<thead>\n",
       "\t<tr><th scope=col>Chromosome</th><th scope=col>higher_in</th><th scope=col>n</th></tr>\n",
       "\t<tr><th scope=col>&lt;fct&gt;</th><th scope=col>&lt;fct&gt;</th><th scope=col>&lt;int&gt;</th></tr>\n",
       "</thead>\n",
       "<tbody>\n",
       "\t<tr><td>1 </td><td>females</td><td>355</td></tr>\n",
       "\t<tr><td>1 </td><td>males  </td><td>165</td></tr>\n",
       "\t<tr><td>10</td><td>females</td><td> 79</td></tr>\n",
       "\t<tr><td>10</td><td>males  </td><td> 74</td></tr>\n",
       "\t<tr><td>11</td><td>females</td><td>142</td></tr>\n",
       "\t<tr><td>11</td><td>males  </td><td> 88</td></tr>\n",
       "\t<tr><td>12</td><td>females</td><td>138</td></tr>\n",
       "\t<tr><td>12</td><td>males  </td><td>115</td></tr>\n",
       "\t<tr><td>13</td><td>females</td><td> 28</td></tr>\n",
       "\t<tr><td>13</td><td>males  </td><td> 38</td></tr>\n",
       "\t<tr><td>14</td><td>females</td><td> 91</td></tr>\n",
       "\t<tr><td>14</td><td>males  </td><td> 57</td></tr>\n",
       "\t<tr><td>15</td><td>females</td><td> 78</td></tr>\n",
       "\t<tr><td>15</td><td>males  </td><td>101</td></tr>\n",
       "\t<tr><td>16</td><td>females</td><td> 87</td></tr>\n",
       "\t<tr><td>16</td><td>males  </td><td> 77</td></tr>\n",
       "\t<tr><td>17</td><td>females</td><td>142</td></tr>\n",
       "\t<tr><td>17</td><td>males  </td><td> 91</td></tr>\n",
       "\t<tr><td>18</td><td>females</td><td> 30</td></tr>\n",
       "\t<tr><td>18</td><td>males  </td><td> 41</td></tr>\n",
       "\t<tr><td>19</td><td>females</td><td>153</td></tr>\n",
       "\t<tr><td>19</td><td>males  </td><td> 65</td></tr>\n",
       "\t<tr><td>2 </td><td>females</td><td>178</td></tr>\n",
       "\t<tr><td>2 </td><td>males  </td><td>145</td></tr>\n",
       "\t<tr><td>20</td><td>females</td><td> 71</td></tr>\n",
       "\t<tr><td>20</td><td>males  </td><td>131</td></tr>\n",
       "\t<tr><td>21</td><td>females</td><td> 33</td></tr>\n",
       "\t<tr><td>21</td><td>males  </td><td> 21</td></tr>\n",
       "\t<tr><td>22</td><td>females</td><td> 73</td></tr>\n",
       "\t<tr><td>22</td><td>males  </td><td> 59</td></tr>\n",
       "\t<tr><td>3 </td><td>females</td><td>149</td></tr>\n",
       "\t<tr><td>3 </td><td>males  </td><td> 92</td></tr>\n",
       "\t<tr><td>4 </td><td>females</td><td>111</td></tr>\n",
       "\t<tr><td>4 </td><td>males  </td><td>100</td></tr>\n",
       "\t<tr><td>5 </td><td>females</td><td>108</td></tr>\n",
       "\t<tr><td>5 </td><td>males  </td><td>102</td></tr>\n",
       "\t<tr><td>6 </td><td>females</td><td> 96</td></tr>\n",
       "\t<tr><td>6 </td><td>males  </td><td>119</td></tr>\n",
       "\t<tr><td>7 </td><td>females</td><td>116</td></tr>\n",
       "\t<tr><td>7 </td><td>males  </td><td> 82</td></tr>\n",
       "\t<tr><td>8 </td><td>females</td><td> 88</td></tr>\n",
       "\t<tr><td>8 </td><td>males  </td><td> 70</td></tr>\n",
       "\t<tr><td>9 </td><td>females</td><td> 67</td></tr>\n",
       "\t<tr><td>9 </td><td>males  </td><td> 71</td></tr>\n",
       "\t<tr><td>MT</td><td>females</td><td>  1</td></tr>\n",
       "\t<tr><td>MT</td><td>males  </td><td>  1</td></tr>\n",
       "\t<tr><td>X </td><td>females</td><td>295</td></tr>\n",
       "\t<tr><td>X </td><td>males  </td><td>112</td></tr>\n",
       "\t<tr><td>Y </td><td>males  </td><td>585</td></tr>\n",
       "\t<tr><td>NA</td><td>females</td><td> 16</td></tr>\n",
       "\t<tr><td>NA</td><td>males  </td><td> 47</td></tr>\n",
       "</tbody>\n",
       "</table>\n"
      ],
      "text/latex": [
       "A grouped\\_df: 51 × 3\n",
       "\\begin{tabular}{lll}\n",
       " Chromosome & higher\\_in & n\\\\\n",
       " <fct> & <fct> & <int>\\\\\n",
       "\\hline\n",
       "\t 1  & females & 355\\\\\n",
       "\t 1  & males   & 165\\\\\n",
       "\t 10 & females &  79\\\\\n",
       "\t 10 & males   &  74\\\\\n",
       "\t 11 & females & 142\\\\\n",
       "\t 11 & males   &  88\\\\\n",
       "\t 12 & females & 138\\\\\n",
       "\t 12 & males   & 115\\\\\n",
       "\t 13 & females &  28\\\\\n",
       "\t 13 & males   &  38\\\\\n",
       "\t 14 & females &  91\\\\\n",
       "\t 14 & males   &  57\\\\\n",
       "\t 15 & females &  78\\\\\n",
       "\t 15 & males   & 101\\\\\n",
       "\t 16 & females &  87\\\\\n",
       "\t 16 & males   &  77\\\\\n",
       "\t 17 & females & 142\\\\\n",
       "\t 17 & males   &  91\\\\\n",
       "\t 18 & females &  30\\\\\n",
       "\t 18 & males   &  41\\\\\n",
       "\t 19 & females & 153\\\\\n",
       "\t 19 & males   &  65\\\\\n",
       "\t 2  & females & 178\\\\\n",
       "\t 2  & males   & 145\\\\\n",
       "\t 20 & females &  71\\\\\n",
       "\t 20 & males   & 131\\\\\n",
       "\t 21 & females &  33\\\\\n",
       "\t 21 & males   &  21\\\\\n",
       "\t 22 & females &  73\\\\\n",
       "\t 22 & males   &  59\\\\\n",
       "\t 3  & females & 149\\\\\n",
       "\t 3  & males   &  92\\\\\n",
       "\t 4  & females & 111\\\\\n",
       "\t 4  & males   & 100\\\\\n",
       "\t 5  & females & 108\\\\\n",
       "\t 5  & males   & 102\\\\\n",
       "\t 6  & females &  96\\\\\n",
       "\t 6  & males   & 119\\\\\n",
       "\t 7  & females & 116\\\\\n",
       "\t 7  & males   &  82\\\\\n",
       "\t 8  & females &  88\\\\\n",
       "\t 8  & males   &  70\\\\\n",
       "\t 9  & females &  67\\\\\n",
       "\t 9  & males   &  71\\\\\n",
       "\t MT & females &   1\\\\\n",
       "\t MT & males   &   1\\\\\n",
       "\t X  & females & 295\\\\\n",
       "\t X  & males   & 112\\\\\n",
       "\t Y  & males   & 585\\\\\n",
       "\t NA & females &  16\\\\\n",
       "\t NA & males   &  47\\\\\n",
       "\\end{tabular}\n"
      ],
      "text/markdown": [
       "\n",
       "A grouped_df: 51 × 3\n",
       "\n",
       "| Chromosome &lt;fct&gt; | higher_in &lt;fct&gt; | n &lt;int&gt; |\n",
       "|---|---|---|\n",
       "| 1  | females | 355 |\n",
       "| 1  | males   | 165 |\n",
       "| 10 | females |  79 |\n",
       "| 10 | males   |  74 |\n",
       "| 11 | females | 142 |\n",
       "| 11 | males   |  88 |\n",
       "| 12 | females | 138 |\n",
       "| 12 | males   | 115 |\n",
       "| 13 | females |  28 |\n",
       "| 13 | males   |  38 |\n",
       "| 14 | females |  91 |\n",
       "| 14 | males   |  57 |\n",
       "| 15 | females |  78 |\n",
       "| 15 | males   | 101 |\n",
       "| 16 | females |  87 |\n",
       "| 16 | males   |  77 |\n",
       "| 17 | females | 142 |\n",
       "| 17 | males   |  91 |\n",
       "| 18 | females |  30 |\n",
       "| 18 | males   |  41 |\n",
       "| 19 | females | 153 |\n",
       "| 19 | males   |  65 |\n",
       "| 2  | females | 178 |\n",
       "| 2  | males   | 145 |\n",
       "| 20 | females |  71 |\n",
       "| 20 | males   | 131 |\n",
       "| 21 | females |  33 |\n",
       "| 21 | males   |  21 |\n",
       "| 22 | females |  73 |\n",
       "| 22 | males   |  59 |\n",
       "| 3  | females | 149 |\n",
       "| 3  | males   |  92 |\n",
       "| 4  | females | 111 |\n",
       "| 4  | males   | 100 |\n",
       "| 5  | females | 108 |\n",
       "| 5  | males   | 102 |\n",
       "| 6  | females |  96 |\n",
       "| 6  | males   | 119 |\n",
       "| 7  | females | 116 |\n",
       "| 7  | males   |  82 |\n",
       "| 8  | females |  88 |\n",
       "| 8  | males   |  70 |\n",
       "| 9  | females |  67 |\n",
       "| 9  | males   |  71 |\n",
       "| MT | females |   1 |\n",
       "| MT | males   |   1 |\n",
       "| X  | females | 295 |\n",
       "| X  | males   | 112 |\n",
       "| Y  | males   | 585 |\n",
       "| NA | females |  16 |\n",
       "| NA | males   |  47 |\n",
       "\n"
      ],
      "text/plain": [
       "   Chromosome higher_in n  \n",
       "1  1          females   355\n",
       "2  1          males     165\n",
       "3  10         females    79\n",
       "4  10         males      74\n",
       "5  11         females   142\n",
       "6  11         males      88\n",
       "7  12         females   138\n",
       "8  12         males     115\n",
       "9  13         females    28\n",
       "10 13         males      38\n",
       "11 14         females    91\n",
       "12 14         males      57\n",
       "13 15         females    78\n",
       "14 15         males     101\n",
       "15 16         females    87\n",
       "16 16         males      77\n",
       "17 17         females   142\n",
       "18 17         males      91\n",
       "19 18         females    30\n",
       "20 18         males      41\n",
       "21 19         females   153\n",
       "22 19         males      65\n",
       "23 2          females   178\n",
       "24 2          males     145\n",
       "25 20         females    71\n",
       "26 20         males     131\n",
       "27 21         females    33\n",
       "28 21         males      21\n",
       "29 22         females    73\n",
       "30 22         males      59\n",
       "31 3          females   149\n",
       "32 3          males      92\n",
       "33 4          females   111\n",
       "34 4          males     100\n",
       "35 5          females   108\n",
       "36 5          males     102\n",
       "37 6          females    96\n",
       "38 6          males     119\n",
       "39 7          females   116\n",
       "40 7          males      82\n",
       "41 8          females    88\n",
       "42 8          males      70\n",
       "43 9          females    67\n",
       "44 9          males      71\n",
       "45 MT         females     1\n",
       "46 MT         males       1\n",
       "47 X          females   295\n",
       "48 X          males     112\n",
       "49 Y          males     585\n",
       "50 NA         females    16\n",
       "51 NA         males      47"
      ]
     },
     "metadata": {},
     "output_type": "display_data"
    }
   ],
   "source": [
    "signif_per_chrom_per_sex"
   ]
  },
  {
   "cell_type": "code",
   "execution_count": 53,
   "metadata": {},
   "outputs": [
    {
     "name": "stderr",
     "output_type": "stream",
     "text": [
      "Warning message:\n",
      "“Factor `GeneSymbol` contains implicit NA, consider using `forcats::fct_explicit_na`”Warning message:\n",
      "“Factor `Class` contains implicit NA, consider using `forcats::fct_explicit_na`”Warning message:\n",
      "“Factor `GeneSymbol` contains implicit NA, consider using `forcats::fct_explicit_na`”"
     ]
    },
    {
     "data": {
      "text/html": [
       "<table>\n",
       "<caption>A tibble: 20 × 4</caption>\n",
       "<thead>\n",
       "\t<tr><th scope=col>\"gene_id\"</th><th scope=col>GeneSymbol</th><th scope=col>Class</th><th scope=col>n</th></tr>\n",
       "\t<tr><th scope=col>&lt;chr&gt;</th><th scope=col>&lt;fct&gt;</th><th scope=col>&lt;fct&gt;</th><th scope=col>&lt;int&gt;</th></tr>\n",
       "</thead>\n",
       "<tbody>\n",
       "\t<tr><td>gene_id</td><td>XIST  </td><td>lncRNA        </td><td>46</td></tr>\n",
       "\t<tr><td>gene_id</td><td>KDM6A </td><td>protein_coding</td><td>33</td></tr>\n",
       "\t<tr><td>gene_id</td><td>ZFX   </td><td>protein_coding</td><td>33</td></tr>\n",
       "\t<tr><td>gene_id</td><td>PUDP  </td><td>protein_coding</td><td>21</td></tr>\n",
       "\t<tr><td>gene_id</td><td>MAP7D2</td><td>protein_coding</td><td>16</td></tr>\n",
       "\t<tr><td>gene_id</td><td>NLRP2 </td><td>protein_coding</td><td>16</td></tr>\n",
       "\t<tr><td>gene_id</td><td>NA    </td><td>NA            </td><td>16</td></tr>\n",
       "\t<tr><td>gene_id</td><td>JPX   </td><td>lncRNA        </td><td>12</td></tr>\n",
       "\t<tr><td>gene_id</td><td>GSTM1 </td><td>protein_coding</td><td>11</td></tr>\n",
       "\t<tr><td>gene_id</td><td>GYG2  </td><td>protein_coding</td><td>11</td></tr>\n",
       "\t<tr><td>gene_id</td><td>CD163 </td><td>protein_coding</td><td> 9</td></tr>\n",
       "\t<tr><td>gene_id</td><td>CES1  </td><td>protein_coding</td><td> 9</td></tr>\n",
       "\t<tr><td>gene_id</td><td>PNPLA4</td><td>protein_coding</td><td> 9</td></tr>\n",
       "\t<tr><td>gene_id</td><td>FCGR3B</td><td>protein_coding</td><td> 8</td></tr>\n",
       "\t<tr><td>gene_id</td><td>IL1R2 </td><td>protein_coding</td><td> 8</td></tr>\n",
       "\t<tr><td>gene_id</td><td>S100A8</td><td>protein_coding</td><td> 8</td></tr>\n",
       "\t<tr><td>gene_id</td><td>VSIG4 </td><td>protein_coding</td><td> 8</td></tr>\n",
       "\t<tr><td>gene_id</td><td>CP    </td><td>protein_coding</td><td> 7</td></tr>\n",
       "\t<tr><td>gene_id</td><td>EIF1AX</td><td>protein_coding</td><td> 7</td></tr>\n",
       "\t<tr><td>gene_id</td><td>S100A9</td><td>protein_coding</td><td> 7</td></tr>\n",
       "</tbody>\n",
       "</table>\n"
      ],
      "text/latex": [
       "A tibble: 20 × 4\n",
       "\\begin{tabular}{llll}\n",
       " \"gene\\_id\" & GeneSymbol & Class & n\\\\\n",
       " <chr> & <fct> & <fct> & <int>\\\\\n",
       "\\hline\n",
       "\t gene\\_id & XIST   & lncRNA         & 46\\\\\n",
       "\t gene\\_id & KDM6A  & protein\\_coding & 33\\\\\n",
       "\t gene\\_id & ZFX    & protein\\_coding & 33\\\\\n",
       "\t gene\\_id & PUDP   & protein\\_coding & 21\\\\\n",
       "\t gene\\_id & MAP7D2 & protein\\_coding & 16\\\\\n",
       "\t gene\\_id & NLRP2  & protein\\_coding & 16\\\\\n",
       "\t gene\\_id & NA     & NA             & 16\\\\\n",
       "\t gene\\_id & JPX    & lncRNA         & 12\\\\\n",
       "\t gene\\_id & GSTM1  & protein\\_coding & 11\\\\\n",
       "\t gene\\_id & GYG2   & protein\\_coding & 11\\\\\n",
       "\t gene\\_id & CD163  & protein\\_coding &  9\\\\\n",
       "\t gene\\_id & CES1   & protein\\_coding &  9\\\\\n",
       "\t gene\\_id & PNPLA4 & protein\\_coding &  9\\\\\n",
       "\t gene\\_id & FCGR3B & protein\\_coding &  8\\\\\n",
       "\t gene\\_id & IL1R2  & protein\\_coding &  8\\\\\n",
       "\t gene\\_id & S100A8 & protein\\_coding &  8\\\\\n",
       "\t gene\\_id & VSIG4  & protein\\_coding &  8\\\\\n",
       "\t gene\\_id & CP     & protein\\_coding &  7\\\\\n",
       "\t gene\\_id & EIF1AX & protein\\_coding &  7\\\\\n",
       "\t gene\\_id & S100A9 & protein\\_coding &  7\\\\\n",
       "\\end{tabular}\n"
      ],
      "text/markdown": [
       "\n",
       "A tibble: 20 × 4\n",
       "\n",
       "| \"gene_id\" &lt;chr&gt; | GeneSymbol &lt;fct&gt; | Class &lt;fct&gt; | n &lt;int&gt; |\n",
       "|---|---|---|---|\n",
       "| gene_id | XIST   | lncRNA         | 46 |\n",
       "| gene_id | KDM6A  | protein_coding | 33 |\n",
       "| gene_id | ZFX    | protein_coding | 33 |\n",
       "| gene_id | PUDP   | protein_coding | 21 |\n",
       "| gene_id | MAP7D2 | protein_coding | 16 |\n",
       "| gene_id | NLRP2  | protein_coding | 16 |\n",
       "| gene_id | NA     | NA             | 16 |\n",
       "| gene_id | JPX    | lncRNA         | 12 |\n",
       "| gene_id | GSTM1  | protein_coding | 11 |\n",
       "| gene_id | GYG2   | protein_coding | 11 |\n",
       "| gene_id | CD163  | protein_coding |  9 |\n",
       "| gene_id | CES1   | protein_coding |  9 |\n",
       "| gene_id | PNPLA4 | protein_coding |  9 |\n",
       "| gene_id | FCGR3B | protein_coding |  8 |\n",
       "| gene_id | IL1R2  | protein_coding |  8 |\n",
       "| gene_id | S100A8 | protein_coding |  8 |\n",
       "| gene_id | VSIG4  | protein_coding |  8 |\n",
       "| gene_id | CP     | protein_coding |  7 |\n",
       "| gene_id | EIF1AX | protein_coding |  7 |\n",
       "| gene_id | S100A9 | protein_coding |  7 |\n",
       "\n"
      ],
      "text/plain": [
       "   \"gene_id\" GeneSymbol Class          n \n",
       "1  gene_id   XIST       lncRNA         46\n",
       "2  gene_id   KDM6A      protein_coding 33\n",
       "3  gene_id   ZFX        protein_coding 33\n",
       "4  gene_id   PUDP       protein_coding 21\n",
       "5  gene_id   MAP7D2     protein_coding 16\n",
       "6  gene_id   NLRP2      protein_coding 16\n",
       "7  gene_id   NA         NA             16\n",
       "8  gene_id   JPX        lncRNA         12\n",
       "9  gene_id   GSTM1      protein_coding 11\n",
       "10 gene_id   GYG2       protein_coding 11\n",
       "11 gene_id   CD163      protein_coding  9\n",
       "12 gene_id   CES1       protein_coding  9\n",
       "13 gene_id   PNPLA4     protein_coding  9\n",
       "14 gene_id   FCGR3B     protein_coding  8\n",
       "15 gene_id   IL1R2      protein_coding  8\n",
       "16 gene_id   S100A8     protein_coding  8\n",
       "17 gene_id   VSIG4      protein_coding  8\n",
       "18 gene_id   CP         protein_coding  7\n",
       "19 gene_id   EIF1AX     protein_coding  7\n",
       "20 gene_id   S100A9     protein_coding  7"
      ]
     },
     "metadata": {},
     "output_type": "display_data"
    }
   ],
   "source": [
    "only_female_genes %>% \n",
    "    count( !!GENE_ID, GeneSymbol, Class, sort = TRUE) %>%\n",
    "    head(20)"
   ]
  },
  {
   "cell_type": "code",
   "execution_count": 54,
   "metadata": {},
   "outputs": [
    {
     "name": "stderr",
     "output_type": "stream",
     "text": [
      "Warning message:\n",
      "“Factor `Chromosome` contains implicit NA, consider using `forcats::fct_explicit_na`”Warning message:\n",
      "“Factor `Chromosome` contains implicit NA, consider using `forcats::fct_explicit_na`”"
     ]
    }
   ],
   "source": [
    "signif_per_tissue %>% \n",
    "     group_by(Chromosome) %>%  \n",
    "    count()  -> signif_per_chrom"
   ]
  },
  {
   "cell_type": "code",
   "execution_count": 55,
   "metadata": {},
   "outputs": [
    {
     "data": {
      "text/html": [
       "<table>\n",
       "<caption>A grouped_df: 26 × 2</caption>\n",
       "<thead>\n",
       "\t<tr><th scope=col>Chromosome</th><th scope=col>n</th></tr>\n",
       "\t<tr><th scope=col>&lt;fct&gt;</th><th scope=col>&lt;int&gt;</th></tr>\n",
       "</thead>\n",
       "<tbody>\n",
       "\t<tr><td>1 </td><td>520</td></tr>\n",
       "\t<tr><td>10</td><td>153</td></tr>\n",
       "\t<tr><td>11</td><td>230</td></tr>\n",
       "\t<tr><td>12</td><td>253</td></tr>\n",
       "\t<tr><td>13</td><td> 66</td></tr>\n",
       "\t<tr><td>14</td><td>148</td></tr>\n",
       "\t<tr><td>15</td><td>179</td></tr>\n",
       "\t<tr><td>16</td><td>164</td></tr>\n",
       "\t<tr><td>17</td><td>233</td></tr>\n",
       "\t<tr><td>18</td><td> 71</td></tr>\n",
       "\t<tr><td>19</td><td>218</td></tr>\n",
       "\t<tr><td>2 </td><td>323</td></tr>\n",
       "\t<tr><td>20</td><td>202</td></tr>\n",
       "\t<tr><td>21</td><td> 54</td></tr>\n",
       "\t<tr><td>22</td><td>132</td></tr>\n",
       "\t<tr><td>3 </td><td>241</td></tr>\n",
       "\t<tr><td>4 </td><td>211</td></tr>\n",
       "\t<tr><td>5 </td><td>210</td></tr>\n",
       "\t<tr><td>6 </td><td>215</td></tr>\n",
       "\t<tr><td>7 </td><td>198</td></tr>\n",
       "\t<tr><td>8 </td><td>158</td></tr>\n",
       "\t<tr><td>9 </td><td>138</td></tr>\n",
       "\t<tr><td>MT</td><td>  2</td></tr>\n",
       "\t<tr><td>X </td><td>407</td></tr>\n",
       "\t<tr><td>Y </td><td>585</td></tr>\n",
       "\t<tr><td>NA</td><td> 63</td></tr>\n",
       "</tbody>\n",
       "</table>\n"
      ],
      "text/latex": [
       "A grouped\\_df: 26 × 2\n",
       "\\begin{tabular}{ll}\n",
       " Chromosome & n\\\\\n",
       " <fct> & <int>\\\\\n",
       "\\hline\n",
       "\t 1  & 520\\\\\n",
       "\t 10 & 153\\\\\n",
       "\t 11 & 230\\\\\n",
       "\t 12 & 253\\\\\n",
       "\t 13 &  66\\\\\n",
       "\t 14 & 148\\\\\n",
       "\t 15 & 179\\\\\n",
       "\t 16 & 164\\\\\n",
       "\t 17 & 233\\\\\n",
       "\t 18 &  71\\\\\n",
       "\t 19 & 218\\\\\n",
       "\t 2  & 323\\\\\n",
       "\t 20 & 202\\\\\n",
       "\t 21 &  54\\\\\n",
       "\t 22 & 132\\\\\n",
       "\t 3  & 241\\\\\n",
       "\t 4  & 211\\\\\n",
       "\t 5  & 210\\\\\n",
       "\t 6  & 215\\\\\n",
       "\t 7  & 198\\\\\n",
       "\t 8  & 158\\\\\n",
       "\t 9  & 138\\\\\n",
       "\t MT &   2\\\\\n",
       "\t X  & 407\\\\\n",
       "\t Y  & 585\\\\\n",
       "\t NA &  63\\\\\n",
       "\\end{tabular}\n"
      ],
      "text/markdown": [
       "\n",
       "A grouped_df: 26 × 2\n",
       "\n",
       "| Chromosome &lt;fct&gt; | n &lt;int&gt; |\n",
       "|---|---|\n",
       "| 1  | 520 |\n",
       "| 10 | 153 |\n",
       "| 11 | 230 |\n",
       "| 12 | 253 |\n",
       "| 13 |  66 |\n",
       "| 14 | 148 |\n",
       "| 15 | 179 |\n",
       "| 16 | 164 |\n",
       "| 17 | 233 |\n",
       "| 18 |  71 |\n",
       "| 19 | 218 |\n",
       "| 2  | 323 |\n",
       "| 20 | 202 |\n",
       "| 21 |  54 |\n",
       "| 22 | 132 |\n",
       "| 3  | 241 |\n",
       "| 4  | 211 |\n",
       "| 5  | 210 |\n",
       "| 6  | 215 |\n",
       "| 7  | 198 |\n",
       "| 8  | 158 |\n",
       "| 9  | 138 |\n",
       "| MT |   2 |\n",
       "| X  | 407 |\n",
       "| Y  | 585 |\n",
       "| NA |  63 |\n",
       "\n"
      ],
      "text/plain": [
       "   Chromosome n  \n",
       "1  1          520\n",
       "2  10         153\n",
       "3  11         230\n",
       "4  12         253\n",
       "5  13          66\n",
       "6  14         148\n",
       "7  15         179\n",
       "8  16         164\n",
       "9  17         233\n",
       "10 18          71\n",
       "11 19         218\n",
       "12 2          323\n",
       "13 20         202\n",
       "14 21          54\n",
       "15 22         132\n",
       "16 3          241\n",
       "17 4          211\n",
       "18 5          210\n",
       "19 6          215\n",
       "20 7          198\n",
       "21 8          158\n",
       "22 9          138\n",
       "23 MT           2\n",
       "24 X          407\n",
       "25 Y          585\n",
       "26 NA          63"
      ]
     },
     "metadata": {},
     "output_type": "display_data"
    }
   ],
   "source": [
    "signif_per_chrom"
   ]
  },
  {
   "cell_type": "code",
   "execution_count": 56,
   "metadata": {},
   "outputs": [
    {
     "data": {
      "text/html": [
       "<table>\n",
       "<caption>A data.frame: 6 × 2</caption>\n",
       "<thead>\n",
       "\t<tr><th></th><th scope=col>Chromosome</th><th scope=col>exons</th></tr>\n",
       "\t<tr><th></th><th scope=col>&lt;fct&gt;</th><th scope=col>&lt;int&gt;</th></tr>\n",
       "</thead>\n",
       "<tbody>\n",
       "\t<tr><th scope=row>1</th><td>1</td><td>69381</td></tr>\n",
       "\t<tr><th scope=row>2</th><td>2</td><td>55599</td></tr>\n",
       "\t<tr><th scope=row>3</th><td>3</td><td>46452</td></tr>\n",
       "\t<tr><th scope=row>4</th><td>4</td><td>29749</td></tr>\n",
       "\t<tr><th scope=row>5</th><td>5</td><td>34789</td></tr>\n",
       "\t<tr><th scope=row>6</th><td>6</td><td>33817</td></tr>\n",
       "</tbody>\n",
       "</table>\n"
      ],
      "text/latex": [
       "A data.frame: 6 × 2\n",
       "\\begin{tabular}{r|ll}\n",
       "  & Chromosome & exons\\\\\n",
       "  & <fct> & <int>\\\\\n",
       "\\hline\n",
       "\t1 & 1 & 69381\\\\\n",
       "\t2 & 2 & 55599\\\\\n",
       "\t3 & 3 & 46452\\\\\n",
       "\t4 & 4 & 29749\\\\\n",
       "\t5 & 5 & 34789\\\\\n",
       "\t6 & 6 & 33817\\\\\n",
       "\\end{tabular}\n"
      ],
      "text/markdown": [
       "\n",
       "A data.frame: 6 × 2\n",
       "\n",
       "| <!--/--> | Chromosome &lt;fct&gt; | exons &lt;int&gt; |\n",
       "|---|---|---|\n",
       "| 1 | 1 | 69381 |\n",
       "| 2 | 2 | 55599 |\n",
       "| 3 | 3 | 46452 |\n",
       "| 4 | 4 | 29749 |\n",
       "| 5 | 5 | 34789 |\n",
       "| 6 | 6 | 33817 |\n",
       "\n"
      ],
      "text/plain": [
       "  Chromosome exons\n",
       "1 1          69381\n",
       "2 2          55599\n",
       "3 3          46452\n",
       "4 4          29749\n",
       "5 5          34789\n",
       "6 6          33817"
      ]
     },
     "metadata": {},
     "output_type": "display_data"
    }
   ],
   "source": [
    "chrom2exon_filename = '../assets/canon_chrom2exons.txt'\n",
    "if (! file.exists(chrom2exon_filename)) {\n",
    "    message(\"Could not find canon_chrom2exons.txt file\")\n",
    "}\n",
    "c2e_df = read.csv(chrom2exon_filename, sep='\\t', header=FALSE)\n",
    "colnames(c2e_df) <- c(\"Chromosome\",\"exons\")\n",
    "head(c2e_df) # 25 chromosomes including MT"
   ]
  },
  {
   "cell_type": "code",
   "execution_count": 57,
   "metadata": {},
   "outputs": [
    {
     "data": {
      "text/html": [
       "<table>\n",
       "<caption>A data.frame: 6 × 3</caption>\n",
       "<thead>\n",
       "\t<tr><th></th><th scope=col>Chromosome</th><th scope=col>n</th><th scope=col>exons</th></tr>\n",
       "\t<tr><th></th><th scope=col>&lt;fct&gt;</th><th scope=col>&lt;int&gt;</th><th scope=col>&lt;int&gt;</th></tr>\n",
       "</thead>\n",
       "<tbody>\n",
       "\t<tr><th scope=row>1</th><td>1 </td><td>520</td><td>69381</td></tr>\n",
       "\t<tr><th scope=row>2</th><td>10</td><td>153</td><td>26514</td></tr>\n",
       "\t<tr><th scope=row>3</th><td>11</td><td>230</td><td>43212</td></tr>\n",
       "\t<tr><th scope=row>4</th><td>12</td><td>253</td><td>42925</td></tr>\n",
       "\t<tr><th scope=row>5</th><td>13</td><td> 66</td><td>13193</td></tr>\n",
       "\t<tr><th scope=row>6</th><td>14</td><td>148</td><td>25994</td></tr>\n",
       "</tbody>\n",
       "</table>\n"
      ],
      "text/latex": [
       "A data.frame: 6 × 3\n",
       "\\begin{tabular}{r|lll}\n",
       "  & Chromosome & n & exons\\\\\n",
       "  & <fct> & <int> & <int>\\\\\n",
       "\\hline\n",
       "\t1 & 1  & 520 & 69381\\\\\n",
       "\t2 & 10 & 153 & 26514\\\\\n",
       "\t3 & 11 & 230 & 43212\\\\\n",
       "\t4 & 12 & 253 & 42925\\\\\n",
       "\t5 & 13 &  66 & 13193\\\\\n",
       "\t6 & 14 & 148 & 25994\\\\\n",
       "\\end{tabular}\n"
      ],
      "text/markdown": [
       "\n",
       "A data.frame: 6 × 3\n",
       "\n",
       "| <!--/--> | Chromosome &lt;fct&gt; | n &lt;int&gt; | exons &lt;int&gt; |\n",
       "|---|---|---|---|\n",
       "| 1 | 1  | 520 | 69381 |\n",
       "| 2 | 10 | 153 | 26514 |\n",
       "| 3 | 11 | 230 | 43212 |\n",
       "| 4 | 12 | 253 | 42925 |\n",
       "| 5 | 13 |  66 | 13193 |\n",
       "| 6 | 14 | 148 | 25994 |\n",
       "\n"
      ],
      "text/plain": [
       "  Chromosome n   exons\n",
       "1 1          520 69381\n",
       "2 10         153 26514\n",
       "3 11         230 43212\n",
       "4 12         253 42925\n",
       "5 13          66 13193\n",
       "6 14         148 25994"
      ]
     },
     "metadata": {},
     "output_type": "display_data"
    }
   ],
   "source": [
    "df2 <- merge(signif_per_chrom, c2e_df, by=\"Chromosome\")\n",
    "head(df2)"
   ]
  },
  {
   "cell_type": "code",
   "execution_count": 58,
   "metadata": {},
   "outputs": [
    {
     "name": "stderr",
     "output_type": "stream",
     "text": [
      "── \u001b[1mAttaching packages\u001b[22m ─────────────────────────────────────── tidyverse 1.3.0 ──\n",
      "\u001b[32m✔\u001b[39m \u001b[34mtibble \u001b[39m 3.0.1     \u001b[32m✔\u001b[39m \u001b[34mstringr\u001b[39m 1.4.0\n",
      "\u001b[32m✔\u001b[39m \u001b[34mreadr  \u001b[39m 1.3.1     \u001b[32m✔\u001b[39m \u001b[34mforcats\u001b[39m 0.4.0\n",
      "\u001b[32m✔\u001b[39m \u001b[34mpurrr  \u001b[39m 0.3.4     \n",
      "Warning message:\n",
      "“package ‘readr’ was built under R version 3.6.3”Warning message:\n",
      "“package ‘stringr’ was built under R version 3.6.3”── \u001b[1mConflicts\u001b[22m ────────────────────────────────────────── tidyverse_conflicts() ──\n",
      "\u001b[31m✖\u001b[39m \u001b[34mreshape\u001b[39m::\u001b[32mexpand()\u001b[39m masks \u001b[34mtidyr\u001b[39m::expand()\n",
      "\u001b[31m✖\u001b[39m \u001b[34mdplyr\u001b[39m::\u001b[32mfilter()\u001b[39m   masks \u001b[34mstats\u001b[39m::filter()\n",
      "\u001b[31m✖\u001b[39m \u001b[34mdplyr\u001b[39m::\u001b[32mlag()\u001b[39m      masks \u001b[34mstats\u001b[39m::lag()\n",
      "\u001b[31m✖\u001b[39m \u001b[34mreshape\u001b[39m::\u001b[32mrename()\u001b[39m masks \u001b[34mdplyr\u001b[39m::rename()\n"
     ]
    }
   ],
   "source": [
    "# calculate splicinig index\n",
    "library(tidyverse)"
   ]
  },
  {
   "cell_type": "code",
   "execution_count": 59,
   "metadata": {},
   "outputs": [],
   "source": [
    "df2 %>% \n",
    "  mutate(Index = 1000 * n/exons) -> df3"
   ]
  },
  {
   "cell_type": "code",
   "execution_count": 60,
   "metadata": {},
   "outputs": [],
   "source": [
    "df4 <- df3[-25,] # remove the Y chromosome\n",
    "df4 <- df4[-23,] # remove the MT chromosome"
   ]
  },
  {
   "cell_type": "code",
   "execution_count": 66,
   "metadata": {},
   "outputs": [
    {
     "data": {
      "text/html": [
       "<table>\n",
       "<caption>A data.frame: 23 × 4</caption>\n",
       "<thead>\n",
       "\t<tr><th></th><th scope=col>Chromosome</th><th scope=col>n</th><th scope=col>exons</th><th scope=col>Index</th></tr>\n",
       "\t<tr><th></th><th scope=col>&lt;fct&gt;</th><th scope=col>&lt;int&gt;</th><th scope=col>&lt;int&gt;</th><th scope=col>&lt;dbl&gt;</th></tr>\n",
       "</thead>\n",
       "<tbody>\n",
       "\t<tr><th scope=row>24</th><td>X </td><td>407</td><td>22471</td><td>18.112234</td></tr>\n",
       "\t<tr><th scope=row>13</th><td>20</td><td>202</td><td>16704</td><td>12.092912</td></tr>\n",
       "\t<tr><th scope=row>15</th><td>22</td><td>132</td><td>16411</td><td> 8.043386</td></tr>\n",
       "\t<tr><th scope=row>1</th><td>1 </td><td>520</td><td>69381</td><td> 7.494847</td></tr>\n",
       "\t<tr><th scope=row>17</th><td>4 </td><td>211</td><td>29749</td><td> 7.092675</td></tr>\n",
       "\t<tr><th scope=row>19</th><td>6 </td><td>215</td><td>33817</td><td> 6.357749</td></tr>\n",
       "\t<tr><th scope=row>7</th><td>15</td><td>179</td><td>28720</td><td> 6.232591</td></tr>\n",
       "\t<tr><th scope=row>14</th><td>21</td><td> 54</td><td> 8830</td><td> 6.115515</td></tr>\n",
       "\t<tr><th scope=row>18</th><td>5 </td><td>210</td><td>34789</td><td> 6.036391</td></tr>\n",
       "\t<tr><th scope=row>4</th><td>12</td><td>253</td><td>42925</td><td> 5.894001</td></tr>\n",
       "\t<tr><th scope=row>12</th><td>2 </td><td>323</td><td>55599</td><td> 5.809457</td></tr>\n",
       "\t<tr><th scope=row>2</th><td>10</td><td>153</td><td>26514</td><td> 5.770536</td></tr>\n",
       "\t<tr><th scope=row>6</th><td>14</td><td>148</td><td>25994</td><td> 5.693622</td></tr>\n",
       "\t<tr><th scope=row>21</th><td>8 </td><td>158</td><td>28489</td><td> 5.546000</td></tr>\n",
       "\t<tr><th scope=row>20</th><td>7 </td><td>198</td><td>35973</td><td> 5.504128</td></tr>\n",
       "\t<tr><th scope=row>3</th><td>11</td><td>230</td><td>43212</td><td> 5.322596</td></tr>\n",
       "\t<tr><th scope=row>10</th><td>18</td><td> 71</td><td>13360</td><td> 5.314371</td></tr>\n",
       "\t<tr><th scope=row>22</th><td>9 </td><td>138</td><td>26460</td><td> 5.215420</td></tr>\n",
       "\t<tr><th scope=row>16</th><td>3 </td><td>241</td><td>46452</td><td> 5.188151</td></tr>\n",
       "\t<tr><th scope=row>9</th><td>17</td><td>233</td><td>45142</td><td> 5.161490</td></tr>\n",
       "\t<tr><th scope=row>5</th><td>13</td><td> 66</td><td>13193</td><td> 5.002653</td></tr>\n",
       "\t<tr><th scope=row>11</th><td>19</td><td>218</td><td>44166</td><td> 4.935924</td></tr>\n",
       "\t<tr><th scope=row>8</th><td>16</td><td>164</td><td>36285</td><td> 4.519774</td></tr>\n",
       "</tbody>\n",
       "</table>\n"
      ],
      "text/latex": [
       "A data.frame: 23 × 4\n",
       "\\begin{tabular}{r|llll}\n",
       "  & Chromosome & n & exons & Index\\\\\n",
       "  & <fct> & <int> & <int> & <dbl>\\\\\n",
       "\\hline\n",
       "\t24 & X  & 407 & 22471 & 18.112234\\\\\n",
       "\t13 & 20 & 202 & 16704 & 12.092912\\\\\n",
       "\t15 & 22 & 132 & 16411 &  8.043386\\\\\n",
       "\t1 & 1  & 520 & 69381 &  7.494847\\\\\n",
       "\t17 & 4  & 211 & 29749 &  7.092675\\\\\n",
       "\t19 & 6  & 215 & 33817 &  6.357749\\\\\n",
       "\t7 & 15 & 179 & 28720 &  6.232591\\\\\n",
       "\t14 & 21 &  54 &  8830 &  6.115515\\\\\n",
       "\t18 & 5  & 210 & 34789 &  6.036391\\\\\n",
       "\t4 & 12 & 253 & 42925 &  5.894001\\\\\n",
       "\t12 & 2  & 323 & 55599 &  5.809457\\\\\n",
       "\t2 & 10 & 153 & 26514 &  5.770536\\\\\n",
       "\t6 & 14 & 148 & 25994 &  5.693622\\\\\n",
       "\t21 & 8  & 158 & 28489 &  5.546000\\\\\n",
       "\t20 & 7  & 198 & 35973 &  5.504128\\\\\n",
       "\t3 & 11 & 230 & 43212 &  5.322596\\\\\n",
       "\t10 & 18 &  71 & 13360 &  5.314371\\\\\n",
       "\t22 & 9  & 138 & 26460 &  5.215420\\\\\n",
       "\t16 & 3  & 241 & 46452 &  5.188151\\\\\n",
       "\t9 & 17 & 233 & 45142 &  5.161490\\\\\n",
       "\t5 & 13 &  66 & 13193 &  5.002653\\\\\n",
       "\t11 & 19 & 218 & 44166 &  4.935924\\\\\n",
       "\t8 & 16 & 164 & 36285 &  4.519774\\\\\n",
       "\\end{tabular}\n"
      ],
      "text/markdown": [
       "\n",
       "A data.frame: 23 × 4\n",
       "\n",
       "| <!--/--> | Chromosome &lt;fct&gt; | n &lt;int&gt; | exons &lt;int&gt; | Index &lt;dbl&gt; |\n",
       "|---|---|---|---|---|\n",
       "| 24 | X  | 407 | 22471 | 18.112234 |\n",
       "| 13 | 20 | 202 | 16704 | 12.092912 |\n",
       "| 15 | 22 | 132 | 16411 |  8.043386 |\n",
       "| 1 | 1  | 520 | 69381 |  7.494847 |\n",
       "| 17 | 4  | 211 | 29749 |  7.092675 |\n",
       "| 19 | 6  | 215 | 33817 |  6.357749 |\n",
       "| 7 | 15 | 179 | 28720 |  6.232591 |\n",
       "| 14 | 21 |  54 |  8830 |  6.115515 |\n",
       "| 18 | 5  | 210 | 34789 |  6.036391 |\n",
       "| 4 | 12 | 253 | 42925 |  5.894001 |\n",
       "| 12 | 2  | 323 | 55599 |  5.809457 |\n",
       "| 2 | 10 | 153 | 26514 |  5.770536 |\n",
       "| 6 | 14 | 148 | 25994 |  5.693622 |\n",
       "| 21 | 8  | 158 | 28489 |  5.546000 |\n",
       "| 20 | 7  | 198 | 35973 |  5.504128 |\n",
       "| 3 | 11 | 230 | 43212 |  5.322596 |\n",
       "| 10 | 18 |  71 | 13360 |  5.314371 |\n",
       "| 22 | 9  | 138 | 26460 |  5.215420 |\n",
       "| 16 | 3  | 241 | 46452 |  5.188151 |\n",
       "| 9 | 17 | 233 | 45142 |  5.161490 |\n",
       "| 5 | 13 |  66 | 13193 |  5.002653 |\n",
       "| 11 | 19 | 218 | 44166 |  4.935924 |\n",
       "| 8 | 16 | 164 | 36285 |  4.519774 |\n",
       "\n"
      ],
      "text/plain": [
       "   Chromosome n   exons Index    \n",
       "24 X          407 22471 18.112234\n",
       "13 20         202 16704 12.092912\n",
       "15 22         132 16411  8.043386\n",
       "1  1          520 69381  7.494847\n",
       "17 4          211 29749  7.092675\n",
       "19 6          215 33817  6.357749\n",
       "7  15         179 28720  6.232591\n",
       "14 21          54  8830  6.115515\n",
       "18 5          210 34789  6.036391\n",
       "4  12         253 42925  5.894001\n",
       "12 2          323 55599  5.809457\n",
       "2  10         153 26514  5.770536\n",
       "6  14         148 25994  5.693622\n",
       "21 8          158 28489  5.546000\n",
       "20 7          198 35973  5.504128\n",
       "3  11         230 43212  5.322596\n",
       "10 18          71 13360  5.314371\n",
       "22 9          138 26460  5.215420\n",
       "16 3          241 46452  5.188151\n",
       "9  17         233 45142  5.161490\n",
       "5  13          66 13193  5.002653\n",
       "11 19         218 44166  4.935924\n",
       "8  16         164 36285  4.519774"
      ]
     },
     "metadata": {},
     "output_type": "display_data"
    }
   ],
   "source": [
    "rm(res_sorted)\n",
    "res_sorted <- df4[order(df4$Index, decreasing=TRUE),]\n",
    "res_sorted\n"
   ]
  },
  {
   "cell_type": "code",
   "execution_count": 67,
   "metadata": {},
   "outputs": [
    {
     "data": {
      "text/html": [
       "<table>\n",
       "<caption>A data.frame: 23 × 4</caption>\n",
       "<thead>\n",
       "\t<tr><th></th><th scope=col>Chromosome</th><th scope=col>n</th><th scope=col>exons</th><th scope=col>Index</th></tr>\n",
       "\t<tr><th></th><th scope=col>&lt;fct&gt;</th><th scope=col>&lt;int&gt;</th><th scope=col>&lt;int&gt;</th><th scope=col>&lt;dbl&gt;</th></tr>\n",
       "</thead>\n",
       "<tbody>\n",
       "\t<tr><th scope=row>24</th><td>X </td><td>407</td><td>22471</td><td>18.112234</td></tr>\n",
       "\t<tr><th scope=row>13</th><td>20</td><td>202</td><td>16704</td><td>12.092912</td></tr>\n",
       "\t<tr><th scope=row>15</th><td>22</td><td>132</td><td>16411</td><td> 8.043386</td></tr>\n",
       "\t<tr><th scope=row>1</th><td>1 </td><td>520</td><td>69381</td><td> 7.494847</td></tr>\n",
       "\t<tr><th scope=row>17</th><td>4 </td><td>211</td><td>29749</td><td> 7.092675</td></tr>\n",
       "\t<tr><th scope=row>19</th><td>6 </td><td>215</td><td>33817</td><td> 6.357749</td></tr>\n",
       "\t<tr><th scope=row>7</th><td>15</td><td>179</td><td>28720</td><td> 6.232591</td></tr>\n",
       "\t<tr><th scope=row>14</th><td>21</td><td> 54</td><td> 8830</td><td> 6.115515</td></tr>\n",
       "\t<tr><th scope=row>18</th><td>5 </td><td>210</td><td>34789</td><td> 6.036391</td></tr>\n",
       "\t<tr><th scope=row>4</th><td>12</td><td>253</td><td>42925</td><td> 5.894001</td></tr>\n",
       "\t<tr><th scope=row>12</th><td>2 </td><td>323</td><td>55599</td><td> 5.809457</td></tr>\n",
       "\t<tr><th scope=row>2</th><td>10</td><td>153</td><td>26514</td><td> 5.770536</td></tr>\n",
       "\t<tr><th scope=row>6</th><td>14</td><td>148</td><td>25994</td><td> 5.693622</td></tr>\n",
       "\t<tr><th scope=row>21</th><td>8 </td><td>158</td><td>28489</td><td> 5.546000</td></tr>\n",
       "\t<tr><th scope=row>20</th><td>7 </td><td>198</td><td>35973</td><td> 5.504128</td></tr>\n",
       "\t<tr><th scope=row>3</th><td>11</td><td>230</td><td>43212</td><td> 5.322596</td></tr>\n",
       "\t<tr><th scope=row>10</th><td>18</td><td> 71</td><td>13360</td><td> 5.314371</td></tr>\n",
       "\t<tr><th scope=row>22</th><td>9 </td><td>138</td><td>26460</td><td> 5.215420</td></tr>\n",
       "\t<tr><th scope=row>16</th><td>3 </td><td>241</td><td>46452</td><td> 5.188151</td></tr>\n",
       "\t<tr><th scope=row>9</th><td>17</td><td>233</td><td>45142</td><td> 5.161490</td></tr>\n",
       "\t<tr><th scope=row>5</th><td>13</td><td> 66</td><td>13193</td><td> 5.002653</td></tr>\n",
       "\t<tr><th scope=row>11</th><td>19</td><td>218</td><td>44166</td><td> 4.935924</td></tr>\n",
       "\t<tr><th scope=row>8</th><td>16</td><td>164</td><td>36285</td><td> 4.519774</td></tr>\n",
       "</tbody>\n",
       "</table>\n"
      ],
      "text/latex": [
       "A data.frame: 23 × 4\n",
       "\\begin{tabular}{r|llll}\n",
       "  & Chromosome & n & exons & Index\\\\\n",
       "  & <fct> & <int> & <int> & <dbl>\\\\\n",
       "\\hline\n",
       "\t24 & X  & 407 & 22471 & 18.112234\\\\\n",
       "\t13 & 20 & 202 & 16704 & 12.092912\\\\\n",
       "\t15 & 22 & 132 & 16411 &  8.043386\\\\\n",
       "\t1 & 1  & 520 & 69381 &  7.494847\\\\\n",
       "\t17 & 4  & 211 & 29749 &  7.092675\\\\\n",
       "\t19 & 6  & 215 & 33817 &  6.357749\\\\\n",
       "\t7 & 15 & 179 & 28720 &  6.232591\\\\\n",
       "\t14 & 21 &  54 &  8830 &  6.115515\\\\\n",
       "\t18 & 5  & 210 & 34789 &  6.036391\\\\\n",
       "\t4 & 12 & 253 & 42925 &  5.894001\\\\\n",
       "\t12 & 2  & 323 & 55599 &  5.809457\\\\\n",
       "\t2 & 10 & 153 & 26514 &  5.770536\\\\\n",
       "\t6 & 14 & 148 & 25994 &  5.693622\\\\\n",
       "\t21 & 8  & 158 & 28489 &  5.546000\\\\\n",
       "\t20 & 7  & 198 & 35973 &  5.504128\\\\\n",
       "\t3 & 11 & 230 & 43212 &  5.322596\\\\\n",
       "\t10 & 18 &  71 & 13360 &  5.314371\\\\\n",
       "\t22 & 9  & 138 & 26460 &  5.215420\\\\\n",
       "\t16 & 3  & 241 & 46452 &  5.188151\\\\\n",
       "\t9 & 17 & 233 & 45142 &  5.161490\\\\\n",
       "\t5 & 13 &  66 & 13193 &  5.002653\\\\\n",
       "\t11 & 19 & 218 & 44166 &  4.935924\\\\\n",
       "\t8 & 16 & 164 & 36285 &  4.519774\\\\\n",
       "\\end{tabular}\n"
      ],
      "text/markdown": [
       "\n",
       "A data.frame: 23 × 4\n",
       "\n",
       "| <!--/--> | Chromosome &lt;fct&gt; | n &lt;int&gt; | exons &lt;int&gt; | Index &lt;dbl&gt; |\n",
       "|---|---|---|---|---|\n",
       "| 24 | X  | 407 | 22471 | 18.112234 |\n",
       "| 13 | 20 | 202 | 16704 | 12.092912 |\n",
       "| 15 | 22 | 132 | 16411 |  8.043386 |\n",
       "| 1 | 1  | 520 | 69381 |  7.494847 |\n",
       "| 17 | 4  | 211 | 29749 |  7.092675 |\n",
       "| 19 | 6  | 215 | 33817 |  6.357749 |\n",
       "| 7 | 15 | 179 | 28720 |  6.232591 |\n",
       "| 14 | 21 |  54 |  8830 |  6.115515 |\n",
       "| 18 | 5  | 210 | 34789 |  6.036391 |\n",
       "| 4 | 12 | 253 | 42925 |  5.894001 |\n",
       "| 12 | 2  | 323 | 55599 |  5.809457 |\n",
       "| 2 | 10 | 153 | 26514 |  5.770536 |\n",
       "| 6 | 14 | 148 | 25994 |  5.693622 |\n",
       "| 21 | 8  | 158 | 28489 |  5.546000 |\n",
       "| 20 | 7  | 198 | 35973 |  5.504128 |\n",
       "| 3 | 11 | 230 | 43212 |  5.322596 |\n",
       "| 10 | 18 |  71 | 13360 |  5.314371 |\n",
       "| 22 | 9  | 138 | 26460 |  5.215420 |\n",
       "| 16 | 3  | 241 | 46452 |  5.188151 |\n",
       "| 9 | 17 | 233 | 45142 |  5.161490 |\n",
       "| 5 | 13 |  66 | 13193 |  5.002653 |\n",
       "| 11 | 19 | 218 | 44166 |  4.935924 |\n",
       "| 8 | 16 | 164 | 36285 |  4.519774 |\n",
       "\n"
      ],
      "text/plain": [
       "   Chromosome n   exons Index    \n",
       "24 X          407 22471 18.112234\n",
       "13 20         202 16704 12.092912\n",
       "15 22         132 16411  8.043386\n",
       "1  1          520 69381  7.494847\n",
       "17 4          211 29749  7.092675\n",
       "19 6          215 33817  6.357749\n",
       "7  15         179 28720  6.232591\n",
       "14 21          54  8830  6.115515\n",
       "18 5          210 34789  6.036391\n",
       "4  12         253 42925  5.894001\n",
       "12 2          323 55599  5.809457\n",
       "2  10         153 26514  5.770536\n",
       "6  14         148 25994  5.693622\n",
       "21 8          158 28489  5.546000\n",
       "20 7          198 35973  5.504128\n",
       "3  11         230 43212  5.322596\n",
       "10 18          71 13360  5.314371\n",
       "22 9          138 26460  5.215420\n",
       "16 3          241 46452  5.188151\n",
       "9  17         233 45142  5.161490\n",
       "5  13          66 13193  5.002653\n",
       "11 19         218 44166  4.935924\n",
       "8  16         164 36285  4.519774"
      ]
     },
     "metadata": {},
     "output_type": "display_data"
    }
   ],
   "source": [
    "res_sorted$Chromosome <- factor(res_sorted$Chromosome, levels = res_sorted$Chromosome)\n",
    "res_sorted"
   ]
  },
  {
   "cell_type": "code",
   "execution_count": 68,
   "metadata": {},
   "outputs": [],
   "source": [
    "# set the colors\n",
    "npgBlue<- rgb(60/256,84/256,136/256,1)\n",
    "npgRed <- rgb(220/256,0,0,0.5)\n",
    "npgGreen <- rgb(0,160/256,135/256,1)\n",
    "npgBrown <- rgb(126/256,97/256,72/256,1)"
   ]
  },
  {
   "cell_type": "code",
   "execution_count": 69,
   "metadata": {},
   "outputs": [
    {
     "data": {
      "image/png": "[encoded data removed]",
      "text/plain": [
       "plot without title"
      ]
     },
     "metadata": {},
     "output_type": "display_data"
    }
   ],
   "source": [
    "# make the plot \n",
    "figure2b <- ggplot(res_sorted, aes(x = Chromosome, y = Index, size = n)) +\n",
    "  geom_point(color=npgBlue) +\n",
    "  theme_bw() +\n",
    "  theme(axis.text.x = element_text(size=14, angle = 270, hjust = 0.0, vjust = 0.5),\n",
    "\taxis.text.y = element_text(size=16),\n",
    "\taxis.title.x = element_blank(),\n",
    "\taxis.title.y = element_text(face=\"plain\", colour=\"black\",\n",
    "                                    size=18),\n",
    "\tlegend.title=element_blank(),\n",
    "\tlegend.text = element_text(face=\"plain\", colour=\"black\",\n",
    "                                   size=14)) +\n",
    "  scale_fill_viridis_c() +\n",
    "  ylab(paste(\"Sex-biased splicing index \")) +\n",
    "  xlab(\"Chromosomes\") +\n",
    "  guides(size = guide_legend(title = \"Number of ASE\"))\n",
    "figure2b\n"
   ]
  },
  {
   "cell_type": "code",
   "execution_count": null,
   "metadata": {},
   "outputs": [],
   "source": []
  }
 ],
 "metadata": {
  "kernelspec": {
   "display_name": "R",
   "language": "R",
   "name": "ir"
  },
  "language_info": {
   "codemirror_mode": "r",
   "file_extension": ".r",
   "mimetype": "text/x-r-source",
   "name": "R",
   "pygments_lexer": "r",
   "version": "3.6.1"
  }
 },
 "nbformat": 4,
 "nbformat_minor": 4
}
