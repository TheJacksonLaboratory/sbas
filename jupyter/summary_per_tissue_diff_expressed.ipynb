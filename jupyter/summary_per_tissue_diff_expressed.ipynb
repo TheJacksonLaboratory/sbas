{
 "cells": [
  {
   "cell_type": "markdown",
   "metadata": {},
   "source": [
    "# Supplementary: Counts of differentially expressed genes per examined tissue\n",
    "\n",
    "This notebook aggregates the results from the differential gene expression (**see** [figure1.ipynb](figure1.ipynb)), and more specifically the `limma::topTable()` output dataframes across all tissues in the GTEX cohort and generates summary statistics for the number of genes found to be statistically up or downregulated between male and female subjects."
   ]
  },
  {
   "cell_type": "markdown",
   "metadata": {},
   "source": [
    " ---\n",
    " \n",
    " **Running this notebook**:\n",
    " \n",
    "A few steps are needed before you can run this document on your own. The GitHub repository (https://github.com/TheJacksonLaboratory/sbas) of the project contains detailed instructions for setting up the environment in the **`dependencies/README.md`** document. Before starting with the analysis, make sure you have first completed the dependencies set up by following the instructions described there. If you have not done this already, you will need to close and restart this notebook before running it.\n",
    "\n",
    "All paths defined in this Notebook are relative to the parent directory (repository). \n",
    "\n",
    " ---\n"
   ]
  },
  {
   "cell_type": "markdown",
   "metadata": {},
   "source": [
    "# Loading dependencies"
   ]
  },
  {
   "cell_type": "code",
   "execution_count": 1,
   "metadata": {},
   "outputs": [
    {
     "name": "stderr",
     "output_type": "stream",
     "text": [
      "\n",
      "Attaching package: ‘dplyr’\n",
      "\n",
      "\n",
      "The following objects are masked from ‘package:stats’:\n",
      "\n",
      "    filter, lag\n",
      "\n",
      "\n",
      "The following objects are masked from ‘package:base’:\n",
      "\n",
      "    intersect, setdiff, setequal, union\n",
      "\n",
      "\n",
      "\n",
      "Attaching package: ‘reshape’\n",
      "\n",
      "\n",
      "The following object is masked from ‘package:dplyr’:\n",
      "\n",
      "    rename\n",
      "\n",
      "\n",
      "Warning message:\n",
      "“package ‘ggplot2’ was built under R version 3.6.3”\n"
     ]
    }
   ],
   "source": [
    "library(dplyr)\n",
    "library(reshape)\n",
    "library(ggplot2)"
   ]
  },
  {
   "cell_type": "markdown",
   "metadata": {},
   "source": [
    "## To get the last column fields of the GTF file to annotate the gene ids\n",
    "\n",
    "The `limma::topTable()` dataframes encode the feature information (genes) as rownames of the dataframe. The values are Ensembl Gene IDs. To map the Gene ids to Gene symbold we will use a the fields in the last column of the relevant GTF file. \n",
    "\n",
    "Note: If you are using GENCODE to retrieve the GTF file, use the relevant field name for the gene ID:\n",
    "\n",
    "| Source | Gene Identifier Name |\n",
    "|---:|:---|\n",
    "| GENCODE|`Geneid`|\n",
    "| Ensembl|`gene_id`|\n",
    "\n",
    "\n",
    "- Here are some quick links to retrieve the GTF file, either from Ensembl or GENCODE:\n",
    "\n",
    "```bash\n",
    "wget ftp://ftp.ensembl.org/pub/release-100/gtf/homo_sapiens/Homo_sapiens.GRCh38.100.chr_patch_hapl_scaff.gtf.gz -P ../data\n",
    "wget ftp://ftp.ebi.ac.uk/pub/databases/gencode/Gencode_human/release_30/gencode.v30.chr_patch_hapl_scaff.annotation.gtf.gz -P ../data\n",
    "```\n",
    "\n",
    "- To parse the GTF file and retrieve the fields associated with the Gene IDs, Gene Symbols etc you could use the following bash snippet, depending on the source of your GTF (Ensembl, GENCODE) as these two files slightly differ.\n",
    "\n",
    "```bash\n",
    "# found here: https://www.biostars.org/p/140471/\n",
    "cd sbas/data\n",
    "\n",
    "zcat gencode.v30.annotation.gtf.gz | awk 'BEGIN{FS=\"\\t\"}{split($9,a,\";\"); if($3~\"gene\") print a[1]\"\\t\"a[3]\"\\t\"$1\":\"$4\"-\"$5\"\\t\"a[2]\"\\t\"$7}' |sed 's/gene_id \"//' | sed 's/gene_id \"//' | sed 's/gene_type \"//'| sed 's/gene_name \"//' | sed 's/\"//g' | awk 'BEGIN{FS=\"\\t\"}{split($3,a,\"[:-]\"); print $1\"\\t\"$2\"\\t\"a[1]\"\\t\"a[2]\"\\t\"a[3]\"\\t\"$4\"\\t\"$5\"\\t\"a[3]-a[2];}' | sed \"1i\\Geneid\\tGeneSymbol\\tChromosome\\tStart\\tEnd\\tClass\\tStrand\\tLength\" > gencode.v30.annotation.gtf.gz.txt\n",
    "\n",
    "zcat Homo_sapiens.GRCh38.100.chr_patch_hapl_scaff.gtf.gz | awk 'BEGIN{FS=\"\\t\"}{split($9,a,\";\"); if($3~\"gene\") print a[1]\"\\t\"a[3]\"\\t\"$1\":\"$4\"-\"$5\"\\t\"a[5]\"\\t\"$7}' | sed 's/gene_id \"//' | sed 's/gene_id \"//' | sed 's/gene_biotype \"//'| sed 's/gene_name \"//' | sed 's/gene_biotype \"//' | sed 's/\"//g' | sed 's/ //g' | sed '1igene_id\\tGeneSymbol\\tChromosome\\tClass\\tStrand' > Homo_sapiens.GRCh38.100.chr_patch_hapl_scaff.gtf.gz.txt \n",
    "```"
   ]
  },
  {
   "cell_type": "markdown",
   "metadata": {},
   "source": [
    "## Preview the GTF tables with the gene attributes\n",
    "\n",
    "To make sure the snippets above have worked as expected, take a look in the tables with `head()`:"
   ]
  },
  {
   "cell_type": "code",
   "execution_count": 2,
   "metadata": {},
   "outputs": [
    {
     "data": {
      "text/html": [
       "<table>\n",
       "<caption>A data.frame: 2 × 5</caption>\n",
       "<thead>\n",
       "\t<tr><th></th><th scope=col>gene_id</th><th scope=col>GeneSymbol</th><th scope=col>Chromosome</th><th scope=col>Class</th><th scope=col>Strand</th></tr>\n",
       "\t<tr><th></th><th scope=col>&lt;fct&gt;</th><th scope=col>&lt;fct&gt;</th><th scope=col>&lt;fct&gt;</th><th scope=col>&lt;fct&gt;</th><th scope=col>&lt;fct&gt;</th></tr>\n",
       "</thead>\n",
       "<tbody>\n",
       "\t<tr><th scope=row>1</th><td>ENSG00000223972</td><td>DDX11L1</td><td>1:11869-14409</td><td>transcribed_unprocessed_pseudogene</td><td>+</td></tr>\n",
       "\t<tr><th scope=row>2</th><td>ENSG00000227232</td><td>WASH7P </td><td>1:14404-29570</td><td>unprocessed_pseudogene            </td><td>-</td></tr>\n",
       "</tbody>\n",
       "</table>\n"
      ],
      "text/latex": [
       "A data.frame: 2 × 5\n",
       "\\begin{tabular}{r|lllll}\n",
       "  & gene\\_id & GeneSymbol & Chromosome & Class & Strand\\\\\n",
       "  & <fct> & <fct> & <fct> & <fct> & <fct>\\\\\n",
       "\\hline\n",
       "\t1 & ENSG00000223972 & DDX11L1 & 1:11869-14409 & transcribed\\_unprocessed\\_pseudogene & +\\\\\n",
       "\t2 & ENSG00000227232 & WASH7P  & 1:14404-29570 & unprocessed\\_pseudogene             & -\\\\\n",
       "\\end{tabular}\n"
      ],
      "text/markdown": [
       "\n",
       "A data.frame: 2 × 5\n",
       "\n",
       "| <!--/--> | gene_id &lt;fct&gt; | GeneSymbol &lt;fct&gt; | Chromosome &lt;fct&gt; | Class &lt;fct&gt; | Strand &lt;fct&gt; |\n",
       "|---|---|---|---|---|---|\n",
       "| 1 | ENSG00000223972 | DDX11L1 | 1:11869-14409 | transcribed_unprocessed_pseudogene | + |\n",
       "| 2 | ENSG00000227232 | WASH7P  | 1:14404-29570 | unprocessed_pseudogene             | - |\n",
       "\n"
      ],
      "text/plain": [
       "  gene_id         GeneSymbol Chromosome    Class                             \n",
       "1 ENSG00000223972 DDX11L1    1:11869-14409 transcribed_unprocessed_pseudogene\n",
       "2 ENSG00000227232 WASH7P     1:14404-29570 unprocessed_pseudogene            \n",
       "  Strand\n",
       "1 +     \n",
       "2 -     "
      ]
     },
     "metadata": {},
     "output_type": "display_data"
    },
    {
     "data": {
      "text/html": [
       "<table>\n",
       "<caption>A data.frame: 2 × 8</caption>\n",
       "<thead>\n",
       "\t<tr><th></th><th scope=col>Geneid</th><th scope=col>GeneSymbol</th><th scope=col>Chromosome</th><th scope=col>Start</th><th scope=col>End</th><th scope=col>Class</th><th scope=col>Strand</th><th scope=col>Length</th></tr>\n",
       "\t<tr><th></th><th scope=col>&lt;fct&gt;</th><th scope=col>&lt;fct&gt;</th><th scope=col>&lt;fct&gt;</th><th scope=col>&lt;int&gt;</th><th scope=col>&lt;int&gt;</th><th scope=col>&lt;fct&gt;</th><th scope=col>&lt;fct&gt;</th><th scope=col>&lt;int&gt;</th></tr>\n",
       "</thead>\n",
       "<tbody>\n",
       "\t<tr><th scope=row>1</th><td>ENSG00000223972.5</td><td>DDX11L1</td><td>chr1</td><td>11869</td><td>14409</td><td>transcribed_unprocessed_pseudogene</td><td>+</td><td> 2540</td></tr>\n",
       "\t<tr><th scope=row>2</th><td>ENSG00000227232.5</td><td>WASH7P </td><td>chr1</td><td>14404</td><td>29570</td><td>unprocessed_pseudogene            </td><td>-</td><td>15166</td></tr>\n",
       "</tbody>\n",
       "</table>\n"
      ],
      "text/latex": [
       "A data.frame: 2 × 8\n",
       "\\begin{tabular}{r|llllllll}\n",
       "  & Geneid & GeneSymbol & Chromosome & Start & End & Class & Strand & Length\\\\\n",
       "  & <fct> & <fct> & <fct> & <int> & <int> & <fct> & <fct> & <int>\\\\\n",
       "\\hline\n",
       "\t1 & ENSG00000223972.5 & DDX11L1 & chr1 & 11869 & 14409 & transcribed\\_unprocessed\\_pseudogene & + &  2540\\\\\n",
       "\t2 & ENSG00000227232.5 & WASH7P  & chr1 & 14404 & 29570 & unprocessed\\_pseudogene             & - & 15166\\\\\n",
       "\\end{tabular}\n"
      ],
      "text/markdown": [
       "\n",
       "A data.frame: 2 × 8\n",
       "\n",
       "| <!--/--> | Geneid &lt;fct&gt; | GeneSymbol &lt;fct&gt; | Chromosome &lt;fct&gt; | Start &lt;int&gt; | End &lt;int&gt; | Class &lt;fct&gt; | Strand &lt;fct&gt; | Length &lt;int&gt; |\n",
       "|---|---|---|---|---|---|---|---|---|\n",
       "| 1 | ENSG00000223972.5 | DDX11L1 | chr1 | 11869 | 14409 | transcribed_unprocessed_pseudogene | + |  2540 |\n",
       "| 2 | ENSG00000227232.5 | WASH7P  | chr1 | 14404 | 29570 | unprocessed_pseudogene             | - | 15166 |\n",
       "\n"
      ],
      "text/plain": [
       "  Geneid            GeneSymbol Chromosome Start End  \n",
       "1 ENSG00000223972.5 DDX11L1    chr1       11869 14409\n",
       "2 ENSG00000227232.5 WASH7P     chr1       14404 29570\n",
       "  Class                              Strand Length\n",
       "1 transcribed_unprocessed_pseudogene +       2540 \n",
       "2 unprocessed_pseudogene             -      15166 "
      ]
     },
     "metadata": {},
     "output_type": "display_data"
    }
   ],
   "source": [
    "ensembl_path <- \"Homo_sapiens.GRCh38.100.chr_patch_hapl_scaff.gtf.gz.txt\"\n",
    "gencode_path <- \"gencode.v30.chr_patch_hapl_scaff.annotation.gtf.gz.txt\"\n",
    "gtf_ensembl <- read.table(paste0(\"../data/\", ensembl_path), header = TRUE)\n",
    "gtf_gencode <- read.table(paste0(\"../data/\", gencode_path), header = TRUE)\n",
    "\n",
    "head(gtf_ensembl,2)\n",
    "head(gtf_gencode,2)"
   ]
  },
  {
   "cell_type": "markdown",
   "metadata": {},
   "source": [
    "# Create a list of named dataframes with the Differential Gene Expression `limma::topTable()`s\n",
    "\n",
    "We will iterate over the list of named dataframes to collect summary statistics. More specifically, retrieve the count of:\n",
    "- upregulated\n",
    "- downregulated\n",
    "- non significant\n",
    "\n",
    "genes for the contrast males-females per tissue."
   ]
  },
  {
   "cell_type": "code",
   "execution_count": 3,
   "metadata": {},
   "outputs": [],
   "source": [
    "dge_tables_filepaths <- list.files(\"../data/dge\", pattern = \"*DGE.csv\", full.names = TRUE)\n",
    "dge_tables_filenames <- list.files(\"../data/dge\", pattern = \"*DGE.csv\", full.names = FALSE)"
   ]
  },
  {
   "cell_type": "code",
   "execution_count": 4,
   "metadata": {},
   "outputs": [],
   "source": [
    "all_topTables <- lapply(dge_tables_filepaths,read.csv)\n",
    "names(all_topTables) <- gsub(\"_DGE.csv\",\"\", dge_tables_filenames, fixed = TRUE)"
   ]
  },
  {
   "cell_type": "markdown",
   "metadata": {},
   "source": [
    "The list named `all_topTables` is the object that holds all the topTable dataframes from each tissue comparison:"
   ]
  },
  {
   "cell_type": "code",
   "execution_count": 5,
   "metadata": {},
   "outputs": [
    {
     "data": {
      "text/html": [
       "46"
      ],
      "text/latex": [
       "46"
      ],
      "text/markdown": [
       "46"
      ],
      "text/plain": [
       "[1] 46"
      ]
     },
     "metadata": {},
     "output_type": "display_data"
    }
   ],
   "source": [
    "length(all_topTables)"
   ]
  },
  {
   "cell_type": "code",
   "execution_count": 6,
   "metadata": {},
   "outputs": [
    {
     "data": {
      "text/plain": [
       "                                     Length Class      Mode\n",
       "Adipose-Subcutaneous                 6      data.frame list\n",
       "Adipose-Visceral(Omentum)            6      data.frame list\n",
       "AdrenalGland                         6      data.frame list\n",
       "Artery-Aorta                         6      data.frame list\n",
       "Artery-Coronary                      6      data.frame list\n",
       "Artery-Tibial                        6      data.frame list\n",
       "Bladder                              6      data.frame list\n",
       "Brain-Amygdala                       6      data.frame list\n",
       "Brain-Anteriorcingulatecortex(BA24)  6      data.frame list\n",
       "Brain-Caudate(basalganglia)          6      data.frame list\n",
       "Brain-CerebellarHemisphere           6      data.frame list\n",
       "Brain-Cerebellum                     6      data.frame list\n",
       "Brain-Cortex                         6      data.frame list\n",
       "Brain-FrontalCortex(BA9)             6      data.frame list\n",
       "Brain-Hippocampus                    6      data.frame list\n",
       "Brain-Hypothalamus                   6      data.frame list\n",
       "Brain-Nucleusaccumbens(basalganglia) 6      data.frame list\n",
       "Brain-Putamen(basalganglia)          6      data.frame list\n",
       "Brain-Spinalcord(cervicalc-1)        6      data.frame list\n",
       "Brain-Substantianigra                6      data.frame list\n",
       "Breast-MammaryTissue                 6      data.frame list\n",
       "Cells-Culturedfibroblasts            6      data.frame list\n",
       "Cells-EBV-transformedlymphocytes     6      data.frame list\n",
       "Colon-Sigmoid                        6      data.frame list\n",
       "Colon-Transverse                     6      data.frame list\n",
       "Esophagus-GastroesophagealJunction   6      data.frame list\n",
       "Esophagus-Mucosa                     6      data.frame list\n",
       "Esophagus-Muscularis                 6      data.frame list\n",
       "Heart-AtrialAppendage                6      data.frame list\n",
       "Heart-LeftVentricle                  6      data.frame list\n",
       "Kidney-Cortex                        6      data.frame list\n",
       "Kidney-Medulla                       6      data.frame list\n",
       "Liver                                6      data.frame list\n",
       "Lung                                 6      data.frame list\n",
       "MinorSalivaryGland                   6      data.frame list\n",
       "Muscle-Skeletal                      6      data.frame list\n",
       "Nerve-Tibial                         6      data.frame list\n",
       "Pancreas                             6      data.frame list\n",
       "Pituitary                            6      data.frame list\n",
       "Skin-NotSunExposed(Suprapubic)       6      data.frame list\n",
       "Skin-SunExposed(Lowerleg)            6      data.frame list\n",
       "SmallIntestine-TerminalIleum         6      data.frame list\n",
       "Spleen                               6      data.frame list\n",
       "Stomach                              6      data.frame list\n",
       "Thyroid                              6      data.frame list\n",
       "WholeBlood                           6      data.frame list"
      ]
     },
     "metadata": {},
     "output_type": "display_data"
    }
   ],
   "source": [
    "summary(all_topTables)"
   ]
  },
  {
   "cell_type": "markdown",
   "metadata": {},
   "source": [
    "# Trim gene versions from gene names to match Gene Identifiers from GTF (GENCODE, Ensembl)\n",
    "Remove characters after `.` in the Gene Identifier column, since as long as the gene version information is present we will not be able to perform a join, to annotate the toptable dataframes with the GTF gene attrubutes."
   ]
  },
  {
   "cell_type": "code",
   "execution_count": 7,
   "metadata": {},
   "outputs": [],
   "source": [
    "GTF_SOURCE <- \"ensembl\"      # c(\"gencode\", \"ensembl\")\n",
    "GENE_ID    <- \"gene_id\"      # c(\"Geneid\" , \"gene_id\")\n",
    "\n",
    "if (GTF_SOURCE == \"gencode\") { GTF <- gtf_gencode}\n",
    "if (GTF_SOURCE == \"ensembl\") { GTF <- gtf_ensembl}\n",
    "\n",
    "GTF[[GENE_ID]]       <- gsub(\"\\\\..*\",\"\", GTF[[GENE_ID]])"
   ]
  },
  {
   "cell_type": "markdown",
   "metadata": {},
   "source": [
    "# Example with one topTable before iterating over all tissues"
   ]
  },
  {
   "cell_type": "code",
   "execution_count": 8,
   "metadata": {},
   "outputs": [
    {
     "data": {
      "text/html": [
       "'Adipose-Subcutaneous'"
      ],
      "text/latex": [
       "'Adipose-Subcutaneous'"
      ],
      "text/markdown": [
       "'Adipose-Subcutaneous'"
      ],
      "text/plain": [
       "[1] \"Adipose-Subcutaneous\""
      ]
     },
     "metadata": {},
     "output_type": "display_data"
    },
    {
     "data": {
      "text/html": [
       "<table>\n",
       "<caption>A data.frame: 2 × 7</caption>\n",
       "<thead>\n",
       "\t<tr><th></th><th scope=col>logFC</th><th scope=col>AveExpr</th><th scope=col>t</th><th scope=col>P.Value</th><th scope=col>adj.P.Val</th><th scope=col>B</th><th scope=col>gene_id</th></tr>\n",
       "\t<tr><th></th><th scope=col>&lt;dbl&gt;</th><th scope=col>&lt;dbl&gt;</th><th scope=col>&lt;dbl&gt;</th><th scope=col>&lt;dbl&gt;</th><th scope=col>&lt;dbl&gt;</th><th scope=col>&lt;dbl&gt;</th><th scope=col>&lt;chr&gt;</th></tr>\n",
       "</thead>\n",
       "<tbody>\n",
       "\t<tr><th scope=row>ENSG00000129824.15</th><td>-9.668735</td><td>4.643844</td><td>-145.5404</td><td>0</td><td>0</td><td>1136.058</td><td>ENSG00000129824</td></tr>\n",
       "\t<tr><th scope=row>ENSG00000229807.10</th><td> 9.907847</td><td>1.246117</td><td> 131.3680</td><td>0</td><td>0</td><td>1079.040</td><td>ENSG00000229807</td></tr>\n",
       "</tbody>\n",
       "</table>\n"
      ],
      "text/latex": [
       "A data.frame: 2 × 7\n",
       "\\begin{tabular}{r|lllllll}\n",
       "  & logFC & AveExpr & t & P.Value & adj.P.Val & B & gene\\_id\\\\\n",
       "  & <dbl> & <dbl> & <dbl> & <dbl> & <dbl> & <dbl> & <chr>\\\\\n",
       "\\hline\n",
       "\tENSG00000129824.15 & -9.668735 & 4.643844 & -145.5404 & 0 & 0 & 1136.058 & ENSG00000129824\\\\\n",
       "\tENSG00000229807.10 &  9.907847 & 1.246117 &  131.3680 & 0 & 0 & 1079.040 & ENSG00000229807\\\\\n",
       "\\end{tabular}\n"
      ],
      "text/markdown": [
       "\n",
       "A data.frame: 2 × 7\n",
       "\n",
       "| <!--/--> | logFC &lt;dbl&gt; | AveExpr &lt;dbl&gt; | t &lt;dbl&gt; | P.Value &lt;dbl&gt; | adj.P.Val &lt;dbl&gt; | B &lt;dbl&gt; | gene_id &lt;chr&gt; |\n",
       "|---|---|---|---|---|---|---|---|\n",
       "| ENSG00000129824.15 | -9.668735 | 4.643844 | -145.5404 | 0 | 0 | 1136.058 | ENSG00000129824 |\n",
       "| ENSG00000229807.10 |  9.907847 | 1.246117 |  131.3680 | 0 | 0 | 1079.040 | ENSG00000229807 |\n",
       "\n"
      ],
      "text/plain": [
       "                   logFC     AveExpr  t         P.Value adj.P.Val B       \n",
       "ENSG00000129824.15 -9.668735 4.643844 -145.5404 0       0         1136.058\n",
       "ENSG00000229807.10  9.907847 1.246117  131.3680 0       0         1079.040\n",
       "                   gene_id        \n",
       "ENSG00000129824.15 ENSG00000129824\n",
       "ENSG00000229807.10 ENSG00000229807"
      ]
     },
     "metadata": {},
     "output_type": "display_data"
    },
    {
     "data": {
      "text/html": [
       "<table>\n",
       "<caption>A data.frame: 2 × 5</caption>\n",
       "<thead>\n",
       "\t<tr><th></th><th scope=col>gene_id</th><th scope=col>GeneSymbol</th><th scope=col>Chromosome</th><th scope=col>Class</th><th scope=col>Strand</th></tr>\n",
       "\t<tr><th></th><th scope=col>&lt;chr&gt;</th><th scope=col>&lt;fct&gt;</th><th scope=col>&lt;fct&gt;</th><th scope=col>&lt;fct&gt;</th><th scope=col>&lt;fct&gt;</th></tr>\n",
       "</thead>\n",
       "<tbody>\n",
       "\t<tr><th scope=row>1</th><td>ENSG00000223972</td><td>DDX11L1</td><td>1:11869-14409</td><td>transcribed_unprocessed_pseudogene</td><td>+</td></tr>\n",
       "\t<tr><th scope=row>2</th><td>ENSG00000227232</td><td>WASH7P </td><td>1:14404-29570</td><td>unprocessed_pseudogene            </td><td>-</td></tr>\n",
       "</tbody>\n",
       "</table>\n"
      ],
      "text/latex": [
       "A data.frame: 2 × 5\n",
       "\\begin{tabular}{r|lllll}\n",
       "  & gene\\_id & GeneSymbol & Chromosome & Class & Strand\\\\\n",
       "  & <chr> & <fct> & <fct> & <fct> & <fct>\\\\\n",
       "\\hline\n",
       "\t1 & ENSG00000223972 & DDX11L1 & 1:11869-14409 & transcribed\\_unprocessed\\_pseudogene & +\\\\\n",
       "\t2 & ENSG00000227232 & WASH7P  & 1:14404-29570 & unprocessed\\_pseudogene             & -\\\\\n",
       "\\end{tabular}\n"
      ],
      "text/markdown": [
       "\n",
       "A data.frame: 2 × 5\n",
       "\n",
       "| <!--/--> | gene_id &lt;chr&gt; | GeneSymbol &lt;fct&gt; | Chromosome &lt;fct&gt; | Class &lt;fct&gt; | Strand &lt;fct&gt; |\n",
       "|---|---|---|---|---|---|\n",
       "| 1 | ENSG00000223972 | DDX11L1 | 1:11869-14409 | transcribed_unprocessed_pseudogene | + |\n",
       "| 2 | ENSG00000227232 | WASH7P  | 1:14404-29570 | unprocessed_pseudogene             | - |\n",
       "\n"
      ],
      "text/plain": [
       "  gene_id         GeneSymbol Chromosome    Class                             \n",
       "1 ENSG00000223972 DDX11L1    1:11869-14409 transcribed_unprocessed_pseudogene\n",
       "2 ENSG00000227232 WASH7P     1:14404-29570 unprocessed_pseudogene            \n",
       "  Strand\n",
       "1 +     \n",
       "2 -     "
      ]
     },
     "metadata": {},
     "output_type": "display_data"
    }
   ],
   "source": [
    "# Example topTable and name\n",
    "topTable <- all_topTables[[1]]\n",
    "name     <- names( all_topTables)[1]\n",
    "topTable[[GENE_ID]]  <- gsub(\"\\\\..*\",\"\", rownames(topTable))\n",
    "name\n",
    "head(topTable,2)\n",
    "head(GTF, 2)"
   ]
  },
  {
   "cell_type": "markdown",
   "metadata": {},
   "source": [
    "## Defining the thresholds for the double criterion filtering:\n",
    "\n",
    "Criteria:\n",
    "- Adjusted p-value < `p_value_cuttoff`\n",
    "- Absolut FoldChange > `absFold_change_threshold`"
   ]
  },
  {
   "cell_type": "markdown",
   "metadata": {},
   "source": [
    "----\n",
    "\n",
    "***NOTE***\n",
    "\n",
    "Defining higher in males or females based on the limma design matrix\n",
    "As we have used 1 for encoding the females and 2 for the males, our *reference level* for the contrast in the expression between males and females is 1, the females.\n",
    "\n",
    "\n",
    "From the `limma` documentation:\n",
    ">The level which is chosen for the *reference level* is the level which is contrasted against. By default, this is simply the first level alphabetically. We can specify that we want group 2 to be the reference level by either using the relevel function [..]\n",
    "\n",
    "By convention, we could say that genes with positive log fold change, are higher in males, whereas the opposite holds true for the ones that are observed to have negative log folde change. \n",
    "\n",
    "---"
   ]
  },
  {
   "cell_type": "code",
   "execution_count": 9,
   "metadata": {},
   "outputs": [],
   "source": [
    "adj.P.Val_threshold  <- 0.5\n",
    "absFoldChange_cutoff <- 1.5"
   ]
  },
  {
   "cell_type": "markdown",
   "metadata": {},
   "source": [
    "Replacing potential `NA` values in the `P.Value`, `adj.P.Val` to keep the columns numeric and avoid coersion."
   ]
  },
  {
   "cell_type": "code",
   "execution_count": 10,
   "metadata": {},
   "outputs": [],
   "source": [
    "# replacing NA p-values with p-value = 1\n",
    "topTable$P.Value[is.na(topTable$P.Value)]     <- 1; \n",
    "topTable$adj.P.Val[is.na(topTable$adj.P.Val)] <- 1;"
   ]
  },
  {
   "cell_type": "code",
   "execution_count": 11,
   "metadata": {},
   "outputs": [],
   "source": [
    "# Add helper variable dummy `FoldChange` variable. Use 2 as base of log, because this is the default from limma\n",
    "# The following statement calculates a dummy fold change (how many times higher or lower)\n",
    "# The minus symbol is a convention symbol only! to express eg. a fold change of 0.25 as -4, 4 times lower\n",
    "topTable$FoldChange_dummy    <-   ifelse(topTable$logFC > 0, 2 ^ topTable$logFC, -1 / (2 ^ topTable$logFC))                    \n",
    "\n",
    "# Add helper variable `abs_logFC`.\n",
    "topTable$abs_logFC <- abs(topTable$logFC)\n",
    "\n",
    "# Add helper variable `abundance` for up, down, non_signif\n",
    "topTable$abundance                                                  <- \"non_signif\"\n",
    "topTable$abundance[(topTable$logFC >   log2(absFoldChange_cutoff)) & (topTable$adj.P.Val <= adj.P.Val_threshold )]   <- \"higher\"\n",
    "topTable$abundance[(topTable$logFC <  -log2(absFoldChange_cutoff)) & (topTable$adj.P.Val <= adj.P.Val_threshold )]   <- \"lower\""
   ]
  },
  {
   "cell_type": "code",
   "execution_count": 12,
   "metadata": {},
   "outputs": [
    {
     "data": {
      "text/html": [
       "<table>\n",
       "<caption>A data.frame: 6 × 10</caption>\n",
       "<thead>\n",
       "\t<tr><th></th><th scope=col>logFC</th><th scope=col>AveExpr</th><th scope=col>t</th><th scope=col>P.Value</th><th scope=col>adj.P.Val</th><th scope=col>B</th><th scope=col>gene_id</th><th scope=col>FoldChange_dummy</th><th scope=col>abs_logFC</th><th scope=col>abundance</th></tr>\n",
       "\t<tr><th></th><th scope=col>&lt;dbl&gt;</th><th scope=col>&lt;dbl&gt;</th><th scope=col>&lt;dbl&gt;</th><th scope=col>&lt;dbl&gt;</th><th scope=col>&lt;dbl&gt;</th><th scope=col>&lt;dbl&gt;</th><th scope=col>&lt;chr&gt;</th><th scope=col>&lt;dbl&gt;</th><th scope=col>&lt;dbl&gt;</th><th scope=col>&lt;chr&gt;</th></tr>\n",
       "</thead>\n",
       "<tbody>\n",
       "\t<tr><th scope=row>ENSG00000129824.15</th><td>-9.668735</td><td> 4.6438444</td><td>-145.54037</td><td>0</td><td>0</td><td>1136.0576</td><td>ENSG00000129824</td><td>-813.9156</td><td>9.668735</td><td>lower </td></tr>\n",
       "\t<tr><th scope=row>ENSG00000229807.10</th><td> 9.907847</td><td> 1.2461171</td><td> 131.36798</td><td>0</td><td>0</td><td>1079.0402</td><td>ENSG00000229807</td><td> 960.6365</td><td>9.907847</td><td>higher</td></tr>\n",
       "\t<tr><th scope=row>ENSG00000067048.16</th><td>-9.698380</td><td> 3.7021122</td><td>-108.38685</td><td>0</td><td>0</td><td> 952.4945</td><td>ENSG00000067048</td><td>-830.8129</td><td>9.698380</td><td>lower </td></tr>\n",
       "\t<tr><th scope=row>ENSG00000176728.7</th><td>-8.082798</td><td>-0.9202562</td><td>-105.59458</td><td>0</td><td>0</td><td> 922.2647</td><td>ENSG00000176728</td><td>-271.1219</td><td>8.082798</td><td>lower </td></tr>\n",
       "\t<tr><th scope=row>ENSG00000012817.15</th><td>-9.608969</td><td> 3.4369019</td><td>-101.87186</td><td>0</td><td>0</td><td> 914.3474</td><td>ENSG00000012817</td><td>-780.8863</td><td>9.608969</td><td>lower </td></tr>\n",
       "\t<tr><th scope=row>ENSG00000198692.9</th><td>-9.013909</td><td> 1.3461188</td><td> -90.30504</td><td>0</td><td>0</td><td> 835.7359</td><td>ENSG00000198692</td><td>-516.9601</td><td>9.013909</td><td>lower </td></tr>\n",
       "</tbody>\n",
       "</table>\n"
      ],
      "text/latex": [
       "A data.frame: 6 × 10\n",
       "\\begin{tabular}{r|llllllllll}\n",
       "  & logFC & AveExpr & t & P.Value & adj.P.Val & B & gene\\_id & FoldChange\\_dummy & abs\\_logFC & abundance\\\\\n",
       "  & <dbl> & <dbl> & <dbl> & <dbl> & <dbl> & <dbl> & <chr> & <dbl> & <dbl> & <chr>\\\\\n",
       "\\hline\n",
       "\tENSG00000129824.15 & -9.668735 &  4.6438444 & -145.54037 & 0 & 0 & 1136.0576 & ENSG00000129824 & -813.9156 & 9.668735 & lower \\\\\n",
       "\tENSG00000229807.10 &  9.907847 &  1.2461171 &  131.36798 & 0 & 0 & 1079.0402 & ENSG00000229807 &  960.6365 & 9.907847 & higher\\\\\n",
       "\tENSG00000067048.16 & -9.698380 &  3.7021122 & -108.38685 & 0 & 0 &  952.4945 & ENSG00000067048 & -830.8129 & 9.698380 & lower \\\\\n",
       "\tENSG00000176728.7 & -8.082798 & -0.9202562 & -105.59458 & 0 & 0 &  922.2647 & ENSG00000176728 & -271.1219 & 8.082798 & lower \\\\\n",
       "\tENSG00000012817.15 & -9.608969 &  3.4369019 & -101.87186 & 0 & 0 &  914.3474 & ENSG00000012817 & -780.8863 & 9.608969 & lower \\\\\n",
       "\tENSG00000198692.9 & -9.013909 &  1.3461188 &  -90.30504 & 0 & 0 &  835.7359 & ENSG00000198692 & -516.9601 & 9.013909 & lower \\\\\n",
       "\\end{tabular}\n"
      ],
      "text/markdown": [
       "\n",
       "A data.frame: 6 × 10\n",
       "\n",
       "| <!--/--> | logFC &lt;dbl&gt; | AveExpr &lt;dbl&gt; | t &lt;dbl&gt; | P.Value &lt;dbl&gt; | adj.P.Val &lt;dbl&gt; | B &lt;dbl&gt; | gene_id &lt;chr&gt; | FoldChange_dummy &lt;dbl&gt; | abs_logFC &lt;dbl&gt; | abundance &lt;chr&gt; |\n",
       "|---|---|---|---|---|---|---|---|---|---|---|\n",
       "| ENSG00000129824.15 | -9.668735 |  4.6438444 | -145.54037 | 0 | 0 | 1136.0576 | ENSG00000129824 | -813.9156 | 9.668735 | lower  |\n",
       "| ENSG00000229807.10 |  9.907847 |  1.2461171 |  131.36798 | 0 | 0 | 1079.0402 | ENSG00000229807 |  960.6365 | 9.907847 | higher |\n",
       "| ENSG00000067048.16 | -9.698380 |  3.7021122 | -108.38685 | 0 | 0 |  952.4945 | ENSG00000067048 | -830.8129 | 9.698380 | lower  |\n",
       "| ENSG00000176728.7 | -8.082798 | -0.9202562 | -105.59458 | 0 | 0 |  922.2647 | ENSG00000176728 | -271.1219 | 8.082798 | lower  |\n",
       "| ENSG00000012817.15 | -9.608969 |  3.4369019 | -101.87186 | 0 | 0 |  914.3474 | ENSG00000012817 | -780.8863 | 9.608969 | lower  |\n",
       "| ENSG00000198692.9 | -9.013909 |  1.3461188 |  -90.30504 | 0 | 0 |  835.7359 | ENSG00000198692 | -516.9601 | 9.013909 | lower  |\n",
       "\n"
      ],
      "text/plain": [
       "                   logFC     AveExpr    t          P.Value adj.P.Val B        \n",
       "ENSG00000129824.15 -9.668735  4.6438444 -145.54037 0       0         1136.0576\n",
       "ENSG00000229807.10  9.907847  1.2461171  131.36798 0       0         1079.0402\n",
       "ENSG00000067048.16 -9.698380  3.7021122 -108.38685 0       0          952.4945\n",
       "ENSG00000176728.7  -8.082798 -0.9202562 -105.59458 0       0          922.2647\n",
       "ENSG00000012817.15 -9.608969  3.4369019 -101.87186 0       0          914.3474\n",
       "ENSG00000198692.9  -9.013909  1.3461188  -90.30504 0       0          835.7359\n",
       "                   gene_id         FoldChange_dummy abs_logFC abundance\n",
       "ENSG00000129824.15 ENSG00000129824 -813.9156        9.668735  lower    \n",
       "ENSG00000229807.10 ENSG00000229807  960.6365        9.907847  higher   \n",
       "ENSG00000067048.16 ENSG00000067048 -830.8129        9.698380  lower    \n",
       "ENSG00000176728.7  ENSG00000176728 -271.1219        8.082798  lower    \n",
       "ENSG00000012817.15 ENSG00000012817 -780.8863        9.608969  lower    \n",
       "ENSG00000198692.9  ENSG00000198692 -516.9601        9.013909  lower    "
      ]
     },
     "metadata": {},
     "output_type": "display_data"
    }
   ],
   "source": [
    "head(topTable)"
   ]
  },
  {
   "cell_type": "markdown",
   "metadata": {},
   "source": [
    "# Define a vector with the columns to keep in the annotated from GTF `topTable` object"
   ]
  },
  {
   "cell_type": "code",
   "execution_count": 13,
   "metadata": {},
   "outputs": [],
   "source": [
    "toKeep <- c(\"Geneid\",\"logFC\",\"FoldChange_dummy\", \"adj.P.Val\", \"abundance\")"
   ]
  },
  {
   "cell_type": "code",
   "execution_count": 14,
   "metadata": {},
   "outputs": [
    {
     "data": {
      "text/html": [
       "<table>\n",
       "<caption>A data.frame: 2 × 4</caption>\n",
       "<thead>\n",
       "\t<tr><th></th><th scope=col>logFC</th><th scope=col>adj.P.Val</th><th scope=col>FoldChange_dummy</th><th scope=col>abundance</th></tr>\n",
       "\t<tr><th></th><th scope=col>&lt;dbl&gt;</th><th scope=col>&lt;dbl&gt;</th><th scope=col>&lt;dbl&gt;</th><th scope=col>&lt;chr&gt;</th></tr>\n",
       "</thead>\n",
       "<tbody>\n",
       "\t<tr><th scope=row>ENSG00000129824.15</th><td>-9.668735</td><td>0</td><td>-813.9156</td><td>lower </td></tr>\n",
       "\t<tr><th scope=row>ENSG00000229807.10</th><td> 9.907847</td><td>0</td><td> 960.6365</td><td>higher</td></tr>\n",
       "</tbody>\n",
       "</table>\n"
      ],
      "text/latex": [
       "A data.frame: 2 × 4\n",
       "\\begin{tabular}{r|llll}\n",
       "  & logFC & adj.P.Val & FoldChange\\_dummy & abundance\\\\\n",
       "  & <dbl> & <dbl> & <dbl> & <chr>\\\\\n",
       "\\hline\n",
       "\tENSG00000129824.15 & -9.668735 & 0 & -813.9156 & lower \\\\\n",
       "\tENSG00000229807.10 &  9.907847 & 0 &  960.6365 & higher\\\\\n",
       "\\end{tabular}\n"
      ],
      "text/markdown": [
       "\n",
       "A data.frame: 2 × 4\n",
       "\n",
       "| <!--/--> | logFC &lt;dbl&gt; | adj.P.Val &lt;dbl&gt; | FoldChange_dummy &lt;dbl&gt; | abundance &lt;chr&gt; |\n",
       "|---|---|---|---|---|\n",
       "| ENSG00000129824.15 | -9.668735 | 0 | -813.9156 | lower  |\n",
       "| ENSG00000229807.10 |  9.907847 | 0 |  960.6365 | higher |\n",
       "\n"
      ],
      "text/plain": [
       "                   logFC     adj.P.Val FoldChange_dummy abundance\n",
       "ENSG00000129824.15 -9.668735 0         -813.9156        lower    \n",
       "ENSG00000229807.10  9.907847 0          960.6365        higher   "
      ]
     },
     "metadata": {},
     "output_type": "display_data"
    }
   ],
   "source": [
    "head(topTable[ , colnames(topTable) %in% toKeep ],2)"
   ]
  },
  {
   "cell_type": "code",
   "execution_count": 15,
   "metadata": {},
   "outputs": [
    {
     "data": {
      "text/html": [
       "'Adipose-Subcutaneous'"
      ],
      "text/latex": [
       "'Adipose-Subcutaneous'"
      ],
      "text/markdown": [
       "'Adipose-Subcutaneous'"
      ],
      "text/plain": [
       "[1] \"Adipose-Subcutaneous\""
      ]
     },
     "metadata": {},
     "output_type": "display_data"
    },
    {
     "data": {
      "text/html": [
       "<style>\n",
       ".list-inline {list-style: none; margin:0; padding: 0}\n",
       ".list-inline>li {display: inline-block}\n",
       ".list-inline>li:not(:last-child)::after {content: \"\\00b7\"; padding: 0 .5ex}\n",
       "</style>\n",
       "<ol class=list-inline><li>15895</li><li>10</li></ol>\n"
      ],
      "text/latex": [
       "\\begin{enumerate*}\n",
       "\\item 15895\n",
       "\\item 10\n",
       "\\end{enumerate*}\n"
      ],
      "text/markdown": [
       "1. 15895\n",
       "2. 10\n",
       "\n",
       "\n"
      ],
      "text/plain": [
       "[1] 15895    10"
      ]
     },
     "metadata": {},
     "output_type": "display_data"
    },
    {
     "data": {
      "text/html": [
       "<style>\n",
       ".list-inline {list-style: none; margin:0; padding: 0}\n",
       ".list-inline>li {display: inline-block}\n",
       ".list-inline>li:not(:last-child)::after {content: \"\\00b7\"; padding: 0 .5ex}\n",
       "</style>\n",
       "<ol class=list-inline><li>275</li><li>10</li></ol>\n"
      ],
      "text/latex": [
       "\\begin{enumerate*}\n",
       "\\item 275\n",
       "\\item 10\n",
       "\\end{enumerate*}\n"
      ],
      "text/markdown": [
       "1. 275\n",
       "2. 10\n",
       "\n",
       "\n"
      ],
      "text/plain": [
       "[1] 275  10"
      ]
     },
     "metadata": {},
     "output_type": "display_data"
    },
    {
     "data": {
      "text/html": [
       "<style>\n",
       ".list-inline {list-style: none; margin:0; padding: 0}\n",
       ".list-inline>li {display: inline-block}\n",
       ".list-inline>li:not(:last-child)::after {content: \"\\00b7\"; padding: 0 .5ex}\n",
       "</style>\n",
       "<ol class=list-inline><li>275</li><li>10</li></ol>\n"
      ],
      "text/latex": [
       "\\begin{enumerate*}\n",
       "\\item 275\n",
       "\\item 10\n",
       "\\end{enumerate*}\n"
      ],
      "text/markdown": [
       "1. 275\n",
       "2. 10\n",
       "\n",
       "\n"
      ],
      "text/plain": [
       "[1] 275  10"
      ]
     },
     "metadata": {},
     "output_type": "display_data"
    }
   ],
   "source": [
    "name\n",
    "dim(topTable)\n",
    "dim(topTable [topTable$abundance != \"non_signif\",  ])\n",
    "dim(topTable [ (topTable$abundance != \"non_signif\" )  & (topTable$adj.P.Val <= adj.P.Val_threshold ) ,  ])"
   ]
  },
  {
   "cell_type": "code",
   "execution_count": 16,
   "metadata": {},
   "outputs": [
    {
     "data": {
      "text/plain": [
       "      \n",
       "       higher lower non_signif\n",
       "  [1,]     80   195      15620"
      ]
     },
     "metadata": {},
     "output_type": "display_data"
    }
   ],
   "source": [
    "expression_abundance <- t(table(topTable$abundance))\n",
    "expression_abundance"
   ]
  },
  {
   "cell_type": "code",
   "execution_count": 17,
   "metadata": {},
   "outputs": [],
   "source": [
    "expression_abundance <- t(table(topTable$abundance))\n",
    "signif <- as.data.frame.matrix(expression_abundance)"
   ]
  },
  {
   "cell_type": "code",
   "execution_count": 18,
   "metadata": {},
   "outputs": [
    {
     "data": {
      "text/html": [
       "<table>\n",
       "<caption>A data.frame: 1 × 3</caption>\n",
       "<thead>\n",
       "\t<tr><th scope=col>higher</th><th scope=col>lower</th><th scope=col>non_signif</th></tr>\n",
       "\t<tr><th scope=col>&lt;int&gt;</th><th scope=col>&lt;int&gt;</th><th scope=col>&lt;int&gt;</th></tr>\n",
       "</thead>\n",
       "<tbody>\n",
       "\t<tr><td>80</td><td>195</td><td>15620</td></tr>\n",
       "</tbody>\n",
       "</table>\n"
      ],
      "text/latex": [
       "A data.frame: 1 × 3\n",
       "\\begin{tabular}{lll}\n",
       " higher & lower & non\\_signif\\\\\n",
       " <int> & <int> & <int>\\\\\n",
       "\\hline\n",
       "\t 80 & 195 & 15620\\\\\n",
       "\\end{tabular}\n"
      ],
      "text/markdown": [
       "\n",
       "A data.frame: 1 × 3\n",
       "\n",
       "| higher &lt;int&gt; | lower &lt;int&gt; | non_signif &lt;int&gt; |\n",
       "|---|---|---|\n",
       "| 80 | 195 | 15620 |\n",
       "\n"
      ],
      "text/plain": [
       "  higher lower non_signif\n",
       "1 80     195   15620     "
      ]
     },
     "metadata": {},
     "output_type": "display_data"
    }
   ],
   "source": [
    "signif"
   ]
  },
  {
   "cell_type": "markdown",
   "metadata": {},
   "source": [
    "To avoid errors in the cases that we might have none lower or none higher, and the matrix might be missing columns we will create a template data.frame and also add the column that might be missing if lower or higher genes is equal to 0."
   ]
  },
  {
   "cell_type": "code",
   "execution_count": 19,
   "metadata": {},
   "outputs": [
    {
     "data": {
      "text/html": [
       "<table>\n",
       "<caption>A data.frame: 0 × 3</caption>\n",
       "<thead>\n",
       "\t<tr><th scope=col>higher</th><th scope=col>lower</th><th scope=col>non_signif</th></tr>\n",
       "\t<tr><th scope=col>&lt;int&gt;</th><th scope=col>&lt;int&gt;</th><th scope=col>&lt;int&gt;</th></tr>\n",
       "</thead>\n",
       "<tbody>\n",
       "</tbody>\n",
       "</table>\n"
      ],
      "text/latex": [
       "A data.frame: 0 × 3\n",
       "\\begin{tabular}{lll}\n",
       " higher & lower & non\\_signif\\\\\n",
       " <int> & <int> & <int>\\\\\n",
       "\\hline\n",
       "\\end{tabular}\n"
      ],
      "text/markdown": [
       "\n",
       "A data.frame: 0 × 3\n",
       "\n",
       "| higher &lt;int&gt; | lower &lt;int&gt; | non_signif &lt;int&gt; |\n",
       "|---|---|---|\n",
       "\n"
      ],
      "text/plain": [
       "     higher lower non_signif"
      ]
     },
     "metadata": {},
     "output_type": "display_data"
    }
   ],
   "source": [
    "signif_template <- structure(list(higher = integer(0), \n",
    "                                   lower = integer(0), \n",
    "                                   non_signif = integer(0)), \n",
    "                              row.names = integer(0), class = \"data.frame\")\n",
    "signif_template"
   ]
  },
  {
   "cell_type": "markdown",
   "metadata": {},
   "source": [
    "In the for-loop we will check if both columns `lower`, `higher` are present, if not add the column and zero count to create the expected sshape of the dataframe:\n",
    "\n",
    "```R\n",
    "signif <- as.data.frame.matrix(expression_abundance)\n",
    "if(! (\"higher\" %in% colnames(signif))) { \n",
    "    \n",
    "    signif$higher <- 0\n",
    "}\n",
    "if(! (\"lower\" %in% colnames(signif))) { \n",
    "\n",
    "    signif$lower <- 0\n",
    "}\n",
    "```"
   ]
  },
  {
   "cell_type": "markdown",
   "metadata": {},
   "source": [
    "Now we can add some more summary statistics eg percentage of genes lower, higher or non-significantly different, "
   ]
  },
  {
   "cell_type": "code",
   "execution_count": 20,
   "metadata": {},
   "outputs": [
    {
     "data": {
      "text/html": [
       "<table>\n",
       "<caption>A data.frame: 1 × 7</caption>\n",
       "<thead>\n",
       "\t<tr><th scope=col>tissue</th><th scope=col>non_signif</th><th scope=col>lower</th><th scope=col>higher</th><th scope=col>% lower</th><th scope=col>% higher</th><th scope=col>% non-signif</th></tr>\n",
       "\t<tr><th scope=col>&lt;chr&gt;</th><th scope=col>&lt;int&gt;</th><th scope=col>&lt;int&gt;</th><th scope=col>&lt;int&gt;</th><th scope=col>&lt;dbl&gt;</th><th scope=col>&lt;dbl&gt;</th><th scope=col>&lt;dbl&gt;</th></tr>\n",
       "</thead>\n",
       "<tbody>\n",
       "\t<tr><td>Adipose-Subcutaneous</td><td>15620</td><td>195</td><td>80</td><td>1.23</td><td>0.5</td><td>98.27</td></tr>\n",
       "</tbody>\n",
       "</table>\n"
      ],
      "text/latex": [
       "A data.frame: 1 × 7\n",
       "\\begin{tabular}{lllllll}\n",
       " tissue & non\\_signif & lower & higher & \\% lower & \\% higher & \\% non-signif\\\\\n",
       " <chr> & <int> & <int> & <int> & <dbl> & <dbl> & <dbl>\\\\\n",
       "\\hline\n",
       "\t Adipose-Subcutaneous & 15620 & 195 & 80 & 1.23 & 0.5 & 98.27\\\\\n",
       "\\end{tabular}\n"
      ],
      "text/markdown": [
       "\n",
       "A data.frame: 1 × 7\n",
       "\n",
       "| tissue &lt;chr&gt; | non_signif &lt;int&gt; | lower &lt;int&gt; | higher &lt;int&gt; | % lower &lt;dbl&gt; | % higher &lt;dbl&gt; | % non-signif &lt;dbl&gt; |\n",
       "|---|---|---|---|---|---|---|\n",
       "| Adipose-Subcutaneous | 15620 | 195 | 80 | 1.23 | 0.5 | 98.27 |\n",
       "\n"
      ],
      "text/plain": [
       "  tissue               non_signif lower higher % lower % higher % non-signif\n",
       "1 Adipose-Subcutaneous 15620      195   80     1.23    0.5      98.27       "
      ]
     },
     "metadata": {},
     "output_type": "display_data"
    }
   ],
   "source": [
    "signif$tissue <- name\n",
    "signif$sum    <- signif$non_signif + signif$higher + signif$lower\n",
    "toKeepInOrder <- c(\"tissue\", \"non_signif\", \"lower\", \"higher\", \"% lower\", \"% higher\", \"% non-signif\")\n",
    "signif$`% higher`     <-  round(signif$higher / signif$sum  * 100, 2)\n",
    "signif$`% lower`      <-  round(signif$lower / signif$sum  * 100, 2)\n",
    "signif$`% non-signif` <-  round(signif$non_signif / signif$sum  * 100, 2)\n",
    "signif <- signif[, toKeepInOrder]\n",
    "signif"
   ]
  },
  {
   "cell_type": "markdown",
   "metadata": {},
   "source": [
    "# Summary table of differentially expressed genes between male and female acrosss tissues\n",
    "\n",
    "Above we demonstrate for one example limma `topTable`. Let's now iterate over all tissue and create an aggregated table of counts of differentially expressed or non-significantly altered between the two sexes."
   ]
  },
  {
   "cell_type": "code",
   "execution_count": 21,
   "metadata": {},
   "outputs": [
    {
     "name": "stderr",
     "output_type": "stream",
     "text": [
      "Adipose-Subcutaneous, N features before GTF merge: 15895, after: 15895\n",
      "\n",
      "Adipose-Visceral(Omentum), N features before GTF merge: 15895, after: 15895\n",
      "\n",
      "AdrenalGland, N features before GTF merge: 15895, after: 15895\n",
      "\n",
      "Artery-Aorta, N features before GTF merge: 15895, after: 15895\n",
      "\n",
      "Artery-Coronary, N features before GTF merge: 15895, after: 15895\n",
      "\n",
      "Artery-Tibial, N features before GTF merge: 15895, after: 15895\n",
      "\n",
      "Bladder, N features before GTF merge: 15895, after: 15895\n",
      "\n",
      "Brain-Amygdala, N features before GTF merge: 15895, after: 15895\n",
      "\n",
      "Brain-Anteriorcingulatecortex(BA24), N features before GTF merge: 15895, after: 15895\n",
      "\n",
      "Brain-Caudate(basalganglia), N features before GTF merge: 15895, after: 15895\n",
      "\n",
      "Brain-CerebellarHemisphere, N features before GTF merge: 15895, after: 15895\n",
      "\n",
      "Brain-Cerebellum, N features before GTF merge: 15895, after: 15895\n",
      "\n",
      "Brain-Cortex, N features before GTF merge: 15895, after: 15895\n",
      "\n",
      "Brain-FrontalCortex(BA9), N features before GTF merge: 15895, after: 15895\n",
      "\n",
      "Brain-Hippocampus, N features before GTF merge: 15895, after: 15895\n",
      "\n",
      "Brain-Hypothalamus, N features before GTF merge: 15895, after: 15895\n",
      "\n",
      "Brain-Nucleusaccumbens(basalganglia), N features before GTF merge: 15895, after: 15895\n",
      "\n",
      "Brain-Putamen(basalganglia), N features before GTF merge: 15895, after: 15895\n",
      "\n",
      "Brain-Spinalcord(cervicalc-1), N features before GTF merge: 15895, after: 15895\n",
      "\n",
      "Brain-Substantianigra, N features before GTF merge: 15895, after: 15895\n",
      "\n",
      "Breast-MammaryTissue, N features before GTF merge: 15895, after: 15895\n",
      "\n",
      "Cells-Culturedfibroblasts, N features before GTF merge: 15895, after: 15895\n",
      "\n",
      "Cells-EBV-transformedlymphocytes, N features before GTF merge: 15895, after: 15895\n",
      "\n",
      "Colon-Sigmoid, N features before GTF merge: 15895, after: 15895\n",
      "\n",
      "Colon-Transverse, N features before GTF merge: 15895, after: 15895\n",
      "\n",
      "Esophagus-GastroesophagealJunction, N features before GTF merge: 15895, after: 15895\n",
      "\n",
      "Esophagus-Mucosa, N features before GTF merge: 15895, after: 15895\n",
      "\n",
      "Esophagus-Muscularis, N features before GTF merge: 15895, after: 15895\n",
      "\n",
      "Heart-AtrialAppendage, N features before GTF merge: 15895, after: 15895\n",
      "\n",
      "Heart-LeftVentricle, N features before GTF merge: 15895, after: 15895\n",
      "\n",
      "Kidney-Cortex, N features before GTF merge: 15895, after: 15895\n",
      "\n",
      "Kidney-Medulla, N features before GTF merge: 15895, after: 15895\n",
      "\n",
      "Liver, N features before GTF merge: 15895, after: 15895\n",
      "\n",
      "Lung, N features before GTF merge: 15895, after: 15895\n",
      "\n",
      "MinorSalivaryGland, N features before GTF merge: 15895, after: 15895\n",
      "\n",
      "Muscle-Skeletal, N features before GTF merge: 15895, after: 15895\n",
      "\n",
      "Nerve-Tibial, N features before GTF merge: 15895, after: 15895\n",
      "\n",
      "Pancreas, N features before GTF merge: 15895, after: 15895\n",
      "\n",
      "Pituitary, N features before GTF merge: 15895, after: 15895\n",
      "\n",
      "Skin-NotSunExposed(Suprapubic), N features before GTF merge: 15895, after: 15895\n",
      "\n",
      "Skin-SunExposed(Lowerleg), N features before GTF merge: 15895, after: 15895\n",
      "\n",
      "SmallIntestine-TerminalIleum, N features before GTF merge: 15895, after: 15895\n",
      "\n",
      "Spleen, N features before GTF merge: 15895, after: 15895\n",
      "\n",
      "Stomach, N features before GTF merge: 15895, after: 15895\n",
      "\n",
      "Thyroid, N features before GTF merge: 15895, after: 15895\n",
      "\n",
      "WholeBlood, N features before GTF merge: 15895, after: 15895\n",
      "\n"
     ]
    },
    {
     "data": {
      "text/html": [
       "<table>\n",
       "<caption>A data.frame: 6 × 7</caption>\n",
       "<thead>\n",
       "\t<tr><th></th><th scope=col>tissue</th><th scope=col>non_signif</th><th scope=col>lower</th><th scope=col>higher</th><th scope=col>% lower</th><th scope=col>% higher</th><th scope=col>% non-signif</th></tr>\n",
       "\t<tr><th></th><th scope=col>&lt;chr&gt;</th><th scope=col>&lt;int&gt;</th><th scope=col>&lt;dbl&gt;</th><th scope=col>&lt;int&gt;</th><th scope=col>&lt;dbl&gt;</th><th scope=col>&lt;dbl&gt;</th><th scope=col>&lt;dbl&gt;</th></tr>\n",
       "</thead>\n",
       "<tbody>\n",
       "\t<tr><th scope=row>21</th><td>Breast-MammaryTissue    </td><td>14082</td><td>682</td><td>1131</td><td>4.29</td><td>7.12</td><td>88.59</td></tr>\n",
       "\t<tr><th scope=row>35</th><td>MinorSalivaryGland      </td><td>15614</td><td> 59</td><td> 222</td><td>0.37</td><td>1.40</td><td>98.23</td></tr>\n",
       "\t<tr><th scope=row>1</th><td>Adipose-Subcutaneous    </td><td>15620</td><td>195</td><td>  80</td><td>1.23</td><td>0.50</td><td>98.27</td></tr>\n",
       "\t<tr><th scope=row>39</th><td>Pituitary               </td><td>15676</td><td>193</td><td>  26</td><td>1.21</td><td>0.16</td><td>98.62</td></tr>\n",
       "\t<tr><th scope=row>14</th><td>Brain-FrontalCortex(BA9)</td><td>15702</td><td> 21</td><td> 172</td><td>0.13</td><td>1.08</td><td>98.79</td></tr>\n",
       "\t<tr><th scope=row>33</th><td>Liver                   </td><td>15736</td><td>107</td><td>  52</td><td>0.67</td><td>0.33</td><td>99.00</td></tr>\n",
       "</tbody>\n",
       "</table>\n"
      ],
      "text/latex": [
       "A data.frame: 6 × 7\n",
       "\\begin{tabular}{r|lllllll}\n",
       "  & tissue & non\\_signif & lower & higher & \\% lower & \\% higher & \\% non-signif\\\\\n",
       "  & <chr> & <int> & <dbl> & <int> & <dbl> & <dbl> & <dbl>\\\\\n",
       "\\hline\n",
       "\t21 & Breast-MammaryTissue     & 14082 & 682 & 1131 & 4.29 & 7.12 & 88.59\\\\\n",
       "\t35 & MinorSalivaryGland       & 15614 &  59 &  222 & 0.37 & 1.40 & 98.23\\\\\n",
       "\t1 & Adipose-Subcutaneous     & 15620 & 195 &   80 & 1.23 & 0.50 & 98.27\\\\\n",
       "\t39 & Pituitary                & 15676 & 193 &   26 & 1.21 & 0.16 & 98.62\\\\\n",
       "\t14 & Brain-FrontalCortex(BA9) & 15702 &  21 &  172 & 0.13 & 1.08 & 98.79\\\\\n",
       "\t33 & Liver                    & 15736 & 107 &   52 & 0.67 & 0.33 & 99.00\\\\\n",
       "\\end{tabular}\n"
      ],
      "text/markdown": [
       "\n",
       "A data.frame: 6 × 7\n",
       "\n",
       "| <!--/--> | tissue &lt;chr&gt; | non_signif &lt;int&gt; | lower &lt;dbl&gt; | higher &lt;int&gt; | % lower &lt;dbl&gt; | % higher &lt;dbl&gt; | % non-signif &lt;dbl&gt; |\n",
       "|---|---|---|---|---|---|---|---|\n",
       "| 21 | Breast-MammaryTissue     | 14082 | 682 | 1131 | 4.29 | 7.12 | 88.59 |\n",
       "| 35 | MinorSalivaryGland       | 15614 |  59 |  222 | 0.37 | 1.40 | 98.23 |\n",
       "| 1 | Adipose-Subcutaneous     | 15620 | 195 |   80 | 1.23 | 0.50 | 98.27 |\n",
       "| 39 | Pituitary                | 15676 | 193 |   26 | 1.21 | 0.16 | 98.62 |\n",
       "| 14 | Brain-FrontalCortex(BA9) | 15702 |  21 |  172 | 0.13 | 1.08 | 98.79 |\n",
       "| 33 | Liver                    | 15736 | 107 |   52 | 0.67 | 0.33 | 99.00 |\n",
       "\n"
      ],
      "text/plain": [
       "   tissue                   non_signif lower higher % lower % higher\n",
       "21 Breast-MammaryTissue     14082      682   1131   4.29    7.12    \n",
       "35 MinorSalivaryGland       15614       59    222   0.37    1.40    \n",
       "1  Adipose-Subcutaneous     15620      195     80   1.23    0.50    \n",
       "39 Pituitary                15676      193     26   1.21    0.16    \n",
       "14 Brain-FrontalCortex(BA9) 15702       21    172   0.13    1.08    \n",
       "33 Liver                    15736      107     52   0.67    0.33    \n",
       "   % non-signif\n",
       "21 88.59       \n",
       "35 98.23       \n",
       "1  98.27       \n",
       "39 98.62       \n",
       "14 98.79       \n",
       "33 99.00       "
      ]
     },
     "metadata": {},
     "output_type": "display_data"
    },
    {
     "data": {
      "text/html": [
       "<table>\n",
       "<caption>A data.frame: 6 × 16</caption>\n",
       "<thead>\n",
       "\t<tr><th></th><th scope=col>logFC</th><th scope=col>AveExpr</th><th scope=col>t</th><th scope=col>P.Value</th><th scope=col>adj.P.Val</th><th scope=col>B</th><th scope=col>initial_gene_id</th><th scope=col>gene_id</th><th scope=col>abs_logFC</th><th scope=col>FoldChange_dummy</th><th scope=col>abundance</th><th scope=col>GeneSymbol</th><th scope=col>Chromosome</th><th scope=col>Class</th><th scope=col>Strand</th><th scope=col>tissue</th></tr>\n",
       "\t<tr><th></th><th scope=col>&lt;dbl&gt;</th><th scope=col>&lt;dbl&gt;</th><th scope=col>&lt;dbl&gt;</th><th scope=col>&lt;dbl&gt;</th><th scope=col>&lt;dbl&gt;</th><th scope=col>&lt;dbl&gt;</th><th scope=col>&lt;chr&gt;</th><th scope=col>&lt;chr&gt;</th><th scope=col>&lt;dbl&gt;</th><th scope=col>&lt;dbl&gt;</th><th scope=col>&lt;chr&gt;</th><th scope=col>&lt;fct&gt;</th><th scope=col>&lt;fct&gt;</th><th scope=col>&lt;fct&gt;</th><th scope=col>&lt;fct&gt;</th><th scope=col>&lt;chr&gt;</th></tr>\n",
       "</thead>\n",
       "<tbody>\n",
       "\t<tr><th scope=row>1</th><td>-9.668735</td><td> 4.6438444</td><td>-145.54037</td><td>0</td><td>0</td><td>1136.0576</td><td>ENSG00000129824.15</td><td>ENSG00000129824</td><td>9.668735</td><td>-813.9156</td><td>lower </td><td>RPS4Y1</td><td>Y:2841602-2932000  </td><td>protein_coding</td><td>+</td><td>Adipose-Subcutaneous</td></tr>\n",
       "\t<tr><th scope=row>2</th><td> 9.907847</td><td> 1.2461171</td><td> 131.36798</td><td>0</td><td>0</td><td>1079.0402</td><td>ENSG00000229807.10</td><td>ENSG00000229807</td><td>9.907847</td><td> 960.6365</td><td>higher</td><td>XIST  </td><td>X:73820649-73852723</td><td>lncRNA        </td><td>-</td><td>Adipose-Subcutaneous</td></tr>\n",
       "\t<tr><th scope=row>3</th><td>-9.698380</td><td> 3.7021122</td><td>-108.38685</td><td>0</td><td>0</td><td> 952.4945</td><td>ENSG00000067048.16</td><td>ENSG00000067048</td><td>9.698380</td><td>-830.8129</td><td>lower </td><td>DDX3Y </td><td>Y:12904108-12920478</td><td>protein_coding</td><td>+</td><td>Adipose-Subcutaneous</td></tr>\n",
       "\t<tr><th scope=row>4</th><td>-8.082798</td><td>-0.9202562</td><td>-105.59458</td><td>0</td><td>0</td><td> 922.2647</td><td>ENSG00000176728.7 </td><td>ENSG00000176728</td><td>8.082798</td><td>-271.1219</td><td>lower </td><td>TTTY14</td><td>Y:18772706-19077563</td><td>lncRNA        </td><td>-</td><td>Adipose-Subcutaneous</td></tr>\n",
       "\t<tr><th scope=row>5</th><td>-9.608969</td><td> 3.4369019</td><td>-101.87186</td><td>0</td><td>0</td><td> 914.3474</td><td>ENSG00000012817.15</td><td>ENSG00000012817</td><td>9.608969</td><td>-780.8863</td><td>lower </td><td>KDM5D </td><td>Y:19703865-19744939</td><td>protein_coding</td><td>-</td><td>Adipose-Subcutaneous</td></tr>\n",
       "\t<tr><th scope=row>6</th><td>-9.013909</td><td> 1.3461188</td><td> -90.30504</td><td>0</td><td>0</td><td> 835.7359</td><td>ENSG00000198692.9 </td><td>ENSG00000198692</td><td>9.013909</td><td>-516.9601</td><td>lower </td><td>EIF1AY</td><td>Y:20575776-20593154</td><td>protein_coding</td><td>+</td><td>Adipose-Subcutaneous</td></tr>\n",
       "</tbody>\n",
       "</table>\n"
      ],
      "text/latex": [
       "A data.frame: 6 × 16\n",
       "\\begin{tabular}{r|llllllllllllllll}\n",
       "  & logFC & AveExpr & t & P.Value & adj.P.Val & B & initial\\_gene\\_id & gene\\_id & abs\\_logFC & FoldChange\\_dummy & abundance & GeneSymbol & Chromosome & Class & Strand & tissue\\\\\n",
       "  & <dbl> & <dbl> & <dbl> & <dbl> & <dbl> & <dbl> & <chr> & <chr> & <dbl> & <dbl> & <chr> & <fct> & <fct> & <fct> & <fct> & <chr>\\\\\n",
       "\\hline\n",
       "\t1 & -9.668735 &  4.6438444 & -145.54037 & 0 & 0 & 1136.0576 & ENSG00000129824.15 & ENSG00000129824 & 9.668735 & -813.9156 & lower  & RPS4Y1 & Y:2841602-2932000   & protein\\_coding & + & Adipose-Subcutaneous\\\\\n",
       "\t2 &  9.907847 &  1.2461171 &  131.36798 & 0 & 0 & 1079.0402 & ENSG00000229807.10 & ENSG00000229807 & 9.907847 &  960.6365 & higher & XIST   & X:73820649-73852723 & lncRNA         & - & Adipose-Subcutaneous\\\\\n",
       "\t3 & -9.698380 &  3.7021122 & -108.38685 & 0 & 0 &  952.4945 & ENSG00000067048.16 & ENSG00000067048 & 9.698380 & -830.8129 & lower  & DDX3Y  & Y:12904108-12920478 & protein\\_coding & + & Adipose-Subcutaneous\\\\\n",
       "\t4 & -8.082798 & -0.9202562 & -105.59458 & 0 & 0 &  922.2647 & ENSG00000176728.7  & ENSG00000176728 & 8.082798 & -271.1219 & lower  & TTTY14 & Y:18772706-19077563 & lncRNA         & - & Adipose-Subcutaneous\\\\\n",
       "\t5 & -9.608969 &  3.4369019 & -101.87186 & 0 & 0 &  914.3474 & ENSG00000012817.15 & ENSG00000012817 & 9.608969 & -780.8863 & lower  & KDM5D  & Y:19703865-19744939 & protein\\_coding & - & Adipose-Subcutaneous\\\\\n",
       "\t6 & -9.013909 &  1.3461188 &  -90.30504 & 0 & 0 &  835.7359 & ENSG00000198692.9  & ENSG00000198692 & 9.013909 & -516.9601 & lower  & EIF1AY & Y:20575776-20593154 & protein\\_coding & + & Adipose-Subcutaneous\\\\\n",
       "\\end{tabular}\n"
      ],
      "text/markdown": [
       "\n",
       "A data.frame: 6 × 16\n",
       "\n",
       "| <!--/--> | logFC &lt;dbl&gt; | AveExpr &lt;dbl&gt; | t &lt;dbl&gt; | P.Value &lt;dbl&gt; | adj.P.Val &lt;dbl&gt; | B &lt;dbl&gt; | initial_gene_id &lt;chr&gt; | gene_id &lt;chr&gt; | abs_logFC &lt;dbl&gt; | FoldChange_dummy &lt;dbl&gt; | abundance &lt;chr&gt; | GeneSymbol &lt;fct&gt; | Chromosome &lt;fct&gt; | Class &lt;fct&gt; | Strand &lt;fct&gt; | tissue &lt;chr&gt; |\n",
       "|---|---|---|---|---|---|---|---|---|---|---|---|---|---|---|---|---|\n",
       "| 1 | -9.668735 |  4.6438444 | -145.54037 | 0 | 0 | 1136.0576 | ENSG00000129824.15 | ENSG00000129824 | 9.668735 | -813.9156 | lower  | RPS4Y1 | Y:2841602-2932000   | protein_coding | + | Adipose-Subcutaneous |\n",
       "| 2 |  9.907847 |  1.2461171 |  131.36798 | 0 | 0 | 1079.0402 | ENSG00000229807.10 | ENSG00000229807 | 9.907847 |  960.6365 | higher | XIST   | X:73820649-73852723 | lncRNA         | - | Adipose-Subcutaneous |\n",
       "| 3 | -9.698380 |  3.7021122 | -108.38685 | 0 | 0 |  952.4945 | ENSG00000067048.16 | ENSG00000067048 | 9.698380 | -830.8129 | lower  | DDX3Y  | Y:12904108-12920478 | protein_coding | + | Adipose-Subcutaneous |\n",
       "| 4 | -8.082798 | -0.9202562 | -105.59458 | 0 | 0 |  922.2647 | ENSG00000176728.7  | ENSG00000176728 | 8.082798 | -271.1219 | lower  | TTTY14 | Y:18772706-19077563 | lncRNA         | - | Adipose-Subcutaneous |\n",
       "| 5 | -9.608969 |  3.4369019 | -101.87186 | 0 | 0 |  914.3474 | ENSG00000012817.15 | ENSG00000012817 | 9.608969 | -780.8863 | lower  | KDM5D  | Y:19703865-19744939 | protein_coding | - | Adipose-Subcutaneous |\n",
       "| 6 | -9.013909 |  1.3461188 |  -90.30504 | 0 | 0 |  835.7359 | ENSG00000198692.9  | ENSG00000198692 | 9.013909 | -516.9601 | lower  | EIF1AY | Y:20575776-20593154 | protein_coding | + | Adipose-Subcutaneous |\n",
       "\n"
      ],
      "text/plain": [
       "  logFC     AveExpr    t          P.Value adj.P.Val B        \n",
       "1 -9.668735  4.6438444 -145.54037 0       0         1136.0576\n",
       "2  9.907847  1.2461171  131.36798 0       0         1079.0402\n",
       "3 -9.698380  3.7021122 -108.38685 0       0          952.4945\n",
       "4 -8.082798 -0.9202562 -105.59458 0       0          922.2647\n",
       "5 -9.608969  3.4369019 -101.87186 0       0          914.3474\n",
       "6 -9.013909  1.3461188  -90.30504 0       0          835.7359\n",
       "  initial_gene_id    gene_id         abs_logFC FoldChange_dummy abundance\n",
       "1 ENSG00000129824.15 ENSG00000129824 9.668735  -813.9156        lower    \n",
       "2 ENSG00000229807.10 ENSG00000229807 9.907847   960.6365        higher   \n",
       "3 ENSG00000067048.16 ENSG00000067048 9.698380  -830.8129        lower    \n",
       "4 ENSG00000176728.7  ENSG00000176728 8.082798  -271.1219        lower    \n",
       "5 ENSG00000012817.15 ENSG00000012817 9.608969  -780.8863        lower    \n",
       "6 ENSG00000198692.9  ENSG00000198692 9.013909  -516.9601        lower    \n",
       "  GeneSymbol Chromosome          Class          Strand tissue              \n",
       "1 RPS4Y1     Y:2841602-2932000   protein_coding +      Adipose-Subcutaneous\n",
       "2 XIST       X:73820649-73852723 lncRNA         -      Adipose-Subcutaneous\n",
       "3 DDX3Y      Y:12904108-12920478 protein_coding +      Adipose-Subcutaneous\n",
       "4 TTTY14     Y:18772706-19077563 lncRNA         -      Adipose-Subcutaneous\n",
       "5 KDM5D      Y:19703865-19744939 protein_coding -      Adipose-Subcutaneous\n",
       "6 EIF1AY     Y:20575776-20593154 protein_coding +      Adipose-Subcutaneous"
      ]
     },
     "metadata": {},
     "output_type": "display_data"
    }
   ],
   "source": [
    "summary_signif <-structure(list(tissue = character(0), \n",
    "                            non_signif = integer(0), \n",
    "                            lower = integer(0),\n",
    "                            higher = integer(0),\n",
    "                            `% lower` = numeric(0), \n",
    "                            `% higher` = numeric(0), \n",
    "                            `% non-signif` = numeric(0)), \n",
    "                       row.names = integer(0), \n",
    "                       class = \"data.frame\")\n",
    "\n",
    "signif_template <- structure(list(higher = integer(0), \n",
    "                                   lower = integer(0), \n",
    "                                   non_signif = integer(0)), \n",
    "                              row.names = integer(0), class = \"data.frame\")\n",
    "\n",
    "signif_per_tissue <- structure(list(logFC = numeric(0), AveExpr = numeric(0), t = numeric(0), \n",
    "                        P.Value = numeric(0), adj.P.Val = numeric(0), B = numeric(0), \n",
    "                        initial_gene_id = character(0), gene_id = character(0), abs_logFC = numeric(0), \n",
    "                        FoldChange_dummy = numeric(0), abundance = character(0), \n",
    "                        GeneSymbol = character(0), Chromosome = character(0), Class = character(0), \n",
    "                        Strand = character(0), tissue = character(0)), row.names = integer(0), class = \"data.frame\")\n",
    "\n",
    "\n",
    "for (i in seq_along(all_topTables)){\n",
    "    topTable <- all_topTables[[i]]\n",
    "    name     <- names(all_topTables)[i] \n",
    "    initial_gene_id <- paste0(\"initial_\", GENE_ID)\n",
    "    topTable[[initial_gene_id]] <- rownames(topTable)\n",
    "    topTable[[GENE_ID]]  <- gsub(\"\\\\..*\",\"\", rownames(topTable))\n",
    "    # replacing NA p-values with p-value = 1\n",
    "    topTable$P.Value[is.na(topTable$P.Value)]     <- 1; \n",
    "    topTable$adj.P.Val[is.na(topTable$adj.P.Val)] <- 1;\n",
    "    topTable$abs_logFC <- abs(topTable$logFC)\n",
    "    # Add helper variable dummy `FoldChange` variable. Use 2 as base of log, because this is the default from limma\n",
    "    # The following statement calculates a dummy fold change (how many times higher or lower)\n",
    "    # The minus symbol is a convention symbol only! to express eg. a fold change of 0.25 as -4, 4 times lower\n",
    "    topTable$FoldChange_dummy    <-   ifelse(topTable$logFC > 0, 2 ^ topTable$logFC, -1 / (2 ^ topTable$logFC))                    \n",
    "\n",
    "    # Add helper variable `abs_logFC`.\n",
    "    topTable$abs_logFC <- abs(topTable$logFC)\n",
    "\n",
    "    # Add helper variable `abundance` for up, down, non_signif\n",
    "    topTable$abundance                                                  <- \"non_signif\"\n",
    "    topTable$abundance[(topTable$logFC >   log2(absFoldChange_cutoff)) & (topTable$adj.P.Val <= adj.P.Val_threshold )]   <- \"higher\"\n",
    "    topTable$abundance[(topTable$logFC <  -log2(absFoldChange_cutoff)) & (topTable$adj.P.Val <= adj.P.Val_threshold )]   <- \"lower\"\n",
    "    before_gtf_merge <- dim(topTable)[1]\n",
    "    topTable <- dplyr::left_join(topTable, GTF, by = GENE_ID)\n",
    "    topTable_signif <- topTable[ topTable$abundance != \"non_signif\", ]\n",
    "    topTable_signif$tissue <- name\n",
    "    signif_per_tissue <- rbind(signif_per_tissue, topTable_signif )\n",
    "    data.table::fwrite(file = paste0(\"../data/signif_\", snakecase::to_snake_case(name), \".csv\"), topTable_signif)\n",
    "    after_gtf_merge <- dim(topTable)[1]\n",
    "    message( name, \", N features before GTF merge: \",before_gtf_merge, \", after: \", after_gtf_merge)\n",
    "    expression_abundance <- t(table(topTable$abundance))\n",
    "    signif <- as.data.frame.matrix(expression_abundance)\n",
    "    if(! (\"higher\" %in% colnames(signif))) {\n",
    "        signif$higher <- 0\n",
    "    }\n",
    "    if(! (\"lower\" %in% colnames(signif))) {\n",
    "        signif$lower <- 0\n",
    "    }\n",
    "    signif$tissue <- name\n",
    "    signif$sum    <-   signif$non_signif + signif$higher + signif$lower\n",
    "    toKeepInOrder <- c(\"tissue\", \"non_signif\", \"lower\", \"higher\", \"% lower\", \"% higher\", \"% non-signif\")\n",
    "    signif$`% higher`     <-  round(signif$higher / signif$sum  * 100, 2)\n",
    "    signif$`% lower`      <-  round(signif$lower / signif$sum  * 100, 2)\n",
    "    signif$`% non-signif` <-  round(signif$non_signif / signif$sum  * 100, 2)\n",
    "    signif <- signif[, toKeepInOrder]\n",
    "    summary_signif <- rbind(summary_signif, signif)   \n",
    "}\n",
    "\n",
    "summary_signif <- summary_signif[order(summary_signif$`% non-signif`), ]\n",
    "head(summary_signif)\n",
    "head(signif_per_tissue)"
   ]
  },
  {
   "cell_type": "markdown",
   "metadata": {},
   "source": [
    "# Defining higher in males or females based on the limma design matrix\n",
    "As we have used 1 for encoding the males and 2 for the females, our *reference level* for the contrast in the expression between males and females is 1, the males.\n",
    "\n",
    "\n",
    "From the `limma` documentation:\n",
    ">The level which is chosen for the *reference level* is the level which is contrasted against. By default, this is simply the first level alphabetically. We can specify that we want group 2 to be the reference level by either using the relevel function [..]\n",
    "\n",
    "By convention, we could say that genes with positive log fold change, are higher in females, whereas the opposite holds true for the ones that are observed to have negative log folde change. "
   ]
  },
  {
   "cell_type": "code",
   "execution_count": 22,
   "metadata": {},
   "outputs": [
    {
     "data": {
      "text/html": [
       "<table>\n",
       "<caption>A data.frame: 1 × 9</caption>\n",
       "<thead>\n",
       "\t<tr><th></th><th scope=col>tissue</th><th scope=col>non_signif</th><th scope=col>lower</th><th scope=col>higher</th><th scope=col>% lower</th><th scope=col>% higher</th><th scope=col>% non-signif</th><th scope=col>higher in males</th><th scope=col>higher in females</th></tr>\n",
       "\t<tr><th></th><th scope=col>&lt;chr&gt;</th><th scope=col>&lt;int&gt;</th><th scope=col>&lt;dbl&gt;</th><th scope=col>&lt;int&gt;</th><th scope=col>&lt;dbl&gt;</th><th scope=col>&lt;dbl&gt;</th><th scope=col>&lt;dbl&gt;</th><th scope=col>&lt;dbl&gt;</th><th scope=col>&lt;int&gt;</th></tr>\n",
       "</thead>\n",
       "<tbody>\n",
       "\t<tr><th scope=row>1</th><td>Adipose-Subcutaneous</td><td>15620</td><td>195</td><td>80</td><td>1.23</td><td>0.5</td><td>98.27</td><td>195</td><td>80</td></tr>\n",
       "</tbody>\n",
       "</table>\n"
      ],
      "text/latex": [
       "A data.frame: 1 × 9\n",
       "\\begin{tabular}{r|lllllllll}\n",
       "  & tissue & non\\_signif & lower & higher & \\% lower & \\% higher & \\% non-signif & higher in males & higher in females\\\\\n",
       "  & <chr> & <int> & <dbl> & <int> & <dbl> & <dbl> & <dbl> & <dbl> & <int>\\\\\n",
       "\\hline\n",
       "\t1 & Adipose-Subcutaneous & 15620 & 195 & 80 & 1.23 & 0.5 & 98.27 & 195 & 80\\\\\n",
       "\\end{tabular}\n"
      ],
      "text/markdown": [
       "\n",
       "A data.frame: 1 × 9\n",
       "\n",
       "| <!--/--> | tissue &lt;chr&gt; | non_signif &lt;int&gt; | lower &lt;dbl&gt; | higher &lt;int&gt; | % lower &lt;dbl&gt; | % higher &lt;dbl&gt; | % non-signif &lt;dbl&gt; | higher in males &lt;dbl&gt; | higher in females &lt;int&gt; |\n",
       "|---|---|---|---|---|---|---|---|---|---|\n",
       "| 1 | Adipose-Subcutaneous | 15620 | 195 | 80 | 1.23 | 0.5 | 98.27 | 195 | 80 |\n",
       "\n"
      ],
      "text/plain": [
       "  tissue               non_signif lower higher % lower % higher % non-signif\n",
       "1 Adipose-Subcutaneous 15620      195   80     1.23    0.5      98.27       \n",
       "  higher in males higher in females\n",
       "1 195             80               "
      ]
     },
     "metadata": {},
     "output_type": "display_data"
    }
   ],
   "source": [
    "summary_signif$`higher in males`   <- summary_signif$lower\n",
    "summary_signif$`higher in females` <- summary_signif$higher\n",
    "head(summary_signif[summary_signif$tissue == \"Adipose-Subcutaneous\", ])"
   ]
  },
  {
   "cell_type": "markdown",
   "metadata": {},
   "source": [
    "# Preparing the summary table for plotting\n",
    "\n",
    "We will need to aggregate the number of genes in one column in order to be able to plot, and also convert the `Tissue` column to a factor. We will use the `reshape` R package to *melt* the dataframe from a wide to a long version, as described above:"
   ]
  },
  {
   "cell_type": "code",
   "execution_count": 23,
   "metadata": {},
   "outputs": [
    {
     "data": {
      "text/html": [
       "<table>\n",
       "<caption>A data.frame: 2 × 3</caption>\n",
       "<thead>\n",
       "\t<tr><th></th><th scope=col>Tissue</th><th scope=col>Sex Bias</th><th scope=col>Number of Genes</th></tr>\n",
       "\t<tr><th></th><th scope=col>&lt;fct&gt;</th><th scope=col>&lt;fct&gt;</th><th scope=col>&lt;dbl&gt;</th></tr>\n",
       "</thead>\n",
       "<tbody>\n",
       "\t<tr><th scope=row>3</th><td>Adipose-Subcutaneous</td><td>higher in males  </td><td>195</td></tr>\n",
       "\t<tr><th scope=row>49</th><td>Adipose-Subcutaneous</td><td>higher in females</td><td> 80</td></tr>\n",
       "</tbody>\n",
       "</table>\n"
      ],
      "text/latex": [
       "A data.frame: 2 × 3\n",
       "\\begin{tabular}{r|lll}\n",
       "  & Tissue & Sex Bias & Number of Genes\\\\\n",
       "  & <fct> & <fct> & <dbl>\\\\\n",
       "\\hline\n",
       "\t3 & Adipose-Subcutaneous & higher in males   & 195\\\\\n",
       "\t49 & Adipose-Subcutaneous & higher in females &  80\\\\\n",
       "\\end{tabular}\n"
      ],
      "text/markdown": [
       "\n",
       "A data.frame: 2 × 3\n",
       "\n",
       "| <!--/--> | Tissue &lt;fct&gt; | Sex Bias &lt;fct&gt; | Number of Genes &lt;dbl&gt; |\n",
       "|---|---|---|---|\n",
       "| 3 | Adipose-Subcutaneous | higher in males   | 195 |\n",
       "| 49 | Adipose-Subcutaneous | higher in females |  80 |\n",
       "\n"
      ],
      "text/plain": [
       "   Tissue               Sex Bias          Number of Genes\n",
       "3  Adipose-Subcutaneous higher in males   195            \n",
       "49 Adipose-Subcutaneous higher in females  80            "
      ]
     },
     "metadata": {},
     "output_type": "display_data"
    }
   ],
   "source": [
    "toPlot <- summary_signif[, c( \"tissue\", \"higher in males\", \"higher in females\")]\n",
    "toPlot <- reshape::melt(toPlot, id=c(\"tissue\"))\n",
    "toPlot$tissue <- as.factor(toPlot$tissue)\n",
    "colnames(toPlot) <- c(\"Tissue\", \"Sex Bias\", \"Number of Genes\")\n",
    "head(toPlot[toPlot$Tissue == \"Adipose-Subcutaneous\", ])"
   ]
  },
  {
   "cell_type": "code",
   "execution_count": 24,
   "metadata": {},
   "outputs": [
    {
     "data": {
      "image/png": "[encoded data removed]",
      "text/plain": [
       "plot without title"
      ]
     },
     "metadata": {
      "image/png": {
       "height": 1200,
       "width": 630
      },
      "text/plain": {
       "height": 1200,
       "width": 630
      }
     },
     "output_type": "display_data"
    }
   ],
   "source": [
    "options(repr.plot.width=10.5, repr.plot.height=20)\n",
    "\n",
    "ggplot(toPlot, aes(x = Tissue, y = `Number of Genes`, fill = `Sex Bias`)) + \n",
    "  geom_bar(stat=\"identity\", position = \"dodge\") + \n",
    "  scale_fill_manual (values = c( \"higher in males\" = \"#4A637B\" , \"higher in females\" = \"#f35f71\")) + \n",
    "  \n",
    "  theme(text              = element_text(color = \"#4A637B\", face = \"bold\", family = 'Helvetica')\n",
    "        ,plot.caption     = element_text(size =  12, color = \"#8d99ae\", face = \"plain\", hjust= 1.05) \n",
    "        ,plot.title       = element_text(size =  18, color = \"#2b2d42\", face = \"bold\", hjust= 0.5)\n",
    "        ,axis.text.y      = element_text(angle =  0, size = 10, color = \"#8d99ae\", face = \"bold\", hjust=1.1)\n",
    "        ,axis.text.x      = element_text(angle = 70, size = 12, color = \"#8d99ae\", face = \"bold\", hjust=1.1)\n",
    "        ,axis.title.x     = element_blank()\n",
    "        ,axis.ticks.x     = element_blank()\n",
    "        ,axis.ticks.y     = element_blank()\n",
    "        ,plot.margin      = unit(c(1,1,1,1),\"cm\")\n",
    "        ,panel.background = element_blank()\n",
    "        ,legend.position  = \"right\") +\n",
    "  \n",
    "\n",
    "  geom_text(aes(y = `Number of Genes` + 15, \n",
    "                label = `Number of Genes`),\n",
    "                size = 3,\n",
    "                color     = \"#4A637B\",\n",
    "                position  =  position_dodge(width = 1),\n",
    "                family    = 'Helvetica') +\n",
    "  \n",
    "  labs(title   = \"Number of genes with higher expression in each sex per tissue\\n\",\n",
    "       caption = \"\\nsource: 'The impact of sex on alternative splicing'\\n doi: https://doi.org/10.1101/490904\",\n",
    "       y   = \"\\nNumber of Differentially Expressed Genes\")  + coord_flip()\n",
    "\n"
   ]
  },
  {
   "cell_type": "markdown",
   "metadata": {},
   "source": [
    "# Mutually exclusive sex biased genes (higher expression in one or the other sex only)\n",
    "\n",
    "\n",
    "The dataframe `signif_per_tissue` contains all the information for the genes that were significantly higher in either of the two sexes. WLet's examine how many mutually exclusive genes were found across all examined tissues. Ensembl encodes as `Chromosome` the chromosomal position, so we will create the required variables to retrieve only the chromosome information for producing summary statistics."
   ]
  },
  {
   "cell_type": "code",
   "execution_count": 25,
   "metadata": {},
   "outputs": [
    {
     "data": {
      "text/html": [
       "<table>\n",
       "<caption>A data.frame: 6 × 19</caption>\n",
       "<thead>\n",
       "\t<tr><th></th><th scope=col>initial_gene_id</th><th scope=col>GeneSymbol</th><th scope=col>logFC</th><th scope=col>adj.P.Val</th><th scope=col>abundance</th><th scope=col>higher_in</th><th scope=col>tissue</th><th scope=col>Chromosome</th><th scope=col>gene_id</th><th scope=col>abs_logFC</th><th scope=col>FoldChange_dummy</th><th scope=col>Class</th><th scope=col>Strand</th><th scope=col>Chromosomal_Position</th><th scope=col>AveExpr</th><th scope=col>t</th><th scope=col>P.Value</th><th scope=col>adj.P.Val.1</th><th scope=col>B</th></tr>\n",
       "\t<tr><th></th><th scope=col>&lt;chr&gt;</th><th scope=col>&lt;fct&gt;</th><th scope=col>&lt;dbl&gt;</th><th scope=col>&lt;dbl&gt;</th><th scope=col>&lt;chr&gt;</th><th scope=col>&lt;chr&gt;</th><th scope=col>&lt;chr&gt;</th><th scope=col>&lt;chr&gt;</th><th scope=col>&lt;chr&gt;</th><th scope=col>&lt;dbl&gt;</th><th scope=col>&lt;dbl&gt;</th><th scope=col>&lt;fct&gt;</th><th scope=col>&lt;fct&gt;</th><th scope=col>&lt;fct&gt;</th><th scope=col>&lt;dbl&gt;</th><th scope=col>&lt;dbl&gt;</th><th scope=col>&lt;dbl&gt;</th><th scope=col>&lt;dbl&gt;</th><th scope=col>&lt;dbl&gt;</th></tr>\n",
       "</thead>\n",
       "<tbody>\n",
       "\t<tr><th scope=row>1</th><td>ENSG00000129824.15</td><td>RPS4Y1</td><td>-9.668735</td><td>0</td><td>lower </td><td>males  </td><td>Adipose-Subcutaneous</td><td>Y</td><td>ENSG00000129824</td><td>9.668735</td><td>-813.9156</td><td>protein_coding</td><td>+</td><td>Y:2841602-2932000  </td><td> 4.6438444</td><td>-145.54037</td><td>0</td><td>0</td><td>1136.0576</td></tr>\n",
       "\t<tr><th scope=row>2</th><td>ENSG00000229807.10</td><td>XIST  </td><td> 9.907847</td><td>0</td><td>higher</td><td>females</td><td>Adipose-Subcutaneous</td><td>X</td><td>ENSG00000229807</td><td>9.907847</td><td> 960.6365</td><td>lncRNA        </td><td>-</td><td>X:73820649-73852723</td><td> 1.2461171</td><td> 131.36798</td><td>0</td><td>0</td><td>1079.0402</td></tr>\n",
       "\t<tr><th scope=row>3</th><td>ENSG00000067048.16</td><td>DDX3Y </td><td>-9.698380</td><td>0</td><td>lower </td><td>males  </td><td>Adipose-Subcutaneous</td><td>Y</td><td>ENSG00000067048</td><td>9.698380</td><td>-830.8129</td><td>protein_coding</td><td>+</td><td>Y:12904108-12920478</td><td> 3.7021122</td><td>-108.38685</td><td>0</td><td>0</td><td> 952.4945</td></tr>\n",
       "\t<tr><th scope=row>4</th><td>ENSG00000176728.7 </td><td>TTTY14</td><td>-8.082798</td><td>0</td><td>lower </td><td>males  </td><td>Adipose-Subcutaneous</td><td>Y</td><td>ENSG00000176728</td><td>8.082798</td><td>-271.1219</td><td>lncRNA        </td><td>-</td><td>Y:18772706-19077563</td><td>-0.9202562</td><td>-105.59458</td><td>0</td><td>0</td><td> 922.2647</td></tr>\n",
       "\t<tr><th scope=row>5</th><td>ENSG00000012817.15</td><td>KDM5D </td><td>-9.608969</td><td>0</td><td>lower </td><td>males  </td><td>Adipose-Subcutaneous</td><td>Y</td><td>ENSG00000012817</td><td>9.608969</td><td>-780.8863</td><td>protein_coding</td><td>-</td><td>Y:19703865-19744939</td><td> 3.4369019</td><td>-101.87186</td><td>0</td><td>0</td><td> 914.3474</td></tr>\n",
       "\t<tr><th scope=row>6</th><td>ENSG00000198692.9 </td><td>EIF1AY</td><td>-9.013909</td><td>0</td><td>lower </td><td>males  </td><td>Adipose-Subcutaneous</td><td>Y</td><td>ENSG00000198692</td><td>9.013909</td><td>-516.9601</td><td>protein_coding</td><td>+</td><td>Y:20575776-20593154</td><td> 1.3461188</td><td> -90.30504</td><td>0</td><td>0</td><td> 835.7359</td></tr>\n",
       "</tbody>\n",
       "</table>\n"
      ],
      "text/latex": [
       "A data.frame: 6 × 19\n",
       "\\begin{tabular}{r|lllllllllllllllllll}\n",
       "  & initial\\_gene\\_id & GeneSymbol & logFC & adj.P.Val & abundance & higher\\_in & tissue & Chromosome & gene\\_id & abs\\_logFC & FoldChange\\_dummy & Class & Strand & Chromosomal\\_Position & AveExpr & t & P.Value & adj.P.Val.1 & B\\\\\n",
       "  & <chr> & <fct> & <dbl> & <dbl> & <chr> & <chr> & <chr> & <chr> & <chr> & <dbl> & <dbl> & <fct> & <fct> & <fct> & <dbl> & <dbl> & <dbl> & <dbl> & <dbl>\\\\\n",
       "\\hline\n",
       "\t1 & ENSG00000129824.15 & RPS4Y1 & -9.668735 & 0 & lower  & males   & Adipose-Subcutaneous & Y & ENSG00000129824 & 9.668735 & -813.9156 & protein\\_coding & + & Y:2841602-2932000   &  4.6438444 & -145.54037 & 0 & 0 & 1136.0576\\\\\n",
       "\t2 & ENSG00000229807.10 & XIST   &  9.907847 & 0 & higher & females & Adipose-Subcutaneous & X & ENSG00000229807 & 9.907847 &  960.6365 & lncRNA         & - & X:73820649-73852723 &  1.2461171 &  131.36798 & 0 & 0 & 1079.0402\\\\\n",
       "\t3 & ENSG00000067048.16 & DDX3Y  & -9.698380 & 0 & lower  & males   & Adipose-Subcutaneous & Y & ENSG00000067048 & 9.698380 & -830.8129 & protein\\_coding & + & Y:12904108-12920478 &  3.7021122 & -108.38685 & 0 & 0 &  952.4945\\\\\n",
       "\t4 & ENSG00000176728.7  & TTTY14 & -8.082798 & 0 & lower  & males   & Adipose-Subcutaneous & Y & ENSG00000176728 & 8.082798 & -271.1219 & lncRNA         & - & Y:18772706-19077563 & -0.9202562 & -105.59458 & 0 & 0 &  922.2647\\\\\n",
       "\t5 & ENSG00000012817.15 & KDM5D  & -9.608969 & 0 & lower  & males   & Adipose-Subcutaneous & Y & ENSG00000012817 & 9.608969 & -780.8863 & protein\\_coding & - & Y:19703865-19744939 &  3.4369019 & -101.87186 & 0 & 0 &  914.3474\\\\\n",
       "\t6 & ENSG00000198692.9  & EIF1AY & -9.013909 & 0 & lower  & males   & Adipose-Subcutaneous & Y & ENSG00000198692 & 9.013909 & -516.9601 & protein\\_coding & + & Y:20575776-20593154 &  1.3461188 &  -90.30504 & 0 & 0 &  835.7359\\\\\n",
       "\\end{tabular}\n"
      ],
      "text/markdown": [
       "\n",
       "A data.frame: 6 × 19\n",
       "\n",
       "| <!--/--> | initial_gene_id &lt;chr&gt; | GeneSymbol &lt;fct&gt; | logFC &lt;dbl&gt; | adj.P.Val &lt;dbl&gt; | abundance &lt;chr&gt; | higher_in &lt;chr&gt; | tissue &lt;chr&gt; | Chromosome &lt;chr&gt; | gene_id &lt;chr&gt; | abs_logFC &lt;dbl&gt; | FoldChange_dummy &lt;dbl&gt; | Class &lt;fct&gt; | Strand &lt;fct&gt; | Chromosomal_Position &lt;fct&gt; | AveExpr &lt;dbl&gt; | t &lt;dbl&gt; | P.Value &lt;dbl&gt; | adj.P.Val.1 &lt;dbl&gt; | B &lt;dbl&gt; |\n",
       "|---|---|---|---|---|---|---|---|---|---|---|---|---|---|---|---|---|---|---|---|\n",
       "| 1 | ENSG00000129824.15 | RPS4Y1 | -9.668735 | 0 | lower  | males   | Adipose-Subcutaneous | Y | ENSG00000129824 | 9.668735 | -813.9156 | protein_coding | + | Y:2841602-2932000   |  4.6438444 | -145.54037 | 0 | 0 | 1136.0576 |\n",
       "| 2 | ENSG00000229807.10 | XIST   |  9.907847 | 0 | higher | females | Adipose-Subcutaneous | X | ENSG00000229807 | 9.907847 |  960.6365 | lncRNA         | - | X:73820649-73852723 |  1.2461171 |  131.36798 | 0 | 0 | 1079.0402 |\n",
       "| 3 | ENSG00000067048.16 | DDX3Y  | -9.698380 | 0 | lower  | males   | Adipose-Subcutaneous | Y | ENSG00000067048 | 9.698380 | -830.8129 | protein_coding | + | Y:12904108-12920478 |  3.7021122 | -108.38685 | 0 | 0 |  952.4945 |\n",
       "| 4 | ENSG00000176728.7  | TTTY14 | -8.082798 | 0 | lower  | males   | Adipose-Subcutaneous | Y | ENSG00000176728 | 8.082798 | -271.1219 | lncRNA         | - | Y:18772706-19077563 | -0.9202562 | -105.59458 | 0 | 0 |  922.2647 |\n",
       "| 5 | ENSG00000012817.15 | KDM5D  | -9.608969 | 0 | lower  | males   | Adipose-Subcutaneous | Y | ENSG00000012817 | 9.608969 | -780.8863 | protein_coding | - | Y:19703865-19744939 |  3.4369019 | -101.87186 | 0 | 0 |  914.3474 |\n",
       "| 6 | ENSG00000198692.9  | EIF1AY | -9.013909 | 0 | lower  | males   | Adipose-Subcutaneous | Y | ENSG00000198692 | 9.013909 | -516.9601 | protein_coding | + | Y:20575776-20593154 |  1.3461188 |  -90.30504 | 0 | 0 |  835.7359 |\n",
       "\n"
      ],
      "text/plain": [
       "  initial_gene_id    GeneSymbol logFC     adj.P.Val abundance higher_in\n",
       "1 ENSG00000129824.15 RPS4Y1     -9.668735 0         lower     males    \n",
       "2 ENSG00000229807.10 XIST        9.907847 0         higher    females  \n",
       "3 ENSG00000067048.16 DDX3Y      -9.698380 0         lower     males    \n",
       "4 ENSG00000176728.7  TTTY14     -8.082798 0         lower     males    \n",
       "5 ENSG00000012817.15 KDM5D      -9.608969 0         lower     males    \n",
       "6 ENSG00000198692.9  EIF1AY     -9.013909 0         lower     males    \n",
       "  tissue               Chromosome gene_id         abs_logFC FoldChange_dummy\n",
       "1 Adipose-Subcutaneous Y          ENSG00000129824 9.668735  -813.9156       \n",
       "2 Adipose-Subcutaneous X          ENSG00000229807 9.907847   960.6365       \n",
       "3 Adipose-Subcutaneous Y          ENSG00000067048 9.698380  -830.8129       \n",
       "4 Adipose-Subcutaneous Y          ENSG00000176728 8.082798  -271.1219       \n",
       "5 Adipose-Subcutaneous Y          ENSG00000012817 9.608969  -780.8863       \n",
       "6 Adipose-Subcutaneous Y          ENSG00000198692 9.013909  -516.9601       \n",
       "  Class          Strand Chromosomal_Position AveExpr    t          P.Value\n",
       "1 protein_coding +      Y:2841602-2932000     4.6438444 -145.54037 0      \n",
       "2 lncRNA         -      X:73820649-73852723   1.2461171  131.36798 0      \n",
       "3 protein_coding +      Y:12904108-12920478   3.7021122 -108.38685 0      \n",
       "4 lncRNA         -      Y:18772706-19077563  -0.9202562 -105.59458 0      \n",
       "5 protein_coding -      Y:19703865-19744939   3.4369019 -101.87186 0      \n",
       "6 protein_coding +      Y:20575776-20593154   1.3461188  -90.30504 0      \n",
       "  adj.P.Val.1 B        \n",
       "1 0           1136.0576\n",
       "2 0           1079.0402\n",
       "3 0            952.4945\n",
       "4 0            922.2647\n",
       "5 0            914.3474\n",
       "6 0            835.7359"
      ]
     },
     "metadata": {},
     "output_type": "display_data"
    }
   ],
   "source": [
    "signif_per_tissue$Chromosomal_Position <- signif_per_tissue$Chromosome\n",
    "signif_per_tissue$Chromosome <- gsub(\"\\\\:.*\",\"\", signif_per_tissue$Chromosome)\n",
    "signif_per_tissue$higher_in  <- 0\n",
    "signif_per_tissue$higher_in[(signif_per_tissue$abundance == \"lower\" )] <- \"males\"\n",
    "signif_per_tissue$higher_in[(signif_per_tissue$abundance == \"higher\" )] <- \"females\"\n",
    "toKeepInOrder <- c( \"initial_gene_id\", \"GeneSymbol\", \"logFC\",  \"adj.P.Val\", \"abundance\", \"higher_in\",  \"tissue\", \"Chromosome\", \n",
    "\"gene_id\", \"abs_logFC\", \"FoldChange_dummy\", \n",
    "\"Class\", \"Strand\",\"Chromosomal_Position\", \n",
    " \"AveExpr\", \"t\", \"P.Value\", \"adj.P.Val\", \"B\")\n",
    "signif_per_tissue <- signif_per_tissue[, toKeepInOrder]\n",
    "head(signif_per_tissue)"
   ]
  },
  {
   "cell_type": "markdown",
   "metadata": {},
   "source": [
    "# Examine mutually exclusive genes upregulated in each sex"
   ]
  },
  {
   "cell_type": "code",
   "execution_count": 26,
   "metadata": {},
   "outputs": [
    {
     "data": {
      "text/html": [
       "<table>\n",
       "<caption>A data.frame: 1 × 24</caption>\n",
       "<thead>\n",
       "\t<tr><th scope=col>1</th><th scope=col>10</th><th scope=col>11</th><th scope=col>12</th><th scope=col>13</th><th scope=col>14</th><th scope=col>15</th><th scope=col>16</th><th scope=col>17</th><th scope=col>18</th><th scope=col>⋯</th><th scope=col>22</th><th scope=col>3</th><th scope=col>4</th><th scope=col>5</th><th scope=col>6</th><th scope=col>7</th><th scope=col>8</th><th scope=col>9</th><th scope=col>MT</th><th scope=col>X</th></tr>\n",
       "\t<tr><th scope=col>&lt;int&gt;</th><th scope=col>&lt;int&gt;</th><th scope=col>&lt;int&gt;</th><th scope=col>&lt;int&gt;</th><th scope=col>&lt;int&gt;</th><th scope=col>&lt;int&gt;</th><th scope=col>&lt;int&gt;</th><th scope=col>&lt;int&gt;</th><th scope=col>&lt;int&gt;</th><th scope=col>&lt;int&gt;</th><th scope=col>⋯</th><th scope=col>&lt;int&gt;</th><th scope=col>&lt;int&gt;</th><th scope=col>&lt;int&gt;</th><th scope=col>&lt;int&gt;</th><th scope=col>&lt;int&gt;</th><th scope=col>&lt;int&gt;</th><th scope=col>&lt;int&gt;</th><th scope=col>&lt;int&gt;</th><th scope=col>&lt;int&gt;</th><th scope=col>&lt;int&gt;</th></tr>\n",
       "</thead>\n",
       "<tbody>\n",
       "\t<tr><td>355</td><td>79</td><td>142</td><td>138</td><td>28</td><td>91</td><td>78</td><td>87</td><td>142</td><td>30</td><td>⋯</td><td>73</td><td>149</td><td>111</td><td>108</td><td>96</td><td>116</td><td>88</td><td>67</td><td>1</td><td>295</td></tr>\n",
       "</tbody>\n",
       "</table>\n"
      ],
      "text/latex": [
       "A data.frame: 1 × 24\n",
       "\\begin{tabular}{lllllllllllllllllllll}\n",
       " 1 & 10 & 11 & 12 & 13 & 14 & 15 & 16 & 17 & 18 & ⋯ & 22 & 3 & 4 & 5 & 6 & 7 & 8 & 9 & MT & X\\\\\n",
       " <int> & <int> & <int> & <int> & <int> & <int> & <int> & <int> & <int> & <int> & ⋯ & <int> & <int> & <int> & <int> & <int> & <int> & <int> & <int> & <int> & <int>\\\\\n",
       "\\hline\n",
       "\t 355 & 79 & 142 & 138 & 28 & 91 & 78 & 87 & 142 & 30 & ⋯ & 73 & 149 & 111 & 108 & 96 & 116 & 88 & 67 & 1 & 295\\\\\n",
       "\\end{tabular}\n"
      ],
      "text/markdown": [
       "\n",
       "A data.frame: 1 × 24\n",
       "\n",
       "| 1 &lt;int&gt; | 10 &lt;int&gt; | 11 &lt;int&gt; | 12 &lt;int&gt; | 13 &lt;int&gt; | 14 &lt;int&gt; | 15 &lt;int&gt; | 16 &lt;int&gt; | 17 &lt;int&gt; | 18 &lt;int&gt; | ⋯ ⋯ | 22 &lt;int&gt; | 3 &lt;int&gt; | 4 &lt;int&gt; | 5 &lt;int&gt; | 6 &lt;int&gt; | 7 &lt;int&gt; | 8 &lt;int&gt; | 9 &lt;int&gt; | MT &lt;int&gt; | X &lt;int&gt; |\n",
       "|---|---|---|---|---|---|---|---|---|---|---|---|---|---|---|---|---|---|---|---|---|\n",
       "| 355 | 79 | 142 | 138 | 28 | 91 | 78 | 87 | 142 | 30 | ⋯ | 73 | 149 | 111 | 108 | 96 | 116 | 88 | 67 | 1 | 295 |\n",
       "\n"
      ],
      "text/plain": [
       "  1   10 11  12  13 14 15 16 17  18 ⋯ 22 3   4   5   6  7   8  9  MT X  \n",
       "1 355 79 142 138 28 91 78 87 142 30 ⋯ 73 149 111 108 96 116 88 67 1  295"
      ]
     },
     "metadata": {},
     "output_type": "display_data"
    }
   ],
   "source": [
    "as.data.frame.matrix(t(table(signif_per_tissue$Chromosome [signif_per_tissue$higher_in == \"females\"] )))"
   ]
  },
  {
   "cell_type": "code",
   "execution_count": 27,
   "metadata": {},
   "outputs": [
    {
     "data": {
      "text/html": [
       "<table>\n",
       "<caption>A data.frame: 1 × 25</caption>\n",
       "<thead>\n",
       "\t<tr><th scope=col>1</th><th scope=col>10</th><th scope=col>11</th><th scope=col>12</th><th scope=col>13</th><th scope=col>14</th><th scope=col>15</th><th scope=col>16</th><th scope=col>17</th><th scope=col>18</th><th scope=col>⋯</th><th scope=col>3</th><th scope=col>4</th><th scope=col>5</th><th scope=col>6</th><th scope=col>7</th><th scope=col>8</th><th scope=col>9</th><th scope=col>MT</th><th scope=col>X</th><th scope=col>Y</th></tr>\n",
       "\t<tr><th scope=col>&lt;int&gt;</th><th scope=col>&lt;int&gt;</th><th scope=col>&lt;int&gt;</th><th scope=col>&lt;int&gt;</th><th scope=col>&lt;int&gt;</th><th scope=col>&lt;int&gt;</th><th scope=col>&lt;int&gt;</th><th scope=col>&lt;int&gt;</th><th scope=col>&lt;int&gt;</th><th scope=col>&lt;int&gt;</th><th scope=col>⋯</th><th scope=col>&lt;int&gt;</th><th scope=col>&lt;int&gt;</th><th scope=col>&lt;int&gt;</th><th scope=col>&lt;int&gt;</th><th scope=col>&lt;int&gt;</th><th scope=col>&lt;int&gt;</th><th scope=col>&lt;int&gt;</th><th scope=col>&lt;int&gt;</th><th scope=col>&lt;int&gt;</th><th scope=col>&lt;int&gt;</th></tr>\n",
       "</thead>\n",
       "<tbody>\n",
       "\t<tr><td>165</td><td>74</td><td>88</td><td>115</td><td>38</td><td>57</td><td>101</td><td>77</td><td>91</td><td>41</td><td>⋯</td><td>92</td><td>100</td><td>102</td><td>119</td><td>82</td><td>70</td><td>71</td><td>1</td><td>112</td><td>585</td></tr>\n",
       "</tbody>\n",
       "</table>\n"
      ],
      "text/latex": [
       "A data.frame: 1 × 25\n",
       "\\begin{tabular}{lllllllllllllllllllll}\n",
       " 1 & 10 & 11 & 12 & 13 & 14 & 15 & 16 & 17 & 18 & ⋯ & 3 & 4 & 5 & 6 & 7 & 8 & 9 & MT & X & Y\\\\\n",
       " <int> & <int> & <int> & <int> & <int> & <int> & <int> & <int> & <int> & <int> & ⋯ & <int> & <int> & <int> & <int> & <int> & <int> & <int> & <int> & <int> & <int>\\\\\n",
       "\\hline\n",
       "\t 165 & 74 & 88 & 115 & 38 & 57 & 101 & 77 & 91 & 41 & ⋯ & 92 & 100 & 102 & 119 & 82 & 70 & 71 & 1 & 112 & 585\\\\\n",
       "\\end{tabular}\n"
      ],
      "text/markdown": [
       "\n",
       "A data.frame: 1 × 25\n",
       "\n",
       "| 1 &lt;int&gt; | 10 &lt;int&gt; | 11 &lt;int&gt; | 12 &lt;int&gt; | 13 &lt;int&gt; | 14 &lt;int&gt; | 15 &lt;int&gt; | 16 &lt;int&gt; | 17 &lt;int&gt; | 18 &lt;int&gt; | ⋯ ⋯ | 3 &lt;int&gt; | 4 &lt;int&gt; | 5 &lt;int&gt; | 6 &lt;int&gt; | 7 &lt;int&gt; | 8 &lt;int&gt; | 9 &lt;int&gt; | MT &lt;int&gt; | X &lt;int&gt; | Y &lt;int&gt; |\n",
       "|---|---|---|---|---|---|---|---|---|---|---|---|---|---|---|---|---|---|---|---|---|\n",
       "| 165 | 74 | 88 | 115 | 38 | 57 | 101 | 77 | 91 | 41 | ⋯ | 92 | 100 | 102 | 119 | 82 | 70 | 71 | 1 | 112 | 585 |\n",
       "\n"
      ],
      "text/plain": [
       "  1   10 11 12  13 14 15  16 17 18 ⋯ 3  4   5   6   7  8  9  MT X   Y  \n",
       "1 165 74 88 115 38 57 101 77 91 41 ⋯ 92 100 102 119 82 70 71 1  112 585"
      ]
     },
     "metadata": {},
     "output_type": "display_data"
    }
   ],
   "source": [
    "as.data.frame.matrix(t(table(signif_per_tissue$Chromosome [signif_per_tissue$higher_in == \"males\"] )))"
   ]
  },
  {
   "cell_type": "code",
   "execution_count": 28,
   "metadata": {},
   "outputs": [
    {
     "data": {
      "text/html": [
       "1301"
      ],
      "text/latex": [
       "1301"
      ],
      "text/markdown": [
       "1301"
      ],
      "text/plain": [
       "[1] 1301"
      ]
     },
     "metadata": {},
     "output_type": "display_data"
    },
    {
     "data": {
      "text/html": [
       "1816"
      ],
      "text/latex": [
       "1816"
      ],
      "text/markdown": [
       "1816"
      ],
      "text/plain": [
       "[1] 1816"
      ]
     },
     "metadata": {},
     "output_type": "display_data"
    }
   ],
   "source": [
    "female_biased <- unique(signif_per_tissue$initial_gene_id [ signif_per_tissue$higher_in == \"females\" ] )\n",
    "male_biased   <- unique(signif_per_tissue$initial_gene_id [ signif_per_tissue$higher_in == \"males\"  ] )\n",
    "\n",
    "length(male_biased)\n",
    "length(female_biased)"
   ]
  },
  {
   "cell_type": "code",
   "execution_count": 29,
   "metadata": {},
   "outputs": [
    {
     "data": {
      "text/html": [
       "462"
      ],
      "text/latex": [
       "462"
      ],
      "text/markdown": [
       "462"
      ],
      "text/plain": [
       "[1] 462"
      ]
     },
     "metadata": {},
     "output_type": "display_data"
    },
    {
     "data": {
      "text/html": [
       "462"
      ],
      "text/latex": [
       "462"
      ],
      "text/markdown": [
       "462"
      ],
      "text/plain": [
       "[1] 462"
      ]
     },
     "metadata": {},
     "output_type": "display_data"
    }
   ],
   "source": [
    "## Present in both\n",
    "\n",
    "length((intersect(male_biased, female_biased)))\n",
    "length((intersect(female_biased, male_biased)))\n",
    "\n",
    "intersect <- (intersect(male_biased, female_biased))\n"
   ]
  },
  {
   "cell_type": "code",
   "execution_count": 30,
   "metadata": {},
   "outputs": [
    {
     "data": {
      "text/html": [
       "839"
      ],
      "text/latex": [
       "839"
      ],
      "text/markdown": [
       "839"
      ],
      "text/plain": [
       "[1] 839"
      ]
     },
     "metadata": {},
     "output_type": "display_data"
    },
    {
     "data": {
      "text/html": [
       "1354"
      ],
      "text/latex": [
       "1354"
      ],
      "text/markdown": [
       "1354"
      ],
      "text/plain": [
       "[1] 1354"
      ]
     },
     "metadata": {},
     "output_type": "display_data"
    }
   ],
   "source": [
    "## Only in males\n",
    "length(male_biased[! (male_biased %in% intersect)])\n",
    "\n",
    "## Only females\n",
    "length(female_biased[! (female_biased %in% intersect)])"
   ]
  },
  {
   "cell_type": "code",
   "execution_count": 31,
   "metadata": {},
   "outputs": [
    {
     "name": "stderr",
     "output_type": "stream",
     "text": [
      "64.49 % of differentially expressed genes higher in males only found to be significantly differentin males\n",
      "\n",
      "74.56 % of differentially expressed genes higher in females only found to be significantly different in males\n",
      "\n"
     ]
    }
   ],
   "source": [
    "perc_only_male <-  length(male_biased[! (male_biased %in% intersect)]) / length(male_biased) * 100\n",
    "perc_only_female <-  length(female_biased[! (female_biased %in% intersect)]) / length(female_biased) * 100\n",
    "\n",
    "message(round(perc_only_male, 2), \" % of differentially expressed genes higher in males only found to be significantly differentin males\")\n",
    "message(round(perc_only_female,2), \" % of differentially expressed genes higher in females only found to be significantly different in males\")"
   ]
  },
  {
   "cell_type": "markdown",
   "metadata": {},
   "source": [
    "## Significantly higher only in males"
   ]
  },
  {
   "cell_type": "code",
   "execution_count": 32,
   "metadata": {},
   "outputs": [
    {
     "data": {
      "text/html": [
       "<style>\n",
       ".list-inline {list-style: none; margin:0; padding: 0}\n",
       ".list-inline>li {display: inline-block}\n",
       ".list-inline>li:not(:last-child)::after {content: \"\\00b7\"; padding: 0 .5ex}\n",
       "</style>\n",
       "<ol class=list-inline><li>1957</li><li>19</li></ol>\n"
      ],
      "text/latex": [
       "\\begin{enumerate*}\n",
       "\\item 1957\n",
       "\\item 19\n",
       "\\end{enumerate*}\n"
      ],
      "text/markdown": [
       "1. 1957\n",
       "2. 19\n",
       "\n",
       "\n"
      ],
      "text/plain": [
       "[1] 1957   19"
      ]
     },
     "metadata": {},
     "output_type": "display_data"
    },
    {
     "data": {
      "text/html": [
       "<table>\n",
       "<caption>A data.frame: 20 × 19</caption>\n",
       "<thead>\n",
       "\t<tr><th></th><th scope=col>initial_gene_id</th><th scope=col>GeneSymbol</th><th scope=col>logFC</th><th scope=col>adj.P.Val</th><th scope=col>abundance</th><th scope=col>higher_in</th><th scope=col>tissue</th><th scope=col>Chromosome</th><th scope=col>gene_id</th><th scope=col>abs_logFC</th><th scope=col>FoldChange_dummy</th><th scope=col>Class</th><th scope=col>Strand</th><th scope=col>Chromosomal_Position</th><th scope=col>AveExpr</th><th scope=col>t</th><th scope=col>P.Value</th><th scope=col>adj.P.Val.1</th><th scope=col>B</th></tr>\n",
       "\t<tr><th></th><th scope=col>&lt;chr&gt;</th><th scope=col>&lt;fct&gt;</th><th scope=col>&lt;dbl&gt;</th><th scope=col>&lt;dbl&gt;</th><th scope=col>&lt;chr&gt;</th><th scope=col>&lt;chr&gt;</th><th scope=col>&lt;chr&gt;</th><th scope=col>&lt;chr&gt;</th><th scope=col>&lt;chr&gt;</th><th scope=col>&lt;dbl&gt;</th><th scope=col>&lt;dbl&gt;</th><th scope=col>&lt;fct&gt;</th><th scope=col>&lt;fct&gt;</th><th scope=col>&lt;fct&gt;</th><th scope=col>&lt;dbl&gt;</th><th scope=col>&lt;dbl&gt;</th><th scope=col>&lt;dbl&gt;</th><th scope=col>&lt;dbl&gt;</th><th scope=col>&lt;dbl&gt;</th></tr>\n",
       "</thead>\n",
       "<tbody>\n",
       "\t<tr><th scope=row>1278</th><td>ENSG00000000938.12</td><td>FGR    </td><td>-0.6591010</td><td>9.573016e-15</td><td>lower</td><td>males</td><td>Breast-MammaryTissue                </td><td>1 </td><td>ENSG00000000938</td><td>0.6591010</td><td>-1.579098</td><td>protein_coding</td><td>-</td><td>1:27612064-27635185 </td><td>4.869955</td><td> -8.358498</td><td>7.600595e-16</td><td>9.573016e-15</td><td> 23.997831</td></tr>\n",
       "\t<tr><th scope=row>164</th><td>ENSG00000002586.18</td><td>CD99   </td><td>-0.7554926</td><td>1.219094e-56</td><td>lower</td><td>males</td><td>AdrenalGland                        </td><td>X </td><td>ENSG00000002586</td><td>0.7554926</td><td>-1.688208</td><td>protein_coding</td><td>+</td><td>X:2691187-2741309   </td><td>6.790643</td><td>-21.507695</td><td>1.227147e-59</td><td>1.219094e-56</td><td>124.946642</td></tr>\n",
       "\t<tr><th scope=row>263</th><td>ENSG00000002586.18</td><td>CD99   </td><td>-0.8396619</td><td>5.671851e-08</td><td>lower</td><td>males</td><td>Brain-Amygdala                      </td><td>X </td><td>ENSG00000002586</td><td>0.8396619</td><td>-1.789631</td><td>protein_coding</td><td>+</td><td>X:2691187-2741309   </td><td>6.061931</td><td> -6.959005</td><td>9.277642e-11</td><td>5.671851e-08</td><td> 13.319868</td></tr>\n",
       "\t<tr><th scope=row>3110</th><td>ENSG00000002586.18</td><td>CD99   </td><td>-0.8251388</td><td>8.691307e-06</td><td>lower</td><td>males</td><td>Brain-Anteriorcingulatecortex(BA24) </td><td>X </td><td>ENSG00000002586</td><td>0.8251388</td><td>-1.771705</td><td>protein_coding</td><td>+</td><td>X:2691187-2741309   </td><td>5.849349</td><td> -5.911720</td><td>1.695065e-08</td><td>8.691307e-06</td><td>  8.055779</td></tr>\n",
       "\t<tr><th scope=row>296</th><td>ENSG00000002586.18</td><td>CD99   </td><td>-0.7844418</td><td>6.848737e-12</td><td>lower</td><td>males</td><td>Brain-Caudate(basalganglia)         </td><td>X </td><td>ENSG00000002586</td><td>0.7844418</td><td>-1.722426</td><td>protein_coding</td><td>+</td><td>X:2691187-2741309   </td><td>6.193285</td><td> -8.207431</td><td>1.249534e-14</td><td>6.848737e-12</td><td> 21.740784</td></tr>\n",
       "\t<tr><th scope=row>586</th><td>ENSG00000002586.18</td><td>CD99   </td><td>-0.6014959</td><td>4.922657e-05</td><td>lower</td><td>males</td><td>Brain-CerebellarHemisphere          </td><td>X </td><td>ENSG00000002586</td><td>0.6014959</td><td>-1.517289</td><td>protein_coding</td><td>+</td><td>X:2691187-2741309   </td><td>4.786686</td><td> -5.397579</td><td>1.765281e-07</td><td>4.922657e-05</td><td>  5.538343</td></tr>\n",
       "\t<tr><th scope=row>456</th><td>ENSG00000002586.18</td><td>CD99   </td><td>-0.6023367</td><td>4.683570e-08</td><td>lower</td><td>males</td><td>Brain-Cerebellum                    </td><td>X </td><td>ENSG00000002586</td><td>0.6023367</td><td>-1.518174</td><td>protein_coding</td><td>+</td><td>X:2691187-2741309   </td><td>5.329055</td><td> -6.718629</td><td>1.296490e-10</td><td>4.683570e-08</td><td> 12.328643</td></tr>\n",
       "\t<tr><th scope=row>3210</th><td>ENSG00000002586.18</td><td>CD99   </td><td>-0.7089142</td><td>1.403404e-08</td><td>lower</td><td>males</td><td>Brain-Cortex                        </td><td>X </td><td>ENSG00000002586</td><td>0.7089142</td><td>-1.634573</td><td>protein_coding</td><td>+</td><td>X:2691187-2741309   </td><td>5.611433</td><td> -6.960527</td><td>2.825349e-11</td><td>1.403404e-08</td><td> 13.940526</td></tr>\n",
       "\t<tr><th scope=row>4111</th><td>ENSG00000002586.18</td><td>CD99   </td><td>-0.6126170</td><td>5.096163e-03</td><td>lower</td><td>males</td><td>Brain-FrontalCortex(BA9)            </td><td>X </td><td>ENSG00000002586</td><td>0.6126170</td><td>-1.529030</td><td>protein_coding</td><td>+</td><td>X:2691187-2741309   </td><td>5.403716</td><td> -4.481110</td><td>1.218334e-05</td><td>5.096163e-03</td><td>  1.521443</td></tr>\n",
       "\t<tr><th scope=row>248</th><td>ENSG00000002586.18</td><td>CD99   </td><td>-0.6726112</td><td>7.938898e-09</td><td>lower</td><td>males</td><td>Brain-Hippocampus                   </td><td>X </td><td>ENSG00000002586</td><td>0.6726112</td><td>-1.593955</td><td>protein_coding</td><td>+</td><td>X:2691187-2741309   </td><td>6.044502</td><td> -7.202599</td><td>1.198701e-11</td><td>7.938898e-09</td><td> 15.218684</td></tr>\n",
       "\t<tr><th scope=row>278</th><td>ENSG00000002586.18</td><td>CD99   </td><td>-0.6719965</td><td>6.845070e-08</td><td>lower</td><td>males</td><td>Brain-Hypothalamus                  </td><td>X </td><td>ENSG00000002586</td><td>0.6719965</td><td>-1.593276</td><td>protein_coding</td><td>+</td><td>X:2691187-2741309   </td><td>6.472639</td><td> -6.796490</td><td>1.162736e-10</td><td>6.845070e-08</td><td> 12.917875</td></tr>\n",
       "\t<tr><th scope=row>2511</th><td>ENSG00000002586.18</td><td>CD99   </td><td>-0.8530858</td><td>1.113055e-12</td><td>lower</td><td>males</td><td>Brain-Nucleusaccumbens(basalganglia)</td><td>X </td><td>ENSG00000002586</td><td>0.8530858</td><td>-1.806360</td><td>protein_coding</td><td>+</td><td>X:2691187-2741309   </td><td>6.282880</td><td> -8.504566</td><td>1.750637e-15</td><td>1.113055e-12</td><td> 23.723286</td></tr>\n",
       "\t<tr><th scope=row>2613</th><td>ENSG00000002586.18</td><td>CD99   </td><td>-0.7969728</td><td>1.207166e-09</td><td>lower</td><td>males</td><td>Brain-Putamen(basalganglia)         </td><td>X </td><td>ENSG00000002586</td><td>0.7969728</td><td>-1.737452</td><td>protein_coding</td><td>+</td><td>X:2691187-2741309   </td><td>6.026811</td><td> -7.490226</td><td>1.974603e-12</td><td>1.207166e-09</td><td> 16.876777</td></tr>\n",
       "\t<tr><th scope=row>2115</th><td>ENSG00000002586.18</td><td>CD99   </td><td>-0.8717310</td><td>6.761261e-08</td><td>lower</td><td>males</td><td>Brain-Substantianigra               </td><td>X </td><td>ENSG00000002586</td><td>0.8717310</td><td>-1.829857</td><td>protein_coding</td><td>+</td><td>X:2691187-2741309   </td><td>6.889279</td><td> -7.024217</td><td>8.507406e-11</td><td>6.761261e-08</td><td> 13.523104</td></tr>\n",
       "\t<tr><th scope=row>3710</th><td>ENSG00000002586.18</td><td>CD99   </td><td>-0.8787479</td><td>3.133556e-49</td><td>lower</td><td>males</td><td>Breast-MammaryTissue                </td><td>X </td><td>ENSG00000002586</td><td>0.8787479</td><td>-1.838779</td><td>protein_coding</td><td>+</td><td>X:2691187-2741309   </td><td>8.068502</td><td>-17.266359</td><td>7.294217e-52</td><td>3.133556e-49</td><td>106.604165</td></tr>\n",
       "\t<tr><th scope=row>3013</th><td>ENSG00000002586.18</td><td>CD99   </td><td>-0.6317738</td><td>2.085925e-11</td><td>lower</td><td>males</td><td>Cells-EBV-transformedlymphocytes    </td><td>X </td><td>ENSG00000002586</td><td>0.6317738</td><td>-1.549469</td><td>protein_coding</td><td>+</td><td>X:2691187-2741309   </td><td>6.581710</td><td> -8.238132</td><td>3.936946e-14</td><td>2.085925e-11</td><td> 20.644734</td></tr>\n",
       "\t<tr><th scope=row>1774</th><td>ENSG00000002586.18</td><td>CD99   </td><td>-0.9060861</td><td>3.554917e-55</td><td>lower</td><td>males</td><td>Pituitary                           </td><td>X </td><td>ENSG00000002586</td><td>0.9060861</td><td>-1.873955</td><td>protein_coding</td><td>+</td><td>X:2691187-2741309   </td><td>7.076471</td><td>-20.550147</td><td>3.802050e-58</td><td>3.554917e-55</td><td>121.396762</td></tr>\n",
       "\t<tr><th scope=row>3810</th><td>ENSG00000003137.8 </td><td>CYP26B1</td><td>-0.7262472</td><td>2.214116e-07</td><td>lower</td><td>males</td><td>Breast-MammaryTissue                </td><td>2 </td><td>ENSG00000003137</td><td>0.7262472</td><td>-1.654330</td><td>protein_coding</td><td>-</td><td>2:72129238-72148038 </td><td>5.009209</td><td> -5.534537</td><td>5.250081e-08</td><td>2.214116e-07</td><td>  6.260380</td></tr>\n",
       "\t<tr><th scope=row>8315</th><td>ENSG00000003249.13</td><td>DBNDD1 </td><td>-0.6024761</td><td>8.778696e-12</td><td>lower</td><td>males</td><td>Muscle-Skeletal                     </td><td>16</td><td>ENSG00000003249</td><td>0.6024761</td><td>-1.518320</td><td>protein_coding</td><td>-</td><td>16:90004871-90020128</td><td>4.816582</td><td> -7.682686</td><td>4.528802e-14</td><td>8.778696e-12</td><td> 19.952574</td></tr>\n",
       "\t<tr><th scope=row>14113</th><td>ENSG00000004468.12</td><td>CD38   </td><td>-0.6625826</td><td>9.976432e-09</td><td>lower</td><td>males</td><td>Muscle-Skeletal                     </td><td>4 </td><td>ENSG00000004468</td><td>0.6625826</td><td>-1.582914</td><td>protein_coding</td><td>+</td><td>4:15778275-15853232 </td><td>3.075049</td><td> -6.574264</td><td>8.787043e-11</td><td>9.976432e-09</td><td> 12.669015</td></tr>\n",
       "</tbody>\n",
       "</table>\n"
      ],
      "text/latex": [
       "A data.frame: 20 × 19\n",
       "\\begin{tabular}{r|lllllllllllllllllll}\n",
       "  & initial\\_gene\\_id & GeneSymbol & logFC & adj.P.Val & abundance & higher\\_in & tissue & Chromosome & gene\\_id & abs\\_logFC & FoldChange\\_dummy & Class & Strand & Chromosomal\\_Position & AveExpr & t & P.Value & adj.P.Val.1 & B\\\\\n",
       "  & <chr> & <fct> & <dbl> & <dbl> & <chr> & <chr> & <chr> & <chr> & <chr> & <dbl> & <dbl> & <fct> & <fct> & <fct> & <dbl> & <dbl> & <dbl> & <dbl> & <dbl>\\\\\n",
       "\\hline\n",
       "\t1278 & ENSG00000000938.12 & FGR     & -0.6591010 & 9.573016e-15 & lower & males & Breast-MammaryTissue                 & 1  & ENSG00000000938 & 0.6591010 & -1.579098 & protein\\_coding & - & 1:27612064-27635185  & 4.869955 &  -8.358498 & 7.600595e-16 & 9.573016e-15 &  23.997831\\\\\n",
       "\t164 & ENSG00000002586.18 & CD99    & -0.7554926 & 1.219094e-56 & lower & males & AdrenalGland                         & X  & ENSG00000002586 & 0.7554926 & -1.688208 & protein\\_coding & + & X:2691187-2741309    & 6.790643 & -21.507695 & 1.227147e-59 & 1.219094e-56 & 124.946642\\\\\n",
       "\t263 & ENSG00000002586.18 & CD99    & -0.8396619 & 5.671851e-08 & lower & males & Brain-Amygdala                       & X  & ENSG00000002586 & 0.8396619 & -1.789631 & protein\\_coding & + & X:2691187-2741309    & 6.061931 &  -6.959005 & 9.277642e-11 & 5.671851e-08 &  13.319868\\\\\n",
       "\t3110 & ENSG00000002586.18 & CD99    & -0.8251388 & 8.691307e-06 & lower & males & Brain-Anteriorcingulatecortex(BA24)  & X  & ENSG00000002586 & 0.8251388 & -1.771705 & protein\\_coding & + & X:2691187-2741309    & 5.849349 &  -5.911720 & 1.695065e-08 & 8.691307e-06 &   8.055779\\\\\n",
       "\t296 & ENSG00000002586.18 & CD99    & -0.7844418 & 6.848737e-12 & lower & males & Brain-Caudate(basalganglia)          & X  & ENSG00000002586 & 0.7844418 & -1.722426 & protein\\_coding & + & X:2691187-2741309    & 6.193285 &  -8.207431 & 1.249534e-14 & 6.848737e-12 &  21.740784\\\\\n",
       "\t586 & ENSG00000002586.18 & CD99    & -0.6014959 & 4.922657e-05 & lower & males & Brain-CerebellarHemisphere           & X  & ENSG00000002586 & 0.6014959 & -1.517289 & protein\\_coding & + & X:2691187-2741309    & 4.786686 &  -5.397579 & 1.765281e-07 & 4.922657e-05 &   5.538343\\\\\n",
       "\t456 & ENSG00000002586.18 & CD99    & -0.6023367 & 4.683570e-08 & lower & males & Brain-Cerebellum                     & X  & ENSG00000002586 & 0.6023367 & -1.518174 & protein\\_coding & + & X:2691187-2741309    & 5.329055 &  -6.718629 & 1.296490e-10 & 4.683570e-08 &  12.328643\\\\\n",
       "\t3210 & ENSG00000002586.18 & CD99    & -0.7089142 & 1.403404e-08 & lower & males & Brain-Cortex                         & X  & ENSG00000002586 & 0.7089142 & -1.634573 & protein\\_coding & + & X:2691187-2741309    & 5.611433 &  -6.960527 & 2.825349e-11 & 1.403404e-08 &  13.940526\\\\\n",
       "\t4111 & ENSG00000002586.18 & CD99    & -0.6126170 & 5.096163e-03 & lower & males & Brain-FrontalCortex(BA9)             & X  & ENSG00000002586 & 0.6126170 & -1.529030 & protein\\_coding & + & X:2691187-2741309    & 5.403716 &  -4.481110 & 1.218334e-05 & 5.096163e-03 &   1.521443\\\\\n",
       "\t248 & ENSG00000002586.18 & CD99    & -0.6726112 & 7.938898e-09 & lower & males & Brain-Hippocampus                    & X  & ENSG00000002586 & 0.6726112 & -1.593955 & protein\\_coding & + & X:2691187-2741309    & 6.044502 &  -7.202599 & 1.198701e-11 & 7.938898e-09 &  15.218684\\\\\n",
       "\t278 & ENSG00000002586.18 & CD99    & -0.6719965 & 6.845070e-08 & lower & males & Brain-Hypothalamus                   & X  & ENSG00000002586 & 0.6719965 & -1.593276 & protein\\_coding & + & X:2691187-2741309    & 6.472639 &  -6.796490 & 1.162736e-10 & 6.845070e-08 &  12.917875\\\\\n",
       "\t2511 & ENSG00000002586.18 & CD99    & -0.8530858 & 1.113055e-12 & lower & males & Brain-Nucleusaccumbens(basalganglia) & X  & ENSG00000002586 & 0.8530858 & -1.806360 & protein\\_coding & + & X:2691187-2741309    & 6.282880 &  -8.504566 & 1.750637e-15 & 1.113055e-12 &  23.723286\\\\\n",
       "\t2613 & ENSG00000002586.18 & CD99    & -0.7969728 & 1.207166e-09 & lower & males & Brain-Putamen(basalganglia)          & X  & ENSG00000002586 & 0.7969728 & -1.737452 & protein\\_coding & + & X:2691187-2741309    & 6.026811 &  -7.490226 & 1.974603e-12 & 1.207166e-09 &  16.876777\\\\\n",
       "\t2115 & ENSG00000002586.18 & CD99    & -0.8717310 & 6.761261e-08 & lower & males & Brain-Substantianigra                & X  & ENSG00000002586 & 0.8717310 & -1.829857 & protein\\_coding & + & X:2691187-2741309    & 6.889279 &  -7.024217 & 8.507406e-11 & 6.761261e-08 &  13.523104\\\\\n",
       "\t3710 & ENSG00000002586.18 & CD99    & -0.8787479 & 3.133556e-49 & lower & males & Breast-MammaryTissue                 & X  & ENSG00000002586 & 0.8787479 & -1.838779 & protein\\_coding & + & X:2691187-2741309    & 8.068502 & -17.266359 & 7.294217e-52 & 3.133556e-49 & 106.604165\\\\\n",
       "\t3013 & ENSG00000002586.18 & CD99    & -0.6317738 & 2.085925e-11 & lower & males & Cells-EBV-transformedlymphocytes     & X  & ENSG00000002586 & 0.6317738 & -1.549469 & protein\\_coding & + & X:2691187-2741309    & 6.581710 &  -8.238132 & 3.936946e-14 & 2.085925e-11 &  20.644734\\\\\n",
       "\t1774 & ENSG00000002586.18 & CD99    & -0.9060861 & 3.554917e-55 & lower & males & Pituitary                            & X  & ENSG00000002586 & 0.9060861 & -1.873955 & protein\\_coding & + & X:2691187-2741309    & 7.076471 & -20.550147 & 3.802050e-58 & 3.554917e-55 & 121.396762\\\\\n",
       "\t3810 & ENSG00000003137.8  & CYP26B1 & -0.7262472 & 2.214116e-07 & lower & males & Breast-MammaryTissue                 & 2  & ENSG00000003137 & 0.7262472 & -1.654330 & protein\\_coding & - & 2:72129238-72148038  & 5.009209 &  -5.534537 & 5.250081e-08 & 2.214116e-07 &   6.260380\\\\\n",
       "\t8315 & ENSG00000003249.13 & DBNDD1  & -0.6024761 & 8.778696e-12 & lower & males & Muscle-Skeletal                      & 16 & ENSG00000003249 & 0.6024761 & -1.518320 & protein\\_coding & - & 16:90004871-90020128 & 4.816582 &  -7.682686 & 4.528802e-14 & 8.778696e-12 &  19.952574\\\\\n",
       "\t14113 & ENSG00000004468.12 & CD38    & -0.6625826 & 9.976432e-09 & lower & males & Muscle-Skeletal                      & 4  & ENSG00000004468 & 0.6625826 & -1.582914 & protein\\_coding & + & 4:15778275-15853232  & 3.075049 &  -6.574264 & 8.787043e-11 & 9.976432e-09 &  12.669015\\\\\n",
       "\\end{tabular}\n"
      ],
      "text/markdown": [
       "\n",
       "A data.frame: 20 × 19\n",
       "\n",
       "| <!--/--> | initial_gene_id &lt;chr&gt; | GeneSymbol &lt;fct&gt; | logFC &lt;dbl&gt; | adj.P.Val &lt;dbl&gt; | abundance &lt;chr&gt; | higher_in &lt;chr&gt; | tissue &lt;chr&gt; | Chromosome &lt;chr&gt; | gene_id &lt;chr&gt; | abs_logFC &lt;dbl&gt; | FoldChange_dummy &lt;dbl&gt; | Class &lt;fct&gt; | Strand &lt;fct&gt; | Chromosomal_Position &lt;fct&gt; | AveExpr &lt;dbl&gt; | t &lt;dbl&gt; | P.Value &lt;dbl&gt; | adj.P.Val.1 &lt;dbl&gt; | B &lt;dbl&gt; |\n",
       "|---|---|---|---|---|---|---|---|---|---|---|---|---|---|---|---|---|---|---|---|\n",
       "| 1278 | ENSG00000000938.12 | FGR     | -0.6591010 | 9.573016e-15 | lower | males | Breast-MammaryTissue                 | 1  | ENSG00000000938 | 0.6591010 | -1.579098 | protein_coding | - | 1:27612064-27635185  | 4.869955 |  -8.358498 | 7.600595e-16 | 9.573016e-15 |  23.997831 |\n",
       "| 164 | ENSG00000002586.18 | CD99    | -0.7554926 | 1.219094e-56 | lower | males | AdrenalGland                         | X  | ENSG00000002586 | 0.7554926 | -1.688208 | protein_coding | + | X:2691187-2741309    | 6.790643 | -21.507695 | 1.227147e-59 | 1.219094e-56 | 124.946642 |\n",
       "| 263 | ENSG00000002586.18 | CD99    | -0.8396619 | 5.671851e-08 | lower | males | Brain-Amygdala                       | X  | ENSG00000002586 | 0.8396619 | -1.789631 | protein_coding | + | X:2691187-2741309    | 6.061931 |  -6.959005 | 9.277642e-11 | 5.671851e-08 |  13.319868 |\n",
       "| 3110 | ENSG00000002586.18 | CD99    | -0.8251388 | 8.691307e-06 | lower | males | Brain-Anteriorcingulatecortex(BA24)  | X  | ENSG00000002586 | 0.8251388 | -1.771705 | protein_coding | + | X:2691187-2741309    | 5.849349 |  -5.911720 | 1.695065e-08 | 8.691307e-06 |   8.055779 |\n",
       "| 296 | ENSG00000002586.18 | CD99    | -0.7844418 | 6.848737e-12 | lower | males | Brain-Caudate(basalganglia)          | X  | ENSG00000002586 | 0.7844418 | -1.722426 | protein_coding | + | X:2691187-2741309    | 6.193285 |  -8.207431 | 1.249534e-14 | 6.848737e-12 |  21.740784 |\n",
       "| 586 | ENSG00000002586.18 | CD99    | -0.6014959 | 4.922657e-05 | lower | males | Brain-CerebellarHemisphere           | X  | ENSG00000002586 | 0.6014959 | -1.517289 | protein_coding | + | X:2691187-2741309    | 4.786686 |  -5.397579 | 1.765281e-07 | 4.922657e-05 |   5.538343 |\n",
       "| 456 | ENSG00000002586.18 | CD99    | -0.6023367 | 4.683570e-08 | lower | males | Brain-Cerebellum                     | X  | ENSG00000002586 | 0.6023367 | -1.518174 | protein_coding | + | X:2691187-2741309    | 5.329055 |  -6.718629 | 1.296490e-10 | 4.683570e-08 |  12.328643 |\n",
       "| 3210 | ENSG00000002586.18 | CD99    | -0.7089142 | 1.403404e-08 | lower | males | Brain-Cortex                         | X  | ENSG00000002586 | 0.7089142 | -1.634573 | protein_coding | + | X:2691187-2741309    | 5.611433 |  -6.960527 | 2.825349e-11 | 1.403404e-08 |  13.940526 |\n",
       "| 4111 | ENSG00000002586.18 | CD99    | -0.6126170 | 5.096163e-03 | lower | males | Brain-FrontalCortex(BA9)             | X  | ENSG00000002586 | 0.6126170 | -1.529030 | protein_coding | + | X:2691187-2741309    | 5.403716 |  -4.481110 | 1.218334e-05 | 5.096163e-03 |   1.521443 |\n",
       "| 248 | ENSG00000002586.18 | CD99    | -0.6726112 | 7.938898e-09 | lower | males | Brain-Hippocampus                    | X  | ENSG00000002586 | 0.6726112 | -1.593955 | protein_coding | + | X:2691187-2741309    | 6.044502 |  -7.202599 | 1.198701e-11 | 7.938898e-09 |  15.218684 |\n",
       "| 278 | ENSG00000002586.18 | CD99    | -0.6719965 | 6.845070e-08 | lower | males | Brain-Hypothalamus                   | X  | ENSG00000002586 | 0.6719965 | -1.593276 | protein_coding | + | X:2691187-2741309    | 6.472639 |  -6.796490 | 1.162736e-10 | 6.845070e-08 |  12.917875 |\n",
       "| 2511 | ENSG00000002586.18 | CD99    | -0.8530858 | 1.113055e-12 | lower | males | Brain-Nucleusaccumbens(basalganglia) | X  | ENSG00000002586 | 0.8530858 | -1.806360 | protein_coding | + | X:2691187-2741309    | 6.282880 |  -8.504566 | 1.750637e-15 | 1.113055e-12 |  23.723286 |\n",
       "| 2613 | ENSG00000002586.18 | CD99    | -0.7969728 | 1.207166e-09 | lower | males | Brain-Putamen(basalganglia)          | X  | ENSG00000002586 | 0.7969728 | -1.737452 | protein_coding | + | X:2691187-2741309    | 6.026811 |  -7.490226 | 1.974603e-12 | 1.207166e-09 |  16.876777 |\n",
       "| 2115 | ENSG00000002586.18 | CD99    | -0.8717310 | 6.761261e-08 | lower | males | Brain-Substantianigra                | X  | ENSG00000002586 | 0.8717310 | -1.829857 | protein_coding | + | X:2691187-2741309    | 6.889279 |  -7.024217 | 8.507406e-11 | 6.761261e-08 |  13.523104 |\n",
       "| 3710 | ENSG00000002586.18 | CD99    | -0.8787479 | 3.133556e-49 | lower | males | Breast-MammaryTissue                 | X  | ENSG00000002586 | 0.8787479 | -1.838779 | protein_coding | + | X:2691187-2741309    | 8.068502 | -17.266359 | 7.294217e-52 | 3.133556e-49 | 106.604165 |\n",
       "| 3013 | ENSG00000002586.18 | CD99    | -0.6317738 | 2.085925e-11 | lower | males | Cells-EBV-transformedlymphocytes     | X  | ENSG00000002586 | 0.6317738 | -1.549469 | protein_coding | + | X:2691187-2741309    | 6.581710 |  -8.238132 | 3.936946e-14 | 2.085925e-11 |  20.644734 |\n",
       "| 1774 | ENSG00000002586.18 | CD99    | -0.9060861 | 3.554917e-55 | lower | males | Pituitary                            | X  | ENSG00000002586 | 0.9060861 | -1.873955 | protein_coding | + | X:2691187-2741309    | 7.076471 | -20.550147 | 3.802050e-58 | 3.554917e-55 | 121.396762 |\n",
       "| 3810 | ENSG00000003137.8  | CYP26B1 | -0.7262472 | 2.214116e-07 | lower | males | Breast-MammaryTissue                 | 2  | ENSG00000003137 | 0.7262472 | -1.654330 | protein_coding | - | 2:72129238-72148038  | 5.009209 |  -5.534537 | 5.250081e-08 | 2.214116e-07 |   6.260380 |\n",
       "| 8315 | ENSG00000003249.13 | DBNDD1  | -0.6024761 | 8.778696e-12 | lower | males | Muscle-Skeletal                      | 16 | ENSG00000003249 | 0.6024761 | -1.518320 | protein_coding | - | 16:90004871-90020128 | 4.816582 |  -7.682686 | 4.528802e-14 | 8.778696e-12 |  19.952574 |\n",
       "| 14113 | ENSG00000004468.12 | CD38    | -0.6625826 | 9.976432e-09 | lower | males | Muscle-Skeletal                      | 4  | ENSG00000004468 | 0.6625826 | -1.582914 | protein_coding | + | 4:15778275-15853232  | 3.075049 |  -6.574264 | 8.787043e-11 | 9.976432e-09 |  12.669015 |\n",
       "\n"
      ],
      "text/plain": [
       "      initial_gene_id    GeneSymbol logFC      adj.P.Val    abundance higher_in\n",
       "1278  ENSG00000000938.12 FGR        -0.6591010 9.573016e-15 lower     males    \n",
       "164   ENSG00000002586.18 CD99       -0.7554926 1.219094e-56 lower     males    \n",
       "263   ENSG00000002586.18 CD99       -0.8396619 5.671851e-08 lower     males    \n",
       "3110  ENSG00000002586.18 CD99       -0.8251388 8.691307e-06 lower     males    \n",
       "296   ENSG00000002586.18 CD99       -0.7844418 6.848737e-12 lower     males    \n",
       "586   ENSG00000002586.18 CD99       -0.6014959 4.922657e-05 lower     males    \n",
       "456   ENSG00000002586.18 CD99       -0.6023367 4.683570e-08 lower     males    \n",
       "3210  ENSG00000002586.18 CD99       -0.7089142 1.403404e-08 lower     males    \n",
       "4111  ENSG00000002586.18 CD99       -0.6126170 5.096163e-03 lower     males    \n",
       "248   ENSG00000002586.18 CD99       -0.6726112 7.938898e-09 lower     males    \n",
       "278   ENSG00000002586.18 CD99       -0.6719965 6.845070e-08 lower     males    \n",
       "2511  ENSG00000002586.18 CD99       -0.8530858 1.113055e-12 lower     males    \n",
       "2613  ENSG00000002586.18 CD99       -0.7969728 1.207166e-09 lower     males    \n",
       "2115  ENSG00000002586.18 CD99       -0.8717310 6.761261e-08 lower     males    \n",
       "3710  ENSG00000002586.18 CD99       -0.8787479 3.133556e-49 lower     males    \n",
       "3013  ENSG00000002586.18 CD99       -0.6317738 2.085925e-11 lower     males    \n",
       "1774  ENSG00000002586.18 CD99       -0.9060861 3.554917e-55 lower     males    \n",
       "3810  ENSG00000003137.8  CYP26B1    -0.7262472 2.214116e-07 lower     males    \n",
       "8315  ENSG00000003249.13 DBNDD1     -0.6024761 8.778696e-12 lower     males    \n",
       "14113 ENSG00000004468.12 CD38       -0.6625826 9.976432e-09 lower     males    \n",
       "      tissue                               Chromosome gene_id         abs_logFC\n",
       "1278  Breast-MammaryTissue                 1          ENSG00000000938 0.6591010\n",
       "164   AdrenalGland                         X          ENSG00000002586 0.7554926\n",
       "263   Brain-Amygdala                       X          ENSG00000002586 0.8396619\n",
       "3110  Brain-Anteriorcingulatecortex(BA24)  X          ENSG00000002586 0.8251388\n",
       "296   Brain-Caudate(basalganglia)          X          ENSG00000002586 0.7844418\n",
       "586   Brain-CerebellarHemisphere           X          ENSG00000002586 0.6014959\n",
       "456   Brain-Cerebellum                     X          ENSG00000002586 0.6023367\n",
       "3210  Brain-Cortex                         X          ENSG00000002586 0.7089142\n",
       "4111  Brain-FrontalCortex(BA9)             X          ENSG00000002586 0.6126170\n",
       "248   Brain-Hippocampus                    X          ENSG00000002586 0.6726112\n",
       "278   Brain-Hypothalamus                   X          ENSG00000002586 0.6719965\n",
       "2511  Brain-Nucleusaccumbens(basalganglia) X          ENSG00000002586 0.8530858\n",
       "2613  Brain-Putamen(basalganglia)          X          ENSG00000002586 0.7969728\n",
       "2115  Brain-Substantianigra                X          ENSG00000002586 0.8717310\n",
       "3710  Breast-MammaryTissue                 X          ENSG00000002586 0.8787479\n",
       "3013  Cells-EBV-transformedlymphocytes     X          ENSG00000002586 0.6317738\n",
       "1774  Pituitary                            X          ENSG00000002586 0.9060861\n",
       "3810  Breast-MammaryTissue                 2          ENSG00000003137 0.7262472\n",
       "8315  Muscle-Skeletal                      16         ENSG00000003249 0.6024761\n",
       "14113 Muscle-Skeletal                      4          ENSG00000004468 0.6625826\n",
       "      FoldChange_dummy Class          Strand Chromosomal_Position AveExpr \n",
       "1278  -1.579098        protein_coding -      1:27612064-27635185  4.869955\n",
       "164   -1.688208        protein_coding +      X:2691187-2741309    6.790643\n",
       "263   -1.789631        protein_coding +      X:2691187-2741309    6.061931\n",
       "3110  -1.771705        protein_coding +      X:2691187-2741309    5.849349\n",
       "296   -1.722426        protein_coding +      X:2691187-2741309    6.193285\n",
       "586   -1.517289        protein_coding +      X:2691187-2741309    4.786686\n",
       "456   -1.518174        protein_coding +      X:2691187-2741309    5.329055\n",
       "3210  -1.634573        protein_coding +      X:2691187-2741309    5.611433\n",
       "4111  -1.529030        protein_coding +      X:2691187-2741309    5.403716\n",
       "248   -1.593955        protein_coding +      X:2691187-2741309    6.044502\n",
       "278   -1.593276        protein_coding +      X:2691187-2741309    6.472639\n",
       "2511  -1.806360        protein_coding +      X:2691187-2741309    6.282880\n",
       "2613  -1.737452        protein_coding +      X:2691187-2741309    6.026811\n",
       "2115  -1.829857        protein_coding +      X:2691187-2741309    6.889279\n",
       "3710  -1.838779        protein_coding +      X:2691187-2741309    8.068502\n",
       "3013  -1.549469        protein_coding +      X:2691187-2741309    6.581710\n",
       "1774  -1.873955        protein_coding +      X:2691187-2741309    7.076471\n",
       "3810  -1.654330        protein_coding -      2:72129238-72148038  5.009209\n",
       "8315  -1.518320        protein_coding -      16:90004871-90020128 4.816582\n",
       "14113 -1.582914        protein_coding +      4:15778275-15853232  3.075049\n",
       "      t          P.Value      adj.P.Val.1  B         \n",
       "1278   -8.358498 7.600595e-16 9.573016e-15  23.997831\n",
       "164   -21.507695 1.227147e-59 1.219094e-56 124.946642\n",
       "263    -6.959005 9.277642e-11 5.671851e-08  13.319868\n",
       "3110   -5.911720 1.695065e-08 8.691307e-06   8.055779\n",
       "296    -8.207431 1.249534e-14 6.848737e-12  21.740784\n",
       "586    -5.397579 1.765281e-07 4.922657e-05   5.538343\n",
       "456    -6.718629 1.296490e-10 4.683570e-08  12.328643\n",
       "3210   -6.960527 2.825349e-11 1.403404e-08  13.940526\n",
       "4111   -4.481110 1.218334e-05 5.096163e-03   1.521443\n",
       "248    -7.202599 1.198701e-11 7.938898e-09  15.218684\n",
       "278    -6.796490 1.162736e-10 6.845070e-08  12.917875\n",
       "2511   -8.504566 1.750637e-15 1.113055e-12  23.723286\n",
       "2613   -7.490226 1.974603e-12 1.207166e-09  16.876777\n",
       "2115   -7.024217 8.507406e-11 6.761261e-08  13.523104\n",
       "3710  -17.266359 7.294217e-52 3.133556e-49 106.604165\n",
       "3013   -8.238132 3.936946e-14 2.085925e-11  20.644734\n",
       "1774  -20.550147 3.802050e-58 3.554917e-55 121.396762\n",
       "3810   -5.534537 5.250081e-08 2.214116e-07   6.260380\n",
       "8315   -7.682686 4.528802e-14 8.778696e-12  19.952574\n",
       "14113  -6.574264 8.787043e-11 9.976432e-09  12.669015"
      ]
     },
     "metadata": {},
     "output_type": "display_data"
    }
   ],
   "source": [
    "dim(signif_per_tissue[ signif_per_tissue$initial_gene_id %in% male_biased[! (male_biased %in% intersect)],  ])\n",
    "\n",
    "only_male_genes <- signif_per_tissue[ signif_per_tissue$initial_gene_id %in% (male_biased[! (male_biased %in% intersect)]) ,  ]\n",
    "\n",
    "head(only_male_genes[ order(only_male_genes$initial_gene_id ), ], 20)"
   ]
  },
  {
   "cell_type": "code",
   "execution_count": 33,
   "metadata": {},
   "outputs": [
    {
     "name": "stderr",
     "output_type": "stream",
     "text": [
      "Warning message:\n",
      "“Factor `GeneSymbol` contains implicit NA, consider using `forcats::fct_explicit_na`”\n",
      "Warning message:\n",
      "“Factor `Class` contains implicit NA, consider using `forcats::fct_explicit_na`”\n",
      "Warning message:\n",
      "“Factor `GeneSymbol` contains implicit NA, consider using `forcats::fct_explicit_na`”\n"
     ]
    },
    {
     "data": {
      "text/html": [
       "<table>\n",
       "<caption>A tibble: 20 × 4</caption>\n",
       "<thead>\n",
       "\t<tr><th scope=col>gene_id</th><th scope=col>GeneSymbol</th><th scope=col>Class</th><th scope=col>n</th></tr>\n",
       "\t<tr><th scope=col>&lt;chr&gt;</th><th scope=col>&lt;fct&gt;</th><th scope=col>&lt;fct&gt;</th><th scope=col>&lt;int&gt;</th></tr>\n",
       "</thead>\n",
       "<tbody>\n",
       "\t<tr><td>ENSG00000012817</td><td>KDM5D     </td><td>protein_coding                    </td><td>45</td></tr>\n",
       "\t<tr><td>ENSG00000067048</td><td>DDX3Y     </td><td>protein_coding                    </td><td>45</td></tr>\n",
       "\t<tr><td>ENSG00000067646</td><td>ZFY       </td><td>protein_coding                    </td><td>45</td></tr>\n",
       "\t<tr><td>ENSG00000099725</td><td>PRKY      </td><td>protein_coding                    </td><td>45</td></tr>\n",
       "\t<tr><td>ENSG00000114374</td><td>USP9Y     </td><td>protein_coding                    </td><td>45</td></tr>\n",
       "\t<tr><td>ENSG00000129824</td><td>RPS4Y1    </td><td>protein_coding                    </td><td>45</td></tr>\n",
       "\t<tr><td>ENSG00000131002</td><td>TXLNGY    </td><td>transcribed_unprocessed_pseudogene</td><td>45</td></tr>\n",
       "\t<tr><td>ENSG00000154620</td><td>TMSB4Y    </td><td>protein_coding                    </td><td>45</td></tr>\n",
       "\t<tr><td>ENSG00000165246</td><td>NLGN4Y    </td><td>protein_coding                    </td><td>45</td></tr>\n",
       "\t<tr><td>ENSG00000176728</td><td>TTTY14    </td><td>lncRNA                            </td><td>45</td></tr>\n",
       "\t<tr><td>ENSG00000183878</td><td>UTY       </td><td>protein_coding                    </td><td>45</td></tr>\n",
       "\t<tr><td>ENSG00000198692</td><td>EIF1AY    </td><td>protein_coding                    </td><td>45</td></tr>\n",
       "\t<tr><td>ENSG00000233864</td><td>NA        </td><td>NA                                </td><td>45</td></tr>\n",
       "\t<tr><td>ENSG00000260197</td><td>AC010889.1</td><td>lncRNA                            </td><td>45</td></tr>\n",
       "\t<tr><td>ENSG00000205611</td><td>LINC01597 </td><td>lncRNA                            </td><td>44</td></tr>\n",
       "\t<tr><td>ENSG00000080007</td><td>DDX43     </td><td>protein_coding                    </td><td>42</td></tr>\n",
       "\t<tr><td>ENSG00000258484</td><td>SPESP1    </td><td>protein_coding                    </td><td>35</td></tr>\n",
       "\t<tr><td>ENSG00000002586</td><td>CD99      </td><td>protein_coding                    </td><td>16</td></tr>\n",
       "\t<tr><td>ENSG00000149531</td><td>FRG1BP    </td><td>unprocessed_pseudogene            </td><td>15</td></tr>\n",
       "\t<tr><td>ENSG00000189223</td><td>PAX8-AS1  </td><td>lncRNA                            </td><td>15</td></tr>\n",
       "</tbody>\n",
       "</table>\n"
      ],
      "text/latex": [
       "A tibble: 20 × 4\n",
       "\\begin{tabular}{llll}\n",
       " gene\\_id & GeneSymbol & Class & n\\\\\n",
       " <chr> & <fct> & <fct> & <int>\\\\\n",
       "\\hline\n",
       "\t ENSG00000012817 & KDM5D      & protein\\_coding                     & 45\\\\\n",
       "\t ENSG00000067048 & DDX3Y      & protein\\_coding                     & 45\\\\\n",
       "\t ENSG00000067646 & ZFY        & protein\\_coding                     & 45\\\\\n",
       "\t ENSG00000099725 & PRKY       & protein\\_coding                     & 45\\\\\n",
       "\t ENSG00000114374 & USP9Y      & protein\\_coding                     & 45\\\\\n",
       "\t ENSG00000129824 & RPS4Y1     & protein\\_coding                     & 45\\\\\n",
       "\t ENSG00000131002 & TXLNGY     & transcribed\\_unprocessed\\_pseudogene & 45\\\\\n",
       "\t ENSG00000154620 & TMSB4Y     & protein\\_coding                     & 45\\\\\n",
       "\t ENSG00000165246 & NLGN4Y     & protein\\_coding                     & 45\\\\\n",
       "\t ENSG00000176728 & TTTY14     & lncRNA                             & 45\\\\\n",
       "\t ENSG00000183878 & UTY        & protein\\_coding                     & 45\\\\\n",
       "\t ENSG00000198692 & EIF1AY     & protein\\_coding                     & 45\\\\\n",
       "\t ENSG00000233864 & NA         & NA                                 & 45\\\\\n",
       "\t ENSG00000260197 & AC010889.1 & lncRNA                             & 45\\\\\n",
       "\t ENSG00000205611 & LINC01597  & lncRNA                             & 44\\\\\n",
       "\t ENSG00000080007 & DDX43      & protein\\_coding                     & 42\\\\\n",
       "\t ENSG00000258484 & SPESP1     & protein\\_coding                     & 35\\\\\n",
       "\t ENSG00000002586 & CD99       & protein\\_coding                     & 16\\\\\n",
       "\t ENSG00000149531 & FRG1BP     & unprocessed\\_pseudogene             & 15\\\\\n",
       "\t ENSG00000189223 & PAX8-AS1   & lncRNA                             & 15\\\\\n",
       "\\end{tabular}\n"
      ],
      "text/markdown": [
       "\n",
       "A tibble: 20 × 4\n",
       "\n",
       "| gene_id &lt;chr&gt; | GeneSymbol &lt;fct&gt; | Class &lt;fct&gt; | n &lt;int&gt; |\n",
       "|---|---|---|---|\n",
       "| ENSG00000012817 | KDM5D      | protein_coding                     | 45 |\n",
       "| ENSG00000067048 | DDX3Y      | protein_coding                     | 45 |\n",
       "| ENSG00000067646 | ZFY        | protein_coding                     | 45 |\n",
       "| ENSG00000099725 | PRKY       | protein_coding                     | 45 |\n",
       "| ENSG00000114374 | USP9Y      | protein_coding                     | 45 |\n",
       "| ENSG00000129824 | RPS4Y1     | protein_coding                     | 45 |\n",
       "| ENSG00000131002 | TXLNGY     | transcribed_unprocessed_pseudogene | 45 |\n",
       "| ENSG00000154620 | TMSB4Y     | protein_coding                     | 45 |\n",
       "| ENSG00000165246 | NLGN4Y     | protein_coding                     | 45 |\n",
       "| ENSG00000176728 | TTTY14     | lncRNA                             | 45 |\n",
       "| ENSG00000183878 | UTY        | protein_coding                     | 45 |\n",
       "| ENSG00000198692 | EIF1AY     | protein_coding                     | 45 |\n",
       "| ENSG00000233864 | NA         | NA                                 | 45 |\n",
       "| ENSG00000260197 | AC010889.1 | lncRNA                             | 45 |\n",
       "| ENSG00000205611 | LINC01597  | lncRNA                             | 44 |\n",
       "| ENSG00000080007 | DDX43      | protein_coding                     | 42 |\n",
       "| ENSG00000258484 | SPESP1     | protein_coding                     | 35 |\n",
       "| ENSG00000002586 | CD99       | protein_coding                     | 16 |\n",
       "| ENSG00000149531 | FRG1BP     | unprocessed_pseudogene             | 15 |\n",
       "| ENSG00000189223 | PAX8-AS1   | lncRNA                             | 15 |\n",
       "\n"
      ],
      "text/plain": [
       "   gene_id         GeneSymbol Class                              n \n",
       "1  ENSG00000012817 KDM5D      protein_coding                     45\n",
       "2  ENSG00000067048 DDX3Y      protein_coding                     45\n",
       "3  ENSG00000067646 ZFY        protein_coding                     45\n",
       "4  ENSG00000099725 PRKY       protein_coding                     45\n",
       "5  ENSG00000114374 USP9Y      protein_coding                     45\n",
       "6  ENSG00000129824 RPS4Y1     protein_coding                     45\n",
       "7  ENSG00000131002 TXLNGY     transcribed_unprocessed_pseudogene 45\n",
       "8  ENSG00000154620 TMSB4Y     protein_coding                     45\n",
       "9  ENSG00000165246 NLGN4Y     protein_coding                     45\n",
       "10 ENSG00000176728 TTTY14     lncRNA                             45\n",
       "11 ENSG00000183878 UTY        protein_coding                     45\n",
       "12 ENSG00000198692 EIF1AY     protein_coding                     45\n",
       "13 ENSG00000233864 NA         NA                                 45\n",
       "14 ENSG00000260197 AC010889.1 lncRNA                             45\n",
       "15 ENSG00000205611 LINC01597  lncRNA                             44\n",
       "16 ENSG00000080007 DDX43      protein_coding                     42\n",
       "17 ENSG00000258484 SPESP1     protein_coding                     35\n",
       "18 ENSG00000002586 CD99       protein_coding                     16\n",
       "19 ENSG00000149531 FRG1BP     unprocessed_pseudogene             15\n",
       "20 ENSG00000189223 PAX8-AS1   lncRNA                             15"
      ]
     },
     "metadata": {},
     "output_type": "display_data"
    }
   ],
   "source": [
    "only_male_genes %>% \n",
    "    count(gene_id, GeneSymbol, Class, sort = TRUE) %>%\n",
    "    head(20)"
   ]
  },
  {
   "cell_type": "markdown",
   "metadata": {},
   "source": [
    "## Significantly higher only in females"
   ]
  },
  {
   "cell_type": "code",
   "execution_count": 34,
   "metadata": {},
   "outputs": [
    {
     "data": {
      "text/html": [
       "<table>\n",
       "<caption>A data.frame: 20 × 19</caption>\n",
       "<thead>\n",
       "\t<tr><th></th><th scope=col>initial_gene_id</th><th scope=col>GeneSymbol</th><th scope=col>logFC</th><th scope=col>adj.P.Val</th><th scope=col>abundance</th><th scope=col>higher_in</th><th scope=col>tissue</th><th scope=col>Chromosome</th><th scope=col>gene_id</th><th scope=col>abs_logFC</th><th scope=col>FoldChange_dummy</th><th scope=col>Class</th><th scope=col>Strand</th><th scope=col>Chromosomal_Position</th><th scope=col>AveExpr</th><th scope=col>t</th><th scope=col>P.Value</th><th scope=col>adj.P.Val.1</th><th scope=col>B</th></tr>\n",
       "\t<tr><th></th><th scope=col>&lt;chr&gt;</th><th scope=col>&lt;fct&gt;</th><th scope=col>&lt;dbl&gt;</th><th scope=col>&lt;dbl&gt;</th><th scope=col>&lt;chr&gt;</th><th scope=col>&lt;chr&gt;</th><th scope=col>&lt;chr&gt;</th><th scope=col>&lt;chr&gt;</th><th scope=col>&lt;chr&gt;</th><th scope=col>&lt;dbl&gt;</th><th scope=col>&lt;dbl&gt;</th><th scope=col>&lt;fct&gt;</th><th scope=col>&lt;fct&gt;</th><th scope=col>&lt;fct&gt;</th><th scope=col>&lt;dbl&gt;</th><th scope=col>&lt;dbl&gt;</th><th scope=col>&lt;dbl&gt;</th><th scope=col>&lt;dbl&gt;</th><th scope=col>&lt;dbl&gt;</th></tr>\n",
       "</thead>\n",
       "<tbody>\n",
       "\t<tr><th scope=row>8291</th><td>ENSG00000003096.14</td><td>KLHL13 </td><td>1.0575276</td><td> 5.849918e-18</td><td>higher</td><td>females</td><td>Breast-MammaryTissue                </td><td>X </td><td>ENSG00000003096</td><td>1.0575276</td><td>2.081362</td><td>protein_coding</td><td>-</td><td>X:117897813-118117340</td><td>3.071957</td><td> 9.379033</td><td> 3.047331e-19</td><td> 5.849918e-18</td><td> 31.967423</td></tr>\n",
       "\t<tr><th scope=row>2121</th><td>ENSG00000005187.11</td><td>ACSM3  </td><td>1.7420707</td><td> 6.241747e-30</td><td>higher</td><td>females</td><td>Breast-MammaryTissue                </td><td>16</td><td>ENSG00000005187</td><td>1.7420707</td><td>3.345150</td><td>protein_coding</td><td>+</td><td>16:20610243-20797581 </td><td>1.753435</td><td>12.678403</td><td> 8.442753e-32</td><td> 6.241747e-30</td><td> 60.890589</td></tr>\n",
       "\t<tr><th scope=row>3284</th><td>ENSG00000005379.15</td><td>TSPOAP1</td><td>0.8048674</td><td> 2.635769e-08</td><td>higher</td><td>females</td><td>Breast-MammaryTissue                </td><td>17</td><td>ENSG00000005379</td><td>0.8048674</td><td>1.746985</td><td>protein_coding</td><td>-</td><td>17:58301228-58328795 </td><td>4.816506</td><td> 5.948486</td><td> 5.364399e-09</td><td> 2.635769e-08</td><td>  8.472351</td></tr>\n",
       "\t<tr><th scope=row>7431</th><td>ENSG00000005513.9 </td><td>SOX8   </td><td>1.0248677</td><td> 1.091262e-18</td><td>higher</td><td>females</td><td>Breast-MammaryTissue                </td><td>16</td><td>ENSG00000005513</td><td>1.0248677</td><td>2.034773</td><td>protein_coding</td><td>+</td><td>16:981770-986979     </td><td>1.961977</td><td> 9.601016</td><td> 5.135350e-20</td><td> 1.091262e-18</td><td> 33.928616</td></tr>\n",
       "\t<tr><th scope=row>19</th><td>ENSG00000005889.15</td><td>ZFX    </td><td>0.6387585</td><td> 8.312326e-49</td><td>higher</td><td>females</td><td>AdrenalGland                        </td><td>X </td><td>ENSG00000005889</td><td>0.6387585</td><td>1.556989</td><td>protein_coding</td><td>+</td><td>X:24149173-24216255  </td><td>4.692241</td><td>19.191837</td><td> 9.936093e-52</td><td> 8.312326e-49</td><td>106.759601</td></tr>\n",
       "\t<tr><th scope=row>173</th><td>ENSG00000005889.15</td><td>ZFX    </td><td>0.6694278</td><td> 1.284379e-85</td><td>higher</td><td>females</td><td>Artery-Aorta                        </td><td>X </td><td>ENSG00000005889</td><td>0.6694278</td><td>1.590442</td><td>protein_coding</td><td>+</td><td>X:24149173-24216255  </td><td>4.987225</td><td>25.563606</td><td> 1.373667e-88</td><td> 1.284379e-85</td><td>191.042078</td></tr>\n",
       "\t<tr><th scope=row>167</th><td>ENSG00000005889.15</td><td>ZFX    </td><td>0.6289844</td><td> 2.162584e-59</td><td>higher</td><td>females</td><td>Artery-Coronary                     </td><td>X </td><td>ENSG00000005889</td><td>0.6289844</td><td>1.546476</td><td>protein_coding</td><td>+</td><td>X:24149173-24216255  </td><td>5.138006</td><td>22.882636</td><td> 2.176870e-62</td><td> 2.162584e-59</td><td>131.375327</td></tr>\n",
       "\t<tr><th scope=row>176</th><td>ENSG00000005889.15</td><td>ZFX    </td><td>0.6581554</td><td>6.019839e-122</td><td>higher</td><td>females</td><td>Artery-Tibial                       </td><td>X </td><td>ENSG00000005889</td><td>0.6581554</td><td>1.578064</td><td>protein_coding</td><td>+</td><td>X:24149173-24216255  </td><td>5.168209</td><td>29.859299</td><td>6.438331e-125</td><td>6.019839e-122</td><td>274.344358</td></tr>\n",
       "\t<tr><th scope=row>1610</th><td>ENSG00000005889.15</td><td>ZFX    </td><td>0.6368501</td><td> 1.684832e-17</td><td>higher</td><td>females</td><td>Brain-Amygdala                      </td><td>X </td><td>ENSG00000005889</td><td>0.6368501</td><td>1.554931</td><td>protein_coding</td><td>+</td><td>X:24149173-24216255  </td><td>3.944298</td><td>10.763468</td><td> 1.695961e-20</td><td> 1.684832e-17</td><td> 35.535455</td></tr>\n",
       "\t<tr><th scope=row>1710</th><td>ENSG00000005889.15</td><td>ZFX    </td><td>0.6756728</td><td> 3.516380e-21</td><td>higher</td><td>females</td><td>Brain-Anteriorcingulatecortex(BA24) </td><td>X </td><td>ENSG00000005889</td><td>0.6756728</td><td>1.597342</td><td>protein_coding</td><td>+</td><td>X:24149173-24216255  </td><td>3.801055</td><td>11.814815</td><td> 3.760834e-24</td><td> 3.516380e-21</td><td> 43.792574</td></tr>\n",
       "\t<tr><th scope=row>192</th><td>ENSG00000005889.15</td><td>ZFX    </td><td>0.6569828</td><td> 2.664686e-34</td><td>higher</td><td>females</td><td>Brain-Caudate(basalganglia)         </td><td>X </td><td>ENSG00000005889</td><td>0.6569828</td><td>1.576782</td><td>protein_coding</td><td>+</td><td>X:24149173-24216255  </td><td>4.106242</td><td>15.176708</td><td> 3.185218e-37</td><td> 2.664686e-34</td><td> 73.510051</td></tr>\n",
       "\t<tr><th scope=row>1615</th><td>ENSG00000005889.15</td><td>ZFX    </td><td>0.6623810</td><td> 1.274595e-41</td><td>higher</td><td>females</td><td>Brain-Cortex                        </td><td>X </td><td>ENSG00000005889</td><td>0.6623810</td><td>1.582693</td><td>protein_coding</td><td>+</td><td>X:24149173-24216255  </td><td>3.854225</td><td>17.195124</td><td> 1.283015e-44</td><td> 1.274595e-41</td><td> 90.406988</td></tr>\n",
       "\t<tr><th scope=row>1616</th><td>ENSG00000005889.15</td><td>ZFX    </td><td>0.7053366</td><td> 6.862353e-30</td><td>higher</td><td>females</td><td>Brain-FrontalCortex(BA9)            </td><td>X </td><td>ENSG00000005889</td><td>0.7053366</td><td>1.630525</td><td>protein_coding</td><td>+</td><td>X:24149173-24216255  </td><td>3.898374</td><td>14.304395</td><td> 6.907684e-33</td><td> 6.862353e-30</td><td> 63.687700</td></tr>\n",
       "\t<tr><th scope=row>1813</th><td>ENSG00000005889.15</td><td>ZFX    </td><td>0.7202094</td><td> 2.982783e-24</td><td>higher</td><td>females</td><td>Brain-Hippocampus                   </td><td>X </td><td>ENSG00000005889</td><td>0.7202094</td><td>1.647421</td><td>protein_coding</td><td>+</td><td>X:24149173-24216255  </td><td>3.890934</td><td>12.619871</td><td> 3.377798e-27</td><td> 2.982783e-24</td><td> 50.753469</td></tr>\n",
       "\t<tr><th scope=row>1618</th><td>ENSG00000005889.15</td><td>ZFX    </td><td>0.7087839</td><td> 1.254343e-25</td><td>higher</td><td>females</td><td>Brain-Hypothalamus                  </td><td>X </td><td>ENSG00000005889</td><td>0.7087839</td><td>1.634426</td><td>protein_coding</td><td>+</td><td>X:24149173-24216255  </td><td>3.999922</td><td>13.030147</td><td> 1.262629e-28</td><td> 1.254343e-25</td><td> 53.991502</td></tr>\n",
       "\t<tr><th scope=row>1620</th><td>ENSG00000005889.15</td><td>ZFX    </td><td>0.6220163</td><td> 1.456290e-37</td><td>higher</td><td>females</td><td>Brain-Nucleusaccumbens(basalganglia)</td><td>X </td><td>ENSG00000005889</td><td>0.6220163</td><td>1.539025</td><td>protein_coding</td><td>+</td><td>X:24149173-24216255  </td><td>4.023881</td><td>16.147573</td><td> 1.465910e-40</td><td> 1.456290e-37</td><td> 81.215720</td></tr>\n",
       "\t<tr><th scope=row>1623</th><td>ENSG00000005889.15</td><td>ZFX    </td><td>0.7188257</td><td> 2.882613e-29</td><td>higher</td><td>females</td><td>Brain-Putamen(basalganglia)         </td><td>X </td><td>ENSG00000005889</td><td>0.7188257</td><td>1.645842</td><td>protein_coding</td><td>+</td><td>X:24149173-24216255  </td><td>3.876198</td><td>14.161328</td><td> 2.901655e-32</td><td> 2.882613e-29</td><td> 62.291103</td></tr>\n",
       "\t<tr><th scope=row>1624</th><td>ENSG00000005889.15</td><td>ZFX    </td><td>0.6420268</td><td> 1.065198e-33</td><td>higher</td><td>females</td><td>Brain-Spinalcord(cervicalc-1)       </td><td>X </td><td>ENSG00000005889</td><td>0.6420268</td><td>1.560520</td><td>protein_coding</td><td>+</td><td>X:24149173-24216255  </td><td>4.237075</td><td>16.613152</td><td> 1.072234e-36</td><td> 1.065198e-33</td><td> 72.616595</td></tr>\n",
       "\t<tr><th scope=row>1718</th><td>ENSG00000005889.15</td><td>ZFX    </td><td>0.6023713</td><td> 1.566847e-15</td><td>higher</td><td>females</td><td>Brain-Substantianigra               </td><td>X </td><td>ENSG00000005889</td><td>0.6023713</td><td>1.518210</td><td>protein_coding</td><td>+</td><td>X:24149173-24216255  </td><td>3.990505</td><td>10.151062</td><td> 1.675772e-18</td><td> 1.566847e-15</td><td> 31.070690</td></tr>\n",
       "\t<tr><th scope=row>1816</th><td>ENSG00000005889.15</td><td>ZFX    </td><td>0.6298076</td><td> 3.009259e-84</td><td>higher</td><td>females</td><td>Cells-Culturedfibroblasts           </td><td>X </td><td>ENSG00000005889</td><td>0.6298076</td><td>1.547359</td><td>protein_coding</td><td>+</td><td>X:24149173-24216255  </td><td>5.337890</td><td>24.345281</td><td> 3.407779e-87</td><td> 3.009259e-84</td><td>187.731472</td></tr>\n",
       "</tbody>\n",
       "</table>\n"
      ],
      "text/latex": [
       "A data.frame: 20 × 19\n",
       "\\begin{tabular}{r|lllllllllllllllllll}\n",
       "  & initial\\_gene\\_id & GeneSymbol & logFC & adj.P.Val & abundance & higher\\_in & tissue & Chromosome & gene\\_id & abs\\_logFC & FoldChange\\_dummy & Class & Strand & Chromosomal\\_Position & AveExpr & t & P.Value & adj.P.Val.1 & B\\\\\n",
       "  & <chr> & <fct> & <dbl> & <dbl> & <chr> & <chr> & <chr> & <chr> & <chr> & <dbl> & <dbl> & <fct> & <fct> & <fct> & <dbl> & <dbl> & <dbl> & <dbl> & <dbl>\\\\\n",
       "\\hline\n",
       "\t8291 & ENSG00000003096.14 & KLHL13  & 1.0575276 &  5.849918e-18 & higher & females & Breast-MammaryTissue                 & X  & ENSG00000003096 & 1.0575276 & 2.081362 & protein\\_coding & - & X:117897813-118117340 & 3.071957 &  9.379033 &  3.047331e-19 &  5.849918e-18 &  31.967423\\\\\n",
       "\t2121 & ENSG00000005187.11 & ACSM3   & 1.7420707 &  6.241747e-30 & higher & females & Breast-MammaryTissue                 & 16 & ENSG00000005187 & 1.7420707 & 3.345150 & protein\\_coding & + & 16:20610243-20797581  & 1.753435 & 12.678403 &  8.442753e-32 &  6.241747e-30 &  60.890589\\\\\n",
       "\t3284 & ENSG00000005379.15 & TSPOAP1 & 0.8048674 &  2.635769e-08 & higher & females & Breast-MammaryTissue                 & 17 & ENSG00000005379 & 0.8048674 & 1.746985 & protein\\_coding & - & 17:58301228-58328795  & 4.816506 &  5.948486 &  5.364399e-09 &  2.635769e-08 &   8.472351\\\\\n",
       "\t7431 & ENSG00000005513.9  & SOX8    & 1.0248677 &  1.091262e-18 & higher & females & Breast-MammaryTissue                 & 16 & ENSG00000005513 & 1.0248677 & 2.034773 & protein\\_coding & + & 16:981770-986979      & 1.961977 &  9.601016 &  5.135350e-20 &  1.091262e-18 &  33.928616\\\\\n",
       "\t19 & ENSG00000005889.15 & ZFX     & 0.6387585 &  8.312326e-49 & higher & females & AdrenalGland                         & X  & ENSG00000005889 & 0.6387585 & 1.556989 & protein\\_coding & + & X:24149173-24216255   & 4.692241 & 19.191837 &  9.936093e-52 &  8.312326e-49 & 106.759601\\\\\n",
       "\t173 & ENSG00000005889.15 & ZFX     & 0.6694278 &  1.284379e-85 & higher & females & Artery-Aorta                         & X  & ENSG00000005889 & 0.6694278 & 1.590442 & protein\\_coding & + & X:24149173-24216255   & 4.987225 & 25.563606 &  1.373667e-88 &  1.284379e-85 & 191.042078\\\\\n",
       "\t167 & ENSG00000005889.15 & ZFX     & 0.6289844 &  2.162584e-59 & higher & females & Artery-Coronary                      & X  & ENSG00000005889 & 0.6289844 & 1.546476 & protein\\_coding & + & X:24149173-24216255   & 5.138006 & 22.882636 &  2.176870e-62 &  2.162584e-59 & 131.375327\\\\\n",
       "\t176 & ENSG00000005889.15 & ZFX     & 0.6581554 & 6.019839e-122 & higher & females & Artery-Tibial                        & X  & ENSG00000005889 & 0.6581554 & 1.578064 & protein\\_coding & + & X:24149173-24216255   & 5.168209 & 29.859299 & 6.438331e-125 & 6.019839e-122 & 274.344358\\\\\n",
       "\t1610 & ENSG00000005889.15 & ZFX     & 0.6368501 &  1.684832e-17 & higher & females & Brain-Amygdala                       & X  & ENSG00000005889 & 0.6368501 & 1.554931 & protein\\_coding & + & X:24149173-24216255   & 3.944298 & 10.763468 &  1.695961e-20 &  1.684832e-17 &  35.535455\\\\\n",
       "\t1710 & ENSG00000005889.15 & ZFX     & 0.6756728 &  3.516380e-21 & higher & females & Brain-Anteriorcingulatecortex(BA24)  & X  & ENSG00000005889 & 0.6756728 & 1.597342 & protein\\_coding & + & X:24149173-24216255   & 3.801055 & 11.814815 &  3.760834e-24 &  3.516380e-21 &  43.792574\\\\\n",
       "\t192 & ENSG00000005889.15 & ZFX     & 0.6569828 &  2.664686e-34 & higher & females & Brain-Caudate(basalganglia)          & X  & ENSG00000005889 & 0.6569828 & 1.576782 & protein\\_coding & + & X:24149173-24216255   & 4.106242 & 15.176708 &  3.185218e-37 &  2.664686e-34 &  73.510051\\\\\n",
       "\t1615 & ENSG00000005889.15 & ZFX     & 0.6623810 &  1.274595e-41 & higher & females & Brain-Cortex                         & X  & ENSG00000005889 & 0.6623810 & 1.582693 & protein\\_coding & + & X:24149173-24216255   & 3.854225 & 17.195124 &  1.283015e-44 &  1.274595e-41 &  90.406988\\\\\n",
       "\t1616 & ENSG00000005889.15 & ZFX     & 0.7053366 &  6.862353e-30 & higher & females & Brain-FrontalCortex(BA9)             & X  & ENSG00000005889 & 0.7053366 & 1.630525 & protein\\_coding & + & X:24149173-24216255   & 3.898374 & 14.304395 &  6.907684e-33 &  6.862353e-30 &  63.687700\\\\\n",
       "\t1813 & ENSG00000005889.15 & ZFX     & 0.7202094 &  2.982783e-24 & higher & females & Brain-Hippocampus                    & X  & ENSG00000005889 & 0.7202094 & 1.647421 & protein\\_coding & + & X:24149173-24216255   & 3.890934 & 12.619871 &  3.377798e-27 &  2.982783e-24 &  50.753469\\\\\n",
       "\t1618 & ENSG00000005889.15 & ZFX     & 0.7087839 &  1.254343e-25 & higher & females & Brain-Hypothalamus                   & X  & ENSG00000005889 & 0.7087839 & 1.634426 & protein\\_coding & + & X:24149173-24216255   & 3.999922 & 13.030147 &  1.262629e-28 &  1.254343e-25 &  53.991502\\\\\n",
       "\t1620 & ENSG00000005889.15 & ZFX     & 0.6220163 &  1.456290e-37 & higher & females & Brain-Nucleusaccumbens(basalganglia) & X  & ENSG00000005889 & 0.6220163 & 1.539025 & protein\\_coding & + & X:24149173-24216255   & 4.023881 & 16.147573 &  1.465910e-40 &  1.456290e-37 &  81.215720\\\\\n",
       "\t1623 & ENSG00000005889.15 & ZFX     & 0.7188257 &  2.882613e-29 & higher & females & Brain-Putamen(basalganglia)          & X  & ENSG00000005889 & 0.7188257 & 1.645842 & protein\\_coding & + & X:24149173-24216255   & 3.876198 & 14.161328 &  2.901655e-32 &  2.882613e-29 &  62.291103\\\\\n",
       "\t1624 & ENSG00000005889.15 & ZFX     & 0.6420268 &  1.065198e-33 & higher & females & Brain-Spinalcord(cervicalc-1)        & X  & ENSG00000005889 & 0.6420268 & 1.560520 & protein\\_coding & + & X:24149173-24216255   & 4.237075 & 16.613152 &  1.072234e-36 &  1.065198e-33 &  72.616595\\\\\n",
       "\t1718 & ENSG00000005889.15 & ZFX     & 0.6023713 &  1.566847e-15 & higher & females & Brain-Substantianigra                & X  & ENSG00000005889 & 0.6023713 & 1.518210 & protein\\_coding & + & X:24149173-24216255   & 3.990505 & 10.151062 &  1.675772e-18 &  1.566847e-15 &  31.070690\\\\\n",
       "\t1816 & ENSG00000005889.15 & ZFX     & 0.6298076 &  3.009259e-84 & higher & females & Cells-Culturedfibroblasts            & X  & ENSG00000005889 & 0.6298076 & 1.547359 & protein\\_coding & + & X:24149173-24216255   & 5.337890 & 24.345281 &  3.407779e-87 &  3.009259e-84 & 187.731472\\\\\n",
       "\\end{tabular}\n"
      ],
      "text/markdown": [
       "\n",
       "A data.frame: 20 × 19\n",
       "\n",
       "| <!--/--> | initial_gene_id &lt;chr&gt; | GeneSymbol &lt;fct&gt; | logFC &lt;dbl&gt; | adj.P.Val &lt;dbl&gt; | abundance &lt;chr&gt; | higher_in &lt;chr&gt; | tissue &lt;chr&gt; | Chromosome &lt;chr&gt; | gene_id &lt;chr&gt; | abs_logFC &lt;dbl&gt; | FoldChange_dummy &lt;dbl&gt; | Class &lt;fct&gt; | Strand &lt;fct&gt; | Chromosomal_Position &lt;fct&gt; | AveExpr &lt;dbl&gt; | t &lt;dbl&gt; | P.Value &lt;dbl&gt; | adj.P.Val.1 &lt;dbl&gt; | B &lt;dbl&gt; |\n",
       "|---|---|---|---|---|---|---|---|---|---|---|---|---|---|---|---|---|---|---|---|\n",
       "| 8291 | ENSG00000003096.14 | KLHL13  | 1.0575276 |  5.849918e-18 | higher | females | Breast-MammaryTissue                 | X  | ENSG00000003096 | 1.0575276 | 2.081362 | protein_coding | - | X:117897813-118117340 | 3.071957 |  9.379033 |  3.047331e-19 |  5.849918e-18 |  31.967423 |\n",
       "| 2121 | ENSG00000005187.11 | ACSM3   | 1.7420707 |  6.241747e-30 | higher | females | Breast-MammaryTissue                 | 16 | ENSG00000005187 | 1.7420707 | 3.345150 | protein_coding | + | 16:20610243-20797581  | 1.753435 | 12.678403 |  8.442753e-32 |  6.241747e-30 |  60.890589 |\n",
       "| 3284 | ENSG00000005379.15 | TSPOAP1 | 0.8048674 |  2.635769e-08 | higher | females | Breast-MammaryTissue                 | 17 | ENSG00000005379 | 0.8048674 | 1.746985 | protein_coding | - | 17:58301228-58328795  | 4.816506 |  5.948486 |  5.364399e-09 |  2.635769e-08 |   8.472351 |\n",
       "| 7431 | ENSG00000005513.9  | SOX8    | 1.0248677 |  1.091262e-18 | higher | females | Breast-MammaryTissue                 | 16 | ENSG00000005513 | 1.0248677 | 2.034773 | protein_coding | + | 16:981770-986979      | 1.961977 |  9.601016 |  5.135350e-20 |  1.091262e-18 |  33.928616 |\n",
       "| 19 | ENSG00000005889.15 | ZFX     | 0.6387585 |  8.312326e-49 | higher | females | AdrenalGland                         | X  | ENSG00000005889 | 0.6387585 | 1.556989 | protein_coding | + | X:24149173-24216255   | 4.692241 | 19.191837 |  9.936093e-52 |  8.312326e-49 | 106.759601 |\n",
       "| 173 | ENSG00000005889.15 | ZFX     | 0.6694278 |  1.284379e-85 | higher | females | Artery-Aorta                         | X  | ENSG00000005889 | 0.6694278 | 1.590442 | protein_coding | + | X:24149173-24216255   | 4.987225 | 25.563606 |  1.373667e-88 |  1.284379e-85 | 191.042078 |\n",
       "| 167 | ENSG00000005889.15 | ZFX     | 0.6289844 |  2.162584e-59 | higher | females | Artery-Coronary                      | X  | ENSG00000005889 | 0.6289844 | 1.546476 | protein_coding | + | X:24149173-24216255   | 5.138006 | 22.882636 |  2.176870e-62 |  2.162584e-59 | 131.375327 |\n",
       "| 176 | ENSG00000005889.15 | ZFX     | 0.6581554 | 6.019839e-122 | higher | females | Artery-Tibial                        | X  | ENSG00000005889 | 0.6581554 | 1.578064 | protein_coding | + | X:24149173-24216255   | 5.168209 | 29.859299 | 6.438331e-125 | 6.019839e-122 | 274.344358 |\n",
       "| 1610 | ENSG00000005889.15 | ZFX     | 0.6368501 |  1.684832e-17 | higher | females | Brain-Amygdala                       | X  | ENSG00000005889 | 0.6368501 | 1.554931 | protein_coding | + | X:24149173-24216255   | 3.944298 | 10.763468 |  1.695961e-20 |  1.684832e-17 |  35.535455 |\n",
       "| 1710 | ENSG00000005889.15 | ZFX     | 0.6756728 |  3.516380e-21 | higher | females | Brain-Anteriorcingulatecortex(BA24)  | X  | ENSG00000005889 | 0.6756728 | 1.597342 | protein_coding | + | X:24149173-24216255   | 3.801055 | 11.814815 |  3.760834e-24 |  3.516380e-21 |  43.792574 |\n",
       "| 192 | ENSG00000005889.15 | ZFX     | 0.6569828 |  2.664686e-34 | higher | females | Brain-Caudate(basalganglia)          | X  | ENSG00000005889 | 0.6569828 | 1.576782 | protein_coding | + | X:24149173-24216255   | 4.106242 | 15.176708 |  3.185218e-37 |  2.664686e-34 |  73.510051 |\n",
       "| 1615 | ENSG00000005889.15 | ZFX     | 0.6623810 |  1.274595e-41 | higher | females | Brain-Cortex                         | X  | ENSG00000005889 | 0.6623810 | 1.582693 | protein_coding | + | X:24149173-24216255   | 3.854225 | 17.195124 |  1.283015e-44 |  1.274595e-41 |  90.406988 |\n",
       "| 1616 | ENSG00000005889.15 | ZFX     | 0.7053366 |  6.862353e-30 | higher | females | Brain-FrontalCortex(BA9)             | X  | ENSG00000005889 | 0.7053366 | 1.630525 | protein_coding | + | X:24149173-24216255   | 3.898374 | 14.304395 |  6.907684e-33 |  6.862353e-30 |  63.687700 |\n",
       "| 1813 | ENSG00000005889.15 | ZFX     | 0.7202094 |  2.982783e-24 | higher | females | Brain-Hippocampus                    | X  | ENSG00000005889 | 0.7202094 | 1.647421 | protein_coding | + | X:24149173-24216255   | 3.890934 | 12.619871 |  3.377798e-27 |  2.982783e-24 |  50.753469 |\n",
       "| 1618 | ENSG00000005889.15 | ZFX     | 0.7087839 |  1.254343e-25 | higher | females | Brain-Hypothalamus                   | X  | ENSG00000005889 | 0.7087839 | 1.634426 | protein_coding | + | X:24149173-24216255   | 3.999922 | 13.030147 |  1.262629e-28 |  1.254343e-25 |  53.991502 |\n",
       "| 1620 | ENSG00000005889.15 | ZFX     | 0.6220163 |  1.456290e-37 | higher | females | Brain-Nucleusaccumbens(basalganglia) | X  | ENSG00000005889 | 0.6220163 | 1.539025 | protein_coding | + | X:24149173-24216255   | 4.023881 | 16.147573 |  1.465910e-40 |  1.456290e-37 |  81.215720 |\n",
       "| 1623 | ENSG00000005889.15 | ZFX     | 0.7188257 |  2.882613e-29 | higher | females | Brain-Putamen(basalganglia)          | X  | ENSG00000005889 | 0.7188257 | 1.645842 | protein_coding | + | X:24149173-24216255   | 3.876198 | 14.161328 |  2.901655e-32 |  2.882613e-29 |  62.291103 |\n",
       "| 1624 | ENSG00000005889.15 | ZFX     | 0.6420268 |  1.065198e-33 | higher | females | Brain-Spinalcord(cervicalc-1)        | X  | ENSG00000005889 | 0.6420268 | 1.560520 | protein_coding | + | X:24149173-24216255   | 4.237075 | 16.613152 |  1.072234e-36 |  1.065198e-33 |  72.616595 |\n",
       "| 1718 | ENSG00000005889.15 | ZFX     | 0.6023713 |  1.566847e-15 | higher | females | Brain-Substantianigra                | X  | ENSG00000005889 | 0.6023713 | 1.518210 | protein_coding | + | X:24149173-24216255   | 3.990505 | 10.151062 |  1.675772e-18 |  1.566847e-15 |  31.070690 |\n",
       "| 1816 | ENSG00000005889.15 | ZFX     | 0.6298076 |  3.009259e-84 | higher | females | Cells-Culturedfibroblasts            | X  | ENSG00000005889 | 0.6298076 | 1.547359 | protein_coding | + | X:24149173-24216255   | 5.337890 | 24.345281 |  3.407779e-87 |  3.009259e-84 | 187.731472 |\n",
       "\n"
      ],
      "text/plain": [
       "     initial_gene_id    GeneSymbol logFC     adj.P.Val     abundance higher_in\n",
       "8291 ENSG00000003096.14 KLHL13     1.0575276  5.849918e-18 higher    females  \n",
       "2121 ENSG00000005187.11 ACSM3      1.7420707  6.241747e-30 higher    females  \n",
       "3284 ENSG00000005379.15 TSPOAP1    0.8048674  2.635769e-08 higher    females  \n",
       "7431 ENSG00000005513.9  SOX8       1.0248677  1.091262e-18 higher    females  \n",
       "19   ENSG00000005889.15 ZFX        0.6387585  8.312326e-49 higher    females  \n",
       "173  ENSG00000005889.15 ZFX        0.6694278  1.284379e-85 higher    females  \n",
       "167  ENSG00000005889.15 ZFX        0.6289844  2.162584e-59 higher    females  \n",
       "176  ENSG00000005889.15 ZFX        0.6581554 6.019839e-122 higher    females  \n",
       "1610 ENSG00000005889.15 ZFX        0.6368501  1.684832e-17 higher    females  \n",
       "1710 ENSG00000005889.15 ZFX        0.6756728  3.516380e-21 higher    females  \n",
       "192  ENSG00000005889.15 ZFX        0.6569828  2.664686e-34 higher    females  \n",
       "1615 ENSG00000005889.15 ZFX        0.6623810  1.274595e-41 higher    females  \n",
       "1616 ENSG00000005889.15 ZFX        0.7053366  6.862353e-30 higher    females  \n",
       "1813 ENSG00000005889.15 ZFX        0.7202094  2.982783e-24 higher    females  \n",
       "1618 ENSG00000005889.15 ZFX        0.7087839  1.254343e-25 higher    females  \n",
       "1620 ENSG00000005889.15 ZFX        0.6220163  1.456290e-37 higher    females  \n",
       "1623 ENSG00000005889.15 ZFX        0.7188257  2.882613e-29 higher    females  \n",
       "1624 ENSG00000005889.15 ZFX        0.6420268  1.065198e-33 higher    females  \n",
       "1718 ENSG00000005889.15 ZFX        0.6023713  1.566847e-15 higher    females  \n",
       "1816 ENSG00000005889.15 ZFX        0.6298076  3.009259e-84 higher    females  \n",
       "     tissue                               Chromosome gene_id         abs_logFC\n",
       "8291 Breast-MammaryTissue                 X          ENSG00000003096 1.0575276\n",
       "2121 Breast-MammaryTissue                 16         ENSG00000005187 1.7420707\n",
       "3284 Breast-MammaryTissue                 17         ENSG00000005379 0.8048674\n",
       "7431 Breast-MammaryTissue                 16         ENSG00000005513 1.0248677\n",
       "19   AdrenalGland                         X          ENSG00000005889 0.6387585\n",
       "173  Artery-Aorta                         X          ENSG00000005889 0.6694278\n",
       "167  Artery-Coronary                      X          ENSG00000005889 0.6289844\n",
       "176  Artery-Tibial                        X          ENSG00000005889 0.6581554\n",
       "1610 Brain-Amygdala                       X          ENSG00000005889 0.6368501\n",
       "1710 Brain-Anteriorcingulatecortex(BA24)  X          ENSG00000005889 0.6756728\n",
       "192  Brain-Caudate(basalganglia)          X          ENSG00000005889 0.6569828\n",
       "1615 Brain-Cortex                         X          ENSG00000005889 0.6623810\n",
       "1616 Brain-FrontalCortex(BA9)             X          ENSG00000005889 0.7053366\n",
       "1813 Brain-Hippocampus                    X          ENSG00000005889 0.7202094\n",
       "1618 Brain-Hypothalamus                   X          ENSG00000005889 0.7087839\n",
       "1620 Brain-Nucleusaccumbens(basalganglia) X          ENSG00000005889 0.6220163\n",
       "1623 Brain-Putamen(basalganglia)          X          ENSG00000005889 0.7188257\n",
       "1624 Brain-Spinalcord(cervicalc-1)        X          ENSG00000005889 0.6420268\n",
       "1718 Brain-Substantianigra                X          ENSG00000005889 0.6023713\n",
       "1816 Cells-Culturedfibroblasts            X          ENSG00000005889 0.6298076\n",
       "     FoldChange_dummy Class          Strand Chromosomal_Position  AveExpr \n",
       "8291 2.081362         protein_coding -      X:117897813-118117340 3.071957\n",
       "2121 3.345150         protein_coding +      16:20610243-20797581  1.753435\n",
       "3284 1.746985         protein_coding -      17:58301228-58328795  4.816506\n",
       "7431 2.034773         protein_coding +      16:981770-986979      1.961977\n",
       "19   1.556989         protein_coding +      X:24149173-24216255   4.692241\n",
       "173  1.590442         protein_coding +      X:24149173-24216255   4.987225\n",
       "167  1.546476         protein_coding +      X:24149173-24216255   5.138006\n",
       "176  1.578064         protein_coding +      X:24149173-24216255   5.168209\n",
       "1610 1.554931         protein_coding +      X:24149173-24216255   3.944298\n",
       "1710 1.597342         protein_coding +      X:24149173-24216255   3.801055\n",
       "192  1.576782         protein_coding +      X:24149173-24216255   4.106242\n",
       "1615 1.582693         protein_coding +      X:24149173-24216255   3.854225\n",
       "1616 1.630525         protein_coding +      X:24149173-24216255   3.898374\n",
       "1813 1.647421         protein_coding +      X:24149173-24216255   3.890934\n",
       "1618 1.634426         protein_coding +      X:24149173-24216255   3.999922\n",
       "1620 1.539025         protein_coding +      X:24149173-24216255   4.023881\n",
       "1623 1.645842         protein_coding +      X:24149173-24216255   3.876198\n",
       "1624 1.560520         protein_coding +      X:24149173-24216255   4.237075\n",
       "1718 1.518210         protein_coding +      X:24149173-24216255   3.990505\n",
       "1816 1.547359         protein_coding +      X:24149173-24216255   5.337890\n",
       "     t         P.Value       adj.P.Val.1   B         \n",
       "8291  9.379033  3.047331e-19  5.849918e-18  31.967423\n",
       "2121 12.678403  8.442753e-32  6.241747e-30  60.890589\n",
       "3284  5.948486  5.364399e-09  2.635769e-08   8.472351\n",
       "7431  9.601016  5.135350e-20  1.091262e-18  33.928616\n",
       "19   19.191837  9.936093e-52  8.312326e-49 106.759601\n",
       "173  25.563606  1.373667e-88  1.284379e-85 191.042078\n",
       "167  22.882636  2.176870e-62  2.162584e-59 131.375327\n",
       "176  29.859299 6.438331e-125 6.019839e-122 274.344358\n",
       "1610 10.763468  1.695961e-20  1.684832e-17  35.535455\n",
       "1710 11.814815  3.760834e-24  3.516380e-21  43.792574\n",
       "192  15.176708  3.185218e-37  2.664686e-34  73.510051\n",
       "1615 17.195124  1.283015e-44  1.274595e-41  90.406988\n",
       "1616 14.304395  6.907684e-33  6.862353e-30  63.687700\n",
       "1813 12.619871  3.377798e-27  2.982783e-24  50.753469\n",
       "1618 13.030147  1.262629e-28  1.254343e-25  53.991502\n",
       "1620 16.147573  1.465910e-40  1.456290e-37  81.215720\n",
       "1623 14.161328  2.901655e-32  2.882613e-29  62.291103\n",
       "1624 16.613152  1.072234e-36  1.065198e-33  72.616595\n",
       "1718 10.151062  1.675772e-18  1.566847e-15  31.070690\n",
       "1816 24.345281  3.407779e-87  3.009259e-84 187.731472"
      ]
     },
     "metadata": {},
     "output_type": "display_data"
    }
   ],
   "source": [
    "only_female_genes <- signif_per_tissue[ signif_per_tissue$initial_gene_id %in% (female_biased[! (female_biased %in% intersect)]) ,  ]\n",
    "\n",
    "head(only_female_genes[ order(only_female_genes$initial_gene_id ), ], 20)"
   ]
  },
  {
   "cell_type": "code",
   "execution_count": 35,
   "metadata": {},
   "outputs": [
    {
     "name": "stderr",
     "output_type": "stream",
     "text": [
      "Warning message:\n",
      "“Factor `GeneSymbol` contains implicit NA, consider using `forcats::fct_explicit_na`”\n",
      "Warning message:\n",
      "“Factor `Class` contains implicit NA, consider using `forcats::fct_explicit_na`”\n",
      "Warning message:\n",
      "“Factor `GeneSymbol` contains implicit NA, consider using `forcats::fct_explicit_na`”\n"
     ]
    },
    {
     "data": {
      "text/html": [
       "<table>\n",
       "<caption>A tibble: 20 × 4</caption>\n",
       "<thead>\n",
       "\t<tr><th scope=col>gene_id</th><th scope=col>GeneSymbol</th><th scope=col>Class</th><th scope=col>n</th></tr>\n",
       "\t<tr><th scope=col>&lt;chr&gt;</th><th scope=col>&lt;fct&gt;</th><th scope=col>&lt;fct&gt;</th><th scope=col>&lt;int&gt;</th></tr>\n",
       "</thead>\n",
       "<tbody>\n",
       "\t<tr><td>ENSG00000229807</td><td>XIST  </td><td>lncRNA        </td><td>46</td></tr>\n",
       "\t<tr><td>ENSG00000005889</td><td>ZFX   </td><td>protein_coding</td><td>33</td></tr>\n",
       "\t<tr><td>ENSG00000147050</td><td>KDM6A </td><td>protein_coding</td><td>33</td></tr>\n",
       "\t<tr><td>ENSG00000130021</td><td>PUDP  </td><td>protein_coding</td><td>21</td></tr>\n",
       "\t<tr><td>ENSG00000022556</td><td>NLRP2 </td><td>protein_coding</td><td>16</td></tr>\n",
       "\t<tr><td>ENSG00000184368</td><td>MAP7D2</td><td>protein_coding</td><td>16</td></tr>\n",
       "\t<tr><td>ENSG00000225470</td><td>JPX   </td><td>lncRNA        </td><td>12</td></tr>\n",
       "\t<tr><td>ENSG00000056998</td><td>GYG2  </td><td>protein_coding</td><td>11</td></tr>\n",
       "\t<tr><td>ENSG00000134184</td><td>GSTM1 </td><td>protein_coding</td><td>11</td></tr>\n",
       "\t<tr><td>ENSG00000006757</td><td>PNPLA4</td><td>protein_coding</td><td> 9</td></tr>\n",
       "\t<tr><td>ENSG00000177575</td><td>CD163 </td><td>protein_coding</td><td> 9</td></tr>\n",
       "\t<tr><td>ENSG00000198848</td><td>CES1  </td><td>protein_coding</td><td> 9</td></tr>\n",
       "\t<tr><td>ENSG00000115590</td><td>IL1R2 </td><td>protein_coding</td><td> 8</td></tr>\n",
       "\t<tr><td>ENSG00000143546</td><td>S100A8</td><td>protein_coding</td><td> 8</td></tr>\n",
       "\t<tr><td>ENSG00000155659</td><td>VSIG4 </td><td>protein_coding</td><td> 8</td></tr>\n",
       "\t<tr><td>ENSG00000162747</td><td>FCGR3B</td><td>protein_coding</td><td> 8</td></tr>\n",
       "\t<tr><td>ENSG00000205664</td><td>NA    </td><td>NA            </td><td> 8</td></tr>\n",
       "\t<tr><td>ENSG00000047457</td><td>CP    </td><td>protein_coding</td><td> 7</td></tr>\n",
       "\t<tr><td>ENSG00000101846</td><td>STS   </td><td>protein_coding</td><td> 7</td></tr>\n",
       "\t<tr><td>ENSG00000163220</td><td>S100A9</td><td>protein_coding</td><td> 7</td></tr>\n",
       "</tbody>\n",
       "</table>\n"
      ],
      "text/latex": [
       "A tibble: 20 × 4\n",
       "\\begin{tabular}{llll}\n",
       " gene\\_id & GeneSymbol & Class & n\\\\\n",
       " <chr> & <fct> & <fct> & <int>\\\\\n",
       "\\hline\n",
       "\t ENSG00000229807 & XIST   & lncRNA         & 46\\\\\n",
       "\t ENSG00000005889 & ZFX    & protein\\_coding & 33\\\\\n",
       "\t ENSG00000147050 & KDM6A  & protein\\_coding & 33\\\\\n",
       "\t ENSG00000130021 & PUDP   & protein\\_coding & 21\\\\\n",
       "\t ENSG00000022556 & NLRP2  & protein\\_coding & 16\\\\\n",
       "\t ENSG00000184368 & MAP7D2 & protein\\_coding & 16\\\\\n",
       "\t ENSG00000225470 & JPX    & lncRNA         & 12\\\\\n",
       "\t ENSG00000056998 & GYG2   & protein\\_coding & 11\\\\\n",
       "\t ENSG00000134184 & GSTM1  & protein\\_coding & 11\\\\\n",
       "\t ENSG00000006757 & PNPLA4 & protein\\_coding &  9\\\\\n",
       "\t ENSG00000177575 & CD163  & protein\\_coding &  9\\\\\n",
       "\t ENSG00000198848 & CES1   & protein\\_coding &  9\\\\\n",
       "\t ENSG00000115590 & IL1R2  & protein\\_coding &  8\\\\\n",
       "\t ENSG00000143546 & S100A8 & protein\\_coding &  8\\\\\n",
       "\t ENSG00000155659 & VSIG4  & protein\\_coding &  8\\\\\n",
       "\t ENSG00000162747 & FCGR3B & protein\\_coding &  8\\\\\n",
       "\t ENSG00000205664 & NA     & NA             &  8\\\\\n",
       "\t ENSG00000047457 & CP     & protein\\_coding &  7\\\\\n",
       "\t ENSG00000101846 & STS    & protein\\_coding &  7\\\\\n",
       "\t ENSG00000163220 & S100A9 & protein\\_coding &  7\\\\\n",
       "\\end{tabular}\n"
      ],
      "text/markdown": [
       "\n",
       "A tibble: 20 × 4\n",
       "\n",
       "| gene_id &lt;chr&gt; | GeneSymbol &lt;fct&gt; | Class &lt;fct&gt; | n &lt;int&gt; |\n",
       "|---|---|---|---|\n",
       "| ENSG00000229807 | XIST   | lncRNA         | 46 |\n",
       "| ENSG00000005889 | ZFX    | protein_coding | 33 |\n",
       "| ENSG00000147050 | KDM6A  | protein_coding | 33 |\n",
       "| ENSG00000130021 | PUDP   | protein_coding | 21 |\n",
       "| ENSG00000022556 | NLRP2  | protein_coding | 16 |\n",
       "| ENSG00000184368 | MAP7D2 | protein_coding | 16 |\n",
       "| ENSG00000225470 | JPX    | lncRNA         | 12 |\n",
       "| ENSG00000056998 | GYG2   | protein_coding | 11 |\n",
       "| ENSG00000134184 | GSTM1  | protein_coding | 11 |\n",
       "| ENSG00000006757 | PNPLA4 | protein_coding |  9 |\n",
       "| ENSG00000177575 | CD163  | protein_coding |  9 |\n",
       "| ENSG00000198848 | CES1   | protein_coding |  9 |\n",
       "| ENSG00000115590 | IL1R2  | protein_coding |  8 |\n",
       "| ENSG00000143546 | S100A8 | protein_coding |  8 |\n",
       "| ENSG00000155659 | VSIG4  | protein_coding |  8 |\n",
       "| ENSG00000162747 | FCGR3B | protein_coding |  8 |\n",
       "| ENSG00000205664 | NA     | NA             |  8 |\n",
       "| ENSG00000047457 | CP     | protein_coding |  7 |\n",
       "| ENSG00000101846 | STS    | protein_coding |  7 |\n",
       "| ENSG00000163220 | S100A9 | protein_coding |  7 |\n",
       "\n"
      ],
      "text/plain": [
       "   gene_id         GeneSymbol Class          n \n",
       "1  ENSG00000229807 XIST       lncRNA         46\n",
       "2  ENSG00000005889 ZFX        protein_coding 33\n",
       "3  ENSG00000147050 KDM6A      protein_coding 33\n",
       "4  ENSG00000130021 PUDP       protein_coding 21\n",
       "5  ENSG00000022556 NLRP2      protein_coding 16\n",
       "6  ENSG00000184368 MAP7D2     protein_coding 16\n",
       "7  ENSG00000225470 JPX        lncRNA         12\n",
       "8  ENSG00000056998 GYG2       protein_coding 11\n",
       "9  ENSG00000134184 GSTM1      protein_coding 11\n",
       "10 ENSG00000006757 PNPLA4     protein_coding  9\n",
       "11 ENSG00000177575 CD163      protein_coding  9\n",
       "12 ENSG00000198848 CES1       protein_coding  9\n",
       "13 ENSG00000115590 IL1R2      protein_coding  8\n",
       "14 ENSG00000143546 S100A8     protein_coding  8\n",
       "15 ENSG00000155659 VSIG4      protein_coding  8\n",
       "16 ENSG00000162747 FCGR3B     protein_coding  8\n",
       "17 ENSG00000205664 NA         NA              8\n",
       "18 ENSG00000047457 CP         protein_coding  7\n",
       "19 ENSG00000101846 STS        protein_coding  7\n",
       "20 ENSG00000163220 S100A9     protein_coding  7"
      ]
     },
     "metadata": {},
     "output_type": "display_data"
    }
   ],
   "source": [
    "only_female_genes %>% \n",
    "    count(gene_id, GeneSymbol, Class, sort = TRUE) %>%\n",
    "    head(20)"
   ]
  },
  {
   "cell_type": "markdown",
   "metadata": {},
   "source": [
    "# Examine number of differentially expressed genes per chromosome per sex"
   ]
  },
  {
   "cell_type": "code",
   "execution_count": 36,
   "metadata": {},
   "outputs": [
    {
     "name": "stderr",
     "output_type": "stream",
     "text": [
      "Warning message:\n",
      "“Factor `Chromosome` contains implicit NA, consider using `forcats::fct_explicit_na`”\n",
      "Warning message:\n",
      "“Factor `Chromosome` contains implicit NA, consider using `forcats::fct_explicit_na`”\n"
     ]
    }
   ],
   "source": [
    "signif_per_tissue$Chromosome <- as.factor(signif_per_tissue$Chromosome)\n",
    "signif_per_tissue$higher_in <- as.factor(signif_per_tissue$higher_in)\n",
    "\n",
    "signif_per_tissue %>% \n",
    "    group_by(Chromosome,higher_in) %>%  \n",
    "    count()  -> signif_per_chrom_per_sex"
   ]
  },
  {
   "cell_type": "code",
   "execution_count": 37,
   "metadata": {},
   "outputs": [
    {
     "data": {
      "text/html": [
       "<table>\n",
       "<caption>A grouped_df: 51 × 3</caption>\n",
       "<thead>\n",
       "\t<tr><th scope=col>Chromosome</th><th scope=col>higher_in</th><th scope=col>n</th></tr>\n",
       "\t<tr><th scope=col>&lt;fct&gt;</th><th scope=col>&lt;fct&gt;</th><th scope=col>&lt;int&gt;</th></tr>\n",
       "</thead>\n",
       "<tbody>\n",
       "\t<tr><td>1 </td><td>females</td><td>355</td></tr>\n",
       "\t<tr><td>1 </td><td>males  </td><td>165</td></tr>\n",
       "\t<tr><td>10</td><td>females</td><td> 79</td></tr>\n",
       "\t<tr><td>10</td><td>males  </td><td> 74</td></tr>\n",
       "\t<tr><td>11</td><td>females</td><td>142</td></tr>\n",
       "\t<tr><td>11</td><td>males  </td><td> 88</td></tr>\n",
       "\t<tr><td>12</td><td>females</td><td>138</td></tr>\n",
       "\t<tr><td>12</td><td>males  </td><td>115</td></tr>\n",
       "\t<tr><td>13</td><td>females</td><td> 28</td></tr>\n",
       "\t<tr><td>13</td><td>males  </td><td> 38</td></tr>\n",
       "\t<tr><td>14</td><td>females</td><td> 91</td></tr>\n",
       "\t<tr><td>14</td><td>males  </td><td> 57</td></tr>\n",
       "\t<tr><td>15</td><td>females</td><td> 78</td></tr>\n",
       "\t<tr><td>15</td><td>males  </td><td>101</td></tr>\n",
       "\t<tr><td>16</td><td>females</td><td> 87</td></tr>\n",
       "\t<tr><td>16</td><td>males  </td><td> 77</td></tr>\n",
       "\t<tr><td>17</td><td>females</td><td>142</td></tr>\n",
       "\t<tr><td>17</td><td>males  </td><td> 91</td></tr>\n",
       "\t<tr><td>18</td><td>females</td><td> 30</td></tr>\n",
       "\t<tr><td>18</td><td>males  </td><td> 41</td></tr>\n",
       "\t<tr><td>19</td><td>females</td><td>153</td></tr>\n",
       "\t<tr><td>19</td><td>males  </td><td> 65</td></tr>\n",
       "\t<tr><td>2 </td><td>females</td><td>178</td></tr>\n",
       "\t<tr><td>2 </td><td>males  </td><td>145</td></tr>\n",
       "\t<tr><td>20</td><td>females</td><td> 71</td></tr>\n",
       "\t<tr><td>20</td><td>males  </td><td>131</td></tr>\n",
       "\t<tr><td>21</td><td>females</td><td> 33</td></tr>\n",
       "\t<tr><td>21</td><td>males  </td><td> 21</td></tr>\n",
       "\t<tr><td>22</td><td>females</td><td> 73</td></tr>\n",
       "\t<tr><td>22</td><td>males  </td><td> 59</td></tr>\n",
       "\t<tr><td>3 </td><td>females</td><td>149</td></tr>\n",
       "\t<tr><td>3 </td><td>males  </td><td> 92</td></tr>\n",
       "\t<tr><td>4 </td><td>females</td><td>111</td></tr>\n",
       "\t<tr><td>4 </td><td>males  </td><td>100</td></tr>\n",
       "\t<tr><td>5 </td><td>females</td><td>108</td></tr>\n",
       "\t<tr><td>5 </td><td>males  </td><td>102</td></tr>\n",
       "\t<tr><td>6 </td><td>females</td><td> 96</td></tr>\n",
       "\t<tr><td>6 </td><td>males  </td><td>119</td></tr>\n",
       "\t<tr><td>7 </td><td>females</td><td>116</td></tr>\n",
       "\t<tr><td>7 </td><td>males  </td><td> 82</td></tr>\n",
       "\t<tr><td>8 </td><td>females</td><td> 88</td></tr>\n",
       "\t<tr><td>8 </td><td>males  </td><td> 70</td></tr>\n",
       "\t<tr><td>9 </td><td>females</td><td> 67</td></tr>\n",
       "\t<tr><td>9 </td><td>males  </td><td> 71</td></tr>\n",
       "\t<tr><td>MT</td><td>females</td><td>  1</td></tr>\n",
       "\t<tr><td>MT</td><td>males  </td><td>  1</td></tr>\n",
       "\t<tr><td>X </td><td>females</td><td>295</td></tr>\n",
       "\t<tr><td>X </td><td>males  </td><td>112</td></tr>\n",
       "\t<tr><td>Y </td><td>males  </td><td>585</td></tr>\n",
       "\t<tr><td>NA</td><td>females</td><td> 16</td></tr>\n",
       "\t<tr><td>NA</td><td>males  </td><td> 47</td></tr>\n",
       "</tbody>\n",
       "</table>\n"
      ],
      "text/latex": [
       "A grouped\\_df: 51 × 3\n",
       "\\begin{tabular}{lll}\n",
       " Chromosome & higher\\_in & n\\\\\n",
       " <fct> & <fct> & <int>\\\\\n",
       "\\hline\n",
       "\t 1  & females & 355\\\\\n",
       "\t 1  & males   & 165\\\\\n",
       "\t 10 & females &  79\\\\\n",
       "\t 10 & males   &  74\\\\\n",
       "\t 11 & females & 142\\\\\n",
       "\t 11 & males   &  88\\\\\n",
       "\t 12 & females & 138\\\\\n",
       "\t 12 & males   & 115\\\\\n",
       "\t 13 & females &  28\\\\\n",
       "\t 13 & males   &  38\\\\\n",
       "\t 14 & females &  91\\\\\n",
       "\t 14 & males   &  57\\\\\n",
       "\t 15 & females &  78\\\\\n",
       "\t 15 & males   & 101\\\\\n",
       "\t 16 & females &  87\\\\\n",
       "\t 16 & males   &  77\\\\\n",
       "\t 17 & females & 142\\\\\n",
       "\t 17 & males   &  91\\\\\n",
       "\t 18 & females &  30\\\\\n",
       "\t 18 & males   &  41\\\\\n",
       "\t 19 & females & 153\\\\\n",
       "\t 19 & males   &  65\\\\\n",
       "\t 2  & females & 178\\\\\n",
       "\t 2  & males   & 145\\\\\n",
       "\t 20 & females &  71\\\\\n",
       "\t 20 & males   & 131\\\\\n",
       "\t 21 & females &  33\\\\\n",
       "\t 21 & males   &  21\\\\\n",
       "\t 22 & females &  73\\\\\n",
       "\t 22 & males   &  59\\\\\n",
       "\t 3  & females & 149\\\\\n",
       "\t 3  & males   &  92\\\\\n",
       "\t 4  & females & 111\\\\\n",
       "\t 4  & males   & 100\\\\\n",
       "\t 5  & females & 108\\\\\n",
       "\t 5  & males   & 102\\\\\n",
       "\t 6  & females &  96\\\\\n",
       "\t 6  & males   & 119\\\\\n",
       "\t 7  & females & 116\\\\\n",
       "\t 7  & males   &  82\\\\\n",
       "\t 8  & females &  88\\\\\n",
       "\t 8  & males   &  70\\\\\n",
       "\t 9  & females &  67\\\\\n",
       "\t 9  & males   &  71\\\\\n",
       "\t MT & females &   1\\\\\n",
       "\t MT & males   &   1\\\\\n",
       "\t X  & females & 295\\\\\n",
       "\t X  & males   & 112\\\\\n",
       "\t Y  & males   & 585\\\\\n",
       "\t NA & females &  16\\\\\n",
       "\t NA & males   &  47\\\\\n",
       "\\end{tabular}\n"
      ],
      "text/markdown": [
       "\n",
       "A grouped_df: 51 × 3\n",
       "\n",
       "| Chromosome &lt;fct&gt; | higher_in &lt;fct&gt; | n &lt;int&gt; |\n",
       "|---|---|---|\n",
       "| 1  | females | 355 |\n",
       "| 1  | males   | 165 |\n",
       "| 10 | females |  79 |\n",
       "| 10 | males   |  74 |\n",
       "| 11 | females | 142 |\n",
       "| 11 | males   |  88 |\n",
       "| 12 | females | 138 |\n",
       "| 12 | males   | 115 |\n",
       "| 13 | females |  28 |\n",
       "| 13 | males   |  38 |\n",
       "| 14 | females |  91 |\n",
       "| 14 | males   |  57 |\n",
       "| 15 | females |  78 |\n",
       "| 15 | males   | 101 |\n",
       "| 16 | females |  87 |\n",
       "| 16 | males   |  77 |\n",
       "| 17 | females | 142 |\n",
       "| 17 | males   |  91 |\n",
       "| 18 | females |  30 |\n",
       "| 18 | males   |  41 |\n",
       "| 19 | females | 153 |\n",
       "| 19 | males   |  65 |\n",
       "| 2  | females | 178 |\n",
       "| 2  | males   | 145 |\n",
       "| 20 | females |  71 |\n",
       "| 20 | males   | 131 |\n",
       "| 21 | females |  33 |\n",
       "| 21 | males   |  21 |\n",
       "| 22 | females |  73 |\n",
       "| 22 | males   |  59 |\n",
       "| 3  | females | 149 |\n",
       "| 3  | males   |  92 |\n",
       "| 4  | females | 111 |\n",
       "| 4  | males   | 100 |\n",
       "| 5  | females | 108 |\n",
       "| 5  | males   | 102 |\n",
       "| 6  | females |  96 |\n",
       "| 6  | males   | 119 |\n",
       "| 7  | females | 116 |\n",
       "| 7  | males   |  82 |\n",
       "| 8  | females |  88 |\n",
       "| 8  | males   |  70 |\n",
       "| 9  | females |  67 |\n",
       "| 9  | males   |  71 |\n",
       "| MT | females |   1 |\n",
       "| MT | males   |   1 |\n",
       "| X  | females | 295 |\n",
       "| X  | males   | 112 |\n",
       "| Y  | males   | 585 |\n",
       "| NA | females |  16 |\n",
       "| NA | males   |  47 |\n",
       "\n"
      ],
      "text/plain": [
       "   Chromosome higher_in n  \n",
       "1  1          females   355\n",
       "2  1          males     165\n",
       "3  10         females    79\n",
       "4  10         males      74\n",
       "5  11         females   142\n",
       "6  11         males      88\n",
       "7  12         females   138\n",
       "8  12         males     115\n",
       "9  13         females    28\n",
       "10 13         males      38\n",
       "11 14         females    91\n",
       "12 14         males      57\n",
       "13 15         females    78\n",
       "14 15         males     101\n",
       "15 16         females    87\n",
       "16 16         males      77\n",
       "17 17         females   142\n",
       "18 17         males      91\n",
       "19 18         females    30\n",
       "20 18         males      41\n",
       "21 19         females   153\n",
       "22 19         males      65\n",
       "23 2          females   178\n",
       "24 2          males     145\n",
       "25 20         females    71\n",
       "26 20         males     131\n",
       "27 21         females    33\n",
       "28 21         males      21\n",
       "29 22         females    73\n",
       "30 22         males      59\n",
       "31 3          females   149\n",
       "32 3          males      92\n",
       "33 4          females   111\n",
       "34 4          males     100\n",
       "35 5          females   108\n",
       "36 5          males     102\n",
       "37 6          females    96\n",
       "38 6          males     119\n",
       "39 7          females   116\n",
       "40 7          males      82\n",
       "41 8          females    88\n",
       "42 8          males      70\n",
       "43 9          females    67\n",
       "44 9          males      71\n",
       "45 MT         females     1\n",
       "46 MT         males       1\n",
       "47 X          females   295\n",
       "48 X          males     112\n",
       "49 Y          males     585\n",
       "50 NA         females    16\n",
       "51 NA         males      47"
      ]
     },
     "metadata": {},
     "output_type": "display_data"
    }
   ],
   "source": [
    "signif_per_chrom_per_sex"
   ]
  }
 ],
 "metadata": {
  "kernelspec": {
   "display_name": "R",
   "language": "R",
   "name": "ir"
  },
  "language_info": {
   "codemirror_mode": "r",
   "file_extension": ".r",
   "mimetype": "text/x-r-source",
   "name": "R",
   "pygments_lexer": "r",
   "version": "3.6.2"
  }
 },
 "nbformat": 4,
 "nbformat_minor": 4
}
