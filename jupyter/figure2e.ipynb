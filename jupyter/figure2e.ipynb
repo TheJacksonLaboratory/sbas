{
 "cells": [
  {
   "cell_type": "markdown",
   "metadata": {},
   "source": [
    "# Figure 2e - Genes with over 10 significant sex-biased AS events."
   ]
  },
  {
   "cell_type": "markdown",
   "metadata": {},
   "source": [
    "The colour coding represents the number of affected tissues, sorted in decreasing order by the number of sex-biased splicing events per gene."
   ]
  },
  {
   "cell_type": "markdown",
   "metadata": {},
   "source": [
    "## **NOTE**:\n",
    "\n",
    "We assume that you have cloned the analysis repository and have `cd` into the parent directory. Before starting with the analysis make sure you have first completed the dependencies set up by following the instructions described in the **`dependencies/README.md`** document. All paths defined in this Notebook are relative to the parent directory (repository). Please close this Notebook and start again by following the above guidelines if you have not completed the aforementioned steps."
   ]
  },
  {
   "cell_type": "markdown",
   "metadata": {},
   "source": [
    "## Loading dependencies"
   ]
  },
  {
   "cell_type": "code",
   "execution_count": 3,
   "metadata": {},
   "outputs": [
    {
     "name": "stderr",
     "output_type": "stream",
     "text": [
      "Updating HTML index of packages in '.Library'\n",
      "Making 'packages.html' ... done\n"
     ]
    }
   ],
   "source": [
    "install.packages(\"viridis\")\n",
    "library(viridis)\n",
    "library(ggplot2)\n",
    "library(magrittr)\n",
    "Sys.setenv(TAR = \"/bin/tar\") # for gzfile"
   ]
  },
  {
   "cell_type": "markdown",
   "metadata": {},
   "source": [
    "## Reading the Significant Splicing Events by Tissue Results"
   ]
  },
  {
   "cell_type": "markdown",
   "metadata": {},
   "source": [
    "Starting with the output from running xx script, this file that summarizes the significant splicing events by tissue is then limited to only those tissues that have greater than 10 splicing events, and then the distribution of the 5 splicing events, A3SS, A5SS, RI, SE, and MXE as a percentage of the whole are compared between the tissues."
   ]
  },
  {
   "cell_type": "code",
   "execution_count": 139,
   "metadata": {},
   "outputs": [
    {
     "data": {
      "text/html": [
       "<table>\n",
       "<caption>A data.frame: 6 × 3</caption>\n",
       "<thead>\n",
       "\t<tr><th></th><th scope=col>Tissue</th><th scope=col>ASE</th><th scope=col>Counts</th></tr>\n",
       "\t<tr><th></th><th scope=col>&lt;chr&gt;</th><th scope=col>&lt;chr&gt;</th><th scope=col>&lt;int&gt;</th></tr>\n",
       "</thead>\n",
       "<tbody>\n",
       "\t<tr><th scope=row>1</th><td>Adipose - Subcutaneous      </td><td>A3SS</td><td> 2</td></tr>\n",
       "\t<tr><th scope=row>2</th><td>Adipose - Subcutaneous      </td><td>A5SS</td><td> 4</td></tr>\n",
       "\t<tr><th scope=row>3</th><td>Adipose - Subcutaneous      </td><td>MXE </td><td> 0</td></tr>\n",
       "\t<tr><th scope=row>4</th><td>Adipose - Subcutaneous      </td><td>RI  </td><td> 2</td></tr>\n",
       "\t<tr><th scope=row>5</th><td>Adipose - Subcutaneous      </td><td>SE  </td><td>44</td></tr>\n",
       "\t<tr><th scope=row>6</th><td>Adipose - Visceral (Omentum)</td><td>A3SS</td><td> 2</td></tr>\n",
       "</tbody>\n",
       "</table>\n"
      ],
      "text/latex": [
       "A data.frame: 6 × 3\n",
       "\\begin{tabular}{r|lll}\n",
       "  & Tissue & ASE & Counts\\\\\n",
       "  & <chr> & <chr> & <int>\\\\\n",
       "\\hline\n",
       "\t1 & Adipose - Subcutaneous       & A3SS &  2\\\\\n",
       "\t2 & Adipose - Subcutaneous       & A5SS &  4\\\\\n",
       "\t3 & Adipose - Subcutaneous       & MXE  &  0\\\\\n",
       "\t4 & Adipose - Subcutaneous       & RI   &  2\\\\\n",
       "\t5 & Adipose - Subcutaneous       & SE   & 44\\\\\n",
       "\t6 & Adipose - Visceral (Omentum) & A3SS &  2\\\\\n",
       "\\end{tabular}\n"
      ],
      "text/markdown": [
       "\n",
       "A data.frame: 6 × 3\n",
       "\n",
       "| <!--/--> | Tissue &lt;chr&gt; | ASE &lt;chr&gt; | Counts &lt;int&gt; |\n",
       "|---|---|---|---|\n",
       "| 1 | Adipose - Subcutaneous       | A3SS |  2 |\n",
       "| 2 | Adipose - Subcutaneous       | A5SS |  4 |\n",
       "| 3 | Adipose - Subcutaneous       | MXE  |  0 |\n",
       "| 4 | Adipose - Subcutaneous       | RI   |  2 |\n",
       "| 5 | Adipose - Subcutaneous       | SE   | 44 |\n",
       "| 6 | Adipose - Visceral (Omentum) | A3SS |  2 |\n",
       "\n"
      ],
      "text/plain": [
       "  Tissue                       ASE  Counts\n",
       "1 Adipose - Subcutaneous       A3SS  2    \n",
       "2 Adipose - Subcutaneous       A5SS  4    \n",
       "3 Adipose - Subcutaneous       MXE   0    \n",
       "4 Adipose - Subcutaneous       RI    2    \n",
       "5 Adipose - Subcutaneous       SE   44    \n",
       "6 Adipose - Visceral (Omentum) A3SS  2    "
      ]
     },
     "metadata": {},
     "output_type": "display_data"
    }
   ],
   "source": [
    "df <- read.table(file =\"https://github.com/adeslatt/sbas_test/releases/download/figure2_test_files/Significant_events.tsv\",\n",
    "                sep = \"\\t\", quote = NULL, header = TRUE, stringsAsFactors = FALSE)\n",
    "head(df)"
   ]
  },
  {
   "cell_type": "markdown",
   "metadata": {},
   "source": [
    "Another file, which created simplifying labels is read in as well.   It is produced by XX script."
   ]
  },
  {
   "cell_type": "code",
   "execution_count": 140,
   "metadata": {},
   "outputs": [
    {
     "data": {
      "text/html": [
       "<table>\n",
       "<caption>A data.frame: 6 × 3</caption>\n",
       "<thead>\n",
       "\t<tr><th></th><th scope=col>Tissue</th><th scope=col>Total</th><th scope=col>Label</th></tr>\n",
       "\t<tr><th></th><th scope=col>&lt;chr&gt;</th><th scope=col>&lt;int&gt;</th><th scope=col>&lt;chr&gt;</th></tr>\n",
       "</thead>\n",
       "<tbody>\n",
       "\t<tr><th scope=row>1</th><td>Adipose - Subcutaneous      </td><td> 52</td><td>Adipose (S)    </td></tr>\n",
       "\t<tr><th scope=row>2</th><td>Adipose - Visceral (Omentum)</td><td>  9</td><td>Adipose (V)    </td></tr>\n",
       "\t<tr><th scope=row>3</th><td>Adrenal Gland               </td><td>147</td><td>Adrenal Glad   </td></tr>\n",
       "\t<tr><th scope=row>4</th><td>Artery - Aorta              </td><td> 31</td><td>Aorta          </td></tr>\n",
       "\t<tr><th scope=row>5</th><td>Artery - Coronary           </td><td>  6</td><td>Coronary Artery</td></tr>\n",
       "\t<tr><th scope=row>6</th><td>Artery - Tibial             </td><td> 21</td><td>Tibial Artery  </td></tr>\n",
       "</tbody>\n",
       "</table>\n"
      ],
      "text/latex": [
       "A data.frame: 6 × 3\n",
       "\\begin{tabular}{r|lll}\n",
       "  & Tissue & Total & Label\\\\\n",
       "  & <chr> & <int> & <chr>\\\\\n",
       "\\hline\n",
       "\t1 & Adipose - Subcutaneous       &  52 & Adipose (S)    \\\\\n",
       "\t2 & Adipose - Visceral (Omentum) &   9 & Adipose (V)    \\\\\n",
       "\t3 & Adrenal Gland                & 147 & Adrenal Glad   \\\\\n",
       "\t4 & Artery - Aorta               &  31 & Aorta          \\\\\n",
       "\t5 & Artery - Coronary            &   6 & Coronary Artery\\\\\n",
       "\t6 & Artery - Tibial              &  21 & Tibial Artery  \\\\\n",
       "\\end{tabular}\n"
      ],
      "text/markdown": [
       "\n",
       "A data.frame: 6 × 3\n",
       "\n",
       "| <!--/--> | Tissue &lt;chr&gt; | Total &lt;int&gt; | Label &lt;chr&gt; |\n",
       "|---|---|---|---|\n",
       "| 1 | Adipose - Subcutaneous       |  52 | Adipose (S)     |\n",
       "| 2 | Adipose - Visceral (Omentum) |   9 | Adipose (V)     |\n",
       "| 3 | Adrenal Gland                | 147 | Adrenal Glad    |\n",
       "| 4 | Artery - Aorta               |  31 | Aorta           |\n",
       "| 5 | Artery - Coronary            |   6 | Coronary Artery |\n",
       "| 6 | Artery - Tibial              |  21 | Tibial Artery   |\n",
       "\n"
      ],
      "text/plain": [
       "  Tissue                       Total Label          \n",
       "1 Adipose - Subcutaneous        52   Adipose (S)    \n",
       "2 Adipose - Visceral (Omentum)   9   Adipose (V)    \n",
       "3 Adrenal Gland                147   Adrenal Glad   \n",
       "4 Artery - Aorta                31   Aorta          \n",
       "5 Artery - Coronary              6   Coronary Artery\n",
       "6 Artery - Tibial               21   Tibial Artery  "
      ]
     },
     "metadata": {},
     "output_type": "display_data"
    }
   ],
   "source": [
    "totals <- read.table(\"https://github.com/adeslatt/sbas_test/releases/download/figure2e_test_file/Totals_by_tissue_annotated.txt\", \n",
    "                     sep = \"\\t\", quote = NULL, header = TRUE, stringsAsFactors = FALSE)\n",
    "head(totals)"
   ]
  },
  {
   "cell_type": "markdown",
   "metadata": {},
   "source": [
    "Using the summarizing label, where the tissues match, annotated, to summarized output, we provide the annotation label.  This will help us make the figure with cleaner labels."
   ]
  },
  {
   "cell_type": "code",
   "execution_count": 141,
   "metadata": {},
   "outputs": [
    {
     "data": {
      "text/html": [
       "<style>\n",
       ".list-inline {list-style: none; margin:0; padding: 0}\n",
       ".list-inline>li {display: inline-block}\n",
       ".list-inline>li:not(:last-child)::after {content: \"\\00b7\"; padding: 0 .5ex}\n",
       "</style>\n",
       "<ol class=list-inline><li>185</li><li>4</li></ol>\n"
      ],
      "text/latex": [
       "\\begin{enumerate*}\n",
       "\\item 185\n",
       "\\item 4\n",
       "\\end{enumerate*}\n"
      ],
      "text/markdown": [
       "1. 185\n",
       "2. 4\n",
       "\n",
       "\n"
      ],
      "text/plain": [
       "[1] 185   4"
      ]
     },
     "metadata": {},
     "output_type": "display_data"
    },
    {
     "data": {
      "text/html": [
       "<style>\n",
       ".list-inline {list-style: none; margin:0; padding: 0}\n",
       ".list-inline>li {display: inline-block}\n",
       ".list-inline>li:not(:last-child)::after {content: \"\\00b7\"; padding: 0 .5ex}\n",
       "</style>\n",
       "<ol class=list-inline><li>37</li><li>3</li></ol>\n"
      ],
      "text/latex": [
       "\\begin{enumerate*}\n",
       "\\item 37\n",
       "\\item 3\n",
       "\\end{enumerate*}\n"
      ],
      "text/markdown": [
       "1. 37\n",
       "2. 3\n",
       "\n",
       "\n"
      ],
      "text/plain": [
       "[1] 37  3"
      ]
     },
     "metadata": {},
     "output_type": "display_data"
    },
    {
     "data": {
      "text/html": [
       "<table>\n",
       "<caption>A data.frame: 6 × 4</caption>\n",
       "<thead>\n",
       "\t<tr><th></th><th scope=col>Tissue</th><th scope=col>ASE</th><th scope=col>Counts</th><th scope=col>Label</th></tr>\n",
       "\t<tr><th></th><th scope=col>&lt;chr&gt;</th><th scope=col>&lt;chr&gt;</th><th scope=col>&lt;int&gt;</th><th scope=col>&lt;fct&gt;</th></tr>\n",
       "</thead>\n",
       "<tbody>\n",
       "\t<tr><th scope=row>1</th><td>Adipose - Subcutaneous      </td><td>A3SS</td><td> 2</td><td>Adipose (S)</td></tr>\n",
       "\t<tr><th scope=row>2</th><td>Adipose - Subcutaneous      </td><td>A5SS</td><td> 4</td><td>Adipose (S)</td></tr>\n",
       "\t<tr><th scope=row>3</th><td>Adipose - Subcutaneous      </td><td>MXE </td><td> 0</td><td>Adipose (S)</td></tr>\n",
       "\t<tr><th scope=row>4</th><td>Adipose - Subcutaneous      </td><td>RI  </td><td> 2</td><td>Adipose (S)</td></tr>\n",
       "\t<tr><th scope=row>5</th><td>Adipose - Subcutaneous      </td><td>SE  </td><td>44</td><td>Adipose (S)</td></tr>\n",
       "\t<tr><th scope=row>6</th><td>Adipose - Visceral (Omentum)</td><td>A3SS</td><td> 2</td><td>Adipose (V)</td></tr>\n",
       "</tbody>\n",
       "</table>\n"
      ],
      "text/latex": [
       "A data.frame: 6 × 4\n",
       "\\begin{tabular}{r|llll}\n",
       "  & Tissue & ASE & Counts & Label\\\\\n",
       "  & <chr> & <chr> & <int> & <fct>\\\\\n",
       "\\hline\n",
       "\t1 & Adipose - Subcutaneous       & A3SS &  2 & Adipose (S)\\\\\n",
       "\t2 & Adipose - Subcutaneous       & A5SS &  4 & Adipose (S)\\\\\n",
       "\t3 & Adipose - Subcutaneous       & MXE  &  0 & Adipose (S)\\\\\n",
       "\t4 & Adipose - Subcutaneous       & RI   &  2 & Adipose (S)\\\\\n",
       "\t5 & Adipose - Subcutaneous       & SE   & 44 & Adipose (S)\\\\\n",
       "\t6 & Adipose - Visceral (Omentum) & A3SS &  2 & Adipose (V)\\\\\n",
       "\\end{tabular}\n"
      ],
      "text/markdown": [
       "\n",
       "A data.frame: 6 × 4\n",
       "\n",
       "| <!--/--> | Tissue &lt;chr&gt; | ASE &lt;chr&gt; | Counts &lt;int&gt; | Label &lt;fct&gt; |\n",
       "|---|---|---|---|---|\n",
       "| 1 | Adipose - Subcutaneous       | A3SS |  2 | Adipose (S) |\n",
       "| 2 | Adipose - Subcutaneous       | A5SS |  4 | Adipose (S) |\n",
       "| 3 | Adipose - Subcutaneous       | MXE  |  0 | Adipose (S) |\n",
       "| 4 | Adipose - Subcutaneous       | RI   |  2 | Adipose (S) |\n",
       "| 5 | Adipose - Subcutaneous       | SE   | 44 | Adipose (S) |\n",
       "| 6 | Adipose - Visceral (Omentum) | A3SS |  2 | Adipose (V) |\n",
       "\n"
      ],
      "text/plain": [
       "  Tissue                       ASE  Counts Label      \n",
       "1 Adipose - Subcutaneous       A3SS  2     Adipose (S)\n",
       "2 Adipose - Subcutaneous       A5SS  4     Adipose (S)\n",
       "3 Adipose - Subcutaneous       MXE   0     Adipose (S)\n",
       "4 Adipose - Subcutaneous       RI    2     Adipose (S)\n",
       "5 Adipose - Subcutaneous       SE   44     Adipose (S)\n",
       "6 Adipose - Visceral (Omentum) A3SS  2     Adipose (V)"
      ]
     },
     "metadata": {},
     "output_type": "display_data"
    }
   ],
   "source": [
    "idx <- match(df$Tissue, totals$Tissue)\n",
    "df$Label <- totals$Label[idx]\n",
    "df$Label <- factor(df$Label, levels = totals$Label)\n",
    "\n",
    "dim(df)\n",
    "dim(totals)\n",
    "head(df)"
   ]
  },
  {
   "cell_type": "markdown",
   "metadata": {},
   "source": [
    "Just as a check, lets ensure that the total splicing events has not been altered."
   ]
  },
  {
   "cell_type": "code",
   "execution_count": 142,
   "metadata": {},
   "outputs": [
    {
     "data": {
      "text/html": [
       "7222"
      ],
      "text/latex": [
       "7222"
      ],
      "text/markdown": [
       "7222"
      ],
      "text/plain": [
       "[1] 7222"
      ]
     },
     "metadata": {},
     "output_type": "display_data"
    },
    {
     "data": {
      "text/html": [
       "7222"
      ],
      "text/latex": [
       "7222"
      ],
      "text/markdown": [
       "7222"
      ],
      "text/plain": [
       "[1] 7222"
      ]
     },
     "metadata": {},
     "output_type": "display_data"
    }
   ],
   "source": [
    "sum(df$Counts)\n",
    "sum(totals$Total)\n"
   ]
  },
  {
   "cell_type": "markdown",
   "metadata": {},
   "source": [
    "What is the distribution of the one file with annotation for the various counts of splicing events."
   ]
  },
  {
   "cell_type": "code",
   "execution_count": 143,
   "metadata": {},
   "outputs": [
    {
     "data": {
      "text/plain": [
       "\n",
       "   0    1    2    3    4    5    6    8    9   11   12   16   18   21   26   30 \n",
       "   2    2    2    4    2    2    2    3    2    1    1    1    1    1    1    1 \n",
       "  31   44   52   76  147  377 2072 4168 \n",
       "   2    1    1    1    1    1    1    1 "
      ]
     },
     "metadata": {},
     "output_type": "display_data"
    }
   ],
   "source": [
    "table(totals$Total)"
   ]
  },
  {
   "cell_type": "markdown",
   "metadata": {},
   "source": [
    "One might expect greater granularity in the significant events file, that is not summarized, and as expected, the totals are lower as they are not summarized by tissue, but still broken out by each of the splicing events, which we want to preserve for this figure."
   ]
  },
  {
   "cell_type": "code",
   "execution_count": 144,
   "metadata": {},
   "outputs": [
    {
     "data": {
      "text/plain": [
       "\n",
       "   0    1    2    3    4    5    7    8   11   13   16   18   20   21   25   34 \n",
       "  70   34   29   12   10    4    3    1    1    1    2    1    1    1    1    1 \n",
       "  44   56   58   70  130  136  143  156  176  333  369 1541 3619 \n",
       "   1    1    1    1    1    1    1    1    1    1    1    1    1 "
      ]
     },
     "metadata": {},
     "output_type": "display_data"
    }
   ],
   "source": [
    "table(df$Counts)"
   ]
  },
  {
   "cell_type": "markdown",
   "metadata": {},
   "source": [
    "We are limiting the figure to only those tissues that have greater than ten splicing events."
   ]
  },
  {
   "cell_type": "code",
   "execution_count": 145,
   "metadata": {},
   "outputs": [
    {
     "data": {
      "text/html": [
       "<table>\n",
       "<caption>A data.frame: 6 × 3</caption>\n",
       "<thead>\n",
       "\t<tr><th></th><th scope=col>Tissue</th><th scope=col>Total</th><th scope=col>Label</th></tr>\n",
       "\t<tr><th></th><th scope=col>&lt;chr&gt;</th><th scope=col>&lt;int&gt;</th><th scope=col>&lt;chr&gt;</th></tr>\n",
       "</thead>\n",
       "<tbody>\n",
       "\t<tr><th scope=row>1</th><td>Adipose - Subcutaneous                                                                                   </td><td> 52</td><td>Adipose (S)  </td></tr>\n",
       "\t<tr><th scope=row>3</th><td>Adrenal Gland                                                                                            </td><td>147</td><td>Adrenal Glad </td></tr>\n",
       "\t<tr><th scope=row>4</th><td>Artery - Aorta                                                                                           </td><td> 31</td><td>Aorta        </td></tr>\n",
       "\t<tr><th scope=row>6</th><td>Artery - Tibial                                                                                          </td><td> 21</td><td>Tibial Artery</td></tr>\n",
       "\t<tr><th scope=row>9</th><td>Brain - Caudate (basal ganglia).Brain - Nucleus accumbens (basal ganglia).Brain - Putamen (basal ganglia)</td><td> 11</td><td>Basal Ganglia</td></tr>\n",
       "\t<tr><th scope=row>10</th><td>Brain - Cerebellum.Brain - Cerebellar Hemisphere                                                         </td><td> 18</td><td>Cerebellum   </td></tr>\n",
       "</tbody>\n",
       "</table>\n"
      ],
      "text/latex": [
       "A data.frame: 6 × 3\n",
       "\\begin{tabular}{r|lll}\n",
       "  & Tissue & Total & Label\\\\\n",
       "  & <chr> & <int> & <chr>\\\\\n",
       "\\hline\n",
       "\t1 & Adipose - Subcutaneous                                                                                    &  52 & Adipose (S)  \\\\\n",
       "\t3 & Adrenal Gland                                                                                             & 147 & Adrenal Glad \\\\\n",
       "\t4 & Artery - Aorta                                                                                            &  31 & Aorta        \\\\\n",
       "\t6 & Artery - Tibial                                                                                           &  21 & Tibial Artery\\\\\n",
       "\t9 & Brain - Caudate (basal ganglia).Brain - Nucleus accumbens (basal ganglia).Brain - Putamen (basal ganglia) &  11 & Basal Ganglia\\\\\n",
       "\t10 & Brain - Cerebellum.Brain - Cerebellar Hemisphere                                                          &  18 & Cerebellum   \\\\\n",
       "\\end{tabular}\n"
      ],
      "text/markdown": [
       "\n",
       "A data.frame: 6 × 3\n",
       "\n",
       "| <!--/--> | Tissue &lt;chr&gt; | Total &lt;int&gt; | Label &lt;chr&gt; |\n",
       "|---|---|---|---|\n",
       "| 1 | Adipose - Subcutaneous                                                                                    |  52 | Adipose (S)   |\n",
       "| 3 | Adrenal Gland                                                                                             | 147 | Adrenal Glad  |\n",
       "| 4 | Artery - Aorta                                                                                            |  31 | Aorta         |\n",
       "| 6 | Artery - Tibial                                                                                           |  21 | Tibial Artery |\n",
       "| 9 | Brain - Caudate (basal ganglia).Brain - Nucleus accumbens (basal ganglia).Brain - Putamen (basal ganglia) |  11 | Basal Ganglia |\n",
       "| 10 | Brain - Cerebellum.Brain - Cerebellar Hemisphere                                                          |  18 | Cerebellum    |\n",
       "\n"
      ],
      "text/plain": [
       "   Tissue                                                                                                   \n",
       "1  Adipose - Subcutaneous                                                                                   \n",
       "3  Adrenal Gland                                                                                            \n",
       "4  Artery - Aorta                                                                                           \n",
       "6  Artery - Tibial                                                                                          \n",
       "9  Brain - Caudate (basal ganglia).Brain - Nucleus accumbens (basal ganglia).Brain - Putamen (basal ganglia)\n",
       "10 Brain - Cerebellum.Brain - Cerebellar Hemisphere                                                         \n",
       "   Total Label        \n",
       "1   52   Adipose (S)  \n",
       "3  147   Adrenal Glad \n",
       "4   31   Aorta        \n",
       "6   21   Tibial Artery\n",
       "9   11   Basal Ganglia\n",
       "10  18   Cerebellum   "
      ]
     },
     "metadata": {},
     "output_type": "display_data"
    }
   ],
   "source": [
    "tissues_keep <- totals[totals$Total > 10,]\n",
    "head(tissues_keep)"
   ]
  },
  {
   "cell_type": "code",
   "execution_count": 146,
   "metadata": {},
   "outputs": [],
   "source": [
    "df_plot <- data.frame()\n"
   ]
  },
  {
   "cell_type": "markdown",
   "metadata": {},
   "source": [
    "This is a bit of a sanity check, before the loop is run, to see that the summary label works as we would like.  What we expect to see here is the same label on the far right for each of the alternative splicing events.  Looks good!"
   ]
  },
  {
   "cell_type": "code",
   "execution_count": 149,
   "metadata": {},
   "outputs": [],
   "source": [
    "df_tissue <- df[(df$Label %in% totals$Label[1]),]"
   ]
  },
  {
   "cell_type": "code",
   "execution_count": 150,
   "metadata": {},
   "outputs": [
    {
     "data": {
      "text/html": [
       "<table>\n",
       "<caption>A data.frame: 5 × 4</caption>\n",
       "<thead>\n",
       "\t<tr><th></th><th scope=col>Tissue</th><th scope=col>ASE</th><th scope=col>Counts</th><th scope=col>Label</th></tr>\n",
       "\t<tr><th></th><th scope=col>&lt;chr&gt;</th><th scope=col>&lt;chr&gt;</th><th scope=col>&lt;int&gt;</th><th scope=col>&lt;fct&gt;</th></tr>\n",
       "</thead>\n",
       "<tbody>\n",
       "\t<tr><th scope=row>1</th><td>Adipose - Subcutaneous</td><td>A3SS</td><td> 2</td><td>Adipose (S)</td></tr>\n",
       "\t<tr><th scope=row>2</th><td>Adipose - Subcutaneous</td><td>A5SS</td><td> 4</td><td>Adipose (S)</td></tr>\n",
       "\t<tr><th scope=row>3</th><td>Adipose - Subcutaneous</td><td>MXE </td><td> 0</td><td>Adipose (S)</td></tr>\n",
       "\t<tr><th scope=row>4</th><td>Adipose - Subcutaneous</td><td>RI  </td><td> 2</td><td>Adipose (S)</td></tr>\n",
       "\t<tr><th scope=row>5</th><td>Adipose - Subcutaneous</td><td>SE  </td><td>44</td><td>Adipose (S)</td></tr>\n",
       "</tbody>\n",
       "</table>\n"
      ],
      "text/latex": [
       "A data.frame: 5 × 4\n",
       "\\begin{tabular}{r|llll}\n",
       "  & Tissue & ASE & Counts & Label\\\\\n",
       "  & <chr> & <chr> & <int> & <fct>\\\\\n",
       "\\hline\n",
       "\t1 & Adipose - Subcutaneous & A3SS &  2 & Adipose (S)\\\\\n",
       "\t2 & Adipose - Subcutaneous & A5SS &  4 & Adipose (S)\\\\\n",
       "\t3 & Adipose - Subcutaneous & MXE  &  0 & Adipose (S)\\\\\n",
       "\t4 & Adipose - Subcutaneous & RI   &  2 & Adipose (S)\\\\\n",
       "\t5 & Adipose - Subcutaneous & SE   & 44 & Adipose (S)\\\\\n",
       "\\end{tabular}\n"
      ],
      "text/markdown": [
       "\n",
       "A data.frame: 5 × 4\n",
       "\n",
       "| <!--/--> | Tissue &lt;chr&gt; | ASE &lt;chr&gt; | Counts &lt;int&gt; | Label &lt;fct&gt; |\n",
       "|---|---|---|---|---|\n",
       "| 1 | Adipose - Subcutaneous | A3SS |  2 | Adipose (S) |\n",
       "| 2 | Adipose - Subcutaneous | A5SS |  4 | Adipose (S) |\n",
       "| 3 | Adipose - Subcutaneous | MXE  |  0 | Adipose (S) |\n",
       "| 4 | Adipose - Subcutaneous | RI   |  2 | Adipose (S) |\n",
       "| 5 | Adipose - Subcutaneous | SE   | 44 | Adipose (S) |\n",
       "\n"
      ],
      "text/plain": [
       "  Tissue                 ASE  Counts Label      \n",
       "1 Adipose - Subcutaneous A3SS  2     Adipose (S)\n",
       "2 Adipose - Subcutaneous A5SS  4     Adipose (S)\n",
       "3 Adipose - Subcutaneous MXE   0     Adipose (S)\n",
       "4 Adipose - Subcutaneous RI    2     Adipose (S)\n",
       "5 Adipose - Subcutaneous SE   44     Adipose (S)"
      ]
     },
     "metadata": {},
     "output_type": "display_data"
    }
   ],
   "source": [
    "df_tissue"
   ]
  },
  {
   "cell_type": "code",
   "execution_count": 151,
   "metadata": {},
   "outputs": [
    {
     "data": {
      "text/html": [
       "7222"
      ],
      "text/latex": [
       "7222"
      ],
      "text/markdown": [
       "7222"
      ],
      "text/plain": [
       "[1] 7222"
      ]
     },
     "metadata": {},
     "output_type": "display_data"
    }
   ],
   "source": [
    "total_df_counts <- sum(df$Counts)\n",
    "total_df_counts"
   ]
  },
  {
   "cell_type": "markdown",
   "metadata": {},
   "source": [
    "Another check, before we go for the loop, to make sure all is clean -- probably not necessary to break out each of the alternative splicing events separately, but it keeps ones mind clear on these events."
   ]
  },
  {
   "cell_type": "code",
   "execution_count": 152,
   "metadata": {},
   "outputs": [
    {
     "data": {
      "text/html": [
       "37"
      ],
      "text/latex": [
       "37"
      ],
      "text/markdown": [
       "37"
      ],
      "text/plain": [
       "[1] 37"
      ]
     },
     "metadata": {},
     "output_type": "display_data"
    },
    {
     "data": {
      "text/html": [
       "16"
      ],
      "text/latex": [
       "16"
      ],
      "text/markdown": [
       "16"
      ],
      "text/plain": [
       "[1] 16"
      ]
     },
     "metadata": {},
     "output_type": "display_data"
    },
    {
     "data": {
      "text/html": [
       "52"
      ],
      "text/latex": [
       "52"
      ],
      "text/markdown": [
       "52"
      ],
      "text/plain": [
       "[1] 52"
      ]
     },
     "metadata": {},
     "output_type": "display_data"
    },
    {
     "data": {
      "text/html": [
       "7132"
      ],
      "text/latex": [
       "7132"
      ],
      "text/markdown": [
       "7132"
      ],
      "text/plain": [
       "[1] 7132"
      ]
     },
     "metadata": {},
     "output_type": "display_data"
    },
    {
     "data": {
      "text/html": [
       "0.729108244531688"
      ],
      "text/latex": [
       "0.729108244531688"
      ],
      "text/markdown": [
       "0.729108244531688"
      ],
      "text/plain": [
       "[1] 0.7291082"
      ]
     },
     "metadata": {},
     "output_type": "display_data"
    }
   ],
   "source": [
    "length(totals$Label)\n",
    "length(tissues_keep$Label)\n",
    "tissue_splicing_events = sum(df$Counts[(df$ASE=='A3SS' | \n",
    "               df$ASE=='A5SS' |\n",
    "               df$ASE=='RI'   |\n",
    "               df$ASE=='MXE'  |\n",
    "               df$ASE=='SE'   ) & df$Label == tissues_keep$Label[1]])\n",
    "\n",
    "tissue_splicing_events\n",
    "all_splicing_events = sum(tissues_keep$Total)\n",
    "all_splicing_events\n",
    "percentage <- tissue_splicing_events/all_splicing_events*100\n",
    "percentage"
   ]
  },
  {
   "cell_type": "code",
   "execution_count": 153,
   "metadata": {},
   "outputs": [],
   "source": [
    "total_splicing_events = sum (tissues_keep$Total)\n",
    "total_splicing_events\n"
   ]
  },
  {
   "cell_type": "markdown",
   "metadata": {},
   "source": [
    "Now, we create a new data frame (df_plot), which contains the label, as well as the percentages.   This will be our data for our plot."
   ]
  },
  {
   "cell_type": "code",
   "execution_count": 176,
   "metadata": {},
   "outputs": [
    {
     "data": {
      "text/html": [
       "<style>\n",
       ".list-inline {list-style: none; margin:0; padding: 0}\n",
       ".list-inline>li {display: inline-block}\n",
       ".list-inline>li:not(:last-child)::after {content: \"\\00b7\"; padding: 0 .5ex}\n",
       "</style>\n",
       "<ol class=list-inline><li>80</li><li>5</li></ol>\n"
      ],
      "text/latex": [
       "\\begin{enumerate*}\n",
       "\\item 80\n",
       "\\item 5\n",
       "\\end{enumerate*}\n"
      ],
      "text/markdown": [
       "1. 80\n",
       "2. 5\n",
       "\n",
       "\n"
      ],
      "text/plain": [
       "[1] 80  5"
      ]
     },
     "metadata": {},
     "output_type": "display_data"
    },
    {
     "data": {
      "text/html": [
       "<table>\n",
       "<caption>A data.frame: 6 × 5</caption>\n",
       "<thead>\n",
       "\t<tr><th></th><th scope=col>Tissue</th><th scope=col>ASE</th><th scope=col>Counts</th><th scope=col>Label</th><th scope=col>Perc</th></tr>\n",
       "\t<tr><th></th><th scope=col>&lt;chr&gt;</th><th scope=col>&lt;chr&gt;</th><th scope=col>&lt;int&gt;</th><th scope=col>&lt;fct&gt;</th><th scope=col>&lt;dbl&gt;</th></tr>\n",
       "</thead>\n",
       "<tbody>\n",
       "\t<tr><th scope=row>1</th><td>Adipose - Subcutaneous</td><td>A3SS</td><td> 2</td><td>Adipose (S) </td><td> 3.846154</td></tr>\n",
       "\t<tr><th scope=row>2</th><td>Adipose - Subcutaneous</td><td>A5SS</td><td> 4</td><td>Adipose (S) </td><td> 7.692308</td></tr>\n",
       "\t<tr><th scope=row>3</th><td>Adipose - Subcutaneous</td><td>MXE </td><td> 0</td><td>Adipose (S) </td><td> 0.000000</td></tr>\n",
       "\t<tr><th scope=row>4</th><td>Adipose - Subcutaneous</td><td>RI  </td><td> 2</td><td>Adipose (S) </td><td> 3.846154</td></tr>\n",
       "\t<tr><th scope=row>5</th><td>Adipose - Subcutaneous</td><td>SE  </td><td>44</td><td>Adipose (S) </td><td>84.615385</td></tr>\n",
       "\t<tr><th scope=row>11</th><td>Adrenal Gland         </td><td>A3SS</td><td> 2</td><td>Adrenal Glad</td><td> 1.360544</td></tr>\n",
       "</tbody>\n",
       "</table>\n"
      ],
      "text/latex": [
       "A data.frame: 6 × 5\n",
       "\\begin{tabular}{r|lllll}\n",
       "  & Tissue & ASE & Counts & Label & Perc\\\\\n",
       "  & <chr> & <chr> & <int> & <fct> & <dbl>\\\\\n",
       "\\hline\n",
       "\t1 & Adipose - Subcutaneous & A3SS &  2 & Adipose (S)  &  3.846154\\\\\n",
       "\t2 & Adipose - Subcutaneous & A5SS &  4 & Adipose (S)  &  7.692308\\\\\n",
       "\t3 & Adipose - Subcutaneous & MXE  &  0 & Adipose (S)  &  0.000000\\\\\n",
       "\t4 & Adipose - Subcutaneous & RI   &  2 & Adipose (S)  &  3.846154\\\\\n",
       "\t5 & Adipose - Subcutaneous & SE   & 44 & Adipose (S)  & 84.615385\\\\\n",
       "\t11 & Adrenal Gland          & A3SS &  2 & Adrenal Glad &  1.360544\\\\\n",
       "\\end{tabular}\n"
      ],
      "text/markdown": [
       "\n",
       "A data.frame: 6 × 5\n",
       "\n",
       "| <!--/--> | Tissue &lt;chr&gt; | ASE &lt;chr&gt; | Counts &lt;int&gt; | Label &lt;fct&gt; | Perc &lt;dbl&gt; |\n",
       "|---|---|---|---|---|---|\n",
       "| 1 | Adipose - Subcutaneous | A3SS |  2 | Adipose (S)  |  3.846154 |\n",
       "| 2 | Adipose - Subcutaneous | A5SS |  4 | Adipose (S)  |  7.692308 |\n",
       "| 3 | Adipose - Subcutaneous | MXE  |  0 | Adipose (S)  |  0.000000 |\n",
       "| 4 | Adipose - Subcutaneous | RI   |  2 | Adipose (S)  |  3.846154 |\n",
       "| 5 | Adipose - Subcutaneous | SE   | 44 | Adipose (S)  | 84.615385 |\n",
       "| 11 | Adrenal Gland          | A3SS |  2 | Adrenal Glad |  1.360544 |\n",
       "\n"
      ],
      "text/plain": [
       "   Tissue                 ASE  Counts Label        Perc     \n",
       "1  Adipose - Subcutaneous A3SS  2     Adipose (S)   3.846154\n",
       "2  Adipose - Subcutaneous A5SS  4     Adipose (S)   7.692308\n",
       "3  Adipose - Subcutaneous MXE   0     Adipose (S)   0.000000\n",
       "4  Adipose - Subcutaneous RI    2     Adipose (S)   3.846154\n",
       "5  Adipose - Subcutaneous SE   44     Adipose (S)  84.615385\n",
       "11 Adrenal Gland          A3SS  2     Adrenal Glad  1.360544"
      ]
     },
     "metadata": {},
     "output_type": "display_data"
    }
   ],
   "source": [
    "df_plot <- data.frame()\n",
    "for (i in 1:length(tissues_keep$Label)) {\n",
    "    tissue_splicing_events = sum(df$Counts[(df$ASE=='A3SS' | \n",
    "                                          df$ASE=='A5SS' |\n",
    "                                          df$ASE=='RI'   |\n",
    "                                          df$ASE=='MXE'  |\n",
    "                                          df$ASE=='SE'   ) \n",
    "                                        & df$Label == tissues_keep$Label[i]])\n",
    "    \n",
    "    df_tissue      <- df[(df$Label %in% tissues_keep$Label[i]),]\n",
    "    df_tissue$Perc <- (df_tissue$Counts / tissue_splicing_events) * 100\n",
    "    if (i == 1)\n",
    "        df_plot <- df_tissue\n",
    "    else\n",
    "        df_plot <- rbind(df_plot, df_tissue)\n",
    "}  \n",
    "dim(df_plot)\n",
    "head(df_plot)"
   ]
  },
  {
   "cell_type": "markdown",
   "metadata": {},
   "source": [
    "Now, we make our plot, it will be collored by the proportion of each splicing event for each of the tissues that have greater than 10 splicing events.   "
   ]
  },
  {
   "cell_type": "code",
   "execution_count": 177,
   "metadata": {},
   "outputs": [
    {
     "data": {
      "image/png": "[encoded data removed]",
      "text/plain": [
       "plot without title"
      ]
     },
     "metadata": {},
     "output_type": "display_data"
    }
   ],
   "source": [
    "p<-ggplot(df_plot, \n",
    "       aes(x=Label, y=Perc, fill = ASE, by = Tissue)) +\n",
    "  geom_bar(stat = \"identity\", width = 0.8) +\n",
    "  theme_bw() +\n",
    "  theme(axis.text.x = element_text(size=12, angle = 270, hjust = 0.0, vjust = 0.5),\n",
    "        #axis.ticks.x = element_blank(),\n",
    "        axis.text.y = element_text(size=12),\n",
    "        axis.title.x = element_text(face=\"plain\", colour=\"black\", size=12),\n",
    "        axis.title.y = element_text(face=\"plain\", colour=\"black\", size=12),\n",
    "        legend.title=element_blank(),\n",
    "        panel.background=element_blank(),\n",
    "        panel.border=element_blank(),\n",
    "        panel.grid.major=element_blank(),\n",
    "        legend.text = element_text(face=\"plain\", colour=\"black\", size=12)\n",
    "  ) +\n",
    "  #scale_fill_brewer(palette=\"Dark2\") +\n",
    "  #scale_fill_manual(values = palette_npg) +\n",
    "  scale_fill_viridis(discrete=TRUE) +\n",
    "  ylab(\"Splicing type (%)\") +\n",
    "  xlab(\"Tissue\")\n",
    "p"
   ]
  },
  {
   "cell_type": "code",
   "execution_count": 178,
   "metadata": {},
   "outputs": [
    {
     "name": "stderr",
     "output_type": "stream",
     "text": [
      "Saving 6.67 x 6.67 in image\n"
     ]
    }
   ],
   "source": [
    "ggsave(file = \"../pdf/Figure2e.pdf\", plot = p)"
   ]
  },
  {
   "cell_type": "markdown",
   "metadata": {},
   "source": [
    "## ... \n",
    "more of the above sequence"
   ]
  },
  {
   "cell_type": "markdown",
   "metadata": {},
   "source": [
    "## Metadata\n",
    "\n",
    "For replicability and reproducibility purposes, we also print the following metadata:\n",
    "\n",
    "1. Checksums of **'artefacts'**, files generated during the analysis and stored in the folder directory **`data`**\n",
    "2. List of environment metadata, dependencies, versions of libraries using `utils::sessionInfo()` and [`devtools::session_info()`](https://devtools.r-lib.org/reference/session_info.html)"
   ]
  },
  {
   "cell_type": "markdown",
   "metadata": {},
   "source": [
    "### 1. Checksums with the sha256 algorithm"
   ]
  },
  {
   "cell_type": "code",
   "execution_count": 137,
   "metadata": {},
   "outputs": [
    {
     "name": "stderr",
     "output_type": "stream",
     "text": [
      "Generating sha256 checksums of the artefacts in the `..data/` directory .. \n"
     ]
    },
    {
     "data": {
      "text/html": [],
      "text/latex": [],
      "text/markdown": [],
      "text/plain": [
       "character(0)"
      ]
     },
     "metadata": {},
     "output_type": "display_data"
    },
    {
     "name": "stderr",
     "output_type": "stream",
     "text": [
      "Done!\n",
      "\n"
     ]
    },
    {
     "data": {
      "text/html": [
       "<table>\n",
       "<caption>A data.table: 1 × 2</caption>\n",
       "<thead>\n",
       "\t<tr><th scope=col>sha256sum</th><th scope=col>file</th></tr>\n",
       "\t<tr><th scope=col>&lt;chr&gt;</th><th scope=col>&lt;chr&gt;</th></tr>\n",
       "</thead>\n",
       "<tbody>\n",
       "\t<tr><td>5146c849c9354129590c59da5e6040a074523b4827d0975e3f5fa43737af7e9a</td><td>README.md</td></tr>\n",
       "</tbody>\n",
       "</table>\n"
      ],
      "text/latex": [
       "A data.table: 1 × 2\n",
       "\\begin{tabular}{ll}\n",
       " sha256sum & file\\\\\n",
       " <chr> & <chr>\\\\\n",
       "\\hline\n",
       "\t 5146c849c9354129590c59da5e6040a074523b4827d0975e3f5fa43737af7e9a & README.md\\\\\n",
       "\\end{tabular}\n"
      ],
      "text/markdown": [
       "\n",
       "A data.table: 1 × 2\n",
       "\n",
       "| sha256sum &lt;chr&gt; | file &lt;chr&gt; |\n",
       "|---|---|\n",
       "| 5146c849c9354129590c59da5e6040a074523b4827d0975e3f5fa43737af7e9a | README.md |\n",
       "\n"
      ],
      "text/plain": [
       "  sha256sum                                                        file     \n",
       "1 5146c849c9354129590c59da5e6040a074523b4827d0975e3f5fa43737af7e9a README.md"
      ]
     },
     "metadata": {},
     "output_type": "display_data"
    }
   ],
   "source": [
    "figure_id   = \"Figure2e\"\n",
    "\n",
    "message(\"Generating sha256 checksums of the artefacts in the `..data/` directory .. \")\n",
    "system(paste0(\"cd ../data/ && sha256sum * > ../metadata/\", figure_id, \"_sha256sums.txt\"), intern = TRUE)\n",
    "message(\"Done!\\n\")\n",
    "\n",
    "data.table::fread(paste0(\"../metadata/\", figure_id, \"_sha256sums.txt\"), header = FALSE, col.names = c(\"sha256sum\", \"file\"))"
   ]
  },
  {
   "cell_type": "markdown",
   "metadata": {},
   "source": [
    "### 2. Libraries metadata"
   ]
  },
  {
   "cell_type": "code",
   "execution_count": 138,
   "metadata": {},
   "outputs": [
    {
     "name": "stderr",
     "output_type": "stream",
     "text": [
      "Saving `devtools::session_info()` objects in ../metadata/devtools_session_info.rds  ..\n",
      "Done!\n",
      "\n",
      "Saving `utils::sessionInfo()` objects in ../metadata/utils_session_info.rds  ..\n",
      "Done!\n",
      "\n"
     ]
    },
    {
     "data": {
      "text/plain": [
       " setting  value                       \n",
       " version  R version 3.6.1 (2019-07-05)\n",
       " os       Ubuntu 18.04.3 LTS          \n",
       " system   x86_64, linux-gnu           \n",
       " ui       X11                         \n",
       " language en_US.UTF-8                 \n",
       " collate  en_US.UTF-8                 \n",
       " ctype    en_US.UTF-8                 \n",
       " tz       Etc/UTC                     \n",
       " date     2020-02-28                  "
      ]
     },
     "metadata": {},
     "output_type": "display_data"
    },
    {
     "data": {
      "text/html": [
       "<table>\n",
       "<caption>A packages_info: 4 × 11</caption>\n",
       "<thead>\n",
       "\t<tr><th></th><th scope=col>package</th><th scope=col>ondiskversion</th><th scope=col>loadedversion</th><th scope=col>path</th><th scope=col>loadedpath</th><th scope=col>attached</th><th scope=col>is_base</th><th scope=col>date</th><th scope=col>source</th><th scope=col>md5ok</th><th scope=col>library</th></tr>\n",
       "\t<tr><th></th><th scope=col>&lt;chr&gt;</th><th scope=col>&lt;chr&gt;</th><th scope=col>&lt;chr&gt;</th><th scope=col>&lt;chr&gt;</th><th scope=col>&lt;chr&gt;</th><th scope=col>&lt;lgl&gt;</th><th scope=col>&lt;lgl&gt;</th><th scope=col>&lt;chr&gt;</th><th scope=col>&lt;chr&gt;</th><th scope=col>&lt;lgl&gt;</th><th scope=col>&lt;fct&gt;</th></tr>\n",
       "</thead>\n",
       "<tbody>\n",
       "\t<tr><th scope=row>ggplot2</th><td>ggplot2    </td><td>3.2.1</td><td>3.2.1</td><td>/opt/conda/lib/R/library/ggplot2    </td><td>/opt/conda/lib/R/library/ggplot2    </td><td>TRUE</td><td>FALSE</td><td>2019-08-10</td><td>CRAN (R 3.6.1)</td><td>NA</td><td>/opt/conda/lib/R/library</td></tr>\n",
       "\t<tr><th scope=row>magrittr</th><td>magrittr   </td><td>1.5  </td><td>1.5  </td><td>/opt/conda/lib/R/library/magrittr   </td><td>/opt/conda/lib/R/library/magrittr   </td><td>TRUE</td><td>FALSE</td><td>2014-11-22</td><td>CRAN (R 3.6.1)</td><td>NA</td><td>/opt/conda/lib/R/library</td></tr>\n",
       "\t<tr><th scope=row>viridis</th><td>viridis    </td><td>0.5.1</td><td>0.5.1</td><td>/opt/conda/lib/R/library/viridis    </td><td>/opt/conda/lib/R/library/viridis    </td><td>TRUE</td><td>FALSE</td><td>2018-03-29</td><td>CRAN (R 3.6.1)</td><td>NA</td><td>/opt/conda/lib/R/library</td></tr>\n",
       "\t<tr><th scope=row>viridisLite</th><td>viridisLite</td><td>0.3.0</td><td>0.3.0</td><td>/opt/conda/lib/R/library/viridisLite</td><td>/opt/conda/lib/R/library/viridisLite</td><td>TRUE</td><td>FALSE</td><td>2018-02-01</td><td>CRAN (R 3.6.1)</td><td>NA</td><td>/opt/conda/lib/R/library</td></tr>\n",
       "</tbody>\n",
       "</table>\n"
      ],
      "text/latex": [
       "A packages\\_info: 4 × 11\n",
       "\\begin{tabular}{r|lllllllllll}\n",
       "  & package & ondiskversion & loadedversion & path & loadedpath & attached & is\\_base & date & source & md5ok & library\\\\\n",
       "  & <chr> & <chr> & <chr> & <chr> & <chr> & <lgl> & <lgl> & <chr> & <chr> & <lgl> & <fct>\\\\\n",
       "\\hline\n",
       "\tggplot2 & ggplot2     & 3.2.1 & 3.2.1 & /opt/conda/lib/R/library/ggplot2     & /opt/conda/lib/R/library/ggplot2     & TRUE & FALSE & 2019-08-10 & CRAN (R 3.6.1) & NA & /opt/conda/lib/R/library\\\\\n",
       "\tmagrittr & magrittr    & 1.5   & 1.5   & /opt/conda/lib/R/library/magrittr    & /opt/conda/lib/R/library/magrittr    & TRUE & FALSE & 2014-11-22 & CRAN (R 3.6.1) & NA & /opt/conda/lib/R/library\\\\\n",
       "\tviridis & viridis     & 0.5.1 & 0.5.1 & /opt/conda/lib/R/library/viridis     & /opt/conda/lib/R/library/viridis     & TRUE & FALSE & 2018-03-29 & CRAN (R 3.6.1) & NA & /opt/conda/lib/R/library\\\\\n",
       "\tviridisLite & viridisLite & 0.3.0 & 0.3.0 & /opt/conda/lib/R/library/viridisLite & /opt/conda/lib/R/library/viridisLite & TRUE & FALSE & 2018-02-01 & CRAN (R 3.6.1) & NA & /opt/conda/lib/R/library\\\\\n",
       "\\end{tabular}\n"
      ],
      "text/markdown": [
       "\n",
       "A packages_info: 4 × 11\n",
       "\n",
       "| <!--/--> | package &lt;chr&gt; | ondiskversion &lt;chr&gt; | loadedversion &lt;chr&gt; | path &lt;chr&gt; | loadedpath &lt;chr&gt; | attached &lt;lgl&gt; | is_base &lt;lgl&gt; | date &lt;chr&gt; | source &lt;chr&gt; | md5ok &lt;lgl&gt; | library &lt;fct&gt; |\n",
       "|---|---|---|---|---|---|---|---|---|---|---|---|\n",
       "| ggplot2 | ggplot2     | 3.2.1 | 3.2.1 | /opt/conda/lib/R/library/ggplot2     | /opt/conda/lib/R/library/ggplot2     | TRUE | FALSE | 2019-08-10 | CRAN (R 3.6.1) | NA | /opt/conda/lib/R/library |\n",
       "| magrittr | magrittr    | 1.5   | 1.5   | /opt/conda/lib/R/library/magrittr    | /opt/conda/lib/R/library/magrittr    | TRUE | FALSE | 2014-11-22 | CRAN (R 3.6.1) | NA | /opt/conda/lib/R/library |\n",
       "| viridis | viridis     | 0.5.1 | 0.5.1 | /opt/conda/lib/R/library/viridis     | /opt/conda/lib/R/library/viridis     | TRUE | FALSE | 2018-03-29 | CRAN (R 3.6.1) | NA | /opt/conda/lib/R/library |\n",
       "| viridisLite | viridisLite | 0.3.0 | 0.3.0 | /opt/conda/lib/R/library/viridisLite | /opt/conda/lib/R/library/viridisLite | TRUE | FALSE | 2018-02-01 | CRAN (R 3.6.1) | NA | /opt/conda/lib/R/library |\n",
       "\n"
      ],
      "text/plain": [
       "            package     ondiskversion loadedversion\n",
       "ggplot2     ggplot2     3.2.1         3.2.1        \n",
       "magrittr    magrittr    1.5           1.5          \n",
       "viridis     viridis     0.5.1         0.5.1        \n",
       "viridisLite viridisLite 0.3.0         0.3.0        \n",
       "            path                                \n",
       "ggplot2     /opt/conda/lib/R/library/ggplot2    \n",
       "magrittr    /opt/conda/lib/R/library/magrittr   \n",
       "viridis     /opt/conda/lib/R/library/viridis    \n",
       "viridisLite /opt/conda/lib/R/library/viridisLite\n",
       "            loadedpath                           attached is_base date      \n",
       "ggplot2     /opt/conda/lib/R/library/ggplot2     TRUE     FALSE   2019-08-10\n",
       "magrittr    /opt/conda/lib/R/library/magrittr    TRUE     FALSE   2014-11-22\n",
       "viridis     /opt/conda/lib/R/library/viridis     TRUE     FALSE   2018-03-29\n",
       "viridisLite /opt/conda/lib/R/library/viridisLite TRUE     FALSE   2018-02-01\n",
       "            source         md5ok library                 \n",
       "ggplot2     CRAN (R 3.6.1) NA    /opt/conda/lib/R/library\n",
       "magrittr    CRAN (R 3.6.1) NA    /opt/conda/lib/R/library\n",
       "viridis     CRAN (R 3.6.1) NA    /opt/conda/lib/R/library\n",
       "viridisLite CRAN (R 3.6.1) NA    /opt/conda/lib/R/library"
      ]
     },
     "metadata": {},
     "output_type": "display_data"
    }
   ],
   "source": [
    "figure_id   = \"Figure2e\"\n",
    "\n",
    "dev_session_info   <- devtools::session_info()\n",
    "utils_session_info <- utils::sessionInfo()\n",
    "\n",
    "message(\"Saving `devtools::session_info()` objects in ../metadata/devtools_session_info.rds  ..\")\n",
    "saveRDS(dev_session_info, file = paste0(\"../metadata/\", figure_id, \"_devtools_session_info.rds\"))\n",
    "message(\"Done!\\n\")\n",
    "\n",
    "message(\"Saving `utils::sessionInfo()` objects in ../metadata/utils_session_info.rds  ..\")\n",
    "saveRDS(utils_session_info, file = paste0(\"../metadata/\", figure_id ,\"_utils_info.rds\"))\n",
    "message(\"Done!\\n\")\n",
    "\n",
    "dev_session_info$platform\n",
    "dev_session_info$packages[dev_session_info$packages$attached==TRUE, ]"
   ]
  },
  {
   "cell_type": "code",
   "execution_count": null,
   "metadata": {},
   "outputs": [],
   "source": []
  }
 ],
 "metadata": {
  "kernelspec": {
   "display_name": "R",
   "language": "R",
   "name": "ir"
  },
  "language_info": {
   "codemirror_mode": "r",
   "file_extension": ".r",
   "mimetype": "text/x-r-source",
   "name": "R",
   "pygments_lexer": "r",
   "version": "3.6.1"
  }
 },
 "nbformat": 4,
 "nbformat_minor": 4
}
