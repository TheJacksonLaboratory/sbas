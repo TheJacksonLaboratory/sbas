{
 "cells": [
  {
   "cell_type": "markdown",
   "metadata": {},
   "source": [
    "<h1>Figure 1C</h1>"
   ]
  },
  {
   "cell_type": "code",
   "execution_count": 1,
   "metadata": {},
   "outputs": [],
   "source": [
    "#fname <- \"https://storage.googleapis.com/gtex_analysis_v8/annotations/GTEx_Analysis_v8_Annotations_SampleAttributesDS.txt\""
   ]
  },
  {
   "cell_type": "code",
   "execution_count": 42,
   "metadata": {},
   "outputs": [],
   "source": [
    "rm(list = ls())"
   ]
  },
  {
   "cell_type": "code",
   "execution_count": 43,
   "metadata": {},
   "outputs": [],
   "source": [
    "dfile <- 'data/SraRunTable.noCram.noExome.noWGS.totalRNA.txt'"
   ]
  },
  {
   "cell_type": "code",
   "execution_count": 55,
   "metadata": {},
   "outputs": [],
   "source": [
    "meta.data <- read.csv(dfile, header=FALSE)"
   ]
  },
  {
   "cell_type": "code",
   "execution_count": 56,
   "metadata": {},
   "outputs": [],
   "source": [
    "#rnaseq <- dat[which(dat$SMAFRZE==\"RNASEQ\"),]\n"
   ]
  },
  {
   "cell_type": "code",
   "execution_count": 57,
   "metadata": {},
   "outputs": [
    {
     "data": {
      "text/html": [
       "<style>\n",
       ".list-inline {list-style: none; margin:0; padding: 0}\n",
       ".list-inline>li {display: inline-block}\n",
       ".list-inline>li:not(:last-child)::after {content: \"\\00b7\"; padding: 0 .5ex}\n",
       "</style>\n",
       "<ol class=list-inline><li>9785</li><li>79</li></ol>\n"
      ],
      "text/latex": [
       "\\begin{enumerate*}\n",
       "\\item 9785\n",
       "\\item 79\n",
       "\\end{enumerate*}\n"
      ],
      "text/markdown": [
       "1. 9785\n",
       "2. 79\n",
       "\n",
       "\n"
      ],
      "text/plain": [
       "[1] 9785   79"
      ]
     },
     "metadata": {},
     "output_type": "display_data"
    }
   ],
   "source": [
    "dim(meta.data)"
   ]
  },
  {
   "cell_type": "code",
   "execution_count": 58,
   "metadata": {},
   "outputs": [
    {
     "data": {
      "text/html": [
       "<table>\n",
       "<caption>A data.frame: 6 × 79</caption>\n",
       "<thead>\n",
       "\t<tr><th></th><th scope=col>V1</th><th scope=col>V2</th><th scope=col>V3</th><th scope=col>V4</th><th scope=col>V5</th><th scope=col>V6</th><th scope=col>V7</th><th scope=col>V8</th><th scope=col>V9</th><th scope=col>V10</th><th scope=col>⋯</th><th scope=col>V70</th><th scope=col>V71</th><th scope=col>V72</th><th scope=col>V73</th><th scope=col>V74</th><th scope=col>V75</th><th scope=col>V76</th><th scope=col>V77</th><th scope=col>V78</th><th scope=col>V79</th></tr>\n",
       "\t<tr><th></th><th scope=col>&lt;fct&gt;</th><th scope=col>&lt;fct&gt;</th><th scope=col>&lt;fct&gt;</th><th scope=col>&lt;int&gt;</th><th scope=col>&lt;dbl&gt;</th><th scope=col>&lt;fct&gt;</th><th scope=col>&lt;fct&gt;</th><th scope=col>&lt;fct&gt;</th><th scope=col>&lt;fct&gt;</th><th scope=col>&lt;fct&gt;</th><th scope=col>⋯</th><th scope=col>&lt;fct&gt;</th><th scope=col>&lt;fct&gt;</th><th scope=col>&lt;fct&gt;</th><th scope=col>&lt;dbl&gt;</th><th scope=col>&lt;dbl&gt;</th><th scope=col>&lt;fct&gt;</th><th scope=col>&lt;lgl&gt;</th><th scope=col>&lt;fct&gt;</th><th scope=col>&lt;fct&gt;</th><th scope=col>&lt;lgl&gt;</th></tr>\n",
       "</thead>\n",
       "<tbody>\n",
       "\t<tr><th scope=row>1</th><td>SRR2157314</td><td>RNA:Total RNA</td><td>RNA-Seq</td><td>500</td><td>49773955000</td><td>PRJNA75899</td><td>SAMN03878353</td><td>GTEx</td><td>GTEX-T6MN-0226-SM-5S2SO     </td><td>Adipose - Subcutaneous      </td><td>⋯</td><td>RNA</td><td>P-RNA-0009</td><td>P-RNA-0009</td><td>NA</td><td>NA</td><td></td><td>NA</td><td></td><td></td><td>NA</td></tr>\n",
       "\t<tr><th scope=row>2</th><td>SRR2157460</td><td>RNA:Total RNA</td><td>RNA-Seq</td><td>500</td><td>48762020000</td><td>PRJNA75899</td><td>SAMN03877433</td><td>GTEx</td><td>GTEX-XLM4-0011-R10A-SM-5S2TN</td><td>Brain - Frontal Cortex (BA9)</td><td>⋯</td><td>RNA</td><td>P-RNA-0009</td><td>P-RNA-0009</td><td>NA</td><td>NA</td><td></td><td>NA</td><td></td><td></td><td>NA</td></tr>\n",
       "\t<tr><th scope=row>3</th><td>SRR2164562</td><td>RNA:Total RNA</td><td>RNA-Seq</td><td>500</td><td>50374455500</td><td>PRJNA75899</td><td>SAMN03877762</td><td>GTEx</td><td>GTEX-S32W-0726-SM-5S2T3     </td><td>Thyroid                     </td><td>⋯</td><td>RNA</td><td>P-RNA-0009</td><td>P-RNA-0009</td><td>NA</td><td>NA</td><td></td><td>NA</td><td></td><td></td><td>NA</td></tr>\n",
       "\t<tr><th scope=row>4</th><td>SRR2164608</td><td>RNA:Total RNA</td><td>RNA-Seq</td><td>500</td><td>49373870000</td><td>PRJNA75899</td><td>SAMN03877938</td><td>GTEx</td><td>GTEX-VUSG-2426-SM-5S2S2     </td><td>Adipose - Subcutaneous      </td><td>⋯</td><td>RNA</td><td>P-RNA-0009</td><td>P-RNA-0009</td><td>NA</td><td>NA</td><td></td><td>NA</td><td></td><td></td><td>NA</td></tr>\n",
       "\t<tr><th scope=row>5</th><td>SRR2170135</td><td>RNA:Total RNA</td><td>RNA-Seq</td><td>500</td><td>46078920500</td><td>PRJNA75899</td><td>SAMN03878198</td><td>GTEx</td><td>GTEX-T6MN-0826-SM-5S2SK     </td><td>Lung                        </td><td>⋯</td><td>RNA</td><td>P-RNA-0009</td><td>P-RNA-0009</td><td>NA</td><td>NA</td><td></td><td>NA</td><td></td><td></td><td>NA</td></tr>\n",
       "\t<tr><th scope=row>6</th><td>SRR2170173</td><td>RNA:Total RNA</td><td>RNA-Seq</td><td>500</td><td>45386225000</td><td>PRJNA75899</td><td>SAMN03878158</td><td>GTEx</td><td>GTEX-XXEK-2426-SM-5S2S8     </td><td>Adipose - Subcutaneous      </td><td>⋯</td><td>RNA</td><td>P-RNA-0009</td><td>P-RNA-0009</td><td>NA</td><td>NA</td><td></td><td>NA</td><td></td><td></td><td>NA</td></tr>\n",
       "</tbody>\n",
       "</table>\n"
      ],
      "text/latex": [
       "A data.frame: 6 × 79\n",
       "\\begin{tabular}{r|lllllllllllllllllllll}\n",
       "  & V1 & V2 & V3 & V4 & V5 & V6 & V7 & V8 & V9 & V10 & ⋯ & V70 & V71 & V72 & V73 & V74 & V75 & V76 & V77 & V78 & V79\\\\\n",
       "  & <fct> & <fct> & <fct> & <int> & <dbl> & <fct> & <fct> & <fct> & <fct> & <fct> & ⋯ & <fct> & <fct> & <fct> & <dbl> & <dbl> & <fct> & <lgl> & <fct> & <fct> & <lgl>\\\\\n",
       "\\hline\n",
       "\t1 & SRR2157314 & RNA:Total RNA & RNA-Seq & 500 & 49773955000 & PRJNA75899 & SAMN03878353 & GTEx & GTEX-T6MN-0226-SM-5S2SO      & Adipose - Subcutaneous       & ⋯ & RNA & P-RNA-0009 & P-RNA-0009 & NA & NA &  & NA &  &  & NA\\\\\n",
       "\t2 & SRR2157460 & RNA:Total RNA & RNA-Seq & 500 & 48762020000 & PRJNA75899 & SAMN03877433 & GTEx & GTEX-XLM4-0011-R10A-SM-5S2TN & Brain - Frontal Cortex (BA9) & ⋯ & RNA & P-RNA-0009 & P-RNA-0009 & NA & NA &  & NA &  &  & NA\\\\\n",
       "\t3 & SRR2164562 & RNA:Total RNA & RNA-Seq & 500 & 50374455500 & PRJNA75899 & SAMN03877762 & GTEx & GTEX-S32W-0726-SM-5S2T3      & Thyroid                      & ⋯ & RNA & P-RNA-0009 & P-RNA-0009 & NA & NA &  & NA &  &  & NA\\\\\n",
       "\t4 & SRR2164608 & RNA:Total RNA & RNA-Seq & 500 & 49373870000 & PRJNA75899 & SAMN03877938 & GTEx & GTEX-VUSG-2426-SM-5S2S2      & Adipose - Subcutaneous       & ⋯ & RNA & P-RNA-0009 & P-RNA-0009 & NA & NA &  & NA &  &  & NA\\\\\n",
       "\t5 & SRR2170135 & RNA:Total RNA & RNA-Seq & 500 & 46078920500 & PRJNA75899 & SAMN03878198 & GTEx & GTEX-T6MN-0826-SM-5S2SK      & Lung                         & ⋯ & RNA & P-RNA-0009 & P-RNA-0009 & NA & NA &  & NA &  &  & NA\\\\\n",
       "\t6 & SRR2170173 & RNA:Total RNA & RNA-Seq & 500 & 45386225000 & PRJNA75899 & SAMN03878158 & GTEx & GTEX-XXEK-2426-SM-5S2S8      & Adipose - Subcutaneous       & ⋯ & RNA & P-RNA-0009 & P-RNA-0009 & NA & NA &  & NA &  &  & NA\\\\\n",
       "\\end{tabular}\n"
      ],
      "text/markdown": [
       "\n",
       "A data.frame: 6 × 79\n",
       "\n",
       "| <!--/--> | V1 &lt;fct&gt; | V2 &lt;fct&gt; | V3 &lt;fct&gt; | V4 &lt;int&gt; | V5 &lt;dbl&gt; | V6 &lt;fct&gt; | V7 &lt;fct&gt; | V8 &lt;fct&gt; | V9 &lt;fct&gt; | V10 &lt;fct&gt; | ⋯ ⋯ | V70 &lt;fct&gt; | V71 &lt;fct&gt; | V72 &lt;fct&gt; | V73 &lt;dbl&gt; | V74 &lt;dbl&gt; | V75 &lt;fct&gt; | V76 &lt;lgl&gt; | V77 &lt;fct&gt; | V78 &lt;fct&gt; | V79 &lt;lgl&gt; |\n",
       "|---|---|---|---|---|---|---|---|---|---|---|---|---|---|---|---|---|---|---|---|---|---|\n",
       "| 1 | SRR2157314 | RNA:Total RNA | RNA-Seq | 500 | 49773955000 | PRJNA75899 | SAMN03878353 | GTEx | GTEX-T6MN-0226-SM-5S2SO      | Adipose - Subcutaneous       | ⋯ | RNA | P-RNA-0009 | P-RNA-0009 | NA | NA | <!----> | NA | <!----> | <!----> | NA |\n",
       "| 2 | SRR2157460 | RNA:Total RNA | RNA-Seq | 500 | 48762020000 | PRJNA75899 | SAMN03877433 | GTEx | GTEX-XLM4-0011-R10A-SM-5S2TN | Brain - Frontal Cortex (BA9) | ⋯ | RNA | P-RNA-0009 | P-RNA-0009 | NA | NA | <!----> | NA | <!----> | <!----> | NA |\n",
       "| 3 | SRR2164562 | RNA:Total RNA | RNA-Seq | 500 | 50374455500 | PRJNA75899 | SAMN03877762 | GTEx | GTEX-S32W-0726-SM-5S2T3      | Thyroid                      | ⋯ | RNA | P-RNA-0009 | P-RNA-0009 | NA | NA | <!----> | NA | <!----> | <!----> | NA |\n",
       "| 4 | SRR2164608 | RNA:Total RNA | RNA-Seq | 500 | 49373870000 | PRJNA75899 | SAMN03877938 | GTEx | GTEX-VUSG-2426-SM-5S2S2      | Adipose - Subcutaneous       | ⋯ | RNA | P-RNA-0009 | P-RNA-0009 | NA | NA | <!----> | NA | <!----> | <!----> | NA |\n",
       "| 5 | SRR2170135 | RNA:Total RNA | RNA-Seq | 500 | 46078920500 | PRJNA75899 | SAMN03878198 | GTEx | GTEX-T6MN-0826-SM-5S2SK      | Lung                         | ⋯ | RNA | P-RNA-0009 | P-RNA-0009 | NA | NA | <!----> | NA | <!----> | <!----> | NA |\n",
       "| 6 | SRR2170173 | RNA:Total RNA | RNA-Seq | 500 | 45386225000 | PRJNA75899 | SAMN03878158 | GTEx | GTEX-XXEK-2426-SM-5S2S8      | Adipose - Subcutaneous       | ⋯ | RNA | P-RNA-0009 | P-RNA-0009 | NA | NA | <!----> | NA | <!----> | <!----> | NA |\n",
       "\n"
      ],
      "text/plain": [
       "  V1         V2            V3      V4  V5          V6         V7           V8  \n",
       "1 SRR2157314 RNA:Total RNA RNA-Seq 500 49773955000 PRJNA75899 SAMN03878353 GTEx\n",
       "2 SRR2157460 RNA:Total RNA RNA-Seq 500 48762020000 PRJNA75899 SAMN03877433 GTEx\n",
       "3 SRR2164562 RNA:Total RNA RNA-Seq 500 50374455500 PRJNA75899 SAMN03877762 GTEx\n",
       "4 SRR2164608 RNA:Total RNA RNA-Seq 500 49373870000 PRJNA75899 SAMN03877938 GTEx\n",
       "5 SRR2170135 RNA:Total RNA RNA-Seq 500 46078920500 PRJNA75899 SAMN03878198 GTEx\n",
       "6 SRR2170173 RNA:Total RNA RNA-Seq 500 45386225000 PRJNA75899 SAMN03878158 GTEx\n",
       "  V9                           V10                          ⋯ V70 V71       \n",
       "1 GTEX-T6MN-0226-SM-5S2SO      Adipose - Subcutaneous       ⋯ RNA P-RNA-0009\n",
       "2 GTEX-XLM4-0011-R10A-SM-5S2TN Brain - Frontal Cortex (BA9) ⋯ RNA P-RNA-0009\n",
       "3 GTEX-S32W-0726-SM-5S2T3      Thyroid                      ⋯ RNA P-RNA-0009\n",
       "4 GTEX-VUSG-2426-SM-5S2S2      Adipose - Subcutaneous       ⋯ RNA P-RNA-0009\n",
       "5 GTEX-T6MN-0826-SM-5S2SK      Lung                         ⋯ RNA P-RNA-0009\n",
       "6 GTEX-XXEK-2426-SM-5S2S8      Adipose - Subcutaneous       ⋯ RNA P-RNA-0009\n",
       "  V72        V73 V74 V75 V76 V77 V78 V79\n",
       "1 P-RNA-0009 NA  NA      NA          NA \n",
       "2 P-RNA-0009 NA  NA      NA          NA \n",
       "3 P-RNA-0009 NA  NA      NA          NA \n",
       "4 P-RNA-0009 NA  NA      NA          NA \n",
       "5 P-RNA-0009 NA  NA      NA          NA \n",
       "6 P-RNA-0009 NA  NA      NA          NA "
      ]
     },
     "metadata": {},
     "output_type": "display_data"
    }
   ],
   "source": [
    "head(meta.data)"
   ]
  },
  {
   "cell_type": "code",
   "execution_count": 59,
   "metadata": {},
   "outputs": [],
   "source": [
    "tissue.sets<-unique(as.character(meta.data$body_site_s))\n"
   ]
  },
  {
   "cell_type": "code",
   "execution_count": 60,
   "metadata": {},
   "outputs": [],
   "source": [
    "gtex_url <- 'https://storage.googleapis.com/gtex_analysis_v8/rna_seq_data/GTEx_Analysis_2017-06-05_v8_RNASeQCv1.1.9_gene_reads.gct.gz'"
   ]
  },
  {
   "cell_type": "code",
   "execution_count": 63,
   "metadata": {},
   "outputs": [],
   "source": [
    "gtex_gct_dest <- 'data/gtexgct.gz'\n",
    "download.file(gtex_url,destfile=gtex_gct_dest)"
   ]
  },
  {
   "cell_type": "code",
   "execution_count": 65,
   "metadata": {},
   "outputs": [],
   "source": [
    "#untar(gtex_gct_dest)\n",
    "gtex_gct='data/gtexgct'"
   ]
  },
  {
   "cell_type": "code",
   "execution_count": 67,
   "metadata": {},
   "outputs": [],
   "source": [
    "gtex_pheno_url <- 'https://storage.googleapis.com/gtex_analysis_v8/annotations/GTEx_Analysis_v8_Annotations_SubjectPhenotypesDS.txt'\n",
    "gtex_pheno <-'data/GTEx_Analysis_v8_Annotations_SubjectPhenotypesDS.txt'\n",
    "download.file(gtex_pheno_url, destfile=gtex_pheno)"
   ]
  },
  {
   "cell_type": "code",
   "execution_count": 66,
   "metadata": {},
   "outputs": [],
   "source": [
    "for (tissue.set in tissue.sets)\n",
    "{\n",
    "\n",
    "expression.mat<-read.table(gtex_gct, nrow=1,sep='\\t',header=T,skip=2)\n",
    "\n",
    "colnames.expression.mat<-colnames(expression.mat)\n",
    "\n",
    "meta.data <- read.csv(dfile, header=FALSE)\n",
    "    \n",
    "if (length(table(meta.data$sex_s[meta.data$body_site_s %in% tissue.set]))==1)\n",
    "\n",
    "  next\n",
    "\n",
    "meta.data$Sample_Name_s<-gsub('-','\\\\.',meta.data$Sample_Name_s)\n",
    "\n",
    "meta.data<-meta.data[meta.data$Sample_Name_s %in% colnames(expression.mat),]\n",
    "\n",
    "col.in.tissue<-c()\n",
    "\n",
    "if (sum(meta.data$body_site_s %in% tissue.set)==0)\n",
    "\n",
    "  next                                                                                                                                                                                            \n",
    "\n",
    "for (col in colnames.expression.mat)\n",
    "\n",
    "  col.in.tissue<-c(col.in.tissue, (col %in% meta.data$Sample_Name_s) && (meta.data$body_site_s[which(meta.data$Sample_Name_s==col)] %in% tissue.set))\n",
    "\n",
    "expression.mat<-read.table(gtex_gct, colClasses = ifelse(col.in.tissue,\"numeric\",\"NULL\"),sep='\\t',header=T,skip=2)\n",
    "\n",
    "write.table(expression.mat,paste('data/expression',tissue.set,'.txt',sep=''),sep='\\t',quote = F)\n",
    "\n",
    "}"
   ]
  },
  {
   "cell_type": "code",
   "execution_count": 68,
   "metadata": {},
   "outputs": [],
   "source": [
    "for (tissue.set in tissue.sets)\n",
    "{\n",
    "  all.genes<-read.table(gtex_gct,sep='\\t',header=T,skip=2,colClasses = c(rep(\"character\", 2), rep(\"NULL\", 11688)))\n",
    "if (file.size(paste('gene_expression/expression',tissue.set,'.txt',sep=''))<=1)\n",
    "\n",
    "  next\n",
    "\n",
    "x <- read.delim(paste('gene_expression/expression',tissue.set,'.txt',sep=''))\n",
    "\n",
    "#x<-x[all.genes$Description %in% our.genes,]\n",
    "\n",
    "#all.genes<-all.genes[all.genes$Description %in% our.genes,2]\n",
    "\n",
    "x<-x[!duplicated(all.genes[,'Description']),]\n",
    "\n",
    "all.genes<-all.genes[!duplicated(all.genes[,'Description']),'Description']\n",
    "\n",
    "rownames(x)<-all.genes\n",
    "\n",
    "#meta.data<-read.table('/Users/karleg/Dimorph/2017December8GTExRNASeqSRARunTable.txt',sep='\\t',header=TRUE)\n",
    "\n",
    "#meta.data$Sample_Name_s<-gsub('-','\\\\.',meta.data$Sample_Name_s)\n",
    "\n",
    "#meta.data<-meta.data[meta.data$Sample_Name_s %in% colnames(x),]\n",
    "\n",
    "    \n",
    "pheno<-read.csv(gtex_pheno,sep='\\t')\n",
    "\n",
    "pheno$SUBJID<-gsub('-','\\\\.',pheno$SUBJID)\n",
    "\n",
    "sex<-c()  #the value 2 in the phenotypic data is the values that is 1 in design.  This value correslonds to female.\n",
    "\n",
    "age<-c()\n",
    "\n",
    "cod<-c()\n",
    "\n",
    "for (col in colnames(x))\n",
    "{\n",
    "  sex<-c(sex,pheno$SEX[which(pheno$SUBJID==paste(unlist(strsplit(col,'\\\\.'))[c(1,2)],collapse='.'))])\n",
    "\n",
    "  age<-c(age,pheno$AGE[which(pheno$SUBJID==paste(unlist(strsplit(col,'\\\\.'))[c(1,2)],collapse='.'))])\n",
    "\n",
    "  cod<-c(cod,pheno$DTHHRDY[which(pheno$SUBJID==paste(unlist(strsplit(col,'\\\\.'))[c(1,2)],collapse='.'))])\n",
    "\n",
    "}\n",
    "\n",
    "if (length(table(sex))==1)\n",
    "\n",
    "  next\n",
    "\n",
    "cod[is.na(cod)]=0\n",
    "#group <- meta.data$sex_s\n",
    "\n",
    "y <- DGEList(counts=x,group=factor(sex))\n",
    "\n",
    "y <- calcNormFactors(y)\n",
    "\n",
    "groups<-sex\n",
    "\n",
    "keep.events<-rep(T,nrow(y))\n",
    "\n",
    "for (group in c(1,2))\n",
    "\n",
    "  keep.events<-keep.events & (rowSums(cpm(y[,groups %in% group]) > 1) >= 0.25*min(table(groups)))\n",
    "\n",
    "if (sum(keep.events)==0)\n",
    "\n",
    "  next\n",
    "\n",
    "y<-y[keep.events,]  #if only using the logFC to compare with AS then do not screen\n",
    "\n",
    "design <- model.matrix(~factor(sex))\n",
    "\n",
    "v <- voom(y, design)\n",
    "\n",
    "fit <- lmFit(v, design)\n",
    "\n",
    "fit <- eBayes(fit, robust=TRUE)\n",
    "\n",
    "res=topTable(fit, coef='factor(sex)2',number=nrow(y))\n",
    "\n",
    "write.table(res,paste('data/DE_result_',tissue.set,'.txt',sep=''),sep='\\t',quote = F)\n",
    "\n",
    "}\n",
    "#edgeR\n",
    "\n",
    "#y <- estimateDisp(y,design)\n",
    "\n",
    "#fit <- glmFit(y,design)\n",
    "\n",
    "#lrt <- glmLRT(fit,coef='factor(sex)2')\n",
    "\n",
    "#hist(lrt$table$PValue)    "
   ]
  },
  {
   "cell_type": "code",
   "execution_count": null,
   "metadata": {},
   "outputs": [],
   "source": []
  }
 ],
 "metadata": {
  "kernelspec": {
   "display_name": "R",
   "language": "R",
   "name": "ir"
  },
  "language_info": {
   "codemirror_mode": "r",
   "file_extension": ".r",
   "mimetype": "text/x-r-source",
   "name": "R",
   "pygments_lexer": "r",
   "version": "3.6.2"
  }
 },
 "nbformat": 4,
 "nbformat_minor": 4
}
