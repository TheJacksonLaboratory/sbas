{
 "cells": [
  {
   "cell_type": "code",
   "execution_count": null,
   "metadata": {},
   "outputs": [],
   "source": [
    "library(dplyr)\n",
    "library(ggplot2)\n",
    "library(scales)\n",
    "library(viridis)"
   ]
  },
  {
   "cell_type": "code",
   "execution_count": null,
   "metadata": {
    "lines_to_next_cell": 2
   },
   "outputs": [],
   "source": [
    "totals <- read.table(\"Totals_by_tissue_annotated.txt\", sep = \"\\t\", quote = NULL, header = T)"
   ]
  },
  {
   "cell_type": "code",
   "execution_count": null,
   "metadata": {},
   "outputs": [],
   "source": [
    "totals_s <- totals %>% arrange(desc(Total))"
   ]
  },
  {
   "cell_type": "code",
   "execution_count": null,
   "metadata": {},
   "outputs": [],
   "source": [
    "totals$Label <- factor(totals$Label, levels = totals_s$Label)"
   ]
  },
  {
   "cell_type": "code",
   "execution_count": null,
   "metadata": {
    "lines_to_next_cell": 2
   },
   "outputs": [],
   "source": [
    "ggplot(totals, aes(x = Label, y = Total, size = Total)) +\n",
    "  geom_point(color = \"red\") +\n",
    "  theme_bw() +\n",
    "  # scale_y_log10(breaks = trans_breaks(\"log10\", function(x) 10^x),\n",
    "  #                 labels = trans_format(\"log10\", math_format(10^.x))) +\n",
    "  #scale_y_continuous(limits = c(0, 140e3), breaks=c(1:6 * 25000)) +\n",
    "  #coord_trans(y = \"log10\") +\n",
    "  scale_y_continuous(trans=log_trans(), breaks=c(1,10,100, 1000, 5000, 10000)) +\n",
    "  theme(axis.text.x = element_text(size=10, angle = 270, hjust = 0.0, vjust = 0.5),\n",
    "        axis.text.y = element_text(size=16),\n",
    "        axis.title.x = element_text(face=\"plain\", colour=\"black\", \n",
    "                                    size=14),\n",
    "        axis.title.y = element_text(face=\"plain\", colour=\"black\", \n",
    "                                    size=14),\n",
    "        legend.title=element_blank(),\n",
    "        legend.text = element_text(face=\"plain\", colour=\"black\", \n",
    "                                   size=12)) +\n",
    "  ylab(paste(\"Number of sex-biased splicing events\")) +\n",
    "  xlab(\"Tissue\") + \n",
    "  guides(size=FALSE)"
   ]
  },
  {
   "cell_type": "code",
   "execution_count": null,
   "metadata": {},
   "outputs": [],
   "source": [
    "df <- read.table(file = \"Significant_events.tsv\", sep = \"\\t\", quote = NULL, header = T)"
   ]
  },
  {
   "cell_type": "code",
   "execution_count": null,
   "metadata": {},
   "outputs": [],
   "source": [
    "idx <- match(df$Tissue, totals$Tissue)\n",
    "df$Label <- totals$Label[idx]\n",
    "df$Label <- factor(df$Label, levels = totals_s$Label)"
   ]
  },
  {
   "cell_type": "code",
   "execution_count": null,
   "metadata": {},
   "outputs": [],
   "source": [
    "head(df, 10)"
   ]
  },
  {
   "cell_type": "code",
   "execution_count": null,
   "metadata": {},
   "outputs": [],
   "source": [
    "tissues_keep <- subset(totals, Total > 10)"
   ]
  },
  {
   "cell_type": "code",
   "execution_count": null,
   "metadata": {},
   "outputs": [],
   "source": [
    "df_plot <- data.frame()"
   ]
  },
  {
   "cell_type": "code",
   "execution_count": null,
   "metadata": {},
   "outputs": [],
   "source": [
    "for (i in 1:length(tissues_keep$Label)) {\n",
    "  \n",
    "  df_tissue <- df %>% filter(Label %in% tissues_keep$Label[i])\n",
    "  df_tissue$Perc <- (df_tissue$Counts / sum(df_tissue$Counts)) * 100\n",
    "  df_plot <- rbind(df_plot, df_tissue)"
   ]
  },
  {
   "cell_type": "code",
   "execution_count": null,
   "metadata": {},
   "outputs": [],
   "source": [
    "}  "
   ]
  },
  {
   "cell_type": "code",
   "execution_count": null,
   "metadata": {},
   "outputs": [],
   "source": [
    "df_plot$Label <- factor(df_plot$Label, levels = totals_s$Label)"
   ]
  },
  {
   "cell_type": "code",
   "execution_count": null,
   "metadata": {},
   "outputs": [],
   "source": [
    "ggplot(df_plot, \n",
    "       aes(x=Label, y=Perc, fill = ASE, by = Tissue)) +\n",
    "  geom_bar(stat = \"identity\", width = 0.8) +\n",
    "  theme_bw() +\n",
    "  theme(axis.text.x = element_text(size=12, angle = 270, hjust = 0.0, vjust = 0.5),\n",
    "        #axis.ticks.x = element_blank(),\n",
    "        axis.text.y = element_text(size=12),\n",
    "        axis.title.x = element_text(face=\"plain\", colour=\"black\", size=12),\n",
    "        axis.title.y = element_text(face=\"plain\", colour=\"black\", size=12),\n",
    "        legend.title=element_blank(),\n",
    "        panel.background=element_blank(),\n",
    "        panel.border=element_blank(),\n",
    "        panel.grid.major=element_blank(),\n",
    "        legend.text = element_text(face=\"plain\", colour=\"black\", size=12)\n",
    "  ) +\n",
    "  #scale_fill_brewer(palette=\"Dark2\") +\n",
    "  #scale_fill_manual(values = palette_npg) +\n",
    "  scale_fill_viridis(discrete=TRUE) +\n",
    "  ylab(\"Splicing type (%)\") +\n",
    "  xlab(\"Tissue\")"
   ]
  }
 ],
 "metadata": {
  "jupytext": {
   "cell_metadata_filter": "-all",
   "main_language": "R",
   "notebook_metadata_filter": "-all"
  }
 },
 "nbformat": 4,
 "nbformat_minor": 4
}
