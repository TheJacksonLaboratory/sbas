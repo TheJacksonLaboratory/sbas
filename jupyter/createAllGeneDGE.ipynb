{
 "cells": [
  {
   "cell_type": "markdown",
   "id": "1fe1bc27",
   "metadata": {
    "papermill": {
     "duration": null,
     "end_time": null,
     "exception": null,
     "start_time": null,
     "status": "completed"
    },
    "tags": []
   },
   "source": [
    "# Analysis Notebook - create all DGE files\n",
    "\n",
    "Creating and saving two files in this notebook\n",
    "\n",
    " **1. chr_genes.tsv:** create a file with chromosome, ENSG (no version number) and GeneSymbols using gencode.v30.annotation.gtf\n",
    "\n",
    " **2. all_gene_dge.tsv:** create this file using the chr_genes from gencode.v30.annotation for the specific ENSG ids that are used in the differential gene analysis"
   ]
  },
  {
   "cell_type": "code",
   "execution_count": null,
   "id": "776e1c43",
   "metadata": {
    "papermill": {
     "duration": null,
     "end_time": null,
     "exception": null,
     "start_time": null,
     "status": "completed"
    },
    "tags": []
   },
   "outputs": [],
   "source": [
    "defaultW <- getOption(\"warn\")  # suppress warnings for this cell\n",
    "options(warn = -1) \n",
    "library(dplyr)\n",
    "library(rtracklayer)\n",
    "\n",
    "options(warn = defaultW)"
   ]
  },
  {
   "cell_type": "markdown",
   "id": "f9838aae",
   "metadata": {
    "papermill": {
     "duration": null,
     "end_time": null,
     "exception": null,
     "start_time": null,
     "status": "completed"
    },
    "tags": []
   },
   "source": [
    "### 1  Add to the all_gene_dge_names.tsv structure\n",
    "\n",
    "First gather the data and add GeneSymbol, ENSG without version and chromosome"
   ]
  },
  {
   "cell_type": "markdown",
   "id": "6e79448e",
   "metadata": {
    "papermill": {
     "duration": null,
     "end_time": null,
     "exception": null,
     "start_time": null,
     "status": "completed"
    },
    "tags": []
   },
   "source": [
    "### 1.1 create a file used for statistical analysis of DGE genes\n",
    "all the tissues used the same listing of genes for the differential gene analysis -- so reading anly of the files will allow these ENSG files to be mapped to GeneSymbols and Chromosomes using the gencode.v30.annotation file"
   ]
  },
  {
   "cell_type": "code",
   "execution_count": null,
   "id": "1c24c1d5",
   "metadata": {
    "papermill": {
     "duration": null,
     "end_time": null,
     "exception": null,
     "start_time": null,
     "status": "completed"
    },
    "tags": []
   },
   "outputs": [],
   "source": [
    "#\n",
    "# add chr information for summary data later, use the annotation we used for rMATS\n",
    "#\n",
    "if (!(\"gencode.v30.annotation.gtf.gz\" %in% list.files(\"../data/\"))) {\n",
    "    message(\"downloading gencode v30 annotation\\n\")\n",
    "    system(\"wget -O ../data/gencode.v30.annotation.gtf.gz ftp://ftp.ebi.ac.uk/pub/databases/gencode/Gencode_human/release_30/gencode.v30.annotation.gtf.gz\")\n",
    "    message(\"Done!\\n\")\n",
    "    message(\"Unzipping compressed file gencode.v30.annotation.gtf.gz..\")\n",
    "    system(\"gunzip ../data/gencode.v30.annotation.gtf.gz\", intern = TRUE)\n",
    "    message(\"Done! gencode.v30.annotation.gtf can be found in ../data/\")\n",
    "}\n",
    "gencode <- import(\"../data/gencode.v30.annotation.gtf\")\n",
    "gtf.df <- as.data.frame (gencode)\n",
    "chr_genes <- unique(gtf.df[,c(\"seqnames\",\"gene_name\",\"gene_id\")])\n",
    "colnames(chr_genes) <- c(\"chr\",\"GeneSymbol\", \"ENSG\")\n",
    "head(chr_genes)\n",
    "for (i in 1:dim(chr_genes)[1]) {\n",
    "    chr_genes$ENSG[i] <- as.character(strsplit(chr_genes$ENSG[i],'\\\\.\\\\w+$'))\n",
    "}\n",
    "head(chr_genes)"
   ]
  },
  {
   "cell_type": "code",
   "execution_count": null,
   "id": "3e05f234",
   "metadata": {
    "papermill": {
     "duration": null,
     "end_time": null,
     "exception": null,
     "start_time": null,
     "status": "completed"
    },
    "tags": []
   },
   "outputs": [],
   "source": [
    "write.table(chr_genes, \"../data/chr_genes.tsv\", quote=FALSE, sep=\"\\t\")"
   ]
  },
  {
   "cell_type": "markdown",
   "id": "bee11966",
   "metadata": {
    "papermill": {
     "duration": null,
     "end_time": null,
     "exception": null,
     "start_time": null,
     "status": "completed"
    },
    "tags": []
   },
   "source": [
    "### 1.2 Create the all_genes_dge_names.tsv file for analysis\n",
    "\n",
    "All of the **DGE.csv** tissue files have the same gene names"
   ]
  },
  {
   "cell_type": "code",
   "execution_count": null,
   "id": "aa3d3c6e",
   "metadata": {
    "papermill": {
     "duration": null,
     "end_time": null,
     "exception": null,
     "start_time": null,
     "status": "completed"
    },
    "tags": []
   },
   "outputs": [],
   "source": [
    "results_dir     <- \"../data/\"\n",
    "all_dge_pattern <- \"*_DGE.csv\"\n",
    "all_dge_files    <- list.files(path = results_dir, pattern = all_dge_pattern)\n",
    "message (\"number of DGE files \", length(all_dge_files))"
   ]
  },
  {
   "cell_type": "code",
   "execution_count": null,
   "id": "f462ece7",
   "metadata": {
    "papermill": {
     "duration": null,
     "end_time": null,
     "exception": null,
     "start_time": null,
     "status": "completed"
    },
    "tags": []
   },
   "outputs": [],
   "source": [
    "all_gene_dge = data.frame()"
   ]
  },
  {
   "cell_type": "code",
   "execution_count": null,
   "id": "2fb45dbe",
   "metadata": {
    "papermill": {
     "duration": null,
     "end_time": null,
     "exception": null,
     "start_time": null,
     "status": "completed"
    },
    "tags": []
   },
   "outputs": [],
   "source": [
    "for (file in 1:length(all_dge_files)) {\n",
    "\n",
    "    lines  <- read.table(file=paste0(results_dir, all_dge_files[file]), \n",
    "                                  header = TRUE, sep = \",\", quote = \"\\\"'\", skipNul = FALSE)\n",
    "    message(\"For   \", all_dge_files[file])\n",
    "    message(\"we find the number of genes to be \", dim(lines))\n",
    "\n",
    "    if (dim(lines)[1] > 0) {\n",
    "        ensg_ver   <- as.vector(as.character(rownames(lines)))\n",
    "        chr        <- rep(\"NA\",dim(lines)[1])\n",
    "        ensg_no_ver<- rep(\"NA\",dim(lines)[1])\n",
    "        ensg_genes <- rep(\"NA\",dim(lines)[1])\n",
    "       \n",
    "        for (i in 1:dim(lines)[1]) {\n",
    "            ensg_no_ver[i] <- as.character(strsplit(ensg_ver[i],'\\\\.\\\\w+$'))\n",
    "   \t    match  <- as.character(chr_genes$ENSG) %in% as.character((ensg_no_ver[i]))\n",
    "\t    \n",
    "   \t    if (sum(match==TRUE)== 1) {\n",
    "   \t        chr[i]        <- as.character(chr_genes[match,]$chr)\n",
    "                ensg_genes[i] <- as.character(chr_genes[match,]$GeneSymbol)\n",
    "   \t\t  \n",
    "   \t    # if there are multiple matches, just keep the first result\n",
    "   \t    } else if (sum(match==TRUE)>1) {\n",
    "   \t        all_chr <- as.vector(as.character(chr_genes[match,]$chr))\n",
    "   \t\tchr[i] <- as.character(all_chr[1])\n",
    "   \t\tall_genes <- as.vector(as.character(chr_genes[match,]$GeneSymbol))\n",
    "   \t\tensg_genes[i] <- as.character(all_genes[1])\n",
    "\t\t\n",
    "   \t    } # end if there is a match\n",
    "\t    \n",
    "   \t    res <- data.frame(ENSG_ver     <- ensg_ver[i],\n",
    "                          ENSG_no_ver  <- ensg_no_ver[i],\n",
    "                          GeneSymbol   <- ensg_genes[i],\n",
    "                          chr          <- chr[i])\n",
    "        \n",
    "            all_gene_dge <- rbind(all_gene_dge, res)\n",
    "\t    \n",
    "        } # for all lines\n",
    "\t\n",
    "    } #if has events"
   ]
  },
  {
   "cell_type": "code",
   "execution_count": null,
   "id": "1b767b0c",
   "metadata": {
    "papermill": {
     "duration": null,
     "end_time": null,
     "exception": null,
     "start_time": null,
     "status": "completed"
    },
    "tags": []
   },
   "outputs": [],
   "source": [
    "} #for all files"
   ]
  },
  {
   "cell_type": "code",
   "execution_count": null,
   "id": "30bcfc34",
   "metadata": {
    "papermill": {
     "duration": null,
     "end_time": null,
     "exception": null,
     "start_time": null,
     "status": "completed"
    },
    "tags": []
   },
   "outputs": [],
   "source": [
    "colnames(all_gene_dge) <- c(\"ENSG_ver\",\"ENSG_no_ver\",\"GeneSymbol\",\"chr\")\n",
    "sorted_all_gene_dge <- all_gene_dge[order(all_gene_dge[\"ENSG_ver\"]),]\n",
    "unique_all_gene_dge <- unique(sorted_all_gene_dge)"
   ]
  },
  {
   "cell_type": "code",
   "execution_count": null,
   "id": "c5e0eef4",
   "metadata": {
    "papermill": {
     "duration": null,
     "end_time": null,
     "exception": null,
     "start_time": null,
     "status": "completed"
    },
    "tags": []
   },
   "outputs": [],
   "source": [
    "message(\"The universe of all genes (without ChrY) is \", length(unique_all_gene_dge$GeneSymbol))"
   ]
  },
  {
   "cell_type": "markdown",
   "id": "7e1894c4",
   "metadata": {
    "papermill": {
     "duration": null,
     "end_time": null,
     "exception": null,
     "start_time": null,
     "status": "completed"
    },
    "tags": []
   },
   "source": [
    "n_unique_genes <- length(summary(as.factor(all_gene_dge$GeneSymbol),maxsum=50000))\n",
    "message(\"We extracted a total of \",nrow(all_gene_dge),\" differential gene events (all_gene_dge)\")\n",
    "message(\"This includes \", n_unique_genes, \" total genes\")"
   ]
  },
  {
   "cell_type": "code",
   "execution_count": null,
   "id": "a2742b88",
   "metadata": {
    "papermill": {
     "duration": null,
     "end_time": null,
     "exception": null,
     "start_time": null,
     "status": "completed"
    },
    "tags": []
   },
   "outputs": [],
   "source": [
    "table(unique_all_gene_dge$chr)\n",
    "write.table(unique_all_gene_dge, \"../data/all_gene_dge.tsv\", quote=FALSE, sep=\"\\t\")"
   ]
  },
  {
   "cell_type": "markdown",
   "id": "761083a3",
   "metadata": {
    "papermill": {
     "duration": null,
     "end_time": null,
     "exception": null,
     "start_time": null,
     "status": "completed"
    },
    "tags": []
   },
   "source": [
    "### Appendix - Metadata\n",
    "\n",
    "For replicability and reproducibility purposes, we also print the following metadata:\n",
    "\n",
    "1. Checksums of **'artefacts'**, files generated during the analysis and stored in the folder directory **`data`**\n",
    "2. List of environment metadata, dependencies, versions of libraries using `utils::sessionInfo()` and [`devtools::session_info()`](https://devtools.r-lib.org/reference/session_info.html)"
   ]
  },
  {
   "cell_type": "markdown",
   "id": "68c94b13",
   "metadata": {
    "papermill": {
     "duration": null,
     "end_time": null,
     "exception": null,
     "start_time": null,
     "status": "completed"
    },
    "tags": []
   },
   "source": [
    "### Appendix 1. Checksums with the sha256 algorithm"
   ]
  },
  {
   "cell_type": "code",
   "execution_count": null,
   "id": "9774286a",
   "metadata": {
    "papermill": {
     "duration": null,
     "end_time": null,
     "exception": null,
     "start_time": null,
     "status": "completed"
    },
    "tags": []
   },
   "outputs": [],
   "source": [
    "rm (notebookid)\n",
    "notebookid   = \"createAllgeneDGE\"\n",
    "notebookid\n",
    "\n",
    "message(\"Generating sha256 checksums of the file `../data/all_gene_dge_gene_names.tsv` directory .. \")\n",
    "system(paste0(\"cd ../data && find . -name all_gene_dge_gene_names.tsv -exec sha256sum {} \\\\;  >  ../metadata/\", notebookid, \"_sha256sums.txt\"), intern = TRUE)\n",
    "message(\"Done!\\n\")\n",
    "\n",
    "message(\"Generating sha256 checksums of the file `../data/chr_genes.tsv` directory .. \")\n",
    "system(paste0(\"cd ../data && find . -name chr_genes.tsv -exec sha256sum {} \\\\;  >  ../metadata/\", notebookid, \"_sha256sums.txt\"), intern = TRUE)\n",
    "message(\"Done!\\n\")"
   ]
  },
  {
   "cell_type": "markdown",
   "id": "c991f849",
   "metadata": {
    "papermill": {
     "duration": null,
     "end_time": null,
     "exception": null,
     "start_time": null,
     "status": "completed"
    },
    "tags": []
   },
   "source": [
    "### Appendix 2. Libraries metadata"
   ]
  },
  {
   "cell_type": "code",
   "execution_count": null,
   "id": "a9375aa5",
   "metadata": {
    "lines_to_next_cell": 0,
    "papermill": {
     "duration": null,
     "end_time": null,
     "exception": null,
     "start_time": null,
     "status": "completed"
    },
    "tags": []
   },
   "outputs": [],
   "source": [
    "dev_session_info   <- devtools::session_info()\n",
    "utils_session_info <- utils::sessionInfo()\n",
    "\n",
    "message(\"Saving `devtools::session_info()` objects in ../metadata/devtools_session_info.rds  ..\")\n",
    "saveRDS(dev_session_info, file = paste0(\"../metadata/\", notebookid, \"_devtools_session_info.rds\"))\n",
    "message(\"Done!\\n\")\n",
    "\n",
    "message(\"Saving `utils::sessionInfo()` objects in ../metadata/utils_session_info.rds  ..\")\n",
    "saveRDS(utils_session_info, file = paste0(\"../metadata/\", notebookid ,\"_utils_info.rds\"))\n",
    "message(\"Done!\\n\")\n",
    "\n",
    "dev_session_info$platform\n",
    "dev_session_info$packages[dev_session_info$packages$attached==TRUE, ]"
   ]
  },
  {
   "cell_type": "code",
   "execution_count": null,
   "id": "3cca9be1",
   "metadata": {
    "lines_to_next_cell": 2,
    "papermill": {
     "duration": null,
     "end_time": null,
     "exception": null,
     "start_time": null,
     "status": "completed"
    },
    "tags": []
   },
   "outputs": [],
   "source": []
  }
 ],
 "metadata": {
  "jupytext": {
   "cell_metadata_filter": "-all",
   "encoding": "# -*- coding: utf-8 -*-",
   "main_language": "R",
   "notebook_metadata_filter": "-all"
  },
  "kernelspec": {
   "display_name": "Python 3",
   "language": "python",
   "name": "python3"
  },
  "language_info": {
   "codemirror_mode": {
    "name": "ipython",
    "version": 3
   },
   "file_extension": ".py",
   "mimetype": "text/x-python",
   "name": "python",
   "nbconvert_exporter": "python",
   "pygments_lexer": "ipython3",
   "version": "3.7.6"
  },
  "papermill": {
   "default_parameters": {},
   "duration": 0.036188,
   "end_time": "2021-05-21T04:04:33.772066",
   "environment_variables": {},
   "exception": null,
   "input_path": "createAllGeneDGE.ipynb",
   "output_path": "createAllGeneDGE.ipynb",
   "parameters": {},
   "start_time": "2021-05-21T04:04:33.735878",
   "version": "2.3.3"
  }
 },
 "nbformat": 4,
 "nbformat_minor": 5
}