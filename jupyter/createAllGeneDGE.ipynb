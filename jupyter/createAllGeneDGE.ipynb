{
 "cells": [
  {
   "cell_type": "markdown",
   "metadata": {},
   "source": [
    "# Analysis Notebook - create all DGE files\n",
    "\n",
    "Creating and saving two files in this notebook\n",
    "\n",
    " **1. chr_genes.tsv:** create a file with chromosome, ENSG (no version number) and GeneSymbols using gencode.v30.annotation.gtf\n",
    "\n",
    " **2. all_gene_dge_gene_names.tsv:** create this file using the chr_genes from gencode.v30.annotation for the specific ENSG ids that are used in the differential gene analysis"
   ]
  },
  {
   "cell_type": "code",
   "execution_count": 1,
   "metadata": {},
   "outputs": [
    {
     "name": "stderr",
     "output_type": "stream",
     "text": [
      "\n",
      "Attaching package: ‘dplyr’\n",
      "\n",
      "\n",
      "The following objects are masked from ‘package:stats’:\n",
      "\n",
      "    filter, lag\n",
      "\n",
      "\n",
      "The following objects are masked from ‘package:base’:\n",
      "\n",
      "    intersect, setdiff, setequal, union\n",
      "\n",
      "\n",
      "Loading required package: GenomicRanges\n",
      "\n",
      "Loading required package: stats4\n",
      "\n",
      "Loading required package: BiocGenerics\n",
      "\n",
      "Loading required package: parallel\n",
      "\n",
      "\n",
      "Attaching package: ‘BiocGenerics’\n",
      "\n",
      "\n",
      "The following objects are masked from ‘package:parallel’:\n",
      "\n",
      "    clusterApply, clusterApplyLB, clusterCall, clusterEvalQ,\n",
      "    clusterExport, clusterMap, parApply, parCapply, parLapply,\n",
      "    parLapplyLB, parRapply, parSapply, parSapplyLB\n",
      "\n",
      "\n",
      "The following objects are masked from ‘package:dplyr’:\n",
      "\n",
      "    combine, intersect, setdiff, union\n",
      "\n",
      "\n",
      "The following objects are masked from ‘package:stats’:\n",
      "\n",
      "    IQR, mad, sd, var, xtabs\n",
      "\n",
      "\n",
      "The following objects are masked from ‘package:base’:\n",
      "\n",
      "    anyDuplicated, append, as.data.frame, basename, cbind, colnames,\n",
      "    dirname, do.call, duplicated, eval, evalq, Filter, Find, get, grep,\n",
      "    grepl, intersect, is.unsorted, lapply, Map, mapply, match, mget,\n",
      "    order, paste, pmax, pmax.int, pmin, pmin.int, Position, rank,\n",
      "    rbind, Reduce, rownames, sapply, setdiff, sort, table, tapply,\n",
      "    union, unique, unsplit, which, which.max, which.min\n",
      "\n",
      "\n",
      "Loading required package: S4Vectors\n",
      "\n",
      "\n",
      "Attaching package: ‘S4Vectors’\n",
      "\n",
      "\n",
      "The following objects are masked from ‘package:dplyr’:\n",
      "\n",
      "    first, rename\n",
      "\n",
      "\n",
      "The following object is masked from ‘package:base’:\n",
      "\n",
      "    expand.grid\n",
      "\n",
      "\n",
      "Loading required package: IRanges\n",
      "\n",
      "\n",
      "Attaching package: ‘IRanges’\n",
      "\n",
      "\n",
      "The following objects are masked from ‘package:dplyr’:\n",
      "\n",
      "    collapse, desc, slice\n",
      "\n",
      "\n",
      "Loading required package: GenomeInfoDb\n",
      "\n"
     ]
    }
   ],
   "source": [
    "defaultW <- getOption(\"warn\")  # suppress warnings for this cell\n",
    "options(warn = -1) \n",
    "library(dplyr)\n",
    "library(rtracklayer)\n",
    "\n",
    "options(warn = defaultW)"
   ]
  },
  {
   "cell_type": "markdown",
   "metadata": {},
   "source": [
    "### 1  Add to the all_gene_dge_names.tsv structure\n",
    "\n",
    "First gather the data and add GeneSymbol, ENSG without version and chromosome"
   ]
  },
  {
   "cell_type": "markdown",
   "metadata": {},
   "source": [
    "### 1.1 create a file used for statistical analysis of DGE genes\n",
    "all the tissues used the same listing of genes for the differential gene analysis -- so reading anly of the files will allow these ENSG files to be mapped to GeneSymbols and Chromosomes using the gencode.v30.annotation file"
   ]
  },
  {
   "cell_type": "code",
   "execution_count": 2,
   "metadata": {},
   "outputs": [
    {
     "data": {
      "text/html": [
       "<table>\n",
       "<caption>A data.frame: 6 × 3</caption>\n",
       "<thead>\n",
       "\t<tr><th></th><th scope=col>chr</th><th scope=col>GeneSymbol</th><th scope=col>ENSG</th></tr>\n",
       "\t<tr><th></th><th scope=col>&lt;fct&gt;</th><th scope=col>&lt;chr&gt;</th><th scope=col>&lt;chr&gt;</th></tr>\n",
       "</thead>\n",
       "<tbody>\n",
       "\t<tr><th scope=row>1</th><td>chr1</td><td>DDX11L1    </td><td>ENSG00000223972.5</td></tr>\n",
       "\t<tr><th scope=row>13</th><td>chr1</td><td>WASH7P     </td><td>ENSG00000227232.5</td></tr>\n",
       "\t<tr><th scope=row>26</th><td>chr1</td><td>MIR6859-1  </td><td>ENSG00000278267.1</td></tr>\n",
       "\t<tr><th scope=row>29</th><td>chr1</td><td>MIR1302-2HG</td><td>ENSG00000243485.5</td></tr>\n",
       "\t<tr><th scope=row>37</th><td>chr1</td><td>MIR1302-2  </td><td>ENSG00000284332.1</td></tr>\n",
       "\t<tr><th scope=row>40</th><td>chr1</td><td>FAM138A    </td><td>ENSG00000237613.2</td></tr>\n",
       "</tbody>\n",
       "</table>\n"
      ],
      "text/latex": [
       "A data.frame: 6 × 3\n",
       "\\begin{tabular}{r|lll}\n",
       "  & chr & GeneSymbol & ENSG\\\\\n",
       "  & <fct> & <chr> & <chr>\\\\\n",
       "\\hline\n",
       "\t1 & chr1 & DDX11L1     & ENSG00000223972.5\\\\\n",
       "\t13 & chr1 & WASH7P      & ENSG00000227232.5\\\\\n",
       "\t26 & chr1 & MIR6859-1   & ENSG00000278267.1\\\\\n",
       "\t29 & chr1 & MIR1302-2HG & ENSG00000243485.5\\\\\n",
       "\t37 & chr1 & MIR1302-2   & ENSG00000284332.1\\\\\n",
       "\t40 & chr1 & FAM138A     & ENSG00000237613.2\\\\\n",
       "\\end{tabular}\n"
      ],
      "text/markdown": [
       "\n",
       "A data.frame: 6 × 3\n",
       "\n",
       "| <!--/--> | chr &lt;fct&gt; | GeneSymbol &lt;chr&gt; | ENSG &lt;chr&gt; |\n",
       "|---|---|---|---|\n",
       "| 1 | chr1 | DDX11L1     | ENSG00000223972.5 |\n",
       "| 13 | chr1 | WASH7P      | ENSG00000227232.5 |\n",
       "| 26 | chr1 | MIR6859-1   | ENSG00000278267.1 |\n",
       "| 29 | chr1 | MIR1302-2HG | ENSG00000243485.5 |\n",
       "| 37 | chr1 | MIR1302-2   | ENSG00000284332.1 |\n",
       "| 40 | chr1 | FAM138A     | ENSG00000237613.2 |\n",
       "\n"
      ],
      "text/plain": [
       "   chr  GeneSymbol  ENSG             \n",
       "1  chr1 DDX11L1     ENSG00000223972.5\n",
       "13 chr1 WASH7P      ENSG00000227232.5\n",
       "26 chr1 MIR6859-1   ENSG00000278267.1\n",
       "29 chr1 MIR1302-2HG ENSG00000243485.5\n",
       "37 chr1 MIR1302-2   ENSG00000284332.1\n",
       "40 chr1 FAM138A     ENSG00000237613.2"
      ]
     },
     "metadata": {},
     "output_type": "display_data"
    },
    {
     "data": {
      "text/html": [
       "<table>\n",
       "<caption>A data.frame: 6 × 3</caption>\n",
       "<thead>\n",
       "\t<tr><th></th><th scope=col>chr</th><th scope=col>GeneSymbol</th><th scope=col>ENSG</th></tr>\n",
       "\t<tr><th></th><th scope=col>&lt;fct&gt;</th><th scope=col>&lt;chr&gt;</th><th scope=col>&lt;chr&gt;</th></tr>\n",
       "</thead>\n",
       "<tbody>\n",
       "\t<tr><th scope=row>1</th><td>chr1</td><td>DDX11L1    </td><td>ENSG00000223972</td></tr>\n",
       "\t<tr><th scope=row>13</th><td>chr1</td><td>WASH7P     </td><td>ENSG00000227232</td></tr>\n",
       "\t<tr><th scope=row>26</th><td>chr1</td><td>MIR6859-1  </td><td>ENSG00000278267</td></tr>\n",
       "\t<tr><th scope=row>29</th><td>chr1</td><td>MIR1302-2HG</td><td>ENSG00000243485</td></tr>\n",
       "\t<tr><th scope=row>37</th><td>chr1</td><td>MIR1302-2  </td><td>ENSG00000284332</td></tr>\n",
       "\t<tr><th scope=row>40</th><td>chr1</td><td>FAM138A    </td><td>ENSG00000237613</td></tr>\n",
       "</tbody>\n",
       "</table>\n"
      ],
      "text/latex": [
       "A data.frame: 6 × 3\n",
       "\\begin{tabular}{r|lll}\n",
       "  & chr & GeneSymbol & ENSG\\\\\n",
       "  & <fct> & <chr> & <chr>\\\\\n",
       "\\hline\n",
       "\t1 & chr1 & DDX11L1     & ENSG00000223972\\\\\n",
       "\t13 & chr1 & WASH7P      & ENSG00000227232\\\\\n",
       "\t26 & chr1 & MIR6859-1   & ENSG00000278267\\\\\n",
       "\t29 & chr1 & MIR1302-2HG & ENSG00000243485\\\\\n",
       "\t37 & chr1 & MIR1302-2   & ENSG00000284332\\\\\n",
       "\t40 & chr1 & FAM138A     & ENSG00000237613\\\\\n",
       "\\end{tabular}\n"
      ],
      "text/markdown": [
       "\n",
       "A data.frame: 6 × 3\n",
       "\n",
       "| <!--/--> | chr &lt;fct&gt; | GeneSymbol &lt;chr&gt; | ENSG &lt;chr&gt; |\n",
       "|---|---|---|---|\n",
       "| 1 | chr1 | DDX11L1     | ENSG00000223972 |\n",
       "| 13 | chr1 | WASH7P      | ENSG00000227232 |\n",
       "| 26 | chr1 | MIR6859-1   | ENSG00000278267 |\n",
       "| 29 | chr1 | MIR1302-2HG | ENSG00000243485 |\n",
       "| 37 | chr1 | MIR1302-2   | ENSG00000284332 |\n",
       "| 40 | chr1 | FAM138A     | ENSG00000237613 |\n",
       "\n"
      ],
      "text/plain": [
       "   chr  GeneSymbol  ENSG           \n",
       "1  chr1 DDX11L1     ENSG00000223972\n",
       "13 chr1 WASH7P      ENSG00000227232\n",
       "26 chr1 MIR6859-1   ENSG00000278267\n",
       "29 chr1 MIR1302-2HG ENSG00000243485\n",
       "37 chr1 MIR1302-2   ENSG00000284332\n",
       "40 chr1 FAM138A     ENSG00000237613"
      ]
     },
     "metadata": {},
     "output_type": "display_data"
    }
   ],
   "source": [
    "#\n",
    "# add chr information for summary data later, use the annotation we used for rMATS\n",
    "#\n",
    "if (!(\"gencode.v30.annotation.gtf.gz\" %in% list.files(\"../data/\"))) {\n",
    "    message(\"downloading gencode v30 annotation\\n\")\n",
    "    system(\"wget -O ../data/gencode.v30.annotation.gtf.gz ftp://ftp.ebi.ac.uk/pub/databases/gencode/Gencode_human/release_30/gencode.v30.annotation.gtf.gz\")\n",
    "    message(\"Done!\\n\")\n",
    "    message(\"Unzipping compressed file gencode.v30.annotation.gtf.gz..\")\n",
    "    system(\"gunzip ../data/gencode.v30.annotation.gtf.gz\", intern = TRUE)\n",
    "    message(\"Done! gencode.v30.annotation.gtf can be found in ../data/\")\n",
    "}\n",
    "gencode <- import(\"../data/gencode.v30.annotation.gtf\")\n",
    "gtf.df <- as.data.frame (gencode)\n",
    "chr_genes <- unique(gtf.df[,c(\"seqnames\",\"gene_name\",\"gene_id\")])\n",
    "colnames(chr_genes) <- c(\"chr\",\"GeneSymbol\", \"ENSG\")\n",
    "head(chr_genes)\n",
    "for (i in 1:dim(chr_genes)[1]) {\n",
    "    chr_genes$ENSG[i] <- as.character(strsplit(chr_genes$ENSG[i],'\\\\.\\\\w+$'))\n",
    "}\n",
    "head(chr_genes)"
   ]
  },
  {
   "cell_type": "code",
   "execution_count": 3,
   "metadata": {},
   "outputs": [],
   "source": [
    "write.table(chr_genes, \"../data/chr_genes.tsv\", quote=FALSE, sep=\"\\t\")"
   ]
  },
  {
   "cell_type": "markdown",
   "metadata": {},
   "source": [
    "### 1.2 Create the all_genes_dge_names.tsv file for analysis\n",
    "\n",
    "All of the **DGE.csv** tissue files have the same gene names"
   ]
  },
  {
   "cell_type": "code",
   "execution_count": 4,
   "metadata": {},
   "outputs": [
    {
     "data": {
      "text/html": [
       "'whole_blood_DGE.csv'"
      ],
      "text/latex": [
       "'whole\\_blood\\_DGE.csv'"
      ],
      "text/markdown": [
       "'whole_blood_DGE.csv'"
      ],
      "text/plain": [
       "[1] \"whole_blood_DGE.csv\""
      ]
     },
     "metadata": {},
     "output_type": "display_data"
    }
   ],
   "source": [
    "results_dir     <- \"../data/\"\n",
    "all_dge_pattern <- \"whole_blood_DGE.csv\"\n",
    "all_dge_file    <- list.files(path = results_dir, pattern = all_dge_pattern)\n",
    "head(all_dge_file)"
   ]
  },
  {
   "cell_type": "code",
   "execution_count": 5,
   "metadata": {},
   "outputs": [
    {
     "data": {
      "text/html": [
       "<style>\n",
       ".list-inline {list-style: none; margin:0; padding: 0}\n",
       ".list-inline>li {display: inline-block}\n",
       ".list-inline>li:not(:last-child)::after {content: \"\\00b7\"; padding: 0 .5ex}\n",
       "</style>\n",
       "<ol class=list-inline><li>42271</li><li>6</li></ol>\n"
      ],
      "text/latex": [
       "\\begin{enumerate*}\n",
       "\\item 42271\n",
       "\\item 6\n",
       "\\end{enumerate*}\n"
      ],
      "text/markdown": [
       "1. 42271\n",
       "2. 6\n",
       "\n",
       "\n"
      ],
      "text/plain": [
       "[1] 42271     6"
      ]
     },
     "metadata": {},
     "output_type": "display_data"
    },
    {
     "data": {
      "text/html": [
       "<table>\n",
       "<caption>A data.frame: 2 × 6</caption>\n",
       "<thead>\n",
       "\t<tr><th></th><th scope=col>logFC</th><th scope=col>AveExpr</th><th scope=col>t</th><th scope=col>P.Value</th><th scope=col>adj.P.Val</th><th scope=col>B</th></tr>\n",
       "\t<tr><th></th><th scope=col>&lt;dbl&gt;</th><th scope=col>&lt;dbl&gt;</th><th scope=col>&lt;dbl&gt;</th><th scope=col>&lt;dbl&gt;</th><th scope=col>&lt;dbl&gt;</th><th scope=col>&lt;dbl&gt;</th></tr>\n",
       "</thead>\n",
       "<tbody>\n",
       "\t<tr><th scope=row>ENSG00000183878.15</th><td>-8.901997</td><td>1.186565</td><td>-105.6978</td><td>0</td><td>0</td><td>986.5619</td></tr>\n",
       "\t<tr><th scope=row>ENSG00000129824.15</th><td>-8.928976</td><td>3.892373</td><td>-103.1027</td><td>0</td><td>0</td><td>982.0146</td></tr>\n",
       "</tbody>\n",
       "</table>\n"
      ],
      "text/latex": [
       "A data.frame: 2 × 6\n",
       "\\begin{tabular}{r|llllll}\n",
       "  & logFC & AveExpr & t & P.Value & adj.P.Val & B\\\\\n",
       "  & <dbl> & <dbl> & <dbl> & <dbl> & <dbl> & <dbl>\\\\\n",
       "\\hline\n",
       "\tENSG00000183878.15 & -8.901997 & 1.186565 & -105.6978 & 0 & 0 & 986.5619\\\\\n",
       "\tENSG00000129824.15 & -8.928976 & 3.892373 & -103.1027 & 0 & 0 & 982.0146\\\\\n",
       "\\end{tabular}\n"
      ],
      "text/markdown": [
       "\n",
       "A data.frame: 2 × 6\n",
       "\n",
       "| <!--/--> | logFC &lt;dbl&gt; | AveExpr &lt;dbl&gt; | t &lt;dbl&gt; | P.Value &lt;dbl&gt; | adj.P.Val &lt;dbl&gt; | B &lt;dbl&gt; |\n",
       "|---|---|---|---|---|---|---|\n",
       "| ENSG00000183878.15 | -8.901997 | 1.186565 | -105.6978 | 0 | 0 | 986.5619 |\n",
       "| ENSG00000129824.15 | -8.928976 | 3.892373 | -103.1027 | 0 | 0 | 982.0146 |\n",
       "\n"
      ],
      "text/plain": [
       "                   logFC     AveExpr  t         P.Value adj.P.Val B       \n",
       "ENSG00000183878.15 -8.901997 1.186565 -105.6978 0       0         986.5619\n",
       "ENSG00000129824.15 -8.928976 3.892373 -103.1027 0       0         982.0146"
      ]
     },
     "metadata": {},
     "output_type": "display_data"
    }
   ],
   "source": [
    "lines  <- read.table(file=paste0(results_dir, all_dge_file), \n",
    "                                     header = TRUE, sep = \",\", quote = \"\\\"'\", skipNul = FALSE)\n",
    "dim(lines)\n",
    "head(lines,2)"
   ]
  },
  {
   "cell_type": "code",
   "execution_count": 6,
   "metadata": {},
   "outputs": [
    {
     "name": "stderr",
     "output_type": "stream",
     "text": [
      "We extracted a total of 42271 differential gene events (all_gene_dge)\n",
      "\n",
      "This includes 41706 total genes\n",
      "\n"
     ]
    }
   ],
   "source": [
    "    all_gene_dge = data.frame()\n",
    "\n",
    "    if (dim(lines)[1] > 0) {\n",
    "        ensg_ver   <- as.vector(as.character(rownames(lines)))\n",
    "        chr        <- rep(\"NA\",dim(lines)[1])\n",
    "        ensg_no_ver<- rep(\"NA\",dim(lines)[1])\n",
    "        ensg_genes <- rep(\"NA\",dim(lines)[1])\n",
    "        for (i in 1:dim(lines)[1]) {\n",
    "            ensg_no_ver[i] <- as.character(strsplit(ensg_ver[i],'\\\\.\\\\w+$'))\n",
    "            match  <- as.character(chr_genes$ENSG) %in% as.character((ensg_no_ver[i]))\n",
    "            if (sum(match==TRUE)== 1) {\n",
    "                chr[i]        <- as.character(chr_genes[match,]$chr)\n",
    "                ensg_genes[i] <- as.character(chr_genes[match,]$GeneSymbol)\n",
    "            } else if (sum(match==TRUE)>1) {\n",
    "                all_chr <- as.vector(as.character(chr_genes[match,]$chr))\n",
    "                chr[i] <- as.character(all_chr[1])\n",
    "                all_genes <- as.vector(as.character(chr_genes[match,]$GeneSymbol))\n",
    "                ensg_genes[i] <- as.character(all_genes[1]) \n",
    "            }\n",
    "            res <- data.frame(ENSG_ver     <- ensg_ver[i],\n",
    "                              ENSG_no_ver  <- ensg_no_ver[i],\n",
    "                              GeneSymbol   <- ensg_genes[i],\n",
    "                              chr          <- chr[i])\n",
    "            colnames(res) <- c(\"ENSG_ver\",\"ENSG_no_ver\",\"GeneSymbol\",\"chr\")\n",
    "            \n",
    "            all_gene_dge <- rbind(all_gene_dge, res)\n",
    "            \n",
    "        }\n",
    "    } #if has events\n",
    "    n_unique_genes <- length(summary(as.factor(all_gene_dge$GeneSymbol),maxsum=50000))\n",
    "    message(\"We extracted a total of \",nrow(all_gene_dge),\" differential gene events (all_gene_dge)\")\n",
    "    message(\"This includes \", n_unique_genes, \" total genes\")\n"
   ]
  },
  {
   "cell_type": "code",
   "execution_count": 7,
   "metadata": {},
   "outputs": [
    {
     "data": {
      "text/html": [
       "<table>\n",
       "<caption>A data.frame: 6 × 4</caption>\n",
       "<thead>\n",
       "\t<tr><th></th><th scope=col>ENSG_ver</th><th scope=col>ENSG_no_ver</th><th scope=col>GeneSymbol</th><th scope=col>chr</th></tr>\n",
       "\t<tr><th></th><th scope=col>&lt;fct&gt;</th><th scope=col>&lt;fct&gt;</th><th scope=col>&lt;fct&gt;</th><th scope=col>&lt;fct&gt;</th></tr>\n",
       "</thead>\n",
       "<tbody>\n",
       "\t<tr><th scope=row>1</th><td>ENSG00000183878.15</td><td>ENSG00000183878</td><td>UTY      </td><td>chrY</td></tr>\n",
       "\t<tr><th scope=row>2</th><td>ENSG00000129824.15</td><td>ENSG00000129824</td><td>RPS4Y1   </td><td>chrY</td></tr>\n",
       "\t<tr><th scope=row>3</th><td>ENSG00000233864.7 </td><td>ENSG00000233864</td><td>NA       </td><td>NA  </td></tr>\n",
       "\t<tr><th scope=row>4</th><td>ENSG00000012817.15</td><td>ENSG00000012817</td><td>KDM5D    </td><td>chrY</td></tr>\n",
       "\t<tr><th scope=row>5</th><td>ENSG00000231535.5 </td><td>ENSG00000231535</td><td>LINC00278</td><td>chrY</td></tr>\n",
       "\t<tr><th scope=row>6</th><td>ENSG00000215580.10</td><td>ENSG00000215580</td><td>BCORP1   </td><td>chrY</td></tr>\n",
       "</tbody>\n",
       "</table>\n"
      ],
      "text/latex": [
       "A data.frame: 6 × 4\n",
       "\\begin{tabular}{r|llll}\n",
       "  & ENSG\\_ver & ENSG\\_no\\_ver & GeneSymbol & chr\\\\\n",
       "  & <fct> & <fct> & <fct> & <fct>\\\\\n",
       "\\hline\n",
       "\t1 & ENSG00000183878.15 & ENSG00000183878 & UTY       & chrY\\\\\n",
       "\t2 & ENSG00000129824.15 & ENSG00000129824 & RPS4Y1    & chrY\\\\\n",
       "\t3 & ENSG00000233864.7  & ENSG00000233864 & NA        & NA  \\\\\n",
       "\t4 & ENSG00000012817.15 & ENSG00000012817 & KDM5D     & chrY\\\\\n",
       "\t5 & ENSG00000231535.5  & ENSG00000231535 & LINC00278 & chrY\\\\\n",
       "\t6 & ENSG00000215580.10 & ENSG00000215580 & BCORP1    & chrY\\\\\n",
       "\\end{tabular}\n"
      ],
      "text/markdown": [
       "\n",
       "A data.frame: 6 × 4\n",
       "\n",
       "| <!--/--> | ENSG_ver &lt;fct&gt; | ENSG_no_ver &lt;fct&gt; | GeneSymbol &lt;fct&gt; | chr &lt;fct&gt; |\n",
       "|---|---|---|---|---|\n",
       "| 1 | ENSG00000183878.15 | ENSG00000183878 | UTY       | chrY |\n",
       "| 2 | ENSG00000129824.15 | ENSG00000129824 | RPS4Y1    | chrY |\n",
       "| 3 | ENSG00000233864.7  | ENSG00000233864 | NA        | NA   |\n",
       "| 4 | ENSG00000012817.15 | ENSG00000012817 | KDM5D     | chrY |\n",
       "| 5 | ENSG00000231535.5  | ENSG00000231535 | LINC00278 | chrY |\n",
       "| 6 | ENSG00000215580.10 | ENSG00000215580 | BCORP1    | chrY |\n",
       "\n"
      ],
      "text/plain": [
       "  ENSG_ver           ENSG_no_ver     GeneSymbol chr \n",
       "1 ENSG00000183878.15 ENSG00000183878 UTY        chrY\n",
       "2 ENSG00000129824.15 ENSG00000129824 RPS4Y1     chrY\n",
       "3 ENSG00000233864.7  ENSG00000233864 NA         NA  \n",
       "4 ENSG00000012817.15 ENSG00000012817 KDM5D      chrY\n",
       "5 ENSG00000231535.5  ENSG00000231535 LINC00278  chrY\n",
       "6 ENSG00000215580.10 ENSG00000215580 BCORP1     chrY"
      ]
     },
     "metadata": {},
     "output_type": "display_data"
    },
    {
     "data": {
      "text/plain": [
       "\n",
       " chrY  chrX chr20  chr8  chr1 chr19  chr6 chr11 chr15 chr14 chr10  chr9  chr4 \n",
       "  104  1419  1047  1597  3931  2359  2118  2279  1528  1510  1628  1618  1699 \n",
       " chr3  chr5  chr7  chr2 chr12 chr17 chr16 chr18 chr13 chr22  chrM chr21 \n",
       " 2267  2029  2096  2875  2252  2371  1858   845   899  1026    37   544 "
      ]
     },
     "metadata": {},
     "output_type": "display_data"
    }
   ],
   "source": [
    "head(all_gene_dge)\n",
    "table(all_gene_dge$chr)\n",
    "write.table(all_gene_dge, \"../data/all_gene_dge_gene_names.tsv\", quote=FALSE, sep=\"\\t\")"
   ]
  },
  {
   "cell_type": "markdown",
   "metadata": {},
   "source": [
    "### Appendix - Metadata\n",
    "\n",
    "For replicability and reproducibility purposes, we also print the following metadata:\n",
    "\n",
    "1. Checksums of **'artefacts'**, files generated during the analysis and stored in the folder directory **`data`**\n",
    "2. List of environment metadata, dependencies, versions of libraries using `utils::sessionInfo()` and [`devtools::session_info()`](https://devtools.r-lib.org/reference/session_info.html)"
   ]
  },
  {
   "cell_type": "markdown",
   "metadata": {},
   "source": [
    "### Appendix 1. Checksums with the sha256 algorithm"
   ]
  },
  {
   "cell_type": "code",
   "execution_count": 8,
   "metadata": {},
   "outputs": [
    {
     "name": "stderr",
     "output_type": "stream",
     "text": [
      "Warning message in rm(notebookid):\n",
      "“object 'notebookid' not found”\n"
     ]
    },
    {
     "data": {
      "text/html": [
       "'createAllgeneDGE'"
      ],
      "text/latex": [
       "'createAllgeneDGE'"
      ],
      "text/markdown": [
       "'createAllgeneDGE'"
      ],
      "text/plain": [
       "[1] \"createAllgeneDGE\""
      ]
     },
     "metadata": {},
     "output_type": "display_data"
    },
    {
     "name": "stderr",
     "output_type": "stream",
     "text": [
      "Generating sha256 checksums of the file `../data/all_gene_dge_gene_names.tsv` directory .. \n",
      "\n"
     ]
    },
    {
     "data": {
      "text/html": [],
      "text/latex": [],
      "text/markdown": [],
      "text/plain": [
       "character(0)"
      ]
     },
     "metadata": {},
     "output_type": "display_data"
    },
    {
     "name": "stderr",
     "output_type": "stream",
     "text": [
      "Done!\n",
      "\n",
      "\n",
      "Generating sha256 checksums of the file `../data/chr_genes.tsv` directory .. \n",
      "\n"
     ]
    },
    {
     "data": {
      "text/html": [],
      "text/latex": [],
      "text/markdown": [],
      "text/plain": [
       "character(0)"
      ]
     },
     "metadata": {},
     "output_type": "display_data"
    },
    {
     "name": "stderr",
     "output_type": "stream",
     "text": [
      "Done!\n",
      "\n",
      "\n"
     ]
    }
   ],
   "source": [
    "rm (notebookid)\n",
    "notebookid   = \"createAllgeneDGE\"\n",
    "notebookid\n",
    "\n",
    "message(\"Generating sha256 checksums of the file `../data/all_gene_dge_gene_names.tsv` directory .. \")\n",
    "system(paste0(\"cd ../data && find . -name all_gene_dge_gene_names.tsv -exec sha256sum {} \\\\;  >  ../metadata/\", notebookid, \"_sha256sums.txt\"), intern = TRUE)\n",
    "message(\"Done!\\n\")\n",
    "\n",
    "message(\"Generating sha256 checksums of the file `../data/chr_genes.tsv` directory .. \")\n",
    "system(paste0(\"cd ../data && find . -name chr_genes.tsv -exec sha256sum {} \\\\;  >  ../metadata/\", notebookid, \"_sha256sums.txt\"), intern = TRUE)\n",
    "message(\"Done!\\n\")"
   ]
  },
  {
   "cell_type": "markdown",
   "metadata": {},
   "source": [
    "### Appendix 2. Libraries metadata"
   ]
  },
  {
   "cell_type": "code",
   "execution_count": 9,
   "metadata": {},
   "outputs": [
    {
     "name": "stderr",
     "output_type": "stream",
     "text": [
      "Saving `devtools::session_info()` objects in ../metadata/devtools_session_info.rds  ..\n",
      "\n",
      "Done!\n",
      "\n",
      "\n",
      "Saving `utils::sessionInfo()` objects in ../metadata/utils_session_info.rds  ..\n",
      "\n",
      "Done!\n",
      "\n",
      "\n"
     ]
    },
    {
     "data": {
      "text/plain": [
       " setting  value                       \n",
       " version  R version 3.6.2 (2019-12-12)\n",
       " os       Ubuntu 18.04.3 LTS          \n",
       " system   x86_64, linux-gnu           \n",
       " ui       X11                         \n",
       " language en_US.UTF-8                 \n",
       " collate  en_US.UTF-8                 \n",
       " ctype    en_US.UTF-8                 \n",
       " tz       Etc/UTC                     \n",
       " date     2020-06-21                  "
      ]
     },
     "metadata": {},
     "output_type": "display_data"
    },
    {
     "data": {
      "text/html": [
       "<table>\n",
       "<caption>A packages_info: 7 × 11</caption>\n",
       "<thead>\n",
       "\t<tr><th></th><th scope=col>package</th><th scope=col>ondiskversion</th><th scope=col>loadedversion</th><th scope=col>path</th><th scope=col>loadedpath</th><th scope=col>attached</th><th scope=col>is_base</th><th scope=col>date</th><th scope=col>source</th><th scope=col>md5ok</th><th scope=col>library</th></tr>\n",
       "\t<tr><th></th><th scope=col>&lt;chr&gt;</th><th scope=col>&lt;chr&gt;</th><th scope=col>&lt;chr&gt;</th><th scope=col>&lt;chr&gt;</th><th scope=col>&lt;chr&gt;</th><th scope=col>&lt;lgl&gt;</th><th scope=col>&lt;lgl&gt;</th><th scope=col>&lt;chr&gt;</th><th scope=col>&lt;chr&gt;</th><th scope=col>&lt;lgl&gt;</th><th scope=col>&lt;fct&gt;</th></tr>\n",
       "</thead>\n",
       "<tbody>\n",
       "\t<tr><th scope=row>BiocGenerics</th><td>BiocGenerics </td><td>0.32.0</td><td>0.32.0</td><td>/opt/conda/lib/R/library/BiocGenerics </td><td>/opt/conda/lib/R/library/BiocGenerics </td><td>TRUE</td><td>FALSE</td><td>2019-10-29</td><td>Bioconductor  </td><td>NA</td><td>/opt/conda/lib/R/library</td></tr>\n",
       "\t<tr><th scope=row>dplyr</th><td>dplyr        </td><td>0.8.4 </td><td>0.8.4 </td><td>/opt/conda/lib/R/library/dplyr        </td><td>/opt/conda/lib/R/library/dplyr        </td><td>TRUE</td><td>FALSE</td><td>2020-01-31</td><td>CRAN (R 3.6.2)</td><td>NA</td><td>/opt/conda/lib/R/library</td></tr>\n",
       "\t<tr><th scope=row>GenomeInfoDb</th><td>GenomeInfoDb </td><td>1.22.0</td><td>1.22.0</td><td>/opt/conda/lib/R/library/GenomeInfoDb </td><td>/opt/conda/lib/R/library/GenomeInfoDb </td><td>TRUE</td><td>FALSE</td><td>2019-10-29</td><td>Bioconductor  </td><td>NA</td><td>/opt/conda/lib/R/library</td></tr>\n",
       "\t<tr><th scope=row>GenomicRanges</th><td>GenomicRanges</td><td>1.38.0</td><td>1.38.0</td><td>/opt/conda/lib/R/library/GenomicRanges</td><td>/opt/conda/lib/R/library/GenomicRanges</td><td>TRUE</td><td>FALSE</td><td>2019-10-29</td><td>Bioconductor  </td><td>NA</td><td>/opt/conda/lib/R/library</td></tr>\n",
       "\t<tr><th scope=row>IRanges</th><td>IRanges      </td><td>2.20.0</td><td>2.20.0</td><td>/opt/conda/lib/R/library/IRanges      </td><td>/opt/conda/lib/R/library/IRanges      </td><td>TRUE</td><td>FALSE</td><td>2019-10-29</td><td>Bioconductor  </td><td>NA</td><td>/opt/conda/lib/R/library</td></tr>\n",
       "\t<tr><th scope=row>rtracklayer</th><td>rtracklayer  </td><td>1.46.0</td><td>1.46.0</td><td>/opt/conda/lib/R/library/rtracklayer  </td><td>/opt/conda/lib/R/library/rtracklayer  </td><td>TRUE</td><td>FALSE</td><td>2019-10-29</td><td>Bioconductor  </td><td>NA</td><td>/opt/conda/lib/R/library</td></tr>\n",
       "\t<tr><th scope=row>S4Vectors</th><td>S4Vectors    </td><td>0.24.0</td><td>0.24.0</td><td>/opt/conda/lib/R/library/S4Vectors    </td><td>/opt/conda/lib/R/library/S4Vectors    </td><td>TRUE</td><td>FALSE</td><td>2019-10-29</td><td>Bioconductor  </td><td>NA</td><td>/opt/conda/lib/R/library</td></tr>\n",
       "</tbody>\n",
       "</table>\n"
      ],
      "text/latex": [
       "A packages\\_info: 7 × 11\n",
       "\\begin{tabular}{r|lllllllllll}\n",
       "  & package & ondiskversion & loadedversion & path & loadedpath & attached & is\\_base & date & source & md5ok & library\\\\\n",
       "  & <chr> & <chr> & <chr> & <chr> & <chr> & <lgl> & <lgl> & <chr> & <chr> & <lgl> & <fct>\\\\\n",
       "\\hline\n",
       "\tBiocGenerics & BiocGenerics  & 0.32.0 & 0.32.0 & /opt/conda/lib/R/library/BiocGenerics  & /opt/conda/lib/R/library/BiocGenerics  & TRUE & FALSE & 2019-10-29 & Bioconductor   & NA & /opt/conda/lib/R/library\\\\\n",
       "\tdplyr & dplyr         & 0.8.4  & 0.8.4  & /opt/conda/lib/R/library/dplyr         & /opt/conda/lib/R/library/dplyr         & TRUE & FALSE & 2020-01-31 & CRAN (R 3.6.2) & NA & /opt/conda/lib/R/library\\\\\n",
       "\tGenomeInfoDb & GenomeInfoDb  & 1.22.0 & 1.22.0 & /opt/conda/lib/R/library/GenomeInfoDb  & /opt/conda/lib/R/library/GenomeInfoDb  & TRUE & FALSE & 2019-10-29 & Bioconductor   & NA & /opt/conda/lib/R/library\\\\\n",
       "\tGenomicRanges & GenomicRanges & 1.38.0 & 1.38.0 & /opt/conda/lib/R/library/GenomicRanges & /opt/conda/lib/R/library/GenomicRanges & TRUE & FALSE & 2019-10-29 & Bioconductor   & NA & /opt/conda/lib/R/library\\\\\n",
       "\tIRanges & IRanges       & 2.20.0 & 2.20.0 & /opt/conda/lib/R/library/IRanges       & /opt/conda/lib/R/library/IRanges       & TRUE & FALSE & 2019-10-29 & Bioconductor   & NA & /opt/conda/lib/R/library\\\\\n",
       "\trtracklayer & rtracklayer   & 1.46.0 & 1.46.0 & /opt/conda/lib/R/library/rtracklayer   & /opt/conda/lib/R/library/rtracklayer   & TRUE & FALSE & 2019-10-29 & Bioconductor   & NA & /opt/conda/lib/R/library\\\\\n",
       "\tS4Vectors & S4Vectors     & 0.24.0 & 0.24.0 & /opt/conda/lib/R/library/S4Vectors     & /opt/conda/lib/R/library/S4Vectors     & TRUE & FALSE & 2019-10-29 & Bioconductor   & NA & /opt/conda/lib/R/library\\\\\n",
       "\\end{tabular}\n"
      ],
      "text/markdown": [
       "\n",
       "A packages_info: 7 × 11\n",
       "\n",
       "| <!--/--> | package &lt;chr&gt; | ondiskversion &lt;chr&gt; | loadedversion &lt;chr&gt; | path &lt;chr&gt; | loadedpath &lt;chr&gt; | attached &lt;lgl&gt; | is_base &lt;lgl&gt; | date &lt;chr&gt; | source &lt;chr&gt; | md5ok &lt;lgl&gt; | library &lt;fct&gt; |\n",
       "|---|---|---|---|---|---|---|---|---|---|---|---|\n",
       "| BiocGenerics | BiocGenerics  | 0.32.0 | 0.32.0 | /opt/conda/lib/R/library/BiocGenerics  | /opt/conda/lib/R/library/BiocGenerics  | TRUE | FALSE | 2019-10-29 | Bioconductor   | NA | /opt/conda/lib/R/library |\n",
       "| dplyr | dplyr         | 0.8.4  | 0.8.4  | /opt/conda/lib/R/library/dplyr         | /opt/conda/lib/R/library/dplyr         | TRUE | FALSE | 2020-01-31 | CRAN (R 3.6.2) | NA | /opt/conda/lib/R/library |\n",
       "| GenomeInfoDb | GenomeInfoDb  | 1.22.0 | 1.22.0 | /opt/conda/lib/R/library/GenomeInfoDb  | /opt/conda/lib/R/library/GenomeInfoDb  | TRUE | FALSE | 2019-10-29 | Bioconductor   | NA | /opt/conda/lib/R/library |\n",
       "| GenomicRanges | GenomicRanges | 1.38.0 | 1.38.0 | /opt/conda/lib/R/library/GenomicRanges | /opt/conda/lib/R/library/GenomicRanges | TRUE | FALSE | 2019-10-29 | Bioconductor   | NA | /opt/conda/lib/R/library |\n",
       "| IRanges | IRanges       | 2.20.0 | 2.20.0 | /opt/conda/lib/R/library/IRanges       | /opt/conda/lib/R/library/IRanges       | TRUE | FALSE | 2019-10-29 | Bioconductor   | NA | /opt/conda/lib/R/library |\n",
       "| rtracklayer | rtracklayer   | 1.46.0 | 1.46.0 | /opt/conda/lib/R/library/rtracklayer   | /opt/conda/lib/R/library/rtracklayer   | TRUE | FALSE | 2019-10-29 | Bioconductor   | NA | /opt/conda/lib/R/library |\n",
       "| S4Vectors | S4Vectors     | 0.24.0 | 0.24.0 | /opt/conda/lib/R/library/S4Vectors     | /opt/conda/lib/R/library/S4Vectors     | TRUE | FALSE | 2019-10-29 | Bioconductor   | NA | /opt/conda/lib/R/library |\n",
       "\n"
      ],
      "text/plain": [
       "              package       ondiskversion loadedversion\n",
       "BiocGenerics  BiocGenerics  0.32.0        0.32.0       \n",
       "dplyr         dplyr         0.8.4         0.8.4        \n",
       "GenomeInfoDb  GenomeInfoDb  1.22.0        1.22.0       \n",
       "GenomicRanges GenomicRanges 1.38.0        1.38.0       \n",
       "IRanges       IRanges       2.20.0        2.20.0       \n",
       "rtracklayer   rtracklayer   1.46.0        1.46.0       \n",
       "S4Vectors     S4Vectors     0.24.0        0.24.0       \n",
       "              path                                  \n",
       "BiocGenerics  /opt/conda/lib/R/library/BiocGenerics \n",
       "dplyr         /opt/conda/lib/R/library/dplyr        \n",
       "GenomeInfoDb  /opt/conda/lib/R/library/GenomeInfoDb \n",
       "GenomicRanges /opt/conda/lib/R/library/GenomicRanges\n",
       "IRanges       /opt/conda/lib/R/library/IRanges      \n",
       "rtracklayer   /opt/conda/lib/R/library/rtracklayer  \n",
       "S4Vectors     /opt/conda/lib/R/library/S4Vectors    \n",
       "              loadedpath                             attached is_base\n",
       "BiocGenerics  /opt/conda/lib/R/library/BiocGenerics  TRUE     FALSE  \n",
       "dplyr         /opt/conda/lib/R/library/dplyr         TRUE     FALSE  \n",
       "GenomeInfoDb  /opt/conda/lib/R/library/GenomeInfoDb  TRUE     FALSE  \n",
       "GenomicRanges /opt/conda/lib/R/library/GenomicRanges TRUE     FALSE  \n",
       "IRanges       /opt/conda/lib/R/library/IRanges       TRUE     FALSE  \n",
       "rtracklayer   /opt/conda/lib/R/library/rtracklayer   TRUE     FALSE  \n",
       "S4Vectors     /opt/conda/lib/R/library/S4Vectors     TRUE     FALSE  \n",
       "              date       source         md5ok library                 \n",
       "BiocGenerics  2019-10-29 Bioconductor   NA    /opt/conda/lib/R/library\n",
       "dplyr         2020-01-31 CRAN (R 3.6.2) NA    /opt/conda/lib/R/library\n",
       "GenomeInfoDb  2019-10-29 Bioconductor   NA    /opt/conda/lib/R/library\n",
       "GenomicRanges 2019-10-29 Bioconductor   NA    /opt/conda/lib/R/library\n",
       "IRanges       2019-10-29 Bioconductor   NA    /opt/conda/lib/R/library\n",
       "rtracklayer   2019-10-29 Bioconductor   NA    /opt/conda/lib/R/library\n",
       "S4Vectors     2019-10-29 Bioconductor   NA    /opt/conda/lib/R/library"
      ]
     },
     "metadata": {},
     "output_type": "display_data"
    }
   ],
   "source": [
    "dev_session_info   <- devtools::session_info()\n",
    "utils_session_info <- utils::sessionInfo()\n",
    "\n",
    "message(\"Saving `devtools::session_info()` objects in ../metadata/devtools_session_info.rds  ..\")\n",
    "saveRDS(dev_session_info, file = paste0(\"../metadata/\", notebookid, \"_devtools_session_info.rds\"))\n",
    "message(\"Done!\\n\")\n",
    "\n",
    "message(\"Saving `utils::sessionInfo()` objects in ../metadata/utils_session_info.rds  ..\")\n",
    "saveRDS(utils_session_info, file = paste0(\"../metadata/\", notebookid ,\"_utils_info.rds\"))\n",
    "message(\"Done!\\n\")\n",
    "\n",
    "dev_session_info$platform\n",
    "dev_session_info$packages[dev_session_info$packages$attached==TRUE, ]"
   ]
  },
  {
   "cell_type": "code",
   "execution_count": null,
   "metadata": {},
   "outputs": [],
   "source": []
  }
 ],
 "metadata": {
  "jupytext": {
   "cell_metadata_filter": "-all",
   "main_language": "R",
   "notebook_metadata_filter": "-all"
  },
  "kernelspec": {
   "display_name": "R",
   "language": "R",
   "name": "ir"
  },
  "language_info": {
   "codemirror_mode": "r",
   "file_extension": ".r",
   "mimetype": "text/x-r-source",
   "name": "R",
   "pygments_lexer": "r",
   "version": "3.6.1"
  }
 },
 "nbformat": 4,
 "nbformat_minor": 4
}
