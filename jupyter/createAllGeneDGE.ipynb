{
 "cells": [
  {
   "cell_type": "markdown",
   "id": "a9c34b7c",
   "metadata": {
    "papermill": {
     "duration": 0.035017,
     "end_time": "2021-10-26T18:44:26.835876",
     "exception": false,
     "start_time": "2021-10-26T18:44:26.800859",
     "status": "completed"
    },
    "tags": []
   },
   "source": [
    "# Analysis Notebook - create all DGE files\n",
    "\n",
    "Creating and saving two files in this notebook\n",
    "\n",
    " **1. chr_genes.tsv:** create a file with chromosome, ENSG (no version number) and GeneSymbols using gencode.v30.annotation.gtf\n",
    "\n",
    " **2. all_gene_dge.tsv:** create this file using the chr_genes from gencode.v30.annotation for the specific ENSG ids that are used in the differential gene analysis"
   ]
  },
  {
   "cell_type": "code",
   "execution_count": 1,
   "id": "9ec091bb",
   "metadata": {
    "execution": {
     "iopub.execute_input": "2021-10-26T18:44:27.000899Z",
     "iopub.status.busy": "2021-10-26T18:44:26.997451Z",
     "iopub.status.idle": "2021-10-26T18:44:36.489415Z",
     "shell.execute_reply": "2021-10-26T18:44:36.486222Z"
    },
    "papermill": {
     "duration": 9.623553,
     "end_time": "2021-10-26T18:44:36.489643",
     "exception": false,
     "start_time": "2021-10-26T18:44:26.866090",
     "status": "completed"
    },
    "tags": []
   },
   "outputs": [
    {
     "name": "stderr",
     "output_type": "stream",
     "text": [
      "\n",
      "Attaching package: ‘dplyr’\n",
      "\n",
      "\n"
     ]
    },
    {
     "name": "stderr",
     "output_type": "stream",
     "text": [
      "The following objects are masked from ‘package:stats’:\n",
      "\n",
      "    filter, lag\n",
      "\n",
      "\n"
     ]
    },
    {
     "name": "stderr",
     "output_type": "stream",
     "text": [
      "The following objects are masked from ‘package:base’:\n",
      "\n",
      "    intersect, setdiff, setequal, union\n",
      "\n",
      "\n"
     ]
    },
    {
     "name": "stderr",
     "output_type": "stream",
     "text": [
      "Loading required package: GenomicRanges\n",
      "\n"
     ]
    },
    {
     "name": "stderr",
     "output_type": "stream",
     "text": [
      "Loading required package: stats4\n",
      "\n"
     ]
    },
    {
     "name": "stderr",
     "output_type": "stream",
     "text": [
      "Loading required package: BiocGenerics\n",
      "\n"
     ]
    },
    {
     "name": "stderr",
     "output_type": "stream",
     "text": [
      "Loading required package: parallel\n",
      "\n"
     ]
    },
    {
     "name": "stderr",
     "output_type": "stream",
     "text": [
      "\n",
      "Attaching package: ‘BiocGenerics’\n",
      "\n",
      "\n"
     ]
    },
    {
     "name": "stderr",
     "output_type": "stream",
     "text": [
      "The following objects are masked from ‘package:parallel’:\n",
      "\n",
      "    clusterApply, clusterApplyLB, clusterCall, clusterEvalQ,\n",
      "    clusterExport, clusterMap, parApply, parCapply, parLapply,\n",
      "    parLapplyLB, parRapply, parSapply, parSapplyLB\n",
      "\n",
      "\n"
     ]
    },
    {
     "name": "stderr",
     "output_type": "stream",
     "text": [
      "The following objects are masked from ‘package:dplyr’:\n",
      "\n",
      "    combine, intersect, setdiff, union\n",
      "\n",
      "\n"
     ]
    },
    {
     "name": "stderr",
     "output_type": "stream",
     "text": [
      "The following objects are masked from ‘package:stats’:\n",
      "\n",
      "    IQR, mad, sd, var, xtabs\n",
      "\n",
      "\n"
     ]
    },
    {
     "name": "stderr",
     "output_type": "stream",
     "text": [
      "The following objects are masked from ‘package:base’:\n",
      "\n",
      "    anyDuplicated, append, as.data.frame, basename, cbind, colnames,\n",
      "    dirname, do.call, duplicated, eval, evalq, Filter, Find, get, grep,\n",
      "    grepl, intersect, is.unsorted, lapply, Map, mapply, match, mget,\n",
      "    order, paste, pmax, pmax.int, pmin, pmin.int, Position, rank,\n",
      "    rbind, Reduce, rownames, sapply, setdiff, sort, table, tapply,\n",
      "    union, unique, unsplit, which.max, which.min\n",
      "\n",
      "\n"
     ]
    },
    {
     "name": "stderr",
     "output_type": "stream",
     "text": [
      "Loading required package: S4Vectors\n",
      "\n"
     ]
    },
    {
     "name": "stderr",
     "output_type": "stream",
     "text": [
      "\n",
      "Attaching package: ‘S4Vectors’\n",
      "\n",
      "\n"
     ]
    },
    {
     "name": "stderr",
     "output_type": "stream",
     "text": [
      "The following objects are masked from ‘package:dplyr’:\n",
      "\n",
      "    first, rename\n",
      "\n",
      "\n"
     ]
    },
    {
     "name": "stderr",
     "output_type": "stream",
     "text": [
      "The following objects are masked from ‘package:base’:\n",
      "\n",
      "    expand.grid, I, unname\n",
      "\n",
      "\n"
     ]
    },
    {
     "name": "stderr",
     "output_type": "stream",
     "text": [
      "Loading required package: IRanges\n",
      "\n"
     ]
    },
    {
     "name": "stderr",
     "output_type": "stream",
     "text": [
      "\n",
      "Attaching package: ‘IRanges’\n",
      "\n",
      "\n"
     ]
    },
    {
     "name": "stderr",
     "output_type": "stream",
     "text": [
      "The following objects are masked from ‘package:dplyr’:\n",
      "\n",
      "    collapse, desc, slice\n",
      "\n",
      "\n"
     ]
    },
    {
     "name": "stderr",
     "output_type": "stream",
     "text": [
      "Loading required package: GenomeInfoDb\n",
      "\n"
     ]
    }
   ],
   "source": [
    "library(dplyr)\n",
    "library(rtracklayer)"
   ]
  },
  {
   "cell_type": "markdown",
   "id": "fdde978f",
   "metadata": {
    "papermill": {
     "duration": 0.046194,
     "end_time": "2021-10-26T18:44:36.582480",
     "exception": false,
     "start_time": "2021-10-26T18:44:36.536286",
     "status": "completed"
    },
    "tags": []
   },
   "source": [
    "### 1  Add to the all_gene_dge_names.tsv structure\n",
    "\n",
    "First gather the data and add GeneSymbol, ENSG without version and chromosome"
   ]
  },
  {
   "cell_type": "markdown",
   "id": "77e07ff1",
   "metadata": {
    "papermill": {
     "duration": 0.046617,
     "end_time": "2021-10-26T18:44:36.672413",
     "exception": false,
     "start_time": "2021-10-26T18:44:36.625796",
     "status": "completed"
    },
    "tags": []
   },
   "source": [
    "### 1.1 create a file used for statistical analysis of DGE genes\n",
    "all the tissues used the same listing of genes for the differential gene analysis -- so reading anly of the files will allow these ENSG files to be mapped to GeneSymbols and Chromosomes using the gencode.v30.annotation file"
   ]
  },
  {
   "cell_type": "code",
   "execution_count": 2,
   "id": "0372d269",
   "metadata": {
    "execution": {
     "iopub.execute_input": "2021-10-26T18:44:36.823995Z",
     "iopub.status.busy": "2021-10-26T18:44:36.766497Z",
     "iopub.status.idle": "2021-10-26T18:45:40.674155Z",
     "shell.execute_reply": "2021-10-26T18:45:40.672937Z"
    },
    "papermill": {
     "duration": 63.957067,
     "end_time": "2021-10-26T18:45:40.674352",
     "exception": false,
     "start_time": "2021-10-26T18:44:36.717285",
     "status": "completed"
    },
    "tags": []
   },
   "outputs": [
    {
     "data": {
      "text/html": [
       "<table class=\"dataframe\">\n",
       "<caption>A data.frame: 6 × 3</caption>\n",
       "<thead>\n",
       "\t<tr><th></th><th scope=col>chr</th><th scope=col>GeneSymbol</th><th scope=col>ENSG</th></tr>\n",
       "\t<tr><th></th><th scope=col>&lt;fct&gt;</th><th scope=col>&lt;chr&gt;</th><th scope=col>&lt;chr&gt;</th></tr>\n",
       "</thead>\n",
       "<tbody>\n",
       "\t<tr><th scope=row>1</th><td>chr1</td><td>DDX11L1    </td><td>ENSG00000223972.5</td></tr>\n",
       "\t<tr><th scope=row>13</th><td>chr1</td><td>WASH7P     </td><td>ENSG00000227232.5</td></tr>\n",
       "\t<tr><th scope=row>26</th><td>chr1</td><td>MIR6859-1  </td><td>ENSG00000278267.1</td></tr>\n",
       "\t<tr><th scope=row>29</th><td>chr1</td><td>MIR1302-2HG</td><td>ENSG00000243485.5</td></tr>\n",
       "\t<tr><th scope=row>37</th><td>chr1</td><td>MIR1302-2  </td><td>ENSG00000284332.1</td></tr>\n",
       "\t<tr><th scope=row>40</th><td>chr1</td><td>FAM138A    </td><td>ENSG00000237613.2</td></tr>\n",
       "</tbody>\n",
       "</table>\n"
      ],
      "text/latex": [
       "A data.frame: 6 × 3\n",
       "\\begin{tabular}{r|lll}\n",
       "  & chr & GeneSymbol & ENSG\\\\\n",
       "  & <fct> & <chr> & <chr>\\\\\n",
       "\\hline\n",
       "\t1 & chr1 & DDX11L1     & ENSG00000223972.5\\\\\n",
       "\t13 & chr1 & WASH7P      & ENSG00000227232.5\\\\\n",
       "\t26 & chr1 & MIR6859-1   & ENSG00000278267.1\\\\\n",
       "\t29 & chr1 & MIR1302-2HG & ENSG00000243485.5\\\\\n",
       "\t37 & chr1 & MIR1302-2   & ENSG00000284332.1\\\\\n",
       "\t40 & chr1 & FAM138A     & ENSG00000237613.2\\\\\n",
       "\\end{tabular}\n"
      ],
      "text/markdown": [
       "\n",
       "A data.frame: 6 × 3\n",
       "\n",
       "| <!--/--> | chr &lt;fct&gt; | GeneSymbol &lt;chr&gt; | ENSG &lt;chr&gt; |\n",
       "|---|---|---|---|\n",
       "| 1 | chr1 | DDX11L1     | ENSG00000223972.5 |\n",
       "| 13 | chr1 | WASH7P      | ENSG00000227232.5 |\n",
       "| 26 | chr1 | MIR6859-1   | ENSG00000278267.1 |\n",
       "| 29 | chr1 | MIR1302-2HG | ENSG00000243485.5 |\n",
       "| 37 | chr1 | MIR1302-2   | ENSG00000284332.1 |\n",
       "| 40 | chr1 | FAM138A     | ENSG00000237613.2 |\n",
       "\n"
      ],
      "text/plain": [
       "   chr  GeneSymbol  ENSG             \n",
       "1  chr1 DDX11L1     ENSG00000223972.5\n",
       "13 chr1 WASH7P      ENSG00000227232.5\n",
       "26 chr1 MIR6859-1   ENSG00000278267.1\n",
       "29 chr1 MIR1302-2HG ENSG00000243485.5\n",
       "37 chr1 MIR1302-2   ENSG00000284332.1\n",
       "40 chr1 FAM138A     ENSG00000237613.2"
      ]
     },
     "metadata": {},
     "output_type": "display_data"
    },
    {
     "data": {
      "text/html": [
       "<table class=\"dataframe\">\n",
       "<caption>A data.frame: 6 × 3</caption>\n",
       "<thead>\n",
       "\t<tr><th></th><th scope=col>chr</th><th scope=col>GeneSymbol</th><th scope=col>ENSG</th></tr>\n",
       "\t<tr><th></th><th scope=col>&lt;fct&gt;</th><th scope=col>&lt;chr&gt;</th><th scope=col>&lt;chr&gt;</th></tr>\n",
       "</thead>\n",
       "<tbody>\n",
       "\t<tr><th scope=row>1</th><td>chr1</td><td>DDX11L1    </td><td>ENSG00000223972</td></tr>\n",
       "\t<tr><th scope=row>13</th><td>chr1</td><td>WASH7P     </td><td>ENSG00000227232</td></tr>\n",
       "\t<tr><th scope=row>26</th><td>chr1</td><td>MIR6859-1  </td><td>ENSG00000278267</td></tr>\n",
       "\t<tr><th scope=row>29</th><td>chr1</td><td>MIR1302-2HG</td><td>ENSG00000243485</td></tr>\n",
       "\t<tr><th scope=row>37</th><td>chr1</td><td>MIR1302-2  </td><td>ENSG00000284332</td></tr>\n",
       "\t<tr><th scope=row>40</th><td>chr1</td><td>FAM138A    </td><td>ENSG00000237613</td></tr>\n",
       "</tbody>\n",
       "</table>\n"
      ],
      "text/latex": [
       "A data.frame: 6 × 3\n",
       "\\begin{tabular}{r|lll}\n",
       "  & chr & GeneSymbol & ENSG\\\\\n",
       "  & <fct> & <chr> & <chr>\\\\\n",
       "\\hline\n",
       "\t1 & chr1 & DDX11L1     & ENSG00000223972\\\\\n",
       "\t13 & chr1 & WASH7P      & ENSG00000227232\\\\\n",
       "\t26 & chr1 & MIR6859-1   & ENSG00000278267\\\\\n",
       "\t29 & chr1 & MIR1302-2HG & ENSG00000243485\\\\\n",
       "\t37 & chr1 & MIR1302-2   & ENSG00000284332\\\\\n",
       "\t40 & chr1 & FAM138A     & ENSG00000237613\\\\\n",
       "\\end{tabular}\n"
      ],
      "text/markdown": [
       "\n",
       "A data.frame: 6 × 3\n",
       "\n",
       "| <!--/--> | chr &lt;fct&gt; | GeneSymbol &lt;chr&gt; | ENSG &lt;chr&gt; |\n",
       "|---|---|---|---|\n",
       "| 1 | chr1 | DDX11L1     | ENSG00000223972 |\n",
       "| 13 | chr1 | WASH7P      | ENSG00000227232 |\n",
       "| 26 | chr1 | MIR6859-1   | ENSG00000278267 |\n",
       "| 29 | chr1 | MIR1302-2HG | ENSG00000243485 |\n",
       "| 37 | chr1 | MIR1302-2   | ENSG00000284332 |\n",
       "| 40 | chr1 | FAM138A     | ENSG00000237613 |\n",
       "\n"
      ],
      "text/plain": [
       "   chr  GeneSymbol  ENSG           \n",
       "1  chr1 DDX11L1     ENSG00000223972\n",
       "13 chr1 WASH7P      ENSG00000227232\n",
       "26 chr1 MIR6859-1   ENSG00000278267\n",
       "29 chr1 MIR1302-2HG ENSG00000243485\n",
       "37 chr1 MIR1302-2   ENSG00000284332\n",
       "40 chr1 FAM138A     ENSG00000237613"
      ]
     },
     "metadata": {},
     "output_type": "display_data"
    }
   ],
   "source": [
    "#\n",
    "# add chr information for summary data later, use the annotation we used for rMATS\n",
    "#\n",
    "if (!(\"gencode.v30.annotation.gtf.gz\" %in% list.files(\"../data/\"))) {\n",
    "    message(\"downloading gencode v30 annotation\\n\")\n",
    "    system(\"wget -O ../data/gencode.v30.annotation.gtf.gz ftp://ftp.ebi.ac.uk/pub/databases/gencode/Gencode_human/release_30/gencode.v30.annotation.gtf.gz\")\n",
    "    message(\"Done!\\n\")\n",
    "    message(\"Unzipping compressed file gencode.v30.annotation.gtf.gz..\")\n",
    "    system(\"gunzip ../data/gencode.v30.annotation.gtf.gz\", intern = TRUE)\n",
    "    message(\"Done! gencode.v30.annotation.gtf can be found in ../data/\")\n",
    "}\n",
    "gencode <- import(\"../data/gencode.v30.annotation.gtf\")\n",
    "gtf.df <- as.data.frame (gencode)\n",
    "chr_genes <- unique(gtf.df[,c(\"seqnames\",\"gene_name\",\"gene_id\")])\n",
    "colnames(chr_genes) <- c(\"chr\",\"GeneSymbol\", \"ENSG\")\n",
    "head(chr_genes)\n",
    "for (i in 1:dim(chr_genes)[1]) {\n",
    "    chr_genes$ENSG[i] <- as.character(strsplit(chr_genes$ENSG[i],'\\\\.\\\\w+$'))\n",
    "}\n",
    "head(chr_genes)"
   ]
  },
  {
   "cell_type": "code",
   "execution_count": 3,
   "id": "98e7cb8b",
   "metadata": {
    "execution": {
     "iopub.execute_input": "2021-10-26T18:45:40.780171Z",
     "iopub.status.busy": "2021-10-26T18:45:40.778804Z",
     "iopub.status.idle": "2021-10-26T18:45:40.919093Z",
     "shell.execute_reply": "2021-10-26T18:45:40.917894Z"
    },
    "papermill": {
     "duration": 0.194842,
     "end_time": "2021-10-26T18:45:40.919257",
     "exception": false,
     "start_time": "2021-10-26T18:45:40.724415",
     "status": "completed"
    },
    "tags": []
   },
   "outputs": [],
   "source": [
    "write.table(chr_genes, \"../data/chr_genes.tsv\", quote=FALSE, sep=\"\\t\")"
   ]
  },
  {
   "cell_type": "markdown",
   "id": "84635583",
   "metadata": {
    "papermill": {
     "duration": 0.050032,
     "end_time": "2021-10-26T18:45:41.017878",
     "exception": false,
     "start_time": "2021-10-26T18:45:40.967846",
     "status": "completed"
    },
    "tags": []
   },
   "source": [
    "### 1.2 Create the all_genes_dge_names.tsv file for analysis\n",
    "\n",
    "All of the **DGE.csv** tissue files have the same gene names"
   ]
  },
  {
   "cell_type": "code",
   "execution_count": 4,
   "id": "2d53a1f4",
   "metadata": {
    "execution": {
     "iopub.execute_input": "2021-10-26T18:45:41.128504Z",
     "iopub.status.busy": "2021-10-26T18:45:41.125959Z",
     "iopub.status.idle": "2021-10-26T18:45:41.164918Z",
     "shell.execute_reply": "2021-10-26T18:45:41.163286Z"
    },
    "papermill": {
     "duration": 0.095078,
     "end_time": "2021-10-26T18:45:41.165071",
     "exception": false,
     "start_time": "2021-10-26T18:45:41.069993",
     "status": "completed"
    },
    "tags": []
   },
   "outputs": [
    {
     "name": "stderr",
     "output_type": "stream",
     "text": [
      "number of DGE files 39\n",
      "\n"
     ]
    }
   ],
   "source": [
    "results_dir     <- \"../data/\"\n",
    "all_dge_pattern <- \"*_DGE.csv\"\n",
    "all_dge_files    <- list.files(path = results_dir, pattern = all_dge_pattern)\n",
    "message (\"number of DGE files \", length(all_dge_files))"
   ]
  },
  {
   "cell_type": "code",
   "execution_count": 5,
   "id": "c0d85b43",
   "metadata": {
    "execution": {
     "iopub.execute_input": "2021-10-26T18:45:41.268131Z",
     "iopub.status.busy": "2021-10-26T18:45:41.266702Z",
     "iopub.status.idle": "2021-10-26T18:45:41.279388Z",
     "shell.execute_reply": "2021-10-26T18:45:41.278034Z"
    },
    "papermill": {
     "duration": 0.066411,
     "end_time": "2021-10-26T18:45:41.279556",
     "exception": false,
     "start_time": "2021-10-26T18:45:41.213145",
     "status": "completed"
    },
    "tags": []
   },
   "outputs": [],
   "source": [
    "all_gene_dge = data.frame()"
   ]
  },
  {
   "cell_type": "code",
   "execution_count": 6,
   "id": "0b0217cf",
   "metadata": {
    "execution": {
     "iopub.execute_input": "2021-10-26T18:45:41.386190Z",
     "iopub.status.busy": "2021-10-26T18:45:41.384783Z",
     "iopub.status.idle": "2021-09-24T05:23:42.587656Z",
     "shell.execute_reply": "2021-09-24T05:23:42.586575Z"
    },
    "papermill": {
     "duration": null,
     "end_time": null,
     "exception": false,
     "start_time": "2021-10-26T18:45:41.331973",
     "status": "running"
    },
    "tags": []
   },
   "outputs": [
    {
     "name": "stderr",
     "output_type": "stream",
     "text": [
      "For   adipose_subcutaneous_DGE.csv\n",
      "\n"
     ]
    },
    {
     "name": "stderr",
     "output_type": "stream",
     "text": [
      "we find the number of genes to be 161226\n",
      "\n"
     ]
    },
    {
     "name": "stderr",
     "output_type": "stream",
     "text": [
      "For   adipose_visceral_omentum_DGE.csv\n",
      "\n"
     ]
    },
    {
     "name": "stderr",
     "output_type": "stream",
     "text": [
      "we find the number of genes to be 163406\n",
      "\n"
     ]
    },
    {
     "name": "stderr",
     "output_type": "stream",
     "text": [
      "For   adrenal_gland_DGE.csv\n",
      "\n"
     ]
    },
    {
     "name": "stderr",
     "output_type": "stream",
     "text": [
      "we find the number of genes to be 160236\n",
      "\n"
     ]
    },
    {
     "name": "stderr",
     "output_type": "stream",
     "text": [
      "For   artery_aorta_DGE.csv\n",
      "\n"
     ]
    },
    {
     "name": "stderr",
     "output_type": "stream",
     "text": [
      "we find the number of genes to be 158156\n",
      "\n"
     ]
    },
    {
     "name": "stderr",
     "output_type": "stream",
     "text": [
      "For   artery_coronary_DGE.csv\n",
      "\n"
     ]
    },
    {
     "name": "stderr",
     "output_type": "stream",
     "text": [
      "we find the number of genes to be 161516\n",
      "\n"
     ]
    },
    {
     "name": "stderr",
     "output_type": "stream",
     "text": [
      "For   artery_tibial_DGE.csv\n",
      "\n"
     ]
    },
    {
     "name": "stderr",
     "output_type": "stream",
     "text": [
      "we find the number of genes to be 153466\n",
      "\n"
     ]
    },
    {
     "name": "stderr",
     "output_type": "stream",
     "text": [
      "For   brain_caudate_basal_ganglia_DGE.csv\n",
      "\n"
     ]
    },
    {
     "name": "stderr",
     "output_type": "stream",
     "text": [
      "we find the number of genes to be 167906\n",
      "\n"
     ]
    },
    {
     "name": "stderr",
     "output_type": "stream",
     "text": [
      "For   brain_cerebellar_hemisphere_DGE.csv\n",
      "\n"
     ]
    },
    {
     "name": "stderr",
     "output_type": "stream",
     "text": [
      "we find the number of genes to be 167826\n",
      "\n"
     ]
    },
    {
     "name": "stderr",
     "output_type": "stream",
     "text": [
      "For   brain_cerebellum_DGE.csv\n",
      "\n"
     ]
    },
    {
     "name": "stderr",
     "output_type": "stream",
     "text": [
      "we find the number of genes to be 170536\n",
      "\n"
     ]
    },
    {
     "name": "stderr",
     "output_type": "stream",
     "text": [
      "For   brain_cortex_DGE.csv\n",
      "\n"
     ]
    },
    {
     "name": "stderr",
     "output_type": "stream",
     "text": [
      "we find the number of genes to be 167496\n",
      "\n"
     ]
    },
    {
     "name": "stderr",
     "output_type": "stream",
     "text": [
      "For   brain_frontal_cortex_ba_9_DGE.csv\n",
      "\n"
     ]
    },
    {
     "name": "stderr",
     "output_type": "stream",
     "text": [
      "we find the number of genes to be 166806\n",
      "\n"
     ]
    },
    {
     "name": "stderr",
     "output_type": "stream",
     "text": [
      "For   brain_hippocampus_DGE.csv\n",
      "\n"
     ]
    },
    {
     "name": "stderr",
     "output_type": "stream",
     "text": [
      "we find the number of genes to be 165536\n",
      "\n"
     ]
    },
    {
     "name": "stderr",
     "output_type": "stream",
     "text": [
      "For   brain_hypothalamus_DGE.csv\n",
      "\n"
     ]
    },
    {
     "name": "stderr",
     "output_type": "stream",
     "text": [
      "we find the number of genes to be 170716\n",
      "\n"
     ]
    },
    {
     "name": "stderr",
     "output_type": "stream",
     "text": [
      "For   brain_nucleus_accumbens_basal_ganglia_DGE.csv\n",
      "\n"
     ]
    },
    {
     "name": "stderr",
     "output_type": "stream",
     "text": [
      "we find the number of genes to be 168296\n",
      "\n"
     ]
    },
    {
     "name": "stderr",
     "output_type": "stream",
     "text": [
      "For   brain_putamen_basal_ganglia_DGE.csv\n",
      "\n"
     ]
    },
    {
     "name": "stderr",
     "output_type": "stream",
     "text": [
      "we find the number of genes to be 163506\n",
      "\n"
     ]
    },
    {
     "name": "stderr",
     "output_type": "stream",
     "text": [
      "For   brain_spinal_cord_cervical_c_1_DGE.csv\n",
      "\n"
     ]
    },
    {
     "name": "stderr",
     "output_type": "stream",
     "text": [
      "we find the number of genes to be 164516\n",
      "\n"
     ]
    },
    {
     "name": "stderr",
     "output_type": "stream",
     "text": [
      "For   breast_mammary_tissue_DGE.csv\n",
      "\n"
     ]
    },
    {
     "name": "stderr",
     "output_type": "stream",
     "text": [
      "we find the number of genes to be 170786\n",
      "\n"
     ]
    },
    {
     "name": "stderr",
     "output_type": "stream",
     "text": [
      "For   cells_cultured_fibroblasts_DGE.csv\n",
      "\n"
     ]
    },
    {
     "name": "stderr",
     "output_type": "stream",
     "text": [
      "we find the number of genes to be 142836\n",
      "\n"
     ]
    },
    {
     "name": "stderr",
     "output_type": "stream",
     "text": [
      "For   cells_ebv_transformed_lymphocytes_DGE.csv\n",
      "\n"
     ]
    },
    {
     "name": "stderr",
     "output_type": "stream",
     "text": [
      "we find the number of genes to be 143106\n",
      "\n"
     ]
    },
    {
     "name": "stderr",
     "output_type": "stream",
     "text": [
      "For   colon_sigmoid_DGE.csv\n",
      "\n"
     ]
    },
    {
     "name": "stderr",
     "output_type": "stream",
     "text": [
      "we find the number of genes to be 162546\n",
      "\n"
     ]
    },
    {
     "name": "stderr",
     "output_type": "stream",
     "text": [
      "For   colon_transverse_DGE.csv\n",
      "\n"
     ]
    }
   ],
   "source": [
    "for (file in 1:length(all_dge_files)) {\n",
    "\n",
    "    lines  <- read.table(file=paste0(results_dir, all_dge_files[file]), \n",
    "                                  header = TRUE, sep = \",\", quote = \"\\\"'\", skipNul = FALSE)\n",
    "    message(\"For   \", all_dge_files[file])\n",
    "    message(\"we find the number of genes to be \", dim(lines))\n",
    "\n",
    "    if (dim(lines)[1] > 0) {\n",
    "        ensg_ver   <- as.vector(as.character(rownames(lines)))\n",
    "        chr        <- rep(\"NA\",dim(lines)[1])\n",
    "        ensg_no_ver<- rep(\"NA\",dim(lines)[1])\n",
    "        ensg_genes <- rep(\"NA\",dim(lines)[1])\n",
    "       \n",
    "        for (i in 1:dim(lines)[1]) {\n",
    "            ensg_no_ver[i] <- as.character(strsplit(ensg_ver[i],'\\\\.\\\\w+$'))\n",
    "   \t    match  <- as.character(chr_genes$ENSG) %in% as.character((ensg_no_ver[i]))\n",
    "\t    \n",
    "   \t    if (sum(match==TRUE)== 1) {\n",
    "   \t        chr[i]        <- as.character(chr_genes[match,]$chr)\n",
    "                ensg_genes[i] <- as.character(chr_genes[match,]$GeneSymbol)\n",
    "   \t\t  \n",
    "   \t    # if there are multiple matches, just keep the first result\n",
    "   \t    } else if (sum(match==TRUE)>1) {\n",
    "   \t        all_chr <- as.vector(as.character(chr_genes[match,]$chr))\n",
    "   \t\tchr[i] <- as.character(all_chr[1])\n",
    "   \t\tall_genes <- as.vector(as.character(chr_genes[match,]$GeneSymbol))\n",
    "   \t\tensg_genes[i] <- as.character(all_genes[1])\n",
    "\t\t\n",
    "   \t    } # end if there is a match\n",
    "\t    \n",
    "   \t    res <- data.frame(ENSG_ver     <- ensg_ver[i],\n",
    "                          ENSG_no_ver  <- ensg_no_ver[i],\n",
    "                          GeneSymbol   <- ensg_genes[i],\n",
    "                          chr          <- chr[i])\n",
    "        \n",
    "            all_gene_dge <- rbind(all_gene_dge, res)\n",
    "\t    \n",
    "        } # for all lines\n",
    "\t\n",
    "    } #if has events\n",
    "} #for all files"
   ]
  },
  {
   "cell_type": "code",
   "execution_count": null,
   "id": "730cfce4",
   "metadata": {
    "papermill": {
     "duration": null,
     "end_time": null,
     "exception": null,
     "start_time": null,
     "status": "pending"
    },
    "tags": []
   },
   "outputs": [],
   "source": [
    "colnames(all_gene_dge) <- c(\"ENSG_ver\",\"ENSG_no_ver\",\"GeneSymbol\",\"chr\")\n",
    "sorted_all_gene_dge <- all_gene_dge[order(all_gene_dge[\"ENSG_ver\"]),]\n",
    "unique_all_gene_dge <- unique(sorted_all_gene_dge)"
   ]
  },
  {
   "cell_type": "code",
   "execution_count": null,
   "id": "a7560891",
   "metadata": {
    "papermill": {
     "duration": null,
     "end_time": null,
     "exception": null,
     "start_time": null,
     "status": "pending"
    },
    "tags": []
   },
   "outputs": [],
   "source": [
    "message(\"The universe of all genes (without ChrY) is \", length(unique_all_gene_dge$GeneSymbol))"
   ]
  },
  {
   "cell_type": "markdown",
   "id": "b6c937fc",
   "metadata": {
    "papermill": {
     "duration": null,
     "end_time": null,
     "exception": null,
     "start_time": null,
     "status": "pending"
    },
    "tags": []
   },
   "source": [
    "n_unique_genes <- length(summary(as.factor(all_gene_dge$GeneSymbol),maxsum=50000))\n",
    "message(\"We extracted a total of \",nrow(all_gene_dge),\" differential gene events (all_gene_dge)\")\n",
    "message(\"This includes \", n_unique_genes, \" total genes\")"
   ]
  },
  {
   "cell_type": "code",
   "execution_count": null,
   "id": "4776588c",
   "metadata": {
    "papermill": {
     "duration": null,
     "end_time": null,
     "exception": null,
     "start_time": null,
     "status": "pending"
    },
    "tags": []
   },
   "outputs": [],
   "source": [
    "table(unique_all_gene_dge$chr)\n",
    "write.table(unique_all_gene_dge, \"../data/all_gene_dge.tsv\", quote=FALSE, sep=\"\\t\")"
   ]
  },
  {
   "cell_type": "markdown",
   "id": "fdd3af63",
   "metadata": {
    "papermill": {
     "duration": null,
     "end_time": null,
     "exception": null,
     "start_time": null,
     "status": "pending"
    },
    "tags": []
   },
   "source": [
    "### Appendix - Metadata\n",
    "\n",
    "For replicability and reproducibility purposes, we also print the following metadata:\n",
    "\n",
    "1. Checksums of **'artefacts'**, files generated during the analysis and stored in the folder directory **`data`**\n",
    "2. List of environment metadata, dependencies, versions of libraries using `utils::sessionInfo()` and [`devtools::session_info()`](https://devtools.r-lib.org/reference/session_info.html)"
   ]
  },
  {
   "cell_type": "markdown",
   "id": "5054e174",
   "metadata": {
    "papermill": {
     "duration": null,
     "end_time": null,
     "exception": null,
     "start_time": null,
     "status": "pending"
    },
    "tags": []
   },
   "source": [
    "### Appendix 1. Checksums with the sha256 algorithm"
   ]
  },
  {
   "cell_type": "code",
   "execution_count": null,
   "id": "20c814c7",
   "metadata": {
    "papermill": {
     "duration": null,
     "end_time": null,
     "exception": null,
     "start_time": null,
     "status": "pending"
    },
    "tags": []
   },
   "outputs": [],
   "source": [
    "rm (notebookid)\n",
    "notebookid   = \"createAllgeneDGE\"\n",
    "notebookid\n",
    "\n",
    "message(\"Generating sha256 checksums of the file `../data/all_gene_dge_gene_names.tsv` directory .. \")\n",
    "system(paste0(\"cd ../data && find . -name all_gene_dge_gene_names.tsv -exec sha256sum {} \\\\;  >  ../data/\", notebookid, \"_sha256sums.txt\"), intern = TRUE)\n",
    "message(\"Done!\\n\")\n",
    "\n",
    "message(\"Generating sha256 checksums of the file `../data/chr_genes.tsv` directory .. \")\n",
    "system(paste0(\"cd ../data && find . -name chr_genes.tsv -exec sha256sum {} \\\\;  >  ../\n",
    "\n",
    "data/\", notebookid, \"_sha256sums.txt\"), intern = TRUE)\n",
    "message(\"Done!\\n\")"
   ]
  },
  {
   "cell_type": "markdown",
   "id": "e1b81ec9",
   "metadata": {
    "papermill": {
     "duration": null,
     "end_time": null,
     "exception": null,
     "start_time": null,
     "status": "pending"
    },
    "tags": []
   },
   "source": [
    "### Appendix 2. Libraries metadata"
   ]
  },
  {
   "cell_type": "code",
   "execution_count": null,
   "id": "87b678d1",
   "metadata": {
    "lines_to_next_cell": 0,
    "papermill": {
     "duration": null,
     "end_time": null,
     "exception": null,
     "start_time": null,
     "status": "pending"
    },
    "tags": []
   },
   "outputs": [],
   "source": [
    "dev_session_info   <- devtools::session_info()\n",
    "utils_session_info <- utils::sessionInfo()\n",
    "\n",
    "message(\"Saving `devtools::session_info()` objects in ../data/devtools_session_info.rds  ..\")\n",
    "saveRDS(dev_session_info, file = paste0(\"../data/\", notebookid, \"_devtools_session_info.rds\"))\n",
    "message(\"Done!\\n\")\n",
    "\n",
    "message(\"Saving `utils::sessionInfo()` objects in ../data/utils_session_info.rds  ..\")\n",
    "saveRDS(utils_session_info, file = paste0(\"../data/\", notebookid ,\"_utils_info.rds\"))\n",
    "message(\"Done!\\n\")\n",
    "\n",
    "dev_session_info$platform\n",
    "dev_session_info$packages[dev_session_info$packages$attached==TRUE, ]"
   ]
  }
 ],
 "metadata": {
  "jupytext": {
   "cell_metadata_filter": "-all",
   "encoding": "# -*- coding: utf-8 -*-",
   "main_language": "R",
   "notebook_metadata_filter": "-all"
  },
  "kernelspec": {
   "display_name": "R",
   "language": "R",
   "name": "ir"
  },
  "language_info": {
   "codemirror_mode": "r",
   "file_extension": ".r",
   "mimetype": "text/x-r-source",
   "name": "R",
   "pygments_lexer": "r",
   "version": "3.6.1"
  },
  "papermill": {
   "default_parameters": {},
   "duration": null,
   "end_time": null,
   "environment_variables": {},
   "exception": null,
   "input_path": "createAllGeneDGE.ipynb",
   "output_path": "createAllGeneDGE.ipynb",
   "parameters": {},
   "start_time": "2021-10-26T18:44:25.553852",
   "version": "2.3.3"
  }
 },
 "nbformat": 4,
 "nbformat_minor": 5
}