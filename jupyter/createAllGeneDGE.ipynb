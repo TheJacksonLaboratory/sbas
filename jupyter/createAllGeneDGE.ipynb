{
 "cells": [
  {
   "cell_type": "markdown",
   "id": "26e5850b",
   "metadata": {
    "papermill": {
     "duration": 0.009821,
     "end_time": "2021-06-28T13:16:00.210557",
     "exception": false,
     "start_time": "2021-06-28T13:16:00.200736",
     "status": "completed"
    },
    "tags": []
   },
   "source": [
    "# Analysis Notebook - create all DGE files\n",
    "\n",
    "Creating and saving two files in this notebook\n",
    "\n",
    " **1. chr_genes.tsv:** create a file with chromosome, ENSG (no version number) and GeneSymbols using gencode.v30.annotation.gtf\n",
    "\n",
    " **2. all_gene_dge.tsv:** create this file using the chr_genes from gencode.v30.annotation for the specific ENSG ids that are used in the differential gene analysis"
   ]
  },
  {
   "cell_type": "code",
   "execution_count": 1,
   "id": "af7947d7",
   "metadata": {
    "execution": {
     "iopub.execute_input": "2021-06-28T13:16:00.357651Z",
     "iopub.status.busy": "2021-06-28T13:16:00.354851Z",
     "iopub.status.idle": "2021-06-28T13:16:08.260320Z",
     "shell.execute_reply": "2021-06-28T13:16:08.259022Z"
    },
    "papermill": {
     "duration": 8.041083,
     "end_time": "2021-06-28T13:16:08.260701",
     "exception": false,
     "start_time": "2021-06-28T13:16:00.219618",
     "status": "completed"
    },
    "tags": []
   },
   "outputs": [
    {
     "name": "stderr",
     "output_type": "stream",
     "text": [
      "\n",
      "Attaching package: ‘dplyr’\n",
      "\n",
      "\n"
     ]
    },
    {
     "name": "stderr",
     "output_type": "stream",
     "text": [
      "The following objects are masked from ‘package:stats’:\n",
      "\n",
      "    filter, lag\n",
      "\n",
      "\n"
     ]
    },
    {
     "name": "stderr",
     "output_type": "stream",
     "text": [
      "The following objects are masked from ‘package:base’:\n",
      "\n",
      "    intersect, setdiff, setequal, union\n",
      "\n",
      "\n"
     ]
    },
    {
     "name": "stderr",
     "output_type": "stream",
     "text": [
      "Loading required package: GenomicRanges\n",
      "\n"
     ]
    },
    {
     "name": "stderr",
     "output_type": "stream",
     "text": [
      "Loading required package: stats4\n",
      "\n"
     ]
    },
    {
     "name": "stderr",
     "output_type": "stream",
     "text": [
      "Loading required package: BiocGenerics\n",
      "\n"
     ]
    },
    {
     "name": "stderr",
     "output_type": "stream",
     "text": [
      "Loading required package: parallel\n",
      "\n"
     ]
    },
    {
     "name": "stderr",
     "output_type": "stream",
     "text": [
      "\n",
      "Attaching package: ‘BiocGenerics’\n",
      "\n",
      "\n"
     ]
    },
    {
     "name": "stderr",
     "output_type": "stream",
     "text": [
      "The following objects are masked from ‘package:parallel’:\n",
      "\n",
      "    clusterApply, clusterApplyLB, clusterCall, clusterEvalQ,\n",
      "    clusterExport, clusterMap, parApply, parCapply, parLapply,\n",
      "    parLapplyLB, parRapply, parSapply, parSapplyLB\n",
      "\n",
      "\n"
     ]
    },
    {
     "name": "stderr",
     "output_type": "stream",
     "text": [
      "The following objects are masked from ‘package:dplyr’:\n",
      "\n",
      "    combine, intersect, setdiff, union\n",
      "\n",
      "\n"
     ]
    },
    {
     "name": "stderr",
     "output_type": "stream",
     "text": [
      "The following objects are masked from ‘package:stats’:\n",
      "\n",
      "    IQR, mad, sd, var, xtabs\n",
      "\n",
      "\n"
     ]
    },
    {
     "name": "stderr",
     "output_type": "stream",
     "text": [
      "The following objects are masked from ‘package:base’:\n",
      "\n",
      "    anyDuplicated, append, as.data.frame, basename, cbind, colnames,\n",
      "    dirname, do.call, duplicated, eval, evalq, Filter, Find, get, grep,\n",
      "    grepl, intersect, is.unsorted, lapply, Map, mapply, match, mget,\n",
      "    order, paste, pmax, pmax.int, pmin, pmin.int, Position, rank,\n",
      "    rbind, Reduce, rownames, sapply, setdiff, sort, table, tapply,\n",
      "    union, unique, unsplit, which.max, which.min\n",
      "\n",
      "\n"
     ]
    },
    {
     "name": "stderr",
     "output_type": "stream",
     "text": [
      "Loading required package: S4Vectors\n",
      "\n"
     ]
    },
    {
     "name": "stderr",
     "output_type": "stream",
     "text": [
      "\n",
      "Attaching package: ‘S4Vectors’\n",
      "\n",
      "\n"
     ]
    },
    {
     "name": "stderr",
     "output_type": "stream",
     "text": [
      "The following objects are masked from ‘package:dplyr’:\n",
      "\n",
      "    first, rename\n",
      "\n",
      "\n"
     ]
    },
    {
     "name": "stderr",
     "output_type": "stream",
     "text": [
      "The following objects are masked from ‘package:base’:\n",
      "\n",
      "    expand.grid, I, unname\n",
      "\n",
      "\n"
     ]
    },
    {
     "name": "stderr",
     "output_type": "stream",
     "text": [
      "Loading required package: IRanges\n",
      "\n"
     ]
    },
    {
     "name": "stderr",
     "output_type": "stream",
     "text": [
      "\n",
      "Attaching package: ‘IRanges’\n",
      "\n",
      "\n"
     ]
    },
    {
     "name": "stderr",
     "output_type": "stream",
     "text": [
      "The following objects are masked from ‘package:dplyr’:\n",
      "\n",
      "    collapse, desc, slice\n",
      "\n",
      "\n"
     ]
    },
    {
     "name": "stderr",
     "output_type": "stream",
     "text": [
      "Loading required package: GenomeInfoDb\n",
      "\n"
     ]
    }
   ],
   "source": [
    "library(dplyr)\n",
    "library(rtracklayer)"
   ]
  },
  {
   "cell_type": "markdown",
   "id": "03b07d8e",
   "metadata": {
    "papermill": {
     "duration": 0.012592,
     "end_time": "2021-06-28T13:16:08.286399",
     "exception": false,
     "start_time": "2021-06-28T13:16:08.273807",
     "status": "completed"
    },
    "tags": []
   },
   "source": [
    "### 1  Add to the all_gene_dge_names.tsv structure\n",
    "\n",
    "First gather the data and add GeneSymbol, ENSG without version and chromosome"
   ]
  },
  {
   "cell_type": "markdown",
   "id": "cbaa8d82",
   "metadata": {
    "papermill": {
     "duration": 0.012524,
     "end_time": "2021-06-28T13:16:08.311263",
     "exception": false,
     "start_time": "2021-06-28T13:16:08.298739",
     "status": "completed"
    },
    "tags": []
   },
   "source": [
    "### 1.1 create a file used for statistical analysis of DGE genes\n",
    "all the tissues used the same listing of genes for the differential gene analysis -- so reading anly of the files will allow these ENSG files to be mapped to GeneSymbols and Chromosomes using the gencode.v30.annotation file"
   ]
  },
  {
   "cell_type": "code",
   "execution_count": 2,
   "id": "e7700203",
   "metadata": {
    "execution": {
     "iopub.execute_input": "2021-06-28T13:16:08.377011Z",
     "iopub.status.busy": "2021-06-28T13:16:08.340315Z",
     "iopub.status.idle": "2021-06-28T13:17:05.187335Z",
     "shell.execute_reply": "2021-06-28T13:17:05.186231Z"
    },
    "papermill": {
     "duration": 56.863763,
     "end_time": "2021-06-28T13:17:05.187476",
     "exception": false,
     "start_time": "2021-06-28T13:16:08.323713",
     "status": "completed"
    },
    "tags": []
   },
   "outputs": [
    {
     "data": {
      "text/html": [
       "<table class=\"dataframe\">\n",
       "<caption>A data.frame: 6 × 3</caption>\n",
       "<thead>\n",
       "\t<tr><th></th><th scope=col>chr</th><th scope=col>GeneSymbol</th><th scope=col>ENSG</th></tr>\n",
       "\t<tr><th></th><th scope=col>&lt;fct&gt;</th><th scope=col>&lt;chr&gt;</th><th scope=col>&lt;chr&gt;</th></tr>\n",
       "</thead>\n",
       "<tbody>\n",
       "\t<tr><th scope=row>1</th><td>chr1</td><td>DDX11L1    </td><td>ENSG00000223972.5</td></tr>\n",
       "\t<tr><th scope=row>13</th><td>chr1</td><td>WASH7P     </td><td>ENSG00000227232.5</td></tr>\n",
       "\t<tr><th scope=row>26</th><td>chr1</td><td>MIR6859-1  </td><td>ENSG00000278267.1</td></tr>\n",
       "\t<tr><th scope=row>29</th><td>chr1</td><td>MIR1302-2HG</td><td>ENSG00000243485.5</td></tr>\n",
       "\t<tr><th scope=row>37</th><td>chr1</td><td>MIR1302-2  </td><td>ENSG00000284332.1</td></tr>\n",
       "\t<tr><th scope=row>40</th><td>chr1</td><td>FAM138A    </td><td>ENSG00000237613.2</td></tr>\n",
       "</tbody>\n",
       "</table>\n"
      ],
      "text/latex": [
       "A data.frame: 6 × 3\n",
       "\\begin{tabular}{r|lll}\n",
       "  & chr & GeneSymbol & ENSG\\\\\n",
       "  & <fct> & <chr> & <chr>\\\\\n",
       "\\hline\n",
       "\t1 & chr1 & DDX11L1     & ENSG00000223972.5\\\\\n",
       "\t13 & chr1 & WASH7P      & ENSG00000227232.5\\\\\n",
       "\t26 & chr1 & MIR6859-1   & ENSG00000278267.1\\\\\n",
       "\t29 & chr1 & MIR1302-2HG & ENSG00000243485.5\\\\\n",
       "\t37 & chr1 & MIR1302-2   & ENSG00000284332.1\\\\\n",
       "\t40 & chr1 & FAM138A     & ENSG00000237613.2\\\\\n",
       "\\end{tabular}\n"
      ],
      "text/markdown": [
       "\n",
       "A data.frame: 6 × 3\n",
       "\n",
       "| <!--/--> | chr &lt;fct&gt; | GeneSymbol &lt;chr&gt; | ENSG &lt;chr&gt; |\n",
       "|---|---|---|---|\n",
       "| 1 | chr1 | DDX11L1     | ENSG00000223972.5 |\n",
       "| 13 | chr1 | WASH7P      | ENSG00000227232.5 |\n",
       "| 26 | chr1 | MIR6859-1   | ENSG00000278267.1 |\n",
       "| 29 | chr1 | MIR1302-2HG | ENSG00000243485.5 |\n",
       "| 37 | chr1 | MIR1302-2   | ENSG00000284332.1 |\n",
       "| 40 | chr1 | FAM138A     | ENSG00000237613.2 |\n",
       "\n"
      ],
      "text/plain": [
       "   chr  GeneSymbol  ENSG             \n",
       "1  chr1 DDX11L1     ENSG00000223972.5\n",
       "13 chr1 WASH7P      ENSG00000227232.5\n",
       "26 chr1 MIR6859-1   ENSG00000278267.1\n",
       "29 chr1 MIR1302-2HG ENSG00000243485.5\n",
       "37 chr1 MIR1302-2   ENSG00000284332.1\n",
       "40 chr1 FAM138A     ENSG00000237613.2"
      ]
     },
     "metadata": {},
     "output_type": "display_data"
    },
    {
     "data": {
      "text/html": [
       "<table class=\"dataframe\">\n",
       "<caption>A data.frame: 6 × 3</caption>\n",
       "<thead>\n",
       "\t<tr><th></th><th scope=col>chr</th><th scope=col>GeneSymbol</th><th scope=col>ENSG</th></tr>\n",
       "\t<tr><th></th><th scope=col>&lt;fct&gt;</th><th scope=col>&lt;chr&gt;</th><th scope=col>&lt;chr&gt;</th></tr>\n",
       "</thead>\n",
       "<tbody>\n",
       "\t<tr><th scope=row>1</th><td>chr1</td><td>DDX11L1    </td><td>ENSG00000223972</td></tr>\n",
       "\t<tr><th scope=row>13</th><td>chr1</td><td>WASH7P     </td><td>ENSG00000227232</td></tr>\n",
       "\t<tr><th scope=row>26</th><td>chr1</td><td>MIR6859-1  </td><td>ENSG00000278267</td></tr>\n",
       "\t<tr><th scope=row>29</th><td>chr1</td><td>MIR1302-2HG</td><td>ENSG00000243485</td></tr>\n",
       "\t<tr><th scope=row>37</th><td>chr1</td><td>MIR1302-2  </td><td>ENSG00000284332</td></tr>\n",
       "\t<tr><th scope=row>40</th><td>chr1</td><td>FAM138A    </td><td>ENSG00000237613</td></tr>\n",
       "</tbody>\n",
       "</table>\n"
      ],
      "text/latex": [
       "A data.frame: 6 × 3\n",
       "\\begin{tabular}{r|lll}\n",
       "  & chr & GeneSymbol & ENSG\\\\\n",
       "  & <fct> & <chr> & <chr>\\\\\n",
       "\\hline\n",
       "\t1 & chr1 & DDX11L1     & ENSG00000223972\\\\\n",
       "\t13 & chr1 & WASH7P      & ENSG00000227232\\\\\n",
       "\t26 & chr1 & MIR6859-1   & ENSG00000278267\\\\\n",
       "\t29 & chr1 & MIR1302-2HG & ENSG00000243485\\\\\n",
       "\t37 & chr1 & MIR1302-2   & ENSG00000284332\\\\\n",
       "\t40 & chr1 & FAM138A     & ENSG00000237613\\\\\n",
       "\\end{tabular}\n"
      ],
      "text/markdown": [
       "\n",
       "A data.frame: 6 × 3\n",
       "\n",
       "| <!--/--> | chr &lt;fct&gt; | GeneSymbol &lt;chr&gt; | ENSG &lt;chr&gt; |\n",
       "|---|---|---|---|\n",
       "| 1 | chr1 | DDX11L1     | ENSG00000223972 |\n",
       "| 13 | chr1 | WASH7P      | ENSG00000227232 |\n",
       "| 26 | chr1 | MIR6859-1   | ENSG00000278267 |\n",
       "| 29 | chr1 | MIR1302-2HG | ENSG00000243485 |\n",
       "| 37 | chr1 | MIR1302-2   | ENSG00000284332 |\n",
       "| 40 | chr1 | FAM138A     | ENSG00000237613 |\n",
       "\n"
      ],
      "text/plain": [
       "   chr  GeneSymbol  ENSG           \n",
       "1  chr1 DDX11L1     ENSG00000223972\n",
       "13 chr1 WASH7P      ENSG00000227232\n",
       "26 chr1 MIR6859-1   ENSG00000278267\n",
       "29 chr1 MIR1302-2HG ENSG00000243485\n",
       "37 chr1 MIR1302-2   ENSG00000284332\n",
       "40 chr1 FAM138A     ENSG00000237613"
      ]
     },
     "metadata": {},
     "output_type": "display_data"
    }
   ],
   "source": [
    "#\n",
    "# add chr information for summary data later, use the annotation we used for rMATS\n",
    "#\n",
    "if (!(\"gencode.v30.annotation.gtf.gz\" %in% list.files(\"../data/\"))) {\n",
    "    message(\"downloading gencode v30 annotation\\n\")\n",
    "    system(\"wget -O ../data/gencode.v30.annotation.gtf.gz ftp://ftp.ebi.ac.uk/pub/databases/gencode/Gencode_human/release_30/gencode.v30.annotation.gtf.gz\")\n",
    "    message(\"Done!\\n\")\n",
    "    message(\"Unzipping compressed file gencode.v30.annotation.gtf.gz..\")\n",
    "    system(\"gunzip ../data/gencode.v30.annotation.gtf.gz\", intern = TRUE)\n",
    "    message(\"Done! gencode.v30.annotation.gtf can be found in ../data/\")\n",
    "}\n",
    "gencode <- import(\"../data/gencode.v30.annotation.gtf\")\n",
    "gtf.df <- as.data.frame (gencode)\n",
    "chr_genes <- unique(gtf.df[,c(\"seqnames\",\"gene_name\",\"gene_id\")])\n",
    "colnames(chr_genes) <- c(\"chr\",\"GeneSymbol\", \"ENSG\")\n",
    "head(chr_genes)\n",
    "for (i in 1:dim(chr_genes)[1]) {\n",
    "    chr_genes$ENSG[i] <- as.character(strsplit(chr_genes$ENSG[i],'\\\\.\\\\w+$'))\n",
    "}\n",
    "head(chr_genes)"
   ]
  },
  {
   "cell_type": "code",
   "execution_count": 3,
   "id": "fe051334",
   "metadata": {
    "execution": {
     "iopub.execute_input": "2021-06-28T13:17:05.221724Z",
     "iopub.status.busy": "2021-06-28T13:17:05.220381Z",
     "iopub.status.idle": "2021-06-28T13:17:05.338250Z",
     "shell.execute_reply": "2021-06-28T13:17:05.337220Z"
    },
    "papermill": {
     "duration": 0.136514,
     "end_time": "2021-06-28T13:17:05.338406",
     "exception": false,
     "start_time": "2021-06-28T13:17:05.201892",
     "status": "completed"
    },
    "tags": []
   },
   "outputs": [],
   "source": [
    "write.table(chr_genes, \"../data/chr_genes.tsv\", quote=FALSE, sep=\"\\t\")"
   ]
  },
  {
   "cell_type": "markdown",
   "id": "f147076c",
   "metadata": {
    "papermill": {
     "duration": 0.013959,
     "end_time": "2021-06-28T13:17:05.366633",
     "exception": false,
     "start_time": "2021-06-28T13:17:05.352674",
     "status": "completed"
    },
    "tags": []
   },
   "source": [
    "### 1.2 Create the all_genes_dge_names.tsv file for analysis\n",
    "\n",
    "All of the **DGE.csv** tissue files have the same gene names"
   ]
  },
  {
   "cell_type": "code",
   "execution_count": 4,
   "id": "277610a2",
   "metadata": {
    "execution": {
     "iopub.execute_input": "2021-06-28T13:17:05.398980Z",
     "iopub.status.busy": "2021-06-28T13:17:05.397613Z",
     "iopub.status.idle": "2021-06-28T13:17:05.430688Z",
     "shell.execute_reply": "2021-06-28T13:17:05.429548Z"
    },
    "papermill": {
     "duration": 0.050708,
     "end_time": "2021-06-28T13:17:05.430849",
     "exception": false,
     "start_time": "2021-06-28T13:17:05.380141",
     "status": "completed"
    },
    "tags": []
   },
   "outputs": [
    {
     "name": "stderr",
     "output_type": "stream",
     "text": [
      "number of DGE files 39\n",
      "\n"
     ]
    }
   ],
   "source": [
    "results_dir     <- \"../data/\"\n",
    "all_dge_pattern <- \"*_DGE.csv\"\n",
    "all_dge_files    <- list.files(path = results_dir, pattern = all_dge_pattern)\n",
    "message (\"number of DGE files \", length(all_dge_files))"
   ]
  },
  {
   "cell_type": "code",
   "execution_count": 5,
   "id": "2ec8494a",
   "metadata": {
    "execution": {
     "iopub.execute_input": "2021-06-28T13:17:05.464975Z",
     "iopub.status.busy": "2021-06-28T13:17:05.463605Z",
     "iopub.status.idle": "2021-06-28T13:17:05.475837Z",
     "shell.execute_reply": "2021-06-28T13:17:05.474676Z"
    },
    "papermill": {
     "duration": 0.030317,
     "end_time": "2021-06-28T13:17:05.476027",
     "exception": false,
     "start_time": "2021-06-28T13:17:05.445710",
     "status": "completed"
    },
    "tags": []
   },
   "outputs": [],
   "source": [
    "all_gene_dge = data.frame()"
   ]
  },
  {
   "cell_type": "code",
   "execution_count": 6,
   "id": "a6fdad2b",
   "metadata": {
    "execution": {
     "iopub.execute_input": "2021-06-28T13:17:05.509536Z",
     "iopub.status.busy": "2021-06-28T13:17:05.508082Z",
     "iopub.status.idle": "2021-06-28T12:58:42.069419Z",
     "shell.execute_reply": "2021-06-28T12:58:42.067918Z"
    },
    "papermill": {
     "duration": null,
     "end_time": null,
     "exception": false,
     "start_time": "2021-06-28T13:17:05.490374",
     "status": "running"
    },
    "tags": []
   },
   "outputs": [
    {
     "name": "stderr",
     "output_type": "stream",
     "text": [
      "For   adipose_subcutaneous_DGE.csv\n",
      "\n"
     ]
    },
    {
     "name": "stderr",
     "output_type": "stream",
     "text": [
      "we find the number of genes to be 161226\n",
      "\n"
     ]
    },
    {
     "name": "stderr",
     "output_type": "stream",
     "text": [
      "For   adipose_visceral_omentum_DGE.csv\n",
      "\n"
     ]
    },
    {
     "name": "stderr",
     "output_type": "stream",
     "text": [
      "we find the number of genes to be 163406\n",
      "\n"
     ]
    },
    {
     "name": "stderr",
     "output_type": "stream",
     "text": [
      "For   adrenal_gland_DGE.csv\n",
      "\n"
     ]
    },
    {
     "name": "stderr",
     "output_type": "stream",
     "text": [
      "we find the number of genes to be 160236\n",
      "\n"
     ]
    },
    {
     "name": "stderr",
     "output_type": "stream",
     "text": [
      "For   artery_aorta_DGE.csv\n",
      "\n"
     ]
    },
    {
     "name": "stderr",
     "output_type": "stream",
     "text": [
      "we find the number of genes to be 158156\n",
      "\n"
     ]
    },
    {
     "name": "stderr",
     "output_type": "stream",
     "text": [
      "For   artery_coronary_DGE.csv\n",
      "\n"
     ]
    },
    {
     "name": "stderr",
     "output_type": "stream",
     "text": [
      "we find the number of genes to be 161516\n",
      "\n"
     ]
    },
    {
     "name": "stderr",
     "output_type": "stream",
     "text": [
      "For   artery_tibial_DGE.csv\n",
      "\n"
     ]
    },
    {
     "name": "stderr",
     "output_type": "stream",
     "text": [
      "we find the number of genes to be 153466\n",
      "\n"
     ]
    },
    {
     "name": "stderr",
     "output_type": "stream",
     "text": [
      "For   brain_caudate_basal_ganglia_DGE.csv\n",
      "\n"
     ]
    },
    {
     "name": "stderr",
     "output_type": "stream",
     "text": [
      "we find the number of genes to be 167906\n",
      "\n"
     ]
    },
    {
     "name": "stderr",
     "output_type": "stream",
     "text": [
      "For   brain_cerebellar_hemisphere_DGE.csv\n",
      "\n"
     ]
    },
    {
     "name": "stderr",
     "output_type": "stream",
     "text": [
      "we find the number of genes to be 167826\n",
      "\n"
     ]
    },
    {
     "name": "stderr",
     "output_type": "stream",
     "text": [
      "For   brain_cerebellum_DGE.csv\n",
      "\n"
     ]
    },
    {
     "name": "stderr",
     "output_type": "stream",
     "text": [
      "we find the number of genes to be 170536\n",
      "\n"
     ]
    },
    {
     "name": "stderr",
     "output_type": "stream",
     "text": [
      "For   brain_cortex_DGE.csv\n",
      "\n"
     ]
    },
    {
     "name": "stderr",
     "output_type": "stream",
     "text": [
      "we find the number of genes to be 167496\n",
      "\n"
     ]
    },
    {
     "name": "stderr",
     "output_type": "stream",
     "text": [
      "For   brain_frontal_cortex_ba_9_DGE.csv\n",
      "\n"
     ]
    },
    {
     "name": "stderr",
     "output_type": "stream",
     "text": [
      "we find the number of genes to be 166806\n",
      "\n"
     ]
    },
    {
     "name": "stderr",
     "output_type": "stream",
     "text": [
      "For   brain_hippocampus_DGE.csv\n",
      "\n"
     ]
    },
    {
     "name": "stderr",
     "output_type": "stream",
     "text": [
      "we find the number of genes to be 165536\n",
      "\n"
     ]
    },
    {
     "name": "stderr",
     "output_type": "stream",
     "text": [
      "For   brain_hypothalamus_DGE.csv\n",
      "\n"
     ]
    },
    {
     "name": "stderr",
     "output_type": "stream",
     "text": [
      "we find the number of genes to be 170716\n",
      "\n"
     ]
    },
    {
     "name": "stderr",
     "output_type": "stream",
     "text": [
      "For   brain_nucleus_accumbens_basal_ganglia_DGE.csv\n",
      "\n"
     ]
    },
    {
     "name": "stderr",
     "output_type": "stream",
     "text": [
      "we find the number of genes to be 168296\n",
      "\n"
     ]
    },
    {
     "name": "stderr",
     "output_type": "stream",
     "text": [
      "For   brain_putamen_basal_ganglia_DGE.csv\n",
      "\n"
     ]
    },
    {
     "name": "stderr",
     "output_type": "stream",
     "text": [
      "we find the number of genes to be 163506\n",
      "\n"
     ]
    },
    {
     "name": "stderr",
     "output_type": "stream",
     "text": [
      "For   brain_spinal_cord_cervical_c_1_DGE.csv\n",
      "\n"
     ]
    }
   ],
   "source": [
    "for (file in 1:length(all_dge_files)) {\n",
    "\n",
    "    lines  <- read.table(file=paste0(results_dir, all_dge_files[file]), \n",
    "                                  header = TRUE, sep = \",\", quote = \"\\\"'\", skipNul = FALSE)\n",
    "    message(\"For   \", all_dge_files[file])\n",
    "    message(\"we find the number of genes to be \", dim(lines))\n",
    "\n",
    "    if (dim(lines)[1] > 0) {\n",
    "        ensg_ver   <- as.vector(as.character(rownames(lines)))\n",
    "        chr        <- rep(\"NA\",dim(lines)[1])\n",
    "        ensg_no_ver<- rep(\"NA\",dim(lines)[1])\n",
    "        ensg_genes <- rep(\"NA\",dim(lines)[1])\n",
    "       \n",
    "        for (i in 1:dim(lines)[1]) {\n",
    "            ensg_no_ver[i] <- as.character(strsplit(ensg_ver[i],'\\\\.\\\\w+$'))\n",
    "   \t    match  <- as.character(chr_genes$ENSG) %in% as.character((ensg_no_ver[i]))\n",
    "\t    \n",
    "   \t    if (sum(match==TRUE)== 1) {\n",
    "   \t        chr[i]        <- as.character(chr_genes[match,]$chr)\n",
    "                ensg_genes[i] <- as.character(chr_genes[match,]$GeneSymbol)\n",
    "   \t\t  \n",
    "   \t    # if there are multiple matches, just keep the first result\n",
    "   \t    } else if (sum(match==TRUE)>1) {\n",
    "   \t        all_chr <- as.vector(as.character(chr_genes[match,]$chr))\n",
    "   \t\tchr[i] <- as.character(all_chr[1])\n",
    "   \t\tall_genes <- as.vector(as.character(chr_genes[match,]$GeneSymbol))\n",
    "   \t\tensg_genes[i] <- as.character(all_genes[1])\n",
    "\t\t\n",
    "   \t    } # end if there is a match\n",
    "\t    \n",
    "   \t    res <- data.frame(ENSG_ver     <- ensg_ver[i],\n",
    "                          ENSG_no_ver  <- ensg_no_ver[i],\n",
    "                          GeneSymbol   <- ensg_genes[i],\n",
    "                          chr          <- chr[i])\n",
    "        \n",
    "            all_gene_dge <- rbind(all_gene_dge, res)\n",
    "\t    \n",
    "        } # for all lines\n",
    "\t\n",
    "    } #if has events\n",
    "} #for all files"
   ]
  },
  {
   "cell_type": "code",
   "execution_count": null,
   "id": "7fbc275b",
   "metadata": {
    "papermill": {
     "duration": null,
     "end_time": null,
     "exception": null,
     "start_time": null,
     "status": "pending"
    },
    "tags": []
   },
   "outputs": [],
   "source": [
    "colnames(all_gene_dge) <- c(\"ENSG_ver\",\"ENSG_no_ver\",\"GeneSymbol\",\"chr\")\n",
    "sorted_all_gene_dge <- all_gene_dge[order(all_gene_dge[\"ENSG_ver\"]),]\n",
    "unique_all_gene_dge <- unique(sorted_all_gene_dge)"
   ]
  },
  {
   "cell_type": "code",
   "execution_count": null,
   "id": "5fb0d6ec",
   "metadata": {
    "papermill": {
     "duration": null,
     "end_time": null,
     "exception": null,
     "start_time": null,
     "status": "pending"
    },
    "tags": []
   },
   "outputs": [],
   "source": [
    "message(\"The universe of all genes (without ChrY) is \", length(unique_all_gene_dge$GeneSymbol))"
   ]
  },
  {
   "cell_type": "markdown",
   "id": "4f11d9f7",
   "metadata": {
    "papermill": {
     "duration": null,
     "end_time": null,
     "exception": null,
     "start_time": null,
     "status": "pending"
    },
    "tags": []
   },
   "source": [
    "n_unique_genes <- length(summary(as.factor(all_gene_dge$GeneSymbol),maxsum=50000))\n",
    "message(\"We extracted a total of \",nrow(all_gene_dge),\" differential gene events (all_gene_dge)\")\n",
    "message(\"This includes \", n_unique_genes, \" total genes\")"
   ]
  },
  {
   "cell_type": "code",
   "execution_count": null,
   "id": "1a23f0d8",
   "metadata": {
    "papermill": {
     "duration": null,
     "end_time": null,
     "exception": null,
     "start_time": null,
     "status": "pending"
    },
    "tags": []
   },
   "outputs": [],
   "source": [
    "table(unique_all_gene_dge$chr)\n",
    "write.table(unique_all_gene_dge, \"../data/all_gene_dge.tsv\", quote=FALSE, sep=\"\\t\")"
   ]
  },
  {
   "cell_type": "markdown",
   "id": "73be17f1",
   "metadata": {
    "papermill": {
     "duration": null,
     "end_time": null,
     "exception": null,
     "start_time": null,
     "status": "pending"
    },
    "tags": []
   },
   "source": [
    "### Appendix - Metadata\n",
    "\n",
    "For replicability and reproducibility purposes, we also print the following metadata:\n",
    "\n",
    "1. Checksums of **'artefacts'**, files generated during the analysis and stored in the folder directory **`data`**\n",
    "2. List of environment metadata, dependencies, versions of libraries using `utils::sessionInfo()` and [`devtools::session_info()`](https://devtools.r-lib.org/reference/session_info.html)"
   ]
  },
  {
   "cell_type": "markdown",
   "id": "27482a07",
   "metadata": {
    "papermill": {
     "duration": null,
     "end_time": null,
     "exception": null,
     "start_time": null,
     "status": "pending"
    },
    "tags": []
   },
   "source": [
    "### Appendix 1. Checksums with the sha256 algorithm"
   ]
  },
  {
   "cell_type": "code",
   "execution_count": null,
   "id": "95c56905",
   "metadata": {
    "papermill": {
     "duration": null,
     "end_time": null,
     "exception": null,
     "start_time": null,
     "status": "pending"
    },
    "tags": []
   },
   "outputs": [],
   "source": [
    "rm (notebookid)\n",
    "notebookid   = \"createAllgeneDGE\"\n",
    "notebookid\n",
    "\n",
    "message(\"Generating sha256 checksums of the file `../data/all_gene_dge_gene_names.tsv` directory .. \")\n",
    "system(paste0(\"cd ../data && find . -name all_gene_dge_gene_names.tsv -exec sha256sum {} \\\\;  >  ../metadata/\", notebookid, \"_sha256sums.txt\"), intern = TRUE)\n",
    "message(\"Done!\\n\")\n",
    "\n",
    "message(\"Generating sha256 checksums of the file `../data/chr_genes.tsv` directory .. \")\n",
    "system(paste0(\"cd ../data && find . -name chr_genes.tsv -exec sha256sum {} \\\\;  >  ../metadata/\", notebookid, \"_sha256sums.txt\"), intern = TRUE)\n",
    "message(\"Done!\\n\")"
   ]
  },
  {
   "cell_type": "markdown",
   "id": "bfdc261b",
   "metadata": {
    "papermill": {
     "duration": null,
     "end_time": null,
     "exception": null,
     "start_time": null,
     "status": "pending"
    },
    "tags": []
   },
   "source": [
    "### Appendix 2. Libraries metadata"
   ]
  },
  {
   "cell_type": "code",
   "execution_count": null,
   "id": "d96f11db",
   "metadata": {
    "lines_to_next_cell": 0,
    "papermill": {
     "duration": null,
     "end_time": null,
     "exception": null,
     "start_time": null,
     "status": "pending"
    },
    "tags": []
   },
   "outputs": [],
   "source": [
    "dev_session_info   <- devtools::session_info()\n",
    "utils_session_info <- utils::sessionInfo()\n",
    "\n",
    "message(\"Saving `devtools::session_info()` objects in ../metadata/devtools_session_info.rds  ..\")\n",
    "saveRDS(dev_session_info, file = paste0(\"../metadata/\", notebookid, \"_devtools_session_info.rds\"))\n",
    "message(\"Done!\\n\")\n",
    "\n",
    "message(\"Saving `utils::sessionInfo()` objects in ../metadata/utils_session_info.rds  ..\")\n",
    "saveRDS(utils_session_info, file = paste0(\"../metadata/\", notebookid ,\"_utils_info.rds\"))\n",
    "message(\"Done!\\n\")\n",
    "\n",
    "dev_session_info$platform\n",
    "dev_session_info$packages[dev_session_info$packages$attached==TRUE, ]"
   ]
  },
  {
   "cell_type": "code",
   "execution_count": null,
   "id": "b7cfbfbe",
   "metadata": {
    "lines_to_next_cell": 2,
    "papermill": {
     "duration": null,
     "end_time": null,
     "exception": null,
     "start_time": null,
     "status": "pending"
    },
    "tags": []
   },
   "outputs": [],
   "source": []
  }
 ],
 "metadata": {
  "jupytext": {
   "cell_metadata_filter": "-all",
   "encoding": "# -*- coding: utf-8 -*-",
   "main_language": "R",
   "notebook_metadata_filter": "-all"
  },
  "kernelspec": {
   "display_name": "R",
   "language": "R",
   "name": "ir"
  },
  "language_info": {
   "codemirror_mode": "r",
   "file_extension": ".r",
   "mimetype": "text/x-r-source",
   "name": "R",
   "pygments_lexer": "r",
   "version": "3.6.1"
  },
  "papermill": {
   "default_parameters": {},
   "duration": null,
   "end_time": null,
   "environment_variables": {},
   "exception": null,
   "input_path": "createAllGeneDGE.ipynb",
   "output_path": "createAllGeneDGE.ipynb",
   "parameters": {},
   "start_time": "2021-06-28T13:15:59.166248",
   "version": "2.3.3"
  }
 },
 "nbformat": 4,
 "nbformat_minor": 5
}