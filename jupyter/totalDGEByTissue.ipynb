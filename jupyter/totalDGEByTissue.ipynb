{
 "cells": [
  {
   "cell_type": "markdown",
   "id": "c403a096",
   "metadata": {
    "papermill": {
     "duration": 0.007697,
     "end_time": "2021-06-27T19:25:20.185924",
     "exception": false,
     "start_time": "2021-06-27T19:25:20.178227",
     "status": "completed"
    },
    "tags": []
   },
   "source": [
    "# **total significant gene expression events by Tissue Dot plot**\n",
    "\n",
    "This notebook generates a single figure, the reverse plot of showing the number of significant gene expression events by tissue.\n",
    "\n",
    "Only one input file required\n",
    "**\"../data/Total_DGE_by_tissue.tsv\"**\n",
    "\n",
    "Produces one figure\n",
    "**\"../pdf/total_dge_by_tissue.pdf\"**"
   ]
  },
  {
   "cell_type": "markdown",
   "id": "9a7404b8",
   "metadata": {
    "papermill": {
     "duration": 0.006426,
     "end_time": "2021-06-27T19:25:20.199107",
     "exception": false,
     "start_time": "2021-06-27T19:25:20.192681",
     "status": "completed"
    },
    "tags": []
   },
   "source": [
    "## **Running this notebook**:\n",
    "\n",
    "See the README for setting up prerequisites for the notebook."
   ]
  },
  {
   "cell_type": "markdown",
   "id": "5f713e12",
   "metadata": {
    "papermill": {
     "duration": 0.006025,
     "end_time": "2021-06-27T19:25:20.211268",
     "exception": false,
     "start_time": "2021-06-27T19:25:20.205243",
     "status": "completed"
    },
    "tags": []
   },
   "source": [
    "## 1. Setup \n",
    "\n",
    "Assumes the `countGenesAndEvents.ipynb` notebook was run -- unpacking the results from the differential Gene Expression Analysis as run in the `differentialGeneExpressionAnalysis.ipynb` notebook."
   ]
  },
  {
   "cell_type": "code",
   "execution_count": 1,
   "id": "b6ab2bb8",
   "metadata": {
    "execution": {
     "iopub.execute_input": "2021-06-27T19:25:20.345553Z",
     "iopub.status.busy": "2021-06-27T19:25:20.342865Z",
     "iopub.status.idle": "2021-06-27T19:25:20.852562Z",
     "shell.execute_reply": "2021-06-27T19:25:20.851356Z"
    },
    "papermill": {
     "duration": 0.6355,
     "end_time": "2021-06-27T19:25:20.852906",
     "exception": false,
     "start_time": "2021-06-27T19:25:20.217406",
     "status": "completed"
    },
    "tags": []
   },
   "outputs": [
    {
     "name": "stderr",
     "output_type": "stream",
     "text": [
      "\n",
      "Attaching package: ‘dplyr’\n",
      "\n",
      "\n"
     ]
    },
    {
     "name": "stderr",
     "output_type": "stream",
     "text": [
      "The following objects are masked from ‘package:stats’:\n",
      "\n",
      "    filter, lag\n",
      "\n",
      "\n"
     ]
    },
    {
     "name": "stderr",
     "output_type": "stream",
     "text": [
      "The following objects are masked from ‘package:base’:\n",
      "\n",
      "    intersect, setdiff, setequal, union\n",
      "\n",
      "\n"
     ]
    },
    {
     "name": "stderr",
     "output_type": "stream",
     "text": [
      "Loading required package: viridisLite\n",
      "\n"
     ]
    },
    {
     "name": "stderr",
     "output_type": "stream",
     "text": [
      "\n",
      "Attaching package: ‘viridis’\n",
      "\n",
      "\n"
     ]
    },
    {
     "name": "stderr",
     "output_type": "stream",
     "text": [
      "The following object is masked from ‘package:scales’:\n",
      "\n",
      "    viridis_pal\n",
      "\n",
      "\n"
     ]
    }
   ],
   "source": [
    "start_time <- Sys.time()\n",
    "\n",
    "defaultW <- getOption(\"warn\")  # suppress warnings for this cell\n",
    "options(warn = -1) \n",
    "\n",
    "library(stringr)\n",
    "library(magrittr)\n",
    "library(dplyr)\n",
    "library(ggplot2)\n",
    "library(scales)\n",
    "library(viridis)\n",
    "\n",
    "Sys.setenv(TAR = \"/bin/tar\") # for gzfile\n",
    "\n",
    "options(warn = defaultW)"
   ]
  },
  {
   "cell_type": "markdown",
   "id": "8e3f6cf0",
   "metadata": {
    "papermill": {
     "duration": 0.007787,
     "end_time": "2021-06-27T19:25:20.868713",
     "exception": false,
     "start_time": "2021-06-27T19:25:20.860926",
     "status": "completed"
    },
    "tags": []
   },
   "source": [
    "## 2 read in the total DGE by tissue file."
   ]
  },
  {
   "cell_type": "code",
   "execution_count": 2,
   "id": "85bcf574",
   "metadata": {
    "execution": {
     "iopub.execute_input": "2021-06-27T19:25:20.922633Z",
     "iopub.status.busy": "2021-06-27T19:25:20.887617Z",
     "iopub.status.idle": "2021-06-27T19:25:20.958827Z",
     "shell.execute_reply": "2021-06-27T19:25:20.957604Z"
    },
    "papermill": {
     "duration": 0.082714,
     "end_time": "2021-06-27T19:25:20.958973",
     "exception": false,
     "start_time": "2021-06-27T19:25:20.876259",
     "status": "completed"
    },
    "tags": []
   },
   "outputs": [
    {
     "data": {
      "text/html": [
       "<style>\n",
       ".list-inline {list-style: none; margin:0; padding: 0}\n",
       ".list-inline>li {display: inline-block}\n",
       ".list-inline>li:not(:last-child)::after {content: \"\\00b7\"; padding: 0 .5ex}\n",
       "</style>\n",
       "<ol class=list-inline><li>'Spinal cord'</li><li>'Cortex'</li><li>'Hippocampus'</li><li>'Nucleus accumbens'</li><li>'Small intestine'</li><li>'Caudate'</li><li>'Hypothalamus'</li><li>'Stomach'</li><li>'Sigmoid colon'</li><li>'EBV-lymphocytes'</li><li>'Transverse colon'</li><li>'Adrenal gland'</li><li>'Putamen'</li><li>'Spleen'</li><li>'Lung'</li><li>'Coronary artery'</li><li>'Esophagus (m)'</li><li>'Pancreas'</li><li>'Cerebellar hemisphere'</li><li>'Cerebellum'</li><li>'Esophagus (mu)'</li><li>'Esophagus (gej)'</li><li>'Tibial nerve'</li><li>'Frontal cortex'</li><li>'Aorta'</li><li>'Atrial appendage'</li><li>'Tibial artery'</li><li>'Whole blood'</li><li>'Liver'</li><li>'Fibroblasts'</li><li>'Left ventricle'</li><li>'Skeletal muscle'</li><li>'Skin (exposed)'</li><li>'Skin (not exposed)'</li><li>'Adipose (v)'</li><li>'Thyroid'</li><li>'Pituitary'</li><li>'Adipose (sc)'</li><li>'Breast'</li></ol>\n"
      ],
      "text/latex": [
       "\\begin{enumerate*}\n",
       "\\item 'Spinal cord'\n",
       "\\item 'Cortex'\n",
       "\\item 'Hippocampus'\n",
       "\\item 'Nucleus accumbens'\n",
       "\\item 'Small intestine'\n",
       "\\item 'Caudate'\n",
       "\\item 'Hypothalamus'\n",
       "\\item 'Stomach'\n",
       "\\item 'Sigmoid colon'\n",
       "\\item 'EBV-lymphocytes'\n",
       "\\item 'Transverse colon'\n",
       "\\item 'Adrenal gland'\n",
       "\\item 'Putamen'\n",
       "\\item 'Spleen'\n",
       "\\item 'Lung'\n",
       "\\item 'Coronary artery'\n",
       "\\item 'Esophagus (m)'\n",
       "\\item 'Pancreas'\n",
       "\\item 'Cerebellar hemisphere'\n",
       "\\item 'Cerebellum'\n",
       "\\item 'Esophagus (mu)'\n",
       "\\item 'Esophagus (gej)'\n",
       "\\item 'Tibial nerve'\n",
       "\\item 'Frontal cortex'\n",
       "\\item 'Aorta'\n",
       "\\item 'Atrial appendage'\n",
       "\\item 'Tibial artery'\n",
       "\\item 'Whole blood'\n",
       "\\item 'Liver'\n",
       "\\item 'Fibroblasts'\n",
       "\\item 'Left ventricle'\n",
       "\\item 'Skeletal muscle'\n",
       "\\item 'Skin (exposed)'\n",
       "\\item 'Skin (not exposed)'\n",
       "\\item 'Adipose (v)'\n",
       "\\item 'Thyroid'\n",
       "\\item 'Pituitary'\n",
       "\\item 'Adipose (sc)'\n",
       "\\item 'Breast'\n",
       "\\end{enumerate*}\n"
      ],
      "text/markdown": [
       "1. 'Spinal cord'\n",
       "2. 'Cortex'\n",
       "3. 'Hippocampus'\n",
       "4. 'Nucleus accumbens'\n",
       "5. 'Small intestine'\n",
       "6. 'Caudate'\n",
       "7. 'Hypothalamus'\n",
       "8. 'Stomach'\n",
       "9. 'Sigmoid colon'\n",
       "10. 'EBV-lymphocytes'\n",
       "11. 'Transverse colon'\n",
       "12. 'Adrenal gland'\n",
       "13. 'Putamen'\n",
       "14. 'Spleen'\n",
       "15. 'Lung'\n",
       "16. 'Coronary artery'\n",
       "17. 'Esophagus (m)'\n",
       "18. 'Pancreas'\n",
       "19. 'Cerebellar hemisphere'\n",
       "20. 'Cerebellum'\n",
       "21. 'Esophagus (mu)'\n",
       "22. 'Esophagus (gej)'\n",
       "23. 'Tibial nerve'\n",
       "24. 'Frontal cortex'\n",
       "25. 'Aorta'\n",
       "26. 'Atrial appendage'\n",
       "27. 'Tibial artery'\n",
       "28. 'Whole blood'\n",
       "29. 'Liver'\n",
       "30. 'Fibroblasts'\n",
       "31. 'Left ventricle'\n",
       "32. 'Skeletal muscle'\n",
       "33. 'Skin (exposed)'\n",
       "34. 'Skin (not exposed)'\n",
       "35. 'Adipose (v)'\n",
       "36. 'Thyroid'\n",
       "37. 'Pituitary'\n",
       "38. 'Adipose (sc)'\n",
       "39. 'Breast'\n",
       "\n",
       "\n"
      ],
      "text/plain": [
       " [1] \"Spinal cord\"           \"Cortex\"                \"Hippocampus\"          \n",
       " [4] \"Nucleus accumbens\"     \"Small intestine\"       \"Caudate\"              \n",
       " [7] \"Hypothalamus\"          \"Stomach\"               \"Sigmoid colon\"        \n",
       "[10] \"EBV-lymphocytes\"       \"Transverse colon\"      \"Adrenal gland\"        \n",
       "[13] \"Putamen\"               \"Spleen\"                \"Lung\"                 \n",
       "[16] \"Coronary artery\"       \"Esophagus (m)\"         \"Pancreas\"             \n",
       "[19] \"Cerebellar hemisphere\" \"Cerebellum\"            \"Esophagus (mu)\"       \n",
       "[22] \"Esophagus (gej)\"       \"Tibial nerve\"          \"Frontal cortex\"       \n",
       "[25] \"Aorta\"                 \"Atrial appendage\"      \"Tibial artery\"        \n",
       "[28] \"Whole blood\"           \"Liver\"                 \"Fibroblasts\"          \n",
       "[31] \"Left ventricle\"        \"Skeletal muscle\"       \"Skin (exposed)\"       \n",
       "[34] \"Skin (not exposed)\"    \"Adipose (v)\"           \"Thyroid\"              \n",
       "[37] \"Pituitary\"             \"Adipose (sc)\"          \"Breast\"               "
      ]
     },
     "metadata": {},
     "output_type": "display_data"
    }
   ],
   "source": [
    "totals <- read.table(\"../data/Total_DGE_by_tissue.tsv\", sep = \"\\t\", header = T)\n",
    "\n",
    "colnames(totals) <- c(\"Tissue\", \"Total\")\n",
    "totals_s <- totals %>% arrange(Total)\n",
    "totals_s$Tissue <- factor(totals_s$Tissue, levels = totals_s$Tissue)\n",
    "levels(totals_s$Tissue)"
   ]
  },
  {
   "cell_type": "markdown",
   "id": "f9d060c0",
   "metadata": {
    "papermill": {
     "duration": 0.008294,
     "end_time": "2021-06-27T19:25:20.975794",
     "exception": false,
     "start_time": "2021-06-27T19:25:20.967500",
     "status": "completed"
    },
    "tags": []
   },
   "source": [
    "## 3 create a function to be used by ggplot to create a reverse log10 scale for the x-axis"
   ]
  },
  {
   "cell_type": "code",
   "execution_count": 3,
   "id": "74ff86ce",
   "metadata": {
    "execution": {
     "iopub.execute_input": "2021-06-27T19:25:20.997304Z",
     "iopub.status.busy": "2021-06-27T19:25:20.995924Z",
     "iopub.status.idle": "2021-06-27T19:25:21.007441Z",
     "shell.execute_reply": "2021-06-27T19:25:21.006296Z"
    },
    "lines_to_next_cell": 2,
    "papermill": {
     "duration": 0.023552,
     "end_time": "2021-06-27T19:25:21.007567",
     "exception": false,
     "start_time": "2021-06-27T19:25:20.984015",
     "status": "completed"
    },
    "tags": []
   },
   "outputs": [],
   "source": [
    "reverselog_trans <- function(base = exp(1)) {\n",
    "  trans <- function(x) -log(x, base)\n",
    "  inv <- function(x) base^(-x)\n",
    "  trans_new(paste0(\"reverselog-\", format(base)), trans, inv, \n",
    "            log_breaks(base = base), \n",
    "            domain = c(1e-100, Inf))\n",
    "}"
   ]
  },
  {
   "cell_type": "code",
   "execution_count": 4,
   "id": "51aa79db",
   "metadata": {
    "execution": {
     "iopub.execute_input": "2021-06-27T19:25:21.029093Z",
     "iopub.status.busy": "2021-06-27T19:25:21.027670Z",
     "iopub.status.idle": "2021-06-27T19:25:21.444949Z",
     "shell.execute_reply": "2021-06-27T19:25:21.444164Z"
    },
    "papermill": {
     "duration": 0.42927,
     "end_time": "2021-06-27T19:25:21.445081",
     "exception": false,
     "start_time": "2021-06-27T19:25:21.015811",
     "status": "completed"
    },
    "tags": []
   },
   "outputs": [
    {
     "name": "stderr",
     "output_type": "stream",
     "text": [
      "Warning message:\n",
      "“`guides(<scale> = FALSE)` is deprecated. Please use `guides(<scale> = \"none\")` instead.”\n"
     ]
    },
    {
     "data": {
      "image/png": "[encoded data removed]",
      "text/plain": [
       "plot without title"
      ]
     },
     "metadata": {
      "image/png": {
       "height": 480,
       "width": 390
      }
     },
     "output_type": "display_data"
    }
   ],
   "source": [
    "options(repr.plot.width=6.5, repr.plot.height=8)\n",
    "\n",
    "g<-ggplot(totals_s, aes(y = Tissue, x = Total, size = Total)) +\n",
    "  geom_point(color = \"red\") +\n",
    "  theme_bw() +\n",
    "  scale_x_continuous(trans=reverselog_trans(), breaks=c(1,10,100,1000,5000,10000)) +#breaks=c(10000, 5000,1000,100,10,1)) +\n",
    "  scale_y_discrete(position = \"right\") +\n",
    "  theme(axis.text.x = element_text(size=8, angle = 0, hjust = 0.0, vjust = 0.5),\n",
    "        axis.text.y = element_text(size=8),\n",
    "        axis.title.x = element_text(face=\"plain\", colour=\"black\", \n",
    "                                    size=8),\n",
    "        axis.title.y = element_blank(),\n",
    "        legend.title=element_blank(),\n",
    "        legend.text = element_text(face=\"plain\", colour=\"black\", \n",
    "                                   size=8)) +\n",
    "  xlab(paste(\"Number of sex-biased gene expression events\")) +\n",
    "  ylab(\"Tissue\") + \n",
    "  guides(size=FALSE)\n",
    "\n",
    "g\n",
    "ggsave(\"../pdf/total_dge_by_tissue.pdf\",g, height = 4.5, width = 4)"
   ]
  },
  {
   "cell_type": "markdown",
   "id": "879b7727",
   "metadata": {
    "papermill": {
     "duration": 0.011053,
     "end_time": "2021-06-27T19:25:21.468678",
     "exception": false,
     "start_time": "2021-06-27T19:25:21.457625",
     "status": "completed"
    },
    "tags": []
   },
   "source": [
    "## Appendix - Metadata\n",
    "\n",
    "For replicability and reproducibility purposes, we also print the following metadata:\n",
    "\n",
    "### Appendix.1. Checksums with the sha256 algorithm\n",
    "1. Checksums of **'artefacts'**, files generated during the analysis and stored in the folder directory **`data`**\n",
    "2. List of environment metadata, dependencies, versions of libraries using `utils::sessionInfo()` and [`devtools::session_info()`](https://devtools.r-lib.org/reference/session_info.html)"
   ]
  },
  {
   "cell_type": "code",
   "execution_count": 5,
   "id": "b7e686c9",
   "metadata": {
    "execution": {
     "iopub.execute_input": "2021-06-27T19:25:21.500281Z",
     "iopub.status.busy": "2021-06-27T19:25:21.499149Z",
     "iopub.status.idle": "2021-06-27T19:25:21.510784Z",
     "shell.execute_reply": "2021-06-27T19:25:21.509684Z"
    },
    "papermill": {
     "duration": 0.031248,
     "end_time": "2021-06-27T19:25:21.510935",
     "exception": false,
     "start_time": "2021-06-27T19:25:21.479687",
     "status": "completed"
    },
    "tags": []
   },
   "outputs": [],
   "source": [
    "figure_id   = \"totalDGEByTissue\""
   ]
  },
  {
   "cell_type": "markdown",
   "id": "e646f110",
   "metadata": {
    "papermill": {
     "duration": 0.010907,
     "end_time": "2021-06-27T19:25:21.532909",
     "exception": false,
     "start_time": "2021-06-27T19:25:21.522002",
     "status": "completed"
    },
    "tags": []
   },
   "source": [
    "### Appendix.2. Library metadata"
   ]
  },
  {
   "cell_type": "code",
   "execution_count": 6,
   "id": "ebe34b56",
   "metadata": {
    "execution": {
     "iopub.execute_input": "2021-06-27T19:25:21.559906Z",
     "iopub.status.busy": "2021-06-27T19:25:21.558651Z",
     "iopub.status.idle": "2021-06-27T19:25:22.394247Z",
     "shell.execute_reply": "2021-06-27T19:25:22.392773Z"
    },
    "lines_to_next_cell": 0,
    "papermill": {
     "duration": 0.850644,
     "end_time": "2021-06-27T19:25:22.394403",
     "exception": false,
     "start_time": "2021-06-27T19:25:21.543759",
     "status": "completed"
    },
    "tags": []
   },
   "outputs": [
    {
     "name": "stderr",
     "output_type": "stream",
     "text": [
      "Saving `devtools::session_info()` objects in ../data/devtools_session_info.rds  ..\n",
      "\n"
     ]
    },
    {
     "name": "stderr",
     "output_type": "stream",
     "text": [
      "Done!\n",
      "\n",
      "\n"
     ]
    },
    {
     "name": "stderr",
     "output_type": "stream",
     "text": [
      "Saving `utils::sessionInfo()` objects in ../data/utils_session_info.rds  ..\n",
      "\n"
     ]
    },
    {
     "name": "stderr",
     "output_type": "stream",
     "text": [
      "Done!\n",
      "\n",
      "\n"
     ]
    },
    {
     "data": {
      "text/plain": [
       " setting  value                       \n",
       " version  R version 4.1.0 (2021-05-18)\n",
       " os       Ubuntu 18.04.4 LTS          \n",
       " system   x86_64, linux-gnu           \n",
       " ui       X11                         \n",
       " language en_US.UTF-8                 \n",
       " collate  en_US.UTF-8                 \n",
       " ctype    en_US.UTF-8                 \n",
       " tz       Etc/UTC                     \n",
       " date     2021-06-27                  "
      ]
     },
     "metadata": {},
     "output_type": "display_data"
    },
    {
     "data": {
      "text/html": [
       "<table class=\"dataframe\">\n",
       "<caption>A packages_info: 7 × 11</caption>\n",
       "<thead>\n",
       "\t<tr><th></th><th scope=col>package</th><th scope=col>ondiskversion</th><th scope=col>loadedversion</th><th scope=col>path</th><th scope=col>loadedpath</th><th scope=col>attached</th><th scope=col>is_base</th><th scope=col>date</th><th scope=col>source</th><th scope=col>md5ok</th><th scope=col>library</th></tr>\n",
       "\t<tr><th></th><th scope=col>&lt;chr&gt;</th><th scope=col>&lt;chr&gt;</th><th scope=col>&lt;chr&gt;</th><th scope=col>&lt;chr&gt;</th><th scope=col>&lt;chr&gt;</th><th scope=col>&lt;lgl&gt;</th><th scope=col>&lt;lgl&gt;</th><th scope=col>&lt;chr&gt;</th><th scope=col>&lt;chr&gt;</th><th scope=col>&lt;lgl&gt;</th><th scope=col>&lt;fct&gt;</th></tr>\n",
       "</thead>\n",
       "<tbody>\n",
       "\t<tr><th scope=row>dplyr</th><td>dplyr      </td><td>1.0.7</td><td>1.0.7</td><td>/opt/conda/envs/sbas/lib/R/library/dplyr      </td><td>/opt/conda/envs/sbas/lib/R/library/dplyr      </td><td>TRUE</td><td>FALSE</td><td>2021-06-18</td><td>CRAN (R 4.1.0)</td><td>NA</td><td>/opt/conda/envs/sbas/lib/R/library</td></tr>\n",
       "\t<tr><th scope=row>ggplot2</th><td>ggplot2    </td><td>3.3.5</td><td>3.3.5</td><td>/opt/conda/envs/sbas/lib/R/library/ggplot2    </td><td>/opt/conda/envs/sbas/lib/R/library/ggplot2    </td><td>TRUE</td><td>FALSE</td><td>2021-06-25</td><td>CRAN (R 4.1.0)</td><td>NA</td><td>/opt/conda/envs/sbas/lib/R/library</td></tr>\n",
       "\t<tr><th scope=row>magrittr</th><td>magrittr   </td><td>2.0.1</td><td>2.0.1</td><td>/opt/conda/envs/sbas/lib/R/library/magrittr   </td><td>/opt/conda/envs/sbas/lib/R/library/magrittr   </td><td>TRUE</td><td>FALSE</td><td>2020-11-17</td><td>CRAN (R 4.1.0)</td><td>NA</td><td>/opt/conda/envs/sbas/lib/R/library</td></tr>\n",
       "\t<tr><th scope=row>scales</th><td>scales     </td><td>1.1.1</td><td>1.1.1</td><td>/opt/conda/envs/sbas/lib/R/library/scales     </td><td>/opt/conda/envs/sbas/lib/R/library/scales     </td><td>TRUE</td><td>FALSE</td><td>2020-05-11</td><td>CRAN (R 4.1.0)</td><td>NA</td><td>/opt/conda/envs/sbas/lib/R/library</td></tr>\n",
       "\t<tr><th scope=row>stringr</th><td>stringr    </td><td>1.4.0</td><td>1.4.0</td><td>/opt/conda/envs/sbas/lib/R/library/stringr    </td><td>/opt/conda/envs/sbas/lib/R/library/stringr    </td><td>TRUE</td><td>FALSE</td><td>2019-02-10</td><td>CRAN (R 4.1.0)</td><td>NA</td><td>/opt/conda/envs/sbas/lib/R/library</td></tr>\n",
       "\t<tr><th scope=row>viridis</th><td>viridis    </td><td>0.6.1</td><td>0.6.1</td><td>/opt/conda/envs/sbas/lib/R/library/viridis    </td><td>/opt/conda/envs/sbas/lib/R/library/viridis    </td><td>TRUE</td><td>FALSE</td><td>2021-05-11</td><td>CRAN (R 4.1.0)</td><td>NA</td><td>/opt/conda/envs/sbas/lib/R/library</td></tr>\n",
       "\t<tr><th scope=row>viridisLite</th><td>viridisLite</td><td>0.4.0</td><td>0.4.0</td><td>/opt/conda/envs/sbas/lib/R/library/viridisLite</td><td>/opt/conda/envs/sbas/lib/R/library/viridisLite</td><td>TRUE</td><td>FALSE</td><td>2021-04-13</td><td>CRAN (R 4.1.0)</td><td>NA</td><td>/opt/conda/envs/sbas/lib/R/library</td></tr>\n",
       "</tbody>\n",
       "</table>\n"
      ],
      "text/latex": [
       "A packages\\_info: 7 × 11\n",
       "\\begin{tabular}{r|lllllllllll}\n",
       "  & package & ondiskversion & loadedversion & path & loadedpath & attached & is\\_base & date & source & md5ok & library\\\\\n",
       "  & <chr> & <chr> & <chr> & <chr> & <chr> & <lgl> & <lgl> & <chr> & <chr> & <lgl> & <fct>\\\\\n",
       "\\hline\n",
       "\tdplyr & dplyr       & 1.0.7 & 1.0.7 & /opt/conda/envs/sbas/lib/R/library/dplyr       & /opt/conda/envs/sbas/lib/R/library/dplyr       & TRUE & FALSE & 2021-06-18 & CRAN (R 4.1.0) & NA & /opt/conda/envs/sbas/lib/R/library\\\\\n",
       "\tggplot2 & ggplot2     & 3.3.5 & 3.3.5 & /opt/conda/envs/sbas/lib/R/library/ggplot2     & /opt/conda/envs/sbas/lib/R/library/ggplot2     & TRUE & FALSE & 2021-06-25 & CRAN (R 4.1.0) & NA & /opt/conda/envs/sbas/lib/R/library\\\\\n",
       "\tmagrittr & magrittr    & 2.0.1 & 2.0.1 & /opt/conda/envs/sbas/lib/R/library/magrittr    & /opt/conda/envs/sbas/lib/R/library/magrittr    & TRUE & FALSE & 2020-11-17 & CRAN (R 4.1.0) & NA & /opt/conda/envs/sbas/lib/R/library\\\\\n",
       "\tscales & scales      & 1.1.1 & 1.1.1 & /opt/conda/envs/sbas/lib/R/library/scales      & /opt/conda/envs/sbas/lib/R/library/scales      & TRUE & FALSE & 2020-05-11 & CRAN (R 4.1.0) & NA & /opt/conda/envs/sbas/lib/R/library\\\\\n",
       "\tstringr & stringr     & 1.4.0 & 1.4.0 & /opt/conda/envs/sbas/lib/R/library/stringr     & /opt/conda/envs/sbas/lib/R/library/stringr     & TRUE & FALSE & 2019-02-10 & CRAN (R 4.1.0) & NA & /opt/conda/envs/sbas/lib/R/library\\\\\n",
       "\tviridis & viridis     & 0.6.1 & 0.6.1 & /opt/conda/envs/sbas/lib/R/library/viridis     & /opt/conda/envs/sbas/lib/R/library/viridis     & TRUE & FALSE & 2021-05-11 & CRAN (R 4.1.0) & NA & /opt/conda/envs/sbas/lib/R/library\\\\\n",
       "\tviridisLite & viridisLite & 0.4.0 & 0.4.0 & /opt/conda/envs/sbas/lib/R/library/viridisLite & /opt/conda/envs/sbas/lib/R/library/viridisLite & TRUE & FALSE & 2021-04-13 & CRAN (R 4.1.0) & NA & /opt/conda/envs/sbas/lib/R/library\\\\\n",
       "\\end{tabular}\n"
      ],
      "text/markdown": [
       "\n",
       "A packages_info: 7 × 11\n",
       "\n",
       "| <!--/--> | package &lt;chr&gt; | ondiskversion &lt;chr&gt; | loadedversion &lt;chr&gt; | path &lt;chr&gt; | loadedpath &lt;chr&gt; | attached &lt;lgl&gt; | is_base &lt;lgl&gt; | date &lt;chr&gt; | source &lt;chr&gt; | md5ok &lt;lgl&gt; | library &lt;fct&gt; |\n",
       "|---|---|---|---|---|---|---|---|---|---|---|---|\n",
       "| dplyr | dplyr       | 1.0.7 | 1.0.7 | /opt/conda/envs/sbas/lib/R/library/dplyr       | /opt/conda/envs/sbas/lib/R/library/dplyr       | TRUE | FALSE | 2021-06-18 | CRAN (R 4.1.0) | NA | /opt/conda/envs/sbas/lib/R/library |\n",
       "| ggplot2 | ggplot2     | 3.3.5 | 3.3.5 | /opt/conda/envs/sbas/lib/R/library/ggplot2     | /opt/conda/envs/sbas/lib/R/library/ggplot2     | TRUE | FALSE | 2021-06-25 | CRAN (R 4.1.0) | NA | /opt/conda/envs/sbas/lib/R/library |\n",
       "| magrittr | magrittr    | 2.0.1 | 2.0.1 | /opt/conda/envs/sbas/lib/R/library/magrittr    | /opt/conda/envs/sbas/lib/R/library/magrittr    | TRUE | FALSE | 2020-11-17 | CRAN (R 4.1.0) | NA | /opt/conda/envs/sbas/lib/R/library |\n",
       "| scales | scales      | 1.1.1 | 1.1.1 | /opt/conda/envs/sbas/lib/R/library/scales      | /opt/conda/envs/sbas/lib/R/library/scales      | TRUE | FALSE | 2020-05-11 | CRAN (R 4.1.0) | NA | /opt/conda/envs/sbas/lib/R/library |\n",
       "| stringr | stringr     | 1.4.0 | 1.4.0 | /opt/conda/envs/sbas/lib/R/library/stringr     | /opt/conda/envs/sbas/lib/R/library/stringr     | TRUE | FALSE | 2019-02-10 | CRAN (R 4.1.0) | NA | /opt/conda/envs/sbas/lib/R/library |\n",
       "| viridis | viridis     | 0.6.1 | 0.6.1 | /opt/conda/envs/sbas/lib/R/library/viridis     | /opt/conda/envs/sbas/lib/R/library/viridis     | TRUE | FALSE | 2021-05-11 | CRAN (R 4.1.0) | NA | /opt/conda/envs/sbas/lib/R/library |\n",
       "| viridisLite | viridisLite | 0.4.0 | 0.4.0 | /opt/conda/envs/sbas/lib/R/library/viridisLite | /opt/conda/envs/sbas/lib/R/library/viridisLite | TRUE | FALSE | 2021-04-13 | CRAN (R 4.1.0) | NA | /opt/conda/envs/sbas/lib/R/library |\n",
       "\n"
      ],
      "text/plain": [
       "            package     ondiskversion loadedversion\n",
       "dplyr       dplyr       1.0.7         1.0.7        \n",
       "ggplot2     ggplot2     3.3.5         3.3.5        \n",
       "magrittr    magrittr    2.0.1         2.0.1        \n",
       "scales      scales      1.1.1         1.1.1        \n",
       "stringr     stringr     1.4.0         1.4.0        \n",
       "viridis     viridis     0.6.1         0.6.1        \n",
       "viridisLite viridisLite 0.4.0         0.4.0        \n",
       "            path                                          \n",
       "dplyr       /opt/conda/envs/sbas/lib/R/library/dplyr      \n",
       "ggplot2     /opt/conda/envs/sbas/lib/R/library/ggplot2    \n",
       "magrittr    /opt/conda/envs/sbas/lib/R/library/magrittr   \n",
       "scales      /opt/conda/envs/sbas/lib/R/library/scales     \n",
       "stringr     /opt/conda/envs/sbas/lib/R/library/stringr    \n",
       "viridis     /opt/conda/envs/sbas/lib/R/library/viridis    \n",
       "viridisLite /opt/conda/envs/sbas/lib/R/library/viridisLite\n",
       "            loadedpath                                     attached is_base\n",
       "dplyr       /opt/conda/envs/sbas/lib/R/library/dplyr       TRUE     FALSE  \n",
       "ggplot2     /opt/conda/envs/sbas/lib/R/library/ggplot2     TRUE     FALSE  \n",
       "magrittr    /opt/conda/envs/sbas/lib/R/library/magrittr    TRUE     FALSE  \n",
       "scales      /opt/conda/envs/sbas/lib/R/library/scales      TRUE     FALSE  \n",
       "stringr     /opt/conda/envs/sbas/lib/R/library/stringr     TRUE     FALSE  \n",
       "viridis     /opt/conda/envs/sbas/lib/R/library/viridis     TRUE     FALSE  \n",
       "viridisLite /opt/conda/envs/sbas/lib/R/library/viridisLite TRUE     FALSE  \n",
       "            date       source         md5ok library                           \n",
       "dplyr       2021-06-18 CRAN (R 4.1.0) NA    /opt/conda/envs/sbas/lib/R/library\n",
       "ggplot2     2021-06-25 CRAN (R 4.1.0) NA    /opt/conda/envs/sbas/lib/R/library\n",
       "magrittr    2020-11-17 CRAN (R 4.1.0) NA    /opt/conda/envs/sbas/lib/R/library\n",
       "scales      2020-05-11 CRAN (R 4.1.0) NA    /opt/conda/envs/sbas/lib/R/library\n",
       "stringr     2019-02-10 CRAN (R 4.1.0) NA    /opt/conda/envs/sbas/lib/R/library\n",
       "viridis     2021-05-11 CRAN (R 4.1.0) NA    /opt/conda/envs/sbas/lib/R/library\n",
       "viridisLite 2021-04-13 CRAN (R 4.1.0) NA    /opt/conda/envs/sbas/lib/R/library"
      ]
     },
     "metadata": {},
     "output_type": "display_data"
    }
   ],
   "source": [
    "dev_session_info   <- devtools::session_info()\n",
    "utils_session_info <- utils::sessionInfo()\n",
    "\n",
    "message(\"Saving `devtools::session_info()` objects in ../data/devtools_session_info.rds  ..\")\n",
    "saveRDS(dev_session_info, file = paste0(\"../data/\", figure_id, \"_devtools_session_info.rds\"))\n",
    "message(\"Done!\\n\")\n",
    "\n",
    "message(\"Saving `utils::sessionInfo()` objects in ../data/utils_session_info.rds  ..\")\n",
    "saveRDS(utils_session_info, file = paste0(\"../data/\", figure_id ,\"_utils_info.rds\"))\n",
    "message(\"Done!\\n\")\n",
    "\n",
    "dev_session_info$platform\n",
    "dev_session_info$packages[dev_session_info$packages$attached==TRUE, ]"
   ]
  },
  {
   "cell_type": "code",
   "execution_count": 7,
   "id": "4ba89e06",
   "metadata": {
    "execution": {
     "iopub.execute_input": "2021-06-27T19:25:22.427642Z",
     "iopub.status.busy": "2021-06-27T19:25:22.425945Z",
     "iopub.status.idle": "2021-06-27T19:25:22.445695Z",
     "shell.execute_reply": "2021-06-27T19:25:22.444301Z"
    },
    "lines_to_next_cell": 2,
    "papermill": {
     "duration": 0.037217,
     "end_time": "2021-06-27T19:25:22.445819",
     "exception": false,
     "start_time": "2021-06-27T19:25:22.408602",
     "status": "completed"
    },
    "tags": []
   },
   "outputs": [
    {
     "data": {
      "text/plain": [
       "Time difference of 2.061377 secs"
      ]
     },
     "metadata": {},
     "output_type": "display_data"
    }
   ],
   "source": [
    "end_time <- Sys.time()\n",
    "end_time - start_time"
   ]
  }
 ],
 "metadata": {
  "jupytext": {
   "encoding": "# -*- coding: utf-8 -*-"
  },
  "kernelspec": {
   "display_name": "R",
   "language": "R",
   "name": "ir"
  },
  "language_info": {
   "codemirror_mode": "r",
   "file_extension": ".r",
   "mimetype": "text/x-r-source",
   "name": "R",
   "pygments_lexer": "r",
   "version": "4.1.0"
  },
  "papermill": {
   "duration": 3.411796,
   "end_time": "2021-06-27T19:25:22.569480",
   "environment_variables": {},
   "exception": null,
   "input_path": "totalDGEByTissue.ipynb",
   "output_path": "totalDGEByTissue.ipynb",
   "parameters": {},
   "start_time": "2021-06-27T19:25:19.157684",
   "version": "2.1.2"
  }
 },
 "nbformat": 4,
 "nbformat_minor": 5
}