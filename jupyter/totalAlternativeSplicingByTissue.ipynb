{
 "cells": [
  {
   "cell_type": "markdown",
   "metadata": {
    "papermill": {
     "duration": 0.007564,
     "end_time": "2021-05-21T02:48:12.640392",
     "exception": false,
     "start_time": "2021-05-21T02:48:12.632828",
     "status": "completed"
    },
    "tags": []
   },
   "source": [
    "# Counts of significant alternative splicing events by tissue\n",
    "\n",
    "This notebook generates a single figure showing the number of alternative splicing events by tissue."
   ]
  },
  {
   "cell_type": "markdown",
   "metadata": {
    "papermill": {
     "duration": 0.006356,
     "end_time": "2021-05-21T02:48:12.653888",
     "exception": false,
     "start_time": "2021-05-21T02:48:12.647532",
     "status": "completed"
    },
    "tags": []
   },
   "source": [
    "## **Running this notebook**:\n",
    "\n",
    "See the README for setting up prerequisites for the notebook."
   ]
  },
  {
   "cell_type": "markdown",
   "metadata": {
    "papermill": {
     "duration": 0.006203,
     "end_time": "2021-05-21T02:48:12.666353",
     "exception": false,
     "start_time": "2021-05-21T02:48:12.660150",
     "status": "completed"
    },
    "tags": []
   },
   "source": [
    "## 1. Setup \n",
    "\n",
    "Assumes the `countGenesAndEvents.ipynb` notebook was run -- unpacking the results from the differential Gene Expression Analysis as run in the `differentialGeneExpressionAnalysis.ipynb` notebook."
   ]
  },
  {
   "cell_type": "code",
   "execution_count": 1,
   "metadata": {
    "execution": {
     "iopub.execute_input": "2021-05-21T02:48:12.758585Z",
     "iopub.status.busy": "2021-05-21T02:48:12.755746Z",
     "iopub.status.idle": "2021-05-21T02:48:13.240495Z",
     "shell.execute_reply": "2021-05-21T02:48:13.239603Z"
    },
    "papermill": {
     "duration": 0.568163,
     "end_time": "2021-05-21T02:48:13.240760",
     "exception": false,
     "start_time": "2021-05-21T02:48:12.672597",
     "status": "completed"
    },
    "tags": []
   },
   "outputs": [],
   "source": [
    "suppressMessages({\n",
    "    options(warn = -1) \n",
    "    library(stringr)\n",
    "    library(magrittr)\n",
    "    library(dplyr)\n",
    "    library(ggplot2)\n",
    "    library(scales)\n",
    "    library(viridis)\n",
    "    Sys.setenv(TAR = \"/bin/tar\") # for gzfile\n",
    "})"
   ]
  },
  {
   "cell_type": "markdown",
   "metadata": {
    "papermill": {
     "duration": 0.006584,
     "end_time": "2021-05-21T02:48:13.254025",
     "exception": false,
     "start_time": "2021-05-21T02:48:13.247441",
     "status": "completed"
    },
    "tags": []
   },
   "source": [
    "## 2 read in the total alternatives splicing by tissue file."
   ]
  },
  {
   "cell_type": "code",
   "execution_count": 2,
   "metadata": {
    "execution": {
     "iopub.execute_input": "2021-05-21T02:48:13.305727Z",
     "iopub.status.busy": "2021-05-21T02:48:13.270627Z",
     "iopub.status.idle": "2021-05-21T02:48:13.343042Z",
     "shell.execute_reply": "2021-05-21T02:48:13.341810Z"
    },
    "papermill": {
     "duration": 0.082782,
     "end_time": "2021-05-21T02:48:13.343175",
     "exception": false,
     "start_time": "2021-05-21T02:48:13.260393",
     "status": "completed"
    },
    "tags": []
   },
   "outputs": [
    {
     "data": {
      "text/html": [
       "<style>\n",
       ".list-inline {list-style: none; margin:0; padding: 0}\n",
       ".list-inline>li {display: inline-block}\n",
       ".list-inline>li:not(:last-child)::after {content: \"\\00b7\"; padding: 0 .5ex}\n",
       "</style>\n",
       "<ol class=list-inline><li>'Adipose (sc)'</li><li>'Esophagus (gej)'</li><li>'Esophagus (m)'</li><li>'Small intestine'</li><li>'Tibial nerve'</li><li>'Fibroblasts'</li><li>'Hippocampus'</li><li>'Nucleus accumbens'</li><li>'Skeletal muscle'</li><li>'Aorta'</li><li>'EBV-lymphocytes'</li><li>'Hypothalamus'</li><li>'Pancreas'</li><li>'Thyroid'</li><li>'Transverse colon'</li><li>'Liver'</li><li>'Putamen'</li><li>'Spleen'</li><li>'Pituitary'</li><li>'Stomach'</li><li>'Adipose (v)'</li><li>'Cerebellar hemisphere'</li><li>'Esophagus (mu)'</li><li>'Skin (exposed)'</li><li>'Cerebellum'</li><li>'Cortex'</li><li>'Sigmoid colon'</li><li>'Breast'</li></ol>\n"
      ],
      "text/latex": [
       "\\begin{enumerate*}\n",
       "\\item 'Adipose (sc)'\n",
       "\\item 'Esophagus (gej)'\n",
       "\\item 'Esophagus (m)'\n",
       "\\item 'Small intestine'\n",
       "\\item 'Tibial nerve'\n",
       "\\item 'Fibroblasts'\n",
       "\\item 'Hippocampus'\n",
       "\\item 'Nucleus accumbens'\n",
       "\\item 'Skeletal muscle'\n",
       "\\item 'Aorta'\n",
       "\\item 'EBV-lymphocytes'\n",
       "\\item 'Hypothalamus'\n",
       "\\item 'Pancreas'\n",
       "\\item 'Thyroid'\n",
       "\\item 'Transverse colon'\n",
       "\\item 'Liver'\n",
       "\\item 'Putamen'\n",
       "\\item 'Spleen'\n",
       "\\item 'Pituitary'\n",
       "\\item 'Stomach'\n",
       "\\item 'Adipose (v)'\n",
       "\\item 'Cerebellar hemisphere'\n",
       "\\item 'Esophagus (mu)'\n",
       "\\item 'Skin (exposed)'\n",
       "\\item 'Cerebellum'\n",
       "\\item 'Cortex'\n",
       "\\item 'Sigmoid colon'\n",
       "\\item 'Breast'\n",
       "\\end{enumerate*}\n"
      ],
      "text/markdown": [
       "1. 'Adipose (sc)'\n",
       "2. 'Esophagus (gej)'\n",
       "3. 'Esophagus (m)'\n",
       "4. 'Small intestine'\n",
       "5. 'Tibial nerve'\n",
       "6. 'Fibroblasts'\n",
       "7. 'Hippocampus'\n",
       "8. 'Nucleus accumbens'\n",
       "9. 'Skeletal muscle'\n",
       "10. 'Aorta'\n",
       "11. 'EBV-lymphocytes'\n",
       "12. 'Hypothalamus'\n",
       "13. 'Pancreas'\n",
       "14. 'Thyroid'\n",
       "15. 'Transverse colon'\n",
       "16. 'Liver'\n",
       "17. 'Putamen'\n",
       "18. 'Spleen'\n",
       "19. 'Pituitary'\n",
       "20. 'Stomach'\n",
       "21. 'Adipose (v)'\n",
       "22. 'Cerebellar hemisphere'\n",
       "23. 'Esophagus (mu)'\n",
       "24. 'Skin (exposed)'\n",
       "25. 'Cerebellum'\n",
       "26. 'Cortex'\n",
       "27. 'Sigmoid colon'\n",
       "28. 'Breast'\n",
       "\n",
       "\n"
      ],
      "text/plain": [
       " [1] \"Adipose (sc)\"          \"Esophagus (gej)\"       \"Esophagus (m)\"        \n",
       " [4] \"Small intestine\"       \"Tibial nerve\"          \"Fibroblasts\"          \n",
       " [7] \"Hippocampus\"           \"Nucleus accumbens\"     \"Skeletal muscle\"      \n",
       "[10] \"Aorta\"                 \"EBV-lymphocytes\"       \"Hypothalamus\"         \n",
       "[13] \"Pancreas\"              \"Thyroid\"               \"Transverse colon\"     \n",
       "[16] \"Liver\"                 \"Putamen\"               \"Spleen\"               \n",
       "[19] \"Pituitary\"             \"Stomach\"               \"Adipose (v)\"          \n",
       "[22] \"Cerebellar hemisphere\" \"Esophagus (mu)\"        \"Skin (exposed)\"       \n",
       "[25] \"Cerebellum\"            \"Cortex\"                \"Sigmoid colon\"        \n",
       "[28] \"Breast\"               "
      ]
     },
     "metadata": {},
     "output_type": "display_data"
    }
   ],
   "source": [
    "totals <- read.table(\"../data/Total_AS_by_tissue.tsv\", sep = \"\\t\", header = T)\n",
    "\n",
    "colnames(totals) <- c(\"Tissue\", \"Total\")\n",
    "totals_s <- totals %>% arrange(Total)\n",
    "totals_s$Tissue <- factor(totals_s$Tissue, levels = totals_s$Tissue)\n",
    "levels(totals_s$Tissue)"
   ]
  },
  {
   "cell_type": "markdown",
   "metadata": {
    "papermill": {
     "duration": 0.006808,
     "end_time": "2021-05-21T02:48:13.357278",
     "exception": false,
     "start_time": "2021-05-21T02:48:13.350470",
     "status": "completed"
    },
    "tags": []
   },
   "source": [
    "## 3 create a function to be used by ggplot to create a reverse log10 scale for the x-axis"
   ]
  },
  {
   "cell_type": "code",
   "execution_count": 3,
   "metadata": {
    "execution": {
     "iopub.execute_input": "2021-05-21T02:48:13.376329Z",
     "iopub.status.busy": "2021-05-21T02:48:13.375074Z",
     "iopub.status.idle": "2021-05-21T02:48:13.386996Z",
     "shell.execute_reply": "2021-05-21T02:48:13.385695Z"
    },
    "lines_to_next_cell": 2,
    "papermill": {
     "duration": 0.022932,
     "end_time": "2021-05-21T02:48:13.387123",
     "exception": false,
     "start_time": "2021-05-21T02:48:13.364191",
     "status": "completed"
    },
    "tags": []
   },
   "outputs": [],
   "source": [
    "reverselog_trans <- function(base = exp(1)) {\n",
    "  trans <- function(x) -log(x, base)\n",
    "  inv <- function(x) base^(-x)\n",
    "  trans_new(paste0(\"reverselog-\", format(base)), trans, inv, \n",
    "            log_breaks(base = base), \n",
    "            domain = c(1e-100, Inf))\n",
    "}"
   ]
  },
  {
   "cell_type": "code",
   "execution_count": 4,
   "metadata": {
    "execution": {
     "iopub.execute_input": "2021-05-21T02:48:13.405182Z",
     "iopub.status.busy": "2021-05-21T02:48:13.403917Z",
     "iopub.status.idle": "2021-05-21T02:48:13.779870Z",
     "shell.execute_reply": "2021-05-21T02:48:13.779303Z"
    },
    "papermill": {
     "duration": 0.386099,
     "end_time": "2021-05-21T02:48:13.780001",
     "exception": false,
     "start_time": "2021-05-21T02:48:13.393902",
     "status": "completed"
    },
    "tags": []
   },
   "outputs": [
    {
     "data": {
      "image/png": "[encoded data removed]",
      "text/plain": [
       "plot without title"
      ]
     },
     "metadata": {
      "image/png": {
       "height": 420,
       "width": 420
      }
     },
     "output_type": "display_data"
    }
   ],
   "source": [
    "g<-ggplot(totals_s, aes(y = Tissue, x = Total, size = Total)) +\n",
    "  geom_point(color = \"red\") +\n",
    "  theme_bw() +\n",
    "  scale_x_continuous(trans=reverselog_trans(), breaks=c(1,10,100,1000,5000,10000)) +#breaks=c(10000, 5000,1000,100,10,1)) +\n",
    "  scale_y_discrete(position = \"right\") +\n",
    "  theme(axis.text.x = element_text(size=8, angle = 0, hjust = 0.0, vjust = 0.5),\n",
    "        axis.text.y = element_text(size=8),\n",
    "        axis.title.x = element_text(face=\"plain\", colour=\"black\", \n",
    "                                    size=10),\n",
    "        axis.title.y = element_blank(),\n",
    "        legend.title=element_blank(),\n",
    "        legend.text = element_text(face=\"plain\", colour=\"black\", \n",
    "                                   size=8)) +\n",
    "  xlab(paste(\"Number of sex-biased splicing events\")) +\n",
    "  ylab(\"Tissue\") + \n",
    "  guides(size=FALSE)\n",
    "\n",
    "g\n",
    "ggsave(\"../pdf/total_as_by_tissue.pdf\",g, height = 4.5, width = 4)"
   ]
  },
  {
   "cell_type": "markdown",
   "metadata": {
    "papermill": {
     "duration": 0.008294,
     "end_time": "2021-05-21T02:48:13.797022",
     "exception": false,
     "start_time": "2021-05-21T02:48:13.788728",
     "status": "completed"
    },
    "tags": []
   },
   "source": [
    "## Appendix - Metadata\n",
    "\n",
    "For replicability and reproducibility purposes, we also print the following metadata:\n",
    "\n",
    "### Appendix.1. Checksums with the sha256 algorithm\n",
    "1. Checksums of **'artefacts'**, files generated during the analysis and stored in the folder directory **`data`**\n",
    "2. List of environment metadata, dependencies, versions of libraries using `utils::sessionInfo()` and [`devtools::session_info()`](https://devtools.r-lib.org/reference/session_info.html)"
   ]
  },
  {
   "cell_type": "code",
   "execution_count": 5,
   "metadata": {
    "execution": {
     "iopub.execute_input": "2021-05-21T02:48:13.818724Z",
     "iopub.status.busy": "2021-05-21T02:48:13.817416Z",
     "iopub.status.idle": "2021-05-21T02:48:13.833689Z",
     "shell.execute_reply": "2021-05-21T02:48:13.832697Z"
    },
    "papermill": {
     "duration": 0.028577,
     "end_time": "2021-05-21T02:48:13.833865",
     "exception": false,
     "start_time": "2021-05-21T02:48:13.805288",
     "status": "completed"
    },
    "tags": []
   },
   "outputs": [],
   "source": [
    "figure_id   = \"totalAlternativeSplicingByTissue\""
   ]
  },
  {
   "cell_type": "markdown",
   "metadata": {
    "papermill": {
     "duration": 0.00848,
     "end_time": "2021-05-21T02:48:13.851123",
     "exception": false,
     "start_time": "2021-05-21T02:48:13.842643",
     "status": "completed"
    },
    "tags": []
   },
   "source": [
    "### Appendix.2. Library metadata"
   ]
  },
  {
   "cell_type": "code",
   "execution_count": 6,
   "metadata": {
    "execution": {
     "iopub.execute_input": "2021-05-21T02:48:13.872988Z",
     "iopub.status.busy": "2021-05-21T02:48:13.871744Z",
     "iopub.status.idle": "2021-05-21T02:48:14.673930Z",
     "shell.execute_reply": "2021-05-21T02:48:14.672598Z"
    },
    "papermill": {
     "duration": 0.814369,
     "end_time": "2021-05-21T02:48:14.674063",
     "exception": false,
     "start_time": "2021-05-21T02:48:13.859694",
     "status": "completed"
    },
    "tags": []
   },
   "outputs": [
    {
     "name": "stderr",
     "output_type": "stream",
     "text": [
      "Saving `devtools::session_info()` objects in ../data/devtools_session_info.rds  ..\n",
      "\n",
      "Done!\n",
      "\n",
      "\n",
      "Saving `utils::sessionInfo()` objects in ../data/utils_session_info.rds  ..\n",
      "\n",
      "Done!\n",
      "\n",
      "\n"
     ]
    },
    {
     "data": {
      "text/plain": [
       " setting  value                       \n",
       " version  R version 4.0.5 (2021-03-31)\n",
       " os       Ubuntu 18.04.4 LTS          \n",
       " system   x86_64, linux-gnu           \n",
       " ui       X11                         \n",
       " language en_US.UTF-8                 \n",
       " collate  en_US.UTF-8                 \n",
       " ctype    en_US.UTF-8                 \n",
       " tz       Etc/UTC                     \n",
       " date     2021-05-21                  "
      ]
     },
     "metadata": {},
     "output_type": "display_data"
    },
    {
     "data": {
      "text/html": [
       "<table class=\"dataframe\">\n",
       "<caption>A packages_info: 7 × 11</caption>\n",
       "<thead>\n",
       "\t<tr><th></th><th scope=col>package</th><th scope=col>ondiskversion</th><th scope=col>loadedversion</th><th scope=col>path</th><th scope=col>loadedpath</th><th scope=col>attached</th><th scope=col>is_base</th><th scope=col>date</th><th scope=col>source</th><th scope=col>md5ok</th><th scope=col>library</th></tr>\n",
       "\t<tr><th></th><th scope=col>&lt;chr&gt;</th><th scope=col>&lt;chr&gt;</th><th scope=col>&lt;chr&gt;</th><th scope=col>&lt;chr&gt;</th><th scope=col>&lt;chr&gt;</th><th scope=col>&lt;lgl&gt;</th><th scope=col>&lt;lgl&gt;</th><th scope=col>&lt;chr&gt;</th><th scope=col>&lt;chr&gt;</th><th scope=col>&lt;lgl&gt;</th><th scope=col>&lt;fct&gt;</th></tr>\n",
       "</thead>\n",
       "<tbody>\n",
       "\t<tr><th scope=row>dplyr</th><td>dplyr      </td><td>1.0.6</td><td>1.0.6</td><td>/opt/conda/envs/sbas/lib/R/library/dplyr      </td><td>/opt/conda/envs/sbas/lib/R/library/dplyr      </td><td>TRUE</td><td>FALSE</td><td>2021-05-05</td><td>CRAN (R 4.0.3)</td><td>NA</td><td>/opt/conda/envs/sbas/lib/R/library</td></tr>\n",
       "\t<tr><th scope=row>ggplot2</th><td>ggplot2    </td><td>3.3.3</td><td>3.3.3</td><td>/opt/conda/envs/sbas/lib/R/library/ggplot2    </td><td>/opt/conda/envs/sbas/lib/R/library/ggplot2    </td><td>TRUE</td><td>FALSE</td><td>2020-12-30</td><td>CRAN (R 4.0.3)</td><td>NA</td><td>/opt/conda/envs/sbas/lib/R/library</td></tr>\n",
       "\t<tr><th scope=row>magrittr</th><td>magrittr   </td><td>2.0.1</td><td>2.0.1</td><td>/opt/conda/envs/sbas/lib/R/library/magrittr   </td><td>/opt/conda/envs/sbas/lib/R/library/magrittr   </td><td>TRUE</td><td>FALSE</td><td>2020-11-17</td><td>CRAN (R 4.0.3)</td><td>NA</td><td>/opt/conda/envs/sbas/lib/R/library</td></tr>\n",
       "\t<tr><th scope=row>scales</th><td>scales     </td><td>1.1.1</td><td>1.1.1</td><td>/opt/conda/envs/sbas/lib/R/library/scales     </td><td>/opt/conda/envs/sbas/lib/R/library/scales     </td><td>TRUE</td><td>FALSE</td><td>2020-05-11</td><td>CRAN (R 4.0.0)</td><td>NA</td><td>/opt/conda/envs/sbas/lib/R/library</td></tr>\n",
       "\t<tr><th scope=row>stringr</th><td>stringr    </td><td>1.4.0</td><td>1.4.0</td><td>/opt/conda/envs/sbas/lib/R/library/stringr    </td><td>/opt/conda/envs/sbas/lib/R/library/stringr    </td><td>TRUE</td><td>FALSE</td><td>2019-02-10</td><td>CRAN (R 4.0.0)</td><td>NA</td><td>/opt/conda/envs/sbas/lib/R/library</td></tr>\n",
       "\t<tr><th scope=row>viridis</th><td>viridis    </td><td>0.6.1</td><td>0.6.1</td><td>/opt/conda/envs/sbas/lib/R/library/viridis    </td><td>/opt/conda/envs/sbas/lib/R/library/viridis    </td><td>TRUE</td><td>FALSE</td><td>2021-05-11</td><td>CRAN (R 4.0.3)</td><td>NA</td><td>/opt/conda/envs/sbas/lib/R/library</td></tr>\n",
       "\t<tr><th scope=row>viridisLite</th><td>viridisLite</td><td>0.4.0</td><td>0.4.0</td><td>/opt/conda/envs/sbas/lib/R/library/viridisLite</td><td>/opt/conda/envs/sbas/lib/R/library/viridisLite</td><td>TRUE</td><td>FALSE</td><td>2021-04-13</td><td>CRAN (R 4.0.3)</td><td>NA</td><td>/opt/conda/envs/sbas/lib/R/library</td></tr>\n",
       "</tbody>\n",
       "</table>\n"
      ],
      "text/latex": [
       "A packages\\_info: 7 × 11\n",
       "\\begin{tabular}{r|lllllllllll}\n",
       "  & package & ondiskversion & loadedversion & path & loadedpath & attached & is\\_base & date & source & md5ok & library\\\\\n",
       "  & <chr> & <chr> & <chr> & <chr> & <chr> & <lgl> & <lgl> & <chr> & <chr> & <lgl> & <fct>\\\\\n",
       "\\hline\n",
       "\tdplyr & dplyr       & 1.0.6 & 1.0.6 & /opt/conda/envs/sbas/lib/R/library/dplyr       & /opt/conda/envs/sbas/lib/R/library/dplyr       & TRUE & FALSE & 2021-05-05 & CRAN (R 4.0.3) & NA & /opt/conda/envs/sbas/lib/R/library\\\\\n",
       "\tggplot2 & ggplot2     & 3.3.3 & 3.3.3 & /opt/conda/envs/sbas/lib/R/library/ggplot2     & /opt/conda/envs/sbas/lib/R/library/ggplot2     & TRUE & FALSE & 2020-12-30 & CRAN (R 4.0.3) & NA & /opt/conda/envs/sbas/lib/R/library\\\\\n",
       "\tmagrittr & magrittr    & 2.0.1 & 2.0.1 & /opt/conda/envs/sbas/lib/R/library/magrittr    & /opt/conda/envs/sbas/lib/R/library/magrittr    & TRUE & FALSE & 2020-11-17 & CRAN (R 4.0.3) & NA & /opt/conda/envs/sbas/lib/R/library\\\\\n",
       "\tscales & scales      & 1.1.1 & 1.1.1 & /opt/conda/envs/sbas/lib/R/library/scales      & /opt/conda/envs/sbas/lib/R/library/scales      & TRUE & FALSE & 2020-05-11 & CRAN (R 4.0.0) & NA & /opt/conda/envs/sbas/lib/R/library\\\\\n",
       "\tstringr & stringr     & 1.4.0 & 1.4.0 & /opt/conda/envs/sbas/lib/R/library/stringr     & /opt/conda/envs/sbas/lib/R/library/stringr     & TRUE & FALSE & 2019-02-10 & CRAN (R 4.0.0) & NA & /opt/conda/envs/sbas/lib/R/library\\\\\n",
       "\tviridis & viridis     & 0.6.1 & 0.6.1 & /opt/conda/envs/sbas/lib/R/library/viridis     & /opt/conda/envs/sbas/lib/R/library/viridis     & TRUE & FALSE & 2021-05-11 & CRAN (R 4.0.3) & NA & /opt/conda/envs/sbas/lib/R/library\\\\\n",
       "\tviridisLite & viridisLite & 0.4.0 & 0.4.0 & /opt/conda/envs/sbas/lib/R/library/viridisLite & /opt/conda/envs/sbas/lib/R/library/viridisLite & TRUE & FALSE & 2021-04-13 & CRAN (R 4.0.3) & NA & /opt/conda/envs/sbas/lib/R/library\\\\\n",
       "\\end{tabular}\n"
      ],
      "text/markdown": [
       "\n",
       "A packages_info: 7 × 11\n",
       "\n",
       "| <!--/--> | package &lt;chr&gt; | ondiskversion &lt;chr&gt; | loadedversion &lt;chr&gt; | path &lt;chr&gt; | loadedpath &lt;chr&gt; | attached &lt;lgl&gt; | is_base &lt;lgl&gt; | date &lt;chr&gt; | source &lt;chr&gt; | md5ok &lt;lgl&gt; | library &lt;fct&gt; |\n",
       "|---|---|---|---|---|---|---|---|---|---|---|---|\n",
       "| dplyr | dplyr       | 1.0.6 | 1.0.6 | /opt/conda/envs/sbas/lib/R/library/dplyr       | /opt/conda/envs/sbas/lib/R/library/dplyr       | TRUE | FALSE | 2021-05-05 | CRAN (R 4.0.3) | NA | /opt/conda/envs/sbas/lib/R/library |\n",
       "| ggplot2 | ggplot2     | 3.3.3 | 3.3.3 | /opt/conda/envs/sbas/lib/R/library/ggplot2     | /opt/conda/envs/sbas/lib/R/library/ggplot2     | TRUE | FALSE | 2020-12-30 | CRAN (R 4.0.3) | NA | /opt/conda/envs/sbas/lib/R/library |\n",
       "| magrittr | magrittr    | 2.0.1 | 2.0.1 | /opt/conda/envs/sbas/lib/R/library/magrittr    | /opt/conda/envs/sbas/lib/R/library/magrittr    | TRUE | FALSE | 2020-11-17 | CRAN (R 4.0.3) | NA | /opt/conda/envs/sbas/lib/R/library |\n",
       "| scales | scales      | 1.1.1 | 1.1.1 | /opt/conda/envs/sbas/lib/R/library/scales      | /opt/conda/envs/sbas/lib/R/library/scales      | TRUE | FALSE | 2020-05-11 | CRAN (R 4.0.0) | NA | /opt/conda/envs/sbas/lib/R/library |\n",
       "| stringr | stringr     | 1.4.0 | 1.4.0 | /opt/conda/envs/sbas/lib/R/library/stringr     | /opt/conda/envs/sbas/lib/R/library/stringr     | TRUE | FALSE | 2019-02-10 | CRAN (R 4.0.0) | NA | /opt/conda/envs/sbas/lib/R/library |\n",
       "| viridis | viridis     | 0.6.1 | 0.6.1 | /opt/conda/envs/sbas/lib/R/library/viridis     | /opt/conda/envs/sbas/lib/R/library/viridis     | TRUE | FALSE | 2021-05-11 | CRAN (R 4.0.3) | NA | /opt/conda/envs/sbas/lib/R/library |\n",
       "| viridisLite | viridisLite | 0.4.0 | 0.4.0 | /opt/conda/envs/sbas/lib/R/library/viridisLite | /opt/conda/envs/sbas/lib/R/library/viridisLite | TRUE | FALSE | 2021-04-13 | CRAN (R 4.0.3) | NA | /opt/conda/envs/sbas/lib/R/library |\n",
       "\n"
      ],
      "text/plain": [
       "            package     ondiskversion loadedversion\n",
       "dplyr       dplyr       1.0.6         1.0.6        \n",
       "ggplot2     ggplot2     3.3.3         3.3.3        \n",
       "magrittr    magrittr    2.0.1         2.0.1        \n",
       "scales      scales      1.1.1         1.1.1        \n",
       "stringr     stringr     1.4.0         1.4.0        \n",
       "viridis     viridis     0.6.1         0.6.1        \n",
       "viridisLite viridisLite 0.4.0         0.4.0        \n",
       "            path                                          \n",
       "dplyr       /opt/conda/envs/sbas/lib/R/library/dplyr      \n",
       "ggplot2     /opt/conda/envs/sbas/lib/R/library/ggplot2    \n",
       "magrittr    /opt/conda/envs/sbas/lib/R/library/magrittr   \n",
       "scales      /opt/conda/envs/sbas/lib/R/library/scales     \n",
       "stringr     /opt/conda/envs/sbas/lib/R/library/stringr    \n",
       "viridis     /opt/conda/envs/sbas/lib/R/library/viridis    \n",
       "viridisLite /opt/conda/envs/sbas/lib/R/library/viridisLite\n",
       "            loadedpath                                     attached is_base\n",
       "dplyr       /opt/conda/envs/sbas/lib/R/library/dplyr       TRUE     FALSE  \n",
       "ggplot2     /opt/conda/envs/sbas/lib/R/library/ggplot2     TRUE     FALSE  \n",
       "magrittr    /opt/conda/envs/sbas/lib/R/library/magrittr    TRUE     FALSE  \n",
       "scales      /opt/conda/envs/sbas/lib/R/library/scales      TRUE     FALSE  \n",
       "stringr     /opt/conda/envs/sbas/lib/R/library/stringr     TRUE     FALSE  \n",
       "viridis     /opt/conda/envs/sbas/lib/R/library/viridis     TRUE     FALSE  \n",
       "viridisLite /opt/conda/envs/sbas/lib/R/library/viridisLite TRUE     FALSE  \n",
       "            date       source         md5ok library                           \n",
       "dplyr       2021-05-05 CRAN (R 4.0.3) NA    /opt/conda/envs/sbas/lib/R/library\n",
       "ggplot2     2020-12-30 CRAN (R 4.0.3) NA    /opt/conda/envs/sbas/lib/R/library\n",
       "magrittr    2020-11-17 CRAN (R 4.0.3) NA    /opt/conda/envs/sbas/lib/R/library\n",
       "scales      2020-05-11 CRAN (R 4.0.0) NA    /opt/conda/envs/sbas/lib/R/library\n",
       "stringr     2019-02-10 CRAN (R 4.0.0) NA    /opt/conda/envs/sbas/lib/R/library\n",
       "viridis     2021-05-11 CRAN (R 4.0.3) NA    /opt/conda/envs/sbas/lib/R/library\n",
       "viridisLite 2021-04-13 CRAN (R 4.0.3) NA    /opt/conda/envs/sbas/lib/R/library"
      ]
     },
     "metadata": {},
     "output_type": "display_data"
    }
   ],
   "source": [
    "dev_session_info   <- devtools::session_info()\n",
    "utils_session_info <- utils::sessionInfo()\n",
    "\n",
    "message(\"Saving `devtools::session_info()` objects in ../data/devtools_session_info.rds  ..\")\n",
    "saveRDS(dev_session_info, file = paste0(\"../data/\", figure_id, \"_devtools_session_info.rds\"))\n",
    "message(\"Done!\\n\")\n",
    "\n",
    "message(\"Saving `utils::sessionInfo()` objects in ../data/utils_session_info.rds  ..\")\n",
    "saveRDS(utils_session_info, file = paste0(\"../data/\", figure_id ,\"_utils_info.rds\"))\n",
    "message(\"Done!\\n\")\n",
    "\n",
    "dev_session_info$platform\n",
    "dev_session_info$packages[dev_session_info$packages$attached==TRUE, ]"
   ]
  }
 ],
 "metadata": {
  "jupytext": {
   "encoding": "# -*- coding: utf-8 -*-"
  },
  "kernelspec": {
   "display_name": "R",
   "language": "R",
   "name": "ir"
  },
  "language_info": {
   "codemirror_mode": "r",
   "file_extension": ".r",
   "mimetype": "text/x-r-source",
   "name": "R",
   "pygments_lexer": "r",
   "version": "3.6.1"
  },
  "papermill": {
   "duration": 3.016089,
   "end_time": "2021-05-21T02:48:14.794060",
   "environment_variables": {},
   "exception": null,
   "input_path": "totalAlternativeSplicingByTissue.ipynb",
   "output_path": "totalAlternativeSplicingByTissue.ipynb",
   "parameters": {},
   "start_time": "2021-05-21T02:48:11.777971",
   "version": "2.1.2"
  }
 },
 "nbformat": 4,
 "nbformat_minor": 5
}
