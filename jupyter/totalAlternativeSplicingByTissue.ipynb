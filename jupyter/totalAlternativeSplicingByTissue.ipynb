{
 "cells": [
  {
   "cell_type": "markdown",
   "metadata": {
    "papermill": {
     "duration": 0.009687,
     "end_time": "2020-11-04T02:26:04.380764",
     "exception": false,
     "start_time": "2020-11-04T02:26:04.371077",
     "status": "completed"
    },
    "tags": []
   },
   "source": [
    "# Counts of significant alternative splicing events by tissue\n",
    "\n",
    "This notebook generates a single figure showing the number of alternative splicing events by tissue."
   ]
  },
  {
   "cell_type": "markdown",
   "metadata": {
    "papermill": {
     "duration": 0.008857,
     "end_time": "2020-11-04T02:26:04.398846",
     "exception": false,
     "start_time": "2020-11-04T02:26:04.389989",
     "status": "completed"
    },
    "tags": []
   },
   "source": [
    "## **Running this notebook**:\n",
    "\n",
    "See the README for setting up prerequisites for the notebook."
   ]
  },
  {
   "cell_type": "markdown",
   "metadata": {
    "papermill": {
     "duration": 0.008717,
     "end_time": "2020-11-04T02:26:04.416372",
     "exception": false,
     "start_time": "2020-11-04T02:26:04.407655",
     "status": "completed"
    },
    "tags": []
   },
   "source": [
    "## 1. Setup \n",
    "\n",
    "Assumes the `countGenesAndEvents.ipynb` notebook was run -- unpacking the results from the differential Gene Expression Analysis as run in the `differentialGeneExpressionAnalysis.ipynb` notebook."
   ]
  },
  {
   "cell_type": "code",
   "execution_count": 1,
   "metadata": {
    "execution": {
     "iopub.execute_input": "2020-11-04T02:26:04.473445Z",
     "iopub.status.busy": "2020-11-04T02:26:04.470350Z",
     "iopub.status.idle": "2020-11-04T02:26:05.082107Z",
     "shell.execute_reply": "2020-11-04T02:26:05.081057Z"
    },
    "papermill": {
     "duration": 0.657135,
     "end_time": "2020-11-04T02:26:05.082330",
     "exception": false,
     "start_time": "2020-11-04T02:26:04.425195",
     "status": "completed"
    },
    "tags": []
   },
   "outputs": [],
   "source": [
    "suppressMessages({\n",
    "    options(warn = -1) \n",
    "    library(stringr)\n",
    "    library(magrittr)\n",
    "    library(dplyr)\n",
    "    library(ggplot2)\n",
    "    library(scales)\n",
    "    library(viridis)\n",
    "    Sys.setenv(TAR = \"/bin/tar\") # for gzfile\n",
    "})"
   ]
  },
  {
   "cell_type": "markdown",
   "metadata": {
    "papermill": {
     "duration": 0.009055,
     "end_time": "2020-11-04T02:26:05.101144",
     "exception": false,
     "start_time": "2020-11-04T02:26:05.092089",
     "status": "completed"
    },
    "tags": []
   },
   "source": [
    "## 2 read in the total alternatives splicing by tissue file."
   ]
  },
  {
   "cell_type": "code",
   "execution_count": 2,
   "metadata": {
    "execution": {
     "iopub.execute_input": "2020-11-04T02:26:05.155057Z",
     "iopub.status.busy": "2020-11-04T02:26:05.123074Z",
     "iopub.status.idle": "2020-11-04T02:26:05.204416Z",
     "shell.execute_reply": "2020-11-04T02:26:05.203098Z"
    },
    "papermill": {
     "duration": 0.094417,
     "end_time": "2020-11-04T02:26:05.204584",
     "exception": false,
     "start_time": "2020-11-04T02:26:05.110167",
     "status": "completed"
    },
    "tags": []
   },
   "outputs": [
    {
     "data": {
      "text/html": [
       "<style>\n",
       ".list-inline {list-style: none; margin:0; padding: 0}\n",
       ".list-inline>li {display: inline-block}\n",
       ".list-inline>li:not(:last-child)::after {content: \"\\00b7\"; padding: 0 .5ex}\n",
       "</style>\n",
       "<ol class=list-inline><li>'Pancreas'</li><li>'Small intestine'</li><li>'Adrenal gland'</li><li>'Caudate'</li><li>'Cerebellar hemisphere'</li><li>'Coronary artery'</li><li>'Cortex'</li><li>'EBV-lymphocytes'</li><li>'Frontal cortex'</li><li>'Putamen'</li><li>'Skin (not exposed)'</li><li>'Stomach'</li><li>'Whole blood'</li><li>'Adipose (sc)'</li><li>'Adipose (v)'</li><li>'Esophagus (m)'</li><li>'Fibroblasts'</li><li>'Hypothalamus'</li><li>'Lung'</li><li>'Nucleus accumbens'</li><li>'Spinal cord'</li><li>'Tibial nerve'</li><li>'Transverse colon'</li><li>'Sigmoid colon'</li><li>'Atrial appendage'</li><li>'Liver'</li><li>'Esophagus (gej)'</li><li>'Skin (exposed)'</li><li>'Tibial artery'</li><li>'Aorta'</li><li>'Pituitary'</li><li>'Thyroid'</li><li>'Hippocampus'</li><li>'Skeletal muscle'</li><li>'Cerebellum'</li><li>'Spleen'</li><li>'Esophagus (mu)'</li><li>'Breast'</li></ol>\n"
      ],
      "text/latex": [
       "\\begin{enumerate*}\n",
       "\\item 'Pancreas'\n",
       "\\item 'Small intestine'\n",
       "\\item 'Adrenal gland'\n",
       "\\item 'Caudate'\n",
       "\\item 'Cerebellar hemisphere'\n",
       "\\item 'Coronary artery'\n",
       "\\item 'Cortex'\n",
       "\\item 'EBV-lymphocytes'\n",
       "\\item 'Frontal cortex'\n",
       "\\item 'Putamen'\n",
       "\\item 'Skin (not exposed)'\n",
       "\\item 'Stomach'\n",
       "\\item 'Whole blood'\n",
       "\\item 'Adipose (sc)'\n",
       "\\item 'Adipose (v)'\n",
       "\\item 'Esophagus (m)'\n",
       "\\item 'Fibroblasts'\n",
       "\\item 'Hypothalamus'\n",
       "\\item 'Lung'\n",
       "\\item 'Nucleus accumbens'\n",
       "\\item 'Spinal cord'\n",
       "\\item 'Tibial nerve'\n",
       "\\item 'Transverse colon'\n",
       "\\item 'Sigmoid colon'\n",
       "\\item 'Atrial appendage'\n",
       "\\item 'Liver'\n",
       "\\item 'Esophagus (gej)'\n",
       "\\item 'Skin (exposed)'\n",
       "\\item 'Tibial artery'\n",
       "\\item 'Aorta'\n",
       "\\item 'Pituitary'\n",
       "\\item 'Thyroid'\n",
       "\\item 'Hippocampus'\n",
       "\\item 'Skeletal muscle'\n",
       "\\item 'Cerebellum'\n",
       "\\item 'Spleen'\n",
       "\\item 'Esophagus (mu)'\n",
       "\\item 'Breast'\n",
       "\\end{enumerate*}\n"
      ],
      "text/markdown": [
       "1. 'Pancreas'\n",
       "2. 'Small intestine'\n",
       "3. 'Adrenal gland'\n",
       "4. 'Caudate'\n",
       "5. 'Cerebellar hemisphere'\n",
       "6. 'Coronary artery'\n",
       "7. 'Cortex'\n",
       "8. 'EBV-lymphocytes'\n",
       "9. 'Frontal cortex'\n",
       "10. 'Putamen'\n",
       "11. 'Skin (not exposed)'\n",
       "12. 'Stomach'\n",
       "13. 'Whole blood'\n",
       "14. 'Adipose (sc)'\n",
       "15. 'Adipose (v)'\n",
       "16. 'Esophagus (m)'\n",
       "17. 'Fibroblasts'\n",
       "18. 'Hypothalamus'\n",
       "19. 'Lung'\n",
       "20. 'Nucleus accumbens'\n",
       "21. 'Spinal cord'\n",
       "22. 'Tibial nerve'\n",
       "23. 'Transverse colon'\n",
       "24. 'Sigmoid colon'\n",
       "25. 'Atrial appendage'\n",
       "26. 'Liver'\n",
       "27. 'Esophagus (gej)'\n",
       "28. 'Skin (exposed)'\n",
       "29. 'Tibial artery'\n",
       "30. 'Aorta'\n",
       "31. 'Pituitary'\n",
       "32. 'Thyroid'\n",
       "33. 'Hippocampus'\n",
       "34. 'Skeletal muscle'\n",
       "35. 'Cerebellum'\n",
       "36. 'Spleen'\n",
       "37. 'Esophagus (mu)'\n",
       "38. 'Breast'\n",
       "\n",
       "\n"
      ],
      "text/plain": [
       " [1] \"Pancreas\"              \"Small intestine\"       \"Adrenal gland\"        \n",
       " [4] \"Caudate\"               \"Cerebellar hemisphere\" \"Coronary artery\"      \n",
       " [7] \"Cortex\"                \"EBV-lymphocytes\"       \"Frontal cortex\"       \n",
       "[10] \"Putamen\"               \"Skin (not exposed)\"    \"Stomach\"              \n",
       "[13] \"Whole blood\"           \"Adipose (sc)\"          \"Adipose (v)\"          \n",
       "[16] \"Esophagus (m)\"         \"Fibroblasts\"           \"Hypothalamus\"         \n",
       "[19] \"Lung\"                  \"Nucleus accumbens\"     \"Spinal cord\"          \n",
       "[22] \"Tibial nerve\"          \"Transverse colon\"      \"Sigmoid colon\"        \n",
       "[25] \"Atrial appendage\"      \"Liver\"                 \"Esophagus (gej)\"      \n",
       "[28] \"Skin (exposed)\"        \"Tibial artery\"         \"Aorta\"                \n",
       "[31] \"Pituitary\"             \"Thyroid\"               \"Hippocampus\"          \n",
       "[34] \"Skeletal muscle\"       \"Cerebellum\"            \"Spleen\"               \n",
       "[37] \"Esophagus (mu)\"        \"Breast\"               "
      ]
     },
     "metadata": {},
     "output_type": "display_data"
    }
   ],
   "source": [
    "totals <- read.table(\"../data/Total_AS_by_tissue.tsv\", sep = \"\\t\", header = T)\n",
    "\n",
    "colnames(totals) <- c(\"Tissue\", \"Total\")\n",
    "totals_s <- totals %>% arrange(Total)\n",
    "totals_s$Tissue <- factor(totals_s$Tissue, levels = totals_s$Tissue)\n",
    "levels(totals_s$Tissue)"
   ]
  },
  {
   "cell_type": "markdown",
   "metadata": {
    "papermill": {
     "duration": 0.010335,
     "end_time": "2020-11-04T02:26:05.225836",
     "exception": false,
     "start_time": "2020-11-04T02:26:05.215501",
     "status": "completed"
    },
    "tags": []
   },
   "source": [
    "## 3 create a function to be used by ggplot to create a reverse log10 scale for the x-axis"
   ]
  },
  {
   "cell_type": "code",
   "execution_count": 3,
   "metadata": {
    "execution": {
     "iopub.execute_input": "2020-11-04T02:26:05.251358Z",
     "iopub.status.busy": "2020-11-04T02:26:05.250069Z",
     "iopub.status.idle": "2020-11-04T02:26:05.263156Z",
     "shell.execute_reply": "2020-11-04T02:26:05.261914Z"
    },
    "lines_to_next_cell": 2,
    "papermill": {
     "duration": 0.027316,
     "end_time": "2020-11-04T02:26:05.263338",
     "exception": false,
     "start_time": "2020-11-04T02:26:05.236022",
     "status": "completed"
    },
    "tags": []
   },
   "outputs": [],
   "source": [
    "reverselog_trans <- function(base = exp(1)) {\n",
    "  trans <- function(x) -log(x, base)\n",
    "  inv <- function(x) base^(-x)\n",
    "  trans_new(paste0(\"reverselog-\", format(base)), trans, inv, \n",
    "            log_breaks(base = base), \n",
    "            domain = c(1e-100, Inf))\n",
    "}"
   ]
  },
  {
   "cell_type": "code",
   "execution_count": 4,
   "metadata": {
    "execution": {
     "iopub.execute_input": "2020-11-04T02:26:05.289520Z",
     "iopub.status.busy": "2020-11-04T02:26:05.288019Z",
     "iopub.status.idle": "2020-11-04T02:26:05.729180Z",
     "shell.execute_reply": "2020-11-04T02:26:05.728752Z"
    },
    "papermill": {
     "duration": 0.455797,
     "end_time": "2020-11-04T02:26:05.729552",
     "exception": false,
     "start_time": "2020-11-04T02:26:05.273755",
     "status": "completed"
    },
    "tags": []
   },
   "outputs": [
    {
     "data": {
      "image/png": "[encoded data removed]",
      "text/plain": [
       "plot without title"
      ]
     },
     "metadata": {
      "image/png": {
       "height": 420,
       "width": 420
      }
     },
     "output_type": "display_data"
    }
   ],
   "source": [
    "g<-ggplot(totals_s, aes(y = Tissue, x = Total, size = Total)) +\n",
    "  geom_point(color = \"red\") +\n",
    "  theme_bw() +\n",
    "  scale_x_continuous(trans=reverselog_trans(), breaks=c(1,10,100,1000,5000,10000)) +#breaks=c(10000, 5000,1000,100,10,1)) +\n",
    "  scale_y_discrete(position = \"right\") +\n",
    "  theme(axis.text.x = element_text(size=8, angle = 0, hjust = 0.0, vjust = 0.5),\n",
    "        axis.text.y = element_text(size=8),\n",
    "        axis.title.x = element_text(face=\"plain\", colour=\"black\", \n",
    "                                    size=10),\n",
    "        axis.title.y = element_blank(),\n",
    "        legend.title=element_blank(),\n",
    "        legend.text = element_text(face=\"plain\", colour=\"black\", \n",
    "                                   size=8)) +\n",
    "  xlab(paste(\"Number of sex-biased splicing events\")) +\n",
    "  ylab(\"Tissue\") + \n",
    "  guides(size=FALSE)\n",
    "\n",
    "g\n",
    "ggsave(\"../pdf/total_as_by_tissue.pdf\",g, height = 4.5, width = 4)"
   ]
  },
  {
   "cell_type": "markdown",
   "metadata": {
    "papermill": {
     "duration": 0.012951,
     "end_time": "2020-11-04T02:26:05.755905",
     "exception": false,
     "start_time": "2020-11-04T02:26:05.742954",
     "status": "completed"
    },
    "tags": []
   },
   "source": [
    "## Appendix - Metadata\n",
    "\n",
    "For replicability and reproducibility purposes, we also print the following metadata:\n",
    "\n",
    "### Appendix.1. Checksums with the sha256 algorithm\n",
    "1. Checksums of **'artefacts'**, files generated during the analysis and stored in the folder directory **`data`**\n",
    "2. List of environment metadata, dependencies, versions of libraries using `utils::sessionInfo()` and [`devtools::session_info()`](https://devtools.r-lib.org/reference/session_info.html)"
   ]
  },
  {
   "cell_type": "code",
   "execution_count": 5,
   "metadata": {
    "execution": {
     "iopub.execute_input": "2020-11-04T02:26:05.787159Z",
     "iopub.status.busy": "2020-11-04T02:26:05.785830Z",
     "iopub.status.idle": "2020-11-04T02:26:05.798830Z",
     "shell.execute_reply": "2020-11-04T02:26:05.797594Z"
    },
    "papermill": {
     "duration": 0.03008,
     "end_time": "2020-11-04T02:26:05.798993",
     "exception": false,
     "start_time": "2020-11-04T02:26:05.768913",
     "status": "completed"
    },
    "tags": []
   },
   "outputs": [],
   "source": [
    "figure_id   = \"totalAlternativeSplicingByTissue\""
   ]
  },
  {
   "cell_type": "markdown",
   "metadata": {
    "papermill": {
     "duration": 0.013202,
     "end_time": "2020-11-04T02:26:05.825440",
     "exception": false,
     "start_time": "2020-11-04T02:26:05.812238",
     "status": "completed"
    },
    "tags": []
   },
   "source": [
    "### Appendix.2. Library metadata"
   ]
  },
  {
   "cell_type": "code",
   "execution_count": 6,
   "metadata": {
    "execution": {
     "iopub.execute_input": "2020-11-04T02:26:05.857421Z",
     "iopub.status.busy": "2020-11-04T02:26:05.855992Z",
     "iopub.status.idle": "2020-11-04T02:26:06.758312Z",
     "shell.execute_reply": "2020-11-04T02:26:06.756820Z"
    },
    "papermill": {
     "duration": 0.919766,
     "end_time": "2020-11-04T02:26:06.758483",
     "exception": false,
     "start_time": "2020-11-04T02:26:05.838717",
     "status": "completed"
    },
    "tags": []
   },
   "outputs": [
    {
     "name": "stderr",
     "output_type": "stream",
     "text": [
      "Saving `devtools::session_info()` objects in ../data/devtools_session_info.rds  ..\n",
      "\n"
     ]
    },
    {
     "name": "stderr",
     "output_type": "stream",
     "text": [
      "Done!\n",
      "\n",
      "\n"
     ]
    },
    {
     "name": "stderr",
     "output_type": "stream",
     "text": [
      "Saving `utils::sessionInfo()` objects in ../data/utils_session_info.rds  ..\n",
      "\n"
     ]
    },
    {
     "name": "stderr",
     "output_type": "stream",
     "text": [
      "Done!\n",
      "\n",
      "\n"
     ]
    },
    {
     "data": {
      "text/plain": [
       " setting  value                       \n",
       " version  R version 4.0.3 (2020-10-10)\n",
       " os       Ubuntu 18.04.4 LTS          \n",
       " system   x86_64, linux-gnu           \n",
       " ui       X11                         \n",
       " language en_US.UTF-8                 \n",
       " collate  en_US.UTF-8                 \n",
       " ctype    en_US.UTF-8                 \n",
       " tz       Etc/UTC                     \n",
       " date     2020-11-04                  "
      ]
     },
     "metadata": {},
     "output_type": "display_data"
    },
    {
     "data": {
      "text/html": [
       "<table>\n",
       "<caption>A packages_info: 7 × 11</caption>\n",
       "<thead>\n",
       "\t<tr><th></th><th scope=col>package</th><th scope=col>ondiskversion</th><th scope=col>loadedversion</th><th scope=col>path</th><th scope=col>loadedpath</th><th scope=col>attached</th><th scope=col>is_base</th><th scope=col>date</th><th scope=col>source</th><th scope=col>md5ok</th><th scope=col>library</th></tr>\n",
       "\t<tr><th></th><th scope=col>&lt;chr&gt;</th><th scope=col>&lt;chr&gt;</th><th scope=col>&lt;chr&gt;</th><th scope=col>&lt;chr&gt;</th><th scope=col>&lt;chr&gt;</th><th scope=col>&lt;lgl&gt;</th><th scope=col>&lt;lgl&gt;</th><th scope=col>&lt;chr&gt;</th><th scope=col>&lt;chr&gt;</th><th scope=col>&lt;lgl&gt;</th><th scope=col>&lt;fct&gt;</th></tr>\n",
       "</thead>\n",
       "<tbody>\n",
       "\t<tr><th scope=row>dplyr</th><td>dplyr      </td><td>1.0.2</td><td>1.0.2</td><td>/opt/conda/lib/R/library/dplyr      </td><td>/opt/conda/lib/R/library/dplyr      </td><td>TRUE</td><td>FALSE</td><td>2020-08-18</td><td>CRAN (R 4.0.2)</td><td>NA</td><td>/opt/conda/lib/R/library</td></tr>\n",
       "\t<tr><th scope=row>ggplot2</th><td>ggplot2    </td><td>3.3.2</td><td>3.3.2</td><td>/opt/conda/lib/R/library/ggplot2    </td><td>/opt/conda/lib/R/library/ggplot2    </td><td>TRUE</td><td>FALSE</td><td>2020-06-19</td><td>CRAN (R 4.0.1)</td><td>NA</td><td>/opt/conda/lib/R/library</td></tr>\n",
       "\t<tr><th scope=row>magrittr</th><td>magrittr   </td><td>1.5  </td><td>1.5  </td><td>/opt/conda/lib/R/library/magrittr   </td><td>/opt/conda/lib/R/library/magrittr   </td><td>TRUE</td><td>FALSE</td><td>2014-11-22</td><td>CRAN (R 4.0.0)</td><td>NA</td><td>/opt/conda/lib/R/library</td></tr>\n",
       "\t<tr><th scope=row>scales</th><td>scales     </td><td>1.1.1</td><td>1.1.1</td><td>/opt/conda/lib/R/library/scales     </td><td>/opt/conda/lib/R/library/scales     </td><td>TRUE</td><td>FALSE</td><td>2020-05-11</td><td>CRAN (R 4.0.0)</td><td>NA</td><td>/opt/conda/lib/R/library</td></tr>\n",
       "\t<tr><th scope=row>stringr</th><td>stringr    </td><td>1.4.0</td><td>1.4.0</td><td>/opt/conda/lib/R/library/stringr    </td><td>/opt/conda/lib/R/library/stringr    </td><td>TRUE</td><td>FALSE</td><td>2019-02-10</td><td>CRAN (R 4.0.0)</td><td>NA</td><td>/opt/conda/lib/R/library</td></tr>\n",
       "\t<tr><th scope=row>viridis</th><td>viridis    </td><td>0.5.1</td><td>0.5.1</td><td>/opt/conda/lib/R/library/viridis    </td><td>/opt/conda/lib/R/library/viridis    </td><td>TRUE</td><td>FALSE</td><td>2018-03-29</td><td>CRAN (R 4.0.0)</td><td>NA</td><td>/opt/conda/lib/R/library</td></tr>\n",
       "\t<tr><th scope=row>viridisLite</th><td>viridisLite</td><td>0.3.0</td><td>0.3.0</td><td>/opt/conda/lib/R/library/viridisLite</td><td>/opt/conda/lib/R/library/viridisLite</td><td>TRUE</td><td>FALSE</td><td>2018-02-01</td><td>CRAN (R 4.0.0)</td><td>NA</td><td>/opt/conda/lib/R/library</td></tr>\n",
       "</tbody>\n",
       "</table>\n"
      ],
      "text/latex": [
       "A packages\\_info: 7 × 11\n",
       "\\begin{tabular}{r|lllllllllll}\n",
       "  & package & ondiskversion & loadedversion & path & loadedpath & attached & is\\_base & date & source & md5ok & library\\\\\n",
       "  & <chr> & <chr> & <chr> & <chr> & <chr> & <lgl> & <lgl> & <chr> & <chr> & <lgl> & <fct>\\\\\n",
       "\\hline\n",
       "\tdplyr & dplyr       & 1.0.2 & 1.0.2 & /opt/conda/lib/R/library/dplyr       & /opt/conda/lib/R/library/dplyr       & TRUE & FALSE & 2020-08-18 & CRAN (R 4.0.2) & NA & /opt/conda/lib/R/library\\\\\n",
       "\tggplot2 & ggplot2     & 3.3.2 & 3.3.2 & /opt/conda/lib/R/library/ggplot2     & /opt/conda/lib/R/library/ggplot2     & TRUE & FALSE & 2020-06-19 & CRAN (R 4.0.1) & NA & /opt/conda/lib/R/library\\\\\n",
       "\tmagrittr & magrittr    & 1.5   & 1.5   & /opt/conda/lib/R/library/magrittr    & /opt/conda/lib/R/library/magrittr    & TRUE & FALSE & 2014-11-22 & CRAN (R 4.0.0) & NA & /opt/conda/lib/R/library\\\\\n",
       "\tscales & scales      & 1.1.1 & 1.1.1 & /opt/conda/lib/R/library/scales      & /opt/conda/lib/R/library/scales      & TRUE & FALSE & 2020-05-11 & CRAN (R 4.0.0) & NA & /opt/conda/lib/R/library\\\\\n",
       "\tstringr & stringr     & 1.4.0 & 1.4.0 & /opt/conda/lib/R/library/stringr     & /opt/conda/lib/R/library/stringr     & TRUE & FALSE & 2019-02-10 & CRAN (R 4.0.0) & NA & /opt/conda/lib/R/library\\\\\n",
       "\tviridis & viridis     & 0.5.1 & 0.5.1 & /opt/conda/lib/R/library/viridis     & /opt/conda/lib/R/library/viridis     & TRUE & FALSE & 2018-03-29 & CRAN (R 4.0.0) & NA & /opt/conda/lib/R/library\\\\\n",
       "\tviridisLite & viridisLite & 0.3.0 & 0.3.0 & /opt/conda/lib/R/library/viridisLite & /opt/conda/lib/R/library/viridisLite & TRUE & FALSE & 2018-02-01 & CRAN (R 4.0.0) & NA & /opt/conda/lib/R/library\\\\\n",
       "\\end{tabular}\n"
      ],
      "text/markdown": [
       "\n",
       "A packages_info: 7 × 11\n",
       "\n",
       "| <!--/--> | package &lt;chr&gt; | ondiskversion &lt;chr&gt; | loadedversion &lt;chr&gt; | path &lt;chr&gt; | loadedpath &lt;chr&gt; | attached &lt;lgl&gt; | is_base &lt;lgl&gt; | date &lt;chr&gt; | source &lt;chr&gt; | md5ok &lt;lgl&gt; | library &lt;fct&gt; |\n",
       "|---|---|---|---|---|---|---|---|---|---|---|---|\n",
       "| dplyr | dplyr       | 1.0.2 | 1.0.2 | /opt/conda/lib/R/library/dplyr       | /opt/conda/lib/R/library/dplyr       | TRUE | FALSE | 2020-08-18 | CRAN (R 4.0.2) | NA | /opt/conda/lib/R/library |\n",
       "| ggplot2 | ggplot2     | 3.3.2 | 3.3.2 | /opt/conda/lib/R/library/ggplot2     | /opt/conda/lib/R/library/ggplot2     | TRUE | FALSE | 2020-06-19 | CRAN (R 4.0.1) | NA | /opt/conda/lib/R/library |\n",
       "| magrittr | magrittr    | 1.5   | 1.5   | /opt/conda/lib/R/library/magrittr    | /opt/conda/lib/R/library/magrittr    | TRUE | FALSE | 2014-11-22 | CRAN (R 4.0.0) | NA | /opt/conda/lib/R/library |\n",
       "| scales | scales      | 1.1.1 | 1.1.1 | /opt/conda/lib/R/library/scales      | /opt/conda/lib/R/library/scales      | TRUE | FALSE | 2020-05-11 | CRAN (R 4.0.0) | NA | /opt/conda/lib/R/library |\n",
       "| stringr | stringr     | 1.4.0 | 1.4.0 | /opt/conda/lib/R/library/stringr     | /opt/conda/lib/R/library/stringr     | TRUE | FALSE | 2019-02-10 | CRAN (R 4.0.0) | NA | /opt/conda/lib/R/library |\n",
       "| viridis | viridis     | 0.5.1 | 0.5.1 | /opt/conda/lib/R/library/viridis     | /opt/conda/lib/R/library/viridis     | TRUE | FALSE | 2018-03-29 | CRAN (R 4.0.0) | NA | /opt/conda/lib/R/library |\n",
       "| viridisLite | viridisLite | 0.3.0 | 0.3.0 | /opt/conda/lib/R/library/viridisLite | /opt/conda/lib/R/library/viridisLite | TRUE | FALSE | 2018-02-01 | CRAN (R 4.0.0) | NA | /opt/conda/lib/R/library |\n",
       "\n"
      ],
      "text/plain": [
       "            package     ondiskversion loadedversion\n",
       "dplyr       dplyr       1.0.2         1.0.2        \n",
       "ggplot2     ggplot2     3.3.2         3.3.2        \n",
       "magrittr    magrittr    1.5           1.5          \n",
       "scales      scales      1.1.1         1.1.1        \n",
       "stringr     stringr     1.4.0         1.4.0        \n",
       "viridis     viridis     0.5.1         0.5.1        \n",
       "viridisLite viridisLite 0.3.0         0.3.0        \n",
       "            path                                \n",
       "dplyr       /opt/conda/lib/R/library/dplyr      \n",
       "ggplot2     /opt/conda/lib/R/library/ggplot2    \n",
       "magrittr    /opt/conda/lib/R/library/magrittr   \n",
       "scales      /opt/conda/lib/R/library/scales     \n",
       "stringr     /opt/conda/lib/R/library/stringr    \n",
       "viridis     /opt/conda/lib/R/library/viridis    \n",
       "viridisLite /opt/conda/lib/R/library/viridisLite\n",
       "            loadedpath                           attached is_base date      \n",
       "dplyr       /opt/conda/lib/R/library/dplyr       TRUE     FALSE   2020-08-18\n",
       "ggplot2     /opt/conda/lib/R/library/ggplot2     TRUE     FALSE   2020-06-19\n",
       "magrittr    /opt/conda/lib/R/library/magrittr    TRUE     FALSE   2014-11-22\n",
       "scales      /opt/conda/lib/R/library/scales      TRUE     FALSE   2020-05-11\n",
       "stringr     /opt/conda/lib/R/library/stringr     TRUE     FALSE   2019-02-10\n",
       "viridis     /opt/conda/lib/R/library/viridis     TRUE     FALSE   2018-03-29\n",
       "viridisLite /opt/conda/lib/R/library/viridisLite TRUE     FALSE   2018-02-01\n",
       "            source         md5ok library                 \n",
       "dplyr       CRAN (R 4.0.2) NA    /opt/conda/lib/R/library\n",
       "ggplot2     CRAN (R 4.0.1) NA    /opt/conda/lib/R/library\n",
       "magrittr    CRAN (R 4.0.0) NA    /opt/conda/lib/R/library\n",
       "scales      CRAN (R 4.0.0) NA    /opt/conda/lib/R/library\n",
       "stringr     CRAN (R 4.0.0) NA    /opt/conda/lib/R/library\n",
       "viridis     CRAN (R 4.0.0) NA    /opt/conda/lib/R/library\n",
       "viridisLite CRAN (R 4.0.0) NA    /opt/conda/lib/R/library"
      ]
     },
     "metadata": {},
     "output_type": "display_data"
    }
   ],
   "source": [
    "dev_session_info   <- devtools::session_info()\n",
    "utils_session_info <- utils::sessionInfo()\n",
    "\n",
    "message(\"Saving `devtools::session_info()` objects in ../data/devtools_session_info.rds  ..\")\n",
    "saveRDS(dev_session_info, file = paste0(\"../data/\", figure_id, \"_devtools_session_info.rds\"))\n",
    "message(\"Done!\\n\")\n",
    "\n",
    "message(\"Saving `utils::sessionInfo()` objects in ../data/utils_session_info.rds  ..\")\n",
    "saveRDS(utils_session_info, file = paste0(\"../data/\", figure_id ,\"_utils_info.rds\"))\n",
    "message(\"Done!\\n\")\n",
    "\n",
    "dev_session_info$platform\n",
    "dev_session_info$packages[dev_session_info$packages$attached==TRUE, ]"
   ]
  }
 ],
 "metadata": {
  "jupytext": {
   "encoding": "# -*- coding: utf-8 -*-"
  },
  "kernelspec": {
   "display_name": "R",
   "language": "R",
   "name": "ir"
  },
  "language_info": {
   "codemirror_mode": "r",
   "file_extension": ".r",
   "mimetype": "text/x-r-source",
   "name": "R",
   "pygments_lexer": "r",
   "version": "4.0.3"
  },
  "papermill": {
   "duration": 3.335636,
   "end_time": "2020-11-04T02:26:06.886438",
   "environment_variables": {},
   "exception": null,
   "input_path": "totalAlternativeSplicingByTissue.ipynb",
   "output_path": "totalAlternativeSplicingByTissue.ipynb",
   "parameters": {},
   "start_time": "2020-11-04T02:26:03.550802",
   "version": "2.1.2"
  }
 },
 "nbformat": 4,
 "nbformat_minor": 4
}