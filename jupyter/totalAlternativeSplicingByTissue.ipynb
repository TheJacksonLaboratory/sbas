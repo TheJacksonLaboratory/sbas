{
 "cells": [
  {
   "cell_type": "markdown",
   "id": "aaa74899",
   "metadata": {
    "papermill": {
     "duration": 0.007301,
     "end_time": "2021-06-27T19:26:04.161370",
     "exception": false,
     "start_time": "2021-06-27T19:26:04.154069",
     "status": "completed"
    },
    "tags": []
   },
   "source": [
    "# Counts of significant alternative splicing events by tissue\n",
    "\n",
    "This notebook generates a single figure showing the number of alternative splicing events by tissue."
   ]
  },
  {
   "cell_type": "markdown",
   "id": "ba74f889",
   "metadata": {
    "papermill": {
     "duration": 0.00609,
     "end_time": "2021-06-27T19:26:04.173889",
     "exception": false,
     "start_time": "2021-06-27T19:26:04.167799",
     "status": "completed"
    },
    "tags": []
   },
   "source": [
    "## **Running this notebook**:\n",
    "\n",
    "See the README for setting up prerequisites for the notebook."
   ]
  },
  {
   "cell_type": "markdown",
   "id": "533410ec",
   "metadata": {
    "papermill": {
     "duration": 0.005904,
     "end_time": "2021-06-27T19:26:04.185729",
     "exception": false,
     "start_time": "2021-06-27T19:26:04.179825",
     "status": "completed"
    },
    "tags": []
   },
   "source": [
    "## 1. Setup \n",
    "\n",
    "Assumes the `countGenesAndEvents.ipynb` notebook was run -- unpacking the results from the differential Gene Expression Analysis as run in the `differentialGeneExpressionAnalysis.ipynb` notebook."
   ]
  },
  {
   "cell_type": "code",
   "execution_count": 1,
   "id": "9c438217",
   "metadata": {
    "execution": {
     "iopub.execute_input": "2021-06-27T19:26:04.330760Z",
     "iopub.status.busy": "2021-06-27T19:26:04.327975Z",
     "iopub.status.idle": "2021-06-27T19:26:04.823577Z",
     "shell.execute_reply": "2021-06-27T19:26:04.822421Z"
    },
    "papermill": {
     "duration": 0.632276,
     "end_time": "2021-06-27T19:26:04.823969",
     "exception": false,
     "start_time": "2021-06-27T19:26:04.191693",
     "status": "completed"
    },
    "tags": []
   },
   "outputs": [],
   "source": [
    "suppressMessages({\n",
    "    options(warn = -1) \n",
    "    library(stringr)\n",
    "    library(magrittr)\n",
    "    library(dplyr)\n",
    "    library(ggplot2)\n",
    "    library(scales)\n",
    "    library(viridis)\n",
    "    Sys.setenv(TAR = \"/bin/tar\") # for gzfile\n",
    "})"
   ]
  },
  {
   "cell_type": "markdown",
   "id": "c452eab3",
   "metadata": {
    "papermill": {
     "duration": 0.005917,
     "end_time": "2021-06-27T19:26:04.836272",
     "exception": false,
     "start_time": "2021-06-27T19:26:04.830355",
     "status": "completed"
    },
    "tags": []
   },
   "source": [
    "## 2 read in the total alternatives splicing by tissue file."
   ]
  },
  {
   "cell_type": "code",
   "execution_count": 2,
   "id": "19394c1b",
   "metadata": {
    "execution": {
     "iopub.execute_input": "2021-06-27T19:26:04.881464Z",
     "iopub.status.busy": "2021-06-27T19:26:04.852180Z",
     "iopub.status.idle": "2021-06-27T19:26:04.927292Z",
     "shell.execute_reply": "2021-06-27T19:26:04.926097Z"
    },
    "papermill": {
     "duration": 0.085232,
     "end_time": "2021-06-27T19:26:04.927430",
     "exception": false,
     "start_time": "2021-06-27T19:26:04.842198",
     "status": "completed"
    },
    "tags": []
   },
   "outputs": [
    {
     "data": {
      "text/html": [
       "<style>\n",
       ".list-inline {list-style: none; margin:0; padding: 0}\n",
       ".list-inline>li {display: inline-block}\n",
       ".list-inline>li:not(:last-child)::after {content: \"\\00b7\"; padding: 0 .5ex}\n",
       "</style>\n",
       "<ol class=list-inline><li>'Esophagus (m)'</li><li>'Liver'</li><li>'Lung'</li><li>'Whole blood'</li><li>'Adrenal gland'</li><li>'Caudate'</li><li>'Cerebellar hemisphere'</li><li>'Coronary artery'</li><li>'Cortex'</li><li>'Frontal cortex'</li><li>'Pancreas'</li><li>'Putamen'</li><li>'Stomach'</li><li>'Adipose (sc)'</li><li>'Adipose (v)'</li><li>'EBV-lymphocytes'</li><li>'Fibroblasts'</li><li>'Hypothalamus'</li><li>'Nucleus accumbens'</li><li>'Spinal cord'</li><li>'Tibial nerve'</li><li>'Atrial appendage'</li><li>'Transverse colon'</li><li>'Pituitary'</li><li>'Thyroid'</li><li>'Esophagus (gej)'</li><li>'Skin (exposed)'</li><li>'Skeletal muscle'</li><li>'Tibial artery'</li><li>'Aorta'</li><li>'Hippocampus'</li><li>'Sigmoid colon'</li><li>'Spleen'</li><li>'Esophagus (mu)'</li><li>'Cerebellum'</li><li>'Breast'</li></ol>\n"
      ],
      "text/latex": [
       "\\begin{enumerate*}\n",
       "\\item 'Esophagus (m)'\n",
       "\\item 'Liver'\n",
       "\\item 'Lung'\n",
       "\\item 'Whole blood'\n",
       "\\item 'Adrenal gland'\n",
       "\\item 'Caudate'\n",
       "\\item 'Cerebellar hemisphere'\n",
       "\\item 'Coronary artery'\n",
       "\\item 'Cortex'\n",
       "\\item 'Frontal cortex'\n",
       "\\item 'Pancreas'\n",
       "\\item 'Putamen'\n",
       "\\item 'Stomach'\n",
       "\\item 'Adipose (sc)'\n",
       "\\item 'Adipose (v)'\n",
       "\\item 'EBV-lymphocytes'\n",
       "\\item 'Fibroblasts'\n",
       "\\item 'Hypothalamus'\n",
       "\\item 'Nucleus accumbens'\n",
       "\\item 'Spinal cord'\n",
       "\\item 'Tibial nerve'\n",
       "\\item 'Atrial appendage'\n",
       "\\item 'Transverse colon'\n",
       "\\item 'Pituitary'\n",
       "\\item 'Thyroid'\n",
       "\\item 'Esophagus (gej)'\n",
       "\\item 'Skin (exposed)'\n",
       "\\item 'Skeletal muscle'\n",
       "\\item 'Tibial artery'\n",
       "\\item 'Aorta'\n",
       "\\item 'Hippocampus'\n",
       "\\item 'Sigmoid colon'\n",
       "\\item 'Spleen'\n",
       "\\item 'Esophagus (mu)'\n",
       "\\item 'Cerebellum'\n",
       "\\item 'Breast'\n",
       "\\end{enumerate*}\n"
      ],
      "text/markdown": [
       "1. 'Esophagus (m)'\n",
       "2. 'Liver'\n",
       "3. 'Lung'\n",
       "4. 'Whole blood'\n",
       "5. 'Adrenal gland'\n",
       "6. 'Caudate'\n",
       "7. 'Cerebellar hemisphere'\n",
       "8. 'Coronary artery'\n",
       "9. 'Cortex'\n",
       "10. 'Frontal cortex'\n",
       "11. 'Pancreas'\n",
       "12. 'Putamen'\n",
       "13. 'Stomach'\n",
       "14. 'Adipose (sc)'\n",
       "15. 'Adipose (v)'\n",
       "16. 'EBV-lymphocytes'\n",
       "17. 'Fibroblasts'\n",
       "18. 'Hypothalamus'\n",
       "19. 'Nucleus accumbens'\n",
       "20. 'Spinal cord'\n",
       "21. 'Tibial nerve'\n",
       "22. 'Atrial appendage'\n",
       "23. 'Transverse colon'\n",
       "24. 'Pituitary'\n",
       "25. 'Thyroid'\n",
       "26. 'Esophagus (gej)'\n",
       "27. 'Skin (exposed)'\n",
       "28. 'Skeletal muscle'\n",
       "29. 'Tibial artery'\n",
       "30. 'Aorta'\n",
       "31. 'Hippocampus'\n",
       "32. 'Sigmoid colon'\n",
       "33. 'Spleen'\n",
       "34. 'Esophagus (mu)'\n",
       "35. 'Cerebellum'\n",
       "36. 'Breast'\n",
       "\n",
       "\n"
      ],
      "text/plain": [
       " [1] \"Esophagus (m)\"         \"Liver\"                 \"Lung\"                 \n",
       " [4] \"Whole blood\"           \"Adrenal gland\"         \"Caudate\"              \n",
       " [7] \"Cerebellar hemisphere\" \"Coronary artery\"       \"Cortex\"               \n",
       "[10] \"Frontal cortex\"        \"Pancreas\"              \"Putamen\"              \n",
       "[13] \"Stomach\"               \"Adipose (sc)\"          \"Adipose (v)\"          \n",
       "[16] \"EBV-lymphocytes\"       \"Fibroblasts\"           \"Hypothalamus\"         \n",
       "[19] \"Nucleus accumbens\"     \"Spinal cord\"           \"Tibial nerve\"         \n",
       "[22] \"Atrial appendage\"      \"Transverse colon\"      \"Pituitary\"            \n",
       "[25] \"Thyroid\"               \"Esophagus (gej)\"       \"Skin (exposed)\"       \n",
       "[28] \"Skeletal muscle\"       \"Tibial artery\"         \"Aorta\"                \n",
       "[31] \"Hippocampus\"           \"Sigmoid colon\"         \"Spleen\"               \n",
       "[34] \"Esophagus (mu)\"        \"Cerebellum\"            \"Breast\"               "
      ]
     },
     "metadata": {},
     "output_type": "display_data"
    }
   ],
   "source": [
    "totals <- read.table(\"../data/Total_AS_by_tissue.tsv\", sep = \"\\t\", header = T)\n",
    "\n",
    "colnames(totals) <- c(\"Tissue\", \"Total\")\n",
    "totals_s <- totals %>% arrange(Total)\n",
    "totals_s$Tissue <- factor(totals_s$Tissue, levels = totals_s$Tissue)\n",
    "levels(totals_s$Tissue)"
   ]
  },
  {
   "cell_type": "markdown",
   "id": "4c83d7d4",
   "metadata": {
    "papermill": {
     "duration": 0.006649,
     "end_time": "2021-06-27T19:26:04.940976",
     "exception": false,
     "start_time": "2021-06-27T19:26:04.934327",
     "status": "completed"
    },
    "tags": []
   },
   "source": [
    "## 3 create a function to be used by ggplot to create a reverse log10 scale for the x-axis"
   ]
  },
  {
   "cell_type": "code",
   "execution_count": 3,
   "id": "d8b15d94",
   "metadata": {
    "execution": {
     "iopub.execute_input": "2021-06-27T19:26:04.959582Z",
     "iopub.status.busy": "2021-06-27T19:26:04.958359Z",
     "iopub.status.idle": "2021-06-27T19:26:04.970830Z",
     "shell.execute_reply": "2021-06-27T19:26:04.969682Z"
    },
    "lines_to_next_cell": 2,
    "papermill": {
     "duration": 0.023544,
     "end_time": "2021-06-27T19:26:04.970975",
     "exception": false,
     "start_time": "2021-06-27T19:26:04.947431",
     "status": "completed"
    },
    "tags": []
   },
   "outputs": [],
   "source": [
    "reverselog_trans <- function(base = exp(1)) {\n",
    "  trans <- function(x) -log(x, base)\n",
    "  inv <- function(x) base^(-x)\n",
    "  trans_new(paste0(\"reverselog-\", format(base)), trans, inv, \n",
    "            log_breaks(base = base), \n",
    "            domain = c(1e-100, Inf))\n",
    "}"
   ]
  },
  {
   "cell_type": "code",
   "execution_count": 4,
   "id": "2c9fd71a",
   "metadata": {
    "execution": {
     "iopub.execute_input": "2021-06-27T19:26:04.989712Z",
     "iopub.status.busy": "2021-06-27T19:26:04.988359Z",
     "iopub.status.idle": "2021-06-27T19:26:05.418214Z",
     "shell.execute_reply": "2021-06-27T19:26:05.417400Z"
    },
    "papermill": {
     "duration": 0.440742,
     "end_time": "2021-06-27T19:26:05.418349",
     "exception": false,
     "start_time": "2021-06-27T19:26:04.977607",
     "status": "completed"
    },
    "tags": []
   },
   "outputs": [
    {
     "data": {
      "image/png": "[encoded data removed]",
      "text/plain": [
       "plot without title"
      ]
     },
     "metadata": {
      "image/png": {
       "height": 420,
       "width": 420
      }
     },
     "output_type": "display_data"
    }
   ],
   "source": [
    "g<-ggplot(totals_s, aes(y = Tissue, x = Total, size = Total)) +\n",
    "  geom_point(color = \"red\") +\n",
    "  theme_bw() +\n",
    "  scale_x_continuous(trans=reverselog_trans(), breaks=c(1,10,100,1000,5000,10000)) +#breaks=c(10000, 5000,1000,100,10,1)) +\n",
    "  scale_y_discrete(position = \"right\") +\n",
    "  theme(axis.text.x = element_text(size=8, angle = 0, hjust = 0.0, vjust = 0.5),\n",
    "        axis.text.y = element_text(size=8),\n",
    "        axis.title.x = element_text(face=\"plain\", colour=\"black\", \n",
    "                                    size=10),\n",
    "        axis.title.y = element_blank(),\n",
    "        legend.title=element_blank(),\n",
    "        legend.text = element_text(face=\"plain\", colour=\"black\", \n",
    "                                   size=8)) +\n",
    "  xlab(paste(\"Number of sex-biased splicing events\")) +\n",
    "  ylab(\"Tissue\") + \n",
    "  guides(size=FALSE)\n",
    "\n",
    "g\n",
    "ggsave(\"../pdf/total_as_by_tissue.pdf\",g, height = 4.5, width = 4)"
   ]
  },
  {
   "cell_type": "markdown",
   "id": "380d0a1c",
   "metadata": {
    "papermill": {
     "duration": 0.010639,
     "end_time": "2021-06-27T19:26:05.438228",
     "exception": false,
     "start_time": "2021-06-27T19:26:05.427589",
     "status": "completed"
    },
    "tags": []
   },
   "source": [
    "## Appendix - Metadata\n",
    "\n",
    "For replicability and reproducibility purposes, we also print the following metadata:\n",
    "\n",
    "### Appendix.1. Checksums with the sha256 algorithm\n",
    "1. Checksums of **'artefacts'**, files generated during the analysis and stored in the folder directory **`data`**\n",
    "2. List of environment metadata, dependencies, versions of libraries using `utils::sessionInfo()` and [`devtools::session_info()`](https://devtools.r-lib.org/reference/session_info.html)"
   ]
  },
  {
   "cell_type": "code",
   "execution_count": 5,
   "id": "54e3eacf",
   "metadata": {
    "execution": {
     "iopub.execute_input": "2021-06-27T19:26:05.472710Z",
     "iopub.status.busy": "2021-06-27T19:26:05.471346Z",
     "iopub.status.idle": "2021-06-27T19:26:05.483333Z",
     "shell.execute_reply": "2021-06-27T19:26:05.482203Z"
    },
    "papermill": {
     "duration": 0.025166,
     "end_time": "2021-06-27T19:26:05.483467",
     "exception": false,
     "start_time": "2021-06-27T19:26:05.458301",
     "status": "completed"
    },
    "tags": []
   },
   "outputs": [],
   "source": [
    "figure_id   = \"totalAlternativeSplicingByTissue\""
   ]
  },
  {
   "cell_type": "markdown",
   "id": "3003905b",
   "metadata": {
    "papermill": {
     "duration": 0.008776,
     "end_time": "2021-06-27T19:26:05.501075",
     "exception": false,
     "start_time": "2021-06-27T19:26:05.492299",
     "status": "completed"
    },
    "tags": []
   },
   "source": [
    "### Appendix.2. Library metadata"
   ]
  },
  {
   "cell_type": "code",
   "execution_count": 6,
   "id": "efb81ab2",
   "metadata": {
    "execution": {
     "iopub.execute_input": "2021-06-27T19:26:05.523789Z",
     "iopub.status.busy": "2021-06-27T19:26:05.522584Z",
     "iopub.status.idle": "2021-06-27T19:26:06.391059Z",
     "shell.execute_reply": "2021-06-27T19:26:06.389520Z"
    },
    "papermill": {
     "duration": 0.881435,
     "end_time": "2021-06-27T19:26:06.391257",
     "exception": false,
     "start_time": "2021-06-27T19:26:05.509822",
     "status": "completed"
    },
    "tags": []
   },
   "outputs": [
    {
     "name": "stderr",
     "output_type": "stream",
     "text": [
      "Saving `devtools::session_info()` objects in ../data/devtools_session_info.rds  ..\n",
      "\n"
     ]
    },
    {
     "name": "stderr",
     "output_type": "stream",
     "text": [
      "Done!\n",
      "\n",
      "\n"
     ]
    },
    {
     "name": "stderr",
     "output_type": "stream",
     "text": [
      "Saving `utils::sessionInfo()` objects in ../data/utils_session_info.rds  ..\n",
      "\n"
     ]
    },
    {
     "name": "stderr",
     "output_type": "stream",
     "text": [
      "Done!\n",
      "\n",
      "\n"
     ]
    },
    {
     "data": {
      "text/plain": [
       " setting  value                       \n",
       " version  R version 4.1.0 (2021-05-18)\n",
       " os       Ubuntu 18.04.4 LTS          \n",
       " system   x86_64, linux-gnu           \n",
       " ui       X11                         \n",
       " language en_US.UTF-8                 \n",
       " collate  en_US.UTF-8                 \n",
       " ctype    en_US.UTF-8                 \n",
       " tz       Etc/UTC                     \n",
       " date     2021-06-27                  "
      ]
     },
     "metadata": {},
     "output_type": "display_data"
    },
    {
     "data": {
      "text/html": [
       "<table class=\"dataframe\">\n",
       "<caption>A packages_info: 7 × 11</caption>\n",
       "<thead>\n",
       "\t<tr><th></th><th scope=col>package</th><th scope=col>ondiskversion</th><th scope=col>loadedversion</th><th scope=col>path</th><th scope=col>loadedpath</th><th scope=col>attached</th><th scope=col>is_base</th><th scope=col>date</th><th scope=col>source</th><th scope=col>md5ok</th><th scope=col>library</th></tr>\n",
       "\t<tr><th></th><th scope=col>&lt;chr&gt;</th><th scope=col>&lt;chr&gt;</th><th scope=col>&lt;chr&gt;</th><th scope=col>&lt;chr&gt;</th><th scope=col>&lt;chr&gt;</th><th scope=col>&lt;lgl&gt;</th><th scope=col>&lt;lgl&gt;</th><th scope=col>&lt;chr&gt;</th><th scope=col>&lt;chr&gt;</th><th scope=col>&lt;lgl&gt;</th><th scope=col>&lt;fct&gt;</th></tr>\n",
       "</thead>\n",
       "<tbody>\n",
       "\t<tr><th scope=row>dplyr</th><td>dplyr      </td><td>1.0.7</td><td>1.0.7</td><td>/opt/conda/envs/sbas/lib/R/library/dplyr      </td><td>/opt/conda/envs/sbas/lib/R/library/dplyr      </td><td>TRUE</td><td>FALSE</td><td>2021-06-18</td><td>CRAN (R 4.1.0)</td><td>NA</td><td>/opt/conda/envs/sbas/lib/R/library</td></tr>\n",
       "\t<tr><th scope=row>ggplot2</th><td>ggplot2    </td><td>3.3.5</td><td>3.3.5</td><td>/opt/conda/envs/sbas/lib/R/library/ggplot2    </td><td>/opt/conda/envs/sbas/lib/R/library/ggplot2    </td><td>TRUE</td><td>FALSE</td><td>2021-06-25</td><td>CRAN (R 4.1.0)</td><td>NA</td><td>/opt/conda/envs/sbas/lib/R/library</td></tr>\n",
       "\t<tr><th scope=row>magrittr</th><td>magrittr   </td><td>2.0.1</td><td>2.0.1</td><td>/opt/conda/envs/sbas/lib/R/library/magrittr   </td><td>/opt/conda/envs/sbas/lib/R/library/magrittr   </td><td>TRUE</td><td>FALSE</td><td>2020-11-17</td><td>CRAN (R 4.1.0)</td><td>NA</td><td>/opt/conda/envs/sbas/lib/R/library</td></tr>\n",
       "\t<tr><th scope=row>scales</th><td>scales     </td><td>1.1.1</td><td>1.1.1</td><td>/opt/conda/envs/sbas/lib/R/library/scales     </td><td>/opt/conda/envs/sbas/lib/R/library/scales     </td><td>TRUE</td><td>FALSE</td><td>2020-05-11</td><td>CRAN (R 4.1.0)</td><td>NA</td><td>/opt/conda/envs/sbas/lib/R/library</td></tr>\n",
       "\t<tr><th scope=row>stringr</th><td>stringr    </td><td>1.4.0</td><td>1.4.0</td><td>/opt/conda/envs/sbas/lib/R/library/stringr    </td><td>/opt/conda/envs/sbas/lib/R/library/stringr    </td><td>TRUE</td><td>FALSE</td><td>2019-02-10</td><td>CRAN (R 4.1.0)</td><td>NA</td><td>/opt/conda/envs/sbas/lib/R/library</td></tr>\n",
       "\t<tr><th scope=row>viridis</th><td>viridis    </td><td>0.6.1</td><td>0.6.1</td><td>/opt/conda/envs/sbas/lib/R/library/viridis    </td><td>/opt/conda/envs/sbas/lib/R/library/viridis    </td><td>TRUE</td><td>FALSE</td><td>2021-05-11</td><td>CRAN (R 4.1.0)</td><td>NA</td><td>/opt/conda/envs/sbas/lib/R/library</td></tr>\n",
       "\t<tr><th scope=row>viridisLite</th><td>viridisLite</td><td>0.4.0</td><td>0.4.0</td><td>/opt/conda/envs/sbas/lib/R/library/viridisLite</td><td>/opt/conda/envs/sbas/lib/R/library/viridisLite</td><td>TRUE</td><td>FALSE</td><td>2021-04-13</td><td>CRAN (R 4.1.0)</td><td>NA</td><td>/opt/conda/envs/sbas/lib/R/library</td></tr>\n",
       "</tbody>\n",
       "</table>\n"
      ],
      "text/latex": [
       "A packages\\_info: 7 × 11\n",
       "\\begin{tabular}{r|lllllllllll}\n",
       "  & package & ondiskversion & loadedversion & path & loadedpath & attached & is\\_base & date & source & md5ok & library\\\\\n",
       "  & <chr> & <chr> & <chr> & <chr> & <chr> & <lgl> & <lgl> & <chr> & <chr> & <lgl> & <fct>\\\\\n",
       "\\hline\n",
       "\tdplyr & dplyr       & 1.0.7 & 1.0.7 & /opt/conda/envs/sbas/lib/R/library/dplyr       & /opt/conda/envs/sbas/lib/R/library/dplyr       & TRUE & FALSE & 2021-06-18 & CRAN (R 4.1.0) & NA & /opt/conda/envs/sbas/lib/R/library\\\\\n",
       "\tggplot2 & ggplot2     & 3.3.5 & 3.3.5 & /opt/conda/envs/sbas/lib/R/library/ggplot2     & /opt/conda/envs/sbas/lib/R/library/ggplot2     & TRUE & FALSE & 2021-06-25 & CRAN (R 4.1.0) & NA & /opt/conda/envs/sbas/lib/R/library\\\\\n",
       "\tmagrittr & magrittr    & 2.0.1 & 2.0.1 & /opt/conda/envs/sbas/lib/R/library/magrittr    & /opt/conda/envs/sbas/lib/R/library/magrittr    & TRUE & FALSE & 2020-11-17 & CRAN (R 4.1.0) & NA & /opt/conda/envs/sbas/lib/R/library\\\\\n",
       "\tscales & scales      & 1.1.1 & 1.1.1 & /opt/conda/envs/sbas/lib/R/library/scales      & /opt/conda/envs/sbas/lib/R/library/scales      & TRUE & FALSE & 2020-05-11 & CRAN (R 4.1.0) & NA & /opt/conda/envs/sbas/lib/R/library\\\\\n",
       "\tstringr & stringr     & 1.4.0 & 1.4.0 & /opt/conda/envs/sbas/lib/R/library/stringr     & /opt/conda/envs/sbas/lib/R/library/stringr     & TRUE & FALSE & 2019-02-10 & CRAN (R 4.1.0) & NA & /opt/conda/envs/sbas/lib/R/library\\\\\n",
       "\tviridis & viridis     & 0.6.1 & 0.6.1 & /opt/conda/envs/sbas/lib/R/library/viridis     & /opt/conda/envs/sbas/lib/R/library/viridis     & TRUE & FALSE & 2021-05-11 & CRAN (R 4.1.0) & NA & /opt/conda/envs/sbas/lib/R/library\\\\\n",
       "\tviridisLite & viridisLite & 0.4.0 & 0.4.0 & /opt/conda/envs/sbas/lib/R/library/viridisLite & /opt/conda/envs/sbas/lib/R/library/viridisLite & TRUE & FALSE & 2021-04-13 & CRAN (R 4.1.0) & NA & /opt/conda/envs/sbas/lib/R/library\\\\\n",
       "\\end{tabular}\n"
      ],
      "text/markdown": [
       "\n",
       "A packages_info: 7 × 11\n",
       "\n",
       "| <!--/--> | package &lt;chr&gt; | ondiskversion &lt;chr&gt; | loadedversion &lt;chr&gt; | path &lt;chr&gt; | loadedpath &lt;chr&gt; | attached &lt;lgl&gt; | is_base &lt;lgl&gt; | date &lt;chr&gt; | source &lt;chr&gt; | md5ok &lt;lgl&gt; | library &lt;fct&gt; |\n",
       "|---|---|---|---|---|---|---|---|---|---|---|---|\n",
       "| dplyr | dplyr       | 1.0.7 | 1.0.7 | /opt/conda/envs/sbas/lib/R/library/dplyr       | /opt/conda/envs/sbas/lib/R/library/dplyr       | TRUE | FALSE | 2021-06-18 | CRAN (R 4.1.0) | NA | /opt/conda/envs/sbas/lib/R/library |\n",
       "| ggplot2 | ggplot2     | 3.3.5 | 3.3.5 | /opt/conda/envs/sbas/lib/R/library/ggplot2     | /opt/conda/envs/sbas/lib/R/library/ggplot2     | TRUE | FALSE | 2021-06-25 | CRAN (R 4.1.0) | NA | /opt/conda/envs/sbas/lib/R/library |\n",
       "| magrittr | magrittr    | 2.0.1 | 2.0.1 | /opt/conda/envs/sbas/lib/R/library/magrittr    | /opt/conda/envs/sbas/lib/R/library/magrittr    | TRUE | FALSE | 2020-11-17 | CRAN (R 4.1.0) | NA | /opt/conda/envs/sbas/lib/R/library |\n",
       "| scales | scales      | 1.1.1 | 1.1.1 | /opt/conda/envs/sbas/lib/R/library/scales      | /opt/conda/envs/sbas/lib/R/library/scales      | TRUE | FALSE | 2020-05-11 | CRAN (R 4.1.0) | NA | /opt/conda/envs/sbas/lib/R/library |\n",
       "| stringr | stringr     | 1.4.0 | 1.4.0 | /opt/conda/envs/sbas/lib/R/library/stringr     | /opt/conda/envs/sbas/lib/R/library/stringr     | TRUE | FALSE | 2019-02-10 | CRAN (R 4.1.0) | NA | /opt/conda/envs/sbas/lib/R/library |\n",
       "| viridis | viridis     | 0.6.1 | 0.6.1 | /opt/conda/envs/sbas/lib/R/library/viridis     | /opt/conda/envs/sbas/lib/R/library/viridis     | TRUE | FALSE | 2021-05-11 | CRAN (R 4.1.0) | NA | /opt/conda/envs/sbas/lib/R/library |\n",
       "| viridisLite | viridisLite | 0.4.0 | 0.4.0 | /opt/conda/envs/sbas/lib/R/library/viridisLite | /opt/conda/envs/sbas/lib/R/library/viridisLite | TRUE | FALSE | 2021-04-13 | CRAN (R 4.1.0) | NA | /opt/conda/envs/sbas/lib/R/library |\n",
       "\n"
      ],
      "text/plain": [
       "            package     ondiskversion loadedversion\n",
       "dplyr       dplyr       1.0.7         1.0.7        \n",
       "ggplot2     ggplot2     3.3.5         3.3.5        \n",
       "magrittr    magrittr    2.0.1         2.0.1        \n",
       "scales      scales      1.1.1         1.1.1        \n",
       "stringr     stringr     1.4.0         1.4.0        \n",
       "viridis     viridis     0.6.1         0.6.1        \n",
       "viridisLite viridisLite 0.4.0         0.4.0        \n",
       "            path                                          \n",
       "dplyr       /opt/conda/envs/sbas/lib/R/library/dplyr      \n",
       "ggplot2     /opt/conda/envs/sbas/lib/R/library/ggplot2    \n",
       "magrittr    /opt/conda/envs/sbas/lib/R/library/magrittr   \n",
       "scales      /opt/conda/envs/sbas/lib/R/library/scales     \n",
       "stringr     /opt/conda/envs/sbas/lib/R/library/stringr    \n",
       "viridis     /opt/conda/envs/sbas/lib/R/library/viridis    \n",
       "viridisLite /opt/conda/envs/sbas/lib/R/library/viridisLite\n",
       "            loadedpath                                     attached is_base\n",
       "dplyr       /opt/conda/envs/sbas/lib/R/library/dplyr       TRUE     FALSE  \n",
       "ggplot2     /opt/conda/envs/sbas/lib/R/library/ggplot2     TRUE     FALSE  \n",
       "magrittr    /opt/conda/envs/sbas/lib/R/library/magrittr    TRUE     FALSE  \n",
       "scales      /opt/conda/envs/sbas/lib/R/library/scales      TRUE     FALSE  \n",
       "stringr     /opt/conda/envs/sbas/lib/R/library/stringr     TRUE     FALSE  \n",
       "viridis     /opt/conda/envs/sbas/lib/R/library/viridis     TRUE     FALSE  \n",
       "viridisLite /opt/conda/envs/sbas/lib/R/library/viridisLite TRUE     FALSE  \n",
       "            date       source         md5ok library                           \n",
       "dplyr       2021-06-18 CRAN (R 4.1.0) NA    /opt/conda/envs/sbas/lib/R/library\n",
       "ggplot2     2021-06-25 CRAN (R 4.1.0) NA    /opt/conda/envs/sbas/lib/R/library\n",
       "magrittr    2020-11-17 CRAN (R 4.1.0) NA    /opt/conda/envs/sbas/lib/R/library\n",
       "scales      2020-05-11 CRAN (R 4.1.0) NA    /opt/conda/envs/sbas/lib/R/library\n",
       "stringr     2019-02-10 CRAN (R 4.1.0) NA    /opt/conda/envs/sbas/lib/R/library\n",
       "viridis     2021-05-11 CRAN (R 4.1.0) NA    /opt/conda/envs/sbas/lib/R/library\n",
       "viridisLite 2021-04-13 CRAN (R 4.1.0) NA    /opt/conda/envs/sbas/lib/R/library"
      ]
     },
     "metadata": {},
     "output_type": "display_data"
    }
   ],
   "source": [
    "dev_session_info   <- devtools::session_info()\n",
    "utils_session_info <- utils::sessionInfo()\n",
    "\n",
    "message(\"Saving `devtools::session_info()` objects in ../data/devtools_session_info.rds  ..\")\n",
    "saveRDS(dev_session_info, file = paste0(\"../data/\", figure_id, \"_devtools_session_info.rds\"))\n",
    "message(\"Done!\\n\")\n",
    "\n",
    "message(\"Saving `utils::sessionInfo()` objects in ../data/utils_session_info.rds  ..\")\n",
    "saveRDS(utils_session_info, file = paste0(\"../data/\", figure_id ,\"_utils_info.rds\"))\n",
    "message(\"Done!\\n\")\n",
    "\n",
    "dev_session_info$platform\n",
    "dev_session_info$packages[dev_session_info$packages$attached==TRUE, ]"
   ]
  }
 ],
 "metadata": {
  "jupytext": {
   "encoding": "# -*- coding: utf-8 -*-"
  },
  "kernelspec": {
   "display_name": "R",
   "language": "R",
   "name": "ir"
  },
  "language_info": {
   "codemirror_mode": "r",
   "file_extension": ".r",
   "mimetype": "text/x-r-source",
   "name": "R",
   "pygments_lexer": "r",
   "version": "4.1.0"
  },
  "papermill": {
   "duration": 3.399276,
   "end_time": "2021-06-27T19:26:06.512755",
   "environment_variables": {},
   "exception": null,
   "input_path": "totalAlternativeSplicingByTissue.ipynb",
   "output_path": "totalAlternativeSplicingByTissue.ipynb",
   "parameters": {},
   "start_time": "2021-06-27T19:26:03.113479",
   "version": "2.1.2"
  }
 },
 "nbformat": 4,
 "nbformat_minor": 5
}