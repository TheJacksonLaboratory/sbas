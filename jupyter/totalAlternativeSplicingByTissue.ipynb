{
 "cells": [
  {
   "cell_type": "markdown",
   "id": "d7957f12",
   "metadata": {
    "papermill": {
     "duration": 0.0054,
     "end_time": "2021-09-24T04:52:54.429965",
     "exception": false,
     "start_time": "2021-09-24T04:52:54.424565",
     "status": "completed"
    },
    "tags": []
   },
   "source": [
    "# Counts of significant alternative splicing events by tissue\n",
    "\n",
    "This notebook generates a single figure showing the number of alternative splicing events by tissue."
   ]
  },
  {
   "cell_type": "markdown",
   "id": "5d20d31a",
   "metadata": {
    "papermill": {
     "duration": 0.004346,
     "end_time": "2021-09-24T04:52:54.439185",
     "exception": false,
     "start_time": "2021-09-24T04:52:54.434839",
     "status": "completed"
    },
    "tags": []
   },
   "source": [
    "## **Running this notebook**:\n",
    "\n",
    "See the README for setting up prerequisites for the notebook."
   ]
  },
  {
   "cell_type": "markdown",
   "id": "22ca3c26",
   "metadata": {
    "papermill": {
     "duration": 0.004225,
     "end_time": "2021-09-24T04:52:54.447693",
     "exception": false,
     "start_time": "2021-09-24T04:52:54.443468",
     "status": "completed"
    },
    "tags": []
   },
   "source": [
    "## 1. Setup \n",
    "\n",
    "Assumes the `countGenesAndEvents.ipynb` notebook was run -- unpacking the results from the differential Gene Expression Analysis as run in the `differentialGeneExpressionAnalysis.ipynb` notebook."
   ]
  },
  {
   "cell_type": "code",
   "execution_count": 1,
   "id": "4678d76a",
   "metadata": {
    "execution": {
     "iopub.execute_input": "2021-09-24T04:52:54.523709Z",
     "iopub.status.busy": "2021-09-24T04:52:54.521726Z",
     "iopub.status.idle": "2021-09-24T04:52:54.824230Z",
     "shell.execute_reply": "2021-09-24T04:52:54.823407Z"
    },
    "papermill": {
     "duration": 0.372337,
     "end_time": "2021-09-24T04:52:54.824350",
     "exception": false,
     "start_time": "2021-09-24T04:52:54.452013",
     "status": "completed"
    },
    "tags": []
   },
   "outputs": [],
   "source": [
    "suppressMessages({\n",
    "    options(warn = -1) \n",
    "    library(stringr)\n",
    "    library(magrittr)\n",
    "    library(dplyr)\n",
    "    library(ggplot2)\n",
    "    library(scales)\n",
    "    library(viridis)\n",
    "    Sys.setenv(TAR = \"/bin/tar\") # for gzfile\n",
    "})"
   ]
  },
  {
   "cell_type": "markdown",
   "id": "3f9d56fe",
   "metadata": {
    "papermill": {
     "duration": 0.004463,
     "end_time": "2021-09-24T04:52:54.833562",
     "exception": false,
     "start_time": "2021-09-24T04:52:54.829099",
     "status": "completed"
    },
    "tags": []
   },
   "source": [
    "## 2 read in the total alternatives splicing by tissue file."
   ]
  },
  {
   "cell_type": "code",
   "execution_count": 2,
   "id": "bf99b356",
   "metadata": {
    "execution": {
     "iopub.execute_input": "2021-09-24T04:52:54.873704Z",
     "iopub.status.busy": "2021-09-24T04:52:54.844493Z",
     "iopub.status.idle": "2021-09-24T04:52:54.902266Z",
     "shell.execute_reply": "2021-09-24T04:52:54.901234Z"
    },
    "papermill": {
     "duration": 0.064555,
     "end_time": "2021-09-24T04:52:54.902368",
     "exception": false,
     "start_time": "2021-09-24T04:52:54.837813",
     "status": "completed"
    },
    "tags": []
   },
   "outputs": [
    {
     "data": {
      "text/html": [
       "<style>\n",
       ".list-inline {list-style: none; margin:0; padding: 0}\n",
       ".list-inline>li {display: inline-block}\n",
       ".list-inline>li:not(:last-child)::after {content: \"\\00b7\"; padding: 0 .5ex}\n",
       "</style>\n",
       "<ol class=list-inline><li>'Adipose (sc)'</li><li>'Esophagus (gej)'</li><li>'Esophagus (m)'</li><li>'Small intestine'</li><li>'Tibial nerve'</li><li>'Fibroblasts'</li><li>'Hippocampus'</li><li>'Nucleus accumbens'</li><li>'Skeletal muscle'</li><li>'Skin (exposed)'</li><li>'Aorta'</li><li>'EBV-lymphocytes'</li><li>'Hypothalamus'</li><li>'Pancreas'</li><li>'Thyroid'</li><li>'Transverse colon'</li><li>'Liver'</li><li>'Putamen'</li><li>'Spleen'</li><li>'Pituitary'</li><li>'Stomach'</li><li>'Adipose (v)'</li><li>'Cerebellar hemisphere'</li><li>'Esophagus (mu)'</li><li>'Cerebellum'</li><li>'Cortex'</li><li>'Sigmoid colon'</li><li>'Breast'</li></ol>\n"
      ],
      "text/latex": [
       "\\begin{enumerate*}\n",
       "\\item 'Adipose (sc)'\n",
       "\\item 'Esophagus (gej)'\n",
       "\\item 'Esophagus (m)'\n",
       "\\item 'Small intestine'\n",
       "\\item 'Tibial nerve'\n",
       "\\item 'Fibroblasts'\n",
       "\\item 'Hippocampus'\n",
       "\\item 'Nucleus accumbens'\n",
       "\\item 'Skeletal muscle'\n",
       "\\item 'Skin (exposed)'\n",
       "\\item 'Aorta'\n",
       "\\item 'EBV-lymphocytes'\n",
       "\\item 'Hypothalamus'\n",
       "\\item 'Pancreas'\n",
       "\\item 'Thyroid'\n",
       "\\item 'Transverse colon'\n",
       "\\item 'Liver'\n",
       "\\item 'Putamen'\n",
       "\\item 'Spleen'\n",
       "\\item 'Pituitary'\n",
       "\\item 'Stomach'\n",
       "\\item 'Adipose (v)'\n",
       "\\item 'Cerebellar hemisphere'\n",
       "\\item 'Esophagus (mu)'\n",
       "\\item 'Cerebellum'\n",
       "\\item 'Cortex'\n",
       "\\item 'Sigmoid colon'\n",
       "\\item 'Breast'\n",
       "\\end{enumerate*}\n"
      ],
      "text/markdown": [
       "1. 'Adipose (sc)'\n",
       "2. 'Esophagus (gej)'\n",
       "3. 'Esophagus (m)'\n",
       "4. 'Small intestine'\n",
       "5. 'Tibial nerve'\n",
       "6. 'Fibroblasts'\n",
       "7. 'Hippocampus'\n",
       "8. 'Nucleus accumbens'\n",
       "9. 'Skeletal muscle'\n",
       "10. 'Skin (exposed)'\n",
       "11. 'Aorta'\n",
       "12. 'EBV-lymphocytes'\n",
       "13. 'Hypothalamus'\n",
       "14. 'Pancreas'\n",
       "15. 'Thyroid'\n",
       "16. 'Transverse colon'\n",
       "17. 'Liver'\n",
       "18. 'Putamen'\n",
       "19. 'Spleen'\n",
       "20. 'Pituitary'\n",
       "21. 'Stomach'\n",
       "22. 'Adipose (v)'\n",
       "23. 'Cerebellar hemisphere'\n",
       "24. 'Esophagus (mu)'\n",
       "25. 'Cerebellum'\n",
       "26. 'Cortex'\n",
       "27. 'Sigmoid colon'\n",
       "28. 'Breast'\n",
       "\n",
       "\n"
      ],
      "text/plain": [
       " [1] \"Adipose (sc)\"          \"Esophagus (gej)\"       \"Esophagus (m)\"        \n",
       " [4] \"Small intestine\"       \"Tibial nerve\"          \"Fibroblasts\"          \n",
       " [7] \"Hippocampus\"           \"Nucleus accumbens\"     \"Skeletal muscle\"      \n",
       "[10] \"Skin (exposed)\"        \"Aorta\"                 \"EBV-lymphocytes\"      \n",
       "[13] \"Hypothalamus\"          \"Pancreas\"              \"Thyroid\"              \n",
       "[16] \"Transverse colon\"      \"Liver\"                 \"Putamen\"              \n",
       "[19] \"Spleen\"                \"Pituitary\"             \"Stomach\"              \n",
       "[22] \"Adipose (v)\"           \"Cerebellar hemisphere\" \"Esophagus (mu)\"       \n",
       "[25] \"Cerebellum\"            \"Cortex\"                \"Sigmoid colon\"        \n",
       "[28] \"Breast\"               "
      ]
     },
     "metadata": {},
     "output_type": "display_data"
    }
   ],
   "source": [
    "totals <- read.table(\"../data/Total_AS_by_tissue.tsv\", sep = \"\\t\", header = T)\n",
    "\n",
    "colnames(totals) <- c(\"Tissue\", \"Total\")\n",
    "totals_s <- totals %>% arrange(Total)\n",
    "totals_s$Tissue <- factor(totals_s$Tissue, levels = totals_s$Tissue)\n",
    "levels(totals_s$Tissue)"
   ]
  },
  {
   "cell_type": "markdown",
   "id": "63e6236f",
   "metadata": {
    "papermill": {
     "duration": 0.004756,
     "end_time": "2021-09-24T04:52:54.912037",
     "exception": false,
     "start_time": "2021-09-24T04:52:54.907281",
     "status": "completed"
    },
    "tags": []
   },
   "source": [
    "## 3 create a function to be used by ggplot to create a reverse log10 scale for the x-axis"
   ]
  },
  {
   "cell_type": "code",
   "execution_count": 3,
   "id": "04e2acee",
   "metadata": {
    "execution": {
     "iopub.execute_input": "2021-09-24T04:52:54.924880Z",
     "iopub.status.busy": "2021-09-24T04:52:54.923742Z",
     "iopub.status.idle": "2021-09-24T04:52:54.932581Z",
     "shell.execute_reply": "2021-09-24T04:52:54.931552Z"
    },
    "lines_to_next_cell": 2,
    "papermill": {
     "duration": 0.015971,
     "end_time": "2021-09-24T04:52:54.932664",
     "exception": false,
     "start_time": "2021-09-24T04:52:54.916693",
     "status": "completed"
    },
    "tags": []
   },
   "outputs": [],
   "source": [
    "reverselog_trans <- function(base = exp(1)) {\n",
    "  trans <- function(x) -log(x, base)\n",
    "  inv <- function(x) base^(-x)\n",
    "  trans_new(paste0(\"reverselog-\", format(base)), trans, inv, \n",
    "            log_breaks(base = base), \n",
    "            domain = c(1e-100, Inf))\n",
    "}"
   ]
  },
  {
   "cell_type": "code",
   "execution_count": 4,
   "id": "998788cf",
   "metadata": {
    "execution": {
     "iopub.execute_input": "2021-09-24T04:52:54.945912Z",
     "iopub.status.busy": "2021-09-24T04:52:54.944735Z",
     "iopub.status.idle": "2021-09-24T04:52:55.263027Z",
     "shell.execute_reply": "2021-09-24T04:52:55.262602Z"
    },
    "papermill": {
     "duration": 0.325527,
     "end_time": "2021-09-24T04:52:55.263129",
     "exception": false,
     "start_time": "2021-09-24T04:52:54.937602",
     "status": "completed"
    },
    "tags": []
   },
   "outputs": [
    {
     "data": {
      "image/png": "[encoded data removed]",
      "text/plain": [
       "plot without title"
      ]
     },
     "metadata": {
      "image/png": {
       "height": 420,
       "width": 420
      }
     },
     "output_type": "display_data"
    }
   ],
   "source": [
    "g<-ggplot(totals_s, aes(y = Tissue, x = Total, size = Total)) +\n",
    "  geom_point(color = \"red\") +\n",
    "  theme_bw() +\n",
    "  scale_x_continuous(trans=reverselog_trans(), breaks=c(1,10,100,1000,5000,10000)) +#breaks=c(10000, 5000,1000,100,10,1)) +\n",
    "  scale_y_discrete(position = \"right\") +\n",
    "  theme(axis.text.x = element_text(size=8, angle = 0, hjust = 0.0, vjust = 0.5),\n",
    "        axis.text.y = element_text(size=8),\n",
    "        axis.title.x = element_text(face=\"plain\", colour=\"black\", \n",
    "                                    size=10),\n",
    "        axis.title.y = element_blank(),\n",
    "        legend.title=element_blank(),\n",
    "        legend.text = element_text(face=\"plain\", colour=\"black\", \n",
    "                                   size=8)) +\n",
    "  xlab(paste(\"Number of sex-biased splicing events\")) +\n",
    "  ylab(\"Tissue\") + \n",
    "  guides(size=FALSE)\n",
    "\n",
    "g\n",
    "ggsave(\"../pdf/total_as_by_tissue.pdf\",g, height = 4.5, width = 4)"
   ]
  },
  {
   "cell_type": "markdown",
   "id": "4e363ae2",
   "metadata": {
    "papermill": {
     "duration": 0.006406,
     "end_time": "2021-09-24T04:52:55.276093",
     "exception": false,
     "start_time": "2021-09-24T04:52:55.269687",
     "status": "completed"
    },
    "tags": []
   },
   "source": [
    "## Appendix - Metadata\n",
    "\n",
    "For replicability and reproducibility purposes, we also print the following metadata:\n",
    "\n",
    "### Appendix.1. Checksums with the sha256 algorithm\n",
    "1. Checksums of **'artefacts'**, files generated during the analysis and stored in the folder directory **`data`**\n",
    "2. List of environment metadata, dependencies, versions of libraries using `utils::sessionInfo()` and [`devtools::session_info()`](https://devtools.r-lib.org/reference/session_info.html)"
   ]
  },
  {
   "cell_type": "code",
   "execution_count": 5,
   "id": "975ad541",
   "metadata": {
    "execution": {
     "iopub.execute_input": "2021-09-24T04:52:55.292461Z",
     "iopub.status.busy": "2021-09-24T04:52:55.291418Z",
     "iopub.status.idle": "2021-09-24T04:52:55.300900Z",
     "shell.execute_reply": "2021-09-24T04:52:55.299936Z"
    },
    "papermill": {
     "duration": 0.018405,
     "end_time": "2021-09-24T04:52:55.300989",
     "exception": false,
     "start_time": "2021-09-24T04:52:55.282584",
     "status": "completed"
    },
    "tags": []
   },
   "outputs": [],
   "source": [
    "figure_id   = \"totalAlternativeSplicingByTissue\""
   ]
  },
  {
   "cell_type": "markdown",
   "id": "e2511188",
   "metadata": {
    "papermill": {
     "duration": 0.006368,
     "end_time": "2021-09-24T04:52:55.313728",
     "exception": false,
     "start_time": "2021-09-24T04:52:55.307360",
     "status": "completed"
    },
    "tags": []
   },
   "source": [
    "### Appendix.2. Library metadata"
   ]
  },
  {
   "cell_type": "code",
   "execution_count": 6,
   "id": "ebe9fd2f",
   "metadata": {
    "execution": {
     "iopub.execute_input": "2021-09-24T04:52:55.329988Z",
     "iopub.status.busy": "2021-09-24T04:52:55.328795Z",
     "iopub.status.idle": "2021-09-24T04:52:55.881811Z",
     "shell.execute_reply": "2021-09-24T04:52:55.880800Z"
    },
    "papermill": {
     "duration": 0.561845,
     "end_time": "2021-09-24T04:52:55.881919",
     "exception": false,
     "start_time": "2021-09-24T04:52:55.320074",
     "status": "completed"
    },
    "tags": []
   },
   "outputs": [
    {
     "name": "stderr",
     "output_type": "stream",
     "text": [
      "Saving `devtools::session_info()` objects in ../data/devtools_session_info.rds  ..\n",
      "\n"
     ]
    },
    {
     "name": "stderr",
     "output_type": "stream",
     "text": [
      "Done!\n",
      "\n",
      "\n"
     ]
    },
    {
     "name": "stderr",
     "output_type": "stream",
     "text": [
      "Saving `utils::sessionInfo()` objects in ../data/utils_session_info.rds  ..\n",
      "\n"
     ]
    },
    {
     "name": "stderr",
     "output_type": "stream",
     "text": [
      "Done!\n",
      "\n",
      "\n"
     ]
    },
    {
     "data": {
      "text/plain": [
       " setting  value                       \n",
       " version  R version 4.1.1 (2021-08-10)\n",
       " os       Ubuntu 18.04.4 LTS          \n",
       " system   x86_64, linux-gnu           \n",
       " ui       X11                         \n",
       " language en_US.UTF-8                 \n",
       " collate  en_US.UTF-8                 \n",
       " ctype    en_US.UTF-8                 \n",
       " tz       Etc/UTC                     \n",
       " date     2021-09-24                  "
      ]
     },
     "metadata": {},
     "output_type": "display_data"
    },
    {
     "data": {
      "text/html": [
       "<table class=\"dataframe\">\n",
       "<caption>A packages_info: 7 × 11</caption>\n",
       "<thead>\n",
       "\t<tr><th></th><th scope=col>package</th><th scope=col>ondiskversion</th><th scope=col>loadedversion</th><th scope=col>path</th><th scope=col>loadedpath</th><th scope=col>attached</th><th scope=col>is_base</th><th scope=col>date</th><th scope=col>source</th><th scope=col>md5ok</th><th scope=col>library</th></tr>\n",
       "\t<tr><th></th><th scope=col>&lt;chr&gt;</th><th scope=col>&lt;chr&gt;</th><th scope=col>&lt;chr&gt;</th><th scope=col>&lt;chr&gt;</th><th scope=col>&lt;chr&gt;</th><th scope=col>&lt;lgl&gt;</th><th scope=col>&lt;lgl&gt;</th><th scope=col>&lt;chr&gt;</th><th scope=col>&lt;chr&gt;</th><th scope=col>&lt;lgl&gt;</th><th scope=col>&lt;fct&gt;</th></tr>\n",
       "</thead>\n",
       "<tbody>\n",
       "\t<tr><th scope=row>dplyr</th><td>dplyr      </td><td>1.0.7</td><td>1.0.7</td><td>/opt/conda/envs/sbas/lib/R/library/dplyr      </td><td>/opt/conda/envs/sbas/lib/R/library/dplyr      </td><td>TRUE</td><td>FALSE</td><td>2021-06-18</td><td>CRAN (R 4.1.0)</td><td>NA</td><td>/opt/conda/envs/sbas/lib/R/library</td></tr>\n",
       "\t<tr><th scope=row>ggplot2</th><td>ggplot2    </td><td>3.3.5</td><td>3.3.5</td><td>/opt/conda/envs/sbas/lib/R/library/ggplot2    </td><td>/opt/conda/envs/sbas/lib/R/library/ggplot2    </td><td>TRUE</td><td>FALSE</td><td>2021-06-25</td><td>CRAN (R 4.1.0)</td><td>NA</td><td>/opt/conda/envs/sbas/lib/R/library</td></tr>\n",
       "\t<tr><th scope=row>magrittr</th><td>magrittr   </td><td>2.0.1</td><td>2.0.1</td><td>/opt/conda/envs/sbas/lib/R/library/magrittr   </td><td>/opt/conda/envs/sbas/lib/R/library/magrittr   </td><td>TRUE</td><td>FALSE</td><td>2020-11-17</td><td>CRAN (R 4.1.0)</td><td>NA</td><td>/opt/conda/envs/sbas/lib/R/library</td></tr>\n",
       "\t<tr><th scope=row>scales</th><td>scales     </td><td>1.1.1</td><td>1.1.1</td><td>/opt/conda/envs/sbas/lib/R/library/scales     </td><td>/opt/conda/envs/sbas/lib/R/library/scales     </td><td>TRUE</td><td>FALSE</td><td>2020-05-11</td><td>CRAN (R 4.1.0)</td><td>NA</td><td>/opt/conda/envs/sbas/lib/R/library</td></tr>\n",
       "\t<tr><th scope=row>stringr</th><td>stringr    </td><td>1.4.0</td><td>1.4.0</td><td>/opt/conda/envs/sbas/lib/R/library/stringr    </td><td>/opt/conda/envs/sbas/lib/R/library/stringr    </td><td>TRUE</td><td>FALSE</td><td>2019-02-10</td><td>CRAN (R 4.1.0)</td><td>NA</td><td>/opt/conda/envs/sbas/lib/R/library</td></tr>\n",
       "\t<tr><th scope=row>viridis</th><td>viridis    </td><td>0.6.1</td><td>0.6.1</td><td>/opt/conda/envs/sbas/lib/R/library/viridis    </td><td>/opt/conda/envs/sbas/lib/R/library/viridis    </td><td>TRUE</td><td>FALSE</td><td>2021-05-11</td><td>CRAN (R 4.1.0)</td><td>NA</td><td>/opt/conda/envs/sbas/lib/R/library</td></tr>\n",
       "\t<tr><th scope=row>viridisLite</th><td>viridisLite</td><td>0.4.0</td><td>0.4.0</td><td>/opt/conda/envs/sbas/lib/R/library/viridisLite</td><td>/opt/conda/envs/sbas/lib/R/library/viridisLite</td><td>TRUE</td><td>FALSE</td><td>2021-04-13</td><td>CRAN (R 4.1.0)</td><td>NA</td><td>/opt/conda/envs/sbas/lib/R/library</td></tr>\n",
       "</tbody>\n",
       "</table>\n"
      ],
      "text/latex": [
       "A packages\\_info: 7 × 11\n",
       "\\begin{tabular}{r|lllllllllll}\n",
       "  & package & ondiskversion & loadedversion & path & loadedpath & attached & is\\_base & date & source & md5ok & library\\\\\n",
       "  & <chr> & <chr> & <chr> & <chr> & <chr> & <lgl> & <lgl> & <chr> & <chr> & <lgl> & <fct>\\\\\n",
       "\\hline\n",
       "\tdplyr & dplyr       & 1.0.7 & 1.0.7 & /opt/conda/envs/sbas/lib/R/library/dplyr       & /opt/conda/envs/sbas/lib/R/library/dplyr       & TRUE & FALSE & 2021-06-18 & CRAN (R 4.1.0) & NA & /opt/conda/envs/sbas/lib/R/library\\\\\n",
       "\tggplot2 & ggplot2     & 3.3.5 & 3.3.5 & /opt/conda/envs/sbas/lib/R/library/ggplot2     & /opt/conda/envs/sbas/lib/R/library/ggplot2     & TRUE & FALSE & 2021-06-25 & CRAN (R 4.1.0) & NA & /opt/conda/envs/sbas/lib/R/library\\\\\n",
       "\tmagrittr & magrittr    & 2.0.1 & 2.0.1 & /opt/conda/envs/sbas/lib/R/library/magrittr    & /opt/conda/envs/sbas/lib/R/library/magrittr    & TRUE & FALSE & 2020-11-17 & CRAN (R 4.1.0) & NA & /opt/conda/envs/sbas/lib/R/library\\\\\n",
       "\tscales & scales      & 1.1.1 & 1.1.1 & /opt/conda/envs/sbas/lib/R/library/scales      & /opt/conda/envs/sbas/lib/R/library/scales      & TRUE & FALSE & 2020-05-11 & CRAN (R 4.1.0) & NA & /opt/conda/envs/sbas/lib/R/library\\\\\n",
       "\tstringr & stringr     & 1.4.0 & 1.4.0 & /opt/conda/envs/sbas/lib/R/library/stringr     & /opt/conda/envs/sbas/lib/R/library/stringr     & TRUE & FALSE & 2019-02-10 & CRAN (R 4.1.0) & NA & /opt/conda/envs/sbas/lib/R/library\\\\\n",
       "\tviridis & viridis     & 0.6.1 & 0.6.1 & /opt/conda/envs/sbas/lib/R/library/viridis     & /opt/conda/envs/sbas/lib/R/library/viridis     & TRUE & FALSE & 2021-05-11 & CRAN (R 4.1.0) & NA & /opt/conda/envs/sbas/lib/R/library\\\\\n",
       "\tviridisLite & viridisLite & 0.4.0 & 0.4.0 & /opt/conda/envs/sbas/lib/R/library/viridisLite & /opt/conda/envs/sbas/lib/R/library/viridisLite & TRUE & FALSE & 2021-04-13 & CRAN (R 4.1.0) & NA & /opt/conda/envs/sbas/lib/R/library\\\\\n",
       "\\end{tabular}\n"
      ],
      "text/markdown": [
       "\n",
       "A packages_info: 7 × 11\n",
       "\n",
       "| <!--/--> | package &lt;chr&gt; | ondiskversion &lt;chr&gt; | loadedversion &lt;chr&gt; | path &lt;chr&gt; | loadedpath &lt;chr&gt; | attached &lt;lgl&gt; | is_base &lt;lgl&gt; | date &lt;chr&gt; | source &lt;chr&gt; | md5ok &lt;lgl&gt; | library &lt;fct&gt; |\n",
       "|---|---|---|---|---|---|---|---|---|---|---|---|\n",
       "| dplyr | dplyr       | 1.0.7 | 1.0.7 | /opt/conda/envs/sbas/lib/R/library/dplyr       | /opt/conda/envs/sbas/lib/R/library/dplyr       | TRUE | FALSE | 2021-06-18 | CRAN (R 4.1.0) | NA | /opt/conda/envs/sbas/lib/R/library |\n",
       "| ggplot2 | ggplot2     | 3.3.5 | 3.3.5 | /opt/conda/envs/sbas/lib/R/library/ggplot2     | /opt/conda/envs/sbas/lib/R/library/ggplot2     | TRUE | FALSE | 2021-06-25 | CRAN (R 4.1.0) | NA | /opt/conda/envs/sbas/lib/R/library |\n",
       "| magrittr | magrittr    | 2.0.1 | 2.0.1 | /opt/conda/envs/sbas/lib/R/library/magrittr    | /opt/conda/envs/sbas/lib/R/library/magrittr    | TRUE | FALSE | 2020-11-17 | CRAN (R 4.1.0) | NA | /opt/conda/envs/sbas/lib/R/library |\n",
       "| scales | scales      | 1.1.1 | 1.1.1 | /opt/conda/envs/sbas/lib/R/library/scales      | /opt/conda/envs/sbas/lib/R/library/scales      | TRUE | FALSE | 2020-05-11 | CRAN (R 4.1.0) | NA | /opt/conda/envs/sbas/lib/R/library |\n",
       "| stringr | stringr     | 1.4.0 | 1.4.0 | /opt/conda/envs/sbas/lib/R/library/stringr     | /opt/conda/envs/sbas/lib/R/library/stringr     | TRUE | FALSE | 2019-02-10 | CRAN (R 4.1.0) | NA | /opt/conda/envs/sbas/lib/R/library |\n",
       "| viridis | viridis     | 0.6.1 | 0.6.1 | /opt/conda/envs/sbas/lib/R/library/viridis     | /opt/conda/envs/sbas/lib/R/library/viridis     | TRUE | FALSE | 2021-05-11 | CRAN (R 4.1.0) | NA | /opt/conda/envs/sbas/lib/R/library |\n",
       "| viridisLite | viridisLite | 0.4.0 | 0.4.0 | /opt/conda/envs/sbas/lib/R/library/viridisLite | /opt/conda/envs/sbas/lib/R/library/viridisLite | TRUE | FALSE | 2021-04-13 | CRAN (R 4.1.0) | NA | /opt/conda/envs/sbas/lib/R/library |\n",
       "\n"
      ],
      "text/plain": [
       "            package     ondiskversion loadedversion\n",
       "dplyr       dplyr       1.0.7         1.0.7        \n",
       "ggplot2     ggplot2     3.3.5         3.3.5        \n",
       "magrittr    magrittr    2.0.1         2.0.1        \n",
       "scales      scales      1.1.1         1.1.1        \n",
       "stringr     stringr     1.4.0         1.4.0        \n",
       "viridis     viridis     0.6.1         0.6.1        \n",
       "viridisLite viridisLite 0.4.0         0.4.0        \n",
       "            path                                          \n",
       "dplyr       /opt/conda/envs/sbas/lib/R/library/dplyr      \n",
       "ggplot2     /opt/conda/envs/sbas/lib/R/library/ggplot2    \n",
       "magrittr    /opt/conda/envs/sbas/lib/R/library/magrittr   \n",
       "scales      /opt/conda/envs/sbas/lib/R/library/scales     \n",
       "stringr     /opt/conda/envs/sbas/lib/R/library/stringr    \n",
       "viridis     /opt/conda/envs/sbas/lib/R/library/viridis    \n",
       "viridisLite /opt/conda/envs/sbas/lib/R/library/viridisLite\n",
       "            loadedpath                                     attached is_base\n",
       "dplyr       /opt/conda/envs/sbas/lib/R/library/dplyr       TRUE     FALSE  \n",
       "ggplot2     /opt/conda/envs/sbas/lib/R/library/ggplot2     TRUE     FALSE  \n",
       "magrittr    /opt/conda/envs/sbas/lib/R/library/magrittr    TRUE     FALSE  \n",
       "scales      /opt/conda/envs/sbas/lib/R/library/scales      TRUE     FALSE  \n",
       "stringr     /opt/conda/envs/sbas/lib/R/library/stringr     TRUE     FALSE  \n",
       "viridis     /opt/conda/envs/sbas/lib/R/library/viridis     TRUE     FALSE  \n",
       "viridisLite /opt/conda/envs/sbas/lib/R/library/viridisLite TRUE     FALSE  \n",
       "            date       source         md5ok library                           \n",
       "dplyr       2021-06-18 CRAN (R 4.1.0) NA    /opt/conda/envs/sbas/lib/R/library\n",
       "ggplot2     2021-06-25 CRAN (R 4.1.0) NA    /opt/conda/envs/sbas/lib/R/library\n",
       "magrittr    2020-11-17 CRAN (R 4.1.0) NA    /opt/conda/envs/sbas/lib/R/library\n",
       "scales      2020-05-11 CRAN (R 4.1.0) NA    /opt/conda/envs/sbas/lib/R/library\n",
       "stringr     2019-02-10 CRAN (R 4.1.0) NA    /opt/conda/envs/sbas/lib/R/library\n",
       "viridis     2021-05-11 CRAN (R 4.1.0) NA    /opt/conda/envs/sbas/lib/R/library\n",
       "viridisLite 2021-04-13 CRAN (R 4.1.0) NA    /opt/conda/envs/sbas/lib/R/library"
      ]
     },
     "metadata": {},
     "output_type": "display_data"
    }
   ],
   "source": [
    "dev_session_info   <- devtools::session_info()\n",
    "utils_session_info <- utils::sessionInfo()\n",
    "\n",
    "message(\"Saving `devtools::session_info()` objects in ../data/devtools_session_info.rds  ..\")\n",
    "saveRDS(dev_session_info, file = paste0(\"../data/\", figure_id, \"_devtools_session_info.rds\"))\n",
    "message(\"Done!\\n\")\n",
    "\n",
    "message(\"Saving `utils::sessionInfo()` objects in ../data/utils_session_info.rds  ..\")\n",
    "saveRDS(utils_session_info, file = paste0(\"../data/\", figure_id ,\"_utils_info.rds\"))\n",
    "message(\"Done!\\n\")\n",
    "\n",
    "dev_session_info$platform\n",
    "dev_session_info$packages[dev_session_info$packages$attached==TRUE, ]"
   ]
  }
 ],
 "metadata": {
  "jupytext": {
   "encoding": "# -*- coding: utf-8 -*-"
  },
  "kernelspec": {
   "display_name": "R",
   "language": "R",
   "name": "ir"
  },
  "language_info": {
   "codemirror_mode": "r",
   "file_extension": ".r",
   "mimetype": "text/x-r-source",
   "name": "R",
   "pygments_lexer": "r",
   "version": "4.1.1"
  },
  "papermill": {
   "duration": 2.406163,
   "end_time": "2021-09-24T04:52:55.997340",
   "environment_variables": {},
   "exception": null,
   "input_path": "totalAlternativeSplicingByTissue.ipynb",
   "output_path": "totalAlternativeSplicingByTissue.ipynb",
   "parameters": {},
   "start_time": "2021-09-24T04:52:53.591177",
   "version": "2.1.2"
  }
 },
 "nbformat": 4,
 "nbformat_minor": 5
}