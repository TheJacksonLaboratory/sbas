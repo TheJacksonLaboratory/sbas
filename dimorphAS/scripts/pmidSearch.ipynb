{
 "cells": [
  {
   "cell_type": "markdown",
   "metadata": {},
   "source": [
    "<h1>eUtil script for searching for genes with known alternative splicing isoforms</h1>"
   ]
  },
  {
   "cell_type": "code",
   "execution_count": 2,
   "metadata": {},
   "outputs": [
    {
     "ename": "ModuleNotFoundError",
     "evalue": "No module named 'Bio'",
     "output_type": "error",
     "traceback": [
      "\u001b[0;31m---------------------------------------------------------------------------\u001b[0m",
      "\u001b[0;31mModuleNotFoundError\u001b[0m                       Traceback (most recent call last)",
      "\u001b[0;32m<ipython-input-2-09a32b419e19>\u001b[0m in \u001b[0;36m<module>\u001b[0;34m()\u001b[0m\n\u001b[0;32m----> 1\u001b[0;31m \u001b[0;32mfrom\u001b[0m \u001b[0mBio\u001b[0m \u001b[0;32mimport\u001b[0m \u001b[0mEntrez\u001b[0m\u001b[0;34m\u001b[0m\u001b[0m\n\u001b[0m\u001b[1;32m      2\u001b[0m \u001b[0;32mimport\u001b[0m \u001b[0mxmltodict\u001b[0m\u001b[0;34m\u001b[0m\u001b[0m\n\u001b[1;32m      3\u001b[0m \u001b[0;32mimport\u001b[0m \u001b[0mpandas\u001b[0m \u001b[0;32mas\u001b[0m \u001b[0mpd\u001b[0m\u001b[0;34m\u001b[0m\u001b[0m\n\u001b[1;32m      4\u001b[0m \u001b[0;32mimport\u001b[0m \u001b[0mnumpy\u001b[0m \u001b[0;32mas\u001b[0m \u001b[0mnp\u001b[0m\u001b[0;34m\u001b[0m\u001b[0m\n",
      "\u001b[0;31mModuleNotFoundError\u001b[0m: No module named 'Bio'"
     ]
    }
   ],
   "source": [
    "from Bio import Entrez \n",
    "import xmltodict\n",
    "import pandas as pd\n",
    "import numpy as np\n",
    "import json\n",
    "import pprint"
   ]
  },
  {
   "cell_type": "code",
   "execution_count": 30,
   "metadata": {},
   "outputs": [],
   "source": [
    "#to avoid anaonymous requests, adjust as needed\n",
    "Entrez.email = \"my@email.eu\""
   ]
  },
  {
   "cell_type": "code",
   "execution_count": 43,
   "metadata": {},
   "outputs": [],
   "source": [
    "class DictQuery(dict):\n",
    "    def get(self, path, default = None):\n",
    "        keys = path.split(\"/\")\n",
    "        val = None\n",
    "\n",
    "        for key in keys:\n",
    "            if val:\n",
    "                if isinstance(val, list):\n",
    "                    val = [ v.get(key, default) if v else None for v in val]\n",
    "                else:\n",
    "                    val = val.get(key, default)\n",
    "            else:\n",
    "                val = dict.get(self, key, default)\n",
    "\n",
    "            if not val:\n",
    "                break;\n",
    "\n",
    "        return val"
   ]
  },
  {
   "cell_type": "code",
   "execution_count": 44,
   "metadata": {},
   "outputs": [],
   "source": [
    "def search(query):\n",
    "    handle = Entrez.esearch(db='pubmed', \n",
    "                            sort='relevance', \n",
    "                            retmax='2',\n",
    "                            retmode='xml', \n",
    "                            term=query)\n",
    "    results = Entrez.read(handle)\n",
    "    return results"
   ]
  },
  {
   "cell_type": "code",
   "execution_count": 45,
   "metadata": {},
   "outputs": [],
   "source": [
    "def fetch_details(id_list):\n",
    "    ids = ','.join(id_list)\n",
    "    handle = Entrez.efetch(db='pubmed',\n",
    "                           retmode='xml',\n",
    "                           id=ids)\n",
    "    results = Entrez.read(handle)\n",
    "    return results"
   ]
  },
  {
   "cell_type": "code",
   "execution_count": 47,
   "metadata": {},
   "outputs": [],
   "source": [
    "def print_paper(paper):\n",
    "    for item in paper:\n",
    "        print ( DictQuery(item).get(\"MedlineCitation/Article/Abstract/AbstractText\") )"
   ]
  },
  {
   "cell_type": "code",
   "execution_count": 56,
   "metadata": {},
   "outputs": [
    {
     "name": "stdout",
     "output_type": "stream",
     "text": [
      "[]\n"
     ]
    }
   ],
   "source": [
    "results = search('FBN1 and \\'alternative splicing\\'')\n",
    "id_list = results['IdList']\n",
    "pp = pprint.PrettyPrinter(indent=4)\n",
    "print(id_list)\n",
    "for id in id_list:\n",
    "    print(\"PMID=\",id)\n",
    "    paper = fetch_details(id_list)\n",
    "    pp.pprint(paper)\n",
    "    for item in paper:\n",
    "        if item=='PubmedArticle':\n",
    "            print(\"item\")\n",
    "            for it2 in item[0]:\n",
    "                if it2=='MedlineCitation':\n",
    "                    print(\"it2\",it2)\n",
    "    \n",
    "#for i, paper in enumerate(papers):\n",
    "    #print(\"%d) %s\" % (i+1, paper['MedlineCitation']['Article']['ArticleTitle']))\n",
    "    # Pretty print the first paper in full to observe its structure\n",
    "    #\n",
    "#print(json.dumps(papers[0], indent=2, separators=(',', ':')))\n",
    "#print(papers)\n",
    "   # for i, paper in enumerate(papers):\n",
    "    #    print(json.dumps(paper, indent=2, separators=(',', ':')))"
   ]
  },
  {
   "cell_type": "code",
   "execution_count": null,
   "metadata": {},
   "outputs": [],
   "source": []
  }
 ],
 "metadata": {
  "kernelspec": {
   "display_name": "Python 3",
   "language": "python",
   "name": "python3"
  },
  "language_info": {
   "codemirror_mode": {
    "name": "ipython",
    "version": 3
   },
   "file_extension": ".py",
   "mimetype": "text/x-python",
   "name": "python",
   "nbconvert_exporter": "python",
   "pygments_lexer": "ipython3",
   "version": "3.6.5"
  }
 },
 "nbformat": 4,
 "nbformat_minor": 2
}
