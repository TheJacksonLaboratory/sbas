{
 "cells": [
  {
   "cell_type": "markdown",
   "metadata": {},
   "source": [
    "<h1>Explanation for script to characterize differential allelic representation in Chip seq peaks</h1>\n",
    "<p>We will provide a python script with defined inputs and outputs that can be run from the command line. This notebook is\n",
    "intended to help with developing and explaining the script.</p>"
   ]
  },
  {
   "cell_type": "code",
   "execution_count": 2,
   "metadata": {},
   "outputs": [],
   "source": [
    "# This module allows us to run samtools in a separate process\n",
    "import subprocess\n",
    "from scipy.stats import binom"
   ]
  },
  {
   "cell_type": "code",
   "execution_count": 3,
   "metadata": {},
   "outputs": [],
   "source": [
    "#In the script, the path to the BAM and BED files will be passed on the command line\n",
    "#We need the corresponding FASTA file to show the reference base in column 3 of the pileup! Important!\n",
    "bam_dir='/home/robinp/data/helium/'\n",
    "bam_path=bam_dir + 'SRR7413398_1_sorted.bam'\n",
    "bed_path=bam_dir + 'SRR7413398_1_sorted-Q-narrowPeak.bed'\n",
    "fasta_dir='/home/robinp/data/ucsc/hg38/'\n",
    "fasta_path=fasta_dir+ 'hg38.fa'"
   ]
  },
  {
   "cell_type": "markdown",
   "metadata": {},
   "source": [
    "<h2>Running samtools mpileup</h2>\n",
    "<p>The following subprocess call runs samtools with the pileup option. The output is identical as if we had started samtools from the command line.</p>"
   ]
  },
  {
   "cell_type": "code",
   "execution_count": 4,
   "metadata": {},
   "outputs": [],
   "source": [
    "command=[\"samtools\", \"mpileup\",\"--positions\",bed_path,\"-f\",fasta_path,bam_path]\n",
    "command=[\"samtools\", \"mpileup\",\"-f\",fasta_path,bam_path]\n",
    "proc=subprocess.Popen(command, stdout=subprocess.PIPE, stderr=subprocess.STDOUT,encoding=\"utf-8\" )\n",
    "output, err = proc.communicate()\n",
    "#print (output) Do not uncomment for full pileup files!"
   ]
  },
  {
   "cell_type": "markdown",
   "metadata": {},
   "source": [
    "<h2>mpileup format</h2>\n",
    "<p>The mpileup format is defined in the online samtools documentation. We wrote an intuitive introduction in our computational\n",
    "exome/genome analysis book, page 431. This Python script will read the lines of the pileup one by one and perform statistical analysis on them, and \n",
    "report the results to a file. I am including a few explanations of the pileup format here.</p>\n",
    "\n",
    "my_chromosome\t3\tC\t15\t..........^F.^F.^F.^F.^F.\tEEEEE>>>>>EEEEE\n",
    "my_chromosome\t44\tG\t130\t.$.$.$.$.$.............................................................................................................................\tBBBBBUUUUU_____aaaaaaaaaaaaaaaaaaaaaaaaaaaaaaaaaaaaaaaaaaaaaaaaaaaaaaaaaaaaaaaaaaaaaaaaaaaaaaaaaaaaaaaaaaaaaaaaaaaaaaaaaaaaaaaaaaa\n",
    "\n",
    "<p>The format is:\n",
    "<ol>\n",
    "<li>name of chromosome/reference</li>\n",
    "<li>1-based position on chromosome</li>\n",
    "<li>the reference base</p>\n",
    "<li>The number of reads covering the base</li>\n",
    "<li>The read bases</li>\n",
    "<li>the qualities</li>\n",
    "</ol>\n",
    "</pre>\n",
    "<p>Note that <tt>..........^F.^F.^F.^F.^F.</tt> means that all 15 bases were reference (the dot). Note that a comma means a reference match on the reverse strand. An upper-case character means there is a mismiatch on the forward strand and a lower case means a mismatch on the reverse strand.\n",
    "According to the standard ^[c] means that the base was at the start of the read (where c is the mapping quality, e.g., ^F for quaoity F). </p>\n",
    "<p>Similarly, $ means the base was at the end of the read. We can just ignore this.</p>\n",
    "<p> + means an insertion between the reference base and the following reference base. The '+' is followed by a string to specify the inserted nucleotides (e.g., +4AGTG)</p>\n",
    "<p>- means a deletiuon from the reference sequence. It is followed by a string to specify the deleted nucleotides, e.g., -4GTGT. </p>\n",
    "<p>*, then it is a deleted base in a multiple base pair deletion that was previous specified using the - notation.</p>"
   ]
  },
  {
   "cell_type": "code",
   "execution_count": null,
   "metadata": {},
   "outputs": [],
   "source": [
    "def process_pileup_line(ar):\n",
    "    chrom=ar[0]\n",
    "    pos=ar[1]\n",
    "    refbase=ar[2]\n",
    "    depth=int(ar[3])\n",
    "    pup=ar[4]\n",
    "    #ignore qualities\n",
    "    ref_count=0\n",
    "    alt_a=0\n",
    "    alt_c=0\n",
    "    alt_g=0\n",
    "    alt_t=0\n",
    "    deletion=0\n",
    "    ins=0\n",
    "    N=len(pup)\n",
    "    i=0\n",
    "    while i<N:\n",
    "        c=pup[i]\n",
    "        i=i+1 #move to next char\n",
    "        if (c=='.' or c==','):\n",
    "            ref_count=ref_count+1\n",
    "        elif (c=='^'):\n",
    "            i=i+1 #skip the next chararacter, which is the quality\n",
    "        elif (c=='A' or c=='a'):\n",
    "            alt_a=alt_a+1\n",
    "        elif (c=='C' or c=='c'):\n",
    "            alt_c=alt_c+1\n",
    "        elif (c=='G' or c=='G'):\n",
    "            alt_g=alt_g+1\n",
    "        elif (c=='T' or c=='t'):\n",
    "            alt_t=alt_t+1\n",
    "        elif (c=='+'):\n",
    "            deletion=deletion+1\n",
    "            #the next character gives the length of the deletion string\n",
    "            dellen_start=i\n",
    "            while pup[i].isDigit():\n",
    "                i=i+1\n",
    "            delnum = pup[dellen_start,i]\n",
    "            k=int(delnum)\n",
    "            i=i+k\n",
    "        elif (c=='i'):\n",
    "            ins=ins+1\n",
    "            #the next character gives the length of the deletion string\n",
    "            dellen_start=i\n",
    "            while pup[i].isDigit():\n",
    "                i=i+1\n",
    "            delnum = pup[dellen_start,i]\n",
    "            k=int(delnum)\n",
    "            i=i+k\n",
    "    nonref_count=alt_a+alt_c+alt_g+alt_t+deletion+ins\n",
    "    #print(\"depth\",depth,\"nonref\",nonref_count)\n",
    "    return [depth,ref_count,nonref_count,alt_a,alt_c,alt_g,alt_t,deletion,ins]\n",
    "            \n",
    "        "
   ]
  },
  {
   "cell_type": "markdown",
   "metadata": {},
   "source": [
    "<h2>Statistical analysis</h2>\n",
    "<p>We are interested in heterozygous variants whose frequency deviates significantly from 50% -- this could be an indication\n",
    "that the binding of the transcription factor in ChIP-seq is altered by the variant. If the affinity is increased by\n",
    "the variant, we expect more ALT reads; if the affinity is decreased, we expect more REF reads. If the affinity is not\n",
    "affected, we expect 50-50%.</p>\n",
    "<p>We will make a call for each position -- HOM-REF, HOM-ALT, HET-BAL, and HET-UNBAL. For HOM-REF, we calculate the probability of the data in the column using a probability of ALT reads of 2%, reflecting an assumed error probability of 2%. Similarlay, we calculate the proability of HOM-ALT using p=98%. For HET-BAL, we use p=50%. For HET-UNBAL, in principle the balance could be anywhere from 0-100%, but we will not be able to distinguish HOM-REF, HOM-ALT from 0% of 100%. Therefore, we make the assumption that 5%<=p<=40% and 60%<p<95%. \n",
    "\\begin{equation*}\n",
    "\\hat{g} = \\mathrm{argmax}_{g\\in \\left(\\langle a,a\\rangle,\\langle a,b\\rangle_{\\mathrm{BAL}}, \\langle a,b\\rangle_{\\mathrm{UNBAL}},\\langle b,b\\rangle\\right) }p(g|D) \n",
    "\\end{equation*}\n",
    "<p>To calculate p for HET-BAL, and HET-UNBAL, we first calculate p_raw=nonref_count/depth. We then apply the following heuristic to calculate our final p</p>\n",
    "\\begin{equation*}\n",
    "\\hat{p} = \\begin{cases}\n",
    "\\max (p_{raw},0.05) & p_{raw} \\leq 0.4 \\\\\n",
    "\\min (p_{raw},0.95) & p_{raw} \\geq 0.6 \\\\\n",
    "\\end{cases}\n",
    "\\end{equation*}\n",
    "<p>If p_raw is between 40 and 60%, then we assume that the variant is HET-BAL and do not perform an explict comparison. Also, if the number of ALT calls is less than 2, we assume that the position is HOM-REF and do not perform an explicit comparison. TODO we should also consider a certain minimum depth. For now, I will implement 10.</p>"
   ]
  },
  {
   "cell_type": "code",
   "execution_count": null,
   "metadata": {},
   "outputs": [],
   "source": [
    "def analyze_balance(depth,ref_count,nonref_count):\n",
    "    if ref_count < 2:\n",
    "        return \"B\"\n",
    "    p=float(nonref_count)/float(depth)\n",
    "    homref=binom.pmf(nonref_count,depth,0.02)\n",
    "    homalt=binom.pmf(nonref_count,depth,0.98)\n",
    "    hetbal=binom.pmf(nonref_count,depth,0.5)\n",
    "    hetunbal=0 #default in case p<60% and p>40%\n",
    "    if (p<=0.4 and p>=0.05):\n",
    "        p=max(0.05,p)\n",
    "        hetunbal=binom.pmf(nonref_count,depth,p)\n",
    "    elif (p>=0.6 and p<=0.95):\n",
    "        p=min(0.95,p)\n",
    "        hetunbal=binom.pmf(nonref_count,depth,p)\n",
    "    maxhom=max(homref,homalt) #dont care which hom\n",
    "    maxhet=max(hetbal,hetunbal)\n",
    "    #print(\"p\",p,\"homref\",homref,\"homalt\",homalt,\"hetbal\",hetbal,\"hetunbal\",hetunbal)\n",
    "    if maxhom>maxhet:\n",
    "        return \"HOM\"\n",
    "    elif hetbal>hetunbal:\n",
    "        return \"B\"\n",
    "    else:\n",
    "        return \"U\"\n",
    "        \n",
    "        "
   ]
  },
  {
   "cell_type": "code",
   "execution_count": null,
   "metadata": {},
   "outputs": [],
   "source": [
    "command=[\"samtools\", \"mpileup\",\"-f\",fasta_path,bam_path]\n",
    "proc=subprocess.Popen(command, stdout=subprocess.PIPE, stderr=subprocess.STDOUT,encoding=\"utf-8\" )\n",
    "#output, err = proc.communicate()\n",
    "# THe first two lines should be skipped\n",
    "#[mpileup] 1 samples in 1 input files\n",
    "#<mpileup> Set max per-file depth to 8000\n",
    "header=proc.stdout.readline() \n",
    "header=proc.stdout.readline()\n",
    "while True:\n",
    "    line = proc.stdout.readline().rstrip()\n",
    "    if not line:\n",
    "        break\n",
    "    ar=line.split()\n",
    "    #print (line)\n",
    "    if (len(ar)<5):\n",
    "        continue\n",
    "    depth,ref_count,nonref_count,alt_a,alt_c,alt_g,alt_t,deletion,ins=process_pileup_line(ar)\n",
    "    r=analyze_balance(depth,ref_count,nonref_count)\n",
    "    print(ar[0],ar[1],r,depth,ref_count,nonref_count)"
   ]
  },
  {
   "cell_type": "code",
   "execution_count": null,
   "metadata": {},
   "outputs": [],
   "source": []
  },
  {
   "cell_type": "code",
   "execution_count": null,
   "metadata": {},
   "outputs": [],
   "source": []
  }
 ],
 "metadata": {
  "kernelspec": {
   "display_name": "Python 3",
   "language": "python",
   "name": "python3"
  },
  "language_info": {
   "codemirror_mode": {
    "name": "ipython",
    "version": 3
   },
   "file_extension": ".py",
   "mimetype": "text/x-python",
   "name": "python",
   "nbconvert_exporter": "python",
   "pygments_lexer": "ipython3",
   "version": "3.6.5"
  }
 },
 "nbformat": 4,
 "nbformat_minor": 2
}
